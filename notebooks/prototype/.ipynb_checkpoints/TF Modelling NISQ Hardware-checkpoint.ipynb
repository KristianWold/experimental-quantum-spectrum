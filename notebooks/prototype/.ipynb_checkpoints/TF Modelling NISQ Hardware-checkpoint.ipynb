{
 "cells": [
  {
   "cell_type": "markdown",
   "metadata": {},
   "source": [
    "# Modelling NIQS Hardware TF"
   ]
  },
  {
   "cell_type": "code",
   "execution_count": 1,
   "metadata": {},
   "outputs": [],
   "source": [
    "import sys\n",
    "sys.path.insert(0, '../../src_tf/')\n",
    "\n",
    "import numpy as np\n",
    "import qiskit as qk\n",
    "import matplotlib.pyplot as plt\n",
    "import multiprocessing as mp\n",
    "import random\n",
    "import torch.optim as optim\n",
    "import tensorflow as tf\n",
    "\n",
    "from qiskit.quantum_info import DensityMatrix\n",
    "from qiskit.quantum_info import Operator\n",
    "from scipy.linalg import sqrtm\n",
    "from tqdm.notebook import tqdm\n",
    "\n",
    "from loss_functions import *\n",
    "from optimization import *\n",
    "from quantum_maps import *\n",
    "from quantum_tools import *\n",
    "from experiments import *"
   ]
  },
  {
   "cell_type": "code",
   "execution_count": 2,
   "metadata": {},
   "outputs": [],
   "source": [
    "n = 2\n",
    "d = 2**n\n",
    "rank = 4\n",
    "np.random.seed(42)\n",
    "random.seed(42)\n",
    "tf.random.set_seed(42)\n",
    "\n",
    "kraus_target = KrausMap(\n",
    "#                 U = None,\n",
    "#                 c = None,\n",
    "                 d = d,\n",
    "                 rank = rank,\n",
    "                 trainable = False,\n",
    "                 )"
   ]
  },
  {
   "cell_type": "code",
   "execution_count": 22,
   "metadata": {},
   "outputs": [],
   "source": [
    "N = 540\n",
    "state_index, observ_index = index_generator(n, N, trace=True)\n",
    "\n",
    "input_list = []\n",
    "circuit_list = []\n",
    "for i, j in zip(state_index, observ_index):\n",
    "\n",
    "    config = numberToBase(i, 6, n)\n",
    "    state = tf.cast(prepare_input(config), dtype=tf.complex64)\n",
    "\n",
    "    config = numberToBase(j, 4, n)\n",
    "    observable = tf.cast(pauli_observable(config), dtype=tf.complex64)\n",
    "    \n",
    "    input_list.append([state, observable])\n",
    "    \n",
    "target_list = [measurement(kraus_target.apply_map(input[0])) input in input_list]\n",
    "input_train, input_test = input_list[:440], input_list[440:]\n",
    "target_train, target_test = target_list[:440], target_list[440:] \n",
    "optimizer = tf.optimizers.Adam(learning_rate=0.025)"
   ]
  },
  {
   "cell_type": "code",
   "execution_count": 23,
   "metadata": {},
   "outputs": [],
   "source": [
    "kraus_model = KrausMap(\n",
    "#                 U = None,\n",
    "#                 c = None,\n",
    "                 d = d,\n",
    "                 rank = rank,\n",
    "                 trainable = True,\n",
    "                 )\n",
    "\n",
    "model = ModelQuantumMap(q_map = kraus_model,\n",
    "                        loss = expectation_value_loss,\n",
    "                        input_list = input_list,\n",
    "                        target_list = target_list,\n",
    "                        input_val_list = input_list,\n",
    "                        target_val_list = target_list,\n",
    "                        optimizer = optimizer,\n",
    "                        )"
   ]
  },
  {
   "cell_type": "code",
   "execution_count": null,
   "metadata": {},
   "outputs": [
    {
     "data": {
      "application/vnd.jupyter.widget-view+json": {
       "model_id": "0539d25182734692a3dbe950ead1566a",
       "version_major": 2,
       "version_minor": 0
      },
      "text/plain": [
       "  0%|          | 0/10000 [00:00<?, ?it/s]"
      ]
     },
     "metadata": {},
     "output_type": "display_data"
    },
    {
     "name": "stdout",
     "output_type": "stream",
     "text": [
      "0 0.13023476\n",
      "1 0.12649748\n",
      "2 0.12242707\n",
      "3 0.11849721\n",
      "4 0.11443078\n",
      "5 0.11049978\n",
      "6 0.10661331\n",
      "7 0.10287189\n",
      "8 0.099169314\n",
      "9 0.09561341\n",
      "10 0.092094526\n",
      "11 0.0887929\n",
      "12 0.08552272\n",
      "13 0.08252366\n",
      "14 0.0797007\n",
      "15 0.07694798\n",
      "16 0.07439356\n",
      "17 0.07198018\n",
      "18 0.06973245\n",
      "19 0.0676246\n",
      "20 0.06555672\n",
      "21 0.06360224\n",
      "22 0.061735272\n",
      "23 0.05991928\n"
     ]
    }
   ],
   "source": [
    "model.train(num_iter = 10000, N = 100)"
   ]
  },
  {
   "cell_type": "code",
   "execution_count": null,
   "metadata": {},
   "outputs": [],
   "source": []
  },
  {
   "cell_type": "code",
   "execution_count": null,
   "metadata": {},
   "outputs": [],
   "source": [
    "def apply_map(state, kraus_list):\n",
    "    state = [K@state@tf.linalg.adjoint(K) for K in kraus_list]\n",
    "    state = tf.math.reduce_sum(tf.stack(state), axis=0)\n",
    "    return state\n",
    "\n",
    "\n",
    "def expectation_value(state, observable):\n",
    "    ev = tf.linalg.trace(observable@state)\n",
    "    return ev"
   ]
  },
  {
   "cell_type": "code",
   "execution_count": null,
   "metadata": {},
   "outputs": [],
   "source": [
    "random.seed(42)\n",
    "np.random.seed(42)\n",
    "tf.random.set_seed(42)\n",
    "\n",
    "n = 3\n",
    "d = 2**n\n",
    "rank = 8\n",
    "\n",
    "A = tf.cast(tf.random.normal((rank*d, d), 0, 1), dtype=tf.complex64)\n",
    "B = tf.cast(tf.random.normal((rank*d, d), 0, 1), dtype=tf.complex64)\n",
    "G = A + 1j*B\n",
    "Q, R = tf.linalg.qr(G, full_matrices = False)\n",
    "D = tf.linalg.tensor_diag_part(R)\n",
    "D = tf.math.sign(D)\n",
    "D = tf.linalg.diag(D)\n",
    "U = Q@D\n",
    "\n",
    "\n",
    "kraus_target_list =  [U[i*d:(i+1)*d, :d] for i in range(rank)]"
   ]
  },
  {
   "cell_type": "code",
   "execution_count": null,
   "metadata": {},
   "outputs": [],
   "source": [
    "N = 100\n",
    "state_index, observ_index = index_generator(n, N, trace=False)\n",
    "\n",
    "input_list = []\n",
    "circuit_list = []\n",
    "for i, j in zip(state_index, observ_index):\n",
    "\n",
    "    config = numberToBase(i, 6, n)\n",
    "    state = tf.cast(prepare_input(config), dtype=tf.complex64)\n",
    "\n",
    "    config = numberToBase(j, 3, n)\n",
    "    observable = tf.cast(pauli_observable(config), dtype=tf.complex64)\n",
    "    \n",
    "    input_list.append([state, observable])\n",
    "\n",
    "target_list = [expectation_value(apply_map(input[0], kraus_target_list), input[1]) for input in input_list]\n",
    "optimizer = tf.optimizers.Adam(learning_rate=0.05)"
   ]
  },
  {
   "cell_type": "code",
   "execution_count": null,
   "metadata": {},
   "outputs": [],
   "source": [
    "A = tf.Variable(tf.cast(tf.random.normal((rank*d, d), 0, 1), dtype=tf.complex64), trainable=True)\n",
    "B = tf.Variable(tf.cast(tf.random.normal((rank*d, d), 0, 1), dtype=tf.complex64), trainable=True)\n",
    "\n",
    "for i in range(1000):\n",
    "    with tf.GradientTape() as tape:\n",
    "        G = A + 1j*B\n",
    "        Q, R = tf.linalg.qr(G, full_matrices = False)\n",
    "        D = tf.linalg.tensor_diag_part(R)\n",
    "        D = tf.math.sign(D)\n",
    "        D = tf.linalg.diag(D)\n",
    "        U = Q@D\n",
    "\n",
    "        kraus_model_list =  [U[i*d:(i+1)*d, :d] for i in range(rank)]\n",
    "        pred_list = [expectation_value(apply_map(input[0], kraus_model_list), input[1]) for input in input_list]\n",
    "        loss = tf.math.reduce_mean(tf.stack([(target - predicted)**2 for target, predicted in zip(target_list, pred_list)]))\n",
    "\n",
    "    grads = tape.gradient(loss, [A, B])\n",
    "    optimizer.apply_gradients(zip(grads, [A, B]))\n",
    "    \n",
    "    print(f\"loss: {loss: .4f}, {tf.math.reduce_mean(tf.math.abs(G))}\")"
   ]
  },
  {
   "cell_type": "code",
   "execution_count": null,
   "metadata": {},
   "outputs": [],
   "source": [
    "np.random.seed(43)\n",
    "A = np.random.normal(0,1, (2,2))\n",
    "B = np.random.normal(0,1, (2,2))\n",
    "C = np.random.normal(0,1, (2,2))\n",
    "\n",
    "A = A@A.T\n",
    "B = B@B.T\n",
    "C = C@C.T\n",
    "\n",
    "D = A + B + C\n",
    "d = np.linalg.inv(sqrtm(D))\n",
    "A = d@A@d\n",
    "B = d@B@d\n",
    "C = d@C@d"
   ]
  },
  {
   "cell_type": "code",
   "execution_count": null,
   "metadata": {},
   "outputs": [],
   "source": [
    "print(A)\n",
    "print(B)\n",
    "print(C)\n",
    "print(A + B + C)\n",
    "print(np.linalg.eig(A)[0])\n",
    "print(np.linalg.eig(B)[0])\n",
    "print(np.linalg.eig(C)[0])"
   ]
  }
 ],
 "metadata": {
  "kernelspec": {
   "display_name": "env_qiskit",
   "language": "python",
   "name": "env_qiskit"
  },
  "language_info": {
   "codemirror_mode": {
    "name": "ipython",
    "version": 3
   },
   "file_extension": ".py",
   "mimetype": "text/x-python",
   "name": "python",
   "nbconvert_exporter": "python",
   "pygments_lexer": "ipython3",
   "version": "3.7.10"
  }
 },
 "nbformat": 4,
 "nbformat_minor": 4
}
