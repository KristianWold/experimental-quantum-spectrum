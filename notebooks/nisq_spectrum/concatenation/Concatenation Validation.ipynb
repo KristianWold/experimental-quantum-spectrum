{
 "cells": [
  {
   "attachments": {},
   "cell_type": "markdown",
   "metadata": {},
   "source": [
    "# Concatenation with Validation"
   ]
  },
  {
   "cell_type": "code",
   "execution_count": 2,
   "metadata": {},
   "outputs": [],
   "source": [
    "import sys\n",
    "sys.path.insert(0, '../../../src_tf/')\n",
    "\n",
    "import numpy as np\n",
    "import qiskit as qk\n",
    "import matplotlib.pyplot as plt\n",
    "import multiprocessing as mp\n",
    "import random\n",
    "import pickle\n",
    "\n",
    "from qiskit.quantum_info import DensityMatrix, random_unitary\n",
    "from qiskit.quantum_info import Operator\n",
    "from scipy.linalg import sqrtm\n",
    "from tqdm.notebook import tqdm\n",
    "from math import ceil\n",
    "\n",
    "from loss_functions import *\n",
    "from optimization import *\n",
    "from quantum_channel import *\n",
    "from kraus_channels import *\n",
    "from quantum_tools import *\n",
    "from experimental import *\n",
    "from spam import *\n",
    "from scipy.stats import gaussian_kde\n",
    "from quantum_circuits import *\n",
    "\n",
    "#np.set_printoptions(threshold=sys.maxsize)\n",
    "np.set_printoptions(precision=4)\n",
    "\n",
    "import os\n",
    "os.environ[\"CUDA_VISIBLE_DEVICES\"] = \"-1\""
   ]
  },
  {
   "cell_type": "code",
   "execution_count": 3,
   "metadata": {},
   "outputs": [],
   "source": [
    "path1 = '../../../data/'\n",
    "path2 = 'data/'"
   ]
  },
  {
   "cell_type": "code",
   "execution_count": 4,
   "metadata": {},
   "outputs": [],
   "source": [
    "def fit_model(\n",
    "    channel=None,\n",
    "    spam=None,\n",
    "    N_map=None,\n",
    "    N_spam=None,\n",
    "    loss_function=None,\n",
    "    num_iter_pretrain=300,\n",
    "    num_iter_map=2000,\n",
    "    num_iter_spam=2000,\n",
    "    filename=None,\n",
    "    ratio=0.9,\n",
    "    verbose=True,\n",
    "    counts=False,\n",
    "):\n",
    "    if not counts:\n",
    "        inputs_map, targets_map, inputs_spam, targets_spam = pickle.load(\n",
    "            open(filename, \"rb\")\n",
    "        )\n",
    "    else:\n",
    "        inputs_map, inputs_spam, counts = pickle.load(open(filename, \"rb\"))\n",
    "        targets = counts_to_probs(counts)\n",
    "        N = inputs_map[0].shape[0]\n",
    "        targets_map = targets[:N]\n",
    "        targets_spam = targets[N:]\n",
    "\n",
    "    inputs_val_map = None\n",
    "    targets_val_map = None    \n",
    "\n",
    "    if ratio is not None:\n",
    "        inputs_map, targets_map, inputs_val_map, targets_val_map = train_val_split(\n",
    "            inputs_map, targets_map, ratio=ratio\n",
    "        )\n",
    "\n",
    "    if num_iter_pretrain != 0:\n",
    "        spam.pretrain(num_iter=num_iter_pretrain, verbose=False)\n",
    "\n",
    "    spam.train(\n",
    "        inputs=inputs_spam,\n",
    "        targets=targets_spam,\n",
    "        num_iter=num_iter_spam,\n",
    "        N=N_spam,\n",
    "        verbose=verbose,\n",
    "    )\n",
    "\n",
    "    channel.spam = spam\n",
    "    model = ModelQuantumMap(\n",
    "        channel=channel,\n",
    "        loss_function=loss_function,\n",
    "        optimizer=tf.optimizers.Adam(learning_rate=0.01),\n",
    "        logger=Logger(\n",
    "            loss_function=KLDiv(),\n",
    "            loss_function_val=KLDiv(),\n",
    "            verbose=verbose,\n",
    "        ),\n",
    "    )\n",
    "\n",
    "    model.train(\n",
    "        inputs=inputs_map,\n",
    "        targets=targets_map,\n",
    "        inputs_val=inputs_val_map,\n",
    "        targets_val=targets_val_map,\n",
    "        num_iter=num_iter_map,\n",
    "        N=N_map,\n",
    "        verbose=verbose,\n",
    "    )\n",
    "    model.optimizer = None\n",
    "    spam.optimizer = None\n",
    "    model.inputs = None\n",
    "    model.targets = None\n",
    "    # model.inputs_val = None\n",
    "    # model.targets_val = None\n",
    "\n",
    "    return model"
   ]
  },
  {
   "cell_type": "markdown",
   "metadata": {},
   "source": [
    "## Two Layer"
   ]
  },
  {
   "cell_type": "code",
   "execution_count": 6,
   "metadata": {
    "scrolled": true
   },
   "outputs": [
    {
     "data": {
      "application/vnd.jupyter.widget-view+json": {
       "model_id": "ff9b6bcef1f643d882d910c1aa73b9fd",
       "version_major": 2,
       "version_minor": 0
      },
      "text/plain": [
       "  0%|          | 0/10 [00:00<?, ?it/s]"
      ]
     },
     "metadata": {},
     "output_type": "display_data"
    },
    {
     "name": "stdout",
     "output_type": "stream",
     "text": [
      "0.012880254023019266 0.014154086420546158\n",
      "0.014110227124788082 0.0159638888864774\n",
      "0.009923032654485905 0.0117649509074435\n",
      "0.011062618234196993 0.012428395136744392\n",
      "0.01411496241618938 0.01502655919919741\n",
      "0.008410721238439896 0.011252007165153646\n",
      "0.01016280996918193 0.012645087529424913\n",
      "0.01079793200719572 0.012718801833191783\n",
      "0.00931763288573401 0.01084257197532403\n",
      "0.01148415941738357 0.014492220472866333\n",
      "0.009339229031142699 0.011869958931561416\n",
      "0.009314895287541867 0.011637354968385957\n",
      "0.011570483700747595 0.014467075368303273\n",
      "0.012095262524511497 0.01439478597745797\n",
      "0.008618119246340919 0.012100368852485116\n",
      "0.010872562770303176 0.01085517097675284\n",
      "0.012112360139806792 0.013955890975064776\n",
      "0.00931793367056932 0.010961395202497786\n",
      "0.01300447351241134 0.016166179609214147\n",
      "0.03724682326328094 0.017597003846929395\n",
      "0.010595266876999474 0.013169269133175985\n",
      "0.011731524479609004 0.014996746356885499\n",
      "0.014375029685013824 0.01632989845519464\n",
      "0.010576944032724061 0.01457998230318594\n",
      "0.011551031840171908 0.012591731425974768\n",
      "0.01420248362745804 0.015516942379565283\n",
      "0.009933153319926063 0.013125506962365745\n",
      "0.011125696897425787 0.014172218441193573\n",
      "0.009946279997924622 0.011495300339727085\n",
      "0.010310032238524173 0.013098537553514311\n"
     ]
    }
   ],
   "source": [
    "n = 3\n",
    "d = 2**n\n",
    "model_list = []\n",
    "verbose = False\n",
    "\n",
    "np.random.seed(42)\n",
    "random.seed(42)\n",
    "for i in tqdm(range(10)):\n",
    "    model1 =fit_model(channel=KrausMap(d=d, \n",
    "                                       rank=d**2),\n",
    "                      spam=SPAM(init = InitialState(d),\n",
    "                                povm = CorruptionMatrix(d),\n",
    "                                optimizer = tf.optimizers.Adam(learning_rate=0.01),\n",
    "                                ),\n",
    "                      loss_function = ProbabilityMSE(),\n",
    "                      N_map=500,\n",
    "                      N_spam=None,\n",
    "                      num_iter_pretrain=500,\n",
    "                      num_iter_map=2000,\n",
    "                      num_iter_spam=500,\n",
    "                      filename= path1 + f\"belem_concatenate_2layer{i}0\",\n",
    "                      verbose=verbose\n",
    "                      )\n",
    "    \n",
    "    model2 =fit_model(channel=KrausMap(d=d, \n",
    "                                   rank=d**2),\n",
    "                  spam=SPAM(init = InitialState(d),\n",
    "                            povm = CorruptionMatrix(d),\n",
    "                            optimizer = tf.optimizers.Adam(learning_rate=0.01),\n",
    "                            ),\n",
    "                  loss_function = ProbabilityMSE(),\n",
    "                  N_map=500,\n",
    "                  N_spam=None,\n",
    "                  num_iter_pretrain=500,\n",
    "                  num_iter_map=2000,\n",
    "                  num_iter_spam=500,\n",
    "                  filename= path1 + f\"belem_concatenate_2layer{i}1\",\n",
    "                  verbose=verbose\n",
    "                  )\n",
    "\n",
    "    model3 =fit_model(channel=KrausMap(d=d, \n",
    "                                   rank=d**2),\n",
    "                  spam=SPAM(init = InitialState(d),\n",
    "                            povm = CorruptionMatrix(d),\n",
    "                            optimizer = tf.optimizers.Adam(learning_rate=0.01),\n",
    "                            ),\n",
    "                  loss_function = ProbabilityMSE(),\n",
    "                  N_map=500,\n",
    "                  N_spam=None,\n",
    "                  num_iter_pretrain=500,\n",
    "                  num_iter_map=2000,\n",
    "                  num_iter_spam=500,\n",
    "                  filename=path1 + f\"belem_concatenate_2layer{i}2\",\n",
    "                  verbose=verbose\n",
    "                  )\n",
    "    \n",
    "    model_list.extend([model1, model2, model3])\n",
    "\n",
    "saver(model_list, path2 + \"belem_concatenate_2layer_fitted_validation.model\")"
   ]
  },
  {
   "attachments": {},
   "cell_type": "markdown",
   "metadata": {},
   "source": [
    "## Four Layer"
   ]
  },
  {
   "cell_type": "code",
   "execution_count": 6,
   "metadata": {},
   "outputs": [
    {
     "data": {
      "application/vnd.jupyter.widget-view+json": {
       "model_id": "e6bf3c4787574891b98c1184b6d7f34e",
       "version_major": 2,
       "version_minor": 0
      },
      "text/plain": [
       "  0%|          | 0/10 [00:00<?, ?it/s]"
      ]
     },
     "metadata": {},
     "output_type": "display_data"
    }
   ],
   "source": [
    "n = 3\n",
    "d = 2**n\n",
    "model_list = []\n",
    "\n",
    "verbose = False\n",
    "\n",
    "np.random.seed(42)\n",
    "random.seed(42)\n",
    "for i in tqdm(range(10)):\n",
    "    model1 =fit_model(channel=KrausMap(d=d, \n",
    "                                       rank=d**2),\n",
    "                      spam=SPAM(init = InitialState(d),\n",
    "                                povm = CorruptionMatrix(d),\n",
    "                                optimizer = tf.optimizers.Adam(learning_rate=0.01),\n",
    "                                ),\n",
    "                      loss_function = ProbabilityMSE(),\n",
    "                      N_map=500,\n",
    "                      N_spam=None,\n",
    "                      num_iter_pretrain=500,\n",
    "                      num_iter_map=2000,\n",
    "                      num_iter_spam=500,\n",
    "                      filename= path1 + f\"belem_concatenate_4layer{i}0\",\n",
    "                      verbose=verbose\n",
    "                      )\n",
    "    \n",
    "    model2 =fit_model(channel=KrausMap(d=d, \n",
    "                                   rank=d**2),\n",
    "                  spam=SPAM(init = InitialState(d),\n",
    "                            povm = CorruptionMatrix(d),\n",
    "                            optimizer = tf.optimizers.Adam(learning_rate=0.01),\n",
    "                            ),\n",
    "                  loss_function = ProbabilityMSE(),\n",
    "                  N_map=500,\n",
    "                  N_spam=None,\n",
    "                  num_iter_pretrain=500,\n",
    "                  num_iter_map=2000,\n",
    "                  num_iter_spam=500,\n",
    "                  filename= path1 + f\"belem_concatenate_4layer{i}1\",\n",
    "                  verbose=verbose\n",
    "                  )\n",
    "\n",
    "    model3 =fit_model(channel=KrausMap(d=d, \n",
    "                                   rank=d**2),\n",
    "                  spam=SPAM(init = InitialState(d),\n",
    "                            povm = CorruptionMatrix(d),\n",
    "                            optimizer = tf.optimizers.Adam(learning_rate=0.01),\n",
    "                            ),\n",
    "                  loss_function = ProbabilityMSE(),\n",
    "                  N_map=500,\n",
    "                  N_spam=None,\n",
    "                  num_iter_pretrain=500,\n",
    "                  num_iter_map=2000,\n",
    "                  num_iter_spam=500,\n",
    "                  filename=path1 + f\"belem_concatenate_4layer{i}2\",\n",
    "                  verbose=verbose\n",
    "                  )\n",
    "    \n",
    "    model_list.extend([model1, model2, model3])\n",
    "\n",
    "saver(model_list, path2 + \"belem_concatenate_4layer_fitted_validation.model\")"
   ]
  },
  {
   "attachments": {},
   "cell_type": "markdown",
   "metadata": {},
   "source": [
    "## Six Layers"
   ]
  },
  {
   "cell_type": "code",
   "execution_count": null,
   "metadata": {},
   "outputs": [
    {
     "data": {
      "application/vnd.jupyter.widget-view+json": {
       "model_id": "b47eda8c6d30440ca625648e5a851a31",
       "version_major": 2,
       "version_minor": 0
      },
      "text/plain": [
       "  0%|          | 0/10 [00:00<?, ?it/s]"
      ]
     },
     "metadata": {},
     "output_type": "display_data"
    }
   ],
   "source": [
    "n = 3\n",
    "d = 2**n\n",
    "model_list = []\n",
    "verbose = False\n",
    "\n",
    "np.random.seed(42)\n",
    "random.seed(42)\n",
    "for i in tqdm(range(10)):\n",
    "    model1 =fit_model(channel=KrausMap(d=d, \n",
    "                                       rank=d**2),\n",
    "                      spam=SPAM(init = InitialState(d),\n",
    "                                povm = CorruptionMatrix(d),\n",
    "                                optimizer = tf.optimizers.Adam(learning_rate=0.01),\n",
    "                                ),\n",
    "                      loss_function = ProbabilityMSE(),\n",
    "                      N_map=500,\n",
    "                      N_spam=None,\n",
    "                      num_iter_pretrain=500,\n",
    "                      num_iter_map=2000,\n",
    "                      num_iter_spam=500,\n",
    "                      filename= path1 + f\"belem_concatenate_6layer_retry{i}0\",\n",
    "                      verbose=verbose\n",
    "                      )\n",
    "    \n",
    "    model2 =fit_model(channel=KrausMap(d=d, \n",
    "                                   rank=d**2),\n",
    "                  spam=SPAM(init = InitialState(d),\n",
    "                            povm = CorruptionMatrix(d),\n",
    "                            optimizer = tf.optimizers.Adam(learning_rate=0.01),\n",
    "                            ),\n",
    "                  loss_function = ProbabilityMSE(),\n",
    "                  N_map=500,\n",
    "                  N_spam=None,\n",
    "                  num_iter_pretrain=500,\n",
    "                  num_iter_map=2000,\n",
    "                  num_iter_spam=500,\n",
    "                  filename= path1 + f\"belem_concatenate_6layer_retry{i}1\",\n",
    "                  verbose=verbose\n",
    "                  )\n",
    "\n",
    "    model3 =fit_model(channel=KrausMap(d=d, \n",
    "                                   rank=d**2),\n",
    "                  spam=SPAM(init = InitialState(d),\n",
    "                            povm = CorruptionMatrix(d),\n",
    "                            optimizer = tf.optimizers.Adam(learning_rate=0.01),\n",
    "                            ),\n",
    "                  loss_function = ProbabilityMSE(),\n",
    "                  N_map=500,\n",
    "                  N_spam=None,\n",
    "                  num_iter_pretrain=500,\n",
    "                  num_iter_map=2000,\n",
    "                  num_iter_spam=500,\n",
    "                  filename=path1 + f\"belem_concatenate_6layer_retry{i}2\",\n",
    "                  verbose=verbose\n",
    "                  )\n",
    "    \n",
    "    model_list.extend([model1, model2, model3])\n",
    "\n",
    "saver(model_list, path2 + \"belem_concatenate_6layer_fitted_validation.model\")"
   ]
  },
  {
   "attachments": {},
   "cell_type": "markdown",
   "metadata": {},
   "source": [
    "## Eight Layer"
   ]
  },
  {
   "cell_type": "code",
   "execution_count": null,
   "metadata": {},
   "outputs": [
    {
     "data": {
      "application/vnd.jupyter.widget-view+json": {
       "model_id": "baccf863e7a04787bb0382229a82a37e",
       "version_major": 2,
       "version_minor": 0
      },
      "text/plain": [
       "  0%|          | 0/10 [00:00<?, ?it/s]"
      ]
     },
     "metadata": {},
     "output_type": "display_data"
    },
    {
     "name": "stdout",
     "output_type": "stream",
     "text": [
      "0.009559947015991492 0.9610987289096521\n",
      "0.010645205387321917 0.959256943931556\n",
      "0.070443142093342 0.7063998866810717\n",
      "0.010026004848598918 0.959096446283811\n",
      "0.010719861115193735 0.9605564625505422\n",
      "0.007132341922483552 0.9515507776237461\n",
      "0.009096888368549053 0.9601195542165304\n",
      "0.00920100033898436 0.9637090020059166\n",
      "0.007671958389386431 0.9455084877498297\n",
      "0.009431951583558081 0.9643572349975069\n",
      "0.009378547585894391 0.9612869085337533\n",
      "0.007474024099643588 0.9490230026605977\n",
      "0.008590070845308209 0.9622277347453535\n",
      "0.00928101474151017 0.9639085174198805\n",
      "0.007838890894485093 0.9340439045942821\n",
      "0.010161555167365374 0.9597136044290223\n",
      "0.01058715349977579 0.9605331802229485\n",
      "0.007862511084456954 0.9434738927691035\n",
      "0.010429349838781717 0.9525402347342716\n",
      "0.04810534825025958 0.8355729120236783\n",
      "0.007691380015584064 0.9429493536498735\n",
      "0.009789634046802349 0.9590046784002915\n",
      "0.009522279653597154 0.961770792599453\n",
      "0.00769469300301615 0.9461364189307292\n",
      "0.009512937541426035 0.9566437146555505\n",
      "0.009916234174640295 0.9622786350095996\n",
      "0.007623121901036003 0.9463088584001498\n",
      "0.009821009607932639 0.9575999871598887\n",
      "0.010981892426550992 0.9611952671251012\n",
      "0.007710657162971243 0.9473885961328257\n"
     ]
    }
   ],
   "source": [
    "n = 3\n",
    "d = 2**n\n",
    "model_list = []\n",
    "verbose=False\n",
    "np.random.seed(42)\n",
    "random.seed(42)\n",
    "for i in tqdm(range(10)):\n",
    "    model1 =fit_model(channel=KrausMap(d=d, \n",
    "                                       rank=d**2),\n",
    "                      spam=SPAM(init = InitialState(d),\n",
    "                                povm = CorruptionMatrix(d),\n",
    "                                optimizer = tf.optimizers.Adam(learning_rate=0.01),\n",
    "                                ),\n",
    "                      loss_function = ProbabilityMSE(),\n",
    "                      N_map=500,\n",
    "                      N_spam=None,\n",
    "                      num_iter_pretrain=500,\n",
    "                      num_iter_map=2000,\n",
    "                      num_iter_spam=500,\n",
    "                      filename= path1 + f\"belem_concatenate_8layer{i}0\",\n",
    "                      verbose=verbose\n",
    "                      )\n",
    "    \n",
    "    model2 =fit_model(channel=KrausMap(d=d, \n",
    "                                   rank=d**2),\n",
    "                  spam=SPAM(init = InitialState(d),\n",
    "                            povm = CorruptionMatrix(d),\n",
    "                            optimizer = tf.optimizers.Adam(learning_rate=0.01),\n",
    "                            ),\n",
    "                  loss_function = ProbabilityMSE(),\n",
    "                  N_map=500,\n",
    "                  N_spam=None,\n",
    "                  num_iter_pretrain=500,\n",
    "                  num_iter_map=2000,\n",
    "                  num_iter_spam=500,\n",
    "                  filename= path1 + f\"belem_concatenate_8layer{i}1\",\n",
    "                  verbose=verbose\n",
    "                  )\n",
    "\n",
    "    model3 =fit_model(channel=KrausMap(d=d, \n",
    "                                   rank=d**2),\n",
    "                  spam=SPAM(init = InitialState(d),\n",
    "                            povm = CorruptionMatrix(d),\n",
    "                            optimizer = tf.optimizers.Adam(learning_rate=0.01),\n",
    "                            ),\n",
    "                  loss_function = ProbabilityMSE(),\n",
    "                  N_map=500,\n",
    "                  N_spam=None,\n",
    "                  num_iter_pretrain=500,\n",
    "                  num_iter_map=2000,\n",
    "                  num_iter_spam=500,\n",
    "                  filename=path1 + f\"belem_concatenate_8layer{i}2\",\n",
    "                  verbose=verbose\n",
    "                  )\n",
    "    \n",
    "    model_list.extend([model1, model2, model3])\n",
    "\n",
    "saver(model_list, path2 + \"belem_concatenate_8layer_fitted_validation.model\")"
   ]
  },
  {
   "attachments": {},
   "cell_type": "markdown",
   "metadata": {},
   "source": [
    "## Unitary Models"
   ]
  },
  {
   "cell_type": "code",
   "execution_count": 7,
   "metadata": {},
   "outputs": [
    {
     "data": {
      "application/vnd.jupyter.widget-view+json": {
       "model_id": "91a0fd7f4b1e41e6a656fff4c35e559d",
       "version_major": 2,
       "version_minor": 0
      },
      "text/plain": [
       "  0%|          | 0/10 [00:00<?, ?it/s]"
      ]
     },
     "metadata": {},
     "output_type": "display_data"
    },
    {
     "name": "stdout",
     "output_type": "stream",
     "text": [
      "0.009941276679746917 0.011737668506148035\n",
      "0.008666962151443216 0.011225792761737118\n",
      "0.009044053589030574 0.010796976935504589\n",
      "0.009285596226351217 0.011775632845828962\n",
      "0.009036489368027823 0.012114457908952554\n",
      "0.009074251413967878 0.010918835496107466\n",
      "0.010829658228686556 0.013020392235150969\n",
      "0.010543068225402753 0.014359651501799306\n",
      "0.010607064547118409 0.01314456507399788\n",
      "0.010591344792902926 0.012971502690365845\n"
     ]
    }
   ],
   "source": [
    "n = 3\n",
    "d = 2**n\n",
    "model_list = []\n",
    "verbose = False\n",
    "\n",
    "np.random.seed(42)\n",
    "random.seed(42)\n",
    "for i in tqdm(range(10)):\n",
    "\n",
    "    model =fit_model(channel=KrausMap(d=d, \n",
    "                                   rank=d**2),\n",
    "                  spam=SPAM(init = InitialState(d),\n",
    "                            povm = CorruptionMatrix(d),\n",
    "                            optimizer = tf.optimizers.Adam(learning_rate=0.01),\n",
    "                            ),\n",
    "                  loss_function = ProbabilityMSE(),\n",
    "                  N_map=500,\n",
    "                  N_spam=None,\n",
    "                  num_iter_pretrain=500,\n",
    "                  num_iter_map=2000,\n",
    "                  num_iter_spam=500,\n",
    "                  filename=path1 + f\"belem_concatenate_2layer{i}2\",\n",
    "                  verbose=verbose\n",
    "                  )\n",
    "    \n",
    "    model_list.append(model)\n",
    "\n",
    "saver(model_list, path2 + \"belem_concatenate_2layer_fitted_unitary_validation.model\")"
   ]
  },
  {
   "cell_type": "code",
   "execution_count": 8,
   "metadata": {},
   "outputs": [
    {
     "data": {
      "application/vnd.jupyter.widget-view+json": {
       "model_id": "bd2817124cf44793a083c827f3d1e795",
       "version_major": 2,
       "version_minor": 0
      },
      "text/plain": [
       "  0%|          | 0/10 [00:00<?, ?it/s]"
      ]
     },
     "metadata": {},
     "output_type": "display_data"
    },
    {
     "name": "stdout",
     "output_type": "stream",
     "text": [
      "0.007453616269990975 0.009838401763944555\n",
      "0.008728143911772424 0.010603337867021409\n",
      "0.008598339416128784 0.010129804349691011\n",
      "0.008857418954602556 0.01135519434154145\n",
      "0.00754201163451898 0.010724110865143197\n",
      "0.0072588467533717385 0.009756072142343293\n",
      "0.007877432430243997 0.010946398694690874\n",
      "0.006829735183049644 0.009124473267932882\n",
      "0.00778115389612004 0.011305719969063703\n",
      "0.008409434175991918 0.010608780143299272\n"
     ]
    }
   ],
   "source": [
    "n = 3\n",
    "d = 2**n\n",
    "model_list = []\n",
    "verbose = False\n",
    "\n",
    "np.random.seed(42)\n",
    "random.seed(42)\n",
    "for i in tqdm(range(10)):\n",
    "\n",
    "    model =fit_model(channel=KrausMap(d=d, \n",
    "                                   rank=d**2),\n",
    "                  spam=SPAM(init = InitialState(d),\n",
    "                            povm = CorruptionMatrix(d),\n",
    "                            optimizer = tf.optimizers.Adam(learning_rate=0.01),\n",
    "                            ),\n",
    "                  loss_function = ProbabilityMSE(),\n",
    "                  N_map=500,\n",
    "                  N_spam=None,\n",
    "                  num_iter_pretrain=500,\n",
    "                  num_iter_map=2000,\n",
    "                  num_iter_spam=500,\n",
    "                  filename=path1 + f\"belem_concatenate_4layer{i}2\",\n",
    "                  verbose=verbose\n",
    "                  )\n",
    "    \n",
    "    model_list.append(model)\n",
    "\n",
    "saver(model_list, path2 + \"belem_concatenate_4layer_fitted_unitary_validation.model\")"
   ]
  },
  {
   "cell_type": "code",
   "execution_count": 9,
   "metadata": {},
   "outputs": [
    {
     "data": {
      "application/vnd.jupyter.widget-view+json": {
       "model_id": "fcf61bb2278b4edda788fcdf1f4473e7",
       "version_major": 2,
       "version_minor": 0
      },
      "text/plain": [
       "  0%|          | 0/10 [00:00<?, ?it/s]"
      ]
     },
     "metadata": {},
     "output_type": "display_data"
    },
    {
     "name": "stdout",
     "output_type": "stream",
     "text": [
      "0.005081020007860076 0.008127009078692087\n",
      "0.005692399158608174 0.00782466470106713\n",
      "0.005774244238474972 0.008328456101586576\n",
      "0.005344265847063093 0.01750381235365891\n",
      "1.7417980683985543 0.004029658836343039\n",
      "0.148545857801463 0.049394206593945715\n",
      "0.004248111488610959 0.00855257767379092\n",
      "0.0038595174635787538 0.00653416925658373\n",
      "0.002694977293388596 0.00494719331273565\n",
      "0.002483875833981289 0.004595967147921732\n"
     ]
    }
   ],
   "source": [
    "n = 3\n",
    "d = 2**n\n",
    "model_list = []\n",
    "verbose = False\n",
    "\n",
    "np.random.seed(42)\n",
    "random.seed(42)\n",
    "for i in tqdm(range(10)):\n",
    "\n",
    "    model =fit_model(channel=KrausMap(d=d, \n",
    "                                   rank=d**2),\n",
    "                  spam=SPAM(init = InitialState(d),\n",
    "                            povm = CorruptionMatrix(d),\n",
    "                            optimizer = tf.optimizers.Adam(learning_rate=0.01),\n",
    "                            ),\n",
    "                  loss_function = ProbabilityMSE(),\n",
    "                  N_map=500,\n",
    "                  N_spam=None,\n",
    "                  num_iter_pretrain=500,\n",
    "                  num_iter_map=2000,\n",
    "                  num_iter_spam=500,\n",
    "                  filename=path1 + f\"belem_concatenate_6layer{i}2\",\n",
    "                  verbose=verbose\n",
    "                  )\n",
    "    \n",
    "    model_list.append(model)\n",
    "\n",
    "saver(model_list, path2 + \"belem_concatenate_6layer_fitted_unitary_validation.model\")"
   ]
  },
  {
   "cell_type": "code",
   "execution_count": 10,
   "metadata": {},
   "outputs": [
    {
     "data": {
      "application/vnd.jupyter.widget-view+json": {
       "model_id": "543c242865034dbe9c899c7d10c40e7a",
       "version_major": 2,
       "version_minor": 0
      },
      "text/plain": [
       "  0%|          | 0/10 [00:00<?, ?it/s]"
      ]
     },
     "metadata": {},
     "output_type": "display_data"
    },
    {
     "name": "stdout",
     "output_type": "stream",
     "text": [
      "0.04323498721763977 0.012232084699607172\n",
      "0.005423912572729612 0.008037372296650316\n",
      "0.00565504282408742 0.008086033318584835\n",
      "0.005338737751978078 0.00871197672861486\n",
      "0.004859058526872409 0.0076438137671584905\n",
      "0.005243166074346057 0.008319739245609902\n",
      "0.005669891069200863 0.008738881241676568\n",
      "0.005340500925228726 0.008354278483015226\n",
      "0.005617530752401395 0.00845406726301281\n",
      "0.004957098319481476 0.007190221398947205\n"
     ]
    }
   ],
   "source": [
    "n = 3\n",
    "d = 2**n\n",
    "model_list = []\n",
    "verbose = False\n",
    "\n",
    "np.random.seed(42)\n",
    "random.seed(42)\n",
    "for i in tqdm(range(10)):\n",
    "\n",
    "    model =fit_model(channel=KrausMap(d=d, \n",
    "                                   rank=d**2),\n",
    "                  spam=SPAM(init = InitialState(d),\n",
    "                            povm = CorruptionMatrix(d),\n",
    "                            optimizer = tf.optimizers.Adam(learning_rate=0.01),\n",
    "                            ),\n",
    "                  loss_function = ProbabilityMSE(),\n",
    "                  N_map=500,\n",
    "                  N_spam=None,\n",
    "                  num_iter_pretrain=500,\n",
    "                  num_iter_map=2000,\n",
    "                  num_iter_spam=500,\n",
    "                  filename=path1 + f\"belem_concatenate_8layer{i}2\",\n",
    "                  verbose=verbose\n",
    "                  )\n",
    "    \n",
    "    model_list.append(model)\n",
    "\n",
    "saver(model_list, path2 + \"belem_concatenate_8layer_fitted_unitary_validation.model\")"
   ]
  }
 ],
 "metadata": {
  "kernelspec": {
   "display_name": "env_qiskit",
   "language": "python",
   "name": "python3"
  },
  "language_info": {
   "codemirror_mode": {
    "name": "ipython",
    "version": 3
   },
   "file_extension": ".py",
   "mimetype": "text/x-python",
   "name": "python",
   "nbconvert_exporter": "python",
   "pygments_lexer": "ipython3",
   "version": "3.10.4"
  }
 },
 "nbformat": 4,
 "nbformat_minor": 4
}
