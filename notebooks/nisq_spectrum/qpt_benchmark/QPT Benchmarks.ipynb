{
 "cells": [
  {
   "attachments": {},
   "cell_type": "markdown",
   "metadata": {},
   "source": [
    "# Quantum Process Tomography Benchmarks"
   ]
  },
  {
   "cell_type": "code",
   "execution_count": 1,
   "metadata": {},
   "outputs": [],
   "source": [
    "import sys\n",
    "sys.path.insert(0, '../../../src_tf/')\n",
    "\n",
    "import numpy as np\n",
    "import qiskit as qk\n",
    "import matplotlib.pyplot as plt\n",
    "import multiprocessing as mp\n",
    "import random\n",
    "import pickle\n",
    "\n",
    "from qiskit.quantum_info import DensityMatrix, random_unitary\n",
    "from qiskit.quantum_info import Operator\n",
    "from scipy.linalg import sqrtm\n",
    "from tqdm.notebook import tqdm\n",
    "\n",
    "from loss_functions import *\n",
    "from optimization import *\n",
    "from quantum_channel import *\n",
    "from kraus_channels import *\n",
    "from lindblad_channels import *\n",
    "from quantum_tools import *\n",
    "from experimental import *\n",
    "from spam import *\n",
    "\n",
    "#np.set_printoptions(threshold=sys.maxsize)\n",
    "np.set_printoptions(precision=4)\n",
    "\n",
    "import os\n",
    "os.environ[\"CUDA_VISIBLE_DEVICES\"] = \"-1\""
   ]
  },
  {
   "attachments": {},
   "cell_type": "markdown",
   "metadata": {},
   "source": [
    "## Recover Map\n",
    "\n",
    "### Generate True Model, Full POVM and Inital"
   ]
  },
  {
   "cell_type": "code",
   "execution_count": 2,
   "metadata": {},
   "outputs": [],
   "source": [
    "def generate_spam_benchmark(n=3, c1=1, c2=1):\n",
    "    d = 2**n\n",
    "\n",
    "    init_target = InitialState(d, c=c1)\n",
    "    povm_target = POVM(d, c=c2)\n",
    "\n",
    "    spam_target = SPAM(init = init_target,\n",
    "                       povm = povm_target)\n",
    "    \n",
    "    return spam_target\n",
    "\n",
    "\n",
    "def generate_spam_data(spam_target, N_spam=None, shots=1024):\n",
    "    n = int(np.log2(spam_target.d))\n",
    "    inputs_spam, _ = generate_pauliInput_circuits(n)\n",
    "    N_spam = inputs_spam.shape[0]\n",
    "\n",
    "    state = tf.repeat(spam_target.init.init[None,:,:], N_spam, axis=0)\n",
    "    targets_spam = measurement(state, U_basis = inputs_spam, povm = spam_target.povm.povm)\n",
    "\n",
    "    #add noise\n",
    "    targets_spam = add_shot_noise(targets_spam, shots = shots)\n",
    "    return inputs_spam, targets_spam\n",
    "\n",
    "\n",
    "def generate_map_data(channel_target, spam_target, N_map=None, shots=1024, grid=True, batch_size=1000):\n",
    "    n = int(np.log2(channel_target.d))\n",
    "    inputs_map, _ = generate_pauli_circuits(n = n, \n",
    "                                            circuit_target=None,  \n",
    "                                            N=N_map,\n",
    "                                            grid=grid)\n",
    "    U_prep, U_basis = inputs_map\n",
    "\n",
    "    N_map = U_prep.shape[0]\n",
    "    \n",
    "    targets_map = []\n",
    "    for batch_num in range(N_map//batch_size + 1):\n",
    "\n",
    "        U_prep_batch = U_prep[batch_num*batch_size:(batch_num+1)*batch_size]\n",
    "        U_basis_batch = U_basis[batch_num*batch_size:(batch_num+1)*batch_size]\n",
    "        batch_size_current = U_prep_batch.shape[0]\n",
    "\n",
    "        state = tf.repeat(tf.expand_dims(spam_target.init.init, axis=0), batch_size_current, axis=0)\n",
    "        state = apply_unitary(state, U_prep_batch)\n",
    "        state = channel_target.apply_channel(state)\n",
    "        probs = measurement(state, U_basis_batch, spam_target.povm.povm)\n",
    "        probs = add_shot_noise(probs, shots = shots)\n",
    "        targets_map.append(probs)\n",
    "    \n",
    "    targets_map = tf.concat(targets_map, axis=0)\n",
    "\n",
    "    return inputs_map, targets_map"
   ]
  },
  {
   "attachments": {},
   "cell_type": "markdown",
   "metadata": {},
   "source": [
    "## Three Qubits"
   ]
  },
  {
   "attachments": {},
   "cell_type": "markdown",
   "metadata": {},
   "source": [
    "### Generate Synthetic Data with Noise"
   ]
  },
  {
   "cell_type": "code",
   "execution_count": 8,
   "metadata": {},
   "outputs": [],
   "source": [
    "n = 1\n",
    "d = 2**n\n",
    "np.random.seed(42)\n",
    "random.seed(42)\n",
    "tf.random.set_seed(42)\n",
    "\n",
    "spam_target1 = generate_spam_benchmark(n=n, c1=0.8, c2=0.8)\n",
    "inputs_spam1, targets_spam1 = generate_spam_data(spam_target1, N_spam=None, shots=1024)\n",
    "\n",
    "channel_target1 = DilutedKrausMap(U = generate_unitary(d), \n",
    "                                  c = 0.5,\n",
    "                                  kraus_part = KrausMap(d=d, \n",
    "                                                        rank=d),\n",
    "                                  )\n",
    "\n",
    "#inputs_map1, targets_map1 = generate_map_data(channel_target1, spam_target1, N_map = 18, shots=20000)\n",
    "inputs_map1, targets_map1 = generate_map_data(channel_target1, IdealSPAM(d), N_map = 18, shots=20000)\n",
    "\n",
    "#saver(channel_target1, \"data/three_qubit_channel_target.model\")"
   ]
  },
  {
   "cell_type": "markdown",
   "metadata": {},
   "source": [
    "### Fit SPAM"
   ]
  },
  {
   "cell_type": "code",
   "execution_count": 4,
   "metadata": {},
   "outputs": [],
   "source": [
    "np.random.seed(43)\n",
    "random.seed(43)\n",
    "tf.random.set_seed(43)\n",
    "\n",
    "spam_model1 = SPAM(init = InitialState(d),\n",
    "                  povm = CorruptionMatrix(d),\n",
    "                  loss_function = ProbabilityMSE(),\n",
    "                  optimizer = tf.optimizers.Adam(learning_rate=0.01)\n",
    "                 )\n",
    "\n",
    "spam_model1.pretrain(num_iter = 500, verbose=False)\n",
    "\n",
    "spam_model1.train(inputs = inputs_spam1,\n",
    "                  targets = targets_spam1,\n",
    "                  num_iter = 1000,\n",
    "                  verbose = False,\n",
    "                 )"
   ]
  },
  {
   "cell_type": "markdown",
   "metadata": {},
   "source": [
    "### Fit Quantum Channel"
   ]
  },
  {
   "cell_type": "code",
   "execution_count": 9,
   "metadata": {},
   "outputs": [
    {
     "data": {
      "application/vnd.jupyter.widget-view+json": {
       "model_id": "93feeb7123394fec852cf7bdae7bcc7e",
       "version_major": 2,
       "version_minor": 0
      },
      "text/plain": [
       "  0%|          | 0/10 [00:00<?, ?it/s]"
      ]
     },
     "metadata": {},
     "output_type": "display_data"
    }
   ],
   "source": [
    "np.random.seed(43)\n",
    "random.seed(43)\n",
    "tf.random.set_seed(43)\n",
    "\n",
    "model_list1 = []\n",
    "reps = 10\n",
    "for i in tqdm(range(reps)):\n",
    "\n",
    "    model = ModelQuantumMap(channel = KrausMap(d = d, \n",
    "                                                rank = d**2,\n",
    "                                                spam = IdealSPAM(d),\n",
    "                                                ),\n",
    "                            loss_function = ProbabilityMSE(),\n",
    "                            optimizer = tf.optimizers.Adam(learning_rate=0.01),\n",
    "                            logger = Logger(loss_function=ProbabilityRValue(),\n",
    "                                            loss_function_val = channel_fidelity_loss,\n",
    "                                            sample_freq=10,\n",
    "                                            N=500),\n",
    "                        )\n",
    "\n",
    "    model.train(inputs = inputs_map1,\n",
    "                targets = targets_map1,\n",
    "                inputs_val = None,\n",
    "                targets_val = [channel_target1],\n",
    "                num_iter = 2000,\n",
    "                N = 500,\n",
    "                verbose=True,\n",
    "            )\n",
    "    \n",
    "    model = model_remove_gradients(model)\n",
    "    \n",
    "    model_list1.append(model)"
   ]
  },
  {
   "cell_type": "code",
   "execution_count": 43,
   "metadata": {},
   "outputs": [],
   "source": [
    "saver(model_list1, \"data/three_qubit_benchmark.model\")"
   ]
  },
  {
   "cell_type": "markdown",
   "metadata": {},
   "source": [
    "## Four Qubits"
   ]
  },
  {
   "cell_type": "markdown",
   "metadata": {},
   "source": [
    "### Generate synthetic data with noise"
   ]
  },
  {
   "cell_type": "code",
   "execution_count": 19,
   "metadata": {},
   "outputs": [],
   "source": [
    "n = 4\n",
    "d = 2**n\n",
    "np.random.seed(42)\n",
    "random.seed(42)\n",
    "tf.random.set_seed(42)\n",
    "\n",
    "spam_target2 = generate_spam_benchmark(n=n, c1=0.8, c2=0.8)\n",
    "inputs_spam2, targets_spam2 = generate_spam_data(spam_target2, N_spam=None, shots=1024)\n",
    "\n",
    "channel_target2 = DilutedKrausMap(U = generate_unitary(d), \n",
    "                                  c = 0.5,\n",
    "                                  kraus_part = KrausMap(d=d, \n",
    "                                                        rank=d),\n",
    "                                  )\n",
    "\n",
    "inputs_map2, targets_map2 = generate_map_data(channel_target2, spam_target2, N_map = 10000-6**n, shots=1024, batch_size=1000)\n",
    "\n",
    "saver(channel_target2, \"data/four_qubit_channel_target.model\")"
   ]
  },
  {
   "cell_type": "markdown",
   "metadata": {},
   "source": [
    "### Fit SPAM"
   ]
  },
  {
   "cell_type": "code",
   "execution_count": 20,
   "metadata": {},
   "outputs": [
    {
     "data": {
      "application/vnd.jupyter.widget-view+json": {
       "model_id": "b75cf9ae0e2246f68422b569922d471b",
       "version_major": 2,
       "version_minor": 0
      },
      "text/plain": [
       "  0%|          | 0/1000 [00:00<?, ?it/s]"
      ]
     },
     "metadata": {},
     "output_type": "display_data"
    },
    {
     "name": "stdout",
     "output_type": "stream",
     "text": [
      "step 0: loss = 0.0172\n",
      "step 100: loss = 0.0009\n",
      "step 200: loss = 0.0009\n",
      "step 300: loss = 0.0009\n",
      "step 400: loss = 0.0009\n",
      "step 500: loss = 0.0009\n",
      "step 600: loss = 0.0009\n",
      "step 700: loss = 0.0009\n",
      "step 800: loss = 0.0009\n",
      "step 900: loss = 0.0009\n"
     ]
    }
   ],
   "source": [
    "np.random.seed(43)\n",
    "random.seed(43)\n",
    "tf.random.set_seed(43)\n",
    "\n",
    "spam_model2 = SPAM(init = InitialState(d),\n",
    "                  povm = CorruptionMatrix(d),\n",
    "                  loss_function = ProbabilityMSE(),\n",
    "                  optimizer = tf.optimizers.Adam(learning_rate=0.01)\n",
    "                 )\n",
    "\n",
    "spam_model2.pretrain(num_iter = 500, verbose=False)\n",
    "\n",
    "spam_model2.train(inputs = inputs_spam2,\n",
    "                  targets = targets_spam2,\n",
    "                  num_iter = 1000,\n",
    "                  verbose = True,\n",
    "                 )"
   ]
  },
  {
   "cell_type": "markdown",
   "metadata": {},
   "source": [
    "### Fit Quantum Channel"
   ]
  },
  {
   "cell_type": "code",
   "execution_count": 26,
   "metadata": {},
   "outputs": [
    {
     "data": {
      "application/vnd.jupyter.widget-view+json": {
       "model_id": "659f4d5ac31c4ed786d9d203535a6ca9",
       "version_major": 2,
       "version_minor": 0
      },
      "text/plain": [
       "  0%|          | 0/1 [00:00<?, ?it/s]"
      ]
     },
     "metadata": {},
     "output_type": "display_data"
    },
    {
     "data": {
      "application/vnd.jupyter.widget-view+json": {
       "model_id": "31b87b32a5e1448b8b6d2ea8fce09b1b",
       "version_major": 2,
       "version_minor": 0
      },
      "text/plain": [
       "  0%|          | 0/4000 [00:00<?, ?it/s]"
      ]
     },
     "metadata": {},
     "output_type": "display_data"
    },
    {
     "name": "stdout",
     "output_type": "stream",
     "text": [
      "-0.012084975177130586 -0.04727783162063984\n",
      "0.4902575924413417 -0.18147941692048447\n",
      "0.8230102242516443 -0.3913869504277557\n",
      "0.8422411892909888 -0.4535698006302818\n",
      "0.8567639081958108 -0.5010340377239283\n",
      "0.860300635410155 -0.5442657154100805\n",
      "0.8626014463309566 -0.5827730978927838\n",
      "0.8724187243911541 -0.6165278626844473\n",
      "0.8682209524124747 -0.6452221836784513\n",
      "0.8731909028653722 -0.6680559847016435\n",
      "0.8763677361706633 -0.6881218490976555\n",
      "0.8686706323780529 -0.7048756307835412\n",
      "0.8753951441588387 -0.7181306844315237\n",
      "0.8775671463548828 -0.7292910595823852\n",
      "0.8771801412866731 -0.7390316375156958\n",
      "0.8710221310193844 -0.7459789898447029\n",
      "0.8767348667364228 -0.7521851074323261\n",
      "0.8750464274806875 -0.7576123734884442\n",
      "0.8731433230023202 -0.7619315940378866\n",
      "0.8818657757450837 -0.7656652762417911\n",
      "0.8748051349322205 -0.7689665609279888\n",
      "0.880745898245745 -0.7719745166546483\n",
      "0.8832597209368509 -0.773738890485677\n",
      "0.8746537860547113 -0.7758206275144583\n",
      "0.8767237235173728 -0.7780146017654467\n",
      "0.8805556288388069 -0.7798380375535238\n",
      "0.8825145254045916 -0.7810614678465793\n",
      "0.8793614894934649 -0.7820676217125135\n",
      "0.8759131288209885 -0.7825788231683057\n",
      "0.8807549633359538 -0.783915887468818\n",
      "0.8825354540983189 -0.7842674567597098\n",
      "0.8738241619000724 -0.7843819581834063\n",
      "0.8805002579976636 -0.7852842635245091\n",
      "0.8749702523807317 -0.7863514845547918\n",
      "0.877534661951677 -0.786355613593033\n",
      "0.8743477261726641 -0.7868005991926293\n",
      "0.8724143053898002 -0.7875572122784956\n",
      "0.876656994800201 -0.7876874803245876\n",
      "0.872328626634759 -0.7881114206229072\n",
      "0.877692359453672 -0.7886771202016509\n",
      "0.8803858820902823 -0.7890450805031947\n"
     ]
    }
   ],
   "source": [
    "np.random.seed(43)\n",
    "random.seed(43)\n",
    "tf.random.set_seed(43)\n",
    "\n",
    "model_list2 = []\n",
    "reps = 1\n",
    "for i in tqdm(range(reps)):\n",
    "    model = ModelQuantumMap(channel = KrausMap(d = d, \n",
    "                                                rank = d**2,\n",
    "                                                spam = spam_model2,\n",
    "                                                ),\n",
    "                            loss_function = ProbabilityMSE(),\n",
    "                            optimizer = tf.optimizers.Adam(learning_rate=0.01),\n",
    "                            logger = Logger(loss_function=ProbabilityRValue(),\n",
    "                                            loss_function_val = channel_fidelity_loss,\n",
    "                                            sample_freq=100,\n",
    "                                            N = 500),\n",
    "                        )\n",
    "\n",
    "    model.train(inputs = inputs_map2,\n",
    "                targets = targets_map2,\n",
    "                inputs_val = None,\n",
    "                targets_val = [channel_target2],\n",
    "                num_iter = 4000,\n",
    "                N = 500,\n",
    "                verbose=True,\n",
    "            )\n",
    "    \n",
    "    model = model_remove_gradients(model)\n",
    "    \n",
    "    model_list2.append(model)"
   ]
  },
  {
   "cell_type": "code",
   "execution_count": 27,
   "metadata": {},
   "outputs": [],
   "source": [
    "saver(model_list2, \"data/four_qubit_benchmark.model\")"
   ]
  }
 ],
 "metadata": {
  "kernelspec": {
   "display_name": "env_qiskit",
   "language": "python",
   "name": "python3"
  },
  "language_info": {
   "codemirror_mode": {
    "name": "ipython",
    "version": 3
   },
   "file_extension": ".py",
   "mimetype": "text/x-python",
   "name": "python",
   "nbconvert_exporter": "python",
   "pygments_lexer": "ipython3",
   "version": "3.10.4"
  }
 },
 "nbformat": 4,
 "nbformat_minor": 4
}
