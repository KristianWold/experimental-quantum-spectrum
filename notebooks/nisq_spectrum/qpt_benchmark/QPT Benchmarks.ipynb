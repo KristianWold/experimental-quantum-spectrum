{
 "cells": [
  {
   "attachments": {},
   "cell_type": "markdown",
   "metadata": {},
   "source": [
    "# Quantum Process Tomography Benchmarks"
   ]
  },
  {
   "cell_type": "code",
   "execution_count": 1,
   "metadata": {},
   "outputs": [],
   "source": [
    "import sys\n",
    "sys.path.insert(0, '../../../src_tf/')\n",
    "\n",
    "import numpy as np\n",
    "import qiskit as qk\n",
    "import matplotlib.pyplot as plt\n",
    "import multiprocessing as mp\n",
    "import random\n",
    "import pickle\n",
    "\n",
    "from qiskit.quantum_info import DensityMatrix, random_unitary\n",
    "from qiskit.quantum_info import Operator\n",
    "from scipy.linalg import sqrtm\n",
    "from tqdm.notebook import tqdm\n",
    "\n",
    "from loss_functions import *\n",
    "from optimization import *\n",
    "from quantum_channel import *\n",
    "from kraus_channels import *\n",
    "from lindblad_channels import *\n",
    "from quantum_tools import *\n",
    "from experimental import *\n",
    "from spam import *\n",
    "\n",
    "#np.set_printoptions(threshold=sys.maxsize)\n",
    "np.set_printoptions(precision=4)\n",
    "\n",
    "import os\n",
    "os.environ[\"CUDA_VISIBLE_DEVICES\"] = \"-1\""
   ]
  },
  {
   "attachments": {},
   "cell_type": "markdown",
   "metadata": {},
   "source": [
    "## Recover Map\n",
    "\n",
    "### Generate True Model, Full POVM and Inital"
   ]
  },
  {
   "cell_type": "code",
   "execution_count": 3,
   "metadata": {},
   "outputs": [],
   "source": [
    "def generate_spam_benchmark(n=3, c1=1, c2=1):\n",
    "    d = 2**n\n",
    "\n",
    "    init_target = InitialState(d, c=c1)\n",
    "    povm_target = POVM(d, c=c2)\n",
    "\n",
    "    spam_target = SPAM(init = init_target,\n",
    "                       povm = povm_target)\n",
    "    \n",
    "    return spam_target\n",
    "\n",
    "\n",
    "def generate_spam_data(spam_target, N_spam=None, shots=1024):\n",
    "    n = int(np.log2(spam_target.d))\n",
    "    inputs_spam, _ = generate_pauliInput_circuits(n)\n",
    "    N_spam = inputs_spam.shape[0]\n",
    "\n",
    "    state = tf.repeat(spam_target.init.init[None,:,:], N_spam, axis=0)\n",
    "    targets_spam = measurement(state, U_basis = inputs_spam, povm = spam_target.povm.povm)\n",
    "\n",
    "    #add noise\n",
    "    targets_spam = add_shot_noise(targets_spam, shots = shots)\n",
    "    return inputs_spam, targets_spam\n",
    "\n",
    "\n",
    "def generate_map_data(channel_target, spam_target, N_map=None, shots=1024, grid=True, batch_size=1000):\n",
    "    n = int(np.log2(channel_target.d))\n",
    "    inputs_map, _ = generate_pauli_circuits(n = n, \n",
    "                                            circuit_target=None,  \n",
    "                                            N=N_map,\n",
    "                                            grid=grid)\n",
    "    U_prep, U_basis = inputs_map\n",
    "\n",
    "    N_map = U_prep.shape[0]\n",
    "    \n",
    "    targets_map = []\n",
    "    for batch_num in range(N_map//batch_size + 1):\n",
    "\n",
    "        U_prep_batch = U_prep[batch_num*batch_size:(batch_num+1)*batch_size]\n",
    "        U_basis_batch = U_basis[batch_num*batch_size:(batch_num+1)*batch_size]\n",
    "        batch_size_current = U_prep_batch.shape[0]\n",
    "\n",
    "        state = tf.repeat(tf.expand_dims(spam_target.init.init, axis=0), batch_size_current, axis=0)\n",
    "        state = apply_unitary(state, U_prep_batch)\n",
    "        state = channel_target.apply_channel(state)\n",
    "        probs = measurement(state, U_basis_batch, spam_target.povm.povm)\n",
    "        probs = add_shot_noise(probs, shots = shots)\n",
    "        targets_map.append(probs)\n",
    "    \n",
    "    targets_map = tf.concat(targets_map, axis=0)\n",
    "\n",
    "    return inputs_map, targets_map"
   ]
  },
  {
   "attachments": {},
   "cell_type": "markdown",
   "metadata": {},
   "source": [
    "## Three Qubits"
   ]
  },
  {
   "attachments": {},
   "cell_type": "markdown",
   "metadata": {},
   "source": [
    "### Generate Synthetic Data with Noise"
   ]
  },
  {
   "cell_type": "code",
   "execution_count": 2,
   "metadata": {},
   "outputs": [
    {
     "ename": "NameError",
     "evalue": "name 'generate_map_data' is not defined",
     "output_type": "error",
     "traceback": [
      "\u001b[1;31m---------------------------------------------------------------------------\u001b[0m",
      "\u001b[1;31mNameError\u001b[0m                                 Traceback (most recent call last)",
      "\u001b[1;32mc:\\Users\\krist\\Documents\\ModelNISQ\\notebooks\\nisq_spectrum\\qpt_benchmark\\QPT Benchmarks.ipynb Cell 7\u001b[0m in \u001b[0;36m<cell line: 16>\u001b[1;34m()\u001b[0m\n\u001b[0;32m      <a href='vscode-notebook-cell:/c%3A/Users/krist/Documents/ModelNISQ/notebooks/nisq_spectrum/qpt_benchmark/QPT%20Benchmarks.ipynb#W6sZmlsZQ%3D%3D?line=7'>8</a>\u001b[0m inputs_spam1, targets_spam1 \u001b[39m=\u001b[39m generate_spam_data(spam_target1, N_spam\u001b[39m=\u001b[39m\u001b[39mNone\u001b[39;00m, shots\u001b[39m=\u001b[39m\u001b[39m1024\u001b[39m)\n\u001b[0;32m     <a href='vscode-notebook-cell:/c%3A/Users/krist/Documents/ModelNISQ/notebooks/nisq_spectrum/qpt_benchmark/QPT%20Benchmarks.ipynb#W6sZmlsZQ%3D%3D?line=9'>10</a>\u001b[0m channel_target1 \u001b[39m=\u001b[39m DilutedKrausMap(U \u001b[39m=\u001b[39m generate_unitary(d), \n\u001b[0;32m     <a href='vscode-notebook-cell:/c%3A/Users/krist/Documents/ModelNISQ/notebooks/nisq_spectrum/qpt_benchmark/QPT%20Benchmarks.ipynb#W6sZmlsZQ%3D%3D?line=10'>11</a>\u001b[0m                                   c \u001b[39m=\u001b[39m \u001b[39m0.5\u001b[39m,\n\u001b[0;32m     <a href='vscode-notebook-cell:/c%3A/Users/krist/Documents/ModelNISQ/notebooks/nisq_spectrum/qpt_benchmark/QPT%20Benchmarks.ipynb#W6sZmlsZQ%3D%3D?line=11'>12</a>\u001b[0m                                   kraus_part \u001b[39m=\u001b[39m KrausMap(d\u001b[39m=\u001b[39md, \n\u001b[0;32m     <a href='vscode-notebook-cell:/c%3A/Users/krist/Documents/ModelNISQ/notebooks/nisq_spectrum/qpt_benchmark/QPT%20Benchmarks.ipynb#W6sZmlsZQ%3D%3D?line=12'>13</a>\u001b[0m                                                         rank\u001b[39m=\u001b[39md),\n\u001b[0;32m     <a href='vscode-notebook-cell:/c%3A/Users/krist/Documents/ModelNISQ/notebooks/nisq_spectrum/qpt_benchmark/QPT%20Benchmarks.ipynb#W6sZmlsZQ%3D%3D?line=13'>14</a>\u001b[0m                                   )\n\u001b[1;32m---> <a href='vscode-notebook-cell:/c%3A/Users/krist/Documents/ModelNISQ/notebooks/nisq_spectrum/qpt_benchmark/QPT%20Benchmarks.ipynb#W6sZmlsZQ%3D%3D?line=15'>16</a>\u001b[0m inputs_map1, targets_map1 \u001b[39m=\u001b[39m generate_map_data(channel_target1, spam_target1, N_map \u001b[39m=\u001b[39m \u001b[39m2000\u001b[39m\u001b[39m-\u001b[39m\u001b[39m6\u001b[39m\u001b[39m*\u001b[39m\u001b[39m*\u001b[39mn, shots\u001b[39m=\u001b[39m\u001b[39m1024\u001b[39m, batch_size\u001b[39m=\u001b[39m\u001b[39m1000\u001b[39m)\n\u001b[0;32m     <a href='vscode-notebook-cell:/c%3A/Users/krist/Documents/ModelNISQ/notebooks/nisq_spectrum/qpt_benchmark/QPT%20Benchmarks.ipynb#W6sZmlsZQ%3D%3D?line=17'>18</a>\u001b[0m saver(channel_target1, \u001b[39m\"\u001b[39m\u001b[39mdata/three_qubit_channel_target.model\u001b[39m\u001b[39m\"\u001b[39m)\n",
      "\u001b[1;31mNameError\u001b[0m: name 'generate_map_data' is not defined"
     ]
    }
   ],
   "source": [
    "n = 3\n",
    "d = 2**n\n",
    "np.random.seed(42)\n",
    "random.seed(42)\n",
    "tf.random.set_seed(42)\n",
    "\n",
    "spam_target1 = generate_spam_benchmark(n=n, c1=0.8, c2=0.8)\n",
    "inputs_spam1, targets_spam1 = generate_spam_data(spam_target1, N_spam=None, shots=1024)\n",
    "\n",
    "channel_target1 = DilutedKrausMap(U = generate_unitary(d), \n",
    "                                  c = 0.5,\n",
    "                                  kraus_part = KrausMap(d=d, \n",
    "                                                        rank=d),\n",
    "                                  )\n",
    "\n",
    "inputs_map1, targets_map1 = generate_map_data(channel_target1, spam_target1, N_map = 2000-6**n, shots=1024, batch_size=1000)\n",
    "\n",
    "saver(channel_target1, \"data/three_qubit_channel_target.model\")"
   ]
  },
  {
   "cell_type": "markdown",
   "metadata": {},
   "source": [
    "### Fit SPAM"
   ]
  },
  {
   "cell_type": "code",
   "execution_count": 41,
   "metadata": {},
   "outputs": [],
   "source": [
    "np.random.seed(43)\n",
    "random.seed(43)\n",
    "tf.random.set_seed(43)\n",
    "\n",
    "spam_model1 = SPAM(init = InitialState(d),\n",
    "                  povm = CorruptionMatrix(d),\n",
    "                  loss_function = ProbabilityMSE(),\n",
    "                  optimizer = tf.optimizers.Adam(learning_rate=0.01)\n",
    "                 )\n",
    "\n",
    "spam_model1.pretrain(num_iter = 500, verbose=False)\n",
    "\n",
    "spam_model1.train(inputs = inputs_spam1,\n",
    "                  targets = targets_spam1,\n",
    "                  num_iter = 1000,\n",
    "                  verbose = False,\n",
    "                 )"
   ]
  },
  {
   "cell_type": "markdown",
   "metadata": {},
   "source": [
    "### Fit Quantum Channel"
   ]
  },
  {
   "cell_type": "code",
   "execution_count": 42,
   "metadata": {},
   "outputs": [
    {
     "data": {
      "application/vnd.jupyter.widget-view+json": {
       "model_id": "fd5cffbdc3654eacac5679d9e624c34a",
       "version_major": 2,
       "version_minor": 0
      },
      "text/plain": [
       "  0%|          | 0/10 [00:00<?, ?it/s]"
      ]
     },
     "metadata": {},
     "output_type": "display_data"
    },
    {
     "name": "stdout",
     "output_type": "stream",
     "text": [
      "0.9313601797770965 -0.8646359623634939\n",
      "0.9333396740408462 -0.8621163812739281\n",
      "0.9324091557268159 -0.8655668199530578\n",
      "0.9328140014137636 -0.8642099533932946\n"
     ]
    },
    {
     "ename": "KeyboardInterrupt",
     "evalue": "",
     "output_type": "error",
     "traceback": [
      "\u001b[1;31m---------------------------------------------------------------------------\u001b[0m",
      "\u001b[1;31mKeyboardInterrupt\u001b[0m                         Traceback (most recent call last)",
      "\u001b[1;32mc:\\Users\\krist\\Documents\\ModelNISQ\\notebooks\\nisq_spectrum\\qpt_benchmark\\QPT Benchmarks.ipynb Cell 11\u001b[0m in \u001b[0;36m<cell line: 7>\u001b[1;34m()\u001b[0m\n\u001b[0;32m      <a href='vscode-notebook-cell:/c%3A/Users/krist/Documents/ModelNISQ/notebooks/nisq_spectrum/qpt_benchmark/QPT%20Benchmarks.ipynb#X14sZmlsZQ%3D%3D?line=6'>7</a>\u001b[0m \u001b[39mfor\u001b[39;00m i \u001b[39min\u001b[39;00m tqdm(\u001b[39mrange\u001b[39m(reps)):\n\u001b[0;32m      <a href='vscode-notebook-cell:/c%3A/Users/krist/Documents/ModelNISQ/notebooks/nisq_spectrum/qpt_benchmark/QPT%20Benchmarks.ipynb#X14sZmlsZQ%3D%3D?line=8'>9</a>\u001b[0m     model \u001b[39m=\u001b[39m ModelQuantumMap(channel \u001b[39m=\u001b[39m KrausMap(d \u001b[39m=\u001b[39m d, \n\u001b[0;32m     <a href='vscode-notebook-cell:/c%3A/Users/krist/Documents/ModelNISQ/notebooks/nisq_spectrum/qpt_benchmark/QPT%20Benchmarks.ipynb#X14sZmlsZQ%3D%3D?line=9'>10</a>\u001b[0m                                                 rank \u001b[39m=\u001b[39m d\u001b[39m*\u001b[39m\u001b[39m*\u001b[39m\u001b[39m2\u001b[39m,\n\u001b[0;32m     <a href='vscode-notebook-cell:/c%3A/Users/krist/Documents/ModelNISQ/notebooks/nisq_spectrum/qpt_benchmark/QPT%20Benchmarks.ipynb#X14sZmlsZQ%3D%3D?line=10'>11</a>\u001b[0m                                                 spam \u001b[39m=\u001b[39m spam_model1,\n\u001b[1;32m   (...)\u001b[0m\n\u001b[0;32m     <a href='vscode-notebook-cell:/c%3A/Users/krist/Documents/ModelNISQ/notebooks/nisq_spectrum/qpt_benchmark/QPT%20Benchmarks.ipynb#X14sZmlsZQ%3D%3D?line=16'>17</a>\u001b[0m                                             sample_freq\u001b[39m=\u001b[39m\u001b[39m10\u001b[39m),\n\u001b[0;32m     <a href='vscode-notebook-cell:/c%3A/Users/krist/Documents/ModelNISQ/notebooks/nisq_spectrum/qpt_benchmark/QPT%20Benchmarks.ipynb#X14sZmlsZQ%3D%3D?line=17'>18</a>\u001b[0m                         )\n\u001b[1;32m---> <a href='vscode-notebook-cell:/c%3A/Users/krist/Documents/ModelNISQ/notebooks/nisq_spectrum/qpt_benchmark/QPT%20Benchmarks.ipynb#X14sZmlsZQ%3D%3D?line=19'>20</a>\u001b[0m     model\u001b[39m.\u001b[39;49mtrain(inputs \u001b[39m=\u001b[39;49m inputs_map1,\n\u001b[0;32m     <a href='vscode-notebook-cell:/c%3A/Users/krist/Documents/ModelNISQ/notebooks/nisq_spectrum/qpt_benchmark/QPT%20Benchmarks.ipynb#X14sZmlsZQ%3D%3D?line=20'>21</a>\u001b[0m                 targets \u001b[39m=\u001b[39;49m targets_map1,\n\u001b[0;32m     <a href='vscode-notebook-cell:/c%3A/Users/krist/Documents/ModelNISQ/notebooks/nisq_spectrum/qpt_benchmark/QPT%20Benchmarks.ipynb#X14sZmlsZQ%3D%3D?line=21'>22</a>\u001b[0m                 inputs_val \u001b[39m=\u001b[39;49m \u001b[39mNone\u001b[39;49;00m,\n\u001b[0;32m     <a href='vscode-notebook-cell:/c%3A/Users/krist/Documents/ModelNISQ/notebooks/nisq_spectrum/qpt_benchmark/QPT%20Benchmarks.ipynb#X14sZmlsZQ%3D%3D?line=22'>23</a>\u001b[0m                 targets_val \u001b[39m=\u001b[39;49m [channel_target1],\n\u001b[0;32m     <a href='vscode-notebook-cell:/c%3A/Users/krist/Documents/ModelNISQ/notebooks/nisq_spectrum/qpt_benchmark/QPT%20Benchmarks.ipynb#X14sZmlsZQ%3D%3D?line=23'>24</a>\u001b[0m                 num_iter \u001b[39m=\u001b[39;49m \u001b[39m1000\u001b[39;49m,\n\u001b[0;32m     <a href='vscode-notebook-cell:/c%3A/Users/krist/Documents/ModelNISQ/notebooks/nisq_spectrum/qpt_benchmark/QPT%20Benchmarks.ipynb#X14sZmlsZQ%3D%3D?line=24'>25</a>\u001b[0m                 N \u001b[39m=\u001b[39;49m \u001b[39m500\u001b[39;49m,\n\u001b[0;32m     <a href='vscode-notebook-cell:/c%3A/Users/krist/Documents/ModelNISQ/notebooks/nisq_spectrum/qpt_benchmark/QPT%20Benchmarks.ipynb#X14sZmlsZQ%3D%3D?line=25'>26</a>\u001b[0m                 verbose\u001b[39m=\u001b[39;49m\u001b[39mFalse\u001b[39;49;00m,\n\u001b[0;32m     <a href='vscode-notebook-cell:/c%3A/Users/krist/Documents/ModelNISQ/notebooks/nisq_spectrum/qpt_benchmark/QPT%20Benchmarks.ipynb#X14sZmlsZQ%3D%3D?line=26'>27</a>\u001b[0m             )\n\u001b[0;32m     <a href='vscode-notebook-cell:/c%3A/Users/krist/Documents/ModelNISQ/notebooks/nisq_spectrum/qpt_benchmark/QPT%20Benchmarks.ipynb#X14sZmlsZQ%3D%3D?line=28'>29</a>\u001b[0m     model \u001b[39m=\u001b[39m model_remove_gradients(model)\n\u001b[0;32m     <a href='vscode-notebook-cell:/c%3A/Users/krist/Documents/ModelNISQ/notebooks/nisq_spectrum/qpt_benchmark/QPT%20Benchmarks.ipynb#X14sZmlsZQ%3D%3D?line=30'>31</a>\u001b[0m     model_list1\u001b[39m.\u001b[39mappend(model)\n",
      "File \u001b[1;32mc:\\Users\\krist\\Documents\\ModelNISQ\\notebooks\\nisq_spectrum\\qpt_benchmark\\../../../src_tf\\optimization.py:129\u001b[0m, in \u001b[0;36mModelQuantumMap.train\u001b[1;34m(self, inputs, targets, inputs_val, targets_val, num_iter, N, verbose)\u001b[0m\n\u001b[0;32m    126\u001b[0m     inputs_batch \u001b[39m=\u001b[39m inputs\n\u001b[0;32m    127\u001b[0m     targets_batch \u001b[39m=\u001b[39m targets\n\u001b[1;32m--> 129\u001b[0m \u001b[39mself\u001b[39;49m\u001b[39m.\u001b[39;49mtrain_step(inputs_batch, targets_batch)\n\u001b[0;32m    131\u001b[0m \u001b[39mself\u001b[39m\u001b[39m.\u001b[39mlogger\u001b[39m.\u001b[39mlog(\u001b[39mself\u001b[39m)\n\u001b[0;32m    132\u001b[0m \u001b[39mself\u001b[39m\u001b[39m.\u001b[39mcounter \u001b[39m+\u001b[39m\u001b[39m=\u001b[39m \u001b[39m1\u001b[39m\n",
      "File \u001b[1;32mc:\\Users\\krist\\anaconda3\\envs\\env_qiskit\\lib\\site-packages\\tensorflow\\python\\util\\traceback_utils.py:150\u001b[0m, in \u001b[0;36mfilter_traceback.<locals>.error_handler\u001b[1;34m(*args, **kwargs)\u001b[0m\n\u001b[0;32m    148\u001b[0m filtered_tb \u001b[39m=\u001b[39m \u001b[39mNone\u001b[39;00m\n\u001b[0;32m    149\u001b[0m \u001b[39mtry\u001b[39;00m:\n\u001b[1;32m--> 150\u001b[0m   \u001b[39mreturn\u001b[39;00m fn(\u001b[39m*\u001b[39margs, \u001b[39m*\u001b[39m\u001b[39m*\u001b[39mkwargs)\n\u001b[0;32m    151\u001b[0m \u001b[39mexcept\u001b[39;00m \u001b[39mException\u001b[39;00m \u001b[39mas\u001b[39;00m e:\n\u001b[0;32m    152\u001b[0m   filtered_tb \u001b[39m=\u001b[39m _process_traceback_frames(e\u001b[39m.\u001b[39m__traceback__)\n",
      "File \u001b[1;32mc:\\Users\\krist\\anaconda3\\envs\\env_qiskit\\lib\\site-packages\\tensorflow\\python\\eager\\def_function.py:915\u001b[0m, in \u001b[0;36mFunction.__call__\u001b[1;34m(self, *args, **kwds)\u001b[0m\n\u001b[0;32m    912\u001b[0m compiler \u001b[39m=\u001b[39m \u001b[39m\"\u001b[39m\u001b[39mxla\u001b[39m\u001b[39m\"\u001b[39m \u001b[39mif\u001b[39;00m \u001b[39mself\u001b[39m\u001b[39m.\u001b[39m_jit_compile \u001b[39melse\u001b[39;00m \u001b[39m\"\u001b[39m\u001b[39mnonXla\u001b[39m\u001b[39m\"\u001b[39m\n\u001b[0;32m    914\u001b[0m \u001b[39mwith\u001b[39;00m OptionalXlaContext(\u001b[39mself\u001b[39m\u001b[39m.\u001b[39m_jit_compile):\n\u001b[1;32m--> 915\u001b[0m   result \u001b[39m=\u001b[39m \u001b[39mself\u001b[39m\u001b[39m.\u001b[39m_call(\u001b[39m*\u001b[39margs, \u001b[39m*\u001b[39m\u001b[39m*\u001b[39mkwds)\n\u001b[0;32m    917\u001b[0m new_tracing_count \u001b[39m=\u001b[39m \u001b[39mself\u001b[39m\u001b[39m.\u001b[39mexperimental_get_tracing_count()\n\u001b[0;32m    918\u001b[0m without_tracing \u001b[39m=\u001b[39m (tracing_count \u001b[39m==\u001b[39m new_tracing_count)\n",
      "File \u001b[1;32mc:\\Users\\krist\\anaconda3\\envs\\env_qiskit\\lib\\site-packages\\tensorflow\\python\\eager\\def_function.py:947\u001b[0m, in \u001b[0;36mFunction._call\u001b[1;34m(self, *args, **kwds)\u001b[0m\n\u001b[0;32m    944\u001b[0m   \u001b[39mself\u001b[39m\u001b[39m.\u001b[39m_lock\u001b[39m.\u001b[39mrelease()\n\u001b[0;32m    945\u001b[0m   \u001b[39m# In this case we have created variables on the first call, so we run the\u001b[39;00m\n\u001b[0;32m    946\u001b[0m   \u001b[39m# defunned version which is guaranteed to never create variables.\u001b[39;00m\n\u001b[1;32m--> 947\u001b[0m   \u001b[39mreturn\u001b[39;00m \u001b[39mself\u001b[39m\u001b[39m.\u001b[39m_stateless_fn(\u001b[39m*\u001b[39margs, \u001b[39m*\u001b[39m\u001b[39m*\u001b[39mkwds)  \u001b[39m# pylint: disable=not-callable\u001b[39;00m\n\u001b[0;32m    948\u001b[0m \u001b[39melif\u001b[39;00m \u001b[39mself\u001b[39m\u001b[39m.\u001b[39m_stateful_fn \u001b[39mis\u001b[39;00m \u001b[39mnot\u001b[39;00m \u001b[39mNone\u001b[39;00m:\n\u001b[0;32m    949\u001b[0m   \u001b[39m# Release the lock early so that multiple threads can perform the call\u001b[39;00m\n\u001b[0;32m    950\u001b[0m   \u001b[39m# in parallel.\u001b[39;00m\n\u001b[0;32m    951\u001b[0m   \u001b[39mself\u001b[39m\u001b[39m.\u001b[39m_lock\u001b[39m.\u001b[39mrelease()\n",
      "File \u001b[1;32mc:\\Users\\krist\\anaconda3\\envs\\env_qiskit\\lib\\site-packages\\tensorflow\\python\\eager\\function.py:2453\u001b[0m, in \u001b[0;36mFunction.__call__\u001b[1;34m(self, *args, **kwargs)\u001b[0m\n\u001b[0;32m   2450\u001b[0m \u001b[39mwith\u001b[39;00m \u001b[39mself\u001b[39m\u001b[39m.\u001b[39m_lock:\n\u001b[0;32m   2451\u001b[0m   (graph_function,\n\u001b[0;32m   2452\u001b[0m    filtered_flat_args) \u001b[39m=\u001b[39m \u001b[39mself\u001b[39m\u001b[39m.\u001b[39m_maybe_define_function(args, kwargs)\n\u001b[1;32m-> 2453\u001b[0m \u001b[39mreturn\u001b[39;00m graph_function\u001b[39m.\u001b[39;49m_call_flat(\n\u001b[0;32m   2454\u001b[0m     filtered_flat_args, captured_inputs\u001b[39m=\u001b[39;49mgraph_function\u001b[39m.\u001b[39;49mcaptured_inputs)\n",
      "File \u001b[1;32mc:\\Users\\krist\\anaconda3\\envs\\env_qiskit\\lib\\site-packages\\tensorflow\\python\\eager\\function.py:1860\u001b[0m, in \u001b[0;36mConcreteFunction._call_flat\u001b[1;34m(self, args, captured_inputs, cancellation_manager)\u001b[0m\n\u001b[0;32m   1856\u001b[0m possible_gradient_type \u001b[39m=\u001b[39m gradients_util\u001b[39m.\u001b[39mPossibleTapeGradientTypes(args)\n\u001b[0;32m   1857\u001b[0m \u001b[39mif\u001b[39;00m (possible_gradient_type \u001b[39m==\u001b[39m gradients_util\u001b[39m.\u001b[39mPOSSIBLE_GRADIENT_TYPES_NONE\n\u001b[0;32m   1858\u001b[0m     \u001b[39mand\u001b[39;00m executing_eagerly):\n\u001b[0;32m   1859\u001b[0m   \u001b[39m# No tape is watching; skip to running the function.\u001b[39;00m\n\u001b[1;32m-> 1860\u001b[0m   \u001b[39mreturn\u001b[39;00m \u001b[39mself\u001b[39m\u001b[39m.\u001b[39m_build_call_outputs(\u001b[39mself\u001b[39;49m\u001b[39m.\u001b[39;49m_inference_function\u001b[39m.\u001b[39;49mcall(\n\u001b[0;32m   1861\u001b[0m       ctx, args, cancellation_manager\u001b[39m=\u001b[39;49mcancellation_manager))\n\u001b[0;32m   1862\u001b[0m forward_backward \u001b[39m=\u001b[39m \u001b[39mself\u001b[39m\u001b[39m.\u001b[39m_select_forward_and_backward_functions(\n\u001b[0;32m   1863\u001b[0m     args,\n\u001b[0;32m   1864\u001b[0m     possible_gradient_type,\n\u001b[0;32m   1865\u001b[0m     executing_eagerly)\n\u001b[0;32m   1866\u001b[0m forward_function, args_with_tangents \u001b[39m=\u001b[39m forward_backward\u001b[39m.\u001b[39mforward()\n",
      "File \u001b[1;32mc:\\Users\\krist\\anaconda3\\envs\\env_qiskit\\lib\\site-packages\\tensorflow\\python\\eager\\function.py:497\u001b[0m, in \u001b[0;36m_EagerDefinedFunction.call\u001b[1;34m(self, ctx, args, cancellation_manager)\u001b[0m\n\u001b[0;32m    495\u001b[0m \u001b[39mwith\u001b[39;00m _InterpolateFunctionError(\u001b[39mself\u001b[39m):\n\u001b[0;32m    496\u001b[0m   \u001b[39mif\u001b[39;00m cancellation_manager \u001b[39mis\u001b[39;00m \u001b[39mNone\u001b[39;00m:\n\u001b[1;32m--> 497\u001b[0m     outputs \u001b[39m=\u001b[39m execute\u001b[39m.\u001b[39;49mexecute(\n\u001b[0;32m    498\u001b[0m         \u001b[39mstr\u001b[39;49m(\u001b[39mself\u001b[39;49m\u001b[39m.\u001b[39;49msignature\u001b[39m.\u001b[39;49mname),\n\u001b[0;32m    499\u001b[0m         num_outputs\u001b[39m=\u001b[39;49m\u001b[39mself\u001b[39;49m\u001b[39m.\u001b[39;49m_num_outputs,\n\u001b[0;32m    500\u001b[0m         inputs\u001b[39m=\u001b[39;49margs,\n\u001b[0;32m    501\u001b[0m         attrs\u001b[39m=\u001b[39;49mattrs,\n\u001b[0;32m    502\u001b[0m         ctx\u001b[39m=\u001b[39;49mctx)\n\u001b[0;32m    503\u001b[0m   \u001b[39melse\u001b[39;00m:\n\u001b[0;32m    504\u001b[0m     outputs \u001b[39m=\u001b[39m execute\u001b[39m.\u001b[39mexecute_with_cancellation(\n\u001b[0;32m    505\u001b[0m         \u001b[39mstr\u001b[39m(\u001b[39mself\u001b[39m\u001b[39m.\u001b[39msignature\u001b[39m.\u001b[39mname),\n\u001b[0;32m    506\u001b[0m         num_outputs\u001b[39m=\u001b[39m\u001b[39mself\u001b[39m\u001b[39m.\u001b[39m_num_outputs,\n\u001b[1;32m   (...)\u001b[0m\n\u001b[0;32m    509\u001b[0m         ctx\u001b[39m=\u001b[39mctx,\n\u001b[0;32m    510\u001b[0m         cancellation_manager\u001b[39m=\u001b[39mcancellation_manager)\n",
      "File \u001b[1;32mc:\\Users\\krist\\anaconda3\\envs\\env_qiskit\\lib\\site-packages\\tensorflow\\python\\eager\\execute.py:54\u001b[0m, in \u001b[0;36mquick_execute\u001b[1;34m(op_name, num_outputs, inputs, attrs, ctx, name)\u001b[0m\n\u001b[0;32m     52\u001b[0m \u001b[39mtry\u001b[39;00m:\n\u001b[0;32m     53\u001b[0m   ctx\u001b[39m.\u001b[39mensure_initialized()\n\u001b[1;32m---> 54\u001b[0m   tensors \u001b[39m=\u001b[39m pywrap_tfe\u001b[39m.\u001b[39;49mTFE_Py_Execute(ctx\u001b[39m.\u001b[39;49m_handle, device_name, op_name,\n\u001b[0;32m     55\u001b[0m                                       inputs, attrs, num_outputs)\n\u001b[0;32m     56\u001b[0m \u001b[39mexcept\u001b[39;00m core\u001b[39m.\u001b[39m_NotOkStatusException \u001b[39mas\u001b[39;00m e:\n\u001b[0;32m     57\u001b[0m   \u001b[39mif\u001b[39;00m name \u001b[39mis\u001b[39;00m \u001b[39mnot\u001b[39;00m \u001b[39mNone\u001b[39;00m:\n",
      "\u001b[1;31mKeyboardInterrupt\u001b[0m: "
     ]
    }
   ],
   "source": [
    "np.random.seed(43)\n",
    "random.seed(43)\n",
    "tf.random.set_seed(43)\n",
    "\n",
    "model_list1 = []\n",
    "reps = 10\n",
    "for i in tqdm(range(reps)):\n",
    "\n",
    "    model = ModelQuantumMap(channel = KrausMap(d = d, \n",
    "                                                rank = d**2,\n",
    "                                                spam = spam_model1,\n",
    "                                                ),\n",
    "                            loss_function = ProbabilityMSE(),\n",
    "                            optimizer = tf.optimizers.Adam(learning_rate=0.01),\n",
    "                            logger = Logger(loss_function=ProbabilityRValue(),\n",
    "                                            loss_function_val = channel_fidelity_loss,\n",
    "                                            sample_freq=10,\n",
    "                                            N=500),\n",
    "                        )\n",
    "\n",
    "    model.train(inputs = inputs_map1,\n",
    "                targets = targets_map1,\n",
    "                inputs_val = None,\n",
    "                targets_val = [channel_target1],\n",
    "                num_iter = 2000,\n",
    "                N = 500,\n",
    "                verbose=False,\n",
    "            )\n",
    "    \n",
    "    model = model_remove_gradients(model)\n",
    "    \n",
    "    model_list1.append(model)"
   ]
  },
  {
   "cell_type": "code",
   "execution_count": 43,
   "metadata": {},
   "outputs": [],
   "source": [
    "saver(model_list1, \"data/three_qubit_benchmark.model\")"
   ]
  },
  {
   "cell_type": "markdown",
   "metadata": {},
   "source": [
    "## Four Qubits"
   ]
  },
  {
   "cell_type": "markdown",
   "metadata": {},
   "source": [
    "### Generate synthetic data with noise"
   ]
  },
  {
   "cell_type": "code",
   "execution_count": 19,
   "metadata": {},
   "outputs": [],
   "source": [
    "n = 4\n",
    "d = 2**n\n",
    "np.random.seed(42)\n",
    "random.seed(42)\n",
    "tf.random.set_seed(42)\n",
    "\n",
    "spam_target2 = generate_spam_benchmark(n=n, c1=0.8, c2=0.8)\n",
    "inputs_spam2, targets_spam2 = generate_spam_data(spam_target2, N_spam=None, shots=1024)\n",
    "\n",
    "channel_target2 = DilutedKrausMap(U = generate_unitary(d), \n",
    "                                  c = 0.5,\n",
    "                                  kraus_part = KrausMap(d=d, \n",
    "                                                        rank=d),\n",
    "                                  )\n",
    "\n",
    "inputs_map2, targets_map2 = generate_map_data(channel_target2, spam_target2, N_map = 10000-6**n, shots=1024, batch_size=1000)\n",
    "\n",
    "saver(channel_target2, \"data/four_qubit_channel_target.model\")"
   ]
  },
  {
   "cell_type": "markdown",
   "metadata": {},
   "source": [
    "### Fit SPAM"
   ]
  },
  {
   "cell_type": "code",
   "execution_count": 20,
   "metadata": {},
   "outputs": [
    {
     "data": {
      "application/vnd.jupyter.widget-view+json": {
       "model_id": "b75cf9ae0e2246f68422b569922d471b",
       "version_major": 2,
       "version_minor": 0
      },
      "text/plain": [
       "  0%|          | 0/1000 [00:00<?, ?it/s]"
      ]
     },
     "metadata": {},
     "output_type": "display_data"
    },
    {
     "name": "stdout",
     "output_type": "stream",
     "text": [
      "step 0: loss = 0.0172\n",
      "step 100: loss = 0.0009\n",
      "step 200: loss = 0.0009\n",
      "step 300: loss = 0.0009\n",
      "step 400: loss = 0.0009\n",
      "step 500: loss = 0.0009\n",
      "step 600: loss = 0.0009\n",
      "step 700: loss = 0.0009\n",
      "step 800: loss = 0.0009\n",
      "step 900: loss = 0.0009\n"
     ]
    }
   ],
   "source": [
    "np.random.seed(43)\n",
    "random.seed(43)\n",
    "tf.random.set_seed(43)\n",
    "\n",
    "spam_model2 = SPAM(init = InitialState(d),\n",
    "                  povm = CorruptionMatrix(d),\n",
    "                  loss_function = ProbabilityMSE(),\n",
    "                  optimizer = tf.optimizers.Adam(learning_rate=0.01)\n",
    "                 )\n",
    "\n",
    "spam_model2.pretrain(num_iter = 500, verbose=False)\n",
    "\n",
    "spam_model2.train(inputs = inputs_spam2,\n",
    "                  targets = targets_spam2,\n",
    "                  num_iter = 1000,\n",
    "                  verbose = True,\n",
    "                 )"
   ]
  },
  {
   "cell_type": "markdown",
   "metadata": {},
   "source": [
    "### Fit Quantum Channel"
   ]
  },
  {
   "cell_type": "code",
   "execution_count": 26,
   "metadata": {},
   "outputs": [
    {
     "data": {
      "application/vnd.jupyter.widget-view+json": {
       "model_id": "659f4d5ac31c4ed786d9d203535a6ca9",
       "version_major": 2,
       "version_minor": 0
      },
      "text/plain": [
       "  0%|          | 0/1 [00:00<?, ?it/s]"
      ]
     },
     "metadata": {},
     "output_type": "display_data"
    },
    {
     "data": {
      "application/vnd.jupyter.widget-view+json": {
       "model_id": "31b87b32a5e1448b8b6d2ea8fce09b1b",
       "version_major": 2,
       "version_minor": 0
      },
      "text/plain": [
       "  0%|          | 0/4000 [00:00<?, ?it/s]"
      ]
     },
     "metadata": {},
     "output_type": "display_data"
    },
    {
     "name": "stdout",
     "output_type": "stream",
     "text": [
      "-0.012084975177130586 -0.04727783162063984\n",
      "0.4902575924413417 -0.18147941692048447\n",
      "0.8230102242516443 -0.3913869504277557\n",
      "0.8422411892909888 -0.4535698006302818\n",
      "0.8567639081958108 -0.5010340377239283\n",
      "0.860300635410155 -0.5442657154100805\n",
      "0.8626014463309566 -0.5827730978927838\n",
      "0.8724187243911541 -0.6165278626844473\n",
      "0.8682209524124747 -0.6452221836784513\n",
      "0.8731909028653722 -0.6680559847016435\n",
      "0.8763677361706633 -0.6881218490976555\n",
      "0.8686706323780529 -0.7048756307835412\n",
      "0.8753951441588387 -0.7181306844315237\n",
      "0.8775671463548828 -0.7292910595823852\n",
      "0.8771801412866731 -0.7390316375156958\n",
      "0.8710221310193844 -0.7459789898447029\n",
      "0.8767348667364228 -0.7521851074323261\n",
      "0.8750464274806875 -0.7576123734884442\n",
      "0.8731433230023202 -0.7619315940378866\n",
      "0.8818657757450837 -0.7656652762417911\n",
      "0.8748051349322205 -0.7689665609279888\n",
      "0.880745898245745 -0.7719745166546483\n",
      "0.8832597209368509 -0.773738890485677\n",
      "0.8746537860547113 -0.7758206275144583\n",
      "0.8767237235173728 -0.7780146017654467\n",
      "0.8805556288388069 -0.7798380375535238\n",
      "0.8825145254045916 -0.7810614678465793\n",
      "0.8793614894934649 -0.7820676217125135\n",
      "0.8759131288209885 -0.7825788231683057\n",
      "0.8807549633359538 -0.783915887468818\n",
      "0.8825354540983189 -0.7842674567597098\n",
      "0.8738241619000724 -0.7843819581834063\n",
      "0.8805002579976636 -0.7852842635245091\n",
      "0.8749702523807317 -0.7863514845547918\n",
      "0.877534661951677 -0.786355613593033\n",
      "0.8743477261726641 -0.7868005991926293\n",
      "0.8724143053898002 -0.7875572122784956\n",
      "0.876656994800201 -0.7876874803245876\n",
      "0.872328626634759 -0.7881114206229072\n",
      "0.877692359453672 -0.7886771202016509\n",
      "0.8803858820902823 -0.7890450805031947\n"
     ]
    }
   ],
   "source": [
    "np.random.seed(43)\n",
    "random.seed(43)\n",
    "tf.random.set_seed(43)\n",
    "\n",
    "model_list2 = []\n",
    "reps = 1\n",
    "for i in tqdm(range(reps)):\n",
    "    model = ModelQuantumMap(channel = KrausMap(d = d, \n",
    "                                                rank = d**2,\n",
    "                                                spam = spam_model2,\n",
    "                                                ),\n",
    "                            loss_function = ProbabilityMSE(),\n",
    "                            optimizer = tf.optimizers.Adam(learning_rate=0.01),\n",
    "                            logger = Logger(loss_function=ProbabilityRValue(),\n",
    "                                            loss_function_val = channel_fidelity_loss,\n",
    "                                            sample_freq=100,\n",
    "                                            N = 500),\n",
    "                        )\n",
    "\n",
    "    model.train(inputs = inputs_map2,\n",
    "                targets = targets_map2,\n",
    "                inputs_val = None,\n",
    "                targets_val = [channel_target2],\n",
    "                num_iter = 4000,\n",
    "                N = 500,\n",
    "                verbose=True,\n",
    "            )\n",
    "    \n",
    "    model = model_remove_gradients(model)\n",
    "    \n",
    "    model_list2.append(model)"
   ]
  },
  {
   "cell_type": "code",
   "execution_count": 27,
   "metadata": {},
   "outputs": [],
   "source": [
    "saver(model_list2, \"data/four_qubit_benchmark.model\")"
   ]
  }
 ],
 "metadata": {
  "kernelspec": {
   "display_name": "env_qiskit",
   "language": "python",
   "name": "python3"
  },
  "language_info": {
   "codemirror_mode": {
    "name": "ipython",
    "version": 3
   },
   "file_extension": ".py",
   "mimetype": "text/x-python",
   "name": "python",
   "nbconvert_exporter": "python",
   "pygments_lexer": "ipython3",
   "version": "3.10.4"
  }
 },
 "nbformat": 4,
 "nbformat_minor": 4
}
