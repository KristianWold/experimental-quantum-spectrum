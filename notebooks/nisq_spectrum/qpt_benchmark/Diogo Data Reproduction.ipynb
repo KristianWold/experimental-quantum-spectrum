{
 "cells": [
  {
   "attachments": {},
   "cell_type": "markdown",
   "metadata": {},
   "source": [
    "# Diogo Data Reproduction"
   ]
  },
  {
   "cell_type": "code",
   "execution_count": 4,
   "metadata": {},
   "outputs": [],
   "source": [
    "import sys\n",
    "sys.path.insert(0, '../../../src_tf/')\n",
    "\n",
    "import numpy as np\n",
    "import tensorflow as tf\n",
    "import random\n",
    "import qiskit as qk\n",
    "\n",
    "from tqdm.notebook import tqdm\n",
    "from qiskit.quantum_info import Operator\n",
    "\n",
    "from loss_functions import ProbabilityMSE, channel_fidelity_loss, ProbabilityRValue\n",
    "from optimization import ModelQuantumMap\n",
    "from kraus_channels import KrausMap\n",
    "from quantum_channel import channel_fidelity\n",
    "from quantum_tools import reshuffle, state_fidelity\n",
    "from spam import IdealSPAM\n",
    "from utils import saver\n",
    "\n",
    "#np.set_printoptions(threshold=sys.maxsize)\n",
    "np.set_printoptions(precision=4)\n",
    "\n",
    "import os\n",
    "os.environ[\"CUDA_VISIBLE_DEVICES\"] = \"-1\""
   ]
  },
  {
   "cell_type": "markdown",
   "metadata": {},
   "source": [
    "### Fit Quantum Channel"
   ]
  },
  {
   "cell_type": "code",
   "execution_count": 12,
   "metadata": {},
   "outputs": [],
   "source": [
    "# load from file with numpy\n",
    "data = np.load('data/data_diogo/Data.npy', allow_pickle=True)"
   ]
  },
  {
   "cell_type": "code",
   "execution_count": 13,
   "metadata": {},
   "outputs": [],
   "source": [
    "probs = data[0][0]\n",
    "targets = tf.convert_to_tensor([i for i in probs], dtype=tf.complex128)"
   ]
  },
  {
   "cell_type": "markdown",
   "metadata": {},
   "source": [
    "## My attempt at translation"
   ]
  },
  {
   "cell_type": "code",
   "execution_count": 14,
   "metadata": {},
   "outputs": [],
   "source": [
    "n = 3\n",
    "N = 324\n",
    "\n",
    "\n",
    "string = data[1][0]\n",
    "input_list = []\n",
    "output_list = []\n",
    "for i in range(N):\n",
    "    circuit = qk.QuantumCircuit(n)\n",
    "    for j in range(n):\n",
    "\n",
    "        if string[i][3*j] == 0: # X\n",
    "            if string[i][3*j+1] == 0:\n",
    "                circuit.ry(np.pi / 2, j)\n",
    "            else:\n",
    "                circuit.ry(-np.pi / 2, j)\n",
    "\n",
    "        if string[i][3*j] == 1:  # Y\n",
    "            if string[i][3*j+1] == 0:\n",
    "                circuit.rx(-np.pi / 2, j)\n",
    "            else:\n",
    "                circuit.rx(np.pi / 2, j)\n",
    "        \n",
    "        if string[i][3*j] == 2: # Z\n",
    "            if string[i][3*j+1] == 0:\n",
    "                pass\n",
    "            else:\n",
    "                circuit.x(j)\n",
    "\n",
    "    input = Operator(circuit.reverse_bits()).data\n",
    "\n",
    "    circuit = qk.QuantumCircuit(n)\n",
    "    for j in range(n):\n",
    "\n",
    "        if string[i][3*j+2] == 0: # X\n",
    "            circuit.ry(np.pi / 2, j)\n",
    "\n",
    "\n",
    "        if string[i][3*j+2] == 1: #Y\n",
    "            circuit.rx(-np.pi / 2, j)\n",
    "\n",
    "        \n",
    "        if string[i][3*j+2] == 2: # Z\n",
    "            pass\n",
    "\n",
    "    output = Operator(circuit.reverse_bits()).data\n",
    "\n",
    "    input_list.append(input)\n",
    "    output_list.append(output)\n",
    "\n",
    "inputs = [tf.convert_to_tensor(input_list, dtype=tf.complex128), tf.convert_to_tensor(output_list, dtype=tf.complex128)]\n"
   ]
  },
  {
   "cell_type": "markdown",
   "metadata": {},
   "source": [
    "## Diogo's attempt at translation"
   ]
  },
  {
   "cell_type": "code",
   "execution_count": 42,
   "metadata": {},
   "outputs": [],
   "source": [
    "n = 3\n",
    "N = 324\n",
    "\n",
    "\n",
    "string = data[1][0]\n",
    "input_list = []\n",
    "output_list = []\n",
    "for i in range(N):\n",
    "     circuit = qk.QuantumCircuit(n)\n",
    "     for j in range(n):\n",
    "\n",
    "        if string[i][3*j] == 0: # X\n",
    "            if string[i][3*j+1] == 0:\n",
    "                circuit.ry(-np.pi / 2, j)\n",
    "            else:\n",
    "                circuit.ry(np.pi / 2, j)\n",
    "\n",
    "        if string[i][3*j] == 1:  # Y\n",
    "            if string[i][3*j+1] == 0:\n",
    "                circuit.rx(np.pi / 2, j)\n",
    "            else:\n",
    "                circuit.rx(-np.pi / 2, j)\n",
    "        \n",
    "        if string[i][3*j] == 2: # Z\n",
    "            if string[i][3*j+1] == 0:\n",
    "                pass\n",
    "            else:\n",
    "                circuit.x(j)\n",
    "     input = Operator(circuit.reverse_bits()).data\n",
    "\n",
    "     circuit = qk.QuantumCircuit(n)\n",
    "     for j in range(n):\n",
    "         if string[i][3*j]==0: #X\n",
    "             circuit.ry(-np.pi / 2, j )\n",
    "         if string[i][3*j]==1: #Y\n",
    "             circuit.rx(np.pi / 2, j )\n",
    "         if string[i][3*j]==2: #Z\n",
    "             pass\n",
    "\n",
    "     output = Operator(circuit.reverse_bits()).data\n",
    "\n",
    "     input_list.append(input)\n",
    "     output_list.append(output)\n",
    "    \n",
    "inputs = [tf.convert_to_tensor(input_list, dtype=tf.complex128), tf.convert_to_tensor(output_list, dtype=tf.complex128)]"
   ]
  },
  {
   "cell_type": "code",
   "execution_count": 7,
   "metadata": {},
   "outputs": [
    {
     "name": "stdout",
     "output_type": "stream",
     "text": [
      "[[0.+0.j 0.+0.j 1.+0.j 0.+0.j]\n",
      " [0.+0.j 0.+0.j 0.+0.j 1.+0.j]\n",
      " [1.+0.j 0.+0.j 0.+0.j 0.+0.j]\n",
      " [0.+0.j 1.+0.j 0.+0.j 0.+0.j]]\n"
     ]
    },
    {
     "data": {
      "text/plain": [
       "'\\n0 1 0 0\\n1 0 0 0\\n0 0 0 1\\n0 0 1 0\\n'"
      ]
     },
     "execution_count": 7,
     "metadata": {},
     "output_type": "execute_result"
    }
   ],
   "source": [
    "circuit = qk.QuantumCircuit(2)\n",
    "circuit.x(0)\n",
    "input = Operator(circuit.reverse_bits()).data\n",
    "print(input)\n",
    "\"\"\"\n",
    "0 1 0 0\n",
    "1 0 0 0\n",
    "0 0 0 1\n",
    "0 0 1 0\n",
    "\"\"\""
   ]
  },
  {
   "cell_type": "code",
   "execution_count": 43,
   "metadata": {},
   "outputs": [],
   "source": [
    "np.random.seed(42)\n",
    "random.seed(42)\n",
    "tf.random.set_seed(42)\n",
    "\n",
    "d = 2**n\n",
    "\n",
    "model = ModelQuantumMap(channel = KrausMap(d = d, \n",
    "                                            rank = d**2,\n",
    "                                            spam = IdealSPAM(d),\n",
    "                                            ),\n",
    "                        loss_function = ProbabilityMSE(),\n",
    "                        optimizer = tf.optimizers.Adam(learning_rate=0.01),\n",
    "                    )\n",
    "\n"
   ]
  },
  {
   "cell_type": "code",
   "execution_count": 44,
   "metadata": {},
   "outputs": [
    {
     "data": {
      "application/vnd.jupyter.widget-view+json": {
       "model_id": "d43c21b0093746c1b500d5e13563fcd0",
       "version_major": 2,
       "version_minor": 0
      },
      "text/plain": [
       "  0%|          | 0/2000 [00:00<?, ?it/s]"
      ]
     },
     "metadata": {},
     "output_type": "display_data"
    },
    {
     "name": "stdout",
     "output_type": "stream",
     "text": [
      "0.44908855406207887 None\n",
      "0.27227592703040393 None\n",
      "0.2516262887675132 None\n",
      "0.24673133881869902 None\n",
      "0.2450361630022374 None\n",
      "0.24432477209812345 None\n",
      "0.2439899729310777 None\n",
      "0.24381972787691816 None\n",
      "0.24372804847141746 None\n",
      "0.24367636888076077 None\n",
      "0.24364613912175723 None\n",
      "0.24362793048153847 None\n",
      "0.24361671037852542 None\n",
      "0.24360967281394685 None\n",
      "0.24360519439957898 None\n",
      "0.24360230778811812 None\n",
      "0.24360042339707835 None\n",
      "0.2435991759571354 None\n",
      "0.24359833668638653 None\n",
      "0.24359776136605443 None\n",
      "0.2435973621570535 None\n"
     ]
    }
   ],
   "source": [
    "model.train(inputs = inputs,\n",
    "            targets = targets,\n",
    "            num_iter = 2000,\n",
    "            N = 500,\n",
    "            verbose=True,\n",
    "        )"
   ]
  },
  {
   "cell_type": "code",
   "execution_count": 23,
   "metadata": {},
   "outputs": [],
   "source": [
    "choi = model.channel.choi\n",
    "\n",
    "data2 = np.load('data/data_diogo/Tgt_Map.npy', allow_pickle=True)\n",
    "choi_ref = reshuffle(data2[0])"
   ]
  },
  {
   "cell_type": "code",
   "execution_count": 19,
   "metadata": {},
   "outputs": [
    {
     "data": {
      "text/plain": [
       "<tf.Tensor: shape=(), dtype=float64, numpy=0.04181008687536769>"
      ]
     },
     "execution_count": 19,
     "metadata": {},
     "output_type": "execute_result"
    }
   ],
   "source": [
    "channel_fid = state_fidelity(choi, choi_ref)/d\n",
    "print(channel_fid)"
   ]
  },
  {
   "cell_type": "markdown",
   "metadata": {},
   "source": [
    "# Selfmade synthetic data"
   ]
  },
  {
   "cell_type": "code",
   "execution_count": 28,
   "metadata": {},
   "outputs": [],
   "source": [
    "import sys\n",
    "sys.path.insert(0, '../../../src_tf/')\n",
    "\n",
    "from synthetic_data import generate_map_data\n",
    "from quantum_channel import ChoiMapStatic\n",
    "from optimization import Logger"
   ]
  },
  {
   "cell_type": "code",
   "execution_count": 36,
   "metadata": {},
   "outputs": [],
   "source": [
    "n = 3\n",
    "d = 2**n\n",
    "\n",
    "np.random.seed(42)\n",
    "random.seed(42)\n",
    "tf.random.set_seed(42)\n",
    "\n",
    "data2 = np.load('data/data_diogo/Tgt_Map.npy', allow_pickle=True)\n",
    "super_operator_ref = data2[0]\n",
    "\n",
    "channel_target = ChoiMapStatic(super_operator_ref, mode= \"super_operator\")\n",
    "\n",
    "inputs_map, targets_map = generate_map_data(channel_target, IdealSPAM(d), N_map=None, shots=None, grid=True, batch_size=1000\n",
    ")"
   ]
  },
  {
   "cell_type": "code",
   "execution_count": 37,
   "metadata": {},
   "outputs": [],
   "source": [
    "np.random.seed(42)\n",
    "random.seed(42)\n",
    "tf.random.set_seed(42)\n",
    "\n",
    "model = ModelQuantumMap(channel = KrausMap(d = d, \n",
    "                                            rank = d**2,\n",
    "                                            spam = IdealSPAM(d),\n",
    "                                            ),\n",
    "                        loss_function = ProbabilityMSE(),\n",
    "                        optimizer = tf.optimizers.Adam(learning_rate=0.01),\n",
    "                        logger = Logger(loss_function=ProbabilityRValue(),\n",
    "                                        loss_function_val = channel_fidelity_loss,\n",
    "                                        sample_freq=100,)\n",
    "                    )"
   ]
  },
  {
   "cell_type": "code",
   "execution_count": 40,
   "metadata": {},
   "outputs": [
    {
     "data": {
      "application/vnd.jupyter.widget-view+json": {
       "model_id": "6b93547590c24a2bbc8d1324121a0977",
       "version_major": 2,
       "version_minor": 0
      },
      "text/plain": [
       "  0%|          | 0/2000 [00:00<?, ?it/s]"
      ]
     },
     "metadata": {},
     "output_type": "display_data"
    },
    {
     "name": "stdout",
     "output_type": "stream",
     "text": [
      "0.9999750807324187 -0.9901117626236576\n",
      "0.9999768025345733 -0.9907624110479312\n",
      "0.9999809031604473 -0.9913722778828955\n",
      "0.9999827748085977 -0.9919391355532091\n",
      "0.9999847573306689 -0.9924679801533448\n",
      "0.9999869516570384 -0.9929572366654352\n",
      "0.999988090642118 -0.9934145158714139\n",
      "0.9999901616512736 -0.9938373331368959\n",
      "0.999991162087131 -0.9942328206453238\n",
      "0.9999920779707314 -0.9945998763480808\n",
      "0.9999928225031672 -0.994942993656358\n",
      "0.9999937361542311 -0.9952605939293202\n",
      "0.9999947617706199 -0.99555711395683\n",
      "0.9999953521886357 -0.995830503358683\n",
      "0.9999957378298865 -0.9960852307550779\n",
      "0.9999963442293132 -0.9963226667999662\n",
      "0.9999966532225522 -0.9965427518425067\n",
      "0.999997106966605 -0.9967483458325929\n",
      "0.9999974070726244 -0.996939366456594\n",
      "0.9999977152236053 -0.9971187605537524\n",
      "0.9999978645944607 -0.9972838784283603\n"
     ]
    }
   ],
   "source": [
    "model.train(inputs = inputs_map,\n",
    "            targets = targets_map,\n",
    "            inputs_val = None,\n",
    "            targets_val = [channel_target],\n",
    "            num_iter = 2000,\n",
    "            N = 500,\n",
    "            verbose=True,\n",
    "        )"
   ]
  },
  {
   "cell_type": "code",
   "execution_count": 41,
   "metadata": {},
   "outputs": [
    {
     "name": "stdout",
     "output_type": "stream",
     "text": [
      "tf.Tensor(0.9972838858371896, shape=(), dtype=float64)\n"
     ]
    }
   ],
   "source": [
    "channel_fid = channel_fidelity(channel_target, model.channel)\n",
    "print(channel_fid)"
   ]
  }
 ],
 "metadata": {
  "kernelspec": {
   "display_name": "env_qiskit",
   "language": "python",
   "name": "env_qiskit"
  },
  "language_info": {
   "codemirror_mode": {
    "name": "ipython",
    "version": 3
   },
   "file_extension": ".py",
   "mimetype": "text/x-python",
   "name": "python",
   "nbconvert_exporter": "python",
   "pygments_lexer": "ipython3",
   "version": "3.10.4"
  }
 },
 "nbformat": 4,
 "nbformat_minor": 4
}
