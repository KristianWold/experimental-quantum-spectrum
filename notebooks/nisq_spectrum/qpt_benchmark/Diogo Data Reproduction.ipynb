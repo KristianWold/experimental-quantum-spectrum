{
 "cells": [
  {
   "attachments": {},
   "cell_type": "markdown",
   "metadata": {},
   "source": [
    "# Diogo Data Reproduction"
   ]
  },
  {
   "cell_type": "code",
   "execution_count": 27,
   "metadata": {},
   "outputs": [],
   "source": [
    "import sys\n",
    "sys.path.insert(0, '../../../src_tf/')\n",
    "\n",
    "import numpy as np\n",
    "import tensorflow as tf\n",
    "import random\n",
    "import qiskit as qk\n",
    "\n",
    "from tqdm.notebook import tqdm\n",
    "from qiskit.quantum_info import Operator\n",
    "\n",
    "from loss_functions import ProbabilityMSE, channel_fidelity_loss, ProbabilityRValue\n",
    "from optimization import ModelQuantumMap\n",
    "from kraus_channels import KrausMap\n",
    "from quantum_channel import channel_fidelity\n",
    "from quantum_tools import reshuffle, state_fidelity\n",
    "from spam import IdealSPAM\n",
    "from utils import saver\n",
    "\n",
    "#np.set_printoptions(threshold=sys.maxsize)\n",
    "np.set_printoptions(precision=4)\n",
    "\n",
    "import os\n",
    "os.environ[\"CUDA_VISIBLE_DEVICES\"] = \"-1\""
   ]
  },
  {
   "cell_type": "markdown",
   "metadata": {},
   "source": [
    "### Fit Quantum Channel"
   ]
  },
  {
   "cell_type": "code",
   "execution_count": 9,
   "metadata": {},
   "outputs": [],
   "source": [
    "# load from file with numpy\n",
    "data = np.load('data/data_diogo/Data.npy', allow_pickle=True)"
   ]
  },
  {
   "cell_type": "code",
   "execution_count": 10,
   "metadata": {},
   "outputs": [
    {
     "name": "stdout",
     "output_type": "stream",
     "text": [
      "tf.Tensor(\n",
      "[[0.008 +0.j 0.2992+0.j 0.1414+0.j ... 0.2132+0.j 0.25  +0.j 0.025 +0.j]\n",
      " [0.0138+0.j 0.0274+0.j 0.0958+0.j ... 0.2204+0.j 0.2328+0.j 0.2844+0.j]\n",
      " [0.191 +0.j 0.0774+0.j 0.257 +0.j ... 0.1362+0.j 0.0404+0.j 0.0548+0.j]\n",
      " ...\n",
      " [0.071 +0.j 0.1154+0.j 0.0504+0.j ... 0.1544+0.j 0.0322+0.j 0.2344+0.j]\n",
      " [0.0648+0.j 0.0626+0.j 0.0174+0.j ... 0.4764+0.j 0.0246+0.j 0.0994+0.j]\n",
      " [0.0992+0.j 0.0292+0.j 0.0992+0.j ... 0.1898+0.j 0.1816+0.j 0.1794+0.j]], shape=(324, 8), dtype=complex128)\n"
     ]
    }
   ],
   "source": [
    "probs = data[0][0]\n",
    "targets = tf.convert_to_tensor([i for i in probs], dtype=tf.complex128)"
   ]
  },
  {
   "cell_type": "code",
   "execution_count": 11,
   "metadata": {},
   "outputs": [],
   "source": [
    "n = 3\n",
    "N = 324\n",
    "\n",
    "\n",
    "string = data[1][0]\n",
    "input_list = []\n",
    "output_list = []\n",
    "for i in range(N):\n",
    "    circuit = qk.QuantumCircuit(n)\n",
    "    for j in range(n):\n",
    "\n",
    "        if string[i][3*j] == 0: # X\n",
    "            if string[i][3*j+1] == 0:\n",
    "                circuit.ry(np.pi / 2, j)\n",
    "            else:\n",
    "                circuit.ry(-np.pi / 2, j)\n",
    "\n",
    "        if string[i][3*j] == 1:  # Y\n",
    "            if string[i][3*j+1] == 0:\n",
    "                circuit.rx(-np.pi / 2, j)\n",
    "            else:\n",
    "                circuit.rx(np.pi / 2, j)\n",
    "        \n",
    "        if string[i][3*j] == 2: # Z\n",
    "            if string[i][3*j+1] == 0:\n",
    "                pass\n",
    "            else:\n",
    "                circuit.x(j)\n",
    "\n",
    "    input = Operator(circuit.reverse_bits()).data\n",
    "\n",
    "    circuit = qk.QuantumCircuit(n)\n",
    "    for j in range(n):\n",
    "\n",
    "        if string[i][3*j+2] == 0: # X\n",
    "            circuit.ry(np.pi / 2, j)\n",
    "\n",
    "\n",
    "        if string[i][3*j+2] == 1: #Y\n",
    "            circuit.rx(-np.pi / 2, j)\n",
    "\n",
    "        \n",
    "        if string[i][3*j+2] == 2: # Z\n",
    "            pass\n",
    "\n",
    "    output = Operator(circuit.reverse_bits()).data\n",
    "\n",
    "    input_list.append(input)\n",
    "    output_list.append(output)\n",
    "\n",
    "inputs = [tf.convert_to_tensor(input_list, dtype=tf.complex128), tf.convert_to_tensor(output_list, dtype=tf.complex128)]\n"
   ]
  },
  {
   "cell_type": "code",
   "execution_count": 12,
   "metadata": {},
   "outputs": [],
   "source": []
  },
  {
   "cell_type": "code",
   "execution_count": 6,
   "metadata": {},
   "outputs": [
    {
     "ename": "NameError",
     "evalue": "name 'n' is not defined",
     "output_type": "error",
     "traceback": [
      "\u001b[1;31m---------------------------------------------------------------------------\u001b[0m",
      "\u001b[1;31mNameError\u001b[0m                                 Traceback (most recent call last)",
      "Input \u001b[1;32mIn [6]\u001b[0m, in \u001b[0;36m<cell line: 5>\u001b[1;34m()\u001b[0m\n\u001b[0;32m      2\u001b[0m random\u001b[38;5;241m.\u001b[39mseed(\u001b[38;5;241m42\u001b[39m)\n\u001b[0;32m      3\u001b[0m tf\u001b[38;5;241m.\u001b[39mrandom\u001b[38;5;241m.\u001b[39mset_seed(\u001b[38;5;241m42\u001b[39m)\n\u001b[1;32m----> 5\u001b[0m d \u001b[38;5;241m=\u001b[39m \u001b[38;5;241m2\u001b[39m\u001b[38;5;241m*\u001b[39m\u001b[38;5;241m*\u001b[39m\u001b[43mn\u001b[49m\n\u001b[0;32m      7\u001b[0m model \u001b[38;5;241m=\u001b[39m ModelQuantumMap(channel \u001b[38;5;241m=\u001b[39m KrausMap(d \u001b[38;5;241m=\u001b[39m d, \n\u001b[0;32m      8\u001b[0m                                             rank \u001b[38;5;241m=\u001b[39m d\u001b[38;5;241m*\u001b[39m\u001b[38;5;241m*\u001b[39m\u001b[38;5;241m2\u001b[39m,\n\u001b[0;32m      9\u001b[0m                                             spam \u001b[38;5;241m=\u001b[39m IdealSPAM(d),\n\u001b[1;32m   (...)\u001b[0m\n\u001b[0;32m     12\u001b[0m                         optimizer \u001b[38;5;241m=\u001b[39m tf\u001b[38;5;241m.\u001b[39moptimizers\u001b[38;5;241m.\u001b[39mAdam(learning_rate\u001b[38;5;241m=\u001b[39m\u001b[38;5;241m0.01\u001b[39m),\n\u001b[0;32m     13\u001b[0m                     )\n",
      "\u001b[1;31mNameError\u001b[0m: name 'n' is not defined"
     ]
    }
   ],
   "source": [
    "np.random.seed(42)\n",
    "random.seed(42)\n",
    "tf.random.set_seed(42)\n",
    "\n",
    "d = 2**n\n",
    "\n",
    "model = ModelQuantumMap(channel = KrausMap(d = d, \n",
    "                                            rank = d**2,\n",
    "                                            spam = IdealSPAM(d),\n",
    "                                            ),\n",
    "                        loss_function = ProbabilityMSE(),\n",
    "                        optimizer = tf.optimizers.Adam(learning_rate=0.01),\n",
    "                    )\n",
    "\n"
   ]
  },
  {
   "cell_type": "code",
   "execution_count": 14,
   "metadata": {},
   "outputs": [
    {
     "data": {
      "application/vnd.jupyter.widget-view+json": {
       "model_id": "c941debc6b9f4c8a8384ca7d913a71c1",
       "version_major": 2,
       "version_minor": 0
      },
      "text/plain": [
       "  0%|          | 0/2000 [00:00<?, ?it/s]"
      ]
     },
     "metadata": {},
     "output_type": "display_data"
    },
    {
     "name": "stdout",
     "output_type": "stream",
     "text": [
      "0.4411133161804305 None\n",
      "0.08626773336284373 None\n",
      "0.015268444545692143 None\n",
      "0.00501614649378974 None\n",
      "0.002623168580628299 None\n",
      "0.0018115112109788965 None\n",
      "0.0014647779733455984 None\n",
      "0.0012919223174343237 None\n",
      "0.001195518677941299 None\n",
      "0.0011369366102843546 None\n",
      "0.0010988768464046225 None\n",
      "0.0010728337181615572 None\n",
      "0.0010542908863367874 None\n",
      "0.001040685269774022 None\n",
      "0.001030474132957528 None\n",
      "0.0010226794188840018 None\n",
      "0.0010166526011747136 None\n",
      "0.001011947118056746 None\n",
      "0.0010082457864213467 None\n",
      "0.0010053175643383312 None\n",
      "0.0010030114277233676 None\n"
     ]
    }
   ],
   "source": [
    "model.train(inputs = inputs,\n",
    "            targets = targets,\n",
    "            num_iter = 2000,\n",
    "            N = 500,\n",
    "            verbose=True,\n",
    "        )"
   ]
  },
  {
   "cell_type": "code",
   "execution_count": 23,
   "metadata": {},
   "outputs": [],
   "source": [
    "choi = model.channel.choi\n",
    "\n",
    "data2 = np.load('data/data_diogo/Tgt_Map.npy', allow_pickle=True)\n",
    "choi_ref = reshuffle(data2[0])"
   ]
  },
  {
   "cell_type": "code",
   "execution_count": 19,
   "metadata": {},
   "outputs": [
    {
     "data": {
      "text/plain": [
       "<tf.Tensor: shape=(), dtype=float64, numpy=0.04181008687536769>"
      ]
     },
     "execution_count": 19,
     "metadata": {},
     "output_type": "execute_result"
    }
   ],
   "source": [
    "channel_fid = state_fidelity(choi, choi_ref)/d\n",
    "print(channel_fid)"
   ]
  },
  {
   "cell_type": "markdown",
   "metadata": {},
   "source": [
    "# Selfmade synthetic data"
   ]
  },
  {
   "cell_type": "code",
   "execution_count": 28,
   "metadata": {},
   "outputs": [],
   "source": [
    "import sys\n",
    "sys.path.insert(0, '../../../src_tf/')\n",
    "\n",
    "from synthetic_data import generate_map_data\n",
    "from quantum_channel import ChoiMapStatic\n",
    "from optimization import Logger"
   ]
  },
  {
   "cell_type": "code",
   "execution_count": 36,
   "metadata": {},
   "outputs": [],
   "source": [
    "n = 3\n",
    "d = 2**n\n",
    "\n",
    "np.random.seed(42)\n",
    "random.seed(42)\n",
    "tf.random.set_seed(42)\n",
    "\n",
    "data2 = np.load('data/data_diogo/Tgt_Map.npy', allow_pickle=True)\n",
    "super_operator_ref = data2[0]\n",
    "\n",
    "channel_target = ChoiMapStatic(super_operator_ref, mode= \"super_operator\")\n",
    "\n",
    "inputs_map, targets_map = generate_map_data(channel_target, IdealSPAM(d), N_map=None, shots=None, grid=True, batch_size=1000\n",
    ")"
   ]
  },
  {
   "cell_type": "code",
   "execution_count": 37,
   "metadata": {},
   "outputs": [],
   "source": [
    "np.random.seed(42)\n",
    "random.seed(42)\n",
    "tf.random.set_seed(42)\n",
    "\n",
    "model = ModelQuantumMap(channel = KrausMap(d = d, \n",
    "                                            rank = d**2,\n",
    "                                            spam = IdealSPAM(d),\n",
    "                                            ),\n",
    "                        loss_function = ProbabilityMSE(),\n",
    "                        optimizer = tf.optimizers.Adam(learning_rate=0.01),\n",
    "                        logger = Logger(loss_function=ProbabilityRValue(),\n",
    "                                        loss_function_val = channel_fidelity_loss,\n",
    "                                        sample_freq=100,)\n",
    "                    )"
   ]
  },
  {
   "cell_type": "code",
   "execution_count": 40,
   "metadata": {},
   "outputs": [
    {
     "data": {
      "application/vnd.jupyter.widget-view+json": {
       "model_id": "6b93547590c24a2bbc8d1324121a0977",
       "version_major": 2,
       "version_minor": 0
      },
      "text/plain": [
       "  0%|          | 0/2000 [00:00<?, ?it/s]"
      ]
     },
     "metadata": {},
     "output_type": "display_data"
    },
    {
     "name": "stdout",
     "output_type": "stream",
     "text": [
      "0.9999750807324187 -0.9901117626236576\n",
      "0.9999768025345733 -0.9907624110479312\n",
      "0.9999809031604473 -0.9913722778828955\n",
      "0.9999827748085977 -0.9919391355532091\n",
      "0.9999847573306689 -0.9924679801533448\n",
      "0.9999869516570384 -0.9929572366654352\n",
      "0.999988090642118 -0.9934145158714139\n",
      "0.9999901616512736 -0.9938373331368959\n",
      "0.999991162087131 -0.9942328206453238\n",
      "0.9999920779707314 -0.9945998763480808\n",
      "0.9999928225031672 -0.994942993656358\n",
      "0.9999937361542311 -0.9952605939293202\n",
      "0.9999947617706199 -0.99555711395683\n",
      "0.9999953521886357 -0.995830503358683\n",
      "0.9999957378298865 -0.9960852307550779\n",
      "0.9999963442293132 -0.9963226667999662\n",
      "0.9999966532225522 -0.9965427518425067\n",
      "0.999997106966605 -0.9967483458325929\n",
      "0.9999974070726244 -0.996939366456594\n",
      "0.9999977152236053 -0.9971187605537524\n",
      "0.9999978645944607 -0.9972838784283603\n"
     ]
    }
   ],
   "source": [
    "model.train(inputs = inputs_map,\n",
    "            targets = targets_map,\n",
    "            inputs_val = None,\n",
    "            targets_val = [channel_target],\n",
    "            num_iter = 2000,\n",
    "            N = 500,\n",
    "            verbose=True,\n",
    "        )"
   ]
  },
  {
   "cell_type": "code",
   "execution_count": 41,
   "metadata": {},
   "outputs": [
    {
     "name": "stdout",
     "output_type": "stream",
     "text": [
      "tf.Tensor(0.9972838858371896, shape=(), dtype=float64)\n"
     ]
    }
   ],
   "source": [
    "channel_fid = channel_fidelity(channel_target, model.channel)\n",
    "print(channel_fid)"
   ]
  }
 ],
 "metadata": {
  "kernelspec": {
   "display_name": "env_qiskit",
   "language": "python",
   "name": "env_qiskit"
  },
  "language_info": {
   "codemirror_mode": {
    "name": "ipython",
    "version": 3
   },
   "file_extension": ".py",
   "mimetype": "text/x-python",
   "name": "python",
   "nbconvert_exporter": "python",
   "pygments_lexer": "ipython3",
   "version": "3.10.4"
  }
 },
 "nbformat": 4,
 "nbformat_minor": 4
}
