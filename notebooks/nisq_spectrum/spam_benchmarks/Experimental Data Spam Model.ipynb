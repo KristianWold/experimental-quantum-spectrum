{
 "cells": [
  {
   "attachments": {},
   "cell_type": "markdown",
   "metadata": {},
   "source": [
    "# SPAM Models from Experimental Data"
   ]
  },
  {
   "cell_type": "code",
   "execution_count": 40,
   "metadata": {},
   "outputs": [],
   "source": [
    "import sys\n",
    "sys.path.insert(0, '../../../src_tf/')\n",
    "\n",
    "import numpy as np\n",
    "import qiskit as qk\n",
    "import matplotlib.pyplot as plt\n",
    "import multiprocessing as mp\n",
    "import random\n",
    "import pickle\n",
    "\n",
    "from qiskit.quantum_info import DensityMatrix, random_unitary\n",
    "from qiskit.quantum_info import Operator\n",
    "from scipy.linalg import sqrtm\n",
    "from tqdm.notebook import tqdm\n",
    "\n",
    "from loss_functions import *\n",
    "from optimization import *\n",
    "from quantum_channel import *\n",
    "from quantum_tools import *\n",
    "from experimental import *\n",
    "from spam import *\n",
    "\n",
    "#np.set_printoptions(threshold=sys.maxsize)\n",
    "np.set_printoptions(precision=4)\n",
    "\n",
    "#import os\n",
    "#os.environ[\"CUDA_VISIBLE_DEVICES\"] = \"-1\""
   ]
  },
  {
   "cell_type": "code",
   "execution_count": 73,
   "metadata": {},
   "outputs": [],
   "source": [
    "def train_spam(spam, num_iter_list, inputs, targets):\n",
    "    model_list = []\n",
    "    spam.pretrain(num_iter = 1000, verbose=False)\n",
    "    for num_iter in num_iter_list:\n",
    "        spam.train(num_iter = num_iter, \n",
    "                   inputs = inputs, \n",
    "                   targets = targets, \n",
    "                   verbose=False)\n",
    "        spam_copy = copy.deepcopy(spam)\n",
    "        spam_copy.optimizer = None\n",
    "        model_list.append(spam_copy)\n",
    "\n",
    "    return model_list\n",
    "    "
   ]
  },
  {
   "cell_type": "markdown",
   "metadata": {},
   "source": [
    "## Three Qubits"
   ]
  },
  {
   "cell_type": "code",
   "execution_count": null,
   "metadata": {},
   "outputs": [],
   "source": []
  },
  {
   "attachments": {},
   "cell_type": "markdown",
   "metadata": {},
   "source": [
    "## Four Qubit"
   ]
  },
  {
   "cell_type": "code",
   "execution_count": 76,
   "metadata": {},
   "outputs": [
    {
     "data": {
      "application/vnd.jupyter.widget-view+json": {
       "model_id": "d989faf8b4d64f908417798efb4df705",
       "version_major": 2,
       "version_minor": 0
      },
      "text/plain": [
       "  0%|          | 0/1000 [00:00<?, ?it/s]"
      ]
     },
     "metadata": {},
     "output_type": "display_data"
    }
   ],
   "source": [
    "n=4\n",
    "d=2**n\n",
    "np.random.seed(42)\n",
    "random.seed(42)\n",
    "tf.random.set_seed(42)\n",
    "\n",
    "inputs_map, targets_map, inputs_spam, targets_spam = loader(\"../../../data/belem_4qubits_8layers_fixTopology0\")\n",
    "\n",
    "spam = SPAM(init=InitialState(d), povm=POVM(d))\n",
    "model_list = train_spam(spam, num_iter_list=[1000,1000,1000], inputs=inputs_spam, targets=targets_spam)\n",
    "saver(model_list, \"data/spam_4qubits_1.models\")"
   ]
  },
  {
   "cell_type": "code",
   "execution_count": null,
   "metadata": {},
   "outputs": [],
   "source": [
    "n=4\n",
    "d=2**n\n",
    "np.random.seed(42)\n",
    "random.seed(42)\n",
    "tf.random.set_seed(42)\n",
    "\n",
    "inputs_map, targets_map, inputs_spam, targets_spam = loader(\"../../../data/belem_4qubits_16layers_fixTopology0\")\n",
    "\n",
    "spam = SPAM(init=InitialState(d), povm=POVM(d))\n",
    "model_list = train_spam(spam, num_iter_list=[1000,1000,1000], inputs=inputs_spam, targets=targets_spam)\n",
    "saver(model_list, \"data/spam_4qubits_2.models\")"
   ]
  },
  {
   "cell_type": "code",
   "execution_count": null,
   "metadata": {},
   "outputs": [],
   "source": [
    "n=4\n",
    "d=2**n\n",
    "np.random.seed(42)\n",
    "random.seed(42)\n",
    "tf.random.set_seed(42)\n",
    "\n",
    "inputs_map, targets_map, inputs_spam, targets_spam = loader(\"../../../data/belem_4qubits_24layers_fixTopology0\")\n",
    "\n",
    "spam = SPAM(init=InitialState(d), povm=POVM(d))\n",
    "model_list = train_spam(spam, num_iter_list=[1000,1000,1000], inputs=inputs_spam, targets=targets_spam)\n",
    "saver(model_list, \"data/spam_4qubits_3.models\")"
   ]
  },
  {
   "cell_type": "code",
   "execution_count": null,
   "metadata": {},
   "outputs": [],
   "source": [
    "n=4\n",
    "d=2**n\n",
    "np.random.seed(42)\n",
    "random.seed(42)\n",
    "tf.random.set_seed(42)\n",
    "\n",
    "inputs_map, targets_map, inputs_spam, targets_spam = loader(\"../../../data/belem_4qubits_32layers_fixTopology0\")\n",
    "\n",
    "spam = SPAM(init=InitialState(d), povm=POVM(d))\n",
    "model_list = train_spam(spam, num_iter_list=[1000,1000,1000], inputs=inputs_spam, targets=targets_spam)\n",
    "saver(model_list, \"data/spam_4qubits_4.models\")"
   ]
  }
 ],
 "metadata": {
  "kernelspec": {
   "display_name": "env_qiskit",
   "language": "python",
   "name": "python3"
  },
  "language_info": {
   "codemirror_mode": {
    "name": "ipython",
    "version": 3
   },
   "file_extension": ".py",
   "mimetype": "text/x-python",
   "name": "python",
   "nbconvert_exporter": "python",
   "pygments_lexer": "ipython3",
   "version": "3.10.4"
  }
 },
 "nbformat": 4,
 "nbformat_minor": 4
}
