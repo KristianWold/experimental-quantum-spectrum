{
 "cells": [
  {
   "attachments": {},
   "cell_type": "markdown",
   "metadata": {},
   "source": [
    "# Corruption Matrix Benchmark"
   ]
  },
  {
   "cell_type": "code",
   "execution_count": 1,
   "metadata": {},
   "outputs": [],
   "source": [
    "import sys\n",
    "sys.path.insert(0, '../../../src_tf/')\n",
    "\n",
    "import numpy as np\n",
    "import qiskit as qk\n",
    "import matplotlib.pyplot as plt\n",
    "import multiprocessing as mp\n",
    "import random\n",
    "import pickle\n",
    "\n",
    "from qiskit.quantum_info import DensityMatrix, random_unitary\n",
    "from qiskit.quantum_info import Operator\n",
    "from scipy.linalg import sqrtm\n",
    "from tqdm.notebook import tqdm\n",
    "\n",
    "from loss_functions import *\n",
    "from optimization import *\n",
    "from quantum_channel import *\n",
    "from quantum_tools import *\n",
    "from experimental import *\n",
    "from spam import *\n",
    "\n",
    "#np.set_printoptions(threshold=sys.maxsize)\n",
    "np.set_printoptions(precision=4)\n",
    "\n",
    "import os\n",
    "os.environ[\"CUDA_VISIBLE_DEVICES\"] = \"-1\""
   ]
  },
  {
   "attachments": {},
   "cell_type": "markdown",
   "metadata": {},
   "source": [
    "## Fit SPAM model\n",
    "\n",
    "### Generate True Model, Full POVM and Inital"
   ]
  },
  {
   "cell_type": "code",
   "execution_count": 3,
   "metadata": {},
   "outputs": [],
   "source": [
    "def generate_spam_benchmark(n=3, c1=1, c2=1):\n",
    "    d = 2**n\n",
    "\n",
    "    init_target = InitialState(d, c=c1)\n",
    "    povm_target = POVM(d, c=c2)\n",
    "\n",
    "    spam_target = SPAM(init = init_target,\n",
    "                       povm = povm_target)\n",
    "    \n",
    "    return spam_target\n",
    "\n",
    "\n",
    "def generate_spam_data(spam_target, N_spam=None, shots=1024):\n",
    "    n = int(np.log2(spam_target.d))\n",
    "    inputs_spam, _ = generate_pauliInput_circuits(n)\n",
    "    N_spam = inputs_spam.shape[0]\n",
    "\n",
    "    state = tf.repeat(spam_target.init.init[None,:,:], N_spam, axis=0)\n",
    "    state = apply_unitary(state, inputs_spam)\n",
    "    targets_spam = measurement(state, povm = spam_target.povm.povm)\n",
    "\n",
    "    #add noise\n",
    "    if shots != 0:\n",
    "        targets_spam = add_shot_noise(targets_spam, shots=shots)\n",
    "        \n",
    "    return inputs_spam, targets_spam\n",
    "\n",
    "\n",
    "def spam_pipeline(n, \n",
    "                  c1, \n",
    "                  c2,\n",
    "                  shots,\n",
    "                  use_corr = False,\n",
    "                  num_iter = 2000):\n",
    "    spam_target = generate_spam_benchmark(n=n, c1=c1, c2=c2)\n",
    "    inputs_spam, targets_spam = generate_spam_data(spam_target, N_spam=None, shots=shots)\n",
    "\n",
    "    \n",
    "    if use_corr:\n",
    "        povm = CorruptionMatrix(d)\n",
    "    else:\n",
    "        povm = POVM(d)\n",
    "        \n",
    "    spam_model = SPAM(init = InitialState(d),\n",
    "                      povm = povm,\n",
    "                      optimizer = tf.optimizers.Adam(learning_rate=0.01))\n",
    "\n",
    "    spam_model.pretrain(num_iter = 500, verbose=False)\n",
    "\n",
    "    spam_model.train(inputs = inputs_spam,\n",
    "                     targets = targets_spam,\n",
    "                     num_iter = num_iter,\n",
    "                     verbose = False,\n",
    "                    )\n",
    "    \n",
    "    return spam_target, spam_model"
   ]
  },
  {
   "attachments": {},
   "cell_type": "markdown",
   "metadata": {},
   "source": [
    "## Three Qubit"
   ]
  },
  {
   "cell_type": "code",
   "execution_count": 21,
   "metadata": {
    "scrolled": true
   },
   "outputs": [
    {
     "data": {
      "application/vnd.jupyter.widget-view+json": {
       "model_id": "814f2636a5494bcdbdb1f4d94dc101ce",
       "version_major": 2,
       "version_minor": 0
      },
      "text/plain": [
       "  0%|          | 0/11 [00:00<?, ?it/s]"
      ]
     },
     "metadata": {},
     "output_type": "display_data"
    }
   ],
   "source": [
    "n = 3\n",
    "d = 2**n\n",
    "c1 = 0.997\n",
    "c2 = 0.89\n",
    "\n",
    "\n",
    "num_reps = 10\n",
    "shots_list = np.linspace(7, 16, 10)\n",
    "shots_list = 2**shots_list\n",
    "shots_list = np.append(shots_list, 0)\n",
    "\n",
    "init_fid_list = np.zeros((len(shots_list), num_reps))\n",
    "povm_fid_list = np.zeros((len(shots_list), num_reps))\n",
    "\n",
    "for i, shots in enumerate(tqdm(shots_list)):   \n",
    "    np.random.seed(42)\n",
    "    random.seed(42)\n",
    "    tf.random.set_seed(42)\n",
    "    for rep in range(num_reps):    \n",
    "        spam_model, spam_target = spam_pipeline(n=n,\n",
    "                                                c1=c1,\n",
    "                                                c2=c2,\n",
    "                                                shots = shots,\n",
    "                                                use_corr=False,\n",
    "                                                num_iter = 2000,\n",
    "                                                )\n",
    "        \n",
    "        init_fid_list[i, rep] = state_fidelity(spam_model.init.init, spam_target.init.init)\n",
    "        povm_fid_list[i, rep] = povm_fidelity(spam_model.povm.povm, spam_target.povm.povm)\n",
    "        \n",
    "#saver([init_fid_list, povm_fid_list], data_path(\"spam_fidelity_3qubit_full.data\"))\n",
    "saver([init_fid_list, povm_fid_list], \"data/spam_fidelity_3qubit_full_shotnoise.data\")"
   ]
  },
  {
   "cell_type": "code",
   "execution_count": 22,
   "metadata": {
    "scrolled": true
   },
   "outputs": [
    {
     "data": {
      "application/vnd.jupyter.widget-view+json": {
       "model_id": "9275fa5e3766483992eaf368d0ed9c8b",
       "version_major": 2,
       "version_minor": 0
      },
      "text/plain": [
       "  0%|          | 0/11 [00:00<?, ?it/s]"
      ]
     },
     "metadata": {},
     "output_type": "display_data"
    }
   ],
   "source": [
    "n = 3\n",
    "d = 2**n\n",
    "c1 = 0.997\n",
    "c2 = 0.89\n",
    "\n",
    "\n",
    "num_reps = 10\n",
    "shots_list = np.linspace(7, 16, 10)\n",
    "shots_list = 2**shots_list\n",
    "shots_list = np.append(shots_list, 0)\n",
    "\n",
    "init_fid_list = np.zeros((len(shots_list), num_reps))\n",
    "povm_fid_list = np.zeros((len(shots_list), num_reps))\n",
    "\n",
    "for i, shots in enumerate(tqdm(shots_list)):   \n",
    "    np.random.seed(42)\n",
    "    random.seed(42)\n",
    "    tf.random.set_seed(42)\n",
    "    for rep in range(num_reps):    \n",
    "        spam_model, spam_target = spam_pipeline(n=n,\n",
    "                                                c1=c1,\n",
    "                                                c2=c2,\n",
    "                                                shots = shots,\n",
    "                                                use_corr=True,\n",
    "                                                num_iter = 2000,\n",
    "                                                )\n",
    "        \n",
    "        init_fid_list[i, rep] = state_fidelity(spam_model.init.init, spam_target.init.init)\n",
    "        povm_fid_list[i, rep] = povm_fidelity(spam_model.povm.povm, spam_target.povm.povm)\n",
    "        \n",
    "#saver([init_fid_list, povm_fid_list], data_path(\"spam_fidelity_3qubit_full.data\"))\n",
    "saver([init_fid_list, povm_fid_list], \"data/spam_fidelity_3qubit_corr_shotnoise.data\")"
   ]
  },
  {
   "attachments": {},
   "cell_type": "markdown",
   "metadata": {},
   "source": [
    "## Four Qubit"
   ]
  },
  {
   "cell_type": "code",
   "execution_count": 27,
   "metadata": {},
   "outputs": [
    {
     "data": {
      "application/vnd.jupyter.widget-view+json": {
       "model_id": "61776a085e27427bba00eb6df841cf29",
       "version_major": 2,
       "version_minor": 0
      },
      "text/plain": [
       "  0%|          | 0/11 [00:00<?, ?it/s]"
      ]
     },
     "metadata": {},
     "output_type": "display_data"
    }
   ],
   "source": [
    "n = 4\n",
    "d = 2**n\n",
    "c1 = 0.96\n",
    "c2 = 0.88\n",
    "\n",
    "\n",
    "num_reps = 10\n",
    "shots_list = np.linspace(7, 16, 10)\n",
    "shots_list = 2**shots_list\n",
    "shots_list = np.append(shots_list, 0)\n",
    "\n",
    "init_fid_list = np.zeros((len(shots_list), num_reps))\n",
    "povm_fid_list = np.zeros((len(shots_list), num_reps))\n",
    "\n",
    "for i, shots in enumerate(tqdm(shots_list)):   \n",
    "    np.random.seed(42)\n",
    "    random.seed(42)\n",
    "    tf.random.set_seed(42)\n",
    "    for rep in range(num_reps):    \n",
    "        spam_model, spam_target = spam_pipeline(n=n,\n",
    "                                                c1=c1,\n",
    "                                                c2=c2,\n",
    "                                                shots = shots,\n",
    "                                                use_corr=False,\n",
    "                                                num_iter = 1000,\n",
    "                                                )\n",
    "        \n",
    "        init_fid_list[i, rep] = state_fidelity(spam_model.init.init, spam_target.init.init)\n",
    "        povm_fid_list[i, rep] = povm_fidelity(spam_model.povm.povm, spam_target.povm.povm)\n",
    "        \n",
    "#saver([init_fid_list, povm_fid_list], data_path(\"spam_fidelity_3qubit_full.data\"))\n",
    "saver([init_fid_list, povm_fid_list], \"data/spam_fidelity_4qubit_full_shotnoise.data\")"
   ]
  },
  {
   "cell_type": "code",
   "execution_count": null,
   "metadata": {},
   "outputs": [
    {
     "data": {
      "application/vnd.jupyter.widget-view+json": {
       "model_id": "2ac86219ebec420a8bb6b9aa786d02d6",
       "version_major": 2,
       "version_minor": 0
      },
      "text/plain": [
       "  0%|          | 0/11 [00:00<?, ?it/s]"
      ]
     },
     "metadata": {},
     "output_type": "display_data"
    },
    {
     "name": "stderr",
     "output_type": "stream",
     "text": [
      "c:\\Users\\krist\\anaconda3\\envs\\env_qiskit\\lib\\site-packages\\tensorflow\\python\\framework\\ops.py:1064: ComplexWarning: Casting complex values to real discards the imaginary part\n",
      "  return float(self._numpy())\n"
     ]
    },
    {
     "ename": "FileNotFoundError",
     "evalue": "[Errno 2] No such file or directory: '../../data\\\\spam_fidelity_4qubit_corr_shotnoise.data'",
     "output_type": "error",
     "traceback": [
      "\u001b[1;31m---------------------------------------------------------------------------\u001b[0m",
      "\u001b[1;31mFileNotFoundError\u001b[0m                         Traceback (most recent call last)",
      "\u001b[1;32mc:\\Users\\krist\\Documents\\ModelNISQ\\notebooks\\nisq_spectrum\\spam_benchmarks\\Corruption Matrix Benchmark.ipynb Cell 10\u001b[0m in \u001b[0;36m<cell line: 32>\u001b[1;34m()\u001b[0m\n\u001b[0;32m     <a href='vscode-notebook-cell:/c%3A/Users/krist/Documents/ModelNISQ/notebooks/nisq_spectrum/spam_benchmarks/Corruption%20Matrix%20Benchmark.ipynb#X12sZmlsZQ%3D%3D?line=28'>29</a>\u001b[0m         povm_fid_list[i, rep] \u001b[39m=\u001b[39m povm_fidelity(spam_model\u001b[39m.\u001b[39mpovm\u001b[39m.\u001b[39mpovm, spam_target\u001b[39m.\u001b[39mpovm\u001b[39m.\u001b[39mpovm)\n\u001b[0;32m     <a href='vscode-notebook-cell:/c%3A/Users/krist/Documents/ModelNISQ/notebooks/nisq_spectrum/spam_benchmarks/Corruption%20Matrix%20Benchmark.ipynb#X12sZmlsZQ%3D%3D?line=30'>31</a>\u001b[0m \u001b[39m#saver([init_fid_list, povm_fid_list], data_path(\"spam_fidelity_3qubit_full.data\"))\u001b[39;00m\n\u001b[1;32m---> <a href='vscode-notebook-cell:/c%3A/Users/krist/Documents/ModelNISQ/notebooks/nisq_spectrum/spam_benchmarks/Corruption%20Matrix%20Benchmark.ipynb#X12sZmlsZQ%3D%3D?line=31'>32</a>\u001b[0m saver([init_fid_list, povm_fid_list], data_path(\u001b[39m\"\u001b[39;49m\u001b[39mspam_fidelity_4qubit_corr_shotnoise.data\u001b[39;49m\u001b[39m\"\u001b[39;49m))\n",
      "File \u001b[1;32mc:\\Users\\krist\\Documents\\ModelNISQ\\notebooks\\nisq_spectrum\\spam_benchmarks\\../../../src_tf\\utils.py:94\u001b[0m, in \u001b[0;36msaver\u001b[1;34m(object, filename)\u001b[0m\n\u001b[0;32m     93\u001b[0m \u001b[39mdef\u001b[39;00m \u001b[39msaver\u001b[39m(\u001b[39mobject\u001b[39m, filename):\n\u001b[1;32m---> 94\u001b[0m     pickle\u001b[39m.\u001b[39mdump(\u001b[39mobject\u001b[39m, \u001b[39mopen\u001b[39;49m(filename, \u001b[39m\"\u001b[39;49m\u001b[39mwb\u001b[39;49m\u001b[39m\"\u001b[39;49m))\n",
      "\u001b[1;31mFileNotFoundError\u001b[0m: [Errno 2] No such file or directory: '../../data\\\\spam_fidelity_4qubit_corr_shotnoise.data'"
     ]
    }
   ],
   "source": [
    "n = 4\n",
    "d = 2**n\n",
    "c1 = 0.96\n",
    "c2 = 0.88\n",
    "\n",
    "\n",
    "num_reps = 10\n",
    "shots_list = np.linspace(7, 16, 10)\n",
    "shots_list = 2**shots_list\n",
    "shots_list = np.append(shots_list, 0)\n",
    "\n",
    "init_fid_list = np.zeros((len(shots_list), num_reps))\n",
    "povm_fid_list = np.zeros((len(shots_list), num_reps))\n",
    "\n",
    "for i, shots in enumerate(tqdm(shots_list)):   \n",
    "    np.random.seed(42)\n",
    "    random.seed(42)\n",
    "    tf.random.set_seed(42)\n",
    "    for rep in range(num_reps):    \n",
    "        spam_model, spam_target = spam_pipeline(n=n,\n",
    "                                                c1=c1,\n",
    "                                                c2=c2,\n",
    "                                                shots = shots,\n",
    "                                                use_corr=True,\n",
    "                                                num_iter = 1000,\n",
    "                                                )\n",
    "        \n",
    "        init_fid_list[i, rep] = state_fidelity(spam_model.init.init, spam_target.init.init)\n",
    "        povm_fid_list[i, rep] = povm_fidelity(spam_model.povm.povm, spam_target.povm.povm)\n",
    "        \n",
    "#saver([init_fid_list, povm_fid_list], data_path(\"spam_fidelity_3qubit_full.data\"))\n",
    "saver([init_fid_list, povm_fid_list], \"data/spam_fidelity_4qubit_corr_shotnoise.data\")"
   ]
  }
 ],
 "metadata": {
  "kernelspec": {
   "display_name": "env_qiskit",
   "language": "python",
   "name": "env_qiskit"
  },
  "language_info": {
   "codemirror_mode": {
    "name": "ipython",
    "version": 3
   },
   "file_extension": ".py",
   "mimetype": "text/x-python",
   "name": "python",
   "nbconvert_exporter": "python",
   "pygments_lexer": "ipython3",
   "version": "3.10.4"
  }
 },
 "nbformat": 4,
 "nbformat_minor": 4
}
