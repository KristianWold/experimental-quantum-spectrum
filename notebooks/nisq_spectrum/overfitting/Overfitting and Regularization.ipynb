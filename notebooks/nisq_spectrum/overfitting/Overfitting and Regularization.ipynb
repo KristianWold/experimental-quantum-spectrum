{
 "cells": [
  {
   "attachments": {},
   "cell_type": "markdown",
   "metadata": {},
   "source": [
    "# Overfitting and Regularization"
   ]
  },
  {
   "cell_type": "code",
   "execution_count": 5,
   "metadata": {},
   "outputs": [],
   "source": [
    "import sys\n",
    "sys.path.insert(0, '../../../src_tf/')\n",
    "\n",
    "import numpy as np\n",
    "import qiskit as qk\n",
    "import matplotlib.pyplot as plt\n",
    "import multiprocessing as mp\n",
    "import random\n",
    "import pickle\n",
    "\n",
    "from qiskit.quantum_info import DensityMatrix, random_unitary\n",
    "from qiskit.quantum_info import Operator\n",
    "from scipy.linalg import sqrtm\n",
    "from tqdm.notebook import tqdm\n",
    "from math import ceil\n",
    "\n",
    "from loss_functions import *\n",
    "from optimization import *\n",
    "from quantum_channel import *\n",
    "from kraus_channels import *\n",
    "from quantum_tools import *\n",
    "from experimental import *\n",
    "from spam import *\n",
    "from scipy.stats import gaussian_kde\n",
    "from quantum_circuits import *\n",
    "\n",
    "#np.set_printoptions(threshold=sys.maxsize)\n",
    "np.set_printoptions(precision=4)\n",
    "\n",
    "import os\n",
    "os.environ[\"CUDA_VISIBLE_DEVICES\"] = \"-1\""
   ]
  },
  {
   "cell_type": "code",
   "execution_count": 8,
   "metadata": {},
   "outputs": [],
   "source": [
    "path1 = \"../../../data/\"\n",
    "path2 = \"../concatenation/data/\"\n",
    "\n",
    "def evaluate_channel(channel, inputs, targets):\n",
    "    d = channel.d\n",
    "    r2 = ProbabilityRValue()\n",
    "    loss = r2(channel, inputs, targets)\n",
    "    return np.real(loss)\n",
    "\n",
    "\n",
    "def calculate_channel_fittness(model_name, data_name, num_layers = None):\n",
    "    model_list = loader(path2 + model_name)\n",
    "    reps = len(model_list)//3\n",
    "    \n",
    "    d = model_list[0].channel.d\n",
    "    n = int(np.log2(d))\n",
    "\n",
    "    U1_circuit_list = []\n",
    "    U2_circuit_list = []\n",
    "    U3_circuit_list = []\n",
    "\n",
    "    R1_fid_list = []\n",
    "    R2_fid_list = []\n",
    "    R3_fid_list = []\n",
    "\n",
    "    U1_fid_list = []\n",
    "    U2_fid_list = []\n",
    "    U3_fid_list = []\n",
    "\n",
    "    T1_fid_list = []\n",
    "    T2_fid_list = []\n",
    "    T12_fid_list = []\n",
    "    T3_fid_list = []\n",
    "\n",
    "    np.random.seed(42)\n",
    "    random.seed(42)\n",
    "    \n",
    "    for i in tqdm(range(reps)):\n",
    "\n",
    "        circuit1 = pqc_basic(n, num_layers)#.reverse_bits()\n",
    "        U1 = circuit_to_matrix(circuit1)\n",
    "        U1_circuit_list.append(U1)\n",
    "\n",
    "        circuit2 = pqc_basic(n, num_layers)#.reverse_bits()\n",
    "        U2 = circuit_to_matrix(circuit2)\n",
    "        U2_circuit_list.append(U2)\n",
    "\n",
    "        circuit3 = deepcopy(circuit1)\n",
    "        circuit3 = circuit3.compose(circuit2)\n",
    "        U3 = circuit_to_matrix(circuit3)\n",
    "        U3_circuit_list.append(U3)\n",
    "\n",
    "        #Throw-away computation to advance RNG correctly\n",
    "        circuit_target_list = [circuit1, circuit2, circuit3]\n",
    "        belem_concatenate = ExecuteAndCollect()\n",
    "        belem_concatenate.setup_circuits(circuit_target_list, N_map = 2000-6**n)\n",
    "    \n",
    "    for i in range(reps):\n",
    "        inputs1, targets1, _, _ = loader(path1 + data_name + f\"{i}0\")\n",
    "        inputs2, targets2, _, _ = loader(path1 + data_name + f\"{i}1\")\n",
    "        inputs3, targets3, _, _ = loader(path1 + data_name + f\"{i}2\")\n",
    "        \n",
    "\n",
    "        model1 = model_list[3*i]\n",
    "        model2 = model_list[3*i+1]\n",
    "        model3 = model_list[3*i+2]\n",
    "\n",
    "        channel1 = model1.channel\n",
    "        channel2 = model2.channel\n",
    "        channel3 = model3.channel\n",
    "\n",
    "        channel12 = channel_to_choi_map([channel1, channel2])\n",
    "        channel12.spam = channel3.spam\n",
    "\n",
    "        identity_channel1 = IdentityChannel(d)\n",
    "        identity_channel1.spam = channel1.spam\n",
    "\n",
    "        identity_channel2 = IdentityChannel(d)\n",
    "        identity_channel2.spam = channel2.spam\n",
    "\n",
    "        identity_channel3 = IdentityChannel(d)\n",
    "        identity_channel3.spam = channel3.spam\n",
    "\n",
    "        U_channel1 = ChoiMapStatic(U1_circuit_list[i], mode=\"unitary\")\n",
    "        U_channel1.spam = channel1.spam\n",
    "\n",
    "        U_channel2 = ChoiMapStatic(U2_circuit_list[i], mode=\"unitary\")\n",
    "        U_channel2.spam = channel2.spam\n",
    "\n",
    "        U_channel3 = ChoiMapStatic(U3_circuit_list[i], mode=\"unitary\")\n",
    "        U_channel3.spam = channel3.spam\n",
    "\n",
    "        R1_fid_list.append(evaluate_channel(identity_channel1, inputs1, targets1))\n",
    "        R2_fid_list.append(evaluate_channel(identity_channel2, inputs2, targets2))\n",
    "        R3_fid_list.append(evaluate_channel(identity_channel3, inputs3, targets3)) \n",
    "\n",
    "        U1_fid_list.append(evaluate_channel(U_channel1, inputs1, targets1))\n",
    "        U2_fid_list.append(evaluate_channel(U_channel2, inputs2, targets2))\n",
    "        U3_fid_list.append(evaluate_channel(U_channel3, inputs3, targets3))\n",
    "\n",
    "        T1_fid_list.append(evaluate_channel(channel1, inputs1, targets1))\n",
    "        T2_fid_list.append(evaluate_channel(channel2, inputs2, targets2))\n",
    "        T12_fid_list.append(evaluate_channel(channel12, inputs3, targets3))\n",
    "        T3_fid_list.append(evaluate_channel(channel3, inputs3, targets3))\n",
    "        \n",
    "    \n",
    "    Id_single_fid_mean = np.mean(R1_fid_list + R2_fid_list)\n",
    "    Id_single_fid_std= np.std(R1_fid_list + R2_fid_list)\n",
    "    \n",
    "    Id_full_fid_mean = np.mean(R3_fid_list)  \n",
    "    Id_full_fid_std = np.std(R3_fid_list)  \n",
    "\n",
    "    U_single_fid_mean = np.mean(U1_fid_list + U2_fid_list)\n",
    "    U_single_fid_std = np.std(U1_fid_list + U2_fid_list)\n",
    "    \n",
    "    U_full_fid_mean = np.mean(U3_fid_list)  \n",
    "    U_full_fid_std = np.std(U3_fid_list)  \n",
    "    \n",
    "    T_single_fid_mean = np.mean(T1_fid_list + T2_fid_list)\n",
    "    T_single_fid_std = np.std(T1_fid_list + T2_fid_list)\n",
    "    \n",
    "    T_concat_fid_mean = np.mean(T12_fid_list)\n",
    "    T_concat_fid_std = np.std(T12_fid_list)\n",
    "    \n",
    "    T_full_fid_mean = np.mean(T3_fid_list)\n",
    "    T_full_fid_std = np.std(T3_fid_list)\n",
    "    \n",
    "    mean_list = [Id_single_fid_mean, Id_full_fid_mean, U_single_fid_mean, U_full_fid_mean, T_single_fid_mean, T_full_fid_mean, T_concat_fid_mean]\n",
    "    std_list = [Id_single_fid_std, Id_full_fid_std, U_single_fid_std, U_full_fid_std, T_single_fid_std, T_full_fid_std, T_concat_fid_std]\n",
    "\n",
    "    \n",
    "    return mean_list, std_list"
   ]
  },
  {
   "attachments": {},
   "cell_type": "markdown",
   "metadata": {},
   "source": [
    "## KL Divergence with Respect to Real Data"
   ]
  },
  {
   "cell_type": "code",
   "execution_count": 11,
   "metadata": {},
   "outputs": [
    {
     "data": {
      "application/vnd.jupyter.widget-view+json": {
       "model_id": "783c2cdf701f4004b5eb9a4f66a2c84f",
       "version_major": 2,
       "version_minor": 0
      },
      "text/plain": [
       "  0%|          | 0/1 [00:00<?, ?it/s]"
      ]
     },
     "metadata": {},
     "output_type": "display_data"
    },
    {
     "data": {
      "application/vnd.jupyter.widget-view+json": {
       "model_id": "5c41d268bf804c75b528669df72ac199",
       "version_major": 2,
       "version_minor": 0
      },
      "text/plain": [
       "  0%|          | 0/1 [00:00<?, ?it/s]"
      ]
     },
     "metadata": {},
     "output_type": "display_data"
    },
    {
     "data": {
      "application/vnd.jupyter.widget-view+json": {
       "model_id": "aea363863cbb4a21bbae1a9c9fb3d9fe",
       "version_major": 2,
       "version_minor": 0
      },
      "text/plain": [
       "  0%|          | 0/1 [00:00<?, ?it/s]"
      ]
     },
     "metadata": {},
     "output_type": "display_data"
    }
   ],
   "source": [
    "mean_list1, std_list1 = calculate_channel_fittness(model_name=\"belem_concatenate_2layer_fullRank_fitted.model\",\n",
    "                                                   data_name= \"belem_concatenate_2layer\", \n",
    "                                                   num_layers = 2)\n",
    "\n",
    "mean_list2, std_list2 = calculate_channel_fittness(model_name=\"belem_concatenate_2layer_halfRank_fitted.model\",\n",
    "                                                   data_name= \"belem_concatenate_2layer\", \n",
    "                                                   num_layers = 2)\n",
    "\n",
    "mean_list3, std_list3 = calculate_channel_fittness(model_name=\"belem_concatenate_2layer_quarterRank_fitted.model\",\n",
    "                                                   data_name= \"belem_concatenate_2layer\", \n",
    "                                                   num_layers = 2)"
   ]
  },
  {
   "cell_type": "code",
   "execution_count": 12,
   "metadata": {},
   "outputs": [
    {
     "name": "stdout",
     "output_type": "stream",
     "text": [
      "0.712195671509538\n",
      "0.7128819955366874\n",
      "0.7127369104243523\n"
     ]
    }
   ],
   "source": [
    "print(mean_list1[-1])\n",
    "print(mean_list2[-1])\n",
    "print(mean_list3[-1])"
   ]
  },
  {
   "cell_type": "code",
   "execution_count": 17,
   "metadata": {},
   "outputs": [
    {
     "data": {
      "application/vnd.jupyter.widget-view+json": {
       "model_id": "1e81717db0214fae8d829a3b57454a41",
       "version_major": 2,
       "version_minor": 0
      },
      "text/plain": [
       "  0%|          | 0/1 [00:00<?, ?it/s]"
      ]
     },
     "metadata": {},
     "output_type": "display_data"
    },
    {
     "data": {
      "application/vnd.jupyter.widget-view+json": {
       "model_id": "9eceef1b0e70413aa6fa6a9e94c3610e",
       "version_major": 2,
       "version_minor": 0
      },
      "text/plain": [
       "  0%|          | 0/1 [00:00<?, ?it/s]"
      ]
     },
     "metadata": {},
     "output_type": "display_data"
    },
    {
     "data": {
      "application/vnd.jupyter.widget-view+json": {
       "model_id": "f9925a41c93d47228d367bf23c967c95",
       "version_major": 2,
       "version_minor": 0
      },
      "text/plain": [
       "  0%|          | 0/1 [00:00<?, ?it/s]"
      ]
     },
     "metadata": {},
     "output_type": "display_data"
    }
   ],
   "source": [
    "mean_list1, std_list1 = calculate_channel_fittness(model_name=\"belem_concatenate_4layer_fullRank_fitted.model\",\n",
    "                                                   data_name= \"belem_concatenate_4layer\", \n",
    "                                                   num_layers = 4)\n",
    "\n",
    "mean_list2, std_list2 = calculate_channel_fittness(model_name=\"belem_concatenate_4layer_halfRank_fitted.model\",\n",
    "                                                   data_name= \"belem_concatenate_4layer\", \n",
    "                                                   num_layers = 4)\n",
    "\n",
    "mean_list3, std_list3 = calculate_channel_fittness(model_name=\"belem_concatenate_4layer_quarterRank_fitted.model\",\n",
    "                                                   data_name= \"belem_concatenate_4layer\", \n",
    "                                                   num_layers = 4)"
   ]
  },
  {
   "cell_type": "code",
   "execution_count": 18,
   "metadata": {},
   "outputs": [
    {
     "name": "stdout",
     "output_type": "stream",
     "text": [
      "[-3.818022424333978, -4.76775661832606, 0.29376551830236286, -0.18336161098261394, 0.934179841522341, 0.934724153784494, 0.6875667436633907]\n",
      "[-3.8174311358682314, -4.765891860649552, 0.2939924573766093, -0.18228370782826286, 0.9341995517818148, 0.9347604340083816, 0.6846951397046634]\n",
      "[-3.818081315260947, -4.767929399113197, 0.293824878534763, -0.18344940022298029, 0.933897807697665, 0.9331132018753372, 0.6834505622671028]\n"
     ]
    }
   ],
   "source": [
    "print(mean_list1)\n",
    "print(mean_list2)\n",
    "print(mean_list3)"
   ]
  }
 ],
 "metadata": {
  "kernelspec": {
   "display_name": "env_qiskit",
   "language": "python",
   "name": "env_qiskit"
  },
  "language_info": {
   "codemirror_mode": {
    "name": "ipython",
    "version": 3
   },
   "file_extension": ".py",
   "mimetype": "text/x-python",
   "name": "python",
   "nbconvert_exporter": "python",
   "pygments_lexer": "ipython3",
   "version": "3.10.4"
  }
 },
 "nbformat": 4,
 "nbformat_minor": 4
}
