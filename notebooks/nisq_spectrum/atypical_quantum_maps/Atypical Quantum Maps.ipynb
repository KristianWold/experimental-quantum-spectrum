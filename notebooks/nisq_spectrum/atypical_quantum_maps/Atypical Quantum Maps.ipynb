{
 "cells": [
  {
   "attachments": {},
   "cell_type": "markdown",
   "metadata": {},
   "source": [
    "# Numerical Benchmarks"
   ]
  },
  {
   "cell_type": "code",
   "execution_count": 1,
   "metadata": {},
   "outputs": [],
   "source": [
    "import sys\n",
    "sys.path.insert(0, '../../../src_tf/')\n",
    "\n",
    "import numpy as np\n",
    "import qiskit as qk\n",
    "import matplotlib.pyplot as plt\n",
    "import multiprocessing as mp\n",
    "import random\n",
    "import pickle\n",
    "\n",
    "from qiskit.quantum_info import DensityMatrix, random_unitary\n",
    "from qiskit.quantum_info import Operator\n",
    "from scipy.linalg import sqrtm\n",
    "from tqdm.notebook import tqdm\n",
    "\n",
    "from loss_functions import *\n",
    "from optimization import *\n",
    "from quantum_channel import *\n",
    "from kraus_channels import *\n",
    "from lindblad_channels import *\n",
    "from quantum_tools import *\n",
    "from experimental import *\n",
    "from spam import *\n",
    "\n",
    "#np.set_printoptions(threshold=sys.maxsize)\n",
    "np.set_printoptions(precision=4)\n",
    "\n",
    "#import os\n",
    "#os.environ[\"CUDA_VISIBLE_DEVICES\"] = \"-1\""
   ]
  },
  {
   "attachments": {},
   "cell_type": "markdown",
   "metadata": {},
   "source": [
    "## Recover SPAM and Map\n",
    "\n",
    "### Generate True Model, Full POVM and Inital"
   ]
  },
  {
   "cell_type": "code",
   "execution_count": 9,
   "metadata": {},
   "outputs": [],
   "source": [
    "def generate_spam_benchmark(n=3, c1=1, c2=1):\n",
    "    d = 2**n\n",
    "\n",
    "    init_target = InitialState(d, c=c1)\n",
    "    povm_target = POVM(d, c=c2)\n",
    "\n",
    "    spam_target = SPAM(init = init_target,\n",
    "                       povm = povm_target)\n",
    "    \n",
    "    return spam_target\n",
    "\n",
    "\n",
    "def generate_spam_data(spam_target, N_spam=None, shots=1024):\n",
    "    n = int(np.log2(spam_target.d))\n",
    "    inputs_spam, _ = generate_pauliInput_circuits(n)\n",
    "    N_spam = inputs_spam.shape[0]\n",
    "\n",
    "    state = tf.repeat(spam_target.init.init[None,:,:], N_spam, axis=0)\n",
    "    targets_spam = measurement(state, U_basis = inputs_spam, povm = spam_target.povm.povm)\n",
    "\n",
    "    #add noise\n",
    "    targets_spam = add_shot_noise(targets_spam, shots = shots)\n",
    "    return inputs_spam, targets_spam\n",
    "\n",
    "\n",
    "def generate_map_data(channel_target, spam_target, N_map=None, shots=1024):\n",
    "    n = int(np.log2(channel_target.d))\n",
    "    inputs_map, _ = generate_pauli_circuits(n = n, \n",
    "                                            circuit_target=None,  \n",
    "                                            trace=False,\n",
    "                                            N=N_map)\n",
    "    U_prep, U_basis = inputs_map\n",
    "\n",
    "    N_map = U_prep.shape[0]\n",
    "    state = tf.repeat(tf.expand_dims(spam_target.init.init, axis=0), N_map, axis=0)\n",
    "    state = apply_unitary(state, U_prep)\n",
    "    state = channel_target.apply_channel(state)\n",
    "    targets_map = measurement(state, U_basis, spam_target.povm.povm)\n",
    "    \n",
    "    #add noise\n",
    "    targets_map = add_shot_noise(targets_map, shots = shots)\n",
    "\n",
    "    return inputs_map, targets_map\n",
    "\n",
    "\n",
    "def model_pipeline(channel_target = None, shots=1024, N_map = None, num_iter_spam=None, num_iter_map=None, verbose=False):\n",
    "    # Make Benchmark\n",
    "    #################################################################################\n",
    "    n = 4\n",
    "    d = 2**n\n",
    "    \n",
    "    spam_target = generate_spam_benchmark(n=n, c1=0.96, c2=0.85)\n",
    "    inputs_spam, targets_spam = generate_spam_data(spam_target, N_spam=None, shots=shots)\n",
    "\n",
    "    inputs_map, targets_map = generate_map_data(channel_target, spam_target, N_map=N_map, shots=shots)\n",
    "    #################################################################################\n",
    "\n",
    "    # Fit Models\n",
    "    #################################################################################\n",
    "    spam_model = SPAM(init = InitialState(d),\n",
    "                      povm = CorruptionMatrix(d),\n",
    "                      optimizer = tf.optimizers.Adam(learning_rate=0.01))\n",
    "    \n",
    "    spam_model.pretrain(500, verbose=False)\n",
    "\n",
    "    spam_model.train(inputs = inputs_spam,\n",
    "                     targets = targets_spam,\n",
    "                     num_iter = num_iter_map,\n",
    "                     verbose = False,\n",
    "                    )\n",
    "\n",
    "    model = ModelQuantumMap(channel = KrausMap(d = d, \n",
    "                                               rank = d**2,\n",
    "                                               spam = spam_model,\n",
    "                                              ),\n",
    "                            loss_function = ProbabilityMSE(),\n",
    "                            optimizer = tf.optimizers.Adam(learning_rate=0.01),\n",
    "                            logger = Logger(loss_function = ProbabilityMSE(),\n",
    "                                            loss_function_val = channel_fidelity_loss,\n",
    "                                            sample_freq = 400),\n",
    "                           )\n",
    "\n",
    "    model.train(inputs = inputs_map,\n",
    "                targets = targets_map,\n",
    "                inputs_val = None,\n",
    "                targets_val = [channel_target],\n",
    "                num_iter = num_iter_map,\n",
    "                N = 500,\n",
    "                verbose = verbose,\n",
    "                )\n",
    "    #################################################################################\n",
    "    model.optimizer = None\n",
    "    spam_model.optimizer = None\n",
    "    model.inputs = None\n",
    "    model.targets = None\n",
    "    model.inputs_val = None\n",
    "    model.targets_val = None\n",
    "\n",
    "    return model"
   ]
  },
  {
   "attachments": {},
   "cell_type": "markdown",
   "metadata": {},
   "source": [
    "## Fit Models"
   ]
  },
  {
   "cell_type": "code",
   "execution_count": 10,
   "metadata": {},
   "outputs": [
    {
     "data": {
      "application/vnd.jupyter.widget-view+json": {
       "model_id": "efa38e5d0b94453296e64074f8cecabd",
       "version_major": 2,
       "version_minor": 0
      },
      "text/plain": [
       "  0%|          | 0/1000 [00:00<?, ?it/s]"
      ]
     },
     "metadata": {},
     "output_type": "display_data"
    },
    {
     "name": "stdout",
     "output_type": "stream",
     "text": [
      "0.1891934881689136 -0.06214601393573983\n",
      "0.017331334477508266 -0.7141584089683263\n",
      "0.014329178877319177 -0.8358826618228178\n",
      "0.013835831194309596 -0.8547328513033914\n"
     ]
    },
    {
     "ename": "KeyboardInterrupt",
     "evalue": "",
     "output_type": "error",
     "traceback": [
      "\u001b[1;31m---------------------------------------------------------------------------\u001b[0m",
      "\u001b[1;31mKeyboardInterrupt\u001b[0m                         Traceback (most recent call last)",
      "\u001b[1;32mc:\\Users\\krisw\\Documents\\ModelNISQ\\notebooks\\nisq_spectrum\\atypical_quantum_maps\\Atypical Quantum Maps.ipynb Cell 6\u001b[0m in \u001b[0;36m<cell line: 17>\u001b[1;34m()\u001b[0m\n\u001b[0;32m      <a href='vscode-notebook-cell:/c%3A/Users/krisw/Documents/ModelNISQ/notebooks/nisq_spectrum/atypical_quantum_maps/Atypical%20Quantum%20Maps.ipynb#W5sZmlsZQ%3D%3D?line=8'>9</a>\u001b[0m model1 \u001b[39m=\u001b[39m model_pipeline(channel_target1, \n\u001b[0;32m     <a href='vscode-notebook-cell:/c%3A/Users/krisw/Documents/ModelNISQ/notebooks/nisq_spectrum/atypical_quantum_maps/Atypical%20Quantum%20Maps.ipynb#W5sZmlsZQ%3D%3D?line=9'>10</a>\u001b[0m                         shots\u001b[39m=\u001b[39m\u001b[39m1024\u001b[39m, \n\u001b[0;32m     <a href='vscode-notebook-cell:/c%3A/Users/krisw/Documents/ModelNISQ/notebooks/nisq_spectrum/atypical_quantum_maps/Atypical%20Quantum%20Maps.ipynb#W5sZmlsZQ%3D%3D?line=10'>11</a>\u001b[0m                         N_map\u001b[39m=\u001b[39m\u001b[39m10000\u001b[39m\u001b[39m-\u001b[39m\u001b[39m6\u001b[39m\u001b[39m*\u001b[39m\u001b[39m*\u001b[39mn, \n\u001b[0;32m     <a href='vscode-notebook-cell:/c%3A/Users/krisw/Documents/ModelNISQ/notebooks/nisq_spectrum/atypical_quantum_maps/Atypical%20Quantum%20Maps.ipynb#W5sZmlsZQ%3D%3D?line=11'>12</a>\u001b[0m                         num_iter_spam \u001b[39m=\u001b[39m \u001b[39m1000\u001b[39m,\n\u001b[0;32m     <a href='vscode-notebook-cell:/c%3A/Users/krisw/Documents/ModelNISQ/notebooks/nisq_spectrum/atypical_quantum_maps/Atypical%20Quantum%20Maps.ipynb#W5sZmlsZQ%3D%3D?line=12'>13</a>\u001b[0m                         num_iter_map \u001b[39m=\u001b[39m \u001b[39m1000\u001b[39m,\n\u001b[0;32m     <a href='vscode-notebook-cell:/c%3A/Users/krisw/Documents/ModelNISQ/notebooks/nisq_spectrum/atypical_quantum_maps/Atypical%20Quantum%20Maps.ipynb#W5sZmlsZQ%3D%3D?line=13'>14</a>\u001b[0m                         verbose\u001b[39m=\u001b[39m\u001b[39mTrue\u001b[39;00m)\n\u001b[0;32m     <a href='vscode-notebook-cell:/c%3A/Users/krisw/Documents/ModelNISQ/notebooks/nisq_spectrum/atypical_quantum_maps/Atypical%20Quantum%20Maps.ipynb#W5sZmlsZQ%3D%3D?line=15'>16</a>\u001b[0m channel_target2 \u001b[39m=\u001b[39m CompactLindbladMap(d, \u001b[39m16\u001b[39m, \u001b[39m10000\u001b[39m, \u001b[39m0.001\u001b[39m)\n\u001b[1;32m---> <a href='vscode-notebook-cell:/c%3A/Users/krisw/Documents/ModelNISQ/notebooks/nisq_spectrum/atypical_quantum_maps/Atypical%20Quantum%20Maps.ipynb#W5sZmlsZQ%3D%3D?line=16'>17</a>\u001b[0m model2 \u001b[39m=\u001b[39m model_pipeline(channel_target2, \n\u001b[0;32m     <a href='vscode-notebook-cell:/c%3A/Users/krisw/Documents/ModelNISQ/notebooks/nisq_spectrum/atypical_quantum_maps/Atypical%20Quantum%20Maps.ipynb#W5sZmlsZQ%3D%3D?line=17'>18</a>\u001b[0m                         shots\u001b[39m=\u001b[39;49m\u001b[39m1024\u001b[39;49m, \n\u001b[0;32m     <a href='vscode-notebook-cell:/c%3A/Users/krisw/Documents/ModelNISQ/notebooks/nisq_spectrum/atypical_quantum_maps/Atypical%20Quantum%20Maps.ipynb#W5sZmlsZQ%3D%3D?line=18'>19</a>\u001b[0m                         N_map\u001b[39m=\u001b[39;49m\u001b[39m10000\u001b[39;49m\u001b[39m-\u001b[39;49m\u001b[39m6\u001b[39;49m\u001b[39m*\u001b[39;49m\u001b[39m*\u001b[39;49mn, \n\u001b[0;32m     <a href='vscode-notebook-cell:/c%3A/Users/krisw/Documents/ModelNISQ/notebooks/nisq_spectrum/atypical_quantum_maps/Atypical%20Quantum%20Maps.ipynb#W5sZmlsZQ%3D%3D?line=19'>20</a>\u001b[0m                         num_iter_spam \u001b[39m=\u001b[39;49m \u001b[39m1000\u001b[39;49m,\n\u001b[0;32m     <a href='vscode-notebook-cell:/c%3A/Users/krisw/Documents/ModelNISQ/notebooks/nisq_spectrum/atypical_quantum_maps/Atypical%20Quantum%20Maps.ipynb#W5sZmlsZQ%3D%3D?line=20'>21</a>\u001b[0m                         num_iter_map \u001b[39m=\u001b[39;49m \u001b[39m1000\u001b[39;49m,\n\u001b[0;32m     <a href='vscode-notebook-cell:/c%3A/Users/krisw/Documents/ModelNISQ/notebooks/nisq_spectrum/atypical_quantum_maps/Atypical%20Quantum%20Maps.ipynb#W5sZmlsZQ%3D%3D?line=21'>22</a>\u001b[0m                         verbose\u001b[39m=\u001b[39;49m\u001b[39mTrue\u001b[39;49;00m)\n\u001b[0;32m     <a href='vscode-notebook-cell:/c%3A/Users/krisw/Documents/ModelNISQ/notebooks/nisq_spectrum/atypical_quantum_maps/Atypical%20Quantum%20Maps.ipynb#W5sZmlsZQ%3D%3D?line=23'>24</a>\u001b[0m channel_target3 \u001b[39m=\u001b[39m CompactLindbladMap(d, \u001b[39m16\u001b[39m, \u001b[39m100\u001b[39m, \u001b[39m0.001\u001b[39m)\n\u001b[0;32m     <a href='vscode-notebook-cell:/c%3A/Users/krisw/Documents/ModelNISQ/notebooks/nisq_spectrum/atypical_quantum_maps/Atypical%20Quantum%20Maps.ipynb#W5sZmlsZQ%3D%3D?line=24'>25</a>\u001b[0m model3 \u001b[39m=\u001b[39m model_pipeline(channel_target3, \n\u001b[0;32m     <a href='vscode-notebook-cell:/c%3A/Users/krisw/Documents/ModelNISQ/notebooks/nisq_spectrum/atypical_quantum_maps/Atypical%20Quantum%20Maps.ipynb#W5sZmlsZQ%3D%3D?line=25'>26</a>\u001b[0m                         shots\u001b[39m=\u001b[39m\u001b[39m1024\u001b[39m, \n\u001b[0;32m     <a href='vscode-notebook-cell:/c%3A/Users/krisw/Documents/ModelNISQ/notebooks/nisq_spectrum/atypical_quantum_maps/Atypical%20Quantum%20Maps.ipynb#W5sZmlsZQ%3D%3D?line=26'>27</a>\u001b[0m                         N_map\u001b[39m=\u001b[39m\u001b[39m10000\u001b[39m\u001b[39m-\u001b[39m\u001b[39m6\u001b[39m\u001b[39m*\u001b[39m\u001b[39m*\u001b[39mn, \n\u001b[0;32m     <a href='vscode-notebook-cell:/c%3A/Users/krisw/Documents/ModelNISQ/notebooks/nisq_spectrum/atypical_quantum_maps/Atypical%20Quantum%20Maps.ipynb#W5sZmlsZQ%3D%3D?line=27'>28</a>\u001b[0m                         num_iter_spam \u001b[39m=\u001b[39m \u001b[39m4000\u001b[39m,\n\u001b[0;32m     <a href='vscode-notebook-cell:/c%3A/Users/krisw/Documents/ModelNISQ/notebooks/nisq_spectrum/atypical_quantum_maps/Atypical%20Quantum%20Maps.ipynb#W5sZmlsZQ%3D%3D?line=28'>29</a>\u001b[0m                         num_iter_map \u001b[39m=\u001b[39m \u001b[39m4000\u001b[39m,\n\u001b[0;32m     <a href='vscode-notebook-cell:/c%3A/Users/krisw/Documents/ModelNISQ/notebooks/nisq_spectrum/atypical_quantum_maps/Atypical%20Quantum%20Maps.ipynb#W5sZmlsZQ%3D%3D?line=29'>30</a>\u001b[0m                         verbose\u001b[39m=\u001b[39m\u001b[39mTrue\u001b[39;00m)\n",
      "\u001b[1;32mc:\\Users\\krisw\\Documents\\ModelNISQ\\notebooks\\nisq_spectrum\\atypical_quantum_maps\\Atypical Quantum Maps.ipynb Cell 6\u001b[0m in \u001b[0;36mmodel_pipeline\u001b[1;34m(channel_target, shots, N_map, num_iter_spam, num_iter_map, verbose)\u001b[0m\n\u001b[0;32m     <a href='vscode-notebook-cell:/c%3A/Users/krisw/Documents/ModelNISQ/notebooks/nisq_spectrum/atypical_quantum_maps/Atypical%20Quantum%20Maps.ipynb#W5sZmlsZQ%3D%3D?line=51'>52</a>\u001b[0m spam_target \u001b[39m=\u001b[39m generate_spam_benchmark(n\u001b[39m=\u001b[39mn, c1\u001b[39m=\u001b[39m\u001b[39m0.96\u001b[39m, c2\u001b[39m=\u001b[39m\u001b[39m0.85\u001b[39m)\n\u001b[0;32m     <a href='vscode-notebook-cell:/c%3A/Users/krisw/Documents/ModelNISQ/notebooks/nisq_spectrum/atypical_quantum_maps/Atypical%20Quantum%20Maps.ipynb#W5sZmlsZQ%3D%3D?line=52'>53</a>\u001b[0m inputs_spam, targets_spam \u001b[39m=\u001b[39m generate_spam_data(spam_target, N_spam\u001b[39m=\u001b[39m\u001b[39mNone\u001b[39;00m, shots\u001b[39m=\u001b[39mshots)\n\u001b[1;32m---> <a href='vscode-notebook-cell:/c%3A/Users/krisw/Documents/ModelNISQ/notebooks/nisq_spectrum/atypical_quantum_maps/Atypical%20Quantum%20Maps.ipynb#W5sZmlsZQ%3D%3D?line=54'>55</a>\u001b[0m inputs_map, targets_map \u001b[39m=\u001b[39m generate_map_data(channel_target, spam_target, N_map\u001b[39m=\u001b[39;49mN_map, shots\u001b[39m=\u001b[39;49mshots)\n\u001b[0;32m     <a href='vscode-notebook-cell:/c%3A/Users/krisw/Documents/ModelNISQ/notebooks/nisq_spectrum/atypical_quantum_maps/Atypical%20Quantum%20Maps.ipynb#W5sZmlsZQ%3D%3D?line=55'>56</a>\u001b[0m \u001b[39m#################################################################################\u001b[39;00m\n\u001b[0;32m     <a href='vscode-notebook-cell:/c%3A/Users/krisw/Documents/ModelNISQ/notebooks/nisq_spectrum/atypical_quantum_maps/Atypical%20Quantum%20Maps.ipynb#W5sZmlsZQ%3D%3D?line=56'>57</a>\u001b[0m \n\u001b[0;32m     <a href='vscode-notebook-cell:/c%3A/Users/krisw/Documents/ModelNISQ/notebooks/nisq_spectrum/atypical_quantum_maps/Atypical%20Quantum%20Maps.ipynb#W5sZmlsZQ%3D%3D?line=57'>58</a>\u001b[0m \u001b[39m# Fit Models\u001b[39;00m\n\u001b[0;32m     <a href='vscode-notebook-cell:/c%3A/Users/krisw/Documents/ModelNISQ/notebooks/nisq_spectrum/atypical_quantum_maps/Atypical%20Quantum%20Maps.ipynb#W5sZmlsZQ%3D%3D?line=58'>59</a>\u001b[0m \u001b[39m#################################################################################\u001b[39;00m\n\u001b[0;32m     <a href='vscode-notebook-cell:/c%3A/Users/krisw/Documents/ModelNISQ/notebooks/nisq_spectrum/atypical_quantum_maps/Atypical%20Quantum%20Maps.ipynb#W5sZmlsZQ%3D%3D?line=59'>60</a>\u001b[0m spam_model \u001b[39m=\u001b[39m SPAM(init \u001b[39m=\u001b[39m InitialState(d),\n\u001b[0;32m     <a href='vscode-notebook-cell:/c%3A/Users/krisw/Documents/ModelNISQ/notebooks/nisq_spectrum/atypical_quantum_maps/Atypical%20Quantum%20Maps.ipynb#W5sZmlsZQ%3D%3D?line=60'>61</a>\u001b[0m                   povm \u001b[39m=\u001b[39m CorruptionMatrix(d),\n\u001b[0;32m     <a href='vscode-notebook-cell:/c%3A/Users/krisw/Documents/ModelNISQ/notebooks/nisq_spectrum/atypical_quantum_maps/Atypical%20Quantum%20Maps.ipynb#W5sZmlsZQ%3D%3D?line=61'>62</a>\u001b[0m                   optimizer \u001b[39m=\u001b[39m tf\u001b[39m.\u001b[39moptimizers\u001b[39m.\u001b[39mAdam(learning_rate\u001b[39m=\u001b[39m\u001b[39m0.01\u001b[39m))\n",
      "\u001b[1;32mc:\\Users\\krisw\\Documents\\ModelNISQ\\notebooks\\nisq_spectrum\\atypical_quantum_maps\\Atypical Quantum Maps.ipynb Cell 6\u001b[0m in \u001b[0;36mgenerate_map_data\u001b[1;34m(channel_target, spam_target, N_map, shots)\u001b[0m\n\u001b[0;32m     <a href='vscode-notebook-cell:/c%3A/Users/krisw/Documents/ModelNISQ/notebooks/nisq_spectrum/atypical_quantum_maps/Atypical%20Quantum%20Maps.ipynb#W5sZmlsZQ%3D%3D?line=25'>26</a>\u001b[0m \u001b[39mdef\u001b[39;00m \u001b[39mgenerate_map_data\u001b[39m(channel_target, spam_target, N_map\u001b[39m=\u001b[39m\u001b[39mNone\u001b[39;00m, shots\u001b[39m=\u001b[39m\u001b[39m1024\u001b[39m):\n\u001b[0;32m     <a href='vscode-notebook-cell:/c%3A/Users/krisw/Documents/ModelNISQ/notebooks/nisq_spectrum/atypical_quantum_maps/Atypical%20Quantum%20Maps.ipynb#W5sZmlsZQ%3D%3D?line=26'>27</a>\u001b[0m     n \u001b[39m=\u001b[39m \u001b[39mint\u001b[39m(np\u001b[39m.\u001b[39mlog2(channel_target\u001b[39m.\u001b[39md))\n\u001b[1;32m---> <a href='vscode-notebook-cell:/c%3A/Users/krisw/Documents/ModelNISQ/notebooks/nisq_spectrum/atypical_quantum_maps/Atypical%20Quantum%20Maps.ipynb#W5sZmlsZQ%3D%3D?line=27'>28</a>\u001b[0m     inputs_map, _ \u001b[39m=\u001b[39m generate_pauli_circuits(n \u001b[39m=\u001b[39;49m n, \n\u001b[0;32m     <a href='vscode-notebook-cell:/c%3A/Users/krisw/Documents/ModelNISQ/notebooks/nisq_spectrum/atypical_quantum_maps/Atypical%20Quantum%20Maps.ipynb#W5sZmlsZQ%3D%3D?line=28'>29</a>\u001b[0m                                             circuit_target\u001b[39m=\u001b[39;49m\u001b[39mNone\u001b[39;49;00m,  \n\u001b[0;32m     <a href='vscode-notebook-cell:/c%3A/Users/krisw/Documents/ModelNISQ/notebooks/nisq_spectrum/atypical_quantum_maps/Atypical%20Quantum%20Maps.ipynb#W5sZmlsZQ%3D%3D?line=29'>30</a>\u001b[0m                                             trace\u001b[39m=\u001b[39;49m\u001b[39mFalse\u001b[39;49;00m,\n\u001b[0;32m     <a href='vscode-notebook-cell:/c%3A/Users/krisw/Documents/ModelNISQ/notebooks/nisq_spectrum/atypical_quantum_maps/Atypical%20Quantum%20Maps.ipynb#W5sZmlsZQ%3D%3D?line=30'>31</a>\u001b[0m                                             N\u001b[39m=\u001b[39;49mN_map)\n\u001b[0;32m     <a href='vscode-notebook-cell:/c%3A/Users/krisw/Documents/ModelNISQ/notebooks/nisq_spectrum/atypical_quantum_maps/Atypical%20Quantum%20Maps.ipynb#W5sZmlsZQ%3D%3D?line=31'>32</a>\u001b[0m     U_prep, U_basis \u001b[39m=\u001b[39m inputs_map\n\u001b[0;32m     <a href='vscode-notebook-cell:/c%3A/Users/krisw/Documents/ModelNISQ/notebooks/nisq_spectrum/atypical_quantum_maps/Atypical%20Quantum%20Maps.ipynb#W5sZmlsZQ%3D%3D?line=33'>34</a>\u001b[0m     N_map \u001b[39m=\u001b[39m U_prep\u001b[39m.\u001b[39mshape[\u001b[39m0\u001b[39m]\n",
      "File \u001b[1;32mc:\\Users\\krisw\\Documents\\ModelNISQ\\notebooks\\nisq_spectrum\\atypical_quantum_maps\\../../../src_tf\\experimental.py:104\u001b[0m, in \u001b[0;36mgenerate_pauli_circuits\u001b[1;34m(n, circuit_target, N, trace, grid)\u001b[0m\n\u001b[0;32m    101\u001b[0m U_prep \u001b[39m=\u001b[39m prepare_input(config1, return_mode\u001b[39m=\u001b[39m\u001b[39m\"\u001b[39m\u001b[39munitary\u001b[39m\u001b[39m\"\u001b[39m)\n\u001b[0;32m    103\u001b[0m config2 \u001b[39m=\u001b[39m numberToBase(j, num_observ, n)\n\u001b[1;32m--> 104\u001b[0m U_basis \u001b[39m=\u001b[39m pauli_observable(config2, return_mode\u001b[39m=\u001b[39;49m\u001b[39m\"\u001b[39;49m\u001b[39munitary\u001b[39;49m\u001b[39m\"\u001b[39;49m)\n\u001b[0;32m    106\u001b[0m input_list[\u001b[39m0\u001b[39m]\u001b[39m.\u001b[39mappend(U_prep)\n\u001b[0;32m    107\u001b[0m input_list[\u001b[39m1\u001b[39m]\u001b[39m.\u001b[39mappend(U_basis)\n",
      "File \u001b[1;32mc:\\Users\\krisw\\Documents\\ModelNISQ\\notebooks\\nisq_spectrum\\atypical_quantum_maps\\../../../src_tf\\experimental.py:82\u001b[0m, in \u001b[0;36mpauli_observable\u001b[1;34m(config, return_mode)\u001b[0m\n\u001b[0;32m     79\u001b[0m     result \u001b[39m=\u001b[39m circuit\u001b[39m.\u001b[39mreverse_bits()\n\u001b[0;32m     81\u001b[0m \u001b[39mif\u001b[39;00m return_mode \u001b[39m==\u001b[39m \u001b[39m\"\u001b[39m\u001b[39munitary\u001b[39m\u001b[39m\"\u001b[39m:\n\u001b[1;32m---> 82\u001b[0m     result \u001b[39m=\u001b[39m Operator(circuit\u001b[39m.\u001b[39;49mreverse_bits())\u001b[39m.\u001b[39mdata\n\u001b[0;32m     84\u001b[0m \u001b[39mreturn\u001b[39;00m result\n",
      "File \u001b[1;32mc:\\Program Files\\Anaconda3\\envs\\env_qiskit\\lib\\site-packages\\qiskit\\quantum_info\\operators\\operator.py:86\u001b[0m, in \u001b[0;36mOperator.__init__\u001b[1;34m(self, data, input_dims, output_dims)\u001b[0m\n\u001b[0;32m     77\u001b[0m     \u001b[39mself\u001b[39m\u001b[39m.\u001b[39m_data \u001b[39m=\u001b[39m np\u001b[39m.\u001b[39masarray(data, dtype\u001b[39m=\u001b[39m\u001b[39mcomplex\u001b[39m)\n\u001b[0;32m     78\u001b[0m \u001b[39melif\u001b[39;00m \u001b[39misinstance\u001b[39m(data, (QuantumCircuit, Instruction)):\n\u001b[0;32m     79\u001b[0m     \u001b[39m# If the input is a Terra QuantumCircuit or Instruction we\u001b[39;00m\n\u001b[0;32m     80\u001b[0m     \u001b[39m# perform a simulation to construct the unitary operator.\u001b[39;00m\n\u001b[1;32m   (...)\u001b[0m\n\u001b[0;32m     84\u001b[0m     \u001b[39m# conditional gates, measure, or reset will cause an\u001b[39;00m\n\u001b[0;32m     85\u001b[0m     \u001b[39m# exception to be raised.\u001b[39;00m\n\u001b[1;32m---> 86\u001b[0m     \u001b[39mself\u001b[39m\u001b[39m.\u001b[39m_data \u001b[39m=\u001b[39m \u001b[39mself\u001b[39;49m\u001b[39m.\u001b[39;49m_init_instruction(data)\u001b[39m.\u001b[39mdata\n\u001b[0;32m     87\u001b[0m \u001b[39melif\u001b[39;00m \u001b[39mhasattr\u001b[39m(data, \u001b[39m\"\u001b[39m\u001b[39mto_operator\u001b[39m\u001b[39m\"\u001b[39m):\n\u001b[0;32m     88\u001b[0m     \u001b[39m# If the data object has a 'to_operator' attribute this is given\u001b[39;00m\n\u001b[0;32m     89\u001b[0m     \u001b[39m# higher preference than the 'to_matrix' method for initializing\u001b[39;00m\n\u001b[0;32m     90\u001b[0m     \u001b[39m# an Operator object.\u001b[39;00m\n\u001b[0;32m     91\u001b[0m     data \u001b[39m=\u001b[39m data\u001b[39m.\u001b[39mto_operator()\n",
      "File \u001b[1;32mc:\\Program Files\\Anaconda3\\envs\\env_qiskit\\lib\\site-packages\\qiskit\\quantum_info\\operators\\operator.py:511\u001b[0m, in \u001b[0;36mOperator._init_instruction\u001b[1;34m(cls, instruction)\u001b[0m\n\u001b[0;32m    509\u001b[0m \u001b[39mif\u001b[39;00m \u001b[39misinstance\u001b[39m(instruction, QuantumCircuit):\n\u001b[0;32m    510\u001b[0m     instruction \u001b[39m=\u001b[39m instruction\u001b[39m.\u001b[39mto_instruction()\n\u001b[1;32m--> 511\u001b[0m op\u001b[39m.\u001b[39;49m_append_instruction(instruction)\n\u001b[0;32m    512\u001b[0m \u001b[39mreturn\u001b[39;00m op\n",
      "File \u001b[1;32mc:\\Program Files\\Anaconda3\\envs\\env_qiskit\\lib\\site-packages\\qiskit\\quantum_info\\operators\\operator.py:580\u001b[0m, in \u001b[0;36mOperator._append_instruction\u001b[1;34m(self, obj, qargs)\u001b[0m\n\u001b[0;32m    578\u001b[0m \u001b[39melse\u001b[39;00m:\n\u001b[0;32m    579\u001b[0m     new_qargs \u001b[39m=\u001b[39m [qargs[bit_indices[tup]] \u001b[39mfor\u001b[39;00m tup \u001b[39min\u001b[39;00m instruction\u001b[39m.\u001b[39mqubits]\n\u001b[1;32m--> 580\u001b[0m \u001b[39mself\u001b[39;49m\u001b[39m.\u001b[39;49m_append_instruction(instruction\u001b[39m.\u001b[39;49moperation, qargs\u001b[39m=\u001b[39;49mnew_qargs)\n",
      "File \u001b[1;32mc:\\Program Files\\Anaconda3\\envs\\env_qiskit\\lib\\site-packages\\qiskit\\quantum_info\\operators\\operator.py:538\u001b[0m, in \u001b[0;36mOperator._append_instruction\u001b[1;34m(self, obj, qargs)\u001b[0m\n\u001b[0;32m    534\u001b[0m mat \u001b[39m=\u001b[39m \u001b[39mself\u001b[39m\u001b[39m.\u001b[39m_instruction_to_matrix(obj)\n\u001b[0;32m    535\u001b[0m \u001b[39mif\u001b[39;00m mat \u001b[39mis\u001b[39;00m \u001b[39mnot\u001b[39;00m \u001b[39mNone\u001b[39;00m:\n\u001b[0;32m    536\u001b[0m     \u001b[39m# Perform the composition and inplace update the current state\u001b[39;00m\n\u001b[0;32m    537\u001b[0m     \u001b[39m# of the operator\u001b[39;00m\n\u001b[1;32m--> 538\u001b[0m     op \u001b[39m=\u001b[39m \u001b[39mself\u001b[39;49m\u001b[39m.\u001b[39;49mcompose(mat, qargs\u001b[39m=\u001b[39;49mqargs)\n\u001b[0;32m    539\u001b[0m     \u001b[39mself\u001b[39m\u001b[39m.\u001b[39m_data \u001b[39m=\u001b[39m op\u001b[39m.\u001b[39mdata\n\u001b[0;32m    540\u001b[0m \u001b[39melif\u001b[39;00m \u001b[39misinstance\u001b[39m(obj, Barrier):\n",
      "File \u001b[1;32mc:\\Program Files\\Anaconda3\\envs\\env_qiskit\\lib\\site-packages\\qiskit\\quantum_info\\operators\\operator.py:324\u001b[0m, in \u001b[0;36mOperator.compose\u001b[1;34m(self, other, qargs, front)\u001b[0m\n\u001b[0;32m    321\u001b[0m indices \u001b[39m=\u001b[39m [num_indices \u001b[39m-\u001b[39m \u001b[39m1\u001b[39m \u001b[39m-\u001b[39m qubit \u001b[39mfor\u001b[39;00m qubit \u001b[39min\u001b[39;00m qargs]\n\u001b[0;32m    322\u001b[0m final_shape \u001b[39m=\u001b[39m [np\u001b[39m.\u001b[39mproduct(output_dims), np\u001b[39m.\u001b[39mproduct(input_dims)]\n\u001b[0;32m    323\u001b[0m data \u001b[39m=\u001b[39m np\u001b[39m.\u001b[39mreshape(\n\u001b[1;32m--> 324\u001b[0m     Operator\u001b[39m.\u001b[39;49m_einsum_matmul(tensor, mat, indices, shift, right_mul), final_shape\n\u001b[0;32m    325\u001b[0m )\n\u001b[0;32m    326\u001b[0m ret \u001b[39m=\u001b[39m Operator(data, input_dims, output_dims)\n\u001b[0;32m    327\u001b[0m ret\u001b[39m.\u001b[39m_op_shape \u001b[39m=\u001b[39m new_shape\n",
      "File \u001b[1;32mc:\\Program Files\\Anaconda3\\envs\\env_qiskit\\lib\\site-packages\\qiskit\\quantum_info\\operators\\operator.py:497\u001b[0m, in \u001b[0;36mOperator._einsum_matmul\u001b[1;34m(cls, tensor, mat, indices, shift, right_mul)\u001b[0m\n\u001b[0;32m    495\u001b[0m \u001b[39melse\u001b[39;00m:\n\u001b[0;32m    496\u001b[0m     indices_mat \u001b[39m=\u001b[39m mat_free \u001b[39m+\u001b[39m mat_contract\n\u001b[1;32m--> 497\u001b[0m \u001b[39mreturn\u001b[39;00m np\u001b[39m.\u001b[39;49meinsum(tensor, indices_tensor, mat, indices_mat)\n",
      "File \u001b[1;32m<__array_function__ internals>:180\u001b[0m, in \u001b[0;36meinsum\u001b[1;34m(*args, **kwargs)\u001b[0m\n",
      "File \u001b[1;32mc:\\Program Files\\Anaconda3\\envs\\env_qiskit\\lib\\site-packages\\numpy\\core\\einsumfunc.py:1371\u001b[0m, in \u001b[0;36meinsum\u001b[1;34m(out, optimize, *operands, **kwargs)\u001b[0m\n\u001b[0;32m   1369\u001b[0m     \u001b[39mif\u001b[39;00m specified_out:\n\u001b[0;32m   1370\u001b[0m         kwargs[\u001b[39m'\u001b[39m\u001b[39mout\u001b[39m\u001b[39m'\u001b[39m] \u001b[39m=\u001b[39m out\n\u001b[1;32m-> 1371\u001b[0m     \u001b[39mreturn\u001b[39;00m c_einsum(\u001b[39m*\u001b[39moperands, \u001b[39m*\u001b[39m\u001b[39m*\u001b[39mkwargs)\n\u001b[0;32m   1373\u001b[0m \u001b[39m# Check the kwargs to avoid a more cryptic error later, without having to\u001b[39;00m\n\u001b[0;32m   1374\u001b[0m \u001b[39m# repeat default values here\u001b[39;00m\n\u001b[0;32m   1375\u001b[0m valid_einsum_kwargs \u001b[39m=\u001b[39m [\u001b[39m'\u001b[39m\u001b[39mdtype\u001b[39m\u001b[39m'\u001b[39m, \u001b[39m'\u001b[39m\u001b[39morder\u001b[39m\u001b[39m'\u001b[39m, \u001b[39m'\u001b[39m\u001b[39mcasting\u001b[39m\u001b[39m'\u001b[39m]\n",
      "\u001b[1;31mKeyboardInterrupt\u001b[0m: "
     ]
    }
   ],
   "source": [
    "np.random.seed(42)\n",
    "random.seed(42)\n",
    "tf.random.set_seed(42)\n",
    "\n",
    "n = 4\n",
    "d = 2**n\n",
    "\n",
    "channel_target1 = CompactLindbladMap(d, 1, 1, 0.1)\n",
    "model1 = model_pipeline(channel_target1, \n",
    "                        shots=1024, \n",
    "                        N_map=10000-6**n, \n",
    "                        num_iter_spam = 1000,\n",
    "                        num_iter_map = 1000,\n",
    "                        verbose=True)\n",
    "\n",
    "channel_target2 = CompactLindbladMap(d, 16, 10000, 0.001)\n",
    "model2 = model_pipeline(channel_target2, \n",
    "                        shots=1024, \n",
    "                        N_map=10000-6**n, \n",
    "                        num_iter_spam = 1000,\n",
    "                        num_iter_map = 1000,\n",
    "                        verbose=True)\n",
    "\n",
    "channel_target3 = CompactLindbladMap(d, 16, 100, 0.001)\n",
    "model3 = model_pipeline(channel_target3, \n",
    "                        shots=1024, \n",
    "                        N_map=10000-6**n, \n",
    "                        num_iter_spam = 4000,\n",
    "                        num_iter_map = 4000,\n",
    "                        verbose=True)\n",
    "\n",
    "channel_target4 = CompactLindbladMap(d, 8, 1, 0.01)\n",
    "model4 = model_pipeline(channel_target4, \n",
    "                        shots=1024, \n",
    "                        N_map=10000-6**n, \n",
    "                        num_iter_spam = 4000,\n",
    "                        num_iter_map = 4000,\n",
    "                        verbose=True)\n",
    "\n",
    "\n",
    "saver([[channel_target1, channel_target2, channel_target3, channel_target4],\n",
    "       [model1, model2, model3, model4]], \"data/\"+\"atypical_maps_benchmark.model\")"
   ]
  },
  {
   "attachments": {},
   "cell_type": "markdown",
   "metadata": {},
   "source": [
    "## Sample and Noise Sensitivity"
   ]
  },
  {
   "cell_type": "code",
   "execution_count": 14,
   "metadata": {
    "scrolled": true
   },
   "outputs": [
    {
     "data": {
      "application/vnd.jupyter.widget-view+json": {
       "model_id": "91c2e64ca88d4289adaa6af2aac83227",
       "version_major": 2,
       "version_minor": 0
      },
      "text/plain": [
       "  0%|          | 0/4000 [00:00<?, ?it/s]"
      ]
     },
     "metadata": {},
     "output_type": "display_data"
    },
    {
     "data": {
      "application/vnd.jupyter.widget-view+json": {
       "model_id": "c42342ed9a4045df8c9268c1a428c97b",
       "version_major": 2,
       "version_minor": 0
      },
      "text/plain": [
       "  0%|          | 0/4000 [00:00<?, ?it/s]"
      ]
     },
     "metadata": {},
     "output_type": "display_data"
    },
    {
     "name": "stdout",
     "output_type": "stream",
     "text": [
      "0.25255740329077125 -0.09790789532063889\n",
      "0.016885521111175632 -0.7222070780249391\n",
      "0.015452065602110869 -0.760714612585643\n",
      "0.01531860940478661 -0.7641966034332381\n",
      "0.015297122467690733 -0.7642737530500818\n",
      "0.015292475955475414 -0.7639739577406761\n",
      "0.015291226336929678 -0.7637341865100247\n",
      "0.015290815872548092 -0.7635822063635365\n",
      "0.015290654856823335 -0.7634848393048708\n",
      "0.01529058398287721 -0.7634169420276298\n",
      "0.015290549716756884 -0.7633666378726003\n"
     ]
    },
    {
     "data": {
      "application/vnd.jupyter.widget-view+json": {
       "model_id": "6ab12e6d9ef640b7991f7f65b2d9b0fe",
       "version_major": 2,
       "version_minor": 0
      },
      "text/plain": [
       "  0%|          | 0/4000 [00:00<?, ?it/s]"
      ]
     },
     "metadata": {},
     "output_type": "display_data"
    },
    {
     "data": {
      "application/vnd.jupyter.widget-view+json": {
       "model_id": "e5d37a6c44f641fe891711a4e1634471",
       "version_major": 2,
       "version_minor": 0
      },
      "text/plain": [
       "  0%|          | 0/4000 [00:00<?, ?it/s]"
      ]
     },
     "metadata": {},
     "output_type": "display_data"
    },
    {
     "name": "stdout",
     "output_type": "stream",
     "text": [
      "0.27708061330793593 -0.09534488348365604\n",
      "0.007335178428198955 -0.848321899569145\n",
      "0.006000436057100031 -0.9126782156148544\n",
      "0.006099827470396115 -0.9254013088917373\n",
      "0.005813236066433264 -0.9287196248575446\n",
      "0.005922847688239885 -0.9301088602481353\n",
      "0.005848523504409336 -0.9302654758922971\n",
      "0.005760523656058943 -0.9307514814209986\n",
      "0.005870826412870416 -0.9307074604315804\n",
      "0.005738973434337544 -0.9305317511651956\n",
      "0.005925678601175935 -0.9304364126511478\n"
     ]
    },
    {
     "data": {
      "application/vnd.jupyter.widget-view+json": {
       "model_id": "6ead9222ee654f44b12c1ea54f2ab055",
       "version_major": 2,
       "version_minor": 0
      },
      "text/plain": [
       "  0%|          | 0/4000 [00:00<?, ?it/s]"
      ]
     },
     "metadata": {},
     "output_type": "display_data"
    },
    {
     "data": {
      "application/vnd.jupyter.widget-view+json": {
       "model_id": "ee6a4ec947fc4ba697519756272d2e71",
       "version_major": 2,
       "version_minor": 0
      },
      "text/plain": [
       "  0%|          | 0/4000 [00:00<?, ?it/s]"
      ]
     },
     "metadata": {},
     "output_type": "display_data"
    },
    {
     "name": "stdout",
     "output_type": "stream",
     "text": [
      "0.23703334880839866 -0.09578037331174998\n",
      "0.0029864486414783366 -0.8720496424790909\n",
      "0.0019357776372289142 -0.9424086891684207\n",
      "0.0018231443703856038 -0.9612835439292674\n",
      "0.0017617372507687896 -0.9683585702097184\n",
      "0.0017684640141524685 -0.9713771371291521\n",
      "0.0017746410494197695 -0.972789048951825\n",
      "0.001789841067956938 -0.9735358872083617\n",
      "0.0017617855700840378 -0.9736753982369741\n",
      "0.0016946056043024946 -0.973672610133213\n",
      "0.0017370244957168452 -0.9738120782717761\n"
     ]
    }
   ],
   "source": [
    "n = 3\n",
    "d = 2**n\n",
    "np.random.seed(42)\n",
    "random.seed(42)\n",
    "tf.random.set_seed(42)\n",
    "\n",
    "channel_target = CompactLindbladMap(d, 1, 1, 0.1)\n",
    "model_ns1 = model_pipeline(channel_target, \n",
    "                           shots=256, \n",
    "                           N_map=256, \n",
    "                           num_iter_spam = 4000,\n",
    "                           num_iter_map = 4000,\n",
    "                           verbose=True)\n",
    "\n",
    "\n",
    "model_ns2 = model_pipeline(channel_target, \n",
    "                           shots=1024, \n",
    "                           N_map=1024, \n",
    "                           num_iter_spam = 4000,\n",
    "                           num_iter_map = 4000,\n",
    "                           verbose=True)\n",
    "\n",
    "model_ns3 = model_pipeline(channel_target, \n",
    "                           shots=4096, \n",
    "                           N_map=4096, \n",
    "                           num_iter_spam = 4000,\n",
    "                           num_iter_map = 4000,\n",
    "                           verbose=True)\n",
    "\n",
    "saver([[channel_target],\n",
    "       [model_ns1, model_ns2, model_ns3]], \"data/\"+\"atypical_maps_robustness.model\")"
   ]
  }
 ],
 "metadata": {
  "kernelspec": {
   "display_name": "env_qiskit",
   "language": "python",
   "name": "python3"
  },
  "language_info": {
   "codemirror_mode": {
    "name": "ipython",
    "version": 3
   },
   "file_extension": ".py",
   "mimetype": "text/x-python",
   "name": "python",
   "nbconvert_exporter": "python",
   "pygments_lexer": "ipython3",
   "version": "3.10.4"
  }
 },
 "nbformat": 4,
 "nbformat_minor": 4
}
