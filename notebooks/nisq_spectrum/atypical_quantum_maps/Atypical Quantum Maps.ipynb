{
 "cells": [
  {
   "attachments": {},
   "cell_type": "markdown",
   "metadata": {},
   "source": [
    "# Numerical Benchmarks"
   ]
  },
  {
   "cell_type": "code",
   "execution_count": 2,
   "metadata": {},
   "outputs": [],
   "source": [
    "import sys\n",
    "sys.path.insert(0, '../../../src_tf/')\n",
    "\n",
    "import numpy as np\n",
    "import qiskit as qk\n",
    "import matplotlib.pyplot as plt\n",
    "import multiprocessing as mp\n",
    "import random\n",
    "import pickle\n",
    "\n",
    "from qiskit.quantum_info import DensityMatrix, random_unitary\n",
    "from qiskit.quantum_info import Operator\n",
    "from scipy.linalg import sqrtm\n",
    "from tqdm.notebook import tqdm\n",
    "\n",
    "from loss_functions import *\n",
    "from optimization import *\n",
    "from quantum_channel import *\n",
    "from kraus_channels import *\n",
    "from lindblad_channels import *\n",
    "from quantum_tools import *\n",
    "from experimental import *\n",
    "from spam import *\n",
    "\n",
    "#np.set_printoptions(threshold=sys.maxsize)\n",
    "np.set_printoptions(precision=4)\n",
    "\n",
    "#import os\n",
    "#os.environ[\"CUDA_VISIBLE_DEVICES\"] = \"-1\""
   ]
  },
  {
   "attachments": {},
   "cell_type": "markdown",
   "metadata": {},
   "source": [
    "## Recover SPAM and Map\n",
    "\n",
    "### Generate True Model, Full POVM and Inital"
   ]
  },
  {
   "cell_type": "code",
   "execution_count": 11,
   "metadata": {},
   "outputs": [],
   "source": [
    "def generate_spam_benchmark(n=3, c1=1, c2=1):\n",
    "    d = 2**n\n",
    "\n",
    "    init_target = InitialState(d, c=c1)\n",
    "    povm_target = POVM(d, c=c2)\n",
    "\n",
    "    spam_target = SPAM(init = init_target,\n",
    "                       povm = povm_target)\n",
    "    \n",
    "    return spam_target\n",
    "\n",
    "\n",
    "def generate_spam_data(spam_target, N_spam=None, shots=1024):\n",
    "    n = int(np.log2(spam_target.d))\n",
    "    inputs_spam, _ = generate_pauliInput_circuits(n)\n",
    "    N_spam = inputs_spam.shape[0]\n",
    "\n",
    "    state = tf.repeat(spam_target.init.init[None,:,:], N_spam, axis=0)\n",
    "    targets_spam = measurement(state, U_basis = inputs_spam, povm = spam_target.povm.povm)\n",
    "\n",
    "    #add noise\n",
    "    targets_spam = add_shot_noise(targets_spam, shots = shots)\n",
    "    return inputs_spam, targets_spam\n",
    "\n",
    "\n",
    "def generate_map_data(channel_target, spam_target, N_map=None, shots=1024):\n",
    "    n = int(np.log2(channel_target.d))\n",
    "    inputs_map, _ = generate_pauli_circuits(n = n, \n",
    "                                            circuit_target=None,  \n",
    "                                            trace=False,\n",
    "                                            N=N_map)\n",
    "    U_prep, U_basis = inputs_map\n",
    "\n",
    "    N_map = U_prep.shape[0]\n",
    "    state = tf.repeat(tf.expand_dims(spam_target.init.init, axis=0), N_map, axis=0)\n",
    "    state = apply_unitary(state, U_prep)\n",
    "    state = channel_target.apply_channel(state)\n",
    "    targets_map = measurement(state, U_basis, spam_target.povm.povm)\n",
    "    \n",
    "    #add noise\n",
    "    targets_map = add_shot_noise(targets_map, shots = shots)\n",
    "\n",
    "    return inputs_map, targets_map\n",
    "\n",
    "\n",
    "def model_pipeline(channel_target = None, shots=1024, N_map = None, num_iter_spam=None, num_iter_map=None, verbose=False):\n",
    "    # Make Benchmark\n",
    "    #################################################################################\n",
    "    n = 3\n",
    "    d = 2**n\n",
    "    \n",
    "    spam_target = generate_spam_benchmark(n=n, c1=0.9, c2=0.9)\n",
    "    inputs_spam, targets_spam = generate_spam_data(spam_target, N_spam=None, shots=shots)\n",
    "\n",
    "    inputs_map, targets_map = generate_map_data(channel_target, spam_target, N_map=N_map, shots=shots)\n",
    "    #################################################################################\n",
    "\n",
    "    # Fit Models\n",
    "    #################################################################################\n",
    "    spam_model = SPAM(init = InitialState(d, c=0.9),\n",
    "                      povm = CorruptionMatrix(d, c=0.9),\n",
    "                      optimizer = tf.optimizers.Adam(learning_rate=0.01))\n",
    "    \n",
    "    #spam_model.pretrain(300, verbose=False)\n",
    "\n",
    "    spam_model.train(inputs = inputs_spam,\n",
    "                     targets = targets_spam,\n",
    "                     num_iter = num_iter_map,\n",
    "                     verbose = False,\n",
    "                    )\n",
    "\n",
    "    model = ModelQuantumMap(channel = KrausMap(d = d, \n",
    "                                               rank = d**2,\n",
    "                                               spam = spam_model,\n",
    "                                              ),\n",
    "                            loss_function = ProbabilityMSE(),\n",
    "                            optimizer = tf.optimizers.Adam(learning_rate=0.01),\n",
    "                            logger = Logger(loss_function = ProbabilityMSE(),\n",
    "                                            loss_function_val = channel_fidelity_loss,\n",
    "                                            sample_freq = 400),\n",
    "                           )\n",
    "\n",
    "    model.train(inputs = inputs_map,\n",
    "                targets = targets_map,\n",
    "                inputs_val = None,\n",
    "                targets_val = [channel_target],\n",
    "                num_iter = num_iter_map,\n",
    "                N = 500,\n",
    "                verbose = verbose,\n",
    "                )\n",
    "    #################################################################################\n",
    "    model.optimizer = None\n",
    "    spam_model.optimizer = None\n",
    "    model.inputs = None\n",
    "    model.targets = None\n",
    "    model.inputs_val = None\n",
    "    model.targets_val = None\n",
    "\n",
    "    return model"
   ]
  },
  {
   "attachments": {},
   "cell_type": "markdown",
   "metadata": {},
   "source": [
    "## Fit Models"
   ]
  },
  {
   "cell_type": "code",
   "execution_count": 12,
   "metadata": {},
   "outputs": [
    {
     "data": {
      "application/vnd.jupyter.widget-view+json": {
       "model_id": "155c259c23944a8bb5849be2cc13f9a5",
       "version_major": 2,
       "version_minor": 0
      },
      "text/plain": [
       "  0%|          | 0/4000 [00:00<?, ?it/s]"
      ]
     },
     "metadata": {},
     "output_type": "display_data"
    },
    {
     "data": {
      "application/vnd.jupyter.widget-view+json": {
       "model_id": "dbc237d269ad4858b21b08a3dd24c65d",
       "version_major": 2,
       "version_minor": 0
      },
      "text/plain": [
       "  0%|          | 0/4000 [00:00<?, ?it/s]"
      ]
     },
     "metadata": {},
     "output_type": "display_data"
    },
    {
     "name": "stdout",
     "output_type": "stream",
     "text": [
      "0.24358633882144867 -0.09805713185539307\n",
      "0.007367782150606879 -0.8642702030215942\n",
      "0.006394330220305683 -0.9237237307125933\n",
      "0.0060414664590011805 -0.934768560271813\n",
      "0.006409520378915215 -0.9381282050593764\n",
      "0.00629745596857743 -0.9390359839824791\n",
      "0.006121570488609958 -0.9394302456412726\n",
      "0.006331951074818019 -0.9395891701521448\n",
      "0.006094469512211761 -0.9399195976198793\n",
      "0.0062606237621670915 -0.9396955742979446\n",
      "0.006297382033488429 -0.9393658964677797\n"
     ]
    },
    {
     "data": {
      "application/vnd.jupyter.widget-view+json": {
       "model_id": "5ecddfaff9bc41e89451368b40f1534c",
       "version_major": 2,
       "version_minor": 0
      },
      "text/plain": [
       "  0%|          | 0/4000 [00:00<?, ?it/s]"
      ]
     },
     "metadata": {},
     "output_type": "display_data"
    },
    {
     "data": {
      "application/vnd.jupyter.widget-view+json": {
       "model_id": "2bb8c4892cac4779861fba77d4c75f9a",
       "version_major": 2,
       "version_minor": 0
      },
      "text/plain": [
       "  0%|          | 0/4000 [00:00<?, ?it/s]"
      ]
     },
     "metadata": {},
     "output_type": "display_data"
    },
    {
     "name": "stdout",
     "output_type": "stream",
     "text": [
      "0.3457047065278759 -0.23183033445241577\n",
      "0.0068143946497633764 -0.9131789004507846\n",
      "0.006329845471734228 -0.9100464529756435\n",
      "0.0058629681298860755 -0.8984039356471313\n",
      "0.0060518273389751406 -0.8862646366953391\n",
      "0.0058260235947334175 -0.876701787386853\n",
      "0.005760361244331061 -0.8691208155875187\n",
      "0.005873549204163962 -0.8630289825807516\n",
      "0.005845945904383645 -0.8588538612859912\n",
      "0.006310109589905435 -0.8555243760658789\n",
      "0.005998664229299865 -0.8528956732131722\n"
     ]
    },
    {
     "data": {
      "application/vnd.jupyter.widget-view+json": {
       "model_id": "46b484cd569744bba57ecd547dd882d7",
       "version_major": 2,
       "version_minor": 0
      },
      "text/plain": [
       "  0%|          | 0/4000 [00:00<?, ?it/s]"
      ]
     },
     "metadata": {},
     "output_type": "display_data"
    },
    {
     "data": {
      "application/vnd.jupyter.widget-view+json": {
       "model_id": "0234b25986084dda9e324a72c64ca14a",
       "version_major": 2,
       "version_minor": 0
      },
      "text/plain": [
       "  0%|          | 0/4000 [00:00<?, ?it/s]"
      ]
     },
     "metadata": {},
     "output_type": "display_data"
    },
    {
     "name": "stdout",
     "output_type": "stream",
     "text": [
      "0.4922248695655371 -0.17476615021428712\n",
      "0.007440001487497792 -0.8460975367234452\n",
      "0.006033645249702766 -0.8933560745457293\n",
      "0.0059721782231863954 -0.9048559197020969\n",
      "0.006042411031887418 -0.9067045822849354\n",
      "0.005594167468542802 -0.9056601695490609\n",
      "0.0057358340091380675 -0.903499023132544\n",
      "0.005681883451294178 -0.9014280102363719\n",
      "0.005902302648657004 -0.899888946891387\n",
      "0.005686281789427228 -0.898740394927612\n",
      "0.005785784370853339 -0.8982353045433719\n"
     ]
    },
    {
     "data": {
      "application/vnd.jupyter.widget-view+json": {
       "model_id": "b876020c889d48f4934ff86e595c1ce5",
       "version_major": 2,
       "version_minor": 0
      },
      "text/plain": [
       "  0%|          | 0/4000 [00:00<?, ?it/s]"
      ]
     },
     "metadata": {},
     "output_type": "display_data"
    },
    {
     "data": {
      "application/vnd.jupyter.widget-view+json": {
       "model_id": "13e3f58a238a4726b449af7085c6f734",
       "version_major": 2,
       "version_minor": 0
      },
      "text/plain": [
       "  0%|          | 0/4000 [00:00<?, ?it/s]"
      ]
     },
     "metadata": {},
     "output_type": "display_data"
    },
    {
     "name": "stdout",
     "output_type": "stream",
     "text": [
      "0.11688506897008048 -0.4470260988959273\n",
      "0.006359642207139404 -0.864111823673686\n",
      "0.00553955582537517 -0.8791847382457072\n",
      "0.005455525626897918 -0.8701043598770587\n",
      "0.005087218628523157 -0.8601257999916526\n",
      "0.005289084545669357 -0.8515079330667749\n",
      "0.0054650098888782755 -0.845793798263548\n",
      "0.005337782935298238 -0.8414387901593353\n",
      "0.005345751146038675 -0.8386827236952399\n",
      "0.005200871616562653 -0.8358876396026531\n",
      "0.005104225960533267 -0.834191775016569\n"
     ]
    }
   ],
   "source": [
    "np.random.seed(42)\n",
    "random.seed(42)\n",
    "tf.random.set_seed(42)\n",
    "\n",
    "n = 3\n",
    "d = 2**n\n",
    "\n",
    "channel_target1 = CompactLindbladMap(d, 1, 1, 0.1)\n",
    "model1 = model_pipeline(channel_target1, \n",
    "                        shots=1024, \n",
    "                        N_map=2000-6**n, \n",
    "                        num_iter_spam = 4000,\n",
    "                        num_iter_map = 4000,\n",
    "                        verbose=True)\n",
    "\n",
    "channel_target2 = CompactLindbladMap(d, 16, 10000, 0.001)\n",
    "model2 = model_pipeline(channel_target2, \n",
    "                        shots=1024, \n",
    "                        N_map=2000-6**n, \n",
    "                        num_iter_spam = 4000,\n",
    "                        num_iter_map = 4000,\n",
    "                        verbose=True)\n",
    "\n",
    "channel_target3 = CompactLindbladMap(d, 16, 100, 0.001)\n",
    "model3 = model_pipeline(channel_target3, \n",
    "                        shots=1024, \n",
    "                        N_map=2000-6**n, \n",
    "                        num_iter_spam = 4000,\n",
    "                        num_iter_map = 4000,\n",
    "                        verbose=True)\n",
    "\n",
    "channel_target4 = CompactLindbladMap(d, 8, 1, 0.01)\n",
    "model4 = model_pipeline(channel_target4, \n",
    "                        shots=1024, \n",
    "                        N_map=2000-6**n, \n",
    "                        num_iter_spam = 4000,\n",
    "                        num_iter_map = 4000,\n",
    "                        verbose=True)\n",
    "\n",
    "\n",
    "saver([[channel_target1, channel_target2, channel_target3, channel_target4],\n",
    "       [model1, model2, model3, model4]], \"data/\"+\"atypical_maps_benchmark.model\")"
   ]
  },
  {
   "attachments": {},
   "cell_type": "markdown",
   "metadata": {},
   "source": [
    "## Sample and Noise Sensitivity"
   ]
  },
  {
   "cell_type": "code",
   "execution_count": 14,
   "metadata": {
    "scrolled": true
   },
   "outputs": [
    {
     "data": {
      "application/vnd.jupyter.widget-view+json": {
       "model_id": "91c2e64ca88d4289adaa6af2aac83227",
       "version_major": 2,
       "version_minor": 0
      },
      "text/plain": [
       "  0%|          | 0/4000 [00:00<?, ?it/s]"
      ]
     },
     "metadata": {},
     "output_type": "display_data"
    },
    {
     "data": {
      "application/vnd.jupyter.widget-view+json": {
       "model_id": "c42342ed9a4045df8c9268c1a428c97b",
       "version_major": 2,
       "version_minor": 0
      },
      "text/plain": [
       "  0%|          | 0/4000 [00:00<?, ?it/s]"
      ]
     },
     "metadata": {},
     "output_type": "display_data"
    },
    {
     "name": "stdout",
     "output_type": "stream",
     "text": [
      "0.25255740329077125 -0.09790789532063889\n",
      "0.016885521111175632 -0.7222070780249391\n",
      "0.015452065602110869 -0.760714612585643\n",
      "0.01531860940478661 -0.7641966034332381\n",
      "0.015297122467690733 -0.7642737530500818\n",
      "0.015292475955475414 -0.7639739577406761\n",
      "0.015291226336929678 -0.7637341865100247\n",
      "0.015290815872548092 -0.7635822063635365\n",
      "0.015290654856823335 -0.7634848393048708\n",
      "0.01529058398287721 -0.7634169420276298\n",
      "0.015290549716756884 -0.7633666378726003\n"
     ]
    },
    {
     "data": {
      "application/vnd.jupyter.widget-view+json": {
       "model_id": "6ab12e6d9ef640b7991f7f65b2d9b0fe",
       "version_major": 2,
       "version_minor": 0
      },
      "text/plain": [
       "  0%|          | 0/4000 [00:00<?, ?it/s]"
      ]
     },
     "metadata": {},
     "output_type": "display_data"
    },
    {
     "data": {
      "application/vnd.jupyter.widget-view+json": {
       "model_id": "e5d37a6c44f641fe891711a4e1634471",
       "version_major": 2,
       "version_minor": 0
      },
      "text/plain": [
       "  0%|          | 0/4000 [00:00<?, ?it/s]"
      ]
     },
     "metadata": {},
     "output_type": "display_data"
    },
    {
     "name": "stdout",
     "output_type": "stream",
     "text": [
      "0.27708061330793593 -0.09534488348365604\n",
      "0.007335178428198955 -0.848321899569145\n",
      "0.006000436057100031 -0.9126782156148544\n",
      "0.006099827470396115 -0.9254013088917373\n",
      "0.005813236066433264 -0.9287196248575446\n",
      "0.005922847688239885 -0.9301088602481353\n",
      "0.005848523504409336 -0.9302654758922971\n",
      "0.005760523656058943 -0.9307514814209986\n",
      "0.005870826412870416 -0.9307074604315804\n",
      "0.005738973434337544 -0.9305317511651956\n",
      "0.005925678601175935 -0.9304364126511478\n"
     ]
    },
    {
     "data": {
      "application/vnd.jupyter.widget-view+json": {
       "model_id": "6ead9222ee654f44b12c1ea54f2ab055",
       "version_major": 2,
       "version_minor": 0
      },
      "text/plain": [
       "  0%|          | 0/4000 [00:00<?, ?it/s]"
      ]
     },
     "metadata": {},
     "output_type": "display_data"
    },
    {
     "data": {
      "application/vnd.jupyter.widget-view+json": {
       "model_id": "ee6a4ec947fc4ba697519756272d2e71",
       "version_major": 2,
       "version_minor": 0
      },
      "text/plain": [
       "  0%|          | 0/4000 [00:00<?, ?it/s]"
      ]
     },
     "metadata": {},
     "output_type": "display_data"
    },
    {
     "name": "stdout",
     "output_type": "stream",
     "text": [
      "0.23703334880839866 -0.09578037331174998\n",
      "0.0029864486414783366 -0.8720496424790909\n",
      "0.0019357776372289142 -0.9424086891684207\n",
      "0.0018231443703856038 -0.9612835439292674\n",
      "0.0017617372507687896 -0.9683585702097184\n",
      "0.0017684640141524685 -0.9713771371291521\n",
      "0.0017746410494197695 -0.972789048951825\n",
      "0.001789841067956938 -0.9735358872083617\n",
      "0.0017617855700840378 -0.9736753982369741\n",
      "0.0016946056043024946 -0.973672610133213\n",
      "0.0017370244957168452 -0.9738120782717761\n"
     ]
    }
   ],
   "source": [
    "n = 3\n",
    "d = 2**n\n",
    "np.random.seed(42)\n",
    "random.seed(42)\n",
    "tf.random.set_seed(42)\n",
    "\n",
    "channel_target = CompactLindbladMap(d, 1, 1, 0.1)\n",
    "model_ns1 = model_pipeline(channel_target, \n",
    "                           shots=256, \n",
    "                           N_map=256, \n",
    "                           num_iter_spam = 4000,\n",
    "                           num_iter_map = 4000,\n",
    "                           verbose=True)\n",
    "\n",
    "\n",
    "model_ns2 = model_pipeline(channel_target, \n",
    "                           shots=1024, \n",
    "                           N_map=1024, \n",
    "                           num_iter_spam = 4000,\n",
    "                           num_iter_map = 4000,\n",
    "                           verbose=True)\n",
    "\n",
    "model_ns3 = model_pipeline(channel_target, \n",
    "                           shots=4096, \n",
    "                           N_map=4096, \n",
    "                           num_iter_spam = 4000,\n",
    "                           num_iter_map = 4000,\n",
    "                           verbose=True)\n",
    "\n",
    "saver([[channel_target],\n",
    "       [model_ns1, model_ns2, model_ns3]], \"data/\"+\"atypical_maps_robustness.model\")"
   ]
  },
  {
   "cell_type": "code",
   "execution_count": null,
   "metadata": {},
   "outputs": [],
   "source": []
  }
 ],
 "metadata": {
  "kernelspec": {
   "display_name": "env_qiskit",
   "language": "python",
   "name": "env_qiskit"
  },
  "language_info": {
   "codemirror_mode": {
    "name": "ipython",
    "version": 3
   },
   "file_extension": ".py",
   "mimetype": "text/x-python",
   "name": "python",
   "nbconvert_exporter": "python",
   "pygments_lexer": "ipython3",
   "version": "3.10.4"
  }
 },
 "nbformat": 4,
 "nbformat_minor": 4
}
