{
 "cells": [
  {
   "attachments": {},
   "cell_type": "markdown",
   "metadata": {},
   "source": [
    "# Atypical Quantum Maps, Robustness"
   ]
  },
  {
   "cell_type": "code",
   "execution_count": 2,
   "metadata": {},
   "outputs": [],
   "source": [
    "import sys\n",
    "sys.path.insert(0, '../../../src_tf/')\n",
    "\n",
    "import numpy as np\n",
    "import tensorflow as tf\n",
    "import random\n",
    "\n",
    "from tqdm.notebook import tqdm\n",
    "\n",
    "from loss_functions import ProbabilityMSE, channel_fidelity_loss\n",
    "from optimization import ModelQuantumMap, Logger\n",
    "from kraus_channels import KrausMap\n",
    "from lindblad_channels import CompactLindbladMap\n",
    "from spam import InitialState, POVM, SPAM, CorruptionMatrix\n",
    "from utils import saver\n",
    "from synthetic_data import generate_spam_data, generate_spam_benchmark, generate_map_data\n",
    "\n",
    "#np.set_printoptions(threshold=sys.maxsize)\n",
    "np.set_printoptions(precision=4)\n",
    "\n",
    "import os\n",
    "os.environ[\"CUDA_VISIBLE_DEVICES\"] = \"-1\""
   ]
  },
  {
   "attachments": {},
   "cell_type": "markdown",
   "metadata": {},
   "source": [
    "## Recover SPAM and Map\n",
    "\n",
    "### Generate True Model, Full POVM and Inital"
   ]
  },
  {
   "cell_type": "code",
   "execution_count": 3,
   "metadata": {},
   "outputs": [],
   "source": [
    "def model_pipeline(channel_target = None, \n",
    "                   shots=1024, \n",
    "                   N_map = None, \n",
    "                   num_iter_spam=None, \n",
    "                   num_iter_map=None, \n",
    "                   verbose=False,\n",
    "                   use_corruption_matrix=True,):\n",
    "    # Make Benchmark\n",
    "    #################################################################################\n",
    "    n = 4\n",
    "    d = 2**n\n",
    "    \n",
    "    spam_target = generate_spam_benchmark(n=n, c1=0.9, c2=0.8)\n",
    "    inputs_spam, targets_spam = generate_spam_data(spam_target, N_spam=None, shots=shots)\n",
    "\n",
    "    inputs_map, targets_map = generate_map_data(channel_target, spam_target, N_map=N_map, shots=shots)\n",
    "    #################################################################################\n",
    "\n",
    "    # Fit Models\n",
    "    #################################################################################\n",
    "    if use_corruption_matrix:\n",
    "        povm = CorruptionMatrix(d)\n",
    "    else:\n",
    "        povm = POVM(d)\n",
    "\n",
    "    spam_model = SPAM(init = InitialState(d),\n",
    "                      povm = povm,\n",
    "                      optimizer = tf.optimizers.Adam(learning_rate=0.01))\n",
    "    \n",
    "    spam_model.pretrain(500, verbose = verbose)\n",
    "\n",
    "    spam_model.train(inputs = inputs_spam,\n",
    "                     targets = targets_spam,\n",
    "                     num_iter = num_iter_spam,\n",
    "                     verbose = verbose,\n",
    "                    )\n",
    "\n",
    "    model = ModelQuantumMap(channel = KrausMap(d = d, \n",
    "                                               rank = d**2,\n",
    "                                               spam = spam_model,\n",
    "                                              ),\n",
    "                            loss_function = ProbabilityMSE(),\n",
    "                            optimizer = tf.optimizers.Adam(learning_rate=0.01),\n",
    "                            logger = Logger(loss_function = ProbabilityMSE(),\n",
    "                                            loss_function_val = channel_fidelity_loss,\n",
    "                                            sample_freq = 20),\n",
    "                           )\n",
    "\n",
    "    model.train(inputs = inputs_map,\n",
    "                targets = targets_map,\n",
    "                inputs_val = None,\n",
    "                targets_val = [channel_target],\n",
    "                num_iter = num_iter_map,\n",
    "                N = 500,\n",
    "                verbose = verbose,\n",
    "                )\n",
    "    #################################################################################\n",
    "    model.optimizer = None\n",
    "    spam_model.optimizer = None\n",
    "    model.inputs = None\n",
    "    model.targets = None\n",
    "    model.inputs_val = None\n",
    "    model.targets_val = None\n",
    "\n",
    "    return model"
   ]
  },
  {
   "attachments": {},
   "cell_type": "markdown",
   "metadata": {},
   "source": [
    "## Fit Models\n",
    "\n",
    "### Corruption Matrix"
   ]
  },
  {
   "cell_type": "code",
   "execution_count": 8,
   "metadata": {},
   "outputs": [
    {
     "name": "stdout",
     "output_type": "stream",
     "text": [
      "0.01356805534246124 -0.8729201106925852\n",
      "0.014052458588686517 -0.8724832278520965\n",
      "0.014087418677619975 -0.8688736096624493\n"
     ]
    }
   ],
   "source": [
    "np.random.seed(42)\n",
    "random.seed(42)\n",
    "tf.random.set_seed(42)\n",
    "\n",
    "n = 4\n",
    "d = 2**n\n",
    "\n",
    "channel_target1 = CompactLindbladMap(d, 1, 1, 0.1)\n",
    "model1 = model_pipeline(channel_target1, \n",
    "                        shots=1024, \n",
    "                        N_map=10000-6**n, \n",
    "                        num_iter_spam = 1000,\n",
    "                        num_iter_map = 2000,\n",
    "                        verbose=False)\n",
    "\n",
    "model2 = model_pipeline(channel_target1, \n",
    "                        shots=1024, \n",
    "                        N_map=10000-6**n, \n",
    "                        num_iter_spam = 1000,\n",
    "                        num_iter_map = 2000,\n",
    "                        verbose=False)\n",
    "\n",
    "model3 = model_pipeline(channel_target1, \n",
    "                        shots=1024, \n",
    "                        N_map=10000-6**n, \n",
    "                        num_iter_spam = 1000,\n",
    "                        num_iter_map = 2000,\n",
    "                        verbose=False)\n",
    "\n",
    "#channel_target2 = CompactLindbladMap(d, 16, 10000, 0.001)\n",
    "#model4 = model_pipeline(channel_target2, \n",
    "#                        shots=1024, \n",
    "#                        N_map=10000-6**n, \n",
    "#                        num_iter_spam = 1000,\n",
    "#                        num_iter_map = 2000,\n",
    "#                        verbose=True)\n",
    "\n",
    "#model5 = model_pipeline(channel_target2, \n",
    "#                        shots=1024, \n",
    "#                        N_map=10000-6**n, \n",
    "#                        num_iter_spam = 1000,\n",
    "#                        num_iter_map = 2000,\n",
    "#                        verbose=True)\n",
    "\n",
    "#model6 = model_pipeline(channel_target2, \n",
    "#                        shots=1024, \n",
    "#                        N_map=10000-6**n, \n",
    "#                        num_iter_spam = 1000,\n",
    "#                        num_iter_map = 2000,\n",
    "#                        verbose=True)\n",
    "\n",
    "\n",
    "\n",
    "#saver([[channel_target1, channel_target2],\n",
    "#       [model1, model2, model3, model4, model5, model6]], \"data/\"+\"atypical_maps_robustness.model\")\n",
    "\n",
    "saver([[channel_target1],\n",
    "       [model1, model2, model3]], \"data/\"+\"atypical_maps_robustness.model\")"
   ]
  },
  {
   "cell_type": "code",
   "execution_count": 5,
   "metadata": {},
   "outputs": [
    {
     "name": "stdout",
     "output_type": "stream",
     "text": [
      "0.012637697744371998 -0.7465407585423098\n",
      "0.013001184062003103 -0.7435060942926193\n"
     ]
    },
    {
     "ename": "NameError",
     "evalue": "name 'channel_target1' is not defined",
     "output_type": "error",
     "traceback": [
      "\u001b[1;31m---------------------------------------------------------------------------\u001b[0m",
      "\u001b[1;31mNameError\u001b[0m                                 Traceback (most recent call last)",
      "Input \u001b[1;32mIn [5]\u001b[0m, in \u001b[0;36m<cell line: 23>\u001b[1;34m()\u001b[0m\n\u001b[0;32m      9\u001b[0m model1 \u001b[38;5;241m=\u001b[39m model_pipeline(channel_target2, \n\u001b[0;32m     10\u001b[0m                         shots\u001b[38;5;241m=\u001b[39m\u001b[38;5;241m1024\u001b[39m, \n\u001b[0;32m     11\u001b[0m                         N_map\u001b[38;5;241m=\u001b[39m\u001b[38;5;241m10000\u001b[39m\u001b[38;5;241m-\u001b[39m\u001b[38;5;241m6\u001b[39m\u001b[38;5;241m*\u001b[39m\u001b[38;5;241m*\u001b[39mn, \n\u001b[0;32m     12\u001b[0m                         num_iter_spam \u001b[38;5;241m=\u001b[39m \u001b[38;5;241m1000\u001b[39m,\n\u001b[0;32m     13\u001b[0m                         num_iter_map \u001b[38;5;241m=\u001b[39m \u001b[38;5;241m2000\u001b[39m,\n\u001b[0;32m     14\u001b[0m                         verbose\u001b[38;5;241m=\u001b[39m\u001b[38;5;28;01mFalse\u001b[39;00m)\n\u001b[0;32m     16\u001b[0m model2 \u001b[38;5;241m=\u001b[39m model_pipeline(channel_target2, \n\u001b[0;32m     17\u001b[0m                         shots\u001b[38;5;241m=\u001b[39m\u001b[38;5;241m1024\u001b[39m, \n\u001b[0;32m     18\u001b[0m                         N_map\u001b[38;5;241m=\u001b[39m\u001b[38;5;241m10000\u001b[39m\u001b[38;5;241m-\u001b[39m\u001b[38;5;241m6\u001b[39m\u001b[38;5;241m*\u001b[39m\u001b[38;5;241m*\u001b[39mn, \n\u001b[0;32m     19\u001b[0m                         num_iter_spam \u001b[38;5;241m=\u001b[39m \u001b[38;5;241m1000\u001b[39m,\n\u001b[0;32m     20\u001b[0m                         num_iter_map \u001b[38;5;241m=\u001b[39m \u001b[38;5;241m2000\u001b[39m,\n\u001b[0;32m     21\u001b[0m                         verbose\u001b[38;5;241m=\u001b[39m\u001b[38;5;28;01mFalse\u001b[39;00m)\n\u001b[1;32m---> 23\u001b[0m model3 \u001b[38;5;241m=\u001b[39m model_pipeline(\u001b[43mchannel_target1\u001b[49m, \n\u001b[0;32m     24\u001b[0m                         shots\u001b[38;5;241m=\u001b[39m\u001b[38;5;241m1024\u001b[39m, \n\u001b[0;32m     25\u001b[0m                         N_map\u001b[38;5;241m=\u001b[39m\u001b[38;5;241m10000\u001b[39m\u001b[38;5;241m-\u001b[39m\u001b[38;5;241m6\u001b[39m\u001b[38;5;241m*\u001b[39m\u001b[38;5;241m*\u001b[39mn, \n\u001b[0;32m     26\u001b[0m                         num_iter_spam \u001b[38;5;241m=\u001b[39m \u001b[38;5;241m1000\u001b[39m,\n\u001b[0;32m     27\u001b[0m                         num_iter_map \u001b[38;5;241m=\u001b[39m \u001b[38;5;241m2000\u001b[39m,\n\u001b[0;32m     28\u001b[0m                         verbose\u001b[38;5;241m=\u001b[39m\u001b[38;5;28;01mFalse\u001b[39;00m)\n\u001b[0;32m     30\u001b[0m saver([[channel_target2],\n\u001b[0;32m     31\u001b[0m        [model1, model2, model3]], \u001b[38;5;124m\"\u001b[39m\u001b[38;5;124mdata/\u001b[39m\u001b[38;5;124m\"\u001b[39m\u001b[38;5;241m+\u001b[39m\u001b[38;5;124m\"\u001b[39m\u001b[38;5;124matypical_maps_robustness2.model\u001b[39m\u001b[38;5;124m\"\u001b[39m)\n",
      "\u001b[1;31mNameError\u001b[0m: name 'channel_target1' is not defined"
     ]
    }
   ],
   "source": [
    "np.random.seed(42)\n",
    "random.seed(42)\n",
    "tf.random.set_seed(42)\n",
    "\n",
    "n = 4\n",
    "d = 2**n\n",
    "\n",
    "channel_target2 = CompactLindbladMap(d, 16, 10000, 0.001)\n",
    "model1 = model_pipeline(channel_target2, \n",
    "                        shots=1024, \n",
    "                        N_map=10000-6**n, \n",
    "                        num_iter_spam = 1000,\n",
    "                        num_iter_map = 2000,\n",
    "                        verbose=False)\n",
    "\n",
    "model2 = model_pipeline(channel_target2, \n",
    "                        shots=1024, \n",
    "                        N_map=10000-6**n, \n",
    "                        num_iter_spam = 1000,\n",
    "                        num_iter_map = 2000,\n",
    "                        verbose=False)\n",
    "\n",
    "model3 = model_pipeline(channel_target2, \n",
    "                        shots=1024, \n",
    "                        N_map=10000-6**n, \n",
    "                        num_iter_spam = 1000,\n",
    "                        num_iter_map = 2000,\n",
    "                        verbose=False)\n",
    "\n",
    "saver([[channel_target2],\n",
    "       [model1, model2, model3]], \"data/\"+\"atypical_maps_robustness2.model\")"
   ]
  },
  {
   "cell_type": "code",
   "execution_count": 6,
   "metadata": {},
   "outputs": [
    {
     "name": "stdout",
     "output_type": "stream",
     "text": [
      "0.012815780028288825 -0.7458507960966557\n"
     ]
    }
   ],
   "source": [
    "model3 = model_pipeline(channel_target2, \n",
    "                        shots=1024, \n",
    "                        N_map=10000-6**n, \n",
    "                        num_iter_spam = 1000,\n",
    "                        num_iter_map = 2000,\n",
    "                        verbose=False)\n",
    "\n",
    "saver([[channel_target2],\n",
    "       [model1, model2, model3]], \"data/\"+\"atypical_maps_robustness2.model\")"
   ]
  }
 ],
 "metadata": {
  "kernelspec": {
   "display_name": "env_qiskit",
   "language": "python",
   "name": "python3"
  },
  "language_info": {
   "codemirror_mode": {
    "name": "ipython",
    "version": 3
   },
   "file_extension": ".py",
   "mimetype": "text/x-python",
   "name": "python",
   "nbconvert_exporter": "python",
   "pygments_lexer": "ipython3",
   "version": "3.10.4"
  }
 },
 "nbformat": 4,
 "nbformat_minor": 4
}
