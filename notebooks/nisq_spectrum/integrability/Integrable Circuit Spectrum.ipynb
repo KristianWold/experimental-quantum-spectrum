{
 "cells": [
  {
   "attachments": {},
   "cell_type": "markdown",
   "metadata": {},
   "source": [
    "# Integrable Circuit Spectrum"
   ]
  },
  {
   "cell_type": "code",
   "execution_count": 1,
   "metadata": {},
   "outputs": [],
   "source": [
    "import sys\n",
    "sys.path.insert(0, '../../../src_tf/')\n",
    "\n",
    "import numpy as np\n",
    "import qiskit as qk\n",
    "import matplotlib.pyplot as plt\n",
    "import multiprocessing as mp\n",
    "import random\n",
    "import pickle\n",
    "\n",
    "from qiskit.quantum_info import DensityMatrix, random_unitary, random_clifford\n",
    "from qiskit.quantum_info import Operator\n",
    "from scipy.linalg import sqrtm\n",
    "from tqdm.notebook import tqdm\n",
    "from math import ceil\n",
    "\n",
    "from loss_functions import *\n",
    "from optimization import *\n",
    "from quantum_channel import *\n",
    "from kraus_channels import *\n",
    "from quantum_tools import *\n",
    "from kraus_channels import *\n",
    "from experimental import *\n",
    "from spam import *\n",
    "from scipy.stats import gaussian_kde\n",
    "from quantum_circuits import *\n",
    "from analysis import *\n",
    "from utils import *\n",
    "\n",
    "#np.set_printoptions(threshold=sys.maxsize)\n",
    "np.set_printoptions(precision=4)\n",
    "\n",
    "import os\n",
    "os.environ[\"CUDA_VISIBLE_DEVICES\"] = \"-1\"\n",
    "\n",
    "path1 = \"../../../data/\"\n",
    "path2 = \"data/\""
   ]
  },
  {
   "attachments": {},
   "cell_type": "markdown",
   "metadata": {},
   "source": [
    "## Nairobi, Integrable"
   ]
  },
  {
   "cell_type": "code",
   "execution_count": 6,
   "metadata": {},
   "outputs": [
    {
     "data": {
      "application/vnd.jupyter.widget-view+json": {
       "model_id": "fdda125db2e049cc839fc15338cd7d08",
       "version_major": 2,
       "version_minor": 0
      },
      "text/plain": [
       "  0%|          | 0/2000 [00:00<?, ?it/s]"
      ]
     },
     "metadata": {},
     "output_type": "display_data"
    },
    {
     "name": "stdout",
     "output_type": "stream",
     "text": [
      "step 0: loss = 0.0036\n",
      "step 100: loss = 0.0013\n",
      "step 200: loss = 0.0010\n",
      "step 300: loss = 0.0009\n",
      "step 400: loss = 0.0009\n",
      "step 500: loss = 0.0009\n",
      "step 600: loss = 0.0008\n",
      "step 700: loss = 0.0008\n",
      "step 800: loss = 0.0008\n",
      "step 900: loss = 0.0008\n",
      "step 1000: loss = 0.0008\n",
      "step 1100: loss = 0.0008\n",
      "step 1200: loss = 0.0008\n",
      "step 1300: loss = 0.0008\n",
      "step 1400: loss = 0.0008\n",
      "step 1500: loss = 0.0008\n",
      "step 1600: loss = 0.0008\n",
      "step 1700: loss = 0.0008\n",
      "step 1800: loss = 0.0008\n",
      "step 1900: loss = 0.0008\n",
      "0.0008250150307700761\n"
     ]
    },
    {
     "data": {
      "application/vnd.jupyter.widget-view+json": {
       "model_id": "fc7d9a01e2fe437088b60fdeb02069f9",
       "version_major": 2,
       "version_minor": 0
      },
      "text/plain": [
       "  0%|          | 0/2000 [00:00<?, ?it/s]"
      ]
     },
     "metadata": {},
     "output_type": "display_data"
    },
    {
     "name": "stdout",
     "output_type": "stream",
     "text": [
      "0.8822301058853422 -2.3085829190305773e-05\n",
      "0.3945801328151084 0.5129042089411249\n",
      "0.0877129870777377 0.8961426191198433\n",
      "0.024635016570814513 0.9692798005063512\n",
      "0.01976601417517496 0.9766902515417797\n",
      "0.01867247801534352 0.9780614181243636\n",
      "0.016909678524903868 0.9785959528604441\n",
      "0.01698210253404171 0.9789463823877342\n",
      "0.01682040069939903 0.9791792219521646\n",
      "0.017074681972564888 0.9793571883934964\n",
      "0.016627610514033307 0.9794536435217237\n",
      "0.01645867427692807 0.9795461014040395\n",
      "0.016907049096146484 0.9796229211447538\n",
      "0.01690416364771969 0.9796883607238649\n",
      "0.016233116040156256 0.9797314540440998\n",
      "0.0170140699331581 0.9797810832548814\n",
      "0.01667393795550637 0.9797902245376608\n",
      "0.016825444349944086 0.9797969176221827\n",
      "0.016935839559162537 0.979832249223809\n",
      "0.01613486841468751 0.9798649210029586\n",
      "0.01623273718164241 0.9798814948898369\n"
     ]
    }
   ],
   "source": [
    "np.random.seed(42)\n",
    "random.seed(42)\n",
    "tf.random.set_seed(42)\n",
    "n = 4\n",
    "d = 2**n\n",
    "\n",
    "model = fit_model(channel=KrausMap(d=d, \n",
    "                                    rank=256),\n",
    "                  spam=SPAM(init = InitialState(d, c=0.9),\n",
    "                            povm = CorruptionMatrix(d, c=0.9),\n",
    "                            optimizer = tf.optimizers.Adam(learning_rate=0.01),\n",
    "                            ),\n",
    "                  loss_function = ProbabilityMSE(),\n",
    "                  N_map=500,\n",
    "                  N_spam=None,\n",
    "                  num_iter_pretrain=0,\n",
    "                  num_iter_map=2000,\n",
    "                  num_iter_spam=2000,\n",
    "                  filename= path1 + \"nairobi_4qubit_integrable_shallow0\",\n",
    "                  verbose=True,\n",
    "                 )\n",
    "\n",
    "saver(model, path2 + \"nairobi_4qubit_integrable_shallow.model\")"
   ]
  },
  {
   "cell_type": "code",
   "execution_count": 7,
   "metadata": {},
   "outputs": [
    {
     "data": {
      "application/vnd.jupyter.widget-view+json": {
       "model_id": "add04db1aeca4084bd73e8e7809c2f2e",
       "version_major": 2,
       "version_minor": 0
      },
      "text/plain": [
       "  0%|          | 0/2000 [00:00<?, ?it/s]"
      ]
     },
     "metadata": {},
     "output_type": "display_data"
    },
    {
     "name": "stdout",
     "output_type": "stream",
     "text": [
      "step 0: loss = 0.0047\n",
      "step 100: loss = 0.0024\n",
      "step 200: loss = 0.0012\n",
      "step 300: loss = 0.0009\n",
      "step 400: loss = 0.0008\n",
      "step 500: loss = 0.0008\n",
      "step 600: loss = 0.0008\n",
      "step 700: loss = 0.0008\n",
      "step 800: loss = 0.0008\n",
      "step 900: loss = 0.0008\n",
      "step 1000: loss = 0.0008\n",
      "step 1100: loss = 0.0008\n",
      "step 1200: loss = 0.0008\n",
      "step 1300: loss = 0.0008\n",
      "step 1400: loss = 0.0008\n",
      "step 1500: loss = 0.0008\n",
      "step 1600: loss = 0.0008\n",
      "step 1700: loss = 0.0008\n",
      "step 1800: loss = 0.0008\n",
      "step 1900: loss = 0.0008\n",
      "0.0008232761893677516\n"
     ]
    },
    {
     "data": {
      "application/vnd.jupyter.widget-view+json": {
       "model_id": "bb624042ec7348adacefc33219e1c8cc",
       "version_major": 2,
       "version_minor": 0
      },
      "text/plain": [
       "  0%|          | 0/2000 [00:00<?, ?it/s]"
      ]
     },
     "metadata": {},
     "output_type": "display_data"
    },
    {
     "name": "stdout",
     "output_type": "stream",
     "text": [
      "0.49198932823867675 6.952530340342822e-05\n",
      "0.21656766022789464 0.5449431845925461\n",
      "0.04742432026367292 0.8968765881158082\n",
      "0.02593151767827808 0.9457567604041299\n",
      "0.023446711911864947 0.9505198358655418\n",
      "0.02241594888385888 0.9525036082004487\n",
      "0.022286393901 0.9536390253607687\n",
      "0.022179978880139437 0.9543788414022757\n",
      "0.02216535236110362 0.9549416562775488\n",
      "0.02163728559721502 0.9553019894189049\n",
      "0.02142295473247641 0.9556206753891495\n",
      "0.021163457999533054 0.955841529875692\n",
      "0.020196394196305215 0.9560410754230078\n",
      "0.02104645499611199 0.9561237084623532\n",
      "0.02079537768232937 0.9563025356358758\n",
      "0.021553762375986458 0.9563550596902036\n",
      "0.02095562140248772 0.9563996481305819\n",
      "0.02132705520796521 0.9564883858846991\n",
      "0.020506258277093715 0.9565687057279388\n",
      "0.021281828024273124 0.9565439097416988\n",
      "0.021428239610648468 0.9566415508154238\n"
     ]
    }
   ],
   "source": [
    "np.random.seed(42)\n",
    "random.seed(42)\n",
    "tf.random.set_seed(42)\n",
    "n = 4\n",
    "d = 2**n\n",
    "\n",
    "model = fit_model(channel=KrausMap(d=d, \n",
    "                                    rank=256),\n",
    "                  spam=SPAM(init = InitialState(d, c=0.9),\n",
    "                            povm = CorruptionMatrix(d, c=0.9),\n",
    "                            optimizer = tf.optimizers.Adam(learning_rate=0.01),\n",
    "                            ),\n",
    "                  loss_function = ProbabilityMSE(),\n",
    "                  N_map=500,\n",
    "                  N_spam=None,\n",
    "                  num_iter_pretrain=0,\n",
    "                  num_iter_map=2000,\n",
    "                  num_iter_spam=2000,\n",
    "                  filename= path1 + \"nairobi_4qubit_integrable_medium_rerun0\",\n",
    "                  verbose=True,\n",
    "                 )\n",
    "\n",
    "saver(model, path2 + \"nairobi_4qubit_integrable_medium.model\")"
   ]
  },
  {
   "cell_type": "code",
   "execution_count": 6,
   "metadata": {},
   "outputs": [
    {
     "data": {
      "application/vnd.jupyter.widget-view+json": {
       "model_id": "3621417cd7d84b7cb07e8e253b0be44e",
       "version_major": 2,
       "version_minor": 0
      },
      "text/plain": [
       "  0%|          | 0/2000 [00:00<?, ?it/s]"
      ]
     },
     "metadata": {},
     "output_type": "display_data"
    },
    {
     "name": "stdout",
     "output_type": "stream",
     "text": [
      "step 0: loss = 0.0036\n",
      "step 100: loss = 0.0013\n",
      "step 200: loss = 0.0010\n",
      "step 300: loss = 0.0009\n",
      "step 400: loss = 0.0009\n",
      "step 500: loss = 0.0009\n",
      "step 600: loss = 0.0008\n",
      "step 700: loss = 0.0008\n",
      "step 800: loss = 0.0008\n",
      "step 900: loss = 0.0008\n",
      "step 1000: loss = 0.0008\n",
      "step 1100: loss = 0.0008\n",
      "step 1200: loss = 0.0008\n",
      "step 1300: loss = 0.0008\n",
      "step 1400: loss = 0.0008\n",
      "step 1500: loss = 0.0008\n",
      "step 1600: loss = 0.0008\n",
      "step 1700: loss = 0.0008\n",
      "step 1800: loss = 0.0008\n",
      "step 1900: loss = 0.0008\n",
      "Spam loss:  0.0008317163264676989\n"
     ]
    },
    {
     "data": {
      "application/vnd.jupyter.widget-view+json": {
       "model_id": "51d4944a7b1b4a81b31857c94359ccb5",
       "version_major": 2,
       "version_minor": 0
      },
      "text/plain": [
       "  0%|          | 0/2000 [00:00<?, ?it/s]"
      ]
     },
     "metadata": {},
     "output_type": "display_data"
    },
    {
     "name": "stdout",
     "output_type": "stream",
     "text": [
      "0.26109417096291604 0.006743531259953528\n",
      "0.08682224031867736 0.6454866216611606\n",
      "0.023024195220332038 0.9043400982780158\n",
      "0.019765333975772563 0.9189615897320668\n",
      "0.0187447894886498 0.9237919030698659\n",
      "0.01843571879935786 0.9265232721070693\n",
      "0.017136509106016433 0.9283760639753971\n",
      "0.017693952873662048 0.9296697906140372\n",
      "0.01692654019790788 0.9307353781319349\n",
      "0.016415711574550372 0.9314813957203266\n",
      "0.016676298313793993 0.9321553348324592\n",
      "0.016859775025787217 0.9325943361770409\n",
      "0.015647469570305366 0.9330040986627812\n",
      "0.0169031964854969 0.9333083380772297\n",
      "0.015929442928715426 0.9335518927991899\n",
      "0.016015169953547584 0.9337973041044682\n",
      "0.016380458643993234 0.9339988143384748\n",
      "0.016057313688118628 0.9341215967480465\n",
      "0.01637733518845406 0.9342655769882214\n",
      "0.016206473139488194 0.93432843608932\n",
      "0.016317787036114632 0.9344575759435853\n"
     ]
    }
   ],
   "source": [
    "np.random.seed(42)\n",
    "random.seed(42)\n",
    "tf.random.set_seed(42)\n",
    "n = 4\n",
    "d = 2**n\n",
    "\n",
    "model = fit_model(channel=KrausMap(d=d, \n",
    "                                    rank=256),\n",
    "                  spam=SPAM(init = InitialState(d, c=0.9),\n",
    "                            povm = CorruptionMatrix(d, c=0.9),\n",
    "                            optimizer = tf.optimizers.Adam(learning_rate=0.01),\n",
    "                            ),\n",
    "                  loss_function = ProbabilityMSE(),\n",
    "                  N_map=500,\n",
    "                  N_spam=None,\n",
    "                  num_iter_pretrain=0,\n",
    "                  num_iter_map=2000,\n",
    "                  num_iter_spam=2000,\n",
    "                  filename= path1 + \"nairobi_4qubit_integrable_deep_2rerun0\",\n",
    "                  verbose=True,\n",
    "                 )\n",
    "\n",
    "saver(model, path2 + \"nairobi_4qubit_integrable_deep.model\")"
   ]
  },
  {
   "cell_type": "code",
   "execution_count": 7,
   "metadata": {},
   "outputs": [
    {
     "data": {
      "application/vnd.jupyter.widget-view+json": {
       "model_id": "822a155294d243d0a3a0e745fefad8c6",
       "version_major": 2,
       "version_minor": 0
      },
      "text/plain": [
       "  0%|          | 0/2000 [00:00<?, ?it/s]"
      ]
     },
     "metadata": {},
     "output_type": "display_data"
    },
    {
     "name": "stdout",
     "output_type": "stream",
     "text": [
      "step 0: loss = 0.0042\n",
      "step 100: loss = 0.0021\n",
      "step 200: loss = 0.0012\n",
      "step 300: loss = 0.0009\n",
      "step 400: loss = 0.0009\n",
      "step 500: loss = 0.0009\n",
      "step 600: loss = 0.0008\n",
      "step 700: loss = 0.0008\n",
      "step 800: loss = 0.0008\n",
      "step 900: loss = 0.0008\n",
      "step 1000: loss = 0.0008\n",
      "step 1100: loss = 0.0008\n",
      "step 1200: loss = 0.0008\n",
      "step 1300: loss = 0.0008\n",
      "step 1400: loss = 0.0008\n",
      "step 1500: loss = 0.0008\n",
      "step 1600: loss = 0.0008\n",
      "step 1700: loss = 0.0008\n",
      "step 1800: loss = 0.0008\n",
      "step 1900: loss = 0.0008\n",
      "Spam loss:  0.0008385282890256093\n"
     ]
    },
    {
     "data": {
      "application/vnd.jupyter.widget-view+json": {
       "model_id": "9aa9126f052742df8fe53b8bab9652d0",
       "version_major": 2,
       "version_minor": 0
      },
      "text/plain": [
       "  0%|          | 0/2000 [00:00<?, ?it/s]"
      ]
     },
     "metadata": {},
     "output_type": "display_data"
    },
    {
     "name": "stdout",
     "output_type": "stream",
     "text": [
      "0.09468916675158766 0.009401268848205135\n",
      "0.03890071414932367 0.572869549509053\n",
      "0.028195116154271345 0.696664936346209\n",
      "0.025571533942793243 0.7167722438857325\n",
      "0.025615975574043822 0.726183228293332\n",
      "0.024959060526829172 0.732229046660853\n",
      "0.023837009981369433 0.736354256466236\n",
      "0.023906909137938803 0.7396820709815286\n",
      "0.024064074199747345 0.741930469166787\n",
      "0.023609549490895426 0.7440703275722298\n",
      "0.0227136610340771 0.7455683242268643\n",
      "0.023879137999935608 0.746695782116384\n",
      "0.022916238874641934 0.74771982573939\n",
      "0.022838039779276908 0.7484032830112863\n",
      "0.02288702328175899 0.7491782031314091\n",
      "0.022693534661018207 0.7495679946933248\n",
      "0.02294127485650966 0.7503041412608247\n",
      "0.023050836197601628 0.7505892577628184\n",
      "0.023278542790804005 0.7510944529123894\n",
      "0.02392283788057698 0.7514487926543513\n",
      "0.023017908562215406 0.7516243065429166\n"
     ]
    }
   ],
   "source": [
    "np.random.seed(42)\n",
    "random.seed(42)\n",
    "tf.random.set_seed(42)\n",
    "n = 4\n",
    "d = 2**n\n",
    "\n",
    "model = fit_model(channel=KrausMap(d=d, \n",
    "                                    rank=256),\n",
    "                  spam=SPAM(init = InitialState(d, c=0.9),\n",
    "                            povm = CorruptionMatrix(d, c=0.9),\n",
    "                            optimizer = tf.optimizers.Adam(learning_rate=0.01),\n",
    "                            ),\n",
    "                  loss_function = ProbabilityMSE(),\n",
    "                  N_map=500,\n",
    "                  N_spam=None,\n",
    "                  num_iter_pretrain=0,\n",
    "                  num_iter_map=2000,\n",
    "                  num_iter_spam=2000,\n",
    "                  filename= path1 + \"nairobi_4qubit_integrable_deep_3rerun0\",\n",
    "                  verbose=True,\n",
    "                 )\n",
    "\n",
    "saver(model, path2 + \"nairobi_4qubit_integrable_deep2.model\")"
   ]
  },
  {
   "attachments": {},
   "cell_type": "markdown",
   "metadata": {},
   "source": [
    "## Nairobi, Non-Integrable"
   ]
  },
  {
   "cell_type": "code",
   "execution_count": 8,
   "metadata": {},
   "outputs": [
    {
     "data": {
      "application/vnd.jupyter.widget-view+json": {
       "model_id": "6f3664b0ef424ccc9edf2cbe26278c07",
       "version_major": 2,
       "version_minor": 0
      },
      "text/plain": [
       "  0%|          | 0/2000 [00:00<?, ?it/s]"
      ]
     },
     "metadata": {},
     "output_type": "display_data"
    },
    {
     "name": "stdout",
     "output_type": "stream",
     "text": [
      "step 0: loss = 0.0035\n",
      "step 100: loss = 0.0013\n",
      "step 200: loss = 0.0011\n",
      "step 300: loss = 0.0010\n",
      "step 400: loss = 0.0009\n",
      "step 500: loss = 0.0009\n",
      "step 600: loss = 0.0009\n",
      "step 700: loss = 0.0009\n",
      "step 800: loss = 0.0009\n",
      "step 900: loss = 0.0009\n",
      "step 1000: loss = 0.0009\n",
      "step 1100: loss = 0.0009\n",
      "step 1200: loss = 0.0009\n",
      "step 1300: loss = 0.0009\n",
      "step 1400: loss = 0.0009\n",
      "step 1500: loss = 0.0009\n",
      "step 1600: loss = 0.0009\n",
      "step 1700: loss = 0.0009\n",
      "step 1800: loss = 0.0009\n",
      "step 1900: loss = 0.0009\n",
      "0.0008632105330382552\n"
     ]
    },
    {
     "data": {
      "application/vnd.jupyter.widget-view+json": {
       "model_id": "44894f3184084e28a3b1d9a93b99520d",
       "version_major": 2,
       "version_minor": 0
      },
      "text/plain": [
       "  0%|          | 0/2000 [00:00<?, ?it/s]"
      ]
     },
     "metadata": {},
     "output_type": "display_data"
    },
    {
     "name": "stdout",
     "output_type": "stream",
     "text": [
      "0.7020929706991629 0.0005305886341651078\n",
      "0.2748263394255821 0.6016483640138748\n",
      "0.04342578305297689 0.9406148576842727\n",
      "0.021450284099285122 0.9688936380678446\n",
      "0.020051090648307936 0.9711520821062413\n",
      "0.01913206768137368 0.9718652990138762\n",
      "0.01870302679043808 0.9723661041420336\n",
      "0.01858629711832713 0.9727188891184234\n",
      "0.018440264960283947 0.9729890284094027\n",
      "0.018745240858742313 0.9731866956964835\n",
      "0.019172428036928486 0.9733900887389312\n",
      "0.017965757632480265 0.9735377547551823\n",
      "0.01822858563941467 0.9736383845841762\n",
      "0.01803253068497697 0.9737283550034365\n",
      "0.018361794340409472 0.9738003067595118\n",
      "0.017685713454883897 0.973856053308022\n",
      "0.018279031487253187 0.9739415004253793\n",
      "0.017963268968011703 0.9739793949115468\n",
      "0.018013382236937034 0.9740153198330177\n",
      "0.017964966739100988 0.9740399513746559\n",
      "0.01783986710351444 0.9740768068505399\n"
     ]
    }
   ],
   "source": [
    "np.random.seed(43)\n",
    "random.seed(43)\n",
    "tf.random.set_seed(43)\n",
    "n = 4\n",
    "d = 2**n\n",
    "\n",
    "model = fit_model(channel=KrausMap(d=d, \n",
    "                                    rank=256),\n",
    "                  spam=SPAM(init = InitialState(d, c=0.9),\n",
    "                            povm = CorruptionMatrix(d, c=0.9),\n",
    "                            optimizer = tf.optimizers.Adam(learning_rate=0.01),\n",
    "                            ),\n",
    "                  loss_function = ProbabilityMSE(),\n",
    "                  N_map=500,\n",
    "                  N_spam=None,\n",
    "                  num_iter_pretrain=0,\n",
    "                  num_iter_map=2000,\n",
    "                  num_iter_spam=2000,\n",
    "                  filename= path1 + \"nairobi_4qubit_nonintegrable_shallow0\",\n",
    "                  verbose=True,\n",
    "                 )\n",
    "\n",
    "saver(model, path2 + \"nairobi_4qubit_nonintegrable_shallow.model\")"
   ]
  },
  {
   "cell_type": "code",
   "execution_count": 10,
   "metadata": {},
   "outputs": [
    {
     "data": {
      "application/vnd.jupyter.widget-view+json": {
       "model_id": "e81f9270fc1f4a47aa68fc52ac39b446",
       "version_major": 2,
       "version_minor": 0
      },
      "text/plain": [
       "  0%|          | 0/2000 [00:00<?, ?it/s]"
      ]
     },
     "metadata": {},
     "output_type": "display_data"
    },
    {
     "name": "stdout",
     "output_type": "stream",
     "text": [
      "step 0: loss = 0.0044\n",
      "step 100: loss = 0.0022\n",
      "step 200: loss = 0.0012\n",
      "step 300: loss = 0.0009\n",
      "step 400: loss = 0.0009\n",
      "step 500: loss = 0.0009\n",
      "step 600: loss = 0.0009\n",
      "step 700: loss = 0.0009\n",
      "step 800: loss = 0.0009\n",
      "step 900: loss = 0.0009\n",
      "step 1000: loss = 0.0009\n",
      "step 1100: loss = 0.0009\n",
      "step 1200: loss = 0.0009\n",
      "step 1300: loss = 0.0009\n",
      "step 1400: loss = 0.0009\n",
      "step 1500: loss = 0.0009\n",
      "step 1600: loss = 0.0009\n",
      "step 1700: loss = 0.0009\n",
      "step 1800: loss = 0.0009\n",
      "step 1900: loss = 0.0009\n",
      "0.0008548742503785426\n"
     ]
    },
    {
     "data": {
      "application/vnd.jupyter.widget-view+json": {
       "model_id": "4de51e5ec6434e48bf80d6ba92a0efb8",
       "version_major": 2,
       "version_minor": 0
      },
      "text/plain": [
       "  0%|          | 0/2000 [00:00<?, ?it/s]"
      ]
     },
     "metadata": {},
     "output_type": "display_data"
    },
    {
     "name": "stdout",
     "output_type": "stream",
     "text": [
      "0.3653609086712479 0.0311063893829\n",
      "0.1525511490400796 0.5904143435996096\n",
      "0.028096556215829557 0.9258130000634115\n",
      "0.021548755487254333 0.9436295419977315\n",
      "0.020487260367635568 0.9457405457439426\n",
      "0.02061006302697672 0.9470771113335174\n",
      "0.0192508198897804 0.9480535487693725\n",
      "0.01904749085254666 0.9487750944456812\n",
      "0.01940596211413006 0.9493665136470655\n",
      "0.01886266034534089 0.949788392948766\n",
      "0.019300656917779737 0.9501390429551239\n",
      "0.01894700839653019 0.9504087459623767\n",
      "0.018438257654543953 0.9506425585127769\n",
      "0.01806049979495745 0.9508176724986502\n",
      "0.018712905850330308 0.9509520654072983\n",
      "0.01867701359242169 0.9511223663281942\n",
      "0.01856733774132492 0.9512616414358374\n",
      "0.018037200970025837 0.9512706189537478\n",
      "0.01811690395631562 0.9514126930974895\n",
      "0.018060898434610322 0.9514758948738008\n",
      "0.018883252446057142 0.9515049985904231\n"
     ]
    }
   ],
   "source": [
    "np.random.seed(42)\n",
    "random.seed(42)\n",
    "tf.random.set_seed(42)\n",
    "n = 4\n",
    "d = 2**n\n",
    "\n",
    "model1 = fit_model(channel=KrausMap(d=d, \n",
    "                                    rank=256),\n",
    "                  spam=SPAM(init = InitialState(d, c=0.9),\n",
    "                            povm = CorruptionMatrix(d, c=0.9),\n",
    "                            optimizer = tf.optimizers.Adam(learning_rate=0.01),\n",
    "                            ),\n",
    "                  loss_function = ProbabilityMSE(),\n",
    "                  N_map=500,\n",
    "                  N_spam=None,\n",
    "                  num_iter_pretrain=0,\n",
    "                  num_iter_map=2000,\n",
    "                  num_iter_spam=2000,\n",
    "                  filename= path1 + \"nairobi_4qubit_nonintegrable_medium_patched\",\n",
    "                  verbose=True,\n",
    "                 )\n",
    "\n",
    "saver(model1, path2 + \"nairobi_4qubit_nonintegrable_medium.model\")"
   ]
  },
  {
   "cell_type": "markdown",
   "metadata": {},
   "source": [
    "## QFT"
   ]
  },
  {
   "cell_type": "code",
   "execution_count": 2,
   "metadata": {},
   "outputs": [
    {
     "data": {
      "application/vnd.jupyter.widget-view+json": {
       "model_id": "3fbdb12d6c904c1db7e58cfc08585016",
       "version_major": 2,
       "version_minor": 0
      },
      "text/plain": [
       "  0%|          | 0/300 [00:00<?, ?it/s]"
      ]
     },
     "metadata": {},
     "output_type": "display_data"
    },
    {
     "data": {
      "application/vnd.jupyter.widget-view+json": {
       "model_id": "6a71714dbbd044ed9daa747640c351bb",
       "version_major": 2,
       "version_minor": 0
      },
      "text/plain": [
       "  0%|          | 0/2000 [00:00<?, ?it/s]"
      ]
     },
     "metadata": {},
     "output_type": "display_data"
    },
    {
     "name": "stdout",
     "output_type": "stream",
     "text": [
      "step 0: loss = 0.0032\n",
      "step 100: loss = 0.0008\n",
      "step 200: loss = 0.0008\n",
      "step 300: loss = 0.0008\n",
      "step 400: loss = 0.0008\n",
      "step 500: loss = 0.0008\n",
      "step 600: loss = 0.0008\n",
      "step 700: loss = 0.0008\n",
      "step 800: loss = 0.0008\n",
      "step 900: loss = 0.0008\n",
      "step 1000: loss = 0.0008\n",
      "step 1100: loss = 0.0008\n",
      "step 1200: loss = 0.0008\n",
      "step 1300: loss = 0.0008\n",
      "step 1400: loss = 0.0008\n",
      "step 1500: loss = 0.0008\n",
      "step 1600: loss = 0.0008\n",
      "step 1700: loss = 0.0008\n",
      "step 1800: loss = 0.0008\n",
      "step 1900: loss = 0.0008\n"
     ]
    },
    {
     "data": {
      "application/vnd.jupyter.widget-view+json": {
       "model_id": "8b2aa13b7d534b67b3ce4a796216ed69",
       "version_major": 2,
       "version_minor": 0
      },
      "text/plain": [
       "  0%|          | 0/2000 [00:00<?, ?it/s]"
      ]
     },
     "metadata": {},
     "output_type": "display_data"
    },
    {
     "name": "stdout",
     "output_type": "stream",
     "text": [
      "0.652851726494547 -0.0021550103928758\n",
      "0.20822904725656116 0.6860427397672342\n",
      "0.03493831001935844 0.9458309170587954\n",
      "0.02412215948541373 0.9628389951257575\n",
      "0.022162664593608102 0.9655242948561168\n",
      "0.02122078279979288 0.9667694714977528\n",
      "0.020612928472431548 0.9675655963945858\n",
      "0.020052962422469015 0.9680956940060266\n",
      "0.019425979020854762 0.9684964260946605\n",
      "0.01948590499230313 0.9687928549854552\n",
      "0.019102287257839818 0.9689982184135065\n",
      "0.019931176599702085 0.9691771093683172\n",
      "0.01928915223414213 0.9693075597442445\n",
      "0.018915756512222607 0.9694139514860469\n",
      "0.018720600745851388 0.9695261951630483\n",
      "0.018732361917470648 0.9695900100019363\n",
      "0.01849659590362784 0.969633995945511\n",
      "0.018996799696136945 0.969711546594898\n",
      "0.01838371117909971 0.9697519224911679\n",
      "0.02022745279758035 0.9697797660386138\n",
      "0.019215728608774917 0.9698301614962137\n"
     ]
    }
   ],
   "source": [
    "np.random.seed(42)\n",
    "random.seed(42)\n",
    "tf.random.set_seed(42)\n",
    "n = 4\n",
    "d = 2**n\n",
    "\n",
    "model = fit_model(channel=KrausMap(d=d, \n",
    "                                    rank=256),\n",
    "                  spam=SPAM(init = InitialState(d),\n",
    "                            povm = CorruptionMatrix(d),\n",
    "                            optimizer = tf.optimizers.Adam(learning_rate=0.01),\n",
    "                            ),\n",
    "                  loss_function = ProbabilityMSE(),\n",
    "                  N_map=500,\n",
    "                  N_spam=None,\n",
    "                  num_iter_pretrain=300,\n",
    "                  num_iter_map=2000,\n",
    "                  num_iter_spam=2000,\n",
    "                  filename = path1 + \"nairobi_4qubit_QFT0\",\n",
    "                  verbose=True,\n",
    "                 )\n",
    "\n",
    "saver(model, path2 + \"nairobi_4qubit_QFT.model\")"
   ]
  },
  {
   "attachments": {},
   "cell_type": "markdown",
   "metadata": {},
   "source": [
    "## Diluted Fitting"
   ]
  },
  {
   "cell_type": "code",
   "execution_count": 2,
   "metadata": {},
   "outputs": [],
   "source": [
    "def optimize_annulus_distance(spectrum_target = None,\n",
    "                              U = None, \n",
    "                              d = None, \n",
    "                              c_start = 0.5,\n",
    "                              rank_start = 1,\n",
    "                              rank_step = 1,\n",
    "                              num_iter = 1000,\n",
    "                              lr = 0.001,\n",
    "                              verbose = True): \n",
    "    \n",
    "    model_list = []\n",
    "    distance_list = []\n",
    "    counter = 0\n",
    "\n",
    "    if U is None:\n",
    "        U = generate_unitary(d)\n",
    "    \n",
    "    for rank in range(rank_start, d**2+rank_step, rank_step): \n",
    "        model = ModelQuantumMap(channel = DilutedKrausMap(U=U, \n",
    "                                                          c=c_start, \n",
    "                                                          kraus_part=KrausMap(d, \n",
    "                                                                              rank=rank, \n",
    "                                                                              trainable=False),\n",
    "                                                     ),\n",
    "                            loss_function = AnnulusDistance(),\n",
    "                            optimizer = tf.optimizers.Adam(learning_rate=lr),\n",
    "                            logger = Logger(loss_function = AnnulusDistance(), \n",
    "                                            verbose=verbose,\n",
    "                                            N=0),\n",
    "                            )\n",
    "        model.train(inputs = None,\n",
    "                    targets = [spectrum_target],\n",
    "                    num_iter = num_iter,\n",
    "                    verbose = verbose,\n",
    "                   )\n",
    "\n",
    "        model_list.append(model)\n",
    "        distance_list.append(model.logger.loss_train_list[-1])\n",
    "        \n",
    "        idx = np.argmin(distance_list)\n",
    "        if distance_list[-1] > distance_list[idx]:\n",
    "            counter += 1\n",
    "        if counter > 4:\n",
    "            print(\"Done!\")\n",
    "            break\n",
    "\n",
    "    distance_best = distance_list[idx]\n",
    "    model_best = model_list[idx]\n",
    "\n",
    "    return distance_best, model_best\n",
    "\n",
    "def fit_diluted_unitary(spectrum_target_list, \n",
    "                        d, \n",
    "                        rank_start, \n",
    "                        rank_step,\n",
    "                        num_iter = 1000,\n",
    "                        lr = 0.001):\n",
    "    \n",
    "    distance_best_list = []\n",
    "    model_best_list = []\n",
    "    for spectrum_target in tqdm(spectrum_target_list):\n",
    "        U = generate_haar_random(d, rng) \n",
    "        distance_best, model_best = optimize_annulus_distance(spectrum_target,\n",
    "                                                              d,\n",
    "                                                              rank_start,\n",
    "                                                              rank_step,\n",
    "                                                              num_iter = num_iter,\n",
    "                                                              lr = lr)\n",
    "        distance_best_list.append(distance_best)\n",
    "        model_best_list.append(model_best)\n",
    "    \n",
    "    for model in model_best_list:\n",
    "        model.optimizer = None\n",
    "        \n",
    "    return distance_best_list, model_best_list"
   ]
  },
  {
   "attachments": {},
   "cell_type": "markdown",
   "metadata": {},
   "source": [
    "## Integrable Nairobi"
   ]
  },
  {
   "cell_type": "code",
   "execution_count": 5,
   "metadata": {},
   "outputs": [
    {
     "name": "stdout",
     "output_type": "stream",
     "text": [
      "0.00440899750413435 None\n",
      "0.0055486728193228085 None\n",
      "0.007346494081727611 None\n",
      "0.0078034274802906145 None\n",
      "0.007355002011336354 None\n",
      "0.009054705814245358 None\n",
      "Done!\n"
     ]
    }
   ],
   "source": [
    "n = 4\n",
    "d = 2**n\n",
    "\n",
    "np.random.seed(42)\n",
    "random.seed(42)\n",
    "tf.random.set_seed(42)\n",
    "\n",
    "U = circuit_to_matrix(integrable_circuit(4,2))\n",
    "\n",
    "model = loader(path2 + \"nairobi_4qubit_integrable_shallow.model\")\n",
    "spectrum_target = channel_spectrum(model.channel, keep_unity=False)\n",
    "\n",
    "distance_best, model_best = optimize_annulus_distance(spectrum_target = spectrum_target, \n",
    "                                                      U = U,\n",
    "                                                      d = d,\n",
    "                                                      c_start = 0.8,\n",
    "                                                      rank_start = 1, \n",
    "                                                      rank_step = 1,\n",
    "                                                      num_iter = 100,\n",
    "                                                      lr=0.05,\n",
    "                                                      verbose=False)\n",
    "\n",
    "model_best.optimizer = None                              \n",
    "\n",
    "saver([distance_best, model_best], \"data/\"+ \"diluted_fitting_integrable_shallow.model\")"
   ]
  },
  {
   "cell_type": "code",
   "execution_count": 11,
   "metadata": {},
   "outputs": [
    {
     "ename": "KeyboardInterrupt",
     "evalue": "",
     "output_type": "error",
     "traceback": [
      "\u001b[1;31m---------------------------------------------------------------------------\u001b[0m",
      "\u001b[1;31mKeyboardInterrupt\u001b[0m                         Traceback (most recent call last)",
      "\u001b[1;32mc:\\Users\\krisw\\Documents\\ModelNISQ\\notebooks\\nisq_spectrum\\integrability\\Integrable Circuit Spectrum.ipynb Cell 15\u001b[0m in \u001b[0;36m<cell line: 13>\u001b[1;34m()\u001b[0m\n\u001b[0;32m      <a href='vscode-notebook-cell:/c%3A/Users/krisw/Documents/ModelNISQ/notebooks/nisq_spectrum/integrability/Integrable%20Circuit%20Spectrum.ipynb#X16sZmlsZQ%3D%3D?line=8'>9</a>\u001b[0m tf\u001b[39m.\u001b[39mrandom\u001b[39m.\u001b[39mset_seed(\u001b[39m47\u001b[39m)\n\u001b[0;32m     <a href='vscode-notebook-cell:/c%3A/Users/krisw/Documents/ModelNISQ/notebooks/nisq_spectrum/integrability/Integrable%20Circuit%20Spectrum.ipynb#X16sZmlsZQ%3D%3D?line=10'>11</a>\u001b[0m U \u001b[39m=\u001b[39m circuit_to_matrix(integrable_circuit(\u001b[39m4\u001b[39m,\u001b[39m4\u001b[39m))\n\u001b[1;32m---> <a href='vscode-notebook-cell:/c%3A/Users/krisw/Documents/ModelNISQ/notebooks/nisq_spectrum/integrability/Integrable%20Circuit%20Spectrum.ipynb#X16sZmlsZQ%3D%3D?line=12'>13</a>\u001b[0m distance_best, model_best \u001b[39m=\u001b[39m optimize_annulus_distance(spectrum_target \u001b[39m=\u001b[39;49m spectrum_target, \n\u001b[0;32m     <a href='vscode-notebook-cell:/c%3A/Users/krisw/Documents/ModelNISQ/notebooks/nisq_spectrum/integrability/Integrable%20Circuit%20Spectrum.ipynb#X16sZmlsZQ%3D%3D?line=13'>14</a>\u001b[0m                                                       U \u001b[39m=\u001b[39;49m U,\n\u001b[0;32m     <a href='vscode-notebook-cell:/c%3A/Users/krisw/Documents/ModelNISQ/notebooks/nisq_spectrum/integrability/Integrable%20Circuit%20Spectrum.ipynb#X16sZmlsZQ%3D%3D?line=14'>15</a>\u001b[0m                                                       d \u001b[39m=\u001b[39;49m d,\n\u001b[0;32m     <a href='vscode-notebook-cell:/c%3A/Users/krisw/Documents/ModelNISQ/notebooks/nisq_spectrum/integrability/Integrable%20Circuit%20Spectrum.ipynb#X16sZmlsZQ%3D%3D?line=15'>16</a>\u001b[0m                                                       c_start \u001b[39m=\u001b[39;49m \u001b[39m0.8\u001b[39;49m,\n\u001b[0;32m     <a href='vscode-notebook-cell:/c%3A/Users/krisw/Documents/ModelNISQ/notebooks/nisq_spectrum/integrability/Integrable%20Circuit%20Spectrum.ipynb#X16sZmlsZQ%3D%3D?line=16'>17</a>\u001b[0m                                                       rank_start \u001b[39m=\u001b[39;49m \u001b[39m1\u001b[39;49m, \n\u001b[0;32m     <a href='vscode-notebook-cell:/c%3A/Users/krisw/Documents/ModelNISQ/notebooks/nisq_spectrum/integrability/Integrable%20Circuit%20Spectrum.ipynb#X16sZmlsZQ%3D%3D?line=17'>18</a>\u001b[0m                                                       rank_step \u001b[39m=\u001b[39;49m \u001b[39m1\u001b[39;49m,\n\u001b[0;32m     <a href='vscode-notebook-cell:/c%3A/Users/krisw/Documents/ModelNISQ/notebooks/nisq_spectrum/integrability/Integrable%20Circuit%20Spectrum.ipynb#X16sZmlsZQ%3D%3D?line=18'>19</a>\u001b[0m                                                       num_iter \u001b[39m=\u001b[39;49m \u001b[39m100\u001b[39;49m,\n\u001b[0;32m     <a href='vscode-notebook-cell:/c%3A/Users/krisw/Documents/ModelNISQ/notebooks/nisq_spectrum/integrability/Integrable%20Circuit%20Spectrum.ipynb#X16sZmlsZQ%3D%3D?line=19'>20</a>\u001b[0m                                                       lr\u001b[39m=\u001b[39;49m\u001b[39m0.05\u001b[39;49m,\n\u001b[0;32m     <a href='vscode-notebook-cell:/c%3A/Users/krisw/Documents/ModelNISQ/notebooks/nisq_spectrum/integrability/Integrable%20Circuit%20Spectrum.ipynb#X16sZmlsZQ%3D%3D?line=20'>21</a>\u001b[0m                                                       verbose\u001b[39m=\u001b[39;49m\u001b[39mFalse\u001b[39;49;00m)\n\u001b[0;32m     <a href='vscode-notebook-cell:/c%3A/Users/krisw/Documents/ModelNISQ/notebooks/nisq_spectrum/integrability/Integrable%20Circuit%20Spectrum.ipynb#X16sZmlsZQ%3D%3D?line=22'>23</a>\u001b[0m model_best\u001b[39m.\u001b[39moptimizer \u001b[39m=\u001b[39m \u001b[39mNone\u001b[39;00m                              \n\u001b[0;32m     <a href='vscode-notebook-cell:/c%3A/Users/krisw/Documents/ModelNISQ/notebooks/nisq_spectrum/integrability/Integrable%20Circuit%20Spectrum.ipynb#X16sZmlsZQ%3D%3D?line=24'>25</a>\u001b[0m saver([distance_best, model_best], \u001b[39m\"\u001b[39m\u001b[39mdata/\u001b[39m\u001b[39m\"\u001b[39m\u001b[39m+\u001b[39m \u001b[39m\"\u001b[39m\u001b[39mdiluted_fitting_integrable_medium.model\u001b[39m\u001b[39m\"\u001b[39m)\n",
      "\u001b[1;32mc:\\Users\\krisw\\Documents\\ModelNISQ\\notebooks\\nisq_spectrum\\integrability\\Integrable Circuit Spectrum.ipynb Cell 15\u001b[0m in \u001b[0;36moptimize_annulus_distance\u001b[1;34m(spectrum_target, U, d, c_start, rank_start, rank_step, num_iter, lr, verbose)\u001b[0m\n\u001b[0;32m     <a href='vscode-notebook-cell:/c%3A/Users/krisw/Documents/ModelNISQ/notebooks/nisq_spectrum/integrability/Integrable%20Circuit%20Spectrum.ipynb#X16sZmlsZQ%3D%3D?line=17'>18</a>\u001b[0m \u001b[39mfor\u001b[39;00m rank \u001b[39min\u001b[39;00m \u001b[39mrange\u001b[39m(rank_start, d\u001b[39m*\u001b[39m\u001b[39m*\u001b[39m\u001b[39m2\u001b[39m\u001b[39m+\u001b[39mrank_step, rank_step): \n\u001b[0;32m     <a href='vscode-notebook-cell:/c%3A/Users/krisw/Documents/ModelNISQ/notebooks/nisq_spectrum/integrability/Integrable%20Circuit%20Spectrum.ipynb#X16sZmlsZQ%3D%3D?line=18'>19</a>\u001b[0m     model \u001b[39m=\u001b[39m ModelQuantumMap(channel \u001b[39m=\u001b[39m DilutedKrausMap(U\u001b[39m=\u001b[39mU, \n\u001b[0;32m     <a href='vscode-notebook-cell:/c%3A/Users/krisw/Documents/ModelNISQ/notebooks/nisq_spectrum/integrability/Integrable%20Circuit%20Spectrum.ipynb#X16sZmlsZQ%3D%3D?line=19'>20</a>\u001b[0m                                                       c\u001b[39m=\u001b[39mc_start, \n\u001b[0;32m     <a href='vscode-notebook-cell:/c%3A/Users/krisw/Documents/ModelNISQ/notebooks/nisq_spectrum/integrability/Integrable%20Circuit%20Spectrum.ipynb#X16sZmlsZQ%3D%3D?line=20'>21</a>\u001b[0m                                                       kraus_part\u001b[39m=\u001b[39mKrausMap(d, \n\u001b[1;32m   (...)\u001b[0m\n\u001b[0;32m     <a href='vscode-notebook-cell:/c%3A/Users/krisw/Documents/ModelNISQ/notebooks/nisq_spectrum/integrability/Integrable%20Circuit%20Spectrum.ipynb#X16sZmlsZQ%3D%3D?line=28'>29</a>\u001b[0m                                         N\u001b[39m=\u001b[39m\u001b[39m0\u001b[39m),\n\u001b[0;32m     <a href='vscode-notebook-cell:/c%3A/Users/krisw/Documents/ModelNISQ/notebooks/nisq_spectrum/integrability/Integrable%20Circuit%20Spectrum.ipynb#X16sZmlsZQ%3D%3D?line=29'>30</a>\u001b[0m                         )\n\u001b[1;32m---> <a href='vscode-notebook-cell:/c%3A/Users/krisw/Documents/ModelNISQ/notebooks/nisq_spectrum/integrability/Integrable%20Circuit%20Spectrum.ipynb#X16sZmlsZQ%3D%3D?line=30'>31</a>\u001b[0m     model\u001b[39m.\u001b[39;49mtrain(inputs \u001b[39m=\u001b[39;49m \u001b[39mNone\u001b[39;49;00m,\n\u001b[0;32m     <a href='vscode-notebook-cell:/c%3A/Users/krisw/Documents/ModelNISQ/notebooks/nisq_spectrum/integrability/Integrable%20Circuit%20Spectrum.ipynb#X16sZmlsZQ%3D%3D?line=31'>32</a>\u001b[0m                 targets \u001b[39m=\u001b[39;49m [spectrum_target],\n\u001b[0;32m     <a href='vscode-notebook-cell:/c%3A/Users/krisw/Documents/ModelNISQ/notebooks/nisq_spectrum/integrability/Integrable%20Circuit%20Spectrum.ipynb#X16sZmlsZQ%3D%3D?line=32'>33</a>\u001b[0m                 num_iter \u001b[39m=\u001b[39;49m num_iter,\n\u001b[0;32m     <a href='vscode-notebook-cell:/c%3A/Users/krisw/Documents/ModelNISQ/notebooks/nisq_spectrum/integrability/Integrable%20Circuit%20Spectrum.ipynb#X16sZmlsZQ%3D%3D?line=33'>34</a>\u001b[0m                 verbose \u001b[39m=\u001b[39;49m verbose,\n\u001b[0;32m     <a href='vscode-notebook-cell:/c%3A/Users/krisw/Documents/ModelNISQ/notebooks/nisq_spectrum/integrability/Integrable%20Circuit%20Spectrum.ipynb#X16sZmlsZQ%3D%3D?line=34'>35</a>\u001b[0m                )\n\u001b[0;32m     <a href='vscode-notebook-cell:/c%3A/Users/krisw/Documents/ModelNISQ/notebooks/nisq_spectrum/integrability/Integrable%20Circuit%20Spectrum.ipynb#X16sZmlsZQ%3D%3D?line=36'>37</a>\u001b[0m     model_list\u001b[39m.\u001b[39mappend(model)\n\u001b[0;32m     <a href='vscode-notebook-cell:/c%3A/Users/krisw/Documents/ModelNISQ/notebooks/nisq_spectrum/integrability/Integrable%20Circuit%20Spectrum.ipynb#X16sZmlsZQ%3D%3D?line=37'>38</a>\u001b[0m     distance_list\u001b[39m.\u001b[39mappend(model\u001b[39m.\u001b[39mlogger\u001b[39m.\u001b[39mloss_train_list[\u001b[39m-\u001b[39m\u001b[39m1\u001b[39m])\n",
      "File \u001b[1;32mc:\\Users\\krisw\\Documents\\ModelNISQ\\notebooks\\nisq_spectrum\\integrability\\../../../src_tf\\optimization.py:129\u001b[0m, in \u001b[0;36mModelQuantumMap.train\u001b[1;34m(self, inputs, targets, inputs_val, targets_val, num_iter, N, verbose)\u001b[0m\n\u001b[0;32m    126\u001b[0m     inputs_batch \u001b[39m=\u001b[39m inputs\n\u001b[0;32m    127\u001b[0m     targets_batch \u001b[39m=\u001b[39m targets\n\u001b[1;32m--> 129\u001b[0m \u001b[39mself\u001b[39;49m\u001b[39m.\u001b[39;49mtrain_step(inputs_batch, targets_batch)\n\u001b[0;32m    131\u001b[0m \u001b[39mself\u001b[39m\u001b[39m.\u001b[39mlogger\u001b[39m.\u001b[39mlog(\u001b[39mself\u001b[39m)\n\u001b[0;32m    132\u001b[0m \u001b[39mself\u001b[39m\u001b[39m.\u001b[39mcounter \u001b[39m+\u001b[39m\u001b[39m=\u001b[39m \u001b[39m1\u001b[39m\n",
      "File \u001b[1;32mc:\\Program Files\\Anaconda3\\envs\\env_qiskit\\lib\\site-packages\\tensorflow\\python\\util\\traceback_utils.py:150\u001b[0m, in \u001b[0;36mfilter_traceback.<locals>.error_handler\u001b[1;34m(*args, **kwargs)\u001b[0m\n\u001b[0;32m    148\u001b[0m filtered_tb \u001b[39m=\u001b[39m \u001b[39mNone\u001b[39;00m\n\u001b[0;32m    149\u001b[0m \u001b[39mtry\u001b[39;00m:\n\u001b[1;32m--> 150\u001b[0m   \u001b[39mreturn\u001b[39;00m fn(\u001b[39m*\u001b[39margs, \u001b[39m*\u001b[39m\u001b[39m*\u001b[39mkwargs)\n\u001b[0;32m    151\u001b[0m \u001b[39mexcept\u001b[39;00m \u001b[39mException\u001b[39;00m \u001b[39mas\u001b[39;00m e:\n\u001b[0;32m    152\u001b[0m   filtered_tb \u001b[39m=\u001b[39m _process_traceback_frames(e\u001b[39m.\u001b[39m__traceback__)\n",
      "File \u001b[1;32mc:\\Program Files\\Anaconda3\\envs\\env_qiskit\\lib\\site-packages\\tensorflow\\python\\eager\\def_function.py:915\u001b[0m, in \u001b[0;36mFunction.__call__\u001b[1;34m(self, *args, **kwds)\u001b[0m\n\u001b[0;32m    912\u001b[0m compiler \u001b[39m=\u001b[39m \u001b[39m\"\u001b[39m\u001b[39mxla\u001b[39m\u001b[39m\"\u001b[39m \u001b[39mif\u001b[39;00m \u001b[39mself\u001b[39m\u001b[39m.\u001b[39m_jit_compile \u001b[39melse\u001b[39;00m \u001b[39m\"\u001b[39m\u001b[39mnonXla\u001b[39m\u001b[39m\"\u001b[39m\n\u001b[0;32m    914\u001b[0m \u001b[39mwith\u001b[39;00m OptionalXlaContext(\u001b[39mself\u001b[39m\u001b[39m.\u001b[39m_jit_compile):\n\u001b[1;32m--> 915\u001b[0m   result \u001b[39m=\u001b[39m \u001b[39mself\u001b[39m\u001b[39m.\u001b[39m_call(\u001b[39m*\u001b[39margs, \u001b[39m*\u001b[39m\u001b[39m*\u001b[39mkwds)\n\u001b[0;32m    917\u001b[0m new_tracing_count \u001b[39m=\u001b[39m \u001b[39mself\u001b[39m\u001b[39m.\u001b[39mexperimental_get_tracing_count()\n\u001b[0;32m    918\u001b[0m without_tracing \u001b[39m=\u001b[39m (tracing_count \u001b[39m==\u001b[39m new_tracing_count)\n",
      "File \u001b[1;32mc:\\Program Files\\Anaconda3\\envs\\env_qiskit\\lib\\site-packages\\tensorflow\\python\\eager\\def_function.py:947\u001b[0m, in \u001b[0;36mFunction._call\u001b[1;34m(self, *args, **kwds)\u001b[0m\n\u001b[0;32m    944\u001b[0m   \u001b[39mself\u001b[39m\u001b[39m.\u001b[39m_lock\u001b[39m.\u001b[39mrelease()\n\u001b[0;32m    945\u001b[0m   \u001b[39m# In this case we have created variables on the first call, so we run the\u001b[39;00m\n\u001b[0;32m    946\u001b[0m   \u001b[39m# defunned version which is guaranteed to never create variables.\u001b[39;00m\n\u001b[1;32m--> 947\u001b[0m   \u001b[39mreturn\u001b[39;00m \u001b[39mself\u001b[39m\u001b[39m.\u001b[39m_stateless_fn(\u001b[39m*\u001b[39margs, \u001b[39m*\u001b[39m\u001b[39m*\u001b[39mkwds)  \u001b[39m# pylint: disable=not-callable\u001b[39;00m\n\u001b[0;32m    948\u001b[0m \u001b[39melif\u001b[39;00m \u001b[39mself\u001b[39m\u001b[39m.\u001b[39m_stateful_fn \u001b[39mis\u001b[39;00m \u001b[39mnot\u001b[39;00m \u001b[39mNone\u001b[39;00m:\n\u001b[0;32m    949\u001b[0m   \u001b[39m# Release the lock early so that multiple threads can perform the call\u001b[39;00m\n\u001b[0;32m    950\u001b[0m   \u001b[39m# in parallel.\u001b[39;00m\n\u001b[0;32m    951\u001b[0m   \u001b[39mself\u001b[39m\u001b[39m.\u001b[39m_lock\u001b[39m.\u001b[39mrelease()\n",
      "File \u001b[1;32mc:\\Program Files\\Anaconda3\\envs\\env_qiskit\\lib\\site-packages\\tensorflow\\python\\eager\\function.py:2496\u001b[0m, in \u001b[0;36mFunction.__call__\u001b[1;34m(self, *args, **kwargs)\u001b[0m\n\u001b[0;32m   2493\u001b[0m \u001b[39mwith\u001b[39;00m \u001b[39mself\u001b[39m\u001b[39m.\u001b[39m_lock:\n\u001b[0;32m   2494\u001b[0m   (graph_function,\n\u001b[0;32m   2495\u001b[0m    filtered_flat_args) \u001b[39m=\u001b[39m \u001b[39mself\u001b[39m\u001b[39m.\u001b[39m_maybe_define_function(args, kwargs)\n\u001b[1;32m-> 2496\u001b[0m \u001b[39mreturn\u001b[39;00m graph_function\u001b[39m.\u001b[39;49m_call_flat(\n\u001b[0;32m   2497\u001b[0m     filtered_flat_args, captured_inputs\u001b[39m=\u001b[39;49mgraph_function\u001b[39m.\u001b[39;49mcaptured_inputs)\n",
      "File \u001b[1;32mc:\\Program Files\\Anaconda3\\envs\\env_qiskit\\lib\\site-packages\\tensorflow\\python\\eager\\function.py:1862\u001b[0m, in \u001b[0;36mConcreteFunction._call_flat\u001b[1;34m(self, args, captured_inputs, cancellation_manager)\u001b[0m\n\u001b[0;32m   1858\u001b[0m possible_gradient_type \u001b[39m=\u001b[39m gradients_util\u001b[39m.\u001b[39mPossibleTapeGradientTypes(args)\n\u001b[0;32m   1859\u001b[0m \u001b[39mif\u001b[39;00m (possible_gradient_type \u001b[39m==\u001b[39m gradients_util\u001b[39m.\u001b[39mPOSSIBLE_GRADIENT_TYPES_NONE\n\u001b[0;32m   1860\u001b[0m     \u001b[39mand\u001b[39;00m executing_eagerly):\n\u001b[0;32m   1861\u001b[0m   \u001b[39m# No tape is watching; skip to running the function.\u001b[39;00m\n\u001b[1;32m-> 1862\u001b[0m   \u001b[39mreturn\u001b[39;00m \u001b[39mself\u001b[39m\u001b[39m.\u001b[39m_build_call_outputs(\u001b[39mself\u001b[39;49m\u001b[39m.\u001b[39;49m_inference_function\u001b[39m.\u001b[39;49mcall(\n\u001b[0;32m   1863\u001b[0m       ctx, args, cancellation_manager\u001b[39m=\u001b[39;49mcancellation_manager))\n\u001b[0;32m   1864\u001b[0m forward_backward \u001b[39m=\u001b[39m \u001b[39mself\u001b[39m\u001b[39m.\u001b[39m_select_forward_and_backward_functions(\n\u001b[0;32m   1865\u001b[0m     args,\n\u001b[0;32m   1866\u001b[0m     possible_gradient_type,\n\u001b[0;32m   1867\u001b[0m     executing_eagerly)\n\u001b[0;32m   1868\u001b[0m forward_function, args_with_tangents \u001b[39m=\u001b[39m forward_backward\u001b[39m.\u001b[39mforward()\n",
      "File \u001b[1;32mc:\\Program Files\\Anaconda3\\envs\\env_qiskit\\lib\\site-packages\\tensorflow\\python\\eager\\function.py:499\u001b[0m, in \u001b[0;36m_EagerDefinedFunction.call\u001b[1;34m(self, ctx, args, cancellation_manager)\u001b[0m\n\u001b[0;32m    497\u001b[0m \u001b[39mwith\u001b[39;00m _InterpolateFunctionError(\u001b[39mself\u001b[39m):\n\u001b[0;32m    498\u001b[0m   \u001b[39mif\u001b[39;00m cancellation_manager \u001b[39mis\u001b[39;00m \u001b[39mNone\u001b[39;00m:\n\u001b[1;32m--> 499\u001b[0m     outputs \u001b[39m=\u001b[39m execute\u001b[39m.\u001b[39;49mexecute(\n\u001b[0;32m    500\u001b[0m         \u001b[39mstr\u001b[39;49m(\u001b[39mself\u001b[39;49m\u001b[39m.\u001b[39;49msignature\u001b[39m.\u001b[39;49mname),\n\u001b[0;32m    501\u001b[0m         num_outputs\u001b[39m=\u001b[39;49m\u001b[39mself\u001b[39;49m\u001b[39m.\u001b[39;49m_num_outputs,\n\u001b[0;32m    502\u001b[0m         inputs\u001b[39m=\u001b[39;49margs,\n\u001b[0;32m    503\u001b[0m         attrs\u001b[39m=\u001b[39;49mattrs,\n\u001b[0;32m    504\u001b[0m         ctx\u001b[39m=\u001b[39;49mctx)\n\u001b[0;32m    505\u001b[0m   \u001b[39melse\u001b[39;00m:\n\u001b[0;32m    506\u001b[0m     outputs \u001b[39m=\u001b[39m execute\u001b[39m.\u001b[39mexecute_with_cancellation(\n\u001b[0;32m    507\u001b[0m         \u001b[39mstr\u001b[39m(\u001b[39mself\u001b[39m\u001b[39m.\u001b[39msignature\u001b[39m.\u001b[39mname),\n\u001b[0;32m    508\u001b[0m         num_outputs\u001b[39m=\u001b[39m\u001b[39mself\u001b[39m\u001b[39m.\u001b[39m_num_outputs,\n\u001b[1;32m   (...)\u001b[0m\n\u001b[0;32m    511\u001b[0m         ctx\u001b[39m=\u001b[39mctx,\n\u001b[0;32m    512\u001b[0m         cancellation_manager\u001b[39m=\u001b[39mcancellation_manager)\n",
      "File \u001b[1;32mc:\\Program Files\\Anaconda3\\envs\\env_qiskit\\lib\\site-packages\\tensorflow\\python\\eager\\execute.py:54\u001b[0m, in \u001b[0;36mquick_execute\u001b[1;34m(op_name, num_outputs, inputs, attrs, ctx, name)\u001b[0m\n\u001b[0;32m     52\u001b[0m \u001b[39mtry\u001b[39;00m:\n\u001b[0;32m     53\u001b[0m   ctx\u001b[39m.\u001b[39mensure_initialized()\n\u001b[1;32m---> 54\u001b[0m   tensors \u001b[39m=\u001b[39m pywrap_tfe\u001b[39m.\u001b[39;49mTFE_Py_Execute(ctx\u001b[39m.\u001b[39;49m_handle, device_name, op_name,\n\u001b[0;32m     55\u001b[0m                                       inputs, attrs, num_outputs)\n\u001b[0;32m     56\u001b[0m \u001b[39mexcept\u001b[39;00m core\u001b[39m.\u001b[39m_NotOkStatusException \u001b[39mas\u001b[39;00m e:\n\u001b[0;32m     57\u001b[0m   \u001b[39mif\u001b[39;00m name \u001b[39mis\u001b[39;00m \u001b[39mnot\u001b[39;00m \u001b[39mNone\u001b[39;00m:\n",
      "\u001b[1;31mKeyboardInterrupt\u001b[0m: "
     ]
    }
   ],
   "source": [
    "n = 4\n",
    "d = 2**n\n",
    "\n",
    "model = loader(path2 + \"nairobi_4qubit_integrable_medium.model\")\n",
    "spectrum_target = channel_spectrum(model.channel, keep_unity=False)\n",
    "\n",
    "np.random.seed(47)\n",
    "random.seed(47)\n",
    "tf.random.set_seed(47)\n",
    "\n",
    "U = circuit_to_matrix(integrable_circuit(4,4))\n",
    "\n",
    "distance_best, model_best = optimize_annulus_distance(spectrum_target = spectrum_target, \n",
    "                                                      U = U,\n",
    "                                                      d = d,\n",
    "                                                      c_start = 0.8,\n",
    "                                                      rank_start = 1, \n",
    "                                                      rank_step = 1,\n",
    "                                                      num_iter = 100,\n",
    "                                                      lr=0.05,\n",
    "                                                      verbose=False)\n",
    "\n",
    "model_best.optimizer = None                              \n",
    "\n",
    "saver([distance_best, model_best], \"data/\"+ \"diluted_fitting_integrable_medium.model\")"
   ]
  },
  {
   "cell_type": "code",
   "execution_count": 7,
   "metadata": {},
   "outputs": [
    {
     "name": "stdout",
     "output_type": "stream",
     "text": [
      "0.2341618273809229 None\n",
      "0.10152508410764828 None\n",
      "0.061890862722794884 None\n",
      "0.047929549138090916 None\n",
      "0.033677574171916164 None\n",
      "0.028525327008368354 None\n",
      "0.023298642187030465 None\n",
      "0.019174455062313116 None\n",
      "0.015726084840088136 None\n",
      "0.012998390769941286 None\n",
      "0.010294779407792023 None\n",
      "0.010445458665313177 None\n",
      "0.008421098286752065 None\n",
      "0.007287561262310262 None\n",
      "0.0081007431929313 None\n",
      "0.007532363648975221 None\n",
      "0.0036609768556075777 None\n",
      "0.0032692466111316314 None\n",
      "0.003048986451002555 None\n",
      "0.0051838259993079935 None\n",
      "0.00350922399446189 None\n",
      "Done!\n"
     ]
    }
   ],
   "source": [
    "n = 4\n",
    "d = 2**n\n",
    "\n",
    "np.random.seed(46)\n",
    "random.seed(46)\n",
    "tf.random.set_seed(46)\n",
    "\n",
    "U = circuit_to_matrix(integrable_circuit(4,8))\n",
    "\n",
    "model = loader(path2 + \"nairobi_4qubit_integrable_deep.model\")\n",
    "spectrum_target = channel_spectrum(model.channel, keep_unity=False)\n",
    "\n",
    "distance_best, model_best = optimize_annulus_distance(spectrum_target = spectrum_target, \n",
    "                                                      U = U,\n",
    "                                                      d = d,\n",
    "                                                      c_start = 0.8,\n",
    "                                                      rank_start = 1, \n",
    "                                                      rank_step = 1,\n",
    "                                                      num_iter = 100,\n",
    "                                                      lr=0.05,\n",
    "                                                      verbose=False)\n",
    "\n",
    "model_best.optimizer = None                              \n",
    "\n",
    "saver([distance_best, model_best], \"data/\"+ \"diluted_fitting_integrable_deep.model\")"
   ]
  },
  {
   "attachments": {},
   "cell_type": "markdown",
   "metadata": {},
   "source": [
    "## Non-Integrable"
   ]
  },
  {
   "cell_type": "code",
   "execution_count": 17,
   "metadata": {},
   "outputs": [
    {
     "name": "stdout",
     "output_type": "stream",
     "text": [
      "0.021149681005232082 None\n",
      "0.007251924009132377 None\n",
      "0.003655794319666875 None\n",
      "0.0009780178311920712 None\n",
      "0.0009615639029611975 None\n",
      "0.0028433580398080716 None\n",
      "0.003963664196297775 None\n",
      "0.008376343882362407 None\n",
      "0.00403864444158634 None\n",
      "0.005293721913928376 None\n",
      "Done!\n"
     ]
    }
   ],
   "source": [
    "n = 4\n",
    "d = 2**n\n",
    "\n",
    "np.random.seed(42)\n",
    "random.seed(42)\n",
    "tf.random.set_seed(42)\n",
    "\n",
    "U = circuit_to_matrix(nonintegrable_circuit(4,2))\n",
    "\n",
    "model = loader(path2 + \"nairobi_4qubit_nonintegrable_shallow.model\")\n",
    "spectrum_target = channel_spectrum(model.channel, keep_unity=False)\n",
    "\n",
    "distance_best, model_best = optimize_annulus_distance(spectrum_target = spectrum_target,\n",
    "                                                      U = U,\n",
    "                                                      d = d,\n",
    "                                                      c_start = 0.8,\n",
    "                                                      rank_start = 1, \n",
    "                                                      rank_step = 1,\n",
    "                                                      num_iter = 100,\n",
    "                                                      lr=0.05,\n",
    "                                                      verbose=False)\n",
    "\n",
    "model_best.optimizer = None                              \n",
    "\n",
    "saver([distance_best, model_best], \"data/\"+ \"diluted_fitting_nonintegrable_shallow.model\")"
   ]
  },
  {
   "cell_type": "code",
   "execution_count": 18,
   "metadata": {},
   "outputs": [
    {
     "name": "stdout",
     "output_type": "stream",
     "text": [
      "0.002517302070432199 None\n",
      "0.0022722639865032576 None\n",
      "0.0029881232153403207 None\n",
      "0.001523741564565701 None\n",
      "0.0020816594414361164 None\n",
      "0.0016600636331524617 None\n",
      "0.0010395588478262375 None\n",
      "0.0037455612893074934 None\n",
      "0.0014374665212514293 None\n",
      "Done!\n"
     ]
    }
   ],
   "source": [
    "n = 4\n",
    "d = 2**n\n",
    "\n",
    "np.random.seed(42)\n",
    "random.seed(42)\n",
    "tf.random.set_seed(42)\n",
    "\n",
    "U = circuit_to_matrix(nonintegrable_circuit(4,4))\n",
    "\n",
    "model = loader(path2 + \"nairobi_4qubit_nonintegrable_medium.model\")\n",
    "spectrum_target = channel_spectrum(model.channel, keep_unity=False)\n",
    "\n",
    "distance_best, model_best = optimize_annulus_distance(spectrum_target = spectrum_target, \n",
    "                                                      U = U,\n",
    "                                                      d = d,\n",
    "                                                      c_start = 0.6,\n",
    "                                                      rank_start = 10, \n",
    "                                                      rank_step = 1,\n",
    "                                                      num_iter = 100,\n",
    "                                                      lr=0.05,\n",
    "                                                      verbose=False)\n",
    "\n",
    "model_best.optimizer = None                              \n",
    "\n",
    "saver([distance_best, model_best], \"data/\"+ \"diluted_fitting_nonintegrable_medium.model\")"
   ]
  },
  {
   "cell_type": "code",
   "execution_count": 19,
   "metadata": {},
   "outputs": [
    {
     "name": "stdout",
     "output_type": "stream",
     "text": [
      "0.00225149650011189 None\n",
      "0.002477755821697486 None\n",
      "0.003864900868496517 None\n",
      "0.0018267900038901417 None\n",
      "0.0027003430592491256 None\n",
      "0.0011607659369096066 None\n",
      "0.0024503095916919397 None\n",
      "0.0012977976733578693 None\n",
      "Done!\n"
     ]
    }
   ],
   "source": [
    "n = 4\n",
    "d = 2**n\n",
    "\n",
    "np.random.seed(42)\n",
    "random.seed(42)\n",
    "tf.random.set_seed(42)\n",
    "\n",
    "U = circuit_to_matrix(nonintegrable_circuit(4,8))\n",
    "\n",
    "\n",
    "model = loader(path2 + \"nairobi_4qubit_nonintegrable_deep.model\")\n",
    "spectrum_target = channel_spectrum(model.channel, keep_unity=False)\n",
    "\n",
    "distance_best, model_best = optimize_annulus_distance(spectrum_target = spectrum_target, \n",
    "                                                      U = U,\n",
    "                                                      d = d,\n",
    "                                                      c_start = 0.4,\n",
    "                                                      rank_start = 20, \n",
    "                                                      rank_step = 1,\n",
    "                                                      num_iter = 100,\n",
    "                                                      lr=0.05,\n",
    "                                                      verbose=False)\n",
    "\n",
    "model_best.optimizer = None                              \n",
    "\n",
    "saver([distance_best, model_best], \"data/\"+ \"diluted_fitting_nonintegrable_deep.model\")"
   ]
  }
 ],
 "metadata": {
  "kernelspec": {
   "display_name": "env_qiskit",
   "language": "python",
   "name": "env_qiskit"
  },
  "language_info": {
   "codemirror_mode": {
    "name": "ipython",
    "version": 3
   },
   "file_extension": ".py",
   "mimetype": "text/x-python",
   "name": "python",
   "nbconvert_exporter": "python",
   "pygments_lexer": "ipython3",
   "version": "3.10.4"
  }
 },
 "nbformat": 4,
 "nbformat_minor": 4
}
