{
 "cells": [
  {
   "attachments": {},
   "cell_type": "markdown",
   "metadata": {},
   "source": [
    "# Integrable Circuit Spectrum"
   ]
  },
  {
   "cell_type": "code",
   "execution_count": 5,
   "metadata": {},
   "outputs": [],
   "source": [
    "import sys\n",
    "sys.path.insert(0, '../../../src_tf/')\n",
    "\n",
    "import numpy as np\n",
    "import qiskit as qk\n",
    "import matplotlib.pyplot as plt\n",
    "import multiprocessing as mp\n",
    "import random\n",
    "import pickle\n",
    "\n",
    "from qiskit.quantum_info import DensityMatrix, random_unitary, random_clifford\n",
    "from qiskit.quantum_info import Operator\n",
    "from scipy.linalg import sqrtm\n",
    "from tqdm.notebook import tqdm\n",
    "from math import ceil\n",
    "\n",
    "from loss_functions import *\n",
    "from optimization import *\n",
    "from quantum_channel import *\n",
    "from kraus_channels import *\n",
    "from quantum_tools import *\n",
    "from kraus_channels import *\n",
    "from experimental import *\n",
    "from spam import *\n",
    "from scipy.stats import gaussian_kde\n",
    "from quantum_circuits import *\n",
    "from analysis import *\n",
    "from utils import *\n",
    "\n",
    "#np.set_printoptions(threshold=sys.maxsize)\n",
    "np.set_printoptions(precision=4)\n",
    "\n",
    "import os\n",
    "os.environ[\"CUDA_VISIBLE_DEVICES\"] = \"-1\"\n",
    "\n",
    "path1 = \"../../../data/\"\n",
    "path2 = \"data/\""
   ]
  },
  {
   "attachments": {},
   "cell_type": "markdown",
   "metadata": {},
   "source": [
    "## Nairobi, Integrable"
   ]
  },
  {
   "cell_type": "code",
   "execution_count": 6,
   "metadata": {},
   "outputs": [
    {
     "data": {
      "application/vnd.jupyter.widget-view+json": {
       "model_id": "fdda125db2e049cc839fc15338cd7d08",
       "version_major": 2,
       "version_minor": 0
      },
      "text/plain": [
       "  0%|          | 0/2000 [00:00<?, ?it/s]"
      ]
     },
     "metadata": {},
     "output_type": "display_data"
    },
    {
     "name": "stdout",
     "output_type": "stream",
     "text": [
      "step 0: loss = 0.0036\n",
      "step 100: loss = 0.0013\n",
      "step 200: loss = 0.0010\n",
      "step 300: loss = 0.0009\n",
      "step 400: loss = 0.0009\n",
      "step 500: loss = 0.0009\n",
      "step 600: loss = 0.0008\n",
      "step 700: loss = 0.0008\n",
      "step 800: loss = 0.0008\n",
      "step 900: loss = 0.0008\n",
      "step 1000: loss = 0.0008\n",
      "step 1100: loss = 0.0008\n",
      "step 1200: loss = 0.0008\n",
      "step 1300: loss = 0.0008\n",
      "step 1400: loss = 0.0008\n",
      "step 1500: loss = 0.0008\n",
      "step 1600: loss = 0.0008\n",
      "step 1700: loss = 0.0008\n",
      "step 1800: loss = 0.0008\n",
      "step 1900: loss = 0.0008\n",
      "0.0008250150307700761\n"
     ]
    },
    {
     "data": {
      "application/vnd.jupyter.widget-view+json": {
       "model_id": "fc7d9a01e2fe437088b60fdeb02069f9",
       "version_major": 2,
       "version_minor": 0
      },
      "text/plain": [
       "  0%|          | 0/2000 [00:00<?, ?it/s]"
      ]
     },
     "metadata": {},
     "output_type": "display_data"
    },
    {
     "name": "stdout",
     "output_type": "stream",
     "text": [
      "0.8822301058853422 -2.3085829190305773e-05\n",
      "0.3945801328151084 0.5129042089411249\n",
      "0.0877129870777377 0.8961426191198433\n",
      "0.024635016570814513 0.9692798005063512\n",
      "0.01976601417517496 0.9766902515417797\n",
      "0.01867247801534352 0.9780614181243636\n",
      "0.016909678524903868 0.9785959528604441\n",
      "0.01698210253404171 0.9789463823877342\n",
      "0.01682040069939903 0.9791792219521646\n",
      "0.017074681972564888 0.9793571883934964\n",
      "0.016627610514033307 0.9794536435217237\n",
      "0.01645867427692807 0.9795461014040395\n",
      "0.016907049096146484 0.9796229211447538\n",
      "0.01690416364771969 0.9796883607238649\n",
      "0.016233116040156256 0.9797314540440998\n",
      "0.0170140699331581 0.9797810832548814\n",
      "0.01667393795550637 0.9797902245376608\n",
      "0.016825444349944086 0.9797969176221827\n",
      "0.016935839559162537 0.979832249223809\n",
      "0.01613486841468751 0.9798649210029586\n",
      "0.01623273718164241 0.9798814948898369\n"
     ]
    }
   ],
   "source": [
    "np.random.seed(42)\n",
    "random.seed(42)\n",
    "tf.random.set_seed(42)\n",
    "n = 4\n",
    "d = 2**n\n",
    "\n",
    "model = fit_model(channel=KrausMap(d=d, \n",
    "                                    rank=256),\n",
    "                  spam=SPAM(init = InitialState(d, c=0.9),\n",
    "                            povm = CorruptionMatrix(d, c=0.9),\n",
    "                            optimizer = tf.optimizers.Adam(learning_rate=0.01),\n",
    "                            ),\n",
    "                  loss_function = ProbabilityMSE(),\n",
    "                  N_map=500,\n",
    "                  N_spam=None,\n",
    "                  num_iter_pretrain=0,\n",
    "                  num_iter_map=2000,\n",
    "                  num_iter_spam=2000,\n",
    "                  filename= path1 + \"nairobi_4qubit_integrable_shallow0\",\n",
    "                  verbose=True,\n",
    "                 )\n",
    "\n",
    "saver(model, path2 + \"nairobi_4qubit_integrable_shallow.model\")"
   ]
  },
  {
   "cell_type": "code",
   "execution_count": 7,
   "metadata": {},
   "outputs": [
    {
     "data": {
      "application/vnd.jupyter.widget-view+json": {
       "model_id": "add04db1aeca4084bd73e8e7809c2f2e",
       "version_major": 2,
       "version_minor": 0
      },
      "text/plain": [
       "  0%|          | 0/2000 [00:00<?, ?it/s]"
      ]
     },
     "metadata": {},
     "output_type": "display_data"
    },
    {
     "name": "stdout",
     "output_type": "stream",
     "text": [
      "step 0: loss = 0.0047\n",
      "step 100: loss = 0.0024\n",
      "step 200: loss = 0.0012\n",
      "step 300: loss = 0.0009\n",
      "step 400: loss = 0.0008\n",
      "step 500: loss = 0.0008\n",
      "step 600: loss = 0.0008\n",
      "step 700: loss = 0.0008\n",
      "step 800: loss = 0.0008\n",
      "step 900: loss = 0.0008\n",
      "step 1000: loss = 0.0008\n",
      "step 1100: loss = 0.0008\n",
      "step 1200: loss = 0.0008\n",
      "step 1300: loss = 0.0008\n",
      "step 1400: loss = 0.0008\n",
      "step 1500: loss = 0.0008\n",
      "step 1600: loss = 0.0008\n",
      "step 1700: loss = 0.0008\n",
      "step 1800: loss = 0.0008\n",
      "step 1900: loss = 0.0008\n",
      "0.0008232761893677516\n"
     ]
    },
    {
     "data": {
      "application/vnd.jupyter.widget-view+json": {
       "model_id": "bb624042ec7348adacefc33219e1c8cc",
       "version_major": 2,
       "version_minor": 0
      },
      "text/plain": [
       "  0%|          | 0/2000 [00:00<?, ?it/s]"
      ]
     },
     "metadata": {},
     "output_type": "display_data"
    },
    {
     "name": "stdout",
     "output_type": "stream",
     "text": [
      "0.49198932823867675 6.952530340342822e-05\n",
      "0.21656766022789464 0.5449431845925461\n",
      "0.04742432026367292 0.8968765881158082\n",
      "0.02593151767827808 0.9457567604041299\n",
      "0.023446711911864947 0.9505198358655418\n",
      "0.02241594888385888 0.9525036082004487\n",
      "0.022286393901 0.9536390253607687\n",
      "0.022179978880139437 0.9543788414022757\n",
      "0.02216535236110362 0.9549416562775488\n",
      "0.02163728559721502 0.9553019894189049\n",
      "0.02142295473247641 0.9556206753891495\n",
      "0.021163457999533054 0.955841529875692\n",
      "0.020196394196305215 0.9560410754230078\n",
      "0.02104645499611199 0.9561237084623532\n",
      "0.02079537768232937 0.9563025356358758\n",
      "0.021553762375986458 0.9563550596902036\n",
      "0.02095562140248772 0.9563996481305819\n",
      "0.02132705520796521 0.9564883858846991\n",
      "0.020506258277093715 0.9565687057279388\n",
      "0.021281828024273124 0.9565439097416988\n",
      "0.021428239610648468 0.9566415508154238\n"
     ]
    }
   ],
   "source": [
    "np.random.seed(42)\n",
    "random.seed(42)\n",
    "tf.random.set_seed(42)\n",
    "n = 4\n",
    "d = 2**n\n",
    "\n",
    "model = fit_model(channel=KrausMap(d=d, \n",
    "                                    rank=256),\n",
    "                  spam=SPAM(init = InitialState(d, c=0.9),\n",
    "                            povm = CorruptionMatrix(d, c=0.9),\n",
    "                            optimizer = tf.optimizers.Adam(learning_rate=0.01),\n",
    "                            ),\n",
    "                  loss_function = ProbabilityMSE(),\n",
    "                  N_map=500,\n",
    "                  N_spam=None,\n",
    "                  num_iter_pretrain=0,\n",
    "                  num_iter_map=2000,\n",
    "                  num_iter_spam=2000,\n",
    "                  filename= path1 + \"nairobi_4qubit_integrable_medium_rerun0\",\n",
    "                  verbose=True,\n",
    "                 )\n",
    "\n",
    "saver(model, path2 + \"nairobi_4qubit_integrable_medium.model\")"
   ]
  },
  {
   "attachments": {},
   "cell_type": "markdown",
   "metadata": {},
   "source": [
    "## Nairobi, Non-Integrable"
   ]
  },
  {
   "cell_type": "code",
   "execution_count": 8,
   "metadata": {},
   "outputs": [
    {
     "data": {
      "application/vnd.jupyter.widget-view+json": {
       "model_id": "6f3664b0ef424ccc9edf2cbe26278c07",
       "version_major": 2,
       "version_minor": 0
      },
      "text/plain": [
       "  0%|          | 0/2000 [00:00<?, ?it/s]"
      ]
     },
     "metadata": {},
     "output_type": "display_data"
    },
    {
     "name": "stdout",
     "output_type": "stream",
     "text": [
      "step 0: loss = 0.0035\n",
      "step 100: loss = 0.0013\n",
      "step 200: loss = 0.0011\n",
      "step 300: loss = 0.0010\n",
      "step 400: loss = 0.0009\n",
      "step 500: loss = 0.0009\n",
      "step 600: loss = 0.0009\n",
      "step 700: loss = 0.0009\n",
      "step 800: loss = 0.0009\n",
      "step 900: loss = 0.0009\n",
      "step 1000: loss = 0.0009\n",
      "step 1100: loss = 0.0009\n",
      "step 1200: loss = 0.0009\n",
      "step 1300: loss = 0.0009\n",
      "step 1400: loss = 0.0009\n",
      "step 1500: loss = 0.0009\n",
      "step 1600: loss = 0.0009\n",
      "step 1700: loss = 0.0009\n",
      "step 1800: loss = 0.0009\n",
      "step 1900: loss = 0.0009\n",
      "0.0008632105330382552\n"
     ]
    },
    {
     "data": {
      "application/vnd.jupyter.widget-view+json": {
       "model_id": "44894f3184084e28a3b1d9a93b99520d",
       "version_major": 2,
       "version_minor": 0
      },
      "text/plain": [
       "  0%|          | 0/2000 [00:00<?, ?it/s]"
      ]
     },
     "metadata": {},
     "output_type": "display_data"
    },
    {
     "name": "stdout",
     "output_type": "stream",
     "text": [
      "0.7020929706991629 0.0005305886341651078\n",
      "0.2748263394255821 0.6016483640138748\n",
      "0.04342578305297689 0.9406148576842727\n",
      "0.021450284099285122 0.9688936380678446\n",
      "0.020051090648307936 0.9711520821062413\n",
      "0.01913206768137368 0.9718652990138762\n",
      "0.01870302679043808 0.9723661041420336\n",
      "0.01858629711832713 0.9727188891184234\n",
      "0.018440264960283947 0.9729890284094027\n",
      "0.018745240858742313 0.9731866956964835\n",
      "0.019172428036928486 0.9733900887389312\n",
      "0.017965757632480265 0.9735377547551823\n",
      "0.01822858563941467 0.9736383845841762\n",
      "0.01803253068497697 0.9737283550034365\n",
      "0.018361794340409472 0.9738003067595118\n",
      "0.017685713454883897 0.973856053308022\n",
      "0.018279031487253187 0.9739415004253793\n",
      "0.017963268968011703 0.9739793949115468\n",
      "0.018013382236937034 0.9740153198330177\n",
      "0.017964966739100988 0.9740399513746559\n",
      "0.01783986710351444 0.9740768068505399\n"
     ]
    }
   ],
   "source": [
    "np.random.seed(43)\n",
    "random.seed(43)\n",
    "tf.random.set_seed(43)\n",
    "n = 4\n",
    "d = 2**n\n",
    "\n",
    "model = fit_model(channel=KrausMap(d=d, \n",
    "                                    rank=256),\n",
    "                  spam=SPAM(init = InitialState(d, c=0.9),\n",
    "                            povm = CorruptionMatrix(d, c=0.9),\n",
    "                            optimizer = tf.optimizers.Adam(learning_rate=0.01),\n",
    "                            ),\n",
    "                  loss_function = ProbabilityMSE(),\n",
    "                  N_map=500,\n",
    "                  N_spam=None,\n",
    "                  num_iter_pretrain=0,\n",
    "                  num_iter_map=2000,\n",
    "                  num_iter_spam=2000,\n",
    "                  filename= path1 + \"nairobi_4qubit_nonintegrable_shallow0\",\n",
    "                  verbose=True,\n",
    "                 )\n",
    "\n",
    "saver(model, path2 + \"nairobi_4qubit_nonintegrable_shallow.model\")"
   ]
  },
  {
   "cell_type": "code",
   "execution_count": 10,
   "metadata": {},
   "outputs": [
    {
     "data": {
      "application/vnd.jupyter.widget-view+json": {
       "model_id": "e81f9270fc1f4a47aa68fc52ac39b446",
       "version_major": 2,
       "version_minor": 0
      },
      "text/plain": [
       "  0%|          | 0/2000 [00:00<?, ?it/s]"
      ]
     },
     "metadata": {},
     "output_type": "display_data"
    },
    {
     "name": "stdout",
     "output_type": "stream",
     "text": [
      "step 0: loss = 0.0044\n",
      "step 100: loss = 0.0022\n",
      "step 200: loss = 0.0012\n",
      "step 300: loss = 0.0009\n",
      "step 400: loss = 0.0009\n",
      "step 500: loss = 0.0009\n",
      "step 600: loss = 0.0009\n",
      "step 700: loss = 0.0009\n",
      "step 800: loss = 0.0009\n",
      "step 900: loss = 0.0009\n",
      "step 1000: loss = 0.0009\n",
      "step 1100: loss = 0.0009\n",
      "step 1200: loss = 0.0009\n",
      "step 1300: loss = 0.0009\n",
      "step 1400: loss = 0.0009\n",
      "step 1500: loss = 0.0009\n",
      "step 1600: loss = 0.0009\n",
      "step 1700: loss = 0.0009\n",
      "step 1800: loss = 0.0009\n",
      "step 1900: loss = 0.0009\n",
      "0.0008548742503785426\n"
     ]
    },
    {
     "data": {
      "application/vnd.jupyter.widget-view+json": {
       "model_id": "4de51e5ec6434e48bf80d6ba92a0efb8",
       "version_major": 2,
       "version_minor": 0
      },
      "text/plain": [
       "  0%|          | 0/2000 [00:00<?, ?it/s]"
      ]
     },
     "metadata": {},
     "output_type": "display_data"
    },
    {
     "name": "stdout",
     "output_type": "stream",
     "text": [
      "0.3653609086712479 0.0311063893829\n",
      "0.1525511490400796 0.5904143435996096\n",
      "0.028096556215829557 0.9258130000634115\n",
      "0.021548755487254333 0.9436295419977315\n",
      "0.020487260367635568 0.9457405457439426\n",
      "0.02061006302697672 0.9470771113335174\n",
      "0.0192508198897804 0.9480535487693725\n",
      "0.01904749085254666 0.9487750944456812\n",
      "0.01940596211413006 0.9493665136470655\n",
      "0.01886266034534089 0.949788392948766\n",
      "0.019300656917779737 0.9501390429551239\n",
      "0.01894700839653019 0.9504087459623767\n",
      "0.018438257654543953 0.9506425585127769\n",
      "0.01806049979495745 0.9508176724986502\n",
      "0.018712905850330308 0.9509520654072983\n",
      "0.01867701359242169 0.9511223663281942\n",
      "0.01856733774132492 0.9512616414358374\n",
      "0.018037200970025837 0.9512706189537478\n",
      "0.01811690395631562 0.9514126930974895\n",
      "0.018060898434610322 0.9514758948738008\n",
      "0.018883252446057142 0.9515049985904231\n"
     ]
    }
   ],
   "source": [
    "np.random.seed(42)\n",
    "random.seed(42)\n",
    "tf.random.set_seed(42)\n",
    "n = 4\n",
    "d = 2**n\n",
    "\n",
    "model1 = fit_model(channel=KrausMap(d=d, \n",
    "                                    rank=256),\n",
    "                  spam=SPAM(init = InitialState(d, c=0.9),\n",
    "                            povm = CorruptionMatrix(d, c=0.9),\n",
    "                            optimizer = tf.optimizers.Adam(learning_rate=0.01),\n",
    "                            ),\n",
    "                  loss_function = ProbabilityMSE(),\n",
    "                  N_map=500,\n",
    "                  N_spam=None,\n",
    "                  num_iter_pretrain=0,\n",
    "                  num_iter_map=2000,\n",
    "                  num_iter_spam=2000,\n",
    "                  filename= path1 + \"nairobi_4qubit_nonintegrable_medium_patched\",\n",
    "                  verbose=True,\n",
    "                 )\n",
    "\n",
    "saver(model1, path2 + \"nairobi_4qubit_nonintegrable_medium.model\")"
   ]
  }
 ],
 "metadata": {
  "kernelspec": {
   "display_name": "env_qiskit",
   "language": "python",
   "name": "env_qiskit"
  },
  "language_info": {
   "codemirror_mode": {
    "name": "ipython",
    "version": 3
   },
   "file_extension": ".py",
   "mimetype": "text/x-python",
   "name": "python",
   "nbconvert_exporter": "python",
   "pygments_lexer": "ipython3",
   "version": "3.10.4"
  }
 },
 "nbformat": 4,
 "nbformat_minor": 4
}
