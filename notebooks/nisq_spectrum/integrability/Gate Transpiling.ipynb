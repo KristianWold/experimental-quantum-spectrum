{
 "cells": [
  {
   "attachments": {},
   "cell_type": "markdown",
   "metadata": {},
   "source": [
    "# Belen Experiments Various"
   ]
  },
  {
   "cell_type": "code",
   "execution_count": 1,
   "metadata": {},
   "outputs": [],
   "source": [
    "import sys\n",
    "sys.path.insert(0, '../../../src_tf/')\n",
    "\n",
    "import numpy as np\n",
    "import qiskit as qk\n",
    "import matplotlib.pyplot as plt\n",
    "import multiprocessing as mp\n",
    "import random\n",
    "import pickle\n",
    "\n",
    "from qiskit.quantum_info import DensityMatrix, random_unitary, random_clifford\n",
    "from qiskit.quantum_info import Operator\n",
    "from scipy.linalg import sqrtm\n",
    "from tqdm.notebook import tqdm\n",
    "\n",
    "from loss_functions import *\n",
    "from optimization import *\n",
    "from quantum_channel import *\n",
    "from kraus_channels import *\n",
    "from quantum_tools import *\n",
    "from experimental import *\n",
    "from spam import *\n",
    "from quantum_circuits import *\n",
    "\n",
    "#np.set_printoptions(threshold=sys.maxsize)\n",
    "np.set_printoptions(precision=4)\n",
    "\n",
    "import os\n",
    "os.environ[\"CUDA_VISIBLE_DEVICES\"] = \"-1\""
   ]
  },
  {
   "cell_type": "code",
   "execution_count": 2,
   "metadata": {},
   "outputs": [],
   "source": [
    "from qiskit import QuantumRegister, ClassicalRegister, QuantumCircuit\n",
    "from qiskit.tools.visualization import circuit_drawer\n",
    "from qiskit.quantum_info import random_unitary, Operator\n",
    "from qiskit.providers.fake_provider import FakeManilaV2\n",
    "\n",
    "from qiskit import Aer"
   ]
  },
  {
   "cell_type": "code",
   "execution_count": 3,
   "metadata": {},
   "outputs": [],
   "source": [
    "qk.IBMQ.save_account(\"aaff224a30e77d3ea3af33e2e3fb1cebfbff4e33b04ef75fdbbb9e9055426f547739b68d5b93dac4d47e7828d840a212436b1c36a358f9185574ce60af9a9f53\", overwrite=True) \n",
    "provider = qk.IBMQ.load_account()\n",
    "provider = qk.IBMQ.get_provider(hub='ibm-q', group='open', project='main')"
   ]
  },
  {
   "cell_type": "code",
   "execution_count": 4,
   "metadata": {},
   "outputs": [],
   "source": [
    "from qiskit.converters import circuit_to_dag, dag_to_circuit\n",
    "from collections import OrderedDict\n",
    "\n",
    "def remove_idle_qwires(circ):\n",
    "    dag = circuit_to_dag(circ)\n",
    "\n",
    "    idle_wires = list(dag.idle_wires())\n",
    "    for w in idle_wires:\n",
    "        dag._remove_idle_wire(w)\n",
    "        dag.qubits.remove(w)\n",
    "\n",
    "    dag.qregs = OrderedDict()\n",
    "\n",
    "    return dag_to_circuit(dag)"
   ]
  },
  {
   "attachments": {},
   "cell_type": "markdown",
   "metadata": {},
   "source": [
    "## Non-integrable"
   ]
  },
  {
   "cell_type": "code",
   "execution_count": 20,
   "metadata": {},
   "outputs": [
    {
     "name": "stdout",
     "output_type": "stream",
     "text": [
      "     ┌────────────┐\n",
      "q_0: ┤0           ├\n",
      "     │  iswap^0.5 │\n",
      "q_1: ┤1           ├\n",
      "     └────────────┘\n",
      "   ┌───────┐\n",
      "q: ┤ x^0.5 ├\n",
      "   └───────┘\n",
      "   ┌───────┐\n",
      "q: ┤ y^0.5 ├\n",
      "   └───────┘\n",
      "   ┌────────────┐\n",
      "q: ┤ R(π/2,π/4) ├\n",
      "   └────────────┘\n",
      "   ┌─────────────┐\n",
      "q: ┤ R(π/2,-π/4) ├\n",
      "   └─────────────┘\n",
      "   ┌─────────────┐\n",
      "q: ┤ Rz(-1.2976) ├\n",
      "   └─────────────┘\n"
     ]
    }
   ],
   "source": [
    "backend = provider.get_backend(\"ibm_nairobi\")\n",
    "\n",
    "circuit_sqrt_iswap = qk.QuantumCircuit(2)\n",
    "circuit_sqrt_iswap.append(iSwapGate().power(1 / 2), [0, 1])\n",
    "\n",
    "circuit_sqrt_x = qk.QuantumCircuit(1)\n",
    "circuit_sqrt_x.append(XGate().power(1 / 2), [0])\n",
    "\n",
    "circuit_sqrt_y = qk.QuantumCircuit(1)\n",
    "circuit_sqrt_y.append(YGate().power(1 / 2), [0])\n",
    "\n",
    "circuit_sqrt_v = qk.QuantumCircuit(1)\n",
    "circuit_sqrt_v.append(RGate(np.pi / 2, np.pi / 4), [0])\n",
    "\n",
    "circuit_sqrt_w = qk.QuantumCircuit(1)\n",
    "circuit_sqrt_w.append(RGate(np.pi / 2, -np.pi / 4), [0])\n",
    "\n",
    "circuit_rz = qk.QuantumCircuit(1)\n",
    "circuit_rz.append(RZGate(np.random.uniform(-np.pi, np.pi)), [0])\n",
    "\n",
    "print(circuit_sqrt_iswap)\n",
    "print(circuit_sqrt_x)\n",
    "print(circuit_sqrt_y)\n",
    "print(circuit_sqrt_v)\n",
    "print(circuit_sqrt_w)\n",
    "print(circuit_rz)\n"
   ]
  },
  {
   "cell_type": "code",
   "execution_count": 21,
   "metadata": {},
   "outputs": [],
   "source": [
    "transpiled_sqrt_iswap = qk.transpile(circuit_sqrt_iswap, backend=backend, optimization_level=0, seed_transpiler=42)\n",
    "transpiled_sqrt_x = qk.transpile(circuit_sqrt_x, backend=backend, optimization_level=0, seed_transpiler=42)\n",
    "transpiled_sqrt_y = qk.transpile(circuit_sqrt_y, backend=backend, optimization_level=0, seed_transpiler=42)\n",
    "transpiled_sqrt_v = qk.transpile(circuit_sqrt_v, backend=backend, optimization_level=0, seed_transpiler=42)\n",
    "transpiled_sqrt_w = qk.transpile(circuit_sqrt_w, backend=backend, optimization_level=0, seed_transpiler=42)\n",
    "transpiled_rz = qk.transpile(circuit_rz, backend=backend, optimization_level=0, seed_transpiler=42)\n",
    "\n",
    "transpiled_sqrt_iswap = remove_idle_qwires(transpiled_sqrt_iswap)\n",
    "transpiled_sqrt_x = remove_idle_qwires(transpiled_sqrt_x)\n",
    "transpiled_sqrt_y = remove_idle_qwires(transpiled_sqrt_y)\n",
    "transpiled_sqrt_v = remove_idle_qwires(transpiled_sqrt_v)\n",
    "transpiled_sqrt_w = remove_idle_qwires(transpiled_sqrt_w)\n",
    "transpiled_rz = remove_idle_qwires(transpiled_rz)"
   ]
  },
  {
   "cell_type": "code",
   "execution_count": 22,
   "metadata": {},
   "outputs": [
    {
     "name": "stdout",
     "output_type": "stream",
     "text": [
      "global phase: 2π\n",
      "    ┌─────────┐ ┌────┐┌──────────┐        ┌────┐  ┌──────────┐┌────┐     »\n",
      "0: ─┤ Rz(π/4) ├─┤ √X ├┤ Rz(-π/2) ├──■─────┤ √X ├──┤ Rz(-π/4) ├┤ √X ├──■──»\n",
      "   ┌┴─────────┴┐├────┤└──────────┘┌─┴─┐┌──┴────┴─┐└──────────┘└────┘┌─┴─┐»\n",
      "1: ┤ Rz(-3π/4) ├┤ √X ├────────────┤ X ├┤ Rz(π/4) ├──────────────────┤ X ├»\n",
      "   └───────────┘└────┘            └───┘└─────────┘                  └───┘»\n",
      "«   ┌──────────┐   ┌────┐   ┌──────────┐\n",
      "«0: ┤ Rz(-π/2) ├───┤ √X ├───┤ Rz(-π/4) ├\n",
      "«   └──┬────┬──┘┌──┴────┴──┐└──────────┘\n",
      "«1: ───┤ √X ├───┤ Rz(3π/4) ├────────────\n",
      "«      └────┘   └──────────┘            \n",
      "-------------------\n",
      "   ┌────┐\n",
      "0: ┤ √X ├\n",
      "   └────┘\n",
      "-------------------\n",
      "   ┌──────────┐┌────┐┌─────────┐\n",
      "0: ┤ Rz(-π/2) ├┤ √X ├┤ Rz(π/2) ├\n",
      "   └──────────┘└────┘└─────────┘\n",
      "-------------------\n",
      "global phase: 3π/2\n",
      "   ┌─────────┐┌────┐┌──────────┐┌────┐┌───────────┐\n",
      "0: ┤ Rz(π/4) ├┤ √X ├┤ Rz(3π/2) ├┤ √X ├┤ Rz(11π/4) ├\n",
      "   └─────────┘└────┘└──────────┘└────┘└───────────┘\n",
      "-------------------\n",
      "global phase: 3π/2\n",
      "   ┌──────────┐┌────┐┌──────────┐┌────┐┌──────────┐\n",
      "0: ┤ Rz(3π/4) ├┤ √X ├┤ Rz(3π/2) ├┤ √X ├┤ Rz(9π/4) ├\n",
      "   └──────────┘└────┘└──────────┘└────┘└──────────┘\n",
      "-------------------\n",
      "   ┌─────────────┐\n",
      "0: ┤ Rz(-1.2976) ├\n",
      "   └─────────────┘\n"
     ]
    }
   ],
   "source": [
    "print(transpiled_sqrt_iswap)\n",
    "print(\"-------------------\")\n",
    "print(transpiled_sqrt_x)\n",
    "print(\"-------------------\")\n",
    "print(transpiled_sqrt_y)\n",
    "print(\"-------------------\")\n",
    "print(transpiled_sqrt_v)\n",
    "print(\"-------------------\")\n",
    "print(transpiled_sqrt_w)\n",
    "print(\"-------------------\")\n",
    "print(transpiled_rz)"
   ]
  }
 ],
 "metadata": {
  "kernelspec": {
   "display_name": "env_qiskit",
   "language": "python",
   "name": "env_qiskit"
  },
  "language_info": {
   "codemirror_mode": {
    "name": "ipython",
    "version": 3
   },
   "file_extension": ".py",
   "mimetype": "text/x-python",
   "name": "python",
   "nbconvert_exporter": "python",
   "pygments_lexer": "ipython3",
   "version": "3.10.4"
  }
 },
 "nbformat": 4,
 "nbformat_minor": 4
}
