{
 "cells": [
  {
   "attachments": {},
   "cell_type": "markdown",
   "metadata": {},
   "source": [
    "# Matplotlib SVG latex equation with transparent background (but no crop)"
   ]
  },
  {
   "cell_type": "code",
   "execution_count": 1,
   "metadata": {},
   "outputs": [
    {
     "data": {
      "image/png": "[encoded data removed]",
      "text/plain": [
       "<Figure size 400x100 with 1 Axes>"
      ]
     },
     "metadata": {},
     "output_type": "display_data"
    }
   ],
   "source": [
    "import matplotlib.pyplot as plt\n",
    "import cairosvg\n",
    "\n",
    "# Create a LaTeX-formatted equation string\n",
    "latex_equation = r'$f(x) = \\frac{1}{x}$'\n",
    "\n",
    "# Create a figure with a transparent background\n",
    "fig, ax = plt.subplots(figsize=(4, 1))\n",
    "ax.set_facecolor('none')  # Set background color to transparent\n",
    "ax.axis('off')  # Turn off the axis\n",
    "\n",
    "# Add the LaTeX equation as text\n",
    "ax.text(0.5, 0.5, latex_equation, fontsize=16, ha='center', va='center', color='black')\n",
    "\n",
    "# Save the equation as an SVG file\n",
    "plt.savefig('latex_equation_transparent.svg', format='svg', transparent=True, bbox_inches='tight')\n",
    "\n",
    "# Crop the SVG file using cairosvg (optional)\n",
    "cairosvg.svg2svg(url='latex_equation_transparent.svg', write_to='cropped_equation_transparent.svg', output_width=200, output_height=40)\n",
    "\n",
    "# Show the equation (optional)\n",
    "# plt.show()"
   ]
  }
 ],
 "metadata": {
  "kernelspec": {
   "display_name": "env_qiskit",
   "language": "python",
   "name": "python3"
  },
  "language_info": {
   "codemirror_mode": {
    "name": "ipython",
    "version": 3
   },
   "file_extension": ".py",
   "mimetype": "text/x-python",
   "name": "python",
   "nbconvert_exporter": "python",
   "pygments_lexer": "ipython3",
   "version": "3.10.4"
  }
 },
 "nbformat": 4,
 "nbformat_minor": 4
}
