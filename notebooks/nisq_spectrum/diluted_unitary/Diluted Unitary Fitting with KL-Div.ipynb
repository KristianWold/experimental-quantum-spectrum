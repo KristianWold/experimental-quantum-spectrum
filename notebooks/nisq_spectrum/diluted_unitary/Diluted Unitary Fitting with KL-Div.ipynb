{
 "cells": [
  {
   "attachments": {},
   "cell_type": "markdown",
   "metadata": {},
   "source": [
    "# Diluted Unitary Fitting with KL-Div"
   ]
  },
  {
   "cell_type": "code",
   "execution_count": 1,
   "metadata": {},
   "outputs": [],
   "source": [
    "import sys\n",
    "sys.path.insert(0, '../../../src_tf/')\n",
    "\n",
    "import numpy as np\n",
    "import tensorflow as tf\n",
    "import random\n",
    "import matplotlib.pyplot as plt\n",
    "\n",
    "from tqdm.notebook import tqdm\n",
    "\n",
    "from quantum_tools import generate_unitary\n",
    "from quantum_channel import channel_spectrum\n",
    "from loss_functions import ProbabilityMSE, channel_fidelity_loss, SpectrumDistance\n",
    "from optimization import ModelQuantumMap, Logger\n",
    "from kraus_channels import KrausMap, DilutedKrausMap\n",
    "from lindblad_channels import CompactLindbladMap\n",
    "from spam import InitialState, POVM, SPAM, CorruptionMatrix\n",
    "from utils import saver\n",
    "from synthetic_data import generate_spam_data, generate_spam_benchmark, generate_map_data\n",
    "from spectrum import mean_spacing\n",
    "from utils import loader\n",
    "\n",
    "#np.set_printoptions(threshold=sys.maxsize)\n",
    "np.set_printoptions(precision=4)\n",
    "\n",
    "import os\n",
    "os.environ[\"CUDA_VISIBLE_DEVICES\"] = \"-1\""
   ]
  },
  {
   "cell_type": "code",
   "execution_count": 2,
   "metadata": {},
   "outputs": [],
   "source": [
    "def optimize_annulus_distance(spectrum_target = None, \n",
    "                              d = None, \n",
    "                              c_start = 0.5,\n",
    "                              rank_start = 1,\n",
    "                              rank_step = 1,\n",
    "                              num_iter = 1000,\n",
    "                              lr = 0.001,\n",
    "                              verbose = True): \n",
    "    \n",
    "    model_list = []\n",
    "    distance_list = []\n",
    "    counter = 0\n",
    "\n",
    "    sigma = mean_spacing(spectrum_target)\n",
    "    \n",
    "    for rank in range(rank_start, d**2+rank_step, rank_step): \n",
    "        model = ModelQuantumMap(channel = DilutedKrausMap(U=generate_unitary(d), \n",
    "                                                          c=c_start, \n",
    "                                                          kraus_part=KrausMap(d, \n",
    "                                                                              rank=rank, \n",
    "                                                                              trainable=False),\n",
    "                                                     ),\n",
    "                            loss_function = SpectrumDistance(sigma=sigma, k = None, remove_shift=True),\n",
    "                            optimizer = tf.optimizers.Adam(learning_rate=lr),\n",
    "                            logger = Logger(loss_function = SpectrumDistance(sigma=sigma, k = None), \n",
    "                                            verbose=verbose,\n",
    "                                            N=0),\n",
    "                            )\n",
    "        model.train(inputs = None,\n",
    "                    targets = [spectrum_target],\n",
    "                    num_iter = num_iter,\n",
    "                    verbose = verbose,\n",
    "                   )\n",
    "\n",
    "        c_start = model.channel.c.numpy()\n",
    "        model_list.append(model)\n",
    "        distance_list.append(model.logger.loss_train_list[-1])\n",
    "        \n",
    "        idx = np.argmin(distance_list)\n",
    "        if distance_list[-1] > distance_list[idx]:\n",
    "            counter += 1\n",
    "        else:\n",
    "            counter = 0\n",
    "            \n",
    "        if counter > 3:\n",
    "            print(\"Done!\")\n",
    "            break\n",
    "\n",
    "    distance_best = distance_list[idx]\n",
    "    model_best = model_list[idx]\n",
    "\n",
    "    return distance_best, model_best\n",
    "\n",
    "def fit_diluted_unitary(spectrum_target_list, \n",
    "                        d, \n",
    "                        rank_start, \n",
    "                        rank_step, \n",
    "                        num_iter = 1000,\n",
    "                        lr = 0.001):\n",
    "    \n",
    "    distance_best_list = []\n",
    "    model_best_list = []\n",
    "    for spectrum_target in tqdm(spectrum_target_list):\n",
    "        distance_best, model_best = optimize_annulus_distance(spectrum_target,\n",
    "                                                              d,\n",
    "                                                              rank_start,\n",
    "                                                              rank_step,\n",
    "                                                              num_iter = num_iter,\n",
    "                                                              lr = lr)\n",
    "        distance_best_list.append(distance_best)\n",
    "        model_best_list.append(model_best)\n",
    "    \n",
    "    for model in model_best_list:\n",
    "        model.optimizer = None\n",
    "        \n",
    "    return distance_best_list, model_best_list"
   ]
  },
  {
   "attachments": {},
   "cell_type": "markdown",
   "metadata": {},
   "source": [
    "## Four Qubits, Repetition"
   ]
  },
  {
   "cell_type": "code",
   "execution_count": 3,
   "metadata": {},
   "outputs": [],
   "source": [
    "n = 4\n",
    "d = 2**n\n",
    "\n",
    "path1 = \"../../../data/\"\n",
    "path2 = \"data/\"\n",
    "\n",
    "[model1, model2, model3, model4, model5] = loader(path1 + \"belem_4qubit_repeated.model\")\n",
    "\n",
    "spectrum1 = channel_spectrum(model1.channel, keep_unity=False)\n",
    "spectrum2 = channel_spectrum(model2.channel, keep_unity=False) \n",
    "spectrum3 = channel_spectrum(model3.channel, keep_unity=False)\n",
    "spectrum4 = channel_spectrum(model4.channel, keep_unity=False)\n",
    "spectrum5 = channel_spectrum(model5.channel, keep_unity=False)"
   ]
  },
  {
   "cell_type": "code",
   "execution_count": 11,
   "metadata": {
    "scrolled": true
   },
   "outputs": [
    {
     "data": {
      "application/vnd.jupyter.widget-view+json": {
       "model_id": "4664216072234b4c83aae3d68ec4932e",
       "version_major": 2,
       "version_minor": 0
      },
      "text/plain": [
       "  0%|          | 0/200 [00:00<?, ?it/s]"
      ]
     },
     "metadata": {},
     "output_type": "display_data"
    },
    {
     "name": "stdout",
     "output_type": "stream",
     "text": [
      "0.02431698265030642 None\n",
      "-0.014457176579201224 None\n",
      "-0.01445795505108801 None\n"
     ]
    },
    {
     "data": {
      "application/vnd.jupyter.widget-view+json": {
       "model_id": "4b9e87f96efd4fdb9bb23f2cc27e7ff4",
       "version_major": 2,
       "version_minor": 0
      },
      "text/plain": [
       "  0%|          | 0/200 [00:00<?, ?it/s]"
      ]
     },
     "metadata": {},
     "output_type": "display_data"
    },
    {
     "name": "stdout",
     "output_type": "stream",
     "text": [
      "-0.019621132351829877 None\n",
      "-0.02051658083907932 None\n",
      "-0.020516604866696403 None\n"
     ]
    },
    {
     "data": {
      "application/vnd.jupyter.widget-view+json": {
       "model_id": "b1df7ca81ce44153a1e9d4277186e430",
       "version_major": 2,
       "version_minor": 0
      },
      "text/plain": [
       "  0%|          | 0/200 [00:00<?, ?it/s]"
      ]
     },
     "metadata": {},
     "output_type": "display_data"
    },
    {
     "name": "stdout",
     "output_type": "stream",
     "text": [
      "-0.018469176270918444 None\n",
      "-0.018529505692873496 None\n",
      "-0.018529511338059287 None\n"
     ]
    },
    {
     "data": {
      "application/vnd.jupyter.widget-view+json": {
       "model_id": "cb50a6096ab942939c0356284c1271c9",
       "version_major": 2,
       "version_minor": 0
      },
      "text/plain": [
       "  0%|          | 0/200 [00:00<?, ?it/s]"
      ]
     },
     "metadata": {},
     "output_type": "display_data"
    },
    {
     "name": "stdout",
     "output_type": "stream",
     "text": [
      "-0.02251986109199975 None\n",
      "-0.02259530925022129 None\n",
      "-0.022595317115734447 None\n"
     ]
    },
    {
     "data": {
      "application/vnd.jupyter.widget-view+json": {
       "model_id": "a9d7a36351a74d6caa2e6b669c02ec3e",
       "version_major": 2,
       "version_minor": 0
      },
      "text/plain": [
       "  0%|          | 0/200 [00:00<?, ?it/s]"
      ]
     },
     "metadata": {},
     "output_type": "display_data"
    },
    {
     "name": "stdout",
     "output_type": "stream",
     "text": [
      "-0.021161286123043556 None\n",
      "-0.021202332344770668 None\n",
      "-0.021202333253125774 None\n"
     ]
    },
    {
     "data": {
      "application/vnd.jupyter.widget-view+json": {
       "model_id": "320d6309be25463ca15580c3541bfab2",
       "version_major": 2,
       "version_minor": 0
      },
      "text/plain": [
       "  0%|          | 0/200 [00:00<?, ?it/s]"
      ]
     },
     "metadata": {},
     "output_type": "display_data"
    },
    {
     "name": "stdout",
     "output_type": "stream",
     "text": [
      "-0.019044643485042777 None\n",
      "-0.019140033829715818 None\n",
      "-0.019140035811805317 None\n",
      "Done!\n"
     ]
    }
   ],
   "source": [
    "distance_best, model_best = optimize_annulus_distance(spectrum_target = spectrum1, \n",
    "                                                      d = d,\n",
    "                                                      c_start = 0.5,\n",
    "                                                      rank_start = 6, \n",
    "                                                      rank_step = 1,\n",
    "                                                      num_iter = 200,\n",
    "                                                      lr=0.01,\n",
    "                                                      verbose=True)\n",
    "\n",
    "model_best.optimizer = None\n",
    "saver([distance_best, model_best], path2 + \"diluted_fitting_KL_4qubit_8layer.model\")"
   ]
  },
  {
   "cell_type": "code",
   "execution_count": 12,
   "metadata": {},
   "outputs": [
    {
     "data": {
      "application/vnd.jupyter.widget-view+json": {
       "model_id": "5cc72d1d78e442dbb8661ea958ae1f26",
       "version_major": 2,
       "version_minor": 0
      },
      "text/plain": [
       "  0%|          | 0/200 [00:00<?, ?it/s]"
      ]
     },
     "metadata": {},
     "output_type": "display_data"
    },
    {
     "name": "stdout",
     "output_type": "stream",
     "text": [
      "0.04533811068121134 None\n",
      "0.045329996617866984 None\n",
      "0.0453299964368201 None\n"
     ]
    },
    {
     "data": {
      "application/vnd.jupyter.widget-view+json": {
       "model_id": "cce25c5d3125427087684ef7c306a266",
       "version_major": 2,
       "version_minor": 0
      },
      "text/plain": [
       "  0%|          | 0/200 [00:00<?, ?it/s]"
      ]
     },
     "metadata": {},
     "output_type": "display_data"
    },
    {
     "name": "stdout",
     "output_type": "stream",
     "text": [
      "0.048500407705357323 None\n",
      "-0.004775618224579954 None\n",
      "-0.0050628142558500275 None\n"
     ]
    },
    {
     "data": {
      "application/vnd.jupyter.widget-view+json": {
       "model_id": "f35dfd492a41482f97e92dc318d62cb4",
       "version_major": 2,
       "version_minor": 0
      },
      "text/plain": [
       "  0%|          | 0/200 [00:00<?, ?it/s]"
      ]
     },
     "metadata": {},
     "output_type": "display_data"
    },
    {
     "name": "stdout",
     "output_type": "stream",
     "text": [
      "-0.008929886488648446 None\n",
      "-0.008930080586020628 None\n",
      "-0.00893008211561152 None\n"
     ]
    },
    {
     "data": {
      "application/vnd.jupyter.widget-view+json": {
       "model_id": "f07d113f1829458fa3de5dc755ded44f",
       "version_major": 2,
       "version_minor": 0
      },
      "text/plain": [
       "  0%|          | 0/200 [00:00<?, ?it/s]"
      ]
     },
     "metadata": {},
     "output_type": "display_data"
    },
    {
     "name": "stdout",
     "output_type": "stream",
     "text": [
      "-0.007551597722950394 None\n",
      "-0.008417950796554656 None\n",
      "-0.008417955373227176 None\n"
     ]
    },
    {
     "data": {
      "application/vnd.jupyter.widget-view+json": {
       "model_id": "35be6cf2332247f9a96eb8887d487586",
       "version_major": 2,
       "version_minor": 0
      },
      "text/plain": [
       "  0%|          | 0/200 [00:00<?, ?it/s]"
      ]
     },
     "metadata": {},
     "output_type": "display_data"
    },
    {
     "name": "stdout",
     "output_type": "stream",
     "text": [
      "-0.010094767592349466 None\n",
      "-0.011830059551385455 None\n",
      "-0.011830059549478168 None\n"
     ]
    },
    {
     "data": {
      "application/vnd.jupyter.widget-view+json": {
       "model_id": "eeeecccb604b4ac5a835670454e178ed",
       "version_major": 2,
       "version_minor": 0
      },
      "text/plain": [
       "  0%|          | 0/200 [00:00<?, ?it/s]"
      ]
     },
     "metadata": {},
     "output_type": "display_data"
    },
    {
     "name": "stdout",
     "output_type": "stream",
     "text": [
      "-0.006948914020635397 None\n",
      "-0.011481007562808468 None\n",
      "-0.01148112459887541 None\n"
     ]
    },
    {
     "data": {
      "application/vnd.jupyter.widget-view+json": {
       "model_id": "5b97d9b19bfd4511913b72dc86ddfa34",
       "version_major": 2,
       "version_minor": 0
      },
      "text/plain": [
       "  0%|          | 0/200 [00:00<?, ?it/s]"
      ]
     },
     "metadata": {},
     "output_type": "display_data"
    },
    {
     "name": "stdout",
     "output_type": "stream",
     "text": [
      "-0.009912724777909929 None\n",
      "-0.013249166037941788 None\n",
      "-0.013249250783594263 None\n"
     ]
    },
    {
     "data": {
      "application/vnd.jupyter.widget-view+json": {
       "model_id": "893970ca88d0422d8bd83cfeb255de29",
       "version_major": 2,
       "version_minor": 0
      },
      "text/plain": [
       "  0%|          | 0/200 [00:00<?, ?it/s]"
      ]
     },
     "metadata": {},
     "output_type": "display_data"
    },
    {
     "name": "stdout",
     "output_type": "stream",
     "text": [
      "-0.013075576510857966 None\n",
      "-0.015718295234748034 None\n",
      "-0.015718320775387908 None\n"
     ]
    },
    {
     "data": {
      "application/vnd.jupyter.widget-view+json": {
       "model_id": "7ab93562c48d49179982ccde35c2f162",
       "version_major": 2,
       "version_minor": 0
      },
      "text/plain": [
       "  0%|          | 0/200 [00:00<?, ?it/s]"
      ]
     },
     "metadata": {},
     "output_type": "display_data"
    },
    {
     "name": "stdout",
     "output_type": "stream",
     "text": [
      "-0.017899605805762983 None\n",
      "-0.019066406143392688 None\n",
      "-0.019066430371670696 None\n"
     ]
    },
    {
     "data": {
      "application/vnd.jupyter.widget-view+json": {
       "model_id": "d6ae5e0180c24bf89f3bdfa124ab1f8c",
       "version_major": 2,
       "version_minor": 0
      },
      "text/plain": [
       "  0%|          | 0/200 [00:00<?, ?it/s]"
      ]
     },
     "metadata": {},
     "output_type": "display_data"
    },
    {
     "name": "stdout",
     "output_type": "stream",
     "text": [
      "-0.019046677975353046 None\n",
      "-0.020045631713419956 None\n",
      "-0.020045659912390275 None\n"
     ]
    },
    {
     "data": {
      "application/vnd.jupyter.widget-view+json": {
       "model_id": "6f883bddcaa54f4f8ce13f03b430cb4e",
       "version_major": 2,
       "version_minor": 0
      },
      "text/plain": [
       "  0%|          | 0/200 [00:00<?, ?it/s]"
      ]
     },
     "metadata": {},
     "output_type": "display_data"
    },
    {
     "name": "stdout",
     "output_type": "stream",
     "text": [
      "-0.01811812826286361 None\n",
      "-0.018522950123476642 None\n",
      "-0.018522957097658298 None\n"
     ]
    },
    {
     "data": {
      "application/vnd.jupyter.widget-view+json": {
       "model_id": "1d56bd33307c43299a03116dbad7e3a3",
       "version_major": 2,
       "version_minor": 0
      },
      "text/plain": [
       "  0%|          | 0/200 [00:00<?, ?it/s]"
      ]
     },
     "metadata": {},
     "output_type": "display_data"
    },
    {
     "name": "stdout",
     "output_type": "stream",
     "text": [
      "-0.022323883574678904 None\n",
      "-0.022648152649602377 None\n",
      "-0.02264816691426974 None\n"
     ]
    },
    {
     "data": {
      "application/vnd.jupyter.widget-view+json": {
       "model_id": "8f82a97407b944b5a9af477c62e76dc7",
       "version_major": 2,
       "version_minor": 0
      },
      "text/plain": [
       "  0%|          | 0/200 [00:00<?, ?it/s]"
      ]
     },
     "metadata": {},
     "output_type": "display_data"
    },
    {
     "name": "stdout",
     "output_type": "stream",
     "text": [
      "-0.02114747020840642 None\n",
      "-0.021729258832902235 None\n",
      "-0.021729273324430205 None\n"
     ]
    },
    {
     "data": {
      "application/vnd.jupyter.widget-view+json": {
       "model_id": "3af9213a1b074cd1a8b8a732d1337cb4",
       "version_major": 2,
       "version_minor": 0
      },
      "text/plain": [
       "  0%|          | 0/200 [00:00<?, ?it/s]"
      ]
     },
     "metadata": {},
     "output_type": "display_data"
    },
    {
     "name": "stdout",
     "output_type": "stream",
     "text": [
      "-0.024810470474832036 None\n",
      "-0.024823852118013703 None\n",
      "-0.02482385386643443 None\n"
     ]
    },
    {
     "data": {
      "application/vnd.jupyter.widget-view+json": {
       "model_id": "75e61357a60c4e2a8c8a248afe048f01",
       "version_major": 2,
       "version_minor": 0
      },
      "text/plain": [
       "  0%|          | 0/200 [00:00<?, ?it/s]"
      ]
     },
     "metadata": {},
     "output_type": "display_data"
    },
    {
     "name": "stdout",
     "output_type": "stream",
     "text": [
      "-0.02270932018871931 None\n",
      "-0.023362337724488737 None\n",
      "-0.023362361145985916 None\n"
     ]
    },
    {
     "data": {
      "application/vnd.jupyter.widget-view+json": {
       "model_id": "ecf866cfa41d4b2bbc3909ff29ee0d37",
       "version_major": 2,
       "version_minor": 0
      },
      "text/plain": [
       "  0%|          | 0/200 [00:00<?, ?it/s]"
      ]
     },
     "metadata": {},
     "output_type": "display_data"
    },
    {
     "name": "stdout",
     "output_type": "stream",
     "text": [
      "-0.022285456585814212 None\n",
      "-0.022615400341474218 None\n",
      "-0.022615407816214343 None\n",
      "Done!\n"
     ]
    }
   ],
   "source": [
    "distance_best, model_best = optimize_annulus_distance(spectrum_target = spectrum2, \n",
    "                                                      d = d,\n",
    "                                                      c_start = 0.5,\n",
    "                                                      rank_start = 10, \n",
    "                                                      rank_step = 1,\n",
    "                                                      num_iter = 200,\n",
    "                                                      lr=0.01)\n",
    "\n",
    "model_best.optimizer = None\n",
    "saver([distance_best, model_best], path2 + \"diluted_fitting_KL_4qubit_16layer.model\")"
   ]
  },
  {
   "cell_type": "code",
   "execution_count": 16,
   "metadata": {},
   "outputs": [
    {
     "data": {
      "application/vnd.jupyter.widget-view+json": {
       "model_id": "0d9c03c327dc4c14ac1f9dbd2a1cecdf",
       "version_major": 2,
       "version_minor": 0
      },
      "text/plain": [
       "  0%|          | 0/200 [00:00<?, ?it/s]"
      ]
     },
     "metadata": {},
     "output_type": "display_data"
    },
    {
     "name": "stdout",
     "output_type": "stream",
     "text": [
      "-0.009984272049604045 None\n",
      "-0.015264161447782622 None\n",
      "-0.015264171334487528 None\n"
     ]
    },
    {
     "data": {
      "application/vnd.jupyter.widget-view+json": {
       "model_id": "58d47fa3e46349c9a1393e74e284a98a",
       "version_major": 2,
       "version_minor": 0
      },
      "text/plain": [
       "  0%|          | 0/200 [00:00<?, ?it/s]"
      ]
     },
     "metadata": {},
     "output_type": "display_data"
    },
    {
     "name": "stdout",
     "output_type": "stream",
     "text": [
      "-0.013456041423519222 None\n",
      "-0.015784388754267388 None\n",
      "-0.01578442147142492 None\n"
     ]
    },
    {
     "data": {
      "application/vnd.jupyter.widget-view+json": {
       "model_id": "b6c75c2044494e5baf24bf0161b8c7f2",
       "version_major": 2,
       "version_minor": 0
      },
      "text/plain": [
       "  0%|          | 0/200 [00:00<?, ?it/s]"
      ]
     },
     "metadata": {},
     "output_type": "display_data"
    },
    {
     "name": "stdout",
     "output_type": "stream",
     "text": [
      "-0.019318378501244834 None\n",
      "-0.019397763991680674 None\n",
      "-0.019397770011931575 None\n"
     ]
    },
    {
     "data": {
      "application/vnd.jupyter.widget-view+json": {
       "model_id": "9db1036e48aa4514bce58d7b6249ebc9",
       "version_major": 2,
       "version_minor": 0
      },
      "text/plain": [
       "  0%|          | 0/200 [00:00<?, ?it/s]"
      ]
     },
     "metadata": {},
     "output_type": "display_data"
    },
    {
     "name": "stdout",
     "output_type": "stream",
     "text": [
      "-0.017562671321994162 None\n",
      "-0.018074269225792527 None\n",
      "-0.018074276507032985 None\n"
     ]
    },
    {
     "data": {
      "application/vnd.jupyter.widget-view+json": {
       "model_id": "d31f6ddbe8c64251a643723a4fd884f0",
       "version_major": 2,
       "version_minor": 0
      },
      "text/plain": [
       "  0%|          | 0/200 [00:00<?, ?it/s]"
      ]
     },
     "metadata": {},
     "output_type": "display_data"
    },
    {
     "name": "stdout",
     "output_type": "stream",
     "text": [
      "-0.019246102777280012 None\n",
      "-0.019984785778124965 None\n",
      "-0.019984802233451684 None\n"
     ]
    },
    {
     "data": {
      "application/vnd.jupyter.widget-view+json": {
       "model_id": "e8fa1bc53b93485892eb7371276a3afb",
       "version_major": 2,
       "version_minor": 0
      },
      "text/plain": [
       "  0%|          | 0/200 [00:00<?, ?it/s]"
      ]
     },
     "metadata": {},
     "output_type": "display_data"
    },
    {
     "name": "stdout",
     "output_type": "stream",
     "text": [
      "-0.01902104027509085 None\n",
      "-0.01934351833724586 None\n",
      "-0.019343521647560764 None\n"
     ]
    },
    {
     "data": {
      "application/vnd.jupyter.widget-view+json": {
       "model_id": "0c2495cb60ac4b7db3901e42214f8000",
       "version_major": 2,
       "version_minor": 0
      },
      "text/plain": [
       "  0%|          | 0/200 [00:00<?, ?it/s]"
      ]
     },
     "metadata": {},
     "output_type": "display_data"
    },
    {
     "name": "stdout",
     "output_type": "stream",
     "text": [
      "-0.020432413166420783 None\n",
      "-0.022448072883156138 None\n",
      "-0.022448106765864992 None\n"
     ]
    },
    {
     "data": {
      "application/vnd.jupyter.widget-view+json": {
       "model_id": "2316fbaa95ad47579d52fa02d63ef450",
       "version_major": 2,
       "version_minor": 0
      },
      "text/plain": [
       "  0%|          | 0/200 [00:00<?, ?it/s]"
      ]
     },
     "metadata": {},
     "output_type": "display_data"
    },
    {
     "name": "stdout",
     "output_type": "stream",
     "text": [
      "-0.021721433523289577 None\n",
      "-0.021756948169899898 None\n",
      "-0.02175694976653912 None\n"
     ]
    },
    {
     "data": {
      "application/vnd.jupyter.widget-view+json": {
       "model_id": "f689d04cd1d0450f8f07887dc2c671e9",
       "version_major": 2,
       "version_minor": 0
      },
      "text/plain": [
       "  0%|          | 0/200 [00:00<?, ?it/s]"
      ]
     },
     "metadata": {},
     "output_type": "display_data"
    },
    {
     "name": "stdout",
     "output_type": "stream",
     "text": [
      "-0.024435826185256602 None\n",
      "-0.024453200951644452 None\n",
      "-0.024453204241121615 None\n"
     ]
    },
    {
     "data": {
      "application/vnd.jupyter.widget-view+json": {
       "model_id": "d81749b60d3c4f4cb38b1e4d47b375fc",
       "version_major": 2,
       "version_minor": 0
      },
      "text/plain": [
       "  0%|          | 0/200 [00:00<?, ?it/s]"
      ]
     },
     "metadata": {},
     "output_type": "display_data"
    },
    {
     "name": "stdout",
     "output_type": "stream",
     "text": [
      "-0.02265450407977239 None\n",
      "-0.022681747009569493 None\n",
      "-0.02268174712055275 None\n"
     ]
    },
    {
     "data": {
      "application/vnd.jupyter.widget-view+json": {
       "model_id": "2263e278af7e4340bab11a530117bebe",
       "version_major": 2,
       "version_minor": 0
      },
      "text/plain": [
       "  0%|          | 0/200 [00:00<?, ?it/s]"
      ]
     },
     "metadata": {},
     "output_type": "display_data"
    },
    {
     "name": "stdout",
     "output_type": "stream",
     "text": [
      "-0.021485065906558506 None\n",
      "-0.02296371545447011 None\n",
      "-0.02296383567084083 None\n",
      "Done!\n"
     ]
    }
   ],
   "source": [
    "np.random.seed(42)\n",
    "random.seed(42)\n",
    "tf.random.set_seed(42)\n",
    "\n",
    "distance_best, model_best = optimize_annulus_distance(spectrum_target = spectrum3, \n",
    "                                                      d = d, \n",
    "                                                      c_start = 0.18,\n",
    "                                                      rank_start = 40, \n",
    "                                                      rank_step = 1,\n",
    "                                                      num_iter = 200,\n",
    "                                                      lr=0.01,\n",
    "                                                      verbose=True)\n",
    "\n",
    "model_best.optimizer = None\n",
    "saver([distance_best, model_best], path2 + \"diluted_fitting_KL_4qubit_24layer.model\")"
   ]
  },
  {
   "cell_type": "code",
   "execution_count": 4,
   "metadata": {},
   "outputs": [
    {
     "data": {
      "application/vnd.jupyter.widget-view+json": {
       "model_id": "d0ff628f76e74437929447825222ef31",
       "version_major": 2,
       "version_minor": 0
      },
      "text/plain": [
       "  0%|          | 0/300 [00:00<?, ?it/s]"
      ]
     },
     "metadata": {},
     "output_type": "display_data"
    },
    {
     "name": "stdout",
     "output_type": "stream",
     "text": [
      "-0.0387515613375851 None\n",
      "-0.044158180869354566 None\n",
      "-0.04415835398119773 None\n",
      "-0.044158353987078056 None\n"
     ]
    },
    {
     "data": {
      "application/vnd.jupyter.widget-view+json": {
       "model_id": "522ac51299f343e7858f9170db59f63e",
       "version_major": 2,
       "version_minor": 0
      },
      "text/plain": [
       "  0%|          | 0/300 [00:00<?, ?it/s]"
      ]
     },
     "metadata": {},
     "output_type": "display_data"
    },
    {
     "name": "stdout",
     "output_type": "stream",
     "text": [
      "-0.039528217774079596 None\n",
      "-0.03959038252774055 None\n",
      "-0.03959038386479008 None\n",
      "-0.03959038386481625 None\n"
     ]
    },
    {
     "data": {
      "application/vnd.jupyter.widget-view+json": {
       "model_id": "2163cd15652e416e8dba2aad74fcd9a7",
       "version_major": 2,
       "version_minor": 0
      },
      "text/plain": [
       "  0%|          | 0/300 [00:00<?, ?it/s]"
      ]
     },
     "metadata": {},
     "output_type": "display_data"
    },
    {
     "name": "stdout",
     "output_type": "stream",
     "text": [
      "-0.045519727254834066 None\n",
      "-0.047226098402719796 None\n",
      "-0.04722614425412841 None\n",
      "-0.04722614425493875 None\n"
     ]
    },
    {
     "data": {
      "application/vnd.jupyter.widget-view+json": {
       "model_id": "c861ca0215864bd8a57a3126ebd5c94a",
       "version_major": 2,
       "version_minor": 0
      },
      "text/plain": [
       "  0%|          | 0/300 [00:00<?, ?it/s]"
      ]
     },
     "metadata": {},
     "output_type": "display_data"
    },
    {
     "name": "stdout",
     "output_type": "stream",
     "text": [
      "-0.039181588991877375 None\n",
      "-0.039238876424631544 None\n",
      "-0.0392388806275253 None\n",
      "-0.039238880627655875 None\n"
     ]
    },
    {
     "data": {
      "application/vnd.jupyter.widget-view+json": {
       "model_id": "6fd38c0b7c064c8da46000faddd386c3",
       "version_major": 2,
       "version_minor": 0
      },
      "text/plain": [
       "  0%|          | 0/300 [00:00<?, ?it/s]"
      ]
     },
     "metadata": {},
     "output_type": "display_data"
    },
    {
     "name": "stdout",
     "output_type": "stream",
     "text": [
      "-0.03617806085696132 None\n",
      "-0.03622800348135724 None\n",
      "-0.03622800463972817 None\n",
      "-0.03622800463982859 None\n",
      "Done!\n"
     ]
    }
   ],
   "source": [
    "np.random.seed(42)\n",
    "random.seed(42)\n",
    "tf.random.set_seed(42)\n",
    "\n",
    "distance_best, model_best = optimize_annulus_distance(spectrum_target = spectrum4, \n",
    "                                                      d = d,\n",
    "                                                      c_start = 0.10, \n",
    "                                                      rank_start = 100, \n",
    "                                                      rank_step = 1,\n",
    "                                                      num_iter = 300,\n",
    "                                                      lr=0.01,\n",
    "                                                      verbose=True)\n",
    "\n",
    "model_best.optimizer = None\n",
    "saver([distance_best, model_best], path2 + \"diluted_fitting_KL_4qubit_32layer.model\")"
   ]
  },
  {
   "cell_type": "code",
   "execution_count": 5,
   "metadata": {},
   "outputs": [
    {
     "data": {
      "application/vnd.jupyter.widget-view+json": {
       "model_id": "052540d0060341d98a4d287b50b42ba4",
       "version_major": 2,
       "version_minor": 0
      },
      "text/plain": [
       "  0%|          | 0/300 [00:00<?, ?it/s]"
      ]
     },
     "metadata": {},
     "output_type": "display_data"
    },
    {
     "name": "stdout",
     "output_type": "stream",
     "text": [
      "-0.004737941247782984 None\n",
      "-0.03787279979919901 None\n",
      "-0.0378798164529017 None\n",
      "-0.03787981649660596 None\n"
     ]
    },
    {
     "data": {
      "application/vnd.jupyter.widget-view+json": {
       "model_id": "386734f8e71f4cb9b97b9ed4d6de3edc",
       "version_major": 2,
       "version_minor": 0
      },
      "text/plain": [
       "  0%|          | 0/300 [00:00<?, ?it/s]"
      ]
     },
     "metadata": {},
     "output_type": "display_data"
    },
    {
     "name": "stdout",
     "output_type": "stream",
     "text": [
      "-0.03970895229089666 None\n",
      "-0.039711740827375566 None\n",
      "-0.0397117430677994 None\n",
      "-0.039711743067856534 None\n"
     ]
    },
    {
     "data": {
      "application/vnd.jupyter.widget-view+json": {
       "model_id": "2fcd77f4e3154f7681e1ec154eaf8c1c",
       "version_major": 2,
       "version_minor": 0
      },
      "text/plain": [
       "  0%|          | 0/300 [00:00<?, ?it/s]"
      ]
     },
     "metadata": {},
     "output_type": "display_data"
    },
    {
     "name": "stdout",
     "output_type": "stream",
     "text": [
      "-0.03541919551430274 None\n",
      "-0.03545701244014264 None\n",
      "-0.03545701322359257 None\n",
      "-0.03545701322362371 None\n"
     ]
    },
    {
     "data": {
      "application/vnd.jupyter.widget-view+json": {
       "model_id": "1f96294028e04c2b8b199c79b9c84c19",
       "version_major": 2,
       "version_minor": 0
      },
      "text/plain": [
       "  0%|          | 0/300 [00:00<?, ?it/s]"
      ]
     },
     "metadata": {},
     "output_type": "display_data"
    },
    {
     "name": "stdout",
     "output_type": "stream",
     "text": [
      "-0.03778877467933171 None\n",
      "-0.03797028674791407 None\n",
      "-0.037970298980582004 None\n",
      "-0.03797029898058932 None\n",
      "Done!\n"
     ]
    }
   ],
   "source": [
    "np.random.seed(42)\n",
    "random.seed(42)\n",
    "tf.random.set_seed(42)\n",
    "\n",
    "distance_best, model_best = optimize_annulus_distance(spectrum_target = spectrum5, \n",
    "                                                      d = d,\n",
    "                                                      c_start = 0.10, \n",
    "                                                      rank_start = 100, \n",
    "                                                      rank_step = 1,\n",
    "                                                      num_iter = 300,\n",
    "                                                      lr=0.01,\n",
    "                                                      verbose=True)\n",
    "\n",
    "model_best.optimizer = None\n",
    "saver([distance_best, model_best], path2 + \"diluted_fitting_KL_4qubit_40layer.model\")"
   ]
  },
  {
   "attachments": {},
   "cell_type": "markdown",
   "metadata": {},
   "source": [
    "## Four Qubits, Delay"
   ]
  },
  {
   "cell_type": "code",
   "execution_count": 18,
   "metadata": {},
   "outputs": [],
   "source": [
    "n = 4\n",
    "d = 2**n\n",
    "\n",
    "path1 = \"../../../data/\"\n",
    "path2 = \"data/\"\n",
    "\n",
    "[model1, model2, model3, model4, model5, model6, model7, model8, model9] = loader(path1 + \"belem_4qubit_delay.model\")\n",
    "\n",
    "spectrum1 = channel_spectrum(model1.channel, keep_unity=False)\n",
    "spectrum2 = channel_spectrum(model2.channel, keep_unity=False) \n",
    "spectrum3 = channel_spectrum(model4.channel, keep_unity=False)\n",
    "spectrum4 = channel_spectrum(model6.channel, keep_unity=False)"
   ]
  },
  {
   "cell_type": "code",
   "execution_count": 13,
   "metadata": {},
   "outputs": [
    {
     "name": "stdout",
     "output_type": "stream",
     "text": [
      "0.014205054440732518 None\n",
      "0.008845493580107968 None\n",
      "0.0041204841226500505 None\n",
      "0.005524199912069497 None\n",
      "0.005178203361651448 None\n",
      "0.005439743360235921 None\n",
      "0.005972243073423356 None\n",
      "0.008965927547632122 None\n",
      "Done!\n"
     ]
    }
   ],
   "source": [
    "distance_best, model_best = optimize_annulus_distance(spectrum_target = spectrum1, \n",
    "                                                      d = d,\n",
    "                                                      c_start = 0.4,\n",
    "                                                      rank_start = 6, \n",
    "                                                      rank_step = 1,\n",
    "                                                      num_iter = 100,\n",
    "                                                      lr=0.05,\n",
    "                                                      verbose=False)\n",
    "\n",
    "model_best.optimizer = None\n",
    "saver([distance_best, model_best], path2 + \"diluted_fitting_4qubit_0delay.model\")"
   ]
  },
  {
   "cell_type": "code",
   "execution_count": 15,
   "metadata": {},
   "outputs": [
    {
     "name": "stdout",
     "output_type": "stream",
     "text": [
      "0.01848348460790743 None\n",
      "0.014186931516701865 None\n",
      "0.009715298239793096 None\n",
      "0.007303294242447408 None\n",
      "0.005723892968955122 None\n",
      "0.004077427925329443 None\n",
      "0.0025232176524793357 None\n",
      "0.001863246488379957 None\n",
      "0.003712720919869558 None\n",
      "0.003806595261150243 None\n",
      "0.0063913662393518395 None\n",
      "0.006416087967554447 None\n",
      "0.009325553550093457 None\n",
      "Done!\n"
     ]
    }
   ],
   "source": [
    "distance_best, model_best = optimize_annulus_distance(spectrum_target = spectrum2, \n",
    "                                                      d = d,\n",
    "                                                      c_start = 0.3,\n",
    "                                                      rank_start = 10, \n",
    "                                                      rank_step = 1,\n",
    "                                                      num_iter = 100,\n",
    "                                                      lr=0.05,\n",
    "                                                      verbose=False)\n",
    "\n",
    "model_best.optimizer = None\n",
    "saver([distance_best, model_best], path2 + \"diluted_fitting_4qubit_5delay.model\")"
   ]
  },
  {
   "cell_type": "code",
   "execution_count": 16,
   "metadata": {},
   "outputs": [
    {
     "name": "stdout",
     "output_type": "stream",
     "text": [
      "0.009643465250119252 None\n",
      "0.010842895343623385 None\n",
      "0.012202345632732953 None\n",
      "0.011250103925621733 None\n",
      "0.011827404001205143 None\n",
      "0.01217502180153485 None\n",
      "Done!\n"
     ]
    }
   ],
   "source": [
    "np.random.seed(42)\n",
    "random.seed(42)\n",
    "tf.random.set_seed(42)\n",
    "\n",
    "distance_best, model_best = optimize_annulus_distance(spectrum_target = spectrum3, \n",
    "                                                      d = d, \n",
    "                                                      c_start = 0.18,\n",
    "                                                      rank_start = 45, \n",
    "                                                      rank_step = 1,\n",
    "                                                      num_iter = 100,\n",
    "                                                      lr=0.05,\n",
    "                                                      verbose=False)\n",
    "\n",
    "model_best.optimizer = None\n",
    "saver([distance_best, model_best], path2 + \"diluted_fitting_4qubit_10delay.model\")"
   ]
  },
  {
   "cell_type": "code",
   "execution_count": 19,
   "metadata": {},
   "outputs": [
    {
     "name": "stdout",
     "output_type": "stream",
     "text": [
      "0.012446957367763904 None\n",
      "0.012270846412483716 None\n",
      "0.01264303974927565 None\n",
      "0.012950804567063212 None\n",
      "0.012072362215487242 None\n",
      "0.013101705753887218 None\n",
      "0.013578943158130453 None\n",
      "0.013536197943886753 None\n",
      "Done!\n"
     ]
    }
   ],
   "source": [
    "np.random.seed(42)\n",
    "random.seed(42)\n",
    "tf.random.set_seed(42)\n",
    "\n",
    "distance_best, model_best = optimize_annulus_distance(spectrum_target = spectrum4, \n",
    "                                                      d = d,\n",
    "                                                      c_start = 0.12, \n",
    "                                                      rank_start = 65, \n",
    "                                                      rank_step = 1,\n",
    "                                                      num_iter = 100,\n",
    "                                                      lr=0.05,\n",
    "                                                      verbose=False)\n",
    "\n",
    "model_best.optimizer = None\n",
    "saver([distance_best, model_best], path2 + \"diluted_fitting_4qubit_12_5delay.model\")"
   ]
  }
 ],
 "metadata": {
  "kernelspec": {
   "display_name": "env_qiskit",
   "language": "python",
   "name": "env_qiskit"
  },
  "language_info": {
   "codemirror_mode": {
    "name": "ipython",
    "version": 3
   },
   "file_extension": ".py",
   "mimetype": "text/x-python",
   "name": "python",
   "nbconvert_exporter": "python",
   "pygments_lexer": "ipython3",
   "version": "3.10.4"
  }
 },
 "nbformat": 4,
 "nbformat_minor": 4
}
