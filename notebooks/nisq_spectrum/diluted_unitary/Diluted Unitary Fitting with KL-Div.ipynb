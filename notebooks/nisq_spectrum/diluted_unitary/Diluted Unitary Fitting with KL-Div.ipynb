{
 "cells": [
  {
   "attachments": {},
   "cell_type": "markdown",
   "metadata": {},
   "source": [
    "# Diluted Unitary Fitting with KL-Div"
   ]
  },
  {
   "cell_type": "code",
   "execution_count": 1,
   "metadata": {},
   "outputs": [],
   "source": [
    "import sys\n",
    "sys.path.insert(0, '../../../src_tf/')\n",
    "\n",
    "import numpy as np\n",
    "import tensorflow as tf\n",
    "import random\n",
    "import matplotlib.pyplot as plt\n",
    "\n",
    "from tqdm.notebook import tqdm\n",
    "\n",
    "from quantum_tools import generate_unitary\n",
    "from quantum_channel import channel_spectrum\n",
    "from loss_functions import ProbabilityMSE, channel_fidelity_loss, SpectrumDistance\n",
    "from optimization import ModelQuantumMap, Logger\n",
    "from kraus_channels import KrausMap, DilutedKrausMap\n",
    "from lindblad_channels import CompactLindbladMap\n",
    "from spam import InitialState, POVM, SPAM, CorruptionMatrix\n",
    "from utils import saver\n",
    "from synthetic_data import generate_spam_data, generate_spam_benchmark, generate_map_data\n",
    "from spectrum import mean_spacing\n",
    "from utils import loader\n",
    "\n",
    "#np.set_printoptions(threshold=sys.maxsize)\n",
    "np.set_printoptions(precision=4)\n",
    "\n",
    "import os\n",
    "os.environ[\"CUDA_VISIBLE_DEVICES\"] = \"-1\""
   ]
  },
  {
   "cell_type": "code",
   "execution_count": 2,
   "metadata": {},
   "outputs": [],
   "source": [
    "def optimize_annulus_distance(spectrum_target = None, \n",
    "                              d = None, \n",
    "                              c_start = 0.5,\n",
    "                              rank_start = 1,\n",
    "                              rank_step = 1,\n",
    "                              num_iter = 1000,\n",
    "                              lr = 0.001,\n",
    "                              verbose = True): \n",
    "    \n",
    "    model_list = []\n",
    "    distance_list = []\n",
    "    counter = 0\n",
    "\n",
    "    sigma = mean_spacing(spectrum_target)\n",
    "    \n",
    "    for rank in range(rank_start, d**2+rank_step, rank_step): \n",
    "        model = ModelQuantumMap(channel = DilutedKrausMap(U=generate_unitary(d), \n",
    "                                                          c=c_start, \n",
    "                                                          kraus_part=KrausMap(d, \n",
    "                                                                              rank=rank, \n",
    "                                                                              trainable=False),\n",
    "                                                     ),\n",
    "                            loss_function = SpectrumDistance(sigma=sigma, k = None, remove_shift=True),\n",
    "                            optimizer = tf.optimizers.Adam(learning_rate=lr),\n",
    "                            logger = Logger(loss_function = SpectrumDistance(sigma=sigma, k = None), \n",
    "                                            verbose=verbose,\n",
    "                                            N=0),\n",
    "                            )\n",
    "        model.train(inputs = None,\n",
    "                    targets = [spectrum_target],\n",
    "                    num_iter = num_iter,\n",
    "                    verbose = verbose,\n",
    "                   )\n",
    "\n",
    "        c_start = model.channel.c.numpy()\n",
    "        model_list.append(model)\n",
    "        distance_list.append(model.logger.loss_train_list[-1])\n",
    "        \n",
    "        idx = np.argmin(distance_list)\n",
    "        if distance_list[-1] > distance_list[idx]:\n",
    "            counter += 1\n",
    "        else:\n",
    "            counter = 0\n",
    "            \n",
    "        if counter > 1:\n",
    "            print(\"Done!\")\n",
    "            break\n",
    "\n",
    "    distance_best = distance_list[idx]\n",
    "    model_best = model_list[idx]\n",
    "\n",
    "    return distance_best, model_best\n",
    "\n",
    "def fit_diluted_unitary(spectrum_target_list, \n",
    "                        d, \n",
    "                        rank_start, \n",
    "                        rank_step, \n",
    "                        num_iter = 1000,\n",
    "                        lr = 0.001):\n",
    "    \n",
    "    distance_best_list = []\n",
    "    model_best_list = []\n",
    "    for spectrum_target in tqdm(spectrum_target_list):\n",
    "        distance_best, model_best = optimize_annulus_distance(spectrum_target,\n",
    "                                                              d,\n",
    "                                                              rank_start,\n",
    "                                                              rank_step,\n",
    "                                                              num_iter = num_iter,\n",
    "                                                              lr = lr)\n",
    "        distance_best_list.append(distance_best)\n",
    "        model_best_list.append(model_best)\n",
    "    \n",
    "    for model in model_best_list:\n",
    "        model.optimizer = None\n",
    "        \n",
    "    return distance_best_list, model_best_list"
   ]
  },
  {
   "attachments": {},
   "cell_type": "markdown",
   "metadata": {},
   "source": [
    "## Four Qubits, Repetition"
   ]
  },
  {
   "cell_type": "code",
   "execution_count": 3,
   "metadata": {},
   "outputs": [],
   "source": [
    "n = 4\n",
    "d = 2**n\n",
    "\n",
    "path1 = \"../../../data/\"\n",
    "path2 = \"data/\"\n",
    "\n",
    "[model1, model2, model3, model4, model5] = loader(path1 + \"belem_4qubit_repeated.model\")\n",
    "\n",
    "spectrum1 = channel_spectrum(model1.channel, keep_unity=False)\n",
    "spectrum2 = channel_spectrum(model2.channel, keep_unity=False) \n",
    "spectrum3 = channel_spectrum(model3.channel, keep_unity=False)\n",
    "spectrum4 = channel_spectrum(model4.channel, keep_unity=False)"
   ]
  },
  {
   "cell_type": "code",
   "execution_count": 5,
   "metadata": {
    "scrolled": true
   },
   "outputs": [
    {
     "data": {
      "application/vnd.jupyter.widget-view+json": {
       "model_id": "4910251c87ec45fcadcb419c1d82892b",
       "version_major": 2,
       "version_minor": 0
      },
      "text/plain": [
       "  0%|          | 0/200 [00:00<?, ?it/s]"
      ]
     },
     "metadata": {},
     "output_type": "display_data"
    },
    {
     "name": "stdout",
     "output_type": "stream",
     "text": [
      "0.020706850118542272 None\n",
      "-0.015935838617283864 None\n",
      "-0.015935960828195907 None\n"
     ]
    },
    {
     "data": {
      "application/vnd.jupyter.widget-view+json": {
       "model_id": "2b69614c17234cefb94639ad84fb87e0",
       "version_major": 2,
       "version_minor": 0
      },
      "text/plain": [
       "  0%|          | 0/200 [00:00<?, ?it/s]"
      ]
     },
     "metadata": {},
     "output_type": "display_data"
    },
    {
     "name": "stdout",
     "output_type": "stream",
     "text": [
      "-0.016271402929545875 None\n",
      "-0.018831352074741632 None\n",
      "-0.01883140882204054 None\n"
     ]
    },
    {
     "data": {
      "application/vnd.jupyter.widget-view+json": {
       "model_id": "b7768d6a7ae14ef5baeb68375e969d26",
       "version_major": 2,
       "version_minor": 0
      },
      "text/plain": [
       "  0%|          | 0/200 [00:00<?, ?it/s]"
      ]
     },
     "metadata": {},
     "output_type": "display_data"
    },
    {
     "name": "stdout",
     "output_type": "stream",
     "text": [
      "-0.018953563558269423 None\n",
      "-0.019133346956762234 None\n",
      "-0.019133351017718146 None\n"
     ]
    },
    {
     "data": {
      "application/vnd.jupyter.widget-view+json": {
       "model_id": "607a645b1b9943f798f850b87e81634a",
       "version_major": 2,
       "version_minor": 0
      },
      "text/plain": [
       "  0%|          | 0/200 [00:00<?, ?it/s]"
      ]
     },
     "metadata": {},
     "output_type": "display_data"
    },
    {
     "name": "stdout",
     "output_type": "stream",
     "text": [
      "-0.023155704393221045 None\n",
      "-0.023180141394803636 None\n",
      "-0.023180143418887002 None\n"
     ]
    },
    {
     "data": {
      "application/vnd.jupyter.widget-view+json": {
       "model_id": "2dfcbb17e49d47fba29a7504195be6cc",
       "version_major": 2,
       "version_minor": 0
      },
      "text/plain": [
       "  0%|          | 0/200 [00:00<?, ?it/s]"
      ]
     },
     "metadata": {},
     "output_type": "display_data"
    },
    {
     "name": "stdout",
     "output_type": "stream",
     "text": [
      "-0.021891425091240695 None\n",
      "-0.021989046962398708 None\n",
      "-0.021989049226293328 None\n"
     ]
    },
    {
     "data": {
      "application/vnd.jupyter.widget-view+json": {
       "model_id": "cb7916efa76d46fe8cb0bb0fbf078c68",
       "version_major": 2,
       "version_minor": 0
      },
      "text/plain": [
       "  0%|          | 0/200 [00:00<?, ?it/s]"
      ]
     },
     "metadata": {},
     "output_type": "display_data"
    },
    {
     "name": "stdout",
     "output_type": "stream",
     "text": [
      "-0.019215331997178786 None\n",
      "-0.01924885362598449 None\n",
      "-0.019248855122972912 None\n",
      "Done!\n"
     ]
    }
   ],
   "source": [
    "distance_best, model_best = optimize_annulus_distance(spectrum_target = spectrum1, \n",
    "                                                      d = d,\n",
    "                                                      c_start = 0.5,\n",
    "                                                      rank_start = 6, \n",
    "                                                      rank_step = 1,\n",
    "                                                      num_iter = 200,\n",
    "                                                      lr=0.01,\n",
    "                                                      verbose=True)\n",
    "\n",
    "model_best.optimizer = None\n",
    "saver([distance_best, model_best], path2 + \"diluted_fitting_KL_4qubit_8layer.model\")"
   ]
  },
  {
   "cell_type": "code",
   "execution_count": 15,
   "metadata": {},
   "outputs": [
    {
     "data": {
      "application/vnd.jupyter.widget-view+json": {
       "model_id": "c93bddcc73a04fb28abf1c88a6d91f78",
       "version_major": 2,
       "version_minor": 0
      },
      "text/plain": [
       "  0%|          | 0/200 [00:00<?, ?it/s]"
      ]
     },
     "metadata": {},
     "output_type": "display_data"
    },
    {
     "name": "stdout",
     "output_type": "stream",
     "text": [
      "-0.08621400256079964 None\n",
      "-0.4973633470635136 None\n",
      "-0.5004010019311933 None\n"
     ]
    },
    {
     "data": {
      "application/vnd.jupyter.widget-view+json": {
       "model_id": "b883d313b52d4679aa41264736988aba",
       "version_major": 2,
       "version_minor": 0
      },
      "text/plain": [
       "  0%|          | 0/200 [00:00<?, ?it/s]"
      ]
     },
     "metadata": {},
     "output_type": "display_data"
    },
    {
     "name": "stdout",
     "output_type": "stream",
     "text": [
      "-0.501572482120854 None\n",
      "-0.5015857457281238 None\n",
      "-0.5015857461959112 None\n"
     ]
    },
    {
     "data": {
      "application/vnd.jupyter.widget-view+json": {
       "model_id": "b9c78350a0c243869bbe9708cf730027",
       "version_major": 2,
       "version_minor": 0
      },
      "text/plain": [
       "  0%|          | 0/200 [00:00<?, ?it/s]"
      ]
     },
     "metadata": {},
     "output_type": "display_data"
    },
    {
     "name": "stdout",
     "output_type": "stream",
     "text": [
      "-0.5018338258868613 None\n",
      "-0.5018882001878845 None\n",
      "-0.5018882005713154 None\n"
     ]
    },
    {
     "data": {
      "application/vnd.jupyter.widget-view+json": {
       "model_id": "b98fcbee27734936b7f5e717b01211af",
       "version_major": 2,
       "version_minor": 0
      },
      "text/plain": [
       "  0%|          | 0/200 [00:00<?, ?it/s]"
      ]
     },
     "metadata": {},
     "output_type": "display_data"
    },
    {
     "name": "stdout",
     "output_type": "stream",
     "text": [
      "-0.5023646123463532 None\n",
      "-0.5024301014026555 None\n",
      "-0.5024301030931404 None\n"
     ]
    },
    {
     "data": {
      "application/vnd.jupyter.widget-view+json": {
       "model_id": "a8df9b8cecdf455ba5637ec3d41e7325",
       "version_major": 2,
       "version_minor": 0
      },
      "text/plain": [
       "  0%|          | 0/200 [00:00<?, ?it/s]"
      ]
     },
     "metadata": {},
     "output_type": "display_data"
    },
    {
     "name": "stdout",
     "output_type": "stream",
     "text": [
      "-0.5027291492466159 None\n",
      "-0.502778720101094 None\n",
      "-0.5027787211111874 None\n"
     ]
    },
    {
     "data": {
      "application/vnd.jupyter.widget-view+json": {
       "model_id": "a66c82f55a7b4f0696806efe85c74c97",
       "version_major": 2,
       "version_minor": 0
      },
      "text/plain": [
       "  0%|          | 0/200 [00:00<?, ?it/s]"
      ]
     },
     "metadata": {},
     "output_type": "display_data"
    },
    {
     "name": "stdout",
     "output_type": "stream",
     "text": [
      "-0.5029682265680836 None\n",
      "-0.502969170134029 None\n",
      "-0.502969171390798 None\n"
     ]
    },
    {
     "data": {
      "application/vnd.jupyter.widget-view+json": {
       "model_id": "b3f61ad52bee4e769757a2ca9744859f",
       "version_major": 2,
       "version_minor": 0
      },
      "text/plain": [
       "  0%|          | 0/200 [00:00<?, ?it/s]"
      ]
     },
     "metadata": {},
     "output_type": "display_data"
    },
    {
     "name": "stdout",
     "output_type": "stream",
     "text": [
      "-0.5029143702838879 None\n",
      "-0.5029611422282005 None\n",
      "-0.5029611422598933 None\n"
     ]
    },
    {
     "data": {
      "application/vnd.jupyter.widget-view+json": {
       "model_id": "5ba2439ee7174ebd8fdc820ff0e749f5",
       "version_major": 2,
       "version_minor": 0
      },
      "text/plain": [
       "  0%|          | 0/200 [00:00<?, ?it/s]"
      ]
     },
     "metadata": {},
     "output_type": "display_data"
    },
    {
     "name": "stdout",
     "output_type": "stream",
     "text": [
      "-0.5031105847235824 None\n",
      "-0.5031479416658042 None\n",
      "-0.5031479422543614 None\n"
     ]
    },
    {
     "data": {
      "application/vnd.jupyter.widget-view+json": {
       "model_id": "fe38cb398b714f4590c1bb4f24598c18",
       "version_major": 2,
       "version_minor": 0
      },
      "text/plain": [
       "  0%|          | 0/200 [00:00<?, ?it/s]"
      ]
     },
     "metadata": {},
     "output_type": "display_data"
    },
    {
     "name": "stdout",
     "output_type": "stream",
     "text": [
      "-0.5031268514103484 None\n",
      "-0.5031536656865506 None\n",
      "-0.5031536663457453 None\n"
     ]
    },
    {
     "data": {
      "application/vnd.jupyter.widget-view+json": {
       "model_id": "d8a247aab26c435c944459e5d9e58454",
       "version_major": 2,
       "version_minor": 0
      },
      "text/plain": [
       "  0%|          | 0/200 [00:00<?, ?it/s]"
      ]
     },
     "metadata": {},
     "output_type": "display_data"
    },
    {
     "name": "stdout",
     "output_type": "stream",
     "text": [
      "-0.5031754013005294 None\n",
      "-0.5032273035081171 None\n",
      "-0.5032273046653729 None\n"
     ]
    },
    {
     "data": {
      "application/vnd.jupyter.widget-view+json": {
       "model_id": "57e5e4e399f34eb6ab3b86cefa36ef37",
       "version_major": 2,
       "version_minor": 0
      },
      "text/plain": [
       "  0%|          | 0/200 [00:00<?, ?it/s]"
      ]
     },
     "metadata": {},
     "output_type": "display_data"
    },
    {
     "name": "stdout",
     "output_type": "stream",
     "text": [
      "-0.503152822606019 None\n",
      "-0.503183076601281 None\n",
      "-0.503183076890922 None\n"
     ]
    },
    {
     "data": {
      "application/vnd.jupyter.widget-view+json": {
       "model_id": "1b907bfa0b4245228882227889f35a13",
       "version_major": 2,
       "version_minor": 0
      },
      "text/plain": [
       "  0%|          | 0/200 [00:00<?, ?it/s]"
      ]
     },
     "metadata": {},
     "output_type": "display_data"
    },
    {
     "name": "stdout",
     "output_type": "stream",
     "text": [
      "-0.5030958346895338 None\n",
      "-0.5031350878790081 None\n",
      "-0.5031350880229138 None\n",
      "Done!\n"
     ]
    }
   ],
   "source": [
    "distance_best, model_best = optimize_annulus_distance(spectrum_target = spectrum2, \n",
    "                                                      d = d,\n",
    "                                                      c_start = 0.5,\n",
    "                                                      rank_start = 9, \n",
    "                                                      rank_step = 1,\n",
    "                                                      num_iter = 200,\n",
    "                                                      lr=0.01)\n",
    "\n",
    "model_best.optimizer = None\n",
    "saver([distance_best, model_best], path2 + \"diluted_fitting_KL_4qubit_16layer.model\")"
   ]
  },
  {
   "cell_type": "code",
   "execution_count": 5,
   "metadata": {},
   "outputs": [
    {
     "name": "stdout",
     "output_type": "stream",
     "text": [
      "Done!\n"
     ]
    }
   ],
   "source": [
    "np.random.seed(42)\n",
    "random.seed(42)\n",
    "tf.random.set_seed(42)\n",
    "\n",
    "distance_best, model_best = optimize_annulus_distance(spectrum_target = spectrum3, \n",
    "                                                      d = d, \n",
    "                                                      c_start = 0.18,\n",
    "                                                      rank_start = 45, \n",
    "                                                      rank_step = 1,\n",
    "                                                      num_iter = 100,\n",
    "                                                      lr=0.05,\n",
    "                                                      verbose=False)\n",
    "\n",
    "model_best.optimizer = None\n",
    "saver([distance_best, model_best], path2 + \"diluted_fitting_4qubit_24layer.model\")"
   ]
  },
  {
   "cell_type": "code",
   "execution_count": 6,
   "metadata": {},
   "outputs": [
    {
     "data": {
      "application/vnd.jupyter.widget-view+json": {
       "model_id": "0f7caa54b555474db0b78f471ebeee10",
       "version_major": 2,
       "version_minor": 0
      },
      "text/plain": [
       "  0%|          | 0/200 [00:00<?, ?it/s]"
      ]
     },
     "metadata": {},
     "output_type": "display_data"
    },
    {
     "name": "stdout",
     "output_type": "stream",
     "text": [
      "-0.01714612348200053 None\n",
      "-0.029903951525293335 None\n",
      "-0.029904290731283506 None\n"
     ]
    },
    {
     "data": {
      "application/vnd.jupyter.widget-view+json": {
       "model_id": "3fe371892c62438f8671c395aa9320b9",
       "version_major": 2,
       "version_minor": 0
      },
      "text/plain": [
       "  0%|          | 0/200 [00:00<?, ?it/s]"
      ]
     },
     "metadata": {},
     "output_type": "display_data"
    },
    {
     "name": "stdout",
     "output_type": "stream",
     "text": [
      "-0.030258275837993745 None\n",
      "-0.03068366825464161 None\n",
      "-0.030683676586882785 None\n"
     ]
    },
    {
     "data": {
      "application/vnd.jupyter.widget-view+json": {
       "model_id": "81112371837c4c86ad44d342eda6269e",
       "version_major": 2,
       "version_minor": 0
      },
      "text/plain": [
       "  0%|          | 0/200 [00:00<?, ?it/s]"
      ]
     },
     "metadata": {},
     "output_type": "display_data"
    },
    {
     "name": "stdout",
     "output_type": "stream",
     "text": [
      "-0.029023666227561362 None\n",
      "-0.0293833410789648 None\n",
      "-0.02938334452174518 None\n"
     ]
    },
    {
     "data": {
      "application/vnd.jupyter.widget-view+json": {
       "model_id": "5b1a75a9b67a4c4aac5a4f713f0e4b71",
       "version_major": 2,
       "version_minor": 0
      },
      "text/plain": [
       "  0%|          | 0/200 [00:00<?, ?it/s]"
      ]
     },
     "metadata": {},
     "output_type": "display_data"
    },
    {
     "name": "stdout",
     "output_type": "stream",
     "text": [
      "-0.03512187649144033 None\n",
      "-0.03587942386085753 None\n",
      "-0.035879439686292244 None\n"
     ]
    },
    {
     "data": {
      "application/vnd.jupyter.widget-view+json": {
       "model_id": "89013f18193145cc91a1a34fd11a3e3f",
       "version_major": 2,
       "version_minor": 0
      },
      "text/plain": [
       "  0%|          | 0/200 [00:00<?, ?it/s]"
      ]
     },
     "metadata": {},
     "output_type": "display_data"
    },
    {
     "name": "stdout",
     "output_type": "stream",
     "text": [
      "-0.029742881445571898 None\n",
      "-0.029894725503232203 None\n",
      "-0.029894728277279348 None\n"
     ]
    },
    {
     "data": {
      "application/vnd.jupyter.widget-view+json": {
       "model_id": "88cdc8bac6754e959bebe733d82b2033",
       "version_major": 2,
       "version_minor": 0
      },
      "text/plain": [
       "  0%|          | 0/200 [00:00<?, ?it/s]"
      ]
     },
     "metadata": {},
     "output_type": "display_data"
    },
    {
     "name": "stdout",
     "output_type": "stream",
     "text": [
      "-0.033977731422910426 None\n",
      "-0.03397999195986155 None\n",
      "-0.03397999196086436 None\n",
      "Done!\n"
     ]
    }
   ],
   "source": [
    "np.random.seed(42)\n",
    "random.seed(42)\n",
    "tf.random.set_seed(42)\n",
    "\n",
    "distance_best, model_best = optimize_annulus_distance(spectrum_target = spectrum4, \n",
    "                                                      d = d,\n",
    "                                                      c_start = 0.12, \n",
    "                                                      rank_start = 65, \n",
    "                                                      rank_step = 1,\n",
    "                                                      num_iter = 200,\n",
    "                                                      lr=0.01,\n",
    "                                                      verbose=True)\n",
    "\n",
    "model_best.optimizer = None\n",
    "saver([distance_best, model_best], path2 + \"diluted_fitting_KL_4qubit_32layer.model\")"
   ]
  },
  {
   "attachments": {},
   "cell_type": "markdown",
   "metadata": {},
   "source": [
    "## Four Qubits, Delay"
   ]
  },
  {
   "cell_type": "code",
   "execution_count": 18,
   "metadata": {},
   "outputs": [],
   "source": [
    "n = 4\n",
    "d = 2**n\n",
    "\n",
    "path1 = \"../../../data/\"\n",
    "path2 = \"data/\"\n",
    "\n",
    "[model1, model2, model3, model4, model5, model6, model7, model8, model9] = loader(path1 + \"belem_4qubit_delay.model\")\n",
    "\n",
    "spectrum1 = channel_spectrum(model1.channel, keep_unity=False)\n",
    "spectrum2 = channel_spectrum(model2.channel, keep_unity=False) \n",
    "spectrum3 = channel_spectrum(model4.channel, keep_unity=False)\n",
    "spectrum4 = channel_spectrum(model6.channel, keep_unity=False)"
   ]
  },
  {
   "cell_type": "code",
   "execution_count": 13,
   "metadata": {},
   "outputs": [
    {
     "name": "stdout",
     "output_type": "stream",
     "text": [
      "0.014205054440732518 None\n",
      "0.008845493580107968 None\n",
      "0.0041204841226500505 None\n",
      "0.005524199912069497 None\n",
      "0.005178203361651448 None\n",
      "0.005439743360235921 None\n",
      "0.005972243073423356 None\n",
      "0.008965927547632122 None\n",
      "Done!\n"
     ]
    }
   ],
   "source": [
    "distance_best, model_best = optimize_annulus_distance(spectrum_target = spectrum1, \n",
    "                                                      d = d,\n",
    "                                                      c_start = 0.4,\n",
    "                                                      rank_start = 6, \n",
    "                                                      rank_step = 1,\n",
    "                                                      num_iter = 100,\n",
    "                                                      lr=0.05,\n",
    "                                                      verbose=False)\n",
    "\n",
    "model_best.optimizer = None\n",
    "saver([distance_best, model_best], path2 + \"diluted_fitting_4qubit_0delay.model\")"
   ]
  },
  {
   "cell_type": "code",
   "execution_count": 15,
   "metadata": {},
   "outputs": [
    {
     "name": "stdout",
     "output_type": "stream",
     "text": [
      "0.01848348460790743 None\n",
      "0.014186931516701865 None\n",
      "0.009715298239793096 None\n",
      "0.007303294242447408 None\n",
      "0.005723892968955122 None\n",
      "0.004077427925329443 None\n",
      "0.0025232176524793357 None\n",
      "0.001863246488379957 None\n",
      "0.003712720919869558 None\n",
      "0.003806595261150243 None\n",
      "0.0063913662393518395 None\n",
      "0.006416087967554447 None\n",
      "0.009325553550093457 None\n",
      "Done!\n"
     ]
    }
   ],
   "source": [
    "distance_best, model_best = optimize_annulus_distance(spectrum_target = spectrum2, \n",
    "                                                      d = d,\n",
    "                                                      c_start = 0.3,\n",
    "                                                      rank_start = 10, \n",
    "                                                      rank_step = 1,\n",
    "                                                      num_iter = 100,\n",
    "                                                      lr=0.05,\n",
    "                                                      verbose=False)\n",
    "\n",
    "model_best.optimizer = None\n",
    "saver([distance_best, model_best], path2 + \"diluted_fitting_4qubit_5delay.model\")"
   ]
  },
  {
   "cell_type": "code",
   "execution_count": 16,
   "metadata": {},
   "outputs": [
    {
     "name": "stdout",
     "output_type": "stream",
     "text": [
      "0.009643465250119252 None\n",
      "0.010842895343623385 None\n",
      "0.012202345632732953 None\n",
      "0.011250103925621733 None\n",
      "0.011827404001205143 None\n",
      "0.01217502180153485 None\n",
      "Done!\n"
     ]
    }
   ],
   "source": [
    "np.random.seed(42)\n",
    "random.seed(42)\n",
    "tf.random.set_seed(42)\n",
    "\n",
    "distance_best, model_best = optimize_annulus_distance(spectrum_target = spectrum3, \n",
    "                                                      d = d, \n",
    "                                                      c_start = 0.18,\n",
    "                                                      rank_start = 45, \n",
    "                                                      rank_step = 1,\n",
    "                                                      num_iter = 100,\n",
    "                                                      lr=0.05,\n",
    "                                                      verbose=False)\n",
    "\n",
    "model_best.optimizer = None\n",
    "saver([distance_best, model_best], path2 + \"diluted_fitting_4qubit_10delay.model\")"
   ]
  },
  {
   "cell_type": "code",
   "execution_count": 19,
   "metadata": {},
   "outputs": [
    {
     "name": "stdout",
     "output_type": "stream",
     "text": [
      "0.012446957367763904 None\n",
      "0.012270846412483716 None\n",
      "0.01264303974927565 None\n",
      "0.012950804567063212 None\n",
      "0.012072362215487242 None\n",
      "0.013101705753887218 None\n",
      "0.013578943158130453 None\n",
      "0.013536197943886753 None\n",
      "Done!\n"
     ]
    }
   ],
   "source": [
    "np.random.seed(42)\n",
    "random.seed(42)\n",
    "tf.random.set_seed(42)\n",
    "\n",
    "distance_best, model_best = optimize_annulus_distance(spectrum_target = spectrum4, \n",
    "                                                      d = d,\n",
    "                                                      c_start = 0.12, \n",
    "                                                      rank_start = 65, \n",
    "                                                      rank_step = 1,\n",
    "                                                      num_iter = 100,\n",
    "                                                      lr=0.05,\n",
    "                                                      verbose=False)\n",
    "\n",
    "model_best.optimizer = None\n",
    "saver([distance_best, model_best], path2 + \"diluted_fitting_4qubit_12_5delay.model\")"
   ]
  }
 ],
 "metadata": {
  "kernelspec": {
   "display_name": "env_qiskit",
   "language": "python",
   "name": "python3"
  },
  "language_info": {
   "codemirror_mode": {
    "name": "ipython",
    "version": 3
   },
   "file_extension": ".py",
   "mimetype": "text/x-python",
   "name": "python",
   "nbconvert_exporter": "python",
   "pygments_lexer": "ipython3",
   "version": "3.10.4"
  }
 },
 "nbformat": 4,
 "nbformat_minor": 4
}
