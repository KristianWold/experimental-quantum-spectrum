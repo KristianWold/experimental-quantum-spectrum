{
 "cells": [
  {
   "attachments": {},
   "cell_type": "markdown",
   "metadata": {},
   "source": [
    "# Data Book Keeping"
   ]
  },
  {
   "cell_type": "code",
   "execution_count": 1,
   "metadata": {},
   "outputs": [],
   "source": [
    "import sys\n",
    "sys.path.insert(0, '../../../src_tf/')\n",
    "\n",
    "import numpy as np\n",
    "import qiskit as qk\n",
    "import matplotlib.pyplot as plt\n",
    "import multiprocessing as mp\n",
    "import random\n",
    "import pickle\n",
    "\n",
    "from qiskit.quantum_info import DensityMatrix, random_unitary\n",
    "from qiskit.quantum_info import Operator\n",
    "from scipy.linalg import sqrtm\n",
    "from tqdm.notebook import tqdm\n",
    "from math import ceil\n",
    "\n",
    "from loss_functions import *\n",
    "from optimization import *\n",
    "from quantum_channel import *\n",
    "from kraus_channels import *\n",
    "from quantum_tools import *\n",
    "from experimental import *\n",
    "from spam import *\n",
    "from scipy.stats import gaussian_kde\n",
    "from quantum_circuits import *\n",
    "from analysis import *\n",
    "from utils import *\n",
    "\n",
    "#np.set_printoptions(threshold=sys.maxsize)\n",
    "np.set_printoptions(precision=4)\n",
    "\n",
    "import os\n",
    "os.environ[\"CUDA_VISIBLE_DEVICES\"] = \"-1\""
   ]
  },
  {
   "attachments": {},
   "cell_type": "markdown",
   "metadata": {},
   "source": [
    "## Four Qubits"
   ]
  },
  {
   "cell_type": "code",
   "execution_count": 2,
   "metadata": {},
   "outputs": [],
   "source": [
    "n = 4\n",
    "d = 2**n\n",
    "\n",
    "path1 = \"../../../data/\"\n",
    "path2 = \"data/\"\n",
    "\n",
    "[model1, model2, model3, model4, model5] = loader(path1 + \"belem_4qubit_repeated.model\")\n",
    "\n",
    "spectrum1 = channel_spectrum(model1.channel, keep_unity=False)\n",
    "spectrum2 = channel_spectrum(model2.channel, keep_unity=False) \n",
    "spectrum3 = channel_spectrum(model3.channel, keep_unity=False)\n",
    "spectrum4 = channel_spectrum(model4.channel, keep_unity=False)\n",
    "spectrum5 = channel_spectrum(model5.channel, keep_unity=False)\n",
    "\n",
    "\n",
    "[distance1, diluted1] = loader(path2 + \"diluted_fitting_KL_4qubit_8layer.model\")\n",
    "\n",
    "[distance2, diluted2] = loader(path2 + \"diluted_fitting_KL_4qubit_16layer.model\")\n",
    "\n",
    "[distance3, diluted3] = loader(path2 + \"diluted_fitting_KL_4qubit_24layer.model\")\n",
    "\n",
    "[distance4, diluted4] = loader(path2 + \"diluted_fitting_KL_4qubit_32layer.model\")\n",
    "\n",
    "layers_list = [8, 16, 24, 32]\n",
    "\n",
    "rank_list = []\n",
    "rank_list.append(diluted1.channel.rank)\n",
    "rank_list.append(diluted2.channel.rank)\n",
    "rank_list.append(diluted3.channel.rank)\n",
    "rank_list.append(diluted4.channel.rank)\n",
    "\n",
    "p_list = []\n",
    "p_list.append(1- diluted1.channel.c)\n",
    "p_list.append(1- diluted2.channel.c)\n",
    "p_list.append(1- diluted3.channel.c)\n",
    "p_list.append(1- diluted4.channel.c)\n",
    "\n",
    "#save the data to a txt, with header \"layers, rank, p\"\n",
    "with open(path2 + \"diluted_fitting_KL_4qubit.txt\", \"w\") as f:\n",
    "    f.write(\"layers, rank, p\\n\")\n",
    "    for i in range(len(layers_list)):\n",
    "        f.write(\"{}, {}, {}\\n\".format(layers_list[i], rank_list[i], p_list[i]))\n",
    "\n",
    "#save the spectral eigenvalues to a txt\n",
    "#with open(path2 + \"variational_spectrum_8layers.txt\", \"w\") as f:\n",
    "#    for eig in spectrum1:\n",
    "#        f.write(\"{}, {}\\n\".format(np.real(eig[0]), np.real(eig[1])))\n",
    "\n",
    "#with open(path2 + \"variational_spectrum_16layers.txt\", \"w\") as f:\n",
    "#    for eig in spectrum2:\n",
    "#        f.write(\"{}, {}\\n\".format(np.real(eig[0]), np.real(eig[1])))\n",
    "\n",
    "#with open(path2 + \"variational_spectrum_24layers.txt\", \"w\") as f:\n",
    "#    for eig in spectrum3:\n",
    "#        f.write(\"{}, {}\\n\".format(np.real(eig[0]), np.real(eig[1])))\n",
    "\n",
    "#with open(path2 + \"variational_spectrum_32layers.txt\", \"w\") as f:\n",
    "#    for eig in spectrum4:\n",
    "#        f.write(\"{}, {}\\n\".format(np.real(eig[0]), np.real(eig[1])))"
   ]
  }
 ],
 "metadata": {
  "kernelspec": {
   "display_name": "env_qiskit",
   "language": "python",
   "name": "python3"
  },
  "language_info": {
   "codemirror_mode": {
    "name": "ipython",
    "version": 3
   },
   "file_extension": ".py",
   "mimetype": "text/x-python",
   "name": "python",
   "nbconvert_exporter": "python",
   "pygments_lexer": "ipython3",
   "version": "3.10.4"
  }
 },
 "nbformat": 4,
 "nbformat_minor": 4
}
