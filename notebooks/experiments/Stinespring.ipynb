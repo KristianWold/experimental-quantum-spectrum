{
 "cells": [
  {
   "cell_type": "markdown",
   "metadata": {},
   "source": [
    "# Conjectures"
   ]
  },
  {
   "cell_type": "code",
   "execution_count": 1,
   "metadata": {},
   "outputs": [],
   "source": [
    "import sys\n",
    "sys.path.insert(0, '../../src_tf/')\n",
    "\n",
    "import numpy as np\n",
    "import qiskit as qk\n",
    "import matplotlib.pyplot as plt\n",
    "import multiprocessing as mp\n",
    "import random\n",
    "import pickle\n",
    "\n",
    "from qiskit.quantum_info import DensityMatrix, random_unitary\n",
    "from qiskit.quantum_info import Operator\n",
    "from scipy.linalg import sqrtm\n",
    "from tqdm.notebook import tqdm\n",
    "\n",
    "from loss_functions import *\n",
    "from optimization import *\n",
    "from quantum_channel import *\n",
    "from kraus_channels import *\n",
    "from stinespring_channels import *\n",
    "from quantum_tools import *\n",
    "from experimental import *\n",
    "from spam import *\n",
    "\n",
    "#np.set_printoptions(threshold=sys.maxsize)\n",
    "np.set_printoptions(precision=4)\n",
    "\n",
    "import os\n",
    "os.environ[\"CUDA_VISIBLE_DEVICES\"] = \"-1\""
   ]
  },
  {
   "cell_type": "markdown",
   "metadata": {},
   "source": [
    "## Stinespring"
   ]
  },
  {
   "cell_type": "code",
   "execution_count": 2,
   "metadata": {},
   "outputs": [],
   "source": [
    "np.random.seed(42)\n",
    "random.seed(42)\n",
    "tf.random.set_seed(42)\n",
    "\n",
    "n = 2\n",
    "d = 2**n\n",
    "rank = 2\n",
    "\n",
    "channel_target = StinespringHamiltonianMap(d=d, logrank=2)"
   ]
  },
  {
   "cell_type": "code",
   "execution_count": 3,
   "metadata": {},
   "outputs": [],
   "source": [
    "state = np.zeros((3, d, d))\n",
    "state[0,0,0] = 1\n",
    "state[1,0,0] = 1\n",
    "state[2,0,0] = 1\n",
    "state = tf.cast(state, dtype = precision)\n",
    "\n",
    "t = tf.cast([0.1, 0.3, 0.5], dtype = precision)\n",
    "\n",
    "\n",
    "state = [state, t]"
   ]
  },
  {
   "cell_type": "code",
   "execution_count": 4,
   "metadata": {},
   "outputs": [],
   "source": [
    "channel_target.generate_channel()"
   ]
  },
  {
   "cell_type": "code",
   "execution_count": 5,
   "metadata": {},
   "outputs": [],
   "source": [
    "state_output = channel_target.apply_channel(state)"
   ]
  },
  {
   "cell_type": "code",
   "execution_count": 6,
   "metadata": {},
   "outputs": [
    {
     "name": "stdout",
     "output_type": "stream",
     "text": [
      "tf.Tensor(\n",
      "[[[ 0.1233+0.j      0.112 -0.0256j -0.0016+0.1067j -0.0183+0.0696j]\n",
      "  [ 0.112 +0.0256j  0.2597+0.j      0.0517+0.1243j -0.0251+0.0238j]\n",
      "  [-0.0016-0.1067j  0.0517-0.1243j  0.2311+0.j      0.0069+0.0524j]\n",
      "  [-0.0183-0.0696j -0.0251-0.0238j  0.0069-0.0524j  0.3859+0.j    ]]\n",
      "\n",
      " [[ 0.1614+0.j      0.0246+0.079j   0.0191+0.0637j  0.1541+0.1296j]\n",
      "  [ 0.0246-0.079j   0.1368+0.j     -0.0034-0.0222j  0.1071+0.0258j]\n",
      "  [ 0.0191-0.0637j -0.0034+0.0222j  0.2063+0.j      0.049 +0.0115j]\n",
      "  [ 0.1541-0.1296j  0.1071-0.0258j  0.049 -0.0115j  0.4954+0.j    ]]\n",
      "\n",
      " [[ 0.4304+0.j      0.0617+0.0382j  0.1099+0.1792j  0.1122+0.1446j]\n",
      "  [ 0.0617-0.0382j  0.0343+0.j      0.0327+0.028j   0.0066+0.0218j]\n",
      "  [ 0.1099-0.1792j  0.0327-0.028j   0.3175+0.j      0.1447-0.1156j]\n",
      "  [ 0.1122-0.1446j  0.0066-0.0218j  0.1447+0.1156j  0.2179+0.j    ]]], shape=(3, 4, 4), dtype=complex128)\n"
     ]
    }
   ],
   "source": [
    "print(state_output)"
   ]
  },
  {
   "cell_type": "code",
   "execution_count": null,
   "metadata": {},
   "outputs": [],
   "source": []
  }
 ],
 "metadata": {
  "kernelspec": {
   "display_name": "env_qiskit",
   "language": "python",
   "name": "env_qiskit"
  },
  "language_info": {
   "codemirror_mode": {
    "name": "ipython",
    "version": 3
   },
   "file_extension": ".py",
   "mimetype": "text/x-python",
   "name": "python",
   "nbconvert_exporter": "python",
   "pygments_lexer": "ipython3",
   "version": "3.10.4"
  }
 },
 "nbformat": 4,
 "nbformat_minor": 4
}
