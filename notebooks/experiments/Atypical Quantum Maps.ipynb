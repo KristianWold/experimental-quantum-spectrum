{
 "cells": [
  {
   "cell_type": "markdown",
   "metadata": {},
   "source": [
    "# Numerical Benchmarks"
   ]
  },
  {
   "cell_type": "code",
   "execution_count": 1,
   "metadata": {},
   "outputs": [],
   "source": [
    "import sys\n",
    "sys.path.insert(0, '../../src_tf/')\n",
    "\n",
    "import numpy as np\n",
    "import qiskit as qk\n",
    "import matplotlib.pyplot as plt\n",
    "import multiprocessing as mp\n",
    "import random\n",
    "import pickle\n",
    "\n",
    "from qiskit.quantum_info import DensityMatrix, random_unitary\n",
    "from qiskit.quantum_info import Operator\n",
    "from scipy.linalg import sqrtm\n",
    "from tqdm.notebook import tqdm\n",
    "\n",
    "from loss_functions import *\n",
    "from optimization import *\n",
    "from quantum_channel import *\n",
    "from kraus_channels import *\n",
    "from lindblad_channels import *\n",
    "from quantum_tools import *\n",
    "from experimental import *\n",
    "from spam import *\n",
    "\n",
    "#np.set_printoptions(threshold=sys.maxsize)\n",
    "np.set_printoptions(precision=4)\n",
    "\n",
    "import os\n",
    "os.environ[\"CUDA_VISIBLE_DEVICES\"] = \"-1\""
   ]
  },
  {
   "cell_type": "markdown",
   "metadata": {},
   "source": [
    "## Recover SPAM and Map\n",
    "\n",
    "### Generate True Model, Full POVM and Inital"
   ]
  },
  {
   "cell_type": "code",
   "execution_count": 4,
   "metadata": {},
   "outputs": [],
   "source": [
    "def generate_spam_benchmark(n=3, c1=1, c2=1):\n",
    "    d = 2**n\n",
    "\n",
    "    init_target = InitialState(d, c=c1)\n",
    "    povm_target = POVM(d, c=c2)\n",
    "\n",
    "    spam_target = SPAM(init = init_target,\n",
    "                       povm = povm_target)\n",
    "    \n",
    "    return spam_target\n",
    "\n",
    "\n",
    "def generate_spam_data(spam_target, N_spam=None, shots=1024):\n",
    "    n = int(np.log2(spam_target.d))\n",
    "    inputs_spam, _ = generate_pauliInput_circuits(n)\n",
    "    N_spam = inputs_spam.shape[0]\n",
    "\n",
    "    state = tf.repeat(spam_target.init.init[None,:,:], N_spam, axis=0)\n",
    "    targets_spam = measurement(state, U_basis = inputs_spam, povm = spam_target.povm.povm)\n",
    "\n",
    "    #add noise\n",
    "    targets_spam = add_shot_noise(targets_spam, shots = shots)\n",
    "    return inputs_spam, targets_spam\n",
    "\n",
    "\n",
    "def generate_map_data(channel_target, spam_target, N_map=None, shots=1024):\n",
    "    n = int(np.log2(channel_target.d))\n",
    "    inputs_map, _ = generate_pauli_circuits(n = n, \n",
    "                                            circuit_target=None,  \n",
    "                                            trace=False,\n",
    "                                            N=N_map)\n",
    "    U_prep, U_basis = inputs_map\n",
    "\n",
    "    N_map = U_prep.shape[0]\n",
    "    state = tf.repeat(tf.expand_dims(spam_target.init.init, axis=0), N_map, axis=0)\n",
    "    state = apply_unitary(state, U_prep)\n",
    "    state = channel_target.apply_channel(state)\n",
    "    targets_map = measurement(state, U_basis, spam_target.povm.povm)\n",
    "    \n",
    "    #add noise\n",
    "    targets_map = add_shot_noise(targets_map, shots = shots)\n",
    "\n",
    "    return inputs_map, targets_map\n",
    "\n",
    "\n",
    "def model_pipeline(channel_target = None, shots=1024, N_map = None, num_iter_spam=None, num_iter_map=None):\n",
    "    # Make Benchmark\n",
    "    #################################################################################\n",
    "    n = 3\n",
    "    d = 2**n\n",
    "    \n",
    "    spam_target = generate_spam_benchmark(n=n, c1=0.9, c2=0.9)\n",
    "    inputs_spam, targets_spam = generate_spam_data(spam_target, N_spam=None, shots=shots)\n",
    "\n",
    "    inputs_map, targets_map = generate_map_data(channel_target, spam_target, N_map=N_map, shots=shots)\n",
    "    #################################################################################\n",
    "\n",
    "    # Fit Models\n",
    "    #################################################################################\n",
    "    spam_model = SPAM(init = InitialState(d, c=0.9),\n",
    "                      povm = CorruptionMatrix(d, c=0.9),\n",
    "                      optimizer = tf.optimizers.Adam(learning_rate=0.01))\n",
    "    \n",
    "    #spam_model.pretrain(300, verbose=False)\n",
    "\n",
    "    spam_model.train(inputs = inputs_spam,\n",
    "                     targets = targets_spam,\n",
    "                     num_iter = num_iter_map,\n",
    "                     verbose = False,\n",
    "                    )\n",
    "\n",
    "    model = ModelQuantumMap(channel = KrausMap(d = d, \n",
    "                                               rank = d**2,\n",
    "                                               spam = spam_model,\n",
    "                                              ),\n",
    "                            loss_function = ProbabilityMSE(),\n",
    "                            optimizer = tf.optimizers.Adam(learning_rate=0.01),\n",
    "                            logger = Logger(loss_function = ProbabilityMSE(),\n",
    "                                            loss_function_val = channel_fidelity_loss),\n",
    "                           )\n",
    "\n",
    "    model.train(inputs = inputs_map,\n",
    "                targets = targets_map,\n",
    "                inputs_val = None,\n",
    "                targets_val = [channel_target],\n",
    "                num_iter = num_iter_map,\n",
    "                N = 500,\n",
    "                )\n",
    "    #################################################################################\n",
    "    model.optimizer = None\n",
    "    spam_model.optimizer = None\n",
    "    model.inputs = None\n",
    "    model.targets = None\n",
    "    model.inputs_val = None\n",
    "    model.targets_val = None\n",
    "\n",
    "    return model"
   ]
  },
  {
   "cell_type": "markdown",
   "metadata": {},
   "source": [
    "## Fit Models"
   ]
  },
  {
   "cell_type": "code",
   "execution_count": 11,
   "metadata": {},
   "outputs": [
    {
     "data": {
      "application/vnd.jupyter.widget-view+json": {
       "model_id": "2832db23e3ca431d84838f29e234cd7e",
       "version_major": 2,
       "version_minor": 0
      },
      "text/plain": [
       "  0%|          | 0/4000 [00:00<?, ?it/s]"
      ]
     },
     "metadata": {},
     "output_type": "display_data"
    },
    {
     "name": "stdout",
     "output_type": "stream",
     "text": [
      "0.000730815239418286\n"
     ]
    },
    {
     "data": {
      "application/vnd.jupyter.widget-view+json": {
       "model_id": "c027ba6125f4446585ca2a696eeb4c2e",
       "version_major": 2,
       "version_minor": 0
      },
      "text/plain": [
       "  0%|          | 0/4000 [00:00<?, ?it/s]"
      ]
     },
     "metadata": {},
     "output_type": "display_data"
    },
    {
     "name": "stdout",
     "output_type": "stream",
     "text": [
      "0.2522026107275442 -0.09635478056450521\n",
      "0.05936058180636232 -0.3899705250785339\n",
      "0.016261923116314792 -0.6904450944477275\n",
      "0.009365052591266677 -0.8129878109859814\n",
      "0.007762401064528082 -0.8654267614275218\n",
      "0.007186431661177628 -0.8928265321477441\n",
      "0.006916717768014154 -0.9088602794746254\n",
      "0.006768724127022852 -0.9189371684621234\n",
      "0.006671735895679792 -0.9255630174739587\n",
      "0.006615801000310474 -0.9302060992209514\n",
      "0.006576474536503826 -0.9335778489271783\n",
      "0.00655176934676036 -0.9357606370871944\n",
      "0.006535662531859102 -0.9374909800907267\n",
      "0.006515655678077449 -0.9387211735220728\n",
      "0.006506594122375152 -0.9395756680998879\n",
      "0.0065017912150029415 -0.9400727509684758\n",
      "0.006497470585141921 -0.9409270950863449\n",
      "0.006493601052208069 -0.9410619250810395\n",
      "0.006491166247954405 -0.9414947889210017\n",
      "0.00649043213359536 -0.9419562917244203\n",
      "0.00649509484565745 -0.9414184995284446\n",
      "0.006484355787051177 -0.9421083969975833\n",
      "0.006484693779663787 -0.9417194492318975\n",
      "0.006495306774060401 -0.9424314337642704\n",
      "0.006483493430371469 -0.9423487205654153\n",
      "0.006490955102160496 -0.9422161638291057\n",
      "0.006493193611244539 -0.9424736257037537\n",
      "0.006500762462734322 -0.9425148675962086\n",
      "0.006487120828916527 -0.9425380806255049\n",
      "0.006490283405690748 -0.9422591925269433\n",
      "0.006489007158872755 -0.9424874151986417\n",
      "0.006484584585178245 -0.9423251141798042\n",
      "0.006499249265827523 -0.942714926995785\n",
      "0.00649320814955564 -0.9424774573127215\n",
      "0.006498794338974897 -0.9427739153448184\n",
      "0.006498115017355335 -0.9425337239421864\n",
      "0.006490453433612348 -0.9430414870210635\n",
      "0.006502770839881622 -0.9427273457315691\n",
      "0.006494953433593297 -0.9427505242526543\n",
      "0.006495047227619993 -0.9426562967664216\n",
      "0.0064941703554233406 -0.9424696613350539\n"
     ]
    },
    {
     "data": {
      "application/vnd.jupyter.widget-view+json": {
       "model_id": "8fcf181bebc04cab9f8ef00fc67c73a5",
       "version_major": 2,
       "version_minor": 0
      },
      "text/plain": [
       "  0%|          | 0/4000 [00:00<?, ?it/s]"
      ]
     },
     "metadata": {},
     "output_type": "display_data"
    },
    {
     "name": "stdout",
     "output_type": "stream",
     "text": [
      "0.0007667151343961843\n"
     ]
    },
    {
     "data": {
      "application/vnd.jupyter.widget-view+json": {
       "model_id": "c52746433c8244d8aaad0958e21e7059",
       "version_major": 2,
       "version_minor": 0
      },
      "text/plain": [
       "  0%|          | 0/4000 [00:00<?, ?it/s]"
      ]
     },
     "metadata": {},
     "output_type": "display_data"
    },
    {
     "name": "stdout",
     "output_type": "stream",
     "text": [
      "0.31035567448353535 -0.2611497136368756\n",
      "0.05413340343148104 -0.7409642191897365\n",
      "0.008462025541955197 -0.896032454080909\n",
      "0.00708065435975425 -0.9109294867979205\n",
      "0.006678175123594929 -0.9138780462025713\n",
      "0.006435733868719451 -0.9140910423379233\n",
      "0.00627801936165423 -0.9127055062352013\n",
      "0.0061560384061921155 -0.9105772988909863\n",
      "0.00607144583025565 -0.9078088243413691\n",
      "0.00600795823450804 -0.9048558374562629\n",
      "0.005953767444820263 -0.9017752072858062\n",
      "0.00592305250781034 -0.8986694824887076\n",
      "0.00589331321831727 -0.8953943736890108\n",
      "0.005864150331636569 -0.8921240278213418\n",
      "0.005854792083809905 -0.8889246029032414\n",
      "0.005845028751210619 -0.8859657909171598\n",
      "0.005838032039115903 -0.8831457870109495\n",
      "0.005826133572418626 -0.8800276949244789\n",
      "0.005816135776709916 -0.8777046062846107\n",
      "0.005806652236123204 -0.8752037414545263\n",
      "0.005809412707466067 -0.8730840176152851\n",
      "0.005808753450517031 -0.871042407218766\n",
      "0.005808476569424237 -0.8689274926446036\n",
      "0.005797629023907319 -0.8671883614129843\n",
      "0.005794284644507102 -0.8654981548481329\n",
      "0.005813774877704169 -0.863762980949447\n",
      "0.005794294670121528 -0.8624110247277377\n",
      "0.00579730531072899 -0.8608484079379671\n",
      "0.005798758677650028 -0.859655354510132\n",
      "0.005790646653046629 -0.8584622608198791\n",
      "0.005803351732443065 -0.8576180682399357\n",
      "0.005800086301507915 -0.8564516326619054\n",
      "0.005789704680426661 -0.8550410321150135\n",
      "0.005801861008681572 -0.8543111285638934\n",
      "0.005801156755763669 -0.8533233523178855\n",
      "0.005802124919806508 -0.8529607125861388\n",
      "0.005791958366835118 -0.8519201764185864\n",
      "0.005805242084609579 -0.8516039713238047\n",
      "0.005795787479125357 -0.8510970886661732\n",
      "0.005791350101696605 -0.8506244568515089\n",
      "0.005799627034066807 -0.8499817754359031\n"
     ]
    },
    {
     "data": {
      "application/vnd.jupyter.widget-view+json": {
       "model_id": "630d129bdb5d4b05b047fc44c7ae871e",
       "version_major": 2,
       "version_minor": 0
      },
      "text/plain": [
       "  0%|          | 0/4000 [00:00<?, ?it/s]"
      ]
     },
     "metadata": {},
     "output_type": "display_data"
    },
    {
     "name": "stdout",
     "output_type": "stream",
     "text": [
      "0.0006590599476342297\n"
     ]
    },
    {
     "data": {
      "application/vnd.jupyter.widget-view+json": {
       "model_id": "e0debf55debf426aa354e5f789635f1c",
       "version_major": 2,
       "version_minor": 0
      },
      "text/plain": [
       "  0%|          | 0/4000 [00:00<?, ?it/s]"
      ]
     },
     "metadata": {},
     "output_type": "display_data"
    },
    {
     "name": "stdout",
     "output_type": "stream",
     "text": [
      "0.5211159850447601 -0.15669000604136157\n",
      "0.14813877640778364 -0.3992688046143136\n",
      "0.01742496068516106 -0.7121539659858652\n",
      "0.009231498587211123 -0.7961793835743612\n",
      "0.007706733937946242 -0.830744861993646\n",
      "0.006964298894504138 -0.8532123912161523\n",
      "0.006565318494669901 -0.8685919368772671\n",
      "0.006328676322916 -0.879543553571796\n",
      "0.006173875526167471 -0.8873975788106835\n",
      "0.0060762370581396025 -0.8930387110332754\n",
      "0.006001920780123309 -0.8969022721568153\n",
      "0.005949640547395266 -0.9001185779156153\n",
      "0.005905078922196703 -0.9021080935045697\n",
      "0.005872528446636266 -0.9031076491989874\n",
      "0.005851713986298481 -0.904414562265188\n",
      "0.005843797448774662 -0.9050795024872024\n",
      "0.005820466085984666 -0.9053728077197392\n",
      "0.0058080430157140305 -0.9057995255267361\n",
      "0.005799313464530846 -0.9053874820443346\n",
      "0.005789664342773913 -0.9052980879720652\n",
      "0.0057928720670707414 -0.9054081344013455\n",
      "0.005786471676934508 -0.9052564880812464\n",
      "0.005777889144445512 -0.904251657366044\n",
      "0.00577099488454235 -0.9042893049632922\n",
      "0.005779804266272675 -0.9040880063537922\n",
      "0.005771102735625523 -0.9035651235080664\n",
      "0.005788417347887025 -0.9034070906086101\n",
      "0.005773800903366465 -0.9026439055159584\n",
      "0.005771564787220196 -0.901997029544386\n",
      "0.005776335765478753 -0.9019868225969604\n",
      "0.005776762496548923 -0.9016780199951049\n",
      "0.00577347567889672 -0.9012167246129171\n",
      "0.005774478072516616 -0.9011614050075121\n",
      "0.005758633372898056 -0.9011477236909139\n",
      "0.005789102918322442 -0.900591567630296\n",
      "0.005775130105908529 -0.9005297936411727\n",
      "0.005772145000595746 -0.8997243289295273\n",
      "0.005773569708618081 -0.8999185939109632\n",
      "0.005789752978508937 -0.8995302156827734\n",
      "0.005785711957430332 -0.8995043122860518\n",
      "0.0057744659699552215 -0.89944482561234\n"
     ]
    },
    {
     "data": {
      "application/vnd.jupyter.widget-view+json": {
       "model_id": "f9b082fb597b47a7b5b8add1384f157c",
       "version_major": 2,
       "version_minor": 0
      },
      "text/plain": [
       "  0%|          | 0/4000 [00:00<?, ?it/s]"
      ]
     },
     "metadata": {},
     "output_type": "display_data"
    },
    {
     "name": "stdout",
     "output_type": "stream",
     "text": [
      "0.0007117775890604215\n"
     ]
    },
    {
     "data": {
      "application/vnd.jupyter.widget-view+json": {
       "model_id": "fdc1d20cd1354c83958c1b06328a1d51",
       "version_major": 2,
       "version_minor": 0
      },
      "text/plain": [
       "  0%|          | 0/4000 [00:00<?, ?it/s]"
      ]
     },
     "metadata": {},
     "output_type": "display_data"
    },
    {
     "name": "stdout",
     "output_type": "stream",
     "text": [
      "0.1184389562354085 -0.4363524927727841\n",
      "0.01958959034890855 -0.6560336616798985\n",
      "0.00841117857377542 -0.7962915735434174\n",
      "0.006513030281092514 -0.8478801311566997\n",
      "0.005946043620466693 -0.8698838440760821\n",
      "0.0056850709941934675 -0.8799025383947268\n",
      "0.005532559460668416 -0.884055998897291\n",
      "0.005444955415608176 -0.8846284407459553\n",
      "0.0053865611141588055 -0.8839711195958693\n",
      "0.0053490585464159935 -0.8818400202531271\n",
      "0.005318315500280679 -0.8800251803221447\n",
      "0.005299816254844493 -0.8775779096272748\n",
      "0.005281721843029412 -0.8756332282100574\n",
      "0.005271936447145652 -0.8730289739995212\n",
      "0.005260250961704415 -0.8708941064201952\n",
      "0.0052555016462694564 -0.8684006499824468\n",
      "0.005245393910893451 -0.8665827718875441\n",
      "0.005241722455153038 -0.8648574318806986\n",
      "0.005245217434414837 -0.8628031259199055\n",
      "0.005240257666060747 -0.8611751879184903\n",
      "0.0052435359408000305 -0.8595401233212498\n",
      "0.005244014523120093 -0.8582416397416486\n",
      "0.005240165696193896 -0.8566523922298919\n",
      "0.005243084469937173 -0.8554154508430527\n",
      "0.005244945990240109 -0.854517935457479\n",
      "0.005237368227254387 -0.853378705623588\n",
      "0.005236055395491236 -0.8519951685741787\n",
      "0.005243860910534922 -0.8514876641498953\n",
      "0.005243196691016366 -0.8508346503155434\n",
      "0.0052359838545964635 -0.8496627421259884\n",
      "0.005243130839259312 -0.848992919892878\n",
      "0.005236472835653316 -0.8481738064775709\n",
      "0.0052351444753137195 -0.8475864963576796\n",
      "0.005240463760156479 -0.8469898611454268\n",
      "0.0052360661922635655 -0.8468449645216499\n",
      "0.005239332866921709 -0.8462555227329028\n",
      "0.0052423630284157635 -0.845419387846878\n",
      "0.005241442619579421 -0.8449385455170813\n",
      "0.005242320721882926 -0.8439831288263597\n",
      "0.00523974135827408 -0.8442187529140707\n",
      "0.00524319412310115 -0.8439342304993244\n"
     ]
    }
   ],
   "source": [
    "np.random.seed(42)\n",
    "random.seed(42)\n",
    "tf.random.set_seed(42)\n",
    "\n",
    "n = 3\n",
    "d = 2**n\n",
    "\n",
    "channel_target1 = CompactLindbladMap(d, 1, 1, 0.1)\n",
    "model1 = model_pipeline(channel_target1, \n",
    "                        shots=1024, \n",
    "                        N_map=2000-6**n, \n",
    "                        num_iter_spam = 4000,\n",
    "                        num_iter_map = 4000)\n",
    "\n",
    "channel_target2 = CompactLindbladMap(d, 16, 10000, 0.001)\n",
    "model2 = model_pipeline(channel_target2, \n",
    "                        shots=1024, \n",
    "                        N_map=2000-6**n, \n",
    "                        num_iter_spam = 4000,\n",
    "                        num_iter_map = 4000)\n",
    "\n",
    "channel_target3 = CompactLindbladMap(d, 16, 100, 0.001)\n",
    "model3 = model_pipeline(channel_target3, \n",
    "                        shots=1024, \n",
    "                        N_map=2000-6**n, \n",
    "                        num_iter_spam = 4000,\n",
    "                        num_iter_map = 4000)\n",
    "\n",
    "channel_target4 = CompactLindbladMap(d, 8, 1, 0.01)\n",
    "model4 = model_pipeline(channel_target4, \n",
    "                        shots=1024, \n",
    "                        N_map=2000-6**n, \n",
    "                        num_iter_spam = 4000,\n",
    "                        num_iter_map = 4000)\n",
    "\n",
    "\n",
    "saver([[channel_target1, channel_target2, channel_target3, channel_target4],\n",
    "       [model1, model2, model3, model4]], data_path(\"atypical_maps_benchmark.model\"))\n",
    "\n",
    "#saver([[channel_target1],\n",
    "#       [model1]], data_path(\"atypical_maps_benchmark.model\"))"
   ]
  },
  {
   "cell_type": "markdown",
   "metadata": {},
   "source": [
    "## Sample and Noise Sensitivity"
   ]
  },
  {
   "cell_type": "code",
   "execution_count": null,
   "metadata": {
    "scrolled": true
   },
   "outputs": [],
   "source": [
    "n = 3\n",
    "d = 2**n\n",
    "np.random.seed(42)\n",
    "random.seed(42)\n",
    "tf.random.set_seed(42)\n",
    "\n",
    "channel_target = CompactLindbladMap(d, 1, 1, 0.1)\n",
    "model_ns1 = model_pipeline(channel_target, \n",
    "                           shots=256, \n",
    "                           N_map=256, \n",
    "                           num_iter_spam = 4000,\n",
    "                           num_iter_map = 4000)\n",
    "\n",
    "\n",
    "model_ns2 = model_pipeline(channel_target, \n",
    "                           shots=1024, \n",
    "                           N_map=1024, \n",
    "                           num_iter_spam = 4000,\n",
    "                           num_iter_map = 4000)\n",
    "\n",
    "model_ns3 = model_pipeline(channel_target, \n",
    "                           shots=4096, \n",
    "                           N_map=4096, \n",
    "                           num_iter_spam = 4000,\n",
    "                           num_iter_map = 4000)\n",
    "\n",
    "saver([[channel_target],\n",
    "       [model_ns1, model_ns2, model_ns3]], data_path(\"atypical_maps_robustness.model\"))"
   ]
  },
  {
   "cell_type": "code",
   "execution_count": null,
   "metadata": {},
   "outputs": [],
   "source": []
  }
 ],
 "metadata": {
  "kernelspec": {
   "display_name": "env_qiskit",
   "language": "python",
   "name": "env_qiskit"
  },
  "language_info": {
   "codemirror_mode": {
    "name": "ipython",
    "version": 3
   },
   "file_extension": ".py",
   "mimetype": "text/x-python",
   "name": "python",
   "nbconvert_exporter": "python",
   "pygments_lexer": "ipython3",
   "version": "3.10.4"
  }
 },
 "nbformat": 4,
 "nbformat_minor": 4
}
