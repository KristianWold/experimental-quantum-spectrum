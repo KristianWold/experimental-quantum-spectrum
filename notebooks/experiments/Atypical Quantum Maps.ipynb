{
 "cells": [
  {
   "cell_type": "markdown",
   "metadata": {},
   "source": [
    "# Numerical Benchmarks"
   ]
  },
  {
   "cell_type": "code",
   "execution_count": 1,
   "metadata": {},
   "outputs": [],
   "source": [
    "import sys\n",
    "sys.path.insert(0, '../../src_tf/')\n",
    "\n",
    "import numpy as np\n",
    "import qiskit as qk\n",
    "import matplotlib.pyplot as plt\n",
    "import multiprocessing as mp\n",
    "import random\n",
    "import pickle\n",
    "\n",
    "from qiskit.quantum_info import DensityMatrix, random_unitary\n",
    "from qiskit.quantum_info import Operator\n",
    "from scipy.linalg import sqrtm\n",
    "from tqdm.notebook import tqdm\n",
    "\n",
    "from loss_functions import *\n",
    "from optimization import *\n",
    "from quantum_channel import *\n",
    "from kraus_channels import *\n",
    "from lindblad_channels import *\n",
    "from quantum_tools import *\n",
    "from experimental import *\n",
    "from spam import *\n",
    "\n",
    "#np.set_printoptions(threshold=sys.maxsize)\n",
    "np.set_printoptions(precision=4)\n",
    "\n",
    "import os\n",
    "os.environ[\"CUDA_VISIBLE_DEVICES\"] = \"-1\""
   ]
  },
  {
   "cell_type": "markdown",
   "metadata": {},
   "source": [
    "## Recover SPAM and Map\n",
    "\n",
    "### Generate True Model, Full POVM and Inital"
   ]
  },
  {
   "cell_type": "code",
   "execution_count": 4,
   "metadata": {},
   "outputs": [],
   "source": [
    "def generate_spam_benchmark(n=3, c1=1, c2=1):\n",
    "    d = 2**n\n",
    "\n",
    "    init_target = InitialState(d, c=c1)\n",
    "    povm_target = POVM(d, c=c2)\n",
    "\n",
    "    spam_target = SPAM(init = init_target,\n",
    "                       povm = povm_target)\n",
    "    \n",
    "    return spam_target\n",
    "\n",
    "\n",
    "def generate_spam_data(spam_target, N_spam=None, noise=0):\n",
    "    n = int(np.log2(spam_target.d))\n",
    "    inputs_spam, _ = generate_pauliInput_circuits(n)\n",
    "    N_spam = inputs_spam.shape[0]\n",
    "\n",
    "    state = tf.repeat(spam_target.init.init[None,:,:], N_spam, axis=0)\n",
    "    targets_spam = measurement(state, U_basis = inputs_spam, povm = spam_target.povm.povm)\n",
    "\n",
    "    #add noise\n",
    "    targets_spam = add_noise_to_probs(targets_spam, noise=noise)\n",
    "    return inputs_spam, targets_spam\n",
    "\n",
    "\n",
    "def generate_map_data(channel_target, spam_target, N_map=None, noise=0):\n",
    "    n = channel_target.n\n",
    "    inputs_map, _ = generate_pauli_circuits(n = n, \n",
    "                                            circuit_target=None,  \n",
    "                                            trace=False,\n",
    "                                            N=N_map)\n",
    "    U_prep, U_basis = inputs_map\n",
    "\n",
    "    N_map = U_prep.shape[0]\n",
    "    state = tf.repeat(tf.expand_dims(spam_target.init.init, axis=0), N_map, axis=0)\n",
    "    state = apply_unitary(state, U_prep)\n",
    "    state = channel_target.apply_channel(state)\n",
    "    targets_map = measurement(state, U_basis, spam_target.povm.povm)\n",
    "    \n",
    "    #add noise\n",
    "    targets_map = add_noise_to_probs(targets_map, noise=noise)\n",
    "    \n",
    "    return inputs_map, targets_map\n",
    "\n",
    "\n",
    "def model_pipeline(channel_target, noise, N_map = None, num_iter_spam=None, num_iter_map=None):\n",
    "    # Make Benchmark\n",
    "    #################################################################################\n",
    "    n = 3\n",
    "    d = 2**n\n",
    "    \n",
    "    spam_target = generate_spam_benchmark(n=n, c1=0.9, c2=0.9)\n",
    "    inputs_spam, targets_spam = generate_spam_data(spam_target, N_spam=None, noise=noise)\n",
    "\n",
    "    inputs_map, targets_map = generate_map_data(channel_target, spam_target, N_map=N_map, noise=noise)\n",
    "    #################################################################################\n",
    "\n",
    "    # Fit Models\n",
    "    #################################################################################\n",
    "    spam_model = SPAM(init = InitialState(d, c=0.9),\n",
    "                      povm = CorruptionMatrix(d, c=0.9),\n",
    "                      optimizer = tf.optimizers.Adam(learning_rate=0.01))\n",
    "    \n",
    "    #spam_model.pretrain(300, verbose=False)\n",
    "\n",
    "    spam_model.train(inputs = inputs_spam,\n",
    "                     targets = targets_spam,\n",
    "                     num_iter = num_iter_map,\n",
    "                     verbose = False,\n",
    "                    )\n",
    "\n",
    "    model = ModelQuantumMap(channel = KrausMap(d = d, \n",
    "                                               rank = d**2,\n",
    "                                               spam = spam_model,\n",
    "                                              ),\n",
    "                            loss_function = ProbabilityMSE(),\n",
    "                            optimizer = tf.optimizers.Adam(learning_rate=0.01),\n",
    "                            logger = Logger(loss_function = ProbabilityMSE(),\n",
    "                                            loss_function_val = channel_fidelity_loss),\n",
    "                           )\n",
    "\n",
    "    model.train(inputs = inputs_map,\n",
    "                targets = targets_map,\n",
    "                inputs_val = None,\n",
    "                targets_val = [channel_target],\n",
    "                num_iter = num_iter_map,\n",
    "                N = 500,\n",
    "                )\n",
    "    #################################################################################\n",
    "    model.optimizer = None\n",
    "    spam_model.optimizer = None\n",
    "    model.inputs = None\n",
    "    model.targets = None\n",
    "    model.inputs_val = None\n",
    "    model.targets_val = None\n",
    "\n",
    "    return model"
   ]
  },
  {
   "cell_type": "markdown",
   "metadata": {},
   "source": [
    "## Fit Models"
   ]
  },
  {
   "cell_type": "code",
   "execution_count": 5,
   "metadata": {},
   "outputs": [
    {
     "data": {
      "application/vnd.jupyter.widget-view+json": {
       "model_id": "daf6e3d55bf5419787f47b8a37883675",
       "version_major": 2,
       "version_minor": 0
      },
      "text/plain": [
       "  0%|          | 0/2000 [00:00<?, ?it/s]"
      ]
     },
     "metadata": {},
     "output_type": "display_data"
    },
    {
     "name": "stdout",
     "output_type": "stream",
     "text": [
      "0.0005817683328900032\n"
     ]
    },
    {
     "data": {
      "application/vnd.jupyter.widget-view+json": {
       "model_id": "8d9a8c7d9fcc4d8fa973f2679772b913",
       "version_major": 2,
       "version_minor": 0
      },
      "text/plain": [
       "  0%|          | 0/2000 [00:00<?, ?it/s]"
      ]
     },
     "metadata": {},
     "output_type": "display_data"
    },
    {
     "name": "stdout",
     "output_type": "stream",
     "text": [
      "0.2524419904157432 -0.08766725008272647\n",
      "0.06171949678490715 -0.36323968798978745\n",
      "0.016314720447863747 -0.6696420605484509\n",
      "0.008517738903805184 -0.8029302246810687\n",
      "0.006764104704229357 -0.85962091032573\n",
      "0.0061559399901818124 -0.8890967388055686\n",
      "0.00587405856080175 -0.9066648301793278\n",
      "0.00572396714369966 -0.9174502768813971\n",
      "0.005638702329338704 -0.9249953034922637\n",
      "0.005576416972249685 -0.9299444291137022\n",
      "0.005537916590660458 -0.9337667615000803\n",
      "0.0055120909190161434 -0.9364369102749336\n",
      "0.0054857766079517405 -0.9384180959513664\n",
      "0.005471466711034589 -0.9401345723189476\n",
      "0.0054703950615628445 -0.9412556923694003\n",
      "0.005458818227422155 -0.9420303066122757\n",
      "0.005449703417643162 -0.9428796169166822\n",
      "0.005447692154006037 -0.943647881706282\n",
      "0.005440068234720057 -0.9441755733854561\n",
      "0.005441975803994386 -0.9445893647517913\n",
      "0.005443045367879531 -0.9447073115788313\n"
     ]
    },
    {
     "data": {
      "application/vnd.jupyter.widget-view+json": {
       "model_id": "8d21abebe4424ac89add21cf72ab26d2",
       "version_major": 2,
       "version_minor": 0
      },
      "text/plain": [
       "  0%|          | 0/2000 [00:00<?, ?it/s]"
      ]
     },
     "metadata": {},
     "output_type": "display_data"
    },
    {
     "name": "stdout",
     "output_type": "stream",
     "text": [
      "0.0006643944576260446\n"
     ]
    },
    {
     "data": {
      "application/vnd.jupyter.widget-view+json": {
       "model_id": "7ffba2e24c5e4a8dbc1d67ef6c4468b5",
       "version_major": 2,
       "version_minor": 0
      },
      "text/plain": [
       "  0%|          | 0/2000 [00:00<?, ?it/s]"
      ]
     },
     "metadata": {},
     "output_type": "display_data"
    },
    {
     "name": "stdout",
     "output_type": "stream",
     "text": [
      "0.3447700960354536 -0.2545617565120584\n",
      "0.0656259466038417 -0.705901973267656\n",
      "0.00753378883062231 -0.8874834325323533\n",
      "0.005954673738059783 -0.9069340324107829\n",
      "0.005566579057644048 -0.9126317836836224\n",
      "0.005329059727368817 -0.9152571364965407\n",
      "0.005171919241239138 -0.9158566309765483\n",
      "0.005056811202855083 -0.9153679785142267\n",
      "0.004975480960560751 -0.9140951051647384\n",
      "0.0049112100715738675 -0.9124145772642499\n",
      "0.004854830988226817 -0.9099432580352419\n",
      "0.004812085475588956 -0.9076584893743205\n",
      "0.004778594818845431 -0.905142820353785\n",
      "0.004755150181650482 -0.9026560504316583\n",
      "0.00473708170807431 -0.8998738722127958\n",
      "0.004721146075934372 -0.8972330799387467\n",
      "0.004700360822937572 -0.8946315982508182\n",
      "0.004693112457566376 -0.8919510253868469\n",
      "0.004684482634440902 -0.8897496373162481\n",
      "0.004685754989360267 -0.8868651324812507\n",
      "0.004672532329279051 -0.8847734104742654\n"
     ]
    },
    {
     "data": {
      "application/vnd.jupyter.widget-view+json": {
       "model_id": "059d9cd36bae486e9204c8feb18984d7",
       "version_major": 2,
       "version_minor": 0
      },
      "text/plain": [
       "  0%|          | 0/2000 [00:00<?, ?it/s]"
      ]
     },
     "metadata": {},
     "output_type": "display_data"
    },
    {
     "name": "stdout",
     "output_type": "stream",
     "text": [
      "0.0006191901428973366\n"
     ]
    },
    {
     "data": {
      "application/vnd.jupyter.widget-view+json": {
       "model_id": "631b546aa1994dc9ae1ac621918bdbd6",
       "version_major": 2,
       "version_minor": 0
      },
      "text/plain": [
       "  0%|          | 0/2000 [00:00<?, ?it/s]"
      ]
     },
     "metadata": {},
     "output_type": "display_data"
    },
    {
     "name": "stdout",
     "output_type": "stream",
     "text": [
      "0.537977251208305 -0.16303926734635094\n",
      "0.14914985913883333 -0.4173718131129478\n",
      "0.015974069455456045 -0.7241724833398019\n",
      "0.007980127349528068 -0.8047648245178135\n",
      "0.006554386206893429 -0.83757463516688\n",
      "0.005848235189344943 -0.8593282114458343\n",
      "0.00548448329582082 -0.8742974888064742\n",
      "0.005258565946530385 -0.8849649902217828\n",
      "0.005122891108680794 -0.8923873459582711\n",
      "0.0050342342080999716 -0.898056500193913\n",
      "0.004964450568814712 -0.9023069530813025\n",
      "0.004910394349423254 -0.9053990767176138\n",
      "0.0048670789071556236 -0.9075203119237147\n",
      "0.004845808343377309 -0.9092703997636111\n",
      "0.00482205214686176 -0.9107832587217065\n",
      "0.004802291845025632 -0.911670586181411\n",
      "0.004790428842780477 -0.9120366144585846\n",
      "0.00478685291314118 -0.9123762615046329\n",
      "0.004772886729135632 -0.9125464005613652\n",
      "0.0047664283554789254 -0.912593694956426\n",
      "0.004770667615547937 -0.9127403817190828\n"
     ]
    },
    {
     "data": {
      "application/vnd.jupyter.widget-view+json": {
       "model_id": "68f44ee67a2149899e49e7a58918b9e9",
       "version_major": 2,
       "version_minor": 0
      },
      "text/plain": [
       "  0%|          | 0/2000 [00:00<?, ?it/s]"
      ]
     },
     "metadata": {},
     "output_type": "display_data"
    },
    {
     "name": "stdout",
     "output_type": "stream",
     "text": [
      "0.0006263633972401861\n"
     ]
    },
    {
     "data": {
      "application/vnd.jupyter.widget-view+json": {
       "model_id": "a5cb837ae51c43a79c2a94b0f79dde00",
       "version_major": 2,
       "version_minor": 0
      },
      "text/plain": [
       "  0%|          | 0/2000 [00:00<?, ?it/s]"
      ]
     },
     "metadata": {},
     "output_type": "display_data"
    },
    {
     "name": "stdout",
     "output_type": "stream",
     "text": [
      "0.12370942614921444 -0.4112373402658576\n",
      "0.019292708543692704 -0.6316199647502514\n",
      "0.007987219708114376 -0.7762639037022258\n",
      "0.005933562570460459 -0.8344728385967343\n",
      "0.005327596715541875 -0.8609362285268881\n",
      "0.005053971447271981 -0.8741462212051431\n",
      "0.004900273379458376 -0.8813767703840305\n",
      "0.004800670433566611 -0.8851831304745916\n",
      "0.0047393653505126395 -0.8862915342707123\n",
      "0.004699620685564887 -0.886126739958099\n",
      "0.004661172618186593 -0.8852737364668173\n",
      "0.00463985346670873 -0.8840948188366017\n",
      "0.004623585983964953 -0.8824278628139108\n",
      "0.004614382096549913 -0.8804622640634665\n",
      "0.004610193056081025 -0.8787534342780619\n",
      "0.00460298481708815 -0.8772013971589401\n",
      "0.004599198977733526 -0.8751554750739244\n",
      "0.004592667914161968 -0.8735528217460569\n",
      "0.0045882016897721145 -0.871981061697839\n",
      "0.00459123113821739 -0.8703004299891995\n",
      "0.0045872357002572 -0.8688108303784463\n"
     ]
    }
   ],
   "source": [
    "np.random.seed(42)\n",
    "random.seed(42)\n",
    "tf.random.set_seed(42)\n",
    "\n",
    "n = 3\n",
    "d = 2**n\n",
    "\n",
    "channel_target1 = CompactLindbladMap(d, 1, 1, 0.1)\n",
    "model1 = model_pipeline(channel_target1, \n",
    "                        noise=1/np.sqrt(1024), \n",
    "                        N_map=2000-6**n, \n",
    "                        num_iter_spam = 2000,\n",
    "                        num_iter_map = 2000)\n",
    "\n",
    "channel_target2 = CompactLindbladMap(d, 16, 10000, 0.001)\n",
    "model2 = model_pipeline(channel_target2, \n",
    "                        noise=1/np.sqrt(1024), \n",
    "                        N_map=2000-6**n, \n",
    "                        num_iter_spam = 2000,\n",
    "                        num_iter_map = 2000)\n",
    "\n",
    "channel_target3 = CompactLindbladMap(d, 16, 100, 0.001)\n",
    "model3 = model_pipeline(channel_target3, \n",
    "                        noise=1/np.sqrt(1024), \n",
    "                        N_map=2000-6**n, \n",
    "                        num_iter_spam = 2000,\n",
    "                        num_iter_map = 2000)\n",
    "\n",
    "channel_target4 = CompactLindbladMap(d, 8, 1, 0.01)\n",
    "model4 = model_pipeline(channel_target4, \n",
    "                        noise=1/np.sqrt(1024), \n",
    "                        N_map=2000-6**n, \n",
    "                        num_iter_spam = 2000,\n",
    "                        num_iter_map = 2000)\n",
    "\n",
    "saver([[channel_target1, channel_target2, channel_target3, channel_target4],\n",
    "       [model1, model2, model3, model4]], data_path(\"atypical_maps_benchmark.model\"))"
   ]
  },
  {
   "cell_type": "markdown",
   "metadata": {},
   "source": [
    "## Sample and Noise Sensitivity"
   ]
  },
  {
   "cell_type": "code",
   "execution_count": 6,
   "metadata": {
    "scrolled": true
   },
   "outputs": [
    {
     "data": {
      "application/vnd.jupyter.widget-view+json": {
       "model_id": "7b0cc890ca274fcb95c1462021bea580",
       "version_major": 2,
       "version_minor": 0
      },
      "text/plain": [
       "  0%|          | 0/2000 [00:00<?, ?it/s]"
      ]
     },
     "metadata": {},
     "output_type": "display_data"
    },
    {
     "name": "stdout",
     "output_type": "stream",
     "text": [
      "0.002150885368496384\n"
     ]
    },
    {
     "data": {
      "application/vnd.jupyter.widget-view+json": {
       "model_id": "6cc5bc3a544d42208409175f8f166df1",
       "version_major": 2,
       "version_minor": 0
      },
      "text/plain": [
       "  0%|          | 0/2000 [00:00<?, ?it/s]"
      ]
     },
     "metadata": {},
     "output_type": "display_data"
    },
    {
     "name": "stdout",
     "output_type": "stream",
     "text": [
      "0.26794769945899877 -0.08766725008272647\n",
      "0.05727617631030303 -0.32823873994945213\n",
      "0.023443908262908056 -0.5578519809993621\n",
      "0.016596680063794774 -0.6689932353624459\n",
      "0.014566280268694824 -0.7200146732522673\n",
      "0.013748146878470471 -0.74554355477519\n",
      "0.013355446128449001 -0.7592869395858155\n",
      "0.013146890185628162 -0.7671375099966475\n",
      "0.013028770602231116 -0.7718333794992721\n",
      "0.012958754711124698 -0.7747378601268832\n",
      "0.012915776337280634 -0.7765735059087531\n",
      "0.012888636937981457 -0.7777447955688811\n",
      "0.01287108629413317 -0.7784894226712602\n",
      "0.012859499829226614 -0.7789533336601742\n",
      "0.012851708769692098 -0.779229680897788\n",
      "0.012846381035251498 -0.7793798838413293\n",
      "0.012842680124269158 -0.7794454517563968\n",
      "0.012840070704480053 -0.7794549124603439\n",
      "0.01283820455979948 -0.7794280417978202\n",
      "0.012836851950982626 -0.779378590258415\n",
      "0.012835859349478528 -0.7793160947892934\n"
     ]
    },
    {
     "data": {
      "application/vnd.jupyter.widget-view+json": {
       "model_id": "9273a2d07ca540d9a59acbfd91c9bd2a",
       "version_major": 2,
       "version_minor": 0
      },
      "text/plain": [
       "  0%|          | 0/2000 [00:00<?, ?it/s]"
      ]
     },
     "metadata": {},
     "output_type": "display_data"
    },
    {
     "name": "stdout",
     "output_type": "stream",
     "text": [
      "0.0005860259004604901\n"
     ]
    },
    {
     "data": {
      "application/vnd.jupyter.widget-view+json": {
       "model_id": "cd58b06b934549b893a3bfeff8c09ec8",
       "version_major": 2,
       "version_minor": 0
      },
      "text/plain": [
       "  0%|          | 0/2000 [00:00<?, ?it/s]"
      ]
     },
     "metadata": {},
     "output_type": "display_data"
    },
    {
     "name": "stdout",
     "output_type": "stream",
     "text": [
      "0.26183366025899574 -0.09546508173774945\n",
      "0.05804923003313081 -0.3836870689402144\n",
      "0.01456783014154421 -0.6782415743732303\n",
      "0.008055271266233155 -0.7997469155404681\n",
      "0.006442384859366886 -0.853576327015411\n",
      "0.005854880202044879 -0.8814206197298448\n",
      "0.0055759681995227 -0.89771676858529\n",
      "0.0054225984661744695 -0.9082698126722878\n",
      "0.005323488990180328 -0.9152490824309225\n",
      "0.005266835251282968 -0.9199113661732512\n",
      "0.005221052361611207 -0.9232531328518004\n",
      "0.00519161745737921 -0.9258573499156537\n",
      "0.0051731496263289645 -0.9277300584242826\n",
      "0.005162893959857506 -0.9292405608296987\n",
      "0.005146395630008088 -0.9301145195492124\n",
      "0.005141348850941941 -0.9308924629328316\n",
      "0.005133916955795202 -0.9311124721513038\n",
      "0.005131786902931999 -0.931672102445257\n",
      "0.005132760999965699 -0.9322880739258611\n",
      "0.005122538857977105 -0.9322660155416707\n",
      "0.005123109053077666 -0.9323865866372074\n"
     ]
    },
    {
     "data": {
      "application/vnd.jupyter.widget-view+json": {
       "model_id": "7267b1c3efc6451a90bd7d708b62ad7e",
       "version_major": 2,
       "version_minor": 0
      },
      "text/plain": [
       "  0%|          | 0/2000 [00:00<?, ?it/s]"
      ]
     },
     "metadata": {},
     "output_type": "display_data"
    },
    {
     "name": "stdout",
     "output_type": "stream",
     "text": [
      "0.00021868318417711652\n"
     ]
    },
    {
     "data": {
      "application/vnd.jupyter.widget-view+json": {
       "model_id": "f1f99505d8a7461b95172a8418b4fa8f",
       "version_major": 2,
       "version_minor": 0
      },
      "text/plain": [
       "  0%|          | 0/2000 [00:00<?, ?it/s]"
      ]
     },
     "metadata": {},
     "output_type": "display_data"
    },
    {
     "name": "stdout",
     "output_type": "stream",
     "text": [
      "0.24485502378472027 -0.09180766146796303\n",
      "0.0572850297124044 -0.37854715398471805\n",
      "0.011308903999917297 -0.6923326312688468\n",
      "0.004255240055662699 -0.8204710473790029\n",
      "0.0026948115814801493 -0.8759911284844459\n",
      "0.0021618700226277 -0.9057524723100916\n",
      "0.0019293786221442144 -0.9237130516351342\n",
      "0.0018038145377991103 -0.9359858183161975\n",
      "0.0017307560544893206 -0.9445272729387377\n",
      "0.0016835010144228837 -0.9508518717160213\n",
      "0.0016517915097362208 -0.9557641896728687\n",
      "0.0016310500874419777 -0.959356291152569\n",
      "0.0016154433882695888 -0.9621214846120035\n",
      "0.001604145290418941 -0.9644911330883145\n",
      "0.001594863403115936 -0.9662791189616631\n",
      "0.0015907851081693523 -0.9677623117918802\n",
      "0.001584398841224131 -0.9690486095663288\n",
      "0.0015819960065241042 -0.9698267403171676\n",
      "0.0015799093556278935 -0.9707043303266133\n",
      "0.0015767840657381043 -0.9712811836131505\n",
      "0.001574551294343063 -0.9716889580011804\n"
     ]
    }
   ],
   "source": [
    "n = 3\n",
    "d = 2**n\n",
    "np.random.seed(42)\n",
    "random.seed(42)\n",
    "tf.random.set_seed(42)\n",
    "\n",
    "channel_target = CompactLindbladMap(d, 1, 1, 0.1)\n",
    "model_ns1 = model_pipeline(channel_target, \n",
    "                           noise=1/np.sqrt(256), \n",
    "                           N_map=256, \n",
    "                           num_iter_spam = 2000,\n",
    "                           num_iter_map = 2000)\n",
    "\n",
    "\n",
    "model_ns2 = model_pipeline(channel_target, \n",
    "                           noise=1/np.sqrt(1024), \n",
    "                           N_map=1024, \n",
    "                           num_iter_spam = 2000,\n",
    "                           num_iter_map = 2000)\n",
    "\n",
    "model_ns3 = model_pipeline(channel_target, \n",
    "                           noise=1/np.sqrt(4096), \n",
    "                           N_map=4096, \n",
    "                           num_iter_spam = 2000,\n",
    "                           num_iter_map = 2000)\n",
    "\n",
    "saver([[channel_target],\n",
    "       [model_ns1, model_ns2, model_ns3]], data_path(\"atypical_maps_robustness.model\"))"
   ]
  },
  {
   "cell_type": "code",
   "execution_count": null,
   "metadata": {},
   "outputs": [],
   "source": []
  }
 ],
 "metadata": {
  "kernelspec": {
   "display_name": "env_qiskit",
   "language": "python",
   "name": "env_qiskit"
  },
  "language_info": {
   "codemirror_mode": {
    "name": "ipython",
    "version": 3
   },
   "file_extension": ".py",
   "mimetype": "text/x-python",
   "name": "python",
   "nbconvert_exporter": "python",
   "pygments_lexer": "ipython3",
   "version": "3.10.4"
  }
 },
 "nbformat": 4,
 "nbformat_minor": 4
}
