{
 "cells": [
  {
   "cell_type": "markdown",
   "metadata": {},
   "source": [
    "# Effective Kraus Rank"
   ]
  },
  {
   "cell_type": "code",
   "execution_count": 2,
   "metadata": {},
   "outputs": [],
   "source": [
    "import sys\n",
    "sys.path.insert(0, '../../src_tf/')\n",
    "\n",
    "import numpy as np\n",
    "import qiskit as qk\n",
    "import matplotlib.pyplot as plt\n",
    "import multiprocessing as mp\n",
    "import random\n",
    "import pickle\n",
    "\n",
    "from qiskit.quantum_info import DensityMatrix, random_unitary\n",
    "from qiskit.quantum_info import Operator\n",
    "from scipy.linalg import sqrtm\n",
    "from tqdm.notebook import tqdm\n",
    "from math import ceil\n",
    "\n",
    "from loss_functions import *\n",
    "from optimization import *\n",
    "from quantum_channel import *\n",
    "from kraus_channels import *\n",
    "from quantum_tools import *\n",
    "from experimental import *\n",
    "from spam import *\n",
    "from scipy.stats import gaussian_kde\n",
    "from quantum_circuits import *\n",
    "\n",
    "#np.set_printoptions(threshold=sys.maxsize)\n",
    "np.set_printoptions(precision=4)\n",
    "\n",
    "import os\n",
    "os.environ[\"CUDA_VISIBLE_DEVICES\"] = \"-1\""
   ]
  },
  {
   "cell_type": "markdown",
   "metadata": {},
   "source": [
    "## Real Hardware"
   ]
  },
  {
   "cell_type": "code",
   "execution_count": 3,
   "metadata": {},
   "outputs": [],
   "source": [
    "n = 3\n",
    "d = 2**n"
   ]
  },
  {
   "cell_type": "code",
   "execution_count": 4,
   "metadata": {
    "scrolled": true
   },
   "outputs": [
    {
     "data": {
      "application/vnd.jupyter.widget-view+json": {
       "model_id": "a7f894164d304f61b1a8c7e0059a417b",
       "version_major": 2,
       "version_minor": 0
      },
      "text/plain": [
       "  0%|          | 0/4000 [00:00<?, ?it/s]"
      ]
     },
     "metadata": {},
     "output_type": "display_data"
    },
    {
     "name": "stdout",
     "output_type": "stream",
     "text": [
      "0.0029162906585489977\n"
     ]
    },
    {
     "data": {
      "application/vnd.jupyter.widget-view+json": {
       "model_id": "dcfcd988b2764f64af44550220f3f2dc",
       "version_major": 2,
       "version_minor": 0
      },
      "text/plain": [
       "  0%|          | 0/4000 [00:00<?, ?it/s]"
      ]
     },
     "metadata": {},
     "output_type": "display_data"
    }
   ],
   "source": [
    "model1 =fit_model(channel=KrausMap(d=d, \n",
    "                                   rank=64),\n",
    "                  spam=SPAM(init = InitialState(d),\n",
    "                            povm = CorruptionMatrix(d),\n",
    "                            optimizer = tf.optimizers.Adam(learning_rate=0.01),\n",
    "                            ),\n",
    "                  N_map=500,\n",
    "                  N_spam=None,\n",
    "                  num_iter_map=2000,\n",
    "                  num_iter_spam=2000,\n",
    "                  filename=\"belem_concatenate_4layer0\",\n",
    "                  verbose=True\n",
    "                  )"
   ]
  },
  {
   "cell_type": "code",
   "execution_count": 5,
   "metadata": {},
   "outputs": [
    {
     "data": {
      "application/vnd.jupyter.widget-view+json": {
       "model_id": "2648096427594d479ea5a1d484b23e9b",
       "version_major": 2,
       "version_minor": 0
      },
      "text/plain": [
       "  0%|          | 0/2000 [00:00<?, ?it/s]"
      ]
     },
     "metadata": {},
     "output_type": "display_data"
    },
    {
     "name": "stdout",
     "output_type": "stream",
     "text": [
      "0.0029277294279222233\n"
     ]
    },
    {
     "data": {
      "application/vnd.jupyter.widget-view+json": {
       "model_id": "b7a6cacead474b12905212855876bfe3",
       "version_major": 2,
       "version_minor": 0
      },
      "text/plain": [
       "  0%|          | 0/2000 [00:00<?, ?it/s]"
      ]
     },
     "metadata": {},
     "output_type": "display_data"
    }
   ],
   "source": [
    "model2 =fit_model(channel=KrausMap(d=d, \n",
    "                                   rank=64),\n",
    "                  spam=SPAM(init = InitialState(d),\n",
    "                            povm = CorruptionMatrix(d),\n",
    "                            optimizer = tf.optimizers.Adam(learning_rate=0.01),\n",
    "                            ),\n",
    "                  N_map=500,\n",
    "                  N_spam=None,\n",
    "                  num_iter_map=2000,\n",
    "                  num_iter_spam=2000,\n",
    "                  filename=\"belem_concatenate_4layer1\",\n",
    "                  verbose=True\n",
    "                  )"
   ]
  },
  {
   "cell_type": "code",
   "execution_count": 6,
   "metadata": {},
   "outputs": [
    {
     "data": {
      "application/vnd.jupyter.widget-view+json": {
       "model_id": "6756bd9bdec04f91841776ec2a241646",
       "version_major": 2,
       "version_minor": 0
      },
      "text/plain": [
       "  0%|          | 0/4000 [00:00<?, ?it/s]"
      ]
     },
     "metadata": {},
     "output_type": "display_data"
    },
    {
     "name": "stdout",
     "output_type": "stream",
     "text": [
      "0.002867661830198437\n"
     ]
    },
    {
     "data": {
      "application/vnd.jupyter.widget-view+json": {
       "model_id": "2b7f6f6b8d8f47d3aa2fe95cf8f70214",
       "version_major": 2,
       "version_minor": 0
      },
      "text/plain": [
       "  0%|          | 0/4000 [00:00<?, ?it/s]"
      ]
     },
     "metadata": {},
     "output_type": "display_data"
    }
   ],
   "source": [
    "model_full = fit_model(channel=KrausMap(d=d, \n",
    "                                        rank=64),\n",
    "                       spam=SPAM(init = InitialState(d),\n",
    "                                 povm = CorruptionMatrix(d),\n",
    "                                 optimizer = tf.optimizers.Adam(learning_rate=0.01),\n",
    "                                ),\n",
    "                      N_map=500,\n",
    "                      N_spam=None,\n",
    "                      num_iter_map=2000,\n",
    "                      num_iter_spam=2000,\n",
    "                      filename=\"belem_concatenate_4layer2\",\n",
    "                      verbose = True,\n",
    "                  )"
   ]
  },
  {
   "cell_type": "code",
   "execution_count": 19,
   "metadata": {},
   "outputs": [],
   "source": [
    "channel1 = model1.channel\n",
    "channel2 = model2.channel\n",
    "channel_concat = channel_to_choi_map([channel1, channel2])\n",
    "channel_full = model_full.channel"
   ]
  },
  {
   "cell_type": "code",
   "execution_count": 21,
   "metadata": {},
   "outputs": [],
   "source": [
    "n = 3\n",
    "d = 2**n\n",
    "\n",
    "np.random.seed(42)\n",
    "random.seed(42)\n",
    "\n",
    "circuit_target1 = pqc_basic(n, 4).reverse_bits()\n",
    "circuit_target2 = pqc_basic(n, 4).reverse_bits()\n",
    "\n",
    "circuit_target12 = deepcopy(circuit_target1)\n",
    "circuit_target12 = circuit_target12.compose(circuit_target2)\n",
    "circuit_target_list = [circuit_target1, circuit_target2, circuit_target12]"
   ]
  },
  {
   "cell_type": "code",
   "execution_count": 26,
   "metadata": {},
   "outputs": [],
   "source": [
    "U1 = Operator(circuit_target1).data\n",
    "U2 = Operator(circuit_target2).data\n",
    "U_full = Operator(circuit_target12).data"
   ]
  },
  {
   "cell_type": "code",
   "execution_count": 29,
   "metadata": {},
   "outputs": [],
   "source": [
    "channel_ideal1 = DilutedKrausMap(U1, c=0.999, d=d, rank=1)\n",
    "channel_ideal2 = DilutedKrausMap(U2, c=0.999, d=d, rank=1)\n",
    "channel_ideal_full = DilutedKrausMap(U_full, c=0.999, d=d, rank=1)"
   ]
  },
  {
   "cell_type": "code",
   "execution_count": 38,
   "metadata": {},
   "outputs": [
    {
     "name": "stdout",
     "output_type": "stream",
     "text": [
      " U1 vs T1: 0.5198\n",
      " U2 vs T2: 0.5677\n",
      " U Full vs T Full: 0.4361\n",
      " U Full vs T2*T1: 0.3049\n",
      " T Full vs T2*T1: 0.6732\n"
     ]
    }
   ],
   "source": [
    "print(f\" U1 vs T1: {channel_fidelity(channel_ideal1, channel1):.4f}\")\n",
    "print(f\" U2 vs T2: {channel_fidelity(channel_ideal2, channel2):.4f}\")\n",
    "\n",
    "print(f\" U Full vs T Full: {channel_fidelity(channel_ideal_full, channel_full):.4f}\")\n",
    "print(f\" U Full vs T2*T1: {channel_fidelity(channel_ideal_full, channel_concat):.4f}\")\n",
    "      \n",
    "print(f\" T Full vs T2*T1: {channel_fidelity(channel_full, channel_concat):.4f}\")"
   ]
  },
  {
   "cell_type": "code",
   "execution_count": 32,
   "metadata": {},
   "outputs": [
    {
     "data": {
      "application/vnd.jupyter.widget-view+json": {
       "model_id": "05bb994ba12e470e99ffe59e5cf6ddde",
       "version_major": 2,
       "version_minor": 0
      },
      "text/plain": [
       "  0%|          | 0/2000 [00:00<?, ?it/s]"
      ]
     },
     "metadata": {},
     "output_type": "display_data"
    },
    {
     "name": "stdout",
     "output_type": "stream",
     "text": [
      "0.002837134406602385\n"
     ]
    },
    {
     "data": {
      "application/vnd.jupyter.widget-view+json": {
       "model_id": "0eebf0ea2dde41e2bbcca5fe4711609f",
       "version_major": 2,
       "version_minor": 0
      },
      "text/plain": [
       "  0%|          | 0/2000 [00:00<?, ?it/s]"
      ]
     },
     "metadata": {},
     "output_type": "display_data"
    }
   ],
   "source": [
    "model1 = fit_model(channel=KrausMap(d=d, \n",
    "                                    rank=64),\n",
    "                   spam=SPAM(init = InitialState(d),\n",
    "                             povm = CorruptionMatrix(d),\n",
    "                             optimizer = tf.optimizers.Adam(learning_rate=0.01),\n",
    "                             ),\n",
    "                   N_map=500,\n",
    "                   N_spam=None,\n",
    "                   num_iter_map=2000,\n",
    "                   num_iter_spam=2000,\n",
    "                   filename=\"belem_concatenate_8layer0\",\n",
    "                   verbose=True\n",
    "                   )"
   ]
  },
  {
   "cell_type": "code",
   "execution_count": 33,
   "metadata": {},
   "outputs": [
    {
     "data": {
      "application/vnd.jupyter.widget-view+json": {
       "model_id": "1b6c61d807e0426c86e17a93537e1d26",
       "version_major": 2,
       "version_minor": 0
      },
      "text/plain": [
       "  0%|          | 0/2000 [00:00<?, ?it/s]"
      ]
     },
     "metadata": {},
     "output_type": "display_data"
    },
    {
     "name": "stdout",
     "output_type": "stream",
     "text": [
      "0.0029792934991362437\n"
     ]
    },
    {
     "data": {
      "application/vnd.jupyter.widget-view+json": {
       "model_id": "e01145d79a7a4f2e839f444287590d53",
       "version_major": 2,
       "version_minor": 0
      },
      "text/plain": [
       "  0%|          | 0/2000 [00:00<?, ?it/s]"
      ]
     },
     "metadata": {},
     "output_type": "display_data"
    }
   ],
   "source": [
    "model2 = fit_model(channel=KrausMap(d=d, \n",
    "                                    rank=64),\n",
    "                   spam=SPAM(init = InitialState(d),\n",
    "                             povm = CorruptionMatrix(d),\n",
    "                             optimizer = tf.optimizers.Adam(learning_rate=0.01),\n",
    "                             ),\n",
    "                   N_map=500,\n",
    "                   N_spam=None,\n",
    "                   num_iter_map=2000,\n",
    "                   num_iter_spam=2000,\n",
    "                   filename=\"belem_concatenate_8layer1\",\n",
    "                   verbose=True\n",
    "                   )"
   ]
  },
  {
   "cell_type": "code",
   "execution_count": 34,
   "metadata": {},
   "outputs": [
    {
     "data": {
      "application/vnd.jupyter.widget-view+json": {
       "model_id": "fbabb41511d849429f643fbe25088496",
       "version_major": 2,
       "version_minor": 0
      },
      "text/plain": [
       "  0%|          | 0/2000 [00:00<?, ?it/s]"
      ]
     },
     "metadata": {},
     "output_type": "display_data"
    },
    {
     "name": "stdout",
     "output_type": "stream",
     "text": [
      "0.003157538763345682\n"
     ]
    },
    {
     "data": {
      "application/vnd.jupyter.widget-view+json": {
       "model_id": "72a728bc2a5b4c8eb1c0defac2c995a1",
       "version_major": 2,
       "version_minor": 0
      },
      "text/plain": [
       "  0%|          | 0/2000 [00:00<?, ?it/s]"
      ]
     },
     "metadata": {},
     "output_type": "display_data"
    }
   ],
   "source": [
    "model3 = fit_model(channel=KrausMap(d=d, \n",
    "                                    rank=64),\n",
    "                   spam=SPAM(init = InitialState(d),\n",
    "                             povm = CorruptionMatrix(d),\n",
    "                             optimizer = tf.optimizers.Adam(learning_rate=0.01),\n",
    "                             ),\n",
    "                   N_map=500,\n",
    "                   N_spam=None,\n",
    "                   num_iter_map=2000,\n",
    "                   num_iter_spam=2000,\n",
    "                   filename=\"belem_concatenate_8layer2\",\n",
    "                   verbose=True\n",
    "                   )"
   ]
  },
  {
   "cell_type": "code",
   "execution_count": 43,
   "metadata": {},
   "outputs": [],
   "source": [
    "channel1 = model1.channel\n",
    "channel2 = model2.channel\n",
    "channel_concat = channel_to_choi_map([channel1, channel2])\n",
    "channel_full = model3.channel"
   ]
  },
  {
   "cell_type": "code",
   "execution_count": 44,
   "metadata": {},
   "outputs": [],
   "source": [
    "n = 3\n",
    "d = 2**n\n",
    "\n",
    "np.random.seed(42)\n",
    "random.seed(42)\n",
    "\n",
    "circuit_target1 = pqc_basic(n, 8).reverse_bits()\n",
    "circuit_target2 = pqc_basic(n, 8).reverse_bits()\n",
    "\n",
    "circuit_target12 = deepcopy(circuit_target1)\n",
    "circuit_target12 = circuit_target12.compose(circuit_target2)\n",
    "circuit_target_list = [circuit_target1, circuit_target2, circuit_target12]"
   ]
  },
  {
   "cell_type": "code",
   "execution_count": 45,
   "metadata": {},
   "outputs": [],
   "source": [
    "U1 = Operator(circuit_target1).data\n",
    "U2 = Operator(circuit_target2).data\n",
    "U_full = Operator(circuit_target12).data\n",
    "\n",
    "channel_ideal1 = DilutedKrausMap(U1, c=0.999, d=d, rank=1)\n",
    "channel_ideal2 = DilutedKrausMap(U2, c=0.999, d=d, rank=1)\n",
    "channel_ideal_full = DilutedKrausMap(U_full, c=0.999, d=d, rank=1)"
   ]
  },
  {
   "cell_type": "code",
   "execution_count": 46,
   "metadata": {},
   "outputs": [
    {
     "name": "stdout",
     "output_type": "stream",
     "text": [
      " U1 vs T1: 0.4301\n",
      " U2 vs T2: 0.4607\n",
      " U Full vs T Full: 0.2764\n",
      " U Full vs T2*T1: 0.2006\n",
      " T Full vs T2*T1: 0.6995\n"
     ]
    }
   ],
   "source": [
    "print(f\" U1 vs T1: {channel_fidelity(channel_ideal1, channel1):.4f}\")\n",
    "print(f\" U2 vs T2: {channel_fidelity(channel_ideal2, channel2):.4f}\")\n",
    "\n",
    "print(f\" U Full vs T Full: {channel_fidelity(channel_ideal_full, channel_full):.4f}\")\n",
    "print(f\" U Full vs T2*T1: {channel_fidelity(channel_ideal_full, channel_concat):.4f}\")\n",
    "      \n",
    "print(f\" T Full vs T2*T1: {channel_fidelity(channel_full, channel_concat):.4f}\")"
   ]
  },
  {
   "cell_type": "code",
   "execution_count": 48,
   "metadata": {},
   "outputs": [
    {
     "data": {
      "application/vnd.jupyter.widget-view+json": {
       "model_id": "4c2aeb74038a4984bcd6eaf9a62da698",
       "version_major": 2,
       "version_minor": 0
      },
      "text/plain": [
       "  0%|          | 0/2000 [00:00<?, ?it/s]"
      ]
     },
     "metadata": {},
     "output_type": "display_data"
    },
    {
     "name": "stdout",
     "output_type": "stream",
     "text": [
      "0.0029895005191711474\n"
     ]
    },
    {
     "data": {
      "application/vnd.jupyter.widget-view+json": {
       "model_id": "e3dc5388761f4ed0b7c1ef2a52c8b91d",
       "version_major": 2,
       "version_minor": 0
      },
      "text/plain": [
       "  0%|          | 0/2000 [00:00<?, ?it/s]"
      ]
     },
     "metadata": {},
     "output_type": "display_data"
    }
   ],
   "source": [
    "model1 = fit_model(channel=KrausMap(d=d, \n",
    "                                    rank=64),\n",
    "                   spam=SPAM(init = InitialState(d),\n",
    "                             povm = CorruptionMatrix(d),\n",
    "                             optimizer = tf.optimizers.Adam(learning_rate=0.01),\n",
    "                             ),\n",
    "                   N_map=500,\n",
    "                   N_spam=None,\n",
    "                   num_iter_map=2000,\n",
    "                   num_iter_spam=2000,\n",
    "                   filename=\"belem_concatenate_12layer0\",\n",
    "                   verbose=True\n",
    "                   )"
   ]
  },
  {
   "cell_type": "code",
   "execution_count": 49,
   "metadata": {},
   "outputs": [
    {
     "data": {
      "application/vnd.jupyter.widget-view+json": {
       "model_id": "4008126a144c4cc8b17281e92f36f1d2",
       "version_major": 2,
       "version_minor": 0
      },
      "text/plain": [
       "  0%|          | 0/2000 [00:00<?, ?it/s]"
      ]
     },
     "metadata": {},
     "output_type": "display_data"
    },
    {
     "name": "stdout",
     "output_type": "stream",
     "text": [
      "0.003056282783368792\n"
     ]
    },
    {
     "data": {
      "application/vnd.jupyter.widget-view+json": {
       "model_id": "27e7f8cdac2c4dc981304bd0176b696a",
       "version_major": 2,
       "version_minor": 0
      },
      "text/plain": [
       "  0%|          | 0/2000 [00:00<?, ?it/s]"
      ]
     },
     "metadata": {},
     "output_type": "display_data"
    }
   ],
   "source": [
    "model2 = fit_model(channel=KrausMap(d=d, \n",
    "                                    rank=64),\n",
    "                   spam=SPAM(init = InitialState(d),\n",
    "                             povm = CorruptionMatrix(d),\n",
    "                             optimizer = tf.optimizers.Adam(learning_rate=0.01),\n",
    "                             ),\n",
    "                   N_map=500,\n",
    "                   N_spam=None,\n",
    "                   num_iter_map=2000,\n",
    "                   num_iter_spam=2000,\n",
    "                   filename=\"belem_concatenate_12layer1\",\n",
    "                   verbose=True\n",
    "                   )"
   ]
  },
  {
   "cell_type": "code",
   "execution_count": 50,
   "metadata": {},
   "outputs": [
    {
     "data": {
      "application/vnd.jupyter.widget-view+json": {
       "model_id": "410690f1d6304673a7325af9e69a9a70",
       "version_major": 2,
       "version_minor": 0
      },
      "text/plain": [
       "  0%|          | 0/2000 [00:00<?, ?it/s]"
      ]
     },
     "metadata": {},
     "output_type": "display_data"
    },
    {
     "name": "stdout",
     "output_type": "stream",
     "text": [
      "0.003067306695876659\n"
     ]
    },
    {
     "data": {
      "application/vnd.jupyter.widget-view+json": {
       "model_id": "cbe0d022675447c583b6f8770e853dfe",
       "version_major": 2,
       "version_minor": 0
      },
      "text/plain": [
       "  0%|          | 0/2000 [00:00<?, ?it/s]"
      ]
     },
     "metadata": {},
     "output_type": "display_data"
    }
   ],
   "source": [
    "model3 = fit_model(channel=KrausMap(d=d, \n",
    "                                    rank=64),\n",
    "                   spam=SPAM(init = InitialState(d),\n",
    "                             povm = CorruptionMatrix(d),\n",
    "                             optimizer = tf.optimizers.Adam(learning_rate=0.01),\n",
    "                             ),\n",
    "                   N_map=500,\n",
    "                   N_spam=None,\n",
    "                   num_iter_map=2000,\n",
    "                   num_iter_spam=2000,\n",
    "                   filename=\"belem_concatenate_12layer2\",\n",
    "                   verbose=True\n",
    "                   )"
   ]
  },
  {
   "cell_type": "code",
   "execution_count": 54,
   "metadata": {},
   "outputs": [],
   "source": [
    "channel1 = model1.channel\n",
    "channel2 = model2.channel\n",
    "channel_concat = channel_to_choi_map([channel1, channel2])\n",
    "channel_full = model3.channel"
   ]
  },
  {
   "cell_type": "code",
   "execution_count": 55,
   "metadata": {},
   "outputs": [],
   "source": [
    "n = 3\n",
    "d = 2**n\n",
    "\n",
    "np.random.seed(42)\n",
    "random.seed(42)\n",
    "\n",
    "circuit_target1 = pqc_basic(n, 12).reverse_bits()\n",
    "circuit_target2 = pqc_basic(n, 12).reverse_bits()\n",
    "\n",
    "circuit_target12 = deepcopy(circuit_target1)\n",
    "circuit_target12 = circuit_target12.compose(circuit_target2)\n",
    "circuit_target_list = [circuit_target1, circuit_target2, circuit_target12]"
   ]
  },
  {
   "cell_type": "code",
   "execution_count": 56,
   "metadata": {},
   "outputs": [],
   "source": [
    "U1 = Operator(circuit_target1).data\n",
    "U2 = Operator(circuit_target2).data\n",
    "U_full = Operator(circuit_target12).data\n",
    "\n",
    "channel_ideal1 = DilutedKrausMap(U1, c=0.999, d=d, rank=1)\n",
    "channel_ideal2 = DilutedKrausMap(U2, c=0.999, d=d, rank=1)\n",
    "channel_ideal_full = DilutedKrausMap(U_full, c=0.999, d=d, rank=1)"
   ]
  },
  {
   "cell_type": "code",
   "execution_count": 57,
   "metadata": {},
   "outputs": [
    {
     "name": "stdout",
     "output_type": "stream",
     "text": [
      " U1 vs T1: 0.3538\n",
      " U2 vs T2: 0.3046\n",
      " U Full vs T Full: 0.1634\n",
      " U Full vs T2*T1: 0.1138\n",
      " T Full vs T2*T1: 0.7215\n"
     ]
    }
   ],
   "source": [
    "print(f\" U1 vs T1: {channel_fidelity(channel_ideal1, channel1):.4f}\")\n",
    "print(f\" U2 vs T2: {channel_fidelity(channel_ideal2, channel2):.4f}\")\n",
    "\n",
    "print(f\" U Full vs T Full: {channel_fidelity(channel_ideal_full, channel_full):.4f}\")\n",
    "print(f\" U Full vs T2*T1: {channel_fidelity(channel_ideal_full, channel_concat):.4f}\")\n",
    "      \n",
    "print(f\" T Full vs T2*T1: {channel_fidelity(channel_full, channel_concat):.4f}\")"
   ]
  },
  {
   "cell_type": "code",
   "execution_count": null,
   "metadata": {},
   "outputs": [],
   "source": []
  }
 ],
 "metadata": {
  "kernelspec": {
   "display_name": "env_qiskit",
   "language": "python",
   "name": "env_qiskit"
  },
  "language_info": {
   "codemirror_mode": {
    "name": "ipython",
    "version": 3
   },
   "file_extension": ".py",
   "mimetype": "text/x-python",
   "name": "python",
   "nbconvert_exporter": "python",
   "pygments_lexer": "ipython3",
   "version": "3.10.4"
  }
 },
 "nbformat": 4,
 "nbformat_minor": 4
}
