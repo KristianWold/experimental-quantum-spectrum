{
 "cells": [
  {
   "cell_type": "markdown",
   "metadata": {},
   "source": [
    "# Effective Kraus Rank"
   ]
  },
  {
   "cell_type": "code",
   "execution_count": 2,
   "metadata": {},
   "outputs": [
    {
     "name": "stderr",
     "output_type": "stream",
     "text": [
      "C:\\Users\\krisw\\Documents\\ModelNISQ\\notebooks\\experiments\\../../src_tf\\experiments.py:264: SyntaxWarning: \"is\" with a literal. Did you mean \"==\"?\n",
      "  if init is \"random\":\n",
      "C:\\Users\\krisw\\Documents\\ModelNISQ\\notebooks\\experiments\\../../src_tf\\experiments.py:268: SyntaxWarning: \"is\" with a literal. Did you mean \"==\"?\n",
      "  elif init is \"ideal\":\n",
      "C:\\Users\\krisw\\Documents\\ModelNISQ\\notebooks\\experiments\\../../src_tf\\experiments.py:278: SyntaxWarning: \"is\" with a literal. Did you mean \"==\"?\n",
      "  if povm is \"random\":\n",
      "C:\\Users\\krisw\\Documents\\ModelNISQ\\notebooks\\experiments\\../../src_tf\\experiments.py:286: SyntaxWarning: \"is\" with a literal. Did you mean \"==\"?\n",
      "  elif povm is \"ideal\":\n"
     ]
    }
   ],
   "source": [
    "import sys\n",
    "sys.path.insert(0, '../../src_tf/')\n",
    "\n",
    "import numpy as np\n",
    "import qiskit as qk\n",
    "import matplotlib.pyplot as plt\n",
    "import multiprocessing as mp\n",
    "import random\n",
    "import pickle\n",
    "\n",
    "from qiskit.quantum_info import DensityMatrix\n",
    "from qiskit.quantum_info import Operator\n",
    "from scipy.linalg import sqrtm\n",
    "from tqdm.notebook import tqdm\n",
    "\n",
    "from loss_functions import *\n",
    "from optimization import *\n",
    "from quantum_maps import *\n",
    "from quantum_tools import *\n",
    "from experiments import *\n",
    "\n",
    "#np.set_printoptions(threshold=sys.maxsize)\n",
    "np.set_printoptions(precision=4)\n",
    "\n",
    "#import os\n",
    "#os.environ[\"CUDA_VISIBLE_DEVICES\"] = \"-1\""
   ]
  },
  {
   "cell_type": "markdown",
   "metadata": {},
   "source": [
    "## Real Hardware"
   ]
  },
  {
   "cell_type": "code",
   "execution_count": 33,
   "metadata": {},
   "outputs": [],
   "source": [
    "n = 3\n",
    "d = 2**n"
   ]
  },
  {
   "cell_type": "code",
   "execution_count": 34,
   "metadata": {
    "scrolled": true
   },
   "outputs": [
    {
     "data": {
      "application/vnd.jupyter.widget-view+json": {
       "model_id": "671bf901087049379a943d91ea3ff059",
       "version_major": 2,
       "version_minor": 0
      },
      "text/plain": [
       "  0%|          | 0/300 [00:00<?, ?it/s]"
      ]
     },
     "metadata": {},
     "output_type": "display_data"
    },
    {
     "name": "stdout",
     "output_type": "stream",
     "text": [
      "3.806583148768781e-05\n"
     ]
    },
    {
     "data": {
      "application/vnd.jupyter.widget-view+json": {
       "model_id": "d1e49077f4824694a9c8bb61a8816ddf",
       "version_major": 2,
       "version_minor": 0
      },
      "text/plain": [
       "  0%|          | 0/1000 [00:00<?, ?it/s]"
      ]
     },
     "metadata": {},
     "output_type": "display_data"
    },
    {
     "name": "stdout",
     "output_type": "stream",
     "text": [
      "0.00040995797244320096\n"
     ]
    },
    {
     "data": {
      "application/vnd.jupyter.widget-view+json": {
       "model_id": "e2745f13f5d341bba13bc417f5455ca8",
       "version_major": 2,
       "version_minor": 0
      },
      "text/plain": [
       "  0%|          | 0/2000 [00:00<?, ?it/s]"
      ]
     },
     "metadata": {},
     "output_type": "display_data"
    },
    {
     "name": "stdout",
     "output_type": "stream",
     "text": [
      "0.0027734484936107195 0\n"
     ]
    }
   ],
   "source": [
    "inputs_map, inputs_spam, counts_map_list =  pickle.load(open(\"../../data/threeQubits_variational_3.p\", \"rb\"))\n",
    "\n",
    "targets_map = counts_to_probs(counts_map_list[:1000-6**n])\n",
    "targets_spam = counts_to_probs(counts_map_list[1000-6**n:])\n",
    "\n",
    "\n",
    "np.random.seed(42)\n",
    "random.seed(42)\n",
    "tf.random.set_seed(42)\n",
    "\n",
    "spam_model = SPAM(d=d,\n",
    "                  use_corr_mat=True,\n",
    "                  optimizer = tf.optimizers.Adam(learning_rate=0.01))\n",
    "\n",
    "spam_model.pretrain(targets = [init_ideal(d), povm_ideal(d)],\n",
    "                num_iter = 300,\n",
    "                verbose = False,\n",
    "                )\n",
    "\n",
    "spam_model.train(inputs = inputs_spam,\n",
    "                 targets = targets_spam,\n",
    "                 num_iter = 1000,\n",
    "                 verbose = False,\n",
    "                 )\n",
    "\n",
    "\n",
    "kraus_model = KrausMap(d = d, \n",
    "                       rank = 8,\n",
    "                       spam = spam_model,\n",
    "                       )\n",
    "\n",
    "model_L1 = ModelQuantumMap(\n",
    "                        q_map = kraus_model,\n",
    "                        loss = probs_loss,\n",
    "                        optimizer = tf.optimizers.Adam(learning_rate=0.01),\n",
    "                       )\n",
    "\n",
    "\n",
    "model_L1.train(inputs = inputs_map,\n",
    "               targets = targets_map,\n",
    "               num_iter = 2000,\n",
    "               verbose = False,\n",
    "               )"
   ]
  },
  {
   "cell_type": "code",
   "execution_count": 35,
   "metadata": {},
   "outputs": [
    {
     "data": {
      "application/vnd.jupyter.widget-view+json": {
       "model_id": "8050920f67f94c7aa78a1f1e4daa75d2",
       "version_major": 2,
       "version_minor": 0
      },
      "text/plain": [
       "  0%|          | 0/300 [00:00<?, ?it/s]"
      ]
     },
     "metadata": {},
     "output_type": "display_data"
    },
    {
     "name": "stdout",
     "output_type": "stream",
     "text": [
      "3.806583148768781e-05\n"
     ]
    },
    {
     "data": {
      "application/vnd.jupyter.widget-view+json": {
       "model_id": "f2a48aff2c7840a0a6748468f8273f74",
       "version_major": 2,
       "version_minor": 0
      },
      "text/plain": [
       "  0%|          | 0/1000 [00:00<?, ?it/s]"
      ]
     },
     "metadata": {},
     "output_type": "display_data"
    },
    {
     "name": "stdout",
     "output_type": "stream",
     "text": [
      "0.00040238130576414355\n"
     ]
    },
    {
     "data": {
      "application/vnd.jupyter.widget-view+json": {
       "model_id": "2657b96f032448aaa701020dd5ed35fc",
       "version_major": 2,
       "version_minor": 0
      },
      "text/plain": [
       "  0%|          | 0/2000 [00:00<?, ?it/s]"
      ]
     },
     "metadata": {},
     "output_type": "display_data"
    },
    {
     "name": "stdout",
     "output_type": "stream",
     "text": [
      "0.002062635325599025 0\n"
     ]
    }
   ],
   "source": [
    "inputs_map, inputs_spam, counts_map_list =  pickle.load(open(\"../../data/threeQubits_variational_3_2.p\", \"rb\"))\n",
    "\n",
    "targets_map = counts_to_probs(counts_map_list[:1000-6**n])\n",
    "targets_spam = counts_to_probs(counts_map_list[1000-6**n:])\n",
    "\n",
    "\n",
    "np.random.seed(42)\n",
    "random.seed(42)\n",
    "tf.random.set_seed(42)\n",
    "\n",
    "spam_model = SPAM(d=d,\n",
    "                  use_corr_mat=True,\n",
    "                  optimizer = tf.optimizers.Adam(learning_rate=0.01))\n",
    "\n",
    "spam_model.pretrain(targets = [init_ideal(d), povm_ideal(d)],\n",
    "                num_iter = 300,\n",
    "                verbose = False,\n",
    "                )\n",
    "\n",
    "spam_model.train(inputs = inputs_spam,\n",
    "                 targets = targets_spam,\n",
    "                 num_iter = 1000,\n",
    "                 verbose = False,\n",
    "                 )\n",
    "\n",
    "\n",
    "kraus_model = KrausMap(d = d, \n",
    "                       rank = 8,\n",
    "                       spam = spam_model,\n",
    "                       )\n",
    "\n",
    "model_L2 = ModelQuantumMap(\n",
    "                        q_map = kraus_model,\n",
    "                        loss = probs_loss,\n",
    "                        optimizer = tf.optimizers.Adam(learning_rate=0.01),\n",
    "                       )\n",
    "\n",
    "\n",
    "model_L2.train(inputs = inputs_map,\n",
    "               targets = targets_map,\n",
    "               num_iter = 2000,\n",
    "               verbose = False,\n",
    "               )"
   ]
  },
  {
   "cell_type": "code",
   "execution_count": 36,
   "metadata": {},
   "outputs": [
    {
     "data": {
      "application/vnd.jupyter.widget-view+json": {
       "model_id": "026aeb69696f49b7b61786a2efee9018",
       "version_major": 2,
       "version_minor": 0
      },
      "text/plain": [
       "  0%|          | 0/300 [00:00<?, ?it/s]"
      ]
     },
     "metadata": {},
     "output_type": "display_data"
    },
    {
     "name": "stdout",
     "output_type": "stream",
     "text": [
      "3.806583148768781e-05\n"
     ]
    },
    {
     "data": {
      "application/vnd.jupyter.widget-view+json": {
       "model_id": "eaf78d3a5e5a48f78ce15a5c5a4a17a1",
       "version_major": 2,
       "version_minor": 0
      },
      "text/plain": [
       "  0%|          | 0/1000 [00:00<?, ?it/s]"
      ]
     },
     "metadata": {},
     "output_type": "display_data"
    },
    {
     "name": "stdout",
     "output_type": "stream",
     "text": [
      "0.0004194076455761547\n"
     ]
    },
    {
     "data": {
      "application/vnd.jupyter.widget-view+json": {
       "model_id": "072ee04be9ff4579a5255f14332feb35",
       "version_major": 2,
       "version_minor": 0
      },
      "text/plain": [
       "  0%|          | 0/2000 [00:00<?, ?it/s]"
      ]
     },
     "metadata": {},
     "output_type": "display_data"
    },
    {
     "name": "stdout",
     "output_type": "stream",
     "text": [
      "0.002526849762442614 0\n"
     ]
    }
   ],
   "source": [
    "inputs_map, inputs_spam, counts_map_list =  pickle.load(open(\"../../data/threeQubits_variational_6.p\", \"rb\"))\n",
    "\n",
    "targets_map = counts_to_probs(counts_map_list[:1000-6**n])\n",
    "targets_spam = counts_to_probs(counts_map_list[1000-6**n:])\n",
    "\n",
    "\n",
    "np.random.seed(42)\n",
    "random.seed(42)\n",
    "tf.random.set_seed(42)\n",
    "\n",
    "spam_model = SPAM(d=d,\n",
    "                  use_corr_mat=True,\n",
    "                  optimizer = tf.optimizers.Adam(learning_rate=0.01))\n",
    "\n",
    "spam_model.pretrain(targets = [init_ideal(d), povm_ideal(d)],\n",
    "                num_iter = 300,\n",
    "                verbose = False,\n",
    "                )\n",
    "\n",
    "spam_model.train(inputs = inputs_spam,\n",
    "                 targets = targets_spam,\n",
    "                 num_iter = 1000,\n",
    "                 verbose = False,\n",
    "                 )\n",
    "\n",
    "\n",
    "kraus_model = KrausMap(d = d, \n",
    "                       rank = 16,\n",
    "                       spam = spam_model,\n",
    "                       )\n",
    "\n",
    "model_L12 = ModelQuantumMap(\n",
    "                        q_map = kraus_model,\n",
    "                        loss = probs_loss,\n",
    "                        optimizer = tf.optimizers.Adam(learning_rate=0.01),\n",
    "                       )\n",
    "\n",
    "\n",
    "model_L12.train(inputs = inputs_map,\n",
    "                targets = targets_map,\n",
    "                num_iter = 2000,\n",
    "                verbose = False,\n",
    "                )"
   ]
  },
  {
   "cell_type": "code",
   "execution_count": 37,
   "metadata": {},
   "outputs": [],
   "source": [
    "choi1 = maps_to_choi([model_L1.q_map, model_L2.q_map])\n",
    "choi2 = maps_to_choi([model_L12.q_map])"
   ]
  },
  {
   "cell_type": "code",
   "execution_count": 38,
   "metadata": {},
   "outputs": [
    {
     "name": "stdout",
     "output_type": "stream",
     "text": [
      "0.8138528496453707\n"
     ]
    }
   ],
   "source": [
    "fid = (state_fidelity(choi1, choi2)/d**2).numpy()\n",
    "print(fid)"
   ]
  },
  {
   "cell_type": "code",
   "execution_count": null,
   "metadata": {},
   "outputs": [],
   "source": []
  }
 ],
 "metadata": {
  "kernelspec": {
   "display_name": "env_qiskit",
   "language": "python",
   "name": "env_qiskit"
  },
  "language_info": {
   "codemirror_mode": {
    "name": "ipython",
    "version": 3
   },
   "file_extension": ".py",
   "mimetype": "text/x-python",
   "name": "python",
   "nbconvert_exporter": "python",
   "pygments_lexer": "ipython3",
   "version": "3.10.4"
  }
 },
 "nbformat": 4,
 "nbformat_minor": 4
}
