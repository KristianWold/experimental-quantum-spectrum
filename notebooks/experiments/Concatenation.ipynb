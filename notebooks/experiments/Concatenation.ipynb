{
 "cells": [
  {
   "cell_type": "markdown",
   "metadata": {},
   "source": [
    "# Effective Kraus Rank"
   ]
  },
  {
   "cell_type": "code",
   "execution_count": 1,
   "metadata": {},
   "outputs": [],
   "source": [
    "import sys\n",
    "sys.path.insert(0, '../../src_tf/')\n",
    "\n",
    "import numpy as np\n",
    "import qiskit as qk\n",
    "import matplotlib.pyplot as plt\n",
    "import multiprocessing as mp\n",
    "import random\n",
    "import pickle\n",
    "\n",
    "from qiskit.quantum_info import DensityMatrix, random_unitary\n",
    "from qiskit.quantum_info import Operator\n",
    "from scipy.linalg import sqrtm\n",
    "from tqdm.notebook import tqdm\n",
    "from math import ceil\n",
    "\n",
    "from loss_functions import *\n",
    "from optimization import *\n",
    "from quantum_channel import *\n",
    "from kraus_channels import *\n",
    "from quantum_tools import *\n",
    "from experimental import *\n",
    "from spam import *\n",
    "from scipy.stats import gaussian_kde\n",
    "from quantum_circuits import *\n",
    "\n",
    "#np.set_printoptions(threshold=sys.maxsize)\n",
    "np.set_printoptions(precision=4)\n",
    "\n",
    "import os\n",
    "os.environ[\"CUDA_VISIBLE_DEVICES\"] = \"-1\""
   ]
  },
  {
   "cell_type": "code",
   "execution_count": 2,
   "metadata": {},
   "outputs": [],
   "source": [
    "def evaluate_channel(channel, inputs, targets):\n",
    "    kl_div = KLDiv()\n",
    "    loss = kl_div(channel, inputs, targets)\n",
    "    return loss"
   ]
  },
  {
   "cell_type": "markdown",
   "metadata": {},
   "source": [
    "## Real Hardware"
   ]
  },
  {
   "cell_type": "code",
   "execution_count": 36,
   "metadata": {
    "scrolled": true
   },
   "outputs": [
    {
     "data": {
      "application/vnd.jupyter.widget-view+json": {
       "model_id": "722340b28f9c4a52b5a7bbd97a51ffc9",
       "version_major": 2,
       "version_minor": 0
      },
      "text/plain": [
       "  0%|          | 0/4000 [00:00<?, ?it/s]"
      ]
     },
     "metadata": {},
     "output_type": "display_data"
    },
    {
     "name": "stdout",
     "output_type": "stream",
     "text": [
      "0.0029526480899278247\n"
     ]
    },
    {
     "data": {
      "application/vnd.jupyter.widget-view+json": {
       "model_id": "d125d04893194c92a62d66565d393d37",
       "version_major": 2,
       "version_minor": 0
      },
      "text/plain": [
       "  0%|          | 0/4000 [00:00<?, ?it/s]"
      ]
     },
     "metadata": {},
     "output_type": "display_data"
    }
   ],
   "source": [
    "n = 3\n",
    "d = 2**n\n",
    "\n",
    "np.random.seed(42)\n",
    "random.seed(42)\n",
    "\n",
    "model1 =fit_model(channel=KrausMap(d=d, \n",
    "                                   rank=64),\n",
    "                  spam=SPAM(init = InitialState(d),\n",
    "                            povm = CorruptionMatrix(d),\n",
    "                            optimizer = tf.optimizers.Adam(learning_rate=0.01),\n",
    "                            ),\n",
    "                  N_map=500,\n",
    "                  N_spam=None,\n",
    "                  num_iter_map=4000,\n",
    "                  num_iter_spam=4000,\n",
    "                  filename=\"belem_concatenate_4layer0\",\n",
    "                  verbose=True\n",
    "                  )"
   ]
  },
  {
   "cell_type": "code",
   "execution_count": 37,
   "metadata": {},
   "outputs": [
    {
     "data": {
      "application/vnd.jupyter.widget-view+json": {
       "model_id": "9dc87ea4eb86480baee2b578a39d2ebe",
       "version_major": 2,
       "version_minor": 0
      },
      "text/plain": [
       "  0%|          | 0/4000 [00:00<?, ?it/s]"
      ]
     },
     "metadata": {},
     "output_type": "display_data"
    },
    {
     "name": "stdout",
     "output_type": "stream",
     "text": [
      "0.0028427745956133526\n"
     ]
    },
    {
     "data": {
      "application/vnd.jupyter.widget-view+json": {
       "model_id": "26438c0954b444b8a9e96e59e1c29e6e",
       "version_major": 2,
       "version_minor": 0
      },
      "text/plain": [
       "  0%|          | 0/4000 [00:00<?, ?it/s]"
      ]
     },
     "metadata": {},
     "output_type": "display_data"
    }
   ],
   "source": [
    "np.random.seed(42)\n",
    "random.seed(42)\n",
    "\n",
    "model2 =fit_model(channel=KrausMap(d=d, \n",
    "                                   rank=64),\n",
    "                  spam=SPAM(init = InitialState(d),\n",
    "                            povm = CorruptionMatrix(d),\n",
    "                            optimizer = tf.optimizers.Adam(learning_rate=0.01),\n",
    "                            ),\n",
    "                  N_map=500,\n",
    "                  N_spam=None,\n",
    "                  num_iter_map=4000,\n",
    "                  num_iter_spam=4000,\n",
    "                  filename=\"belem_concatenate_4layer1\",\n",
    "                  verbose=True\n",
    "                  )"
   ]
  },
  {
   "cell_type": "code",
   "execution_count": 38,
   "metadata": {},
   "outputs": [
    {
     "data": {
      "application/vnd.jupyter.widget-view+json": {
       "model_id": "8b09ef932de948c5b00926bd94859358",
       "version_major": 2,
       "version_minor": 0
      },
      "text/plain": [
       "  0%|          | 0/4000 [00:00<?, ?it/s]"
      ]
     },
     "metadata": {},
     "output_type": "display_data"
    },
    {
     "name": "stdout",
     "output_type": "stream",
     "text": [
      "0.0028636746735253137\n"
     ]
    },
    {
     "data": {
      "application/vnd.jupyter.widget-view+json": {
       "model_id": "9baf8729d92547c38e8ca77d93c7ecc4",
       "version_major": 2,
       "version_minor": 0
      },
      "text/plain": [
       "  0%|          | 0/4000 [00:00<?, ?it/s]"
      ]
     },
     "metadata": {},
     "output_type": "display_data"
    }
   ],
   "source": [
    "np.random.seed(42)\n",
    "random.seed(42)\n",
    "\n",
    "model_full = fit_model(channel=KrausMap(d=d, \n",
    "                                        rank=64),\n",
    "                       spam=SPAM(init = InitialState(d),\n",
    "                                 povm = CorruptionMatrix(d),\n",
    "                                 optimizer = tf.optimizers.Adam(learning_rate=0.01),\n",
    "                                ),\n",
    "                      N_map=500,\n",
    "                      N_spam=None,\n",
    "                      num_iter_map=4000,\n",
    "                      num_iter_spam=4000,\n",
    "                      filename=\"belem_concatenate_4layer2\",\n",
    "                      verbose = True,\n",
    "                  )"
   ]
  },
  {
   "cell_type": "code",
   "execution_count": 54,
   "metadata": {},
   "outputs": [],
   "source": [
    "channel1 = model1.channel\n",
    "channel2 = model2.channel\n",
    "channel_concat = channel_to_choi_map([channel1, channel2])\n",
    "channel_concat.spam = channel_full.spam\n",
    "\n",
    "channel_full = model_full.channel"
   ]
  },
  {
   "cell_type": "code",
   "execution_count": 55,
   "metadata": {},
   "outputs": [],
   "source": [
    "n = 3\n",
    "d = 2**n\n",
    "\n",
    "np.random.seed(42)\n",
    "random.seed(42)\n",
    "\n",
    "circuit_target1 = pqc_basic(n, 4).reverse_bits()\n",
    "circuit_target2 = pqc_basic(n, 4).reverse_bits()\n",
    "\n",
    "circuit_target_full = deepcopy(circuit_target1)\n",
    "circuit_target_full = circuit_target_full.compose(circuit_target2)\n",
    "\n",
    "U1 = Operator(circuit_target1).data\n",
    "U2 = Operator(circuit_target2).data\n",
    "U_full = Operator(circuit_target_full).data"
   ]
  },
  {
   "cell_type": "code",
   "execution_count": 56,
   "metadata": {},
   "outputs": [],
   "source": [
    "channel_ideal1 = DilutedKrausMap(U1, c=0.999, d=d, rank=1)\n",
    "channel_ideal2 = DilutedKrausMap(U2, c=0.999, d=d, rank=1)\n",
    "channel_ideal_full = DilutedKrausMap(U_full, c=0.999, d=d, rank=1)\n",
    "\n",
    "channel_ideal1.spam = channel1.spam\n",
    "channel_ideal2.spam = channel2.spam\n",
    "channel_ideal_full.spam = channel_full.spam"
   ]
  },
  {
   "cell_type": "code",
   "execution_count": 57,
   "metadata": {},
   "outputs": [
    {
     "name": "stdout",
     "output_type": "stream",
     "text": [
      " U1 vs T1: 0.5171\n",
      " U2 vs T2: 0.5656\n",
      " U Full vs T Full: 0.4364\n",
      " U Full vs T2*T1: 0.3014\n",
      " T Full vs T2*T1: 0.6713\n"
     ]
    }
   ],
   "source": [
    "print(f\" U1 vs T1: {channel_fidelity(channel_ideal1, channel1):.4f}\")\n",
    "print(f\" U2 vs T2: {channel_fidelity(channel_ideal2, channel2):.4f}\")\n",
    "\n",
    "print(f\" U Full vs T Full: {channel_fidelity(channel_ideal_full, channel_full):.4f}\")\n",
    "print(f\" U Full vs T2*T1: {channel_fidelity(channel_ideal_full, channel_concat):.4f}\")\n",
    "      \n",
    "print(f\" T Full vs T2*T1: {channel_fidelity(channel_full, channel_concat):.4f}\")"
   ]
  },
  {
   "cell_type": "code",
   "execution_count": 58,
   "metadata": {},
   "outputs": [],
   "source": [
    "inputs_map1, targets_map1, inputs_spam1, targets_spam1 = pickle.load(\n",
    "        open(f\"../../data/belem_concatenate_4layer0\", \"rb\")\n",
    "    )\n",
    "\n",
    "\n",
    "inputs_map2, targets_map2, inputs_spam2, targets_spam2 = pickle.load(\n",
    "        open(f\"../../data/belem_concatenate_4layer1\", \"rb\")\n",
    "    )\n",
    "\n",
    "inputs_map3, targets_map3, inputs_spam3, targets_spam3 = pickle.load(\n",
    "        open(f\"../../data/belem_concatenate_4layer2\", \"rb\")\n",
    "    )"
   ]
  },
  {
   "cell_type": "code",
   "execution_count": 59,
   "metadata": {},
   "outputs": [
    {
     "name": "stdout",
     "output_type": "stream",
     "text": [
      "0.1545\n",
      "0.0070\n",
      "0.1194\n",
      "0.0063\n",
      "0.1689\n",
      "0.0027\n",
      "0.0274\n"
     ]
    }
   ],
   "source": [
    "print(f\"{np.abs(evaluate_channel(channel_ideal1, inputs_map1, targets_map1)):.4f}\")\n",
    "print(f\"{np.abs(evaluate_channel(channel1, inputs_map1, targets_map1)):.4f}\")\n",
    "\n",
    "print(f\"{np.abs(evaluate_channel(channel_ideal2, inputs_map2, targets_map2)):.4f}\")\n",
    "print(f\"{np.abs(evaluate_channel(channel2, inputs_map2, targets_map2)):.4f}\")\n",
    "\n",
    "print(f\"{np.abs(evaluate_channel(channel_ideal_full, inputs_map3, targets_map3)):.4f}\")\n",
    "print(f\"{np.abs(evaluate_channel(channel_full, inputs_map3, targets_map3)):.4f}\")\n",
    "print(f\"{np.abs(evaluate_channel(channel_concat, inputs_map3, targets_map3)):.4f}\")"
   ]
  },
  {
   "cell_type": "code",
   "execution_count": 61,
   "metadata": {},
   "outputs": [
    {
     "name": "stdout",
     "output_type": "stream",
     "text": [
      "0.1545\n",
      "0.0979\n",
      "0.00700\n",
      "tf.Tensor(1.0802189590575544, shape=(), dtype=float64)\n"
     ]
    }
   ],
   "source": [
    "channel1_slice = channel_to_choi_map([channel_full, channel2], invert_list = [False, True])\n",
    "channel1_slice.spam = channel1.spam\n",
    "\n",
    "print(f\"{np.abs(evaluate_channel(channel_ideal1, inputs_map1, targets_map1)):.4f}\")\n",
    "print(f\"{np.abs(evaluate_channel(channel1_slice, inputs_map1, targets_map1)):.4f}\")\n",
    "print(f\"{np.abs(evaluate_channel(channel1, inputs_map1, targets_map1)):.5f}\")\n",
    "print(channel_fidelity(channel1, channel1_slice))"
   ]
  },
  {
   "cell_type": "code",
   "execution_count": 62,
   "metadata": {},
   "outputs": [
    {
     "name": "stdout",
     "output_type": "stream",
     "text": [
      "0.1194\n",
      "0.0939\n",
      "0.00629\n",
      "tf.Tensor(0.6896768509405781, shape=(), dtype=float64)\n"
     ]
    }
   ],
   "source": [
    "channel2_slice = channel_to_choi_map([channel1, channel_full], invert_list = [True, False])\n",
    "channel2_slice.spam = channel2.spam\n",
    "\n",
    "print(f\"{np.abs(evaluate_channel(channel_ideal2, inputs_map2, targets_map2)):.4f}\")\n",
    "print(f\"{np.abs(evaluate_channel(channel2_slice, inputs_map2, targets_map2)):.4f}\")\n",
    "print(f\"{np.abs(evaluate_channel(channel2, inputs_map2, targets_map2)):.5f}\")\n",
    "print(channel_fidelity(channel2_slice, channel2))"
   ]
  },
  {
   "cell_type": "markdown",
   "metadata": {},
   "source": [
    "## Ost"
   ]
  },
  {
   "cell_type": "code",
   "execution_count": 3,
   "metadata": {},
   "outputs": [
    {
     "data": {
      "application/vnd.jupyter.widget-view+json": {
       "model_id": "4d6493ef6a394aadbfd0106eb1fce49f",
       "version_major": 2,
       "version_minor": 0
      },
      "text/plain": [
       "  0%|          | 0/4000 [00:00<?, ?it/s]"
      ]
     },
     "metadata": {},
     "output_type": "display_data"
    },
    {
     "name": "stdout",
     "output_type": "stream",
     "text": [
      "0.0027129492824602593\n"
     ]
    },
    {
     "data": {
      "application/vnd.jupyter.widget-view+json": {
       "model_id": "2a822ece8f7444619b013ec69d372055",
       "version_major": 2,
       "version_minor": 0
      },
      "text/plain": [
       "  0%|          | 0/4000 [00:00<?, ?it/s]"
      ]
     },
     "metadata": {},
     "output_type": "display_data"
    }
   ],
   "source": [
    "n = 3\n",
    "d = 2**n\n",
    "\n",
    "np.random.seed(42)\n",
    "random.seed(42)\n",
    "\n",
    "model1 =fit_model(channel=KrausMap(d=d, \n",
    "                                   rank=64),\n",
    "                  spam=SPAM(init = InitialState(d),\n",
    "                            povm = CorruptionMatrix(d),\n",
    "                            optimizer = tf.optimizers.Adam(learning_rate=0.01),\n",
    "                            ),\n",
    "                  N_map=500,\n",
    "                  N_spam=None,\n",
    "                  num_iter_map=4000,\n",
    "                  num_iter_spam=4000,\n",
    "                  filename=\"belem_concatenate_8layer0\",\n",
    "                  verbose=True\n",
    "                  )"
   ]
  },
  {
   "cell_type": "code",
   "execution_count": 4,
   "metadata": {},
   "outputs": [
    {
     "data": {
      "application/vnd.jupyter.widget-view+json": {
       "model_id": "4b5afbf9b61f4138bbd311f64f4f3fe3",
       "version_major": 2,
       "version_minor": 0
      },
      "text/plain": [
       "  0%|          | 0/4000 [00:00<?, ?it/s]"
      ]
     },
     "metadata": {},
     "output_type": "display_data"
    },
    {
     "name": "stdout",
     "output_type": "stream",
     "text": [
      "0.0028545437870340466\n"
     ]
    },
    {
     "data": {
      "application/vnd.jupyter.widget-view+json": {
       "model_id": "3b90b10741ba49aeb1e40d4f7979a540",
       "version_major": 2,
       "version_minor": 0
      },
      "text/plain": [
       "  0%|          | 0/4000 [00:00<?, ?it/s]"
      ]
     },
     "metadata": {},
     "output_type": "display_data"
    }
   ],
   "source": [
    "np.random.seed(42)\n",
    "random.seed(42)\n",
    "\n",
    "model2 =fit_model(channel=KrausMap(d=d, \n",
    "                                   rank=64),\n",
    "                  spam=SPAM(init = InitialState(d),\n",
    "                            povm = CorruptionMatrix(d),\n",
    "                            optimizer = tf.optimizers.Adam(learning_rate=0.01),\n",
    "                            ),\n",
    "                  N_map=500,\n",
    "                  N_spam=None,\n",
    "                  num_iter_map=4000,\n",
    "                  num_iter_spam=4000,\n",
    "                  filename=\"belem_concatenate_8layer1\",\n",
    "                  verbose=True\n",
    "                  )"
   ]
  },
  {
   "cell_type": "code",
   "execution_count": 5,
   "metadata": {},
   "outputs": [
    {
     "data": {
      "application/vnd.jupyter.widget-view+json": {
       "model_id": "d07af8014bc641fb87a5ab15f56c2ab6",
       "version_major": 2,
       "version_minor": 0
      },
      "text/plain": [
       "  0%|          | 0/4000 [00:00<?, ?it/s]"
      ]
     },
     "metadata": {},
     "output_type": "display_data"
    },
    {
     "name": "stdout",
     "output_type": "stream",
     "text": [
      "0.003028827428731858\n"
     ]
    },
    {
     "data": {
      "application/vnd.jupyter.widget-view+json": {
       "model_id": "23064a7f00e042f6b603b1a24675cd0e",
       "version_major": 2,
       "version_minor": 0
      },
      "text/plain": [
       "  0%|          | 0/4000 [00:00<?, ?it/s]"
      ]
     },
     "metadata": {},
     "output_type": "display_data"
    }
   ],
   "source": [
    "np.random.seed(42)\n",
    "random.seed(42)\n",
    "\n",
    "model_full =fit_model(channel=KrausMap(d=d, \n",
    "                                   rank=64),\n",
    "                  spam=SPAM(init = InitialState(d),\n",
    "                            povm = CorruptionMatrix(d),\n",
    "                            optimizer = tf.optimizers.Adam(learning_rate=0.01),\n",
    "                            ),\n",
    "                  N_map=500,\n",
    "                  N_spam=None,\n",
    "                  num_iter_map=4000,\n",
    "                  num_iter_spam=4000,\n",
    "                  filename=\"belem_concatenate_8layer2\",\n",
    "                  verbose=True\n",
    "                  )"
   ]
  },
  {
   "cell_type": "code",
   "execution_count": 6,
   "metadata": {},
   "outputs": [],
   "source": [
    "channel1 = model1.channel\n",
    "channel2 = model2.channel\n",
    "channel_full = model_full.channel\n",
    "\n",
    "channel_concat = channel_to_choi_map([channel1, channel2])\n",
    "channel_concat.spam = channel_full.spam"
   ]
  },
  {
   "cell_type": "code",
   "execution_count": 7,
   "metadata": {},
   "outputs": [],
   "source": [
    "n = 3\n",
    "d = 2**n\n",
    "\n",
    "np.random.seed(42)\n",
    "random.seed(42)\n",
    "\n",
    "circuit_target1 = pqc_basic(n, 8).reverse_bits()\n",
    "circuit_target2 = pqc_basic(n, 8).reverse_bits()\n",
    "\n",
    "circuit_target_full = deepcopy(circuit_target1)\n",
    "circuit_target_full = circuit_target_full.compose(circuit_target2)\n",
    "\n",
    "U1 = Operator(circuit_target1).data\n",
    "U2 = Operator(circuit_target2).data\n",
    "U_full = Operator(circuit_target_full).data\n",
    "\n",
    "channel_ideal1 = DilutedKrausMap(U1, c=0.999, d=d, rank=1)\n",
    "channel_ideal2 = DilutedKrausMap(U2, c=0.999, d=d, rank=1)\n",
    "channel_ideal_full = DilutedKrausMap(U_full, c=0.999, d=d, rank=1)\n",
    "\n",
    "channel_ideal1.spam = channel1.spam\n",
    "channel_ideal2.spam = channel2.spam\n",
    "channel_ideal_full.spam = channel_full.spam"
   ]
  },
  {
   "cell_type": "code",
   "execution_count": 8,
   "metadata": {},
   "outputs": [
    {
     "name": "stdout",
     "output_type": "stream",
     "text": [
      " U1 vs T1: 0.4293\n",
      " U2 vs T2: 0.4601\n",
      " U Full vs T Full: 0.2785\n",
      " U Full vs T2*T1: 0.2006\n",
      " T Full vs T2*T1: 0.6678\n"
     ]
    }
   ],
   "source": [
    "print(f\" U1 vs T1: {channel_fidelity(channel_ideal1, channel1):.4f}\")\n",
    "print(f\" U2 vs T2: {channel_fidelity(channel_ideal2, channel2):.4f}\")\n",
    "\n",
    "print(f\" U Full vs T Full: {channel_fidelity(channel_ideal_full, channel_full):.4f}\")\n",
    "print(f\" U Full vs T2*T1: {channel_fidelity(channel_ideal_full, channel_concat):.4f}\")\n",
    "      \n",
    "print(f\" T Full vs T2*T1: {channel_fidelity(channel_full, channel_concat):.4f}\")"
   ]
  },
  {
   "cell_type": "code",
   "execution_count": 9,
   "metadata": {},
   "outputs": [],
   "source": [
    "inputs_map1, targets_map1, inputs_spam1, targets_spam1 = pickle.load(\n",
    "        open(f\"../../data/belem_concatenate_8layer0\", \"rb\")\n",
    "    )\n",
    "\n",
    "\n",
    "inputs_map2, targets_map2, inputs_spam2, targets_spam2 = pickle.load(\n",
    "        open(f\"../../data/belem_concatenate_8layer1\", \"rb\")\n",
    "    )\n",
    "\n",
    "inputs_map3, targets_map3, inputs_spam3, targets_spam3 = pickle.load(\n",
    "        open(f\"../../data/belem_concatenate_8layer2\", \"rb\")\n",
    "    )"
   ]
  },
  {
   "cell_type": "code",
   "execution_count": 10,
   "metadata": {},
   "outputs": [
    {
     "name": "stdout",
     "output_type": "stream",
     "text": [
      "0.17230\n",
      "0.00193\n",
      "0.15056\n",
      "0.00212\n",
      "0.25112\n",
      "0.00003\n",
      "0.01249\n"
     ]
    }
   ],
   "source": [
    "print(f\"{np.abs(evaluate_channel(channel_ideal1, inputs_map1, targets_map1)):.5f}\")\n",
    "print(f\"{np.abs(evaluate_channel(channel1, inputs_map1, targets_map1)):.5f}\")\n",
    "\n",
    "print(f\"{np.abs(evaluate_channel(channel_ideal2, inputs_map2, targets_map2)):.5f}\")\n",
    "print(f\"{np.abs(evaluate_channel(channel2, inputs_map2, targets_map2)):.5f}\")\n",
    "\n",
    "print(f\"{np.abs(evaluate_channel(channel_ideal_full, inputs_map3, targets_map3)):.5f}\")\n",
    "print(f\"{np.abs(evaluate_channel(channel_full, inputs_map3, targets_map3)):.5f}\")\n",
    "print(f\"{np.abs(evaluate_channel(channel_concat, inputs_map3, targets_map3)):.5f}\")"
   ]
  },
  {
   "cell_type": "code",
   "execution_count": 11,
   "metadata": {},
   "outputs": [
    {
     "name": "stdout",
     "output_type": "stream",
     "text": [
      "0.1723\n",
      "0.0924\n",
      "0.00193\n"
     ]
    }
   ],
   "source": [
    "channel1_slice = channel_to_choi_map([channel_full, channel2], invert_list = [False, True])\n",
    "channel1_slice.spam = channel1.spam\n",
    "\n",
    "print(f\"{np.abs(evaluate_channel(channel_ideal1, inputs_map1, targets_map1)):.4f}\")\n",
    "print(f\"{np.abs(evaluate_channel(channel1_slice, inputs_map1, targets_map1)):.4f}\")\n",
    "print(f\"{np.abs(evaluate_channel(channel1, inputs_map1, targets_map1)):.5f}\")"
   ]
  },
  {
   "cell_type": "code",
   "execution_count": 12,
   "metadata": {},
   "outputs": [
    {
     "name": "stdout",
     "output_type": "stream",
     "text": [
      "0.1506\n",
      "0.0592\n",
      "0.00212\n"
     ]
    }
   ],
   "source": [
    "channel2_slice = channel_to_choi_map([channel1, channel_full], invert_list = [True, False])\n",
    "channel2_slice.spam = channel2.spam\n",
    "\n",
    "print(f\"{np.abs(evaluate_channel(channel_ideal2, inputs_map2, targets_map2)):.4f}\")\n",
    "print(f\"{np.abs(evaluate_channel(channel2_slice, inputs_map2, targets_map2)):.4f}\")\n",
    "print(f\"{np.abs(evaluate_channel(channel2, inputs_map2, targets_map2)):.5f}\")"
   ]
  },
  {
   "cell_type": "code",
   "execution_count": 14,
   "metadata": {},
   "outputs": [
    {
     "name": "stdout",
     "output_type": "stream",
     "text": [
      "tf.Tensor(0.9289900887878287, shape=(), dtype=float64)\n",
      "tf.Tensor(0.6705321557843179, shape=(), dtype=float64)\n"
     ]
    }
   ],
   "source": [
    "print(channel_fidelity(channel1_slice, channel1))\n",
    "print(channel_fidelity(channel2_slice, channel2))"
   ]
  },
  {
   "cell_type": "code",
   "execution_count": null,
   "metadata": {},
   "outputs": [],
   "source": []
  }
 ],
 "metadata": {
  "kernelspec": {
   "display_name": "env_qiskit",
   "language": "python",
   "name": "env_qiskit"
  },
  "language_info": {
   "codemirror_mode": {
    "name": "ipython",
    "version": 3
   },
   "file_extension": ".py",
   "mimetype": "text/x-python",
   "name": "python",
   "nbconvert_exporter": "python",
   "pygments_lexer": "ipython3",
   "version": "3.10.4"
  }
 },
 "nbformat": 4,
 "nbformat_minor": 4
}
