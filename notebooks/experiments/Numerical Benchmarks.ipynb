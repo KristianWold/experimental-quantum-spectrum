{
 "cells": [
  {
   "cell_type": "markdown",
   "metadata": {},
   "source": [
    "# Numerical Benchmarks"
   ]
  },
  {
   "cell_type": "code",
   "execution_count": 1,
   "metadata": {},
   "outputs": [],
   "source": [
    "import sys\n",
    "sys.path.insert(0, '../../src_tf/')\n",
    "\n",
    "import numpy as np\n",
    "import qiskit as qk\n",
    "import matplotlib.pyplot as plt\n",
    "import multiprocessing as mp\n",
    "import random\n",
    "import pickle\n",
    "\n",
    "from qiskit.quantum_info import DensityMatrix\n",
    "from qiskit.quantum_info import Operator\n",
    "from scipy.linalg import sqrtm\n",
    "from tqdm.notebook import tqdm\n",
    "\n",
    "from loss_functions import *\n",
    "from optimization import *\n",
    "from quantum_maps import *\n",
    "from quantum_tools import *\n",
    "from experiments import *\n",
    "#np.set_printoptions(threshold=sys.maxsize)\n",
    "\n",
    "import os\n",
    "os.environ[\"CUDA_VISIBLE_DEVICES\"] = \"-1\""
   ]
  },
  {
   "cell_type": "markdown",
   "metadata": {},
   "source": [
    "## Check Convergence"
   ]
  },
  {
   "cell_type": "markdown",
   "metadata": {},
   "source": [
    "### Overparameterization"
   ]
  },
  {
   "cell_type": "code",
   "execution_count": 2,
   "metadata": {},
   "outputs": [
    {
     "data": {
      "application/vnd.jupyter.widget-view+json": {
       "model_id": "5cb51cc47f434b4b9a66f658f27d809b",
       "version_major": 2,
       "version_minor": 0
      },
      "text/plain": [
       "  0%|          | 0/10 [00:00<?, ?it/s]"
      ]
     },
     "metadata": {},
     "output_type": "display_data"
    },
    {
     "data": {
      "application/vnd.jupyter.widget-view+json": {
       "model_id": "87c57dd05c69426db33d75d89a8bc6b7",
       "version_major": 2,
       "version_minor": 0
      },
      "text/plain": [
       "  0%|          | 0/4000 [00:00<?, ?it/s]"
      ]
     },
     "metadata": {},
     "output_type": "display_data"
    },
    {
     "data": {
      "application/vnd.jupyter.widget-view+json": {
       "model_id": "4515a08f8cd44ed394472396e7caf9af",
       "version_major": 2,
       "version_minor": 0
      },
      "text/plain": [
       "  0%|          | 0/4000 [00:00<?, ?it/s]"
      ]
     },
     "metadata": {},
     "output_type": "display_data"
    },
    {
     "data": {
      "application/vnd.jupyter.widget-view+json": {
       "model_id": "cabdccc3d3f849a686abafd97dc56174",
       "version_major": 2,
       "version_minor": 0
      },
      "text/plain": [
       "  0%|          | 0/4000 [00:00<?, ?it/s]"
      ]
     },
     "metadata": {},
     "output_type": "display_data"
    },
    {
     "data": {
      "application/vnd.jupyter.widget-view+json": {
       "model_id": "8447d009d1c6403a8206149d31a46c03",
       "version_major": 2,
       "version_minor": 0
      },
      "text/plain": [
       "  0%|          | 0/4000 [00:00<?, ?it/s]"
      ]
     },
     "metadata": {},
     "output_type": "display_data"
    },
    {
     "data": {
      "application/vnd.jupyter.widget-view+json": {
       "model_id": "83c03ca40c824b5d9d807ff53bb1dc64",
       "version_major": 2,
       "version_minor": 0
      },
      "text/plain": [
       "  0%|          | 0/4000 [00:00<?, ?it/s]"
      ]
     },
     "metadata": {},
     "output_type": "display_data"
    },
    {
     "data": {
      "application/vnd.jupyter.widget-view+json": {
       "model_id": "48797f3fcf344bd6aa01e98c4b95858b",
       "version_major": 2,
       "version_minor": 0
      },
      "text/plain": [
       "  0%|          | 0/4000 [00:00<?, ?it/s]"
      ]
     },
     "metadata": {},
     "output_type": "display_data"
    },
    {
     "data": {
      "application/vnd.jupyter.widget-view+json": {
       "model_id": "15d74dad805b4bcd819a677c6caffc2d",
       "version_major": 2,
       "version_minor": 0
      },
      "text/plain": [
       "  0%|          | 0/4000 [00:00<?, ?it/s]"
      ]
     },
     "metadata": {},
     "output_type": "display_data"
    },
    {
     "data": {
      "application/vnd.jupyter.widget-view+json": {
       "model_id": "3986b1baa14641dbb743ddd291660f6b",
       "version_major": 2,
       "version_minor": 0
      },
      "text/plain": [
       "  0%|          | 0/4000 [00:00<?, ?it/s]"
      ]
     },
     "metadata": {},
     "output_type": "display_data"
    },
    {
     "data": {
      "application/vnd.jupyter.widget-view+json": {
       "model_id": "e26bd0782ee04ee4b83c2e3a87c1ff5d",
       "version_major": 2,
       "version_minor": 0
      },
      "text/plain": [
       "  0%|          | 0/4000 [00:00<?, ?it/s]"
      ]
     },
     "metadata": {},
     "output_type": "display_data"
    },
    {
     "data": {
      "application/vnd.jupyter.widget-view+json": {
       "model_id": "2ee1745ff950484fb3ec9361e8edb341",
       "version_major": 2,
       "version_minor": 0
      },
      "text/plain": [
       "  0%|          | 0/4000 [00:00<?, ?it/s]"
      ]
     },
     "metadata": {},
     "output_type": "display_data"
    }
   ],
   "source": [
    "n = 3\n",
    "d = 2**n\n",
    "num_reps = 10\n",
    "num_iter = 4000\n",
    "\n",
    "np.random.seed(42)\n",
    "random.seed(42)\n",
    "tf.random.set_seed(42)\n",
    "\n",
    "inputs, _ = generate_pauli_circuits(n = n, \n",
    "                                    circuit_target=None, \n",
    "                                    N = None, \n",
    "                                    trace=False)\n",
    "\n",
    "rank = 3\n",
    "loss_values = np.zeros((num_iter, num_reps))\n",
    "c_values = np.zeros((num_iter, num_reps))\n",
    "\n",
    "\n",
    "for i in tqdm(range(num_reps)):\n",
    "    X, _, _ = generate_ginibre(d, d)\n",
    "    U = generate_unitary(X) # Random unitary part\n",
    "    kraus_target = KrausMap(U, 0.5, d, rank)\n",
    "\n",
    "    states = kraus_target.apply_map(inputs[0])\n",
    "    targets = measurement(states, U_basis = inputs[1])\n",
    "    \n",
    "    c = random.uniform(0,1)\n",
    "    kraus_model = KrausMap(\n",
    "                       U=U, \n",
    "                       c=c, \n",
    "                       d=d, \n",
    "                       rank=d**2-1\n",
    "                      )\n",
    "\n",
    "    model = ModelQuantumMap(\n",
    "                           q_map = kraus_model,\n",
    "                           loss = probs_loss,\n",
    "                           optimizer = tf.optimizers.Adam(learning_rate=0.01),\n",
    "                           )\n",
    "\n",
    "\n",
    "    model.train(inputs = inputs,\n",
    "                targets = targets,\n",
    "                inputs_val = None,\n",
    "                targets_val = [kraus_target],\n",
    "                num_iter = num_iter,\n",
    "                N = 500,\n",
    "                verbose = False,\n",
    "                )\n",
    "    \n",
    "    loss_values[:, i] = np.array(model.loss_list)\n",
    "    c_values[:, i] = np.array(model.c_list)"
   ]
  },
  {
   "cell_type": "code",
   "execution_count": 3,
   "metadata": {},
   "outputs": [],
   "source": [
    "data = [loss_values, c_values]\n",
    "pickle.dump(data, open(\"../../data/compressed_sensing_overparam.p\", \"wb\"))"
   ]
  },
  {
   "cell_type": "markdown",
   "metadata": {},
   "source": [
    "### Under-parameterization"
   ]
  },
  {
   "cell_type": "code",
   "execution_count": 15,
   "metadata": {},
   "outputs": [
    {
     "data": {
      "application/vnd.jupyter.widget-view+json": {
       "model_id": "e239facf69a64b84b2e0df3ed2eb86b3",
       "version_major": 2,
       "version_minor": 0
      },
      "text/plain": [
       "  0%|          | 0/10 [00:00<?, ?it/s]"
      ]
     },
     "metadata": {},
     "output_type": "display_data"
    },
    {
     "data": {
      "application/vnd.jupyter.widget-view+json": {
       "model_id": "f88bdf8871a24f438a1af47048cea93d",
       "version_major": 2,
       "version_minor": 0
      },
      "text/plain": [
       "  0%|          | 0/4000 [00:00<?, ?it/s]"
      ]
     },
     "metadata": {},
     "output_type": "display_data"
    },
    {
     "data": {
      "application/vnd.jupyter.widget-view+json": {
       "model_id": "c25cd4328c4549e8b5a631d87b4814dd",
       "version_major": 2,
       "version_minor": 0
      },
      "text/plain": [
       "  0%|          | 0/4000 [00:00<?, ?it/s]"
      ]
     },
     "metadata": {},
     "output_type": "display_data"
    },
    {
     "data": {
      "application/vnd.jupyter.widget-view+json": {
       "model_id": "f60d389d68514ed18af30e6c4e286fa3",
       "version_major": 2,
       "version_minor": 0
      },
      "text/plain": [
       "  0%|          | 0/4000 [00:00<?, ?it/s]"
      ]
     },
     "metadata": {},
     "output_type": "display_data"
    },
    {
     "ename": "KeyboardInterrupt",
     "evalue": "",
     "output_type": "error",
     "traceback": [
      "\u001b[1;31m---------------------------------------------------------------------------\u001b[0m",
      "\u001b[1;31mKeyboardInterrupt\u001b[0m                         Traceback (most recent call last)",
      "Input \u001b[1;32mIn [15]\u001b[0m, in \u001b[0;36m<cell line: 20>\u001b[1;34m()\u001b[0m\n\u001b[0;32m     29\u001b[0m kraus_model \u001b[38;5;241m=\u001b[39m KrausMap(\n\u001b[0;32m     30\u001b[0m                    U\u001b[38;5;241m=\u001b[39mU, \n\u001b[0;32m     31\u001b[0m                    c\u001b[38;5;241m=\u001b[39mc, \n\u001b[0;32m     32\u001b[0m                    d\u001b[38;5;241m=\u001b[39md, \n\u001b[0;32m     33\u001b[0m                    rank\u001b[38;5;241m=\u001b[39mrank\n\u001b[0;32m     34\u001b[0m                   )\n\u001b[0;32m     36\u001b[0m model \u001b[38;5;241m=\u001b[39m ModelQuantumMap(\n\u001b[0;32m     37\u001b[0m                        q_map \u001b[38;5;241m=\u001b[39m kraus_model,\n\u001b[0;32m     38\u001b[0m                        loss \u001b[38;5;241m=\u001b[39m probs_loss,\n\u001b[0;32m     39\u001b[0m                        optimizer \u001b[38;5;241m=\u001b[39m tf\u001b[38;5;241m.\u001b[39moptimizers\u001b[38;5;241m.\u001b[39mAdam(learning_rate\u001b[38;5;241m=\u001b[39m\u001b[38;5;241m0.01\u001b[39m),\n\u001b[0;32m     40\u001b[0m                        )\n\u001b[1;32m---> 43\u001b[0m \u001b[43mmodel\u001b[49m\u001b[38;5;241;43m.\u001b[39;49m\u001b[43mtrain\u001b[49m\u001b[43m(\u001b[49m\u001b[43minputs\u001b[49m\u001b[43m \u001b[49m\u001b[38;5;241;43m=\u001b[39;49m\u001b[43m \u001b[49m\u001b[43minputs\u001b[49m\u001b[43m,\u001b[49m\n\u001b[0;32m     44\u001b[0m \u001b[43m            \u001b[49m\u001b[43mtargets\u001b[49m\u001b[43m \u001b[49m\u001b[38;5;241;43m=\u001b[39;49m\u001b[43m \u001b[49m\u001b[43mtargets\u001b[49m\u001b[43m,\u001b[49m\n\u001b[0;32m     45\u001b[0m \u001b[43m            \u001b[49m\u001b[43minputs_val\u001b[49m\u001b[43m \u001b[49m\u001b[38;5;241;43m=\u001b[39;49m\u001b[43m \u001b[49m\u001b[38;5;28;43;01mNone\u001b[39;49;00m\u001b[43m,\u001b[49m\n\u001b[0;32m     46\u001b[0m \u001b[43m            \u001b[49m\u001b[43mtargets_val\u001b[49m\u001b[43m \u001b[49m\u001b[38;5;241;43m=\u001b[39;49m\u001b[43m \u001b[49m\u001b[43m[\u001b[49m\u001b[43mkraus_target\u001b[49m\u001b[43m]\u001b[49m\u001b[43m,\u001b[49m\n\u001b[0;32m     47\u001b[0m \u001b[43m            \u001b[49m\u001b[43mnum_iter\u001b[49m\u001b[43m \u001b[49m\u001b[38;5;241;43m=\u001b[39;49m\u001b[43m \u001b[49m\u001b[43mnum_iter\u001b[49m\u001b[43m,\u001b[49m\n\u001b[0;32m     48\u001b[0m \u001b[43m            \u001b[49m\u001b[43mN\u001b[49m\u001b[43m \u001b[49m\u001b[38;5;241;43m=\u001b[39;49m\u001b[43m \u001b[49m\u001b[38;5;241;43m500\u001b[39;49m\u001b[43m,\u001b[49m\n\u001b[0;32m     49\u001b[0m \u001b[43m            \u001b[49m\u001b[43mverbose\u001b[49m\u001b[43m \u001b[49m\u001b[38;5;241;43m=\u001b[39;49m\u001b[43m \u001b[49m\u001b[38;5;28;43;01mFalse\u001b[39;49;00m\u001b[43m,\u001b[49m\n\u001b[0;32m     50\u001b[0m \u001b[43m            \u001b[49m\u001b[43m)\u001b[49m\n\u001b[0;32m     52\u001b[0m loss_values[:, i] \u001b[38;5;241m=\u001b[39m np\u001b[38;5;241m.\u001b[39marray(model\u001b[38;5;241m.\u001b[39mloss_list)\n\u001b[0;32m     53\u001b[0m c_values[:, i] \u001b[38;5;241m=\u001b[39m np\u001b[38;5;241m.\u001b[39marray(model\u001b[38;5;241m.\u001b[39mc_list)\n",
      "File \u001b[1;32m~\\Documents\\ModelNISQ\\notebooks\\experiments\\../../src_tf\\optimization.py:64\u001b[0m, in \u001b[0;36mModelQuantumMap.train\u001b[1;34m(self, inputs, targets, inputs_val, targets_val, num_iter, N, verbose)\u001b[0m\n\u001b[0;32m     62\u001b[0m     \u001b[38;5;28;01mpass\u001b[39;00m\n\u001b[0;32m     63\u001b[0m \u001b[38;5;28;01melif\u001b[39;00m \u001b[38;5;28mlen\u001b[39m(targets_val) \u001b[38;5;241m==\u001b[39m \u001b[38;5;241m1\u001b[39m:\n\u001b[1;32m---> 64\u001b[0m     loss \u001b[38;5;241m=\u001b[39m channel_fidelity(\u001b[38;5;28mself\u001b[39m\u001b[38;5;241m.\u001b[39mq_map, targets_val[\u001b[38;5;241m0\u001b[39m])\n\u001b[0;32m     67\u001b[0m \u001b[38;5;28mself\u001b[39m\u001b[38;5;241m.\u001b[39mloss_list\u001b[38;5;241m.\u001b[39mappend(np\u001b[38;5;241m.\u001b[39mabs(loss\u001b[38;5;241m.\u001b[39mnumpy()))\n\u001b[0;32m     68\u001b[0m \u001b[38;5;28;01mif\u001b[39;00m \u001b[38;5;28mself\u001b[39m\u001b[38;5;241m.\u001b[39mq_map\u001b[38;5;241m.\u001b[39mc \u001b[38;5;129;01mis\u001b[39;00m \u001b[38;5;129;01mnot\u001b[39;00m \u001b[38;5;28;01mNone\u001b[39;00m: \n",
      "File \u001b[1;32m~\\Documents\\ModelNISQ\\notebooks\\experiments\\../../src_tf\\quantum_tools.py:35\u001b[0m, in \u001b[0;36mchannel_fidelity\u001b[1;34m(map_A, map_B)\u001b[0m\n\u001b[0;32m     34\u001b[0m \u001b[38;5;28;01mdef\u001b[39;00m \u001b[38;5;21mchannel_fidelity\u001b[39m(map_A, map_B):\n\u001b[1;32m---> 35\u001b[0m     choi_A \u001b[38;5;241m=\u001b[39m \u001b[43mmaps_to_choi\u001b[49m\u001b[43m(\u001b[49m\u001b[43m[\u001b[49m\u001b[43mmap_A\u001b[49m\u001b[43m]\u001b[49m\u001b[43m)\u001b[49m\n\u001b[0;32m     36\u001b[0m     choi_B \u001b[38;5;241m=\u001b[39m maps_to_choi([map_B])\n\u001b[0;32m     37\u001b[0m     d_squared \u001b[38;5;241m=\u001b[39m choi_A\u001b[38;5;241m.\u001b[39mshape[\u001b[38;5;241m0\u001b[39m]\n",
      "File \u001b[1;32m~\\Documents\\ModelNISQ\\notebooks\\experiments\\../../src_tf\\quantum_tools.py:57\u001b[0m, in \u001b[0;36mmaps_to_choi\u001b[1;34m(map_list)\u001b[0m\n\u001b[0;32m     55\u001b[0m     M_prime \u001b[38;5;241m=\u001b[39m \u001b[38;5;28mmap\u001b[39m\u001b[38;5;241m.\u001b[39mapply_map(M_prime)\n\u001b[0;32m     56\u001b[0m \u001b[38;5;28;01mfor\u001b[39;00m i \u001b[38;5;129;01min\u001b[39;00m \u001b[38;5;28mrange\u001b[39m(d\u001b[38;5;241m*\u001b[39m\u001b[38;5;241m*\u001b[39m\u001b[38;5;241m2\u001b[39m):\n\u001b[1;32m---> 57\u001b[0m     choi \u001b[38;5;241m+\u001b[39m\u001b[38;5;241m=\u001b[39m tf\u001b[38;5;241m.\u001b[39mexperimental\u001b[38;5;241m.\u001b[39mnumpy\u001b[38;5;241m.\u001b[39mkron(M_prime[i], M[i])\n\u001b[0;32m     59\u001b[0m \u001b[38;5;28;01mreturn\u001b[39;00m choi\n",
      "File \u001b[1;32m~\\anaconda3\\envs\\env_qiskit\\lib\\site-packages\\tensorflow\\python\\util\\traceback_utils.py:150\u001b[0m, in \u001b[0;36mfilter_traceback.<locals>.error_handler\u001b[1;34m(*args, **kwargs)\u001b[0m\n\u001b[0;32m    148\u001b[0m filtered_tb \u001b[38;5;241m=\u001b[39m \u001b[38;5;28;01mNone\u001b[39;00m\n\u001b[0;32m    149\u001b[0m \u001b[38;5;28;01mtry\u001b[39;00m:\n\u001b[1;32m--> 150\u001b[0m   \u001b[38;5;28;01mreturn\u001b[39;00m fn(\u001b[38;5;241m*\u001b[39margs, \u001b[38;5;241m*\u001b[39m\u001b[38;5;241m*\u001b[39mkwargs)\n\u001b[0;32m    151\u001b[0m \u001b[38;5;28;01mexcept\u001b[39;00m \u001b[38;5;167;01mException\u001b[39;00m \u001b[38;5;28;01mas\u001b[39;00m e:\n\u001b[0;32m    152\u001b[0m   filtered_tb \u001b[38;5;241m=\u001b[39m _process_traceback_frames(e\u001b[38;5;241m.\u001b[39m__traceback__)\n",
      "File \u001b[1;32m~\\anaconda3\\envs\\env_qiskit\\lib\\site-packages\\tensorflow\\python\\ops\\math_ops.py:1406\u001b[0m, in \u001b[0;36m_OverrideBinaryOperatorHelper.<locals>.binary_op_wrapper\u001b[1;34m(x, y)\u001b[0m\n\u001b[0;32m   1401\u001b[0m \u001b[38;5;28;01mtry\u001b[39;00m:\n\u001b[0;32m   1402\u001b[0m   \u001b[38;5;66;03m# force_same_dtype=False to preserve existing TF behavior\u001b[39;00m\n\u001b[0;32m   1403\u001b[0m   \u001b[38;5;66;03m# TODO(b/178860388): Figure out why binary_op_wrapper and\u001b[39;00m\n\u001b[0;32m   1404\u001b[0m   \u001b[38;5;66;03m#   r_binary_op_wrapper use different force_same_dtype values.\u001b[39;00m\n\u001b[0;32m   1405\u001b[0m   x, y \u001b[38;5;241m=\u001b[39m maybe_promote_tensors(x, y)\n\u001b[1;32m-> 1406\u001b[0m   \u001b[38;5;28;01mreturn\u001b[39;00m \u001b[43mfunc\u001b[49m\u001b[43m(\u001b[49m\u001b[43mx\u001b[49m\u001b[43m,\u001b[49m\u001b[43m \u001b[49m\u001b[43my\u001b[49m\u001b[43m,\u001b[49m\u001b[43m \u001b[49m\u001b[43mname\u001b[49m\u001b[38;5;241;43m=\u001b[39;49m\u001b[43mname\u001b[49m\u001b[43m)\u001b[49m\n\u001b[0;32m   1407\u001b[0m \u001b[38;5;28;01mexcept\u001b[39;00m (\u001b[38;5;167;01mTypeError\u001b[39;00m, \u001b[38;5;167;01mValueError\u001b[39;00m) \u001b[38;5;28;01mas\u001b[39;00m e:\n\u001b[0;32m   1408\u001b[0m   \u001b[38;5;66;03m# Even if dispatching the op failed, the RHS may be a tensor aware\u001b[39;00m\n\u001b[0;32m   1409\u001b[0m   \u001b[38;5;66;03m# object that can implement the operator with knowledge of itself\u001b[39;00m\n\u001b[1;32m   (...)\u001b[0m\n\u001b[0;32m   1412\u001b[0m   \u001b[38;5;66;03m# original error from the LHS, because it may be more\u001b[39;00m\n\u001b[0;32m   1413\u001b[0m   \u001b[38;5;66;03m# informative.\u001b[39;00m\n\u001b[0;32m   1414\u001b[0m   \u001b[38;5;28;01mif\u001b[39;00m \u001b[38;5;28mhasattr\u001b[39m(\u001b[38;5;28mtype\u001b[39m(y), \u001b[38;5;124m\"\u001b[39m\u001b[38;5;124m__r\u001b[39m\u001b[38;5;132;01m%s\u001b[39;00m\u001b[38;5;124m__\u001b[39m\u001b[38;5;124m\"\u001b[39m \u001b[38;5;241m%\u001b[39m op_name):\n",
      "File \u001b[1;32m~\\anaconda3\\envs\\env_qiskit\\lib\\site-packages\\tensorflow\\python\\util\\traceback_utils.py:150\u001b[0m, in \u001b[0;36mfilter_traceback.<locals>.error_handler\u001b[1;34m(*args, **kwargs)\u001b[0m\n\u001b[0;32m    148\u001b[0m filtered_tb \u001b[38;5;241m=\u001b[39m \u001b[38;5;28;01mNone\u001b[39;00m\n\u001b[0;32m    149\u001b[0m \u001b[38;5;28;01mtry\u001b[39;00m:\n\u001b[1;32m--> 150\u001b[0m   \u001b[38;5;28;01mreturn\u001b[39;00m fn(\u001b[38;5;241m*\u001b[39margs, \u001b[38;5;241m*\u001b[39m\u001b[38;5;241m*\u001b[39mkwargs)\n\u001b[0;32m    151\u001b[0m \u001b[38;5;28;01mexcept\u001b[39;00m \u001b[38;5;167;01mException\u001b[39;00m \u001b[38;5;28;01mas\u001b[39;00m e:\n\u001b[0;32m    152\u001b[0m   filtered_tb \u001b[38;5;241m=\u001b[39m _process_traceback_frames(e\u001b[38;5;241m.\u001b[39m__traceback__)\n",
      "File \u001b[1;32m~\\anaconda3\\envs\\env_qiskit\\lib\\site-packages\\tensorflow\\python\\util\\dispatch.py:1082\u001b[0m, in \u001b[0;36madd_dispatch_support.<locals>.decorator.<locals>.op_dispatch_handler\u001b[1;34m(*args, **kwargs)\u001b[0m\n\u001b[0;32m   1080\u001b[0m \u001b[38;5;66;03m# Fallback dispatch system (dispatch v1):\u001b[39;00m\n\u001b[0;32m   1081\u001b[0m \u001b[38;5;28;01mtry\u001b[39;00m:\n\u001b[1;32m-> 1082\u001b[0m   \u001b[38;5;28;01mreturn\u001b[39;00m dispatch_target(\u001b[38;5;241m*\u001b[39margs, \u001b[38;5;241m*\u001b[39m\u001b[38;5;241m*\u001b[39mkwargs)\n\u001b[0;32m   1083\u001b[0m \u001b[38;5;28;01mexcept\u001b[39;00m (\u001b[38;5;167;01mTypeError\u001b[39;00m, \u001b[38;5;167;01mValueError\u001b[39;00m):\n\u001b[0;32m   1084\u001b[0m   \u001b[38;5;66;03m# Note: convert_to_eager_tensor currently raises a ValueError, not a\u001b[39;00m\n\u001b[0;32m   1085\u001b[0m   \u001b[38;5;66;03m# TypeError, when given unexpected types.  So we need to catch both.\u001b[39;00m\n\u001b[0;32m   1086\u001b[0m   result \u001b[38;5;241m=\u001b[39m dispatch(op_dispatch_handler, args, kwargs)\n",
      "File \u001b[1;32m~\\anaconda3\\envs\\env_qiskit\\lib\\site-packages\\tensorflow\\python\\ops\\math_ops.py:1756\u001b[0m, in \u001b[0;36m_add_dispatch\u001b[1;34m(x, y, name)\u001b[0m\n\u001b[0;32m   1754\u001b[0m   \u001b[38;5;28;01mreturn\u001b[39;00m gen_math_ops\u001b[38;5;241m.\u001b[39madd(x, y, name\u001b[38;5;241m=\u001b[39mname)\n\u001b[0;32m   1755\u001b[0m \u001b[38;5;28;01melse\u001b[39;00m:\n\u001b[1;32m-> 1756\u001b[0m   \u001b[38;5;28;01mreturn\u001b[39;00m \u001b[43mgen_math_ops\u001b[49m\u001b[38;5;241;43m.\u001b[39;49m\u001b[43madd_v2\u001b[49m\u001b[43m(\u001b[49m\u001b[43mx\u001b[49m\u001b[43m,\u001b[49m\u001b[43m \u001b[49m\u001b[43my\u001b[49m\u001b[43m,\u001b[49m\u001b[43m \u001b[49m\u001b[43mname\u001b[49m\u001b[38;5;241;43m=\u001b[39;49m\u001b[43mname\u001b[49m\u001b[43m)\u001b[49m\n",
      "File \u001b[1;32m~\\anaconda3\\envs\\env_qiskit\\lib\\site-packages\\tensorflow\\python\\ops\\gen_math_ops.py:461\u001b[0m, in \u001b[0;36madd_v2\u001b[1;34m(x, y, name)\u001b[0m\n\u001b[0;32m    459\u001b[0m \u001b[38;5;28;01mif\u001b[39;00m tld\u001b[38;5;241m.\u001b[39mis_eager:\n\u001b[0;32m    460\u001b[0m   \u001b[38;5;28;01mtry\u001b[39;00m:\n\u001b[1;32m--> 461\u001b[0m     _result \u001b[38;5;241m=\u001b[39m \u001b[43mpywrap_tfe\u001b[49m\u001b[38;5;241;43m.\u001b[39;49m\u001b[43mTFE_Py_FastPathExecute\u001b[49m\u001b[43m(\u001b[49m\n\u001b[0;32m    462\u001b[0m \u001b[43m      \u001b[49m\u001b[43m_ctx\u001b[49m\u001b[43m,\u001b[49m\u001b[43m \u001b[49m\u001b[38;5;124;43m\"\u001b[39;49m\u001b[38;5;124;43mAddV2\u001b[39;49m\u001b[38;5;124;43m\"\u001b[39;49m\u001b[43m,\u001b[49m\u001b[43m \u001b[49m\u001b[43mname\u001b[49m\u001b[43m,\u001b[49m\u001b[43m \u001b[49m\u001b[43mx\u001b[49m\u001b[43m,\u001b[49m\u001b[43m \u001b[49m\u001b[43my\u001b[49m\u001b[43m)\u001b[49m\n\u001b[0;32m    463\u001b[0m     \u001b[38;5;28;01mreturn\u001b[39;00m _result\n\u001b[0;32m    464\u001b[0m   \u001b[38;5;28;01mexcept\u001b[39;00m _core\u001b[38;5;241m.\u001b[39m_NotOkStatusException \u001b[38;5;28;01mas\u001b[39;00m e:\n",
      "\u001b[1;31mKeyboardInterrupt\u001b[0m: "
     ]
    }
   ],
   "source": [
    "n = 3\n",
    "d = 2**n\n",
    "num_reps = 10\n",
    "num_iter = 4000\n",
    "\n",
    "np.random.seed(42)\n",
    "random.seed(42)\n",
    "tf.random.set_seed(42)\n",
    "\n",
    "inputs, _ = generate_pauli_circuits(n = n, \n",
    "                                    circuit_target=None, \n",
    "                                    N = None, \n",
    "                                    trace=False)\n",
    "\n",
    "rank = 3\n",
    "loss_values = np.zeros((num_iter, num_reps))\n",
    "c_values = np.zeros((num_iter, num_reps))\n",
    "\n",
    "\n",
    "for i in tqdm(range(num_reps)):\n",
    "    X, _, _ = generate_ginibre(d, d)\n",
    "    U = generate_unitary(X) # Random unitary part\n",
    "    kraus_target = KrausMap(U, 0.5, d, rank=7)\n",
    "\n",
    "    states = kraus_target.apply_map(inputs[0])\n",
    "    targets = measurement(states, U_basis = inputs[1])\n",
    "    \n",
    "    c = random.uniform(0,1)\n",
    "    kraus_model = KrausMap(\n",
    "                       U=U, \n",
    "                       c=c, \n",
    "                       d=d, \n",
    "                       rank=rank\n",
    "                      )\n",
    "\n",
    "    model = ModelQuantumMap(\n",
    "                           q_map = kraus_model,\n",
    "                           loss = probs_loss,\n",
    "                           optimizer = tf.optimizers.Adam(learning_rate=0.01),\n",
    "                           )\n",
    "\n",
    "\n",
    "    model.train(inputs = inputs,\n",
    "                targets = targets,\n",
    "                inputs_val = None,\n",
    "                targets_val = [kraus_target],\n",
    "                num_iter = num_iter,\n",
    "                N = 500,\n",
    "                verbose = False,\n",
    "                )\n",
    "    \n",
    "    loss_values[:, i] = np.array(model.loss_list)\n",
    "    c_values[:, i] = np.array(model.c_list)"
   ]
  },
  {
   "cell_type": "code",
   "execution_count": null,
   "metadata": {},
   "outputs": [],
   "source": [
    "data = [loss_values, c_values]\n",
    "pickle.dump(data, open(\"../../data/compressed_sensing_underparam.p\", \"wb\"))"
   ]
  },
  {
   "cell_type": "markdown",
   "metadata": {},
   "source": [
    "## Sparse Input\n",
    "### Generate Data"
   ]
  },
  {
   "cell_type": "code",
   "execution_count": 6,
   "metadata": {},
   "outputs": [],
   "source": [
    "np.random.seed(42)\n",
    "random.seed(42)\n",
    "\n",
    "N_list = [int(16*2**(i/4)) for i in range(21)]\n",
    "num_reps = 10"
   ]
  },
  {
   "cell_type": "markdown",
   "metadata": {},
   "source": [
    "### Low Rank"
   ]
  },
  {
   "cell_type": "code",
   "execution_count": 7,
   "metadata": {
    "scrolled": true
   },
   "outputs": [
    {
     "data": {
      "application/vnd.jupyter.widget-view+json": {
       "model_id": "f6fbb9997ec54305bf83f23d19d72282",
       "version_major": 2,
       "version_minor": 0
      },
      "text/plain": [
       "  0%|          | 0/10 [00:00<?, ?it/s]"
      ]
     },
     "metadata": {},
     "output_type": "display_data"
    },
    {
     "data": {
      "application/vnd.jupyter.widget-view+json": {
       "model_id": "f1d59ed82cc14f44a41e126f6d1c4543",
       "version_major": 2,
       "version_minor": 0
      },
      "text/plain": [
       "  0%|          | 0/4000 [00:00<?, ?it/s]"
      ]
     },
     "metadata": {},
     "output_type": "display_data"
    },
    {
     "data": {
      "application/vnd.jupyter.widget-view+json": {
       "model_id": "681436029ca74d73b8f4687d2c007075",
       "version_major": 2,
       "version_minor": 0
      },
      "text/plain": [
       "  0%|          | 0/4000 [00:00<?, ?it/s]"
      ]
     },
     "metadata": {},
     "output_type": "display_data"
    },
    {
     "data": {
      "application/vnd.jupyter.widget-view+json": {
       "model_id": "a8aac09eab7e4eb2b2e9fdbc7e8c1381",
       "version_major": 2,
       "version_minor": 0
      },
      "text/plain": [
       "  0%|          | 0/4000 [00:00<?, ?it/s]"
      ]
     },
     "metadata": {},
     "output_type": "display_data"
    },
    {
     "data": {
      "application/vnd.jupyter.widget-view+json": {
       "model_id": "778ead2a1d2d4624b8a6fe01d2c762ba",
       "version_major": 2,
       "version_minor": 0
      },
      "text/plain": [
       "  0%|          | 0/4000 [00:00<?, ?it/s]"
      ]
     },
     "metadata": {},
     "output_type": "display_data"
    },
    {
     "data": {
      "application/vnd.jupyter.widget-view+json": {
       "model_id": "6a9889f7b7164314b4aafdc03e24b1ab",
       "version_major": 2,
       "version_minor": 0
      },
      "text/plain": [
       "  0%|          | 0/4000 [00:00<?, ?it/s]"
      ]
     },
     "metadata": {},
     "output_type": "display_data"
    },
    {
     "data": {
      "application/vnd.jupyter.widget-view+json": {
       "model_id": "90b7765cf81f4cfc85435f0fc7cabae7",
       "version_major": 2,
       "version_minor": 0
      },
      "text/plain": [
       "  0%|          | 0/4000 [00:00<?, ?it/s]"
      ]
     },
     "metadata": {},
     "output_type": "display_data"
    },
    {
     "data": {
      "application/vnd.jupyter.widget-view+json": {
       "model_id": "c2f7741b6a7c423fa42e580a8d5d0c48",
       "version_major": 2,
       "version_minor": 0
      },
      "text/plain": [
       "  0%|          | 0/4000 [00:00<?, ?it/s]"
      ]
     },
     "metadata": {},
     "output_type": "display_data"
    },
    {
     "data": {
      "application/vnd.jupyter.widget-view+json": {
       "model_id": "9db3914cf7ac43398a36be114ef25637",
       "version_major": 2,
       "version_minor": 0
      },
      "text/plain": [
       "  0%|          | 0/4000 [00:00<?, ?it/s]"
      ]
     },
     "metadata": {},
     "output_type": "display_data"
    },
    {
     "data": {
      "application/vnd.jupyter.widget-view+json": {
       "model_id": "96a27408ae2d4427acd17819d64ccef7",
       "version_major": 2,
       "version_minor": 0
      },
      "text/plain": [
       "  0%|          | 0/4000 [00:00<?, ?it/s]"
      ]
     },
     "metadata": {},
     "output_type": "display_data"
    },
    {
     "data": {
      "application/vnd.jupyter.widget-view+json": {
       "model_id": "c736b0912cdd4476867deff8a0c4f88d",
       "version_major": 2,
       "version_minor": 0
      },
      "text/plain": [
       "  0%|          | 0/4000 [00:00<?, ?it/s]"
      ]
     },
     "metadata": {},
     "output_type": "display_data"
    },
    {
     "data": {
      "application/vnd.jupyter.widget-view+json": {
       "model_id": "3b035c621c3a4fc4a23bea0194e3f94d",
       "version_major": 2,
       "version_minor": 0
      },
      "text/plain": [
       "  0%|          | 0/4000 [00:00<?, ?it/s]"
      ]
     },
     "metadata": {},
     "output_type": "display_data"
    },
    {
     "data": {
      "application/vnd.jupyter.widget-view+json": {
       "model_id": "0af9c08839f345748d0619792a642fa7",
       "version_major": 2,
       "version_minor": 0
      },
      "text/plain": [
       "  0%|          | 0/4000 [00:00<?, ?it/s]"
      ]
     },
     "metadata": {},
     "output_type": "display_data"
    },
    {
     "data": {
      "application/vnd.jupyter.widget-view+json": {
       "model_id": "896bf2d98fe34157a8381f47319b5e44",
       "version_major": 2,
       "version_minor": 0
      },
      "text/plain": [
       "  0%|          | 0/4000 [00:00<?, ?it/s]"
      ]
     },
     "metadata": {},
     "output_type": "display_data"
    },
    {
     "data": {
      "application/vnd.jupyter.widget-view+json": {
       "model_id": "d0aec32c2ba549ccae539bcf72d52da4",
       "version_major": 2,
       "version_minor": 0
      },
      "text/plain": [
       "  0%|          | 0/4000 [00:00<?, ?it/s]"
      ]
     },
     "metadata": {},
     "output_type": "display_data"
    },
    {
     "data": {
      "application/vnd.jupyter.widget-view+json": {
       "model_id": "17d9c0552c41484788dc722a416a1496",
       "version_major": 2,
       "version_minor": 0
      },
      "text/plain": [
       "  0%|          | 0/4000 [00:00<?, ?it/s]"
      ]
     },
     "metadata": {},
     "output_type": "display_data"
    },
    {
     "data": {
      "application/vnd.jupyter.widget-view+json": {
       "model_id": "ee26bfc0908747dd9091df252afcbf55",
       "version_major": 2,
       "version_minor": 0
      },
      "text/plain": [
       "  0%|          | 0/4000 [00:00<?, ?it/s]"
      ]
     },
     "metadata": {},
     "output_type": "display_data"
    },
    {
     "data": {
      "application/vnd.jupyter.widget-view+json": {
       "model_id": "20b3582727384c73a0d96d77f00ed96e",
       "version_major": 2,
       "version_minor": 0
      },
      "text/plain": [
       "  0%|          | 0/4000 [00:00<?, ?it/s]"
      ]
     },
     "metadata": {},
     "output_type": "display_data"
    },
    {
     "data": {
      "application/vnd.jupyter.widget-view+json": {
       "model_id": "01509a29b95948faa18579941299a3ba",
       "version_major": 2,
       "version_minor": 0
      },
      "text/plain": [
       "  0%|          | 0/4000 [00:00<?, ?it/s]"
      ]
     },
     "metadata": {},
     "output_type": "display_data"
    },
    {
     "data": {
      "application/vnd.jupyter.widget-view+json": {
       "model_id": "f7f5814849c3408c872a0a81a80e826c",
       "version_major": 2,
       "version_minor": 0
      },
      "text/plain": [
       "  0%|          | 0/4000 [00:00<?, ?it/s]"
      ]
     },
     "metadata": {},
     "output_type": "display_data"
    },
    {
     "data": {
      "application/vnd.jupyter.widget-view+json": {
       "model_id": "0f27e7119b45438682d5aaa2fb1147ff",
       "version_major": 2,
       "version_minor": 0
      },
      "text/plain": [
       "  0%|          | 0/4000 [00:00<?, ?it/s]"
      ]
     },
     "metadata": {},
     "output_type": "display_data"
    },
    {
     "data": {
      "application/vnd.jupyter.widget-view+json": {
       "model_id": "e4b3db008c1545c5ab388006f1a48be6",
       "version_major": 2,
       "version_minor": 0
      },
      "text/plain": [
       "  0%|          | 0/4000 [00:00<?, ?it/s]"
      ]
     },
     "metadata": {},
     "output_type": "display_data"
    },
    {
     "data": {
      "application/vnd.jupyter.widget-view+json": {
       "model_id": "8e7b0785dd6542fcb29061df816695eb",
       "version_major": 2,
       "version_minor": 0
      },
      "text/plain": [
       "  0%|          | 0/4000 [00:00<?, ?it/s]"
      ]
     },
     "metadata": {},
     "output_type": "display_data"
    },
    {
     "data": {
      "application/vnd.jupyter.widget-view+json": {
       "model_id": "71d64eaffcc448b79b6920f766194fed",
       "version_major": 2,
       "version_minor": 0
      },
      "text/plain": [
       "  0%|          | 0/4000 [00:00<?, ?it/s]"
      ]
     },
     "metadata": {},
     "output_type": "display_data"
    },
    {
     "data": {
      "application/vnd.jupyter.widget-view+json": {
       "model_id": "8e23767a1aa44e57b4e6885bb934c112",
       "version_major": 2,
       "version_minor": 0
      },
      "text/plain": [
       "  0%|          | 0/4000 [00:00<?, ?it/s]"
      ]
     },
     "metadata": {},
     "output_type": "display_data"
    },
    {
     "data": {
      "application/vnd.jupyter.widget-view+json": {
       "model_id": "334143f739a84c4fab777d07c8f226d0",
       "version_major": 2,
       "version_minor": 0
      },
      "text/plain": [
       "  0%|          | 0/4000 [00:00<?, ?it/s]"
      ]
     },
     "metadata": {},
     "output_type": "display_data"
    },
    {
     "data": {
      "application/vnd.jupyter.widget-view+json": {
       "model_id": "836e36a4ae544ebeb20b62a8e2f7d7c4",
       "version_major": 2,
       "version_minor": 0
      },
      "text/plain": [
       "  0%|          | 0/4000 [00:00<?, ?it/s]"
      ]
     },
     "metadata": {},
     "output_type": "display_data"
    },
    {
     "data": {
      "application/vnd.jupyter.widget-view+json": {
       "model_id": "efe5b0a350b349f58e0a339c25e6b8d3",
       "version_major": 2,
       "version_minor": 0
      },
      "text/plain": [
       "  0%|          | 0/4000 [00:00<?, ?it/s]"
      ]
     },
     "metadata": {},
     "output_type": "display_data"
    },
    {
     "data": {
      "application/vnd.jupyter.widget-view+json": {
       "model_id": "f2b89589362849da9824bba7b66073da",
       "version_major": 2,
       "version_minor": 0
      },
      "text/plain": [
       "  0%|          | 0/4000 [00:00<?, ?it/s]"
      ]
     },
     "metadata": {},
     "output_type": "display_data"
    },
    {
     "data": {
      "application/vnd.jupyter.widget-view+json": {
       "model_id": "17938b5f2ecc464d830f2eb66594ebd8",
       "version_major": 2,
       "version_minor": 0
      },
      "text/plain": [
       "  0%|          | 0/4000 [00:00<?, ?it/s]"
      ]
     },
     "metadata": {},
     "output_type": "display_data"
    },
    {
     "data": {
      "application/vnd.jupyter.widget-view+json": {
       "model_id": "17079aa259cf49f3be8951797af2fcac",
       "version_major": 2,
       "version_minor": 0
      },
      "text/plain": [
       "  0%|          | 0/4000 [00:00<?, ?it/s]"
      ]
     },
     "metadata": {},
     "output_type": "display_data"
    },
    {
     "data": {
      "application/vnd.jupyter.widget-view+json": {
       "model_id": "a4cd8034bb9349e6961bce56327c7fd2",
       "version_major": 2,
       "version_minor": 0
      },
      "text/plain": [
       "  0%|          | 0/4000 [00:00<?, ?it/s]"
      ]
     },
     "metadata": {},
     "output_type": "display_data"
    },
    {
     "data": {
      "application/vnd.jupyter.widget-view+json": {
       "model_id": "5f349e0f1ac9488b900daffa8d3cd2e4",
       "version_major": 2,
       "version_minor": 0
      },
      "text/plain": [
       "  0%|          | 0/4000 [00:00<?, ?it/s]"
      ]
     },
     "metadata": {},
     "output_type": "display_data"
    },
    {
     "data": {
      "application/vnd.jupyter.widget-view+json": {
       "model_id": "d187a32a62e746f8bfbf0d38a757a472",
       "version_major": 2,
       "version_minor": 0
      },
      "text/plain": [
       "  0%|          | 0/4000 [00:00<?, ?it/s]"
      ]
     },
     "metadata": {},
     "output_type": "display_data"
    },
    {
     "data": {
      "application/vnd.jupyter.widget-view+json": {
       "model_id": "6645436b3bc54957b7c0adc0d41ab950",
       "version_major": 2,
       "version_minor": 0
      },
      "text/plain": [
       "  0%|          | 0/4000 [00:00<?, ?it/s]"
      ]
     },
     "metadata": {},
     "output_type": "display_data"
    },
    {
     "data": {
      "application/vnd.jupyter.widget-view+json": {
       "model_id": "5f84dd8ceb124f209e65aaacdb418786",
       "version_major": 2,
       "version_minor": 0
      },
      "text/plain": [
       "  0%|          | 0/4000 [00:00<?, ?it/s]"
      ]
     },
     "metadata": {},
     "output_type": "display_data"
    },
    {
     "data": {
      "application/vnd.jupyter.widget-view+json": {
       "model_id": "920cb7d21037466c94e006bd22b35b8e",
       "version_major": 2,
       "version_minor": 0
      },
      "text/plain": [
       "  0%|          | 0/4000 [00:00<?, ?it/s]"
      ]
     },
     "metadata": {},
     "output_type": "display_data"
    },
    {
     "data": {
      "application/vnd.jupyter.widget-view+json": {
       "model_id": "7fb3e84415ca4555bb658f5c1c1f8c97",
       "version_major": 2,
       "version_minor": 0
      },
      "text/plain": [
       "  0%|          | 0/4000 [00:00<?, ?it/s]"
      ]
     },
     "metadata": {},
     "output_type": "display_data"
    },
    {
     "data": {
      "application/vnd.jupyter.widget-view+json": {
       "model_id": "44af7e7feb174c778449924e3a419782",
       "version_major": 2,
       "version_minor": 0
      },
      "text/plain": [
       "  0%|          | 0/4000 [00:00<?, ?it/s]"
      ]
     },
     "metadata": {},
     "output_type": "display_data"
    },
    {
     "data": {
      "application/vnd.jupyter.widget-view+json": {
       "model_id": "550a6a984efc48b987a137b159f13400",
       "version_major": 2,
       "version_minor": 0
      },
      "text/plain": [
       "  0%|          | 0/4000 [00:00<?, ?it/s]"
      ]
     },
     "metadata": {},
     "output_type": "display_data"
    },
    {
     "data": {
      "application/vnd.jupyter.widget-view+json": {
       "model_id": "d4f93912eae844ec9c6701f399b0aeab",
       "version_major": 2,
       "version_minor": 0
      },
      "text/plain": [
       "  0%|          | 0/4000 [00:00<?, ?it/s]"
      ]
     },
     "metadata": {},
     "output_type": "display_data"
    },
    {
     "data": {
      "application/vnd.jupyter.widget-view+json": {
       "model_id": "5d2395e1311d477da38b8615ab5807fc",
       "version_major": 2,
       "version_minor": 0
      },
      "text/plain": [
       "  0%|          | 0/4000 [00:00<?, ?it/s]"
      ]
     },
     "metadata": {},
     "output_type": "display_data"
    },
    {
     "data": {
      "application/vnd.jupyter.widget-view+json": {
       "model_id": "51b39151f11145f084ec2dc2ade06b90",
       "version_major": 2,
       "version_minor": 0
      },
      "text/plain": [
       "  0%|          | 0/4000 [00:00<?, ?it/s]"
      ]
     },
     "metadata": {},
     "output_type": "display_data"
    },
    {
     "data": {
      "application/vnd.jupyter.widget-view+json": {
       "model_id": "31a3ded5eb8f4326bdef1b68c5b448be",
       "version_major": 2,
       "version_minor": 0
      },
      "text/plain": [
       "  0%|          | 0/4000 [00:00<?, ?it/s]"
      ]
     },
     "metadata": {},
     "output_type": "display_data"
    },
    {
     "data": {
      "application/vnd.jupyter.widget-view+json": {
       "model_id": "15256c3414de4e0380ecac60ed79629d",
       "version_major": 2,
       "version_minor": 0
      },
      "text/plain": [
       "  0%|          | 0/4000 [00:00<?, ?it/s]"
      ]
     },
     "metadata": {},
     "output_type": "display_data"
    },
    {
     "data": {
      "application/vnd.jupyter.widget-view+json": {
       "model_id": "13b00afbe7574d83b02ff70487d0e6d8",
       "version_major": 2,
       "version_minor": 0
      },
      "text/plain": [
       "  0%|          | 0/4000 [00:00<?, ?it/s]"
      ]
     },
     "metadata": {},
     "output_type": "display_data"
    },
    {
     "data": {
      "application/vnd.jupyter.widget-view+json": {
       "model_id": "f956aa6481344aafa63db8812ee343cf",
       "version_major": 2,
       "version_minor": 0
      },
      "text/plain": [
       "  0%|          | 0/4000 [00:00<?, ?it/s]"
      ]
     },
     "metadata": {},
     "output_type": "display_data"
    },
    {
     "data": {
      "application/vnd.jupyter.widget-view+json": {
       "model_id": "0c123d82f18a4242859bb193aa2c6db6",
       "version_major": 2,
       "version_minor": 0
      },
      "text/plain": [
       "  0%|          | 0/4000 [00:00<?, ?it/s]"
      ]
     },
     "metadata": {},
     "output_type": "display_data"
    },
    {
     "data": {
      "application/vnd.jupyter.widget-view+json": {
       "model_id": "6e3ecd83bb8c45eeb0b2325888b3b4eb",
       "version_major": 2,
       "version_minor": 0
      },
      "text/plain": [
       "  0%|          | 0/4000 [00:00<?, ?it/s]"
      ]
     },
     "metadata": {},
     "output_type": "display_data"
    },
    {
     "data": {
      "application/vnd.jupyter.widget-view+json": {
       "model_id": "64072558946e4bc1990370482e0a31f5",
       "version_major": 2,
       "version_minor": 0
      },
      "text/plain": [
       "  0%|          | 0/4000 [00:00<?, ?it/s]"
      ]
     },
     "metadata": {},
     "output_type": "display_data"
    },
    {
     "data": {
      "application/vnd.jupyter.widget-view+json": {
       "model_id": "eacae68ebc71408e8caf118aed311517",
       "version_major": 2,
       "version_minor": 0
      },
      "text/plain": [
       "  0%|          | 0/4000 [00:00<?, ?it/s]"
      ]
     },
     "metadata": {},
     "output_type": "display_data"
    },
    {
     "data": {
      "application/vnd.jupyter.widget-view+json": {
       "model_id": "e94412b0a94048b293531dd9bf16c9b3",
       "version_major": 2,
       "version_minor": 0
      },
      "text/plain": [
       "  0%|          | 0/4000 [00:00<?, ?it/s]"
      ]
     },
     "metadata": {},
     "output_type": "display_data"
    },
    {
     "data": {
      "application/vnd.jupyter.widget-view+json": {
       "model_id": "c5a564c3b7ed42ceb50024ca26ea0fe4",
       "version_major": 2,
       "version_minor": 0
      },
      "text/plain": [
       "  0%|          | 0/4000 [00:00<?, ?it/s]"
      ]
     },
     "metadata": {},
     "output_type": "display_data"
    },
    {
     "data": {
      "application/vnd.jupyter.widget-view+json": {
       "model_id": "5b5ffa2dd14542f5a45ecc6d006fb4f4",
       "version_major": 2,
       "version_minor": 0
      },
      "text/plain": [
       "  0%|          | 0/4000 [00:00<?, ?it/s]"
      ]
     },
     "metadata": {},
     "output_type": "display_data"
    },
    {
     "data": {
      "application/vnd.jupyter.widget-view+json": {
       "model_id": "e1a77c5fd7884c95940c2817b110393c",
       "version_major": 2,
       "version_minor": 0
      },
      "text/plain": [
       "  0%|          | 0/4000 [00:00<?, ?it/s]"
      ]
     },
     "metadata": {},
     "output_type": "display_data"
    },
    {
     "data": {
      "application/vnd.jupyter.widget-view+json": {
       "model_id": "f8c20fecc634454fb048cc95a5ec12a5",
       "version_major": 2,
       "version_minor": 0
      },
      "text/plain": [
       "  0%|          | 0/4000 [00:00<?, ?it/s]"
      ]
     },
     "metadata": {},
     "output_type": "display_data"
    },
    {
     "data": {
      "application/vnd.jupyter.widget-view+json": {
       "model_id": "5fe641e031e04e51b448777e28c84275",
       "version_major": 2,
       "version_minor": 0
      },
      "text/plain": [
       "  0%|          | 0/4000 [00:00<?, ?it/s]"
      ]
     },
     "metadata": {},
     "output_type": "display_data"
    },
    {
     "data": {
      "application/vnd.jupyter.widget-view+json": {
       "model_id": "af4216898e494dd9bc6ca5985987e17e",
       "version_major": 2,
       "version_minor": 0
      },
      "text/plain": [
       "  0%|          | 0/4000 [00:00<?, ?it/s]"
      ]
     },
     "metadata": {},
     "output_type": "display_data"
    },
    {
     "data": {
      "application/vnd.jupyter.widget-view+json": {
       "model_id": "84f0149b8e4d49a58788d00e4adeda71",
       "version_major": 2,
       "version_minor": 0
      },
      "text/plain": [
       "  0%|          | 0/4000 [00:00<?, ?it/s]"
      ]
     },
     "metadata": {},
     "output_type": "display_data"
    },
    {
     "data": {
      "application/vnd.jupyter.widget-view+json": {
       "model_id": "057c08e39c27405984adc17f01ea32ae",
       "version_major": 2,
       "version_minor": 0
      },
      "text/plain": [
       "  0%|          | 0/4000 [00:00<?, ?it/s]"
      ]
     },
     "metadata": {},
     "output_type": "display_data"
    },
    {
     "data": {
      "application/vnd.jupyter.widget-view+json": {
       "model_id": "f0db0d2b3b444de79223cdad36276930",
       "version_major": 2,
       "version_minor": 0
      },
      "text/plain": [
       "  0%|          | 0/4000 [00:00<?, ?it/s]"
      ]
     },
     "metadata": {},
     "output_type": "display_data"
    },
    {
     "data": {
      "application/vnd.jupyter.widget-view+json": {
       "model_id": "dc3f7c90f08d4dd18dbc241bc19f7cce",
       "version_major": 2,
       "version_minor": 0
      },
      "text/plain": [
       "  0%|          | 0/4000 [00:00<?, ?it/s]"
      ]
     },
     "metadata": {},
     "output_type": "display_data"
    },
    {
     "data": {
      "application/vnd.jupyter.widget-view+json": {
       "model_id": "c785135e333f490b843c23560c25453a",
       "version_major": 2,
       "version_minor": 0
      },
      "text/plain": [
       "  0%|          | 0/4000 [00:00<?, ?it/s]"
      ]
     },
     "metadata": {},
     "output_type": "display_data"
    },
    {
     "data": {
      "application/vnd.jupyter.widget-view+json": {
       "model_id": "4b055601cf4d4e338db71ebc2ba27cd8",
       "version_major": 2,
       "version_minor": 0
      },
      "text/plain": [
       "  0%|          | 0/4000 [00:00<?, ?it/s]"
      ]
     },
     "metadata": {},
     "output_type": "display_data"
    },
    {
     "data": {
      "application/vnd.jupyter.widget-view+json": {
       "model_id": "4e599016e5094deeae127c38dca23554",
       "version_major": 2,
       "version_minor": 0
      },
      "text/plain": [
       "  0%|          | 0/4000 [00:00<?, ?it/s]"
      ]
     },
     "metadata": {},
     "output_type": "display_data"
    },
    {
     "data": {
      "application/vnd.jupyter.widget-view+json": {
       "model_id": "479be18f606941528e7e73c4adf354e0",
       "version_major": 2,
       "version_minor": 0
      },
      "text/plain": [
       "  0%|          | 0/4000 [00:00<?, ?it/s]"
      ]
     },
     "metadata": {},
     "output_type": "display_data"
    },
    {
     "data": {
      "application/vnd.jupyter.widget-view+json": {
       "model_id": "1058ec59cc894c118a11d23834a6908d",
       "version_major": 2,
       "version_minor": 0
      },
      "text/plain": [
       "  0%|          | 0/4000 [00:00<?, ?it/s]"
      ]
     },
     "metadata": {},
     "output_type": "display_data"
    },
    {
     "data": {
      "application/vnd.jupyter.widget-view+json": {
       "model_id": "033c585a40824ad8b8b88c7429e5f90b",
       "version_major": 2,
       "version_minor": 0
      },
      "text/plain": [
       "  0%|          | 0/4000 [00:00<?, ?it/s]"
      ]
     },
     "metadata": {},
     "output_type": "display_data"
    },
    {
     "data": {
      "application/vnd.jupyter.widget-view+json": {
       "model_id": "4db6676bb1344b04b61a1dc471de2b5f",
       "version_major": 2,
       "version_minor": 0
      },
      "text/plain": [
       "  0%|          | 0/4000 [00:00<?, ?it/s]"
      ]
     },
     "metadata": {},
     "output_type": "display_data"
    },
    {
     "data": {
      "application/vnd.jupyter.widget-view+json": {
       "model_id": "b51bd229f2414c46b191a231972794b8",
       "version_major": 2,
       "version_minor": 0
      },
      "text/plain": [
       "  0%|          | 0/4000 [00:00<?, ?it/s]"
      ]
     },
     "metadata": {},
     "output_type": "display_data"
    },
    {
     "data": {
      "application/vnd.jupyter.widget-view+json": {
       "model_id": "fbe8659a37d94b85a692f9ad70e499ff",
       "version_major": 2,
       "version_minor": 0
      },
      "text/plain": [
       "  0%|          | 0/4000 [00:00<?, ?it/s]"
      ]
     },
     "metadata": {},
     "output_type": "display_data"
    },
    {
     "data": {
      "application/vnd.jupyter.widget-view+json": {
       "model_id": "0aeb814879cc40f48d8d51349b582237",
       "version_major": 2,
       "version_minor": 0
      },
      "text/plain": [
       "  0%|          | 0/4000 [00:00<?, ?it/s]"
      ]
     },
     "metadata": {},
     "output_type": "display_data"
    },
    {
     "data": {
      "application/vnd.jupyter.widget-view+json": {
       "model_id": "70622360aa5e4d5aa87f6d57d0692054",
       "version_major": 2,
       "version_minor": 0
      },
      "text/plain": [
       "  0%|          | 0/4000 [00:00<?, ?it/s]"
      ]
     },
     "metadata": {},
     "output_type": "display_data"
    },
    {
     "data": {
      "application/vnd.jupyter.widget-view+json": {
       "model_id": "e5bd3d514e784421b24da7551661c2ef",
       "version_major": 2,
       "version_minor": 0
      },
      "text/plain": [
       "  0%|          | 0/4000 [00:00<?, ?it/s]"
      ]
     },
     "metadata": {},
     "output_type": "display_data"
    },
    {
     "data": {
      "application/vnd.jupyter.widget-view+json": {
       "model_id": "623c68469472443888bf2450c95833cf",
       "version_major": 2,
       "version_minor": 0
      },
      "text/plain": [
       "  0%|          | 0/4000 [00:00<?, ?it/s]"
      ]
     },
     "metadata": {},
     "output_type": "display_data"
    },
    {
     "data": {
      "application/vnd.jupyter.widget-view+json": {
       "model_id": "69b95f55dae34e2cb412fee8c2f4697b",
       "version_major": 2,
       "version_minor": 0
      },
      "text/plain": [
       "  0%|          | 0/4000 [00:00<?, ?it/s]"
      ]
     },
     "metadata": {},
     "output_type": "display_data"
    },
    {
     "data": {
      "application/vnd.jupyter.widget-view+json": {
       "model_id": "0f831ed3fb5f46caa98aea76208e3edb",
       "version_major": 2,
       "version_minor": 0
      },
      "text/plain": [
       "  0%|          | 0/4000 [00:00<?, ?it/s]"
      ]
     },
     "metadata": {},
     "output_type": "display_data"
    },
    {
     "data": {
      "application/vnd.jupyter.widget-view+json": {
       "model_id": "0ec20ae0f7a447af9a703340a4bdc7f5",
       "version_major": 2,
       "version_minor": 0
      },
      "text/plain": [
       "  0%|          | 0/4000 [00:00<?, ?it/s]"
      ]
     },
     "metadata": {},
     "output_type": "display_data"
    },
    {
     "data": {
      "application/vnd.jupyter.widget-view+json": {
       "model_id": "157c25d893084c85ba5a54ddcfc6ed38",
       "version_major": 2,
       "version_minor": 0
      },
      "text/plain": [
       "  0%|          | 0/4000 [00:00<?, ?it/s]"
      ]
     },
     "metadata": {},
     "output_type": "display_data"
    },
    {
     "data": {
      "application/vnd.jupyter.widget-view+json": {
       "model_id": "15c69e2b6f834dc59697a36a1ee17d12",
       "version_major": 2,
       "version_minor": 0
      },
      "text/plain": [
       "  0%|          | 0/4000 [00:00<?, ?it/s]"
      ]
     },
     "metadata": {},
     "output_type": "display_data"
    },
    {
     "data": {
      "application/vnd.jupyter.widget-view+json": {
       "model_id": "0dde91b60ae34435bb352cb8ff31db40",
       "version_major": 2,
       "version_minor": 0
      },
      "text/plain": [
       "  0%|          | 0/4000 [00:00<?, ?it/s]"
      ]
     },
     "metadata": {},
     "output_type": "display_data"
    },
    {
     "data": {
      "application/vnd.jupyter.widget-view+json": {
       "model_id": "3ea6e41b35124c1a82faaf1a9c9f8a16",
       "version_major": 2,
       "version_minor": 0
      },
      "text/plain": [
       "  0%|          | 0/4000 [00:00<?, ?it/s]"
      ]
     },
     "metadata": {},
     "output_type": "display_data"
    },
    {
     "data": {
      "application/vnd.jupyter.widget-view+json": {
       "model_id": "c7a8428f7ab344f3a67ea2fbb0eb9c15",
       "version_major": 2,
       "version_minor": 0
      },
      "text/plain": [
       "  0%|          | 0/4000 [00:00<?, ?it/s]"
      ]
     },
     "metadata": {},
     "output_type": "display_data"
    },
    {
     "data": {
      "application/vnd.jupyter.widget-view+json": {
       "model_id": "b427a1659f984c90839fb465d74ebb0c",
       "version_major": 2,
       "version_minor": 0
      },
      "text/plain": [
       "  0%|          | 0/4000 [00:00<?, ?it/s]"
      ]
     },
     "metadata": {},
     "output_type": "display_data"
    },
    {
     "data": {
      "application/vnd.jupyter.widget-view+json": {
       "model_id": "9da05187bce0487a913caae0e6224b8c",
       "version_major": 2,
       "version_minor": 0
      },
      "text/plain": [
       "  0%|          | 0/4000 [00:00<?, ?it/s]"
      ]
     },
     "metadata": {},
     "output_type": "display_data"
    },
    {
     "data": {
      "application/vnd.jupyter.widget-view+json": {
       "model_id": "de33c3d85d934e9d8c4ac1f6607ff16e",
       "version_major": 2,
       "version_minor": 0
      },
      "text/plain": [
       "  0%|          | 0/4000 [00:00<?, ?it/s]"
      ]
     },
     "metadata": {},
     "output_type": "display_data"
    },
    {
     "data": {
      "application/vnd.jupyter.widget-view+json": {
       "model_id": "e41306e9b0e641a191b4bc7d068aa2e2",
       "version_major": 2,
       "version_minor": 0
      },
      "text/plain": [
       "  0%|          | 0/4000 [00:00<?, ?it/s]"
      ]
     },
     "metadata": {},
     "output_type": "display_data"
    },
    {
     "data": {
      "application/vnd.jupyter.widget-view+json": {
       "model_id": "80076c0bf2d9455fb398524f2e46cbff",
       "version_major": 2,
       "version_minor": 0
      },
      "text/plain": [
       "  0%|          | 0/4000 [00:00<?, ?it/s]"
      ]
     },
     "metadata": {},
     "output_type": "display_data"
    },
    {
     "data": {
      "application/vnd.jupyter.widget-view+json": {
       "model_id": "5cd39e5883db4ebbb372fe4bce95866a",
       "version_major": 2,
       "version_minor": 0
      },
      "text/plain": [
       "  0%|          | 0/4000 [00:00<?, ?it/s]"
      ]
     },
     "metadata": {},
     "output_type": "display_data"
    },
    {
     "data": {
      "application/vnd.jupyter.widget-view+json": {
       "model_id": "6cdfa43a251d4f68aefeade7e75547eb",
       "version_major": 2,
       "version_minor": 0
      },
      "text/plain": [
       "  0%|          | 0/4000 [00:00<?, ?it/s]"
      ]
     },
     "metadata": {},
     "output_type": "display_data"
    },
    {
     "data": {
      "application/vnd.jupyter.widget-view+json": {
       "model_id": "c09c0cc34a964d77b2ad97b07e0e148f",
       "version_major": 2,
       "version_minor": 0
      },
      "text/plain": [
       "  0%|          | 0/4000 [00:00<?, ?it/s]"
      ]
     },
     "metadata": {},
     "output_type": "display_data"
    },
    {
     "data": {
      "application/vnd.jupyter.widget-view+json": {
       "model_id": "54e7c011b5aa464cb1060f1e7ed0606a",
       "version_major": 2,
       "version_minor": 0
      },
      "text/plain": [
       "  0%|          | 0/4000 [00:00<?, ?it/s]"
      ]
     },
     "metadata": {},
     "output_type": "display_data"
    },
    {
     "data": {
      "application/vnd.jupyter.widget-view+json": {
       "model_id": "b006845028ec4bbab6b1b135433198c8",
       "version_major": 2,
       "version_minor": 0
      },
      "text/plain": [
       "  0%|          | 0/4000 [00:00<?, ?it/s]"
      ]
     },
     "metadata": {},
     "output_type": "display_data"
    },
    {
     "data": {
      "application/vnd.jupyter.widget-view+json": {
       "model_id": "96434b5f30f14b9eb52fd63390d63bf5",
       "version_major": 2,
       "version_minor": 0
      },
      "text/plain": [
       "  0%|          | 0/4000 [00:00<?, ?it/s]"
      ]
     },
     "metadata": {},
     "output_type": "display_data"
    },
    {
     "data": {
      "application/vnd.jupyter.widget-view+json": {
       "model_id": "45cead3bdcf04c77814d2c85e37d3224",
       "version_major": 2,
       "version_minor": 0
      },
      "text/plain": [
       "  0%|          | 0/4000 [00:00<?, ?it/s]"
      ]
     },
     "metadata": {},
     "output_type": "display_data"
    },
    {
     "data": {
      "application/vnd.jupyter.widget-view+json": {
       "model_id": "2e06d0d783244f63b18f592444b8b223",
       "version_major": 2,
       "version_minor": 0
      },
      "text/plain": [
       "  0%|          | 0/4000 [00:00<?, ?it/s]"
      ]
     },
     "metadata": {},
     "output_type": "display_data"
    },
    {
     "data": {
      "application/vnd.jupyter.widget-view+json": {
       "model_id": "459abcf3992144ec8b018f1e70955d2b",
       "version_major": 2,
       "version_minor": 0
      },
      "text/plain": [
       "  0%|          | 0/4000 [00:00<?, ?it/s]"
      ]
     },
     "metadata": {},
     "output_type": "display_data"
    },
    {
     "data": {
      "application/vnd.jupyter.widget-view+json": {
       "model_id": "e48c95f04c09462b87706a17baf7fdc7",
       "version_major": 2,
       "version_minor": 0
      },
      "text/plain": [
       "  0%|          | 0/4000 [00:00<?, ?it/s]"
      ]
     },
     "metadata": {},
     "output_type": "display_data"
    },
    {
     "data": {
      "application/vnd.jupyter.widget-view+json": {
       "model_id": "e94d80e117dc40f4a63a8617f9ea0c16",
       "version_major": 2,
       "version_minor": 0
      },
      "text/plain": [
       "  0%|          | 0/4000 [00:00<?, ?it/s]"
      ]
     },
     "metadata": {},
     "output_type": "display_data"
    },
    {
     "data": {
      "application/vnd.jupyter.widget-view+json": {
       "model_id": "1a19e4e6c1f24b18bad2f4696a802788",
       "version_major": 2,
       "version_minor": 0
      },
      "text/plain": [
       "  0%|          | 0/4000 [00:00<?, ?it/s]"
      ]
     },
     "metadata": {},
     "output_type": "display_data"
    },
    {
     "data": {
      "application/vnd.jupyter.widget-view+json": {
       "model_id": "c717e041bc114dafbd4e0df871cc6030",
       "version_major": 2,
       "version_minor": 0
      },
      "text/plain": [
       "  0%|          | 0/4000 [00:00<?, ?it/s]"
      ]
     },
     "metadata": {},
     "output_type": "display_data"
    },
    {
     "data": {
      "application/vnd.jupyter.widget-view+json": {
       "model_id": "9732c72497f24f08a398612cd1d31c73",
       "version_major": 2,
       "version_minor": 0
      },
      "text/plain": [
       "  0%|          | 0/4000 [00:00<?, ?it/s]"
      ]
     },
     "metadata": {},
     "output_type": "display_data"
    },
    {
     "data": {
      "application/vnd.jupyter.widget-view+json": {
       "model_id": "90bff7db4901422897509504dde9a202",
       "version_major": 2,
       "version_minor": 0
      },
      "text/plain": [
       "  0%|          | 0/4000 [00:00<?, ?it/s]"
      ]
     },
     "metadata": {},
     "output_type": "display_data"
    },
    {
     "data": {
      "application/vnd.jupyter.widget-view+json": {
       "model_id": "3f727e0103894720a658fba17eeec24c",
       "version_major": 2,
       "version_minor": 0
      },
      "text/plain": [
       "  0%|          | 0/4000 [00:00<?, ?it/s]"
      ]
     },
     "metadata": {},
     "output_type": "display_data"
    },
    {
     "data": {
      "application/vnd.jupyter.widget-view+json": {
       "model_id": "f779a263c07940e9983994bbb6265fe4",
       "version_major": 2,
       "version_minor": 0
      },
      "text/plain": [
       "  0%|          | 0/4000 [00:00<?, ?it/s]"
      ]
     },
     "metadata": {},
     "output_type": "display_data"
    },
    {
     "data": {
      "application/vnd.jupyter.widget-view+json": {
       "model_id": "53ac8f7b01934a9b9b7f3f0c5c03b74b",
       "version_major": 2,
       "version_minor": 0
      },
      "text/plain": [
       "  0%|          | 0/4000 [00:00<?, ?it/s]"
      ]
     },
     "metadata": {},
     "output_type": "display_data"
    },
    {
     "data": {
      "application/vnd.jupyter.widget-view+json": {
       "model_id": "6100ffdf7d3842718f2d1eaca821634d",
       "version_major": 2,
       "version_minor": 0
      },
      "text/plain": [
       "  0%|          | 0/4000 [00:00<?, ?it/s]"
      ]
     },
     "metadata": {},
     "output_type": "display_data"
    },
    {
     "data": {
      "application/vnd.jupyter.widget-view+json": {
       "model_id": "39d1c0a42b534051b7355079876f7ad4",
       "version_major": 2,
       "version_minor": 0
      },
      "text/plain": [
       "  0%|          | 0/4000 [00:00<?, ?it/s]"
      ]
     },
     "metadata": {},
     "output_type": "display_data"
    },
    {
     "data": {
      "application/vnd.jupyter.widget-view+json": {
       "model_id": "288dcae2ae12483891f25a4c77b13c27",
       "version_major": 2,
       "version_minor": 0
      },
      "text/plain": [
       "  0%|          | 0/4000 [00:00<?, ?it/s]"
      ]
     },
     "metadata": {},
     "output_type": "display_data"
    },
    {
     "data": {
      "application/vnd.jupyter.widget-view+json": {
       "model_id": "35a5c81778754ac2bbc303e0f160e98c",
       "version_major": 2,
       "version_minor": 0
      },
      "text/plain": [
       "  0%|          | 0/4000 [00:00<?, ?it/s]"
      ]
     },
     "metadata": {},
     "output_type": "display_data"
    },
    {
     "data": {
      "application/vnd.jupyter.widget-view+json": {
       "model_id": "c8f4b18af1b6487e909657188f3bc010",
       "version_major": 2,
       "version_minor": 0
      },
      "text/plain": [
       "  0%|          | 0/4000 [00:00<?, ?it/s]"
      ]
     },
     "metadata": {},
     "output_type": "display_data"
    },
    {
     "data": {
      "application/vnd.jupyter.widget-view+json": {
       "model_id": "9df7ac5fe8dd4dc19d1afb9c06c55f91",
       "version_major": 2,
       "version_minor": 0
      },
      "text/plain": [
       "  0%|          | 0/4000 [00:00<?, ?it/s]"
      ]
     },
     "metadata": {},
     "output_type": "display_data"
    },
    {
     "data": {
      "application/vnd.jupyter.widget-view+json": {
       "model_id": "f749e686b8ee46ff886521cfa5287d54",
       "version_major": 2,
       "version_minor": 0
      },
      "text/plain": [
       "  0%|          | 0/4000 [00:00<?, ?it/s]"
      ]
     },
     "metadata": {},
     "output_type": "display_data"
    },
    {
     "data": {
      "application/vnd.jupyter.widget-view+json": {
       "model_id": "367269b23df94b9fb2460472c5d0e7c1",
       "version_major": 2,
       "version_minor": 0
      },
      "text/plain": [
       "  0%|          | 0/4000 [00:00<?, ?it/s]"
      ]
     },
     "metadata": {},
     "output_type": "display_data"
    },
    {
     "data": {
      "application/vnd.jupyter.widget-view+json": {
       "model_id": "e88708463ac547ba9735f33959da2cf0",
       "version_major": 2,
       "version_minor": 0
      },
      "text/plain": [
       "  0%|          | 0/4000 [00:00<?, ?it/s]"
      ]
     },
     "metadata": {},
     "output_type": "display_data"
    },
    {
     "data": {
      "application/vnd.jupyter.widget-view+json": {
       "model_id": "6f63372df7344c8ea5faf448952f5dc6",
       "version_major": 2,
       "version_minor": 0
      },
      "text/plain": [
       "  0%|          | 0/4000 [00:00<?, ?it/s]"
      ]
     },
     "metadata": {},
     "output_type": "display_data"
    },
    {
     "data": {
      "application/vnd.jupyter.widget-view+json": {
       "model_id": "7cfc3b99509945dbbff5e76d590e8edf",
       "version_major": 2,
       "version_minor": 0
      },
      "text/plain": [
       "  0%|          | 0/4000 [00:00<?, ?it/s]"
      ]
     },
     "metadata": {},
     "output_type": "display_data"
    },
    {
     "data": {
      "application/vnd.jupyter.widget-view+json": {
       "model_id": "7ac885f78b0e4060a86753a498ce7352",
       "version_major": 2,
       "version_minor": 0
      },
      "text/plain": [
       "  0%|          | 0/4000 [00:00<?, ?it/s]"
      ]
     },
     "metadata": {},
     "output_type": "display_data"
    },
    {
     "data": {
      "application/vnd.jupyter.widget-view+json": {
       "model_id": "8ef359dc31a2486c8905747899fa6e4d",
       "version_major": 2,
       "version_minor": 0
      },
      "text/plain": [
       "  0%|          | 0/4000 [00:00<?, ?it/s]"
      ]
     },
     "metadata": {},
     "output_type": "display_data"
    },
    {
     "data": {
      "application/vnd.jupyter.widget-view+json": {
       "model_id": "7c2cfcfe34784d85bdd3575816224f19",
       "version_major": 2,
       "version_minor": 0
      },
      "text/plain": [
       "  0%|          | 0/4000 [00:00<?, ?it/s]"
      ]
     },
     "metadata": {},
     "output_type": "display_data"
    },
    {
     "data": {
      "application/vnd.jupyter.widget-view+json": {
       "model_id": "767088dbc0354a3bae1b7be66c638063",
       "version_major": 2,
       "version_minor": 0
      },
      "text/plain": [
       "  0%|          | 0/4000 [00:00<?, ?it/s]"
      ]
     },
     "metadata": {},
     "output_type": "display_data"
    },
    {
     "data": {
      "application/vnd.jupyter.widget-view+json": {
       "model_id": "eeefe9f0bb004b329b5bd55989ac5182",
       "version_major": 2,
       "version_minor": 0
      },
      "text/plain": [
       "  0%|          | 0/4000 [00:00<?, ?it/s]"
      ]
     },
     "metadata": {},
     "output_type": "display_data"
    },
    {
     "data": {
      "application/vnd.jupyter.widget-view+json": {
       "model_id": "1e8d5365060d48c989e82dff9754db78",
       "version_major": 2,
       "version_minor": 0
      },
      "text/plain": [
       "  0%|          | 0/4000 [00:00<?, ?it/s]"
      ]
     },
     "metadata": {},
     "output_type": "display_data"
    },
    {
     "data": {
      "application/vnd.jupyter.widget-view+json": {
       "model_id": "3edb77cfc1e34654a12ec6b1325b0484",
       "version_major": 2,
       "version_minor": 0
      },
      "text/plain": [
       "  0%|          | 0/4000 [00:00<?, ?it/s]"
      ]
     },
     "metadata": {},
     "output_type": "display_data"
    },
    {
     "data": {
      "application/vnd.jupyter.widget-view+json": {
       "model_id": "e484a9295688479fa277cb37d4690931",
       "version_major": 2,
       "version_minor": 0
      },
      "text/plain": [
       "  0%|          | 0/4000 [00:00<?, ?it/s]"
      ]
     },
     "metadata": {},
     "output_type": "display_data"
    },
    {
     "data": {
      "application/vnd.jupyter.widget-view+json": {
       "model_id": "5347ddda67c74ae1973c4bd57eefc105",
       "version_major": 2,
       "version_minor": 0
      },
      "text/plain": [
       "  0%|          | 0/4000 [00:00<?, ?it/s]"
      ]
     },
     "metadata": {},
     "output_type": "display_data"
    },
    {
     "data": {
      "application/vnd.jupyter.widget-view+json": {
       "model_id": "fc24f820046141f5a6aded81b3cbb298",
       "version_major": 2,
       "version_minor": 0
      },
      "text/plain": [
       "  0%|          | 0/4000 [00:00<?, ?it/s]"
      ]
     },
     "metadata": {},
     "output_type": "display_data"
    },
    {
     "data": {
      "application/vnd.jupyter.widget-view+json": {
       "model_id": "8ad0d9123a224ef48846cf6e483ae5ad",
       "version_major": 2,
       "version_minor": 0
      },
      "text/plain": [
       "  0%|          | 0/4000 [00:00<?, ?it/s]"
      ]
     },
     "metadata": {},
     "output_type": "display_data"
    },
    {
     "data": {
      "application/vnd.jupyter.widget-view+json": {
       "model_id": "5ee878a6a0b646abbb190c714048f357",
       "version_major": 2,
       "version_minor": 0
      },
      "text/plain": [
       "  0%|          | 0/4000 [00:00<?, ?it/s]"
      ]
     },
     "metadata": {},
     "output_type": "display_data"
    },
    {
     "data": {
      "application/vnd.jupyter.widget-view+json": {
       "model_id": "2c37413fff094f428c23cf3f31d13710",
       "version_major": 2,
       "version_minor": 0
      },
      "text/plain": [
       "  0%|          | 0/4000 [00:00<?, ?it/s]"
      ]
     },
     "metadata": {},
     "output_type": "display_data"
    },
    {
     "data": {
      "application/vnd.jupyter.widget-view+json": {
       "model_id": "c2ff9c2b781b400c8d8716ca0ab477a3",
       "version_major": 2,
       "version_minor": 0
      },
      "text/plain": [
       "  0%|          | 0/4000 [00:00<?, ?it/s]"
      ]
     },
     "metadata": {},
     "output_type": "display_data"
    },
    {
     "data": {
      "application/vnd.jupyter.widget-view+json": {
       "model_id": "c32fbb87d1464bdd913b5a85b4a0efee",
       "version_major": 2,
       "version_minor": 0
      },
      "text/plain": [
       "  0%|          | 0/4000 [00:00<?, ?it/s]"
      ]
     },
     "metadata": {},
     "output_type": "display_data"
    },
    {
     "data": {
      "application/vnd.jupyter.widget-view+json": {
       "model_id": "9b6dbf7815e841d48b064b9cd940868b",
       "version_major": 2,
       "version_minor": 0
      },
      "text/plain": [
       "  0%|          | 0/4000 [00:00<?, ?it/s]"
      ]
     },
     "metadata": {},
     "output_type": "display_data"
    },
    {
     "data": {
      "application/vnd.jupyter.widget-view+json": {
       "model_id": "03d5db53304f4a268f47c9771a15aa90",
       "version_major": 2,
       "version_minor": 0
      },
      "text/plain": [
       "  0%|          | 0/4000 [00:00<?, ?it/s]"
      ]
     },
     "metadata": {},
     "output_type": "display_data"
    },
    {
     "data": {
      "application/vnd.jupyter.widget-view+json": {
       "model_id": "8f595c5155f84de5ae5af3870d4c42cf",
       "version_major": 2,
       "version_minor": 0
      },
      "text/plain": [
       "  0%|          | 0/4000 [00:00<?, ?it/s]"
      ]
     },
     "metadata": {},
     "output_type": "display_data"
    },
    {
     "data": {
      "application/vnd.jupyter.widget-view+json": {
       "model_id": "fb33fbd789ca42a386a4f1c32589ce7d",
       "version_major": 2,
       "version_minor": 0
      },
      "text/plain": [
       "  0%|          | 0/4000 [00:00<?, ?it/s]"
      ]
     },
     "metadata": {},
     "output_type": "display_data"
    },
    {
     "data": {
      "application/vnd.jupyter.widget-view+json": {
       "model_id": "bbdebb60b1a64dfc96dea7f56f37c6aa",
       "version_major": 2,
       "version_minor": 0
      },
      "text/plain": [
       "  0%|          | 0/4000 [00:00<?, ?it/s]"
      ]
     },
     "metadata": {},
     "output_type": "display_data"
    },
    {
     "data": {
      "application/vnd.jupyter.widget-view+json": {
       "model_id": "9605b313b92d485e8aa568dc3d3521dd",
       "version_major": 2,
       "version_minor": 0
      },
      "text/plain": [
       "  0%|          | 0/4000 [00:00<?, ?it/s]"
      ]
     },
     "metadata": {},
     "output_type": "display_data"
    },
    {
     "data": {
      "application/vnd.jupyter.widget-view+json": {
       "model_id": "0552a9f6036f46da8f2a642aae6ea1b9",
       "version_major": 2,
       "version_minor": 0
      },
      "text/plain": [
       "  0%|          | 0/4000 [00:00<?, ?it/s]"
      ]
     },
     "metadata": {},
     "output_type": "display_data"
    },
    {
     "data": {
      "application/vnd.jupyter.widget-view+json": {
       "model_id": "a72dd1135d4d459cbb7b3dc9fc7d1776",
       "version_major": 2,
       "version_minor": 0
      },
      "text/plain": [
       "  0%|          | 0/4000 [00:00<?, ?it/s]"
      ]
     },
     "metadata": {},
     "output_type": "display_data"
    },
    {
     "data": {
      "application/vnd.jupyter.widget-view+json": {
       "model_id": "20dcc86d807b4fa0846ee9406e2085d8",
       "version_major": 2,
       "version_minor": 0
      },
      "text/plain": [
       "  0%|          | 0/4000 [00:00<?, ?it/s]"
      ]
     },
     "metadata": {},
     "output_type": "display_data"
    },
    {
     "data": {
      "application/vnd.jupyter.widget-view+json": {
       "model_id": "a6b211babdbc48a8951fccbed514948a",
       "version_major": 2,
       "version_minor": 0
      },
      "text/plain": [
       "  0%|          | 0/4000 [00:00<?, ?it/s]"
      ]
     },
     "metadata": {},
     "output_type": "display_data"
    },
    {
     "data": {
      "application/vnd.jupyter.widget-view+json": {
       "model_id": "e05283ad70a04c9a95490df6ff5c75dd",
       "version_major": 2,
       "version_minor": 0
      },
      "text/plain": [
       "  0%|          | 0/4000 [00:00<?, ?it/s]"
      ]
     },
     "metadata": {},
     "output_type": "display_data"
    },
    {
     "data": {
      "application/vnd.jupyter.widget-view+json": {
       "model_id": "c9e20f0ae7de4e81afe7434b2197ee1f",
       "version_major": 2,
       "version_minor": 0
      },
      "text/plain": [
       "  0%|          | 0/4000 [00:00<?, ?it/s]"
      ]
     },
     "metadata": {},
     "output_type": "display_data"
    },
    {
     "data": {
      "application/vnd.jupyter.widget-view+json": {
       "model_id": "143aa82e19434e98919d8f93f9c49b48",
       "version_major": 2,
       "version_minor": 0
      },
      "text/plain": [
       "  0%|          | 0/4000 [00:00<?, ?it/s]"
      ]
     },
     "metadata": {},
     "output_type": "display_data"
    },
    {
     "data": {
      "application/vnd.jupyter.widget-view+json": {
       "model_id": "192dd0c0eeff4fcb97729e201782c4fa",
       "version_major": 2,
       "version_minor": 0
      },
      "text/plain": [
       "  0%|          | 0/4000 [00:00<?, ?it/s]"
      ]
     },
     "metadata": {},
     "output_type": "display_data"
    },
    {
     "data": {
      "application/vnd.jupyter.widget-view+json": {
       "model_id": "35f60e67f07f44a9a4b8b598c9b13c8e",
       "version_major": 2,
       "version_minor": 0
      },
      "text/plain": [
       "  0%|          | 0/4000 [00:00<?, ?it/s]"
      ]
     },
     "metadata": {},
     "output_type": "display_data"
    },
    {
     "data": {
      "application/vnd.jupyter.widget-view+json": {
       "model_id": "353086cd57374f0b91da75d24725c01f",
       "version_major": 2,
       "version_minor": 0
      },
      "text/plain": [
       "  0%|          | 0/4000 [00:00<?, ?it/s]"
      ]
     },
     "metadata": {},
     "output_type": "display_data"
    },
    {
     "data": {
      "application/vnd.jupyter.widget-view+json": {
       "model_id": "f308361a1ed3405e96135cde06a50bad",
       "version_major": 2,
       "version_minor": 0
      },
      "text/plain": [
       "  0%|          | 0/4000 [00:00<?, ?it/s]"
      ]
     },
     "metadata": {},
     "output_type": "display_data"
    },
    {
     "data": {
      "application/vnd.jupyter.widget-view+json": {
       "model_id": "ac89d11c889a404d9a05dffde9079b19",
       "version_major": 2,
       "version_minor": 0
      },
      "text/plain": [
       "  0%|          | 0/4000 [00:00<?, ?it/s]"
      ]
     },
     "metadata": {},
     "output_type": "display_data"
    },
    {
     "data": {
      "application/vnd.jupyter.widget-view+json": {
       "model_id": "1f59ec1bf375433dbda795e960c25108",
       "version_major": 2,
       "version_minor": 0
      },
      "text/plain": [
       "  0%|          | 0/4000 [00:00<?, ?it/s]"
      ]
     },
     "metadata": {},
     "output_type": "display_data"
    },
    {
     "data": {
      "application/vnd.jupyter.widget-view+json": {
       "model_id": "513b8591f41241d4a3889b8ac4ae8df3",
       "version_major": 2,
       "version_minor": 0
      },
      "text/plain": [
       "  0%|          | 0/4000 [00:00<?, ?it/s]"
      ]
     },
     "metadata": {},
     "output_type": "display_data"
    },
    {
     "data": {
      "application/vnd.jupyter.widget-view+json": {
       "model_id": "ffa54ad2267f41778da4eaa2bd9a1bb0",
       "version_major": 2,
       "version_minor": 0
      },
      "text/plain": [
       "  0%|          | 0/4000 [00:00<?, ?it/s]"
      ]
     },
     "metadata": {},
     "output_type": "display_data"
    },
    {
     "data": {
      "application/vnd.jupyter.widget-view+json": {
       "model_id": "9cc76e6270a84f6aa2265611f383a56e",
       "version_major": 2,
       "version_minor": 0
      },
      "text/plain": [
       "  0%|          | 0/4000 [00:00<?, ?it/s]"
      ]
     },
     "metadata": {},
     "output_type": "display_data"
    },
    {
     "data": {
      "application/vnd.jupyter.widget-view+json": {
       "model_id": "120c4b01e6184f9985edcc146d1d4621",
       "version_major": 2,
       "version_minor": 0
      },
      "text/plain": [
       "  0%|          | 0/4000 [00:00<?, ?it/s]"
      ]
     },
     "metadata": {},
     "output_type": "display_data"
    },
    {
     "data": {
      "application/vnd.jupyter.widget-view+json": {
       "model_id": "3c98f42a814b4d3fa2c122fcf19bbee7",
       "version_major": 2,
       "version_minor": 0
      },
      "text/plain": [
       "  0%|          | 0/4000 [00:00<?, ?it/s]"
      ]
     },
     "metadata": {},
     "output_type": "display_data"
    },
    {
     "data": {
      "application/vnd.jupyter.widget-view+json": {
       "model_id": "de60cf64f8e3437b96fcf8e7c2f81ae4",
       "version_major": 2,
       "version_minor": 0
      },
      "text/plain": [
       "  0%|          | 0/4000 [00:00<?, ?it/s]"
      ]
     },
     "metadata": {},
     "output_type": "display_data"
    },
    {
     "data": {
      "application/vnd.jupyter.widget-view+json": {
       "model_id": "7377d2513366405a86b0e585ec39e68c",
       "version_major": 2,
       "version_minor": 0
      },
      "text/plain": [
       "  0%|          | 0/4000 [00:00<?, ?it/s]"
      ]
     },
     "metadata": {},
     "output_type": "display_data"
    },
    {
     "data": {
      "application/vnd.jupyter.widget-view+json": {
       "model_id": "6d030e916d56452a8787e941e8b16308",
       "version_major": 2,
       "version_minor": 0
      },
      "text/plain": [
       "  0%|          | 0/4000 [00:00<?, ?it/s]"
      ]
     },
     "metadata": {},
     "output_type": "display_data"
    },
    {
     "data": {
      "application/vnd.jupyter.widget-view+json": {
       "model_id": "9bdd730604004d478fc75ac7e260df26",
       "version_major": 2,
       "version_minor": 0
      },
      "text/plain": [
       "  0%|          | 0/4000 [00:00<?, ?it/s]"
      ]
     },
     "metadata": {},
     "output_type": "display_data"
    },
    {
     "data": {
      "application/vnd.jupyter.widget-view+json": {
       "model_id": "ff67ccf863f540a8820bb5e1d175e4cc",
       "version_major": 2,
       "version_minor": 0
      },
      "text/plain": [
       "  0%|          | 0/4000 [00:00<?, ?it/s]"
      ]
     },
     "metadata": {},
     "output_type": "display_data"
    },
    {
     "data": {
      "application/vnd.jupyter.widget-view+json": {
       "model_id": "cfdca5f2475f445ea2f370294b3822f2",
       "version_major": 2,
       "version_minor": 0
      },
      "text/plain": [
       "  0%|          | 0/4000 [00:00<?, ?it/s]"
      ]
     },
     "metadata": {},
     "output_type": "display_data"
    },
    {
     "data": {
      "application/vnd.jupyter.widget-view+json": {
       "model_id": "d2c45c849ade423b80e7e42906da5c67",
       "version_major": 2,
       "version_minor": 0
      },
      "text/plain": [
       "  0%|          | 0/4000 [00:00<?, ?it/s]"
      ]
     },
     "metadata": {},
     "output_type": "display_data"
    },
    {
     "data": {
      "application/vnd.jupyter.widget-view+json": {
       "model_id": "442793b0d484469f86fd0c151fcf3728",
       "version_major": 2,
       "version_minor": 0
      },
      "text/plain": [
       "  0%|          | 0/4000 [00:00<?, ?it/s]"
      ]
     },
     "metadata": {},
     "output_type": "display_data"
    },
    {
     "data": {
      "application/vnd.jupyter.widget-view+json": {
       "model_id": "7b196c5b022c40db96460be3fcb38675",
       "version_major": 2,
       "version_minor": 0
      },
      "text/plain": [
       "  0%|          | 0/4000 [00:00<?, ?it/s]"
      ]
     },
     "metadata": {},
     "output_type": "display_data"
    },
    {
     "data": {
      "application/vnd.jupyter.widget-view+json": {
       "model_id": "be8ea7b5ffde48c7bcb6a35b56f7e0ca",
       "version_major": 2,
       "version_minor": 0
      },
      "text/plain": [
       "  0%|          | 0/4000 [00:00<?, ?it/s]"
      ]
     },
     "metadata": {},
     "output_type": "display_data"
    },
    {
     "data": {
      "application/vnd.jupyter.widget-view+json": {
       "model_id": "6fba91be9e4a4b12b74e427d96f89b5e",
       "version_major": 2,
       "version_minor": 0
      },
      "text/plain": [
       "  0%|          | 0/4000 [00:00<?, ?it/s]"
      ]
     },
     "metadata": {},
     "output_type": "display_data"
    },
    {
     "data": {
      "application/vnd.jupyter.widget-view+json": {
       "model_id": "7d4e3594573e4edcaf86b468963b8f84",
       "version_major": 2,
       "version_minor": 0
      },
      "text/plain": [
       "  0%|          | 0/4000 [00:00<?, ?it/s]"
      ]
     },
     "metadata": {},
     "output_type": "display_data"
    },
    {
     "data": {
      "application/vnd.jupyter.widget-view+json": {
       "model_id": "ca2ab87ef8f34d10bdee1c4174b3d752",
       "version_major": 2,
       "version_minor": 0
      },
      "text/plain": [
       "  0%|          | 0/4000 [00:00<?, ?it/s]"
      ]
     },
     "metadata": {},
     "output_type": "display_data"
    },
    {
     "data": {
      "application/vnd.jupyter.widget-view+json": {
       "model_id": "c68460578c8449e3a52f411643257986",
       "version_major": 2,
       "version_minor": 0
      },
      "text/plain": [
       "  0%|          | 0/4000 [00:00<?, ?it/s]"
      ]
     },
     "metadata": {},
     "output_type": "display_data"
    },
    {
     "data": {
      "application/vnd.jupyter.widget-view+json": {
       "model_id": "5861897690994fda9361a561ce403a22",
       "version_major": 2,
       "version_minor": 0
      },
      "text/plain": [
       "  0%|          | 0/4000 [00:00<?, ?it/s]"
      ]
     },
     "metadata": {},
     "output_type": "display_data"
    },
    {
     "data": {
      "application/vnd.jupyter.widget-view+json": {
       "model_id": "ab2b97e1b7ea4bbfb7ceb371ec8a93b4",
       "version_major": 2,
       "version_minor": 0
      },
      "text/plain": [
       "  0%|          | 0/4000 [00:00<?, ?it/s]"
      ]
     },
     "metadata": {},
     "output_type": "display_data"
    },
    {
     "data": {
      "application/vnd.jupyter.widget-view+json": {
       "model_id": "7f7dcbb3626440f29e0549b40597b61d",
       "version_major": 2,
       "version_minor": 0
      },
      "text/plain": [
       "  0%|          | 0/4000 [00:00<?, ?it/s]"
      ]
     },
     "metadata": {},
     "output_type": "display_data"
    },
    {
     "data": {
      "application/vnd.jupyter.widget-view+json": {
       "model_id": "46bf2adb349941549225193c3265d50b",
       "version_major": 2,
       "version_minor": 0
      },
      "text/plain": [
       "  0%|          | 0/4000 [00:00<?, ?it/s]"
      ]
     },
     "metadata": {},
     "output_type": "display_data"
    },
    {
     "data": {
      "application/vnd.jupyter.widget-view+json": {
       "model_id": "6968d46bfae74ad38986551a57363999",
       "version_major": 2,
       "version_minor": 0
      },
      "text/plain": [
       "  0%|          | 0/4000 [00:00<?, ?it/s]"
      ]
     },
     "metadata": {},
     "output_type": "display_data"
    },
    {
     "data": {
      "application/vnd.jupyter.widget-view+json": {
       "model_id": "b5ca092be87c45b484f0d3a5c0ef3126",
       "version_major": 2,
       "version_minor": 0
      },
      "text/plain": [
       "  0%|          | 0/4000 [00:00<?, ?it/s]"
      ]
     },
     "metadata": {},
     "output_type": "display_data"
    },
    {
     "data": {
      "application/vnd.jupyter.widget-view+json": {
       "model_id": "049c40a847244bf79bb0dbcbeee4bd88",
       "version_major": 2,
       "version_minor": 0
      },
      "text/plain": [
       "  0%|          | 0/4000 [00:00<?, ?it/s]"
      ]
     },
     "metadata": {},
     "output_type": "display_data"
    },
    {
     "data": {
      "application/vnd.jupyter.widget-view+json": {
       "model_id": "5cf9690c309f4b6b8488a51f2dfbe331",
       "version_major": 2,
       "version_minor": 0
      },
      "text/plain": [
       "  0%|          | 0/4000 [00:00<?, ?it/s]"
      ]
     },
     "metadata": {},
     "output_type": "display_data"
    },
    {
     "data": {
      "application/vnd.jupyter.widget-view+json": {
       "model_id": "894ffb1933754216a8203159468db920",
       "version_major": 2,
       "version_minor": 0
      },
      "text/plain": [
       "  0%|          | 0/4000 [00:00<?, ?it/s]"
      ]
     },
     "metadata": {},
     "output_type": "display_data"
    },
    {
     "data": {
      "application/vnd.jupyter.widget-view+json": {
       "model_id": "abb71eb4dd084e57920f80a7c640f7f6",
       "version_major": 2,
       "version_minor": 0
      },
      "text/plain": [
       "  0%|          | 0/4000 [00:00<?, ?it/s]"
      ]
     },
     "metadata": {},
     "output_type": "display_data"
    },
    {
     "data": {
      "application/vnd.jupyter.widget-view+json": {
       "model_id": "631f2d1f69264ed6846a9809f144881f",
       "version_major": 2,
       "version_minor": 0
      },
      "text/plain": [
       "  0%|          | 0/4000 [00:00<?, ?it/s]"
      ]
     },
     "metadata": {},
     "output_type": "display_data"
    },
    {
     "data": {
      "application/vnd.jupyter.widget-view+json": {
       "model_id": "889862872aa7412b9d7ea5710cae9c79",
       "version_major": 2,
       "version_minor": 0
      },
      "text/plain": [
       "  0%|          | 0/4000 [00:00<?, ?it/s]"
      ]
     },
     "metadata": {},
     "output_type": "display_data"
    },
    {
     "data": {
      "application/vnd.jupyter.widget-view+json": {
       "model_id": "f2505600335a44369c3c35e6dcdb2618",
       "version_major": 2,
       "version_minor": 0
      },
      "text/plain": [
       "  0%|          | 0/4000 [00:00<?, ?it/s]"
      ]
     },
     "metadata": {},
     "output_type": "display_data"
    },
    {
     "data": {
      "application/vnd.jupyter.widget-view+json": {
       "model_id": "85c85cf4a514462eb2c7baf9be120a82",
       "version_major": 2,
       "version_minor": 0
      },
      "text/plain": [
       "  0%|          | 0/4000 [00:00<?, ?it/s]"
      ]
     },
     "metadata": {},
     "output_type": "display_data"
    },
    {
     "data": {
      "application/vnd.jupyter.widget-view+json": {
       "model_id": "6844da37c17e438fb44c29f7edfcca6d",
       "version_major": 2,
       "version_minor": 0
      },
      "text/plain": [
       "  0%|          | 0/4000 [00:00<?, ?it/s]"
      ]
     },
     "metadata": {},
     "output_type": "display_data"
    },
    {
     "data": {
      "application/vnd.jupyter.widget-view+json": {
       "model_id": "2610181602964c4f90ccf6e16da76bf3",
       "version_major": 2,
       "version_minor": 0
      },
      "text/plain": [
       "  0%|          | 0/4000 [00:00<?, ?it/s]"
      ]
     },
     "metadata": {},
     "output_type": "display_data"
    },
    {
     "data": {
      "application/vnd.jupyter.widget-view+json": {
       "model_id": "c7fe5c6318224a3a96975afa0a1fee89",
       "version_major": 2,
       "version_minor": 0
      },
      "text/plain": [
       "  0%|          | 0/4000 [00:00<?, ?it/s]"
      ]
     },
     "metadata": {},
     "output_type": "display_data"
    },
    {
     "data": {
      "application/vnd.jupyter.widget-view+json": {
       "model_id": "73b4c55350054a71921ff0baa7a64897",
       "version_major": 2,
       "version_minor": 0
      },
      "text/plain": [
       "  0%|          | 0/4000 [00:00<?, ?it/s]"
      ]
     },
     "metadata": {},
     "output_type": "display_data"
    },
    {
     "data": {
      "application/vnd.jupyter.widget-view+json": {
       "model_id": "e06dddd88ac8414f84040f150c5a2b12",
       "version_major": 2,
       "version_minor": 0
      },
      "text/plain": [
       "  0%|          | 0/4000 [00:00<?, ?it/s]"
      ]
     },
     "metadata": {},
     "output_type": "display_data"
    },
    {
     "data": {
      "application/vnd.jupyter.widget-view+json": {
       "model_id": "9b154ff989454616917040cfb6df159f",
       "version_major": 2,
       "version_minor": 0
      },
      "text/plain": [
       "  0%|          | 0/4000 [00:00<?, ?it/s]"
      ]
     },
     "metadata": {},
     "output_type": "display_data"
    },
    {
     "data": {
      "application/vnd.jupyter.widget-view+json": {
       "model_id": "a3bcf5b8ca7149cd80b83a96bee8ed6d",
       "version_major": 2,
       "version_minor": 0
      },
      "text/plain": [
       "  0%|          | 0/4000 [00:00<?, ?it/s]"
      ]
     },
     "metadata": {},
     "output_type": "display_data"
    },
    {
     "data": {
      "application/vnd.jupyter.widget-view+json": {
       "model_id": "a473a5c03487421a9c100c21bd05a5a9",
       "version_major": 2,
       "version_minor": 0
      },
      "text/plain": [
       "  0%|          | 0/4000 [00:00<?, ?it/s]"
      ]
     },
     "metadata": {},
     "output_type": "display_data"
    },
    {
     "data": {
      "application/vnd.jupyter.widget-view+json": {
       "model_id": "9780998a711a4afcad1714bd079aafb7",
       "version_major": 2,
       "version_minor": 0
      },
      "text/plain": [
       "  0%|          | 0/4000 [00:00<?, ?it/s]"
      ]
     },
     "metadata": {},
     "output_type": "display_data"
    },
    {
     "data": {
      "application/vnd.jupyter.widget-view+json": {
       "model_id": "5e6ce9ae1a87453392387e0e8d7fd8e2",
       "version_major": 2,
       "version_minor": 0
      },
      "text/plain": [
       "  0%|          | 0/4000 [00:00<?, ?it/s]"
      ]
     },
     "metadata": {},
     "output_type": "display_data"
    },
    {
     "data": {
      "application/vnd.jupyter.widget-view+json": {
       "model_id": "e9dd9f44f8b1482e905f6466de3c37b9",
       "version_major": 2,
       "version_minor": 0
      },
      "text/plain": [
       "  0%|          | 0/4000 [00:00<?, ?it/s]"
      ]
     },
     "metadata": {},
     "output_type": "display_data"
    },
    {
     "data": {
      "application/vnd.jupyter.widget-view+json": {
       "model_id": "c9846fc8602d4f46a48dea017cad0fc9",
       "version_major": 2,
       "version_minor": 0
      },
      "text/plain": [
       "  0%|          | 0/4000 [00:00<?, ?it/s]"
      ]
     },
     "metadata": {},
     "output_type": "display_data"
    },
    {
     "data": {
      "application/vnd.jupyter.widget-view+json": {
       "model_id": "8331c4f618f64a80a4b06b7f97376a81",
       "version_major": 2,
       "version_minor": 0
      },
      "text/plain": [
       "  0%|          | 0/4000 [00:00<?, ?it/s]"
      ]
     },
     "metadata": {},
     "output_type": "display_data"
    },
    {
     "data": {
      "application/vnd.jupyter.widget-view+json": {
       "model_id": "293ae436a2e444e79ee6d4d75cf9e660",
       "version_major": 2,
       "version_minor": 0
      },
      "text/plain": [
       "  0%|          | 0/4000 [00:00<?, ?it/s]"
      ]
     },
     "metadata": {},
     "output_type": "display_data"
    },
    {
     "data": {
      "application/vnd.jupyter.widget-view+json": {
       "model_id": "0aea91e36ac44a11a5a3976b9e93474b",
       "version_major": 2,
       "version_minor": 0
      },
      "text/plain": [
       "  0%|          | 0/4000 [00:00<?, ?it/s]"
      ]
     },
     "metadata": {},
     "output_type": "display_data"
    },
    {
     "data": {
      "application/vnd.jupyter.widget-view+json": {
       "model_id": "ab7174d2b0c64903992dbca1e2da8980",
       "version_major": 2,
       "version_minor": 0
      },
      "text/plain": [
       "  0%|          | 0/4000 [00:00<?, ?it/s]"
      ]
     },
     "metadata": {},
     "output_type": "display_data"
    },
    {
     "data": {
      "application/vnd.jupyter.widget-view+json": {
       "model_id": "986d5012c64944cbafbd84cef0db5e78",
       "version_major": 2,
       "version_minor": 0
      },
      "text/plain": [
       "  0%|          | 0/4000 [00:00<?, ?it/s]"
      ]
     },
     "metadata": {},
     "output_type": "display_data"
    },
    {
     "data": {
      "application/vnd.jupyter.widget-view+json": {
       "model_id": "20af350880214e61b0910b17e32f1ee6",
       "version_major": 2,
       "version_minor": 0
      },
      "text/plain": [
       "  0%|          | 0/4000 [00:00<?, ?it/s]"
      ]
     },
     "metadata": {},
     "output_type": "display_data"
    },
    {
     "data": {
      "application/vnd.jupyter.widget-view+json": {
       "model_id": "31371444481540f3ad66802593696e47",
       "version_major": 2,
       "version_minor": 0
      },
      "text/plain": [
       "  0%|          | 0/4000 [00:00<?, ?it/s]"
      ]
     },
     "metadata": {},
     "output_type": "display_data"
    },
    {
     "data": {
      "application/vnd.jupyter.widget-view+json": {
       "model_id": "ed5ea053af2c4197b9338e5a4f52a75e",
       "version_major": 2,
       "version_minor": 0
      },
      "text/plain": [
       "  0%|          | 0/4000 [00:00<?, ?it/s]"
      ]
     },
     "metadata": {},
     "output_type": "display_data"
    },
    {
     "data": {
      "application/vnd.jupyter.widget-view+json": {
       "model_id": "3a964ae2af2e46ef9a1b0277f55fae45",
       "version_major": 2,
       "version_minor": 0
      },
      "text/plain": [
       "  0%|          | 0/4000 [00:00<?, ?it/s]"
      ]
     },
     "metadata": {},
     "output_type": "display_data"
    },
    {
     "data": {
      "application/vnd.jupyter.widget-view+json": {
       "model_id": "91f35848bf8d42afa136df7949223c86",
       "version_major": 2,
       "version_minor": 0
      },
      "text/plain": [
       "  0%|          | 0/4000 [00:00<?, ?it/s]"
      ]
     },
     "metadata": {},
     "output_type": "display_data"
    },
    {
     "data": {
      "application/vnd.jupyter.widget-view+json": {
       "model_id": "e68bfb7abd784bfc967a182b76979576",
       "version_major": 2,
       "version_minor": 0
      },
      "text/plain": [
       "  0%|          | 0/4000 [00:00<?, ?it/s]"
      ]
     },
     "metadata": {},
     "output_type": "display_data"
    },
    {
     "data": {
      "application/vnd.jupyter.widget-view+json": {
       "model_id": "e190dc070a494762aa013e24369a97ac",
       "version_major": 2,
       "version_minor": 0
      },
      "text/plain": [
       "  0%|          | 0/4000 [00:00<?, ?it/s]"
      ]
     },
     "metadata": {},
     "output_type": "display_data"
    },
    {
     "data": {
      "application/vnd.jupyter.widget-view+json": {
       "model_id": "4cd97e2951974a1dba486d089e6a4ea6",
       "version_major": 2,
       "version_minor": 0
      },
      "text/plain": [
       "  0%|          | 0/4000 [00:00<?, ?it/s]"
      ]
     },
     "metadata": {},
     "output_type": "display_data"
    },
    {
     "data": {
      "application/vnd.jupyter.widget-view+json": {
       "model_id": "19e0fff247b34202a3b1ee5953915e84",
       "version_major": 2,
       "version_minor": 0
      },
      "text/plain": [
       "  0%|          | 0/4000 [00:00<?, ?it/s]"
      ]
     },
     "metadata": {},
     "output_type": "display_data"
    },
    {
     "data": {
      "application/vnd.jupyter.widget-view+json": {
       "model_id": "ce5ba2824fcf4cbcb91fff0136ff1920",
       "version_major": 2,
       "version_minor": 0
      },
      "text/plain": [
       "  0%|          | 0/4000 [00:00<?, ?it/s]"
      ]
     },
     "metadata": {},
     "output_type": "display_data"
    },
    {
     "data": {
      "application/vnd.jupyter.widget-view+json": {
       "model_id": "99086dc8e45842d78ec09e5b6b7973be",
       "version_major": 2,
       "version_minor": 0
      },
      "text/plain": [
       "  0%|          | 0/4000 [00:00<?, ?it/s]"
      ]
     },
     "metadata": {},
     "output_type": "display_data"
    },
    {
     "data": {
      "application/vnd.jupyter.widget-view+json": {
       "model_id": "43c06db97e2d48b4aae1e628848ebab9",
       "version_major": 2,
       "version_minor": 0
      },
      "text/plain": [
       "  0%|          | 0/4000 [00:00<?, ?it/s]"
      ]
     },
     "metadata": {},
     "output_type": "display_data"
    },
    {
     "data": {
      "application/vnd.jupyter.widget-view+json": {
       "model_id": "af595cc3fca44b04b12d17e347a346bd",
       "version_major": 2,
       "version_minor": 0
      },
      "text/plain": [
       "  0%|          | 0/4000 [00:00<?, ?it/s]"
      ]
     },
     "metadata": {},
     "output_type": "display_data"
    },
    {
     "data": {
      "application/vnd.jupyter.widget-view+json": {
       "model_id": "f7047fb39f964570a1ff09b8966962d0",
       "version_major": 2,
       "version_minor": 0
      },
      "text/plain": [
       "  0%|          | 0/4000 [00:00<?, ?it/s]"
      ]
     },
     "metadata": {},
     "output_type": "display_data"
    },
    {
     "data": {
      "application/vnd.jupyter.widget-view+json": {
       "model_id": "f8790ef02f6a44a39064d5fe6222c9b1",
       "version_major": 2,
       "version_minor": 0
      },
      "text/plain": [
       "  0%|          | 0/4000 [00:00<?, ?it/s]"
      ]
     },
     "metadata": {},
     "output_type": "display_data"
    },
    {
     "data": {
      "application/vnd.jupyter.widget-view+json": {
       "model_id": "48d16854ae1e4a898ff16d30f141f1b8",
       "version_major": 2,
       "version_minor": 0
      },
      "text/plain": [
       "  0%|          | 0/4000 [00:00<?, ?it/s]"
      ]
     },
     "metadata": {},
     "output_type": "display_data"
    },
    {
     "data": {
      "application/vnd.jupyter.widget-view+json": {
       "model_id": "ab4731965317455bb34961bd10165706",
       "version_major": 2,
       "version_minor": 0
      },
      "text/plain": [
       "  0%|          | 0/4000 [00:00<?, ?it/s]"
      ]
     },
     "metadata": {},
     "output_type": "display_data"
    },
    {
     "data": {
      "application/vnd.jupyter.widget-view+json": {
       "model_id": "07feeee7be4246abae6ff4ada1bd6d9f",
       "version_major": 2,
       "version_minor": 0
      },
      "text/plain": [
       "  0%|          | 0/4000 [00:00<?, ?it/s]"
      ]
     },
     "metadata": {},
     "output_type": "display_data"
    },
    {
     "data": {
      "application/vnd.jupyter.widget-view+json": {
       "model_id": "3b559f089ea54804b54a72f5f03a0168",
       "version_major": 2,
       "version_minor": 0
      },
      "text/plain": [
       "  0%|          | 0/4000 [00:00<?, ?it/s]"
      ]
     },
     "metadata": {},
     "output_type": "display_data"
    },
    {
     "data": {
      "application/vnd.jupyter.widget-view+json": {
       "model_id": "199968dbfd88498dae8707284ecb928a",
       "version_major": 2,
       "version_minor": 0
      },
      "text/plain": [
       "  0%|          | 0/4000 [00:00<?, ?it/s]"
      ]
     },
     "metadata": {},
     "output_type": "display_data"
    },
    {
     "data": {
      "application/vnd.jupyter.widget-view+json": {
       "model_id": "6af53b7304444fcf8b5acf1b44bcd574",
       "version_major": 2,
       "version_minor": 0
      },
      "text/plain": [
       "  0%|          | 0/4000 [00:00<?, ?it/s]"
      ]
     },
     "metadata": {},
     "output_type": "display_data"
    },
    {
     "data": {
      "application/vnd.jupyter.widget-view+json": {
       "model_id": "56f09135e7334839adf6762d3aabda7a",
       "version_major": 2,
       "version_minor": 0
      },
      "text/plain": [
       "  0%|          | 0/4000 [00:00<?, ?it/s]"
      ]
     },
     "metadata": {},
     "output_type": "display_data"
    },
    {
     "data": {
      "application/vnd.jupyter.widget-view+json": {
       "model_id": "5863fa87a1bd453e83269eda13d42ed4",
       "version_major": 2,
       "version_minor": 0
      },
      "text/plain": [
       "  0%|          | 0/4000 [00:00<?, ?it/s]"
      ]
     },
     "metadata": {},
     "output_type": "display_data"
    },
    {
     "data": {
      "application/vnd.jupyter.widget-view+json": {
       "model_id": "e48eedbd04e84e07800af84332a7650a",
       "version_major": 2,
       "version_minor": 0
      },
      "text/plain": [
       "  0%|          | 0/4000 [00:00<?, ?it/s]"
      ]
     },
     "metadata": {},
     "output_type": "display_data"
    },
    {
     "data": {
      "application/vnd.jupyter.widget-view+json": {
       "model_id": "2e60e7c609204a548480a6f5cab0d35e",
       "version_major": 2,
       "version_minor": 0
      },
      "text/plain": [
       "  0%|          | 0/4000 [00:00<?, ?it/s]"
      ]
     },
     "metadata": {},
     "output_type": "display_data"
    },
    {
     "data": {
      "application/vnd.jupyter.widget-view+json": {
       "model_id": "6a0a447ac4b347baa04cbc89d8f604ba",
       "version_major": 2,
       "version_minor": 0
      },
      "text/plain": [
       "  0%|          | 0/4000 [00:00<?, ?it/s]"
      ]
     },
     "metadata": {},
     "output_type": "display_data"
    },
    {
     "data": {
      "application/vnd.jupyter.widget-view+json": {
       "model_id": "824d686cb88046f09d8abf6258be0ad6",
       "version_major": 2,
       "version_minor": 0
      },
      "text/plain": [
       "  0%|          | 0/4000 [00:00<?, ?it/s]"
      ]
     },
     "metadata": {},
     "output_type": "display_data"
    },
    {
     "data": {
      "application/vnd.jupyter.widget-view+json": {
       "model_id": "9156e9c40c18425e953fe1940e14bec9",
       "version_major": 2,
       "version_minor": 0
      },
      "text/plain": [
       "  0%|          | 0/4000 [00:00<?, ?it/s]"
      ]
     },
     "metadata": {},
     "output_type": "display_data"
    },
    {
     "data": {
      "application/vnd.jupyter.widget-view+json": {
       "model_id": "1be25e72bb7a4f3084ccf1c8c5ced447",
       "version_major": 2,
       "version_minor": 0
      },
      "text/plain": [
       "  0%|          | 0/4000 [00:00<?, ?it/s]"
      ]
     },
     "metadata": {},
     "output_type": "display_data"
    },
    {
     "data": {
      "application/vnd.jupyter.widget-view+json": {
       "model_id": "6bf639b97a314e50a4292451419d5847",
       "version_major": 2,
       "version_minor": 0
      },
      "text/plain": [
       "  0%|          | 0/4000 [00:00<?, ?it/s]"
      ]
     },
     "metadata": {},
     "output_type": "display_data"
    },
    {
     "data": {
      "application/vnd.jupyter.widget-view+json": {
       "model_id": "2f3d9bb2294c4046a4dbd68f1670d7f8",
       "version_major": 2,
       "version_minor": 0
      },
      "text/plain": [
       "  0%|          | 0/4000 [00:00<?, ?it/s]"
      ]
     },
     "metadata": {},
     "output_type": "display_data"
    },
    {
     "data": {
      "application/vnd.jupyter.widget-view+json": {
       "model_id": "77ed0c99c92e412795a3c27380146f7f",
       "version_major": 2,
       "version_minor": 0
      },
      "text/plain": [
       "  0%|          | 0/4000 [00:00<?, ?it/s]"
      ]
     },
     "metadata": {},
     "output_type": "display_data"
    },
    {
     "data": {
      "application/vnd.jupyter.widget-view+json": {
       "model_id": "1d6d7244813e44c69e52fc44ae25e209",
       "version_major": 2,
       "version_minor": 0
      },
      "text/plain": [
       "  0%|          | 0/4000 [00:00<?, ?it/s]"
      ]
     },
     "metadata": {},
     "output_type": "display_data"
    },
    {
     "data": {
      "application/vnd.jupyter.widget-view+json": {
       "model_id": "e137f7c9d7b14607a45219b3ddcf962e",
       "version_major": 2,
       "version_minor": 0
      },
      "text/plain": [
       "  0%|          | 0/4000 [00:00<?, ?it/s]"
      ]
     },
     "metadata": {},
     "output_type": "display_data"
    },
    {
     "data": {
      "application/vnd.jupyter.widget-view+json": {
       "model_id": "ac535c8ca3994fbbb51fcca7dab64209",
       "version_major": 2,
       "version_minor": 0
      },
      "text/plain": [
       "  0%|          | 0/4000 [00:00<?, ?it/s]"
      ]
     },
     "metadata": {},
     "output_type": "display_data"
    },
    {
     "data": {
      "application/vnd.jupyter.widget-view+json": {
       "model_id": "7cb8223e51ab4ee28f12256511404514",
       "version_major": 2,
       "version_minor": 0
      },
      "text/plain": [
       "  0%|          | 0/4000 [00:00<?, ?it/s]"
      ]
     },
     "metadata": {},
     "output_type": "display_data"
    },
    {
     "data": {
      "application/vnd.jupyter.widget-view+json": {
       "model_id": "f00dd378a5524e388896cd8c48e995e1",
       "version_major": 2,
       "version_minor": 0
      },
      "text/plain": [
       "  0%|          | 0/4000 [00:00<?, ?it/s]"
      ]
     },
     "metadata": {},
     "output_type": "display_data"
    },
    {
     "data": {
      "application/vnd.jupyter.widget-view+json": {
       "model_id": "2b72511013d94451b54096e93ffe5f75",
       "version_major": 2,
       "version_minor": 0
      },
      "text/plain": [
       "  0%|          | 0/4000 [00:00<?, ?it/s]"
      ]
     },
     "metadata": {},
     "output_type": "display_data"
    },
    {
     "data": {
      "application/vnd.jupyter.widget-view+json": {
       "model_id": "697eeb46645a49f8ace4659d30b15c15",
       "version_major": 2,
       "version_minor": 0
      },
      "text/plain": [
       "  0%|          | 0/4000 [00:00<?, ?it/s]"
      ]
     },
     "metadata": {},
     "output_type": "display_data"
    },
    {
     "data": {
      "application/vnd.jupyter.widget-view+json": {
       "model_id": "6334e0445294456f8f2ee200253758a8",
       "version_major": 2,
       "version_minor": 0
      },
      "text/plain": [
       "  0%|          | 0/4000 [00:00<?, ?it/s]"
      ]
     },
     "metadata": {},
     "output_type": "display_data"
    },
    {
     "data": {
      "application/vnd.jupyter.widget-view+json": {
       "model_id": "8df6e7ba567544f2adcbadfc90059438",
       "version_major": 2,
       "version_minor": 0
      },
      "text/plain": [
       "  0%|          | 0/4000 [00:00<?, ?it/s]"
      ]
     },
     "metadata": {},
     "output_type": "display_data"
    },
    {
     "data": {
      "application/vnd.jupyter.widget-view+json": {
       "model_id": "099e509dfe1d4edd9fd8d7cfa82e32bc",
       "version_major": 2,
       "version_minor": 0
      },
      "text/plain": [
       "  0%|          | 0/4000 [00:00<?, ?it/s]"
      ]
     },
     "metadata": {},
     "output_type": "display_data"
    },
    {
     "data": {
      "application/vnd.jupyter.widget-view+json": {
       "model_id": "1b61c693ca5c43cbb8526ce34c06c805",
       "version_major": 2,
       "version_minor": 0
      },
      "text/plain": [
       "  0%|          | 0/4000 [00:00<?, ?it/s]"
      ]
     },
     "metadata": {},
     "output_type": "display_data"
    },
    {
     "data": {
      "application/vnd.jupyter.widget-view+json": {
       "model_id": "f0d3835dbda645b48d88279a20bfb4ff",
       "version_major": 2,
       "version_minor": 0
      },
      "text/plain": [
       "  0%|          | 0/4000 [00:00<?, ?it/s]"
      ]
     },
     "metadata": {},
     "output_type": "display_data"
    },
    {
     "data": {
      "application/vnd.jupyter.widget-view+json": {
       "model_id": "a18a9e6ed70a4e98945c0e6466d0d981",
       "version_major": 2,
       "version_minor": 0
      },
      "text/plain": [
       "  0%|          | 0/4000 [00:00<?, ?it/s]"
      ]
     },
     "metadata": {},
     "output_type": "display_data"
    },
    {
     "data": {
      "application/vnd.jupyter.widget-view+json": {
       "model_id": "71428b91f5044c68bbe5bf1a52945c84",
       "version_major": 2,
       "version_minor": 0
      },
      "text/plain": [
       "  0%|          | 0/4000 [00:00<?, ?it/s]"
      ]
     },
     "metadata": {},
     "output_type": "display_data"
    },
    {
     "data": {
      "application/vnd.jupyter.widget-view+json": {
       "model_id": "4acd2864c5bc4ab0929b49df0104fe9a",
       "version_major": 2,
       "version_minor": 0
      },
      "text/plain": [
       "  0%|          | 0/4000 [00:00<?, ?it/s]"
      ]
     },
     "metadata": {},
     "output_type": "display_data"
    },
    {
     "data": {
      "application/vnd.jupyter.widget-view+json": {
       "model_id": "52499125b6fc4a339298fdd17073060f",
       "version_major": 2,
       "version_minor": 0
      },
      "text/plain": [
       "  0%|          | 0/4000 [00:00<?, ?it/s]"
      ]
     },
     "metadata": {},
     "output_type": "display_data"
    },
    {
     "data": {
      "application/vnd.jupyter.widget-view+json": {
       "model_id": "a89d076132c445b6b1fd93e2230562ad",
       "version_major": 2,
       "version_minor": 0
      },
      "text/plain": [
       "  0%|          | 0/4000 [00:00<?, ?it/s]"
      ]
     },
     "metadata": {},
     "output_type": "display_data"
    },
    {
     "data": {
      "application/vnd.jupyter.widget-view+json": {
       "model_id": "ced9319478d441d485dafd098253a80c",
       "version_major": 2,
       "version_minor": 0
      },
      "text/plain": [
       "  0%|          | 0/4000 [00:00<?, ?it/s]"
      ]
     },
     "metadata": {},
     "output_type": "display_data"
    },
    {
     "data": {
      "application/vnd.jupyter.widget-view+json": {
       "model_id": "f0879bf4e77f497483bc182dd3ceedf4",
       "version_major": 2,
       "version_minor": 0
      },
      "text/plain": [
       "  0%|          | 0/4000 [00:00<?, ?it/s]"
      ]
     },
     "metadata": {},
     "output_type": "display_data"
    },
    {
     "data": {
      "application/vnd.jupyter.widget-view+json": {
       "model_id": "612409fc972c4e0292a382f8f05b7bb6",
       "version_major": 2,
       "version_minor": 0
      },
      "text/plain": [
       "  0%|          | 0/4000 [00:00<?, ?it/s]"
      ]
     },
     "metadata": {},
     "output_type": "display_data"
    },
    {
     "data": {
      "application/vnd.jupyter.widget-view+json": {
       "model_id": "b0f5b2cc337d4c3794a153bd4b7c0d6f",
       "version_major": 2,
       "version_minor": 0
      },
      "text/plain": [
       "  0%|          | 0/4000 [00:00<?, ?it/s]"
      ]
     },
     "metadata": {},
     "output_type": "display_data"
    },
    {
     "data": {
      "application/vnd.jupyter.widget-view+json": {
       "model_id": "f990eb3fb52646ac9cd66c87875787da",
       "version_major": 2,
       "version_minor": 0
      },
      "text/plain": [
       "  0%|          | 0/4000 [00:00<?, ?it/s]"
      ]
     },
     "metadata": {},
     "output_type": "display_data"
    },
    {
     "data": {
      "application/vnd.jupyter.widget-view+json": {
       "model_id": "351dacd7ed8a4b89a07fe20a02781136",
       "version_major": 2,
       "version_minor": 0
      },
      "text/plain": [
       "  0%|          | 0/4000 [00:00<?, ?it/s]"
      ]
     },
     "metadata": {},
     "output_type": "display_data"
    },
    {
     "data": {
      "application/vnd.jupyter.widget-view+json": {
       "model_id": "3f4040a944b747b9bcb14469a2d3757a",
       "version_major": 2,
       "version_minor": 0
      },
      "text/plain": [
       "  0%|          | 0/4000 [00:00<?, ?it/s]"
      ]
     },
     "metadata": {},
     "output_type": "display_data"
    },
    {
     "data": {
      "application/vnd.jupyter.widget-view+json": {
       "model_id": "44953f4417c0447b95c9105671547755",
       "version_major": 2,
       "version_minor": 0
      },
      "text/plain": [
       "  0%|          | 0/4000 [00:00<?, ?it/s]"
      ]
     },
     "metadata": {},
     "output_type": "display_data"
    },
    {
     "data": {
      "application/vnd.jupyter.widget-view+json": {
       "model_id": "c0ae3e82623e4aad87a3784e73d84e5b",
       "version_major": 2,
       "version_minor": 0
      },
      "text/plain": [
       "  0%|          | 0/4000 [00:00<?, ?it/s]"
      ]
     },
     "metadata": {},
     "output_type": "display_data"
    },
    {
     "data": {
      "application/vnd.jupyter.widget-view+json": {
       "model_id": "0fe6421b6f2548e6b8b26746464f980d",
       "version_major": 2,
       "version_minor": 0
      },
      "text/plain": [
       "  0%|          | 0/4000 [00:00<?, ?it/s]"
      ]
     },
     "metadata": {},
     "output_type": "display_data"
    },
    {
     "data": {
      "application/vnd.jupyter.widget-view+json": {
       "model_id": "1f6058e1da874a4e8bbcb8dbcbacc730",
       "version_major": 2,
       "version_minor": 0
      },
      "text/plain": [
       "  0%|          | 0/4000 [00:00<?, ?it/s]"
      ]
     },
     "metadata": {},
     "output_type": "display_data"
    },
    {
     "data": {
      "application/vnd.jupyter.widget-view+json": {
       "model_id": "f3d58470215b4eda81e035238b97a9b6",
       "version_major": 2,
       "version_minor": 0
      },
      "text/plain": [
       "  0%|          | 0/4000 [00:00<?, ?it/s]"
      ]
     },
     "metadata": {},
     "output_type": "display_data"
    },
    {
     "data": {
      "application/vnd.jupyter.widget-view+json": {
       "model_id": "4cdebc8fb8d5457a9f67508be3937d03",
       "version_major": 2,
       "version_minor": 0
      },
      "text/plain": [
       "  0%|          | 0/4000 [00:00<?, ?it/s]"
      ]
     },
     "metadata": {},
     "output_type": "display_data"
    },
    {
     "data": {
      "application/vnd.jupyter.widget-view+json": {
       "model_id": "53843705407744fa8ed318d2c5cbfd25",
       "version_major": 2,
       "version_minor": 0
      },
      "text/plain": [
       "  0%|          | 0/4000 [00:00<?, ?it/s]"
      ]
     },
     "metadata": {},
     "output_type": "display_data"
    },
    {
     "data": {
      "application/vnd.jupyter.widget-view+json": {
       "model_id": "a03853815933428b9fd0e21fee1c6f8d",
       "version_major": 2,
       "version_minor": 0
      },
      "text/plain": [
       "  0%|          | 0/4000 [00:00<?, ?it/s]"
      ]
     },
     "metadata": {},
     "output_type": "display_data"
    },
    {
     "data": {
      "application/vnd.jupyter.widget-view+json": {
       "model_id": "e3fdd6375fd84ed8b733da3786979bc6",
       "version_major": 2,
       "version_minor": 0
      },
      "text/plain": [
       "  0%|          | 0/4000 [00:00<?, ?it/s]"
      ]
     },
     "metadata": {},
     "output_type": "display_data"
    },
    {
     "data": {
      "application/vnd.jupyter.widget-view+json": {
       "model_id": "996044707a654ae7ad38e871bab34844",
       "version_major": 2,
       "version_minor": 0
      },
      "text/plain": [
       "  0%|          | 0/4000 [00:00<?, ?it/s]"
      ]
     },
     "metadata": {},
     "output_type": "display_data"
    },
    {
     "data": {
      "application/vnd.jupyter.widget-view+json": {
       "model_id": "394ebef2a93f4766a243cf2d875b909e",
       "version_major": 2,
       "version_minor": 0
      },
      "text/plain": [
       "  0%|          | 0/4000 [00:00<?, ?it/s]"
      ]
     },
     "metadata": {},
     "output_type": "display_data"
    },
    {
     "data": {
      "application/vnd.jupyter.widget-view+json": {
       "model_id": "7b870de4f0f84e77990a451c1fd57389",
       "version_major": 2,
       "version_minor": 0
      },
      "text/plain": [
       "  0%|          | 0/4000 [00:00<?, ?it/s]"
      ]
     },
     "metadata": {},
     "output_type": "display_data"
    },
    {
     "data": {
      "application/vnd.jupyter.widget-view+json": {
       "model_id": "0d0edd80eaf2490e812af9581f6ba90e",
       "version_major": 2,
       "version_minor": 0
      },
      "text/plain": [
       "  0%|          | 0/4000 [00:00<?, ?it/s]"
      ]
     },
     "metadata": {},
     "output_type": "display_data"
    },
    {
     "data": {
      "application/vnd.jupyter.widget-view+json": {
       "model_id": "0fecd6f1f77040a287a422a97f27989a",
       "version_major": 2,
       "version_minor": 0
      },
      "text/plain": [
       "  0%|          | 0/4000 [00:00<?, ?it/s]"
      ]
     },
     "metadata": {},
     "output_type": "display_data"
    },
    {
     "data": {
      "application/vnd.jupyter.widget-view+json": {
       "model_id": "33eb7d59b49e4897a3585eaef8c1ba7c",
       "version_major": 2,
       "version_minor": 0
      },
      "text/plain": [
       "  0%|          | 0/4000 [00:00<?, ?it/s]"
      ]
     },
     "metadata": {},
     "output_type": "display_data"
    },
    {
     "data": {
      "application/vnd.jupyter.widget-view+json": {
       "model_id": "72c14c9a46e84203a24f6b506ef98fae",
       "version_major": 2,
       "version_minor": 0
      },
      "text/plain": [
       "  0%|          | 0/4000 [00:00<?, ?it/s]"
      ]
     },
     "metadata": {},
     "output_type": "display_data"
    },
    {
     "data": {
      "application/vnd.jupyter.widget-view+json": {
       "model_id": "bcd04f1479de46a29a0ac41a4514df0f",
       "version_major": 2,
       "version_minor": 0
      },
      "text/plain": [
       "  0%|          | 0/4000 [00:00<?, ?it/s]"
      ]
     },
     "metadata": {},
     "output_type": "display_data"
    },
    {
     "data": {
      "application/vnd.jupyter.widget-view+json": {
       "model_id": "e43a9d47148f4d10aec161c90acc21b3",
       "version_major": 2,
       "version_minor": 0
      },
      "text/plain": [
       "  0%|          | 0/4000 [00:00<?, ?it/s]"
      ]
     },
     "metadata": {},
     "output_type": "display_data"
    },
    {
     "data": {
      "application/vnd.jupyter.widget-view+json": {
       "model_id": "6f0af3ff096b4900b94bb971a65d3d00",
       "version_major": 2,
       "version_minor": 0
      },
      "text/plain": [
       "  0%|          | 0/4000 [00:00<?, ?it/s]"
      ]
     },
     "metadata": {},
     "output_type": "display_data"
    },
    {
     "data": {
      "application/vnd.jupyter.widget-view+json": {
       "model_id": "601c0d61f4e4417f9e3aac8943921e51",
       "version_major": 2,
       "version_minor": 0
      },
      "text/plain": [
       "  0%|          | 0/4000 [00:00<?, ?it/s]"
      ]
     },
     "metadata": {},
     "output_type": "display_data"
    },
    {
     "data": {
      "application/vnd.jupyter.widget-view+json": {
       "model_id": "07a0d4861006420d91cf986c4bce4e37",
       "version_major": 2,
       "version_minor": 0
      },
      "text/plain": [
       "  0%|          | 0/4000 [00:00<?, ?it/s]"
      ]
     },
     "metadata": {},
     "output_type": "display_data"
    },
    {
     "data": {
      "application/vnd.jupyter.widget-view+json": {
       "model_id": "1a40ce8741f54d0cad359a1b128f9052",
       "version_major": 2,
       "version_minor": 0
      },
      "text/plain": [
       "  0%|          | 0/4000 [00:00<?, ?it/s]"
      ]
     },
     "metadata": {},
     "output_type": "display_data"
    },
    {
     "data": {
      "application/vnd.jupyter.widget-view+json": {
       "model_id": "36f82143fddd47f2b5260c7c86fa8c97",
       "version_major": 2,
       "version_minor": 0
      },
      "text/plain": [
       "  0%|          | 0/4000 [00:00<?, ?it/s]"
      ]
     },
     "metadata": {},
     "output_type": "display_data"
    },
    {
     "data": {
      "application/vnd.jupyter.widget-view+json": {
       "model_id": "e9e1be527da64856b02dc0dca35c6c3e",
       "version_major": 2,
       "version_minor": 0
      },
      "text/plain": [
       "  0%|          | 0/4000 [00:00<?, ?it/s]"
      ]
     },
     "metadata": {},
     "output_type": "display_data"
    },
    {
     "data": {
      "application/vnd.jupyter.widget-view+json": {
       "model_id": "9528a9e481da4403b7a15116443b47b0",
       "version_major": 2,
       "version_minor": 0
      },
      "text/plain": [
       "  0%|          | 0/4000 [00:00<?, ?it/s]"
      ]
     },
     "metadata": {},
     "output_type": "display_data"
    },
    {
     "data": {
      "application/vnd.jupyter.widget-view+json": {
       "model_id": "1d5910c4c0f44ce98b85f81b7f5a9774",
       "version_major": 2,
       "version_minor": 0
      },
      "text/plain": [
       "  0%|          | 0/4000 [00:00<?, ?it/s]"
      ]
     },
     "metadata": {},
     "output_type": "display_data"
    },
    {
     "data": {
      "application/vnd.jupyter.widget-view+json": {
       "model_id": "8d201016f02342a3b31a5166336d3fac",
       "version_major": 2,
       "version_minor": 0
      },
      "text/plain": [
       "  0%|          | 0/4000 [00:00<?, ?it/s]"
      ]
     },
     "metadata": {},
     "output_type": "display_data"
    },
    {
     "data": {
      "application/vnd.jupyter.widget-view+json": {
       "model_id": "06d5d512572e4953ae387061ab189c14",
       "version_major": 2,
       "version_minor": 0
      },
      "text/plain": [
       "  0%|          | 0/4000 [00:00<?, ?it/s]"
      ]
     },
     "metadata": {},
     "output_type": "display_data"
    },
    {
     "data": {
      "application/vnd.jupyter.widget-view+json": {
       "model_id": "585538bc925745a6848244f389f44fe5",
       "version_major": 2,
       "version_minor": 0
      },
      "text/plain": [
       "  0%|          | 0/4000 [00:00<?, ?it/s]"
      ]
     },
     "metadata": {},
     "output_type": "display_data"
    },
    {
     "data": {
      "application/vnd.jupyter.widget-view+json": {
       "model_id": "95364cc490af43b590f91f9d8d50445d",
       "version_major": 2,
       "version_minor": 0
      },
      "text/plain": [
       "  0%|          | 0/4000 [00:00<?, ?it/s]"
      ]
     },
     "metadata": {},
     "output_type": "display_data"
    },
    {
     "data": {
      "application/vnd.jupyter.widget-view+json": {
       "model_id": "b8fc0cff20c342f1a9a0876dfbd11af6",
       "version_major": 2,
       "version_minor": 0
      },
      "text/plain": [
       "  0%|          | 0/4000 [00:00<?, ?it/s]"
      ]
     },
     "metadata": {},
     "output_type": "display_data"
    },
    {
     "data": {
      "application/vnd.jupyter.widget-view+json": {
       "model_id": "57f0bf191f6e4463918130dbad7aa772",
       "version_major": 2,
       "version_minor": 0
      },
      "text/plain": [
       "  0%|          | 0/4000 [00:00<?, ?it/s]"
      ]
     },
     "metadata": {},
     "output_type": "display_data"
    },
    {
     "data": {
      "application/vnd.jupyter.widget-view+json": {
       "model_id": "d9215a8f2db04c388387bebaeab23519",
       "version_major": 2,
       "version_minor": 0
      },
      "text/plain": [
       "  0%|          | 0/4000 [00:00<?, ?it/s]"
      ]
     },
     "metadata": {},
     "output_type": "display_data"
    },
    {
     "data": {
      "application/vnd.jupyter.widget-view+json": {
       "model_id": "7e8a0d88515549f68908f0f4d17018a0",
       "version_major": 2,
       "version_minor": 0
      },
      "text/plain": [
       "  0%|          | 0/4000 [00:00<?, ?it/s]"
      ]
     },
     "metadata": {},
     "output_type": "display_data"
    },
    {
     "data": {
      "application/vnd.jupyter.widget-view+json": {
       "model_id": "258f2351c656463aaf86bab2a09a870e",
       "version_major": 2,
       "version_minor": 0
      },
      "text/plain": [
       "  0%|          | 0/4000 [00:00<?, ?it/s]"
      ]
     },
     "metadata": {},
     "output_type": "display_data"
    },
    {
     "data": {
      "application/vnd.jupyter.widget-view+json": {
       "model_id": "68b6292c318948b2bf9027d758d55277",
       "version_major": 2,
       "version_minor": 0
      },
      "text/plain": [
       "  0%|          | 0/4000 [00:00<?, ?it/s]"
      ]
     },
     "metadata": {},
     "output_type": "display_data"
    },
    {
     "data": {
      "application/vnd.jupyter.widget-view+json": {
       "model_id": "bdf08176cc744054899fbf4641ab73ba",
       "version_major": 2,
       "version_minor": 0
      },
      "text/plain": [
       "  0%|          | 0/4000 [00:00<?, ?it/s]"
      ]
     },
     "metadata": {},
     "output_type": "display_data"
    },
    {
     "data": {
      "application/vnd.jupyter.widget-view+json": {
       "model_id": "07cc5b7a473b43a08a5c1425ffa8ffae",
       "version_major": 2,
       "version_minor": 0
      },
      "text/plain": [
       "  0%|          | 0/4000 [00:00<?, ?it/s]"
      ]
     },
     "metadata": {},
     "output_type": "display_data"
    },
    {
     "data": {
      "application/vnd.jupyter.widget-view+json": {
       "model_id": "8dd1db27ba8b4e0084db2f3175ae5412",
       "version_major": 2,
       "version_minor": 0
      },
      "text/plain": [
       "  0%|          | 0/4000 [00:00<?, ?it/s]"
      ]
     },
     "metadata": {},
     "output_type": "display_data"
    },
    {
     "data": {
      "application/vnd.jupyter.widget-view+json": {
       "model_id": "e71bd77d7d3d44eda350fcb419013954",
       "version_major": 2,
       "version_minor": 0
      },
      "text/plain": [
       "  0%|          | 0/4000 [00:00<?, ?it/s]"
      ]
     },
     "metadata": {},
     "output_type": "display_data"
    },
    {
     "data": {
      "application/vnd.jupyter.widget-view+json": {
       "model_id": "bd79df8549274faaa3b45e036f28cfad",
       "version_major": 2,
       "version_minor": 0
      },
      "text/plain": [
       "  0%|          | 0/4000 [00:00<?, ?it/s]"
      ]
     },
     "metadata": {},
     "output_type": "display_data"
    },
    {
     "data": {
      "application/vnd.jupyter.widget-view+json": {
       "model_id": "6af84a3916e24e13b175cd05bc3f3775",
       "version_major": 2,
       "version_minor": 0
      },
      "text/plain": [
       "  0%|          | 0/4000 [00:00<?, ?it/s]"
      ]
     },
     "metadata": {},
     "output_type": "display_data"
    },
    {
     "data": {
      "application/vnd.jupyter.widget-view+json": {
       "model_id": "1ee86663d02d4215b91a133acf2c71e7",
       "version_major": 2,
       "version_minor": 0
      },
      "text/plain": [
       "  0%|          | 0/4000 [00:00<?, ?it/s]"
      ]
     },
     "metadata": {},
     "output_type": "display_data"
    },
    {
     "data": {
      "application/vnd.jupyter.widget-view+json": {
       "model_id": "de94ac626b2c473da7cc21073229f83b",
       "version_major": 2,
       "version_minor": 0
      },
      "text/plain": [
       "  0%|          | 0/4000 [00:00<?, ?it/s]"
      ]
     },
     "metadata": {},
     "output_type": "display_data"
    },
    {
     "data": {
      "application/vnd.jupyter.widget-view+json": {
       "model_id": "14145fa0f58e41a8b954942fc74b8110",
       "version_major": 2,
       "version_minor": 0
      },
      "text/plain": [
       "  0%|          | 0/4000 [00:00<?, ?it/s]"
      ]
     },
     "metadata": {},
     "output_type": "display_data"
    },
    {
     "data": {
      "application/vnd.jupyter.widget-view+json": {
       "model_id": "5308710c01c848dbb7b8b92ce99499ee",
       "version_major": 2,
       "version_minor": 0
      },
      "text/plain": [
       "  0%|          | 0/4000 [00:00<?, ?it/s]"
      ]
     },
     "metadata": {},
     "output_type": "display_data"
    },
    {
     "data": {
      "application/vnd.jupyter.widget-view+json": {
       "model_id": "20a19fd1749641869a4145b39f0394ce",
       "version_major": 2,
       "version_minor": 0
      },
      "text/plain": [
       "  0%|          | 0/4000 [00:00<?, ?it/s]"
      ]
     },
     "metadata": {},
     "output_type": "display_data"
    },
    {
     "data": {
      "application/vnd.jupyter.widget-view+json": {
       "model_id": "e14c2b55744e4c2d896aa58c0486f214",
       "version_major": 2,
       "version_minor": 0
      },
      "text/plain": [
       "  0%|          | 0/4000 [00:00<?, ?it/s]"
      ]
     },
     "metadata": {},
     "output_type": "display_data"
    },
    {
     "data": {
      "application/vnd.jupyter.widget-view+json": {
       "model_id": "33b1d568ce7b41d4bf92621150d038b3",
       "version_major": 2,
       "version_minor": 0
      },
      "text/plain": [
       "  0%|          | 0/4000 [00:00<?, ?it/s]"
      ]
     },
     "metadata": {},
     "output_type": "display_data"
    },
    {
     "data": {
      "application/vnd.jupyter.widget-view+json": {
       "model_id": "e40709aad1af472d9a4fceb4febbd0eb",
       "version_major": 2,
       "version_minor": 0
      },
      "text/plain": [
       "  0%|          | 0/4000 [00:00<?, ?it/s]"
      ]
     },
     "metadata": {},
     "output_type": "display_data"
    },
    {
     "data": {
      "application/vnd.jupyter.widget-view+json": {
       "model_id": "9d77e1a95c1c49359540a2b9bf83c23e",
       "version_major": 2,
       "version_minor": 0
      },
      "text/plain": [
       "  0%|          | 0/4000 [00:00<?, ?it/s]"
      ]
     },
     "metadata": {},
     "output_type": "display_data"
    },
    {
     "data": {
      "application/vnd.jupyter.widget-view+json": {
       "model_id": "7e5a3218cf1641018e261ad393f0ef74",
       "version_major": 2,
       "version_minor": 0
      },
      "text/plain": [
       "  0%|          | 0/4000 [00:00<?, ?it/s]"
      ]
     },
     "metadata": {},
     "output_type": "display_data"
    },
    {
     "data": {
      "application/vnd.jupyter.widget-view+json": {
       "model_id": "24c64ba59a7840df8e4138516bfa2651",
       "version_major": 2,
       "version_minor": 0
      },
      "text/plain": [
       "  0%|          | 0/4000 [00:00<?, ?it/s]"
      ]
     },
     "metadata": {},
     "output_type": "display_data"
    },
    {
     "data": {
      "application/vnd.jupyter.widget-view+json": {
       "model_id": "5deba7d6b99440e7a4e5816f84dafdf6",
       "version_major": 2,
       "version_minor": 0
      },
      "text/plain": [
       "  0%|          | 0/4000 [00:00<?, ?it/s]"
      ]
     },
     "metadata": {},
     "output_type": "display_data"
    },
    {
     "data": {
      "application/vnd.jupyter.widget-view+json": {
       "model_id": "77c79811f6ad40b38c48828c656772a1",
       "version_major": 2,
       "version_minor": 0
      },
      "text/plain": [
       "  0%|          | 0/4000 [00:00<?, ?it/s]"
      ]
     },
     "metadata": {},
     "output_type": "display_data"
    },
    {
     "data": {
      "application/vnd.jupyter.widget-view+json": {
       "model_id": "a0b927cde88f431493c8ecfc4adb2465",
       "version_major": 2,
       "version_minor": 0
      },
      "text/plain": [
       "  0%|          | 0/4000 [00:00<?, ?it/s]"
      ]
     },
     "metadata": {},
     "output_type": "display_data"
    },
    {
     "data": {
      "application/vnd.jupyter.widget-view+json": {
       "model_id": "fb2fd80473de425fae748086553d412e",
       "version_major": 2,
       "version_minor": 0
      },
      "text/plain": [
       "  0%|          | 0/4000 [00:00<?, ?it/s]"
      ]
     },
     "metadata": {},
     "output_type": "display_data"
    },
    {
     "data": {
      "application/vnd.jupyter.widget-view+json": {
       "model_id": "007d898eda6340f0b6515aec297db64b",
       "version_major": 2,
       "version_minor": 0
      },
      "text/plain": [
       "  0%|          | 0/4000 [00:00<?, ?it/s]"
      ]
     },
     "metadata": {},
     "output_type": "display_data"
    },
    {
     "data": {
      "application/vnd.jupyter.widget-view+json": {
       "model_id": "c50307c05f0b4a38932d27686a57dce3",
       "version_major": 2,
       "version_minor": 0
      },
      "text/plain": [
       "  0%|          | 0/4000 [00:00<?, ?it/s]"
      ]
     },
     "metadata": {},
     "output_type": "display_data"
    },
    {
     "data": {
      "application/vnd.jupyter.widget-view+json": {
       "model_id": "1b69ce1bd06b4e17ad6f090265cec296",
       "version_major": 2,
       "version_minor": 0
      },
      "text/plain": [
       "  0%|          | 0/4000 [00:00<?, ?it/s]"
      ]
     },
     "metadata": {},
     "output_type": "display_data"
    },
    {
     "data": {
      "application/vnd.jupyter.widget-view+json": {
       "model_id": "4ae93e90d60e4586ae7bc14c805cccb8",
       "version_major": 2,
       "version_minor": 0
      },
      "text/plain": [
       "  0%|          | 0/4000 [00:00<?, ?it/s]"
      ]
     },
     "metadata": {},
     "output_type": "display_data"
    },
    {
     "data": {
      "application/vnd.jupyter.widget-view+json": {
       "model_id": "25a1be04e7944241bc4461a5f3b6bb90",
       "version_major": 2,
       "version_minor": 0
      },
      "text/plain": [
       "  0%|          | 0/4000 [00:00<?, ?it/s]"
      ]
     },
     "metadata": {},
     "output_type": "display_data"
    },
    {
     "data": {
      "application/vnd.jupyter.widget-view+json": {
       "model_id": "0841c83e0e3b487baab631c31eb0ca74",
       "version_major": 2,
       "version_minor": 0
      },
      "text/plain": [
       "  0%|          | 0/4000 [00:00<?, ?it/s]"
      ]
     },
     "metadata": {},
     "output_type": "display_data"
    },
    {
     "data": {
      "application/vnd.jupyter.widget-view+json": {
       "model_id": "bdd85f8192244548aa4d6885d3687263",
       "version_major": 2,
       "version_minor": 0
      },
      "text/plain": [
       "  0%|          | 0/4000 [00:00<?, ?it/s]"
      ]
     },
     "metadata": {},
     "output_type": "display_data"
    },
    {
     "data": {
      "application/vnd.jupyter.widget-view+json": {
       "model_id": "bd388284e61c4706a70f91d425e52132",
       "version_major": 2,
       "version_minor": 0
      },
      "text/plain": [
       "  0%|          | 0/4000 [00:00<?, ?it/s]"
      ]
     },
     "metadata": {},
     "output_type": "display_data"
    },
    {
     "data": {
      "application/vnd.jupyter.widget-view+json": {
       "model_id": "33f91bcde6a74f829264a01395591f0e",
       "version_major": 2,
       "version_minor": 0
      },
      "text/plain": [
       "  0%|          | 0/4000 [00:00<?, ?it/s]"
      ]
     },
     "metadata": {},
     "output_type": "display_data"
    },
    {
     "data": {
      "application/vnd.jupyter.widget-view+json": {
       "model_id": "667e1f2e4d364636ac8ac79b9838ec72",
       "version_major": 2,
       "version_minor": 0
      },
      "text/plain": [
       "  0%|          | 0/4000 [00:00<?, ?it/s]"
      ]
     },
     "metadata": {},
     "output_type": "display_data"
    },
    {
     "data": {
      "application/vnd.jupyter.widget-view+json": {
       "model_id": "8a5f6dd3144f4b0e85a410abdeeb6e66",
       "version_major": 2,
       "version_minor": 0
      },
      "text/plain": [
       "  0%|          | 0/4000 [00:00<?, ?it/s]"
      ]
     },
     "metadata": {},
     "output_type": "display_data"
    },
    {
     "data": {
      "application/vnd.jupyter.widget-view+json": {
       "model_id": "306e7d862fdd45c9b33a23b9928029b6",
       "version_major": 2,
       "version_minor": 0
      },
      "text/plain": [
       "  0%|          | 0/4000 [00:00<?, ?it/s]"
      ]
     },
     "metadata": {},
     "output_type": "display_data"
    },
    {
     "data": {
      "application/vnd.jupyter.widget-view+json": {
       "model_id": "baaa66f267954cf3836a279841d62472",
       "version_major": 2,
       "version_minor": 0
      },
      "text/plain": [
       "  0%|          | 0/4000 [00:00<?, ?it/s]"
      ]
     },
     "metadata": {},
     "output_type": "display_data"
    },
    {
     "data": {
      "application/vnd.jupyter.widget-view+json": {
       "model_id": "cf01fe38a3dc45e49af6455d941fc083",
       "version_major": 2,
       "version_minor": 0
      },
      "text/plain": [
       "  0%|          | 0/4000 [00:00<?, ?it/s]"
      ]
     },
     "metadata": {},
     "output_type": "display_data"
    },
    {
     "data": {
      "application/vnd.jupyter.widget-view+json": {
       "model_id": "31dd9c68f4d3477a97a231d6b7a59bc3",
       "version_major": 2,
       "version_minor": 0
      },
      "text/plain": [
       "  0%|          | 0/4000 [00:00<?, ?it/s]"
      ]
     },
     "metadata": {},
     "output_type": "display_data"
    },
    {
     "data": {
      "application/vnd.jupyter.widget-view+json": {
       "model_id": "82d088261383493b81d67473fb3420c2",
       "version_major": 2,
       "version_minor": 0
      },
      "text/plain": [
       "  0%|          | 0/4000 [00:00<?, ?it/s]"
      ]
     },
     "metadata": {},
     "output_type": "display_data"
    },
    {
     "data": {
      "application/vnd.jupyter.widget-view+json": {
       "model_id": "8fc15967a5d7437cbf5d3de69ddd8289",
       "version_major": 2,
       "version_minor": 0
      },
      "text/plain": [
       "  0%|          | 0/4000 [00:00<?, ?it/s]"
      ]
     },
     "metadata": {},
     "output_type": "display_data"
    },
    {
     "data": {
      "application/vnd.jupyter.widget-view+json": {
       "model_id": "ecd57b25c5d343deb4727f362bfc7d53",
       "version_major": 2,
       "version_minor": 0
      },
      "text/plain": [
       "  0%|          | 0/4000 [00:00<?, ?it/s]"
      ]
     },
     "metadata": {},
     "output_type": "display_data"
    },
    {
     "data": {
      "application/vnd.jupyter.widget-view+json": {
       "model_id": "e39bfff4ba3a4abd997b81cf3fa1c61f",
       "version_major": 2,
       "version_minor": 0
      },
      "text/plain": [
       "  0%|          | 0/4000 [00:00<?, ?it/s]"
      ]
     },
     "metadata": {},
     "output_type": "display_data"
    },
    {
     "data": {
      "application/vnd.jupyter.widget-view+json": {
       "model_id": "a536ba4ae5744ab2b6317c60457c43ef",
       "version_major": 2,
       "version_minor": 0
      },
      "text/plain": [
       "  0%|          | 0/4000 [00:00<?, ?it/s]"
      ]
     },
     "metadata": {},
     "output_type": "display_data"
    },
    {
     "data": {
      "application/vnd.jupyter.widget-view+json": {
       "model_id": "63ccab799e99407d950d2b8b565c4e07",
       "version_major": 2,
       "version_minor": 0
      },
      "text/plain": [
       "  0%|          | 0/4000 [00:00<?, ?it/s]"
      ]
     },
     "metadata": {},
     "output_type": "display_data"
    },
    {
     "data": {
      "application/vnd.jupyter.widget-view+json": {
       "model_id": "04455c93d7df4468a005c30cace07866",
       "version_major": 2,
       "version_minor": 0
      },
      "text/plain": [
       "  0%|          | 0/4000 [00:00<?, ?it/s]"
      ]
     },
     "metadata": {},
     "output_type": "display_data"
    },
    {
     "data": {
      "application/vnd.jupyter.widget-view+json": {
       "model_id": "c2008ad07b77437aa7121e7beccddcf7",
       "version_major": 2,
       "version_minor": 0
      },
      "text/plain": [
       "  0%|          | 0/4000 [00:00<?, ?it/s]"
      ]
     },
     "metadata": {},
     "output_type": "display_data"
    },
    {
     "data": {
      "application/vnd.jupyter.widget-view+json": {
       "model_id": "580ca2ea59d6451b9a6d9013bfedaa61",
       "version_major": 2,
       "version_minor": 0
      },
      "text/plain": [
       "  0%|          | 0/4000 [00:00<?, ?it/s]"
      ]
     },
     "metadata": {},
     "output_type": "display_data"
    },
    {
     "data": {
      "application/vnd.jupyter.widget-view+json": {
       "model_id": "af93b4cac03c4709a1553ec71a0867df",
       "version_major": 2,
       "version_minor": 0
      },
      "text/plain": [
       "  0%|          | 0/4000 [00:00<?, ?it/s]"
      ]
     },
     "metadata": {},
     "output_type": "display_data"
    },
    {
     "data": {
      "application/vnd.jupyter.widget-view+json": {
       "model_id": "c412f4f0785c4b6b868b2e3f99dd0cd3",
       "version_major": 2,
       "version_minor": 0
      },
      "text/plain": [
       "  0%|          | 0/4000 [00:00<?, ?it/s]"
      ]
     },
     "metadata": {},
     "output_type": "display_data"
    },
    {
     "data": {
      "application/vnd.jupyter.widget-view+json": {
       "model_id": "f6271f6a915340d6a2dca048c708d42c",
       "version_major": 2,
       "version_minor": 0
      },
      "text/plain": [
       "  0%|          | 0/4000 [00:00<?, ?it/s]"
      ]
     },
     "metadata": {},
     "output_type": "display_data"
    },
    {
     "data": {
      "application/vnd.jupyter.widget-view+json": {
       "model_id": "d8fe62a370f9498ab884d640bb6f73fa",
       "version_major": 2,
       "version_minor": 0
      },
      "text/plain": [
       "  0%|          | 0/4000 [00:00<?, ?it/s]"
      ]
     },
     "metadata": {},
     "output_type": "display_data"
    },
    {
     "data": {
      "application/vnd.jupyter.widget-view+json": {
       "model_id": "98a37939541c4bd88fc7cf317f9c3242",
       "version_major": 2,
       "version_minor": 0
      },
      "text/plain": [
       "  0%|          | 0/4000 [00:00<?, ?it/s]"
      ]
     },
     "metadata": {},
     "output_type": "display_data"
    },
    {
     "data": {
      "application/vnd.jupyter.widget-view+json": {
       "model_id": "3092bf88df5e4ab8b8a2d3ec5512e471",
       "version_major": 2,
       "version_minor": 0
      },
      "text/plain": [
       "  0%|          | 0/4000 [00:00<?, ?it/s]"
      ]
     },
     "metadata": {},
     "output_type": "display_data"
    },
    {
     "data": {
      "application/vnd.jupyter.widget-view+json": {
       "model_id": "886bd201baa94934aef2908a42f7a6bb",
       "version_major": 2,
       "version_minor": 0
      },
      "text/plain": [
       "  0%|          | 0/4000 [00:00<?, ?it/s]"
      ]
     },
     "metadata": {},
     "output_type": "display_data"
    },
    {
     "data": {
      "application/vnd.jupyter.widget-view+json": {
       "model_id": "737992b6229545cd990b81f465334ef1",
       "version_major": 2,
       "version_minor": 0
      },
      "text/plain": [
       "  0%|          | 0/4000 [00:00<?, ?it/s]"
      ]
     },
     "metadata": {},
     "output_type": "display_data"
    },
    {
     "data": {
      "application/vnd.jupyter.widget-view+json": {
       "model_id": "38664e871b764e3cabc2a1d8eb22169b",
       "version_major": 2,
       "version_minor": 0
      },
      "text/plain": [
       "  0%|          | 0/4000 [00:00<?, ?it/s]"
      ]
     },
     "metadata": {},
     "output_type": "display_data"
    },
    {
     "data": {
      "application/vnd.jupyter.widget-view+json": {
       "model_id": "1bb4e368a1e34c3298bf536b003cb6b7",
       "version_major": 2,
       "version_minor": 0
      },
      "text/plain": [
       "  0%|          | 0/4000 [00:00<?, ?it/s]"
      ]
     },
     "metadata": {},
     "output_type": "display_data"
    },
    {
     "data": {
      "application/vnd.jupyter.widget-view+json": {
       "model_id": "9a5c9052a1094091a8d4e769f0b86fbf",
       "version_major": 2,
       "version_minor": 0
      },
      "text/plain": [
       "  0%|          | 0/4000 [00:00<?, ?it/s]"
      ]
     },
     "metadata": {},
     "output_type": "display_data"
    },
    {
     "data": {
      "application/vnd.jupyter.widget-view+json": {
       "model_id": "b95cac4872cb4c63bd6f0d33adddf4d0",
       "version_major": 2,
       "version_minor": 0
      },
      "text/plain": [
       "  0%|          | 0/4000 [00:00<?, ?it/s]"
      ]
     },
     "metadata": {},
     "output_type": "display_data"
    },
    {
     "data": {
      "application/vnd.jupyter.widget-view+json": {
       "model_id": "deb06c8007f14086a92cca5b2e6c431c",
       "version_major": 2,
       "version_minor": 0
      },
      "text/plain": [
       "  0%|          | 0/4000 [00:00<?, ?it/s]"
      ]
     },
     "metadata": {},
     "output_type": "display_data"
    },
    {
     "data": {
      "application/vnd.jupyter.widget-view+json": {
       "model_id": "bfa2c4f81dff41c79ef2fae1bdaab008",
       "version_major": 2,
       "version_minor": 0
      },
      "text/plain": [
       "  0%|          | 0/4000 [00:00<?, ?it/s]"
      ]
     },
     "metadata": {},
     "output_type": "display_data"
    },
    {
     "data": {
      "application/vnd.jupyter.widget-view+json": {
       "model_id": "e862b813daed45faa6e9d9105555a74e",
       "version_major": 2,
       "version_minor": 0
      },
      "text/plain": [
       "  0%|          | 0/4000 [00:00<?, ?it/s]"
      ]
     },
     "metadata": {},
     "output_type": "display_data"
    },
    {
     "data": {
      "application/vnd.jupyter.widget-view+json": {
       "model_id": "66ebdfe9353e45a2b19a16740c4fca11",
       "version_major": 2,
       "version_minor": 0
      },
      "text/plain": [
       "  0%|          | 0/4000 [00:00<?, ?it/s]"
      ]
     },
     "metadata": {},
     "output_type": "display_data"
    },
    {
     "data": {
      "application/vnd.jupyter.widget-view+json": {
       "model_id": "710319eceed84e1c93a6d9f7ac20a2df",
       "version_major": 2,
       "version_minor": 0
      },
      "text/plain": [
       "  0%|          | 0/4000 [00:00<?, ?it/s]"
      ]
     },
     "metadata": {},
     "output_type": "display_data"
    },
    {
     "data": {
      "application/vnd.jupyter.widget-view+json": {
       "model_id": "d8b7f788a70541019b0cdc1c6abbc503",
       "version_major": 2,
       "version_minor": 0
      },
      "text/plain": [
       "  0%|          | 0/4000 [00:00<?, ?it/s]"
      ]
     },
     "metadata": {},
     "output_type": "display_data"
    },
    {
     "data": {
      "application/vnd.jupyter.widget-view+json": {
       "model_id": "f4a60d7598264503a0643db1c4ddec80",
       "version_major": 2,
       "version_minor": 0
      },
      "text/plain": [
       "  0%|          | 0/4000 [00:00<?, ?it/s]"
      ]
     },
     "metadata": {},
     "output_type": "display_data"
    },
    {
     "data": {
      "application/vnd.jupyter.widget-view+json": {
       "model_id": "5868ea48577a4b9086e29cbddc08b1af",
       "version_major": 2,
       "version_minor": 0
      },
      "text/plain": [
       "  0%|          | 0/4000 [00:00<?, ?it/s]"
      ]
     },
     "metadata": {},
     "output_type": "display_data"
    },
    {
     "data": {
      "application/vnd.jupyter.widget-view+json": {
       "model_id": "db52cfdc975e4058ba605c8e1173c5f4",
       "version_major": 2,
       "version_minor": 0
      },
      "text/plain": [
       "  0%|          | 0/4000 [00:00<?, ?it/s]"
      ]
     },
     "metadata": {},
     "output_type": "display_data"
    },
    {
     "data": {
      "application/vnd.jupyter.widget-view+json": {
       "model_id": "6bcb831635064a4f9ec4acab11391010",
       "version_major": 2,
       "version_minor": 0
      },
      "text/plain": [
       "  0%|          | 0/4000 [00:00<?, ?it/s]"
      ]
     },
     "metadata": {},
     "output_type": "display_data"
    },
    {
     "data": {
      "application/vnd.jupyter.widget-view+json": {
       "model_id": "77b1544569274930bd840bcce5cdd3a8",
       "version_major": 2,
       "version_minor": 0
      },
      "text/plain": [
       "  0%|          | 0/4000 [00:00<?, ?it/s]"
      ]
     },
     "metadata": {},
     "output_type": "display_data"
    },
    {
     "data": {
      "application/vnd.jupyter.widget-view+json": {
       "model_id": "edad73f7eeef44719d61c378f4b6cae6",
       "version_major": 2,
       "version_minor": 0
      },
      "text/plain": [
       "  0%|          | 0/4000 [00:00<?, ?it/s]"
      ]
     },
     "metadata": {},
     "output_type": "display_data"
    },
    {
     "data": {
      "application/vnd.jupyter.widget-view+json": {
       "model_id": "8076a92686c446e0b080d3bf48215848",
       "version_major": 2,
       "version_minor": 0
      },
      "text/plain": [
       "  0%|          | 0/4000 [00:00<?, ?it/s]"
      ]
     },
     "metadata": {},
     "output_type": "display_data"
    },
    {
     "data": {
      "application/vnd.jupyter.widget-view+json": {
       "model_id": "f9b848be93804ef6a1f2dc56e0ce3fff",
       "version_major": 2,
       "version_minor": 0
      },
      "text/plain": [
       "  0%|          | 0/4000 [00:00<?, ?it/s]"
      ]
     },
     "metadata": {},
     "output_type": "display_data"
    },
    {
     "data": {
      "application/vnd.jupyter.widget-view+json": {
       "model_id": "4eefcf60aa184fb2b44db61e94457126",
       "version_major": 2,
       "version_minor": 0
      },
      "text/plain": [
       "  0%|          | 0/4000 [00:00<?, ?it/s]"
      ]
     },
     "metadata": {},
     "output_type": "display_data"
    },
    {
     "data": {
      "application/vnd.jupyter.widget-view+json": {
       "model_id": "961f17beaaae417793c7670a36a9c29b",
       "version_major": 2,
       "version_minor": 0
      },
      "text/plain": [
       "  0%|          | 0/4000 [00:00<?, ?it/s]"
      ]
     },
     "metadata": {},
     "output_type": "display_data"
    },
    {
     "data": {
      "application/vnd.jupyter.widget-view+json": {
       "model_id": "51e6394ba7974b39901fd3973971acff",
       "version_major": 2,
       "version_minor": 0
      },
      "text/plain": [
       "  0%|          | 0/4000 [00:00<?, ?it/s]"
      ]
     },
     "metadata": {},
     "output_type": "display_data"
    },
    {
     "data": {
      "application/vnd.jupyter.widget-view+json": {
       "model_id": "b685dda21bb742b8a64d48283ae4db54",
       "version_major": 2,
       "version_minor": 0
      },
      "text/plain": [
       "  0%|          | 0/4000 [00:00<?, ?it/s]"
      ]
     },
     "metadata": {},
     "output_type": "display_data"
    },
    {
     "data": {
      "application/vnd.jupyter.widget-view+json": {
       "model_id": "3afb71c7f59f402f85d076e4f976225c",
       "version_major": 2,
       "version_minor": 0
      },
      "text/plain": [
       "  0%|          | 0/4000 [00:00<?, ?it/s]"
      ]
     },
     "metadata": {},
     "output_type": "display_data"
    },
    {
     "data": {
      "application/vnd.jupyter.widget-view+json": {
       "model_id": "ca664cf6e20d47879d0a3505575773e6",
       "version_major": 2,
       "version_minor": 0
      },
      "text/plain": [
       "  0%|          | 0/4000 [00:00<?, ?it/s]"
      ]
     },
     "metadata": {},
     "output_type": "display_data"
    },
    {
     "data": {
      "application/vnd.jupyter.widget-view+json": {
       "model_id": "9a803073439b4104ab85c8d4c6ee466d",
       "version_major": 2,
       "version_minor": 0
      },
      "text/plain": [
       "  0%|          | 0/4000 [00:00<?, ?it/s]"
      ]
     },
     "metadata": {},
     "output_type": "display_data"
    },
    {
     "data": {
      "application/vnd.jupyter.widget-view+json": {
       "model_id": "89f15e71418b47dcbe325c1c57f8a8ab",
       "version_major": 2,
       "version_minor": 0
      },
      "text/plain": [
       "  0%|          | 0/4000 [00:00<?, ?it/s]"
      ]
     },
     "metadata": {},
     "output_type": "display_data"
    },
    {
     "data": {
      "application/vnd.jupyter.widget-view+json": {
       "model_id": "ecdfda5ef2a64e99afe9eef436001281",
       "version_major": 2,
       "version_minor": 0
      },
      "text/plain": [
       "  0%|          | 0/4000 [00:00<?, ?it/s]"
      ]
     },
     "metadata": {},
     "output_type": "display_data"
    },
    {
     "data": {
      "application/vnd.jupyter.widget-view+json": {
       "model_id": "b65430eff2204b76b8d9acf84f1828b7",
       "version_major": 2,
       "version_minor": 0
      },
      "text/plain": [
       "  0%|          | 0/4000 [00:00<?, ?it/s]"
      ]
     },
     "metadata": {},
     "output_type": "display_data"
    },
    {
     "data": {
      "application/vnd.jupyter.widget-view+json": {
       "model_id": "36492abdd17443578f6c0713b223a342",
       "version_major": 2,
       "version_minor": 0
      },
      "text/plain": [
       "  0%|          | 0/4000 [00:00<?, ?it/s]"
      ]
     },
     "metadata": {},
     "output_type": "display_data"
    },
    {
     "data": {
      "application/vnd.jupyter.widget-view+json": {
       "model_id": "a1a0ef7be8db4cdca120ac34bb45627a",
       "version_major": 2,
       "version_minor": 0
      },
      "text/plain": [
       "  0%|          | 0/4000 [00:00<?, ?it/s]"
      ]
     },
     "metadata": {},
     "output_type": "display_data"
    },
    {
     "data": {
      "application/vnd.jupyter.widget-view+json": {
       "model_id": "9e0ea7dc596645c2a7345bbfd947c485",
       "version_major": 2,
       "version_minor": 0
      },
      "text/plain": [
       "  0%|          | 0/4000 [00:00<?, ?it/s]"
      ]
     },
     "metadata": {},
     "output_type": "display_data"
    },
    {
     "data": {
      "application/vnd.jupyter.widget-view+json": {
       "model_id": "3e9c35d9c3c248bca5e6c02ac17aa5a2",
       "version_major": 2,
       "version_minor": 0
      },
      "text/plain": [
       "  0%|          | 0/4000 [00:00<?, ?it/s]"
      ]
     },
     "metadata": {},
     "output_type": "display_data"
    },
    {
     "data": {
      "application/vnd.jupyter.widget-view+json": {
       "model_id": "25896ca125d54798ba6eb7f9e613c9e3",
       "version_major": 2,
       "version_minor": 0
      },
      "text/plain": [
       "  0%|          | 0/4000 [00:00<?, ?it/s]"
      ]
     },
     "metadata": {},
     "output_type": "display_data"
    },
    {
     "data": {
      "application/vnd.jupyter.widget-view+json": {
       "model_id": "bc13daf75d874802a725b0a675577fff",
       "version_major": 2,
       "version_minor": 0
      },
      "text/plain": [
       "  0%|          | 0/4000 [00:00<?, ?it/s]"
      ]
     },
     "metadata": {},
     "output_type": "display_data"
    },
    {
     "data": {
      "application/vnd.jupyter.widget-view+json": {
       "model_id": "eaf3b70db4b84261b540361a18a03c13",
       "version_major": 2,
       "version_minor": 0
      },
      "text/plain": [
       "  0%|          | 0/4000 [00:00<?, ?it/s]"
      ]
     },
     "metadata": {},
     "output_type": "display_data"
    },
    {
     "data": {
      "application/vnd.jupyter.widget-view+json": {
       "model_id": "192344fa68e5468f8f729382e1c1edc7",
       "version_major": 2,
       "version_minor": 0
      },
      "text/plain": [
       "  0%|          | 0/4000 [00:00<?, ?it/s]"
      ]
     },
     "metadata": {},
     "output_type": "display_data"
    },
    {
     "data": {
      "application/vnd.jupyter.widget-view+json": {
       "model_id": "ea19b2d84c3d4765987c7343b8b6933e",
       "version_major": 2,
       "version_minor": 0
      },
      "text/plain": [
       "  0%|          | 0/4000 [00:00<?, ?it/s]"
      ]
     },
     "metadata": {},
     "output_type": "display_data"
    },
    {
     "data": {
      "application/vnd.jupyter.widget-view+json": {
       "model_id": "e923bffcfc324c91b8e88221d20daba5",
       "version_major": 2,
       "version_minor": 0
      },
      "text/plain": [
       "  0%|          | 0/4000 [00:00<?, ?it/s]"
      ]
     },
     "metadata": {},
     "output_type": "display_data"
    },
    {
     "data": {
      "application/vnd.jupyter.widget-view+json": {
       "model_id": "09e43d62d75744bab58b2f814d99cea4",
       "version_major": 2,
       "version_minor": 0
      },
      "text/plain": [
       "  0%|          | 0/4000 [00:00<?, ?it/s]"
      ]
     },
     "metadata": {},
     "output_type": "display_data"
    },
    {
     "data": {
      "application/vnd.jupyter.widget-view+json": {
       "model_id": "df498ecc4d4e48769330ee745a3d92e5",
       "version_major": 2,
       "version_minor": 0
      },
      "text/plain": [
       "  0%|          | 0/4000 [00:00<?, ?it/s]"
      ]
     },
     "metadata": {},
     "output_type": "display_data"
    },
    {
     "data": {
      "application/vnd.jupyter.widget-view+json": {
       "model_id": "27a3c7ddc6ac4f0782b4fa1a468ab97a",
       "version_major": 2,
       "version_minor": 0
      },
      "text/plain": [
       "  0%|          | 0/4000 [00:00<?, ?it/s]"
      ]
     },
     "metadata": {},
     "output_type": "display_data"
    },
    {
     "data": {
      "application/vnd.jupyter.widget-view+json": {
       "model_id": "efd0f37318ab42c8bc2b7bbe5837b691",
       "version_major": 2,
       "version_minor": 0
      },
      "text/plain": [
       "  0%|          | 0/4000 [00:00<?, ?it/s]"
      ]
     },
     "metadata": {},
     "output_type": "display_data"
    },
    {
     "data": {
      "application/vnd.jupyter.widget-view+json": {
       "model_id": "72878ebe49bb4ad687cfc047ed6187df",
       "version_major": 2,
       "version_minor": 0
      },
      "text/plain": [
       "  0%|          | 0/4000 [00:00<?, ?it/s]"
      ]
     },
     "metadata": {},
     "output_type": "display_data"
    },
    {
     "data": {
      "application/vnd.jupyter.widget-view+json": {
       "model_id": "9d6ee628c4c14a4f8d75afb9ff7e42a7",
       "version_major": 2,
       "version_minor": 0
      },
      "text/plain": [
       "  0%|          | 0/4000 [00:00<?, ?it/s]"
      ]
     },
     "metadata": {},
     "output_type": "display_data"
    },
    {
     "data": {
      "application/vnd.jupyter.widget-view+json": {
       "model_id": "19cb2083d4134a5f926b8aeb03eedd01",
       "version_major": 2,
       "version_minor": 0
      },
      "text/plain": [
       "  0%|          | 0/4000 [00:00<?, ?it/s]"
      ]
     },
     "metadata": {},
     "output_type": "display_data"
    },
    {
     "data": {
      "application/vnd.jupyter.widget-view+json": {
       "model_id": "e8693d0a6ed14ac3bbd92cf77762d0e0",
       "version_major": 2,
       "version_minor": 0
      },
      "text/plain": [
       "  0%|          | 0/4000 [00:00<?, ?it/s]"
      ]
     },
     "metadata": {},
     "output_type": "display_data"
    },
    {
     "data": {
      "application/vnd.jupyter.widget-view+json": {
       "model_id": "b92e1177c04447b181fba7ab008a0f4a",
       "version_major": 2,
       "version_minor": 0
      },
      "text/plain": [
       "  0%|          | 0/4000 [00:00<?, ?it/s]"
      ]
     },
     "metadata": {},
     "output_type": "display_data"
    },
    {
     "data": {
      "application/vnd.jupyter.widget-view+json": {
       "model_id": "cd1fbca8b7874a6b98e521d3d3cdfd2c",
       "version_major": 2,
       "version_minor": 0
      },
      "text/plain": [
       "  0%|          | 0/4000 [00:00<?, ?it/s]"
      ]
     },
     "metadata": {},
     "output_type": "display_data"
    },
    {
     "data": {
      "application/vnd.jupyter.widget-view+json": {
       "model_id": "ab029ebf9a504da8a94cac946af569e4",
       "version_major": 2,
       "version_minor": 0
      },
      "text/plain": [
       "  0%|          | 0/4000 [00:00<?, ?it/s]"
      ]
     },
     "metadata": {},
     "output_type": "display_data"
    },
    {
     "data": {
      "application/vnd.jupyter.widget-view+json": {
       "model_id": "b9a8070266304318ad1cc23b47ebc6e9",
       "version_major": 2,
       "version_minor": 0
      },
      "text/plain": [
       "  0%|          | 0/4000 [00:00<?, ?it/s]"
      ]
     },
     "metadata": {},
     "output_type": "display_data"
    },
    {
     "data": {
      "application/vnd.jupyter.widget-view+json": {
       "model_id": "0ede23560e33488ba286664d48f1d50a",
       "version_major": 2,
       "version_minor": 0
      },
      "text/plain": [
       "  0%|          | 0/4000 [00:00<?, ?it/s]"
      ]
     },
     "metadata": {},
     "output_type": "display_data"
    },
    {
     "data": {
      "application/vnd.jupyter.widget-view+json": {
       "model_id": "65647dbfdd6c40149ad6756c1b829bbc",
       "version_major": 2,
       "version_minor": 0
      },
      "text/plain": [
       "  0%|          | 0/4000 [00:00<?, ?it/s]"
      ]
     },
     "metadata": {},
     "output_type": "display_data"
    },
    {
     "data": {
      "application/vnd.jupyter.widget-view+json": {
       "model_id": "e4fb1d4b6c6845ea91d2994f799f1747",
       "version_major": 2,
       "version_minor": 0
      },
      "text/plain": [
       "  0%|          | 0/4000 [00:00<?, ?it/s]"
      ]
     },
     "metadata": {},
     "output_type": "display_data"
    },
    {
     "data": {
      "application/vnd.jupyter.widget-view+json": {
       "model_id": "ccdfc15ab6094ab884a1f8d82ae39ee1",
       "version_major": 2,
       "version_minor": 0
      },
      "text/plain": [
       "  0%|          | 0/4000 [00:00<?, ?it/s]"
      ]
     },
     "metadata": {},
     "output_type": "display_data"
    },
    {
     "data": {
      "application/vnd.jupyter.widget-view+json": {
       "model_id": "29fab99be8de400683f5718f99b430ff",
       "version_major": 2,
       "version_minor": 0
      },
      "text/plain": [
       "  0%|          | 0/4000 [00:00<?, ?it/s]"
      ]
     },
     "metadata": {},
     "output_type": "display_data"
    },
    {
     "data": {
      "application/vnd.jupyter.widget-view+json": {
       "model_id": "212677f3373d4d82a9900483166080ca",
       "version_major": 2,
       "version_minor": 0
      },
      "text/plain": [
       "  0%|          | 0/4000 [00:00<?, ?it/s]"
      ]
     },
     "metadata": {},
     "output_type": "display_data"
    },
    {
     "data": {
      "application/vnd.jupyter.widget-view+json": {
       "model_id": "16fd11c960a14e5baf29f2541927065b",
       "version_major": 2,
       "version_minor": 0
      },
      "text/plain": [
       "  0%|          | 0/4000 [00:00<?, ?it/s]"
      ]
     },
     "metadata": {},
     "output_type": "display_data"
    },
    {
     "data": {
      "application/vnd.jupyter.widget-view+json": {
       "model_id": "2141bc8293ee4defabb9f719b20da49d",
       "version_major": 2,
       "version_minor": 0
      },
      "text/plain": [
       "  0%|          | 0/4000 [00:00<?, ?it/s]"
      ]
     },
     "metadata": {},
     "output_type": "display_data"
    },
    {
     "data": {
      "application/vnd.jupyter.widget-view+json": {
       "model_id": "84db098e8a844eac816b2610026a1ef1",
       "version_major": 2,
       "version_minor": 0
      },
      "text/plain": [
       "  0%|          | 0/4000 [00:00<?, ?it/s]"
      ]
     },
     "metadata": {},
     "output_type": "display_data"
    },
    {
     "data": {
      "application/vnd.jupyter.widget-view+json": {
       "model_id": "422e5745b16f4d30af8ba21c39125eeb",
       "version_major": 2,
       "version_minor": 0
      },
      "text/plain": [
       "  0%|          | 0/4000 [00:00<?, ?it/s]"
      ]
     },
     "metadata": {},
     "output_type": "display_data"
    },
    {
     "data": {
      "application/vnd.jupyter.widget-view+json": {
       "model_id": "1946f026acf64013b500778d3ac108d3",
       "version_major": 2,
       "version_minor": 0
      },
      "text/plain": [
       "  0%|          | 0/4000 [00:00<?, ?it/s]"
      ]
     },
     "metadata": {},
     "output_type": "display_data"
    },
    {
     "data": {
      "application/vnd.jupyter.widget-view+json": {
       "model_id": "6230666e84634fccaf5385c159ba19fa",
       "version_major": 2,
       "version_minor": 0
      },
      "text/plain": [
       "  0%|          | 0/4000 [00:00<?, ?it/s]"
      ]
     },
     "metadata": {},
     "output_type": "display_data"
    },
    {
     "data": {
      "application/vnd.jupyter.widget-view+json": {
       "model_id": "8d4b94c8409f4005b5bcc0fee4d3daaf",
       "version_major": 2,
       "version_minor": 0
      },
      "text/plain": [
       "  0%|          | 0/4000 [00:00<?, ?it/s]"
      ]
     },
     "metadata": {},
     "output_type": "display_data"
    },
    {
     "data": {
      "application/vnd.jupyter.widget-view+json": {
       "model_id": "c7d61a2e3f8d47dcad03fae9829e0712",
       "version_major": 2,
       "version_minor": 0
      },
      "text/plain": [
       "  0%|          | 0/4000 [00:00<?, ?it/s]"
      ]
     },
     "metadata": {},
     "output_type": "display_data"
    },
    {
     "data": {
      "application/vnd.jupyter.widget-view+json": {
       "model_id": "d6fd4101ac664c91a4edcadbf2d0bbb5",
       "version_major": 2,
       "version_minor": 0
      },
      "text/plain": [
       "  0%|          | 0/4000 [00:00<?, ?it/s]"
      ]
     },
     "metadata": {},
     "output_type": "display_data"
    },
    {
     "data": {
      "application/vnd.jupyter.widget-view+json": {
       "model_id": "ca0cec66c7ce4e62a56e9201c84d6230",
       "version_major": 2,
       "version_minor": 0
      },
      "text/plain": [
       "  0%|          | 0/4000 [00:00<?, ?it/s]"
      ]
     },
     "metadata": {},
     "output_type": "display_data"
    },
    {
     "data": {
      "application/vnd.jupyter.widget-view+json": {
       "model_id": "e83ba1f87f0e4a87a117f36e5e3cf09c",
       "version_major": 2,
       "version_minor": 0
      },
      "text/plain": [
       "  0%|          | 0/4000 [00:00<?, ?it/s]"
      ]
     },
     "metadata": {},
     "output_type": "display_data"
    },
    {
     "data": {
      "application/vnd.jupyter.widget-view+json": {
       "model_id": "a2b5cc24603f4714b07d1b22bc3eece3",
       "version_major": 2,
       "version_minor": 0
      },
      "text/plain": [
       "  0%|          | 0/4000 [00:00<?, ?it/s]"
      ]
     },
     "metadata": {},
     "output_type": "display_data"
    },
    {
     "data": {
      "application/vnd.jupyter.widget-view+json": {
       "model_id": "bc4e6a48956b4e0495c2698f3b873e37",
       "version_major": 2,
       "version_minor": 0
      },
      "text/plain": [
       "  0%|          | 0/4000 [00:00<?, ?it/s]"
      ]
     },
     "metadata": {},
     "output_type": "display_data"
    },
    {
     "data": {
      "application/vnd.jupyter.widget-view+json": {
       "model_id": "b843f71097804436a47be5a76a8e9492",
       "version_major": 2,
       "version_minor": 0
      },
      "text/plain": [
       "  0%|          | 0/4000 [00:00<?, ?it/s]"
      ]
     },
     "metadata": {},
     "output_type": "display_data"
    },
    {
     "data": {
      "application/vnd.jupyter.widget-view+json": {
       "model_id": "5ce9ec1cb61142e898f2cf6d4bc5cd78",
       "version_major": 2,
       "version_minor": 0
      },
      "text/plain": [
       "  0%|          | 0/4000 [00:00<?, ?it/s]"
      ]
     },
     "metadata": {},
     "output_type": "display_data"
    },
    {
     "data": {
      "application/vnd.jupyter.widget-view+json": {
       "model_id": "b68045aff4d24f4abf5910afce968db1",
       "version_major": 2,
       "version_minor": 0
      },
      "text/plain": [
       "  0%|          | 0/4000 [00:00<?, ?it/s]"
      ]
     },
     "metadata": {},
     "output_type": "display_data"
    },
    {
     "data": {
      "application/vnd.jupyter.widget-view+json": {
       "model_id": "28eb864361664b14aef00899f4e7c334",
       "version_major": 2,
       "version_minor": 0
      },
      "text/plain": [
       "  0%|          | 0/4000 [00:00<?, ?it/s]"
      ]
     },
     "metadata": {},
     "output_type": "display_data"
    },
    {
     "data": {
      "application/vnd.jupyter.widget-view+json": {
       "model_id": "024ec98ef90a4ed9b525e84dca9a6313",
       "version_major": 2,
       "version_minor": 0
      },
      "text/plain": [
       "  0%|          | 0/4000 [00:00<?, ?it/s]"
      ]
     },
     "metadata": {},
     "output_type": "display_data"
    },
    {
     "data": {
      "application/vnd.jupyter.widget-view+json": {
       "model_id": "7cfa3b03b5f9469c80dcd7f65d00db0b",
       "version_major": 2,
       "version_minor": 0
      },
      "text/plain": [
       "  0%|          | 0/4000 [00:00<?, ?it/s]"
      ]
     },
     "metadata": {},
     "output_type": "display_data"
    }
   ],
   "source": [
    "np.random.seed(42)\n",
    "random.seed(42)\n",
    "tf.random.set_seed(42)\n",
    "\n",
    "n = 3\n",
    "d = 2**n\n",
    "rank = 3\n",
    "\n",
    "prior_fidelity = np.zeros((len(N_list), num_reps))\n",
    "noPrior_fidelity = np.zeros((len(N_list), num_reps))\n",
    "\n",
    "for rep in tqdm(range(num_reps)):\n",
    "    X, _, _ = generate_ginibre(d, d)\n",
    "    U = generate_unitary(X) # Random unitary part\n",
    "    kraus_target = KrausMap(U, 0.5, d, rank)\n",
    "    \n",
    "    inputs, _ = generate_pauli_circuits(n = n, \n",
    "                                        circuit_target=None, \n",
    "                                        N = None, \n",
    "                                        trace=False)\n",
    "    states = kraus_target.apply_map(inputs[0])\n",
    "    targets = measurement(states, U_basis = inputs[1])\n",
    "    \n",
    "    for i, N in enumerate(N_list):\n",
    "        kraus_model = KrausMap(\n",
    "                               U=U, \n",
    "                               c=0.9, \n",
    "                               d=d, \n",
    "                               rank=rank,\n",
    "                              )\n",
    "\n",
    "        model = ModelQuantumMap(\n",
    "                                q_map = kraus_model,\n",
    "                                loss = probs_loss,\n",
    "                                optimizer = tf.optimizers.Adam(learning_rate=0.01),\n",
    "                                )\n",
    "\n",
    "        model.train(inputs = [inputs[0][:N], inputs[1][:N]],\n",
    "                    targets = targets[:N],\n",
    "                    inputs_val = None,\n",
    "                    targets_val = None,\n",
    "                    num_iter = 4000,\n",
    "                    N = N,\n",
    "                    verbose = False,\n",
    "                    )\n",
    "\n",
    "        prior_fidelity[i, rep] = np.abs(channel_fidelity(kraus_target, kraus_model).numpy())\n",
    "\n",
    "        kraus_model = KrausMap(\n",
    "    #                           U=U, \n",
    "    #                           c=0.9, \n",
    "                               d=d, \n",
    "                               rank=rank+1,\n",
    "                              )\n",
    "\n",
    "        model = ModelQuantumMap(\n",
    "                                q_map = kraus_model,\n",
    "                                loss = probs_loss,\n",
    "                                optimizer = tf.optimizers.Adam(learning_rate=0.01),\n",
    "                                )\n",
    "\n",
    "        model.train(inputs = [inputs[0][:N], inputs[1][:N]],\n",
    "                    targets = targets[:N],\n",
    "                    inputs_val = None,\n",
    "                    targets_val = None,\n",
    "                    num_iter = 4000,\n",
    "                    N = N,\n",
    "                    verbose = False,\n",
    "                    )\n",
    "\n",
    "        noPrior_fidelity[i, rep] = np.abs(channel_fidelity(kraus_target, kraus_model).numpy())"
   ]
  },
  {
   "cell_type": "code",
   "execution_count": 8,
   "metadata": {},
   "outputs": [],
   "source": [
    "data = [prior_fidelity, noPrior_fidelity]\n",
    "pickle.dump(data, open(\"../../data/compressed_sensing_rank4.p\", \"wb\"))"
   ]
  },
  {
   "cell_type": "markdown",
   "metadata": {},
   "source": [
    "### Medium Rank"
   ]
  },
  {
   "cell_type": "code",
   "execution_count": 9,
   "metadata": {
    "scrolled": true
   },
   "outputs": [
    {
     "data": {
      "application/vnd.jupyter.widget-view+json": {
       "model_id": "c19d624d2f8a4f9d95b8fb165685b89a",
       "version_major": 2,
       "version_minor": 0
      },
      "text/plain": [
       "  0%|          | 0/10 [00:00<?, ?it/s]"
      ]
     },
     "metadata": {},
     "output_type": "display_data"
    },
    {
     "data": {
      "application/vnd.jupyter.widget-view+json": {
       "model_id": "e6d7ecee28ba4fbb8b10f3df91c519c5",
       "version_major": 2,
       "version_minor": 0
      },
      "text/plain": [
       "  0%|          | 0/4000 [00:00<?, ?it/s]"
      ]
     },
     "metadata": {},
     "output_type": "display_data"
    },
    {
     "data": {
      "application/vnd.jupyter.widget-view+json": {
       "model_id": "d22c7f544e1f4b209684be7a9d46e410",
       "version_major": 2,
       "version_minor": 0
      },
      "text/plain": [
       "  0%|          | 0/4000 [00:00<?, ?it/s]"
      ]
     },
     "metadata": {},
     "output_type": "display_data"
    },
    {
     "data": {
      "application/vnd.jupyter.widget-view+json": {
       "model_id": "26e0a7043e26428baf7065bdec7d39f3",
       "version_major": 2,
       "version_minor": 0
      },
      "text/plain": [
       "  0%|          | 0/4000 [00:00<?, ?it/s]"
      ]
     },
     "metadata": {},
     "output_type": "display_data"
    },
    {
     "data": {
      "application/vnd.jupyter.widget-view+json": {
       "model_id": "e1c4d0c82e314da68da47151e4264ba5",
       "version_major": 2,
       "version_minor": 0
      },
      "text/plain": [
       "  0%|          | 0/4000 [00:00<?, ?it/s]"
      ]
     },
     "metadata": {},
     "output_type": "display_data"
    },
    {
     "data": {
      "application/vnd.jupyter.widget-view+json": {
       "model_id": "8363e18dc69c4383b88ab441bddf7efa",
       "version_major": 2,
       "version_minor": 0
      },
      "text/plain": [
       "  0%|          | 0/4000 [00:00<?, ?it/s]"
      ]
     },
     "metadata": {},
     "output_type": "display_data"
    },
    {
     "data": {
      "application/vnd.jupyter.widget-view+json": {
       "model_id": "e68db7e318e44da4b6bee1181fe31bd4",
       "version_major": 2,
       "version_minor": 0
      },
      "text/plain": [
       "  0%|          | 0/4000 [00:00<?, ?it/s]"
      ]
     },
     "metadata": {},
     "output_type": "display_data"
    },
    {
     "data": {
      "application/vnd.jupyter.widget-view+json": {
       "model_id": "d889bc124aac492e99e3c514d2da5f73",
       "version_major": 2,
       "version_minor": 0
      },
      "text/plain": [
       "  0%|          | 0/4000 [00:00<?, ?it/s]"
      ]
     },
     "metadata": {},
     "output_type": "display_data"
    },
    {
     "data": {
      "application/vnd.jupyter.widget-view+json": {
       "model_id": "dd4a3da4d8124f6cbaa0c54b66a5b525",
       "version_major": 2,
       "version_minor": 0
      },
      "text/plain": [
       "  0%|          | 0/4000 [00:00<?, ?it/s]"
      ]
     },
     "metadata": {},
     "output_type": "display_data"
    },
    {
     "data": {
      "application/vnd.jupyter.widget-view+json": {
       "model_id": "18d3159d0ae54372a969595be88d7902",
       "version_major": 2,
       "version_minor": 0
      },
      "text/plain": [
       "  0%|          | 0/4000 [00:00<?, ?it/s]"
      ]
     },
     "metadata": {},
     "output_type": "display_data"
    },
    {
     "data": {
      "application/vnd.jupyter.widget-view+json": {
       "model_id": "5c8e145b39cd46c1a17182fefbe862ee",
       "version_major": 2,
       "version_minor": 0
      },
      "text/plain": [
       "  0%|          | 0/4000 [00:00<?, ?it/s]"
      ]
     },
     "metadata": {},
     "output_type": "display_data"
    },
    {
     "data": {
      "application/vnd.jupyter.widget-view+json": {
       "model_id": "f5f5887f85534f9a89755e9c777220dc",
       "version_major": 2,
       "version_minor": 0
      },
      "text/plain": [
       "  0%|          | 0/4000 [00:00<?, ?it/s]"
      ]
     },
     "metadata": {},
     "output_type": "display_data"
    },
    {
     "data": {
      "application/vnd.jupyter.widget-view+json": {
       "model_id": "93913186e1bd4ea596bf9b9ea5a9835c",
       "version_major": 2,
       "version_minor": 0
      },
      "text/plain": [
       "  0%|          | 0/4000 [00:00<?, ?it/s]"
      ]
     },
     "metadata": {},
     "output_type": "display_data"
    },
    {
     "data": {
      "application/vnd.jupyter.widget-view+json": {
       "model_id": "e77f184af63343e3a61ff02282d0b81f",
       "version_major": 2,
       "version_minor": 0
      },
      "text/plain": [
       "  0%|          | 0/4000 [00:00<?, ?it/s]"
      ]
     },
     "metadata": {},
     "output_type": "display_data"
    },
    {
     "data": {
      "application/vnd.jupyter.widget-view+json": {
       "model_id": "c5812b13685245a8b469b490324d2660",
       "version_major": 2,
       "version_minor": 0
      },
      "text/plain": [
       "  0%|          | 0/4000 [00:00<?, ?it/s]"
      ]
     },
     "metadata": {},
     "output_type": "display_data"
    },
    {
     "data": {
      "application/vnd.jupyter.widget-view+json": {
       "model_id": "244b3c626e9a433f9ea6db16f01ecae5",
       "version_major": 2,
       "version_minor": 0
      },
      "text/plain": [
       "  0%|          | 0/4000 [00:00<?, ?it/s]"
      ]
     },
     "metadata": {},
     "output_type": "display_data"
    },
    {
     "data": {
      "application/vnd.jupyter.widget-view+json": {
       "model_id": "ce237fd02f6a41ea87b8a38a34465069",
       "version_major": 2,
       "version_minor": 0
      },
      "text/plain": [
       "  0%|          | 0/4000 [00:00<?, ?it/s]"
      ]
     },
     "metadata": {},
     "output_type": "display_data"
    },
    {
     "data": {
      "application/vnd.jupyter.widget-view+json": {
       "model_id": "8cb24285def54e1f94dc0e5e4a1fe0a6",
       "version_major": 2,
       "version_minor": 0
      },
      "text/plain": [
       "  0%|          | 0/4000 [00:00<?, ?it/s]"
      ]
     },
     "metadata": {},
     "output_type": "display_data"
    },
    {
     "data": {
      "application/vnd.jupyter.widget-view+json": {
       "model_id": "00de329f490147bdaaeb8d8140904cf5",
       "version_major": 2,
       "version_minor": 0
      },
      "text/plain": [
       "  0%|          | 0/4000 [00:00<?, ?it/s]"
      ]
     },
     "metadata": {},
     "output_type": "display_data"
    },
    {
     "data": {
      "application/vnd.jupyter.widget-view+json": {
       "model_id": "7edae193f6bb47e3afd1b5d1c3ad4f9b",
       "version_major": 2,
       "version_minor": 0
      },
      "text/plain": [
       "  0%|          | 0/4000 [00:00<?, ?it/s]"
      ]
     },
     "metadata": {},
     "output_type": "display_data"
    },
    {
     "data": {
      "application/vnd.jupyter.widget-view+json": {
       "model_id": "599011079a90456dbe4b5ad47bcd51a3",
       "version_major": 2,
       "version_minor": 0
      },
      "text/plain": [
       "  0%|          | 0/4000 [00:00<?, ?it/s]"
      ]
     },
     "metadata": {},
     "output_type": "display_data"
    },
    {
     "data": {
      "application/vnd.jupyter.widget-view+json": {
       "model_id": "570c5da45bf3462fb0b97da3b34b41af",
       "version_major": 2,
       "version_minor": 0
      },
      "text/plain": [
       "  0%|          | 0/4000 [00:00<?, ?it/s]"
      ]
     },
     "metadata": {},
     "output_type": "display_data"
    },
    {
     "data": {
      "application/vnd.jupyter.widget-view+json": {
       "model_id": "5ea56ba652fc4063882f9526e5287329",
       "version_major": 2,
       "version_minor": 0
      },
      "text/plain": [
       "  0%|          | 0/4000 [00:00<?, ?it/s]"
      ]
     },
     "metadata": {},
     "output_type": "display_data"
    },
    {
     "data": {
      "application/vnd.jupyter.widget-view+json": {
       "model_id": "2bce980ed9204029abd32db55167fa7f",
       "version_major": 2,
       "version_minor": 0
      },
      "text/plain": [
       "  0%|          | 0/4000 [00:00<?, ?it/s]"
      ]
     },
     "metadata": {},
     "output_type": "display_data"
    },
    {
     "data": {
      "application/vnd.jupyter.widget-view+json": {
       "model_id": "e272210f492c40c8a119aa412eb25ab1",
       "version_major": 2,
       "version_minor": 0
      },
      "text/plain": [
       "  0%|          | 0/4000 [00:00<?, ?it/s]"
      ]
     },
     "metadata": {},
     "output_type": "display_data"
    },
    {
     "data": {
      "application/vnd.jupyter.widget-view+json": {
       "model_id": "85f7a998fc9c45bf86ecaacfcec040e6",
       "version_major": 2,
       "version_minor": 0
      },
      "text/plain": [
       "  0%|          | 0/4000 [00:00<?, ?it/s]"
      ]
     },
     "metadata": {},
     "output_type": "display_data"
    },
    {
     "data": {
      "application/vnd.jupyter.widget-view+json": {
       "model_id": "6dc04b61c48d4841b67d53df57ecd053",
       "version_major": 2,
       "version_minor": 0
      },
      "text/plain": [
       "  0%|          | 0/4000 [00:00<?, ?it/s]"
      ]
     },
     "metadata": {},
     "output_type": "display_data"
    },
    {
     "data": {
      "application/vnd.jupyter.widget-view+json": {
       "model_id": "03b058f290ba4f549b212b47be7cad85",
       "version_major": 2,
       "version_minor": 0
      },
      "text/plain": [
       "  0%|          | 0/4000 [00:00<?, ?it/s]"
      ]
     },
     "metadata": {},
     "output_type": "display_data"
    },
    {
     "data": {
      "application/vnd.jupyter.widget-view+json": {
       "model_id": "b6bfa9e82b8143669ef5c3a4b3b0267a",
       "version_major": 2,
       "version_minor": 0
      },
      "text/plain": [
       "  0%|          | 0/4000 [00:00<?, ?it/s]"
      ]
     },
     "metadata": {},
     "output_type": "display_data"
    },
    {
     "data": {
      "application/vnd.jupyter.widget-view+json": {
       "model_id": "9dfda91584e24c55a17600b6ac4cc48a",
       "version_major": 2,
       "version_minor": 0
      },
      "text/plain": [
       "  0%|          | 0/4000 [00:00<?, ?it/s]"
      ]
     },
     "metadata": {},
     "output_type": "display_data"
    },
    {
     "data": {
      "application/vnd.jupyter.widget-view+json": {
       "model_id": "eb1ff7fcebd7497096c91119fb851787",
       "version_major": 2,
       "version_minor": 0
      },
      "text/plain": [
       "  0%|          | 0/4000 [00:00<?, ?it/s]"
      ]
     },
     "metadata": {},
     "output_type": "display_data"
    },
    {
     "data": {
      "application/vnd.jupyter.widget-view+json": {
       "model_id": "1002a18b7cd64a99b803de4edb58f534",
       "version_major": 2,
       "version_minor": 0
      },
      "text/plain": [
       "  0%|          | 0/4000 [00:00<?, ?it/s]"
      ]
     },
     "metadata": {},
     "output_type": "display_data"
    },
    {
     "data": {
      "application/vnd.jupyter.widget-view+json": {
       "model_id": "af93d2149d0c4fd3826f0c991ddec774",
       "version_major": 2,
       "version_minor": 0
      },
      "text/plain": [
       "  0%|          | 0/4000 [00:00<?, ?it/s]"
      ]
     },
     "metadata": {},
     "output_type": "display_data"
    },
    {
     "data": {
      "application/vnd.jupyter.widget-view+json": {
       "model_id": "f3f88f45117d4229bb0964b4c0d5d85c",
       "version_major": 2,
       "version_minor": 0
      },
      "text/plain": [
       "  0%|          | 0/4000 [00:00<?, ?it/s]"
      ]
     },
     "metadata": {},
     "output_type": "display_data"
    },
    {
     "data": {
      "application/vnd.jupyter.widget-view+json": {
       "model_id": "838c117bbcc54c62be318a34f7d56165",
       "version_major": 2,
       "version_minor": 0
      },
      "text/plain": [
       "  0%|          | 0/4000 [00:00<?, ?it/s]"
      ]
     },
     "metadata": {},
     "output_type": "display_data"
    },
    {
     "data": {
      "application/vnd.jupyter.widget-view+json": {
       "model_id": "349da812b02c425991290ea885c0a85f",
       "version_major": 2,
       "version_minor": 0
      },
      "text/plain": [
       "  0%|          | 0/4000 [00:00<?, ?it/s]"
      ]
     },
     "metadata": {},
     "output_type": "display_data"
    },
    {
     "data": {
      "application/vnd.jupyter.widget-view+json": {
       "model_id": "e68e3ca20bd84389acbe93ea8a5ed0a0",
       "version_major": 2,
       "version_minor": 0
      },
      "text/plain": [
       "  0%|          | 0/4000 [00:00<?, ?it/s]"
      ]
     },
     "metadata": {},
     "output_type": "display_data"
    },
    {
     "data": {
      "application/vnd.jupyter.widget-view+json": {
       "model_id": "b5744e8d424f48069ce2aaa3a243c1bc",
       "version_major": 2,
       "version_minor": 0
      },
      "text/plain": [
       "  0%|          | 0/4000 [00:00<?, ?it/s]"
      ]
     },
     "metadata": {},
     "output_type": "display_data"
    },
    {
     "data": {
      "application/vnd.jupyter.widget-view+json": {
       "model_id": "620026083be34111847a7ebdb3881f0a",
       "version_major": 2,
       "version_minor": 0
      },
      "text/plain": [
       "  0%|          | 0/4000 [00:00<?, ?it/s]"
      ]
     },
     "metadata": {},
     "output_type": "display_data"
    },
    {
     "data": {
      "application/vnd.jupyter.widget-view+json": {
       "model_id": "92b337d19dc5497cabbaa5a028fb8b98",
       "version_major": 2,
       "version_minor": 0
      },
      "text/plain": [
       "  0%|          | 0/4000 [00:00<?, ?it/s]"
      ]
     },
     "metadata": {},
     "output_type": "display_data"
    },
    {
     "data": {
      "application/vnd.jupyter.widget-view+json": {
       "model_id": "4d2ec54e203c4df6bfa0fa238d9b3489",
       "version_major": 2,
       "version_minor": 0
      },
      "text/plain": [
       "  0%|          | 0/4000 [00:00<?, ?it/s]"
      ]
     },
     "metadata": {},
     "output_type": "display_data"
    },
    {
     "data": {
      "application/vnd.jupyter.widget-view+json": {
       "model_id": "410186421ca9423c8fe9fc875e21904b",
       "version_major": 2,
       "version_minor": 0
      },
      "text/plain": [
       "  0%|          | 0/4000 [00:00<?, ?it/s]"
      ]
     },
     "metadata": {},
     "output_type": "display_data"
    },
    {
     "data": {
      "application/vnd.jupyter.widget-view+json": {
       "model_id": "3d0695882842425fa52f9a14be0a22ce",
       "version_major": 2,
       "version_minor": 0
      },
      "text/plain": [
       "  0%|          | 0/4000 [00:00<?, ?it/s]"
      ]
     },
     "metadata": {},
     "output_type": "display_data"
    },
    {
     "data": {
      "application/vnd.jupyter.widget-view+json": {
       "model_id": "d1208fb4ca624feea884df22fad63c90",
       "version_major": 2,
       "version_minor": 0
      },
      "text/plain": [
       "  0%|          | 0/4000 [00:00<?, ?it/s]"
      ]
     },
     "metadata": {},
     "output_type": "display_data"
    },
    {
     "data": {
      "application/vnd.jupyter.widget-view+json": {
       "model_id": "f7e4dd8dd4ff4574b0b4ed006e2f0557",
       "version_major": 2,
       "version_minor": 0
      },
      "text/plain": [
       "  0%|          | 0/4000 [00:00<?, ?it/s]"
      ]
     },
     "metadata": {},
     "output_type": "display_data"
    },
    {
     "data": {
      "application/vnd.jupyter.widget-view+json": {
       "model_id": "fdd638f6dd81416592ed59c5c13d68dd",
       "version_major": 2,
       "version_minor": 0
      },
      "text/plain": [
       "  0%|          | 0/4000 [00:00<?, ?it/s]"
      ]
     },
     "metadata": {},
     "output_type": "display_data"
    },
    {
     "data": {
      "application/vnd.jupyter.widget-view+json": {
       "model_id": "69db40caa4bc497da19e34073be6ac30",
       "version_major": 2,
       "version_minor": 0
      },
      "text/plain": [
       "  0%|          | 0/4000 [00:00<?, ?it/s]"
      ]
     },
     "metadata": {},
     "output_type": "display_data"
    },
    {
     "data": {
      "application/vnd.jupyter.widget-view+json": {
       "model_id": "fd25affb6ba34200adcd19dfb67533ab",
       "version_major": 2,
       "version_minor": 0
      },
      "text/plain": [
       "  0%|          | 0/4000 [00:00<?, ?it/s]"
      ]
     },
     "metadata": {},
     "output_type": "display_data"
    },
    {
     "data": {
      "application/vnd.jupyter.widget-view+json": {
       "model_id": "f1e98e4b87fb4a37921b6b06f1effd36",
       "version_major": 2,
       "version_minor": 0
      },
      "text/plain": [
       "  0%|          | 0/4000 [00:00<?, ?it/s]"
      ]
     },
     "metadata": {},
     "output_type": "display_data"
    },
    {
     "data": {
      "application/vnd.jupyter.widget-view+json": {
       "model_id": "ae8f41e6453e4e44abe5eabc6e7127cd",
       "version_major": 2,
       "version_minor": 0
      },
      "text/plain": [
       "  0%|          | 0/4000 [00:00<?, ?it/s]"
      ]
     },
     "metadata": {},
     "output_type": "display_data"
    },
    {
     "data": {
      "application/vnd.jupyter.widget-view+json": {
       "model_id": "cde3e93a20574cdd871a12206a39892a",
       "version_major": 2,
       "version_minor": 0
      },
      "text/plain": [
       "  0%|          | 0/4000 [00:00<?, ?it/s]"
      ]
     },
     "metadata": {},
     "output_type": "display_data"
    },
    {
     "data": {
      "application/vnd.jupyter.widget-view+json": {
       "model_id": "2f92a856fa1542d4a9b1915787179715",
       "version_major": 2,
       "version_minor": 0
      },
      "text/plain": [
       "  0%|          | 0/4000 [00:00<?, ?it/s]"
      ]
     },
     "metadata": {},
     "output_type": "display_data"
    },
    {
     "data": {
      "application/vnd.jupyter.widget-view+json": {
       "model_id": "ce4efd79adb941129607d5e0ca47123f",
       "version_major": 2,
       "version_minor": 0
      },
      "text/plain": [
       "  0%|          | 0/4000 [00:00<?, ?it/s]"
      ]
     },
     "metadata": {},
     "output_type": "display_data"
    },
    {
     "data": {
      "application/vnd.jupyter.widget-view+json": {
       "model_id": "5c714d93128c49fba3c653d6a652cf17",
       "version_major": 2,
       "version_minor": 0
      },
      "text/plain": [
       "  0%|          | 0/4000 [00:00<?, ?it/s]"
      ]
     },
     "metadata": {},
     "output_type": "display_data"
    },
    {
     "data": {
      "application/vnd.jupyter.widget-view+json": {
       "model_id": "78484e6c93014ef6ad802814c4a2f2f6",
       "version_major": 2,
       "version_minor": 0
      },
      "text/plain": [
       "  0%|          | 0/4000 [00:00<?, ?it/s]"
      ]
     },
     "metadata": {},
     "output_type": "display_data"
    },
    {
     "data": {
      "application/vnd.jupyter.widget-view+json": {
       "model_id": "9845ad71f5834ba390a5ab06d137a5a6",
       "version_major": 2,
       "version_minor": 0
      },
      "text/plain": [
       "  0%|          | 0/4000 [00:00<?, ?it/s]"
      ]
     },
     "metadata": {},
     "output_type": "display_data"
    },
    {
     "data": {
      "application/vnd.jupyter.widget-view+json": {
       "model_id": "ea73df61b7fd41368515141adbb1dd7a",
       "version_major": 2,
       "version_minor": 0
      },
      "text/plain": [
       "  0%|          | 0/4000 [00:00<?, ?it/s]"
      ]
     },
     "metadata": {},
     "output_type": "display_data"
    },
    {
     "data": {
      "application/vnd.jupyter.widget-view+json": {
       "model_id": "30744b93602d42e6be161861205f9e96",
       "version_major": 2,
       "version_minor": 0
      },
      "text/plain": [
       "  0%|          | 0/4000 [00:00<?, ?it/s]"
      ]
     },
     "metadata": {},
     "output_type": "display_data"
    },
    {
     "data": {
      "application/vnd.jupyter.widget-view+json": {
       "model_id": "fc447cd9f5da4f9fa5adc6425bae7f16",
       "version_major": 2,
       "version_minor": 0
      },
      "text/plain": [
       "  0%|          | 0/4000 [00:00<?, ?it/s]"
      ]
     },
     "metadata": {},
     "output_type": "display_data"
    },
    {
     "data": {
      "application/vnd.jupyter.widget-view+json": {
       "model_id": "42d25a107bce4829a6ecf9f9a458a767",
       "version_major": 2,
       "version_minor": 0
      },
      "text/plain": [
       "  0%|          | 0/4000 [00:00<?, ?it/s]"
      ]
     },
     "metadata": {},
     "output_type": "display_data"
    },
    {
     "data": {
      "application/vnd.jupyter.widget-view+json": {
       "model_id": "eb824d6e7b624ebb8b083dced5113981",
       "version_major": 2,
       "version_minor": 0
      },
      "text/plain": [
       "  0%|          | 0/4000 [00:00<?, ?it/s]"
      ]
     },
     "metadata": {},
     "output_type": "display_data"
    },
    {
     "data": {
      "application/vnd.jupyter.widget-view+json": {
       "model_id": "05c4e089938e44fda5b7d82d6d955854",
       "version_major": 2,
       "version_minor": 0
      },
      "text/plain": [
       "  0%|          | 0/4000 [00:00<?, ?it/s]"
      ]
     },
     "metadata": {},
     "output_type": "display_data"
    },
    {
     "data": {
      "application/vnd.jupyter.widget-view+json": {
       "model_id": "c072ff917039430fa976941d3ea9e6af",
       "version_major": 2,
       "version_minor": 0
      },
      "text/plain": [
       "  0%|          | 0/4000 [00:00<?, ?it/s]"
      ]
     },
     "metadata": {},
     "output_type": "display_data"
    },
    {
     "data": {
      "application/vnd.jupyter.widget-view+json": {
       "model_id": "2a7041b14ff94cd1a379b1fb52dc1b8e",
       "version_major": 2,
       "version_minor": 0
      },
      "text/plain": [
       "  0%|          | 0/4000 [00:00<?, ?it/s]"
      ]
     },
     "metadata": {},
     "output_type": "display_data"
    },
    {
     "data": {
      "application/vnd.jupyter.widget-view+json": {
       "model_id": "3031b073d6504d1490e074b4a291b523",
       "version_major": 2,
       "version_minor": 0
      },
      "text/plain": [
       "  0%|          | 0/4000 [00:00<?, ?it/s]"
      ]
     },
     "metadata": {},
     "output_type": "display_data"
    },
    {
     "data": {
      "application/vnd.jupyter.widget-view+json": {
       "model_id": "475b419a30c849378e0c856d8dd2dd69",
       "version_major": 2,
       "version_minor": 0
      },
      "text/plain": [
       "  0%|          | 0/4000 [00:00<?, ?it/s]"
      ]
     },
     "metadata": {},
     "output_type": "display_data"
    },
    {
     "data": {
      "application/vnd.jupyter.widget-view+json": {
       "model_id": "8e82cb2aabc1414396a3fe4fa301999b",
       "version_major": 2,
       "version_minor": 0
      },
      "text/plain": [
       "  0%|          | 0/4000 [00:00<?, ?it/s]"
      ]
     },
     "metadata": {},
     "output_type": "display_data"
    },
    {
     "data": {
      "application/vnd.jupyter.widget-view+json": {
       "model_id": "7484af3c97b04ddda482d4f64d869a86",
       "version_major": 2,
       "version_minor": 0
      },
      "text/plain": [
       "  0%|          | 0/4000 [00:00<?, ?it/s]"
      ]
     },
     "metadata": {},
     "output_type": "display_data"
    },
    {
     "data": {
      "application/vnd.jupyter.widget-view+json": {
       "model_id": "8498bd8fbfe644daae390bc8f15478cc",
       "version_major": 2,
       "version_minor": 0
      },
      "text/plain": [
       "  0%|          | 0/4000 [00:00<?, ?it/s]"
      ]
     },
     "metadata": {},
     "output_type": "display_data"
    },
    {
     "data": {
      "application/vnd.jupyter.widget-view+json": {
       "model_id": "7f90089ebc36442dbf9fac2eda9956c7",
       "version_major": 2,
       "version_minor": 0
      },
      "text/plain": [
       "  0%|          | 0/4000 [00:00<?, ?it/s]"
      ]
     },
     "metadata": {},
     "output_type": "display_data"
    },
    {
     "data": {
      "application/vnd.jupyter.widget-view+json": {
       "model_id": "b3227be33b1b45e2894fa8b5d572fc41",
       "version_major": 2,
       "version_minor": 0
      },
      "text/plain": [
       "  0%|          | 0/4000 [00:00<?, ?it/s]"
      ]
     },
     "metadata": {},
     "output_type": "display_data"
    },
    {
     "data": {
      "application/vnd.jupyter.widget-view+json": {
       "model_id": "806606e76e694e47b8c2ab7711b398c2",
       "version_major": 2,
       "version_minor": 0
      },
      "text/plain": [
       "  0%|          | 0/4000 [00:00<?, ?it/s]"
      ]
     },
     "metadata": {},
     "output_type": "display_data"
    },
    {
     "data": {
      "application/vnd.jupyter.widget-view+json": {
       "model_id": "5a07098950994186a121294f7ceaf1a7",
       "version_major": 2,
       "version_minor": 0
      },
      "text/plain": [
       "  0%|          | 0/4000 [00:00<?, ?it/s]"
      ]
     },
     "metadata": {},
     "output_type": "display_data"
    },
    {
     "data": {
      "application/vnd.jupyter.widget-view+json": {
       "model_id": "234bc130fe7344f096664693a93e32b3",
       "version_major": 2,
       "version_minor": 0
      },
      "text/plain": [
       "  0%|          | 0/4000 [00:00<?, ?it/s]"
      ]
     },
     "metadata": {},
     "output_type": "display_data"
    },
    {
     "data": {
      "application/vnd.jupyter.widget-view+json": {
       "model_id": "28bda679241049e78bc2d38bbbc67e9f",
       "version_major": 2,
       "version_minor": 0
      },
      "text/plain": [
       "  0%|          | 0/4000 [00:00<?, ?it/s]"
      ]
     },
     "metadata": {},
     "output_type": "display_data"
    },
    {
     "data": {
      "application/vnd.jupyter.widget-view+json": {
       "model_id": "74463629d5f64932b72c02163cee95a3",
       "version_major": 2,
       "version_minor": 0
      },
      "text/plain": [
       "  0%|          | 0/4000 [00:00<?, ?it/s]"
      ]
     },
     "metadata": {},
     "output_type": "display_data"
    },
    {
     "data": {
      "application/vnd.jupyter.widget-view+json": {
       "model_id": "4ab5a54165a945c3a63e21fbf16f41a8",
       "version_major": 2,
       "version_minor": 0
      },
      "text/plain": [
       "  0%|          | 0/4000 [00:00<?, ?it/s]"
      ]
     },
     "metadata": {},
     "output_type": "display_data"
    },
    {
     "data": {
      "application/vnd.jupyter.widget-view+json": {
       "model_id": "2fe66ff6e299411aa073694d8c4fe763",
       "version_major": 2,
       "version_minor": 0
      },
      "text/plain": [
       "  0%|          | 0/4000 [00:00<?, ?it/s]"
      ]
     },
     "metadata": {},
     "output_type": "display_data"
    },
    {
     "data": {
      "application/vnd.jupyter.widget-view+json": {
       "model_id": "627e2109aa4842faa5d269b7e724e63b",
       "version_major": 2,
       "version_minor": 0
      },
      "text/plain": [
       "  0%|          | 0/4000 [00:00<?, ?it/s]"
      ]
     },
     "metadata": {},
     "output_type": "display_data"
    },
    {
     "data": {
      "application/vnd.jupyter.widget-view+json": {
       "model_id": "0cfded101bb0483b9e05b8223eb09972",
       "version_major": 2,
       "version_minor": 0
      },
      "text/plain": [
       "  0%|          | 0/4000 [00:00<?, ?it/s]"
      ]
     },
     "metadata": {},
     "output_type": "display_data"
    },
    {
     "data": {
      "application/vnd.jupyter.widget-view+json": {
       "model_id": "79e1db4d97134bfcb5829e94fc6a1fb3",
       "version_major": 2,
       "version_minor": 0
      },
      "text/plain": [
       "  0%|          | 0/4000 [00:00<?, ?it/s]"
      ]
     },
     "metadata": {},
     "output_type": "display_data"
    },
    {
     "data": {
      "application/vnd.jupyter.widget-view+json": {
       "model_id": "9c27c4f33c714988bef79f15e065a441",
       "version_major": 2,
       "version_minor": 0
      },
      "text/plain": [
       "  0%|          | 0/4000 [00:00<?, ?it/s]"
      ]
     },
     "metadata": {},
     "output_type": "display_data"
    },
    {
     "data": {
      "application/vnd.jupyter.widget-view+json": {
       "model_id": "c4d48939301043a88db43cc1002d1370",
       "version_major": 2,
       "version_minor": 0
      },
      "text/plain": [
       "  0%|          | 0/4000 [00:00<?, ?it/s]"
      ]
     },
     "metadata": {},
     "output_type": "display_data"
    },
    {
     "data": {
      "application/vnd.jupyter.widget-view+json": {
       "model_id": "a91f663ade61485896ce2a2b484de07a",
       "version_major": 2,
       "version_minor": 0
      },
      "text/plain": [
       "  0%|          | 0/4000 [00:00<?, ?it/s]"
      ]
     },
     "metadata": {},
     "output_type": "display_data"
    },
    {
     "data": {
      "application/vnd.jupyter.widget-view+json": {
       "model_id": "24ab8765d69d49748525b2b50c6a8f0d",
       "version_major": 2,
       "version_minor": 0
      },
      "text/plain": [
       "  0%|          | 0/4000 [00:00<?, ?it/s]"
      ]
     },
     "metadata": {},
     "output_type": "display_data"
    },
    {
     "data": {
      "application/vnd.jupyter.widget-view+json": {
       "model_id": "56a26af8dc3c49b796f27af561ef9a9e",
       "version_major": 2,
       "version_minor": 0
      },
      "text/plain": [
       "  0%|          | 0/4000 [00:00<?, ?it/s]"
      ]
     },
     "metadata": {},
     "output_type": "display_data"
    },
    {
     "data": {
      "application/vnd.jupyter.widget-view+json": {
       "model_id": "44c3451dc81d494a90c3338270e531ba",
       "version_major": 2,
       "version_minor": 0
      },
      "text/plain": [
       "  0%|          | 0/4000 [00:00<?, ?it/s]"
      ]
     },
     "metadata": {},
     "output_type": "display_data"
    },
    {
     "data": {
      "application/vnd.jupyter.widget-view+json": {
       "model_id": "5013f260baf14ce88979e988b8884ebc",
       "version_major": 2,
       "version_minor": 0
      },
      "text/plain": [
       "  0%|          | 0/4000 [00:00<?, ?it/s]"
      ]
     },
     "metadata": {},
     "output_type": "display_data"
    },
    {
     "data": {
      "application/vnd.jupyter.widget-view+json": {
       "model_id": "1583685c237942ebb575fac3b427dcff",
       "version_major": 2,
       "version_minor": 0
      },
      "text/plain": [
       "  0%|          | 0/4000 [00:00<?, ?it/s]"
      ]
     },
     "metadata": {},
     "output_type": "display_data"
    },
    {
     "data": {
      "application/vnd.jupyter.widget-view+json": {
       "model_id": "d8d4ca36bfbf4ba28c939ec10312c38d",
       "version_major": 2,
       "version_minor": 0
      },
      "text/plain": [
       "  0%|          | 0/4000 [00:00<?, ?it/s]"
      ]
     },
     "metadata": {},
     "output_type": "display_data"
    },
    {
     "data": {
      "application/vnd.jupyter.widget-view+json": {
       "model_id": "4e15bf8c8df443e0a2bf339c4967a621",
       "version_major": 2,
       "version_minor": 0
      },
      "text/plain": [
       "  0%|          | 0/4000 [00:00<?, ?it/s]"
      ]
     },
     "metadata": {},
     "output_type": "display_data"
    },
    {
     "data": {
      "application/vnd.jupyter.widget-view+json": {
       "model_id": "396d07ecf5664584a60f8fb2e6d93f5f",
       "version_major": 2,
       "version_minor": 0
      },
      "text/plain": [
       "  0%|          | 0/4000 [00:00<?, ?it/s]"
      ]
     },
     "metadata": {},
     "output_type": "display_data"
    },
    {
     "data": {
      "application/vnd.jupyter.widget-view+json": {
       "model_id": "be928d93c7584082a1575d85e02270d1",
       "version_major": 2,
       "version_minor": 0
      },
      "text/plain": [
       "  0%|          | 0/4000 [00:00<?, ?it/s]"
      ]
     },
     "metadata": {},
     "output_type": "display_data"
    },
    {
     "data": {
      "application/vnd.jupyter.widget-view+json": {
       "model_id": "73e981a91a7748b98c0cf3321234adbd",
       "version_major": 2,
       "version_minor": 0
      },
      "text/plain": [
       "  0%|          | 0/4000 [00:00<?, ?it/s]"
      ]
     },
     "metadata": {},
     "output_type": "display_data"
    },
    {
     "data": {
      "application/vnd.jupyter.widget-view+json": {
       "model_id": "d19daef99db8488da1deeea9cfd36d03",
       "version_major": 2,
       "version_minor": 0
      },
      "text/plain": [
       "  0%|          | 0/4000 [00:00<?, ?it/s]"
      ]
     },
     "metadata": {},
     "output_type": "display_data"
    },
    {
     "data": {
      "application/vnd.jupyter.widget-view+json": {
       "model_id": "58ea38f12d504b0ea9b9707ae4fcc60e",
       "version_major": 2,
       "version_minor": 0
      },
      "text/plain": [
       "  0%|          | 0/4000 [00:00<?, ?it/s]"
      ]
     },
     "metadata": {},
     "output_type": "display_data"
    },
    {
     "data": {
      "application/vnd.jupyter.widget-view+json": {
       "model_id": "f640151056c4450baf0f5b81fb8594f3",
       "version_major": 2,
       "version_minor": 0
      },
      "text/plain": [
       "  0%|          | 0/4000 [00:00<?, ?it/s]"
      ]
     },
     "metadata": {},
     "output_type": "display_data"
    },
    {
     "data": {
      "application/vnd.jupyter.widget-view+json": {
       "model_id": "1b9a317d3be34ba2909b98b5050cf5be",
       "version_major": 2,
       "version_minor": 0
      },
      "text/plain": [
       "  0%|          | 0/4000 [00:00<?, ?it/s]"
      ]
     },
     "metadata": {},
     "output_type": "display_data"
    },
    {
     "data": {
      "application/vnd.jupyter.widget-view+json": {
       "model_id": "6cb89a640fb74d7f83a3024b74b586a6",
       "version_major": 2,
       "version_minor": 0
      },
      "text/plain": [
       "  0%|          | 0/4000 [00:00<?, ?it/s]"
      ]
     },
     "metadata": {},
     "output_type": "display_data"
    },
    {
     "data": {
      "application/vnd.jupyter.widget-view+json": {
       "model_id": "95766661affb406eb4d6088c205e683f",
       "version_major": 2,
       "version_minor": 0
      },
      "text/plain": [
       "  0%|          | 0/4000 [00:00<?, ?it/s]"
      ]
     },
     "metadata": {},
     "output_type": "display_data"
    },
    {
     "data": {
      "application/vnd.jupyter.widget-view+json": {
       "model_id": "fe248ae6884c420794877c78d7d43f4f",
       "version_major": 2,
       "version_minor": 0
      },
      "text/plain": [
       "  0%|          | 0/4000 [00:00<?, ?it/s]"
      ]
     },
     "metadata": {},
     "output_type": "display_data"
    },
    {
     "data": {
      "application/vnd.jupyter.widget-view+json": {
       "model_id": "e7f37a8551e24fcf8c401d1d50bd2f3b",
       "version_major": 2,
       "version_minor": 0
      },
      "text/plain": [
       "  0%|          | 0/4000 [00:00<?, ?it/s]"
      ]
     },
     "metadata": {},
     "output_type": "display_data"
    },
    {
     "data": {
      "application/vnd.jupyter.widget-view+json": {
       "model_id": "a21ad660a5cd4ccd9b9f119cad3cd740",
       "version_major": 2,
       "version_minor": 0
      },
      "text/plain": [
       "  0%|          | 0/4000 [00:00<?, ?it/s]"
      ]
     },
     "metadata": {},
     "output_type": "display_data"
    },
    {
     "data": {
      "application/vnd.jupyter.widget-view+json": {
       "model_id": "6d17aca39cba4b61b8d6f565cfcfcdd4",
       "version_major": 2,
       "version_minor": 0
      },
      "text/plain": [
       "  0%|          | 0/4000 [00:00<?, ?it/s]"
      ]
     },
     "metadata": {},
     "output_type": "display_data"
    },
    {
     "data": {
      "application/vnd.jupyter.widget-view+json": {
       "model_id": "94268fb176ea4404b8989e3cc22de2e6",
       "version_major": 2,
       "version_minor": 0
      },
      "text/plain": [
       "  0%|          | 0/4000 [00:00<?, ?it/s]"
      ]
     },
     "metadata": {},
     "output_type": "display_data"
    },
    {
     "data": {
      "application/vnd.jupyter.widget-view+json": {
       "model_id": "00e2341e316144c59e35c64e1e59a193",
       "version_major": 2,
       "version_minor": 0
      },
      "text/plain": [
       "  0%|          | 0/4000 [00:00<?, ?it/s]"
      ]
     },
     "metadata": {},
     "output_type": "display_data"
    },
    {
     "data": {
      "application/vnd.jupyter.widget-view+json": {
       "model_id": "351e83e6eeac45729adc3c78c2191f45",
       "version_major": 2,
       "version_minor": 0
      },
      "text/plain": [
       "  0%|          | 0/4000 [00:00<?, ?it/s]"
      ]
     },
     "metadata": {},
     "output_type": "display_data"
    },
    {
     "data": {
      "application/vnd.jupyter.widget-view+json": {
       "model_id": "c0456a95736048f08b3f69340c98ba57",
       "version_major": 2,
       "version_minor": 0
      },
      "text/plain": [
       "  0%|          | 0/4000 [00:00<?, ?it/s]"
      ]
     },
     "metadata": {},
     "output_type": "display_data"
    },
    {
     "data": {
      "application/vnd.jupyter.widget-view+json": {
       "model_id": "492c6c58cf8642c6a5aa3bbcb8829eb3",
       "version_major": 2,
       "version_minor": 0
      },
      "text/plain": [
       "  0%|          | 0/4000 [00:00<?, ?it/s]"
      ]
     },
     "metadata": {},
     "output_type": "display_data"
    },
    {
     "data": {
      "application/vnd.jupyter.widget-view+json": {
       "model_id": "08f530c844aa4ed5bfd21e5d14aee84e",
       "version_major": 2,
       "version_minor": 0
      },
      "text/plain": [
       "  0%|          | 0/4000 [00:00<?, ?it/s]"
      ]
     },
     "metadata": {},
     "output_type": "display_data"
    },
    {
     "data": {
      "application/vnd.jupyter.widget-view+json": {
       "model_id": "d308b935969d499caa62d1cc8e09dd9d",
       "version_major": 2,
       "version_minor": 0
      },
      "text/plain": [
       "  0%|          | 0/4000 [00:00<?, ?it/s]"
      ]
     },
     "metadata": {},
     "output_type": "display_data"
    },
    {
     "data": {
      "application/vnd.jupyter.widget-view+json": {
       "model_id": "5d05126bc81547c8be773d45d7ebdd26",
       "version_major": 2,
       "version_minor": 0
      },
      "text/plain": [
       "  0%|          | 0/4000 [00:00<?, ?it/s]"
      ]
     },
     "metadata": {},
     "output_type": "display_data"
    },
    {
     "data": {
      "application/vnd.jupyter.widget-view+json": {
       "model_id": "d090b78264014587a1614162eb9f3279",
       "version_major": 2,
       "version_minor": 0
      },
      "text/plain": [
       "  0%|          | 0/4000 [00:00<?, ?it/s]"
      ]
     },
     "metadata": {},
     "output_type": "display_data"
    },
    {
     "data": {
      "application/vnd.jupyter.widget-view+json": {
       "model_id": "428bf7281a5a441386ff7369a0145a1e",
       "version_major": 2,
       "version_minor": 0
      },
      "text/plain": [
       "  0%|          | 0/4000 [00:00<?, ?it/s]"
      ]
     },
     "metadata": {},
     "output_type": "display_data"
    },
    {
     "data": {
      "application/vnd.jupyter.widget-view+json": {
       "model_id": "3d27540e86b1471d9de552122eba7696",
       "version_major": 2,
       "version_minor": 0
      },
      "text/plain": [
       "  0%|          | 0/4000 [00:00<?, ?it/s]"
      ]
     },
     "metadata": {},
     "output_type": "display_data"
    },
    {
     "data": {
      "application/vnd.jupyter.widget-view+json": {
       "model_id": "bb3ad708711a49b88ae7deb657b0fc3b",
       "version_major": 2,
       "version_minor": 0
      },
      "text/plain": [
       "  0%|          | 0/4000 [00:00<?, ?it/s]"
      ]
     },
     "metadata": {},
     "output_type": "display_data"
    },
    {
     "data": {
      "application/vnd.jupyter.widget-view+json": {
       "model_id": "3543f6382b994b2ab7776fb348834c03",
       "version_major": 2,
       "version_minor": 0
      },
      "text/plain": [
       "  0%|          | 0/4000 [00:00<?, ?it/s]"
      ]
     },
     "metadata": {},
     "output_type": "display_data"
    },
    {
     "data": {
      "application/vnd.jupyter.widget-view+json": {
       "model_id": "d80aa60fd46741dfa98bb14be449eaa0",
       "version_major": 2,
       "version_minor": 0
      },
      "text/plain": [
       "  0%|          | 0/4000 [00:00<?, ?it/s]"
      ]
     },
     "metadata": {},
     "output_type": "display_data"
    },
    {
     "data": {
      "application/vnd.jupyter.widget-view+json": {
       "model_id": "67caed3f254843ed83bd4fba22dd62c4",
       "version_major": 2,
       "version_minor": 0
      },
      "text/plain": [
       "  0%|          | 0/4000 [00:00<?, ?it/s]"
      ]
     },
     "metadata": {},
     "output_type": "display_data"
    },
    {
     "data": {
      "application/vnd.jupyter.widget-view+json": {
       "model_id": "cff665c00f6b48b7bf36cdb291fb0491",
       "version_major": 2,
       "version_minor": 0
      },
      "text/plain": [
       "  0%|          | 0/4000 [00:00<?, ?it/s]"
      ]
     },
     "metadata": {},
     "output_type": "display_data"
    },
    {
     "data": {
      "application/vnd.jupyter.widget-view+json": {
       "model_id": "12f6fb73dc4644a2a0be76bafe2ae795",
       "version_major": 2,
       "version_minor": 0
      },
      "text/plain": [
       "  0%|          | 0/4000 [00:00<?, ?it/s]"
      ]
     },
     "metadata": {},
     "output_type": "display_data"
    },
    {
     "data": {
      "application/vnd.jupyter.widget-view+json": {
       "model_id": "bbbd73c7d9494028be65979f568cdc24",
       "version_major": 2,
       "version_minor": 0
      },
      "text/plain": [
       "  0%|          | 0/4000 [00:00<?, ?it/s]"
      ]
     },
     "metadata": {},
     "output_type": "display_data"
    },
    {
     "data": {
      "application/vnd.jupyter.widget-view+json": {
       "model_id": "297cb98e216341fdbf416d856cb69477",
       "version_major": 2,
       "version_minor": 0
      },
      "text/plain": [
       "  0%|          | 0/4000 [00:00<?, ?it/s]"
      ]
     },
     "metadata": {},
     "output_type": "display_data"
    },
    {
     "data": {
      "application/vnd.jupyter.widget-view+json": {
       "model_id": "8780eccdbbd147a2a050bac178798b43",
       "version_major": 2,
       "version_minor": 0
      },
      "text/plain": [
       "  0%|          | 0/4000 [00:00<?, ?it/s]"
      ]
     },
     "metadata": {},
     "output_type": "display_data"
    },
    {
     "data": {
      "application/vnd.jupyter.widget-view+json": {
       "model_id": "1e8fd8d504ff4224aa15152d0b231f66",
       "version_major": 2,
       "version_minor": 0
      },
      "text/plain": [
       "  0%|          | 0/4000 [00:00<?, ?it/s]"
      ]
     },
     "metadata": {},
     "output_type": "display_data"
    },
    {
     "data": {
      "application/vnd.jupyter.widget-view+json": {
       "model_id": "9019527088814440a39e8f61da44044f",
       "version_major": 2,
       "version_minor": 0
      },
      "text/plain": [
       "  0%|          | 0/4000 [00:00<?, ?it/s]"
      ]
     },
     "metadata": {},
     "output_type": "display_data"
    },
    {
     "data": {
      "application/vnd.jupyter.widget-view+json": {
       "model_id": "4c7eed930bd74fb7a789aa8dc1b53757",
       "version_major": 2,
       "version_minor": 0
      },
      "text/plain": [
       "  0%|          | 0/4000 [00:00<?, ?it/s]"
      ]
     },
     "metadata": {},
     "output_type": "display_data"
    },
    {
     "data": {
      "application/vnd.jupyter.widget-view+json": {
       "model_id": "7250dc4c5a2947bf9df0c145621bfc1a",
       "version_major": 2,
       "version_minor": 0
      },
      "text/plain": [
       "  0%|          | 0/4000 [00:00<?, ?it/s]"
      ]
     },
     "metadata": {},
     "output_type": "display_data"
    },
    {
     "data": {
      "application/vnd.jupyter.widget-view+json": {
       "model_id": "dcb75e8c95774742b747987e06f99a86",
       "version_major": 2,
       "version_minor": 0
      },
      "text/plain": [
       "  0%|          | 0/4000 [00:00<?, ?it/s]"
      ]
     },
     "metadata": {},
     "output_type": "display_data"
    },
    {
     "data": {
      "application/vnd.jupyter.widget-view+json": {
       "model_id": "17a71b8c4ff0457893f7545d51ccadee",
       "version_major": 2,
       "version_minor": 0
      },
      "text/plain": [
       "  0%|          | 0/4000 [00:00<?, ?it/s]"
      ]
     },
     "metadata": {},
     "output_type": "display_data"
    },
    {
     "data": {
      "application/vnd.jupyter.widget-view+json": {
       "model_id": "bbfc3de25fcb4ca9a312368c7a232305",
       "version_major": 2,
       "version_minor": 0
      },
      "text/plain": [
       "  0%|          | 0/4000 [00:00<?, ?it/s]"
      ]
     },
     "metadata": {},
     "output_type": "display_data"
    },
    {
     "data": {
      "application/vnd.jupyter.widget-view+json": {
       "model_id": "d6cd31f23996421da8e0ef6ad606ce92",
       "version_major": 2,
       "version_minor": 0
      },
      "text/plain": [
       "  0%|          | 0/4000 [00:00<?, ?it/s]"
      ]
     },
     "metadata": {},
     "output_type": "display_data"
    },
    {
     "data": {
      "application/vnd.jupyter.widget-view+json": {
       "model_id": "ff425f934c9a435891a4c9fd3626a2a0",
       "version_major": 2,
       "version_minor": 0
      },
      "text/plain": [
       "  0%|          | 0/4000 [00:00<?, ?it/s]"
      ]
     },
     "metadata": {},
     "output_type": "display_data"
    },
    {
     "data": {
      "application/vnd.jupyter.widget-view+json": {
       "model_id": "1a0584258fe243f99f300e89ae69f9ff",
       "version_major": 2,
       "version_minor": 0
      },
      "text/plain": [
       "  0%|          | 0/4000 [00:00<?, ?it/s]"
      ]
     },
     "metadata": {},
     "output_type": "display_data"
    },
    {
     "data": {
      "application/vnd.jupyter.widget-view+json": {
       "model_id": "48114f0cdc2a4a2db03c7568f8d72ff0",
       "version_major": 2,
       "version_minor": 0
      },
      "text/plain": [
       "  0%|          | 0/4000 [00:00<?, ?it/s]"
      ]
     },
     "metadata": {},
     "output_type": "display_data"
    },
    {
     "data": {
      "application/vnd.jupyter.widget-view+json": {
       "model_id": "a822ecdb82934232b9843fe0b2f0a563",
       "version_major": 2,
       "version_minor": 0
      },
      "text/plain": [
       "  0%|          | 0/4000 [00:00<?, ?it/s]"
      ]
     },
     "metadata": {},
     "output_type": "display_data"
    },
    {
     "data": {
      "application/vnd.jupyter.widget-view+json": {
       "model_id": "6886341bd9974467a79b87272120f53d",
       "version_major": 2,
       "version_minor": 0
      },
      "text/plain": [
       "  0%|          | 0/4000 [00:00<?, ?it/s]"
      ]
     },
     "metadata": {},
     "output_type": "display_data"
    },
    {
     "data": {
      "application/vnd.jupyter.widget-view+json": {
       "model_id": "265331589da346058dffa1b624e26d74",
       "version_major": 2,
       "version_minor": 0
      },
      "text/plain": [
       "  0%|          | 0/4000 [00:00<?, ?it/s]"
      ]
     },
     "metadata": {},
     "output_type": "display_data"
    },
    {
     "data": {
      "application/vnd.jupyter.widget-view+json": {
       "model_id": "e8708f9a2e754b29bcd6b32e76b7f818",
       "version_major": 2,
       "version_minor": 0
      },
      "text/plain": [
       "  0%|          | 0/4000 [00:00<?, ?it/s]"
      ]
     },
     "metadata": {},
     "output_type": "display_data"
    },
    {
     "data": {
      "application/vnd.jupyter.widget-view+json": {
       "model_id": "94718605855e406d970face1c6f5e871",
       "version_major": 2,
       "version_minor": 0
      },
      "text/plain": [
       "  0%|          | 0/4000 [00:00<?, ?it/s]"
      ]
     },
     "metadata": {},
     "output_type": "display_data"
    },
    {
     "data": {
      "application/vnd.jupyter.widget-view+json": {
       "model_id": "b94bdb0b01164cd7bf49bf2311d639a7",
       "version_major": 2,
       "version_minor": 0
      },
      "text/plain": [
       "  0%|          | 0/4000 [00:00<?, ?it/s]"
      ]
     },
     "metadata": {},
     "output_type": "display_data"
    },
    {
     "data": {
      "application/vnd.jupyter.widget-view+json": {
       "model_id": "9567b3b57fe94db8a747c79608a45f32",
       "version_major": 2,
       "version_minor": 0
      },
      "text/plain": [
       "  0%|          | 0/4000 [00:00<?, ?it/s]"
      ]
     },
     "metadata": {},
     "output_type": "display_data"
    },
    {
     "data": {
      "application/vnd.jupyter.widget-view+json": {
       "model_id": "8380bbfb754d46178a3b5f43e2e131b2",
       "version_major": 2,
       "version_minor": 0
      },
      "text/plain": [
       "  0%|          | 0/4000 [00:00<?, ?it/s]"
      ]
     },
     "metadata": {},
     "output_type": "display_data"
    },
    {
     "data": {
      "application/vnd.jupyter.widget-view+json": {
       "model_id": "a900266e35e449609ff9c6c2347d5d39",
       "version_major": 2,
       "version_minor": 0
      },
      "text/plain": [
       "  0%|          | 0/4000 [00:00<?, ?it/s]"
      ]
     },
     "metadata": {},
     "output_type": "display_data"
    },
    {
     "data": {
      "application/vnd.jupyter.widget-view+json": {
       "model_id": "543477c755d14507980e193f6f19a049",
       "version_major": 2,
       "version_minor": 0
      },
      "text/plain": [
       "  0%|          | 0/4000 [00:00<?, ?it/s]"
      ]
     },
     "metadata": {},
     "output_type": "display_data"
    },
    {
     "data": {
      "application/vnd.jupyter.widget-view+json": {
       "model_id": "b59e08ccd7b441ca9024938909eacc16",
       "version_major": 2,
       "version_minor": 0
      },
      "text/plain": [
       "  0%|          | 0/4000 [00:00<?, ?it/s]"
      ]
     },
     "metadata": {},
     "output_type": "display_data"
    },
    {
     "data": {
      "application/vnd.jupyter.widget-view+json": {
       "model_id": "debb653e810d4b3cb85f5e34b56332c7",
       "version_major": 2,
       "version_minor": 0
      },
      "text/plain": [
       "  0%|          | 0/4000 [00:00<?, ?it/s]"
      ]
     },
     "metadata": {},
     "output_type": "display_data"
    },
    {
     "data": {
      "application/vnd.jupyter.widget-view+json": {
       "model_id": "b48682ad4bfe468e9a47afd9e7b0b7af",
       "version_major": 2,
       "version_minor": 0
      },
      "text/plain": [
       "  0%|          | 0/4000 [00:00<?, ?it/s]"
      ]
     },
     "metadata": {},
     "output_type": "display_data"
    },
    {
     "data": {
      "application/vnd.jupyter.widget-view+json": {
       "model_id": "7dc9512bf7a74ed384e9a3f9407b1cb4",
       "version_major": 2,
       "version_minor": 0
      },
      "text/plain": [
       "  0%|          | 0/4000 [00:00<?, ?it/s]"
      ]
     },
     "metadata": {},
     "output_type": "display_data"
    },
    {
     "data": {
      "application/vnd.jupyter.widget-view+json": {
       "model_id": "d40738890263429c9a138d068e692355",
       "version_major": 2,
       "version_minor": 0
      },
      "text/plain": [
       "  0%|          | 0/4000 [00:00<?, ?it/s]"
      ]
     },
     "metadata": {},
     "output_type": "display_data"
    },
    {
     "data": {
      "application/vnd.jupyter.widget-view+json": {
       "model_id": "ea94852581784e27bebe616417f3f553",
       "version_major": 2,
       "version_minor": 0
      },
      "text/plain": [
       "  0%|          | 0/4000 [00:00<?, ?it/s]"
      ]
     },
     "metadata": {},
     "output_type": "display_data"
    },
    {
     "data": {
      "application/vnd.jupyter.widget-view+json": {
       "model_id": "50cb777dc7ee4455897c98edefa402da",
       "version_major": 2,
       "version_minor": 0
      },
      "text/plain": [
       "  0%|          | 0/4000 [00:00<?, ?it/s]"
      ]
     },
     "metadata": {},
     "output_type": "display_data"
    },
    {
     "data": {
      "application/vnd.jupyter.widget-view+json": {
       "model_id": "6c53910d508748b1b16b4f46260ca141",
       "version_major": 2,
       "version_minor": 0
      },
      "text/plain": [
       "  0%|          | 0/4000 [00:00<?, ?it/s]"
      ]
     },
     "metadata": {},
     "output_type": "display_data"
    },
    {
     "data": {
      "application/vnd.jupyter.widget-view+json": {
       "model_id": "cabb6e62b07b4188a0c0670e3d51a5c6",
       "version_major": 2,
       "version_minor": 0
      },
      "text/plain": [
       "  0%|          | 0/4000 [00:00<?, ?it/s]"
      ]
     },
     "metadata": {},
     "output_type": "display_data"
    },
    {
     "data": {
      "application/vnd.jupyter.widget-view+json": {
       "model_id": "2917a1fd4b1e4d5280d154ae7003f871",
       "version_major": 2,
       "version_minor": 0
      },
      "text/plain": [
       "  0%|          | 0/4000 [00:00<?, ?it/s]"
      ]
     },
     "metadata": {},
     "output_type": "display_data"
    },
    {
     "data": {
      "application/vnd.jupyter.widget-view+json": {
       "model_id": "711baa1145e746a28983f4f88f1faad7",
       "version_major": 2,
       "version_minor": 0
      },
      "text/plain": [
       "  0%|          | 0/4000 [00:00<?, ?it/s]"
      ]
     },
     "metadata": {},
     "output_type": "display_data"
    },
    {
     "data": {
      "application/vnd.jupyter.widget-view+json": {
       "model_id": "8ba5cc4c18764be79ec1deed60d7294a",
       "version_major": 2,
       "version_minor": 0
      },
      "text/plain": [
       "  0%|          | 0/4000 [00:00<?, ?it/s]"
      ]
     },
     "metadata": {},
     "output_type": "display_data"
    },
    {
     "data": {
      "application/vnd.jupyter.widget-view+json": {
       "model_id": "be82f4acd6224981bb6829fe3b75c4a4",
       "version_major": 2,
       "version_minor": 0
      },
      "text/plain": [
       "  0%|          | 0/4000 [00:00<?, ?it/s]"
      ]
     },
     "metadata": {},
     "output_type": "display_data"
    },
    {
     "data": {
      "application/vnd.jupyter.widget-view+json": {
       "model_id": "7404f60602284f538bea9aad705114a5",
       "version_major": 2,
       "version_minor": 0
      },
      "text/plain": [
       "  0%|          | 0/4000 [00:00<?, ?it/s]"
      ]
     },
     "metadata": {},
     "output_type": "display_data"
    },
    {
     "data": {
      "application/vnd.jupyter.widget-view+json": {
       "model_id": "118338f8234a40d2997d3ea7526a928c",
       "version_major": 2,
       "version_minor": 0
      },
      "text/plain": [
       "  0%|          | 0/4000 [00:00<?, ?it/s]"
      ]
     },
     "metadata": {},
     "output_type": "display_data"
    },
    {
     "data": {
      "application/vnd.jupyter.widget-view+json": {
       "model_id": "65e503a1dd70400b8f6b73920ae27bc5",
       "version_major": 2,
       "version_minor": 0
      },
      "text/plain": [
       "  0%|          | 0/4000 [00:00<?, ?it/s]"
      ]
     },
     "metadata": {},
     "output_type": "display_data"
    },
    {
     "data": {
      "application/vnd.jupyter.widget-view+json": {
       "model_id": "fb21eda0de9f4672a615f673d7f87b1d",
       "version_major": 2,
       "version_minor": 0
      },
      "text/plain": [
       "  0%|          | 0/4000 [00:00<?, ?it/s]"
      ]
     },
     "metadata": {},
     "output_type": "display_data"
    },
    {
     "data": {
      "application/vnd.jupyter.widget-view+json": {
       "model_id": "b2510c95ff5545e2a7107d15e33b7fc4",
       "version_major": 2,
       "version_minor": 0
      },
      "text/plain": [
       "  0%|          | 0/4000 [00:00<?, ?it/s]"
      ]
     },
     "metadata": {},
     "output_type": "display_data"
    },
    {
     "data": {
      "application/vnd.jupyter.widget-view+json": {
       "model_id": "e93033a083d34451a34a4e99c9e088fe",
       "version_major": 2,
       "version_minor": 0
      },
      "text/plain": [
       "  0%|          | 0/4000 [00:00<?, ?it/s]"
      ]
     },
     "metadata": {},
     "output_type": "display_data"
    },
    {
     "data": {
      "application/vnd.jupyter.widget-view+json": {
       "model_id": "d9d7383f3ede4dd0b03e62c46fe30f5e",
       "version_major": 2,
       "version_minor": 0
      },
      "text/plain": [
       "  0%|          | 0/4000 [00:00<?, ?it/s]"
      ]
     },
     "metadata": {},
     "output_type": "display_data"
    },
    {
     "data": {
      "application/vnd.jupyter.widget-view+json": {
       "model_id": "e3b5168b5f2b439d8155c9be11e37423",
       "version_major": 2,
       "version_minor": 0
      },
      "text/plain": [
       "  0%|          | 0/4000 [00:00<?, ?it/s]"
      ]
     },
     "metadata": {},
     "output_type": "display_data"
    },
    {
     "data": {
      "application/vnd.jupyter.widget-view+json": {
       "model_id": "e7c0f8522d0044f8bd1e709c62e4c553",
       "version_major": 2,
       "version_minor": 0
      },
      "text/plain": [
       "  0%|          | 0/4000 [00:00<?, ?it/s]"
      ]
     },
     "metadata": {},
     "output_type": "display_data"
    },
    {
     "data": {
      "application/vnd.jupyter.widget-view+json": {
       "model_id": "0fb2c372dbbc4744bdfefd68b30a2891",
       "version_major": 2,
       "version_minor": 0
      },
      "text/plain": [
       "  0%|          | 0/4000 [00:00<?, ?it/s]"
      ]
     },
     "metadata": {},
     "output_type": "display_data"
    },
    {
     "data": {
      "application/vnd.jupyter.widget-view+json": {
       "model_id": "dce51c098f0f47328893752ef360e858",
       "version_major": 2,
       "version_minor": 0
      },
      "text/plain": [
       "  0%|          | 0/4000 [00:00<?, ?it/s]"
      ]
     },
     "metadata": {},
     "output_type": "display_data"
    },
    {
     "data": {
      "application/vnd.jupyter.widget-view+json": {
       "model_id": "897cbd92d09a42be9dd554114a3954c5",
       "version_major": 2,
       "version_minor": 0
      },
      "text/plain": [
       "  0%|          | 0/4000 [00:00<?, ?it/s]"
      ]
     },
     "metadata": {},
     "output_type": "display_data"
    },
    {
     "data": {
      "application/vnd.jupyter.widget-view+json": {
       "model_id": "ed52cd634fc3494d9e2272281d7ab3eb",
       "version_major": 2,
       "version_minor": 0
      },
      "text/plain": [
       "  0%|          | 0/4000 [00:00<?, ?it/s]"
      ]
     },
     "metadata": {},
     "output_type": "display_data"
    },
    {
     "data": {
      "application/vnd.jupyter.widget-view+json": {
       "model_id": "58c9e32940214492abcea82421c02be2",
       "version_major": 2,
       "version_minor": 0
      },
      "text/plain": [
       "  0%|          | 0/4000 [00:00<?, ?it/s]"
      ]
     },
     "metadata": {},
     "output_type": "display_data"
    },
    {
     "data": {
      "application/vnd.jupyter.widget-view+json": {
       "model_id": "2eed1afe84c5448096d12dc3cf58c12c",
       "version_major": 2,
       "version_minor": 0
      },
      "text/plain": [
       "  0%|          | 0/4000 [00:00<?, ?it/s]"
      ]
     },
     "metadata": {},
     "output_type": "display_data"
    },
    {
     "data": {
      "application/vnd.jupyter.widget-view+json": {
       "model_id": "8da8583e60354e4e9ddafa674327b068",
       "version_major": 2,
       "version_minor": 0
      },
      "text/plain": [
       "  0%|          | 0/4000 [00:00<?, ?it/s]"
      ]
     },
     "metadata": {},
     "output_type": "display_data"
    },
    {
     "data": {
      "application/vnd.jupyter.widget-view+json": {
       "model_id": "d9adf71e410a4cb98b7b6fcdd99620b9",
       "version_major": 2,
       "version_minor": 0
      },
      "text/plain": [
       "  0%|          | 0/4000 [00:00<?, ?it/s]"
      ]
     },
     "metadata": {},
     "output_type": "display_data"
    },
    {
     "data": {
      "application/vnd.jupyter.widget-view+json": {
       "model_id": "5e60e2bb73714a77ac31ea92c40e2ba4",
       "version_major": 2,
       "version_minor": 0
      },
      "text/plain": [
       "  0%|          | 0/4000 [00:00<?, ?it/s]"
      ]
     },
     "metadata": {},
     "output_type": "display_data"
    },
    {
     "data": {
      "application/vnd.jupyter.widget-view+json": {
       "model_id": "0d7d878226e147cab49651cb44ab5b1c",
       "version_major": 2,
       "version_minor": 0
      },
      "text/plain": [
       "  0%|          | 0/4000 [00:00<?, ?it/s]"
      ]
     },
     "metadata": {},
     "output_type": "display_data"
    },
    {
     "data": {
      "application/vnd.jupyter.widget-view+json": {
       "model_id": "9e082fb7dbad40e29b7750c9632f03e7",
       "version_major": 2,
       "version_minor": 0
      },
      "text/plain": [
       "  0%|          | 0/4000 [00:00<?, ?it/s]"
      ]
     },
     "metadata": {},
     "output_type": "display_data"
    },
    {
     "data": {
      "application/vnd.jupyter.widget-view+json": {
       "model_id": "a42b0f7f82d244abb48a7fd2aec2f0af",
       "version_major": 2,
       "version_minor": 0
      },
      "text/plain": [
       "  0%|          | 0/4000 [00:00<?, ?it/s]"
      ]
     },
     "metadata": {},
     "output_type": "display_data"
    },
    {
     "data": {
      "application/vnd.jupyter.widget-view+json": {
       "model_id": "412fa4be7bad43c4855cf7675a36b6be",
       "version_major": 2,
       "version_minor": 0
      },
      "text/plain": [
       "  0%|          | 0/4000 [00:00<?, ?it/s]"
      ]
     },
     "metadata": {},
     "output_type": "display_data"
    },
    {
     "data": {
      "application/vnd.jupyter.widget-view+json": {
       "model_id": "7783ad83e47149a3b863ce85792db243",
       "version_major": 2,
       "version_minor": 0
      },
      "text/plain": [
       "  0%|          | 0/4000 [00:00<?, ?it/s]"
      ]
     },
     "metadata": {},
     "output_type": "display_data"
    },
    {
     "data": {
      "application/vnd.jupyter.widget-view+json": {
       "model_id": "ac4328b8cd1147218c97f5e8f6011134",
       "version_major": 2,
       "version_minor": 0
      },
      "text/plain": [
       "  0%|          | 0/4000 [00:00<?, ?it/s]"
      ]
     },
     "metadata": {},
     "output_type": "display_data"
    },
    {
     "data": {
      "application/vnd.jupyter.widget-view+json": {
       "model_id": "0c7985010ef24baf96a244b09777e39f",
       "version_major": 2,
       "version_minor": 0
      },
      "text/plain": [
       "  0%|          | 0/4000 [00:00<?, ?it/s]"
      ]
     },
     "metadata": {},
     "output_type": "display_data"
    },
    {
     "data": {
      "application/vnd.jupyter.widget-view+json": {
       "model_id": "01307e011c39440f8a0c5646727df10a",
       "version_major": 2,
       "version_minor": 0
      },
      "text/plain": [
       "  0%|          | 0/4000 [00:00<?, ?it/s]"
      ]
     },
     "metadata": {},
     "output_type": "display_data"
    },
    {
     "data": {
      "application/vnd.jupyter.widget-view+json": {
       "model_id": "fd9b79f416cc41a29631cc36194a0c00",
       "version_major": 2,
       "version_minor": 0
      },
      "text/plain": [
       "  0%|          | 0/4000 [00:00<?, ?it/s]"
      ]
     },
     "metadata": {},
     "output_type": "display_data"
    },
    {
     "data": {
      "application/vnd.jupyter.widget-view+json": {
       "model_id": "62da13156ff545d4a382dc584b132f11",
       "version_major": 2,
       "version_minor": 0
      },
      "text/plain": [
       "  0%|          | 0/4000 [00:00<?, ?it/s]"
      ]
     },
     "metadata": {},
     "output_type": "display_data"
    },
    {
     "data": {
      "application/vnd.jupyter.widget-view+json": {
       "model_id": "f6537b7d53ab486b86b682aeb84a8e68",
       "version_major": 2,
       "version_minor": 0
      },
      "text/plain": [
       "  0%|          | 0/4000 [00:00<?, ?it/s]"
      ]
     },
     "metadata": {},
     "output_type": "display_data"
    },
    {
     "data": {
      "application/vnd.jupyter.widget-view+json": {
       "model_id": "2ddd818e4c0f49efaa48fa204dedf37e",
       "version_major": 2,
       "version_minor": 0
      },
      "text/plain": [
       "  0%|          | 0/4000 [00:00<?, ?it/s]"
      ]
     },
     "metadata": {},
     "output_type": "display_data"
    },
    {
     "data": {
      "application/vnd.jupyter.widget-view+json": {
       "model_id": "2c1456c2239a4864b39a634663b9d5d4",
       "version_major": 2,
       "version_minor": 0
      },
      "text/plain": [
       "  0%|          | 0/4000 [00:00<?, ?it/s]"
      ]
     },
     "metadata": {},
     "output_type": "display_data"
    },
    {
     "data": {
      "application/vnd.jupyter.widget-view+json": {
       "model_id": "c516d5c3856e4f03b2c5681ed48e39f3",
       "version_major": 2,
       "version_minor": 0
      },
      "text/plain": [
       "  0%|          | 0/4000 [00:00<?, ?it/s]"
      ]
     },
     "metadata": {},
     "output_type": "display_data"
    },
    {
     "data": {
      "application/vnd.jupyter.widget-view+json": {
       "model_id": "e1b75ac5e36644cfb809f8f65b58397f",
       "version_major": 2,
       "version_minor": 0
      },
      "text/plain": [
       "  0%|          | 0/4000 [00:00<?, ?it/s]"
      ]
     },
     "metadata": {},
     "output_type": "display_data"
    },
    {
     "data": {
      "application/vnd.jupyter.widget-view+json": {
       "model_id": "ae3fa3e806a84986923e9db5e8bc63fe",
       "version_major": 2,
       "version_minor": 0
      },
      "text/plain": [
       "  0%|          | 0/4000 [00:00<?, ?it/s]"
      ]
     },
     "metadata": {},
     "output_type": "display_data"
    },
    {
     "data": {
      "application/vnd.jupyter.widget-view+json": {
       "model_id": "7392e473400a4d74a2afb52dc71ce587",
       "version_major": 2,
       "version_minor": 0
      },
      "text/plain": [
       "  0%|          | 0/4000 [00:00<?, ?it/s]"
      ]
     },
     "metadata": {},
     "output_type": "display_data"
    },
    {
     "data": {
      "application/vnd.jupyter.widget-view+json": {
       "model_id": "1f1342d331c44a9cb6b6d312bc3a2d4f",
       "version_major": 2,
       "version_minor": 0
      },
      "text/plain": [
       "  0%|          | 0/4000 [00:00<?, ?it/s]"
      ]
     },
     "metadata": {},
     "output_type": "display_data"
    },
    {
     "data": {
      "application/vnd.jupyter.widget-view+json": {
       "model_id": "a5cab389928646e9823c9ca9238ea99b",
       "version_major": 2,
       "version_minor": 0
      },
      "text/plain": [
       "  0%|          | 0/4000 [00:00<?, ?it/s]"
      ]
     },
     "metadata": {},
     "output_type": "display_data"
    },
    {
     "data": {
      "application/vnd.jupyter.widget-view+json": {
       "model_id": "eb5a2a524e3745e6974822aca5e35bc0",
       "version_major": 2,
       "version_minor": 0
      },
      "text/plain": [
       "  0%|          | 0/4000 [00:00<?, ?it/s]"
      ]
     },
     "metadata": {},
     "output_type": "display_data"
    },
    {
     "data": {
      "application/vnd.jupyter.widget-view+json": {
       "model_id": "e56868a97cc34060a360874d0995356f",
       "version_major": 2,
       "version_minor": 0
      },
      "text/plain": [
       "  0%|          | 0/4000 [00:00<?, ?it/s]"
      ]
     },
     "metadata": {},
     "output_type": "display_data"
    },
    {
     "data": {
      "application/vnd.jupyter.widget-view+json": {
       "model_id": "0ebbd9d35305408195b573476ce02426",
       "version_major": 2,
       "version_minor": 0
      },
      "text/plain": [
       "  0%|          | 0/4000 [00:00<?, ?it/s]"
      ]
     },
     "metadata": {},
     "output_type": "display_data"
    },
    {
     "data": {
      "application/vnd.jupyter.widget-view+json": {
       "model_id": "1f6b11657b6c4d1a9852475745b1c044",
       "version_major": 2,
       "version_minor": 0
      },
      "text/plain": [
       "  0%|          | 0/4000 [00:00<?, ?it/s]"
      ]
     },
     "metadata": {},
     "output_type": "display_data"
    },
    {
     "data": {
      "application/vnd.jupyter.widget-view+json": {
       "model_id": "90c7c356f18548f9ba189dd6c5c7af3c",
       "version_major": 2,
       "version_minor": 0
      },
      "text/plain": [
       "  0%|          | 0/4000 [00:00<?, ?it/s]"
      ]
     },
     "metadata": {},
     "output_type": "display_data"
    },
    {
     "data": {
      "application/vnd.jupyter.widget-view+json": {
       "model_id": "85bb8a7ddbcd4dad8e7c08ba1d0f6c55",
       "version_major": 2,
       "version_minor": 0
      },
      "text/plain": [
       "  0%|          | 0/4000 [00:00<?, ?it/s]"
      ]
     },
     "metadata": {},
     "output_type": "display_data"
    },
    {
     "data": {
      "application/vnd.jupyter.widget-view+json": {
       "model_id": "207e2255f8104e269643239050cd4a0b",
       "version_major": 2,
       "version_minor": 0
      },
      "text/plain": [
       "  0%|          | 0/4000 [00:00<?, ?it/s]"
      ]
     },
     "metadata": {},
     "output_type": "display_data"
    },
    {
     "data": {
      "application/vnd.jupyter.widget-view+json": {
       "model_id": "d1404f6b8be64e4e8170cab312affc9f",
       "version_major": 2,
       "version_minor": 0
      },
      "text/plain": [
       "  0%|          | 0/4000 [00:00<?, ?it/s]"
      ]
     },
     "metadata": {},
     "output_type": "display_data"
    },
    {
     "data": {
      "application/vnd.jupyter.widget-view+json": {
       "model_id": "e465150460be44c78cc6c462445a7889",
       "version_major": 2,
       "version_minor": 0
      },
      "text/plain": [
       "  0%|          | 0/4000 [00:00<?, ?it/s]"
      ]
     },
     "metadata": {},
     "output_type": "display_data"
    },
    {
     "data": {
      "application/vnd.jupyter.widget-view+json": {
       "model_id": "93d1d6eb6bac45d1b20891b0ef67fc55",
       "version_major": 2,
       "version_minor": 0
      },
      "text/plain": [
       "  0%|          | 0/4000 [00:00<?, ?it/s]"
      ]
     },
     "metadata": {},
     "output_type": "display_data"
    },
    {
     "data": {
      "application/vnd.jupyter.widget-view+json": {
       "model_id": "dc2170db1de34da380d2ea97f1fe2ea1",
       "version_major": 2,
       "version_minor": 0
      },
      "text/plain": [
       "  0%|          | 0/4000 [00:00<?, ?it/s]"
      ]
     },
     "metadata": {},
     "output_type": "display_data"
    },
    {
     "data": {
      "application/vnd.jupyter.widget-view+json": {
       "model_id": "61667b52f5694ba8a63d06111ceafac0",
       "version_major": 2,
       "version_minor": 0
      },
      "text/plain": [
       "  0%|          | 0/4000 [00:00<?, ?it/s]"
      ]
     },
     "metadata": {},
     "output_type": "display_data"
    },
    {
     "data": {
      "application/vnd.jupyter.widget-view+json": {
       "model_id": "69ab1b2366434bb080136d57a5746ce2",
       "version_major": 2,
       "version_minor": 0
      },
      "text/plain": [
       "  0%|          | 0/4000 [00:00<?, ?it/s]"
      ]
     },
     "metadata": {},
     "output_type": "display_data"
    },
    {
     "data": {
      "application/vnd.jupyter.widget-view+json": {
       "model_id": "f047d5b18dd541e9a00def543c201285",
       "version_major": 2,
       "version_minor": 0
      },
      "text/plain": [
       "  0%|          | 0/4000 [00:00<?, ?it/s]"
      ]
     },
     "metadata": {},
     "output_type": "display_data"
    },
    {
     "data": {
      "application/vnd.jupyter.widget-view+json": {
       "model_id": "982b932f538441cd8cc5808e93d07d5d",
       "version_major": 2,
       "version_minor": 0
      },
      "text/plain": [
       "  0%|          | 0/4000 [00:00<?, ?it/s]"
      ]
     },
     "metadata": {},
     "output_type": "display_data"
    },
    {
     "data": {
      "application/vnd.jupyter.widget-view+json": {
       "model_id": "9ac63e3d8d6047a6a3441bff5a4b806b",
       "version_major": 2,
       "version_minor": 0
      },
      "text/plain": [
       "  0%|          | 0/4000 [00:00<?, ?it/s]"
      ]
     },
     "metadata": {},
     "output_type": "display_data"
    },
    {
     "data": {
      "application/vnd.jupyter.widget-view+json": {
       "model_id": "b125a8c5d8074f169de0fd09061c5653",
       "version_major": 2,
       "version_minor": 0
      },
      "text/plain": [
       "  0%|          | 0/4000 [00:00<?, ?it/s]"
      ]
     },
     "metadata": {},
     "output_type": "display_data"
    },
    {
     "data": {
      "application/vnd.jupyter.widget-view+json": {
       "model_id": "75384ce2e384465186206f0c158803a5",
       "version_major": 2,
       "version_minor": 0
      },
      "text/plain": [
       "  0%|          | 0/4000 [00:00<?, ?it/s]"
      ]
     },
     "metadata": {},
     "output_type": "display_data"
    },
    {
     "data": {
      "application/vnd.jupyter.widget-view+json": {
       "model_id": "4d00cfe8a6624b4bbab548aeeda4de4f",
       "version_major": 2,
       "version_minor": 0
      },
      "text/plain": [
       "  0%|          | 0/4000 [00:00<?, ?it/s]"
      ]
     },
     "metadata": {},
     "output_type": "display_data"
    },
    {
     "data": {
      "application/vnd.jupyter.widget-view+json": {
       "model_id": "8c2ce06f681e4aa690e5d0c5d394ca02",
       "version_major": 2,
       "version_minor": 0
      },
      "text/plain": [
       "  0%|          | 0/4000 [00:00<?, ?it/s]"
      ]
     },
     "metadata": {},
     "output_type": "display_data"
    },
    {
     "data": {
      "application/vnd.jupyter.widget-view+json": {
       "model_id": "5b360b59492c4115b78cbdef82201be5",
       "version_major": 2,
       "version_minor": 0
      },
      "text/plain": [
       "  0%|          | 0/4000 [00:00<?, ?it/s]"
      ]
     },
     "metadata": {},
     "output_type": "display_data"
    },
    {
     "data": {
      "application/vnd.jupyter.widget-view+json": {
       "model_id": "05d7263544194bd1b07c9aa683522ab5",
       "version_major": 2,
       "version_minor": 0
      },
      "text/plain": [
       "  0%|          | 0/4000 [00:00<?, ?it/s]"
      ]
     },
     "metadata": {},
     "output_type": "display_data"
    },
    {
     "data": {
      "application/vnd.jupyter.widget-view+json": {
       "model_id": "865e87926b0a4c939989aea0bb964a7c",
       "version_major": 2,
       "version_minor": 0
      },
      "text/plain": [
       "  0%|          | 0/4000 [00:00<?, ?it/s]"
      ]
     },
     "metadata": {},
     "output_type": "display_data"
    },
    {
     "data": {
      "application/vnd.jupyter.widget-view+json": {
       "model_id": "cb61b8ca1dfd4bf08b95e1c4403424e8",
       "version_major": 2,
       "version_minor": 0
      },
      "text/plain": [
       "  0%|          | 0/4000 [00:00<?, ?it/s]"
      ]
     },
     "metadata": {},
     "output_type": "display_data"
    },
    {
     "data": {
      "application/vnd.jupyter.widget-view+json": {
       "model_id": "f74b7e95e5aa4fc89585de34fb337b34",
       "version_major": 2,
       "version_minor": 0
      },
      "text/plain": [
       "  0%|          | 0/4000 [00:00<?, ?it/s]"
      ]
     },
     "metadata": {},
     "output_type": "display_data"
    },
    {
     "data": {
      "application/vnd.jupyter.widget-view+json": {
       "model_id": "fb163b07c9af4da0a1e6e33e471d8b75",
       "version_major": 2,
       "version_minor": 0
      },
      "text/plain": [
       "  0%|          | 0/4000 [00:00<?, ?it/s]"
      ]
     },
     "metadata": {},
     "output_type": "display_data"
    },
    {
     "data": {
      "application/vnd.jupyter.widget-view+json": {
       "model_id": "73a549377a644f1d9072196c20835c2e",
       "version_major": 2,
       "version_minor": 0
      },
      "text/plain": [
       "  0%|          | 0/4000 [00:00<?, ?it/s]"
      ]
     },
     "metadata": {},
     "output_type": "display_data"
    },
    {
     "data": {
      "application/vnd.jupyter.widget-view+json": {
       "model_id": "cd4a4ed07d444121bdb84b540ba98b3a",
       "version_major": 2,
       "version_minor": 0
      },
      "text/plain": [
       "  0%|          | 0/4000 [00:00<?, ?it/s]"
      ]
     },
     "metadata": {},
     "output_type": "display_data"
    },
    {
     "data": {
      "application/vnd.jupyter.widget-view+json": {
       "model_id": "f8587ecf0cfc4b27ac260a9cd09cb6bc",
       "version_major": 2,
       "version_minor": 0
      },
      "text/plain": [
       "  0%|          | 0/4000 [00:00<?, ?it/s]"
      ]
     },
     "metadata": {},
     "output_type": "display_data"
    },
    {
     "data": {
      "application/vnd.jupyter.widget-view+json": {
       "model_id": "aa8a7c1e9f7a4199aea28a7988c4c56f",
       "version_major": 2,
       "version_minor": 0
      },
      "text/plain": [
       "  0%|          | 0/4000 [00:00<?, ?it/s]"
      ]
     },
     "metadata": {},
     "output_type": "display_data"
    },
    {
     "data": {
      "application/vnd.jupyter.widget-view+json": {
       "model_id": "e51bf068ed834485b3245ee3bdcaf2ac",
       "version_major": 2,
       "version_minor": 0
      },
      "text/plain": [
       "  0%|          | 0/4000 [00:00<?, ?it/s]"
      ]
     },
     "metadata": {},
     "output_type": "display_data"
    },
    {
     "data": {
      "application/vnd.jupyter.widget-view+json": {
       "model_id": "eabbbdd8b5c54177a656dbc7c46eac0b",
       "version_major": 2,
       "version_minor": 0
      },
      "text/plain": [
       "  0%|          | 0/4000 [00:00<?, ?it/s]"
      ]
     },
     "metadata": {},
     "output_type": "display_data"
    },
    {
     "data": {
      "application/vnd.jupyter.widget-view+json": {
       "model_id": "d77f1b34d17e454485d372bfb732dd2b",
       "version_major": 2,
       "version_minor": 0
      },
      "text/plain": [
       "  0%|          | 0/4000 [00:00<?, ?it/s]"
      ]
     },
     "metadata": {},
     "output_type": "display_data"
    },
    {
     "data": {
      "application/vnd.jupyter.widget-view+json": {
       "model_id": "51c5fe68e6444e049a2dafc8b6e33190",
       "version_major": 2,
       "version_minor": 0
      },
      "text/plain": [
       "  0%|          | 0/4000 [00:00<?, ?it/s]"
      ]
     },
     "metadata": {},
     "output_type": "display_data"
    },
    {
     "data": {
      "application/vnd.jupyter.widget-view+json": {
       "model_id": "b8ccc2d3a7bc472da9dc76b7d569589f",
       "version_major": 2,
       "version_minor": 0
      },
      "text/plain": [
       "  0%|          | 0/4000 [00:00<?, ?it/s]"
      ]
     },
     "metadata": {},
     "output_type": "display_data"
    },
    {
     "data": {
      "application/vnd.jupyter.widget-view+json": {
       "model_id": "4b0c8c1a0aa744ba988661c67e402464",
       "version_major": 2,
       "version_minor": 0
      },
      "text/plain": [
       "  0%|          | 0/4000 [00:00<?, ?it/s]"
      ]
     },
     "metadata": {},
     "output_type": "display_data"
    },
    {
     "data": {
      "application/vnd.jupyter.widget-view+json": {
       "model_id": "cf2ecb88b0134ff6bb2f585bf65af211",
       "version_major": 2,
       "version_minor": 0
      },
      "text/plain": [
       "  0%|          | 0/4000 [00:00<?, ?it/s]"
      ]
     },
     "metadata": {},
     "output_type": "display_data"
    },
    {
     "data": {
      "application/vnd.jupyter.widget-view+json": {
       "model_id": "7f8cb4a14d24475c88d61285a444fdec",
       "version_major": 2,
       "version_minor": 0
      },
      "text/plain": [
       "  0%|          | 0/4000 [00:00<?, ?it/s]"
      ]
     },
     "metadata": {},
     "output_type": "display_data"
    },
    {
     "data": {
      "application/vnd.jupyter.widget-view+json": {
       "model_id": "08bea75decc24d80b6d79f579c276fef",
       "version_major": 2,
       "version_minor": 0
      },
      "text/plain": [
       "  0%|          | 0/4000 [00:00<?, ?it/s]"
      ]
     },
     "metadata": {},
     "output_type": "display_data"
    },
    {
     "data": {
      "application/vnd.jupyter.widget-view+json": {
       "model_id": "e93b7641981c4144abfebbf7a779acd3",
       "version_major": 2,
       "version_minor": 0
      },
      "text/plain": [
       "  0%|          | 0/4000 [00:00<?, ?it/s]"
      ]
     },
     "metadata": {},
     "output_type": "display_data"
    },
    {
     "data": {
      "application/vnd.jupyter.widget-view+json": {
       "model_id": "7ee75939e47f4ba6a6e755758a2abd08",
       "version_major": 2,
       "version_minor": 0
      },
      "text/plain": [
       "  0%|          | 0/4000 [00:00<?, ?it/s]"
      ]
     },
     "metadata": {},
     "output_type": "display_data"
    },
    {
     "data": {
      "application/vnd.jupyter.widget-view+json": {
       "model_id": "760b02f51f6946a082465f5058cce5c7",
       "version_major": 2,
       "version_minor": 0
      },
      "text/plain": [
       "  0%|          | 0/4000 [00:00<?, ?it/s]"
      ]
     },
     "metadata": {},
     "output_type": "display_data"
    },
    {
     "data": {
      "application/vnd.jupyter.widget-view+json": {
       "model_id": "e6554ecbe4a24aa9b2c988ed897138e0",
       "version_major": 2,
       "version_minor": 0
      },
      "text/plain": [
       "  0%|          | 0/4000 [00:00<?, ?it/s]"
      ]
     },
     "metadata": {},
     "output_type": "display_data"
    },
    {
     "data": {
      "application/vnd.jupyter.widget-view+json": {
       "model_id": "37a573f049b44338ad3322a294ee6212",
       "version_major": 2,
       "version_minor": 0
      },
      "text/plain": [
       "  0%|          | 0/4000 [00:00<?, ?it/s]"
      ]
     },
     "metadata": {},
     "output_type": "display_data"
    },
    {
     "data": {
      "application/vnd.jupyter.widget-view+json": {
       "model_id": "1354df8e95fb40e6aa1fc9b7e05d914e",
       "version_major": 2,
       "version_minor": 0
      },
      "text/plain": [
       "  0%|          | 0/4000 [00:00<?, ?it/s]"
      ]
     },
     "metadata": {},
     "output_type": "display_data"
    },
    {
     "data": {
      "application/vnd.jupyter.widget-view+json": {
       "model_id": "ff789de0f30c466291a8d8009c693b43",
       "version_major": 2,
       "version_minor": 0
      },
      "text/plain": [
       "  0%|          | 0/4000 [00:00<?, ?it/s]"
      ]
     },
     "metadata": {},
     "output_type": "display_data"
    },
    {
     "data": {
      "application/vnd.jupyter.widget-view+json": {
       "model_id": "e9589e45e5734b24be7e96b30334ac1a",
       "version_major": 2,
       "version_minor": 0
      },
      "text/plain": [
       "  0%|          | 0/4000 [00:00<?, ?it/s]"
      ]
     },
     "metadata": {},
     "output_type": "display_data"
    },
    {
     "data": {
      "application/vnd.jupyter.widget-view+json": {
       "model_id": "fe0823ddb6174b75a166fe3c5409144a",
       "version_major": 2,
       "version_minor": 0
      },
      "text/plain": [
       "  0%|          | 0/4000 [00:00<?, ?it/s]"
      ]
     },
     "metadata": {},
     "output_type": "display_data"
    },
    {
     "data": {
      "application/vnd.jupyter.widget-view+json": {
       "model_id": "7390102764df4d318f1154bd8e324655",
       "version_major": 2,
       "version_minor": 0
      },
      "text/plain": [
       "  0%|          | 0/4000 [00:00<?, ?it/s]"
      ]
     },
     "metadata": {},
     "output_type": "display_data"
    },
    {
     "data": {
      "application/vnd.jupyter.widget-view+json": {
       "model_id": "0133fd57d82742f7bf58a186a5ac2e91",
       "version_major": 2,
       "version_minor": 0
      },
      "text/plain": [
       "  0%|          | 0/4000 [00:00<?, ?it/s]"
      ]
     },
     "metadata": {},
     "output_type": "display_data"
    },
    {
     "data": {
      "application/vnd.jupyter.widget-view+json": {
       "model_id": "d3b40418551748eb89c6545a2051ffcf",
       "version_major": 2,
       "version_minor": 0
      },
      "text/plain": [
       "  0%|          | 0/4000 [00:00<?, ?it/s]"
      ]
     },
     "metadata": {},
     "output_type": "display_data"
    },
    {
     "data": {
      "application/vnd.jupyter.widget-view+json": {
       "model_id": "11d23b55653f4ec388007310fe7ccb77",
       "version_major": 2,
       "version_minor": 0
      },
      "text/plain": [
       "  0%|          | 0/4000 [00:00<?, ?it/s]"
      ]
     },
     "metadata": {},
     "output_type": "display_data"
    },
    {
     "data": {
      "application/vnd.jupyter.widget-view+json": {
       "model_id": "172fb09e747a4f2eab4d5e55abf7f83b",
       "version_major": 2,
       "version_minor": 0
      },
      "text/plain": [
       "  0%|          | 0/4000 [00:00<?, ?it/s]"
      ]
     },
     "metadata": {},
     "output_type": "display_data"
    },
    {
     "data": {
      "application/vnd.jupyter.widget-view+json": {
       "model_id": "39e05bd46e9c447598274a9a033bd2b6",
       "version_major": 2,
       "version_minor": 0
      },
      "text/plain": [
       "  0%|          | 0/4000 [00:00<?, ?it/s]"
      ]
     },
     "metadata": {},
     "output_type": "display_data"
    },
    {
     "data": {
      "application/vnd.jupyter.widget-view+json": {
       "model_id": "f68425cf7e7d437185576f9083ebea40",
       "version_major": 2,
       "version_minor": 0
      },
      "text/plain": [
       "  0%|          | 0/4000 [00:00<?, ?it/s]"
      ]
     },
     "metadata": {},
     "output_type": "display_data"
    },
    {
     "data": {
      "application/vnd.jupyter.widget-view+json": {
       "model_id": "44f998789d9f464b9684635ea214b3b7",
       "version_major": 2,
       "version_minor": 0
      },
      "text/plain": [
       "  0%|          | 0/4000 [00:00<?, ?it/s]"
      ]
     },
     "metadata": {},
     "output_type": "display_data"
    },
    {
     "data": {
      "application/vnd.jupyter.widget-view+json": {
       "model_id": "6c73bbcb846a40b9ad49c0e25fe1b077",
       "version_major": 2,
       "version_minor": 0
      },
      "text/plain": [
       "  0%|          | 0/4000 [00:00<?, ?it/s]"
      ]
     },
     "metadata": {},
     "output_type": "display_data"
    },
    {
     "data": {
      "application/vnd.jupyter.widget-view+json": {
       "model_id": "5b607eb82a5d4d55b1a492c0cc650723",
       "version_major": 2,
       "version_minor": 0
      },
      "text/plain": [
       "  0%|          | 0/4000 [00:00<?, ?it/s]"
      ]
     },
     "metadata": {},
     "output_type": "display_data"
    },
    {
     "data": {
      "application/vnd.jupyter.widget-view+json": {
       "model_id": "1147daeb4a1d480faa1d8a348eb0528b",
       "version_major": 2,
       "version_minor": 0
      },
      "text/plain": [
       "  0%|          | 0/4000 [00:00<?, ?it/s]"
      ]
     },
     "metadata": {},
     "output_type": "display_data"
    },
    {
     "data": {
      "application/vnd.jupyter.widget-view+json": {
       "model_id": "d35f9e23b24d4837aca00bb03c5a9f1c",
       "version_major": 2,
       "version_minor": 0
      },
      "text/plain": [
       "  0%|          | 0/4000 [00:00<?, ?it/s]"
      ]
     },
     "metadata": {},
     "output_type": "display_data"
    },
    {
     "data": {
      "application/vnd.jupyter.widget-view+json": {
       "model_id": "39e29868ffcd407e9cbc8cf0389df3b1",
       "version_major": 2,
       "version_minor": 0
      },
      "text/plain": [
       "  0%|          | 0/4000 [00:00<?, ?it/s]"
      ]
     },
     "metadata": {},
     "output_type": "display_data"
    },
    {
     "data": {
      "application/vnd.jupyter.widget-view+json": {
       "model_id": "55846517874249c686ae512869abdae0",
       "version_major": 2,
       "version_minor": 0
      },
      "text/plain": [
       "  0%|          | 0/4000 [00:00<?, ?it/s]"
      ]
     },
     "metadata": {},
     "output_type": "display_data"
    },
    {
     "data": {
      "application/vnd.jupyter.widget-view+json": {
       "model_id": "81a36800fe7a4577ae17910d3d73a28f",
       "version_major": 2,
       "version_minor": 0
      },
      "text/plain": [
       "  0%|          | 0/4000 [00:00<?, ?it/s]"
      ]
     },
     "metadata": {},
     "output_type": "display_data"
    },
    {
     "data": {
      "application/vnd.jupyter.widget-view+json": {
       "model_id": "dcff51fa68af427eafc232d10a716143",
       "version_major": 2,
       "version_minor": 0
      },
      "text/plain": [
       "  0%|          | 0/4000 [00:00<?, ?it/s]"
      ]
     },
     "metadata": {},
     "output_type": "display_data"
    },
    {
     "data": {
      "application/vnd.jupyter.widget-view+json": {
       "model_id": "8131c3879d054c7a8861f57ad5f1191b",
       "version_major": 2,
       "version_minor": 0
      },
      "text/plain": [
       "  0%|          | 0/4000 [00:00<?, ?it/s]"
      ]
     },
     "metadata": {},
     "output_type": "display_data"
    },
    {
     "data": {
      "application/vnd.jupyter.widget-view+json": {
       "model_id": "26cf51e1eb4743069951dd4abbceb651",
       "version_major": 2,
       "version_minor": 0
      },
      "text/plain": [
       "  0%|          | 0/4000 [00:00<?, ?it/s]"
      ]
     },
     "metadata": {},
     "output_type": "display_data"
    },
    {
     "data": {
      "application/vnd.jupyter.widget-view+json": {
       "model_id": "3dd8f9bc950441f0b5211d71093ccd62",
       "version_major": 2,
       "version_minor": 0
      },
      "text/plain": [
       "  0%|          | 0/4000 [00:00<?, ?it/s]"
      ]
     },
     "metadata": {},
     "output_type": "display_data"
    },
    {
     "data": {
      "application/vnd.jupyter.widget-view+json": {
       "model_id": "c78050bf9d804a59baa5482c7269875e",
       "version_major": 2,
       "version_minor": 0
      },
      "text/plain": [
       "  0%|          | 0/4000 [00:00<?, ?it/s]"
      ]
     },
     "metadata": {},
     "output_type": "display_data"
    },
    {
     "data": {
      "application/vnd.jupyter.widget-view+json": {
       "model_id": "b2ce78b0d1ae4a4cb8387b32ca5f8d63",
       "version_major": 2,
       "version_minor": 0
      },
      "text/plain": [
       "  0%|          | 0/4000 [00:00<?, ?it/s]"
      ]
     },
     "metadata": {},
     "output_type": "display_data"
    },
    {
     "data": {
      "application/vnd.jupyter.widget-view+json": {
       "model_id": "5ddd0d7c4a324f338acfae43ce6e6d68",
       "version_major": 2,
       "version_minor": 0
      },
      "text/plain": [
       "  0%|          | 0/4000 [00:00<?, ?it/s]"
      ]
     },
     "metadata": {},
     "output_type": "display_data"
    },
    {
     "data": {
      "application/vnd.jupyter.widget-view+json": {
       "model_id": "3c1dd3525507453788b50062a7bcf056",
       "version_major": 2,
       "version_minor": 0
      },
      "text/plain": [
       "  0%|          | 0/4000 [00:00<?, ?it/s]"
      ]
     },
     "metadata": {},
     "output_type": "display_data"
    },
    {
     "data": {
      "application/vnd.jupyter.widget-view+json": {
       "model_id": "77dc01672dfe41ed9107540c32cf25f0",
       "version_major": 2,
       "version_minor": 0
      },
      "text/plain": [
       "  0%|          | 0/4000 [00:00<?, ?it/s]"
      ]
     },
     "metadata": {},
     "output_type": "display_data"
    },
    {
     "data": {
      "application/vnd.jupyter.widget-view+json": {
       "model_id": "becbb9021b3e4d9ea4e76e9b4740b57f",
       "version_major": 2,
       "version_minor": 0
      },
      "text/plain": [
       "  0%|          | 0/4000 [00:00<?, ?it/s]"
      ]
     },
     "metadata": {},
     "output_type": "display_data"
    },
    {
     "data": {
      "application/vnd.jupyter.widget-view+json": {
       "model_id": "c0e838795b6a4f6eb456428090829035",
       "version_major": 2,
       "version_minor": 0
      },
      "text/plain": [
       "  0%|          | 0/4000 [00:00<?, ?it/s]"
      ]
     },
     "metadata": {},
     "output_type": "display_data"
    },
    {
     "data": {
      "application/vnd.jupyter.widget-view+json": {
       "model_id": "c902d8bee06e4a048a737cde51ae8822",
       "version_major": 2,
       "version_minor": 0
      },
      "text/plain": [
       "  0%|          | 0/4000 [00:00<?, ?it/s]"
      ]
     },
     "metadata": {},
     "output_type": "display_data"
    },
    {
     "data": {
      "application/vnd.jupyter.widget-view+json": {
       "model_id": "0abc58dd2fd14015a1196b1665a66b76",
       "version_major": 2,
       "version_minor": 0
      },
      "text/plain": [
       "  0%|          | 0/4000 [00:00<?, ?it/s]"
      ]
     },
     "metadata": {},
     "output_type": "display_data"
    },
    {
     "data": {
      "application/vnd.jupyter.widget-view+json": {
       "model_id": "75b35c2602d04855aa899c5cbf5fb1a5",
       "version_major": 2,
       "version_minor": 0
      },
      "text/plain": [
       "  0%|          | 0/4000 [00:00<?, ?it/s]"
      ]
     },
     "metadata": {},
     "output_type": "display_data"
    },
    {
     "data": {
      "application/vnd.jupyter.widget-view+json": {
       "model_id": "90c1d9d4552847ffb813bbd7fcdfe6bd",
       "version_major": 2,
       "version_minor": 0
      },
      "text/plain": [
       "  0%|          | 0/4000 [00:00<?, ?it/s]"
      ]
     },
     "metadata": {},
     "output_type": "display_data"
    },
    {
     "data": {
      "application/vnd.jupyter.widget-view+json": {
       "model_id": "4deb01cabf744b8fb8e23a88392cfdec",
       "version_major": 2,
       "version_minor": 0
      },
      "text/plain": [
       "  0%|          | 0/4000 [00:00<?, ?it/s]"
      ]
     },
     "metadata": {},
     "output_type": "display_data"
    },
    {
     "data": {
      "application/vnd.jupyter.widget-view+json": {
       "model_id": "34478d4e028647048e2f15a386160043",
       "version_major": 2,
       "version_minor": 0
      },
      "text/plain": [
       "  0%|          | 0/4000 [00:00<?, ?it/s]"
      ]
     },
     "metadata": {},
     "output_type": "display_data"
    },
    {
     "data": {
      "application/vnd.jupyter.widget-view+json": {
       "model_id": "44eea6c51feb4c208fec8ff6fd1485ed",
       "version_major": 2,
       "version_minor": 0
      },
      "text/plain": [
       "  0%|          | 0/4000 [00:00<?, ?it/s]"
      ]
     },
     "metadata": {},
     "output_type": "display_data"
    },
    {
     "data": {
      "application/vnd.jupyter.widget-view+json": {
       "model_id": "1ac04de8704d4f3e8dd99d9209d28c95",
       "version_major": 2,
       "version_minor": 0
      },
      "text/plain": [
       "  0%|          | 0/4000 [00:00<?, ?it/s]"
      ]
     },
     "metadata": {},
     "output_type": "display_data"
    },
    {
     "data": {
      "application/vnd.jupyter.widget-view+json": {
       "model_id": "063c8f32f7304c6dbd8adfc49a94009f",
       "version_major": 2,
       "version_minor": 0
      },
      "text/plain": [
       "  0%|          | 0/4000 [00:00<?, ?it/s]"
      ]
     },
     "metadata": {},
     "output_type": "display_data"
    },
    {
     "data": {
      "application/vnd.jupyter.widget-view+json": {
       "model_id": "c7db35688ddc47538d058fb4829600aa",
       "version_major": 2,
       "version_minor": 0
      },
      "text/plain": [
       "  0%|          | 0/4000 [00:00<?, ?it/s]"
      ]
     },
     "metadata": {},
     "output_type": "display_data"
    },
    {
     "data": {
      "application/vnd.jupyter.widget-view+json": {
       "model_id": "c1810706a5554fd886a11c805ccc05dc",
       "version_major": 2,
       "version_minor": 0
      },
      "text/plain": [
       "  0%|          | 0/4000 [00:00<?, ?it/s]"
      ]
     },
     "metadata": {},
     "output_type": "display_data"
    },
    {
     "data": {
      "application/vnd.jupyter.widget-view+json": {
       "model_id": "24ec073f1a8e402998b9b2333e3206e7",
       "version_major": 2,
       "version_minor": 0
      },
      "text/plain": [
       "  0%|          | 0/4000 [00:00<?, ?it/s]"
      ]
     },
     "metadata": {},
     "output_type": "display_data"
    },
    {
     "data": {
      "application/vnd.jupyter.widget-view+json": {
       "model_id": "58c3a5d7a7974fff9cdc12e19ddc98b8",
       "version_major": 2,
       "version_minor": 0
      },
      "text/plain": [
       "  0%|          | 0/4000 [00:00<?, ?it/s]"
      ]
     },
     "metadata": {},
     "output_type": "display_data"
    },
    {
     "data": {
      "application/vnd.jupyter.widget-view+json": {
       "model_id": "f032cc95cfaf498487d2a6c3f5c6ece1",
       "version_major": 2,
       "version_minor": 0
      },
      "text/plain": [
       "  0%|          | 0/4000 [00:00<?, ?it/s]"
      ]
     },
     "metadata": {},
     "output_type": "display_data"
    },
    {
     "data": {
      "application/vnd.jupyter.widget-view+json": {
       "model_id": "a393b424e5814feb9eb79ebfeb263864",
       "version_major": 2,
       "version_minor": 0
      },
      "text/plain": [
       "  0%|          | 0/4000 [00:00<?, ?it/s]"
      ]
     },
     "metadata": {},
     "output_type": "display_data"
    },
    {
     "data": {
      "application/vnd.jupyter.widget-view+json": {
       "model_id": "1fa4d0d9e83a4b96ac2bdebf2b6584eb",
       "version_major": 2,
       "version_minor": 0
      },
      "text/plain": [
       "  0%|          | 0/4000 [00:00<?, ?it/s]"
      ]
     },
     "metadata": {},
     "output_type": "display_data"
    },
    {
     "data": {
      "application/vnd.jupyter.widget-view+json": {
       "model_id": "3decc92cd519432c8e22a34d3b557660",
       "version_major": 2,
       "version_minor": 0
      },
      "text/plain": [
       "  0%|          | 0/4000 [00:00<?, ?it/s]"
      ]
     },
     "metadata": {},
     "output_type": "display_data"
    },
    {
     "data": {
      "application/vnd.jupyter.widget-view+json": {
       "model_id": "0f074dfade0841a9b7f9b630f08bd9e6",
       "version_major": 2,
       "version_minor": 0
      },
      "text/plain": [
       "  0%|          | 0/4000 [00:00<?, ?it/s]"
      ]
     },
     "metadata": {},
     "output_type": "display_data"
    },
    {
     "data": {
      "application/vnd.jupyter.widget-view+json": {
       "model_id": "0e4eb988998348d8a7ca03ae3301e4a9",
       "version_major": 2,
       "version_minor": 0
      },
      "text/plain": [
       "  0%|          | 0/4000 [00:00<?, ?it/s]"
      ]
     },
     "metadata": {},
     "output_type": "display_data"
    },
    {
     "data": {
      "application/vnd.jupyter.widget-view+json": {
       "model_id": "2dc4bc20445e46fc9f1e0c0e41d558ed",
       "version_major": 2,
       "version_minor": 0
      },
      "text/plain": [
       "  0%|          | 0/4000 [00:00<?, ?it/s]"
      ]
     },
     "metadata": {},
     "output_type": "display_data"
    },
    {
     "data": {
      "application/vnd.jupyter.widget-view+json": {
       "model_id": "54a8409d2a864089aa82d97464776364",
       "version_major": 2,
       "version_minor": 0
      },
      "text/plain": [
       "  0%|          | 0/4000 [00:00<?, ?it/s]"
      ]
     },
     "metadata": {},
     "output_type": "display_data"
    },
    {
     "data": {
      "application/vnd.jupyter.widget-view+json": {
       "model_id": "2819179053f1465b98f7babd1763e4c2",
       "version_major": 2,
       "version_minor": 0
      },
      "text/plain": [
       "  0%|          | 0/4000 [00:00<?, ?it/s]"
      ]
     },
     "metadata": {},
     "output_type": "display_data"
    },
    {
     "data": {
      "application/vnd.jupyter.widget-view+json": {
       "model_id": "d232282310f14f1e8a04ad7f4755e2e4",
       "version_major": 2,
       "version_minor": 0
      },
      "text/plain": [
       "  0%|          | 0/4000 [00:00<?, ?it/s]"
      ]
     },
     "metadata": {},
     "output_type": "display_data"
    },
    {
     "data": {
      "application/vnd.jupyter.widget-view+json": {
       "model_id": "fa9a53b5378d4708b0cfce19d91eed6c",
       "version_major": 2,
       "version_minor": 0
      },
      "text/plain": [
       "  0%|          | 0/4000 [00:00<?, ?it/s]"
      ]
     },
     "metadata": {},
     "output_type": "display_data"
    },
    {
     "data": {
      "application/vnd.jupyter.widget-view+json": {
       "model_id": "af12d0a530df48d0a6ed2f92f3352a74",
       "version_major": 2,
       "version_minor": 0
      },
      "text/plain": [
       "  0%|          | 0/4000 [00:00<?, ?it/s]"
      ]
     },
     "metadata": {},
     "output_type": "display_data"
    },
    {
     "data": {
      "application/vnd.jupyter.widget-view+json": {
       "model_id": "434bd03f6ff4422cb3db29d5171790ed",
       "version_major": 2,
       "version_minor": 0
      },
      "text/plain": [
       "  0%|          | 0/4000 [00:00<?, ?it/s]"
      ]
     },
     "metadata": {},
     "output_type": "display_data"
    },
    {
     "data": {
      "application/vnd.jupyter.widget-view+json": {
       "model_id": "05b6e897230749b38263aca5415bd7c1",
       "version_major": 2,
       "version_minor": 0
      },
      "text/plain": [
       "  0%|          | 0/4000 [00:00<?, ?it/s]"
      ]
     },
     "metadata": {},
     "output_type": "display_data"
    },
    {
     "data": {
      "application/vnd.jupyter.widget-view+json": {
       "model_id": "8d85c43fc04248ce954b2e617bfdb990",
       "version_major": 2,
       "version_minor": 0
      },
      "text/plain": [
       "  0%|          | 0/4000 [00:00<?, ?it/s]"
      ]
     },
     "metadata": {},
     "output_type": "display_data"
    },
    {
     "data": {
      "application/vnd.jupyter.widget-view+json": {
       "model_id": "9a861cc6e03b4c11b527ac333981fa80",
       "version_major": 2,
       "version_minor": 0
      },
      "text/plain": [
       "  0%|          | 0/4000 [00:00<?, ?it/s]"
      ]
     },
     "metadata": {},
     "output_type": "display_data"
    },
    {
     "data": {
      "application/vnd.jupyter.widget-view+json": {
       "model_id": "9fa54fee60194730852fc496fac8c9f3",
       "version_major": 2,
       "version_minor": 0
      },
      "text/plain": [
       "  0%|          | 0/4000 [00:00<?, ?it/s]"
      ]
     },
     "metadata": {},
     "output_type": "display_data"
    },
    {
     "data": {
      "application/vnd.jupyter.widget-view+json": {
       "model_id": "1600ebab9ebf4081949ebea46c49189c",
       "version_major": 2,
       "version_minor": 0
      },
      "text/plain": [
       "  0%|          | 0/4000 [00:00<?, ?it/s]"
      ]
     },
     "metadata": {},
     "output_type": "display_data"
    },
    {
     "data": {
      "application/vnd.jupyter.widget-view+json": {
       "model_id": "cd4d8975eef54c26958cfd0c3a9ed4be",
       "version_major": 2,
       "version_minor": 0
      },
      "text/plain": [
       "  0%|          | 0/4000 [00:00<?, ?it/s]"
      ]
     },
     "metadata": {},
     "output_type": "display_data"
    },
    {
     "data": {
      "application/vnd.jupyter.widget-view+json": {
       "model_id": "4d4c21d87cb048a9a57ba5375fb32fcd",
       "version_major": 2,
       "version_minor": 0
      },
      "text/plain": [
       "  0%|          | 0/4000 [00:00<?, ?it/s]"
      ]
     },
     "metadata": {},
     "output_type": "display_data"
    },
    {
     "data": {
      "application/vnd.jupyter.widget-view+json": {
       "model_id": "30505af2d7b24b4eaca4f2f23fb8f3e5",
       "version_major": 2,
       "version_minor": 0
      },
      "text/plain": [
       "  0%|          | 0/4000 [00:00<?, ?it/s]"
      ]
     },
     "metadata": {},
     "output_type": "display_data"
    },
    {
     "data": {
      "application/vnd.jupyter.widget-view+json": {
       "model_id": "6f25313022c04e18b17818e91c2127e4",
       "version_major": 2,
       "version_minor": 0
      },
      "text/plain": [
       "  0%|          | 0/4000 [00:00<?, ?it/s]"
      ]
     },
     "metadata": {},
     "output_type": "display_data"
    },
    {
     "data": {
      "application/vnd.jupyter.widget-view+json": {
       "model_id": "36c8700cf96e4607a214d19981f0c349",
       "version_major": 2,
       "version_minor": 0
      },
      "text/plain": [
       "  0%|          | 0/4000 [00:00<?, ?it/s]"
      ]
     },
     "metadata": {},
     "output_type": "display_data"
    },
    {
     "data": {
      "application/vnd.jupyter.widget-view+json": {
       "model_id": "9bb2251df3c54aa3be23f7eaae1992cb",
       "version_major": 2,
       "version_minor": 0
      },
      "text/plain": [
       "  0%|          | 0/4000 [00:00<?, ?it/s]"
      ]
     },
     "metadata": {},
     "output_type": "display_data"
    },
    {
     "data": {
      "application/vnd.jupyter.widget-view+json": {
       "model_id": "a49363f0e8944152bf617ea6d8985993",
       "version_major": 2,
       "version_minor": 0
      },
      "text/plain": [
       "  0%|          | 0/4000 [00:00<?, ?it/s]"
      ]
     },
     "metadata": {},
     "output_type": "display_data"
    },
    {
     "data": {
      "application/vnd.jupyter.widget-view+json": {
       "model_id": "a3964f48dc9b4871b9a579cd31a7e394",
       "version_major": 2,
       "version_minor": 0
      },
      "text/plain": [
       "  0%|          | 0/4000 [00:00<?, ?it/s]"
      ]
     },
     "metadata": {},
     "output_type": "display_data"
    },
    {
     "data": {
      "application/vnd.jupyter.widget-view+json": {
       "model_id": "3a9eaec7014e4c669b8346dd2b89d727",
       "version_major": 2,
       "version_minor": 0
      },
      "text/plain": [
       "  0%|          | 0/4000 [00:00<?, ?it/s]"
      ]
     },
     "metadata": {},
     "output_type": "display_data"
    },
    {
     "data": {
      "application/vnd.jupyter.widget-view+json": {
       "model_id": "3eb6cac596594fc6bb6be83056efc000",
       "version_major": 2,
       "version_minor": 0
      },
      "text/plain": [
       "  0%|          | 0/4000 [00:00<?, ?it/s]"
      ]
     },
     "metadata": {},
     "output_type": "display_data"
    },
    {
     "data": {
      "application/vnd.jupyter.widget-view+json": {
       "model_id": "a2eb05dca1c74378820e0e2457ba006a",
       "version_major": 2,
       "version_minor": 0
      },
      "text/plain": [
       "  0%|          | 0/4000 [00:00<?, ?it/s]"
      ]
     },
     "metadata": {},
     "output_type": "display_data"
    },
    {
     "data": {
      "application/vnd.jupyter.widget-view+json": {
       "model_id": "20a38f7ec4e64249930f3eeddcd2169c",
       "version_major": 2,
       "version_minor": 0
      },
      "text/plain": [
       "  0%|          | 0/4000 [00:00<?, ?it/s]"
      ]
     },
     "metadata": {},
     "output_type": "display_data"
    },
    {
     "data": {
      "application/vnd.jupyter.widget-view+json": {
       "model_id": "39217661404c4a7b98f6bad0c6f01ad0",
       "version_major": 2,
       "version_minor": 0
      },
      "text/plain": [
       "  0%|          | 0/4000 [00:00<?, ?it/s]"
      ]
     },
     "metadata": {},
     "output_type": "display_data"
    },
    {
     "data": {
      "application/vnd.jupyter.widget-view+json": {
       "model_id": "3b23c09577a74520a901f8fa814d9fa1",
       "version_major": 2,
       "version_minor": 0
      },
      "text/plain": [
       "  0%|          | 0/4000 [00:00<?, ?it/s]"
      ]
     },
     "metadata": {},
     "output_type": "display_data"
    },
    {
     "data": {
      "application/vnd.jupyter.widget-view+json": {
       "model_id": "5469cf924d0c4b509897ade28d140a88",
       "version_major": 2,
       "version_minor": 0
      },
      "text/plain": [
       "  0%|          | 0/4000 [00:00<?, ?it/s]"
      ]
     },
     "metadata": {},
     "output_type": "display_data"
    },
    {
     "data": {
      "application/vnd.jupyter.widget-view+json": {
       "model_id": "d9d80f4675184e2cb66e48f68cd0ed8f",
       "version_major": 2,
       "version_minor": 0
      },
      "text/plain": [
       "  0%|          | 0/4000 [00:00<?, ?it/s]"
      ]
     },
     "metadata": {},
     "output_type": "display_data"
    },
    {
     "data": {
      "application/vnd.jupyter.widget-view+json": {
       "model_id": "859a43d96199471d82374f5b90c97edc",
       "version_major": 2,
       "version_minor": 0
      },
      "text/plain": [
       "  0%|          | 0/4000 [00:00<?, ?it/s]"
      ]
     },
     "metadata": {},
     "output_type": "display_data"
    },
    {
     "data": {
      "application/vnd.jupyter.widget-view+json": {
       "model_id": "b411ede74e554d59b5edcd55a5441f8e",
       "version_major": 2,
       "version_minor": 0
      },
      "text/plain": [
       "  0%|          | 0/4000 [00:00<?, ?it/s]"
      ]
     },
     "metadata": {},
     "output_type": "display_data"
    },
    {
     "data": {
      "application/vnd.jupyter.widget-view+json": {
       "model_id": "150b8dcd3e994d949a4a246a8948c04d",
       "version_major": 2,
       "version_minor": 0
      },
      "text/plain": [
       "  0%|          | 0/4000 [00:00<?, ?it/s]"
      ]
     },
     "metadata": {},
     "output_type": "display_data"
    },
    {
     "data": {
      "application/vnd.jupyter.widget-view+json": {
       "model_id": "18e47032e23c46bf946368b6fc792423",
       "version_major": 2,
       "version_minor": 0
      },
      "text/plain": [
       "  0%|          | 0/4000 [00:00<?, ?it/s]"
      ]
     },
     "metadata": {},
     "output_type": "display_data"
    },
    {
     "data": {
      "application/vnd.jupyter.widget-view+json": {
       "model_id": "c5b2d114a8914aff8c27d8aa6d96094c",
       "version_major": 2,
       "version_minor": 0
      },
      "text/plain": [
       "  0%|          | 0/4000 [00:00<?, ?it/s]"
      ]
     },
     "metadata": {},
     "output_type": "display_data"
    },
    {
     "data": {
      "application/vnd.jupyter.widget-view+json": {
       "model_id": "009a0eec7d32405abe535e7c520347c4",
       "version_major": 2,
       "version_minor": 0
      },
      "text/plain": [
       "  0%|          | 0/4000 [00:00<?, ?it/s]"
      ]
     },
     "metadata": {},
     "output_type": "display_data"
    },
    {
     "data": {
      "application/vnd.jupyter.widget-view+json": {
       "model_id": "cd2ac1c4f9b7466d8d2deadbb54de21c",
       "version_major": 2,
       "version_minor": 0
      },
      "text/plain": [
       "  0%|          | 0/4000 [00:00<?, ?it/s]"
      ]
     },
     "metadata": {},
     "output_type": "display_data"
    },
    {
     "data": {
      "application/vnd.jupyter.widget-view+json": {
       "model_id": "d034583145044d7c93821ee15fa8fda4",
       "version_major": 2,
       "version_minor": 0
      },
      "text/plain": [
       "  0%|          | 0/4000 [00:00<?, ?it/s]"
      ]
     },
     "metadata": {},
     "output_type": "display_data"
    },
    {
     "data": {
      "application/vnd.jupyter.widget-view+json": {
       "model_id": "e8186bcd51254791a1a2150eacce8f5d",
       "version_major": 2,
       "version_minor": 0
      },
      "text/plain": [
       "  0%|          | 0/4000 [00:00<?, ?it/s]"
      ]
     },
     "metadata": {},
     "output_type": "display_data"
    },
    {
     "data": {
      "application/vnd.jupyter.widget-view+json": {
       "model_id": "0b613ac9086949f1bf41b281f124a8a1",
       "version_major": 2,
       "version_minor": 0
      },
      "text/plain": [
       "  0%|          | 0/4000 [00:00<?, ?it/s]"
      ]
     },
     "metadata": {},
     "output_type": "display_data"
    },
    {
     "data": {
      "application/vnd.jupyter.widget-view+json": {
       "model_id": "a6791fc670c843729d700032dc426547",
       "version_major": 2,
       "version_minor": 0
      },
      "text/plain": [
       "  0%|          | 0/4000 [00:00<?, ?it/s]"
      ]
     },
     "metadata": {},
     "output_type": "display_data"
    },
    {
     "data": {
      "application/vnd.jupyter.widget-view+json": {
       "model_id": "ca894d63cd034c88a9293846c925b199",
       "version_major": 2,
       "version_minor": 0
      },
      "text/plain": [
       "  0%|          | 0/4000 [00:00<?, ?it/s]"
      ]
     },
     "metadata": {},
     "output_type": "display_data"
    },
    {
     "data": {
      "application/vnd.jupyter.widget-view+json": {
       "model_id": "931644c2dcd04dec993b9dc51be6c3f8",
       "version_major": 2,
       "version_minor": 0
      },
      "text/plain": [
       "  0%|          | 0/4000 [00:00<?, ?it/s]"
      ]
     },
     "metadata": {},
     "output_type": "display_data"
    },
    {
     "data": {
      "application/vnd.jupyter.widget-view+json": {
       "model_id": "d6c54978e682432aaec3ed5029306134",
       "version_major": 2,
       "version_minor": 0
      },
      "text/plain": [
       "  0%|          | 0/4000 [00:00<?, ?it/s]"
      ]
     },
     "metadata": {},
     "output_type": "display_data"
    },
    {
     "data": {
      "application/vnd.jupyter.widget-view+json": {
       "model_id": "3803cff8ad0a4e028f6e4cc70baea555",
       "version_major": 2,
       "version_minor": 0
      },
      "text/plain": [
       "  0%|          | 0/4000 [00:00<?, ?it/s]"
      ]
     },
     "metadata": {},
     "output_type": "display_data"
    },
    {
     "data": {
      "application/vnd.jupyter.widget-view+json": {
       "model_id": "85d8385f6c124c46ae632cf4e6f1440f",
       "version_major": 2,
       "version_minor": 0
      },
      "text/plain": [
       "  0%|          | 0/4000 [00:00<?, ?it/s]"
      ]
     },
     "metadata": {},
     "output_type": "display_data"
    },
    {
     "data": {
      "application/vnd.jupyter.widget-view+json": {
       "model_id": "a306aa23c8904afab3517d94e0ecea8b",
       "version_major": 2,
       "version_minor": 0
      },
      "text/plain": [
       "  0%|          | 0/4000 [00:00<?, ?it/s]"
      ]
     },
     "metadata": {},
     "output_type": "display_data"
    },
    {
     "data": {
      "application/vnd.jupyter.widget-view+json": {
       "model_id": "901dd3f6bfff4d709a036c237d4438b8",
       "version_major": 2,
       "version_minor": 0
      },
      "text/plain": [
       "  0%|          | 0/4000 [00:00<?, ?it/s]"
      ]
     },
     "metadata": {},
     "output_type": "display_data"
    },
    {
     "data": {
      "application/vnd.jupyter.widget-view+json": {
       "model_id": "99870ec8786c4f35babeccda3645729a",
       "version_major": 2,
       "version_minor": 0
      },
      "text/plain": [
       "  0%|          | 0/4000 [00:00<?, ?it/s]"
      ]
     },
     "metadata": {},
     "output_type": "display_data"
    },
    {
     "data": {
      "application/vnd.jupyter.widget-view+json": {
       "model_id": "4393959739904dc39a91b57b60bddd5e",
       "version_major": 2,
       "version_minor": 0
      },
      "text/plain": [
       "  0%|          | 0/4000 [00:00<?, ?it/s]"
      ]
     },
     "metadata": {},
     "output_type": "display_data"
    },
    {
     "data": {
      "application/vnd.jupyter.widget-view+json": {
       "model_id": "cc509deb7459419b99ca4c1c57bae95b",
       "version_major": 2,
       "version_minor": 0
      },
      "text/plain": [
       "  0%|          | 0/4000 [00:00<?, ?it/s]"
      ]
     },
     "metadata": {},
     "output_type": "display_data"
    },
    {
     "data": {
      "application/vnd.jupyter.widget-view+json": {
       "model_id": "9986cf90bd834a0dbb354aa5df29c9e6",
       "version_major": 2,
       "version_minor": 0
      },
      "text/plain": [
       "  0%|          | 0/4000 [00:00<?, ?it/s]"
      ]
     },
     "metadata": {},
     "output_type": "display_data"
    },
    {
     "data": {
      "application/vnd.jupyter.widget-view+json": {
       "model_id": "296b47de583947ccae08bb1d69aabb1c",
       "version_major": 2,
       "version_minor": 0
      },
      "text/plain": [
       "  0%|          | 0/4000 [00:00<?, ?it/s]"
      ]
     },
     "metadata": {},
     "output_type": "display_data"
    },
    {
     "data": {
      "application/vnd.jupyter.widget-view+json": {
       "model_id": "9072cc400a8b49a2b11435158d9a260b",
       "version_major": 2,
       "version_minor": 0
      },
      "text/plain": [
       "  0%|          | 0/4000 [00:00<?, ?it/s]"
      ]
     },
     "metadata": {},
     "output_type": "display_data"
    },
    {
     "data": {
      "application/vnd.jupyter.widget-view+json": {
       "model_id": "76f7e5591dd54e319d59d6e11eb0bcc1",
       "version_major": 2,
       "version_minor": 0
      },
      "text/plain": [
       "  0%|          | 0/4000 [00:00<?, ?it/s]"
      ]
     },
     "metadata": {},
     "output_type": "display_data"
    },
    {
     "data": {
      "application/vnd.jupyter.widget-view+json": {
       "model_id": "75abb39a3b4a40a88335a37076de3d65",
       "version_major": 2,
       "version_minor": 0
      },
      "text/plain": [
       "  0%|          | 0/4000 [00:00<?, ?it/s]"
      ]
     },
     "metadata": {},
     "output_type": "display_data"
    },
    {
     "data": {
      "application/vnd.jupyter.widget-view+json": {
       "model_id": "b43cbd7335f44496845b3fb807c219d5",
       "version_major": 2,
       "version_minor": 0
      },
      "text/plain": [
       "  0%|          | 0/4000 [00:00<?, ?it/s]"
      ]
     },
     "metadata": {},
     "output_type": "display_data"
    },
    {
     "data": {
      "application/vnd.jupyter.widget-view+json": {
       "model_id": "cd40c29c106c402e8f557f48799d7139",
       "version_major": 2,
       "version_minor": 0
      },
      "text/plain": [
       "  0%|          | 0/4000 [00:00<?, ?it/s]"
      ]
     },
     "metadata": {},
     "output_type": "display_data"
    },
    {
     "data": {
      "application/vnd.jupyter.widget-view+json": {
       "model_id": "943b75cf944f44309c43bb7b385406fc",
       "version_major": 2,
       "version_minor": 0
      },
      "text/plain": [
       "  0%|          | 0/4000 [00:00<?, ?it/s]"
      ]
     },
     "metadata": {},
     "output_type": "display_data"
    },
    {
     "data": {
      "application/vnd.jupyter.widget-view+json": {
       "model_id": "931fbe66bf014ff683a8d754092c1805",
       "version_major": 2,
       "version_minor": 0
      },
      "text/plain": [
       "  0%|          | 0/4000 [00:00<?, ?it/s]"
      ]
     },
     "metadata": {},
     "output_type": "display_data"
    },
    {
     "data": {
      "application/vnd.jupyter.widget-view+json": {
       "model_id": "d72f45838d6a474fb63505980ace97b6",
       "version_major": 2,
       "version_minor": 0
      },
      "text/plain": [
       "  0%|          | 0/4000 [00:00<?, ?it/s]"
      ]
     },
     "metadata": {},
     "output_type": "display_data"
    },
    {
     "data": {
      "application/vnd.jupyter.widget-view+json": {
       "model_id": "c5c76d9f792844218f88634ab4add2c0",
       "version_major": 2,
       "version_minor": 0
      },
      "text/plain": [
       "  0%|          | 0/4000 [00:00<?, ?it/s]"
      ]
     },
     "metadata": {},
     "output_type": "display_data"
    },
    {
     "data": {
      "application/vnd.jupyter.widget-view+json": {
       "model_id": "7322c342b55642e395a891d642c63946",
       "version_major": 2,
       "version_minor": 0
      },
      "text/plain": [
       "  0%|          | 0/4000 [00:00<?, ?it/s]"
      ]
     },
     "metadata": {},
     "output_type": "display_data"
    },
    {
     "data": {
      "application/vnd.jupyter.widget-view+json": {
       "model_id": "77294fb2a66849a2ae05de1599ca3651",
       "version_major": 2,
       "version_minor": 0
      },
      "text/plain": [
       "  0%|          | 0/4000 [00:00<?, ?it/s]"
      ]
     },
     "metadata": {},
     "output_type": "display_data"
    },
    {
     "data": {
      "application/vnd.jupyter.widget-view+json": {
       "model_id": "25d611e42d48448f8c100e1510f4e393",
       "version_major": 2,
       "version_minor": 0
      },
      "text/plain": [
       "  0%|          | 0/4000 [00:00<?, ?it/s]"
      ]
     },
     "metadata": {},
     "output_type": "display_data"
    },
    {
     "data": {
      "application/vnd.jupyter.widget-view+json": {
       "model_id": "7c8c55b4478642dda02f27f27fa4619e",
       "version_major": 2,
       "version_minor": 0
      },
      "text/plain": [
       "  0%|          | 0/4000 [00:00<?, ?it/s]"
      ]
     },
     "metadata": {},
     "output_type": "display_data"
    },
    {
     "data": {
      "application/vnd.jupyter.widget-view+json": {
       "model_id": "cdf1ab6aa51242608170c4ee6815769e",
       "version_major": 2,
       "version_minor": 0
      },
      "text/plain": [
       "  0%|          | 0/4000 [00:00<?, ?it/s]"
      ]
     },
     "metadata": {},
     "output_type": "display_data"
    },
    {
     "data": {
      "application/vnd.jupyter.widget-view+json": {
       "model_id": "da02d2625a1a497c9610d2f35ceea634",
       "version_major": 2,
       "version_minor": 0
      },
      "text/plain": [
       "  0%|          | 0/4000 [00:00<?, ?it/s]"
      ]
     },
     "metadata": {},
     "output_type": "display_data"
    },
    {
     "data": {
      "application/vnd.jupyter.widget-view+json": {
       "model_id": "e306fbe3e6bf4f34a28af67f504c44c4",
       "version_major": 2,
       "version_minor": 0
      },
      "text/plain": [
       "  0%|          | 0/4000 [00:00<?, ?it/s]"
      ]
     },
     "metadata": {},
     "output_type": "display_data"
    },
    {
     "data": {
      "application/vnd.jupyter.widget-view+json": {
       "model_id": "625f028d4f694103918b742ff89c035d",
       "version_major": 2,
       "version_minor": 0
      },
      "text/plain": [
       "  0%|          | 0/4000 [00:00<?, ?it/s]"
      ]
     },
     "metadata": {},
     "output_type": "display_data"
    },
    {
     "data": {
      "application/vnd.jupyter.widget-view+json": {
       "model_id": "a5a278649636486497415b3a3c3143d8",
       "version_major": 2,
       "version_minor": 0
      },
      "text/plain": [
       "  0%|          | 0/4000 [00:00<?, ?it/s]"
      ]
     },
     "metadata": {},
     "output_type": "display_data"
    },
    {
     "data": {
      "application/vnd.jupyter.widget-view+json": {
       "model_id": "44e10527051645a4aeda3c2317d5e43b",
       "version_major": 2,
       "version_minor": 0
      },
      "text/plain": [
       "  0%|          | 0/4000 [00:00<?, ?it/s]"
      ]
     },
     "metadata": {},
     "output_type": "display_data"
    },
    {
     "data": {
      "application/vnd.jupyter.widget-view+json": {
       "model_id": "c13fa35a2bca4390842733fd1085eb01",
       "version_major": 2,
       "version_minor": 0
      },
      "text/plain": [
       "  0%|          | 0/4000 [00:00<?, ?it/s]"
      ]
     },
     "metadata": {},
     "output_type": "display_data"
    },
    {
     "data": {
      "application/vnd.jupyter.widget-view+json": {
       "model_id": "8f9c049962b34ee4b5cf3d26e8cceda3",
       "version_major": 2,
       "version_minor": 0
      },
      "text/plain": [
       "  0%|          | 0/4000 [00:00<?, ?it/s]"
      ]
     },
     "metadata": {},
     "output_type": "display_data"
    },
    {
     "data": {
      "application/vnd.jupyter.widget-view+json": {
       "model_id": "5dca3a1dd7ec459989ac48cae07347da",
       "version_major": 2,
       "version_minor": 0
      },
      "text/plain": [
       "  0%|          | 0/4000 [00:00<?, ?it/s]"
      ]
     },
     "metadata": {},
     "output_type": "display_data"
    },
    {
     "data": {
      "application/vnd.jupyter.widget-view+json": {
       "model_id": "753462bcaa3c46e59a0b11b68f815a8d",
       "version_major": 2,
       "version_minor": 0
      },
      "text/plain": [
       "  0%|          | 0/4000 [00:00<?, ?it/s]"
      ]
     },
     "metadata": {},
     "output_type": "display_data"
    },
    {
     "data": {
      "application/vnd.jupyter.widget-view+json": {
       "model_id": "8561f5de7de04036856676c383992d19",
       "version_major": 2,
       "version_minor": 0
      },
      "text/plain": [
       "  0%|          | 0/4000 [00:00<?, ?it/s]"
      ]
     },
     "metadata": {},
     "output_type": "display_data"
    },
    {
     "data": {
      "application/vnd.jupyter.widget-view+json": {
       "model_id": "99a64e890eac4bf092c15d2795308c5b",
       "version_major": 2,
       "version_minor": 0
      },
      "text/plain": [
       "  0%|          | 0/4000 [00:00<?, ?it/s]"
      ]
     },
     "metadata": {},
     "output_type": "display_data"
    },
    {
     "data": {
      "application/vnd.jupyter.widget-view+json": {
       "model_id": "6014b43dc6ee45fbb8aadf0d845673ce",
       "version_major": 2,
       "version_minor": 0
      },
      "text/plain": [
       "  0%|          | 0/4000 [00:00<?, ?it/s]"
      ]
     },
     "metadata": {},
     "output_type": "display_data"
    },
    {
     "data": {
      "application/vnd.jupyter.widget-view+json": {
       "model_id": "4807a7b31f9841efa910fa7a1f4c137e",
       "version_major": 2,
       "version_minor": 0
      },
      "text/plain": [
       "  0%|          | 0/4000 [00:00<?, ?it/s]"
      ]
     },
     "metadata": {},
     "output_type": "display_data"
    },
    {
     "data": {
      "application/vnd.jupyter.widget-view+json": {
       "model_id": "141a81be2ca04bb083023c4003c60739",
       "version_major": 2,
       "version_minor": 0
      },
      "text/plain": [
       "  0%|          | 0/4000 [00:00<?, ?it/s]"
      ]
     },
     "metadata": {},
     "output_type": "display_data"
    },
    {
     "data": {
      "application/vnd.jupyter.widget-view+json": {
       "model_id": "09a610334eb64722913a78e64b50f977",
       "version_major": 2,
       "version_minor": 0
      },
      "text/plain": [
       "  0%|          | 0/4000 [00:00<?, ?it/s]"
      ]
     },
     "metadata": {},
     "output_type": "display_data"
    },
    {
     "data": {
      "application/vnd.jupyter.widget-view+json": {
       "model_id": "a3cf7c12d6ae49bd8520bb99c183dbeb",
       "version_major": 2,
       "version_minor": 0
      },
      "text/plain": [
       "  0%|          | 0/4000 [00:00<?, ?it/s]"
      ]
     },
     "metadata": {},
     "output_type": "display_data"
    },
    {
     "data": {
      "application/vnd.jupyter.widget-view+json": {
       "model_id": "e8e82b4ab4204ef9beb3b7be7a6882e6",
       "version_major": 2,
       "version_minor": 0
      },
      "text/plain": [
       "  0%|          | 0/4000 [00:00<?, ?it/s]"
      ]
     },
     "metadata": {},
     "output_type": "display_data"
    },
    {
     "data": {
      "application/vnd.jupyter.widget-view+json": {
       "model_id": "2af7e527ad3048dd8b48b70faa7f8dd1",
       "version_major": 2,
       "version_minor": 0
      },
      "text/plain": [
       "  0%|          | 0/4000 [00:00<?, ?it/s]"
      ]
     },
     "metadata": {},
     "output_type": "display_data"
    },
    {
     "data": {
      "application/vnd.jupyter.widget-view+json": {
       "model_id": "72b0fa705fb9476bbd1002071f65e1be",
       "version_major": 2,
       "version_minor": 0
      },
      "text/plain": [
       "  0%|          | 0/4000 [00:00<?, ?it/s]"
      ]
     },
     "metadata": {},
     "output_type": "display_data"
    },
    {
     "data": {
      "application/vnd.jupyter.widget-view+json": {
       "model_id": "bd65d47cd01f4bf99915d99979eeb447",
       "version_major": 2,
       "version_minor": 0
      },
      "text/plain": [
       "  0%|          | 0/4000 [00:00<?, ?it/s]"
      ]
     },
     "metadata": {},
     "output_type": "display_data"
    },
    {
     "data": {
      "application/vnd.jupyter.widget-view+json": {
       "model_id": "b47724deb63c4ef7b558f1cf865ce0f6",
       "version_major": 2,
       "version_minor": 0
      },
      "text/plain": [
       "  0%|          | 0/4000 [00:00<?, ?it/s]"
      ]
     },
     "metadata": {},
     "output_type": "display_data"
    },
    {
     "data": {
      "application/vnd.jupyter.widget-view+json": {
       "model_id": "fdb051939b8443808f68fa2840b9c55e",
       "version_major": 2,
       "version_minor": 0
      },
      "text/plain": [
       "  0%|          | 0/4000 [00:00<?, ?it/s]"
      ]
     },
     "metadata": {},
     "output_type": "display_data"
    },
    {
     "data": {
      "application/vnd.jupyter.widget-view+json": {
       "model_id": "a8c7cc9d65c342549323ff1532c00559",
       "version_major": 2,
       "version_minor": 0
      },
      "text/plain": [
       "  0%|          | 0/4000 [00:00<?, ?it/s]"
      ]
     },
     "metadata": {},
     "output_type": "display_data"
    },
    {
     "data": {
      "application/vnd.jupyter.widget-view+json": {
       "model_id": "13f95d7234bf4b80ba1f4f3199564b89",
       "version_major": 2,
       "version_minor": 0
      },
      "text/plain": [
       "  0%|          | 0/4000 [00:00<?, ?it/s]"
      ]
     },
     "metadata": {},
     "output_type": "display_data"
    },
    {
     "data": {
      "application/vnd.jupyter.widget-view+json": {
       "model_id": "f23e73aff0f94ab382234e11fa88da5f",
       "version_major": 2,
       "version_minor": 0
      },
      "text/plain": [
       "  0%|          | 0/4000 [00:00<?, ?it/s]"
      ]
     },
     "metadata": {},
     "output_type": "display_data"
    },
    {
     "data": {
      "application/vnd.jupyter.widget-view+json": {
       "model_id": "10b751158a30473e85b978a73c696e1d",
       "version_major": 2,
       "version_minor": 0
      },
      "text/plain": [
       "  0%|          | 0/4000 [00:00<?, ?it/s]"
      ]
     },
     "metadata": {},
     "output_type": "display_data"
    },
    {
     "data": {
      "application/vnd.jupyter.widget-view+json": {
       "model_id": "23c7bd43d0864e6dac83cdef13fac6f9",
       "version_major": 2,
       "version_minor": 0
      },
      "text/plain": [
       "  0%|          | 0/4000 [00:00<?, ?it/s]"
      ]
     },
     "metadata": {},
     "output_type": "display_data"
    },
    {
     "data": {
      "application/vnd.jupyter.widget-view+json": {
       "model_id": "14e4395b4ce74e018b30a2bb725c5c5d",
       "version_major": 2,
       "version_minor": 0
      },
      "text/plain": [
       "  0%|          | 0/4000 [00:00<?, ?it/s]"
      ]
     },
     "metadata": {},
     "output_type": "display_data"
    },
    {
     "data": {
      "application/vnd.jupyter.widget-view+json": {
       "model_id": "21641495f96d42909b5760de10f23bae",
       "version_major": 2,
       "version_minor": 0
      },
      "text/plain": [
       "  0%|          | 0/4000 [00:00<?, ?it/s]"
      ]
     },
     "metadata": {},
     "output_type": "display_data"
    },
    {
     "data": {
      "application/vnd.jupyter.widget-view+json": {
       "model_id": "3f8ff709569446748c22a654029a22a7",
       "version_major": 2,
       "version_minor": 0
      },
      "text/plain": [
       "  0%|          | 0/4000 [00:00<?, ?it/s]"
      ]
     },
     "metadata": {},
     "output_type": "display_data"
    },
    {
     "data": {
      "application/vnd.jupyter.widget-view+json": {
       "model_id": "6acc6daff50445b588b53e921f79a779",
       "version_major": 2,
       "version_minor": 0
      },
      "text/plain": [
       "  0%|          | 0/4000 [00:00<?, ?it/s]"
      ]
     },
     "metadata": {},
     "output_type": "display_data"
    },
    {
     "data": {
      "application/vnd.jupyter.widget-view+json": {
       "model_id": "23ee588988424cfebbf45bd06d162458",
       "version_major": 2,
       "version_minor": 0
      },
      "text/plain": [
       "  0%|          | 0/4000 [00:00<?, ?it/s]"
      ]
     },
     "metadata": {},
     "output_type": "display_data"
    },
    {
     "data": {
      "application/vnd.jupyter.widget-view+json": {
       "model_id": "bbfb0febf61643cc82ed5e322e72528c",
       "version_major": 2,
       "version_minor": 0
      },
      "text/plain": [
       "  0%|          | 0/4000 [00:00<?, ?it/s]"
      ]
     },
     "metadata": {},
     "output_type": "display_data"
    },
    {
     "data": {
      "application/vnd.jupyter.widget-view+json": {
       "model_id": "6f9d44f3457a4d5685055007a7ba8840",
       "version_major": 2,
       "version_minor": 0
      },
      "text/plain": [
       "  0%|          | 0/4000 [00:00<?, ?it/s]"
      ]
     },
     "metadata": {},
     "output_type": "display_data"
    },
    {
     "data": {
      "application/vnd.jupyter.widget-view+json": {
       "model_id": "8ce2f3f4fea74c2e9407f78bbf51ee8b",
       "version_major": 2,
       "version_minor": 0
      },
      "text/plain": [
       "  0%|          | 0/4000 [00:00<?, ?it/s]"
      ]
     },
     "metadata": {},
     "output_type": "display_data"
    },
    {
     "data": {
      "application/vnd.jupyter.widget-view+json": {
       "model_id": "e28d4403f27447ee80572386b38c923a",
       "version_major": 2,
       "version_minor": 0
      },
      "text/plain": [
       "  0%|          | 0/4000 [00:00<?, ?it/s]"
      ]
     },
     "metadata": {},
     "output_type": "display_data"
    },
    {
     "data": {
      "application/vnd.jupyter.widget-view+json": {
       "model_id": "e3dcb6351af44fd5938e30a2bee606ae",
       "version_major": 2,
       "version_minor": 0
      },
      "text/plain": [
       "  0%|          | 0/4000 [00:00<?, ?it/s]"
      ]
     },
     "metadata": {},
     "output_type": "display_data"
    },
    {
     "data": {
      "application/vnd.jupyter.widget-view+json": {
       "model_id": "b25c66144b50412685f9bd00cf58b3e8",
       "version_major": 2,
       "version_minor": 0
      },
      "text/plain": [
       "  0%|          | 0/4000 [00:00<?, ?it/s]"
      ]
     },
     "metadata": {},
     "output_type": "display_data"
    },
    {
     "data": {
      "application/vnd.jupyter.widget-view+json": {
       "model_id": "d208cc5761b9499d8c660de768808608",
       "version_major": 2,
       "version_minor": 0
      },
      "text/plain": [
       "  0%|          | 0/4000 [00:00<?, ?it/s]"
      ]
     },
     "metadata": {},
     "output_type": "display_data"
    },
    {
     "data": {
      "application/vnd.jupyter.widget-view+json": {
       "model_id": "90040811537d48a6984da8973c1b9033",
       "version_major": 2,
       "version_minor": 0
      },
      "text/plain": [
       "  0%|          | 0/4000 [00:00<?, ?it/s]"
      ]
     },
     "metadata": {},
     "output_type": "display_data"
    },
    {
     "data": {
      "application/vnd.jupyter.widget-view+json": {
       "model_id": "2d9cc63b485b4417bff7272132bf7eae",
       "version_major": 2,
       "version_minor": 0
      },
      "text/plain": [
       "  0%|          | 0/4000 [00:00<?, ?it/s]"
      ]
     },
     "metadata": {},
     "output_type": "display_data"
    },
    {
     "data": {
      "application/vnd.jupyter.widget-view+json": {
       "model_id": "e8a710b63f2e4f768aadff31afbf5626",
       "version_major": 2,
       "version_minor": 0
      },
      "text/plain": [
       "  0%|          | 0/4000 [00:00<?, ?it/s]"
      ]
     },
     "metadata": {},
     "output_type": "display_data"
    },
    {
     "data": {
      "application/vnd.jupyter.widget-view+json": {
       "model_id": "09e6bbfc473b41299669b1eb38c6ae8d",
       "version_major": 2,
       "version_minor": 0
      },
      "text/plain": [
       "  0%|          | 0/4000 [00:00<?, ?it/s]"
      ]
     },
     "metadata": {},
     "output_type": "display_data"
    },
    {
     "data": {
      "application/vnd.jupyter.widget-view+json": {
       "model_id": "4b64e3749e1a4df498b826807274806f",
       "version_major": 2,
       "version_minor": 0
      },
      "text/plain": [
       "  0%|          | 0/4000 [00:00<?, ?it/s]"
      ]
     },
     "metadata": {},
     "output_type": "display_data"
    },
    {
     "data": {
      "application/vnd.jupyter.widget-view+json": {
       "model_id": "0e48bf29774d40f1b54c84a65e97073c",
       "version_major": 2,
       "version_minor": 0
      },
      "text/plain": [
       "  0%|          | 0/4000 [00:00<?, ?it/s]"
      ]
     },
     "metadata": {},
     "output_type": "display_data"
    },
    {
     "data": {
      "application/vnd.jupyter.widget-view+json": {
       "model_id": "92f19a8ac4d64c10891d21f0ec322bd0",
       "version_major": 2,
       "version_minor": 0
      },
      "text/plain": [
       "  0%|          | 0/4000 [00:00<?, ?it/s]"
      ]
     },
     "metadata": {},
     "output_type": "display_data"
    },
    {
     "data": {
      "application/vnd.jupyter.widget-view+json": {
       "model_id": "406727b97bf442869588525f25622905",
       "version_major": 2,
       "version_minor": 0
      },
      "text/plain": [
       "  0%|          | 0/4000 [00:00<?, ?it/s]"
      ]
     },
     "metadata": {},
     "output_type": "display_data"
    },
    {
     "data": {
      "application/vnd.jupyter.widget-view+json": {
       "model_id": "f42d62480b6b4be1bdf46baad4adeefb",
       "version_major": 2,
       "version_minor": 0
      },
      "text/plain": [
       "  0%|          | 0/4000 [00:00<?, ?it/s]"
      ]
     },
     "metadata": {},
     "output_type": "display_data"
    },
    {
     "data": {
      "application/vnd.jupyter.widget-view+json": {
       "model_id": "84888e59f4554c6387eb71fb4a38b608",
       "version_major": 2,
       "version_minor": 0
      },
      "text/plain": [
       "  0%|          | 0/4000 [00:00<?, ?it/s]"
      ]
     },
     "metadata": {},
     "output_type": "display_data"
    },
    {
     "data": {
      "application/vnd.jupyter.widget-view+json": {
       "model_id": "9e1ba64a0edf4f3ca29b230113b1de3e",
       "version_major": 2,
       "version_minor": 0
      },
      "text/plain": [
       "  0%|          | 0/4000 [00:00<?, ?it/s]"
      ]
     },
     "metadata": {},
     "output_type": "display_data"
    },
    {
     "data": {
      "application/vnd.jupyter.widget-view+json": {
       "model_id": "4b9e529558f7454aa0cd0e6e3d03ae89",
       "version_major": 2,
       "version_minor": 0
      },
      "text/plain": [
       "  0%|          | 0/4000 [00:00<?, ?it/s]"
      ]
     },
     "metadata": {},
     "output_type": "display_data"
    },
    {
     "data": {
      "application/vnd.jupyter.widget-view+json": {
       "model_id": "ca49952c4562449b909e53267c3d5027",
       "version_major": 2,
       "version_minor": 0
      },
      "text/plain": [
       "  0%|          | 0/4000 [00:00<?, ?it/s]"
      ]
     },
     "metadata": {},
     "output_type": "display_data"
    },
    {
     "data": {
      "application/vnd.jupyter.widget-view+json": {
       "model_id": "9b08f259af1f463aabbefb63fee97cf4",
       "version_major": 2,
       "version_minor": 0
      },
      "text/plain": [
       "  0%|          | 0/4000 [00:00<?, ?it/s]"
      ]
     },
     "metadata": {},
     "output_type": "display_data"
    },
    {
     "data": {
      "application/vnd.jupyter.widget-view+json": {
       "model_id": "25081b38ecf246e3b0ad3080c4c3cbaa",
       "version_major": 2,
       "version_minor": 0
      },
      "text/plain": [
       "  0%|          | 0/4000 [00:00<?, ?it/s]"
      ]
     },
     "metadata": {},
     "output_type": "display_data"
    },
    {
     "data": {
      "application/vnd.jupyter.widget-view+json": {
       "model_id": "6bd6a47e3c0c4b2daff128338556ce24",
       "version_major": 2,
       "version_minor": 0
      },
      "text/plain": [
       "  0%|          | 0/4000 [00:00<?, ?it/s]"
      ]
     },
     "metadata": {},
     "output_type": "display_data"
    },
    {
     "data": {
      "application/vnd.jupyter.widget-view+json": {
       "model_id": "5f611adb768e4e3a9c4ea7b502fcfaf9",
       "version_major": 2,
       "version_minor": 0
      },
      "text/plain": [
       "  0%|          | 0/4000 [00:00<?, ?it/s]"
      ]
     },
     "metadata": {},
     "output_type": "display_data"
    },
    {
     "data": {
      "application/vnd.jupyter.widget-view+json": {
       "model_id": "75d5a911047d4822b23045e919cc40a6",
       "version_major": 2,
       "version_minor": 0
      },
      "text/plain": [
       "  0%|          | 0/4000 [00:00<?, ?it/s]"
      ]
     },
     "metadata": {},
     "output_type": "display_data"
    },
    {
     "data": {
      "application/vnd.jupyter.widget-view+json": {
       "model_id": "c6b81e4e99804a0b9b2e98cfec675419",
       "version_major": 2,
       "version_minor": 0
      },
      "text/plain": [
       "  0%|          | 0/4000 [00:00<?, ?it/s]"
      ]
     },
     "metadata": {},
     "output_type": "display_data"
    },
    {
     "data": {
      "application/vnd.jupyter.widget-view+json": {
       "model_id": "10f52a1483044862ad012cef604ffdd1",
       "version_major": 2,
       "version_minor": 0
      },
      "text/plain": [
       "  0%|          | 0/4000 [00:00<?, ?it/s]"
      ]
     },
     "metadata": {},
     "output_type": "display_data"
    },
    {
     "data": {
      "application/vnd.jupyter.widget-view+json": {
       "model_id": "f4a9753d46da499fb805b562fde6000b",
       "version_major": 2,
       "version_minor": 0
      },
      "text/plain": [
       "  0%|          | 0/4000 [00:00<?, ?it/s]"
      ]
     },
     "metadata": {},
     "output_type": "display_data"
    },
    {
     "data": {
      "application/vnd.jupyter.widget-view+json": {
       "model_id": "408913da951e404babfa2aa43a29e79e",
       "version_major": 2,
       "version_minor": 0
      },
      "text/plain": [
       "  0%|          | 0/4000 [00:00<?, ?it/s]"
      ]
     },
     "metadata": {},
     "output_type": "display_data"
    },
    {
     "data": {
      "application/vnd.jupyter.widget-view+json": {
       "model_id": "b64226089645458da74a63e3c51244b4",
       "version_major": 2,
       "version_minor": 0
      },
      "text/plain": [
       "  0%|          | 0/4000 [00:00<?, ?it/s]"
      ]
     },
     "metadata": {},
     "output_type": "display_data"
    },
    {
     "data": {
      "application/vnd.jupyter.widget-view+json": {
       "model_id": "86982e9c7da349ba95932280e7bffa0b",
       "version_major": 2,
       "version_minor": 0
      },
      "text/plain": [
       "  0%|          | 0/4000 [00:00<?, ?it/s]"
      ]
     },
     "metadata": {},
     "output_type": "display_data"
    },
    {
     "data": {
      "application/vnd.jupyter.widget-view+json": {
       "model_id": "e2bc4f333bc94204b075128f72c34460",
       "version_major": 2,
       "version_minor": 0
      },
      "text/plain": [
       "  0%|          | 0/4000 [00:00<?, ?it/s]"
      ]
     },
     "metadata": {},
     "output_type": "display_data"
    },
    {
     "data": {
      "application/vnd.jupyter.widget-view+json": {
       "model_id": "4caee7a2339c478d9d965cc4b903179b",
       "version_major": 2,
       "version_minor": 0
      },
      "text/plain": [
       "  0%|          | 0/4000 [00:00<?, ?it/s]"
      ]
     },
     "metadata": {},
     "output_type": "display_data"
    },
    {
     "data": {
      "application/vnd.jupyter.widget-view+json": {
       "model_id": "33326286546b44ee89b9166102629ca7",
       "version_major": 2,
       "version_minor": 0
      },
      "text/plain": [
       "  0%|          | 0/4000 [00:00<?, ?it/s]"
      ]
     },
     "metadata": {},
     "output_type": "display_data"
    },
    {
     "data": {
      "application/vnd.jupyter.widget-view+json": {
       "model_id": "0f4ab82d236d499f96f8ab448d485d6c",
       "version_major": 2,
       "version_minor": 0
      },
      "text/plain": [
       "  0%|          | 0/4000 [00:00<?, ?it/s]"
      ]
     },
     "metadata": {},
     "output_type": "display_data"
    },
    {
     "data": {
      "application/vnd.jupyter.widget-view+json": {
       "model_id": "636d321e232f45dea3f305b051e7995d",
       "version_major": 2,
       "version_minor": 0
      },
      "text/plain": [
       "  0%|          | 0/4000 [00:00<?, ?it/s]"
      ]
     },
     "metadata": {},
     "output_type": "display_data"
    }
   ],
   "source": [
    "np.random.seed(42)\n",
    "random.seed(42)\n",
    "tf.random.set_seed(42)\n",
    "\n",
    "n = 3\n",
    "d = 2**n\n",
    "rank = 7\n",
    "\n",
    "prior_fidelity2 = np.zeros((len(N_list), num_reps))\n",
    "noPrior_fidelity2 = np.zeros((len(N_list), num_reps))\n",
    "\n",
    "for rep in tqdm(range(num_reps)):\n",
    "    X, _, _ = generate_ginibre(d, d)\n",
    "    U = generate_unitary(X) # Random unitary part\n",
    "    kraus_target = KrausMap(U, 0.5, d, rank)\n",
    "    \n",
    "    inputs, _ = generate_pauli_circuits(n = n, \n",
    "                                        circuit_target=None, \n",
    "                                        N = None, \n",
    "                                        trace=False)\n",
    "    \n",
    "    states = kraus_target.apply_map(inputs[0])\n",
    "    targets = measurement(states, U_basis = inputs[1])\n",
    "    \n",
    "    for i, N in enumerate(N_list):\n",
    "        kraus_model = KrausMap(\n",
    "                               U=U, \n",
    "                               c=0.9, \n",
    "                               d=d, \n",
    "                               rank=rank,\n",
    "                              )\n",
    "\n",
    "        model = ModelQuantumMap(\n",
    "                                q_map = kraus_model,\n",
    "                                loss = probs_loss,\n",
    "                                optimizer = tf.optimizers.Adam(learning_rate=0.01),\n",
    "                                )\n",
    "\n",
    "        model.train(inputs = [inputs[0][:N], inputs[1][:N]],\n",
    "                    targets = targets[:N],\n",
    "                    inputs_val = None,\n",
    "                    targets_val = None,\n",
    "                    num_iter = 4000,\n",
    "                    N = N,\n",
    "                    verbose = False,\n",
    "                    )\n",
    "\n",
    "        prior_fidelity2[i, rep] = np.abs(channel_fidelity(kraus_target, kraus_model).numpy())\n",
    "\n",
    "        kraus_model = KrausMap(\n",
    "    #                           U=U, \n",
    "    #                           c=0.9, \n",
    "                               d=d, \n",
    "                               rank=rank+1,\n",
    "                              )\n",
    "\n",
    "        model = ModelQuantumMap(\n",
    "                                q_map = kraus_model,\n",
    "                                loss = probs_loss,\n",
    "                                optimizer = tf.optimizers.Adam(learning_rate=0.01),\n",
    "                                )\n",
    "\n",
    "        model.train(inputs = [inputs[0][:N], inputs[1][:N]],\n",
    "                    targets = targets[:N],\n",
    "                    inputs_val = None,\n",
    "                    targets_val = None,\n",
    "                    num_iter = 4000,\n",
    "                    N = N,\n",
    "                    verbose = False,\n",
    "                    )\n",
    "\n",
    "        noPrior_fidelity2[i, rep] = np.abs(channel_fidelity(kraus_target, kraus_model).numpy())"
   ]
  },
  {
   "cell_type": "code",
   "execution_count": 10,
   "metadata": {},
   "outputs": [],
   "source": [
    "data = [prior_fidelity2, noPrior_fidelity2]\n",
    "pickle.dump(data, open(\"../../data/compressed_sensing_rank8.p\", \"wb\"))"
   ]
  },
  {
   "cell_type": "markdown",
   "metadata": {},
   "source": [
    "### High Rank"
   ]
  },
  {
   "cell_type": "code",
   "execution_count": 11,
   "metadata": {},
   "outputs": [
    {
     "data": {
      "application/vnd.jupyter.widget-view+json": {
       "model_id": "dad0f4931e8946888bd5d0f6008153cb",
       "version_major": 2,
       "version_minor": 0
      },
      "text/plain": [
       "  0%|          | 0/10 [00:00<?, ?it/s]"
      ]
     },
     "metadata": {},
     "output_type": "display_data"
    },
    {
     "data": {
      "application/vnd.jupyter.widget-view+json": {
       "model_id": "ec34a31779484ae985a0e237f453c496",
       "version_major": 2,
       "version_minor": 0
      },
      "text/plain": [
       "  0%|          | 0/4000 [00:00<?, ?it/s]"
      ]
     },
     "metadata": {},
     "output_type": "display_data"
    },
    {
     "data": {
      "application/vnd.jupyter.widget-view+json": {
       "model_id": "2c3c87f8e28a4111b30b1bbd337c7df7",
       "version_major": 2,
       "version_minor": 0
      },
      "text/plain": [
       "  0%|          | 0/4000 [00:00<?, ?it/s]"
      ]
     },
     "metadata": {},
     "output_type": "display_data"
    },
    {
     "data": {
      "application/vnd.jupyter.widget-view+json": {
       "model_id": "e669f568d76945dbaecd42eaf5a18d97",
       "version_major": 2,
       "version_minor": 0
      },
      "text/plain": [
       "  0%|          | 0/4000 [00:00<?, ?it/s]"
      ]
     },
     "metadata": {},
     "output_type": "display_data"
    },
    {
     "data": {
      "application/vnd.jupyter.widget-view+json": {
       "model_id": "25cecd4854b549e18f981d34fb94df93",
       "version_major": 2,
       "version_minor": 0
      },
      "text/plain": [
       "  0%|          | 0/4000 [00:00<?, ?it/s]"
      ]
     },
     "metadata": {},
     "output_type": "display_data"
    },
    {
     "data": {
      "application/vnd.jupyter.widget-view+json": {
       "model_id": "d04f11b105214eb1b74a20f96b6a4230",
       "version_major": 2,
       "version_minor": 0
      },
      "text/plain": [
       "  0%|          | 0/4000 [00:00<?, ?it/s]"
      ]
     },
     "metadata": {},
     "output_type": "display_data"
    },
    {
     "data": {
      "application/vnd.jupyter.widget-view+json": {
       "model_id": "71fc554bc12743cf9d967f6de85da4a6",
       "version_major": 2,
       "version_minor": 0
      },
      "text/plain": [
       "  0%|          | 0/4000 [00:00<?, ?it/s]"
      ]
     },
     "metadata": {},
     "output_type": "display_data"
    },
    {
     "data": {
      "application/vnd.jupyter.widget-view+json": {
       "model_id": "0d3e23aedae14305a9aebabd7d14fcd8",
       "version_major": 2,
       "version_minor": 0
      },
      "text/plain": [
       "  0%|          | 0/4000 [00:00<?, ?it/s]"
      ]
     },
     "metadata": {},
     "output_type": "display_data"
    },
    {
     "data": {
      "application/vnd.jupyter.widget-view+json": {
       "model_id": "0e4c7c9bc5284f4c8e537f6b880fc64b",
       "version_major": 2,
       "version_minor": 0
      },
      "text/plain": [
       "  0%|          | 0/4000 [00:00<?, ?it/s]"
      ]
     },
     "metadata": {},
     "output_type": "display_data"
    },
    {
     "data": {
      "application/vnd.jupyter.widget-view+json": {
       "model_id": "3f7c18c589504f4983556c0f687a187f",
       "version_major": 2,
       "version_minor": 0
      },
      "text/plain": [
       "  0%|          | 0/4000 [00:00<?, ?it/s]"
      ]
     },
     "metadata": {},
     "output_type": "display_data"
    },
    {
     "data": {
      "application/vnd.jupyter.widget-view+json": {
       "model_id": "42fb81d9063b4acf897eea6321e350cb",
       "version_major": 2,
       "version_minor": 0
      },
      "text/plain": [
       "  0%|          | 0/4000 [00:00<?, ?it/s]"
      ]
     },
     "metadata": {},
     "output_type": "display_data"
    },
    {
     "data": {
      "application/vnd.jupyter.widget-view+json": {
       "model_id": "4679da6b9e0d4899b8370511c883dc89",
       "version_major": 2,
       "version_minor": 0
      },
      "text/plain": [
       "  0%|          | 0/4000 [00:00<?, ?it/s]"
      ]
     },
     "metadata": {},
     "output_type": "display_data"
    },
    {
     "data": {
      "application/vnd.jupyter.widget-view+json": {
       "model_id": "931f2dac6f104481b6994e07b3af4da0",
       "version_major": 2,
       "version_minor": 0
      },
      "text/plain": [
       "  0%|          | 0/4000 [00:00<?, ?it/s]"
      ]
     },
     "metadata": {},
     "output_type": "display_data"
    },
    {
     "data": {
      "application/vnd.jupyter.widget-view+json": {
       "model_id": "250b5049186b4e9aa9d1524882bfb5cb",
       "version_major": 2,
       "version_minor": 0
      },
      "text/plain": [
       "  0%|          | 0/4000 [00:00<?, ?it/s]"
      ]
     },
     "metadata": {},
     "output_type": "display_data"
    },
    {
     "data": {
      "application/vnd.jupyter.widget-view+json": {
       "model_id": "81cea5d12b6e4ea09ceaf872e4ce10a0",
       "version_major": 2,
       "version_minor": 0
      },
      "text/plain": [
       "  0%|          | 0/4000 [00:00<?, ?it/s]"
      ]
     },
     "metadata": {},
     "output_type": "display_data"
    },
    {
     "data": {
      "application/vnd.jupyter.widget-view+json": {
       "model_id": "a4c0055a9cef4d5c88f18e762675a11e",
       "version_major": 2,
       "version_minor": 0
      },
      "text/plain": [
       "  0%|          | 0/4000 [00:00<?, ?it/s]"
      ]
     },
     "metadata": {},
     "output_type": "display_data"
    },
    {
     "data": {
      "application/vnd.jupyter.widget-view+json": {
       "model_id": "6c041db1517a4a618ed7b39010c21a80",
       "version_major": 2,
       "version_minor": 0
      },
      "text/plain": [
       "  0%|          | 0/4000 [00:00<?, ?it/s]"
      ]
     },
     "metadata": {},
     "output_type": "display_data"
    },
    {
     "data": {
      "application/vnd.jupyter.widget-view+json": {
       "model_id": "289b15a808fd4c6ebe0efbcd6039a86d",
       "version_major": 2,
       "version_minor": 0
      },
      "text/plain": [
       "  0%|          | 0/4000 [00:00<?, ?it/s]"
      ]
     },
     "metadata": {},
     "output_type": "display_data"
    },
    {
     "data": {
      "application/vnd.jupyter.widget-view+json": {
       "model_id": "32a3100f5d644a7b994007a0077f509b",
       "version_major": 2,
       "version_minor": 0
      },
      "text/plain": [
       "  0%|          | 0/4000 [00:00<?, ?it/s]"
      ]
     },
     "metadata": {},
     "output_type": "display_data"
    },
    {
     "data": {
      "application/vnd.jupyter.widget-view+json": {
       "model_id": "ddfaa526d54a47b4930563112ecf9c1c",
       "version_major": 2,
       "version_minor": 0
      },
      "text/plain": [
       "  0%|          | 0/4000 [00:00<?, ?it/s]"
      ]
     },
     "metadata": {},
     "output_type": "display_data"
    },
    {
     "data": {
      "application/vnd.jupyter.widget-view+json": {
       "model_id": "25fcc64b768847d49d8a76c0f71cfbc1",
       "version_major": 2,
       "version_minor": 0
      },
      "text/plain": [
       "  0%|          | 0/4000 [00:00<?, ?it/s]"
      ]
     },
     "metadata": {},
     "output_type": "display_data"
    },
    {
     "data": {
      "application/vnd.jupyter.widget-view+json": {
       "model_id": "8511c7210845498ea2d43c40acd022e9",
       "version_major": 2,
       "version_minor": 0
      },
      "text/plain": [
       "  0%|          | 0/4000 [00:00<?, ?it/s]"
      ]
     },
     "metadata": {},
     "output_type": "display_data"
    },
    {
     "data": {
      "application/vnd.jupyter.widget-view+json": {
       "model_id": "a303708dfb57499383b1ec75f5fced95",
       "version_major": 2,
       "version_minor": 0
      },
      "text/plain": [
       "  0%|          | 0/4000 [00:00<?, ?it/s]"
      ]
     },
     "metadata": {},
     "output_type": "display_data"
    },
    {
     "data": {
      "application/vnd.jupyter.widget-view+json": {
       "model_id": "12be7b320f914b29bb3480480e921d60",
       "version_major": 2,
       "version_minor": 0
      },
      "text/plain": [
       "  0%|          | 0/4000 [00:00<?, ?it/s]"
      ]
     },
     "metadata": {},
     "output_type": "display_data"
    },
    {
     "data": {
      "application/vnd.jupyter.widget-view+json": {
       "model_id": "e637b6981de8418db8f4936108bfd150",
       "version_major": 2,
       "version_minor": 0
      },
      "text/plain": [
       "  0%|          | 0/4000 [00:00<?, ?it/s]"
      ]
     },
     "metadata": {},
     "output_type": "display_data"
    },
    {
     "data": {
      "application/vnd.jupyter.widget-view+json": {
       "model_id": "df9b98a0209f4986b73ab0f6d58948aa",
       "version_major": 2,
       "version_minor": 0
      },
      "text/plain": [
       "  0%|          | 0/4000 [00:00<?, ?it/s]"
      ]
     },
     "metadata": {},
     "output_type": "display_data"
    },
    {
     "data": {
      "application/vnd.jupyter.widget-view+json": {
       "model_id": "723045f9a4c445249fc953357a06b397",
       "version_major": 2,
       "version_minor": 0
      },
      "text/plain": [
       "  0%|          | 0/4000 [00:00<?, ?it/s]"
      ]
     },
     "metadata": {},
     "output_type": "display_data"
    },
    {
     "data": {
      "application/vnd.jupyter.widget-view+json": {
       "model_id": "c671c237d40248a387df4653349b7ed1",
       "version_major": 2,
       "version_minor": 0
      },
      "text/plain": [
       "  0%|          | 0/4000 [00:00<?, ?it/s]"
      ]
     },
     "metadata": {},
     "output_type": "display_data"
    },
    {
     "data": {
      "application/vnd.jupyter.widget-view+json": {
       "model_id": "fc231fb9ea7441afa298c833b70eeaa3",
       "version_major": 2,
       "version_minor": 0
      },
      "text/plain": [
       "  0%|          | 0/4000 [00:00<?, ?it/s]"
      ]
     },
     "metadata": {},
     "output_type": "display_data"
    },
    {
     "data": {
      "application/vnd.jupyter.widget-view+json": {
       "model_id": "07d07560acb344ddab0344ecc55a0de0",
       "version_major": 2,
       "version_minor": 0
      },
      "text/plain": [
       "  0%|          | 0/4000 [00:00<?, ?it/s]"
      ]
     },
     "metadata": {},
     "output_type": "display_data"
    },
    {
     "data": {
      "application/vnd.jupyter.widget-view+json": {
       "model_id": "a8d60fb1fb89497c839a4d0adfeee1ff",
       "version_major": 2,
       "version_minor": 0
      },
      "text/plain": [
       "  0%|          | 0/4000 [00:00<?, ?it/s]"
      ]
     },
     "metadata": {},
     "output_type": "display_data"
    },
    {
     "data": {
      "application/vnd.jupyter.widget-view+json": {
       "model_id": "92ab6d87a85e49d296f8b3b84e1c4b13",
       "version_major": 2,
       "version_minor": 0
      },
      "text/plain": [
       "  0%|          | 0/4000 [00:00<?, ?it/s]"
      ]
     },
     "metadata": {},
     "output_type": "display_data"
    },
    {
     "data": {
      "application/vnd.jupyter.widget-view+json": {
       "model_id": "a677ac3efbf6411c9d53d17c3ac0b7ff",
       "version_major": 2,
       "version_minor": 0
      },
      "text/plain": [
       "  0%|          | 0/4000 [00:00<?, ?it/s]"
      ]
     },
     "metadata": {},
     "output_type": "display_data"
    },
    {
     "data": {
      "application/vnd.jupyter.widget-view+json": {
       "model_id": "ebcfa195ea944de6a7a5875dd5dfadf8",
       "version_major": 2,
       "version_minor": 0
      },
      "text/plain": [
       "  0%|          | 0/4000 [00:00<?, ?it/s]"
      ]
     },
     "metadata": {},
     "output_type": "display_data"
    },
    {
     "data": {
      "application/vnd.jupyter.widget-view+json": {
       "model_id": "59af60a007304022b13b83699a8aefb1",
       "version_major": 2,
       "version_minor": 0
      },
      "text/plain": [
       "  0%|          | 0/4000 [00:00<?, ?it/s]"
      ]
     },
     "metadata": {},
     "output_type": "display_data"
    },
    {
     "data": {
      "application/vnd.jupyter.widget-view+json": {
       "model_id": "9df38b27f64d43eca9c43c8e1a858bd7",
       "version_major": 2,
       "version_minor": 0
      },
      "text/plain": [
       "  0%|          | 0/4000 [00:00<?, ?it/s]"
      ]
     },
     "metadata": {},
     "output_type": "display_data"
    },
    {
     "data": {
      "application/vnd.jupyter.widget-view+json": {
       "model_id": "d9b24c9808864a35861c0e715e1ecd07",
       "version_major": 2,
       "version_minor": 0
      },
      "text/plain": [
       "  0%|          | 0/4000 [00:00<?, ?it/s]"
      ]
     },
     "metadata": {},
     "output_type": "display_data"
    },
    {
     "data": {
      "application/vnd.jupyter.widget-view+json": {
       "model_id": "b87b42ac023747859b1e3d9e5d693874",
       "version_major": 2,
       "version_minor": 0
      },
      "text/plain": [
       "  0%|          | 0/4000 [00:00<?, ?it/s]"
      ]
     },
     "metadata": {},
     "output_type": "display_data"
    },
    {
     "data": {
      "application/vnd.jupyter.widget-view+json": {
       "model_id": "445750603cf44573bcedb796d9803e17",
       "version_major": 2,
       "version_minor": 0
      },
      "text/plain": [
       "  0%|          | 0/4000 [00:00<?, ?it/s]"
      ]
     },
     "metadata": {},
     "output_type": "display_data"
    },
    {
     "data": {
      "application/vnd.jupyter.widget-view+json": {
       "model_id": "c1d4593dbe1d41148f8c0aa4d19c336d",
       "version_major": 2,
       "version_minor": 0
      },
      "text/plain": [
       "  0%|          | 0/4000 [00:00<?, ?it/s]"
      ]
     },
     "metadata": {},
     "output_type": "display_data"
    },
    {
     "data": {
      "application/vnd.jupyter.widget-view+json": {
       "model_id": "ab157975efa84e049677e52a0c99fee6",
       "version_major": 2,
       "version_minor": 0
      },
      "text/plain": [
       "  0%|          | 0/4000 [00:00<?, ?it/s]"
      ]
     },
     "metadata": {},
     "output_type": "display_data"
    },
    {
     "data": {
      "application/vnd.jupyter.widget-view+json": {
       "model_id": "e748c4dba534405d87e0a766d6eed881",
       "version_major": 2,
       "version_minor": 0
      },
      "text/plain": [
       "  0%|          | 0/4000 [00:00<?, ?it/s]"
      ]
     },
     "metadata": {},
     "output_type": "display_data"
    },
    {
     "data": {
      "application/vnd.jupyter.widget-view+json": {
       "model_id": "05753b23ee304652a96e98c736e629d0",
       "version_major": 2,
       "version_minor": 0
      },
      "text/plain": [
       "  0%|          | 0/4000 [00:00<?, ?it/s]"
      ]
     },
     "metadata": {},
     "output_type": "display_data"
    },
    {
     "data": {
      "application/vnd.jupyter.widget-view+json": {
       "model_id": "e7de4ec803534809a2202dadc2a49905",
       "version_major": 2,
       "version_minor": 0
      },
      "text/plain": [
       "  0%|          | 0/4000 [00:00<?, ?it/s]"
      ]
     },
     "metadata": {},
     "output_type": "display_data"
    },
    {
     "data": {
      "application/vnd.jupyter.widget-view+json": {
       "model_id": "1f7f60495e38429ab93ab127508ab484",
       "version_major": 2,
       "version_minor": 0
      },
      "text/plain": [
       "  0%|          | 0/4000 [00:00<?, ?it/s]"
      ]
     },
     "metadata": {},
     "output_type": "display_data"
    },
    {
     "data": {
      "application/vnd.jupyter.widget-view+json": {
       "model_id": "a8841440906d49e5a2bc4edebcf21e72",
       "version_major": 2,
       "version_minor": 0
      },
      "text/plain": [
       "  0%|          | 0/4000 [00:00<?, ?it/s]"
      ]
     },
     "metadata": {},
     "output_type": "display_data"
    },
    {
     "data": {
      "application/vnd.jupyter.widget-view+json": {
       "model_id": "098440bcdfba43e69dfc993dca891943",
       "version_major": 2,
       "version_minor": 0
      },
      "text/plain": [
       "  0%|          | 0/4000 [00:00<?, ?it/s]"
      ]
     },
     "metadata": {},
     "output_type": "display_data"
    },
    {
     "data": {
      "application/vnd.jupyter.widget-view+json": {
       "model_id": "625d49bec8ae4a06b94985288b0cf91f",
       "version_major": 2,
       "version_minor": 0
      },
      "text/plain": [
       "  0%|          | 0/4000 [00:00<?, ?it/s]"
      ]
     },
     "metadata": {},
     "output_type": "display_data"
    },
    {
     "data": {
      "application/vnd.jupyter.widget-view+json": {
       "model_id": "959e83cde38b4afca972122fd1dfc55c",
       "version_major": 2,
       "version_minor": 0
      },
      "text/plain": [
       "  0%|          | 0/4000 [00:00<?, ?it/s]"
      ]
     },
     "metadata": {},
     "output_type": "display_data"
    },
    {
     "data": {
      "application/vnd.jupyter.widget-view+json": {
       "model_id": "7cd013857d7b4ab49573271865838eab",
       "version_major": 2,
       "version_minor": 0
      },
      "text/plain": [
       "  0%|          | 0/4000 [00:00<?, ?it/s]"
      ]
     },
     "metadata": {},
     "output_type": "display_data"
    },
    {
     "data": {
      "application/vnd.jupyter.widget-view+json": {
       "model_id": "07424a0f4bd44462aaa3b1392894744a",
       "version_major": 2,
       "version_minor": 0
      },
      "text/plain": [
       "  0%|          | 0/4000 [00:00<?, ?it/s]"
      ]
     },
     "metadata": {},
     "output_type": "display_data"
    },
    {
     "data": {
      "application/vnd.jupyter.widget-view+json": {
       "model_id": "8ec06e6827614f57b8f7740077a68b72",
       "version_major": 2,
       "version_minor": 0
      },
      "text/plain": [
       "  0%|          | 0/4000 [00:00<?, ?it/s]"
      ]
     },
     "metadata": {},
     "output_type": "display_data"
    },
    {
     "data": {
      "application/vnd.jupyter.widget-view+json": {
       "model_id": "bb3b9cfdbc3046379f5f29f027709ead",
       "version_major": 2,
       "version_minor": 0
      },
      "text/plain": [
       "  0%|          | 0/4000 [00:00<?, ?it/s]"
      ]
     },
     "metadata": {},
     "output_type": "display_data"
    },
    {
     "data": {
      "application/vnd.jupyter.widget-view+json": {
       "model_id": "94a4fdd589f643378a57f96e6ba32966",
       "version_major": 2,
       "version_minor": 0
      },
      "text/plain": [
       "  0%|          | 0/4000 [00:00<?, ?it/s]"
      ]
     },
     "metadata": {},
     "output_type": "display_data"
    },
    {
     "data": {
      "application/vnd.jupyter.widget-view+json": {
       "model_id": "4308e27adab247bfa1db68afb6d3ac1b",
       "version_major": 2,
       "version_minor": 0
      },
      "text/plain": [
       "  0%|          | 0/4000 [00:00<?, ?it/s]"
      ]
     },
     "metadata": {},
     "output_type": "display_data"
    },
    {
     "data": {
      "application/vnd.jupyter.widget-view+json": {
       "model_id": "7e5da135767c4995b6cce7c5155c3ba4",
       "version_major": 2,
       "version_minor": 0
      },
      "text/plain": [
       "  0%|          | 0/4000 [00:00<?, ?it/s]"
      ]
     },
     "metadata": {},
     "output_type": "display_data"
    },
    {
     "data": {
      "application/vnd.jupyter.widget-view+json": {
       "model_id": "84653e86ac484f8bb43e081bdf2df596",
       "version_major": 2,
       "version_minor": 0
      },
      "text/plain": [
       "  0%|          | 0/4000 [00:00<?, ?it/s]"
      ]
     },
     "metadata": {},
     "output_type": "display_data"
    },
    {
     "data": {
      "application/vnd.jupyter.widget-view+json": {
       "model_id": "e27cc98646fd4bafa074786f76114b62",
       "version_major": 2,
       "version_minor": 0
      },
      "text/plain": [
       "  0%|          | 0/4000 [00:00<?, ?it/s]"
      ]
     },
     "metadata": {},
     "output_type": "display_data"
    },
    {
     "data": {
      "application/vnd.jupyter.widget-view+json": {
       "model_id": "15a10e912a60408b9b7de709d1fac472",
       "version_major": 2,
       "version_minor": 0
      },
      "text/plain": [
       "  0%|          | 0/4000 [00:00<?, ?it/s]"
      ]
     },
     "metadata": {},
     "output_type": "display_data"
    },
    {
     "data": {
      "application/vnd.jupyter.widget-view+json": {
       "model_id": "ba53a55b66fc4be1b5168a8750d443da",
       "version_major": 2,
       "version_minor": 0
      },
      "text/plain": [
       "  0%|          | 0/4000 [00:00<?, ?it/s]"
      ]
     },
     "metadata": {},
     "output_type": "display_data"
    },
    {
     "data": {
      "application/vnd.jupyter.widget-view+json": {
       "model_id": "a6e80815537d4131bc107d780e615a42",
       "version_major": 2,
       "version_minor": 0
      },
      "text/plain": [
       "  0%|          | 0/4000 [00:00<?, ?it/s]"
      ]
     },
     "metadata": {},
     "output_type": "display_data"
    },
    {
     "data": {
      "application/vnd.jupyter.widget-view+json": {
       "model_id": "d9e7bd474f8a4bc2a1b510cfd44ea600",
       "version_major": 2,
       "version_minor": 0
      },
      "text/plain": [
       "  0%|          | 0/4000 [00:00<?, ?it/s]"
      ]
     },
     "metadata": {},
     "output_type": "display_data"
    },
    {
     "data": {
      "application/vnd.jupyter.widget-view+json": {
       "model_id": "35f59b6cc89d46d1a673dd439edae5fa",
       "version_major": 2,
       "version_minor": 0
      },
      "text/plain": [
       "  0%|          | 0/4000 [00:00<?, ?it/s]"
      ]
     },
     "metadata": {},
     "output_type": "display_data"
    },
    {
     "data": {
      "application/vnd.jupyter.widget-view+json": {
       "model_id": "7b1274d3be2842508dcbb545469e24ab",
       "version_major": 2,
       "version_minor": 0
      },
      "text/plain": [
       "  0%|          | 0/4000 [00:00<?, ?it/s]"
      ]
     },
     "metadata": {},
     "output_type": "display_data"
    },
    {
     "data": {
      "application/vnd.jupyter.widget-view+json": {
       "model_id": "bd83b5072a784e22809732688cabbc90",
       "version_major": 2,
       "version_minor": 0
      },
      "text/plain": [
       "  0%|          | 0/4000 [00:00<?, ?it/s]"
      ]
     },
     "metadata": {},
     "output_type": "display_data"
    },
    {
     "data": {
      "application/vnd.jupyter.widget-view+json": {
       "model_id": "13ae0f71738b4137a14f74e49ffa82ff",
       "version_major": 2,
       "version_minor": 0
      },
      "text/plain": [
       "  0%|          | 0/4000 [00:00<?, ?it/s]"
      ]
     },
     "metadata": {},
     "output_type": "display_data"
    },
    {
     "data": {
      "application/vnd.jupyter.widget-view+json": {
       "model_id": "290103e3d0cc49a6bb5e35c9b27e4686",
       "version_major": 2,
       "version_minor": 0
      },
      "text/plain": [
       "  0%|          | 0/4000 [00:00<?, ?it/s]"
      ]
     },
     "metadata": {},
     "output_type": "display_data"
    },
    {
     "data": {
      "application/vnd.jupyter.widget-view+json": {
       "model_id": "8c638445559a484394c6c87bffefd25d",
       "version_major": 2,
       "version_minor": 0
      },
      "text/plain": [
       "  0%|          | 0/4000 [00:00<?, ?it/s]"
      ]
     },
     "metadata": {},
     "output_type": "display_data"
    },
    {
     "data": {
      "application/vnd.jupyter.widget-view+json": {
       "model_id": "a8958e44bea04b4a9638111bd996460b",
       "version_major": 2,
       "version_minor": 0
      },
      "text/plain": [
       "  0%|          | 0/4000 [00:00<?, ?it/s]"
      ]
     },
     "metadata": {},
     "output_type": "display_data"
    },
    {
     "data": {
      "application/vnd.jupyter.widget-view+json": {
       "model_id": "9bb17647d69e43abbaae7dddb8e52da0",
       "version_major": 2,
       "version_minor": 0
      },
      "text/plain": [
       "  0%|          | 0/4000 [00:00<?, ?it/s]"
      ]
     },
     "metadata": {},
     "output_type": "display_data"
    },
    {
     "data": {
      "application/vnd.jupyter.widget-view+json": {
       "model_id": "c87ccbcf875441458755409068f1028e",
       "version_major": 2,
       "version_minor": 0
      },
      "text/plain": [
       "  0%|          | 0/4000 [00:00<?, ?it/s]"
      ]
     },
     "metadata": {},
     "output_type": "display_data"
    },
    {
     "data": {
      "application/vnd.jupyter.widget-view+json": {
       "model_id": "8eabe776f5e84f63bd7f848984258e6a",
       "version_major": 2,
       "version_minor": 0
      },
      "text/plain": [
       "  0%|          | 0/4000 [00:00<?, ?it/s]"
      ]
     },
     "metadata": {},
     "output_type": "display_data"
    },
    {
     "data": {
      "application/vnd.jupyter.widget-view+json": {
       "model_id": "5a65e637785440848fd5b8643432c26b",
       "version_major": 2,
       "version_minor": 0
      },
      "text/plain": [
       "  0%|          | 0/4000 [00:00<?, ?it/s]"
      ]
     },
     "metadata": {},
     "output_type": "display_data"
    },
    {
     "data": {
      "application/vnd.jupyter.widget-view+json": {
       "model_id": "3f0979952d0f4197a1b700ba92485810",
       "version_major": 2,
       "version_minor": 0
      },
      "text/plain": [
       "  0%|          | 0/4000 [00:00<?, ?it/s]"
      ]
     },
     "metadata": {},
     "output_type": "display_data"
    },
    {
     "data": {
      "application/vnd.jupyter.widget-view+json": {
       "model_id": "0bcc89e5b3a94a9c99b4e2c6d684baad",
       "version_major": 2,
       "version_minor": 0
      },
      "text/plain": [
       "  0%|          | 0/4000 [00:00<?, ?it/s]"
      ]
     },
     "metadata": {},
     "output_type": "display_data"
    },
    {
     "data": {
      "application/vnd.jupyter.widget-view+json": {
       "model_id": "20317d1dac09457aaf4e47f5038d47d8",
       "version_major": 2,
       "version_minor": 0
      },
      "text/plain": [
       "  0%|          | 0/4000 [00:00<?, ?it/s]"
      ]
     },
     "metadata": {},
     "output_type": "display_data"
    },
    {
     "data": {
      "application/vnd.jupyter.widget-view+json": {
       "model_id": "1d8dc2ba5e2d42e993fa3b64bd62d2fb",
       "version_major": 2,
       "version_minor": 0
      },
      "text/plain": [
       "  0%|          | 0/4000 [00:00<?, ?it/s]"
      ]
     },
     "metadata": {},
     "output_type": "display_data"
    },
    {
     "data": {
      "application/vnd.jupyter.widget-view+json": {
       "model_id": "3cd939f1c20441d9987607bba263611b",
       "version_major": 2,
       "version_minor": 0
      },
      "text/plain": [
       "  0%|          | 0/4000 [00:00<?, ?it/s]"
      ]
     },
     "metadata": {},
     "output_type": "display_data"
    },
    {
     "data": {
      "application/vnd.jupyter.widget-view+json": {
       "model_id": "500bafc092b441818367fef340e6f2ba",
       "version_major": 2,
       "version_minor": 0
      },
      "text/plain": [
       "  0%|          | 0/4000 [00:00<?, ?it/s]"
      ]
     },
     "metadata": {},
     "output_type": "display_data"
    },
    {
     "data": {
      "application/vnd.jupyter.widget-view+json": {
       "model_id": "487016da7cab4b2d87e971d75196ed7c",
       "version_major": 2,
       "version_minor": 0
      },
      "text/plain": [
       "  0%|          | 0/4000 [00:00<?, ?it/s]"
      ]
     },
     "metadata": {},
     "output_type": "display_data"
    },
    {
     "data": {
      "application/vnd.jupyter.widget-view+json": {
       "model_id": "c87c560e5aa948e1b74b664ce4d3c07d",
       "version_major": 2,
       "version_minor": 0
      },
      "text/plain": [
       "  0%|          | 0/4000 [00:00<?, ?it/s]"
      ]
     },
     "metadata": {},
     "output_type": "display_data"
    },
    {
     "data": {
      "application/vnd.jupyter.widget-view+json": {
       "model_id": "438ca9d3cec7471291dba72a2a143818",
       "version_major": 2,
       "version_minor": 0
      },
      "text/plain": [
       "  0%|          | 0/4000 [00:00<?, ?it/s]"
      ]
     },
     "metadata": {},
     "output_type": "display_data"
    },
    {
     "data": {
      "application/vnd.jupyter.widget-view+json": {
       "model_id": "24dea566830b41e29084b2ed254587f7",
       "version_major": 2,
       "version_minor": 0
      },
      "text/plain": [
       "  0%|          | 0/4000 [00:00<?, ?it/s]"
      ]
     },
     "metadata": {},
     "output_type": "display_data"
    },
    {
     "data": {
      "application/vnd.jupyter.widget-view+json": {
       "model_id": "8eb78298356d45e6875974a5ef61840c",
       "version_major": 2,
       "version_minor": 0
      },
      "text/plain": [
       "  0%|          | 0/4000 [00:00<?, ?it/s]"
      ]
     },
     "metadata": {},
     "output_type": "display_data"
    },
    {
     "data": {
      "application/vnd.jupyter.widget-view+json": {
       "model_id": "36f09aa3146e4abd9b8178bd330aba80",
       "version_major": 2,
       "version_minor": 0
      },
      "text/plain": [
       "  0%|          | 0/4000 [00:00<?, ?it/s]"
      ]
     },
     "metadata": {},
     "output_type": "display_data"
    },
    {
     "data": {
      "application/vnd.jupyter.widget-view+json": {
       "model_id": "75092ede8dbe435c8ca6101b3c840f28",
       "version_major": 2,
       "version_minor": 0
      },
      "text/plain": [
       "  0%|          | 0/4000 [00:00<?, ?it/s]"
      ]
     },
     "metadata": {},
     "output_type": "display_data"
    },
    {
     "data": {
      "application/vnd.jupyter.widget-view+json": {
       "model_id": "fd62ce81c4fe402083f1d9473b99c01c",
       "version_major": 2,
       "version_minor": 0
      },
      "text/plain": [
       "  0%|          | 0/4000 [00:00<?, ?it/s]"
      ]
     },
     "metadata": {},
     "output_type": "display_data"
    },
    {
     "data": {
      "application/vnd.jupyter.widget-view+json": {
       "model_id": "a4a919b17c0d4da29a9a5998572f043d",
       "version_major": 2,
       "version_minor": 0
      },
      "text/plain": [
       "  0%|          | 0/4000 [00:00<?, ?it/s]"
      ]
     },
     "metadata": {},
     "output_type": "display_data"
    },
    {
     "data": {
      "application/vnd.jupyter.widget-view+json": {
       "model_id": "2872436e25af49c9865062a3d92bccb2",
       "version_major": 2,
       "version_minor": 0
      },
      "text/plain": [
       "  0%|          | 0/4000 [00:00<?, ?it/s]"
      ]
     },
     "metadata": {},
     "output_type": "display_data"
    },
    {
     "data": {
      "application/vnd.jupyter.widget-view+json": {
       "model_id": "e126a2f0ae0d41359403a58c4bffddc4",
       "version_major": 2,
       "version_minor": 0
      },
      "text/plain": [
       "  0%|          | 0/4000 [00:00<?, ?it/s]"
      ]
     },
     "metadata": {},
     "output_type": "display_data"
    },
    {
     "data": {
      "application/vnd.jupyter.widget-view+json": {
       "model_id": "7b158768d63c400f8e421a4a044da86f",
       "version_major": 2,
       "version_minor": 0
      },
      "text/plain": [
       "  0%|          | 0/4000 [00:00<?, ?it/s]"
      ]
     },
     "metadata": {},
     "output_type": "display_data"
    },
    {
     "data": {
      "application/vnd.jupyter.widget-view+json": {
       "model_id": "2049d3eff6794c37b18c747de9caf3a0",
       "version_major": 2,
       "version_minor": 0
      },
      "text/plain": [
       "  0%|          | 0/4000 [00:00<?, ?it/s]"
      ]
     },
     "metadata": {},
     "output_type": "display_data"
    },
    {
     "data": {
      "application/vnd.jupyter.widget-view+json": {
       "model_id": "3f32851262c64f108c3f33ee29aa08da",
       "version_major": 2,
       "version_minor": 0
      },
      "text/plain": [
       "  0%|          | 0/4000 [00:00<?, ?it/s]"
      ]
     },
     "metadata": {},
     "output_type": "display_data"
    },
    {
     "data": {
      "application/vnd.jupyter.widget-view+json": {
       "model_id": "7f4b46e3ec2b4b79826c9182be468876",
       "version_major": 2,
       "version_minor": 0
      },
      "text/plain": [
       "  0%|          | 0/4000 [00:00<?, ?it/s]"
      ]
     },
     "metadata": {},
     "output_type": "display_data"
    },
    {
     "data": {
      "application/vnd.jupyter.widget-view+json": {
       "model_id": "ae3d47ae65974ea1b27e258912158e78",
       "version_major": 2,
       "version_minor": 0
      },
      "text/plain": [
       "  0%|          | 0/4000 [00:00<?, ?it/s]"
      ]
     },
     "metadata": {},
     "output_type": "display_data"
    },
    {
     "data": {
      "application/vnd.jupyter.widget-view+json": {
       "model_id": "4d33111d123d42f2b966ba4c6468e3c4",
       "version_major": 2,
       "version_minor": 0
      },
      "text/plain": [
       "  0%|          | 0/4000 [00:00<?, ?it/s]"
      ]
     },
     "metadata": {},
     "output_type": "display_data"
    },
    {
     "data": {
      "application/vnd.jupyter.widget-view+json": {
       "model_id": "572c52299cb04b98a02a7ed384f3fe38",
       "version_major": 2,
       "version_minor": 0
      },
      "text/plain": [
       "  0%|          | 0/4000 [00:00<?, ?it/s]"
      ]
     },
     "metadata": {},
     "output_type": "display_data"
    },
    {
     "data": {
      "application/vnd.jupyter.widget-view+json": {
       "model_id": "761789faf5c543dea3f33bdd31990f03",
       "version_major": 2,
       "version_minor": 0
      },
      "text/plain": [
       "  0%|          | 0/4000 [00:00<?, ?it/s]"
      ]
     },
     "metadata": {},
     "output_type": "display_data"
    },
    {
     "data": {
      "application/vnd.jupyter.widget-view+json": {
       "model_id": "d7a04e37af9e4c2b9fdf7ec35bf498a1",
       "version_major": 2,
       "version_minor": 0
      },
      "text/plain": [
       "  0%|          | 0/4000 [00:00<?, ?it/s]"
      ]
     },
     "metadata": {},
     "output_type": "display_data"
    },
    {
     "data": {
      "application/vnd.jupyter.widget-view+json": {
       "model_id": "72926750bf14405db3904c166245b75d",
       "version_major": 2,
       "version_minor": 0
      },
      "text/plain": [
       "  0%|          | 0/4000 [00:00<?, ?it/s]"
      ]
     },
     "metadata": {},
     "output_type": "display_data"
    },
    {
     "data": {
      "application/vnd.jupyter.widget-view+json": {
       "model_id": "91eb5e030d8442e1a7b13501f3f414f5",
       "version_major": 2,
       "version_minor": 0
      },
      "text/plain": [
       "  0%|          | 0/4000 [00:00<?, ?it/s]"
      ]
     },
     "metadata": {},
     "output_type": "display_data"
    },
    {
     "data": {
      "application/vnd.jupyter.widget-view+json": {
       "model_id": "37db6b0f84ed4674b55d5d546aca9312",
       "version_major": 2,
       "version_minor": 0
      },
      "text/plain": [
       "  0%|          | 0/4000 [00:00<?, ?it/s]"
      ]
     },
     "metadata": {},
     "output_type": "display_data"
    },
    {
     "data": {
      "application/vnd.jupyter.widget-view+json": {
       "model_id": "8c5e295a52b54cc7b9b36110d78f69f9",
       "version_major": 2,
       "version_minor": 0
      },
      "text/plain": [
       "  0%|          | 0/4000 [00:00<?, ?it/s]"
      ]
     },
     "metadata": {},
     "output_type": "display_data"
    },
    {
     "data": {
      "application/vnd.jupyter.widget-view+json": {
       "model_id": "9cd2fe22964b4cd9b127ef8b9b2e81b1",
       "version_major": 2,
       "version_minor": 0
      },
      "text/plain": [
       "  0%|          | 0/4000 [00:00<?, ?it/s]"
      ]
     },
     "metadata": {},
     "output_type": "display_data"
    },
    {
     "data": {
      "application/vnd.jupyter.widget-view+json": {
       "model_id": "d30cfb6199064f95bd50ea82f1bbfeaa",
       "version_major": 2,
       "version_minor": 0
      },
      "text/plain": [
       "  0%|          | 0/4000 [00:00<?, ?it/s]"
      ]
     },
     "metadata": {},
     "output_type": "display_data"
    },
    {
     "data": {
      "application/vnd.jupyter.widget-view+json": {
       "model_id": "65920d0d458a4c70a46b8db5cf31087a",
       "version_major": 2,
       "version_minor": 0
      },
      "text/plain": [
       "  0%|          | 0/4000 [00:00<?, ?it/s]"
      ]
     },
     "metadata": {},
     "output_type": "display_data"
    },
    {
     "data": {
      "application/vnd.jupyter.widget-view+json": {
       "model_id": "cdb938fbc60a48558e9f07ae38c52b4f",
       "version_major": 2,
       "version_minor": 0
      },
      "text/plain": [
       "  0%|          | 0/4000 [00:00<?, ?it/s]"
      ]
     },
     "metadata": {},
     "output_type": "display_data"
    },
    {
     "data": {
      "application/vnd.jupyter.widget-view+json": {
       "model_id": "e8d83022e2e94dc08d9705cf76c9d952",
       "version_major": 2,
       "version_minor": 0
      },
      "text/plain": [
       "  0%|          | 0/4000 [00:00<?, ?it/s]"
      ]
     },
     "metadata": {},
     "output_type": "display_data"
    },
    {
     "data": {
      "application/vnd.jupyter.widget-view+json": {
       "model_id": "f6010a1ddc634cab85d1bdf793225ed0",
       "version_major": 2,
       "version_minor": 0
      },
      "text/plain": [
       "  0%|          | 0/4000 [00:00<?, ?it/s]"
      ]
     },
     "metadata": {},
     "output_type": "display_data"
    },
    {
     "data": {
      "application/vnd.jupyter.widget-view+json": {
       "model_id": "ddf917e35d1a4aaaaf0211c6493fac61",
       "version_major": 2,
       "version_minor": 0
      },
      "text/plain": [
       "  0%|          | 0/4000 [00:00<?, ?it/s]"
      ]
     },
     "metadata": {},
     "output_type": "display_data"
    },
    {
     "data": {
      "application/vnd.jupyter.widget-view+json": {
       "model_id": "8a14bc224d9d41c6855eb0717b18d48a",
       "version_major": 2,
       "version_minor": 0
      },
      "text/plain": [
       "  0%|          | 0/4000 [00:00<?, ?it/s]"
      ]
     },
     "metadata": {},
     "output_type": "display_data"
    },
    {
     "data": {
      "application/vnd.jupyter.widget-view+json": {
       "model_id": "ddfd57f2790e471499bfd81c90a3914a",
       "version_major": 2,
       "version_minor": 0
      },
      "text/plain": [
       "  0%|          | 0/4000 [00:00<?, ?it/s]"
      ]
     },
     "metadata": {},
     "output_type": "display_data"
    },
    {
     "data": {
      "application/vnd.jupyter.widget-view+json": {
       "model_id": "3398cb839a824faf99c981080630b621",
       "version_major": 2,
       "version_minor": 0
      },
      "text/plain": [
       "  0%|          | 0/4000 [00:00<?, ?it/s]"
      ]
     },
     "metadata": {},
     "output_type": "display_data"
    },
    {
     "data": {
      "application/vnd.jupyter.widget-view+json": {
       "model_id": "0f8b8037bcef4a54be62e1168fb118f0",
       "version_major": 2,
       "version_minor": 0
      },
      "text/plain": [
       "  0%|          | 0/4000 [00:00<?, ?it/s]"
      ]
     },
     "metadata": {},
     "output_type": "display_data"
    },
    {
     "data": {
      "application/vnd.jupyter.widget-view+json": {
       "model_id": "2a37e6585e814887afe68f13a5c5fb86",
       "version_major": 2,
       "version_minor": 0
      },
      "text/plain": [
       "  0%|          | 0/4000 [00:00<?, ?it/s]"
      ]
     },
     "metadata": {},
     "output_type": "display_data"
    },
    {
     "data": {
      "application/vnd.jupyter.widget-view+json": {
       "model_id": "4a18f61fb3fa440c8dd1b81342cfeb95",
       "version_major": 2,
       "version_minor": 0
      },
      "text/plain": [
       "  0%|          | 0/4000 [00:00<?, ?it/s]"
      ]
     },
     "metadata": {},
     "output_type": "display_data"
    },
    {
     "data": {
      "application/vnd.jupyter.widget-view+json": {
       "model_id": "f71b2c2005644ab5a6f9e29b3578e396",
       "version_major": 2,
       "version_minor": 0
      },
      "text/plain": [
       "  0%|          | 0/4000 [00:00<?, ?it/s]"
      ]
     },
     "metadata": {},
     "output_type": "display_data"
    },
    {
     "data": {
      "application/vnd.jupyter.widget-view+json": {
       "model_id": "f0de7afb202d45f88306ae762c9e878f",
       "version_major": 2,
       "version_minor": 0
      },
      "text/plain": [
       "  0%|          | 0/4000 [00:00<?, ?it/s]"
      ]
     },
     "metadata": {},
     "output_type": "display_data"
    },
    {
     "data": {
      "application/vnd.jupyter.widget-view+json": {
       "model_id": "21aca679ec154c3e9a9c18be82654c00",
       "version_major": 2,
       "version_minor": 0
      },
      "text/plain": [
       "  0%|          | 0/4000 [00:00<?, ?it/s]"
      ]
     },
     "metadata": {},
     "output_type": "display_data"
    },
    {
     "data": {
      "application/vnd.jupyter.widget-view+json": {
       "model_id": "ed58e93ba95d43658937888f73ce7c09",
       "version_major": 2,
       "version_minor": 0
      },
      "text/plain": [
       "  0%|          | 0/4000 [00:00<?, ?it/s]"
      ]
     },
     "metadata": {},
     "output_type": "display_data"
    },
    {
     "data": {
      "application/vnd.jupyter.widget-view+json": {
       "model_id": "8d07cab8f8f34cdaad152bdb44b22169",
       "version_major": 2,
       "version_minor": 0
      },
      "text/plain": [
       "  0%|          | 0/4000 [00:00<?, ?it/s]"
      ]
     },
     "metadata": {},
     "output_type": "display_data"
    },
    {
     "data": {
      "application/vnd.jupyter.widget-view+json": {
       "model_id": "a74c39c785e14576ab43a857e5062810",
       "version_major": 2,
       "version_minor": 0
      },
      "text/plain": [
       "  0%|          | 0/4000 [00:00<?, ?it/s]"
      ]
     },
     "metadata": {},
     "output_type": "display_data"
    },
    {
     "data": {
      "application/vnd.jupyter.widget-view+json": {
       "model_id": "313de2686baa426498366dc115a99c92",
       "version_major": 2,
       "version_minor": 0
      },
      "text/plain": [
       "  0%|          | 0/4000 [00:00<?, ?it/s]"
      ]
     },
     "metadata": {},
     "output_type": "display_data"
    },
    {
     "data": {
      "application/vnd.jupyter.widget-view+json": {
       "model_id": "21ac7a14cc20437092875ee32daa672b",
       "version_major": 2,
       "version_minor": 0
      },
      "text/plain": [
       "  0%|          | 0/4000 [00:00<?, ?it/s]"
      ]
     },
     "metadata": {},
     "output_type": "display_data"
    },
    {
     "data": {
      "application/vnd.jupyter.widget-view+json": {
       "model_id": "868bcc3773514c67a61b9a8c46a4b1a4",
       "version_major": 2,
       "version_minor": 0
      },
      "text/plain": [
       "  0%|          | 0/4000 [00:00<?, ?it/s]"
      ]
     },
     "metadata": {},
     "output_type": "display_data"
    },
    {
     "data": {
      "application/vnd.jupyter.widget-view+json": {
       "model_id": "9a7435c25cc54df888233706e610993e",
       "version_major": 2,
       "version_minor": 0
      },
      "text/plain": [
       "  0%|          | 0/4000 [00:00<?, ?it/s]"
      ]
     },
     "metadata": {},
     "output_type": "display_data"
    },
    {
     "data": {
      "application/vnd.jupyter.widget-view+json": {
       "model_id": "bbd260fc5d1e43e093e6b16cd15a325b",
       "version_major": 2,
       "version_minor": 0
      },
      "text/plain": [
       "  0%|          | 0/4000 [00:00<?, ?it/s]"
      ]
     },
     "metadata": {},
     "output_type": "display_data"
    },
    {
     "data": {
      "application/vnd.jupyter.widget-view+json": {
       "model_id": "afb0a59e650e4e738410843cba5aa1f2",
       "version_major": 2,
       "version_minor": 0
      },
      "text/plain": [
       "  0%|          | 0/4000 [00:00<?, ?it/s]"
      ]
     },
     "metadata": {},
     "output_type": "display_data"
    },
    {
     "data": {
      "application/vnd.jupyter.widget-view+json": {
       "model_id": "ac962de8e5e34fd68bf1a6cce22db5e8",
       "version_major": 2,
       "version_minor": 0
      },
      "text/plain": [
       "  0%|          | 0/4000 [00:00<?, ?it/s]"
      ]
     },
     "metadata": {},
     "output_type": "display_data"
    },
    {
     "data": {
      "application/vnd.jupyter.widget-view+json": {
       "model_id": "bc03f0c467234403aa86dc5db574668c",
       "version_major": 2,
       "version_minor": 0
      },
      "text/plain": [
       "  0%|          | 0/4000 [00:00<?, ?it/s]"
      ]
     },
     "metadata": {},
     "output_type": "display_data"
    },
    {
     "data": {
      "application/vnd.jupyter.widget-view+json": {
       "model_id": "fa636c84e7134ac4a9a57f29610a0c5b",
       "version_major": 2,
       "version_minor": 0
      },
      "text/plain": [
       "  0%|          | 0/4000 [00:00<?, ?it/s]"
      ]
     },
     "metadata": {},
     "output_type": "display_data"
    },
    {
     "data": {
      "application/vnd.jupyter.widget-view+json": {
       "model_id": "7f20770b3ef7469995443263123a7210",
       "version_major": 2,
       "version_minor": 0
      },
      "text/plain": [
       "  0%|          | 0/4000 [00:00<?, ?it/s]"
      ]
     },
     "metadata": {},
     "output_type": "display_data"
    },
    {
     "data": {
      "application/vnd.jupyter.widget-view+json": {
       "model_id": "24930533051349e99d3e5d00a33b9397",
       "version_major": 2,
       "version_minor": 0
      },
      "text/plain": [
       "  0%|          | 0/4000 [00:00<?, ?it/s]"
      ]
     },
     "metadata": {},
     "output_type": "display_data"
    },
    {
     "data": {
      "application/vnd.jupyter.widget-view+json": {
       "model_id": "e70e288582ab4922bb93c88639ad3e95",
       "version_major": 2,
       "version_minor": 0
      },
      "text/plain": [
       "  0%|          | 0/4000 [00:00<?, ?it/s]"
      ]
     },
     "metadata": {},
     "output_type": "display_data"
    },
    {
     "data": {
      "application/vnd.jupyter.widget-view+json": {
       "model_id": "81c5a9eaff004ba8990aa5d2121c8833",
       "version_major": 2,
       "version_minor": 0
      },
      "text/plain": [
       "  0%|          | 0/4000 [00:00<?, ?it/s]"
      ]
     },
     "metadata": {},
     "output_type": "display_data"
    },
    {
     "data": {
      "application/vnd.jupyter.widget-view+json": {
       "model_id": "be5aaaf6daff433a9c92f526b00989e0",
       "version_major": 2,
       "version_minor": 0
      },
      "text/plain": [
       "  0%|          | 0/4000 [00:00<?, ?it/s]"
      ]
     },
     "metadata": {},
     "output_type": "display_data"
    },
    {
     "data": {
      "application/vnd.jupyter.widget-view+json": {
       "model_id": "f3c1bf1ef53f4b5e90e1ed436d848abd",
       "version_major": 2,
       "version_minor": 0
      },
      "text/plain": [
       "  0%|          | 0/4000 [00:00<?, ?it/s]"
      ]
     },
     "metadata": {},
     "output_type": "display_data"
    },
    {
     "data": {
      "application/vnd.jupyter.widget-view+json": {
       "model_id": "fadb049ec19046b7bf1ab89c865d25d4",
       "version_major": 2,
       "version_minor": 0
      },
      "text/plain": [
       "  0%|          | 0/4000 [00:00<?, ?it/s]"
      ]
     },
     "metadata": {},
     "output_type": "display_data"
    },
    {
     "data": {
      "application/vnd.jupyter.widget-view+json": {
       "model_id": "f4d39871de714c71a66fed36187c2015",
       "version_major": 2,
       "version_minor": 0
      },
      "text/plain": [
       "  0%|          | 0/4000 [00:00<?, ?it/s]"
      ]
     },
     "metadata": {},
     "output_type": "display_data"
    },
    {
     "data": {
      "application/vnd.jupyter.widget-view+json": {
       "model_id": "7c0f35433c364f159d50b33df77ecf63",
       "version_major": 2,
       "version_minor": 0
      },
      "text/plain": [
       "  0%|          | 0/4000 [00:00<?, ?it/s]"
      ]
     },
     "metadata": {},
     "output_type": "display_data"
    },
    {
     "data": {
      "application/vnd.jupyter.widget-view+json": {
       "model_id": "0da467adcbec4c7b9ebc54f116b6b6a5",
       "version_major": 2,
       "version_minor": 0
      },
      "text/plain": [
       "  0%|          | 0/4000 [00:00<?, ?it/s]"
      ]
     },
     "metadata": {},
     "output_type": "display_data"
    },
    {
     "data": {
      "application/vnd.jupyter.widget-view+json": {
       "model_id": "8acff1d3e1ad47e68314b036bf8052a2",
       "version_major": 2,
       "version_minor": 0
      },
      "text/plain": [
       "  0%|          | 0/4000 [00:00<?, ?it/s]"
      ]
     },
     "metadata": {},
     "output_type": "display_data"
    },
    {
     "data": {
      "application/vnd.jupyter.widget-view+json": {
       "model_id": "6702eba745d24559a70162aa9b8ef89b",
       "version_major": 2,
       "version_minor": 0
      },
      "text/plain": [
       "  0%|          | 0/4000 [00:00<?, ?it/s]"
      ]
     },
     "metadata": {},
     "output_type": "display_data"
    },
    {
     "data": {
      "application/vnd.jupyter.widget-view+json": {
       "model_id": "d0ac14c5539449a5b5134958321f2811",
       "version_major": 2,
       "version_minor": 0
      },
      "text/plain": [
       "  0%|          | 0/4000 [00:00<?, ?it/s]"
      ]
     },
     "metadata": {},
     "output_type": "display_data"
    },
    {
     "data": {
      "application/vnd.jupyter.widget-view+json": {
       "model_id": "a875b27a3ed64db789c32eaa738b8f17",
       "version_major": 2,
       "version_minor": 0
      },
      "text/plain": [
       "  0%|          | 0/4000 [00:00<?, ?it/s]"
      ]
     },
     "metadata": {},
     "output_type": "display_data"
    },
    {
     "data": {
      "application/vnd.jupyter.widget-view+json": {
       "model_id": "feeaf3c9fa014e3ba877b179fa4edb90",
       "version_major": 2,
       "version_minor": 0
      },
      "text/plain": [
       "  0%|          | 0/4000 [00:00<?, ?it/s]"
      ]
     },
     "metadata": {},
     "output_type": "display_data"
    },
    {
     "data": {
      "application/vnd.jupyter.widget-view+json": {
       "model_id": "bd1ff7d552a64f9087822d3e9a8a979e",
       "version_major": 2,
       "version_minor": 0
      },
      "text/plain": [
       "  0%|          | 0/4000 [00:00<?, ?it/s]"
      ]
     },
     "metadata": {},
     "output_type": "display_data"
    },
    {
     "data": {
      "application/vnd.jupyter.widget-view+json": {
       "model_id": "818d17699ded4341a80cc97794493be5",
       "version_major": 2,
       "version_minor": 0
      },
      "text/plain": [
       "  0%|          | 0/4000 [00:00<?, ?it/s]"
      ]
     },
     "metadata": {},
     "output_type": "display_data"
    },
    {
     "data": {
      "application/vnd.jupyter.widget-view+json": {
       "model_id": "f0d3f04a494b41ddbb19056080fbf3bf",
       "version_major": 2,
       "version_minor": 0
      },
      "text/plain": [
       "  0%|          | 0/4000 [00:00<?, ?it/s]"
      ]
     },
     "metadata": {},
     "output_type": "display_data"
    },
    {
     "data": {
      "application/vnd.jupyter.widget-view+json": {
       "model_id": "80f50ab5087e4e65829b981948f165b5",
       "version_major": 2,
       "version_minor": 0
      },
      "text/plain": [
       "  0%|          | 0/4000 [00:00<?, ?it/s]"
      ]
     },
     "metadata": {},
     "output_type": "display_data"
    },
    {
     "data": {
      "application/vnd.jupyter.widget-view+json": {
       "model_id": "d98268d67c5d4ab995548c33669d8051",
       "version_major": 2,
       "version_minor": 0
      },
      "text/plain": [
       "  0%|          | 0/4000 [00:00<?, ?it/s]"
      ]
     },
     "metadata": {},
     "output_type": "display_data"
    },
    {
     "data": {
      "application/vnd.jupyter.widget-view+json": {
       "model_id": "2bab6797eb2d4a038a8f12dec47bbb27",
       "version_major": 2,
       "version_minor": 0
      },
      "text/plain": [
       "  0%|          | 0/4000 [00:00<?, ?it/s]"
      ]
     },
     "metadata": {},
     "output_type": "display_data"
    },
    {
     "data": {
      "application/vnd.jupyter.widget-view+json": {
       "model_id": "aa8a92aaa6a04d51b20b2ebc64e2728b",
       "version_major": 2,
       "version_minor": 0
      },
      "text/plain": [
       "  0%|          | 0/4000 [00:00<?, ?it/s]"
      ]
     },
     "metadata": {},
     "output_type": "display_data"
    },
    {
     "data": {
      "application/vnd.jupyter.widget-view+json": {
       "model_id": "bb60b4fed2644680a10ff089e62baf65",
       "version_major": 2,
       "version_minor": 0
      },
      "text/plain": [
       "  0%|          | 0/4000 [00:00<?, ?it/s]"
      ]
     },
     "metadata": {},
     "output_type": "display_data"
    },
    {
     "data": {
      "application/vnd.jupyter.widget-view+json": {
       "model_id": "420b234f53da4872b2a178b6b46cabdc",
       "version_major": 2,
       "version_minor": 0
      },
      "text/plain": [
       "  0%|          | 0/4000 [00:00<?, ?it/s]"
      ]
     },
     "metadata": {},
     "output_type": "display_data"
    },
    {
     "data": {
      "application/vnd.jupyter.widget-view+json": {
       "model_id": "054e8c10800b4be1b42a83f7a07d73a0",
       "version_major": 2,
       "version_minor": 0
      },
      "text/plain": [
       "  0%|          | 0/4000 [00:00<?, ?it/s]"
      ]
     },
     "metadata": {},
     "output_type": "display_data"
    },
    {
     "data": {
      "application/vnd.jupyter.widget-view+json": {
       "model_id": "f255b30aa9984605924a8d04c73ed8ba",
       "version_major": 2,
       "version_minor": 0
      },
      "text/plain": [
       "  0%|          | 0/4000 [00:00<?, ?it/s]"
      ]
     },
     "metadata": {},
     "output_type": "display_data"
    },
    {
     "data": {
      "application/vnd.jupyter.widget-view+json": {
       "model_id": "45b787049ca14d46a0387ba90297f032",
       "version_major": 2,
       "version_minor": 0
      },
      "text/plain": [
       "  0%|          | 0/4000 [00:00<?, ?it/s]"
      ]
     },
     "metadata": {},
     "output_type": "display_data"
    },
    {
     "data": {
      "application/vnd.jupyter.widget-view+json": {
       "model_id": "ac52fec881574225b0150325efd58e49",
       "version_major": 2,
       "version_minor": 0
      },
      "text/plain": [
       "  0%|          | 0/4000 [00:00<?, ?it/s]"
      ]
     },
     "metadata": {},
     "output_type": "display_data"
    },
    {
     "data": {
      "application/vnd.jupyter.widget-view+json": {
       "model_id": "9b919336d9b444b8aa9025c19a19bc64",
       "version_major": 2,
       "version_minor": 0
      },
      "text/plain": [
       "  0%|          | 0/4000 [00:00<?, ?it/s]"
      ]
     },
     "metadata": {},
     "output_type": "display_data"
    },
    {
     "data": {
      "application/vnd.jupyter.widget-view+json": {
       "model_id": "918dd1c1807a4abca3e22d9afbcf9d14",
       "version_major": 2,
       "version_minor": 0
      },
      "text/plain": [
       "  0%|          | 0/4000 [00:00<?, ?it/s]"
      ]
     },
     "metadata": {},
     "output_type": "display_data"
    },
    {
     "data": {
      "application/vnd.jupyter.widget-view+json": {
       "model_id": "8656538a554344c993bff3a89738bff1",
       "version_major": 2,
       "version_minor": 0
      },
      "text/plain": [
       "  0%|          | 0/4000 [00:00<?, ?it/s]"
      ]
     },
     "metadata": {},
     "output_type": "display_data"
    },
    {
     "data": {
      "application/vnd.jupyter.widget-view+json": {
       "model_id": "3cd79f94ef0241da9af3c3c8396642a2",
       "version_major": 2,
       "version_minor": 0
      },
      "text/plain": [
       "  0%|          | 0/4000 [00:00<?, ?it/s]"
      ]
     },
     "metadata": {},
     "output_type": "display_data"
    },
    {
     "data": {
      "application/vnd.jupyter.widget-view+json": {
       "model_id": "28196b2ca89447ed9626fb3ec9a107d6",
       "version_major": 2,
       "version_minor": 0
      },
      "text/plain": [
       "  0%|          | 0/4000 [00:00<?, ?it/s]"
      ]
     },
     "metadata": {},
     "output_type": "display_data"
    },
    {
     "data": {
      "application/vnd.jupyter.widget-view+json": {
       "model_id": "a1894b2d3b4c4123823eb3dc330fa27f",
       "version_major": 2,
       "version_minor": 0
      },
      "text/plain": [
       "  0%|          | 0/4000 [00:00<?, ?it/s]"
      ]
     },
     "metadata": {},
     "output_type": "display_data"
    },
    {
     "data": {
      "application/vnd.jupyter.widget-view+json": {
       "model_id": "0ce4fbaad5b14a5ba6dd23510acca274",
       "version_major": 2,
       "version_minor": 0
      },
      "text/plain": [
       "  0%|          | 0/4000 [00:00<?, ?it/s]"
      ]
     },
     "metadata": {},
     "output_type": "display_data"
    },
    {
     "data": {
      "application/vnd.jupyter.widget-view+json": {
       "model_id": "7a3f45ee0f824ffda31ef587499b7d4a",
       "version_major": 2,
       "version_minor": 0
      },
      "text/plain": [
       "  0%|          | 0/4000 [00:00<?, ?it/s]"
      ]
     },
     "metadata": {},
     "output_type": "display_data"
    },
    {
     "data": {
      "application/vnd.jupyter.widget-view+json": {
       "model_id": "02582cd0ef4f42d3ab95ca7c67085bb0",
       "version_major": 2,
       "version_minor": 0
      },
      "text/plain": [
       "  0%|          | 0/4000 [00:00<?, ?it/s]"
      ]
     },
     "metadata": {},
     "output_type": "display_data"
    },
    {
     "data": {
      "application/vnd.jupyter.widget-view+json": {
       "model_id": "51900b4d71cc4725978c66cf0ee03c33",
       "version_major": 2,
       "version_minor": 0
      },
      "text/plain": [
       "  0%|          | 0/4000 [00:00<?, ?it/s]"
      ]
     },
     "metadata": {},
     "output_type": "display_data"
    },
    {
     "data": {
      "application/vnd.jupyter.widget-view+json": {
       "model_id": "b06e75a3f7a34bbaa0d870076facdc28",
       "version_major": 2,
       "version_minor": 0
      },
      "text/plain": [
       "  0%|          | 0/4000 [00:00<?, ?it/s]"
      ]
     },
     "metadata": {},
     "output_type": "display_data"
    },
    {
     "data": {
      "application/vnd.jupyter.widget-view+json": {
       "model_id": "5372c2bbd6924107bbac93abe0dd2517",
       "version_major": 2,
       "version_minor": 0
      },
      "text/plain": [
       "  0%|          | 0/4000 [00:00<?, ?it/s]"
      ]
     },
     "metadata": {},
     "output_type": "display_data"
    },
    {
     "data": {
      "application/vnd.jupyter.widget-view+json": {
       "model_id": "e28074d787994d098c208cd41efe429f",
       "version_major": 2,
       "version_minor": 0
      },
      "text/plain": [
       "  0%|          | 0/4000 [00:00<?, ?it/s]"
      ]
     },
     "metadata": {},
     "output_type": "display_data"
    },
    {
     "data": {
      "application/vnd.jupyter.widget-view+json": {
       "model_id": "f8235de9f9c742618a50eff2ef07e726",
       "version_major": 2,
       "version_minor": 0
      },
      "text/plain": [
       "  0%|          | 0/4000 [00:00<?, ?it/s]"
      ]
     },
     "metadata": {},
     "output_type": "display_data"
    },
    {
     "data": {
      "application/vnd.jupyter.widget-view+json": {
       "model_id": "8ab1708848cc428e9e8b024aea7c3fc5",
       "version_major": 2,
       "version_minor": 0
      },
      "text/plain": [
       "  0%|          | 0/4000 [00:00<?, ?it/s]"
      ]
     },
     "metadata": {},
     "output_type": "display_data"
    },
    {
     "data": {
      "application/vnd.jupyter.widget-view+json": {
       "model_id": "72d60e5b79b64a06834304b2e81d6294",
       "version_major": 2,
       "version_minor": 0
      },
      "text/plain": [
       "  0%|          | 0/4000 [00:00<?, ?it/s]"
      ]
     },
     "metadata": {},
     "output_type": "display_data"
    },
    {
     "data": {
      "application/vnd.jupyter.widget-view+json": {
       "model_id": "186182b095f24cce80846685be48f64a",
       "version_major": 2,
       "version_minor": 0
      },
      "text/plain": [
       "  0%|          | 0/4000 [00:00<?, ?it/s]"
      ]
     },
     "metadata": {},
     "output_type": "display_data"
    },
    {
     "data": {
      "application/vnd.jupyter.widget-view+json": {
       "model_id": "f571d2d546d74f2692a4d38948bab75a",
       "version_major": 2,
       "version_minor": 0
      },
      "text/plain": [
       "  0%|          | 0/4000 [00:00<?, ?it/s]"
      ]
     },
     "metadata": {},
     "output_type": "display_data"
    },
    {
     "data": {
      "application/vnd.jupyter.widget-view+json": {
       "model_id": "0cd773ddb9344f6f82b7125928ea1843",
       "version_major": 2,
       "version_minor": 0
      },
      "text/plain": [
       "  0%|          | 0/4000 [00:00<?, ?it/s]"
      ]
     },
     "metadata": {},
     "output_type": "display_data"
    },
    {
     "data": {
      "application/vnd.jupyter.widget-view+json": {
       "model_id": "a8064506ef5a436cb64f71c8d6519840",
       "version_major": 2,
       "version_minor": 0
      },
      "text/plain": [
       "  0%|          | 0/4000 [00:00<?, ?it/s]"
      ]
     },
     "metadata": {},
     "output_type": "display_data"
    },
    {
     "data": {
      "application/vnd.jupyter.widget-view+json": {
       "model_id": "adcc6fd7219d4db5b51c530c2dce98b8",
       "version_major": 2,
       "version_minor": 0
      },
      "text/plain": [
       "  0%|          | 0/4000 [00:00<?, ?it/s]"
      ]
     },
     "metadata": {},
     "output_type": "display_data"
    },
    {
     "data": {
      "application/vnd.jupyter.widget-view+json": {
       "model_id": "af9451ecdd4f45cc8f16627c96137b97",
       "version_major": 2,
       "version_minor": 0
      },
      "text/plain": [
       "  0%|          | 0/4000 [00:00<?, ?it/s]"
      ]
     },
     "metadata": {},
     "output_type": "display_data"
    },
    {
     "data": {
      "application/vnd.jupyter.widget-view+json": {
       "model_id": "5dabe10d43824ea19bb07aa05570aef8",
       "version_major": 2,
       "version_minor": 0
      },
      "text/plain": [
       "  0%|          | 0/4000 [00:00<?, ?it/s]"
      ]
     },
     "metadata": {},
     "output_type": "display_data"
    },
    {
     "data": {
      "application/vnd.jupyter.widget-view+json": {
       "model_id": "11dd639d705a48f08dc1ebb29cef481e",
       "version_major": 2,
       "version_minor": 0
      },
      "text/plain": [
       "  0%|          | 0/4000 [00:00<?, ?it/s]"
      ]
     },
     "metadata": {},
     "output_type": "display_data"
    },
    {
     "data": {
      "application/vnd.jupyter.widget-view+json": {
       "model_id": "91d277b062e64fd0b2f4078e6552d555",
       "version_major": 2,
       "version_minor": 0
      },
      "text/plain": [
       "  0%|          | 0/4000 [00:00<?, ?it/s]"
      ]
     },
     "metadata": {},
     "output_type": "display_data"
    },
    {
     "data": {
      "application/vnd.jupyter.widget-view+json": {
       "model_id": "d7c72366082b4e2a966b4f312db9889c",
       "version_major": 2,
       "version_minor": 0
      },
      "text/plain": [
       "  0%|          | 0/4000 [00:00<?, ?it/s]"
      ]
     },
     "metadata": {},
     "output_type": "display_data"
    },
    {
     "data": {
      "application/vnd.jupyter.widget-view+json": {
       "model_id": "d2cddb58e83f4862828b1f3ae5d7ae9b",
       "version_major": 2,
       "version_minor": 0
      },
      "text/plain": [
       "  0%|          | 0/4000 [00:00<?, ?it/s]"
      ]
     },
     "metadata": {},
     "output_type": "display_data"
    },
    {
     "data": {
      "application/vnd.jupyter.widget-view+json": {
       "model_id": "87a9db75c1614462b3eb8d160b562bde",
       "version_major": 2,
       "version_minor": 0
      },
      "text/plain": [
       "  0%|          | 0/4000 [00:00<?, ?it/s]"
      ]
     },
     "metadata": {},
     "output_type": "display_data"
    },
    {
     "data": {
      "application/vnd.jupyter.widget-view+json": {
       "model_id": "be565b488bcb49d29954b8a4ca6a522c",
       "version_major": 2,
       "version_minor": 0
      },
      "text/plain": [
       "  0%|          | 0/4000 [00:00<?, ?it/s]"
      ]
     },
     "metadata": {},
     "output_type": "display_data"
    },
    {
     "data": {
      "application/vnd.jupyter.widget-view+json": {
       "model_id": "2db163f9a9fb4a7d939b252bafec411b",
       "version_major": 2,
       "version_minor": 0
      },
      "text/plain": [
       "  0%|          | 0/4000 [00:00<?, ?it/s]"
      ]
     },
     "metadata": {},
     "output_type": "display_data"
    },
    {
     "data": {
      "application/vnd.jupyter.widget-view+json": {
       "model_id": "a3eb90d251da4f83b1079a35fa2c1351",
       "version_major": 2,
       "version_minor": 0
      },
      "text/plain": [
       "  0%|          | 0/4000 [00:00<?, ?it/s]"
      ]
     },
     "metadata": {},
     "output_type": "display_data"
    },
    {
     "data": {
      "application/vnd.jupyter.widget-view+json": {
       "model_id": "b057c331e8b44f7cbb850323d6a0ff98",
       "version_major": 2,
       "version_minor": 0
      },
      "text/plain": [
       "  0%|          | 0/4000 [00:00<?, ?it/s]"
      ]
     },
     "metadata": {},
     "output_type": "display_data"
    },
    {
     "data": {
      "application/vnd.jupyter.widget-view+json": {
       "model_id": "6b0477e3b267480a840d0296efe9cbd5",
       "version_major": 2,
       "version_minor": 0
      },
      "text/plain": [
       "  0%|          | 0/4000 [00:00<?, ?it/s]"
      ]
     },
     "metadata": {},
     "output_type": "display_data"
    },
    {
     "data": {
      "application/vnd.jupyter.widget-view+json": {
       "model_id": "19a7f4315292498d9735a5402b43fd20",
       "version_major": 2,
       "version_minor": 0
      },
      "text/plain": [
       "  0%|          | 0/4000 [00:00<?, ?it/s]"
      ]
     },
     "metadata": {},
     "output_type": "display_data"
    },
    {
     "data": {
      "application/vnd.jupyter.widget-view+json": {
       "model_id": "57d933282ff8420984606f17b6e70833",
       "version_major": 2,
       "version_minor": 0
      },
      "text/plain": [
       "  0%|          | 0/4000 [00:00<?, ?it/s]"
      ]
     },
     "metadata": {},
     "output_type": "display_data"
    },
    {
     "data": {
      "application/vnd.jupyter.widget-view+json": {
       "model_id": "ea9e80857aff412ebd89781ad80a262b",
       "version_major": 2,
       "version_minor": 0
      },
      "text/plain": [
       "  0%|          | 0/4000 [00:00<?, ?it/s]"
      ]
     },
     "metadata": {},
     "output_type": "display_data"
    },
    {
     "data": {
      "application/vnd.jupyter.widget-view+json": {
       "model_id": "283448c5bf254fe28b7e17d665be85cf",
       "version_major": 2,
       "version_minor": 0
      },
      "text/plain": [
       "  0%|          | 0/4000 [00:00<?, ?it/s]"
      ]
     },
     "metadata": {},
     "output_type": "display_data"
    },
    {
     "data": {
      "application/vnd.jupyter.widget-view+json": {
       "model_id": "4bb921eca67d4623b65cbba631a6115a",
       "version_major": 2,
       "version_minor": 0
      },
      "text/plain": [
       "  0%|          | 0/4000 [00:00<?, ?it/s]"
      ]
     },
     "metadata": {},
     "output_type": "display_data"
    },
    {
     "data": {
      "application/vnd.jupyter.widget-view+json": {
       "model_id": "d7acafe3657e40c1aa27e56521a9c5b4",
       "version_major": 2,
       "version_minor": 0
      },
      "text/plain": [
       "  0%|          | 0/4000 [00:00<?, ?it/s]"
      ]
     },
     "metadata": {},
     "output_type": "display_data"
    },
    {
     "data": {
      "application/vnd.jupyter.widget-view+json": {
       "model_id": "eeec6b2472714898a77c6446e3627724",
       "version_major": 2,
       "version_minor": 0
      },
      "text/plain": [
       "  0%|          | 0/4000 [00:00<?, ?it/s]"
      ]
     },
     "metadata": {},
     "output_type": "display_data"
    },
    {
     "data": {
      "application/vnd.jupyter.widget-view+json": {
       "model_id": "54d3beba496d4191829df50b8fdbfb81",
       "version_major": 2,
       "version_minor": 0
      },
      "text/plain": [
       "  0%|          | 0/4000 [00:00<?, ?it/s]"
      ]
     },
     "metadata": {},
     "output_type": "display_data"
    },
    {
     "data": {
      "application/vnd.jupyter.widget-view+json": {
       "model_id": "899e5b0a49114c66ae4ed91907bf5283",
       "version_major": 2,
       "version_minor": 0
      },
      "text/plain": [
       "  0%|          | 0/4000 [00:00<?, ?it/s]"
      ]
     },
     "metadata": {},
     "output_type": "display_data"
    },
    {
     "data": {
      "application/vnd.jupyter.widget-view+json": {
       "model_id": "0e78913d9b8b428fafed1c62983eef38",
       "version_major": 2,
       "version_minor": 0
      },
      "text/plain": [
       "  0%|          | 0/4000 [00:00<?, ?it/s]"
      ]
     },
     "metadata": {},
     "output_type": "display_data"
    },
    {
     "data": {
      "application/vnd.jupyter.widget-view+json": {
       "model_id": "474926fbc6ba48b0917715fcc8510ae0",
       "version_major": 2,
       "version_minor": 0
      },
      "text/plain": [
       "  0%|          | 0/4000 [00:00<?, ?it/s]"
      ]
     },
     "metadata": {},
     "output_type": "display_data"
    },
    {
     "data": {
      "application/vnd.jupyter.widget-view+json": {
       "model_id": "11e3a3256d4c445580989fe4734c3a6e",
       "version_major": 2,
       "version_minor": 0
      },
      "text/plain": [
       "  0%|          | 0/4000 [00:00<?, ?it/s]"
      ]
     },
     "metadata": {},
     "output_type": "display_data"
    },
    {
     "data": {
      "application/vnd.jupyter.widget-view+json": {
       "model_id": "177f8fff377c47e799317ceadb90fac5",
       "version_major": 2,
       "version_minor": 0
      },
      "text/plain": [
       "  0%|          | 0/4000 [00:00<?, ?it/s]"
      ]
     },
     "metadata": {},
     "output_type": "display_data"
    },
    {
     "data": {
      "application/vnd.jupyter.widget-view+json": {
       "model_id": "b56c0d4c11ec44af8ce75c3800e9efbf",
       "version_major": 2,
       "version_minor": 0
      },
      "text/plain": [
       "  0%|          | 0/4000 [00:00<?, ?it/s]"
      ]
     },
     "metadata": {},
     "output_type": "display_data"
    },
    {
     "data": {
      "application/vnd.jupyter.widget-view+json": {
       "model_id": "4f7ac3825f0d4432b37f3b26fda9ad67",
       "version_major": 2,
       "version_minor": 0
      },
      "text/plain": [
       "  0%|          | 0/4000 [00:00<?, ?it/s]"
      ]
     },
     "metadata": {},
     "output_type": "display_data"
    },
    {
     "data": {
      "application/vnd.jupyter.widget-view+json": {
       "model_id": "8805274ad13844a7a6689a724a668080",
       "version_major": 2,
       "version_minor": 0
      },
      "text/plain": [
       "  0%|          | 0/4000 [00:00<?, ?it/s]"
      ]
     },
     "metadata": {},
     "output_type": "display_data"
    },
    {
     "data": {
      "application/vnd.jupyter.widget-view+json": {
       "model_id": "58b81325c3894dba9d3b30c9426fa04d",
       "version_major": 2,
       "version_minor": 0
      },
      "text/plain": [
       "  0%|          | 0/4000 [00:00<?, ?it/s]"
      ]
     },
     "metadata": {},
     "output_type": "display_data"
    },
    {
     "data": {
      "application/vnd.jupyter.widget-view+json": {
       "model_id": "b4390d9a490249eb9851a952ab2fbe9c",
       "version_major": 2,
       "version_minor": 0
      },
      "text/plain": [
       "  0%|          | 0/4000 [00:00<?, ?it/s]"
      ]
     },
     "metadata": {},
     "output_type": "display_data"
    },
    {
     "data": {
      "application/vnd.jupyter.widget-view+json": {
       "model_id": "40984495677a43e5982ba49b250ce2dd",
       "version_major": 2,
       "version_minor": 0
      },
      "text/plain": [
       "  0%|          | 0/4000 [00:00<?, ?it/s]"
      ]
     },
     "metadata": {},
     "output_type": "display_data"
    },
    {
     "data": {
      "application/vnd.jupyter.widget-view+json": {
       "model_id": "4b8f55c4f2fa4129a42d9a07480a9e1a",
       "version_major": 2,
       "version_minor": 0
      },
      "text/plain": [
       "  0%|          | 0/4000 [00:00<?, ?it/s]"
      ]
     },
     "metadata": {},
     "output_type": "display_data"
    },
    {
     "data": {
      "application/vnd.jupyter.widget-view+json": {
       "model_id": "79035bc22bb8489d9692ff5c972de6fb",
       "version_major": 2,
       "version_minor": 0
      },
      "text/plain": [
       "  0%|          | 0/4000 [00:00<?, ?it/s]"
      ]
     },
     "metadata": {},
     "output_type": "display_data"
    },
    {
     "data": {
      "application/vnd.jupyter.widget-view+json": {
       "model_id": "eb5f4244ef674980aee67400d2b9e617",
       "version_major": 2,
       "version_minor": 0
      },
      "text/plain": [
       "  0%|          | 0/4000 [00:00<?, ?it/s]"
      ]
     },
     "metadata": {},
     "output_type": "display_data"
    },
    {
     "data": {
      "application/vnd.jupyter.widget-view+json": {
       "model_id": "250e5dfc42274e09ab8d3709c3869932",
       "version_major": 2,
       "version_minor": 0
      },
      "text/plain": [
       "  0%|          | 0/4000 [00:00<?, ?it/s]"
      ]
     },
     "metadata": {},
     "output_type": "display_data"
    },
    {
     "data": {
      "application/vnd.jupyter.widget-view+json": {
       "model_id": "5973d6d9a13747dbbff87a087dfb6ce0",
       "version_major": 2,
       "version_minor": 0
      },
      "text/plain": [
       "  0%|          | 0/4000 [00:00<?, ?it/s]"
      ]
     },
     "metadata": {},
     "output_type": "display_data"
    },
    {
     "data": {
      "application/vnd.jupyter.widget-view+json": {
       "model_id": "b37c5b1441bc4f7cb0ba264cf886898e",
       "version_major": 2,
       "version_minor": 0
      },
      "text/plain": [
       "  0%|          | 0/4000 [00:00<?, ?it/s]"
      ]
     },
     "metadata": {},
     "output_type": "display_data"
    },
    {
     "data": {
      "application/vnd.jupyter.widget-view+json": {
       "model_id": "57b12e74617248f5ac2fad61720af20b",
       "version_major": 2,
       "version_minor": 0
      },
      "text/plain": [
       "  0%|          | 0/4000 [00:00<?, ?it/s]"
      ]
     },
     "metadata": {},
     "output_type": "display_data"
    },
    {
     "data": {
      "application/vnd.jupyter.widget-view+json": {
       "model_id": "02c794a7fb214236b67ba9e2a40e6b0e",
       "version_major": 2,
       "version_minor": 0
      },
      "text/plain": [
       "  0%|          | 0/4000 [00:00<?, ?it/s]"
      ]
     },
     "metadata": {},
     "output_type": "display_data"
    },
    {
     "data": {
      "application/vnd.jupyter.widget-view+json": {
       "model_id": "5ffe0212a8824a41a809cfe3603cc439",
       "version_major": 2,
       "version_minor": 0
      },
      "text/plain": [
       "  0%|          | 0/4000 [00:00<?, ?it/s]"
      ]
     },
     "metadata": {},
     "output_type": "display_data"
    },
    {
     "data": {
      "application/vnd.jupyter.widget-view+json": {
       "model_id": "ca592d093e014ec4a58758be8dde840b",
       "version_major": 2,
       "version_minor": 0
      },
      "text/plain": [
       "  0%|          | 0/4000 [00:00<?, ?it/s]"
      ]
     },
     "metadata": {},
     "output_type": "display_data"
    },
    {
     "data": {
      "application/vnd.jupyter.widget-view+json": {
       "model_id": "b086de6ea50540799606a5a1272821be",
       "version_major": 2,
       "version_minor": 0
      },
      "text/plain": [
       "  0%|          | 0/4000 [00:00<?, ?it/s]"
      ]
     },
     "metadata": {},
     "output_type": "display_data"
    },
    {
     "data": {
      "application/vnd.jupyter.widget-view+json": {
       "model_id": "8bd62b4f03ea447f8c6a202753cf2abf",
       "version_major": 2,
       "version_minor": 0
      },
      "text/plain": [
       "  0%|          | 0/4000 [00:00<?, ?it/s]"
      ]
     },
     "metadata": {},
     "output_type": "display_data"
    },
    {
     "data": {
      "application/vnd.jupyter.widget-view+json": {
       "model_id": "f18d04c32b754e7a8fd6d80a238ded6a",
       "version_major": 2,
       "version_minor": 0
      },
      "text/plain": [
       "  0%|          | 0/4000 [00:00<?, ?it/s]"
      ]
     },
     "metadata": {},
     "output_type": "display_data"
    },
    {
     "data": {
      "application/vnd.jupyter.widget-view+json": {
       "model_id": "f2aecb0f5c0c4eeea291fc1ee07ba535",
       "version_major": 2,
       "version_minor": 0
      },
      "text/plain": [
       "  0%|          | 0/4000 [00:00<?, ?it/s]"
      ]
     },
     "metadata": {},
     "output_type": "display_data"
    },
    {
     "data": {
      "application/vnd.jupyter.widget-view+json": {
       "model_id": "ae9db53f889e447e8e97b8ac8c66773e",
       "version_major": 2,
       "version_minor": 0
      },
      "text/plain": [
       "  0%|          | 0/4000 [00:00<?, ?it/s]"
      ]
     },
     "metadata": {},
     "output_type": "display_data"
    },
    {
     "data": {
      "application/vnd.jupyter.widget-view+json": {
       "model_id": "109050eea94c4291b1e7a9db766acf6b",
       "version_major": 2,
       "version_minor": 0
      },
      "text/plain": [
       "  0%|          | 0/4000 [00:00<?, ?it/s]"
      ]
     },
     "metadata": {},
     "output_type": "display_data"
    },
    {
     "data": {
      "application/vnd.jupyter.widget-view+json": {
       "model_id": "e7a4233c87db46dda634bea057958493",
       "version_major": 2,
       "version_minor": 0
      },
      "text/plain": [
       "  0%|          | 0/4000 [00:00<?, ?it/s]"
      ]
     },
     "metadata": {},
     "output_type": "display_data"
    },
    {
     "data": {
      "application/vnd.jupyter.widget-view+json": {
       "model_id": "527e21f62bc3466cabaf855d2b00b2ca",
       "version_major": 2,
       "version_minor": 0
      },
      "text/plain": [
       "  0%|          | 0/4000 [00:00<?, ?it/s]"
      ]
     },
     "metadata": {},
     "output_type": "display_data"
    },
    {
     "data": {
      "application/vnd.jupyter.widget-view+json": {
       "model_id": "f24dda9fd1fa4a3aa8d57236363b35de",
       "version_major": 2,
       "version_minor": 0
      },
      "text/plain": [
       "  0%|          | 0/4000 [00:00<?, ?it/s]"
      ]
     },
     "metadata": {},
     "output_type": "display_data"
    },
    {
     "data": {
      "application/vnd.jupyter.widget-view+json": {
       "model_id": "4abcc1390f504de8b71501d11a3a9744",
       "version_major": 2,
       "version_minor": 0
      },
      "text/plain": [
       "  0%|          | 0/4000 [00:00<?, ?it/s]"
      ]
     },
     "metadata": {},
     "output_type": "display_data"
    },
    {
     "data": {
      "application/vnd.jupyter.widget-view+json": {
       "model_id": "6ade789e7f1044859002b3f0b1acbb48",
       "version_major": 2,
       "version_minor": 0
      },
      "text/plain": [
       "  0%|          | 0/4000 [00:00<?, ?it/s]"
      ]
     },
     "metadata": {},
     "output_type": "display_data"
    },
    {
     "data": {
      "application/vnd.jupyter.widget-view+json": {
       "model_id": "c275bf9190c74f48aaa3ffc27db0997f",
       "version_major": 2,
       "version_minor": 0
      },
      "text/plain": [
       "  0%|          | 0/4000 [00:00<?, ?it/s]"
      ]
     },
     "metadata": {},
     "output_type": "display_data"
    },
    {
     "data": {
      "application/vnd.jupyter.widget-view+json": {
       "model_id": "905a7deb90094984b4a66a94d93dfc91",
       "version_major": 2,
       "version_minor": 0
      },
      "text/plain": [
       "  0%|          | 0/4000 [00:00<?, ?it/s]"
      ]
     },
     "metadata": {},
     "output_type": "display_data"
    },
    {
     "data": {
      "application/vnd.jupyter.widget-view+json": {
       "model_id": "99e1982bd0fc40168b42b7ab514f5755",
       "version_major": 2,
       "version_minor": 0
      },
      "text/plain": [
       "  0%|          | 0/4000 [00:00<?, ?it/s]"
      ]
     },
     "metadata": {},
     "output_type": "display_data"
    },
    {
     "data": {
      "application/vnd.jupyter.widget-view+json": {
       "model_id": "9ab72046d5dd4862b8e4c8d8775f788c",
       "version_major": 2,
       "version_minor": 0
      },
      "text/plain": [
       "  0%|          | 0/4000 [00:00<?, ?it/s]"
      ]
     },
     "metadata": {},
     "output_type": "display_data"
    },
    {
     "data": {
      "application/vnd.jupyter.widget-view+json": {
       "model_id": "7e1603bb4f3e4630980089f76301b755",
       "version_major": 2,
       "version_minor": 0
      },
      "text/plain": [
       "  0%|          | 0/4000 [00:00<?, ?it/s]"
      ]
     },
     "metadata": {},
     "output_type": "display_data"
    },
    {
     "data": {
      "application/vnd.jupyter.widget-view+json": {
       "model_id": "ebed475f19774945b889739f3b1957d9",
       "version_major": 2,
       "version_minor": 0
      },
      "text/plain": [
       "  0%|          | 0/4000 [00:00<?, ?it/s]"
      ]
     },
     "metadata": {},
     "output_type": "display_data"
    },
    {
     "data": {
      "application/vnd.jupyter.widget-view+json": {
       "model_id": "0796ee9145b3404a9c1ed298aa530190",
       "version_major": 2,
       "version_minor": 0
      },
      "text/plain": [
       "  0%|          | 0/4000 [00:00<?, ?it/s]"
      ]
     },
     "metadata": {},
     "output_type": "display_data"
    },
    {
     "data": {
      "application/vnd.jupyter.widget-view+json": {
       "model_id": "fd805ce50113404bbda4dbdce463dcf1",
       "version_major": 2,
       "version_minor": 0
      },
      "text/plain": [
       "  0%|          | 0/4000 [00:00<?, ?it/s]"
      ]
     },
     "metadata": {},
     "output_type": "display_data"
    },
    {
     "data": {
      "application/vnd.jupyter.widget-view+json": {
       "model_id": "6b5b8a9ba2d04493b20cc86d1a27219e",
       "version_major": 2,
       "version_minor": 0
      },
      "text/plain": [
       "  0%|          | 0/4000 [00:00<?, ?it/s]"
      ]
     },
     "metadata": {},
     "output_type": "display_data"
    },
    {
     "data": {
      "application/vnd.jupyter.widget-view+json": {
       "model_id": "b5046bc1d5c94b74b48a8a11eb75d7a8",
       "version_major": 2,
       "version_minor": 0
      },
      "text/plain": [
       "  0%|          | 0/4000 [00:00<?, ?it/s]"
      ]
     },
     "metadata": {},
     "output_type": "display_data"
    },
    {
     "data": {
      "application/vnd.jupyter.widget-view+json": {
       "model_id": "af4a2635d57d4b0f88f86402ee5a6def",
       "version_major": 2,
       "version_minor": 0
      },
      "text/plain": [
       "  0%|          | 0/4000 [00:00<?, ?it/s]"
      ]
     },
     "metadata": {},
     "output_type": "display_data"
    },
    {
     "data": {
      "application/vnd.jupyter.widget-view+json": {
       "model_id": "0b0a46544f8946c899647416faecdfad",
       "version_major": 2,
       "version_minor": 0
      },
      "text/plain": [
       "  0%|          | 0/4000 [00:00<?, ?it/s]"
      ]
     },
     "metadata": {},
     "output_type": "display_data"
    },
    {
     "data": {
      "application/vnd.jupyter.widget-view+json": {
       "model_id": "51bb4aba266647ee88f8cb7c675765cc",
       "version_major": 2,
       "version_minor": 0
      },
      "text/plain": [
       "  0%|          | 0/4000 [00:00<?, ?it/s]"
      ]
     },
     "metadata": {},
     "output_type": "display_data"
    },
    {
     "data": {
      "application/vnd.jupyter.widget-view+json": {
       "model_id": "33c4b5a5825246b783fe8f1d51959e2c",
       "version_major": 2,
       "version_minor": 0
      },
      "text/plain": [
       "  0%|          | 0/4000 [00:00<?, ?it/s]"
      ]
     },
     "metadata": {},
     "output_type": "display_data"
    },
    {
     "data": {
      "application/vnd.jupyter.widget-view+json": {
       "model_id": "6576134e0e484b84af64868535ee0850",
       "version_major": 2,
       "version_minor": 0
      },
      "text/plain": [
       "  0%|          | 0/4000 [00:00<?, ?it/s]"
      ]
     },
     "metadata": {},
     "output_type": "display_data"
    },
    {
     "data": {
      "application/vnd.jupyter.widget-view+json": {
       "model_id": "8411bb7870c240a69961162e62286222",
       "version_major": 2,
       "version_minor": 0
      },
      "text/plain": [
       "  0%|          | 0/4000 [00:00<?, ?it/s]"
      ]
     },
     "metadata": {},
     "output_type": "display_data"
    },
    {
     "data": {
      "application/vnd.jupyter.widget-view+json": {
       "model_id": "3593c2a787d14cc68a63244fbf6a6710",
       "version_major": 2,
       "version_minor": 0
      },
      "text/plain": [
       "  0%|          | 0/4000 [00:00<?, ?it/s]"
      ]
     },
     "metadata": {},
     "output_type": "display_data"
    },
    {
     "data": {
      "application/vnd.jupyter.widget-view+json": {
       "model_id": "8507c438e38446f7b19744d0bd784b2e",
       "version_major": 2,
       "version_minor": 0
      },
      "text/plain": [
       "  0%|          | 0/4000 [00:00<?, ?it/s]"
      ]
     },
     "metadata": {},
     "output_type": "display_data"
    },
    {
     "data": {
      "application/vnd.jupyter.widget-view+json": {
       "model_id": "6907b72a79674a61b8ebf5ed0136cad6",
       "version_major": 2,
       "version_minor": 0
      },
      "text/plain": [
       "  0%|          | 0/4000 [00:00<?, ?it/s]"
      ]
     },
     "metadata": {},
     "output_type": "display_data"
    },
    {
     "data": {
      "application/vnd.jupyter.widget-view+json": {
       "model_id": "344e99fcf6de4befb14d841587ce06b6",
       "version_major": 2,
       "version_minor": 0
      },
      "text/plain": [
       "  0%|          | 0/4000 [00:00<?, ?it/s]"
      ]
     },
     "metadata": {},
     "output_type": "display_data"
    },
    {
     "data": {
      "application/vnd.jupyter.widget-view+json": {
       "model_id": "43649acaa3d444129135992c1f18901d",
       "version_major": 2,
       "version_minor": 0
      },
      "text/plain": [
       "  0%|          | 0/4000 [00:00<?, ?it/s]"
      ]
     },
     "metadata": {},
     "output_type": "display_data"
    },
    {
     "data": {
      "application/vnd.jupyter.widget-view+json": {
       "model_id": "33dbcea062b24b35ad12ab2fc66796b3",
       "version_major": 2,
       "version_minor": 0
      },
      "text/plain": [
       "  0%|          | 0/4000 [00:00<?, ?it/s]"
      ]
     },
     "metadata": {},
     "output_type": "display_data"
    },
    {
     "data": {
      "application/vnd.jupyter.widget-view+json": {
       "model_id": "e182f96637ab400f939dbbfcffbbe8fb",
       "version_major": 2,
       "version_minor": 0
      },
      "text/plain": [
       "  0%|          | 0/4000 [00:00<?, ?it/s]"
      ]
     },
     "metadata": {},
     "output_type": "display_data"
    },
    {
     "data": {
      "application/vnd.jupyter.widget-view+json": {
       "model_id": "2231c98bb68646d5bc8bacce2f949bd4",
       "version_major": 2,
       "version_minor": 0
      },
      "text/plain": [
       "  0%|          | 0/4000 [00:00<?, ?it/s]"
      ]
     },
     "metadata": {},
     "output_type": "display_data"
    },
    {
     "data": {
      "application/vnd.jupyter.widget-view+json": {
       "model_id": "39f09ca68a7341b8b1e41e802d5ca8b6",
       "version_major": 2,
       "version_minor": 0
      },
      "text/plain": [
       "  0%|          | 0/4000 [00:00<?, ?it/s]"
      ]
     },
     "metadata": {},
     "output_type": "display_data"
    },
    {
     "data": {
      "application/vnd.jupyter.widget-view+json": {
       "model_id": "fc0afc3b35b040fdbfb908466451a0e6",
       "version_major": 2,
       "version_minor": 0
      },
      "text/plain": [
       "  0%|          | 0/4000 [00:00<?, ?it/s]"
      ]
     },
     "metadata": {},
     "output_type": "display_data"
    },
    {
     "data": {
      "application/vnd.jupyter.widget-view+json": {
       "model_id": "e7d28ca4481b4e3f801619ea241afab8",
       "version_major": 2,
       "version_minor": 0
      },
      "text/plain": [
       "  0%|          | 0/4000 [00:00<?, ?it/s]"
      ]
     },
     "metadata": {},
     "output_type": "display_data"
    },
    {
     "data": {
      "application/vnd.jupyter.widget-view+json": {
       "model_id": "1230718b90bf41b2a080f6aefa624293",
       "version_major": 2,
       "version_minor": 0
      },
      "text/plain": [
       "  0%|          | 0/4000 [00:00<?, ?it/s]"
      ]
     },
     "metadata": {},
     "output_type": "display_data"
    },
    {
     "data": {
      "application/vnd.jupyter.widget-view+json": {
       "model_id": "2fabc4e6ceb54b2aace72261e534e404",
       "version_major": 2,
       "version_minor": 0
      },
      "text/plain": [
       "  0%|          | 0/4000 [00:00<?, ?it/s]"
      ]
     },
     "metadata": {},
     "output_type": "display_data"
    },
    {
     "data": {
      "application/vnd.jupyter.widget-view+json": {
       "model_id": "aab7d5faad4d4c0a92e5cd10b77496c6",
       "version_major": 2,
       "version_minor": 0
      },
      "text/plain": [
       "  0%|          | 0/4000 [00:00<?, ?it/s]"
      ]
     },
     "metadata": {},
     "output_type": "display_data"
    },
    {
     "data": {
      "application/vnd.jupyter.widget-view+json": {
       "model_id": "649ba8fe934749c7a94473f30fdf151d",
       "version_major": 2,
       "version_minor": 0
      },
      "text/plain": [
       "  0%|          | 0/4000 [00:00<?, ?it/s]"
      ]
     },
     "metadata": {},
     "output_type": "display_data"
    },
    {
     "data": {
      "application/vnd.jupyter.widget-view+json": {
       "model_id": "6365254c455e426b871bad4d4cdae9c2",
       "version_major": 2,
       "version_minor": 0
      },
      "text/plain": [
       "  0%|          | 0/4000 [00:00<?, ?it/s]"
      ]
     },
     "metadata": {},
     "output_type": "display_data"
    },
    {
     "data": {
      "application/vnd.jupyter.widget-view+json": {
       "model_id": "3ddbe5f392b9420fa18b741600eca1df",
       "version_major": 2,
       "version_minor": 0
      },
      "text/plain": [
       "  0%|          | 0/4000 [00:00<?, ?it/s]"
      ]
     },
     "metadata": {},
     "output_type": "display_data"
    },
    {
     "data": {
      "application/vnd.jupyter.widget-view+json": {
       "model_id": "fa433f66886b49c2b1e4a436535b0d97",
       "version_major": 2,
       "version_minor": 0
      },
      "text/plain": [
       "  0%|          | 0/4000 [00:00<?, ?it/s]"
      ]
     },
     "metadata": {},
     "output_type": "display_data"
    },
    {
     "data": {
      "application/vnd.jupyter.widget-view+json": {
       "model_id": "cbb178d184b348fbaab730f10c7b6249",
       "version_major": 2,
       "version_minor": 0
      },
      "text/plain": [
       "  0%|          | 0/4000 [00:00<?, ?it/s]"
      ]
     },
     "metadata": {},
     "output_type": "display_data"
    },
    {
     "data": {
      "application/vnd.jupyter.widget-view+json": {
       "model_id": "0774a7c74d2445059187e90b050f1716",
       "version_major": 2,
       "version_minor": 0
      },
      "text/plain": [
       "  0%|          | 0/4000 [00:00<?, ?it/s]"
      ]
     },
     "metadata": {},
     "output_type": "display_data"
    },
    {
     "data": {
      "application/vnd.jupyter.widget-view+json": {
       "model_id": "5521d02ffdf9438385c0aacecfd10d7e",
       "version_major": 2,
       "version_minor": 0
      },
      "text/plain": [
       "  0%|          | 0/4000 [00:00<?, ?it/s]"
      ]
     },
     "metadata": {},
     "output_type": "display_data"
    },
    {
     "data": {
      "application/vnd.jupyter.widget-view+json": {
       "model_id": "582ac462522d449b81fc176755d6876b",
       "version_major": 2,
       "version_minor": 0
      },
      "text/plain": [
       "  0%|          | 0/4000 [00:00<?, ?it/s]"
      ]
     },
     "metadata": {},
     "output_type": "display_data"
    },
    {
     "data": {
      "application/vnd.jupyter.widget-view+json": {
       "model_id": "ef7f947611e440dbac3424dd4af59ef6",
       "version_major": 2,
       "version_minor": 0
      },
      "text/plain": [
       "  0%|          | 0/4000 [00:00<?, ?it/s]"
      ]
     },
     "metadata": {},
     "output_type": "display_data"
    },
    {
     "data": {
      "application/vnd.jupyter.widget-view+json": {
       "model_id": "1066c26462c843d5afbcbedd4bfddf89",
       "version_major": 2,
       "version_minor": 0
      },
      "text/plain": [
       "  0%|          | 0/4000 [00:00<?, ?it/s]"
      ]
     },
     "metadata": {},
     "output_type": "display_data"
    },
    {
     "data": {
      "application/vnd.jupyter.widget-view+json": {
       "model_id": "54de474ec26e49b8aa3ab58e7093de10",
       "version_major": 2,
       "version_minor": 0
      },
      "text/plain": [
       "  0%|          | 0/4000 [00:00<?, ?it/s]"
      ]
     },
     "metadata": {},
     "output_type": "display_data"
    },
    {
     "data": {
      "application/vnd.jupyter.widget-view+json": {
       "model_id": "d3b3c3bdd247480bae7fd270a6746bcc",
       "version_major": 2,
       "version_minor": 0
      },
      "text/plain": [
       "  0%|          | 0/4000 [00:00<?, ?it/s]"
      ]
     },
     "metadata": {},
     "output_type": "display_data"
    },
    {
     "data": {
      "application/vnd.jupyter.widget-view+json": {
       "model_id": "5758fab9e0b84b96854cc5bbf264dd32",
       "version_major": 2,
       "version_minor": 0
      },
      "text/plain": [
       "  0%|          | 0/4000 [00:00<?, ?it/s]"
      ]
     },
     "metadata": {},
     "output_type": "display_data"
    },
    {
     "data": {
      "application/vnd.jupyter.widget-view+json": {
       "model_id": "61cb370ca9134324acbf3d062ee97cd1",
       "version_major": 2,
       "version_minor": 0
      },
      "text/plain": [
       "  0%|          | 0/4000 [00:00<?, ?it/s]"
      ]
     },
     "metadata": {},
     "output_type": "display_data"
    },
    {
     "data": {
      "application/vnd.jupyter.widget-view+json": {
       "model_id": "81307cd1e15e45f497317454004d5fb2",
       "version_major": 2,
       "version_minor": 0
      },
      "text/plain": [
       "  0%|          | 0/4000 [00:00<?, ?it/s]"
      ]
     },
     "metadata": {},
     "output_type": "display_data"
    },
    {
     "data": {
      "application/vnd.jupyter.widget-view+json": {
       "model_id": "f6f0756c97fe417ea3c643086e4ad2fa",
       "version_major": 2,
       "version_minor": 0
      },
      "text/plain": [
       "  0%|          | 0/4000 [00:00<?, ?it/s]"
      ]
     },
     "metadata": {},
     "output_type": "display_data"
    },
    {
     "data": {
      "application/vnd.jupyter.widget-view+json": {
       "model_id": "1a8be8904f86409da68280d1884ec3b0",
       "version_major": 2,
       "version_minor": 0
      },
      "text/plain": [
       "  0%|          | 0/4000 [00:00<?, ?it/s]"
      ]
     },
     "metadata": {},
     "output_type": "display_data"
    },
    {
     "data": {
      "application/vnd.jupyter.widget-view+json": {
       "model_id": "8f1fd0a2170f4c63b3c3aeaca566892f",
       "version_major": 2,
       "version_minor": 0
      },
      "text/plain": [
       "  0%|          | 0/4000 [00:00<?, ?it/s]"
      ]
     },
     "metadata": {},
     "output_type": "display_data"
    },
    {
     "data": {
      "application/vnd.jupyter.widget-view+json": {
       "model_id": "a04f5df418eb44c4854e8eed086d9a32",
       "version_major": 2,
       "version_minor": 0
      },
      "text/plain": [
       "  0%|          | 0/4000 [00:00<?, ?it/s]"
      ]
     },
     "metadata": {},
     "output_type": "display_data"
    },
    {
     "data": {
      "application/vnd.jupyter.widget-view+json": {
       "model_id": "d387cc311fc54f578f7ccfab6f17b5cc",
       "version_major": 2,
       "version_minor": 0
      },
      "text/plain": [
       "  0%|          | 0/4000 [00:00<?, ?it/s]"
      ]
     },
     "metadata": {},
     "output_type": "display_data"
    },
    {
     "data": {
      "application/vnd.jupyter.widget-view+json": {
       "model_id": "e0301fe8af8b4f12bf533a84072bd6da",
       "version_major": 2,
       "version_minor": 0
      },
      "text/plain": [
       "  0%|          | 0/4000 [00:00<?, ?it/s]"
      ]
     },
     "metadata": {},
     "output_type": "display_data"
    },
    {
     "data": {
      "application/vnd.jupyter.widget-view+json": {
       "model_id": "ac4c636f18be4b72acc04c53ead4fd4a",
       "version_major": 2,
       "version_minor": 0
      },
      "text/plain": [
       "  0%|          | 0/4000 [00:00<?, ?it/s]"
      ]
     },
     "metadata": {},
     "output_type": "display_data"
    },
    {
     "data": {
      "application/vnd.jupyter.widget-view+json": {
       "model_id": "ccdf6e7ea393456e9de08fc522a0ed6a",
       "version_major": 2,
       "version_minor": 0
      },
      "text/plain": [
       "  0%|          | 0/4000 [00:00<?, ?it/s]"
      ]
     },
     "metadata": {},
     "output_type": "display_data"
    },
    {
     "data": {
      "application/vnd.jupyter.widget-view+json": {
       "model_id": "35a6ae3c4e194eed9302370ad78067a7",
       "version_major": 2,
       "version_minor": 0
      },
      "text/plain": [
       "  0%|          | 0/4000 [00:00<?, ?it/s]"
      ]
     },
     "metadata": {},
     "output_type": "display_data"
    },
    {
     "data": {
      "application/vnd.jupyter.widget-view+json": {
       "model_id": "d9bc29d4c6444dc99eb51f6eb9c80257",
       "version_major": 2,
       "version_minor": 0
      },
      "text/plain": [
       "  0%|          | 0/4000 [00:00<?, ?it/s]"
      ]
     },
     "metadata": {},
     "output_type": "display_data"
    },
    {
     "data": {
      "application/vnd.jupyter.widget-view+json": {
       "model_id": "b71629d512e54ce58ed32d93391ec1ae",
       "version_major": 2,
       "version_minor": 0
      },
      "text/plain": [
       "  0%|          | 0/4000 [00:00<?, ?it/s]"
      ]
     },
     "metadata": {},
     "output_type": "display_data"
    },
    {
     "data": {
      "application/vnd.jupyter.widget-view+json": {
       "model_id": "8676bf970de243fa98792a86f812c144",
       "version_major": 2,
       "version_minor": 0
      },
      "text/plain": [
       "  0%|          | 0/4000 [00:00<?, ?it/s]"
      ]
     },
     "metadata": {},
     "output_type": "display_data"
    },
    {
     "data": {
      "application/vnd.jupyter.widget-view+json": {
       "model_id": "b3350287e3c9437eaad88d17c2d9b337",
       "version_major": 2,
       "version_minor": 0
      },
      "text/plain": [
       "  0%|          | 0/4000 [00:00<?, ?it/s]"
      ]
     },
     "metadata": {},
     "output_type": "display_data"
    },
    {
     "data": {
      "application/vnd.jupyter.widget-view+json": {
       "model_id": "e5278c2231f64315af20b0b132405347",
       "version_major": 2,
       "version_minor": 0
      },
      "text/plain": [
       "  0%|          | 0/4000 [00:00<?, ?it/s]"
      ]
     },
     "metadata": {},
     "output_type": "display_data"
    },
    {
     "data": {
      "application/vnd.jupyter.widget-view+json": {
       "model_id": "8af1f85744ac45149e405070325a922c",
       "version_major": 2,
       "version_minor": 0
      },
      "text/plain": [
       "  0%|          | 0/4000 [00:00<?, ?it/s]"
      ]
     },
     "metadata": {},
     "output_type": "display_data"
    },
    {
     "data": {
      "application/vnd.jupyter.widget-view+json": {
       "model_id": "6f6aa4f8a0614b94ada43c588772d0f3",
       "version_major": 2,
       "version_minor": 0
      },
      "text/plain": [
       "  0%|          | 0/4000 [00:00<?, ?it/s]"
      ]
     },
     "metadata": {},
     "output_type": "display_data"
    },
    {
     "data": {
      "application/vnd.jupyter.widget-view+json": {
       "model_id": "9c70538cc075492b950beb6b165c31b6",
       "version_major": 2,
       "version_minor": 0
      },
      "text/plain": [
       "  0%|          | 0/4000 [00:00<?, ?it/s]"
      ]
     },
     "metadata": {},
     "output_type": "display_data"
    },
    {
     "data": {
      "application/vnd.jupyter.widget-view+json": {
       "model_id": "f5c7cc75807e4d65a80981285b6bc303",
       "version_major": 2,
       "version_minor": 0
      },
      "text/plain": [
       "  0%|          | 0/4000 [00:00<?, ?it/s]"
      ]
     },
     "metadata": {},
     "output_type": "display_data"
    },
    {
     "data": {
      "application/vnd.jupyter.widget-view+json": {
       "model_id": "80b55c32fbd746489a3eca523f4f8301",
       "version_major": 2,
       "version_minor": 0
      },
      "text/plain": [
       "  0%|          | 0/4000 [00:00<?, ?it/s]"
      ]
     },
     "metadata": {},
     "output_type": "display_data"
    },
    {
     "data": {
      "application/vnd.jupyter.widget-view+json": {
       "model_id": "4e6fe95691914b088414365da4a592e7",
       "version_major": 2,
       "version_minor": 0
      },
      "text/plain": [
       "  0%|          | 0/4000 [00:00<?, ?it/s]"
      ]
     },
     "metadata": {},
     "output_type": "display_data"
    },
    {
     "data": {
      "application/vnd.jupyter.widget-view+json": {
       "model_id": "cfe46838a51b43ba969becddc4a49581",
       "version_major": 2,
       "version_minor": 0
      },
      "text/plain": [
       "  0%|          | 0/4000 [00:00<?, ?it/s]"
      ]
     },
     "metadata": {},
     "output_type": "display_data"
    },
    {
     "data": {
      "application/vnd.jupyter.widget-view+json": {
       "model_id": "f8eb63c8efe14cf1a9a3dc4aaf24e8fe",
       "version_major": 2,
       "version_minor": 0
      },
      "text/plain": [
       "  0%|          | 0/4000 [00:00<?, ?it/s]"
      ]
     },
     "metadata": {},
     "output_type": "display_data"
    },
    {
     "data": {
      "application/vnd.jupyter.widget-view+json": {
       "model_id": "9449d62881af4fbaa197ab2ecdc8df03",
       "version_major": 2,
       "version_minor": 0
      },
      "text/plain": [
       "  0%|          | 0/4000 [00:00<?, ?it/s]"
      ]
     },
     "metadata": {},
     "output_type": "display_data"
    },
    {
     "data": {
      "application/vnd.jupyter.widget-view+json": {
       "model_id": "fe9db3da7154404e9f921c1b6f7a4aaf",
       "version_major": 2,
       "version_minor": 0
      },
      "text/plain": [
       "  0%|          | 0/4000 [00:00<?, ?it/s]"
      ]
     },
     "metadata": {},
     "output_type": "display_data"
    },
    {
     "data": {
      "application/vnd.jupyter.widget-view+json": {
       "model_id": "a473731a3d7f4130974d9e27c89e8039",
       "version_major": 2,
       "version_minor": 0
      },
      "text/plain": [
       "  0%|          | 0/4000 [00:00<?, ?it/s]"
      ]
     },
     "metadata": {},
     "output_type": "display_data"
    },
    {
     "data": {
      "application/vnd.jupyter.widget-view+json": {
       "model_id": "64ab991fe45a4288bb1173cdc4242d35",
       "version_major": 2,
       "version_minor": 0
      },
      "text/plain": [
       "  0%|          | 0/4000 [00:00<?, ?it/s]"
      ]
     },
     "metadata": {},
     "output_type": "display_data"
    },
    {
     "data": {
      "application/vnd.jupyter.widget-view+json": {
       "model_id": "bc0bb7b025c048ebb66a1fe831ed908d",
       "version_major": 2,
       "version_minor": 0
      },
      "text/plain": [
       "  0%|          | 0/4000 [00:00<?, ?it/s]"
      ]
     },
     "metadata": {},
     "output_type": "display_data"
    },
    {
     "data": {
      "application/vnd.jupyter.widget-view+json": {
       "model_id": "4eef52c780284258acefc359ec57351c",
       "version_major": 2,
       "version_minor": 0
      },
      "text/plain": [
       "  0%|          | 0/4000 [00:00<?, ?it/s]"
      ]
     },
     "metadata": {},
     "output_type": "display_data"
    },
    {
     "data": {
      "application/vnd.jupyter.widget-view+json": {
       "model_id": "5d6fa77cd83a4903bf92dd7a57ec5383",
       "version_major": 2,
       "version_minor": 0
      },
      "text/plain": [
       "  0%|          | 0/4000 [00:00<?, ?it/s]"
      ]
     },
     "metadata": {},
     "output_type": "display_data"
    },
    {
     "data": {
      "application/vnd.jupyter.widget-view+json": {
       "model_id": "e239164e20e848fba8ef19617295dde6",
       "version_major": 2,
       "version_minor": 0
      },
      "text/plain": [
       "  0%|          | 0/4000 [00:00<?, ?it/s]"
      ]
     },
     "metadata": {},
     "output_type": "display_data"
    },
    {
     "data": {
      "application/vnd.jupyter.widget-view+json": {
       "model_id": "a39b91d06c554fe98870788122d766c8",
       "version_major": 2,
       "version_minor": 0
      },
      "text/plain": [
       "  0%|          | 0/4000 [00:00<?, ?it/s]"
      ]
     },
     "metadata": {},
     "output_type": "display_data"
    },
    {
     "data": {
      "application/vnd.jupyter.widget-view+json": {
       "model_id": "d259473f65804b43a04d589441974ac5",
       "version_major": 2,
       "version_minor": 0
      },
      "text/plain": [
       "  0%|          | 0/4000 [00:00<?, ?it/s]"
      ]
     },
     "metadata": {},
     "output_type": "display_data"
    },
    {
     "data": {
      "application/vnd.jupyter.widget-view+json": {
       "model_id": "ed27286a97be470f8f0554b39fb353ac",
       "version_major": 2,
       "version_minor": 0
      },
      "text/plain": [
       "  0%|          | 0/4000 [00:00<?, ?it/s]"
      ]
     },
     "metadata": {},
     "output_type": "display_data"
    },
    {
     "data": {
      "application/vnd.jupyter.widget-view+json": {
       "model_id": "87f0ea6fd0ec427c9b168240b0cfe197",
       "version_major": 2,
       "version_minor": 0
      },
      "text/plain": [
       "  0%|          | 0/4000 [00:00<?, ?it/s]"
      ]
     },
     "metadata": {},
     "output_type": "display_data"
    },
    {
     "data": {
      "application/vnd.jupyter.widget-view+json": {
       "model_id": "80e39f8c14204cab8ab5541ca4445c0e",
       "version_major": 2,
       "version_minor": 0
      },
      "text/plain": [
       "  0%|          | 0/4000 [00:00<?, ?it/s]"
      ]
     },
     "metadata": {},
     "output_type": "display_data"
    },
    {
     "data": {
      "application/vnd.jupyter.widget-view+json": {
       "model_id": "3d2dab04ae574b8eb55204ff216840d3",
       "version_major": 2,
       "version_minor": 0
      },
      "text/plain": [
       "  0%|          | 0/4000 [00:00<?, ?it/s]"
      ]
     },
     "metadata": {},
     "output_type": "display_data"
    },
    {
     "data": {
      "application/vnd.jupyter.widget-view+json": {
       "model_id": "d16314b9561241d4bfc76c1c537c1457",
       "version_major": 2,
       "version_minor": 0
      },
      "text/plain": [
       "  0%|          | 0/4000 [00:00<?, ?it/s]"
      ]
     },
     "metadata": {},
     "output_type": "display_data"
    },
    {
     "data": {
      "application/vnd.jupyter.widget-view+json": {
       "model_id": "1588c0f49f994c9e90e1304a555e73c3",
       "version_major": 2,
       "version_minor": 0
      },
      "text/plain": [
       "  0%|          | 0/4000 [00:00<?, ?it/s]"
      ]
     },
     "metadata": {},
     "output_type": "display_data"
    },
    {
     "data": {
      "application/vnd.jupyter.widget-view+json": {
       "model_id": "cd8ea14f19804a5a95341a0ed1488810",
       "version_major": 2,
       "version_minor": 0
      },
      "text/plain": [
       "  0%|          | 0/4000 [00:00<?, ?it/s]"
      ]
     },
     "metadata": {},
     "output_type": "display_data"
    },
    {
     "data": {
      "application/vnd.jupyter.widget-view+json": {
       "model_id": "d007e76066b141fab63447693da6b808",
       "version_major": 2,
       "version_minor": 0
      },
      "text/plain": [
       "  0%|          | 0/4000 [00:00<?, ?it/s]"
      ]
     },
     "metadata": {},
     "output_type": "display_data"
    },
    {
     "data": {
      "application/vnd.jupyter.widget-view+json": {
       "model_id": "01bc3e9b8bde40978adca2b9f6f2068c",
       "version_major": 2,
       "version_minor": 0
      },
      "text/plain": [
       "  0%|          | 0/4000 [00:00<?, ?it/s]"
      ]
     },
     "metadata": {},
     "output_type": "display_data"
    },
    {
     "data": {
      "application/vnd.jupyter.widget-view+json": {
       "model_id": "be681f5cba7e44409107d9971991e449",
       "version_major": 2,
       "version_minor": 0
      },
      "text/plain": [
       "  0%|          | 0/4000 [00:00<?, ?it/s]"
      ]
     },
     "metadata": {},
     "output_type": "display_data"
    },
    {
     "data": {
      "application/vnd.jupyter.widget-view+json": {
       "model_id": "62b093d611034534a5f5c212e1462cf2",
       "version_major": 2,
       "version_minor": 0
      },
      "text/plain": [
       "  0%|          | 0/4000 [00:00<?, ?it/s]"
      ]
     },
     "metadata": {},
     "output_type": "display_data"
    },
    {
     "data": {
      "application/vnd.jupyter.widget-view+json": {
       "model_id": "aa8e40844ce94664821fbdbfadfbd269",
       "version_major": 2,
       "version_minor": 0
      },
      "text/plain": [
       "  0%|          | 0/4000 [00:00<?, ?it/s]"
      ]
     },
     "metadata": {},
     "output_type": "display_data"
    },
    {
     "data": {
      "application/vnd.jupyter.widget-view+json": {
       "model_id": "b3503898fa2d44acb4f62c1407279d47",
       "version_major": 2,
       "version_minor": 0
      },
      "text/plain": [
       "  0%|          | 0/4000 [00:00<?, ?it/s]"
      ]
     },
     "metadata": {},
     "output_type": "display_data"
    },
    {
     "data": {
      "application/vnd.jupyter.widget-view+json": {
       "model_id": "458a77c5c23c4751a3fca898da6fbae6",
       "version_major": 2,
       "version_minor": 0
      },
      "text/plain": [
       "  0%|          | 0/4000 [00:00<?, ?it/s]"
      ]
     },
     "metadata": {},
     "output_type": "display_data"
    },
    {
     "data": {
      "application/vnd.jupyter.widget-view+json": {
       "model_id": "d0939e084db54bf390d5496740c6d176",
       "version_major": 2,
       "version_minor": 0
      },
      "text/plain": [
       "  0%|          | 0/4000 [00:00<?, ?it/s]"
      ]
     },
     "metadata": {},
     "output_type": "display_data"
    },
    {
     "data": {
      "application/vnd.jupyter.widget-view+json": {
       "model_id": "900257303e6742ce8f8ab200cf72dba0",
       "version_major": 2,
       "version_minor": 0
      },
      "text/plain": [
       "  0%|          | 0/4000 [00:00<?, ?it/s]"
      ]
     },
     "metadata": {},
     "output_type": "display_data"
    },
    {
     "data": {
      "application/vnd.jupyter.widget-view+json": {
       "model_id": "dbe0360c4a274869b1367cdc4745f23c",
       "version_major": 2,
       "version_minor": 0
      },
      "text/plain": [
       "  0%|          | 0/4000 [00:00<?, ?it/s]"
      ]
     },
     "metadata": {},
     "output_type": "display_data"
    },
    {
     "data": {
      "application/vnd.jupyter.widget-view+json": {
       "model_id": "554be85032e34b6ca776507d5e80e3d0",
       "version_major": 2,
       "version_minor": 0
      },
      "text/plain": [
       "  0%|          | 0/4000 [00:00<?, ?it/s]"
      ]
     },
     "metadata": {},
     "output_type": "display_data"
    },
    {
     "data": {
      "application/vnd.jupyter.widget-view+json": {
       "model_id": "2b94913fb777461f984cf157be5106fa",
       "version_major": 2,
       "version_minor": 0
      },
      "text/plain": [
       "  0%|          | 0/4000 [00:00<?, ?it/s]"
      ]
     },
     "metadata": {},
     "output_type": "display_data"
    },
    {
     "data": {
      "application/vnd.jupyter.widget-view+json": {
       "model_id": "596ea8ade47a41529c01edd1e4a2e5a4",
       "version_major": 2,
       "version_minor": 0
      },
      "text/plain": [
       "  0%|          | 0/4000 [00:00<?, ?it/s]"
      ]
     },
     "metadata": {},
     "output_type": "display_data"
    },
    {
     "data": {
      "application/vnd.jupyter.widget-view+json": {
       "model_id": "054d3ceb6b1344548eb77cc8ff4d6559",
       "version_major": 2,
       "version_minor": 0
      },
      "text/plain": [
       "  0%|          | 0/4000 [00:00<?, ?it/s]"
      ]
     },
     "metadata": {},
     "output_type": "display_data"
    },
    {
     "data": {
      "application/vnd.jupyter.widget-view+json": {
       "model_id": "5fe4063fb0b4476783871ca99149543f",
       "version_major": 2,
       "version_minor": 0
      },
      "text/plain": [
       "  0%|          | 0/4000 [00:00<?, ?it/s]"
      ]
     },
     "metadata": {},
     "output_type": "display_data"
    },
    {
     "data": {
      "application/vnd.jupyter.widget-view+json": {
       "model_id": "0926ca1f4e15462a8b8733fe7972efc6",
       "version_major": 2,
       "version_minor": 0
      },
      "text/plain": [
       "  0%|          | 0/4000 [00:00<?, ?it/s]"
      ]
     },
     "metadata": {},
     "output_type": "display_data"
    },
    {
     "data": {
      "application/vnd.jupyter.widget-view+json": {
       "model_id": "0172caa36d104b1398084a4ef45edf74",
       "version_major": 2,
       "version_minor": 0
      },
      "text/plain": [
       "  0%|          | 0/4000 [00:00<?, ?it/s]"
      ]
     },
     "metadata": {},
     "output_type": "display_data"
    },
    {
     "data": {
      "application/vnd.jupyter.widget-view+json": {
       "model_id": "bac5b6e799d6477b8c93eaa29027989c",
       "version_major": 2,
       "version_minor": 0
      },
      "text/plain": [
       "  0%|          | 0/4000 [00:00<?, ?it/s]"
      ]
     },
     "metadata": {},
     "output_type": "display_data"
    },
    {
     "data": {
      "application/vnd.jupyter.widget-view+json": {
       "model_id": "b36a31c006634929a6325ebf92b78dff",
       "version_major": 2,
       "version_minor": 0
      },
      "text/plain": [
       "  0%|          | 0/4000 [00:00<?, ?it/s]"
      ]
     },
     "metadata": {},
     "output_type": "display_data"
    },
    {
     "data": {
      "application/vnd.jupyter.widget-view+json": {
       "model_id": "818d666725f947e4b69cc8f931bf4187",
       "version_major": 2,
       "version_minor": 0
      },
      "text/plain": [
       "  0%|          | 0/4000 [00:00<?, ?it/s]"
      ]
     },
     "metadata": {},
     "output_type": "display_data"
    },
    {
     "data": {
      "application/vnd.jupyter.widget-view+json": {
       "model_id": "730e7150ede0416098eeba19b37e7898",
       "version_major": 2,
       "version_minor": 0
      },
      "text/plain": [
       "  0%|          | 0/4000 [00:00<?, ?it/s]"
      ]
     },
     "metadata": {},
     "output_type": "display_data"
    },
    {
     "data": {
      "application/vnd.jupyter.widget-view+json": {
       "model_id": "73bca21496e64a6cb12f86d05f6c8c28",
       "version_major": 2,
       "version_minor": 0
      },
      "text/plain": [
       "  0%|          | 0/4000 [00:00<?, ?it/s]"
      ]
     },
     "metadata": {},
     "output_type": "display_data"
    },
    {
     "data": {
      "application/vnd.jupyter.widget-view+json": {
       "model_id": "d246414e051f47ca846e3e76968dc5b6",
       "version_major": 2,
       "version_minor": 0
      },
      "text/plain": [
       "  0%|          | 0/4000 [00:00<?, ?it/s]"
      ]
     },
     "metadata": {},
     "output_type": "display_data"
    },
    {
     "data": {
      "application/vnd.jupyter.widget-view+json": {
       "model_id": "ca3adf3b98f146afb035863d3961b5eb",
       "version_major": 2,
       "version_minor": 0
      },
      "text/plain": [
       "  0%|          | 0/4000 [00:00<?, ?it/s]"
      ]
     },
     "metadata": {},
     "output_type": "display_data"
    },
    {
     "data": {
      "application/vnd.jupyter.widget-view+json": {
       "model_id": "b41030c2939c4a25b9f421b82df25eea",
       "version_major": 2,
       "version_minor": 0
      },
      "text/plain": [
       "  0%|          | 0/4000 [00:00<?, ?it/s]"
      ]
     },
     "metadata": {},
     "output_type": "display_data"
    },
    {
     "data": {
      "application/vnd.jupyter.widget-view+json": {
       "model_id": "e649f88c9342429dbf891d405104f67e",
       "version_major": 2,
       "version_minor": 0
      },
      "text/plain": [
       "  0%|          | 0/4000 [00:00<?, ?it/s]"
      ]
     },
     "metadata": {},
     "output_type": "display_data"
    },
    {
     "data": {
      "application/vnd.jupyter.widget-view+json": {
       "model_id": "36f629856054453e9fea21e72475810c",
       "version_major": 2,
       "version_minor": 0
      },
      "text/plain": [
       "  0%|          | 0/4000 [00:00<?, ?it/s]"
      ]
     },
     "metadata": {},
     "output_type": "display_data"
    },
    {
     "data": {
      "application/vnd.jupyter.widget-view+json": {
       "model_id": "93b75ee2d3ea4ebc8d17dfa84d9e8a86",
       "version_major": 2,
       "version_minor": 0
      },
      "text/plain": [
       "  0%|          | 0/4000 [00:00<?, ?it/s]"
      ]
     },
     "metadata": {},
     "output_type": "display_data"
    },
    {
     "data": {
      "application/vnd.jupyter.widget-view+json": {
       "model_id": "1ec20fc385174b41b5aff6c7ca210ddf",
       "version_major": 2,
       "version_minor": 0
      },
      "text/plain": [
       "  0%|          | 0/4000 [00:00<?, ?it/s]"
      ]
     },
     "metadata": {},
     "output_type": "display_data"
    },
    {
     "data": {
      "application/vnd.jupyter.widget-view+json": {
       "model_id": "54d9cf63e79d4f0d98a0b5e9fedb720a",
       "version_major": 2,
       "version_minor": 0
      },
      "text/plain": [
       "  0%|          | 0/4000 [00:00<?, ?it/s]"
      ]
     },
     "metadata": {},
     "output_type": "display_data"
    },
    {
     "data": {
      "application/vnd.jupyter.widget-view+json": {
       "model_id": "2283a650001c42dc8ad16c871c917213",
       "version_major": 2,
       "version_minor": 0
      },
      "text/plain": [
       "  0%|          | 0/4000 [00:00<?, ?it/s]"
      ]
     },
     "metadata": {},
     "output_type": "display_data"
    },
    {
     "data": {
      "application/vnd.jupyter.widget-view+json": {
       "model_id": "e4708a1a6c35489aacc894644c924f64",
       "version_major": 2,
       "version_minor": 0
      },
      "text/plain": [
       "  0%|          | 0/4000 [00:00<?, ?it/s]"
      ]
     },
     "metadata": {},
     "output_type": "display_data"
    },
    {
     "data": {
      "application/vnd.jupyter.widget-view+json": {
       "model_id": "978a370f05b441d6844ae5753ec69d91",
       "version_major": 2,
       "version_minor": 0
      },
      "text/plain": [
       "  0%|          | 0/4000 [00:00<?, ?it/s]"
      ]
     },
     "metadata": {},
     "output_type": "display_data"
    },
    {
     "data": {
      "application/vnd.jupyter.widget-view+json": {
       "model_id": "d8c2f021909145fea65127b239ed5e0a",
       "version_major": 2,
       "version_minor": 0
      },
      "text/plain": [
       "  0%|          | 0/4000 [00:00<?, ?it/s]"
      ]
     },
     "metadata": {},
     "output_type": "display_data"
    },
    {
     "data": {
      "application/vnd.jupyter.widget-view+json": {
       "model_id": "2e0aee7e8a7f4f19a2f123faefa9c41e",
       "version_major": 2,
       "version_minor": 0
      },
      "text/plain": [
       "  0%|          | 0/4000 [00:00<?, ?it/s]"
      ]
     },
     "metadata": {},
     "output_type": "display_data"
    },
    {
     "data": {
      "application/vnd.jupyter.widget-view+json": {
       "model_id": "a9b35744449a4dbeae93ed851569120b",
       "version_major": 2,
       "version_minor": 0
      },
      "text/plain": [
       "  0%|          | 0/4000 [00:00<?, ?it/s]"
      ]
     },
     "metadata": {},
     "output_type": "display_data"
    },
    {
     "data": {
      "application/vnd.jupyter.widget-view+json": {
       "model_id": "b1c7ed977e904dcaab5747df130d8ec2",
       "version_major": 2,
       "version_minor": 0
      },
      "text/plain": [
       "  0%|          | 0/4000 [00:00<?, ?it/s]"
      ]
     },
     "metadata": {},
     "output_type": "display_data"
    },
    {
     "data": {
      "application/vnd.jupyter.widget-view+json": {
       "model_id": "23030e1b403940e78b0baf6d3523a1de",
       "version_major": 2,
       "version_minor": 0
      },
      "text/plain": [
       "  0%|          | 0/4000 [00:00<?, ?it/s]"
      ]
     },
     "metadata": {},
     "output_type": "display_data"
    },
    {
     "data": {
      "application/vnd.jupyter.widget-view+json": {
       "model_id": "81e3c39efb8e4085b969b4cf5fb68e8c",
       "version_major": 2,
       "version_minor": 0
      },
      "text/plain": [
       "  0%|          | 0/4000 [00:00<?, ?it/s]"
      ]
     },
     "metadata": {},
     "output_type": "display_data"
    },
    {
     "data": {
      "application/vnd.jupyter.widget-view+json": {
       "model_id": "043d0ff6ef5c46bf9b7b869d7924c691",
       "version_major": 2,
       "version_minor": 0
      },
      "text/plain": [
       "  0%|          | 0/4000 [00:00<?, ?it/s]"
      ]
     },
     "metadata": {},
     "output_type": "display_data"
    },
    {
     "data": {
      "application/vnd.jupyter.widget-view+json": {
       "model_id": "7fae26f5230e4c4db6cafdbbae7f580b",
       "version_major": 2,
       "version_minor": 0
      },
      "text/plain": [
       "  0%|          | 0/4000 [00:00<?, ?it/s]"
      ]
     },
     "metadata": {},
     "output_type": "display_data"
    },
    {
     "data": {
      "application/vnd.jupyter.widget-view+json": {
       "model_id": "f0d5aeb8f69b45248939e4c567417e9c",
       "version_major": 2,
       "version_minor": 0
      },
      "text/plain": [
       "  0%|          | 0/4000 [00:00<?, ?it/s]"
      ]
     },
     "metadata": {},
     "output_type": "display_data"
    },
    {
     "data": {
      "application/vnd.jupyter.widget-view+json": {
       "model_id": "5a21806823544c78a38e8e6d5d13df36",
       "version_major": 2,
       "version_minor": 0
      },
      "text/plain": [
       "  0%|          | 0/4000 [00:00<?, ?it/s]"
      ]
     },
     "metadata": {},
     "output_type": "display_data"
    },
    {
     "data": {
      "application/vnd.jupyter.widget-view+json": {
       "model_id": "c465709a01f84763b288b89a673fd193",
       "version_major": 2,
       "version_minor": 0
      },
      "text/plain": [
       "  0%|          | 0/4000 [00:00<?, ?it/s]"
      ]
     },
     "metadata": {},
     "output_type": "display_data"
    },
    {
     "data": {
      "application/vnd.jupyter.widget-view+json": {
       "model_id": "a994735c8d394298997d00080fb7eb83",
       "version_major": 2,
       "version_minor": 0
      },
      "text/plain": [
       "  0%|          | 0/4000 [00:00<?, ?it/s]"
      ]
     },
     "metadata": {},
     "output_type": "display_data"
    },
    {
     "data": {
      "application/vnd.jupyter.widget-view+json": {
       "model_id": "fa38450f5bf64408bf1f95f5e26f7468",
       "version_major": 2,
       "version_minor": 0
      },
      "text/plain": [
       "  0%|          | 0/4000 [00:00<?, ?it/s]"
      ]
     },
     "metadata": {},
     "output_type": "display_data"
    },
    {
     "data": {
      "application/vnd.jupyter.widget-view+json": {
       "model_id": "dfd457868f3e45f8ae37c232be12f61a",
       "version_major": 2,
       "version_minor": 0
      },
      "text/plain": [
       "  0%|          | 0/4000 [00:00<?, ?it/s]"
      ]
     },
     "metadata": {},
     "output_type": "display_data"
    },
    {
     "data": {
      "application/vnd.jupyter.widget-view+json": {
       "model_id": "bf785f543ec84db7b46982b0493a4e79",
       "version_major": 2,
       "version_minor": 0
      },
      "text/plain": [
       "  0%|          | 0/4000 [00:00<?, ?it/s]"
      ]
     },
     "metadata": {},
     "output_type": "display_data"
    },
    {
     "data": {
      "application/vnd.jupyter.widget-view+json": {
       "model_id": "a152757121d74d1ab2efebaa847272eb",
       "version_major": 2,
       "version_minor": 0
      },
      "text/plain": [
       "  0%|          | 0/4000 [00:00<?, ?it/s]"
      ]
     },
     "metadata": {},
     "output_type": "display_data"
    },
    {
     "data": {
      "application/vnd.jupyter.widget-view+json": {
       "model_id": "8e9e36904aa94e6fb2a5cd9f75c8165d",
       "version_major": 2,
       "version_minor": 0
      },
      "text/plain": [
       "  0%|          | 0/4000 [00:00<?, ?it/s]"
      ]
     },
     "metadata": {},
     "output_type": "display_data"
    },
    {
     "data": {
      "application/vnd.jupyter.widget-view+json": {
       "model_id": "7dea36c65d404177b41bf6410bec2931",
       "version_major": 2,
       "version_minor": 0
      },
      "text/plain": [
       "  0%|          | 0/4000 [00:00<?, ?it/s]"
      ]
     },
     "metadata": {},
     "output_type": "display_data"
    },
    {
     "data": {
      "application/vnd.jupyter.widget-view+json": {
       "model_id": "c825d596619b4a04899908c97a4e01ae",
       "version_major": 2,
       "version_minor": 0
      },
      "text/plain": [
       "  0%|          | 0/4000 [00:00<?, ?it/s]"
      ]
     },
     "metadata": {},
     "output_type": "display_data"
    },
    {
     "data": {
      "application/vnd.jupyter.widget-view+json": {
       "model_id": "cf0760f20fa94058bf57cdaeec141638",
       "version_major": 2,
       "version_minor": 0
      },
      "text/plain": [
       "  0%|          | 0/4000 [00:00<?, ?it/s]"
      ]
     },
     "metadata": {},
     "output_type": "display_data"
    },
    {
     "data": {
      "application/vnd.jupyter.widget-view+json": {
       "model_id": "0694947ad4904f2fa44c6594d8aecbe3",
       "version_major": 2,
       "version_minor": 0
      },
      "text/plain": [
       "  0%|          | 0/4000 [00:00<?, ?it/s]"
      ]
     },
     "metadata": {},
     "output_type": "display_data"
    },
    {
     "data": {
      "application/vnd.jupyter.widget-view+json": {
       "model_id": "4b11be46183e450c8b62d6d8b60c3b8e",
       "version_major": 2,
       "version_minor": 0
      },
      "text/plain": [
       "  0%|          | 0/4000 [00:00<?, ?it/s]"
      ]
     },
     "metadata": {},
     "output_type": "display_data"
    },
    {
     "data": {
      "application/vnd.jupyter.widget-view+json": {
       "model_id": "e34e039026364a10b0ef6e72981945ac",
       "version_major": 2,
       "version_minor": 0
      },
      "text/plain": [
       "  0%|          | 0/4000 [00:00<?, ?it/s]"
      ]
     },
     "metadata": {},
     "output_type": "display_data"
    },
    {
     "data": {
      "application/vnd.jupyter.widget-view+json": {
       "model_id": "4bfcc8a727204f2fa6687bc29aaaf997",
       "version_major": 2,
       "version_minor": 0
      },
      "text/plain": [
       "  0%|          | 0/4000 [00:00<?, ?it/s]"
      ]
     },
     "metadata": {},
     "output_type": "display_data"
    },
    {
     "data": {
      "application/vnd.jupyter.widget-view+json": {
       "model_id": "43da368b67f84e24949bc642b2f321ac",
       "version_major": 2,
       "version_minor": 0
      },
      "text/plain": [
       "  0%|          | 0/4000 [00:00<?, ?it/s]"
      ]
     },
     "metadata": {},
     "output_type": "display_data"
    },
    {
     "data": {
      "application/vnd.jupyter.widget-view+json": {
       "model_id": "247be30fce4645ca8e0bbde992c3ff1b",
       "version_major": 2,
       "version_minor": 0
      },
      "text/plain": [
       "  0%|          | 0/4000 [00:00<?, ?it/s]"
      ]
     },
     "metadata": {},
     "output_type": "display_data"
    },
    {
     "data": {
      "application/vnd.jupyter.widget-view+json": {
       "model_id": "081b95dbf27842499bbf492112008f52",
       "version_major": 2,
       "version_minor": 0
      },
      "text/plain": [
       "  0%|          | 0/4000 [00:00<?, ?it/s]"
      ]
     },
     "metadata": {},
     "output_type": "display_data"
    },
    {
     "data": {
      "application/vnd.jupyter.widget-view+json": {
       "model_id": "878be4f029fe43b7b41219855662ad05",
       "version_major": 2,
       "version_minor": 0
      },
      "text/plain": [
       "  0%|          | 0/4000 [00:00<?, ?it/s]"
      ]
     },
     "metadata": {},
     "output_type": "display_data"
    },
    {
     "data": {
      "application/vnd.jupyter.widget-view+json": {
       "model_id": "f9ea99bd88234fcb9de620ba910d7e73",
       "version_major": 2,
       "version_minor": 0
      },
      "text/plain": [
       "  0%|          | 0/4000 [00:00<?, ?it/s]"
      ]
     },
     "metadata": {},
     "output_type": "display_data"
    },
    {
     "data": {
      "application/vnd.jupyter.widget-view+json": {
       "model_id": "a893a348a44c49c1949cc314b3af5e8f",
       "version_major": 2,
       "version_minor": 0
      },
      "text/plain": [
       "  0%|          | 0/4000 [00:00<?, ?it/s]"
      ]
     },
     "metadata": {},
     "output_type": "display_data"
    },
    {
     "data": {
      "application/vnd.jupyter.widget-view+json": {
       "model_id": "03072f7123ee44dc9974af68b4f4e05a",
       "version_major": 2,
       "version_minor": 0
      },
      "text/plain": [
       "  0%|          | 0/4000 [00:00<?, ?it/s]"
      ]
     },
     "metadata": {},
     "output_type": "display_data"
    },
    {
     "data": {
      "application/vnd.jupyter.widget-view+json": {
       "model_id": "557c7e39b6bb474f814deca86c090781",
       "version_major": 2,
       "version_minor": 0
      },
      "text/plain": [
       "  0%|          | 0/4000 [00:00<?, ?it/s]"
      ]
     },
     "metadata": {},
     "output_type": "display_data"
    },
    {
     "data": {
      "application/vnd.jupyter.widget-view+json": {
       "model_id": "a73d6acf714c49179132d2c2aaf8b311",
       "version_major": 2,
       "version_minor": 0
      },
      "text/plain": [
       "  0%|          | 0/4000 [00:00<?, ?it/s]"
      ]
     },
     "metadata": {},
     "output_type": "display_data"
    },
    {
     "data": {
      "application/vnd.jupyter.widget-view+json": {
       "model_id": "36a4e0416af44d12bf5129e7ca354b92",
       "version_major": 2,
       "version_minor": 0
      },
      "text/plain": [
       "  0%|          | 0/4000 [00:00<?, ?it/s]"
      ]
     },
     "metadata": {},
     "output_type": "display_data"
    },
    {
     "data": {
      "application/vnd.jupyter.widget-view+json": {
       "model_id": "85277b612818495ea79500574ac8efe5",
       "version_major": 2,
       "version_minor": 0
      },
      "text/plain": [
       "  0%|          | 0/4000 [00:00<?, ?it/s]"
      ]
     },
     "metadata": {},
     "output_type": "display_data"
    },
    {
     "data": {
      "application/vnd.jupyter.widget-view+json": {
       "model_id": "e5ceb8dc93444bb6984475110e98bbe6",
       "version_major": 2,
       "version_minor": 0
      },
      "text/plain": [
       "  0%|          | 0/4000 [00:00<?, ?it/s]"
      ]
     },
     "metadata": {},
     "output_type": "display_data"
    },
    {
     "data": {
      "application/vnd.jupyter.widget-view+json": {
       "model_id": "1aa48babecfa430c8526004fbe7addb9",
       "version_major": 2,
       "version_minor": 0
      },
      "text/plain": [
       "  0%|          | 0/4000 [00:00<?, ?it/s]"
      ]
     },
     "metadata": {},
     "output_type": "display_data"
    },
    {
     "data": {
      "application/vnd.jupyter.widget-view+json": {
       "model_id": "220ee4541bdc4668a403d67454c9c011",
       "version_major": 2,
       "version_minor": 0
      },
      "text/plain": [
       "  0%|          | 0/4000 [00:00<?, ?it/s]"
      ]
     },
     "metadata": {},
     "output_type": "display_data"
    },
    {
     "data": {
      "application/vnd.jupyter.widget-view+json": {
       "model_id": "9ddfb00d38664ae59ce56eb5f89062d1",
       "version_major": 2,
       "version_minor": 0
      },
      "text/plain": [
       "  0%|          | 0/4000 [00:00<?, ?it/s]"
      ]
     },
     "metadata": {},
     "output_type": "display_data"
    },
    {
     "data": {
      "application/vnd.jupyter.widget-view+json": {
       "model_id": "20f3d55d90714edea855a0ecefa401b3",
       "version_major": 2,
       "version_minor": 0
      },
      "text/plain": [
       "  0%|          | 0/4000 [00:00<?, ?it/s]"
      ]
     },
     "metadata": {},
     "output_type": "display_data"
    },
    {
     "data": {
      "application/vnd.jupyter.widget-view+json": {
       "model_id": "e6000b51efc64f5bb11c91e065a458c0",
       "version_major": 2,
       "version_minor": 0
      },
      "text/plain": [
       "  0%|          | 0/4000 [00:00<?, ?it/s]"
      ]
     },
     "metadata": {},
     "output_type": "display_data"
    },
    {
     "data": {
      "application/vnd.jupyter.widget-view+json": {
       "model_id": "4feedce069ea40aeb953bfcbfeeb6b3a",
       "version_major": 2,
       "version_minor": 0
      },
      "text/plain": [
       "  0%|          | 0/4000 [00:00<?, ?it/s]"
      ]
     },
     "metadata": {},
     "output_type": "display_data"
    },
    {
     "data": {
      "application/vnd.jupyter.widget-view+json": {
       "model_id": "4b2f45f8f43646d7b0638986672f1b06",
       "version_major": 2,
       "version_minor": 0
      },
      "text/plain": [
       "  0%|          | 0/4000 [00:00<?, ?it/s]"
      ]
     },
     "metadata": {},
     "output_type": "display_data"
    },
    {
     "data": {
      "application/vnd.jupyter.widget-view+json": {
       "model_id": "30d4d099bfe049c88af045414eacbaf6",
       "version_major": 2,
       "version_minor": 0
      },
      "text/plain": [
       "  0%|          | 0/4000 [00:00<?, ?it/s]"
      ]
     },
     "metadata": {},
     "output_type": "display_data"
    },
    {
     "data": {
      "application/vnd.jupyter.widget-view+json": {
       "model_id": "d236645f832f432aa627d31f4ba6ed3d",
       "version_major": 2,
       "version_minor": 0
      },
      "text/plain": [
       "  0%|          | 0/4000 [00:00<?, ?it/s]"
      ]
     },
     "metadata": {},
     "output_type": "display_data"
    },
    {
     "data": {
      "application/vnd.jupyter.widget-view+json": {
       "model_id": "e99d4a8aa6da42b48f61def0b3979cfa",
       "version_major": 2,
       "version_minor": 0
      },
      "text/plain": [
       "  0%|          | 0/4000 [00:00<?, ?it/s]"
      ]
     },
     "metadata": {},
     "output_type": "display_data"
    },
    {
     "data": {
      "application/vnd.jupyter.widget-view+json": {
       "model_id": "5a492d113f72466fb9e0b4d1e259aa81",
       "version_major": 2,
       "version_minor": 0
      },
      "text/plain": [
       "  0%|          | 0/4000 [00:00<?, ?it/s]"
      ]
     },
     "metadata": {},
     "output_type": "display_data"
    },
    {
     "data": {
      "application/vnd.jupyter.widget-view+json": {
       "model_id": "b7c9f93f401b44dfa75b617e2d4404c6",
       "version_major": 2,
       "version_minor": 0
      },
      "text/plain": [
       "  0%|          | 0/4000 [00:00<?, ?it/s]"
      ]
     },
     "metadata": {},
     "output_type": "display_data"
    },
    {
     "data": {
      "application/vnd.jupyter.widget-view+json": {
       "model_id": "f2ca7947c60440739ab3b33f71b49d12",
       "version_major": 2,
       "version_minor": 0
      },
      "text/plain": [
       "  0%|          | 0/4000 [00:00<?, ?it/s]"
      ]
     },
     "metadata": {},
     "output_type": "display_data"
    },
    {
     "data": {
      "application/vnd.jupyter.widget-view+json": {
       "model_id": "8337870bf08f412d96608610eb2b07ec",
       "version_major": 2,
       "version_minor": 0
      },
      "text/plain": [
       "  0%|          | 0/4000 [00:00<?, ?it/s]"
      ]
     },
     "metadata": {},
     "output_type": "display_data"
    },
    {
     "data": {
      "application/vnd.jupyter.widget-view+json": {
       "model_id": "8effa35f665648c2919d826e6b90b1ba",
       "version_major": 2,
       "version_minor": 0
      },
      "text/plain": [
       "  0%|          | 0/4000 [00:00<?, ?it/s]"
      ]
     },
     "metadata": {},
     "output_type": "display_data"
    },
    {
     "data": {
      "application/vnd.jupyter.widget-view+json": {
       "model_id": "f50a7e8361d041ae8582ec7e1191fb2f",
       "version_major": 2,
       "version_minor": 0
      },
      "text/plain": [
       "  0%|          | 0/4000 [00:00<?, ?it/s]"
      ]
     },
     "metadata": {},
     "output_type": "display_data"
    },
    {
     "data": {
      "application/vnd.jupyter.widget-view+json": {
       "model_id": "db6a1384f0034e1a83603fad2e8b3d66",
       "version_major": 2,
       "version_minor": 0
      },
      "text/plain": [
       "  0%|          | 0/4000 [00:00<?, ?it/s]"
      ]
     },
     "metadata": {},
     "output_type": "display_data"
    },
    {
     "data": {
      "application/vnd.jupyter.widget-view+json": {
       "model_id": "8ef24ca3ab5a4688affbdf4c8e0b2e53",
       "version_major": 2,
       "version_minor": 0
      },
      "text/plain": [
       "  0%|          | 0/4000 [00:00<?, ?it/s]"
      ]
     },
     "metadata": {},
     "output_type": "display_data"
    },
    {
     "data": {
      "application/vnd.jupyter.widget-view+json": {
       "model_id": "135a62f929294b9aa05b8c8a7328e4de",
       "version_major": 2,
       "version_minor": 0
      },
      "text/plain": [
       "  0%|          | 0/4000 [00:00<?, ?it/s]"
      ]
     },
     "metadata": {},
     "output_type": "display_data"
    },
    {
     "data": {
      "application/vnd.jupyter.widget-view+json": {
       "model_id": "2a9e97f5186e4deeadc73e345d8ababc",
       "version_major": 2,
       "version_minor": 0
      },
      "text/plain": [
       "  0%|          | 0/4000 [00:00<?, ?it/s]"
      ]
     },
     "metadata": {},
     "output_type": "display_data"
    },
    {
     "data": {
      "application/vnd.jupyter.widget-view+json": {
       "model_id": "1cfa834264af4f37a62684308343643d",
       "version_major": 2,
       "version_minor": 0
      },
      "text/plain": [
       "  0%|          | 0/4000 [00:00<?, ?it/s]"
      ]
     },
     "metadata": {},
     "output_type": "display_data"
    },
    {
     "data": {
      "application/vnd.jupyter.widget-view+json": {
       "model_id": "595a93a255e9427ea107e85ffc51e814",
       "version_major": 2,
       "version_minor": 0
      },
      "text/plain": [
       "  0%|          | 0/4000 [00:00<?, ?it/s]"
      ]
     },
     "metadata": {},
     "output_type": "display_data"
    },
    {
     "data": {
      "application/vnd.jupyter.widget-view+json": {
       "model_id": "d779b780664344ac912e1ecc532741b2",
       "version_major": 2,
       "version_minor": 0
      },
      "text/plain": [
       "  0%|          | 0/4000 [00:00<?, ?it/s]"
      ]
     },
     "metadata": {},
     "output_type": "display_data"
    },
    {
     "data": {
      "application/vnd.jupyter.widget-view+json": {
       "model_id": "0a973997235c46c88d824688025a9741",
       "version_major": 2,
       "version_minor": 0
      },
      "text/plain": [
       "  0%|          | 0/4000 [00:00<?, ?it/s]"
      ]
     },
     "metadata": {},
     "output_type": "display_data"
    },
    {
     "data": {
      "application/vnd.jupyter.widget-view+json": {
       "model_id": "5c5627dcfc174e108012e122976b88e8",
       "version_major": 2,
       "version_minor": 0
      },
      "text/plain": [
       "  0%|          | 0/4000 [00:00<?, ?it/s]"
      ]
     },
     "metadata": {},
     "output_type": "display_data"
    },
    {
     "data": {
      "application/vnd.jupyter.widget-view+json": {
       "model_id": "ce97d8a7e7e44434916e9f1254718b8b",
       "version_major": 2,
       "version_minor": 0
      },
      "text/plain": [
       "  0%|          | 0/4000 [00:00<?, ?it/s]"
      ]
     },
     "metadata": {},
     "output_type": "display_data"
    },
    {
     "data": {
      "application/vnd.jupyter.widget-view+json": {
       "model_id": "4a8cd9a2bdee462bac218d258ffcf336",
       "version_major": 2,
       "version_minor": 0
      },
      "text/plain": [
       "  0%|          | 0/4000 [00:00<?, ?it/s]"
      ]
     },
     "metadata": {},
     "output_type": "display_data"
    },
    {
     "data": {
      "application/vnd.jupyter.widget-view+json": {
       "model_id": "ad99e8c82bd24c199e3b9050c44dcd28",
       "version_major": 2,
       "version_minor": 0
      },
      "text/plain": [
       "  0%|          | 0/4000 [00:00<?, ?it/s]"
      ]
     },
     "metadata": {},
     "output_type": "display_data"
    },
    {
     "data": {
      "application/vnd.jupyter.widget-view+json": {
       "model_id": "17d1c3ec12294ef28af0f06e63d29d3f",
       "version_major": 2,
       "version_minor": 0
      },
      "text/plain": [
       "  0%|          | 0/4000 [00:00<?, ?it/s]"
      ]
     },
     "metadata": {},
     "output_type": "display_data"
    },
    {
     "data": {
      "application/vnd.jupyter.widget-view+json": {
       "model_id": "71868253dd864c32b96581e18dd8e2e3",
       "version_major": 2,
       "version_minor": 0
      },
      "text/plain": [
       "  0%|          | 0/4000 [00:00<?, ?it/s]"
      ]
     },
     "metadata": {},
     "output_type": "display_data"
    },
    {
     "data": {
      "application/vnd.jupyter.widget-view+json": {
       "model_id": "78583ab0af9a4c25886b2b5d95c90203",
       "version_major": 2,
       "version_minor": 0
      },
      "text/plain": [
       "  0%|          | 0/4000 [00:00<?, ?it/s]"
      ]
     },
     "metadata": {},
     "output_type": "display_data"
    },
    {
     "data": {
      "application/vnd.jupyter.widget-view+json": {
       "model_id": "49034c5abb2a4855a5343bbe6941e0f9",
       "version_major": 2,
       "version_minor": 0
      },
      "text/plain": [
       "  0%|          | 0/4000 [00:00<?, ?it/s]"
      ]
     },
     "metadata": {},
     "output_type": "display_data"
    },
    {
     "data": {
      "application/vnd.jupyter.widget-view+json": {
       "model_id": "ba3e9b1854884252b90e2445d9ec7d05",
       "version_major": 2,
       "version_minor": 0
      },
      "text/plain": [
       "  0%|          | 0/4000 [00:00<?, ?it/s]"
      ]
     },
     "metadata": {},
     "output_type": "display_data"
    },
    {
     "data": {
      "application/vnd.jupyter.widget-view+json": {
       "model_id": "bffe6e40201247809cb50edb99d291ce",
       "version_major": 2,
       "version_minor": 0
      },
      "text/plain": [
       "  0%|          | 0/4000 [00:00<?, ?it/s]"
      ]
     },
     "metadata": {},
     "output_type": "display_data"
    },
    {
     "data": {
      "application/vnd.jupyter.widget-view+json": {
       "model_id": "4ac6db865f8d45198066836f7451ea1b",
       "version_major": 2,
       "version_minor": 0
      },
      "text/plain": [
       "  0%|          | 0/4000 [00:00<?, ?it/s]"
      ]
     },
     "metadata": {},
     "output_type": "display_data"
    },
    {
     "data": {
      "application/vnd.jupyter.widget-view+json": {
       "model_id": "477b96596d4a4d40ada03a37e5f9c737",
       "version_major": 2,
       "version_minor": 0
      },
      "text/plain": [
       "  0%|          | 0/4000 [00:00<?, ?it/s]"
      ]
     },
     "metadata": {},
     "output_type": "display_data"
    }
   ],
   "source": [
    "np.random.seed(42)\n",
    "random.seed(42)\n",
    "tf.random.set_seed(42)\n",
    "\n",
    "n = 3\n",
    "d = 2**n\n",
    "rank = 15\n",
    "\n",
    "prior_fidelity3 = np.zeros((len(N_list), num_reps))\n",
    "noPrior_fidelity3 = np.zeros((len(N_list), num_reps))\n",
    "\n",
    "for rep in tqdm(range(num_reps)):\n",
    "    X, _, _ = generate_ginibre(d, d)\n",
    "    U = generate_unitary(X) # Random unitary part\n",
    "    kraus_target = KrausMap(U, 0.5, d, rank)\n",
    "    \n",
    "    inputs, _ = generate_pauli_circuits(n = n, \n",
    "                                        circuit_target=None, \n",
    "                                        N = None, \n",
    "                                        trace=False)\n",
    "    \n",
    "    states = kraus_target.apply_map(inputs[0])\n",
    "    targets = measurement(states, U_basis = inputs[1])\n",
    "    \n",
    "    for i, N in enumerate(N_list):\n",
    "        kraus_model = KrausMap(\n",
    "                               U=U, \n",
    "                               c=0.9, \n",
    "                               d=d, \n",
    "                               rank=rank,\n",
    "                              )\n",
    "\n",
    "        model = ModelQuantumMap(\n",
    "                                q_map = kraus_model,\n",
    "                                loss = probs_loss,\n",
    "                                optimizer = tf.optimizers.Adam(learning_rate=0.01),\n",
    "                                )\n",
    "\n",
    "        model.train(inputs = [inputs[0][:N], inputs[1][:N]],\n",
    "                    targets = targets[:N],\n",
    "                    inputs_val = None,\n",
    "                    targets_val = None,\n",
    "                    num_iter = 4000,\n",
    "                    N = N,\n",
    "                    verbose = False,\n",
    "                    )\n",
    "\n",
    "        prior_fidelity3[i, rep] = np.abs(channel_fidelity(kraus_target, kraus_model).numpy())\n",
    "\n",
    "        kraus_model = KrausMap(\n",
    "    #                           U=U, \n",
    "    #                           c=0.9, \n",
    "                               d=d, \n",
    "                               rank=rank+1,\n",
    "                              )\n",
    "\n",
    "        model = ModelQuantumMap(\n",
    "                                q_map = kraus_model,\n",
    "                                loss = probs_loss,\n",
    "                                optimizer = tf.optimizers.Adam(learning_rate=0.01),\n",
    "                                )\n",
    "\n",
    "        model.train(inputs = [inputs[0][:N], inputs[1][:N]],\n",
    "                    targets = targets[:N],\n",
    "                    inputs_val = None,\n",
    "                    targets_val = None,\n",
    "                    num_iter = 4000,\n",
    "                    N = N,\n",
    "                    verbose = False,\n",
    "                    )\n",
    "\n",
    "        noPrior_fidelity3[i, rep] = np.abs(channel_fidelity(kraus_target, kraus_model).numpy())"
   ]
  },
  {
   "cell_type": "code",
   "execution_count": null,
   "metadata": {},
   "outputs": [],
   "source": [
    "data = [prior_fidelity3, noPrior_fidelity3]\n",
    "pickle.dump(data, open(\"../../data/compressed_sensing_rank16.p\", \"wb\"))"
   ]
  },
  {
   "cell_type": "markdown",
   "metadata": {},
   "source": [
    "## SPAM\n",
    "### Generate True Model"
   ]
  },
  {
   "cell_type": "code",
   "execution_count": 2,
   "metadata": {},
   "outputs": [],
   "source": [
    "np.random.seed(42)\n",
    "random.seed(42)\n",
    "tf.random.set_seed(42)\n",
    "\n",
    "n = 2\n",
    "d = 2**n\n",
    "rank = d**2\n",
    "c1 = 0.9\n",
    "c2 = 0.9\n",
    "\n",
    "#prep error and full POVM error\n",
    "spam_target = SPAM(d=d, \n",
    "                   use_corr_mat=True\n",
    "                  )\n",
    "\n",
    "\n",
    "init_target = c1*init_ideal(d) + (1-c1)*spam_target.init\n",
    "povm_target = c2*povm_ideal(d) + (1-c2)*spam_target.povm\n",
    "spam_target = SPAM(d=d,\n",
    "                  init = init_target,\n",
    "                  povm = povm_target)\n",
    "\n",
    "kraus_target = KrausMap(\n",
    "                        U=generate_unitary(d=d), \n",
    "                        c=0.5, \n",
    "                        d=d, \n",
    "                        rank=rank-1,\n",
    "                        spam = spam_target\n",
    "                        )"
   ]
  },
  {
   "cell_type": "markdown",
   "metadata": {},
   "source": [
    "### Generate Synthetic Data"
   ]
  },
  {
   "cell_type": "code",
   "execution_count": 3,
   "metadata": {},
   "outputs": [],
   "source": [
    "inputs_spam, _ = generate_pauliInput_circuits(n)\n",
    "\n",
    "U_prep = inputs_spam\n",
    "N_spam = U_prep.shape[0]\n",
    "\n",
    "state = tf.repeat(spam_target.init[None,:,:], N_spam, axis=0)\n",
    "state = apply_unitary(state, U_prep)\n",
    "targets_spam = measurement(state, povm = spam_target.povm)"
   ]
  },
  {
   "cell_type": "code",
   "execution_count": 4,
   "metadata": {},
   "outputs": [],
   "source": [
    "inputs_map, _ = generate_pauli_circuits(n = n, \n",
    "                                    circuit_target=None, \n",
    "                                    N = None, \n",
    "                                    trace=False)\n",
    "U_prep, U_basis = inputs_map\n",
    "\n",
    "N_map = U_prep.shape[0]\n",
    "state = tf.repeat(tf.expand_dims(spam_target.init, axis=0), N_map, axis=0)\n",
    "state = apply_unitary(state, U_prep)\n",
    "state = kraus_target.apply_map(state)\n",
    "targets_map = measurement(state, U_basis, spam_target.povm)"
   ]
  },
  {
   "cell_type": "markdown",
   "metadata": {},
   "source": [
    "### Fit Model"
   ]
  },
  {
   "cell_type": "code",
   "execution_count": 5,
   "metadata": {},
   "outputs": [],
   "source": [
    "np.random.seed(43)\n",
    "random.seed(43)\n",
    "tf.random.set_seed(43)\n",
    "\n",
    "spam_model = SPAM(d=d,\n",
    "                  use_corr_mat=True,\n",
    "                  optimizer = tf.optimizers.Adam(learning_rate=0.01))"
   ]
  },
  {
   "cell_type": "code",
   "execution_count": 6,
   "metadata": {
    "scrolled": true
   },
   "outputs": [
    {
     "data": {
      "application/vnd.jupyter.widget-view+json": {
       "model_id": "71c853da9b9949cdb94e3e816421e67c",
       "version_major": 2,
       "version_minor": 0
      },
      "text/plain": [
       "  0%|          | 0/1000 [00:00<?, ?it/s]"
      ]
     },
     "metadata": {},
     "output_type": "display_data"
    },
    {
     "name": "stdout",
     "output_type": "stream",
     "text": [
      "0 0.15998353120626813\n",
      "1 0.15702991200102656\n",
      "2 0.15423171756701556\n",
      "3 0.15157822430658352\n",
      "4 0.14905901544097674\n",
      "5 0.14666374302834473\n",
      "6 0.14438367559713647\n",
      "7 0.14221020052579827\n",
      "8 0.14013525346164454\n",
      "9 0.13815129606533835\n",
      "10 0.13624992092701352\n",
      "11 0.13442485959683756\n",
      "12 0.1326707095780096\n",
      "13 0.13098171715750556\n",
      "14 0.12935252597795577\n",
      "15 0.12777814701537432\n",
      "16 0.12625108022337636\n",
      "17 0.12476933500889979\n",
      "18 0.12332881482067279\n",
      "19 0.12192400609950747\n",
      "20 0.12055294102908096\n",
      "21 0.11921209273663888\n",
      "22 0.11789810991587439\n",
      "23 0.11660781704311873\n",
      "24 0.11533822964763216\n",
      "25 0.11408658221072253\n",
      "26 0.11284882574816854\n",
      "27 0.1116243222291915\n",
      "28 0.11041110195440508\n",
      "29 0.10920141752334503\n",
      "30 0.10799935262293228\n",
      "31 0.10680376517467013\n",
      "32 0.1056122787239099\n",
      "33 0.10442566548804352\n",
      "34 0.1032432484506747\n",
      "35 0.10206447266528197\n",
      "36 0.10088590072568852\n",
      "37 0.09970860126294898\n",
      "38 0.09853414194123286\n",
      "39 0.09736235229911781\n",
      "40 0.09619313581745247\n",
      "41 0.0950264647016938\n",
      "42 0.09386237500074707\n",
      "43 0.09270096194942966\n",
      "44 0.09154070605909914\n",
      "45 0.09038392484308075\n",
      "46 0.08922630966724529\n",
      "47 0.0880725781375212\n",
      "48 0.08692081454626178\n",
      "49 0.08577321526279467\n",
      "50 0.08463012891311693\n",
      "51 0.08349193231389963\n",
      "52 0.08235902645754697\n",
      "53 0.08123183262094928\n",
      "54 0.0800987567585393\n",
      "55 0.07897010359541795\n",
      "56 0.07784884984198331\n",
      "57 0.0767355081282397\n",
      "58 0.07563059615697054\n",
      "59 0.07453463246506006\n",
      "60 0.07344242630121214\n",
      "61 0.07235778854394301\n",
      "62 0.07128443826425758\n",
      "63 0.0702201387102798\n",
      "64 0.06916878183007971\n",
      "65 0.06813070165830246\n",
      "66 0.06710617964372166\n",
      "67 0.06609215478198208\n",
      "68 0.06509223427528371\n",
      "69 0.06410656954762259\n",
      "70 0.06313527260297291\n",
      "71 0.062174652325846645\n",
      "72 0.061228711455045784\n",
      "73 0.0602975139044226\n",
      "74 0.0593774700764411\n",
      "75 0.05847234131853382\n",
      "76 0.057582003893497574\n",
      "77 0.05670630264822324\n",
      "78 0.055845053446941746\n",
      "79 0.0549980456546925\n",
      "80 0.05416504461301358\n",
      "81 0.053337515027073394\n",
      "82 0.05252156488820715\n",
      "83 0.05172088745829384\n",
      "84 0.050935139983476416\n",
      "85 0.050163926760466715\n",
      "86 0.04940680687348747\n",
      "87 0.048663302835955914\n",
      "88 0.047932909639807716\n",
      "89 0.047211029824882476\n",
      "90 0.046501106967625036\n",
      "91 0.04580257431859089\n",
      "92 0.045114880365811995\n",
      "93 0.04443476333183584\n",
      "94 0.043759079446174534\n",
      "95 0.04309336494341395\n",
      "96 0.04244819871198641\n",
      "97 0.0418156077597743\n",
      "98 0.041190529620790256\n",
      "99 0.040577046145140405\n",
      "100 0.0399772578982563\n",
      "101 0.039383431387195904\n",
      "102 0.03879502097067021\n",
      "103 0.03820928890908853\n",
      "104 0.03762902148374815\n",
      "105 0.03705383984791827\n",
      "106 0.03648343816774037\n",
      "107 0.03591758252967211\n",
      "108 0.03535610933360554\n",
      "109 0.03479568333682297\n",
      "110 0.03424056973249832\n",
      "111 0.03373857358886043\n",
      "112 0.03324771382011116\n",
      "113 0.03275669591141914\n",
      "114 0.03226432035214326\n",
      "115 0.031769909220340405\n",
      "116 0.03127320162405561\n",
      "117 0.030774264417044443\n",
      "118 0.030280014542859217\n",
      "119 0.029795438159373785\n",
      "120 0.02931326702325858\n",
      "121 0.028836273681388563\n",
      "122 0.02838417461739623\n",
      "123 0.02793143603022841\n",
      "124 0.027483511072597232\n",
      "125 0.027029595935516428\n",
      "126 0.02657029929974298\n",
      "127 0.026128616981917208\n",
      "128 0.0257130315204228\n",
      "129 0.025290408247879242\n",
      "130 0.02485975309592825\n",
      "131 0.0244321306478974\n",
      "132 0.024004270761217195\n",
      "133 0.02357242433330491\n",
      "134 0.023157614368404533\n",
      "135 0.022758092215658512\n",
      "136 0.02235667968638489\n",
      "137 0.02194679884337881\n",
      "138 0.021534730598647005\n",
      "139 0.021134468033041694\n",
      "140 0.020747809707478686\n",
      "141 0.020352543738463267\n",
      "142 0.019951089309237845\n",
      "143 0.019569986105356076\n",
      "144 0.019193038872754985\n",
      "145 0.018810809593298353\n",
      "146 0.018424201043214117\n",
      "147 0.018057853460951085\n",
      "148 0.01769818676950159\n",
      "149 0.017331290120567132\n",
      "150 0.016958647468126725\n",
      "151 0.016590816965130702\n",
      "152 0.016243920066243187\n",
      "153 0.015891999349375338\n",
      "154 0.015535725427048196\n",
      "155 0.015194805550984451\n",
      "156 0.014852459951724906\n",
      "157 0.014513286876126024\n",
      "158 0.01417114194512554\n",
      "159 0.013835141224580048\n",
      "160 0.013511535513040143\n",
      "161 0.013185500651242243\n",
      "162 0.012866125038747938\n",
      "163 0.012554643345779534\n",
      "164 0.01226010429323714\n",
      "165 0.01199070507332409\n",
      "166 0.011726438071238318\n",
      "167 0.01146251718561472\n",
      "168 0.011200501245214644\n",
      "169 0.010934651829500111\n",
      "170 0.010666873769044079\n",
      "171 0.010404412970893681\n",
      "172 0.010160710548706193\n",
      "173 0.00994305430133559\n",
      "174 0.009723068429586645\n",
      "175 0.009499966161802908\n",
      "176 0.00927611698380916\n",
      "177 0.009052904283275596\n",
      "178 0.008826038992451329\n",
      "179 0.008600199709429407\n",
      "180 0.00839781766257543\n",
      "181 0.008196100013540097\n",
      "182 0.007994817739886945\n",
      "183 0.007793255110060705\n",
      "184 0.007588558643187245\n",
      "185 0.007385096420047595\n",
      "186 0.007185498732640861\n",
      "187 0.007004686446513631\n",
      "188 0.006829065646529023\n",
      "189 0.00664925754621624\n",
      "190 0.0064668088340205645\n",
      "191 0.006298875798033736\n",
      "192 0.006136641228590933\n",
      "193 0.005972838863029165\n",
      "194 0.005804682694350527\n",
      "195 0.005642701899117746\n",
      "196 0.00548820717095954\n",
      "197 0.0053423267193861805\n",
      "198 0.00520013944538833\n",
      "199 0.005057080863995802\n",
      "200 0.004915942007723532\n",
      "201 0.0047748752494414255\n",
      "202 0.004640567421760472\n",
      "203 0.004521300296049625\n",
      "204 0.004400017314423124\n",
      "205 0.004276972051534947\n",
      "206 0.004164456326362977\n",
      "207 0.004052744178379531\n",
      "208 0.003942802399751139\n",
      "209 0.0038352306457134218\n",
      "210 0.003738336303323659\n",
      "211 0.0036436583691233544\n",
      "212 0.0035480261665514793\n",
      "213 0.0034522601662498394\n",
      "214 0.003362202797119842\n",
      "215 0.0032819038761383833\n",
      "216 0.0032007276530892454\n",
      "217 0.003120468465763873\n",
      "218 0.003052106126497163\n",
      "219 0.0029956438775898208\n",
      "220 0.0029388261758252934\n",
      "221 0.0028843584241666715\n",
      "222 0.0028303719582383046\n",
      "223 0.0027740220630387735\n",
      "224 0.0027238744906991344\n",
      "225 0.002671424909990337\n",
      "226 0.0026168733144260013\n",
      "227 0.0025606346809735102\n",
      "228 0.0025098824413567413\n",
      "229 0.002460013985096688\n",
      "230 0.002408246880377583\n",
      "231 0.002354904868217829\n",
      "232 0.0023024864910883886\n",
      "233 0.002254486386991601\n",
      "234 0.0022050583236599766\n",
      "235 0.0021552652776938696\n",
      "236 0.0021081889597592655\n",
      "237 0.002062585917322692\n",
      "238 0.002024053271291599\n",
      "239 0.001986714913951834\n",
      "240 0.0019483806392095908\n",
      "241 0.0019082040792479985\n",
      "242 0.0018732174638566483\n",
      "243 0.001835733848438537\n",
      "244 0.0017964728819731461\n",
      "245 0.0017558228873798588\n",
      "246 0.0017193004291280085\n",
      "247 0.0016836097736768227\n",
      "248 0.001646672398179711\n",
      "249 0.001612456394450085\n",
      "250 0.0015785504566725099\n",
      "251 0.0015476348524253237\n",
      "252 0.0015151360750060498\n",
      "253 0.001482045627115508\n",
      "254 0.0014506998185196838\n",
      "255 0.0014200678202316748\n",
      "256 0.0013912883910800733\n",
      "257 0.0013637650443560035\n",
      "258 0.0013356112296840214\n",
      "259 0.0013063456778084487\n",
      "260 0.001281993003179409\n",
      "261 0.0012570478832975957\n",
      "262 0.0012308403419237814\n",
      "263 0.0012035963247798963\n",
      "264 0.0011796911800782564\n",
      "265 0.0011572289715635802\n",
      "266 0.0011335672844241282\n",
      "267 0.001109212122174127\n",
      "268 0.001085255484592421\n",
      "269 0.00106386706868023\n",
      "270 0.0010419044953625563\n",
      "271 0.0010203088989613448\n",
      "272 0.0009998426997368658\n",
      "273 0.0009800051795537611\n",
      "274 0.0009603720312787611\n",
      "275 0.0009417315135979163\n",
      "276 0.0009237837732490072\n",
      "277 0.0009050971080217808\n",
      "278 0.000888956448632867\n",
      "279 0.0008720595684780921\n",
      "280 0.0008553394679338969\n",
      "281 0.0008382424950471099\n",
      "282 0.0008230451417848126\n",
      "283 0.000808227825595048\n",
      "284 0.0007927739666543504\n",
      "285 0.0007775391838777011\n",
      "286 0.0007624348655555829\n",
      "287 0.0007491491236157376\n",
      "288 0.0007355082155172567\n",
      "289 0.000721686791519228\n",
      "290 0.0007089900890383872\n",
      "291 0.0006964332328014567\n",
      "292 0.000683878675880109\n",
      "293 0.0006722360490717695\n",
      "294 0.0006606011283169619\n",
      "295 0.0006485801405164879\n",
      "296 0.0006387238209895427\n",
      "297 0.0006284249493661988\n",
      "298 0.0006177030642024202\n",
      "299 0.0006066745260115615\n",
      "300 0.0005972748079172026\n",
      "301 0.0005883153480277957\n",
      "302 0.0005789547850601659\n",
      "303 0.0005692899725521108\n",
      "304 0.0005597821794164806\n",
      "305 0.0005516207717326701\n",
      "306 0.0005431445176642365\n",
      "307 0.0005347151535363903\n",
      "308 0.0005268727091287446\n",
      "309 0.0005191597845559861\n",
      "310 0.0005115889189591279\n",
      "311 0.0005045124775566575\n",
      "312 0.000497388234158041\n",
      "313 0.0004902004235917954\n",
      "314 0.0004839289334918946\n",
      "315 0.0004774299443101356\n",
      "316 0.0004710207458709779\n",
      "317 0.00046426586557159026\n",
      "318 0.0004580939093444287\n",
      "319 0.00045214653419458305\n",
      "320 0.00044626908548082804\n",
      "321 0.00044037389580145405\n",
      "322 0.0004345608186127559\n",
      "323 0.00042924538857818116\n",
      "324 0.00042385912152673215\n",
      "325 0.00041866118268047824\n",
      "326 0.00041371453318555374\n",
      "327 0.00040890219436043383\n",
      "328 0.0004041936046633336\n",
      "329 0.0003996926558494392\n",
      "330 0.00039525486460873866\n",
      "331 0.00039085610182203244\n",
      "332 0.0003868587421639832\n",
      "333 0.000382790162068126\n",
      "334 0.00037876232255975494\n",
      "335 0.0003747103257454262\n",
      "336 0.00037092283883597245\n"
     ]
    },
    {
     "name": "stdout",
     "output_type": "stream",
     "text": [
      "337 0.00036724169409629344\n",
      "338 0.000363434400088642\n",
      "339 0.0003596318120473176\n",
      "340 0.0003558805114148278\n",
      "341 0.0003523782233668304\n",
      "342 0.0003488644200618927\n",
      "343 0.00034546670613757723\n",
      "344 0.00034219254990624506\n",
      "345 0.00033899352202208815\n",
      "346 0.00033586187739961365\n",
      "347 0.00033283955092971746\n",
      "348 0.00032985988545985805\n",
      "349 0.00032691304637985196\n",
      "350 0.0003241438614417101\n",
      "351 0.0003213656300486311\n",
      "352 0.0003186215289083102\n",
      "353 0.00031588025837726527\n",
      "354 0.0003132541984099091\n",
      "355 0.00031068394110700967\n",
      "356 0.0003081378425583224\n",
      "357 0.0003055997891118546\n",
      "358 0.00030308113277687177\n",
      "359 0.0003006595704427011\n",
      "360 0.0002982369272551962\n",
      "361 0.00029585508952842827\n",
      "362 0.00029340309892972555\n",
      "363 0.0002909987904889822\n",
      "364 0.00028864578640258294\n",
      "365 0.0002863585903457125\n",
      "366 0.00028410869015257976\n",
      "367 0.00028189225775773215\n",
      "368 0.0002797654401997402\n",
      "369 0.0002776580218739546\n",
      "370 0.00027558650341125244\n",
      "371 0.00027353512385804084\n",
      "372 0.00027154227774610774\n",
      "373 0.00026958911092805524\n",
      "374 0.0002676600704162367\n",
      "375 0.00026575198176064153\n",
      "376 0.0002638656228666091\n",
      "377 0.00026202591959706575\n",
      "378 0.00026019956152889675\n",
      "379 0.0002583972807270547\n",
      "380 0.0002566211512767214\n",
      "381 0.00025486254799907295\n",
      "382 0.00025312287137363497\n",
      "383 0.00025129565829980693\n",
      "384 0.0002494969574647988\n",
      "385 0.0002477255101824125\n",
      "386 0.00024599998218297503\n",
      "387 0.000244297189366724\n",
      "388 0.00024262222728042908\n",
      "389 0.00024096901286841416\n",
      "390 0.000239348800111779\n",
      "391 0.00023775561727923774\n",
      "392 0.00023618319604416316\n",
      "393 0.00023463020699291426\n",
      "394 0.00023309555698787445\n",
      "395 0.0002315860401054716\n",
      "396 0.0002300906126379128\n",
      "397 0.0002286114813634436\n",
      "398 0.00022714835376178193\n",
      "399 0.00022569779586692362\n",
      "400 0.00022425961209177688\n",
      "401 0.00022283407071012703\n",
      "402 0.00022141740051698447\n",
      "403 0.0002200086561423261\n",
      "404 0.00021861263610681983\n",
      "405 0.00021722253134341015\n",
      "406 0.00021575693398645984\n",
      "407 0.00021431285703761354\n",
      "408 0.00021289393550100505\n",
      "409 0.0002114989236771175\n",
      "410 0.0002101261009979825\n",
      "411 0.00020877494066325305\n",
      "412 0.00020744475294414273\n",
      "413 0.00020613694594687107\n",
      "414 0.00020484777894855293\n",
      "415 0.0002035771511834433\n",
      "416 0.00020232405775496776\n",
      "417 0.0002010867019840172\n",
      "418 0.0001998640711669861\n",
      "419 0.0001986552827989126\n",
      "420 0.00019745846938621606\n",
      "421 0.00019627250242136018\n",
      "422 0.00019509772509035986\n",
      "423 0.00019393165166659154\n",
      "424 0.00019277385403017005\n",
      "425 0.00019162331688896107\n",
      "426 0.00019048024233040068\n",
      "427 0.00018926609871851784\n",
      "428 0.00018807028572883174\n",
      "429 0.00018689276850428741\n",
      "430 0.00018573334182118132\n",
      "431 0.00018459218518380918\n",
      "432 0.00018346805029891247\n",
      "433 0.00018236049235297326\n",
      "434 0.00018126870490882424\n",
      "435 0.00018019162434801348\n",
      "436 0.00017912829358147271\n",
      "437 0.00017807774713358683\n",
      "438 0.00017703877224803277\n",
      "439 0.0001760103115308013\n",
      "440 0.00017499164948083645\n",
      "441 0.00017398145846960248\n",
      "442 0.00017297891093145205\n",
      "443 0.00017198310408584323\n",
      "444 0.00017099345394346404\n",
      "445 0.0001700092311666209\n",
      "446 0.00016902975952997324\n",
      "447 0.00016805453648722918\n",
      "448 0.0001670831500086515\n",
      "449 0.00016605423388915707\n",
      "450 0.0001650402673270647\n",
      "451 0.00016404157089674424\n",
      "452 0.0001630581863039067\n",
      "453 0.0001620899154660355\n",
      "454 0.00016113641215839426\n",
      "455 0.00016019717451000806\n",
      "456 0.00015927151919322091\n",
      "457 0.00015835869067653278\n",
      "458 0.00015745792262318782\n",
      "459 0.00015656826695253483\n",
      "460 0.00015568884274530889\n",
      "461 0.00015481874078722028\n",
      "462 0.00015395712018505614\n",
      "463 0.0001531031342536452\n",
      "464 0.00015225597775781835\n",
      "465 0.00015141492713856614\n",
      "466 0.00015057932765089074\n",
      "467 0.0001497486265197959\n",
      "468 0.0001489222920777088\n",
      "469 0.00014804288861440095\n",
      "470 0.00014717620651391426\n",
      "471 0.00014632228395911149\n",
      "472 0.00014548101203759034\n",
      "473 0.00014465213415807454\n",
      "474 0.00014383524960995668\n",
      "475 0.00014302984603075826\n",
      "476 0.0001422353250349354\n",
      "477 0.00014145098751912417\n",
      "478 0.00014067609604409562\n",
      "479 0.00013990987480329842\n",
      "480 0.00013915154326397274\n",
      "481 0.0001384003191200546\n",
      "482 0.00013765543904722575\n",
      "483 0.00013691617908375537\n",
      "484 0.00013618186151708844\n",
      "485 0.00013545186928357733\n",
      "486 0.00013472563794036658\n",
      "487 0.00013400267680003334\n",
      "488 0.00013328256227745715\n",
      "489 0.00013251857699581536\n",
      "490 0.00013176511152363817\n",
      "491 0.0001310223553537544\n",
      "492 0.00013029033535754615\n",
      "493 0.00012956892745016727\n",
      "494 0.00012885787197917017\n",
      "495 0.00012815678643388358\n",
      "496 0.00012746519224240795\n",
      "497 0.0001267825331437197\n",
      "498 0.00012610819877500055\n",
      "499 0.00012544154331582203\n",
      "500 0.0001247819052777606\n",
      "501 0.00012412862612045758\n",
      "502 0.00012348106468267455\n",
      "503 0.00012283861090130115\n",
      "504 0.00012220069401964467\n",
      "505 0.00012156679304443426\n",
      "506 0.00012093644110734842\n",
      "507 0.00012026704917970736\n",
      "508 0.00011960686876566606\n",
      "509 0.00011895590644914943\n",
      "510 0.00011831405635021522\n",
      "511 0.00011768110515124428\n",
      "512 0.00011705674161902927\n",
      "513 0.00011644056874185189\n",
      "514 0.00011583211949900734\n",
      "515 0.00011523087266133311\n",
      "516 0.00011463626948857339\n",
      "517 0.00011404772958393793\n",
      "518 0.00011346466603564924\n",
      "519 0.00011288649934939426\n",
      "520 0.00011231266945064767\n",
      "521 0.0001117426460795146\n",
      "522 0.00011117593690433855\n",
      "523 0.00011061209428062754\n",
      "524 0.00011005071971589717\n",
      "525 0.00010949146679438285\n",
      "526 0.00010889923555444372\n",
      "527 0.00010831514826028356\n",
      "528 0.00010773934053987961\n",
      "529 0.00010717181248125686\n",
      "530 0.00010661243762855635\n",
      "531 0.00010606097629513944\n",
      "532 0.00010551709196875242\n",
      "533 0.00010498036935388306\n",
      "534 0.00010445033314328294\n",
      "535 0.00010392646657870932\n",
      "536 0.00010340822914909763\n",
      "537 0.00010289507291689633\n",
      "538 0.0001023864570436613\n",
      "539 0.0001018818603263864\n",
      "540 0.00010138079156715931\n",
      "541 0.00010088279782797471\n",
      "542 0.00010038747054061962\n",
      "543 9.989444964961315e-05\n",
      "544 9.936995813082101e-05\n",
      "545 9.885272085839824e-05\n",
      "546 9.834279552960705e-05\n",
      "547 9.784013129895157e-05\n",
      "548 9.734457391821956e-05\n",
      "549 9.685587519248858e-05\n",
      "550 9.637370551446278e-05\n",
      "551 9.58976683480273e-05\n",
      "552 9.542731570982305e-05\n",
      "553 9.496216384262893e-05\n",
      "554 9.450170842484016e-05\n",
      "555 9.404543880664708e-05\n",
      "556 9.359285088934314e-05\n",
      "557 9.314345839029359e-05\n",
      "558 9.26968023375487e-05\n",
      "559 9.22524587324672e-05\n",
      "560 9.181004438976334e-05\n",
      "561 9.136922103015106e-05\n",
      "562 9.090076675563976e-05\n",
      "563 9.043844341017928e-05\n",
      "564 8.998238617372225e-05\n",
      "565 8.953262147445695e-05\n",
      "566 8.908907273508884e-05\n",
      "567 8.865157013814106e-05\n",
      "568 8.82198631986777e-05\n",
      "569 8.779363507539305e-05\n",
      "570 8.737251770091307e-05\n",
      "571 8.695610696357705e-05\n",
      "572 8.654397732161798e-05\n",
      "573 8.613569537125651e-05\n",
      "574 8.57308320202868e-05\n",
      "575 8.532897303583494e-05\n",
      "576 8.492972783769281e-05\n",
      "577 8.453273649633112e-05\n",
      "578 8.411156033786658e-05\n",
      "579 8.369584678811131e-05\n",
      "580 8.328560412070146e-05\n",
      "581 8.288076581586437e-05\n",
      "582 8.248119350914111e-05\n",
      "583 8.208668333327413e-05\n",
      "584 8.169697469561979e-05\n",
      "585 8.13117606373752e-05\n",
      "586 8.093069903357588e-05\n",
      "587 8.05534240088755e-05\n",
      "588 8.017955705742091e-05\n",
      "589 7.980871746550621e-05\n",
      "590 7.944053173770625e-05\n",
      "591 7.907464182022081e-05\n",
      "592 7.871071199763733e-05\n",
      "593 7.834843441021391e-05\n",
      "594 7.796568281061354e-05\n",
      "595 7.758785735898607e-05\n",
      "596 7.72150170289586e-05\n",
      "597 7.684713694019488e-05\n",
      "598 7.648411385060861e-05\n",
      "599 7.612577468345914e-05\n",
      "600 7.577188711957633e-05\n",
      "601 7.54221714024586e-05\n",
      "602 7.50763126273127e-05\n",
      "603 7.473397291060483e-05\n",
      "604 7.439480295833838e-05\n",
      "605 7.405845266694274e-05\n",
      "606 7.372458049672029e-05\n",
      "607 7.33928614529945e-05\n",
      "608 7.306299359303852e-05\n",
      "609 7.27139745226346e-05\n",
      "610 7.236949121401395e-05\n",
      "611 7.202954707365016e-05\n",
      "612 7.169407740555661e-05\n",
      "613 7.136295297068279e-05\n",
      "614 7.103598644165067e-05\n",
      "615 7.071294089555858e-05\n",
      "616 7.039353958287846e-05\n",
      "617 7.007747631345183e-05\n",
      "618 6.976442590636906e-05\n",
      "619 6.945405425531694e-05\n",
      "620 6.914602766114341e-05\n",
      "621 6.884002117684344e-05\n",
      "622 6.853572579474697e-05\n",
      "623 6.821487757719687e-05\n",
      "624 6.789790762500924e-05\n",
      "625 6.758484561879579e-05\n",
      "626 6.727565949094591e-05\n",
      "627 6.697025901833044e-05\n",
      "628 6.666850191773217e-05\n",
      "629 6.637020167393607e-05\n",
      "630 6.607513641832636e-05\n",
      "631 6.578305827080058e-05\n",
      "632 6.549370265525972e-05\n",
      "633 6.520679719518373e-05\n",
      "634 6.492206988775511e-05\n",
      "635 6.463925634023001e-05\n",
      "636 6.434256383434239e-05\n",
      "637 6.404959570577855e-05\n",
      "638 6.376030687810672e-05\n",
      "639 6.347460147283978e-05\n",
      "640 6.31923364928855e-05\n",
      "641 6.291332759625274e-05\n",
      "642 6.263735628780334e-05\n",
      "643 6.236417793622909e-05\n",
      "644 6.209353010848936e-05\n",
      "645 6.182514080057262e-05\n",
      "646 6.1558736228516e-05\n"
     ]
    },
    {
     "name": "stdout",
     "output_type": "stream",
     "text": [
      "647 6.129404792452263e-05\n",
      "648 6.103081895764116e-05\n",
      "649 6.0754381802556715e-05\n",
      "650 6.048133080847444e-05\n",
      "651 6.021168391930203e-05\n",
      "652 5.9945400667968255e-05\n",
      "653 5.968238659216712e-05\n",
      "654 5.942249977971449e-05\n",
      "655 5.916555883253444e-05\n",
      "656 5.891135162401406e-05\n",
      "657 5.865964431623305e-05\n",
      "658 5.841019019719885e-05\n",
      "659 5.816273798999841e-05\n",
      "660 5.791703937287282e-05\n",
      "661 5.767285552940602e-05\n",
      "662 5.7415831833819584e-05\n",
      "663 5.7162041138032135e-05\n",
      "664 5.691146603141419e-05\n",
      "665 5.666403885488177e-05\n",
      "666 5.64196449753883e-05\n",
      "667 5.617812817160636e-05\n",
      "668 5.593929747189328e-05\n",
      "669 5.5702934859726466e-05\n",
      "670 5.546880334259466e-05\n",
      "671 5.5236654963913235e-05\n",
      "672 5.500623842044233e-05\n",
      "673 5.47773060271625e-05\n",
      "674 5.454961984542579e-05\n",
      "675 5.431002701571368e-05\n",
      "676 5.407332766560737e-05\n",
      "677 5.383954303884967e-05\n",
      "678 5.360864220557507e-05\n",
      "679 5.3380545730058895e-05\n",
      "680 5.3155131358511696e-05\n",
      "681 5.293224107046025e-05\n",
      "682 5.2711688913056996e-05\n",
      "683 5.249326912030217e-05\n",
      "684 5.227676410455608e-05\n",
      "685 5.2061951992179256e-05\n",
      "686 5.1848613455922734e-05\n",
      "687 5.16248305199687e-05\n",
      "688 5.14037714781359e-05\n",
      "689 5.1185405888335256e-05\n",
      "690 5.096966266207331e-05\n",
      "691 5.0756432928796436e-05\n",
      "692 5.054557465232697e-05\n",
      "693 5.0336918441797855e-05\n",
      "694 5.013027406214423e-05\n",
      "695 4.992543721809678e-05\n",
      "696 4.9722196257093214e-05\n",
      "697 4.952033850760057e-05\n",
      "698 4.931965603746516e-05\n",
      "699 4.910938974018112e-05\n",
      "700 4.8901652894570146e-05\n",
      "701 4.869645044658391e-05\n",
      "702 4.849374122889996e-05\n",
      "703 4.8293441827873624e-05\n",
      "704 4.8095432133091605e-05\n",
      "705 4.789956198548251e-05\n",
      "706 4.770565841036731e-05\n",
      "707 4.751353299822165e-05\n",
      "708 4.7322989074285864e-05\n",
      "709 4.713382837540968e-05\n",
      "710 4.693594315905131e-05\n",
      "711 4.6740418251382445e-05\n",
      "712 4.654722003831958e-05\n",
      "713 4.635627956160012e-05\n",
      "714 4.616749521878711e-05\n",
      "715 4.598073698192189e-05\n",
      "716 4.5795851640069966e-05\n",
      "717 4.561266862688674e-05\n",
      "718 4.543100605607614e-05\n",
      "719 4.525067665176289e-05\n",
      "720 4.5063370406071536e-05\n",
      "721 4.487820812046399e-05\n",
      "722 4.4695164480576394e-05\n",
      "723 4.451417994632543e-05\n",
      "724 4.433516429181575e-05\n",
      "725 4.415800134029727e-05\n",
      "726 4.398255443915027e-05\n",
      "727 4.3808672278459354e-05\n",
      "728 4.36361947194108e-05\n",
      "729 4.3457763017156715e-05\n",
      "730 4.328142082025136e-05\n",
      "731 4.310710928829355e-05\n",
      "732 4.2934740263668946e-05\n",
      "733 4.276419965901898e-05\n",
      "734 4.2595351901569e-05\n",
      "735 4.2428045021289384e-05\n",
      "736 4.2262116023804994e-05\n",
      "737 4.2097396246340265e-05\n",
      "738 4.192668141827603e-05\n",
      "739 4.175792253204478e-05\n",
      "740 4.1591094512072744e-05\n",
      "741 4.142613943320811e-05\n",
      "742 4.1262970180352667e-05\n",
      "743 4.110147519375965e-05\n",
      "744 4.09415238662576e-05\n",
      "745 4.0782972215938875e-05\n",
      "746 4.062566851893938e-05\n",
      "747 4.046259008815893e-05\n",
      "748 4.030142106017488e-05\n",
      "749 4.014211203929831e-05\n",
      "750 3.998458522016678e-05\n",
      "751 3.982873750154783e-05\n",
      "752 3.967444466575027e-05\n",
      "753 3.952156621910742e-05\n",
      "754 3.936995054016209e-05\n",
      "755 3.921944003739521e-05\n",
      "756 3.9063414309214644e-05\n",
      "757 3.8909167073522283e-05\n",
      "758 3.875667586955886e-05\n",
      "759 3.860588733785593e-05\n",
      "760 3.845672066994925e-05\n",
      "761 3.830907209323539e-05\n",
      "762 3.8162819977523684e-05\n",
      "763 3.8017830203888924e-05\n",
      "764 3.786835862332597e-05\n",
      "765 3.772056817018711e-05\n",
      "766 3.75744018626787e-05\n",
      "767 3.74297795593526e-05\n",
      "768 3.728660090441693e-05\n",
      "769 3.714474910964581e-05\n",
      "770 3.700409522957657e-05\n",
      "771 3.686004191429004e-05\n",
      "772 3.6717571910709675e-05\n",
      "773 3.6576638949226926e-05\n",
      "774 3.643717261366833e-05\n",
      "775 3.6299082041575945e-05\n",
      "776 3.616226026422503e-05\n",
      "777 3.6022624672609946e-05\n",
      "778 3.5884514171790984e-05\n",
      "779 3.574785852827592e-05\n",
      "780 3.5612568038322946e-05\n",
      "781 3.5478536835146704e-05\n",
      "782 3.534564675413608e-05\n",
      "783 3.5209875723360155e-05\n",
      "784 3.507559573259764e-05\n",
      "785 3.4942758516670743e-05\n",
      "786 3.4811292900639936e-05\n",
      "787 3.468110855238872e-05\n",
      "788 3.4552100297238834e-05\n",
      "789 3.442415267952704e-05\n",
      "790 3.4292415513910134e-05\n",
      "791 3.4162197425275566e-05\n",
      "792 3.403344661717317e-05\n",
      "793 3.390608775353425e-05\n",
      "794 3.3780025162989183e-05\n",
      "795 3.3655146818805556e-05\n",
      "796 3.3531328754226575e-05\n",
      "797 3.340843961977636e-05\n",
      "798 3.328129476355263e-05\n",
      "799 3.315558018718914e-05\n",
      "800 3.3031273891546e-05\n",
      "801 3.290832768445447e-05\n",
      "802 3.2786670316067803e-05\n",
      "803 3.2666211480318495e-05\n",
      "804 3.2546846321178885e-05\n",
      "805 3.2428460130171834e-05\n",
      "806 3.230618107442333e-05\n",
      "807 3.2185299609469454e-05\n",
      "808 3.2065771784841506e-05\n",
      "809 3.194753134652232e-05\n",
      "810 3.183049252338052e-05\n",
      "811 3.1714553620821e-05\n",
      "812 3.159960109109591e-05\n",
      "813 3.1485513792679085e-05\n",
      "814 3.136762280384412e-05\n",
      "815 3.12510577334799e-05\n",
      "816 3.113579618626862e-05\n",
      "817 3.102179083555766e-05\n",
      "818 3.090897254645095e-05\n",
      "819 3.0797254300452356e-05\n",
      "820 3.06865355757419e-05\n",
      "821 3.0576706883636776e-05\n",
      "822 3.0463119475047114e-05\n",
      "823 3.0350836669157878e-05\n",
      "824 3.0239820263637785e-05\n",
      "825 3.0130010024177355e-05\n",
      "826 3.0021326352453853e-05\n",
      "827 2.991367376606005e-05\n",
      "828 2.98069448635628e-05\n",
      "829 2.9701024489408588e-05\n",
      "830 2.95915135800736e-05\n",
      "831 2.9483228198181714e-05\n",
      "832 2.9376147870472487e-05\n",
      "833 2.9270228563269676e-05\n",
      "834 2.9165405612175452e-05\n",
      "835 2.906159742811479e-05\n",
      "836 2.8958709647568495e-05\n",
      "837 2.885663943881684e-05\n",
      "838 2.875106566302912e-05\n",
      "839 2.8646710908243995e-05\n",
      "840 2.854353972672138e-05\n",
      "841 2.844149517869678e-05\n",
      "842 2.8340501463411753e-05\n",
      "843 2.8240467337085724e-05\n",
      "844 2.8141289998147505e-05\n",
      "845 2.804285916063392e-05\n",
      "846 2.7945061081303058e-05\n",
      "847 2.7843223272231494e-05\n",
      "848 2.7742570834981368e-05\n",
      "849 2.764309817003821e-05\n",
      "850 2.7544773178768828e-05\n",
      "851 2.7447540113395757e-05\n",
      "852 2.735132337046247e-05\n",
      "853 2.725603185826245e-05\n",
      "854 2.7161563613910544e-05\n",
      "855 2.7067810396271153e-05\n",
      "856 2.6974662033757706e-05\n",
      "857 2.6877046914400204e-05\n",
      "858 2.6780614157831163e-05\n",
      "859 2.668535370105629e-05\n",
      "860 2.659122995265871e-05\n",
      "861 2.649818399152658e-05\n",
      "862 2.6406136852966274e-05\n",
      "863 2.6314993529564764e-05\n",
      "864 2.6224647354008382e-05\n",
      "865 2.613498447739059e-05\n",
      "866 2.6045888206379396e-05\n",
      "867 2.5957243013160595e-05\n",
      "868 2.5863904419840394e-05\n",
      "869 2.5771677345153105e-05\n",
      "870 2.568057687614063e-05\n",
      "871 2.5590589178516756e-05\n",
      "872 2.5501673855619726e-05\n",
      "873 2.5413767495335842e-05\n",
      "874 2.5326787997858264e-05\n",
      "875 2.5240639319991162e-05\n",
      "876 2.5155216322301986e-05\n",
      "877 2.5070409460127553e-05\n",
      "878 2.4986109115222802e-05\n",
      "879 2.489724135621913e-05\n",
      "880 2.4809450249047134e-05\n",
      "881 2.4722736629248557e-05\n",
      "882 2.463707617081889e-05\n",
      "883 2.4552421146194685e-05\n",
      "884 2.446870335585511e-05\n",
      "885 2.438583785436855e-05\n",
      "886 2.4303727135468662e-05\n",
      "887 2.422226548231083e-05\n",
      "888 2.4141343237116682e-05\n",
      "889 2.406085079408423e-05\n",
      "890 2.39760730062825e-05\n",
      "891 2.3892292134424332e-05\n",
      "892 2.3809521327751542e-05\n",
      "893 2.3727747482557193e-05\n",
      "894 2.3646933348382767e-05\n",
      "895 2.3567020748142855e-05\n",
      "896 2.348793453336872e-05\n",
      "897 2.34095869346317e-05\n",
      "898 2.3331882013695435e-05\n",
      "899 2.3254719974706472e-05\n",
      "900 2.3178001143798835e-05\n",
      "901 2.3097143798999054e-05\n",
      "902 2.3017283105159202e-05\n",
      "903 2.2938420290393027e-05\n",
      "904 2.286053195651153e-05\n",
      "905 2.2783571928797096e-05\n",
      "906 2.270747422499815e-05\n",
      "907 2.263215677776141e-05\n",
      "908 2.2557525580258915e-05\n",
      "909 2.2483478968091468e-05\n",
      "910 2.2409911798332836e-05\n",
      "911 2.2336719335942992e-05\n",
      "912 2.225945891743163e-05\n",
      "913 2.2183104136558e-05\n",
      "914 2.21076714621114e-05\n",
      "915 2.2033152157913558e-05\n",
      "916 2.1959514169444852e-05\n",
      "917 2.188670512261983e-05\n",
      "918 2.1814656065945173e-05\n",
      "919 2.1743285623179373e-05\n",
      "920 2.167250426770544e-05\n",
      "921 2.1602218478602598e-05\n",
      "922 2.1532334588937363e-05\n",
      "923 2.1458620546646502e-05\n",
      "924 2.1385812597222196e-05\n",
      "925 2.13139128233029e-05\n",
      "926 2.124290017303799e-05\n",
      "927 2.1172732169060874e-05\n",
      "928 2.1103347692700356e-05\n",
      "929 2.1034670493731363e-05\n",
      "930 2.0966613109097097e-05\n",
      "931 2.089908091505009e-05\n",
      "932 2.0831976082761124e-05\n",
      "933 2.076520125483858e-05\n",
      "934 2.069467177378132e-05\n",
      "935 2.0624975873690238e-05\n",
      "936 2.055613021211988e-05\n",
      "937 2.0488127154680757e-05\n",
      "938 2.042093661997577e-05\n",
      "939 2.0354509001254823e-05\n",
      "940 2.0288778805630493e-05\n",
      "941 2.022366868630925e-05\n",
      "942 2.0159093586165467e-05\n",
      "943 2.0094964758735317e-05\n",
      "944 2.003119348227779e-05\n",
      "945 1.996382546386207e-05\n",
      "946 1.989728803204261e-05\n",
      "947 1.9831585786571174e-05\n",
      "948 1.976670107584839e-05\n",
      "949 1.970259557675148e-05\n",
      "950 1.9639212932222404e-05\n",
      "951 1.9576482106611797e-05\n",
      "952 1.951432114979338e-05\n",
      "953 1.9452641100281572e-05\n",
      "954 1.939134980166695e-05\n",
      "955 1.9330355452821422e-05\n",
      "956 1.9265865022017123e-05\n",
      "957 1.920213804747043e-05\n"
     ]
    },
    {
     "name": "stdout",
     "output_type": "stream",
     "text": [
      "958 1.9139191307175048e-05\n",
      "959 1.9077018503243836e-05\n",
      "960 1.9015591986796436e-05\n",
      "961 1.8954865527132718e-05\n",
      "962 1.8894777778642282e-05\n",
      "963 1.8835256131394626e-05\n",
      "964 1.8776220672344528e-05\n",
      "965 1.871758803007109e-05\n",
      "966 1.8659274924000515e-05\n",
      "967 1.8597620950737787e-05\n",
      "968 1.853673188823965e-05\n",
      "969 1.847661335695718e-05\n",
      "970 1.8417249591354322e-05\n",
      "971 1.8358604954024086e-05\n",
      "972 1.830062647773309e-05\n",
      "973 1.8243247104949886e-05\n",
      "974 1.818638932396752e-05\n",
      "975 1.8129968938572974e-05\n",
      "976 1.807389875114954e-05\n",
      "977 1.801809198414183e-05\n",
      "978 1.795901230311064e-05\n",
      "979 1.7900633924988262e-05\n",
      "980 1.7842974367530056e-05\n",
      "981 1.7786029016909307e-05\n",
      "982 1.7729772744766544e-05\n",
      "983 1.7674162547597175e-05\n",
      "984 1.7619140871620157e-05\n",
      "985 1.7564639316904785e-05\n",
      "986 1.751058245387363e-05\n",
      "987 1.7456891529876362e-05\n",
      "988 1.7400374830833387e-05\n",
      "989 1.7344522403738244e-05\n",
      "990 1.7289332443978084e-05\n",
      "991 1.7234785910491868e-05\n",
      "992 1.718084781563285e-05\n",
      "993 1.7127469371714754e-05\n",
      "994 1.7074590715105153e-05\n",
      "995 1.7022143953667184e-05\n",
      "996 1.6970056315534133e-05\n",
      "997 1.691568996064552e-05\n",
      "998 1.6861943149747568e-05\n",
      "999 1.680881428032266e-05\n"
     ]
    }
   ],
   "source": [
    "spam_model.pretrain(targets = [init_ideal(d), povm_ideal(d)],\n",
    "                    num_iter = 1000,\n",
    "                    )"
   ]
  },
  {
   "cell_type": "code",
   "execution_count": 7,
   "metadata": {},
   "outputs": [
    {
     "data": {
      "application/vnd.jupyter.widget-view+json": {
       "model_id": "747371fab8ec4ceaad101652a961f762",
       "version_major": 2,
       "version_minor": 0
      },
      "text/plain": [
       "  0%|          | 0/1000 [00:00<?, ?it/s]"
      ]
     },
     "metadata": {},
     "output_type": "display_data"
    },
    {
     "name": "stdout",
     "output_type": "stream",
     "text": [
      "0 0.05653671635582137\n",
      "1 0.04870378717681603\n",
      "2 0.040705707605270425\n",
      "3 0.03371306556819722\n",
      "4 0.02812817421970074\n",
      "5 0.02361846731504076\n",
      "6 0.019796147492566574\n",
      "7 0.016585621624044495\n",
      "8 0.013960637742267058\n",
      "9 0.011821958722639858\n",
      "10 0.010062048170585924\n",
      "11 0.00867244695411773\n",
      "12 0.00755254995683343\n",
      "13 0.006667926488307576\n",
      "14 0.0059666354348274445\n",
      "15 0.005422722412998203\n",
      "16 0.005009733115708485\n",
      "17 0.004664094103748061\n",
      "18 0.004369124796946926\n",
      "19 0.00408503028640736\n",
      "20 0.0038066080161464535\n",
      "21 0.0035270012781817503\n",
      "22 0.003248341977871251\n",
      "23 0.0029862268778712638\n",
      "24 0.0027399072587252606\n",
      "25 0.0025127322439375877\n",
      "26 0.0023039239075787424\n",
      "27 0.0021101550805354735\n",
      "28 0.001928444791885831\n",
      "29 0.0017519502414672595\n",
      "30 0.0015889867166979275\n",
      "31 0.0014581254845927618\n",
      "32 0.001351328708278028\n",
      "33 0.0012701436147866767\n",
      "34 0.0012105202254256266\n",
      "35 0.0011571722688673892\n",
      "36 0.0011174340651224416\n",
      "37 0.0010922444503408373\n",
      "38 0.001078385253899784\n",
      "39 0.0010686217208063817\n",
      "40 0.001055103250652813\n",
      "41 0.001033460029358631\n",
      "42 0.0010044073195237405\n",
      "43 0.0009718470952315715\n",
      "44 0.0009393107256629494\n",
      "45 0.0009075221686708581\n",
      "46 0.0008762848604402612\n",
      "47 0.0008409621570265784\n",
      "48 0.0008009551276383134\n",
      "49 0.0007567462607957037\n",
      "50 0.0007133444081772038\n",
      "51 0.0006740497550940765\n",
      "52 0.0006403185200687579\n",
      "53 0.0006115098036660456\n",
      "54 0.0005860210183849202\n",
      "55 0.0005628144487903683\n",
      "56 0.0005421531425194996\n",
      "57 0.0005251444438370365\n",
      "58 0.0005126384434169631\n",
      "59 0.00050437061377275\n",
      "60 0.0004988778232888626\n",
      "61 0.0004941080370178359\n",
      "62 0.000488259675782009\n",
      "63 0.00048036404263890743\n",
      "64 0.0004703350181106125\n",
      "65 0.0004585799582917903\n",
      "66 0.00044560742010267405\n",
      "67 0.00043196489354550984\n",
      "68 0.00041839263307934314\n",
      "69 0.00040582133326472555\n",
      "70 0.0003950322411800825\n",
      "71 0.0003862025090481098\n",
      "72 0.00037874953020943067\n",
      "73 0.00037167647077511495\n",
      "74 0.0003641749897998874\n",
      "75 0.00035606087440680196\n",
      "76 0.0003478209786523066\n",
      "77 0.0003403044369291985\n",
      "78 0.00033425810372165164\n",
      "79 0.00032998825179095405\n",
      "80 0.0003273549588361172\n",
      "81 0.0003259589287798577\n",
      "82 0.00032530149299708484\n",
      "83 0.0003249539439914098\n",
      "84 0.00032466408541924964\n",
      "85 0.00031028909867713677\n",
      "86 0.0002978073070287327\n",
      "87 0.00028933680998905154\n",
      "88 0.0002849918124510286\n",
      "89 0.0002917882938881508\n",
      "90 0.00029588822875144813\n",
      "91 0.00029460537566361423\n",
      "92 0.00028059137937194305\n",
      "93 0.0002670337457064247\n",
      "94 0.00025758815287182495\n",
      "95 0.0002536434107951247\n",
      "96 0.0002538787792959101\n",
      "97 0.00025522993242649945\n",
      "98 0.00025473603986702606\n",
      "99 0.00025104761560340913\n",
      "100 0.0002447851847635315\n",
      "101 0.00023784939891280426\n",
      "102 0.00023226966089619834\n",
      "103 0.0002291933410461\n",
      "104 0.0002284427090586339\n",
      "105 0.0002287880430437879\n",
      "106 0.00022871993854997055\n",
      "107 0.00022724241733968918\n",
      "108 0.0002242644769564035\n",
      "109 0.0002204701911469478\n",
      "110 0.00021683678127819943\n",
      "111 0.00021409725978952822\n",
      "112 0.00021241642446588485\n",
      "113 0.00021141167495294336\n",
      "114 0.00021045911481261856\n",
      "115 0.00020907732896406053\n",
      "116 0.00020716473490402042\n",
      "117 0.00020498091806621526\n",
      "118 0.00020292452701088957\n",
      "119 0.0002012711769298197\n",
      "120 0.00020003413378274888\n",
      "121 0.0001990090821872428\n",
      "122 0.00019793970271304913\n",
      "123 0.00019667960765913683\n",
      "124 0.0001952553705873902\n",
      "125 0.00019381361662140198\n",
      "126 0.00019250409360894\n",
      "127 0.0001913781712106681\n",
      "128 0.00019036349738141422\n",
      "129 0.00018932337582839196\n",
      "130 0.0001881545123070175\n",
      "131 0.00018685549480823268\n",
      "132 0.00018552352440752163\n",
      "133 0.00018428704034471966\n",
      "134 0.00018322193151535177\n",
      "135 0.0001823056412508479\n",
      "136 0.0001814358037415213\n",
      "137 0.00018049749331710893\n",
      "138 0.0001794335595909323\n",
      "139 0.0001782743591321131\n",
      "140 0.0001771125508900105\n",
      "141 0.00017604327144426439\n",
      "142 0.00017510786866174188\n",
      "143 0.0001742728630616942\n",
      "144 0.00017345245698673474\n",
      "145 0.00017255811479648908\n",
      "146 0.000171546308563377\n",
      "147 0.0001704398351306537\n",
      "148 0.00016931381040875736\n",
      "149 0.0001682555179610826\n",
      "150 0.00016731962309657843\n",
      "151 0.00016650157446014078\n",
      "152 0.00016574190143278102\n",
      "153 0.00016495797553789875\n",
      "154 0.00016408606140910222\n",
      "155 0.00016311169014916657\n",
      "156 0.00016207263871182464\n",
      "157 0.00016103370782158044\n",
      "158 0.0001600486687041489\n",
      "159 0.00015913185069236973\n",
      "160 0.00015825447223154681\n",
      "161 0.00015736448147622912\n",
      "162 0.00015641552011896103\n",
      "163 0.00015538884642409597\n",
      "164 0.00015429969656938374\n",
      "165 0.00015318868025562148\n",
      "166 0.00015210415478754334\n",
      "167 0.00015108319645306024\n",
      "168 0.00015013823428755254\n",
      "169 0.0001492537996546554\n",
      "170 0.00014839359216872877\n",
      "171 0.00014751422373906318\n",
      "172 0.0001465803539859504\n",
      "173 0.00014557597992181828\n",
      "174 0.00014450767681423057\n",
      "175 0.00014339852958800101\n",
      "176 0.00014227593146767486\n",
      "177 0.00014115908612026944\n",
      "178 0.0001400510230012001\n",
      "179 0.0001389374049390634\n",
      "180 0.0001377930061180227\n",
      "181 0.00013659524355879636\n",
      "182 0.00013534005922134475\n",
      "183 0.0001340511834579451\n",
      "184 0.00013277500902544179\n",
      "185 0.00013156093072461987\n",
      "186 0.00013043605449569718\n",
      "187 0.00012938798117252478\n",
      "188 0.00012836685984383725\n",
      "189 0.00012730805518185436\n",
      "190 0.00012616385577724095\n",
      "191 0.00012492558831636325\n",
      "192 0.00012362319405669512\n",
      "193 0.0001223039059009395\n",
      "194 0.00012100367206747157\n",
      "195 0.00011972717010074602\n",
      "196 0.00011844616332366106\n",
      "197 0.00011711674723380671\n",
      "198 0.00011570723110033141\n",
      "199 0.00011422227063636638\n",
      "200 0.00011270904194311613\n",
      "201 0.00011123998458965152\n",
      "202 0.00010987982065287324\n",
      "203 0.00010865383122102402\n",
      "204 0.0001075342157916166\n",
      "205 0.00010645241592588204\n",
      "206 0.00010533216061285898\n",
      "207 0.00010412638259220164\n",
      "208 0.00010283766787726835\n",
      "209 0.0001015109205715348\n",
      "210 0.00010020352419533628\n",
      "211 9.89504885800933e-05\n",
      "212 9.774301933107435e-05\n",
      "213 9.653156435342097e-05\n",
      "214 9.525382438598893e-05\n",
      "215 9.521200713943872e-05\n",
      "216 9.505833040977462e-05\n",
      "217 9.4662811311729e-05\n",
      "218 9.228010979045527e-05\n",
      "219 9.008182027492034e-05\n",
      "220 8.861325992271844e-05\n",
      "221 8.797933825591947e-05\n",
      "222 8.784295279368262e-05\n",
      "223 8.767308185553269e-05\n",
      "224 8.884734291438127e-05\n",
      "225 8.733226415337011e-05\n",
      "226 8.533893427660308e-05\n",
      "227 8.356110252983477e-05\n",
      "228 8.245888150415525e-05\n",
      "229 8.203157733248339e-05\n",
      "230 8.187773267371016e-05\n",
      "231 8.355090917323534e-05\n",
      "232 8.467971009658275e-05\n",
      "233 8.501068776174502e-05\n",
      "234 8.192922010130834e-05\n",
      "235 7.917633328239459e-05\n",
      "236 7.784690019782514e-05\n",
      "237 7.81100526872961e-05\n",
      "238 7.92382194419683e-05\n",
      "239 8.336937440876785e-05\n",
      "240 8.599292400061326e-05\n",
      "241 8.66920926787039e-05\n",
      "242 8.280584697642303e-05\n",
      "243 7.984343944720742e-05\n",
      "244 7.924296009103162e-05\n",
      "245 8.085573734680122e-05\n",
      "246 8.324272785171545e-05\n",
      "247 8.886264482837721e-05\n",
      "248 9.253528139007934e-05\n",
      "249 9.41240451326467e-05\n",
      "250 8.937414201608352e-05\n",
      "251 8.589912007711341e-05\n",
      "252 8.572974305860768e-05\n",
      "253 8.865812127594539e-05\n",
      "254 9.269302552551764e-05\n",
      "255 0.00010244241788011886\n",
      "256 0.00010925352240401281\n",
      "257 0.00010526867925537372\n",
      "258 0.00010107379197410784\n",
      "259 0.00010018176683011191\n",
      "260 0.0001036320042359699\n",
      "261 0.00010956164429260785\n",
      "262 0.00012386443358319756\n",
      "263 0.00013479398760729732\n",
      "264 0.00014162899139160792\n",
      "265 0.0001349609264062583\n",
      "266 0.00013098564541129485\n",
      "267 0.0001339891695408641\n",
      "268 0.000143343918245409\n",
      "269 0.00015399325186794818\n",
      "270 0.00017895966563583925\n",
      "271 0.00019876319636908196\n",
      "272 0.0002135060020627863\n",
      "273 0.00015129283285381188\n",
      "274 0.00010762798824910162\n",
      "275 9.504993867225244e-05\n",
      "276 0.00010826999591250023\n",
      "277 0.0001289698298961622\n",
      "278 0.00013912995320724595\n",
      "279 0.0001384643675642737\n",
      "280 0.00011378443952919886\n",
      "281 8.494953161058379e-05\n",
      "282 6.457537558493469e-05\n",
      "283 5.924787530097849e-05\n",
      "284 6.69496703486445e-05\n",
      "285 7.506089540056668e-05\n",
      "286 7.980668997182836e-05\n",
      "287 7.704422648696723e-05\n",
      "288 6.676745749635956e-05\n",
      "289 5.274650700784292e-05\n",
      "290 4.0889891744225345e-05\n",
      "291 3.618167624158672e-05\n",
      "292 3.957004370945148e-05\n",
      "293 4.716718551754751e-05\n",
      "294 5.268576551411124e-05\n",
      "295 5.148507878512752e-05\n",
      "296 4.3455560387842815e-05\n",
      "297 3.286843855276044e-05\n",
      "298 2.5372933709418228e-05\n",
      "299 2.4211068341746713e-05\n",
      "300 2.8235410459462663e-05\n",
      "301 3.3094432111347726e-05\n",
      "302 3.456471433935377e-05\n",
      "303 3.1370694308977275e-05\n",
      "304 2.5571905729581135e-05\n",
      "305 2.064533767797645e-05\n",
      "306 1.896194229116338e-05\n",
      "307 2.0451855380738352e-05\n",
      "308 2.3057139411609247e-05\n",
      "309 2.4365733435400268e-05\n",
      "310 2.324678592450583e-05\n",
      "311 2.0413224591320303e-05\n",
      "312 1.7637885901418593e-05\n",
      "313 1.631744129389087e-05\n",
      "314 1.6525514310261773e-05\n",
      "315 1.724752571694025e-05\n",
      "316 1.7426561342867316e-05\n",
      "317 1.6790964876608618e-05\n",
      "318 1.580969531578134e-05\n",
      "319 1.5034451233798716e-05\n",
      "320 1.459488177973846e-05\n",
      "321 1.4277014484053575e-05\n",
      "322 1.3915700430020816e-05\n",
      "323 1.3578803550641468e-05\n",
      "324 1.3390957709069959e-05\n"
     ]
    },
    {
     "name": "stdout",
     "output_type": "stream",
     "text": [
      "325 1.3303986604783296e-05\n",
      "326 1.3125720659961899e-05\n",
      "327 1.2741543341679002e-05\n",
      "328 1.2236955818264325e-05\n",
      "329 1.1796574504600036e-05\n",
      "330 1.1531082487061847e-05\n",
      "331 1.1418949073591111e-05\n",
      "332 1.1364863984211008e-05\n",
      "333 1.1267355142218861e-05\n",
      "334 1.1055126076574441e-05\n",
      "335 1.0722675161982464e-05\n",
      "336 1.0355738620628214e-05\n",
      "337 1.0084798735925306e-05\n",
      "338 9.970927521634917e-06\n",
      "339 9.938363967439145e-06\n",
      "340 9.845549092078495e-06\n",
      "341 9.628425218241387e-06\n",
      "342 9.35440860819915e-06\n",
      "343 9.130941583400974e-06\n",
      "344 8.987805014634428e-06\n",
      "345 8.869364009906589e-06\n",
      "346 8.72249583221702e-06\n",
      "347 8.555054931328827e-06\n",
      "348 8.402445735655347e-06\n",
      "349 8.268962362194833e-06\n",
      "350 8.128470044570414e-06\n",
      "351 7.97090340522864e-06\n",
      "352 7.818208985442111e-06\n",
      "353 7.689234410126477e-06\n",
      "354 7.57188077172248e-06\n",
      "355 7.444148773155149e-06\n",
      "356 7.3081191198979514e-06\n",
      "357 7.183725121003725e-06\n",
      "358 7.073882910771931e-06\n",
      "359 6.956886656601125e-06\n",
      "360 6.819463559758068e-06\n",
      "361 6.680632797041769e-06\n",
      "362 6.568462001674611e-06\n",
      "363 6.481189566850636e-06\n",
      "364 6.388069749576289e-06\n",
      "365 6.26912988237247e-06\n",
      "366 6.139166978177977e-06\n",
      "367 6.0255803681529685e-06\n",
      "368 5.933550526727161e-06\n",
      "369 5.84487896134718e-06\n",
      "370 5.746005309174409e-06\n",
      "371 5.642956752948433e-06\n",
      "372 5.546482752093162e-06\n",
      "373 5.4548809228554805e-06\n",
      "374 5.359928269659984e-06\n",
      "375 5.262762487565608e-06\n",
      "376 5.173016746557612e-06\n",
      "377 5.093212104261065e-06\n",
      "378 5.0137658562195425e-06\n",
      "379 4.926714943904043e-06\n",
      "380 4.837073915957622e-06\n",
      "381 4.75486586454077e-06\n",
      "382 4.6805144422394715e-06\n",
      "383 4.6053864569892235e-06\n",
      "384 4.525393586872437e-06\n",
      "385 4.446483094826472e-06\n",
      "386 4.374627315504237e-06\n",
      "387 4.306603141254753e-06\n",
      "388 4.235398853187844e-06\n",
      "389 4.161065415496965e-06\n",
      "390 4.090237164903198e-06\n",
      "391 4.025765531148874e-06\n",
      "392 3.9626949066565066e-06\n",
      "393 3.896137116176869e-06\n",
      "394 3.828398566642628e-06\n",
      "395 3.7648652471953927e-06\n",
      "396 3.705785312024975e-06\n",
      "397 3.6465330230604474e-06\n",
      "398 3.585078700713064e-06\n",
      "399 3.5247055039577457e-06\n",
      "400 3.468346886762952e-06\n",
      "401 3.413995228666454e-06\n",
      "402 3.358151123540804e-06\n",
      "403 3.301346098464491e-06\n",
      "404 3.2470518501198e-06\n",
      "405 3.196140787888365e-06\n",
      "406 3.145750611494507e-06\n",
      "407 3.0939551871270254e-06\n",
      "408 3.042592125440834e-06\n",
      "409 2.9940414995595766e-06\n",
      "410 2.94743475696295e-06\n",
      "411 2.9002312173839328e-06\n",
      "412 2.852310714320497e-06\n",
      "413 2.806019889372572e-06\n",
      "414 2.7623650040857084e-06\n",
      "415 2.7195209632601737e-06\n",
      "416 2.6758031505036323e-06\n",
      "417 2.6321849350686936e-06\n",
      "418 2.590525429495624e-06\n",
      "419 2.5506117113471387e-06\n",
      "420 2.510686573144108e-06\n",
      "421 2.4703227925492276e-06\n",
      "422 2.430960506193334e-06\n",
      "423 2.3934762383968396e-06\n",
      "424 2.3615863329248557e-06\n",
      "425 2.326093521956585e-06\n",
      "426 2.2872446913153244e-06\n",
      "427 2.255047811396487e-06\n",
      "428 2.223387328903228e-06\n",
      "429 2.1923304313253175e-06\n",
      "430 2.159899460643854e-06\n",
      "431 2.127411458812035e-06\n",
      "432 2.0967684766560486e-06\n",
      "433 2.068969696414722e-06\n",
      "434 2.0413157372318995e-06\n",
      "435 2.009554813696294e-06\n",
      "436 1.985100844011778e-06\n",
      "437 1.9594989602314328e-06\n",
      "438 1.933113818267604e-06\n",
      "439 1.9065052338078531e-06\n",
      "440 1.8783430529716052e-06\n",
      "441 1.8547245375140513e-06\n",
      "442 1.8326055680031456e-06\n",
      "443 1.8065712425193532e-06\n",
      "444 1.7822100607561356e-06\n",
      "445 1.7601530213566816e-06\n",
      "446 1.7386068352452968e-06\n",
      "447 1.7158200826554038e-06\n",
      "448 1.6927138454204579e-06\n",
      "449 1.6725016473886556e-06\n",
      "450 1.6537978814182566e-06\n",
      "451 1.6304006543038779e-06\n",
      "452 1.613275133469892e-06\n",
      "453 1.594334521811228e-06\n",
      "454 1.5744271892059819e-06\n",
      "455 1.553218840437792e-06\n",
      "456 1.5364386526345963e-06\n",
      "457 1.5176044285182673e-06\n",
      "458 1.4999134331097953e-06\n",
      "459 1.4813937809883572e-06\n",
      "460 1.4634588569365293e-06\n",
      "461 1.446108594624422e-06\n",
      "462 1.429282771688778e-06\n",
      "463 1.4104769167998034e-06\n",
      "464 1.3976610545500447e-06\n",
      "465 1.3801190319549388e-06\n",
      "466 1.3614353746471918e-06\n",
      "467 1.3471509793503616e-06\n",
      "468 1.3313380378648154e-06\n",
      "469 1.3134765994369173e-06\n",
      "470 1.3042704078676134e-06\n",
      "471 1.2871271855360594e-06\n",
      "472 1.2700062395964662e-06\n",
      "473 1.2578210817221767e-06\n",
      "474 1.2432541994400275e-06\n",
      "475 1.2269486285537201e-06\n",
      "476 1.2144452499252618e-06\n",
      "477 1.2012413707326686e-06\n",
      "478 1.1858417738383595e-06\n",
      "479 1.172810667457681e-06\n",
      "480 1.158657618749362e-06\n",
      "481 1.1457521845002721e-06\n",
      "482 1.1323294063903953e-06\n",
      "483 1.1204464795336293e-06\n",
      "484 1.1086751421840525e-06\n",
      "485 1.0947056695511309e-06\n",
      "486 1.0831198143594153e-06\n",
      "487 1.0710439347394895e-06\n",
      "488 1.0587772506054505e-06\n",
      "489 1.0481757440418134e-06\n",
      "490 1.0361979497947284e-06\n",
      "491 1.0246693065728399e-06\n",
      "492 1.013429624970842e-06\n",
      "493 1.002050368032206e-06\n",
      "494 9.914225075248154e-07\n",
      "495 9.806452461572307e-07\n",
      "496 9.70000867084971e-07\n",
      "497 9.598178700062754e-07\n",
      "498 9.488255055930424e-07\n",
      "499 9.387073391236323e-07\n",
      "500 9.286555027004427e-07\n",
      "501 9.184358181973763e-07\n",
      "502 9.090832124334386e-07\n",
      "503 8.99199867728261e-07\n",
      "504 8.893260353597886e-07\n",
      "505 8.799558688404608e-07\n",
      "506 8.703839512162038e-07\n",
      "507 8.612605778433075e-07\n",
      "508 8.522822018037913e-07\n",
      "509 8.430768037060486e-07\n",
      "510 8.342745862536907e-07\n",
      "511 8.253017714633626e-07\n",
      "512 8.165511685852633e-07\n",
      "513 8.080854943022661e-07\n",
      "514 7.995074356405518e-07\n",
      "515 7.912520098236176e-07\n",
      "516 7.829587982078044e-07\n",
      "517 7.745913604855885e-07\n",
      "518 7.665873609916057e-07\n",
      "519 7.585623747478068e-07\n",
      "520 7.506915686561289e-07\n",
      "521 7.430218806708904e-07\n",
      "522 7.351913747312829e-07\n",
      "523 7.275830277143105e-07\n",
      "524 7.200684114868786e-07\n",
      "525 7.125724539610657e-07\n",
      "526 7.053194406753566e-07\n",
      "527 6.980645677980337e-07\n",
      "528 6.908763604153704e-07\n",
      "529 6.83818789342648e-07\n",
      "530 6.767397574124822e-07\n",
      "531 6.698474228032845e-07\n",
      "532 6.630578259752641e-07\n",
      "533 6.562827561036844e-07\n",
      "534 6.496506404984857e-07\n",
      "535 6.430197397580415e-07\n",
      "536 6.364773252790431e-07\n",
      "537 6.300763583871934e-07\n",
      "538 6.236921448368449e-07\n",
      "539 6.17428282466078e-07\n",
      "540 6.112357320444666e-07\n",
      "541 6.05054146470981e-07\n",
      "542 5.989950062483504e-07\n",
      "543 5.929883908130431e-07\n",
      "544 5.870586490490413e-07\n",
      "545 5.812395979445184e-07\n",
      "546 5.754324308965324e-07\n",
      "547 5.697012373753242e-07\n",
      "548 5.640514671178602e-07\n",
      "549 5.584455980220235e-07\n",
      "550 5.529391925778438e-07\n",
      "551 5.474852995315514e-07\n",
      "552 5.420792433915664e-07\n",
      "553 5.367562021072637e-07\n",
      "554 5.314685084875638e-07\n",
      "555 5.262522845419114e-07\n",
      "556 5.211158371395959e-07\n",
      "557 5.160206036964243e-07\n",
      "558 5.109941092336773e-07\n",
      "559 5.060159400607095e-07\n",
      "560 5.010854411367682e-07\n",
      "561 4.962341778668364e-07\n",
      "562 4.914300283174879e-07\n",
      "563 4.866790645455156e-07\n",
      "564 4.819905207339454e-07\n",
      "565 4.773407713636285e-07\n",
      "566 4.727508741276451e-07\n",
      "567 4.6821671176434604e-07\n",
      "568 4.637286148871021e-07\n",
      "569 4.5930334179461456e-07\n",
      "570 4.5492103845935974e-07\n",
      "571 4.505813363367632e-07\n",
      "572 4.462995635141767e-07\n",
      "573 4.420630434634431e-07\n",
      "574 4.3787805560312906e-07\n",
      "575 4.337426986060646e-07\n",
      "576 4.296458859256156e-07\n",
      "577 4.256001285731261e-07\n",
      "578 4.21600040894972e-07\n",
      "579 4.17641697273242e-07\n",
      "580 4.1373419405217067e-07\n",
      "581 4.0986833828528235e-07\n",
      "582 4.060438764974159e-07\n",
      "583 4.022641715406307e-07\n",
      "584 3.985235981114396e-07\n",
      "585 3.948288108462669e-07\n",
      "586 3.911775443387601e-07\n",
      "587 3.875626459670986e-07\n",
      "588 3.8398969684081863e-07\n",
      "589 3.8045643194275114e-07\n",
      "590 3.769616657746975e-07\n",
      "591 3.73508516103923e-07\n",
      "592 3.700923116689442e-07\n",
      "593 3.6671425026332856e-07\n",
      "594 3.6337486090838874e-07\n",
      "595 3.600698167412027e-07\n",
      "596 3.568027148494338e-07\n",
      "597 3.5357350794252863e-07\n",
      "598 3.503787960633036e-07\n",
      "599 3.4721986754489905e-07\n",
      "600 3.4409494230453205e-07\n",
      "601 3.410042951184473e-07\n",
      "602 3.3794953357864974e-07\n",
      "603 3.3492742197575973e-07\n",
      "604 3.319383052611301e-07\n",
      "605 3.289829295118592e-07\n",
      "606 3.260589562763443e-07\n",
      "607 3.2316726640900906e-07\n",
      "608 3.2030777819789096e-07\n",
      "609 3.1747939377589126e-07\n",
      "610 3.146825788948925e-07\n",
      "611 3.119155679542168e-07\n",
      "612 3.091781385556126e-07\n",
      "613 3.064716288378356e-07\n",
      "614 3.0379450347284156e-07\n",
      "615 3.0114619894625697e-07\n",
      "616 2.985268991528264e-07\n",
      "617 2.959356840154292e-07\n",
      "618 2.933727760860229e-07\n",
      "619 2.9083767504547827e-07\n",
      "620 2.883296588425323e-07\n",
      "621 2.8584923584234183e-07\n",
      "622 2.8339548906200234e-07\n",
      "623 2.809676575144163e-07\n",
      "624 2.785662781787796e-07\n",
      "625 2.761908842155087e-07\n",
      "626 2.738409718033688e-07\n",
      "627 2.715162197894404e-07\n",
      "628 2.6921603888369687e-07\n",
      "629 2.6694064621617186e-07\n",
      "630 2.646897657855693e-07\n",
      "631 2.6246262403488894e-07\n",
      "632 2.602593331265741e-07\n",
      "633 2.580796168789162e-07\n",
      "634 2.559228478056094e-07\n",
      "635 2.537889418507212e-07\n",
      "636 2.516776663001533e-07\n",
      "637 2.495888210567533e-07\n",
      "638 2.475221348510373e-07\n",
      "639 2.454770261167332e-07\n",
      "640 2.4345346227530713e-07\n",
      "641 2.414514046028562e-07\n",
      "642 2.3947028498905595e-07\n",
      "643 2.3750985683272616e-07\n",
      "644 2.3557000346628396e-07\n",
      "645 2.3365043242037119e-07\n",
      "646 2.3175092818176382e-07\n",
      "647 2.2987119153757577e-07\n",
      "648 2.280110363110023e-07\n",
      "649 2.2617032664034882e-07\n",
      "650 2.2434861966489634e-07\n",
      "651 2.2254566767871082e-07\n",
      "652 2.2076146312810911e-07\n",
      "653 2.1899573607382674e-07\n",
      "654 2.1724817308047475e-07\n"
     ]
    },
    {
     "name": "stdout",
     "output_type": "stream",
     "text": [
      "655 2.1551857661740743e-07\n",
      "656 2.1380675980131636e-07\n",
      "657 2.121125473704559e-07\n",
      "658 2.1043565111163394e-07\n",
      "659 2.0877583055256934e-07\n",
      "660 2.0713300641553232e-07\n",
      "661 2.0550694815599267e-07\n",
      "662 2.038973652155425e-07\n",
      "663 2.023041344074318e-07\n",
      "664 2.0072709993890347e-07\n",
      "665 1.9916601007988056e-07\n",
      "666 1.9762063122157535e-07\n",
      "667 1.9609079292330733e-07\n",
      "668 1.945763839912122e-07\n",
      "669 1.9307721130719926e-07\n",
      "670 1.9159302377058162e-07\n",
      "671 1.9012368469227633e-07\n",
      "672 1.886690517224826e-07\n",
      "673 1.8722888492846182e-07\n",
      "674 1.8580299914347238e-07\n",
      "675 1.8439127389252082e-07\n",
      "676 1.8299355641488797e-07\n",
      "677 1.816096535539866e-07\n",
      "678 1.8023938214438692e-07\n",
      "679 1.7888261399348074e-07\n",
      "680 1.7753920183489486e-07\n",
      "681 1.7620893104689855e-07\n",
      "682 1.7489163857178357e-07\n",
      "683 1.7358722460234874e-07\n",
      "684 1.7229553816886053e-07\n",
      "685 1.7101639908728348e-07\n",
      "686 1.6974966669649306e-07\n",
      "687 1.6849521138054691e-07\n",
      "688 1.6725287192356074e-07\n",
      "689 1.660224761368372e-07\n",
      "690 1.6480389654339775e-07\n",
      "691 1.6359702953828637e-07\n",
      "692 1.6240172560879766e-07\n",
      "693 1.6121782448589484e-07\n",
      "694 1.6004521026573893e-07\n",
      "695 1.588837598137232e-07\n",
      "696 1.5773331366519093e-07\n",
      "697 1.5659373072021748e-07\n",
      "698 1.5546490671295422e-07\n",
      "699 1.5434673006141322e-07\n",
      "700 1.5323906206055502e-07\n",
      "701 1.5214177251299754e-07\n",
      "702 1.5105475386091031e-07\n",
      "703 1.49977880803596e-07\n",
      "704 1.489110099406919e-07\n",
      "705 1.4785402859828956e-07\n",
      "706 1.4680684551516093e-07\n",
      "707 1.4576934566064834e-07\n",
      "708 1.447414025699794e-07\n",
      "709 1.4372290945997958e-07\n",
      "710 1.4271376267645107e-07\n",
      "711 1.4171383924124691e-07\n",
      "712 1.4072301951439758e-07\n",
      "713 1.3974121082071476e-07\n",
      "714 1.387683227127815e-07\n",
      "715 1.378042442829541e-07\n",
      "716 1.368488674143866e-07\n",
      "717 1.3590209901128773e-07\n",
      "718 1.3496383619415065e-07\n",
      "719 1.3403396504688041e-07\n",
      "720 1.3311238916622385e-07\n",
      "721 1.3219902818411063e-07\n",
      "722 1.3129379059088906e-07\n",
      "723 1.3039657493232955e-07\n",
      "724 1.2950728998305539e-07\n",
      "725 1.2862584808655171e-07\n",
      "726 1.277521494617714e-07\n",
      "727 1.2688609670892957e-07\n",
      "728 1.2602761104544823e-07\n",
      "729 1.2517661592043573e-07\n",
      "730 1.2433302220015868e-07\n",
      "731 1.234967416810164e-07\n",
      "732 1.22667690606706e-07\n",
      "733 1.218457666932623e-07\n",
      "734 1.210308452989938e-07\n",
      "735 1.202228001903619e-07\n",
      "736 1.1942150999617405e-07\n",
      "737 1.1862684538285037e-07\n",
      "738 1.1783867311650225e-07\n",
      "739 1.1705687266825885e-07\n",
      "740 1.1628133302373664e-07\n",
      "741 1.1551194531362038e-07\n",
      "742 1.1474861298736746e-07\n",
      "743 1.1399125873082447e-07\n",
      "744 1.1323981014044281e-07\n",
      "745 1.1249418897896548e-07\n",
      "746 1.1175431841739864e-07\n",
      "747 1.1102012471629158e-07\n",
      "748 1.1029152848662533e-07\n",
      "749 1.0956844755580768e-07\n",
      "750 1.0885080898686292e-07\n",
      "751 1.0813854569530436e-07\n",
      "752 1.0743158560619016e-07\n",
      "753 1.0672985531802795e-07\n",
      "754 1.0603328762054288e-07\n",
      "755 1.0534181662596952e-07\n",
      "756 1.0465537391293048e-07\n",
      "757 1.0397389635233162e-07\n",
      "758 1.0329732794292282e-07\n",
      "759 1.0262560947585216e-07\n",
      "760 1.0195867512198617e-07\n",
      "761 1.0129645987314376e-07\n",
      "762 1.0063890088185398e-07\n",
      "763 9.998593387593816e-08\n",
      "764 9.933749845787438e-08\n",
      "765 9.869354428360509e-08\n",
      "766 9.805402512882941e-08\n",
      "767 9.741889139256177e-08\n",
      "768 9.678809265771655e-08\n",
      "769 9.61615802696965e-08\n",
      "770 9.553930383880496e-08\n",
      "771 9.49212124199218e-08\n",
      "772 9.430726092185872e-08\n",
      "773 9.369740883489272e-08\n",
      "774 9.309161334192746e-08\n",
      "775 9.248982961501072e-08\n",
      "776 9.189201493816492e-08\n",
      "777 9.129812740371233e-08\n",
      "778 9.070812481588308e-08\n",
      "779 9.012196900198368e-08\n",
      "780 8.953962637572496e-08\n",
      "781 8.896106154229256e-08\n",
      "782 8.838623470228605e-08\n",
      "783 8.781510529003801e-08\n",
      "784 8.724763308451525e-08\n",
      "785 8.668377735791741e-08\n",
      "786 8.612350040879229e-08\n",
      "787 8.556677028702913e-08\n",
      "788 8.501355650357636e-08\n",
      "789 8.446382578367599e-08\n",
      "790 8.391754373283518e-08\n",
      "791 8.337467644424928e-08\n",
      "792 8.283518945267295e-08\n",
      "793 8.229904956280748e-08\n",
      "794 8.176622808411113e-08\n",
      "795 8.123669875535386e-08\n",
      "796 8.07104335109278e-08\n",
      "797 8.018740290108592e-08\n",
      "798 7.966757817333639e-08\n",
      "799 7.915093085432032e-08\n",
      "800 7.863743348233812e-08\n",
      "801 7.812706231574321e-08\n",
      "802 7.761979637843937e-08\n",
      "803 7.711561335928918e-08\n",
      "804 7.661448873778446e-08\n",
      "805 7.611639762889673e-08\n",
      "806 7.562131497308024e-08\n",
      "807 7.512921589388525e-08\n",
      "808 7.46400781449252e-08\n",
      "809 7.415388231673652e-08\n",
      "810 7.36706085522367e-08\n",
      "811 7.31902350476753e-08\n",
      "812 7.271273953434073e-08\n",
      "813 7.2238099865148e-08\n",
      "814 7.176629407116285e-08\n",
      "815 7.129730217314473e-08\n",
      "816 7.083110685641138e-08\n",
      "817 7.036769085795407e-08\n",
      "818 6.990703503562006e-08\n",
      "819 6.944911935119203e-08\n",
      "820 6.899392376959976e-08\n",
      "821 6.854142842773898e-08\n",
      "822 6.809161511223992e-08\n",
      "823 6.764446823236496e-08\n",
      "824 6.719997286201787e-08\n",
      "825 6.67581126434444e-08\n",
      "826 6.631887020187064e-08\n",
      "827 6.588222798950404e-08\n",
      "828 6.54481684186324e-08\n",
      "829 6.501667496218626e-08\n",
      "830 6.458773319457713e-08\n",
      "831 6.416132940293674e-08\n",
      "832 6.373744863143144e-08\n",
      "833 6.331607483599153e-08\n",
      "834 6.289719177570953e-08\n",
      "835 6.248078326047345e-08\n",
      "836 6.206683401079737e-08\n",
      "837 6.165533062305463e-08\n",
      "838 6.124626051849703e-08\n",
      "839 6.083961008253741e-08\n",
      "840 6.043536453362007e-08\n",
      "841 6.003350872747792e-08\n",
      "842 5.963402749795177e-08\n",
      "843 5.9236906409191756e-08\n",
      "844 5.8842132684974945e-08\n",
      "845 5.844969446747427e-08\n",
      "846 5.805957915687735e-08\n",
      "847 5.7671773115055634e-08\n",
      "848 5.7286262335762026e-08\n",
      "849 5.6903032790601336e-08\n",
      "850 5.652207104959244e-08\n",
      "851 5.61433650912034e-08\n",
      "852 5.576690373314237e-08\n",
      "853 5.539267516409358e-08\n",
      "854 5.502066658615898e-08\n",
      "855 5.465086480640487e-08\n",
      "856 5.4283256621423246e-08\n",
      "857 5.3917829383422144e-08\n",
      "858 5.3554571712015006e-08\n",
      "859 5.319347302740085e-08\n",
      "860 5.2834522239325244e-08\n",
      "861 5.24777073486309e-08\n",
      "862 5.2123015939390215e-08\n",
      "863 5.1770435561282845e-08\n",
      "864 5.141995425329722e-08\n",
      "865 5.107156116991191e-08\n",
      "866 5.072524618587974e-08\n",
      "867 5.038099874799599e-08\n",
      "868 5.003880749614461e-08\n",
      "869 4.969866068580602e-08\n",
      "870 4.936054655733149e-08\n",
      "871 4.9024453819631006e-08\n",
      "872 4.8690372180958995e-08\n",
      "873 4.835829197467963e-08\n",
      "874 4.802820313976032e-08\n",
      "875 4.7700094878611944e-08\n",
      "876 4.737395602702883e-08\n",
      "877 4.704977541162751e-08\n",
      "878 4.6727542310135184e-08\n",
      "879 4.640724690281523e-08\n",
      "880 4.6088879905476905e-08\n",
      "881 4.577243166827588e-08\n",
      "882 4.54578918855936e-08\n",
      "883 4.514524992339422e-08\n",
      "884 4.483449515594378e-08\n",
      "885 4.452561739817207e-08\n",
      "886 4.421860727416971e-08\n",
      "887 4.391345583880079e-08\n",
      "888 4.3610153782716317e-08\n",
      "889 4.3308691206259086e-08\n",
      "890 4.300905792074769e-08\n",
      "891 4.2711243770628404e-08\n",
      "892 4.2415239043299014e-08\n",
      "893 4.212103475800824e-08\n",
      "894 4.182862226920308e-08\n",
      "895 4.153799256685125e-08\n",
      "896 4.124913611371915e-08\n",
      "897 4.0962043123946745e-08\n",
      "898 4.067670386939907e-08\n",
      "899 4.039310906428506e-08\n",
      "900 4.011125007503055e-08\n",
      "901 3.9831118506912915e-08\n",
      "902 3.9552705600197824e-08\n",
      "903 3.92760021332986e-08\n",
      "904 3.900099868488855e-08\n",
      "905 3.872768592615056e-08\n",
      "906 3.845605497422687e-08\n",
      "907 3.818609751922183e-08\n",
      "908 3.7917805394358373e-08\n",
      "909 3.765117006523319e-08\n",
      "910 3.738618259526859e-08\n",
      "911 3.712283389528641e-08\n",
      "912 3.68611150053679e-08\n",
      "913 3.660101741319004e-08\n",
      "914 3.634253309881964e-08\n",
      "915 3.608565409694994e-08\n",
      "916 3.583037207889758e-08\n",
      "917 3.557667837293824e-08\n",
      "918 3.532456420199483e-08\n",
      "919 3.507402095553945e-08\n",
      "920 3.482504046485943e-08\n",
      "921 3.4577614967445586e-08\n",
      "922 3.4331736674507385e-08\n",
      "923 3.408739744668641e-08\n",
      "924 3.3844588861598675e-08\n",
      "925 3.360330244106321e-08\n",
      "926 3.336352991232159e-08\n",
      "927 3.312526343070058e-08\n",
      "928 3.288849546740079e-08\n",
      "929 3.265321839695772e-08\n",
      "930 3.241942426471392e-08\n",
      "931 3.2187104891402415e-08\n",
      "932 3.195625209130411e-08\n",
      "933 3.172685791991077e-08\n",
      "934 3.1498914834523424e-08\n",
      "935 3.127241551507072e-08\n",
      "936 3.1047352488091446e-08\n",
      "937 3.082371798141014e-08\n",
      "938 3.060150405533253e-08\n",
      "939 3.038070281261718e-08\n",
      "940 3.0161306626567635e-08\n",
      "941 2.99433082311937e-08\n",
      "942 2.97267004894524e-08\n",
      "943 2.951147607075086e-08\n",
      "944 2.9297627384408478e-08\n",
      "945 2.9085146727834195e-08\n",
      "946 2.887402648935545e-08\n",
      "947 2.866425934724096e-08\n",
      "948 2.8455838284617997e-08\n",
      "949 2.8248756325278203e-08\n",
      "950 2.804300627806363e-08\n",
      "951 2.7838580737051755e-08\n",
      "952 2.7635472238757393e-08\n",
      "953 2.7433673456529577e-08\n",
      "954 2.723317735889938e-08\n",
      "955 2.703397714974335e-08\n",
      "956 2.6836065996136548e-08\n",
      "957 2.663943684779262e-08\n",
      "958 2.644408248948357e-08\n",
      "959 2.6249995701344295e-08\n",
      "960 2.605716944093428e-08\n",
      "961 2.586559694804668e-08\n",
      "962 2.5675271618866395e-08\n",
      "963 2.5486186751577784e-08\n",
      "964 2.529833544198349e-08\n",
      "965 2.5111710672851475e-08\n",
      "966 2.492630547350204e-08\n",
      "967 2.4742113081584437e-08\n",
      "968 2.455912698417548e-08\n",
      "969 2.4377340743227746e-08\n",
      "970 2.4196747782390645e-08\n",
      "971 2.4017341352358085e-08\n",
      "972 2.3839114643189084e-08\n",
      "973 2.366206093952601e-08\n",
      "974 2.3486173750356843e-08\n",
      "975 2.3311446782182896e-08\n",
      "976 2.313787374067425e-08\n",
      "977 2.296544817581212e-08\n",
      "978 2.2794163504427507e-08\n",
      "979 2.262401313440884e-08\n",
      "980 2.245499061027613e-08\n"
     ]
    },
    {
     "name": "stdout",
     "output_type": "stream",
     "text": [
      "981 2.2287089697296195e-08\n",
      "982 2.2120304292090504e-08\n",
      "983 2.1954628229015515e-08\n",
      "984 2.179005519112208e-08\n",
      "985 2.162657877403866e-08\n",
      "986 2.1464192614252092e-08\n",
      "987 2.1302890515991015e-08\n",
      "988 2.1142666478458338e-08\n",
      "989 2.098351456028837e-08\n",
      "990 2.082542871753123e-08\n",
      "991 2.066840277737698e-08\n",
      "992 2.05124305279318e-08\n",
      "993 2.0357505843791098e-08\n",
      "994 2.0203622781720757e-08\n",
      "995 2.005077554690019e-08\n",
      "996 1.98989583369553e-08\n",
      "997 1.974816523064665e-08\n",
      "998 1.9598390212997055e-08\n",
      "999 1.944962727821629e-08\n"
     ]
    }
   ],
   "source": [
    "spam_model.train(inputs = inputs_spam,\n",
    "                 targets = targets_spam,\n",
    "                 #inputs_val = input_map_list,\n",
    "                 #targets_val = targets_map,\n",
    "                 num_iter = 1000,\n",
    "                 N = N_spam\n",
    "                )"
   ]
  },
  {
   "cell_type": "code",
   "execution_count": 8,
   "metadata": {},
   "outputs": [],
   "source": [
    "kraus_model = KrausMap(\n",
    "                       d = d, \n",
    "                       rank = rank,\n",
    "                       spam = spam_model,\n",
    "                       )\n",
    "\n",
    "model = ModelQuantumMap(\n",
    "                        q_map = kraus_model,\n",
    "                        loss = probs_loss,\n",
    "                        optimizer = tf.optimizers.Adam(learning_rate=0.01),\n",
    "                        )"
   ]
  },
  {
   "cell_type": "code",
   "execution_count": 9,
   "metadata": {},
   "outputs": [
    {
     "data": {
      "application/vnd.jupyter.widget-view+json": {
       "model_id": "b39842c6f3394d31a4492b3aede2b849",
       "version_major": 2,
       "version_minor": 0
      },
      "text/plain": [
       "  0%|          | 0/1000 [00:00<?, ?it/s]"
      ]
     },
     "metadata": {},
     "output_type": "display_data"
    },
    {
     "name": "stdout",
     "output_type": "stream",
     "text": [
      "Step:0, train: 0.13127, val: 0.13127\n",
      "Step:1, train: 0.12884, val: 0.12884\n",
      "Step:2, train: 0.12644, val: 0.12644\n",
      "Step:3, train: 0.12406, val: 0.12406\n",
      "Step:4, train: 0.12171, val: 0.12171\n",
      "Step:5, train: 0.11937, val: 0.11937\n",
      "Step:6, train: 0.11706, val: 0.11706\n",
      "Step:7, train: 0.11477, val: 0.11477\n",
      "Step:8, train: 0.11250, val: 0.11250\n",
      "Step:9, train: 0.11025, val: 0.11025\n",
      "Step:10, train: 0.10803, val: 0.10803\n",
      "Step:11, train: 0.10583, val: 0.10583\n",
      "Step:12, train: 0.10365, val: 0.10365\n",
      "Step:13, train: 0.10150, val: 0.10150\n",
      "Step:14, train: 0.09937, val: 0.09937\n",
      "Step:15, train: 0.09726, val: 0.09726\n",
      "Step:16, train: 0.09518, val: 0.09518\n",
      "Step:17, train: 0.09313, val: 0.09313\n",
      "Step:18, train: 0.09110, val: 0.09110\n",
      "Step:19, train: 0.08909, val: 0.08909\n",
      "Step:20, train: 0.08711, val: 0.08711\n",
      "Step:21, train: 0.08515, val: 0.08515\n",
      "Step:22, train: 0.08321, val: 0.08321\n",
      "Step:23, train: 0.08130, val: 0.08130\n",
      "Step:24, train: 0.07940, val: 0.07940\n",
      "Step:25, train: 0.07752, val: 0.07752\n",
      "Step:26, train: 0.07567, val: 0.07567\n",
      "Step:27, train: 0.07384, val: 0.07384\n",
      "Step:28, train: 0.07204, val: 0.07204\n",
      "Step:29, train: 0.07027, val: 0.07027\n",
      "Step:30, train: 0.06850, val: 0.06850\n",
      "Step:31, train: 0.06676, val: 0.06676\n",
      "Step:32, train: 0.06504, val: 0.06504\n",
      "Step:33, train: 0.06334, val: 0.06334\n",
      "Step:34, train: 0.06166, val: 0.06166\n",
      "Step:35, train: 0.06000, val: 0.06000\n",
      "Step:36, train: 0.05836, val: 0.05836\n",
      "Step:37, train: 0.05674, val: 0.05674\n",
      "Step:38, train: 0.05514, val: 0.05514\n",
      "Step:39, train: 0.05356, val: 0.05356\n",
      "Step:40, train: 0.05201, val: 0.05201\n",
      "Step:41, train: 0.05048, val: 0.05048\n",
      "Step:42, train: 0.04897, val: 0.04897\n",
      "Step:43, train: 0.04749, val: 0.04749\n",
      "Step:44, train: 0.04603, val: 0.04603\n",
      "Step:45, train: 0.04459, val: 0.04459\n",
      "Step:46, train: 0.04318, val: 0.04318\n",
      "Step:47, train: 0.04179, val: 0.04179\n",
      "Step:48, train: 0.04042, val: 0.04042\n",
      "Step:49, train: 0.03907, val: 0.03907\n",
      "Step:50, train: 0.03775, val: 0.03775\n",
      "Step:51, train: 0.03647, val: 0.03647\n",
      "Step:52, train: 0.03521, val: 0.03521\n",
      "Step:53, train: 0.03397, val: 0.03397\n",
      "Step:54, train: 0.03276, val: 0.03276\n",
      "Step:55, train: 0.03159, val: 0.03159\n",
      "Step:56, train: 0.03044, val: 0.03044\n",
      "Step:57, train: 0.02933, val: 0.02933\n",
      "Step:58, train: 0.02824, val: 0.02824\n",
      "Step:59, train: 0.02718, val: 0.02718\n",
      "Step:60, train: 0.02616, val: 0.02616\n",
      "Step:61, train: 0.02517, val: 0.02517\n",
      "Step:62, train: 0.02421, val: 0.02421\n",
      "Step:63, train: 0.02328, val: 0.02328\n",
      "Step:64, train: 0.02238, val: 0.02238\n",
      "Step:65, train: 0.02151, val: 0.02151\n",
      "Step:66, train: 0.02068, val: 0.02068\n",
      "Step:67, train: 0.01987, val: 0.01987\n",
      "Step:68, train: 0.01910, val: 0.01910\n",
      "Step:69, train: 0.01835, val: 0.01835\n",
      "Step:70, train: 0.01763, val: 0.01763\n",
      "Step:71, train: 0.01694, val: 0.01694\n",
      "Step:72, train: 0.01628, val: 0.01628\n",
      "Step:73, train: 0.01564, val: 0.01564\n",
      "Step:74, train: 0.01503, val: 0.01503\n",
      "Step:75, train: 0.01445, val: 0.01445\n",
      "Step:76, train: 0.01389, val: 0.01389\n",
      "Step:77, train: 0.01336, val: 0.01336\n",
      "Step:78, train: 0.01285, val: 0.01285\n",
      "Step:79, train: 0.01236, val: 0.01236\n",
      "Step:80, train: 0.01189, val: 0.01189\n",
      "Step:81, train: 0.01145, val: 0.01145\n",
      "Step:82, train: 0.01103, val: 0.01103\n",
      "Step:83, train: 0.01062, val: 0.01062\n",
      "Step:84, train: 0.01023, val: 0.01023\n",
      "Step:85, train: 0.00986, val: 0.00986\n",
      "Step:86, train: 0.00951, val: 0.00951\n",
      "Step:87, train: 0.00918, val: 0.00918\n",
      "Step:88, train: 0.00886, val: 0.00886\n",
      "Step:89, train: 0.00855, val: 0.00855\n",
      "Step:90, train: 0.00826, val: 0.00826\n",
      "Step:91, train: 0.00798, val: 0.00798\n",
      "Step:92, train: 0.00772, val: 0.00772\n",
      "Step:93, train: 0.00747, val: 0.00747\n",
      "Step:94, train: 0.00723, val: 0.00723\n",
      "Step:95, train: 0.00700, val: 0.00700\n",
      "Step:96, train: 0.00678, val: 0.00678\n",
      "Step:97, train: 0.00658, val: 0.00658\n",
      "Step:98, train: 0.00638, val: 0.00638\n",
      "Step:99, train: 0.00619, val: 0.00619\n",
      "Step:100, train: 0.00602, val: 0.00602\n",
      "Step:101, train: 0.00585, val: 0.00585\n",
      "Step:102, train: 0.00569, val: 0.00569\n",
      "Step:103, train: 0.00553, val: 0.00553\n",
      "Step:104, train: 0.00539, val: 0.00539\n",
      "Step:105, train: 0.00525, val: 0.00525\n",
      "Step:106, train: 0.00511, val: 0.00511\n",
      "Step:107, train: 0.00499, val: 0.00499\n",
      "Step:108, train: 0.00487, val: 0.00487\n",
      "Step:109, train: 0.00475, val: 0.00475\n",
      "Step:110, train: 0.00464, val: 0.00464\n",
      "Step:111, train: 0.00453, val: 0.00453\n",
      "Step:112, train: 0.00443, val: 0.00443\n",
      "Step:113, train: 0.00434, val: 0.00434\n",
      "Step:114, train: 0.00424, val: 0.00424\n",
      "Step:115, train: 0.00415, val: 0.00415\n",
      "Step:116, train: 0.00407, val: 0.00407\n",
      "Step:117, train: 0.00399, val: 0.00399\n",
      "Step:118, train: 0.00391, val: 0.00391\n",
      "Step:119, train: 0.00383, val: 0.00383\n",
      "Step:120, train: 0.00376, val: 0.00376\n",
      "Step:121, train: 0.00369, val: 0.00369\n",
      "Step:122, train: 0.00362, val: 0.00362\n",
      "Step:123, train: 0.00356, val: 0.00356\n",
      "Step:124, train: 0.00349, val: 0.00349\n",
      "Step:125, train: 0.00343, val: 0.00343\n",
      "Step:126, train: 0.00337, val: 0.00337\n",
      "Step:127, train: 0.00332, val: 0.00332\n",
      "Step:128, train: 0.00326, val: 0.00326\n",
      "Step:129, train: 0.00321, val: 0.00321\n",
      "Step:130, train: 0.00316, val: 0.00316\n",
      "Step:131, train: 0.00311, val: 0.00311\n",
      "Step:132, train: 0.00306, val: 0.00306\n",
      "Step:133, train: 0.00301, val: 0.00301\n",
      "Step:134, train: 0.00297, val: 0.00297\n",
      "Step:135, train: 0.00292, val: 0.00292\n",
      "Step:136, train: 0.00288, val: 0.00288\n",
      "Step:137, train: 0.00284, val: 0.00284\n",
      "Step:138, train: 0.00280, val: 0.00280\n",
      "Step:139, train: 0.00276, val: 0.00276\n",
      "Step:140, train: 0.00272, val: 0.00272\n",
      "Step:141, train: 0.00268, val: 0.00268\n",
      "Step:142, train: 0.00264, val: 0.00264\n",
      "Step:143, train: 0.00261, val: 0.00261\n",
      "Step:144, train: 0.00257, val: 0.00257\n",
      "Step:145, train: 0.00254, val: 0.00254\n",
      "Step:146, train: 0.00250, val: 0.00250\n",
      "Step:147, train: 0.00247, val: 0.00247\n",
      "Step:148, train: 0.00244, val: 0.00244\n",
      "Step:149, train: 0.00241, val: 0.00241\n",
      "Step:150, train: 0.00238, val: 0.00238\n",
      "Step:151, train: 0.00235, val: 0.00235\n",
      "Step:152, train: 0.00232, val: 0.00232\n",
      "Step:153, train: 0.00229, val: 0.00229\n",
      "Step:154, train: 0.00227, val: 0.00227\n",
      "Step:155, train: 0.00224, val: 0.00224\n",
      "Step:156, train: 0.00221, val: 0.00221\n",
      "Step:157, train: 0.00219, val: 0.00219\n",
      "Step:158, train: 0.00216, val: 0.00216\n",
      "Step:159, train: 0.00214, val: 0.00214\n",
      "Step:160, train: 0.00211, val: 0.00211\n",
      "Step:161, train: 0.00209, val: 0.00209\n",
      "Step:162, train: 0.00206, val: 0.00206\n",
      "Step:163, train: 0.00204, val: 0.00204\n",
      "Step:164, train: 0.00202, val: 0.00202\n",
      "Step:165, train: 0.00200, val: 0.00200\n",
      "Step:166, train: 0.00197, val: 0.00197\n",
      "Step:167, train: 0.00195, val: 0.00195\n",
      "Step:168, train: 0.00193, val: 0.00193\n",
      "Step:169, train: 0.00191, val: 0.00191\n",
      "Step:170, train: 0.00189, val: 0.00189\n",
      "Step:171, train: 0.00187, val: 0.00187\n",
      "Step:172, train: 0.00185, val: 0.00185\n",
      "Step:173, train: 0.00183, val: 0.00183\n",
      "Step:174, train: 0.00181, val: 0.00181\n",
      "Step:175, train: 0.00179, val: 0.00179\n",
      "Step:176, train: 0.00178, val: 0.00178\n",
      "Step:177, train: 0.00176, val: 0.00176\n",
      "Step:178, train: 0.00174, val: 0.00174\n",
      "Step:179, train: 0.00172, val: 0.00172\n",
      "Step:180, train: 0.00171, val: 0.00171\n",
      "Step:181, train: 0.00169, val: 0.00169\n",
      "Step:182, train: 0.00167, val: 0.00167\n",
      "Step:183, train: 0.00165, val: 0.00165\n",
      "Step:184, train: 0.00164, val: 0.00164\n",
      "Step:185, train: 0.00162, val: 0.00162\n",
      "Step:186, train: 0.00161, val: 0.00161\n",
      "Step:187, train: 0.00159, val: 0.00159\n",
      "Step:188, train: 0.00157, val: 0.00157\n",
      "Step:189, train: 0.00156, val: 0.00156\n",
      "Step:190, train: 0.00154, val: 0.00154\n",
      "Step:191, train: 0.00153, val: 0.00153\n",
      "Step:192, train: 0.00151, val: 0.00151\n",
      "Step:193, train: 0.00150, val: 0.00150\n",
      "Step:194, train: 0.00149, val: 0.00149\n",
      "Step:195, train: 0.00147, val: 0.00147\n",
      "Step:196, train: 0.00146, val: 0.00146\n",
      "Step:197, train: 0.00144, val: 0.00144\n",
      "Step:198, train: 0.00143, val: 0.00143\n",
      "Step:199, train: 0.00142, val: 0.00142\n",
      "Step:200, train: 0.00140, val: 0.00140\n",
      "Step:201, train: 0.00139, val: 0.00139\n",
      "Step:202, train: 0.00138, val: 0.00138\n",
      "Step:203, train: 0.00136, val: 0.00136\n",
      "Step:204, train: 0.00135, val: 0.00135\n",
      "Step:205, train: 0.00134, val: 0.00134\n",
      "Step:206, train: 0.00133, val: 0.00133\n",
      "Step:207, train: 0.00131, val: 0.00131\n",
      "Step:208, train: 0.00130, val: 0.00130\n",
      "Step:209, train: 0.00129, val: 0.00129\n",
      "Step:210, train: 0.00128, val: 0.00128\n",
      "Step:211, train: 0.00127, val: 0.00127\n",
      "Step:212, train: 0.00125, val: 0.00125\n",
      "Step:213, train: 0.00124, val: 0.00124\n",
      "Step:214, train: 0.00123, val: 0.00123\n",
      "Step:215, train: 0.00122, val: 0.00122\n",
      "Step:216, train: 0.00121, val: 0.00121\n"
     ]
    },
    {
     "name": "stdout",
     "output_type": "stream",
     "text": [
      "Step:217, train: 0.00120, val: 0.00120\n",
      "Step:218, train: 0.00119, val: 0.00119\n",
      "Step:219, train: 0.00118, val: 0.00118\n",
      "Step:220, train: 0.00117, val: 0.00117\n",
      "Step:221, train: 0.00116, val: 0.00116\n",
      "Step:222, train: 0.00114, val: 0.00114\n",
      "Step:223, train: 0.00113, val: 0.00113\n",
      "Step:224, train: 0.00112, val: 0.00112\n",
      "Step:225, train: 0.00111, val: 0.00111\n",
      "Step:226, train: 0.00110, val: 0.00110\n",
      "Step:227, train: 0.00109, val: 0.00109\n",
      "Step:228, train: 0.00108, val: 0.00108\n",
      "Step:229, train: 0.00108, val: 0.00108\n",
      "Step:230, train: 0.00107, val: 0.00107\n",
      "Step:231, train: 0.00106, val: 0.00106\n",
      "Step:232, train: 0.00105, val: 0.00105\n",
      "Step:233, train: 0.00104, val: 0.00104\n",
      "Step:234, train: 0.00103, val: 0.00103\n",
      "Step:235, train: 0.00102, val: 0.00102\n",
      "Step:236, train: 0.00101, val: 0.00101\n",
      "Step:237, train: 0.00100, val: 0.00100\n",
      "Step:238, train: 0.00099, val: 0.00099\n",
      "Step:239, train: 0.00098, val: 0.00098\n",
      "Step:240, train: 0.00098, val: 0.00098\n",
      "Step:241, train: 0.00097, val: 0.00097\n",
      "Step:242, train: 0.00096, val: 0.00096\n",
      "Step:243, train: 0.00095, val: 0.00095\n",
      "Step:244, train: 0.00094, val: 0.00094\n",
      "Step:245, train: 0.00093, val: 0.00093\n",
      "Step:246, train: 0.00093, val: 0.00093\n",
      "Step:247, train: 0.00092, val: 0.00092\n",
      "Step:248, train: 0.00091, val: 0.00091\n",
      "Step:249, train: 0.00090, val: 0.00090\n",
      "Step:250, train: 0.00089, val: 0.00089\n",
      "Step:251, train: 0.00089, val: 0.00089\n",
      "Step:252, train: 0.00088, val: 0.00088\n",
      "Step:253, train: 0.00087, val: 0.00087\n",
      "Step:254, train: 0.00086, val: 0.00086\n",
      "Step:255, train: 0.00086, val: 0.00086\n",
      "Step:256, train: 0.00085, val: 0.00085\n",
      "Step:257, train: 0.00084, val: 0.00084\n",
      "Step:258, train: 0.00083, val: 0.00083\n",
      "Step:259, train: 0.00083, val: 0.00083\n",
      "Step:260, train: 0.00082, val: 0.00082\n",
      "Step:261, train: 0.00081, val: 0.00081\n",
      "Step:262, train: 0.00081, val: 0.00081\n",
      "Step:263, train: 0.00080, val: 0.00080\n",
      "Step:264, train: 0.00079, val: 0.00079\n",
      "Step:265, train: 0.00079, val: 0.00079\n",
      "Step:266, train: 0.00078, val: 0.00078\n",
      "Step:267, train: 0.00077, val: 0.00077\n",
      "Step:268, train: 0.00077, val: 0.00077\n",
      "Step:269, train: 0.00076, val: 0.00076\n",
      "Step:270, train: 0.00075, val: 0.00075\n",
      "Step:271, train: 0.00075, val: 0.00075\n",
      "Step:272, train: 0.00074, val: 0.00074\n",
      "Step:273, train: 0.00074, val: 0.00074\n",
      "Step:274, train: 0.00073, val: 0.00073\n",
      "Step:275, train: 0.00072, val: 0.00072\n",
      "Step:276, train: 0.00072, val: 0.00072\n",
      "Step:277, train: 0.00071, val: 0.00071\n",
      "Step:278, train: 0.00071, val: 0.00071\n",
      "Step:279, train: 0.00070, val: 0.00070\n",
      "Step:280, train: 0.00069, val: 0.00069\n",
      "Step:281, train: 0.00069, val: 0.00069\n",
      "Step:282, train: 0.00068, val: 0.00068\n",
      "Step:283, train: 0.00068, val: 0.00068\n",
      "Step:284, train: 0.00067, val: 0.00067\n",
      "Step:285, train: 0.00067, val: 0.00067\n",
      "Step:286, train: 0.00066, val: 0.00066\n",
      "Step:287, train: 0.00066, val: 0.00066\n",
      "Step:288, train: 0.00065, val: 0.00065\n",
      "Step:289, train: 0.00064, val: 0.00064\n",
      "Step:290, train: 0.00064, val: 0.00064\n",
      "Step:291, train: 0.00063, val: 0.00063\n",
      "Step:292, train: 0.00063, val: 0.00063\n",
      "Step:293, train: 0.00062, val: 0.00062\n",
      "Step:294, train: 0.00062, val: 0.00062\n",
      "Step:295, train: 0.00061, val: 0.00061\n",
      "Step:296, train: 0.00061, val: 0.00061\n",
      "Step:297, train: 0.00060, val: 0.00060\n",
      "Step:298, train: 0.00060, val: 0.00060\n",
      "Step:299, train: 0.00060, val: 0.00060\n",
      "Step:300, train: 0.00059, val: 0.00059\n",
      "Step:301, train: 0.00059, val: 0.00059\n",
      "Step:302, train: 0.00058, val: 0.00058\n",
      "Step:303, train: 0.00058, val: 0.00058\n",
      "Step:304, train: 0.00057, val: 0.00057\n",
      "Step:305, train: 0.00057, val: 0.00057\n",
      "Step:306, train: 0.00056, val: 0.00056\n",
      "Step:307, train: 0.00056, val: 0.00056\n",
      "Step:308, train: 0.00055, val: 0.00055\n",
      "Step:309, train: 0.00055, val: 0.00055\n",
      "Step:310, train: 0.00055, val: 0.00055\n",
      "Step:311, train: 0.00054, val: 0.00054\n",
      "Step:312, train: 0.00054, val: 0.00054\n",
      "Step:313, train: 0.00053, val: 0.00053\n",
      "Step:314, train: 0.00053, val: 0.00053\n",
      "Step:315, train: 0.00053, val: 0.00053\n",
      "Step:316, train: 0.00052, val: 0.00052\n",
      "Step:317, train: 0.00052, val: 0.00052\n",
      "Step:318, train: 0.00051, val: 0.00051\n",
      "Step:319, train: 0.00051, val: 0.00051\n",
      "Step:320, train: 0.00051, val: 0.00051\n",
      "Step:321, train: 0.00050, val: 0.00050\n",
      "Step:322, train: 0.00050, val: 0.00050\n",
      "Step:323, train: 0.00049, val: 0.00049\n",
      "Step:324, train: 0.00049, val: 0.00049\n",
      "Step:325, train: 0.00049, val: 0.00049\n",
      "Step:326, train: 0.00048, val: 0.00048\n",
      "Step:327, train: 0.00048, val: 0.00048\n",
      "Step:328, train: 0.00048, val: 0.00048\n",
      "Step:329, train: 0.00047, val: 0.00047\n",
      "Step:330, train: 0.00047, val: 0.00047\n",
      "Step:331, train: 0.00047, val: 0.00047\n",
      "Step:332, train: 0.00046, val: 0.00046\n",
      "Step:333, train: 0.00046, val: 0.00046\n",
      "Step:334, train: 0.00046, val: 0.00046\n",
      "Step:335, train: 0.00045, val: 0.00045\n",
      "Step:336, train: 0.00045, val: 0.00045\n",
      "Step:337, train: 0.00045, val: 0.00045\n",
      "Step:338, train: 0.00044, val: 0.00044\n",
      "Step:339, train: 0.00044, val: 0.00044\n",
      "Step:340, train: 0.00044, val: 0.00044\n",
      "Step:341, train: 0.00043, val: 0.00043\n",
      "Step:342, train: 0.00043, val: 0.00043\n",
      "Step:343, train: 0.00043, val: 0.00043\n",
      "Step:344, train: 0.00042, val: 0.00042\n",
      "Step:345, train: 0.00042, val: 0.00042\n",
      "Step:346, train: 0.00042, val: 0.00042\n",
      "Step:347, train: 0.00041, val: 0.00041\n",
      "Step:348, train: 0.00041, val: 0.00041\n",
      "Step:349, train: 0.00041, val: 0.00041\n",
      "Step:350, train: 0.00041, val: 0.00041\n",
      "Step:351, train: 0.00040, val: 0.00040\n",
      "Step:352, train: 0.00040, val: 0.00040\n",
      "Step:353, train: 0.00040, val: 0.00040\n",
      "Step:354, train: 0.00039, val: 0.00039\n",
      "Step:355, train: 0.00039, val: 0.00039\n",
      "Step:356, train: 0.00039, val: 0.00039\n",
      "Step:357, train: 0.00039, val: 0.00039\n",
      "Step:358, train: 0.00038, val: 0.00038\n",
      "Step:359, train: 0.00038, val: 0.00038\n",
      "Step:360, train: 0.00038, val: 0.00038\n",
      "Step:361, train: 0.00038, val: 0.00038\n",
      "Step:362, train: 0.00037, val: 0.00037\n",
      "Step:363, train: 0.00037, val: 0.00037\n",
      "Step:364, train: 0.00037, val: 0.00037\n",
      "Step:365, train: 0.00037, val: 0.00037\n",
      "Step:366, train: 0.00036, val: 0.00036\n",
      "Step:367, train: 0.00036, val: 0.00036\n",
      "Step:368, train: 0.00036, val: 0.00036\n",
      "Step:369, train: 0.00036, val: 0.00036\n",
      "Step:370, train: 0.00035, val: 0.00035\n",
      "Step:371, train: 0.00035, val: 0.00035\n",
      "Step:372, train: 0.00035, val: 0.00035\n",
      "Step:373, train: 0.00035, val: 0.00035\n",
      "Step:374, train: 0.00034, val: 0.00034\n",
      "Step:375, train: 0.00034, val: 0.00034\n",
      "Step:376, train: 0.00034, val: 0.00034\n",
      "Step:377, train: 0.00034, val: 0.00034\n",
      "Step:378, train: 0.00033, val: 0.00033\n",
      "Step:379, train: 0.00033, val: 0.00033\n",
      "Step:380, train: 0.00033, val: 0.00033\n",
      "Step:381, train: 0.00033, val: 0.00033\n",
      "Step:382, train: 0.00033, val: 0.00033\n",
      "Step:383, train: 0.00032, val: 0.00032\n",
      "Step:384, train: 0.00032, val: 0.00032\n",
      "Step:385, train: 0.00032, val: 0.00032\n",
      "Step:386, train: 0.00032, val: 0.00032\n",
      "Step:387, train: 0.00031, val: 0.00031\n",
      "Step:388, train: 0.00031, val: 0.00031\n",
      "Step:389, train: 0.00031, val: 0.00031\n",
      "Step:390, train: 0.00031, val: 0.00031\n",
      "Step:391, train: 0.00031, val: 0.00031\n",
      "Step:392, train: 0.00030, val: 0.00030\n",
      "Step:393, train: 0.00030, val: 0.00030\n",
      "Step:394, train: 0.00030, val: 0.00030\n",
      "Step:395, train: 0.00030, val: 0.00030\n",
      "Step:396, train: 0.00030, val: 0.00030\n",
      "Step:397, train: 0.00029, val: 0.00029\n",
      "Step:398, train: 0.00029, val: 0.00029\n",
      "Step:399, train: 0.00029, val: 0.00029\n",
      "Step:400, train: 0.00029, val: 0.00029\n",
      "Step:401, train: 0.00029, val: 0.00029\n",
      "Step:402, train: 0.00028, val: 0.00028\n",
      "Step:403, train: 0.00028, val: 0.00028\n",
      "Step:404, train: 0.00028, val: 0.00028\n",
      "Step:405, train: 0.00028, val: 0.00028\n",
      "Step:406, train: 0.00028, val: 0.00028\n",
      "Step:407, train: 0.00027, val: 0.00027\n",
      "Step:408, train: 0.00027, val: 0.00027\n",
      "Step:409, train: 0.00027, val: 0.00027\n",
      "Step:410, train: 0.00027, val: 0.00027\n",
      "Step:411, train: 0.00027, val: 0.00027\n",
      "Step:412, train: 0.00027, val: 0.00027\n",
      "Step:413, train: 0.00026, val: 0.00026\n",
      "Step:414, train: 0.00026, val: 0.00026\n",
      "Step:415, train: 0.00026, val: 0.00026\n",
      "Step:416, train: 0.00026, val: 0.00026\n",
      "Step:417, train: 0.00026, val: 0.00026\n",
      "Step:418, train: 0.00026, val: 0.00026\n",
      "Step:419, train: 0.00025, val: 0.00025\n",
      "Step:420, train: 0.00025, val: 0.00025\n",
      "Step:421, train: 0.00025, val: 0.00025\n",
      "Step:422, train: 0.00025, val: 0.00025\n",
      "Step:423, train: 0.00025, val: 0.00025\n",
      "Step:424, train: 0.00025, val: 0.00025\n",
      "Step:425, train: 0.00024, val: 0.00024\n",
      "Step:426, train: 0.00024, val: 0.00024\n",
      "Step:427, train: 0.00024, val: 0.00024\n",
      "Step:428, train: 0.00024, val: 0.00024\n",
      "Step:429, train: 0.00024, val: 0.00024\n",
      "Step:430, train: 0.00024, val: 0.00024\n"
     ]
    },
    {
     "name": "stdout",
     "output_type": "stream",
     "text": [
      "Step:431, train: 0.00023, val: 0.00023\n",
      "Step:432, train: 0.00023, val: 0.00023\n",
      "Step:433, train: 0.00023, val: 0.00023\n",
      "Step:434, train: 0.00023, val: 0.00023\n",
      "Step:435, train: 0.00023, val: 0.00023\n",
      "Step:436, train: 0.00023, val: 0.00023\n",
      "Step:437, train: 0.00023, val: 0.00023\n",
      "Step:438, train: 0.00022, val: 0.00022\n",
      "Step:439, train: 0.00022, val: 0.00022\n",
      "Step:440, train: 0.00022, val: 0.00022\n",
      "Step:441, train: 0.00022, val: 0.00022\n",
      "Step:442, train: 0.00022, val: 0.00022\n",
      "Step:443, train: 0.00022, val: 0.00022\n",
      "Step:444, train: 0.00021, val: 0.00021\n",
      "Step:445, train: 0.00021, val: 0.00021\n",
      "Step:446, train: 0.00021, val: 0.00021\n",
      "Step:447, train: 0.00021, val: 0.00021\n",
      "Step:448, train: 0.00021, val: 0.00021\n",
      "Step:449, train: 0.00021, val: 0.00021\n",
      "Step:450, train: 0.00021, val: 0.00021\n",
      "Step:451, train: 0.00021, val: 0.00021\n",
      "Step:452, train: 0.00020, val: 0.00020\n",
      "Step:453, train: 0.00020, val: 0.00020\n",
      "Step:454, train: 0.00020, val: 0.00020\n",
      "Step:455, train: 0.00020, val: 0.00020\n",
      "Step:456, train: 0.00020, val: 0.00020\n",
      "Step:457, train: 0.00020, val: 0.00020\n",
      "Step:458, train: 0.00020, val: 0.00020\n",
      "Step:459, train: 0.00019, val: 0.00019\n",
      "Step:460, train: 0.00019, val: 0.00019\n",
      "Step:461, train: 0.00019, val: 0.00019\n",
      "Step:462, train: 0.00019, val: 0.00019\n",
      "Step:463, train: 0.00019, val: 0.00019\n",
      "Step:464, train: 0.00019, val: 0.00019\n",
      "Step:465, train: 0.00019, val: 0.00019\n",
      "Step:466, train: 0.00019, val: 0.00019\n",
      "Step:467, train: 0.00018, val: 0.00018\n",
      "Step:468, train: 0.00018, val: 0.00018\n",
      "Step:469, train: 0.00018, val: 0.00018\n",
      "Step:470, train: 0.00018, val: 0.00018\n",
      "Step:471, train: 0.00018, val: 0.00018\n",
      "Step:472, train: 0.00018, val: 0.00018\n",
      "Step:473, train: 0.00018, val: 0.00018\n",
      "Step:474, train: 0.00018, val: 0.00018\n",
      "Step:475, train: 0.00018, val: 0.00018\n",
      "Step:476, train: 0.00017, val: 0.00017\n",
      "Step:477, train: 0.00017, val: 0.00017\n",
      "Step:478, train: 0.00017, val: 0.00017\n",
      "Step:479, train: 0.00017, val: 0.00017\n",
      "Step:480, train: 0.00017, val: 0.00017\n",
      "Step:481, train: 0.00017, val: 0.00017\n",
      "Step:482, train: 0.00017, val: 0.00017\n",
      "Step:483, train: 0.00017, val: 0.00017\n",
      "Step:484, train: 0.00017, val: 0.00017\n",
      "Step:485, train: 0.00016, val: 0.00016\n",
      "Step:486, train: 0.00016, val: 0.00016\n",
      "Step:487, train: 0.00016, val: 0.00016\n",
      "Step:488, train: 0.00016, val: 0.00016\n",
      "Step:489, train: 0.00016, val: 0.00016\n",
      "Step:490, train: 0.00016, val: 0.00016\n",
      "Step:491, train: 0.00016, val: 0.00016\n",
      "Step:492, train: 0.00016, val: 0.00016\n",
      "Step:493, train: 0.00016, val: 0.00016\n",
      "Step:494, train: 0.00016, val: 0.00016\n",
      "Step:495, train: 0.00015, val: 0.00015\n",
      "Step:496, train: 0.00015, val: 0.00015\n",
      "Step:497, train: 0.00015, val: 0.00015\n",
      "Step:498, train: 0.00015, val: 0.00015\n",
      "Step:499, train: 0.00015, val: 0.00015\n",
      "Step:500, train: 0.00015, val: 0.00015\n",
      "Step:501, train: 0.00015, val: 0.00015\n",
      "Step:502, train: 0.00015, val: 0.00015\n",
      "Step:503, train: 0.00015, val: 0.00015\n",
      "Step:504, train: 0.00015, val: 0.00015\n",
      "Step:505, train: 0.00014, val: 0.00014\n",
      "Step:506, train: 0.00014, val: 0.00014\n",
      "Step:507, train: 0.00014, val: 0.00014\n",
      "Step:508, train: 0.00014, val: 0.00014\n",
      "Step:509, train: 0.00014, val: 0.00014\n",
      "Step:510, train: 0.00014, val: 0.00014\n",
      "Step:511, train: 0.00014, val: 0.00014\n",
      "Step:512, train: 0.00014, val: 0.00014\n",
      "Step:513, train: 0.00014, val: 0.00014\n",
      "Step:514, train: 0.00014, val: 0.00014\n",
      "Step:515, train: 0.00014, val: 0.00014\n",
      "Step:516, train: 0.00013, val: 0.00013\n",
      "Step:517, train: 0.00013, val: 0.00013\n",
      "Step:518, train: 0.00013, val: 0.00013\n",
      "Step:519, train: 0.00013, val: 0.00013\n",
      "Step:520, train: 0.00013, val: 0.00013\n",
      "Step:521, train: 0.00013, val: 0.00013\n",
      "Step:522, train: 0.00013, val: 0.00013\n",
      "Step:523, train: 0.00013, val: 0.00013\n",
      "Step:524, train: 0.00013, val: 0.00013\n",
      "Step:525, train: 0.00013, val: 0.00013\n",
      "Step:526, train: 0.00013, val: 0.00013\n",
      "Step:527, train: 0.00013, val: 0.00013\n",
      "Step:528, train: 0.00012, val: 0.00012\n",
      "Step:529, train: 0.00012, val: 0.00012\n",
      "Step:530, train: 0.00012, val: 0.00012\n",
      "Step:531, train: 0.00012, val: 0.00012\n",
      "Step:532, train: 0.00012, val: 0.00012\n",
      "Step:533, train: 0.00012, val: 0.00012\n",
      "Step:534, train: 0.00012, val: 0.00012\n",
      "Step:535, train: 0.00012, val: 0.00012\n",
      "Step:536, train: 0.00012, val: 0.00012\n",
      "Step:537, train: 0.00012, val: 0.00012\n",
      "Step:538, train: 0.00012, val: 0.00012\n",
      "Step:539, train: 0.00012, val: 0.00012\n",
      "Step:540, train: 0.00012, val: 0.00012\n",
      "Step:541, train: 0.00012, val: 0.00012\n",
      "Step:542, train: 0.00011, val: 0.00011\n",
      "Step:543, train: 0.00011, val: 0.00011\n",
      "Step:544, train: 0.00011, val: 0.00011\n",
      "Step:545, train: 0.00011, val: 0.00011\n",
      "Step:546, train: 0.00011, val: 0.00011\n",
      "Step:547, train: 0.00011, val: 0.00011\n",
      "Step:548, train: 0.00011, val: 0.00011\n",
      "Step:549, train: 0.00011, val: 0.00011\n",
      "Step:550, train: 0.00011, val: 0.00011\n",
      "Step:551, train: 0.00011, val: 0.00011\n",
      "Step:552, train: 0.00011, val: 0.00011\n",
      "Step:553, train: 0.00011, val: 0.00011\n",
      "Step:554, train: 0.00011, val: 0.00011\n",
      "Step:555, train: 0.00011, val: 0.00011\n",
      "Step:556, train: 0.00010, val: 0.00010\n",
      "Step:557, train: 0.00010, val: 0.00010\n",
      "Step:558, train: 0.00010, val: 0.00010\n",
      "Step:559, train: 0.00010, val: 0.00010\n",
      "Step:560, train: 0.00010, val: 0.00010\n",
      "Step:561, train: 0.00010, val: 0.00010\n",
      "Step:562, train: 0.00010, val: 0.00010\n",
      "Step:563, train: 0.00010, val: 0.00010\n",
      "Step:564, train: 0.00010, val: 0.00010\n",
      "Step:565, train: 0.00010, val: 0.00010\n",
      "Step:566, train: 0.00010, val: 0.00010\n",
      "Step:567, train: 0.00010, val: 0.00010\n",
      "Step:568, train: 0.00010, val: 0.00010\n",
      "Step:569, train: 0.00010, val: 0.00010\n",
      "Step:570, train: 0.00010, val: 0.00010\n",
      "Step:571, train: 0.00010, val: 0.00010\n",
      "Step:572, train: 0.00010, val: 0.00010\n",
      "Step:573, train: 0.00009, val: 0.00009\n",
      "Step:574, train: 0.00009, val: 0.00009\n",
      "Step:575, train: 0.00009, val: 0.00009\n",
      "Step:576, train: 0.00009, val: 0.00009\n",
      "Step:577, train: 0.00009, val: 0.00009\n",
      "Step:578, train: 0.00009, val: 0.00009\n",
      "Step:579, train: 0.00009, val: 0.00009\n",
      "Step:580, train: 0.00009, val: 0.00009\n",
      "Step:581, train: 0.00009, val: 0.00009\n",
      "Step:582, train: 0.00009, val: 0.00009\n",
      "Step:583, train: 0.00009, val: 0.00009\n",
      "Step:584, train: 0.00009, val: 0.00009\n",
      "Step:585, train: 0.00009, val: 0.00009\n",
      "Step:586, train: 0.00009, val: 0.00009\n",
      "Step:587, train: 0.00009, val: 0.00009\n",
      "Step:588, train: 0.00009, val: 0.00009\n",
      "Step:589, train: 0.00009, val: 0.00009\n",
      "Step:590, train: 0.00009, val: 0.00009\n",
      "Step:591, train: 0.00008, val: 0.00008\n",
      "Step:592, train: 0.00008, val: 0.00008\n",
      "Step:593, train: 0.00008, val: 0.00008\n",
      "Step:594, train: 0.00008, val: 0.00008\n",
      "Step:595, train: 0.00008, val: 0.00008\n",
      "Step:596, train: 0.00008, val: 0.00008\n",
      "Step:597, train: 0.00008, val: 0.00008\n",
      "Step:598, train: 0.00008, val: 0.00008\n",
      "Step:599, train: 0.00008, val: 0.00008\n",
      "Step:600, train: 0.00008, val: 0.00008\n",
      "Step:601, train: 0.00008, val: 0.00008\n",
      "Step:602, train: 0.00008, val: 0.00008\n",
      "Step:603, train: 0.00008, val: 0.00008\n",
      "Step:604, train: 0.00008, val: 0.00008\n",
      "Step:605, train: 0.00008, val: 0.00008\n",
      "Step:606, train: 0.00008, val: 0.00008\n",
      "Step:607, train: 0.00008, val: 0.00008\n",
      "Step:608, train: 0.00008, val: 0.00008\n",
      "Step:609, train: 0.00008, val: 0.00008\n",
      "Step:610, train: 0.00008, val: 0.00008\n",
      "Step:611, train: 0.00008, val: 0.00008\n",
      "Step:612, train: 0.00007, val: 0.00007\n",
      "Step:613, train: 0.00007, val: 0.00007\n",
      "Step:614, train: 0.00007, val: 0.00007\n",
      "Step:615, train: 0.00007, val: 0.00007\n",
      "Step:616, train: 0.00007, val: 0.00007\n",
      "Step:617, train: 0.00007, val: 0.00007\n",
      "Step:618, train: 0.00007, val: 0.00007\n",
      "Step:619, train: 0.00007, val: 0.00007\n",
      "Step:620, train: 0.00007, val: 0.00007\n",
      "Step:621, train: 0.00007, val: 0.00007\n",
      "Step:622, train: 0.00007, val: 0.00007\n",
      "Step:623, train: 0.00007, val: 0.00007\n",
      "Step:624, train: 0.00007, val: 0.00007\n",
      "Step:625, train: 0.00007, val: 0.00007\n",
      "Step:626, train: 0.00007, val: 0.00007\n",
      "Step:627, train: 0.00007, val: 0.00007\n",
      "Step:628, train: 0.00007, val: 0.00007\n",
      "Step:629, train: 0.00007, val: 0.00007\n",
      "Step:630, train: 0.00007, val: 0.00007\n",
      "Step:631, train: 0.00007, val: 0.00007\n",
      "Step:632, train: 0.00007, val: 0.00007\n",
      "Step:633, train: 0.00007, val: 0.00007\n",
      "Step:634, train: 0.00007, val: 0.00007\n",
      "Step:635, train: 0.00007, val: 0.00007\n",
      "Step:636, train: 0.00007, val: 0.00007\n",
      "Step:637, train: 0.00006, val: 0.00006\n",
      "Step:638, train: 0.00006, val: 0.00006\n",
      "Step:639, train: 0.00006, val: 0.00006\n",
      "Step:640, train: 0.00006, val: 0.00006\n",
      "Step:641, train: 0.00006, val: 0.00006\n",
      "Step:642, train: 0.00006, val: 0.00006\n",
      "Step:643, train: 0.00006, val: 0.00006\n",
      "Step:644, train: 0.00006, val: 0.00006\n",
      "Step:645, train: 0.00006, val: 0.00006\n",
      "Step:646, train: 0.00006, val: 0.00006\n",
      "Step:647, train: 0.00006, val: 0.00006\n"
     ]
    },
    {
     "name": "stdout",
     "output_type": "stream",
     "text": [
      "Step:648, train: 0.00006, val: 0.00006\n",
      "Step:649, train: 0.00006, val: 0.00006\n",
      "Step:650, train: 0.00006, val: 0.00006\n",
      "Step:651, train: 0.00006, val: 0.00006\n",
      "Step:652, train: 0.00006, val: 0.00006\n",
      "Step:653, train: 0.00006, val: 0.00006\n",
      "Step:654, train: 0.00006, val: 0.00006\n",
      "Step:655, train: 0.00006, val: 0.00006\n",
      "Step:656, train: 0.00006, val: 0.00006\n",
      "Step:657, train: 0.00006, val: 0.00006\n",
      "Step:658, train: 0.00006, val: 0.00006\n",
      "Step:659, train: 0.00006, val: 0.00006\n",
      "Step:660, train: 0.00006, val: 0.00006\n",
      "Step:661, train: 0.00006, val: 0.00006\n",
      "Step:662, train: 0.00006, val: 0.00006\n",
      "Step:663, train: 0.00006, val: 0.00006\n",
      "Step:664, train: 0.00006, val: 0.00006\n",
      "Step:665, train: 0.00006, val: 0.00006\n",
      "Step:666, train: 0.00006, val: 0.00006\n",
      "Step:667, train: 0.00005, val: 0.00005\n",
      "Step:668, train: 0.00005, val: 0.00005\n",
      "Step:669, train: 0.00005, val: 0.00005\n",
      "Step:670, train: 0.00005, val: 0.00005\n",
      "Step:671, train: 0.00005, val: 0.00005\n",
      "Step:672, train: 0.00005, val: 0.00005\n",
      "Step:673, train: 0.00005, val: 0.00005\n",
      "Step:674, train: 0.00005, val: 0.00005\n",
      "Step:675, train: 0.00005, val: 0.00005\n",
      "Step:676, train: 0.00005, val: 0.00005\n",
      "Step:677, train: 0.00005, val: 0.00005\n",
      "Step:678, train: 0.00005, val: 0.00005\n",
      "Step:679, train: 0.00005, val: 0.00005\n",
      "Step:680, train: 0.00005, val: 0.00005\n",
      "Step:681, train: 0.00005, val: 0.00005\n",
      "Step:682, train: 0.00005, val: 0.00005\n",
      "Step:683, train: 0.00005, val: 0.00005\n",
      "Step:684, train: 0.00005, val: 0.00005\n",
      "Step:685, train: 0.00005, val: 0.00005\n",
      "Step:686, train: 0.00005, val: 0.00005\n",
      "Step:687, train: 0.00005, val: 0.00005\n",
      "Step:688, train: 0.00005, val: 0.00005\n",
      "Step:689, train: 0.00005, val: 0.00005\n",
      "Step:690, train: 0.00005, val: 0.00005\n",
      "Step:691, train: 0.00005, val: 0.00005\n",
      "Step:692, train: 0.00005, val: 0.00005\n",
      "Step:693, train: 0.00005, val: 0.00005\n",
      "Step:694, train: 0.00005, val: 0.00005\n",
      "Step:695, train: 0.00005, val: 0.00005\n",
      "Step:696, train: 0.00005, val: 0.00005\n",
      "Step:697, train: 0.00005, val: 0.00005\n",
      "Step:698, train: 0.00005, val: 0.00005\n",
      "Step:699, train: 0.00005, val: 0.00005\n",
      "Step:700, train: 0.00005, val: 0.00005\n",
      "Step:701, train: 0.00005, val: 0.00005\n",
      "Step:702, train: 0.00005, val: 0.00005\n",
      "Step:703, train: 0.00004, val: 0.00004\n",
      "Step:704, train: 0.00004, val: 0.00004\n",
      "Step:705, train: 0.00004, val: 0.00004\n",
      "Step:706, train: 0.00004, val: 0.00004\n",
      "Step:707, train: 0.00004, val: 0.00004\n",
      "Step:708, train: 0.00004, val: 0.00004\n",
      "Step:709, train: 0.00004, val: 0.00004\n",
      "Step:710, train: 0.00004, val: 0.00004\n",
      "Step:711, train: 0.00004, val: 0.00004\n",
      "Step:712, train: 0.00004, val: 0.00004\n",
      "Step:713, train: 0.00004, val: 0.00004\n",
      "Step:714, train: 0.00004, val: 0.00004\n",
      "Step:715, train: 0.00004, val: 0.00004\n",
      "Step:716, train: 0.00004, val: 0.00004\n",
      "Step:717, train: 0.00004, val: 0.00004\n",
      "Step:718, train: 0.00004, val: 0.00004\n",
      "Step:719, train: 0.00004, val: 0.00004\n",
      "Step:720, train: 0.00004, val: 0.00004\n",
      "Step:721, train: 0.00004, val: 0.00004\n",
      "Step:722, train: 0.00004, val: 0.00004\n",
      "Step:723, train: 0.00004, val: 0.00004\n",
      "Step:724, train: 0.00004, val: 0.00004\n",
      "Step:725, train: 0.00004, val: 0.00004\n",
      "Step:726, train: 0.00004, val: 0.00004\n",
      "Step:727, train: 0.00004, val: 0.00004\n",
      "Step:728, train: 0.00004, val: 0.00004\n",
      "Step:729, train: 0.00004, val: 0.00004\n",
      "Step:730, train: 0.00004, val: 0.00004\n",
      "Step:731, train: 0.00004, val: 0.00004\n",
      "Step:732, train: 0.00004, val: 0.00004\n",
      "Step:733, train: 0.00004, val: 0.00004\n",
      "Step:734, train: 0.00004, val: 0.00004\n",
      "Step:735, train: 0.00004, val: 0.00004\n",
      "Step:736, train: 0.00004, val: 0.00004\n",
      "Step:737, train: 0.00004, val: 0.00004\n",
      "Step:738, train: 0.00004, val: 0.00004\n",
      "Step:739, train: 0.00004, val: 0.00004\n",
      "Step:740, train: 0.00004, val: 0.00004\n",
      "Step:741, train: 0.00004, val: 0.00004\n",
      "Step:742, train: 0.00004, val: 0.00004\n",
      "Step:743, train: 0.00004, val: 0.00004\n",
      "Step:744, train: 0.00004, val: 0.00004\n",
      "Step:745, train: 0.00004, val: 0.00004\n",
      "Step:746, train: 0.00004, val: 0.00004\n",
      "Step:747, train: 0.00004, val: 0.00004\n",
      "Step:748, train: 0.00004, val: 0.00004\n",
      "Step:749, train: 0.00004, val: 0.00004\n",
      "Step:750, train: 0.00004, val: 0.00004\n",
      "Step:751, train: 0.00004, val: 0.00004\n",
      "Step:752, train: 0.00003, val: 0.00003\n",
      "Step:753, train: 0.00003, val: 0.00003\n",
      "Step:754, train: 0.00003, val: 0.00003\n",
      "Step:755, train: 0.00003, val: 0.00003\n",
      "Step:756, train: 0.00003, val: 0.00003\n",
      "Step:757, train: 0.00003, val: 0.00003\n",
      "Step:758, train: 0.00003, val: 0.00003\n",
      "Step:759, train: 0.00003, val: 0.00003\n",
      "Step:760, train: 0.00003, val: 0.00003\n",
      "Step:761, train: 0.00003, val: 0.00003\n",
      "Step:762, train: 0.00003, val: 0.00003\n",
      "Step:763, train: 0.00003, val: 0.00003\n",
      "Step:764, train: 0.00003, val: 0.00003\n",
      "Step:765, train: 0.00003, val: 0.00003\n",
      "Step:766, train: 0.00003, val: 0.00003\n",
      "Step:767, train: 0.00003, val: 0.00003\n",
      "Step:768, train: 0.00003, val: 0.00003\n",
      "Step:769, train: 0.00003, val: 0.00003\n",
      "Step:770, train: 0.00003, val: 0.00003\n",
      "Step:771, train: 0.00003, val: 0.00003\n",
      "Step:772, train: 0.00003, val: 0.00003\n",
      "Step:773, train: 0.00003, val: 0.00003\n",
      "Step:774, train: 0.00003, val: 0.00003\n",
      "Step:775, train: 0.00003, val: 0.00003\n",
      "Step:776, train: 0.00003, val: 0.00003\n",
      "Step:777, train: 0.00003, val: 0.00003\n",
      "Step:778, train: 0.00003, val: 0.00003\n",
      "Step:779, train: 0.00003, val: 0.00003\n",
      "Step:780, train: 0.00003, val: 0.00003\n",
      "Step:781, train: 0.00003, val: 0.00003\n",
      "Step:782, train: 0.00003, val: 0.00003\n",
      "Step:783, train: 0.00003, val: 0.00003\n",
      "Step:784, train: 0.00003, val: 0.00003\n",
      "Step:785, train: 0.00003, val: 0.00003\n",
      "Step:786, train: 0.00003, val: 0.00003\n",
      "Step:787, train: 0.00003, val: 0.00003\n",
      "Step:788, train: 0.00003, val: 0.00003\n",
      "Step:789, train: 0.00003, val: 0.00003\n",
      "Step:790, train: 0.00003, val: 0.00003\n",
      "Step:791, train: 0.00003, val: 0.00003\n",
      "Step:792, train: 0.00003, val: 0.00003\n",
      "Step:793, train: 0.00003, val: 0.00003\n",
      "Step:794, train: 0.00003, val: 0.00003\n",
      "Step:795, train: 0.00003, val: 0.00003\n",
      "Step:796, train: 0.00003, val: 0.00003\n",
      "Step:797, train: 0.00003, val: 0.00003\n",
      "Step:798, train: 0.00003, val: 0.00003\n",
      "Step:799, train: 0.00003, val: 0.00003\n",
      "Step:800, train: 0.00003, val: 0.00003\n",
      "Step:801, train: 0.00003, val: 0.00003\n",
      "Step:802, train: 0.00003, val: 0.00003\n",
      "Step:803, train: 0.00003, val: 0.00003\n",
      "Step:804, train: 0.00003, val: 0.00003\n",
      "Step:805, train: 0.00003, val: 0.00003\n",
      "Step:806, train: 0.00003, val: 0.00003\n",
      "Step:807, train: 0.00003, val: 0.00003\n",
      "Step:808, train: 0.00003, val: 0.00003\n",
      "Step:809, train: 0.00003, val: 0.00003\n",
      "Step:810, train: 0.00003, val: 0.00003\n",
      "Step:811, train: 0.00003, val: 0.00003\n",
      "Step:812, train: 0.00003, val: 0.00003\n",
      "Step:813, train: 0.00003, val: 0.00003\n",
      "Step:814, train: 0.00003, val: 0.00003\n",
      "Step:815, train: 0.00003, val: 0.00003\n",
      "Step:816, train: 0.00003, val: 0.00003\n",
      "Step:817, train: 0.00003, val: 0.00003\n",
      "Step:818, train: 0.00003, val: 0.00003\n",
      "Step:819, train: 0.00002, val: 0.00002\n",
      "Step:820, train: 0.00002, val: 0.00002\n",
      "Step:821, train: 0.00002, val: 0.00002\n",
      "Step:822, train: 0.00002, val: 0.00002\n",
      "Step:823, train: 0.00002, val: 0.00002\n",
      "Step:824, train: 0.00002, val: 0.00002\n",
      "Step:825, train: 0.00002, val: 0.00002\n",
      "Step:826, train: 0.00002, val: 0.00002\n",
      "Step:827, train: 0.00002, val: 0.00002\n",
      "Step:828, train: 0.00002, val: 0.00002\n",
      "Step:829, train: 0.00002, val: 0.00002\n",
      "Step:830, train: 0.00002, val: 0.00002\n",
      "Step:831, train: 0.00002, val: 0.00002\n",
      "Step:832, train: 0.00002, val: 0.00002\n",
      "Step:833, train: 0.00002, val: 0.00002\n",
      "Step:834, train: 0.00002, val: 0.00002\n",
      "Step:835, train: 0.00002, val: 0.00002\n",
      "Step:836, train: 0.00002, val: 0.00002\n",
      "Step:837, train: 0.00002, val: 0.00002\n",
      "Step:838, train: 0.00002, val: 0.00002\n",
      "Step:839, train: 0.00002, val: 0.00002\n",
      "Step:840, train: 0.00002, val: 0.00002\n",
      "Step:841, train: 0.00002, val: 0.00002\n",
      "Step:842, train: 0.00002, val: 0.00002\n",
      "Step:843, train: 0.00002, val: 0.00002\n",
      "Step:844, train: 0.00002, val: 0.00002\n",
      "Step:845, train: 0.00002, val: 0.00002\n",
      "Step:846, train: 0.00002, val: 0.00002\n",
      "Step:847, train: 0.00002, val: 0.00002\n",
      "Step:848, train: 0.00002, val: 0.00002\n",
      "Step:849, train: 0.00002, val: 0.00002\n",
      "Step:850, train: 0.00002, val: 0.00002\n",
      "Step:851, train: 0.00002, val: 0.00002\n",
      "Step:852, train: 0.00002, val: 0.00002\n",
      "Step:853, train: 0.00002, val: 0.00002\n",
      "Step:854, train: 0.00002, val: 0.00002\n",
      "Step:855, train: 0.00002, val: 0.00002\n",
      "Step:856, train: 0.00002, val: 0.00002\n",
      "Step:857, train: 0.00002, val: 0.00002\n",
      "Step:858, train: 0.00002, val: 0.00002\n",
      "Step:859, train: 0.00002, val: 0.00002\n",
      "Step:860, train: 0.00002, val: 0.00002\n",
      "Step:861, train: 0.00002, val: 0.00002\n",
      "Step:862, train: 0.00002, val: 0.00002\n",
      "Step:863, train: 0.00002, val: 0.00002\n",
      "Step:864, train: 0.00002, val: 0.00002\n"
     ]
    },
    {
     "name": "stdout",
     "output_type": "stream",
     "text": [
      "Step:865, train: 0.00002, val: 0.00002\n",
      "Step:866, train: 0.00002, val: 0.00002\n",
      "Step:867, train: 0.00002, val: 0.00002\n",
      "Step:868, train: 0.00002, val: 0.00002\n",
      "Step:869, train: 0.00002, val: 0.00002\n",
      "Step:870, train: 0.00002, val: 0.00002\n",
      "Step:871, train: 0.00002, val: 0.00002\n",
      "Step:872, train: 0.00002, val: 0.00002\n",
      "Step:873, train: 0.00002, val: 0.00002\n",
      "Step:874, train: 0.00002, val: 0.00002\n",
      "Step:875, train: 0.00002, val: 0.00002\n",
      "Step:876, train: 0.00002, val: 0.00002\n",
      "Step:877, train: 0.00002, val: 0.00002\n",
      "Step:878, train: 0.00002, val: 0.00002\n",
      "Step:879, train: 0.00002, val: 0.00002\n",
      "Step:880, train: 0.00002, val: 0.00002\n",
      "Step:881, train: 0.00002, val: 0.00002\n",
      "Step:882, train: 0.00002, val: 0.00002\n",
      "Step:883, train: 0.00002, val: 0.00002\n",
      "Step:884, train: 0.00002, val: 0.00002\n",
      "Step:885, train: 0.00002, val: 0.00002\n",
      "Step:886, train: 0.00002, val: 0.00002\n",
      "Step:887, train: 0.00002, val: 0.00002\n",
      "Step:888, train: 0.00002, val: 0.00002\n",
      "Step:889, train: 0.00002, val: 0.00002\n",
      "Step:890, train: 0.00002, val: 0.00002\n",
      "Step:891, train: 0.00002, val: 0.00002\n",
      "Step:892, train: 0.00002, val: 0.00002\n",
      "Step:893, train: 0.00002, val: 0.00002\n",
      "Step:894, train: 0.00002, val: 0.00002\n",
      "Step:895, train: 0.00002, val: 0.00002\n",
      "Step:896, train: 0.00002, val: 0.00002\n",
      "Step:897, train: 0.00002, val: 0.00002\n",
      "Step:898, train: 0.00002, val: 0.00002\n",
      "Step:899, train: 0.00002, val: 0.00002\n",
      "Step:900, train: 0.00002, val: 0.00002\n",
      "Step:901, train: 0.00002, val: 0.00002\n",
      "Step:902, train: 0.00002, val: 0.00002\n",
      "Step:903, train: 0.00002, val: 0.00002\n",
      "Step:904, train: 0.00002, val: 0.00002\n",
      "Step:905, train: 0.00002, val: 0.00002\n",
      "Step:906, train: 0.00002, val: 0.00002\n",
      "Step:907, train: 0.00002, val: 0.00002\n",
      "Step:908, train: 0.00002, val: 0.00002\n",
      "Step:909, train: 0.00002, val: 0.00002\n",
      "Step:910, train: 0.00002, val: 0.00002\n",
      "Step:911, train: 0.00002, val: 0.00002\n",
      "Step:912, train: 0.00002, val: 0.00002\n",
      "Step:913, train: 0.00002, val: 0.00002\n",
      "Step:914, train: 0.00002, val: 0.00002\n",
      "Step:915, train: 0.00002, val: 0.00002\n",
      "Step:916, train: 0.00002, val: 0.00002\n",
      "Step:917, train: 0.00002, val: 0.00002\n",
      "Step:918, train: 0.00002, val: 0.00002\n",
      "Step:919, train: 0.00002, val: 0.00002\n",
      "Step:920, train: 0.00002, val: 0.00002\n",
      "Step:921, train: 0.00002, val: 0.00002\n",
      "Step:922, train: 0.00002, val: 0.00002\n",
      "Step:923, train: 0.00002, val: 0.00002\n",
      "Step:924, train: 0.00002, val: 0.00002\n",
      "Step:925, train: 0.00002, val: 0.00002\n",
      "Step:926, train: 0.00001, val: 0.00001\n",
      "Step:927, train: 0.00001, val: 0.00001\n",
      "Step:928, train: 0.00001, val: 0.00001\n",
      "Step:929, train: 0.00001, val: 0.00001\n",
      "Step:930, train: 0.00001, val: 0.00001\n",
      "Step:931, train: 0.00001, val: 0.00001\n",
      "Step:932, train: 0.00001, val: 0.00001\n",
      "Step:933, train: 0.00001, val: 0.00001\n",
      "Step:934, train: 0.00001, val: 0.00001\n",
      "Step:935, train: 0.00001, val: 0.00001\n",
      "Step:936, train: 0.00001, val: 0.00001\n",
      "Step:937, train: 0.00001, val: 0.00001\n",
      "Step:938, train: 0.00001, val: 0.00001\n",
      "Step:939, train: 0.00001, val: 0.00001\n",
      "Step:940, train: 0.00001, val: 0.00001\n",
      "Step:941, train: 0.00001, val: 0.00001\n",
      "Step:942, train: 0.00001, val: 0.00001\n",
      "Step:943, train: 0.00001, val: 0.00001\n",
      "Step:944, train: 0.00001, val: 0.00001\n",
      "Step:945, train: 0.00001, val: 0.00001\n",
      "Step:946, train: 0.00001, val: 0.00001\n",
      "Step:947, train: 0.00001, val: 0.00001\n",
      "Step:948, train: 0.00001, val: 0.00001\n",
      "Step:949, train: 0.00001, val: 0.00001\n",
      "Step:950, train: 0.00001, val: 0.00001\n",
      "Step:951, train: 0.00001, val: 0.00001\n",
      "Step:952, train: 0.00001, val: 0.00001\n",
      "Step:953, train: 0.00001, val: 0.00001\n",
      "Step:954, train: 0.00001, val: 0.00001\n",
      "Step:955, train: 0.00001, val: 0.00001\n",
      "Step:956, train: 0.00001, val: 0.00001\n",
      "Step:957, train: 0.00001, val: 0.00001\n",
      "Step:958, train: 0.00001, val: 0.00001\n",
      "Step:959, train: 0.00001, val: 0.00001\n",
      "Step:960, train: 0.00001, val: 0.00001\n",
      "Step:961, train: 0.00001, val: 0.00001\n",
      "Step:962, train: 0.00001, val: 0.00001\n",
      "Step:963, train: 0.00001, val: 0.00001\n",
      "Step:964, train: 0.00001, val: 0.00001\n",
      "Step:965, train: 0.00001, val: 0.00001\n",
      "Step:966, train: 0.00001, val: 0.00001\n",
      "Step:967, train: 0.00001, val: 0.00001\n",
      "Step:968, train: 0.00001, val: 0.00001\n",
      "Step:969, train: 0.00001, val: 0.00001\n",
      "Step:970, train: 0.00001, val: 0.00001\n",
      "Step:971, train: 0.00001, val: 0.00001\n",
      "Step:972, train: 0.00001, val: 0.00001\n",
      "Step:973, train: 0.00001, val: 0.00001\n",
      "Step:974, train: 0.00001, val: 0.00001\n",
      "Step:975, train: 0.00001, val: 0.00001\n",
      "Step:976, train: 0.00001, val: 0.00001\n",
      "Step:977, train: 0.00001, val: 0.00001\n",
      "Step:978, train: 0.00001, val: 0.00001\n",
      "Step:979, train: 0.00001, val: 0.00001\n",
      "Step:980, train: 0.00001, val: 0.00001\n",
      "Step:981, train: 0.00001, val: 0.00001\n",
      "Step:982, train: 0.00001, val: 0.00001\n",
      "Step:983, train: 0.00001, val: 0.00001\n",
      "Step:984, train: 0.00001, val: 0.00001\n",
      "Step:985, train: 0.00001, val: 0.00001\n",
      "Step:986, train: 0.00001, val: 0.00001\n",
      "Step:987, train: 0.00001, val: 0.00001\n",
      "Step:988, train: 0.00001, val: 0.00001\n",
      "Step:989, train: 0.00001, val: 0.00001\n",
      "Step:990, train: 0.00001, val: 0.00001\n",
      "Step:991, train: 0.00001, val: 0.00001\n",
      "Step:992, train: 0.00001, val: 0.00001\n",
      "Step:993, train: 0.00001, val: 0.00001\n",
      "Step:994, train: 0.00001, val: 0.00001\n",
      "Step:995, train: 0.00001, val: 0.00001\n",
      "Step:996, train: 0.00001, val: 0.00001\n",
      "Step:997, train: 0.00001, val: 0.00001\n",
      "Step:998, train: 0.00001, val: 0.00001\n",
      "Step:999, train: 0.00001, val: 0.00001\n"
     ]
    }
   ],
   "source": [
    "model.train(inputs = inputs_map,\n",
    "            targets = targets_map,\n",
    "            inputs_val = inputs_map,\n",
    "            targets_val = targets_map,\n",
    "            num_iter = 1000,\n",
    "            N = 324\n",
    "            )"
   ]
  },
  {
   "cell_type": "code",
   "execution_count": 10,
   "metadata": {},
   "outputs": [
    {
     "data": {
      "text/plain": [
       "<tf.Tensor: shape=(), dtype=float64, numpy=0.9952371202477236>"
      ]
     },
     "execution_count": 10,
     "metadata": {},
     "output_type": "execute_result"
    }
   ],
   "source": [
    "channel_fidelity(kraus_model, kraus_target)"
   ]
  },
  {
   "cell_type": "code",
   "execution_count": null,
   "metadata": {},
   "outputs": [],
   "source": []
  }
 ],
 "metadata": {
  "kernelspec": {
   "display_name": "env_qiskit",
   "language": "python",
   "name": "env_qiskit"
  },
  "language_info": {
   "codemirror_mode": {
    "name": "ipython",
    "version": 3
   },
   "file_extension": ".py",
   "mimetype": "text/x-python",
   "name": "python",
   "nbconvert_exporter": "python",
   "pygments_lexer": "ipython3",
   "version": "3.10.4"
  }
 },
 "nbformat": 4,
 "nbformat_minor": 4
}
