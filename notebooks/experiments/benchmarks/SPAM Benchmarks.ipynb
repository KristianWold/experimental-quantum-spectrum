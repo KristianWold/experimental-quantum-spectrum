{
 "cells": [
  {
   "cell_type": "markdown",
   "metadata": {},
   "source": [
    "# Convergence Benchmarks"
   ]
  },
  {
   "cell_type": "code",
   "execution_count": 3,
   "metadata": {},
   "outputs": [],
   "source": [
    "import sys\n",
    "sys.path.insert(0, '../../../src_tf/')\n",
    "\n",
    "import numpy as np\n",
    "import qiskit as qk\n",
    "import matplotlib.pyplot as plt\n",
    "import multiprocessing as mp\n",
    "import random\n",
    "import pickle\n",
    "\n",
    "from qiskit.quantum_info import DensityMatrix, random_unitary\n",
    "from qiskit.quantum_info import Operator\n",
    "from scipy.linalg import sqrtm\n",
    "from tqdm.notebook import tqdm\n",
    "\n",
    "from loss_functions import *\n",
    "from optimization import *\n",
    "from quantum_channel import *\n",
    "from quantum_tools import *\n",
    "from experimental import *\n",
    "from spam import *\n",
    "\n",
    "#np.set_printoptions(threshold=sys.maxsize)\n",
    "np.set_printoptions(precision=4)\n",
    "\n",
    "import os\n",
    "os.environ[\"CUDA_VISIBLE_DEVICES\"] = \"-1\""
   ]
  },
  {
   "cell_type": "markdown",
   "metadata": {},
   "source": [
    "## Fit SPAM model\n",
    "\n",
    "### Generate True Model, Full POVM and Inital"
   ]
  },
  {
   "cell_type": "code",
   "execution_count": 4,
   "metadata": {},
   "outputs": [],
   "source": [
    "def generate_spam_benchmark(n=3, c1=1, c2=1):\n",
    "    d = 2**n\n",
    "\n",
    "    init_target = InitialState(d, c=c1)\n",
    "    povm_target = POVM(d, c=c2)\n",
    "\n",
    "    spam_target = SPAM(init = init_target,\n",
    "                       povm = povm_target)\n",
    "    \n",
    "    return spam_target\n",
    "\n",
    "\n",
    "def generate_spam_data(spam_target, N_spam=None, noise=0):\n",
    "    n = int(np.log2(spam_target.d))\n",
    "    inputs_spam, _ = generate_pauliInput_circuits(n)\n",
    "    N_spam = inputs_spam.shape[0]\n",
    "\n",
    "    state = tf.repeat(spam_target.init.init[None,:,:], N_spam, axis=0)\n",
    "    state = apply_unitary(state, inputs_spam)\n",
    "    targets_spam = measurement(state, povm = spam_target.povm.povm)\n",
    "\n",
    "    #add noise\n",
    "    targets_spam = add_noise_to_probs(targets_spam, noise=noise)\n",
    "    return inputs_spam, targets_spam\n",
    "\n",
    "\n",
    "def generate_map_data(channel_target, spam_target, N_map=None, noise=0):\n",
    "    n = channel_target.n\n",
    "    inputs_map, _ = generate_pauli_circuits(n = n, \n",
    "                                            circuit_target=None,  \n",
    "                                            trace=False,\n",
    "                                            N=N_map)\n",
    "    U_prep, U_basis = inputs_map\n",
    "\n",
    "    N_map = U_prep.shape[0]\n",
    "    state = tf.repeat(tf.expand_dims(spam_target.init.init, axis=0), N_map, axis=0)\n",
    "    state = apply_unitary(state, U_prep)\n",
    "    state = channel_target.apply_channel(state)\n",
    "    targets_map = measurement(state, U_basis, spam_target.povm.povm)\n",
    "    \n",
    "    return inputs_map, targets_map\n",
    "\n",
    "\n",
    "def povm_fidelity(povm_a, povm_b):\n",
    "    d = povm_a.shape[0]\n",
    "    ab = tf.matmul(povm_a, povm_b)\n",
    "    ab_sqrt = tf.linalg.sqrtm(ab)\n",
    "    fidelity = tf.math.reduce_sum(tf.linalg.trace(ab_sqrt))/d\n",
    "    return fidelity\n"
   ]
  },
  {
   "cell_type": "markdown",
   "metadata": {},
   "source": [
    "## Three Qubit"
   ]
  },
  {
   "cell_type": "code",
   "execution_count": 35,
   "metadata": {
    "scrolled": true
   },
   "outputs": [
    {
     "data": {
      "application/vnd.jupyter.widget-view+json": {
       "model_id": "de10187770b6419da9c53b1a9a1ca9e6",
       "version_major": 2,
       "version_minor": 0
      },
      "text/plain": [
       "0it [00:00, ?it/s]"
      ]
     },
     "metadata": {},
     "output_type": "display_data"
    },
    {
     "data": {
      "application/vnd.jupyter.widget-view+json": {
       "model_id": "34cc2b2d04f74053aa9197d2423a77df",
       "version_major": 2,
       "version_minor": 0
      },
      "text/plain": [
       "  0%|          | 0/300 [00:00<?, ?it/s]"
      ]
     },
     "metadata": {},
     "output_type": "display_data"
    },
    {
     "data": {
      "application/vnd.jupyter.widget-view+json": {
       "model_id": "ca60db340fb14c1bb09204d6c8bf7246",
       "version_major": 2,
       "version_minor": 0
      },
      "text/plain": [
       "  0%|          | 0/2000 [00:00<?, ?it/s]"
      ]
     },
     "metadata": {},
     "output_type": "display_data"
    },
    {
     "name": "stdout",
     "output_type": "stream",
     "text": [
      "0.006719409640398298\n"
     ]
    },
    {
     "name": "stderr",
     "output_type": "stream",
     "text": [
      "C:\\Users\\krist\\anaconda3\\envs\\env_qiskit\\lib\\site-packages\\tensorflow\\python\\framework\\ops.py:1064: ComplexWarning: Casting complex values to real discards the imaginary part\n",
      "  return float(self._numpy())\n"
     ]
    },
    {
     "data": {
      "application/vnd.jupyter.widget-view+json": {
       "model_id": "a7954a640ead4f16bdac07255fd514d9",
       "version_major": 2,
       "version_minor": 0
      },
      "text/plain": [
       "  0%|          | 0/300 [00:00<?, ?it/s]"
      ]
     },
     "metadata": {},
     "output_type": "display_data"
    },
    {
     "data": {
      "application/vnd.jupyter.widget-view+json": {
       "model_id": "c550d7738acc48cda05ce397848bf808",
       "version_major": 2,
       "version_minor": 0
      },
      "text/plain": [
       "  0%|          | 0/2000 [00:00<?, ?it/s]"
      ]
     },
     "metadata": {},
     "output_type": "display_data"
    },
    {
     "name": "stdout",
     "output_type": "stream",
     "text": [
      "0.006964837808866237\n"
     ]
    },
    {
     "data": {
      "application/vnd.jupyter.widget-view+json": {
       "model_id": "6645e9a3fb9645a39965cfc5298766b4",
       "version_major": 2,
       "version_minor": 0
      },
      "text/plain": [
       "  0%|          | 0/300 [00:00<?, ?it/s]"
      ]
     },
     "metadata": {},
     "output_type": "display_data"
    },
    {
     "data": {
      "application/vnd.jupyter.widget-view+json": {
       "model_id": "859bc2bea56240fda11baa69837199ba",
       "version_major": 2,
       "version_minor": 0
      },
      "text/plain": [
       "  0%|          | 0/2000 [00:00<?, ?it/s]"
      ]
     },
     "metadata": {},
     "output_type": "display_data"
    },
    {
     "name": "stdout",
     "output_type": "stream",
     "text": [
      "0.007276358253733011\n"
     ]
    },
    {
     "data": {
      "application/vnd.jupyter.widget-view+json": {
       "model_id": "9b5b1c23bf4e42628f7f6723b0f0fe83",
       "version_major": 2,
       "version_minor": 0
      },
      "text/plain": [
       "  0%|          | 0/300 [00:00<?, ?it/s]"
      ]
     },
     "metadata": {},
     "output_type": "display_data"
    },
    {
     "data": {
      "application/vnd.jupyter.widget-view+json": {
       "model_id": "3b198de1337842f896bed26ec0067542",
       "version_major": 2,
       "version_minor": 0
      },
      "text/plain": [
       "  0%|          | 0/2000 [00:00<?, ?it/s]"
      ]
     },
     "metadata": {},
     "output_type": "display_data"
    },
    {
     "name": "stdout",
     "output_type": "stream",
     "text": [
      "0.006973946643238959\n"
     ]
    },
    {
     "data": {
      "application/vnd.jupyter.widget-view+json": {
       "model_id": "0e0791d2d800451cb9bb25961ac45805",
       "version_major": 2,
       "version_minor": 0
      },
      "text/plain": [
       "  0%|          | 0/300 [00:00<?, ?it/s]"
      ]
     },
     "metadata": {},
     "output_type": "display_data"
    },
    {
     "data": {
      "application/vnd.jupyter.widget-view+json": {
       "model_id": "e817d8e5d7d941c4a0e9b8cce6d9657f",
       "version_major": 2,
       "version_minor": 0
      },
      "text/plain": [
       "  0%|          | 0/2000 [00:00<?, ?it/s]"
      ]
     },
     "metadata": {},
     "output_type": "display_data"
    },
    {
     "name": "stdout",
     "output_type": "stream",
     "text": [
      "0.006585333950096413\n"
     ]
    },
    {
     "data": {
      "application/vnd.jupyter.widget-view+json": {
       "model_id": "c7411fe627fa47bca4c5abcc313baa85",
       "version_major": 2,
       "version_minor": 0
      },
      "text/plain": [
       "  0%|          | 0/300 [00:00<?, ?it/s]"
      ]
     },
     "metadata": {},
     "output_type": "display_data"
    },
    {
     "data": {
      "application/vnd.jupyter.widget-view+json": {
       "model_id": "d68bfe9694c640a8a186e19d3ec5c17b",
       "version_major": 2,
       "version_minor": 0
      },
      "text/plain": [
       "  0%|          | 0/2000 [00:00<?, ?it/s]"
      ]
     },
     "metadata": {},
     "output_type": "display_data"
    },
    {
     "name": "stdout",
     "output_type": "stream",
     "text": [
      "0.00250562405953989\n"
     ]
    },
    {
     "data": {
      "application/vnd.jupyter.widget-view+json": {
       "model_id": "d0337b01d6234824976d66e96c4cbb79",
       "version_major": 2,
       "version_minor": 0
      },
      "text/plain": [
       "  0%|          | 0/300 [00:00<?, ?it/s]"
      ]
     },
     "metadata": {},
     "output_type": "display_data"
    },
    {
     "data": {
      "application/vnd.jupyter.widget-view+json": {
       "model_id": "78a06e9d01a14b0189a4efdd0a9cf413",
       "version_major": 2,
       "version_minor": 0
      },
      "text/plain": [
       "  0%|          | 0/2000 [00:00<?, ?it/s]"
      ]
     },
     "metadata": {},
     "output_type": "display_data"
    },
    {
     "name": "stdout",
     "output_type": "stream",
     "text": [
      "0.002637210598282621\n"
     ]
    },
    {
     "data": {
      "application/vnd.jupyter.widget-view+json": {
       "model_id": "c4c470fd9cac4459b57f5ec596b713bf",
       "version_major": 2,
       "version_minor": 0
      },
      "text/plain": [
       "  0%|          | 0/300 [00:00<?, ?it/s]"
      ]
     },
     "metadata": {},
     "output_type": "display_data"
    },
    {
     "data": {
      "application/vnd.jupyter.widget-view+json": {
       "model_id": "85b6dabcde374f0da476cda5f9376c63",
       "version_major": 2,
       "version_minor": 0
      },
      "text/plain": [
       "  0%|          | 0/2000 [00:00<?, ?it/s]"
      ]
     },
     "metadata": {},
     "output_type": "display_data"
    },
    {
     "name": "stdout",
     "output_type": "stream",
     "text": [
      "0.0027406088892196197\n"
     ]
    },
    {
     "data": {
      "application/vnd.jupyter.widget-view+json": {
       "model_id": "0aa368308d7d4362ba86051ae44c7979",
       "version_major": 2,
       "version_minor": 0
      },
      "text/plain": [
       "  0%|          | 0/300 [00:00<?, ?it/s]"
      ]
     },
     "metadata": {},
     "output_type": "display_data"
    },
    {
     "data": {
      "application/vnd.jupyter.widget-view+json": {
       "model_id": "9a50978fe3284384b0361be85ffb28b1",
       "version_major": 2,
       "version_minor": 0
      },
      "text/plain": [
       "  0%|          | 0/2000 [00:00<?, ?it/s]"
      ]
     },
     "metadata": {},
     "output_type": "display_data"
    },
    {
     "name": "stdout",
     "output_type": "stream",
     "text": [
      "0.0025863562561372778\n"
     ]
    },
    {
     "data": {
      "application/vnd.jupyter.widget-view+json": {
       "model_id": "bae52597b24b470cb9f08298daaabf1f",
       "version_major": 2,
       "version_minor": 0
      },
      "text/plain": [
       "  0%|          | 0/300 [00:00<?, ?it/s]"
      ]
     },
     "metadata": {},
     "output_type": "display_data"
    },
    {
     "data": {
      "application/vnd.jupyter.widget-view+json": {
       "model_id": "bc5fa8c437c8445c9935e87b69ed0445",
       "version_major": 2,
       "version_minor": 0
      },
      "text/plain": [
       "  0%|          | 0/2000 [00:00<?, ?it/s]"
      ]
     },
     "metadata": {},
     "output_type": "display_data"
    },
    {
     "name": "stdout",
     "output_type": "stream",
     "text": [
      "0.0024752943677397265\n"
     ]
    },
    {
     "data": {
      "application/vnd.jupyter.widget-view+json": {
       "model_id": "8a6738004955467c81fc75dc4582089c",
       "version_major": 2,
       "version_minor": 0
      },
      "text/plain": [
       "  0%|          | 0/300 [00:00<?, ?it/s]"
      ]
     },
     "metadata": {},
     "output_type": "display_data"
    },
    {
     "data": {
      "application/vnd.jupyter.widget-view+json": {
       "model_id": "c410f8e3dfc94166b38bd2ad64153218",
       "version_major": 2,
       "version_minor": 0
      },
      "text/plain": [
       "  0%|          | 0/2000 [00:00<?, ?it/s]"
      ]
     },
     "metadata": {},
     "output_type": "display_data"
    },
    {
     "name": "stdout",
     "output_type": "stream",
     "text": [
      "0.0010390188215474408\n"
     ]
    },
    {
     "data": {
      "application/vnd.jupyter.widget-view+json": {
       "model_id": "e72567d740f94286a2b4aa57172c09a0",
       "version_major": 2,
       "version_minor": 0
      },
      "text/plain": [
       "  0%|          | 0/300 [00:00<?, ?it/s]"
      ]
     },
     "metadata": {},
     "output_type": "display_data"
    },
    {
     "data": {
      "application/vnd.jupyter.widget-view+json": {
       "model_id": "b8c36ea505da41ec8392952136139578",
       "version_major": 2,
       "version_minor": 0
      },
      "text/plain": [
       "  0%|          | 0/2000 [00:00<?, ?it/s]"
      ]
     },
     "metadata": {},
     "output_type": "display_data"
    },
    {
     "name": "stdout",
     "output_type": "stream",
     "text": [
      "0.001156822682757803\n"
     ]
    },
    {
     "data": {
      "application/vnd.jupyter.widget-view+json": {
       "model_id": "40b97b6c4df5427aab9b769526c8e56e",
       "version_major": 2,
       "version_minor": 0
      },
      "text/plain": [
       "  0%|          | 0/300 [00:00<?, ?it/s]"
      ]
     },
     "metadata": {},
     "output_type": "display_data"
    },
    {
     "data": {
      "application/vnd.jupyter.widget-view+json": {
       "model_id": "53dfd71a481b4856a52ff15dbf98f82c",
       "version_major": 2,
       "version_minor": 0
      },
      "text/plain": [
       "  0%|          | 0/2000 [00:00<?, ?it/s]"
      ]
     },
     "metadata": {},
     "output_type": "display_data"
    },
    {
     "name": "stdout",
     "output_type": "stream",
     "text": [
      "0.0011235443064500797\n"
     ]
    },
    {
     "data": {
      "application/vnd.jupyter.widget-view+json": {
       "model_id": "ce180dcd4fe447b5b5b1827c78da0311",
       "version_major": 2,
       "version_minor": 0
      },
      "text/plain": [
       "  0%|          | 0/300 [00:00<?, ?it/s]"
      ]
     },
     "metadata": {},
     "output_type": "display_data"
    },
    {
     "data": {
      "application/vnd.jupyter.widget-view+json": {
       "model_id": "06dd3014a392460cadd801c782bac488",
       "version_major": 2,
       "version_minor": 0
      },
      "text/plain": [
       "  0%|          | 0/2000 [00:00<?, ?it/s]"
      ]
     },
     "metadata": {},
     "output_type": "display_data"
    },
    {
     "name": "stdout",
     "output_type": "stream",
     "text": [
      "0.0010565246041065771\n"
     ]
    },
    {
     "data": {
      "application/vnd.jupyter.widget-view+json": {
       "model_id": "b6ec1ba300e445f7b4cf7f2aec41afdc",
       "version_major": 2,
       "version_minor": 0
      },
      "text/plain": [
       "  0%|          | 0/300 [00:00<?, ?it/s]"
      ]
     },
     "metadata": {},
     "output_type": "display_data"
    },
    {
     "data": {
      "application/vnd.jupyter.widget-view+json": {
       "model_id": "5fc498fc746a4d17ae4f81bac0fd266b",
       "version_major": 2,
       "version_minor": 0
      },
      "text/plain": [
       "  0%|          | 0/2000 [00:00<?, ?it/s]"
      ]
     },
     "metadata": {},
     "output_type": "display_data"
    },
    {
     "name": "stdout",
     "output_type": "stream",
     "text": [
      "0.001029562064269571\n"
     ]
    },
    {
     "data": {
      "application/vnd.jupyter.widget-view+json": {
       "model_id": "57ff087d65104172ad4ad7a858572092",
       "version_major": 2,
       "version_minor": 0
      },
      "text/plain": [
       "  0%|          | 0/300 [00:00<?, ?it/s]"
      ]
     },
     "metadata": {},
     "output_type": "display_data"
    },
    {
     "data": {
      "application/vnd.jupyter.widget-view+json": {
       "model_id": "9c207d2c9d8e4e0fa847e2ad9d68a9fb",
       "version_major": 2,
       "version_minor": 0
      },
      "text/plain": [
       "  0%|          | 0/2000 [00:00<?, ?it/s]"
      ]
     },
     "metadata": {},
     "output_type": "display_data"
    },
    {
     "name": "stdout",
     "output_type": "stream",
     "text": [
      "0.000516388552467001\n"
     ]
    },
    {
     "data": {
      "application/vnd.jupyter.widget-view+json": {
       "model_id": "245342f06637402ab29573afaed30c31",
       "version_major": 2,
       "version_minor": 0
      },
      "text/plain": [
       "  0%|          | 0/300 [00:00<?, ?it/s]"
      ]
     },
     "metadata": {},
     "output_type": "display_data"
    },
    {
     "data": {
      "application/vnd.jupyter.widget-view+json": {
       "model_id": "f9321fc3d024487c8a270c6ccd8c745c",
       "version_major": 2,
       "version_minor": 0
      },
      "text/plain": [
       "  0%|          | 0/2000 [00:00<?, ?it/s]"
      ]
     },
     "metadata": {},
     "output_type": "display_data"
    },
    {
     "name": "stdout",
     "output_type": "stream",
     "text": [
      "0.0005393907559154472\n"
     ]
    },
    {
     "data": {
      "application/vnd.jupyter.widget-view+json": {
       "model_id": "592572e067f444158f6d5bb779fa4cc5",
       "version_major": 2,
       "version_minor": 0
      },
      "text/plain": [
       "  0%|          | 0/300 [00:00<?, ?it/s]"
      ]
     },
     "metadata": {},
     "output_type": "display_data"
    },
    {
     "data": {
      "application/vnd.jupyter.widget-view+json": {
       "model_id": "5a083f74fd744e32a7282067af8a02b9",
       "version_major": 2,
       "version_minor": 0
      },
      "text/plain": [
       "  0%|          | 0/2000 [00:00<?, ?it/s]"
      ]
     },
     "metadata": {},
     "output_type": "display_data"
    },
    {
     "name": "stdout",
     "output_type": "stream",
     "text": [
      "0.000539400912399002\n"
     ]
    },
    {
     "data": {
      "application/vnd.jupyter.widget-view+json": {
       "model_id": "7c3583e2349f497286073e1fd5f2a14f",
       "version_major": 2,
       "version_minor": 0
      },
      "text/plain": [
       "  0%|          | 0/300 [00:00<?, ?it/s]"
      ]
     },
     "metadata": {},
     "output_type": "display_data"
    },
    {
     "data": {
      "application/vnd.jupyter.widget-view+json": {
       "model_id": "0bd371ec97354b939af5a6c7a236722d",
       "version_major": 2,
       "version_minor": 0
      },
      "text/plain": [
       "  0%|          | 0/2000 [00:00<?, ?it/s]"
      ]
     },
     "metadata": {},
     "output_type": "display_data"
    },
    {
     "name": "stdout",
     "output_type": "stream",
     "text": [
      "0.0005110713863727951\n"
     ]
    },
    {
     "data": {
      "application/vnd.jupyter.widget-view+json": {
       "model_id": "ef254a5c9d9747b5aed39ca48d1227c3",
       "version_major": 2,
       "version_minor": 0
      },
      "text/plain": [
       "  0%|          | 0/300 [00:00<?, ?it/s]"
      ]
     },
     "metadata": {},
     "output_type": "display_data"
    },
    {
     "data": {
      "application/vnd.jupyter.widget-view+json": {
       "model_id": "c35ab1b7eb5946e9a67d031054863120",
       "version_major": 2,
       "version_minor": 0
      },
      "text/plain": [
       "  0%|          | 0/2000 [00:00<?, ?it/s]"
      ]
     },
     "metadata": {},
     "output_type": "display_data"
    },
    {
     "name": "stdout",
     "output_type": "stream",
     "text": [
      "0.0005014770849016915\n"
     ]
    },
    {
     "data": {
      "application/vnd.jupyter.widget-view+json": {
       "model_id": "2926e813f70a4097b454c8e91de19949",
       "version_major": 2,
       "version_minor": 0
      },
      "text/plain": [
       "  0%|          | 0/300 [00:00<?, ?it/s]"
      ]
     },
     "metadata": {},
     "output_type": "display_data"
    },
    {
     "data": {
      "application/vnd.jupyter.widget-view+json": {
       "model_id": "1143a765e88143c999629745c5e770a1",
       "version_major": 2,
       "version_minor": 0
      },
      "text/plain": [
       "  0%|          | 0/2000 [00:00<?, ?it/s]"
      ]
     },
     "metadata": {},
     "output_type": "display_data"
    },
    {
     "name": "stdout",
     "output_type": "stream",
     "text": [
      "0.00032806613096543133\n"
     ]
    },
    {
     "data": {
      "application/vnd.jupyter.widget-view+json": {
       "model_id": "a018f661808e4278b4785aef3d0e1bcc",
       "version_major": 2,
       "version_minor": 0
      },
      "text/plain": [
       "  0%|          | 0/300 [00:00<?, ?it/s]"
      ]
     },
     "metadata": {},
     "output_type": "display_data"
    },
    {
     "data": {
      "application/vnd.jupyter.widget-view+json": {
       "model_id": "50d14a7d9c5d48acae35bdbbef2e4cde",
       "version_major": 2,
       "version_minor": 0
      },
      "text/plain": [
       "  0%|          | 0/2000 [00:00<?, ?it/s]"
      ]
     },
     "metadata": {},
     "output_type": "display_data"
    },
    {
     "name": "stdout",
     "output_type": "stream",
     "text": [
      "0.0003397545872731898\n"
     ]
    },
    {
     "data": {
      "application/vnd.jupyter.widget-view+json": {
       "model_id": "788e3d51636647eeb3f5dfb0a2b6c1b3",
       "version_major": 2,
       "version_minor": 0
      },
      "text/plain": [
       "  0%|          | 0/300 [00:00<?, ?it/s]"
      ]
     },
     "metadata": {},
     "output_type": "display_data"
    },
    {
     "data": {
      "application/vnd.jupyter.widget-view+json": {
       "model_id": "1c1b466aed2c4316a988bddb3661867f",
       "version_major": 2,
       "version_minor": 0
      },
      "text/plain": [
       "  0%|          | 0/2000 [00:00<?, ?it/s]"
      ]
     },
     "metadata": {},
     "output_type": "display_data"
    },
    {
     "name": "stdout",
     "output_type": "stream",
     "text": [
      "0.00032857759249969415\n"
     ]
    },
    {
     "data": {
      "application/vnd.jupyter.widget-view+json": {
       "model_id": "88fdfc922f1743cca224b7a96f3c13fa",
       "version_major": 2,
       "version_minor": 0
      },
      "text/plain": [
       "  0%|          | 0/300 [00:00<?, ?it/s]"
      ]
     },
     "metadata": {},
     "output_type": "display_data"
    },
    {
     "data": {
      "application/vnd.jupyter.widget-view+json": {
       "model_id": "c4d0aec231eb49c7b06c1fef3a4a9b22",
       "version_major": 2,
       "version_minor": 0
      },
      "text/plain": [
       "  0%|          | 0/2000 [00:00<?, ?it/s]"
      ]
     },
     "metadata": {},
     "output_type": "display_data"
    },
    {
     "name": "stdout",
     "output_type": "stream",
     "text": [
      "0.00031385186476252653\n"
     ]
    },
    {
     "data": {
      "application/vnd.jupyter.widget-view+json": {
       "model_id": "aafc497dce15450a83df870b9e45ace4",
       "version_major": 2,
       "version_minor": 0
      },
      "text/plain": [
       "  0%|          | 0/300 [00:00<?, ?it/s]"
      ]
     },
     "metadata": {},
     "output_type": "display_data"
    },
    {
     "data": {
      "application/vnd.jupyter.widget-view+json": {
       "model_id": "410b44ab6c9444bd8d2f1fb0a4b97c24",
       "version_major": 2,
       "version_minor": 0
      },
      "text/plain": [
       "  0%|          | 0/2000 [00:00<?, ?it/s]"
      ]
     },
     "metadata": {},
     "output_type": "display_data"
    },
    {
     "name": "stdout",
     "output_type": "stream",
     "text": [
      "0.00031051143606214106\n"
     ]
    },
    {
     "data": {
      "application/vnd.jupyter.widget-view+json": {
       "model_id": "136edf349d364de5bf9984a73749bea9",
       "version_major": 2,
       "version_minor": 0
      },
      "text/plain": [
       "  0%|          | 0/300 [00:00<?, ?it/s]"
      ]
     },
     "metadata": {},
     "output_type": "display_data"
    },
    {
     "data": {
      "application/vnd.jupyter.widget-view+json": {
       "model_id": "4ea1a410d2db4b399a4570bb2aed440b",
       "version_major": 2,
       "version_minor": 0
      },
      "text/plain": [
       "  0%|          | 0/2000 [00:00<?, ?it/s]"
      ]
     },
     "metadata": {},
     "output_type": "display_data"
    },
    {
     "name": "stdout",
     "output_type": "stream",
     "text": [
      "0.0002589358266951535\n"
     ]
    },
    {
     "data": {
      "application/vnd.jupyter.widget-view+json": {
       "model_id": "971dc67214514c0e8282d34b93076808",
       "version_major": 2,
       "version_minor": 0
      },
      "text/plain": [
       "  0%|          | 0/300 [00:00<?, ?it/s]"
      ]
     },
     "metadata": {},
     "output_type": "display_data"
    },
    {
     "data": {
      "application/vnd.jupyter.widget-view+json": {
       "model_id": "8915c861ed2740b49945de641ac9981d",
       "version_major": 2,
       "version_minor": 0
      },
      "text/plain": [
       "  0%|          | 0/2000 [00:00<?, ?it/s]"
      ]
     },
     "metadata": {},
     "output_type": "display_data"
    },
    {
     "name": "stdout",
     "output_type": "stream",
     "text": [
      "0.000266896979608588\n"
     ]
    },
    {
     "data": {
      "application/vnd.jupyter.widget-view+json": {
       "model_id": "32140a9110d440d98637c5c85c3ae04d",
       "version_major": 2,
       "version_minor": 0
      },
      "text/plain": [
       "  0%|          | 0/300 [00:00<?, ?it/s]"
      ]
     },
     "metadata": {},
     "output_type": "display_data"
    },
    {
     "data": {
      "application/vnd.jupyter.widget-view+json": {
       "model_id": "368069ef9364496cb304b00c9d58348a",
       "version_major": 2,
       "version_minor": 0
      },
      "text/plain": [
       "  0%|          | 0/2000 [00:00<?, ?it/s]"
      ]
     },
     "metadata": {},
     "output_type": "display_data"
    },
    {
     "name": "stdout",
     "output_type": "stream",
     "text": [
      "0.00025041312213778833\n"
     ]
    },
    {
     "data": {
      "application/vnd.jupyter.widget-view+json": {
       "model_id": "c5a3bdd9080d47818c3608fe7a540b11",
       "version_major": 2,
       "version_minor": 0
      },
      "text/plain": [
       "  0%|          | 0/300 [00:00<?, ?it/s]"
      ]
     },
     "metadata": {},
     "output_type": "display_data"
    },
    {
     "data": {
      "application/vnd.jupyter.widget-view+json": {
       "model_id": "0653449e54614a559d1a201bf9760f88",
       "version_major": 2,
       "version_minor": 0
      },
      "text/plain": [
       "  0%|          | 0/2000 [00:00<?, ?it/s]"
      ]
     },
     "metadata": {},
     "output_type": "display_data"
    },
    {
     "name": "stdout",
     "output_type": "stream",
     "text": [
      "0.00024182485063703682\n"
     ]
    },
    {
     "data": {
      "application/vnd.jupyter.widget-view+json": {
       "model_id": "9fb49efad7cd46848c1dda3e3cda41c6",
       "version_major": 2,
       "version_minor": 0
      },
      "text/plain": [
       "  0%|          | 0/300 [00:00<?, ?it/s]"
      ]
     },
     "metadata": {},
     "output_type": "display_data"
    },
    {
     "data": {
      "application/vnd.jupyter.widget-view+json": {
       "model_id": "48e1b3ea390742d9af4ae9963dc085d7",
       "version_major": 2,
       "version_minor": 0
      },
      "text/plain": [
       "  0%|          | 0/2000 [00:00<?, ?it/s]"
      ]
     },
     "metadata": {},
     "output_type": "display_data"
    },
    {
     "name": "stdout",
     "output_type": "stream",
     "text": [
      "0.00024013409128078352\n"
     ]
    },
    {
     "data": {
      "application/vnd.jupyter.widget-view+json": {
       "model_id": "af8ea61a876341048c2d0b372a092fdd",
       "version_major": 2,
       "version_minor": 0
      },
      "text/plain": [
       "  0%|          | 0/300 [00:00<?, ?it/s]"
      ]
     },
     "metadata": {},
     "output_type": "display_data"
    },
    {
     "data": {
      "application/vnd.jupyter.widget-view+json": {
       "model_id": "fd61b7c0d27f497491cebd8ac070cadc",
       "version_major": 2,
       "version_minor": 0
      },
      "text/plain": [
       "  0%|          | 0/2000 [00:00<?, ?it/s]"
      ]
     },
     "metadata": {},
     "output_type": "display_data"
    },
    {
     "name": "stdout",
     "output_type": "stream",
     "text": [
      "0.00023372726034538336\n"
     ]
    },
    {
     "data": {
      "application/vnd.jupyter.widget-view+json": {
       "model_id": "f45ab6dac2c8498ca3e882b67985a2a2",
       "version_major": 2,
       "version_minor": 0
      },
      "text/plain": [
       "  0%|          | 0/300 [00:00<?, ?it/s]"
      ]
     },
     "metadata": {},
     "output_type": "display_data"
    },
    {
     "data": {
      "application/vnd.jupyter.widget-view+json": {
       "model_id": "1e7519dcfcd342e5b67e7dcfc9a857d9",
       "version_major": 2,
       "version_minor": 0
      },
      "text/plain": [
       "  0%|          | 0/2000 [00:00<?, ?it/s]"
      ]
     },
     "metadata": {},
     "output_type": "display_data"
    },
    {
     "name": "stdout",
     "output_type": "stream",
     "text": [
      "0.0002420038725910511\n"
     ]
    },
    {
     "data": {
      "application/vnd.jupyter.widget-view+json": {
       "model_id": "0e7be6a6d34547d6a1d524c846d1f6ba",
       "version_major": 2,
       "version_minor": 0
      },
      "text/plain": [
       "  0%|          | 0/300 [00:00<?, ?it/s]"
      ]
     },
     "metadata": {},
     "output_type": "display_data"
    },
    {
     "data": {
      "application/vnd.jupyter.widget-view+json": {
       "model_id": "4b15bf618046442da49581bd6a5dbb93",
       "version_major": 2,
       "version_minor": 0
      },
      "text/plain": [
       "  0%|          | 0/2000 [00:00<?, ?it/s]"
      ]
     },
     "metadata": {},
     "output_type": "display_data"
    },
    {
     "name": "stdout",
     "output_type": "stream",
     "text": [
      "0.00022121866278440838\n"
     ]
    },
    {
     "data": {
      "application/vnd.jupyter.widget-view+json": {
       "model_id": "89987da6715449f5973d5b52ad901807",
       "version_major": 2,
       "version_minor": 0
      },
      "text/plain": [
       "  0%|          | 0/300 [00:00<?, ?it/s]"
      ]
     },
     "metadata": {},
     "output_type": "display_data"
    },
    {
     "data": {
      "application/vnd.jupyter.widget-view+json": {
       "model_id": "b23fabe680b24af8ae565564126a9d40",
       "version_major": 2,
       "version_minor": 0
      },
      "text/plain": [
       "  0%|          | 0/2000 [00:00<?, ?it/s]"
      ]
     },
     "metadata": {},
     "output_type": "display_data"
    },
    {
     "name": "stdout",
     "output_type": "stream",
     "text": [
      "0.00021551019093272357\n"
     ]
    },
    {
     "data": {
      "application/vnd.jupyter.widget-view+json": {
       "model_id": "2bfbdb1f680641248805b20887096add",
       "version_major": 2,
       "version_minor": 0
      },
      "text/plain": [
       "  0%|          | 0/300 [00:00<?, ?it/s]"
      ]
     },
     "metadata": {},
     "output_type": "display_data"
    },
    {
     "data": {
      "application/vnd.jupyter.widget-view+json": {
       "model_id": "1b064e2379a94627b029c36b56294aa1",
       "version_major": 2,
       "version_minor": 0
      },
      "text/plain": [
       "  0%|          | 0/2000 [00:00<?, ?it/s]"
      ]
     },
     "metadata": {},
     "output_type": "display_data"
    },
    {
     "name": "stdout",
     "output_type": "stream",
     "text": [
      "0.00021380519089574603\n"
     ]
    },
    {
     "data": {
      "application/vnd.jupyter.widget-view+json": {
       "model_id": "ef43aa0a711d45e580e001a6e200268b",
       "version_major": 2,
       "version_minor": 0
      },
      "text/plain": [
       "  0%|          | 0/300 [00:00<?, ?it/s]"
      ]
     },
     "metadata": {},
     "output_type": "display_data"
    },
    {
     "data": {
      "application/vnd.jupyter.widget-view+json": {
       "model_id": "c98e469c02294cdeb9722a0689c0cceb",
       "version_major": 2,
       "version_minor": 0
      },
      "text/plain": [
       "  0%|          | 0/2000 [00:00<?, ?it/s]"
      ]
     },
     "metadata": {},
     "output_type": "display_data"
    },
    {
     "name": "stdout",
     "output_type": "stream",
     "text": [
      "0.0002243476428641439\n"
     ]
    },
    {
     "data": {
      "application/vnd.jupyter.widget-view+json": {
       "model_id": "de0a5d6ceea44cf9bd1110670dcbabac",
       "version_major": 2,
       "version_minor": 0
      },
      "text/plain": [
       "  0%|          | 0/300 [00:00<?, ?it/s]"
      ]
     },
     "metadata": {},
     "output_type": "display_data"
    },
    {
     "data": {
      "application/vnd.jupyter.widget-view+json": {
       "model_id": "6db378af65074a279eede1229c2a3640",
       "version_major": 2,
       "version_minor": 0
      },
      "text/plain": [
       "  0%|          | 0/2000 [00:00<?, ?it/s]"
      ]
     },
     "metadata": {},
     "output_type": "display_data"
    },
    {
     "name": "stdout",
     "output_type": "stream",
     "text": [
      "0.000230083948757814\n"
     ]
    },
    {
     "data": {
      "application/vnd.jupyter.widget-view+json": {
       "model_id": "9cd5f81debd04bd9871419cbeefa99b7",
       "version_major": 2,
       "version_minor": 0
      },
      "text/plain": [
       "  0%|          | 0/300 [00:00<?, ?it/s]"
      ]
     },
     "metadata": {},
     "output_type": "display_data"
    },
    {
     "data": {
      "application/vnd.jupyter.widget-view+json": {
       "model_id": "c58bcec76fff4844af1420b54a70a5a2",
       "version_major": 2,
       "version_minor": 0
      },
      "text/plain": [
       "  0%|          | 0/2000 [00:00<?, ?it/s]"
      ]
     },
     "metadata": {},
     "output_type": "display_data"
    },
    {
     "name": "stdout",
     "output_type": "stream",
     "text": [
      "0.00021006902514324118\n"
     ]
    },
    {
     "data": {
      "application/vnd.jupyter.widget-view+json": {
       "model_id": "3c2314df20784565bcadf1511ff373aa",
       "version_major": 2,
       "version_minor": 0
      },
      "text/plain": [
       "  0%|          | 0/300 [00:00<?, ?it/s]"
      ]
     },
     "metadata": {},
     "output_type": "display_data"
    },
    {
     "data": {
      "application/vnd.jupyter.widget-view+json": {
       "model_id": "db6f85a150ed4f778f55889b90b175ca",
       "version_major": 2,
       "version_minor": 0
      },
      "text/plain": [
       "  0%|          | 0/2000 [00:00<?, ?it/s]"
      ]
     },
     "metadata": {},
     "output_type": "display_data"
    },
    {
     "name": "stdout",
     "output_type": "stream",
     "text": [
      "0.00020518304724869061\n"
     ]
    },
    {
     "data": {
      "application/vnd.jupyter.widget-view+json": {
       "model_id": "1e86d039645f4d37b88c5fccfacf58e8",
       "version_major": 2,
       "version_minor": 0
      },
      "text/plain": [
       "  0%|          | 0/300 [00:00<?, ?it/s]"
      ]
     },
     "metadata": {},
     "output_type": "display_data"
    },
    {
     "data": {
      "application/vnd.jupyter.widget-view+json": {
       "model_id": "eb2a5c815eb448f4888d52e688fb7ad2",
       "version_major": 2,
       "version_minor": 0
      },
      "text/plain": [
       "  0%|          | 0/2000 [00:00<?, ?it/s]"
      ]
     },
     "metadata": {},
     "output_type": "display_data"
    },
    {
     "name": "stdout",
     "output_type": "stream",
     "text": [
      "0.00020372969395729355\n"
     ]
    },
    {
     "data": {
      "application/vnd.jupyter.widget-view+json": {
       "model_id": "025da1758f254ad1b74e4b395104b6e8",
       "version_major": 2,
       "version_minor": 0
      },
      "text/plain": [
       "  0%|          | 0/300 [00:00<?, ?it/s]"
      ]
     },
     "metadata": {},
     "output_type": "display_data"
    },
    {
     "data": {
      "application/vnd.jupyter.widget-view+json": {
       "model_id": "8d687aaf068346aaa822fb38be7b0157",
       "version_major": 2,
       "version_minor": 0
      },
      "text/plain": [
       "  0%|          | 0/2000 [00:00<?, ?it/s]"
      ]
     },
     "metadata": {},
     "output_type": "display_data"
    },
    {
     "name": "stdout",
     "output_type": "stream",
     "text": [
      "0.00022078434823936046\n"
     ]
    },
    {
     "data": {
      "application/vnd.jupyter.widget-view+json": {
       "model_id": "57e24a0203d44256ae0bd93c5043d40e",
       "version_major": 2,
       "version_minor": 0
      },
      "text/plain": [
       "  0%|          | 0/300 [00:00<?, ?it/s]"
      ]
     },
     "metadata": {},
     "output_type": "display_data"
    },
    {
     "data": {
      "application/vnd.jupyter.widget-view+json": {
       "model_id": "4e898d7d6e0049988636ad8081f0f0c7",
       "version_major": 2,
       "version_minor": 0
      },
      "text/plain": [
       "  0%|          | 0/2000 [00:00<?, ?it/s]"
      ]
     },
     "metadata": {},
     "output_type": "display_data"
    },
    {
     "name": "stdout",
     "output_type": "stream",
     "text": [
      "0.0002262606889045836\n"
     ]
    },
    {
     "data": {
      "application/vnd.jupyter.widget-view+json": {
       "model_id": "d11c4c4d9d3648349f0bb37a195ac40f",
       "version_major": 2,
       "version_minor": 0
      },
      "text/plain": [
       "  0%|          | 0/300 [00:00<?, ?it/s]"
      ]
     },
     "metadata": {},
     "output_type": "display_data"
    },
    {
     "data": {
      "application/vnd.jupyter.widget-view+json": {
       "model_id": "1f46d661a1414fd1804c7016c5793464",
       "version_major": 2,
       "version_minor": 0
      },
      "text/plain": [
       "  0%|          | 0/2000 [00:00<?, ?it/s]"
      ]
     },
     "metadata": {},
     "output_type": "display_data"
    },
    {
     "name": "stdout",
     "output_type": "stream",
     "text": [
      "0.00020564967047616964\n"
     ]
    },
    {
     "data": {
      "application/vnd.jupyter.widget-view+json": {
       "model_id": "1644cf4f3b7e427cbba030972822a590",
       "version_major": 2,
       "version_minor": 0
      },
      "text/plain": [
       "  0%|          | 0/300 [00:00<?, ?it/s]"
      ]
     },
     "metadata": {},
     "output_type": "display_data"
    },
    {
     "data": {
      "application/vnd.jupyter.widget-view+json": {
       "model_id": "aaef6f47142b41a4b4bf2b8140a0fd0c",
       "version_major": 2,
       "version_minor": 0
      },
      "text/plain": [
       "  0%|          | 0/2000 [00:00<?, ?it/s]"
      ]
     },
     "metadata": {},
     "output_type": "display_data"
    },
    {
     "name": "stdout",
     "output_type": "stream",
     "text": [
      "0.00020130726293206684\n"
     ]
    },
    {
     "data": {
      "application/vnd.jupyter.widget-view+json": {
       "model_id": "030dd04904bf44c4bd4db151f3e7bcdb",
       "version_major": 2,
       "version_minor": 0
      },
      "text/plain": [
       "  0%|          | 0/300 [00:00<?, ?it/s]"
      ]
     },
     "metadata": {},
     "output_type": "display_data"
    },
    {
     "data": {
      "application/vnd.jupyter.widget-view+json": {
       "model_id": "6a9f023b7da44501ab75f2f5dec7932d",
       "version_major": 2,
       "version_minor": 0
      },
      "text/plain": [
       "  0%|          | 0/2000 [00:00<?, ?it/s]"
      ]
     },
     "metadata": {},
     "output_type": "display_data"
    },
    {
     "name": "stdout",
     "output_type": "stream",
     "text": [
      "0.00019973223297070213\n"
     ]
    },
    {
     "data": {
      "application/vnd.jupyter.widget-view+json": {
       "model_id": "c708d1fcf5fa4b0e99a34b8a12b32b7b",
       "version_major": 2,
       "version_minor": 0
      },
      "text/plain": [
       "  0%|          | 0/300 [00:00<?, ?it/s]"
      ]
     },
     "metadata": {},
     "output_type": "display_data"
    },
    {
     "data": {
      "application/vnd.jupyter.widget-view+json": {
       "model_id": "6bec15a9c5434aac9adad021fba645d8",
       "version_major": 2,
       "version_minor": 0
      },
      "text/plain": [
       "  0%|          | 0/2000 [00:00<?, ?it/s]"
      ]
     },
     "metadata": {},
     "output_type": "display_data"
    },
    {
     "name": "stdout",
     "output_type": "stream",
     "text": [
      "0.00021938812886302124\n"
     ]
    },
    {
     "data": {
      "application/vnd.jupyter.widget-view+json": {
       "model_id": "f0b88a87c33c48ecbe44954fdb15ef62",
       "version_major": 2,
       "version_minor": 0
      },
      "text/plain": [
       "  0%|          | 0/300 [00:00<?, ?it/s]"
      ]
     },
     "metadata": {},
     "output_type": "display_data"
    },
    {
     "data": {
      "application/vnd.jupyter.widget-view+json": {
       "model_id": "19fde685882345199c0c79638b9bfbb5",
       "version_major": 2,
       "version_minor": 0
      },
      "text/plain": [
       "  0%|          | 0/2000 [00:00<?, ?it/s]"
      ]
     },
     "metadata": {},
     "output_type": "display_data"
    },
    {
     "name": "stdout",
     "output_type": "stream",
     "text": [
      "0.0002247505699428481\n"
     ]
    },
    {
     "data": {
      "application/vnd.jupyter.widget-view+json": {
       "model_id": "95e384907d4247ee9d8173992739b9ff",
       "version_major": 2,
       "version_minor": 0
      },
      "text/plain": [
       "  0%|          | 0/300 [00:00<?, ?it/s]"
      ]
     },
     "metadata": {},
     "output_type": "display_data"
    },
    {
     "data": {
      "application/vnd.jupyter.widget-view+json": {
       "model_id": "4c4fe194ab4a48f9bbb20fcc00d04535",
       "version_major": 2,
       "version_minor": 0
      },
      "text/plain": [
       "  0%|          | 0/2000 [00:00<?, ?it/s]"
      ]
     },
     "metadata": {},
     "output_type": "display_data"
    },
    {
     "name": "stdout",
     "output_type": "stream",
     "text": [
      "0.0002038142953525082\n"
     ]
    },
    {
     "data": {
      "application/vnd.jupyter.widget-view+json": {
       "model_id": "c190952c3a5a49f6ae642f3793a69f21",
       "version_major": 2,
       "version_minor": 0
      },
      "text/plain": [
       "  0%|          | 0/300 [00:00<?, ?it/s]"
      ]
     },
     "metadata": {},
     "output_type": "display_data"
    },
    {
     "data": {
      "application/vnd.jupyter.widget-view+json": {
       "model_id": "ea6a64c24ab54f07928a13ce7d672c6f",
       "version_major": 2,
       "version_minor": 0
      },
      "text/plain": [
       "  0%|          | 0/2000 [00:00<?, ?it/s]"
      ]
     },
     "metadata": {},
     "output_type": "display_data"
    },
    {
     "name": "stdout",
     "output_type": "stream",
     "text": [
      "0.00019974957180423736\n"
     ]
    },
    {
     "data": {
      "application/vnd.jupyter.widget-view+json": {
       "model_id": "3019d855bfb54a44917f0e93a975d8a6",
       "version_major": 2,
       "version_minor": 0
      },
      "text/plain": [
       "  0%|          | 0/300 [00:00<?, ?it/s]"
      ]
     },
     "metadata": {},
     "output_type": "display_data"
    },
    {
     "data": {
      "application/vnd.jupyter.widget-view+json": {
       "model_id": "355d186cee424d3384dfe7b4826e985d",
       "version_major": 2,
       "version_minor": 0
      },
      "text/plain": [
       "  0%|          | 0/2000 [00:00<?, ?it/s]"
      ]
     },
     "metadata": {},
     "output_type": "display_data"
    },
    {
     "name": "stdout",
     "output_type": "stream",
     "text": [
      "0.0001980691756033989\n"
     ]
    },
    {
     "data": {
      "application/vnd.jupyter.widget-view+json": {
       "model_id": "3a8a1a5ef5344038baf9a51a25aeee1a",
       "version_major": 2,
       "version_minor": 0
      },
      "text/plain": [
       "  0%|          | 0/300 [00:00<?, ?it/s]"
      ]
     },
     "metadata": {},
     "output_type": "display_data"
    },
    {
     "data": {
      "application/vnd.jupyter.widget-view+json": {
       "model_id": "6254e9c4d0ae4acf86b27214e0dd7635",
       "version_major": 2,
       "version_minor": 0
      },
      "text/plain": [
       "  0%|          | 0/2000 [00:00<?, ?it/s]"
      ]
     },
     "metadata": {},
     "output_type": "display_data"
    },
    {
     "name": "stdout",
     "output_type": "stream",
     "text": [
      "0.00021833543502122973\n"
     ]
    },
    {
     "data": {
      "application/vnd.jupyter.widget-view+json": {
       "model_id": "48d2af405f36409e85aa1b4371dd3bc6",
       "version_major": 2,
       "version_minor": 0
      },
      "text/plain": [
       "  0%|          | 0/300 [00:00<?, ?it/s]"
      ]
     },
     "metadata": {},
     "output_type": "display_data"
    },
    {
     "data": {
      "application/vnd.jupyter.widget-view+json": {
       "model_id": "b9157ab09b2345ddaabc168de2accf6b",
       "version_major": 2,
       "version_minor": 0
      },
      "text/plain": [
       "  0%|          | 0/2000 [00:00<?, ?it/s]"
      ]
     },
     "metadata": {},
     "output_type": "display_data"
    },
    {
     "name": "stdout",
     "output_type": "stream",
     "text": [
      "0.00022358947129651525\n"
     ]
    },
    {
     "data": {
      "application/vnd.jupyter.widget-view+json": {
       "model_id": "30c1c7741441485bb0f58139e6bce73d",
       "version_major": 2,
       "version_minor": 0
      },
      "text/plain": [
       "  0%|          | 0/300 [00:00<?, ?it/s]"
      ]
     },
     "metadata": {},
     "output_type": "display_data"
    },
    {
     "data": {
      "application/vnd.jupyter.widget-view+json": {
       "model_id": "a1a9a8d55f4f455e8d238ae9f3e227b6",
       "version_major": 2,
       "version_minor": 0
      },
      "text/plain": [
       "  0%|          | 0/2000 [00:00<?, ?it/s]"
      ]
     },
     "metadata": {},
     "output_type": "display_data"
    },
    {
     "name": "stdout",
     "output_type": "stream",
     "text": [
      "0.00020220735539628007\n"
     ]
    },
    {
     "data": {
      "application/vnd.jupyter.widget-view+json": {
       "model_id": "425c5e82aa2a438c8a78824e50e7b1cd",
       "version_major": 2,
       "version_minor": 0
      },
      "text/plain": [
       "  0%|          | 0/300 [00:00<?, ?it/s]"
      ]
     },
     "metadata": {},
     "output_type": "display_data"
    },
    {
     "data": {
      "application/vnd.jupyter.widget-view+json": {
       "model_id": "afc1f0db9f184e6c97f04714eb4e9df7",
       "version_major": 2,
       "version_minor": 0
      },
      "text/plain": [
       "  0%|          | 0/2000 [00:00<?, ?it/s]"
      ]
     },
     "metadata": {},
     "output_type": "display_data"
    },
    {
     "name": "stdout",
     "output_type": "stream",
     "text": [
      "0.00019928457804868852\n"
     ]
    },
    {
     "data": {
      "application/vnd.jupyter.widget-view+json": {
       "model_id": "8ffbae95710540419dc53f65113f6803",
       "version_major": 2,
       "version_minor": 0
      },
      "text/plain": [
       "  0%|          | 0/300 [00:00<?, ?it/s]"
      ]
     },
     "metadata": {},
     "output_type": "display_data"
    },
    {
     "data": {
      "application/vnd.jupyter.widget-view+json": {
       "model_id": "3850262e0b424b1cb6d95561ce867d7a",
       "version_major": 2,
       "version_minor": 0
      },
      "text/plain": [
       "  0%|          | 0/2000 [00:00<?, ?it/s]"
      ]
     },
     "metadata": {},
     "output_type": "display_data"
    },
    {
     "name": "stdout",
     "output_type": "stream",
     "text": [
      "0.0001966234982726516\n"
     ]
    }
   ],
   "source": [
    "n = 3\n",
    "d = 2**n\n",
    "c1 = 0.8\n",
    "c2 = 0.8\n",
    "\n",
    "num_reps = 5\n",
    "noise_list = np.logspace(-1, -3, 10)\n",
    "noise_list = np.append(noise_list, 0)\n",
    "\n",
    "init_3q_corr = np.zeros((len(noise_list), num_reps))\n",
    "povm_3q_corr = np.zeros((len(noise_list), num_reps))\n",
    "\n",
    "for i, noise in tqdm(enumerate(noise_list)):\n",
    "    \n",
    "    np.random.seed(42)\n",
    "    random.seed(42)\n",
    "    tf.random.set_seed(42)\n",
    "    \n",
    "    for rep in range(num_reps):\n",
    "        spam_target = generate_spam_benchmark(n=n, c1=c1, c2=c2)\n",
    "        inputs_spam, targets_spam = generate_spam_data(spam_target, N_spam=None, noise=noise)\n",
    "\n",
    "        spam_model = SPAM(init = InitialState(d, c=None),\n",
    "                          povm = CorruptionMatrix(d, c=None),\n",
    "                          optimizer = tf.optimizers.Adam(learning_rate=0.01))\n",
    "        \n",
    "        spam_model.pretrain(num_iter = 300,\n",
    "                         verbose = False,\n",
    "                        )\n",
    "\n",
    "        spam_model.train(inputs = inputs_spam,\n",
    "                         targets = targets_spam,\n",
    "                         num_iter = 2000,\n",
    "                         verbose = False,\n",
    "                        )\n",
    "        \n",
    "        init_3q_corr[i, rep] = state_fidelity(spam_model.init.init, spam_target.init.init)\n",
    "        povm_3q_corr[i, rep] = povm_fidelity(spam_model.povm.povm, spam_target.povm.povm)\n",
    "        \n",
    "saver(init_3q_corr, \"init_3q_corr.p\")\n",
    "saver(povm_3q_corr, \"povm_3q_corr.p\")"
   ]
  },
  {
   "cell_type": "code",
   "execution_count": 36,
   "metadata": {
    "scrolled": true
   },
   "outputs": [
    {
     "data": {
      "application/vnd.jupyter.widget-view+json": {
       "model_id": "3b33f9a9a78a4dec9de4566004760033",
       "version_major": 2,
       "version_minor": 0
      },
      "text/plain": [
       "0it [00:00, ?it/s]"
      ]
     },
     "metadata": {},
     "output_type": "display_data"
    },
    {
     "data": {
      "application/vnd.jupyter.widget-view+json": {
       "model_id": "9a779c6f465d4146a531c234f4b2fe78",
       "version_major": 2,
       "version_minor": 0
      },
      "text/plain": [
       "  0%|          | 0/300 [00:00<?, ?it/s]"
      ]
     },
     "metadata": {},
     "output_type": "display_data"
    },
    {
     "data": {
      "application/vnd.jupyter.widget-view+json": {
       "model_id": "b3d227ca9d794c158595137079f36f49",
       "version_major": 2,
       "version_minor": 0
      },
      "text/plain": [
       "  0%|          | 0/2000 [00:00<?, ?it/s]"
      ]
     },
     "metadata": {},
     "output_type": "display_data"
    },
    {
     "name": "stdout",
     "output_type": "stream",
     "text": [
      "0.0051098638986205635\n"
     ]
    },
    {
     "data": {
      "application/vnd.jupyter.widget-view+json": {
       "model_id": "94f1f4aba4104180a9b0eda1ddb66d6e",
       "version_major": 2,
       "version_minor": 0
      },
      "text/plain": [
       "  0%|          | 0/300 [00:00<?, ?it/s]"
      ]
     },
     "metadata": {},
     "output_type": "display_data"
    },
    {
     "data": {
      "application/vnd.jupyter.widget-view+json": {
       "model_id": "cb0e1bce53f54437a78e0fce53c1368c",
       "version_major": 2,
       "version_minor": 0
      },
      "text/plain": [
       "  0%|          | 0/2000 [00:00<?, ?it/s]"
      ]
     },
     "metadata": {},
     "output_type": "display_data"
    },
    {
     "name": "stdout",
     "output_type": "stream",
     "text": [
      "0.005043893835881581\n"
     ]
    },
    {
     "data": {
      "application/vnd.jupyter.widget-view+json": {
       "model_id": "3fab54b804c245f5b8a54e15e4912f75",
       "version_major": 2,
       "version_minor": 0
      },
      "text/plain": [
       "  0%|          | 0/300 [00:00<?, ?it/s]"
      ]
     },
     "metadata": {},
     "output_type": "display_data"
    },
    {
     "data": {
      "application/vnd.jupyter.widget-view+json": {
       "model_id": "2fb3b4f76f1249f4b3d6a88218307a7c",
       "version_major": 2,
       "version_minor": 0
      },
      "text/plain": [
       "  0%|          | 0/2000 [00:00<?, ?it/s]"
      ]
     },
     "metadata": {},
     "output_type": "display_data"
    },
    {
     "name": "stdout",
     "output_type": "stream",
     "text": [
      "0.0049593329597805436\n"
     ]
    },
    {
     "data": {
      "application/vnd.jupyter.widget-view+json": {
       "model_id": "859cd69e436640afa15cd9f458eb1512",
       "version_major": 2,
       "version_minor": 0
      },
      "text/plain": [
       "  0%|          | 0/300 [00:00<?, ?it/s]"
      ]
     },
     "metadata": {},
     "output_type": "display_data"
    },
    {
     "data": {
      "application/vnd.jupyter.widget-view+json": {
       "model_id": "86f721d28ddd4189b6f668021389f66c",
       "version_major": 2,
       "version_minor": 0
      },
      "text/plain": [
       "  0%|          | 0/2000 [00:00<?, ?it/s]"
      ]
     },
     "metadata": {},
     "output_type": "display_data"
    },
    {
     "name": "stdout",
     "output_type": "stream",
     "text": [
      "0.00522817916644825\n"
     ]
    },
    {
     "data": {
      "application/vnd.jupyter.widget-view+json": {
       "model_id": "e59655b7f40a415a99c4c95bed843309",
       "version_major": 2,
       "version_minor": 0
      },
      "text/plain": [
       "  0%|          | 0/300 [00:00<?, ?it/s]"
      ]
     },
     "metadata": {},
     "output_type": "display_data"
    },
    {
     "data": {
      "application/vnd.jupyter.widget-view+json": {
       "model_id": "b06049128338474e8c18dacc96f79546",
       "version_major": 2,
       "version_minor": 0
      },
      "text/plain": [
       "  0%|          | 0/2000 [00:00<?, ?it/s]"
      ]
     },
     "metadata": {},
     "output_type": "display_data"
    },
    {
     "name": "stdout",
     "output_type": "stream",
     "text": [
      "0.00522319456520096\n"
     ]
    },
    {
     "data": {
      "application/vnd.jupyter.widget-view+json": {
       "model_id": "5d220d7464a74266a398b155899126e9",
       "version_major": 2,
       "version_minor": 0
      },
      "text/plain": [
       "  0%|          | 0/300 [00:00<?, ?it/s]"
      ]
     },
     "metadata": {},
     "output_type": "display_data"
    },
    {
     "data": {
      "application/vnd.jupyter.widget-view+json": {
       "model_id": "dadc3425892a495b84375118e3de6d11",
       "version_major": 2,
       "version_minor": 0
      },
      "text/plain": [
       "  0%|          | 0/2000 [00:00<?, ?it/s]"
      ]
     },
     "metadata": {},
     "output_type": "display_data"
    },
    {
     "name": "stdout",
     "output_type": "stream",
     "text": [
      "0.0017481897379573782\n"
     ]
    },
    {
     "data": {
      "application/vnd.jupyter.widget-view+json": {
       "model_id": "55e355c5c4c2403a931fcd2c642bf2f0",
       "version_major": 2,
       "version_minor": 0
      },
      "text/plain": [
       "  0%|          | 0/300 [00:00<?, ?it/s]"
      ]
     },
     "metadata": {},
     "output_type": "display_data"
    },
    {
     "data": {
      "application/vnd.jupyter.widget-view+json": {
       "model_id": "2f751585e8c2460ead937c8da44aff5b",
       "version_major": 2,
       "version_minor": 0
      },
      "text/plain": [
       "  0%|          | 0/2000 [00:00<?, ?it/s]"
      ]
     },
     "metadata": {},
     "output_type": "display_data"
    },
    {
     "name": "stdout",
     "output_type": "stream",
     "text": [
      "0.0017039642553850613\n"
     ]
    },
    {
     "data": {
      "application/vnd.jupyter.widget-view+json": {
       "model_id": "da9ce3c1739b4f7cae3e9ef72c593ddf",
       "version_major": 2,
       "version_minor": 0
      },
      "text/plain": [
       "  0%|          | 0/300 [00:00<?, ?it/s]"
      ]
     },
     "metadata": {},
     "output_type": "display_data"
    },
    {
     "data": {
      "application/vnd.jupyter.widget-view+json": {
       "model_id": "83a03cb9f4c84adaa7c40b6b618e17e6",
       "version_major": 2,
       "version_minor": 0
      },
      "text/plain": [
       "  0%|          | 0/2000 [00:00<?, ?it/s]"
      ]
     },
     "metadata": {},
     "output_type": "display_data"
    },
    {
     "name": "stdout",
     "output_type": "stream",
     "text": [
      "0.0017094380161883772\n"
     ]
    },
    {
     "data": {
      "application/vnd.jupyter.widget-view+json": {
       "model_id": "0e799f51422a47cdad9d8f00039d5534",
       "version_major": 2,
       "version_minor": 0
      },
      "text/plain": [
       "  0%|          | 0/300 [00:00<?, ?it/s]"
      ]
     },
     "metadata": {},
     "output_type": "display_data"
    },
    {
     "data": {
      "application/vnd.jupyter.widget-view+json": {
       "model_id": "6bd35cc344ac4df0b3a648b5d4626598",
       "version_major": 2,
       "version_minor": 0
      },
      "text/plain": [
       "  0%|          | 0/2000 [00:00<?, ?it/s]"
      ]
     },
     "metadata": {},
     "output_type": "display_data"
    },
    {
     "name": "stdout",
     "output_type": "stream",
     "text": [
      "0.001817695302224616\n"
     ]
    },
    {
     "data": {
      "application/vnd.jupyter.widget-view+json": {
       "model_id": "a739ba0645554ca7af50dca3685e024e",
       "version_major": 2,
       "version_minor": 0
      },
      "text/plain": [
       "  0%|          | 0/300 [00:00<?, ?it/s]"
      ]
     },
     "metadata": {},
     "output_type": "display_data"
    },
    {
     "data": {
      "application/vnd.jupyter.widget-view+json": {
       "model_id": "ab8ebe1035874122a0115efa0ce11850",
       "version_major": 2,
       "version_minor": 0
      },
      "text/plain": [
       "  0%|          | 0/2000 [00:00<?, ?it/s]"
      ]
     },
     "metadata": {},
     "output_type": "display_data"
    },
    {
     "name": "stdout",
     "output_type": "stream",
     "text": [
      "0.0017900333337455348\n"
     ]
    },
    {
     "data": {
      "application/vnd.jupyter.widget-view+json": {
       "model_id": "2c933352ef6b4aa0bf70ed4aa7257ad5",
       "version_major": 2,
       "version_minor": 0
      },
      "text/plain": [
       "  0%|          | 0/300 [00:00<?, ?it/s]"
      ]
     },
     "metadata": {},
     "output_type": "display_data"
    },
    {
     "data": {
      "application/vnd.jupyter.widget-view+json": {
       "model_id": "792ffdb140a44780a1b5516e799370dc",
       "version_major": 2,
       "version_minor": 0
      },
      "text/plain": [
       "  0%|          | 0/2000 [00:00<?, ?it/s]"
      ]
     },
     "metadata": {},
     "output_type": "display_data"
    },
    {
     "name": "stdout",
     "output_type": "stream",
     "text": [
      "0.000611913101278013\n"
     ]
    },
    {
     "data": {
      "application/vnd.jupyter.widget-view+json": {
       "model_id": "8bacbed6a0d54e81bdc2031529b695fb",
       "version_major": 2,
       "version_minor": 0
      },
      "text/plain": [
       "  0%|          | 0/300 [00:00<?, ?it/s]"
      ]
     },
     "metadata": {},
     "output_type": "display_data"
    },
    {
     "data": {
      "application/vnd.jupyter.widget-view+json": {
       "model_id": "1fbb74448c0d48888a5ecd98950ca78b",
       "version_major": 2,
       "version_minor": 0
      },
      "text/plain": [
       "  0%|          | 0/2000 [00:00<?, ?it/s]"
      ]
     },
     "metadata": {},
     "output_type": "display_data"
    },
    {
     "name": "stdout",
     "output_type": "stream",
     "text": [
      "0.0005893009876231889\n"
     ]
    },
    {
     "data": {
      "application/vnd.jupyter.widget-view+json": {
       "model_id": "69d1957293614504ae3fe345a54e639c",
       "version_major": 2,
       "version_minor": 0
      },
      "text/plain": [
       "  0%|          | 0/300 [00:00<?, ?it/s]"
      ]
     },
     "metadata": {},
     "output_type": "display_data"
    },
    {
     "data": {
      "application/vnd.jupyter.widget-view+json": {
       "model_id": "e27493799cee48d2a2cb3f0eaa7d1062",
       "version_major": 2,
       "version_minor": 0
      },
      "text/plain": [
       "  0%|          | 0/2000 [00:00<?, ?it/s]"
      ]
     },
     "metadata": {},
     "output_type": "display_data"
    },
    {
     "name": "stdout",
     "output_type": "stream",
     "text": [
      "0.0005957570473165825\n"
     ]
    },
    {
     "data": {
      "application/vnd.jupyter.widget-view+json": {
       "model_id": "6ab0c3f42c534e3283b8b22be2c2eb69",
       "version_major": 2,
       "version_minor": 0
      },
      "text/plain": [
       "  0%|          | 0/300 [00:00<?, ?it/s]"
      ]
     },
     "metadata": {},
     "output_type": "display_data"
    },
    {
     "data": {
      "application/vnd.jupyter.widget-view+json": {
       "model_id": "861a72506fef4ee59ed82575494ae1ba",
       "version_major": 2,
       "version_minor": 0
      },
      "text/plain": [
       "  0%|          | 0/2000 [00:00<?, ?it/s]"
      ]
     },
     "metadata": {},
     "output_type": "display_data"
    },
    {
     "name": "stdout",
     "output_type": "stream",
     "text": [
      "0.0006419188631680895\n"
     ]
    },
    {
     "data": {
      "application/vnd.jupyter.widget-view+json": {
       "model_id": "d1f2c18c4e964ec891b0e1a01d1961c9",
       "version_major": 2,
       "version_minor": 0
      },
      "text/plain": [
       "  0%|          | 0/300 [00:00<?, ?it/s]"
      ]
     },
     "metadata": {},
     "output_type": "display_data"
    },
    {
     "data": {
      "application/vnd.jupyter.widget-view+json": {
       "model_id": "a1c14665ae4f4051b893d55892fef828",
       "version_major": 2,
       "version_minor": 0
      },
      "text/plain": [
       "  0%|          | 0/2000 [00:00<?, ?it/s]"
      ]
     },
     "metadata": {},
     "output_type": "display_data"
    },
    {
     "name": "stdout",
     "output_type": "stream",
     "text": [
      "0.0006311504504912673\n"
     ]
    },
    {
     "data": {
      "application/vnd.jupyter.widget-view+json": {
       "model_id": "dfb3cda328b64ca0be1aab3d709f50e8",
       "version_major": 2,
       "version_minor": 0
      },
      "text/plain": [
       "  0%|          | 0/300 [00:00<?, ?it/s]"
      ]
     },
     "metadata": {},
     "output_type": "display_data"
    },
    {
     "data": {
      "application/vnd.jupyter.widget-view+json": {
       "model_id": "b69b084993334d259ac6bb2b86cb8694",
       "version_major": 2,
       "version_minor": 0
      },
      "text/plain": [
       "  0%|          | 0/2000 [00:00<?, ?it/s]"
      ]
     },
     "metadata": {},
     "output_type": "display_data"
    },
    {
     "name": "stdout",
     "output_type": "stream",
     "text": [
      "0.00022019421987203377\n"
     ]
    },
    {
     "data": {
      "application/vnd.jupyter.widget-view+json": {
       "model_id": "ae0602c4bf98495f8a08b03e0606eaa2",
       "version_major": 2,
       "version_minor": 0
      },
      "text/plain": [
       "  0%|          | 0/300 [00:00<?, ?it/s]"
      ]
     },
     "metadata": {},
     "output_type": "display_data"
    },
    {
     "data": {
      "application/vnd.jupyter.widget-view+json": {
       "model_id": "9d4d87b8695a4db594081f85a7a45f36",
       "version_major": 2,
       "version_minor": 0
      },
      "text/plain": [
       "  0%|          | 0/2000 [00:00<?, ?it/s]"
      ]
     },
     "metadata": {},
     "output_type": "display_data"
    },
    {
     "name": "stdout",
     "output_type": "stream",
     "text": [
      "0.0002077370620311082\n"
     ]
    },
    {
     "data": {
      "application/vnd.jupyter.widget-view+json": {
       "model_id": "5747208e46bb45998e82f4d1e724bf89",
       "version_major": 2,
       "version_minor": 0
      },
      "text/plain": [
       "  0%|          | 0/300 [00:00<?, ?it/s]"
      ]
     },
     "metadata": {},
     "output_type": "display_data"
    },
    {
     "data": {
      "application/vnd.jupyter.widget-view+json": {
       "model_id": "86dbfc8962414e40a8c9d6130e02f9a2",
       "version_major": 2,
       "version_minor": 0
      },
      "text/plain": [
       "  0%|          | 0/2000 [00:00<?, ?it/s]"
      ]
     },
     "metadata": {},
     "output_type": "display_data"
    },
    {
     "name": "stdout",
     "output_type": "stream",
     "text": [
      "0.0002097184066697481\n"
     ]
    },
    {
     "data": {
      "application/vnd.jupyter.widget-view+json": {
       "model_id": "2f2c88416bc743ca9ffdaa9534fc4546",
       "version_major": 2,
       "version_minor": 0
      },
      "text/plain": [
       "  0%|          | 0/300 [00:00<?, ?it/s]"
      ]
     },
     "metadata": {},
     "output_type": "display_data"
    },
    {
     "data": {
      "application/vnd.jupyter.widget-view+json": {
       "model_id": "70a183da1c7b40dab80daba8b1c5f00d",
       "version_major": 2,
       "version_minor": 0
      },
      "text/plain": [
       "  0%|          | 0/2000 [00:00<?, ?it/s]"
      ]
     },
     "metadata": {},
     "output_type": "display_data"
    },
    {
     "name": "stdout",
     "output_type": "stream",
     "text": [
      "0.0002292349504695977\n"
     ]
    },
    {
     "data": {
      "application/vnd.jupyter.widget-view+json": {
       "model_id": "99e73806a67d4c4bb95f2d9eb78ec23a",
       "version_major": 2,
       "version_minor": 0
      },
      "text/plain": [
       "  0%|          | 0/300 [00:00<?, ?it/s]"
      ]
     },
     "metadata": {},
     "output_type": "display_data"
    },
    {
     "data": {
      "application/vnd.jupyter.widget-view+json": {
       "model_id": "097ebe179ef04121b03c6399d8eb805c",
       "version_major": 2,
       "version_minor": 0
      },
      "text/plain": [
       "  0%|          | 0/2000 [00:00<?, ?it/s]"
      ]
     },
     "metadata": {},
     "output_type": "display_data"
    },
    {
     "name": "stdout",
     "output_type": "stream",
     "text": [
      "0.00022447109512939244\n"
     ]
    },
    {
     "data": {
      "application/vnd.jupyter.widget-view+json": {
       "model_id": "fc1d704465654cb095457e1579a263d8",
       "version_major": 2,
       "version_minor": 0
      },
      "text/plain": [
       "  0%|          | 0/300 [00:00<?, ?it/s]"
      ]
     },
     "metadata": {},
     "output_type": "display_data"
    },
    {
     "data": {
      "application/vnd.jupyter.widget-view+json": {
       "model_id": "ce9597997ebb42e1a8fe2526d2b6f3ed",
       "version_major": 2,
       "version_minor": 0
      },
      "text/plain": [
       "  0%|          | 0/2000 [00:00<?, ?it/s]"
      ]
     },
     "metadata": {},
     "output_type": "display_data"
    },
    {
     "name": "stdout",
     "output_type": "stream",
     "text": [
      "8.077263731951778e-05\n"
     ]
    },
    {
     "data": {
      "application/vnd.jupyter.widget-view+json": {
       "model_id": "6f217c46ca3f4b4fb242b9c189de01fc",
       "version_major": 2,
       "version_minor": 0
      },
      "text/plain": [
       "  0%|          | 0/300 [00:00<?, ?it/s]"
      ]
     },
     "metadata": {},
     "output_type": "display_data"
    },
    {
     "data": {
      "application/vnd.jupyter.widget-view+json": {
       "model_id": "68f40040e02142cd8aac4b38aad07b06",
       "version_major": 2,
       "version_minor": 0
      },
      "text/plain": [
       "  0%|          | 0/2000 [00:00<?, ?it/s]"
      ]
     },
     "metadata": {},
     "output_type": "display_data"
    },
    {
     "name": "stdout",
     "output_type": "stream",
     "text": [
      "7.438597145512556e-05\n"
     ]
    },
    {
     "data": {
      "application/vnd.jupyter.widget-view+json": {
       "model_id": "559402f3a013487b8f22afba4a21816d",
       "version_major": 2,
       "version_minor": 0
      },
      "text/plain": [
       "  0%|          | 0/300 [00:00<?, ?it/s]"
      ]
     },
     "metadata": {},
     "output_type": "display_data"
    },
    {
     "data": {
      "application/vnd.jupyter.widget-view+json": {
       "model_id": "0df4af8ca81e468ebc9fdc591d5abcfb",
       "version_major": 2,
       "version_minor": 0
      },
      "text/plain": [
       "  0%|          | 0/2000 [00:00<?, ?it/s]"
      ]
     },
     "metadata": {},
     "output_type": "display_data"
    },
    {
     "name": "stdout",
     "output_type": "stream",
     "text": [
      "7.519308291093884e-05\n"
     ]
    },
    {
     "data": {
      "application/vnd.jupyter.widget-view+json": {
       "model_id": "439fb8434ceb408783a9032c32653749",
       "version_major": 2,
       "version_minor": 0
      },
      "text/plain": [
       "  0%|          | 0/300 [00:00<?, ?it/s]"
      ]
     },
     "metadata": {},
     "output_type": "display_data"
    },
    {
     "data": {
      "application/vnd.jupyter.widget-view+json": {
       "model_id": "a507285cd5894d5c9fd9c744e1f0b72a",
       "version_major": 2,
       "version_minor": 0
      },
      "text/plain": [
       "  0%|          | 0/2000 [00:00<?, ?it/s]"
      ]
     },
     "metadata": {},
     "output_type": "display_data"
    },
    {
     "name": "stdout",
     "output_type": "stream",
     "text": [
      "8.198053611899554e-05\n"
     ]
    },
    {
     "data": {
      "application/vnd.jupyter.widget-view+json": {
       "model_id": "f66803b8afe9459b8e769755d47a3c75",
       "version_major": 2,
       "version_minor": 0
      },
      "text/plain": [
       "  0%|          | 0/300 [00:00<?, ?it/s]"
      ]
     },
     "metadata": {},
     "output_type": "display_data"
    },
    {
     "data": {
      "application/vnd.jupyter.widget-view+json": {
       "model_id": "853fa86d8d2e459bb3dcff26dca95fea",
       "version_major": 2,
       "version_minor": 0
      },
      "text/plain": [
       "  0%|          | 0/2000 [00:00<?, ?it/s]"
      ]
     },
     "metadata": {},
     "output_type": "display_data"
    },
    {
     "name": "stdout",
     "output_type": "stream",
     "text": [
      "8.121155081699684e-05\n"
     ]
    },
    {
     "data": {
      "application/vnd.jupyter.widget-view+json": {
       "model_id": "cc2ad50f37754975a5feeb5ce930aaca",
       "version_major": 2,
       "version_minor": 0
      },
      "text/plain": [
       "  0%|          | 0/300 [00:00<?, ?it/s]"
      ]
     },
     "metadata": {},
     "output_type": "display_data"
    },
    {
     "data": {
      "application/vnd.jupyter.widget-view+json": {
       "model_id": "b206f6e47ea040e792c21485417fb49b",
       "version_major": 2,
       "version_minor": 0
      },
      "text/plain": [
       "  0%|          | 0/2000 [00:00<?, ?it/s]"
      ]
     },
     "metadata": {},
     "output_type": "display_data"
    },
    {
     "name": "stdout",
     "output_type": "stream",
     "text": [
      "2.837921951332547e-05\n"
     ]
    },
    {
     "data": {
      "application/vnd.jupyter.widget-view+json": {
       "model_id": "1f1c396f7cd946df81427e832b475744",
       "version_major": 2,
       "version_minor": 0
      },
      "text/plain": [
       "  0%|          | 0/300 [00:00<?, ?it/s]"
      ]
     },
     "metadata": {},
     "output_type": "display_data"
    },
    {
     "data": {
      "application/vnd.jupyter.widget-view+json": {
       "model_id": "5ba98f70cb384b73aee6c8efed1752a5",
       "version_major": 2,
       "version_minor": 0
      },
      "text/plain": [
       "  0%|          | 0/2000 [00:00<?, ?it/s]"
      ]
     },
     "metadata": {},
     "output_type": "display_data"
    },
    {
     "name": "stdout",
     "output_type": "stream",
     "text": [
      "2.69892887914782e-05\n"
     ]
    },
    {
     "data": {
      "application/vnd.jupyter.widget-view+json": {
       "model_id": "270815a51e2641b4b573efbbe4e61af0",
       "version_major": 2,
       "version_minor": 0
      },
      "text/plain": [
       "  0%|          | 0/300 [00:00<?, ?it/s]"
      ]
     },
     "metadata": {},
     "output_type": "display_data"
    },
    {
     "data": {
      "application/vnd.jupyter.widget-view+json": {
       "model_id": "d460d5ec49eb4b51b82b21427e612883",
       "version_major": 2,
       "version_minor": 0
      },
      "text/plain": [
       "  0%|          | 0/2000 [00:00<?, ?it/s]"
      ]
     },
     "metadata": {},
     "output_type": "display_data"
    },
    {
     "name": "stdout",
     "output_type": "stream",
     "text": [
      "2.7199635357325964e-05\n"
     ]
    },
    {
     "data": {
      "application/vnd.jupyter.widget-view+json": {
       "model_id": "bdba437370964a168894c9fafddab39a",
       "version_major": 2,
       "version_minor": 0
      },
      "text/plain": [
       "  0%|          | 0/300 [00:00<?, ?it/s]"
      ]
     },
     "metadata": {},
     "output_type": "display_data"
    },
    {
     "data": {
      "application/vnd.jupyter.widget-view+json": {
       "model_id": "326ffb429ad340ddb10f415f6fa88eba",
       "version_major": 2,
       "version_minor": 0
      },
      "text/plain": [
       "  0%|          | 0/2000 [00:00<?, ?it/s]"
      ]
     },
     "metadata": {},
     "output_type": "display_data"
    },
    {
     "name": "stdout",
     "output_type": "stream",
     "text": [
      "2.9870561264824724e-05\n"
     ]
    },
    {
     "data": {
      "application/vnd.jupyter.widget-view+json": {
       "model_id": "6fe66d40966b42c5b3e964feb420ce3a",
       "version_major": 2,
       "version_minor": 0
      },
      "text/plain": [
       "  0%|          | 0/300 [00:00<?, ?it/s]"
      ]
     },
     "metadata": {},
     "output_type": "display_data"
    },
    {
     "data": {
      "application/vnd.jupyter.widget-view+json": {
       "model_id": "5759fbc1c00148f7bc67d2a20351bd43",
       "version_major": 2,
       "version_minor": 0
      },
      "text/plain": [
       "  0%|          | 0/2000 [00:00<?, ?it/s]"
      ]
     },
     "metadata": {},
     "output_type": "display_data"
    },
    {
     "name": "stdout",
     "output_type": "stream",
     "text": [
      "2.9581596179228635e-05\n"
     ]
    },
    {
     "data": {
      "application/vnd.jupyter.widget-view+json": {
       "model_id": "8ff1a30c5e464891aa579fba969710c0",
       "version_major": 2,
       "version_minor": 0
      },
      "text/plain": [
       "  0%|          | 0/300 [00:00<?, ?it/s]"
      ]
     },
     "metadata": {},
     "output_type": "display_data"
    },
    {
     "data": {
      "application/vnd.jupyter.widget-view+json": {
       "model_id": "4d98269129d24c9f9e4725cc02daaff0",
       "version_major": 2,
       "version_minor": 0
      },
      "text/plain": [
       "  0%|          | 0/2000 [00:00<?, ?it/s]"
      ]
     },
     "metadata": {},
     "output_type": "display_data"
    },
    {
     "name": "stdout",
     "output_type": "stream",
     "text": [
      "1.0817986306907662e-05\n"
     ]
    },
    {
     "data": {
      "application/vnd.jupyter.widget-view+json": {
       "model_id": "bde6636f398d4624a2f7e6cec98f3f88",
       "version_major": 2,
       "version_minor": 0
      },
      "text/plain": [
       "  0%|          | 0/300 [00:00<?, ?it/s]"
      ]
     },
     "metadata": {},
     "output_type": "display_data"
    },
    {
     "data": {
      "application/vnd.jupyter.widget-view+json": {
       "model_id": "515e0c18ad7a459fb464581df1d5a277",
       "version_major": 2,
       "version_minor": 0
      },
      "text/plain": [
       "  0%|          | 0/2000 [00:00<?, ?it/s]"
      ]
     },
     "metadata": {},
     "output_type": "display_data"
    },
    {
     "name": "stdout",
     "output_type": "stream",
     "text": [
      "9.896520837827756e-06\n"
     ]
    },
    {
     "data": {
      "application/vnd.jupyter.widget-view+json": {
       "model_id": "6899c8603f33488dbf9f8d33ce25cbef",
       "version_major": 2,
       "version_minor": 0
      },
      "text/plain": [
       "  0%|          | 0/300 [00:00<?, ?it/s]"
      ]
     },
     "metadata": {},
     "output_type": "display_data"
    },
    {
     "data": {
      "application/vnd.jupyter.widget-view+json": {
       "model_id": "a5e58b9b4f264b328cd071a19104a4ae",
       "version_major": 2,
       "version_minor": 0
      },
      "text/plain": [
       "  0%|          | 0/2000 [00:00<?, ?it/s]"
      ]
     },
     "metadata": {},
     "output_type": "display_data"
    },
    {
     "name": "stdout",
     "output_type": "stream",
     "text": [
      "9.926215274139734e-06\n"
     ]
    },
    {
     "data": {
      "application/vnd.jupyter.widget-view+json": {
       "model_id": "1a478e4abd334f99a8ccc4f9445fd0b1",
       "version_major": 2,
       "version_minor": 0
      },
      "text/plain": [
       "  0%|          | 0/300 [00:00<?, ?it/s]"
      ]
     },
     "metadata": {},
     "output_type": "display_data"
    },
    {
     "data": {
      "application/vnd.jupyter.widget-view+json": {
       "model_id": "cad8b24e72c64db1bf7089020b9dd0ef",
       "version_major": 2,
       "version_minor": 0
      },
      "text/plain": [
       "  0%|          | 0/2000 [00:00<?, ?it/s]"
      ]
     },
     "metadata": {},
     "output_type": "display_data"
    },
    {
     "name": "stdout",
     "output_type": "stream",
     "text": [
      "1.1645454137781484e-05\n"
     ]
    },
    {
     "data": {
      "application/vnd.jupyter.widget-view+json": {
       "model_id": "85911a94535f43b7a401d7d54409b831",
       "version_major": 2,
       "version_minor": 0
      },
      "text/plain": [
       "  0%|          | 0/300 [00:00<?, ?it/s]"
      ]
     },
     "metadata": {},
     "output_type": "display_data"
    },
    {
     "data": {
      "application/vnd.jupyter.widget-view+json": {
       "model_id": "c2fc2734d71b4af49e9fdc93891be287",
       "version_major": 2,
       "version_minor": 0
      },
      "text/plain": [
       "  0%|          | 0/2000 [00:00<?, ?it/s]"
      ]
     },
     "metadata": {},
     "output_type": "display_data"
    },
    {
     "name": "stdout",
     "output_type": "stream",
     "text": [
      "1.0782785231630763e-05\n"
     ]
    },
    {
     "data": {
      "application/vnd.jupyter.widget-view+json": {
       "model_id": "0e4bb424260c4b639e6858b9be4d6653",
       "version_major": 2,
       "version_minor": 0
      },
      "text/plain": [
       "  0%|          | 0/300 [00:00<?, ?it/s]"
      ]
     },
     "metadata": {},
     "output_type": "display_data"
    },
    {
     "data": {
      "application/vnd.jupyter.widget-view+json": {
       "model_id": "6cc7deb2703641aba0919414dba4c85a",
       "version_major": 2,
       "version_minor": 0
      },
      "text/plain": [
       "  0%|          | 0/2000 [00:00<?, ?it/s]"
      ]
     },
     "metadata": {},
     "output_type": "display_data"
    },
    {
     "name": "stdout",
     "output_type": "stream",
     "text": [
      "3.7820993252401967e-06\n"
     ]
    },
    {
     "data": {
      "application/vnd.jupyter.widget-view+json": {
       "model_id": "6a1b9b92a1f7474ba14696d47d4db374",
       "version_major": 2,
       "version_minor": 0
      },
      "text/plain": [
       "  0%|          | 0/300 [00:00<?, ?it/s]"
      ]
     },
     "metadata": {},
     "output_type": "display_data"
    },
    {
     "data": {
      "application/vnd.jupyter.widget-view+json": {
       "model_id": "7b79dc5b5a954ae3afdc541fccf79cd4",
       "version_major": 2,
       "version_minor": 0
      },
      "text/plain": [
       "  0%|          | 0/2000 [00:00<?, ?it/s]"
      ]
     },
     "metadata": {},
     "output_type": "display_data"
    },
    {
     "name": "stdout",
     "output_type": "stream",
     "text": [
      "3.6491034768299007e-06\n"
     ]
    },
    {
     "data": {
      "application/vnd.jupyter.widget-view+json": {
       "model_id": "9648c62bd2074cd4a1f486c2f3e20817",
       "version_major": 2,
       "version_minor": 0
      },
      "text/plain": [
       "  0%|          | 0/300 [00:00<?, ?it/s]"
      ]
     },
     "metadata": {},
     "output_type": "display_data"
    },
    {
     "data": {
      "application/vnd.jupyter.widget-view+json": {
       "model_id": "d431d3de5dbe443690e8a0af8e2ee4fd",
       "version_major": 2,
       "version_minor": 0
      },
      "text/plain": [
       "  0%|          | 0/2000 [00:00<?, ?it/s]"
      ]
     },
     "metadata": {},
     "output_type": "display_data"
    },
    {
     "name": "stdout",
     "output_type": "stream",
     "text": [
      "3.6732003595394185e-06\n"
     ]
    },
    {
     "data": {
      "application/vnd.jupyter.widget-view+json": {
       "model_id": "07979682046742a3aa6bbc4e9352cbf4",
       "version_major": 2,
       "version_minor": 0
      },
      "text/plain": [
       "  0%|          | 0/300 [00:00<?, ?it/s]"
      ]
     },
     "metadata": {},
     "output_type": "display_data"
    },
    {
     "data": {
      "application/vnd.jupyter.widget-view+json": {
       "model_id": "09081c8117084a4d8c439a7ea97b31ce",
       "version_major": 2,
       "version_minor": 0
      },
      "text/plain": [
       "  0%|          | 0/2000 [00:00<?, ?it/s]"
      ]
     },
     "metadata": {},
     "output_type": "display_data"
    },
    {
     "name": "stdout",
     "output_type": "stream",
     "text": [
      "4.191215573583654e-06\n"
     ]
    },
    {
     "data": {
      "application/vnd.jupyter.widget-view+json": {
       "model_id": "4bd342e53bef44ce9f163ff7867e4b03",
       "version_major": 2,
       "version_minor": 0
      },
      "text/plain": [
       "  0%|          | 0/300 [00:00<?, ?it/s]"
      ]
     },
     "metadata": {},
     "output_type": "display_data"
    },
    {
     "data": {
      "application/vnd.jupyter.widget-view+json": {
       "model_id": "5628e01c73864fcb8c737a00559b4838",
       "version_major": 2,
       "version_minor": 0
      },
      "text/plain": [
       "  0%|          | 0/2000 [00:00<?, ?it/s]"
      ]
     },
     "metadata": {},
     "output_type": "display_data"
    },
    {
     "name": "stdout",
     "output_type": "stream",
     "text": [
      "4.0210532496565594e-06\n"
     ]
    },
    {
     "data": {
      "application/vnd.jupyter.widget-view+json": {
       "model_id": "9f1c8167ab544069b5cff7e266b1a41d",
       "version_major": 2,
       "version_minor": 0
      },
      "text/plain": [
       "  0%|          | 0/300 [00:00<?, ?it/s]"
      ]
     },
     "metadata": {},
     "output_type": "display_data"
    },
    {
     "data": {
      "application/vnd.jupyter.widget-view+json": {
       "model_id": "3e66a8b5146a4286be2c7821269b7b84",
       "version_major": 2,
       "version_minor": 0
      },
      "text/plain": [
       "  0%|          | 0/2000 [00:00<?, ?it/s]"
      ]
     },
     "metadata": {},
     "output_type": "display_data"
    },
    {
     "name": "stdout",
     "output_type": "stream",
     "text": [
      "1.4174944942029916e-06\n"
     ]
    },
    {
     "data": {
      "application/vnd.jupyter.widget-view+json": {
       "model_id": "d95cb9b8a952419d9cb398062150eb2f",
       "version_major": 2,
       "version_minor": 0
      },
      "text/plain": [
       "  0%|          | 0/300 [00:00<?, ?it/s]"
      ]
     },
     "metadata": {},
     "output_type": "display_data"
    },
    {
     "data": {
      "application/vnd.jupyter.widget-view+json": {
       "model_id": "325ad1e20e60472a86122a6efa355c5b",
       "version_major": 2,
       "version_minor": 0
      },
      "text/plain": [
       "  0%|          | 0/2000 [00:00<?, ?it/s]"
      ]
     },
     "metadata": {},
     "output_type": "display_data"
    },
    {
     "name": "stdout",
     "output_type": "stream",
     "text": [
      "1.4013534400720562e-06\n"
     ]
    },
    {
     "data": {
      "application/vnd.jupyter.widget-view+json": {
       "model_id": "79177f55b4ea4dc5bf5b464db9a2fd87",
       "version_major": 2,
       "version_minor": 0
      },
      "text/plain": [
       "  0%|          | 0/300 [00:00<?, ?it/s]"
      ]
     },
     "metadata": {},
     "output_type": "display_data"
    },
    {
     "data": {
      "application/vnd.jupyter.widget-view+json": {
       "model_id": "b72ba5be85a84476a50f13ea61649152",
       "version_major": 2,
       "version_minor": 0
      },
      "text/plain": [
       "  0%|          | 0/2000 [00:00<?, ?it/s]"
      ]
     },
     "metadata": {},
     "output_type": "display_data"
    },
    {
     "name": "stdout",
     "output_type": "stream",
     "text": [
      "1.4294411049852997e-06\n"
     ]
    },
    {
     "data": {
      "application/vnd.jupyter.widget-view+json": {
       "model_id": "56e9221944e34205bac7f57fe65218e2",
       "version_major": 2,
       "version_minor": 0
      },
      "text/plain": [
       "  0%|          | 0/300 [00:00<?, ?it/s]"
      ]
     },
     "metadata": {},
     "output_type": "display_data"
    },
    {
     "data": {
      "application/vnd.jupyter.widget-view+json": {
       "model_id": "51986a8480fb4ce8b8b2b0efde4fc9fe",
       "version_major": 2,
       "version_minor": 0
      },
      "text/plain": [
       "  0%|          | 0/2000 [00:00<?, ?it/s]"
      ]
     },
     "metadata": {},
     "output_type": "display_data"
    },
    {
     "name": "stdout",
     "output_type": "stream",
     "text": [
      "1.7116217045279904e-06\n"
     ]
    },
    {
     "data": {
      "application/vnd.jupyter.widget-view+json": {
       "model_id": "0c07d0b3d9fe48dabd9bae11c383dea5",
       "version_major": 2,
       "version_minor": 0
      },
      "text/plain": [
       "  0%|          | 0/300 [00:00<?, ?it/s]"
      ]
     },
     "metadata": {},
     "output_type": "display_data"
    },
    {
     "data": {
      "application/vnd.jupyter.widget-view+json": {
       "model_id": "2c658eecb9b24330b98578b36a9e1bac",
       "version_major": 2,
       "version_minor": 0
      },
      "text/plain": [
       "  0%|          | 0/2000 [00:00<?, ?it/s]"
      ]
     },
     "metadata": {},
     "output_type": "display_data"
    },
    {
     "name": "stdout",
     "output_type": "stream",
     "text": [
      "1.5645747970254298e-06\n"
     ]
    },
    {
     "data": {
      "application/vnd.jupyter.widget-view+json": {
       "model_id": "de0cdd0b29ae41e0b3d774d0047e2640",
       "version_major": 2,
       "version_minor": 0
      },
      "text/plain": [
       "  0%|          | 0/300 [00:00<?, ?it/s]"
      ]
     },
     "metadata": {},
     "output_type": "display_data"
    },
    {
     "data": {
      "application/vnd.jupyter.widget-view+json": {
       "model_id": "5ce3c66f7f5b4ca0bcad0bc2b8db349c",
       "version_major": 2,
       "version_minor": 0
      },
      "text/plain": [
       "  0%|          | 0/2000 [00:00<?, ?it/s]"
      ]
     },
     "metadata": {},
     "output_type": "display_data"
    },
    {
     "name": "stdout",
     "output_type": "stream",
     "text": [
      "5.77896282555399e-07\n"
     ]
    },
    {
     "data": {
      "application/vnd.jupyter.widget-view+json": {
       "model_id": "621b1ac50548406ea6bb1d769ac03cf2",
       "version_major": 2,
       "version_minor": 0
      },
      "text/plain": [
       "  0%|          | 0/300 [00:00<?, ?it/s]"
      ]
     },
     "metadata": {},
     "output_type": "display_data"
    },
    {
     "data": {
      "application/vnd.jupyter.widget-view+json": {
       "model_id": "e96e4122ac3846039b7f502828f5a937",
       "version_major": 2,
       "version_minor": 0
      },
      "text/plain": [
       "  0%|          | 0/2000 [00:00<?, ?it/s]"
      ]
     },
     "metadata": {},
     "output_type": "display_data"
    },
    {
     "name": "stdout",
     "output_type": "stream",
     "text": [
      "2.6695741191435205e-06\n"
     ]
    },
    {
     "data": {
      "application/vnd.jupyter.widget-view+json": {
       "model_id": "f1a071ed9c8a447c816bacfbddfc49b6",
       "version_major": 2,
       "version_minor": 0
      },
      "text/plain": [
       "  0%|          | 0/300 [00:00<?, ?it/s]"
      ]
     },
     "metadata": {},
     "output_type": "display_data"
    },
    {
     "data": {
      "application/vnd.jupyter.widget-view+json": {
       "model_id": "895fcae644cf4d3d8d93470cb10be37a",
       "version_major": 2,
       "version_minor": 0
      },
      "text/plain": [
       "  0%|          | 0/2000 [00:00<?, ?it/s]"
      ]
     },
     "metadata": {},
     "output_type": "display_data"
    },
    {
     "name": "stdout",
     "output_type": "stream",
     "text": [
      "8.795926337250935e-07\n"
     ]
    },
    {
     "data": {
      "application/vnd.jupyter.widget-view+json": {
       "model_id": "a6df97fa4d934fd98811b7af6095f57b",
       "version_major": 2,
       "version_minor": 0
      },
      "text/plain": [
       "  0%|          | 0/300 [00:00<?, ?it/s]"
      ]
     },
     "metadata": {},
     "output_type": "display_data"
    },
    {
     "data": {
      "application/vnd.jupyter.widget-view+json": {
       "model_id": "b2a90668d68f41948a88af338f524640",
       "version_major": 2,
       "version_minor": 0
      },
      "text/plain": [
       "  0%|          | 0/2000 [00:00<?, ?it/s]"
      ]
     },
     "metadata": {},
     "output_type": "display_data"
    },
    {
     "name": "stdout",
     "output_type": "stream",
     "text": [
      "8.237389822112263e-07\n"
     ]
    },
    {
     "data": {
      "application/vnd.jupyter.widget-view+json": {
       "model_id": "feb3c26ea9924572a16970c07713a400",
       "version_major": 2,
       "version_minor": 0
      },
      "text/plain": [
       "  0%|          | 0/300 [00:00<?, ?it/s]"
      ]
     },
     "metadata": {},
     "output_type": "display_data"
    },
    {
     "data": {
      "application/vnd.jupyter.widget-view+json": {
       "model_id": "7e75a64818e64041836058407842fd82",
       "version_major": 2,
       "version_minor": 0
      },
      "text/plain": [
       "  0%|          | 0/2000 [00:00<?, ?it/s]"
      ]
     },
     "metadata": {},
     "output_type": "display_data"
    },
    {
     "name": "stdout",
     "output_type": "stream",
     "text": [
      "6.66997022848016e-07\n"
     ]
    },
    {
     "data": {
      "application/vnd.jupyter.widget-view+json": {
       "model_id": "0c6941c0aa504e109370bc6d5a67ce10",
       "version_major": 2,
       "version_minor": 0
      },
      "text/plain": [
       "  0%|          | 0/300 [00:00<?, ?it/s]"
      ]
     },
     "metadata": {},
     "output_type": "display_data"
    },
    {
     "data": {
      "application/vnd.jupyter.widget-view+json": {
       "model_id": "9363e2647e7a4ee0a5370856120f8164",
       "version_major": 2,
       "version_minor": 0
      },
      "text/plain": [
       "  0%|          | 0/2000 [00:00<?, ?it/s]"
      ]
     },
     "metadata": {},
     "output_type": "display_data"
    },
    {
     "name": "stdout",
     "output_type": "stream",
     "text": [
      "9.168734560038922e-08\n"
     ]
    },
    {
     "data": {
      "application/vnd.jupyter.widget-view+json": {
       "model_id": "1bac67cf5e3648bfb5e3cf754db47311",
       "version_major": 2,
       "version_minor": 0
      },
      "text/plain": [
       "  0%|          | 0/300 [00:00<?, ?it/s]"
      ]
     },
     "metadata": {},
     "output_type": "display_data"
    },
    {
     "data": {
      "application/vnd.jupyter.widget-view+json": {
       "model_id": "936e6ace5197489889784e48c0f49deb",
       "version_major": 2,
       "version_minor": 0
      },
      "text/plain": [
       "  0%|          | 0/2000 [00:00<?, ?it/s]"
      ]
     },
     "metadata": {},
     "output_type": "display_data"
    },
    {
     "name": "stdout",
     "output_type": "stream",
     "text": [
      "1.3051250828291992e-07\n"
     ]
    },
    {
     "data": {
      "application/vnd.jupyter.widget-view+json": {
       "model_id": "99554a516b3245d1a61854e56ef8c455",
       "version_major": 2,
       "version_minor": 0
      },
      "text/plain": [
       "  0%|          | 0/300 [00:00<?, ?it/s]"
      ]
     },
     "metadata": {},
     "output_type": "display_data"
    },
    {
     "data": {
      "application/vnd.jupyter.widget-view+json": {
       "model_id": "073452129448409b8f0a5966d97d3f56",
       "version_major": 2,
       "version_minor": 0
      },
      "text/plain": [
       "  0%|          | 0/2000 [00:00<?, ?it/s]"
      ]
     },
     "metadata": {},
     "output_type": "display_data"
    },
    {
     "name": "stdout",
     "output_type": "stream",
     "text": [
      "3.7496588346223437e-07\n"
     ]
    },
    {
     "data": {
      "application/vnd.jupyter.widget-view+json": {
       "model_id": "c3a8b80c5de048a39aeb1b80c61ae15d",
       "version_major": 2,
       "version_minor": 0
      },
      "text/plain": [
       "  0%|          | 0/300 [00:00<?, ?it/s]"
      ]
     },
     "metadata": {},
     "output_type": "display_data"
    },
    {
     "data": {
      "application/vnd.jupyter.widget-view+json": {
       "model_id": "e56523aa1af746b1a6d32b6d20784a9a",
       "version_major": 2,
       "version_minor": 0
      },
      "text/plain": [
       "  0%|          | 0/2000 [00:00<?, ?it/s]"
      ]
     },
     "metadata": {},
     "output_type": "display_data"
    },
    {
     "name": "stdout",
     "output_type": "stream",
     "text": [
      "3.176995374350514e-07\n"
     ]
    },
    {
     "data": {
      "application/vnd.jupyter.widget-view+json": {
       "model_id": "df6c2e39e10a47fbaaede4c252b58e4e",
       "version_major": 2,
       "version_minor": 0
      },
      "text/plain": [
       "  0%|          | 0/300 [00:00<?, ?it/s]"
      ]
     },
     "metadata": {},
     "output_type": "display_data"
    },
    {
     "data": {
      "application/vnd.jupyter.widget-view+json": {
       "model_id": "69edc5f4042e43899b87eb602e25d33c",
       "version_major": 2,
       "version_minor": 0
      },
      "text/plain": [
       "  0%|          | 0/2000 [00:00<?, ?it/s]"
      ]
     },
     "metadata": {},
     "output_type": "display_data"
    },
    {
     "name": "stdout",
     "output_type": "stream",
     "text": [
      "1.6909469862051747e-07\n"
     ]
    }
   ],
   "source": [
    "n = 3\n",
    "d = 2**n\n",
    "c1 = 0.8\n",
    "c2 = 0.8\n",
    "\n",
    "num_reps = 5\n",
    "noise_list = np.logspace(-1, -3, 10)\n",
    "noise_list= np.append(noise_list, 0)\n",
    "\n",
    "init_3q_corr = np.zeros((len(noise_list), num_reps))\n",
    "povm_3q_corr = np.zeros((len(noise_list), num_reps))\n",
    "\n",
    "for i, noise in tqdm(enumerate(noise_list)):\n",
    "    \n",
    "    np.random.seed(42)\n",
    "    random.seed(42)\n",
    "    tf.random.set_seed(42)\n",
    "    \n",
    "    for rep in range(num_reps):\n",
    "        spam_target = generate_spam_benchmark(n=n, c1=c1, c2=c2)\n",
    "        inputs_spam, targets_spam = generate_spam_data(spam_target, N_spam=None, noise=noise)\n",
    "\n",
    "        spam_model = SPAM(init = InitialState(d, c=None),\n",
    "                          povm = POVM(d, c=None),\n",
    "                          optimizer = tf.optimizers.Adam(learning_rate=0.01))\n",
    "        \n",
    "        spam_model.pretrain(num_iter = 300,\n",
    "                         verbose = False,\n",
    "                        )\n",
    "\n",
    "        spam_model.train(inputs = inputs_spam,\n",
    "                         targets = targets_spam,\n",
    "                         num_iter = 2000,\n",
    "                         verbose = False,\n",
    "                        )\n",
    "        \n",
    "        init_3q_corr[i, rep] = state_fidelity(spam_model.init.init, spam_target.init.init)\n",
    "        povm_3q_corr[i, rep] = povm_fidelity(spam_model.povm.povm, spam_target.povm.povm)\n",
    "        \n",
    "saver(init_3q_corr, \"init_3q_povm.p\")\n",
    "saver(povm_3q_corr, \"povm_3q_povm.p\")"
   ]
  },
  {
   "cell_type": "markdown",
   "metadata": {},
   "source": [
    "## Four Qubit"
   ]
  },
  {
   "cell_type": "code",
   "execution_count": 37,
   "metadata": {},
   "outputs": [
    {
     "data": {
      "application/vnd.jupyter.widget-view+json": {
       "model_id": "e671648895c04c04b9cd8011e92e703a",
       "version_major": 2,
       "version_minor": 0
      },
      "text/plain": [
       "0it [00:00, ?it/s]"
      ]
     },
     "metadata": {},
     "output_type": "display_data"
    },
    {
     "data": {
      "application/vnd.jupyter.widget-view+json": {
       "model_id": "828f34c1c3da4023a83b0b1aaba98a66",
       "version_major": 2,
       "version_minor": 0
      },
      "text/plain": [
       "  0%|          | 0/300 [00:00<?, ?it/s]"
      ]
     },
     "metadata": {},
     "output_type": "display_data"
    },
    {
     "data": {
      "application/vnd.jupyter.widget-view+json": {
       "model_id": "9053fdeccbaf4eed91f0396d704e6a65",
       "version_major": 2,
       "version_minor": 0
      },
      "text/plain": [
       "  0%|          | 0/2000 [00:00<?, ?it/s]"
      ]
     },
     "metadata": {},
     "output_type": "display_data"
    },
    {
     "name": "stdout",
     "output_type": "stream",
     "text": [
      "0.008087839059420173\n"
     ]
    },
    {
     "data": {
      "application/vnd.jupyter.widget-view+json": {
       "model_id": "4ce3ce25c9f64f1cb2f3adb44bb6f901",
       "version_major": 2,
       "version_minor": 0
      },
      "text/plain": [
       "  0%|          | 0/300 [00:00<?, ?it/s]"
      ]
     },
     "metadata": {},
     "output_type": "display_data"
    },
    {
     "data": {
      "application/vnd.jupyter.widget-view+json": {
       "model_id": "3cebd530f5764c9db8f76cc852d8572d",
       "version_major": 2,
       "version_minor": 0
      },
      "text/plain": [
       "  0%|          | 0/2000 [00:00<?, ?it/s]"
      ]
     },
     "metadata": {},
     "output_type": "display_data"
    },
    {
     "name": "stdout",
     "output_type": "stream",
     "text": [
      "0.008130035155081473\n"
     ]
    },
    {
     "data": {
      "application/vnd.jupyter.widget-view+json": {
       "model_id": "755c993091ef4631b06fde98c549c72b",
       "version_major": 2,
       "version_minor": 0
      },
      "text/plain": [
       "  0%|          | 0/300 [00:00<?, ?it/s]"
      ]
     },
     "metadata": {},
     "output_type": "display_data"
    },
    {
     "data": {
      "application/vnd.jupyter.widget-view+json": {
       "model_id": "9acd936eefc5455da9434994707e5164",
       "version_major": 2,
       "version_minor": 0
      },
      "text/plain": [
       "  0%|          | 0/2000 [00:00<?, ?it/s]"
      ]
     },
     "metadata": {},
     "output_type": "display_data"
    },
    {
     "name": "stdout",
     "output_type": "stream",
     "text": [
      "0.008279362712986356\n"
     ]
    },
    {
     "data": {
      "application/vnd.jupyter.widget-view+json": {
       "model_id": "7e18c28fa22742b99f481116b059ada1",
       "version_major": 2,
       "version_minor": 0
      },
      "text/plain": [
       "  0%|          | 0/300 [00:00<?, ?it/s]"
      ]
     },
     "metadata": {},
     "output_type": "display_data"
    },
    {
     "data": {
      "application/vnd.jupyter.widget-view+json": {
       "model_id": "2e3c018f1e5348f9bf3c7fcfcacf7972",
       "version_major": 2,
       "version_minor": 0
      },
      "text/plain": [
       "  0%|          | 0/2000 [00:00<?, ?it/s]"
      ]
     },
     "metadata": {},
     "output_type": "display_data"
    },
    {
     "name": "stdout",
     "output_type": "stream",
     "text": [
      "0.008000938550879822\n"
     ]
    },
    {
     "data": {
      "application/vnd.jupyter.widget-view+json": {
       "model_id": "ee8c423f0ff74a278bd2f6a1735a28c1",
       "version_major": 2,
       "version_minor": 0
      },
      "text/plain": [
       "  0%|          | 0/300 [00:00<?, ?it/s]"
      ]
     },
     "metadata": {},
     "output_type": "display_data"
    },
    {
     "data": {
      "application/vnd.jupyter.widget-view+json": {
       "model_id": "d7c9b80171ec43be9a47d13ff447b296",
       "version_major": 2,
       "version_minor": 0
      },
      "text/plain": [
       "  0%|          | 0/2000 [00:00<?, ?it/s]"
      ]
     },
     "metadata": {},
     "output_type": "display_data"
    },
    {
     "name": "stdout",
     "output_type": "stream",
     "text": [
      "0.00788990614289912\n"
     ]
    },
    {
     "data": {
      "application/vnd.jupyter.widget-view+json": {
       "model_id": "e7df770d65924bbe95ad305e645913d9",
       "version_major": 2,
       "version_minor": 0
      },
      "text/plain": [
       "  0%|          | 0/300 [00:00<?, ?it/s]"
      ]
     },
     "metadata": {},
     "output_type": "display_data"
    },
    {
     "data": {
      "application/vnd.jupyter.widget-view+json": {
       "model_id": "dc9db0d69d674122bc28f8801c6814cc",
       "version_major": 2,
       "version_minor": 0
      },
      "text/plain": [
       "  0%|          | 0/2000 [00:00<?, ?it/s]"
      ]
     },
     "metadata": {},
     "output_type": "display_data"
    },
    {
     "name": "stdout",
     "output_type": "stream",
     "text": [
      "0.002898391747610071\n"
     ]
    },
    {
     "data": {
      "application/vnd.jupyter.widget-view+json": {
       "model_id": "7b6ed67659574e4db4c297ae688c48b9",
       "version_major": 2,
       "version_minor": 0
      },
      "text/plain": [
       "  0%|          | 0/300 [00:00<?, ?it/s]"
      ]
     },
     "metadata": {},
     "output_type": "display_data"
    },
    {
     "data": {
      "application/vnd.jupyter.widget-view+json": {
       "model_id": "52e88c993e084b9a89a4dd0d1fe38453",
       "version_major": 2,
       "version_minor": 0
      },
      "text/plain": [
       "  0%|          | 0/2000 [00:00<?, ?it/s]"
      ]
     },
     "metadata": {},
     "output_type": "display_data"
    },
    {
     "name": "stdout",
     "output_type": "stream",
     "text": [
      "0.002896259201744105\n"
     ]
    },
    {
     "data": {
      "application/vnd.jupyter.widget-view+json": {
       "model_id": "44817b4cef534d4284ae94358fe86e81",
       "version_major": 2,
       "version_minor": 0
      },
      "text/plain": [
       "  0%|          | 0/300 [00:00<?, ?it/s]"
      ]
     },
     "metadata": {},
     "output_type": "display_data"
    },
    {
     "data": {
      "application/vnd.jupyter.widget-view+json": {
       "model_id": "316305ac226c4e09911f314778384ec0",
       "version_major": 2,
       "version_minor": 0
      },
      "text/plain": [
       "  0%|          | 0/2000 [00:00<?, ?it/s]"
      ]
     },
     "metadata": {},
     "output_type": "display_data"
    },
    {
     "name": "stdout",
     "output_type": "stream",
     "text": [
      "0.0029662359248940587\n"
     ]
    },
    {
     "data": {
      "application/vnd.jupyter.widget-view+json": {
       "model_id": "a212be521aa44fa3841c48711ad75376",
       "version_major": 2,
       "version_minor": 0
      },
      "text/plain": [
       "  0%|          | 0/300 [00:00<?, ?it/s]"
      ]
     },
     "metadata": {},
     "output_type": "display_data"
    },
    {
     "data": {
      "application/vnd.jupyter.widget-view+json": {
       "model_id": "1149d4bf7f734032b8f6af206bebc50b",
       "version_major": 2,
       "version_minor": 0
      },
      "text/plain": [
       "  0%|          | 0/2000 [00:00<?, ?it/s]"
      ]
     },
     "metadata": {},
     "output_type": "display_data"
    },
    {
     "name": "stdout",
     "output_type": "stream",
     "text": [
      "0.0028606710707856304\n"
     ]
    },
    {
     "data": {
      "application/vnd.jupyter.widget-view+json": {
       "model_id": "de7015f8e4864987b85be4b14f6c8e92",
       "version_major": 2,
       "version_minor": 0
      },
      "text/plain": [
       "  0%|          | 0/300 [00:00<?, ?it/s]"
      ]
     },
     "metadata": {},
     "output_type": "display_data"
    },
    {
     "data": {
      "application/vnd.jupyter.widget-view+json": {
       "model_id": "93104e22fb104702a2da97714251de63",
       "version_major": 2,
       "version_minor": 0
      },
      "text/plain": [
       "  0%|          | 0/2000 [00:00<?, ?it/s]"
      ]
     },
     "metadata": {},
     "output_type": "display_data"
    },
    {
     "name": "stdout",
     "output_type": "stream",
     "text": [
      "0.002824354412742409\n"
     ]
    },
    {
     "data": {
      "application/vnd.jupyter.widget-view+json": {
       "model_id": "5008c20f0cda451db1c230e45f0225f2",
       "version_major": 2,
       "version_minor": 0
      },
      "text/plain": [
       "  0%|          | 0/300 [00:00<?, ?it/s]"
      ]
     },
     "metadata": {},
     "output_type": "display_data"
    },
    {
     "data": {
      "application/vnd.jupyter.widget-view+json": {
       "model_id": "7e20eddc11cb45b088109accf905395e",
       "version_major": 2,
       "version_minor": 0
      },
      "text/plain": [
       "  0%|          | 0/2000 [00:00<?, ?it/s]"
      ]
     },
     "metadata": {},
     "output_type": "display_data"
    },
    {
     "name": "stdout",
     "output_type": "stream",
     "text": [
      "0.0010860214746682942\n"
     ]
    },
    {
     "data": {
      "application/vnd.jupyter.widget-view+json": {
       "model_id": "b8ddf831ad494ec4903b09a08261a9a3",
       "version_major": 2,
       "version_minor": 0
      },
      "text/plain": [
       "  0%|          | 0/300 [00:00<?, ?it/s]"
      ]
     },
     "metadata": {},
     "output_type": "display_data"
    },
    {
     "data": {
      "application/vnd.jupyter.widget-view+json": {
       "model_id": "8945e1a32bf9449ea82bcbc7cb762c0f",
       "version_major": 2,
       "version_minor": 0
      },
      "text/plain": [
       "  0%|          | 0/2000 [00:00<?, ?it/s]"
      ]
     },
     "metadata": {},
     "output_type": "display_data"
    },
    {
     "name": "stdout",
     "output_type": "stream",
     "text": [
      "0.0010835609042125164\n"
     ]
    },
    {
     "data": {
      "application/vnd.jupyter.widget-view+json": {
       "model_id": "e1dab13e2d6643268855e22dcee7334f",
       "version_major": 2,
       "version_minor": 0
      },
      "text/plain": [
       "  0%|          | 0/300 [00:00<?, ?it/s]"
      ]
     },
     "metadata": {},
     "output_type": "display_data"
    },
    {
     "data": {
      "application/vnd.jupyter.widget-view+json": {
       "model_id": "141de83f001a41e3997a1e6823bf3db1",
       "version_major": 2,
       "version_minor": 0
      },
      "text/plain": [
       "  0%|          | 0/2000 [00:00<?, ?it/s]"
      ]
     },
     "metadata": {},
     "output_type": "display_data"
    },
    {
     "name": "stdout",
     "output_type": "stream",
     "text": [
      "0.0011052801844755882\n"
     ]
    },
    {
     "data": {
      "application/vnd.jupyter.widget-view+json": {
       "model_id": "0de4672d511241f58c7c7b5be7f4d599",
       "version_major": 2,
       "version_minor": 0
      },
      "text/plain": [
       "  0%|          | 0/300 [00:00<?, ?it/s]"
      ]
     },
     "metadata": {},
     "output_type": "display_data"
    },
    {
     "data": {
      "application/vnd.jupyter.widget-view+json": {
       "model_id": "211ea74e978b4053aeee2cbccb9036f2",
       "version_major": 2,
       "version_minor": 0
      },
      "text/plain": [
       "  0%|          | 0/2000 [00:00<?, ?it/s]"
      ]
     },
     "metadata": {},
     "output_type": "display_data"
    },
    {
     "name": "stdout",
     "output_type": "stream",
     "text": [
      "0.0010593381078581386\n"
     ]
    },
    {
     "data": {
      "application/vnd.jupyter.widget-view+json": {
       "model_id": "146641b4d4f64434a717ef72000071a7",
       "version_major": 2,
       "version_minor": 0
      },
      "text/plain": [
       "  0%|          | 0/300 [00:00<?, ?it/s]"
      ]
     },
     "metadata": {},
     "output_type": "display_data"
    },
    {
     "data": {
      "application/vnd.jupyter.widget-view+json": {
       "model_id": "f10b38dbbf434a28b77b02a888f4d516",
       "version_major": 2,
       "version_minor": 0
      },
      "text/plain": [
       "  0%|          | 0/2000 [00:00<?, ?it/s]"
      ]
     },
     "metadata": {},
     "output_type": "display_data"
    },
    {
     "name": "stdout",
     "output_type": "stream",
     "text": [
      "0.0010533862524705916\n"
     ]
    },
    {
     "data": {
      "application/vnd.jupyter.widget-view+json": {
       "model_id": "dd1bfd78552b4250a9f15399baea860e",
       "version_major": 2,
       "version_minor": 0
      },
      "text/plain": [
       "  0%|          | 0/300 [00:00<?, ?it/s]"
      ]
     },
     "metadata": {},
     "output_type": "display_data"
    },
    {
     "data": {
      "application/vnd.jupyter.widget-view+json": {
       "model_id": "7d83621ee82d4717a87f5cb55ac3a1dd",
       "version_major": 2,
       "version_minor": 0
      },
      "text/plain": [
       "  0%|          | 0/2000 [00:00<?, ?it/s]"
      ]
     },
     "metadata": {},
     "output_type": "display_data"
    },
    {
     "name": "stdout",
     "output_type": "stream",
     "text": [
      "0.00044130505821019097\n"
     ]
    },
    {
     "data": {
      "application/vnd.jupyter.widget-view+json": {
       "model_id": "e2745636ef3b46208117392b123a3768",
       "version_major": 2,
       "version_minor": 0
      },
      "text/plain": [
       "  0%|          | 0/300 [00:00<?, ?it/s]"
      ]
     },
     "metadata": {},
     "output_type": "display_data"
    },
    {
     "data": {
      "application/vnd.jupyter.widget-view+json": {
       "model_id": "d3fb64183f7b46179b1e09b29d009133",
       "version_major": 2,
       "version_minor": 0
      },
      "text/plain": [
       "  0%|          | 0/2000 [00:00<?, ?it/s]"
      ]
     },
     "metadata": {},
     "output_type": "display_data"
    },
    {
     "name": "stdout",
     "output_type": "stream",
     "text": [
      "0.00043425072861669103\n"
     ]
    },
    {
     "data": {
      "application/vnd.jupyter.widget-view+json": {
       "model_id": "f407d88049ff4b908a24bedd12f9fbb4",
       "version_major": 2,
       "version_minor": 0
      },
      "text/plain": [
       "  0%|          | 0/300 [00:00<?, ?it/s]"
      ]
     },
     "metadata": {},
     "output_type": "display_data"
    },
    {
     "data": {
      "application/vnd.jupyter.widget-view+json": {
       "model_id": "a1f6467bab7d4d52877c4683a0456b8e",
       "version_major": 2,
       "version_minor": 0
      },
      "text/plain": [
       "  0%|          | 0/2000 [00:00<?, ?it/s]"
      ]
     },
     "metadata": {},
     "output_type": "display_data"
    },
    {
     "name": "stdout",
     "output_type": "stream",
     "text": [
      "0.0004428814260336902\n"
     ]
    },
    {
     "data": {
      "application/vnd.jupyter.widget-view+json": {
       "model_id": "db36747e10174015b08ef0cac9764b43",
       "version_major": 2,
       "version_minor": 0
      },
      "text/plain": [
       "  0%|          | 0/300 [00:00<?, ?it/s]"
      ]
     },
     "metadata": {},
     "output_type": "display_data"
    },
    {
     "data": {
      "application/vnd.jupyter.widget-view+json": {
       "model_id": "c6f76146b40748eea86701c8e3cbd4c8",
       "version_major": 2,
       "version_minor": 0
      },
      "text/plain": [
       "  0%|          | 0/2000 [00:00<?, ?it/s]"
      ]
     },
     "metadata": {},
     "output_type": "display_data"
    },
    {
     "name": "stdout",
     "output_type": "stream",
     "text": [
      "0.0004216757195723106\n"
     ]
    },
    {
     "data": {
      "application/vnd.jupyter.widget-view+json": {
       "model_id": "c74ada8873964d44ac00b76e098289d0",
       "version_major": 2,
       "version_minor": 0
      },
      "text/plain": [
       "  0%|          | 0/300 [00:00<?, ?it/s]"
      ]
     },
     "metadata": {},
     "output_type": "display_data"
    },
    {
     "data": {
      "application/vnd.jupyter.widget-view+json": {
       "model_id": "2a84d63794c9477497ed183870655994",
       "version_major": 2,
       "version_minor": 0
      },
      "text/plain": [
       "  0%|          | 0/2000 [00:00<?, ?it/s]"
      ]
     },
     "metadata": {},
     "output_type": "display_data"
    },
    {
     "name": "stdout",
     "output_type": "stream",
     "text": [
      "0.0004199602749665551\n"
     ]
    },
    {
     "data": {
      "application/vnd.jupyter.widget-view+json": {
       "model_id": "ef2c020c1e2a489bb455525a6d58e134",
       "version_major": 2,
       "version_minor": 0
      },
      "text/plain": [
       "  0%|          | 0/300 [00:00<?, ?it/s]"
      ]
     },
     "metadata": {},
     "output_type": "display_data"
    },
    {
     "data": {
      "application/vnd.jupyter.widget-view+json": {
       "model_id": "611aef7b9d2b462581ed98874cadc9d5",
       "version_major": 2,
       "version_minor": 0
      },
      "text/plain": [
       "  0%|          | 0/2000 [00:00<?, ?it/s]"
      ]
     },
     "metadata": {},
     "output_type": "display_data"
    },
    {
     "name": "stdout",
     "output_type": "stream",
     "text": [
      "0.00021016034876626428\n"
     ]
    },
    {
     "data": {
      "application/vnd.jupyter.widget-view+json": {
       "model_id": "f21080608ce341569cc94ba38f25d3ed",
       "version_major": 2,
       "version_minor": 0
      },
      "text/plain": [
       "  0%|          | 0/300 [00:00<?, ?it/s]"
      ]
     },
     "metadata": {},
     "output_type": "display_data"
    },
    {
     "data": {
      "application/vnd.jupyter.widget-view+json": {
       "model_id": "7e2776adc14942a59b4646d82482d753",
       "version_major": 2,
       "version_minor": 0
      },
      "text/plain": [
       "  0%|          | 0/2000 [00:00<?, ?it/s]"
      ]
     },
     "metadata": {},
     "output_type": "display_data"
    },
    {
     "name": "stdout",
     "output_type": "stream",
     "text": [
      "0.00020290922826020995\n"
     ]
    },
    {
     "data": {
      "application/vnd.jupyter.widget-view+json": {
       "model_id": "f9540fcd73cd42b4904287a4f28df0cb",
       "version_major": 2,
       "version_minor": 0
      },
      "text/plain": [
       "  0%|          | 0/300 [00:00<?, ?it/s]"
      ]
     },
     "metadata": {},
     "output_type": "display_data"
    },
    {
     "data": {
      "application/vnd.jupyter.widget-view+json": {
       "model_id": "2a3df694f3534cccb676aac863cae5ef",
       "version_major": 2,
       "version_minor": 0
      },
      "text/plain": [
       "  0%|          | 0/2000 [00:00<?, ?it/s]"
      ]
     },
     "metadata": {},
     "output_type": "display_data"
    },
    {
     "name": "stdout",
     "output_type": "stream",
     "text": [
      "0.00020574567459404812\n"
     ]
    },
    {
     "data": {
      "application/vnd.jupyter.widget-view+json": {
       "model_id": "5e45ed9a50db4398b636e94d3f6eeb48",
       "version_major": 2,
       "version_minor": 0
      },
      "text/plain": [
       "  0%|          | 0/300 [00:00<?, ?it/s]"
      ]
     },
     "metadata": {},
     "output_type": "display_data"
    },
    {
     "data": {
      "application/vnd.jupyter.widget-view+json": {
       "model_id": "ebcfed1224f8465eb9a34a14240d60b3",
       "version_major": 2,
       "version_minor": 0
      },
      "text/plain": [
       "  0%|          | 0/2000 [00:00<?, ?it/s]"
      ]
     },
     "metadata": {},
     "output_type": "display_data"
    },
    {
     "name": "stdout",
     "output_type": "stream",
     "text": [
      "0.00019430470812574114\n"
     ]
    },
    {
     "data": {
      "application/vnd.jupyter.widget-view+json": {
       "model_id": "b29e1ca495444390a3915ebf8e326bcd",
       "version_major": 2,
       "version_minor": 0
      },
      "text/plain": [
       "  0%|          | 0/300 [00:00<?, ?it/s]"
      ]
     },
     "metadata": {},
     "output_type": "display_data"
    },
    {
     "data": {
      "application/vnd.jupyter.widget-view+json": {
       "model_id": "49b04cf416424d32adec4b90d04c8947",
       "version_major": 2,
       "version_minor": 0
      },
      "text/plain": [
       "  0%|          | 0/2000 [00:00<?, ?it/s]"
      ]
     },
     "metadata": {},
     "output_type": "display_data"
    },
    {
     "name": "stdout",
     "output_type": "stream",
     "text": [
      "0.0001947531587863451\n"
     ]
    },
    {
     "data": {
      "application/vnd.jupyter.widget-view+json": {
       "model_id": "cb34bf80b02c487ca54d5e991c7729fb",
       "version_major": 2,
       "version_minor": 0
      },
      "text/plain": [
       "  0%|          | 0/300 [00:00<?, ?it/s]"
      ]
     },
     "metadata": {},
     "output_type": "display_data"
    },
    {
     "data": {
      "application/vnd.jupyter.widget-view+json": {
       "model_id": "6b0e29f465274132b1699f72e3c9ba2f",
       "version_major": 2,
       "version_minor": 0
      },
      "text/plain": [
       "  0%|          | 0/2000 [00:00<?, ?it/s]"
      ]
     },
     "metadata": {},
     "output_type": "display_data"
    },
    {
     "name": "stdout",
     "output_type": "stream",
     "text": [
      "0.00012688958533319303\n"
     ]
    },
    {
     "data": {
      "application/vnd.jupyter.widget-view+json": {
       "model_id": "b8c347a270a64cadbb435c8fa3c272b1",
       "version_major": 2,
       "version_minor": 0
      },
      "text/plain": [
       "  0%|          | 0/300 [00:00<?, ?it/s]"
      ]
     },
     "metadata": {},
     "output_type": "display_data"
    },
    {
     "data": {
      "application/vnd.jupyter.widget-view+json": {
       "model_id": "a9d0fd35d3ea401e834915436ba93966",
       "version_major": 2,
       "version_minor": 0
      },
      "text/plain": [
       "  0%|          | 0/2000 [00:00<?, ?it/s]"
      ]
     },
     "metadata": {},
     "output_type": "display_data"
    },
    {
     "name": "stdout",
     "output_type": "stream",
     "text": [
      "0.00012074189847067349\n"
     ]
    },
    {
     "data": {
      "application/vnd.jupyter.widget-view+json": {
       "model_id": "2c9388a9b46e498bb825fed888b2c157",
       "version_major": 2,
       "version_minor": 0
      },
      "text/plain": [
       "  0%|          | 0/300 [00:00<?, ?it/s]"
      ]
     },
     "metadata": {},
     "output_type": "display_data"
    },
    {
     "data": {
      "application/vnd.jupyter.widget-view+json": {
       "model_id": "c3abb29987354bbd8f4d3473507683ea",
       "version_major": 2,
       "version_minor": 0
      },
      "text/plain": [
       "  0%|          | 0/2000 [00:00<?, ?it/s]"
      ]
     },
     "metadata": {},
     "output_type": "display_data"
    },
    {
     "name": "stdout",
     "output_type": "stream",
     "text": [
      "0.00011974231581481297\n"
     ]
    },
    {
     "data": {
      "application/vnd.jupyter.widget-view+json": {
       "model_id": "a64b462dabe343f5bf66c6eb0361aaab",
       "version_major": 2,
       "version_minor": 0
      },
      "text/plain": [
       "  0%|          | 0/300 [00:00<?, ?it/s]"
      ]
     },
     "metadata": {},
     "output_type": "display_data"
    },
    {
     "data": {
      "application/vnd.jupyter.widget-view+json": {
       "model_id": "5053b340116944b19d7bdd897be6baad",
       "version_major": 2,
       "version_minor": 0
      },
      "text/plain": [
       "  0%|          | 0/2000 [00:00<?, ?it/s]"
      ]
     },
     "metadata": {},
     "output_type": "display_data"
    },
    {
     "name": "stdout",
     "output_type": "stream",
     "text": [
      "0.00011277839703072836\n"
     ]
    },
    {
     "data": {
      "application/vnd.jupyter.widget-view+json": {
       "model_id": "9fe0fc1d190d4c43b3a9de44d94aa782",
       "version_major": 2,
       "version_minor": 0
      },
      "text/plain": [
       "  0%|          | 0/300 [00:00<?, ?it/s]"
      ]
     },
     "metadata": {},
     "output_type": "display_data"
    },
    {
     "data": {
      "application/vnd.jupyter.widget-view+json": {
       "model_id": "8d6050e9cc4340fc827d1b64a0c3d76b",
       "version_major": 2,
       "version_minor": 0
      },
      "text/plain": [
       "  0%|          | 0/2000 [00:00<?, ?it/s]"
      ]
     },
     "metadata": {},
     "output_type": "display_data"
    },
    {
     "name": "stdout",
     "output_type": "stream",
     "text": [
      "0.00011197393691272925\n"
     ]
    },
    {
     "data": {
      "application/vnd.jupyter.widget-view+json": {
       "model_id": "95ca720e8adf41b989e90aeaba7e8926",
       "version_major": 2,
       "version_minor": 0
      },
      "text/plain": [
       "  0%|          | 0/300 [00:00<?, ?it/s]"
      ]
     },
     "metadata": {},
     "output_type": "display_data"
    },
    {
     "data": {
      "application/vnd.jupyter.widget-view+json": {
       "model_id": "81f1d52382c34e2cbca2c1d5394a4cb1",
       "version_major": 2,
       "version_minor": 0
      },
      "text/plain": [
       "  0%|          | 0/2000 [00:00<?, ?it/s]"
      ]
     },
     "metadata": {},
     "output_type": "display_data"
    },
    {
     "name": "stdout",
     "output_type": "stream",
     "text": [
      "9.676494773003902e-05\n"
     ]
    },
    {
     "data": {
      "application/vnd.jupyter.widget-view+json": {
       "model_id": "301cb4b61324489aaa86eba5bcd8df91",
       "version_major": 2,
       "version_minor": 0
      },
      "text/plain": [
       "  0%|          | 0/300 [00:00<?, ?it/s]"
      ]
     },
     "metadata": {},
     "output_type": "display_data"
    },
    {
     "data": {
      "application/vnd.jupyter.widget-view+json": {
       "model_id": "a34b73e2c4dd4aaca53bd7f8f08338c4",
       "version_major": 2,
       "version_minor": 0
      },
      "text/plain": [
       "  0%|          | 0/2000 [00:00<?, ?it/s]"
      ]
     },
     "metadata": {},
     "output_type": "display_data"
    },
    {
     "name": "stdout",
     "output_type": "stream",
     "text": [
      "9.564900666997178e-05\n"
     ]
    },
    {
     "data": {
      "application/vnd.jupyter.widget-view+json": {
       "model_id": "61222046eb3844bf82b28b6e79d7fccf",
       "version_major": 2,
       "version_minor": 0
      },
      "text/plain": [
       "  0%|          | 0/300 [00:00<?, ?it/s]"
      ]
     },
     "metadata": {},
     "output_type": "display_data"
    },
    {
     "data": {
      "application/vnd.jupyter.widget-view+json": {
       "model_id": "9651a4d8037947f2acf14aef24dfbc44",
       "version_major": 2,
       "version_minor": 0
      },
      "text/plain": [
       "  0%|          | 0/2000 [00:00<?, ?it/s]"
      ]
     },
     "metadata": {},
     "output_type": "display_data"
    },
    {
     "name": "stdout",
     "output_type": "stream",
     "text": [
      "8.88742488362e-05\n"
     ]
    },
    {
     "data": {
      "application/vnd.jupyter.widget-view+json": {
       "model_id": "c3e699f58ee04f68a21c5ca86ae08104",
       "version_major": 2,
       "version_minor": 0
      },
      "text/plain": [
       "  0%|          | 0/300 [00:00<?, ?it/s]"
      ]
     },
     "metadata": {},
     "output_type": "display_data"
    },
    {
     "data": {
      "application/vnd.jupyter.widget-view+json": {
       "model_id": "71b50624272448b5a6e0cb9307847507",
       "version_major": 2,
       "version_minor": 0
      },
      "text/plain": [
       "  0%|          | 0/2000 [00:00<?, ?it/s]"
      ]
     },
     "metadata": {},
     "output_type": "display_data"
    },
    {
     "name": "stdout",
     "output_type": "stream",
     "text": [
      "8.396963886999408e-05\n"
     ]
    },
    {
     "data": {
      "application/vnd.jupyter.widget-view+json": {
       "model_id": "32a564c6b07d4371be35d293a62d02c6",
       "version_major": 2,
       "version_minor": 0
      },
      "text/plain": [
       "  0%|          | 0/300 [00:00<?, ?it/s]"
      ]
     },
     "metadata": {},
     "output_type": "display_data"
    },
    {
     "data": {
      "application/vnd.jupyter.widget-view+json": {
       "model_id": "e80a0b7a395247b8bec52d4c0c52ff41",
       "version_major": 2,
       "version_minor": 0
      },
      "text/plain": [
       "  0%|          | 0/2000 [00:00<?, ?it/s]"
      ]
     },
     "metadata": {},
     "output_type": "display_data"
    },
    {
     "name": "stdout",
     "output_type": "stream",
     "text": [
      "8.57145395472854e-05\n"
     ]
    },
    {
     "data": {
      "application/vnd.jupyter.widget-view+json": {
       "model_id": "d15ab2e9573445edbf4f35bd67e85400",
       "version_major": 2,
       "version_minor": 0
      },
      "text/plain": [
       "  0%|          | 0/300 [00:00<?, ?it/s]"
      ]
     },
     "metadata": {},
     "output_type": "display_data"
    },
    {
     "data": {
      "application/vnd.jupyter.widget-view+json": {
       "model_id": "4766533b4d4b4e4a8d156d23b1a42069",
       "version_major": 2,
       "version_minor": 0
      },
      "text/plain": [
       "  0%|          | 0/2000 [00:00<?, ?it/s]"
      ]
     },
     "metadata": {},
     "output_type": "display_data"
    },
    {
     "name": "stdout",
     "output_type": "stream",
     "text": [
      "8.580745169020916e-05\n"
     ]
    },
    {
     "data": {
      "application/vnd.jupyter.widget-view+json": {
       "model_id": "ee4fc76d67174402980115b58a5b8e07",
       "version_major": 2,
       "version_minor": 0
      },
      "text/plain": [
       "  0%|          | 0/300 [00:00<?, ?it/s]"
      ]
     },
     "metadata": {},
     "output_type": "display_data"
    },
    {
     "data": {
      "application/vnd.jupyter.widget-view+json": {
       "model_id": "68f81fd5b5204aa4831487e4f5a97c4c",
       "version_major": 2,
       "version_minor": 0
      },
      "text/plain": [
       "  0%|          | 0/2000 [00:00<?, ?it/s]"
      ]
     },
     "metadata": {},
     "output_type": "display_data"
    },
    {
     "name": "stdout",
     "output_type": "stream",
     "text": [
      "8.111685945557205e-05\n"
     ]
    },
    {
     "data": {
      "application/vnd.jupyter.widget-view+json": {
       "model_id": "c167442760df48f68a3ae9a8be10971b",
       "version_major": 2,
       "version_minor": 0
      },
      "text/plain": [
       "  0%|          | 0/300 [00:00<?, ?it/s]"
      ]
     },
     "metadata": {},
     "output_type": "display_data"
    },
    {
     "data": {
      "application/vnd.jupyter.widget-view+json": {
       "model_id": "0c821abfb46c451cbe36cfd1f643dad2",
       "version_major": 2,
       "version_minor": 0
      },
      "text/plain": [
       "  0%|          | 0/2000 [00:00<?, ?it/s]"
      ]
     },
     "metadata": {},
     "output_type": "display_data"
    },
    {
     "name": "stdout",
     "output_type": "stream",
     "text": [
      "7.769835465346019e-05\n"
     ]
    },
    {
     "data": {
      "application/vnd.jupyter.widget-view+json": {
       "model_id": "e9ac7d3028eb4182ac1fa4377235a132",
       "version_major": 2,
       "version_minor": 0
      },
      "text/plain": [
       "  0%|          | 0/300 [00:00<?, ?it/s]"
      ]
     },
     "metadata": {},
     "output_type": "display_data"
    },
    {
     "data": {
      "application/vnd.jupyter.widget-view+json": {
       "model_id": "803542855f27426a994bb9fcceecceaf",
       "version_major": 2,
       "version_minor": 0
      },
      "text/plain": [
       "  0%|          | 0/2000 [00:00<?, ?it/s]"
      ]
     },
     "metadata": {},
     "output_type": "display_data"
    },
    {
     "name": "stdout",
     "output_type": "stream",
     "text": [
      "7.369405263809347e-05\n"
     ]
    },
    {
     "data": {
      "application/vnd.jupyter.widget-view+json": {
       "model_id": "0fb4d6a42c0545c1b5ff71679e090482",
       "version_major": 2,
       "version_minor": 0
      },
      "text/plain": [
       "  0%|          | 0/300 [00:00<?, ?it/s]"
      ]
     },
     "metadata": {},
     "output_type": "display_data"
    },
    {
     "data": {
      "application/vnd.jupyter.widget-view+json": {
       "model_id": "2b9ebe370e884553a0d16f9a7fc9776f",
       "version_major": 2,
       "version_minor": 0
      },
      "text/plain": [
       "  0%|          | 0/2000 [00:00<?, ?it/s]"
      ]
     },
     "metadata": {},
     "output_type": "display_data"
    },
    {
     "name": "stdout",
     "output_type": "stream",
     "text": [
      "7.355326117153482e-05\n"
     ]
    },
    {
     "data": {
      "application/vnd.jupyter.widget-view+json": {
       "model_id": "84632d8e167d48e1acac399252bc12da",
       "version_major": 2,
       "version_minor": 0
      },
      "text/plain": [
       "  0%|          | 0/300 [00:00<?, ?it/s]"
      ]
     },
     "metadata": {},
     "output_type": "display_data"
    },
    {
     "data": {
      "application/vnd.jupyter.widget-view+json": {
       "model_id": "05ae6a63fcd84f4d8c652fab31ad58a3",
       "version_major": 2,
       "version_minor": 0
      },
      "text/plain": [
       "  0%|          | 0/2000 [00:00<?, ?it/s]"
      ]
     },
     "metadata": {},
     "output_type": "display_data"
    },
    {
     "name": "stdout",
     "output_type": "stream",
     "text": [
      "8.177795763320079e-05\n"
     ]
    },
    {
     "data": {
      "application/vnd.jupyter.widget-view+json": {
       "model_id": "f0ea709028724da3ba7b12a38e96402c",
       "version_major": 2,
       "version_minor": 0
      },
      "text/plain": [
       "  0%|          | 0/300 [00:00<?, ?it/s]"
      ]
     },
     "metadata": {},
     "output_type": "display_data"
    },
    {
     "data": {
      "application/vnd.jupyter.widget-view+json": {
       "model_id": "505c40eb672b4761a596111c8c90bab0",
       "version_major": 2,
       "version_minor": 0
      },
      "text/plain": [
       "  0%|          | 0/2000 [00:00<?, ?it/s]"
      ]
     },
     "metadata": {},
     "output_type": "display_data"
    },
    {
     "name": "stdout",
     "output_type": "stream",
     "text": [
      "7.747883141001185e-05\n"
     ]
    },
    {
     "data": {
      "application/vnd.jupyter.widget-view+json": {
       "model_id": "18f4cb2a18b54532b3d3b691e35b847d",
       "version_major": 2,
       "version_minor": 0
      },
      "text/plain": [
       "  0%|          | 0/300 [00:00<?, ?it/s]"
      ]
     },
     "metadata": {},
     "output_type": "display_data"
    },
    {
     "data": {
      "application/vnd.jupyter.widget-view+json": {
       "model_id": "260f399908584387859adf03d58ceeea",
       "version_major": 2,
       "version_minor": 0
      },
      "text/plain": [
       "  0%|          | 0/2000 [00:00<?, ?it/s]"
      ]
     },
     "metadata": {},
     "output_type": "display_data"
    },
    {
     "name": "stdout",
     "output_type": "stream",
     "text": [
      "7.361846107556099e-05\n"
     ]
    },
    {
     "data": {
      "application/vnd.jupyter.widget-view+json": {
       "model_id": "91cbb94b199f42ccbd58b8571f0114ab",
       "version_major": 2,
       "version_minor": 0
      },
      "text/plain": [
       "  0%|          | 0/300 [00:00<?, ?it/s]"
      ]
     },
     "metadata": {},
     "output_type": "display_data"
    },
    {
     "data": {
      "application/vnd.jupyter.widget-view+json": {
       "model_id": "c4eea5cd39f9463e995389089318dace",
       "version_major": 2,
       "version_minor": 0
      },
      "text/plain": [
       "  0%|          | 0/2000 [00:00<?, ?it/s]"
      ]
     },
     "metadata": {},
     "output_type": "display_data"
    },
    {
     "name": "stdout",
     "output_type": "stream",
     "text": [
      "7.00416169584153e-05\n"
     ]
    },
    {
     "data": {
      "application/vnd.jupyter.widget-view+json": {
       "model_id": "51a2560f3ddd4ddf93775fa9ce472a48",
       "version_major": 2,
       "version_minor": 0
      },
      "text/plain": [
       "  0%|          | 0/300 [00:00<?, ?it/s]"
      ]
     },
     "metadata": {},
     "output_type": "display_data"
    },
    {
     "data": {
      "application/vnd.jupyter.widget-view+json": {
       "model_id": "6543f1c8b43f473abd530a663f768401",
       "version_major": 2,
       "version_minor": 0
      },
      "text/plain": [
       "  0%|          | 0/2000 [00:00<?, ?it/s]"
      ]
     },
     "metadata": {},
     "output_type": "display_data"
    },
    {
     "name": "stdout",
     "output_type": "stream",
     "text": [
      "6.932290250878338e-05\n"
     ]
    },
    {
     "data": {
      "application/vnd.jupyter.widget-view+json": {
       "model_id": "f8afe13ca70644eca3648366dad842e2",
       "version_major": 2,
       "version_minor": 0
      },
      "text/plain": [
       "  0%|          | 0/300 [00:00<?, ?it/s]"
      ]
     },
     "metadata": {},
     "output_type": "display_data"
    },
    {
     "data": {
      "application/vnd.jupyter.widget-view+json": {
       "model_id": "e382e58f2d384c509a6b8a23629132ab",
       "version_major": 2,
       "version_minor": 0
      },
      "text/plain": [
       "  0%|          | 0/2000 [00:00<?, ?it/s]"
      ]
     },
     "metadata": {},
     "output_type": "display_data"
    },
    {
     "name": "stdout",
     "output_type": "stream",
     "text": [
      "8.03186658067544e-05\n"
     ]
    },
    {
     "data": {
      "application/vnd.jupyter.widget-view+json": {
       "model_id": "d0b3358d9f2a4124ba47a4975c76d751",
       "version_major": 2,
       "version_minor": 0
      },
      "text/plain": [
       "  0%|          | 0/300 [00:00<?, ?it/s]"
      ]
     },
     "metadata": {},
     "output_type": "display_data"
    },
    {
     "data": {
      "application/vnd.jupyter.widget-view+json": {
       "model_id": "49ce49c100374f4085d825b508dbec4c",
       "version_major": 2,
       "version_minor": 0
      },
      "text/plain": [
       "  0%|          | 0/2000 [00:00<?, ?it/s]"
      ]
     },
     "metadata": {},
     "output_type": "display_data"
    },
    {
     "name": "stdout",
     "output_type": "stream",
     "text": [
      "7.620499771050646e-05\n"
     ]
    },
    {
     "data": {
      "application/vnd.jupyter.widget-view+json": {
       "model_id": "e71e828e94b544d4840dabcb3da1e2ac",
       "version_major": 2,
       "version_minor": 0
      },
      "text/plain": [
       "  0%|          | 0/300 [00:00<?, ?it/s]"
      ]
     },
     "metadata": {},
     "output_type": "display_data"
    },
    {
     "data": {
      "application/vnd.jupyter.widget-view+json": {
       "model_id": "7a5731488da3496cac3e6d6cf5f59bf3",
       "version_major": 2,
       "version_minor": 0
      },
      "text/plain": [
       "  0%|          | 0/2000 [00:00<?, ?it/s]"
      ]
     },
     "metadata": {},
     "output_type": "display_data"
    },
    {
     "name": "stdout",
     "output_type": "stream",
     "text": [
      "7.212647679523258e-05\n"
     ]
    },
    {
     "data": {
      "application/vnd.jupyter.widget-view+json": {
       "model_id": "3306b92a21cb422f977d5628e384ba7e",
       "version_major": 2,
       "version_minor": 0
      },
      "text/plain": [
       "  0%|          | 0/300 [00:00<?, ?it/s]"
      ]
     },
     "metadata": {},
     "output_type": "display_data"
    },
    {
     "data": {
      "application/vnd.jupyter.widget-view+json": {
       "model_id": "72fd5590cf6a49f598fc56b6c4549773",
       "version_major": 2,
       "version_minor": 0
      },
      "text/plain": [
       "  0%|          | 0/2000 [00:00<?, ?it/s]"
      ]
     },
     "metadata": {},
     "output_type": "display_data"
    },
    {
     "name": "stdout",
     "output_type": "stream",
     "text": [
      "6.864567655738522e-05\n"
     ]
    },
    {
     "data": {
      "application/vnd.jupyter.widget-view+json": {
       "model_id": "0eb9968b9d16412d9cc6b103d32b6042",
       "version_major": 2,
       "version_minor": 0
      },
      "text/plain": [
       "  0%|          | 0/300 [00:00<?, ?it/s]"
      ]
     },
     "metadata": {},
     "output_type": "display_data"
    },
    {
     "data": {
      "application/vnd.jupyter.widget-view+json": {
       "model_id": "8f83e10927e44fe7af901ea2071677df",
       "version_major": 2,
       "version_minor": 0
      },
      "text/plain": [
       "  0%|          | 0/2000 [00:00<?, ?it/s]"
      ]
     },
     "metadata": {},
     "output_type": "display_data"
    },
    {
     "name": "stdout",
     "output_type": "stream",
     "text": [
      "6.81070704042869e-05\n"
     ]
    },
    {
     "data": {
      "application/vnd.jupyter.widget-view+json": {
       "model_id": "7d795a3d0576462fbb9a0e13f9b25611",
       "version_major": 2,
       "version_minor": 0
      },
      "text/plain": [
       "  0%|          | 0/300 [00:00<?, ?it/s]"
      ]
     },
     "metadata": {},
     "output_type": "display_data"
    },
    {
     "data": {
      "application/vnd.jupyter.widget-view+json": {
       "model_id": "9c7c0a3c58824d1ea2e3941925eea4b2",
       "version_major": 2,
       "version_minor": 0
      },
      "text/plain": [
       "  0%|          | 0/2000 [00:00<?, ?it/s]"
      ]
     },
     "metadata": {},
     "output_type": "display_data"
    },
    {
     "name": "stdout",
     "output_type": "stream",
     "text": [
      "7.936653758671199e-05\n"
     ]
    },
    {
     "data": {
      "application/vnd.jupyter.widget-view+json": {
       "model_id": "c253e5062d0b44e997a88f0a8a0065f0",
       "version_major": 2,
       "version_minor": 0
      },
      "text/plain": [
       "  0%|          | 0/300 [00:00<?, ?it/s]"
      ]
     },
     "metadata": {},
     "output_type": "display_data"
    },
    {
     "data": {
      "application/vnd.jupyter.widget-view+json": {
       "model_id": "7e8f8d9efc8f416b9ccfcb1dae00bae0",
       "version_major": 2,
       "version_minor": 0
      },
      "text/plain": [
       "  0%|          | 0/2000 [00:00<?, ?it/s]"
      ]
     },
     "metadata": {},
     "output_type": "display_data"
    },
    {
     "name": "stdout",
     "output_type": "stream",
     "text": [
      "7.566438756641603e-05\n"
     ]
    },
    {
     "data": {
      "application/vnd.jupyter.widget-view+json": {
       "model_id": "fab96849a0724a0d8a0146e5719b66c4",
       "version_major": 2,
       "version_minor": 0
      },
      "text/plain": [
       "  0%|          | 0/300 [00:00<?, ?it/s]"
      ]
     },
     "metadata": {},
     "output_type": "display_data"
    },
    {
     "data": {
      "application/vnd.jupyter.widget-view+json": {
       "model_id": "767eb22456864bf795f868751471593f",
       "version_major": 2,
       "version_minor": 0
      },
      "text/plain": [
       "  0%|          | 0/2000 [00:00<?, ?it/s]"
      ]
     },
     "metadata": {},
     "output_type": "display_data"
    },
    {
     "name": "stdout",
     "output_type": "stream",
     "text": [
      "7.123026577204532e-05\n"
     ]
    },
    {
     "data": {
      "application/vnd.jupyter.widget-view+json": {
       "model_id": "8b393c88ecb4445e9ca5adff79da52cf",
       "version_major": 2,
       "version_minor": 0
      },
      "text/plain": [
       "  0%|          | 0/300 [00:00<?, ?it/s]"
      ]
     },
     "metadata": {},
     "output_type": "display_data"
    },
    {
     "data": {
      "application/vnd.jupyter.widget-view+json": {
       "model_id": "3a79eee6402647b1861e92ccb39da730",
       "version_major": 2,
       "version_minor": 0
      },
      "text/plain": [
       "  0%|          | 0/2000 [00:00<?, ?it/s]"
      ]
     },
     "metadata": {},
     "output_type": "display_data"
    },
    {
     "name": "stdout",
     "output_type": "stream",
     "text": [
      "6.80837646234628e-05\n"
     ]
    },
    {
     "data": {
      "application/vnd.jupyter.widget-view+json": {
       "model_id": "22ad086748f74b6fb0d98a50834811b1",
       "version_major": 2,
       "version_minor": 0
      },
      "text/plain": [
       "  0%|          | 0/300 [00:00<?, ?it/s]"
      ]
     },
     "metadata": {},
     "output_type": "display_data"
    },
    {
     "data": {
      "application/vnd.jupyter.widget-view+json": {
       "model_id": "db620881526845f6a6191c4a9fe43515",
       "version_major": 2,
       "version_minor": 0
      },
      "text/plain": [
       "  0%|          | 0/2000 [00:00<?, ?it/s]"
      ]
     },
     "metadata": {},
     "output_type": "display_data"
    },
    {
     "name": "stdout",
     "output_type": "stream",
     "text": [
      "6.74779800750248e-05\n"
     ]
    }
   ],
   "source": [
    "n = 4\n",
    "d = 2**n\n",
    "c1 = 0.8\n",
    "c2 = 0.8\n",
    "\n",
    "num_reps = 5\n",
    "noise_list = np.logspace(-1, -3, 10)\n",
    "noise_list = np.append(noise_list, 0)\n",
    "\n",
    "init_4q_corr = np.zeros((len(noise_list), num_reps))\n",
    "povm_4q_corr = np.zeros((len(noise_list), num_reps))\n",
    "\n",
    "for i, noise in tqdm(enumerate(noise_list)):\n",
    "    \n",
    "    np.random.seed(42)\n",
    "    random.seed(42)\n",
    "    tf.random.set_seed(42)\n",
    "    \n",
    "    for rep in range(num_reps):\n",
    "        spam_target = generate_spam_benchmark(n=n, c1=c1, c2=c2)\n",
    "        inputs_spam, targets_spam = generate_spam_data(spam_target, N_spam=None, noise=noise)\n",
    "\n",
    "        spam_model = SPAM(init = InitialState(d, c=None),\n",
    "                          povm = CorruptionMatrix(d, c=None),\n",
    "                          optimizer = tf.optimizers.Adam(learning_rate=0.01))\n",
    "        \n",
    "        spam_model.pretrain(num_iter = 300,\n",
    "                         verbose = False,\n",
    "                        )\n",
    "\n",
    "        spam_model.train(inputs = inputs_spam,\n",
    "                         targets = targets_spam,\n",
    "                         num_iter = 2000,\n",
    "                         verbose = False,\n",
    "                        )\n",
    "        \n",
    "        init_4q_corr[i, rep] = state_fidelity(spam_model.init.init, spam_target.init.init)\n",
    "        povm_4q_corr[i, rep] = povm_fidelity(spam_model.povm.povm, spam_target.povm.povm)\n",
    "        \n",
    "saver(init_4q_corr, \"init_4q_corr.p\")\n",
    "saver(povm_4q_corr, \"povm_4q_corr.p\")"
   ]
  },
  {
   "cell_type": "code",
   "execution_count": 38,
   "metadata": {},
   "outputs": [
    {
     "data": {
      "application/vnd.jupyter.widget-view+json": {
       "model_id": "50c90465310348fcabf8b0532d4805dc",
       "version_major": 2,
       "version_minor": 0
      },
      "text/plain": [
       "0it [00:00, ?it/s]"
      ]
     },
     "metadata": {},
     "output_type": "display_data"
    },
    {
     "data": {
      "application/vnd.jupyter.widget-view+json": {
       "model_id": "c1b91e4b70ed49e7b322ea6d7c4761e9",
       "version_major": 2,
       "version_minor": 0
      },
      "text/plain": [
       "  0%|          | 0/300 [00:00<?, ?it/s]"
      ]
     },
     "metadata": {},
     "output_type": "display_data"
    },
    {
     "data": {
      "application/vnd.jupyter.widget-view+json": {
       "model_id": "93041003c80644c39f621d171d087a6e",
       "version_major": 2,
       "version_minor": 0
      },
      "text/plain": [
       "  0%|          | 0/2000 [00:00<?, ?it/s]"
      ]
     },
     "metadata": {},
     "output_type": "display_data"
    },
    {
     "name": "stdout",
     "output_type": "stream",
     "text": [
      "0.006986776734394732\n"
     ]
    },
    {
     "data": {
      "application/vnd.jupyter.widget-view+json": {
       "model_id": "9e7666a426fe40cc8e90fa6db5a5687a",
       "version_major": 2,
       "version_minor": 0
      },
      "text/plain": [
       "  0%|          | 0/300 [00:00<?, ?it/s]"
      ]
     },
     "metadata": {},
     "output_type": "display_data"
    },
    {
     "data": {
      "application/vnd.jupyter.widget-view+json": {
       "model_id": "077ad466f9514138b2aeb5135c1e7676",
       "version_major": 2,
       "version_minor": 0
      },
      "text/plain": [
       "  0%|          | 0/2000 [00:00<?, ?it/s]"
      ]
     },
     "metadata": {},
     "output_type": "display_data"
    },
    {
     "name": "stdout",
     "output_type": "stream",
     "text": [
      "0.007056321583235712\n"
     ]
    },
    {
     "data": {
      "application/vnd.jupyter.widget-view+json": {
       "model_id": "f32ef8f1cc1a4f7e901f82d9a26405f2",
       "version_major": 2,
       "version_minor": 0
      },
      "text/plain": [
       "  0%|          | 0/300 [00:00<?, ?it/s]"
      ]
     },
     "metadata": {},
     "output_type": "display_data"
    },
    {
     "data": {
      "application/vnd.jupyter.widget-view+json": {
       "model_id": "bdef909d4a704461b4e40b030a1489b1",
       "version_major": 2,
       "version_minor": 0
      },
      "text/plain": [
       "  0%|          | 0/2000 [00:00<?, ?it/s]"
      ]
     },
     "metadata": {},
     "output_type": "display_data"
    },
    {
     "name": "stdout",
     "output_type": "stream",
     "text": [
      "0.006825098656856107\n"
     ]
    },
    {
     "data": {
      "application/vnd.jupyter.widget-view+json": {
       "model_id": "9a85fb480d654307b7908424d2fe5e1a",
       "version_major": 2,
       "version_minor": 0
      },
      "text/plain": [
       "  0%|          | 0/300 [00:00<?, ?it/s]"
      ]
     },
     "metadata": {},
     "output_type": "display_data"
    },
    {
     "data": {
      "application/vnd.jupyter.widget-view+json": {
       "model_id": "e8f690a39cc248608ba19c16d741344e",
       "version_major": 2,
       "version_minor": 0
      },
      "text/plain": [
       "  0%|          | 0/2000 [00:00<?, ?it/s]"
      ]
     },
     "metadata": {},
     "output_type": "display_data"
    },
    {
     "name": "stdout",
     "output_type": "stream",
     "text": [
      "0.007050566992832033\n"
     ]
    },
    {
     "data": {
      "application/vnd.jupyter.widget-view+json": {
       "model_id": "5f6889573c9645808283be8055c694b2",
       "version_major": 2,
       "version_minor": 0
      },
      "text/plain": [
       "  0%|          | 0/300 [00:00<?, ?it/s]"
      ]
     },
     "metadata": {},
     "output_type": "display_data"
    },
    {
     "data": {
      "application/vnd.jupyter.widget-view+json": {
       "model_id": "f2116b8d01214b6b8a6337968dc7a77a",
       "version_major": 2,
       "version_minor": 0
      },
      "text/plain": [
       "  0%|          | 0/2000 [00:00<?, ?it/s]"
      ]
     },
     "metadata": {},
     "output_type": "display_data"
    },
    {
     "name": "stdout",
     "output_type": "stream",
     "text": [
      "0.006999463143215879\n"
     ]
    },
    {
     "data": {
      "application/vnd.jupyter.widget-view+json": {
       "model_id": "f5c5247ebc14402eb46f96deb44828f9",
       "version_major": 2,
       "version_minor": 0
      },
      "text/plain": [
       "  0%|          | 0/300 [00:00<?, ?it/s]"
      ]
     },
     "metadata": {},
     "output_type": "display_data"
    },
    {
     "data": {
      "application/vnd.jupyter.widget-view+json": {
       "model_id": "5d21e22ad61a4ff9bd2b84eb31490f34",
       "version_major": 2,
       "version_minor": 0
      },
      "text/plain": [
       "  0%|          | 0/2000 [00:00<?, ?it/s]"
      ]
     },
     "metadata": {},
     "output_type": "display_data"
    },
    {
     "name": "stdout",
     "output_type": "stream",
     "text": [
      "0.002395809882982156\n"
     ]
    },
    {
     "data": {
      "application/vnd.jupyter.widget-view+json": {
       "model_id": "79f647d7d03b45ec87d79e829de6dbf9",
       "version_major": 2,
       "version_minor": 0
      },
      "text/plain": [
       "  0%|          | 0/300 [00:00<?, ?it/s]"
      ]
     },
     "metadata": {},
     "output_type": "display_data"
    },
    {
     "data": {
      "application/vnd.jupyter.widget-view+json": {
       "model_id": "c837389fe55b401687a0dd0d7b92b3bf",
       "version_major": 2,
       "version_minor": 0
      },
      "text/plain": [
       "  0%|          | 0/2000 [00:00<?, ?it/s]"
      ]
     },
     "metadata": {},
     "output_type": "display_data"
    },
    {
     "name": "stdout",
     "output_type": "stream",
     "text": [
      "0.00243078402870122\n"
     ]
    },
    {
     "data": {
      "application/vnd.jupyter.widget-view+json": {
       "model_id": "cf53d1a2284d4b61aef527c49cad249b",
       "version_major": 2,
       "version_minor": 0
      },
      "text/plain": [
       "  0%|          | 0/300 [00:00<?, ?it/s]"
      ]
     },
     "metadata": {},
     "output_type": "display_data"
    },
    {
     "data": {
      "application/vnd.jupyter.widget-view+json": {
       "model_id": "e301c399e8724d30b230da501d856742",
       "version_major": 2,
       "version_minor": 0
      },
      "text/plain": [
       "  0%|          | 0/2000 [00:00<?, ?it/s]"
      ]
     },
     "metadata": {},
     "output_type": "display_data"
    },
    {
     "name": "stdout",
     "output_type": "stream",
     "text": [
      "0.00234463977715925\n"
     ]
    },
    {
     "data": {
      "application/vnd.jupyter.widget-view+json": {
       "model_id": "6905d5f2ae3a46398b531b2f1fe93526",
       "version_major": 2,
       "version_minor": 0
      },
      "text/plain": [
       "  0%|          | 0/300 [00:00<?, ?it/s]"
      ]
     },
     "metadata": {},
     "output_type": "display_data"
    },
    {
     "data": {
      "application/vnd.jupyter.widget-view+json": {
       "model_id": "94e10c38779e44ae835a0c6b8a3d9925",
       "version_major": 2,
       "version_minor": 0
      },
      "text/plain": [
       "  0%|          | 0/2000 [00:00<?, ?it/s]"
      ]
     },
     "metadata": {},
     "output_type": "display_data"
    },
    {
     "name": "stdout",
     "output_type": "stream",
     "text": [
      "0.0024296624756120024\n"
     ]
    },
    {
     "data": {
      "application/vnd.jupyter.widget-view+json": {
       "model_id": "bba9471934344dacb263e483dd212a8f",
       "version_major": 2,
       "version_minor": 0
      },
      "text/plain": [
       "  0%|          | 0/300 [00:00<?, ?it/s]"
      ]
     },
     "metadata": {},
     "output_type": "display_data"
    },
    {
     "data": {
      "application/vnd.jupyter.widget-view+json": {
       "model_id": "eb55a80dfb324971a2cf07c92316b0a6",
       "version_major": 2,
       "version_minor": 0
      },
      "text/plain": [
       "  0%|          | 0/2000 [00:00<?, ?it/s]"
      ]
     },
     "metadata": {},
     "output_type": "display_data"
    },
    {
     "name": "stdout",
     "output_type": "stream",
     "text": [
      "0.002400776792867272\n"
     ]
    },
    {
     "data": {
      "application/vnd.jupyter.widget-view+json": {
       "model_id": "09df6c2531064d018eabb9c3e0db36be",
       "version_major": 2,
       "version_minor": 0
      },
      "text/plain": [
       "  0%|          | 0/300 [00:00<?, ?it/s]"
      ]
     },
     "metadata": {},
     "output_type": "display_data"
    },
    {
     "data": {
      "application/vnd.jupyter.widget-view+json": {
       "model_id": "b4304a30ca0743cd9177fbdcb450c8db",
       "version_major": 2,
       "version_minor": 0
      },
      "text/plain": [
       "  0%|          | 0/2000 [00:00<?, ?it/s]"
      ]
     },
     "metadata": {},
     "output_type": "display_data"
    },
    {
     "name": "stdout",
     "output_type": "stream",
     "text": [
      "0.0008369085065833231\n"
     ]
    },
    {
     "data": {
      "application/vnd.jupyter.widget-view+json": {
       "model_id": "52b8f86e897b40488c67493d3bc01019",
       "version_major": 2,
       "version_minor": 0
      },
      "text/plain": [
       "  0%|          | 0/300 [00:00<?, ?it/s]"
      ]
     },
     "metadata": {},
     "output_type": "display_data"
    },
    {
     "data": {
      "application/vnd.jupyter.widget-view+json": {
       "model_id": "7b7b367ffd8c4ec58348d42afe7d6481",
       "version_major": 2,
       "version_minor": 0
      },
      "text/plain": [
       "  0%|          | 0/2000 [00:00<?, ?it/s]"
      ]
     },
     "metadata": {},
     "output_type": "display_data"
    },
    {
     "name": "stdout",
     "output_type": "stream",
     "text": [
      "0.0008525729578035144\n"
     ]
    },
    {
     "data": {
      "application/vnd.jupyter.widget-view+json": {
       "model_id": "2eb7e4f35b9e4227bd29c7c8ad1e8467",
       "version_major": 2,
       "version_minor": 0
      },
      "text/plain": [
       "  0%|          | 0/300 [00:00<?, ?it/s]"
      ]
     },
     "metadata": {},
     "output_type": "display_data"
    },
    {
     "data": {
      "application/vnd.jupyter.widget-view+json": {
       "model_id": "f300fc542c8348d6b9553a4fa0fe52c7",
       "version_major": 2,
       "version_minor": 0
      },
      "text/plain": [
       "  0%|          | 0/2000 [00:00<?, ?it/s]"
      ]
     },
     "metadata": {},
     "output_type": "display_data"
    },
    {
     "name": "stdout",
     "output_type": "stream",
     "text": [
      "0.0008196777996694463\n"
     ]
    },
    {
     "data": {
      "application/vnd.jupyter.widget-view+json": {
       "model_id": "f336dbcaf55e4d68aa0e6a0efab6a431",
       "version_major": 2,
       "version_minor": 0
      },
      "text/plain": [
       "  0%|          | 0/300 [00:00<?, ?it/s]"
      ]
     },
     "metadata": {},
     "output_type": "display_data"
    },
    {
     "data": {
      "application/vnd.jupyter.widget-view+json": {
       "model_id": "8d20a46baecb404392cf4ee0346dd285",
       "version_major": 2,
       "version_minor": 0
      },
      "text/plain": [
       "  0%|          | 0/2000 [00:00<?, ?it/s]"
      ]
     },
     "metadata": {},
     "output_type": "display_data"
    },
    {
     "name": "stdout",
     "output_type": "stream",
     "text": [
      "0.0008514974529967938\n"
     ]
    },
    {
     "data": {
      "application/vnd.jupyter.widget-view+json": {
       "model_id": "d71247ef98e64913ac7d96df9448a2ce",
       "version_major": 2,
       "version_minor": 0
      },
      "text/plain": [
       "  0%|          | 0/300 [00:00<?, ?it/s]"
      ]
     },
     "metadata": {},
     "output_type": "display_data"
    },
    {
     "data": {
      "application/vnd.jupyter.widget-view+json": {
       "model_id": "b623e489bee844b7bd6539bf361e728e",
       "version_major": 2,
       "version_minor": 0
      },
      "text/plain": [
       "  0%|          | 0/2000 [00:00<?, ?it/s]"
      ]
     },
     "metadata": {},
     "output_type": "display_data"
    },
    {
     "name": "stdout",
     "output_type": "stream",
     "text": [
      "0.0008392308531654484\n"
     ]
    },
    {
     "data": {
      "application/vnd.jupyter.widget-view+json": {
       "model_id": "eba050250c0a45fd8a45201744f88aa5",
       "version_major": 2,
       "version_minor": 0
      },
      "text/plain": [
       "  0%|          | 0/300 [00:00<?, ?it/s]"
      ]
     },
     "metadata": {},
     "output_type": "display_data"
    },
    {
     "data": {
      "application/vnd.jupyter.widget-view+json": {
       "model_id": "3b344c5b2549474ea8d59a0fcce44033",
       "version_major": 2,
       "version_minor": 0
      },
      "text/plain": [
       "  0%|          | 0/2000 [00:00<?, ?it/s]"
      ]
     },
     "metadata": {},
     "output_type": "display_data"
    },
    {
     "name": "stdout",
     "output_type": "stream",
     "text": [
      "0.00029641624655868203\n"
     ]
    },
    {
     "data": {
      "application/vnd.jupyter.widget-view+json": {
       "model_id": "ea5fdbfb7df94e8d90297c83669d18ac",
       "version_major": 2,
       "version_minor": 0
      },
      "text/plain": [
       "  0%|          | 0/300 [00:00<?, ?it/s]"
      ]
     },
     "metadata": {},
     "output_type": "display_data"
    },
    {
     "data": {
      "application/vnd.jupyter.widget-view+json": {
       "model_id": "12b49e59d72643bc9a16bcb65f34410b",
       "version_major": 2,
       "version_minor": 0
      },
      "text/plain": [
       "  0%|          | 0/2000 [00:00<?, ?it/s]"
      ]
     },
     "metadata": {},
     "output_type": "display_data"
    },
    {
     "name": "stdout",
     "output_type": "stream",
     "text": [
      "0.0003026166646240248\n"
     ]
    },
    {
     "data": {
      "application/vnd.jupyter.widget-view+json": {
       "model_id": "c0881bf7b1154c2a80dc899195211627",
       "version_major": 2,
       "version_minor": 0
      },
      "text/plain": [
       "  0%|          | 0/300 [00:00<?, ?it/s]"
      ]
     },
     "metadata": {},
     "output_type": "display_data"
    },
    {
     "data": {
      "application/vnd.jupyter.widget-view+json": {
       "model_id": "0a92c36eccc543b5a9351fad29ed3248",
       "version_major": 2,
       "version_minor": 0
      },
      "text/plain": [
       "  0%|          | 0/2000 [00:00<?, ?it/s]"
      ]
     },
     "metadata": {},
     "output_type": "display_data"
    },
    {
     "name": "stdout",
     "output_type": "stream",
     "text": [
      "0.00029026055081532356\n"
     ]
    },
    {
     "data": {
      "application/vnd.jupyter.widget-view+json": {
       "model_id": "0f362a6c27af446bb1f4042c9a060a85",
       "version_major": 2,
       "version_minor": 0
      },
      "text/plain": [
       "  0%|          | 0/300 [00:00<?, ?it/s]"
      ]
     },
     "metadata": {},
     "output_type": "display_data"
    },
    {
     "data": {
      "application/vnd.jupyter.widget-view+json": {
       "model_id": "5244fe9207124a6a914f11599e3130b6",
       "version_major": 2,
       "version_minor": 0
      },
      "text/plain": [
       "  0%|          | 0/2000 [00:00<?, ?it/s]"
      ]
     },
     "metadata": {},
     "output_type": "display_data"
    },
    {
     "name": "stdout",
     "output_type": "stream",
     "text": [
      "0.0003020917970283473\n"
     ]
    },
    {
     "data": {
      "application/vnd.jupyter.widget-view+json": {
       "model_id": "9a207ef3c2b7470e94af4c4c375d46f1",
       "version_major": 2,
       "version_minor": 0
      },
      "text/plain": [
       "  0%|          | 0/300 [00:00<?, ?it/s]"
      ]
     },
     "metadata": {},
     "output_type": "display_data"
    },
    {
     "data": {
      "application/vnd.jupyter.widget-view+json": {
       "model_id": "ff2ae3c5460a444ebbd66d72d63a9591",
       "version_major": 2,
       "version_minor": 0
      },
      "text/plain": [
       "  0%|          | 0/2000 [00:00<?, ?it/s]"
      ]
     },
     "metadata": {},
     "output_type": "display_data"
    },
    {
     "name": "stdout",
     "output_type": "stream",
     "text": [
      "0.00029904828897485837\n"
     ]
    },
    {
     "data": {
      "application/vnd.jupyter.widget-view+json": {
       "model_id": "9b5e59c49c554aa2a5ab94bebc54bf82",
       "version_major": 2,
       "version_minor": 0
      },
      "text/plain": [
       "  0%|          | 0/300 [00:00<?, ?it/s]"
      ]
     },
     "metadata": {},
     "output_type": "display_data"
    },
    {
     "data": {
      "application/vnd.jupyter.widget-view+json": {
       "model_id": "e1f14a8a8d66459e9d6cc2f273e26a3d",
       "version_major": 2,
       "version_minor": 0
      },
      "text/plain": [
       "  0%|          | 0/2000 [00:00<?, ?it/s]"
      ]
     },
     "metadata": {},
     "output_type": "display_data"
    },
    {
     "name": "stdout",
     "output_type": "stream",
     "text": [
      "0.00010579819500890995\n"
     ]
    },
    {
     "data": {
      "application/vnd.jupyter.widget-view+json": {
       "model_id": "d158c5d69cdd4f38aa3239f7ecef8c67",
       "version_major": 2,
       "version_minor": 0
      },
      "text/plain": [
       "  0%|          | 0/300 [00:00<?, ?it/s]"
      ]
     },
     "metadata": {},
     "output_type": "display_data"
    },
    {
     "data": {
      "application/vnd.jupyter.widget-view+json": {
       "model_id": "59002e19fe934523916383f43a8e5f5a",
       "version_major": 2,
       "version_minor": 0
      },
      "text/plain": [
       "  0%|          | 0/2000 [00:00<?, ?it/s]"
      ]
     },
     "metadata": {},
     "output_type": "display_data"
    },
    {
     "name": "stdout",
     "output_type": "stream",
     "text": [
      "0.00010829563738072264\n"
     ]
    },
    {
     "data": {
      "application/vnd.jupyter.widget-view+json": {
       "model_id": "bcc48340c4004f829c90f58bc63a2b84",
       "version_major": 2,
       "version_minor": 0
      },
      "text/plain": [
       "  0%|          | 0/300 [00:00<?, ?it/s]"
      ]
     },
     "metadata": {},
     "output_type": "display_data"
    },
    {
     "data": {
      "application/vnd.jupyter.widget-view+json": {
       "model_id": "3a5b1246f72142c7a01e0e84a11ca790",
       "version_major": 2,
       "version_minor": 0
      },
      "text/plain": [
       "  0%|          | 0/2000 [00:00<?, ?it/s]"
      ]
     },
     "metadata": {},
     "output_type": "display_data"
    },
    {
     "name": "stdout",
     "output_type": "stream",
     "text": [
      "0.00010372778713868059\n"
     ]
    },
    {
     "data": {
      "application/vnd.jupyter.widget-view+json": {
       "model_id": "2ca916f8601c44f5a2d8a2d2497a992f",
       "version_major": 2,
       "version_minor": 0
      },
      "text/plain": [
       "  0%|          | 0/300 [00:00<?, ?it/s]"
      ]
     },
     "metadata": {},
     "output_type": "display_data"
    },
    {
     "data": {
      "application/vnd.jupyter.widget-view+json": {
       "model_id": "f4cdc4fe883d45eeb4789705c3c2fe53",
       "version_major": 2,
       "version_minor": 0
      },
      "text/plain": [
       "  0%|          | 0/2000 [00:00<?, ?it/s]"
      ]
     },
     "metadata": {},
     "output_type": "display_data"
    },
    {
     "name": "stdout",
     "output_type": "stream",
     "text": [
      "0.0001080540789853974\n"
     ]
    },
    {
     "data": {
      "application/vnd.jupyter.widget-view+json": {
       "model_id": "f08af83b71f34f99a75fd47bfe40ec7a",
       "version_major": 2,
       "version_minor": 0
      },
      "text/plain": [
       "  0%|          | 0/300 [00:00<?, ?it/s]"
      ]
     },
     "metadata": {},
     "output_type": "display_data"
    },
    {
     "data": {
      "application/vnd.jupyter.widget-view+json": {
       "model_id": "e6a504b135ea485a9f7cb16e013af6d3",
       "version_major": 2,
       "version_minor": 0
      },
      "text/plain": [
       "  0%|          | 0/2000 [00:00<?, ?it/s]"
      ]
     },
     "metadata": {},
     "output_type": "display_data"
    },
    {
     "name": "stdout",
     "output_type": "stream",
     "text": [
      "0.00010666604436706548\n"
     ]
    },
    {
     "data": {
      "application/vnd.jupyter.widget-view+json": {
       "model_id": "edfc61dc87de46f0b684d3a14b3be946",
       "version_major": 2,
       "version_minor": 0
      },
      "text/plain": [
       "  0%|          | 0/300 [00:00<?, ?it/s]"
      ]
     },
     "metadata": {},
     "output_type": "display_data"
    },
    {
     "data": {
      "application/vnd.jupyter.widget-view+json": {
       "model_id": "69e6e565cf2b4e2fa1c15b340b05eec4",
       "version_major": 2,
       "version_minor": 0
      },
      "text/plain": [
       "  0%|          | 0/2000 [00:00<?, ?it/s]"
      ]
     },
     "metadata": {},
     "output_type": "display_data"
    },
    {
     "name": "stdout",
     "output_type": "stream",
     "text": [
      "3.795000872240344e-05\n"
     ]
    },
    {
     "data": {
      "application/vnd.jupyter.widget-view+json": {
       "model_id": "6f9d8b99f08a4b6cafc0db5c4a84458a",
       "version_major": 2,
       "version_minor": 0
      },
      "text/plain": [
       "  0%|          | 0/300 [00:00<?, ?it/s]"
      ]
     },
     "metadata": {},
     "output_type": "display_data"
    },
    {
     "data": {
      "application/vnd.jupyter.widget-view+json": {
       "model_id": "369a318ef7fa4f628ee9a5d84d196187",
       "version_major": 2,
       "version_minor": 0
      },
      "text/plain": [
       "  0%|          | 0/2000 [00:00<?, ?it/s]"
      ]
     },
     "metadata": {},
     "output_type": "display_data"
    },
    {
     "name": "stdout",
     "output_type": "stream",
     "text": [
      "3.889376169348902e-05\n"
     ]
    },
    {
     "data": {
      "application/vnd.jupyter.widget-view+json": {
       "model_id": "f4849da13ddc482889b3c6451c81f6fa",
       "version_major": 2,
       "version_minor": 0
      },
      "text/plain": [
       "  0%|          | 0/300 [00:00<?, ?it/s]"
      ]
     },
     "metadata": {},
     "output_type": "display_data"
    },
    {
     "data": {
      "application/vnd.jupyter.widget-view+json": {
       "model_id": "b15ce14ae98943ec8f2b6c59336f39b9",
       "version_major": 2,
       "version_minor": 0
      },
      "text/plain": [
       "  0%|          | 0/2000 [00:00<?, ?it/s]"
      ]
     },
     "metadata": {},
     "output_type": "display_data"
    },
    {
     "name": "stdout",
     "output_type": "stream",
     "text": [
      "3.736017458801684e-05\n"
     ]
    },
    {
     "data": {
      "application/vnd.jupyter.widget-view+json": {
       "model_id": "efa7e5d3d16d46ef9fae9bb6a20d80a9",
       "version_major": 2,
       "version_minor": 0
      },
      "text/plain": [
       "  0%|          | 0/300 [00:00<?, ?it/s]"
      ]
     },
     "metadata": {},
     "output_type": "display_data"
    },
    {
     "data": {
      "application/vnd.jupyter.widget-view+json": {
       "model_id": "07bfb29b4da44eb4b8746940c5850ed7",
       "version_major": 2,
       "version_minor": 0
      },
      "text/plain": [
       "  0%|          | 0/2000 [00:00<?, ?it/s]"
      ]
     },
     "metadata": {},
     "output_type": "display_data"
    },
    {
     "name": "stdout",
     "output_type": "stream",
     "text": [
      "3.882518501258883e-05\n"
     ]
    },
    {
     "data": {
      "application/vnd.jupyter.widget-view+json": {
       "model_id": "c1c0a15c3dcd4281a86c35d37fafbecd",
       "version_major": 2,
       "version_minor": 0
      },
      "text/plain": [
       "  0%|          | 0/300 [00:00<?, ?it/s]"
      ]
     },
     "metadata": {},
     "output_type": "display_data"
    },
    {
     "data": {
      "application/vnd.jupyter.widget-view+json": {
       "model_id": "8a83290545e5452db87f348de13b31ab",
       "version_major": 2,
       "version_minor": 0
      },
      "text/plain": [
       "  0%|          | 0/2000 [00:00<?, ?it/s]"
      ]
     },
     "metadata": {},
     "output_type": "display_data"
    },
    {
     "name": "stdout",
     "output_type": "stream",
     "text": [
      "4.132161413673342e-05\n"
     ]
    },
    {
     "data": {
      "application/vnd.jupyter.widget-view+json": {
       "model_id": "4527c09e77e948f6b9d8d6f43aa650ea",
       "version_major": 2,
       "version_minor": 0
      },
      "text/plain": [
       "  0%|          | 0/300 [00:00<?, ?it/s]"
      ]
     },
     "metadata": {},
     "output_type": "display_data"
    },
    {
     "data": {
      "application/vnd.jupyter.widget-view+json": {
       "model_id": "3d319322460640438e43294ac4775831",
       "version_major": 2,
       "version_minor": 0
      },
      "text/plain": [
       "  0%|          | 0/2000 [00:00<?, ?it/s]"
      ]
     },
     "metadata": {},
     "output_type": "display_data"
    },
    {
     "name": "stdout",
     "output_type": "stream",
     "text": [
      "1.367022422144293e-05\n"
     ]
    },
    {
     "data": {
      "application/vnd.jupyter.widget-view+json": {
       "model_id": "cbfa3b337d1e470180f02318d7942dbe",
       "version_major": 2,
       "version_minor": 0
      },
      "text/plain": [
       "  0%|          | 0/300 [00:00<?, ?it/s]"
      ]
     },
     "metadata": {},
     "output_type": "display_data"
    },
    {
     "data": {
      "application/vnd.jupyter.widget-view+json": {
       "model_id": "44bbd350f1c54c39b4ae384b446361bf",
       "version_major": 2,
       "version_minor": 0
      },
      "text/plain": [
       "  0%|          | 0/2000 [00:00<?, ?it/s]"
      ]
     },
     "metadata": {},
     "output_type": "display_data"
    },
    {
     "name": "stdout",
     "output_type": "stream",
     "text": [
      "1.3997083704153362e-05\n"
     ]
    },
    {
     "data": {
      "application/vnd.jupyter.widget-view+json": {
       "model_id": "d37ee0fc3b704635ab472a73c74cde3f",
       "version_major": 2,
       "version_minor": 0
      },
      "text/plain": [
       "  0%|          | 0/300 [00:00<?, ?it/s]"
      ]
     },
     "metadata": {},
     "output_type": "display_data"
    },
    {
     "data": {
      "application/vnd.jupyter.widget-view+json": {
       "model_id": "46f8e36df5c843de915bbfd9a1e95ace",
       "version_major": 2,
       "version_minor": 0
      },
      "text/plain": [
       "  0%|          | 0/2000 [00:00<?, ?it/s]"
      ]
     },
     "metadata": {},
     "output_type": "display_data"
    },
    {
     "name": "stdout",
     "output_type": "stream",
     "text": [
      "1.340167395929404e-05\n"
     ]
    },
    {
     "data": {
      "application/vnd.jupyter.widget-view+json": {
       "model_id": "ae93e60053af443a93993078e3a7b149",
       "version_major": 2,
       "version_minor": 0
      },
      "text/plain": [
       "  0%|          | 0/300 [00:00<?, ?it/s]"
      ]
     },
     "metadata": {},
     "output_type": "display_data"
    },
    {
     "data": {
      "application/vnd.jupyter.widget-view+json": {
       "model_id": "e9db2bc6b98e4cad989c824026a3149d",
       "version_major": 2,
       "version_minor": 0
      },
      "text/plain": [
       "  0%|          | 0/2000 [00:00<?, ?it/s]"
      ]
     },
     "metadata": {},
     "output_type": "display_data"
    },
    {
     "name": "stdout",
     "output_type": "stream",
     "text": [
      "1.4011224672329977e-05\n"
     ]
    },
    {
     "data": {
      "application/vnd.jupyter.widget-view+json": {
       "model_id": "032092290653479b8a525ad5c4b218b4",
       "version_major": 2,
       "version_minor": 0
      },
      "text/plain": [
       "  0%|          | 0/300 [00:00<?, ?it/s]"
      ]
     },
     "metadata": {},
     "output_type": "display_data"
    },
    {
     "data": {
      "application/vnd.jupyter.widget-view+json": {
       "model_id": "d77f858b7e4b4c11991a9d7317c82493",
       "version_major": 2,
       "version_minor": 0
      },
      "text/plain": [
       "  0%|          | 0/2000 [00:00<?, ?it/s]"
      ]
     },
     "metadata": {},
     "output_type": "display_data"
    },
    {
     "name": "stdout",
     "output_type": "stream",
     "text": [
      "1.3763726295148244e-05\n"
     ]
    },
    {
     "data": {
      "application/vnd.jupyter.widget-view+json": {
       "model_id": "dd2883479a5d49a9a07312fcfa0fa12c",
       "version_major": 2,
       "version_minor": 0
      },
      "text/plain": [
       "  0%|          | 0/300 [00:00<?, ?it/s]"
      ]
     },
     "metadata": {},
     "output_type": "display_data"
    },
    {
     "data": {
      "application/vnd.jupyter.widget-view+json": {
       "model_id": "db9ce8b69d814da7a1c0ebe2f8757192",
       "version_major": 2,
       "version_minor": 0
      },
      "text/plain": [
       "  0%|          | 0/2000 [00:00<?, ?it/s]"
      ]
     },
     "metadata": {},
     "output_type": "display_data"
    },
    {
     "name": "stdout",
     "output_type": "stream",
     "text": [
      "4.950937463580683e-06\n"
     ]
    },
    {
     "data": {
      "application/vnd.jupyter.widget-view+json": {
       "model_id": "3ccc1489f8b9484eb48ea26bc3679d2e",
       "version_major": 2,
       "version_minor": 0
      },
      "text/plain": [
       "  0%|          | 0/300 [00:00<?, ?it/s]"
      ]
     },
     "metadata": {},
     "output_type": "display_data"
    },
    {
     "data": {
      "application/vnd.jupyter.widget-view+json": {
       "model_id": "3589aad0d7594820962a1291951ba0df",
       "version_major": 2,
       "version_minor": 0
      },
      "text/plain": [
       "  0%|          | 0/2000 [00:00<?, ?it/s]"
      ]
     },
     "metadata": {},
     "output_type": "display_data"
    },
    {
     "name": "stdout",
     "output_type": "stream",
     "text": [
      "5.058534879104781e-06\n"
     ]
    },
    {
     "data": {
      "application/vnd.jupyter.widget-view+json": {
       "model_id": "24ad443a061645daa1159ef1803672c9",
       "version_major": 2,
       "version_minor": 0
      },
      "text/plain": [
       "  0%|          | 0/300 [00:00<?, ?it/s]"
      ]
     },
     "metadata": {},
     "output_type": "display_data"
    },
    {
     "data": {
      "application/vnd.jupyter.widget-view+json": {
       "model_id": "e4747636b3a4430f8805179934011216",
       "version_major": 2,
       "version_minor": 0
      },
      "text/plain": [
       "  0%|          | 0/2000 [00:00<?, ?it/s]"
      ]
     },
     "metadata": {},
     "output_type": "display_data"
    },
    {
     "name": "stdout",
     "output_type": "stream",
     "text": [
      "4.839400924551395e-06\n"
     ]
    },
    {
     "data": {
      "application/vnd.jupyter.widget-view+json": {
       "model_id": "6e70aa5f6d15458283f88dc3ab3286cc",
       "version_major": 2,
       "version_minor": 0
      },
      "text/plain": [
       "  0%|          | 0/300 [00:00<?, ?it/s]"
      ]
     },
     "metadata": {},
     "output_type": "display_data"
    },
    {
     "data": {
      "application/vnd.jupyter.widget-view+json": {
       "model_id": "6b76ef61be6a4d558bec159b942a1038",
       "version_major": 2,
       "version_minor": 0
      },
      "text/plain": [
       "  0%|          | 0/2000 [00:00<?, ?it/s]"
      ]
     },
     "metadata": {},
     "output_type": "display_data"
    },
    {
     "name": "stdout",
     "output_type": "stream",
     "text": [
      "5.0625183996671856e-06\n"
     ]
    },
    {
     "data": {
      "application/vnd.jupyter.widget-view+json": {
       "model_id": "a2e4910c052d4cc1b04a9d25e915d06e",
       "version_major": 2,
       "version_minor": 0
      },
      "text/plain": [
       "  0%|          | 0/300 [00:00<?, ?it/s]"
      ]
     },
     "metadata": {},
     "output_type": "display_data"
    },
    {
     "data": {
      "application/vnd.jupyter.widget-view+json": {
       "model_id": "a75bbf27145649c28135cb276fb00a4f",
       "version_major": 2,
       "version_minor": 0
      },
      "text/plain": [
       "  0%|          | 0/2000 [00:00<?, ?it/s]"
      ]
     },
     "metadata": {},
     "output_type": "display_data"
    },
    {
     "name": "stdout",
     "output_type": "stream",
     "text": [
      "1.4104316566302292e-05\n"
     ]
    },
    {
     "data": {
      "application/vnd.jupyter.widget-view+json": {
       "model_id": "d42c4b6fbe344f0e87ff8ae351426db3",
       "version_major": 2,
       "version_minor": 0
      },
      "text/plain": [
       "  0%|          | 0/300 [00:00<?, ?it/s]"
      ]
     },
     "metadata": {},
     "output_type": "display_data"
    },
    {
     "data": {
      "application/vnd.jupyter.widget-view+json": {
       "model_id": "c09cbe212c4b40a3b6b2b953ccb8e166",
       "version_major": 2,
       "version_minor": 0
      },
      "text/plain": [
       "  0%|          | 0/2000 [00:00<?, ?it/s]"
      ]
     },
     "metadata": {},
     "output_type": "display_data"
    },
    {
     "name": "stdout",
     "output_type": "stream",
     "text": [
      "1.8139627599188404e-06\n"
     ]
    },
    {
     "data": {
      "application/vnd.jupyter.widget-view+json": {
       "model_id": "1c10421868cf4d2993c2f8994dede796",
       "version_major": 2,
       "version_minor": 0
      },
      "text/plain": [
       "  0%|          | 0/300 [00:00<?, ?it/s]"
      ]
     },
     "metadata": {},
     "output_type": "display_data"
    },
    {
     "data": {
      "application/vnd.jupyter.widget-view+json": {
       "model_id": "3b49006b11594ee6a6d184b526e5913d",
       "version_major": 2,
       "version_minor": 0
      },
      "text/plain": [
       "  0%|          | 0/2000 [00:00<?, ?it/s]"
      ]
     },
     "metadata": {},
     "output_type": "display_data"
    },
    {
     "name": "stdout",
     "output_type": "stream",
     "text": [
      "2.109397482934025e-06\n"
     ]
    },
    {
     "data": {
      "application/vnd.jupyter.widget-view+json": {
       "model_id": "e918b214029c44c8bc548506c188dea7",
       "version_major": 2,
       "version_minor": 0
      },
      "text/plain": [
       "  0%|          | 0/300 [00:00<?, ?it/s]"
      ]
     },
     "metadata": {},
     "output_type": "display_data"
    },
    {
     "data": {
      "application/vnd.jupyter.widget-view+json": {
       "model_id": "c916fd63d04a40eb9738e3f56557bad6",
       "version_major": 2,
       "version_minor": 0
      },
      "text/plain": [
       "  0%|          | 0/2000 [00:00<?, ?it/s]"
      ]
     },
     "metadata": {},
     "output_type": "display_data"
    },
    {
     "name": "stdout",
     "output_type": "stream",
     "text": [
      "1.7838750165048359e-06\n"
     ]
    },
    {
     "data": {
      "application/vnd.jupyter.widget-view+json": {
       "model_id": "88a439efb38f4f83a64de10b871a1b93",
       "version_major": 2,
       "version_minor": 0
      },
      "text/plain": [
       "  0%|          | 0/300 [00:00<?, ?it/s]"
      ]
     },
     "metadata": {},
     "output_type": "display_data"
    },
    {
     "data": {
      "application/vnd.jupyter.widget-view+json": {
       "model_id": "4e8d17d30cfd4a05b769df57d2424563",
       "version_major": 2,
       "version_minor": 0
      },
      "text/plain": [
       "  0%|          | 0/2000 [00:00<?, ?it/s]"
      ]
     },
     "metadata": {},
     "output_type": "display_data"
    },
    {
     "name": "stdout",
     "output_type": "stream",
     "text": [
      "1.8580742010003318e-06\n"
     ]
    },
    {
     "data": {
      "application/vnd.jupyter.widget-view+json": {
       "model_id": "072a1f6df56f4cf28fb7cec6c4431862",
       "version_major": 2,
       "version_minor": 0
      },
      "text/plain": [
       "  0%|          | 0/300 [00:00<?, ?it/s]"
      ]
     },
     "metadata": {},
     "output_type": "display_data"
    },
    {
     "data": {
      "application/vnd.jupyter.widget-view+json": {
       "model_id": "4c5b265ec34e4bbd9b7eac603367db63",
       "version_major": 2,
       "version_minor": 0
      },
      "text/plain": [
       "  0%|          | 0/2000 [00:00<?, ?it/s]"
      ]
     },
     "metadata": {},
     "output_type": "display_data"
    },
    {
     "name": "stdout",
     "output_type": "stream",
     "text": [
      "1.8220605129605212e-06\n"
     ]
    },
    {
     "data": {
      "application/vnd.jupyter.widget-view+json": {
       "model_id": "cdf5d074ca2a4d559657f1a331fdb243",
       "version_major": 2,
       "version_minor": 0
      },
      "text/plain": [
       "  0%|          | 0/300 [00:00<?, ?it/s]"
      ]
     },
     "metadata": {},
     "output_type": "display_data"
    },
    {
     "data": {
      "application/vnd.jupyter.widget-view+json": {
       "model_id": "503fd19e460640f28a060d5865e61b55",
       "version_major": 2,
       "version_minor": 0
      },
      "text/plain": [
       "  0%|          | 0/2000 [00:00<?, ?it/s]"
      ]
     },
     "metadata": {},
     "output_type": "display_data"
    },
    {
     "name": "stdout",
     "output_type": "stream",
     "text": [
      "8.558145617517113e-07\n"
     ]
    },
    {
     "data": {
      "application/vnd.jupyter.widget-view+json": {
       "model_id": "dcffbc064dd2421cad5cbea61b0f42de",
       "version_major": 2,
       "version_minor": 0
      },
      "text/plain": [
       "  0%|          | 0/300 [00:00<?, ?it/s]"
      ]
     },
     "metadata": {},
     "output_type": "display_data"
    },
    {
     "data": {
      "application/vnd.jupyter.widget-view+json": {
       "model_id": "3bf43ab1cca749e19d7104cbd02db753",
       "version_major": 2,
       "version_minor": 0
      },
      "text/plain": [
       "  0%|          | 0/2000 [00:00<?, ?it/s]"
      ]
     },
     "metadata": {},
     "output_type": "display_data"
    },
    {
     "name": "stdout",
     "output_type": "stream",
     "text": [
      "6.940281065482658e-07\n"
     ]
    },
    {
     "data": {
      "application/vnd.jupyter.widget-view+json": {
       "model_id": "65740d9005d84b2191cf066109a50690",
       "version_major": 2,
       "version_minor": 0
      },
      "text/plain": [
       "  0%|          | 0/300 [00:00<?, ?it/s]"
      ]
     },
     "metadata": {},
     "output_type": "display_data"
    },
    {
     "data": {
      "application/vnd.jupyter.widget-view+json": {
       "model_id": "df881b73193f472eb05bffa7f6b354b5",
       "version_major": 2,
       "version_minor": 0
      },
      "text/plain": [
       "  0%|          | 0/2000 [00:00<?, ?it/s]"
      ]
     },
     "metadata": {},
     "output_type": "display_data"
    },
    {
     "name": "stdout",
     "output_type": "stream",
     "text": [
      "6.602039978502472e-07\n"
     ]
    },
    {
     "data": {
      "application/vnd.jupyter.widget-view+json": {
       "model_id": "0b88f1691e1049218c5c1287091dd885",
       "version_major": 2,
       "version_minor": 0
      },
      "text/plain": [
       "  0%|          | 0/300 [00:00<?, ?it/s]"
      ]
     },
     "metadata": {},
     "output_type": "display_data"
    },
    {
     "data": {
      "application/vnd.jupyter.widget-view+json": {
       "model_id": "0fcc6b12355848d890889854b5686843",
       "version_major": 2,
       "version_minor": 0
      },
      "text/plain": [
       "  0%|          | 0/2000 [00:00<?, ?it/s]"
      ]
     },
     "metadata": {},
     "output_type": "display_data"
    },
    {
     "name": "stdout",
     "output_type": "stream",
     "text": [
      "7.056901275663991e-07\n"
     ]
    },
    {
     "data": {
      "application/vnd.jupyter.widget-view+json": {
       "model_id": "e75735a0dad24effa2fa02145f2a9dbb",
       "version_major": 2,
       "version_minor": 0
      },
      "text/plain": [
       "  0%|          | 0/300 [00:00<?, ?it/s]"
      ]
     },
     "metadata": {},
     "output_type": "display_data"
    },
    {
     "data": {
      "application/vnd.jupyter.widget-view+json": {
       "model_id": "1369b4c4fb41408ca6af94afab820250",
       "version_major": 2,
       "version_minor": 0
      },
      "text/plain": [
       "  0%|          | 0/2000 [00:00<?, ?it/s]"
      ]
     },
     "metadata": {},
     "output_type": "display_data"
    },
    {
     "name": "stdout",
     "output_type": "stream",
     "text": [
      "6.917494861713315e-07\n"
     ]
    },
    {
     "data": {
      "application/vnd.jupyter.widget-view+json": {
       "model_id": "8d8c296b4c0445c3a6c752887b71abba",
       "version_major": 2,
       "version_minor": 0
      },
      "text/plain": [
       "  0%|          | 0/300 [00:00<?, ?it/s]"
      ]
     },
     "metadata": {},
     "output_type": "display_data"
    },
    {
     "data": {
      "application/vnd.jupyter.widget-view+json": {
       "model_id": "12e5c2b326e74b64b657fbfa6275d38f",
       "version_major": 2,
       "version_minor": 0
      },
      "text/plain": [
       "  0%|          | 0/2000 [00:00<?, ?it/s]"
      ]
     },
     "metadata": {},
     "output_type": "display_data"
    },
    {
     "name": "stdout",
     "output_type": "stream",
     "text": [
      "4.8109710942424017e-08\n"
     ]
    },
    {
     "data": {
      "application/vnd.jupyter.widget-view+json": {
       "model_id": "27bb2f410e27462090f267799cc5d13a",
       "version_major": 2,
       "version_minor": 0
      },
      "text/plain": [
       "  0%|          | 0/300 [00:00<?, ?it/s]"
      ]
     },
     "metadata": {},
     "output_type": "display_data"
    },
    {
     "data": {
      "application/vnd.jupyter.widget-view+json": {
       "model_id": "5530e6a578d84ff9a6f9e5563e9ee5ab",
       "version_major": 2,
       "version_minor": 0
      },
      "text/plain": [
       "  0%|          | 0/2000 [00:00<?, ?it/s]"
      ]
     },
     "metadata": {},
     "output_type": "display_data"
    },
    {
     "name": "stdout",
     "output_type": "stream",
     "text": [
      "5.812398756825402e-08\n"
     ]
    },
    {
     "data": {
      "application/vnd.jupyter.widget-view+json": {
       "model_id": "90e26d26cd4a4be8b38ce3d917dca5ce",
       "version_major": 2,
       "version_minor": 0
      },
      "text/plain": [
       "  0%|          | 0/300 [00:00<?, ?it/s]"
      ]
     },
     "metadata": {},
     "output_type": "display_data"
    },
    {
     "data": {
      "application/vnd.jupyter.widget-view+json": {
       "model_id": "ca974eed75c54f3d932cdf6c627a40d3",
       "version_major": 2,
       "version_minor": 0
      },
      "text/plain": [
       "  0%|          | 0/2000 [00:00<?, ?it/s]"
      ]
     },
     "metadata": {},
     "output_type": "display_data"
    },
    {
     "name": "stdout",
     "output_type": "stream",
     "text": [
      "4.029377149731589e-08\n"
     ]
    },
    {
     "data": {
      "application/vnd.jupyter.widget-view+json": {
       "model_id": "0f99473dddb446f9b9db725d42d7918a",
       "version_major": 2,
       "version_minor": 0
      },
      "text/plain": [
       "  0%|          | 0/300 [00:00<?, ?it/s]"
      ]
     },
     "metadata": {},
     "output_type": "display_data"
    },
    {
     "data": {
      "application/vnd.jupyter.widget-view+json": {
       "model_id": "396090dab2d9404197842f8e73515e64",
       "version_major": 2,
       "version_minor": 0
      },
      "text/plain": [
       "  0%|          | 0/2000 [00:00<?, ?it/s]"
      ]
     },
     "metadata": {},
     "output_type": "display_data"
    },
    {
     "name": "stdout",
     "output_type": "stream",
     "text": [
      "5.8764216794579094e-08\n"
     ]
    },
    {
     "data": {
      "application/vnd.jupyter.widget-view+json": {
       "model_id": "e4a836e3ef4140cf8a6d95a4aad434b2",
       "version_major": 2,
       "version_minor": 0
      },
      "text/plain": [
       "  0%|          | 0/300 [00:00<?, ?it/s]"
      ]
     },
     "metadata": {},
     "output_type": "display_data"
    },
    {
     "data": {
      "application/vnd.jupyter.widget-view+json": {
       "model_id": "ddc8840273f04e05bd08a1ecc68e23e9",
       "version_major": 2,
       "version_minor": 0
      },
      "text/plain": [
       "  0%|          | 0/2000 [00:00<?, ?it/s]"
      ]
     },
     "metadata": {},
     "output_type": "display_data"
    },
    {
     "name": "stdout",
     "output_type": "stream",
     "text": [
      "5.4003862459461714e-08\n"
     ]
    }
   ],
   "source": [
    "n = 4\n",
    "d = 2**n\n",
    "c1 = 0.8\n",
    "c2 = 0.8\n",
    "\n",
    "num_reps = 5\n",
    "noise_list = np.logspace(-1, -3, 10)\n",
    "noise_list = np.append(noise_list, 0)\n",
    "\n",
    "init_4q_povm = np.zeros((len(noise_list), num_reps))\n",
    "povm_4q_povm = np.zeros((len(noise_list), num_reps))\n",
    "\n",
    "for i, noise in tqdm(enumerate(noise_list)):\n",
    "    \n",
    "    np.random.seed(42)\n",
    "    random.seed(42)\n",
    "    tf.random.set_seed(42)\n",
    "    \n",
    "    for rep in range(num_reps):\n",
    "        spam_target = generate_spam_benchmark(n=n, c1=c1, c2=c2)\n",
    "        inputs_spam, targets_spam = generate_spam_data(spam_target, N_spam=None, noise=noise)\n",
    "\n",
    "        spam_model = SPAM(init = InitialState(d, c=None),\n",
    "                          povm = POVM(d, c=None),\n",
    "                          optimizer = tf.optimizers.Adam(learning_rate=0.01))\n",
    "        \n",
    "        spam_model.pretrain(num_iter = 300,\n",
    "                         verbose = False,\n",
    "                        )\n",
    "\n",
    "        spam_model.train(inputs = inputs_spam,\n",
    "                         targets = targets_spam,\n",
    "                         num_iter = 2000,\n",
    "                         verbose = False,\n",
    "                        )\n",
    "        \n",
    "        init_4q_povm[i, rep] = state_fidelity(spam_model.init.init, spam_target.init.init)\n",
    "        povm_4q_povm[i, rep] = povm_fidelity(spam_model.povm.povm, spam_target.povm.povm)\n",
    "        \n",
    "saver(init_4q_povm, \"init_4q_povm.p\")\n",
    "saver(povm_4q_povm, \"povm_4q_povm.p\")"
   ]
  },
  {
   "cell_type": "code",
   "execution_count": 39,
   "metadata": {},
   "outputs": [
    {
     "data": {
      "image/png": "[encoded data removed]",
      "text/plain": [
       "<Figure size 1800x1200 with 1 Axes>"
      ]
     },
     "metadata": {},
     "output_type": "display_data"
    },
    {
     "data": {
      "image/png": "[encoded data removed]",
      "text/plain": [
       "<Figure size 1800x1200 with 1 Axes>"
      ]
     },
     "metadata": {},
     "output_type": "display_data"
    }
   ],
   "source": [
    "init_3q_corr = loader(\"init_3q_corr.p\")\n",
    "init_3q_povm = loader(\"init_3q_povm.p\")\n",
    "\n",
    "povm_3q_corr = loader(\"povm_3q_corr.p\")\n",
    "povm_3q_povm = loader(\"povm_3q_povm.p\")\n",
    "\n",
    "init_4q_corr = loader(\"init_4q_corr.p\")\n",
    "init_4q_povm = loader(\"init_4q_povm.p\")\n",
    "\n",
    "povm_4q_corr = loader(\"povm_4q_corr.p\")\n",
    "povm_4q_povm = loader(\"povm_4q_povm.p\")\n",
    "\n",
    "\n",
    "shots_list = list(1/noise_list[:-1]**2)\n",
    "\n",
    "init_3q_corr_avg = np.mean(init_3q_corr, axis=1)\n",
    "init_3q_povm_avg = np.mean(init_3q_povm, axis=1)\n",
    "\n",
    "init_4q_corr_avg = np.mean(init_4q_corr, axis=1)\n",
    "init_4q_povm_avg = np.mean(init_4q_povm, axis=1)\n",
    "\n",
    "povm_3q_corr_avg = np.mean(povm_3q_corr, axis=1)\n",
    "povm_3q_povm_avg = np.mean(povm_3q_povm, axis=1)\n",
    "\n",
    "povm_4q_corr_avg = np.mean(povm_4q_corr, axis=1)\n",
    "povm_4q_povm_avg = np.mean(povm_4q_povm, axis=1)\n",
    "\n",
    "x_list = [0,1,2,3,4,5,6,7,8,9,10]\n",
    "ticks_list = [0,2,4,6,8,10]\n",
    "labels = [\"$10^2$\", \"$7.4 x 10^2$\", \"$6.0 x 10^3$\", \"$4.6 x 10^4$\", \"$3.6 x 10^5$\",\"$\\infty$\"]\n",
    "\n",
    "fig = plt.figure(figsize=(6, 4), dpi=300, facecolor=\"w\", edgecolor=\"k\")\n",
    "plt.plot(x_list, init_3q_povm_avg, \"bo-\")\n",
    "plt.plot(x_list, init_3q_corr_avg, \"bo--\")\n",
    "\n",
    "plt.plot(x_list, init_4q_povm_avg, \"ro-\")\n",
    "plt.plot(x_list, init_4q_corr_avg, \"ro--\")\n",
    "\n",
    "plt.xticks(ticks_list, labels)\n",
    "plt.ylim([0.92, 1])\n",
    "\n",
    "plt.xlabel(\"#Shots\")\n",
    "plt.ylabel(\"Fidelity\")\n",
    "plt.legend([\"Quantum POVM, Three Qubits\", \"Classical POVM, Three Qubits\", \n",
    "           \"Quantum POVM, Four Qubits\", \"Classical POVM, Four Qubits\",])\n",
    "\n",
    "\n",
    "plt.grid()\n",
    "plt.savefig(\"SPAM_recovery_shots_sensitivy_init.pdf\")\n",
    "plt.show()\n",
    "\n",
    "\n",
    "fig = plt.figure(figsize=(6, 4), dpi=300, facecolor=\"w\", edgecolor=\"k\")\n",
    "plt.plot(x_list, povm_3q_povm_avg, \"bo-\")\n",
    "plt.plot(x_list, povm_3q_corr_avg, \"bo--\")\n",
    "\n",
    "plt.plot(x_list, povm_4q_povm_avg, \"ro-\")\n",
    "plt.plot(x_list, povm_4q_corr_avg, \"ro--\")\n",
    "\n",
    "plt.xticks(ticks_list, labels)\n",
    "plt.ylim([0.92, 1])\n",
    "\n",
    "plt.xlabel(\"#Shots\")\n",
    "plt.ylabel(\"Fidelity\")\n",
    "plt.legend([\"Quantum POVM, Three Qubits\", \"Classical POVM, Three Qubits\", \n",
    "           \"Quantum POVM, Four Qubits\", \"Classical POVM, Four Qubits\",])\n",
    "\n",
    "\n",
    "plt.grid()\n",
    "plt.savefig(\"SPAM_recovery_shots_sensitivy_povm.pdf\")\n",
    "plt.show()"
   ]
  },
  {
   "cell_type": "code",
   "execution_count": 7,
   "metadata": {},
   "outputs": [
    {
     "data": {
      "text/plain": [
       "78218"
      ]
     },
     "execution_count": 7,
     "metadata": {},
     "output_type": "execute_result"
    }
   ],
   "source": [
    "np.random.randint(0, 10**6)"
   ]
  },
  {
   "cell_type": "code",
   "execution_count": null,
   "metadata": {},
   "outputs": [],
   "source": []
  },
  {
   "cell_type": "code",
   "execution_count": 5,
   "metadata": {},
   "outputs": [
    {
     "data": {
      "application/vnd.jupyter.widget-view+json": {
       "model_id": "8dfdae9d432f4c0baeb150759a3ee7cc",
       "version_major": 2,
       "version_minor": 0
      },
      "text/plain": [
       "  0%|          | 0/300 [00:00<?, ?it/s]"
      ]
     },
     "metadata": {},
     "output_type": "display_data"
    },
    {
     "data": {
      "application/vnd.jupyter.widget-view+json": {
       "model_id": "63b3286fb75f46abafab837ed995d292",
       "version_major": 2,
       "version_minor": 0
      },
      "text/plain": [
       "  0%|          | 0/2000 [00:00<?, ?it/s]"
      ]
     },
     "metadata": {},
     "output_type": "display_data"
    },
    {
     "name": "stdout",
     "output_type": "stream",
     "text": [
      "0 0.015368814799361042\n",
      "1 0.010402953742707468\n",
      "2 0.007346241222062503\n",
      "3 0.005222911683786963\n",
      "4 0.0037308941749446423\n",
      "5 0.0026930705567500784\n",
      "6 0.001960649307621371\n",
      "7 0.0015410850921542508\n",
      "8 0.0013550142263532535\n",
      "9 0.0013186566897070474\n",
      "10 0.001373242993255425\n",
      "11 0.0014748126319227208\n",
      "12 0.0015909735262707892\n",
      "13 0.0017019575989023188\n",
      "14 0.0017951543919594536\n",
      "15 0.001864497727152914\n",
      "16 0.0019075451929178437\n",
      "17 0.0019245311702690124\n",
      "18 0.001917876267033669\n",
      "19 0.0018914439110467125\n",
      "20 0.0018482535782417637\n",
      "21 0.0017928825023173758\n",
      "22 0.0017291012437707725\n",
      "23 0.0016606115234446253\n",
      "24 0.0015907506930007123\n",
      "25 0.0015224469034388652\n",
      "26 0.0014581329077392356\n",
      "27 0.0013998874847475904\n",
      "28 0.0013491520382690962\n",
      "29 0.001306456287055356\n",
      "30 0.0012720669627162\n",
      "31 0.001245625022838168\n",
      "32 0.001226511747096355\n",
      "33 0.0012132523659791321\n",
      "34 0.0012052297666965948\n",
      "35 0.001201236175214051\n",
      "36 0.0012000224474015002\n",
      "37 0.001200371789045999\n",
      "38 0.0012012445123858971\n",
      "39 0.0012016561572393096\n",
      "40 0.0012009187552717159\n",
      "41 0.0011981427755347978\n",
      "42 0.0011934970190278942\n",
      "43 0.0011869447661608348\n",
      "44 0.0011789020101554582\n",
      "45 0.0011698359506064483\n",
      "46 0.0011604773108339274\n",
      "47 0.0011507837577510501\n",
      "48 0.0011406931632083769\n",
      "49 0.0011308819648755634\n",
      "50 0.0011226625487295062\n",
      "51 0.001115836200067142\n",
      "52 0.001110109263365738\n",
      "53 0.0011059054385132662\n",
      "54 0.0011034571482949587\n",
      "55 0.00110125387375243\n",
      "56 0.0011004817904702298\n",
      "57 0.001099414109974095\n",
      "58 0.0010977075279156726\n",
      "59 0.0010961347689715086\n",
      "60 0.0010942475208684463\n",
      "61 0.001091441459610125\n",
      "62 0.0010874376402146134\n",
      "63 0.001083496398698593\n",
      "64 0.0010784458611198798\n",
      "65 0.0010724995959111544\n",
      "66 0.0010656122744550878\n",
      "67 0.0010591618969597607\n",
      "68 0.0010527285556677954\n",
      "69 0.0010464061767370154\n",
      "70 0.001040548949016576\n",
      "71 0.0010359478545656615\n",
      "72 0.0010319698891804192\n",
      "73 0.001028338752204245\n",
      "74 0.001025190580652383\n",
      "75 0.0010229261441836207\n",
      "76 0.0010212914430463836\n",
      "77 0.0010197145097540963\n",
      "78 0.0010180841341579266\n",
      "79 0.0010163684368164742\n",
      "80 0.0010148800788920209\n",
      "81 0.0010133530702769633\n",
      "82 0.0010115723410544025\n",
      "83 0.0010095890556100933\n",
      "84 0.0010075135391237966\n",
      "85 0.0010056667585116063\n",
      "86 0.001003969827044074\n",
      "87 0.0010021695056468625\n",
      "88 0.0010002953405420136\n",
      "89 0.0009983895362182791\n",
      "90 0.0009968206305724305\n",
      "91 0.0009952834457986667\n",
      "92 0.0009937185869850187\n",
      "93 0.0009920767416209625\n",
      "94 0.0009905313325228125\n",
      "95 0.000989213424672175\n",
      "96 0.0009878075150329525\n",
      "97 0.0009862893181587424\n",
      "98 0.0009849135652628162\n",
      "99 0.0009834509088712227\n",
      "100 0.0009819022352429338\n",
      "101 0.0009802263166508003\n",
      "102 0.0009785183048971102\n",
      "103 0.0009768943435467254\n",
      "104 0.0009751186677728039\n",
      "105 0.000973239309668551\n",
      "106 0.000971537803394034\n",
      "107 0.0009697761353404524\n",
      "108 0.0009678810301637946\n",
      "109 0.0009659237453126297\n",
      "110 0.0009642287072619546\n",
      "111 0.0009624822013813253\n",
      "112 0.0009609329104260095\n",
      "113 0.0009593377014536134\n",
      "114 0.0009576555028050969\n",
      "115 0.0009561732785003444\n",
      "116 0.0009547485415079734\n",
      "117 0.000953255062925971\n",
      "118 0.0009517666176778499\n",
      "119 0.0009504263920358061\n",
      "120 0.0009490476474128256\n",
      "121 0.0009477417620980999\n",
      "122 0.0009464517728971072\n",
      "123 0.0009450952045895906\n",
      "124 0.0009438453108929536\n",
      "125 0.000942650233243129\n",
      "126 0.0009414192067608954\n",
      "127 0.0009402326209115938\n",
      "128 0.0009391264377592824\n",
      "129 0.0009379763641673138\n",
      "130 0.0009368667838686187\n",
      "131 0.0009357738931783713\n",
      "132 0.0009346258900362614\n",
      "133 0.0009335421614545562\n",
      "134 0.0009324603591567436\n",
      "135 0.000931364906762554\n",
      "136 0.0009303053465350893\n",
      "137 0.0009292949382068011\n",
      "138 0.0009282526545202704\n",
      "139 0.0009272325655588811\n",
      "140 0.00092624972771916\n",
      "141 0.0009252284219017599\n",
      "142 0.0009242506367828381\n",
      "143 0.0009232603815200406\n",
      "144 0.0009222433605660926\n",
      "145 0.0009212651135258776\n",
      "146 0.0009203406473297436\n",
      "147 0.000919394299323055\n",
      "148 0.0009184641107667932\n",
      "149 0.000917547824423253\n",
      "150 0.000916619815407392\n",
      "151 0.0009157380651419652\n",
      "152 0.0009148494105711442\n",
      "153 0.0009139443000547123\n",
      "154 0.0009130558150958721\n",
      "155 0.0009122178661890157\n",
      "156 0.0009113750217680191\n",
      "157 0.0009105418768466177\n",
      "158 0.0009097288435725384\n",
      "159 0.000908911519548287\n",
      "160 0.0009081370416983562\n",
      "161 0.0009073717806215619\n",
      "162 0.0009066043054040301\n",
      "163 0.0009058476871084917\n",
      "164 0.0009051171431577675\n",
      "165 0.0009043905173920792\n",
      "166 0.0009036625002835283\n",
      "167 0.0009029563024638513\n",
      "168 0.0009022467420834121\n",
      "169 0.0009015335132306764\n",
      "170 0.0009008280732671106\n",
      "171 0.0009001432378622669\n",
      "172 0.0008994727164282739\n",
      "173 0.0008988057146803352\n",
      "174 0.0008981438019389087\n",
      "175 0.0008974884031113422\n",
      "176 0.000896845925477938\n",
      "177 0.0008962084876059595\n",
      "178 0.000895578405565536\n",
      "179 0.0008949556565549956\n",
      "180 0.0008943389327215314\n",
      "181 0.0008937296144561565\n",
      "182 0.0008931291439900984\n",
      "183 0.000892541463944126\n",
      "184 0.0008919615255239824\n",
      "185 0.0008913865515640639\n",
      "186 0.0008908166158869865\n",
      "187 0.0008902514836588972\n",
      "188 0.0008896935315901262\n",
      "189 0.0008891446751829533\n",
      "190 0.0008886057811545047\n",
      "191 0.0008880766758528435\n",
      "192 0.0008875577798941627\n",
      "193 0.000887046529484493\n",
      "194 0.0008865400554979332\n",
      "195 0.0008860376365076395\n",
      "196 0.0008855389548754385\n",
      "197 0.0008850452743108425\n",
      "198 0.0008845583782642879\n",
      "199 0.0008840795403910202\n",
      "200 0.0008836090668134862\n",
      "201 0.0008831466285058649\n",
      "202 0.0008826914019774804\n",
      "203 0.0008822420826690955\n",
      "204 0.0008817974360953608\n",
      "205 0.0008813566016354089\n",
      "206 0.0008809192610520873\n",
      "207 0.0008804856391575774\n",
      "208 0.0008800563544824481\n",
      "209 0.0008796321922574161\n",
      "210 0.0008792138888576145\n",
      "211 0.0008788019840389797\n",
      "212 0.000878396749802104\n",
      "213 0.0008779981815122135\n",
      "214 0.0008776060382883755\n",
      "215 0.0008772199203557413\n",
      "216 0.0008768393614535489\n",
      "217 0.0008764639103405667\n",
      "218 0.0008760931885522498\n",
      "219 0.0008757269291550547\n",
      "220 0.0008753650038895934\n",
      "221 0.0008750074332867759\n",
      "222 0.0008746543647445964\n",
      "223 0.0008743060132073004\n",
      "224 0.0008739625828941159\n",
      "225 0.0008736242038662482\n",
      "226 0.0008732909063282708\n",
      "227 0.000872962626285541\n",
      "228 0.0008726392178838133\n",
      "229 0.0008723204598389721\n",
      "230 0.0008720060704007366\n",
      "231 0.0008716957527841176\n",
      "232 0.000871389268931807\n",
      "233 0.0008710865099200897\n",
      "234 0.000870787527941943\n",
      "235 0.000870492517281682\n",
      "236 0.0008702017544538205\n",
      "237 0.0008699155156620751\n",
      "238 0.0008696339911631955\n",
      "239 0.0008693572200873965\n",
      "240 0.0008690850686504333\n",
      "241 0.0008688172604349553\n",
      "242 0.0008685534466328309\n",
      "243 0.000868293291634321\n",
      "244 0.0008680365482554041\n",
      "245 0.0008677831001611021\n",
      "246 0.0008675329565005782\n",
      "247 0.0008672862020672228\n",
      "248 0.0008670429298201149\n",
      "249 0.0008668031904875154\n",
      "250 0.0008665669755926369\n",
      "251 0.0008663342236734013\n",
      "252 0.0008661048317225214\n",
      "253 0.0008658786670418391\n",
      "254 0.0008656555854848497\n",
      "255 0.0008654354553130494\n",
      "256 0.0008652181745193651\n",
      "257 0.0008650036732003086\n",
      "258 0.0008647919078513887\n",
      "259 0.0008645828599311455\n",
      "260 0.000864376539149899\n",
      "261 0.0008641729797113674\n",
      "262 0.0008639722219191554\n",
      "263 0.0008637742860681123\n",
      "264 0.0008635791527166502\n",
      "265 0.0008633867583867665\n",
      "266 0.0008631970076405453\n",
      "267 0.0008630097971730141\n",
      "268 0.0008628250425457051\n",
      "269 0.0008626426945261633\n",
      "270 0.0008624627368935645\n",
      "271 0.0008622851703620477\n",
      "272 0.0008621099949335996\n",
      "273 0.0008619371974928736\n",
      "274 0.000861766742725033\n",
      "275 0.0008615985669073086\n",
      "276 0.0008614325816548965\n",
      "277 0.0008612686925855168\n",
      "278 0.0008611068240591156\n",
      "279 0.0008609469328071322\n",
      "280 0.0008607890026928706\n",
      "281 0.0008606330293180722\n",
      "282 0.0008604790077217363\n",
      "283 0.00086032692717543\n",
      "284 0.0008601767689042171\n",
      "285 0.0008600285043026274\n",
      "286 0.0008598820959499206\n",
      "287 0.000859737502994344\n",
      "288 0.0008595946885843396\n",
      "289 0.0008594536259479184\n",
      "290 0.0008593143008055073\n",
      "291 0.0008591767080098645\n",
      "292 0.0008590408419058035\n",
      "293 0.000858906685176925\n",
      "294 0.0008587742042184578\n",
      "295 0.0008586433538194149\n",
      "296 0.000858514085224621\n",
      "297 0.0008583863509899539\n",
      "298 0.0008582601078174269\n",
      "299 0.0008581353223158033\n",
      "300 0.0008580119780244804\n",
      "301 0.0008578900752559858\n",
      "302 0.0008577696199250926\n",
      "303 0.0008576506086670036\n",
      "304 0.0008575330208208213\n",
      "305 0.0008574168200329679\n",
      "306 0.000857301960427202\n",
      "307 0.0008571883928506635\n",
      "308 0.0008570760711514087\n",
      "309 0.0008569649592324721\n",
      "310 0.0008568550371987276\n",
      "311 0.0008567463038620625\n",
      "312 0.0008566387738201634\n",
      "313 0.0008565324686144508\n",
      "314 0.0008564274038862926\n",
      "315 0.0008563235780203566\n",
      "316 0.0008562209681534917\n",
      "317 0.0008561195341567334\n",
      "318 0.0008560192259683762\n",
      "319 0.0008559199910909133\n",
      "320 0.0008558217836955308\n",
      "321 0.0008557245756921011\n",
      "322 0.0008556283637196842\n"
     ]
    },
    {
     "name": "stdout",
     "output_type": "stream",
     "text": [
      "323 0.0008555331647411108\n",
      "324 0.0008554390012402293\n",
      "325 0.0008553458855667965\n",
      "326 0.0008552538117450569\n",
      "327 0.0008551627552397574\n",
      "328 0.0008550726770337531\n",
      "329 0.0008549835303443327\n",
      "330 0.0008548952701031638\n",
      "331 0.0008548078634087519\n",
      "332 0.0008547212969097294\n",
      "333 0.0008546355777383092\n",
      "334 0.0008545507271597447\n",
      "335 0.0008544667689336304\n",
      "336 0.0008543837170956896\n",
      "337 0.0008543015685747648\n",
      "338 0.0008542203027614492\n",
      "339 0.0008541398856879457\n",
      "340 0.0008540602761513659\n",
      "341 0.0008539814341047098\n",
      "342 0.0008539033313852411\n",
      "343 0.0008538259600129487\n",
      "344 0.0008537493314064762\n",
      "345 0.0008536734658960045\n",
      "346 0.0008535983795348874\n",
      "347 0.0008535240755008657\n",
      "348 0.0008534505415364625\n",
      "349 0.0008533777512634028\n",
      "350 0.00085330566856757\n",
      "351 0.0008532342555303734\n",
      "352 0.0008531634823030015\n",
      "353 0.0008530933348602687\n",
      "354 0.00085302381703394\n",
      "355 0.0008529549458649928\n",
      "356 0.000852886742178781\n",
      "357 0.0008528192204703487\n",
      "358 0.0008527523823477737\n",
      "359 0.0008526862150905342\n",
      "360 0.000852620693976097\n",
      "361 0.0008525557872641426\n",
      "362 0.0008524914642887149\n",
      "363 0.0008524277053297915\n",
      "364 0.0008523645079000521\n",
      "365 0.0008523018844287008\n",
      "366 0.0008522398526809134\n",
      "367 0.0008521784254756692\n",
      "368 0.000852117604617523\n",
      "369 0.0008520573791476596\n",
      "370 0.0008519977265719238\n",
      "371 0.0008519386172991868\n",
      "372 0.0008518800223499134\n",
      "373 0.0008518219217713214\n",
      "374 0.0008517643097698831\n",
      "375 0.0008517071941181501\n",
      "376 0.0008516505902586856\n",
      "377 0.0008515945129184684\n",
      "378 0.0008515389689902654\n",
      "379 0.0008514839541382614\n",
      "380 0.0008514294530576604\n",
      "381 0.0008513754424521726\n",
      "382 0.000851321896911535\n",
      "383 0.000851268797349612\n",
      "384 0.0008512161382367297\n",
      "385 0.0008511639283523768\n",
      "386 0.0008511121840409292\n",
      "387 0.0008510609197493801\n",
      "388 0.0008510101412343308\n",
      "389 0.0008509598428528854\n",
      "390 0.0008509100079159996\n",
      "391 0.0008508606120262422\n",
      "392 0.0008508116297053458\n",
      "393 0.0008507630423877808\n",
      "394 0.000850714843917253\n",
      "395 0.0008506670406981895\n",
      "396 0.0008506196465995202\n",
      "397 0.0008505726752809293\n",
      "398 0.0008505261334940436\n",
      "399 0.0008504800176927701\n",
      "400 0.0008504343140867868\n",
      "401 0.0008503890014739809\n",
      "402 0.000850344056964728\n",
      "403 0.0008502994640022662\n",
      "404 0.0008502552189818269\n",
      "405 0.0008502113316511049\n",
      "406 0.00085016781858182\n",
      "407 0.0008501246942499941\n",
      "408 0.0008500819646300796\n",
      "409 0.0008500396245998536\n",
      "410 0.0008499976584470479\n",
      "411 0.0008499560435926155\n",
      "412 0.0008499147575355119\n",
      "413 0.0008498737856010149\n",
      "414 0.0008498331254913156\n",
      "415 0.0008497927862066993\n",
      "416 0.0008497527821527539\n",
      "417 0.0008497131255946491\n",
      "418 0.0008496738208213414\n",
      "419 0.0008496348617046309\n",
      "420 0.0008495962325254017\n",
      "421 0.0008495579117435662\n",
      "422 0.0008495198787272741\n",
      "423 0.0008494821217055269\n",
      "424 0.000849444642464906\n",
      "425 0.0008494074541502206\n",
      "426 0.0008493705735653893\n",
      "427 0.000849334013019269\n",
      "428 0.0008492977752795634\n",
      "429 0.0008492618519936214\n",
      "430 0.0008492262253480546\n",
      "431 0.0008491908733760863\n",
      "432 0.0008491557778231114\n",
      "433 0.0008491209308999897\n",
      "434 0.0008490863371661401\n",
      "435 0.0008490520096965464\n",
      "436 0.0008490179629032276\n",
      "437 0.0008489842056117942\n",
      "438 0.0008489507369492451\n",
      "439 0.0008489175456746466\n",
      "440 0.0008488846127224825\n",
      "441 0.0008488519169533676\n",
      "442 0.0008488194430770497\n",
      "443 0.0008487871879933164\n",
      "444 0.0008487551611812814\n",
      "445 0.000848723378709425\n",
      "446 0.0008486918550109\n",
      "447 0.0008486605967002998\n",
      "448 0.000848629599727533\n",
      "449 0.0008485988498302379\n",
      "450 0.0008485683267914147\n",
      "451 0.0008485380119684925\n",
      "452 0.0008485078957739955\n",
      "453 0.0008484779808834137\n",
      "454 0.0008484482794956159\n",
      "455 0.0008484188065536582\n",
      "456 0.0008483895725631085\n",
      "457 0.0008483605788610452\n",
      "458 0.0008483318163064075\n",
      "459 0.0008483032673664977\n",
      "460 0.0008482749116200799\n",
      "461 0.0008482467336386698\n",
      "462 0.0008482187295436289\n",
      "463 0.0008481909078429983\n",
      "464 0.0008481632839217699\n",
      "465 0.0008481358720901024\n",
      "466 0.0008481086793702128\n",
      "467 0.0008480817024262453\n",
      "468 0.0008480549278266588\n",
      "469 0.0008480283363010482\n",
      "470 0.0008480019103774329\n",
      "471 0.0008479756418354469\n",
      "472 0.0008479495346197879\n",
      "473 0.0008479236017020822\n",
      "474 0.0008478978581092924\n",
      "475 0.0008478723138772423\n",
      "476 0.0008478469696148012\n",
      "477 0.0008478218155178247\n",
      "478 0.0008477968339447488\n",
      "479 0.0008477720055593203\n",
      "480 0.0008477473173825539\n",
      "481 0.0008477227684458315\n",
      "482 0.0008476983691310379\n",
      "483 0.0008476741348218467\n",
      "484 0.0008476500782541615\n",
      "485 0.0008476262040725569\n",
      "486 0.0008476025064655694\n",
      "487 0.0008475789703444263\n",
      "488 0.0008475555767721477\n",
      "489 0.0008475323111303253\n",
      "490 0.0008475091696209388\n",
      "491 0.0008474861601566313\n",
      "492 0.0008474632974692742\n",
      "493 0.0008474405956609896\n",
      "494 0.0008474180618799272\n",
      "495 0.0008473956930792298\n",
      "496 0.0008473734763452552\n",
      "497 0.000847351393064954\n",
      "498 0.0008473294264301843\n",
      "499 0.0008473075690934835\n",
      "500 0.0008472858260930976\n",
      "501 0.0008472642110416785\n",
      "502 0.0008472427386214224\n",
      "503 0.0008472214178643256\n",
      "504 0.0008472002482157987\n",
      "505 0.0008471792188146465\n",
      "506 0.0008471583119341165\n",
      "507 0.0008471375104462442\n",
      "508 0.0008471168058030357\n",
      "509 0.0008470962016163663\n",
      "510 0.0008470757108247446\n",
      "511 0.0008470553487116674\n",
      "512 0.0008470351257713336\n",
      "513 0.0008470150431386845\n",
      "514 0.0008469950914979197\n",
      "515 0.0008469752539202576\n",
      "516 0.0008469555126579031\n",
      "517 0.0008469358574347682\n",
      "518 0.0008469162901833934\n",
      "519 0.0008468968229059491\n",
      "520 0.0008468774706435133\n",
      "521 0.0008468582442669568\n",
      "522 0.0008468391457781253\n",
      "523 0.0008468201666836547\n",
      "524 0.0008468012904182771\n",
      "525 0.0008467824992749368\n",
      "526 0.0008467637828737809\n",
      "527 0.0008467451429012489\n",
      "528 0.0008467265912384623\n",
      "529 0.0008467081432767038\n",
      "530 0.000846689810547518\n",
      "531 0.0008466715956693765\n",
      "532 0.0008466534906966513\n",
      "533 0.0008466354794972919\n",
      "534 0.0008466175444278136\n",
      "535 0.0008465996749097022\n",
      "536 0.0008465818725725097\n",
      "537 0.0008465641493075342\n",
      "538 0.0008465465202062006\n",
      "539 0.0008465289962747037\n",
      "540 0.0008465115796534773\n",
      "541 0.0008464942618987045\n",
      "542 0.0008464770264552671\n",
      "543 0.0008464598558482644\n",
      "544 0.0008464427403386995\n",
      "545 0.0008464256824426995\n",
      "546 0.0008464086945531641\n",
      "547 0.00084639179192686\n",
      "548 0.0008463749853860706\n",
      "549 0.0008463582765225419\n",
      "550 0.000846341656339519\n",
      "551 0.0008463251081643898\n",
      "552 0.0008463086150479521\n",
      "553 0.0008462921684798765\n",
      "554 0.0008462757725301012\n",
      "555 0.0008462594405030128\n",
      "556 0.0008462431872917425\n",
      "557 0.0008462270224234926\n",
      "558 0.0008462109458299917\n",
      "559 0.0008461949468459487\n",
      "560 0.0008461790079034233\n",
      "561 0.0008461631128186607\n",
      "562 0.0008461472551474036\n",
      "563 0.0008461314408739097\n",
      "564 0.0008461156840885805\n",
      "565 0.0008460999992978951\n",
      "566 0.0008460843946996618\n",
      "567 0.000846068868375487\n",
      "568 0.0008460534081331153\n",
      "569 0.0008460379961347252\n",
      "570 0.0008460226176952207\n",
      "571 0.0008460072692587462\n",
      "572 0.0008459919595958453\n",
      "573 0.0008459767038387904\n",
      "574 0.0008459615154596726\n",
      "575 0.00084594640033744\n",
      "576 0.0008459313537133067\n",
      "577 0.0008459163610017038\n",
      "578 0.0008459014040278882\n",
      "579 0.000845886470512665\n",
      "580 0.0008458715604593815\n",
      "581 0.000845856685007067\n",
      "582 0.0008458418594903895\n",
      "583 0.000845827095728574\n",
      "584 0.0008458123967438631\n",
      "585 0.0008457977547050889\n",
      "586 0.0008457831532168353\n",
      "587 0.0008457685749045371\n",
      "588 0.0008457540110166344\n",
      "589 0.0008457394660327527\n",
      "590 0.0008457249538726193\n",
      "591 0.0008457104896855182\n",
      "592 0.0008456960828077829\n",
      "593 0.0008456817325670404\n",
      "594 0.0008456674273576882\n",
      "595 0.0008456531490497599\n",
      "596 0.0008456388824073604\n",
      "597 0.0008456246235889119\n",
      "598 0.0008456103813559872\n",
      "599 0.000845596170952388\n",
      "600 0.0008455820058955865\n",
      "601 0.0008455678919055687\n",
      "602 0.0008455538238927301\n",
      "603 0.0008455397868654396\n",
      "604 0.000845525762514352\n",
      "605 0.0008455117394561418\n",
      "606 0.0008454977197614352\n",
      "607 0.0008454837165102333\n",
      "608 0.0008454697455174737\n",
      "609 0.0008454558176940254\n",
      "610 0.0008454419343342817\n",
      "611 0.0008454280853789149\n",
      "612 0.0008454142529015283\n",
      "613 0.0008454004205414031\n",
      "614 0.0008453865831093498\n",
      "615 0.0008453727487902399\n",
      "616 0.0008453589330715001\n",
      "617 0.0008453451501244072\n",
      "618 0.0008453314064982722\n",
      "619 0.000845317697863307\n",
      "620 0.000845304009461799\n",
      "621 0.0008452903225845598\n",
      "622 0.00084527662542441\n",
      "623 0.0008452629201921104\n",
      "624 0.0008452492204822805\n",
      "625 0.0008452355424842401\n",
      "626 0.0008452218972270772\n",
      "627 0.0008452082859313124\n",
      "628 0.0008451946981693717\n",
      "629 0.0008451811155511191\n",
      "630 0.0008451675219133449\n",
      "631 0.0008451539133475112\n",
      "632 0.0008451402996982865\n",
      "633 0.0008451266973648105\n",
      "634 0.0008451131203380751\n",
      "635 0.000845099574281306\n",
      "636 0.0008450860535870637\n",
      "637 0.0008450725422572266\n",
      "638 0.000845059021513253\n",
      "639 0.0008450454814956058\n"
     ]
    },
    {
     "name": "stdout",
     "output_type": "stream",
     "text": [
      "640 0.0008450319273759221\n",
      "641 0.0008450183746481193\n",
      "642 0.0008450048394704426\n",
      "643 0.0008449913314987147\n",
      "644 0.0008449778498098814\n",
      "645 0.0008449643816318157\n",
      "646 0.0008449509076317747\n",
      "647 0.0008449374136947148\n",
      "648 0.0008449239001877684\n",
      "649 0.0008449103805756563\n",
      "650 0.0008448968721676137\n",
      "651 0.0008448833874601663\n",
      "652 0.0008448699293260233\n",
      "653 0.0008448564887903499\n",
      "654 0.0008448430475144308\n",
      "655 0.0008448295880052134\n",
      "656 0.0008448161056076662\n",
      "657 0.0008448026110081849\n",
      "658 0.0008447891218551728\n",
      "659 0.0008447756529602332\n",
      "660 0.0008447622106928239\n",
      "661 0.0008447487897043644\n",
      "662 0.0008447353733017912\n",
      "663 0.0008447219421892463\n",
      "664 0.0008447084877105796\n",
      "665 0.000844695017568937\n",
      "666 0.0008446815492963539\n",
      "667 0.0008446680995066842\n",
      "668 0.0008446546770896048\n",
      "669 0.0008446412798395727\n",
      "670 0.0008446278934648406\n",
      "671 0.0008446144977992315\n",
      "672 0.0008446010804189627\n",
      "673 0.0008445876458210817\n",
      "674 0.0008445742108754387\n",
      "675 0.0008445607933351832\n",
      "676 0.0008445474042311715\n",
      "677 0.0008445340441545298\n",
      "678 0.0008445207009430936\n",
      "679 0.0008445073541769256\n",
      "680 0.0008444939887801928\n",
      "681 0.0008444806064355994\n",
      "682 0.0008444672232775909\n",
      "683 0.0008444538582078791\n",
      "684 0.0008444405238855541\n",
      "685 0.0008444272229094015\n",
      "686 0.0008444139453155827\n",
      "687 0.0008444006710360956\n",
      "688 0.0008443873826567321\n",
      "689 0.0008443740792639513\n",
      "690 0.0008443607762550404\n",
      "691 0.0008443474930960153\n",
      "692 0.0008443342435088822\n",
      "693 0.0008443210317497065\n",
      "694 0.000844307849462772\n",
      "695 0.0008442946767574696\n",
      "696 0.0008442814946163504\n",
      "697 0.0008442683001154759\n",
      "698 0.0008442551079940371\n",
      "699 0.0008442419384841669\n",
      "700 0.0008442288062520528\n",
      "701 0.0008442157165229579\n",
      "702 0.000844202662291607\n",
      "703 0.0008441896240757541\n",
      "704 0.0008441765813885047\n",
      "705 0.0008441635297722707\n",
      "706 0.0008441504839127298\n",
      "707 0.0008441374645109296\n",
      "708 0.0008441244864857809\n",
      "709 0.0008441115556591099\n",
      "710 0.0008440986657100166\n",
      "711 0.0008440857969636274\n",
      "712 0.0008440729279121119\n",
      "713 0.0008440600532321296\n",
      "714 0.0008440471876527895\n",
      "715 0.0008440343524716139\n",
      "716 0.0008440215628480168\n",
      "717 0.0008440088246671792\n",
      "718 0.0008439961319919365\n",
      "719 0.0008439834649180379\n",
      "720 0.0008439708008087046\n",
      "721 0.0008439581341456876\n",
      "722 0.000843945480808869\n",
      "723 0.0008439328626251935\n",
      "724 0.0008439202942719077\n",
      "725 0.0008439077813602881\n",
      "726 0.000843895317603527\n",
      "727 0.0008438828820711127\n",
      "728 0.0008438704515030523\n",
      "729 0.0008438580210710668\n",
      "730 0.000843845607863826\n",
      "731 0.0008438332341090507\n",
      "732 0.0008438209138358137\n",
      "733 0.0008438086519304745\n",
      "734 0.0008437964415364705\n",
      "735 0.0008437842604715308\n",
      "736 0.0008437720846513037\n",
      "737 0.0008437599109641347\n",
      "738 0.0008437477590613535\n",
      "739 0.0008437356513595936\n",
      "740 0.0008437236005623998\n",
      "741 0.0008437116106445166\n",
      "742 0.0008436996732311629\n",
      "743 0.0008436877640661276\n",
      "744 0.0008436758592904527\n",
      "745 0.0008436639587665288\n",
      "746 0.0008436520845523935\n",
      "747 0.0008436402586846663\n",
      "748 0.0008436284921087912\n",
      "749 0.0008436167875066052\n",
      "750 0.0008436051347955872\n",
      "751 0.0008435935072630369\n",
      "752 0.0008435818814642572\n",
      "753 0.0008435702618884822\n",
      "754 0.00084355867394664\n",
      "755 0.0008435471384197668\n",
      "756 0.00084353566414398\n",
      "757 0.000843524252452876\n",
      "758 0.0008435128900693736\n",
      "759 0.0008435015474417705\n",
      "760 0.0008434902037853328\n",
      "761 0.0008434788696393246\n",
      "762 0.0008434675728625077\n",
      "763 0.0008434563318464768\n",
      "764 0.0008434451528165476\n",
      "765 0.0008434340354564249\n",
      "766 0.0008434229628407622\n",
      "767 0.000843411902407008\n",
      "768 0.0008434008376096522\n",
      "769 0.0008433897869787564\n",
      "770 0.0008433787799961391\n",
      "771 0.000843367831210068\n",
      "772 0.0008433569448593574\n",
      "773 0.0008433461183664217\n",
      "774 0.0008433353289896958\n",
      "775 0.0008433245426149906\n",
      "776 0.0008433137507565507\n",
      "777 0.0008433029802449588\n",
      "778 0.0008432922597586389\n",
      "779 0.0008432815988071769\n",
      "780 0.0008432709995832874\n",
      "781 0.0008432604564936826\n",
      "782 0.0008432499400945405\n",
      "783 0.0008432394165066853\n",
      "784 0.0008432288889423416\n",
      "785 0.0008432183922425118\n",
      "786 0.0008432079506488999\n",
      "787 0.0008431975686188248\n",
      "788 0.0008431872477129702\n",
      "789 0.0008431769764179201\n",
      "790 0.0008431667175406715\n",
      "791 0.000843156443065811\n",
      "792 0.0008431461714199256\n",
      "793 0.0008431359419581636\n",
      "794 0.0008431257711472481\n",
      "795 0.0008431156589520865\n",
      "796 0.0008431056060647498\n",
      "797 0.0008430955924245801\n",
      "798 0.0008430855742358224\n",
      "799 0.000843075536049188\n",
      "800 0.000843065513463674\n",
      "801 0.0008430555436412054\n",
      "802 0.0008430456324396467\n",
      "803 0.0008430357792247713\n",
      "804 0.0008430259818499032\n",
      "805 0.00084301620701495\n",
      "806 0.0008430064105012212\n",
      "807 0.0008429965981307862\n",
      "808 0.0008429868190774516\n",
      "809 0.0008429771005918534\n",
      "810 0.0008429674386777071\n",
      "811 0.0008429578344567204\n",
      "812 0.0008429482781334889\n",
      "813 0.0008429387214324689\n",
      "814 0.0008429291304860354\n",
      "815 0.0008429195394802221\n",
      "816 0.0008429100008079502\n",
      "817 0.0008429005233920538\n",
      "818 0.000842891100043372\n",
      "819 0.0008428817344538153\n",
      "820 0.000842872399684789\n",
      "821 0.0008428630379278073\n",
      "822 0.0008428536420111271\n",
      "823 0.0008428442720810759\n",
      "824 0.0008428349684858043\n",
      "825 0.0008428257215461704\n",
      "826 0.0008428165288507865\n",
      "827 0.000842807389900577\n",
      "828 0.0008427982529448173\n",
      "829 0.0008427890665335953\n",
      "830 0.0008427798659926628\n",
      "831 0.000842770722016114\n",
      "832 0.0008427616456040901\n",
      "833 0.0008427526194145274\n",
      "834 0.000842743651401109\n",
      "835 0.0008427347201375593\n",
      "836 0.0008427257530164591\n",
      "837 0.0008427167330391311\n",
      "838 0.0008427077374119915\n",
      "839 0.0008426988194877863\n",
      "840 0.0008426899588936716\n",
      "841 0.0008426811487125133\n",
      "842 0.0008426723977873141\n",
      "843 0.0008426636463188949\n",
      "844 0.0008426548253039368\n",
      "845 0.0008426459807718583\n",
      "846 0.0008426372062002914\n",
      "847 0.0008426285076912775\n",
      "848 0.0008426198540911106\n",
      "849 0.000842611260759969\n",
      "850 0.0008426027076007738\n",
      "851 0.0008425941004803268\n",
      "852 0.0008425854215419491\n",
      "853 0.0008425767779684755\n",
      "854 0.0008425682379813044\n",
      "855 0.000842559784224889\n",
      "856 0.0008425513754086878\n",
      "857 0.000842543035851262\n",
      "858 0.0008425346839866443\n",
      "859 0.0008425262274783888\n",
      "860 0.0008425177387855911\n",
      "861 0.0008425093349122364\n",
      "862 0.0008425010286823853\n",
      "863 0.0008424927605002836\n",
      "864 0.0008424845620105756\n",
      "865 0.0008424764159693719\n",
      "866 0.0008424681886139443\n",
      "867 0.0008424598728353619\n",
      "868 0.0008424516404001291\n",
      "869 0.0008424435068326338\n",
      "870 0.0008424354114400845\n",
      "871 0.0008424273812979488\n",
      "872 0.000842419440918544\n",
      "873 0.000842411473147195\n",
      "874 0.0008424033730471719\n",
      "875 0.000842395265425143\n",
      "876 0.0008423873215128141\n",
      "877 0.0008423794427277236\n",
      "878 0.0008423715832557515\n",
      "879 0.0008423638473364766\n",
      "880 0.000842356120791803\n",
      "881 0.0008423482163734072\n",
      "882 0.0008423402293010647\n",
      "883 0.000842332406349984\n",
      "884 0.0008423246966651703\n",
      "885 0.0008423170232138763\n",
      "886 0.0008423094314308815\n",
      "887 0.0008423019222676934\n",
      "888 0.0008422943230207111\n",
      "889 0.0008422865484382815\n",
      "890 0.0008422788479677014\n",
      "891 0.0008422713756764548\n",
      "892 0.0008422639098036359\n",
      "893 0.0008422564606910513\n",
      "894 0.0008422491322550615\n",
      "895 0.0008422418292794507\n",
      "896 0.0008422342903378536\n",
      "897 0.0008422267372535529\n",
      "898 0.0008422193808111735\n",
      "899 0.0008422121304959512\n",
      "900 0.0008422048961914318\n",
      "901 0.0008421977758290724\n",
      "902 0.0008421906584503339\n",
      "903 0.0008421833416539663\n",
      "904 0.0008421759584700237\n",
      "905 0.0008421687926307935\n",
      "906 0.0008421617381643662\n",
      "907 0.0008421547478557187\n",
      "908 0.0008421478473226107\n",
      "909 0.0008421410411843365\n",
      "910 0.0008421339732235474\n",
      "911 0.00084212670105488\n",
      "912 0.0008421197268864715\n",
      "913 0.0008421129342457866\n",
      "914 0.0008421060633628207\n",
      "915 0.0008420993094879676\n",
      "916 0.0008420927696037008\n",
      "917 0.0008420860866350096\n",
      "918 0.0008420790831576995\n",
      "919 0.0008420722043442958\n",
      "920 0.0008420657175150199\n",
      "921 0.0008420591483311522\n",
      "922 0.0008420525476639293\n",
      "923 0.0008420463094430219\n",
      "924 0.0008420399939699765\n",
      "925 0.0008420331812054669\n",
      "926 0.0008420264320588011\n",
      "927 0.0008420201828940573\n",
      "928 0.0008420138960150357\n",
      "929 0.0008420076050346663\n",
      "930 0.0008420016066246318\n",
      "931 0.0008419956314092549\n",
      "932 0.0008419891228860185\n",
      "933 0.0008419826038986861\n",
      "934 0.0008419765745017159\n",
      "935 0.0008419707505930766\n",
      "936 0.0008419646522789454\n",
      "937 0.000841958874727396\n",
      "938 0.000841953341624039\n",
      "939 0.0008419472986137615\n",
      "940 0.0008419409306420332\n",
      "941 0.0008419352917373549\n",
      "942 0.0008419298018909283\n",
      "943 0.0008419239546933312\n",
      "944 0.0008419184692990818\n",
      "945 0.0008419134831737737\n",
      "946 0.0008419078216245274\n",
      "947 0.0008419017446692952\n",
      "948 0.0008418963410924383\n",
      "949 0.0008418912924391469\n",
      "950 0.0008418859154789303\n",
      "951 0.0008418808155145694\n",
      "952 0.0008418762852317413\n",
      "953 0.0008418711430317141\n",
      "954 0.0008418653521190256\n",
      "955 0.0008418602679275432\n",
      "956 0.0008418559446999142\n",
      "957 0.0008418510111780338\n"
     ]
    },
    {
     "name": "stdout",
     "output_type": "stream",
     "text": [
      "958 0.0008418461908844117\n",
      "959 0.0008418422459200529\n",
      "960 0.0008418378248604092\n",
      "961 0.0008418323780736525\n",
      "962 0.0008418278325874237\n",
      "963 0.0008418240894780347\n",
      "964 0.000841819631081326\n",
      "965 0.0008418152885066204\n",
      "966 0.000841812142206485\n",
      "967 0.0008418084429180426\n",
      "968 0.0008418034621036837\n",
      "969 0.0008417993788576152\n",
      "970 0.0008417963945565404\n",
      "971 0.0008417927956505917\n",
      "972 0.0008417890017689127\n",
      "973 0.0008417866150648187\n",
      "974 0.0008417837927209679\n",
      "975 0.0008417794537407939\n",
      "976 0.0008417759910485284\n",
      "977 0.0008417740869566328\n",
      "978 0.0008417712234397154\n",
      "979 0.0008417680143035798\n",
      "980 0.0008417668199879885\n",
      "981 0.0008417652834567807\n",
      "982 0.000841761790130516\n",
      "983 0.0008417591711657321\n",
      "984 0.0008417585014253951\n",
      "985 0.0008417568511603853\n",
      "986 0.0008417545803338401\n",
      "987 0.0008417546263250533\n",
      "988 0.0008417544898863727\n",
      "989 0.0008417519801950071\n",
      "990 0.000841750513132068\n",
      "991 0.0008417514786244781\n",
      "992 0.0008417509134624163\n",
      "993 0.0008417497155812438\n",
      "994 0.000841751570535354\n",
      "995 0.0008417533785293067\n",
      "996 0.0008417517972616197\n",
      "997 0.0008417515982741928\n",
      "998 0.0008417549576792601\n",
      "999 0.0008417562831576041\n",
      "1000 0.0008417562308260761\n",
      "1001 0.0008417601543463937\n",
      "1002 0.0008417642245701283\n",
      "1003 0.0008417642983507042\n",
      "1004 0.0008417659812101486\n",
      "1005 0.0008417719805979471\n",
      "1006 0.0008417756691253964\n",
      "1007 0.0008417773479130882\n",
      "1008 0.000841784152342555\n",
      "1009 0.0008417911800883079\n",
      "1010 0.0008417929779902168\n",
      "1011 0.0008417971143170182\n",
      "1012 0.0008418068155034792\n",
      "1013 0.0008418129924465697\n",
      "1014 0.0008418166511805265\n",
      "1015 0.000841827540225079\n",
      "1016 0.0008418386275750896\n",
      "1017 0.0008418421224798021\n",
      "1018 0.0008418492751516471\n",
      "1019 0.0008418643458057107\n",
      "1020 0.0008418742342398105\n",
      "1021 0.0008418798473399726\n",
      "1022 0.0008418960378595274\n",
      "1023 0.0008419124877708907\n",
      "1024 0.0008419182446294538\n",
      "1025 0.0008419299034777743\n",
      "1026 0.000841952068284709\n",
      "1027 0.000841966129863175\n",
      "1028 0.0008419741095428592\n",
      "1029 0.0008419984362155315\n",
      "1030 0.0008420224595159504\n",
      "1031 0.0008420291076049332\n",
      "1032 0.0008420474580627246\n",
      "1033 0.0008420804688582408\n",
      "1034 0.0008420985263393578\n",
      "1035 0.0008421097721006625\n",
      "1036 0.0008421457383211555\n",
      "1037 0.0008421797365762883\n",
      "1038 0.0008421853974517394\n",
      "1039 0.0008422152366748988\n",
      "1040 0.000842263794939801\n",
      "1041 0.0008422826572058166\n",
      "1042 0.0008422999287288127\n",
      "1043 0.0008423547951924485\n",
      "1044 0.0008424004152084297\n",
      "1045 0.0008424012591222934\n",
      "1046 0.0008424507890947549\n",
      "1047 0.0008425241634936763\n",
      "1048 0.0008425336073032389\n",
      "1049 0.0008425651641099501\n",
      "1050 0.0008426509320299013\n",
      "1051 0.0008427029842470077\n",
      "1052 0.0008426988759996206\n",
      "1053 0.0008427806023905748\n",
      "1054 0.0008428907036055957\n",
      "1055 0.0008428698993938008\n",
      "1056 0.0008429342657344076\n",
      "1057 0.0008430748845539417\n",
      "1058 0.00084310160753824\n",
      "1059 0.0008431114302477929\n",
      "1060 0.0008432488502255266\n",
      "1061 0.0008433954752914009\n",
      "1062 0.0008433277825415836\n",
      "1063 0.0008434497420110667\n",
      "1064 0.0008441043843509333\n",
      "1065 0.0008436200502597341\n",
      "1066 0.0008438492681341693\n",
      "1067 0.0008443262420458589\n",
      "1068 0.0008441114943663434\n",
      "1069 0.0008440040979938552\n",
      "1070 0.0008443808783571825\n",
      "1071 0.000845151749431042\n",
      "1072 0.0008441207062364159\n",
      "1073 0.0008445608928055187\n",
      "1074 0.0008453251827948735\n",
      "1075 0.0008441032953894821\n",
      "1076 0.0008441508139779294\n",
      "1077 0.0008447709597434924\n",
      "1078 0.000843799851383733\n",
      "1079 0.0008435927504544663\n",
      "1080 0.000843942099435141\n",
      "1081 0.0008433863970723898\n",
      "1082 0.000843043175744987\n",
      "1083 0.0008431847530704612\n",
      "1084 0.0008429387076311856\n",
      "1085 0.0008425807159170074\n",
      "1086 0.0008426212084418941\n",
      "1087 0.0008425239104835999\n",
      "1088 0.0008422145518045088\n",
      "1089 0.0008421975190808496\n",
      "1090 0.0008421690824235935\n",
      "1091 0.0008419416963115256\n",
      "1092 0.0008418950260977477\n",
      "1093 0.0008418916557998958\n",
      "1094 0.000841734758199098\n",
      "1095 0.0008416760589069504\n",
      "1096 0.0008416858191824016\n",
      "1097 0.0008415876529555951\n",
      "1098 0.0008415263452567327\n",
      "1099 0.0008415357862576576\n",
      "1100 0.0008414775620341757\n",
      "1101 0.0008414242560732328\n",
      "1102 0.0008414318627381269\n",
      "1103 0.0008413992957651352\n",
      "1104 0.0008413555985766945\n",
      "1105 0.000841358279395791\n",
      "1106 0.0008413405190872036\n",
      "1107 0.0008413072171703745\n",
      "1108 0.0008413075216078723\n",
      "1109 0.0008412992855908436\n",
      "1110 0.0008412738244326813\n",
      "1111 0.000841270984199593\n",
      "1112 0.0008412674503362617\n",
      "1113 0.0008412481874466466\n",
      "1114 0.0008412438146458355\n",
      "1115 0.0008412423970442488\n",
      "1116 0.0008412292360674662\n",
      "1117 0.0008412252671840539\n",
      "1118 0.0008412238871411555\n",
      "1119 0.0008412143981090167\n",
      "1120 0.0008412108701341158\n",
      "1121 0.0008412096441600137\n",
      "1122 0.0008412032335673371\n",
      "1123 0.0008412004087217467\n",
      "1124 0.00084119888528288\n",
      "1125 0.0008411941449593588\n",
      "1126 0.0008411908938782182\n",
      "1127 0.0008411885698719558\n",
      "1128 0.0008411866918717652\n",
      "1129 0.0008411849868903379\n",
      "1130 0.0008411812596175434\n",
      "1131 0.0008411795452003282\n",
      "1132 0.0008411786089827915\n",
      "1133 0.0008411748189743089\n",
      "1134 0.0008411744933906665\n",
      "1135 0.0008411749945925401\n",
      "1136 0.0008411711913792852\n",
      "1137 0.0008411712954590475\n",
      "1138 0.0008411711297178842\n",
      "1139 0.000841166417987138\n",
      "1140 0.000841169070848286\n",
      "1141 0.0008411701187717816\n",
      "1142 0.0008411640115320974\n",
      "1143 0.0008411661516503761\n",
      "1144 0.0008411667538146563\n",
      "1145 0.0008411607682318139\n",
      "1146 0.0008411642817715739\n",
      "1147 0.0008411656216220697\n",
      "1148 0.0008411596776046077\n",
      "1149 0.0008411636142516779\n",
      "1150 0.0008411636179315888\n",
      "1151 0.0008411574665377781\n",
      "1152 0.0008411648782790798\n",
      "1153 0.0008411654151588994\n",
      "1154 0.0008411582614614402\n",
      "1155 0.0008411654316605995\n",
      "1156 0.0008411645133104261\n",
      "1157 0.000841158276488866\n",
      "1158 0.0008411667931793814\n",
      "1159 0.000841164983049046\n",
      "1160 0.0008411591475661516\n",
      "1161 0.000841167492826058\n",
      "1162 0.0008411633830214683\n",
      "1163 0.0008411585037885265\n",
      "1164 0.0008411701128611582\n",
      "1165 0.0008411654728058699\n",
      "1166 0.0008411609929196901\n",
      "1167 0.0008411722688607732\n",
      "1168 0.000841166142766938\n",
      "1169 0.0008411648126129624\n",
      "1170 0.0008411765364620463\n",
      "1171 0.0008411682637058913\n",
      "1172 0.0008411688195960604\n",
      "1173 0.0008411784437879963\n",
      "1174 0.0008411672334507153\n",
      "1175 0.0008411704840873787\n",
      "1176 0.0008411807763222948\n",
      "1177 0.0008411682261140049\n",
      "1178 0.0008411730169274108\n",
      "1179 0.0008411809093337071\n",
      "1180 0.0008411684095787792\n",
      "1181 0.0008411786709091239\n",
      "1182 0.0008411846983056141\n",
      "1183 0.0008411713374405048\n",
      "1184 0.0008411846196162396\n",
      "1185 0.0008411864658768489\n",
      "1186 0.0008411731637731392\n",
      "1187 0.0008411892183508326\n",
      "1188 0.0008411879764624183\n",
      "1189 0.0008411754561321104\n",
      "1190 0.0008411903560950904\n",
      "1191 0.0008411839423359605\n",
      "1192 0.0008411759534108152\n",
      "1193 0.0008411933825061655\n",
      "1194 0.0008411828569853801\n",
      "1195 0.00084117826340461\n",
      "1196 0.0008411956073125206\n",
      "1197 0.0008411816828058538\n",
      "1198 0.00084118355171424\n",
      "1199 0.000841199548668414\n",
      "1200 0.0008411829883877239\n",
      "1201 0.0008411897167016964\n",
      "1202 0.0008411986588691346\n",
      "1203 0.0008411794698800162\n",
      "1204 0.0008411931362465718\n",
      "1205 0.0008411970654215409\n",
      "1206 0.0008411767042950137\n",
      "1207 0.0008411921521277091\n",
      "1208 0.0008411908152172645\n",
      "1209 0.0008411743303078141\n",
      "1210 0.000841194154892942\n",
      "1211 0.000841187431957891\n",
      "1212 0.0008411767296083494\n",
      "1213 0.0008411970219205621\n",
      "1214 0.0008411825205410358\n",
      "1215 0.0008411797820278661\n",
      "1216 0.0008411992073885413\n",
      "1217 0.0008411789735836155\n",
      "1218 0.0008411815415522951\n",
      "1219 0.0008411918212814448\n",
      "1220 0.0008411697230228405\n",
      "1221 0.0008411801905172794\n",
      "1222 0.0008411836835501838\n",
      "1223 0.0008411612827014703\n",
      "1224 0.0008411774076102455\n",
      "1225 0.0008411744737546875\n",
      "1226 0.0008411562211579515\n",
      "1227 0.0008411782791306843\n",
      "1228 0.0008411693900236834\n",
      "1229 0.0008411585032836729\n",
      "1230 0.0008411777454301763\n",
      "1231 0.0008411590443952396\n",
      "1232 0.000841159551584313\n",
      "1233 0.0008411729610309404\n",
      "1234 0.0008411483561396631\n",
      "1235 0.0008411539898159026\n",
      "1236 0.0008411585445171101\n",
      "1237 0.0008411347095084522\n",
      "1238 0.0008411472690023743\n",
      "1239 0.0008411454813594283\n",
      "1240 0.0008411269440664772\n",
      "1241 0.0008411444433087935\n",
      "1242 0.0008411351318646896\n",
      "1243 0.0008411241549086389\n",
      "1244 0.0008411470136446396\n",
      "1245 0.0008411280499610824\n",
      "1246 0.0008411278865316232\n",
      "1247 0.0008411379582540038\n",
      "1248 0.0008411179165923551\n",
      "1249 0.0008411233009181577\n",
      "1250 0.0008411263320597398\n",
      "1251 0.0008411021777101819\n",
      "1252 0.0008411164007725226\n",
      "1253 0.0008411071078478831\n",
      "1254 0.0008410950547179636\n",
      "1255 0.0008411078817391211\n",
      "1256 0.0008411041575723724\n",
      "1257 0.0008410926294549356\n",
      "1258 0.000841116077758818\n",
      "1259 0.000841092962346295\n",
      "1260 0.0008411097560291947\n",
      "1261 0.0008411100852775454\n",
      "1262 0.0008411019117249663\n",
      "1263 0.0008411014342033377\n",
      "1264 0.0008411119753326048\n"
     ]
    },
    {
     "name": "stdout",
     "output_type": "stream",
     "text": [
      "1265 0.0008410830503981959\n",
      "1266 0.0008411103901564682\n",
      "1267 0.0008410828543903147\n",
      "1268 0.0008410955932901957\n",
      "1269 0.0008410847995703738\n",
      "1270 0.0008410960348202497\n",
      "1271 0.0008410726021554575\n",
      "1272 0.0008411131720642483\n",
      "1273 0.0008410690491728713\n",
      "1274 0.0008411101745768277\n",
      "1275 0.000841076023795137\n",
      "1276 0.000841099170985293\n",
      "1277 0.0008410700548307199\n",
      "1278 0.0008410942971480334\n",
      "1279 0.0008410396384989747\n",
      "1280 0.0008410801544641087\n",
      "1281 0.0008410141885818309\n",
      "1282 0.0008410437795493481\n",
      "1283 0.0008410483983913905\n",
      "1284 0.0008410526716982396\n",
      "1285 0.0008410817542935308\n",
      "1286 0.0008410845677036727\n",
      "1287 0.0008411234775615211\n",
      "1288 0.0008411144402880561\n",
      "1289 0.0008412053270396041\n",
      "1290 0.0008412359383851794\n",
      "1291 0.0008415480985591778\n",
      "1292 0.0008415692866787336\n",
      "1293 0.00084232459618529\n",
      "1294 0.0008422290986844781\n",
      "1295 0.0008435224610585473\n",
      "1296 0.0008432617565390973\n",
      "1297 0.0008439768000223348\n",
      "1298 0.0008460149508859064\n",
      "1299 0.000842768320797212\n",
      "1300 0.000845658924043242\n",
      "1301 0.0008470807026256042\n",
      "1302 0.0008430453068788519\n",
      "1303 0.0008447866506193255\n",
      "1304 0.0008468466181507957\n",
      "1305 0.0008447444851271223\n",
      "1306 0.0008433367026495163\n",
      "1307 0.0008452461456404946\n",
      "1308 0.0008458623268552788\n",
      "1309 0.0008443673330405055\n",
      "1310 0.0008427579635437012\n",
      "1311 0.0008445535296787079\n",
      "1312 0.0008450523410872315\n",
      "1313 0.0008436001792826014\n",
      "1314 0.0008426393135684695\n",
      "1315 0.0008435724845128966\n",
      "1316 0.0008442999917308631\n",
      "1317 0.0008431854983136471\n",
      "1318 0.0008422971177378328\n",
      "1319 0.0008426729015738294\n",
      "1320 0.0008432504679440451\n",
      "1321 0.0008428007929420949\n",
      "1322 0.0008420099559143263\n",
      "1323 0.0008420056439414383\n",
      "1324 0.000842412894755986\n",
      "1325 0.0008423405316410221\n",
      "1326 0.0008418719540439702\n",
      "1327 0.0008415969641682438\n",
      "1328 0.0008417870856578788\n",
      "1329 0.000841933736224615\n",
      "1330 0.0008416604479297907\n",
      "1331 0.0008413857711092046\n",
      "1332 0.0008414126757031265\n",
      "1333 0.0008415233710244647\n",
      "1334 0.0008414706879400727\n",
      "1335 0.000841258372772946\n",
      "1336 0.0008411528105723425\n",
      "1337 0.0008412389367134111\n",
      "1338 0.0008412610066518345\n",
      "1339 0.0008411459872395147\n",
      "1340 0.0008410416258374363\n",
      "1341 0.0008410345195090501\n",
      "1342 0.0008410818911760334\n",
      "1343 0.0008410502413360845\n",
      "1344 0.0008409431397890577\n",
      "1345 0.0008409087002496604\n",
      "1346 0.0008409401302780875\n",
      "1347 0.0008409375955862389\n",
      "1348 0.0008408887124184624\n",
      "1349 0.000840838144890071\n",
      "1350 0.0008408318656105279\n",
      "1351 0.0008408463425081193\n",
      "1352 0.0008408209427295416\n",
      "1353 0.0008407760677662889\n",
      "1354 0.0008407595839199624\n",
      "1355 0.0008407653061064999\n",
      "1356 0.0008407688041538508\n",
      "1357 0.0008407441030832467\n",
      "1358 0.0008407160074173418\n",
      "1359 0.000840713506399058\n",
      "1360 0.0008407186327352293\n",
      "1361 0.0008407033089721525\n",
      "1362 0.0008406827028243447\n",
      "1363 0.0008406730843815607\n",
      "1364 0.0008406770994872315\n",
      "1365 0.0008406756402143845\n",
      "1366 0.00084065810212502\n",
      "1367 0.0008406441682343602\n",
      "1368 0.0008406439013857092\n",
      "1369 0.0008406412436926359\n",
      "1370 0.0008406311931492289\n",
      "1371 0.0008406217782694546\n",
      "1372 0.0008406201891543603\n",
      "1373 0.0008406201170420106\n",
      "1374 0.0008406156208858297\n",
      "1375 0.0008406079441719665\n",
      "1376 0.0008406028497049724\n",
      "1377 0.000840598118673622\n",
      "1378 0.0008405962743466463\n",
      "1379 0.0008405926192303572\n",
      "1380 0.0008405881845467364\n",
      "1381 0.0008405848735977476\n",
      "1382 0.000840583402628384\n",
      "1383 0.0008405802626072643\n",
      "1384 0.0008405756106397974\n",
      "1385 0.0008405707277490332\n",
      "1386 0.0008405701337812433\n",
      "1387 0.000840569548187371\n",
      "1388 0.0008405656203707958\n",
      "1389 0.0008405622764698763\n",
      "1390 0.0008405615268716811\n",
      "1391 0.0008405600105496683\n",
      "1392 0.0008405577597546964\n",
      "1393 0.0008405554515136214\n",
      "1394 0.0008405522160945649\n",
      "1395 0.0008405508517496811\n",
      "1396 0.00084054847252742\n",
      "1397 0.0008405468031970092\n",
      "1398 0.0008405449584088143\n",
      "1399 0.00084054318682802\n",
      "1400 0.0008405422945410166\n",
      "1401 0.000840540248193625\n",
      "1402 0.0008405385652833293\n",
      "1403 0.0008405358978955143\n",
      "1404 0.0008405349285056096\n",
      "1405 0.0008405351232513708\n",
      "1406 0.0008405338065782688\n",
      "1407 0.000840530390141492\n",
      "1408 0.0008405301172940954\n",
      "1409 0.0008405301216658405\n",
      "1410 0.0008405277879309167\n",
      "1411 0.0008405250253823007\n",
      "1412 0.0008405246021144053\n",
      "1413 0.0008405234573271737\n",
      "1414 0.0008405221633310401\n",
      "1415 0.000840520814201531\n",
      "1416 0.0008405188813480093\n",
      "1417 0.0008405183679032178\n",
      "1418 0.0008405174001610882\n",
      "1419 0.0008405153326648215\n",
      "1420 0.000840514716073273\n",
      "1421 0.0008405143741367844\n",
      "1422 0.0008405130220494444\n",
      "1423 0.0008405104244424203\n",
      "1424 0.0008405100617604437\n",
      "1425 0.0008405084811149385\n",
      "1426 0.0008405082259920784\n",
      "1427 0.0008405067811593493\n",
      "1428 0.0008405054099798304\n",
      "1429 0.0008405043597114525\n",
      "1430 0.0008405041674401644\n",
      "1431 0.0008405024505940098\n",
      "1432 0.0008405011240287403\n",
      "1433 0.0008405000634941135\n",
      "1434 0.0008404988798396965\n",
      "1435 0.0008404982614028041\n",
      "1436 0.0008404976844567783\n",
      "1437 0.0008404962677613809\n",
      "1438 0.00084049496737386\n",
      "1439 0.0008404948357981793\n",
      "1440 0.0008404931449846163\n",
      "1441 0.0008404926567681458\n",
      "1442 0.0008404921970446241\n",
      "1443 0.0008404911727989338\n",
      "1444 0.0008404895494370987\n",
      "1445 0.0008404891140404554\n",
      "1446 0.0008404877222887592\n",
      "1447 0.0008404869638323442\n",
      "1448 0.0008404864099516742\n",
      "1449 0.0008404849102698412\n",
      "1450 0.0008404842824595098\n",
      "1451 0.0008404841731127361\n",
      "1452 0.0008404830975665547\n",
      "1453 0.0008404819848177019\n",
      "1454 0.0008404815118346785\n",
      "1455 0.0008404800816607806\n",
      "1456 0.0008404793067366681\n",
      "1457 0.0008404788666835406\n",
      "1458 0.0008404776554054617\n",
      "1459 0.000840476666589496\n",
      "1460 0.0008404765013845563\n",
      "1461 0.0008404752104000908\n",
      "1462 0.0008404746440526497\n",
      "1463 0.000840474363261059\n",
      "1464 0.0008404730878978515\n",
      "1465 0.0008404720793376443\n",
      "1466 0.0008404718184609703\n",
      "1467 0.0008404707455651401\n",
      "1468 0.000840470196130399\n",
      "1469 0.0008404699469637879\n",
      "1470 0.0008404686463465403\n",
      "1471 0.0008404677623354095\n",
      "1472 0.0008404674327615441\n",
      "1473 0.0008404663375535927\n",
      "1474 0.0008404656901110473\n",
      "1475 0.0008404655062612679\n",
      "1476 0.0008404642643186609\n",
      "1477 0.000840463643579931\n",
      "1478 0.0008404635464268644\n",
      "1479 0.0008404624514151196\n",
      "1480 0.0008404616175014123\n",
      "1481 0.0008404614937818468\n",
      "1482 0.0008404604094258231\n",
      "1483 0.000840459819096953\n",
      "1484 0.0008404594468155201\n",
      "1485 0.000840458300441308\n",
      "1486 0.0008404575500820565\n",
      "1487 0.0008404575334263143\n",
      "1488 0.0008404565274048297\n",
      "1489 0.000840455993596\n",
      "1490 0.0008404558889961406\n",
      "1491 0.0008404547858731684\n",
      "1492 0.0008404542487746714\n",
      "1493 0.0008404541702799257\n",
      "1494 0.0008404531456508829\n",
      "1495 0.0008404524712076194\n",
      "1496 0.0008404523764859911\n",
      "1497 0.0008404512507623847\n",
      "1498 0.0008404506342123337\n",
      "1499 0.000840450527849289\n",
      "1500 0.0008404495677623035\n",
      "1501 0.0008404490256553215\n",
      "1502 0.0008404490397440805\n",
      "1503 0.0008404481494394628\n",
      "1504 0.0008404477563868457\n",
      "1505 0.0008404478435424349\n",
      "1506 0.0008404467964165781\n",
      "1507 0.0008404461834844272\n",
      "1508 0.0008404461280817229\n",
      "1509 0.0008404451366602178\n",
      "1510 0.0008404445670957674\n",
      "1511 0.0008404445616269941\n",
      "1512 0.0008404436971001794\n",
      "1513 0.0008404433036822384\n",
      "1514 0.000840443421788256\n",
      "1515 0.0008404425451321546\n",
      "1516 0.0008404421471165592\n",
      "1517 0.0008404423032206854\n",
      "1518 0.0008404415022544239\n",
      "1519 0.0008404411263386354\n",
      "1520 0.0008404413119530533\n",
      "1521 0.0008404403788528621\n",
      "1522 0.0008404398114410458\n",
      "1523 0.0008404397341933263\n",
      "1524 0.0008404388616072495\n",
      "1525 0.0008404386011311972\n",
      "1526 0.0008404389027130815\n",
      "1527 0.0008404382614847172\n",
      "1528 0.0008404380301424731\n",
      "1529 0.0008404383240416908\n",
      "1530 0.0008404375642597152\n",
      "1531 0.0008404372592007275\n",
      "1532 0.0008404375739802502\n",
      "1533 0.0008404368955201737\n",
      "1534 0.0008404365819618755\n",
      "1535 0.000840436691725958\n",
      "1536 0.0008404358167672764\n",
      "1537 0.0008404355538471755\n",
      "1538 0.0008404359524839713\n",
      "1539 0.0008404354646590646\n",
      "1540 0.0008404354618882182\n",
      "1541 0.0008404359448763727\n",
      "1542 0.0008404354167518268\n",
      "1543 0.0008404352661768626\n",
      "1544 0.0008404358230434843\n",
      "1545 0.0008404353861664649\n",
      "1546 0.0008404352644984993\n",
      "1547 0.0008404355226221405\n",
      "1548 0.0008404347743676398\n",
      "1549 0.0008404346165496823\n",
      "1550 0.0008404351296773287\n",
      "1551 0.0008404348719929425\n",
      "1552 0.0008404351604440444\n",
      "1553 0.0008404359735269656\n",
      "1554 0.0008404356443181203\n",
      "1555 0.0008404357257560719\n",
      "1556 0.0008404364793488647\n",
      "1557 0.0008404362946336638\n",
      "1558 0.0008404365142710191\n",
      "1559 0.0008404372386407227\n",
      "1560 0.0008404367579362187\n",
      "1561 0.0008404366328510446\n",
      "1562 0.0008404372523587294\n",
      "1563 0.0008404372585910736\n",
      "1564 0.0008404379607122418\n",
      "1565 0.0008404391209249186\n",
      "1566 0.0008404392172354528\n",
      "1567 0.0008404396115972062\n",
      "1568 0.0008404406969737113\n",
      "1569 0.0008404408269351872\n"
     ]
    },
    {
     "name": "stdout",
     "output_type": "stream",
     "text": [
      "1570 0.0008404415735025826\n",
      "1571 0.0008404428172389206\n",
      "1572 0.0008404427170474213\n",
      "1573 0.0008404428869709264\n",
      "1574 0.0008404437211691045\n",
      "1575 0.0008404439766555021\n",
      "1576 0.0008404451122302082\n",
      "1577 0.0008404468862764824\n",
      "1578 0.0008404476017209882\n",
      "1579 0.0008404485387718536\n",
      "1580 0.0008404500080456815\n",
      "1581 0.0008404506040454023\n",
      "1582 0.0008404518349105293\n",
      "1583 0.0008404539053433413\n",
      "1584 0.0008404545677394115\n",
      "1585 0.0008404553622584733\n",
      "1586 0.0008404564901352152\n",
      "1587 0.00084045700416403\n",
      "1588 0.0008404586193947723\n",
      "1589 0.0008404612796986865\n",
      "1590 0.0008404630377958781\n",
      "1591 0.0008404648299555024\n",
      "1592 0.0008404669179968064\n",
      "1593 0.0008404681073657888\n",
      "1594 0.0008404701493368483\n",
      "1595 0.0008404731230573362\n",
      "1596 0.0008404748934641357\n",
      "1597 0.0008404766133712034\n",
      "1598 0.0008404786344321483\n",
      "1599 0.0008404796923428675\n",
      "1600 0.0008404820005231368\n",
      "1601 0.0008404856123365832\n",
      "1602 0.0008404887194082182\n",
      "1603 0.0008404919580029851\n",
      "1604 0.0008404951008390527\n",
      "1605 0.0008404970951905532\n",
      "1606 0.0008405001339254275\n",
      "1607 0.000840504630082125\n",
      "1608 0.0008405080626448731\n",
      "1609 0.0008405113691595659\n",
      "1610 0.000840514688472365\n",
      "1611 0.0008405166606084894\n",
      "1612 0.0008405198970092866\n",
      "1613 0.0008405248232173444\n",
      "1614 0.0008405297330259497\n",
      "1615 0.0008405351995194112\n",
      "1616 0.0008405404156235418\n",
      "1617 0.0008405439917898721\n",
      "1618 0.0008405482032787198\n",
      "1619 0.0008405543704214482\n",
      "1620 0.0008405603358291661\n",
      "1621 0.0008405663118175417\n",
      "1622 0.0008405717527229653\n",
      "1623 0.0008405753526757235\n",
      "1624 0.0008405802097449178\n",
      "1625 0.0008405871593366241\n",
      "1626 0.000840594656130055\n",
      "1627 0.0008406031545841277\n",
      "1628 0.0008406115173084921\n",
      "1629 0.0008406175307817632\n",
      "1630 0.0008406240024842024\n",
      "1631 0.0008406327583138073\n",
      "1632 0.0008406421182357636\n",
      "1633 0.0008406516707160367\n",
      "1634 0.000840660887907853\n",
      "1635 0.0008406676059033385\n",
      "1636 0.000840674755645217\n",
      "1637 0.0008406843517444483\n",
      "1638 0.000840695791330487\n",
      "1639 0.000840709371589938\n",
      "1640 0.0008407221668121637\n",
      "1641 0.0008407323217230647\n",
      "1642 0.0008407421239647387\n",
      "1643 0.0008407547086747028\n",
      "1644 0.0008407685570445716\n",
      "1645 0.0008407841730258444\n",
      "1646 0.0008407993024076515\n",
      "1647 0.0008408108236968965\n",
      "1648 0.0008408221832386721\n",
      "1649 0.0008408361685467545\n",
      "1650 0.0008408529370552591\n",
      "1651 0.000840873452363178\n",
      "1652 0.0008408940465649364\n",
      "1653 0.0008409111105600903\n",
      "1654 0.0008409268973146975\n",
      "1655 0.0008409448731926158\n",
      "1656 0.0008409655966650371\n",
      "1657 0.0008409892232052209\n",
      "1658 0.0008410135858345134\n",
      "1659 0.0008410340014120643\n",
      "1660 0.0008410522079704452\n",
      "1661 0.000841072931697815\n",
      "1662 0.0008410977933701245\n",
      "1663 0.0008411288149309118\n",
      "1664 0.000841160719789958\n",
      "1665 0.0008411890242705892\n",
      "1666 0.0008412143953285784\n",
      "1667 0.0008412416072455141\n",
      "1668 0.0008412720078445661\n",
      "1669 0.0008413081026387445\n",
      "1670 0.0008413462782444549\n",
      "1671 0.0008413805207425204\n",
      "1672 0.0008414112633348477\n",
      "1673 0.0008414431897436398\n",
      "1674 0.0008414801045473193\n",
      "1675 0.0008415260513878722\n",
      "1676 0.0008415756012727117\n",
      "1677 0.0008416222228572019\n",
      "1678 0.0008416646035204043\n",
      "1679 0.0008417065382980217\n",
      "1680 0.0008417515137702842\n",
      "1681 0.0008418046625196778\n",
      "1682 0.0008418637778521488\n",
      "1683 0.0008419209189056219\n",
      "1684 0.0008419735137952434\n",
      "1685 0.0008420248785754021\n",
      "1686 0.0008420798790359306\n",
      "1687 0.0008421464286250916\n",
      "1688 0.0008422218186933046\n",
      "1689 0.0008422984568620776\n",
      "1690 0.0008423703054468094\n",
      "1691 0.0008424378434862367\n",
      "1692 0.0008425045775376166\n",
      "1693 0.0008425812605294255\n",
      "1694 0.0008426705654137916\n",
      "1695 0.0008427649290465718\n",
      "1696 0.0008428572038980291\n",
      "1697 0.0008429431197081326\n",
      "1698 0.0008430249851277042\n",
      "1699 0.0008431193906178328\n",
      "1700 0.0008432322216245291\n",
      "1701 0.0008433574137816499\n",
      "1702 0.0008434823672616367\n",
      "1703 0.0008435960763765176\n",
      "1704 0.000843694611793019\n",
      "1705 0.0008437996784696354\n",
      "1706 0.0008439313577801153\n",
      "1707 0.0008440873177330443\n",
      "1708 0.0008442520256321017\n",
      "1709 0.0008444027404577194\n",
      "1710 0.000844523934292923\n",
      "1711 0.0008446493281420413\n",
      "1712 0.000844813021202681\n",
      "1713 0.0008450190101427994\n",
      "1714 0.0008452431374465668\n",
      "1715 0.0008454463616909007\n",
      "1716 0.0008455877294498509\n",
      "1717 0.0008457154951481553\n",
      "1718 0.0008459007460925522\n",
      "1719 0.0008461607035581748\n",
      "1720 0.000846465747172166\n",
      "1721 0.0008467447867919184\n",
      "1722 0.0008469179748096948\n",
      "1723 0.0008470604206680967\n",
      "1724 0.0008472874547800142\n",
      "1725 0.0008476276528122264\n",
      "1726 0.0008480433704984489\n",
      "1727 0.000848430477375879\n",
      "1728 0.0008486219769086011\n",
      "1729 0.0008487319976220297\n",
      "1730 0.0008489734852285738\n",
      "1731 0.0008494077780208978\n",
      "1732 0.0008499914989652061\n",
      "1733 0.0008505534764308721\n",
      "1734 0.0008507825831558155\n",
      "1735 0.0008508690605044722\n",
      "1736 0.0008511535957269997\n",
      "1737 0.0008517200652976089\n",
      "1738 0.0008525179694236079\n",
      "1739 0.0008533268921746527\n",
      "1740 0.0008535574485721888\n",
      "1741 0.0008534985345358614\n",
      "1742 0.0008537602099258278\n",
      "1743 0.0008544876673950233\n",
      "1744 0.0008556219488422789\n",
      "1745 0.0008568896609027278\n",
      "1746 0.0008571524278249287\n",
      "1747 0.0008569308926225566\n",
      "1748 0.0008572143595709054\n",
      "1749 0.0008581470804230257\n",
      "1750 0.0008596615629347077\n",
      "1751 0.0008615837222820196\n",
      "1752 0.0008618638900655227\n",
      "1753 0.0008611690982228131\n",
      "1754 0.0008612881610668286\n",
      "1755 0.0008624491474883611\n",
      "1756 0.0008645636544389123\n",
      "1757 0.0008677843075043417\n",
      "1758 0.0008683784574626219\n",
      "1759 0.0008670921366419255\n",
      "1760 0.000867087010679062\n",
      "1761 0.0008684700313202733\n",
      "1762 0.0008710580482131927\n",
      "1763 0.0008724488184604536\n",
      "1764 0.0008716353697003306\n",
      "1765 0.0008729743330827585\n",
      "1766 0.0008746176520106379\n",
      "1767 0.0008759544154417391\n",
      "1768 0.0008745437895890322\n",
      "1769 0.0008771227455164686\n",
      "1770 0.0008792045466240827\n",
      "1771 0.0008809357776072486\n",
      "1772 0.0008867518739103472\n",
      "1773 0.0008902830477535573\n",
      "1774 0.000887269377922272\n",
      "1775 0.0008789639830530902\n",
      "1776 0.0008687091355745424\n",
      "1777 0.0008667805149386894\n",
      "1778 0.0008843871554901165\n",
      "1779 0.0008971404004055334\n",
      "1780 0.000891330934407515\n",
      "1781 0.000881684005763606\n",
      "1782 0.0008639963152840097\n",
      "1783 0.0008530109195603068\n",
      "1784 0.0008495212010209817\n",
      "1785 0.0008543386467433546\n",
      "1786 0.0008608384601281794\n",
      "1787 0.0008643514625240621\n",
      "1788 0.0008632389874377472\n",
      "1789 0.0008583682445382729\n",
      "1790 0.0008518328425862192\n",
      "1791 0.0008458476193950894\n",
      "1792 0.0008427584288054175\n",
      "1793 0.0008428447811723152\n",
      "1794 0.0008449945462396538\n",
      "1795 0.0008475829825287086\n",
      "1796 0.0008492405752644793\n",
      "1797 0.0008491946206565075\n",
      "1798 0.0008474944330863098\n",
      "1799 0.0008450108933870458\n",
      "1800 0.0008428610172235919\n",
      "1801 0.0008417383895495199\n",
      "1802 0.0008417260436697809\n",
      "1803 0.0008425274175553637\n",
      "1804 0.0008436164047634719\n",
      "1805 0.0008443985945435704\n",
      "1806 0.0008444984847641074\n",
      "1807 0.0008439654769711118\n",
      "1808 0.0008431008172500977\n",
      "1809 0.0008422421238511234\n",
      "1810 0.0008416691443221059\n",
      "1811 0.0008415360654215509\n",
      "1812 0.0008417757191618049\n",
      "1813 0.000842171291231534\n",
      "1814 0.0008424925231238911\n",
      "1815 0.0008426021588215988\n",
      "1816 0.0008424782726726822\n",
      "1817 0.0008421904687285602\n",
      "1818 0.0008418368406583966\n",
      "1819 0.000841560638743357\n",
      "1820 0.0008414479063331244\n",
      "1821 0.0008414975023183844\n",
      "1822 0.0008416194505929058\n",
      "1823 0.0008417386579049039\n",
      "1824 0.0008417944104755301\n",
      "1825 0.0008417671467048593\n",
      "1826 0.0008416544771579354\n",
      "1827 0.000841502877124378\n",
      "1828 0.0008413655331128556\n",
      "1829 0.0008412907251002261\n",
      "1830 0.000841277751219026\n",
      "1831 0.0008412995138577097\n",
      "1832 0.000841340622639994\n",
      "1833 0.0008413677417821295\n",
      "1834 0.0008413621807460488\n",
      "1835 0.0008413166780201514\n",
      "1836 0.0008412521516068341\n",
      "1837 0.0008411891750345281\n",
      "1838 0.0008411480951439259\n",
      "1839 0.0008411275491982422\n",
      "1840 0.0008411268881397254\n",
      "1841 0.0008411248291027143\n",
      "1842 0.0008411179862777875\n",
      "1843 0.0008411030708917936\n",
      "1844 0.0008410831119758117\n",
      "1845 0.0008410555323304727\n",
      "1846 0.0008410285218904602\n",
      "1847 0.0008410055860345163\n",
      "1848 0.0008409928334476559\n",
      "1849 0.000840984339861105\n",
      "1850 0.0008409778592809759\n",
      "1851 0.0008409674604010077\n",
      "1852 0.0008409567808799679\n",
      "1853 0.0008409434978938801\n",
      "1854 0.0008409280968140443\n",
      "1855 0.0008409102819229136\n",
      "1856 0.0008409002198743037\n",
      "1857 0.0008408911986748276\n",
      "1858 0.0008408856701479622\n",
      "1859 0.0008408748096134497\n",
      "1860 0.0008408632995107509\n",
      "1861 0.0008408554890357223\n",
      "1862 0.000840848138732142\n",
      "1863 0.0008408391408228329\n",
      "1864 0.0008408284811840876\n",
      "1865 0.0008408156292206207\n",
      "1866 0.0008408098148267888\n",
      "1867 0.0008408062045047964\n",
      "1868 0.0008407998749575411\n",
      "1869 0.0008407903447828857\n",
      "1870 0.000840780273924984\n",
      "1871 0.0008407772151380802\n",
      "1872 0.0008407744391256004\n",
      "1873 0.0008407700095129998\n",
      "1874 0.0008407612055752497\n"
     ]
    },
    {
     "name": "stdout",
     "output_type": "stream",
     "text": [
      "1875 0.0008407534442805236\n",
      "1876 0.0008407459366404188\n",
      "1877 0.0008407414772992618\n",
      "1878 0.0008407360184486552\n",
      "1879 0.0008407290480263168\n",
      "1880 0.0008407224462783266\n",
      "1881 0.0008407202491856307\n",
      "1882 0.0008407158517831973\n",
      "1883 0.0008407105449751161\n",
      "1884 0.0008407042104755157\n",
      "1885 0.0008406996718338853\n",
      "1886 0.0008406960642737593\n",
      "1887 0.0008406923538941984\n",
      "1888 0.0008406878640954664\n",
      "1889 0.0008406842772860652\n",
      "1890 0.0008406811922078977\n",
      "1891 0.0008406788427953269\n",
      "1892 0.0008406760761274734\n",
      "1893 0.0008406699365498325\n",
      "1894 0.0008406643647766059\n",
      "1895 0.0008406613609150541\n",
      "1896 0.0008406585888377894\n",
      "1897 0.0008406553462775307\n",
      "1898 0.0008406519391577706\n",
      "1899 0.0008406493108470123\n",
      "1900 0.0008406456813891228\n",
      "1901 0.0008406433280134083\n",
      "1902 0.0008406403600383282\n",
      "1903 0.0008406373269904447\n",
      "1904 0.0008406350026453031\n",
      "1905 0.000840633203823213\n",
      "1906 0.0008406308516515517\n",
      "1907 0.0008406276024180237\n",
      "1908 0.0008406237552529215\n",
      "1909 0.0008406202552025482\n",
      "1910 0.0008406185459941752\n",
      "1911 0.0008406167475005712\n",
      "1912 0.0008406147501176153\n",
      "1913 0.000840612274906082\n",
      "1914 0.000840609757814708\n",
      "1915 0.000840607527033633\n",
      "1916 0.0008406051055896075\n",
      "1917 0.0008406023402828651\n",
      "1918 0.0008405998578639508\n",
      "1919 0.0008405984838682659\n",
      "1920 0.0008405965067631317\n",
      "1921 0.0008405936739377661\n",
      "1922 0.0008405917742785286\n",
      "1923 0.000840590562422412\n",
      "1924 0.0008405888986988269\n",
      "1925 0.0008405871536893065\n",
      "1926 0.0008405855726420352\n",
      "1927 0.0008405830739950784\n",
      "1928 0.0008405806923712405\n",
      "1929 0.0008405789353441457\n",
      "1930 0.0008405772864082049\n",
      "1931 0.0008405753179024238\n",
      "1932 0.0008405731128398419\n",
      "1933 0.0008405712741153623\n",
      "1934 0.0008405699745997461\n",
      "1935 0.000840568534253369\n",
      "1936 0.0008405665505091436\n",
      "1937 0.0008405644970435623\n",
      "1938 0.000840563730364171\n",
      "1939 0.0008405629641667689\n",
      "1940 0.0008405611137754837\n",
      "1941 0.0008405587426610563\n",
      "1942 0.0008405573297015852\n",
      "1943 0.0008405559404760256\n",
      "1944 0.0008405539291647536\n",
      "1945 0.0008405518072589877\n",
      "1946 0.0008405509338627282\n",
      "1947 0.000840549876042328\n",
      "1948 0.0008405482382924878\n",
      "1949 0.0008405461878876581\n",
      "1950 0.0008405450493358651\n",
      "1951 0.000840543957979788\n",
      "1952 0.0008405424595791933\n",
      "1953 0.0008405406344410745\n",
      "1954 0.0008405399076331735\n",
      "1955 0.0008405386390228666\n",
      "1956 0.0008405368501964178\n",
      "1957 0.0008405348363923406\n",
      "1958 0.0008405342985950524\n",
      "1959 0.0008405331454689914\n",
      "1960 0.0008405314890411792\n",
      "1961 0.0008405294782385554\n",
      "1962 0.0008405288635320124\n",
      "1963 0.0008405278842754663\n",
      "1964 0.0008405261433563111\n",
      "1965 0.000840524438196907\n",
      "1966 0.0008405240931706511\n",
      "1967 0.000840522723995955\n",
      "1968 0.0008405209358187257\n",
      "1969 0.0008405188848915276\n",
      "1970 0.0008405182199495339\n",
      "1971 0.0008405174142726186\n",
      "1972 0.0008405163969415203\n",
      "1973 0.000840514489681375\n",
      "1974 0.0008405148296767462\n",
      "1975 0.0008405131491251562\n",
      "1976 0.0008405115723021162\n",
      "1977 0.0008405098624231408\n",
      "1978 0.0008405097869461505\n",
      "1979 0.0008405076231882962\n",
      "1980 0.0008405060398943211\n",
      "1981 0.0008405054531942144\n",
      "1982 0.0008405044313324144\n",
      "1983 0.0008405024051450192\n",
      "1984 0.0008405016317943929\n",
      "1985 0.00084050082832108\n",
      "1986 0.0008404993299629483\n",
      "1987 0.0008404988393310014\n",
      "1988 0.0008404973346055029\n",
      "1989 0.000840495873689581\n",
      "1990 0.0008404952645783302\n",
      "1991 0.0008404942341937974\n",
      "1992 0.0008404933168010066\n",
      "1993 0.0008404916278471478\n",
      "1994 0.0008404917062981449\n",
      "1995 0.0008404904278927317\n",
      "1996 0.0008404888255266004\n",
      "1997 0.0008404879260266271\n",
      "1998 0.0008404882108749663\n",
      "1999 0.0008404872222581031\n",
      "0.0008404872222581031\n"
     ]
    }
   ],
   "source": [
    "np.random.seed(42)\n",
    "random.seed(42)\n",
    "tf.random.set_seed(42)\n",
    "\n",
    "n = 4\n",
    "d = 2**n\n",
    "\n",
    "spam_target = generate_spam_benchmark(n=n, c1=0.8, c2=0.8)\n",
    "inputs_spam, targets_spam = generate_spam_data(spam_target, N_spam=None, noise=1/2**5)\n",
    "\n",
    "spam_model = SPAM(init = InitialState(d, c=None),\n",
    "                  povm = CorruptionMatrix(d, c=None),\n",
    "                  optimizer = tf.optimizers.Adam(learning_rate=0.01))\n",
    "\n",
    "spam_model.pretrain(num_iter = 300,\n",
    "                 verbose = False,\n",
    "                )\n",
    "\n",
    "spam_model.train(inputs = inputs_spam,\n",
    "                 targets = targets_spam,\n",
    "                 num_iter = 2000,\n",
    "                 verbose = True,\n",
    "                )"
   ]
  },
  {
   "cell_type": "code",
   "execution_count": null,
   "metadata": {},
   "outputs": [],
   "source": []
  }
 ],
 "metadata": {
  "kernelspec": {
   "display_name": "env_qiskit",
   "language": "python",
   "name": "env_qiskit"
  },
  "language_info": {
   "codemirror_mode": {
    "name": "ipython",
    "version": 3
   },
   "file_extension": ".py",
   "mimetype": "text/x-python",
   "name": "python",
   "nbconvert_exporter": "python",
   "pygments_lexer": "ipython3",
   "version": "3.10.4"
  }
 },
 "nbformat": 4,
 "nbformat_minor": 4
}
