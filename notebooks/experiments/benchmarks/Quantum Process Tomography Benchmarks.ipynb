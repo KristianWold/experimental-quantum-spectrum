{
 "cells": [
  {
   "cell_type": "markdown",
   "metadata": {},
   "source": [
    "# Numerical Benchmarks"
   ]
  },
  {
   "cell_type": "code",
   "execution_count": 1,
   "metadata": {},
   "outputs": [],
   "source": [
    "import sys\n",
    "sys.path.insert(0, '../../../src_tf/')\n",
    "\n",
    "import numpy as np\n",
    "import qiskit as qk\n",
    "import matplotlib.pyplot as plt\n",
    "import multiprocessing as mp\n",
    "import random\n",
    "import pickle\n",
    "\n",
    "from qiskit.quantum_info import DensityMatrix, random_unitary\n",
    "from qiskit.quantum_info import Operator\n",
    "from scipy.linalg import sqrtm\n",
    "from tqdm.notebook import tqdm\n",
    "\n",
    "from loss_functions import *\n",
    "from optimization import *\n",
    "from quantum_channel import *\n",
    "from kraus_channels import *\n",
    "from quantum_tools import *\n",
    "from experimental import *\n",
    "from spam import *\n",
    "\n",
    "#np.set_printoptions(threshold=sys.maxsize)\n",
    "np.set_printoptions(precision=4)\n",
    "\n",
    "import os\n",
    "os.environ[\"CUDA_VISIBLE_DEVICES\"] = \"-1\""
   ]
  },
  {
   "cell_type": "markdown",
   "metadata": {},
   "source": [
    "## Recover Map\n",
    "\n",
    "### Generate True Model, Full POVM and Inital"
   ]
  },
  {
   "cell_type": "code",
   "execution_count": 14,
   "metadata": {},
   "outputs": [],
   "source": [
    "def generate_spam_benchmark(n=3, c1=1, c2=1):\n",
    "    d = 2**n\n",
    "\n",
    "    init_target = InitialState(d, c=c1)\n",
    "    povm_target = POVM(d, c=c2)\n",
    "\n",
    "    spam_target = SPAM(init = init_target,\n",
    "                       povm = povm_target)\n",
    "    \n",
    "    return spam_target\n",
    "\n",
    "\n",
    "def generate_spam_data(spam_target, N_spam=None, noise=0):\n",
    "    n = int(np.log2(spam_target.d))\n",
    "    inputs_spam, _ = generate_pauliInput_circuits(n)\n",
    "    N_spam = inputs_spam.shape[0]\n",
    "\n",
    "    state = tf.repeat(spam_target.init.init[None,:,:], N_spam, axis=0)\n",
    "    targets_spam = measurement(state, U_basis = inputs_spam, povm = spam_target.povm.povm)\n",
    "\n",
    "    #add noise\n",
    "    targets_spam = add_noise_to_probs(targets_spam, noise=noise)\n",
    "    return inputs_spam, targets_spam\n",
    "\n",
    "\n",
    "def generate_map_data(channel_target, spam_target, N_map=None, noise=0):\n",
    "    n = channel_target.n\n",
    "    inputs_map, _ = generate_pauli_circuits(n = n, \n",
    "                                            circuit_target=None,  \n",
    "                                            trace=False,\n",
    "                                            N=N_map)\n",
    "    U_prep, U_basis = inputs_map\n",
    "\n",
    "    N_map = U_prep.shape[0]\n",
    "    state = tf.repeat(tf.expand_dims(spam_target.init.init, axis=0), N_map, axis=0)\n",
    "    state = apply_unitary(state, U_prep)\n",
    "    state = channel_target.apply_channel(state)\n",
    "    targets_map = measurement(state, U_basis, spam_target.povm.povm)\n",
    "    \n",
    "    #add noise\n",
    "    targets_map = add_noise_to_probs(targets_map, noise=noise)\n",
    "    \n",
    "    return inputs_map, targets_map\n",
    "\n",
    "\n",
    "def model_pipeline(channel_target, noise):\n",
    "    # Make Benchmark\n",
    "    #################################################################################\n",
    "    n = 3\n",
    "    d = 2**n\n",
    "    \n",
    "    spam_target = generate_spam_benchmark(n=n, c1=0.8, c2=0.8)\n",
    "    inputs_spam, targets_spam = generate_spam_data(spam_target, N_spam=None, noise=noise)\n",
    "\n",
    "    inputs_map, targets_map = generate_map_data(channel_target, spam_target, N_map=2000, noise=noise)\n",
    "    #################################################################################\n",
    "\n",
    "    # Fit Models\n",
    "    #################################################################################\n",
    "    spam_model = SPAM(init = InitialState(d, c = None),\n",
    "                      povm = CorruptionMatrix(d, c = None),\n",
    "                      optimizer = tf.optimizers.Adam(learning_rate=0.01))\n",
    "    \n",
    "    spam_model.pretrain(300)\n",
    "\n",
    "    spam_model.train(inputs = inputs_spam,\n",
    "                     targets = targets_spam,\n",
    "                     num_iter = 2000,\n",
    "                     verbose = False,\n",
    "                    )\n",
    "\n",
    "    model = ModelQuantumMap(channel = KrausMap(d = d, \n",
    "                                               rank = d**2,\n",
    "                                               spam = spam_model,\n",
    "                                              ),\n",
    "                            loss_function = ProbabilityMSE(),\n",
    "                            optimizer = tf.optimizers.Adam(learning_rate=0.01),\n",
    "                            logger = Logger(loss_function = ProbabilityMSE(),\n",
    "                                            loss_function_val = channel_fidelity_loss),\n",
    "                           )\n",
    "\n",
    "    model.train(inputs = inputs_map,\n",
    "                targets = targets_map,\n",
    "                inputs_val = None,\n",
    "                targets_val = [channel_target],\n",
    "                num_iter = 2000,\n",
    "                N = 500,\n",
    "                )\n",
    "    #################################################################################\n",
    "\n",
    "    return model"
   ]
  },
  {
   "cell_type": "code",
   "execution_count": 15,
   "metadata": {},
   "outputs": [],
   "source": [
    "np.random.seed(42)\n",
    "random.seed(42)\n",
    "tf.random.set_seed(42)\n",
    "\n",
    "n = 3\n",
    "d = 2**n\n",
    "rank = d**2\n",
    "c1 = 0.9\n",
    "c2 = 0.9\n",
    "\n",
    "#prep error and full POVM error\n",
    "\n",
    "spam_target = SPAM(init = InitialState(d, c=c1),\n",
    "                   povm = POVM(d, c=c2))\n",
    "\n",
    "kraus_target = KrausMap(d, d, spam = spam_target)"
   ]
  },
  {
   "cell_type": "markdown",
   "metadata": {},
   "source": [
    "### Generate Synthetic Data with Noise"
   ]
  },
  {
   "cell_type": "code",
   "execution_count": 16,
   "metadata": {},
   "outputs": [],
   "source": [
    "np.random.seed(42)\n",
    "random.seed(42)\n",
    "tf.random.set_seed(42)\n",
    "\n",
    "inputs_spam, _ = generate_pauliInput_circuits(n)\n",
    "\n",
    "U_prep = inputs_spam\n",
    "N_spam = U_prep.shape[0]\n",
    "\n",
    "state = tf.repeat(spam_target.init.init[None,:,:], N_spam, axis=0)\n",
    "state = apply_unitary(state, U_prep)\n",
    "targets_spam = measurement(state, povm = spam_target.povm.povm)\n",
    "\n",
    "#add noise\n",
    "targets_spam = add_noise_to_probs(targets_spam, 0.01)\n",
    "\n",
    "inputs_map, _ = generate_pauli_circuits(n = n, \n",
    "                                        circuit_target=None,  \n",
    "                                        trace=False)\n",
    "U_prep, U_basis = inputs_map\n",
    "\n",
    "N_map = U_prep.shape[0]\n",
    "state = tf.repeat(tf.expand_dims(spam_target.init.init, axis=0), N_map, axis=0)\n",
    "state = apply_unitary(state, U_prep)\n",
    "state = kraus_target.apply_channel(state)\n",
    "targets_map = measurement(state, U_basis, spam_target.povm.povm)\n",
    "\n",
    "#add noise\n",
    "targets_map = add_noise_to_probs(targets_map, 0.01)"
   ]
  },
  {
   "cell_type": "markdown",
   "metadata": {},
   "source": [
    "### Fit Model, Initial and Corruption Matrix"
   ]
  },
  {
   "cell_type": "code",
   "execution_count": 18,
   "metadata": {
    "scrolled": true
   },
   "outputs": [
    {
     "data": {
      "application/vnd.jupyter.widget-view+json": {
       "model_id": "ac2bb2716c07474a871301c3602ab66f",
       "version_major": 2,
       "version_minor": 0
      },
      "text/plain": [
       "  0%|          | 0/300 [00:00<?, ?it/s]"
      ]
     },
     "metadata": {},
     "output_type": "display_data"
    },
    {
     "data": {
      "application/vnd.jupyter.widget-view+json": {
       "model_id": "bbf7e0ec19e440dcb5c34df41d980eff",
       "version_major": 2,
       "version_minor": 0
      },
      "text/plain": [
       "  0%|          | 0/1000 [00:00<?, ?it/s]"
      ]
     },
     "metadata": {},
     "output_type": "display_data"
    },
    {
     "name": "stdout",
     "output_type": "stream",
     "text": [
      "0.00012420600839812684\n"
     ]
    }
   ],
   "source": [
    "np.random.seed(43)\n",
    "random.seed(43)\n",
    "tf.random.set_seed(43)\n",
    "\n",
    "spam_model = SPAM(init = InitialState(d, c=None),\n",
    "                  povm = CorruptionMatrix(d, c=None),\n",
    "                  loss_function = ProbabilityMSE(),\n",
    "                  optimizer = tf.optimizers.Adam(learning_rate=0.01)\n",
    "                 )\n",
    "\n",
    "spam_model.pretrain(num_iter = 300)\n",
    "\n",
    "spam_model.train(inputs = inputs_spam,\n",
    "                 targets = targets_spam,\n",
    "                 num_iter = 1000,\n",
    "                 verbose = False,\n",
    "                )"
   ]
  },
  {
   "cell_type": "code",
   "execution_count": 19,
   "metadata": {},
   "outputs": [
    {
     "data": {
      "application/vnd.jupyter.widget-view+json": {
       "model_id": "3c7d01e8f6904d13af55377529996b17",
       "version_major": 2,
       "version_minor": 0
      },
      "text/plain": [
       "  0%|          | 0/2000 [00:00<?, ?it/s]"
      ]
     },
     "metadata": {},
     "output_type": "display_data"
    },
    {
     "name": "stdout",
     "output_type": "stream",
     "text": [
      "219.58001704288995 -0.11552923002410304\n",
      "50.641513212103945 -0.4239003460850099\n",
      "13.844153097362438 -0.6937284496218791\n",
      "5.6687089078685915 -0.8242624264294599\n",
      "3.4612000273886325 -0.8867019643291799\n",
      "2.698106368402252 -0.919879789409478\n",
      "2.371984148652817 -0.9394686720256351\n",
      "2.2140852728627722 -0.9518886665878735\n",
      "2.128254756748277 -0.9601848527863284\n",
      "2.081608971533325 -0.9660191187921249\n",
      "2.049334991275929 -0.97033370558496\n",
      "2.028984077451816 -0.9734094092077099\n",
      "2.018610764395147 -0.9757366070646618\n",
      "2.0111367279627492 -0.9774377848804299\n",
      "2.002172025782099 -0.9787079431396951\n",
      "2.0001941951547115 -0.9796718124306095\n",
      "1.9947043841498588 -0.9804799775580046\n",
      "1.9986771263317078 -0.9809981461225448\n",
      "1.9951862571123598 -0.981425609074552\n",
      "1.9965348439180146 -0.9818424382539864\n",
      "1.9943007715941419 -0.9821559956362794\n"
     ]
    }
   ],
   "source": [
    "model = ModelQuantumMap(channel = KrausMap(d = d, \n",
    "                                           rank = d**2,\n",
    "                                           spam = spam_model,\n",
    "                                          ),\n",
    "                        loss_function = KLDiv(),\n",
    "                        optimizer = tf.optimizers.Adam(learning_rate=0.01),\n",
    "                        logger = Logger(loss_function = KLDiv(),\n",
    "                                        loss_function_val = channel_fidelity_loss),\n",
    "                       )\n",
    "\n",
    "model.train(inputs = inputs_map,\n",
    "            targets = targets_map,\n",
    "            inputs_val = None,\n",
    "            targets_val = [kraus_target],\n",
    "            num_iter = 2000,\n",
    "            N = 500,\n",
    "            )"
   ]
  },
  {
   "cell_type": "code",
   "execution_count": null,
   "metadata": {},
   "outputs": [],
   "source": []
  }
 ],
 "metadata": {
  "kernelspec": {
   "display_name": "env_qiskit",
   "language": "python",
   "name": "env_qiskit"
  },
  "language_info": {
   "codemirror_mode": {
    "name": "ipython",
    "version": 3
   },
   "file_extension": ".py",
   "mimetype": "text/x-python",
   "name": "python",
   "nbconvert_exporter": "python",
   "pygments_lexer": "ipython3",
   "version": "3.10.4"
  }
 },
 "nbformat": 4,
 "nbformat_minor": 4
}
