{
 "cells": [
  {
   "cell_type": "markdown",
   "metadata": {},
   "source": [
    "## Convergence Benchmark"
   ]
  },
  {
   "cell_type": "code",
   "execution_count": null,
   "metadata": {},
   "outputs": [],
   "source": [
    "import sys\n",
    "sys.path.insert(0, '../../../src_tf/')\n",
    "\n",
    "import numpy as np\n",
    "import qiskit as qk\n",
    "import matplotlib.pyplot as plt\n",
    "import multiprocessing as mp\n",
    "import random\n",
    "import pickle\n",
    "\n",
    "from qiskit.quantum_info import DensityMatrix\n",
    "from qiskit.quantum_info import Operator\n",
    "from qiskit.quantum_info import random_unitary\n",
    "from scipy.linalg import sqrtm\n",
    "from tqdm.notebook import tqdm\n",
    "\n",
    "from loss_functions import *\n",
    "from optimization import *\n",
    "from quantum_maps import *\n",
    "from quantum_tools import *\n",
    "from experiments import *\n",
    "#np.set_printoptions(threshold=sys.maxsize)\n",
    "np.set_printoptions(precision=3)\n",
    "\n",
    "import os\n",
    "os.environ[\"CUDA_VISIBLE_DEVICES\"] = \"-1\""
   ]
  },
  {
   "cell_type": "code",
   "execution_count": 17,
   "metadata": {},
   "outputs": [],
   "source": [
    "def generate_spam_benchmark(n=3, c1=1, c2=1):\n",
    "    d = 2**n\n",
    "    spam_target = SPAM(d=d)\n",
    "\n",
    "    init_target = c1*init_ideal(d) + (1-c1)*spam_target.init\n",
    "    povm_target = c2*povm_ideal(d) + (1-c2)*spam_target.povm\n",
    "\n",
    "    spam_target = SPAM(d=d,\n",
    "                       init = init_target,\n",
    "                       povm = povm_target)\n",
    "    \n",
    "    return spam_target\n",
    "\n",
    "\n",
    "def generate_spam_data(spam_target, N_spam=None, noise=0):\n",
    "    n = spam_target.n\n",
    "    inputs_spam, _ = generate_pauliInput_circuits(n, N_spam)\n",
    "    N_spam = inputs_spam.shape[0]\n",
    "\n",
    "    state = tf.repeat(spam_target.init[None,:,:], N_spam, axis=0)\n",
    "    state = apply_unitary(state, inputs_spam)\n",
    "    targets_spam = measurement(state, povm = spam_target.povm)\n",
    "\n",
    "    #add noise\n",
    "    targets_spam = add_noise_to_probs(targets_spam, noise=noise)\n",
    "    return inputs_spam, targets_spam\n",
    "\n",
    "\n",
    "def generate_map_data(channel_target, spam_target, N_map=None, noise=0):\n",
    "    n = int(np.log2(channel_target.d))\n",
    "    inputs_map, _ = generate_pauli_circuits(n = n, \n",
    "                                            circuit_target=None,  \n",
    "                                            trace=False,\n",
    "                                            N=N_map)\n",
    "    U_prep, U_basis = inputs_map\n",
    "\n",
    "    N_map = U_prep.shape[0]\n",
    "    state = tf.repeat(tf.expand_dims(spam_target.init, axis=0), N_map, axis=0)\n",
    "    state = apply_unitary(state, U_prep)\n",
    "    state = channel_target.apply_channel(state)\n",
    "    targets_map = measurement(state, U_basis, spam_target.povm)\n",
    "    \n",
    "    return inputs_map, targets_map\n",
    "\n",
    "\n",
    "def povm_fidelity(spam_a, spam_b):\n",
    "    d = spam_a.d\n",
    "    povm_a, povm_b = spam_a.povm, spam_b.povm\n",
    "    ab = tf.matmul(povm_a, povm_b)\n",
    "    ab_sqrt = tf.linalg.sqrtm(ab)\n",
    "    fidelity = tf.math.reduce_sum(tf.linalg.trace(ab_sqrt))/d\n",
    "    return fidelity\n",
    "\n",
    "\n",
    "def model_pipeline(channel_target, noise, N_map=2000, rank = None):\n",
    "    # Make Benchmark\n",
    "    #################################################################################\n",
    "    d = channel_target.d\n",
    "    if rank is None:\n",
    "        rank = d**2\n",
    "    \n",
    "    spam_target = generate_spam_benchmark(n=n, c1=0.8, c2=0.8)\n",
    "    inputs_spam, targets_spam = generate_spam_data(spam_target, N_spam=None, noise=noise)\n",
    "\n",
    "    inputs_map, targets_map = generate_map_data(channel_target, spam_target, N_map=N_map, noise=noise)\n",
    "    #################################################################################\n",
    "\n",
    "    # Fit Models\n",
    "    #################################################################################\n",
    "    spam_model = SPAM(d=d,\n",
    "                      use_corr_mat=True,\n",
    "                      optimizer = tf.optimizers.Adam(learning_rate=0.01))\n",
    "\n",
    "    spam_model.pretrain(targets = [init_ideal(d), povm_ideal(d)],\n",
    "                        num_iter = 300,\n",
    "                        verbose = False,\n",
    "                        )\n",
    "\n",
    "    spam_model.train(inputs = inputs_spam,\n",
    "                     targets = targets_spam,\n",
    "                     num_iter = 2000,\n",
    "                     verbose = False,\n",
    "                    )\n",
    "\n",
    "    model = ModelQuantumMap(channel = KrausMap(d = d, \n",
    "                                               rank = rank,\n",
    "                                               spam = spam_model,\n",
    "                                              ),\n",
    "                            loss_function = ProbabilityMSE(),\n",
    "                            optimizer = tf.optimizers.Adam(learning_rate=0.01),\n",
    "                            logger = Logger(loss_function = channel_fidelity_loss),\n",
    "                           )\n",
    "\n",
    "    model.train(inputs = inputs_map,\n",
    "                targets = targets_map,\n",
    "                inputs_val = None,\n",
    "                targets_val = [channel_target],\n",
    "                num_iter = 4000,\n",
    "                N = 500,\n",
    "                )\n",
    "    #################################################################################\n",
    "\n",
    "    return model"
   ]
  },
  {
   "cell_type": "markdown",
   "metadata": {},
   "source": [
    "## Retrieve SPAM and Map"
   ]
  },
  {
   "cell_type": "code",
   "execution_count": 46,
   "metadata": {
    "scrolled": true
   },
   "outputs": [
    {
     "data": {
      "application/vnd.jupyter.widget-view+json": {
       "model_id": "cb39c731dc5f48fc9f91f537421e9ca2",
       "version_major": 2,
       "version_minor": 0
      },
      "text/plain": [
       "  0%|          | 0/3 [00:00<?, ?it/s]"
      ]
     },
     "metadata": {},
     "output_type": "display_data"
    },
    {
     "data": {
      "application/vnd.jupyter.widget-view+json": {
       "model_id": "26cefc092f894ddbbbf4d65083fda335",
       "version_major": 2,
       "version_minor": 0
      },
      "text/plain": [
       "  0%|          | 0/2000 [00:00<?, ?it/s]"
      ]
     },
     "metadata": {},
     "output_type": "display_data"
    },
    {
     "name": "stdout",
     "output_type": "stream",
     "text": [
      "0.00036975542814663326\n"
     ]
    },
    {
     "data": {
      "application/vnd.jupyter.widget-view+json": {
       "model_id": "322ab652828640d0ad6384a10d9521a2",
       "version_major": 2,
       "version_minor": 0
      },
      "text/plain": [
       "  0%|          | 0/2000 [00:00<?, ?it/s]"
      ]
     },
     "metadata": {},
     "output_type": "display_data"
    },
    {
     "name": "stdout",
     "output_type": "stream",
     "text": [
      "None -0.47840024968070693\n",
      "None -0.8818654662632592\n",
      "None -0.9445144916046343\n",
      "None -0.9645375887617914\n",
      "None -0.9736241060739039\n",
      "None -0.9784594646977062\n",
      "None -0.9812544853433097\n",
      "None -0.9829409947260024\n",
      "None -0.9839801065229291\n",
      "None -0.9846261451917957\n",
      "None -0.9850286612673446\n",
      "None -0.9852782475296944\n",
      "None -0.985430913807518\n",
      "None -0.985522105847466\n",
      "None -0.9855748094555693\n",
      "None -0.9856040310404746\n",
      "None -0.9856195050741451\n",
      "None -0.9856272950279134\n",
      "None -0.9856309968278233\n",
      "None -0.985632683651716\n",
      "None -0.9856333929610541\n"
     ]
    },
    {
     "data": {
      "application/vnd.jupyter.widget-view+json": {
       "model_id": "dd1efacdca674a54b7f03a616b8b1f3c",
       "version_major": 2,
       "version_minor": 0
      },
      "text/plain": [
       "  0%|          | 0/2000 [00:00<?, ?it/s]"
      ]
     },
     "metadata": {},
     "output_type": "display_data"
    },
    {
     "name": "stdout",
     "output_type": "stream",
     "text": [
      "0.0006550343653890379\n"
     ]
    },
    {
     "data": {
      "application/vnd.jupyter.widget-view+json": {
       "model_id": "8d2cf37e2b094466a0eef17afcda90f5",
       "version_major": 2,
       "version_minor": 0
      },
      "text/plain": [
       "  0%|          | 0/2000 [00:00<?, ?it/s]"
      ]
     },
     "metadata": {},
     "output_type": "display_data"
    },
    {
     "name": "stdout",
     "output_type": "stream",
     "text": [
      "None -0.5827958572115033\n",
      "None -0.9684049474116969\n",
      "None -0.9885369222831517\n",
      "None -0.9934595439587323\n",
      "None -0.9959174456750849\n",
      "None -0.997312641598032\n",
      "None -0.998157644044389\n",
      "None -0.9986861117137061\n",
      "None -0.9990197390571806\n",
      "None -0.9992290286617056\n",
      "None -0.9993581359493207\n",
      "None -0.9994359462344523\n",
      "None -0.9994814926099136\n",
      "None -0.9995072995032943\n",
      "None -0.9995214107227746\n",
      "None -0.9995287929563855\n",
      "None -0.9995324896117773\n",
      "None -0.9995342393468202\n",
      "None -0.9995350164142655\n",
      "None -0.9995353616271337\n",
      "None -0.9995354759753721\n"
     ]
    },
    {
     "data": {
      "application/vnd.jupyter.widget-view+json": {
       "model_id": "09e98bfb86aa493684bcab30e41a23fe",
       "version_major": 2,
       "version_minor": 0
      },
      "text/plain": [
       "  0%|          | 0/2000 [00:00<?, ?it/s]"
      ]
     },
     "metadata": {},
     "output_type": "display_data"
    },
    {
     "name": "stdout",
     "output_type": "stream",
     "text": [
      "0.00019620338720689035\n"
     ]
    },
    {
     "data": {
      "application/vnd.jupyter.widget-view+json": {
       "model_id": "7e52366418f04cb49b51e0dae75589ee",
       "version_major": 2,
       "version_minor": 0
      },
      "text/plain": [
       "  0%|          | 0/2000 [00:00<?, ?it/s]"
      ]
     },
     "metadata": {},
     "output_type": "display_data"
    },
    {
     "name": "stdout",
     "output_type": "stream",
     "text": [
      "None -0.2449977714075544\n",
      "None -0.7346641704474057\n",
      "None -0.9171224563669751\n",
      "None -0.9507814617431769\n",
      "None -0.9625208769013811\n",
      "None -0.9675250593016845\n",
      "None -0.9697595506615955\n",
      "None -0.9707223148820836\n",
      "None -0.9711061292920782\n",
      "None -0.9712463371228804\n",
      "None -0.9712942114693041\n",
      "None -0.9713101846920832\n",
      "None -0.9713156564379342\n",
      "None -0.9713176123687067\n",
      "None -0.9713183201666661\n",
      "None -0.9713185767272006\n",
      "None -0.9713186682456714\n",
      "None -0.9713186930710803\n",
      "None -0.971318703375426\n",
      "None -0.9713187008842499\n",
      "None -0.9713187114631229\n"
     ]
    }
   ],
   "source": [
    "np.random.seed(42)\n",
    "random.seed(42)\n",
    "tf.random.set_seed(42)\n",
    "\n",
    "n = 1\n",
    "d = 2**n\n",
    "\n",
    "channel_target = DilutedKrausMap( \n",
    "                               U=generate_unitary(d=d), \n",
    "                               c=0.5, \n",
    "                               d=d, \n",
    "                               rank=d-1,\n",
    "                              )\n",
    "model_list1 = []\n",
    "for i in tqdm(range(3)):\n",
    "    channel_target = DilutedKrausMap( \n",
    "                               U=generate_unitary(d=d), \n",
    "                               c=0.5, \n",
    "                               d=d, \n",
    "                               rank=d-1,\n",
    "                              )\n",
    "    \n",
    "    model = model_pipeline(channel_target, noise = 1/np.sqrt(1000), N_map=None)\n",
    "    model_list1.append(model)"
   ]
  },
  {
   "cell_type": "code",
   "execution_count": 47,
   "metadata": {
    "scrolled": true
   },
   "outputs": [
    {
     "data": {
      "application/vnd.jupyter.widget-view+json": {
       "model_id": "cfcb6d250db442eba1b52641067ef81e",
       "version_major": 2,
       "version_minor": 0
      },
      "text/plain": [
       "  0%|          | 0/3 [00:00<?, ?it/s]"
      ]
     },
     "metadata": {},
     "output_type": "display_data"
    },
    {
     "data": {
      "application/vnd.jupyter.widget-view+json": {
       "model_id": "3483826cd3a24500bbbc42fdcf261eec",
       "version_major": 2,
       "version_minor": 0
      },
      "text/plain": [
       "  0%|          | 0/2000 [00:00<?, ?it/s]"
      ]
     },
     "metadata": {},
     "output_type": "display_data"
    },
    {
     "name": "stdout",
     "output_type": "stream",
     "text": [
      "0.004056401117446949\n"
     ]
    },
    {
     "data": {
      "application/vnd.jupyter.widget-view+json": {
       "model_id": "7535f3c3bd4d4f7c9d9b2550261e82d2",
       "version_major": 2,
       "version_minor": 0
      },
      "text/plain": [
       "  0%|          | 0/2000 [00:00<?, ?it/s]"
      ]
     },
     "metadata": {},
     "output_type": "display_data"
    },
    {
     "name": "stdout",
     "output_type": "stream",
     "text": [
      "None -0.18367121661425423\n",
      "None -0.6468194163295719\n",
      "None -0.8359949516962233\n",
      "None -0.8994743525119361\n",
      "None -0.9271943519754156\n",
      "None -0.9408380802823219\n",
      "None -0.9479949566022816\n",
      "None -0.9519628531812101\n",
      "None -0.9542841882580451\n",
      "None -0.9557099631159944\n",
      "None -0.9566252128178502\n",
      "None -0.9572383585279818\n",
      "None -0.9576665730350928\n",
      "None -0.9579771768520816\n",
      "None -0.9582095503755047\n",
      "None -0.9583874707121852\n",
      "None -0.9585259048226076\n",
      "None -0.9586348136660312\n",
      "None -0.9587211458853893\n",
      "None -0.9587899306868922\n",
      "None -0.9588449238962997\n"
     ]
    },
    {
     "data": {
      "application/vnd.jupyter.widget-view+json": {
       "model_id": "0e3657a8eefe4fb4b4df4cc6e449e62a",
       "version_major": 2,
       "version_minor": 0
      },
      "text/plain": [
       "  0%|          | 0/2000 [00:00<?, ?it/s]"
      ]
     },
     "metadata": {},
     "output_type": "display_data"
    },
    {
     "name": "stdout",
     "output_type": "stream",
     "text": [
      "0.0033394909247415868\n"
     ]
    },
    {
     "data": {
      "application/vnd.jupyter.widget-view+json": {
       "model_id": "a698a1f4a2824d1d81f998f7302226f3",
       "version_major": 2,
       "version_minor": 0
      },
      "text/plain": [
       "  0%|          | 0/2000 [00:00<?, ?it/s]"
      ]
     },
     "metadata": {},
     "output_type": "display_data"
    },
    {
     "name": "stdout",
     "output_type": "stream",
     "text": [
      "None -0.2015470825372866\n",
      "None -0.6455912216950196\n",
      "None -0.8387188377017465\n",
      "None -0.9005489911692097\n",
      "None -0.9271515616977299\n",
      "None -0.9403570307436464\n",
      "None -0.9474741277078486\n",
      "None -0.9515290252849603\n",
      "None -0.953940643498351\n",
      "None -0.9554367728125054\n",
      "None -0.9564100802817568\n",
      "None -0.9570759701331493\n",
      "None -0.9575534947682022\n",
      "None -0.9579096052072357\n",
      "None -0.9581833088792979\n",
      "None -0.9583983901370399\n",
      "None -0.9585701576499313\n",
      "None -0.9587090136405215\n",
      "None -0.9588223368174642\n",
      "None -0.9589155130247579\n",
      "None -0.9589926572163155\n"
     ]
    },
    {
     "data": {
      "application/vnd.jupyter.widget-view+json": {
       "model_id": "e0aff039083845b8a732c467bd57c6a1",
       "version_major": 2,
       "version_minor": 0
      },
      "text/plain": [
       "  0%|          | 0/2000 [00:00<?, ?it/s]"
      ]
     },
     "metadata": {},
     "output_type": "display_data"
    },
    {
     "name": "stdout",
     "output_type": "stream",
     "text": [
      "0.004022682602067879\n"
     ]
    },
    {
     "data": {
      "application/vnd.jupyter.widget-view+json": {
       "model_id": "d322856a586e49f79b2089861a82aa8f",
       "version_major": 2,
       "version_minor": 0
      },
      "text/plain": [
       "  0%|          | 0/2000 [00:00<?, ?it/s]"
      ]
     },
     "metadata": {},
     "output_type": "display_data"
    },
    {
     "name": "stdout",
     "output_type": "stream",
     "text": [
      "None -0.2080734249658704\n",
      "None -0.6796560265831826\n",
      "None -0.8530765578722935\n",
      "None -0.9084806270544988\n",
      "None -0.9326225359997451\n",
      "None -0.9449478170919474\n",
      "None -0.9519692290350635\n",
      "None -0.9563067262427648\n",
      "None -0.9591510601801767\n",
      "None -0.9610991033705912\n",
      "None -0.9624762429110325\n",
      "None -0.963472694980424\n",
      "None -0.9642062753238798\n",
      "None -0.9647534185795437\n",
      "None -0.9651657168507523\n",
      "None -0.9654791086418258\n",
      "None -0.965719265878177\n",
      "None -0.9659048448773752\n",
      "None -0.9660495612218838\n",
      "None -0.9661635920910162\n",
      "None -0.9662544863290283\n"
     ]
    }
   ],
   "source": [
    "np.random.seed(42)\n",
    "random.seed(42)\n",
    "tf.random.set_seed(42)\n",
    "\n",
    "n = 2\n",
    "d = 2**n\n",
    "\n",
    "channel_target = DilutedKrausMap( \n",
    "                               U=generate_unitary(d=d), \n",
    "                               c=0.5, \n",
    "                               d=d, \n",
    "                               rank=d-1,\n",
    "                              )\n",
    "model_list2 = []\n",
    "for i in tqdm(range(3)):\n",
    "    channel_target = DilutedKrausMap( \n",
    "                               U=generate_unitary(d=d), \n",
    "                               c=0.5, \n",
    "                               d=d, \n",
    "                               rank=d-1,\n",
    "                              )\n",
    "    \n",
    "    model = model_pipeline(channel_target, noise = 1/np.sqrt(1000), N_map=2000)\n",
    "    model_list2.append(model)"
   ]
  },
  {
   "cell_type": "code",
   "execution_count": 48,
   "metadata": {},
   "outputs": [
    {
     "data": {
      "application/vnd.jupyter.widget-view+json": {
       "model_id": "732690a57c19494585e78c56a0c2fcef",
       "version_major": 2,
       "version_minor": 0
      },
      "text/plain": [
       "  0%|          | 0/3 [00:00<?, ?it/s]"
      ]
     },
     "metadata": {},
     "output_type": "display_data"
    },
    {
     "data": {
      "application/vnd.jupyter.widget-view+json": {
       "model_id": "ccf163be2b814e4b84f43ff940a034af",
       "version_major": 2,
       "version_minor": 0
      },
      "text/plain": [
       "  0%|          | 0/2000 [00:00<?, ?it/s]"
      ]
     },
     "metadata": {},
     "output_type": "display_data"
    },
    {
     "name": "stdout",
     "output_type": "stream",
     "text": [
      "0.006681537840839778\n"
     ]
    },
    {
     "data": {
      "application/vnd.jupyter.widget-view+json": {
       "model_id": "22d2219974c54cca9fefce6fecceb0d6",
       "version_major": 2,
       "version_minor": 0
      },
      "text/plain": [
       "  0%|          | 0/2000 [00:00<?, ?it/s]"
      ]
     },
     "metadata": {},
     "output_type": "display_data"
    },
    {
     "name": "stdout",
     "output_type": "stream",
     "text": [
      "None -0.10550747757372507\n",
      "None -0.4258479205200387\n",
      "None -0.6363082965581386\n",
      "None -0.7449584162157769\n",
      "None -0.8116572939831738\n",
      "None -0.8537869254773415\n",
      "None -0.8812479661071544\n",
      "None -0.8994322758063212\n",
      "None -0.9117625952506097\n",
      "None -0.9204364592092629\n",
      "None -0.9264663193049683\n",
      "None -0.930838701088791\n",
      "None -0.934065428494107\n",
      "None -0.9364048523690761\n",
      "None -0.9383445874805946\n",
      "None -0.9395489515642418\n",
      "None -0.9406835323634151\n",
      "None -0.9414158941015924\n",
      "None -0.9419964276999303\n",
      "None -0.942886928143986\n",
      "None -0.9432568692785255\n"
     ]
    },
    {
     "data": {
      "application/vnd.jupyter.widget-view+json": {
       "model_id": "429af0cda0f04651aeb258ca325498e8",
       "version_major": 2,
       "version_minor": 0
      },
      "text/plain": [
       "  0%|          | 0/2000 [00:00<?, ?it/s]"
      ]
     },
     "metadata": {},
     "output_type": "display_data"
    },
    {
     "name": "stdout",
     "output_type": "stream",
     "text": [
      "0.006681493059013298\n"
     ]
    },
    {
     "data": {
      "application/vnd.jupyter.widget-view+json": {
       "model_id": "3cea79dd676d471caf3cc73d44afbc76",
       "version_major": 2,
       "version_minor": 0
      },
      "text/plain": [
       "  0%|          | 0/2000 [00:00<?, ?it/s]"
      ]
     },
     "metadata": {},
     "output_type": "display_data"
    },
    {
     "name": "stdout",
     "output_type": "stream",
     "text": [
      "None -0.09661732059092915\n",
      "None -0.4220666233884411\n",
      "None -0.6299583395832014\n",
      "None -0.7425380331056184\n",
      "None -0.8121590075745754\n",
      "None -0.856178891220262\n",
      "None -0.8846590100017973\n",
      "None -0.9035233651137023\n",
      "None -0.9166852817659934\n",
      "None -0.9255511919083431\n",
      "None -0.9318047932120953\n",
      "None -0.9365579429524662\n",
      "None -0.9399392567774225\n",
      "None -0.9422978706867201\n",
      "None -0.9443380648100669\n",
      "None -0.9456943811410572\n",
      "None -0.9466500619404038\n",
      "None -0.947574196193735\n",
      "None -0.9481947735714376\n",
      "None -0.9487040899509\n",
      "None -0.9493816230288085\n"
     ]
    },
    {
     "data": {
      "application/vnd.jupyter.widget-view+json": {
       "model_id": "c2e00692fad34dc88738a1ae667ebed7",
       "version_major": 2,
       "version_minor": 0
      },
      "text/plain": [
       "  0%|          | 0/2000 [00:00<?, ?it/s]"
      ]
     },
     "metadata": {},
     "output_type": "display_data"
    },
    {
     "name": "stdout",
     "output_type": "stream",
     "text": [
      "0.007434984943358714\n"
     ]
    },
    {
     "data": {
      "application/vnd.jupyter.widget-view+json": {
       "model_id": "f85e2bd90fff49d2a71aaa63aac9db32",
       "version_major": 2,
       "version_minor": 0
      },
      "text/plain": [
       "  0%|          | 0/2000 [00:00<?, ?it/s]"
      ]
     },
     "metadata": {},
     "output_type": "display_data"
    },
    {
     "name": "stdout",
     "output_type": "stream",
     "text": [
      "None -0.10115946018201048\n",
      "None -0.4343210763195345\n",
      "None -0.6419766082082371\n",
      "None -0.7492389588600238\n",
      "None -0.8155591032733875\n",
      "None -0.8575435533960862\n",
      "None -0.884678143721149\n",
      "None -0.9028205266529332\n",
      "None -0.9151297214352834\n",
      "None -0.9237470088540256\n",
      "None -0.9297275260681438\n",
      "None -0.9340669277965045\n",
      "None -0.9373175455474405\n",
      "None -0.9396990733946313\n",
      "None -0.9412832788192885\n",
      "None -0.9427020369786001\n",
      "None -0.943933977974757\n",
      "None -0.9446349205919145\n",
      "None -0.9456213932803402\n",
      "None -0.9459896904520583\n",
      "None -0.9465595918254398\n"
     ]
    }
   ],
   "source": [
    "np.random.seed(42)\n",
    "random.seed(42)\n",
    "tf.random.set_seed(42)\n",
    "\n",
    "n = 3\n",
    "d = 2**n\n",
    "\n",
    "channel_target = DilutedKrausMap( \n",
    "                               U=generate_unitary(d=d), \n",
    "                               c=0.5, \n",
    "                               d=d, \n",
    "                               rank=d-1,\n",
    "                              )\n",
    "model_list3 = []\n",
    "for i in tqdm(range(3)):\n",
    "    channel_target = DilutedKrausMap( \n",
    "                               U=generate_unitary(d=d), \n",
    "                               c=0.5, \n",
    "                               d=d, \n",
    "                               rank=d-1,\n",
    "                              )\n",
    "    \n",
    "    model = model_pipeline(channel_target, noise = 1/np.sqrt(1000), N_map=5000)\n",
    "    model_list3.append(model)"
   ]
  },
  {
   "cell_type": "code",
   "execution_count": 49,
   "metadata": {},
   "outputs": [],
   "source": [
    "fidelity_twoQubits = [model.logger.loss_val_list for model in model_list1]\n",
    "fidelity_threeQubits = [model.logger.loss_val_list for model in model_list2]\n",
    "fidelity_fourQubits = [model.logger.loss_val_list for model in model_list3]"
   ]
  },
  {
   "cell_type": "code",
   "execution_count": 53,
   "metadata": {},
   "outputs": [
    {
     "data": {
      "image/png": "[encoded data removed]",
      "text/plain": [
       "<Figure size 1800x1200 with 1 Axes>"
      ]
     },
     "metadata": {},
     "output_type": "display_data"
    }
   ],
   "source": [
    "fig = plt.figure(figsize=(6, 4), dpi=300, facecolor=\"w\", edgecolor=\"k\")\n",
    "\n",
    "plt.plot(-np.array(fidelity_twoQubits).T,\"g-\")\n",
    "plt.plot(-np.array(fidelity_threeQubits).T,\"b-\")\n",
    "plt.plot(-np.array(fidelity_fourQubits).T,\"r-\")\n",
    "#plt.yscale(\"log\")\n",
    "plt.ylim([0.9, 1.05])\n",
    "plt.grid()\n",
    "plt.show()"
   ]
  },
  {
   "cell_type": "code",
   "execution_count": null,
   "metadata": {},
   "outputs": [],
   "source": []
  }
 ],
 "metadata": {
  "kernelspec": {
   "display_name": "env_qiskit",
   "language": "python",
   "name": "env_qiskit"
  },
  "language_info": {
   "codemirror_mode": {
    "name": "ipython",
    "version": 3
   },
   "file_extension": ".py",
   "mimetype": "text/x-python",
   "name": "python",
   "nbconvert_exporter": "python",
   "pygments_lexer": "ipython3",
   "version": "3.10.4"
  }
 },
 "nbformat": 4,
 "nbformat_minor": 4
}
