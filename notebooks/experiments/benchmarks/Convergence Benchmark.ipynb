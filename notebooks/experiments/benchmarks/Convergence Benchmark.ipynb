{
 "cells": [
  {
   "cell_type": "markdown",
   "metadata": {},
   "source": [
    "## Convergence Benchmark"
   ]
  },
  {
   "cell_type": "code",
   "execution_count": null,
   "metadata": {},
   "outputs": [],
   "source": [
    "import sys\n",
    "sys.path.insert(0, '../../../src_tf/')\n",
    "\n",
    "import numpy as np\n",
    "import qiskit as qk\n",
    "import matplotlib.pyplot as plt\n",
    "import multiprocessing as mp\n",
    "import random\n",
    "import pickle\n",
    "\n",
    "from qiskit.quantum_info import DensityMatrix\n",
    "from qiskit.quantum_info import Operator\n",
    "from qiskit.quantum_info import random_unitary\n",
    "from scipy.linalg import sqrtm\n",
    "from tqdm.notebook import tqdm\n",
    "\n",
    "from loss_functions import *\n",
    "from optimization import *\n",
    "from quantum_maps import *\n",
    "from quantum_tools import *\n",
    "from experiments import *\n",
    "#np.set_printoptions(threshold=sys.maxsize)\n",
    "np.set_printoptions(precision=3)\n",
    "\n",
    "import os\n",
    "os.environ[\"CUDA_VISIBLE_DEVICES\"] = \"-1\""
   ]
  },
  {
   "cell_type": "code",
   "execution_count": 54,
   "metadata": {},
   "outputs": [],
   "source": [
    "def generate_spam_benchmark(n=3, c1=1, c2=1):\n",
    "    d = 2**n\n",
    "    spam_target = SPAM(d=d)\n",
    "\n",
    "    init_target = c1*init_ideal(d) + (1-c1)*spam_target.init\n",
    "    povm_target = c2*povm_ideal(d) + (1-c2)*spam_target.povm\n",
    "\n",
    "    spam_target = SPAM(d=d,\n",
    "                       init = init_target,\n",
    "                       povm = povm_target)\n",
    "    \n",
    "    return spam_target\n",
    "\n",
    "\n",
    "def generate_spam_data(spam_target, N_spam=None, noise=0):\n",
    "    n = spam_target.n\n",
    "    inputs_spam, _ = generate_pauliInput_circuits(n, N_spam)\n",
    "    N_spam = inputs_spam.shape[0]\n",
    "\n",
    "    state = tf.repeat(spam_target.init[None,:,:], N_spam, axis=0)\n",
    "    state = apply_unitary(state, inputs_spam)\n",
    "    targets_spam = measurement(state, povm = spam_target.povm)\n",
    "\n",
    "    #add noise\n",
    "    targets_spam = add_noise_to_probs(targets_spam, noise=noise)\n",
    "    return inputs_spam, targets_spam\n",
    "\n",
    "\n",
    "def generate_map_data(channel_target, spam_target, N_map=None, noise=0):\n",
    "    n = int(np.log2(channel_target.d))\n",
    "    inputs_map, _ = generate_pauli_circuits(n = n, \n",
    "                                            circuit_target=None,  \n",
    "                                            trace=False,\n",
    "                                            N=N_map)\n",
    "    U_prep, U_basis = inputs_map\n",
    "\n",
    "    N_map = U_prep.shape[0]\n",
    "    state = tf.repeat(tf.expand_dims(spam_target.init, axis=0), N_map, axis=0)\n",
    "    state = apply_unitary(state, U_prep)\n",
    "    state = channel_target.apply_channel(state)\n",
    "    targets_map = measurement(state, U_basis, spam_target.povm)\n",
    "    \n",
    "    return inputs_map, targets_map\n",
    "\n",
    "\n",
    "def povm_fidelity(spam_a, spam_b):\n",
    "    d = spam_a.d\n",
    "    povm_a, povm_b = spam_a.povm, spam_b.povm\n",
    "    ab = tf.matmul(povm_a, povm_b)\n",
    "    ab_sqrt = tf.linalg.sqrtm(ab)\n",
    "    fidelity = tf.math.reduce_sum(tf.linalg.trace(ab_sqrt))/d\n",
    "    return fidelity\n",
    "\n",
    "\n",
    "def model_pipeline(channel_target, noise, N_map=2000, rank = None):\n",
    "    # Make Benchmark\n",
    "    #################################################################################\n",
    "    d = channel_target.d\n",
    "    if rank is None:\n",
    "        rank = d**2\n",
    "    \n",
    "    spam_target = generate_spam_benchmark(n=n, c1=0.8, c2=0.8)\n",
    "    inputs_spam, targets_spam = generate_spam_data(spam_target, N_spam=None, noise=noise)\n",
    "\n",
    "    inputs_map, targets_map = generate_map_data(channel_target, spam_target, N_map=N_map, noise=noise)\n",
    "    #################################################################################\n",
    "\n",
    "    # Fit Models\n",
    "    #################################################################################\n",
    "    spam_model = SPAM(d=d,\n",
    "                      use_corr_mat=True,\n",
    "                      optimizer = tf.optimizers.Adam(learning_rate=0.01))\n",
    "\n",
    "    spam_model.pretrain(targets = [init_ideal(d), povm_ideal(d)],\n",
    "                        num_iter = 300,\n",
    "                        verbose = False,\n",
    "                        )\n",
    "\n",
    "    spam_model.train(inputs = inputs_spam,\n",
    "                     targets = targets_spam,\n",
    "                     num_iter = 2000,\n",
    "                     verbose = False,\n",
    "                    )\n",
    "\n",
    "    model = ModelQuantumMap(channel = KrausMap(d = d, \n",
    "                                               rank = rank,\n",
    "                                               spam = spam_model,\n",
    "                                              ),\n",
    "                            loss_function = ProbabilityMSE(),\n",
    "                            optimizer = tf.optimizers.Adam(learning_rate=0.01),\n",
    "                            logger = Logger(loss_function = channel_fidelity_loss),\n",
    "                           )\n",
    "\n",
    "    model.train(inputs = inputs_map,\n",
    "                targets = targets_map,\n",
    "                inputs_val = None,\n",
    "                targets_val = [channel_target],\n",
    "                num_iter = 4000,\n",
    "                N = 500,\n",
    "                )\n",
    "    #################################################################################\n",
    "\n",
    "    return model"
   ]
  },
  {
   "cell_type": "markdown",
   "metadata": {},
   "source": [
    "## Retrieve SPAM and Map"
   ]
  },
  {
   "cell_type": "code",
   "execution_count": null,
   "metadata": {
    "scrolled": true
   },
   "outputs": [
    {
     "data": {
      "application/vnd.jupyter.widget-view+json": {
       "model_id": "e6216129536b46638e92271018142420",
       "version_major": 2,
       "version_minor": 0
      },
      "text/plain": [
       "  0%|          | 0/10 [00:00<?, ?it/s]"
      ]
     },
     "metadata": {},
     "output_type": "display_data"
    },
    {
     "data": {
      "application/vnd.jupyter.widget-view+json": {
       "model_id": "5db5f7f3a0134bfba737ebb21acf527a",
       "version_major": 2,
       "version_minor": 0
      },
      "text/plain": [
       "  0%|          | 0/2000 [00:00<?, ?it/s]"
      ]
     },
     "metadata": {},
     "output_type": "display_data"
    },
    {
     "name": "stdout",
     "output_type": "stream",
     "text": [
      "0.0005139951535039114\n"
     ]
    },
    {
     "data": {
      "application/vnd.jupyter.widget-view+json": {
       "model_id": "9f80723e231a4657868c668c66349956",
       "version_major": 2,
       "version_minor": 0
      },
      "text/plain": [
       "  0%|          | 0/4000 [00:00<?, ?it/s]"
      ]
     },
     "metadata": {},
     "output_type": "display_data"
    },
    {
     "name": "stdout",
     "output_type": "stream",
     "text": [
      "None -0.5193956138541608\n",
      "None -0.8634358047036302\n",
      "None -0.9313798626698676\n",
      "None -0.948363146717546\n",
      "None -0.9555418138339442\n",
      "None -0.9592574861373034\n",
      "None -0.9614230951036297\n",
      "None -0.962789981505742\n",
      "None -0.9637046230281023\n",
      "None -0.9643451882088475\n",
      "None -0.964810627835349\n",
      "None -0.9651591589043457\n",
      "None -0.965426515368078\n",
      "None -0.9656355303941498\n",
      "None -0.9658013762210109\n",
      "None -0.9659344422463557\n",
      "None -0.9660421665658703\n",
      "None -0.9661299876815865\n",
      "None -0.9662019872798442\n",
      "None -0.9662613111549242\n",
      "None -0.9663103729245381\n",
      "None -0.9663510999122882\n",
      "None -0.9663849521661732\n",
      "None -0.966413118698981\n",
      "None -0.9664365487489663\n",
      "None -0.9664559970446654\n",
      "None -0.966472092003682\n",
      "None -0.9664853338056698\n",
      "None -0.9664961576170029\n",
      "None -0.9665049563554541\n",
      "None -0.9665120260194716\n",
      "None -0.966517651369995\n",
      "None -0.9665220976034615\n",
      "None -0.9665255393685107\n",
      "None -0.9665281732807884\n",
      "None -0.9665301726250369\n",
      "None -0.9665316515555149\n",
      "None -0.9665327303137539\n",
      "None -0.9665335175042248\n",
      "None -0.966534050302502\n",
      "None -0.9665344322361111\n"
     ]
    },
    {
     "data": {
      "application/vnd.jupyter.widget-view+json": {
       "model_id": "3ef92d0fdf7e485fadef92803e350df9",
       "version_major": 2,
       "version_minor": 0
      },
      "text/plain": [
       "  0%|          | 0/2000 [00:00<?, ?it/s]"
      ]
     },
     "metadata": {},
     "output_type": "display_data"
    },
    {
     "name": "stdout",
     "output_type": "stream",
     "text": [
      "0.00036824465333251964\n"
     ]
    },
    {
     "data": {
      "application/vnd.jupyter.widget-view+json": {
       "model_id": "df9ddd72c61048d185ec3daba687be2a",
       "version_major": 2,
       "version_minor": 0
      },
      "text/plain": [
       "  0%|          | 0/4000 [00:00<?, ?it/s]"
      ]
     },
     "metadata": {},
     "output_type": "display_data"
    },
    {
     "name": "stdout",
     "output_type": "stream",
     "text": [
      "None -0.38743462709834836\n",
      "None -0.8505002911884227\n",
      "None -0.9566692965072165\n",
      "None -0.9700156314698933\n",
      "None -0.9741141119960584\n",
      "None -0.9757984917900826\n",
      "None -0.9765890542068758\n",
      "None -0.9769800885296345\n",
      "None -0.9771758050646407\n",
      "None -0.9772726396661361\n",
      "None -0.9773192738409684\n",
      "None -0.9773408051087507\n",
      "None -0.9773502177207241\n",
      "None -0.9773540612922661\n",
      "None -0.9773555118061794\n",
      "None -0.977356011813261\n",
      "None -0.9773561565261937\n",
      "None -0.9773561936736538\n",
      "None -0.9773562065858132\n",
      "None -0.9773562065541156\n",
      "None -0.9773562047016537\n",
      "None -0.977356212459364\n",
      "None -0.9773562108985772\n",
      "None -0.9773562109247466\n",
      "None -0.9773562037638271\n",
      "None -0.9773561963431338\n",
      "None -0.9773562037321836\n",
      "None -0.9773562001451226\n",
      "None -0.9773562090357946\n",
      "None -0.9773562065420073\n",
      "None -0.9773562034256897\n",
      "None -0.9773562012699823\n",
      "None -0.977356214323701\n",
      "None -0.9773562091565923\n",
      "None -0.9773562060889165\n",
      "None -0.9773562022830883\n",
      "None -0.9773562091954724\n",
      "None -0.9773562149987313\n",
      "None -0.977356205354058\n",
      "None -0.9773562065050345\n",
      "None -0.9773562069278418\n"
     ]
    },
    {
     "data": {
      "application/vnd.jupyter.widget-view+json": {
       "model_id": "ccc48ef262554fd2873ae13cfcb59793",
       "version_major": 2,
       "version_minor": 0
      },
      "text/plain": [
       "  0%|          | 0/2000 [00:00<?, ?it/s]"
      ]
     },
     "metadata": {},
     "output_type": "display_data"
    },
    {
     "name": "stdout",
     "output_type": "stream",
     "text": [
      "0.0007693378009359602\n"
     ]
    },
    {
     "data": {
      "application/vnd.jupyter.widget-view+json": {
       "model_id": "8d7da74a5a5b4ac8991b91cfec227599",
       "version_major": 2,
       "version_minor": 0
      },
      "text/plain": [
       "  0%|          | 0/4000 [00:00<?, ?it/s]"
      ]
     },
     "metadata": {},
     "output_type": "display_data"
    },
    {
     "name": "stdout",
     "output_type": "stream",
     "text": [
      "None -0.6174891975996512\n",
      "None -0.8823699917947042\n",
      "None -0.9446854141621532\n",
      "None -0.9635740133612873\n",
      "None -0.9714587086849807\n",
      "None -0.975455517248462\n",
      "None -0.9777413777800681\n",
      "None -0.9791530502533221\n",
      "None -0.980071797575653\n",
      "None -0.9806929228295481\n",
      "None -0.98112518325094\n",
      "None -0.9814329803813281\n",
      "None -0.981656111776805\n",
      "None -0.9818200589347557\n",
      "None -0.9819416004412777\n",
      "None -0.9820321356539425\n",
      "None -0.9820995953908314\n",
      "None -0.9821497532288895\n",
      "None -0.9821868431164447\n",
      "None -0.9822140866367669\n",
      "None -0.9822339360930126\n",
      "None -0.982248291479853\n",
      "None -0.9822585776003815\n",
      "None -0.9822658868760007\n",
      "None -0.9822710610684025\n",
      "None -0.9822747019395347\n",
      "None -0.9822772529338032\n",
      "None -0.9822790419784649\n",
      "None -0.9822802872526032\n",
      "None -0.9822811520839593\n",
      "None -0.9822817686810921\n",
      "None -0.9822821792394172\n",
      "None -0.9822824657866049\n",
      "None -0.9822826691129818\n",
      "None -0.982282803073655\n",
      "None -0.9822828827877668\n",
      "None -0.9822829431650808\n",
      "None -0.9822829712051356\n",
      "None -0.9822830021523947\n",
      "None -0.982283002822153\n",
      "None -0.9822830108951771\n"
     ]
    },
    {
     "data": {
      "application/vnd.jupyter.widget-view+json": {
       "model_id": "a808ee0b36784a6cb007593aa5243464",
       "version_major": 2,
       "version_minor": 0
      },
      "text/plain": [
       "  0%|          | 0/2000 [00:00<?, ?it/s]"
      ]
     },
     "metadata": {},
     "output_type": "display_data"
    },
    {
     "name": "stdout",
     "output_type": "stream",
     "text": [
      "0.0004958215876330925\n"
     ]
    },
    {
     "data": {
      "application/vnd.jupyter.widget-view+json": {
       "model_id": "2c723f2ed5c24e12822631e3937d896c",
       "version_major": 2,
       "version_minor": 0
      },
      "text/plain": [
       "  0%|          | 0/4000 [00:00<?, ?it/s]"
      ]
     },
     "metadata": {},
     "output_type": "display_data"
    },
    {
     "name": "stdout",
     "output_type": "stream",
     "text": [
      "None -0.3634836030581072\n",
      "None -0.8661215303505551\n",
      "None -0.9395358040033301\n",
      "None -0.960634975134774\n",
      "None -0.9688919780600375\n",
      "None -0.9727818978017435\n",
      "None -0.9747964979067941\n",
      "None -0.9758768845877822\n",
      "None -0.9764534298578402\n",
      "None -0.9767509618816589\n",
      "None -0.9768961150803366\n",
      "None -0.9769617144299413\n",
      "None -0.976988488143053\n",
      "None -0.9769978588415132\n",
      "None -0.9770002955762357\n",
      "None -0.9770003627111925\n",
      "None -0.9769998868401267\n",
      "None -0.9769994356903725\n",
      "None -0.9769991223925848\n",
      "None -0.9769989504890665\n",
      "None -0.976998855717972\n",
      "None -0.9769988201025073\n",
      "None -0.9769987828038962\n",
      "None -0.976998772800658\n",
      "None -0.9769987794780559\n",
      "None -0.9769987690837073\n",
      "None -0.9769987768148825\n",
      "None -0.976998778392898\n",
      "None -0.976998779974031\n",
      "None -0.9769987870607845\n",
      "None -0.9769987822079435\n",
      "None -0.9769987804968566\n",
      "None -0.9769987836878847\n",
      "None -0.9769987777416068\n",
      "None -0.9769987756045341\n",
      "None -0.976998778907639\n",
      "None -0.9769987809456641\n",
      "None -0.9769987790980574\n",
      "None -0.976998771626097\n",
      "None -0.976998778509048\n",
      "None -0.9769987746555014\n"
     ]
    },
    {
     "data": {
      "application/vnd.jupyter.widget-view+json": {
       "model_id": "c4596eb3fa8541bd966641775a39c449",
       "version_major": 2,
       "version_minor": 0
      },
      "text/plain": [
       "  0%|          | 0/2000 [00:00<?, ?it/s]"
      ]
     },
     "metadata": {},
     "output_type": "display_data"
    }
   ],
   "source": [
    "np.random.seed(42)\n",
    "random.seed(42)\n",
    "tf.random.set_seed(42)\n",
    "\n",
    "n = 1\n",
    "d = 2**n\n",
    "\n",
    "channel_target = DilutedKrausMap( \n",
    "                               U=generate_unitary(d=d), \n",
    "                               c=0.5, \n",
    "                               d=d, \n",
    "                               rank=d-1,\n",
    "                              )\n",
    "model_list1 = []\n",
    "for i in tqdm(range(10)):\n",
    "    \n",
    "    model = model_pipeline(channel_target, noise = 1/np.sqrt(1000), N_map=None)\n",
    "    model_list1.append(model)"
   ]
  },
  {
   "cell_type": "code",
   "execution_count": 67,
   "metadata": {
    "scrolled": true
   },
   "outputs": [
    {
     "data": {
      "application/vnd.jupyter.widget-view+json": {
       "model_id": "8c0caafbe47f4e66a6727f13d534e11e",
       "version_major": 2,
       "version_minor": 0
      },
      "text/plain": [
       "  0%|          | 0/10 [00:00<?, ?it/s]"
      ]
     },
     "metadata": {},
     "output_type": "display_data"
    },
    {
     "data": {
      "application/vnd.jupyter.widget-view+json": {
       "model_id": "22885395e11d41d3b0ccab43eb25e3f1",
       "version_major": 2,
       "version_minor": 0
      },
      "text/plain": [
       "  0%|          | 0/2000 [00:00<?, ?it/s]"
      ]
     },
     "metadata": {},
     "output_type": "display_data"
    },
    {
     "name": "stdout",
     "output_type": "stream",
     "text": [
      "0.0035128648624128196\n"
     ]
    },
    {
     "data": {
      "application/vnd.jupyter.widget-view+json": {
       "model_id": "6de2fd8f6f944924805bc0cd9e0271ef",
       "version_major": 2,
       "version_minor": 0
      },
      "text/plain": [
       "  0%|          | 0/4000 [00:00<?, ?it/s]"
      ]
     },
     "metadata": {},
     "output_type": "display_data"
    },
    {
     "name": "stdout",
     "output_type": "stream",
     "text": [
      "None -0.1611729525969062\n",
      "None -0.6575100759154726\n",
      "None -0.8525071401954677\n",
      "None -0.9072456800853229\n",
      "None -0.9271733260152346\n",
      "None -0.9358673137075305\n",
      "None -0.9402820756821223\n",
      "None -0.9428164857071687\n",
      "None -0.9444063953913061\n",
      "None -0.9454663703215939\n",
      "None -0.9462021953102832\n",
      "None -0.9467271486782539\n",
      "None -0.9471089867620782\n",
      "None -0.947390865960067\n",
      "None -0.9476015100138695\n",
      "None -0.9477606271410091\n",
      "None -0.947882069784073\n",
      "None -0.9479758162835594\n",
      "None -0.9480490039140158\n",
      "None -0.9481068513475994\n",
      "None -0.9481531488055991\n",
      "None -0.9481906552573741\n",
      "None -0.9482214049646596\n",
      "None -0.9482468939428473\n",
      "None -0.9482682129789461\n",
      "None -0.9482862137819864\n",
      "None -0.9483015211453982\n",
      "None -0.9483146201656041\n",
      "None -0.9483259064950605\n",
      "None -0.9483356539298933\n",
      "None -0.9483441093694921\n",
      "None -0.9483514610131139\n",
      "None -0.948357858608343\n",
      "None -0.9483634262172961\n",
      "None -0.9483682640432156\n",
      "None -0.948372471038357\n",
      "None -0.9483761104250641\n",
      "None -0.9483792466312538\n",
      "None -0.9483819474023468\n",
      "None -0.9483842475114288\n",
      "None -0.9483862116628375\n"
     ]
    },
    {
     "data": {
      "application/vnd.jupyter.widget-view+json": {
       "model_id": "14e02f138fe543f19c802fbdae434044",
       "version_major": 2,
       "version_minor": 0
      },
      "text/plain": [
       "  0%|          | 0/2000 [00:00<?, ?it/s]"
      ]
     },
     "metadata": {},
     "output_type": "display_data"
    },
    {
     "name": "stdout",
     "output_type": "stream",
     "text": [
      "0.004341254334385963\n"
     ]
    },
    {
     "data": {
      "application/vnd.jupyter.widget-view+json": {
       "model_id": "4e527bbab7f543a7ad73e26ef739591d",
       "version_major": 2,
       "version_minor": 0
      },
      "text/plain": [
       "  0%|          | 0/4000 [00:00<?, ?it/s]"
      ]
     },
     "metadata": {},
     "output_type": "display_data"
    },
    {
     "name": "stdout",
     "output_type": "stream",
     "text": [
      "None -0.23307651566665852\n",
      "None -0.7037059229099071\n",
      "None -0.8629943113694519\n",
      "None -0.9150877396482291\n",
      "None -0.9368303088838357\n",
      "None -0.9472944196006046\n",
      "None -0.9528777852585175\n",
      "None -0.9560960303010859\n",
      "None -0.9580625151832194\n",
      "None -0.9593220015801377\n",
      "None -0.9601629080664654\n",
      "None -0.9607459986178534\n",
      "None -0.9611641119757557\n",
      "None -0.9614725630919849\n",
      "None -0.9617054765137734\n",
      "None -0.9618847372590805\n",
      "None -0.9620249352161002\n",
      "None -0.962136176098968\n",
      "None -0.9622256247478459\n",
      "None -0.9622984587584051\n",
      "None -0.9623584651576477\n",
      "None -0.9624084365860963\n",
      "None -0.9624504397774623\n",
      "None -0.9624860300564588\n",
      "None -0.9625164131054744\n",
      "None -0.9625424777127876\n",
      "None -0.9625649349569448\n",
      "None -0.9625843229466959\n",
      "None -0.962601070373785\n",
      "None -0.9626155375489222\n",
      "None -0.9626280194065395\n",
      "None -0.96263873006461\n",
      "None -0.9626479212558803\n",
      "None -0.9626557210090155\n",
      "None -0.9626623251388481\n",
      "None -0.9626678685511589\n",
      "None -0.962672473816502\n",
      "None -0.9626762602274066\n",
      "None -0.9626793505582002\n",
      "None -0.9626818495701773\n",
      "None -0.9626838338441733\n"
     ]
    },
    {
     "data": {
      "application/vnd.jupyter.widget-view+json": {
       "model_id": "dffbef58c55640e6b28dd5e1ea1ba751",
       "version_major": 2,
       "version_minor": 0
      },
      "text/plain": [
       "  0%|          | 0/2000 [00:00<?, ?it/s]"
      ]
     },
     "metadata": {},
     "output_type": "display_data"
    },
    {
     "name": "stdout",
     "output_type": "stream",
     "text": [
      "0.0031212578151496233\n"
     ]
    },
    {
     "data": {
      "application/vnd.jupyter.widget-view+json": {
       "model_id": "1dee6b5f137e481493ceecbcd0be6bec",
       "version_major": 2,
       "version_minor": 0
      },
      "text/plain": [
       "  0%|          | 0/4000 [00:00<?, ?it/s]"
      ]
     },
     "metadata": {},
     "output_type": "display_data"
    },
    {
     "name": "stdout",
     "output_type": "stream",
     "text": [
      "None -0.19876850297809584\n",
      "None -0.6021711123263889\n",
      "None -0.8028587354501107\n",
      "None -0.8768073943837916\n",
      "None -0.9073500701092583\n",
      "None -0.9217829266079641\n",
      "None -0.92944579628501\n",
      "None -0.9339240549038271\n",
      "None -0.9367696118840931\n",
      "None -0.9386981441002286\n",
      "None -0.9400604193095087\n",
      "None -0.9410458873120845\n",
      "None -0.9417687832073608\n",
      "None -0.9423042181948689\n",
      "None -0.9427041393706416\n",
      "None -0.9430053530875033\n",
      "None -0.943234275212023\n",
      "None -0.9434098682458194\n",
      "None -0.9435458378354236\n",
      "None -0.9436520594001517\n",
      "None -0.9437356951050043\n",
      "None -0.943801946498821\n",
      "None -0.9438546647886743\n",
      "None -0.9438966970673227\n",
      "None -0.9439302430325458\n",
      "None -0.9439569652227306\n",
      "None -0.9439782027882827\n",
      "None -0.9439950124106677\n",
      "None -0.9440082514734722\n",
      "None -0.9440186550452148\n",
      "None -0.9440267620995112\n",
      "None -0.9440330578965842\n",
      "None -0.9440379231629914\n",
      "None -0.944041671767488\n",
      "None -0.9440445472249188\n",
      "None -0.9440467353914016\n",
      "None -0.9440484062248412\n",
      "None -0.9440496743806318\n",
      "None -0.9440506367811403\n",
      "None -0.9440513505348199\n",
      "None -0.9440518961693378\n"
     ]
    },
    {
     "data": {
      "application/vnd.jupyter.widget-view+json": {
       "model_id": "a115d704794b48129c5c10521d8dbd20",
       "version_major": 2,
       "version_minor": 0
      },
      "text/plain": [
       "  0%|          | 0/2000 [00:00<?, ?it/s]"
      ]
     },
     "metadata": {},
     "output_type": "display_data"
    },
    {
     "name": "stdout",
     "output_type": "stream",
     "text": [
      "0.002802853652572231\n"
     ]
    },
    {
     "data": {
      "application/vnd.jupyter.widget-view+json": {
       "model_id": "ea49d33462154758b16c0587ef70bc0b",
       "version_major": 2,
       "version_minor": 0
      },
      "text/plain": [
       "  0%|          | 0/4000 [00:00<?, ?it/s]"
      ]
     },
     "metadata": {},
     "output_type": "display_data"
    },
    {
     "name": "stdout",
     "output_type": "stream",
     "text": [
      "None -0.19212886640132407\n",
      "None -0.6073977073743418\n",
      "None -0.8282937140400187\n",
      "None -0.8980032746140149\n",
      "None -0.9269982065361306\n",
      "None -0.9413745187590725\n",
      "None -0.9493387460730904\n",
      "None -0.9540816520905638\n",
      "None -0.9570519252964982\n",
      "None -0.9589824039998732\n",
      "None -0.9602750290584625\n",
      "None -0.9611634881102197\n",
      "None -0.9617890084738981\n",
      "None -0.9622391611531673\n",
      "None -0.9625692650625794\n",
      "None -0.9628149778967159\n",
      "None -0.962999833606147\n",
      "None -0.9631398320255089\n",
      "None -0.9632462049225776\n",
      "None -0.9633271255539547\n",
      "None -0.9633886672075862\n",
      "None -0.9634354446292112\n",
      "None -0.9634709784645085\n",
      "None -0.9634980147122687\n",
      "None -0.96351861946428\n",
      "None -0.9635344036113803\n",
      "None -0.9635465580882653\n",
      "None -0.9635559902869396\n",
      "None -0.9635633597959896\n",
      "None -0.9635691423209112\n",
      "None -0.9635737304381552\n",
      "None -0.9635773694090803\n",
      "None -0.9635802685400205\n",
      "None -0.9635825772940115\n",
      "None -0.9635844262382494\n",
      "None -0.9635858853656248\n",
      "None -0.9635870355347832\n",
      "None -0.9635879470070536\n",
      "None -0.9635886563844949\n",
      "None -0.9635891998062525\n",
      "None -0.9635896289548028\n"
     ]
    },
    {
     "data": {
      "application/vnd.jupyter.widget-view+json": {
       "model_id": "d778e58554b74cd1a86eed3cbfe50f75",
       "version_major": 2,
       "version_minor": 0
      },
      "text/plain": [
       "  0%|          | 0/2000 [00:00<?, ?it/s]"
      ]
     },
     "metadata": {},
     "output_type": "display_data"
    },
    {
     "name": "stdout",
     "output_type": "stream",
     "text": [
      "0.0034781341394207388\n"
     ]
    },
    {
     "data": {
      "application/vnd.jupyter.widget-view+json": {
       "model_id": "bd8a28d490e54252ab0ef8ea531a74bc",
       "version_major": 2,
       "version_minor": 0
      },
      "text/plain": [
       "  0%|          | 0/4000 [00:00<?, ?it/s]"
      ]
     },
     "metadata": {},
     "output_type": "display_data"
    },
    {
     "name": "stdout",
     "output_type": "stream",
     "text": [
      "None -0.1957474430805482\n",
      "None -0.6218475204638062\n",
      "None -0.8410356262781439\n",
      "None -0.9075246952558124\n",
      "None -0.9333211016593064\n",
      "None -0.9453337450150873\n",
      "None -0.9515936874736491\n",
      "None -0.9551441934492497\n",
      "None -0.9573020371468774\n",
      "None -0.9586902870385685\n",
      "None -0.9596266947475406\n",
      "None -0.9602834184939234\n",
      "None -0.96075836736411\n",
      "None -0.961109841547393\n",
      "None -0.9613742917884089\n",
      "None -0.9615756769396085\n",
      "None -0.9617303875142371\n",
      "None -0.9618499792022546\n",
      "None -0.961942810034804\n",
      "None -0.9620150243941926\n",
      "None -0.9620711793689034\n",
      "None -0.9621147532971911\n",
      "None -0.962148458636675\n",
      "None -0.962174395190861\n",
      "None -0.9621942283638013\n",
      "None -0.9622093154547489\n",
      "None -0.9622207153272776\n",
      "None -0.9622292706230409\n",
      "None -0.9622356610575802\n",
      "None -0.9622403980812396\n",
      "None -0.9622438950131386\n",
      "None -0.9622464706417143\n",
      "None -0.9622483380286407\n",
      "None -0.9622497060577662\n",
      "None -0.962250695208355\n",
      "None -0.9622514052815044\n",
      "None -0.9622519213634529\n",
      "None -0.9622522779603745\n",
      "None -0.962252525914523\n",
      "None -0.9622527047288651\n",
      "None -0.9622528275764756\n"
     ]
    },
    {
     "data": {
      "application/vnd.jupyter.widget-view+json": {
       "model_id": "e763caa7f7c94773a3c6bd887ce4c546",
       "version_major": 2,
       "version_minor": 0
      },
      "text/plain": [
       "  0%|          | 0/2000 [00:00<?, ?it/s]"
      ]
     },
     "metadata": {},
     "output_type": "display_data"
    },
    {
     "name": "stdout",
     "output_type": "stream",
     "text": [
      "0.002489811895619388\n"
     ]
    },
    {
     "data": {
      "application/vnd.jupyter.widget-view+json": {
       "model_id": "fc5b51543f48495da3f8e8d17775ef03",
       "version_major": 2,
       "version_minor": 0
      },
      "text/plain": [
       "  0%|          | 0/4000 [00:00<?, ?it/s]"
      ]
     },
     "metadata": {},
     "output_type": "display_data"
    },
    {
     "name": "stdout",
     "output_type": "stream",
     "text": [
      "None -0.2410968445814075\n",
      "None -0.658892708550846\n",
      "None -0.8328926704829137\n",
      "None -0.8973693245757222\n",
      "None -0.9253878853484652\n",
      "None -0.9391827398366279\n",
      "None -0.9467028336799957\n",
      "None -0.9511437141047229\n",
      "None -0.9539377235384131\n",
      "None -0.9557874263769623\n",
      "None -0.957063066678996\n",
      "None -0.9579717438337844\n",
      "None -0.9586357114219783\n",
      "None -0.9591306197275418\n",
      "None -0.9595052337933508\n",
      "None -0.9597921825957169\n",
      "None -0.9600140287107726\n",
      "None -0.960186824638508\n",
      "None -0.9603222993377741\n",
      "None -0.9604291957760274\n",
      "None -0.9605141130711712\n",
      "None -0.9605820896078141\n",
      "None -0.9606369809390649\n",
      "None -0.960681734284032\n",
      "None -0.9607186384843953\n",
      "None -0.960749422535642\n",
      "None -0.9607754143450922\n",
      "None -0.9607976323308391\n",
      "None -0.9608168286537564\n",
      "None -0.9608335815710538\n",
      "None -0.9608483420176624\n",
      "None -0.960861429650335\n",
      "None -0.9608731228777653\n",
      "None -0.9608835747267631\n",
      "None -0.9608929535984531\n",
      "None -0.9609013866086155\n",
      "None -0.9609089819087158\n",
      "None -0.9609157843825951\n",
      "None -0.960921896453878\n",
      "None -0.9609273684251364\n",
      "None -0.9609322622042347\n"
     ]
    },
    {
     "data": {
      "application/vnd.jupyter.widget-view+json": {
       "model_id": "ce81f309930e402ea417d98e5ccfd43c",
       "version_major": 2,
       "version_minor": 0
      },
      "text/plain": [
       "  0%|          | 0/2000 [00:00<?, ?it/s]"
      ]
     },
     "metadata": {},
     "output_type": "display_data"
    },
    {
     "name": "stdout",
     "output_type": "stream",
     "text": [
      "0.0030394071230748477\n"
     ]
    },
    {
     "data": {
      "application/vnd.jupyter.widget-view+json": {
       "model_id": "606e7da4a1d44b22bdd3cd08817ad95f",
       "version_major": 2,
       "version_minor": 0
      },
      "text/plain": [
       "  0%|          | 0/4000 [00:00<?, ?it/s]"
      ]
     },
     "metadata": {},
     "output_type": "display_data"
    },
    {
     "name": "stdout",
     "output_type": "stream",
     "text": [
      "None -0.19368767479889637\n",
      "None -0.6391253752972165\n",
      "None -0.8453133382728877\n",
      "None -0.9092756739194628\n",
      "None -0.9346908456787367\n",
      "None -0.9469445010203296\n",
      "None -0.9535237769027896\n",
      "None -0.9573521710845604\n",
      "None -0.9597407981946693\n",
      "None -0.9613156141791009\n",
      "None -0.9623956005944589\n",
      "None -0.9631571785168083\n",
      "None -0.963705432107138\n",
      "None -0.9641065129188683\n",
      "None -0.964403884160437\n",
      "None -0.9646270120528945\n",
      "None -0.9647963379218453\n",
      "None -0.9649262552730884\n",
      "None -0.9650270405063981\n",
      "None -0.9651061013736566\n",
      "None -0.9651688214986962\n",
      "None -0.9652191846124999\n",
      "None -0.9652601458821077\n",
      "None -0.9652938912735678\n",
      "None -0.9653220759476763\n",
      "None -0.9653459375510908\n",
      "None -0.965366384021347\n",
      "None -0.965384109133272\n",
      "None -0.9653996377815002\n",
      "None -0.965413362049667\n",
      "None -0.965425577451362\n",
      "None -0.9654365169836505\n",
      "None -0.9654463612815916\n",
      "None -0.9654552655275643\n",
      "None -0.965463333981485\n",
      "None -0.9654706699337386\n",
      "None -0.9654773597834548\n",
      "None -0.9654834774527064\n",
      "None -0.9654890772034563\n",
      "None -0.9654941863010355\n",
      "None -0.9654988923369806\n"
     ]
    },
    {
     "data": {
      "application/vnd.jupyter.widget-view+json": {
       "model_id": "36eccd889da74582b06a096c7a07f73e",
       "version_major": 2,
       "version_minor": 0
      },
      "text/plain": [
       "  0%|          | 0/2000 [00:00<?, ?it/s]"
      ]
     },
     "metadata": {},
     "output_type": "display_data"
    },
    {
     "name": "stdout",
     "output_type": "stream",
     "text": [
      "0.0034333664027586946\n"
     ]
    },
    {
     "data": {
      "application/vnd.jupyter.widget-view+json": {
       "model_id": "e3a6466966044278b38ffd7649a6795f",
       "version_major": 2,
       "version_minor": 0
      },
      "text/plain": [
       "  0%|          | 0/4000 [00:00<?, ?it/s]"
      ]
     },
     "metadata": {},
     "output_type": "display_data"
    },
    {
     "name": "stdout",
     "output_type": "stream",
     "text": [
      "None -0.24347810472692685\n",
      "None -0.675645641382716\n",
      "None -0.8499412474645989\n",
      "None -0.9079587987841441\n",
      "None -0.9324008492756385\n",
      "None -0.9443998155789318\n",
      "None -0.9509391163169447\n",
      "None -0.9548009716061127\n",
      "None -0.9572384373825886\n",
      "None -0.9588609619865137\n",
      "None -0.9599849131244307\n",
      "None -0.9607862383267142\n",
      "None -0.9613695341293877\n",
      "None -0.9618005837376526\n",
      "None -0.9621225954505718\n",
      "None -0.9623650720189589\n",
      "None -0.9625486818144179\n",
      "None -0.9626882558788389\n",
      "None -0.9627946362154632\n",
      "None -0.9628758382079295\n",
      "None -0.9629378618362037\n",
      "None -0.9629852301012779\n",
      "None -0.963021348046286\n",
      "None -0.963048866732075\n",
      "None -0.9630697731671818\n",
      "None -0.963085622412923\n",
      "None -0.9630976136482332\n",
      "None -0.963106645269341\n",
      "None -0.9631134500424412\n",
      "None -0.963118540062379\n",
      "None -0.9631223634433257\n",
      "None -0.9631252108122995\n",
      "None -0.9631273258683248\n",
      "None -0.9631288961411005\n",
      "None -0.9631300548066367\n",
      "None -0.9631308977999852\n",
      "None -0.9631315157577716\n",
      "None -0.9631319467021677\n",
      "None -0.9631322636673975\n",
      "None -0.963132487079325\n",
      "None -0.9631326303736014\n"
     ]
    },
    {
     "data": {
      "application/vnd.jupyter.widget-view+json": {
       "model_id": "caefac1e4c7d4c54a45fe62b51541293",
       "version_major": 2,
       "version_minor": 0
      },
      "text/plain": [
       "  0%|          | 0/2000 [00:00<?, ?it/s]"
      ]
     },
     "metadata": {},
     "output_type": "display_data"
    },
    {
     "name": "stdout",
     "output_type": "stream",
     "text": [
      "0.0035125738496324154\n"
     ]
    },
    {
     "data": {
      "application/vnd.jupyter.widget-view+json": {
       "model_id": "8c340aba60c24c108cfcab72f101de55",
       "version_major": 2,
       "version_minor": 0
      },
      "text/plain": [
       "  0%|          | 0/4000 [00:00<?, ?it/s]"
      ]
     },
     "metadata": {},
     "output_type": "display_data"
    },
    {
     "name": "stdout",
     "output_type": "stream",
     "text": [
      "None -0.1675582976821294\n",
      "None -0.6130717664974071\n",
      "None -0.8142805981481465\n",
      "None -0.8879476357108262\n",
      "None -0.921376692882244\n",
      "None -0.9387262025543945\n",
      "None -0.9486787404055921\n",
      "None -0.9548407877957276\n",
      "None -0.9588880278145889\n",
      "None -0.9616706260477329\n",
      "None -0.9636542860393003\n",
      "None -0.9651104190533938\n",
      "None -0.9662049859126828\n",
      "None -0.9670437177699865\n",
      "None -0.9676963565664024\n",
      "None -0.9682104984294111\n",
      "None -0.968619578521158\n",
      "None -0.9689476988585477\n",
      "None -0.9692127031307068\n",
      "None -0.9694279813876249\n",
      "None -0.9696038167495313\n",
      "None -0.969748131364336\n",
      "None -0.9698671139658359\n",
      "None -0.9699656327558028\n",
      "None -0.9700475248321102\n",
      "None -0.9701158433111172\n",
      "None -0.970173032968259\n",
      "None -0.9702210293802538\n",
      "None -0.9702614346890921\n",
      "None -0.9702955190857279\n",
      "None -0.97032430918124\n",
      "None -0.9703486574924692\n",
      "None -0.9703692549825561\n",
      "None -0.9703866909258173\n",
      "None -0.9704014068421656\n",
      "None -0.9704138105395282\n",
      "None -0.9704242243322008\n",
      "None -0.9704329222746637\n",
      "None -0.9704401426732826\n",
      "None -0.9704460982459043\n",
      "None -0.9704509631240076\n"
     ]
    },
    {
     "data": {
      "application/vnd.jupyter.widget-view+json": {
       "model_id": "6f424c4a0f4048ebb7040284e2890883",
       "version_major": 2,
       "version_minor": 0
      },
      "text/plain": [
       "  0%|          | 0/2000 [00:00<?, ?it/s]"
      ]
     },
     "metadata": {},
     "output_type": "display_data"
    },
    {
     "name": "stdout",
     "output_type": "stream",
     "text": [
      "0.002776469310265193\n"
     ]
    },
    {
     "data": {
      "application/vnd.jupyter.widget-view+json": {
       "model_id": "796e94babe31424c8998de881c2bc8d1",
       "version_major": 2,
       "version_minor": 0
      },
      "text/plain": [
       "  0%|          | 0/4000 [00:00<?, ?it/s]"
      ]
     },
     "metadata": {},
     "output_type": "display_data"
    },
    {
     "name": "stdout",
     "output_type": "stream",
     "text": [
      "None -0.19653637392309092\n",
      "None -0.6665344973004917\n",
      "None -0.8404738782486626\n",
      "None -0.902447034508727\n",
      "None -0.929837297893566\n",
      "None -0.9435565750314466\n",
      "None -0.9510505135966746\n",
      "None -0.9554512767700977\n",
      "None -0.9582039297111369\n",
      "None -0.9600170960663242\n",
      "None -0.9612598669138988\n",
      "None -0.962137077275643\n",
      "None -0.9627697089615642\n",
      "None -0.9632334214284232\n",
      "None -0.9635776611998788\n",
      "None -0.9638359174798685\n",
      "None -0.9640314234100161\n",
      "None -0.9641806040678425\n",
      "None -0.9642952958171158\n",
      "None -0.9643840311380183\n",
      "None -0.9644530711105401\n",
      "None -0.9645070401979627\n",
      "None -0.9645493614594515\n",
      "None -0.9645826239247061\n",
      "None -0.9646087716067133\n",
      "None -0.9646292825232066\n",
      "None -0.96464532592199\n",
      "None -0.9646578134000082\n",
      "None -0.9646674685444484\n",
      "None -0.9646748741635611\n",
      "None -0.9646804789266604\n",
      "None -0.9646846934840032\n",
      "None -0.9646878053450613\n",
      "None -0.9646900743591423\n",
      "None -0.9646916937091692\n",
      "None -0.9646928408799939\n",
      "None -0.9646936267516961\n",
      "None -0.9646941561262196\n",
      "None -0.9646945092031867\n",
      "None -0.9646947349540927\n",
      "None -0.9646948721444581\n"
     ]
    }
   ],
   "source": [
    "np.random.seed(42)\n",
    "random.seed(42)\n",
    "tf.random.set_seed(42)\n",
    "\n",
    "n = 2\n",
    "d = 2**n\n",
    "\n",
    "channel_target = DilutedKrausMap( \n",
    "                               U=generate_unitary(d=d), \n",
    "                               c=0.5, \n",
    "                               d=d, \n",
    "                               rank=d-1,\n",
    "                              )\n",
    "model_list2 = []\n",
    "for i in tqdm(range(10)):\n",
    "    \n",
    "    model = model_pipeline(channel_target, noise = 1/np.sqrt(1000), N_map=2000)\n",
    "    model_list2.append(model)"
   ]
  },
  {
   "cell_type": "code",
   "execution_count": 66,
   "metadata": {
    "scrolled": true
   },
   "outputs": [
    {
     "data": {
      "application/vnd.jupyter.widget-view+json": {
       "model_id": "fd9a720bcf9a44268d4c343eccabf899",
       "version_major": 2,
       "version_minor": 0
      },
      "text/plain": [
       "  0%|          | 0/10 [00:00<?, ?it/s]"
      ]
     },
     "metadata": {},
     "output_type": "display_data"
    },
    {
     "data": {
      "application/vnd.jupyter.widget-view+json": {
       "model_id": "462858ecdc2948379ca283fb2e508b06",
       "version_major": 2,
       "version_minor": 0
      },
      "text/plain": [
       "  0%|          | 0/2000 [00:00<?, ?it/s]"
      ]
     },
     "metadata": {},
     "output_type": "display_data"
    },
    {
     "name": "stdout",
     "output_type": "stream",
     "text": [
      "0.006012399588972417\n"
     ]
    },
    {
     "data": {
      "application/vnd.jupyter.widget-view+json": {
       "model_id": "e7a544c7da0e47baa3d6f10211cbe45f",
       "version_major": 2,
       "version_minor": 0
      },
      "text/plain": [
       "  0%|          | 0/4000 [00:00<?, ?it/s]"
      ]
     },
     "metadata": {},
     "output_type": "display_data"
    },
    {
     "name": "stdout",
     "output_type": "stream",
     "text": [
      "None -0.10065928648094982\n",
      "None -0.42957671218682547\n",
      "None -0.6386511206620739\n",
      "None -0.7513222718727653\n",
      "None -0.8197354112952818\n",
      "None -0.8622896022869961\n",
      "None -0.8895552431780325\n",
      "None -0.9079748165335095\n",
      "None -0.920437482248729\n",
      "None -0.9291298070402664\n",
      "None -0.9351789847774139\n",
      "None -0.9396668039784511\n",
      "None -0.9429203456951449\n",
      "None -0.945221277129166\n",
      "None -0.9471275350493173\n",
      "None -0.9485615772152421\n",
      "None -0.9497661830010089\n",
      "None -0.950715783234997\n",
      "None -0.9512390776696525\n",
      "None -0.9518391103310591\n",
      "None -0.9521789660523379\n",
      "None -0.9527045972079315\n",
      "None -0.9528393458202079\n",
      "None -0.9531952881743172\n",
      "None -0.9534415870329657\n",
      "None -0.9536929397724058\n",
      "None -0.9538117280019999\n",
      "None -0.9540697358279531\n",
      "None -0.9542203870488226\n",
      "None -0.9543639580733457\n",
      "None -0.9543354721597302\n",
      "None -0.9542386231652625\n",
      "None -0.9542559584314313\n",
      "None -0.9545738554915794\n",
      "None -0.95440881493173\n",
      "None -0.9546180725839454\n",
      "None -0.9546947953182057\n",
      "None -0.9546812422404442\n",
      "None -0.9546191967528369\n",
      "None -0.9548100661627871\n",
      "None -0.954546719412361\n"
     ]
    },
    {
     "data": {
      "application/vnd.jupyter.widget-view+json": {
       "model_id": "d1524c439ecc46939e0da8473598f093",
       "version_major": 2,
       "version_minor": 0
      },
      "text/plain": [
       "  0%|          | 0/2000 [00:00<?, ?it/s]"
      ]
     },
     "metadata": {},
     "output_type": "display_data"
    },
    {
     "name": "stdout",
     "output_type": "stream",
     "text": [
      "0.006456195244610476\n"
     ]
    },
    {
     "data": {
      "application/vnd.jupyter.widget-view+json": {
       "model_id": "f561ffae44c843e3b09e3b3153579a01",
       "version_major": 2,
       "version_minor": 0
      },
      "text/plain": [
       "  0%|          | 0/4000 [00:00<?, ?it/s]"
      ]
     },
     "metadata": {},
     "output_type": "display_data"
    },
    {
     "name": "stdout",
     "output_type": "stream",
     "text": [
      "None -0.10005388160468681\n",
      "None -0.42405318718116713\n",
      "None -0.6320790277098745\n",
      "None -0.7425074953165277\n",
      "None -0.8116027994788981\n",
      "None -0.8559139995489351\n",
      "None -0.8850631014042097\n",
      "None -0.9046691091525776\n",
      "None -0.9182227787197831\n",
      "None -0.9274731219869217\n",
      "None -0.934165036821413\n",
      "None -0.9389367503071419\n",
      "None -0.9423890545159285\n",
      "None -0.9450482954089533\n",
      "None -0.9469209580421708\n",
      "None -0.9484724535320141\n",
      "None -0.9497723780024727\n",
      "None -0.9507802170521346\n",
      "None -0.9514965852379599\n",
      "None -0.9522227467331227\n",
      "None -0.9526094364715674\n",
      "None -0.9531498692327585\n",
      "None -0.9535529022804795\n",
      "None -0.953816919471441\n",
      "None -0.9539150192840483\n",
      "None -0.9541612503585196\n",
      "None -0.9540861802952348\n",
      "None -0.9544764245129179\n",
      "None -0.9546941602801696\n",
      "None -0.9547377689133904\n",
      "None -0.9548734274367269\n",
      "None -0.9546687147572498\n",
      "None -0.9547223578711008\n",
      "None -0.9547056670450051\n",
      "None -0.9550253027193061\n",
      "None -0.9549549658133837\n",
      "None -0.9548153370141562\n",
      "None -0.9551234017161433\n",
      "None -0.9549604734355093\n",
      "None -0.9549197889617939\n",
      "None -0.9549869626356823\n"
     ]
    },
    {
     "data": {
      "application/vnd.jupyter.widget-view+json": {
       "model_id": "7600456a4b0a4a9f8d16cf2fca5d2c56",
       "version_major": 2,
       "version_minor": 0
      },
      "text/plain": [
       "  0%|          | 0/2000 [00:00<?, ?it/s]"
      ]
     },
     "metadata": {},
     "output_type": "display_data"
    },
    {
     "name": "stdout",
     "output_type": "stream",
     "text": [
      "0.006869867027357235\n"
     ]
    },
    {
     "data": {
      "application/vnd.jupyter.widget-view+json": {
       "model_id": "47eb15d7dabf4650b417a77f31157e22",
       "version_major": 2,
       "version_minor": 0
      },
      "text/plain": [
       "  0%|          | 0/4000 [00:00<?, ?it/s]"
      ]
     },
     "metadata": {},
     "output_type": "display_data"
    },
    {
     "name": "stdout",
     "output_type": "stream",
     "text": [
      "None -0.10649272393270172\n",
      "None -0.4383854741310173\n",
      "None -0.6448063487238125\n",
      "None -0.7524525831645311\n",
      "None -0.8176673019049433\n",
      "None -0.8585542238943171\n",
      "None -0.8854505432699112\n",
      "None -0.903150125676526\n",
      "None -0.915333835063852\n",
      "None -0.9236608474413437\n",
      "None -0.9295735722759504\n",
      "None -0.9337699175497175\n",
      "None -0.9368161712521103\n",
      "None -0.9392896666654147\n",
      "None -0.9408527148115887\n",
      "None -0.9421323049629065\n",
      "None -0.9432664141882298\n",
      "None -0.9440509465733019\n",
      "None -0.944746967002944\n",
      "None -0.9452356628168788\n",
      "None -0.9457115011454669\n",
      "None -0.946026911790987\n",
      "None -0.9463620877890312\n",
      "None -0.9467742772765617\n",
      "None -0.9468003623068186\n",
      "None -0.9470402107270263\n",
      "None -0.9471002729049242\n",
      "None -0.9472817984758172\n",
      "None -0.9478184996434778\n",
      "None -0.9476359645219362\n",
      "None -0.9476856740197026\n",
      "None -0.9478306461927567\n",
      "None -0.9479404697693842\n",
      "None -0.947965104611587\n",
      "None -0.948026952044081\n",
      "None -0.9478809912746395\n",
      "None -0.948260563664983\n",
      "None -0.9483146740108093\n",
      "None -0.947995712823443\n",
      "None -0.9482858390649441\n",
      "None -0.9480570795808233\n"
     ]
    },
    {
     "data": {
      "application/vnd.jupyter.widget-view+json": {
       "model_id": "d69b69c5feb547a39fee876faa51c545",
       "version_major": 2,
       "version_minor": 0
      },
      "text/plain": [
       "  0%|          | 0/2000 [00:00<?, ?it/s]"
      ]
     },
     "metadata": {},
     "output_type": "display_data"
    },
    {
     "name": "stdout",
     "output_type": "stream",
     "text": [
      "0.006841228726381435\n"
     ]
    },
    {
     "data": {
      "application/vnd.jupyter.widget-view+json": {
       "model_id": "903776dbaead4cfa811bb9c43cb6874a",
       "version_major": 2,
       "version_minor": 0
      },
      "text/plain": [
       "  0%|          | 0/4000 [00:00<?, ?it/s]"
      ]
     },
     "metadata": {},
     "output_type": "display_data"
    },
    {
     "name": "stdout",
     "output_type": "stream",
     "text": [
      "None -0.10399628293735627\n",
      "None -0.4421858451370861\n",
      "None -0.6501690444461524\n",
      "None -0.7592363446241486\n",
      "None -0.8255403859502821\n",
      "None -0.8674358236655766\n",
      "None -0.8941048105851048\n",
      "None -0.9117242253742468\n",
      "None -0.9237418769736612\n",
      "None -0.9320362891057451\n",
      "None -0.9378323590197193\n",
      "None -0.9420519515626511\n",
      "None -0.9450838020978483\n",
      "None -0.9475531158505617\n",
      "None -0.9492116469116524\n",
      "None -0.9504340581520225\n",
      "None -0.9514208416958243\n",
      "None -0.9522189049527879\n",
      "None -0.9528768762716712\n",
      "None -0.9535396231904576\n",
      "None -0.9538875357288195\n",
      "None -0.9541673517582672\n",
      "None -0.954573653633409\n",
      "None -0.9548267913384557\n",
      "None -0.9550137162028194\n",
      "None -0.9552592323875867\n",
      "None -0.9554503412024847\n",
      "None -0.9557185597276161\n",
      "None -0.9556682991531902\n",
      "None -0.9558205623963327\n",
      "None -0.9558179489826996\n",
      "None -0.9557066594061593\n",
      "None -0.955896418166067\n",
      "None -0.9559319495570736\n",
      "None -0.9562208983191053\n",
      "None -0.9562360949761203\n",
      "None -0.956076172207059\n",
      "None -0.9562806648607489\n",
      "None -0.956322558310201\n",
      "None -0.9563024323723868\n",
      "None -0.9562046863083467\n"
     ]
    },
    {
     "data": {
      "application/vnd.jupyter.widget-view+json": {
       "model_id": "2193859230e54f31897ff62440b01d08",
       "version_major": 2,
       "version_minor": 0
      },
      "text/plain": [
       "  0%|          | 0/2000 [00:00<?, ?it/s]"
      ]
     },
     "metadata": {},
     "output_type": "display_data"
    },
    {
     "name": "stdout",
     "output_type": "stream",
     "text": [
      "0.0067142192607124685\n"
     ]
    },
    {
     "data": {
      "application/vnd.jupyter.widget-view+json": {
       "model_id": "756684f361c1408492726b20a733c687",
       "version_major": 2,
       "version_minor": 0
      },
      "text/plain": [
       "  0%|          | 0/4000 [00:00<?, ?it/s]"
      ]
     },
     "metadata": {},
     "output_type": "display_data"
    },
    {
     "name": "stdout",
     "output_type": "stream",
     "text": [
      "None -0.09958533485960482\n",
      "None -0.4275460485062987\n",
      "None -0.6398716016677661\n",
      "None -0.7520199516207877\n",
      "None -0.8200165245423877\n",
      "None -0.8621661601833881\n",
      "None -0.8893641143082804\n",
      "None -0.9073254152763135\n",
      "None -0.9195473704497544\n",
      "None -0.9280335042141339\n",
      "None -0.9341653835342567\n",
      "None -0.9384680805893539\n",
      "None -0.9415895461463197\n",
      "None -0.9438898864393401\n",
      "None -0.9455478683984561\n",
      "None -0.9468998128597713\n",
      "None -0.947897203839284\n",
      "None -0.9487399295455219\n",
      "None -0.9494623903117833\n",
      "None -0.9498651638812092\n",
      "None -0.9501440740811985\n",
      "None -0.9505563111558258\n",
      "None -0.9510464189138081\n",
      "None -0.9511539268483461\n",
      "None -0.9514067320565788\n",
      "None -0.9515788697083849\n",
      "None -0.9517592300187676\n",
      "None -0.9516129654773007\n",
      "None -0.9518035977754943\n",
      "None -0.9520607196050487\n",
      "None -0.9522191144164109\n",
      "None -0.9519549027842633\n",
      "None -0.9520519540238092\n",
      "None -0.9520461959125571\n",
      "None -0.9523313857294012\n",
      "None -0.952230063989543\n",
      "None -0.9523347522348041\n",
      "None -0.952406446953683\n",
      "None -0.952473202073624\n",
      "None -0.9522790657328525\n",
      "None -0.9525879367265119\n"
     ]
    },
    {
     "data": {
      "application/vnd.jupyter.widget-view+json": {
       "model_id": "8dcd7d05d3714416a352f80801a13624",
       "version_major": 2,
       "version_minor": 0
      },
      "text/plain": [
       "  0%|          | 0/2000 [00:00<?, ?it/s]"
      ]
     },
     "metadata": {},
     "output_type": "display_data"
    },
    {
     "name": "stdout",
     "output_type": "stream",
     "text": [
      "0.009109787174182342\n"
     ]
    },
    {
     "data": {
      "application/vnd.jupyter.widget-view+json": {
       "model_id": "7e228f6900c24a9b92c8b8e06f573718",
       "version_major": 2,
       "version_minor": 0
      },
      "text/plain": [
       "  0%|          | 0/4000 [00:00<?, ?it/s]"
      ]
     },
     "metadata": {},
     "output_type": "display_data"
    },
    {
     "name": "stdout",
     "output_type": "stream",
     "text": [
      "None -0.103228732311012\n",
      "None -0.44071582419040667\n",
      "None -0.6442968692572149\n",
      "None -0.7532057446123054\n",
      "None -0.8198633328299781\n",
      "None -0.861637109298226\n",
      "None -0.8884234780872732\n",
      "None -0.90601956515038\n",
      "None -0.917763715029939\n",
      "None -0.9260897913979167\n",
      "None -0.9316084618098879\n",
      "None -0.9356327109738132\n",
      "None -0.9388329529281626\n",
      "None -0.9412190232814687\n",
      "None -0.9425798857801804\n",
      "None -0.9439538979547338\n",
      "None -0.9447461601280835\n",
      "None -0.9458078204141751\n",
      "None -0.9461369287616916\n",
      "None -0.9467278963079651\n",
      "None -0.9471451577696961\n",
      "None -0.9474134676100695\n",
      "None -0.9476655076401267\n",
      "None -0.947799987823016\n",
      "None -0.9480922271007599\n",
      "None -0.9478988898692011\n",
      "None -0.9482653521207077\n",
      "None -0.9484748540216231\n",
      "None -0.9484427004959228\n",
      "None -0.9486012432237151\n",
      "None -0.9485332786834852\n",
      "None -0.9486825144067378\n",
      "None -0.9488016696169126\n",
      "None -0.9485462449744856\n",
      "None -0.9490450140806119\n",
      "None -0.9490785550170723\n",
      "None -0.9489707892053001\n",
      "None -0.9486581574009879\n",
      "None -0.9490488459895471\n",
      "None -0.9490549995432761\n",
      "None -0.9487180996139515\n"
     ]
    },
    {
     "data": {
      "application/vnd.jupyter.widget-view+json": {
       "model_id": "f258e89182fa474bbd66c4b6d439f1b7",
       "version_major": 2,
       "version_minor": 0
      },
      "text/plain": [
       "  0%|          | 0/2000 [00:00<?, ?it/s]"
      ]
     },
     "metadata": {},
     "output_type": "display_data"
    },
    {
     "name": "stdout",
     "output_type": "stream",
     "text": [
      "0.006547718634990129\n"
     ]
    },
    {
     "data": {
      "application/vnd.jupyter.widget-view+json": {
       "model_id": "13464fb8bc5e4d289f2c858253d20269",
       "version_major": 2,
       "version_minor": 0
      },
      "text/plain": [
       "  0%|          | 0/4000 [00:00<?, ?it/s]"
      ]
     },
     "metadata": {},
     "output_type": "display_data"
    },
    {
     "name": "stdout",
     "output_type": "stream",
     "text": [
      "None -0.09654619859099359\n",
      "None -0.4262977984545446\n",
      "None -0.6381650853466481\n",
      "None -0.7527452698469687\n",
      "None -0.8222668725467926\n",
      "None -0.8653015434283856\n",
      "None -0.8929599999404244\n",
      "None -0.9113752888153063\n",
      "None -0.9238596297662758\n",
      "None -0.932477367592315\n",
      "None -0.9386694274020252\n",
      "None -0.943123474224662\n",
      "None -0.9462315434401681\n",
      "None -0.9485679223593423\n",
      "None -0.9500819474098655\n",
      "None -0.9513972924979304\n",
      "None -0.9523985371762601\n",
      "None -0.9532850199679456\n",
      "None -0.9539650005636803\n",
      "None -0.9544831435742792\n",
      "None -0.954813368844554\n",
      "None -0.9552154556743438\n",
      "None -0.9555486340972233\n",
      "None -0.9555619652342323\n",
      "None -0.9561009288424928\n",
      "None -0.9563508836319897\n",
      "None -0.9559902386363143\n",
      "None -0.9563748776798134\n",
      "None -0.9564993462630677\n",
      "None -0.9567375176970191\n",
      "None -0.956732277509915\n",
      "None -0.9568563856488098\n",
      "None -0.9564716432838144\n",
      "None -0.9568614104021693\n",
      "None -0.9572234025460739\n",
      "None -0.9569627852182272\n",
      "None -0.9570359094594788\n",
      "None -0.9569541488371154\n",
      "None -0.9569374711799784\n",
      "None -0.9572003535195619\n",
      "None -0.9569919133501853\n"
     ]
    },
    {
     "data": {
      "application/vnd.jupyter.widget-view+json": {
       "model_id": "c05ff797ef9b4e4a85dcd869d334eeca",
       "version_major": 2,
       "version_minor": 0
      },
      "text/plain": [
       "  0%|          | 0/2000 [00:00<?, ?it/s]"
      ]
     },
     "metadata": {},
     "output_type": "display_data"
    },
    {
     "name": "stdout",
     "output_type": "stream",
     "text": [
      "0.006689347866923746\n"
     ]
    },
    {
     "data": {
      "application/vnd.jupyter.widget-view+json": {
       "model_id": "f5c7ea20455149958bcbafac8d238985",
       "version_major": 2,
       "version_minor": 0
      },
      "text/plain": [
       "  0%|          | 0/4000 [00:00<?, ?it/s]"
      ]
     },
     "metadata": {},
     "output_type": "display_data"
    },
    {
     "name": "stdout",
     "output_type": "stream",
     "text": [
      "None -0.10183418804051338\n",
      "None -0.43409866511334505\n",
      "None -0.6462637347574438\n",
      "None -0.7570019637682892\n",
      "None -0.8238787554948448\n",
      "None -0.8648623957216206\n",
      "None -0.8910204087231197\n",
      "None -0.9081891208778298\n",
      "None -0.9198903929216209\n",
      "None -0.927663454967856\n",
      "None -0.933159173267024\n",
      "None -0.9369999354842389\n",
      "None -0.9398953322098779\n",
      "None -0.9420304891753208\n",
      "None -0.9433932098572916\n",
      "None -0.9446301509846518\n",
      "None -0.9456761648127924\n",
      "None -0.9462421117319068\n",
      "None -0.9468529541827251\n",
      "None -0.947295265104164\n",
      "None -0.9477199539382177\n",
      "None -0.9477752411959429\n",
      "None -0.9482419595554803\n",
      "None -0.9485555874734384\n",
      "None -0.9486444525114061\n",
      "None -0.948861744564909\n",
      "None -0.9490585145864706\n",
      "None -0.9487233455517935\n",
      "None -0.9488032362083378\n",
      "None -0.949114965095508\n",
      "None -0.9493606762465532\n",
      "None -0.9494182406260165\n",
      "None -0.9494998764587255\n",
      "None -0.9494349478739894\n",
      "None -0.9495065839381177\n",
      "None -0.9495555805540126\n",
      "None -0.9493806442997719\n",
      "None -0.9495427436707973\n",
      "None -0.9497138880391744\n",
      "None -0.9495287327134233\n",
      "None -0.9496272315987553\n"
     ]
    },
    {
     "data": {
      "application/vnd.jupyter.widget-view+json": {
       "model_id": "1032f2847c9145b8ae44eafe2b9785c9",
       "version_major": 2,
       "version_minor": 0
      },
      "text/plain": [
       "  0%|          | 0/2000 [00:00<?, ?it/s]"
      ]
     },
     "metadata": {},
     "output_type": "display_data"
    },
    {
     "name": "stdout",
     "output_type": "stream",
     "text": [
      "0.00690214860148697\n"
     ]
    },
    {
     "data": {
      "application/vnd.jupyter.widget-view+json": {
       "model_id": "c8b0717767c54e1088c1b2a1ea253e2e",
       "version_major": 2,
       "version_minor": 0
      },
      "text/plain": [
       "  0%|          | 0/4000 [00:00<?, ?it/s]"
      ]
     },
     "metadata": {},
     "output_type": "display_data"
    },
    {
     "name": "stdout",
     "output_type": "stream",
     "text": [
      "None -0.09354005178893231\n",
      "None -0.41050718089263755\n",
      "None -0.633251418668288\n",
      "None -0.7457676928647359\n",
      "None -0.8147378220747934\n",
      "None -0.8585371987840356\n",
      "None -0.8870535603688846\n",
      "None -0.9063478528902855\n",
      "None -0.9196210929983296\n",
      "None -0.9288676964325313\n",
      "None -0.935357746425808\n",
      "None -0.9400540882476953\n",
      "None -0.9434959066243139\n",
      "None -0.9459850002520985\n",
      "None -0.9478991358431603\n",
      "None -0.9494713043888269\n",
      "None -0.9505211125167975\n",
      "None -0.9514595216844247\n",
      "None -0.9521376711382896\n",
      "None -0.952920103619031\n",
      "None -0.9533855635989965\n",
      "None -0.953720874075874\n",
      "None -0.9542181484959584\n",
      "None -0.9543388575194688\n",
      "None -0.9544256511648497\n",
      "None -0.9545799987043078\n",
      "None -0.9550555419353342\n",
      "None -0.9550860684634965\n",
      "None -0.9552265707888595\n",
      "None -0.9551685464177232\n",
      "None -0.9553892857141378\n",
      "None -0.9553069149601727\n",
      "None -0.9554873804023871\n",
      "None -0.9553120985428016\n",
      "None -0.9553237694689748\n",
      "None -0.9555213048944883\n",
      "None -0.9556403823322694\n",
      "None -0.955561943986313\n",
      "None -0.9560124758145704\n",
      "None -0.9557610007047729\n",
      "None -0.9554923517579411\n"
     ]
    },
    {
     "data": {
      "application/vnd.jupyter.widget-view+json": {
       "model_id": "88e735b9ce194b50897f2c617cc87710",
       "version_major": 2,
       "version_minor": 0
      },
      "text/plain": [
       "  0%|          | 0/2000 [00:00<?, ?it/s]"
      ]
     },
     "metadata": {},
     "output_type": "display_data"
    },
    {
     "name": "stdout",
     "output_type": "stream",
     "text": [
      "0.00664913501531487\n"
     ]
    },
    {
     "data": {
      "application/vnd.jupyter.widget-view+json": {
       "model_id": "a9b0c4a4b4fb45459092e93f03f7cc67",
       "version_major": 2,
       "version_minor": 0
      },
      "text/plain": [
       "  0%|          | 0/4000 [00:00<?, ?it/s]"
      ]
     },
     "metadata": {},
     "output_type": "display_data"
    },
    {
     "name": "stdout",
     "output_type": "stream",
     "text": [
      "None -0.09281837948759258\n",
      "None -0.41709000623751236\n",
      "None -0.6354517127944724\n",
      "None -0.7497651469085891\n",
      "None -0.8187425949252706\n",
      "None -0.8612472105150535\n",
      "None -0.8884944140775286\n",
      "None -0.9065746699864112\n",
      "None -0.9186284700954495\n",
      "None -0.9269746318039118\n",
      "None -0.9328918228315419\n",
      "None -0.9369273729416582\n",
      "None -0.9398301164115942\n",
      "None -0.942104800237913\n",
      "None -0.9438490081834672\n",
      "None -0.9451945890831375\n",
      "None -0.9461824042962974\n",
      "None -0.9469250175266518\n",
      "None -0.9478246506524359\n",
      "None -0.9484741094991219\n",
      "None -0.948540918628314\n",
      "None -0.9490518152494203\n",
      "None -0.9491609621755487\n",
      "None -0.9493298964849941\n",
      "None -0.9497661596277931\n",
      "None -0.950091860983549\n",
      "None -0.9500819958908734\n",
      "None -0.9501109042515894\n",
      "None -0.9502935359607514\n",
      "None -0.9505799007937913\n",
      "None -0.9506055862370415\n",
      "None -0.9508302455472234\n",
      "None -0.9505014383235053\n",
      "None -0.950620399360571\n",
      "None -0.950556687042137\n",
      "None -0.9507117378911256\n",
      "None -0.9504662353039711\n",
      "None -0.9509182580673501\n",
      "None -0.9508410762307461\n",
      "None -0.9510543738040729\n",
      "None -0.9509756246263674\n"
     ]
    }
   ],
   "source": [
    "np.random.seed(42)\n",
    "random.seed(42)\n",
    "tf.random.set_seed(42)\n",
    "\n",
    "n = 3\n",
    "d = 2**n\n",
    "\n",
    "channel_target = DilutedKrausMap( \n",
    "                               U=generate_unitary(d=d), \n",
    "                               c=0.5, \n",
    "                               d=d, \n",
    "                               rank=d-1,\n",
    "                              )\n",
    "model_list3 = []\n",
    "for i in tqdm(range(10)):\n",
    "    \n",
    "    model = model_pipeline(channel_target, noise = 1/np.sqrt(1000), N_map=5000)\n",
    "    model_list3.append(model)"
   ]
  },
  {
   "cell_type": "code",
   "execution_count": null,
   "metadata": {},
   "outputs": [],
   "source": [
    "fidelity_oneQubits = [model.logger.loss_val_list for model in model_list1]\n",
    "fidelity_twoQubits = [model.logger.loss_val_list for model in model_list2]\n",
    "fidelity_threeQubits = [model.logger.loss_val_list for model in model_list3]"
   ]
  },
  {
   "cell_type": "code",
   "execution_count": null,
   "metadata": {},
   "outputs": [],
   "source": [
    "fig = plt.figure(figsize=(6, 4), dpi=300, facecolor=\"w\", edgecolor=\"k\")\n",
    "\n",
    "plt.plot(-np.array(fidelity_oneQubits).T,\"g-\")\n",
    "plt.plot(-np.array(fidelity_twoQubits).T,\"b-\")\n",
    "plt.plot(-np.array(fidelity_threeQubits).T,\"r-\")\n",
    "#plt.yscale(\"log\")\n",
    "plt.ylim([0.9, 1.05])\n",
    "plt.grid()\n",
    "plt.show()"
   ]
  },
  {
   "cell_type": "code",
   "execution_count": null,
   "metadata": {},
   "outputs": [],
   "source": []
  }
 ],
 "metadata": {
  "kernelspec": {
   "display_name": "env_qiskit",
   "language": "python",
   "name": "env_qiskit"
  },
  "language_info": {
   "codemirror_mode": {
    "name": "ipython",
    "version": 3
   },
   "file_extension": ".py",
   "mimetype": "text/x-python",
   "name": "python",
   "nbconvert_exporter": "python",
   "pygments_lexer": "ipython3",
   "version": "3.10.4"
  }
 },
 "nbformat": 4,
 "nbformat_minor": 4
}
