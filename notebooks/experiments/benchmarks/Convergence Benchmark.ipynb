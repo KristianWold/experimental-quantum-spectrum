{
 "cells": [
  {
   "cell_type": "markdown",
   "metadata": {},
   "source": [
    "## Convergence Benchmark"
   ]
  },
  {
   "cell_type": "code",
   "execution_count": null,
   "metadata": {},
   "outputs": [],
   "source": [
    "import sys\n",
    "sys.path.insert(0, '../../../src_tf/')\n",
    "\n",
    "import numpy as np\n",
    "import qiskit as qk\n",
    "import matplotlib.pyplot as plt\n",
    "import multiprocessing as mp\n",
    "import random\n",
    "import pickle\n",
    "\n",
    "from qiskit.quantum_info import DensityMatrix\n",
    "from qiskit.quantum_info import Operator\n",
    "from qiskit.quantum_info import random_unitary\n",
    "from scipy.linalg import sqrtm\n",
    "from tqdm.notebook import tqdm\n",
    "\n",
    "from loss_functions import *\n",
    "from optimization import *\n",
    "from quantum_maps import *\n",
    "from quantum_tools import *\n",
    "from experiments import *\n",
    "#np.set_printoptions(threshold=sys.maxsize)\n",
    "np.set_printoptions(precision=3)\n",
    "\n",
    "import os\n",
    "os.environ[\"CUDA_VISIBLE_DEVICES\"] = \"-1\""
   ]
  },
  {
   "cell_type": "code",
   "execution_count": 54,
   "metadata": {},
   "outputs": [],
   "source": [
    "def generate_spam_benchmark(n=3, c1=1, c2=1):\n",
    "    d = 2**n\n",
    "    spam_target = SPAM(d=d)\n",
    "\n",
    "    init_target = c1*init_ideal(d) + (1-c1)*spam_target.init\n",
    "    povm_target = c2*povm_ideal(d) + (1-c2)*spam_target.povm\n",
    "\n",
    "    spam_target = SPAM(d=d,\n",
    "                       init = init_target,\n",
    "                       povm = povm_target)\n",
    "    \n",
    "    return spam_target\n",
    "\n",
    "\n",
    "def generate_spam_data(spam_target, N_spam=None, noise=0):\n",
    "    n = spam_target.n\n",
    "    inputs_spam, _ = generate_pauliInput_circuits(n, N_spam)\n",
    "    N_spam = inputs_spam.shape[0]\n",
    "\n",
    "    state = tf.repeat(spam_target.init[None,:,:], N_spam, axis=0)\n",
    "    state = apply_unitary(state, inputs_spam)\n",
    "    targets_spam = measurement(state, povm = spam_target.povm)\n",
    "\n",
    "    #add noise\n",
    "    targets_spam = add_noise_to_probs(targets_spam, noise=noise)\n",
    "    return inputs_spam, targets_spam\n",
    "\n",
    "\n",
    "def generate_map_data(channel_target, spam_target, N_map=None, noise=0):\n",
    "    n = int(np.log2(channel_target.d))\n",
    "    inputs_map, _ = generate_pauli_circuits(n = n, \n",
    "                                            circuit_target=None,  \n",
    "                                            trace=False,\n",
    "                                            N=N_map)\n",
    "    U_prep, U_basis = inputs_map\n",
    "\n",
    "    N_map = U_prep.shape[0]\n",
    "    state = tf.repeat(tf.expand_dims(spam_target.init, axis=0), N_map, axis=0)\n",
    "    state = apply_unitary(state, U_prep)\n",
    "    state = channel_target.apply_channel(state)\n",
    "    targets_map = measurement(state, U_basis, spam_target.povm)\n",
    "    \n",
    "    return inputs_map, targets_map\n",
    "\n",
    "\n",
    "def povm_fidelity(spam_a, spam_b):\n",
    "    d = spam_a.d\n",
    "    povm_a, povm_b = spam_a.povm, spam_b.povm\n",
    "    ab = tf.matmul(povm_a, povm_b)\n",
    "    ab_sqrt = tf.linalg.sqrtm(ab)\n",
    "    fidelity = tf.math.reduce_sum(tf.linalg.trace(ab_sqrt))/d\n",
    "    return fidelity\n",
    "\n",
    "\n",
    "def model_pipeline(channel_target, noise, N_map=2000, rank = None):\n",
    "    # Make Benchmark\n",
    "    #################################################################################\n",
    "    d = channel_target.d\n",
    "    if rank is None:\n",
    "        rank = d**2\n",
    "    \n",
    "    spam_target = generate_spam_benchmark(n=n, c1=0.8, c2=0.8)\n",
    "    inputs_spam, targets_spam = generate_spam_data(spam_target, N_spam=None, noise=noise)\n",
    "\n",
    "    inputs_map, targets_map = generate_map_data(channel_target, spam_target, N_map=N_map, noise=noise)\n",
    "    #################################################################################\n",
    "\n",
    "    # Fit Models\n",
    "    #################################################################################\n",
    "    spam_model = SPAM(d=d,\n",
    "                      use_corr_mat=True,\n",
    "                      optimizer = tf.optimizers.Adam(learning_rate=0.01))\n",
    "\n",
    "    spam_model.pretrain(targets = [init_ideal(d), povm_ideal(d)],\n",
    "                        num_iter = 300,\n",
    "                        verbose = False,\n",
    "                        )\n",
    "\n",
    "    spam_model.train(inputs = inputs_spam,\n",
    "                     targets = targets_spam,\n",
    "                     num_iter = 2000,\n",
    "                     verbose = False,\n",
    "                    )\n",
    "\n",
    "    model = ModelQuantumMap(channel = KrausMap(d = d, \n",
    "                                               rank = rank,\n",
    "                                               spam = spam_model,\n",
    "                                              ),\n",
    "                            loss_function = ProbabilityMSE(),\n",
    "                            optimizer = tf.optimizers.Adam(learning_rate=0.01),\n",
    "                            logger = Logger(loss_function = channel_fidelity_loss),\n",
    "                           )\n",
    "\n",
    "    model.train(inputs = inputs_map,\n",
    "                targets = targets_map,\n",
    "                inputs_val = None,\n",
    "                targets_val = [channel_target],\n",
    "                num_iter = 4000,\n",
    "                N = 500,\n",
    "                )\n",
    "    #################################################################################\n",
    "\n",
    "    return model"
   ]
  },
  {
   "cell_type": "markdown",
   "metadata": {},
   "source": [
    "## Retrieve SPAM and Map"
   ]
  },
  {
   "cell_type": "code",
   "execution_count": 61,
   "metadata": {
    "scrolled": true
   },
   "outputs": [
    {
     "data": {
      "application/vnd.jupyter.widget-view+json": {
       "model_id": "bb8f7cc4d5e34930bd328a82b93ba0a6",
       "version_major": 2,
       "version_minor": 0
      },
      "text/plain": [
       "  0%|          | 0/10 [00:00<?, ?it/s]"
      ]
     },
     "metadata": {},
     "output_type": "display_data"
    },
    {
     "data": {
      "application/vnd.jupyter.widget-view+json": {
       "model_id": "9a9bb88eb865455b96c7ad5e1f75b2ac",
       "version_major": 2,
       "version_minor": 0
      },
      "text/plain": [
       "  0%|          | 0/2000 [00:00<?, ?it/s]"
      ]
     },
     "metadata": {},
     "output_type": "display_data"
    },
    {
     "name": "stdout",
     "output_type": "stream",
     "text": [
      "0.00036975542814663326\n"
     ]
    },
    {
     "data": {
      "application/vnd.jupyter.widget-view+json": {
       "model_id": "b9d3f246107340ee84c4cf082b4763c6",
       "version_major": 2,
       "version_minor": 0
      },
      "text/plain": [
       "  0%|          | 0/4000 [00:00<?, ?it/s]"
      ]
     },
     "metadata": {},
     "output_type": "display_data"
    },
    {
     "name": "stdout",
     "output_type": "stream",
     "text": [
      "None -0.47840024968070693\n",
      "None -0.8818654662632592\n",
      "None -0.9445144916046343\n",
      "None -0.9645375887617914\n",
      "None -0.9736241060739039\n",
      "None -0.9784594646977062\n",
      "None -0.9812544853433097\n",
      "None -0.9829409947260024\n",
      "None -0.9839801065229291\n",
      "None -0.9846261451917957\n",
      "None -0.9850286612673446\n",
      "None -0.9852782475296944\n",
      "None -0.985430913807518\n",
      "None -0.985522105847466\n",
      "None -0.9855748094555693\n",
      "None -0.9856040310404746\n",
      "None -0.9856195050741451\n",
      "None -0.9856272950279134\n",
      "None -0.9856309968278233\n",
      "None -0.985632683651716\n",
      "None -0.9856333929610541\n",
      "None -0.9856336709341614\n",
      "None -0.9856337699817772\n",
      "None -0.9856338204539934\n",
      "None -0.9856338239495299\n",
      "None -0.9856338345483462\n",
      "None -0.9856338258842039\n",
      "None -0.9856338330340106\n",
      "None -0.9856338273781254\n",
      "None -0.9856338356946689\n",
      "None -0.9856338339774281\n",
      "None -0.9856338212084098\n",
      "None -0.9856338244572193\n",
      "None -0.9856338261939159\n",
      "None -0.9856338195360916\n",
      "None -0.985633818505134\n",
      "None -0.9856338256048649\n",
      "None -0.9856338269710687\n",
      "None -0.9856338216075744\n",
      "None -0.9856338221172848\n",
      "None -0.9856338223097791\n"
     ]
    },
    {
     "data": {
      "application/vnd.jupyter.widget-view+json": {
       "model_id": "792edb0b92004c199fcbad6697a12c69",
       "version_major": 2,
       "version_minor": 0
      },
      "text/plain": [
       "  0%|          | 0/2000 [00:00<?, ?it/s]"
      ]
     },
     "metadata": {},
     "output_type": "display_data"
    },
    {
     "name": "stdout",
     "output_type": "stream",
     "text": [
      "0.00011470887011810069\n"
     ]
    },
    {
     "data": {
      "application/vnd.jupyter.widget-view+json": {
       "model_id": "105d72d02da5440c98eb03fef00ed185",
       "version_major": 2,
       "version_minor": 0
      },
      "text/plain": [
       "  0%|          | 0/4000 [00:00<?, ?it/s]"
      ]
     },
     "metadata": {},
     "output_type": "display_data"
    },
    {
     "name": "stdout",
     "output_type": "stream",
     "text": [
      "None -0.3660260123229256\n",
      "None -0.8324742054497868\n",
      "None -0.9362299479862903\n",
      "None -0.961854440770041\n",
      "None -0.9708696639659636\n",
      "None -0.9747722699155695\n",
      "None -0.9766011500208\n",
      "None -0.9774675602510075\n",
      "None -0.977868990279139\n",
      "None -0.9780488061164173\n",
      "None -0.9781267159900515\n",
      "None -0.9781595455156812\n",
      "None -0.9781730722412717\n",
      "None -0.9781785055612376\n",
      "None -0.9781806375374952\n",
      "None -0.9781814336176546\n",
      "None -0.9781817202236751\n",
      "None -0.9781818091292697\n",
      "None -0.9781818441100119\n",
      "None -0.9781818563828442\n",
      "None -0.9781818577726732\n",
      "None -0.9781818547691012\n",
      "None -0.9781818531442792\n",
      "None -0.9781818525042626\n",
      "None -0.9781818518279938\n",
      "None -0.9781818618517168\n",
      "None -0.9781818461110968\n",
      "None -0.9781818523140222\n",
      "None -0.9781818564341557\n",
      "None -0.978181853246302\n",
      "None -0.9781818526759203\n",
      "None -0.9781818547793834\n",
      "None -0.9781818616159987\n",
      "None -0.9781818489565812\n",
      "None -0.9781818559137404\n",
      "None -0.9781818597172695\n",
      "None -0.9781818517528565\n",
      "None -0.9781818557864197\n",
      "None -0.9781818543716233\n",
      "None -0.9781818511729689\n",
      "None -0.9781818585053316\n"
     ]
    },
    {
     "data": {
      "application/vnd.jupyter.widget-view+json": {
       "model_id": "d898e898414a44549ccde74b09fe65a0",
       "version_major": 2,
       "version_minor": 0
      },
      "text/plain": [
       "  0%|          | 0/2000 [00:00<?, ?it/s]"
      ]
     },
     "metadata": {},
     "output_type": "display_data"
    },
    {
     "name": "stdout",
     "output_type": "stream",
     "text": [
      "0.0006690605126064435\n"
     ]
    },
    {
     "data": {
      "application/vnd.jupyter.widget-view+json": {
       "model_id": "abdcf90e808d4548974cabe2f073cc39",
       "version_major": 2,
       "version_minor": 0
      },
      "text/plain": [
       "  0%|          | 0/4000 [00:00<?, ?it/s]"
      ]
     },
     "metadata": {},
     "output_type": "display_data"
    },
    {
     "name": "stdout",
     "output_type": "stream",
     "text": [
      "None -0.23990249329734625\n",
      "None -0.8522158349196827\n",
      "None -0.888367433267949\n",
      "None -0.9077216617671616\n",
      "None -0.9235350631642775\n",
      "None -0.9352645332750279\n",
      "None -0.9413990269060036\n",
      "None -0.9441026304520886\n",
      "None -0.9453327875052829\n",
      "None -0.9458950256796305\n",
      "None -0.9461419993729085\n",
      "None -0.946243483276015\n",
      "None -0.9462818367994045\n",
      "None -0.9462950559246752\n",
      "None -0.9462991724731458\n",
      "None -0.9463003443481246\n",
      "None -0.9463006249219301\n",
      "None -0.9463006994851961\n",
      "None -0.9463007047665695\n",
      "None -0.9463007068546031\n",
      "None -0.9463007072086855\n",
      "None -0.9463007047910915\n",
      "None -0.9463007041798215\n",
      "None -0.9463007057694083\n",
      "None -0.9463007118420464\n",
      "None -0.9463007069721777\n",
      "None -0.9463007156351743\n",
      "None -0.9463007077328505\n",
      "None -0.9463007129015426\n",
      "None -0.9463007184455069\n",
      "None -0.9463007097830914\n",
      "None -0.9463007083357434\n",
      "None -0.9463007077886042\n",
      "None -0.9463007182675016\n",
      "None -0.9463007204838478\n",
      "None -0.9463007080973596\n",
      "None -0.9463007129439669\n",
      "None -0.9463007090569406\n",
      "None -0.9463007076954275\n",
      "None -0.9463007066555933\n",
      "None -0.9463007051984079\n"
     ]
    },
    {
     "data": {
      "application/vnd.jupyter.widget-view+json": {
       "model_id": "59abb6633d214e118c4a0d380f573647",
       "version_major": 2,
       "version_minor": 0
      },
      "text/plain": [
       "  0%|          | 0/2000 [00:00<?, ?it/s]"
      ]
     },
     "metadata": {},
     "output_type": "display_data"
    },
    {
     "name": "stdout",
     "output_type": "stream",
     "text": [
      "2.5114237599569177e-05\n"
     ]
    },
    {
     "data": {
      "application/vnd.jupyter.widget-view+json": {
       "model_id": "303d3e17c7bf454b9925a154cf4fb276",
       "version_major": 2,
       "version_minor": 0
      },
      "text/plain": [
       "  0%|          | 0/4000 [00:00<?, ?it/s]"
      ]
     },
     "metadata": {},
     "output_type": "display_data"
    },
    {
     "name": "stdout",
     "output_type": "stream",
     "text": [
      "None -0.47641291801336\n",
      "None -0.8858222774067356\n",
      "None -0.9627379393731882\n",
      "None -0.9794677042063941\n",
      "None -0.9857442598074254\n",
      "None -0.9886694707807266\n",
      "None -0.9901630292280147\n",
      "None -0.990947916436862\n",
      "None -0.9913570466981443\n",
      "None -0.9915638321672489\n",
      "None -0.9916638984807064\n",
      "None -0.9917100585501347\n",
      "None -0.9917304072093823\n",
      "None -0.9917390237757476\n",
      "None -0.9917425487576578\n",
      "None -0.9917439378339058\n",
      "None -0.9917444639570632\n",
      "None -0.991744632902954\n",
      "None -0.9917446745654557\n",
      "None -0.9917446805155398\n",
      "None -0.9917446687467324\n",
      "None -0.9917446666219751\n",
      "None -0.9917446601909686\n",
      "None -0.9917446569493555\n",
      "None -0.991744647804108\n",
      "None -0.9917446484860485\n",
      "None -0.9917446564869824\n",
      "None -0.9917446546042524\n",
      "None -0.9917446474275363\n",
      "None -0.9917446458817384\n",
      "None -0.9917446486815901\n",
      "None -0.9917446498527164\n",
      "None -0.9917446500216077\n",
      "None -0.9917446434309577\n",
      "None -0.991744645426665\n",
      "None -0.9917446534760749\n",
      "None -0.9917446502738186\n",
      "None -0.9917446489489865\n",
      "None -0.9917446469496723\n",
      "None -0.9917446441654301\n",
      "None -0.9917446546202118\n"
     ]
    },
    {
     "data": {
      "application/vnd.jupyter.widget-view+json": {
       "model_id": "1c74ba72ae5b45c19158de076726127f",
       "version_major": 2,
       "version_minor": 0
      },
      "text/plain": [
       "  0%|          | 0/2000 [00:00<?, ?it/s]"
      ]
     },
     "metadata": {},
     "output_type": "display_data"
    },
    {
     "name": "stdout",
     "output_type": "stream",
     "text": [
      "6.317399369186854e-05\n"
     ]
    },
    {
     "data": {
      "application/vnd.jupyter.widget-view+json": {
       "model_id": "8f1058bffe0041bfb58aa7d8e51e164c",
       "version_major": 2,
       "version_minor": 0
      },
      "text/plain": [
       "  0%|          | 0/4000 [00:00<?, ?it/s]"
      ]
     },
     "metadata": {},
     "output_type": "display_data"
    },
    {
     "name": "stdout",
     "output_type": "stream",
     "text": [
      "None -0.4307566143475312\n",
      "None -0.8667445812819438\n",
      "None -0.94116077967748\n",
      "None -0.9646130663983775\n",
      "None -0.9745925853036169\n",
      "None -0.9795124656172661\n",
      "None -0.9821238114251318\n",
      "None -0.9835801311282931\n",
      "None -0.9844337624689828\n",
      "None -0.9849642600492623\n",
      "None -0.9853149792198189\n",
      "None -0.9855596616094476\n",
      "None -0.9857371824860721\n",
      "None -0.9858691319208075\n",
      "None -0.9859685237555591\n",
      "None -0.9860438291126318\n",
      "None -0.9861009340752239\n",
      "None -0.9861440725736068\n",
      "None -0.9861764626589219\n",
      "None -0.9862005418079784\n",
      "None -0.9862182311876612\n",
      "None -0.9862310500112307\n",
      "None -0.9862401775666191\n",
      "None -0.9862465718522685\n",
      "None -0.9862509593796466\n",
      "None -0.9862539035521022\n",
      "None -0.9862558428821453\n",
      "None -0.9862570914463173\n",
      "None -0.9862578721677087\n",
      "None -0.9862583488308893\n",
      "None -0.9862586375884483\n",
      "None -0.9862588068011717\n",
      "None -0.9862589047565032\n",
      "None -0.986258952524286\n",
      "None -0.9862589821234616\n",
      "None -0.9862590036918797\n",
      "None -0.9862590120875014\n",
      "None -0.9862590118470331\n",
      "None -0.986259018971472\n",
      "None -0.9862590177601012\n",
      "None -0.9862590198958983\n"
     ]
    },
    {
     "data": {
      "application/vnd.jupyter.widget-view+json": {
       "model_id": "e529c49d6581471492efca39e4ad7bf9",
       "version_major": 2,
       "version_minor": 0
      },
      "text/plain": [
       "  0%|          | 0/2000 [00:00<?, ?it/s]"
      ]
     },
     "metadata": {},
     "output_type": "display_data"
    },
    {
     "name": "stdout",
     "output_type": "stream",
     "text": [
      "0.000141052733323518\n"
     ]
    },
    {
     "data": {
      "application/vnd.jupyter.widget-view+json": {
       "model_id": "b97e977d32aa4dd9b63784e10952668f",
       "version_major": 2,
       "version_minor": 0
      },
      "text/plain": [
       "  0%|          | 0/4000 [00:00<?, ?it/s]"
      ]
     },
     "metadata": {},
     "output_type": "display_data"
    },
    {
     "name": "stdout",
     "output_type": "stream",
     "text": [
      "None -0.4248686913509641\n",
      "None -0.9327809615610336\n",
      "None -0.9666505825880647\n",
      "None -0.97682229071526\n",
      "None -0.9814006095795216\n",
      "None -0.9838615184042209\n",
      "None -0.9853089064639514\n",
      "None -0.9862049285276309\n",
      "None -0.9867755637132868\n",
      "None -0.9871438917819875\n",
      "None -0.9873826242030028\n",
      "None -0.9875373574784788\n",
      "None -0.9876376724823254\n",
      "None -0.9877029774683234\n",
      "None -0.9877458466655544\n",
      "None -0.9877742883689227\n",
      "None -0.9877933371519718\n",
      "None -0.9878061461407809\n",
      "None -0.987814729029406\n",
      "None -0.987820424252792\n",
      "None -0.9878241567852157\n",
      "None -0.9878265038381008\n",
      "None -0.9878279740663085\n",
      "None -0.9878288559886745\n",
      "None -0.9878293824985329\n",
      "None -0.9878296693921742\n",
      "None -0.9878298297447079\n",
      "None -0.9878299072325089\n",
      "None -0.9878299573199194\n",
      "None -0.9878299659698635\n",
      "None -0.987829975725462\n",
      "None -0.9878299836408929\n",
      "None -0.9878299870181677\n",
      "None -0.9878299857521787\n",
      "None -0.9878299895444171\n",
      "None -0.9878299824788277\n",
      "None -0.9878299767080471\n",
      "None -0.9878299861868559\n",
      "None -0.9878299857523198\n",
      "None -0.9878299808228382\n",
      "None -0.9878299849715767\n"
     ]
    },
    {
     "data": {
      "application/vnd.jupyter.widget-view+json": {
       "model_id": "3f75c0abfb8e47c8bdbfb315dc12c7d8",
       "version_major": 2,
       "version_minor": 0
      },
      "text/plain": [
       "  0%|          | 0/2000 [00:00<?, ?it/s]"
      ]
     },
     "metadata": {},
     "output_type": "display_data"
    },
    {
     "name": "stdout",
     "output_type": "stream",
     "text": [
      "9.555040216922313e-05\n"
     ]
    },
    {
     "data": {
      "application/vnd.jupyter.widget-view+json": {
       "model_id": "f50ce377d30540f38638e37e48bc3cd9",
       "version_major": 2,
       "version_minor": 0
      },
      "text/plain": [
       "  0%|          | 0/4000 [00:00<?, ?it/s]"
      ]
     },
     "metadata": {},
     "output_type": "display_data"
    },
    {
     "name": "stdout",
     "output_type": "stream",
     "text": [
      "None -0.4490941281467796\n",
      "None -0.8741728324136666\n",
      "None -0.912138096435006\n",
      "None -0.9227922487218082\n",
      "None -0.9257174288560532\n",
      "None -0.9264209974015676\n",
      "None -0.9265533792761161\n",
      "None -0.9265697015839077\n",
      "None -0.9265699287752137\n",
      "None -0.9265693871659539\n",
      "None -0.9265691930621891\n",
      "None -0.9265691448465068\n",
      "None -0.9265691412259249\n",
      "None -0.9265691284904156\n",
      "None -0.9265691390137029\n",
      "None -0.9265691282646883\n",
      "None -0.9265691266518851\n",
      "None -0.9265691351485635\n",
      "None -0.9265691263571778\n",
      "None -0.9265691303631994\n",
      "None -0.9265691338937134\n",
      "None -0.9265691295911785\n",
      "None -0.9265691335327495\n",
      "None -0.9265691318827994\n",
      "None -0.9265691354629759\n",
      "None -0.9265691325782026\n",
      "None -0.9265691294239407\n",
      "None -0.9265691309453565\n",
      "None -0.9265691333733714\n",
      "None -0.926569137558676\n",
      "None -0.9265691306039502\n",
      "None -0.9265691325114228\n",
      "None -0.9265691329057374\n",
      "None -0.9265691295152639\n",
      "None -0.9265691391514926\n",
      "None -0.9265691323082578\n",
      "None -0.926569135418623\n",
      "None -0.9265691333194158\n",
      "None -0.926569141098045\n",
      "None -0.9265691344923038\n",
      "None -0.9265691365045823\n"
     ]
    },
    {
     "data": {
      "application/vnd.jupyter.widget-view+json": {
       "model_id": "376338c11a9049128b9a876201b79b94",
       "version_major": 2,
       "version_minor": 0
      },
      "text/plain": [
       "  0%|          | 0/2000 [00:00<?, ?it/s]"
      ]
     },
     "metadata": {},
     "output_type": "display_data"
    },
    {
     "name": "stdout",
     "output_type": "stream",
     "text": [
      "2.732909578705658e-05\n"
     ]
    },
    {
     "data": {
      "application/vnd.jupyter.widget-view+json": {
       "model_id": "4a63d2cafa0542e1adb8adae40f8d8f5",
       "version_major": 2,
       "version_minor": 0
      },
      "text/plain": [
       "  0%|          | 0/4000 [00:00<?, ?it/s]"
      ]
     },
     "metadata": {},
     "output_type": "display_data"
    },
    {
     "name": "stdout",
     "output_type": "stream",
     "text": [
      "None -0.34016074683558273\n",
      "None -0.9307977434971804\n",
      "None -0.9780892202775474\n",
      "None -0.9865173317032399\n",
      "None -0.9898797717310116\n",
      "None -0.991576521750449\n",
      "None -0.9925430140679957\n",
      "None -0.9931363353807818\n",
      "None -0.9935199240528363\n",
      "None -0.9937778280165132\n",
      "None -0.9939568513593134\n",
      "None -0.9940845833158424\n",
      "None -0.9941780107436325\n",
      "None -0.9942479259306887\n",
      "None -0.9943013267527536\n",
      "None -0.9943428608239511\n",
      "None -0.9943755973198785\n",
      "None -0.994401685054418\n",
      "None -0.9944225841093853\n",
      "None -0.9944393730351399\n",
      "None -0.9944528385704092\n",
      "None -0.994463602066595\n",
      "None -0.9944721401019443\n",
      "None -0.9944788538720293\n",
      "None -0.9944840869735229\n",
      "None -0.9944880981679283\n",
      "None -0.9944911402129888\n",
      "None -0.9944934020949355\n",
      "None -0.9944950665696025\n",
      "None -0.9944962585049584\n",
      "None -0.99449710081684\n",
      "None -0.9944976735149751\n",
      "None -0.9944980660082829\n",
      "None -0.9944983368276223\n",
      "None -0.9944984834039912\n",
      "None -0.9944985909260832\n",
      "None -0.994498660210669\n",
      "None -0.9944986907136384\n",
      "None -0.9944987103697513\n",
      "None -0.9944987210144014\n",
      "None -0.9944987327292314\n"
     ]
    },
    {
     "data": {
      "application/vnd.jupyter.widget-view+json": {
       "model_id": "50d1b7820132460eb88f322716304155",
       "version_major": 2,
       "version_minor": 0
      },
      "text/plain": [
       "  0%|          | 0/2000 [00:00<?, ?it/s]"
      ]
     },
     "metadata": {},
     "output_type": "display_data"
    },
    {
     "name": "stdout",
     "output_type": "stream",
     "text": [
      "0.0002476267239227041\n"
     ]
    },
    {
     "data": {
      "application/vnd.jupyter.widget-view+json": {
       "model_id": "7fbb46f837254cb5a0b45dde4fcfce09",
       "version_major": 2,
       "version_minor": 0
      },
      "text/plain": [
       "  0%|          | 0/4000 [00:00<?, ?it/s]"
      ]
     },
     "metadata": {},
     "output_type": "display_data"
    },
    {
     "name": "stdout",
     "output_type": "stream",
     "text": [
      "None -0.43048324934255017\n",
      "None -0.8810728618701046\n",
      "None -0.9482807535463295\n",
      "None -0.964843498883165\n",
      "None -0.9710907436903077\n",
      "None -0.9737798636185521\n",
      "None -0.9750483290945287\n",
      "None -0.9757024393662319\n",
      "None -0.9760463291651513\n",
      "None -0.9762163024086182\n",
      "None -0.9762922708754609\n",
      "None -0.9763226998209605\n",
      "None -0.9763335926875956\n",
      "None -0.97633709913257\n",
      "None -0.9763381059620374\n",
      "None -0.9763383535951872\n",
      "None -0.9763384113399273\n",
      "None -0.9763384262863704\n",
      "None -0.9763384384343983\n",
      "None -0.9763384278535088\n",
      "None -0.9763384380804896\n",
      "None -0.976338425143537\n",
      "None -0.9763384307929152\n",
      "None -0.9763384308292811\n",
      "None -0.9763384293688361\n",
      "None -0.9763384228249777\n",
      "None -0.9763384278240338\n",
      "None -0.9763384292047015\n",
      "None -0.9763384345569187\n",
      "None -0.9763384276514007\n",
      "None -0.9763384252705882\n",
      "None -0.9763384284351471\n",
      "None -0.9763384214749109\n",
      "None -0.9763384280336367\n",
      "None -0.97633843100306\n",
      "None -0.9763384306091498\n",
      "None -0.9763384237211598\n",
      "None -0.9763384305530927\n",
      "None -0.9763384224086658\n",
      "None -0.9763384260619669\n",
      "None -0.9763384323394951\n"
     ]
    },
    {
     "data": {
      "application/vnd.jupyter.widget-view+json": {
       "model_id": "f1a736189ca0457d91b5cde501814bc6",
       "version_major": 2,
       "version_minor": 0
      },
      "text/plain": [
       "  0%|          | 0/2000 [00:00<?, ?it/s]"
      ]
     },
     "metadata": {},
     "output_type": "display_data"
    },
    {
     "name": "stdout",
     "output_type": "stream",
     "text": [
      "0.0002661871795034816\n"
     ]
    },
    {
     "data": {
      "application/vnd.jupyter.widget-view+json": {
       "model_id": "49ea779ab94d45d48d373c0120153ddf",
       "version_major": 2,
       "version_minor": 0
      },
      "text/plain": [
       "  0%|          | 0/4000 [00:00<?, ?it/s]"
      ]
     },
     "metadata": {},
     "output_type": "display_data"
    },
    {
     "name": "stdout",
     "output_type": "stream",
     "text": [
      "None -0.697449673800992\n",
      "None -0.9588519255064674\n",
      "None -0.9823180345492427\n",
      "None -0.9874380906725633\n",
      "None -0.9888329309161494\n",
      "None -0.9892444154793708\n",
      "None -0.9893592106916771\n",
      "None -0.989387277172133\n",
      "None -0.9893931754786551\n",
      "None -0.9893942306388223\n",
      "None -0.989394382373399\n",
      "None -0.9893944107359487\n",
      "None -0.9893944120960552\n",
      "None -0.9893944004012942\n",
      "None -0.9893944055914674\n",
      "None -0.9893944104203348\n",
      "None -0.9893944037649534\n",
      "None -0.9893944158635991\n",
      "None -0.9893944022303518\n",
      "None -0.9893944003224621\n",
      "None -0.989394404871371\n",
      "None -0.9893944051001302\n",
      "None -0.9893944074901643\n",
      "None -0.9893944081036338\n",
      "None -0.9893944118210514\n",
      "None -0.9893944000406562\n",
      "None -0.9893944090683766\n",
      "None -0.9893944064102956\n",
      "None -0.9893944087145363\n",
      "None -0.9893944128414575\n",
      "None -0.9893944080964988\n",
      "None -0.9893944036425035\n",
      "None -0.9893944138593365\n",
      "None -0.9893944114274801\n",
      "None -0.9893943998218864\n",
      "None -0.9893944060371728\n",
      "None -0.9893944095330391\n",
      "None -0.9893944021038805\n",
      "None -0.9893944194605824\n",
      "None -0.9893944204798695\n",
      "None -0.9893944170665\n"
     ]
    }
   ],
   "source": [
    "np.random.seed(42)\n",
    "random.seed(42)\n",
    "tf.random.set_seed(42)\n",
    "\n",
    "n = 1\n",
    "d = 2**n\n",
    "\n",
    "channel_target = DilutedKrausMap( \n",
    "                               U=generate_unitary(d=d), \n",
    "                               c=0.5, \n",
    "                               d=d, \n",
    "                               rank=d-1,\n",
    "                              )\n",
    "model_list1 = []\n",
    "for i in tqdm(range(10)):\n",
    "    channel_target = DilutedKrausMap( \n",
    "                               U=generate_unitary(d=d), \n",
    "                               c=0.5, \n",
    "                               d=d, \n",
    "                               rank=d-1,\n",
    "                              )\n",
    "    \n",
    "    model = model_pipeline(channel_target, noise = 1/np.sqrt(1000), N_map=None)\n",
    "    model_list1.append(model)"
   ]
  },
  {
   "cell_type": "code",
   "execution_count": 62,
   "metadata": {
    "scrolled": true
   },
   "outputs": [
    {
     "data": {
      "application/vnd.jupyter.widget-view+json": {
       "model_id": "9b44e7aeef094b5bb5c552772102d6e3",
       "version_major": 2,
       "version_minor": 0
      },
      "text/plain": [
       "  0%|          | 0/10 [00:00<?, ?it/s]"
      ]
     },
     "metadata": {},
     "output_type": "display_data"
    },
    {
     "data": {
      "application/vnd.jupyter.widget-view+json": {
       "model_id": "ea38cbedfe7f44b69d31df232dbeefb7",
       "version_major": 2,
       "version_minor": 0
      },
      "text/plain": [
       "  0%|          | 0/2000 [00:00<?, ?it/s]"
      ]
     },
     "metadata": {},
     "output_type": "display_data"
    },
    {
     "name": "stdout",
     "output_type": "stream",
     "text": [
      "0.004056401117446949\n"
     ]
    },
    {
     "data": {
      "application/vnd.jupyter.widget-view+json": {
       "model_id": "68e53c61ebbf47cda138a19d77482873",
       "version_major": 2,
       "version_minor": 0
      },
      "text/plain": [
       "  0%|          | 0/4000 [00:00<?, ?it/s]"
      ]
     },
     "metadata": {},
     "output_type": "display_data"
    },
    {
     "name": "stdout",
     "output_type": "stream",
     "text": [
      "None -0.18367121661425423\n",
      "None -0.6468194163295719\n",
      "None -0.8359949516962233\n",
      "None -0.8994743525119361\n",
      "None -0.9271943519754156\n",
      "None -0.9408380802823219\n",
      "None -0.9479949566022816\n",
      "None -0.9519628531812101\n",
      "None -0.9542841882580451\n",
      "None -0.9557099631159944\n",
      "None -0.9566252128178502\n",
      "None -0.9572383585279818\n",
      "None -0.9576665730350928\n",
      "None -0.9579771768520816\n",
      "None -0.9582095503755047\n",
      "None -0.9583874707121852\n",
      "None -0.9585259048226076\n",
      "None -0.9586348136660312\n",
      "None -0.9587211458853893\n",
      "None -0.9587899306868922\n",
      "None -0.9588449238962997\n",
      "None -0.9588889811011101\n",
      "None -0.958924314782693\n",
      "None -0.9589526430455986\n",
      "None -0.9589753293701877\n",
      "None -0.9589934595556416\n",
      "None -0.9590079176098704\n",
      "None -0.959019391339723\n",
      "None -0.9590284772636453\n",
      "None -0.9590356441517714\n",
      "None -0.9590412702228893\n",
      "None -0.9590456638015942\n",
      "None -0.9590490770693597\n",
      "None -0.9590517306257755\n",
      "None -0.9590537821306142\n",
      "None -0.9590553629220687\n",
      "None -0.9590565758056386\n",
      "None -0.9590575079996735\n",
      "None -0.9590582234548835\n",
      "None -0.9590587563288948\n",
      "None -0.959059153545322\n"
     ]
    },
    {
     "data": {
      "application/vnd.jupyter.widget-view+json": {
       "model_id": "2961eb45d25a43869f8682bb26789a45",
       "version_major": 2,
       "version_minor": 0
      },
      "text/plain": [
       "  0%|          | 0/2000 [00:00<?, ?it/s]"
      ]
     },
     "metadata": {},
     "output_type": "display_data"
    },
    {
     "name": "stdout",
     "output_type": "stream",
     "text": [
      "0.002836567361137485\n"
     ]
    },
    {
     "data": {
      "application/vnd.jupyter.widget-view+json": {
       "model_id": "2d0d842aeff04221af5af79706099fd3",
       "version_major": 2,
       "version_minor": 0
      },
      "text/plain": [
       "  0%|          | 0/4000 [00:00<?, ?it/s]"
      ]
     },
     "metadata": {},
     "output_type": "display_data"
    },
    {
     "name": "stdout",
     "output_type": "stream",
     "text": [
      "None -0.2223335209699492\n",
      "None -0.6632041632701912\n",
      "None -0.8278555440000392\n",
      "None -0.8872025794180833\n",
      "None -0.91525968153958\n",
      "None -0.9301510865294277\n",
      "None -0.938711357898402\n",
      "None -0.9439533023998848\n",
      "None -0.9473219100043401\n",
      "None -0.949565793248835\n",
      "None -0.9511028418166748\n",
      "None -0.9521813645007254\n",
      "None -0.952955550842399\n",
      "None -0.953523795062846\n",
      "None -0.9539500156698575\n",
      "None -0.9542763066977287\n",
      "None -0.9545308511449566\n",
      "None -0.9547328328727831\n",
      "None -0.9548955193256207\n",
      "None -0.9550283062641493\n",
      "None -0.9551379326712105\n",
      "None -0.9552292973205134\n",
      "None -0.9553060172052898\n",
      "None -0.9553708403093932\n",
      "None -0.9554258673120454\n",
      "None -0.9554727263180388\n",
      "None -0.9555127175940485\n",
      "None -0.9555468812044416\n",
      "None -0.9555760646282105\n",
      "None -0.955600978023377\n",
      "None -0.9556222133775024\n",
      "None -0.9556402869737732\n",
      "None -0.955655613159179\n",
      "None -0.9556685644190953\n",
      "None -0.9556794808732444\n",
      "None -0.9556886290130836\n",
      "None -0.9556962619034742\n",
      "None -0.955702587269218\n",
      "None -0.9557078092175727\n",
      "None -0.9557120863023376\n",
      "None -0.9557155624403543\n"
     ]
    },
    {
     "data": {
      "application/vnd.jupyter.widget-view+json": {
       "model_id": "3dcb9424a98a49ca8e1ae686f8d67860",
       "version_major": 2,
       "version_minor": 0
      },
      "text/plain": [
       "  0%|          | 0/2000 [00:00<?, ?it/s]"
      ]
     },
     "metadata": {},
     "output_type": "display_data"
    },
    {
     "name": "stdout",
     "output_type": "stream",
     "text": [
      "0.00358504925280489\n"
     ]
    },
    {
     "data": {
      "application/vnd.jupyter.widget-view+json": {
       "model_id": "b9f4907ef38546a0b02ce2c33e5c5870",
       "version_major": 2,
       "version_minor": 0
      },
      "text/plain": [
       "  0%|          | 0/4000 [00:00<?, ?it/s]"
      ]
     },
     "metadata": {},
     "output_type": "display_data"
    },
    {
     "name": "stdout",
     "output_type": "stream",
     "text": [
      "None -0.2186523741852449\n",
      "None -0.6505177088952243\n",
      "None -0.823497540185256\n",
      "None -0.8840734943516698\n",
      "None -0.9114301791119673\n",
      "None -0.9255835915933289\n",
      "None -0.9336154818548\n",
      "None -0.9384824367683422\n",
      "None -0.9415862094773535\n",
      "None -0.9436530200729479\n",
      "None -0.945082774079274\n",
      "None -0.9461052568031828\n",
      "None -0.9468574284866823\n",
      "None -0.9474239330332962\n",
      "None -0.947859124360886\n",
      "None -0.9481992054939536\n",
      "None -0.9484689659209339\n",
      "None -0.9486857565630399\n",
      "None -0.9488619376595094\n",
      "None -0.9490064527531215\n",
      "None -0.9491259137605333\n",
      "None -0.9492252968865331\n",
      "None -0.9493083973386588\n",
      "None -0.9493782278295105\n",
      "None -0.9494371451402046\n",
      "None -0.949487086069673\n",
      "None -0.9495296193263179\n",
      "None -0.9495660103660905\n",
      "None -0.9495973185127462\n",
      "None -0.9496243817586598\n",
      "None -0.9496479334491771\n",
      "None -0.9496685295472261\n",
      "None -0.9496866291100979\n",
      "None -0.9497026276811624\n",
      "None -0.9497168057063395\n",
      "None -0.9497294284386213\n",
      "None -0.9497406863699822\n",
      "None -0.9497507392665835\n",
      "None -0.949759711642525\n",
      "None -0.9497677096134464\n",
      "None -0.9497748342109056\n"
     ]
    },
    {
     "data": {
      "application/vnd.jupyter.widget-view+json": {
       "model_id": "129b9a5044e24e9cb95d664097bb5d5f",
       "version_major": 2,
       "version_minor": 0
      },
      "text/plain": [
       "  0%|          | 0/2000 [00:00<?, ?it/s]"
      ]
     },
     "metadata": {},
     "output_type": "display_data"
    },
    {
     "name": "stdout",
     "output_type": "stream",
     "text": [
      "0.0030664796660584207\n"
     ]
    },
    {
     "data": {
      "application/vnd.jupyter.widget-view+json": {
       "model_id": "e636da55d4654ba7a2d03cc3dca33d99",
       "version_major": 2,
       "version_minor": 0
      },
      "text/plain": [
       "  0%|          | 0/4000 [00:00<?, ?it/s]"
      ]
     },
     "metadata": {},
     "output_type": "display_data"
    },
    {
     "name": "stdout",
     "output_type": "stream",
     "text": [
      "None -0.24319439155925926\n",
      "None -0.6753070446253023\n",
      "None -0.861538597260604\n",
      "None -0.9167641324805201\n",
      "None -0.9381781993139198\n",
      "None -0.9478155294166184\n",
      "None -0.9525651107642739\n",
      "None -0.9550744149885714\n",
      "None -0.9564930765094232\n",
      "None -0.9573504341215481\n",
      "None -0.9578997082507983\n",
      "None -0.9582687540572011\n",
      "None -0.9585267683310079\n",
      "None -0.9587136016408151\n",
      "None -0.9588532867906214\n",
      "None -0.9589607631210313\n",
      "None -0.9590455104618708\n",
      "None -0.9591137544721184\n",
      "None -0.9591696631311927\n",
      "None -0.9592161377591816\n",
      "None -0.9592552304877726\n",
      "None -0.9592884461654877\n",
      "None -0.9593169054622368\n",
      "None -0.9593414233778093\n",
      "None -0.9593626776504792\n",
      "None -0.9593811318655482\n",
      "None -0.9593972058883009\n",
      "None -0.9594111993980097\n",
      "None -0.9594233765545045\n",
      "None -0.959433966234334\n",
      "None -0.9594431356032384\n",
      "None -0.9594510591758527\n",
      "None -0.9594578784524442\n",
      "None -0.9594636860395006\n",
      "None -0.9594686341104045\n",
      "None -0.9594728160497311\n",
      "None -0.9594763051256724\n",
      "None -0.9594792118969449\n",
      "None -0.9594816012926087\n",
      "None -0.9594835458670922\n",
      "None -0.9594851107244343\n"
     ]
    },
    {
     "data": {
      "application/vnd.jupyter.widget-view+json": {
       "model_id": "6004f67eda79409ba06163f9c118c14e",
       "version_major": 2,
       "version_minor": 0
      },
      "text/plain": [
       "  0%|          | 0/2000 [00:00<?, ?it/s]"
      ]
     },
     "metadata": {},
     "output_type": "display_data"
    },
    {
     "name": "stdout",
     "output_type": "stream",
     "text": [
      "0.003067803537823505\n"
     ]
    },
    {
     "data": {
      "application/vnd.jupyter.widget-view+json": {
       "model_id": "14d0b8898d6a4d479c670c3b404b2261",
       "version_major": 2,
       "version_minor": 0
      },
      "text/plain": [
       "  0%|          | 0/4000 [00:00<?, ?it/s]"
      ]
     },
     "metadata": {},
     "output_type": "display_data"
    },
    {
     "name": "stdout",
     "output_type": "stream",
     "text": [
      "None -0.19435810569026093\n",
      "None -0.6259422750788023\n",
      "None -0.8239390717175958\n",
      "None -0.8930952586117581\n",
      "None -0.9242392374240855\n",
      "None -0.9407307642770931\n",
      "None -0.9502910127435292\n",
      "None -0.9561832459366254\n",
      "None -0.9599925248407485\n",
      "None -0.96255592932565\n",
      "None -0.9643412069774546\n",
      "None -0.9656214221307371\n",
      "None -0.9665620700418345\n",
      "None -0.9672672124279763\n",
      "None -0.9678045523116754\n",
      "None -0.9682195529782119\n",
      "None -0.9685436637355154\n",
      "None -0.9687991413316157\n",
      "None -0.9690020823430949\n",
      "None -0.969164330006666\n",
      "None -0.9692947127064125\n",
      "None -0.9693999129992541\n",
      "None -0.9694850461779044\n",
      "None -0.9695540612945412\n",
      "None -0.9696100570042279\n",
      "None -0.9696554754099834\n",
      "None -0.969692262910358\n",
      "None -0.9697219953423952\n",
      "None -0.9697459439900603\n",
      "None -0.9697651587286537\n",
      "None -0.9697805009815509\n",
      "None -0.9697926724240117\n",
      "None -0.9698022871462393\n",
      "None -0.9698098112682656\n",
      "None -0.9698156717956808\n",
      "None -0.9698202035632932\n",
      "None -0.969823662937609\n",
      "None -0.9698263003615629\n",
      "None -0.9698282740699444\n",
      "None -0.9698297473141975\n",
      "None -0.9698308408270284\n"
     ]
    },
    {
     "data": {
      "application/vnd.jupyter.widget-view+json": {
       "model_id": "53b26c9cf295440286fc904c61687a56",
       "version_major": 2,
       "version_minor": 0
      },
      "text/plain": [
       "  0%|          | 0/2000 [00:00<?, ?it/s]"
      ]
     },
     "metadata": {},
     "output_type": "display_data"
    },
    {
     "name": "stdout",
     "output_type": "stream",
     "text": [
      "0.0028382914720855995\n"
     ]
    },
    {
     "data": {
      "application/vnd.jupyter.widget-view+json": {
       "model_id": "9221f87a4a184f11abd1729fe93f9e67",
       "version_major": 2,
       "version_minor": 0
      },
      "text/plain": [
       "  0%|          | 0/4000 [00:00<?, ?it/s]"
      ]
     },
     "metadata": {},
     "output_type": "display_data"
    },
    {
     "name": "stdout",
     "output_type": "stream",
     "text": [
      "None -0.19263895452811458\n",
      "None -0.6583461643825971\n",
      "None -0.8424308792058525\n",
      "None -0.9015110016310874\n",
      "None -0.9261559069019459\n",
      "None -0.9383470496271833\n",
      "None -0.94499919009367\n",
      "None -0.9489089586035082\n",
      "None -0.9513602601348599\n",
      "None -0.952980382651116\n",
      "None -0.9540956066166679\n",
      "None -0.9548880915583018\n",
      "None -0.9554663680280446\n",
      "None -0.9558983874850733\n",
      "None -0.9562280975611427\n",
      "None -0.9564845846524042\n",
      "None -0.9566874386214738\n",
      "None -0.956850157421095\n",
      "None -0.9569822373672409\n",
      "None -0.9570905377161976\n",
      "None -0.9571801067965764\n",
      "None -0.9572547893243059\n",
      "None -0.957317520782821\n",
      "None -0.957370576100322\n",
      "None -0.9574157572406845\n",
      "None -0.957454507776138\n",
      "None -0.9574879495369143\n",
      "None -0.9575169951092765\n",
      "None -0.9575423961142915\n",
      "None -0.9575647177803158\n",
      "None -0.9575844762931587\n",
      "None -0.9576020385967422\n",
      "None -0.9576177432056793\n",
      "None -0.9576318257157779\n",
      "None -0.9576445217998713\n",
      "None -0.9576559951932861\n",
      "None -0.9576663882943789\n",
      "None -0.9576758261786614\n",
      "None -0.957684421856504\n",
      "None -0.957692248827772\n",
      "None -0.9576993841259673\n"
     ]
    },
    {
     "data": {
      "application/vnd.jupyter.widget-view+json": {
       "model_id": "b5fe42f5ff264c769275c9aa75b55076",
       "version_major": 2,
       "version_minor": 0
      },
      "text/plain": [
       "  0%|          | 0/2000 [00:00<?, ?it/s]"
      ]
     },
     "metadata": {},
     "output_type": "display_data"
    },
    {
     "name": "stdout",
     "output_type": "stream",
     "text": [
      "0.004502496789270879\n"
     ]
    },
    {
     "data": {
      "application/vnd.jupyter.widget-view+json": {
       "model_id": "162bf213a4024024b00755c2cca90ebd",
       "version_major": 2,
       "version_minor": 0
      },
      "text/plain": [
       "  0%|          | 0/4000 [00:00<?, ?it/s]"
      ]
     },
     "metadata": {},
     "output_type": "display_data"
    },
    {
     "name": "stdout",
     "output_type": "stream",
     "text": [
      "None -0.18507505265895963\n",
      "None -0.6551689263507523\n",
      "None -0.844219722318194\n",
      "None -0.9067542582997971\n",
      "None -0.931898104991541\n",
      "None -0.9436235025073348\n",
      "None -0.9498047467735022\n",
      "None -0.9533554189992894\n",
      "None -0.95551753174151\n",
      "None -0.9568911005327473\n",
      "None -0.9577933367978977\n",
      "None -0.9584016035717372\n",
      "None -0.9588191310567976\n",
      "None -0.9591083741363914\n",
      "None -0.9593089943126774\n",
      "None -0.9594474240195342\n",
      "None -0.9595420748038174\n",
      "None -0.9596061127464792\n",
      "None -0.9596490114798063\n",
      "None -0.9596775524360373\n",
      "None -0.959696498543637\n",
      "None -0.9597090967503336\n",
      "None -0.9597175603612634\n",
      "None -0.9597233051584038\n",
      "None -0.9597272628249007\n",
      "None -0.9597300359885047\n",
      "None -0.9597319962424725\n",
      "None -0.9597333869009347\n",
      "None -0.9597343878576161\n",
      "None -0.9597350966305955\n",
      "None -0.9597355913780915\n",
      "None -0.9597359661086402\n",
      "None -0.9597362096129374\n",
      "None -0.9597363865642856\n",
      "None -0.9597365158773458\n",
      "None -0.959736590699251\n",
      "None -0.9597366584392619\n",
      "None -0.9597367023810487\n",
      "None -0.9597367266780306\n",
      "None -0.9597367448304589\n",
      "None -0.95973676218151\n"
     ]
    },
    {
     "data": {
      "application/vnd.jupyter.widget-view+json": {
       "model_id": "bca0a987420f4bfdb9ad7b57d66465b1",
       "version_major": 2,
       "version_minor": 0
      },
      "text/plain": [
       "  0%|          | 0/2000 [00:00<?, ?it/s]"
      ]
     },
     "metadata": {},
     "output_type": "display_data"
    },
    {
     "name": "stdout",
     "output_type": "stream",
     "text": [
      "0.0037619747264572667\n"
     ]
    },
    {
     "data": {
      "application/vnd.jupyter.widget-view+json": {
       "model_id": "df15c8067eb64d3faa7dadd983a70cd0",
       "version_major": 2,
       "version_minor": 0
      },
      "text/plain": [
       "  0%|          | 0/4000 [00:00<?, ?it/s]"
      ]
     },
     "metadata": {},
     "output_type": "display_data"
    },
    {
     "name": "stdout",
     "output_type": "stream",
     "text": [
      "None -0.24012383743295185\n",
      "None -0.7005510083953594\n",
      "None -0.8611172253726316\n",
      "None -0.9147653833990023\n",
      "None -0.9371923999469007\n",
      "None -0.9478234921033072\n",
      "None -0.9533765731151121\n",
      "None -0.956501447361929\n",
      "None -0.9583681565982337\n",
      "None -0.9595417012681852\n",
      "None -0.9603140627460394\n",
      "None -0.9608443555208489\n",
      "None -0.961223104211601\n",
      "None -0.9615034827730832\n",
      "None -0.96171760281532\n",
      "None -0.9618853177884108\n",
      "None -0.9620192459521987\n",
      "None -0.9621276957911055\n",
      "None -0.962216329579681\n",
      "None -0.9622891971783042\n",
      "None -0.9623492678011201\n",
      "None -0.9623988532386505\n",
      "None -0.9624397504030767\n",
      "None -0.9624734624950854\n",
      "None -0.9625011866615965\n",
      "None -0.9625239590422972\n",
      "None -0.9625426325204252\n",
      "None -0.9625579019869773\n",
      "None -0.9625703678925233\n",
      "None -0.962580513290556\n",
      "None -0.9625887795563342\n",
      "None -0.9625954574026913\n",
      "None -0.9626008674388004\n",
      "None -0.9626052119209626\n",
      "None -0.9626086940292399\n",
      "None -0.9626114634105027\n",
      "None -0.9626136480645221\n",
      "None -0.9626153709728386\n",
      "None -0.9626167087423816\n",
      "None -0.9626177462512908\n",
      "None -0.9626185458594668\n"
     ]
    },
    {
     "data": {
      "application/vnd.jupyter.widget-view+json": {
       "model_id": "231688f8f31d4cf4987b4e31877b1b0a",
       "version_major": 2,
       "version_minor": 0
      },
      "text/plain": [
       "  0%|          | 0/2000 [00:00<?, ?it/s]"
      ]
     },
     "metadata": {},
     "output_type": "display_data"
    },
    {
     "name": "stdout",
     "output_type": "stream",
     "text": [
      "0.003183590523983138\n"
     ]
    },
    {
     "data": {
      "application/vnd.jupyter.widget-view+json": {
       "model_id": "0181baa92b5a44d4bc2c6c2b108f85b7",
       "version_major": 2,
       "version_minor": 0
      },
      "text/plain": [
       "  0%|          | 0/4000 [00:00<?, ?it/s]"
      ]
     },
     "metadata": {},
     "output_type": "display_data"
    },
    {
     "name": "stdout",
     "output_type": "stream",
     "text": [
      "None -0.2047486281389309\n",
      "None -0.678871376803652\n",
      "None -0.8452001426492889\n",
      "None -0.9027803812943604\n",
      "None -0.9280917206053179\n",
      "None -0.940750920106915\n",
      "None -0.9476647396054306\n",
      "None -0.95171452176802\n",
      "None -0.9542339735381994\n",
      "None -0.9558830279951738\n",
      "None -0.9570071834282217\n",
      "None -0.9577980074099782\n",
      "None -0.958367677001899\n",
      "None -0.9587854018196462\n",
      "None -0.9590958546897742\n",
      "None -0.9593289928028376\n",
      "None -0.9595055740936077\n",
      "None -0.9596402878551219\n",
      "None -0.9597436898176405\n",
      "None -0.9598234822468481\n",
      "None -0.9598853144807661\n",
      "None -0.9599334259146858\n",
      "None -0.9599709407454715\n",
      "None -0.9600002712406493\n",
      "None -0.9600232028394099\n",
      "None -0.9600411409638994\n",
      "None -0.9600551457563461\n",
      "None -0.9600660859430801\n",
      "None -0.9600745961359445\n",
      "None -0.9600812017417731\n",
      "None -0.9600863133420189\n",
      "None -0.9600902439149368\n",
      "None -0.9600932595392266\n",
      "None -0.9600955777244712\n",
      "None -0.9600973454080607\n",
      "None -0.9600986765052205\n",
      "None -0.9600996881524707\n",
      "None -0.9601004472745545\n",
      "None -0.9601010243766214\n",
      "None -0.9601014534581269\n",
      "None -0.9601017713668744\n"
     ]
    },
    {
     "data": {
      "application/vnd.jupyter.widget-view+json": {
       "model_id": "3cd73b17c848437691ef88b33e4b909d",
       "version_major": 2,
       "version_minor": 0
      },
      "text/plain": [
       "  0%|          | 0/2000 [00:00<?, ?it/s]"
      ]
     },
     "metadata": {},
     "output_type": "display_data"
    },
    {
     "name": "stdout",
     "output_type": "stream",
     "text": [
      "0.0032645330878243624\n"
     ]
    },
    {
     "data": {
      "application/vnd.jupyter.widget-view+json": {
       "model_id": "dcf4a9f436a24283b3df4595de2805a1",
       "version_major": 2,
       "version_minor": 0
      },
      "text/plain": [
       "  0%|          | 0/4000 [00:00<?, ?it/s]"
      ]
     },
     "metadata": {},
     "output_type": "display_data"
    },
    {
     "name": "stdout",
     "output_type": "stream",
     "text": [
      "None -0.15642097004363478\n",
      "None -0.6210478947734223\n",
      "None -0.8381295741240148\n",
      "None -0.9050584069542064\n",
      "None -0.9318241041147115\n",
      "None -0.9443017191444364\n",
      "None -0.9507706840388578\n",
      "None -0.9544338725293304\n",
      "None -0.9566715070737106\n",
      "None -0.9581283427049585\n",
      "None -0.9591257314274801\n",
      "None -0.9598340835215488\n",
      "None -0.9603502077645245\n",
      "None -0.9607331801925042\n",
      "None -0.961021290781274\n",
      "None -0.9612405197419182\n",
      "None -0.9614090029583906\n",
      "None -0.9615396264153249\n",
      "None -0.9616417493579624\n",
      "None -0.9617221769419109\n",
      "None -0.9617859559754443\n",
      "None -0.961836840970262\n",
      "None -0.9618776536255975\n",
      "None -0.9619105475560744\n",
      "None -0.9619371518502864\n",
      "None -0.9619587453525382\n",
      "None -0.9619762877236888\n",
      "None -0.9619905796350864\n",
      "None -0.9620022097543643\n",
      "None -0.9620116688976904\n",
      "None -0.9620193619162178\n",
      "None -0.9620256069258885\n",
      "None -0.9620306579715806\n",
      "None -0.9620347300936417\n",
      "None -0.9620379879542182\n",
      "None -0.9620405876720101\n",
      "None -0.9620426501416832\n",
      "None -0.9620442708756777\n",
      "None -0.962045540011195\n",
      "None -0.9620465209048832\n",
      "None -0.9620472898508158\n"
     ]
    }
   ],
   "source": [
    "np.random.seed(42)\n",
    "random.seed(42)\n",
    "tf.random.set_seed(42)\n",
    "\n",
    "n = 2\n",
    "d = 2**n\n",
    "\n",
    "channel_target = DilutedKrausMap( \n",
    "                               U=generate_unitary(d=d), \n",
    "                               c=0.5, \n",
    "                               d=d, \n",
    "                               rank=d-1,\n",
    "                              )\n",
    "model_list2 = []\n",
    "for i in tqdm(range(10)):\n",
    "    channel_target = DilutedKrausMap( \n",
    "                               U=generate_unitary(d=d), \n",
    "                               c=0.5, \n",
    "                               d=d, \n",
    "                               rank=d-1,\n",
    "                              )\n",
    "    \n",
    "    model = model_pipeline(channel_target, noise = 1/np.sqrt(1000), N_map=2000)\n",
    "    model_list2.append(model)"
   ]
  },
  {
   "cell_type": "code",
   "execution_count": null,
   "metadata": {},
   "outputs": [
    {
     "data": {
      "application/vnd.jupyter.widget-view+json": {
       "model_id": "a5812a3ce8c24d0691515278c3dd3da5",
       "version_major": 2,
       "version_minor": 0
      },
      "text/plain": [
       "  0%|          | 0/10 [00:00<?, ?it/s]"
      ]
     },
     "metadata": {},
     "output_type": "display_data"
    },
    {
     "data": {
      "application/vnd.jupyter.widget-view+json": {
       "model_id": "098c1ac7cc6345eea2f187b1d2489a7b",
       "version_major": 2,
       "version_minor": 0
      },
      "text/plain": [
       "  0%|          | 0/2000 [00:00<?, ?it/s]"
      ]
     },
     "metadata": {},
     "output_type": "display_data"
    },
    {
     "name": "stdout",
     "output_type": "stream",
     "text": [
      "0.006681537840839778\n"
     ]
    },
    {
     "data": {
      "application/vnd.jupyter.widget-view+json": {
       "model_id": "cd3e87bbc15f4d1193001cbdb225d628",
       "version_major": 2,
       "version_minor": 0
      },
      "text/plain": [
       "  0%|          | 0/4000 [00:00<?, ?it/s]"
      ]
     },
     "metadata": {},
     "output_type": "display_data"
    },
    {
     "name": "stdout",
     "output_type": "stream",
     "text": [
      "None -0.10550747757372507\n",
      "None -0.4258479205200387\n",
      "None -0.6363082965581386\n",
      "None -0.7449584162157769\n",
      "None -0.8116572939831738\n",
      "None -0.8537869254773415\n",
      "None -0.8812479661071544\n",
      "None -0.8994322758063212\n",
      "None -0.9117625952506097\n",
      "None -0.9204364592092629\n",
      "None -0.9264663193049683\n",
      "None -0.930838701088791\n",
      "None -0.934065428494107\n",
      "None -0.9364048523690761\n",
      "None -0.9383445874805946\n",
      "None -0.9395489515642418\n",
      "None -0.9406835323634151\n",
      "None -0.9414158941015924\n",
      "None -0.9419964276999303\n",
      "None -0.942886928143986\n",
      "None -0.9432568692785255\n",
      "None -0.9437121029654558\n",
      "None -0.9437913729005677\n",
      "None -0.9441932644210745\n",
      "None -0.9446085721008559\n",
      "None -0.9446010945607335\n",
      "None -0.9447079794161979\n",
      "None -0.9451158818312411\n",
      "None -0.9451896375946862\n",
      "None -0.9450626032639032\n",
      "None -0.9451664371015686\n",
      "None -0.9455018101883154\n",
      "None -0.9454945506073892\n",
      "None -0.9455055337134793\n",
      "None -0.9456025440467453\n",
      "None -0.945780483002317\n",
      "None -0.9457230145070247\n",
      "None -0.945700968659485\n",
      "None -0.9460554574337015\n",
      "None -0.9459963463708495\n",
      "None -0.9457979289431055\n"
     ]
    },
    {
     "data": {
      "application/vnd.jupyter.widget-view+json": {
       "model_id": "117db404f8e344029e079b68b7c4e910",
       "version_major": 2,
       "version_minor": 0
      },
      "text/plain": [
       "  0%|          | 0/2000 [00:00<?, ?it/s]"
      ]
     },
     "metadata": {},
     "output_type": "display_data"
    },
    {
     "name": "stdout",
     "output_type": "stream",
     "text": [
      "0.006620432794181919\n"
     ]
    },
    {
     "data": {
      "application/vnd.jupyter.widget-view+json": {
       "model_id": "741a070dfc1a40448218fd39d096551c",
       "version_major": 2,
       "version_minor": 0
      },
      "text/plain": [
       "  0%|          | 0/4000 [00:00<?, ?it/s]"
      ]
     },
     "metadata": {},
     "output_type": "display_data"
    },
    {
     "name": "stdout",
     "output_type": "stream",
     "text": [
      "None -0.09846002603290584\n",
      "None -0.4011111007593677\n",
      "None -0.6310148177561532\n",
      "None -0.7475678425433739\n",
      "None -0.8175954585417732\n",
      "None -0.860508835921462\n",
      "None -0.888158725512213\n",
      "None -0.9064882002143241\n",
      "None -0.9191039536877211\n",
      "None -0.9277464626697759\n",
      "None -0.9340729723974913\n",
      "None -0.9386073240177336\n",
      "None -0.9419843526524644\n",
      "None -0.9442485772356694\n",
      "None -0.9463138291743389\n",
      "None -0.9476743959368884\n",
      "None -0.9486467905995941\n",
      "None -0.9495854772289852\n",
      "None -0.950440839450214\n",
      "None -0.950885451194679\n",
      "None -0.9513494482425299\n",
      "None -0.9516734009721756\n",
      "None -0.9520667580510684\n",
      "None -0.952261976509076\n",
      "None -0.9523436020717143\n",
      "None -0.9526745691753608\n",
      "None -0.9527957009744155\n",
      "None -0.9531217400797869\n",
      "None -0.9530623096185062\n",
      "None -0.953295671293657\n",
      "None -0.952941394371977\n",
      "None -0.953324603334101\n",
      "None -0.9534138230502857\n",
      "None -0.9534177731434326\n",
      "None -0.9535661469810495\n",
      "None -0.9537701447204271\n",
      "None -0.95386241853455\n",
      "None -0.953877966935609\n",
      "None -0.9535379777070424\n",
      "None -0.953695454759101\n",
      "None -0.9533627746508179\n"
     ]
    },
    {
     "data": {
      "application/vnd.jupyter.widget-view+json": {
       "model_id": "78537a0d49e449c9b545adf5910119c3",
       "version_major": 2,
       "version_minor": 0
      },
      "text/plain": [
       "  0%|          | 0/2000 [00:00<?, ?it/s]"
      ]
     },
     "metadata": {},
     "output_type": "display_data"
    },
    {
     "name": "stdout",
     "output_type": "stream",
     "text": [
      "0.006664521589445763\n"
     ]
    },
    {
     "data": {
      "application/vnd.jupyter.widget-view+json": {
       "model_id": "39beae78908d40f0ac61251ca4a7ebb7",
       "version_major": 2,
       "version_minor": 0
      },
      "text/plain": [
       "  0%|          | 0/4000 [00:00<?, ?it/s]"
      ]
     },
     "metadata": {},
     "output_type": "display_data"
    },
    {
     "name": "stdout",
     "output_type": "stream",
     "text": [
      "None -0.10134764865164742\n",
      "None -0.422996792793646\n",
      "None -0.633582360432702\n",
      "None -0.746371800580316\n",
      "None -0.8148063905579417\n",
      "None -0.8574735621689674\n",
      "None -0.8853800114980281\n",
      "None -0.9040322508076848\n",
      "None -0.9166481370439407\n",
      "None -0.9254826493122816\n",
      "None -0.9317664643411258\n",
      "None -0.9364194321780059\n",
      "None -0.9397912677802185\n",
      "None -0.9421845655554597\n",
      "None -0.9441306884157749\n",
      "None -0.9457057335279438\n",
      "None -0.9467828897404461\n",
      "None -0.9476551640859436\n",
      "None -0.9486220357613744\n",
      "None -0.9490147437694808\n",
      "None -0.9493415400595716\n",
      "None -0.9497089274654095\n",
      "None -0.9502671357135031\n",
      "None -0.9502799118242425\n",
      "None -0.9505906858060142\n",
      "None -0.9507840507414002\n",
      "None -0.9508316355854546\n",
      "None -0.9510177949772072\n",
      "None -0.951246979848399\n",
      "None -0.9513933163123655\n",
      "None -0.9513956222189347\n",
      "None -0.9515659150343302\n",
      "None -0.9513230142194463\n",
      "None -0.9517066369213312\n",
      "None -0.9516121605443396\n",
      "None -0.9516395321266845\n",
      "None -0.9517178495373212\n",
      "None -0.951870126804914\n",
      "None -0.9521332999899993\n",
      "None -0.9519883139325759\n",
      "None -0.9517885410675042\n"
     ]
    },
    {
     "data": {
      "application/vnd.jupyter.widget-view+json": {
       "model_id": "7d80ce9b3b624f058d1533613296c13c",
       "version_major": 2,
       "version_minor": 0
      },
      "text/plain": [
       "  0%|          | 0/2000 [00:00<?, ?it/s]"
      ]
     },
     "metadata": {},
     "output_type": "display_data"
    },
    {
     "name": "stdout",
     "output_type": "stream",
     "text": [
      "0.006972719620853186\n"
     ]
    },
    {
     "data": {
      "application/vnd.jupyter.widget-view+json": {
       "model_id": "1a7f282f9d4d4ec4b4a3148b43728dcd",
       "version_major": 2,
       "version_minor": 0
      },
      "text/plain": [
       "  0%|          | 0/4000 [00:00<?, ?it/s]"
      ]
     },
     "metadata": {},
     "output_type": "display_data"
    },
    {
     "name": "stdout",
     "output_type": "stream",
     "text": [
      "None -0.10273446982934877\n",
      "None -0.42669477660185545\n",
      "None -0.6385646295359323\n",
      "None -0.7476287297859812\n",
      "None -0.8148952859709321\n",
      "None -0.8573569993208645\n",
      "None -0.8851703354528356\n",
      "None -0.9038435368310349\n",
      "None -0.9167901837732658\n",
      "None -0.9259154691005133\n",
      "None -0.9324211312854112\n",
      "None -0.9370557519944358\n",
      "None -0.9406828709352073\n",
      "None -0.9432472640526585\n",
      "None -0.9450819282942572\n",
      "None -0.9465852508103612\n",
      "None -0.9477168869183912\n",
      "None -0.9487227744276445\n",
      "None -0.949405844868151\n",
      "None -0.950118147242826\n",
      "None -0.9504494170948493\n",
      "None -0.9508646233268331\n",
      "None -0.9510683317848792\n",
      "None -0.9512932858532941\n",
      "None -0.9514972728514498\n",
      "None -0.9518841797659745\n",
      "None -0.9519633833152246\n",
      "None -0.9522181981441805\n",
      "None -0.9523243905168056\n",
      "None -0.9523076697894742\n",
      "None -0.9524607144462435\n",
      "None -0.9526834161007635\n",
      "None -0.9525508484980142\n",
      "None -0.9526396344948763\n",
      "None -0.9526319415226109\n",
      "None -0.9528105404661698\n",
      "None -0.9525606823547912\n",
      "None -0.9528371498473206\n",
      "None -0.9529114739248529\n",
      "None -0.9528391819448294\n",
      "None -0.9528243030413366\n"
     ]
    },
    {
     "data": {
      "application/vnd.jupyter.widget-view+json": {
       "model_id": "cee43f0980ab44039bc9914b28a01038",
       "version_major": 2,
       "version_minor": 0
      },
      "text/plain": [
       "  0%|          | 0/2000 [00:00<?, ?it/s]"
      ]
     },
     "metadata": {},
     "output_type": "display_data"
    },
    {
     "name": "stdout",
     "output_type": "stream",
     "text": [
      "0.006621590354324261\n"
     ]
    },
    {
     "data": {
      "application/vnd.jupyter.widget-view+json": {
       "model_id": "d194ec6c96f64f0f860eec91c1ff8c4e",
       "version_major": 2,
       "version_minor": 0
      },
      "text/plain": [
       "  0%|          | 0/4000 [00:00<?, ?it/s]"
      ]
     },
     "metadata": {},
     "output_type": "display_data"
    },
    {
     "name": "stdout",
     "output_type": "stream",
     "text": [
      "None -0.09210021562633887\n",
      "None -0.4174694277652187\n",
      "None -0.6318396475951273\n",
      "None -0.7436866173432327\n",
      "None -0.8122679391945085\n",
      "None -0.8552690649357433\n",
      "None -0.8829593594192834\n",
      "None -0.9016510722846784\n",
      "None -0.9143397432214486\n",
      "None -0.9232820479911329\n",
      "None -0.9295718510537101\n",
      "None -0.9342972243870398\n",
      "None -0.9377268538291995\n",
      "None -0.9403545871374817\n",
      "None -0.942117420132507\n",
      "None -0.9435990306222583\n",
      "None -0.944772694869181\n",
      "None -0.9458472859188696\n",
      "None -0.9464384772390853\n",
      "None -0.9470712544372791\n",
      "None -0.9475487036970215\n",
      "None -0.9479655141399093\n",
      "None -0.9483803852039553\n",
      "None -0.9486104606149022\n",
      "None -0.9490088428573337\n",
      "None -0.9490696057238427\n",
      "None -0.949276766197047\n",
      "None -0.949301067552344\n",
      "None -0.9495025491030579\n",
      "None -0.949757572146385\n",
      "None -0.9498275643972871\n",
      "None -0.9501053045694272\n",
      "None -0.9497629531389404\n",
      "None -0.9495961221501814\n",
      "None -0.9501331418205246\n",
      "None -0.9501760771568044\n",
      "None -0.9498367637374617\n",
      "None -0.950037883995883\n",
      "None -0.9502387464762371\n",
      "None -0.9502982627230991\n",
      "None -0.9500587710633228\n"
     ]
    },
    {
     "data": {
      "application/vnd.jupyter.widget-view+json": {
       "model_id": "71b283d0b946403a9510908e5e21c407",
       "version_major": 2,
       "version_minor": 0
      },
      "text/plain": [
       "  0%|          | 0/2000 [00:00<?, ?it/s]"
      ]
     },
     "metadata": {},
     "output_type": "display_data"
    },
    {
     "name": "stdout",
     "output_type": "stream",
     "text": [
      "0.007016696375384685\n"
     ]
    },
    {
     "data": {
      "application/vnd.jupyter.widget-view+json": {
       "model_id": "a3778f9dbc34410aace56e2814c59e0e",
       "version_major": 2,
       "version_minor": 0
      },
      "text/plain": [
       "  0%|          | 0/4000 [00:00<?, ?it/s]"
      ]
     },
     "metadata": {},
     "output_type": "display_data"
    },
    {
     "name": "stdout",
     "output_type": "stream",
     "text": [
      "None -0.09579769673449681\n",
      "None -0.42747752771066017\n",
      "None -0.6257212205275496\n",
      "None -0.733650042608984\n",
      "None -0.802983478922501\n",
      "None -0.8473523344985824\n",
      "None -0.8759415681351327\n",
      "None -0.8949825873531155\n",
      "None -0.9080163218295249\n",
      "None -0.9170164476067395\n",
      "None -0.923544751046465\n",
      "None -0.9278925798707455\n",
      "None -0.9312414080896999\n",
      "None -0.9337624517245776\n",
      "None -0.9355074780285758\n",
      "None -0.9367321883435873\n",
      "None -0.937861966311924\n",
      "None -0.9388528628978223\n",
      "None -0.9392955129121475\n",
      "None -0.9397903838403643\n",
      "None -0.9400250563019574\n",
      "None -0.9405578618956689\n",
      "None -0.9409054405812716\n",
      "None -0.941153770544951\n",
      "None -0.941609107394579\n",
      "None -0.9416019087920797\n",
      "None -0.941558880807062\n",
      "None -0.9417592506235015\n",
      "None -0.941916082372701\n",
      "None -0.9421483915219194\n",
      "None -0.9422006870235018\n",
      "None -0.9421710807793331\n",
      "None -0.9421544525568172\n",
      "None -0.9423799744929112\n",
      "None -0.9422169147696713\n",
      "None -0.942573454409118\n",
      "None -0.9424268068472467\n",
      "None -0.9422058615239958\n",
      "None -0.9426597689617858\n",
      "None -0.9424525394524955\n",
      "None -0.9425756893358506\n"
     ]
    },
    {
     "data": {
      "application/vnd.jupyter.widget-view+json": {
       "model_id": "f423513ba4fd41ca8567ddf0cc6a5f75",
       "version_major": 2,
       "version_minor": 0
      },
      "text/plain": [
       "  0%|          | 0/2000 [00:00<?, ?it/s]"
      ]
     },
     "metadata": {},
     "output_type": "display_data"
    },
    {
     "name": "stdout",
     "output_type": "stream",
     "text": [
      "0.006510770255905614\n"
     ]
    },
    {
     "data": {
      "application/vnd.jupyter.widget-view+json": {
       "model_id": "693f6518637b494db5323b5d17e39df7",
       "version_major": 2,
       "version_minor": 0
      },
      "text/plain": [
       "  0%|          | 0/4000 [00:00<?, ?it/s]"
      ]
     },
     "metadata": {},
     "output_type": "display_data"
    },
    {
     "name": "stdout",
     "output_type": "stream",
     "text": [
      "None -0.0961562798552215\n",
      "None -0.4039460880771623\n",
      "None -0.6211672990003082\n",
      "None -0.7381724867446781\n",
      "None -0.8098690572391978\n",
      "None -0.8545331522210752\n",
      "None -0.8835000777271066\n",
      "None -0.9027691804289742\n",
      "None -0.9160881325796288\n",
      "None -0.9256082150578304\n",
      "None -0.9322408473556661\n",
      "None -0.9372211647222461\n",
      "None -0.9407643509070011\n",
      "None -0.9436144571830386\n",
      "None -0.9455500227790772\n",
      "None -0.9472188208373375\n",
      "None -0.9483598260297212\n",
      "None -0.9494128845585518\n",
      "None -0.950116870922711\n",
      "None -0.9506398082103708\n",
      "None -0.9511631911180485\n",
      "None -0.9515892688128509\n",
      "None -0.952032497994184\n",
      "None -0.9523308721771225\n",
      "None -0.9524970072482964\n",
      "None -0.9528640989757502\n",
      "None -0.9530229622711648\n",
      "None -0.9532973219272212\n",
      "None -0.9531519052330697\n",
      "None -0.9533797878134026\n",
      "None -0.9532271686760584\n",
      "None -0.9534095107036142\n",
      "None -0.9533888652443858\n",
      "None -0.9536897362990847\n",
      "None -0.9535982108080812\n",
      "None -0.9535622592538994\n",
      "None -0.953615428116187\n",
      "None -0.9534899274948262\n",
      "None -0.9537889012721394\n",
      "None -0.9538302778874445\n",
      "None -0.9537484563083584\n"
     ]
    },
    {
     "data": {
      "application/vnd.jupyter.widget-view+json": {
       "model_id": "52b6a79d2f724978b9cb5f1df338abb5",
       "version_major": 2,
       "version_minor": 0
      },
      "text/plain": [
       "  0%|          | 0/2000 [00:00<?, ?it/s]"
      ]
     },
     "metadata": {},
     "output_type": "display_data"
    },
    {
     "name": "stdout",
     "output_type": "stream",
     "text": [
      "0.006703233928726077\n"
     ]
    },
    {
     "data": {
      "application/vnd.jupyter.widget-view+json": {
       "model_id": "a4560fe6348e4739a7d84ec4efbb2eaf",
       "version_major": 2,
       "version_minor": 0
      },
      "text/plain": [
       "  0%|          | 0/4000 [00:00<?, ?it/s]"
      ]
     },
     "metadata": {},
     "output_type": "display_data"
    },
    {
     "name": "stdout",
     "output_type": "stream",
     "text": [
      "None -0.10296835943716806\n",
      "None -0.422618637515805\n",
      "None -0.6228064463516042\n",
      "None -0.7304127040911276\n",
      "None -0.799835440980499\n",
      "None -0.8447885799402413\n",
      "None -0.8744703562298437\n",
      "None -0.8946784546956675\n",
      "None -0.9084057285437883\n",
      "None -0.9180187105535159\n",
      "None -0.9247865562022181\n",
      "None -0.9300029221153733\n",
      "None -0.9336256695432501\n",
      "None -0.9361777416531625\n",
      "None -0.9380263198614118\n",
      "None -0.9395505235191369\n",
      "None -0.9407910265411679\n",
      "None -0.9418433398899325\n",
      "None -0.9428537171119798\n",
      "None -0.9433505270502861\n",
      "None -0.943938282501587\n",
      "None -0.9443594199150548\n",
      "None -0.9446801721339335\n",
      "None -0.9449743523092798\n",
      "None -0.9451665316578857\n",
      "None -0.9453565972062964\n",
      "None -0.9455337886548566\n",
      "None -0.9458332022196408\n",
      "None -0.9460032866235989\n",
      "None -0.945981408844147\n",
      "None -0.9462627901759917\n",
      "None -0.9464550648245958\n",
      "None -0.9464271164071034\n",
      "None -0.9465039337932811\n",
      "None -0.9463940400671541\n",
      "None -0.9462400740003717\n",
      "None -0.9465748548124729\n",
      "None -0.9465630100319987\n",
      "None -0.9465410283062355\n",
      "None -0.9464382887036532\n",
      "None -0.9464079472326612\n"
     ]
    },
    {
     "data": {
      "application/vnd.jupyter.widget-view+json": {
       "model_id": "4e47e8eb917f406abec2201a799a0f0d",
       "version_major": 2,
       "version_minor": 0
      },
      "text/plain": [
       "  0%|          | 0/2000 [00:00<?, ?it/s]"
      ]
     },
     "metadata": {},
     "output_type": "display_data"
    },
    {
     "name": "stdout",
     "output_type": "stream",
     "text": [
      "0.006873328096967519\n"
     ]
    },
    {
     "data": {
      "application/vnd.jupyter.widget-view+json": {
       "model_id": "6b96fd550b034e70890e8f6ec3ed4f6e",
       "version_major": 2,
       "version_minor": 0
      },
      "text/plain": [
       "  0%|          | 0/4000 [00:00<?, ?it/s]"
      ]
     },
     "metadata": {},
     "output_type": "display_data"
    },
    {
     "name": "stdout",
     "output_type": "stream",
     "text": [
      "None -0.09075216044067229\n",
      "None -0.4058750989791703\n",
      "None -0.6133647583144438\n",
      "None -0.7253906918804469\n",
      "None -0.7962232566726598\n",
      "None -0.8422373286913006\n",
      "None -0.8733339843077235\n",
      "None -0.894502561101734\n",
      "None -0.9094477489822903\n",
      "None -0.9201854953547024\n",
      "None -0.9279891139393623\n",
      "None -0.9336863374383991\n",
      "None -0.9380345431670037\n",
      "None -0.941213628574153\n",
      "None -0.9435969313300935\n",
      "None -0.9457576019681163\n",
      "None -0.947096670419115\n",
      "None -0.9483064795370874\n",
      "None -0.9491170952130389\n",
      "None -0.9497548762636783\n",
      "None -0.9505150717493805\n",
      "None -0.9510612672847097\n",
      "None -0.9517556405537216\n",
      "None -0.9518322087813413\n",
      "None -0.9522569601876815\n",
      "None -0.9524621347230987\n",
      "None -0.9527401978935248\n",
      "None -0.9528145120404513\n",
      "None -0.9532298168688473\n",
      "None -0.9534121941341389\n",
      "None -0.9534878233803353\n",
      "None -0.9535022872876626\n",
      "None -0.9537051020800181\n",
      "None -0.9534638795858232\n",
      "None -0.9535953763760128\n",
      "None -0.9537611471647051\n",
      "None -0.9539080668388406\n",
      "None -0.9537639103810898\n",
      "None -0.9537835115722415\n",
      "None -0.954164100265328\n",
      "None -0.9539929142031021\n"
     ]
    }
   ],
   "source": [
    "np.random.seed(42)\n",
    "random.seed(42)\n",
    "tf.random.set_seed(42)\n",
    "\n",
    "n = 3\n",
    "d = 2**n\n",
    "\n",
    "channel_target = DilutedKrausMap( \n",
    "                               U=generate_unitary(d=d), \n",
    "                               c=0.5, \n",
    "                               d=d, \n",
    "                               rank=d-1,\n",
    "                              )\n",
    "model_list3 = []\n",
    "for i in tqdm(range(10)):\n",
    "    channel_target = DilutedKrausMap( \n",
    "                               U=generate_unitary(d=d), \n",
    "                               c=0.5, \n",
    "                               d=d, \n",
    "                               rank=d-1,\n",
    "                              )\n",
    "    \n",
    "    model = model_pipeline(channel_target, noise = 1/np.sqrt(1000), N_map=5000)\n",
    "    model_list3.append(model)"
   ]
  },
  {
   "cell_type": "code",
   "execution_count": null,
   "metadata": {},
   "outputs": [],
   "source": [
    "fidelity_twoQubits = [model.logger.loss_val_list for model in model_list1]\n",
    "fidelity_threeQubits = [model.logger.loss_val_list for model in model_list2]\n",
    "fidelity_fourQubits = [model.logger.loss_val_list for model in model_list3]"
   ]
  },
  {
   "cell_type": "code",
   "execution_count": null,
   "metadata": {},
   "outputs": [],
   "source": [
    "fig = plt.figure(figsize=(6, 4), dpi=300, facecolor=\"w\", edgecolor=\"k\")\n",
    "\n",
    "plt.plot(-np.array(fidelity_twoQubits).T,\"g-\")\n",
    "plt.plot(-np.array(fidelity_threeQubits).T,\"b-\")\n",
    "plt.plot(-np.array(fidelity_fourQubits).T,\"r-\")\n",
    "#plt.yscale(\"log\")\n",
    "plt.ylim([0.9, 1.05])\n",
    "plt.grid()\n",
    "plt.show()"
   ]
  },
  {
   "cell_type": "code",
   "execution_count": null,
   "metadata": {},
   "outputs": [],
   "source": []
  }
 ],
 "metadata": {
  "kernelspec": {
   "display_name": "env_qiskit",
   "language": "python",
   "name": "env_qiskit"
  },
  "language_info": {
   "codemirror_mode": {
    "name": "ipython",
    "version": 3
   },
   "file_extension": ".py",
   "mimetype": "text/x-python",
   "name": "python",
   "nbconvert_exporter": "python",
   "pygments_lexer": "ipython3",
   "version": "3.10.4"
  }
 },
 "nbformat": 4,
 "nbformat_minor": 4
}
