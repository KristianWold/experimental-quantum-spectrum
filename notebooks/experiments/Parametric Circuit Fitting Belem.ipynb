{
 "cells": [
  {
   "cell_type": "markdown",
   "metadata": {},
   "source": [
    "# Parametric Circuit Fitting Belem"
   ]
  },
  {
   "cell_type": "code",
   "execution_count": 3,
   "metadata": {},
   "outputs": [],
   "source": [
    "import sys\n",
    "sys.path.insert(0, '../../src_tf/')\n",
    "\n",
    "import numpy as np\n",
    "import qiskit as qk\n",
    "import matplotlib.pyplot as plt\n",
    "import multiprocessing as mp\n",
    "import random\n",
    "import pickle\n",
    "\n",
    "from qiskit.quantum_info import DensityMatrix, random_unitary\n",
    "from qiskit.quantum_info import Operator\n",
    "from scipy.linalg import sqrtm\n",
    "from tqdm.notebook import tqdm\n",
    "from math import ceil\n",
    "\n",
    "from loss_functions import *\n",
    "from optimization import *\n",
    "from quantum_channel import *\n",
    "from quantum_tools import *\n",
    "from experimental import *\n",
    "from spam import *\n",
    "from scipy.stats import gaussian_kde\n",
    "\n",
    "#np.set_printoptions(threshold=sys.maxsize)\n",
    "np.set_printoptions(precision=4)\n",
    "\n",
    "import os\n",
    "os.environ[\"CUDA_VISIBLE_DEVICES\"] = \"-1\""
   ]
  },
  {
   "cell_type": "code",
   "execution_count": 4,
   "metadata": {},
   "outputs": [],
   "source": [
    "def regularized_fit(d, data, num_iter_spam=1000, num_iter_map=2000, N=500, weight=1, start = 1):\n",
    "    \n",
    "    inputs_spam, targets_spam, inputs_map, targets_map = data\n",
    "    \n",
    "    spam = SPAM(d=d, \n",
    "                use_corr_mat = True,\n",
    "                optimizer = tf.optimizers.Adam(learning_rate=0.01),\n",
    "                )\n",
    "    \n",
    "    spam.pretrain(targets = [init_ideal(d), povm_ideal(d)],\n",
    "                  num_iter = 300,\n",
    "                  verbose = False,\n",
    "                  )\n",
    "    \n",
    "    spam.train(inputs = inputs_spam,\n",
    "               targets = targets_spam,\n",
    "               num_iter = num_iter_spam,\n",
    "               verbose = False,\n",
    "              )\n",
    "    model_fullrank = ModelQuantumMap(channel = KrausMap(d=d, \n",
    "                                               rank=d**2,\n",
    "                                               spam = spam,\n",
    "                                               ),\n",
    "                                     loss_function = ProbabilityMSE(),\n",
    "                                     optimizer = tf.optimizers.Adam(learning_rate=0.01),\n",
    "                                     logger = Logger(loss_function = ProbabilityMSE(), verbose=False),\n",
    "                                    )\n",
    "\n",
    "    model_fullrank.train(inputs = inputs_map,\n",
    "                         targets = targets_map,\n",
    "                         num_iter = num_iter_map,\n",
    "                         N = N,\n",
    "                        )\n",
    "    \n",
    "    loss_ref = model_fullrank.logger.loss_train_list[-1]\n",
    "    \n",
    "    for rank in range(start, d**2):\n",
    "        if rank == start:\n",
    "            loss_prev = 1000\n",
    "            \n",
    "        model = ModelQuantumMap(channel = KrausMap(d=d, \n",
    "                                                   rank=rank,\n",
    "                                                   spam = spam,\n",
    "                                                  ),\n",
    "                               loss_function = ProbabilityMSE(),\n",
    "                               optimizer = tf.optimizers.Adam(learning_rate=0.01),\n",
    "                               logger = Logger(loss_function = ProbabilityMSE(), verbose=False),\n",
    "                               )\n",
    "\n",
    "        model.train(inputs = inputs_map,\n",
    "                    targets = targets_map,\n",
    "                    num_iter = num_iter_map,\n",
    "                    N = N,\n",
    "                    )\n",
    "        \n",
    "        loss = model.logger.loss_train_list[-1]\n",
    "        if (rank)/(rank-1) > (loss_prev - loss_ref)/(loss - loss_ref):\n",
    "            break\n",
    "        model_final = model\n",
    "        loss_prev = loss   \n",
    "    \n",
    "    return model_final"
   ]
  },
  {
   "cell_type": "markdown",
   "metadata": {},
   "source": [
    "## No Delay"
   ]
  },
  {
   "cell_type": "code",
   "execution_count": 160,
   "metadata": {},
   "outputs": [
    {
     "data": {
      "application/vnd.jupyter.widget-view+json": {
       "model_id": "80c2ebd8535d4143a662e64caa4432c7",
       "version_major": 2,
       "version_minor": 0
      },
      "text/plain": [
       "  0%|          | 0/300 [00:00<?, ?it/s]"
      ]
     },
     "metadata": {},
     "output_type": "display_data"
    },
    {
     "name": "stdout",
     "output_type": "stream",
     "text": [
      "3.806583148768781e-05\n"
     ]
    },
    {
     "data": {
      "application/vnd.jupyter.widget-view+json": {
       "model_id": "5039663b11654f8098e16cabdf3e0067",
       "version_major": 2,
       "version_minor": 0
      },
      "text/plain": [
       "  0%|          | 0/1000 [00:00<?, ?it/s]"
      ]
     },
     "metadata": {},
     "output_type": "display_data"
    },
    {
     "name": "stdout",
     "output_type": "stream",
     "text": [
      "0.00927996084324855\n"
     ]
    },
    {
     "data": {
      "application/vnd.jupyter.widget-view+json": {
       "model_id": "19de1909ce274fae9e3615b2bab6d624",
       "version_major": 2,
       "version_minor": 0
      },
      "text/plain": [
       "  0%|          | 0/2000 [00:00<?, ?it/s]"
      ]
     },
     "metadata": {},
     "output_type": "display_data"
    },
    {
     "name": "stdout",
     "output_type": "stream",
     "text": [
      "0.006703929239338329 None\n"
     ]
    },
    {
     "data": {
      "application/vnd.jupyter.widget-view+json": {
       "model_id": "1ef1941e939b453a8d04514b3b02862d",
       "version_major": 2,
       "version_minor": 0
      },
      "text/plain": [
       "  0%|          | 0/2000 [00:00<?, ?it/s]"
      ]
     },
     "metadata": {},
     "output_type": "display_data"
    },
    {
     "name": "stdout",
     "output_type": "stream",
     "text": [
      "0.030596402957813955 None\n"
     ]
    },
    {
     "data": {
      "application/vnd.jupyter.widget-view+json": {
       "model_id": "20ed3f4af79d40019f6ebd04c791cd22",
       "version_major": 2,
       "version_minor": 0
      },
      "text/plain": [
       "  0%|          | 0/2000 [00:00<?, ?it/s]"
      ]
     },
     "metadata": {},
     "output_type": "display_data"
    },
    {
     "name": "stdout",
     "output_type": "stream",
     "text": [
      "0.019806113445328333 None\n"
     ]
    },
    {
     "data": {
      "application/vnd.jupyter.widget-view+json": {
       "model_id": "4769cb5edb744a2994d3be7dea159c48",
       "version_major": 2,
       "version_minor": 0
      },
      "text/plain": [
       "  0%|          | 0/2000 [00:00<?, ?it/s]"
      ]
     },
     "metadata": {},
     "output_type": "display_data"
    },
    {
     "name": "stdout",
     "output_type": "stream",
     "text": [
      "0.01516115517170932 None\n"
     ]
    },
    {
     "data": {
      "application/vnd.jupyter.widget-view+json": {
       "model_id": "e0907b4ae0fd49f6adf3d07a820a63ed",
       "version_major": 2,
       "version_minor": 0
      },
      "text/plain": [
       "  0%|          | 0/2000 [00:00<?, ?it/s]"
      ]
     },
     "metadata": {},
     "output_type": "display_data"
    },
    {
     "name": "stdout",
     "output_type": "stream",
     "text": [
      "0.012531215939921896 None\n"
     ]
    },
    {
     "data": {
      "application/vnd.jupyter.widget-view+json": {
       "model_id": "e04d9c54308447989c3c56c57690e225",
       "version_major": 2,
       "version_minor": 0
      },
      "text/plain": [
       "  0%|          | 0/2000 [00:00<?, ?it/s]"
      ]
     },
     "metadata": {},
     "output_type": "display_data"
    },
    {
     "name": "stdout",
     "output_type": "stream",
     "text": [
      "0.011008654271776542 None\n"
     ]
    },
    {
     "data": {
      "application/vnd.jupyter.widget-view+json": {
       "model_id": "1178e0cde1334e149ffa85f38e4f98a3",
       "version_major": 2,
       "version_minor": 0
      },
      "text/plain": [
       "  0%|          | 0/2000 [00:00<?, ?it/s]"
      ]
     },
     "metadata": {},
     "output_type": "display_data"
    },
    {
     "name": "stdout",
     "output_type": "stream",
     "text": [
      "0.009815041017861853 None\n"
     ]
    },
    {
     "data": {
      "application/vnd.jupyter.widget-view+json": {
       "model_id": "d82aa8612f0e404d87effbf4c7ca4026",
       "version_major": 2,
       "version_minor": 0
      },
      "text/plain": [
       "  0%|          | 0/2000 [00:00<?, ?it/s]"
      ]
     },
     "metadata": {},
     "output_type": "display_data"
    },
    {
     "name": "stdout",
     "output_type": "stream",
     "text": [
      "0.009207237230093457 None\n"
     ]
    },
    {
     "data": {
      "application/vnd.jupyter.widget-view+json": {
       "model_id": "363dd9133824413c9d5f2284cde39276",
       "version_major": 2,
       "version_minor": 0
      },
      "text/plain": [
       "  0%|          | 0/2000 [00:00<?, ?it/s]"
      ]
     },
     "metadata": {},
     "output_type": "display_data"
    },
    {
     "name": "stdout",
     "output_type": "stream",
     "text": [
      "0.008622425662408088 None\n"
     ]
    },
    {
     "data": {
      "application/vnd.jupyter.widget-view+json": {
       "model_id": "2a12335d4d454f428ad89f1d0d3f4dfe",
       "version_major": 2,
       "version_minor": 0
      },
      "text/plain": [
       "  0%|          | 0/2000 [00:00<?, ?it/s]"
      ]
     },
     "metadata": {},
     "output_type": "display_data"
    },
    {
     "name": "stdout",
     "output_type": "stream",
     "text": [
      "0.008194168984520972 None\n"
     ]
    },
    {
     "data": {
      "application/vnd.jupyter.widget-view+json": {
       "model_id": "6ee4eced5285477aae5400fa5060104c",
       "version_major": 2,
       "version_minor": 0
      },
      "text/plain": [
       "  0%|          | 0/2000 [00:00<?, ?it/s]"
      ]
     },
     "metadata": {},
     "output_type": "display_data"
    },
    {
     "name": "stdout",
     "output_type": "stream",
     "text": [
      "0.00795120726925509 None\n"
     ]
    },
    {
     "data": {
      "application/vnd.jupyter.widget-view+json": {
       "model_id": "c6c44c24f4734e55a648251f530cee41",
       "version_major": 2,
       "version_minor": 0
      },
      "text/plain": [
       "  0%|          | 0/2000 [00:00<?, ?it/s]"
      ]
     },
     "metadata": {},
     "output_type": "display_data"
    },
    {
     "name": "stdout",
     "output_type": "stream",
     "text": [
      "0.007688569316549482 None\n"
     ]
    },
    {
     "data": {
      "application/vnd.jupyter.widget-view+json": {
       "model_id": "03bee92ad27242eca0041a2586198b15",
       "version_major": 2,
       "version_minor": 0
      },
      "text/plain": [
       "  0%|          | 0/2000 [00:00<?, ?it/s]"
      ]
     },
     "metadata": {},
     "output_type": "display_data"
    },
    {
     "name": "stdout",
     "output_type": "stream",
     "text": [
      "0.007442543410069699 None\n"
     ]
    },
    {
     "data": {
      "application/vnd.jupyter.widget-view+json": {
       "model_id": "e5ea11d878934b78ba14c7c99cfbbbc6",
       "version_major": 2,
       "version_minor": 0
      },
      "text/plain": [
       "  0%|          | 0/2000 [00:00<?, ?it/s]"
      ]
     },
     "metadata": {},
     "output_type": "display_data"
    },
    {
     "name": "stdout",
     "output_type": "stream",
     "text": [
      "0.007351222852528865 None\n"
     ]
    },
    {
     "data": {
      "application/vnd.jupyter.widget-view+json": {
       "model_id": "414cccf40cd24b8f960cf7c81a026eca",
       "version_major": 2,
       "version_minor": 0
      },
      "text/plain": [
       "  0%|          | 0/2000 [00:00<?, ?it/s]"
      ]
     },
     "metadata": {},
     "output_type": "display_data"
    },
    {
     "name": "stdout",
     "output_type": "stream",
     "text": [
      "0.007208381697243125 None\n"
     ]
    },
    {
     "data": {
      "application/vnd.jupyter.widget-view+json": {
       "model_id": "e8c1370e62e240f4bb719bb2c3292c4d",
       "version_major": 2,
       "version_minor": 0
      },
      "text/plain": [
       "  0%|          | 0/2000 [00:00<?, ?it/s]"
      ]
     },
     "metadata": {},
     "output_type": "display_data"
    },
    {
     "name": "stdout",
     "output_type": "stream",
     "text": [
      "0.007107408784682078 None\n"
     ]
    },
    {
     "data": {
      "application/vnd.jupyter.widget-view+json": {
       "model_id": "e9c2b8fdf8a047f98fda17d919539084",
       "version_major": 2,
       "version_minor": 0
      },
      "text/plain": [
       "  0%|          | 0/2000 [00:00<?, ?it/s]"
      ]
     },
     "metadata": {},
     "output_type": "display_data"
    },
    {
     "name": "stdout",
     "output_type": "stream",
     "text": [
      "0.007069506586543148 None\n"
     ]
    },
    {
     "data": {
      "application/vnd.jupyter.widget-view+json": {
       "model_id": "268e6f8181324a46a01f1f8c0aee8d7b",
       "version_major": 2,
       "version_minor": 0
      },
      "text/plain": [
       "  0%|          | 0/2000 [00:00<?, ?it/s]"
      ]
     },
     "metadata": {},
     "output_type": "display_data"
    },
    {
     "name": "stdout",
     "output_type": "stream",
     "text": [
      "0.006967468230319435 None\n"
     ]
    },
    {
     "data": {
      "application/vnd.jupyter.widget-view+json": {
       "model_id": "99a8286a7c69441d8783d58b182d394c",
       "version_major": 2,
       "version_minor": 0
      },
      "text/plain": [
       "  0%|          | 0/2000 [00:00<?, ?it/s]"
      ]
     },
     "metadata": {},
     "output_type": "display_data"
    },
    {
     "name": "stdout",
     "output_type": "stream",
     "text": [
      "0.006930742135010198 None\n"
     ]
    },
    {
     "data": {
      "application/vnd.jupyter.widget-view+json": {
       "model_id": "46a9e6bfeaab47528a67f7528ffcf5e2",
       "version_major": 2,
       "version_minor": 0
      },
      "text/plain": [
       "  0%|          | 0/2000 [00:00<?, ?it/s]"
      ]
     },
     "metadata": {},
     "output_type": "display_data"
    },
    {
     "name": "stdout",
     "output_type": "stream",
     "text": [
      "0.006893781430551128 None\n"
     ]
    },
    {
     "data": {
      "application/vnd.jupyter.widget-view+json": {
       "model_id": "1c50b1944c8343f8a98bff1505f5a621",
       "version_major": 2,
       "version_minor": 0
      },
      "text/plain": [
       "  0%|          | 0/2000 [00:00<?, ?it/s]"
      ]
     },
     "metadata": {},
     "output_type": "display_data"
    },
    {
     "name": "stdout",
     "output_type": "stream",
     "text": [
      "0.006871574782583805 None\n"
     ]
    },
    {
     "data": {
      "application/vnd.jupyter.widget-view+json": {
       "model_id": "b51905c8eef14debaebb0b1df3d9cad3",
       "version_major": 2,
       "version_minor": 0
      },
      "text/plain": [
       "  0%|          | 0/2000 [00:00<?, ?it/s]"
      ]
     },
     "metadata": {},
     "output_type": "display_data"
    },
    {
     "name": "stdout",
     "output_type": "stream",
     "text": [
      "0.0068393197055430744 None\n"
     ]
    },
    {
     "data": {
      "application/vnd.jupyter.widget-view+json": {
       "model_id": "8367867b1b7a468a972b90831fa79a57",
       "version_major": 2,
       "version_minor": 0
      },
      "text/plain": [
       "  0%|          | 0/2000 [00:00<?, ?it/s]"
      ]
     },
     "metadata": {},
     "output_type": "display_data"
    },
    {
     "name": "stdout",
     "output_type": "stream",
     "text": [
      "0.006797359389073433 None\n"
     ]
    },
    {
     "data": {
      "application/vnd.jupyter.widget-view+json": {
       "model_id": "2d1ba34b904549af824bb49a9066211d",
       "version_major": 2,
       "version_minor": 0
      },
      "text/plain": [
       "  0%|          | 0/2000 [00:00<?, ?it/s]"
      ]
     },
     "metadata": {},
     "output_type": "display_data"
    },
    {
     "name": "stdout",
     "output_type": "stream",
     "text": [
      "0.006788924100532478 None\n"
     ]
    },
    {
     "data": {
      "application/vnd.jupyter.widget-view+json": {
       "model_id": "0d81e5c1a5154271960fc48f9adc575b",
       "version_major": 2,
       "version_minor": 0
      },
      "text/plain": [
       "  0%|          | 0/2000 [00:00<?, ?it/s]"
      ]
     },
     "metadata": {},
     "output_type": "display_data"
    },
    {
     "name": "stdout",
     "output_type": "stream",
     "text": [
      "0.006796988682411566 None\n"
     ]
    },
    {
     "data": {
      "application/vnd.jupyter.widget-view+json": {
       "model_id": "a21fe99e179241e0aa84d5355312d6c1",
       "version_major": 2,
       "version_minor": 0
      },
      "text/plain": [
       "  0%|          | 0/300 [00:00<?, ?it/s]"
      ]
     },
     "metadata": {},
     "output_type": "display_data"
    },
    {
     "name": "stdout",
     "output_type": "stream",
     "text": [
      "3.806583148768781e-05\n"
     ]
    },
    {
     "data": {
      "application/vnd.jupyter.widget-view+json": {
       "model_id": "ab3fada318b34544ba1d4e544cdfbf69",
       "version_major": 2,
       "version_minor": 0
      },
      "text/plain": [
       "  0%|          | 0/1000 [00:00<?, ?it/s]"
      ]
     },
     "metadata": {},
     "output_type": "display_data"
    },
    {
     "name": "stdout",
     "output_type": "stream",
     "text": [
      "0.00881556638615872\n"
     ]
    },
    {
     "data": {
      "application/vnd.jupyter.widget-view+json": {
       "model_id": "11d258ad01aa429ca52117ca64307290",
       "version_major": 2,
       "version_minor": 0
      },
      "text/plain": [
       "  0%|          | 0/2000 [00:00<?, ?it/s]"
      ]
     },
     "metadata": {},
     "output_type": "display_data"
    },
    {
     "name": "stdout",
     "output_type": "stream",
     "text": [
      "0.007026848974798106 None\n"
     ]
    },
    {
     "data": {
      "application/vnd.jupyter.widget-view+json": {
       "model_id": "dd5bda61036b47e196107059f7da548b",
       "version_major": 2,
       "version_minor": 0
      },
      "text/plain": [
       "  0%|          | 0/2000 [00:00<?, ?it/s]"
      ]
     },
     "metadata": {},
     "output_type": "display_data"
    },
    {
     "name": "stdout",
     "output_type": "stream",
     "text": [
      "0.030379857739822613 None\n"
     ]
    },
    {
     "data": {
      "application/vnd.jupyter.widget-view+json": {
       "model_id": "e963c5db50114fcaa97fb219036fef55",
       "version_major": 2,
       "version_minor": 0
      },
      "text/plain": [
       "  0%|          | 0/2000 [00:00<?, ?it/s]"
      ]
     },
     "metadata": {},
     "output_type": "display_data"
    },
    {
     "name": "stdout",
     "output_type": "stream",
     "text": [
      "0.019787460624101194 None\n"
     ]
    },
    {
     "data": {
      "application/vnd.jupyter.widget-view+json": {
       "model_id": "3c4161db99d64f289409c631a72ca7e4",
       "version_major": 2,
       "version_minor": 0
      },
      "text/plain": [
       "  0%|          | 0/2000 [00:00<?, ?it/s]"
      ]
     },
     "metadata": {},
     "output_type": "display_data"
    },
    {
     "name": "stdout",
     "output_type": "stream",
     "text": [
      "0.015024678179740989 None\n"
     ]
    },
    {
     "data": {
      "application/vnd.jupyter.widget-view+json": {
       "model_id": "ea8feea87c414d0aa766dd5bebef5c1f",
       "version_major": 2,
       "version_minor": 0
      },
      "text/plain": [
       "  0%|          | 0/2000 [00:00<?, ?it/s]"
      ]
     },
     "metadata": {},
     "output_type": "display_data"
    },
    {
     "name": "stdout",
     "output_type": "stream",
     "text": [
      "0.012647491350810293 None\n"
     ]
    },
    {
     "data": {
      "application/vnd.jupyter.widget-view+json": {
       "model_id": "b6ed79b8b15248e5adfd2c134a23dfaf",
       "version_major": 2,
       "version_minor": 0
      },
      "text/plain": [
       "  0%|          | 0/2000 [00:00<?, ?it/s]"
      ]
     },
     "metadata": {},
     "output_type": "display_data"
    },
    {
     "name": "stdout",
     "output_type": "stream",
     "text": [
      "0.010980929419836867 None\n"
     ]
    },
    {
     "data": {
      "application/vnd.jupyter.widget-view+json": {
       "model_id": "76247508a927431bbf956777c06d5b68",
       "version_major": 2,
       "version_minor": 0
      },
      "text/plain": [
       "  0%|          | 0/2000 [00:00<?, ?it/s]"
      ]
     },
     "metadata": {},
     "output_type": "display_data"
    },
    {
     "name": "stdout",
     "output_type": "stream",
     "text": [
      "0.009973525937691328 None\n"
     ]
    },
    {
     "data": {
      "application/vnd.jupyter.widget-view+json": {
       "model_id": "b3847b58cad64947a86ccdbda0cbda4e",
       "version_major": 2,
       "version_minor": 0
      },
      "text/plain": [
       "  0%|          | 0/2000 [00:00<?, ?it/s]"
      ]
     },
     "metadata": {},
     "output_type": "display_data"
    },
    {
     "name": "stdout",
     "output_type": "stream",
     "text": [
      "0.00918741566872747 None\n"
     ]
    },
    {
     "data": {
      "application/vnd.jupyter.widget-view+json": {
       "model_id": "e1e6f6b3a07147989dc29b5d8230e5be",
       "version_major": 2,
       "version_minor": 0
      },
      "text/plain": [
       "  0%|          | 0/2000 [00:00<?, ?it/s]"
      ]
     },
     "metadata": {},
     "output_type": "display_data"
    },
    {
     "name": "stdout",
     "output_type": "stream",
     "text": [
      "0.008844564560580876 None\n"
     ]
    },
    {
     "data": {
      "application/vnd.jupyter.widget-view+json": {
       "model_id": "495345c6bbdc4fe7b74efbe2913caa50",
       "version_major": 2,
       "version_minor": 0
      },
      "text/plain": [
       "  0%|          | 0/2000 [00:00<?, ?it/s]"
      ]
     },
     "metadata": {},
     "output_type": "display_data"
    },
    {
     "name": "stdout",
     "output_type": "stream",
     "text": [
      "0.008417901331039973 None\n"
     ]
    },
    {
     "data": {
      "application/vnd.jupyter.widget-view+json": {
       "model_id": "be8e32bde74043188779cf4a4e52b800",
       "version_major": 2,
       "version_minor": 0
      },
      "text/plain": [
       "  0%|          | 0/2000 [00:00<?, ?it/s]"
      ]
     },
     "metadata": {},
     "output_type": "display_data"
    },
    {
     "name": "stdout",
     "output_type": "stream",
     "text": [
      "0.008019492264675384 None\n"
     ]
    },
    {
     "data": {
      "application/vnd.jupyter.widget-view+json": {
       "model_id": "6facf68a87784fb8a421bf14480117ee",
       "version_major": 2,
       "version_minor": 0
      },
      "text/plain": [
       "  0%|          | 0/2000 [00:00<?, ?it/s]"
      ]
     },
     "metadata": {},
     "output_type": "display_data"
    },
    {
     "name": "stdout",
     "output_type": "stream",
     "text": [
      "0.007881484548216041 None\n"
     ]
    },
    {
     "data": {
      "application/vnd.jupyter.widget-view+json": {
       "model_id": "fccf677aa8a54fb08b6b9df3a85beba1",
       "version_major": 2,
       "version_minor": 0
      },
      "text/plain": [
       "  0%|          | 0/2000 [00:00<?, ?it/s]"
      ]
     },
     "metadata": {},
     "output_type": "display_data"
    },
    {
     "name": "stdout",
     "output_type": "stream",
     "text": [
      "0.007706403808399444 None\n"
     ]
    },
    {
     "data": {
      "application/vnd.jupyter.widget-view+json": {
       "model_id": "a86a1fa716d54d03a6ba0e29c29419da",
       "version_major": 2,
       "version_minor": 0
      },
      "text/plain": [
       "  0%|          | 0/2000 [00:00<?, ?it/s]"
      ]
     },
     "metadata": {},
     "output_type": "display_data"
    },
    {
     "name": "stdout",
     "output_type": "stream",
     "text": [
      "0.00757257035950581 None\n"
     ]
    },
    {
     "data": {
      "application/vnd.jupyter.widget-view+json": {
       "model_id": "7e432519f49f44689d23d7964a574446",
       "version_major": 2,
       "version_minor": 0
      },
      "text/plain": [
       "  0%|          | 0/2000 [00:00<?, ?it/s]"
      ]
     },
     "metadata": {},
     "output_type": "display_data"
    },
    {
     "name": "stdout",
     "output_type": "stream",
     "text": [
      "0.007481569573210407 None\n"
     ]
    },
    {
     "data": {
      "application/vnd.jupyter.widget-view+json": {
       "model_id": "60fd73380c6645cb8bde9d0b352bcb65",
       "version_major": 2,
       "version_minor": 0
      },
      "text/plain": [
       "  0%|          | 0/2000 [00:00<?, ?it/s]"
      ]
     },
     "metadata": {},
     "output_type": "display_data"
    },
    {
     "name": "stdout",
     "output_type": "stream",
     "text": [
      "0.0074138252567454935 None\n"
     ]
    },
    {
     "data": {
      "application/vnd.jupyter.widget-view+json": {
       "model_id": "74b1a4e077914e42bfc706ea240eab39",
       "version_major": 2,
       "version_minor": 0
      },
      "text/plain": [
       "  0%|          | 0/2000 [00:00<?, ?it/s]"
      ]
     },
     "metadata": {},
     "output_type": "display_data"
    },
    {
     "name": "stdout",
     "output_type": "stream",
     "text": [
      "0.007352478510631283 None\n"
     ]
    },
    {
     "data": {
      "application/vnd.jupyter.widget-view+json": {
       "model_id": "6877c5e59646401db2d87ba85165d25a",
       "version_major": 2,
       "version_minor": 0
      },
      "text/plain": [
       "  0%|          | 0/2000 [00:00<?, ?it/s]"
      ]
     },
     "metadata": {},
     "output_type": "display_data"
    },
    {
     "name": "stdout",
     "output_type": "stream",
     "text": [
      "0.007281374679115702 None\n"
     ]
    },
    {
     "data": {
      "application/vnd.jupyter.widget-view+json": {
       "model_id": "88abd4a0772d4f71867eb37435fd57e5",
       "version_major": 2,
       "version_minor": 0
      },
      "text/plain": [
       "  0%|          | 0/2000 [00:00<?, ?it/s]"
      ]
     },
     "metadata": {},
     "output_type": "display_data"
    },
    {
     "name": "stdout",
     "output_type": "stream",
     "text": [
      "0.007219694104860209 None\n"
     ]
    },
    {
     "data": {
      "application/vnd.jupyter.widget-view+json": {
       "model_id": "8b9471790279492ab785f66de724aa09",
       "version_major": 2,
       "version_minor": 0
      },
      "text/plain": [
       "  0%|          | 0/2000 [00:00<?, ?it/s]"
      ]
     },
     "metadata": {},
     "output_type": "display_data"
    },
    {
     "name": "stdout",
     "output_type": "stream",
     "text": [
      "0.007193903156371854 None\n"
     ]
    },
    {
     "data": {
      "application/vnd.jupyter.widget-view+json": {
       "model_id": "10430221bcbe430ebf9e589633c4ff3f",
       "version_major": 2,
       "version_minor": 0
      },
      "text/plain": [
       "  0%|          | 0/2000 [00:00<?, ?it/s]"
      ]
     },
     "metadata": {},
     "output_type": "display_data"
    },
    {
     "name": "stdout",
     "output_type": "stream",
     "text": [
      "0.00715837437828857 None\n"
     ]
    },
    {
     "data": {
      "application/vnd.jupyter.widget-view+json": {
       "model_id": "643d3cec99f74d009c1c6d6bb5f0f2a6",
       "version_major": 2,
       "version_minor": 0
      },
      "text/plain": [
       "  0%|          | 0/2000 [00:00<?, ?it/s]"
      ]
     },
     "metadata": {},
     "output_type": "display_data"
    },
    {
     "name": "stdout",
     "output_type": "stream",
     "text": [
      "0.00715283367215967 None\n"
     ]
    },
    {
     "data": {
      "application/vnd.jupyter.widget-view+json": {
       "model_id": "fd69f9448eb34cf3846f0bfafe322bc3",
       "version_major": 2,
       "version_minor": 0
      },
      "text/plain": [
       "  0%|          | 0/300 [00:00<?, ?it/s]"
      ]
     },
     "metadata": {},
     "output_type": "display_data"
    },
    {
     "name": "stdout",
     "output_type": "stream",
     "text": [
      "3.806583148768781e-05\n"
     ]
    },
    {
     "data": {
      "application/vnd.jupyter.widget-view+json": {
       "model_id": "2b64e1d6dbcc4ddabd44cb3c3da552eb",
       "version_major": 2,
       "version_minor": 0
      },
      "text/plain": [
       "  0%|          | 0/1000 [00:00<?, ?it/s]"
      ]
     },
     "metadata": {},
     "output_type": "display_data"
    },
    {
     "name": "stdout",
     "output_type": "stream",
     "text": [
      "0.009141430170036595\n"
     ]
    },
    {
     "data": {
      "application/vnd.jupyter.widget-view+json": {
       "model_id": "310f4f20febd472bbe3bb154254a55d9",
       "version_major": 2,
       "version_minor": 0
      },
      "text/plain": [
       "  0%|          | 0/2000 [00:00<?, ?it/s]"
      ]
     },
     "metadata": {},
     "output_type": "display_data"
    },
    {
     "name": "stdout",
     "output_type": "stream",
     "text": [
      "0.006927336611540914 None\n"
     ]
    },
    {
     "data": {
      "application/vnd.jupyter.widget-view+json": {
       "model_id": "74b7a1f793d242b0b929862e521deb0b",
       "version_major": 2,
       "version_minor": 0
      },
      "text/plain": [
       "  0%|          | 0/2000 [00:00<?, ?it/s]"
      ]
     },
     "metadata": {},
     "output_type": "display_data"
    },
    {
     "name": "stdout",
     "output_type": "stream",
     "text": [
      "0.0299177210378364 None\n"
     ]
    },
    {
     "data": {
      "application/vnd.jupyter.widget-view+json": {
       "model_id": "538f9e591911465793550f95800bf9bd",
       "version_major": 2,
       "version_minor": 0
      },
      "text/plain": [
       "  0%|          | 0/2000 [00:00<?, ?it/s]"
      ]
     },
     "metadata": {},
     "output_type": "display_data"
    },
    {
     "name": "stdout",
     "output_type": "stream",
     "text": [
      "0.01896150699148274 None\n"
     ]
    },
    {
     "data": {
      "application/vnd.jupyter.widget-view+json": {
       "model_id": "aa6cffc0a9224cc583cc396dec14bd99",
       "version_major": 2,
       "version_minor": 0
      },
      "text/plain": [
       "  0%|          | 0/2000 [00:00<?, ?it/s]"
      ]
     },
     "metadata": {},
     "output_type": "display_data"
    },
    {
     "name": "stdout",
     "output_type": "stream",
     "text": [
      "0.014421209954657569 None\n"
     ]
    },
    {
     "data": {
      "application/vnd.jupyter.widget-view+json": {
       "model_id": "95e0d1caee5c4d778cf320c70e860293",
       "version_major": 2,
       "version_minor": 0
      },
      "text/plain": [
       "  0%|          | 0/2000 [00:00<?, ?it/s]"
      ]
     },
     "metadata": {},
     "output_type": "display_data"
    },
    {
     "name": "stdout",
     "output_type": "stream",
     "text": [
      "0.012213915636010382 None\n"
     ]
    },
    {
     "data": {
      "application/vnd.jupyter.widget-view+json": {
       "model_id": "2b5b8ae998b2418e9a344c507805bca8",
       "version_major": 2,
       "version_minor": 0
      },
      "text/plain": [
       "  0%|          | 0/2000 [00:00<?, ?it/s]"
      ]
     },
     "metadata": {},
     "output_type": "display_data"
    },
    {
     "name": "stdout",
     "output_type": "stream",
     "text": [
      "0.010712008021692799 None\n"
     ]
    },
    {
     "data": {
      "application/vnd.jupyter.widget-view+json": {
       "model_id": "9c140cd0b3594c1fa079e47464e60273",
       "version_major": 2,
       "version_minor": 0
      },
      "text/plain": [
       "  0%|          | 0/2000 [00:00<?, ?it/s]"
      ]
     },
     "metadata": {},
     "output_type": "display_data"
    },
    {
     "name": "stdout",
     "output_type": "stream",
     "text": [
      "0.009899952234955427 None\n"
     ]
    },
    {
     "data": {
      "application/vnd.jupyter.widget-view+json": {
       "model_id": "710b9ff7ee3b448694458e66e2d0f5bf",
       "version_major": 2,
       "version_minor": 0
      },
      "text/plain": [
       "  0%|          | 0/2000 [00:00<?, ?it/s]"
      ]
     },
     "metadata": {},
     "output_type": "display_data"
    },
    {
     "name": "stdout",
     "output_type": "stream",
     "text": [
      "0.009061100274187498 None\n"
     ]
    },
    {
     "data": {
      "application/vnd.jupyter.widget-view+json": {
       "model_id": "ffbbede63a344c29a49ded66f2a28070",
       "version_major": 2,
       "version_minor": 0
      },
      "text/plain": [
       "  0%|          | 0/2000 [00:00<?, ?it/s]"
      ]
     },
     "metadata": {},
     "output_type": "display_data"
    },
    {
     "name": "stdout",
     "output_type": "stream",
     "text": [
      "0.008560066896867537 None\n"
     ]
    },
    {
     "data": {
      "application/vnd.jupyter.widget-view+json": {
       "model_id": "cd2edc19e64646078cf97f8b4b5047e0",
       "version_major": 2,
       "version_minor": 0
      },
      "text/plain": [
       "  0%|          | 0/2000 [00:00<?, ?it/s]"
      ]
     },
     "metadata": {},
     "output_type": "display_data"
    },
    {
     "name": "stdout",
     "output_type": "stream",
     "text": [
      "0.008268922295192431 None\n"
     ]
    },
    {
     "data": {
      "application/vnd.jupyter.widget-view+json": {
       "model_id": "eea8cc1dd2264ef388923d9d010490d6",
       "version_major": 2,
       "version_minor": 0
      },
      "text/plain": [
       "  0%|          | 0/2000 [00:00<?, ?it/s]"
      ]
     },
     "metadata": {},
     "output_type": "display_data"
    },
    {
     "name": "stdout",
     "output_type": "stream",
     "text": [
      "0.007934235927687506 None\n"
     ]
    },
    {
     "data": {
      "application/vnd.jupyter.widget-view+json": {
       "model_id": "2f3e0256b9144b3191a17e169753cb5d",
       "version_major": 2,
       "version_minor": 0
      },
      "text/plain": [
       "  0%|          | 0/2000 [00:00<?, ?it/s]"
      ]
     },
     "metadata": {},
     "output_type": "display_data"
    },
    {
     "name": "stdout",
     "output_type": "stream",
     "text": [
      "0.0076916287369443335 None\n"
     ]
    },
    {
     "data": {
      "application/vnd.jupyter.widget-view+json": {
       "model_id": "07d1dfa539f541299115dce98b0362fa",
       "version_major": 2,
       "version_minor": 0
      },
      "text/plain": [
       "  0%|          | 0/2000 [00:00<?, ?it/s]"
      ]
     },
     "metadata": {},
     "output_type": "display_data"
    },
    {
     "name": "stdout",
     "output_type": "stream",
     "text": [
      "0.007642897854576329 None\n"
     ]
    },
    {
     "data": {
      "application/vnd.jupyter.widget-view+json": {
       "model_id": "402685781a964529985e46f3f292051f",
       "version_major": 2,
       "version_minor": 0
      },
      "text/plain": [
       "  0%|          | 0/300 [00:00<?, ?it/s]"
      ]
     },
     "metadata": {},
     "output_type": "display_data"
    },
    {
     "name": "stdout",
     "output_type": "stream",
     "text": [
      "3.806583148768781e-05\n"
     ]
    },
    {
     "data": {
      "application/vnd.jupyter.widget-view+json": {
       "model_id": "e2c51a89bec046419975c4112e8e310d",
       "version_major": 2,
       "version_minor": 0
      },
      "text/plain": [
       "  0%|          | 0/1000 [00:00<?, ?it/s]"
      ]
     },
     "metadata": {},
     "output_type": "display_data"
    },
    {
     "name": "stdout",
     "output_type": "stream",
     "text": [
      "0.008438075471471549\n"
     ]
    },
    {
     "data": {
      "application/vnd.jupyter.widget-view+json": {
       "model_id": "51bd88eee56f41048e6ec9cb3062c77e",
       "version_major": 2,
       "version_minor": 0
      },
      "text/plain": [
       "  0%|          | 0/2000 [00:00<?, ?it/s]"
      ]
     },
     "metadata": {},
     "output_type": "display_data"
    },
    {
     "name": "stdout",
     "output_type": "stream",
     "text": [
      "0.006355082573344696 None\n"
     ]
    },
    {
     "data": {
      "application/vnd.jupyter.widget-view+json": {
       "model_id": "ad78df647c434825ad7c7abd522d152b",
       "version_major": 2,
       "version_minor": 0
      },
      "text/plain": [
       "  0%|          | 0/2000 [00:00<?, ?it/s]"
      ]
     },
     "metadata": {},
     "output_type": "display_data"
    },
    {
     "name": "stdout",
     "output_type": "stream",
     "text": [
      "0.03176734746120448 None\n"
     ]
    },
    {
     "data": {
      "application/vnd.jupyter.widget-view+json": {
       "model_id": "1b6e568d30a54c30a5e6b1b3b8f16b12",
       "version_major": 2,
       "version_minor": 0
      },
      "text/plain": [
       "  0%|          | 0/2000 [00:00<?, ?it/s]"
      ]
     },
     "metadata": {},
     "output_type": "display_data"
    },
    {
     "name": "stdout",
     "output_type": "stream",
     "text": [
      "0.020003440336884976 None\n"
     ]
    },
    {
     "data": {
      "application/vnd.jupyter.widget-view+json": {
       "model_id": "5948019a570c424f980c0d74571d40e4",
       "version_major": 2,
       "version_minor": 0
      },
      "text/plain": [
       "  0%|          | 0/2000 [00:00<?, ?it/s]"
      ]
     },
     "metadata": {},
     "output_type": "display_data"
    },
    {
     "name": "stdout",
     "output_type": "stream",
     "text": [
      "0.015087592641599736 None\n"
     ]
    },
    {
     "data": {
      "application/vnd.jupyter.widget-view+json": {
       "model_id": "5f7939fbc8c14a5893a9ee4ccb19e938",
       "version_major": 2,
       "version_minor": 0
      },
      "text/plain": [
       "  0%|          | 0/2000 [00:00<?, ?it/s]"
      ]
     },
     "metadata": {},
     "output_type": "display_data"
    },
    {
     "name": "stdout",
     "output_type": "stream",
     "text": [
      "0.012429097702442899 None\n"
     ]
    },
    {
     "data": {
      "application/vnd.jupyter.widget-view+json": {
       "model_id": "1c11105a52984ca2891692a7fb82217a",
       "version_major": 2,
       "version_minor": 0
      },
      "text/plain": [
       "  0%|          | 0/2000 [00:00<?, ?it/s]"
      ]
     },
     "metadata": {},
     "output_type": "display_data"
    },
    {
     "name": "stdout",
     "output_type": "stream",
     "text": [
      "0.01037822574792436 None\n"
     ]
    },
    {
     "data": {
      "application/vnd.jupyter.widget-view+json": {
       "model_id": "2560af03c16b463cb8eafbf78507cb5a",
       "version_major": 2,
       "version_minor": 0
      },
      "text/plain": [
       "  0%|          | 0/2000 [00:00<?, ?it/s]"
      ]
     },
     "metadata": {},
     "output_type": "display_data"
    },
    {
     "name": "stdout",
     "output_type": "stream",
     "text": [
      "0.009481326580831059 None\n"
     ]
    },
    {
     "data": {
      "application/vnd.jupyter.widget-view+json": {
       "model_id": "f0705010a5724a71bcc5dd786a0c2b02",
       "version_major": 2,
       "version_minor": 0
      },
      "text/plain": [
       "  0%|          | 0/2000 [00:00<?, ?it/s]"
      ]
     },
     "metadata": {},
     "output_type": "display_data"
    },
    {
     "name": "stdout",
     "output_type": "stream",
     "text": [
      "0.00866663448303916 None\n"
     ]
    },
    {
     "data": {
      "application/vnd.jupyter.widget-view+json": {
       "model_id": "701630a03cb441df8b1634001837262f",
       "version_major": 2,
       "version_minor": 0
      },
      "text/plain": [
       "  0%|          | 0/2000 [00:00<?, ?it/s]"
      ]
     },
     "metadata": {},
     "output_type": "display_data"
    },
    {
     "name": "stdout",
     "output_type": "stream",
     "text": [
      "0.008231569013845441 None\n"
     ]
    },
    {
     "data": {
      "application/vnd.jupyter.widget-view+json": {
       "model_id": "44023bfa2db747cbaa0df71ff1551342",
       "version_major": 2,
       "version_minor": 0
      },
      "text/plain": [
       "  0%|          | 0/2000 [00:00<?, ?it/s]"
      ]
     },
     "metadata": {},
     "output_type": "display_data"
    },
    {
     "name": "stdout",
     "output_type": "stream",
     "text": [
      "0.007722240591915163 None\n"
     ]
    },
    {
     "data": {
      "application/vnd.jupyter.widget-view+json": {
       "model_id": "b905bcf3ad3a45edbc9baa44b1ace7ab",
       "version_major": 2,
       "version_minor": 0
      },
      "text/plain": [
       "  0%|          | 0/2000 [00:00<?, ?it/s]"
      ]
     },
     "metadata": {},
     "output_type": "display_data"
    },
    {
     "name": "stdout",
     "output_type": "stream",
     "text": [
      "0.007527958623473323 None\n"
     ]
    },
    {
     "data": {
      "application/vnd.jupyter.widget-view+json": {
       "model_id": "f8040358da9046599b1fb349310a2802",
       "version_major": 2,
       "version_minor": 0
      },
      "text/plain": [
       "  0%|          | 0/2000 [00:00<?, ?it/s]"
      ]
     },
     "metadata": {},
     "output_type": "display_data"
    },
    {
     "name": "stdout",
     "output_type": "stream",
     "text": [
      "0.007330593647824167 None\n"
     ]
    },
    {
     "data": {
      "application/vnd.jupyter.widget-view+json": {
       "model_id": "8e640fbd4d4244c5b812ddc3b39dd823",
       "version_major": 2,
       "version_minor": 0
      },
      "text/plain": [
       "  0%|          | 0/2000 [00:00<?, ?it/s]"
      ]
     },
     "metadata": {},
     "output_type": "display_data"
    },
    {
     "name": "stdout",
     "output_type": "stream",
     "text": [
      "0.007119157164966141 None\n"
     ]
    },
    {
     "data": {
      "application/vnd.jupyter.widget-view+json": {
       "model_id": "cbd195a9b5a0466b9a1739d9b22a0365",
       "version_major": 2,
       "version_minor": 0
      },
      "text/plain": [
       "  0%|          | 0/2000 [00:00<?, ?it/s]"
      ]
     },
     "metadata": {},
     "output_type": "display_data"
    },
    {
     "name": "stdout",
     "output_type": "stream",
     "text": [
      "0.006968498298755441 None\n"
     ]
    },
    {
     "data": {
      "application/vnd.jupyter.widget-view+json": {
       "model_id": "7988625056544dee854eef1caac9118d",
       "version_major": 2,
       "version_minor": 0
      },
      "text/plain": [
       "  0%|          | 0/2000 [00:00<?, ?it/s]"
      ]
     },
     "metadata": {},
     "output_type": "display_data"
    },
    {
     "name": "stdout",
     "output_type": "stream",
     "text": [
      "0.006912311593203857 None\n"
     ]
    },
    {
     "data": {
      "application/vnd.jupyter.widget-view+json": {
       "model_id": "1d89ee4659284ffdba5222db62f81c7f",
       "version_major": 2,
       "version_minor": 0
      },
      "text/plain": [
       "  0%|          | 0/2000 [00:00<?, ?it/s]"
      ]
     },
     "metadata": {},
     "output_type": "display_data"
    },
    {
     "name": "stdout",
     "output_type": "stream",
     "text": [
      "0.0067680176203554964 None\n"
     ]
    },
    {
     "data": {
      "application/vnd.jupyter.widget-view+json": {
       "model_id": "b9cc1baaf342439596d8db088e756372",
       "version_major": 2,
       "version_minor": 0
      },
      "text/plain": [
       "  0%|          | 0/2000 [00:00<?, ?it/s]"
      ]
     },
     "metadata": {},
     "output_type": "display_data"
    },
    {
     "name": "stdout",
     "output_type": "stream",
     "text": [
      "0.006737190350074296 None\n"
     ]
    },
    {
     "data": {
      "application/vnd.jupyter.widget-view+json": {
       "model_id": "f02fa6ad0595468e98d473846f67ebf7",
       "version_major": 2,
       "version_minor": 0
      },
      "text/plain": [
       "  0%|          | 0/2000 [00:00<?, ?it/s]"
      ]
     },
     "metadata": {},
     "output_type": "display_data"
    },
    {
     "name": "stdout",
     "output_type": "stream",
     "text": [
      "0.006647930459061721 None\n"
     ]
    },
    {
     "data": {
      "application/vnd.jupyter.widget-view+json": {
       "model_id": "d3ed5c4a3c804987b91c286a81deff0b",
       "version_major": 2,
       "version_minor": 0
      },
      "text/plain": [
       "  0%|          | 0/2000 [00:00<?, ?it/s]"
      ]
     },
     "metadata": {},
     "output_type": "display_data"
    },
    {
     "name": "stdout",
     "output_type": "stream",
     "text": [
      "0.006604799640574963 None\n"
     ]
    },
    {
     "data": {
      "application/vnd.jupyter.widget-view+json": {
       "model_id": "d59ba9dd7c7e46b0beda6fbe38401c3e",
       "version_major": 2,
       "version_minor": 0
      },
      "text/plain": [
       "  0%|          | 0/2000 [00:00<?, ?it/s]"
      ]
     },
     "metadata": {},
     "output_type": "display_data"
    },
    {
     "name": "stdout",
     "output_type": "stream",
     "text": [
      "0.006549829017083737 None\n"
     ]
    },
    {
     "data": {
      "application/vnd.jupyter.widget-view+json": {
       "model_id": "3d3d3e5c2bb9409c84d663958ff38918",
       "version_major": 2,
       "version_minor": 0
      },
      "text/plain": [
       "  0%|          | 0/2000 [00:00<?, ?it/s]"
      ]
     },
     "metadata": {},
     "output_type": "display_data"
    },
    {
     "name": "stdout",
     "output_type": "stream",
     "text": [
      "0.006534123361294988 None\n"
     ]
    },
    {
     "data": {
      "application/vnd.jupyter.widget-view+json": {
       "model_id": "6fc11e15f5dd4a6cb97deb754465fb53",
       "version_major": 2,
       "version_minor": 0
      },
      "text/plain": [
       "  0%|          | 0/2000 [00:00<?, ?it/s]"
      ]
     },
     "metadata": {},
     "output_type": "display_data"
    },
    {
     "name": "stdout",
     "output_type": "stream",
     "text": [
      "0.0064985564246255074 None\n"
     ]
    },
    {
     "data": {
      "application/vnd.jupyter.widget-view+json": {
       "model_id": "1132b9a0c3f7484e8e0cebb63d55909e",
       "version_major": 2,
       "version_minor": 0
      },
      "text/plain": [
       "  0%|          | 0/2000 [00:00<?, ?it/s]"
      ]
     },
     "metadata": {},
     "output_type": "display_data"
    },
    {
     "name": "stdout",
     "output_type": "stream",
     "text": [
      "0.006469562055983234 None\n"
     ]
    },
    {
     "data": {
      "application/vnd.jupyter.widget-view+json": {
       "model_id": "74317d4349ae4411af598d0705a8022e",
       "version_major": 2,
       "version_minor": 0
      },
      "text/plain": [
       "  0%|          | 0/2000 [00:00<?, ?it/s]"
      ]
     },
     "metadata": {},
     "output_type": "display_data"
    },
    {
     "name": "stdout",
     "output_type": "stream",
     "text": [
      "0.0064466685446014915 None\n"
     ]
    },
    {
     "data": {
      "application/vnd.jupyter.widget-view+json": {
       "model_id": "28d344e0b82b4794bfcd1c0de4722ac7",
       "version_major": 2,
       "version_minor": 0
      },
      "text/plain": [
       "  0%|          | 0/2000 [00:00<?, ?it/s]"
      ]
     },
     "metadata": {},
     "output_type": "display_data"
    },
    {
     "name": "stdout",
     "output_type": "stream",
     "text": [
      "0.006438885433743388 None\n"
     ]
    },
    {
     "data": {
      "application/vnd.jupyter.widget-view+json": {
       "model_id": "84659a56a59949c1a504b975adfcf429",
       "version_major": 2,
       "version_minor": 0
      },
      "text/plain": [
       "  0%|          | 0/2000 [00:00<?, ?it/s]"
      ]
     },
     "metadata": {},
     "output_type": "display_data"
    },
    {
     "name": "stdout",
     "output_type": "stream",
     "text": [
      "0.006438455590032439 None\n"
     ]
    },
    {
     "data": {
      "application/vnd.jupyter.widget-view+json": {
       "model_id": "408e0b1c3a8b41ed92c76d893eb1e7af",
       "version_major": 2,
       "version_minor": 0
      },
      "text/plain": [
       "  0%|          | 0/300 [00:00<?, ?it/s]"
      ]
     },
     "metadata": {},
     "output_type": "display_data"
    },
    {
     "name": "stdout",
     "output_type": "stream",
     "text": [
      "3.806583148768781e-05\n"
     ]
    },
    {
     "data": {
      "application/vnd.jupyter.widget-view+json": {
       "model_id": "51b566423d9d4fe88257fef0cbd33270",
       "version_major": 2,
       "version_minor": 0
      },
      "text/plain": [
       "  0%|          | 0/1000 [00:00<?, ?it/s]"
      ]
     },
     "metadata": {},
     "output_type": "display_data"
    },
    {
     "name": "stdout",
     "output_type": "stream",
     "text": [
      "0.00873592252944787\n"
     ]
    },
    {
     "data": {
      "application/vnd.jupyter.widget-view+json": {
       "model_id": "9263374450a54be0a621062f99d1c95b",
       "version_major": 2,
       "version_minor": 0
      },
      "text/plain": [
       "  0%|          | 0/2000 [00:00<?, ?it/s]"
      ]
     },
     "metadata": {},
     "output_type": "display_data"
    },
    {
     "name": "stdout",
     "output_type": "stream",
     "text": [
      "0.009079095458008007 None\n"
     ]
    },
    {
     "data": {
      "application/vnd.jupyter.widget-view+json": {
       "model_id": "461af2130a66488084effd3feff5d0a6",
       "version_major": 2,
       "version_minor": 0
      },
      "text/plain": [
       "  0%|          | 0/2000 [00:00<?, ?it/s]"
      ]
     },
     "metadata": {},
     "output_type": "display_data"
    },
    {
     "name": "stdout",
     "output_type": "stream",
     "text": [
      "0.041919372649806934 None\n"
     ]
    },
    {
     "data": {
      "application/vnd.jupyter.widget-view+json": {
       "model_id": "804cd7dacb9d41a8a1b5d26c83341ccf",
       "version_major": 2,
       "version_minor": 0
      },
      "text/plain": [
       "  0%|          | 0/2000 [00:00<?, ?it/s]"
      ]
     },
     "metadata": {},
     "output_type": "display_data"
    },
    {
     "name": "stdout",
     "output_type": "stream",
     "text": [
      "0.02678160066632932 None\n"
     ]
    },
    {
     "data": {
      "application/vnd.jupyter.widget-view+json": {
       "model_id": "034c2bc08bbf44069710d37b092d21d8",
       "version_major": 2,
       "version_minor": 0
      },
      "text/plain": [
       "  0%|          | 0/2000 [00:00<?, ?it/s]"
      ]
     },
     "metadata": {},
     "output_type": "display_data"
    },
    {
     "name": "stdout",
     "output_type": "stream",
     "text": [
      "0.02000483719117778 None\n"
     ]
    },
    {
     "data": {
      "application/vnd.jupyter.widget-view+json": {
       "model_id": "5e938cba178c4759880ffb8ab989e711",
       "version_major": 2,
       "version_minor": 0
      },
      "text/plain": [
       "  0%|          | 0/2000 [00:00<?, ?it/s]"
      ]
     },
     "metadata": {},
     "output_type": "display_data"
    },
    {
     "name": "stdout",
     "output_type": "stream",
     "text": [
      "0.016631864908774836 None\n"
     ]
    },
    {
     "data": {
      "application/vnd.jupyter.widget-view+json": {
       "model_id": "2718db5ede284aabacd0a978d17578de",
       "version_major": 2,
       "version_minor": 0
      },
      "text/plain": [
       "  0%|          | 0/2000 [00:00<?, ?it/s]"
      ]
     },
     "metadata": {},
     "output_type": "display_data"
    },
    {
     "name": "stdout",
     "output_type": "stream",
     "text": [
      "0.014590434873734404 None\n"
     ]
    },
    {
     "data": {
      "application/vnd.jupyter.widget-view+json": {
       "model_id": "1d492e32fc1d4cbbb9a40d20f15b0c57",
       "version_major": 2,
       "version_minor": 0
      },
      "text/plain": [
       "  0%|          | 0/2000 [00:00<?, ?it/s]"
      ]
     },
     "metadata": {},
     "output_type": "display_data"
    },
    {
     "name": "stdout",
     "output_type": "stream",
     "text": [
      "0.013372418807603294 None\n"
     ]
    },
    {
     "data": {
      "application/vnd.jupyter.widget-view+json": {
       "model_id": "395b1903b1d14860ba3b289086667c8f",
       "version_major": 2,
       "version_minor": 0
      },
      "text/plain": [
       "  0%|          | 0/2000 [00:00<?, ?it/s]"
      ]
     },
     "metadata": {},
     "output_type": "display_data"
    },
    {
     "name": "stdout",
     "output_type": "stream",
     "text": [
      "0.01222774730463765 None\n"
     ]
    },
    {
     "data": {
      "application/vnd.jupyter.widget-view+json": {
       "model_id": "98edcc1b85164c6586cbed27ce16b320",
       "version_major": 2,
       "version_minor": 0
      },
      "text/plain": [
       "  0%|          | 0/2000 [00:00<?, ?it/s]"
      ]
     },
     "metadata": {},
     "output_type": "display_data"
    },
    {
     "name": "stdout",
     "output_type": "stream",
     "text": [
      "0.011376915568134062 None\n"
     ]
    },
    {
     "data": {
      "application/vnd.jupyter.widget-view+json": {
       "model_id": "7dc19cea57e94765b450a0cf6a7ac7f6",
       "version_major": 2,
       "version_minor": 0
      },
      "text/plain": [
       "  0%|          | 0/2000 [00:00<?, ?it/s]"
      ]
     },
     "metadata": {},
     "output_type": "display_data"
    },
    {
     "name": "stdout",
     "output_type": "stream",
     "text": [
      "0.010883923548734463 None\n"
     ]
    },
    {
     "data": {
      "application/vnd.jupyter.widget-view+json": {
       "model_id": "808936713505448ea63afd0e873ec525",
       "version_major": 2,
       "version_minor": 0
      },
      "text/plain": [
       "  0%|          | 0/2000 [00:00<?, ?it/s]"
      ]
     },
     "metadata": {},
     "output_type": "display_data"
    },
    {
     "name": "stdout",
     "output_type": "stream",
     "text": [
      "0.010472988088138421 None\n"
     ]
    },
    {
     "data": {
      "application/vnd.jupyter.widget-view+json": {
       "model_id": "e159cce4ddd34426939fae91316737bc",
       "version_major": 2,
       "version_minor": 0
      },
      "text/plain": [
       "  0%|          | 0/2000 [00:00<?, ?it/s]"
      ]
     },
     "metadata": {},
     "output_type": "display_data"
    },
    {
     "name": "stdout",
     "output_type": "stream",
     "text": [
      "0.01017496803649391 None\n"
     ]
    },
    {
     "data": {
      "application/vnd.jupyter.widget-view+json": {
       "model_id": "c1b89083730b420a87f4dc5e2eeb3bed",
       "version_major": 2,
       "version_minor": 0
      },
      "text/plain": [
       "  0%|          | 0/2000 [00:00<?, ?it/s]"
      ]
     },
     "metadata": {},
     "output_type": "display_data"
    },
    {
     "name": "stdout",
     "output_type": "stream",
     "text": [
      "0.01001088448824582 None\n"
     ]
    },
    {
     "data": {
      "application/vnd.jupyter.widget-view+json": {
       "model_id": "0316487f3a0149639dd99d50aeff2561",
       "version_major": 2,
       "version_minor": 0
      },
      "text/plain": [
       "  0%|          | 0/2000 [00:00<?, ?it/s]"
      ]
     },
     "metadata": {},
     "output_type": "display_data"
    },
    {
     "name": "stdout",
     "output_type": "stream",
     "text": [
      "0.009784063938009745 None\n"
     ]
    },
    {
     "data": {
      "application/vnd.jupyter.widget-view+json": {
       "model_id": "50de84567f1748c4aae7bd5dfc6d7c17",
       "version_major": 2,
       "version_minor": 0
      },
      "text/plain": [
       "  0%|          | 0/2000 [00:00<?, ?it/s]"
      ]
     },
     "metadata": {},
     "output_type": "display_data"
    },
    {
     "name": "stdout",
     "output_type": "stream",
     "text": [
      "0.009660196101273492 None\n"
     ]
    },
    {
     "data": {
      "application/vnd.jupyter.widget-view+json": {
       "model_id": "30531b8ca85742069f1f36c9d503df53",
       "version_major": 2,
       "version_minor": 0
      },
      "text/plain": [
       "  0%|          | 0/2000 [00:00<?, ?it/s]"
      ]
     },
     "metadata": {},
     "output_type": "display_data"
    },
    {
     "name": "stdout",
     "output_type": "stream",
     "text": [
      "0.009579209897352435 None\n"
     ]
    },
    {
     "data": {
      "application/vnd.jupyter.widget-view+json": {
       "model_id": "cb59fcabaaa9493a85b6412113309bd3",
       "version_major": 2,
       "version_minor": 0
      },
      "text/plain": [
       "  0%|          | 0/2000 [00:00<?, ?it/s]"
      ]
     },
     "metadata": {},
     "output_type": "display_data"
    },
    {
     "name": "stdout",
     "output_type": "stream",
     "text": [
      "0.009493212911603767 None\n"
     ]
    },
    {
     "data": {
      "application/vnd.jupyter.widget-view+json": {
       "model_id": "ebcd626a68cb48e0b809c749d503454c",
       "version_major": 2,
       "version_minor": 0
      },
      "text/plain": [
       "  0%|          | 0/2000 [00:00<?, ?it/s]"
      ]
     },
     "metadata": {},
     "output_type": "display_data"
    },
    {
     "name": "stdout",
     "output_type": "stream",
     "text": [
      "0.009420372572078693 None\n"
     ]
    },
    {
     "data": {
      "application/vnd.jupyter.widget-view+json": {
       "model_id": "f60e315da349406b98c36198f6e768de",
       "version_major": 2,
       "version_minor": 0
      },
      "text/plain": [
       "  0%|          | 0/2000 [00:00<?, ?it/s]"
      ]
     },
     "metadata": {},
     "output_type": "display_data"
    },
    {
     "name": "stdout",
     "output_type": "stream",
     "text": [
      "0.009403089014696579 None\n"
     ]
    }
   ],
   "source": [
    "n = 3\n",
    "d = 2**n\n",
    "\n",
    "model1_list = []\n",
    "\n",
    "for i in range(5):\n",
    "\n",
    "    inputs_map, inputs_spam, counts_list = pickle.load(open(f\"../../data/threeQubits_PQC_noDelay_belem_{i}.p\", \"rb\"))\n",
    "\n",
    "    targets_map = counts_to_probs(counts_list[:2000-6**n])\n",
    "    targets_spam = counts_to_probs(counts_list[2000-6**n:])\n",
    "\n",
    "    data = [inputs_spam, targets_spam, inputs_map, targets_map]\n",
    "\n",
    "    np.random.seed(42)\n",
    "    random.seed(42)\n",
    "    tf.random.set_seed(42)\n",
    "\n",
    "    model = regularized_fit(d, data, num_iter_spam=1000, num_iter_map = 2000, N = 500)\n",
    "    model1_list.append(model)"
   ]
  },
  {
   "cell_type": "markdown",
   "metadata": {},
   "source": [
    "## 5 us Delay"
   ]
  },
  {
   "cell_type": "code",
   "execution_count": 185,
   "metadata": {},
   "outputs": [
    {
     "data": {
      "application/vnd.jupyter.widget-view+json": {
       "model_id": "3fd0960573754a1faf7617ad47c7754b",
       "version_major": 2,
       "version_minor": 0
      },
      "text/plain": [
       "  0%|          | 0/300 [00:00<?, ?it/s]"
      ]
     },
     "metadata": {},
     "output_type": "display_data"
    },
    {
     "name": "stdout",
     "output_type": "stream",
     "text": [
      "3.806583148768781e-05\n"
     ]
    },
    {
     "data": {
      "application/vnd.jupyter.widget-view+json": {
       "model_id": "79723770d6744ac89e49dfb7e2135810",
       "version_major": 2,
       "version_minor": 0
      },
      "text/plain": [
       "  0%|          | 0/1000 [00:00<?, ?it/s]"
      ]
     },
     "metadata": {},
     "output_type": "display_data"
    },
    {
     "name": "stdout",
     "output_type": "stream",
     "text": [
      "0.008394945983070416\n"
     ]
    },
    {
     "data": {
      "application/vnd.jupyter.widget-view+json": {
       "model_id": "f1fab8672eb540fd88a42f3bb253846a",
       "version_major": 2,
       "version_minor": 0
      },
      "text/plain": [
       "  0%|          | 0/2000 [00:00<?, ?it/s]"
      ]
     },
     "metadata": {},
     "output_type": "display_data"
    },
    {
     "name": "stdout",
     "output_type": "stream",
     "text": [
      "0.006776880105799946 None\n"
     ]
    },
    {
     "data": {
      "application/vnd.jupyter.widget-view+json": {
       "model_id": "9931d7b74f744716be803cd1352a29a2",
       "version_major": 2,
       "version_minor": 0
      },
      "text/plain": [
       "  0%|          | 0/2000 [00:00<?, ?it/s]"
      ]
     },
     "metadata": {},
     "output_type": "display_data"
    },
    {
     "name": "stdout",
     "output_type": "stream",
     "text": [
      "0.007623933041645179 None\n"
     ]
    },
    {
     "data": {
      "application/vnd.jupyter.widget-view+json": {
       "model_id": "4a28ac2bc4f34f839454f579800752c3",
       "version_major": 2,
       "version_minor": 0
      },
      "text/plain": [
       "  0%|          | 0/2000 [00:00<?, ?it/s]"
      ]
     },
     "metadata": {},
     "output_type": "display_data"
    },
    {
     "name": "stdout",
     "output_type": "stream",
     "text": [
      "0.007492602498479315 None\n"
     ]
    },
    {
     "data": {
      "application/vnd.jupyter.widget-view+json": {
       "model_id": "2ac4e220c86f481eaf2a3c769b8a2db5",
       "version_major": 2,
       "version_minor": 0
      },
      "text/plain": [
       "  0%|          | 0/2000 [00:00<?, ?it/s]"
      ]
     },
     "metadata": {},
     "output_type": "display_data"
    },
    {
     "name": "stdout",
     "output_type": "stream",
     "text": [
      "0.007322175249454445 None\n"
     ]
    },
    {
     "data": {
      "application/vnd.jupyter.widget-view+json": {
       "model_id": "5da55e0d6891497e873a05bbbd030de0",
       "version_major": 2,
       "version_minor": 0
      },
      "text/plain": [
       "  0%|          | 0/2000 [00:00<?, ?it/s]"
      ]
     },
     "metadata": {},
     "output_type": "display_data"
    },
    {
     "name": "stdout",
     "output_type": "stream",
     "text": [
      "0.007253634583293862 None\n"
     ]
    },
    {
     "data": {
      "application/vnd.jupyter.widget-view+json": {
       "model_id": "4b20b23808dd46dda6165d8c909b849a",
       "version_major": 2,
       "version_minor": 0
      },
      "text/plain": [
       "  0%|          | 0/2000 [00:00<?, ?it/s]"
      ]
     },
     "metadata": {},
     "output_type": "display_data"
    },
    {
     "name": "stdout",
     "output_type": "stream",
     "text": [
      "0.0071257813164746775 None\n"
     ]
    },
    {
     "data": {
      "application/vnd.jupyter.widget-view+json": {
       "model_id": "3e935551dcbd428ca38eea336c2e2f6c",
       "version_major": 2,
       "version_minor": 0
      },
      "text/plain": [
       "  0%|          | 0/2000 [00:00<?, ?it/s]"
      ]
     },
     "metadata": {},
     "output_type": "display_data"
    },
    {
     "name": "stdout",
     "output_type": "stream",
     "text": [
      "0.007106799375840516 None\n"
     ]
    },
    {
     "data": {
      "application/vnd.jupyter.widget-view+json": {
       "model_id": "336c4686e4e8428c886fb5576a406cd4",
       "version_major": 2,
       "version_minor": 0
      },
      "text/plain": [
       "  0%|          | 0/2000 [00:00<?, ?it/s]"
      ]
     },
     "metadata": {},
     "output_type": "display_data"
    },
    {
     "name": "stdout",
     "output_type": "stream",
     "text": [
      "0.007047567360573995 None\n"
     ]
    },
    {
     "data": {
      "application/vnd.jupyter.widget-view+json": {
       "model_id": "66607882a44e45bd883999bb2c779d49",
       "version_major": 2,
       "version_minor": 0
      },
      "text/plain": [
       "  0%|          | 0/2000 [00:00<?, ?it/s]"
      ]
     },
     "metadata": {},
     "output_type": "display_data"
    },
    {
     "name": "stdout",
     "output_type": "stream",
     "text": [
      "0.007005964237295027 None\n"
     ]
    },
    {
     "data": {
      "application/vnd.jupyter.widget-view+json": {
       "model_id": "4a6fa973b3dc4f5da0b3f1e9de0dbee8",
       "version_major": 2,
       "version_minor": 0
      },
      "text/plain": [
       "  0%|          | 0/2000 [00:00<?, ?it/s]"
      ]
     },
     "metadata": {},
     "output_type": "display_data"
    },
    {
     "name": "stdout",
     "output_type": "stream",
     "text": [
      "0.006968404479806852 None\n"
     ]
    },
    {
     "data": {
      "application/vnd.jupyter.widget-view+json": {
       "model_id": "8fb2f400c20a481f82d3723183221326",
       "version_major": 2,
       "version_minor": 0
      },
      "text/plain": [
       "  0%|          | 0/2000 [00:00<?, ?it/s]"
      ]
     },
     "metadata": {},
     "output_type": "display_data"
    },
    {
     "name": "stdout",
     "output_type": "stream",
     "text": [
      "0.006930455782103285 None\n"
     ]
    },
    {
     "data": {
      "application/vnd.jupyter.widget-view+json": {
       "model_id": "4191344e5da74da8861143578fe6b8dc",
       "version_major": 2,
       "version_minor": 0
      },
      "text/plain": [
       "  0%|          | 0/2000 [00:00<?, ?it/s]"
      ]
     },
     "metadata": {},
     "output_type": "display_data"
    },
    {
     "name": "stdout",
     "output_type": "stream",
     "text": [
      "0.006900989765285093 None\n"
     ]
    },
    {
     "data": {
      "application/vnd.jupyter.widget-view+json": {
       "model_id": "bf400df4a5c6493eb6b78efeb679368b",
       "version_major": 2,
       "version_minor": 0
      },
      "text/plain": [
       "  0%|          | 0/2000 [00:00<?, ?it/s]"
      ]
     },
     "metadata": {},
     "output_type": "display_data"
    },
    {
     "name": "stdout",
     "output_type": "stream",
     "text": [
      "0.006871345158118946 None\n"
     ]
    },
    {
     "data": {
      "application/vnd.jupyter.widget-view+json": {
       "model_id": "be4516ae19bb4c77bf4caf5c48bd4f20",
       "version_major": 2,
       "version_minor": 0
      },
      "text/plain": [
       "  0%|          | 0/2000 [00:00<?, ?it/s]"
      ]
     },
     "metadata": {},
     "output_type": "display_data"
    },
    {
     "name": "stdout",
     "output_type": "stream",
     "text": [
      "0.006863828663224663 None\n"
     ]
    },
    {
     "data": {
      "application/vnd.jupyter.widget-view+json": {
       "model_id": "3685617260aa4665a8fc35c08cc9aded",
       "version_major": 2,
       "version_minor": 0
      },
      "text/plain": [
       "  0%|          | 0/2000 [00:00<?, ?it/s]"
      ]
     },
     "metadata": {},
     "output_type": "display_data"
    },
    {
     "name": "stdout",
     "output_type": "stream",
     "text": [
      "0.006839098314333158 None\n"
     ]
    },
    {
     "data": {
      "application/vnd.jupyter.widget-view+json": {
       "model_id": "24e893f651f14c22ac2c8ab32f5aaa59",
       "version_major": 2,
       "version_minor": 0
      },
      "text/plain": [
       "  0%|          | 0/2000 [00:00<?, ?it/s]"
      ]
     },
     "metadata": {},
     "output_type": "display_data"
    },
    {
     "name": "stdout",
     "output_type": "stream",
     "text": [
      "0.006823362917507715 None\n"
     ]
    },
    {
     "data": {
      "application/vnd.jupyter.widget-view+json": {
       "model_id": "1d848ebb7d6543bf8a9971dee6acfb0c",
       "version_major": 2,
       "version_minor": 0
      },
      "text/plain": [
       "  0%|          | 0/2000 [00:00<?, ?it/s]"
      ]
     },
     "metadata": {},
     "output_type": "display_data"
    },
    {
     "name": "stdout",
     "output_type": "stream",
     "text": [
      "0.006824712471524944 None\n"
     ]
    },
    {
     "data": {
      "application/vnd.jupyter.widget-view+json": {
       "model_id": "94850120051d4207a6d79343364fb2d8",
       "version_major": 2,
       "version_minor": 0
      },
      "text/plain": [
       "  0%|          | 0/300 [00:00<?, ?it/s]"
      ]
     },
     "metadata": {},
     "output_type": "display_data"
    },
    {
     "name": "stdout",
     "output_type": "stream",
     "text": [
      "3.806583148768781e-05\n"
     ]
    },
    {
     "data": {
      "application/vnd.jupyter.widget-view+json": {
       "model_id": "d737117db73345a29f98232e19966874",
       "version_major": 2,
       "version_minor": 0
      },
      "text/plain": [
       "  0%|          | 0/1000 [00:00<?, ?it/s]"
      ]
     },
     "metadata": {},
     "output_type": "display_data"
    },
    {
     "name": "stdout",
     "output_type": "stream",
     "text": [
      "0.00892046797356302\n"
     ]
    },
    {
     "data": {
      "application/vnd.jupyter.widget-view+json": {
       "model_id": "3d5fb9494ab540dfaf1ed779d392a9b8",
       "version_major": 2,
       "version_minor": 0
      },
      "text/plain": [
       "  0%|          | 0/2000 [00:00<?, ?it/s]"
      ]
     },
     "metadata": {},
     "output_type": "display_data"
    },
    {
     "name": "stdout",
     "output_type": "stream",
     "text": [
      "0.00821445917037374 None\n"
     ]
    },
    {
     "data": {
      "application/vnd.jupyter.widget-view+json": {
       "model_id": "d88e4061a11a49689178ad0af11ab56a",
       "version_major": 2,
       "version_minor": 0
      },
      "text/plain": [
       "  0%|          | 0/2000 [00:00<?, ?it/s]"
      ]
     },
     "metadata": {},
     "output_type": "display_data"
    },
    {
     "name": "stdout",
     "output_type": "stream",
     "text": [
      "0.009132243733940584 None\n"
     ]
    },
    {
     "data": {
      "application/vnd.jupyter.widget-view+json": {
       "model_id": "2862c8a1ccef43ac8b1e6439cc912332",
       "version_major": 2,
       "version_minor": 0
      },
      "text/plain": [
       "  0%|          | 0/2000 [00:00<?, ?it/s]"
      ]
     },
     "metadata": {},
     "output_type": "display_data"
    },
    {
     "name": "stdout",
     "output_type": "stream",
     "text": [
      "0.008859689644201526 None\n"
     ]
    },
    {
     "data": {
      "application/vnd.jupyter.widget-view+json": {
       "model_id": "381f3f83a32f4acabc2625320485d478",
       "version_major": 2,
       "version_minor": 0
      },
      "text/plain": [
       "  0%|          | 0/2000 [00:00<?, ?it/s]"
      ]
     },
     "metadata": {},
     "output_type": "display_data"
    },
    {
     "name": "stdout",
     "output_type": "stream",
     "text": [
      "0.008750321775486902 None\n"
     ]
    },
    {
     "data": {
      "application/vnd.jupyter.widget-view+json": {
       "model_id": "d2f5bd5bf9d140b392621909926a222e",
       "version_major": 2,
       "version_minor": 0
      },
      "text/plain": [
       "  0%|          | 0/2000 [00:00<?, ?it/s]"
      ]
     },
     "metadata": {},
     "output_type": "display_data"
    },
    {
     "name": "stdout",
     "output_type": "stream",
     "text": [
      "0.008717394408490413 None\n"
     ]
    },
    {
     "data": {
      "application/vnd.jupyter.widget-view+json": {
       "model_id": "5013af5ff08a4d049bbdc4db582f4823",
       "version_major": 2,
       "version_minor": 0
      },
      "text/plain": [
       "  0%|          | 0/2000 [00:00<?, ?it/s]"
      ]
     },
     "metadata": {},
     "output_type": "display_data"
    },
    {
     "name": "stdout",
     "output_type": "stream",
     "text": [
      "0.008603119682161682 None\n"
     ]
    },
    {
     "data": {
      "application/vnd.jupyter.widget-view+json": {
       "model_id": "87095f28d04c4b178019b2052ac00c16",
       "version_major": 2,
       "version_minor": 0
      },
      "text/plain": [
       "  0%|          | 0/2000 [00:00<?, ?it/s]"
      ]
     },
     "metadata": {},
     "output_type": "display_data"
    },
    {
     "name": "stdout",
     "output_type": "stream",
     "text": [
      "0.008539564509784315 None\n"
     ]
    },
    {
     "data": {
      "application/vnd.jupyter.widget-view+json": {
       "model_id": "cf0ba4f2772c442a96444f5bb20a173f",
       "version_major": 2,
       "version_minor": 0
      },
      "text/plain": [
       "  0%|          | 0/2000 [00:00<?, ?it/s]"
      ]
     },
     "metadata": {},
     "output_type": "display_data"
    },
    {
     "name": "stdout",
     "output_type": "stream",
     "text": [
      "0.008514253939833998 None\n"
     ]
    },
    {
     "data": {
      "application/vnd.jupyter.widget-view+json": {
       "model_id": "68fc62a9a99744dca28720cfc53fd9b6",
       "version_major": 2,
       "version_minor": 0
      },
      "text/plain": [
       "  0%|          | 0/2000 [00:00<?, ?it/s]"
      ]
     },
     "metadata": {},
     "output_type": "display_data"
    },
    {
     "name": "stdout",
     "output_type": "stream",
     "text": [
      "0.008411564069120888 None\n"
     ]
    },
    {
     "data": {
      "application/vnd.jupyter.widget-view+json": {
       "model_id": "c52e0367db614a298550e438b47a573c",
       "version_major": 2,
       "version_minor": 0
      },
      "text/plain": [
       "  0%|          | 0/2000 [00:00<?, ?it/s]"
      ]
     },
     "metadata": {},
     "output_type": "display_data"
    },
    {
     "name": "stdout",
     "output_type": "stream",
     "text": [
      "0.00840024365313206 None\n"
     ]
    },
    {
     "data": {
      "application/vnd.jupyter.widget-view+json": {
       "model_id": "036a3c289ccc4eab8c2a8980acfd44b3",
       "version_major": 2,
       "version_minor": 0
      },
      "text/plain": [
       "  0%|          | 0/2000 [00:00<?, ?it/s]"
      ]
     },
     "metadata": {},
     "output_type": "display_data"
    },
    {
     "name": "stdout",
     "output_type": "stream",
     "text": [
      "0.008380094645512409 None\n"
     ]
    },
    {
     "data": {
      "application/vnd.jupyter.widget-view+json": {
       "model_id": "ba2a86215e41441f836ff88fee547c7e",
       "version_major": 2,
       "version_minor": 0
      },
      "text/plain": [
       "  0%|          | 0/2000 [00:00<?, ?it/s]"
      ]
     },
     "metadata": {},
     "output_type": "display_data"
    },
    {
     "name": "stdout",
     "output_type": "stream",
     "text": [
      "0.008346085633488634 None\n"
     ]
    },
    {
     "data": {
      "application/vnd.jupyter.widget-view+json": {
       "model_id": "d840d77b4cc74f67aa7acbaaa8fde8a1",
       "version_major": 2,
       "version_minor": 0
      },
      "text/plain": [
       "  0%|          | 0/2000 [00:00<?, ?it/s]"
      ]
     },
     "metadata": {},
     "output_type": "display_data"
    },
    {
     "name": "stdout",
     "output_type": "stream",
     "text": [
      "0.008320423254310835 None\n"
     ]
    },
    {
     "data": {
      "application/vnd.jupyter.widget-view+json": {
       "model_id": "49914b8947a443729588a1669c9230c3",
       "version_major": 2,
       "version_minor": 0
      },
      "text/plain": [
       "  0%|          | 0/2000 [00:00<?, ?it/s]"
      ]
     },
     "metadata": {},
     "output_type": "display_data"
    },
    {
     "name": "stdout",
     "output_type": "stream",
     "text": [
      "0.008296733097812327 None\n"
     ]
    },
    {
     "data": {
      "application/vnd.jupyter.widget-view+json": {
       "model_id": "b661db675aff4544a0d968dfd1527f01",
       "version_major": 2,
       "version_minor": 0
      },
      "text/plain": [
       "  0%|          | 0/2000 [00:00<?, ?it/s]"
      ]
     },
     "metadata": {},
     "output_type": "display_data"
    },
    {
     "name": "stdout",
     "output_type": "stream",
     "text": [
      "0.008296910444964866 None\n"
     ]
    },
    {
     "data": {
      "application/vnd.jupyter.widget-view+json": {
       "model_id": "ed69d435f45b4190bd217f149894bbde",
       "version_major": 2,
       "version_minor": 0
      },
      "text/plain": [
       "  0%|          | 0/300 [00:00<?, ?it/s]"
      ]
     },
     "metadata": {},
     "output_type": "display_data"
    },
    {
     "name": "stdout",
     "output_type": "stream",
     "text": [
      "3.806583148768781e-05\n"
     ]
    },
    {
     "data": {
      "application/vnd.jupyter.widget-view+json": {
       "model_id": "5e371fab1679498ea6f72a384bb2f4f8",
       "version_major": 2,
       "version_minor": 0
      },
      "text/plain": [
       "  0%|          | 0/1000 [00:00<?, ?it/s]"
      ]
     },
     "metadata": {},
     "output_type": "display_data"
    },
    {
     "name": "stdout",
     "output_type": "stream",
     "text": [
      "0.00894303267486445\n"
     ]
    },
    {
     "data": {
      "application/vnd.jupyter.widget-view+json": {
       "model_id": "fd02648c9e4c4f7a9603c9f2fb2e591c",
       "version_major": 2,
       "version_minor": 0
      },
      "text/plain": [
       "  0%|          | 0/2000 [00:00<?, ?it/s]"
      ]
     },
     "metadata": {},
     "output_type": "display_data"
    },
    {
     "name": "stdout",
     "output_type": "stream",
     "text": [
      "0.0075396810619636715 None\n"
     ]
    },
    {
     "data": {
      "application/vnd.jupyter.widget-view+json": {
       "model_id": "d870e7b1a7c94c1fb201e5371c7e6b87",
       "version_major": 2,
       "version_minor": 0
      },
      "text/plain": [
       "  0%|          | 0/2000 [00:00<?, ?it/s]"
      ]
     },
     "metadata": {},
     "output_type": "display_data"
    },
    {
     "name": "stdout",
     "output_type": "stream",
     "text": [
      "0.008668788459803177 None\n"
     ]
    },
    {
     "data": {
      "application/vnd.jupyter.widget-view+json": {
       "model_id": "a38ca7da8395469ea88a95eb4e548afe",
       "version_major": 2,
       "version_minor": 0
      },
      "text/plain": [
       "  0%|          | 0/2000 [00:00<?, ?it/s]"
      ]
     },
     "metadata": {},
     "output_type": "display_data"
    },
    {
     "name": "stdout",
     "output_type": "stream",
     "text": [
      "0.008395145626097554 None\n"
     ]
    },
    {
     "data": {
      "application/vnd.jupyter.widget-view+json": {
       "model_id": "1db8d54ba7dc46a8885c435969af9670",
       "version_major": 2,
       "version_minor": 0
      },
      "text/plain": [
       "  0%|          | 0/2000 [00:00<?, ?it/s]"
      ]
     },
     "metadata": {},
     "output_type": "display_data"
    },
    {
     "name": "stdout",
     "output_type": "stream",
     "text": [
      "0.00824751536680717 None\n"
     ]
    },
    {
     "data": {
      "application/vnd.jupyter.widget-view+json": {
       "model_id": "ed8ab219f03d453d926690ae8c4d0c4d",
       "version_major": 2,
       "version_minor": 0
      },
      "text/plain": [
       "  0%|          | 0/2000 [00:00<?, ?it/s]"
      ]
     },
     "metadata": {},
     "output_type": "display_data"
    },
    {
     "name": "stdout",
     "output_type": "stream",
     "text": [
      "0.008119655326004532 None\n"
     ]
    },
    {
     "data": {
      "application/vnd.jupyter.widget-view+json": {
       "model_id": "5c11e96f5a9147f3be87bc5757b36e31",
       "version_major": 2,
       "version_minor": 0
      },
      "text/plain": [
       "  0%|          | 0/2000 [00:00<?, ?it/s]"
      ]
     },
     "metadata": {},
     "output_type": "display_data"
    },
    {
     "name": "stdout",
     "output_type": "stream",
     "text": [
      "0.007964883517459602 None\n"
     ]
    },
    {
     "data": {
      "application/vnd.jupyter.widget-view+json": {
       "model_id": "7b4ddbee5daf4b72b8e454e036dc2fb5",
       "version_major": 2,
       "version_minor": 0
      },
      "text/plain": [
       "  0%|          | 0/2000 [00:00<?, ?it/s]"
      ]
     },
     "metadata": {},
     "output_type": "display_data"
    },
    {
     "name": "stdout",
     "output_type": "stream",
     "text": [
      "0.00792810095886283 None\n"
     ]
    },
    {
     "data": {
      "application/vnd.jupyter.widget-view+json": {
       "model_id": "ec4c18729d1e4cebaf502d2af0a52801",
       "version_major": 2,
       "version_minor": 0
      },
      "text/plain": [
       "  0%|          | 0/2000 [00:00<?, ?it/s]"
      ]
     },
     "metadata": {},
     "output_type": "display_data"
    },
    {
     "name": "stdout",
     "output_type": "stream",
     "text": [
      "0.007896995197656157 None\n"
     ]
    },
    {
     "data": {
      "application/vnd.jupyter.widget-view+json": {
       "model_id": "a256d99b01534a0495ef389ebb5441a2",
       "version_major": 2,
       "version_minor": 0
      },
      "text/plain": [
       "  0%|          | 0/2000 [00:00<?, ?it/s]"
      ]
     },
     "metadata": {},
     "output_type": "display_data"
    },
    {
     "name": "stdout",
     "output_type": "stream",
     "text": [
      "0.007824706335246526 None\n"
     ]
    },
    {
     "data": {
      "application/vnd.jupyter.widget-view+json": {
       "model_id": "ebeaab7e21344924a9f5196fe8e63db6",
       "version_major": 2,
       "version_minor": 0
      },
      "text/plain": [
       "  0%|          | 0/2000 [00:00<?, ?it/s]"
      ]
     },
     "metadata": {},
     "output_type": "display_data"
    },
    {
     "name": "stdout",
     "output_type": "stream",
     "text": [
      "0.007743630061321087 None\n"
     ]
    },
    {
     "data": {
      "application/vnd.jupyter.widget-view+json": {
       "model_id": "50d8a6eafed44215834ceaf0dd410414",
       "version_major": 2,
       "version_minor": 0
      },
      "text/plain": [
       "  0%|          | 0/2000 [00:00<?, ?it/s]"
      ]
     },
     "metadata": {},
     "output_type": "display_data"
    },
    {
     "name": "stdout",
     "output_type": "stream",
     "text": [
      "0.0077113512526802664 None\n"
     ]
    },
    {
     "data": {
      "application/vnd.jupyter.widget-view+json": {
       "model_id": "59b860e321ca40d29ddf4a2ce36148af",
       "version_major": 2,
       "version_minor": 0
      },
      "text/plain": [
       "  0%|          | 0/2000 [00:00<?, ?it/s]"
      ]
     },
     "metadata": {},
     "output_type": "display_data"
    },
    {
     "name": "stdout",
     "output_type": "stream",
     "text": [
      "0.007694922722232912 None\n"
     ]
    },
    {
     "data": {
      "application/vnd.jupyter.widget-view+json": {
       "model_id": "b0def869801d4f5994c11cc1b248b8d6",
       "version_major": 2,
       "version_minor": 0
      },
      "text/plain": [
       "  0%|          | 0/2000 [00:00<?, ?it/s]"
      ]
     },
     "metadata": {},
     "output_type": "display_data"
    },
    {
     "name": "stdout",
     "output_type": "stream",
     "text": [
      "0.007688432905979559 None\n"
     ]
    },
    {
     "data": {
      "application/vnd.jupyter.widget-view+json": {
       "model_id": "4b541357417c45d68816dd544eadc267",
       "version_major": 2,
       "version_minor": 0
      },
      "text/plain": [
       "  0%|          | 0/2000 [00:00<?, ?it/s]"
      ]
     },
     "metadata": {},
     "output_type": "display_data"
    },
    {
     "name": "stdout",
     "output_type": "stream",
     "text": [
      "0.007636878469652029 None\n"
     ]
    },
    {
     "data": {
      "application/vnd.jupyter.widget-view+json": {
       "model_id": "577a1c8b7cab4a9897f5e13ece2b51e9",
       "version_major": 2,
       "version_minor": 0
      },
      "text/plain": [
       "  0%|          | 0/2000 [00:00<?, ?it/s]"
      ]
     },
     "metadata": {},
     "output_type": "display_data"
    },
    {
     "name": "stdout",
     "output_type": "stream",
     "text": [
      "0.007622331052810464 None\n"
     ]
    },
    {
     "data": {
      "application/vnd.jupyter.widget-view+json": {
       "model_id": "90cd9dcb1f4f443c8d361e4b04223dfa",
       "version_major": 2,
       "version_minor": 0
      },
      "text/plain": [
       "  0%|          | 0/2000 [00:00<?, ?it/s]"
      ]
     },
     "metadata": {},
     "output_type": "display_data"
    },
    {
     "name": "stdout",
     "output_type": "stream",
     "text": [
      "0.00760828037112155 None\n"
     ]
    },
    {
     "data": {
      "application/vnd.jupyter.widget-view+json": {
       "model_id": "200b0d94d11d47a586144fd5021d5871",
       "version_major": 2,
       "version_minor": 0
      },
      "text/plain": [
       "  0%|          | 0/2000 [00:00<?, ?it/s]"
      ]
     },
     "metadata": {},
     "output_type": "display_data"
    },
    {
     "name": "stdout",
     "output_type": "stream",
     "text": [
      "0.00760368519414531 None\n"
     ]
    },
    {
     "data": {
      "application/vnd.jupyter.widget-view+json": {
       "model_id": "228acfc08d1a40fea89a730feacfc2bb",
       "version_major": 2,
       "version_minor": 0
      },
      "text/plain": [
       "  0%|          | 0/2000 [00:00<?, ?it/s]"
      ]
     },
     "metadata": {},
     "output_type": "display_data"
    },
    {
     "name": "stdout",
     "output_type": "stream",
     "text": [
      "0.007586392077567178 None\n"
     ]
    },
    {
     "data": {
      "application/vnd.jupyter.widget-view+json": {
       "model_id": "19368a1c1ac94304a7b3c39009b3a3ee",
       "version_major": 2,
       "version_minor": 0
      },
      "text/plain": [
       "  0%|          | 0/2000 [00:00<?, ?it/s]"
      ]
     },
     "metadata": {},
     "output_type": "display_data"
    },
    {
     "name": "stdout",
     "output_type": "stream",
     "text": [
      "0.007590534173966009 None\n"
     ]
    },
    {
     "data": {
      "application/vnd.jupyter.widget-view+json": {
       "model_id": "171c6c93659c40d08e310149e4321c22",
       "version_major": 2,
       "version_minor": 0
      },
      "text/plain": [
       "  0%|          | 0/300 [00:00<?, ?it/s]"
      ]
     },
     "metadata": {},
     "output_type": "display_data"
    },
    {
     "name": "stdout",
     "output_type": "stream",
     "text": [
      "3.806583148768781e-05\n"
     ]
    },
    {
     "data": {
      "application/vnd.jupyter.widget-view+json": {
       "model_id": "6859a954c7c14a33be727d384ff3c67a",
       "version_major": 2,
       "version_minor": 0
      },
      "text/plain": [
       "  0%|          | 0/1000 [00:00<?, ?it/s]"
      ]
     },
     "metadata": {},
     "output_type": "display_data"
    },
    {
     "name": "stdout",
     "output_type": "stream",
     "text": [
      "0.008697081534007094\n"
     ]
    },
    {
     "data": {
      "application/vnd.jupyter.widget-view+json": {
       "model_id": "7342840ddbe840d7aef30964295ebfcd",
       "version_major": 2,
       "version_minor": 0
      },
      "text/plain": [
       "  0%|          | 0/2000 [00:00<?, ?it/s]"
      ]
     },
     "metadata": {},
     "output_type": "display_data"
    },
    {
     "name": "stdout",
     "output_type": "stream",
     "text": [
      "0.044423146907391624 None\n"
     ]
    },
    {
     "data": {
      "application/vnd.jupyter.widget-view+json": {
       "model_id": "2edc371d59774825a12968ca19ecb3f8",
       "version_major": 2,
       "version_minor": 0
      },
      "text/plain": [
       "  0%|          | 0/2000 [00:00<?, ?it/s]"
      ]
     },
     "metadata": {},
     "output_type": "display_data"
    },
    {
     "name": "stdout",
     "output_type": "stream",
     "text": [
      "0.04527677329072894 None\n"
     ]
    },
    {
     "data": {
      "application/vnd.jupyter.widget-view+json": {
       "model_id": "4bb6e257bf7c4ca3ab6a90a8077f7433",
       "version_major": 2,
       "version_minor": 0
      },
      "text/plain": [
       "  0%|          | 0/2000 [00:00<?, ?it/s]"
      ]
     },
     "metadata": {},
     "output_type": "display_data"
    },
    {
     "name": "stdout",
     "output_type": "stream",
     "text": [
      "0.04511788869243906 None\n"
     ]
    },
    {
     "data": {
      "application/vnd.jupyter.widget-view+json": {
       "model_id": "4ce80f17ca564c7099dec7202a804ac5",
       "version_major": 2,
       "version_minor": 0
      },
      "text/plain": [
       "  0%|          | 0/2000 [00:00<?, ?it/s]"
      ]
     },
     "metadata": {},
     "output_type": "display_data"
    },
    {
     "name": "stdout",
     "output_type": "stream",
     "text": [
      "0.0450136564325618 None\n"
     ]
    },
    {
     "data": {
      "application/vnd.jupyter.widget-view+json": {
       "model_id": "8872fd943042462eb5804b12ad745d1d",
       "version_major": 2,
       "version_minor": 0
      },
      "text/plain": [
       "  0%|          | 0/2000 [00:00<?, ?it/s]"
      ]
     },
     "metadata": {},
     "output_type": "display_data"
    },
    {
     "name": "stdout",
     "output_type": "stream",
     "text": [
      "0.04483821994375711 None\n"
     ]
    },
    {
     "data": {
      "application/vnd.jupyter.widget-view+json": {
       "model_id": "5a0b0a731d324b23b186881d4e1e1590",
       "version_major": 2,
       "version_minor": 0
      },
      "text/plain": [
       "  0%|          | 0/2000 [00:00<?, ?it/s]"
      ]
     },
     "metadata": {},
     "output_type": "display_data"
    },
    {
     "name": "stdout",
     "output_type": "stream",
     "text": [
      "0.04477120146762956 None\n"
     ]
    },
    {
     "data": {
      "application/vnd.jupyter.widget-view+json": {
       "model_id": "3faf0264e9a940bc903fe6529ef6e3bf",
       "version_major": 2,
       "version_minor": 0
      },
      "text/plain": [
       "  0%|          | 0/2000 [00:00<?, ?it/s]"
      ]
     },
     "metadata": {},
     "output_type": "display_data"
    },
    {
     "name": "stdout",
     "output_type": "stream",
     "text": [
      "0.044645271001879296 None\n"
     ]
    },
    {
     "data": {
      "application/vnd.jupyter.widget-view+json": {
       "model_id": "0fa443c1888e43ceb6622ea7b7bf9a01",
       "version_major": 2,
       "version_minor": 0
      },
      "text/plain": [
       "  0%|          | 0/2000 [00:00<?, ?it/s]"
      ]
     },
     "metadata": {},
     "output_type": "display_data"
    },
    {
     "name": "stdout",
     "output_type": "stream",
     "text": [
      "0.04463011033220254 None\n"
     ]
    },
    {
     "data": {
      "application/vnd.jupyter.widget-view+json": {
       "model_id": "43164f68b6ca4bb88faf90ffde8f6beb",
       "version_major": 2,
       "version_minor": 0
      },
      "text/plain": [
       "  0%|          | 0/2000 [00:00<?, ?it/s]"
      ]
     },
     "metadata": {},
     "output_type": "display_data"
    },
    {
     "name": "stdout",
     "output_type": "stream",
     "text": [
      "0.044555895214803604 None\n"
     ]
    },
    {
     "data": {
      "application/vnd.jupyter.widget-view+json": {
       "model_id": "43bf4f33a9e94bfda245cb2a3fe263fb",
       "version_major": 2,
       "version_minor": 0
      },
      "text/plain": [
       "  0%|          | 0/2000 [00:00<?, ?it/s]"
      ]
     },
     "metadata": {},
     "output_type": "display_data"
    },
    {
     "name": "stdout",
     "output_type": "stream",
     "text": [
      "0.044556912715930146 None\n"
     ]
    },
    {
     "data": {
      "application/vnd.jupyter.widget-view+json": {
       "model_id": "d257b021adbd4ca09b1069cc36dfbf88",
       "version_major": 2,
       "version_minor": 0
      },
      "text/plain": [
       "  0%|          | 0/300 [00:00<?, ?it/s]"
      ]
     },
     "metadata": {},
     "output_type": "display_data"
    },
    {
     "name": "stdout",
     "output_type": "stream",
     "text": [
      "3.806583148768781e-05\n"
     ]
    },
    {
     "data": {
      "application/vnd.jupyter.widget-view+json": {
       "model_id": "40409ec9efbb46c1ae34e0ab898dfad0",
       "version_major": 2,
       "version_minor": 0
      },
      "text/plain": [
       "  0%|          | 0/1000 [00:00<?, ?it/s]"
      ]
     },
     "metadata": {},
     "output_type": "display_data"
    },
    {
     "name": "stdout",
     "output_type": "stream",
     "text": [
      "0.009514388221095701\n"
     ]
    },
    {
     "data": {
      "application/vnd.jupyter.widget-view+json": {
       "model_id": "aa76db44d2fa45f796615dec4ad5f67b",
       "version_major": 2,
       "version_minor": 0
      },
      "text/plain": [
       "  0%|          | 0/2000 [00:00<?, ?it/s]"
      ]
     },
     "metadata": {},
     "output_type": "display_data"
    },
    {
     "name": "stdout",
     "output_type": "stream",
     "text": [
      "0.0073177856714634745 None\n"
     ]
    },
    {
     "data": {
      "application/vnd.jupyter.widget-view+json": {
       "model_id": "9efdd9001b924ba08f7731f6870473c4",
       "version_major": 2,
       "version_minor": 0
      },
      "text/plain": [
       "  0%|          | 0/2000 [00:00<?, ?it/s]"
      ]
     },
     "metadata": {},
     "output_type": "display_data"
    },
    {
     "name": "stdout",
     "output_type": "stream",
     "text": [
      "0.008230315919361927 None\n"
     ]
    },
    {
     "data": {
      "application/vnd.jupyter.widget-view+json": {
       "model_id": "cd46de5562284aad8376a8c2e7e97179",
       "version_major": 2,
       "version_minor": 0
      },
      "text/plain": [
       "  0%|          | 0/2000 [00:00<?, ?it/s]"
      ]
     },
     "metadata": {},
     "output_type": "display_data"
    },
    {
     "name": "stdout",
     "output_type": "stream",
     "text": [
      "0.00801066008265039 None\n"
     ]
    },
    {
     "data": {
      "application/vnd.jupyter.widget-view+json": {
       "model_id": "9805c12a360d4ff0878c54966a6b2650",
       "version_major": 2,
       "version_minor": 0
      },
      "text/plain": [
       "  0%|          | 0/2000 [00:00<?, ?it/s]"
      ]
     },
     "metadata": {},
     "output_type": "display_data"
    },
    {
     "name": "stdout",
     "output_type": "stream",
     "text": [
      "0.007916271153643429 None\n"
     ]
    },
    {
     "data": {
      "application/vnd.jupyter.widget-view+json": {
       "model_id": "b11c62b65a61431e945c15c64f8d908d",
       "version_major": 2,
       "version_minor": 0
      },
      "text/plain": [
       "  0%|          | 0/2000 [00:00<?, ?it/s]"
      ]
     },
     "metadata": {},
     "output_type": "display_data"
    },
    {
     "name": "stdout",
     "output_type": "stream",
     "text": [
      "0.007765021156276441 None\n"
     ]
    },
    {
     "data": {
      "application/vnd.jupyter.widget-view+json": {
       "model_id": "2e8ddb7953904cf6a77e919b2ad34f10",
       "version_major": 2,
       "version_minor": 0
      },
      "text/plain": [
       "  0%|          | 0/2000 [00:00<?, ?it/s]"
      ]
     },
     "metadata": {},
     "output_type": "display_data"
    },
    {
     "name": "stdout",
     "output_type": "stream",
     "text": [
      "0.007717563573261288 None\n"
     ]
    },
    {
     "data": {
      "application/vnd.jupyter.widget-view+json": {
       "model_id": "ae36dbf6f0724c2183171254ff52367f",
       "version_major": 2,
       "version_minor": 0
      },
      "text/plain": [
       "  0%|          | 0/2000 [00:00<?, ?it/s]"
      ]
     },
     "metadata": {},
     "output_type": "display_data"
    },
    {
     "name": "stdout",
     "output_type": "stream",
     "text": [
      "0.007648212791709639 None\n"
     ]
    },
    {
     "data": {
      "application/vnd.jupyter.widget-view+json": {
       "model_id": "09aa993bb01542e1a41ccfe50461f410",
       "version_major": 2,
       "version_minor": 0
      },
      "text/plain": [
       "  0%|          | 0/2000 [00:00<?, ?it/s]"
      ]
     },
     "metadata": {},
     "output_type": "display_data"
    },
    {
     "name": "stdout",
     "output_type": "stream",
     "text": [
      "0.007589485286542305 None\n"
     ]
    },
    {
     "data": {
      "application/vnd.jupyter.widget-view+json": {
       "model_id": "85f9d181bb0f41c0b8dc9928fffeb7e7",
       "version_major": 2,
       "version_minor": 0
      },
      "text/plain": [
       "  0%|          | 0/2000 [00:00<?, ?it/s]"
      ]
     },
     "metadata": {},
     "output_type": "display_data"
    },
    {
     "name": "stdout",
     "output_type": "stream",
     "text": [
      "0.007527688988829766 None\n"
     ]
    },
    {
     "data": {
      "application/vnd.jupyter.widget-view+json": {
       "model_id": "6dae97d471544b82b081092edc353bee",
       "version_major": 2,
       "version_minor": 0
      },
      "text/plain": [
       "  0%|          | 0/2000 [00:00<?, ?it/s]"
      ]
     },
     "metadata": {},
     "output_type": "display_data"
    },
    {
     "name": "stdout",
     "output_type": "stream",
     "text": [
      "0.007492469581646732 None\n"
     ]
    },
    {
     "data": {
      "application/vnd.jupyter.widget-view+json": {
       "model_id": "3fadf5510f2e49229774224aff151805",
       "version_major": 2,
       "version_minor": 0
      },
      "text/plain": [
       "  0%|          | 0/2000 [00:00<?, ?it/s]"
      ]
     },
     "metadata": {},
     "output_type": "display_data"
    },
    {
     "name": "stdout",
     "output_type": "stream",
     "text": [
      "0.007484610511578419 None\n"
     ]
    },
    {
     "data": {
      "application/vnd.jupyter.widget-view+json": {
       "model_id": "5af099ae68b94c21bddc41eac732f367",
       "version_major": 2,
       "version_minor": 0
      },
      "text/plain": [
       "  0%|          | 0/2000 [00:00<?, ?it/s]"
      ]
     },
     "metadata": {},
     "output_type": "display_data"
    },
    {
     "name": "stdout",
     "output_type": "stream",
     "text": [
      "0.007442004686008901 None\n"
     ]
    },
    {
     "data": {
      "application/vnd.jupyter.widget-view+json": {
       "model_id": "e165ca1831004172828d1d23b5d5cf61",
       "version_major": 2,
       "version_minor": 0
      },
      "text/plain": [
       "  0%|          | 0/2000 [00:00<?, ?it/s]"
      ]
     },
     "metadata": {},
     "output_type": "display_data"
    },
    {
     "name": "stdout",
     "output_type": "stream",
     "text": [
      "0.007427680828315004 None\n"
     ]
    },
    {
     "data": {
      "application/vnd.jupyter.widget-view+json": {
       "model_id": "a9fc6de3fdc940e9b35538b60ff134fa",
       "version_major": 2,
       "version_minor": 0
      },
      "text/plain": [
       "  0%|          | 0/2000 [00:00<?, ?it/s]"
      ]
     },
     "metadata": {},
     "output_type": "display_data"
    },
    {
     "name": "stdout",
     "output_type": "stream",
     "text": [
      "0.007405271350387106 None\n"
     ]
    },
    {
     "data": {
      "application/vnd.jupyter.widget-view+json": {
       "model_id": "f13f5e4cce77482ca2835f889fb82718",
       "version_major": 2,
       "version_minor": 0
      },
      "text/plain": [
       "  0%|          | 0/2000 [00:00<?, ?it/s]"
      ]
     },
     "metadata": {},
     "output_type": "display_data"
    },
    {
     "name": "stdout",
     "output_type": "stream",
     "text": [
      "0.007392027144304748 None\n"
     ]
    },
    {
     "data": {
      "application/vnd.jupyter.widget-view+json": {
       "model_id": "ccb78aafd97543fb9407295cf6126d91",
       "version_major": 2,
       "version_minor": 0
      },
      "text/plain": [
       "  0%|          | 0/2000 [00:00<?, ?it/s]"
      ]
     },
     "metadata": {},
     "output_type": "display_data"
    },
    {
     "name": "stdout",
     "output_type": "stream",
     "text": [
      "0.007377841347704974 None\n"
     ]
    },
    {
     "data": {
      "application/vnd.jupyter.widget-view+json": {
       "model_id": "c67ac05e7de54b43b68646e5560e52b1",
       "version_major": 2,
       "version_minor": 0
      },
      "text/plain": [
       "  0%|          | 0/2000 [00:00<?, ?it/s]"
      ]
     },
     "metadata": {},
     "output_type": "display_data"
    },
    {
     "name": "stdout",
     "output_type": "stream",
     "text": [
      "0.0073680924901413725 None\n"
     ]
    },
    {
     "data": {
      "application/vnd.jupyter.widget-view+json": {
       "model_id": "1fbeb629e1c049dda2fccd68fb3b9da7",
       "version_major": 2,
       "version_minor": 0
      },
      "text/plain": [
       "  0%|          | 0/2000 [00:00<?, ?it/s]"
      ]
     },
     "metadata": {},
     "output_type": "display_data"
    },
    {
     "name": "stdout",
     "output_type": "stream",
     "text": [
      "0.007373561307836103 None\n"
     ]
    }
   ],
   "source": [
    "n = 3\n",
    "d = 2**n\n",
    "\n",
    "model2_list = []\n",
    "\n",
    "for i in range(5):\n",
    "\n",
    "    inputs_map, inputs_spam, counts_list =  pickle.load(open(f\"../../data/threeQubits_PQC_5usDelay_belem_{i}.p\", \"rb\"))\n",
    "\n",
    "    targets_map = counts_to_probs(counts_list[:2000-6**n])\n",
    "    targets_spam = counts_to_probs(counts_list[2000-6**n:])\n",
    "\n",
    "    data = [inputs_spam, targets_spam, inputs_map, targets_map]\n",
    "\n",
    "    np.random.seed(42)\n",
    "    random.seed(42)\n",
    "    tf.random.set_seed(42)\n",
    "\n",
    "    model = regularized_fit(d, data, num_iter_spam=1000, num_iter_map = 2000, N = 500, start = 15)\n",
    "    model2_list.append(model)"
   ]
  },
  {
   "cell_type": "markdown",
   "metadata": {},
   "source": [
    "## 10 us Delay"
   ]
  },
  {
   "cell_type": "code",
   "execution_count": 186,
   "metadata": {},
   "outputs": [
    {
     "data": {
      "application/vnd.jupyter.widget-view+json": {
       "model_id": "0429bfa75c0348a28df4fc11f951bf26",
       "version_major": 2,
       "version_minor": 0
      },
      "text/plain": [
       "  0%|          | 0/300 [00:00<?, ?it/s]"
      ]
     },
     "metadata": {},
     "output_type": "display_data"
    },
    {
     "name": "stdout",
     "output_type": "stream",
     "text": [
      "3.806583148768781e-05\n"
     ]
    },
    {
     "data": {
      "application/vnd.jupyter.widget-view+json": {
       "model_id": "f739909a76db47e0819058c85c6fb352",
       "version_major": 2,
       "version_minor": 0
      },
      "text/plain": [
       "  0%|          | 0/1000 [00:00<?, ?it/s]"
      ]
     },
     "metadata": {},
     "output_type": "display_data"
    },
    {
     "name": "stdout",
     "output_type": "stream",
     "text": [
      "0.009911955845176169\n"
     ]
    },
    {
     "data": {
      "application/vnd.jupyter.widget-view+json": {
       "model_id": "dc046bebcd9b4c7f8a93fbb428c768d9",
       "version_major": 2,
       "version_minor": 0
      },
      "text/plain": [
       "  0%|          | 0/2000 [00:00<?, ?it/s]"
      ]
     },
     "metadata": {},
     "output_type": "display_data"
    },
    {
     "name": "stdout",
     "output_type": "stream",
     "text": [
      "0.007750089512595392 None\n"
     ]
    },
    {
     "data": {
      "application/vnd.jupyter.widget-view+json": {
       "model_id": "6dbcf996f93f42daaf059953aa6d9fc9",
       "version_major": 2,
       "version_minor": 0
      },
      "text/plain": [
       "  0%|          | 0/2000 [00:00<?, ?it/s]"
      ]
     },
     "metadata": {},
     "output_type": "display_data"
    },
    {
     "name": "stdout",
     "output_type": "stream",
     "text": [
      "0.008798709487843713 None\n"
     ]
    },
    {
     "data": {
      "application/vnd.jupyter.widget-view+json": {
       "model_id": "d8638a4d3f744604a5af4acad7e3ea70",
       "version_major": 2,
       "version_minor": 0
      },
      "text/plain": [
       "  0%|          | 0/2000 [00:00<?, ?it/s]"
      ]
     },
     "metadata": {},
     "output_type": "display_data"
    },
    {
     "name": "stdout",
     "output_type": "stream",
     "text": [
      "0.008604137037878665 None\n"
     ]
    },
    {
     "data": {
      "application/vnd.jupyter.widget-view+json": {
       "model_id": "bac449555dbc41ef97d8c6f8593afd53",
       "version_major": 2,
       "version_minor": 0
      },
      "text/plain": [
       "  0%|          | 0/2000 [00:00<?, ?it/s]"
      ]
     },
     "metadata": {},
     "output_type": "display_data"
    },
    {
     "name": "stdout",
     "output_type": "stream",
     "text": [
      "0.008424082738223895 None\n"
     ]
    },
    {
     "data": {
      "application/vnd.jupyter.widget-view+json": {
       "model_id": "3880a500e0c34a96933a53aea1b3ecca",
       "version_major": 2,
       "version_minor": 0
      },
      "text/plain": [
       "  0%|          | 0/2000 [00:00<?, ?it/s]"
      ]
     },
     "metadata": {},
     "output_type": "display_data"
    },
    {
     "name": "stdout",
     "output_type": "stream",
     "text": [
      "0.008332772732844763 None\n"
     ]
    },
    {
     "data": {
      "application/vnd.jupyter.widget-view+json": {
       "model_id": "24cfc561dc5f40138b24b7abf51819b4",
       "version_major": 2,
       "version_minor": 0
      },
      "text/plain": [
       "  0%|          | 0/2000 [00:00<?, ?it/s]"
      ]
     },
     "metadata": {},
     "output_type": "display_data"
    },
    {
     "name": "stdout",
     "output_type": "stream",
     "text": [
      "0.008229765651693649 None\n"
     ]
    },
    {
     "data": {
      "application/vnd.jupyter.widget-view+json": {
       "model_id": "66b254d9a40b46da9502497f665959ec",
       "version_major": 2,
       "version_minor": 0
      },
      "text/plain": [
       "  0%|          | 0/2000 [00:00<?, ?it/s]"
      ]
     },
     "metadata": {},
     "output_type": "display_data"
    },
    {
     "name": "stdout",
     "output_type": "stream",
     "text": [
      "0.008136024495473895 None\n"
     ]
    },
    {
     "data": {
      "application/vnd.jupyter.widget-view+json": {
       "model_id": "4b8c81fcd836402d907266e59b9e3f77",
       "version_major": 2,
       "version_minor": 0
      },
      "text/plain": [
       "  0%|          | 0/2000 [00:00<?, ?it/s]"
      ]
     },
     "metadata": {},
     "output_type": "display_data"
    },
    {
     "name": "stdout",
     "output_type": "stream",
     "text": [
      "0.00807336449416744 None\n"
     ]
    },
    {
     "data": {
      "application/vnd.jupyter.widget-view+json": {
       "model_id": "512de43b3380403a84a830c7b41e0ac3",
       "version_major": 2,
       "version_minor": 0
      },
      "text/plain": [
       "  0%|          | 0/2000 [00:00<?, ?it/s]"
      ]
     },
     "metadata": {},
     "output_type": "display_data"
    },
    {
     "name": "stdout",
     "output_type": "stream",
     "text": [
      "0.00798750528510152 None\n"
     ]
    },
    {
     "data": {
      "application/vnd.jupyter.widget-view+json": {
       "model_id": "cf8e9813a8334483a20b7b5bf9f5f778",
       "version_major": 2,
       "version_minor": 0
      },
      "text/plain": [
       "  0%|          | 0/2000 [00:00<?, ?it/s]"
      ]
     },
     "metadata": {},
     "output_type": "display_data"
    },
    {
     "name": "stdout",
     "output_type": "stream",
     "text": [
      "0.007963434820646877 None\n"
     ]
    },
    {
     "data": {
      "application/vnd.jupyter.widget-view+json": {
       "model_id": "13e3f4a1c928459583d4158214892201",
       "version_major": 2,
       "version_minor": 0
      },
      "text/plain": [
       "  0%|          | 0/2000 [00:00<?, ?it/s]"
      ]
     },
     "metadata": {},
     "output_type": "display_data"
    },
    {
     "name": "stdout",
     "output_type": "stream",
     "text": [
      "0.007954104885307274 None\n"
     ]
    },
    {
     "data": {
      "application/vnd.jupyter.widget-view+json": {
       "model_id": "14a2d8daf9b446b6831982e8480cdcb4",
       "version_major": 2,
       "version_minor": 0
      },
      "text/plain": [
       "  0%|          | 0/2000 [00:00<?, ?it/s]"
      ]
     },
     "metadata": {},
     "output_type": "display_data"
    },
    {
     "name": "stdout",
     "output_type": "stream",
     "text": [
      "0.007870753669840094 None\n"
     ]
    },
    {
     "data": {
      "application/vnd.jupyter.widget-view+json": {
       "model_id": "3843ea7d645c4c818c5cffc659f39389",
       "version_major": 2,
       "version_minor": 0
      },
      "text/plain": [
       "  0%|          | 0/2000 [00:00<?, ?it/s]"
      ]
     },
     "metadata": {},
     "output_type": "display_data"
    },
    {
     "name": "stdout",
     "output_type": "stream",
     "text": [
      "0.007880091509240903 None\n"
     ]
    },
    {
     "data": {
      "application/vnd.jupyter.widget-view+json": {
       "model_id": "d7c61373d8854891b995ec5bfca1f586",
       "version_major": 2,
       "version_minor": 0
      },
      "text/plain": [
       "  0%|          | 0/300 [00:00<?, ?it/s]"
      ]
     },
     "metadata": {},
     "output_type": "display_data"
    },
    {
     "name": "stdout",
     "output_type": "stream",
     "text": [
      "3.806583148768781e-05\n"
     ]
    },
    {
     "data": {
      "application/vnd.jupyter.widget-view+json": {
       "model_id": "27f82a7010e646caa5d58da7deaadfa0",
       "version_major": 2,
       "version_minor": 0
      },
      "text/plain": [
       "  0%|          | 0/1000 [00:00<?, ?it/s]"
      ]
     },
     "metadata": {},
     "output_type": "display_data"
    },
    {
     "name": "stdout",
     "output_type": "stream",
     "text": [
      "0.010180620808476362\n"
     ]
    },
    {
     "data": {
      "application/vnd.jupyter.widget-view+json": {
       "model_id": "7dde688557134c3e8e613b0318a0515f",
       "version_major": 2,
       "version_minor": 0
      },
      "text/plain": [
       "  0%|          | 0/2000 [00:00<?, ?it/s]"
      ]
     },
     "metadata": {},
     "output_type": "display_data"
    },
    {
     "name": "stdout",
     "output_type": "stream",
     "text": [
      "0.008347527941993917 None\n"
     ]
    },
    {
     "data": {
      "application/vnd.jupyter.widget-view+json": {
       "model_id": "3e5be23ce510495786a3e30d868f1868",
       "version_major": 2,
       "version_minor": 0
      },
      "text/plain": [
       "  0%|          | 0/2000 [00:00<?, ?it/s]"
      ]
     },
     "metadata": {},
     "output_type": "display_data"
    },
    {
     "name": "stdout",
     "output_type": "stream",
     "text": [
      "0.009401663486345892 None\n"
     ]
    },
    {
     "data": {
      "application/vnd.jupyter.widget-view+json": {
       "model_id": "f83cec91330444c19244e5617577a559",
       "version_major": 2,
       "version_minor": 0
      },
      "text/plain": [
       "  0%|          | 0/2000 [00:00<?, ?it/s]"
      ]
     },
     "metadata": {},
     "output_type": "display_data"
    },
    {
     "name": "stdout",
     "output_type": "stream",
     "text": [
      "0.009194362693856194 None\n"
     ]
    },
    {
     "data": {
      "application/vnd.jupyter.widget-view+json": {
       "model_id": "c9abeac22e20431885a5919390a85f43",
       "version_major": 2,
       "version_minor": 0
      },
      "text/plain": [
       "  0%|          | 0/2000 [00:00<?, ?it/s]"
      ]
     },
     "metadata": {},
     "output_type": "display_data"
    },
    {
     "name": "stdout",
     "output_type": "stream",
     "text": [
      "0.00909748701559405 None\n"
     ]
    },
    {
     "data": {
      "application/vnd.jupyter.widget-view+json": {
       "model_id": "4b505061a2e84896bc6e27754c67035a",
       "version_major": 2,
       "version_minor": 0
      },
      "text/plain": [
       "  0%|          | 0/2000 [00:00<?, ?it/s]"
      ]
     },
     "metadata": {},
     "output_type": "display_data"
    },
    {
     "name": "stdout",
     "output_type": "stream",
     "text": [
      "0.008937154938029813 None\n"
     ]
    },
    {
     "data": {
      "application/vnd.jupyter.widget-view+json": {
       "model_id": "b1dd94be049b42a69ce8c8b4ece39cac",
       "version_major": 2,
       "version_minor": 0
      },
      "text/plain": [
       "  0%|          | 0/2000 [00:00<?, ?it/s]"
      ]
     },
     "metadata": {},
     "output_type": "display_data"
    },
    {
     "name": "stdout",
     "output_type": "stream",
     "text": [
      "0.008782718391360333 None\n"
     ]
    },
    {
     "data": {
      "application/vnd.jupyter.widget-view+json": {
       "model_id": "0e239bece2b24ec698eb8239be943899",
       "version_major": 2,
       "version_minor": 0
      },
      "text/plain": [
       "  0%|          | 0/2000 [00:00<?, ?it/s]"
      ]
     },
     "metadata": {},
     "output_type": "display_data"
    },
    {
     "name": "stdout",
     "output_type": "stream",
     "text": [
      "0.008731397465333308 None\n"
     ]
    },
    {
     "data": {
      "application/vnd.jupyter.widget-view+json": {
       "model_id": "515395290c3c432f952a5c4d21a61b9c",
       "version_major": 2,
       "version_minor": 0
      },
      "text/plain": [
       "  0%|          | 0/2000 [00:00<?, ?it/s]"
      ]
     },
     "metadata": {},
     "output_type": "display_data"
    },
    {
     "name": "stdout",
     "output_type": "stream",
     "text": [
      "0.00867963896405925 None\n"
     ]
    },
    {
     "data": {
      "application/vnd.jupyter.widget-view+json": {
       "model_id": "2588eaca9f1c47b8ace00bae1ab33790",
       "version_major": 2,
       "version_minor": 0
      },
      "text/plain": [
       "  0%|          | 0/2000 [00:00<?, ?it/s]"
      ]
     },
     "metadata": {},
     "output_type": "display_data"
    },
    {
     "name": "stdout",
     "output_type": "stream",
     "text": [
      "0.008628561929274721 None\n"
     ]
    },
    {
     "data": {
      "application/vnd.jupyter.widget-view+json": {
       "model_id": "1ff8ca0002a64b43ae594e4f58544e98",
       "version_major": 2,
       "version_minor": 0
      },
      "text/plain": [
       "  0%|          | 0/2000 [00:00<?, ?it/s]"
      ]
     },
     "metadata": {},
     "output_type": "display_data"
    },
    {
     "name": "stdout",
     "output_type": "stream",
     "text": [
      "0.008560116202307073 None\n"
     ]
    },
    {
     "data": {
      "application/vnd.jupyter.widget-view+json": {
       "model_id": "a6ee5f04c1a24b8b84626ac635eea66a",
       "version_major": 2,
       "version_minor": 0
      },
      "text/plain": [
       "  0%|          | 0/2000 [00:00<?, ?it/s]"
      ]
     },
     "metadata": {},
     "output_type": "display_data"
    },
    {
     "name": "stdout",
     "output_type": "stream",
     "text": [
      "0.008549260159496573 None\n"
     ]
    },
    {
     "data": {
      "application/vnd.jupyter.widget-view+json": {
       "model_id": "0773cfcb6d5b4c70a014a31ad18ae2da",
       "version_major": 2,
       "version_minor": 0
      },
      "text/plain": [
       "  0%|          | 0/2000 [00:00<?, ?it/s]"
      ]
     },
     "metadata": {},
     "output_type": "display_data"
    },
    {
     "name": "stdout",
     "output_type": "stream",
     "text": [
      "0.008480392986131235 None\n"
     ]
    },
    {
     "data": {
      "application/vnd.jupyter.widget-view+json": {
       "model_id": "88681d32470a400298c36e22f828c71d",
       "version_major": 2,
       "version_minor": 0
      },
      "text/plain": [
       "  0%|          | 0/2000 [00:00<?, ?it/s]"
      ]
     },
     "metadata": {},
     "output_type": "display_data"
    },
    {
     "name": "stdout",
     "output_type": "stream",
     "text": [
      "0.008472998669212242 None\n"
     ]
    },
    {
     "data": {
      "application/vnd.jupyter.widget-view+json": {
       "model_id": "41621fede6b048a2b4e3a4322499ee36",
       "version_major": 2,
       "version_minor": 0
      },
      "text/plain": [
       "  0%|          | 0/2000 [00:00<?, ?it/s]"
      ]
     },
     "metadata": {},
     "output_type": "display_data"
    },
    {
     "name": "stdout",
     "output_type": "stream",
     "text": [
      "0.008434807113291368 None\n"
     ]
    },
    {
     "data": {
      "application/vnd.jupyter.widget-view+json": {
       "model_id": "c58d8d49c26e4b88a505c3cc134290a4",
       "version_major": 2,
       "version_minor": 0
      },
      "text/plain": [
       "  0%|          | 0/2000 [00:00<?, ?it/s]"
      ]
     },
     "metadata": {},
     "output_type": "display_data"
    },
    {
     "name": "stdout",
     "output_type": "stream",
     "text": [
      "0.00842931953912017 None\n"
     ]
    },
    {
     "data": {
      "application/vnd.jupyter.widget-view+json": {
       "model_id": "c0fa75f2fbaa45918d5ff3b746e7e902",
       "version_major": 2,
       "version_minor": 0
      },
      "text/plain": [
       "  0%|          | 0/2000 [00:00<?, ?it/s]"
      ]
     },
     "metadata": {},
     "output_type": "display_data"
    },
    {
     "name": "stdout",
     "output_type": "stream",
     "text": [
      "0.008413283895045524 None\n"
     ]
    },
    {
     "data": {
      "application/vnd.jupyter.widget-view+json": {
       "model_id": "81e283684adb466987b1efe0e4ad5269",
       "version_major": 2,
       "version_minor": 0
      },
      "text/plain": [
       "  0%|          | 0/2000 [00:00<?, ?it/s]"
      ]
     },
     "metadata": {},
     "output_type": "display_data"
    },
    {
     "name": "stdout",
     "output_type": "stream",
     "text": [
      "0.00838753563362809 None\n"
     ]
    },
    {
     "data": {
      "application/vnd.jupyter.widget-view+json": {
       "model_id": "42283493a41d43c6ba97220b8f400267",
       "version_major": 2,
       "version_minor": 0
      },
      "text/plain": [
       "  0%|          | 0/2000 [00:00<?, ?it/s]"
      ]
     },
     "metadata": {},
     "output_type": "display_data"
    },
    {
     "name": "stdout",
     "output_type": "stream",
     "text": [
      "0.008387730978871417 None\n"
     ]
    },
    {
     "data": {
      "application/vnd.jupyter.widget-view+json": {
       "model_id": "d2c3501f3e0644f8b100a949215e1469",
       "version_major": 2,
       "version_minor": 0
      },
      "text/plain": [
       "  0%|          | 0/300 [00:00<?, ?it/s]"
      ]
     },
     "metadata": {},
     "output_type": "display_data"
    },
    {
     "name": "stdout",
     "output_type": "stream",
     "text": [
      "3.806583148768781e-05\n"
     ]
    },
    {
     "data": {
      "application/vnd.jupyter.widget-view+json": {
       "model_id": "0b37190ffee24f94886201e72d6c1d9f",
       "version_major": 2,
       "version_minor": 0
      },
      "text/plain": [
       "  0%|          | 0/1000 [00:00<?, ?it/s]"
      ]
     },
     "metadata": {},
     "output_type": "display_data"
    },
    {
     "name": "stdout",
     "output_type": "stream",
     "text": [
      "0.009231679792540333\n"
     ]
    },
    {
     "data": {
      "application/vnd.jupyter.widget-view+json": {
       "model_id": "ffba3add16324c2bb79cfdcfac9756b2",
       "version_major": 2,
       "version_minor": 0
      },
      "text/plain": [
       "  0%|          | 0/2000 [00:00<?, ?it/s]"
      ]
     },
     "metadata": {},
     "output_type": "display_data"
    },
    {
     "name": "stdout",
     "output_type": "stream",
     "text": [
      "0.010587690151822425 None\n"
     ]
    },
    {
     "data": {
      "application/vnd.jupyter.widget-view+json": {
       "model_id": "1772b6141c2d42909986bedb4263a092",
       "version_major": 2,
       "version_minor": 0
      },
      "text/plain": [
       "  0%|          | 0/2000 [00:00<?, ?it/s]"
      ]
     },
     "metadata": {},
     "output_type": "display_data"
    },
    {
     "name": "stdout",
     "output_type": "stream",
     "text": [
      "0.011811107558969027 None\n"
     ]
    },
    {
     "data": {
      "application/vnd.jupyter.widget-view+json": {
       "model_id": "476f24f9a1f642eba36a1910a4043680",
       "version_major": 2,
       "version_minor": 0
      },
      "text/plain": [
       "  0%|          | 0/2000 [00:00<?, ?it/s]"
      ]
     },
     "metadata": {},
     "output_type": "display_data"
    },
    {
     "name": "stdout",
     "output_type": "stream",
     "text": [
      "0.011512142802675608 None\n"
     ]
    },
    {
     "data": {
      "application/vnd.jupyter.widget-view+json": {
       "model_id": "ef3c4267837946d4b0a8938b480f40ae",
       "version_major": 2,
       "version_minor": 0
      },
      "text/plain": [
       "  0%|          | 0/2000 [00:00<?, ?it/s]"
      ]
     },
     "metadata": {},
     "output_type": "display_data"
    },
    {
     "name": "stdout",
     "output_type": "stream",
     "text": [
      "0.011380327823526404 None\n"
     ]
    },
    {
     "data": {
      "application/vnd.jupyter.widget-view+json": {
       "model_id": "7d8483c68c184d0887e12221a9bcefc4",
       "version_major": 2,
       "version_minor": 0
      },
      "text/plain": [
       "  0%|          | 0/2000 [00:00<?, ?it/s]"
      ]
     },
     "metadata": {},
     "output_type": "display_data"
    },
    {
     "name": "stdout",
     "output_type": "stream",
     "text": [
      "0.011206136045579547 None\n"
     ]
    },
    {
     "data": {
      "application/vnd.jupyter.widget-view+json": {
       "model_id": "a6ed96b1eddc4356bdd580f339b3656d",
       "version_major": 2,
       "version_minor": 0
      },
      "text/plain": [
       "  0%|          | 0/2000 [00:00<?, ?it/s]"
      ]
     },
     "metadata": {},
     "output_type": "display_data"
    },
    {
     "name": "stdout",
     "output_type": "stream",
     "text": [
      "0.011112081007763196 None\n"
     ]
    },
    {
     "data": {
      "application/vnd.jupyter.widget-view+json": {
       "model_id": "fc932dd48ad843c589e4e3aac97cd078",
       "version_major": 2,
       "version_minor": 0
      },
      "text/plain": [
       "  0%|          | 0/2000 [00:00<?, ?it/s]"
      ]
     },
     "metadata": {},
     "output_type": "display_data"
    },
    {
     "name": "stdout",
     "output_type": "stream",
     "text": [
      "0.011045828255698834 None\n"
     ]
    },
    {
     "data": {
      "application/vnd.jupyter.widget-view+json": {
       "model_id": "3d1dee671d7a4604a19af7f403f99ceb",
       "version_major": 2,
       "version_minor": 0
      },
      "text/plain": [
       "  0%|          | 0/2000 [00:00<?, ?it/s]"
      ]
     },
     "metadata": {},
     "output_type": "display_data"
    },
    {
     "name": "stdout",
     "output_type": "stream",
     "text": [
      "0.010956330232878175 None\n"
     ]
    },
    {
     "data": {
      "application/vnd.jupyter.widget-view+json": {
       "model_id": "139a20a59e984941b80085e46a44a2f8",
       "version_major": 2,
       "version_minor": 0
      },
      "text/plain": [
       "  0%|          | 0/2000 [00:00<?, ?it/s]"
      ]
     },
     "metadata": {},
     "output_type": "display_data"
    },
    {
     "name": "stdout",
     "output_type": "stream",
     "text": [
      "0.010869714307239802 None\n"
     ]
    },
    {
     "data": {
      "application/vnd.jupyter.widget-view+json": {
       "model_id": "6dc86828ad5a47ce833dc4833c57b208",
       "version_major": 2,
       "version_minor": 0
      },
      "text/plain": [
       "  0%|          | 0/2000 [00:00<?, ?it/s]"
      ]
     },
     "metadata": {},
     "output_type": "display_data"
    },
    {
     "name": "stdout",
     "output_type": "stream",
     "text": [
      "0.010843987955145505 None\n"
     ]
    },
    {
     "data": {
      "application/vnd.jupyter.widget-view+json": {
       "model_id": "e5c90736ecc94542a1ea91b49ed8190d",
       "version_major": 2,
       "version_minor": 0
      },
      "text/plain": [
       "  0%|          | 0/2000 [00:00<?, ?it/s]"
      ]
     },
     "metadata": {},
     "output_type": "display_data"
    },
    {
     "name": "stdout",
     "output_type": "stream",
     "text": [
      "0.010796820782476778 None\n"
     ]
    },
    {
     "data": {
      "application/vnd.jupyter.widget-view+json": {
       "model_id": "949d2f5360bd47299176fa645cecf99d",
       "version_major": 2,
       "version_minor": 0
      },
      "text/plain": [
       "  0%|          | 0/2000 [00:00<?, ?it/s]"
      ]
     },
     "metadata": {},
     "output_type": "display_data"
    },
    {
     "name": "stdout",
     "output_type": "stream",
     "text": [
      "0.010726360027511681 None\n"
     ]
    },
    {
     "data": {
      "application/vnd.jupyter.widget-view+json": {
       "model_id": "c072d1e0aa7e4c0584e8559d346942b5",
       "version_major": 2,
       "version_minor": 0
      },
      "text/plain": [
       "  0%|          | 0/2000 [00:00<?, ?it/s]"
      ]
     },
     "metadata": {},
     "output_type": "display_data"
    },
    {
     "name": "stdout",
     "output_type": "stream",
     "text": [
      "0.01071930553160019 None\n"
     ]
    },
    {
     "data": {
      "application/vnd.jupyter.widget-view+json": {
       "model_id": "c844f4a98a94412689195355e62482a4",
       "version_major": 2,
       "version_minor": 0
      },
      "text/plain": [
       "  0%|          | 0/2000 [00:00<?, ?it/s]"
      ]
     },
     "metadata": {},
     "output_type": "display_data"
    },
    {
     "name": "stdout",
     "output_type": "stream",
     "text": [
      "0.010687887604746923 None\n"
     ]
    },
    {
     "data": {
      "application/vnd.jupyter.widget-view+json": {
       "model_id": "a8ce7f38a49346f4913ed0065bbd6a6f",
       "version_major": 2,
       "version_minor": 0
      },
      "text/plain": [
       "  0%|          | 0/2000 [00:00<?, ?it/s]"
      ]
     },
     "metadata": {},
     "output_type": "display_data"
    },
    {
     "name": "stdout",
     "output_type": "stream",
     "text": [
      "0.010664994266013195 None\n"
     ]
    },
    {
     "data": {
      "application/vnd.jupyter.widget-view+json": {
       "model_id": "101454406d114f79ba4f3a40de43e03a",
       "version_major": 2,
       "version_minor": 0
      },
      "text/plain": [
       "  0%|          | 0/2000 [00:00<?, ?it/s]"
      ]
     },
     "metadata": {},
     "output_type": "display_data"
    },
    {
     "name": "stdout",
     "output_type": "stream",
     "text": [
      "0.010658061641960785 None\n"
     ]
    },
    {
     "data": {
      "application/vnd.jupyter.widget-view+json": {
       "model_id": "dff6c01e9bef4557806c85c44e99f2e1",
       "version_major": 2,
       "version_minor": 0
      },
      "text/plain": [
       "  0%|          | 0/2000 [00:00<?, ?it/s]"
      ]
     },
     "metadata": {},
     "output_type": "display_data"
    },
    {
     "name": "stdout",
     "output_type": "stream",
     "text": [
      "0.010635363716100426 None\n"
     ]
    },
    {
     "data": {
      "application/vnd.jupyter.widget-view+json": {
       "model_id": "ddeebc6eff954774aff472469de98398",
       "version_major": 2,
       "version_minor": 0
      },
      "text/plain": [
       "  0%|          | 0/2000 [00:00<?, ?it/s]"
      ]
     },
     "metadata": {},
     "output_type": "display_data"
    },
    {
     "name": "stdout",
     "output_type": "stream",
     "text": [
      "0.010630407353662509 None\n"
     ]
    },
    {
     "data": {
      "application/vnd.jupyter.widget-view+json": {
       "model_id": "19bbaee099f648d7bf5fa6aad8e1be7e",
       "version_major": 2,
       "version_minor": 0
      },
      "text/plain": [
       "  0%|          | 0/2000 [00:00<?, ?it/s]"
      ]
     },
     "metadata": {},
     "output_type": "display_data"
    },
    {
     "name": "stdout",
     "output_type": "stream",
     "text": [
      "0.010638737824547896 None\n"
     ]
    },
    {
     "data": {
      "application/vnd.jupyter.widget-view+json": {
       "model_id": "7e8a2f9570df4810a7994161d45a9dda",
       "version_major": 2,
       "version_minor": 0
      },
      "text/plain": [
       "  0%|          | 0/300 [00:00<?, ?it/s]"
      ]
     },
     "metadata": {},
     "output_type": "display_data"
    },
    {
     "name": "stdout",
     "output_type": "stream",
     "text": [
      "3.806583148768781e-05\n"
     ]
    },
    {
     "data": {
      "application/vnd.jupyter.widget-view+json": {
       "model_id": "81684206e99b403aaf5215c5fdedff2c",
       "version_major": 2,
       "version_minor": 0
      },
      "text/plain": [
       "  0%|          | 0/1000 [00:00<?, ?it/s]"
      ]
     },
     "metadata": {},
     "output_type": "display_data"
    },
    {
     "name": "stdout",
     "output_type": "stream",
     "text": [
      "0.008893707973330382\n"
     ]
    },
    {
     "data": {
      "application/vnd.jupyter.widget-view+json": {
       "model_id": "7d3b372f49e9469789a52f2274140612",
       "version_major": 2,
       "version_minor": 0
      },
      "text/plain": [
       "  0%|          | 0/2000 [00:00<?, ?it/s]"
      ]
     },
     "metadata": {},
     "output_type": "display_data"
    },
    {
     "name": "stdout",
     "output_type": "stream",
     "text": [
      "0.008767067882523839 None\n"
     ]
    },
    {
     "data": {
      "application/vnd.jupyter.widget-view+json": {
       "model_id": "67c6f1222ed74b90836d0d6b4d148e98",
       "version_major": 2,
       "version_minor": 0
      },
      "text/plain": [
       "  0%|          | 0/2000 [00:00<?, ?it/s]"
      ]
     },
     "metadata": {},
     "output_type": "display_data"
    },
    {
     "name": "stdout",
     "output_type": "stream",
     "text": [
      "0.010157685412212987 None\n"
     ]
    },
    {
     "data": {
      "application/vnd.jupyter.widget-view+json": {
       "model_id": "3f9111301bbc4217900b03e911eb3d3d",
       "version_major": 2,
       "version_minor": 0
      },
      "text/plain": [
       "  0%|          | 0/2000 [00:00<?, ?it/s]"
      ]
     },
     "metadata": {},
     "output_type": "display_data"
    },
    {
     "name": "stdout",
     "output_type": "stream",
     "text": [
      "0.009945585666543171 None\n"
     ]
    },
    {
     "data": {
      "application/vnd.jupyter.widget-view+json": {
       "model_id": "e09cac46d34a4d2b9ba17006652a03f7",
       "version_major": 2,
       "version_minor": 0
      },
      "text/plain": [
       "  0%|          | 0/2000 [00:00<?, ?it/s]"
      ]
     },
     "metadata": {},
     "output_type": "display_data"
    },
    {
     "name": "stdout",
     "output_type": "stream",
     "text": [
      "0.009778464868535603 None\n"
     ]
    },
    {
     "data": {
      "application/vnd.jupyter.widget-view+json": {
       "model_id": "306e6850e3bc49bb9f011438187f5aaf",
       "version_major": 2,
       "version_minor": 0
      },
      "text/plain": [
       "  0%|          | 0/2000 [00:00<?, ?it/s]"
      ]
     },
     "metadata": {},
     "output_type": "display_data"
    },
    {
     "name": "stdout",
     "output_type": "stream",
     "text": [
      "0.009525322340879296 None\n"
     ]
    },
    {
     "data": {
      "application/vnd.jupyter.widget-view+json": {
       "model_id": "8a75ee465fc34118aa2cb74b3e055dcb",
       "version_major": 2,
       "version_minor": 0
      },
      "text/plain": [
       "  0%|          | 0/2000 [00:00<?, ?it/s]"
      ]
     },
     "metadata": {},
     "output_type": "display_data"
    },
    {
     "name": "stdout",
     "output_type": "stream",
     "text": [
      "0.00936102317743776 None\n"
     ]
    },
    {
     "data": {
      "application/vnd.jupyter.widget-view+json": {
       "model_id": "0cb5d0e41ef8485fb76326de000f6e5f",
       "version_major": 2,
       "version_minor": 0
      },
      "text/plain": [
       "  0%|          | 0/2000 [00:00<?, ?it/s]"
      ]
     },
     "metadata": {},
     "output_type": "display_data"
    },
    {
     "name": "stdout",
     "output_type": "stream",
     "text": [
      "0.00930568667321236 None\n"
     ]
    },
    {
     "data": {
      "application/vnd.jupyter.widget-view+json": {
       "model_id": "f19c3dbde44c42a0a7a22c94a07554a1",
       "version_major": 2,
       "version_minor": 0
      },
      "text/plain": [
       "  0%|          | 0/2000 [00:00<?, ?it/s]"
      ]
     },
     "metadata": {},
     "output_type": "display_data"
    },
    {
     "name": "stdout",
     "output_type": "stream",
     "text": [
      "0.009192835147635135 None\n"
     ]
    },
    {
     "data": {
      "application/vnd.jupyter.widget-view+json": {
       "model_id": "bf61d08ae59648708e8034bd3a2b6c3f",
       "version_major": 2,
       "version_minor": 0
      },
      "text/plain": [
       "  0%|          | 0/2000 [00:00<?, ?it/s]"
      ]
     },
     "metadata": {},
     "output_type": "display_data"
    },
    {
     "name": "stdout",
     "output_type": "stream",
     "text": [
      "0.009113282786704119 None\n"
     ]
    },
    {
     "data": {
      "application/vnd.jupyter.widget-view+json": {
       "model_id": "10ae64601fcd4ed3b6d6ffb81baf073b",
       "version_major": 2,
       "version_minor": 0
      },
      "text/plain": [
       "  0%|          | 0/2000 [00:00<?, ?it/s]"
      ]
     },
     "metadata": {},
     "output_type": "display_data"
    },
    {
     "name": "stdout",
     "output_type": "stream",
     "text": [
      "0.009036452730990602 None\n"
     ]
    },
    {
     "data": {
      "application/vnd.jupyter.widget-view+json": {
       "model_id": "286fc3979b4e422e846d29022df27569",
       "version_major": 2,
       "version_minor": 0
      },
      "text/plain": [
       "  0%|          | 0/2000 [00:00<?, ?it/s]"
      ]
     },
     "metadata": {},
     "output_type": "display_data"
    },
    {
     "name": "stdout",
     "output_type": "stream",
     "text": [
      "0.009026260162657953 None\n"
     ]
    },
    {
     "data": {
      "application/vnd.jupyter.widget-view+json": {
       "model_id": "bd694cbaa9ca411eb9cb28c52c0a8c4e",
       "version_major": 2,
       "version_minor": 0
      },
      "text/plain": [
       "  0%|          | 0/300 [00:00<?, ?it/s]"
      ]
     },
     "metadata": {},
     "output_type": "display_data"
    },
    {
     "name": "stdout",
     "output_type": "stream",
     "text": [
      "3.806583148768781e-05\n"
     ]
    },
    {
     "data": {
      "application/vnd.jupyter.widget-view+json": {
       "model_id": "5c92d74258cd4ff4af57384687c45466",
       "version_major": 2,
       "version_minor": 0
      },
      "text/plain": [
       "  0%|          | 0/1000 [00:00<?, ?it/s]"
      ]
     },
     "metadata": {},
     "output_type": "display_data"
    },
    {
     "name": "stdout",
     "output_type": "stream",
     "text": [
      "0.008840330467105709\n"
     ]
    },
    {
     "data": {
      "application/vnd.jupyter.widget-view+json": {
       "model_id": "dda3ce6ae94c40829ed9dd3b59bd2e34",
       "version_major": 2,
       "version_minor": 0
      },
      "text/plain": [
       "  0%|          | 0/2000 [00:00<?, ?it/s]"
      ]
     },
     "metadata": {},
     "output_type": "display_data"
    },
    {
     "name": "stdout",
     "output_type": "stream",
     "text": [
      "0.011114448627991415 None\n"
     ]
    },
    {
     "data": {
      "application/vnd.jupyter.widget-view+json": {
       "model_id": "3447a632665240468456c4ee47f5471f",
       "version_major": 2,
       "version_minor": 0
      },
      "text/plain": [
       "  0%|          | 0/2000 [00:00<?, ?it/s]"
      ]
     },
     "metadata": {},
     "output_type": "display_data"
    },
    {
     "name": "stdout",
     "output_type": "stream",
     "text": [
      "0.0127020706824638 None\n"
     ]
    },
    {
     "data": {
      "application/vnd.jupyter.widget-view+json": {
       "model_id": "23028a929f30404595fbe0c6399a9976",
       "version_major": 2,
       "version_minor": 0
      },
      "text/plain": [
       "  0%|          | 0/2000 [00:00<?, ?it/s]"
      ]
     },
     "metadata": {},
     "output_type": "display_data"
    },
    {
     "name": "stdout",
     "output_type": "stream",
     "text": [
      "0.012395553044578475 None\n"
     ]
    },
    {
     "data": {
      "application/vnd.jupyter.widget-view+json": {
       "model_id": "e9ab944472814358b5599ea89faf2992",
       "version_major": 2,
       "version_minor": 0
      },
      "text/plain": [
       "  0%|          | 0/2000 [00:00<?, ?it/s]"
      ]
     },
     "metadata": {},
     "output_type": "display_data"
    },
    {
     "name": "stdout",
     "output_type": "stream",
     "text": [
      "0.012166733584200744 None\n"
     ]
    },
    {
     "data": {
      "application/vnd.jupyter.widget-view+json": {
       "model_id": "33d96232fbd04f8e8c1148d19fd9ad55",
       "version_major": 2,
       "version_minor": 0
      },
      "text/plain": [
       "  0%|          | 0/2000 [00:00<?, ?it/s]"
      ]
     },
     "metadata": {},
     "output_type": "display_data"
    },
    {
     "name": "stdout",
     "output_type": "stream",
     "text": [
      "0.011947224752047904 None\n"
     ]
    },
    {
     "data": {
      "application/vnd.jupyter.widget-view+json": {
       "model_id": "7e8f1907f93f483b97218d9c338adc5d",
       "version_major": 2,
       "version_minor": 0
      },
      "text/plain": [
       "  0%|          | 0/2000 [00:00<?, ?it/s]"
      ]
     },
     "metadata": {},
     "output_type": "display_data"
    },
    {
     "name": "stdout",
     "output_type": "stream",
     "text": [
      "0.011767767805724045 None\n"
     ]
    },
    {
     "data": {
      "application/vnd.jupyter.widget-view+json": {
       "model_id": "e3a7d5cdcb0048cdbb125130328fc5fe",
       "version_major": 2,
       "version_minor": 0
      },
      "text/plain": [
       "  0%|          | 0/2000 [00:00<?, ?it/s]"
      ]
     },
     "metadata": {},
     "output_type": "display_data"
    },
    {
     "name": "stdout",
     "output_type": "stream",
     "text": [
      "0.011686744917088621 None\n"
     ]
    },
    {
     "data": {
      "application/vnd.jupyter.widget-view+json": {
       "model_id": "50153cf34a6f497fb5507cc3ba67893b",
       "version_major": 2,
       "version_minor": 0
      },
      "text/plain": [
       "  0%|          | 0/2000 [00:00<?, ?it/s]"
      ]
     },
     "metadata": {},
     "output_type": "display_data"
    },
    {
     "name": "stdout",
     "output_type": "stream",
     "text": [
      "0.01164363765778298 None\n"
     ]
    },
    {
     "data": {
      "application/vnd.jupyter.widget-view+json": {
       "model_id": "d1f922344d514c838f7a4af6c8a0032a",
       "version_major": 2,
       "version_minor": 0
      },
      "text/plain": [
       "  0%|          | 0/2000 [00:00<?, ?it/s]"
      ]
     },
     "metadata": {},
     "output_type": "display_data"
    },
    {
     "name": "stdout",
     "output_type": "stream",
     "text": [
      "0.011445169461937368 None\n"
     ]
    },
    {
     "data": {
      "application/vnd.jupyter.widget-view+json": {
       "model_id": "c7bb15bdcb47489483b02a55a05da1fd",
       "version_major": 2,
       "version_minor": 0
      },
      "text/plain": [
       "  0%|          | 0/2000 [00:00<?, ?it/s]"
      ]
     },
     "metadata": {},
     "output_type": "display_data"
    },
    {
     "name": "stdout",
     "output_type": "stream",
     "text": [
      "0.01142087468996456 None\n"
     ]
    },
    {
     "data": {
      "application/vnd.jupyter.widget-view+json": {
       "model_id": "be3ab7d397184840b24a509106f07fee",
       "version_major": 2,
       "version_minor": 0
      },
      "text/plain": [
       "  0%|          | 0/2000 [00:00<?, ?it/s]"
      ]
     },
     "metadata": {},
     "output_type": "display_data"
    },
    {
     "name": "stdout",
     "output_type": "stream",
     "text": [
      "0.011360103366171085 None\n"
     ]
    },
    {
     "data": {
      "application/vnd.jupyter.widget-view+json": {
       "model_id": "4cb548d4c2f94e4b8ac8d9562627daa2",
       "version_major": 2,
       "version_minor": 0
      },
      "text/plain": [
       "  0%|          | 0/2000 [00:00<?, ?it/s]"
      ]
     },
     "metadata": {},
     "output_type": "display_data"
    },
    {
     "name": "stdout",
     "output_type": "stream",
     "text": [
      "0.01132627750518941 None\n"
     ]
    },
    {
     "data": {
      "application/vnd.jupyter.widget-view+json": {
       "model_id": "dff599a54c2e490f9e7c7c4b801f3b9d",
       "version_major": 2,
       "version_minor": 0
      },
      "text/plain": [
       "  0%|          | 0/2000 [00:00<?, ?it/s]"
      ]
     },
     "metadata": {},
     "output_type": "display_data"
    },
    {
     "name": "stdout",
     "output_type": "stream",
     "text": [
      "0.01125360356228135 None\n"
     ]
    },
    {
     "data": {
      "application/vnd.jupyter.widget-view+json": {
       "model_id": "516ce18d01dd48e2a97782fd8ad0b4a0",
       "version_major": 2,
       "version_minor": 0
      },
      "text/plain": [
       "  0%|          | 0/2000 [00:00<?, ?it/s]"
      ]
     },
     "metadata": {},
     "output_type": "display_data"
    },
    {
     "name": "stdout",
     "output_type": "stream",
     "text": [
      "0.011243454676548382 None\n"
     ]
    },
    {
     "data": {
      "application/vnd.jupyter.widget-view+json": {
       "model_id": "530d61cc1e57470ba940d2571a20fafa",
       "version_major": 2,
       "version_minor": 0
      },
      "text/plain": [
       "  0%|          | 0/2000 [00:00<?, ?it/s]"
      ]
     },
     "metadata": {},
     "output_type": "display_data"
    },
    {
     "name": "stdout",
     "output_type": "stream",
     "text": [
      "0.01123256802208726 None\n"
     ]
    },
    {
     "data": {
      "application/vnd.jupyter.widget-view+json": {
       "model_id": "4c8b19734d66449587353d8d988761d0",
       "version_major": 2,
       "version_minor": 0
      },
      "text/plain": [
       "  0%|          | 0/2000 [00:00<?, ?it/s]"
      ]
     },
     "metadata": {},
     "output_type": "display_data"
    },
    {
     "name": "stdout",
     "output_type": "stream",
     "text": [
      "0.011191833280317634 None\n"
     ]
    },
    {
     "data": {
      "application/vnd.jupyter.widget-view+json": {
       "model_id": "cb9837010b9c4cea8b6e52f1cd319eac",
       "version_major": 2,
       "version_minor": 0
      },
      "text/plain": [
       "  0%|          | 0/2000 [00:00<?, ?it/s]"
      ]
     },
     "metadata": {},
     "output_type": "display_data"
    },
    {
     "name": "stdout",
     "output_type": "stream",
     "text": [
      "0.011187516214637127 None\n"
     ]
    },
    {
     "data": {
      "application/vnd.jupyter.widget-view+json": {
       "model_id": "c1fd8cc47b094e98ae9ea2db6539e442",
       "version_major": 2,
       "version_minor": 0
      },
      "text/plain": [
       "  0%|          | 0/2000 [00:00<?, ?it/s]"
      ]
     },
     "metadata": {},
     "output_type": "display_data"
    },
    {
     "name": "stdout",
     "output_type": "stream",
     "text": [
      "0.011171078381014573 None\n"
     ]
    },
    {
     "data": {
      "application/vnd.jupyter.widget-view+json": {
       "model_id": "fddac221fc1f4db0b1c9e08865d3a12f",
       "version_major": 2,
       "version_minor": 0
      },
      "text/plain": [
       "  0%|          | 0/2000 [00:00<?, ?it/s]"
      ]
     },
     "metadata": {},
     "output_type": "display_data"
    },
    {
     "name": "stdout",
     "output_type": "stream",
     "text": [
      "0.011180677332102476 None\n"
     ]
    }
   ],
   "source": [
    "n = 3\n",
    "d = 2**n\n",
    "\n",
    "model3_list = []\n",
    "\n",
    "for i in range(5):\n",
    "\n",
    "    inputs_map, inputs_spam, counts_list =  pickle.load(open(f\"../../data/threeQubits_PQC_10usDelay_belem_{i}.p\", \"rb\"))\n",
    "\n",
    "    targets_map = counts_to_probs(counts_list[:2000-6**n])\n",
    "    targets_spam = counts_to_probs(counts_list[2000-6**n:])\n",
    "\n",
    "    data = [inputs_spam, targets_spam, inputs_map, targets_map]\n",
    "\n",
    "    np.random.seed(42)\n",
    "    random.seed(42)\n",
    "    tf.random.set_seed(42)\n",
    "\n",
    "    model = regularized_fit(d, data, num_iter_spam=1000, num_iter_map = 2000, N = 500, start = 15)\n",
    "    model3_list.append(model)"
   ]
  },
  {
   "cell_type": "markdown",
   "metadata": {},
   "source": [
    "# 15 us Delay"
   ]
  },
  {
   "cell_type": "code",
   "execution_count": 187,
   "metadata": {},
   "outputs": [
    {
     "data": {
      "application/vnd.jupyter.widget-view+json": {
       "model_id": "bae3334281b34297b80e1c648ad7072c",
       "version_major": 2,
       "version_minor": 0
      },
      "text/plain": [
       "  0%|          | 0/300 [00:00<?, ?it/s]"
      ]
     },
     "metadata": {},
     "output_type": "display_data"
    },
    {
     "name": "stdout",
     "output_type": "stream",
     "text": [
      "3.806583148768781e-05\n"
     ]
    },
    {
     "data": {
      "application/vnd.jupyter.widget-view+json": {
       "model_id": "d6134266b71b4cf58989d41ee94a14d2",
       "version_major": 2,
       "version_minor": 0
      },
      "text/plain": [
       "  0%|          | 0/1000 [00:00<?, ?it/s]"
      ]
     },
     "metadata": {},
     "output_type": "display_data"
    },
    {
     "name": "stdout",
     "output_type": "stream",
     "text": [
      "0.00916896295756937\n"
     ]
    },
    {
     "data": {
      "application/vnd.jupyter.widget-view+json": {
       "model_id": "1a7a1b83db994c0a9647e283ebbb67b6",
       "version_major": 2,
       "version_minor": 0
      },
      "text/plain": [
       "  0%|          | 0/2000 [00:00<?, ?it/s]"
      ]
     },
     "metadata": {},
     "output_type": "display_data"
    },
    {
     "name": "stdout",
     "output_type": "stream",
     "text": [
      "0.013754412623921838 None\n"
     ]
    },
    {
     "data": {
      "application/vnd.jupyter.widget-view+json": {
       "model_id": "06ca13705b3c4cd8a73f7cbc8e30e216",
       "version_major": 2,
       "version_minor": 0
      },
      "text/plain": [
       "  0%|          | 0/2000 [00:00<?, ?it/s]"
      ]
     },
     "metadata": {},
     "output_type": "display_data"
    },
    {
     "name": "stdout",
     "output_type": "stream",
     "text": [
      "0.01590792570578167 None\n"
     ]
    },
    {
     "data": {
      "application/vnd.jupyter.widget-view+json": {
       "model_id": "e9f3406eed334e2eadb094bd4720e998",
       "version_major": 2,
       "version_minor": 0
      },
      "text/plain": [
       "  0%|          | 0/2000 [00:00<?, ?it/s]"
      ]
     },
     "metadata": {},
     "output_type": "display_data"
    },
    {
     "name": "stdout",
     "output_type": "stream",
     "text": [
      "0.015404956101495617 None\n"
     ]
    },
    {
     "data": {
      "application/vnd.jupyter.widget-view+json": {
       "model_id": "a76bbb0af436411cbe0f1fe317d8ab56",
       "version_major": 2,
       "version_minor": 0
      },
      "text/plain": [
       "  0%|          | 0/2000 [00:00<?, ?it/s]"
      ]
     },
     "metadata": {},
     "output_type": "display_data"
    },
    {
     "name": "stdout",
     "output_type": "stream",
     "text": [
      "0.01532998268088529 None\n"
     ]
    },
    {
     "data": {
      "application/vnd.jupyter.widget-view+json": {
       "model_id": "46c55346138c46199b96135bc7b3ef4b",
       "version_major": 2,
       "version_minor": 0
      },
      "text/plain": [
       "  0%|          | 0/300 [00:00<?, ?it/s]"
      ]
     },
     "metadata": {},
     "output_type": "display_data"
    },
    {
     "name": "stdout",
     "output_type": "stream",
     "text": [
      "3.806583148768781e-05\n"
     ]
    },
    {
     "data": {
      "application/vnd.jupyter.widget-view+json": {
       "model_id": "d92a30b4c51d42ceb2ed14d23499d655",
       "version_major": 2,
       "version_minor": 0
      },
      "text/plain": [
       "  0%|          | 0/1000 [00:00<?, ?it/s]"
      ]
     },
     "metadata": {},
     "output_type": "display_data"
    },
    {
     "name": "stdout",
     "output_type": "stream",
     "text": [
      "0.009296657313692431\n"
     ]
    },
    {
     "data": {
      "application/vnd.jupyter.widget-view+json": {
       "model_id": "07aaf05ae51a4dd1bd1eb576d0f5bc7a",
       "version_major": 2,
       "version_minor": 0
      },
      "text/plain": [
       "  0%|          | 0/2000 [00:00<?, ?it/s]"
      ]
     },
     "metadata": {},
     "output_type": "display_data"
    },
    {
     "name": "stdout",
     "output_type": "stream",
     "text": [
      "0.014366467066765053 None\n"
     ]
    },
    {
     "data": {
      "application/vnd.jupyter.widget-view+json": {
       "model_id": "de192ca7f2f9472b8b47ab59df82b6eb",
       "version_major": 2,
       "version_minor": 0
      },
      "text/plain": [
       "  0%|          | 0/2000 [00:00<?, ?it/s]"
      ]
     },
     "metadata": {},
     "output_type": "display_data"
    },
    {
     "name": "stdout",
     "output_type": "stream",
     "text": [
      "0.016410093117880328 None\n"
     ]
    },
    {
     "data": {
      "application/vnd.jupyter.widget-view+json": {
       "model_id": "792faa47f95142059892a4e0b49f7f95",
       "version_major": 2,
       "version_minor": 0
      },
      "text/plain": [
       "  0%|          | 0/2000 [00:00<?, ?it/s]"
      ]
     },
     "metadata": {},
     "output_type": "display_data"
    },
    {
     "name": "stdout",
     "output_type": "stream",
     "text": [
      "0.015968907721537123 None\n"
     ]
    },
    {
     "data": {
      "application/vnd.jupyter.widget-view+json": {
       "model_id": "5d24c834b6704ad5bdf00618a780254d",
       "version_major": 2,
       "version_minor": 0
      },
      "text/plain": [
       "  0%|          | 0/2000 [00:00<?, ?it/s]"
      ]
     },
     "metadata": {},
     "output_type": "display_data"
    },
    {
     "name": "stdout",
     "output_type": "stream",
     "text": [
      "0.01565383562041046 None\n"
     ]
    },
    {
     "data": {
      "application/vnd.jupyter.widget-view+json": {
       "model_id": "cb26ad11cd464c2db8c0de266d716430",
       "version_major": 2,
       "version_minor": 0
      },
      "text/plain": [
       "  0%|          | 0/2000 [00:00<?, ?it/s]"
      ]
     },
     "metadata": {},
     "output_type": "display_data"
    },
    {
     "name": "stdout",
     "output_type": "stream",
     "text": [
      "0.015466828908913028 None\n"
     ]
    },
    {
     "data": {
      "application/vnd.jupyter.widget-view+json": {
       "model_id": "922c4a93364745bc9fc165546d5bbd5e",
       "version_major": 2,
       "version_minor": 0
      },
      "text/plain": [
       "  0%|          | 0/2000 [00:00<?, ?it/s]"
      ]
     },
     "metadata": {},
     "output_type": "display_data"
    },
    {
     "name": "stdout",
     "output_type": "stream",
     "text": [
      "0.015246617516596107 None\n"
     ]
    },
    {
     "data": {
      "application/vnd.jupyter.widget-view+json": {
       "model_id": "d44fe3468e19450bae27d89f0396f162",
       "version_major": 2,
       "version_minor": 0
      },
      "text/plain": [
       "  0%|          | 0/2000 [00:00<?, ?it/s]"
      ]
     },
     "metadata": {},
     "output_type": "display_data"
    },
    {
     "name": "stdout",
     "output_type": "stream",
     "text": [
      "0.015086227987146417 None\n"
     ]
    },
    {
     "data": {
      "application/vnd.jupyter.widget-view+json": {
       "model_id": "54cb0aa2c3c0474c81513960c4df1ac1",
       "version_major": 2,
       "version_minor": 0
      },
      "text/plain": [
       "  0%|          | 0/2000 [00:00<?, ?it/s]"
      ]
     },
     "metadata": {},
     "output_type": "display_data"
    },
    {
     "name": "stdout",
     "output_type": "stream",
     "text": [
      "0.015002015870615167 None\n"
     ]
    },
    {
     "data": {
      "application/vnd.jupyter.widget-view+json": {
       "model_id": "8d112cfd61364a81b7ee3e3d0eb8461d",
       "version_major": 2,
       "version_minor": 0
      },
      "text/plain": [
       "  0%|          | 0/2000 [00:00<?, ?it/s]"
      ]
     },
     "metadata": {},
     "output_type": "display_data"
    },
    {
     "name": "stdout",
     "output_type": "stream",
     "text": [
      "0.014820329373802291 None\n"
     ]
    },
    {
     "data": {
      "application/vnd.jupyter.widget-view+json": {
       "model_id": "5a7f933e9f40499baff0268ce0fee07c",
       "version_major": 2,
       "version_minor": 0
      },
      "text/plain": [
       "  0%|          | 0/2000 [00:00<?, ?it/s]"
      ]
     },
     "metadata": {},
     "output_type": "display_data"
    },
    {
     "name": "stdout",
     "output_type": "stream",
     "text": [
      "0.014760866997839687 None\n"
     ]
    },
    {
     "data": {
      "application/vnd.jupyter.widget-view+json": {
       "model_id": "ff02cd4f80d54a88a092f4b0694df765",
       "version_major": 2,
       "version_minor": 0
      },
      "text/plain": [
       "  0%|          | 0/2000 [00:00<?, ?it/s]"
      ]
     },
     "metadata": {},
     "output_type": "display_data"
    },
    {
     "name": "stdout",
     "output_type": "stream",
     "text": [
      "0.014666727308698824 None\n"
     ]
    },
    {
     "data": {
      "application/vnd.jupyter.widget-view+json": {
       "model_id": "8f753051ecd34c69885f7b7dd8bbacd2",
       "version_major": 2,
       "version_minor": 0
      },
      "text/plain": [
       "  0%|          | 0/2000 [00:00<?, ?it/s]"
      ]
     },
     "metadata": {},
     "output_type": "display_data"
    },
    {
     "name": "stdout",
     "output_type": "stream",
     "text": [
      "0.014638693394568482 None\n"
     ]
    },
    {
     "data": {
      "application/vnd.jupyter.widget-view+json": {
       "model_id": "ab350d39b72d4fde9c551cc3bb053f8c",
       "version_major": 2,
       "version_minor": 0
      },
      "text/plain": [
       "  0%|          | 0/2000 [00:00<?, ?it/s]"
      ]
     },
     "metadata": {},
     "output_type": "display_data"
    },
    {
     "name": "stdout",
     "output_type": "stream",
     "text": [
      "0.014603136593631848 None\n"
     ]
    },
    {
     "data": {
      "application/vnd.jupyter.widget-view+json": {
       "model_id": "769464628e8c48f9b594049ecb6bf0c4",
       "version_major": 2,
       "version_minor": 0
      },
      "text/plain": [
       "  0%|          | 0/2000 [00:00<?, ?it/s]"
      ]
     },
     "metadata": {},
     "output_type": "display_data"
    },
    {
     "name": "stdout",
     "output_type": "stream",
     "text": [
      "0.014513503050111112 None\n"
     ]
    },
    {
     "data": {
      "application/vnd.jupyter.widget-view+json": {
       "model_id": "fe0cc555b03940b38175501ace169506",
       "version_major": 2,
       "version_minor": 0
      },
      "text/plain": [
       "  0%|          | 0/2000 [00:00<?, ?it/s]"
      ]
     },
     "metadata": {},
     "output_type": "display_data"
    },
    {
     "name": "stdout",
     "output_type": "stream",
     "text": [
      "0.01449446083416313 None\n"
     ]
    },
    {
     "data": {
      "application/vnd.jupyter.widget-view+json": {
       "model_id": "f1402d354eb34a37a90a2b06dbde60e3",
       "version_major": 2,
       "version_minor": 0
      },
      "text/plain": [
       "  0%|          | 0/2000 [00:00<?, ?it/s]"
      ]
     },
     "metadata": {},
     "output_type": "display_data"
    },
    {
     "name": "stdout",
     "output_type": "stream",
     "text": [
      "0.014464837063478857 None\n"
     ]
    },
    {
     "data": {
      "application/vnd.jupyter.widget-view+json": {
       "model_id": "4148df9a164a451b91e01c198e5d4328",
       "version_major": 2,
       "version_minor": 0
      },
      "text/plain": [
       "  0%|          | 0/2000 [00:00<?, ?it/s]"
      ]
     },
     "metadata": {},
     "output_type": "display_data"
    },
    {
     "name": "stdout",
     "output_type": "stream",
     "text": [
      "0.014405329510216296 None\n"
     ]
    },
    {
     "data": {
      "application/vnd.jupyter.widget-view+json": {
       "model_id": "2f3125c4023143efac2516980da9fb67",
       "version_major": 2,
       "version_minor": 0
      },
      "text/plain": [
       "  0%|          | 0/2000 [00:00<?, ?it/s]"
      ]
     },
     "metadata": {},
     "output_type": "display_data"
    },
    {
     "name": "stdout",
     "output_type": "stream",
     "text": [
      "0.014429992982680813 None\n"
     ]
    },
    {
     "data": {
      "application/vnd.jupyter.widget-view+json": {
       "model_id": "315b86b080844fcf94d000a10cdade56",
       "version_major": 2,
       "version_minor": 0
      },
      "text/plain": [
       "  0%|          | 0/300 [00:00<?, ?it/s]"
      ]
     },
     "metadata": {},
     "output_type": "display_data"
    },
    {
     "name": "stdout",
     "output_type": "stream",
     "text": [
      "3.806583148768781e-05\n"
     ]
    },
    {
     "data": {
      "application/vnd.jupyter.widget-view+json": {
       "model_id": "ca0ea7def6654f7aab104c65da34407c",
       "version_major": 2,
       "version_minor": 0
      },
      "text/plain": [
       "  0%|          | 0/1000 [00:00<?, ?it/s]"
      ]
     },
     "metadata": {},
     "output_type": "display_data"
    },
    {
     "name": "stdout",
     "output_type": "stream",
     "text": [
      "0.010147760082988464\n"
     ]
    },
    {
     "data": {
      "application/vnd.jupyter.widget-view+json": {
       "model_id": "f9ca2b3026574f7e82b397948588869a",
       "version_major": 2,
       "version_minor": 0
      },
      "text/plain": [
       "  0%|          | 0/2000 [00:00<?, ?it/s]"
      ]
     },
     "metadata": {},
     "output_type": "display_data"
    },
    {
     "name": "stdout",
     "output_type": "stream",
     "text": [
      "0.01809128878340532 None\n"
     ]
    },
    {
     "data": {
      "application/vnd.jupyter.widget-view+json": {
       "model_id": "9315db7a109649f7a4d410dffed18391",
       "version_major": 2,
       "version_minor": 0
      },
      "text/plain": [
       "  0%|          | 0/2000 [00:00<?, ?it/s]"
      ]
     },
     "metadata": {},
     "output_type": "display_data"
    },
    {
     "name": "stdout",
     "output_type": "stream",
     "text": [
      "0.02035723335190414 None\n"
     ]
    },
    {
     "data": {
      "application/vnd.jupyter.widget-view+json": {
       "model_id": "daf8c9f6c9d1451d85c44cace9a6f6a8",
       "version_major": 2,
       "version_minor": 0
      },
      "text/plain": [
       "  0%|          | 0/2000 [00:00<?, ?it/s]"
      ]
     },
     "metadata": {},
     "output_type": "display_data"
    },
    {
     "name": "stdout",
     "output_type": "stream",
     "text": [
      "0.019864917440100483 None\n"
     ]
    },
    {
     "data": {
      "application/vnd.jupyter.widget-view+json": {
       "model_id": "a46414d408b54510970766f858d759cd",
       "version_major": 2,
       "version_minor": 0
      },
      "text/plain": [
       "  0%|          | 0/2000 [00:00<?, ?it/s]"
      ]
     },
     "metadata": {},
     "output_type": "display_data"
    },
    {
     "name": "stdout",
     "output_type": "stream",
     "text": [
      "0.01950884953971824 None\n"
     ]
    },
    {
     "data": {
      "application/vnd.jupyter.widget-view+json": {
       "model_id": "b8c7fa50f1a942c687fefefbe5741250",
       "version_major": 2,
       "version_minor": 0
      },
      "text/plain": [
       "  0%|          | 0/2000 [00:00<?, ?it/s]"
      ]
     },
     "metadata": {},
     "output_type": "display_data"
    },
    {
     "name": "stdout",
     "output_type": "stream",
     "text": [
      "0.01928123392358997 None\n"
     ]
    },
    {
     "data": {
      "application/vnd.jupyter.widget-view+json": {
       "model_id": "348a29cc9d944d84b397f1557d18c02f",
       "version_major": 2,
       "version_minor": 0
      },
      "text/plain": [
       "  0%|          | 0/2000 [00:00<?, ?it/s]"
      ]
     },
     "metadata": {},
     "output_type": "display_data"
    },
    {
     "name": "stdout",
     "output_type": "stream",
     "text": [
      "0.019005026381453783 None\n"
     ]
    },
    {
     "data": {
      "application/vnd.jupyter.widget-view+json": {
       "model_id": "055b1b8e44e54f00bad20250048f41fb",
       "version_major": 2,
       "version_minor": 0
      },
      "text/plain": [
       "  0%|          | 0/2000 [00:00<?, ?it/s]"
      ]
     },
     "metadata": {},
     "output_type": "display_data"
    },
    {
     "name": "stdout",
     "output_type": "stream",
     "text": [
      "0.018911142909093164 None\n"
     ]
    },
    {
     "data": {
      "application/vnd.jupyter.widget-view+json": {
       "model_id": "5193c4f859d248f196345a5f8b668823",
       "version_major": 2,
       "version_minor": 0
      },
      "text/plain": [
       "  0%|          | 0/2000 [00:00<?, ?it/s]"
      ]
     },
     "metadata": {},
     "output_type": "display_data"
    },
    {
     "name": "stdout",
     "output_type": "stream",
     "text": [
      "0.018761479152655983 None\n"
     ]
    },
    {
     "data": {
      "application/vnd.jupyter.widget-view+json": {
       "model_id": "3dca99e53c8d410dbc3c989794bb6bdd",
       "version_major": 2,
       "version_minor": 0
      },
      "text/plain": [
       "  0%|          | 0/2000 [00:00<?, ?it/s]"
      ]
     },
     "metadata": {},
     "output_type": "display_data"
    },
    {
     "name": "stdout",
     "output_type": "stream",
     "text": [
      "0.018645643663242686 None\n"
     ]
    },
    {
     "data": {
      "application/vnd.jupyter.widget-view+json": {
       "model_id": "4e071b7f99994ffb8078c688cecece16",
       "version_major": 2,
       "version_minor": 0
      },
      "text/plain": [
       "  0%|          | 0/2000 [00:00<?, ?it/s]"
      ]
     },
     "metadata": {},
     "output_type": "display_data"
    },
    {
     "name": "stdout",
     "output_type": "stream",
     "text": [
      "0.018493566774657168 None\n"
     ]
    },
    {
     "data": {
      "application/vnd.jupyter.widget-view+json": {
       "model_id": "f0dcf0244211484388d0a7fbe8ea6bcf",
       "version_major": 2,
       "version_minor": 0
      },
      "text/plain": [
       "  0%|          | 0/2000 [00:00<?, ?it/s]"
      ]
     },
     "metadata": {},
     "output_type": "display_data"
    },
    {
     "name": "stdout",
     "output_type": "stream",
     "text": [
      "0.018434862824556073 None\n"
     ]
    },
    {
     "data": {
      "application/vnd.jupyter.widget-view+json": {
       "model_id": "f538459b3f3e4b9cbf64b15df5d16f63",
       "version_major": 2,
       "version_minor": 0
      },
      "text/plain": [
       "  0%|          | 0/2000 [00:00<?, ?it/s]"
      ]
     },
     "metadata": {},
     "output_type": "display_data"
    },
    {
     "name": "stdout",
     "output_type": "stream",
     "text": [
      "0.018350170642479482 None\n"
     ]
    },
    {
     "data": {
      "application/vnd.jupyter.widget-view+json": {
       "model_id": "decd6d8f3fcc4e8f8dc9ecb94b7e8ace",
       "version_major": 2,
       "version_minor": 0
      },
      "text/plain": [
       "  0%|          | 0/2000 [00:00<?, ?it/s]"
      ]
     },
     "metadata": {},
     "output_type": "display_data"
    },
    {
     "name": "stdout",
     "output_type": "stream",
     "text": [
      "0.01832901162611887 None\n"
     ]
    },
    {
     "data": {
      "application/vnd.jupyter.widget-view+json": {
       "model_id": "34622120c4a04b9abe7b17c99866f245",
       "version_major": 2,
       "version_minor": 0
      },
      "text/plain": [
       "  0%|          | 0/2000 [00:00<?, ?it/s]"
      ]
     },
     "metadata": {},
     "output_type": "display_data"
    },
    {
     "name": "stdout",
     "output_type": "stream",
     "text": [
      "0.01827194937820236 None\n"
     ]
    },
    {
     "data": {
      "application/vnd.jupyter.widget-view+json": {
       "model_id": "4643c6f503344dd2b98c76114856727b",
       "version_major": 2,
       "version_minor": 0
      },
      "text/plain": [
       "  0%|          | 0/2000 [00:00<?, ?it/s]"
      ]
     },
     "metadata": {},
     "output_type": "display_data"
    },
    {
     "name": "stdout",
     "output_type": "stream",
     "text": [
      "0.018262259522579427 None\n"
     ]
    },
    {
     "data": {
      "application/vnd.jupyter.widget-view+json": {
       "model_id": "d569911dbbb240f3be199463222715e8",
       "version_major": 2,
       "version_minor": 0
      },
      "text/plain": [
       "  0%|          | 0/2000 [00:00<?, ?it/s]"
      ]
     },
     "metadata": {},
     "output_type": "display_data"
    },
    {
     "name": "stdout",
     "output_type": "stream",
     "text": [
      "0.01819937966208243 None\n"
     ]
    },
    {
     "data": {
      "application/vnd.jupyter.widget-view+json": {
       "model_id": "0899007ebbf6404f85d7356ad9b09296",
       "version_major": 2,
       "version_minor": 0
      },
      "text/plain": [
       "  0%|          | 0/2000 [00:00<?, ?it/s]"
      ]
     },
     "metadata": {},
     "output_type": "display_data"
    },
    {
     "name": "stdout",
     "output_type": "stream",
     "text": [
      "0.018201895392945755 None\n"
     ]
    },
    {
     "data": {
      "application/vnd.jupyter.widget-view+json": {
       "model_id": "c7d6aa8a7f5c4ad2b9a90fab4c41dd51",
       "version_major": 2,
       "version_minor": 0
      },
      "text/plain": [
       "  0%|          | 0/300 [00:00<?, ?it/s]"
      ]
     },
     "metadata": {},
     "output_type": "display_data"
    },
    {
     "name": "stdout",
     "output_type": "stream",
     "text": [
      "3.806583148768781e-05\n"
     ]
    },
    {
     "data": {
      "application/vnd.jupyter.widget-view+json": {
       "model_id": "683390b793c1471f9b0d553ff1633ef6",
       "version_major": 2,
       "version_minor": 0
      },
      "text/plain": [
       "  0%|          | 0/1000 [00:00<?, ?it/s]"
      ]
     },
     "metadata": {},
     "output_type": "display_data"
    },
    {
     "name": "stdout",
     "output_type": "stream",
     "text": [
      "0.005454906974879993\n"
     ]
    },
    {
     "data": {
      "application/vnd.jupyter.widget-view+json": {
       "model_id": "152041efad384eb6821689e0ec3c791f",
       "version_major": 2,
       "version_minor": 0
      },
      "text/plain": [
       "  0%|          | 0/2000 [00:00<?, ?it/s]"
      ]
     },
     "metadata": {},
     "output_type": "display_data"
    },
    {
     "name": "stdout",
     "output_type": "stream",
     "text": [
      "0.006867647269213236 None\n"
     ]
    },
    {
     "data": {
      "application/vnd.jupyter.widget-view+json": {
       "model_id": "2d9012bbc3a440ab82b653f48758ba54",
       "version_major": 2,
       "version_minor": 0
      },
      "text/plain": [
       "  0%|          | 0/2000 [00:00<?, ?it/s]"
      ]
     },
     "metadata": {},
     "output_type": "display_data"
    },
    {
     "name": "stdout",
     "output_type": "stream",
     "text": [
      "0.008973899594550704 None\n"
     ]
    },
    {
     "data": {
      "application/vnd.jupyter.widget-view+json": {
       "model_id": "c0ec4540060a4d9eaef1a84377b2ec01",
       "version_major": 2,
       "version_minor": 0
      },
      "text/plain": [
       "  0%|          | 0/2000 [00:00<?, ?it/s]"
      ]
     },
     "metadata": {},
     "output_type": "display_data"
    },
    {
     "name": "stdout",
     "output_type": "stream",
     "text": [
      "0.008525193089170772 None\n"
     ]
    },
    {
     "data": {
      "application/vnd.jupyter.widget-view+json": {
       "model_id": "1ab8c54e6510491fb6479d82025ead83",
       "version_major": 2,
       "version_minor": 0
      },
      "text/plain": [
       "  0%|          | 0/2000 [00:00<?, ?it/s]"
      ]
     },
     "metadata": {},
     "output_type": "display_data"
    },
    {
     "name": "stdout",
     "output_type": "stream",
     "text": [
      "0.008346900538611807 None\n"
     ]
    },
    {
     "data": {
      "application/vnd.jupyter.widget-view+json": {
       "model_id": "0db59a30cd0c46f7ba15576b8603caf5",
       "version_major": 2,
       "version_minor": 0
      },
      "text/plain": [
       "  0%|          | 0/2000 [00:00<?, ?it/s]"
      ]
     },
     "metadata": {},
     "output_type": "display_data"
    },
    {
     "name": "stdout",
     "output_type": "stream",
     "text": [
      "0.008020215064768198 None\n"
     ]
    },
    {
     "data": {
      "application/vnd.jupyter.widget-view+json": {
       "model_id": "d5f8e2574e4545b983fd2b47a640d40b",
       "version_major": 2,
       "version_minor": 0
      },
      "text/plain": [
       "  0%|          | 0/2000 [00:00<?, ?it/s]"
      ]
     },
     "metadata": {},
     "output_type": "display_data"
    },
    {
     "name": "stdout",
     "output_type": "stream",
     "text": [
      "0.007812777576164009 None\n"
     ]
    },
    {
     "data": {
      "application/vnd.jupyter.widget-view+json": {
       "model_id": "d7de52f2d5be41cd8ace54664a7537e9",
       "version_major": 2,
       "version_minor": 0
      },
      "text/plain": [
       "  0%|          | 0/2000 [00:00<?, ?it/s]"
      ]
     },
     "metadata": {},
     "output_type": "display_data"
    },
    {
     "name": "stdout",
     "output_type": "stream",
     "text": [
      "0.0076710078960090375 None\n"
     ]
    },
    {
     "data": {
      "application/vnd.jupyter.widget-view+json": {
       "model_id": "2173ee3654e346449a04e740d1e143f1",
       "version_major": 2,
       "version_minor": 0
      },
      "text/plain": [
       "  0%|          | 0/2000 [00:00<?, ?it/s]"
      ]
     },
     "metadata": {},
     "output_type": "display_data"
    },
    {
     "name": "stdout",
     "output_type": "stream",
     "text": [
      "0.007590522372293144 None\n"
     ]
    },
    {
     "data": {
      "application/vnd.jupyter.widget-view+json": {
       "model_id": "3bf4fcc1be7c49f7b6b87611453c4a9b",
       "version_major": 2,
       "version_minor": 0
      },
      "text/plain": [
       "  0%|          | 0/2000 [00:00<?, ?it/s]"
      ]
     },
     "metadata": {},
     "output_type": "display_data"
    },
    {
     "name": "stdout",
     "output_type": "stream",
     "text": [
      "0.00747435490336505 None\n"
     ]
    },
    {
     "data": {
      "application/vnd.jupyter.widget-view+json": {
       "model_id": "c4bbafb7e46e44b0b6d7a22838e45c93",
       "version_major": 2,
       "version_minor": 0
      },
      "text/plain": [
       "  0%|          | 0/2000 [00:00<?, ?it/s]"
      ]
     },
     "metadata": {},
     "output_type": "display_data"
    },
    {
     "name": "stdout",
     "output_type": "stream",
     "text": [
      "0.007350905433798656 None\n"
     ]
    },
    {
     "data": {
      "application/vnd.jupyter.widget-view+json": {
       "model_id": "fb0529228fc44a5eba0271cb19c6d153",
       "version_major": 2,
       "version_minor": 0
      },
      "text/plain": [
       "  0%|          | 0/2000 [00:00<?, ?it/s]"
      ]
     },
     "metadata": {},
     "output_type": "display_data"
    },
    {
     "name": "stdout",
     "output_type": "stream",
     "text": [
      "0.0072773179055671735 None\n"
     ]
    },
    {
     "data": {
      "application/vnd.jupyter.widget-view+json": {
       "model_id": "f997fa371e7243438c05ee357b567637",
       "version_major": 2,
       "version_minor": 0
      },
      "text/plain": [
       "  0%|          | 0/2000 [00:00<?, ?it/s]"
      ]
     },
     "metadata": {},
     "output_type": "display_data"
    },
    {
     "name": "stdout",
     "output_type": "stream",
     "text": [
      "0.007222912085635773 None\n"
     ]
    },
    {
     "data": {
      "application/vnd.jupyter.widget-view+json": {
       "model_id": "8b6d716727f947d9886d7ea00f231367",
       "version_major": 2,
       "version_minor": 0
      },
      "text/plain": [
       "  0%|          | 0/2000 [00:00<?, ?it/s]"
      ]
     },
     "metadata": {},
     "output_type": "display_data"
    },
    {
     "name": "stdout",
     "output_type": "stream",
     "text": [
      "0.007150691588004163 None\n"
     ]
    },
    {
     "data": {
      "application/vnd.jupyter.widget-view+json": {
       "model_id": "c1d741a8bd4945adbfc8684e7fa6035a",
       "version_major": 2,
       "version_minor": 0
      },
      "text/plain": [
       "  0%|          | 0/2000 [00:00<?, ?it/s]"
      ]
     },
     "metadata": {},
     "output_type": "display_data"
    },
    {
     "name": "stdout",
     "output_type": "stream",
     "text": [
      "0.007094414536189693 None\n"
     ]
    },
    {
     "data": {
      "application/vnd.jupyter.widget-view+json": {
       "model_id": "9e6f61d892104cceada6599e6500cb0b",
       "version_major": 2,
       "version_minor": 0
      },
      "text/plain": [
       "  0%|          | 0/2000 [00:00<?, ?it/s]"
      ]
     },
     "metadata": {},
     "output_type": "display_data"
    },
    {
     "name": "stdout",
     "output_type": "stream",
     "text": [
      "0.007056393649677851 None\n"
     ]
    },
    {
     "data": {
      "application/vnd.jupyter.widget-view+json": {
       "model_id": "ca42b41fd8d049b6af1e53c5d78b59d6",
       "version_major": 2,
       "version_minor": 0
      },
      "text/plain": [
       "  0%|          | 0/2000 [00:00<?, ?it/s]"
      ]
     },
     "metadata": {},
     "output_type": "display_data"
    },
    {
     "name": "stdout",
     "output_type": "stream",
     "text": [
      "0.007062758702171933 None\n"
     ]
    },
    {
     "data": {
      "application/vnd.jupyter.widget-view+json": {
       "model_id": "27ce4fd46c4340c68940ce7f64abf169",
       "version_major": 2,
       "version_minor": 0
      },
      "text/plain": [
       "  0%|          | 0/300 [00:00<?, ?it/s]"
      ]
     },
     "metadata": {},
     "output_type": "display_data"
    },
    {
     "name": "stdout",
     "output_type": "stream",
     "text": [
      "3.806583148768781e-05\n"
     ]
    },
    {
     "data": {
      "application/vnd.jupyter.widget-view+json": {
       "model_id": "6fdff57b848f450ea8c4bb0ab317cf02",
       "version_major": 2,
       "version_minor": 0
      },
      "text/plain": [
       "  0%|          | 0/1000 [00:00<?, ?it/s]"
      ]
     },
     "metadata": {},
     "output_type": "display_data"
    },
    {
     "name": "stdout",
     "output_type": "stream",
     "text": [
      "0.008762972225254786\n"
     ]
    },
    {
     "data": {
      "application/vnd.jupyter.widget-view+json": {
       "model_id": "c5a5828039c84771acdc11112455a517",
       "version_major": 2,
       "version_minor": 0
      },
      "text/plain": [
       "  0%|          | 0/2000 [00:00<?, ?it/s]"
      ]
     },
     "metadata": {},
     "output_type": "display_data"
    },
    {
     "name": "stdout",
     "output_type": "stream",
     "text": [
      "0.008202702356178416 None\n"
     ]
    },
    {
     "data": {
      "application/vnd.jupyter.widget-view+json": {
       "model_id": "cc91b008f0344a7f851d8bcf3174cb57",
       "version_major": 2,
       "version_minor": 0
      },
      "text/plain": [
       "  0%|          | 0/2000 [00:00<?, ?it/s]"
      ]
     },
     "metadata": {},
     "output_type": "display_data"
    },
    {
     "name": "stdout",
     "output_type": "stream",
     "text": [
      "0.01027104089984646 None\n"
     ]
    },
    {
     "data": {
      "application/vnd.jupyter.widget-view+json": {
       "model_id": "4705062ff0614637b3a993d89b0bf574",
       "version_major": 2,
       "version_minor": 0
      },
      "text/plain": [
       "  0%|          | 0/2000 [00:00<?, ?it/s]"
      ]
     },
     "metadata": {},
     "output_type": "display_data"
    },
    {
     "name": "stdout",
     "output_type": "stream",
     "text": [
      "0.009860985571337418 None\n"
     ]
    },
    {
     "data": {
      "application/vnd.jupyter.widget-view+json": {
       "model_id": "717b82b5961043b6893f11f93b27f574",
       "version_major": 2,
       "version_minor": 0
      },
      "text/plain": [
       "  0%|          | 0/2000 [00:00<?, ?it/s]"
      ]
     },
     "metadata": {},
     "output_type": "display_data"
    },
    {
     "name": "stdout",
     "output_type": "stream",
     "text": [
      "0.009547766269541772 None\n"
     ]
    },
    {
     "data": {
      "application/vnd.jupyter.widget-view+json": {
       "model_id": "5a61dd08b7fa4cfcb9b346a0b90dc81e",
       "version_major": 2,
       "version_minor": 0
      },
      "text/plain": [
       "  0%|          | 0/2000 [00:00<?, ?it/s]"
      ]
     },
     "metadata": {},
     "output_type": "display_data"
    },
    {
     "name": "stdout",
     "output_type": "stream",
     "text": [
      "0.009389420135194563 None\n"
     ]
    },
    {
     "data": {
      "application/vnd.jupyter.widget-view+json": {
       "model_id": "6fffd62ea094470caa581759eded7b09",
       "version_major": 2,
       "version_minor": 0
      },
      "text/plain": [
       "  0%|          | 0/2000 [00:00<?, ?it/s]"
      ]
     },
     "metadata": {},
     "output_type": "display_data"
    },
    {
     "name": "stdout",
     "output_type": "stream",
     "text": [
      "0.009094166344489424 None\n"
     ]
    },
    {
     "data": {
      "application/vnd.jupyter.widget-view+json": {
       "model_id": "4fd74c7e23c64e35b34c42b31698912d",
       "version_major": 2,
       "version_minor": 0
      },
      "text/plain": [
       "  0%|          | 0/2000 [00:00<?, ?it/s]"
      ]
     },
     "metadata": {},
     "output_type": "display_data"
    },
    {
     "name": "stdout",
     "output_type": "stream",
     "text": [
      "0.008971767342632803 None\n"
     ]
    },
    {
     "data": {
      "application/vnd.jupyter.widget-view+json": {
       "model_id": "30c96358f5684e5e895bc99baa910216",
       "version_major": 2,
       "version_minor": 0
      },
      "text/plain": [
       "  0%|          | 0/2000 [00:00<?, ?it/s]"
      ]
     },
     "metadata": {},
     "output_type": "display_data"
    },
    {
     "name": "stdout",
     "output_type": "stream",
     "text": [
      "0.00889712828343385 None\n"
     ]
    },
    {
     "data": {
      "application/vnd.jupyter.widget-view+json": {
       "model_id": "81c40314e7df4f32b535ebe625678c9d",
       "version_major": 2,
       "version_minor": 0
      },
      "text/plain": [
       "  0%|          | 0/2000 [00:00<?, ?it/s]"
      ]
     },
     "metadata": {},
     "output_type": "display_data"
    },
    {
     "name": "stdout",
     "output_type": "stream",
     "text": [
      "0.008718914370704458 None\n"
     ]
    },
    {
     "data": {
      "application/vnd.jupyter.widget-view+json": {
       "model_id": "999988883ec34866b988f2affd9800ce",
       "version_major": 2,
       "version_minor": 0
      },
      "text/plain": [
       "  0%|          | 0/2000 [00:00<?, ?it/s]"
      ]
     },
     "metadata": {},
     "output_type": "display_data"
    },
    {
     "name": "stdout",
     "output_type": "stream",
     "text": [
      "0.008638876076681802 None\n"
     ]
    },
    {
     "data": {
      "application/vnd.jupyter.widget-view+json": {
       "model_id": "a30f9cce57cb4314a165e0dba5cbb2d0",
       "version_major": 2,
       "version_minor": 0
      },
      "text/plain": [
       "  0%|          | 0/2000 [00:00<?, ?it/s]"
      ]
     },
     "metadata": {},
     "output_type": "display_data"
    },
    {
     "name": "stdout",
     "output_type": "stream",
     "text": [
      "0.0085660219298825 None\n"
     ]
    },
    {
     "data": {
      "application/vnd.jupyter.widget-view+json": {
       "model_id": "1005f64c739045baa976930031dc09f5",
       "version_major": 2,
       "version_minor": 0
      },
      "text/plain": [
       "  0%|          | 0/2000 [00:00<?, ?it/s]"
      ]
     },
     "metadata": {},
     "output_type": "display_data"
    },
    {
     "name": "stdout",
     "output_type": "stream",
     "text": [
      "0.00850977370686674 None\n"
     ]
    },
    {
     "data": {
      "application/vnd.jupyter.widget-view+json": {
       "model_id": "f5e6dcbdaff3496192c37ca0b0d56513",
       "version_major": 2,
       "version_minor": 0
      },
      "text/plain": [
       "  0%|          | 0/2000 [00:00<?, ?it/s]"
      ]
     },
     "metadata": {},
     "output_type": "display_data"
    },
    {
     "name": "stdout",
     "output_type": "stream",
     "text": [
      "0.00843135998119477 None\n"
     ]
    },
    {
     "data": {
      "application/vnd.jupyter.widget-view+json": {
       "model_id": "2eec22d31946411cbe4e171fb0e0cb39",
       "version_major": 2,
       "version_minor": 0
      },
      "text/plain": [
       "  0%|          | 0/2000 [00:00<?, ?it/s]"
      ]
     },
     "metadata": {},
     "output_type": "display_data"
    },
    {
     "name": "stdout",
     "output_type": "stream",
     "text": [
      "0.008389746608230848 None\n"
     ]
    },
    {
     "data": {
      "application/vnd.jupyter.widget-view+json": {
       "model_id": "046467d836d041b588982a4e28c801a2",
       "version_major": 2,
       "version_minor": 0
      },
      "text/plain": [
       "  0%|          | 0/2000 [00:00<?, ?it/s]"
      ]
     },
     "metadata": {},
     "output_type": "display_data"
    },
    {
     "name": "stdout",
     "output_type": "stream",
     "text": [
      "0.008353501730587451 None\n"
     ]
    },
    {
     "data": {
      "application/vnd.jupyter.widget-view+json": {
       "model_id": "bc38436102fb48c49cb9bc6f2ab4bd83",
       "version_major": 2,
       "version_minor": 0
      },
      "text/plain": [
       "  0%|          | 0/2000 [00:00<?, ?it/s]"
      ]
     },
     "metadata": {},
     "output_type": "display_data"
    },
    {
     "name": "stdout",
     "output_type": "stream",
     "text": [
      "0.008334614084085989 None\n"
     ]
    },
    {
     "data": {
      "application/vnd.jupyter.widget-view+json": {
       "model_id": "bf63306fe83444fea43a2c4e75ce2fca",
       "version_major": 2,
       "version_minor": 0
      },
      "text/plain": [
       "  0%|          | 0/2000 [00:00<?, ?it/s]"
      ]
     },
     "metadata": {},
     "output_type": "display_data"
    },
    {
     "name": "stdout",
     "output_type": "stream",
     "text": [
      "0.008289456926437554 None\n"
     ]
    },
    {
     "data": {
      "application/vnd.jupyter.widget-view+json": {
       "model_id": "928e60b7e57048aa9c35195a3f7bb29e",
       "version_major": 2,
       "version_minor": 0
      },
      "text/plain": [
       "  0%|          | 0/2000 [00:00<?, ?it/s]"
      ]
     },
     "metadata": {},
     "output_type": "display_data"
    },
    {
     "name": "stdout",
     "output_type": "stream",
     "text": [
      "0.008279830507514683 None\n"
     ]
    },
    {
     "data": {
      "application/vnd.jupyter.widget-view+json": {
       "model_id": "620be2e496e943348daaa578a02efc1c",
       "version_major": 2,
       "version_minor": 0
      },
      "text/plain": [
       "  0%|          | 0/2000 [00:00<?, ?it/s]"
      ]
     },
     "metadata": {},
     "output_type": "display_data"
    },
    {
     "name": "stdout",
     "output_type": "stream",
     "text": [
      "0.008274895691061006 None\n"
     ]
    },
    {
     "data": {
      "application/vnd.jupyter.widget-view+json": {
       "model_id": "8f84e3407e23443aa04592601f53ee4d",
       "version_major": 2,
       "version_minor": 0
      },
      "text/plain": [
       "  0%|          | 0/2000 [00:00<?, ?it/s]"
      ]
     },
     "metadata": {},
     "output_type": "display_data"
    },
    {
     "name": "stdout",
     "output_type": "stream",
     "text": [
      "0.008242669464447643 None\n"
     ]
    },
    {
     "data": {
      "application/vnd.jupyter.widget-view+json": {
       "model_id": "b79357af388f4651b3a84e16bd5f0232",
       "version_major": 2,
       "version_minor": 0
      },
      "text/plain": [
       "  0%|          | 0/2000 [00:00<?, ?it/s]"
      ]
     },
     "metadata": {},
     "output_type": "display_data"
    },
    {
     "name": "stdout",
     "output_type": "stream",
     "text": [
      "0.008238898444917339 None\n"
     ]
    },
    {
     "data": {
      "application/vnd.jupyter.widget-view+json": {
       "model_id": "be9c36853eb94115bd4d582c0e94a6b4",
       "version_major": 2,
       "version_minor": 0
      },
      "text/plain": [
       "  0%|          | 0/2000 [00:00<?, ?it/s]"
      ]
     },
     "metadata": {},
     "output_type": "display_data"
    },
    {
     "name": "stdout",
     "output_type": "stream",
     "text": [
      "0.008242220289462822 None\n"
     ]
    }
   ],
   "source": [
    "n = 3\n",
    "d = 2**n\n",
    "\n",
    "model4_list = []\n",
    "\n",
    "for i in range(5):\n",
    "\n",
    "    inputs_map, inputs_spam, counts_list =  pickle.load(open(f\"../../data/threeQubits_PQC_15usDelay_belem_{i}.p\", \"rb\"))\n",
    "\n",
    "    targets_map = counts_to_probs(counts_list[:2000-6**n])\n",
    "    targets_spam = counts_to_probs(counts_list[2000-6**n:])\n",
    "\n",
    "    data = [inputs_spam, targets_spam, inputs_map, targets_map]\n",
    "\n",
    "    np.random.seed(42)\n",
    "    random.seed(42)\n",
    "    tf.random.set_seed(42)\n",
    "\n",
    "    model = regularized_fit(d, data, num_iter_spam=1000, num_iter_map = 2000, N = 500, start = 15)\n",
    "    model4_list.append(model)"
   ]
  },
  {
   "cell_type": "markdown",
   "metadata": {},
   "source": [
    "# 20 us Delay"
   ]
  },
  {
   "cell_type": "code",
   "execution_count": 3,
   "metadata": {
    "scrolled": true
   },
   "outputs": [
    {
     "data": {
      "application/vnd.jupyter.widget-view+json": {
       "model_id": "96da59b429264ddc803f73d049c17d1e",
       "version_major": 2,
       "version_minor": 0
      },
      "text/plain": [
       "  0%|          | 0/300 [00:00<?, ?it/s]"
      ]
     },
     "metadata": {},
     "output_type": "display_data"
    },
    {
     "name": "stdout",
     "output_type": "stream",
     "text": [
      "3.806583148768781e-05\n"
     ]
    },
    {
     "data": {
      "application/vnd.jupyter.widget-view+json": {
       "model_id": "07c693e9ca4b4ba7aaa9ff8d25bdc473",
       "version_major": 2,
       "version_minor": 0
      },
      "text/plain": [
       "  0%|          | 0/1000 [00:00<?, ?it/s]"
      ]
     },
     "metadata": {},
     "output_type": "display_data"
    },
    {
     "name": "stdout",
     "output_type": "stream",
     "text": [
      "0.009018773144994446\n"
     ]
    },
    {
     "data": {
      "application/vnd.jupyter.widget-view+json": {
       "model_id": "141e3cfd56bc408f97531ccf274537a3",
       "version_major": 2,
       "version_minor": 0
      },
      "text/plain": [
       "  0%|          | 0/2000 [00:00<?, ?it/s]"
      ]
     },
     "metadata": {},
     "output_type": "display_data"
    },
    {
     "name": "stdout",
     "output_type": "stream",
     "text": [
      "0.013170602199150802 None\n"
     ]
    },
    {
     "data": {
      "application/vnd.jupyter.widget-view+json": {
       "model_id": "610c245031ac4468b6002b1bc5b4de9e",
       "version_major": 2,
       "version_minor": 0
      },
      "text/plain": [
       "  0%|          | 0/2000 [00:00<?, ?it/s]"
      ]
     },
     "metadata": {},
     "output_type": "display_data"
    },
    {
     "name": "stdout",
     "output_type": "stream",
     "text": [
      "0.013362065400777426 None\n"
     ]
    },
    {
     "data": {
      "application/vnd.jupyter.widget-view+json": {
       "model_id": "16781c6164de4e8dbde7b787fbee3f6b",
       "version_major": 2,
       "version_minor": 0
      },
      "text/plain": [
       "  0%|          | 0/2000 [00:00<?, ?it/s]"
      ]
     },
     "metadata": {},
     "output_type": "display_data"
    },
    {
     "name": "stdout",
     "output_type": "stream",
     "text": [
      "0.013340478108183455 None\n"
     ]
    },
    {
     "data": {
      "application/vnd.jupyter.widget-view+json": {
       "model_id": "50fde53f33bd4e13afb4781c5c62bfda",
       "version_major": 2,
       "version_minor": 0
      },
      "text/plain": [
       "  0%|          | 0/2000 [00:00<?, ?it/s]"
      ]
     },
     "metadata": {},
     "output_type": "display_data"
    },
    {
     "name": "stdout",
     "output_type": "stream",
     "text": [
      "0.013320826604505561 None\n"
     ]
    },
    {
     "data": {
      "application/vnd.jupyter.widget-view+json": {
       "model_id": "8b8298ba4dae4d73b1c0b459c1728708",
       "version_major": 2,
       "version_minor": 0
      },
      "text/plain": [
       "  0%|          | 0/2000 [00:00<?, ?it/s]"
      ]
     },
     "metadata": {},
     "output_type": "display_data"
    },
    {
     "name": "stdout",
     "output_type": "stream",
     "text": [
      "0.01326797007178085 None\n"
     ]
    },
    {
     "data": {
      "application/vnd.jupyter.widget-view+json": {
       "model_id": "dfa3f9e277ed4db284557f1a0034b162",
       "version_major": 2,
       "version_minor": 0
      },
      "text/plain": [
       "  0%|          | 0/2000 [00:00<?, ?it/s]"
      ]
     },
     "metadata": {},
     "output_type": "display_data"
    },
    {
     "name": "stdout",
     "output_type": "stream",
     "text": [
      "0.013254118056949142 None\n"
     ]
    },
    {
     "data": {
      "application/vnd.jupyter.widget-view+json": {
       "model_id": "8322627227694631b09ba76fc8d3ba35",
       "version_major": 2,
       "version_minor": 0
      },
      "text/plain": [
       "  0%|          | 0/2000 [00:00<?, ?it/s]"
      ]
     },
     "metadata": {},
     "output_type": "display_data"
    },
    {
     "name": "stdout",
     "output_type": "stream",
     "text": [
      "0.0132246619981626 None\n"
     ]
    },
    {
     "data": {
      "application/vnd.jupyter.widget-view+json": {
       "model_id": "805ec6c973fa4e52a82b95ddfda26750",
       "version_major": 2,
       "version_minor": 0
      },
      "text/plain": [
       "  0%|          | 0/2000 [00:00<?, ?it/s]"
      ]
     },
     "metadata": {},
     "output_type": "display_data"
    },
    {
     "name": "stdout",
     "output_type": "stream",
     "text": [
      "0.013212760714315843 None\n"
     ]
    },
    {
     "data": {
      "application/vnd.jupyter.widget-view+json": {
       "model_id": "f5f9f9cd5d6d4524b83d500bb3d18b7d",
       "version_major": 2,
       "version_minor": 0
      },
      "text/plain": [
       "  0%|          | 0/2000 [00:00<?, ?it/s]"
      ]
     },
     "metadata": {},
     "output_type": "display_data"
    },
    {
     "name": "stdout",
     "output_type": "stream",
     "text": [
      "0.013208907127157905 None\n"
     ]
    },
    {
     "data": {
      "application/vnd.jupyter.widget-view+json": {
       "model_id": "8190f5a330da47b393e472e6750d4ded",
       "version_major": 2,
       "version_minor": 0
      },
      "text/plain": [
       "  0%|          | 0/2000 [00:00<?, ?it/s]"
      ]
     },
     "metadata": {},
     "output_type": "display_data"
    },
    {
     "name": "stdout",
     "output_type": "stream",
     "text": [
      "0.013200142085226865 None\n"
     ]
    },
    {
     "data": {
      "application/vnd.jupyter.widget-view+json": {
       "model_id": "785d4eeab8d7482d9c4d81872a101950",
       "version_major": 2,
       "version_minor": 0
      },
      "text/plain": [
       "  0%|          | 0/2000 [00:00<?, ?it/s]"
      ]
     },
     "metadata": {},
     "output_type": "display_data"
    },
    {
     "name": "stdout",
     "output_type": "stream",
     "text": [
      "0.013216177067749257 None\n"
     ]
    },
    {
     "data": {
      "application/vnd.jupyter.widget-view+json": {
       "model_id": "97632de634e4450b9e182d66c609000a",
       "version_major": 2,
       "version_minor": 0
      },
      "text/plain": [
       "  0%|          | 0/300 [00:00<?, ?it/s]"
      ]
     },
     "metadata": {},
     "output_type": "display_data"
    },
    {
     "name": "stdout",
     "output_type": "stream",
     "text": [
      "3.806583148768781e-05\n"
     ]
    },
    {
     "data": {
      "application/vnd.jupyter.widget-view+json": {
       "model_id": "ac879823b24e48a3aa19c1e5e53f0fe2",
       "version_major": 2,
       "version_minor": 0
      },
      "text/plain": [
       "  0%|          | 0/1000 [00:00<?, ?it/s]"
      ]
     },
     "metadata": {},
     "output_type": "display_data"
    },
    {
     "name": "stdout",
     "output_type": "stream",
     "text": [
      "0.009566350794543673\n"
     ]
    },
    {
     "data": {
      "application/vnd.jupyter.widget-view+json": {
       "model_id": "d188529e39db4ecea6618686179e9c1e",
       "version_major": 2,
       "version_minor": 0
      },
      "text/plain": [
       "  0%|          | 0/2000 [00:00<?, ?it/s]"
      ]
     },
     "metadata": {},
     "output_type": "display_data"
    },
    {
     "name": "stdout",
     "output_type": "stream",
     "text": [
      "0.01142523056054148 None\n"
     ]
    },
    {
     "data": {
      "application/vnd.jupyter.widget-view+json": {
       "model_id": "22e117e52e2c4a1e8d77a5f11779c276",
       "version_major": 2,
       "version_minor": 0
      },
      "text/plain": [
       "  0%|          | 0/2000 [00:00<?, ?it/s]"
      ]
     },
     "metadata": {},
     "output_type": "display_data"
    },
    {
     "name": "stdout",
     "output_type": "stream",
     "text": [
      "0.0116184385177187 None\n"
     ]
    },
    {
     "data": {
      "application/vnd.jupyter.widget-view+json": {
       "model_id": "caa05d00e5974cc5a819305edbaa1322",
       "version_major": 2,
       "version_minor": 0
      },
      "text/plain": [
       "  0%|          | 0/2000 [00:00<?, ?it/s]"
      ]
     },
     "metadata": {},
     "output_type": "display_data"
    },
    {
     "name": "stdout",
     "output_type": "stream",
     "text": [
      "0.011562138161682934 None\n"
     ]
    },
    {
     "data": {
      "application/vnd.jupyter.widget-view+json": {
       "model_id": "de4a0365d3f24f739df0a5b2e5dca681",
       "version_major": 2,
       "version_minor": 0
      },
      "text/plain": [
       "  0%|          | 0/2000 [00:00<?, ?it/s]"
      ]
     },
     "metadata": {},
     "output_type": "display_data"
    },
    {
     "name": "stdout",
     "output_type": "stream",
     "text": [
      "0.011539492958525964 None\n"
     ]
    },
    {
     "data": {
      "application/vnd.jupyter.widget-view+json": {
       "model_id": "89faea9cd32e41e191a09578f239599f",
       "version_major": 2,
       "version_minor": 0
      },
      "text/plain": [
       "  0%|          | 0/2000 [00:00<?, ?it/s]"
      ]
     },
     "metadata": {},
     "output_type": "display_data"
    },
    {
     "name": "stdout",
     "output_type": "stream",
     "text": [
      "0.011505152450075247 None\n"
     ]
    },
    {
     "data": {
      "application/vnd.jupyter.widget-view+json": {
       "model_id": "ad675a4fd22b47238ca6a68e6b5ce5ba",
       "version_major": 2,
       "version_minor": 0
      },
      "text/plain": [
       "  0%|          | 0/2000 [00:00<?, ?it/s]"
      ]
     },
     "metadata": {},
     "output_type": "display_data"
    },
    {
     "name": "stdout",
     "output_type": "stream",
     "text": [
      "0.011502690046990834 None\n"
     ]
    },
    {
     "data": {
      "application/vnd.jupyter.widget-view+json": {
       "model_id": "b4a2fcee49084805b9f439520df83050",
       "version_major": 2,
       "version_minor": 0
      },
      "text/plain": [
       "  0%|          | 0/300 [00:00<?, ?it/s]"
      ]
     },
     "metadata": {},
     "output_type": "display_data"
    },
    {
     "name": "stdout",
     "output_type": "stream",
     "text": [
      "3.806583148768781e-05\n"
     ]
    },
    {
     "data": {
      "application/vnd.jupyter.widget-view+json": {
       "model_id": "5483c62c38af4accb4c589b46660345e",
       "version_major": 2,
       "version_minor": 0
      },
      "text/plain": [
       "  0%|          | 0/1000 [00:00<?, ?it/s]"
      ]
     },
     "metadata": {},
     "output_type": "display_data"
    },
    {
     "name": "stdout",
     "output_type": "stream",
     "text": [
      "0.00862671144457633\n"
     ]
    },
    {
     "data": {
      "application/vnd.jupyter.widget-view+json": {
       "model_id": "9ada3773908d4f2cb8ae01a4bc1ae17c",
       "version_major": 2,
       "version_minor": 0
      },
      "text/plain": [
       "  0%|          | 0/2000 [00:00<?, ?it/s]"
      ]
     },
     "metadata": {},
     "output_type": "display_data"
    },
    {
     "name": "stdout",
     "output_type": "stream",
     "text": [
      "0.010186643797810584 None\n"
     ]
    },
    {
     "data": {
      "application/vnd.jupyter.widget-view+json": {
       "model_id": "0453a324a1f446f3b58d367ed56a3e5c",
       "version_major": 2,
       "version_minor": 0
      },
      "text/plain": [
       "  0%|          | 0/2000 [00:00<?, ?it/s]"
      ]
     },
     "metadata": {},
     "output_type": "display_data"
    },
    {
     "name": "stdout",
     "output_type": "stream",
     "text": [
      "0.010425123077742345 None\n"
     ]
    },
    {
     "data": {
      "application/vnd.jupyter.widget-view+json": {
       "model_id": "7bfb4a2b57954f86a6f831fe57bf77d9",
       "version_major": 2,
       "version_minor": 0
      },
      "text/plain": [
       "  0%|          | 0/2000 [00:00<?, ?it/s]"
      ]
     },
     "metadata": {},
     "output_type": "display_data"
    },
    {
     "name": "stdout",
     "output_type": "stream",
     "text": [
      "0.010339159274913735 None\n"
     ]
    },
    {
     "data": {
      "application/vnd.jupyter.widget-view+json": {
       "model_id": "fc2ea480379a49888b212ee786abf3e7",
       "version_major": 2,
       "version_minor": 0
      },
      "text/plain": [
       "  0%|          | 0/2000 [00:00<?, ?it/s]"
      ]
     },
     "metadata": {},
     "output_type": "display_data"
    },
    {
     "name": "stdout",
     "output_type": "stream",
     "text": [
      "0.010308851494164556 None\n"
     ]
    },
    {
     "data": {
      "application/vnd.jupyter.widget-view+json": {
       "model_id": "03bf2611ad5047eb89f40dfe2139d8a4",
       "version_major": 2,
       "version_minor": 0
      },
      "text/plain": [
       "  0%|          | 0/2000 [00:00<?, ?it/s]"
      ]
     },
     "metadata": {},
     "output_type": "display_data"
    },
    {
     "name": "stdout",
     "output_type": "stream",
     "text": [
      "0.010302698323747639 None\n"
     ]
    },
    {
     "data": {
      "application/vnd.jupyter.widget-view+json": {
       "model_id": "c403b5c8bf1345f09d83eb6e99a89b0b",
       "version_major": 2,
       "version_minor": 0
      },
      "text/plain": [
       "  0%|          | 0/2000 [00:00<?, ?it/s]"
      ]
     },
     "metadata": {},
     "output_type": "display_data"
    },
    {
     "name": "stdout",
     "output_type": "stream",
     "text": [
      "0.010277084737009943 None\n"
     ]
    },
    {
     "data": {
      "application/vnd.jupyter.widget-view+json": {
       "model_id": "0a41ceb56ae94524b824640cb880a3a8",
       "version_major": 2,
       "version_minor": 0
      },
      "text/plain": [
       "  0%|          | 0/2000 [00:00<?, ?it/s]"
      ]
     },
     "metadata": {},
     "output_type": "display_data"
    },
    {
     "name": "stdout",
     "output_type": "stream",
     "text": [
      "0.010246579503894382 None\n"
     ]
    },
    {
     "data": {
      "application/vnd.jupyter.widget-view+json": {
       "model_id": "a53a3508416b4d03949aafd33f2ec2e0",
       "version_major": 2,
       "version_minor": 0
      },
      "text/plain": [
       "  0%|          | 0/2000 [00:00<?, ?it/s]"
      ]
     },
     "metadata": {},
     "output_type": "display_data"
    },
    {
     "name": "stdout",
     "output_type": "stream",
     "text": [
      "0.010249221077114928 None\n"
     ]
    },
    {
     "data": {
      "application/vnd.jupyter.widget-view+json": {
       "model_id": "c6b761790f6c4a47844afbbc9fd38e70",
       "version_major": 2,
       "version_minor": 0
      },
      "text/plain": [
       "  0%|          | 0/300 [00:00<?, ?it/s]"
      ]
     },
     "metadata": {},
     "output_type": "display_data"
    },
    {
     "name": "stdout",
     "output_type": "stream",
     "text": [
      "3.806583148768781e-05\n"
     ]
    },
    {
     "data": {
      "application/vnd.jupyter.widget-view+json": {
       "model_id": "63396f5174734054a30b0a7eafffe9c6",
       "version_major": 2,
       "version_minor": 0
      },
      "text/plain": [
       "  0%|          | 0/1000 [00:00<?, ?it/s]"
      ]
     },
     "metadata": {},
     "output_type": "display_data"
    },
    {
     "name": "stdout",
     "output_type": "stream",
     "text": [
      "0.009560591435678237\n"
     ]
    },
    {
     "data": {
      "application/vnd.jupyter.widget-view+json": {
       "model_id": "13f31d81b05a4d43bf729d81557e57ec",
       "version_major": 2,
       "version_minor": 0
      },
      "text/plain": [
       "  0%|          | 0/2000 [00:00<?, ?it/s]"
      ]
     },
     "metadata": {},
     "output_type": "display_data"
    },
    {
     "name": "stdout",
     "output_type": "stream",
     "text": [
      "0.01360244674963955 None\n"
     ]
    },
    {
     "data": {
      "application/vnd.jupyter.widget-view+json": {
       "model_id": "b2236c9469074ec0a6dd87b3a10b3aff",
       "version_major": 2,
       "version_minor": 0
      },
      "text/plain": [
       "  0%|          | 0/2000 [00:00<?, ?it/s]"
      ]
     },
     "metadata": {},
     "output_type": "display_data"
    },
    {
     "name": "stdout",
     "output_type": "stream",
     "text": [
      "0.014077730425120784 None\n"
     ]
    },
    {
     "data": {
      "application/vnd.jupyter.widget-view+json": {
       "model_id": "690d5ad8cd34442180642236c58f3898",
       "version_major": 2,
       "version_minor": 0
      },
      "text/plain": [
       "  0%|          | 0/2000 [00:00<?, ?it/s]"
      ]
     },
     "metadata": {},
     "output_type": "display_data"
    },
    {
     "name": "stdout",
     "output_type": "stream",
     "text": [
      "0.01398158866838317 None\n"
     ]
    },
    {
     "data": {
      "application/vnd.jupyter.widget-view+json": {
       "model_id": "5d0d611f6a57422c8e894489275be1da",
       "version_major": 2,
       "version_minor": 0
      },
      "text/plain": [
       "  0%|          | 0/2000 [00:00<?, ?it/s]"
      ]
     },
     "metadata": {},
     "output_type": "display_data"
    },
    {
     "name": "stdout",
     "output_type": "stream",
     "text": [
      "0.013929995821541445 None\n"
     ]
    },
    {
     "data": {
      "application/vnd.jupyter.widget-view+json": {
       "model_id": "0c115e5af9c34fd6b04b686101016034",
       "version_major": 2,
       "version_minor": 0
      },
      "text/plain": [
       "  0%|          | 0/2000 [00:00<?, ?it/s]"
      ]
     },
     "metadata": {},
     "output_type": "display_data"
    },
    {
     "name": "stdout",
     "output_type": "stream",
     "text": [
      "0.013867450928642526 None\n"
     ]
    },
    {
     "data": {
      "application/vnd.jupyter.widget-view+json": {
       "model_id": "336bea2aca7f48c6a3cd2f9311ac836a",
       "version_major": 2,
       "version_minor": 0
      },
      "text/plain": [
       "  0%|          | 0/2000 [00:00<?, ?it/s]"
      ]
     },
     "metadata": {},
     "output_type": "display_data"
    },
    {
     "name": "stdout",
     "output_type": "stream",
     "text": [
      "0.013809981341476917 None\n"
     ]
    },
    {
     "data": {
      "application/vnd.jupyter.widget-view+json": {
       "model_id": "430a19505f5443f99ec90e1ac3e3fdf5",
       "version_major": 2,
       "version_minor": 0
      },
      "text/plain": [
       "  0%|          | 0/2000 [00:00<?, ?it/s]"
      ]
     },
     "metadata": {},
     "output_type": "display_data"
    },
    {
     "name": "stdout",
     "output_type": "stream",
     "text": [
      "0.013820577517247466 None\n"
     ]
    },
    {
     "data": {
      "application/vnd.jupyter.widget-view+json": {
       "model_id": "55f0db415cae4f389302fd5cd1009814",
       "version_major": 2,
       "version_minor": 0
      },
      "text/plain": [
       "  0%|          | 0/300 [00:00<?, ?it/s]"
      ]
     },
     "metadata": {},
     "output_type": "display_data"
    },
    {
     "name": "stdout",
     "output_type": "stream",
     "text": [
      "3.806583148768781e-05\n"
     ]
    },
    {
     "data": {
      "application/vnd.jupyter.widget-view+json": {
       "model_id": "11cce77d8ab548f4b23d875944011f2c",
       "version_major": 2,
       "version_minor": 0
      },
      "text/plain": [
       "  0%|          | 0/1000 [00:00<?, ?it/s]"
      ]
     },
     "metadata": {},
     "output_type": "display_data"
    },
    {
     "name": "stdout",
     "output_type": "stream",
     "text": [
      "0.009963390080018786\n"
     ]
    },
    {
     "data": {
      "application/vnd.jupyter.widget-view+json": {
       "model_id": "b3c4103f944b409e8f84ab999bcd0dd9",
       "version_major": 2,
       "version_minor": 0
      },
      "text/plain": [
       "  0%|          | 0/2000 [00:00<?, ?it/s]"
      ]
     },
     "metadata": {},
     "output_type": "display_data"
    },
    {
     "name": "stdout",
     "output_type": "stream",
     "text": [
      "0.007585252127238923 None\n"
     ]
    },
    {
     "data": {
      "application/vnd.jupyter.widget-view+json": {
       "model_id": "f5e3ddf521054f57a53061d77bb82e8a",
       "version_major": 2,
       "version_minor": 0
      },
      "text/plain": [
       "  0%|          | 0/2000 [00:00<?, ?it/s]"
      ]
     },
     "metadata": {},
     "output_type": "display_data"
    },
    {
     "name": "stdout",
     "output_type": "stream",
     "text": [
      "0.00805435888987444 None\n"
     ]
    },
    {
     "data": {
      "application/vnd.jupyter.widget-view+json": {
       "model_id": "c033b0bfefb8400bae0da3bd3b05e2a4",
       "version_major": 2,
       "version_minor": 0
      },
      "text/plain": [
       "  0%|          | 0/2000 [00:00<?, ?it/s]"
      ]
     },
     "metadata": {},
     "output_type": "display_data"
    },
    {
     "name": "stdout",
     "output_type": "stream",
     "text": [
      "0.00795365509096339 None\n"
     ]
    },
    {
     "data": {
      "application/vnd.jupyter.widget-view+json": {
       "model_id": "922af3a901ba484b94af121b59978b88",
       "version_major": 2,
       "version_minor": 0
      },
      "text/plain": [
       "  0%|          | 0/2000 [00:00<?, ?it/s]"
      ]
     },
     "metadata": {},
     "output_type": "display_data"
    },
    {
     "name": "stdout",
     "output_type": "stream",
     "text": [
      "0.00790762094250001 None\n"
     ]
    },
    {
     "data": {
      "application/vnd.jupyter.widget-view+json": {
       "model_id": "74690dedf29f4a09a33b4a3315481495",
       "version_major": 2,
       "version_minor": 0
      },
      "text/plain": [
       "  0%|          | 0/2000 [00:00<?, ?it/s]"
      ]
     },
     "metadata": {},
     "output_type": "display_data"
    },
    {
     "name": "stdout",
     "output_type": "stream",
     "text": [
      "0.007852151658977301 None\n"
     ]
    },
    {
     "data": {
      "application/vnd.jupyter.widget-view+json": {
       "model_id": "547b916789854a61b3c5096f635387d7",
       "version_major": 2,
       "version_minor": 0
      },
      "text/plain": [
       "  0%|          | 0/2000 [00:00<?, ?it/s]"
      ]
     },
     "metadata": {},
     "output_type": "display_data"
    },
    {
     "name": "stdout",
     "output_type": "stream",
     "text": [
      "0.007790988597902073 None\n"
     ]
    },
    {
     "data": {
      "application/vnd.jupyter.widget-view+json": {
       "model_id": "0464afe643484a3f80d4657dbbc7da64",
       "version_major": 2,
       "version_minor": 0
      },
      "text/plain": [
       "  0%|          | 0/2000 [00:00<?, ?it/s]"
      ]
     },
     "metadata": {},
     "output_type": "display_data"
    },
    {
     "name": "stdout",
     "output_type": "stream",
     "text": [
      "0.0078072431697411805 None\n"
     ]
    }
   ],
   "source": [
    "n = 3\n",
    "d = 2**n\n",
    "\n",
    "model5_list = []\n",
    "\n",
    "for i in range(5):\n",
    "\n",
    "    inputs_map, inputs_spam, counts_list =  pickle.load(open(f\"../../data/threeQubits_PQC_20usDelay_belem_{i}.p\", \"rb\"))\n",
    "\n",
    "    targets_map = counts_to_probs(counts_list[:2000-6**n])\n",
    "    targets_spam = counts_to_probs(counts_list[2000-6**n:])\n",
    "\n",
    "    data = [inputs_spam, targets_spam, inputs_map, targets_map]\n",
    "\n",
    "    np.random.seed(42)\n",
    "    random.seed(42)\n",
    "    tf.random.set_seed(42)\n",
    "\n",
    "    model = regularized_fit(d, data, num_iter_spam=1000, num_iter_map = 2000, N = 500, start = 25)\n",
    "    model5_list.append(model)"
   ]
  },
  {
   "cell_type": "markdown",
   "metadata": {},
   "source": [
    "# 25 us Delay"
   ]
  },
  {
   "cell_type": "code",
   "execution_count": 190,
   "metadata": {},
   "outputs": [
    {
     "data": {
      "application/vnd.jupyter.widget-view+json": {
       "model_id": "1a55f4ed2db4456c8571643ec0a68054",
       "version_major": 2,
       "version_minor": 0
      },
      "text/plain": [
       "  0%|          | 0/300 [00:00<?, ?it/s]"
      ]
     },
     "metadata": {},
     "output_type": "display_data"
    },
    {
     "name": "stdout",
     "output_type": "stream",
     "text": [
      "3.806583148768781e-05\n"
     ]
    },
    {
     "data": {
      "application/vnd.jupyter.widget-view+json": {
       "model_id": "8c47a0e972dc4ab39e7bc20f5941cbcf",
       "version_major": 2,
       "version_minor": 0
      },
      "text/plain": [
       "  0%|          | 0/1000 [00:00<?, ?it/s]"
      ]
     },
     "metadata": {},
     "output_type": "display_data"
    },
    {
     "name": "stdout",
     "output_type": "stream",
     "text": [
      "0.00898104112119714\n"
     ]
    },
    {
     "data": {
      "application/vnd.jupyter.widget-view+json": {
       "model_id": "3be04ec8273347f888e612709a846548",
       "version_major": 2,
       "version_minor": 0
      },
      "text/plain": [
       "  0%|          | 0/2000 [00:00<?, ?it/s]"
      ]
     },
     "metadata": {},
     "output_type": "display_data"
    },
    {
     "name": "stdout",
     "output_type": "stream",
     "text": [
      "0.022276255087357737 None\n"
     ]
    },
    {
     "data": {
      "application/vnd.jupyter.widget-view+json": {
       "model_id": "962a9945413243788199b57340b0ccd8",
       "version_major": 2,
       "version_minor": 0
      },
      "text/plain": [
       "  0%|          | 0/2000 [00:00<?, ?it/s]"
      ]
     },
     "metadata": {},
     "output_type": "display_data"
    },
    {
     "name": "stdout",
     "output_type": "stream",
     "text": [
      "0.022474883225650964 None\n"
     ]
    },
    {
     "data": {
      "application/vnd.jupyter.widget-view+json": {
       "model_id": "3fbabd7ed0ac4b819b5f50d44b09bf06",
       "version_major": 2,
       "version_minor": 0
      },
      "text/plain": [
       "  0%|          | 0/2000 [00:00<?, ?it/s]"
      ]
     },
     "metadata": {},
     "output_type": "display_data"
    },
    {
     "name": "stdout",
     "output_type": "stream",
     "text": [
      "0.02242031859261526 None\n"
     ]
    },
    {
     "data": {
      "application/vnd.jupyter.widget-view+json": {
       "model_id": "c98a7edd87de4f96bae032d96bc8310b",
       "version_major": 2,
       "version_minor": 0
      },
      "text/plain": [
       "  0%|          | 0/2000 [00:00<?, ?it/s]"
      ]
     },
     "metadata": {},
     "output_type": "display_data"
    },
    {
     "name": "stdout",
     "output_type": "stream",
     "text": [
      "0.022407332676126376 None\n"
     ]
    },
    {
     "data": {
      "application/vnd.jupyter.widget-view+json": {
       "model_id": "081e51cbe33b4fd6b71a1455d5b1b36c",
       "version_major": 2,
       "version_minor": 0
      },
      "text/plain": [
       "  0%|          | 0/2000 [00:00<?, ?it/s]"
      ]
     },
     "metadata": {},
     "output_type": "display_data"
    },
    {
     "name": "stdout",
     "output_type": "stream",
     "text": [
      "0.022381411202766235 None\n"
     ]
    },
    {
     "data": {
      "application/vnd.jupyter.widget-view+json": {
       "model_id": "67b4bb900aca4346b066da03d922d1c0",
       "version_major": 2,
       "version_minor": 0
      },
      "text/plain": [
       "  0%|          | 0/2000 [00:00<?, ?it/s]"
      ]
     },
     "metadata": {},
     "output_type": "display_data"
    },
    {
     "name": "stdout",
     "output_type": "stream",
     "text": [
      "0.022318804567235194 None\n"
     ]
    },
    {
     "data": {
      "application/vnd.jupyter.widget-view+json": {
       "model_id": "1b598e7c401a4a99b28ced6312099f00",
       "version_major": 2,
       "version_minor": 0
      },
      "text/plain": [
       "  0%|          | 0/2000 [00:00<?, ?it/s]"
      ]
     },
     "metadata": {},
     "output_type": "display_data"
    },
    {
     "name": "stdout",
     "output_type": "stream",
     "text": [
      "0.0223397324828878 None\n"
     ]
    },
    {
     "data": {
      "application/vnd.jupyter.widget-view+json": {
       "model_id": "c2fb2f06352d4052b47b4f3e1a34e849",
       "version_major": 2,
       "version_minor": 0
      },
      "text/plain": [
       "  0%|          | 0/300 [00:00<?, ?it/s]"
      ]
     },
     "metadata": {},
     "output_type": "display_data"
    },
    {
     "name": "stdout",
     "output_type": "stream",
     "text": [
      "3.806583148768781e-05\n"
     ]
    },
    {
     "data": {
      "application/vnd.jupyter.widget-view+json": {
       "model_id": "438c489ad24649dd9a9fc87c90402f9e",
       "version_major": 2,
       "version_minor": 0
      },
      "text/plain": [
       "  0%|          | 0/1000 [00:00<?, ?it/s]"
      ]
     },
     "metadata": {},
     "output_type": "display_data"
    },
    {
     "name": "stdout",
     "output_type": "stream",
     "text": [
      "0.009235262890597142\n"
     ]
    },
    {
     "data": {
      "application/vnd.jupyter.widget-view+json": {
       "model_id": "06f0f065cc844bbf92b9b66dbab91e44",
       "version_major": 2,
       "version_minor": 0
      },
      "text/plain": [
       "  0%|          | 0/2000 [00:00<?, ?it/s]"
      ]
     },
     "metadata": {},
     "output_type": "display_data"
    },
    {
     "name": "stdout",
     "output_type": "stream",
     "text": [
      "0.013542298237968991 None\n"
     ]
    },
    {
     "data": {
      "application/vnd.jupyter.widget-view+json": {
       "model_id": "c2e83429c72f44568af8936a12567504",
       "version_major": 2,
       "version_minor": 0
      },
      "text/plain": [
       "  0%|          | 0/2000 [00:00<?, ?it/s]"
      ]
     },
     "metadata": {},
     "output_type": "display_data"
    },
    {
     "name": "stdout",
     "output_type": "stream",
     "text": [
      "0.013716063267128056 None\n"
     ]
    },
    {
     "data": {
      "application/vnd.jupyter.widget-view+json": {
       "model_id": "6bd10389af2e4c5a99a49a5576f5761c",
       "version_major": 2,
       "version_minor": 0
      },
      "text/plain": [
       "  0%|          | 0/2000 [00:00<?, ?it/s]"
      ]
     },
     "metadata": {},
     "output_type": "display_data"
    },
    {
     "name": "stdout",
     "output_type": "stream",
     "text": [
      "0.01367959929696433 None\n"
     ]
    },
    {
     "data": {
      "application/vnd.jupyter.widget-view+json": {
       "model_id": "ab3c547699cc46adbd725f3e31ec0e69",
       "version_major": 2,
       "version_minor": 0
      },
      "text/plain": [
       "  0%|          | 0/2000 [00:00<?, ?it/s]"
      ]
     },
     "metadata": {},
     "output_type": "display_data"
    },
    {
     "name": "stdout",
     "output_type": "stream",
     "text": [
      "0.013675457748795668 None\n"
     ]
    },
    {
     "data": {
      "application/vnd.jupyter.widget-view+json": {
       "model_id": "0a74801567d74a18a32fb7c6ce9db3a7",
       "version_major": 2,
       "version_minor": 0
      },
      "text/plain": [
       "  0%|          | 0/300 [00:00<?, ?it/s]"
      ]
     },
     "metadata": {},
     "output_type": "display_data"
    },
    {
     "name": "stdout",
     "output_type": "stream",
     "text": [
      "3.806583148768781e-05\n"
     ]
    },
    {
     "data": {
      "application/vnd.jupyter.widget-view+json": {
       "model_id": "3f4ad7043032411b9d3962b70cbc24eb",
       "version_major": 2,
       "version_minor": 0
      },
      "text/plain": [
       "  0%|          | 0/1000 [00:00<?, ?it/s]"
      ]
     },
     "metadata": {},
     "output_type": "display_data"
    },
    {
     "name": "stdout",
     "output_type": "stream",
     "text": [
      "0.009292336566737476\n"
     ]
    },
    {
     "data": {
      "application/vnd.jupyter.widget-view+json": {
       "model_id": "66aca2b1086545e7a48aa5bd3762cd8d",
       "version_major": 2,
       "version_minor": 0
      },
      "text/plain": [
       "  0%|          | 0/2000 [00:00<?, ?it/s]"
      ]
     },
     "metadata": {},
     "output_type": "display_data"
    },
    {
     "name": "stdout",
     "output_type": "stream",
     "text": [
      "0.019121197677605582 None\n"
     ]
    },
    {
     "data": {
      "application/vnd.jupyter.widget-view+json": {
       "model_id": "ed1e926c8d604da48d3603abf0f88cd5",
       "version_major": 2,
       "version_minor": 0
      },
      "text/plain": [
       "  0%|          | 0/2000 [00:00<?, ?it/s]"
      ]
     },
     "metadata": {},
     "output_type": "display_data"
    },
    {
     "name": "stdout",
     "output_type": "stream",
     "text": [
      "0.019353522373732113 None\n"
     ]
    },
    {
     "data": {
      "application/vnd.jupyter.widget-view+json": {
       "model_id": "41bab59df13f4f9d977de61beff75657",
       "version_major": 2,
       "version_minor": 0
      },
      "text/plain": [
       "  0%|          | 0/2000 [00:00<?, ?it/s]"
      ]
     },
     "metadata": {},
     "output_type": "display_data"
    },
    {
     "name": "stdout",
     "output_type": "stream",
     "text": [
      "0.019314929490131062 None\n"
     ]
    },
    {
     "data": {
      "application/vnd.jupyter.widget-view+json": {
       "model_id": "ea5b401358bf47519ee7fe6939178ec3",
       "version_major": 2,
       "version_minor": 0
      },
      "text/plain": [
       "  0%|          | 0/2000 [00:00<?, ?it/s]"
      ]
     },
     "metadata": {},
     "output_type": "display_data"
    },
    {
     "name": "stdout",
     "output_type": "stream",
     "text": [
      "0.019273790972838732 None\n"
     ]
    },
    {
     "data": {
      "application/vnd.jupyter.widget-view+json": {
       "model_id": "95aeb7bf4c2c4078b2a32b5d863a8b41",
       "version_major": 2,
       "version_minor": 0
      },
      "text/plain": [
       "  0%|          | 0/2000 [00:00<?, ?it/s]"
      ]
     },
     "metadata": {},
     "output_type": "display_data"
    },
    {
     "name": "stdout",
     "output_type": "stream",
     "text": [
      "0.019244497945212387 None\n"
     ]
    },
    {
     "data": {
      "application/vnd.jupyter.widget-view+json": {
       "model_id": "33271cea36dd4209aed5476cc75e966f",
       "version_major": 2,
       "version_minor": 0
      },
      "text/plain": [
       "  0%|          | 0/2000 [00:00<?, ?it/s]"
      ]
     },
     "metadata": {},
     "output_type": "display_data"
    },
    {
     "name": "stdout",
     "output_type": "stream",
     "text": [
      "0.019240918426857948 None\n"
     ]
    },
    {
     "data": {
      "application/vnd.jupyter.widget-view+json": {
       "model_id": "bb2b08d36239471ca4698b7a22110039",
       "version_major": 2,
       "version_minor": 0
      },
      "text/plain": [
       "  0%|          | 0/300 [00:00<?, ?it/s]"
      ]
     },
     "metadata": {},
     "output_type": "display_data"
    },
    {
     "name": "stdout",
     "output_type": "stream",
     "text": [
      "3.806583148768781e-05\n"
     ]
    },
    {
     "data": {
      "application/vnd.jupyter.widget-view+json": {
       "model_id": "6b5a408435d0421e807b7780fb202a4a",
       "version_major": 2,
       "version_minor": 0
      },
      "text/plain": [
       "  0%|          | 0/1000 [00:00<?, ?it/s]"
      ]
     },
     "metadata": {},
     "output_type": "display_data"
    },
    {
     "name": "stdout",
     "output_type": "stream",
     "text": [
      "0.009115962891386548\n"
     ]
    },
    {
     "data": {
      "application/vnd.jupyter.widget-view+json": {
       "model_id": "61dcd509b4d14b12b908bf3f9a1a5f7a",
       "version_major": 2,
       "version_minor": 0
      },
      "text/plain": [
       "  0%|          | 0/2000 [00:00<?, ?it/s]"
      ]
     },
     "metadata": {},
     "output_type": "display_data"
    },
    {
     "name": "stdout",
     "output_type": "stream",
     "text": [
      "0.03439525413173796 None\n"
     ]
    },
    {
     "data": {
      "application/vnd.jupyter.widget-view+json": {
       "model_id": "170acf9f79de4494bb2efc892fe74444",
       "version_major": 2,
       "version_minor": 0
      },
      "text/plain": [
       "  0%|          | 0/2000 [00:00<?, ?it/s]"
      ]
     },
     "metadata": {},
     "output_type": "display_data"
    },
    {
     "name": "stdout",
     "output_type": "stream",
     "text": [
      "0.03477987355951975 None\n"
     ]
    },
    {
     "data": {
      "application/vnd.jupyter.widget-view+json": {
       "model_id": "57ae045ffdde4271bc528190f643bc1e",
       "version_major": 2,
       "version_minor": 0
      },
      "text/plain": [
       "  0%|          | 0/2000 [00:00<?, ?it/s]"
      ]
     },
     "metadata": {},
     "output_type": "display_data"
    },
    {
     "name": "stdout",
     "output_type": "stream",
     "text": [
      "0.03469000770167664 None\n"
     ]
    },
    {
     "data": {
      "application/vnd.jupyter.widget-view+json": {
       "model_id": "4730d2a5184b4f87914e4c0fbc8da918",
       "version_major": 2,
       "version_minor": 0
      },
      "text/plain": [
       "  0%|          | 0/2000 [00:00<?, ?it/s]"
      ]
     },
     "metadata": {},
     "output_type": "display_data"
    },
    {
     "name": "stdout",
     "output_type": "stream",
     "text": [
      "0.034609750106756876 None\n"
     ]
    },
    {
     "data": {
      "application/vnd.jupyter.widget-view+json": {
       "model_id": "3c8c70ee1fa6451cbe7f7eac8b73f277",
       "version_major": 2,
       "version_minor": 0
      },
      "text/plain": [
       "  0%|          | 0/2000 [00:00<?, ?it/s]"
      ]
     },
     "metadata": {},
     "output_type": "display_data"
    },
    {
     "name": "stdout",
     "output_type": "stream",
     "text": [
      "0.03462567582020627 None\n"
     ]
    },
    {
     "data": {
      "application/vnd.jupyter.widget-view+json": {
       "model_id": "7907493ef66c44a88f051c63c6866453",
       "version_major": 2,
       "version_minor": 0
      },
      "text/plain": [
       "  0%|          | 0/300 [00:00<?, ?it/s]"
      ]
     },
     "metadata": {},
     "output_type": "display_data"
    },
    {
     "name": "stdout",
     "output_type": "stream",
     "text": [
      "3.806583148768781e-05\n"
     ]
    },
    {
     "data": {
      "application/vnd.jupyter.widget-view+json": {
       "model_id": "4a1eb04974934eec9dbe1f540be00113",
       "version_major": 2,
       "version_minor": 0
      },
      "text/plain": [
       "  0%|          | 0/1000 [00:00<?, ?it/s]"
      ]
     },
     "metadata": {},
     "output_type": "display_data"
    },
    {
     "name": "stdout",
     "output_type": "stream",
     "text": [
      "0.00883904949823907\n"
     ]
    },
    {
     "data": {
      "application/vnd.jupyter.widget-view+json": {
       "model_id": "ddcbfa1412e34010b8e28f85125e2088",
       "version_major": 2,
       "version_minor": 0
      },
      "text/plain": [
       "  0%|          | 0/2000 [00:00<?, ?it/s]"
      ]
     },
     "metadata": {},
     "output_type": "display_data"
    },
    {
     "name": "stdout",
     "output_type": "stream",
     "text": [
      "0.007509161343091643 None\n"
     ]
    },
    {
     "data": {
      "application/vnd.jupyter.widget-view+json": {
       "model_id": "73c40f2176c64057bf1b7ef29741b9f2",
       "version_major": 2,
       "version_minor": 0
      },
      "text/plain": [
       "  0%|          | 0/2000 [00:00<?, ?it/s]"
      ]
     },
     "metadata": {},
     "output_type": "display_data"
    },
    {
     "name": "stdout",
     "output_type": "stream",
     "text": [
      "0.007925783742642578 None\n"
     ]
    },
    {
     "data": {
      "application/vnd.jupyter.widget-view+json": {
       "model_id": "db93c7f3a42d4269a99284ab2bf006c7",
       "version_major": 2,
       "version_minor": 0
      },
      "text/plain": [
       "  0%|          | 0/2000 [00:00<?, ?it/s]"
      ]
     },
     "metadata": {},
     "output_type": "display_data"
    },
    {
     "name": "stdout",
     "output_type": "stream",
     "text": [
      "0.007871228612782446 None\n"
     ]
    },
    {
     "data": {
      "application/vnd.jupyter.widget-view+json": {
       "model_id": "589650884d09461085db3c8bf4e88207",
       "version_major": 2,
       "version_minor": 0
      },
      "text/plain": [
       "  0%|          | 0/2000 [00:00<?, ?it/s]"
      ]
     },
     "metadata": {},
     "output_type": "display_data"
    },
    {
     "name": "stdout",
     "output_type": "stream",
     "text": [
      "0.007790936037677725 None\n"
     ]
    },
    {
     "data": {
      "application/vnd.jupyter.widget-view+json": {
       "model_id": "75a5617a83444a3e8a6e2197582f8050",
       "version_major": 2,
       "version_minor": 0
      },
      "text/plain": [
       "  0%|          | 0/2000 [00:00<?, ?it/s]"
      ]
     },
     "metadata": {},
     "output_type": "display_data"
    },
    {
     "name": "stdout",
     "output_type": "stream",
     "text": [
      "0.007775375457168068 None\n"
     ]
    },
    {
     "data": {
      "application/vnd.jupyter.widget-view+json": {
       "model_id": "0f9e57c18b80436882cf05d7a1ec454a",
       "version_major": 2,
       "version_minor": 0
      },
      "text/plain": [
       "  0%|          | 0/2000 [00:00<?, ?it/s]"
      ]
     },
     "metadata": {},
     "output_type": "display_data"
    },
    {
     "name": "stdout",
     "output_type": "stream",
     "text": [
      "0.007725859360644715 None\n"
     ]
    },
    {
     "data": {
      "application/vnd.jupyter.widget-view+json": {
       "model_id": "54c1b8b83cd54f8da915b5c2c96802fa",
       "version_major": 2,
       "version_minor": 0
      },
      "text/plain": [
       "  0%|          | 0/2000 [00:00<?, ?it/s]"
      ]
     },
     "metadata": {},
     "output_type": "display_data"
    },
    {
     "name": "stdout",
     "output_type": "stream",
     "text": [
      "0.0076950970971433694 None\n"
     ]
    },
    {
     "data": {
      "application/vnd.jupyter.widget-view+json": {
       "model_id": "65c2d775594a4e9494f0817185e368ee",
       "version_major": 2,
       "version_minor": 0
      },
      "text/plain": [
       "  0%|          | 0/2000 [00:00<?, ?it/s]"
      ]
     },
     "metadata": {},
     "output_type": "display_data"
    },
    {
     "name": "stdout",
     "output_type": "stream",
     "text": [
      "0.007642245080449725 None\n"
     ]
    },
    {
     "data": {
      "application/vnd.jupyter.widget-view+json": {
       "model_id": "b0e888a366d241a691802d1d6fd29675",
       "version_major": 2,
       "version_minor": 0
      },
      "text/plain": [
       "  0%|          | 0/2000 [00:00<?, ?it/s]"
      ]
     },
     "metadata": {},
     "output_type": "display_data"
    },
    {
     "name": "stdout",
     "output_type": "stream",
     "text": [
      "0.007605390559540048 None\n"
     ]
    },
    {
     "data": {
      "application/vnd.jupyter.widget-view+json": {
       "model_id": "c232a0bec47e4075a45705449638039b",
       "version_major": 2,
       "version_minor": 0
      },
      "text/plain": [
       "  0%|          | 0/2000 [00:00<?, ?it/s]"
      ]
     },
     "metadata": {},
     "output_type": "display_data"
    },
    {
     "name": "stdout",
     "output_type": "stream",
     "text": [
      "0.0076239338984801395 None\n"
     ]
    }
   ],
   "source": [
    "n = 3\n",
    "d = 2**n\n",
    "\n",
    "model6_list = []\n",
    "\n",
    "for i in range(5):\n",
    "\n",
    "    inputs_map, inputs_spam, counts_list =  pickle.load(open(f\"../../data/threeQubits_PQC_25usDelay_belem_{i}.p\", \"rb\"))\n",
    "\n",
    "    targets_map = counts_to_probs(counts_list[:2000-6**n])\n",
    "    targets_spam = counts_to_probs(counts_list[2000-6**n:])\n",
    "\n",
    "    data = [inputs_spam, targets_spam, inputs_map, targets_map]\n",
    "\n",
    "    np.random.seed(42)\n",
    "    random.seed(42)\n",
    "    tf.random.set_seed(42)\n",
    "\n",
    "    model = regularized_fit(d, data, num_iter_spam=1000, num_iter_map = 2000, N = 500, start = 25)\n",
    "    model6_list.append(model)"
   ]
  },
  {
   "cell_type": "code",
   "execution_count": 5,
   "metadata": {},
   "outputs": [],
   "source": [
    "#data1 = [model.channel for model in model1_list]\n",
    "#data2 = [model.channel for model in model2_list]\n",
    "#data3 = [model.channel for model in model3_list]\n",
    "#data4 = [model.channel for model in model4_list]\n",
    "data5 = [model.channel for model in model5_list]\n",
    "#data6 = [model.channel for model in model6_list]"
   ]
  },
  {
   "cell_type": "code",
   "execution_count": 6,
   "metadata": {},
   "outputs": [
    {
     "name": "stderr",
     "output_type": "stream",
     "text": [
      "C:\\Users\\krist\\anaconda3\\envs\\env_qiskit\\lib\\site-packages\\matplotlib\\cbook\\__init__.py:1298: ComplexWarning: Casting complex values to real discards the imaginary part\n",
      "  return np.asarray(x, float)\n"
     ]
    },
    {
     "data": {
      "image/png": "[encoded data removed]",
      "text/plain": [
       "<Figure size 2400x2400 with 1 Axes>"
      ]
     },
     "metadata": {},
     "output_type": "display_data"
    }
   ],
   "source": [
    "t = np.linspace(0, 2*np.pi, 100)\n",
    "circle = [np.sin(t), np.cos(t)]\n",
    "\n",
    "#spectrum1_list = [channel_spectrum(channel) for channel in data1]\n",
    "#spectrum2_list = [channel_spectrum(channel) for channel in data2]\n",
    "#spectrum3_list = [channel_spectrum(channel) for channel in data3]\n",
    "#spectrum4_list = [channel_spectrum(channel) for channel in data4]\n",
    "spectrum5_list = [channel_spectrum(channel) for channel in data5]\n",
    "#spectrum6_list = [channel_spectrum(channel) for channel in data6]\n",
    "\n",
    "fig = plt.figure(figsize=(8,8), dpi = 300, facecolor='w', edgecolor='k')\n",
    "ax = fig.add_subplot(111)\n",
    "ax.set_aspect(1)\n",
    "plt.plot(*circle, \"k\")\n",
    "\n",
    "#for spectrum in spectrum1_list:\n",
    "#    plt.plot(spectrum[:,0], spectrum[:,1], \"bo\")\n",
    "\n",
    "#for spectrum in spectrum2_list:\n",
    "#    plt.plot(spectrum[:,0], spectrum[:,1], \"ro\")\n",
    "\n",
    "#for spectrum in spectrum3_list:\n",
    "#    plt.plot(spectrum[:,0], spectrum[:,1], \"go\")\n",
    "\n",
    "#for spectrum in spectrum4_list:\n",
    "#    plt.plot(spectrum[:,0], spectrum[:,1], \"co\")\n",
    "\n",
    "for spectrum in spectrum5_list:\n",
    "    plt.plot(spectrum[:,0], spectrum[:,1], \"yo\")\n",
    "\n",
    "#for spectrum in spectrum6_list:\n",
    "#    plt.plot(spectrum[:,0], spectrum[:,1], \"ko\")\n",
    "\n",
    "plt.show()"
   ]
  },
  {
   "cell_type": "code",
   "execution_count": 211,
   "metadata": {},
   "outputs": [
    {
     "data": {
      "image/png": "[encoded data removed]",
      "text/plain": [
       "<Figure size 432x288 with 1 Axes>"
      ]
     },
     "metadata": {
      "needs_background": "light"
     },
     "output_type": "display_data"
    }
   ],
   "source": [
    "bins = np.logspace(-2, 1, 40)\n",
    "\n",
    "eig1 = np.real(np.concatenate([choi_spectrum(model.channel) for model in model1_list]))\n",
    "eig2 = np.real(np.concatenate([choi_spectrum(model.channel) for model in model2_list]))\n",
    "eig3 = np.real(np.concatenate([choi_spectrum(model.channel) for model in model3_list]))\n",
    "eig4 = np.real(np.concatenate([choi_spectrum(model.channel) for model in model4_list]))\n",
    "eig5 = np.real(np.concatenate([choi_spectrum(model.channel) for model in model5_list]))\n",
    "eig6 = np.real(np.concatenate([choi_spectrum(model.channel) for model in model6_list]))\n",
    "\n",
    "plt.hist(eig1, bins=bins, alpha=0.9)\n",
    "#plt.hist(eig2, bins=bins, alpha=0.5)\n",
    "#plt.hist(eig3, bins=bins, alpha=0.5)\n",
    "plt.hist(eig4, bins=bins, alpha=0.9)\n",
    "#plt.hist(eig5, bins=bins, alpha=0.5)\n",
    "plt.hist(eig6, bins=bins, alpha=0.9)\n",
    "\n",
    "plt.xscale(\"log\")\n",
    "plt.show()"
   ]
  },
  {
   "cell_type": "code",
   "execution_count": 7,
   "metadata": {},
   "outputs": [],
   "source": [
    "def spectrum_to_radial(spectrum):\n",
    "    radial = tf.norm(spectrum, axis=1)\n",
    "    return radial\n",
    "\n",
    "def find_outer_inner_R(spectrum_list):\n",
    "    L = len(spectrum_list)\n",
    "    radial_list = np.array([np.sort(spectrum_to_radial(spectrum)) for spectrum in spectrum_list])\n",
    "    R_minus = np.mean(radial_list[:,0])\n",
    "    R_minus_std = np.std(radial_list[:,0])\n",
    "    R_plus = np.mean(radial_list[:,-1])\n",
    "    R_plus_std = np.std(radial_list[:,-1])\n",
    "    return R_plus, R_minus, R_plus_std, R_minus_std"
   ]
  },
  {
   "cell_type": "code",
   "execution_count": 201,
   "metadata": {},
   "outputs": [],
   "source": [
    "#R_p1, R_m1, R_pStd1, R_mStd1 = find_outer_inner_R([spectrum1_list[i][:-1] for i in range(5)])\n",
    "#R_p2, R_m2, R_pStd2, R_mStd2 = find_outer_inner_R([spectrum2_list[i][:-1] for i in range(5)])\n",
    "#R_p3, R_m3, R_pStd3, R_mStd3 = find_outer_inner_R([spectrum3_list[i][:-1] for i in range(5)])\n",
    "#R_p4, R_m4, R_pStd4, R_mStd4 = find_outer_inner_R([spectrum4_list[i][:-1] for i in range(5)])\n",
    "R_p5, R_m5, R_pStd5, R_mStd5 = find_outer_inner_R([spectrum5_list[i][:-1] for i in range(5)])\n",
    "#R_p6, R_m6, R_pStd6, R_mStd6 = find_outer_inner_R([spectrum6_list[i][:-1] for i in range(5)])"
   ]
  },
  {
   "cell_type": "code",
   "execution_count": 202,
   "metadata": {},
   "outputs": [],
   "source": [
    "x = [0, 5, 10, 15, 20, 25]\n",
    "R_plus = [R_p1, R_p2, R_p3, R_p4, R_p5, R_p6]\n",
    "R_minus = [R_m1, R_m2, R_m3, R_m4, R_m5, R_m6]\n",
    "R_plus_std = [R_pStd1, R_pStd2, R_pStd3, R_pStd4, R_pStd5, R_pStd6]\n",
    "R_minus_std = [R_mStd1, R_mStd2, R_mStd3, R_mStd4, R_mStd5, R_mStd6]"
   ]
  },
  {
   "cell_type": "code",
   "execution_count": 214,
   "metadata": {},
   "outputs": [
    {
     "data": {
      "image/png": "[encoded data removed]",
      "text/plain": [
       "<Figure size 1800x1200 with 1 Axes>"
      ]
     },
     "metadata": {},
     "output_type": "display_data"
    }
   ],
   "source": [
    "fig = plt.figure(figsize=(6,4), dpi = 300, facecolor='w', edgecolor='k')\n",
    "\n",
    "plt.errorbar(x, R_plus, yerr=R_plus_std, fmt=\"o\")\n",
    "plt.errorbar(x, R_minus, yerr=R_minus_std, fmt=\"o\")\n",
    "plt.ylim([0,1])\n",
    "plt.grid()\n",
    "plt.xlabel(\"$\\mu$s\")\n",
    "plt.ylabel(\"Radius\")\n",
    "plt.legend([\"Outer Radius\", \"Inner Radius\"])\n",
    "plt.show()"
   ]
  },
  {
   "cell_type": "markdown",
   "metadata": {},
   "source": [
    "## Entangling Dissipation"
   ]
  },
  {
   "cell_type": "code",
   "execution_count": 5,
   "metadata": {},
   "outputs": [
    {
     "data": {
      "application/vnd.jupyter.widget-view+json": {
       "model_id": "8d6df5d6975b4904a1f433e3bb9fc526",
       "version_major": 2,
       "version_minor": 0
      },
      "text/plain": [
       "  0%|          | 0/300 [00:00<?, ?it/s]"
      ]
     },
     "metadata": {},
     "output_type": "display_data"
    },
    {
     "name": "stdout",
     "output_type": "stream",
     "text": [
      "9.059889806118323e-05\n"
     ]
    },
    {
     "data": {
      "application/vnd.jupyter.widget-view+json": {
       "model_id": "38441f22693a40fa8d5595c352b15b5d",
       "version_major": 2,
       "version_minor": 0
      },
      "text/plain": [
       "  0%|          | 0/1000 [00:00<?, ?it/s]"
      ]
     },
     "metadata": {},
     "output_type": "display_data"
    },
    {
     "name": "stdout",
     "output_type": "stream",
     "text": [
      "0.010216302971883121\n"
     ]
    },
    {
     "data": {
      "application/vnd.jupyter.widget-view+json": {
       "model_id": "e953e70149e04cb48536d3d733dd2f10",
       "version_major": 2,
       "version_minor": 0
      },
      "text/plain": [
       "  0%|          | 0/2000 [00:00<?, ?it/s]"
      ]
     },
     "metadata": {},
     "output_type": "display_data"
    },
    {
     "name": "stdout",
     "output_type": "stream",
     "text": [
      "0.009233132282428988 None\n"
     ]
    }
   ],
   "source": [
    "inputs_map, inputs_spam, counts_list =  pickle.load(open(f\"../../data/threeQubits_decay_belem.p\", \"rb\"))\n",
    "n=3\n",
    "d=2**n\n",
    "\n",
    "\n",
    "targets_map = counts_to_probs(counts_list[:2000-6**n])\n",
    "targets_spam = counts_to_probs(counts_list[2000-6**n:])\n",
    "\n",
    "data = [inputs_spam, targets_spam, inputs_map, targets_map]\n",
    "\n",
    "inputs_spam, targets_spam, inputs_map, targets_map = data\n",
    "    \n",
    "spam = SPAM(d=d, \n",
    "            use_corr_mat = True,\n",
    "            optimizer = tf.optimizers.Adam(learning_rate=0.01),\n",
    "            )\n",
    "\n",
    "spam.pretrain(targets = [init_ideal(d), povm_ideal(d)],\n",
    "              num_iter = 300,\n",
    "              verbose = False,\n",
    "              )\n",
    "\n",
    "spam.train(inputs = inputs_spam,\n",
    "           targets = targets_spam,\n",
    "           num_iter = 1000,\n",
    "           verbose = False,\n",
    "          )\n",
    "\n",
    "model = ModelQuantumMap(channel = KrausMap(d=d, \n",
    "                                               rank=16,\n",
    "                                               spam = spam,\n",
    "                                              ),\n",
    "                           loss_function = ProbabilityMSE(),\n",
    "                           optimizer = tf.optimizers.Adam(learning_rate=0.01),\n",
    "                           logger = Logger(loss_function = ProbabilityMSE(), verbose=False),\n",
    "                           )\n",
    "\n",
    "model.train(inputs = inputs_map,\n",
    "            targets = targets_map,\n",
    "            num_iter = 2000,\n",
    "            N = 500,\n",
    "            )  "
   ]
  },
  {
   "cell_type": "code",
   "execution_count": 13,
   "metadata": {},
   "outputs": [],
   "source": [
    "X, A, B = generate_ginibre(2, 2, trainable=True)\n",
    "X, C, D = generate_ginibre(2, 2, trainable=True)\n",
    "X, E, F = generate_ginibre(2, 2, trainable=True)"
   ]
  },
  {
   "cell_type": "code",
   "execution_count": 7,
   "metadata": {},
   "outputs": [
    {
     "name": "stdout",
     "output_type": "stream",
     "text": [
      "-0.12289562705201908\n",
      "-0.12642606375729662\n",
      "-0.1298502295909535\n",
      "-0.13316246612285354\n",
      "-0.13636012748386533\n",
      "-0.13944132572892115\n",
      "-0.14240330494612405\n",
      "-0.14524335085224582\n",
      "-0.1479591747991709\n",
      "-0.15054881812222357\n",
      "-0.15301079973717957\n",
      "-0.15534426732385362\n",
      "-0.15754914410909276\n",
      "-0.159626195829168\n",
      "-0.1615770416915094\n",
      "-0.1634040641934596\n",
      "-0.1651101975337997\n",
      "-0.16669870330246458\n",
      "-0.16817297954743257\n",
      "-0.1695365195345231\n",
      "-0.17079303497545106\n",
      "-0.17194663626624473\n",
      "-0.17300199369641853\n",
      "-0.17396437668271314\n",
      "-0.17483954560902182\n",
      "-0.17563358792819903\n",
      "-0.1763527234756108\n",
      "-0.1770031702200699\n",
      "-0.1775910349812279\n",
      "-0.1781222422412044\n",
      "-0.17860248574931423\n",
      "-0.17903720622650265\n",
      "-0.1794315943979059\n",
      "-0.17979059158692198\n",
      "-0.18011889465735922\n",
      "-0.18042095566664187\n",
      "-0.18070096983215714\n",
      "-0.1809628472174519\n",
      "-0.18121017383893828\n",
      "-0.181446173859854\n",
      "-0.18167368100426073\n",
      "-0.18189512986050152\n",
      "-0.1821125717970449\n",
      "-0.1823277086704913\n",
      "-0.18254193500934504\n",
      "-0.18275637865019134\n",
      "-0.18297192863590983\n",
      "-0.18318924836808193\n",
      "-0.1834087840383909\n",
      "-0.18363077204990738\n",
      "-0.1838552586715818\n",
      "-0.18408212633161752\n",
      "-0.1843111362817504\n",
      "-0.18454196752652302\n",
      "-0.18477424946712867\n",
      "-0.18500758510745316\n",
      "-0.18524155799864406\n",
      "-0.1854757386262706\n",
      "-0.18570968456544892\n",
      "-0.185942948387735\n",
      "-0.1861750930407524\n",
      "-0.1864057064743721\n",
      "-0.18663441510111556\n",
      "-0.18686089540824535\n",
      "-0.18708487394087625\n",
      "-0.1873061243863639\n",
      "-0.1875244622912031\n",
      "-0.18773974276119412\n",
      "-0.18795185899055772\n",
      "-0.1881607440160897\n",
      "-0.188366368585391\n",
      "-0.18856874049756195\n",
      "-0.18876789722257328\n",
      "-0.18896390198150373\n",
      "-0.18915683344592352\n",
      "-0.18934678087658582\n",
      "-0.1895338388229673\n",
      "-0.18971810203670936\n",
      "-0.18989966205024572\n",
      "-0.19007860312654615\n",
      "-0.190254999458065\n",
      "-0.19042891337088852\n",
      "-0.19060039311616098\n",
      "-0.19076947218243123\n",
      "-0.19093616713796308\n",
      "-0.19110048167861265\n",
      "-0.19126240526097393\n",
      "-0.1914219166168647\n",
      "-0.19157898565044731\n",
      "-0.19173357664124377\n",
      "-0.19188565048611655\n",
      "-0.19203516731704176\n",
      "-0.19218208881742935\n",
      "-0.19232637910101183\n",
      "-0.19246800783305137\n",
      "-0.1926069499160488\n",
      "-0.19274318798225756\n",
      "-0.19287671333162365\n",
      "-0.1930075252797354\n",
      "-0.19313563142807583\n",
      "-0.19326104577166678\n",
      "-0.1933837885706362\n",
      "-0.19350388528068682\n",
      "-0.19362136601570815\n",
      "-0.19373626424353163\n",
      "-0.19384861711221882\n",
      "-0.19395846193120841\n",
      "-0.194065837088847\n",
      "-0.1941707807949446\n",
      "-0.19427333136539754\n",
      "-0.19437352549320588\n",
      "-0.19447139945915298\n",
      "-0.19456698829574484\n",
      "-0.19466032696894633\n",
      "-0.19475144879571088\n",
      "-0.19484038739638754\n",
      "-0.19492717565891918\n",
      "-0.19501184650099374\n",
      "-0.19509443332443377\n",
      "-0.1951749701982998\n",
      "-0.19525349127908848\n",
      "-0.19535384763712282\n",
      "-0.1955018545990696\n",
      "-0.19567043136000348\n",
      "-0.1958513470553594\n",
      "-0.19603855729443848\n",
      "-0.19622735199062363\n",
      "-0.19641402811482872\n",
      "-0.19659572743570433\n",
      "-0.1967703419561072\n",
      "-0.19693644639513114\n",
      "-0.19709323359013\n",
      "-0.19724043348941658\n",
      "-0.19737821139782105\n",
      "-0.1975070483766524\n",
      "-0.1976276166983735\n",
      "-0.19774066081656955\n",
      "-0.19784689542453696\n",
      "-0.1979469331339407\n",
      "-0.19804124244144206\n",
      "-0.19813014147155406\n",
      "-0.19821381713510325\n",
      "-0.1982923616865854\n",
      "-0.19836581578752396\n",
      "-0.1984342054519337\n",
      "-0.1984975717491589\n",
      "-0.1985559911483082\n",
      "-0.1986095893853361\n",
      "-0.19865854849242484\n",
      "-0.19870310824168558\n",
      "-0.19874356049988043\n",
      "-0.19878023895542446\n",
      "-0.19881350525015484\n",
      "-0.1988437348617762\n",
      "-0.1988713025275625\n",
      "-0.1988965698787684\n",
      "-0.19891987340545453\n",
      "-0.19894151501262053\n",
      "-0.19896175577950787\n",
      "-0.1989808127209366\n",
      "-0.1989988606525288\n",
      "-0.19901603492660397\n",
      "-0.19903243693251388\n",
      "-0.19904813949352515\n",
      "-0.199063193839259\n",
      "-0.19907763555961683\n",
      "-0.19909149137792742\n",
      "-0.19910478348070462\n",
      "-0.19911753367907734\n",
      "-0.1991297653807578\n",
      "-0.19914150466254368\n",
      "-0.19915278048446491\n",
      "-0.1991636243716877\n",
      "-0.1991740688640839\n",
      "-0.19918414652765098\n",
      "-0.19919388793037265\n",
      "-0.19920332045131792\n",
      "-0.19921246731975373\n",
      "-0.1992213475528622\n",
      "-0.199229975310509\n",
      "-0.19923836043878182\n",
      "-0.1992465090658826\n",
      "-0.19925442447760935\n",
      "-0.1992621080005049\n",
      "-0.19926955996008888\n",
      "-0.19927678072283994\n",
      "-0.19928377122987131\n",
      "-0.19929053342783287\n",
      "-0.1992970706134438\n",
      "-0.19930338760040917\n",
      "-0.19930949047216656\n",
      "-0.19931538654854175\n",
      "-0.19932108398319753\n",
      "-0.19932659124863755\n",
      "-0.1993319170842205\n",
      "-0.19933707015271637\n",
      "-0.19934205846935585\n",
      "-0.1993468897496145\n",
      "-0.1993515710025062\n",
      "-0.19935610841634124\n",
      "-0.19936050770357217\n",
      "-0.19936477383602308\n",
      "-0.19936891136794627\n",
      "-0.19937292469212242\n",
      "-0.19937681778762092\n",
      "-0.19938059445530887\n",
      "-0.199384258501842\n",
      "-0.19938781377777748\n",
      "-0.19939126397719917\n",
      "-0.1993946129256555\n",
      "-0.19939786439629842\n",
      "-0.19940102212312225\n",
      "-0.19940408971099527\n",
      "-0.19940707068665334\n",
      "-0.19940996832694724\n",
      "-0.19941278572848656\n",
      "-0.19941552594797599\n",
      "-0.1994181915472445\n",
      "-0.199420785120485\n",
      "-0.19942330892040702\n",
      "-0.1994257651878672\n",
      "-0.19942815595710434\n",
      "-0.19943048306465722\n",
      "-0.199432748393433\n",
      "-0.1994349537067181\n",
      "-0.19943710079674107\n",
      "-0.19943919138494196\n",
      "-0.19944122711204434\n",
      "-0.19944320972234744\n",
      "-0.19944514075611042\n",
      "-0.19944702185167615\n",
      "-0.19944885450825095\n",
      "-0.1994506402417829\n",
      "-0.19945238046508051\n",
      "-0.19945407656930964\n",
      "-0.19945572985723373\n",
      "-0.19945734163467238\n",
      "-0.19945891311996616\n",
      "-0.1994604454242449\n",
      "-0.19946193976117468\n",
      "-0.1994633971560198\n",
      "-0.19946481868446062\n",
      "-0.1994662053985082\n",
      "-0.1994675582327261\n",
      "-0.1994688781853714\n",
      "-0.19947016621916738\n",
      "-0.19947142321759875\n",
      "-0.19947265004433484\n",
      "-0.19947384763578033\n",
      "-0.1994750167774928\n",
      "-0.1994761583306767\n",
      "-0.19947727303739737\n",
      "-0.19947836169256855\n",
      "-0.199479425033013\n",
      "-0.19948046374299794\n",
      "-0.19948147846793324\n",
      "-0.19948246993413588\n",
      "-0.1994834387570922\n",
      "-0.19948438558069248\n",
      "-0.19948531094795835\n",
      "-0.19948621546059161\n",
      "-0.19948709967654094\n",
      "-0.19948796419207349\n",
      "-0.1994888095083008\n",
      "-0.19948963611337303\n",
      "-0.19949044451557105\n",
      "-0.19949123521946727\n",
      "-0.1994920086675269\n",
      "-0.19949276535367583\n",
      "-0.19949350566640553\n",
      "-0.19949423005375108\n",
      "-0.19949493892257364\n",
      "-0.19949563269171128\n",
      "-0.19949631176518193\n",
      "-0.1994969764659255\n",
      "-0.19949762719148093\n",
      "-0.19949826429381076\n",
      "-0.19949888812662916\n",
      "-0.19949949901677352\n",
      "-0.19950009727731088\n",
      "-0.19950068322676723\n",
      "-0.19950125719595005\n",
      "-0.19950181941564066\n",
      "-0.1995023702217459\n",
      "-0.19950290989847252\n",
      "-0.19950343870908563\n",
      "-0.1995039569204046\n",
      "-0.1995044647794958\n",
      "-0.1995049625416973\n",
      "-0.1995054504222447\n",
      "-0.19950592870488387\n",
      "-0.19950639759717284\n",
      "-0.19950685731555767\n",
      "-0.19950730804933314\n",
      "-0.1995077500368112\n",
      "-0.1995081835172873\n",
      "-0.19950860864154515\n",
      "-0.19950902560604625\n",
      "-0.19950943458435416\n",
      "-0.19950983579928605\n",
      "-0.19951022940861812\n",
      "-0.1995106155782942\n",
      "-0.1995109945073827\n",
      "-0.19951136630336577\n",
      "-0.19951173116616092\n",
      "-0.1995120892562867\n",
      "-0.19951244069894214\n",
      "-0.1995127856390274\n",
      "-0.19951312424908643\n",
      "-0.19951345663002792\n",
      "-0.19951378295317312\n",
      "-0.19951410332481026\n",
      "-0.19951441789540392\n",
      "-0.19951472676580123\n",
      "-0.19951503007586338\n",
      "-0.1995153279639379\n",
      "-0.19951562050198401\n",
      "-0.19951590782684078\n",
      "-0.19951619004662216\n",
      "-0.19951646726570943\n",
      "-0.19951673959374977\n",
      "-0.19951700711757317\n",
      "-0.1995172699741674\n",
      "-0.19951752822332675\n",
      "-0.1995177819777269\n",
      "-0.19951803131050608\n",
      "-0.19951827633334257\n",
      "-0.19951851711612228\n",
      "-0.19951875376463324\n",
      "-0.1995189863521937\n",
      "-0.1995192149421736\n",
      "-0.19951943963827196\n",
      "-0.19951966051926262\n",
      "-0.19951987766025797\n",
      "-0.19952009109566451\n",
      "-0.19952030095024434\n",
      "-0.1995205072774755\n",
      "-0.1995207101379973\n",
      "-0.19952090961570776\n",
      "-0.19952110574991305\n",
      "-0.19952129863975784\n",
      "-0.19952148831483077\n",
      "-0.19952167485068203\n",
      "-0.19952185832588934\n",
      "-0.19952203878495714\n",
      "-0.19952221626342123\n",
      "-0.19952239084736634\n",
      "-0.19952256258567772\n",
      "-0.19952273150804734\n",
      "-0.19952289770215487\n",
      "-0.19952306119973096\n",
      "-0.19952322205617729\n",
      "-0.19952338031805833\n",
      "-0.1995235360309015\n",
      "-0.1995236892321808\n",
      "-0.19952383998578627\n",
      "-0.1995239883395836\n",
      "-0.19952413432250005\n",
      "-0.1995242779892826\n",
      "-0.19952441937763352\n",
      "-0.1995245585278504\n",
      "-0.19952469547828167\n",
      "-0.1995248302687814\n",
      "-0.19952496294798389\n",
      "-0.19952509354799933\n",
      "-0.19952522209086748\n",
      "-0.19952534863453514\n",
      "-0.19952547319567646\n",
      "-0.19952559582320784\n",
      "-0.19952571655478687\n",
      "-0.1995258354141393\n",
      "-0.199525952430734\n",
      "-0.19952606764294734\n",
      "-0.1995261810851084\n",
      "-0.19952629278129924\n",
      "-0.19952640276955413\n",
      "-0.19952651107224806\n",
      "-0.1995266177114074\n",
      "-0.1995267227181798\n",
      "-0.19952682613444891\n",
      "-0.19952692797922986\n",
      "-0.19952702828461932\n",
      "-0.1995271270627561\n",
      "-0.1995272243483081\n",
      "-0.19952732017345606\n",
      "-0.199527414544056\n",
      "-0.19952750749779494\n",
      "-0.19952759905494352\n",
      "-0.19952768925330813\n",
      "-0.19952777809593633\n",
      "-0.19952786561570302\n",
      "-0.1995279518225828\n",
      "-0.199528036753143\n",
      "-0.1995281204158817\n",
      "-0.19952820284869696\n",
      "-0.19952828405356485\n",
      "-0.19952836405571972\n",
      "-0.1995284428830083\n",
      "-0.1995285205450332\n",
      "-0.19952859706226295\n",
      "-0.19952867245314998\n"
     ]
    },
    {
     "name": "stdout",
     "output_type": "stream",
     "text": [
      "-0.1995287467423615\n",
      "-0.1995288199413088\n",
      "-0.19952889206337282\n",
      "-0.19952896314209992\n",
      "-0.1995290331852558\n",
      "-0.1995291022036455\n",
      "-0.19952917020644487\n",
      "-0.19952923722661633\n",
      "-0.19952930327201057\n",
      "-0.19952936836281854\n",
      "-0.1995294325142827\n",
      "-0.19952949573402226\n",
      "-0.19952955803916506\n",
      "-0.19952961946290862\n",
      "-0.19952967999808383\n",
      "-0.19952973965723295\n",
      "-0.1995297984583978\n",
      "-0.1995298564130126\n",
      "-0.1995299135508203\n",
      "-0.19952996986506374\n",
      "-0.19953002536563297\n",
      "-0.19953008008720888\n",
      "-0.1995301340214027\n",
      "-0.19953018718464827\n",
      "-0.19953023959514965\n",
      "-0.19953029125874855\n",
      "-0.19953034219469734\n",
      "-0.1995303924079008\n",
      "-0.19953044190876096\n",
      "-0.19953049071659393\n",
      "-0.19953053882403016\n",
      "-0.19953058625225945\n",
      "-0.19953063301818527\n",
      "-0.19953067912891162\n",
      "-0.19953072458487686\n",
      "-0.1995307694027955\n",
      "-0.19953081359858846\n",
      "-0.199530857172986\n",
      "-0.19953090013958596\n",
      "-0.19953094250069855\n",
      "-0.19953098427345167\n",
      "-0.19953102545959706\n",
      "-0.19953106606903484\n",
      "-0.19953110610950178\n",
      "-0.1995311455959297\n",
      "-0.19953118453152568\n",
      "-0.19953122292373882\n",
      "-0.19953126077597635\n",
      "-0.1995312981079105\n",
      "-0.1995313349232186\n",
      "-0.1995313712310821\n",
      "-0.19953140703219388\n",
      "-0.19953144234742518\n",
      "-0.1995314771661776\n",
      "-0.1995315115046078\n",
      "-0.1995315453699512\n",
      "-0.19953157876688857\n",
      "-0.1995316117089805\n",
      "-0.1995316441947423\n",
      "-0.1995316762334652\n",
      "-0.19953170782835747\n",
      "-0.1995317389947272\n",
      "-0.19953176973179867\n",
      "-0.19953180004290372\n",
      "-0.19953182993663277\n",
      "-0.1995318594239933\n",
      "-0.19953188850913509\n",
      "-0.19953191719285135\n",
      "-0.19953194548703895\n",
      "-0.19953197339456205\n",
      "-0.19953200092491646\n",
      "-0.19953202807346285\n",
      "-0.1995320548496457\n",
      "-0.19953208126307279\n",
      "-0.19953210732209029\n",
      "-0.19953213302549141\n",
      "-0.19953215837793017\n",
      "-0.19953218338382459\n",
      "-0.19953220805516708\n",
      "-0.19953223239040327\n",
      "-0.19953225639413197\n",
      "-0.1995322800771949\n",
      "-0.19953230343468675\n",
      "-0.19953232647250674\n",
      "-0.19953234920066198\n",
      "-0.19953237161800538\n",
      "-0.19953239373679993\n",
      "-0.1995324155567572\n",
      "-0.19953243708251983\n",
      "-0.19953245831403268\n",
      "-0.19953247925821915\n",
      "-0.19953249991782976\n",
      "-0.19953252030473653\n",
      "-0.19953254041530402\n",
      "-0.19953256025062216\n",
      "-0.19953257982406042\n",
      "-0.19953259913282195\n",
      "-0.19953261818574922\n",
      "-0.19953263697948226\n",
      "-0.19953265551931113\n",
      "-0.19953267380843878\n",
      "-0.19953269185176042\n",
      "-0.19953270965377154\n",
      "-0.19953272721438686\n",
      "-0.19953274454272832\n",
      "-0.199532761641706\n",
      "-0.1995327785068943\n",
      "-0.19953279514873445\n",
      "-0.1995328115639511\n",
      "-0.199532827763441\n",
      "-0.19953284374531383\n",
      "-0.19953285950932895\n",
      "-0.19953287506316936\n",
      "-0.19953289040933198\n",
      "-0.19953290554524233\n",
      "-0.19953292048519666\n",
      "-0.1995329352241467\n",
      "-0.19953294976865144\n",
      "-0.19953296411517965\n",
      "-0.19953297826990699\n",
      "-0.19953299223573834\n",
      "-0.19953300601348034\n",
      "-0.19953301960796926\n",
      "-0.19953303302397007\n",
      "-0.1995330462600079\n",
      "-0.1995330593221122\n",
      "-0.19953307220803412\n",
      "-0.19953308492060445\n",
      "-0.19953309746561565\n",
      "-0.1995331098421854\n",
      "-0.1995331220576206\n",
      "-0.19953313410557186\n",
      "-0.1995331459955879\n",
      "-0.1995331577249735\n",
      "-0.1995331692983629\n",
      "-0.19953318071789938\n",
      "-0.19953319198351732\n",
      "-0.19953320309956776\n",
      "-0.19953321407179858\n",
      "-0.19953322489542336\n",
      "-0.1995332355759828\n",
      "-0.1995332461121467\n",
      "-0.1995332565089112\n",
      "-0.1995332667676568\n",
      "-0.19953327688946393\n",
      "-0.1995332868768797\n",
      "-0.19953329673087902\n",
      "-0.19953330645365108\n",
      "-0.19953331604615757\n",
      "-0.19953332551043343\n",
      "-0.199533334850949\n",
      "-0.1995333440666321\n",
      "-0.19953335315952708\n",
      "-0.19953336213469833\n",
      "-0.1995333709894932\n",
      "-0.1995333797283953\n",
      "-0.1995333883504859\n",
      "-0.19953339685546828\n",
      "-0.1995334052485189\n",
      "-0.1995334135289431\n",
      "-0.19953342170086177\n",
      "-0.1995334297623107\n",
      "-0.19953343771793963\n",
      "-0.19953344556551897\n",
      "-0.19953345330987707\n",
      "-0.1995334609521868\n",
      "-0.19953346849021658\n",
      "-0.1995334759320764\n",
      "-0.19953348327275972\n",
      "-0.1995334905146527\n",
      "-0.19953349766173223\n",
      "-0.19953350471156198\n",
      "-0.19953351167026476\n",
      "-0.1995335185370104\n",
      "-0.1995335253090872\n",
      "-0.19953353199006973\n",
      "-0.19953353858663897\n",
      "-0.19953354509164048\n",
      "-0.1995335515108018\n",
      "-0.19953355784622567\n",
      "-0.19953356409740491\n",
      "-0.19953357026458807\n",
      "-0.19953357634920532\n",
      "-0.19953358235200935\n",
      "-0.199533588277265\n",
      "-0.19953359412225627\n",
      "-0.1995335998912745\n",
      "-0.19953360558020963\n",
      "-0.1995336111942408\n",
      "-0.19953361673276712\n",
      "-0.19953362219916376\n",
      "-0.1995336275912418\n",
      "-0.1995336329131511\n",
      "-0.1995336381634194\n",
      "-0.19953364334424054\n",
      "-0.1995336484548168\n",
      "-0.19953365349711408\n",
      "-0.19953365846910634\n",
      "-0.19953366337564948\n",
      "-0.19953366821870322\n",
      "-0.19953367299560065\n",
      "-0.1995336777106754\n",
      "-0.19953368236320823\n",
      "-0.19953368695503812\n",
      "-0.1995336914839135\n",
      "-0.1995336959519606\n",
      "-0.19953370036021287\n",
      "-0.1995337047084802\n",
      "-0.19953370899882933\n",
      "-0.19953371323227953\n",
      "-0.1995337174094716\n",
      "-0.19953372152827764\n",
      "-0.19953372559169072\n",
      "-0.19953372960113452\n",
      "-0.19953373355955223\n",
      "-0.1995337374637526\n",
      "-0.1995337413153587\n",
      "-0.1995337451135759\n",
      "-0.19953374886074943\n",
      "-0.19953375255992736\n",
      "-0.19953375620884944\n",
      "-0.19953375980787003\n",
      "-0.19953376335816517\n",
      "-0.19953376686262436\n",
      "-0.19953377031950556\n",
      "-0.1995337737292127\n",
      "-0.19953377709333836\n",
      "-0.1995337804142446\n",
      "-0.1995337836897033\n",
      "-0.19953378692000792\n",
      "-0.1995337901062897\n",
      "-0.19953379325092244\n",
      "-0.1995337963523922\n",
      "-0.19953379941111968\n",
      "-0.19953380242967636\n",
      "-0.19953380540720175\n",
      "-0.19953380834322212\n",
      "-0.1995338112413386\n",
      "-0.1995338140992172\n",
      "-0.19953381691913555\n",
      "-0.19953381970028308\n",
      "-0.19953382244452506\n",
      "-0.19953382515181442\n",
      "-0.19953382782133167\n",
      "-0.19953383045550238\n",
      "-0.1995338330526809\n",
      "-0.1995338356152586\n",
      "-0.19953383814395392\n",
      "-0.19953384063882984\n",
      "-0.19953384309826608\n",
      "-0.19953384552546113\n",
      "-0.1995338479182521\n",
      "-0.19953385028042867\n",
      "-0.199533852609925\n",
      "-0.19953385490732745\n",
      "-0.19953385717283034\n",
      "-0.1995338594091344\n",
      "-0.19953386161361092\n",
      "-0.19953386378828852\n",
      "-0.1995338659350607\n",
      "-0.19953386805052511\n",
      "-0.199533870138146\n",
      "-0.19953387219654972\n",
      "-0.19953387422742264\n",
      "-0.19953387622933189\n",
      "-0.19953387820439533\n",
      "-0.19953388015353296\n",
      "-0.1995338820737733\n",
      "-0.19953388396960914\n",
      "-0.19953388583950754\n",
      "-0.1995338876836235\n",
      "-0.199533889502294\n",
      "-0.19953389129616694\n",
      "-0.19953389306513436\n",
      "-0.19953389480925826\n",
      "-0.1995338965308128\n",
      "-0.19953389822698117\n",
      "-0.19953389990111758\n",
      "-0.19953390155188386\n",
      "-0.19953390318073863\n",
      "-0.19953390478591115\n",
      "-0.19953390636970172\n",
      "-0.1995339079317137\n",
      "-0.1995339094714676\n",
      "-0.19953391098965576\n",
      "-0.1995339124878086\n",
      "-0.1995339139648166\n",
      "-0.19953391542109825\n",
      "-0.19953391685699068\n",
      "-0.19953391827374128\n",
      "-0.19953391967154369\n",
      "-0.19953392104938084\n",
      "-0.1995339224091682\n",
      "-0.19953392374946347\n",
      "-0.19953392507075893\n",
      "-0.199533926374259\n",
      "-0.1995339276590254\n",
      "-0.19953392892676436\n",
      "-0.19953393017711285\n",
      "-0.19953393140860087\n",
      "-0.19953393262374455\n",
      "-0.199533933822304\n",
      "-0.1995339350034158\n",
      "-0.19953393616864537\n",
      "-0.19953393731806\n",
      "-0.19953393845038345\n",
      "-0.19953393956739587\n",
      "-0.1995339406683428\n",
      "-0.19953394175355224\n",
      "-0.19953394282361428\n",
      "-0.19953394387860818\n",
      "-0.19953394491934298\n",
      "-0.19953394594569\n",
      "-0.19953394695744134\n",
      "-0.19953394795489182\n",
      "-0.19953394893838414\n",
      "-0.19953394990832743\n",
      "-0.1995339508643859\n",
      "-0.19953395180726655\n",
      "-0.19953395273706095\n",
      "-0.19953395365365298\n",
      "-0.19953395455690195\n",
      "-0.1995339554477098\n",
      "-0.19953395632603987\n",
      "-0.19953395719202313\n",
      "-0.19953395804595137\n",
      "-0.19953395888769662\n",
      "-0.19953395971721336\n",
      "-0.19953396053452083\n",
      "-0.19953396134014306\n",
      "-0.19953396213469363\n",
      "-0.19953396291782147\n",
      "-0.1995339636897552\n",
      "-0.1995339644508609\n",
      "-0.19953396520115638\n",
      "-0.19953396594098619\n",
      "-0.19953396667124582\n",
      "-0.19953396739048135\n",
      "-0.19953396809925178\n",
      "-0.1995339687977096\n",
      "-0.19953396948648577\n",
      "-0.19953397016537858\n",
      "-0.1995339708345873\n",
      "-0.199533971494026\n",
      "-0.19953397214418245\n",
      "-0.1995339727846175\n",
      "-0.19953397341607623\n",
      "-0.1995339740391679\n",
      "-0.1995339746530473\n",
      "-0.1995339752581464\n",
      "-0.19953397585402466\n",
      "-0.1995339764414364\n",
      "-0.1995339770201161\n",
      "-0.19953397759110014\n",
      "-0.19953397815344304\n",
      "-0.19953397870791154\n",
      "-0.19953397925427008\n",
      "-0.19953397979241091\n",
      "-0.19953398032353634\n",
      "-0.19953398084677712\n",
      "-0.19953398136245012\n",
      "-0.1995339818706106\n",
      "-0.19953398237118014\n",
      "-0.19953398286417484\n",
      "-0.19953398335064004\n",
      "-0.19953398383043408\n",
      "-0.19953398430281752\n",
      "-0.19953398476816733\n",
      "-0.19953398522728655\n",
      "-0.19953398567910832\n",
      "-0.19953398612448311\n",
      "-0.1995339865630776\n",
      "-0.19953398699569708\n",
      "-0.19953398742211897\n",
      "-0.19953398784215656\n",
      "-0.19953398825685797\n",
      "-0.19953398866522548\n",
      "-0.19953398906693168\n",
      "-0.1995339894625298\n",
      "-0.19953398985273735\n",
      "-0.1995339902376474\n",
      "-0.19953399061684138\n",
      "-0.19953399099021257\n",
      "-0.1995339913581879\n",
      "-0.19953399172022268\n",
      "-0.19953399207664593\n",
      "-0.1995339924290267\n",
      "-0.19953399277590575\n",
      "-0.19953399311735906\n",
      "-0.19953399345381573\n",
      "-0.19953399378509604\n",
      "-0.1995339941118108\n",
      "-0.1995339944339287\n",
      "-0.19953399475089686\n",
      "-0.19953399506297603\n",
      "-0.1995339953707635\n",
      "-0.19953399567411098\n",
      "-0.1995339959723347\n",
      "-0.19953399626639148\n",
      "-0.1995339965563768\n",
      "-0.19953399684212517\n",
      "-0.19953399712332742\n",
      "-0.19953399740008745\n"
     ]
    },
    {
     "name": "stdout",
     "output_type": "stream",
     "text": [
      "-0.19953399767336677\n",
      "-0.19953399794209517\n",
      "-0.19953399820646475\n",
      "-0.19953399846710831\n",
      "-0.19953399872396055\n",
      "-0.19953399897717894\n",
      "-0.1995339992262985\n",
      "-0.19953399947170192\n",
      "-0.19953399971370409\n",
      "-0.19953399995173288\n",
      "-0.1995340001866644\n",
      "-0.19953400041775887\n",
      "-0.19953400064540755\n",
      "-0.1995340008693403\n",
      "-0.1995340010900127\n",
      "-0.19953400130759227\n",
      "-0.19953400152159068\n",
      "-0.19953400173290406\n",
      "-0.19953400194076318\n",
      "-0.19953400214548672\n",
      "-0.19953400234715518\n",
      "-0.19953400254537956\n",
      "-0.1995340027411377\n",
      "-0.19953400293339896\n",
      "-0.19953400312292233\n",
      "-0.1995340033094968\n",
      "-0.199534003493522\n",
      "-0.19953400367434723\n",
      "-0.19953400385274447\n",
      "-0.19953400402813123\n",
      "-0.19953400420125403\n",
      "-0.19953400437138052\n",
      "-0.1995340045392835\n",
      "-0.19953400470429433\n",
      "-0.19953400486694428\n",
      "-0.19953400502702245\n",
      "-0.19953400518465944\n",
      "-0.1995340053398545\n",
      "-0.19953400549282496\n",
      "-0.19953400564307103\n",
      "-0.19953400579133077\n",
      "-0.19953400593704024\n",
      "-0.19953400608072386\n",
      "-0.19953400622189885\n",
      "-0.19953400636115695\n",
      "-0.1995340064984776\n",
      "-0.1995340066335382\n",
      "-0.19953400676658833\n",
      "-0.1995340068971096\n",
      "-0.19953400702610116\n",
      "-0.19953400715270267\n",
      "-0.19953400727756138\n",
      "-0.19953400740037758\n",
      "-0.1995340075214713\n",
      "-0.19953400764036514\n",
      "-0.1995340077576509\n",
      "-0.19953400787289483\n",
      "-0.19953400798667634\n",
      "-0.19953400809854677\n",
      "-0.1995340082087359\n",
      "-0.19953400831715196\n",
      "-0.19953400842385183\n",
      "-0.19953400852869338\n",
      "-0.1995340086324142\n",
      "-0.19953400873399038\n",
      "-0.1995340088342868\n",
      "-0.1995340089326184\n",
      "-0.19953400902971682\n",
      "-0.19953400912508334\n",
      "-0.19953400921911232\n",
      "-0.19953400931148066\n",
      "-0.1995340094023982\n",
      "-0.19953400949182667\n",
      "-0.19953400958014314\n",
      "-0.19953400966691684\n",
      "-0.19953400975236477\n",
      "-0.1995340098366966\n",
      "-0.19953400991926473\n",
      "-0.19953401000085236\n",
      "-0.19953401008072505\n",
      "-0.19953401015956976\n",
      "-0.19953401023716139\n",
      "-0.1995340103134133\n",
      "-0.19953401038874158\n",
      "-0.1995340104627047\n",
      "-0.1995340105355399\n",
      "-0.1995340106071218\n",
      "-0.19953401067741558\n",
      "-0.19953401074669067\n",
      "-0.19953401081488992\n",
      "-0.19953401088202083\n",
      "-0.19953401094796522\n",
      "-0.19953401101299922\n",
      "-0.19953401107677501\n",
      "-0.19953401113959382\n",
      "-0.1995340112016881\n",
      "-0.19953401126237366\n",
      "-0.19953401132223153\n",
      "-0.19953401138115667\n",
      "-0.19953401143898528\n",
      "-0.19953401149615188\n",
      "-0.19953401155227965\n",
      "-0.19953401160744832\n",
      "-0.1995340116618571\n",
      "-0.1995340117153573\n",
      "-0.19953401176783447\n",
      "-0.19953401181946792\n",
      "-0.19953401187037448\n",
      "-0.19953401192060358\n",
      "-0.1995340119697558\n",
      "-0.19953401201825394\n",
      "-0.19953401206600638\n",
      "-0.1995340121128049\n",
      "-0.1995340121589018\n",
      "-0.19953401220440037\n",
      "-0.19953401224890627\n",
      "-0.1995340122927686\n",
      "-0.19953401233586876\n",
      "-0.19953401237837806\n",
      "-0.19953401242005547\n",
      "-0.19953401246125507\n",
      "-0.19953401250164865\n",
      "-0.19953401254133324\n",
      "-0.1995340125803842\n",
      "-0.19953401261882112\n",
      "-0.19953401265674112\n",
      "-0.1995340126938981\n",
      "-0.1995340127304239\n",
      "-0.19953401276640204\n",
      "-0.19953401280186686\n",
      "-0.19953401283651656\n",
      "-0.19953401287068503\n",
      "-0.19953401290440878\n",
      "-0.19953401293728798\n",
      "-0.19953401296978082\n",
      "-0.19953401300177648\n",
      "-0.19953401303332918\n",
      "-0.19953401306411536\n",
      "-0.1995340130944533\n",
      "-0.19953401312440122\n",
      "-0.19953401315377536\n",
      "-0.19953401318273412\n",
      "-0.19953401321112058\n",
      "-0.19953401323897083\n",
      "-0.19953401326641793\n",
      "-0.19953401329350515\n",
      "-0.1995340133201133\n",
      "-0.19953401334616885\n",
      "-0.1995340133718773\n",
      "-0.19953401339719032\n",
      "-0.19953401342200583\n",
      "-0.19953401344634772\n",
      "-0.1995340134703232\n",
      "-0.19953401349397928\n",
      "-0.19953401351703792\n",
      "-0.19953401353974648\n",
      "-0.1995340135621329\n",
      "-0.19953401358421338\n",
      "-0.19953401360580406\n",
      "-0.19953401362701714\n",
      "-0.19953401364789264\n",
      "-0.19953401366850135\n",
      "-0.19953401368870288\n",
      "-0.19953401370845994\n",
      "-0.19953401372794558\n",
      "-0.1995340137471725\n",
      "-0.19953401376601443\n",
      "-0.19953401378456856\n",
      "-0.19953401380274285\n",
      "-0.19953401382062064\n",
      "-0.19953401383817188\n",
      "-0.19953401385547073\n",
      "-0.19953401387248051\n",
      "-0.19953401388925038\n",
      "-0.1995340139056966\n",
      "-0.1995340139217301\n",
      "-0.19953401393757136\n",
      "-0.19953401395319245\n",
      "-0.19953401396859902\n",
      "-0.19953401398355777\n",
      "-0.19953401399829993\n",
      "-0.19953401401287915\n",
      "-0.19953401402720594\n",
      "-0.19953401404122198\n",
      "-0.19953401405496365\n",
      "-0.1995340140685\n",
      "-0.19953401408182242\n",
      "-0.19953401409494947\n",
      "-0.199534014107766\n",
      "-0.19953401412042862\n",
      "-0.1995340141327806\n",
      "-0.19953401414498173\n",
      "-0.19953401415694752\n",
      "-0.19953401416876976\n",
      "-0.1995340141803565\n",
      "-0.19953401419172792\n",
      "-0.19953401420286176\n",
      "-0.19953401421382888\n",
      "-0.19953401422464356\n",
      "-0.19953401423520895\n",
      "-0.19953401424559766\n",
      "-0.19953401425585826\n",
      "-0.19953401426585982\n",
      "-0.19953401427569714\n",
      "-0.19953401428532053\n",
      "-0.19953401429482306\n",
      "-0.1995340143041829\n",
      "-0.19953401431338197\n",
      "-0.1995340143224344\n",
      "-0.1995340143312962\n",
      "-0.19953401433996115\n",
      "-0.19953401434850004\n",
      "-0.19953401435687576\n",
      "-0.199534014365122\n",
      "-0.19953401437327462\n",
      "-0.1995340143813087\n",
      "-0.1995340143890549\n",
      "-0.19953401439670565\n",
      "-0.199534014404236\n",
      "-0.1995340144116644\n",
      "-0.19953401441894394\n",
      "-0.19953401442612553\n",
      "-0.1995340144331464\n",
      "-0.19953401444000088\n",
      "-0.19953401444671706\n",
      "-0.19953401445334684\n",
      "-0.19953401445987806\n",
      "-0.19953401446630273\n",
      "-0.19953401447261643\n",
      "-0.1995340144787851\n",
      "-0.19953401448487496\n",
      "-0.19953401449082198\n",
      "-0.19953401449665795\n",
      "-0.19953401450237712\n",
      "-0.1995340145080228\n",
      "-0.19953401451354022\n",
      "-0.19953401451898684\n",
      "-0.19953401452435346\n",
      "-0.1995340145296227\n",
      "-0.199534014534735\n",
      "-0.1995340145397805\n",
      "-0.19953401454473996\n",
      "-0.19953401454957723\n",
      "-0.19953401455432287\n",
      "-0.19953401455900444\n",
      "-0.19953401456361933\n",
      "-0.19953401456817088\n",
      "-0.19953401457264267\n",
      "-0.1995340145769829\n",
      "-0.19953401458124737\n",
      "-0.1995340145853993\n",
      "-0.19953401458949957\n",
      "-0.1995340145935459\n",
      "-0.1995340145975276\n",
      "-0.199534014601451\n",
      "-0.19953401460528475\n",
      "-0.19953401460906656\n",
      "-0.19953401461274423\n",
      "-0.19953401461631778\n",
      "-0.19953401461983686\n",
      "-0.19953401462330653\n",
      "-0.19953401462670622\n",
      "-0.19953401463006742\n",
      "-0.19953401463336676\n",
      "-0.1995340146366174\n",
      "-0.19953401463981243\n",
      "-0.19953401464295928\n",
      "-0.19953401464595422\n",
      "-0.19953401464891224\n",
      "-0.19953401465182538\n",
      "-0.1995340146546994\n",
      "-0.19953401465753945\n",
      "-0.19953401466032128\n",
      "-0.19953401466305246\n",
      "-0.1995340146657317\n",
      "-0.19953401466836998\n",
      "-0.1995340146709285\n",
      "-0.1995340146734555\n",
      "-0.19953401467591156\n",
      "-0.19953401467832843\n",
      "-0.1995340146807122\n",
      "-0.19953401468304416\n",
      "-0.19953401468533427\n",
      "-0.19953401468757564\n",
      "-0.19953401468979293\n",
      "-0.19953401469197732\n",
      "-0.19953401469409826\n",
      "-0.19953401469618764\n",
      "-0.19953401469823634\n",
      "-0.199534014700264\n",
      "-0.19953401470221221\n",
      "-0.1995340147041344\n",
      "-0.19953401470602813\n",
      "-0.199534014707899\n",
      "-0.1995340147097311\n",
      "-0.1995340147115164\n",
      "-0.1995340147132415\n",
      "-0.19953401471494636\n",
      "-0.19953401471663018\n",
      "-0.19953401471828955\n",
      "-0.19953401471992754\n",
      "-0.199534014721539\n",
      "-0.19953401472312732\n",
      "-0.19953401472463758\n",
      "-0.19953401472612897\n",
      "-0.1995340147275886\n",
      "-0.1995340147290294\n",
      "-0.19953401473044863\n",
      "-0.19953401473181948\n",
      "-0.1995340147331703\n",
      "-0.19953401473450116\n",
      "-0.19953401473580643\n",
      "-0.19953401473708296\n",
      "-0.19953401473833965\n",
      "-0.19953401473958166\n",
      "-0.19953401474080362\n",
      "-0.1995340147420106\n",
      "-0.19953401474320595\n",
      "-0.19953401474435772\n",
      "-0.19953401474548713\n",
      "-0.19953401474656737\n",
      "-0.19953401474762153\n",
      "-0.19953401474865737\n",
      "-0.19953401474967078\n",
      "-0.19953401475066976\n",
      "-0.19953401475165308\n",
      "-0.1995340147526218\n",
      "-0.1995340147535761\n",
      "-0.1995340147545176\n",
      "-0.1995340147554434\n",
      "-0.19953401475635685\n",
      "-0.1995340147572456\n",
      "-0.19953401475811317\n",
      "-0.19953401475897198\n",
      "-0.19953401475981467\n",
      "-0.19953401476064972\n",
      "-0.19953401476142835\n",
      "-0.19953401476219673\n",
      "-0.19953401476295035\n",
      "-0.19953401476369195\n",
      "-0.19953401476442026\n",
      "-0.19953401476513663\n",
      "-0.19953401476583313\n",
      "-0.1995340147665167\n",
      "-0.19953401476719249\n",
      "-0.19953401476785176\n",
      "-0.1995340147685019\n",
      "-0.19953401476914717\n",
      "-0.1995340147697847\n",
      "-0.19953401477041263\n",
      "-0.19953401477103513\n",
      "-0.19953401477165153\n",
      "-0.19953401477223573\n",
      "-0.1995340147728123\n",
      "-0.19953401477337895\n",
      "-0.19953401477390392\n",
      "-0.19953401477441582\n",
      "-0.19953401477491692\n",
      "-0.1995340147754105\n",
      "-0.19953401477591717\n",
      "-0.19953401477641436\n",
      "-0.19953401477688285\n",
      "-0.19953401477734084\n",
      "-0.1995340147777959\n",
      "-0.19953401477824542\n",
      "-0.19953401477868782\n",
      "-0.19953401477912705\n",
      "-0.1995340147795606\n",
      "-0.1995340147799911\n",
      "-0.19953401478041022\n",
      "-0.19953401478082033\n",
      "-0.19953401478122054\n",
      "-0.19953401478161406\n",
      "-0.19953401478198388\n",
      "-0.19953401478234487\n",
      "-0.19953401478270882\n",
      "-0.19953401478306565\n",
      "-0.19953401478342173\n",
      "-0.19953401478377142\n",
      "-0.19953401478411473\n",
      "-0.19953401478444632\n",
      "-0.19953401478476837\n",
      "-0.19953401478508814\n",
      "-0.19953401478538643\n",
      "-0.19953401478567934\n",
      "-0.19953401478597305\n",
      "-0.1995340147862591\n",
      "-0.19953401478654137\n",
      "-0.19953401478681318\n",
      "-0.19953401478708377\n",
      "-0.19953401478734875\n",
      "-0.19953401478760838\n",
      "-0.1995340147878641\n",
      "-0.19953401478811233\n",
      "-0.1995340147883547\n",
      "-0.19953401478859487\n",
      "-0.19953401478882954\n",
      "-0.19953401478906058\n",
      "-0.1995340147892903\n",
      "-0.19953401478951496\n",
      "-0.1995340147897258\n",
      "-0.19953401478994168\n",
      "-0.19953401479015215\n",
      "-0.19953401479035918\n"
     ]
    },
    {
     "name": "stdout",
     "output_type": "stream",
     "text": [
      "-0.19953401479056404\n",
      "-0.19953401479075733\n",
      "-0.19953401479094715\n",
      "-0.1995340147911344\n",
      "-0.19953401479131477\n",
      "-0.19953401479149188\n",
      "-0.19953401479166674\n",
      "-0.19953401479183894\n",
      "-0.19953401479200747\n",
      "-0.19953401479217692\n",
      "-0.19953401479233432\n",
      "-0.19953401479248803\n",
      "-0.19953401479263902\n",
      "-0.1995340147927879\n",
      "-0.19953401479293306\n",
      "-0.19953401479307545\n",
      "-0.19953401479321625\n",
      "-0.19953401479335467\n",
      "-0.19953401479349078\n",
      "-0.19953401479362315\n",
      "-0.1995340147937534\n",
      "-0.19953401479388252\n",
      "-0.19953401479401023\n",
      "-0.19953401479413355\n",
      "-0.1995340147942544\n",
      "-0.199534014794374\n",
      "-0.19953401479448943\n",
      "-0.1995340147946034\n",
      "-0.1995340147947152\n",
      "-0.19953401479481384\n",
      "-0.19953401479490981\n",
      "-0.19953401479500726\n",
      "-0.19953401479510657\n",
      "-0.199534014795203\n",
      "-0.19953401479529753\n",
      "-0.19953401479538596\n",
      "-0.199534014795479\n",
      "-0.19953401479556615\n",
      "-0.19953401479565203\n",
      "-0.19953401479573635\n",
      "-0.19953401479581911\n",
      "-0.19953401479590116\n",
      "-0.19953401479598257\n",
      "-0.19953401479606359\n",
      "-0.19953401479614102\n",
      "-0.19953401479621868\n",
      "-0.19953401479629662\n",
      "-0.19953401479637323\n",
      "-0.19953401479644772\n",
      "-0.19953401479652005\n",
      "-0.19953401479659127\n",
      "-0.19953401479666125\n",
      "-0.19953401479673044\n",
      "-0.19953401479679866\n",
      "-0.19953401479686605\n",
      "-0.19953401479692728\n",
      "-0.1995340147969882\n",
      "-0.1995340147970478\n",
      "-0.1995340147971061\n",
      "-0.19953401479716182\n",
      "-0.19953401479721566\n",
      "-0.19953401479726954\n",
      "-0.19953401479732177\n",
      "-0.19953401479737717\n",
      "-0.19953401479742475\n",
      "-0.19953401479747235\n",
      "-0.19953401479751878\n",
      "-0.19953401479756477\n",
      "-0.19953401479760818\n",
      "-0.19953401479765148\n",
      "-0.19953401479769312\n",
      "-0.19953401479773417\n",
      "-0.19953401479777777\n",
      "-0.19953401479781707\n",
      "-0.1995340147978553\n",
      "-0.19953401479789826\n",
      "-0.1995340147979392\n",
      "-0.19953401479798016\n",
      "-0.1995340147980155\n",
      "-0.19953401479804916\n",
      "-0.1995340147980793\n",
      "-0.19953401479810845\n",
      "-0.19953401479813804\n",
      "-0.1995340147981725\n",
      "-0.1995340147982055\n",
      "-0.1995340147982327\n",
      "-0.1995340147982596\n",
      "-0.1995340147982857\n",
      "-0.19953401479831293\n",
      "-0.19953401479833896\n",
      "-0.19953401479836474\n",
      "-0.19953401479838945\n",
      "-0.19953401479841404\n",
      "-0.19953401479843727\n",
      "-0.19953401479846153\n",
      "-0.19953401479848487\n",
      "-0.19953401479850932\n",
      "-0.19953401479853303\n",
      "-0.19953401479855823\n",
      "-0.19953401479858288\n",
      "-0.19953401479860453\n",
      "-0.1995340147986265\n",
      "-0.1995340147986477\n",
      "-0.19953401479866845\n",
      "-0.19953401479868774\n",
      "-0.19953401479870717\n",
      "-0.19953401479872643\n",
      "-0.19953401479874472\n",
      "-0.1995340147987626\n",
      "-0.1995340147987807\n",
      "-0.19953401479879807\n",
      "-0.19953401479881708\n",
      "-0.19953401479883476\n",
      "-0.19953401479885247\n",
      "-0.1995340147988693\n",
      "-0.1995340147988866\n",
      "-0.1995340147989033\n",
      "-0.1995340147989193\n",
      "-0.19953401479893518\n",
      "-0.1995340147989508\n",
      "-0.1995340147989659\n",
      "-0.19953401479898067\n",
      "-0.19953401479899574\n",
      "-0.1995340147990108\n",
      "-0.19953401479902722\n",
      "-0.19953401479904218\n",
      "-0.19953401479905633\n",
      "-0.19953401479907076\n",
      "-0.19953401479908484\n",
      "-0.19953401479909846\n",
      "-0.1995340147991119\n",
      "-0.19953401479912491\n",
      "-0.19953401479913593\n",
      "-0.1995340147991464\n",
      "-0.1995340147991567\n",
      "-0.19953401479916894\n",
      "-0.19953401479918068\n",
      "-0.19953401479919225\n",
      "-0.19953401479920185\n",
      "-0.19953401479921085\n",
      "-0.19953401479922178\n",
      "-0.19953401479923033\n",
      "-0.19953401479923885\n",
      "-0.1995340147992472\n",
      "-0.19953401479925745\n",
      "-0.19953401479926583\n",
      "-0.19953401479927627\n",
      "-0.1995340147992865\n",
      "-0.19953401479929586\n",
      "-0.19953401479930574\n",
      "-0.19953401479931301\n",
      "-0.19953401479931931\n",
      "-0.19953401479932473\n",
      "-0.19953401479933244\n",
      "-0.19953401479934205\n",
      "-0.19953401479934907\n",
      "-0.19953401479935598\n",
      "-0.19953401479936195\n",
      "-0.19953401479936853\n",
      "-0.19953401479937352\n",
      "-0.1995340147993794\n",
      "-0.1995340147993848\n",
      "-0.19953401479939054\n",
      "-0.1995340147993954\n",
      "-0.19953401479939958\n",
      "-0.19953401479940414\n",
      "-0.19953401479940885\n",
      "-0.19953401479941416\n",
      "-0.19953401479941993\n",
      "-0.19953401479942492\n",
      "-0.19953401479942995\n",
      "-0.19953401479943278\n",
      "-0.1995340147994371\n",
      "-0.19953401479944124\n",
      "-0.19953401479944477\n",
      "-0.19953401479944766\n",
      "-0.19953401479945154\n",
      "-0.19953401479945646\n",
      "-0.19953401479946106\n",
      "-0.1995340147994633\n",
      "-0.19953401479946684\n",
      "-0.19953401479947083\n",
      "-0.19953401479947425\n",
      "-0.1995340147994763\n",
      "-0.19953401479947944\n",
      "-0.19953401479948216\n",
      "-0.19953401479948338\n",
      "-0.19953401479948843\n",
      "-0.19953401479949232\n",
      "-0.1995340147994942\n",
      "-0.19953401479949506\n",
      "-0.199534014799499\n",
      "-0.19953401479950134\n",
      "-0.19953401479950353\n",
      "-0.19953401479950603\n",
      "-0.19953401479950808\n",
      "-0.19953401479950889\n",
      "-0.19953401479951086\n",
      "-0.19953401479951202\n",
      "-0.1995340147995124\n",
      "-0.1995340147995151\n",
      "-0.19953401479951743\n",
      "-0.19953401479951946\n",
      "-0.19953401479952146\n",
      "-0.1995340147995223\n",
      "-0.19953401479952246\n",
      "-0.1995340147995226\n",
      "-0.19953401479952218\n",
      "-0.19953401479952462\n",
      "-0.19953401479952806\n",
      "-0.19953401479952898\n",
      "-0.19953401479952962\n",
      "-0.1995340147995298\n",
      "-0.19953401479953167\n",
      "-0.19953401479953192\n",
      "-0.1995340147995321\n",
      "-0.19953401479953212\n",
      "-0.19953401479953453\n",
      "-0.1995340147995344\n",
      "-0.1995340147995345\n",
      "-0.19953401479953478\n",
      "-0.19953401479953572\n",
      "-0.1995340147995365\n",
      "-0.19953401479953647\n",
      "-0.19953401479953628\n",
      "-0.19953401479953686\n",
      "-0.19953401479953847\n",
      "-0.19953401479953872\n",
      "-0.19953401479953878\n",
      "-0.19953401479953925\n",
      "-0.19953401479953925\n",
      "-0.19953401479953914\n",
      "-0.1995340147995411\n",
      "-0.1995340147995415\n",
      "-0.1995340147995415\n",
      "-0.19953401479954175\n",
      "-0.19953401479954208\n",
      "-0.19953401479954302\n",
      "-0.19953401479954308\n",
      "-0.19953401479954344\n",
      "-0.19953401479954372\n",
      "-0.19953401479954327\n",
      "-0.19953401479954536\n",
      "-0.19953401479954538\n",
      "-0.19953401479954555\n",
      "-0.1995340147995455\n",
      "-0.19953401479954588\n",
      "-0.19953401479954597\n",
      "-0.19953401479954608\n",
      "-0.19953401479954594\n",
      "-0.19953401479954752\n",
      "-0.19953401479954794\n",
      "-0.1995340147995479\n",
      "-0.19953401479954858\n",
      "-0.1995340147995488\n",
      "-0.1995340147995492\n",
      "-0.19953401479954905\n",
      "-0.1995340147995495\n",
      "-0.1995340147995495\n",
      "-0.1995340147995511\n",
      "-0.19953401479955243\n",
      "-0.1995340147995522\n",
      "-0.1995340147995529\n",
      "-0.1995340147995527\n",
      "-0.19953401479955274\n",
      "-0.19953401479955415\n",
      "-0.19953401479955432\n",
      "-0.1995340147995545\n",
      "-0.19953401479955488\n",
      "-0.1995340147995544\n",
      "-0.19953401479955452\n",
      "-0.19953401479955568\n",
      "-0.19953401479955585\n",
      "-0.19953401479955626\n",
      "-0.19953401479955646\n",
      "-0.19953401479955638\n",
      "-0.1995340147995564\n",
      "-0.19953401479955665\n",
      "-0.1995340147995566\n",
      "-0.19953401479955676\n",
      "-0.19953401479955685\n",
      "-0.1995340147995567\n",
      "-0.19953401479955676\n",
      "-0.19953401479955707\n",
      "-0.19953401479955762\n",
      "-0.1995340147995574\n",
      "-0.19953401479955768\n",
      "-0.19953401479955915\n",
      "-0.19953401479955943\n",
      "-0.19953401479955946\n",
      "-0.1995340147995595\n",
      "-0.19953401479955968\n",
      "-0.19953401479955973\n",
      "-0.1995340147995614\n",
      "-0.1995340147995613\n",
      "-0.19953401479956134\n",
      "-0.19953401479956148\n",
      "-0.19953401479956145\n",
      "-0.19953401479956123\n",
      "-0.19953401479956157\n",
      "-0.19953401479956193\n",
      "-0.19953401479956157\n",
      "-0.1995340147995619\n",
      "-0.19953401479956198\n",
      "-0.19953401479956176\n",
      "-0.1995340147995627\n",
      "-0.1995340147995623\n",
      "-0.1995340147995625\n",
      "-0.19953401479956373\n",
      "-0.1995340147995639\n",
      "-0.19953401479956434\n",
      "-0.1995340147995645\n",
      "-0.19953401479956415\n",
      "-0.19953401479956434\n",
      "-0.19953401479956426\n",
      "-0.1995340147995663\n",
      "-0.1995340147995672\n",
      "-0.19953401479956712\n",
      "-0.19953401479956695\n",
      "-0.19953401479956742\n",
      "-0.19953401479956753\n",
      "-0.19953401479956848\n",
      "-0.19953401479956853\n",
      "-0.19953401479956864\n",
      "-0.19953401479956842\n",
      "-0.19953401479956873\n",
      "-0.19953401479956853\n",
      "-0.19953401479956898\n",
      "-0.19953401479956848\n",
      "-0.19953401479956873\n",
      "-0.19953401479956884\n",
      "-0.19953401479956892\n",
      "-0.19953401479957014\n",
      "-0.19953401479956984\n",
      "-0.19953401479957011\n",
      "-0.19953401479957011\n",
      "-0.19953401479957036\n",
      "-0.19953401479957028\n",
      "-0.19953401479957034\n",
      "-0.19953401479957045\n",
      "-0.1995340147995703\n",
      "-0.199534014799571\n",
      "-0.19953401479957114\n",
      "-0.19953401479957136\n",
      "-0.19953401479957106\n",
      "-0.199534014799571\n",
      "-0.19953401479957117\n",
      "-0.19953401479957147\n",
      "-0.19953401479957278\n",
      "-0.1995340147995725\n",
      "-0.19953401479957306\n",
      "-0.1995340147995727\n",
      "-0.19953401479957283\n",
      "-0.1995340147995728\n",
      "-0.19953401479957306\n",
      "-0.1995340147995732\n",
      "-0.19953401479957278\n",
      "-0.1995340147995744\n",
      "-0.19953401479957422\n",
      "-0.19953401479957458\n",
      "-0.19953401479957422\n",
      "-0.19953401479957458\n",
      "-0.19953401479957467\n",
      "-0.19953401479957453\n",
      "-0.19953401479957425\n",
      "-0.19953401479957467\n",
      "-0.19953401479957433\n",
      "-0.19953401479957536\n",
      "-0.1995340147995751\n",
      "-0.19953401479957492\n",
      "-0.1995340147995754\n",
      "-0.19953401479957542\n",
      "-0.19953401479957547\n",
      "-0.1995340147995755\n",
      "-0.19953401479957553\n",
      "-0.1995340147995757\n",
      "-0.19953401479957578\n",
      "-0.19953401479957705\n",
      "-0.19953401479957691\n",
      "-0.199534014799577\n",
      "-0.19953401479957686\n",
      "-0.1995340147995772\n",
      "-0.19953401479957691\n",
      "-0.1995340147995767\n",
      "-0.19953401479957686\n",
      "-0.19953401479957683\n",
      "-0.1995340147995769\n",
      "-0.19953401479957855\n",
      "-0.19953401479957852\n",
      "-0.19953401479957822\n",
      "-0.19953401479957839\n",
      "-0.19953401479957805\n",
      "-0.19953401479957822\n",
      "-0.19953401479957825\n",
      "-0.19953401479957836\n",
      "-0.19953401479957833\n",
      "-0.19953401479957844\n",
      "-0.1995340147995791\n"
     ]
    },
    {
     "name": "stdout",
     "output_type": "stream",
     "text": [
      "-0.19953401479957913\n",
      "-0.19953401479957894\n",
      "-0.19953401479957902\n",
      "-0.1995340147995793\n",
      "-0.19953401479957902\n",
      "-0.19953401479957936\n",
      "-0.1995340147995793\n",
      "-0.19953401479957902\n",
      "-0.19953401479957963\n",
      "-0.1995340147995804\n",
      "-0.1995340147995806\n",
      "-0.19953401479958036\n",
      "-0.19953401479958097\n",
      "-0.1995340147995807\n",
      "-0.19953401479958063\n",
      "-0.19953401479958097\n",
      "-0.19953401479958094\n",
      "-0.19953401479958072\n",
      "-0.19953401479958066\n",
      "-0.19953401479958083\n",
      "-0.19953401479958052\n",
      "-0.199534014799581\n",
      "-0.199534014799581\n",
      "-0.19953401479958074\n",
      "-0.1995340147995807\n",
      "-0.19953401479958052\n",
      "-0.199534014799581\n",
      "-0.19953401479958063\n",
      "-0.1995340147995806\n",
      "-0.1995340147995808\n",
      "-0.1995340147995809\n",
      "-0.1995340147995806\n",
      "-0.19953401479958044\n",
      "-0.19953401479958097\n",
      "-0.19953401479958108\n",
      "-0.1995340147995806\n",
      "-0.19953401479958074\n",
      "-0.1995340147995808\n",
      "-0.1995340147995804\n",
      "-0.19953401479958083\n",
      "-0.1995340147995809\n",
      "-0.199534014799581\n",
      "-0.19953401479958077\n",
      "-0.1995340147995807\n",
      "-0.1995340147995806\n",
      "-0.19953401479958205\n",
      "-0.19953401479958238\n",
      "-0.199534014799582\n",
      "-0.19953401479958152\n",
      "-0.19953401479958194\n",
      "-0.19953401479958208\n",
      "-0.1995340147995819\n",
      "-0.19953401479958255\n",
      "-0.199534014799583\n",
      "-0.19953401479958308\n",
      "-0.19953401479958277\n",
      "-0.19953401479958285\n",
      "-0.19953401479958263\n",
      "-0.19953401479958305\n",
      "-0.19953401479958294\n",
      "-0.19953401479958388\n",
      "-0.19953401479958405\n",
      "-0.19953401479958424\n",
      "-0.19953401479958427\n",
      "-0.19953401479958394\n",
      "-0.19953401479958396\n",
      "-0.19953401479958421\n",
      "-0.19953401479958438\n",
      "-0.19953401479958396\n",
      "-0.1995340147995845\n",
      "-0.19953401479958413\n",
      "-0.1995340147995844\n",
      "-0.19953401479958455\n",
      "-0.19953401479958424\n",
      "-0.1995340147995845\n",
      "-0.1995340147995845\n",
      "-0.19953401479958416\n",
      "-0.1995340147995848\n",
      "-0.19953401479958444\n",
      "-0.19953401479958455\n",
      "-0.19953401479958438\n",
      "-0.19953401479958452\n",
      "-0.19953401479958446\n",
      "-0.19953401479958432\n",
      "-0.1995340147995846\n",
      "-0.19953401479958438\n",
      "-0.19953401479958424\n",
      "-0.19953401479958394\n",
      "-0.19953401479958455\n",
      "-0.19953401479958438\n",
      "-0.19953401479958457\n",
      "-0.19953401479958421\n",
      "-0.1995340147995843\n",
      "-0.19953401479958416\n",
      "-0.19953401479958427\n",
      "-0.19953401479958444\n",
      "-0.1995340147995841\n",
      "-0.19953401479958463\n",
      "-0.1995340147995842\n",
      "-0.1995340147995846\n",
      "-0.1995340147995845\n",
      "-0.199534014799584\n",
      "-0.19953401479958438\n",
      "-0.19953401479958408\n",
      "-0.19953401479958446\n",
      "-0.19953401479958435\n",
      "-0.19953401479958435\n",
      "-0.19953401479958438\n",
      "-0.1995340147995844\n",
      "-0.19953401479958438\n",
      "-0.19953401479958427\n",
      "-0.19953401479958421\n",
      "-0.19953401479958444\n",
      "-0.19953401479958394\n",
      "-0.19953401479958402\n",
      "-0.1995340147995843\n",
      "-0.199534014799584\n",
      "-0.19953401479958444\n",
      "-0.1995340147995843\n",
      "-0.19953401479958452\n",
      "-0.19953401479958402\n",
      "-0.1995340147995843\n",
      "-0.1995340147995843\n",
      "-0.19953401479958402\n",
      "-0.1995340147995843\n",
      "-0.19953401479958421\n",
      "-0.19953401479958444\n",
      "-0.19953401479958455\n",
      "-0.19953401479958463\n",
      "-0.19953401479958421\n",
      "-0.19953401479958446\n",
      "-0.1995340147995846\n",
      "-0.19953401479958435\n",
      "-0.19953401479958413\n",
      "-0.19953401479958438\n",
      "-0.19953401479958446\n",
      "-0.19953401479958438\n",
      "-0.19953401479958427\n",
      "-0.19953401479958452\n",
      "-0.19953401479958432\n",
      "-0.1995340147995846\n",
      "-0.19953401479958424\n",
      "-0.19953401479958438\n",
      "-0.1995340147995847\n",
      "-0.1995340147995847\n",
      "-0.1995340147995844\n",
      "-0.19953401479958427\n",
      "-0.19953401479958466\n",
      "-0.1995340147995844\n",
      "-0.1995340147995847\n",
      "-0.19953401479958435\n",
      "-0.19953401479958438\n",
      "-0.19953401479958446\n",
      "-0.19953401479958457\n",
      "-0.19953401479958474\n",
      "-0.19953401479958452\n",
      "-0.19953401479958435\n",
      "-0.19953401479958432\n",
      "-0.19953401479958444\n",
      "-0.1995340147995842\n",
      "-0.19953401479958438\n",
      "-0.19953401479958457\n",
      "-0.1995340147995846\n",
      "-0.19953401479958444\n",
      "-0.19953401479958424\n",
      "-0.19953401479958435\n",
      "-0.19953401479958421\n",
      "-0.19953401479958457\n",
      "-0.19953401479958457\n",
      "-0.19953401479958416\n",
      "-0.1995340147995841\n",
      "-0.1995340147995848\n",
      "-0.1995340147995848\n",
      "-0.19953401479958438\n",
      "-0.19953401479958452\n",
      "-0.1995340147995847\n",
      "-0.19953401479958444\n",
      "-0.19953401479958435\n",
      "-0.19953401479958488\n",
      "-0.19953401479958427\n",
      "-0.19953401479958427\n",
      "-0.1995340147995848\n",
      "-0.19953401479958435\n",
      "-0.19953401479958455\n",
      "-0.19953401479958455\n",
      "-0.19953401479958446\n",
      "-0.19953401479958505\n",
      "-0.19953401479958457\n",
      "-0.1995340147995844\n",
      "-0.19953401479958424\n",
      "-0.19953401479958408\n",
      "-0.199534014799584\n",
      "-0.1995340147995846\n",
      "-0.19953401479958452\n",
      "-0.19953401479958438\n",
      "-0.19953401479958427\n",
      "-0.1995340147995845\n",
      "-0.1995340147995841\n",
      "-0.19953401479958435\n",
      "-0.1995340147995842\n",
      "-0.1995340147995841\n",
      "-0.1995340147995844\n",
      "-0.19953401479958446\n",
      "-0.19953401479958444\n",
      "-0.19953401479958463\n",
      "-0.1995340147995842\n",
      "-0.19953401479958455\n",
      "-0.19953401479958435\n",
      "-0.19953401479958435\n",
      "-0.1995340147995844\n",
      "-0.1995340147995846\n",
      "-0.19953401479958421\n",
      "-0.1995340147995845\n",
      "-0.19953401479958432\n",
      "-0.19953401479958438\n",
      "-0.1995340147995845\n",
      "-0.19953401479958446\n",
      "-0.19953401479958432\n",
      "-0.19953401479958457\n",
      "-0.19953401479958421\n",
      "-0.1995340147995843\n",
      "-0.1995340147995845\n",
      "-0.19953401479958457\n",
      "-0.19953401479958432\n",
      "-0.19953401479958421\n",
      "-0.19953401479958452\n",
      "-0.19953401479958438\n",
      "-0.19953401479958427\n",
      "-0.19953401479958455\n",
      "-0.1995340147995842\n",
      "-0.19953401479958421\n",
      "-0.1995340147995846\n",
      "-0.1995340147995841\n",
      "-0.19953401479958446\n",
      "-0.19953401479958444\n",
      "-0.19953401479958427\n",
      "-0.19953401479958402\n",
      "-0.19953401479958424\n",
      "-0.1995340147995842\n",
      "-0.19953401479958427\n",
      "-0.19953401479958424\n",
      "-0.19953401479958432\n",
      "-0.199534014799584\n",
      "-0.19953401479958435\n",
      "-0.19953401479958463\n",
      "-0.19953401479958416\n",
      "-0.1995340147995846\n",
      "-0.19953401479958463\n",
      "-0.19953401479958452\n",
      "-0.19953401479958424\n",
      "-0.1995340147995842\n",
      "-0.19953401479958482\n",
      "-0.19953401479958413\n",
      "-0.1995340147995843\n",
      "-0.19953401479958435\n",
      "-0.19953401479958421\n",
      "-0.19953401479958527\n",
      "-0.19953401479958557\n",
      "-0.199534014799586\n",
      "-0.19953401479958585\n",
      "-0.1995340147995861\n",
      "-0.1995340147995865\n",
      "-0.19953401479958627\n",
      "-0.1995340147995879\n",
      "-0.19953401479958774\n",
      "-0.19953401479958774\n",
      "-0.199534014799588\n",
      "-0.19953401479958766\n",
      "-0.1995340147995891\n",
      "-0.1995340147995889\n",
      "-0.1995340147995891\n",
      "-0.1995340147995893\n",
      "-0.199534014799589\n",
      "-0.19953401479958902\n",
      "-0.19953401479958927\n",
      "-0.19953401479958907\n",
      "-0.19953401479958907\n",
      "-0.19953401479959013\n",
      "-0.19953401479959\n",
      "-0.19953401479959038\n",
      "-0.1995340147995903\n",
      "-0.1995340147995905\n",
      "-0.19953401479959063\n",
      "-0.1995340147995908\n",
      "-0.19953401479959096\n",
      "-0.19953401479959096\n",
      "-0.19953401479959076\n",
      "-0.199534014799591\n",
      "-0.1995340147995912\n",
      "-0.19953401479959096\n",
      "-0.19953401479959063\n",
      "-0.1995340147995908\n",
      "-0.19953401479959085\n",
      "-0.199534014799591\n",
      "-0.1995340147995917\n",
      "-0.19953401479959193\n",
      "-0.19953401479959165\n",
      "-0.19953401479959193\n",
      "-0.19953401479959265\n",
      "-0.19953401479959212\n",
      "-0.19953401479959215\n",
      "-0.19953401479959185\n",
      "-0.199534014799592\n",
      "-0.1995340147995921\n",
      "-0.19953401479959212\n",
      "-0.19953401479959185\n",
      "-0.19953401479959215\n",
      "-0.19953401479959193\n",
      "-0.1995340147995922\n",
      "-0.19953401479959199\n",
      "-0.19953401479959224\n",
      "-0.19953401479959232\n",
      "-0.19953401479959215\n",
      "-0.19953401479959207\n",
      "-0.19953401479959232\n",
      "-0.19953401479959204\n",
      "-0.19953401479959204\n",
      "-0.19953401479959215\n",
      "-0.19953401479959218\n",
      "-0.19953401479959232\n",
      "-0.19953401479959176\n",
      "-0.19953401479959204\n",
      "-0.199534014799592\n",
      "-0.19953401479959243\n",
      "-0.19953401479959224\n",
      "-0.19953401479959237\n",
      "-0.1995340147995922\n",
      "-0.1995340147995923\n",
      "-0.19953401479959207\n",
      "-0.19953401479959237\n",
      "-0.19953401479959262\n",
      "-0.19953401479959215\n",
      "-0.19953401479959254\n",
      "-0.1995340147995924\n",
      "-0.19953401479959254\n",
      "-0.1995340147995924\n",
      "-0.19953401479959243\n",
      "-0.19953401479959235\n",
      "-0.19953401479959285\n",
      "-0.19953401479959224\n",
      "-0.1995340147995923\n",
      "-0.19953401479959276\n",
      "-0.19953401479959254\n",
      "-0.19953401479959257\n",
      "-0.19953401479959337\n",
      "-0.1995340147995936\n",
      "-0.19953401479959362\n",
      "-0.19953401479959393\n",
      "-0.19953401479959346\n",
      "-0.19953401479959382\n",
      "-0.19953401479959357\n",
      "-0.19953401479959365\n",
      "-0.19953401479959348\n",
      "-0.1995340147995934\n",
      "-0.19953401479959373\n",
      "-0.19953401479959393\n",
      "-0.19953401479959365\n",
      "-0.1995340147995939\n",
      "-0.19953401479959368\n",
      "-0.1995340147995933\n",
      "-0.1995340147995937\n",
      "-0.1995340147995935\n",
      "-0.19953401479959343\n",
      "-0.19953401479959365\n",
      "-0.1995340147995936\n",
      "-0.19953401479959387\n",
      "-0.19953401479959382\n",
      "-0.19953401479959382\n",
      "-0.19953401479959387\n",
      "-0.19953401479959385\n",
      "-0.19953401479959385\n",
      "-0.19953401479959382\n",
      "-0.19953401479959382\n",
      "-0.19953401479959387\n",
      "-0.19953401479959387\n",
      "-0.19953401479959387\n",
      "-0.19953401479959376\n",
      "-0.19953401479959376\n",
      "-0.19953401479959373\n",
      "-0.19953401479959393\n",
      "-0.19953401479959382\n",
      "-0.19953401479959382\n",
      "-0.19953401479959376\n",
      "-0.19953401479959393\n",
      "-0.19953401479959376\n",
      "-0.19953401479959382\n",
      "-0.19953401479959382\n",
      "-0.19953401479959387\n",
      "-0.19953401479959387\n",
      "-0.19953401479959415\n",
      "-0.19953401479959415\n",
      "-0.19953401479959382\n",
      "-0.19953401479959393\n",
      "-0.199534014799594\n"
     ]
    }
   ],
   "source": [
    "optimizer = tf.optimizers.Adam(learning_rate=0.01)\n",
    "\n",
    "for i in range(2000):\n",
    "    with tf.GradientTape(watch_accessed_variables=False) as tape:\n",
    "        tape.watch([A,B,C,D,E,F])\n",
    "        \n",
    "        \n",
    "        X1 = tf.cast(A, dtype=precision) + 1j*tf.cast(B, dtype=precision)\n",
    "        XX1 = tf.matmul(X1, X1, adjoint_b=True)\n",
    "        state1 = XX1/tf.linalg.trace(XX1)\n",
    "        \n",
    "        X2 = tf.cast(C, dtype=precision) + 1j*tf.cast(D, dtype=precision)\n",
    "        XX2 = tf.matmul(X2, X2, adjoint_b=True)\n",
    "        state2 = XX2/tf.linalg.trace(XX2)\n",
    "        \n",
    "        X3 = tf.cast(E, dtype=precision) + 1j*tf.cast(F, dtype=precision)\n",
    "        XX3 = tf.matmul(X3, X3, adjoint_b=True)\n",
    "        state3 = XX3/tf.linalg.trace(XX3)\n",
    "\n",
    "        \n",
    "        state = tf.expand_dims(kron(state1,state2,state3), axis=0)\n",
    "\n",
    "        state = model.channel.apply_channel(state)\n",
    "        state = partial_transpose(state, qubit=0)\n",
    "\n",
    "        eig, _ = tf.linalg.eigh(state)\n",
    "        eig = tf.math.real(eig)\n",
    "        loss = tf.math.reduce_min(eig) + tf.math.reduce_sum(eig[eig<0]) - tf.math.reduce_min(eig[eig<0])\n",
    "        grads = tape.gradient(loss, [A,B,C,D,E,F])\n",
    "        optimizer.apply_gradients(zip(grads, [A,B,C,D,E,F]))\n",
    "        print(loss.numpy())"
   ]
  },
  {
   "cell_type": "code",
   "execution_count": 8,
   "metadata": {},
   "outputs": [],
   "source": [
    "state = kron(state1,state2,state3)"
   ]
  },
  {
   "cell_type": "code",
   "execution_count": 9,
   "metadata": {},
   "outputs": [
    {
     "data": {
      "image/png": "[encoded data removed]",
      "text/plain": [
       "<Figure size 1800x1800 with 2 Axes>"
      ]
     },
     "metadata": {},
     "output_type": "display_data"
    }
   ],
   "source": [
    "fig = plt.figure(figsize=(6,6), dpi = 300, facecolor='w', edgecolor='k')\n",
    "plt.imshow(np.abs(state), cmap='hot', interpolation='nearest')\n",
    "plt.colorbar()\n",
    "plt.show()"
   ]
  },
  {
   "cell_type": "code",
   "execution_count": 10,
   "metadata": {},
   "outputs": [
    {
     "data": {
      "image/png": "[encoded data removed]",
      "text/plain": [
       "<Figure size 1800x1800 with 2 Axes>"
      ]
     },
     "metadata": {},
     "output_type": "display_data"
    }
   ],
   "source": [
    "fig = plt.figure(figsize=(6,6), dpi = 300, facecolor='w', edgecolor='k')\n",
    "plt.imshow(np.abs(state1), cmap='hot', interpolation='nearest')\n",
    "plt.colorbar()\n",
    "plt.show()"
   ]
  },
  {
   "cell_type": "code",
   "execution_count": 11,
   "metadata": {},
   "outputs": [
    {
     "data": {
      "image/png": "[encoded data removed]",
      "text/plain": [
       "<Figure size 1800x1800 with 2 Axes>"
      ]
     },
     "metadata": {},
     "output_type": "display_data"
    }
   ],
   "source": [
    "fig = plt.figure(figsize=(6,6), dpi = 300, facecolor='w', edgecolor='k')\n",
    "plt.imshow(np.abs(state2), cmap='hot', interpolation='nearest')\n",
    "plt.colorbar()\n",
    "plt.show()"
   ]
  },
  {
   "cell_type": "code",
   "execution_count": 12,
   "metadata": {},
   "outputs": [
    {
     "data": {
      "image/png": "[encoded data removed]",
      "text/plain": [
       "<Figure size 1800x1800 with 2 Axes>"
      ]
     },
     "metadata": {},
     "output_type": "display_data"
    }
   ],
   "source": [
    "fig = plt.figure(figsize=(6,6), dpi = 300, facecolor='w', edgecolor='k')\n",
    "plt.imshow(np.abs(state3), cmap='hot', interpolation='nearest')\n",
    "plt.colorbar()\n",
    "plt.show()"
   ]
  },
  {
   "cell_type": "code",
   "execution_count": 18,
   "metadata": {},
   "outputs": [],
   "source": [
    "N = targets_map.shape[0]\n",
    "d = model.channel.spam.init.shape[0]\n",
    "U_prep, U_basis = inputs_map\n",
    "\n",
    "state = tf.repeat(tf.expand_dims(model.channel.spam.init, axis=0), N, axis=0)\n",
    "state = apply_unitary(state, U_prep)\n",
    "state = model.channel.apply_channel(state)\n",
    "output = measurement(state, U_basis, model.channel.spam.povm)"
   ]
  },
  {
   "cell_type": "code",
   "execution_count": 21,
   "metadata": {},
   "outputs": [
    {
     "name": "stdout",
     "output_type": "stream",
     "text": [
      "tf.Tensor(\n",
      "[0.1987+8.6249e-19j 0.1471-1.7798e-18j 0.1063+1.6813e-18j\n",
      " 0.0768-2.7883e-19j 0.1931+9.6475e-18j 0.1217-1.0601e-18j\n",
      " 0.083 +1.9314e-18j 0.0761+1.4505e-18j], shape=(8,), dtype=complex128) tf.Tensor(\n",
      "[0.215+0.j 0.145+0.j 0.107+0.j 0.078+0.j 0.166+0.j 0.129+0.j 0.07 +0.j\n",
      " 0.09 +0.j], shape=(8,), dtype=complex128)\n"
     ]
    }
   ],
   "source": [
    "print(output[1], targets_map[1])"
   ]
  },
  {
   "cell_type": "code",
   "execution_count": null,
   "metadata": {},
   "outputs": [],
   "source": []
  }
 ],
 "metadata": {
  "kernelspec": {
   "display_name": "env_qiskit",
   "language": "python",
   "name": "env_qiskit"
  },
  "language_info": {
   "codemirror_mode": {
    "name": "ipython",
    "version": 3
   },
   "file_extension": ".py",
   "mimetype": "text/x-python",
   "name": "python",
   "nbconvert_exporter": "python",
   "pygments_lexer": "ipython3",
   "version": "3.10.4"
  }
 },
 "nbformat": 4,
 "nbformat_minor": 4
}
