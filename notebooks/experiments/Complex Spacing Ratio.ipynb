{
 "cells": [
  {
   "cell_type": "markdown",
   "metadata": {},
   "source": [
    "# Diluted Unitary Fitting"
   ]
  },
  {
   "cell_type": "code",
   "execution_count": 5,
   "metadata": {},
   "outputs": [],
   "source": [
    "import sys\n",
    "sys.path.insert(0, '../../src_tf/')\n",
    "\n",
    "import numpy as np\n",
    "import qiskit as qk\n",
    "import matplotlib.pyplot as plt\n",
    "import multiprocessing as mp\n",
    "import random\n",
    "import pickle\n",
    "\n",
    "from qiskit.quantum_info import DensityMatrix, random_unitary\n",
    "from qiskit.quantum_info import Operator\n",
    "from scipy.linalg import sqrtm\n",
    "from tqdm.notebook import tqdm\n",
    "from math import ceil\n",
    "\n",
    "from loss_functions import *\n",
    "from optimization import *\n",
    "from quantum_channel import *\n",
    "from kraus_channels import *\n",
    "from quantum_tools import *\n",
    "from experimental import *\n",
    "from spam import *\n",
    "from scipy.stats import gaussian_kde\n",
    "from quantum_circuits import *\n",
    "from analysis import *\n",
    "from utils import *\n",
    "\n",
    "#np.set_printoptions(threshold=sys.maxsize)\n",
    "np.set_printoptions(precision=4)\n",
    "\n",
    "import os\n",
    "os.environ[\"CUDA_VISIBLE_DEVICES\"] = \"-1\""
   ]
  },
  {
   "cell_type": "code",
   "execution_count": 6,
   "metadata": {},
   "outputs": [],
   "source": [
    "def optimize_annulus_distance(spectrum_target = None, \n",
    "                              d = None, \n",
    "                              rank_start = 1,\n",
    "                              rank_step = 1,\n",
    "                              num_iter = 1000,\n",
    "                              lr = 0.001): \n",
    "    \n",
    "    model_list = []\n",
    "    distance_list = []\n",
    "    counter = 0\n",
    "    \n",
    "    for rank in range(rank_start, d**2+rank_step, rank_step): \n",
    "        model = ModelQuantumMap(channel = DilutedKrausMap(U=generate_unitary(d), \n",
    "                                                          c=0.5, \n",
    "                                                          kraus_part=KrausMap(d, \n",
    "                                                                              rank=rank, \n",
    "                                                                              trainable=False),\n",
    "                                                     ),\n",
    "                            loss_function = AnnulusDistance(),\n",
    "                            optimizer = tf.optimizers.Adam(learning_rate=lr),\n",
    "                            logger = Logger(loss_function = AnnulusDistance(), \n",
    "                                            verbose=True,),\n",
    "                            )\n",
    "        model.train(inputs = None,\n",
    "                    targets = [spectrum_target],\n",
    "                    num_iter = num_iter,\n",
    "                    \n",
    "                   )\n",
    "\n",
    "        model_list.append(model)\n",
    "        distance_list.append(model.logger.loss_train_list[-1])\n",
    "        \n",
    "        idx = np.argmin(distance_list)\n",
    "        if distance_list[-1] > distance_list[idx]:\n",
    "            counter += 1\n",
    "        if counter > 4:\n",
    "            print(\"Done!\")\n",
    "            break\n",
    "\n",
    "    distance_best = distance_list[idx]\n",
    "    model_best = model_list[idx]\n",
    "\n",
    "    return distance_best, model_best\n",
    "\n",
    "def fit_diluted_unitary(spectrum_target_list, \n",
    "                        d, \n",
    "                        rank_start, \n",
    "                        rank_step,\n",
    "                        num_iter = 1000,\n",
    "                        lr = 0.001):\n",
    "    \n",
    "    distance_best_list = []\n",
    "    model_best_list = []\n",
    "    for spectrum_target in tqdm(spectrum_target_list):\n",
    "        U = generate_haar_random(d, rng) \n",
    "        distance_best, model_best = optimize_annulus_distance(spectrum_target,\n",
    "                                                              d,\n",
    "                                                              rank_start,\n",
    "                                                              rank_step,\n",
    "                                                              num_iter = num_iter,\n",
    "                                                              lr = lr)\n",
    "        distance_best_list.append(distance_best)\n",
    "        model_best_list.append(model_best)\n",
    "    \n",
    "    for model in model_best_list:\n",
    "        model.optimizer = None\n",
    "        \n",
    "    return distance_best_list, model_best_list"
   ]
  },
  {
   "cell_type": "markdown",
   "metadata": {},
   "source": [
    "## Three Qubits"
   ]
  },
  {
   "cell_type": "code",
   "execution_count": 7,
   "metadata": {
    "scrolled": true
   },
   "outputs": [],
   "source": [
    "[channel_list1, channel_list2, channel_list3, channel_list4, channel_list5, channel_list6, channel_list7] = loader(data_path(\"channel_fullRank_belem_longTrain.p\"))\n",
    "\n",
    "spectrum_target_list1 = [channel_spectrum(channel, keep_real=False) for channel in channel_list1]\n",
    "spectrum_target_list2 = [channel_spectrum(channel, keep_real=False) for channel in channel_list2]\n",
    "spectrum_target_list3 = [channel_spectrum(channel, keep_real=False) for channel in channel_list3]\n",
    "spectrum_target_list4 = [channel_spectrum(channel, keep_real=False) for channel in channel_list4]\n",
    "spectrum_target_list5 = [channel_spectrum(channel, keep_real=False) for channel in channel_list5]\n",
    "spectrum_target_list6 = [channel_spectrum(channel, keep_real=False) for channel in channel_list6]\n",
    "spectrum_target_list7 = [channel_spectrum(channel, keep_real=False) for channel in channel_list7]"
   ]
  },
  {
   "cell_type": "code",
   "execution_count": null,
   "metadata": {},
   "outputs": [
    {
     "data": {
      "application/vnd.jupyter.widget-view+json": {
       "model_id": "c62daf0066864f52b12427a7299307eb",
       "version_major": 2,
       "version_minor": 0
      },
      "text/plain": [
       "  0%|          | 0/10 [00:00<?, ?it/s]"
      ]
     },
     "metadata": {},
     "output_type": "display_data"
    },
    {
     "data": {
      "application/vnd.jupyter.widget-view+json": {
       "model_id": "7274526480e94885a9d67c943c75b48b",
       "version_major": 2,
       "version_minor": 0
      },
      "text/plain": [
       "  0%|          | 0/2000 [00:00<?, ?it/s]"
      ]
     },
     "metadata": {},
     "output_type": "display_data"
    },
    {
     "name": "stdout",
     "output_type": "stream",
     "text": [
      "0.25870827764787613 None\n",
      "0.23123761210177746 None\n",
      "0.19316427390240198 None\n",
      "0.14635843343264948 None\n",
      "0.11023732618505148 None\n",
      "0.08122688512243606 None\n",
      "0.055627620437122896 None\n",
      "0.03636882797064006 None\n",
      "0.03604765534084946 None\n",
      "0.03602321840519786 None\n",
      "0.03600890490859433 None\n",
      "0.03602504852334844 None\n",
      "0.03602667659961456 None\n",
      "0.03604553216827028 None\n",
      "0.03603218197942683 None\n",
      "0.0360224349717707 None\n",
      "0.03600504196386836 None\n",
      "0.03601676125307163 None\n",
      "0.036016454919517285 None\n",
      "0.03604879392730845 None\n",
      "tf.Tensor(0.0360444036353184, shape=(), dtype=float64)\n",
      "0.036071301919824106 None\n"
     ]
    },
    {
     "data": {
      "application/vnd.jupyter.widget-view+json": {
       "model_id": "ecd183e382244b0c8fb8bdf984aee6a4",
       "version_major": 2,
       "version_minor": 0
      },
      "text/plain": [
       "  0%|          | 0/2000 [00:00<?, ?it/s]"
      ]
     },
     "metadata": {},
     "output_type": "display_data"
    },
    {
     "name": "stdout",
     "output_type": "stream",
     "text": [
      "0.2344712635121265 None\n",
      "0.20457468696272116 None\n",
      "0.1747582934940749 None\n",
      "0.14433240908834333 None\n",
      "0.11483444324923542 None\n",
      "0.08780658745198973 None\n",
      "0.06252375962245804 None\n",
      "0.03851567137121013 None\n",
      "0.015937625340388475 None\n",
      "0.013160353833535064 None\n",
      "0.013151594602666308 None\n",
      "0.013145094647663426 None\n",
      "0.013189820215710288 None\n",
      "0.013166641816282368 None\n",
      "0.013189813805086083 None\n",
      "0.013145612248788772 None\n",
      "0.013180590710874181 None\n",
      "0.013146110948448069 None\n",
      "0.013177689754138081 None\n",
      "0.013144205564876676 None\n",
      "tf.Tensor(0.013171305696179757, shape=(), dtype=float64)\n",
      "0.013154785376656222 None\n"
     ]
    },
    {
     "data": {
      "application/vnd.jupyter.widget-view+json": {
       "model_id": "e3de62b991624d639ce409f4e920c188",
       "version_major": 2,
       "version_minor": 0
      },
      "text/plain": [
       "  0%|          | 0/2000 [00:00<?, ?it/s]"
      ]
     },
     "metadata": {},
     "output_type": "display_data"
    },
    {
     "name": "stdout",
     "output_type": "stream",
     "text": [
      "0.23247444054592442 None\n",
      "0.2006087419236839 None\n",
      "0.17044626174737365 None\n",
      "0.1413328645617049 None\n",
      "0.1130425554710831 None\n",
      "0.0857001445682734 None\n",
      "0.060671550444872734 None\n",
      "0.03796864771576951 None\n",
      "0.016501795269799027 None\n",
      "0.008994696796485013 None\n",
      "0.008989914267963712 None\n",
      "0.008979814114158116 None\n",
      "0.008992533565230408 None\n",
      "0.009033694362773365 None\n",
      "0.008991348668532243 None\n",
      "0.008987609220127587 None\n",
      "0.008975499428765833 None\n",
      "0.009005496982878121 None\n",
      "0.009000452535473775 None\n",
      "0.00898079981404757 None\n",
      "tf.Tensor(0.009013813872191415, shape=(), dtype=float64)\n",
      "0.009035809128633304 None\n"
     ]
    },
    {
     "data": {
      "application/vnd.jupyter.widget-view+json": {
       "model_id": "aac60cc3521a4f4b988620611803f903",
       "version_major": 2,
       "version_minor": 0
      },
      "text/plain": [
       "  0%|          | 0/2000 [00:00<?, ?it/s]"
      ]
     },
     "metadata": {},
     "output_type": "display_data"
    },
    {
     "name": "stdout",
     "output_type": "stream",
     "text": [
      "0.20585000592203617 None\n",
      "0.1784272630286294 None\n",
      "0.15227093021927957 None\n",
      "0.1264025323305647 None\n",
      "0.10122612151171408 None\n",
      "0.07686146955001052 None\n",
      "0.05335558724453909 None\n",
      "0.030808987989079273 None\n",
      "0.012334824755154628 None\n",
      "0.01181313411596496 None\n",
      "0.011833147753721598 None\n",
      "0.01183864982168878 None\n",
      "0.011814863205915165 None\n",
      "0.011836575279523746 None\n",
      "0.011817553945657096 None\n",
      "0.011833370169800957 None\n",
      "0.011821619325398557 None\n",
      "0.011817786316259703 None\n",
      "0.011837949509092605 None\n",
      "0.011824135122573375 None\n",
      "tf.Tensor(0.011837143796011966, shape=(), dtype=float64)\n",
      "0.011852204895556787 None\n"
     ]
    },
    {
     "data": {
      "application/vnd.jupyter.widget-view+json": {
       "model_id": "67c9116ea3254612b2ba47065b682cf1",
       "version_major": 2,
       "version_minor": 0
      },
      "text/plain": [
       "  0%|          | 0/2000 [00:00<?, ?it/s]"
      ]
     },
     "metadata": {},
     "output_type": "display_data"
    },
    {
     "name": "stdout",
     "output_type": "stream",
     "text": [
      "0.20873547676541498 None\n",
      "0.18097618518600297 None\n",
      "0.15366463794906027 None\n",
      "0.1268792055352601 None\n",
      "0.10099624517569124 None\n",
      "0.07596149874232427 None\n",
      "0.051933805781723984 None\n",
      "0.029064209242232623 None\n",
      "0.007511697553634872 None\n",
      "0.0017429857568089738 None\n",
      "0.0017521231854246925 None\n",
      "0.001744108876120939 None\n",
      "0.0017610342041544484 None\n",
      "0.0017470423768907433 None\n",
      "0.0017490373988020558 None\n",
      "0.0017368506076010752 None\n",
      "0.0017294391805930485 None\n",
      "0.0017363614993799407 None\n",
      "0.0017284403278771468 None\n",
      "0.0017323807343207487 None\n",
      "tf.Tensor(0.0017413089270879676, shape=(), dtype=float64)\n",
      "0.0017414372178864625 None\n"
     ]
    },
    {
     "data": {
      "application/vnd.jupyter.widget-view+json": {
       "model_id": "fe4dcd6f34f3401eaedc45069630e9ae",
       "version_major": 2,
       "version_minor": 0
      },
      "text/plain": [
       "  0%|          | 0/2000 [00:00<?, ?it/s]"
      ]
     },
     "metadata": {},
     "output_type": "display_data"
    },
    {
     "name": "stdout",
     "output_type": "stream",
     "text": [
      "0.20813698422202306 None\n",
      "0.179859332346448 None\n",
      "0.15285505429716442 None\n",
      "0.12630548762538585 None\n",
      "0.09995948406063389 None\n",
      "0.074630420048339 None\n",
      "0.05086923981586988 None\n",
      "0.028626039293294908 None\n",
      "0.007503598698380366 None\n",
      "0.0008842798232013734 None\n",
      "0.0008523322640541665 None\n",
      "0.0008388212309707876 None\n",
      "0.0009183056452804778 None\n",
      "0.0008768810068310925 None\n",
      "0.0008629002646795749 None\n",
      "0.0008752248545760618 None\n",
      "0.0008951735627710216 None\n",
      "0.0008874974371720131 None\n",
      "0.0008497515734931065 None\n",
      "0.00088162569054521 None\n",
      "tf.Tensor(0.0008372453549404003, shape=(), dtype=float64)\n",
      "0.0008420590689315315 None\n"
     ]
    },
    {
     "data": {
      "application/vnd.jupyter.widget-view+json": {
       "model_id": "cdb5bb8ca7f04eccba19a255bd0e3116",
       "version_major": 2,
       "version_minor": 0
      },
      "text/plain": [
       "  0%|          | 0/2000 [00:00<?, ?it/s]"
      ]
     },
     "metadata": {},
     "output_type": "display_data"
    },
    {
     "name": "stdout",
     "output_type": "stream",
     "text": [
      "0.20644198469459824 None\n",
      "0.18014412279631492 None\n",
      "0.15266027673207613 None\n",
      "0.12671448630891904 None\n",
      "0.10141992412272495 None\n",
      "0.07676722337436453 None\n",
      "0.05291469783427491 None\n",
      "0.029998467534676776 None\n",
      "0.008196555729136478 None\n",
      "0.004797575615007158 None\n",
      "0.0047989671916182815 None\n",
      "0.004803121374277797 None\n",
      "0.004781848636290734 None\n",
      "0.004782686183206247 None\n",
      "0.004775029288552366 None\n",
      "0.004785653817681083 None\n",
      "0.004807675489941803 None\n",
      "0.004782140413069819 None\n",
      "0.004810986809989173 None\n",
      "0.004805379665222213 None\n",
      "tf.Tensor(0.004791058367973999, shape=(), dtype=float64)\n",
      "0.00477938116157996 None\n"
     ]
    },
    {
     "data": {
      "application/vnd.jupyter.widget-view+json": {
       "model_id": "e2fad9f99d5d4200935666cfcfb28bba",
       "version_major": 2,
       "version_minor": 0
      },
      "text/plain": [
       "  0%|          | 0/2000 [00:00<?, ?it/s]"
      ]
     },
     "metadata": {},
     "output_type": "display_data"
    },
    {
     "name": "stdout",
     "output_type": "stream",
     "text": [
      "0.20396695867952305 None\n",
      "0.17678813543950556 None\n",
      "0.1505457086391007 None\n",
      "0.12455918067251429 None\n",
      "0.09921028350592556 None\n",
      "0.07464160282166878 None\n",
      "0.04827075478282014 None\n",
      "0.025993602889519747 None\n",
      "0.004740049308004583 None\n",
      "0.0013118916978861108 None\n",
      "0.0012926848699267076 None\n",
      "0.0013039512697548567 None\n",
      "0.0012919948198769765 None\n",
      "0.0013052641511535536 None\n",
      "0.0012958364176468458 None\n",
      "0.001298960987882812 None\n",
      "0.00128883180980764 None\n",
      "0.0012808729299498955 None\n",
      "0.0012819241581202047 None\n",
      "0.001288097080821447 None\n",
      "tf.Tensor(0.001292778803158966, shape=(), dtype=float64)\n",
      "0.0012971503081724168 None\n"
     ]
    },
    {
     "data": {
      "application/vnd.jupyter.widget-view+json": {
       "model_id": "aed9df44205b4b328b610fe244535b02",
       "version_major": 2,
       "version_minor": 0
      },
      "text/plain": [
       "  0%|          | 0/2000 [00:00<?, ?it/s]"
      ]
     },
     "metadata": {},
     "output_type": "display_data"
    },
    {
     "name": "stdout",
     "output_type": "stream",
     "text": [
      "0.19592921662086785 None\n",
      "0.16964129571094444 None\n",
      "0.14378530612571774 None\n",
      "0.11835519101018413 None\n",
      "0.09352371663262221 None\n",
      "0.06941756529896867 None\n",
      "0.0450241856982843 None\n",
      "0.022797458345193537 None\n",
      "0.0015717049993938682 None\n",
      "0.00027502183617755284 None\n",
      "0.00023637239305050392 None\n",
      "0.0002228646664188417 None\n",
      "0.0002516314358572535 None\n",
      "0.00021217331949739335 None\n",
      "0.0002172420100559208 None\n",
      "0.00027824805678081793 None\n",
      "0.00022454570905424028 None\n",
      "0.00021360274781049432 None\n",
      "0.00021076009575023147 None\n",
      "0.0002558238255030588 None\n",
      "tf.Tensor(0.00025352481567446523, shape=(), dtype=float64)\n",
      "0.00022508613797270031 None\n"
     ]
    },
    {
     "data": {
      "application/vnd.jupyter.widget-view+json": {
       "model_id": "0a0d388f74c9445fa4c64eeaa8c9e16f",
       "version_major": 2,
       "version_minor": 0
      },
      "text/plain": [
       "  0%|          | 0/2000 [00:00<?, ?it/s]"
      ]
     },
     "metadata": {},
     "output_type": "display_data"
    },
    {
     "name": "stdout",
     "output_type": "stream",
     "text": [
      "0.19867549654947386 None\n",
      "0.17167829006012592 None\n",
      "0.1451726273954009 None\n",
      "0.11928871139903546 None\n",
      "0.094109704114321 None\n",
      "0.06993457866688835 None\n",
      "0.04679162732072613 None\n",
      "0.02466449557089529 None\n",
      "0.003302338698461596 None\n",
      "0.0004758027595093157 None\n",
      "0.0004363776276926582 None\n",
      "0.000450036744799558 None\n",
      "0.00044969077427546925 None\n",
      "0.00044819431326660435 None\n",
      "0.0004489644996693142 None\n",
      "0.0004382024301594848 None\n",
      "0.0004439604638970824 None\n",
      "0.0004431969918898566 None\n",
      "0.00045672946715869314 None\n",
      "0.00046187685238952697 None\n",
      "tf.Tensor(0.00044887209413873447, shape=(), dtype=float64)\n",
      "0.0004497379676076836 None\n"
     ]
    },
    {
     "data": {
      "application/vnd.jupyter.widget-view+json": {
       "model_id": "fb62296fd9f041bab1d84a9bb604d0c1",
       "version_major": 2,
       "version_minor": 0
      },
      "text/plain": [
       "  0%|          | 0/2000 [00:00<?, ?it/s]"
      ]
     },
     "metadata": {},
     "output_type": "display_data"
    },
    {
     "name": "stdout",
     "output_type": "stream",
     "text": [
      "0.19565116191628235 None\n",
      "0.16884775767276397 None\n",
      "0.14274699540426655 None\n",
      "0.11728486663083097 None\n",
      "0.09249335961256142 None\n",
      "0.06846110749150396 None\n",
      "0.047766542960475604 None\n",
      "0.02865503180681133 None\n",
      "0.010136250038965159 None\n",
      "0.002712606217680191 None\n",
      "0.002700424030616917 None\n",
      "0.002780831789653486 None\n",
      "0.002723342099615349 None\n",
      "0.0027038630191710614 None\n",
      "0.0027107543616093147 None\n",
      "0.002727254973687303 None\n",
      "0.0027095443290349863 None\n",
      "0.002706330073460385 None\n",
      "0.002753853977393278 None\n",
      "0.0026987808339904596 None\n",
      "tf.Tensor(0.0027244424751342537, shape=(), dtype=float64)\n",
      "0.0027353764301378 None\n",
      "Done!\n"
     ]
    },
    {
     "data": {
      "application/vnd.jupyter.widget-view+json": {
       "model_id": "4ded70ffc4204e439a228bb468482b68",
       "version_major": 2,
       "version_minor": 0
      },
      "text/plain": [
       "  0%|          | 0/2000 [00:00<?, ?it/s]"
      ]
     },
     "metadata": {},
     "output_type": "display_data"
    },
    {
     "name": "stdout",
     "output_type": "stream",
     "text": [
      "0.3011304854746804 None\n",
      "0.2479611067849743 None\n",
      "0.21139907593668697 None\n",
      "0.18102048707685903 None\n",
      "0.15394243522326106 None\n",
      "0.1273196587487624 None\n",
      "0.10112852023051756 None\n",
      "0.07578538771503784 None\n",
      "0.051746132519105946 None\n",
      "0.03945798763502017 None\n",
      "0.039458637118229486 None\n",
      "0.039445627653723475 None\n",
      "0.039445242390156815 None\n",
      "0.03944898716922946 None\n",
      "0.039441347192074136 None\n",
      "0.03944675048348336 None\n",
      "0.03944772836351452 None\n",
      "0.03948311039176594 None\n",
      "0.03944303387540879 None\n",
      "0.039463131284197595 None\n",
      "tf.Tensor(0.03946490831927842, shape=(), dtype=float64)\n",
      "0.0394446869707803 None\n"
     ]
    },
    {
     "data": {
      "application/vnd.jupyter.widget-view+json": {
       "model_id": "9f4cb44836204bfeba99d0e8d6e0d2db",
       "version_major": 2,
       "version_minor": 0
      },
      "text/plain": [
       "  0%|          | 0/2000 [00:00<?, ?it/s]"
      ]
     },
     "metadata": {},
     "output_type": "display_data"
    },
    {
     "name": "stdout",
     "output_type": "stream",
     "text": [
      "0.26350746325634955 None\n",
      "0.2306395059383302 None\n",
      "0.2004857351723781 None\n",
      "0.17275980904374477 None\n",
      "0.1464652079054082 None\n",
      "0.12126834205132997 None\n",
      "0.09713065783941788 None\n",
      "0.07404495905404876 None\n",
      "0.05200302810437905 None\n",
      "0.031012450738967252 None\n",
      "0.020243826645401752 None\n",
      "0.020221202210990094 None\n",
      "0.020260125514349567 None\n",
      "0.020279873752052202 None\n",
      "0.02023337001534605 None\n",
      "0.02025351427338356 None\n",
      "0.020241909359498635 None\n",
      "0.020245572443399272 None\n",
      "0.020217582404996833 None\n",
      "0.020238020260706868 None\n",
      "tf.Tensor(0.02021751620353631, shape=(), dtype=float64)\n",
      "0.02027065343022815 None\n"
     ]
    },
    {
     "data": {
      "application/vnd.jupyter.widget-view+json": {
       "model_id": "78c62d2e926e48ed932966d144d41128",
       "version_major": 2,
       "version_minor": 0
      },
      "text/plain": [
       "  0%|          | 0/2000 [00:00<?, ?it/s]"
      ]
     },
     "metadata": {},
     "output_type": "display_data"
    },
    {
     "name": "stdout",
     "output_type": "stream",
     "text": [
      "0.23869876697550546 None\n",
      "0.21068788084211554 None\n",
      "0.1826165529890945 None\n",
      "0.1546244080410828 None\n",
      "0.12962265622554336 None\n",
      "0.10323575092081441 None\n",
      "0.07850153025616004 None\n",
      "0.05454878262756671 None\n",
      "0.03273957112350439 None\n",
      "0.012127702876112192 None\n",
      "0.00829060360285429 None\n",
      "0.00821765682931253 None\n",
      "0.008252441407137946 None\n",
      "0.00823473670255497 None\n",
      "0.008251151438297093 None\n",
      "0.008234516661908152 None\n",
      "0.008231650169032432 None\n",
      "0.008251410359485971 None\n",
      "0.008218461765622609 None\n",
      "0.008248178951083868 None\n",
      "tf.Tensor(0.00822135106911019, shape=(), dtype=float64)\n",
      "0.008234173517595414 None\n"
     ]
    },
    {
     "data": {
      "application/vnd.jupyter.widget-view+json": {
       "model_id": "776605dda3ba4425987cf5e737395ee2",
       "version_major": 2,
       "version_minor": 0
      },
      "text/plain": [
       "  0%|          | 0/2000 [00:00<?, ?it/s]"
      ]
     },
     "metadata": {},
     "output_type": "display_data"
    },
    {
     "name": "stdout",
     "output_type": "stream",
     "text": [
      "0.23190190468276184 None\n",
      "0.20302444804651762 None\n",
      "0.1753671559582496 None\n",
      "0.148877414523627 None\n",
      "0.12337804597122254 None\n",
      "0.09893209290250184 None\n",
      "0.07571453095576484 None\n",
      "0.05369616941754462 None\n",
      "0.03264769126944669 None\n",
      "0.012837477356300501 None\n",
      "0.009874611952126954 None\n",
      "0.009856045571104243 None\n",
      "0.009849186093471475 None\n",
      "0.009837103525959784 None\n",
      "0.009824689521096887 None\n",
      "0.009832962714741792 None\n",
      "0.009849846493539675 None\n",
      "0.00986298587419191 None\n",
      "0.009847867837751953 None\n",
      "0.009854023966677216 None\n",
      "tf.Tensor(0.009828551059573901, shape=(), dtype=float64)\n",
      "0.00982793544489225 None\n"
     ]
    },
    {
     "data": {
      "application/vnd.jupyter.widget-view+json": {
       "model_id": "9cb5881559e749679ffe058afd4b7c97",
       "version_major": 2,
       "version_minor": 0
      },
      "text/plain": [
       "  0%|          | 0/2000 [00:00<?, ?it/s]"
      ]
     },
     "metadata": {},
     "output_type": "display_data"
    },
    {
     "name": "stdout",
     "output_type": "stream",
     "text": [
      "0.2352771555860128 None\n",
      "0.20663338619048516 None\n",
      "0.17889304056086405 None\n",
      "0.1520556889999555 None\n",
      "0.1262737940331363 None\n",
      "0.10086040381113412 None\n",
      "0.0772683165840635 None\n",
      "0.054724456107315717 None\n",
      "0.033313618863311925 None\n",
      "0.013014640026308163 None\n",
      "0.006647808199268948 None\n",
      "0.006642730503300085 None\n",
      "0.006669236010939942 None\n",
      "0.00664577568870018 None\n",
      "0.006651179046030756 None\n",
      "0.006689971008157335 None\n",
      "0.006685629450620307 None\n",
      "0.006654479543536599 None\n",
      "0.006653595414208692 None\n",
      "0.006646062425374917 None\n",
      "tf.Tensor(0.006655471660990904, shape=(), dtype=float64)\n",
      "0.006659866266392454 None\n"
     ]
    },
    {
     "data": {
      "application/vnd.jupyter.widget-view+json": {
       "model_id": "cd6e27716aa94cc8a39023f442335548",
       "version_major": 2,
       "version_minor": 0
      },
      "text/plain": [
       "  0%|          | 0/2000 [00:00<?, ?it/s]"
      ]
     },
     "metadata": {},
     "output_type": "display_data"
    },
    {
     "name": "stdout",
     "output_type": "stream",
     "text": [
      "0.2284814658170455 None\n",
      "0.20045503749321353 None\n",
      "0.17407645288261722 None\n",
      "0.1473632628394887 None\n",
      "0.12187124979325235 None\n",
      "0.09722073576776523 None\n",
      "0.07356040131825574 None\n",
      "0.05093018900169128 None\n",
      "0.029379247552275882 None\n",
      "0.008930328024004274 None\n",
      "0.0050791883973871094 None\n",
      "0.005097138170305486 None\n",
      "0.005078936052800326 None\n",
      "0.005087788725999114 None\n",
      "0.0051174925179373765 None\n",
      "0.005072808671991464 None\n",
      "0.005076897677433086 None\n",
      "0.005104322347643776 None\n",
      "0.0050830095129591815 None\n",
      "0.005121135143383233 None\n",
      "tf.Tensor(0.005082656523192021, shape=(), dtype=float64)\n",
      "0.00508146795082564 None\n"
     ]
    },
    {
     "data": {
      "application/vnd.jupyter.widget-view+json": {
       "model_id": "938ca752effd43548b92a57ffd3c8652",
       "version_major": 2,
       "version_minor": 0
      },
      "text/plain": [
       "  0%|          | 0/2000 [00:00<?, ?it/s]"
      ]
     },
     "metadata": {},
     "output_type": "display_data"
    },
    {
     "name": "stdout",
     "output_type": "stream",
     "text": [
      "0.2119753588051229 None\n",
      "0.18459244207957767 None\n",
      "0.15851863825107262 None\n",
      "0.13317240696261312 None\n",
      "0.10869006594734855 None\n",
      "0.08504195329085071 None\n",
      "0.06241411771487889 None\n",
      "0.040808044326903534 None\n",
      "0.020229908993172195 None\n",
      "0.0021997013283549666 None\n",
      "0.0016361466949313536 None\n",
      "0.0016723396205355675 None\n",
      "0.0016541947713915872 None\n",
      "0.0016538000161121537 None\n",
      "0.0017073289710240538 None\n",
      "0.0016646495078040408 None\n",
      "0.001649961941993825 None\n",
      "0.00166247462417333 None\n",
      "0.0016860210391972472 None\n",
      "0.0016421875082285164 None\n",
      "tf.Tensor(0.0016637283875197313, shape=(), dtype=float64)\n",
      "0.001646680708424348 None\n"
     ]
    },
    {
     "data": {
      "application/vnd.jupyter.widget-view+json": {
       "model_id": "e4cb62aa39ae44f883937cc47b67ce57",
       "version_major": 2,
       "version_minor": 0
      },
      "text/plain": [
       "  0%|          | 0/2000 [00:00<?, ?it/s]"
      ]
     },
     "metadata": {},
     "output_type": "display_data"
    },
    {
     "name": "stdout",
     "output_type": "stream",
     "text": [
      "0.22518466275224927 None\n",
      "0.19829697011195954 None\n",
      "0.17174544080860943 None\n",
      "0.1456171641365743 None\n",
      "0.12087347650361864 None\n",
      "0.0964521454666044 None\n",
      "0.07288340717824368 None\n",
      "0.05027086433840671 None\n",
      "0.02868702891268897 None\n",
      "0.008177251731388255 None\n",
      "0.0047696677192515975 None\n",
      "0.004785533239030611 None\n",
      "0.004780131735964361 None\n",
      "0.004795941409486616 None\n",
      "0.0047778679855828236 None\n",
      "0.004810189844033435 None\n",
      "0.004763672893494908 None\n",
      "0.00477590021328715 None\n",
      "0.004786476344593718 None\n",
      "0.004785379273619638 None\n",
      "tf.Tensor(0.004796751488965932, shape=(), dtype=float64)\n",
      "0.004817984147393825 None\n"
     ]
    },
    {
     "data": {
      "application/vnd.jupyter.widget-view+json": {
       "model_id": "9f50e1c0fd61493bbf860f2b490ca321",
       "version_major": 2,
       "version_minor": 0
      },
      "text/plain": [
       "  0%|          | 0/2000 [00:00<?, ?it/s]"
      ]
     },
     "metadata": {},
     "output_type": "display_data"
    },
    {
     "name": "stdout",
     "output_type": "stream",
     "text": [
      "0.22570300337948598 None\n",
      "0.19845707422144424 None\n",
      "0.17133605643020514 None\n",
      "0.14490788632564655 None\n",
      "0.11958440310522524 None\n",
      "0.09512370372866698 None\n",
      "0.07160802823254706 None\n",
      "0.049117305466127685 None\n",
      "0.02769939791521113 None\n",
      "0.007378527397430078 None\n",
      "0.004826511345874397 None\n",
      "0.004826089418636414 None\n",
      "0.004795621468634109 None\n",
      "0.004820970644429476 None\n",
      "0.004797133374270759 None\n",
      "0.004845047942238582 None\n",
      "0.004802382252175585 None\n",
      "0.004824793595375906 None\n",
      "0.004877043541965909 None\n",
      "0.004843259420529057 None\n",
      "tf.Tensor(0.004856800510195413, shape=(), dtype=float64)\n",
      "0.004834611059048088 None\n"
     ]
    },
    {
     "data": {
      "application/vnd.jupyter.widget-view+json": {
       "model_id": "4a1d1337a8674c49b3c88f9eed2f768e",
       "version_major": 2,
       "version_minor": 0
      },
      "text/plain": [
       "  0%|          | 0/2000 [00:00<?, ?it/s]"
      ]
     },
     "metadata": {},
     "output_type": "display_data"
    },
    {
     "name": "stdout",
     "output_type": "stream",
     "text": [
      "0.2154398878521711 None\n",
      "0.18891333122109588 None\n",
      "0.16287680833927176 None\n",
      "0.13739227927985723 None\n",
      "0.1125976700210662 None\n",
      "0.08861244223649394 None\n",
      "0.06553373838182355 None\n",
      "0.04343723118626777 None\n",
      "0.02252105219327043 None\n",
      "0.00271982985929284 None\n",
      "0.002634579059009278 None\n",
      "0.0026532334466883977 None\n",
      "0.0026359094032552925 None\n",
      "0.0026569704666151873 None\n",
      "0.0026679182919425656 None\n",
      "0.002645193324929483 None\n",
      "0.0026623760427053698 None\n",
      "0.002663996017108348 None\n",
      "0.002642617998893957 None\n",
      "0.0026703505686802523 None\n",
      "tf.Tensor(0.0026440007372982195, shape=(), dtype=float64)\n",
      "0.002640394688443336 None\n"
     ]
    },
    {
     "data": {
      "application/vnd.jupyter.widget-view+json": {
       "model_id": "0360481446834cb59807e6a8026ec562",
       "version_major": 2,
       "version_minor": 0
      },
      "text/plain": [
       "  0%|          | 0/2000 [00:00<?, ?it/s]"
      ]
     },
     "metadata": {},
     "output_type": "display_data"
    },
    {
     "name": "stdout",
     "output_type": "stream",
     "text": [
      "0.21831621357767908 None\n",
      "0.19131086160270278 None\n",
      "0.16481532690522296 None\n",
      "0.1390723299657107 None\n",
      "0.11425334719815351 None\n",
      "0.09029011165381812 None\n",
      "0.06725908920590465 None\n",
      "0.045219450802093955 None\n",
      "0.024213202881692195 None\n",
      "0.004276605480376361 None\n",
      "0.0008211755312308115 None\n",
      "0.0008421241822021003 None\n",
      "0.0008401203643560087 None\n",
      "0.0008463528996558254 None\n",
      "0.0008348396852290701 None\n",
      "0.0008267382522934505 None\n",
      "0.0008277607485172381 None\n",
      "0.0008456956398638811 None\n",
      "0.0008250280807813593 None\n",
      "0.0008341029118970299 None\n",
      "tf.Tensor(0.0008196170280327982, shape=(), dtype=float64)\n",
      "0.0008280954561349901 None\n"
     ]
    },
    {
     "data": {
      "application/vnd.jupyter.widget-view+json": {
       "model_id": "e81c497279a2463ea96b750b19312eec",
       "version_major": 2,
       "version_minor": 0
      },
      "text/plain": [
       "  0%|          | 0/2000 [00:00<?, ?it/s]"
      ]
     },
     "metadata": {},
     "output_type": "display_data"
    },
    {
     "name": "stdout",
     "output_type": "stream",
     "text": [
      "0.2124710878628193 None\n",
      "0.18587127199614403 None\n",
      "0.1599006901694045 None\n",
      "0.13458424210378686 None\n",
      "0.11002582776554085 None\n",
      "0.08640502670378611 None\n",
      "0.06378381174595442 None\n",
      "0.044095561539972766 None\n",
      "0.025106485282116325 None\n",
      "0.0068657442232178045 None\n",
      "0.0016072985007388567 None\n",
      "0.0016288782713742896 None\n",
      "0.0016542908693926283 None\n",
      "0.0016146329255476493 None\n",
      "0.0016041889079530082 None\n",
      "0.001631622786624774 None\n",
      "0.0016367197625256416 None\n",
      "0.0016053137563477593 None\n",
      "0.0016445214884259355 None\n",
      "0.001661978548114583 None\n",
      "tf.Tensor(0.0016106090654723461, shape=(), dtype=float64)\n",
      "0.0016079561986535257 None\n",
      "Done!\n"
     ]
    },
    {
     "data": {
      "application/vnd.jupyter.widget-view+json": {
       "model_id": "6f95c918d6294fa09db8ea7ccb553b05",
       "version_major": 2,
       "version_minor": 0
      },
      "text/plain": [
       "  0%|          | 0/2000 [00:00<?, ?it/s]"
      ]
     },
     "metadata": {},
     "output_type": "display_data"
    },
    {
     "name": "stdout",
     "output_type": "stream",
     "text": [
      "0.2745622191163193 None\n",
      "0.2615333791690112 None\n",
      "0.21763081977322857 None\n",
      "0.17554782053654852 None\n",
      "0.1414228502591303 None\n",
      "0.11081413677363909 None\n",
      "0.08256540323725975 None\n",
      "0.05365976404395276 None\n",
      "0.03661456021917726 None\n",
      "0.036524389133244024 None\n",
      "0.036526628356908904 None\n",
      "0.03652455689335631 None\n",
      "0.036519330651145175 None\n",
      "0.036521856342666484 None\n",
      "0.0365236539961918 None\n",
      "0.03653965549936396 None\n",
      "0.03652359274934529 None\n",
      "0.03651438785218969 None\n",
      "0.03651634554782297 None\n",
      "0.036513505809124526 None\n",
      "tf.Tensor(0.036514746818621525, shape=(), dtype=float64)\n",
      "0.03652532395590165 None\n"
     ]
    },
    {
     "data": {
      "application/vnd.jupyter.widget-view+json": {
       "model_id": "0e56e655bac64a0eaa5629c1f5a7925c",
       "version_major": 2,
       "version_minor": 0
      },
      "text/plain": [
       "  0%|          | 0/2000 [00:00<?, ?it/s]"
      ]
     },
     "metadata": {},
     "output_type": "display_data"
    },
    {
     "name": "stdout",
     "output_type": "stream",
     "text": [
      "0.248464002486454 None\n",
      "0.2153494941436877 None\n",
      "0.18525716966749833 None\n",
      "0.15714320490787317 None\n",
      "0.13071990363063823 None\n",
      "0.10587328564284504 None\n",
      "0.08195026739387123 None\n",
      "0.05892769046799409 None\n",
      "0.03698213529023832 None\n",
      "0.018928465075519877 None\n",
      "0.018433868516162463 None\n",
      "0.018433233559940157 None\n",
      "0.01846663720641162 None\n",
      "0.01841829560091953 None\n",
      "0.018444718193488932 None\n",
      "0.018427931990887346 None\n",
      "0.018427136529735343 None\n",
      "0.018423295209699604 None\n",
      "0.018480670988634377 None\n",
      "0.01841456527294899 None\n",
      "tf.Tensor(0.01842674961738961, shape=(), dtype=float64)\n",
      "0.018420245142143712 None\n"
     ]
    },
    {
     "data": {
      "application/vnd.jupyter.widget-view+json": {
       "model_id": "5ec86a57eccf4c93a0b692ce60bba29c",
       "version_major": 2,
       "version_minor": 0
      },
      "text/plain": [
       "  0%|          | 0/2000 [00:00<?, ?it/s]"
      ]
     },
     "metadata": {},
     "output_type": "display_data"
    },
    {
     "name": "stdout",
     "output_type": "stream",
     "text": [
      "0.24983884394737232 None\n",
      "0.2206049637399311 None\n",
      "0.19078696510396514 None\n",
      "0.16210860724451986 None\n",
      "0.13480219964171786 None\n",
      "0.10857570405577893 None\n",
      "0.08363368877669501 None\n",
      "0.06001681181942148 None\n",
      "0.037682841400821496 None\n",
      "0.016607281376530825 None\n",
      "0.015341780056034936 None\n",
      "0.015330262204332302 None\n",
      "0.015356126187638527 None\n",
      "0.01535982071105332 None\n",
      "0.01534820561093216 None\n",
      "0.01535413896954688 None\n",
      "0.015352902145193824 None\n",
      "0.015337076228758764 None\n",
      "0.015360151784618428 None\n",
      "0.015336433481552902 None\n",
      "tf.Tensor(0.015330008762944977, shape=(), dtype=float64)\n",
      "0.015351892061738866 None\n"
     ]
    },
    {
     "data": {
      "application/vnd.jupyter.widget-view+json": {
       "model_id": "e6293f55055348d38b391ad8baddf88a",
       "version_major": 2,
       "version_minor": 0
      },
      "text/plain": [
       "  0%|          | 0/2000 [00:00<?, ?it/s]"
      ]
     },
     "metadata": {},
     "output_type": "display_data"
    },
    {
     "name": "stdout",
     "output_type": "stream",
     "text": [
      "0.2160775586115231 None\n",
      "0.1883504769399792 None\n",
      "0.16452244378298814 None\n",
      "0.1371056202404406 None\n",
      "0.1124184880253967 None\n",
      "0.08856484151838113 None\n",
      "0.065563808150409 None\n",
      "0.043487019964459084 None\n",
      "0.02240513213454941 None\n",
      "0.008375171310786203 None\n",
      "0.00836903828926587 None\n",
      "0.008326783943560474 None\n",
      "0.008363162619139539 None\n",
      "0.00833759124208375 None\n",
      "0.008341795711487767 None\n",
      "0.008330902285798955 None\n",
      "0.008357408631709657 None\n",
      "0.008350844795635259 None\n",
      "0.008332040901475359 None\n",
      "0.008329833387209978 None\n",
      "tf.Tensor(0.008342054717848709, shape=(), dtype=float64)\n",
      "0.008347662255190812 None\n"
     ]
    },
    {
     "data": {
      "application/vnd.jupyter.widget-view+json": {
       "model_id": "16c9144924114745bb82f6e739242ad1",
       "version_major": 2,
       "version_minor": 0
      },
      "text/plain": [
       "  0%|          | 0/2000 [00:00<?, ?it/s]"
      ]
     },
     "metadata": {},
     "output_type": "display_data"
    },
    {
     "name": "stdout",
     "output_type": "stream",
     "text": [
      "0.22488070225368328 None\n",
      "0.19767627152132244 None\n",
      "0.17091539973561717 None\n",
      "0.14464975894600166 None\n",
      "0.11829888983051133 None\n",
      "0.09349775647244717 None\n",
      "0.06976602026212222 None\n",
      "0.04732841928745285 None\n",
      "0.02590777760427321 None\n",
      "0.008814934095059328 None\n",
      "0.008745227276697125 None\n",
      "0.008690480990271147 None\n",
      "0.008678864148220285 None\n",
      "0.008663621369672588 None\n",
      "0.008668288475646317 None\n",
      "0.00865914800953162 None\n",
      "0.008668042068073822 None\n",
      "0.008727679260470841 None\n",
      "0.008661821847069987 None\n",
      "0.008698681183289453 None\n",
      "tf.Tensor(0.008680764604799558, shape=(), dtype=float64)\n",
      "0.008692394299237089 None\n"
     ]
    },
    {
     "data": {
      "application/vnd.jupyter.widget-view+json": {
       "model_id": "a05c284de86948c782372b23b70b55b1",
       "version_major": 2,
       "version_minor": 0
      },
      "text/plain": [
       "  0%|          | 0/2000 [00:00<?, ?it/s]"
      ]
     },
     "metadata": {},
     "output_type": "display_data"
    },
    {
     "name": "stdout",
     "output_type": "stream",
     "text": [
      "0.22384939987789423 None\n",
      "0.19671976695146404 None\n",
      "0.1700618487974283 None\n",
      "0.1443379379577576 None\n",
      "0.11929396725663843 None\n",
      "0.0950104470771472 None\n",
      "0.07161515703359365 None\n",
      "0.049189951539392325 None\n",
      "0.027787119193558793 None\n",
      "0.008809233837517277 None\n",
      "0.008343263582845276 None\n",
      "0.008378692244544395 None\n",
      "0.008344778152588894 None\n",
      "0.008357145812985755 None\n",
      "0.008332940454912216 None\n",
      "0.008345148486750262 None\n",
      "0.008346845778297418 None\n",
      "0.008338378113712016 None\n",
      "0.008336084150180664 None\n",
      "0.008368296407278708 None\n",
      "tf.Tensor(0.008333334589065176, shape=(), dtype=float64)\n",
      "0.008379507827909343 None\n"
     ]
    },
    {
     "data": {
      "application/vnd.jupyter.widget-view+json": {
       "model_id": "119d72efd26e4018afb1d8bcd478e7d5",
       "version_major": 2,
       "version_minor": 0
      },
      "text/plain": [
       "  0%|          | 0/2000 [00:00<?, ?it/s]"
      ]
     },
     "metadata": {},
     "output_type": "display_data"
    },
    {
     "name": "stdout",
     "output_type": "stream",
     "text": [
      "0.22028835853886455 None\n",
      "0.19384829883679688 None\n",
      "0.1660408694421216 None\n",
      "0.13933646612998257 None\n",
      "0.1134627702799006 None\n",
      "0.08970997806519203 None\n",
      "0.06686478849605568 None\n",
      "0.04498228808021061 None\n",
      "0.024123429310536407 None\n",
      "0.007629214567130554 None\n",
      "0.007606612073525609 None\n",
      "0.0075974123367824825 None\n",
      "0.00760355569972859 None\n",
      "0.00756447788719872 None\n",
      "0.007611772456082075 None\n",
      "0.007586356400449866 None\n",
      "0.007580588046316721 None\n",
      "0.0075670904975372695 None\n",
      "0.007566666336829683 None\n",
      "0.007606997163859077 None\n",
      "tf.Tensor(0.007570778448842754, shape=(), dtype=float64)\n",
      "0.00756460761617607 None\n"
     ]
    },
    {
     "data": {
      "application/vnd.jupyter.widget-view+json": {
       "model_id": "91d4d7470e31408799c9eb29898def66",
       "version_major": 2,
       "version_minor": 0
      },
      "text/plain": [
       "  0%|          | 0/2000 [00:00<?, ?it/s]"
      ]
     },
     "metadata": {},
     "output_type": "display_data"
    },
    {
     "name": "stdout",
     "output_type": "stream",
     "text": [
      "0.2236610259834203 None\n",
      "0.19677033375775316 None\n",
      "0.17034185343465302 None\n",
      "0.14445432450724208 None\n",
      "0.11883585632352432 None\n",
      "0.09442304299059161 None\n",
      "0.07096844984802948 None\n",
      "0.048518076372914845 None\n",
      "0.027110582081278516 None\n",
      "0.00689837395420658 None\n",
      "0.00685799190222803 None\n",
      "0.0068589578554398385 None\n",
      "0.0068596277456277185 None\n",
      "0.006868819183097278 None\n",
      "0.006864153383871024 None\n",
      "0.006866621808088661 None\n",
      "0.006876007160096987 None\n",
      "0.006868383647512328 None\n",
      "0.006883240320357485 None\n",
      "0.006857115351803157 None\n",
      "tf.Tensor(0.0068858271960803305, shape=(), dtype=float64)\n",
      "0.006856667884600675 None\n"
     ]
    },
    {
     "data": {
      "application/vnd.jupyter.widget-view+json": {
       "model_id": "4a8d178da205426e8eeee7f9b52c2feb",
       "version_major": 2,
       "version_minor": 0
      },
      "text/plain": [
       "  0%|          | 0/2000 [00:00<?, ?it/s]"
      ]
     },
     "metadata": {},
     "output_type": "display_data"
    },
    {
     "name": "stdout",
     "output_type": "stream",
     "text": [
      "0.2138028697865325 None\n",
      "0.18701029450755707 None\n",
      "0.161045232923966 None\n",
      "0.1357786800375129 None\n",
      "0.11116376650979415 None\n",
      "0.08728413249374799 None\n",
      "0.06424692228403091 None\n",
      "0.04214826016735347 None\n",
      "0.02107025467700423 None\n",
      "0.0033719141202726384 None\n",
      "0.0030119900315524863 None\n",
      "0.002927121787791619 None\n",
      "0.002937785274464492 None\n",
      "0.002934143381134743 None\n",
      "0.002927218874962276 None\n",
      "0.002941347315141024 None\n",
      "0.002934028469862969 None\n",
      "0.0029076969507000434 None\n",
      "0.002975321038219168 None\n",
      "0.0029155071370132223 None\n",
      "tf.Tensor(0.002931348176110962, shape=(), dtype=float64)\n",
      "0.0029225417250855 None\n"
     ]
    },
    {
     "data": {
      "application/vnd.jupyter.widget-view+json": {
       "model_id": "bab3283b3ecb4f59b553d86fd8a9fe81",
       "version_major": 2,
       "version_minor": 0
      },
      "text/plain": [
       "  0%|          | 0/2000 [00:00<?, ?it/s]"
      ]
     },
     "metadata": {},
     "output_type": "display_data"
    },
    {
     "name": "stdout",
     "output_type": "stream",
     "text": [
      "0.22014539350798631 None\n",
      "0.19304472608366333 None\n",
      "0.16677568118497116 None\n",
      "0.14115086180589617 None\n",
      "0.11625956998241303 None\n",
      "0.09218187585670343 None\n",
      "0.06899269899390212 None\n",
      "0.04676287063444859 None\n",
      "0.02555270380395654 None\n",
      "0.005406578776352003 None\n",
      "0.004850551024665477 None\n",
      "0.004847356362145029 None\n",
      "0.004881924153153825 None\n",
      "0.004845759384561014 None\n",
      "0.004856167577285694 None\n",
      "0.004888871009168397 None\n",
      "0.0048658271979556975 None\n",
      "0.004855419681932889 None\n",
      "0.004861244401684607 None\n",
      "0.004861312676998076 None\n",
      "tf.Tensor(0.004872647839985189, shape=(), dtype=float64)\n",
      "0.004847872309790917 None\n"
     ]
    },
    {
     "data": {
      "application/vnd.jupyter.widget-view+json": {
       "model_id": "1d6c1c0551214edda9de8bc06ac4e4ff",
       "version_major": 2,
       "version_minor": 0
      },
      "text/plain": [
       "  0%|          | 0/2000 [00:00<?, ?it/s]"
      ]
     },
     "metadata": {},
     "output_type": "display_data"
    },
    {
     "name": "stdout",
     "output_type": "stream",
     "text": [
      "0.21314499952180196 None\n",
      "0.18634578443411523 None\n",
      "0.16050576693128896 None\n",
      "0.13516868180062294 None\n",
      "0.11045149163370789 None\n",
      "0.08688258387780995 None\n",
      "0.06381412620066372 None\n",
      "0.041812458063611904 None\n",
      "0.020895173276079503 None\n",
      "0.002090429882595386 None\n",
      "0.001702253647169351 None\n",
      "0.0017042151784832085 None\n",
      "0.0017261383668251947 None\n",
      "0.00173557373243994 None\n",
      "0.001734178494978732 None\n",
      "0.0017223609222099595 None\n",
      "0.0016920628361892327 None\n",
      "0.0017227163186502104 None\n",
      "0.0016991477929881984 None\n",
      "0.001711786578964124 None\n",
      "tf.Tensor(0.0017163308536507207, shape=(), dtype=float64)\n",
      "0.0016947003923042112 None\n"
     ]
    },
    {
     "data": {
      "application/vnd.jupyter.widget-view+json": {
       "model_id": "d1406286295e4045bb339642581eb3e8",
       "version_major": 2,
       "version_minor": 0
      },
      "text/plain": [
       "  0%|          | 0/2000 [00:00<?, ?it/s]"
      ]
     },
     "metadata": {},
     "output_type": "display_data"
    },
    {
     "name": "stdout",
     "output_type": "stream",
     "text": [
      "0.2125368125879691 None\n",
      "0.18612153334167708 None\n",
      "0.16004153760582132 None\n",
      "0.13448106461302137 None\n",
      "0.10962130302361447 None\n",
      "0.08567163649998462 None\n",
      "0.06270091343775339 None\n",
      "0.04074955119421598 None\n",
      "0.019868576051506905 None\n",
      "0.003297560040087753 None\n",
      "0.0032299220150574367 None\n",
      "0.0032097545024657595 None\n",
      "0.003211722455899819 None\n",
      "0.0032217354227602408 None\n",
      "0.0032137167085618404 None\n",
      "0.0032347318290545804 None\n",
      "0.0032005678956976693 None\n",
      "0.0032004014414737216 None\n",
      "0.003215987213920608 None\n",
      "0.003221741467302623 None\n",
      "tf.Tensor(0.003214316438652471, shape=(), dtype=float64)\n",
      "0.003215094815967319 None\n"
     ]
    },
    {
     "data": {
      "application/vnd.jupyter.widget-view+json": {
       "model_id": "09334021d3074eccb2633c9833635e52",
       "version_major": 2,
       "version_minor": 0
      },
      "text/plain": [
       "  0%|          | 0/2000 [00:00<?, ?it/s]"
      ]
     },
     "metadata": {},
     "output_type": "display_data"
    },
    {
     "name": "stdout",
     "output_type": "stream",
     "text": [
      "0.21047582009709234 None\n",
      "0.18439305365522682 None\n",
      "0.15859828221252287 None\n",
      "0.13346799348372554 None\n",
      "0.10875570691798704 None\n",
      "0.08485094736844713 None\n",
      "0.061902453204931186 None\n",
      "0.03998631831099769 None\n",
      "0.019135425549324292 None\n",
      "0.00048398895669763894 None\n",
      "0.0003110114355585388 None\n",
      "0.00033514177635401033 None\n",
      "0.0003277437774499188 None\n",
      "0.0003290962835587096 None\n",
      "0.0003531232037167903 None\n",
      "0.000323292119574394 None\n",
      "0.00033749922301258995 None\n",
      "0.00032947585652276165 None\n",
      "0.0003273746505204501 None\n",
      "0.00032616099791331864 None\n",
      "tf.Tensor(0.00032993712238628403, shape=(), dtype=float64)\n",
      "0.00034088441722100217 None\n"
     ]
    },
    {
     "data": {
      "application/vnd.jupyter.widget-view+json": {
       "model_id": "b79e5d91dd1245f2951d9fe2290ab899",
       "version_major": 2,
       "version_minor": 0
      },
      "text/plain": [
       "  0%|          | 0/2000 [00:00<?, ?it/s]"
      ]
     },
     "metadata": {},
     "output_type": "display_data"
    },
    {
     "name": "stdout",
     "output_type": "stream",
     "text": [
      "0.2107346501203285 None\n",
      "0.1846501555519775 None\n",
      "0.1589361755762074 None\n",
      "0.1337395299082202 None\n",
      "0.10916863119233725 None\n",
      "0.0853406040321941 None\n",
      "0.06236815770555167 None\n",
      "0.04034686296093716 None\n",
      "0.019129981071644882 None\n",
      "0.0035854781416842845 None\n",
      "0.0034018248393535783 None\n",
      "0.003397552454475394 None\n",
      "0.0034255105919037557 None\n",
      "0.003406685122295877 None\n",
      "0.0034529846365870523 None\n",
      "0.0033887716799944788 None\n",
      "0.0034247707884454666 None\n",
      "0.0034124078783116995 None\n",
      "0.0034229585496111216 None\n",
      "0.0034243400523718956 None\n",
      "tf.Tensor(0.003401280895215399, shape=(), dtype=float64)\n",
      "0.003389419711371894 None\n",
      "Done!\n"
     ]
    },
    {
     "data": {
      "application/vnd.jupyter.widget-view+json": {
       "model_id": "c075a4b9842e4364a85da3bbc0fa00cb",
       "version_major": 2,
       "version_minor": 0
      },
      "text/plain": [
       "  0%|          | 0/2000 [00:00<?, ?it/s]"
      ]
     },
     "metadata": {},
     "output_type": "display_data"
    },
    {
     "name": "stdout",
     "output_type": "stream",
     "text": [
      "0.2757748419281334 None\n",
      "0.24280439863285908 None\n",
      "0.22187563679308508 None\n",
      "0.179608684069837 None\n",
      "0.14483493120535174 None\n",
      "0.11442253469455052 None\n",
      "0.08551731184819712 None\n",
      "0.059893325794034336 None\n",
      "0.034363637894916726 None\n",
      "0.03172993172829598 None\n",
      "0.03175888876464364 None\n",
      "0.031729684996827406 None\n",
      "0.03178389790987404 None\n",
      "0.031758764993220764 None\n",
      "0.03174014695265538 None\n",
      "0.03174495864206328 None\n",
      "0.031751567124522165 None\n",
      "0.03175488117490506 None\n",
      "0.031729046745726436 None\n",
      "0.03180178333354253 None\n",
      "tf.Tensor(0.03174862308319583, shape=(), dtype=float64)\n",
      "0.03174787910527388 None\n"
     ]
    },
    {
     "data": {
      "application/vnd.jupyter.widget-view+json": {
       "model_id": "1920edca603d4c6686fd3bea8885f875",
       "version_major": 2,
       "version_minor": 0
      },
      "text/plain": [
       "  0%|          | 0/2000 [00:00<?, ?it/s]"
      ]
     },
     "metadata": {},
     "output_type": "display_data"
    },
    {
     "name": "stdout",
     "output_type": "stream",
     "text": [
      "0.25344724650701994 None\n",
      "0.21851839891280075 None\n",
      "0.18701738875470958 None\n",
      "0.15740142826110076 None\n",
      "0.12928564745832283 None\n",
      "0.10243712982822466 None\n",
      "0.07722387124259442 None\n",
      "0.05879282053667911 None\n",
      "0.03609894484134074 None\n",
      "0.018462466366466517 None\n",
      "0.01827580261611458 None\n",
      "0.01828011895981919 None\n",
      "0.018261373143313966 None\n",
      "0.01826744437360465 None\n",
      "0.018293420388437807 None\n",
      "0.018272642152561927 None\n",
      "0.018261716711277517 None\n",
      "0.018278294001650857 None\n",
      "0.018327976636155294 None\n",
      "0.01827016976212064 None\n",
      "tf.Tensor(0.018285596853706763, shape=(), dtype=float64)\n",
      "0.01827752113339731 None\n"
     ]
    },
    {
     "data": {
      "application/vnd.jupyter.widget-view+json": {
       "model_id": "bf2cbd2a1a894cf48137ff43b4ee7ea9",
       "version_major": 2,
       "version_minor": 0
      },
      "text/plain": [
       "  0%|          | 0/2000 [00:00<?, ?it/s]"
      ]
     },
     "metadata": {},
     "output_type": "display_data"
    },
    {
     "name": "stdout",
     "output_type": "stream",
     "text": [
      "0.23457386360560167 None\n",
      "0.20342600990338983 None\n",
      "0.1737976388156897 None\n",
      "0.14733319279219334 None\n",
      "0.1215507188412044 None\n",
      "0.09681043459530392 None\n",
      "0.07299926795431173 None\n",
      "0.05007499262099185 None\n",
      "0.028096320924304235 None\n",
      "0.011970202432515693 None\n",
      "0.011909992769255938 None\n",
      "0.01190661039871474 None\n",
      "0.011894557684855075 None\n",
      "0.011922251944062056 None\n",
      "0.01195250429914568 None\n",
      "0.011929599035277405 None\n",
      "0.011914686571404109 None\n",
      "0.011918872345755154 None\n",
      "0.011898193438840816 None\n",
      "0.011945051443797518 None\n",
      "tf.Tensor(0.011929274815498703, shape=(), dtype=float64)\n",
      "0.011916551347748952 None\n"
     ]
    },
    {
     "data": {
      "application/vnd.jupyter.widget-view+json": {
       "model_id": "4d18bfa869f64b9b84a1421cc700b63a",
       "version_major": 2,
       "version_minor": 0
      },
      "text/plain": [
       "  0%|          | 0/2000 [00:00<?, ?it/s]"
      ]
     },
     "metadata": {},
     "output_type": "display_data"
    },
    {
     "name": "stdout",
     "output_type": "stream",
     "text": [
      "0.22171358368469923 None\n",
      "0.19340878962613575 None\n",
      "0.16542056908295422 None\n",
      "0.1386503124941534 None\n",
      "0.11284123493953144 None\n",
      "0.08802313516689461 None\n",
      "0.06427638383010377 None\n",
      "0.041651156286547766 None\n",
      "0.02014776523762458 None\n",
      "0.009478116709655492 None\n",
      "0.009457320326017971 None\n",
      "0.009447559956432643 None\n",
      "0.009446145496962766 None\n",
      "0.009439968528916903 None\n",
      "0.009439892652399865 None\n",
      "0.009447438346244431 None\n",
      "0.009424747904599486 None\n",
      "0.009426745934191374 None\n",
      "0.009431942687345915 None\n",
      "0.009450056388034651 None\n",
      "tf.Tensor(0.009466896487622022, shape=(), dtype=float64)\n",
      "0.009420250917214518 None\n"
     ]
    },
    {
     "data": {
      "application/vnd.jupyter.widget-view+json": {
       "model_id": "1681a6764d524dfea3ffcb9de4be693c",
       "version_major": 2,
       "version_minor": 0
      },
      "text/plain": [
       "  0%|          | 0/2000 [00:00<?, ?it/s]"
      ]
     },
     "metadata": {},
     "output_type": "display_data"
    },
    {
     "name": "stdout",
     "output_type": "stream",
     "text": [
      "0.2154254114022795 None\n",
      "0.18783117505763247 None\n",
      "0.1606226699829093 None\n",
      "0.13401001284334924 None\n",
      "0.1082900383231406 None\n",
      "0.08377064135263895 None\n",
      "0.06044695615696369 None\n",
      "0.03824310028018056 None\n",
      "0.017057629594657592 None\n",
      "0.006107814369526902 None\n",
      "0.006065411979055453 None\n",
      "0.0060791495130908205 None\n",
      "0.006106206778197433 None\n",
      "0.0060762334946699165 None\n",
      "0.006075188884154991 None\n",
      "0.006063190094055149 None\n",
      "0.006091826771338229 None\n",
      "0.006105526362469143 None\n",
      "0.006079540476329817 None\n",
      "0.0060892687489484554 None\n",
      "tf.Tensor(0.006109556607039761, shape=(), dtype=float64)\n",
      "0.006105837504697521 None\n"
     ]
    },
    {
     "data": {
      "application/vnd.jupyter.widget-view+json": {
       "model_id": "284691d4ce0b4d4fae92d3e5ee893c8a",
       "version_major": 2,
       "version_minor": 0
      },
      "text/plain": [
       "  0%|          | 0/2000 [00:00<?, ?it/s]"
      ]
     },
     "metadata": {},
     "output_type": "display_data"
    },
    {
     "name": "stdout",
     "output_type": "stream",
     "text": [
      "0.22087722388146064 None\n",
      "0.1922887410582278 None\n",
      "0.16427512530891547 None\n",
      "0.13739836112252368 None\n",
      "0.1115801381464254 None\n",
      "0.08670125762061909 None\n",
      "0.06280572998064599 None\n",
      "0.04001196344546096 None\n",
      "0.015207533663170307 None\n",
      "0.0029189290735878864 None\n",
      "0.0028479229959883657 None\n",
      "0.002872408270205443 None\n",
      "0.0028442044737870195 None\n",
      "0.0028381193264262715 None\n",
      "0.0028215433675533343 None\n",
      "0.0028472459127896893 None\n",
      "0.002826808404687471 None\n",
      "0.0028297910820959636 None\n",
      "0.002840059552232375 None\n",
      "0.0028446650976719605 None\n",
      "tf.Tensor(0.0028367617715549017, shape=(), dtype=float64)\n",
      "0.0028145894045972595 None\n"
     ]
    },
    {
     "data": {
      "application/vnd.jupyter.widget-view+json": {
       "model_id": "18c377af4a8f4d2cb19f19d7c4572d2f",
       "version_major": 2,
       "version_minor": 0
      },
      "text/plain": [
       "  0%|          | 0/2000 [00:00<?, ?it/s]"
      ]
     },
     "metadata": {},
     "output_type": "display_data"
    },
    {
     "name": "stdout",
     "output_type": "stream",
     "text": [
      "0.206117684165143 None\n",
      "0.17924144032552955 None\n",
      "0.15282868253285992 None\n",
      "0.12713493325627115 None\n",
      "0.10220840776206508 None\n",
      "0.07811015242804818 None\n",
      "0.05493477566980996 None\n",
      "0.032972932549696105 None\n",
      "0.011942790528335563 None\n",
      "0.0013515984975910784 None\n",
      "0.0013610815008030068 None\n",
      "0.0013785279156494634 None\n",
      "0.0013549812573440245 None\n",
      "0.0013941887994833538 None\n",
      "0.0013558448090287192 None\n",
      "0.0013586363738519371 None\n",
      "0.0013558784021923485 None\n",
      "0.0013506165768999052 None\n",
      "0.0013482346870363898 None\n",
      "0.0013697146280594787 None\n",
      "tf.Tensor(0.001389460591846789, shape=(), dtype=float64)\n",
      "0.0013841648295764234 None\n"
     ]
    },
    {
     "data": {
      "application/vnd.jupyter.widget-view+json": {
       "model_id": "defa504d948341e1873894352d16464a",
       "version_major": 2,
       "version_minor": 0
      },
      "text/plain": [
       "  0%|          | 0/2000 [00:00<?, ?it/s]"
      ]
     },
     "metadata": {},
     "output_type": "display_data"
    },
    {
     "name": "stdout",
     "output_type": "stream",
     "text": [
      "0.21411462185164234 None\n",
      "0.18695305087351272 None\n",
      "0.16018755338757384 None\n",
      "0.1340374935959986 None\n",
      "0.10861023625066922 None\n",
      "0.0840085485395243 None\n",
      "0.060341434597811064 None\n",
      "0.03769196542644829 None\n",
      "0.01611839362931034 None\n",
      "0.007735862201759487 None\n",
      "0.007766320180587059 None\n",
      "0.007762196142975679 None\n",
      "0.007804953367977107 None\n",
      "0.007754123749926255 None\n",
      "0.007751962384293775 None\n",
      "0.007780924801139028 None\n",
      "0.0077866821942614815 None\n",
      "0.0077593768565544265 None\n",
      "0.0077482107207692795 None\n",
      "0.007763931089964558 None\n",
      "tf.Tensor(0.007776607887106279, shape=(), dtype=float64)\n",
      "0.007776486836954734 None\n"
     ]
    },
    {
     "data": {
      "application/vnd.jupyter.widget-view+json": {
       "model_id": "94c0e28117f6477aa35af78178cfbc0a",
       "version_major": 2,
       "version_minor": 0
      },
      "text/plain": [
       "  0%|          | 0/2000 [00:00<?, ?it/s]"
      ]
     },
     "metadata": {},
     "output_type": "display_data"
    },
    {
     "name": "stdout",
     "output_type": "stream",
     "text": [
      "0.20834780742394637 None\n",
      "0.18161489155938293 None\n",
      "0.15550080549303322 None\n",
      "0.12986846009685976 None\n",
      "0.10485819269238902 None\n",
      "0.08061597647147892 None\n",
      "0.057261651867833385 None\n",
      "0.034890088414399625 None\n",
      "0.013570467510387424 None\n",
      "0.0032588533240133655 None\n",
      "0.0032736954843097313 None\n",
      "0.0032727709818823458 None\n",
      "0.003266266561025003 None\n",
      "0.0032587853020841686 None\n",
      "0.003277679433337826 None\n",
      "0.003263018011092099 None\n",
      "0.003284648143777536 None\n",
      "0.0032559241887661055 None\n",
      "0.003271485043082346 None\n",
      "0.003269391639912486 None\n",
      "tf.Tensor(0.0032520951608679977, shape=(), dtype=float64)\n",
      "0.0033010781468310463 None\n"
     ]
    },
    {
     "data": {
      "application/vnd.jupyter.widget-view+json": {
       "model_id": "59396f8e0cd34600bc9ed0b81c4d37d0",
       "version_major": 2,
       "version_minor": 0
      },
      "text/plain": [
       "  0%|          | 0/2000 [00:00<?, ?it/s]"
      ]
     },
     "metadata": {},
     "output_type": "display_data"
    },
    {
     "name": "stdout",
     "output_type": "stream",
     "text": [
      "0.20288193913412084 None\n",
      "0.17638639063625927 None\n",
      "0.15049376059641328 None\n",
      "0.1251763135236959 None\n",
      "0.1005128310916267 None\n",
      "0.07662895576363034 None\n",
      "0.05363417575934098 None\n",
      "0.0316116356624636 None\n",
      "0.010529706657135852 None\n",
      "0.0006258242514278391 None\n",
      "0.0006371426009630365 None\n",
      "0.0006014667866908133 None\n",
      "0.0005833688326955591 None\n",
      "0.0005642184556980019 None\n",
      "0.0005952803140264768 None\n",
      "0.0006217514467650072 None\n",
      "0.0005908435258537622 None\n",
      "0.0005911587885901199 None\n",
      "0.0005867975976792169 None\n",
      "0.0005940400040521081 None\n",
      "tf.Tensor(0.00060379310485815, shape=(), dtype=float64)\n",
      "0.0006023895866097157 None\n"
     ]
    },
    {
     "data": {
      "application/vnd.jupyter.widget-view+json": {
       "model_id": "00697f99514d49969eaff4e4de19235e",
       "version_major": 2,
       "version_minor": 0
      },
      "text/plain": [
       "  0%|          | 0/2000 [00:00<?, ?it/s]"
      ]
     },
     "metadata": {},
     "output_type": "display_data"
    },
    {
     "name": "stdout",
     "output_type": "stream",
     "text": [
      "0.20863814976379114 None\n",
      "0.18142718862721557 None\n",
      "0.15475269628420865 None\n",
      "0.1287826360121424 None\n",
      "0.10365923495801564 None\n",
      "0.07945266973743494 None\n",
      "0.056184760685163745 None\n",
      "0.0339174818158354 None\n",
      "0.012793332655412446 None\n",
      "0.0007149779607448191 None\n",
      "0.0007003300506380865 None\n",
      "0.0007054559521500435 None\n",
      "0.0007291385857112528 None\n",
      "0.0007371201780249862 None\n",
      "0.0007737214047621021 None\n",
      "0.0007097811016278394 None\n",
      "0.0007421171442174752 None\n",
      "0.0007716349425331247 None\n",
      "0.0007295212032749111 None\n",
      "0.0007227643378578327 None\n",
      "tf.Tensor(0.000700981679289614, shape=(), dtype=float64)\n",
      "0.0007473351025946203 None\n"
     ]
    },
    {
     "data": {
      "application/vnd.jupyter.widget-view+json": {
       "model_id": "95c0214957d6410e8a76a52d669aa65b",
       "version_major": 2,
       "version_minor": 0
      },
      "text/plain": [
       "  0%|          | 0/2000 [00:00<?, ?it/s]"
      ]
     },
     "metadata": {},
     "output_type": "display_data"
    },
    {
     "name": "stdout",
     "output_type": "stream",
     "text": [
      "0.20893116267660639 None\n",
      "0.18249731926636614 None\n",
      "0.15631654495636282 None\n",
      "0.13057401829716106 None\n",
      "0.10546396233519972 None\n",
      "0.0811465104071762 None\n",
      "0.05772641110349769 None\n",
      "0.03529590857895213 None\n",
      "0.0139281003338806 None\n",
      "0.003582495958291774 None\n",
      "0.0035737604980537723 None\n",
      "0.0035514166538868994 None\n",
      "0.00355669071471002 None\n",
      "0.0035852279733409598 None\n",
      "0.0035584971626351925 None\n",
      "0.003582528003797509 None\n",
      "0.00357511636979292 None\n",
      "0.003545596147031609 None\n",
      "0.003562810774312237 None\n",
      "0.0035497190538657433 None\n",
      "tf.Tensor(0.003620880538845515, shape=(), dtype=float64)\n",
      "0.003622674064825873 None\n"
     ]
    },
    {
     "data": {
      "application/vnd.jupyter.widget-view+json": {
       "model_id": "b4c3b26b4216484a90d1c69cc3e8f659",
       "version_major": 2,
       "version_minor": 0
      },
      "text/plain": [
       "  0%|          | 0/2000 [00:00<?, ?it/s]"
      ]
     },
     "metadata": {},
     "output_type": "display_data"
    },
    {
     "name": "stdout",
     "output_type": "stream",
     "text": [
      "0.19840196873606983 None\n",
      "0.17176186880582464 None\n",
      "0.14536797831746046 None\n",
      "0.12009923466756459 None\n",
      "0.09553402009359577 None\n",
      "0.07180812020908962 None\n",
      "0.04956100126936909 None\n",
      "0.030821494101765295 None\n",
      "0.012595717583644285 None\n",
      "0.0021844366486692525 None\n",
      "0.002231256927476029 None\n",
      "0.0021914312706410753 None\n",
      "0.002173333801407506 None\n",
      "0.002244348244353162 None\n",
      "0.002188223716667561 None\n",
      "0.0021847435938076483 None\n",
      "0.002243543161446121 None\n",
      "0.002220000019044572 None\n",
      "0.0022174606535260025 None\n",
      "0.0021852341717045433 None\n",
      "tf.Tensor(0.002202358946831992, shape=(), dtype=float64)\n",
      "0.0021855824878880643 None\n",
      "Done!\n"
     ]
    },
    {
     "data": {
      "application/vnd.jupyter.widget-view+json": {
       "model_id": "4e2186cec5ae497183da0ed9597b9268",
       "version_major": 2,
       "version_minor": 0
      },
      "text/plain": [
       "  0%|          | 0/2000 [00:00<?, ?it/s]"
      ]
     },
     "metadata": {},
     "output_type": "display_data"
    },
    {
     "name": "stdout",
     "output_type": "stream",
     "text": [
      "0.3235067946197745 None\n",
      "0.31904452829840746 None\n",
      "0.2635883758427252 None\n",
      "0.21755230238521087 None\n",
      "0.1753862000083175 None\n",
      "0.14615763158816542 None\n",
      "0.113106760153914 None\n",
      "0.08366525310348685 None\n",
      "0.055720254355651755 None\n",
      "0.032006273549116504 None\n",
      "0.03178558850842072 None\n",
      "0.0317757815850063 None\n",
      "0.0317991098905458 None\n",
      "0.031777103095314584 None\n",
      "0.03178966628324583 None\n",
      "0.03179739255085374 None\n",
      "0.03177348191820808 None\n",
      "0.031798840276302094 None\n",
      "0.03178028595315704 None\n",
      "0.03180535356998434 None\n",
      "tf.Tensor(0.03179022501494434, shape=(), dtype=float64)\n",
      "0.03179447993250316 None\n"
     ]
    },
    {
     "data": {
      "application/vnd.jupyter.widget-view+json": {
       "model_id": "888a2ff9abda4e2b84903fd76a3745f8",
       "version_major": 2,
       "version_minor": 0
      },
      "text/plain": [
       "  0%|          | 0/2000 [00:00<?, ?it/s]"
      ]
     },
     "metadata": {},
     "output_type": "display_data"
    },
    {
     "name": "stdout",
     "output_type": "stream",
     "text": [
      "0.27674452467268085 None\n",
      "0.2425178944097131 None\n",
      "0.20826196185402476 None\n",
      "0.17511184003917182 None\n",
      "0.14760501291513062 None\n",
      "0.12185936755827062 None\n",
      "0.10265473034086796 None\n",
      "0.07840525591577985 None\n",
      "0.05577549173267928 None\n",
      "0.03456552126729566 None\n",
      "0.021566378105408755 None\n",
      "0.021522912178515062 None\n",
      "0.021513581285306456 None\n",
      "0.0215003655498748 None\n",
      "0.021511361437359516 None\n",
      "0.021489904800333658 None\n",
      "0.021497871906518105 None\n",
      "0.0214890295255288 None\n",
      "0.02148890669872445 None\n",
      "0.021492608150841815 None\n",
      "tf.Tensor(0.021516672787097763, shape=(), dtype=float64)\n",
      "0.02149735099873072 None\n"
     ]
    },
    {
     "data": {
      "application/vnd.jupyter.widget-view+json": {
       "model_id": "a5d0ff228f684613be187f9e53dcdc81",
       "version_major": 2,
       "version_minor": 0
      },
      "text/plain": [
       "  0%|          | 0/2000 [00:00<?, ?it/s]"
      ]
     },
     "metadata": {},
     "output_type": "display_data"
    },
    {
     "name": "stdout",
     "output_type": "stream",
     "text": [
      "0.25651902951886213 None\n",
      "0.2268206149681997 None\n",
      "0.19768252754590376 None\n",
      "0.16950110957654677 None\n",
      "0.14179353639940853 None\n",
      "0.11484812566055233 None\n",
      "0.08919900284195204 None\n",
      "0.06618920073797119 None\n",
      "0.044027712301104 None\n",
      "0.022931612129505903 None\n",
      "0.017464113437076156 None\n",
      "0.01746626417803928 None\n",
      "0.017484579057647137 None\n",
      "0.01748860770214447 None\n",
      "0.01745900289804571 None\n",
      "0.017487791623751588 None\n",
      "0.01746529904004679 None\n",
      "0.017464372955426667 None\n",
      "0.01746189323236258 None\n",
      "0.017469606896043363 None\n",
      "tf.Tensor(0.01746950270739399, shape=(), dtype=float64)\n",
      "0.017473844924252004 None\n"
     ]
    },
    {
     "data": {
      "application/vnd.jupyter.widget-view+json": {
       "model_id": "25fd7fd6cfe2471794ea48d3ef39544e",
       "version_major": 2,
       "version_minor": 0
      },
      "text/plain": [
       "  0%|          | 0/2000 [00:00<?, ?it/s]"
      ]
     },
     "metadata": {},
     "output_type": "display_data"
    },
    {
     "name": "stdout",
     "output_type": "stream",
     "text": [
      "0.23156413113338215 None\n",
      "0.202195382841584 None\n",
      "0.17446882404836184 None\n",
      "0.14873039663031226 None\n",
      "0.12417743676762862 None\n",
      "0.100448028662542 None\n",
      "0.07747693108386063 None\n",
      "0.05549257838463999 None\n",
      "0.034572935537790575 None\n",
      "0.014650260361013155 None\n",
      "0.0050926602625645315 None\n",
      "0.005106161617935508 None\n",
      "0.005111760140747212 None\n",
      "0.005093952662438155 None\n",
      "0.005121362415997335 None\n",
      "0.005103814600096217 None\n",
      "0.005132987399187678 None\n",
      "0.0050936241740735435 None\n",
      "0.005104884032800908 None\n",
      "0.005110063025549002 None\n",
      "tf.Tensor(0.005113443963769657, shape=(), dtype=float64)\n",
      "0.005116154787066417 None\n"
     ]
    },
    {
     "data": {
      "application/vnd.jupyter.widget-view+json": {
       "model_id": "8508d320574e432591655138fd6e1eef",
       "version_major": 2,
       "version_minor": 0
      },
      "text/plain": [
       "  0%|          | 0/2000 [00:00<?, ?it/s]"
      ]
     },
     "metadata": {},
     "output_type": "display_data"
    },
    {
     "name": "stdout",
     "output_type": "stream",
     "text": [
      "0.23433954553470066 None\n",
      "0.20468007861737783 None\n",
      "0.17753294515583368 None\n",
      "0.15079987920822402 None\n",
      "0.12520203166421073 None\n",
      "0.10006305193679382 None\n",
      "0.07599464662491072 None\n",
      "0.05294734397194862 None\n",
      "0.03144044559852354 None\n",
      "0.011127094732785564 None\n",
      "0.0036067057345918405 None\n",
      "0.003595874118923762 None\n",
      "0.003593388551816767 None\n",
      "0.0035794228532204705 None\n",
      "0.0035918953495095475 None\n",
      "0.003579947981021193 None\n",
      "0.003574338569071767 None\n",
      "0.0035806473697888724 None\n",
      "0.00359651949702881 None\n",
      "0.0035785872742521933 None\n",
      "tf.Tensor(0.0035923602427373365, shape=(), dtype=float64)\n",
      "0.003585198345717128 None\n"
     ]
    },
    {
     "data": {
      "application/vnd.jupyter.widget-view+json": {
       "model_id": "a586e666751d47a6bba3ea954bf36ffd",
       "version_major": 2,
       "version_minor": 0
      },
      "text/plain": [
       "  0%|          | 0/2000 [00:00<?, ?it/s]"
      ]
     },
     "metadata": {},
     "output_type": "display_data"
    },
    {
     "name": "stdout",
     "output_type": "stream",
     "text": [
      "0.22639986413271596 None\n",
      "0.19939224731944627 None\n",
      "0.17316130786335215 None\n",
      "0.14801745286692022 None\n",
      "0.12277630060081401 None\n",
      "0.09814449685996637 None\n",
      "0.07438876482211905 None\n",
      "0.05164224292418839 None\n",
      "0.02999318992032892 None\n",
      "0.009493242608268048 None\n",
      "0.003825467477947455 None\n",
      "0.003824875388185746 None\n",
      "0.003881263775517169 None\n",
      "0.003898347935395015 None\n",
      "0.003846580546805407 None\n",
      "0.0038355566201673467 None\n",
      "0.003878508022470915 None\n",
      "0.003826089290213195 None\n",
      "0.003870336843659169 None\n",
      "0.003869595075266843 None\n",
      "tf.Tensor(0.0038260412735887216, shape=(), dtype=float64)\n",
      "0.0038475227237356954 None\n"
     ]
    },
    {
     "data": {
      "application/vnd.jupyter.widget-view+json": {
       "model_id": "247a8a7d8f424ea185ad7c167af83034",
       "version_major": 2,
       "version_minor": 0
      },
      "text/plain": [
       "  0%|          | 0/2000 [00:00<?, ?it/s]"
      ]
     },
     "metadata": {},
     "output_type": "display_data"
    },
    {
     "name": "stdout",
     "output_type": "stream",
     "text": [
      "0.23219137342155038 None\n",
      "0.20442212670177026 None\n",
      "0.1771694755240218 None\n",
      "0.15065917449820418 None\n",
      "0.12501422252388156 None\n",
      "0.10010808638597535 None\n",
      "0.07637100880582784 None\n",
      "0.053843523057155375 None\n",
      "0.032368472367863846 None\n",
      "0.01204350000466772 None\n",
      "0.0022372037956003617 None\n",
      "0.002237806023961243 None\n",
      "0.0022390641792823917 None\n",
      "0.0022635993870780066 None\n",
      "0.002249630450214212 None\n",
      "0.002248268206623511 None\n",
      "0.0022591308370902563 None\n",
      "0.0022399830445480554 None\n",
      "0.002265361003194872 None\n",
      "0.0022650335529207626 None\n",
      "tf.Tensor(0.0022528193237237627, shape=(), dtype=float64)\n",
      "0.0022381858653961837 None\n"
     ]
    },
    {
     "data": {
      "application/vnd.jupyter.widget-view+json": {
       "model_id": "420e584e27624785a9b6e58de9658d57",
       "version_major": 2,
       "version_minor": 0
      },
      "text/plain": [
       "  0%|          | 0/2000 [00:00<?, ?it/s]"
      ]
     },
     "metadata": {},
     "output_type": "display_data"
    },
    {
     "name": "stdout",
     "output_type": "stream",
     "text": [
      "0.22061033844125078 None\n",
      "0.19391001832905053 None\n",
      "0.1675458034926795 None\n",
      "0.14113682818970832 None\n",
      "0.116157273495949 None\n",
      "0.09206015975358169 None\n",
      "0.06893106361512986 None\n",
      "0.04683219098084058 None\n",
      "0.025807918305989615 None\n",
      "0.006911014734270252 None\n",
      "0.0006164218795997531 None\n",
      "0.000566858813511156 None\n",
      "0.0005682913805388923 None\n",
      "0.0005699474147156987 None\n",
      "0.0005716024158190711 None\n",
      "0.0005720009757959766 None\n",
      "0.0005880731480732964 None\n",
      "0.0006206415798580903 None\n",
      "0.0005707273631521525 None\n",
      "0.0006281292580593047 None\n",
      "tf.Tensor(0.0005573185698962927, shape=(), dtype=float64)\n",
      "0.000587380910804472 None\n"
     ]
    },
    {
     "data": {
      "application/vnd.jupyter.widget-view+json": {
       "model_id": "7eba746ccd1a4a9db37cfadd7449a011",
       "version_major": 2,
       "version_minor": 0
      },
      "text/plain": [
       "  0%|          | 0/2000 [00:00<?, ?it/s]"
      ]
     },
     "metadata": {},
     "output_type": "display_data"
    },
    {
     "name": "stdout",
     "output_type": "stream",
     "text": [
      "0.22484463207930977 None\n",
      "0.19793882427334913 None\n",
      "0.1714227884718625 None\n",
      "0.14852091846478696 None\n",
      "0.12324422653706935 None\n",
      "0.09879306290018981 None\n",
      "0.07524919949808798 None\n",
      "0.05270083966855895 None\n",
      "0.031216746720913055 None\n",
      "0.010842603357361926 None\n",
      "0.003005490314192708 None\n",
      "0.0029970535605112116 None\n",
      "0.0030047255092184068 None\n",
      "0.003023731120788093 None\n",
      "0.0030234421779939003 None\n",
      "0.003016929370536877 None\n",
      "0.0030028683626244553 None\n",
      "0.003028947512762054 None\n",
      "0.0030062398322616302 None\n",
      "0.003013448606318624 None\n",
      "tf.Tensor(0.003000773407979336, shape=(), dtype=float64)\n",
      "0.0030159677083454496 None\n"
     ]
    },
    {
     "data": {
      "application/vnd.jupyter.widget-view+json": {
       "model_id": "ca8eb2f5a8aa4a7ba2af6fa987616dc5",
       "version_major": 2,
       "version_minor": 0
      },
      "text/plain": [
       "  0%|          | 0/2000 [00:00<?, ?it/s]"
      ]
     },
     "metadata": {},
     "output_type": "display_data"
    },
    {
     "name": "stdout",
     "output_type": "stream",
     "text": [
      "0.22068094447960923 None\n",
      "0.19471543962434548 None\n",
      "0.16881106430752102 None\n",
      "0.1431529099157488 None\n",
      "0.11797960155588699 None\n",
      "0.0935186918716189 None\n",
      "0.07011734770991439 None\n",
      "0.04774587771773646 None\n",
      "0.026476671606792457 None\n",
      "0.006360774921773482 None\n",
      "0.0010930929775745009 None\n",
      "0.0011292927088595063 None\n",
      "0.0010807102114286822 None\n",
      "0.001076493007451643 None\n",
      "0.0010857564835505418 None\n",
      "0.0011012806350643185 None\n",
      "0.0010809988822534158 None\n",
      "0.001129331494779286 None\n",
      "0.0010783401835519 None\n",
      "0.0010861021498012793 None\n",
      "tf.Tensor(0.0010797886077803277, shape=(), dtype=float64)\n",
      "0.0010967654082470694 None\n"
     ]
    },
    {
     "data": {
      "application/vnd.jupyter.widget-view+json": {
       "model_id": "e0105f77066e4e06ab44af71dd77b0a0",
       "version_major": 2,
       "version_minor": 0
      },
      "text/plain": [
       "  0%|          | 0/2000 [00:00<?, ?it/s]"
      ]
     },
     "metadata": {},
     "output_type": "display_data"
    },
    {
     "name": "stdout",
     "output_type": "stream",
     "text": [
      "0.2217688512351106 None\n",
      "0.19480271171892521 None\n",
      "0.1685072929682617 None\n",
      "0.1428779809895193 None\n",
      "0.11786884103020599 None\n",
      "0.09359483245926215 None\n",
      "0.07024941705279042 None\n",
      "0.0480081887630983 None\n",
      "0.026898319420706508 None\n",
      "0.006918796818867624 None\n",
      "6.47250314766857e-05 None\n",
      "5.3420643144135374e-05 None\n",
      "7.075899323132594e-05 None\n",
      "8.669401207598952e-05 None\n",
      "6.88318210288752e-05 None\n",
      "6.785707955860379e-05 None\n",
      "6.745171207630032e-05 None\n",
      "8.693365845210618e-05 None\n",
      "5.871053676225271e-05 None\n",
      "9.602669226675166e-05 None\n",
      "tf.Tensor(7.662456811625973e-05, shape=(), dtype=float64)\n",
      "5.6922559955265364e-05 None\n"
     ]
    },
    {
     "data": {
      "application/vnd.jupyter.widget-view+json": {
       "model_id": "6990e5f2951049f98d8f341db4061734",
       "version_major": 2,
       "version_minor": 0
      },
      "text/plain": [
       "  0%|          | 0/2000 [00:00<?, ?it/s]"
      ]
     },
     "metadata": {},
     "output_type": "display_data"
    },
    {
     "name": "stdout",
     "output_type": "stream",
     "text": [
      "0.21304149219234342 None\n",
      "0.18709279468461015 None\n",
      "0.1614687600752322 None\n",
      "0.13630561590688617 None\n",
      "0.11174861560150098 None\n",
      "0.08793644358496455 None\n",
      "0.06499578740304979 None\n",
      "0.043044756578485936 None\n",
      "0.023752937781173777 None\n",
      "0.006232723641862038 None\n",
      "0.0011833049087129933 None\n",
      "0.0012074928373896846 None\n",
      "0.0012150065709731588 None\n",
      "0.001240749850180566 None\n",
      "0.00122465148467776 None\n",
      "0.001200685378892138 None\n",
      "0.0012239533557224427 None\n",
      "0.001198577172293028 None\n",
      "0.0012646957366068499 None\n",
      "0.0011807218364533849 None\n",
      "tf.Tensor(0.001181190082908597, shape=(), dtype=float64)\n",
      "0.0012127843348804946 None\n"
     ]
    },
    {
     "data": {
      "application/vnd.jupyter.widget-view+json": {
       "model_id": "b1ef0004fe46443c9a3dbdd6a483b468",
       "version_major": 2,
       "version_minor": 0
      },
      "text/plain": [
       "  0%|          | 0/2000 [00:00<?, ?it/s]"
      ]
     },
     "metadata": {},
     "output_type": "display_data"
    },
    {
     "name": "stdout",
     "output_type": "stream",
     "text": [
      "0.22444752189202535 None\n",
      "0.19902913696923696 None\n",
      "0.17203124489596083 None\n",
      "0.14569009820582146 None\n",
      "0.12015629196419435 None\n",
      "0.09527852053754912 None\n",
      "0.07129319134741244 None\n",
      "0.04871365462949402 None\n",
      "0.02751564049557362 None\n",
      "0.008240303448909905 None\n",
      "0.0005189019175870883 None\n",
      "0.0005340712683694626 None\n",
      "0.0005237676558962814 None\n",
      "0.0005422874620148038 None\n",
      "0.0005430685252852605 None\n",
      "0.0005617536136351339 None\n",
      "0.0005361280336974739 None\n",
      "0.0005564616957876353 None\n",
      "0.0005450668368484138 None\n",
      "0.0005195831644580276 None\n",
      "tf.Tensor(0.0005806059924735943, shape=(), dtype=float64)\n",
      "0.0005425510860776594 None\n",
      "Done!\n"
     ]
    },
    {
     "data": {
      "application/vnd.jupyter.widget-view+json": {
       "model_id": "ed3fe509174f4c22968026e81b56ddc6",
       "version_major": 2,
       "version_minor": 0
      },
      "text/plain": [
       "  0%|          | 0/2000 [00:00<?, ?it/s]"
      ]
     },
     "metadata": {},
     "output_type": "display_data"
    },
    {
     "name": "stdout",
     "output_type": "stream",
     "text": [
      "0.2519180483050413 None\n",
      "0.25144478841565354 None\n",
      "0.25106581185044835 None\n",
      "0.25144078436157635 None\n",
      "0.2514414530546668 None\n",
      "0.25107314179514695 None\n",
      "0.25143889762172944 None\n",
      "0.251441430410333 None\n",
      "0.2510732892881801 None\n",
      "0.25143887107409546 None\n",
      "0.2514414175949773 None\n",
      "0.2510733556500423 None\n",
      "0.2514388580636859 None\n",
      "0.25144141091101135 None\n",
      "0.25107339231796755 None\n",
      "0.25143885056784887 None\n",
      "0.2514414069324685 None\n",
      "0.25107341485160384 None\n",
      "0.25143884584907644 None\n",
      "0.2514414043787684 None\n",
      "tf.Tensor(0.2510689880847269, shape=(), dtype=float64)\n",
      "0.25107342960108453 None\n"
     ]
    },
    {
     "data": {
      "application/vnd.jupyter.widget-view+json": {
       "model_id": "d08da720a61e4951b37ca6125856c69e",
       "version_major": 2,
       "version_minor": 0
      },
      "text/plain": [
       "  0%|          | 0/2000 [00:00<?, ?it/s]"
      ]
     },
     "metadata": {},
     "output_type": "display_data"
    },
    {
     "name": "stdout",
     "output_type": "stream",
     "text": [
      "0.25571818993894324 None\n",
      "0.22294750881755027 None\n",
      "0.1923366266333949 None\n",
      "0.1624542295980717 None\n",
      "0.13339166248352785 None\n",
      "0.10541883423426571 None\n",
      "0.07891637362225444 None\n",
      "0.05441960726719203 None\n",
      "0.03118116585691657 None\n",
      "0.01488130145126461 None\n",
      "0.014750929771178712 None\n",
      "0.014726279701696371 None\n",
      "0.014749403639507724 None\n",
      "0.014735049139345152 None\n",
      "0.014749373586846514 None\n",
      "0.014747496047651005 None\n",
      "0.014734509388545354 None\n",
      "0.014722393057263911 None\n",
      "0.014714602645512524 None\n",
      "0.014764500441929647 None\n",
      "tf.Tensor(0.014744179811432912, shape=(), dtype=float64)\n",
      "0.014728526835884775 None\n"
     ]
    },
    {
     "data": {
      "application/vnd.jupyter.widget-view+json": {
       "model_id": "9d249df8e8194ccaabf02a703affc58f",
       "version_major": 2,
       "version_minor": 0
      },
      "text/plain": [
       "  0%|          | 0/2000 [00:00<?, ?it/s]"
      ]
     },
     "metadata": {},
     "output_type": "display_data"
    },
    {
     "name": "stdout",
     "output_type": "stream",
     "text": [
      "0.23343053753777487 None\n",
      "0.2040276482410814 None\n",
      "0.17532824976014066 None\n",
      "0.15086120558195126 None\n",
      "0.12293549071994184 None\n",
      "0.09725924190198905 None\n",
      "0.07282153504740252 None\n",
      "0.04952884621415889 None\n",
      "0.02733756095660045 None\n",
      "0.017964582135184856 None\n",
      "0.017896454731319858 None\n",
      "0.017971010914388866 None\n",
      "0.0179166037138924 None\n",
      "0.017901369790583835 None\n",
      "0.017902518380932028 None\n",
      "0.017954767578588986 None\n",
      "0.017926499744198125 None\n",
      "0.017897640507435954 None\n",
      "0.017899391558212407 None\n",
      "0.017929673261163945 None\n",
      "tf.Tensor(0.017923294128988743, shape=(), dtype=float64)\n",
      "0.01795448817385515 None\n"
     ]
    },
    {
     "data": {
      "application/vnd.jupyter.widget-view+json": {
       "model_id": "a2b7dcf40d3f47b5ab6222bc7b09b481",
       "version_major": 2,
       "version_minor": 0
      },
      "text/plain": [
       "  0%|          | 0/2000 [00:00<?, ?it/s]"
      ]
     },
     "metadata": {},
     "output_type": "display_data"
    },
    {
     "name": "stdout",
     "output_type": "stream",
     "text": [
      "0.23044765674626044 None\n",
      "0.2019151467922651 None\n",
      "0.17376271402972024 None\n",
      "0.1461200265993154 None\n",
      "0.11914259714491438 None\n",
      "0.09262241580899261 None\n",
      "0.06793295042170114 None\n",
      "0.04532722047495405 None\n",
      "0.02352735889925038 None\n",
      "0.012367049270651452 None\n",
      "0.01234208775253933 None\n",
      "0.012331123649493963 None\n",
      "0.01233145352554695 None\n",
      "0.01237822139008867 None\n",
      "0.012328931887126327 None\n",
      "0.012413234015595015 None\n",
      "0.012350598887762935 None\n",
      "0.012341363370395464 None\n",
      "0.01232405662394566 None\n",
      "0.012343746285665211 None\n",
      "tf.Tensor(0.012338695021500494, shape=(), dtype=float64)\n",
      "0.012333682477489219 None\n"
     ]
    },
    {
     "data": {
      "application/vnd.jupyter.widget-view+json": {
       "model_id": "a4fde77795604cdf8bf48c47d0fcec22",
       "version_major": 2,
       "version_minor": 0
      },
      "text/plain": [
       "  0%|          | 0/2000 [00:00<?, ?it/s]"
      ]
     },
     "metadata": {},
     "output_type": "display_data"
    },
    {
     "name": "stdout",
     "output_type": "stream",
     "text": [
      "0.22433621760799938 None\n",
      "0.19566884358818004 None\n",
      "0.16661335350602235 None\n",
      "0.13980257227107706 None\n",
      "0.11432507298576329 None\n",
      "0.0902831301181077 None\n",
      "0.06662154240028428 None\n",
      "0.04381589047789701 None\n",
      "0.022105746116861696 None\n",
      "0.00840253917011524 None\n",
      "0.008332576203947244 None\n",
      "0.008289813679266613 None\n",
      "0.008286136946360384 None\n",
      "0.008270896192156799 None\n",
      "0.00828096264717275 None\n",
      "0.008258324602920931 None\n",
      "0.008294515689331842 None\n",
      "0.008278690533095273 None\n",
      "0.008261612423586208 None\n",
      "0.008265848483282311 None\n",
      "tf.Tensor(0.008271842306833763, shape=(), dtype=float64)\n",
      "0.008283355942985059 None\n"
     ]
    },
    {
     "data": {
      "application/vnd.jupyter.widget-view+json": {
       "model_id": "bf40406308dc4ec7ad22214409fdded1",
       "version_major": 2,
       "version_minor": 0
      },
      "text/plain": [
       "  0%|          | 0/2000 [00:00<?, ?it/s]"
      ]
     },
     "metadata": {},
     "output_type": "display_data"
    },
    {
     "name": "stdout",
     "output_type": "stream",
     "text": [
      "0.21158173761898497 None\n",
      "0.18409247693752054 None\n",
      "0.1573640026191523 None\n",
      "0.13134740158065544 None\n",
      "0.10608333337209613 None\n",
      "0.08165004407074859 None\n",
      "0.05814155080887589 None\n",
      "0.035643899956412775 None\n",
      "0.014222300386151588 None\n",
      "0.006906144292832839 None\n",
      "0.006897369576053426 None\n",
      "0.006957530926194026 None\n",
      "0.006889816463187591 None\n",
      "0.006935891795709187 None\n",
      "0.0069339590002409374 None\n",
      "0.0069165184366274095 None\n",
      "0.006894674209386812 None\n",
      "0.006884861953929905 None\n",
      "0.006926438706605672 None\n",
      "0.006896176096188944 None\n",
      "tf.Tensor(0.006903824282314652, shape=(), dtype=float64)\n",
      "0.006915673645077053 None\n"
     ]
    },
    {
     "data": {
      "application/vnd.jupyter.widget-view+json": {
       "model_id": "61cbb4a759ab4af4bc17b07181318fed",
       "version_major": 2,
       "version_minor": 0
      },
      "text/plain": [
       "  0%|          | 0/2000 [00:00<?, ?it/s]"
      ]
     },
     "metadata": {},
     "output_type": "display_data"
    },
    {
     "name": "stdout",
     "output_type": "stream",
     "text": [
      "0.2100776889662416 None\n",
      "0.182980384559011 None\n",
      "0.15632296824338943 None\n",
      "0.13017359867098455 None\n",
      "0.10465096291519324 None\n",
      "0.0798913702841904 None\n",
      "0.056114572308641496 None\n",
      "0.033544260461144865 None\n"
     ]
    }
   ],
   "source": [
    "n = 3\n",
    "d = 2**n\n",
    "\n",
    "np.random.seed(42)\n",
    "random.seed(42)\n",
    "tf.random.set_seed(42)\n",
    "rng = np.random.default_rng(seed=42)\n",
    "\n",
    "distance_best_list, model_best_list = fit_diluted_unitary(spectrum_target_list1, \n",
    "                                                          d=d, \n",
    "                                                          rank_start = 1,\n",
    "                                                          rank_step = 1,\n",
    "                                                          num_iter = 2000,\n",
    "                                                         )\n",
    "\n",
    "saver([distance_best_list, model_best_list], data_path(\"diluted_fitting_8layer.model\"))"
   ]
  },
  {
   "cell_type": "code",
   "execution_count": null,
   "metadata": {
    "scrolled": true
   },
   "outputs": [],
   "source": [
    "n = 3\n",
    "d = 2**n\n",
    "\n",
    "np.random.seed(42)\n",
    "random.seed(42)\n",
    "tf.random.set_seed(42)\n",
    "rng = np.random.default_rng(seed=42)\n",
    "\n",
    "[distance_best_list, model_best_list] = loader(data_path(\"diluted_fitting_8layer.model\"))\n",
    "rank_start = model_best_list[-1].channel.rank\n",
    "\n",
    "distance_best_list, model_best_list = fit_diluted_unitary(spectrum_target_list2,\n",
    "                                                          d=d, \n",
    "                                                          rank_start = rank_start,\n",
    "                                                          rank_step = 1,\n",
    "                                                          num_iter = 2000,\n",
    "                                                          )\n",
    "\n",
    "saver([distance_best_list, model_best_list], data_path(\"diluted_fitting_16layer.model\"))"
   ]
  },
  {
   "cell_type": "code",
   "execution_count": null,
   "metadata": {},
   "outputs": [],
   "source": [
    "n = 3\n",
    "d = 2**n\n",
    "\n",
    "np.random.seed(42)\n",
    "random.seed(42)\n",
    "tf.random.set_seed(42)\n",
    "rng = np.random.default_rng(seed=42)\n",
    "\n",
    "[distance_best_list, model_best_list] = loader(data_path(\"diluted_fitting_16layer.model\"))\n",
    "rank_start = model_best_list[-1].channel.rank\n",
    "\n",
    "distance_best_list, model_best_list = fit_diluted_unitary(spectrum_target_list3, \n",
    "                                                          d=d, \n",
    "                                                          rank_start = rank_start,\n",
    "                                                          rank_step = 1,\n",
    "                                                          num_iter = 2000,\n",
    "                                                         )\n",
    "\n",
    "saver([distance_best_list, model_best_list], data_path(\"diluted_fitting_24layer.model\"))"
   ]
  },
  {
   "cell_type": "code",
   "execution_count": null,
   "metadata": {},
   "outputs": [],
   "source": [
    "n = 3\n",
    "d = 2**n\n",
    "\n",
    "np.random.seed(42)\n",
    "random.seed(42)\n",
    "tf.random.set_seed(42)\n",
    "rng = np.random.default_rng(seed=42)\n",
    "\n",
    "[distance_best_list, model_best_list] = loader(data_path(\"diluted_fitting_24layer.model\"))\n",
    "rank_start = model_best_list[-1].channel.rank\n",
    "\n",
    "distance_best_list, model_best_list = fit_diluted_unitary(spectrum_target_list4, \n",
    "                                                          d=d, \n",
    "                                                          rank_start = rank_start,\n",
    "                                                          rank_step = 1,\n",
    "                                                          num_iter = 2000,\n",
    "                                                         )\n",
    "\n",
    "saver([distance_best_list, model_best_list], data_path(\"diluted_fitting_32layer.model\"))"
   ]
  },
  {
   "cell_type": "markdown",
   "metadata": {},
   "source": [
    "## Four Qubits"
   ]
  },
  {
   "cell_type": "code",
   "execution_count": 51,
   "metadata": {},
   "outputs": [],
   "source": [
    "n = 4\n",
    "d = 2**n\n",
    "\n",
    "[model1, model2, model3, model4, model5] = loader(data_path(\"belem_4qubit_repeated.model\"))\n",
    "\n",
    "spectrum1 = channel_spectrum(model1.channel, keep_real=False)\n",
    "spectrum2 = channel_spectrum(model2.channel, keep_real=False) \n",
    "spectrum3 = channel_spectrum(model3.channel, keep_real=False)\n",
    "spectrum4 = channel_spectrum(model4.channel, keep_real=False)\n",
    "spectrum5 = channel_spectrum(model5.channel, keep_real=False)"
   ]
  },
  {
   "cell_type": "code",
   "execution_count": 52,
   "metadata": {
    "scrolled": true
   },
   "outputs": [
    {
     "data": {
      "application/vnd.jupyter.widget-view+json": {
       "model_id": "cc20ae40f74345b99d1e3d0a34c27ecc",
       "version_major": 2,
       "version_minor": 0
      },
      "text/plain": [
       "  0%|          | 0/2000 [00:00<?, ?it/s]"
      ]
     },
     "metadata": {},
     "output_type": "display_data"
    },
    {
     "name": "stdout",
     "output_type": "stream",
     "text": [
      "0.23604491452368892 None\n",
      "0.22884847262278685 None\n",
      "0.2308204072016827 None\n",
      "0.2269173756274781 None\n",
      "0.230601897437974 None\n",
      "0.22670672874034004 None\n",
      "0.2306018318002978 None\n",
      "0.23444400456919537 None\n",
      "0.22670672323330907 None\n",
      "0.22691681561509486 None\n",
      "0.23444400456180223 None\n",
      "0.22670672323292876 None\n",
      "0.22670672323292676 None\n",
      "0.2344440045617928 None\n",
      "0.226706723232917 None\n",
      "0.23060183149402394 None\n",
      "0.22670672323292737 None\n",
      "0.22670672323292754 None\n",
      "0.22670672323292426 None\n",
      "0.22691681561509133 None\n",
      "0.22670672323293137 None\n"
     ]
    },
    {
     "data": {
      "application/vnd.jupyter.widget-view+json": {
       "model_id": "d2dd3069d72147fea0ab662ff7914a66",
       "version_major": 2,
       "version_minor": 0
      },
      "text/plain": [
       "  0%|          | 0/2000 [00:00<?, ?it/s]"
      ]
     },
     "metadata": {},
     "output_type": "display_data"
    },
    {
     "name": "stdout",
     "output_type": "stream",
     "text": [
      "0.13211728892711652 None\n",
      "0.124228269786473 None\n",
      "0.11516116005998811 None\n",
      "0.10933154211595487 None\n",
      "0.1007590631779306 None\n",
      "0.1020446677115946 None\n",
      "0.09806631227291192 None\n",
      "0.09807667062026788 None\n",
      "0.10206560353422467 None\n",
      "0.09809396709413733 None\n",
      "0.09807322823898597 None\n",
      "0.09807324582872091 None\n",
      "0.10201627208935242 None\n",
      "0.10200940643050527 None\n",
      "0.0980711189281119 None\n",
      "0.10207734989017395 None\n",
      "0.0980772114548718 None\n",
      "0.10202302114940087 None\n",
      "0.09806542467331243 None\n",
      "0.10201251468934347 None\n",
      "0.09833033470461072 None\n"
     ]
    },
    {
     "data": {
      "application/vnd.jupyter.widget-view+json": {
       "model_id": "c379e2de20bb466e91e91dd67e8f15bd",
       "version_major": 2,
       "version_minor": 0
      },
      "text/plain": [
       "  0%|          | 0/2000 [00:00<?, ?it/s]"
      ]
     },
     "metadata": {},
     "output_type": "display_data"
    },
    {
     "name": "stdout",
     "output_type": "stream",
     "text": [
      "0.10729163648296146 None\n",
      "0.09462603472888628 None\n",
      "0.07666227633180484 None\n",
      "0.06456286171141366 None\n",
      "0.06134062751567793 None\n",
      "0.06524492597911165 None\n",
      "0.06130545836298 None\n",
      "0.06529785464944197 None\n",
      "0.061636333528359094 None\n",
      "0.06159462338501963 None\n",
      "0.06159054153198932 None\n",
      "0.06163053445072679 None\n",
      "0.061586920157324435 None\n",
      "0.0612964274140516 None\n",
      "0.06527830697818997 None\n",
      "0.06164348172893068 None\n",
      "0.06130365163574174 None\n",
      "0.06524722895077692 None\n",
      "0.061334704145117915 None\n",
      "0.06129829578540395 None\n",
      "0.06527434799246161 None\n"
     ]
    },
    {
     "data": {
      "application/vnd.jupyter.widget-view+json": {
       "model_id": "26f8958b62234082a48d535dc2a96795",
       "version_major": 2,
       "version_minor": 0
      },
      "text/plain": [
       "  0%|          | 0/2000 [00:00<?, ?it/s]"
      ]
     },
     "metadata": {},
     "output_type": "display_data"
    },
    {
     "name": "stdout",
     "output_type": "stream",
     "text": [
      "0.09886026723637965 None\n",
      "0.07991115994505608 None\n",
      "0.0629884567166917 None\n",
      "0.047971038287409146 None\n",
      "0.050057044604109036 None\n",
      "0.046096772467353775 None\n",
      "0.04635652913392074 None\n",
      "0.04609952220113514 None\n",
      "0.04610565585000954 None\n",
      "0.04610759815307848 None\n",
      "0.046383086517977457 None\n",
      "0.04611304186951375 None\n",
      "0.050050675397697295 None\n",
      "0.046361271972374676 None\n",
      "0.05003917527489177 None\n",
      "0.050040226793110036 None\n",
      "0.04610025949245828 None\n",
      "0.0464408460583953 None\n",
      "0.046175631657011926 None\n",
      "0.046437077008710616 None\n",
      "0.050120247687576135 None\n"
     ]
    },
    {
     "data": {
      "application/vnd.jupyter.widget-view+json": {
       "model_id": "89f03f57b0f4402a92df49c70200c730",
       "version_major": 2,
       "version_minor": 0
      },
      "text/plain": [
       "  0%|          | 0/2000 [00:00<?, ?it/s]"
      ]
     },
     "metadata": {},
     "output_type": "display_data"
    },
    {
     "name": "stdout",
     "output_type": "stream",
     "text": [
      "0.09165260082403684 None\n",
      "0.07539750297399157 None\n",
      "0.05662281965445076 None\n",
      "0.03985600188512654 None\n",
      "0.035705057763041406 None\n",
      "0.04341444883076493 None\n",
      "0.03575445081963768 None\n",
      "0.03944070833580192 None\n",
      "0.039383035891927154 None\n",
      "0.03543899690438678 None\n",
      "0.035479472175686665 None\n",
      "0.035454178490589974 None\n",
      "0.04338676328346848 None\n",
      "0.035464089806826526 None\n",
      "0.039724106788279416 None\n",
      "0.03546266098993873 None\n",
      "0.03938660715973992 None\n",
      "0.035434114683468375 None\n",
      "0.03940471571374229 None\n",
      "0.03569626034117294 None\n",
      "0.03939489657421658 None\n"
     ]
    },
    {
     "data": {
      "application/vnd.jupyter.widget-view+json": {
       "model_id": "1f99fcf4984e495190ce90e582d5c21c",
       "version_major": 2,
       "version_minor": 0
      },
      "text/plain": [
       "  0%|          | 0/2000 [00:00<?, ?it/s]"
      ]
     },
     "metadata": {},
     "output_type": "display_data"
    },
    {
     "name": "stdout",
     "output_type": "stream",
     "text": [
      "0.09418161972955369 None\n",
      "0.06551509347618138 None\n",
      "0.049741892648208344 None\n",
      "0.03258332534850678 None\n",
      "0.028171494701855496 None\n",
      "0.028394489630499925 None\n",
      "0.03206666677274434 None\n",
      "0.028163640643846466 None\n",
      "0.02839003313401977 None\n",
      "0.02816679110663525 None\n",
      "0.028199269501271447 None\n",
      "0.03590449623403712 None\n",
      "0.028369305639480938 None\n",
      "0.03208861266195474 None\n",
      "0.0322391846948297 None\n",
      "0.02836812861975201 None\n",
      "0.028172277961874378 None\n",
      "0.032073081465086486 None\n",
      "0.02839193528189496 None\n",
      "0.03217573421420507 None\n",
      "0.028383099874348387 None\n"
     ]
    },
    {
     "data": {
      "application/vnd.jupyter.widget-view+json": {
       "model_id": "7372ad8655ed4f80b5a0cf8d5e537d53",
       "version_major": 2,
       "version_minor": 0
      },
      "text/plain": [
       "  0%|          | 0/2000 [00:00<?, ?it/s]"
      ]
     },
     "metadata": {},
     "output_type": "display_data"
    },
    {
     "name": "stdout",
     "output_type": "stream",
     "text": [
      "0.08661033618957 None\n",
      "0.06519350284549542 None\n",
      "0.044590017328165484 None\n",
      "0.02773444544391283 None\n",
      "0.02757603519426249 None\n",
      "0.027577840525488485 None\n",
      "0.027614004270861716 None\n",
      "0.02759296261045979 None\n",
      "0.02758034424647334 None\n",
      "0.027607591295531374 None\n",
      "0.0276061129237285 None\n",
      "0.027564988956138355 None\n",
      "0.027579023665519287 None\n",
      "0.027556917721092596 None\n",
      "0.02758045295421428 None\n",
      "0.02756501375759606 None\n",
      "0.027625573806594007 None\n",
      "0.027579271983651985 None\n",
      "0.02757221859621652 None\n",
      "0.02757542639477988 None\n",
      "0.027573699597339702 None\n"
     ]
    },
    {
     "data": {
      "application/vnd.jupyter.widget-view+json": {
       "model_id": "b4ad2f8cec3f4036aad8fef39ff2f730",
       "version_major": 2,
       "version_minor": 0
      },
      "text/plain": [
       "  0%|          | 0/2000 [00:00<?, ?it/s]"
      ]
     },
     "metadata": {},
     "output_type": "display_data"
    },
    {
     "name": "stdout",
     "output_type": "stream",
     "text": [
      "0.08685745538771941 None\n",
      "0.06102538792196992 None\n",
      "0.03969179934111907 None\n",
      "0.0226279854328818 None\n",
      "0.022598913829705525 None\n",
      "0.026314988489627593 None\n",
      "0.026302431319294127 None\n",
      "0.02243241319565872 None\n",
      "0.02240178785264717 None\n",
      "0.022401233729617973 None\n",
      "0.022438276899353907 None\n",
      "0.022622971993798337 None\n",
      "0.02241171427711828 None\n",
      "0.022420185607830243 None\n",
      "0.02244973408023515 None\n",
      "0.02240956514859091 None\n",
      "0.02241757595392454 None\n",
      "0.026332647207670812 None\n",
      "0.022432340004907486 None\n",
      "0.022442563808949004 None\n",
      "0.022397580430074348 None\n"
     ]
    },
    {
     "data": {
      "application/vnd.jupyter.widget-view+json": {
       "model_id": "09e2e819a33a40258289045855a5090c",
       "version_major": 2,
       "version_minor": 0
      },
      "text/plain": [
       "  0%|          | 0/2000 [00:00<?, ?it/s]"
      ]
     },
     "metadata": {},
     "output_type": "display_data"
    },
    {
     "name": "stdout",
     "output_type": "stream",
     "text": [
      "0.08800299446397211 None\n",
      "0.06200654125703447 None\n",
      "0.04091858620526185 None\n",
      "0.022699849635669463 None\n",
      "0.022625794566503533 None\n",
      "0.02658461776943966 None\n",
      "0.02692491186572701 None\n",
      "0.026876912049853683 None\n",
      "0.026578495377999296 None\n",
      "0.022629119837382302 None\n",
      "0.022673330184154208 None\n",
      "0.02298546547763463 None\n",
      "0.026891860102360193 None\n",
      "0.026570659392005064 None\n",
      "0.022696697610355934 None\n",
      "0.022656667860534642 None\n",
      "0.022902771584512448 None\n",
      "0.02287829941036528 None\n",
      "0.022611913655563212 None\n",
      "0.02287413852936341 None\n",
      "0.022618725225263682 None\n"
     ]
    },
    {
     "data": {
      "application/vnd.jupyter.widget-view+json": {
       "model_id": "15bb68f74f794182821bfd337172dfcb",
       "version_major": 2,
       "version_minor": 0
      },
      "text/plain": [
       "  0%|          | 0/2000 [00:00<?, ?it/s]"
      ]
     },
     "metadata": {},
     "output_type": "display_data"
    },
    {
     "name": "stdout",
     "output_type": "stream",
     "text": [
      "0.0853569527749679 None\n",
      "0.059348031764828224 None\n",
      "0.04124654432929079 None\n",
      "0.01981893017849756 None\n",
      "0.019824534962240917 None\n",
      "0.019823351713542152 None\n",
      "0.023490044004920135 None\n",
      "0.019564554915835995 None\n",
      "0.019563017829561068 None\n",
      "0.019847798563660524 None\n",
      "0.023557727696998147 None\n",
      "0.019547860665870352 None\n",
      "0.019533059364497434 None\n",
      "0.019636807297955097 None\n",
      "0.019553400134061122 None\n",
      "0.019589156863194648 None\n",
      "0.019798053584785837 None\n",
      "0.01954179005770849 None\n",
      "0.023504507897520604 None\n",
      "0.01981275448189317 None\n",
      "0.019563455333587693 None\n"
     ]
    },
    {
     "data": {
      "application/vnd.jupyter.widget-view+json": {
       "model_id": "f37fbaad26e340a1b6bee26e7a1beb77",
       "version_major": 2,
       "version_minor": 0
      },
      "text/plain": [
       "  0%|          | 0/2000 [00:00<?, ?it/s]"
      ]
     },
     "metadata": {},
     "output_type": "display_data"
    },
    {
     "name": "stdout",
     "output_type": "stream",
     "text": [
      "0.08266035446871971 None\n",
      "0.06025704449320022 None\n",
      "0.04205883185954427 None\n",
      "0.020149321655300253 None\n",
      "0.019979468476397904 None\n",
      "0.01993290479592133 None\n",
      "0.019923525722609477 None\n",
      "0.023887344131176227 None\n",
      "0.023939823345732913 None\n",
      "0.01991512561779284 None\n",
      "0.01994771199090187 None\n",
      "0.020011123785536857 None\n",
      "0.023878855963511247 None\n",
      "0.019917918347807293 None\n",
      "0.020221887061894785 None\n",
      "0.023875878688265552 None\n",
      "0.020213689964187556 None\n",
      "0.019943852940401824 None\n",
      "0.020197191434997756 None\n",
      "0.02389807259360987 None\n",
      "0.019914484698861493 None\n"
     ]
    },
    {
     "data": {
      "application/vnd.jupyter.widget-view+json": {
       "model_id": "ba9d55ff456a4477ac9fca591637c4e5",
       "version_major": 2,
       "version_minor": 0
      },
      "text/plain": [
       "  0%|          | 0/2000 [00:00<?, ?it/s]"
      ]
     },
     "metadata": {},
     "output_type": "display_data"
    },
    {
     "name": "stdout",
     "output_type": "stream",
     "text": [
      "0.08507223738272157 None\n",
      "0.05856344227324813 None\n",
      "0.03683587774582125 None\n",
      "0.0193771396708858 None\n",
      "0.019493974887980294 None\n",
      "0.019214340760892443 None\n",
      "0.019223386890186173 None\n",
      "0.01925357654292053 None\n",
      "0.023168999653108348 None\n",
      "0.0194783986799817 None\n",
      "0.023177418223240057 None\n",
      "0.02319369795292909 None\n",
      "0.019233904229273787 None\n",
      "0.019279439322165807 None\n",
      "0.019506472541102028 None\n",
      "0.019211717745978536 None\n",
      "0.019253440807584694 None\n",
      "0.019485357847881128 None\n",
      "0.019214819275338427 None\n",
      "0.019240391039258672 None\n",
      "0.0231801941290885 None\n"
     ]
    },
    {
     "data": {
      "application/vnd.jupyter.widget-view+json": {
       "model_id": "d7739d6257004bb087886dfa5d8440cb",
       "version_major": 2,
       "version_minor": 0
      },
      "text/plain": [
       "  0%|          | 0/2000 [00:00<?, ?it/s]"
      ]
     },
     "metadata": {},
     "output_type": "display_data"
    },
    {
     "name": "stdout",
     "output_type": "stream",
     "text": [
      "0.08606402852317296 None\n",
      "0.05942840937738854 None\n",
      "0.03709286843614338 None\n",
      "0.017936016611372733 None\n",
      "0.017945638373911752 None\n",
      "0.01791269595010017 None\n",
      "0.02188331333709216 None\n",
      "0.01795017585109351 None\n",
      "0.01791679792503019 None\n",
      "0.021864915477394938 None\n",
      "0.01792423740026915 None\n",
      "0.01796770920438935 None\n",
      "0.0179602409627665 None\n",
      "0.021892945062778224 None\n",
      "0.021858382788164866 None\n",
      "0.021860956129044942 None\n",
      "0.017931940623237507 None\n",
      "0.018212538304962216 None\n",
      "0.017967837313644344 None\n",
      "0.017924206713606734 None\n",
      "0.01793727065450775 None\n"
     ]
    },
    {
     "data": {
      "application/vnd.jupyter.widget-view+json": {
       "model_id": "466fad8ee0944cd59670bf85e2a07dd1",
       "version_major": 2,
       "version_minor": 0
      },
      "text/plain": [
       "  0%|          | 0/2000 [00:00<?, ?it/s]"
      ]
     },
     "metadata": {},
     "output_type": "display_data"
    },
    {
     "name": "stdout",
     "output_type": "stream",
     "text": [
      "0.08136982256630776 None\n",
      "0.05857344712459964 None\n",
      "0.03610063596701392 None\n",
      "0.018257488329805442 None\n",
      "0.018104774201700334 None\n",
      "0.018024514684499345 None\n",
      "0.018051279782065707 None\n",
      "0.018030857697683558 None\n",
      "0.01802563034144089 None\n",
      "0.01805042354171248 None\n",
      "0.018092003677805238 None\n",
      "0.018063295193634872 None\n",
      "0.01802519955894599 None\n",
      "0.01806962508541522 None\n",
      "0.018038132103454337 None\n",
      "0.01807190321707214 None\n",
      "0.018031543627802796 None\n",
      "0.018058205004148592 None\n",
      "0.018024771438498875 None\n",
      "0.01806715640780582 None\n",
      "0.0180318085793152 None\n"
     ]
    },
    {
     "data": {
      "application/vnd.jupyter.widget-view+json": {
       "model_id": "f617ea7411ad45dcbf62ae397531abe0",
       "version_major": 2,
       "version_minor": 0
      },
      "text/plain": [
       "  0%|          | 0/2000 [00:00<?, ?it/s]"
      ]
     },
     "metadata": {},
     "output_type": "display_data"
    },
    {
     "name": "stdout",
     "output_type": "stream",
     "text": [
      "0.08032378761980136 None\n",
      "0.05740702325284701 None\n",
      "0.03487986558765667 None\n",
      "0.0200874761599087 None\n",
      "0.016020629310805178 None\n",
      "0.016017924771481395 None\n",
      "0.019989096185142934 None\n",
      "0.016015505436882915 None\n",
      "0.016046264293791062 None\n",
      "0.01605662650597331 None\n",
      "0.019983978637276693 None\n",
      "0.01603899851758109 None\n",
      "0.016048482011390804 None\n",
      "0.01604632862291908 None\n",
      "0.01602759012197267 None\n",
      "0.016015628944414786 None\n",
      "0.01604437911258159 None\n",
      "0.016019040999524205 None\n",
      "0.01999694344884983 None\n",
      "0.01605719841977147 None\n",
      "0.01603916792602778 None\n"
     ]
    },
    {
     "data": {
      "application/vnd.jupyter.widget-view+json": {
       "model_id": "41cbce526e384dd39f24b7ce42a5cc69",
       "version_major": 2,
       "version_minor": 0
      },
      "text/plain": [
       "  0%|          | 0/2000 [00:00<?, ?it/s]"
      ]
     },
     "metadata": {},
     "output_type": "display_data"
    },
    {
     "name": "stdout",
     "output_type": "stream",
     "text": [
      "0.07982125176348705 None\n",
      "0.0568780824094206 None\n",
      "0.03423919057182126 None\n",
      "0.01644234684843484 None\n",
      "0.016151511355372093 None\n",
      "0.016425423526359388 None\n",
      "0.016140273614819144 None\n",
      "0.016136990300821497 None\n",
      "0.020166723176405152 None\n",
      "0.020123995795816408 None\n",
      "0.016189687009168226 None\n",
      "0.01645151238009128 None\n",
      "0.016230271759369905 None\n",
      "0.020120361805504507 None\n",
      "0.01641617302456725 None\n",
      "0.01617258550168756 None\n",
      "0.016136289333611588 None\n",
      "0.016408601240200247 None\n",
      "0.016150165418067818 None\n",
      "0.020081662924222615 None\n",
      "0.02010576459378485 None\n",
      "Done!\n"
     ]
    }
   ],
   "source": [
    "distance_best, model_best = optimize_annulus_distance(spectrum_target = spectrum1, \n",
    "                                                      d = d, \n",
    "                                                      rank_start = 1, \n",
    "                                                      rank_step = 1,\n",
    "                                                      num_iter = 2000)\n",
    "\n",
    "model_best.optimizer = None\n",
    "saver([distance_best, model_best], data_path(\"diluted_fitting_4qubit_8layer.model\"))"
   ]
  },
  {
   "cell_type": "code",
   "execution_count": 57,
   "metadata": {},
   "outputs": [
    {
     "data": {
      "application/vnd.jupyter.widget-view+json": {
       "model_id": "40e0909c46a94f33ac3cbcac6d2fd401",
       "version_major": 2,
       "version_minor": 0
      },
      "text/plain": [
       "  0%|          | 0/2000 [00:00<?, ?it/s]"
      ]
     },
     "metadata": {},
     "output_type": "display_data"
    },
    {
     "name": "stdout",
     "output_type": "stream",
     "text": [
      "0.22495338925379235 None\n",
      "0.20592291881023472 None\n",
      "0.17939011477342898 None\n",
      "0.1573734219386585 None\n",
      "0.136064922073722 None\n",
      "0.11964866619940799 None\n",
      "0.09654669927268086 None\n",
      "0.07851703173199197 None\n",
      "0.06568223500730272 None\n",
      "0.050140277118375196 None\n",
      "0.04032028170352006 None\n",
      "0.03630860085017336 None\n",
      "0.04021022967868427 None\n",
      "0.03629672094697175 None\n",
      "0.036309394301381304 None\n",
      "0.04026547313117041 None\n",
      "0.044217205052159786 None\n",
      "0.040217734037054934 None\n",
      "0.03629887882969353 None\n",
      "0.04025293187235309 None\n",
      "0.04030593114461766 None\n"
     ]
    },
    {
     "data": {
      "application/vnd.jupyter.widget-view+json": {
       "model_id": "2fdfeacb72e64c7d8f0581319321386e",
       "version_major": 2,
       "version_minor": 0
      },
      "text/plain": [
       "  0%|          | 0/2000 [00:00<?, ?it/s]"
      ]
     },
     "metadata": {},
     "output_type": "display_data"
    },
    {
     "name": "stdout",
     "output_type": "stream",
     "text": [
      "0.2268853171640712 None\n",
      "0.20399710057174714 None\n",
      "0.18143608437148642 None\n",
      "0.15939381984345483 None\n",
      "0.13806559164728646 None\n",
      "0.12162355317000981 None\n",
      "0.1023274906573512 None\n",
      "0.08040400903853553 None\n",
      "0.06378773580322676 None\n",
      "0.048433834281983834 None\n",
      "0.036930033134527515 None\n",
      "0.03685794075527968 None\n",
      "0.036861679702227916 None\n",
      "0.0368374751409416 None\n",
      "0.03683403549282919 None\n",
      "0.0368342027290835 None\n",
      "0.0368336313852852 None\n",
      "0.0368540444508474 None\n",
      "0.0368470138480476 None\n",
      "0.03684732025736097 None\n",
      "0.036864013384083426 None\n"
     ]
    },
    {
     "data": {
      "application/vnd.jupyter.widget-view+json": {
       "model_id": "609a53f4c7ea406995b42533407ab56f",
       "version_major": 2,
       "version_minor": 0
      },
      "text/plain": [
       "  0%|          | 0/2000 [00:00<?, ?it/s]"
      ]
     },
     "metadata": {},
     "output_type": "display_data"
    },
    {
     "name": "stdout",
     "output_type": "stream",
     "text": [
      "0.22503569584461208 None\n",
      "0.20598266740213053 None\n",
      "0.17946849535824713 None\n",
      "0.16132442233371447 None\n",
      "0.13989864536254487 None\n",
      "0.11535952395674094 None\n",
      "0.09983750467480339 None\n",
      "0.07756414505922739 None\n",
      "0.06485681059652798 None\n",
      "0.04566093230662733 None\n",
      "0.03597799576287408 None\n",
      "0.03599617981567301 None\n",
      "0.039931649201563994 None\n",
      "0.03596458920743151 None\n",
      "0.035979474687773315 None\n",
      "0.03595878457811871 None\n",
      "0.03992436881004202 None\n",
      "0.03595546524416707 None\n",
      "0.03992067068112597 None\n",
      "0.0399049425538989 None\n",
      "0.03601037878360426 None\n"
     ]
    },
    {
     "data": {
      "application/vnd.jupyter.widget-view+json": {
       "model_id": "7dfb62f7275f47bab8a5b6f6536ed346",
       "version_major": 2,
       "version_minor": 0
      },
      "text/plain": [
       "  0%|          | 0/2000 [00:00<?, ?it/s]"
      ]
     },
     "metadata": {},
     "output_type": "display_data"
    },
    {
     "name": "stdout",
     "output_type": "stream",
     "text": [
      "0.2256539502081373 None\n",
      "0.20259282357158573 None\n",
      "0.17977689738157773 None\n",
      "0.15741128241180577 None\n",
      "0.13967964673621502 None\n",
      "0.11900500496129314 None\n",
      "0.09541870114525292 None\n",
      "0.07679285300866612 None\n",
      "0.06337781862003758 None\n",
      "0.043482911653686694 None\n",
      "0.033227730212697246 None\n",
      "0.03320257979906937 None\n",
      "0.03713580082985201 None\n",
      "0.033199303730979096 None\n",
      "0.03713271348583929 None\n",
      "0.037123873896245316 None\n",
      "0.03713676597912809 None\n",
      "0.03318179341397537 None\n",
      "0.03318515622391901 None\n",
      "0.03711564605053393 None\n",
      "0.03715354183653721 None\n"
     ]
    },
    {
     "data": {
      "application/vnd.jupyter.widget-view+json": {
       "model_id": "13fc56659688487c95d5201da700aed1",
       "version_major": 2,
       "version_minor": 0
      },
      "text/plain": [
       "  0%|          | 0/2000 [00:00<?, ?it/s]"
      ]
     },
     "metadata": {},
     "output_type": "display_data"
    },
    {
     "name": "stdout",
     "output_type": "stream",
     "text": [
      "0.22474089161716557 None\n",
      "0.20165830392655879 None\n",
      "0.1788671643077602 None\n",
      "0.15653476582107573 None\n",
      "0.13498425970142358 None\n",
      "0.11437671897281124 None\n",
      "0.09871914702659747 None\n",
      "0.07623043874716921 None\n",
      "0.0628826047019424 None\n",
      "0.04310831336025709 None\n",
      "0.03704011958104126 None\n",
      "0.03700594242020562 None\n",
      "0.03309447970896812 None\n",
      "0.033045893850181876 None\n",
      "0.03699523326328252 None\n",
      "0.03699451499326027 None\n",
      "0.03305749970973098 None\n",
      "0.03702362679087937 None\n",
      "0.03304656707663273 None\n",
      "0.03699993659066446 None\n",
      "0.036974122617616755 None\n"
     ]
    },
    {
     "data": {
      "application/vnd.jupyter.widget-view+json": {
       "model_id": "9e7823354a104644ad1032de820d0894",
       "version_major": 2,
       "version_minor": 0
      },
      "text/plain": [
       "  0%|          | 0/2000 [00:00<?, ?it/s]"
      ]
     },
     "metadata": {},
     "output_type": "display_data"
    },
    {
     "name": "stdout",
     "output_type": "stream",
     "text": [
      "0.2289908791480798 None\n",
      "0.20199763218886638 None\n",
      "0.17921091466624614 None\n",
      "0.16084212608621495 None\n",
      "0.13522319041854008 None\n",
      "0.11836750377427284 None\n",
      "0.09857373784003132 None\n",
      "0.07990877055425984 None\n",
      "0.06244363408830408 None\n",
      "0.04222503784957308 None\n",
      "0.036157367211804445 None\n",
      "0.036030604094970956 None\n",
      "0.03208492865714645 None\n",
      "0.04005137703677311 None\n",
      "0.03606915873852775 None\n",
      "0.0360613304480903 None\n",
      "0.0400749919657455 None\n",
      "0.036046264085851 None\n",
      "0.036026633409423345 None\n",
      "0.032090329614824144 None\n",
      "0.036041575311523785 None\n"
     ]
    },
    {
     "data": {
      "application/vnd.jupyter.widget-view+json": {
       "model_id": "49aca04c9a594c8795587ccadf4f1127",
       "version_major": 2,
       "version_minor": 0
      },
      "text/plain": [
       "  0%|          | 0/2000 [00:00<?, ?it/s]"
      ]
     },
     "metadata": {},
     "output_type": "display_data"
    },
    {
     "name": "stdout",
     "output_type": "stream",
     "text": [
      "0.2251700619734218 None\n",
      "0.20604270705350794 None\n",
      "0.18321803716278118 None\n",
      "0.16099335399335019 None\n",
      "0.1355008253611682 None\n",
      "0.11470616784930804 None\n",
      "0.09482023744313434 None\n",
      "0.07591332032492475 None\n",
      "0.06194147046318857 None\n",
      "0.04578539341733115 None\n",
      "0.03264932221605353 None\n",
      "0.032656361097427894 None\n",
      "0.032644716114190196 None\n",
      "0.036597472227399626 None\n",
      "0.03264614383352671 None\n",
      "0.032645832358768306 None\n",
      "0.03264281117538135 None\n",
      "0.03264733836403127 None\n",
      "0.03269698607432428 None\n",
      "0.032664392942433326 None\n",
      "0.032659057128462066 None\n"
     ]
    },
    {
     "data": {
      "application/vnd.jupyter.widget-view+json": {
       "model_id": "f7cec936c9f04c83a97fa3dc301e4e47",
       "version_major": 2,
       "version_minor": 0
      },
      "text/plain": [
       "  0%|          | 0/2000 [00:00<?, ?it/s]"
      ]
     },
     "metadata": {},
     "output_type": "display_data"
    },
    {
     "name": "stdout",
     "output_type": "stream",
     "text": [
      "0.22926140632009967 None\n",
      "0.20224860081421536 None\n",
      "0.1794013821194206 None\n",
      "0.15704532864421428 None\n",
      "0.13537201662752998 None\n",
      "0.11448672379171716 None\n",
      "0.09451315039649735 None\n",
      "0.07551938127677757 None\n",
      "0.05758412494175695 None\n",
      "0.04083304181703469 None\n",
      "0.035731714041591124 None\n",
      "0.03566970941363467 None\n",
      "0.03574387376706437 None\n",
      "0.031728022251703736 None\n",
      "0.03175316084835598 None\n",
      "0.03566600442255204 None\n",
      "0.03565500211062086 None\n",
      "0.03173737294867604 None\n",
      "0.03567192752180292 None\n",
      "0.03567111862333116 None\n",
      "0.03565629985041485 None\n"
     ]
    },
    {
     "data": {
      "application/vnd.jupyter.widget-view+json": {
       "model_id": "65db4a88964e46928234c95ef00b02f1",
       "version_major": 2,
       "version_minor": 0
      },
      "text/plain": [
       "  0%|          | 0/2000 [00:00<?, ?it/s]"
      ]
     },
     "metadata": {},
     "output_type": "display_data"
    },
    {
     "name": "stdout",
     "output_type": "stream",
     "text": [
      "0.2250746378728457 None\n",
      "0.2019510863658441 None\n",
      "0.17904538277994048 None\n",
      "0.15655053546586162 None\n",
      "0.13468992740711772 None\n",
      "0.11364390116333731 None\n",
      "0.0935212919151603 None\n",
      "0.07439138120959078 None\n",
      "0.05643642898768477 None\n",
      "0.03963913315757133 None\n",
      "0.03529005314535409 None\n",
      "0.035226597208684665 None\n",
      "0.03916132738820293 None\n",
      "0.031256392886886475 None\n",
      "0.031256068993637365 None\n",
      "0.0312659226601944 None\n",
      "0.03516543744716672 None\n",
      "0.03517774234181919 None\n",
      "0.03520476938097892 None\n",
      "0.031299391687512154 None\n",
      "0.03130389468504964 None\n"
     ]
    },
    {
     "data": {
      "application/vnd.jupyter.widget-view+json": {
       "model_id": "c927fe5513114071925301876da42669",
       "version_major": 2,
       "version_minor": 0
      },
      "text/plain": [
       "  0%|          | 0/2000 [00:00<?, ?it/s]"
      ]
     },
     "metadata": {},
     "output_type": "display_data"
    },
    {
     "name": "stdout",
     "output_type": "stream",
     "text": [
      "0.22417374582383912 None\n",
      "0.20101237780088638 None\n",
      "0.17806251206480067 None\n",
      "0.1555059454962277 None\n",
      "0.13352685285416185 None\n",
      "0.11643282405430323 None\n",
      "0.09235940519199712 None\n",
      "0.07720320697030217 None\n",
      "0.059048512178309406 None\n",
      "0.03811320679542142 None\n",
      "0.02932919441788309 None\n",
      "0.029339777969137955 None\n",
      "0.02933363929237526 None\n",
      "0.029342375941958203 None\n",
      "0.029318465857474878 None\n",
      "0.02934943524413568 None\n",
      "0.029435120725813547 None\n",
      "0.029359959267704062 None\n",
      "0.02932260841640444 None\n",
      "0.029420515686272596 None\n",
      "0.02932473275902851 None\n"
     ]
    },
    {
     "data": {
      "application/vnd.jupyter.widget-view+json": {
       "model_id": "2e5d71b05e2c4a1393ba557847d35b2d",
       "version_major": 2,
       "version_minor": 0
      },
      "text/plain": [
       "  0%|          | 0/2000 [00:00<?, ?it/s]"
      ]
     },
     "metadata": {},
     "output_type": "display_data"
    },
    {
     "name": "stdout",
     "output_type": "stream",
     "text": [
      "0.2245252529399885 None\n",
      "0.20134750243887006 None\n",
      "0.1784143973604095 None\n",
      "0.1559038978931286 None\n",
      "0.1339919386934055 None\n",
      "0.11293646639484693 None\n",
      "0.09278691340908365 None\n",
      "0.07760556296054605 None\n",
      "0.05566411309754934 None\n",
      "0.03892117255724433 None\n",
      "0.03441566824196974 None\n",
      "0.03439530946330886 None\n",
      "0.03438627956375046 None\n",
      "0.03046776705828532 None\n",
      "0.0304599672269053 None\n",
      "0.030483871215325527 None\n",
      "0.03046618807195068 None\n",
      "0.030460533404443067 None\n",
      "0.0344089240581975 None\n",
      "0.030465599101836313 None\n",
      "0.03051174168119342 None\n",
      "Done!\n"
     ]
    }
   ],
   "source": [
    "[distance_best, model_best] = loader(data_path(\"diluted_fitting_4qubit_8layer.model\"))\n",
    "rank_start = model_best.channel.rank\n",
    "\n",
    "distance_best, model_best = optimize_annulus_distance(spectrum_target = spectrum2, \n",
    "                                                      d = d, \n",
    "                                                      rank_start = rank_start, \n",
    "                                                      rank_step = 1,\n",
    "                                                      num_iter = 2000)\n",
    "\n",
    "model_best.optimizer = None\n",
    "saver([distance_best, model_best], data_path(\"diluted_fitting_4qubit_16layer.model\"))"
   ]
  },
  {
   "cell_type": "code",
   "execution_count": 58,
   "metadata": {},
   "outputs": [
    {
     "data": {
      "application/vnd.jupyter.widget-view+json": {
       "model_id": "f5a6574736434f978d7b6baecc6b8790",
       "version_major": 2,
       "version_minor": 0
      },
      "text/plain": [
       "  0%|          | 0/2000 [00:00<?, ?it/s]"
      ]
     },
     "metadata": {},
     "output_type": "display_data"
    },
    {
     "name": "stdout",
     "output_type": "stream",
     "text": [
      "0.34522338875503794 None\n",
      "0.32212897969342263 None\n",
      "0.2992728084816191 None\n",
      "0.27683985942128303 None\n",
      "0.25500983394038784 None\n",
      "0.23400498035396708 None\n",
      "0.2178835036358735 None\n",
      "0.19511849730595623 None\n",
      "0.18126824002677247 None\n",
      "0.1645409424318744 None\n",
      "0.1494530129340183 None\n",
      "0.13539211416465977 None\n",
      "0.12273039155766909 None\n",
      "0.11173843972770817 None\n",
      "0.09790395198932274 None\n",
      "0.09671884248208724 None\n",
      "0.0853814741063227 None\n",
      "0.08254087736273824 None\n",
      "0.0761964804122462 None\n",
      "0.06678643042802705 None\n",
      "0.058328831776440195 None\n"
     ]
    },
    {
     "data": {
      "application/vnd.jupyter.widget-view+json": {
       "model_id": "5285440164aa4384aa617d0af186232c",
       "version_major": 2,
       "version_minor": 0
      },
      "text/plain": [
       "  0%|          | 0/2000 [00:00<?, ?it/s]"
      ]
     },
     "metadata": {},
     "output_type": "display_data"
    },
    {
     "name": "stdout",
     "output_type": "stream",
     "text": [
      "0.3440000704865079 None\n",
      "0.3208596819617661 None\n",
      "0.2979494187371577 None\n",
      "0.2754768138065374 None\n",
      "0.2536331056652528 None\n",
      "0.23255692840561407 None\n",
      "0.2160859194721695 None\n",
      "0.19710592742829672 None\n",
      "0.17891288832433883 None\n",
      "0.16214561997830804 None\n",
      "0.15454863340450906 None\n",
      "0.13281195959836306 None\n",
      "0.1240790579695324 None\n",
      "0.10493239932608624 None\n",
      "0.09830800304084672 None\n",
      "0.08521836626760618 None\n",
      "0.08086051029376377 None\n",
      "0.07355267196992288 None\n",
      "0.06369619237405924 None\n",
      "0.06326627434231716 None\n",
      "0.06079708754702594 None\n"
     ]
    },
    {
     "data": {
      "application/vnd.jupyter.widget-view+json": {
       "model_id": "6fd45058ae2040a09daccae108b24072",
       "version_major": 2,
       "version_minor": 0
      },
      "text/plain": [
       "  0%|          | 0/2000 [00:00<?, ?it/s]"
      ]
     },
     "metadata": {},
     "output_type": "display_data"
    },
    {
     "name": "stdout",
     "output_type": "stream",
     "text": [
      "0.3422207901372504 None\n",
      "0.322730184747563 None\n",
      "0.2997916682279537 None\n",
      "0.27744517972311156 None\n",
      "0.25159912767439085 None\n",
      "0.2304051577571365 None\n",
      "0.2101253924120766 None\n",
      "0.1909047338578037 None\n",
      "0.17279012557700837 None\n",
      "0.15577082409862283 None\n",
      "0.13990299084484553 None\n",
      "0.12908345801735938 None\n",
      "0.11584475808665685 None\n",
      "0.10018913545440088 None\n",
      "0.08970847156059152 None\n",
      "0.08028600217921437 None\n",
      "0.07213489352736838 None\n",
      "0.06898630858230219 None\n",
      "0.059503407455450665 None\n",
      "0.05360803948594324 None\n",
      "0.055625320851710264 None\n"
     ]
    },
    {
     "data": {
      "application/vnd.jupyter.widget-view+json": {
       "model_id": "e8f784b79afe4486bc52c2f874345bc8",
       "version_major": 2,
       "version_minor": 0
      },
      "text/plain": [
       "  0%|          | 0/2000 [00:00<?, ?it/s]"
      ]
     },
     "metadata": {},
     "output_type": "display_data"
    },
    {
     "name": "stdout",
     "output_type": "stream",
     "text": [
      "0.34321351674416856 None\n",
      "0.32002113444832553 None\n",
      "0.29706076634317125 None\n",
      "0.2745356272270154 None\n",
      "0.2526005777356702 None\n",
      "0.23145950269846063 None\n",
      "0.21130829871070012 None\n",
      "0.19219327953669252 None\n",
      "0.17417441377291965 None\n",
      "0.15738334935452444 None\n",
      "0.14174085863295768 None\n",
      "0.13110586503595847 None\n",
      "0.11422852574964934 None\n",
      "0.10219419036773619 None\n",
      "0.09538835142368185 None\n",
      "0.0856854598590469 None\n",
      "0.07329278134387164 None\n",
      "0.06595698553238281 None\n",
      "0.06343827754054199 None\n",
      "0.06206956648610086 None\n",
      "0.06044825900700968 None\n"
     ]
    },
    {
     "data": {
      "application/vnd.jupyter.widget-view+json": {
       "model_id": "81b5b61f3c834084a2160904623b84ef",
       "version_major": 2,
       "version_minor": 0
      },
      "text/plain": [
       "  0%|          | 0/2000 [00:00<?, ?it/s]"
      ]
     },
     "metadata": {},
     "output_type": "display_data"
    },
    {
     "name": "stdout",
     "output_type": "stream",
     "text": [
      "0.343102198536908 None\n",
      "0.31997396615896306 None\n",
      "0.2970781162934043 None\n",
      "0.27461117693599896 None\n",
      "0.2527341252776529 None\n",
      "0.231644714771553 None\n",
      "0.21144923189061293 None\n",
      "0.1922414620864153 None\n",
      "0.17411765484773126 None\n",
      "0.15720083808606064 None\n",
      "0.14141158244276225 None\n",
      "0.13427212043512007 None\n",
      "0.11704513915373639 None\n",
      "0.10838155362520437 None\n",
      "0.09358782945234813 None\n",
      "0.0837223753348557 None\n",
      "0.07498832707983301 None\n",
      "0.06724829091359713 None\n",
      "0.06055654115122814 None\n",
      "0.05469568700132827 None\n",
      "0.05422547702542317 None\n"
     ]
    },
    {
     "data": {
      "application/vnd.jupyter.widget-view+json": {
       "model_id": "a86cb2af789d4fdda45725c4688c7175",
       "version_major": 2,
       "version_minor": 0
      },
      "text/plain": [
       "  0%|          | 0/2000 [00:00<?, ?it/s]"
      ]
     },
     "metadata": {},
     "output_type": "display_data"
    },
    {
     "name": "stdout",
     "output_type": "stream",
     "text": [
      "0.34719286149993167 None\n",
      "0.324015580316598 None\n",
      "0.30104871724046134 None\n",
      "0.27868850101426373 None\n",
      "0.2528519293299783 None\n",
      "0.2316385849252494 None\n",
      "0.2113043149590487 None\n",
      "0.19585606998233926 None\n",
      "0.1737520910191381 None\n",
      "0.15676291838489284 None\n",
      "0.140979886087016 None\n",
      "0.1299913563071969 None\n",
      "0.11263736545934667 None\n",
      "0.10030074485796843 None\n",
      "0.08905755581533528 None\n",
      "0.0791114426474784 None\n",
      "0.07041612610591266 None\n",
      "0.0667255510674275 None\n",
      "0.06445417555875534 None\n",
      "0.050793241257077265 None\n",
      "0.0582224575265608 None\n"
     ]
    },
    {
     "data": {
      "application/vnd.jupyter.widget-view+json": {
       "model_id": "d10a4348924c42fd998c28320c93e36f",
       "version_major": 2,
       "version_minor": 0
      },
      "text/plain": [
       "  0%|          | 0/2000 [00:00<?, ?it/s]"
      ]
     },
     "metadata": {},
     "output_type": "display_data"
    },
    {
     "name": "stdout",
     "output_type": "stream",
     "text": [
      "0.345904650608911 None\n",
      "0.3224821020255033 None\n",
      "0.29947221015672626 None\n",
      "0.27685915079816054 None\n",
      "0.25110338719636427 None\n",
      "0.22979671376223937 None\n",
      "0.21308693081468713 None\n",
      "0.19366347460909356 None\n",
      "0.17529496972832848 None\n",
      "0.15433054605455215 None\n",
      "0.14190792884818623 None\n",
      "0.12719114450991276 None\n",
      "0.11328338119617047 None\n",
      "0.09691449878754138 None\n",
      "0.08542739848822235 None\n",
      "0.07608325856067565 None\n",
      "0.067679116887546 None\n",
      "0.060042326308024606 None\n",
      "0.05746950085605528 None\n",
      "0.04811607412975298 None\n",
      "0.05206256252697154 None\n"
     ]
    },
    {
     "data": {
      "application/vnd.jupyter.widget-view+json": {
       "model_id": "77c09d5995b549cf9e526dbf03efadf1",
       "version_major": 2,
       "version_minor": 0
      },
      "text/plain": [
       "  0%|          | 0/2000 [00:00<?, ?it/s]"
      ]
     },
     "metadata": {},
     "output_type": "display_data"
    },
    {
     "name": "stdout",
     "output_type": "stream",
     "text": [
      "0.34225602954444984 None\n",
      "0.3190753258390167 None\n",
      "0.29612744411291325 None\n",
      "0.27360614153361507 None\n",
      "0.2516899275366446 None\n",
      "0.23055616231397988 None\n",
      "0.21026749419176638 None\n",
      "0.19470525638334765 None\n",
      "0.1765019090650759 None\n",
      "0.15570372524637885 None\n",
      "0.14365388162341805 None\n",
      "0.1289401902720635 None\n",
      "0.11163382868583399 None\n",
      "0.10312732242703086 None\n",
      "0.0922622176294622 None\n",
      "0.08610471331435887 None\n",
      "0.06993071313638034 None\n",
      "0.06283188291927715 None\n",
      "0.05653426321715595 None\n",
      "0.05930465501833346 None\n",
      "0.05923185705520085 None\n"
     ]
    },
    {
     "data": {
      "application/vnd.jupyter.widget-view+json": {
       "model_id": "f591156535cd4795855bf465a1dc47af",
       "version_major": 2,
       "version_minor": 0
      },
      "text/plain": [
       "  0%|          | 0/2000 [00:00<?, ?it/s]"
      ]
     },
     "metadata": {},
     "output_type": "display_data"
    },
    {
     "name": "stdout",
     "output_type": "stream",
     "text": [
      "0.34313570764459245 None\n",
      "0.3238349314944129 None\n",
      "0.3008624979204487 None\n",
      "0.2781146776039342 None\n",
      "0.25244713389336904 None\n",
      "0.23126342367352418 None\n",
      "0.2109802218408208 None\n",
      "0.19164514815053244 None\n",
      "0.17702189687375894 None\n",
      "0.16002027916634748 None\n",
      "0.1400924364100001 None\n",
      "0.12884210525080675 None\n",
      "0.11530312026272584 None\n",
      "0.10264378805523822 None\n",
      "0.09114856780849989 None\n",
      "0.08079537625383479 None\n",
      "0.06794622095269406 None\n",
      "0.06377403838824497 None\n",
      "0.05699501975162755 None\n",
      "0.052484795180429 None\n",
      "0.05247758106519796 None\n",
      "Done!\n"
     ]
    }
   ],
   "source": [
    "[distance_best, model_best] = loader(data_path(\"diluted_fitting_4qubit_16layer.model\"))\n",
    "rank_start = model_best.channel.rank\n",
    "\n",
    "distance_best, model_best = optimize_annulus_distance(spectrum_target = spectrum3, \n",
    "                                                      d = d, \n",
    "                                                      rank_start = rank_start, \n",
    "                                                      rank_step = 1,\n",
    "                                                      num_iter = 2000)\n",
    "\n",
    "model_best.optimizer = None\n",
    "saver([distance_best, model_best], data_path(\"diluted_fitting_4qubit_24layer.model\"))"
   ]
  },
  {
   "cell_type": "code",
   "execution_count": 59,
   "metadata": {},
   "outputs": [
    {
     "data": {
      "application/vnd.jupyter.widget-view+json": {
       "model_id": "3b568573d1dd41199b87ea4529dd36e9",
       "version_major": 2,
       "version_minor": 0
      },
      "text/plain": [
       "  0%|          | 0/2000 [00:00<?, ?it/s]"
      ]
     },
     "metadata": {},
     "output_type": "display_data"
    },
    {
     "name": "stdout",
     "output_type": "stream",
     "text": [
      "0.40793744070169036 None\n",
      "0.3848022357788403 None\n",
      "0.36189851444793036 None\n",
      "0.3394109718346353 None\n",
      "0.317460224094706 None\n",
      "0.29618913822002774 None\n",
      "0.27582464542645735 None\n",
      "0.256454887099798 None\n",
      "0.23809747013756044 None\n",
      "0.22082017132890866 None\n",
      "0.2047192756694338 None\n",
      "0.18989249328612492 None\n",
      "0.176319246763437 None\n",
      "0.16394648359844488 None\n",
      "0.15267130835184864 None\n",
      "0.14251134076490107 None\n",
      "0.13348113594368055 None\n",
      "0.12551886378834604 None\n",
      "0.11884985179565843 None\n",
      "0.11329617900946445 None\n",
      "0.1079855741152636 None\n"
     ]
    },
    {
     "data": {
      "application/vnd.jupyter.widget-view+json": {
       "model_id": "0f051f81097247fb84b431421677b033",
       "version_major": 2,
       "version_minor": 0
      },
      "text/plain": [
       "  0%|          | 0/2000 [00:00<?, ?it/s]"
      ]
     },
     "metadata": {},
     "output_type": "display_data"
    },
    {
     "name": "stdout",
     "output_type": "stream",
     "text": [
      "0.4071467183598084 None\n",
      "0.383969075037464 None\n",
      "0.36102255645048376 None\n",
      "0.33850134048052544 None\n",
      "0.3204730884203261 None\n",
      "0.29927781813227217 None\n",
      "0.2759354790690611 None\n",
      "0.2557325079951979 None\n",
      "0.23834126634231212 None\n",
      "0.22035188307682052 None\n",
      "0.20446498572532665 None\n",
      "0.19366178790620076 None\n",
      "0.18021409458181883 None\n",
      "0.1641642013291556 None\n",
      "0.15316054007677224 None\n",
      "0.1509322417776439 None\n",
      "0.1383645107314923 None\n",
      "0.13430676387314144 None\n",
      "0.11990423966943788 None\n",
      "0.1145988027175991 None\n",
      "0.10835439237620467 None\n"
     ]
    },
    {
     "data": {
      "application/vnd.jupyter.widget-view+json": {
       "model_id": "9e2c4b0982ce465a9f21336aa463efdd",
       "version_major": 2,
       "version_minor": 0
      },
      "text/plain": [
       "  0%|          | 0/2000 [00:00<?, ?it/s]"
      ]
     },
     "metadata": {},
     "output_type": "display_data"
    },
    {
     "name": "stdout",
     "output_type": "stream",
     "text": [
      "0.4091589120981324 None\n",
      "0.3868597195192775 None\n",
      "0.3630212839136971 None\n",
      "0.3404547087264847 None\n",
      "0.3193489942788939 None\n",
      "0.29726935649487307 None\n",
      "0.28083351818454394 None\n",
      "0.26146000459092444 None\n",
      "0.24310952095413835 None\n",
      "0.22203736803475446 None\n",
      "0.2099536532738017 None\n",
      "0.19129422408189745 None\n",
      "0.17768695114734012 None\n",
      "0.1652651708961571 None\n",
      "0.1578251442239589 None\n",
      "0.1514487223685897 None\n",
      "0.13847510974254576 None\n",
      "0.12657521334691463 None\n",
      "0.12332379161416954 None\n",
      "0.11424204701400505 None\n",
      "0.10795900742916294 None\n"
     ]
    },
    {
     "data": {
      "application/vnd.jupyter.widget-view+json": {
       "model_id": "06deabb441534618b20d96046da99e70",
       "version_major": 2,
       "version_minor": 0
      },
      "text/plain": [
       "  0%|          | 0/2000 [00:00<?, ?it/s]"
      ]
     },
     "metadata": {},
     "output_type": "display_data"
    },
    {
     "name": "stdout",
     "output_type": "stream",
     "text": [
      "0.4065711299319316 None\n",
      "0.3834224151275057 None\n",
      "0.36049294657173514 None\n",
      "0.33797586840877747 None\n",
      "0.31605949800741884 None\n",
      "0.2948876001853748 None\n",
      "0.2746192776826558 None\n",
      "0.25533085841051056 None\n",
      "0.23713815467017144 None\n",
      "0.2208646921412958 None\n",
      "0.20400692706737958 None\n",
      "0.19317782671946698 None\n",
      "0.17577831586266413 None\n",
      "0.16339534955490898 None\n",
      "0.15293239508221368 None\n",
      "0.14952117392562783 None\n",
      "0.13335685859479657 None\n",
      "0.12523701045560082 None\n",
      "0.11820237132870362 None\n",
      "0.11185595728486178 None\n",
      "0.1056144162482399 None\n"
     ]
    },
    {
     "data": {
      "application/vnd.jupyter.widget-view+json": {
       "model_id": "d8e351e21a704e04bfe58c7c765235f8",
       "version_major": 2,
       "version_minor": 0
      },
      "text/plain": [
       "  0%|          | 0/2000 [00:00<?, ?it/s]"
      ]
     },
     "metadata": {},
     "output_type": "display_data"
    },
    {
     "name": "stdout",
     "output_type": "stream",
     "text": [
      "0.40830008593016204 None\n",
      "0.3851116897668538 None\n",
      "0.36214372834515685 None\n",
      "0.3395892411971416 None\n",
      "0.3176101935651309 None\n",
      "0.29636386649801993 None\n",
      "0.27596098776177547 None\n",
      "0.25648820097849784 None\n",
      "0.23802392689266003 None\n",
      "0.22068768901337182 None\n",
      "0.2045458416104369 None\n",
      "0.1896766323786403 None\n",
      "0.17583940144338542 None\n",
      "0.16299290057382948 None\n",
      "0.155955370807374 None\n",
      "0.14061774282214526 None\n",
      "0.1312059588445196 None\n",
      "0.12371758291159833 None\n",
      "0.11567831811730463 None\n",
      "0.11324465917164535 None\n",
      "0.10455361642505001 None\n"
     ]
    },
    {
     "data": {
      "application/vnd.jupyter.widget-view+json": {
       "model_id": "3fc938ef4e424758a6c6cb58446cffa8",
       "version_major": 2,
       "version_minor": 0
      },
      "text/plain": [
       "  0%|          | 0/2000 [00:00<?, ?it/s]"
      ]
     },
     "metadata": {},
     "output_type": "display_data"
    },
    {
     "name": "stdout",
     "output_type": "stream",
     "text": [
      "0.4088094734572966 None\n",
      "0.3856082055046681 None\n",
      "0.3626184891137986 None\n",
      "0.34003218638866045 None\n",
      "0.318040956683106 None\n",
      "0.3006679245152009 None\n",
      "0.2840576781455828 None\n",
      "0.2568521176352087 None\n",
      "0.23930782039855203 None\n",
      "0.22199273879676232 None\n",
      "0.2050160358301488 None\n",
      "0.19012201667031642 None\n",
      "0.17637021870996827 None\n",
      "0.16377138770929003 None\n",
      "0.1570003314033336 None\n",
      "0.1427124915150574 None\n",
      "0.1363625542592929 None\n",
      "0.12810731720544424 None\n",
      "0.11696506671983047 None\n",
      "0.11069231465131033 None\n",
      "0.10519779038046964 None\n"
     ]
    },
    {
     "data": {
      "application/vnd.jupyter.widget-view+json": {
       "model_id": "148ef1a37d1249b99ea580752426cfed",
       "version_major": 2,
       "version_minor": 0
      },
      "text/plain": [
       "  0%|          | 0/2000 [00:00<?, ?it/s]"
      ]
     },
     "metadata": {},
     "output_type": "display_data"
    },
    {
     "name": "stdout",
     "output_type": "stream",
     "text": [
      "0.40714279552993937 None\n",
      "0.3839344606856687 None\n",
      "0.36093046024307746 None\n",
      "0.33831890300026785 None\n",
      "0.3162754139117151 None\n",
      "0.2950001878541118 None\n",
      "0.27847214186539093 None\n",
      "0.25509845889466787 None\n",
      "0.236691843960138 None\n",
      "0.2194155030593893 None\n",
      "0.20415065566317114 None\n",
      "0.1882566673628162 None\n",
      "0.17527847310213726 None\n",
      "0.16172078322917735 None\n",
      "0.1502022229267865 None\n",
      "0.1408161010219375 None\n",
      "0.13459344461639175 None\n",
      "0.1265369469105878 None\n",
      "0.11656257799534259 None\n",
      "0.10897904966428902 None\n",
      "0.10340301546359705 None\n"
     ]
    },
    {
     "data": {
      "application/vnd.jupyter.widget-view+json": {
       "model_id": "9b12cee6b7634779b8c893c628e8dc1f",
       "version_major": 2,
       "version_minor": 0
      },
      "text/plain": [
       "  0%|          | 0/2000 [00:00<?, ?it/s]"
      ]
     },
     "metadata": {},
     "output_type": "display_data"
    },
    {
     "name": "stdout",
     "output_type": "stream",
     "text": [
      "0.4077988094827336 None\n",
      "0.388451544468515 None\n",
      "0.36152249018448673 None\n",
      "0.33977094817623504 None\n",
      "0.3168633290687623 None\n",
      "0.29559179277892494 None\n",
      "0.27515994928025245 None\n",
      "0.2595371811897537 None\n",
      "0.2410505999439472 None\n",
      "0.2197612963020665 None\n",
      "0.20817284608067443 None\n",
      "0.18830230722568306 None\n",
      "0.17431044850524272 None\n",
      "0.16154840480396096 None\n",
      "0.1546460418574091 None\n",
      "0.14019374708382093 None\n",
      "0.13044878127371395 None\n",
      "0.1208512927104043 None\n",
      "0.11300288637408838 None\n",
      "0.10691609617841764 None\n",
      "0.10427826939430136 None\n"
     ]
    },
    {
     "data": {
      "application/vnd.jupyter.widget-view+json": {
       "model_id": "3f4dbd9ae67e440d9a7b46f521ae4686",
       "version_major": 2,
       "version_minor": 0
      },
      "text/plain": [
       "  0%|          | 0/2000 [00:00<?, ?it/s]"
      ]
     },
     "metadata": {},
     "output_type": "display_data"
    },
    {
     "name": "stdout",
     "output_type": "stream",
     "text": [
      "0.4077898653865925 None\n",
      "0.38455348705351033 None\n",
      "0.3615394498608046 None\n",
      "0.33892071135104085 None\n",
      "0.31686059601961664 None\n",
      "0.2955035637231129 None\n",
      "0.27500616344356105 None\n",
      "0.25544738997089406 None\n",
      "0.2369400077341907 None\n",
      "0.21952510416870305 None\n",
      "0.20323385934457705 None\n",
      "0.1880948051957801 None\n",
      "0.17398761916826241 None\n",
      "0.16091537276276094 None\n",
      "0.14901791229083095 None\n",
      "0.1390799194477592 None\n",
      "0.1283504173524792 None\n",
      "0.11958840100019644 None\n",
      "0.11567061641228536 None\n",
      "0.10906105675100222 None\n",
      "0.10339102396049979 None\n"
     ]
    },
    {
     "data": {
      "application/vnd.jupyter.widget-view+json": {
       "model_id": "e0e322500eb94a83a792561947e2bd95",
       "version_major": 2,
       "version_minor": 0
      },
      "text/plain": [
       "  0%|          | 0/2000 [00:00<?, ?it/s]"
      ]
     },
     "metadata": {},
     "output_type": "display_data"
    },
    {
     "name": "stdout",
     "output_type": "stream",
     "text": [
      "0.40865576735187936 None\n",
      "0.38543692455202183 None\n",
      "0.36243057381103744 None\n",
      "0.339821435670315 None\n",
      "0.31778408477294684 None\n",
      "0.29647259013633803 None\n",
      "0.2760132922468029 None\n",
      "0.2564986808846402 None\n",
      "0.23802397819378682 None\n",
      "0.22451763321589757 None\n",
      "0.2042898252603111 None\n",
      "0.18992814914509076 None\n",
      "0.17581109278067164 None\n",
      "0.16190487885405688 None\n",
      "0.15388709288660568 None\n",
      "0.1391547441088711 None\n",
      "0.13313109618623767 None\n",
      "0.12047458932087908 None\n",
      "0.1165255725847403 None\n",
      "0.1055649273519427 None\n",
      "0.09954024097496084 None\n"
     ]
    },
    {
     "data": {
      "application/vnd.jupyter.widget-view+json": {
       "model_id": "0122eaf2ee4a463e954c947e7cf8d5c8",
       "version_major": 2,
       "version_minor": 0
      },
      "text/plain": [
       "  0%|          | 0/2000 [00:00<?, ?it/s]"
      ]
     },
     "metadata": {},
     "output_type": "display_data"
    },
    {
     "name": "stdout",
     "output_type": "stream",
     "text": [
      "0.4079070677356076 None\n",
      "0.3885501262506971 None\n",
      "0.3654939758553819 None\n",
      "0.3389218682205265 None\n",
      "0.3176678553774246 None\n",
      "0.29537093707107076 None\n",
      "0.27566689690358037 None\n",
      "0.26285224673624347 None\n",
      "0.2373548784879496 None\n",
      "0.21979614284514615 None\n",
      "0.2071061181638458 None\n",
      "0.19082419546266766 None\n",
      "0.17258950102891238 None\n",
      "0.15934806165682042 None\n",
      "0.1473936054974548 None\n",
      "0.13664195786694677 None\n",
      "0.12646194211653408 None\n",
      "0.11754461457827803 None\n",
      "0.11056632415782074 None\n",
      "0.1029157842920869 None\n",
      "0.0982408280491155 None\n"
     ]
    },
    {
     "data": {
      "application/vnd.jupyter.widget-view+json": {
       "model_id": "a07ccab54d0943edb048e0a4f65a9f59",
       "version_major": 2,
       "version_minor": 0
      },
      "text/plain": [
       "  0%|          | 0/2000 [00:00<?, ?it/s]"
      ]
     },
     "metadata": {},
     "output_type": "display_data"
    },
    {
     "name": "stdout",
     "output_type": "stream",
     "text": [
      "0.407530552827276 None\n",
      "0.3842829261522966 None\n",
      "0.3612385217928822 None\n",
      "0.3385778297262767 None\n",
      "0.3164749713342922 None\n",
      "0.2950915225126453 None\n",
      "0.2745734325577033 None\n",
      "0.25500464654080385 None\n",
      "0.23648216222403973 None\n",
      "0.21906664224312872 None\n",
      "0.20287622352004087 None\n",
      "0.18854523169749482 None\n",
      "0.17352243884244067 None\n",
      "0.16144214935043597 None\n",
      "0.15261200718748208 None\n",
      "0.1379081239002104 None\n",
      "0.1291063170464028 None\n",
      "0.11957712620734566 None\n",
      "0.1115835594127759 None\n",
      "0.10854281616250057 None\n",
      "0.09855061279202343 None\n"
     ]
    },
    {
     "data": {
      "application/vnd.jupyter.widget-view+json": {
       "model_id": "d580bb13c800437c9f7fe66048a3cd75",
       "version_major": 2,
       "version_minor": 0
      },
      "text/plain": [
       "  0%|          | 0/2000 [00:00<?, ?it/s]"
      ]
     },
     "metadata": {},
     "output_type": "display_data"
    },
    {
     "name": "stdout",
     "output_type": "stream",
     "text": [
      "0.4080103052115893 None\n",
      "0.38476380984787295 None\n",
      "0.36171793745220077 None\n",
      "0.3429429747196944 None\n",
      "0.3208350944943322 None\n",
      "0.29557459529743507 None\n",
      "0.2750809100864695 None\n",
      "0.2555264206071161 None\n",
      "0.2369490449868942 None\n",
      "0.21941390843113692 None\n",
      "0.20300577864648212 None\n",
      "0.1886058622496182 None\n",
      "0.1734445327417877 None\n",
      "0.16105685330616717 None\n",
      "0.15186582370627286 None\n",
      "0.13776324252589153 None\n",
      "0.13078992428568015 None\n",
      "0.11790899725582774 None\n",
      "0.11075446279062257 None\n",
      "0.10260709881617956 None\n",
      "0.09722319274773336 None\n"
     ]
    },
    {
     "data": {
      "application/vnd.jupyter.widget-view+json": {
       "model_id": "401ce956a578468ca10377cfec20ed54",
       "version_major": 2,
       "version_minor": 0
      },
      "text/plain": [
       "  0%|          | 0/2000 [00:00<?, ?it/s]"
      ]
     },
     "metadata": {},
     "output_type": "display_data"
    },
    {
     "name": "stdout",
     "output_type": "stream",
     "text": [
      "0.41075954561056244 None\n",
      "0.38662640305965923 None\n",
      "0.3635619567210206 None\n",
      "0.3408720765059143 None\n",
      "0.3196117576305696 None\n",
      "0.29732175253201787 None\n",
      "0.2767255932537936 None\n",
      "0.25701821345199366 None\n",
      "0.23829703370293479 None\n",
      "0.22148241388750983 None\n",
      "0.20487526653145138 None\n",
      "0.19242254044681129 None\n",
      "0.1740822715300335 None\n",
      "0.16071271909646725 None\n",
      "0.14856851736619364 None\n",
      "0.13753675002955518 None\n",
      "0.13152939252661128 None\n",
      "0.11964983204188835 None\n",
      "0.11482091219985793 None\n",
      "0.10777730700855911 None\n",
      "0.09770007265953028 None\n",
      "Done!\n"
     ]
    }
   ],
   "source": [
    "[distance_best, model_best] = loader(data_path(\"diluted_fitting_4qubit_24layer.model\"))\n",
    "rank_start = model_best.channel.rank\n",
    "\n",
    "distance_best, model_best = optimize_annulus_distance(spectrum_target = spectrum4, \n",
    "                                                      d = d, \n",
    "                                                      rank_start = rank_start, \n",
    "                                                      rank_step = 1,\n",
    "                                                      num_iter = 2000)\n",
    "\n",
    "model_best.optimizer = None\n",
    "saver([distance_best, model_best], data_path(\"diluted_fitting_4qubit_32layer.model\"))"
   ]
  },
  {
   "cell_type": "code",
   "execution_count": null,
   "metadata": {},
   "outputs": [],
   "source": []
  }
 ],
 "metadata": {
  "kernelspec": {
   "display_name": "env_qiskit",
   "language": "python",
   "name": "env_qiskit"
  },
  "language_info": {
   "codemirror_mode": {
    "name": "ipython",
    "version": 3
   },
   "file_extension": ".py",
   "mimetype": "text/x-python",
   "name": "python",
   "nbconvert_exporter": "python",
   "pygments_lexer": "ipython3",
   "version": "3.10.4"
  }
 },
 "nbformat": 4,
 "nbformat_minor": 4
}
