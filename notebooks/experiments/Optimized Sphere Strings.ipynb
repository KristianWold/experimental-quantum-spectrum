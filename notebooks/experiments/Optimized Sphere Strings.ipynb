{
 "cells": [
  {
   "cell_type": "markdown",
   "metadata": {},
   "source": [
    "# Optimized Sphere Strings"
   ]
  },
  {
   "cell_type": "code",
   "execution_count": 30,
   "metadata": {},
   "outputs": [],
   "source": [
    "import sys\n",
    "sys.path.insert(0, '../../src_tf/')\n",
    "\n",
    "import numpy as np\n",
    "import qiskit as qk\n",
    "import matplotlib.pyplot as plt\n",
    "import multiprocessing as mp\n",
    "import random\n",
    "import pickle\n",
    "\n",
    "from qiskit.quantum_info import DensityMatrix, random_unitary\n",
    "from qiskit.quantum_info import Operator\n",
    "from scipy.linalg import sqrtm\n",
    "from tqdm.notebook import tqdm\n",
    "\n",
    "from loss_functions import *\n",
    "from optimization import *\n",
    "from quantum_channel import *\n",
    "from kraus_channels import *\n",
    "from quantum_tools import *\n",
    "from experimental import *\n",
    "from spam import *\n",
    "from copy import deepcopy\n",
    "\n",
    "#np.set_printoptions(threshold=sys.maxsize)\n",
    "np.set_printoptions(precision=4)\n",
    "\n",
    "import os\n",
    "os.environ[\"CUDA_VISIBLE_DEVICES\"] = \"-1\""
   ]
  },
  {
   "cell_type": "markdown",
   "metadata": {},
   "source": [
    "## Test"
   ]
  },
  {
   "cell_type": "markdown",
   "metadata": {},
   "source": [
    "## Recover Map"
   ]
  },
  {
   "cell_type": "code",
   "execution_count": 31,
   "metadata": {},
   "outputs": [],
   "source": [
    "def generate_map_data(channel_target, inputs_map, noise = 0):\n",
    "    d = channel_target.d\n",
    "    U_prep, U_basis = inputs_map\n",
    "\n",
    "    N_map = U_prep.shape[0]\n",
    "    init = np.zeros((d,d))\n",
    "    init[0,0] = 1\n",
    "    init = tf.cast(init, dtype=precision)\n",
    "    \n",
    "    state = tf.repeat(tf.expand_dims(init, axis=0), N_map, axis=0)\n",
    "    state = apply_unitary(state, U_prep)\n",
    "    state = channel_target.apply_channel(state)\n",
    "    targets_map = measurement(state, U_basis)\n",
    "    \n",
    "    #add noise\n",
    "    targets_map = add_noise_to_probs(targets_map, noise=noise)\n",
    "    \n",
    "    return targets_map\n",
    "\n",
    "\n",
    "def model_pipeline(channel_target, noise):\n",
    "    # Make Benchmark\n",
    "    #################################################################################\n",
    "    n = 3\n",
    "    d = 2**n\n",
    "    \n",
    "    spam_target = generate_spam_benchmark(n=n, c1=0.8, c2=0.8)\n",
    "    inputs_spam, targets_spam = generate_spam_data(spam_target, N_spam=None, noise=noise)\n",
    "\n",
    "    inputs_map, targets_map = generate_map_data(channel_target, spam_target, N_map=2000, noise=noise)\n",
    "    #################################################################################\n",
    "\n",
    "    # Fit Models\n",
    "    #################################################################################\n",
    "    spam_model = SPAM(init = InitialState(d, c = None),\n",
    "                      povm = CorruptionMatrix(d, c = None),\n",
    "                      optimizer = tf.optimizers.Adam(learning_rate=0.01))\n",
    "    \n",
    "    spam_model.pretrain(300)\n",
    "\n",
    "    spam_model.train(inputs = inputs_spam,\n",
    "                     targets = targets_spam,\n",
    "                     num_iter = 2000,\n",
    "                     verbose = False,\n",
    "                    )\n",
    "\n",
    "    model = ModelQuantumMap(channel = KrausMap(d = d, \n",
    "                                               rank = d**2,\n",
    "                                               spam = spam_model,\n",
    "                                              ),\n",
    "                            loss_function = ProbabilityMSE(),\n",
    "                            optimizer = tf.optimizers.Adam(learning_rate=0.01),\n",
    "                            logger = Logger(loss_function = ProbabilityMSE(),\n",
    "                                            loss_function_val = channel_fidelity_loss),\n",
    "                           )\n",
    "\n",
    "    model.train(inputs = inputs_map,\n",
    "                targets = targets_map,\n",
    "                inputs_val = None,\n",
    "                targets_val = [channel_target],\n",
    "                num_iter = 2000,\n",
    "                N = 500,\n",
    "                )\n",
    "    #################################################################################\n",
    "\n",
    "    return model"
   ]
  },
  {
   "cell_type": "code",
   "execution_count": 32,
   "metadata": {
    "scrolled": true
   },
   "outputs": [
    {
     "data": {
      "application/vnd.jupyter.widget-view+json": {
       "model_id": "6722f868e09d458284dd39333c87bcae",
       "version_major": 2,
       "version_minor": 0
      },
      "text/plain": [
       "  0%|          | 0/10000 [00:00<?, ?it/s]"
      ]
     },
     "metadata": {},
     "output_type": "display_data"
    },
    {
     "ename": "KeyboardInterrupt",
     "evalue": "",
     "output_type": "error",
     "traceback": [
      "\u001b[1;31m---------------------------------------------------------------------------\u001b[0m",
      "\u001b[1;31mKeyboardInterrupt\u001b[0m                         Traceback (most recent call last)",
      "Input \u001b[1;32mIn [32]\u001b[0m, in \u001b[0;36m<cell line: 32>\u001b[1;34m()\u001b[0m\n\u001b[0;32m     30\u001b[0m strings1 \u001b[38;5;241m=\u001b[39m SphereStrings(N\u001b[38;5;241m=\u001b[39mN, n\u001b[38;5;241m=\u001b[39mn)\n\u001b[0;32m     31\u001b[0m strings2 \u001b[38;5;241m=\u001b[39m SphereStrings(N\u001b[38;5;241m=\u001b[39mN, n\u001b[38;5;241m=\u001b[39mn)\n\u001b[1;32m---> 32\u001b[0m \u001b[43mstrings1\u001b[49m\u001b[38;5;241;43m.\u001b[39;49m\u001b[43moptimize\u001b[49m\u001b[43m(\u001b[49m\u001b[38;5;241;43m10000\u001b[39;49m\u001b[43m)\u001b[49m\n\u001b[0;32m     33\u001b[0m strings2\u001b[38;5;241m.\u001b[39moptimize(\u001b[38;5;241m10000\u001b[39m)\n\u001b[0;32m     35\u001b[0m _, U1 \u001b[38;5;241m=\u001b[39m strings1\u001b[38;5;241m.\u001b[39mgenerate_circuits()\n",
      "File \u001b[1;32m~\\Documents\\ModelNISQ\\notebooks\\experiments\\../../src_tf\\experimental.py:275\u001b[0m, in \u001b[0;36mSphereStrings.optimize\u001b[1;34m(self, steps)\u001b[0m\n\u001b[0;32m    272\u001b[0m tape\u001b[38;5;241m.\u001b[39mwatch(\u001b[38;5;28mself\u001b[39m\u001b[38;5;241m.\u001b[39mparameters)\n\u001b[0;32m    274\u001b[0m loss \u001b[38;5;241m=\u001b[39m \u001b[38;5;28mself\u001b[39m\u001b[38;5;241m.\u001b[39mfidelity()\n\u001b[1;32m--> 275\u001b[0m grads \u001b[38;5;241m=\u001b[39m \u001b[43mtape\u001b[49m\u001b[38;5;241;43m.\u001b[39;49m\u001b[43mgradient\u001b[49m\u001b[43m(\u001b[49m\u001b[43mloss\u001b[49m\u001b[43m,\u001b[49m\u001b[43m \u001b[49m\u001b[38;5;28;43mself\u001b[39;49m\u001b[38;5;241;43m.\u001b[39;49m\u001b[43mparameter_list\u001b[49m\u001b[43m)\u001b[49m\n\u001b[0;32m    276\u001b[0m optimizer\u001b[38;5;241m.\u001b[39mapply_gradients(\u001b[38;5;28mzip\u001b[39m(grads, \u001b[38;5;28mself\u001b[39m\u001b[38;5;241m.\u001b[39mparameter_list))\n",
      "File \u001b[1;32mC:\\Program Files\\Anaconda3\\envs\\env_qiskit\\lib\\site-packages\\tensorflow\\python\\eager\\backprop.py:1113\u001b[0m, in \u001b[0;36mGradientTape.gradient\u001b[1;34m(self, target, sources, output_gradients, unconnected_gradients)\u001b[0m\n\u001b[0;32m   1107\u001b[0m   output_gradients \u001b[38;5;241m=\u001b[39m (\n\u001b[0;32m   1108\u001b[0m       composite_tensor_gradient\u001b[38;5;241m.\u001b[39mget_flat_tensors_for_gradients(\n\u001b[0;32m   1109\u001b[0m           output_gradients))\n\u001b[0;32m   1110\u001b[0m   output_gradients \u001b[38;5;241m=\u001b[39m [\u001b[38;5;28;01mNone\u001b[39;00m \u001b[38;5;28;01mif\u001b[39;00m x \u001b[38;5;129;01mis\u001b[39;00m \u001b[38;5;28;01mNone\u001b[39;00m \u001b[38;5;28;01melse\u001b[39;00m ops\u001b[38;5;241m.\u001b[39mconvert_to_tensor(x)\n\u001b[0;32m   1111\u001b[0m                       \u001b[38;5;28;01mfor\u001b[39;00m x \u001b[38;5;129;01min\u001b[39;00m output_gradients]\n\u001b[1;32m-> 1113\u001b[0m flat_grad \u001b[38;5;241m=\u001b[39m \u001b[43mimperative_grad\u001b[49m\u001b[38;5;241;43m.\u001b[39;49m\u001b[43mimperative_grad\u001b[49m\u001b[43m(\u001b[49m\n\u001b[0;32m   1114\u001b[0m \u001b[43m    \u001b[49m\u001b[38;5;28;43mself\u001b[39;49m\u001b[38;5;241;43m.\u001b[39;49m\u001b[43m_tape\u001b[49m\u001b[43m,\u001b[49m\n\u001b[0;32m   1115\u001b[0m \u001b[43m    \u001b[49m\u001b[43mflat_targets\u001b[49m\u001b[43m,\u001b[49m\n\u001b[0;32m   1116\u001b[0m \u001b[43m    \u001b[49m\u001b[43mflat_sources\u001b[49m\u001b[43m,\u001b[49m\n\u001b[0;32m   1117\u001b[0m \u001b[43m    \u001b[49m\u001b[43moutput_gradients\u001b[49m\u001b[38;5;241;43m=\u001b[39;49m\u001b[43moutput_gradients\u001b[49m\u001b[43m,\u001b[49m\n\u001b[0;32m   1118\u001b[0m \u001b[43m    \u001b[49m\u001b[43msources_raw\u001b[49m\u001b[38;5;241;43m=\u001b[39;49m\u001b[43mflat_sources_raw\u001b[49m\u001b[43m,\u001b[49m\n\u001b[0;32m   1119\u001b[0m \u001b[43m    \u001b[49m\u001b[43munconnected_gradients\u001b[49m\u001b[38;5;241;43m=\u001b[39;49m\u001b[43munconnected_gradients\u001b[49m\u001b[43m)\u001b[49m\n\u001b[0;32m   1121\u001b[0m \u001b[38;5;28;01mif\u001b[39;00m \u001b[38;5;129;01mnot\u001b[39;00m \u001b[38;5;28mself\u001b[39m\u001b[38;5;241m.\u001b[39m_persistent:\n\u001b[0;32m   1122\u001b[0m   \u001b[38;5;66;03m# Keep track of watched variables before setting tape to None\u001b[39;00m\n\u001b[0;32m   1123\u001b[0m   \u001b[38;5;28mself\u001b[39m\u001b[38;5;241m.\u001b[39m_watched_variables \u001b[38;5;241m=\u001b[39m \u001b[38;5;28mself\u001b[39m\u001b[38;5;241m.\u001b[39m_tape\u001b[38;5;241m.\u001b[39mwatched_variables()\n",
      "File \u001b[1;32mC:\\Program Files\\Anaconda3\\envs\\env_qiskit\\lib\\site-packages\\tensorflow\\python\\eager\\imperative_grad.py:67\u001b[0m, in \u001b[0;36mimperative_grad\u001b[1;34m(tape, target, sources, output_gradients, sources_raw, unconnected_gradients)\u001b[0m\n\u001b[0;32m     63\u001b[0m \u001b[38;5;28;01mexcept\u001b[39;00m \u001b[38;5;167;01mValueError\u001b[39;00m:\n\u001b[0;32m     64\u001b[0m   \u001b[38;5;28;01mraise\u001b[39;00m \u001b[38;5;167;01mValueError\u001b[39;00m(\n\u001b[0;32m     65\u001b[0m       \u001b[38;5;124m\"\u001b[39m\u001b[38;5;124mUnknown value for unconnected_gradients: \u001b[39m\u001b[38;5;132;01m%r\u001b[39;00m\u001b[38;5;124m\"\u001b[39m \u001b[38;5;241m%\u001b[39m unconnected_gradients)\n\u001b[1;32m---> 67\u001b[0m \u001b[38;5;28;01mreturn\u001b[39;00m \u001b[43mpywrap_tfe\u001b[49m\u001b[38;5;241;43m.\u001b[39;49m\u001b[43mTFE_Py_TapeGradient\u001b[49m\u001b[43m(\u001b[49m\n\u001b[0;32m     68\u001b[0m \u001b[43m    \u001b[49m\u001b[43mtape\u001b[49m\u001b[38;5;241;43m.\u001b[39;49m\u001b[43m_tape\u001b[49m\u001b[43m,\u001b[49m\u001b[43m  \u001b[49m\u001b[38;5;66;43;03m# pylint: disable=protected-access\u001b[39;49;00m\n\u001b[0;32m     69\u001b[0m \u001b[43m    \u001b[49m\u001b[43mtarget\u001b[49m\u001b[43m,\u001b[49m\n\u001b[0;32m     70\u001b[0m \u001b[43m    \u001b[49m\u001b[43msources\u001b[49m\u001b[43m,\u001b[49m\n\u001b[0;32m     71\u001b[0m \u001b[43m    \u001b[49m\u001b[43moutput_gradients\u001b[49m\u001b[43m,\u001b[49m\n\u001b[0;32m     72\u001b[0m \u001b[43m    \u001b[49m\u001b[43msources_raw\u001b[49m\u001b[43m,\u001b[49m\n\u001b[0;32m     73\u001b[0m \u001b[43m    \u001b[49m\u001b[43mcompat\u001b[49m\u001b[38;5;241;43m.\u001b[39;49m\u001b[43mas_str\u001b[49m\u001b[43m(\u001b[49m\u001b[43munconnected_gradients\u001b[49m\u001b[38;5;241;43m.\u001b[39;49m\u001b[43mvalue\u001b[49m\u001b[43m)\u001b[49m\u001b[43m)\u001b[49m\n",
      "File \u001b[1;32mC:\\Program Files\\Anaconda3\\envs\\env_qiskit\\lib\\site-packages\\tensorflow\\python\\eager\\backprop.py:160\u001b[0m, in \u001b[0;36m_gradient_function\u001b[1;34m(op_name, attr_tuple, num_inputs, inputs, outputs, out_grads, skip_input_indices, forward_pass_name_scope)\u001b[0m\n\u001b[0;32m    158\u001b[0m     gradient_name_scope \u001b[38;5;241m+\u001b[39m\u001b[38;5;241m=\u001b[39m forward_pass_name_scope \u001b[38;5;241m+\u001b[39m \u001b[38;5;124m\"\u001b[39m\u001b[38;5;124m/\u001b[39m\u001b[38;5;124m\"\u001b[39m\n\u001b[0;32m    159\u001b[0m   \u001b[38;5;28;01mwith\u001b[39;00m ops\u001b[38;5;241m.\u001b[39mname_scope(gradient_name_scope):\n\u001b[1;32m--> 160\u001b[0m     \u001b[38;5;28;01mreturn\u001b[39;00m \u001b[43mgrad_fn\u001b[49m\u001b[43m(\u001b[49m\u001b[43mmock_op\u001b[49m\u001b[43m,\u001b[49m\u001b[43m \u001b[49m\u001b[38;5;241;43m*\u001b[39;49m\u001b[43mout_grads\u001b[49m\u001b[43m)\u001b[49m\n\u001b[0;32m    161\u001b[0m \u001b[38;5;28;01melse\u001b[39;00m:\n\u001b[0;32m    162\u001b[0m   \u001b[38;5;28;01mreturn\u001b[39;00m grad_fn(mock_op, \u001b[38;5;241m*\u001b[39mout_grads)\n",
      "File \u001b[1;32mC:\\Program Files\\Anaconda3\\envs\\env_qiskit\\lib\\site-packages\\tensorflow\\python\\ops\\math_grad.py:207\u001b[0m, in \u001b[0;36m_SumGrad\u001b[1;34m(op, grad)\u001b[0m\n\u001b[0;32m    203\u001b[0m \u001b[38;5;28;01mif\u001b[39;00m \u001b[38;5;129;01mnot\u001b[39;00m op\u001b[38;5;241m.\u001b[39mget_attr(\u001b[38;5;124m\"\u001b[39m\u001b[38;5;124mkeep_dims\u001b[39m\u001b[38;5;124m\"\u001b[39m):\n\u001b[0;32m    204\u001b[0m   \u001b[38;5;28;01mwith\u001b[39;00m ops\u001b[38;5;241m.\u001b[39mcolocate_with(input_shape):\n\u001b[0;32m    205\u001b[0m     \u001b[38;5;66;03m# TODO(apassos) remove this once device placement for eager ops makes\u001b[39;00m\n\u001b[0;32m    206\u001b[0m     \u001b[38;5;66;03m# more sense.\u001b[39;00m\n\u001b[1;32m--> 207\u001b[0m     output_shape_kept_dims \u001b[38;5;241m=\u001b[39m \u001b[43mmath_ops\u001b[49m\u001b[38;5;241;43m.\u001b[39;49m\u001b[43mreduced_shape\u001b[49m\u001b[43m(\u001b[49m\u001b[43minput_shape\u001b[49m\u001b[43m,\u001b[49m\n\u001b[0;32m    208\u001b[0m \u001b[43m                                                    \u001b[49m\u001b[43mop\u001b[49m\u001b[38;5;241;43m.\u001b[39;49m\u001b[43minputs\u001b[49m\u001b[43m[\u001b[49m\u001b[38;5;241;43m1\u001b[39;49m\u001b[43m]\u001b[49m\u001b[43m)\u001b[49m\n\u001b[0;32m    209\u001b[0m   grad \u001b[38;5;241m=\u001b[39m array_ops\u001b[38;5;241m.\u001b[39mreshape(grad, output_shape_kept_dims)\n\u001b[0;32m    210\u001b[0m \u001b[38;5;28;01mreturn\u001b[39;00m [array_ops\u001b[38;5;241m.\u001b[39mbroadcast_to(grad, input_shape), \u001b[38;5;28;01mNone\u001b[39;00m]\n",
      "File \u001b[1;32mC:\\Program Files\\Anaconda3\\envs\\env_qiskit\\lib\\site-packages\\tensorflow\\python\\ops\\math_ops.py:4498\u001b[0m, in \u001b[0;36mreduced_shape\u001b[1;34m(input_shape, axes)\u001b[0m\n\u001b[0;32m   4496\u001b[0m constant_input_shape \u001b[38;5;241m=\u001b[39m tensor_util\u001b[38;5;241m.\u001b[39mconstant_value(input_shape)\n\u001b[0;32m   4497\u001b[0m \u001b[38;5;28;01mif\u001b[39;00m constant_input_shape \u001b[38;5;129;01mis\u001b[39;00m \u001b[38;5;129;01mnot\u001b[39;00m \u001b[38;5;28;01mNone\u001b[39;00m:\n\u001b[1;32m-> 4498\u001b[0m   constant_axes \u001b[38;5;241m=\u001b[39m \u001b[43mtensor_util\u001b[49m\u001b[38;5;241;43m.\u001b[39;49m\u001b[43mconstant_value\u001b[49m\u001b[43m(\u001b[49m\u001b[43maxes\u001b[49m\u001b[43m)\u001b[49m\n\u001b[0;32m   4499\u001b[0m   \u001b[38;5;28;01mif\u001b[39;00m constant_axes \u001b[38;5;129;01mis\u001b[39;00m \u001b[38;5;129;01mnot\u001b[39;00m \u001b[38;5;28;01mNone\u001b[39;00m:\n\u001b[0;32m   4500\u001b[0m     constant_axes \u001b[38;5;241m=\u001b[39m np\u001b[38;5;241m.\u001b[39marray(constant_axes, dtype\u001b[38;5;241m=\u001b[39mnp\u001b[38;5;241m.\u001b[39mint32)\n",
      "File \u001b[1;32mC:\\Program Files\\Anaconda3\\envs\\env_qiskit\\lib\\site-packages\\tensorflow\\python\\framework\\tensor_util.py:870\u001b[0m, in \u001b[0;36mconstant_value\u001b[1;34m(tensor, partial)\u001b[0m\n\u001b[0;32m    868\u001b[0m \u001b[38;5;28;01mif\u001b[39;00m \u001b[38;5;28misinstance\u001b[39m(tensor, ops\u001b[38;5;241m.\u001b[39mEagerTensor):\n\u001b[0;32m    869\u001b[0m   \u001b[38;5;28;01mtry\u001b[39;00m:\n\u001b[1;32m--> 870\u001b[0m     \u001b[38;5;28;01mreturn\u001b[39;00m \u001b[43mtensor\u001b[49m\u001b[38;5;241;43m.\u001b[39;49m\u001b[43mnumpy\u001b[49m\u001b[43m(\u001b[49m\u001b[43m)\u001b[49m\n\u001b[0;32m    871\u001b[0m   \u001b[38;5;28;01mexcept\u001b[39;00m errors_impl\u001b[38;5;241m.\u001b[39mUnimplementedError:\n\u001b[0;32m    872\u001b[0m     \u001b[38;5;66;03m# Some EagerTensors may not implement .numpy/resolve, e.g. parallel\u001b[39;00m\n\u001b[0;32m    873\u001b[0m     \u001b[38;5;66;03m# tensors with multiple components on different devices.\u001b[39;00m\n\u001b[0;32m    874\u001b[0m     \u001b[38;5;28;01mreturn\u001b[39;00m \u001b[38;5;28;01mNone\u001b[39;00m\n",
      "File \u001b[1;32mC:\\Program Files\\Anaconda3\\envs\\env_qiskit\\lib\\site-packages\\tensorflow\\python\\framework\\ops.py:1157\u001b[0m, in \u001b[0;36m_EagerTensorBase.numpy\u001b[1;34m(self)\u001b[0m\n\u001b[0;32m   1134\u001b[0m \u001b[38;5;124;03m\"\"\"Copy of the contents of this Tensor into a NumPy array or scalar.\u001b[39;00m\n\u001b[0;32m   1135\u001b[0m \n\u001b[0;32m   1136\u001b[0m \u001b[38;5;124;03mUnlike NumPy arrays, Tensors are immutable, so this method has to copy\u001b[39;00m\n\u001b[1;32m   (...)\u001b[0m\n\u001b[0;32m   1154\u001b[0m \u001b[38;5;124;03m    NumPy dtype.\u001b[39;00m\n\u001b[0;32m   1155\u001b[0m \u001b[38;5;124;03m\"\"\"\u001b[39;00m\n\u001b[0;32m   1156\u001b[0m \u001b[38;5;66;03m# TODO(slebedev): Consider avoiding a copy for non-CPU or remote tensors.\u001b[39;00m\n\u001b[1;32m-> 1157\u001b[0m maybe_arr \u001b[38;5;241m=\u001b[39m \u001b[38;5;28;43mself\u001b[39;49m\u001b[38;5;241;43m.\u001b[39;49m\u001b[43m_numpy\u001b[49m\u001b[43m(\u001b[49m\u001b[43m)\u001b[49m  \u001b[38;5;66;03m# pylint: disable=protected-access\u001b[39;00m\n\u001b[0;32m   1158\u001b[0m \u001b[38;5;28;01mreturn\u001b[39;00m maybe_arr\u001b[38;5;241m.\u001b[39mcopy() \u001b[38;5;28;01mif\u001b[39;00m \u001b[38;5;28misinstance\u001b[39m(maybe_arr, np\u001b[38;5;241m.\u001b[39mndarray) \u001b[38;5;28;01melse\u001b[39;00m maybe_arr\n",
      "File \u001b[1;32mC:\\Program Files\\Anaconda3\\envs\\env_qiskit\\lib\\site-packages\\tensorflow\\python\\framework\\ops.py:1123\u001b[0m, in \u001b[0;36m_EagerTensorBase._numpy\u001b[1;34m(self)\u001b[0m\n\u001b[0;32m   1121\u001b[0m \u001b[38;5;28;01mdef\u001b[39;00m \u001b[38;5;21m_numpy\u001b[39m(\u001b[38;5;28mself\u001b[39m):\n\u001b[0;32m   1122\u001b[0m   \u001b[38;5;28;01mtry\u001b[39;00m:\n\u001b[1;32m-> 1123\u001b[0m     \u001b[38;5;28;01mreturn\u001b[39;00m \u001b[38;5;28;43mself\u001b[39;49m\u001b[38;5;241;43m.\u001b[39;49m\u001b[43m_numpy_internal\u001b[49m\u001b[43m(\u001b[49m\u001b[43m)\u001b[49m\n\u001b[0;32m   1124\u001b[0m   \u001b[38;5;28;01mexcept\u001b[39;00m core\u001b[38;5;241m.\u001b[39m_NotOkStatusException \u001b[38;5;28;01mas\u001b[39;00m e:  \u001b[38;5;66;03m# pylint: disable=protected-access\u001b[39;00m\n\u001b[0;32m   1125\u001b[0m     \u001b[38;5;28;01mraise\u001b[39;00m core\u001b[38;5;241m.\u001b[39m_status_to_exception(e) \u001b[38;5;28;01mfrom\u001b[39;00m \u001b[38;5;28mNone\u001b[39m\n",
      "\u001b[1;31mKeyboardInterrupt\u001b[0m: "
     ]
    }
   ],
   "source": [
    "n = 3\n",
    "d = 2**n\n",
    "\n",
    "N = 200\n",
    "\n",
    "#Pauli Strings\n",
    "np.random.seed(42)\n",
    "random.seed(42)\n",
    "tf.random.set_seed(42)\n",
    "\n",
    "inputs_map1, _ = generate_pauli_circuits(n=n, N=N)\n",
    "\n",
    "\n",
    "#Unoptimized Sphere strings\n",
    "np.random.seed(42)\n",
    "random.seed(42)\n",
    "tf.random.set_seed(42)\n",
    "\n",
    "strings = SphereStrings(N=2*N, n=n)\n",
    "\n",
    "_, U2 = strings.generate_circuits()\n",
    "inputs_map2 = [U2[:N], U2[N:]]\n",
    "\n",
    "\n",
    "#Optimized Sphere Strings\n",
    "np.random.seed(42)\n",
    "random.seed(42)\n",
    "tf.random.set_seed(42)\n",
    "\n",
    "strings1 = SphereStrings(N=N, n=n)\n",
    "strings2 = SphereStrings(N=N, n=n)\n",
    "strings1.optimize(10000)\n",
    "strings2.optimize(10000)\n",
    "\n",
    "_, U1 = strings1.generate_circuits()\n",
    "_, U2 = strings2.generate_circuits()\n",
    "inputs_map3 = [U1, U2]\n",
    "\n",
    "\n",
    "#Haar Strings\n",
    "np.random.seed(42)\n",
    "random.seed(42)\n",
    "tf.random.set_seed(42)\n",
    "\n",
    "strings = HaarStrings(N=2*N, n=n)\n",
    "\n",
    "_, U4 = strings.generate_circuits()\n",
    "inputs_map4 = [U4[:N], U4[N:]]\n",
    "\n",
    "#Haar Input\n",
    "np.random.seed(42)\n",
    "random.seed(42)\n",
    "tf.random.set_seed(42)\n",
    "\n",
    "strings = HaarInput(N=2*N, n=n)\n",
    "\n",
    "_, U5 = strings.generate_circuits()\n",
    "inputs_map5 = [U5[:N], U5[N:]]"
   ]
  },
  {
   "cell_type": "markdown",
   "metadata": {},
   "source": [
    "### Vanilla Pauli Strings"
   ]
  },
  {
   "cell_type": "code",
   "execution_count": null,
   "metadata": {},
   "outputs": [],
   "source": [
    "np.random.seed(42)\n",
    "random.seed(42)\n",
    "tf.random.set_seed(42)\n",
    "\n",
    "kraus_target = KrausMap(d, rank = 10)\n",
    "targets_map1 = generate_map_data(kraus_target, inputs_map1)\n",
    "\n",
    "model = ModelQuantumMap(channel = KrausMap(d=d, \n",
    "                                           rank=10,                                                  ),\n",
    "                               loss_function = ProbabilityMSE(),\n",
    "                               optimizer = tf.optimizers.Adam(learning_rate=0.01),\n",
    "                               logger = Logger(loss_function = ProbabilityMSE(),\n",
    "                                               loss_function_val = channel_fidelity_loss),\n",
    "                               )\n",
    "\n",
    "model.train(inputs = inputs_map1,\n",
    "            targets = targets_map1,\n",
    "            inputs_val = None,\n",
    "            targets_val = [kraus_target],\n",
    "            num_iter = 4000,\n",
    "            N = 500,\n",
    "            )"
   ]
  },
  {
   "cell_type": "markdown",
   "metadata": {},
   "source": [
    "### Unoptimized Sphere Strings"
   ]
  },
  {
   "cell_type": "code",
   "execution_count": 20,
   "metadata": {},
   "outputs": [
    {
     "data": {
      "application/vnd.jupyter.widget-view+json": {
       "model_id": "7ff3612e688b4ab19340eb0cad5be05f",
       "version_major": 2,
       "version_minor": 0
      },
      "text/plain": [
       "  0%|          | 0/4000 [00:00<?, ?it/s]"
      ]
     },
     "metadata": {},
     "output_type": "display_data"
    },
    {
     "name": "stdout",
     "output_type": "stream",
     "text": [
      "0.2073630874618668 -0.10742093762760044\n",
      "0.03409499080507354 -0.24140280420736693\n",
      "0.014317104008455055 -0.3405854287602903\n",
      "0.008557189693450738 -0.4065942891617664\n",
      "0.005934211312582653 -0.4522929044045661\n",
      "0.004491184992243779 -0.48398176852772906\n",
      "0.003540751010331078 -0.5072761565599808\n",
      "0.00288538319737424 -0.5276167378975885\n",
      "0.0024317896126969957 -0.5477095918539238\n",
      "0.002111080710036513 -0.567029272130711\n",
      "0.0018747061779965607 -0.5852407061209008\n",
      "0.0016882318159168214 -0.6025915056028\n",
      "0.0015312525984860533 -0.6192701040114819\n",
      "0.0013970239380044188 -0.6352048055215656\n",
      "0.0012833183984890086 -0.6503051788532732\n",
      "0.0011866718464538187 -0.6646529350589646\n",
      "0.0011025605208233092 -0.6784197047004675\n",
      "0.0010266104402064657 -0.6917049679923801\n",
      "0.0009556645435844823 -0.7044817256016896\n",
      "0.0008883091021836073 -0.7166942745066349\n",
      "0.0008242756952951384 -0.7284270806547739\n",
      "0.0007635606195943714 -0.7399622662368062\n",
      "0.0007063836378344817 -0.7516000633062655\n",
      "0.0006542899295995244 -0.7633004952450003\n",
      "0.00060989433149309 -0.7745596313744805\n",
      "0.000574326638246327 -0.7848415628309208\n",
      "0.0005466666458480444 -0.7939625910071727\n",
      "0.0005250567519200989 -0.8020670358580101\n",
      "0.0005075131297462693 -0.8094729223980609\n",
      "0.0004923169495466311 -0.8165691706030771\n",
      "0.0004780330648031988 -0.8237686426705914\n",
      "0.00046334178640056753 -0.8314727488336351\n",
      "0.00044702094748610174 -0.8399917985181987\n",
      "0.00042840468279978607 -0.8493972129603117\n",
      "0.00040797729142267843 -0.8594708450490497\n",
      "0.00038687286990708703 -0.869965012983406\n",
      "0.0003656063938320718 -0.880907271281282\n",
      "0.0003436780889441495 -0.8926136641641351\n",
      "0.00032014203553311913 -0.9053748537011351\n",
      "0.0002948313615544411 -0.9188869658912909\n",
      "0.0002701449662610314 -0.9320397000002618\n"
     ]
    }
   ],
   "source": [
    "np.random.seed(42)\n",
    "random.seed(42)\n",
    "tf.random.set_seed(42)\n",
    "\n",
    "kraus_target = KrausMap(d, rank = d+1)\n",
    "targets_map2 = generate_map_data(kraus_target, inputs_map2)\n",
    "\n",
    "model = ModelQuantumMap(channel = KrausMap(d=d, \n",
    "                                           rank=d+1,                                                  ),\n",
    "                               loss_function = ProbabilityMSE(),\n",
    "                               optimizer = tf.optimizers.Adam(learning_rate=0.01),\n",
    "                               logger = Logger(loss_function = ProbabilityMSE(),\n",
    "                                               loss_function_val = channel_fidelity_loss),\n",
    "                               )\n",
    "\n",
    "model.train(inputs = inputs_map2,\n",
    "            targets = targets_map2,\n",
    "            inputs_val = None,\n",
    "            targets_val = [kraus_target],\n",
    "            num_iter = 4000,\n",
    "            N = 500,\n",
    "            )"
   ]
  },
  {
   "cell_type": "markdown",
   "metadata": {},
   "source": [
    "### Optimized Sphere Strings"
   ]
  },
  {
   "cell_type": "code",
   "execution_count": null,
   "metadata": {},
   "outputs": [],
   "source": [
    "np.random.seed(42)\n",
    "random.seed(42)\n",
    "tf.random.set_seed(42)\n",
    "\n",
    "kraus_target = KrausMap(d, rank = 10)\n",
    "targets_map3 = generate_map_data(kraus_target, inputs_map3)\n",
    "\n",
    "model = ModelQuantumMap(channel = KrausMap(d=d, \n",
    "                                           rank=10,                                                  ),\n",
    "                               loss_function = ProbabilityMSE(),\n",
    "                               optimizer = tf.optimizers.Adam(learning_rate=0.01),\n",
    "                               logger = Logger(loss_function = ProbabilityMSE(),\n",
    "                                               loss_function_val = channel_fidelity_loss),\n",
    "                               )\n",
    "\n",
    "model.train(inputs = inputs_map3,\n",
    "            targets = targets_map3,\n",
    "            inputs_val = None,\n",
    "            targets_val = [kraus_target],\n",
    "            num_iter = 4000,\n",
    "            N = 500,\n",
    "            )"
   ]
  },
  {
   "cell_type": "markdown",
   "metadata": {},
   "source": [
    "### Haar Strings"
   ]
  },
  {
   "cell_type": "code",
   "execution_count": null,
   "metadata": {},
   "outputs": [],
   "source": [
    "np.random.seed(42)\n",
    "random.seed(42)\n",
    "tf.random.set_seed(42)\n",
    "\n",
    "kraus_target = KrausMap(d, rank = d)\n",
    "targets_map4 = generate_map_data(kraus_target, inputs_map4, noise = 0.01)\n",
    "\n",
    "model = ModelQuantumMap(channel = KrausMap(d=d, \n",
    "                                           rank=d,                                                  ),\n",
    "                               loss_function = ProbabilityMSE(),\n",
    "                               optimizer = tf.optimizers.Adam(learning_rate=0.01),\n",
    "                               logger = Logger(loss_function = ProbabilityMSE(),\n",
    "                                               loss_function_val = channel_fidelity_loss),\n",
    "                               )\n",
    "\n",
    "model.train(inputs = inputs_map4,\n",
    "            targets = targets_map4,\n",
    "            inputs_val = None,\n",
    "            targets_val = [kraus_target],\n",
    "            num_iter = 4000,\n",
    "            N = 500,\n",
    "            )"
   ]
  },
  {
   "cell_type": "markdown",
   "metadata": {},
   "source": [
    "### Haar Input"
   ]
  },
  {
   "cell_type": "code",
   "execution_count": null,
   "metadata": {},
   "outputs": [],
   "source": [
    "np.random.seed(42)\n",
    "random.seed(42)\n",
    "tf.random.set_seed(42)\n",
    "\n",
    "kraus_target = KrausMap(d, rank = d)\n",
    "targets_map5 = generate_map_data(kraus_target, inputs_map5, noise = 0.01)\n",
    "\n",
    "model = ModelQuantumMap(channel = KrausMap(d=d, \n",
    "                                           rank=d,                                                  ),\n",
    "                               loss_function = ProbabilityMSE(),\n",
    "                               optimizer = tf.optimizers.Adam(learning_rate=0.01),\n",
    "                               logger = Logger(loss_function = ProbabilityMSE(),\n",
    "                                               loss_function_val = channel_fidelity_loss),\n",
    "                               )\n",
    "\n",
    "model.train(inputs = inputs_map5,\n",
    "            targets = targets_map5,\n",
    "            inputs_val = None,\n",
    "            targets_val = [kraus_target],\n",
    "            num_iter = 2000,\n",
    "            N = 500,\n",
    "            )"
   ]
  },
  {
   "cell_type": "markdown",
   "metadata": {},
   "source": [
    "## Overfitting"
   ]
  },
  {
   "cell_type": "code",
   "execution_count": 25,
   "metadata": {
    "scrolled": true
   },
   "outputs": [
    {
     "data": {
      "application/vnd.jupyter.widget-view+json": {
       "model_id": "0b4512a8bdf449fdbf418108109dc5cb",
       "version_major": 2,
       "version_minor": 0
      },
      "text/plain": [
       "  0%|          | 0/1000 [00:00<?, ?it/s]"
      ]
     },
     "metadata": {},
     "output_type": "display_data"
    },
    {
     "data": {
      "application/vnd.jupyter.widget-view+json": {
       "model_id": "8beeef0f4eb746df98d176bc95236171",
       "version_major": 2,
       "version_minor": 0
      },
      "text/plain": [
       "  0%|          | 0/1000 [00:00<?, ?it/s]"
      ]
     },
     "metadata": {},
     "output_type": "display_data"
    }
   ],
   "source": [
    "n = 3\n",
    "d = 2**n\n",
    "N = 250\n",
    "\n",
    "#Pauli Strings\n",
    "np.random.seed(42)\n",
    "random.seed(42)\n",
    "tf.random.set_seed(42)\n",
    "\n",
    "inputs_map, _ = generate_pauli_circuits(n=n, N=2*N)\n",
    "\n",
    "inputs_train1 = [inputs_map[0][:N], inputs_map[1][:N]]\n",
    "inputs_test1 = [inputs_map[0][N:], inputs_map[1][N:]]\n",
    "\n",
    "np.random.seed(42)\n",
    "random.seed(42)\n",
    "tf.random.set_seed(42)\n",
    "\n",
    "strings = SphereStrings(N=4*N, n=n)\n",
    "\n",
    "_, U = strings.generate_circuits()\n",
    "inputs_train2 = [U[:N], U[N:2*N]]\n",
    "inputs_test2 = [U[2*N:3*N], U[3*N:]]\n",
    "\n",
    "\n",
    "np.random.seed(42)\n",
    "random.seed(42)\n",
    "tf.random.set_seed(42)\n",
    "\n",
    "strings1 = SphereStrings(N=2*N, n=n)\n",
    "strings2 = SphereStrings(N=2*N, n=n)\n",
    "strings1.optimize(1000)\n",
    "strings2.optimize(1000)\n",
    "\n",
    "_, U1 = strings1.generate_circuits()\n",
    "_, U2 = strings2.generate_circuits()\n",
    "inputs_train3 = [U1[:N], U2[:N]]\n",
    "inputs_test3 = [U1[N:], U2[N:]]"
   ]
  },
  {
   "cell_type": "code",
   "execution_count": 26,
   "metadata": {
    "scrolled": true
   },
   "outputs": [
    {
     "data": {
      "application/vnd.jupyter.widget-view+json": {
       "model_id": "0835ba31b1ec47b9b7d70e31042f1fe3",
       "version_major": 2,
       "version_minor": 0
      },
      "text/plain": [
       "  0%|          | 0/1000 [00:00<?, ?it/s]"
      ]
     },
     "metadata": {},
     "output_type": "display_data"
    },
    {
     "name": "stdout",
     "output_type": "stream",
     "text": [
      "0.6823997473977577 0.6386018394156521\n",
      "0.46921401345276353 0.5904248389869958\n",
      "0.4191967266616176 0.6006694775927968\n",
      "0.3939060611829534 0.5957566471626197\n",
      "0.39019867072337194 0.594925595576995\n",
      "0.3854529564559331 0.5944545934066569\n",
      "0.3797236743896805 0.5934823618794018\n",
      "0.37908994083067205 0.5831080763827772\n",
      "0.3786682086377277 0.5799900079682538\n",
      "0.37866553851882145 0.5797560527104879\n",
      "0.37866548953951634 0.5797312621671379\n"
     ]
    },
    {
     "data": {
      "application/vnd.jupyter.widget-view+json": {
       "model_id": "45fd911e3dd44dd98d9321dec253fc5d",
       "version_major": 2,
       "version_minor": 0
      },
      "text/plain": [
       "  0%|          | 0/1000 [00:00<?, ?it/s]"
      ]
     },
     "metadata": {},
     "output_type": "display_data"
    },
    {
     "name": "stdout",
     "output_type": "stream",
     "text": [
      "0.6311107127723012 0.6555162200305436\n",
      "0.44548132363029597 0.5594408540225391\n",
      "0.4049191747143873 0.5445605101092477\n",
      "0.3754638993315314 0.5194100193010994\n",
      "0.3625899740952035 0.52058246045753\n",
      "0.3589677234600425 0.5257843904485319\n",
      "0.35796254112354436 0.5311387988628069\n",
      "0.3564353628274362 0.5347716344461115\n",
      "0.35363085840155906 0.5220642825086078\n",
      "0.3529721784218895 0.5172246231416148\n",
      "0.35103585674154825 0.5126312593759091\n"
     ]
    },
    {
     "data": {
      "application/vnd.jupyter.widget-view+json": {
       "model_id": "b39fe43b259d46a6b8705c6b34e69e9b",
       "version_major": 2,
       "version_minor": 0
      },
      "text/plain": [
       "  0%|          | 0/1000 [00:00<?, ?it/s]"
      ]
     },
     "metadata": {},
     "output_type": "display_data"
    },
    {
     "name": "stdout",
     "output_type": "stream",
     "text": [
      "0.6341380484440182 0.6112790371787062\n",
      "0.4838116082337393 0.5919189268394643\n",
      "0.4394625482668932 0.5911500392764977\n",
      "0.4074585787391613 0.5783492104246993\n",
      "0.39407495022648625 0.5592169420039147\n",
      "0.3908636971396748 0.5489884179876976\n",
      "0.38961455587522803 0.5516801779122325\n",
      "0.38779358702177746 0.5616025695309995\n",
      "0.37879297237587867 0.5567230456941418\n",
      "0.37286511953035917 0.5483816676171244\n",
      "0.37208313335459825 0.5453406300674061\n"
     ]
    },
    {
     "data": {
      "application/vnd.jupyter.widget-view+json": {
       "model_id": "481a33aa60c24ef89e5645cf73958f51",
       "version_major": 2,
       "version_minor": 0
      },
      "text/plain": [
       "  0%|          | 0/1000 [00:00<?, ?it/s]"
      ]
     },
     "metadata": {},
     "output_type": "display_data"
    },
    {
     "name": "stdout",
     "output_type": "stream",
     "text": [
      "0.3673261153760614 0.3658850474398282\n",
      "0.17427387835344846 0.256794809966851\n",
      "0.11332356899146069 0.18926068576568897\n",
      "0.08288697430369152 0.15002363971050942\n",
      "0.06338509740826567 0.11492833361564417\n",
      "0.0513814979682897 0.08521030919169614\n",
      "0.04436852189624236 0.07404564077861311\n",
      "0.04280708142698861 0.07314792306893642\n",
      "0.042530145543644385 0.07332236649534891\n",
      "0.042430938685533465 0.07369946330318428\n",
      "0.042357499009445285 0.07406508974586905\n"
     ]
    },
    {
     "data": {
      "application/vnd.jupyter.widget-view+json": {
       "model_id": "6768759026354682ac5beb30171f7b3e",
       "version_major": 2,
       "version_minor": 0
      },
      "text/plain": [
       "  0%|          | 0/1000 [00:00<?, ?it/s]"
      ]
     },
     "metadata": {},
     "output_type": "display_data"
    },
    {
     "name": "stdout",
     "output_type": "stream",
     "text": [
      "0.3979315815126964 0.3697324536952324\n",
      "0.16926381185496878 0.25364477145459746\n",
      "0.11188837673660605 0.18505135570217005\n",
      "0.08931424832346493 0.1625437875269335\n",
      "0.07423484746509425 0.13766482870133637\n",
      "0.06519661697482888 0.12239508526353728\n",
      "0.06104414751877858 0.11276163815150529\n",
      "0.05952019178994578 0.1046771013109413\n",
      "0.057304127777483393 0.09350162550144304\n",
      "0.05268272992070173 0.08327442940265203\n",
      "0.046783332613725054 0.07169566036479731\n"
     ]
    },
    {
     "data": {
      "application/vnd.jupyter.widget-view+json": {
       "model_id": "d27e0893e29f4a51acf3d3c4326bd9cc",
       "version_major": 2,
       "version_minor": 0
      },
      "text/plain": [
       "  0%|          | 0/1000 [00:00<?, ?it/s]"
      ]
     },
     "metadata": {},
     "output_type": "display_data"
    },
    {
     "name": "stdout",
     "output_type": "stream",
     "text": [
      "0.3832755808200339 0.36401052311898996\n",
      "0.16599757918721145 0.2453178152623654\n",
      "0.11973573819935572 0.19124181845086885\n",
      "0.08585052969461412 0.13710564495144245\n",
      "0.06856286246081637 0.10963239460570849\n",
      "0.05507379671659355 0.08970736244547835\n",
      "0.04921652406972712 0.07925315842906806\n",
      "0.045276284790258414 0.06874006600286867\n",
      "0.04298385856772727 0.0656042872861875\n",
      "0.04266445911571299 0.06458517510795443\n",
      "0.042585076128838356 0.06389004748619272\n"
     ]
    },
    {
     "data": {
      "application/vnd.jupyter.widget-view+json": {
       "model_id": "660fd4ba57524cee81550f98b921a353",
       "version_major": 2,
       "version_minor": 0
      },
      "text/plain": [
       "  0%|          | 0/1000 [00:00<?, ?it/s]"
      ]
     },
     "metadata": {},
     "output_type": "display_data"
    },
    {
     "name": "stdout",
     "output_type": "stream",
     "text": [
      "0.29767197827817915 0.28639922806595175\n",
      "0.11262473008904635 0.17270698639438023\n",
      "0.06109777377147245 0.10843272066365492\n",
      "0.016835919415542723 0.0326136897380256\n",
      "0.002846862314735582 0.005347581610458236\n",
      "0.00048003363797944 0.0008562796167518911\n",
      "8.93514346551508e-05 0.00015972003634798636\n",
      "1.7014623466696622e-05 3.147067568909168e-05\n",
      "3.1281834746677347e-06 5.9979152755169995e-06\n",
      "5.434576411620417e-07 1.0703727144712083e-06\n",
      "8.736991742793563e-08 1.7492640307051948e-07\n"
     ]
    },
    {
     "data": {
      "application/vnd.jupyter.widget-view+json": {
       "model_id": "97f2133788a94af280d172f21ac141d1",
       "version_major": 2,
       "version_minor": 0
      },
      "text/plain": [
       "  0%|          | 0/1000 [00:00<?, ?it/s]"
      ]
     },
     "metadata": {},
     "output_type": "display_data"
    },
    {
     "name": "stdout",
     "output_type": "stream",
     "text": [
      "0.2984217754903278 0.29674090260756897\n",
      "0.11257584473096759 0.17249205832885564\n",
      "0.05964140915995567 0.10531269946760338\n",
      "0.022478495472018998 0.04345414501264855\n",
      "0.00613394972220807 0.011098464239691271\n",
      "0.001327105329382358 0.002528836327164326\n",
      "0.00031425600965445276 0.0006011657302376722\n",
      "6.64718969275061e-05 0.00012666171788773745\n",
      "1.2205445680153652e-05 2.3073207033732566e-05\n",
      "1.9465793528524453e-06 3.640541846455108e-06\n",
      "2.6907043344948676e-07 4.977162690490257e-07\n"
     ]
    },
    {
     "data": {
      "application/vnd.jupyter.widget-view+json": {
       "model_id": "dccca2bff86647e7a4f0d50e39770637",
       "version_major": 2,
       "version_minor": 0
      },
      "text/plain": [
       "  0%|          | 0/1000 [00:00<?, ?it/s]"
      ]
     },
     "metadata": {},
     "output_type": "display_data"
    },
    {
     "name": "stdout",
     "output_type": "stream",
     "text": [
      "0.30265606556957747 0.29865899437239674\n",
      "0.10003948759420189 0.15911924387294368\n",
      "0.04827807352453201 0.0960842963579098\n",
      "0.024315441777695682 0.04560981240320633\n",
      "0.004579976585780081 0.008394124814228658\n",
      "0.0006559590943086236 0.0012263882220654608\n",
      "8.756569342890234e-05 0.00016231193849047747\n",
      "1.1176396658343218e-05 2.0477862162468968e-05\n",
      "1.3906107615766554e-06 2.537149983248218e-06\n",
      "1.683963326915773e-07 3.0901506845448e-07\n",
      "1.94376472893416e-08 3.607867956459946e-08\n"
     ]
    },
    {
     "data": {
      "application/vnd.jupyter.widget-view+json": {
       "model_id": "d943cda053db49cab79c4c6a6d341259",
       "version_major": 2,
       "version_minor": 0
      },
      "text/plain": [
       "  0%|          | 0/1000 [00:00<?, ?it/s]"
      ]
     },
     "metadata": {},
     "output_type": "display_data"
    },
    {
     "name": "stdout",
     "output_type": "stream",
     "text": [
      "0.24960836647088716 0.2363238223873291\n",
      "0.07937098228859549 0.13021667298309858\n",
      "0.02944413167164825 0.05883817947577856\n",
      "0.006671135950394138 0.015999926156296505\n",
      "0.0015689238827170048 0.004179582214976253\n",
      "0.0004785299392473346 0.0013840869484641073\n",
      "0.0001985644405918375 0.0006106120413070544\n",
      "0.00010298714756164923 0.0003297996930047129\n",
      "6.137507135072776e-05 0.0002018747200523192\n",
      "3.9868009238140856e-05 0.00013368713737419235\n",
      "2.7418926495836645e-05 9.332955917040426e-05\n"
     ]
    },
    {
     "data": {
      "application/vnd.jupyter.widget-view+json": {
       "model_id": "cb58cddc3daa48108aeb47205c313a5c",
       "version_major": 2,
       "version_minor": 0
      },
      "text/plain": [
       "  0%|          | 0/1000 [00:00<?, ?it/s]"
      ]
     },
     "metadata": {},
     "output_type": "display_data"
    },
    {
     "name": "stdout",
     "output_type": "stream",
     "text": [
      "0.2464366161559601 0.24319271490143535\n",
      "0.07598403383636691 0.11711606551755199\n",
      "0.026587143810609937 0.05807569493874713\n",
      "0.010312759420405406 0.023360411335669455\n",
      "0.002709219086335321 0.006170575237464748\n",
      "0.0007248195531396342 0.0018524046092565434\n",
      "0.00026856423763043594 0.0007249000956641678\n",
      "0.00012264278954585495 0.00033890287657995156\n",
      "6.59343805187323e-05 0.00018336981149262238\n",
      "3.996458939340099e-05 0.00011111364399426214\n",
      "2.627017030596704e-05 7.29801270393212e-05\n"
     ]
    },
    {
     "data": {
      "application/vnd.jupyter.widget-view+json": {
       "model_id": "9b194199f55b4772accece4239488e00",
       "version_major": 2,
       "version_minor": 0
      },
      "text/plain": [
       "  0%|          | 0/1000 [00:00<?, ?it/s]"
      ]
     },
     "metadata": {},
     "output_type": "display_data"
    },
    {
     "name": "stdout",
     "output_type": "stream",
     "text": [
      "0.25320987641984544 0.2476886768895737\n",
      "0.0756566828290804 0.12065554013730466\n",
      "0.03078307427539719 0.061996498243176816\n",
      "0.010885915105799442 0.022718134572088523\n",
      "0.002040108771425399 0.00454775517963742\n",
      "0.00048402241060503947 0.0011126586787297728\n",
      "0.0001787787260029719 0.0004153006766503286\n",
      "8.813865028510472e-05 0.0002066028367513293\n",
      "5.07878910482934e-05 0.00012003551770914861\n",
      "3.2078121819812566e-05 7.636482537173805e-05\n",
      "2.1552835738504022e-05 5.162123157045384e-05\n"
     ]
    },
    {
     "data": {
      "application/vnd.jupyter.widget-view+json": {
       "model_id": "308aee5fc7474af5b0709fcfaea3e3b3",
       "version_major": 2,
       "version_minor": 0
      },
      "text/plain": [
       "  0%|          | 0/1000 [00:00<?, ?it/s]"
      ]
     },
     "metadata": {},
     "output_type": "display_data"
    },
    {
     "name": "stdout",
     "output_type": "stream",
     "text": [
      "0.22151193726544152 0.21363460693700836\n",
      "0.06623596077750037 0.1114229701889833\n",
      "0.01972011787285883 0.043016957729490914\n",
      "0.004939899674240964 0.01245345129513443\n",
      "0.0013539819041871516 0.003695444662107555\n",
      "0.0004819349441912876 0.001375478337244721\n",
      "0.00021916887326101615 0.0006387510665547322\n",
      "0.0001178891785884616 0.000347729744902354\n",
      "7.072031805468196e-05 0.00021053698813164196\n",
      "4.568639040737981e-05 0.00013711406458009006\n",
      "3.113319367948447e-05 9.411239003713076e-05\n"
     ]
    },
    {
     "data": {
      "application/vnd.jupyter.widget-view+json": {
       "model_id": "be4a2546da06402ca4544b52f5aae9ae",
       "version_major": 2,
       "version_minor": 0
      },
      "text/plain": [
       "  0%|          | 0/1000 [00:00<?, ?it/s]"
      ]
     },
     "metadata": {},
     "output_type": "display_data"
    },
    {
     "name": "stdout",
     "output_type": "stream",
     "text": [
      "0.21655949160142127 0.2099836541036048\n",
      "0.06391897642305512 0.09991564364047349\n",
      "0.022233451140015487 0.04753980018500461\n",
      "0.0071547646645115336 0.016858428601656348\n",
      "0.0017801546019052946 0.0045990247853418716\n",
      "0.000608559349800043 0.0016578642120223652\n",
      "0.0002700499512077819 0.000753604605371241\n",
      "0.00014145667855343152 0.00040070106681849117\n",
      "8.338376870288025e-05 0.0002388663685798165\n",
      "5.345793851148294e-05 0.00015460689453025207\n",
      "3.6394395472363656e-05 0.000106152743340864\n"
     ]
    },
    {
     "data": {
      "application/vnd.jupyter.widget-view+json": {
       "model_id": "a1c1da9542f64decb08f2f11e029b042",
       "version_major": 2,
       "version_minor": 0
      },
      "text/plain": [
       "  0%|          | 0/1000 [00:00<?, ?it/s]"
      ]
     },
     "metadata": {},
     "output_type": "display_data"
    },
    {
     "name": "stdout",
     "output_type": "stream",
     "text": [
      "0.22606942306272645 0.21595570259215094\n",
      "0.06210096669670612 0.10031726548348374\n",
      "0.017296942323135642 0.034709722490649415\n",
      "0.0039012566063895177 0.008709197169245493\n",
      "0.0009283611159869852 0.002255104948828404\n",
      "0.0003355605110612063 0.0008387881962205264\n",
      "0.0001583690008317287 0.0004019575519677182\n",
      "8.725385349002946e-05 0.00022421995173504017\n",
      "5.306598336381873e-05 0.00013791719533703362\n",
      "3.4574978382885665e-05 9.081336813167259e-05\n",
      "2.3703565604527844e-05 6.287371813750067e-05\n"
     ]
    },
    {
     "data": {
      "application/vnd.jupyter.widget-view+json": {
       "model_id": "bbf2ee0ec7e84192bcaef1a1f547f249",
       "version_major": 2,
       "version_minor": 0
      },
      "text/plain": [
       "  0%|          | 0/1000 [00:00<?, ?it/s]"
      ]
     },
     "metadata": {},
     "output_type": "display_data"
    },
    {
     "name": "stdout",
     "output_type": "stream",
     "text": [
      "0.20221692724992268 0.19173987449715735\n",
      "0.05747733549499314 0.1004628221291056\n",
      "0.014833963495330277 0.03302319402124075\n",
      "0.0028510988982279953 0.007704464872777481\n",
      "0.0008491044802228842 0.0025118873009685036\n",
      "0.000361050654431291 0.0011139800683112413\n",
      "0.00018808932111729756 0.0005956125296815732\n",
      "0.00011074810744033017 0.0003573170857015167\n",
      "7.068536689316084e-05 0.00023139493552310652\n",
      "4.77684122840273e-05 0.0001582350250216546\n",
      "3.3690127785999695e-05 0.00011271675952806484\n"
     ]
    },
    {
     "data": {
      "application/vnd.jupyter.widget-view+json": {
       "model_id": "10a385c4adda4ef4a1a636dd4c7f672e",
       "version_major": 2,
       "version_minor": 0
      },
      "text/plain": [
       "  0%|          | 0/1000 [00:00<?, ?it/s]"
      ]
     },
     "metadata": {},
     "output_type": "display_data"
    },
    {
     "name": "stdout",
     "output_type": "stream",
     "text": [
      "0.19561460031692143 0.1945752855323575\n",
      "0.05095436647687713 0.08435309789768877\n",
      "0.014516245774229592 0.030992333645975555\n",
      "0.0036388152470116807 0.009085901705916378\n",
      "0.0011816181323524608 0.003216557833346777\n",
      "0.00048752062239809104 0.0013828400975855752\n",
      "0.00024142007955097144 0.0007007156427780672\n",
      "0.00013676668655161544 0.0004033625901825485\n",
      "8.505614463096704e-05 0.00025402414691120493\n",
      "5.648487779652302e-05 0.00017043311847358538\n",
      "3.935885442692116e-05 0.00011976787492636226\n"
     ]
    },
    {
     "data": {
      "application/vnd.jupyter.widget-view+json": {
       "model_id": "5af66dd2794d4a37b8127078124832f4",
       "version_major": 2,
       "version_minor": 0
      },
      "text/plain": [
       "  0%|          | 0/1000 [00:00<?, ?it/s]"
      ]
     },
     "metadata": {},
     "output_type": "display_data"
    },
    {
     "name": "stdout",
     "output_type": "stream",
     "text": [
      "0.20791804313353549 0.19540123034677928\n",
      "0.0539277132780403 0.0933935250495936\n",
      "0.012748312976326361 0.027523071256977553\n",
      "0.0030775337362095615 0.007302203408918668\n",
      "0.0009282289895073993 0.0023525271355659843\n",
      "0.00038574156392545515 0.0010102861996391247\n",
      "0.00019800020087184673 0.000529033822190883\n",
      "0.00011534299923370875 0.0003129472487006054\n",
      "7.299672680439688e-05 0.00020053504938156102\n",
      "4.898795003144455e-05 0.0001359640467378001\n",
      "3.434658408775039e-05 9.614586926698135e-05\n"
     ]
    }
   ],
   "source": [
    "n = 3\n",
    "d = 2**n\n",
    "rank = 3\n",
    "\n",
    "np.random.seed(42)\n",
    "random.seed(42)\n",
    "tf.random.set_seed(42)\n",
    "\n",
    "kraus_target = KrausMap(d, rank = rank)\n",
    "\n",
    "targets_train1 = generate_map_data(kraus_target, inputs_train1)\n",
    "targets_test1 = generate_map_data(kraus_target, inputs_test1)\n",
    "\n",
    "targets_train2 = generate_map_data(kraus_target, inputs_train2)\n",
    "targets_test2 = generate_map_data(kraus_target, inputs_test2)\n",
    "\n",
    "targets_train3 = generate_map_data(kraus_target, inputs_train3)\n",
    "targets_test3 = generate_map_data(kraus_target, inputs_test3)\n",
    "\n",
    "model_list1 = []\n",
    "model_list2 = []\n",
    "model_list3 = []\n",
    "for i in range(1,7):\n",
    "    np.random.seed(43)\n",
    "    random.seed(43)\n",
    "    tf.random.set_seed(43)\n",
    "\n",
    "    model1 = ModelQuantumMap(channel = KrausMap(d=d, \n",
    "                                               rank=i,                                                  ),\n",
    "                                   loss_function = KLDiv(),\n",
    "                                   optimizer = tf.optimizers.Adam(learning_rate=0.01),\n",
    "                                   logger = Logger(loss_function = KLDiv(),\n",
    "                                                   loss_function_val = KLDiv()),\n",
    "                                   )\n",
    "\n",
    "    model1.train(inputs = inputs_train1,\n",
    "                targets = targets_train1,\n",
    "                inputs_val = inputs_test1,\n",
    "                targets_val = targets_test1,\n",
    "                num_iter = 1000,\n",
    "                N = 500,\n",
    "                )\n",
    "    \n",
    "    model_list1.append(model1)\n",
    "    \n",
    "    np.random.seed(43)\n",
    "    random.seed(43)\n",
    "    tf.random.set_seed(43)\n",
    "    \n",
    "    model2 = ModelQuantumMap(channel = KrausMap(d=d, \n",
    "                                               rank=i,                                                  ),\n",
    "                                   loss_function = KLDiv(),\n",
    "                                   optimizer = tf.optimizers.Adam(learning_rate=0.01),\n",
    "                                   logger = Logger(loss_function = KLDiv(),\n",
    "                                                   loss_function_val = KLDiv()),\n",
    "                                   )\n",
    "\n",
    "    model2.train(inputs = inputs_train2,\n",
    "                targets = targets_train2,\n",
    "                inputs_val = inputs_test2,\n",
    "                targets_val = targets_test2,\n",
    "                num_iter = 1000,\n",
    "                N = 500,\n",
    "                )\n",
    "    \n",
    "    model_list2.append(model2)\n",
    "    \n",
    "    np.random.seed(43)\n",
    "    random.seed(43)\n",
    "    tf.random.set_seed(43)\n",
    "    \n",
    "    model3 = ModelQuantumMap(channel = KrausMap(d=d, \n",
    "                                               rank=i,                                                  ),\n",
    "                                   loss_function = KLDiv(),\n",
    "                                   optimizer = tf.optimizers.Adam(learning_rate=0.01),\n",
    "                                   logger = Logger(loss_function = KLDiv(),\n",
    "                                                   loss_function_val = KLDiv()),\n",
    "                                   )\n",
    "\n",
    "    model3.train(inputs = inputs_train3,\n",
    "                targets = targets_train3,\n",
    "                inputs_val = inputs_test3,\n",
    "                targets_val = targets_test3,\n",
    "                num_iter = 1000,\n",
    "                N = 500,\n",
    "                )\n",
    "    \n",
    "    model_list3.append(model3)\n",
    "    \n",
    "    "
   ]
  },
  {
   "cell_type": "code",
   "execution_count": 27,
   "metadata": {},
   "outputs": [],
   "source": [
    "loss_train1 = [model.logger.loss_train_list[-1] for model in model_list1]\n",
    "loss_test1 = [model.logger.loss_val_list[-1] for model in model_list1]\n",
    "\n",
    "loss_train2 = [model.logger.loss_train_list[-1] for model in model_list2]\n",
    "loss_test2 = [model.logger.loss_val_list[-1] for model in model_list2]\n",
    "\n",
    "loss_train3 = [model.logger.loss_train_list[-1] for model in model_list3]\n",
    "loss_test3 = [model.logger.loss_val_list[-1] for model in model_list3]"
   ]
  },
  {
   "cell_type": "code",
   "execution_count": 29,
   "metadata": {},
   "outputs": [
    {
     "data": {
      "image/png": "[encoded data removed]",
      "text/plain": [
       "<Figure size 640x480 with 1 Axes>"
      ]
     },
     "metadata": {},
     "output_type": "display_data"
    }
   ],
   "source": [
    "x = list(range(1,7))\n",
    "plt.plot(x, np.array(loss_train1))\n",
    "plt.plot(x, np.array(loss_train2))\n",
    "plt.plot(x, np.array(loss_train3))\n",
    "plt.plot(x, np.array(loss_test1))\n",
    "plt.plot(x, np.array(loss_test2))\n",
    "plt.plot(x, np.array(loss_test3))\n",
    "plt.legend([\"Train, normal\", \"Train, optimized\",\"Test, normal\", \"Test, optimized\"])\n",
    "\n",
    "plt.yscale(\"log\")\n",
    "\n",
    "plt.show()"
   ]
  },
  {
   "cell_type": "markdown",
   "metadata": {},
   "source": [
    "## SPAM recovery"
   ]
  },
  {
   "cell_type": "code",
   "execution_count": null,
   "metadata": {},
   "outputs": [],
   "source": []
  }
 ],
 "metadata": {
  "kernelspec": {
   "display_name": "env_qiskit",
   "language": "python",
   "name": "env_qiskit"
  },
  "language_info": {
   "codemirror_mode": {
    "name": "ipython",
    "version": 3
   },
   "file_extension": ".py",
   "mimetype": "text/x-python",
   "name": "python",
   "nbconvert_exporter": "python",
   "pygments_lexer": "ipython3",
   "version": "3.10.4"
  }
 },
 "nbformat": 4,
 "nbformat_minor": 4
}
