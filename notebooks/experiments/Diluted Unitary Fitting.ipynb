{
 "cells": [
  {
   "cell_type": "markdown",
   "metadata": {},
   "source": [
    "# Diluted Unitary Fitting"
   ]
  },
  {
   "cell_type": "code",
   "execution_count": 3,
   "metadata": {},
   "outputs": [],
   "source": [
    "import sys\n",
    "sys.path.insert(0, '../../src_tf/')\n",
    "\n",
    "import numpy as np\n",
    "import qiskit as qk\n",
    "import matplotlib.pyplot as plt\n",
    "import multiprocessing as mp\n",
    "import random\n",
    "import pickle\n",
    "\n",
    "from qiskit.quantum_info import DensityMatrix, random_unitary\n",
    "from qiskit.quantum_info import Operator\n",
    "from scipy.linalg import sqrtm\n",
    "from tqdm.notebook import tqdm\n",
    "from math import ceil\n",
    "\n",
    "from loss_functions import *\n",
    "from optimization import *\n",
    "from quantum_channel import *\n",
    "from kraus_channels import *\n",
    "from quantum_tools import *\n",
    "from experimental import *\n",
    "from spam import *\n",
    "from scipy.stats import gaussian_kde\n",
    "from quantum_circuits import *\n",
    "from analysis import *\n",
    "from utils import *\n",
    "\n",
    "#np.set_printoptions(threshold=sys.maxsize)\n",
    "np.set_printoptions(precision=4)\n",
    "\n",
    "import os\n",
    "os.environ[\"CUDA_VISIBLE_DEVICES\"] = \"-1\""
   ]
  },
  {
   "cell_type": "code",
   "execution_count": 4,
   "metadata": {},
   "outputs": [],
   "source": [
    "def optimize_annulus_distance(spectrum_target = None, \n",
    "                              d = None, \n",
    "                              rank_start = 1, \n",
    "                              rank_step = 1,\n",
    "                              num_iter = 1000,\n",
    "                              lr = 0.001): \n",
    "    \n",
    "    model_list = []\n",
    "    distance_list = []\n",
    "\n",
    "    for rank in range(rank_start, d**2+rank_step, rank_step): \n",
    "        if len(model_list)>0:\n",
    "            c = model_list[0].channel.c\n",
    "        else:\n",
    "            c = 0.5\n",
    "        model = ModelQuantumMap(channel = DilutedKrausMap(U=generate_haar_random(d, rng=rng), \n",
    "                                                          c=c, \n",
    "                                                          kraus_part=KrausMap(d, \n",
    "                                                                              rank=rank, \n",
    "                                                                              trainable=False),\n",
    "                                                     ),\n",
    "                            loss_function = AnnulusDistance(),\n",
    "                            optimizer = tf.optimizers.Adam(learning_rate=lr),\n",
    "                            logger = Logger(loss_function = AnnulusDistance(), \n",
    "                                            verbose=True,),\n",
    "                            )\n",
    "        model.train(inputs = None,\n",
    "                    targets = [spectrum_target],\n",
    "                    num_iter = num_iter,\n",
    "                    \n",
    "                   )\n",
    "\n",
    "        model_list.append(model)\n",
    "        distance_list.append(model.logger.loss_train_list[-1])\n",
    "        idx = np.argmin(distance_list)\n",
    "        \n",
    "        if distance_list[idx]<distance_list[-1]:\n",
    "            print(\"Done!\")\n",
    "            break\n",
    "            \n",
    "    \n",
    "    idx = np.argmin(distance_list)\n",
    "    distance_best = distance_list[idx]\n",
    "    model_best = model_list[idx]\n",
    "\n",
    "    return distance_best, model_best\n",
    "\n",
    "def fit_diluted_unitary(spectrum_target_list, \n",
    "                        d, \n",
    "                        rank_start, \n",
    "                        rank_step,\n",
    "                        num_iter = 1000,\n",
    "                        lr = 0.001):\n",
    "    \n",
    "    distance_best_list = []\n",
    "    model_best_list = []\n",
    "    for spectrum_target in tqdm(spectrum_target_list):\n",
    "        U = generate_haar_random(d, rng) \n",
    "        distance_best, model_best = optimize_annulus_distance(spectrum_target,\n",
    "                                                              d,\n",
    "                                                              rank_start,\n",
    "                                                              rank_step,\n",
    "                                                              num_iter = num_iter,\n",
    "                                                              lr = lr)\n",
    "        distance_best_list.append(distance_best)\n",
    "        model_best_list.append(model_best)\n",
    "    \n",
    "    for model in model_best_list:\n",
    "        model.optimizer = None\n",
    "        \n",
    "    return distance_best_list, model_best_list"
   ]
  },
  {
   "cell_type": "markdown",
   "metadata": {},
   "source": [
    "## Three Qubits"
   ]
  },
  {
   "cell_type": "code",
   "execution_count": 8,
   "metadata": {
    "scrolled": true
   },
   "outputs": [],
   "source": [
    "[channel_list1, channel_list2, channel_list3, channel_list4, channel_list5, channel_list6, channel_list7] = loader(data_path(\"channel_fullRank_belem_longTrain.p\"))\n",
    "\n",
    "spectrum_target_list1 = [channel_spectrum(channel) for channel in channel_list1]\n",
    "spectrum_target_list2 = [channel_spectrum(channel) for channel in channel_list2]\n",
    "spectrum_target_list3 = [channel_spectrum(channel) for channel in channel_list3]\n",
    "spectrum_target_list4 = [channel_spectrum(channel) for channel in channel_list4]\n",
    "spectrum_target_list5 = [channel_spectrum(channel) for channel in channel_list5]\n",
    "spectrum_target_list6 = [channel_spectrum(channel) for channel in channel_list6]\n",
    "spectrum_target_list7 = [channel_spectrum(channel) for channel in channel_list7]"
   ]
  },
  {
   "cell_type": "code",
   "execution_count": 10,
   "metadata": {
    "scrolled": true
   },
   "outputs": [
    {
     "data": {
      "application/vnd.jupyter.widget-view+json": {
       "model_id": "db0b240493dc44b09e9dd5993ff9ad9d",
       "version_major": 2,
       "version_minor": 0
      },
      "text/plain": [
       "  0%|          | 0/10 [00:00<?, ?it/s]"
      ]
     },
     "metadata": {},
     "output_type": "display_data"
    },
    {
     "data": {
      "application/vnd.jupyter.widget-view+json": {
       "model_id": "675eccb5c35e43e599333d245be972e0",
       "version_major": 2,
       "version_minor": 0
      },
      "text/plain": [
       "  0%|          | 0/1000 [00:00<?, ?it/s]"
      ]
     },
     "metadata": {},
     "output_type": "display_data"
    },
    {
     "name": "stdout",
     "output_type": "stream",
     "text": [
      "0.3002943596574898 None\n",
      "0.24838912812754552 None\n",
      "0.20478259098322216 None\n",
      "0.18368825687693538 None\n",
      "0.1375170540985229 None\n",
      "0.1258290534983146 None\n",
      "0.08483153144384839 None\n",
      "0.06148836114199421 None\n",
      "0.03935813165678399 None\n",
      "0.037905488159005726 None\n",
      "0.037913458302756164 None\n"
     ]
    },
    {
     "data": {
      "application/vnd.jupyter.widget-view+json": {
       "model_id": "844379bdb9774e7e80516da5aa8a9692",
       "version_major": 2,
       "version_minor": 0
      },
      "text/plain": [
       "  0%|          | 0/1000 [00:00<?, ?it/s]"
      ]
     },
     "metadata": {},
     "output_type": "display_data"
    },
    {
     "name": "stdout",
     "output_type": "stream",
     "text": [
      "0.02736806415366756 None\n",
      "0.012214088101542968 None\n",
      "0.012138353514836202 None\n",
      "0.012162329146436014 None\n",
      "0.028468315516770037 None\n",
      "0.01214541126551746 None\n",
      "0.012136968966235406 None\n",
      "0.012165074337436351 None\n",
      "0.012137535360292172 None\n",
      "0.02848004963156246 None\n",
      "0.012150703684341325 None\n"
     ]
    },
    {
     "data": {
      "application/vnd.jupyter.widget-view+json": {
       "model_id": "8d063d4a0d464f6d9b07a0fd1fc41f1c",
       "version_major": 2,
       "version_minor": 0
      },
      "text/plain": [
       "  0%|          | 0/1000 [00:00<?, ?it/s]"
      ]
     },
     "metadata": {},
     "output_type": "display_data"
    },
    {
     "name": "stdout",
     "output_type": "stream",
     "text": [
      "0.023784178701148632 None\n",
      "0.008194239844274347 None\n",
      "0.008188194899374248 None\n",
      "0.00820278702212936 None\n",
      "0.008190444979325643 None\n",
      "0.008189174528914076 None\n",
      "0.008199977628741851 None\n",
      "0.008179032586461143 None\n",
      "0.008176742212571506 None\n",
      "0.008187593283858579 None\n",
      "0.00822027129975007 None\n"
     ]
    },
    {
     "data": {
      "application/vnd.jupyter.widget-view+json": {
       "model_id": "419c48f2d9414c1ea8ec29b09a2b5fa3",
       "version_major": 2,
       "version_minor": 0
      },
      "text/plain": [
       "  0%|          | 0/1000 [00:00<?, ?it/s]"
      ]
     },
     "metadata": {},
     "output_type": "display_data"
    },
    {
     "name": "stdout",
     "output_type": "stream",
     "text": [
      "0.024618638149969074 None\n",
      "0.004196321125417021 None\n",
      "0.004024881889207515 None\n",
      "0.004020543745244621 None\n",
      "0.004071618674619392 None\n",
      "0.0040357527706245296 None\n",
      "0.004053492294028734 None\n",
      "0.004032211365428605 None\n",
      "0.004028504618551462 None\n",
      "0.004049542220419502 None\n",
      "0.004016159261703615 None\n"
     ]
    },
    {
     "data": {
      "application/vnd.jupyter.widget-view+json": {
       "model_id": "809735f809bc4ce5acee6fd2c35bc8b2",
       "version_major": 2,
       "version_minor": 0
      },
      "text/plain": [
       "  0%|          | 0/1000 [00:00<?, ?it/s]"
      ]
     },
     "metadata": {},
     "output_type": "display_data"
    },
    {
     "name": "stdout",
     "output_type": "stream",
     "text": [
      "0.02372963081368314 None\n",
      "0.0030327522649865445 None\n",
      "0.002633717781166889 None\n",
      "0.002618715851804504 None\n",
      "0.002599366115193457 None\n",
      "0.002585991688098407 None\n",
      "0.002620781139294898 None\n",
      "0.0025975863653455197 None\n",
      "0.002594592608680291 None\n",
      "0.002584047348460218 None\n",
      "0.0025889516918271346 None\n"
     ]
    },
    {
     "data": {
      "application/vnd.jupyter.widget-view+json": {
       "model_id": "fad5541c281845b9b2e052b70aafa267",
       "version_major": 2,
       "version_minor": 0
      },
      "text/plain": [
       "  0%|          | 0/1000 [00:00<?, ?it/s]"
      ]
     },
     "metadata": {},
     "output_type": "display_data"
    },
    {
     "name": "stdout",
     "output_type": "stream",
     "text": [
      "0.02188913393967566 None\n",
      "0.0037549333418582295 None\n",
      "0.003533981590798055 None\n",
      "0.0035160799273904236 None\n",
      "0.0034963685992568713 None\n",
      "0.0035211348252552036 None\n",
      "0.0034954841117973328 None\n",
      "0.003536388262847062 None\n",
      "0.0034996320179592586 None\n",
      "0.0035014138374550134 None\n",
      "0.0034971936593003426 None\n"
     ]
    },
    {
     "data": {
      "application/vnd.jupyter.widget-view+json": {
       "model_id": "e85e51b81f874355b80a1e1143af427b",
       "version_major": 2,
       "version_minor": 0
      },
      "text/plain": [
       "  0%|          | 0/1000 [00:00<?, ?it/s]"
      ]
     },
     "metadata": {},
     "output_type": "display_data"
    },
    {
     "name": "stdout",
     "output_type": "stream",
     "text": [
      "0.02102756061736855 None\n",
      "0.0019022502201706034 None\n",
      "0.0017498641560297556 None\n",
      "0.001729064706959263 None\n",
      "0.0017419733448555722 None\n",
      "0.0017666667721778625 None\n",
      "0.0017444219954146087 None\n",
      "0.001744985944622482 None\n",
      "0.001746433379145044 None\n",
      "0.00175111317508796 None\n",
      "0.0017481624913731311 None\n"
     ]
    },
    {
     "data": {
      "application/vnd.jupyter.widget-view+json": {
       "model_id": "3324c1cb9a364512a75f4911967441e8",
       "version_major": 2,
       "version_minor": 0
      },
      "text/plain": [
       "  0%|          | 0/1000 [00:00<?, ?it/s]"
      ]
     },
     "metadata": {},
     "output_type": "display_data"
    },
    {
     "name": "stdout",
     "output_type": "stream",
     "text": [
      "0.021857484035771 None\n",
      "0.003498793242507188 None\n",
      "0.003266169921228337 None\n",
      "0.0032670262356244064 None\n",
      "0.0032709240275861674 None\n",
      "0.019616398526737956 None\n",
      "0.019589422457273215 None\n",
      "0.0033412632357652764 None\n",
      "0.019594082533569937 None\n",
      "0.019652280069323062 None\n",
      "0.01958477563071927 None\n",
      "Done!\n"
     ]
    },
    {
     "data": {
      "application/vnd.jupyter.widget-view+json": {
       "model_id": "dede6c4cfb6947919ebe5c20111c648e",
       "version_major": 2,
       "version_minor": 0
      },
      "text/plain": [
       "  0%|          | 0/1000 [00:00<?, ?it/s]"
      ]
     },
     "metadata": {},
     "output_type": "display_data"
    },
    {
     "name": "stdout",
     "output_type": "stream",
     "text": [
      "0.35640443493284096 None\n",
      "0.3175680149574832 None\n",
      "0.25593073006261113 None\n",
      "0.23425927068121707 None\n",
      "0.17003726838473796 None\n",
      "0.1541809773500227 None\n",
      "0.12481597448947145 None\n",
      "0.09866200872863135 None\n",
      "0.09071092357131363 None\n",
      "0.052098694196703106 None\n",
      "0.06518877430399303 None\n"
     ]
    },
    {
     "data": {
      "application/vnd.jupyter.widget-view+json": {
       "model_id": "f994bd793c6a4dc2ac76662d8f73d3d1",
       "version_major": 2,
       "version_minor": 0
      },
      "text/plain": [
       "  0%|          | 0/1000 [00:00<?, ?it/s]"
      ]
     },
     "metadata": {},
     "output_type": "display_data"
    },
    {
     "name": "stdout",
     "output_type": "stream",
     "text": [
      "0.4125690132888027 None\n",
      "0.4125697985088678 None\n",
      "0.4125710539395533 None\n",
      "0.41257686913370156 None\n",
      "0.42832406661336414 None\n",
      "0.41257290584812073 None\n",
      "0.41257064870110194 None\n",
      "0.4125727961028327 None\n",
      "0.4283222764833636 None\n",
      "0.41257367154555685 None\n",
      "0.4125706143512525 None\n",
      "Done!\n"
     ]
    },
    {
     "data": {
      "application/vnd.jupyter.widget-view+json": {
       "model_id": "d8b0bd2cc7fb4df2a951a283e7053dc5",
       "version_major": 2,
       "version_minor": 0
      },
      "text/plain": [
       "  0%|          | 0/1000 [00:00<?, ?it/s]"
      ]
     },
     "metadata": {},
     "output_type": "display_data"
    },
    {
     "name": "stdout",
     "output_type": "stream",
     "text": [
      "0.31498044134025 None\n",
      "0.27959653901709103 None\n",
      "0.2222296385161157 None\n",
      "0.19984992366240692 None\n",
      "0.14945355841917332 None\n",
      "0.11684233258486955 None\n",
      "0.08671948358214607 None\n",
      "0.05899311717266581 None\n",
      "0.033884114613804917 None\n",
      "0.017995466226075327 None\n",
      "0.017895351119087598 None\n"
     ]
    },
    {
     "data": {
      "application/vnd.jupyter.widget-view+json": {
       "model_id": "c331be05746f4c209ec545890f6edaec",
       "version_major": 2,
       "version_minor": 0
      },
      "text/plain": [
       "  0%|          | 0/1000 [00:00<?, ?it/s]"
      ]
     },
     "metadata": {},
     "output_type": "display_data"
    },
    {
     "name": "stdout",
     "output_type": "stream",
     "text": [
      "0.4394967042074824 None\n",
      "0.41966933122695704 None\n",
      "0.43494199302963615 None\n",
      "0.418556681229945 None\n",
      "0.4348686614602541 None\n",
      "0.4185562506614772 None\n",
      "0.418556250673967 None\n",
      "0.434868661347464 None\n",
      "0.4185562506578116 None\n",
      "0.43486866134775815 None\n",
      "0.4185562506463029 None\n",
      "Done!\n"
     ]
    },
    {
     "data": {
      "application/vnd.jupyter.widget-view+json": {
       "model_id": "66a05aaa38b54183a027ae093b804326",
       "version_major": 2,
       "version_minor": 0
      },
      "text/plain": [
       "  0%|          | 0/1000 [00:00<?, ?it/s]"
      ]
     },
     "metadata": {},
     "output_type": "display_data"
    },
    {
     "name": "stdout",
     "output_type": "stream",
     "text": [
      "0.3387251922902367 None\n",
      "0.2909813456740958 None\n",
      "0.2460822198284416 None\n",
      "0.21038499276372352 None\n",
      "0.1786450046912565 None\n",
      "0.14922724597363496 None\n",
      "0.12136946982163158 None\n",
      "0.09559773347970026 None\n",
      "0.07160847582451735 None\n",
      "0.033122942730522076 None\n",
      "0.031183068368845174 None\n"
     ]
    },
    {
     "data": {
      "application/vnd.jupyter.widget-view+json": {
       "model_id": "10f1228a8a4f49588d505cbda02cf5d4",
       "version_major": 2,
       "version_minor": 0
      },
      "text/plain": [
       "  0%|          | 0/1000 [00:00<?, ?it/s]"
      ]
     },
     "metadata": {},
     "output_type": "display_data"
    },
    {
     "name": "stdout",
     "output_type": "stream",
     "text": [
      "0.40481038665604685 None\n",
      "0.4193758456455761 None\n",
      "0.3954656157737113 None\n",
      "0.3889004771953215 None\n",
      "0.29111449824715946 None\n",
      "0.25992999897184266 None\n",
      "0.20441894567016045 None\n",
      "0.18637533740341794 None\n",
      "0.1380885830234972 None\n",
      "0.10788497305420454 None\n",
      "0.08034483125593683 None\n"
     ]
    },
    {
     "data": {
      "application/vnd.jupyter.widget-view+json": {
       "model_id": "fdcbb3e5e0b24ad0a0012f1dc3a631d6",
       "version_major": 2,
       "version_minor": 0
      },
      "text/plain": [
       "  0%|          | 0/1000 [00:00<?, ?it/s]"
      ]
     },
     "metadata": {},
     "output_type": "display_data"
    },
    {
     "name": "stdout",
     "output_type": "stream",
     "text": [
      "0.44858702500559794 None\n",
      "0.4296774046069755 None\n",
      "0.42939114537206513 None\n",
      "0.4294805207383798 None\n",
      "0.42939260520357403 None\n",
      "0.4294982145144907 None\n",
      "0.42945623757722834 None\n",
      "0.4295424017408612 None\n",
      "0.42938960525486514 None\n",
      "0.42938923818993324 None\n",
      "0.42939386631648235 None\n",
      "Done!\n"
     ]
    },
    {
     "data": {
      "application/vnd.jupyter.widget-view+json": {
       "model_id": "8eafb1b08bed447f982e62200e75d9ae",
       "version_major": 2,
       "version_minor": 0
      },
      "text/plain": [
       "  0%|          | 0/1000 [00:00<?, ?it/s]"
      ]
     },
     "metadata": {},
     "output_type": "display_data"
    },
    {
     "name": "stdout",
     "output_type": "stream",
     "text": [
      "0.35828801962198575 None\n",
      "0.297330214257073 None\n",
      "0.2654663648605737 None\n",
      "0.21755944554172632 None\n",
      "0.1855876159165499 None\n",
      "0.17214015587144613 None\n",
      "0.12795923421045496 None\n",
      "0.1003850789465986 None\n",
      "0.07549776923698319 None\n",
      "0.05320503299365225 None\n",
      "0.03271441533258619 None\n"
     ]
    },
    {
     "data": {
      "application/vnd.jupyter.widget-view+json": {
       "model_id": "2e7ef0882a544625a41d4c375283c358",
       "version_major": 2,
       "version_minor": 0
      },
      "text/plain": [
       "  0%|          | 0/1000 [00:00<?, ?it/s]"
      ]
     },
     "metadata": {},
     "output_type": "display_data"
    },
    {
     "name": "stdout",
     "output_type": "stream",
     "text": [
      "0.02849057851026832 None\n",
      "0.009034647469818077 None\n",
      "0.008955040576970151 None\n",
      "0.008956198403774651 None\n",
      "0.00898287995517087 None\n",
      "0.008957602925200226 None\n",
      "0.008967485187980382 None\n",
      "0.008957394702932543 None\n",
      "0.008963942864821373 None\n",
      "0.009000231985342583 None\n",
      "0.00895650898778 None\n"
     ]
    },
    {
     "data": {
      "application/vnd.jupyter.widget-view+json": {
       "model_id": "e6c40316e2694f3eabc9830e84788f81",
       "version_major": 2,
       "version_minor": 0
      },
      "text/plain": [
       "  0%|          | 0/1000 [00:00<?, ?it/s]"
      ]
     },
     "metadata": {},
     "output_type": "display_data"
    },
    {
     "name": "stdout",
     "output_type": "stream",
     "text": [
      "0.018287146977710424 None\n",
      "0.007688185993151561 None\n",
      "0.0076791431164923915 None\n",
      "0.0077058493242374996 None\n",
      "0.007700291591397955 None\n",
      "0.00768485907850529 None\n",
      "0.007665708631740008 None\n",
      "0.007702196044562775 None\n",
      "0.007670740731497158 None\n",
      "0.007657305354402111 None\n",
      "0.0076767935638536195 None\n"
     ]
    },
    {
     "data": {
      "application/vnd.jupyter.widget-view+json": {
       "model_id": "1aebd94ba4d74e0fa52bc44d0527a5fc",
       "version_major": 2,
       "version_minor": 0
      },
      "text/plain": [
       "  0%|          | 0/1000 [00:00<?, ?it/s]"
      ]
     },
     "metadata": {},
     "output_type": "display_data"
    },
    {
     "name": "stdout",
     "output_type": "stream",
     "text": [
      "0.018633751331492712 None\n",
      "0.005570155258125597 None\n",
      "0.005579026375103083 None\n",
      "0.005555643302092058 None\n",
      "0.005602793790835511 None\n",
      "0.0055917674151413745 None\n",
      "0.005594947829825851 None\n",
      "0.005589822701963704 None\n",
      "0.00556831641554198 None\n",
      "0.005570446565541642 None\n",
      "0.005575381579587419 None\n"
     ]
    },
    {
     "data": {
      "application/vnd.jupyter.widget-view+json": {
       "model_id": "aca9301cad2f4a4c9e407a3d625b5e6c",
       "version_major": 2,
       "version_minor": 0
      },
      "text/plain": [
       "  0%|          | 0/1000 [00:00<?, ?it/s]"
      ]
     },
     "metadata": {},
     "output_type": "display_data"
    },
    {
     "name": "stdout",
     "output_type": "stream",
     "text": [
      "0.024785618653088336 None\n",
      "0.00950431814236847 None\n",
      "0.009519301491210188 None\n",
      "0.009554260975073302 None\n",
      "0.009506841907654544 None\n",
      "0.009502500529561591 None\n",
      "0.009512700273996297 None\n",
      "0.009498334423805328 None\n",
      "0.009514539916825293 None\n",
      "0.009506864002927426 None\n",
      "0.009593220053467718 None\n"
     ]
    },
    {
     "data": {
      "application/vnd.jupyter.widget-view+json": {
       "model_id": "a5b008d39a864836821eeec84c2bdf5a",
       "version_major": 2,
       "version_minor": 0
      },
      "text/plain": [
       "  0%|          | 0/1000 [00:00<?, ?it/s]"
      ]
     },
     "metadata": {},
     "output_type": "display_data"
    },
    {
     "name": "stdout",
     "output_type": "stream",
     "text": [
      "0.023632708455478983 None\n",
      "0.020264730697148153 None\n",
      "0.020329198907212798 None\n",
      "0.0048261566446176 None\n",
      "0.004831143256911339 None\n",
      "0.020287837525598325 None\n",
      "0.004862045985682145 None\n",
      "0.004831105015809072 None\n",
      "0.020296397577062347 None\n",
      "0.004890173473639594 None\n",
      "0.020294225444164524 None\n"
     ]
    },
    {
     "data": {
      "application/vnd.jupyter.widget-view+json": {
       "model_id": "3a6ef2542e714a29b24a1116b5f325f3",
       "version_major": 2,
       "version_minor": 0
      },
      "text/plain": [
       "  0%|          | 0/1000 [00:00<?, ?it/s]"
      ]
     },
     "metadata": {},
     "output_type": "display_data"
    },
    {
     "name": "stdout",
     "output_type": "stream",
     "text": [
      "0.01762818281453388 None\n",
      "0.0017472238468288436 None\n",
      "0.0017033034022415272 None\n",
      "0.0016728700865633235 None\n",
      "0.0016927149270421142 None\n",
      "0.0016609928463924217 None\n",
      "0.0016997930854745842 None\n",
      "0.0016621032370494895 None\n",
      "0.0016720821338610129 None\n",
      "0.0016988109270299296 None\n",
      "0.0016647754795106767 None\n"
     ]
    },
    {
     "data": {
      "application/vnd.jupyter.widget-view+json": {
       "model_id": "0e2c12d8504c44888e04609a2996f31b",
       "version_major": 2,
       "version_minor": 0
      },
      "text/plain": [
       "  0%|          | 0/1000 [00:00<?, ?it/s]"
      ]
     },
     "metadata": {},
     "output_type": "display_data"
    },
    {
     "name": "stdout",
     "output_type": "stream",
     "text": [
      "0.032049532311324846 None\n",
      "0.032326523345703476 None\n",
      "0.032273840093175826 None\n",
      "0.015937187307865495 None\n",
      "0.015952205256367206 None\n",
      "0.03230050443448061 None\n",
      "0.015952534307754607 None\n",
      "0.01594451098239612 None\n",
      "0.03227320423121697 None\n",
      "0.032304031776527714 None\n",
      "0.015990498469938285 None\n",
      "Done!\n"
     ]
    },
    {
     "data": {
      "application/vnd.jupyter.widget-view+json": {
       "model_id": "a4f22d8c11be42349b1c9c5ac1488a24",
       "version_major": 2,
       "version_minor": 0
      },
      "text/plain": [
       "  0%|          | 0/1000 [00:00<?, ?it/s]"
      ]
     },
     "metadata": {},
     "output_type": "display_data"
    },
    {
     "name": "stdout",
     "output_type": "stream",
     "text": [
      "0.29434878289701866 None\n",
      "0.270137753525548 None\n",
      "0.21470197234485444 None\n",
      "0.17687525917222377 None\n",
      "0.14208226208468633 None\n",
      "0.11148856084925327 None\n",
      "0.0840115324245665 None\n",
      "0.059049264230279064 None\n",
      "0.036029717194560586 None\n",
      "0.02458703020108786 None\n",
      "0.024562113787667525 None\n"
     ]
    },
    {
     "data": {
      "application/vnd.jupyter.widget-view+json": {
       "model_id": "4f462375aad14e169142fe9a99f0b768",
       "version_major": 2,
       "version_minor": 0
      },
      "text/plain": [
       "  0%|          | 0/1000 [00:00<?, ?it/s]"
      ]
     },
     "metadata": {},
     "output_type": "display_data"
    },
    {
     "name": "stdout",
     "output_type": "stream",
     "text": [
      "0.42423882714196093 None\n",
      "0.41653878358573004 None\n",
      "0.40734158237683965 None\n",
      "0.4066593656381483 None\n",
      "0.40665934142134674 None\n",
      "0.4066593412924645 None\n",
      "0.4216771677316406 None\n",
      "0.4066593413498716 None\n",
      "0.40665934127794046 None\n",
      "0.40665934132284165 None\n",
      "0.4066593413578182 None\n",
      "Done!\n"
     ]
    },
    {
     "data": {
      "application/vnd.jupyter.widget-view+json": {
       "model_id": "9ae16582fda74d77ae4377cb21a48345",
       "version_major": 2,
       "version_minor": 0
      },
      "text/plain": [
       "  0%|          | 0/1000 [00:00<?, ?it/s]"
      ]
     },
     "metadata": {},
     "output_type": "display_data"
    },
    {
     "name": "stdout",
     "output_type": "stream",
     "text": [
      "0.3671352686892048 None\n",
      "0.3610570551026433 None\n",
      "0.36091567966688887 None\n",
      "0.3773628645740713 None\n",
      "0.36116516985596825 None\n",
      "0.37745816989527364 None\n",
      "0.37762594739560174 None\n",
      "0.3615615507562836 None\n",
      "0.37728793074271005 None\n",
      "0.3774228886610342 None\n",
      "0.36106894760487457 None\n"
     ]
    },
    {
     "data": {
      "application/vnd.jupyter.widget-view+json": {
       "model_id": "0a87e8f5e5274bbfb887bccadb64661c",
       "version_major": 2,
       "version_minor": 0
      },
      "text/plain": [
       "  0%|          | 0/1000 [00:00<?, ?it/s]"
      ]
     },
     "metadata": {},
     "output_type": "display_data"
    },
    {
     "name": "stdout",
     "output_type": "stream",
     "text": [
      "0.28104979541440817 None\n",
      "0.24682624592739733 None\n",
      "0.21370332171575912 None\n",
      "0.1817801250052708 None\n",
      "0.15251481285867907 None\n",
      "0.1258328005696856 None\n",
      "0.10044118335195021 None\n",
      "0.07609948919991237 None\n",
      "0.05279548722689436 None\n",
      "0.030612219331170563 None\n",
      "0.013694966980499712 None\n"
     ]
    },
    {
     "data": {
      "application/vnd.jupyter.widget-view+json": {
       "model_id": "9d6da4a2708b43c09d812c433ec7658e",
       "version_major": 2,
       "version_minor": 0
      },
      "text/plain": [
       "  0%|          | 0/1000 [00:00<?, ?it/s]"
      ]
     },
     "metadata": {},
     "output_type": "display_data"
    },
    {
     "name": "stdout",
     "output_type": "stream",
     "text": [
      "0.24650718115455195 None\n",
      "0.21752824594065195 None\n",
      "0.18881174626866207 None\n",
      "0.16055127055150517 None\n",
      "0.13297097328756521 None\n",
      "0.10638505627198161 None\n",
      "0.08108253975150652 None\n",
      "0.057339248192463194 None\n",
      "0.034928244087428145 None\n",
      "0.013677935428972537 None\n",
      "0.011204685920544138 None\n"
     ]
    },
    {
     "data": {
      "application/vnd.jupyter.widget-view+json": {
       "model_id": "daeaefe1d23045c6b4dad510cef5b465",
       "version_major": 2,
       "version_minor": 0
      },
      "text/plain": [
       "  0%|          | 0/1000 [00:00<?, ?it/s]"
      ]
     },
     "metadata": {},
     "output_type": "display_data"
    },
    {
     "name": "stdout",
     "output_type": "stream",
     "text": [
      "0.23851833114713944 None\n",
      "0.2101805069776255 None\n",
      "0.18196773649362777 None\n",
      "0.15421822229478974 None\n",
      "0.12730573841730075 None\n",
      "0.101424880409532 None\n",
      "0.07658745612035574 None\n",
      "0.052817168497675704 None\n",
      "0.030164582140741265 None\n",
      "0.008677055735665224 None\n",
      "0.005771621937082328 None\n"
     ]
    },
    {
     "data": {
      "application/vnd.jupyter.widget-view+json": {
       "model_id": "bde5acafabcc4df590cec1083a74a0bc",
       "version_major": 2,
       "version_minor": 0
      },
      "text/plain": [
       "  0%|          | 0/1000 [00:00<?, ?it/s]"
      ]
     },
     "metadata": {},
     "output_type": "display_data"
    },
    {
     "name": "stdout",
     "output_type": "stream",
     "text": [
      "0.24742885429412234 None\n",
      "0.21902008159064187 None\n",
      "0.1911064329514465 None\n",
      "0.14756870502768116 None\n",
      "0.13742808812491372 None\n",
      "0.09556768371635564 None\n",
      "0.0873029751006126 None\n",
      "0.047526441172673524 None\n",
      "0.025186886233861058 None\n",
      "0.004008668995733744 None\n",
      "0.0024287117945243466 None\n"
     ]
    },
    {
     "data": {
      "application/vnd.jupyter.widget-view+json": {
       "model_id": "134f4cac52994a1b837f2cb3a21b59ac",
       "version_major": 2,
       "version_minor": 0
      },
      "text/plain": [
       "  0%|          | 0/1000 [00:00<?, ?it/s]"
      ]
     },
     "metadata": {},
     "output_type": "display_data"
    },
    {
     "name": "stdout",
     "output_type": "stream",
     "text": [
      "0.24758879063624809 None\n",
      "0.2187188903719 None\n",
      "0.19025393068901222 None\n",
      "0.16236260814008183 None\n",
      "0.13538847081294753 None\n",
      "0.10936344860435962 None\n",
      "0.08429231838446503 None\n",
      "0.06028966580532468 None\n",
      "0.03748253100532488 None\n",
      "0.01589183663923148 None\n",
      "0.008341199073519273 None\n"
     ]
    },
    {
     "data": {
      "application/vnd.jupyter.widget-view+json": {
       "model_id": "a3316ff76493497993ecf025f1601d76",
       "version_major": 2,
       "version_minor": 0
      },
      "text/plain": [
       "  0%|          | 0/1000 [00:00<?, ?it/s]"
      ]
     },
     "metadata": {},
     "output_type": "display_data"
    },
    {
     "name": "stdout",
     "output_type": "stream",
     "text": [
      "0.23300399045378986 None\n",
      "0.20519519064775074 None\n",
      "0.1939408308214991 None\n",
      "0.1668663263109284 None\n",
      "0.1404459287045816 None\n",
      "0.0991695437542304 None\n",
      "0.07481871098664745 None\n",
      "0.05143168299851289 None\n",
      "0.029127726602747133 None\n",
      "0.007960592694774225 None\n",
      "0.0064839388198689295 None\n"
     ]
    },
    {
     "data": {
      "application/vnd.jupyter.widget-view+json": {
       "model_id": "d97cfbe522d94743923e56e196286212",
       "version_major": 2,
       "version_minor": 0
      },
      "text/plain": [
       "  0%|          | 0/1000 [00:00<?, ?it/s]"
      ]
     },
     "metadata": {},
     "output_type": "display_data"
    },
    {
     "name": "stdout",
     "output_type": "stream",
     "text": [
      "0.24777390548826903 None\n",
      "0.21990728550173058 None\n",
      "0.1760408782551183 None\n",
      "0.14895768216905061 None\n",
      "0.1388401505251831 None\n",
      "0.09692666041608015 None\n",
      "0.08858343832345408 None\n",
      "0.04867938943267739 None\n",
      "0.04251413956604655 None\n",
      "0.004902848219688169 None\n",
      "0.00411745302553761 None\n"
     ]
    },
    {
     "data": {
      "application/vnd.jupyter.widget-view+json": {
       "model_id": "420019688e3747d592f46c677d72d7f7",
       "version_major": 2,
       "version_minor": 0
      },
      "text/plain": [
       "  0%|          | 0/1000 [00:00<?, ?it/s]"
      ]
     },
     "metadata": {},
     "output_type": "display_data"
    },
    {
     "name": "stdout",
     "output_type": "stream",
     "text": [
      "0.250463680106888 None\n",
      "0.22248335039765238 None\n",
      "0.19475093071915967 None\n",
      "0.1674845690329681 None\n",
      "0.12457794594258265 None\n",
      "0.11512439334229821 None\n",
      "0.074080630156255 None\n",
      "0.050466389229956235 None\n",
      "0.027960712041153923 None\n",
      "0.006612352816704945 None\n",
      "0.004185575194344443 None\n"
     ]
    },
    {
     "data": {
      "application/vnd.jupyter.widget-view+json": {
       "model_id": "13e9748738104e6292190b74df096383",
       "version_major": 2,
       "version_minor": 0
      },
      "text/plain": [
       "  0%|          | 0/1000 [00:00<?, ?it/s]"
      ]
     },
     "metadata": {},
     "output_type": "display_data"
    },
    {
     "name": "stdout",
     "output_type": "stream",
     "text": [
      "0.23862837948930063 None\n",
      "0.2103502454855374 None\n",
      "0.18244350475753943 None\n",
      "0.15509272353178505 None\n",
      "0.12844973145274435 None\n",
      "0.10266483957130357 None\n",
      "0.07786600147209953 None\n",
      "0.05415423537334035 None\n",
      "0.031599473377373524 None\n",
      "0.010239229030344226 None\n",
      "0.006802829181905999 None\n"
     ]
    },
    {
     "data": {
      "application/vnd.jupyter.widget-view+json": {
       "model_id": "11a9dc0d8701468c8873559c86c95207",
       "version_major": 2,
       "version_minor": 0
      },
      "text/plain": [
       "  0%|          | 0/1000 [00:00<?, ?it/s]"
      ]
     },
     "metadata": {},
     "output_type": "display_data"
    },
    {
     "name": "stdout",
     "output_type": "stream",
     "text": [
      "0.2346166982810835 None\n",
      "0.20678633373670344 None\n",
      "0.17918500614214236 None\n",
      "0.15203634820214038 None\n",
      "0.12553990409128318 None\n",
      "0.09986480354184223 None\n",
      "0.07514450849754825 None\n",
      "0.051477796044727124 None\n",
      "0.028933790538852085 None\n",
      "0.007554880966455681 None\n",
      "0.005068704962903554 None\n"
     ]
    },
    {
     "data": {
      "application/vnd.jupyter.widget-view+json": {
       "model_id": "c78dc1ed4616409dad3feb74404c562b",
       "version_major": 2,
       "version_minor": 0
      },
      "text/plain": [
       "  0%|          | 0/1000 [00:00<?, ?it/s]"
      ]
     },
     "metadata": {},
     "output_type": "display_data"
    },
    {
     "name": "stdout",
     "output_type": "stream",
     "text": [
      "0.23385355364025728 None\n",
      "0.2057667079320569 None\n",
      "0.17798160551218736 None\n",
      "0.15069428954974634 None\n",
      "0.12408441442376122 None\n",
      "0.09830889375530594 None\n",
      "0.07349697468711369 None\n",
      "0.04974849983121716 None\n",
      "0.02713426887829786 None\n",
      "0.005697040266565008 None\n",
      "0.0007282165494432585 None\n"
     ]
    },
    {
     "data": {
      "application/vnd.jupyter.widget-view+json": {
       "model_id": "e6a7be80202e4415ba88c78fff21f572",
       "version_major": 2,
       "version_minor": 0
      },
      "text/plain": [
       "  0%|          | 0/1000 [00:00<?, ?it/s]"
      ]
     },
     "metadata": {},
     "output_type": "display_data"
    },
    {
     "name": "stdout",
     "output_type": "stream",
     "text": [
      "0.2342323210369341 None\n",
      "0.20645295097237257 None\n",
      "0.17885521936232388 None\n",
      "0.1517058621904449 None\n",
      "0.1252093437395227 None\n",
      "0.09953110106993902 None\n",
      "0.07480566694852403 None\n",
      "0.051137274218551625 None\n",
      "0.028598967989678977 None\n",
      "0.007234555673812012 None\n",
      "0.0039263336362694206 None\n",
      "Done!\n"
     ]
    },
    {
     "data": {
      "application/vnd.jupyter.widget-view+json": {
       "model_id": "79746e57ebe1431abad36c63f6f85dda",
       "version_major": 2,
       "version_minor": 0
      },
      "text/plain": [
       "  0%|          | 0/1000 [00:00<?, ?it/s]"
      ]
     },
     "metadata": {},
     "output_type": "display_data"
    },
    {
     "name": "stdout",
     "output_type": "stream",
     "text": [
      "0.2547819577954125 None\n",
      "0.24784536244260444 None\n",
      "0.19004110177529446 None\n",
      "0.156343243973282 None\n",
      "0.12533033345466543 None\n",
      "0.11319166323914887 None\n",
      "0.08627332408362474 None\n",
      "0.06072883098720508 None\n",
      "0.03886145090922581 None\n",
      "0.022117524684068073 None\n",
      "0.022101780380683764 None\n"
     ]
    },
    {
     "data": {
      "application/vnd.jupyter.widget-view+json": {
       "model_id": "7f4bcf0db9f54d059226425158369bc9",
       "version_major": 2,
       "version_minor": 0
      },
      "text/plain": [
       "  0%|          | 0/1000 [00:00<?, ?it/s]"
      ]
     },
     "metadata": {},
     "output_type": "display_data"
    },
    {
     "name": "stdout",
     "output_type": "stream",
     "text": [
      "0.43236761701884346 None\n",
      "0.4313079689895507 None\n",
      "0.4312148866227358 None\n",
      "0.41576906074714326 None\n",
      "0.43121488503105654 None\n",
      "0.43121488502742733 None\n",
      "0.4458025929363937 None\n",
      "0.41576906132825164 None\n",
      "0.4157690626995652 None\n",
      "0.4312148850443483 None\n",
      "0.4157690611256372 None\n",
      "Done!\n"
     ]
    },
    {
     "data": {
      "application/vnd.jupyter.widget-view+json": {
       "model_id": "ed8c95d0ed9f47c8b45b65d79ac7ccb8",
       "version_major": 2,
       "version_minor": 0
      },
      "text/plain": [
       "  0%|          | 0/1000 [00:00<?, ?it/s]"
      ]
     },
     "metadata": {},
     "output_type": "display_data"
    },
    {
     "name": "stdout",
     "output_type": "stream",
     "text": [
      "0.29361775941967017 None\n",
      "0.2802348310401336 None\n",
      "0.2390189478567129 None\n",
      "0.20000480223155176 None\n",
      "0.16357015636302868 None\n",
      "0.1295887230091285 None\n",
      "0.0833909287228634 None\n",
      "0.055914175103734795 None\n",
      "0.030594193261193173 None\n",
      "0.026576012225811525 None\n",
      "0.026556889663185982 None\n"
     ]
    },
    {
     "data": {
      "application/vnd.jupyter.widget-view+json": {
       "model_id": "43f17fc0662f4426bb273119cdd9e7da",
       "version_major": 2,
       "version_minor": 0
      },
      "text/plain": [
       "  0%|          | 0/1000 [00:00<?, ?it/s]"
      ]
     },
     "metadata": {},
     "output_type": "display_data"
    },
    {
     "name": "stdout",
     "output_type": "stream",
     "text": [
      "0.47108794009055877 None\n",
      "0.4511142517116844 None\n",
      "0.4510638899913725 None\n",
      "0.4510638882278572 None\n",
      "0.4510638874935625 None\n",
      "0.45106388749412996 None\n",
      "0.45106388751788073 None\n",
      "0.4510638876553986 None\n",
      "0.4510638875002454 None\n",
      "0.4661079914293607 None\n",
      "0.4510638877484825 None\n",
      "Done!\n"
     ]
    },
    {
     "data": {
      "application/vnd.jupyter.widget-view+json": {
       "model_id": "5f8627c1edcb410199e622fc1dbb6840",
       "version_major": 2,
       "version_minor": 0
      },
      "text/plain": [
       "  0%|          | 0/1000 [00:00<?, ?it/s]"
      ]
     },
     "metadata": {},
     "output_type": "display_data"
    },
    {
     "name": "stdout",
     "output_type": "stream",
     "text": [
      "0.3589569537881189 None\n",
      "0.2962374754278352 None\n",
      "0.24353696615132284 None\n",
      "0.2232256338449513 None\n",
      "0.1761875381890718 None\n",
      "0.14904897035634723 None\n",
      "0.12414322961248656 None\n",
      "0.09988422803756253 None\n",
      "0.07679320576012051 None\n",
      "0.054780587670367455 None\n",
      "0.033291855354119465 None\n"
     ]
    },
    {
     "data": {
      "application/vnd.jupyter.widget-view+json": {
       "model_id": "0595b9d3710940e483acc45088fd69c5",
       "version_major": 2,
       "version_minor": 0
      },
      "text/plain": [
       "  0%|          | 0/1000 [00:00<?, ?it/s]"
      ]
     },
     "metadata": {},
     "output_type": "display_data"
    },
    {
     "name": "stdout",
     "output_type": "stream",
     "text": [
      "0.016013329047891087 None\n",
      "0.009433414085962885 None\n",
      "0.009451219916451006 None\n",
      "0.009482586322252053 None\n",
      "0.009434738256264496 None\n",
      "0.009446991098473695 None\n",
      "0.009436374272103315 None\n",
      "0.009428175551240378 None\n",
      "0.009434801357611227 None\n",
      "0.009454408243074615 None\n",
      "0.009463803979521205 None\n"
     ]
    },
    {
     "data": {
      "application/vnd.jupyter.widget-view+json": {
       "model_id": "3fb36878146f4494a1a1fd5239aef253",
       "version_major": 2,
       "version_minor": 0
      },
      "text/plain": [
       "  0%|          | 0/1000 [00:00<?, ?it/s]"
      ]
     },
     "metadata": {},
     "output_type": "display_data"
    },
    {
     "name": "stdout",
     "output_type": "stream",
     "text": [
      "0.02748901236911097 None\n",
      "0.008555785802835196 None\n",
      "0.008576043114029076 None\n",
      "0.008574987624182165 None\n",
      "0.008588170940764885 None\n",
      "0.008556602222779635 None\n",
      "0.008579337596114841 None\n",
      "0.008555263446885964 None\n",
      "0.02489266922067982 None\n",
      "0.008588135035428301 None\n",
      "0.008565042951819458 None\n"
     ]
    },
    {
     "data": {
      "application/vnd.jupyter.widget-view+json": {
       "model_id": "9d95fe4e4d5545948ec7e5a9805aca80",
       "version_major": 2,
       "version_minor": 0
      },
      "text/plain": [
       "  0%|          | 0/1000 [00:00<?, ?it/s]"
      ]
     },
     "metadata": {},
     "output_type": "display_data"
    },
    {
     "name": "stdout",
     "output_type": "stream",
     "text": [
      "0.014836238492409873 None\n",
      "0.010966624940867935 None\n",
      "0.010900907821850792 None\n",
      "0.010935512561022242 None\n",
      "0.010972512589977444 None\n",
      "0.010902084297522846 None\n",
      "0.010938675211186247 None\n",
      "0.010966877415930732 None\n",
      "0.010907083844062426 None\n",
      "0.01094424310940408 None\n",
      "0.010958660919585151 None\n"
     ]
    },
    {
     "data": {
      "application/vnd.jupyter.widget-view+json": {
       "model_id": "8a548caa002b4e1c80945c9b2b87d71d",
       "version_major": 2,
       "version_minor": 0
      },
      "text/plain": [
       "  0%|          | 0/1000 [00:00<?, ?it/s]"
      ]
     },
     "metadata": {},
     "output_type": "display_data"
    },
    {
     "name": "stdout",
     "output_type": "stream",
     "text": [
      "0.010644554462933196 None\n",
      "0.007456549953684356 None\n",
      "0.007472746165872078 None\n",
      "0.007505011447618105 None\n",
      "0.007462876801730981 None\n",
      "0.00746984682635299 None\n",
      "0.007480732808511148 None\n",
      "0.007475474873005539 None\n",
      "0.007476672614937015 None\n",
      "0.0074821064911205284 None\n",
      "0.007499767057541871 None\n"
     ]
    },
    {
     "data": {
      "application/vnd.jupyter.widget-view+json": {
       "model_id": "79b576a0aec3416db2c6ff653a6f5677",
       "version_major": 2,
       "version_minor": 0
      },
      "text/plain": [
       "  0%|          | 0/1000 [00:00<?, ?it/s]"
      ]
     },
     "metadata": {},
     "output_type": "display_data"
    },
    {
     "name": "stdout",
     "output_type": "stream",
     "text": [
      "0.00656404157964476 None\n",
      "0.0059030449374129455 None\n",
      "0.005904583754827669 None\n",
      "0.005905834168290464 None\n",
      "0.00588967933783718 None\n",
      "0.005899140826692795 None\n",
      "0.005887740360023971 None\n",
      "0.005896196382449703 None\n",
      "0.005923209548763249 None\n",
      "0.005925253110515304 None\n",
      "0.005896759508601785 None\n"
     ]
    },
    {
     "data": {
      "application/vnd.jupyter.widget-view+json": {
       "model_id": "258faa79543c49c79123d32fc62d670a",
       "version_major": 2,
       "version_minor": 0
      },
      "text/plain": [
       "  0%|          | 0/1000 [00:00<?, ?it/s]"
      ]
     },
     "metadata": {},
     "output_type": "display_data"
    },
    {
     "name": "stdout",
     "output_type": "stream",
     "text": [
      "0.002305681444933071 None\n",
      "0.0021595792093112823 None\n",
      "0.002131299550867065 None\n",
      "0.002130834335539537 None\n",
      "0.0021720712165327356 None\n",
      "0.002197958488989634 None\n",
      "0.0021272939023872406 None\n",
      "0.0021290664197770913 None\n",
      "0.0021271800658534414 None\n",
      "0.0021769270951126174 None\n",
      "0.0021939677959489957 None\n"
     ]
    },
    {
     "data": {
      "application/vnd.jupyter.widget-view+json": {
       "model_id": "14bbe180db4c4a24a307f238d0a2c126",
       "version_major": 2,
       "version_minor": 0
      },
      "text/plain": [
       "  0%|          | 0/1000 [00:00<?, ?it/s]"
      ]
     },
     "metadata": {},
     "output_type": "display_data"
    },
    {
     "name": "stdout",
     "output_type": "stream",
     "text": [
      "0.005705003989001464 None\n",
      "0.0051425479860262215 None\n",
      "0.005127106898471523 None\n",
      "0.005118233033585799 None\n",
      "0.005183882023035885 None\n",
      "0.005179524929828636 None\n",
      "0.005148821019628044 None\n",
      "0.00514857858652042 None\n",
      "0.005161890907878899 None\n",
      "0.0051473639019008754 None\n",
      "0.005114171374000106 None\n"
     ]
    },
    {
     "data": {
      "application/vnd.jupyter.widget-view+json": {
       "model_id": "13a0da5a3223455085be5e5e973fc524",
       "version_major": 2,
       "version_minor": 0
      },
      "text/plain": [
       "  0%|          | 0/1000 [00:00<?, ?it/s]"
      ]
     },
     "metadata": {},
     "output_type": "display_data"
    },
    {
     "name": "stdout",
     "output_type": "stream",
     "text": [
      "0.005537121485165098 None\n",
      "0.005202850738309759 None\n",
      "0.00521164420592453 None\n",
      "0.005198823725371771 None\n",
      "0.005204598319563823 None\n",
      "0.005218986930899403 None\n",
      "0.005230868909151222 None\n",
      "0.0052642125627451 None\n",
      "0.005237444992775539 None\n",
      "0.005271767271455284 None\n",
      "0.005249145631794896 None\n"
     ]
    },
    {
     "data": {
      "application/vnd.jupyter.widget-view+json": {
       "model_id": "3557ed8ae647459a8851d71073eda8a3",
       "version_major": 2,
       "version_minor": 0
      },
      "text/plain": [
       "  0%|          | 0/1000 [00:00<?, ?it/s]"
      ]
     },
     "metadata": {},
     "output_type": "display_data"
    },
    {
     "name": "stdout",
     "output_type": "stream",
     "text": [
      "0.00555282194086321 None\n",
      "0.004771004381292205 None\n",
      "0.004757504394064935 None\n",
      "0.004781138207251134 None\n",
      "0.004774218593123301 None\n",
      "0.004751334588055414 None\n",
      "0.0047457394865277865 None\n",
      "0.004753431261405695 None\n",
      "0.0047583796383106666 None\n",
      "0.004752287135327278 None\n",
      "0.004743402391447928 None\n"
     ]
    },
    {
     "data": {
      "application/vnd.jupyter.widget-view+json": {
       "model_id": "7017b36e8b4e4304b7444ca7b304c9eb",
       "version_major": 2,
       "version_minor": 0
      },
      "text/plain": [
       "  0%|          | 0/1000 [00:00<?, ?it/s]"
      ]
     },
     "metadata": {},
     "output_type": "display_data"
    },
    {
     "name": "stdout",
     "output_type": "stream",
     "text": [
      "0.0026274441402955218 None\n",
      "0.0016303706271981716 None\n",
      "0.0016144409288583396 None\n",
      "0.0016186851532924745 None\n",
      "0.0016129496034627657 None\n",
      "0.00162100671677395 None\n",
      "0.0016559543618777997 None\n",
      "0.001641801730905401 None\n",
      "0.001630561517918471 None\n",
      "0.001611519297722974 None\n",
      "0.001621480284866043 None\n"
     ]
    },
    {
     "data": {
      "application/vnd.jupyter.widget-view+json": {
       "model_id": "1fba23d5f3464510b1f3f3750bfb105a",
       "version_major": 2,
       "version_minor": 0
      },
      "text/plain": [
       "  0%|          | 0/1000 [00:00<?, ?it/s]"
      ]
     },
     "metadata": {},
     "output_type": "display_data"
    },
    {
     "name": "stdout",
     "output_type": "stream",
     "text": [
      "0.0018541859240618214 None\n",
      "0.01767987486182222 None\n",
      "0.0013728343566981782 None\n",
      "0.0013518804242510477 None\n",
      "0.017695193847050532 None\n",
      "0.001387010697054842 None\n",
      "0.01770052520611809 None\n",
      "0.017692028194521963 None\n",
      "0.0014308000567921574 None\n",
      "0.0013636765555851778 None\n",
      "0.001370034614298119 None\n"
     ]
    },
    {
     "data": {
      "application/vnd.jupyter.widget-view+json": {
       "model_id": "18ee72521123406faaa23056b7473810",
       "version_major": 2,
       "version_minor": 0
      },
      "text/plain": [
       "  0%|          | 0/1000 [00:00<?, ?it/s]"
      ]
     },
     "metadata": {},
     "output_type": "display_data"
    },
    {
     "name": "stdout",
     "output_type": "stream",
     "text": [
      "0.0018224011971919273 None\n",
      "0.0009768025897201366 None\n",
      "0.0009241024207237205 None\n",
      "0.0009228821394939627 None\n",
      "0.0009480233471613363 None\n",
      "0.0009034119102037495 None\n",
      "0.0008960967103166318 None\n",
      "0.0009247063252797956 None\n",
      "0.0009116872274688853 None\n",
      "0.0009445772397152932 None\n",
      "0.0009489671584236139 None\n"
     ]
    },
    {
     "data": {
      "application/vnd.jupyter.widget-view+json": {
       "model_id": "20d6cf9c8091472dac7e54018b8bc3bf",
       "version_major": 2,
       "version_minor": 0
      },
      "text/plain": [
       "  0%|          | 0/1000 [00:00<?, ?it/s]"
      ]
     },
     "metadata": {},
     "output_type": "display_data"
    },
    {
     "name": "stdout",
     "output_type": "stream",
     "text": [
      "0.0013417626657505378 None\n",
      "0.0008058520594482763 None\n",
      "0.0007688746034733126 None\n",
      "0.000855250581248142 None\n",
      "0.0007696862020765869 None\n",
      "0.0007449281863304842 None\n",
      "0.0007661787786384415 None\n",
      "0.0007402802992693423 None\n",
      "0.000756287639986312 None\n",
      "0.0007480041673849423 None\n",
      "0.0007589109942692279 None\n"
     ]
    },
    {
     "data": {
      "application/vnd.jupyter.widget-view+json": {
       "model_id": "62176fa73b2c42a7a5fd367d0d377aaa",
       "version_major": 2,
       "version_minor": 0
      },
      "text/plain": [
       "  0%|          | 0/1000 [00:00<?, ?it/s]"
      ]
     },
     "metadata": {},
     "output_type": "display_data"
    },
    {
     "name": "stdout",
     "output_type": "stream",
     "text": [
      "0.005775727658946176 None\n",
      "0.0037972930616154317 None\n",
      "0.0038692445533752414 None\n",
      "0.0037792082957726616 None\n",
      "0.0037979358083098575 None\n",
      "0.003789078081478514 None\n",
      "0.003792273129106325 None\n",
      "0.0037961999704752163 None\n",
      "0.0038027321600876203 None\n",
      "0.00379441614487589 None\n",
      "0.003814926946226933 None\n",
      "Done!\n"
     ]
    }
   ],
   "source": [
    "n = 3\n",
    "d = 2**n\n",
    "\n",
    "np.random.seed(42)\n",
    "random.seed(42)\n",
    "tf.random.set_seed(42)\n",
    "rng = np.random.default_rng(seed=42)\n",
    "\n",
    "distance_best_list, model_best_list = fit_diluted_unitary(spectrum_target_list1, \n",
    "                                                          d=d, \n",
    "                                                          rank_start=1, \n",
    "                                                          rank_step=1,\n",
    "                                                          num_iter = 1000,\n",
    "                                                         )\n",
    "\n",
    "saver([distance_best_list, model_best_list], data_path(\"diluted_fitting_8layer.model\"))"
   ]
  },
  {
   "cell_type": "code",
   "execution_count": 11,
   "metadata": {
    "scrolled": true
   },
   "outputs": [
    {
     "data": {
      "application/vnd.jupyter.widget-view+json": {
       "model_id": "63b59301098148c9b80920b258d89eb0",
       "version_major": 2,
       "version_minor": 0
      },
      "text/plain": [
       "  0%|          | 0/10 [00:00<?, ?it/s]"
      ]
     },
     "metadata": {},
     "output_type": "display_data"
    },
    {
     "data": {
      "application/vnd.jupyter.widget-view+json": {
       "model_id": "ac78a9e2282e418cbeeebb8347e5102d",
       "version_major": 2,
       "version_minor": 0
      },
      "text/plain": [
       "  0%|          | 0/1000 [00:00<?, ?it/s]"
      ]
     },
     "metadata": {},
     "output_type": "display_data"
    },
    {
     "name": "stdout",
     "output_type": "stream",
     "text": [
      "0.020721186801084628 None\n",
      "0.004716536950984276 None\n",
      "0.004687704153113991 None\n",
      "0.004698283086504492 None\n",
      "0.004677117888232848 None\n",
      "0.004709187388755473 None\n",
      "0.004670030845179595 None\n",
      "0.0046728034876462165 None\n",
      "0.004698958987577027 None\n",
      "0.00467597439346852 None\n",
      "0.004708099780371658 None\n"
     ]
    },
    {
     "data": {
      "application/vnd.jupyter.widget-view+json": {
       "model_id": "781aef9807854cb39e334680669302eb",
       "version_major": 2,
       "version_minor": 0
      },
      "text/plain": [
       "  0%|          | 0/1000 [00:00<?, ?it/s]"
      ]
     },
     "metadata": {},
     "output_type": "display_data"
    },
    {
     "name": "stdout",
     "output_type": "stream",
     "text": [
      "0.004778098115815989 None\n",
      "0.0026184824309006295 None\n",
      "0.002584676876820174 None\n",
      "0.0025874275552148986 None\n",
      "0.0026101016918631515 None\n",
      "0.0026227251230063454 None\n",
      "0.0025914915223684775 None\n",
      "0.0025860081296860756 None\n",
      "0.0026234729906034885 None\n",
      "0.0026044742182862054 None\n",
      "0.002608190302301437 None\n"
     ]
    },
    {
     "data": {
      "application/vnd.jupyter.widget-view+json": {
       "model_id": "0ff9e75cfc7041ac932e883d47feb223",
       "version_major": 2,
       "version_minor": 0
      },
      "text/plain": [
       "  0%|          | 0/1000 [00:00<?, ?it/s]"
      ]
     },
     "metadata": {},
     "output_type": "display_data"
    },
    {
     "name": "stdout",
     "output_type": "stream",
     "text": [
      "0.010174369938820763 None\n",
      "0.007795957528059292 None\n",
      "0.0077850343399817005 None\n",
      "0.0078022548536725534 None\n",
      "0.007809583784226808 None\n",
      "0.007780503374289054 None\n",
      "0.007755458197887359 None\n",
      "0.007774896086447259 None\n",
      "0.007762785243697655 None\n",
      "0.007779918655550564 None\n",
      "0.0077534130502692165 None\n"
     ]
    },
    {
     "data": {
      "application/vnd.jupyter.widget-view+json": {
       "model_id": "5d3e3a72a0c44096bf5659b8f296d458",
       "version_major": 2,
       "version_minor": 0
      },
      "text/plain": [
       "  0%|          | 0/1000 [00:00<?, ?it/s]"
      ]
     },
     "metadata": {},
     "output_type": "display_data"
    },
    {
     "name": "stdout",
     "output_type": "stream",
     "text": [
      "0.0038829231732267835 None\n",
      "0.0030936654976111222 None\n",
      "0.0031015150138630314 None\n",
      "0.0031292529537793757 None\n",
      "0.0031079636985773115 None\n",
      "0.003103312261062682 None\n",
      "0.0030895679475056673 None\n",
      "0.003104888114165048 None\n",
      "0.003088477974083445 None\n",
      "0.003097568247909105 None\n",
      "0.003106888030251443 None\n"
     ]
    },
    {
     "data": {
      "application/vnd.jupyter.widget-view+json": {
       "model_id": "3c671136bc554f4199e6a8a2cda998a9",
       "version_major": 2,
       "version_minor": 0
      },
      "text/plain": [
       "  0%|          | 0/1000 [00:00<?, ?it/s]"
      ]
     },
     "metadata": {},
     "output_type": "display_data"
    },
    {
     "name": "stdout",
     "output_type": "stream",
     "text": [
      "0.006684735850042903 None\n",
      "0.005398887350877207 None\n",
      "0.005397211464472259 None\n",
      "0.0053893058624891535 None\n",
      "0.005365232414123103 None\n",
      "0.005350531347962318 None\n",
      "0.005431352790840525 None\n",
      "0.005402379748899157 None\n",
      "0.005371029520744969 None\n",
      "0.005342915050379408 None\n",
      "0.005333351068013269 None\n"
     ]
    },
    {
     "data": {
      "application/vnd.jupyter.widget-view+json": {
       "model_id": "500f98f071ff4959ab9972c249fe6758",
       "version_major": 2,
       "version_minor": 0
      },
      "text/plain": [
       "  0%|          | 0/1000 [00:00<?, ?it/s]"
      ]
     },
     "metadata": {},
     "output_type": "display_data"
    },
    {
     "name": "stdout",
     "output_type": "stream",
     "text": [
      "0.004623320941610857 None\n",
      "0.00460644011054757 None\n",
      "0.004654252547129978 None\n",
      "0.004609729774587324 None\n",
      "0.0046369578910152535 None\n",
      "0.004689356017941159 None\n",
      "0.004636180655569101 None\n",
      "0.004637879202913739 None\n",
      "0.004666178050989566 None\n",
      "0.00462986309090848 None\n",
      "0.00463875447713817 None\n"
     ]
    },
    {
     "data": {
      "application/vnd.jupyter.widget-view+json": {
       "model_id": "19a8ba486c9a407a9096a1cba60ec3d4",
       "version_major": 2,
       "version_minor": 0
      },
      "text/plain": [
       "  0%|          | 0/1000 [00:00<?, ?it/s]"
      ]
     },
     "metadata": {},
     "output_type": "display_data"
    },
    {
     "name": "stdout",
     "output_type": "stream",
     "text": [
      "0.002539412683980009 None\n",
      "0.0025125256465795874 None\n",
      "0.0025182960610357153 None\n",
      "0.002516226729176597 None\n",
      "0.002519356256856506 None\n",
      "0.002521057942917796 None\n",
      "0.0025519531913560274 None\n",
      "0.00255843334556919 None\n",
      "0.0025901728875872563 None\n",
      "0.0025122065816736124 None\n",
      "0.0025112671838980055 None\n"
     ]
    },
    {
     "data": {
      "application/vnd.jupyter.widget-view+json": {
       "model_id": "fe90a3ca6f5245cdb0ac4882a05a1130",
       "version_major": 2,
       "version_minor": 0
      },
      "text/plain": [
       "  0%|          | 0/1000 [00:00<?, ?it/s]"
      ]
     },
     "metadata": {},
     "output_type": "display_data"
    },
    {
     "name": "stdout",
     "output_type": "stream",
     "text": [
      "0.019263304592506733 None\n",
      "0.0015552931587032755 None\n",
      "0.0015786659185913691 None\n",
      "0.017878420255892192 None\n",
      "0.017869202761537167 None\n",
      "0.0015620284526643713 None\n",
      "0.0015489923191878282 None\n",
      "0.017907473632810776 None\n",
      "0.0015541497880579378 None\n",
      "0.0015606568885599141 None\n",
      "0.0015736517236175503 None\n"
     ]
    },
    {
     "data": {
      "application/vnd.jupyter.widget-view+json": {
       "model_id": "2ef7f2b97df04b5f98e990336c047ce9",
       "version_major": 2,
       "version_minor": 0
      },
      "text/plain": [
       "  0%|          | 0/1000 [00:00<?, ?it/s]"
      ]
     },
     "metadata": {},
     "output_type": "display_data"
    },
    {
     "name": "stdout",
     "output_type": "stream",
     "text": [
      "0.005324914469873682 None\n",
      "0.004339837519143472 None\n",
      "0.004417132509259201 None\n",
      "0.0044059551076381445 None\n",
      "0.0043546865600908 None\n",
      "0.004338874887170886 None\n",
      "0.004333776778537363 None\n",
      "0.0044057213165532745 None\n",
      "0.0044382831609093305 None\n",
      "0.004395405907269008 None\n",
      "0.004340743844231346 None\n"
     ]
    },
    {
     "data": {
      "application/vnd.jupyter.widget-view+json": {
       "model_id": "28b8917640454dd99444b6cf6b365811",
       "version_major": 2,
       "version_minor": 0
      },
      "text/plain": [
       "  0%|          | 0/1000 [00:00<?, ?it/s]"
      ]
     },
     "metadata": {},
     "output_type": "display_data"
    },
    {
     "name": "stdout",
     "output_type": "stream",
     "text": [
      "0.026835695967654616 None\n",
      "0.026136222426120917 None\n",
      "0.026157684812171976 None\n",
      "0.02608969349807292 None\n",
      "0.026125484948108464 None\n",
      "0.026102877860691213 None\n",
      "0.01067914513090006 None\n",
      "0.02609509693025277 None\n",
      "0.01075040409467913 None\n",
      "0.026114929066521284 None\n",
      "0.026097212814357045 None\n",
      "Done!\n"
     ]
    },
    {
     "data": {
      "application/vnd.jupyter.widget-view+json": {
       "model_id": "4ad3e922c25e4fe8a662e6458381c6f3",
       "version_major": 2,
       "version_minor": 0
      },
      "text/plain": [
       "  0%|          | 0/1000 [00:00<?, ?it/s]"
      ]
     },
     "metadata": {},
     "output_type": "display_data"
    },
    {
     "name": "stdout",
     "output_type": "stream",
     "text": [
      "0.0174703024889196 None\n",
      "0.011244844389897181 None\n",
      "0.011204110149009912 None\n",
      "0.011211401376650804 None\n",
      "0.011207117108660401 None\n",
      "0.011209658587180902 None\n",
      "0.011216301974843102 None\n",
      "0.011244813556430706 None\n",
      "0.011225090551053057 None\n",
      "0.011215355545797615 None\n",
      "0.011204542699446665 None\n"
     ]
    },
    {
     "data": {
      "application/vnd.jupyter.widget-view+json": {
       "model_id": "e5592f82a50c452a85d70d4c2fa05e8d",
       "version_major": 2,
       "version_minor": 0
      },
      "text/plain": [
       "  0%|          | 0/1000 [00:00<?, ?it/s]"
      ]
     },
     "metadata": {},
     "output_type": "display_data"
    },
    {
     "name": "stdout",
     "output_type": "stream",
     "text": [
      "0.005641543723476902 None\n",
      "0.004748890773679959 None\n",
      "0.004723327208669886 None\n",
      "0.004742595277805024 None\n",
      "0.00477093464699473 None\n",
      "0.00468714671458634 None\n",
      "0.004715259212123192 None\n",
      "0.004759782756746899 None\n",
      "0.004804294894112979 None\n",
      "0.004685145533853811 None\n",
      "0.004697238459138533 None\n"
     ]
    },
    {
     "data": {
      "application/vnd.jupyter.widget-view+json": {
       "model_id": "d9905c03f31844d9ba49ee1b75ee89be",
       "version_major": 2,
       "version_minor": 0
      },
      "text/plain": [
       "  0%|          | 0/1000 [00:00<?, ?it/s]"
      ]
     },
     "metadata": {},
     "output_type": "display_data"
    },
    {
     "name": "stdout",
     "output_type": "stream",
     "text": [
      "0.006271954539267002 None\n",
      "0.020126417033781343 None\n",
      "0.020094777078850032 None\n",
      "0.004679922342001135 None\n",
      "0.02011434980409895 None\n",
      "0.0046677213452445835 None\n",
      "0.004664154171824909 None\n",
      "0.004661379503096525 None\n",
      "0.02008765900530281 None\n",
      "0.004668296094332995 None\n",
      "0.02012212010585756 None\n",
      "Done!\n"
     ]
    },
    {
     "data": {
      "application/vnd.jupyter.widget-view+json": {
       "model_id": "4e240010e18943ecbb48e67a34b0aae0",
       "version_major": 2,
       "version_minor": 0
      },
      "text/plain": [
       "  0%|          | 0/1000 [00:00<?, ?it/s]"
      ]
     },
     "metadata": {},
     "output_type": "display_data"
    },
    {
     "name": "stdout",
     "output_type": "stream",
     "text": [
      "0.016979504571463272 None\n",
      "0.004860228239891273 None\n",
      "0.004875138566424891 None\n",
      "0.004914939885177504 None\n",
      "0.004850632819994269 None\n",
      "0.004852499663026552 None\n",
      "0.004852570062924911 None\n",
      "0.004851427624034746 None\n",
      "0.004866287959160099 None\n",
      "0.004874114602791444 None\n",
      "0.0048625515929180164 None\n"
     ]
    },
    {
     "data": {
      "application/vnd.jupyter.widget-view+json": {
       "model_id": "4a787acd85f14d0db0cbcdb8656469ee",
       "version_major": 2,
       "version_minor": 0
      },
      "text/plain": [
       "  0%|          | 0/1000 [00:00<?, ?it/s]"
      ]
     },
     "metadata": {},
     "output_type": "display_data"
    },
    {
     "name": "stdout",
     "output_type": "stream",
     "text": [
      "0.009796822656227087 None\n",
      "0.008888282025259705 None\n",
      "0.00889046412461726 None\n",
      "0.008876112428368771 None\n",
      "0.008881718809851816 None\n",
      "0.008882664821622284 None\n",
      "0.008895147442246372 None\n",
      "0.00893293601341827 None\n",
      "0.008914897980668447 None\n",
      "0.008899504191425378 None\n",
      "0.008886105547002116 None\n"
     ]
    },
    {
     "data": {
      "application/vnd.jupyter.widget-view+json": {
       "model_id": "9f5b2b4d461e4d4da49336ba6440896c",
       "version_major": 2,
       "version_minor": 0
      },
      "text/plain": [
       "  0%|          | 0/1000 [00:00<?, ?it/s]"
      ]
     },
     "metadata": {},
     "output_type": "display_data"
    },
    {
     "name": "stdout",
     "output_type": "stream",
     "text": [
      "0.005433156813828019 None\n",
      "0.00411858899863867 None\n",
      "0.004062512961042541 None\n",
      "0.004042034898759128 None\n",
      "0.004058988259489378 None\n",
      "0.004102372344920396 None\n",
      "0.004044096021589094 None\n",
      "0.004054717892003545 None\n",
      "0.004058851839715346 None\n",
      "0.004040900768899491 None\n",
      "0.0040591637611754935 None\n"
     ]
    },
    {
     "data": {
      "application/vnd.jupyter.widget-view+json": {
       "model_id": "ba12c5deae6647ec8d967f59b73dcf67",
       "version_major": 2,
       "version_minor": 0
      },
      "text/plain": [
       "  0%|          | 0/1000 [00:00<?, ?it/s]"
      ]
     },
     "metadata": {},
     "output_type": "display_data"
    },
    {
     "name": "stdout",
     "output_type": "stream",
     "text": [
      "0.003799714069411391 None\n",
      "0.0018452972320144561 None\n",
      "0.0019270378346607658 None\n",
      "0.0018858088096110612 None\n",
      "0.0019312266394883905 None\n",
      "0.001888786836934502 None\n",
      "0.0018779210107957049 None\n",
      "0.0018982481758291986 None\n",
      "0.0018566540558828677 None\n",
      "0.0018467770600433535 None\n",
      "0.0018742280249699193 None\n"
     ]
    },
    {
     "data": {
      "application/vnd.jupyter.widget-view+json": {
       "model_id": "d9871f6df732497aac3f245fca8d8c8b",
       "version_major": 2,
       "version_minor": 0
      },
      "text/plain": [
       "  0%|          | 0/1000 [00:00<?, ?it/s]"
      ]
     },
     "metadata": {},
     "output_type": "display_data"
    },
    {
     "name": "stdout",
     "output_type": "stream",
     "text": [
      "0.006657922876862697 None\n",
      "0.003704874644131619 None\n",
      "0.0037625417766988167 None\n",
      "0.003686965133466294 None\n",
      "0.0037008962369669187 None\n",
      "0.0037392624950422725 None\n",
      "0.0037307366381152595 None\n",
      "0.0037770188193007653 None\n",
      "0.0037257044650842236 None\n",
      "0.003712451950795897 None\n",
      "0.003728493599870485 None\n"
     ]
    },
    {
     "data": {
      "application/vnd.jupyter.widget-view+json": {
       "model_id": "70fca66a1e034b929ea16154755cf2f5",
       "version_major": 2,
       "version_minor": 0
      },
      "text/plain": [
       "  0%|          | 0/1000 [00:00<?, ?it/s]"
      ]
     },
     "metadata": {},
     "output_type": "display_data"
    },
    {
     "name": "stdout",
     "output_type": "stream",
     "text": [
      "0.005062515941471767 None\n",
      "0.0035815960013311854 None\n",
      "0.003616336751626708 None\n",
      "0.0036249472396328087 None\n",
      "0.0036086706601615504 None\n",
      "0.0037022749049552706 None\n",
      "0.0036068709431340837 None\n",
      "0.0036075727800655186 None\n",
      "0.003600992503873136 None\n",
      "0.003611657364193057 None\n",
      "0.0035956652881415168 None\n"
     ]
    },
    {
     "data": {
      "application/vnd.jupyter.widget-view+json": {
       "model_id": "a633944daf434be98da3bca4d9145efd",
       "version_major": 2,
       "version_minor": 0
      },
      "text/plain": [
       "  0%|          | 0/1000 [00:00<?, ?it/s]"
      ]
     },
     "metadata": {},
     "output_type": "display_data"
    },
    {
     "name": "stdout",
     "output_type": "stream",
     "text": [
      "0.0023255825545288747 None\n",
      "0.001335799773722575 None\n",
      "0.00139353083691396 None\n",
      "0.0013663904907430023 None\n",
      "0.0013490127252383615 None\n",
      "0.001335136939341483 None\n",
      "0.0013743008600030377 None\n",
      "0.001369956757391814 None\n",
      "0.001371065830367407 None\n",
      "0.0014264010775306437 None\n",
      "0.0013398852714257433 None\n"
     ]
    },
    {
     "data": {
      "application/vnd.jupyter.widget-view+json": {
       "model_id": "b56499f8a007481389d3a92e4904e5a5",
       "version_major": 2,
       "version_minor": 0
      },
      "text/plain": [
       "  0%|          | 0/1000 [00:00<?, ?it/s]"
      ]
     },
     "metadata": {},
     "output_type": "display_data"
    },
    {
     "name": "stdout",
     "output_type": "stream",
     "text": [
      "0.008357312232255505 None\n",
      "0.0071560213628882145 None\n",
      "0.0072551369965622595 None\n",
      "0.007147629713419825 None\n",
      "0.00715869575275404 None\n",
      "0.007169766322683472 None\n",
      "0.007136512810752717 None\n",
      "0.00719343869672451 None\n",
      "0.007171428576104425 None\n",
      "0.007160930137104977 None\n",
      "0.007230592794183252 None\n",
      "Done!\n"
     ]
    },
    {
     "data": {
      "application/vnd.jupyter.widget-view+json": {
       "model_id": "7a86481a37a747e4a6eb938e5eb9ac04",
       "version_major": 2,
       "version_minor": 0
      },
      "text/plain": [
       "  0%|          | 0/1000 [00:00<?, ?it/s]"
      ]
     },
     "metadata": {},
     "output_type": "display_data"
    },
    {
     "name": "stdout",
     "output_type": "stream",
     "text": [
      "0.02081985980625882 None\n",
      "0.019606757809896763 None\n",
      "0.004125288284449147 None\n",
      "0.0041372590650976745 None\n",
      "0.004124363268323258 None\n",
      "0.004116383406562465 None\n",
      "0.0041413916876817045 None\n",
      "0.004113420540285728 None\n",
      "0.019634222899426033 None\n",
      "0.004154874297478678 None\n",
      "0.004136375108300485 None\n"
     ]
    },
    {
     "data": {
      "application/vnd.jupyter.widget-view+json": {
       "model_id": "f73f770b76d54b64b7890b9de2ed51c9",
       "version_major": 2,
       "version_minor": 0
      },
      "text/plain": [
       "  0%|          | 0/1000 [00:00<?, ?it/s]"
      ]
     },
     "metadata": {},
     "output_type": "display_data"
    },
    {
     "name": "stdout",
     "output_type": "stream",
     "text": [
      "0.006071456700730023 None\n",
      "0.0029063366210905837 None\n",
      "0.0029039056206923144 None\n",
      "0.002920273957694527 None\n",
      "0.0029035675492799532 None\n",
      "0.0029849544996812787 None\n",
      "0.0029343895855527572 None\n",
      "0.0029045628479663728 None\n",
      "0.0029087730709650367 None\n",
      "0.0028995006775944087 None\n",
      "0.0029164490411480878 None\n"
     ]
    },
    {
     "data": {
      "application/vnd.jupyter.widget-view+json": {
       "model_id": "f625d29ffabd454a89145f127e0b6993",
       "version_major": 2,
       "version_minor": 0
      },
      "text/plain": [
       "  0%|          | 0/1000 [00:00<?, ?it/s]"
      ]
     },
     "metadata": {},
     "output_type": "display_data"
    },
    {
     "name": "stdout",
     "output_type": "stream",
     "text": [
      "0.0165477732879575 None\n",
      "0.016462437098396055 None\n",
      "0.016543184078560678 None\n",
      "0.016463228293606507 None\n",
      "0.032876117094902985 None\n",
      "0.03279222693528892 None\n",
      "0.03287655575586147 None\n",
      "0.03278979050343954 None\n",
      "0.016544666088495676 None\n",
      "0.01646032814796076 None\n",
      "0.016544291567489926 None\n",
      "Done!\n"
     ]
    },
    {
     "data": {
      "application/vnd.jupyter.widget-view+json": {
       "model_id": "7d1d51cfc56f4253b299a1d940944d97",
       "version_major": 2,
       "version_minor": 0
      },
      "text/plain": [
       "  0%|          | 0/1000 [00:00<?, ?it/s]"
      ]
     },
     "metadata": {},
     "output_type": "display_data"
    },
    {
     "name": "stdout",
     "output_type": "stream",
     "text": [
      "0.011902350938634416 None\n",
      "0.007184352939158064 None\n",
      "0.007161604864122454 None\n",
      "0.007194657178250005 None\n",
      "0.007182884048049566 None\n",
      "0.0071962033921834515 None\n",
      "0.0072705570242653315 None\n",
      "0.007196651516341419 None\n",
      "0.007192530997268163 None\n",
      "0.0072684383263358085 None\n",
      "0.007195258167298673 None\n"
     ]
    },
    {
     "data": {
      "application/vnd.jupyter.widget-view+json": {
       "model_id": "a218231e5e7d464fb1b18fa13f81baeb",
       "version_major": 2,
       "version_minor": 0
      },
      "text/plain": [
       "  0%|          | 0/1000 [00:00<?, ?it/s]"
      ]
     },
     "metadata": {},
     "output_type": "display_data"
    },
    {
     "name": "stdout",
     "output_type": "stream",
     "text": [
      "0.012643985078735667 None\n",
      "0.025750882459191698 None\n",
      "0.00943552636001226 None\n",
      "0.00941833053049176 None\n",
      "0.009496486636947953 None\n",
      "0.02573242781750194 None\n",
      "0.009415706165579314 None\n",
      "0.00946698043509458 None\n",
      "0.009469480146833777 None\n",
      "0.009424222778917376 None\n",
      "0.02579793319967694 None\n"
     ]
    },
    {
     "data": {
      "application/vnd.jupyter.widget-view+json": {
       "model_id": "1f394fe2b32c4285ad2a7ff7a1f28120",
       "version_major": 2,
       "version_minor": 0
      },
      "text/plain": [
       "  0%|          | 0/1000 [00:00<?, ?it/s]"
      ]
     },
     "metadata": {},
     "output_type": "display_data"
    },
    {
     "name": "stdout",
     "output_type": "stream",
     "text": [
      "0.004950468902940481 None\n",
      "0.002186101985999775 None\n",
      "0.002171687627963796 None\n",
      "0.0022104365849234696 None\n",
      "0.002152218390111873 None\n",
      "0.002230012943157005 None\n",
      "0.002155018748617861 None\n",
      "0.00215896975618623 None\n",
      "0.0022091263666326093 None\n",
      "0.002183205719458963 None\n",
      "0.0022476549110270723 None\n"
     ]
    },
    {
     "data": {
      "application/vnd.jupyter.widget-view+json": {
       "model_id": "c6cc817c3b9f402c86a71b560861536a",
       "version_major": 2,
       "version_minor": 0
      },
      "text/plain": [
       "  0%|          | 0/1000 [00:00<?, ?it/s]"
      ]
     },
     "metadata": {},
     "output_type": "display_data"
    },
    {
     "name": "stdout",
     "output_type": "stream",
     "text": [
      "0.007894712094428148 None\n",
      "0.004693534583570034 None\n",
      "0.0047015541984735025 None\n",
      "0.00471873355562297 None\n",
      "0.004693120083056782 None\n",
      "0.0047033362343582765 None\n",
      "0.0047055624923894425 None\n",
      "0.004764207815754236 None\n",
      "0.004671966975761501 None\n",
      "0.00468467522353697 None\n",
      "0.00467467785660886 None\n"
     ]
    },
    {
     "data": {
      "application/vnd.jupyter.widget-view+json": {
       "model_id": "234d184b5c9443bdb96a2c8f18d01fbf",
       "version_major": 2,
       "version_minor": 0
      },
      "text/plain": [
       "  0%|          | 0/1000 [00:00<?, ?it/s]"
      ]
     },
     "metadata": {},
     "output_type": "display_data"
    },
    {
     "name": "stdout",
     "output_type": "stream",
     "text": [
      "0.007308763922157029 None\n",
      "0.00503960811854718 None\n",
      "0.004995321479309511 None\n",
      "0.004943214942062941 None\n",
      "0.004943122254650936 None\n",
      "0.0049968760316717745 None\n",
      "0.0049699016753976515 None\n",
      "0.004965085814291489 None\n",
      "0.004951805540609083 None\n",
      "0.004954756672335496 None\n",
      "0.005027178148080763 None\n"
     ]
    },
    {
     "data": {
      "application/vnd.jupyter.widget-view+json": {
       "model_id": "98ab90c1393846478d6fd08f81fd885e",
       "version_major": 2,
       "version_minor": 0
      },
      "text/plain": [
       "  0%|          | 0/1000 [00:00<?, ?it/s]"
      ]
     },
     "metadata": {},
     "output_type": "display_data"
    },
    {
     "name": "stdout",
     "output_type": "stream",
     "text": [
      "0.012253107662508641 None\n",
      "0.005930078345730866 None\n",
      "0.005848939893640012 None\n",
      "0.005880839107554278 None\n",
      "0.005863662592720944 None\n",
      "0.005882878009672254 None\n",
      "0.005850160898928827 None\n",
      "0.005850988803403359 None\n",
      "0.005871725621217206 None\n",
      "0.0058786002439028 None\n",
      "0.0058533687037844616 None\n"
     ]
    },
    {
     "data": {
      "application/vnd.jupyter.widget-view+json": {
       "model_id": "af0a979b37ae4d8c974a094bd5d9086a",
       "version_major": 2,
       "version_minor": 0
      },
      "text/plain": [
       "  0%|          | 0/1000 [00:00<?, ?it/s]"
      ]
     },
     "metadata": {},
     "output_type": "display_data"
    },
    {
     "name": "stdout",
     "output_type": "stream",
     "text": [
      "0.0036830958633086936 None\n",
      "0.001669488444236224 None\n",
      "0.0016744231361055725 None\n",
      "0.0016331886027018115 None\n",
      "0.0017137862379221795 None\n",
      "0.0016358739994463693 None\n",
      "0.001649135228706217 None\n",
      "0.0016417997667049497 None\n",
      "0.0016467523045777992 None\n",
      "0.0016572051888148205 None\n",
      "0.001646473282917774 None\n"
     ]
    },
    {
     "data": {
      "application/vnd.jupyter.widget-view+json": {
       "model_id": "0a1c67a36dce49bf9b8d67c66f0e25da",
       "version_major": 2,
       "version_minor": 0
      },
      "text/plain": [
       "  0%|          | 0/1000 [00:00<?, ?it/s]"
      ]
     },
     "metadata": {},
     "output_type": "display_data"
    },
    {
     "name": "stdout",
     "output_type": "stream",
     "text": [
      "0.01736213311996099 None\n",
      "0.001148145534736524 None\n",
      "0.001185498057426299 None\n",
      "0.016585197874146917 None\n",
      "0.016585608607512077 None\n",
      "0.016610159049129256 None\n",
      "0.016664510442005873 None\n",
      "0.0011919359220235039 None\n",
      "0.001185545921750751 None\n",
      "0.0011582385472877787 None\n",
      "0.0011668900173554973 None\n"
     ]
    },
    {
     "data": {
      "application/vnd.jupyter.widget-view+json": {
       "model_id": "3bc70369a52340aba75ad2133fb1e968",
       "version_major": 2,
       "version_minor": 0
      },
      "text/plain": [
       "  0%|          | 0/1000 [00:00<?, ?it/s]"
      ]
     },
     "metadata": {},
     "output_type": "display_data"
    },
    {
     "name": "stdout",
     "output_type": "stream",
     "text": [
      "0.011388712740884068 None\n",
      "0.007304975215165298 None\n",
      "0.007335148878758997 None\n",
      "0.007279423757930994 None\n",
      "0.0072707206824579925 None\n",
      "0.007284917382014127 None\n",
      "0.007319688436502876 None\n",
      "0.007390402453784731 None\n",
      "0.0072722317884654 None\n",
      "0.0073176363344339326 None\n",
      "0.007289299274056479 None\n",
      "Done!\n"
     ]
    },
    {
     "data": {
      "application/vnd.jupyter.widget-view+json": {
       "model_id": "83e3b8723ebf43f5a3565c5c7172b9d2",
       "version_major": 2,
       "version_minor": 0
      },
      "text/plain": [
       "  0%|          | 0/1000 [00:00<?, ?it/s]"
      ]
     },
     "metadata": {},
     "output_type": "display_data"
    },
    {
     "name": "stdout",
     "output_type": "stream",
     "text": [
      "0.002011665605378103 None\n",
      "0.0016033444326227564 None\n",
      "0.001572965685918516 None\n",
      "0.0015835556102805277 None\n",
      "0.0015950124078557399 None\n",
      "0.0015881200186640503 None\n",
      "0.0015840683757778178 None\n",
      "0.001663309140373792 None\n",
      "0.0016448649842537694 None\n",
      "0.0016244568351424815 None\n",
      "0.0015818003910329646 None\n"
     ]
    },
    {
     "data": {
      "application/vnd.jupyter.widget-view+json": {
       "model_id": "cb6dbc2bf113489bb2f20009adde9788",
       "version_major": 2,
       "version_minor": 0
      },
      "text/plain": [
       "  0%|          | 0/1000 [00:00<?, ?it/s]"
      ]
     },
     "metadata": {},
     "output_type": "display_data"
    },
    {
     "name": "stdout",
     "output_type": "stream",
     "text": [
      "0.0038804278244311107 None\n",
      "0.0030243649415246437 None\n",
      "0.003002579278486781 None\n",
      "0.003022660375972275 None\n",
      "0.003071244908758964 None\n",
      "0.002999596541129442 None\n",
      "0.003000546469276012 None\n",
      "0.0030562705850408363 None\n",
      "0.003001118024533642 None\n",
      "0.003011483106641387 None\n",
      "0.0030486908886869332 None\n"
     ]
    },
    {
     "data": {
      "application/vnd.jupyter.widget-view+json": {
       "model_id": "92c21aeba007402dad02567573a01e9a",
       "version_major": 2,
       "version_minor": 0
      },
      "text/plain": [
       "  0%|          | 0/1000 [00:00<?, ?it/s]"
      ]
     },
     "metadata": {},
     "output_type": "display_data"
    },
    {
     "name": "stdout",
     "output_type": "stream",
     "text": [
      "0.0050069268600013055 None\n",
      "0.003774086650331019 None\n",
      "0.00377955528524942 None\n",
      "0.0037587769847718657 None\n",
      "0.0037478582073504243 None\n",
      "0.003788852217599002 None\n",
      "0.0037710826251976005 None\n",
      "0.0038237138170330058 None\n",
      "0.0037955674216840402 None\n",
      "0.0037697172626745463 None\n",
      "0.0037552114931443726 None\n"
     ]
    },
    {
     "data": {
      "application/vnd.jupyter.widget-view+json": {
       "model_id": "a04b5a84a06a45d5a947509fdcff252a",
       "version_major": 2,
       "version_minor": 0
      },
      "text/plain": [
       "  0%|          | 0/1000 [00:00<?, ?it/s]"
      ]
     },
     "metadata": {},
     "output_type": "display_data"
    },
    {
     "name": "stdout",
     "output_type": "stream",
     "text": [
      "0.002481682672830308 None\n",
      "0.0018640481278834244 None\n",
      "0.0019202815258263538 None\n",
      "0.0018954760713183441 None\n",
      "0.0018617868958539787 None\n",
      "0.001939987230091772 None\n",
      "0.001863543176177037 None\n",
      "0.0018624178942709855 None\n",
      "0.0018544654033757996 None\n",
      "0.0018911577699750267 None\n",
      "0.0019463343299485178 None\n"
     ]
    },
    {
     "data": {
      "application/vnd.jupyter.widget-view+json": {
       "model_id": "1de9ad936ad943b483b0e6fd8d5acab4",
       "version_major": 2,
       "version_minor": 0
      },
      "text/plain": [
       "  0%|          | 0/1000 [00:00<?, ?it/s]"
      ]
     },
     "metadata": {},
     "output_type": "display_data"
    },
    {
     "name": "stdout",
     "output_type": "stream",
     "text": [
      "0.00596313359669017 None\n",
      "0.0027827544834336205 None\n",
      "0.0028455471485090457 None\n",
      "0.002806902710319623 None\n",
      "0.0028258432227063796 None\n",
      "0.002824348358209772 None\n",
      "0.002785945583109146 None\n",
      "0.0028016740680404163 None\n",
      "0.002837832096673357 None\n",
      "0.002784248671607472 None\n",
      "0.0028155275249061866 None\n"
     ]
    },
    {
     "data": {
      "application/vnd.jupyter.widget-view+json": {
       "model_id": "98f65cdd80ca4a1ca3e1fecccde90421",
       "version_major": 2,
       "version_minor": 0
      },
      "text/plain": [
       "  0%|          | 0/1000 [00:00<?, ?it/s]"
      ]
     },
     "metadata": {},
     "output_type": "display_data"
    },
    {
     "name": "stdout",
     "output_type": "stream",
     "text": [
      "0.0022036418581807857 None\n",
      "0.0021151129950753196 None\n",
      "0.0020802844915583677 None\n",
      "0.0021136130640244046 None\n",
      "0.002079086819664195 None\n",
      "0.0020707674835856896 None\n",
      "0.0020684419576185386 None\n",
      "0.002114850036688489 None\n",
      "0.0021408376228926494 None\n",
      "0.0021603485641356955 None\n",
      "0.0020690987946830105 None\n"
     ]
    },
    {
     "data": {
      "application/vnd.jupyter.widget-view+json": {
       "model_id": "2c484a0fc7674d6bb8c0038eaa743403",
       "version_major": 2,
       "version_minor": 0
      },
      "text/plain": [
       "  0%|          | 0/1000 [00:00<?, ?it/s]"
      ]
     },
     "metadata": {},
     "output_type": "display_data"
    },
    {
     "name": "stdout",
     "output_type": "stream",
     "text": [
      "0.01850636449026889 None\n",
      "0.017411896280959318 None\n",
      "0.03379450621677131 None\n",
      "0.03375970379750966 None\n",
      "0.01742071595773691 None\n",
      "0.03383947423600232 None\n",
      "0.03381349015688028 None\n",
      "0.033803044022746156 None\n",
      "0.03377654266715681 None\n",
      "0.01740980263142471 None\n",
      "0.01749910856342473 None\n",
      "Done!\n"
     ]
    },
    {
     "data": {
      "application/vnd.jupyter.widget-view+json": {
       "model_id": "9badb16a07a14313ae056d837ff9ea3c",
       "version_major": 2,
       "version_minor": 0
      },
      "text/plain": [
       "  0%|          | 0/1000 [00:00<?, ?it/s]"
      ]
     },
     "metadata": {},
     "output_type": "display_data"
    },
    {
     "name": "stdout",
     "output_type": "stream",
     "text": [
      "0.01755558941201927 None\n",
      "0.0033570053802149686 None\n",
      "0.0034207805150878383 None\n",
      "0.0033874683931689694 None\n",
      "0.0033696556198175706 None\n",
      "0.003374178638042626 None\n",
      "0.003358915285481449 None\n",
      "0.0033987291692868706 None\n",
      "0.0033795604733372563 None\n",
      "0.00336929955793317 None\n",
      "0.0033791816159108572 None\n"
     ]
    },
    {
     "data": {
      "application/vnd.jupyter.widget-view+json": {
       "model_id": "812fca7f2da34d26bead8a97e208b5f9",
       "version_major": 2,
       "version_minor": 0
      },
      "text/plain": [
       "  0%|          | 0/1000 [00:00<?, ?it/s]"
      ]
     },
     "metadata": {},
     "output_type": "display_data"
    },
    {
     "name": "stdout",
     "output_type": "stream",
     "text": [
      "0.005311394776157553 None\n",
      "0.004891090377709092 None\n",
      "0.00488251248546526 None\n",
      "0.004876190262820581 None\n",
      "0.004935374375582824 None\n",
      "0.004894544362922907 None\n",
      "0.004925877935767923 None\n",
      "0.004940151627095619 None\n",
      "0.004948876320479505 None\n",
      "0.004933031441944304 None\n",
      "0.004931575990622064 None\n"
     ]
    },
    {
     "data": {
      "application/vnd.jupyter.widget-view+json": {
       "model_id": "bb26716fd7a5429d924d734814c883f8",
       "version_major": 2,
       "version_minor": 0
      },
      "text/plain": [
       "  0%|          | 0/1000 [00:00<?, ?it/s]"
      ]
     },
     "metadata": {},
     "output_type": "display_data"
    },
    {
     "name": "stdout",
     "output_type": "stream",
     "text": [
      "0.005556893625552483 None\n",
      "0.0019301592455889644 None\n",
      "0.0019877135421128263 None\n",
      "0.001923898134759833 None\n",
      "0.0019032559430813617 None\n",
      "0.0018983644251837017 None\n",
      "0.0019454659294159751 None\n",
      "0.0019171887066784898 None\n",
      "0.001928858627965754 None\n",
      "0.0019498916633869357 None\n",
      "0.0019429906555365752 None\n"
     ]
    },
    {
     "data": {
      "application/vnd.jupyter.widget-view+json": {
       "model_id": "fd7a61711ee14f099d57768207bfbf60",
       "version_major": 2,
       "version_minor": 0
      },
      "text/plain": [
       "  0%|          | 0/1000 [00:00<?, ?it/s]"
      ]
     },
     "metadata": {},
     "output_type": "display_data"
    },
    {
     "name": "stdout",
     "output_type": "stream",
     "text": [
      "0.002817682706845743 None\n",
      "0.002062972770179276 None\n",
      "0.0020821580148733215 None\n",
      "0.002062219919975947 None\n",
      "0.002065693160908511 None\n",
      "0.0020403584980437867 None\n",
      "0.0020402589890832893 None\n",
      "0.002078988926933709 None\n",
      "0.0020373152444634265 None\n",
      "0.0020740881870059723 None\n",
      "0.0020714705755279375 None\n"
     ]
    },
    {
     "data": {
      "application/vnd.jupyter.widget-view+json": {
       "model_id": "2589515e43694b5bbf687b452521ecd8",
       "version_major": 2,
       "version_minor": 0
      },
      "text/plain": [
       "  0%|          | 0/1000 [00:00<?, ?it/s]"
      ]
     },
     "metadata": {},
     "output_type": "display_data"
    },
    {
     "name": "stdout",
     "output_type": "stream",
     "text": [
      "0.00348229596303259 None\n",
      "0.0025072278297282253 None\n",
      "0.0025274276307240863 None\n",
      "0.002487339657638645 None\n",
      "0.002531231815433851 None\n",
      "0.0025527588978037706 None\n",
      "0.002520903863789302 None\n",
      "0.0025010068314654816 None\n",
      "0.0025003321808958335 None\n",
      "0.0025208930377202694 None\n",
      "0.002494406363107536 None\n"
     ]
    },
    {
     "data": {
      "application/vnd.jupyter.widget-view+json": {
       "model_id": "c4036beebc3e43ba96600bb39c5cbc33",
       "version_major": 2,
       "version_minor": 0
      },
      "text/plain": [
       "  0%|          | 0/1000 [00:00<?, ?it/s]"
      ]
     },
     "metadata": {},
     "output_type": "display_data"
    },
    {
     "name": "stdout",
     "output_type": "stream",
     "text": [
      "0.00946516994506696 None\n",
      "0.005818360195432212 None\n",
      "0.005877210715007441 None\n",
      "0.0058391812035653344 None\n",
      "0.0058641309898621805 None\n",
      "0.005879300691832478 None\n",
      "0.0058399441515032055 None\n",
      "0.005869292828302917 None\n",
      "0.005837788847501374 None\n",
      "0.005833900588570412 None\n",
      "0.005849679354067926 None\n"
     ]
    },
    {
     "data": {
      "application/vnd.jupyter.widget-view+json": {
       "model_id": "a1a6c39c945045a2a5157516e65ee744",
       "version_major": 2,
       "version_minor": 0
      },
      "text/plain": [
       "  0%|          | 0/1000 [00:00<?, ?it/s]"
      ]
     },
     "metadata": {},
     "output_type": "display_data"
    },
    {
     "name": "stdout",
     "output_type": "stream",
     "text": [
      "0.0020759288336128718 None\n",
      "0.0001813039342512799 None\n",
      "0.00019558359186970612 None\n",
      "0.00022241670690424087 None\n",
      "0.00024311764593617106 None\n",
      "0.00019224330272765824 None\n",
      "0.00021499498857390956 None\n",
      "0.00020542748031586252 None\n",
      "0.00021440714232269606 None\n",
      "0.00019658142979279508 None\n",
      "0.00021940354615423372 None\n"
     ]
    },
    {
     "data": {
      "application/vnd.jupyter.widget-view+json": {
       "model_id": "20c54275cc9b40c28d576683c123e5fa",
       "version_major": 2,
       "version_minor": 0
      },
      "text/plain": [
       "  0%|          | 0/1000 [00:00<?, ?it/s]"
      ]
     },
     "metadata": {},
     "output_type": "display_data"
    },
    {
     "name": "stdout",
     "output_type": "stream",
     "text": [
      "0.009556567864162624 None\n",
      "0.005780908514186614 None\n",
      "0.00582013856884801 None\n",
      "0.005778925889821602 None\n",
      "0.005783094951619795 None\n",
      "0.005780402904586231 None\n",
      "0.005776956347994196 None\n",
      "0.005770821695547001 None\n",
      "0.005807468777088045 None\n",
      "0.005768229771924098 None\n",
      "0.005769174732459812 None\n",
      "Done!\n"
     ]
    },
    {
     "data": {
      "application/vnd.jupyter.widget-view+json": {
       "model_id": "8b50106d2bae443f8de62c790da36052",
       "version_major": 2,
       "version_minor": 0
      },
      "text/plain": [
       "  0%|          | 0/1000 [00:00<?, ?it/s]"
      ]
     },
     "metadata": {},
     "output_type": "display_data"
    },
    {
     "name": "stdout",
     "output_type": "stream",
     "text": [
      "0.04656319247577485 None\n",
      "0.01840060635296656 None\n",
      "0.0034824280958866897 None\n",
      "0.0035263889574793715 None\n",
      "0.0034709863929989595 None\n",
      "0.003477396636216704 None\n",
      "0.003508176474698689 None\n",
      "0.003507563588527986 None\n",
      "0.0034845651319808666 None\n",
      "0.003516519490575048 None\n",
      "0.003487365030097201 None\n"
     ]
    },
    {
     "data": {
      "application/vnd.jupyter.widget-view+json": {
       "model_id": "6609e5d64c5149bfa8d443dd295feef2",
       "version_major": 2,
       "version_minor": 0
      },
      "text/plain": [
       "  0%|          | 0/1000 [00:00<?, ?it/s]"
      ]
     },
     "metadata": {},
     "output_type": "display_data"
    },
    {
     "name": "stdout",
     "output_type": "stream",
     "text": [
      "0.007692178400811288 None\n",
      "0.007028424816594451 None\n",
      "0.007051474261317076 None\n",
      "0.007054649566906098 None\n",
      "0.00702541707903889 None\n",
      "0.007039127748894318 None\n",
      "0.007044587257708965 None\n",
      "0.0070758665019542985 None\n",
      "0.007049780973437622 None\n",
      "0.007067891673947049 None\n",
      "0.00705693892137873 None\n"
     ]
    },
    {
     "data": {
      "application/vnd.jupyter.widget-view+json": {
       "model_id": "9d79c197c2a04646abed500523f0ba62",
       "version_major": 2,
       "version_minor": 0
      },
      "text/plain": [
       "  0%|          | 0/1000 [00:00<?, ?it/s]"
      ]
     },
     "metadata": {},
     "output_type": "display_data"
    },
    {
     "name": "stdout",
     "output_type": "stream",
     "text": [
      "0.007633224349700833 None\n",
      "0.0029322537347519994 None\n",
      "0.0029655543371473825 None\n",
      "0.003000096363327209 None\n",
      "0.0029521339872741912 None\n",
      "0.0029993990290227103 None\n",
      "0.00295323976408852 None\n",
      "0.002936575122964546 None\n",
      "0.0029341395958092297 None\n",
      "0.0029844084818064585 None\n",
      "0.0029580081016759184 None\n"
     ]
    },
    {
     "data": {
      "application/vnd.jupyter.widget-view+json": {
       "model_id": "256d0943ae014d85be70ab5ddc9f86b3",
       "version_major": 2,
       "version_minor": 0
      },
      "text/plain": [
       "  0%|          | 0/1000 [00:00<?, ?it/s]"
      ]
     },
     "metadata": {},
     "output_type": "display_data"
    },
    {
     "name": "stdout",
     "output_type": "stream",
     "text": [
      "0.020434047272757997 None\n",
      "0.018696747100227135 None\n",
      "0.018690313446380735 None\n",
      "0.002383337340603887 None\n",
      "0.0023879656019706553 None\n",
      "0.018729622564445464 None\n",
      "0.018700867097996354 None\n",
      "0.018695246952041795 None\n",
      "0.018695843562392553 None\n",
      "0.002409447291657147 None\n",
      "0.01867130512965174 None\n",
      "Done!\n"
     ]
    },
    {
     "data": {
      "application/vnd.jupyter.widget-view+json": {
       "model_id": "4ba9804e11734307983dba23a0b60283",
       "version_major": 2,
       "version_minor": 0
      },
      "text/plain": [
       "  0%|          | 0/1000 [00:00<?, ?it/s]"
      ]
     },
     "metadata": {},
     "output_type": "display_data"
    },
    {
     "name": "stdout",
     "output_type": "stream",
     "text": [
      "0.01232210790168504 None\n",
      "0.004705952169606587 None\n",
      "0.0046270238015958375 None\n",
      "0.0046193361053689565 None\n",
      "0.004618326229438032 None\n",
      "0.004645496587287299 None\n",
      "0.004630011689532617 None\n",
      "0.0046695374484040705 None\n",
      "0.004629003243310765 None\n",
      "0.004636552981557006 None\n",
      "0.0046143030944892 None\n"
     ]
    },
    {
     "data": {
      "application/vnd.jupyter.widget-view+json": {
       "model_id": "16276bbf6c9d45ad9d9b3112f3ed0f68",
       "version_major": 2,
       "version_minor": 0
      },
      "text/plain": [
       "  0%|          | 0/1000 [00:00<?, ?it/s]"
      ]
     },
     "metadata": {},
     "output_type": "display_data"
    },
    {
     "name": "stdout",
     "output_type": "stream",
     "text": [
      "0.003715691967492013 None\n",
      "0.0016379501641206598 None\n",
      "0.0016028752777603613 None\n",
      "0.0016405252986127336 None\n",
      "0.0016883243104462542 None\n",
      "0.0016234447159887474 None\n",
      "0.0016282591148148527 None\n",
      "0.0016150534318622569 None\n",
      "0.0016147722893651746 None\n",
      "0.0016450994622528687 None\n",
      "0.0016066719658909777 None\n"
     ]
    },
    {
     "data": {
      "application/vnd.jupyter.widget-view+json": {
       "model_id": "6a4126bdf37d49a68684ec71a3efdded",
       "version_major": 2,
       "version_minor": 0
      },
      "text/plain": [
       "  0%|          | 0/1000 [00:00<?, ?it/s]"
      ]
     },
     "metadata": {},
     "output_type": "display_data"
    },
    {
     "name": "stdout",
     "output_type": "stream",
     "text": [
      "0.002973488492125079 None\n",
      "0.001741948114084781 None\n",
      "0.001734839438206091 None\n",
      "0.0017516543760926848 None\n",
      "0.001778694394037954 None\n",
      "0.001734292744700853 None\n",
      "0.001769605399087997 None\n",
      "0.0017606765931240515 None\n",
      "0.001734340962040076 None\n",
      "0.001743721208018783 None\n",
      "0.0017388317519326502 None\n"
     ]
    },
    {
     "data": {
      "application/vnd.jupyter.widget-view+json": {
       "model_id": "e078512d6bb741adb4ef443d332e67aa",
       "version_major": 2,
       "version_minor": 0
      },
      "text/plain": [
       "  0%|          | 0/1000 [00:00<?, ?it/s]"
      ]
     },
     "metadata": {},
     "output_type": "display_data"
    },
    {
     "name": "stdout",
     "output_type": "stream",
     "text": [
      "0.0023668258205721947 None\n",
      "0.002199795174097304 None\n",
      "0.0022120239709882083 None\n",
      "0.002213070236438937 None\n",
      "0.0022476760842990253 None\n",
      "0.00230443675883865 None\n",
      "0.0022112159824614203 None\n",
      "0.0022270490010798372 None\n",
      "0.0022129895549332316 None\n",
      "0.0021872064416223816 None\n",
      "0.0022253343408575547 None\n"
     ]
    },
    {
     "data": {
      "application/vnd.jupyter.widget-view+json": {
       "model_id": "8c6ca7083a2649b39e5ccb71fc749667",
       "version_major": 2,
       "version_minor": 0
      },
      "text/plain": [
       "  0%|          | 0/1000 [00:00<?, ?it/s]"
      ]
     },
     "metadata": {},
     "output_type": "display_data"
    },
    {
     "name": "stdout",
     "output_type": "stream",
     "text": [
      "0.0035126443173706086 None\n",
      "0.00288912810401141 None\n",
      "0.0029068687952605293 None\n",
      "0.002926426055083601 None\n",
      "0.0029073387458133544 None\n",
      "0.0029077804083779794 None\n",
      "0.0029181454198114465 None\n",
      "0.002933280852265248 None\n",
      "0.0028982134713049727 None\n",
      "0.002890519075618222 None\n",
      "0.018333576469088914 None\n",
      "Done!\n"
     ]
    },
    {
     "data": {
      "application/vnd.jupyter.widget-view+json": {
       "model_id": "fbd20704b55d46d9bf5266bb394ce548",
       "version_major": 2,
       "version_minor": 0
      },
      "text/plain": [
       "  0%|          | 0/1000 [00:00<?, ?it/s]"
      ]
     },
     "metadata": {},
     "output_type": "display_data"
    },
    {
     "name": "stdout",
     "output_type": "stream",
     "text": [
      "0.014672608539228174 None\n",
      "0.003859997015647742 None\n",
      "0.0038743461932247763 None\n",
      "0.0039267821503174505 None\n",
      "0.003822907761996939 None\n",
      "0.0038232710706204405 None\n",
      "0.0038854649613162015 None\n",
      "0.0038423927891791734 None\n",
      "0.0038818608427595674 None\n",
      "0.0038958659961935 None\n",
      "0.0038568558026210505 None\n"
     ]
    },
    {
     "data": {
      "application/vnd.jupyter.widget-view+json": {
       "model_id": "16bf7a76e117488f989494f0acb2e89d",
       "version_major": 2,
       "version_minor": 0
      },
      "text/plain": [
       "  0%|          | 0/1000 [00:00<?, ?it/s]"
      ]
     },
     "metadata": {},
     "output_type": "display_data"
    },
    {
     "name": "stdout",
     "output_type": "stream",
     "text": [
      "0.006761106560061498 None\n",
      "0.005368697232688856 None\n",
      "0.005314665136484181 None\n",
      "0.0053250743892104165 None\n",
      "0.005309171283183335 None\n",
      "0.005320699159539102 None\n",
      "0.005334990038012668 None\n",
      "0.0053423387249740845 None\n",
      "0.00533906305207959 None\n",
      "0.00534180424201987 None\n",
      "0.005331953922014621 None\n"
     ]
    },
    {
     "data": {
      "application/vnd.jupyter.widget-view+json": {
       "model_id": "25809012bb8d493db3f0091023c2c195",
       "version_major": 2,
       "version_minor": 0
      },
      "text/plain": [
       "  0%|          | 0/1000 [00:00<?, ?it/s]"
      ]
     },
     "metadata": {},
     "output_type": "display_data"
    },
    {
     "name": "stdout",
     "output_type": "stream",
     "text": [
      "0.011780262489942735 None\n",
      "0.0051565770154912375 None\n",
      "0.005155561959222066 None\n",
      "0.005162960430914804 None\n",
      "0.005205526007424473 None\n",
      "0.005160386489785174 None\n",
      "0.0052033976731754444 None\n",
      "0.005236551426088486 None\n",
      "0.005222708389634092 None\n",
      "0.005217891993097615 None\n",
      "0.005200118581422799 None\n"
     ]
    },
    {
     "data": {
      "application/vnd.jupyter.widget-view+json": {
       "model_id": "8697b867b7e5430ca2c82d7d549d9d98",
       "version_major": 2,
       "version_minor": 0
      },
      "text/plain": [
       "  0%|          | 0/1000 [00:00<?, ?it/s]"
      ]
     },
     "metadata": {},
     "output_type": "display_data"
    },
    {
     "name": "stdout",
     "output_type": "stream",
     "text": [
      "0.0023191041167522955 None\n",
      "0.0016172463128072095 None\n",
      "0.0015810425879818162 None\n",
      "0.0016674431586256697 None\n",
      "0.0016331100264225878 None\n",
      "0.0016108603676384154 None\n",
      "0.0016150713652615491 None\n",
      "0.001571887987416213 None\n",
      "0.001586471783156213 None\n",
      "0.001572673722377112 None\n",
      "0.0016257789955392492 None\n"
     ]
    },
    {
     "data": {
      "application/vnd.jupyter.widget-view+json": {
       "model_id": "7644663a71434ee380f70ea15433e779",
       "version_major": 2,
       "version_minor": 0
      },
      "text/plain": [
       "  0%|          | 0/1000 [00:00<?, ?it/s]"
      ]
     },
     "metadata": {},
     "output_type": "display_data"
    },
    {
     "name": "stdout",
     "output_type": "stream",
     "text": [
      "0.006275651278938071 None\n",
      "0.001957810297930462 None\n",
      "0.0020025242790802076 None\n",
      "0.0019591165044256877 None\n",
      "0.002004458072957182 None\n",
      "0.0019691767106644127 None\n",
      "0.0020074280328098333 None\n",
      "0.0019406271892423396 None\n",
      "0.0019457916163808432 None\n",
      "0.0019445216704816364 None\n",
      "0.0019587386721355107 None\n"
     ]
    },
    {
     "data": {
      "application/vnd.jupyter.widget-view+json": {
       "model_id": "4639505ab2a042eda0419243b65d0e2c",
       "version_major": 2,
       "version_minor": 0
      },
      "text/plain": [
       "  0%|          | 0/1000 [00:00<?, ?it/s]"
      ]
     },
     "metadata": {},
     "output_type": "display_data"
    },
    {
     "name": "stdout",
     "output_type": "stream",
     "text": [
      "0.009069626026052305 None\n",
      "0.0034003976338337016 None\n",
      "0.003365020521630985 None\n",
      "0.0033443238646641738 None\n",
      "0.0033555888128811136 None\n",
      "0.0033813837923908174 None\n",
      "0.0033710454116681926 None\n",
      "0.0033291871506053823 None\n",
      "0.0033331451718793333 None\n",
      "0.003365818212677538 None\n",
      "0.003350401200955169 None\n"
     ]
    },
    {
     "data": {
      "application/vnd.jupyter.widget-view+json": {
       "model_id": "10015ebccab4497694473c0634c39b5d",
       "version_major": 2,
       "version_minor": 0
      },
      "text/plain": [
       "  0%|          | 0/1000 [00:00<?, ?it/s]"
      ]
     },
     "metadata": {},
     "output_type": "display_data"
    },
    {
     "name": "stdout",
     "output_type": "stream",
     "text": [
      "0.004087271853537914 None\n",
      "0.0007251026803234345 None\n",
      "0.0007133282166977083 None\n",
      "0.0007054009235959999 None\n",
      "0.0007171229681009652 None\n",
      "0.0007086605103127501 None\n",
      "0.0007619279094105562 None\n",
      "0.0007293109036890235 None\n",
      "0.0007196831816109351 None\n",
      "0.0007088329353034388 None\n",
      "0.0007133428223008093 None\n"
     ]
    },
    {
     "data": {
      "application/vnd.jupyter.widget-view+json": {
       "model_id": "f5065d4e478f47d489859238fcd8b8a7",
       "version_major": 2,
       "version_minor": 0
      },
      "text/plain": [
       "  0%|          | 0/1000 [00:00<?, ?it/s]"
      ]
     },
     "metadata": {},
     "output_type": "display_data"
    },
    {
     "name": "stdout",
     "output_type": "stream",
     "text": [
      "0.009199231823901779 None\n",
      "0.0030812653534717286 None\n",
      "0.0031808846347645167 None\n",
      "0.0030896390759006134 None\n",
      "0.003104081974468812 None\n",
      "0.003079531714266939 None\n",
      "0.003088526735708203 None\n",
      "0.0030904831913034117 None\n",
      "0.0030774581448077274 None\n",
      "0.0031101253549151255 None\n",
      "0.0030761524030629215 None\n",
      "Done!\n"
     ]
    }
   ],
   "source": [
    "n = 3\n",
    "d = 2**n\n",
    "\n",
    "np.random.seed(42)\n",
    "random.seed(42)\n",
    "tf.random.set_seed(42)\n",
    "rng = np.random.default_rng(seed=42)\n",
    "\n",
    "[distance_best_list, model_best_list] = loader(data_path(\"diluted_fitting_8layer.model\"))\n",
    "rank_start = model_best_list[-1].channel.rank\n",
    "\n",
    "distance_best_list, model_best_list = fit_diluted_unitary(spectrum_target_list2, \n",
    "                                                          d=d, \n",
    "                                                          rank_start=rank_start, \n",
    "                                                          rank_step=1,\n",
    "                                                          num_iter = 1000)\n",
    "\n",
    "saver([distance_best_list, model_best_list], data_path(\"diluted_fitting_16layer.model\"))"
   ]
  },
  {
   "cell_type": "code",
   "execution_count": 12,
   "metadata": {},
   "outputs": [
    {
     "data": {
      "application/vnd.jupyter.widget-view+json": {
       "model_id": "79ff6e446e364ad18076f31695f11994",
       "version_major": 2,
       "version_minor": 0
      },
      "text/plain": [
       "  0%|          | 0/10 [00:00<?, ?it/s]"
      ]
     },
     "metadata": {},
     "output_type": "display_data"
    },
    {
     "data": {
      "application/vnd.jupyter.widget-view+json": {
       "model_id": "3c6145d37c204c2f89862be9627bf804",
       "version_major": 2,
       "version_minor": 0
      },
      "text/plain": [
       "  0%|          | 0/1000 [00:00<?, ?it/s]"
      ]
     },
     "metadata": {},
     "output_type": "display_data"
    },
    {
     "name": "stdout",
     "output_type": "stream",
     "text": [
      "0.1440714338754331 None\n",
      "0.11599898358034283 None\n",
      "0.08805865631096427 None\n",
      "0.0604716483699036 None\n",
      "0.03342646739636095 None\n",
      "0.013420228908767717 None\n",
      "0.005878371024653105 None\n",
      "0.005790152340618375 None\n",
      "0.00579566694757544 None\n",
      "0.005789830110670299 None\n",
      "0.005830122998365071 None\n"
     ]
    },
    {
     "data": {
      "application/vnd.jupyter.widget-view+json": {
       "model_id": "9a4827936a584ae9814013e732426b38",
       "version_major": 2,
       "version_minor": 0
      },
      "text/plain": [
       "  0%|          | 0/1000 [00:00<?, ?it/s]"
      ]
     },
     "metadata": {},
     "output_type": "display_data"
    },
    {
     "name": "stdout",
     "output_type": "stream",
     "text": [
      "0.00893389771812677 None\n",
      "0.00684404021103127 None\n",
      "0.006897863076171526 None\n",
      "0.006826675702237325 None\n",
      "0.0068149995004812836 None\n",
      "0.006804422775949682 None\n",
      "0.02313977668197024 None\n",
      "0.006814849430422092 None\n",
      "0.006805132034684727 None\n",
      "0.006875592657177779 None\n",
      "0.006831082820413225 None\n"
     ]
    },
    {
     "data": {
      "application/vnd.jupyter.widget-view+json": {
       "model_id": "aa3ea52eaf2c4af79225d1d003af3cee",
       "version_major": 2,
       "version_minor": 0
      },
      "text/plain": [
       "  0%|          | 0/1000 [00:00<?, ?it/s]"
      ]
     },
     "metadata": {},
     "output_type": "display_data"
    },
    {
     "name": "stdout",
     "output_type": "stream",
     "text": [
      "0.003286072370170547 None\n",
      "0.017926424330231328 None\n",
      "0.0017454833242576762 None\n",
      "0.01791413125210245 None\n",
      "0.0017166377098495923 None\n",
      "0.01790872956809977 None\n",
      "0.017908547480612762 None\n",
      "0.01790069891845206 None\n",
      "0.0017373100748122115 None\n",
      "0.001774058493906476 None\n",
      "0.0017288958672514803 None\n"
     ]
    },
    {
     "data": {
      "application/vnd.jupyter.widget-view+json": {
       "model_id": "ce0b601ab8f248aa88458f72dc1a4911",
       "version_major": 2,
       "version_minor": 0
      },
      "text/plain": [
       "  0%|          | 0/1000 [00:00<?, ?it/s]"
      ]
     },
     "metadata": {},
     "output_type": "display_data"
    },
    {
     "name": "stdout",
     "output_type": "stream",
     "text": [
      "0.008079455992744383 None\n",
      "0.005487279895690398 None\n",
      "0.00549712868794893 None\n",
      "0.005481004031732547 None\n",
      "0.005516385030193232 None\n",
      "0.005468444131092517 None\n",
      "0.005473484997294716 None\n",
      "0.005485651453607658 None\n",
      "0.005475622993706195 None\n",
      "0.005517629457735743 None\n",
      "0.005468785957133802 None\n"
     ]
    },
    {
     "data": {
      "application/vnd.jupyter.widget-view+json": {
       "model_id": "501784ea7ef544bf933fe2c98684cc80",
       "version_major": 2,
       "version_minor": 0
      },
      "text/plain": [
       "  0%|          | 0/1000 [00:00<?, ?it/s]"
      ]
     },
     "metadata": {},
     "output_type": "display_data"
    },
    {
     "name": "stdout",
     "output_type": "stream",
     "text": [
      "0.0011994404873514283 None\n",
      "0.0011111600607981852 None\n",
      "0.0011533242934462916 None\n",
      "0.001096771136308535 None\n",
      "0.0011002494436077727 None\n",
      "0.0011121339388428001 None\n",
      "0.0011168793014662017 None\n",
      "0.0010980450487060199 None\n",
      "0.0011179668476266702 None\n",
      "0.0011309491170879656 None\n",
      "0.001161620960178963 None\n"
     ]
    },
    {
     "data": {
      "application/vnd.jupyter.widget-view+json": {
       "model_id": "c7605405dd91488ab3ab264b3aa01e39",
       "version_major": 2,
       "version_minor": 0
      },
      "text/plain": [
       "  0%|          | 0/1000 [00:00<?, ?it/s]"
      ]
     },
     "metadata": {},
     "output_type": "display_data"
    },
    {
     "name": "stdout",
     "output_type": "stream",
     "text": [
      "0.0034603005798659703 None\n",
      "0.018437654266693207 None\n",
      "0.0020985814934801027 None\n",
      "0.018392412942766723 None\n",
      "0.0021344936208262276 None\n",
      "0.018395343883050422 None\n",
      "0.018399636786603717 None\n",
      "0.0184557698720666 None\n",
      "0.0020813230046391636 None\n",
      "0.002135949191478038 None\n",
      "0.018396460586032504 None\n",
      "Done!\n"
     ]
    },
    {
     "data": {
      "application/vnd.jupyter.widget-view+json": {
       "model_id": "7409f42c9a0242c0bd9bd122683aea66",
       "version_major": 2,
       "version_minor": 0
      },
      "text/plain": [
       "  0%|          | 0/1000 [00:00<?, ?it/s]"
      ]
     },
     "metadata": {},
     "output_type": "display_data"
    },
    {
     "name": "stdout",
     "output_type": "stream",
     "text": [
      "0.14550333982859578 None\n",
      "0.11776177505559557 None\n",
      "0.09021327314522337 None\n",
      "0.06306277257825438 None\n",
      "0.03642532545191353 None\n",
      "0.012949387763360798 None\n",
      "0.0033483899869804147 None\n",
      "0.003353273579149455 None\n",
      "0.0033193962129154904 None\n",
      "0.0033223091848551827 None\n",
      "0.0033140955213741504 None\n"
     ]
    },
    {
     "data": {
      "application/vnd.jupyter.widget-view+json": {
       "model_id": "8df45c0caa0f40f5968a417415e2b1ec",
       "version_major": 2,
       "version_minor": 0
      },
      "text/plain": [
       "  0%|          | 0/1000 [00:00<?, ?it/s]"
      ]
     },
     "metadata": {},
     "output_type": "display_data"
    },
    {
     "name": "stdout",
     "output_type": "stream",
     "text": [
      "0.005206724182043475 None\n",
      "0.002558016707182774 None\n",
      "0.002567536675567898 None\n",
      "0.0025439662838061027 None\n",
      "0.002539350071665259 None\n",
      "0.0025233063640931063 None\n",
      "0.002518656053620257 None\n",
      "0.0025190381248803807 None\n",
      "0.0025947935973688915 None\n",
      "0.002570974879713491 None\n",
      "0.0025269245167422517 None\n"
     ]
    },
    {
     "data": {
      "application/vnd.jupyter.widget-view+json": {
       "model_id": "688fcca1dc5140519e0f9852941ddf1f",
       "version_major": 2,
       "version_minor": 0
      },
      "text/plain": [
       "  0%|          | 0/1000 [00:00<?, ?it/s]"
      ]
     },
     "metadata": {},
     "output_type": "display_data"
    },
    {
     "name": "stdout",
     "output_type": "stream",
     "text": [
      "0.03150547240879842 None\n",
      "0.04024106596664343 None\n",
      "0.02562333993753698 None\n",
      "0.010166193970343258 None\n",
      "0.04021802907605441 None\n",
      "0.01018708851367939 None\n",
      "0.040222604596251356 None\n",
      "0.025617556399069246 None\n",
      "0.040207112846302705 None\n",
      "0.02563486408958024 None\n",
      "0.02563366729000159 None\n",
      "Done!\n"
     ]
    },
    {
     "data": {
      "application/vnd.jupyter.widget-view+json": {
       "model_id": "9110045ba42a4b83bc368ebaefe0e114",
       "version_major": 2,
       "version_minor": 0
      },
      "text/plain": [
       "  0%|          | 0/1000 [00:00<?, ?it/s]"
      ]
     },
     "metadata": {},
     "output_type": "display_data"
    },
    {
     "name": "stdout",
     "output_type": "stream",
     "text": [
      "0.13352202890692239 None\n",
      "0.10591588218181881 None\n",
      "0.07853451973535261 None\n",
      "0.05160044025709463 None\n",
      "0.025313666703699476 None\n",
      "0.00645250434340636 None\n",
      "0.006277330252011713 None\n",
      "0.0062738919995179755 None\n",
      "0.006249915164366985 None\n",
      "0.006238327786839249 None\n",
      "0.006239297439206617 None\n"
     ]
    },
    {
     "data": {
      "application/vnd.jupyter.widget-view+json": {
       "model_id": "b929cb24a7da448e9fba76ed19523ad2",
       "version_major": 2,
       "version_minor": 0
      },
      "text/plain": [
       "  0%|          | 0/1000 [00:00<?, ?it/s]"
      ]
     },
     "metadata": {},
     "output_type": "display_data"
    },
    {
     "name": "stdout",
     "output_type": "stream",
     "text": [
      "0.006915917105607963 None\n",
      "0.0038940277912568218 None\n",
      "0.0039115242452520595 None\n",
      "0.003894803162137807 None\n",
      "0.0039108057475259195 None\n",
      "0.003917639631909529 None\n",
      "0.003934438533000696 None\n",
      "0.0039201172239586475 None\n",
      "0.0038940655630437804 None\n",
      "0.0039110239822651915 None\n",
      "0.003918200579625397 None\n"
     ]
    },
    {
     "data": {
      "application/vnd.jupyter.widget-view+json": {
       "model_id": "105ad3aba71940ec9c029797c165ee62",
       "version_major": 2,
       "version_minor": 0
      },
      "text/plain": [
       "  0%|          | 0/1000 [00:00<?, ?it/s]"
      ]
     },
     "metadata": {},
     "output_type": "display_data"
    },
    {
     "name": "stdout",
     "output_type": "stream",
     "text": [
      "0.02276325748866346 None\n",
      "0.018603709032402296 None\n",
      "0.018579674060431952 None\n",
      "0.0022788787394027324 None\n",
      "0.0022604631524343896 None\n",
      "0.01858575821925542 None\n",
      "0.0022895061181517945 None\n",
      "0.002278709932632597 None\n",
      "0.0022813911994646174 None\n",
      "0.01859894852734739 None\n",
      "0.0023319110112888027 None\n"
     ]
    },
    {
     "data": {
      "application/vnd.jupyter.widget-view+json": {
       "model_id": "f768bdfbd84540839a15aadcb1f6c5b8",
       "version_major": 2,
       "version_minor": 0
      },
      "text/plain": [
       "  0%|          | 0/1000 [00:00<?, ?it/s]"
      ]
     },
     "metadata": {},
     "output_type": "display_data"
    },
    {
     "name": "stdout",
     "output_type": "stream",
     "text": [
      "0.01220584033613735 None\n",
      "0.02098785606612739 None\n",
      "0.020979466057292635 None\n",
      "0.005595966675175506 None\n",
      "0.020982488917200816 None\n",
      "0.005549063041963693 None\n",
      "0.021007551611841715 None\n",
      "0.020981916946840953 None\n",
      "0.005552314520306945 None\n",
      "0.021024370292118476 None\n",
      "0.020982993838427114 None\n",
      "Done!\n"
     ]
    },
    {
     "data": {
      "application/vnd.jupyter.widget-view+json": {
       "model_id": "e683ab6b6b3e40409682ee9a3320ec85",
       "version_major": 2,
       "version_minor": 0
      },
      "text/plain": [
       "  0%|          | 0/1000 [00:00<?, ?it/s]"
      ]
     },
     "metadata": {},
     "output_type": "display_data"
    },
    {
     "name": "stdout",
     "output_type": "stream",
     "text": [
      "0.16581664545764957 None\n",
      "0.13773812644676292 None\n",
      "0.10980984933917831 None\n",
      "0.08223308407545615 None\n",
      "0.05514022275944177 None\n",
      "0.0286511815349651 None\n",
      "0.011649195935701464 None\n",
      "0.011296664591852648 None\n",
      "0.011296810270409815 None\n",
      "0.011256846448235033 None\n",
      "0.011264012791540129 None\n"
     ]
    },
    {
     "data": {
      "application/vnd.jupyter.widget-view+json": {
       "model_id": "38ecaff84cf640658e020cfc7c8b7246",
       "version_major": 2,
       "version_minor": 0
      },
      "text/plain": [
       "  0%|          | 0/1000 [00:00<?, ?it/s]"
      ]
     },
     "metadata": {},
     "output_type": "display_data"
    },
    {
     "name": "stdout",
     "output_type": "stream",
     "text": [
      "0.008448682037547702 None\n",
      "0.003018543100257039 None\n",
      "0.0193061419178936 None\n",
      "0.003046974964498134 None\n",
      "0.003001383293556194 None\n",
      "0.01930218719007052 None\n",
      "0.01931703325361466 None\n",
      "0.003015110764609972 None\n",
      "0.003012688523120062 None\n",
      "0.019348899863222913 None\n",
      "0.01931805005633253 None\n"
     ]
    },
    {
     "data": {
      "application/vnd.jupyter.widget-view+json": {
       "model_id": "4ced57de728e4e2483ff324beccd7d19",
       "version_major": 2,
       "version_minor": 0
      },
      "text/plain": [
       "  0%|          | 0/1000 [00:00<?, ?it/s]"
      ]
     },
     "metadata": {},
     "output_type": "display_data"
    },
    {
     "name": "stdout",
     "output_type": "stream",
     "text": [
      "0.009461571218635265 None\n",
      "0.0075726218602544144 None\n",
      "0.007564679330720276 None\n",
      "0.007601529307011622 None\n",
      "0.007574391995031589 None\n",
      "0.007552328340356837 None\n",
      "0.007559921715413734 None\n",
      "0.007549142741115821 None\n",
      "0.007554113793557164 None\n",
      "0.007641869347004806 None\n",
      "0.007553946898318551 None\n"
     ]
    },
    {
     "data": {
      "application/vnd.jupyter.widget-view+json": {
       "model_id": "9f6c9f1a633146ffaf09bc5bfa07daa7",
       "version_major": 2,
       "version_minor": 0
      },
      "text/plain": [
       "  0%|          | 0/1000 [00:00<?, ?it/s]"
      ]
     },
     "metadata": {},
     "output_type": "display_data"
    },
    {
     "name": "stdout",
     "output_type": "stream",
     "text": [
      "0.006047884540196247 None\n",
      "0.002076622841126804 None\n",
      "0.0020311686563155972 None\n",
      "0.0020296053814699167 None\n",
      "0.002067510863224856 None\n",
      "0.0020257590563742683 None\n",
      "0.0020403414487151633 None\n",
      "0.002043868477831613 None\n",
      "0.0020654195449398907 None\n",
      "0.0020783143966936167 None\n",
      "0.0020360909630442767 None\n"
     ]
    },
    {
     "data": {
      "application/vnd.jupyter.widget-view+json": {
       "model_id": "a9b15377dc3e448086ce5c92b11266ef",
       "version_major": 2,
       "version_minor": 0
      },
      "text/plain": [
       "  0%|          | 0/1000 [00:00<?, ?it/s]"
      ]
     },
     "metadata": {},
     "output_type": "display_data"
    },
    {
     "name": "stdout",
     "output_type": "stream",
     "text": [
      "0.006079545803194171 None\n",
      "0.0029181331314158164 None\n",
      "0.002944211262277013 None\n",
      "0.0029150015712007316 None\n",
      "0.0029479395103021075 None\n",
      "0.0029346145819034194 None\n",
      "0.002972290047833887 None\n",
      "0.0029397264608087086 None\n",
      "0.0029215693041795008 None\n",
      "0.0029523245769660514 None\n",
      "0.003002588113606822 None\n"
     ]
    },
    {
     "data": {
      "application/vnd.jupyter.widget-view+json": {
       "model_id": "419f40a70f8240ec8ea65d776a63693b",
       "version_major": 2,
       "version_minor": 0
      },
      "text/plain": [
       "  0%|          | 0/1000 [00:00<?, ?it/s]"
      ]
     },
     "metadata": {},
     "output_type": "display_data"
    },
    {
     "name": "stdout",
     "output_type": "stream",
     "text": [
      "0.00810514127350178 None\n",
      "0.006182401128672844 None\n",
      "0.00614288308770212 None\n",
      "0.006132047784982197 None\n",
      "0.00620513517909361 None\n",
      "0.006132079691444053 None\n",
      "0.006116335874184795 None\n",
      "0.0061543198219360705 None\n",
      "0.006114094884502109 None\n",
      "0.006114482097794917 None\n",
      "0.006115657363183637 None\n"
     ]
    },
    {
     "data": {
      "application/vnd.jupyter.widget-view+json": {
       "model_id": "e064f3704df94121910d5ae254201030",
       "version_major": 2,
       "version_minor": 0
      },
      "text/plain": [
       "  0%|          | 0/1000 [00:00<?, ?it/s]"
      ]
     },
     "metadata": {},
     "output_type": "display_data"
    },
    {
     "name": "stdout",
     "output_type": "stream",
     "text": [
      "0.0027660263657688583 None\n",
      "0.0027664532552238415 None\n",
      "0.002759095017623398 None\n",
      "0.0027927770773715725 None\n",
      "0.002772260758378389 None\n",
      "0.002788325671508947 None\n",
      "0.0027858867035579146 None\n",
      "0.0027645971791606643 None\n",
      "0.002777009554983218 None\n",
      "0.0027950045392028987 None\n",
      "0.0027884885839677158 None\n"
     ]
    },
    {
     "data": {
      "application/vnd.jupyter.widget-view+json": {
       "model_id": "ca7ede13cc8b4f40bc2aaf4ce85056a1",
       "version_major": 2,
       "version_minor": 0
      },
      "text/plain": [
       "  0%|          | 0/1000 [00:00<?, ?it/s]"
      ]
     },
     "metadata": {},
     "output_type": "display_data"
    },
    {
     "name": "stdout",
     "output_type": "stream",
     "text": [
      "0.009216515493274006 None\n",
      "0.009006994122083629 None\n",
      "0.00901791217794182 None\n",
      "0.009023581462575458 None\n",
      "0.009021596872274579 None\n",
      "0.009035262767918944 None\n",
      "0.009045742444889924 None\n",
      "0.009019985992701252 None\n",
      "0.009033833910548794 None\n",
      "0.009028693115531505 None\n",
      "0.009030012111073692 None\n",
      "Done!\n"
     ]
    },
    {
     "data": {
      "application/vnd.jupyter.widget-view+json": {
       "model_id": "481ecc4f77714dc08797bb7b512a8279",
       "version_major": 2,
       "version_minor": 0
      },
      "text/plain": [
       "  0%|          | 0/1000 [00:00<?, ?it/s]"
      ]
     },
     "metadata": {},
     "output_type": "display_data"
    },
    {
     "name": "stdout",
     "output_type": "stream",
     "text": [
      "0.1783642725966115 None\n",
      "0.15062674715774568 None\n",
      "0.12310458771018346 None\n",
      "0.09602177183825009 None\n",
      "0.06957912205898109 None\n",
      "0.043905544283907125 None\n",
      "0.019188240475474155 None\n",
      "0.0036925635724714074 None\n",
      "0.002986789147214514 None\n",
      "0.002960602727481749 None\n",
      "0.002968075325497676 None\n"
     ]
    },
    {
     "data": {
      "application/vnd.jupyter.widget-view+json": {
       "model_id": "3ccef390616b4e4b91d2ce4cb64ae408",
       "version_major": 2,
       "version_minor": 0
      },
      "text/plain": [
       "  0%|          | 0/1000 [00:00<?, ?it/s]"
      ]
     },
     "metadata": {},
     "output_type": "display_data"
    },
    {
     "name": "stdout",
     "output_type": "stream",
     "text": [
      "0.03335423056235488 None\n",
      "0.01566233744092192 None\n",
      "0.015679097719658665 None\n",
      "0.0320225187336349 None\n",
      "0.03202545366052771 None\n",
      "0.031988718336723426 None\n",
      "0.03199328661863645 None\n",
      "0.03199771392246467 None\n",
      "0.03201612302173969 None\n",
      "0.01571900861923483 None\n",
      "0.015696912718148718 None\n",
      "Done!\n"
     ]
    },
    {
     "data": {
      "application/vnd.jupyter.widget-view+json": {
       "model_id": "c801847fac5943c1a66f46e5b748b17d",
       "version_major": 2,
       "version_minor": 0
      },
      "text/plain": [
       "  0%|          | 0/1000 [00:00<?, ?it/s]"
      ]
     },
     "metadata": {},
     "output_type": "display_data"
    },
    {
     "name": "stdout",
     "output_type": "stream",
     "text": [
      "0.16569416268733436 None\n",
      "0.13783970194048972 None\n",
      "0.12559938211319338 None\n",
      "0.08287825786975414 None\n",
      "0.05618413635051059 None\n",
      "0.04568966293429941 None\n",
      "0.023375716828571442 None\n",
      "0.017865487071381997 None\n",
      "0.017826520091602217 None\n",
      "0.0023900921203779185 None\n",
      "0.0023842064893885 None\n"
     ]
    },
    {
     "data": {
      "application/vnd.jupyter.widget-view+json": {
       "model_id": "437187dc5ef44a82926383b331ee719a",
       "version_major": 2,
       "version_minor": 0
      },
      "text/plain": [
       "  0%|          | 0/1000 [00:00<?, ?it/s]"
      ]
     },
     "metadata": {},
     "output_type": "display_data"
    },
    {
     "name": "stdout",
     "output_type": "stream",
     "text": [
      "0.0028117434526297325 None\n",
      "0.002583077383396442 None\n",
      "0.002553135126642422 None\n",
      "0.01839738456359968 None\n",
      "0.01833562590073249 None\n",
      "0.0026048712148463715 None\n",
      "0.018363742238333574 None\n",
      "0.018363645231372083 None\n",
      "0.0025729325357080157 None\n",
      "0.018354035648124926 None\n",
      "0.002558652085629049 None\n"
     ]
    },
    {
     "data": {
      "application/vnd.jupyter.widget-view+json": {
       "model_id": "2ff48519686d4a16bde7fe7ece6df01b",
       "version_major": 2,
       "version_minor": 0
      },
      "text/plain": [
       "  0%|          | 0/1000 [00:00<?, ?it/s]"
      ]
     },
     "metadata": {},
     "output_type": "display_data"
    },
    {
     "name": "stdout",
     "output_type": "stream",
     "text": [
      "0.008675363936578678 None\n",
      "0.007651383233418727 None\n",
      "0.007626257599484258 None\n",
      "0.007602685169413431 None\n",
      "0.007634575751447999 None\n",
      "0.0076117136111701796 None\n",
      "0.007650471067444539 None\n",
      "0.007644261224171372 None\n",
      "0.007630341052238294 None\n",
      "0.007617795937443786 None\n",
      "0.007637645352600806 None\n"
     ]
    },
    {
     "data": {
      "application/vnd.jupyter.widget-view+json": {
       "model_id": "2b446c22001a4f218e8e26df107aeb42",
       "version_major": 2,
       "version_minor": 0
      },
      "text/plain": [
       "  0%|          | 0/1000 [00:00<?, ?it/s]"
      ]
     },
     "metadata": {},
     "output_type": "display_data"
    },
    {
     "name": "stdout",
     "output_type": "stream",
     "text": [
      "0.02309781461087123 None\n",
      "0.005508343371063227 None\n",
      "0.020954008245697035 None\n",
      "0.005508505775117344 None\n",
      "0.005506899350935086 None\n",
      "0.00550859812906594 None\n",
      "0.005521615663074191 None\n",
      "0.02092307711526263 None\n",
      "0.005495325987252933 None\n",
      "0.005515068185123061 None\n",
      "0.005499054373941675 None\n"
     ]
    },
    {
     "data": {
      "application/vnd.jupyter.widget-view+json": {
       "model_id": "5fb1ad3419f449318bcd694c8475fce6",
       "version_major": 2,
       "version_minor": 0
      },
      "text/plain": [
       "  0%|          | 0/1000 [00:00<?, ?it/s]"
      ]
     },
     "metadata": {},
     "output_type": "display_data"
    },
    {
     "name": "stdout",
     "output_type": "stream",
     "text": [
      "0.008628835521644286 None\n",
      "0.005441072247630008 None\n",
      "0.0054758450564589235 None\n",
      "0.005460982273669546 None\n",
      "0.005439044341337997 None\n",
      "0.005524212049486228 None\n",
      "0.005468371509172855 None\n",
      "0.0054792015299356235 None\n",
      "0.00544557101038433 None\n",
      "0.005479881417387954 None\n",
      "0.005536403210605447 None\n"
     ]
    },
    {
     "data": {
      "application/vnd.jupyter.widget-view+json": {
       "model_id": "a10cab3a08cd49e2827479017f40cdec",
       "version_major": 2,
       "version_minor": 0
      },
      "text/plain": [
       "  0%|          | 0/1000 [00:00<?, ?it/s]"
      ]
     },
     "metadata": {},
     "output_type": "display_data"
    },
    {
     "name": "stdout",
     "output_type": "stream",
     "text": [
      "0.002688091774642611 None\n",
      "0.002058268770626436 None\n",
      "0.0019908514150190014 None\n",
      "0.0020331972441577847 None\n",
      "0.00203208673801043 None\n",
      "0.001982697945082316 None\n",
      "0.0020134198767115044 None\n",
      "0.0019906847222844587 None\n",
      "0.0020201395687479483 None\n",
      "0.0020863972102048386 None\n",
      "0.0020253434097513142 None\n"
     ]
    },
    {
     "data": {
      "application/vnd.jupyter.widget-view+json": {
       "model_id": "15d89ec360cc4bd3b884d3ccd5f1d33c",
       "version_major": 2,
       "version_minor": 0
      },
      "text/plain": [
       "  0%|          | 0/1000 [00:00<?, ?it/s]"
      ]
     },
     "metadata": {},
     "output_type": "display_data"
    },
    {
     "name": "stdout",
     "output_type": "stream",
     "text": [
      "0.008150886127106039 None\n",
      "0.00600943859144309 None\n",
      "0.005990984833948288 None\n",
      "0.00599777703950814 None\n",
      "0.005993888261022412 None\n",
      "0.006071674276402642 None\n",
      "0.0060002639962228495 None\n",
      "0.006037857983729486 None\n",
      "0.005990689567274277 None\n",
      "0.006007767081442635 None\n",
      "0.005996785633261452 None\n"
     ]
    },
    {
     "data": {
      "application/vnd.jupyter.widget-view+json": {
       "model_id": "40929ec2f9d04ee2a249dc64ef2e1824",
       "version_major": 2,
       "version_minor": 0
      },
      "text/plain": [
       "  0%|          | 0/1000 [00:00<?, ?it/s]"
      ]
     },
     "metadata": {},
     "output_type": "display_data"
    },
    {
     "name": "stdout",
     "output_type": "stream",
     "text": [
      "0.008133858710449707 None\n",
      "0.022401289778563097 None\n",
      "0.006960849316531224 None\n",
      "0.02236279570969617 None\n",
      "0.022378412878615785 None\n",
      "0.00696055330785894 None\n",
      "0.006991431891919143 None\n",
      "0.006962905180261579 None\n",
      "0.02238651696184386 None\n",
      "0.02238761056038298 None\n",
      "0.022369487433776862 None\n",
      "Done!\n"
     ]
    },
    {
     "data": {
      "application/vnd.jupyter.widget-view+json": {
       "model_id": "f6a3a9e6a48447079b9c4730f1ebd316",
       "version_major": 2,
       "version_minor": 0
      },
      "text/plain": [
       "  0%|          | 0/1000 [00:00<?, ?it/s]"
      ]
     },
     "metadata": {},
     "output_type": "display_data"
    },
    {
     "name": "stdout",
     "output_type": "stream",
     "text": [
      "0.14521537236105073 None\n",
      "0.1173344003448825 None\n",
      "0.08960083119086017 None\n",
      "0.06222304749810202 None\n",
      "0.035383972603236495 None\n",
      "0.011193938607220193 None\n",
      "0.003942895951543841 None\n",
      "0.003928039599627402 None\n",
      "0.003937841314629817 None\n",
      "0.003994561313068348 None\n",
      "0.003930634363411007 None\n"
     ]
    },
    {
     "data": {
      "application/vnd.jupyter.widget-view+json": {
       "model_id": "9a86744a6aa843ddba10b7b51891b2b2",
       "version_major": 2,
       "version_minor": 0
      },
      "text/plain": [
       "  0%|          | 0/1000 [00:00<?, ?it/s]"
      ]
     },
     "metadata": {},
     "output_type": "display_data"
    },
    {
     "name": "stdout",
     "output_type": "stream",
     "text": [
      "0.0031843817287001744 None\n",
      "0.002727307615370232 None\n",
      "0.002684652171473565 None\n",
      "0.0027491614497029792 None\n",
      "0.0026826561345071926 None\n",
      "0.002677727716877787 None\n",
      "0.0026955456780971667 None\n",
      "0.002744113000671471 None\n",
      "0.002687773147893328 None\n",
      "0.0026735162143847356 None\n",
      "0.0027131314042892502 None\n"
     ]
    },
    {
     "data": {
      "application/vnd.jupyter.widget-view+json": {
       "model_id": "980da12cdf6245868e75aa389e5b2385",
       "version_major": 2,
       "version_minor": 0
      },
      "text/plain": [
       "  0%|          | 0/1000 [00:00<?, ?it/s]"
      ]
     },
     "metadata": {},
     "output_type": "display_data"
    },
    {
     "name": "stdout",
     "output_type": "stream",
     "text": [
      "0.020804595829570883 None\n",
      "0.0025443029696656785 None\n",
      "0.01885155037276083 None\n",
      "0.0025450418792855186 None\n",
      "0.002530351182703872 None\n",
      "0.0025381550481471506 None\n",
      "0.018834712189389743 None\n",
      "0.018867038265022774 None\n",
      "0.002562027235348297 None\n",
      "0.0188371910752718 None\n",
      "0.002586353349905938 None\n"
     ]
    },
    {
     "data": {
      "application/vnd.jupyter.widget-view+json": {
       "model_id": "f4de8d343b67457e8c57f4819712f97a",
       "version_major": 2,
       "version_minor": 0
      },
      "text/plain": [
       "  0%|          | 0/1000 [00:00<?, ?it/s]"
      ]
     },
     "metadata": {},
     "output_type": "display_data"
    },
    {
     "name": "stdout",
     "output_type": "stream",
     "text": [
      "0.00423154194858391 None\n",
      "0.004050212781071824 None\n",
      "0.004028005788136399 None\n",
      "0.004036601312538308 None\n",
      "0.00404226269200575 None\n",
      "0.004050194302363034 None\n",
      "0.004039740094788677 None\n",
      "0.004034595886413897 None\n",
      "0.004044316948812025 None\n",
      "0.004036335574940358 None\n",
      "0.004025685203918189 None\n"
     ]
    },
    {
     "data": {
      "application/vnd.jupyter.widget-view+json": {
       "model_id": "51a7f251ba32494dbe8f8e0a75a24cf5",
       "version_major": 2,
       "version_minor": 0
      },
      "text/plain": [
       "  0%|          | 0/1000 [00:00<?, ?it/s]"
      ]
     },
     "metadata": {},
     "output_type": "display_data"
    },
    {
     "name": "stdout",
     "output_type": "stream",
     "text": [
      "0.0033801338240224965 None\n",
      "0.003096548619303705 None\n",
      "0.0031052775198779766 None\n",
      "0.0031021179918414715 None\n",
      "0.019423585161366084 None\n",
      "0.01939335065866185 None\n",
      "0.01939031255635054 None\n",
      "0.00308234128848638 None\n",
      "0.0030989788806039167 None\n",
      "0.01940310117053903 None\n",
      "0.0031313431757745477 None\n"
     ]
    },
    {
     "data": {
      "application/vnd.jupyter.widget-view+json": {
       "model_id": "4906813f4c7646d5902a4d3fcd137365",
       "version_major": 2,
       "version_minor": 0
      },
      "text/plain": [
       "  0%|          | 0/1000 [00:00<?, ?it/s]"
      ]
     },
     "metadata": {},
     "output_type": "display_data"
    },
    {
     "name": "stdout",
     "output_type": "stream",
     "text": [
      "0.006211754152821179 None\n",
      "0.0044414966656925615 None\n",
      "0.004411350819762785 None\n",
      "0.004418690704518814 None\n",
      "0.004433259669573499 None\n",
      "0.004453144581636464 None\n",
      "0.004393396153549475 None\n",
      "0.004379118186417181 None\n",
      "0.004380686340296032 None\n",
      "0.004408948127688456 None\n",
      "0.00440640655625909 None\n"
     ]
    },
    {
     "data": {
      "application/vnd.jupyter.widget-view+json": {
       "model_id": "b096f7bca4e74f6a96015e310774c91e",
       "version_major": 2,
       "version_minor": 0
      },
      "text/plain": [
       "  0%|          | 0/1000 [00:00<?, ?it/s]"
      ]
     },
     "metadata": {},
     "output_type": "display_data"
    },
    {
     "name": "stdout",
     "output_type": "stream",
     "text": [
      "0.0033417429381668385 None\n",
      "0.0013621599422348639 None\n",
      "0.001374285834456841 None\n",
      "0.001404862253592426 None\n",
      "0.0013680004925678648 None\n",
      "0.0013591019741242287 None\n",
      "0.001351152359312214 None\n",
      "0.0013816929995967096 None\n",
      "0.0014138961170994137 None\n",
      "0.00138678517029241 None\n",
      "0.0013679251900059822 None\n"
     ]
    },
    {
     "data": {
      "application/vnd.jupyter.widget-view+json": {
       "model_id": "912b8d1f82f94ae4924ecd03f5c1d4e6",
       "version_major": 2,
       "version_minor": 0
      },
      "text/plain": [
       "  0%|          | 0/1000 [00:00<?, ?it/s]"
      ]
     },
     "metadata": {},
     "output_type": "display_data"
    },
    {
     "name": "stdout",
     "output_type": "stream",
     "text": [
      "0.017521161056541362 None\n",
      "0.016736080350490658 None\n",
      "0.01670105501809874 None\n",
      "0.016767899665454514 None\n",
      "0.016708368595665768 None\n",
      "0.03304656306460436 None\n",
      "0.016699688220987188 None\n",
      "0.016738876300499046 None\n",
      "0.01675440546079483 None\n",
      "0.03302580567069396 None\n",
      "0.03305192143897048 None\n",
      "Done!\n"
     ]
    },
    {
     "data": {
      "application/vnd.jupyter.widget-view+json": {
       "model_id": "ecb92a6bc4344fa1a402c584f51c4172",
       "version_major": 2,
       "version_minor": 0
      },
      "text/plain": [
       "  0%|          | 0/1000 [00:00<?, ?it/s]"
      ]
     },
     "metadata": {},
     "output_type": "display_data"
    },
    {
     "name": "stdout",
     "output_type": "stream",
     "text": [
      "0.09580668694284454 None\n",
      "0.06797805149205241 None\n",
      "0.04034694844328949 None\n",
      "0.013125377612022423 None\n",
      "0.0031740250942594306 None\n",
      "0.003166027800149334 None\n",
      "0.0031371111647267337 None\n",
      "0.0031080533045036735 None\n",
      "0.003168821221865528 None\n",
      "0.0031960212373235057 None\n",
      "0.003132592138097627 None\n"
     ]
    },
    {
     "data": {
      "application/vnd.jupyter.widget-view+json": {
       "model_id": "a5a859d935fb4b139bb7b212ab7708ab",
       "version_major": 2,
       "version_minor": 0
      },
      "text/plain": [
       "  0%|          | 0/1000 [00:00<?, ?it/s]"
      ]
     },
     "metadata": {},
     "output_type": "display_data"
    },
    {
     "name": "stdout",
     "output_type": "stream",
     "text": [
      "0.024500857515900802 None\n",
      "0.02196495656311431 None\n",
      "0.021954264641808247 None\n",
      "0.005631944615496355 None\n",
      "0.0056330126973202395 None\n",
      "0.021958027777595555 None\n",
      "0.022006653841861096 None\n",
      "0.005663883639780848 None\n",
      "0.02199686880283092 None\n",
      "0.0220023627800723 None\n",
      "0.0056523662601870635 None\n"
     ]
    },
    {
     "data": {
      "application/vnd.jupyter.widget-view+json": {
       "model_id": "e451ce75eabd448eafe27228039a99f2",
       "version_major": 2,
       "version_minor": 0
      },
      "text/plain": [
       "  0%|          | 0/1000 [00:00<?, ?it/s]"
      ]
     },
     "metadata": {},
     "output_type": "display_data"
    },
    {
     "name": "stdout",
     "output_type": "stream",
     "text": [
      "0.001891892137223795 None\n",
      "0.001635286432619572 None\n",
      "0.0016500322638347152 None\n",
      "0.0016680912028386769 None\n",
      "0.0016454817803476446 None\n",
      "0.0016708703549582215 None\n",
      "0.0016323528478762617 None\n",
      "0.001647455531294421 None\n",
      "0.0016423570784381784 None\n",
      "0.0016469414406351222 None\n",
      "0.0017470566325093384 None\n"
     ]
    },
    {
     "data": {
      "application/vnd.jupyter.widget-view+json": {
       "model_id": "0e9c9abda3bb4e39afd6a8a9c06d31b6",
       "version_major": 2,
       "version_minor": 0
      },
      "text/plain": [
       "  0%|          | 0/1000 [00:00<?, ?it/s]"
      ]
     },
     "metadata": {},
     "output_type": "display_data"
    },
    {
     "name": "stdout",
     "output_type": "stream",
     "text": [
      "0.004544692079787683 None\n",
      "0.001341238886801352 None\n",
      "0.0013160664131088575 None\n",
      "0.0012748836618136261 None\n",
      "0.0012945127412238066 None\n",
      "0.017592410631867082 None\n",
      "0.01762606068770848 None\n",
      "0.001291750776517585 None\n",
      "0.0012911277640063898 None\n",
      "0.0013094432852084766 None\n",
      "0.0012775953189679706 None\n"
     ]
    },
    {
     "data": {
      "application/vnd.jupyter.widget-view+json": {
       "model_id": "4169308c856d427489f224a7d5091ca3",
       "version_major": 2,
       "version_minor": 0
      },
      "text/plain": [
       "  0%|          | 0/1000 [00:00<?, ?it/s]"
      ]
     },
     "metadata": {},
     "output_type": "display_data"
    },
    {
     "name": "stdout",
     "output_type": "stream",
     "text": [
      "0.019006444920979335 None\n",
      "0.0015867012694212141 None\n",
      "0.0015339036731142526 None\n",
      "0.0015477940039019967 None\n",
      "0.001599215356971975 None\n",
      "0.017870544770124647 None\n",
      "0.0015780644258572513 None\n",
      "0.0015505424523154683 None\n",
      "0.0015440851287968922 None\n",
      "0.017877103002149067 None\n",
      "0.017841305822941612 None\n",
      "Done!\n"
     ]
    },
    {
     "data": {
      "application/vnd.jupyter.widget-view+json": {
       "model_id": "2a49b9bc4d0c47cc800946d6164860fc",
       "version_major": 2,
       "version_minor": 0
      },
      "text/plain": [
       "  0%|          | 0/1000 [00:00<?, ?it/s]"
      ]
     },
     "metadata": {},
     "output_type": "display_data"
    },
    {
     "name": "stdout",
     "output_type": "stream",
     "text": [
      "0.15548690818124586 None\n",
      "0.12750459973105185 None\n",
      "0.09973009465887796 None\n",
      "0.07236331155664671 None\n",
      "0.04558067413833781 None\n",
      "0.019619032392742167 None\n",
      "0.005197392362231449 None\n",
      "0.005015381173736438 None\n",
      "0.004996543825764107 None\n",
      "0.004997343579353802 None\n",
      "0.005003136573469165 None\n"
     ]
    },
    {
     "data": {
      "application/vnd.jupyter.widget-view+json": {
       "model_id": "e9519b05f4ed4329807591787d709b4a",
       "version_major": 2,
       "version_minor": 0
      },
      "text/plain": [
       "  0%|          | 0/1000 [00:00<?, ?it/s]"
      ]
     },
     "metadata": {},
     "output_type": "display_data"
    },
    {
     "name": "stdout",
     "output_type": "stream",
     "text": [
      "0.004035430950342339 None\n",
      "0.00348420299985669 None\n",
      "0.0035081935466018477 None\n",
      "0.0034942275740120197 None\n",
      "0.003530862441920032 None\n",
      "0.0034920517295490548 None\n",
      "0.0035532080015385826 None\n",
      "0.003494868896253299 None\n",
      "0.0034918141173068255 None\n",
      "0.003510126865762089 None\n",
      "0.0034864436346551024 None\n"
     ]
    },
    {
     "data": {
      "application/vnd.jupyter.widget-view+json": {
       "model_id": "48589d8d2382497290882096691aa837",
       "version_major": 2,
       "version_minor": 0
      },
      "text/plain": [
       "  0%|          | 0/1000 [00:00<?, ?it/s]"
      ]
     },
     "metadata": {},
     "output_type": "display_data"
    },
    {
     "name": "stdout",
     "output_type": "stream",
     "text": [
      "0.01525013273605777 None\n",
      "0.009768901914525674 None\n",
      "0.025164991499384306 None\n",
      "0.025171036785032765 None\n",
      "0.009717460704491023 None\n",
      "0.025167523201014643 None\n",
      "0.00972075690847965 None\n",
      "0.00975781762667623 None\n",
      "0.00972510789081377 None\n",
      "0.009757032833516921 None\n",
      "0.00974052158949259 None\n"
     ]
    },
    {
     "data": {
      "application/vnd.jupyter.widget-view+json": {
       "model_id": "25c018d289744baabf945b487d082a8b",
       "version_major": 2,
       "version_minor": 0
      },
      "text/plain": [
       "  0%|          | 0/1000 [00:00<?, ?it/s]"
      ]
     },
     "metadata": {},
     "output_type": "display_data"
    },
    {
     "name": "stdout",
     "output_type": "stream",
     "text": [
      "0.0022912985464692095 None\n",
      "0.0022244720684993754 None\n",
      "0.0021633368036460474 None\n",
      "0.002168309698797918 None\n",
      "0.0021669787449446103 None\n",
      "0.0021911644523862905 None\n",
      "0.0021780991416987137 None\n",
      "0.0021962692401424418 None\n",
      "0.0021683796120645304 None\n",
      "0.0022000899316940636 None\n",
      "0.002267433649055468 None\n"
     ]
    },
    {
     "data": {
      "application/vnd.jupyter.widget-view+json": {
       "model_id": "dce878334e8145c2b3739bd820336952",
       "version_major": 2,
       "version_minor": 0
      },
      "text/plain": [
       "  0%|          | 0/1000 [00:00<?, ?it/s]"
      ]
     },
     "metadata": {},
     "output_type": "display_data"
    },
    {
     "name": "stdout",
     "output_type": "stream",
     "text": [
      "0.008059471190352566 None\n",
      "0.0064906124103605994 None\n",
      "0.006453178834658755 None\n",
      "0.006458054683022855 None\n",
      "0.006429807318223196 None\n",
      "0.006451896440667192 None\n",
      "0.0064508083708492555 None\n",
      "0.0064385964781473164 None\n",
      "0.006443534613138797 None\n",
      "0.006488647279351028 None\n",
      "0.006437798416335665 None\n"
     ]
    },
    {
     "data": {
      "application/vnd.jupyter.widget-view+json": {
       "model_id": "a1fd7fd982e74ca2a665bb5deb71b74a",
       "version_major": 2,
       "version_minor": 0
      },
      "text/plain": [
       "  0%|          | 0/1000 [00:00<?, ?it/s]"
      ]
     },
     "metadata": {},
     "output_type": "display_data"
    },
    {
     "name": "stdout",
     "output_type": "stream",
     "text": [
      "0.00753726495184851 None\n",
      "0.005239210203570597 None\n",
      "0.005221931710467794 None\n",
      "0.005258927440417723 None\n",
      "0.005228275012977163 None\n",
      "0.005226362969474414 None\n",
      "0.00521435224903406 None\n",
      "0.005227010573178136 None\n",
      "0.005242380259510324 None\n",
      "0.005212639556624055 None\n",
      "0.005212260172553444 None\n"
     ]
    },
    {
     "data": {
      "application/vnd.jupyter.widget-view+json": {
       "model_id": "f7f6bb4244de425bb1a3eefb301d88f5",
       "version_major": 2,
       "version_minor": 0
      },
      "text/plain": [
       "  0%|          | 0/1000 [00:00<?, ?it/s]"
      ]
     },
     "metadata": {},
     "output_type": "display_data"
    },
    {
     "name": "stdout",
     "output_type": "stream",
     "text": [
      "0.0026103770608364826 None\n",
      "0.0019766326826701347 None\n",
      "0.002043218181459653 None\n",
      "0.017441086193406577 None\n",
      "0.0019764424509531343 None\n",
      "0.001970355021789226 None\n",
      "0.0020784723590421368 None\n",
      "0.0020158517910482832 None\n",
      "0.0019771529649539148 None\n",
      "0.017486292262254968 None\n",
      "0.0019744930238811973 None\n"
     ]
    },
    {
     "data": {
      "application/vnd.jupyter.widget-view+json": {
       "model_id": "2264a81778984f9d930d5d49c0bdb0d8",
       "version_major": 2,
       "version_minor": 0
      },
      "text/plain": [
       "  0%|          | 0/1000 [00:00<?, ?it/s]"
      ]
     },
     "metadata": {},
     "output_type": "display_data"
    },
    {
     "name": "stdout",
     "output_type": "stream",
     "text": [
      "0.005045221685740108 None\n",
      "0.002610133933511988 None\n",
      "0.002596073751925582 None\n",
      "0.0026364729034684684 None\n",
      "0.002616727302634066 None\n",
      "0.0026129818120353312 None\n",
      "0.002599838727082191 None\n",
      "0.002611742237517084 None\n",
      "0.002594008284196969 None\n",
      "0.0026340911518056578 None\n",
      "0.0026136752026237023 None\n"
     ]
    },
    {
     "data": {
      "application/vnd.jupyter.widget-view+json": {
       "model_id": "ef90f0497cb344f5ab361b536c5af1ff",
       "version_major": 2,
       "version_minor": 0
      },
      "text/plain": [
       "  0%|          | 0/1000 [00:00<?, ?it/s]"
      ]
     },
     "metadata": {},
     "output_type": "display_data"
    },
    {
     "name": "stdout",
     "output_type": "stream",
     "text": [
      "0.002579187172609777 None\n",
      "0.000988648582561406 None\n",
      "0.0009632103115944602 None\n",
      "0.0010080915291956298 None\n",
      "0.0009786650513505149 None\n",
      "0.0009717181719203275 None\n",
      "0.0010061129569460879 None\n",
      "0.0010170485728603277 None\n",
      "0.0009781611023946704 None\n",
      "0.0009681575317199321 None\n",
      "0.0009872013955626166 None\n"
     ]
    },
    {
     "data": {
      "application/vnd.jupyter.widget-view+json": {
       "model_id": "31f503610f2c49ae8b4bdfd69abf80d5",
       "version_major": 2,
       "version_minor": 0
      },
      "text/plain": [
       "  0%|          | 0/1000 [00:00<?, ?it/s]"
      ]
     },
     "metadata": {},
     "output_type": "display_data"
    },
    {
     "name": "stdout",
     "output_type": "stream",
     "text": [
      "0.0054215980269179745 None\n",
      "0.004226531782496521 None\n",
      "0.004230678300237463 None\n",
      "0.004217959533067379 None\n",
      "0.00417971895903266 None\n",
      "0.004251439789013987 None\n",
      "0.004197836592777096 None\n",
      "0.004214329636036071 None\n",
      "0.004189826534414752 None\n",
      "0.004189795349659175 None\n",
      "0.004236062520660493 None\n",
      "Done!\n"
     ]
    },
    {
     "data": {
      "application/vnd.jupyter.widget-view+json": {
       "model_id": "bd30758e9f6c4b74ab8a11a9395ad512",
       "version_major": 2,
       "version_minor": 0
      },
      "text/plain": [
       "  0%|          | 0/1000 [00:00<?, ?it/s]"
      ]
     },
     "metadata": {},
     "output_type": "display_data"
    },
    {
     "name": "stdout",
     "output_type": "stream",
     "text": [
      "0.07449047874723115 None\n",
      "0.04690913969641585 None\n",
      "0.01955107463443371 None\n",
      "0.0018877318542723117 None\n",
      "0.0017656526377063703 None\n",
      "0.0017591467781654544 None\n",
      "0.0017704312739952879 None\n",
      "0.0017741364772519835 None\n",
      "0.001787469932889678 None\n",
      "0.0017756898957965973 None\n",
      "0.0017793147278143558 None\n"
     ]
    },
    {
     "data": {
      "application/vnd.jupyter.widget-view+json": {
       "model_id": "008f6e4493b14ec6a680fb123ed6fd01",
       "version_major": 2,
       "version_minor": 0
      },
      "text/plain": [
       "  0%|          | 0/1000 [00:00<?, ?it/s]"
      ]
     },
     "metadata": {},
     "output_type": "display_data"
    },
    {
     "name": "stdout",
     "output_type": "stream",
     "text": [
      "0.006403677269740585 None\n",
      "0.0016785585825552097 None\n",
      "0.01745073413876011 None\n",
      "0.0016675420151794703 None\n",
      "0.01741388412255538 None\n",
      "0.017408487538988316 None\n",
      "0.0017209383290062899 None\n",
      "0.017452160253697228 None\n",
      "0.017470191055937074 None\n",
      "0.01739772489193681 None\n",
      "0.017400881179472784 None\n",
      "Done!\n"
     ]
    }
   ],
   "source": [
    "n = 3\n",
    "d = 2**n\n",
    "\n",
    "np.random.seed(42)\n",
    "random.seed(42)\n",
    "tf.random.set_seed(42)\n",
    "rng = np.random.default_rng(seed=42)\n",
    "\n",
    "[distance_best_list, model_best_list] = loader(data_path(\"diluted_fitting_16layer.model\"))\n",
    "rank_start = model_best_list[-1].channel.rank\n",
    "\n",
    "distance_best_list, model_best_list = fit_diluted_unitary(spectrum_target_list3, \n",
    "                                                          d=d, \n",
    "                                                          rank_start=rank_start, \n",
    "                                                          rank_step=1,\n",
    "                                                          num_iter = 1000)\n",
    "\n",
    "saver([distance_best_list, model_best_list], data_path(\"diluted_fitting_24layer.model\"))"
   ]
  },
  {
   "cell_type": "code",
   "execution_count": 13,
   "metadata": {},
   "outputs": [
    {
     "data": {
      "application/vnd.jupyter.widget-view+json": {
       "model_id": "51ef227be8534ef382507f13fb7a45c7",
       "version_major": 2,
       "version_minor": 0
      },
      "text/plain": [
       "  0%|          | 0/10 [00:00<?, ?it/s]"
      ]
     },
     "metadata": {},
     "output_type": "display_data"
    },
    {
     "data": {
      "application/vnd.jupyter.widget-view+json": {
       "model_id": "6ad8e01f161244a1b16ca60f955aeee4",
       "version_major": 2,
       "version_minor": 0
      },
      "text/plain": [
       "  0%|          | 0/1000 [00:00<?, ?it/s]"
      ]
     },
     "metadata": {},
     "output_type": "display_data"
    },
    {
     "name": "stdout",
     "output_type": "stream",
     "text": [
      "0.27973486457601465 None\n",
      "0.2516624142809244 None\n",
      "0.22372208701154578 None\n",
      "0.1961350790704851 None\n",
      "0.16908989809694247 None\n",
      "0.14278309260127076 None\n",
      "0.11734471960366481 None\n",
      "0.09283565683944883 None\n",
      "0.06923180316491784 None\n",
      "0.04661768307228525 None\n",
      "0.02493611801933672 None\n"
     ]
    },
    {
     "data": {
      "application/vnd.jupyter.widget-view+json": {
       "model_id": "ae3e176ff80a4d53b2195ea433221faf",
       "version_major": 2,
       "version_minor": 0
      },
      "text/plain": [
       "  0%|          | 0/1000 [00:00<?, ?it/s]"
      ]
     },
     "metadata": {},
     "output_type": "display_data"
    },
    {
     "name": "stdout",
     "output_type": "stream",
     "text": [
      "0.03120998061273629 None\n",
      "0.028723230482348726 None\n",
      "0.02127450599403434 None\n",
      "0.004949260846352612 None\n",
      "0.021276655270743038 None\n",
      "0.004936974610250118 None\n",
      "0.004958296492640303 None\n",
      "0.021272730683885455 None\n",
      "0.02125989540089761 None\n",
      "0.004952304083799529 None\n",
      "0.004953203275312433 None\n"
     ]
    },
    {
     "data": {
      "application/vnd.jupyter.widget-view+json": {
       "model_id": "dbc0bafd9f404c31836d50f78525507c",
       "version_major": 2,
       "version_minor": 0
      },
      "text/plain": [
       "  0%|          | 0/1000 [00:00<?, ?it/s]"
      ]
     },
     "metadata": {},
     "output_type": "display_data"
    },
    {
     "name": "stdout",
     "output_type": "stream",
     "text": [
      "0.04562928009176534 None\n",
      "0.026439275965400827 None\n",
      "0.003295524458811662 None\n",
      "0.0032733156975822014 None\n",
      "0.0032791562836021206 None\n",
      "0.0032793523498927247 None\n",
      "0.003302795450770095 None\n",
      "0.018715085479066345 None\n",
      "0.003268946856037979 None\n",
      "0.018727785203731768 None\n",
      "0.003255214614635473 None\n"
     ]
    },
    {
     "data": {
      "application/vnd.jupyter.widget-view+json": {
       "model_id": "aca66d74afca4993b0edd87dc78b4dce",
       "version_major": 2,
       "version_minor": 0
      },
      "text/plain": [
       "  0%|          | 0/1000 [00:00<?, ?it/s]"
      ]
     },
     "metadata": {},
     "output_type": "display_data"
    },
    {
     "name": "stdout",
     "output_type": "stream",
     "text": [
      "0.034296526152951666 None\n",
      "0.012572257608375666 None\n",
      "0.0032453392030458612 None\n",
      "0.003182837609129415 None\n",
      "0.0031698092213401233 None\n",
      "0.0031973311959468177 None\n",
      "0.019496090835107407 None\n",
      "0.01949416304194585 None\n",
      "0.01948183796441318 None\n",
      "0.019505852436415828 None\n",
      "0.019481819660688356 None\n",
      "Done!\n"
     ]
    },
    {
     "data": {
      "application/vnd.jupyter.widget-view+json": {
       "model_id": "689a7222750e4af59993e5d9b60d5d1a",
       "version_major": 2,
       "version_minor": 0
      },
      "text/plain": [
       "  0%|          | 0/1000 [00:00<?, ?it/s]"
      ]
     },
     "metadata": {},
     "output_type": "display_data"
    },
    {
     "name": "stdout",
     "output_type": "stream",
     "text": [
      "0.31702976426839596 None\n",
      "0.2892318768135813 None\n",
      "0.261615172762876 None\n",
      "0.2343900377487132 None\n",
      "0.20772383017173307 None\n",
      "0.1817505772455899 None\n",
      "0.1565598777356606 None\n",
      "0.13221047237774486 None\n",
      "0.10887969485297247 None\n",
      "0.08660930671801972 None\n",
      "0.06533928302275353 None\n"
     ]
    },
    {
     "data": {
      "application/vnd.jupyter.widget-view+json": {
       "model_id": "b2e393b514a24a65a6ed0b650fc7581a",
       "version_major": 2,
       "version_minor": 0
      },
      "text/plain": [
       "  0%|          | 0/1000 [00:00<?, ?it/s]"
      ]
     },
     "metadata": {},
     "output_type": "display_data"
    },
    {
     "name": "stdout",
     "output_type": "stream",
     "text": [
      "0.058589943231499075 None\n",
      "0.05203770701443845 None\n",
      "0.022461565384448687 None\n",
      "0.013678185950838502 None\n",
      "0.010553431551525876 None\n",
      "0.010557241426623506 None\n",
      "0.010545198158476422 None\n",
      "0.010541771882670203 None\n",
      "0.025981265387414316 None\n",
      "0.02597693544385955 None\n",
      "0.026001080684144962 None\n"
     ]
    },
    {
     "data": {
      "application/vnd.jupyter.widget-view+json": {
       "model_id": "f0f04769ce674cd78550c920b3667e5b",
       "version_major": 2,
       "version_minor": 0
      },
      "text/plain": [
       "  0%|          | 0/1000 [00:00<?, ?it/s]"
      ]
     },
     "metadata": {},
     "output_type": "display_data"
    },
    {
     "name": "stdout",
     "output_type": "stream",
     "text": [
      "0.06544415700495222 None\n",
      "0.04354666947819082 None\n",
      "0.025424483760103873 None\n",
      "0.01635180924342903 None\n",
      "0.008047363469602262 None\n",
      "0.007924912564793619 None\n",
      "0.007919461036182983 None\n",
      "0.007907833608888075 None\n",
      "0.007909318761022511 None\n",
      "0.007911440601924866 None\n",
      "0.007912642349346034 None\n"
     ]
    },
    {
     "data": {
      "application/vnd.jupyter.widget-view+json": {
       "model_id": "2f1538831f20447c8188c342813aa601",
       "version_major": 2,
       "version_minor": 0
      },
      "text/plain": [
       "  0%|          | 0/1000 [00:00<?, ?it/s]"
      ]
     },
     "metadata": {},
     "output_type": "display_data"
    },
    {
     "name": "stdout",
     "output_type": "stream",
     "text": [
      "0.06403375443388215 None\n",
      "0.04217916491055867 None\n",
      "0.0378173844202587 None\n",
      "0.027783321633908724 None\n",
      "0.0066014144293246235 None\n",
      "0.022016223182038497 None\n",
      "0.021995856810406073 None\n",
      "0.006585329175615823 None\n",
      "0.022004533991090376 None\n",
      "0.021992138249990648 None\n",
      "0.021997056199172575 None\n"
     ]
    },
    {
     "data": {
      "application/vnd.jupyter.widget-view+json": {
       "model_id": "b2366bdfd4e64721b6dfdf80071bb3d6",
       "version_major": 2,
       "version_minor": 0
      },
      "text/plain": [
       "  0%|          | 0/1000 [00:00<?, ?it/s]"
      ]
     },
     "metadata": {},
     "output_type": "display_data"
    },
    {
     "name": "stdout",
     "output_type": "stream",
     "text": [
      "0.0687182797741066 None\n",
      "0.0469389761954225 None\n",
      "0.041995594015378966 None\n",
      "0.030194207905071758 None\n",
      "0.012091480849531749 None\n",
      "0.027599136368105383 None\n",
      "0.027578246579214438 None\n",
      "0.027577493304493512 None\n",
      "0.02753441193281169 None\n",
      "0.012113365602689998 None\n",
      "0.012100144772434658 None\n"
     ]
    },
    {
     "data": {
      "application/vnd.jupyter.widget-view+json": {
       "model_id": "3d1ca901f5ad4cf59dac28d510160ada",
       "version_major": 2,
       "version_minor": 0
      },
      "text/plain": [
       "  0%|          | 0/1000 [00:00<?, ?it/s]"
      ]
     },
     "metadata": {},
     "output_type": "display_data"
    },
    {
     "name": "stdout",
     "output_type": "stream",
     "text": [
      "0.06311144295637561 None\n",
      "0.04057669058831493 None\n",
      "0.02342066052078161 None\n",
      "0.013375904048591321 None\n",
      "0.02268735270597333 None\n",
      "0.022679126267783477 None\n",
      "0.00724896669878308 None\n",
      "0.007240238465971462 None\n",
      "0.007261038612611796 None\n",
      "0.00724585300154196 None\n",
      "0.00726628930876039 None\n"
     ]
    },
    {
     "data": {
      "application/vnd.jupyter.widget-view+json": {
       "model_id": "e6537c89ea4b4799b8571734e6aa71cb",
       "version_major": 2,
       "version_minor": 0
      },
      "text/plain": [
       "  0%|          | 0/1000 [00:00<?, ?it/s]"
      ]
     },
     "metadata": {},
     "output_type": "display_data"
    },
    {
     "name": "stdout",
     "output_type": "stream",
     "text": [
      "0.07118468407980022 None\n",
      "0.05011046685113595 None\n",
      "0.04785850264592878 None\n",
      "0.022987902346167433 None\n",
      "0.03334084356103455 None\n",
      "0.033339320340600984 None\n",
      "0.04792382959865729 None\n",
      "0.017873083258711595 None\n",
      "0.033333198657899965 None\n",
      "0.03333720354703669 None\n",
      "0.033344681148112204 None\n",
      "Done!\n"
     ]
    },
    {
     "data": {
      "application/vnd.jupyter.widget-view+json": {
       "model_id": "fa0006c20df349469ba2632cf48f3190",
       "version_major": 2,
       "version_minor": 0
      },
      "text/plain": [
       "  0%|          | 0/1000 [00:00<?, ?it/s]"
      ]
     },
     "metadata": {},
     "output_type": "display_data"
    },
    {
     "name": "stdout",
     "output_type": "stream",
     "text": [
      "0.33154570513250664 None\n",
      "0.2875155977928104 None\n",
      "0.27633778246284324 None\n",
      "0.2329945893847415 None\n",
      "0.2229291946858034 None\n",
      "0.18105936143321755 None\n",
      "0.15645011098079462 None\n",
      "0.1328822550689811 None\n",
      "0.12675870191391186 None\n",
      "0.105410852008063 None\n",
      "0.08524864887662015 None\n"
     ]
    },
    {
     "data": {
      "application/vnd.jupyter.widget-view+json": {
       "model_id": "19d542cbd6b147a8b7738ed745e78ced",
       "version_major": 2,
       "version_minor": 0
      },
      "text/plain": [
       "  0%|          | 0/1000 [00:00<?, ?it/s]"
      ]
     },
     "metadata": {},
     "output_type": "display_data"
    },
    {
     "name": "stdout",
     "output_type": "stream",
     "text": [
      "0.06727267953573701 None\n",
      "0.0603362654085465 None\n",
      "0.04167498888537417 None\n",
      "0.03138205114887446 None\n",
      "0.008512348071897543 None\n",
      "0.03849953076262788 None\n",
      "0.023893948024009834 None\n",
      "0.038501621391809966 None\n",
      "0.023922505549214886 None\n",
      "0.008471749571570413 None\n",
      "0.038488922877862125 None\n"
     ]
    },
    {
     "data": {
      "application/vnd.jupyter.widget-view+json": {
       "model_id": "76fe8d008b5b4b88bf1839afffb80296",
       "version_major": 2,
       "version_minor": 0
      },
      "text/plain": [
       "  0%|          | 0/1000 [00:00<?, ?it/s]"
      ]
     },
     "metadata": {},
     "output_type": "display_data"
    },
    {
     "name": "stdout",
     "output_type": "stream",
     "text": [
      "0.07230897363807623 None\n",
      "0.050799014564711316 None\n",
      "0.04709152509212712 None\n",
      "0.032129207548063046 None\n",
      "0.008550167235343364 None\n",
      "0.023809651445889778 None\n",
      "0.008363110662177613 None\n",
      "0.023797662998190208 None\n",
      "0.008357584886106797 None\n",
      "0.03844028754185803 None\n",
      "0.02379997192562716 None\n"
     ]
    },
    {
     "data": {
      "application/vnd.jupyter.widget-view+json": {
       "model_id": "c5c8cd0efeb7461ea5f4e89a0ebf5989",
       "version_major": 2,
       "version_minor": 0
      },
      "text/plain": [
       "  0%|          | 0/1000 [00:00<?, ?it/s]"
      ]
     },
     "metadata": {},
     "output_type": "display_data"
    },
    {
     "name": "stdout",
     "output_type": "stream",
     "text": [
      "0.07185237491641161 None\n",
      "0.04970422574362451 None\n",
      "0.03030700826469179 None\n",
      "0.03620835129642332 None\n",
      "0.028174464031760035 None\n",
      "0.02803324356319747 None\n",
      "0.028054837212065448 None\n",
      "0.02801149022347878 None\n",
      "0.028012910183251555 None\n",
      "0.011700286245561731 None\n",
      "0.011693953271107487 None\n"
     ]
    },
    {
     "data": {
      "application/vnd.jupyter.widget-view+json": {
       "model_id": "9721b95d2d714394862174af81601c9b",
       "version_major": 2,
       "version_minor": 0
      },
      "text/plain": [
       "  0%|          | 0/1000 [00:00<?, ?it/s]"
      ]
     },
     "metadata": {},
     "output_type": "display_data"
    },
    {
     "name": "stdout",
     "output_type": "stream",
     "text": [
      "0.06815709862495907 None\n",
      "0.046618494102327594 None\n",
      "0.026681269113534446 None\n",
      "0.026627591051125696 None\n",
      "0.005294127555646944 None\n",
      "0.020689051934344223 None\n",
      "0.02070078637480591 None\n",
      "0.005249809837474317 None\n",
      "0.005262025323281513 None\n",
      "0.020693483161944994 None\n",
      "0.005270234047999801 None\n"
     ]
    },
    {
     "data": {
      "application/vnd.jupyter.widget-view+json": {
       "model_id": "8ec62b10ae1f4ea9ad76f1ed3db759d9",
       "version_major": 2,
       "version_minor": 0
      },
      "text/plain": [
       "  0%|          | 0/1000 [00:00<?, ?it/s]"
      ]
     },
     "metadata": {},
     "output_type": "display_data"
    },
    {
     "name": "stdout",
     "output_type": "stream",
     "text": [
      "0.06734720447936525 None\n",
      "0.04436686900425608 None\n",
      "0.024296371869352927 None\n",
      "0.02935387695567921 None\n",
      "0.005653980574377323 None\n",
      "0.021924092080417516 None\n",
      "0.021962277022659304 None\n",
      "0.005632398992724041 None\n",
      "0.005603966567326927 None\n",
      "0.005616449638321568 None\n",
      "0.0056204355937762044 None\n"
     ]
    },
    {
     "data": {
      "application/vnd.jupyter.widget-view+json": {
       "model_id": "d2f4adfa4b3947b28560092f9defccea",
       "version_major": 2,
       "version_minor": 0
      },
      "text/plain": [
       "  0%|          | 0/1000 [00:00<?, ?it/s]"
      ]
     },
     "metadata": {},
     "output_type": "display_data"
    },
    {
     "name": "stdout",
     "output_type": "stream",
     "text": [
      "0.0650340777498583 None\n",
      "0.04322718060186966 None\n",
      "0.0230108872361368 None\n",
      "0.010469846421229022 None\n",
      "0.004489434336562632 None\n",
      "0.0044767639194116015 None\n",
      "0.00446855417152642 None\n",
      "0.004472282339518954 None\n",
      "0.004480416991874259 None\n",
      "0.00449705663070514 None\n",
      "0.004466492898527952 None\n"
     ]
    },
    {
     "data": {
      "application/vnd.jupyter.widget-view+json": {
       "model_id": "5413fbc93b274292bb19bafb58f3a9d1",
       "version_major": 2,
       "version_minor": 0
      },
      "text/plain": [
       "  0%|          | 0/1000 [00:00<?, ?it/s]"
      ]
     },
     "metadata": {},
     "output_type": "display_data"
    },
    {
     "name": "stdout",
     "output_type": "stream",
     "text": [
      "0.07023589435116649 None\n",
      "0.06355868541312305 None\n",
      "0.04283455206522144 None\n",
      "0.02491296371724191 None\n",
      "0.0036224939089163494 None\n",
      "0.003605645766142783 None\n",
      "0.01906779158687287 None\n",
      "0.019059652579792523 None\n",
      "0.003620588815088175 None\n",
      "0.003620640853946651 None\n",
      "0.019045732739270044 None\n",
      "Done!\n"
     ]
    },
    {
     "data": {
      "application/vnd.jupyter.widget-view+json": {
       "model_id": "72c017e54afe4f47b2a76feaea762a0e",
       "version_major": 2,
       "version_minor": 0
      },
      "text/plain": [
       "  0%|          | 0/1000 [00:00<?, ?it/s]"
      ]
     },
     "metadata": {},
     "output_type": "display_data"
    },
    {
     "name": "stdout",
     "output_type": "stream",
     "text": [
      "0.30529113815433406 None\n",
      "0.2771719215507666 None\n",
      "0.24919660002851302 None\n",
      "0.22158555763934393 None\n",
      "0.19446702364861812 None\n",
      "0.16816031813913748 None\n",
      "0.14283629498871256 None\n",
      "0.11862087711362883 None\n",
      "0.09567512437945963 None\n",
      "0.07436947211172208 None\n",
      "0.053160724755105596 None\n"
     ]
    },
    {
     "data": {
      "application/vnd.jupyter.widget-view+json": {
       "model_id": "fe784419178244b9863136619cc13f0e",
       "version_major": 2,
       "version_minor": 0
      },
      "text/plain": [
       "  0%|          | 0/1000 [00:00<?, ?it/s]"
      ]
     },
     "metadata": {},
     "output_type": "display_data"
    },
    {
     "name": "stdout",
     "output_type": "stream",
     "text": [
      "0.05788219777658247 None\n",
      "0.03526884024098045 None\n",
      "0.01399436962576243 None\n",
      "0.0056886353272347446 None\n",
      "0.005537582401991025 None\n",
      "0.0055498846894415635 None\n",
      "0.02186867492356809 None\n",
      "0.005574976496374286 None\n",
      "0.005576654923774741 None\n",
      "0.005585644235901117 None\n",
      "0.005574223385946741 None\n"
     ]
    },
    {
     "data": {
      "application/vnd.jupyter.widget-view+json": {
       "model_id": "439c5101f40742c099bba6654b2bb254",
       "version_major": 2,
       "version_minor": 0
      },
      "text/plain": [
       "  0%|          | 0/1000 [00:00<?, ?it/s]"
      ]
     },
     "metadata": {},
     "output_type": "display_data"
    },
    {
     "name": "stdout",
     "output_type": "stream",
     "text": [
      "0.06248932864408882 None\n",
      "0.040677334459701696 None\n",
      "0.021285754279019384 None\n",
      "0.027696575244967526 None\n",
      "0.009545546392302387 None\n",
      "0.009538284107188925 None\n",
      "0.009515538009774588 None\n",
      "0.009533095342921696 None\n",
      "0.024990351009777464 None\n",
      "0.024961313039220077 None\n",
      "0.009535638983374025 None\n"
     ]
    },
    {
     "data": {
      "application/vnd.jupyter.widget-view+json": {
       "model_id": "dde3bbcb6ce841518be3a991d7951a1e",
       "version_major": 2,
       "version_minor": 0
      },
      "text/plain": [
       "  0%|          | 0/1000 [00:00<?, ?it/s]"
      ]
     },
     "metadata": {},
     "output_type": "display_data"
    },
    {
     "name": "stdout",
     "output_type": "stream",
     "text": [
      "0.05656512160810402 None\n",
      "0.03524057660825153 None\n",
      "0.029401068273760763 None\n",
      "0.0184418602232345 None\n",
      "0.0028867464883389673 None\n",
      "0.002942089885679249 None\n",
      "0.018325021414202662 None\n",
      "0.0028913040980572905 None\n",
      "0.01832913043558079 None\n",
      "0.0028949015443387287 None\n",
      "0.01834193732805025 None\n"
     ]
    },
    {
     "data": {
      "application/vnd.jupyter.widget-view+json": {
       "model_id": "c247609934854b9e9b08f98710b30474",
       "version_major": 2,
       "version_minor": 0
      },
      "text/plain": [
       "  0%|          | 0/1000 [00:00<?, ?it/s]"
      ]
     },
     "metadata": {},
     "output_type": "display_data"
    },
    {
     "name": "stdout",
     "output_type": "stream",
     "text": [
      "0.07068442137024569 None\n",
      "0.06506032801070814 None\n",
      "0.04441173494153759 None\n",
      "0.029903292938413636 None\n",
      "0.029815891154527083 None\n",
      "0.013492417659518155 None\n",
      "0.029818157268439824 None\n",
      "0.02985430373461848 None\n",
      "0.013502672258952401 None\n",
      "0.029832282734357382 None\n",
      "0.01348407174687082 None\n"
     ]
    },
    {
     "data": {
      "application/vnd.jupyter.widget-view+json": {
       "model_id": "2e7d6f2d99c74ccc9466f6b2045d2b7a",
       "version_major": 2,
       "version_minor": 0
      },
      "text/plain": [
       "  0%|          | 0/1000 [00:00<?, ?it/s]"
      ]
     },
     "metadata": {},
     "output_type": "display_data"
    },
    {
     "name": "stdout",
     "output_type": "stream",
     "text": [
      "0.058090936135309676 None\n",
      "0.03616373588548597 None\n",
      "0.01573316709859557 None\n",
      "0.02098160205129864 None\n",
      "0.0206609601063711 None\n",
      "0.02067365777884438 None\n",
      "0.020654047266127587 None\n",
      "0.02064814551352968 None\n",
      "0.020670716110882698 None\n",
      "0.020665493500339787 None\n",
      "0.004349057314682722 None\n"
     ]
    },
    {
     "data": {
      "application/vnd.jupyter.widget-view+json": {
       "model_id": "0cc19926c6124ccba2b76a4fc866afe5",
       "version_major": 2,
       "version_minor": 0
      },
      "text/plain": [
       "  0%|          | 0/1000 [00:00<?, ?it/s]"
      ]
     },
     "metadata": {},
     "output_type": "display_data"
    },
    {
     "name": "stdout",
     "output_type": "stream",
     "text": [
      "0.07491799217467338 None\n",
      "0.05291372906576886 None\n",
      "0.01589812947738512 None\n",
      "0.0202171853447382 None\n",
      "0.003920956130245152 None\n",
      "0.020213235067891966 None\n",
      "0.02020839735677594 None\n",
      "0.020232789818924485 None\n",
      "0.020222950429735594 None\n",
      "0.02025904578655407 None\n",
      "0.003911696912548313 None\n"
     ]
    },
    {
     "data": {
      "application/vnd.jupyter.widget-view+json": {
       "model_id": "f733e6a942b54a0c8471af4b31e3780a",
       "version_major": 2,
       "version_minor": 0
      },
      "text/plain": [
       "  0%|          | 0/1000 [00:00<?, ?it/s]"
      ]
     },
     "metadata": {},
     "output_type": "display_data"
    },
    {
     "name": "stdout",
     "output_type": "stream",
     "text": [
      "0.07633479084080622 None\n",
      "0.03788948255573801 None\n",
      "0.033285380445255586 None\n",
      "0.016729215238824695 None\n",
      "0.016374786126520092 None\n",
      "0.0009197843617809621 None\n",
      "0.0009248023370306128 None\n",
      "0.016362270731133808 None\n",
      "0.0009308354746845511 None\n",
      "0.016364244439980156 None\n",
      "0.0009243991142020156 None\n"
     ]
    },
    {
     "data": {
      "application/vnd.jupyter.widget-view+json": {
       "model_id": "38a3512dd2044405a532411cd3bb6ec0",
       "version_major": 2,
       "version_minor": 0
      },
      "text/plain": [
       "  0%|          | 0/1000 [00:00<?, ?it/s]"
      ]
     },
     "metadata": {},
     "output_type": "display_data"
    },
    {
     "name": "stdout",
     "output_type": "stream",
     "text": [
      "0.061451240337956146 None\n",
      "0.04074010527827595 None\n",
      "0.022520568284500476 None\n",
      "0.008348564356025831 None\n",
      "0.023798040971794648 None\n",
      "0.008328560953988467 None\n",
      "0.008329940206920926 None\n",
      "0.02376774379401011 None\n",
      "0.008341318441759397 None\n",
      "0.02379260223031228 None\n",
      "0.02377256172856804 None\n",
      "Done!\n"
     ]
    },
    {
     "data": {
      "application/vnd.jupyter.widget-view+json": {
       "model_id": "2dad473962044be5acc978c665439f99",
       "version_major": 2,
       "version_minor": 0
      },
      "text/plain": [
       "  0%|          | 0/1000 [00:00<?, ?it/s]"
      ]
     },
     "metadata": {},
     "output_type": "display_data"
    },
    {
     "name": "stdout",
     "output_type": "stream",
     "text": [
      "0.2984004334990604 None\n",
      "0.27053452275745293 None\n",
      "0.242838482595671 None\n",
      "0.21551515050885584 None\n",
      "0.18878827009520868 None\n",
      "0.16281372877867217 None\n",
      "0.13773271995025688 None\n",
      "0.11371015654755087 None\n",
      "0.09084323208878027 None\n",
      "0.06919187923483447 None\n",
      "0.04878918168672254 None\n"
     ]
    },
    {
     "data": {
      "application/vnd.jupyter.widget-view+json": {
       "model_id": "7f5a6d5b26ae404ab317b22c431649e9",
       "version_major": 2,
       "version_minor": 0
      },
      "text/plain": [
       "  0%|          | 0/1000 [00:00<?, ?it/s]"
      ]
     },
     "metadata": {},
     "output_type": "display_data"
    },
    {
     "name": "stdout",
     "output_type": "stream",
     "text": [
      "0.06964221720822242 None\n",
      "0.03129770038208792 None\n",
      "0.014829662987604008 None\n",
      "0.03883397759655481 None\n",
      "0.005093353415233069 None\n",
      "0.021374258220476266 None\n",
      "0.03857926489715723 None\n",
      "0.021409983933710026 None\n",
      "0.03855588716647838 None\n",
      "0.005069890349034364 None\n",
      "0.005076156629281772 None\n"
     ]
    },
    {
     "data": {
      "application/vnd.jupyter.widget-view+json": {
       "model_id": "57dbd90acb504e2092e4c8067ce113a7",
       "version_major": 2,
       "version_minor": 0
      },
      "text/plain": [
       "  0%|          | 0/1000 [00:00<?, ?it/s]"
      ]
     },
     "metadata": {},
     "output_type": "display_data"
    },
    {
     "name": "stdout",
     "output_type": "stream",
     "text": [
      "0.06279089638967832 None\n",
      "0.04153697800813015 None\n",
      "0.026181836394424632 None\n",
      "0.020138913752370105 None\n",
      "0.004680292736267096 None\n",
      "0.02011010304985658 None\n",
      "0.020120734767558605 None\n",
      "0.00469891218098341 None\n",
      "0.004675718587709482 None\n",
      "0.004679190645522885 None\n",
      "0.0046619538974751445 None\n"
     ]
    },
    {
     "data": {
      "application/vnd.jupyter.widget-view+json": {
       "model_id": "f0da627a975e41c48d8dfbc88b039ae2",
       "version_major": 2,
       "version_minor": 0
      },
      "text/plain": [
       "  0%|          | 0/1000 [00:00<?, ?it/s]"
      ]
     },
     "metadata": {},
     "output_type": "display_data"
    },
    {
     "name": "stdout",
     "output_type": "stream",
     "text": [
      "0.04347418854028233 None\n",
      "0.02163198058317888 None\n",
      "0.0031145789004051673 None\n",
      "0.01778176943333492 None\n",
      "0.017796089282852354 None\n",
      "0.0014755875952419642 None\n",
      "0.01781953236208421 None\n",
      "0.017785166294653623 None\n",
      "0.017794830083315796 None\n",
      "0.017788828709168134 None\n",
      "0.0015019697355963845 None\n"
     ]
    },
    {
     "data": {
      "application/vnd.jupyter.widget-view+json": {
       "model_id": "4ea72b19303a431bb8829840fd469cc1",
       "version_major": 2,
       "version_minor": 0
      },
      "text/plain": [
       "  0%|          | 0/1000 [00:00<?, ?it/s]"
      ]
     },
     "metadata": {},
     "output_type": "display_data"
    },
    {
     "name": "stdout",
     "output_type": "stream",
     "text": [
      "0.05359767860026349 None\n",
      "0.03191090962653049 None\n",
      "0.032839834774928724 None\n",
      "0.009410092011474561 None\n",
      "0.025729705478704876 None\n",
      "0.025688543166053263 None\n",
      "0.025707522459674337 None\n",
      "0.009375931004776097 None\n",
      "0.009387770095276733 None\n",
      "0.009380459774339295 None\n",
      "0.009399052184551386 None\n",
      "Done!\n"
     ]
    },
    {
     "data": {
      "application/vnd.jupyter.widget-view+json": {
       "model_id": "8fb8f3800f5741bb95b73baab9d9990e",
       "version_major": 2,
       "version_minor": 0
      },
      "text/plain": [
       "  0%|          | 0/1000 [00:00<?, ?it/s]"
      ]
     },
     "metadata": {},
     "output_type": "display_data"
    },
    {
     "name": "stdout",
     "output_type": "stream",
     "text": [
      "0.34138150429017267 None\n",
      "0.2975375187434593 None\n",
      "0.27023425447652666 None\n",
      "0.24337883868623225 None\n",
      "0.2334703372134482 None\n",
      "0.20808581729126227 None\n",
      "0.16735960786632534 None\n",
      "0.1440110137002595 None\n",
      "0.13805785693074105 None\n",
      "0.10061690782799254 None\n",
      "0.08080013482008254 None\n"
     ]
    },
    {
     "data": {
      "application/vnd.jupyter.widget-view+json": {
       "model_id": "78c9953a25ad4777a5678f4fd156869c",
       "version_major": 2,
       "version_minor": 0
      },
      "text/plain": [
       "  0%|          | 0/1000 [00:00<?, ?it/s]"
      ]
     },
     "metadata": {},
     "output_type": "display_data"
    },
    {
     "name": "stdout",
     "output_type": "stream",
     "text": [
      "0.07623229992192376 None\n",
      "0.054009166315832316 None\n",
      "0.034005157708233244 None\n",
      "0.023854221950712656 None\n",
      "0.013818386335108408 None\n",
      "0.009758867620852573 None\n",
      "0.00973299612504727 None\n",
      "0.009734255517193093 None\n",
      "0.009726904736378718 None\n",
      "0.009739113360280955 None\n",
      "0.009738554389799233 None\n"
     ]
    },
    {
     "data": {
      "application/vnd.jupyter.widget-view+json": {
       "model_id": "482c3e7d90a449e8994cacb041557bb3",
       "version_major": 2,
       "version_minor": 0
      },
      "text/plain": [
       "  0%|          | 0/1000 [00:00<?, ?it/s]"
      ]
     },
     "metadata": {},
     "output_type": "display_data"
    },
    {
     "name": "stdout",
     "output_type": "stream",
     "text": [
      "0.07572134110554227 None\n",
      "0.07016317372238522 None\n",
      "0.049948062851932123 None\n",
      "0.03668196460602365 None\n",
      "0.02743972901405702 None\n",
      "0.02349371841165332 None\n",
      "0.04069656974931339 None\n",
      "0.023499301818373758 None\n",
      "0.00718337890701027 None\n",
      "0.023487220181221263 None\n",
      "0.023511766586451963 None\n"
     ]
    },
    {
     "data": {
      "application/vnd.jupyter.widget-view+json": {
       "model_id": "876a339d54ce4e4ea2384ecbbb0d001e",
       "version_major": 2,
       "version_minor": 0
      },
      "text/plain": [
       "  0%|          | 0/1000 [00:00<?, ?it/s]"
      ]
     },
     "metadata": {},
     "output_type": "display_data"
    },
    {
     "name": "stdout",
     "output_type": "stream",
     "text": [
      "0.07410576570386757 None\n",
      "0.05207444899921436 None\n",
      "0.06497514554978696 None\n",
      "0.02071620155839911 None\n",
      "0.026811777047276955 None\n",
      "0.0062812210506048936 None\n",
      "0.006213265971857899 None\n",
      "0.03968225438356993 None\n",
      "0.022546133859454958 None\n",
      "0.00623400069250393 None\n",
      "0.022520836358475516 None\n"
     ]
    },
    {
     "data": {
      "application/vnd.jupyter.widget-view+json": {
       "model_id": "01f423a0db7c4f80bccc95ea48e1a391",
       "version_major": 2,
       "version_minor": 0
      },
      "text/plain": [
       "  0%|          | 0/1000 [00:00<?, ?it/s]"
      ]
     },
     "metadata": {},
     "output_type": "display_data"
    },
    {
     "name": "stdout",
     "output_type": "stream",
     "text": [
      "0.07582954525915227 None\n",
      "0.07086924774634466 None\n",
      "0.034954086012279284 None\n",
      "0.041250403911044835 None\n",
      "0.016485151697877537 None\n",
      "0.027383214428058637 None\n",
      "0.011054598680638218 None\n",
      "0.011054746994543705 None\n",
      "0.01108771476321935 None\n",
      "0.027359525511221606 None\n",
      "0.011059109455747965 None\n"
     ]
    },
    {
     "data": {
      "application/vnd.jupyter.widget-view+json": {
       "model_id": "f7cbd20bd98b495b8dced965cbb0fb57",
       "version_major": 2,
       "version_minor": 0
      },
      "text/plain": [
       "  0%|          | 0/1000 [00:00<?, ?it/s]"
      ]
     },
     "metadata": {},
     "output_type": "display_data"
    },
    {
     "name": "stdout",
     "output_type": "stream",
     "text": [
      "0.08298712452005501 None\n",
      "0.061508959474667536 None\n",
      "0.041425617919539554 None\n",
      "0.022696364962406134 None\n",
      "0.01249193175733334 None\n",
      "0.007782860991006753 None\n",
      "0.007778535790798451 None\n",
      "0.007767176367588467 None\n",
      "0.007805190442970289 None\n",
      "0.007798807622894576 None\n",
      "0.0077869605985134566 None\n"
     ]
    },
    {
     "data": {
      "application/vnd.jupyter.widget-view+json": {
       "model_id": "dd8d208357544ba8b9651a746e458236",
       "version_major": 2,
       "version_minor": 0
      },
      "text/plain": [
       "  0%|          | 0/1000 [00:00<?, ?it/s]"
      ]
     },
     "metadata": {},
     "output_type": "display_data"
    },
    {
     "name": "stdout",
     "output_type": "stream",
     "text": [
      "0.10926326418485725 None\n",
      "0.08722330093685907 None\n",
      "0.05025797245382312 None\n",
      "0.03363100960703555 None\n",
      "0.040010655368291806 None\n",
      "0.036826035768706696 None\n",
      "0.020530197654604086 None\n",
      "0.020493606808801544 None\n",
      "0.03683190015563465 None\n",
      "0.03684099766040354 None\n",
      "0.036827471405446406 None\n",
      "Done!\n"
     ]
    },
    {
     "data": {
      "application/vnd.jupyter.widget-view+json": {
       "model_id": "fb30e5a18da14d7c978629c30994cf78",
       "version_major": 2,
       "version_minor": 0
      },
      "text/plain": [
       "  0%|          | 0/1000 [00:00<?, ?it/s]"
      ]
     },
     "metadata": {},
     "output_type": "display_data"
    },
    {
     "name": "stdout",
     "output_type": "stream",
     "text": [
      "0.28966410940816956 None\n",
      "0.2617847382222496 None\n",
      "0.23412955431673954 None\n",
      "0.20691862065352434 None\n",
      "0.1803496943266227 None\n",
      "0.1545964467013446 None\n",
      "0.1297995755363637 None\n",
      "0.1060883348273207 None\n",
      "0.08360912800418206 None\n",
      "0.06245415860338246 None\n",
      "0.04264838822432075 None\n"
     ]
    },
    {
     "data": {
      "application/vnd.jupyter.widget-view+json": {
       "model_id": "c12f9ca148c64df38eca5d942af1869b",
       "version_major": 2,
       "version_minor": 0
      },
      "text/plain": [
       "  0%|          | 0/1000 [00:00<?, ?it/s]"
      ]
     },
     "metadata": {},
     "output_type": "display_data"
    },
    {
     "name": "stdout",
     "output_type": "stream",
     "text": [
      "0.04083173167525089 None\n",
      "0.019418961492611287 None\n",
      "0.004229199214784846 None\n",
      "0.0030138928111984875 None\n",
      "0.00297642041040556 None\n",
      "0.003003242445925167 None\n",
      "0.002996190935960077 None\n",
      "0.0029696983368378135 None\n",
      "0.0030168999175184405 None\n",
      "0.002990811115149263 None\n",
      "0.002998780917506552 None\n"
     ]
    },
    {
     "data": {
      "application/vnd.jupyter.widget-view+json": {
       "model_id": "b406ef0fd6e24ddea1bd27a53fb58ea9",
       "version_major": 2,
       "version_minor": 0
      },
      "text/plain": [
       "  0%|          | 0/1000 [00:00<?, ?it/s]"
      ]
     },
     "metadata": {},
     "output_type": "display_data"
    },
    {
     "name": "stdout",
     "output_type": "stream",
     "text": [
      "0.0539314509119703 None\n",
      "0.048172204236397974 None\n",
      "0.028775661370644943 None\n",
      "0.023377370099876903 None\n",
      "0.023361847803808917 None\n",
      "0.023362627306072265 None\n",
      "0.007902147791368087 None\n",
      "0.023346141666202056 None\n",
      "0.007911463089216558 None\n",
      "0.02335505531514276 None\n",
      "0.007919106619406788 None\n"
     ]
    },
    {
     "data": {
      "application/vnd.jupyter.widget-view+json": {
       "model_id": "dc8316ddeb6b455491970b00f7542324",
       "version_major": 2,
       "version_minor": 0
      },
      "text/plain": [
       "  0%|          | 0/1000 [00:00<?, ?it/s]"
      ]
     },
     "metadata": {},
     "output_type": "display_data"
    },
    {
     "name": "stdout",
     "output_type": "stream",
     "text": [
      "0.0565878842101369 None\n",
      "0.01917951783038052 None\n",
      "0.022329782317044473 None\n",
      "0.006244472017230711 None\n",
      "0.021665062169124234 None\n",
      "0.006250663532743133 None\n",
      "0.006233230428898543 None\n",
      "0.006243202038664823 None\n",
      "0.021662566783793503 None\n",
      "0.00624588349844675 None\n",
      "0.02167621737152408 None\n",
      "Done!\n"
     ]
    },
    {
     "data": {
      "application/vnd.jupyter.widget-view+json": {
       "model_id": "5a93353630334a6fb6395cc8250413eb",
       "version_major": 2,
       "version_minor": 0
      },
      "text/plain": [
       "  0%|          | 0/1000 [00:00<?, ?it/s]"
      ]
     },
     "metadata": {},
     "output_type": "display_data"
    },
    {
     "name": "stdout",
     "output_type": "stream",
     "text": [
      "0.3178215030103737 None\n",
      "0.28996838837843986 None\n",
      "0.2621565442482136 None\n",
      "0.23512278236183987 None\n",
      "0.22501783130140357 None\n",
      "0.16761507951907983 None\n",
      "0.14282981729627925 None\n",
      "0.1507800535431889 None\n",
      "0.12819217581422096 None\n",
      "0.09052579891453072 None\n",
      "0.07035810266782516 None\n"
     ]
    },
    {
     "data": {
      "application/vnd.jupyter.widget-view+json": {
       "model_id": "c777782d01544e898a76557a614f845d",
       "version_major": 2,
       "version_minor": 0
      },
      "text/plain": [
       "  0%|          | 0/1000 [00:00<?, ?it/s]"
      ]
     },
     "metadata": {},
     "output_type": "display_data"
    },
    {
     "name": "stdout",
     "output_type": "stream",
     "text": [
      "0.04700141804439775 None\n",
      "0.040120358584303184 None\n",
      "0.026758144999142502 None\n",
      "0.020175008148845573 None\n",
      "0.036502416734721835 None\n",
      "0.020149952583406548 None\n",
      "0.004709265040097086 None\n",
      "0.020163940285470017 None\n",
      "0.020184149870793436 None\n",
      "0.004711001698446703 None\n",
      "0.036480907073043585 None\n"
     ]
    },
    {
     "data": {
      "application/vnd.jupyter.widget-view+json": {
       "model_id": "24e9f7e661d24bd0b643056389872ec4",
       "version_major": 2,
       "version_minor": 0
      },
      "text/plain": [
       "  0%|          | 0/1000 [00:00<?, ?it/s]"
      ]
     },
     "metadata": {},
     "output_type": "display_data"
    },
    {
     "name": "stdout",
     "output_type": "stream",
     "text": [
      "0.08908286408818615 None\n",
      "0.051099034030659414 None\n",
      "0.022457418136608467 None\n",
      "0.04450295058505041 None\n",
      "0.012421746880390085 None\n",
      "0.027846899116787387 None\n",
      "0.027841848304606794 None\n",
      "0.012412351554986285 None\n",
      "0.027875227852486757 None\n",
      "0.027871910957466155 None\n",
      "0.04419562380371423 None\n"
     ]
    },
    {
     "data": {
      "application/vnd.jupyter.widget-view+json": {
       "model_id": "65b995e944aa43d1befe5d154f656daf",
       "version_major": 2,
       "version_minor": 0
      },
      "text/plain": [
       "  0%|          | 0/1000 [00:00<?, ?it/s]"
      ]
     },
     "metadata": {},
     "output_type": "display_data"
    },
    {
     "name": "stdout",
     "output_type": "stream",
     "text": [
      "0.0641483623672655 None\n",
      "0.05861152487450343 None\n",
      "0.04399592508212821 None\n",
      "0.03581601007368073 None\n",
      "0.019380060082020985 None\n",
      "0.019374074804561957 None\n",
      "0.03566989107611843 None\n",
      "0.035702966474470674 None\n",
      "0.01939627187739043 None\n",
      "0.0039551361731609905 None\n",
      "0.003929399427637939 None\n"
     ]
    },
    {
     "data": {
      "application/vnd.jupyter.widget-view+json": {
       "model_id": "3dea0df170ce48258a6dba4fc7933d70",
       "version_major": 2,
       "version_minor": 0
      },
      "text/plain": [
       "  0%|          | 0/1000 [00:00<?, ?it/s]"
      ]
     },
     "metadata": {},
     "output_type": "display_data"
    },
    {
     "name": "stdout",
     "output_type": "stream",
     "text": [
      "0.08218352160533879 None\n",
      "0.05980527254213038 None\n",
      "0.04423112309868686 None\n",
      "0.00875826128658622 None\n",
      "0.024225325677923473 None\n",
      "0.008771347596197951 None\n",
      "0.00877409595650818 None\n",
      "0.04050967195898081 None\n",
      "0.024194251413256027 None\n",
      "0.024187430981202893 None\n",
      "0.04052333487805572 None\n",
      "Done!\n"
     ]
    },
    {
     "data": {
      "application/vnd.jupyter.widget-view+json": {
       "model_id": "4786c92426534371b98dc0c381676107",
       "version_major": 2,
       "version_minor": 0
      },
      "text/plain": [
       "  0%|          | 0/1000 [00:00<?, ?it/s]"
      ]
     },
     "metadata": {},
     "output_type": "display_data"
    },
    {
     "name": "stdout",
     "output_type": "stream",
     "text": [
      "0.3150679351862499 None\n",
      "0.2872827001996509 None\n",
      "0.25972211985373406 None\n",
      "0.23258810164906296 None\n",
      "0.2060583565456503 None\n",
      "0.18032599468308988 None\n",
      "0.15554448808553673 None\n",
      "0.1318193715246664 None\n",
      "0.10921324577256451 None\n",
      "0.08778784030090442 None\n",
      "0.0675918992009005 None\n"
     ]
    },
    {
     "data": {
      "application/vnd.jupyter.widget-view+json": {
       "model_id": "56b89ae7d3084d40886e5bb13fe8af6a",
       "version_major": 2,
       "version_minor": 0
      },
      "text/plain": [
       "  0%|          | 0/1000 [00:00<?, ?it/s]"
      ]
     },
     "metadata": {},
     "output_type": "display_data"
    },
    {
     "name": "stdout",
     "output_type": "stream",
     "text": [
      "0.07653909995885096 None\n",
      "0.02324846472043135 None\n",
      "0.02783070318562802 None\n",
      "0.006251761887346094 None\n",
      "0.03799813394524166 None\n",
      "0.038004013743936374 None\n",
      "0.0380061653224772 None\n",
      "0.022569785605758737 None\n",
      "0.006266923171200166 None\n",
      "0.022578796737954914 None\n",
      "0.022583195115059622 None\n"
     ]
    },
    {
     "data": {
      "application/vnd.jupyter.widget-view+json": {
       "model_id": "083289103621445493542a1cc3dc16a7",
       "version_major": 2,
       "version_minor": 0
      },
      "text/plain": [
       "  0%|          | 0/1000 [00:00<?, ?it/s]"
      ]
     },
     "metadata": {},
     "output_type": "display_data"
    },
    {
     "name": "stdout",
     "output_type": "stream",
     "text": [
      "0.0641273897432926 None\n",
      "0.042631124433904974 None\n",
      "0.0310215214634496 None\n",
      "0.022675508281196043 None\n",
      "0.022584040926966385 None\n",
      "0.022581698549274366 None\n",
      "0.022622505304550126 None\n",
      "0.02263312134237218 None\n",
      "0.022619956816293956 None\n",
      "0.02261989952959518 None\n",
      "0.022647315746208825 None\n"
     ]
    },
    {
     "data": {
      "application/vnd.jupyter.widget-view+json": {
       "model_id": "a7962a0154ed4a2ebbd534b932c6e713",
       "version_major": 2,
       "version_minor": 0
      },
      "text/plain": [
       "  0%|          | 0/1000 [00:00<?, ?it/s]"
      ]
     },
     "metadata": {},
     "output_type": "display_data"
    },
    {
     "name": "stdout",
     "output_type": "stream",
     "text": [
      "0.06646447582992668 None\n",
      "0.04514817186051581 None\n",
      "0.025611053832324874 None\n",
      "0.019209043308502562 None\n",
      "0.019138164154814032 None\n",
      "0.019174563867580034 None\n",
      "0.019144809286659452 None\n",
      "0.01915140159051035 None\n",
      "0.019149463713810985 None\n",
      "0.01912542310918389 None\n",
      "0.01915156424249819 None\n"
     ]
    },
    {
     "data": {
      "application/vnd.jupyter.widget-view+json": {
       "model_id": "b2943178b2fd43b8bb5c6ac9578c409a",
       "version_major": 2,
       "version_minor": 0
      },
      "text/plain": [
       "  0%|          | 0/1000 [00:00<?, ?it/s]"
      ]
     },
     "metadata": {},
     "output_type": "display_data"
    },
    {
     "name": "stdout",
     "output_type": "stream",
     "text": [
      "0.08259135160611361 None\n",
      "0.04591285705761214 None\n",
      "0.013855655268959106 None\n",
      "0.02408663363195917 None\n",
      "0.03950603634634273 None\n",
      "0.03950210410211611 None\n",
      "0.03952247472828512 None\n",
      "0.024061063321739875 None\n",
      "0.0077657125605127796 None\n",
      "0.007761272158314146 None\n",
      "0.007761523845879609 None\n"
     ]
    },
    {
     "data": {
      "application/vnd.jupyter.widget-view+json": {
       "model_id": "6358d6659d414d54a4ed14c56a96d529",
       "version_major": 2,
       "version_minor": 0
      },
      "text/plain": [
       "  0%|          | 0/1000 [00:00<?, ?it/s]"
      ]
     },
     "metadata": {},
     "output_type": "display_data"
    },
    {
     "name": "stdout",
     "output_type": "stream",
     "text": [
      "0.08145261134240578 None\n",
      "0.043963158591422434 None\n",
      "0.013530333351017686 None\n",
      "0.007700035795233699 None\n",
      "0.00768484271986572 None\n",
      "0.007690281917588776 None\n",
      "0.03943265216030063 None\n",
      "0.03943923532132955 None\n",
      "0.007736582086860545 None\n",
      "0.023983355337148224 None\n",
      "0.02397887305027515 None\n"
     ]
    },
    {
     "data": {
      "application/vnd.jupyter.widget-view+json": {
       "model_id": "14f73bc22d204bd99508b1ba1f51e1b8",
       "version_major": 2,
       "version_minor": 0
      },
      "text/plain": [
       "  0%|          | 0/1000 [00:00<?, ?it/s]"
      ]
     },
     "metadata": {},
     "output_type": "display_data"
    },
    {
     "name": "stdout",
     "output_type": "stream",
     "text": [
      "0.06775987537629488 None\n",
      "0.04559923673823087 None\n",
      "0.01135901026402068 None\n",
      "0.022390205060235695 None\n",
      "0.03781763107793493 None\n",
      "0.022379058686628067 None\n",
      "0.022410867536961778 None\n",
      "0.022391630812166174 None\n",
      "0.006073478218473021 None\n",
      "0.022373953642041602 None\n",
      "0.022370165928559206 None\n"
     ]
    },
    {
     "data": {
      "application/vnd.jupyter.widget-view+json": {
       "model_id": "f210aa69117e4829b13ad2bfef705fa1",
       "version_major": 2,
       "version_minor": 0
      },
      "text/plain": [
       "  0%|          | 0/1000 [00:00<?, ?it/s]"
      ]
     },
     "metadata": {},
     "output_type": "display_data"
    },
    {
     "name": "stdout",
     "output_type": "stream",
     "text": [
      "0.06837440900450374 None\n",
      "0.046627131685330656 None\n",
      "0.02982229392959213 None\n",
      "0.024693134032222758 None\n",
      "0.008352108332158426 None\n",
      "0.008379057474056793 None\n",
      "0.02467854820005855 None\n",
      "0.02472214181998139 None\n",
      "0.024655971176555453 None\n"
     ]
    },
    {
     "ename": "KeyboardInterrupt",
     "evalue": "",
     "output_type": "error",
     "traceback": [
      "\u001b[1;31m---------------------------------------------------------------------------\u001b[0m",
      "\u001b[1;31mKeyboardInterrupt\u001b[0m                         Traceback (most recent call last)",
      "Input \u001b[1;32mIn [13]\u001b[0m, in \u001b[0;36m<cell line: 12>\u001b[1;34m()\u001b[0m\n\u001b[0;32m      9\u001b[0m [distance_best_list, model_best_list] \u001b[38;5;241m=\u001b[39m loader(data_path(\u001b[38;5;124m\"\u001b[39m\u001b[38;5;124mdiluted_fitting_24layer.model\u001b[39m\u001b[38;5;124m\"\u001b[39m))\n\u001b[0;32m     10\u001b[0m rank_start \u001b[38;5;241m=\u001b[39m model_best_list[\u001b[38;5;241m-\u001b[39m\u001b[38;5;241m1\u001b[39m]\u001b[38;5;241m.\u001b[39mchannel\u001b[38;5;241m.\u001b[39mrank\n\u001b[1;32m---> 12\u001b[0m distance_best_list, model_best_list \u001b[38;5;241m=\u001b[39m \u001b[43mfit_diluted_unitary\u001b[49m\u001b[43m(\u001b[49m\u001b[43mspectrum_target_list4\u001b[49m\u001b[43m,\u001b[49m\u001b[43m \u001b[49m\n\u001b[0;32m     13\u001b[0m \u001b[43m                                                          \u001b[49m\u001b[43md\u001b[49m\u001b[38;5;241;43m=\u001b[39;49m\u001b[43md\u001b[49m\u001b[43m,\u001b[49m\u001b[43m \u001b[49m\n\u001b[0;32m     14\u001b[0m \u001b[43m                                                          \u001b[49m\u001b[43mrank_start\u001b[49m\u001b[38;5;241;43m=\u001b[39;49m\u001b[43mrank_start\u001b[49m\u001b[43m,\u001b[49m\u001b[43m \u001b[49m\n\u001b[0;32m     15\u001b[0m \u001b[43m                                                          \u001b[49m\u001b[43mrank_step\u001b[49m\u001b[38;5;241;43m=\u001b[39;49m\u001b[38;5;241;43m1\u001b[39;49m\u001b[43m,\u001b[49m\n\u001b[0;32m     16\u001b[0m \u001b[43m                                                          \u001b[49m\u001b[43mnum_iter\u001b[49m\u001b[43m \u001b[49m\u001b[38;5;241;43m=\u001b[39;49m\u001b[43m \u001b[49m\u001b[38;5;241;43m1000\u001b[39;49m\u001b[43m)\u001b[49m\n\u001b[0;32m     18\u001b[0m saver([distance_best_list, model_best_list], data_path(\u001b[38;5;124m\"\u001b[39m\u001b[38;5;124mdiluted_fitting_32layer.model\u001b[39m\u001b[38;5;124m\"\u001b[39m))\n",
      "Input \u001b[1;32mIn [4]\u001b[0m, in \u001b[0;36mfit_diluted_unitary\u001b[1;34m(spectrum_target_list, d, rank_start, rank_step, num_iter, lr)\u001b[0m\n\u001b[0;32m     57\u001b[0m \u001b[38;5;28;01mfor\u001b[39;00m spectrum_target \u001b[38;5;129;01min\u001b[39;00m tqdm(spectrum_target_list):\n\u001b[0;32m     58\u001b[0m     U \u001b[38;5;241m=\u001b[39m generate_haar_random(d, rng) \n\u001b[1;32m---> 59\u001b[0m     distance_best, model_best \u001b[38;5;241m=\u001b[39m \u001b[43moptimize_annulus_distance\u001b[49m\u001b[43m(\u001b[49m\u001b[43mspectrum_target\u001b[49m\u001b[43m,\u001b[49m\n\u001b[0;32m     60\u001b[0m \u001b[43m                                                          \u001b[49m\u001b[43md\u001b[49m\u001b[43m,\u001b[49m\n\u001b[0;32m     61\u001b[0m \u001b[43m                                                          \u001b[49m\u001b[43mrank_start\u001b[49m\u001b[43m,\u001b[49m\n\u001b[0;32m     62\u001b[0m \u001b[43m                                                          \u001b[49m\u001b[43mrank_step\u001b[49m\u001b[43m,\u001b[49m\n\u001b[0;32m     63\u001b[0m \u001b[43m                                                          \u001b[49m\u001b[43mnum_iter\u001b[49m\u001b[43m \u001b[49m\u001b[38;5;241;43m=\u001b[39;49m\u001b[43m \u001b[49m\u001b[43mnum_iter\u001b[49m\u001b[43m,\u001b[49m\n\u001b[0;32m     64\u001b[0m \u001b[43m                                                          \u001b[49m\u001b[43mlr\u001b[49m\u001b[43m \u001b[49m\u001b[38;5;241;43m=\u001b[39;49m\u001b[43m \u001b[49m\u001b[43mlr\u001b[49m\u001b[43m)\u001b[49m\n\u001b[0;32m     65\u001b[0m     distance_best_list\u001b[38;5;241m.\u001b[39mappend(distance_best)\n\u001b[0;32m     66\u001b[0m     model_best_list\u001b[38;5;241m.\u001b[39mappend(model_best)\n",
      "Input \u001b[1;32mIn [4]\u001b[0m, in \u001b[0;36moptimize_annulus_distance\u001b[1;34m(spectrum_target, d, rank_start, rank_step, num_iter, lr)\u001b[0m\n\u001b[0;32m     15\u001b[0m     c \u001b[38;5;241m=\u001b[39m \u001b[38;5;241m0.5\u001b[39m\n\u001b[0;32m     16\u001b[0m model \u001b[38;5;241m=\u001b[39m ModelQuantumMap(channel \u001b[38;5;241m=\u001b[39m DilutedKrausMap(U\u001b[38;5;241m=\u001b[39mgenerate_haar_random(d, rng\u001b[38;5;241m=\u001b[39mrng), \n\u001b[0;32m     17\u001b[0m                                                   c\u001b[38;5;241m=\u001b[39mc, \n\u001b[0;32m     18\u001b[0m                                                   kraus_part\u001b[38;5;241m=\u001b[39mKrausMap(d, \n\u001b[1;32m   (...)\u001b[0m\n\u001b[0;32m     25\u001b[0m                                     verbose\u001b[38;5;241m=\u001b[39m\u001b[38;5;28;01mTrue\u001b[39;00m,),\n\u001b[0;32m     26\u001b[0m                     )\n\u001b[1;32m---> 27\u001b[0m \u001b[43mmodel\u001b[49m\u001b[38;5;241;43m.\u001b[39;49m\u001b[43mtrain\u001b[49m\u001b[43m(\u001b[49m\u001b[43minputs\u001b[49m\u001b[43m \u001b[49m\u001b[38;5;241;43m=\u001b[39;49m\u001b[43m \u001b[49m\u001b[38;5;28;43;01mNone\u001b[39;49;00m\u001b[43m,\u001b[49m\n\u001b[0;32m     28\u001b[0m \u001b[43m            \u001b[49m\u001b[43mtargets\u001b[49m\u001b[43m \u001b[49m\u001b[38;5;241;43m=\u001b[39;49m\u001b[43m \u001b[49m\u001b[43m[\u001b[49m\u001b[43mspectrum_target\u001b[49m\u001b[43m]\u001b[49m\u001b[43m,\u001b[49m\n\u001b[0;32m     29\u001b[0m \u001b[43m            \u001b[49m\u001b[43mnum_iter\u001b[49m\u001b[43m \u001b[49m\u001b[38;5;241;43m=\u001b[39;49m\u001b[43m \u001b[49m\u001b[43mnum_iter\u001b[49m\u001b[43m,\u001b[49m\n\u001b[0;32m     30\u001b[0m \u001b[43m            \u001b[49m\n\u001b[0;32m     31\u001b[0m \u001b[43m           \u001b[49m\u001b[43m)\u001b[49m\n\u001b[0;32m     33\u001b[0m model_list\u001b[38;5;241m.\u001b[39mappend(model)\n\u001b[0;32m     34\u001b[0m distance_list\u001b[38;5;241m.\u001b[39mappend(model\u001b[38;5;241m.\u001b[39mlogger\u001b[38;5;241m.\u001b[39mloss_train_list[\u001b[38;5;241m-\u001b[39m\u001b[38;5;241m1\u001b[39m])\n",
      "File \u001b[1;32m~\\Documents\\ModelNISQ\\notebooks\\experiments\\../../src_tf\\optimization.py:118\u001b[0m, in \u001b[0;36mModelQuantumMap.train\u001b[1;34m(self, inputs, targets, inputs_val, targets_val, num_iter, N, verbose)\u001b[0m\n\u001b[0;32m    116\u001b[0m     loss \u001b[38;5;241m=\u001b[39m \u001b[38;5;241m0\u001b[39m\n\u001b[0;32m    117\u001b[0m     \u001b[38;5;28;01mfor\u001b[39;00m loss_function \u001b[38;5;129;01min\u001b[39;00m \u001b[38;5;28mself\u001b[39m\u001b[38;5;241m.\u001b[39mloss_function:\n\u001b[1;32m--> 118\u001b[0m         loss \u001b[38;5;241m+\u001b[39m\u001b[38;5;241m=\u001b[39m \u001b[43mloss_function\u001b[49m\u001b[43m(\u001b[49m\u001b[38;5;28;43mself\u001b[39;49m\u001b[38;5;241;43m.\u001b[39;49m\u001b[43mchannel\u001b[49m\u001b[43m,\u001b[49m\u001b[43m \u001b[49m\u001b[43minputs_batch\u001b[49m\u001b[43m,\u001b[49m\u001b[43m \u001b[49m\u001b[43mtargets_batch\u001b[49m\u001b[43m)\u001b[49m\n\u001b[0;32m    120\u001b[0m grads \u001b[38;5;241m=\u001b[39m tape\u001b[38;5;241m.\u001b[39mgradient(loss, \u001b[38;5;28mself\u001b[39m\u001b[38;5;241m.\u001b[39mchannel\u001b[38;5;241m.\u001b[39mparameter_list)\n\u001b[0;32m    121\u001b[0m \u001b[38;5;28mself\u001b[39m\u001b[38;5;241m.\u001b[39moptimizer\u001b[38;5;241m.\u001b[39mapply_gradients(\u001b[38;5;28mzip\u001b[39m(grads, \u001b[38;5;28mself\u001b[39m\u001b[38;5;241m.\u001b[39mchannel\u001b[38;5;241m.\u001b[39mparameter_list))\n",
      "File \u001b[1;32m~\\Documents\\ModelNISQ\\notebooks\\experiments\\../../src_tf\\loss_functions.py:226\u001b[0m, in \u001b[0;36mAnnulusDistance.__call__\u001b[1;34m(self, channel, input, target)\u001b[0m\n\u001b[0;32m    224\u001b[0m \u001b[38;5;28;01mdef\u001b[39;00m \u001b[38;5;21m__call__\u001b[39m(\u001b[38;5;28mself\u001b[39m, channel, \u001b[38;5;28minput\u001b[39m, target):\n\u001b[0;32m    225\u001b[0m     spectrum_target \u001b[38;5;241m=\u001b[39m target[\u001b[38;5;241m0\u001b[39m]\n\u001b[1;32m--> 226\u001b[0m     spectrum_model \u001b[38;5;241m=\u001b[39m \u001b[43mchannel_spectrum\u001b[49m\u001b[43m(\u001b[49m\u001b[43mchannel\u001b[49m\u001b[43m,\u001b[49m\u001b[43m \u001b[49m\u001b[43muse_coords\u001b[49m\u001b[38;5;241;43m=\u001b[39;49m\u001b[38;5;28;43;01mTrue\u001b[39;49;00m\u001b[43m)\u001b[49m\n\u001b[0;32m    228\u001b[0m     r_mean1, r_std1, a_mean1, a_std1 \u001b[38;5;241m=\u001b[39m \u001b[38;5;28mself\u001b[39m\u001b[38;5;241m.\u001b[39mspectrum_to_momenta(spectrum_model)\n\u001b[0;32m    229\u001b[0m     r_mean2, r_std2, a_mean2, a_std2 \u001b[38;5;241m=\u001b[39m \u001b[38;5;28mself\u001b[39m\u001b[38;5;241m.\u001b[39mspectrum_to_momenta(spectrum_target)\n",
      "File \u001b[1;32m~\\Documents\\ModelNISQ\\notebooks\\experiments\\../../src_tf\\spectrum.py:20\u001b[0m, in \u001b[0;36mchannel_spectrum\u001b[1;34m(input, use_coords, keep_real, keep_unity, tol)\u001b[0m\n\u001b[0;32m     18\u001b[0m \u001b[38;5;28;01mdef\u001b[39;00m \u001b[38;5;21mchannel_spectrum\u001b[39m(\u001b[38;5;28minput\u001b[39m, use_coords\u001b[38;5;241m=\u001b[39m\u001b[38;5;28;01mTrue\u001b[39;00m, keep_real\u001b[38;5;241m=\u001b[39m\u001b[38;5;28;01mTrue\u001b[39;00m, keep_unity\u001b[38;5;241m=\u001b[39m\u001b[38;5;28;01mTrue\u001b[39;00m, tol\u001b[38;5;241m=\u001b[39m\u001b[38;5;241m1e-4\u001b[39m):\n\u001b[0;32m     19\u001b[0m     \u001b[38;5;28;01mif\u001b[39;00m \u001b[38;5;28misinstance\u001b[39m(\u001b[38;5;28minput\u001b[39m, Channel):\n\u001b[1;32m---> 20\u001b[0m         eig, _ \u001b[38;5;241m=\u001b[39m tf\u001b[38;5;241m.\u001b[39mlinalg\u001b[38;5;241m.\u001b[39meig(reshuffle(\u001b[38;5;28;43minput\u001b[39;49m\u001b[38;5;241;43m.\u001b[39;49m\u001b[43mchoi\u001b[49m))\n\u001b[0;32m     21\u001b[0m         eig \u001b[38;5;241m=\u001b[39m tf\u001b[38;5;241m.\u001b[39mexpand_dims(eig, axis\u001b[38;5;241m=\u001b[39m\u001b[38;5;241m1\u001b[39m)\n\u001b[0;32m     22\u001b[0m     \u001b[38;5;28;01melse\u001b[39;00m:\n",
      "File \u001b[1;32m~\\Documents\\ModelNISQ\\notebooks\\experiments\\../../src_tf\\kraus_channels.py:157\u001b[0m, in \u001b[0;36mDilutedKrausMap.choi\u001b[1;34m(self)\u001b[0m\n\u001b[0;32m    155\u001b[0m \u001b[38;5;129m@property\u001b[39m\n\u001b[0;32m    156\u001b[0m \u001b[38;5;28;01mdef\u001b[39;00m \u001b[38;5;21mchoi\u001b[39m(\u001b[38;5;28mself\u001b[39m):\n\u001b[1;32m--> 157\u001b[0m     \u001b[38;5;28;01mreturn\u001b[39;00m \u001b[43mkraus_to_choi\u001b[49m\u001b[43m(\u001b[49m\u001b[38;5;28;43mself\u001b[39;49m\u001b[43m)\u001b[49m\n",
      "File \u001b[1;32m~\\Documents\\ModelNISQ\\notebooks\\experiments\\../../src_tf\\quantum_channel.py:33\u001b[0m, in \u001b[0;36mkraus_to_choi\u001b[1;34m(kraus_channel, use_reshuffle)\u001b[0m\n\u001b[0;32m     30\u001b[0m channel \u001b[38;5;241m=\u001b[39m \u001b[38;5;241m0\u001b[39m\n\u001b[0;32m     32\u001b[0m \u001b[38;5;28;01mfor\u001b[39;00m i \u001b[38;5;129;01min\u001b[39;00m \u001b[38;5;28mrange\u001b[39m(rank):\n\u001b[1;32m---> 33\u001b[0m     K \u001b[38;5;241m=\u001b[39m \u001b[43mkraus\u001b[49m\u001b[43m[\u001b[49m\u001b[38;5;241;43m0\u001b[39;49m\u001b[43m,\u001b[49m\u001b[43m \u001b[49m\u001b[43mi\u001b[49m\u001b[43m]\u001b[49m\n\u001b[0;32m     34\u001b[0m     channel \u001b[38;5;241m+\u001b[39m\u001b[38;5;241m=\u001b[39m tf\u001b[38;5;241m.\u001b[39mexperimental\u001b[38;5;241m.\u001b[39mnumpy\u001b[38;5;241m.\u001b[39mkron(K, tf\u001b[38;5;241m.\u001b[39mmath\u001b[38;5;241m.\u001b[39mconj(K))\n\u001b[0;32m     36\u001b[0m \u001b[38;5;28;01mif\u001b[39;00m use_reshuffle:\n",
      "File \u001b[1;32mC:\\Program Files\\Anaconda3\\envs\\env_qiskit\\lib\\site-packages\\tensorflow\\python\\util\\traceback_utils.py:150\u001b[0m, in \u001b[0;36mfilter_traceback.<locals>.error_handler\u001b[1;34m(*args, **kwargs)\u001b[0m\n\u001b[0;32m    148\u001b[0m filtered_tb \u001b[38;5;241m=\u001b[39m \u001b[38;5;28;01mNone\u001b[39;00m\n\u001b[0;32m    149\u001b[0m \u001b[38;5;28;01mtry\u001b[39;00m:\n\u001b[1;32m--> 150\u001b[0m   \u001b[38;5;28;01mreturn\u001b[39;00m fn(\u001b[38;5;241m*\u001b[39margs, \u001b[38;5;241m*\u001b[39m\u001b[38;5;241m*\u001b[39mkwargs)\n\u001b[0;32m    151\u001b[0m \u001b[38;5;28;01mexcept\u001b[39;00m \u001b[38;5;167;01mException\u001b[39;00m \u001b[38;5;28;01mas\u001b[39;00m e:\n\u001b[0;32m    152\u001b[0m   filtered_tb \u001b[38;5;241m=\u001b[39m _process_traceback_frames(e\u001b[38;5;241m.\u001b[39m__traceback__)\n",
      "File \u001b[1;32mC:\\Program Files\\Anaconda3\\envs\\env_qiskit\\lib\\site-packages\\tensorflow\\python\\util\\dispatch.py:1176\u001b[0m, in \u001b[0;36madd_dispatch_support.<locals>.decorator.<locals>.op_dispatch_handler\u001b[1;34m(*args, **kwargs)\u001b[0m\n\u001b[0;32m   1174\u001b[0m \u001b[38;5;66;03m# Fallback dispatch system (dispatch v1):\u001b[39;00m\n\u001b[0;32m   1175\u001b[0m \u001b[38;5;28;01mtry\u001b[39;00m:\n\u001b[1;32m-> 1176\u001b[0m   \u001b[38;5;28;01mreturn\u001b[39;00m dispatch_target(\u001b[38;5;241m*\u001b[39margs, \u001b[38;5;241m*\u001b[39m\u001b[38;5;241m*\u001b[39mkwargs)\n\u001b[0;32m   1177\u001b[0m \u001b[38;5;28;01mexcept\u001b[39;00m (\u001b[38;5;167;01mTypeError\u001b[39;00m, \u001b[38;5;167;01mValueError\u001b[39;00m):\n\u001b[0;32m   1178\u001b[0m   \u001b[38;5;66;03m# Note: convert_to_eager_tensor currently raises a ValueError, not a\u001b[39;00m\n\u001b[0;32m   1179\u001b[0m   \u001b[38;5;66;03m# TypeError, when given unexpected types.  So we need to catch both.\u001b[39;00m\n\u001b[0;32m   1180\u001b[0m   result \u001b[38;5;241m=\u001b[39m dispatch(op_dispatch_handler, args, kwargs)\n",
      "File \u001b[1;32mC:\\Program Files\\Anaconda3\\envs\\env_qiskit\\lib\\site-packages\\tensorflow\\python\\ops\\array_ops.py:1096\u001b[0m, in \u001b[0;36m_slice_helper\u001b[1;34m(tensor, slice_spec, var)\u001b[0m\n\u001b[0;32m   1094\u001b[0m   var_empty \u001b[38;5;241m=\u001b[39m constant([], dtype\u001b[38;5;241m=\u001b[39mdtypes\u001b[38;5;241m.\u001b[39mint32)\n\u001b[0;32m   1095\u001b[0m   packed_begin \u001b[38;5;241m=\u001b[39m packed_end \u001b[38;5;241m=\u001b[39m packed_strides \u001b[38;5;241m=\u001b[39m var_empty\n\u001b[1;32m-> 1096\u001b[0m \u001b[38;5;28;01mreturn\u001b[39;00m \u001b[43mstrided_slice\u001b[49m\u001b[43m(\u001b[49m\n\u001b[0;32m   1097\u001b[0m \u001b[43m    \u001b[49m\u001b[43mtensor\u001b[49m\u001b[43m,\u001b[49m\n\u001b[0;32m   1098\u001b[0m \u001b[43m    \u001b[49m\u001b[43mpacked_begin\u001b[49m\u001b[43m,\u001b[49m\n\u001b[0;32m   1099\u001b[0m \u001b[43m    \u001b[49m\u001b[43mpacked_end\u001b[49m\u001b[43m,\u001b[49m\n\u001b[0;32m   1100\u001b[0m \u001b[43m    \u001b[49m\u001b[43mpacked_strides\u001b[49m\u001b[43m,\u001b[49m\n\u001b[0;32m   1101\u001b[0m \u001b[43m    \u001b[49m\u001b[43mbegin_mask\u001b[49m\u001b[38;5;241;43m=\u001b[39;49m\u001b[43mbegin_mask\u001b[49m\u001b[43m,\u001b[49m\n\u001b[0;32m   1102\u001b[0m \u001b[43m    \u001b[49m\u001b[43mend_mask\u001b[49m\u001b[38;5;241;43m=\u001b[39;49m\u001b[43mend_mask\u001b[49m\u001b[43m,\u001b[49m\n\u001b[0;32m   1103\u001b[0m \u001b[43m    \u001b[49m\u001b[43mshrink_axis_mask\u001b[49m\u001b[38;5;241;43m=\u001b[39;49m\u001b[43mshrink_axis_mask\u001b[49m\u001b[43m,\u001b[49m\n\u001b[0;32m   1104\u001b[0m \u001b[43m    \u001b[49m\u001b[43mnew_axis_mask\u001b[49m\u001b[38;5;241;43m=\u001b[39;49m\u001b[43mnew_axis_mask\u001b[49m\u001b[43m,\u001b[49m\n\u001b[0;32m   1105\u001b[0m \u001b[43m    \u001b[49m\u001b[43mellipsis_mask\u001b[49m\u001b[38;5;241;43m=\u001b[39;49m\u001b[43mellipsis_mask\u001b[49m\u001b[43m,\u001b[49m\n\u001b[0;32m   1106\u001b[0m \u001b[43m    \u001b[49m\u001b[43mvar\u001b[49m\u001b[38;5;241;43m=\u001b[39;49m\u001b[43mvar\u001b[49m\u001b[43m,\u001b[49m\n\u001b[0;32m   1107\u001b[0m \u001b[43m    \u001b[49m\u001b[43mname\u001b[49m\u001b[38;5;241;43m=\u001b[39;49m\u001b[43mname\u001b[49m\u001b[43m)\u001b[49m\n",
      "File \u001b[1;32mC:\\Program Files\\Anaconda3\\envs\\env_qiskit\\lib\\site-packages\\tensorflow\\python\\util\\traceback_utils.py:150\u001b[0m, in \u001b[0;36mfilter_traceback.<locals>.error_handler\u001b[1;34m(*args, **kwargs)\u001b[0m\n\u001b[0;32m    148\u001b[0m filtered_tb \u001b[38;5;241m=\u001b[39m \u001b[38;5;28;01mNone\u001b[39;00m\n\u001b[0;32m    149\u001b[0m \u001b[38;5;28;01mtry\u001b[39;00m:\n\u001b[1;32m--> 150\u001b[0m   \u001b[38;5;28;01mreturn\u001b[39;00m fn(\u001b[38;5;241m*\u001b[39margs, \u001b[38;5;241m*\u001b[39m\u001b[38;5;241m*\u001b[39mkwargs)\n\u001b[0;32m    151\u001b[0m \u001b[38;5;28;01mexcept\u001b[39;00m \u001b[38;5;167;01mException\u001b[39;00m \u001b[38;5;28;01mas\u001b[39;00m e:\n\u001b[0;32m    152\u001b[0m   filtered_tb \u001b[38;5;241m=\u001b[39m _process_traceback_frames(e\u001b[38;5;241m.\u001b[39m__traceback__)\n",
      "File \u001b[1;32mC:\\Program Files\\Anaconda3\\envs\\env_qiskit\\lib\\site-packages\\tensorflow\\python\\util\\dispatch.py:1176\u001b[0m, in \u001b[0;36madd_dispatch_support.<locals>.decorator.<locals>.op_dispatch_handler\u001b[1;34m(*args, **kwargs)\u001b[0m\n\u001b[0;32m   1174\u001b[0m \u001b[38;5;66;03m# Fallback dispatch system (dispatch v1):\u001b[39;00m\n\u001b[0;32m   1175\u001b[0m \u001b[38;5;28;01mtry\u001b[39;00m:\n\u001b[1;32m-> 1176\u001b[0m   \u001b[38;5;28;01mreturn\u001b[39;00m dispatch_target(\u001b[38;5;241m*\u001b[39margs, \u001b[38;5;241m*\u001b[39m\u001b[38;5;241m*\u001b[39mkwargs)\n\u001b[0;32m   1177\u001b[0m \u001b[38;5;28;01mexcept\u001b[39;00m (\u001b[38;5;167;01mTypeError\u001b[39;00m, \u001b[38;5;167;01mValueError\u001b[39;00m):\n\u001b[0;32m   1178\u001b[0m   \u001b[38;5;66;03m# Note: convert_to_eager_tensor currently raises a ValueError, not a\u001b[39;00m\n\u001b[0;32m   1179\u001b[0m   \u001b[38;5;66;03m# TypeError, when given unexpected types.  So we need to catch both.\u001b[39;00m\n\u001b[0;32m   1180\u001b[0m   result \u001b[38;5;241m=\u001b[39m dispatch(op_dispatch_handler, args, kwargs)\n",
      "File \u001b[1;32mC:\\Program Files\\Anaconda3\\envs\\env_qiskit\\lib\\site-packages\\tensorflow\\python\\ops\\array_ops.py:1269\u001b[0m, in \u001b[0;36mstrided_slice\u001b[1;34m(input_, begin, end, strides, begin_mask, end_mask, ellipsis_mask, new_axis_mask, shrink_axis_mask, var, name)\u001b[0m\n\u001b[0;32m   1266\u001b[0m \u001b[38;5;28;01mif\u001b[39;00m strides \u001b[38;5;129;01mis\u001b[39;00m \u001b[38;5;28;01mNone\u001b[39;00m:\n\u001b[0;32m   1267\u001b[0m   strides \u001b[38;5;241m=\u001b[39m ones_like(begin)\n\u001b[1;32m-> 1269\u001b[0m op \u001b[38;5;241m=\u001b[39m \u001b[43mgen_array_ops\u001b[49m\u001b[38;5;241;43m.\u001b[39;49m\u001b[43mstrided_slice\u001b[49m\u001b[43m(\u001b[49m\n\u001b[0;32m   1270\u001b[0m \u001b[43m    \u001b[49m\u001b[38;5;28;43minput\u001b[39;49m\u001b[38;5;241;43m=\u001b[39;49m\u001b[43minput_\u001b[49m\u001b[43m,\u001b[49m\n\u001b[0;32m   1271\u001b[0m \u001b[43m    \u001b[49m\u001b[43mbegin\u001b[49m\u001b[38;5;241;43m=\u001b[39;49m\u001b[43mbegin\u001b[49m\u001b[43m,\u001b[49m\n\u001b[0;32m   1272\u001b[0m \u001b[43m    \u001b[49m\u001b[43mend\u001b[49m\u001b[38;5;241;43m=\u001b[39;49m\u001b[43mend\u001b[49m\u001b[43m,\u001b[49m\n\u001b[0;32m   1273\u001b[0m \u001b[43m    \u001b[49m\u001b[43mstrides\u001b[49m\u001b[38;5;241;43m=\u001b[39;49m\u001b[43mstrides\u001b[49m\u001b[43m,\u001b[49m\n\u001b[0;32m   1274\u001b[0m \u001b[43m    \u001b[49m\u001b[43mname\u001b[49m\u001b[38;5;241;43m=\u001b[39;49m\u001b[43mname\u001b[49m\u001b[43m,\u001b[49m\n\u001b[0;32m   1275\u001b[0m \u001b[43m    \u001b[49m\u001b[43mbegin_mask\u001b[49m\u001b[38;5;241;43m=\u001b[39;49m\u001b[43mbegin_mask\u001b[49m\u001b[43m,\u001b[49m\n\u001b[0;32m   1276\u001b[0m \u001b[43m    \u001b[49m\u001b[43mend_mask\u001b[49m\u001b[38;5;241;43m=\u001b[39;49m\u001b[43mend_mask\u001b[49m\u001b[43m,\u001b[49m\n\u001b[0;32m   1277\u001b[0m \u001b[43m    \u001b[49m\u001b[43mellipsis_mask\u001b[49m\u001b[38;5;241;43m=\u001b[39;49m\u001b[43mellipsis_mask\u001b[49m\u001b[43m,\u001b[49m\n\u001b[0;32m   1278\u001b[0m \u001b[43m    \u001b[49m\u001b[43mnew_axis_mask\u001b[49m\u001b[38;5;241;43m=\u001b[39;49m\u001b[43mnew_axis_mask\u001b[49m\u001b[43m,\u001b[49m\n\u001b[0;32m   1279\u001b[0m \u001b[43m    \u001b[49m\u001b[43mshrink_axis_mask\u001b[49m\u001b[38;5;241;43m=\u001b[39;49m\u001b[43mshrink_axis_mask\u001b[49m\u001b[43m)\u001b[49m\n\u001b[0;32m   1281\u001b[0m parent_name \u001b[38;5;241m=\u001b[39m name\n\u001b[0;32m   1283\u001b[0m \u001b[38;5;28;01mif\u001b[39;00m var \u001b[38;5;129;01mis\u001b[39;00m \u001b[38;5;129;01mnot\u001b[39;00m \u001b[38;5;28;01mNone\u001b[39;00m:\n",
      "File \u001b[1;32mC:\\Program Files\\Anaconda3\\envs\\env_qiskit\\lib\\site-packages\\tensorflow\\python\\ops\\gen_array_ops.py:10671\u001b[0m, in \u001b[0;36mstrided_slice\u001b[1;34m(input, begin, end, strides, begin_mask, end_mask, ellipsis_mask, new_axis_mask, shrink_axis_mask, name)\u001b[0m\n\u001b[0;32m  10669\u001b[0m \u001b[38;5;28;01mif\u001b[39;00m tld\u001b[38;5;241m.\u001b[39mis_eager:\n\u001b[0;32m  10670\u001b[0m   \u001b[38;5;28;01mtry\u001b[39;00m:\n\u001b[1;32m> 10671\u001b[0m     _result \u001b[38;5;241m=\u001b[39m \u001b[43mpywrap_tfe\u001b[49m\u001b[38;5;241;43m.\u001b[39;49m\u001b[43mTFE_Py_FastPathExecute\u001b[49m\u001b[43m(\u001b[49m\n\u001b[0;32m  10672\u001b[0m \u001b[43m      \u001b[49m\u001b[43m_ctx\u001b[49m\u001b[43m,\u001b[49m\u001b[43m \u001b[49m\u001b[38;5;124;43m\"\u001b[39;49m\u001b[38;5;124;43mStridedSlice\u001b[39;49m\u001b[38;5;124;43m\"\u001b[39;49m\u001b[43m,\u001b[49m\u001b[43m \u001b[49m\u001b[43mname\u001b[49m\u001b[43m,\u001b[49m\u001b[43m \u001b[49m\u001b[38;5;28;43minput\u001b[39;49m\u001b[43m,\u001b[49m\u001b[43m \u001b[49m\u001b[43mbegin\u001b[49m\u001b[43m,\u001b[49m\u001b[43m \u001b[49m\u001b[43mend\u001b[49m\u001b[43m,\u001b[49m\u001b[43m \u001b[49m\u001b[43mstrides\u001b[49m\u001b[43m,\u001b[49m\u001b[43m \u001b[49m\u001b[38;5;124;43m\"\u001b[39;49m\u001b[38;5;124;43mbegin_mask\u001b[39;49m\u001b[38;5;124;43m\"\u001b[39;49m\u001b[43m,\u001b[49m\n\u001b[0;32m  10673\u001b[0m \u001b[43m      \u001b[49m\u001b[43mbegin_mask\u001b[49m\u001b[43m,\u001b[49m\u001b[43m \u001b[49m\u001b[38;5;124;43m\"\u001b[39;49m\u001b[38;5;124;43mend_mask\u001b[39;49m\u001b[38;5;124;43m\"\u001b[39;49m\u001b[43m,\u001b[49m\u001b[43m \u001b[49m\u001b[43mend_mask\u001b[49m\u001b[43m,\u001b[49m\u001b[43m \u001b[49m\u001b[38;5;124;43m\"\u001b[39;49m\u001b[38;5;124;43mellipsis_mask\u001b[39;49m\u001b[38;5;124;43m\"\u001b[39;49m\u001b[43m,\u001b[49m\u001b[43m \u001b[49m\u001b[43mellipsis_mask\u001b[49m\u001b[43m,\u001b[49m\n\u001b[0;32m  10674\u001b[0m \u001b[43m      \u001b[49m\u001b[38;5;124;43m\"\u001b[39;49m\u001b[38;5;124;43mnew_axis_mask\u001b[39;49m\u001b[38;5;124;43m\"\u001b[39;49m\u001b[43m,\u001b[49m\u001b[43m \u001b[49m\u001b[43mnew_axis_mask\u001b[49m\u001b[43m,\u001b[49m\u001b[43m \u001b[49m\u001b[38;5;124;43m\"\u001b[39;49m\u001b[38;5;124;43mshrink_axis_mask\u001b[39;49m\u001b[38;5;124;43m\"\u001b[39;49m\u001b[43m,\u001b[49m\u001b[43m \u001b[49m\u001b[43mshrink_axis_mask\u001b[49m\u001b[43m)\u001b[49m\n\u001b[0;32m  10675\u001b[0m     \u001b[38;5;28;01mreturn\u001b[39;00m _result\n\u001b[0;32m  10676\u001b[0m   \u001b[38;5;28;01mexcept\u001b[39;00m _core\u001b[38;5;241m.\u001b[39m_NotOkStatusException \u001b[38;5;28;01mas\u001b[39;00m e:\n",
      "\u001b[1;31mKeyboardInterrupt\u001b[0m: "
     ]
    }
   ],
   "source": [
    "n = 3\n",
    "d = 2**n\n",
    "\n",
    "np.random.seed(42)\n",
    "random.seed(42)\n",
    "tf.random.set_seed(42)\n",
    "rng = np.random.default_rng(seed=42)\n",
    "\n",
    "[distance_best_list, model_best_list] = loader(data_path(\"diluted_fitting_24layer.model\"))\n",
    "rank_start = model_best_list[-1].channel.rank\n",
    "\n",
    "distance_best_list, model_best_list = fit_diluted_unitary(spectrum_target_list4, \n",
    "                                                          d=d, \n",
    "                                                          rank_start=rank_start, \n",
    "                                                          rank_step=1,\n",
    "                                                          num_iter = 1000)\n",
    "\n",
    "saver([distance_best_list, model_best_list], data_path(\"diluted_fitting_32layer.model\"))"
   ]
  },
  {
   "cell_type": "markdown",
   "metadata": {},
   "source": [
    "## Four Qubits"
   ]
  },
  {
   "cell_type": "code",
   "execution_count": 38,
   "metadata": {},
   "outputs": [],
   "source": [
    "n = 4\n",
    "d = 2**n\n",
    "\n",
    "[model1, model2, model3, model4, model5] = loader(data_path(\"belem_4qubit_repeated.model\"))\n",
    "\n",
    "spectrum1 = channel_spectrum(model1.channel, use_coords=True)\n",
    "spectrum2 = channel_spectrum(model2.channel, use_coords=True) \n",
    "spectrum3 = channel_spectrum(model3.channel, use_coords=True)\n",
    "spectrum4 = channel_spectrum(model4.channel, use_coords=True)\n",
    "spectrum5 = channel_spectrum(model5.channel, use_coords=True)"
   ]
  },
  {
   "cell_type": "code",
   "execution_count": 39,
   "metadata": {
    "scrolled": true
   },
   "outputs": [
    {
     "data": {
      "application/vnd.jupyter.widget-view+json": {
       "model_id": "8a9fdc3d90b144b1b7643197f9a3acff",
       "version_major": 2,
       "version_minor": 0
      },
      "text/plain": [
       "  0%|          | 0/1000 [00:00<?, ?it/s]"
      ]
     },
     "metadata": {},
     "output_type": "display_data"
    },
    {
     "name": "stdout",
     "output_type": "stream",
     "text": [
      "0.2085285055390247 None\n",
      "0.20772108047127816 None\n",
      "0.20304760627128066 None\n",
      "0.20304064670395125 None\n",
      "0.2069356299367542 None\n",
      "0.20304064668710342 None\n",
      "0.2030406466871089 None\n",
      "0.20693562993675918 None\n",
      "0.2069356299367567 None\n",
      "0.20693562993676387 None\n",
      "0.2069356299367602 None\n"
     ]
    },
    {
     "data": {
      "application/vnd.jupyter.widget-view+json": {
       "model_id": "c15b3c0357e0460f9e02fb18deadad1a",
       "version_major": 2,
       "version_minor": 0
      },
      "text/plain": [
       "  0%|          | 0/1000 [00:00<?, ?it/s]"
      ]
     },
     "metadata": {},
     "output_type": "display_data"
    },
    {
     "name": "stdout",
     "output_type": "stream",
     "text": [
      "0.11264331762034509 None\n",
      "0.0980024674459395 None\n",
      "0.08987219399363602 None\n",
      "0.08840771668118627 None\n",
      "0.08463397391653817 None\n",
      "0.08439493711056795 None\n",
      "0.08047951703712536 None\n",
      "0.08047595936629584 None\n",
      "0.0843816241188914 None\n",
      "0.08048799919145525 None\n",
      "0.08048236400424513 None\n"
     ]
    },
    {
     "data": {
      "application/vnd.jupyter.widget-view+json": {
       "model_id": "f584cad98c7142cbb2fac18bca35b830",
       "version_major": 2,
       "version_minor": 0
      },
      "text/plain": [
       "  0%|          | 0/1000 [00:00<?, ?it/s]"
      ]
     },
     "metadata": {},
     "output_type": "display_data"
    },
    {
     "name": "stdout",
     "output_type": "stream",
     "text": [
      "0.08179303421434503 None\n",
      "0.07292606770139459 None\n",
      "0.05433287940443949 None\n",
      "0.03781677753005208 None\n",
      "0.03714822587149737 None\n",
      "0.04488514996209556 None\n",
      "0.04869178043953505 None\n",
      "0.04490015078476678 None\n",
      "0.0371613657286246 None\n",
      "0.037154730010431285 None\n",
      "0.041069807144451013 None\n"
     ]
    },
    {
     "data": {
      "application/vnd.jupyter.widget-view+json": {
       "model_id": "43ab01d8c84043a4844368428d4a705f",
       "version_major": 2,
       "version_minor": 0
      },
      "text/plain": [
       "  0%|          | 0/1000 [00:00<?, ?it/s]"
      ]
     },
     "metadata": {},
     "output_type": "display_data"
    },
    {
     "name": "stdout",
     "output_type": "stream",
     "text": [
      "0.07442666419691513 None\n",
      "0.05568937467312535 None\n",
      "0.042611430982425764 None\n",
      "0.028929146443495382 None\n",
      "0.028341364863584777 None\n",
      "0.024501595779891187 None\n",
      "0.028382240063510446 None\n",
      "0.024460262082326444 None\n",
      "0.024427008400701604 None\n",
      "0.02442681938579511 None\n",
      "0.028344455042548494 None\n"
     ]
    },
    {
     "data": {
      "application/vnd.jupyter.widget-view+json": {
       "model_id": "93df55a1a9d74af38886b2fe1ba09ac3",
       "version_major": 2,
       "version_minor": 0
      },
      "text/plain": [
       "  0%|          | 0/1000 [00:00<?, ?it/s]"
      ]
     },
     "metadata": {},
     "output_type": "display_data"
    },
    {
     "name": "stdout",
     "output_type": "stream",
     "text": [
      "0.07175205409992282 None\n",
      "0.05169491133922688 None\n",
      "0.02933877641943553 None\n",
      "0.019047790828688273 None\n",
      "0.018850488048671305 None\n",
      "0.018895959245939495 None\n",
      "0.01884630395534294 None\n",
      "0.01501461515254779 None\n",
      "0.01887185268611696 None\n",
      "0.01888889103816581 None\n",
      "0.018881501754407046 None\n"
     ]
    },
    {
     "data": {
      "application/vnd.jupyter.widget-view+json": {
       "model_id": "d05cb7d161014af994b59ddddfd9616f",
       "version_major": 2,
       "version_minor": 0
      },
      "text/plain": [
       "  0%|          | 0/1000 [00:00<?, ?it/s]"
      ]
     },
     "metadata": {},
     "output_type": "display_data"
    },
    {
     "name": "stdout",
     "output_type": "stream",
     "text": [
      "0.07576072862074666 None\n",
      "0.04398744385803457 None\n",
      "0.030950348240939844 None\n",
      "0.009882378234267492 None\n",
      "0.012704900791466972 None\n",
      "0.008759763888438842 None\n",
      "0.008815173087525382 None\n",
      "0.008773575271732847 None\n",
      "0.008794031421889364 None\n",
      "0.01268813493719461 None\n",
      "0.01266400545852529 None\n"
     ]
    },
    {
     "data": {
      "application/vnd.jupyter.widget-view+json": {
       "model_id": "eabced513ead4bd8a9aba96d129def1d",
       "version_major": 2,
       "version_minor": 0
      },
      "text/plain": [
       "  0%|          | 0/1000 [00:00<?, ?it/s]"
      ]
     },
     "metadata": {},
     "output_type": "display_data"
    },
    {
     "name": "stdout",
     "output_type": "stream",
     "text": [
      "0.07115475166539846 None\n",
      "0.047163327480598996 None\n",
      "0.0238526881661157 None\n",
      "0.008812122236760082 None\n",
      "0.004370943866744979 None\n",
      "0.008220263459237532 None\n",
      "0.008253080984711328 None\n",
      "0.004359026431107595 None\n",
      "0.004371077050302812 None\n",
      "0.008234013563149855 None\n",
      "0.004320234593643826 None\n"
     ]
    },
    {
     "data": {
      "application/vnd.jupyter.widget-view+json": {
       "model_id": "ad496bd1a78b4d2fb9f80c978b158629",
       "version_major": 2,
       "version_minor": 0
      },
      "text/plain": [
       "  0%|          | 0/1000 [00:00<?, ?it/s]"
      ]
     },
     "metadata": {},
     "output_type": "display_data"
    },
    {
     "name": "stdout",
     "output_type": "stream",
     "text": [
      "0.07544832727050488 None\n",
      "0.047983374209919605 None\n",
      "0.020495751950615575 None\n",
      "0.00266660494267037 None\n",
      "0.002519459108687905 None\n",
      "0.0024549374849748124 None\n",
      "0.00248198623793877 None\n",
      "0.0024772515921205646 None\n",
      "0.002486610360585952 None\n",
      "0.002481699596648453 None\n",
      "0.002464453382341284 None\n"
     ]
    },
    {
     "data": {
      "application/vnd.jupyter.widget-view+json": {
       "model_id": "b61680717c5849a1a1a217c21d967219",
       "version_major": 2,
       "version_minor": 0
      },
      "text/plain": [
       "  0%|          | 0/1000 [00:00<?, ?it/s]"
      ]
     },
     "metadata": {},
     "output_type": "display_data"
    },
    {
     "name": "stdout",
     "output_type": "stream",
     "text": [
      "0.08038972484698108 None\n",
      "0.04932932829120148 None\n",
      "0.02583176606751496 None\n",
      "0.0016415419940773344 None\n",
      "0.00539654763815662 None\n",
      "0.005381804959246181 None\n",
      "0.009250882757283517 None\n",
      "0.005411452103680733 None\n",
      "0.0015054436387361438 None\n",
      "0.005386699433998443 None\n",
      "0.0015384608055065562 None\n"
     ]
    },
    {
     "data": {
      "application/vnd.jupyter.widget-view+json": {
       "model_id": "4ff623f691ed4613a4a68ec8c96cf87c",
       "version_major": 2,
       "version_minor": 0
      },
      "text/plain": [
       "  0%|          | 0/1000 [00:00<?, ?it/s]"
      ]
     },
     "metadata": {},
     "output_type": "display_data"
    },
    {
     "name": "stdout",
     "output_type": "stream",
     "text": [
      "0.07564137349156974 None\n",
      "0.04860920626157788 None\n",
      "0.02161592917454029 None\n",
      "0.0018700385480870058 None\n",
      "0.001617774365076723 None\n",
      "0.0016150190354173955 None\n",
      "0.0016229007402945677 None\n",
      "0.0016310892147336394 None\n",
      "0.0016152285462323463 None\n",
      "0.0016117318143597462 None\n",
      "0.0016449867136785795 None\n",
      "Done!\n"
     ]
    }
   ],
   "source": [
    "distance_best, model_best = optimize_annulus_distance(spectrum_target = spectrum1, \n",
    "                                                      d = d, \n",
    "                                                      rank_start = 1, \n",
    "                                                      rank_step = 1,\n",
    "                                                      num_iter = 1000)\n",
    "\n",
    "model_best.optimizer = None\n",
    "saver([distance_best, model_best], data_path(\"diluted_fitting_4qubit_8layer.model\"))"
   ]
  },
  {
   "cell_type": "code",
   "execution_count": 40,
   "metadata": {},
   "outputs": [
    {
     "data": {
      "application/vnd.jupyter.widget-view+json": {
       "model_id": "3116de4a18984d37b7803281e5e61e72",
       "version_major": 2,
       "version_minor": 0
      },
      "text/plain": [
       "  0%|          | 0/1000 [00:00<?, ?it/s]"
      ]
     },
     "metadata": {},
     "output_type": "display_data"
    },
    {
     "name": "stdout",
     "output_type": "stream",
     "text": [
      "0.3529513921426881 None\n",
      "0.345806609160031 None\n",
      "0.3440198959077034 None\n",
      "0.34376247216784356 None\n",
      "0.3437408139234092 None\n",
      "0.3397908991599398 None\n",
      "0.34373910900830096 None\n",
      "0.33979079231476966 None\n",
      "0.3397907921962647 None\n",
      "0.34373910447705985 None\n",
      "0.34373910447704487 None\n"
     ]
    },
    {
     "data": {
      "application/vnd.jupyter.widget-view+json": {
       "model_id": "e8ae793414d943c4ab8d1dbafd023b88",
       "version_major": 2,
       "version_minor": 0
      },
      "text/plain": [
       "  0%|          | 0/1000 [00:00<?, ?it/s]"
      ]
     },
     "metadata": {},
     "output_type": "display_data"
    },
    {
     "name": "stdout",
     "output_type": "stream",
     "text": [
      "0.250967453470484 None\n",
      "0.24350532361898186 None\n",
      "0.23184137963658052 None\n",
      "0.2247380449891482 None\n",
      "0.22863315635506792 None\n",
      "0.22863315635120013 None\n",
      "0.2324753629364637 None\n",
      "0.22863315635106185 None\n",
      "0.22473803692417552 None\n",
      "0.22863315635109657 None\n",
      "0.2286331563511019 None\n"
     ]
    },
    {
     "data": {
      "application/vnd.jupyter.widget-view+json": {
       "model_id": "bab328c4a9bb43d3ab5281eb5883ff6e",
       "version_major": 2,
       "version_minor": 0
      },
      "text/plain": [
       "  0%|          | 0/1000 [00:00<?, ?it/s]"
      ]
     },
     "metadata": {},
     "output_type": "display_data"
    },
    {
     "name": "stdout",
     "output_type": "stream",
     "text": [
      "0.2253631182236003 None\n",
      "0.20928097575926022 None\n",
      "0.1950291052988325 None\n",
      "0.18266570496854723 None\n",
      "0.17228088058588678 None\n",
      "0.164981573277751 None\n",
      "0.15992149220524457 None\n",
      "0.15955638097442157 None\n",
      "0.14959223461730745 None\n",
      "0.14969131998069432 None\n",
      "0.15371483375923556 None\n"
     ]
    },
    {
     "data": {
      "application/vnd.jupyter.widget-view+json": {
       "model_id": "396eb936e83e4b02bc234c4b99a39f3f",
       "version_major": 2,
       "version_minor": 0
      },
      "text/plain": [
       "  0%|          | 0/1000 [00:00<?, ?it/s]"
      ]
     },
     "metadata": {},
     "output_type": "display_data"
    },
    {
     "name": "stdout",
     "output_type": "stream",
     "text": [
      "0.21101540404175687 None\n",
      "0.1916713629946105 None\n",
      "0.17745797810539157 None\n",
      "0.1615186223381367 None\n",
      "0.14361404045892429 None\n",
      "0.13634080368907928 None\n",
      "0.12396764151425844 None\n",
      "0.12076490429280846 None\n",
      "0.11428921211093528 None\n",
      "0.10560719338146116 None\n",
      "0.10622546671037801 None\n"
     ]
    },
    {
     "data": {
      "application/vnd.jupyter.widget-view+json": {
       "model_id": "7ad296df77624642bce05d555de546db",
       "version_major": 2,
       "version_minor": 0
      },
      "text/plain": [
       "  0%|          | 0/1000 [00:00<?, ?it/s]"
      ]
     },
     "metadata": {},
     "output_type": "display_data"
    },
    {
     "name": "stdout",
     "output_type": "stream",
     "text": [
      "0.22512285686398634 None\n",
      "0.20068837848578272 None\n",
      "0.17100871922996186 None\n",
      "0.1608450476802761 None\n",
      "0.14708884219847315 None\n",
      "0.13019465118452078 None\n",
      "0.11859369157451274 None\n",
      "0.11257464182069143 None\n",
      "0.10009140254292935 None\n",
      "0.09293378792898253 None\n",
      "0.08675752231735082 None\n"
     ]
    },
    {
     "data": {
      "application/vnd.jupyter.widget-view+json": {
       "model_id": "013a6c9f92e54c8589a125bc246ad445",
       "version_major": 2,
       "version_minor": 0
      },
      "text/plain": [
       "  0%|          | 0/1000 [00:00<?, ?it/s]"
      ]
     },
     "metadata": {},
     "output_type": "display_data"
    },
    {
     "name": "stdout",
     "output_type": "stream",
     "text": [
      "0.2208780302337179 None\n",
      "0.19667998676529683 None\n",
      "0.16435325918578575 None\n",
      "0.14632467552633777 None\n",
      "0.13198426699864746 None\n",
      "0.12205702755551365 None\n",
      "0.10515012528872157 None\n",
      "0.09760015020813351 None\n",
      "0.09138795748762911 None\n",
      "0.07825354366037778 None\n",
      "0.07091959671925854 None\n"
     ]
    },
    {
     "data": {
      "application/vnd.jupyter.widget-view+json": {
       "model_id": "031b94c9ee5644fda131de897b78402e",
       "version_major": 2,
       "version_minor": 0
      },
      "text/plain": [
       "  0%|          | 0/1000 [00:00<?, ?it/s]"
      ]
     },
     "metadata": {},
     "output_type": "display_data"
    },
    {
     "name": "stdout",
     "output_type": "stream",
     "text": [
      "0.22112219562522764 None\n",
      "0.19307991435987742 None\n",
      "0.168862202084925 None\n",
      "0.14062772187057715 None\n",
      "0.12180700735296209 None\n",
      "0.10426407043366252 None\n",
      "0.09126088650631407 None\n",
      "0.07918809497729296 None\n",
      "0.06811549214482705 None\n",
      "0.06214954349370964 None\n",
      "0.054573274496857054 None\n"
     ]
    },
    {
     "data": {
      "application/vnd.jupyter.widget-view+json": {
       "model_id": "78a5306f35814c8ea11e67b8ce9b2456",
       "version_major": 2,
       "version_minor": 0
      },
      "text/plain": [
       "  0%|          | 0/1000 [00:00<?, ?it/s]"
      ]
     },
     "metadata": {},
     "output_type": "display_data"
    },
    {
     "name": "stdout",
     "output_type": "stream",
     "text": [
      "0.22180298975524995 None\n",
      "0.1979763071327985 None\n",
      "0.17003189379797046 None\n",
      "0.14189735280316426 None\n",
      "0.1135595211946302 None\n",
      "0.09922071935900223 None\n",
      "0.08516789320073861 None\n",
      "0.07188964235726267 None\n",
      "0.06400726928438115 None\n",
      "0.053142097976664415 None\n",
      "0.03993944512129645 None\n"
     ]
    },
    {
     "data": {
      "application/vnd.jupyter.widget-view+json": {
       "model_id": "7fe2f37f836d43fc88f24932ffa4c15e",
       "version_major": 2,
       "version_minor": 0
      },
      "text/plain": [
       "  0%|          | 0/1000 [00:00<?, ?it/s]"
      ]
     },
     "metadata": {},
     "output_type": "display_data"
    },
    {
     "name": "stdout",
     "output_type": "stream",
     "text": [
      "0.2272587379311117 None\n",
      "0.19589698724555685 None\n",
      "0.1684777599853118 None\n",
      "0.14494393973594077 None\n",
      "0.11775023177031718 None\n",
      "0.09864020988796374 None\n",
      "0.0810443921654288 None\n",
      "0.06787174493451782 None\n",
      "0.05929271571305265 None\n",
      "0.04460414486175316 None\n",
      "0.03897703810380728 None\n"
     ]
    },
    {
     "data": {
      "application/vnd.jupyter.widget-view+json": {
       "model_id": "43d6c4b29eba47ba8e2d9ecb75c5223c",
       "version_major": 2,
       "version_minor": 0
      },
      "text/plain": [
       "  0%|          | 0/1000 [00:00<?, ?it/s]"
      ]
     },
     "metadata": {},
     "output_type": "display_data"
    },
    {
     "name": "stdout",
     "output_type": "stream",
     "text": [
      "0.22360995667378425 None\n",
      "0.1963424715553337 None\n",
      "0.16893005482103318 None\n",
      "0.14564987646083183 None\n",
      "0.11497453377873726 None\n",
      "0.09255022114087262 None\n",
      "0.07761665541678851 None\n",
      "0.06013443781815561 None\n",
      "0.05137125388634822 None\n",
      "0.039654506397242384 None\n",
      "0.033113250896155876 None\n"
     ]
    },
    {
     "data": {
      "application/vnd.jupyter.widget-view+json": {
       "model_id": "542831db273244b5aca46c26d077cc5a",
       "version_major": 2,
       "version_minor": 0
      },
      "text/plain": [
       "  0%|          | 0/1000 [00:00<?, ?it/s]"
      ]
     },
     "metadata": {},
     "output_type": "display_data"
    },
    {
     "name": "stdout",
     "output_type": "stream",
     "text": [
      "0.2268406339835115 None\n",
      "0.1998342529499487 None\n",
      "0.17290448183732418 None\n",
      "0.14614015902310926 None\n",
      "0.11969569975244611 None\n",
      "0.09759680868163365 None\n",
      "0.07193442558204251 None\n",
      "0.05819538454916088 None\n",
      "0.04532175123722934 None\n",
      "0.03741434996320242 None\n",
      "0.023002964804349567 None\n"
     ]
    },
    {
     "data": {
      "application/vnd.jupyter.widget-view+json": {
       "model_id": "4542024953db4f4caa87b6ab68ba5cb5",
       "version_major": 2,
       "version_minor": 0
      },
      "text/plain": [
       "  0%|          | 0/1000 [00:00<?, ?it/s]"
      ]
     },
     "metadata": {},
     "output_type": "display_data"
    },
    {
     "name": "stdout",
     "output_type": "stream",
     "text": [
      "0.22834278642890707 None\n",
      "0.20138511025382705 None\n",
      "0.17440440229340987 None\n",
      "0.1474660342732396 None\n",
      "0.12094772501475168 None\n",
      "0.0910862743998344 None\n",
      "0.06593259760953926 None\n",
      "0.055910144236786787 None\n",
      "0.03906065170351152 None\n",
      "0.030978911481676637 None\n",
      "0.020087548410264527 None\n"
     ]
    },
    {
     "data": {
      "application/vnd.jupyter.widget-view+json": {
       "model_id": "e08aaae9e2cd45e5b9b914d1e7a365ad",
       "version_major": 2,
       "version_minor": 0
      },
      "text/plain": [
       "  0%|          | 0/1000 [00:00<?, ?it/s]"
      ]
     },
     "metadata": {},
     "output_type": "display_data"
    },
    {
     "name": "stdout",
     "output_type": "stream",
     "text": [
      "0.22813497407010586 None\n",
      "0.20516523373941534 None\n",
      "0.178303863784635 None\n",
      "0.1516834018602287 None\n",
      "0.12153802683019785 None\n",
      "0.09582957478698785 None\n",
      "0.07065075261252601 None\n",
      "0.05357838714627559 None\n",
      "0.04011512454082793 None\n",
      "0.027357670603929515 None\n",
      "0.01947512505756322 None\n"
     ]
    },
    {
     "data": {
      "application/vnd.jupyter.widget-view+json": {
       "model_id": "ae38682e1b984193a5abf08ada43b991",
       "version_major": 2,
       "version_minor": 0
      },
      "text/plain": [
       "  0%|          | 0/1000 [00:00<?, ?it/s]"
      ]
     },
     "metadata": {},
     "output_type": "display_data"
    },
    {
     "name": "stdout",
     "output_type": "stream",
     "text": [
      "0.22846413978072966 None\n",
      "0.19765559477213673 None\n",
      "0.17483410438178562 None\n",
      "0.14834916218940206 None\n",
      "0.12230124385554668 None\n",
      "0.09269109556431822 None\n",
      "0.06767418285884577 None\n",
      "0.050173549896082296 None\n",
      "0.03703190008798793 None\n",
      "0.024663674944777513 None\n",
      "0.009173463758337967 None\n"
     ]
    },
    {
     "data": {
      "application/vnd.jupyter.widget-view+json": {
       "model_id": "d45501af3c5f40d7bc1a5bded97fedbe",
       "version_major": 2,
       "version_minor": 0
      },
      "text/plain": [
       "  0%|          | 0/1000 [00:00<?, ?it/s]"
      ]
     },
     "metadata": {},
     "output_type": "display_data"
    },
    {
     "name": "stdout",
     "output_type": "stream",
     "text": [
      "0.2305143131514942 None\n",
      "0.2036806260601801 None\n",
      "0.17689531040916348 None\n",
      "0.1503958122956705 None\n",
      "0.12034694118531288 None\n",
      "0.09476613804492098 None\n",
      "0.0738847379425756 None\n",
      "0.05213050372418569 None\n",
      "0.0385508245308883 None\n",
      "0.025591005072525992 None\n",
      "0.013467920069588461 None\n",
      "Done!\n"
     ]
    }
   ],
   "source": [
    "distance_best, model_best = optimize_annulus_distance(spectrum_target = spectrum2, \n",
    "                                                      d = d, \n",
    "                                                      rank_start = 1, \n",
    "                                                      rank_step = 1,\n",
    "                                                      num_iter = 1000)\n",
    "\n",
    "model_best.optimizer = None\n",
    "saver([distance_best, model_best], data_path(\"diluted_fitting_4qubit_16layer.model\"))"
   ]
  },
  {
   "cell_type": "code",
   "execution_count": 41,
   "metadata": {},
   "outputs": [
    {
     "data": {
      "application/vnd.jupyter.widget-view+json": {
       "model_id": "97cd3848ce5543de9a0b536f2a9a3812",
       "version_major": 2,
       "version_minor": 0
      },
      "text/plain": [
       "  0%|          | 0/1000 [00:00<?, ?it/s]"
      ]
     },
     "metadata": {},
     "output_type": "display_data"
    },
    {
     "name": "stdout",
     "output_type": "stream",
     "text": [
      "0.4539175078479235 None\n",
      "0.45174514281701017 None\n",
      "0.45165340280746924 None\n",
      "0.45165339931227494 None\n",
      "0.4477052567735745 None\n",
      "0.4477052567735713 None\n",
      "0.4516533993122748 None\n",
      "0.4516533993122908 None\n",
      "0.4516533993122783 None\n",
      "0.45165339931229403 None\n",
      "0.45554839402846736 None\n"
     ]
    },
    {
     "data": {
      "application/vnd.jupyter.widget-view+json": {
       "model_id": "74009fda7c504e378baa9f999815dc5f",
       "version_major": 2,
       "version_minor": 0
      },
      "text/plain": [
       "  0%|          | 0/1000 [00:00<?, ?it/s]"
      ]
     },
     "metadata": {},
     "output_type": "display_data"
    },
    {
     "name": "stdout",
     "output_type": "stream",
     "text": [
      "0.3589258361692094 None\n",
      "0.3517529726960299 None\n",
      "0.34024372616421006 None\n",
      "0.3424727992935695 None\n",
      "0.3273484740336213 None\n",
      "0.3290353957370658 None\n",
      "0.3357251906420423 None\n",
      "0.3279189447674703 None\n",
      "0.3318138838559316 None\n",
      "0.3318138838560613 None\n",
      "0.3318138838589909 None\n"
     ]
    },
    {
     "data": {
      "application/vnd.jupyter.widget-view+json": {
       "model_id": "c89159389562405c97d70461ed40fe70",
       "version_major": 2,
       "version_minor": 0
      },
      "text/plain": [
       "  0%|          | 0/1000 [00:00<?, ?it/s]"
      ]
     },
     "metadata": {},
     "output_type": "display_data"
    },
    {
     "name": "stdout",
     "output_type": "stream",
     "text": [
      "0.3348028785231055 None\n",
      "0.32215940617453015 None\n",
      "0.3111162450270051 None\n",
      "0.28729777650825095 None\n",
      "0.28148994789510495 None\n",
      "0.274967939241858 None\n",
      "0.2698046823379161 None\n",
      "0.2659914082988306 None\n",
      "0.26046282710024543 None\n",
      "0.2563795643820661 None\n",
      "0.24900015768068895 None\n"
     ]
    },
    {
     "data": {
      "application/vnd.jupyter.widget-view+json": {
       "model_id": "276ed9c6c05d4de68e716f4819961039",
       "version_major": 2,
       "version_minor": 0
      },
      "text/plain": [
       "  0%|          | 0/1000 [00:00<?, ?it/s]"
      ]
     },
     "metadata": {},
     "output_type": "display_data"
    },
    {
     "name": "stdout",
     "output_type": "stream",
     "text": [
      "0.34015046474998173 None\n",
      "0.3026974061766733 None\n",
      "0.2968430721291658 None\n",
      "0.27976501810701254 None\n",
      "0.2709116072771887 None\n",
      "0.2551796617564307 None\n",
      "0.2491095329565274 None\n",
      "0.24075968959395705 None\n",
      "0.23407886192619168 None\n",
      "0.22882918803521177 None\n",
      "0.22519077113293756 None\n"
     ]
    },
    {
     "data": {
      "application/vnd.jupyter.widget-view+json": {
       "model_id": "1e63e94df47e4981a4ef7e50e80189ec",
       "version_major": 2,
       "version_minor": 0
      },
      "text/plain": [
       "  0%|          | 0/1000 [00:00<?, ?it/s]"
      ]
     },
     "metadata": {},
     "output_type": "display_data"
    },
    {
     "name": "stdout",
     "output_type": "stream",
     "text": [
      "0.3379592602550576 None\n",
      "0.3173336219830438 None\n",
      "0.2884754635440271 None\n",
      "0.2658849298304568 None\n",
      "0.24615360611449744 None\n",
      "0.23866829296066724 None\n",
      "0.22441551591135103 None\n",
      "0.21465439133122793 None\n",
      "0.21439652146303048 None\n",
      "0.20405762528978919 None\n",
      "0.1988024689658915 None\n"
     ]
    },
    {
     "data": {
      "application/vnd.jupyter.widget-view+json": {
       "model_id": "105439e88f324d4bbba771bfdb77c260",
       "version_major": 2,
       "version_minor": 0
      },
      "text/plain": [
       "  0%|          | 0/1000 [00:00<?, ?it/s]"
      ]
     },
     "metadata": {},
     "output_type": "display_data"
    },
    {
     "name": "stdout",
     "output_type": "stream",
     "text": [
      "0.3418182266541829 None\n",
      "0.30979696534914625 None\n",
      "0.2930644077028159 None\n",
      "0.25660940484417627 None\n",
      "0.2347281309913588 None\n",
      "0.22287032397148376 None\n",
      "0.21566075199462015 None\n",
      "0.2092636845807475 None\n",
      "0.2001416343948911 None\n",
      "0.18422353222917048 None\n",
      "0.18077490528762197 None\n"
     ]
    },
    {
     "data": {
      "application/vnd.jupyter.widget-view+json": {
       "model_id": "5cb90eedbe8848da978b5c5ce7ec4b8f",
       "version_major": 2,
       "version_minor": 0
      },
      "text/plain": [
       "  0%|          | 0/1000 [00:00<?, ?it/s]"
      ]
     },
     "metadata": {},
     "output_type": "display_data"
    },
    {
     "name": "stdout",
     "output_type": "stream",
     "text": [
      "0.3440941833412342 None\n",
      "0.31644150969831164 None\n",
      "0.284658593356159 None\n",
      "0.260761718892512 None\n",
      "0.2369365500213788 None\n",
      "0.2179221785118715 None\n",
      "0.19841268443294338 None\n",
      "0.19526832205487862 None\n",
      "0.18505699198578382 None\n",
      "0.16832142373214393 None\n",
      "0.16479141497088678 None\n"
     ]
    },
    {
     "data": {
      "application/vnd.jupyter.widget-view+json": {
       "model_id": "8079610890a24c02bab263dd3e628241",
       "version_major": 2,
       "version_minor": 0
      },
      "text/plain": [
       "  0%|          | 0/1000 [00:00<?, ?it/s]"
      ]
     },
     "metadata": {},
     "output_type": "display_data"
    },
    {
     "name": "stdout",
     "output_type": "stream",
     "text": [
      "0.3463847964922402 None\n",
      "0.32275281602062683 None\n",
      "0.2871955724411485 None\n",
      "0.2593709676337311 None\n",
      "0.2316683691492266 None\n",
      "0.20953221791737514 None\n",
      "0.1937392624291634 None\n",
      "0.1823506058839934 None\n",
      "0.17569289782848416 None\n",
      "0.16586449166266237 None\n",
      "0.16103608766954908 None\n"
     ]
    },
    {
     "data": {
      "application/vnd.jupyter.widget-view+json": {
       "model_id": "968268f8e81f4d25a5b38b4042d79fc4",
       "version_major": 2,
       "version_minor": 0
      },
      "text/plain": [
       "  0%|          | 0/1000 [00:00<?, ?it/s]"
      ]
     },
     "metadata": {},
     "output_type": "display_data"
    },
    {
     "name": "stdout",
     "output_type": "stream",
     "text": [
      "0.3465096641273154 None\n",
      "0.3191817911476386 None\n",
      "0.29181148173055066 None\n",
      "0.2685617310930157 None\n",
      "0.24137537103977788 None\n",
      "0.20675217271013585 None\n",
      "0.18846941566801811 None\n",
      "0.17665142978275622 None\n",
      "0.16562079508921598 None\n",
      "0.15523653515957692 None\n",
      "0.1459926605565075 None\n"
     ]
    },
    {
     "data": {
      "application/vnd.jupyter.widget-view+json": {
       "model_id": "83730154f26f4a8b9ffbb0d85da017e5",
       "version_major": 2,
       "version_minor": 0
      },
      "text/plain": [
       "  0%|          | 0/1000 [00:00<?, ?it/s]"
      ]
     },
     "metadata": {},
     "output_type": "display_data"
    },
    {
     "name": "stdout",
     "output_type": "stream",
     "text": [
      "0.34693091095368955 None\n",
      "0.31974495635429523 None\n",
      "0.28862575793276724 None\n",
      "0.26546546499612156 None\n",
      "0.23857291276195808 None\n",
      "0.2119467336010309 None\n",
      "0.1857256327522243 None\n",
      "0.17099779913631435 None\n",
      "0.15941384546986495 None\n",
      "0.15673846311703646 None\n",
      "0.13937363174657685 None\n"
     ]
    },
    {
     "data": {
      "application/vnd.jupyter.widget-view+json": {
       "model_id": "c52341fdf3d24e4db5ca738828bb3947",
       "version_major": 2,
       "version_minor": 0
      },
      "text/plain": [
       "  0%|          | 0/1000 [00:00<?, ?it/s]"
      ]
     },
     "metadata": {},
     "output_type": "display_data"
    },
    {
     "name": "stdout",
     "output_type": "stream",
     "text": [
      "0.3480722205412848 None\n",
      "0.32108901077602314 None\n",
      "0.29405431448806957 None\n",
      "0.26719776739859497 None\n",
      "0.24471988597183328 None\n",
      "0.21876276115296103 None\n",
      "0.18945799783358508 None\n",
      "0.16077988856377814 None\n",
      "0.15180019784759524 None\n",
      "0.1411627135295701 None\n",
      "0.1351582658926172 None\n"
     ]
    },
    {
     "data": {
      "application/vnd.jupyter.widget-view+json": {
       "model_id": "76345b9bb96748d1a8e992c04b4f4b59",
       "version_major": 2,
       "version_minor": 0
      },
      "text/plain": [
       "  0%|          | 0/1000 [00:00<?, ?it/s]"
      ]
     },
     "metadata": {},
     "output_type": "display_data"
    },
    {
     "name": "stdout",
     "output_type": "stream",
     "text": [
      "0.34531633584905347 None\n",
      "0.3183544425941973 None\n",
      "0.2954230372429991 None\n",
      "0.272700966342984 None\n",
      "0.24246221160927361 None\n",
      "0.21653485758437707 None\n",
      "0.19113510664970282 None\n",
      "0.1703523124677783 None\n",
      "0.14344893569675055 None\n",
      "0.1405952565113639 None\n",
      "0.12673698236536343 None\n"
     ]
    },
    {
     "data": {
      "application/vnd.jupyter.widget-view+json": {
       "model_id": "ff47946e6c5541798d13754ac4628eb1",
       "version_major": 2,
       "version_minor": 0
      },
      "text/plain": [
       "  0%|          | 0/1000 [00:00<?, ?it/s]"
      ]
     },
     "metadata": {},
     "output_type": "display_data"
    },
    {
     "name": "stdout",
     "output_type": "stream",
     "text": [
      "0.3488273007525703 None\n",
      "0.3179745422829954 None\n",
      "0.2989845946623197 None\n",
      "0.2685571310672928 None\n",
      "0.24246179262153295 None\n",
      "0.21298132258259345 None\n",
      "0.19183449438834183 None\n",
      "0.1674903451589837 None\n",
      "0.14852292633569716 None\n",
      "0.12928814489619678 None\n",
      "0.12693192516140656 None\n",
      "Done!\n"
     ]
    }
   ],
   "source": [
    "distance_best, model_best = optimize_annulus_distance(spectrum_target = spectrum3, \n",
    "                                                      d = d, \n",
    "                                                      rank_start = 1, \n",
    "                                                      rank_step = 1,\n",
    "                                                      num_iter = 1000)\n",
    "\n",
    "model_best.optimizer = None\n",
    "saver([distance_best, model_best], data_path(\"diluted_fitting_4qubit_24layer.model\"))"
   ]
  },
  {
   "cell_type": "code",
   "execution_count": 42,
   "metadata": {},
   "outputs": [
    {
     "data": {
      "application/vnd.jupyter.widget-view+json": {
       "model_id": "baa3a1497bd04320ae6410395577f7ee",
       "version_major": 2,
       "version_minor": 0
      },
      "text/plain": [
       "  0%|          | 0/1000 [00:00<?, ?it/s]"
      ]
     },
     "metadata": {},
     "output_type": "display_data"
    },
    {
     "name": "stdout",
     "output_type": "stream",
     "text": [
      "0.5259592882768112 None\n",
      "0.5202041201413758 None\n",
      "0.5173054131193121 None\n",
      "0.5169367575737605 None\n",
      "0.5168865588654987 None\n",
      "0.5207765450952775 None\n",
      "0.520776127212733 None\n",
      "0.5168811397211148 None\n",
      "0.5168811385784982 None\n",
      "0.5207760999127549 None\n",
      "0.5168811385435712 None\n"
     ]
    },
    {
     "data": {
      "application/vnd.jupyter.widget-view+json": {
       "model_id": "8e2ab60ca851439f8b12bf56b4e37a76",
       "version_major": 2,
       "version_minor": 0
      },
      "text/plain": [
       "  0%|          | 0/1000 [00:00<?, ?it/s]"
      ]
     },
     "metadata": {},
     "output_type": "display_data"
    },
    {
     "name": "stdout",
     "output_type": "stream",
     "text": [
      "0.4204554912464412 None\n",
      "0.4044448859764608 None\n",
      "0.39963247750444386 None\n",
      "0.39373261519852065 None\n",
      "0.3911295415453419 None\n",
      "0.38673015858348586 None\n",
      "0.40241641247839655 None\n",
      "0.3869430399798697 None\n",
      "0.39478617723455706 None\n",
      "0.38694303997976276 None\n",
      "0.3908912103302758 None\n"
     ]
    },
    {
     "data": {
      "application/vnd.jupyter.widget-view+json": {
       "model_id": "b11e7b29bd894658b33adae11f8fe8fc",
       "version_major": 2,
       "version_minor": 0
      },
      "text/plain": [
       "  0%|          | 0/1000 [00:00<?, ?it/s]"
      ]
     },
     "metadata": {},
     "output_type": "display_data"
    },
    {
     "name": "stdout",
     "output_type": "stream",
     "text": [
      "0.40587682846149903 None\n",
      "0.38951597500915336 None\n",
      "0.36788468820109876 None\n",
      "0.35608397819490195 None\n",
      "0.3543820521955582 None\n",
      "0.3403846166078198 None\n",
      "0.33254442152708685 None\n",
      "0.33404344423350996 None\n",
      "0.3283937544495783 None\n",
      "0.3301487775561958 None\n",
      "0.31832716266452754 None\n"
     ]
    },
    {
     "data": {
      "application/vnd.jupyter.widget-view+json": {
       "model_id": "1529d12c333943c99944341ec9a6fc0f",
       "version_major": 2,
       "version_minor": 0
      },
      "text/plain": [
       "  0%|          | 0/1000 [00:00<?, ?it/s]"
      ]
     },
     "metadata": {},
     "output_type": "display_data"
    },
    {
     "name": "stdout",
     "output_type": "stream",
     "text": [
      "0.41160146745010545 None\n",
      "0.3779952499405917 None\n",
      "0.35155115658166736 None\n",
      "0.3390468683568005 None\n",
      "0.32948158184413384 None\n",
      "0.3202375398698616 None\n",
      "0.31611504995901923 None\n",
      "0.3092455152373555 None\n",
      "0.3003445256294957 None\n",
      "0.2953374835325815 None\n",
      "0.2861919557754773 None\n"
     ]
    },
    {
     "data": {
      "application/vnd.jupyter.widget-view+json": {
       "model_id": "759f6b7ba97d4e9fad24414056194681",
       "version_major": 2,
       "version_minor": 0
      },
      "text/plain": [
       "  0%|          | 0/1000 [00:00<?, ?it/s]"
      ]
     },
     "metadata": {},
     "output_type": "display_data"
    },
    {
     "name": "stdout",
     "output_type": "stream",
     "text": [
      "0.414139647092622 None\n",
      "0.38920342972523214 None\n",
      "0.35187382270757195 None\n",
      "0.32221207863542406 None\n",
      "0.312748180542373 None\n",
      "0.29848674349584714 None\n",
      "0.296659443396837 None\n",
      "0.28009817729467607 None\n",
      "0.2803239893070572 None\n",
      "0.2780301492485579 None\n",
      "0.26569873813953293 None\n"
     ]
    },
    {
     "data": {
      "application/vnd.jupyter.widget-view+json": {
       "model_id": "f9baa60408264881b2eea1b2a7abb5ec",
       "version_major": 2,
       "version_minor": 0
      },
      "text/plain": [
       "  0%|          | 0/1000 [00:00<?, ?it/s]"
      ]
     },
     "metadata": {},
     "output_type": "display_data"
    },
    {
     "name": "stdout",
     "output_type": "stream",
     "text": [
      "0.4214587190802497 None\n",
      "0.3930626417154538 None\n",
      "0.3644100679042292 None\n",
      "0.33579245603592406 None\n",
      "0.30359804767949666 None\n",
      "0.28400486003902053 None\n",
      "0.28187871135641884 None\n",
      "0.26455336102950394 None\n",
      "0.25915924625582576 None\n",
      "0.25498630589404275 None\n",
      "0.24083440974436787 None\n"
     ]
    },
    {
     "data": {
      "application/vnd.jupyter.widget-view+json": {
       "model_id": "893907d8e5fb4567b3345fe3c16216be",
       "version_major": 2,
       "version_minor": 0
      },
      "text/plain": [
       "  0%|          | 0/1000 [00:00<?, ?it/s]"
      ]
     },
     "metadata": {},
     "output_type": "display_data"
    },
    {
     "name": "stdout",
     "output_type": "stream",
     "text": [
      "0.42033557275483496 None\n",
      "0.3926186121848549 None\n",
      "0.3647440781870534 None\n",
      "0.3365000265580991 None\n",
      "0.3082095857746484 None\n",
      "0.2804052503430884 None\n",
      "0.2628106058639611 None\n",
      "0.25283149751418643 None\n",
      "0.23955792569204992 None\n",
      "0.23444921176707276 None\n",
      "0.22297427992317784 None\n"
     ]
    },
    {
     "data": {
      "application/vnd.jupyter.widget-view+json": {
       "model_id": "9701d121866840e297bb1c569354fa51",
       "version_major": 2,
       "version_minor": 0
      },
      "text/plain": [
       "  0%|          | 0/1000 [00:00<?, ?it/s]"
      ]
     },
     "metadata": {},
     "output_type": "display_data"
    },
    {
     "name": "stdout",
     "output_type": "stream",
     "text": [
      "0.41803209366451954 None\n",
      "0.3985604568925306 None\n",
      "0.3630136380734596 None\n",
      "0.33910062434526833 None\n",
      "0.30772741947435406 None\n",
      "0.28486573938800397 None\n",
      "0.2545018108610542 None\n",
      "0.24141038830806225 None\n",
      "0.23229625578161467 None\n",
      "0.21986031345006737 None\n",
      "0.21640840955710045 None\n"
     ]
    },
    {
     "data": {
      "application/vnd.jupyter.widget-view+json": {
       "model_id": "301566f2b872464ea72d175e2ae0b515",
       "version_major": 2,
       "version_minor": 0
      },
      "text/plain": [
       "  0%|          | 0/1000 [00:00<?, ?it/s]"
      ]
     },
     "metadata": {},
     "output_type": "display_data"
    },
    {
     "name": "stdout",
     "output_type": "stream",
     "text": [
      "0.42558976760954936 None\n",
      "0.39427272005588065 None\n",
      "0.36685165219726856 None\n",
      "0.33156479749467366 None\n",
      "0.3084860599026037 None\n",
      "0.2896919830054769 None\n",
      "0.2634185732672892 None\n",
      "0.23571252491885428 None\n",
      "0.23001409737981024 None\n",
      "0.22125997426491942 None\n",
      "0.21327718785928448 None\n"
     ]
    },
    {
     "data": {
      "application/vnd.jupyter.widget-view+json": {
       "model_id": "421f19050f454dd1a94ced4f6a1925eb",
       "version_major": 2,
       "version_minor": 0
      },
      "text/plain": [
       "  0%|          | 0/1000 [00:00<?, ?it/s]"
      ]
     },
     "metadata": {},
     "output_type": "display_data"
    },
    {
     "name": "stdout",
     "output_type": "stream",
     "text": [
      "0.4304695091388519 None\n",
      "0.3876066404412005 None\n",
      "0.3721010097342527 None\n",
      "0.3369568327989163 None\n",
      "0.30592061752920424 None\n",
      "0.2912101786597345 None\n",
      "0.26517276437084675 None\n",
      "0.2361217373157958 None\n",
      "0.21639818966452787 None\n",
      "0.2146513521095295 None\n",
      "0.19810614036432778 None\n"
     ]
    },
    {
     "data": {
      "application/vnd.jupyter.widget-view+json": {
       "model_id": "0123f21cb922454aaab7c4e254cd52a4",
       "version_major": 2,
       "version_minor": 0
      },
      "text/plain": [
       "  0%|          | 0/1000 [00:00<?, ?it/s]"
      ]
     },
     "metadata": {},
     "output_type": "display_data"
    },
    {
     "name": "stdout",
     "output_type": "stream",
     "text": [
      "0.4220555949085249 None\n",
      "0.39882295651692995 None\n",
      "0.3716480964717377 None\n",
      "0.3407258417220768 None\n",
      "0.31397603898267656 None\n",
      "0.29156193258022384 None\n",
      "0.26966354620498845 None\n",
      "0.22846234268504798 None\n",
      "0.21572284178919632 None\n",
      "0.19696254035220376 None\n",
      "0.19610425083128294 None\n"
     ]
    },
    {
     "data": {
      "application/vnd.jupyter.widget-view+json": {
       "model_id": "da5da84028a64baa9cc8dc8caaa7044a",
       "version_major": 2,
       "version_minor": 0
      },
      "text/plain": [
       "  0%|          | 0/1000 [00:00<?, ?it/s]"
      ]
     },
     "metadata": {},
     "output_type": "display_data"
    },
    {
     "name": "stdout",
     "output_type": "stream",
     "text": [
      "0.42371375658336974 None\n",
      "0.4005474827056314 None\n",
      "0.3695671536295553 None\n",
      "0.3426040343721518 None\n",
      "0.3120518211532069 None\n",
      "0.29383399377973707 None\n",
      "0.2646585792065765 None\n",
      "0.2401839927086912 None\n",
      "0.20877060227960556 None\n",
      "0.197589430397304 None\n",
      "0.18851782005592663 None\n"
     ]
    },
    {
     "data": {
      "application/vnd.jupyter.widget-view+json": {
       "model_id": "b6f24575284447ff8d4f24274eaa92f6",
       "version_major": 2,
       "version_minor": 0
      },
      "text/plain": [
       "  0%|          | 0/1000 [00:00<?, ?it/s]"
      ]
     },
     "metadata": {},
     "output_type": "display_data"
    },
    {
     "name": "stdout",
     "output_type": "stream",
     "text": [
      "0.4254463010042312 None\n",
      "0.3985748982126133 None\n",
      "0.37180755290226525 None\n",
      "0.34926012505020493 None\n",
      "0.31943645214737043 None\n",
      "0.29016032597232955 None\n",
      "0.265433930088053 None\n",
      "0.24547062709180908 None\n",
      "0.22207846502112064 None\n",
      "0.19587896235529678 None\n",
      "0.1910411242146915 None\n",
      "Done!\n"
     ]
    }
   ],
   "source": [
    "distance_best, model_best = optimize_annulus_distance(spectrum_target = spectrum4, \n",
    "                                                      d = d, \n",
    "                                                      rank_start = 1, \n",
    "                                                      rank_step = 1,\n",
    "                                                      num_iter = 1000)\n",
    "\n",
    "model_best.optimizer = None\n",
    "saver([distance_best, model_best], data_path(\"diluted_fitting_4qubit_32layer.model\"))"
   ]
  },
  {
   "cell_type": "code",
   "execution_count": null,
   "metadata": {},
   "outputs": [],
   "source": []
  }
 ],
 "metadata": {
  "kernelspec": {
   "display_name": "env_qiskit",
   "language": "python",
   "name": "env_qiskit"
  },
  "language_info": {
   "codemirror_mode": {
    "name": "ipython",
    "version": 3
   },
   "file_extension": ".py",
   "mimetype": "text/x-python",
   "name": "python",
   "nbconvert_exporter": "python",
   "pygments_lexer": "ipython3",
   "version": "3.10.4"
  }
 },
 "nbformat": 4,
 "nbformat_minor": 4
}
