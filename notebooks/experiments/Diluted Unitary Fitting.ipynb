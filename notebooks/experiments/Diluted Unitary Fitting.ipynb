{
 "cells": [
  {
   "cell_type": "markdown",
   "metadata": {},
   "source": [
    "# Diluted Unitary Fitting"
   ]
  },
  {
   "cell_type": "code",
   "execution_count": 1,
   "metadata": {},
   "outputs": [],
   "source": [
    "import sys\n",
    "sys.path.insert(0, '../../src_tf/')\n",
    "\n",
    "import numpy as np\n",
    "import qiskit as qk\n",
    "import matplotlib.pyplot as plt\n",
    "import multiprocessing as mp\n",
    "import random\n",
    "import pickle\n",
    "\n",
    "from qiskit.quantum_info import DensityMatrix, random_unitary\n",
    "from qiskit.quantum_info import Operator\n",
    "from scipy.linalg import sqrtm\n",
    "from tqdm.notebook import tqdm\n",
    "from math import ceil\n",
    "\n",
    "from loss_functions import *\n",
    "from optimization import *\n",
    "from quantum_channel import *\n",
    "from kraus_channels import *\n",
    "from quantum_tools import *\n",
    "from experimental import *\n",
    "from spam import *\n",
    "from scipy.stats import gaussian_kde\n",
    "from quantum_circuits import *\n",
    "from analysis import *\n",
    "from utils import *\n",
    "\n",
    "#np.set_printoptions(threshold=sys.maxsize)\n",
    "np.set_printoptions(precision=4)\n",
    "\n",
    "import os\n",
    "os.environ[\"CUDA_VISIBLE_DEVICES\"] = \"-1\""
   ]
  },
  {
   "cell_type": "code",
   "execution_count": 5,
   "metadata": {},
   "outputs": [],
   "source": [
    "def optimize_annulus_distance(spectrum_target = None, \n",
    "                              d = None, \n",
    "                              c_start = 0.5,\n",
    "                              rank_start = 1,\n",
    "                              rank_step = 1,\n",
    "                              num_iter = 1000,\n",
    "                              lr = 0.001): \n",
    "    \n",
    "    model_list = []\n",
    "    distance_list = []\n",
    "    counter = 0\n",
    "    \n",
    "    for rank in range(rank_start, d**2+rank_step, rank_step): \n",
    "        model = ModelQuantumMap(channel = DilutedKrausMap(U=generate_unitary(d), \n",
    "                                                          c=c_start, \n",
    "                                                          kraus_part=KrausMap(d, \n",
    "                                                                              rank=rank, \n",
    "                                                                              trainable=False),\n",
    "                                                     ),\n",
    "                            loss_function = AnnulusDistance(),\n",
    "                            optimizer = tf.optimizers.Adam(learning_rate=lr),\n",
    "                            logger = Logger(loss_function = AnnulusDistance(), \n",
    "                                            verbose=True,N=0),\n",
    "                            )\n",
    "        model.train(inputs = None,\n",
    "                    targets = [spectrum_target],\n",
    "                    num_iter = num_iter,\n",
    "                   )\n",
    "\n",
    "        model_list.append(model)\n",
    "        distance_list.append(model.logger.loss_train_list[-1])\n",
    "        \n",
    "        idx = np.argmin(distance_list)\n",
    "        if distance_list[-1] > distance_list[idx]:\n",
    "            counter += 1\n",
    "        if counter > 4:\n",
    "            print(\"Done!\")\n",
    "            break\n",
    "\n",
    "    distance_best = distance_list[idx]\n",
    "    model_best = model_list[idx]\n",
    "\n",
    "    return distance_best, model_best\n",
    "\n",
    "def fit_diluted_unitary(spectrum_target_list, \n",
    "                        d, \n",
    "                        rank_start, \n",
    "                        rank_step,\n",
    "                        num_iter = 1000,\n",
    "                        lr = 0.001):\n",
    "    \n",
    "    distance_best_list = []\n",
    "    model_best_list = []\n",
    "    for spectrum_target in tqdm(spectrum_target_list):\n",
    "        U = generate_haar_random(d, rng) \n",
    "        distance_best, model_best = optimize_annulus_distance(spectrum_target,\n",
    "                                                              d,\n",
    "                                                              rank_start,\n",
    "                                                              rank_step,\n",
    "                                                              num_iter = num_iter,\n",
    "                                                              lr = lr)\n",
    "        distance_best_list.append(distance_best)\n",
    "        model_best_list.append(model_best)\n",
    "    \n",
    "    for model in model_best_list:\n",
    "        model.optimizer = None\n",
    "        \n",
    "    return distance_best_list, model_best_list"
   ]
  },
  {
   "cell_type": "markdown",
   "metadata": {},
   "source": [
    "## Three Qubits"
   ]
  },
  {
   "cell_type": "code",
   "execution_count": 5,
   "metadata": {
    "scrolled": true
   },
   "outputs": [],
   "source": [
    "[channel_list1, channel_list2, channel_list3, channel_list4, channel_list5, channel_list6, channel_list7] = loader(data_path(\"channel_fullRank_belem_longTrain.p\"))\n",
    "\n",
    "spectrum_target_list1 = [channel_spectrum(channel, keep_unity=False) for channel in channel_list1]\n",
    "spectrum_target_list2 = [channel_spectrum(channel, keep_unity=False) for channel in channel_list2]\n",
    "spectrum_target_list3 = [channel_spectrum(channel, keep_unity=False) for channel in channel_list3]\n",
    "spectrum_target_list4 = [channel_spectrum(channel, keep_unity=False) for channel in channel_list4]\n",
    "spectrum_target_list5 = [channel_spectrum(channel, keep_unity=False) for channel in channel_list5]\n",
    "spectrum_target_list6 = [channel_spectrum(channel, keep_unity=False) for channel in channel_list6]\n",
    "spectrum_target_list7 = [channel_spectrum(channel, keep_unity=False) for channel in channel_list7]"
   ]
  },
  {
   "cell_type": "code",
   "execution_count": 4,
   "metadata": {},
   "outputs": [
    {
     "data": {
      "application/vnd.jupyter.widget-view+json": {
       "model_id": "74af298f411d4a6b9ac4a434cb64f0a7",
       "version_major": 2,
       "version_minor": 0
      },
      "text/plain": [
       "  0%|          | 0/10 [00:00<?, ?it/s]"
      ]
     },
     "metadata": {},
     "output_type": "display_data"
    },
    {
     "data": {
      "application/vnd.jupyter.widget-view+json": {
       "model_id": "642bc4da41724d3d98ba43b8fe3ec695",
       "version_major": 2,
       "version_minor": 0
      },
      "text/plain": [
       "  0%|          | 0/2000 [00:00<?, ?it/s]"
      ]
     },
     "metadata": {},
     "output_type": "display_data"
    },
    {
     "name": "stdout",
     "output_type": "stream",
     "text": [
      "0.26639269787200276 None\n",
      "0.24281971621747198 None\n",
      "0.19730583477461208 None\n",
      "0.15501534293546423 None\n",
      "0.11784285355313208 None\n",
      "0.08663346571103148 None\n",
      "0.060868447156001086 None\n",
      "0.04435907614063043 None\n",
      "0.04433281668287777 None\n",
      "0.04436239396192363 None\n",
      "0.044334719908165884 None\n",
      "0.04433354046998839 None\n",
      "0.04432161704554379 None\n",
      "0.0443480894883677 None\n",
      "0.044329318510019665 None\n",
      "0.04435316001151345 None\n",
      "0.04433927221222419 None\n",
      "0.044333789484492785 None\n",
      "0.04433486518070283 None\n",
      "0.044403552723975004 None\n",
      "tf.Tensor(0.04434972719124683, shape=(), dtype=float64)\n",
      "0.04434434126343461 None\n"
     ]
    },
    {
     "data": {
      "application/vnd.jupyter.widget-view+json": {
       "model_id": "8b1bf445cbe5468eb40d6fa813235459",
       "version_major": 2,
       "version_minor": 0
      },
      "text/plain": [
       "  0%|          | 0/2000 [00:00<?, ?it/s]"
      ]
     },
     "metadata": {},
     "output_type": "display_data"
    },
    {
     "name": "stdout",
     "output_type": "stream",
     "text": [
      "0.24668894103468048 None\n",
      "0.21480620374973125 None\n",
      "0.18370788698612625 None\n",
      "0.153273739956457 None\n",
      "0.12402548262459673 None\n",
      "0.09688616631479197 None\n",
      "0.07149501941245653 None\n",
      "0.04736331075227588 None\n",
      "0.02458847096038777 None\n",
      "0.017156909402523624 None\n",
      "0.01715246026962658 None\n",
      "0.01717258725608535 None\n",
      "0.017179079968144474 None\n",
      "0.01717447267632543 None\n",
      "0.017180122949914174 None\n",
      "0.017207482139610854 None\n",
      "0.017213343929584853 None\n",
      "0.017157175844995362 None\n",
      "0.0171948959420931 None\n",
      "0.01720377500600482 None\n",
      "tf.Tensor(0.017193463676459908, shape=(), dtype=float64)\n",
      "0.017198457617933205 None\n"
     ]
    },
    {
     "data": {
      "application/vnd.jupyter.widget-view+json": {
       "model_id": "276a2cde398840e9951b2cab097aeb79",
       "version_major": 2,
       "version_minor": 0
      },
      "text/plain": [
       "  0%|          | 0/2000 [00:00<?, ?it/s]"
      ]
     },
     "metadata": {},
     "output_type": "display_data"
    },
    {
     "name": "stdout",
     "output_type": "stream",
     "text": [
      "0.23330578692583637 None\n",
      "0.2015446075677707 None\n",
      "0.1714558559531131 None\n",
      "0.14238379310929503 None\n",
      "0.11411246106370751 None\n",
      "0.08677762989095188 None\n",
      "0.061726894154710964 None\n",
      "0.038959241296413205 None\n",
      "0.017418586128851894 None\n",
      "0.00934593991678437 None\n",
      "0.009345483785055864 None\n",
      "0.009351524591450921 None\n",
      "0.00936155907365178 None\n",
      "0.009377250901678279 None\n",
      "0.009366593642343228 None\n",
      "0.009364486775517157 None\n",
      "0.009370212538347746 None\n",
      "0.009365297669246103 None\n",
      "0.009361095615297571 None\n",
      "0.009353792145482995 None\n",
      "tf.Tensor(0.009379623655108792, shape=(), dtype=float64)\n",
      "0.0093731242643891 None\n"
     ]
    },
    {
     "data": {
      "application/vnd.jupyter.widget-view+json": {
       "model_id": "d359f6e95e7041b0b979583e55acc7b5",
       "version_major": 2,
       "version_minor": 0
      },
      "text/plain": [
       "  0%|          | 0/2000 [00:00<?, ?it/s]"
      ]
     },
     "metadata": {},
     "output_type": "display_data"
    },
    {
     "name": "stdout",
     "output_type": "stream",
     "text": [
      "0.21036915757784366 None\n",
      "0.1829834725087819 None\n",
      "0.15630456284969324 None\n",
      "0.13009587895992175 None\n",
      "0.10456800786573375 None\n",
      "0.07986550353711805 None\n",
      "0.05605335688706958 None\n",
      "0.03323107447877682 None\n",
      "0.01406419172406615 None\n",
      "0.013635169540434968 None\n",
      "0.013633883398814843 None\n",
      "0.01368251405962516 None\n",
      "0.01362670789784491 None\n",
      "0.01365050130140529 None\n",
      "0.013661066746045307 None\n",
      "0.013682168522160266 None\n",
      "0.013644499477970458 None\n",
      "0.013654534889096666 None\n",
      "0.013637420887949071 None\n",
      "0.01363426156882302 None\n",
      "tf.Tensor(0.013688878454636828, shape=(), dtype=float64)\n",
      "0.013676378655890385 None\n"
     ]
    },
    {
     "data": {
      "application/vnd.jupyter.widget-view+json": {
       "model_id": "19cdc3290a874b3ab15975d1a3fe1741",
       "version_major": 2,
       "version_minor": 0
      },
      "text/plain": [
       "  0%|          | 0/2000 [00:00<?, ?it/s]"
      ]
     },
     "metadata": {},
     "output_type": "display_data"
    },
    {
     "name": "stdout",
     "output_type": "stream",
     "text": [
      "0.21220647503024564 None\n",
      "0.18416707681514521 None\n",
      "0.1566713030978662 None\n",
      "0.12977708614933936 None\n",
      "0.10380393379742361 None\n",
      "0.07871043345402474 None\n",
      "0.054634707597004284 None\n",
      "0.03170601041456128 None\n",
      "0.01005557121373019 None\n",
      "0.003532542652866571 None\n",
      "0.0035402397745304005 None\n",
      "0.0035356750202499877 None\n",
      "0.0035239729781521272 None\n",
      "0.0035376144790080187 None\n",
      "0.0035380564650781196 None\n",
      "0.0035562082445088055 None\n",
      "0.003541689802962199 None\n",
      "0.003530571806834859 None\n",
      "0.003553686010332676 None\n",
      "0.0035213363937470505 None\n",
      "tf.Tensor(0.00354553359206412, shape=(), dtype=float64)\n",
      "0.003570438163806087 None\n"
     ]
    },
    {
     "data": {
      "application/vnd.jupyter.widget-view+json": {
       "model_id": "dc2df8bdf8224fb9857cb4856f2caf8f",
       "version_major": 2,
       "version_minor": 0
      },
      "text/plain": [
       "  0%|          | 0/2000 [00:00<?, ?it/s]"
      ]
     },
     "metadata": {},
     "output_type": "display_data"
    },
    {
     "name": "stdout",
     "output_type": "stream",
     "text": [
      "0.21072738997044052 None\n",
      "0.18240199777531507 None\n",
      "0.15444332812280887 None\n",
      "0.12726273270155775 None\n",
      "0.10110359840438804 None\n",
      "0.07591725796137684 None\n",
      "0.05221200675859409 None\n",
      "0.029954038437627575 None\n",
      "0.00879694784645376 None\n",
      "0.0020641146310236263 None\n",
      "0.002080958835122682 None\n",
      "0.0020610919727946393 None\n",
      "0.002077705530470179 None\n",
      "0.0020886242715708603 None\n",
      "0.0020343007385809683 None\n",
      "0.0020977626914178323 None\n",
      "0.0020861057471777324 None\n",
      "0.002060743463085074 None\n",
      "0.0021172475454559973 None\n",
      "0.002078665727538136 None\n",
      "tf.Tensor(0.0021148429058716854, shape=(), dtype=float64)\n",
      "0.0020883182788926508 None\n"
     ]
    },
    {
     "data": {
      "application/vnd.jupyter.widget-view+json": {
       "model_id": "37bb025e439b4d3294515814bb49b0b0",
       "version_major": 2,
       "version_minor": 0
      },
      "text/plain": [
       "  0%|          | 0/2000 [00:00<?, ?it/s]"
      ]
     },
     "metadata": {},
     "output_type": "display_data"
    },
    {
     "name": "stdout",
     "output_type": "stream",
     "text": [
      "0.206486374642338 None\n",
      "0.17928638658196056 None\n",
      "0.15246225799606689 None\n",
      "0.12653563085171357 None\n",
      "0.10125956823491929 None\n",
      "0.07662638937107093 None\n",
      "0.0527939268181737 None\n",
      "0.029897798227060735 None\n",
      "0.008114354002345314 None\n",
      "0.004858044026055617 None\n",
      "0.004851750268670759 None\n",
      "0.004911603647055085 None\n",
      "0.004878458176977031 None\n",
      "0.004877906250053821 None\n",
      "0.004856552252973002 None\n",
      "0.004892369420280504 None\n",
      "0.004849962626692064 None\n",
      "0.00485945344940847 None\n",
      "0.004857901696499535 None\n",
      "0.004891643574025344 None\n",
      "tf.Tensor(0.004887854733273028, shape=(), dtype=float64)\n",
      "0.004917229268999025 None\n"
     ]
    },
    {
     "data": {
      "application/vnd.jupyter.widget-view+json": {
       "model_id": "4f8856379289438d872d89b44629cc50",
       "version_major": 2,
       "version_minor": 0
      },
      "text/plain": [
       "  0%|          | 0/2000 [00:00<?, ?it/s]"
      ]
     },
     "metadata": {},
     "output_type": "display_data"
    },
    {
     "name": "stdout",
     "output_type": "stream",
     "text": [
      "0.2039514776491454 None\n",
      "0.1768135539719516 None\n",
      "0.15033095014544917 None\n",
      "0.12443367129768876 None\n",
      "0.09916185069988553 None\n",
      "0.07465960079008531 None\n",
      "0.0511254158441578 None\n",
      "0.028620564942297526 None\n",
      "0.007167640453046036 None\n",
      "0.0025440619745090275 None\n",
      "0.002546268814530529 None\n",
      "0.0025752626345096116 None\n",
      "0.002549298256162017 None\n",
      "0.0025759281407582765 None\n",
      "0.002551565654432453 None\n",
      "0.002550612819254311 None\n",
      "0.0025927357400444898 None\n",
      "0.0026258709978418584 None\n",
      "0.002552485988813781 None\n",
      "0.0025599706197776753 None\n",
      "tf.Tensor(0.0025745997040752047, shape=(), dtype=float64)\n",
      "0.0025929135166869854 None\n"
     ]
    },
    {
     "data": {
      "application/vnd.jupyter.widget-view+json": {
       "model_id": "b02a95cb59b5462f818b9baf250ef8d3",
       "version_major": 2,
       "version_minor": 0
      },
      "text/plain": [
       "  0%|          | 0/2000 [00:00<?, ?it/s]"
      ]
     },
     "metadata": {},
     "output_type": "display_data"
    },
    {
     "name": "stdout",
     "output_type": "stream",
     "text": [
      "0.19609247163488253 None\n",
      "0.16977045386820144 None\n",
      "0.1438853984559051 None\n",
      "0.11843665863635268 None\n",
      "0.09359637375110794 None\n",
      "0.06948920001504663 None\n",
      "0.04623771804842482 None\n",
      "0.02392837679016248 None\n",
      "0.0026365514991488793 None\n",
      "0.0005523811065867631 None\n",
      "0.0005590920442385544 None\n",
      "0.0005650120759768899 None\n",
      "0.000551658091991352 None\n",
      "0.0005508247079435008 None\n",
      "0.0005486550260911799 None\n",
      "0.0005717504847512784 None\n",
      "0.0005484471788792401 None\n",
      "0.0005753565658025428 None\n",
      "0.0005622665299049156 None\n",
      "0.0005898083842064607 None\n",
      "tf.Tensor(0.0005474151776642781, shape=(), dtype=float64)\n",
      "0.000559658919836576 None\n"
     ]
    },
    {
     "data": {
      "application/vnd.jupyter.widget-view+json": {
       "model_id": "44171d9fa31947dc9f82845db1717e8e",
       "version_major": 2,
       "version_minor": 0
      },
      "text/plain": [
       "  0%|          | 0/2000 [00:00<?, ?it/s]"
      ]
     },
     "metadata": {},
     "output_type": "display_data"
    },
    {
     "name": "stdout",
     "output_type": "stream",
     "text": [
      "0.19900198935676125 None\n",
      "0.17222105224484588 None\n",
      "0.1458666301426732 None\n",
      "0.12002032886828824 None\n",
      "0.09479402740591435 None\n",
      "0.07048156761744151 None\n",
      "0.0471281441534165 None\n",
      "0.024742020903953145 None\n",
      "0.0034857636506436633 None\n",
      "0.0015535783079637534 None\n",
      "0.0015085649413709937 None\n",
      "0.0015158925901386268 None\n",
      "0.001540076832338328 None\n",
      "0.0015506343452283567 None\n",
      "0.0015192357450848973 None\n",
      "0.0015120970575892827 None\n",
      "0.0015421391270879735 None\n",
      "0.0015291408744110366 None\n",
      "0.001502769780256489 None\n",
      "0.0015087122026921362 None\n",
      "tf.Tensor(0.0015326137174092366, shape=(), dtype=float64)\n",
      "0.0015322162680637304 None\n"
     ]
    },
    {
     "data": {
      "application/vnd.jupyter.widget-view+json": {
       "model_id": "25513cd2acd04b10813811398fa37642",
       "version_major": 2,
       "version_minor": 0
      },
      "text/plain": [
       "  0%|          | 0/2000 [00:00<?, ?it/s]"
      ]
     },
     "metadata": {},
     "output_type": "display_data"
    },
    {
     "name": "stdout",
     "output_type": "stream",
     "text": [
      "0.19557160682150418 None\n",
      "0.16880152457045275 None\n",
      "0.14271853721818462 None\n",
      "0.1172664711181833 None\n",
      "0.09248222696264788 None\n",
      "0.06845682732499697 None\n",
      "0.046701229833062116 None\n",
      "0.027749205219371083 None\n",
      "0.009366451902447207 None\n",
      "0.0024210867300484707 None\n",
      "0.0024758842728336734 None\n",
      "0.0024796438435462226 None\n",
      "0.002440302782338765 None\n",
      "0.002459922480208116 None\n",
      "0.00242993732957782 None\n",
      "0.0024283390962002212 None\n",
      "0.0024643897337066345 None\n",
      "0.0024698735923998905 None\n",
      "0.0024207262447016303 None\n",
      "0.0024362292838071547 None\n",
      "tf.Tensor(0.0024313127637694987, shape=(), dtype=float64)\n",
      "0.002441317527122455 None\n",
      "Done!\n"
     ]
    },
    {
     "data": {
      "application/vnd.jupyter.widget-view+json": {
       "model_id": "d214166d9e6e45f9b58c03422b140e16",
       "version_major": 2,
       "version_minor": 0
      },
      "text/plain": [
       "  0%|          | 0/2000 [00:00<?, ?it/s]"
      ]
     },
     "metadata": {},
     "output_type": "display_data"
    },
    {
     "name": "stdout",
     "output_type": "stream",
     "text": [
      "0.29945884745914886 None\n",
      "0.2603504455692601 None\n",
      "0.2219695598117452 None\n",
      "0.19080107740605134 None\n",
      "0.16263661471046412 None\n",
      "0.13595575615250172 None\n",
      "0.11032832461848226 None\n",
      "0.08557215135477907 None\n",
      "0.061866089269453625 None\n",
      "0.04425581604110401 None\n",
      "0.04400696527398816 None\n",
      "0.04402656764107034 None\n",
      "0.0440311065881768 None\n",
      "0.04401281920014126 None\n",
      "0.04401340025244731 None\n",
      "0.04400423040258977 None\n",
      "0.04401896234768268 None\n",
      "0.0440288872104215 None\n",
      "0.04399053764056517 None\n",
      "0.04400206905585766 None\n",
      "tf.Tensor(0.044011149453134155, shape=(), dtype=float64)\n",
      "0.04399350844377063 None\n"
     ]
    },
    {
     "data": {
      "application/vnd.jupyter.widget-view+json": {
       "model_id": "ee9b4f7338164a428f1976b610d0185f",
       "version_major": 2,
       "version_minor": 0
      },
      "text/plain": [
       "  0%|          | 0/2000 [00:00<?, ?it/s]"
      ]
     },
     "metadata": {},
     "output_type": "display_data"
    },
    {
     "name": "stdout",
     "output_type": "stream",
     "text": [
      "0.2610897600456713 None\n",
      "0.2284617493844322 None\n",
      "0.1984811320502562 None\n",
      "0.1708500035747967 None\n",
      "0.14460640171305228 None\n",
      "0.11943420833455948 None\n",
      "0.09530217948635904 None\n",
      "0.07220954244259187 None\n",
      "0.050154472575208206 None\n",
      "0.02914905351848115 None\n",
      "0.02009630138131774 None\n",
      "0.020103342896043777 None\n"
     ]
    },
    {
     "name": "stderr",
     "output_type": "stream",
     "text": [
      "\n",
      "KeyboardInterrupt\n",
      "\n"
     ]
    }
   ],
   "source": [
    "n = 3\n",
    "d = 2**n\n",
    "\n",
    "np.random.seed(42)\n",
    "random.seed(42)\n",
    "tf.random.set_seed(42)\n",
    "rng = np.random.default_rng(seed=42)\n",
    "\n",
    "distance_best_list, model_best_list = fit_diluted_unitary(spectrum_target_list1, \n",
    "                                                          d=d, \n",
    "                                                          rank_start = 1,\n",
    "                                                          rank_step = 1,\n",
    "                                                          num_iter = 2000,\n",
    "                                                         )\n",
    "\n",
    "saver([distance_best_list, model_best_list], data_path(\"diluted_fitting_8layer.model\"))"
   ]
  },
  {
   "cell_type": "code",
   "execution_count": null,
   "metadata": {
    "scrolled": true
   },
   "outputs": [],
   "source": [
    "n = 3\n",
    "d = 2**n\n",
    "\n",
    "np.random.seed(42)\n",
    "random.seed(42)\n",
    "tf.random.set_seed(42)\n",
    "rng = np.random.default_rng(seed=42)\n",
    "\n",
    "[distance_best_list, model_best_list] = loader(data_path(\"diluted_fitting_8layer.model\"))\n",
    "rank_start = model_best_list[-1].channel.rank\n",
    "\n",
    "distance_best_list, model_best_list = fit_diluted_unitary(spectrum_target_list2,\n",
    "                                                          d=d, \n",
    "                                                          rank_start = rank_start,\n",
    "                                                          rank_step = 1,\n",
    "                                                          num_iter = 2000,\n",
    "                                                          )\n",
    "\n",
    "saver([distance_best_list, model_best_list], data_path(\"diluted_fitting_16layer.model\"))"
   ]
  },
  {
   "cell_type": "code",
   "execution_count": null,
   "metadata": {},
   "outputs": [],
   "source": [
    "n = 3\n",
    "d = 2**n\n",
    "\n",
    "np.random.seed(42)\n",
    "random.seed(42)\n",
    "tf.random.set_seed(42)\n",
    "rng = np.random.default_rng(seed=42)\n",
    "\n",
    "[distance_best_list, model_best_list] = loader(data_path(\"diluted_fitting_16layer.model\"))\n",
    "rank_start = model_best_list[-1].channel.rank\n",
    "\n",
    "distance_best_list, model_best_list = fit_diluted_unitary(spectrum_target_list3, \n",
    "                                                          d=d, \n",
    "                                                          rank_start = rank_start,\n",
    "                                                          rank_step = 1,\n",
    "                                                          num_iter = 2000,\n",
    "                                                         )\n",
    "\n",
    "saver([distance_best_list, model_best_list], data_path(\"diluted_fitting_24layer.model\"))"
   ]
  },
  {
   "cell_type": "code",
   "execution_count": null,
   "metadata": {},
   "outputs": [],
   "source": [
    "n = 3\n",
    "d = 2**n\n",
    "\n",
    "np.random.seed(42)\n",
    "random.seed(42)\n",
    "tf.random.set_seed(42)\n",
    "rng = np.random.default_rng(seed=42)\n",
    "\n",
    "[distance_best_list, model_best_list] = loader(data_path(\"diluted_fitting_24layer.model\"))\n",
    "rank_start = model_best_list[-1].channel.rank\n",
    "\n",
    "distance_best_list, model_best_list = fit_diluted_unitary(spectrum_target_list4, \n",
    "                                                          d=d, \n",
    "                                                          rank_start = rank_start,\n",
    "                                                          rank_step = 1,\n",
    "                                                          num_iter = 2000,\n",
    "                                                         )\n",
    "\n",
    "saver([distance_best_list, model_best_list], data_path(\"diluted_fitting_32layer.model\"))"
   ]
  },
  {
   "cell_type": "markdown",
   "metadata": {},
   "source": [
    "## Four Qubits"
   ]
  },
  {
   "cell_type": "code",
   "execution_count": 3,
   "metadata": {},
   "outputs": [],
   "source": [
    "n = 4\n",
    "d = 2**n\n",
    "\n",
    "[model1, model2, model3, model4, model5] = loader(data_path(\"belem_4qubit_repeated.model\"))\n",
    "\n",
    "spectrum1 = channel_spectrum(model1.channel)\n",
    "spectrum2 = channel_spectrum(model2.channel) \n",
    "spectrum3 = channel_spectrum(model3.channel)\n",
    "spectrum4 = channel_spectrum(model4.channel)\n",
    "spectrum5 = channel_spectrum(model5.channel)"
   ]
  },
  {
   "cell_type": "code",
   "execution_count": null,
   "metadata": {
    "scrolled": true
   },
   "outputs": [],
   "source": [
    "distance_best, model_best = optimize_annulus_distance(spectrum_target = spectrum1, \n",
    "                                                      d = d, \n",
    "                                                      rank_start = 1, \n",
    "                                                      rank_step = 1,\n",
    "                                                      num_iter = 2000)\n",
    "\n",
    "model_best.optimizer = None\n",
    "saver([distance_best, model_best], data_path(\"diluted_fitting_4qubit_8layer.model\"))"
   ]
  },
  {
   "cell_type": "code",
   "execution_count": null,
   "metadata": {},
   "outputs": [],
   "source": [
    "[distance_best, model_best] = loader(data_path(\"diluted_fitting_4qubit_8layer.model\"))\n",
    "rank_start = model_best.channel.rank\n",
    "c_start = model_best.channel.c\n",
    "\n",
    "distance_best, model_best = optimize_annulus_distance(spectrum_target = spectrum2, \n",
    "                                                      d = d,\n",
    "                                                      c_start = c_start,\n",
    "                                                      rank_start = rank_start, \n",
    "                                                      rank_step = 1,\n",
    "                                                      num_iter = 2000)\n",
    "\n",
    "model_best.optimizer = None\n",
    "saver([distance_best, model_best], data_path(\"diluted_fitting_4qubit_16layer.model\"))"
   ]
  },
  {
   "cell_type": "code",
   "execution_count": 14,
   "metadata": {},
   "outputs": [
    {
     "name": "stdout",
     "output_type": "stream",
     "text": [
      "24\n",
      "tf.Tensor(0.2870365645599969, shape=(), dtype=float64)\n"
     ]
    },
    {
     "data": {
      "application/vnd.jupyter.widget-view+json": {
       "model_id": "6e609259fbf74a94b00beda9cb6041a6",
       "version_major": 2,
       "version_minor": 0
      },
      "text/plain": [
       "  0%|          | 0/2000 [00:00<?, ?it/s]"
      ]
     },
     "metadata": {},
     "output_type": "display_data"
    },
    {
     "name": "stdout",
     "output_type": "stream",
     "text": [
      "0.15329928523757608 None\n"
     ]
    },
    {
     "ename": "KeyboardInterrupt",
     "evalue": "",
     "output_type": "error",
     "traceback": [
      "\u001b[1;31m---------------------------------------------------------------------------\u001b[0m",
      "\u001b[1;31mKeyboardInterrupt\u001b[0m                         Traceback (most recent call last)",
      "\u001b[1;32mc:\\Users\\krist\\Documents\\ModelNISQ\\notebooks\\experiments\\Diluted Unitary Fitting.ipynb Cell 14\u001b[0m in \u001b[0;36m<cell line: 7>\u001b[1;34m()\u001b[0m\n\u001b[0;32m      <a href='vscode-notebook-cell:/c%3A/Users/krist/Documents/ModelNISQ/notebooks/experiments/Diluted%20Unitary%20Fitting.ipynb#X16sZmlsZQ%3D%3D?line=3'>4</a>\u001b[0m \u001b[39mprint\u001b[39m(rank_start)\n\u001b[0;32m      <a href='vscode-notebook-cell:/c%3A/Users/krist/Documents/ModelNISQ/notebooks/experiments/Diluted%20Unitary%20Fitting.ipynb#X16sZmlsZQ%3D%3D?line=4'>5</a>\u001b[0m \u001b[39mprint\u001b[39m(c_start)\n\u001b[1;32m----> <a href='vscode-notebook-cell:/c%3A/Users/krist/Documents/ModelNISQ/notebooks/experiments/Diluted%20Unitary%20Fitting.ipynb#X16sZmlsZQ%3D%3D?line=6'>7</a>\u001b[0m distance_best, model_best \u001b[39m=\u001b[39m optimize_annulus_distance(spectrum_target \u001b[39m=\u001b[39;49m spectrum3, \n\u001b[0;32m      <a href='vscode-notebook-cell:/c%3A/Users/krist/Documents/ModelNISQ/notebooks/experiments/Diluted%20Unitary%20Fitting.ipynb#X16sZmlsZQ%3D%3D?line=7'>8</a>\u001b[0m                                                       d \u001b[39m=\u001b[39;49m d, \n\u001b[0;32m      <a href='vscode-notebook-cell:/c%3A/Users/krist/Documents/ModelNISQ/notebooks/experiments/Diluted%20Unitary%20Fitting.ipynb#X16sZmlsZQ%3D%3D?line=8'>9</a>\u001b[0m                                                       c_start \u001b[39m=\u001b[39;49m c_start,\n\u001b[0;32m     <a href='vscode-notebook-cell:/c%3A/Users/krist/Documents/ModelNISQ/notebooks/experiments/Diluted%20Unitary%20Fitting.ipynb#X16sZmlsZQ%3D%3D?line=9'>10</a>\u001b[0m                                                       rank_start \u001b[39m=\u001b[39;49m \u001b[39m64\u001b[39;49m, \n\u001b[0;32m     <a href='vscode-notebook-cell:/c%3A/Users/krist/Documents/ModelNISQ/notebooks/experiments/Diluted%20Unitary%20Fitting.ipynb#X16sZmlsZQ%3D%3D?line=10'>11</a>\u001b[0m                                                       rank_step \u001b[39m=\u001b[39;49m \u001b[39m1\u001b[39;49m,\n\u001b[0;32m     <a href='vscode-notebook-cell:/c%3A/Users/krist/Documents/ModelNISQ/notebooks/experiments/Diluted%20Unitary%20Fitting.ipynb#X16sZmlsZQ%3D%3D?line=11'>12</a>\u001b[0m                                                       num_iter \u001b[39m=\u001b[39;49m \u001b[39m2000\u001b[39;49m)\n\u001b[0;32m     <a href='vscode-notebook-cell:/c%3A/Users/krist/Documents/ModelNISQ/notebooks/experiments/Diluted%20Unitary%20Fitting.ipynb#X16sZmlsZQ%3D%3D?line=13'>14</a>\u001b[0m model_best\u001b[39m.\u001b[39moptimizer \u001b[39m=\u001b[39m \u001b[39mNone\u001b[39;00m\n\u001b[0;32m     <a href='vscode-notebook-cell:/c%3A/Users/krist/Documents/ModelNISQ/notebooks/experiments/Diluted%20Unitary%20Fitting.ipynb#X16sZmlsZQ%3D%3D?line=14'>15</a>\u001b[0m saver([distance_best, model_best], data_path(\u001b[39m\"\u001b[39m\u001b[39mdiluted_fitting_4qubit_24layer.model\u001b[39m\u001b[39m\"\u001b[39m))\n",
      "\u001b[1;32mc:\\Users\\krist\\Documents\\ModelNISQ\\notebooks\\experiments\\Diluted Unitary Fitting.ipynb Cell 14\u001b[0m in \u001b[0;36moptimize_annulus_distance\u001b[1;34m(spectrum_target, d, c_start, rank_start, rank_step, num_iter, lr)\u001b[0m\n\u001b[0;32m     <a href='vscode-notebook-cell:/c%3A/Users/krist/Documents/ModelNISQ/notebooks/experiments/Diluted%20Unitary%20Fitting.ipynb#X16sZmlsZQ%3D%3D?line=12'>13</a>\u001b[0m \u001b[39mfor\u001b[39;00m rank \u001b[39min\u001b[39;00m \u001b[39mrange\u001b[39m(rank_start, d\u001b[39m*\u001b[39m\u001b[39m*\u001b[39m\u001b[39m2\u001b[39m\u001b[39m+\u001b[39mrank_step, rank_step): \n\u001b[0;32m     <a href='vscode-notebook-cell:/c%3A/Users/krist/Documents/ModelNISQ/notebooks/experiments/Diluted%20Unitary%20Fitting.ipynb#X16sZmlsZQ%3D%3D?line=13'>14</a>\u001b[0m     model \u001b[39m=\u001b[39m ModelQuantumMap(channel \u001b[39m=\u001b[39m DilutedKrausMap(U\u001b[39m=\u001b[39mgenerate_unitary(d), \n\u001b[0;32m     <a href='vscode-notebook-cell:/c%3A/Users/krist/Documents/ModelNISQ/notebooks/experiments/Diluted%20Unitary%20Fitting.ipynb#X16sZmlsZQ%3D%3D?line=14'>15</a>\u001b[0m                                                       c\u001b[39m=\u001b[39mc_start, \n\u001b[0;32m     <a href='vscode-notebook-cell:/c%3A/Users/krist/Documents/ModelNISQ/notebooks/experiments/Diluted%20Unitary%20Fitting.ipynb#X16sZmlsZQ%3D%3D?line=15'>16</a>\u001b[0m                                                       kraus_part\u001b[39m=\u001b[39mKrausMap(d, \n\u001b[1;32m   (...)\u001b[0m\n\u001b[0;32m     <a href='vscode-notebook-cell:/c%3A/Users/krist/Documents/ModelNISQ/notebooks/experiments/Diluted%20Unitary%20Fitting.ipynb#X16sZmlsZQ%3D%3D?line=22'>23</a>\u001b[0m                                         verbose\u001b[39m=\u001b[39m\u001b[39mTrue\u001b[39;00m,N\u001b[39m=\u001b[39m\u001b[39m0\u001b[39m),\n\u001b[0;32m     <a href='vscode-notebook-cell:/c%3A/Users/krist/Documents/ModelNISQ/notebooks/experiments/Diluted%20Unitary%20Fitting.ipynb#X16sZmlsZQ%3D%3D?line=23'>24</a>\u001b[0m                         )\n\u001b[1;32m---> <a href='vscode-notebook-cell:/c%3A/Users/krist/Documents/ModelNISQ/notebooks/experiments/Diluted%20Unitary%20Fitting.ipynb#X16sZmlsZQ%3D%3D?line=24'>25</a>\u001b[0m     model\u001b[39m.\u001b[39;49mtrain(inputs \u001b[39m=\u001b[39;49m \u001b[39mNone\u001b[39;49;00m,\n\u001b[0;32m     <a href='vscode-notebook-cell:/c%3A/Users/krist/Documents/ModelNISQ/notebooks/experiments/Diluted%20Unitary%20Fitting.ipynb#X16sZmlsZQ%3D%3D?line=25'>26</a>\u001b[0m                 targets \u001b[39m=\u001b[39;49m [spectrum_target],\n\u001b[0;32m     <a href='vscode-notebook-cell:/c%3A/Users/krist/Documents/ModelNISQ/notebooks/experiments/Diluted%20Unitary%20Fitting.ipynb#X16sZmlsZQ%3D%3D?line=26'>27</a>\u001b[0m                 num_iter \u001b[39m=\u001b[39;49m num_iter,\n\u001b[0;32m     <a href='vscode-notebook-cell:/c%3A/Users/krist/Documents/ModelNISQ/notebooks/experiments/Diluted%20Unitary%20Fitting.ipynb#X16sZmlsZQ%3D%3D?line=27'>28</a>\u001b[0m                )\n\u001b[0;32m     <a href='vscode-notebook-cell:/c%3A/Users/krist/Documents/ModelNISQ/notebooks/experiments/Diluted%20Unitary%20Fitting.ipynb#X16sZmlsZQ%3D%3D?line=29'>30</a>\u001b[0m     model_list\u001b[39m.\u001b[39mappend(model)\n\u001b[0;32m     <a href='vscode-notebook-cell:/c%3A/Users/krist/Documents/ModelNISQ/notebooks/experiments/Diluted%20Unitary%20Fitting.ipynb#X16sZmlsZQ%3D%3D?line=30'>31</a>\u001b[0m     distance_list\u001b[39m.\u001b[39mappend(model\u001b[39m.\u001b[39mlogger\u001b[39m.\u001b[39mloss_train_list[\u001b[39m-\u001b[39m\u001b[39m1\u001b[39m])\n",
      "File \u001b[1;32mc:\\Users\\krist\\Documents\\ModelNISQ\\notebooks\\experiments\\../../src_tf\\optimization.py:134\u001b[0m, in \u001b[0;36mModelQuantumMap.train\u001b[1;34m(self, inputs, targets, inputs_val, targets_val, num_iter, N, verbose)\u001b[0m\n\u001b[0;32m    131\u001b[0m     \u001b[39mfor\u001b[39;00m loss_function \u001b[39min\u001b[39;00m \u001b[39mself\u001b[39m\u001b[39m.\u001b[39mloss_function:\n\u001b[0;32m    132\u001b[0m         loss \u001b[39m+\u001b[39m\u001b[39m=\u001b[39m loss_function(\u001b[39mself\u001b[39m\u001b[39m.\u001b[39mchannel, inputs_batch, targets_batch)\n\u001b[1;32m--> 134\u001b[0m grads \u001b[39m=\u001b[39m tape\u001b[39m.\u001b[39;49mgradient(loss, \u001b[39mself\u001b[39;49m\u001b[39m.\u001b[39;49mchannel\u001b[39m.\u001b[39;49mparameter_list)\n\u001b[0;32m    135\u001b[0m \u001b[39mself\u001b[39m\u001b[39m.\u001b[39moptimizer\u001b[39m.\u001b[39mapply_gradients(\u001b[39mzip\u001b[39m(grads, \u001b[39mself\u001b[39m\u001b[39m.\u001b[39mchannel\u001b[39m.\u001b[39mparameter_list))\n\u001b[0;32m    137\u001b[0m \u001b[39mself\u001b[39m\u001b[39m.\u001b[39mlogger\u001b[39m.\u001b[39mlog(\u001b[39mself\u001b[39m)\n",
      "File \u001b[1;32mc:\\Users\\krist\\anaconda3\\envs\\env_qiskit\\lib\\site-packages\\tensorflow\\python\\eager\\backprop.py:1100\u001b[0m, in \u001b[0;36mGradientTape.gradient\u001b[1;34m(self, target, sources, output_gradients, unconnected_gradients)\u001b[0m\n\u001b[0;32m   1094\u001b[0m   output_gradients \u001b[39m=\u001b[39m (\n\u001b[0;32m   1095\u001b[0m       composite_tensor_gradient\u001b[39m.\u001b[39mget_flat_tensors_for_gradients(\n\u001b[0;32m   1096\u001b[0m           output_gradients))\n\u001b[0;32m   1097\u001b[0m   output_gradients \u001b[39m=\u001b[39m [\u001b[39mNone\u001b[39;00m \u001b[39mif\u001b[39;00m x \u001b[39mis\u001b[39;00m \u001b[39mNone\u001b[39;00m \u001b[39melse\u001b[39;00m ops\u001b[39m.\u001b[39mconvert_to_tensor(x)\n\u001b[0;32m   1098\u001b[0m                       \u001b[39mfor\u001b[39;00m x \u001b[39min\u001b[39;00m output_gradients]\n\u001b[1;32m-> 1100\u001b[0m flat_grad \u001b[39m=\u001b[39m imperative_grad\u001b[39m.\u001b[39;49mimperative_grad(\n\u001b[0;32m   1101\u001b[0m     \u001b[39mself\u001b[39;49m\u001b[39m.\u001b[39;49m_tape,\n\u001b[0;32m   1102\u001b[0m     flat_targets,\n\u001b[0;32m   1103\u001b[0m     flat_sources,\n\u001b[0;32m   1104\u001b[0m     output_gradients\u001b[39m=\u001b[39;49moutput_gradients,\n\u001b[0;32m   1105\u001b[0m     sources_raw\u001b[39m=\u001b[39;49mflat_sources_raw,\n\u001b[0;32m   1106\u001b[0m     unconnected_gradients\u001b[39m=\u001b[39;49munconnected_gradients)\n\u001b[0;32m   1108\u001b[0m \u001b[39mif\u001b[39;00m \u001b[39mnot\u001b[39;00m \u001b[39mself\u001b[39m\u001b[39m.\u001b[39m_persistent:\n\u001b[0;32m   1109\u001b[0m   \u001b[39m# Keep track of watched variables before setting tape to None\u001b[39;00m\n\u001b[0;32m   1110\u001b[0m   \u001b[39mself\u001b[39m\u001b[39m.\u001b[39m_watched_variables \u001b[39m=\u001b[39m \u001b[39mself\u001b[39m\u001b[39m.\u001b[39m_tape\u001b[39m.\u001b[39mwatched_variables()\n",
      "File \u001b[1;32mc:\\Users\\krist\\anaconda3\\envs\\env_qiskit\\lib\\site-packages\\tensorflow\\python\\eager\\imperative_grad.py:67\u001b[0m, in \u001b[0;36mimperative_grad\u001b[1;34m(tape, target, sources, output_gradients, sources_raw, unconnected_gradients)\u001b[0m\n\u001b[0;32m     63\u001b[0m \u001b[39mexcept\u001b[39;00m \u001b[39mValueError\u001b[39;00m:\n\u001b[0;32m     64\u001b[0m   \u001b[39mraise\u001b[39;00m \u001b[39mValueError\u001b[39;00m(\n\u001b[0;32m     65\u001b[0m       \u001b[39m\"\u001b[39m\u001b[39mUnknown value for unconnected_gradients: \u001b[39m\u001b[39m%r\u001b[39;00m\u001b[39m\"\u001b[39m \u001b[39m%\u001b[39m unconnected_gradients)\n\u001b[1;32m---> 67\u001b[0m \u001b[39mreturn\u001b[39;00m pywrap_tfe\u001b[39m.\u001b[39;49mTFE_Py_TapeGradient(\n\u001b[0;32m     68\u001b[0m     tape\u001b[39m.\u001b[39;49m_tape,  \u001b[39m# pylint: disable=protected-access\u001b[39;49;00m\n\u001b[0;32m     69\u001b[0m     target,\n\u001b[0;32m     70\u001b[0m     sources,\n\u001b[0;32m     71\u001b[0m     output_gradients,\n\u001b[0;32m     72\u001b[0m     sources_raw,\n\u001b[0;32m     73\u001b[0m     compat\u001b[39m.\u001b[39;49mas_str(unconnected_gradients\u001b[39m.\u001b[39;49mvalue))\n",
      "File \u001b[1;32mc:\\Users\\krist\\anaconda3\\envs\\env_qiskit\\lib\\site-packages\\tensorflow\\python\\eager\\backprop.py:157\u001b[0m, in \u001b[0;36m_gradient_function\u001b[1;34m(op_name, attr_tuple, num_inputs, inputs, outputs, out_grads, skip_input_indices, forward_pass_name_scope)\u001b[0m\n\u001b[0;32m    155\u001b[0m     gradient_name_scope \u001b[39m+\u001b[39m\u001b[39m=\u001b[39m forward_pass_name_scope \u001b[39m+\u001b[39m \u001b[39m\"\u001b[39m\u001b[39m/\u001b[39m\u001b[39m\"\u001b[39m\n\u001b[0;32m    156\u001b[0m   \u001b[39mwith\u001b[39;00m ops\u001b[39m.\u001b[39mname_scope(gradient_name_scope):\n\u001b[1;32m--> 157\u001b[0m     \u001b[39mreturn\u001b[39;00m grad_fn(mock_op, \u001b[39m*\u001b[39;49mout_grads)\n\u001b[0;32m    158\u001b[0m \u001b[39melse\u001b[39;00m:\n\u001b[0;32m    159\u001b[0m   \u001b[39mreturn\u001b[39;00m grad_fn(mock_op, \u001b[39m*\u001b[39mout_grads)\n",
      "File \u001b[1;32mc:\\Users\\krist\\anaconda3\\envs\\env_qiskit\\lib\\site-packages\\tensorflow\\python\\ops\\linalg_grad.py:757\u001b[0m, in \u001b[0;36m_EigGrad\u001b[1;34m(op, grad_e, grad_v)\u001b[0m\n\u001b[0;32m    752\u001b[0m   mid \u001b[39m+\u001b[39m\u001b[39m=\u001b[39m f \u001b[39m*\u001b[39m (vgv \u001b[39m-\u001b[39m math_ops\u001b[39m.\u001b[39mmatmul(math_ops\u001b[39m.\u001b[39mmatmul(vt, v), diag_grad_part))\n\u001b[0;32m    753\u001b[0m   \u001b[39m# vt is formally invertible as long as the original matrix is\u001b[39;00m\n\u001b[0;32m    754\u001b[0m   \u001b[39m# diagonalizable. However, in practice, vt may\u001b[39;00m\n\u001b[0;32m    755\u001b[0m   \u001b[39m# be ill-conditioned when matrix original matrix is close to\u001b[39;00m\n\u001b[0;32m    756\u001b[0m   \u001b[39m# non-diagonalizable one\u001b[39;00m\n\u001b[1;32m--> 757\u001b[0m   grad_a \u001b[39m=\u001b[39m linalg_ops\u001b[39m.\u001b[39;49mmatrix_solve(vt, math_ops\u001b[39m.\u001b[39;49mmatmul(mid, vt))\n\u001b[0;32m    758\u001b[0m \u001b[39melse\u001b[39;00m:\n\u001b[0;32m    759\u001b[0m   _, v \u001b[39m=\u001b[39m linalg_ops\u001b[39m.\u001b[39meig(op\u001b[39m.\u001b[39minputs[\u001b[39m0\u001b[39m])\n",
      "File \u001b[1;32mc:\\Users\\krist\\anaconda3\\envs\\env_qiskit\\lib\\site-packages\\tensorflow\\python\\ops\\gen_linalg_ops.py:1675\u001b[0m, in \u001b[0;36mmatrix_solve\u001b[1;34m(matrix, rhs, adjoint, name)\u001b[0m\n\u001b[0;32m   1673\u001b[0m \u001b[39mif\u001b[39;00m tld\u001b[39m.\u001b[39mis_eager:\n\u001b[0;32m   1674\u001b[0m   \u001b[39mtry\u001b[39;00m:\n\u001b[1;32m-> 1675\u001b[0m     _result \u001b[39m=\u001b[39m pywrap_tfe\u001b[39m.\u001b[39;49mTFE_Py_FastPathExecute(\n\u001b[0;32m   1676\u001b[0m       _ctx, \u001b[39m\"\u001b[39;49m\u001b[39mMatrixSolve\u001b[39;49m\u001b[39m\"\u001b[39;49m, name, matrix, rhs, \u001b[39m\"\u001b[39;49m\u001b[39madjoint\u001b[39;49m\u001b[39m\"\u001b[39;49m, adjoint)\n\u001b[0;32m   1677\u001b[0m     \u001b[39mreturn\u001b[39;00m _result\n\u001b[0;32m   1678\u001b[0m   \u001b[39mexcept\u001b[39;00m _core\u001b[39m.\u001b[39m_NotOkStatusException \u001b[39mas\u001b[39;00m e:\n",
      "\u001b[1;31mKeyboardInterrupt\u001b[0m: "
     ]
    }
   ],
   "source": [
    "[distance_best, model_best] = loader(data_path(\"diluted_fitting_4qubit_16layer.model\"))\n",
    "rank_start = model_best.channel.rank\n",
    "c_start = model_best.channel.c\n",
    "print(rank_start)\n",
    "print(c_start)\n",
    "\n",
    "distance_best, model_best = optimize_annulus_distance(spectrum_target = spectrum3, \n",
    "                                                      d = d, \n",
    "                                                      c_start = c_start,\n",
    "                                                      rank_start = 64, \n",
    "                                                      rank_step = 1,\n",
    "                                                      num_iter = 2000)\n",
    "\n",
    "model_best.optimizer = None\n",
    "saver([distance_best, model_best], data_path(\"diluted_fitting_4qubit_24layer.model\"))"
   ]
  },
  {
   "cell_type": "code",
   "execution_count": 7,
   "metadata": {},
   "outputs": [
    {
     "data": {
      "application/vnd.jupyter.widget-view+json": {
       "model_id": "69b50dde316f4399a5458d3329a2679a",
       "version_major": 2,
       "version_minor": 0
      },
      "text/plain": [
       "  0%|          | 0/2000 [00:00<?, ?it/s]"
      ]
     },
     "metadata": {},
     "output_type": "display_data"
    },
    {
     "name": "stdout",
     "output_type": "stream",
     "text": [
      "0.07850367522917293 None\n",
      "0.06697452226021569 None\n",
      "0.05843722564501721 None\n",
      "0.05285845954431295 None\n",
      "0.049787401841806606 None\n",
      "0.046351972219857956 None\n",
      "0.04393469910028362 None\n",
      "0.04246763478987138 None\n",
      "0.04137131999678863 None\n",
      "0.04037766621066555 None\n",
      "0.03946317526275035 None\n",
      "0.03869575238798194 None\n",
      "0.038225916666074854 None\n",
      "0.03770910196220571 None\n",
      "0.03711308705023994 None\n",
      "0.036485304370237705 None\n",
      "0.03597688765752391 None\n"
     ]
    },
    {
     "ename": "KeyboardInterrupt",
     "evalue": "",
     "output_type": "error",
     "traceback": [
      "\u001b[1;31m---------------------------------------------------------------------------\u001b[0m",
      "\u001b[1;31mKeyboardInterrupt\u001b[0m                         Traceback (most recent call last)",
      "\u001b[1;32mc:\\Users\\krist\\Documents\\ModelNISQ\\notebooks\\experiments\\Diluted Unitary Fitting.ipynb Cell 15\u001b[0m in \u001b[0;36m<cell line: 5>\u001b[1;34m()\u001b[0m\n\u001b[0;32m      <a href='vscode-notebook-cell:/c%3A/Users/krist/Documents/ModelNISQ/notebooks/experiments/Diluted%20Unitary%20Fitting.ipynb#X20sZmlsZQ%3D%3D?line=1'>2</a>\u001b[0m rank_start \u001b[39m=\u001b[39m model_best\u001b[39m.\u001b[39mchannel\u001b[39m.\u001b[39mrank\n\u001b[0;32m      <a href='vscode-notebook-cell:/c%3A/Users/krist/Documents/ModelNISQ/notebooks/experiments/Diluted%20Unitary%20Fitting.ipynb#X20sZmlsZQ%3D%3D?line=2'>3</a>\u001b[0m c_start \u001b[39m=\u001b[39m model_best\u001b[39m.\u001b[39mchannel\u001b[39m.\u001b[39mc\n\u001b[1;32m----> <a href='vscode-notebook-cell:/c%3A/Users/krist/Documents/ModelNISQ/notebooks/experiments/Diluted%20Unitary%20Fitting.ipynb#X20sZmlsZQ%3D%3D?line=4'>5</a>\u001b[0m distance_best, model_best \u001b[39m=\u001b[39m optimize_annulus_distance(spectrum_target \u001b[39m=\u001b[39;49m spectrum4, \n\u001b[0;32m      <a href='vscode-notebook-cell:/c%3A/Users/krist/Documents/ModelNISQ/notebooks/experiments/Diluted%20Unitary%20Fitting.ipynb#X20sZmlsZQ%3D%3D?line=5'>6</a>\u001b[0m                                                       d \u001b[39m=\u001b[39;49m d,\n\u001b[0;32m      <a href='vscode-notebook-cell:/c%3A/Users/krist/Documents/ModelNISQ/notebooks/experiments/Diluted%20Unitary%20Fitting.ipynb#X20sZmlsZQ%3D%3D?line=6'>7</a>\u001b[0m                                                       c_start \u001b[39m=\u001b[39;49m c_start, \n\u001b[0;32m      <a href='vscode-notebook-cell:/c%3A/Users/krist/Documents/ModelNISQ/notebooks/experiments/Diluted%20Unitary%20Fitting.ipynb#X20sZmlsZQ%3D%3D?line=7'>8</a>\u001b[0m                                                       rank_start \u001b[39m=\u001b[39;49m rank_start, \n\u001b[0;32m      <a href='vscode-notebook-cell:/c%3A/Users/krist/Documents/ModelNISQ/notebooks/experiments/Diluted%20Unitary%20Fitting.ipynb#X20sZmlsZQ%3D%3D?line=8'>9</a>\u001b[0m                                                       rank_step \u001b[39m=\u001b[39;49m \u001b[39m1\u001b[39;49m,\n\u001b[0;32m     <a href='vscode-notebook-cell:/c%3A/Users/krist/Documents/ModelNISQ/notebooks/experiments/Diluted%20Unitary%20Fitting.ipynb#X20sZmlsZQ%3D%3D?line=9'>10</a>\u001b[0m                                                       num_iter \u001b[39m=\u001b[39;49m \u001b[39m2000\u001b[39;49m)\n\u001b[0;32m     <a href='vscode-notebook-cell:/c%3A/Users/krist/Documents/ModelNISQ/notebooks/experiments/Diluted%20Unitary%20Fitting.ipynb#X20sZmlsZQ%3D%3D?line=11'>12</a>\u001b[0m model_best\u001b[39m.\u001b[39moptimizer \u001b[39m=\u001b[39m \u001b[39mNone\u001b[39;00m\n\u001b[0;32m     <a href='vscode-notebook-cell:/c%3A/Users/krist/Documents/ModelNISQ/notebooks/experiments/Diluted%20Unitary%20Fitting.ipynb#X20sZmlsZQ%3D%3D?line=12'>13</a>\u001b[0m saver([distance_best, model_best], data_path(\u001b[39m\"\u001b[39m\u001b[39mdiluted_fitting_4qubit_32layer.model\u001b[39m\u001b[39m\"\u001b[39m))\n",
      "\u001b[1;32mc:\\Users\\krist\\Documents\\ModelNISQ\\notebooks\\experiments\\Diluted Unitary Fitting.ipynb Cell 15\u001b[0m in \u001b[0;36moptimize_annulus_distance\u001b[1;34m(spectrum_target, d, c_start, rank_start, rank_step, num_iter, lr)\u001b[0m\n\u001b[0;32m     <a href='vscode-notebook-cell:/c%3A/Users/krist/Documents/ModelNISQ/notebooks/experiments/Diluted%20Unitary%20Fitting.ipynb#X20sZmlsZQ%3D%3D?line=12'>13</a>\u001b[0m \u001b[39mfor\u001b[39;00m rank \u001b[39min\u001b[39;00m \u001b[39mrange\u001b[39m(rank_start, d\u001b[39m*\u001b[39m\u001b[39m*\u001b[39m\u001b[39m2\u001b[39m\u001b[39m+\u001b[39mrank_step, rank_step): \n\u001b[0;32m     <a href='vscode-notebook-cell:/c%3A/Users/krist/Documents/ModelNISQ/notebooks/experiments/Diluted%20Unitary%20Fitting.ipynb#X20sZmlsZQ%3D%3D?line=13'>14</a>\u001b[0m     model \u001b[39m=\u001b[39m ModelQuantumMap(channel \u001b[39m=\u001b[39m DilutedKrausMap(U\u001b[39m=\u001b[39mgenerate_unitary(d), \n\u001b[0;32m     <a href='vscode-notebook-cell:/c%3A/Users/krist/Documents/ModelNISQ/notebooks/experiments/Diluted%20Unitary%20Fitting.ipynb#X20sZmlsZQ%3D%3D?line=14'>15</a>\u001b[0m                                                       c\u001b[39m=\u001b[39mc_start, \n\u001b[0;32m     <a href='vscode-notebook-cell:/c%3A/Users/krist/Documents/ModelNISQ/notebooks/experiments/Diluted%20Unitary%20Fitting.ipynb#X20sZmlsZQ%3D%3D?line=15'>16</a>\u001b[0m                                                       kraus_part\u001b[39m=\u001b[39mKrausMap(d, \n\u001b[1;32m   (...)\u001b[0m\n\u001b[0;32m     <a href='vscode-notebook-cell:/c%3A/Users/krist/Documents/ModelNISQ/notebooks/experiments/Diluted%20Unitary%20Fitting.ipynb#X20sZmlsZQ%3D%3D?line=22'>23</a>\u001b[0m                                         verbose\u001b[39m=\u001b[39m\u001b[39mTrue\u001b[39;00m,N\u001b[39m=\u001b[39m\u001b[39m0\u001b[39m),\n\u001b[0;32m     <a href='vscode-notebook-cell:/c%3A/Users/krist/Documents/ModelNISQ/notebooks/experiments/Diluted%20Unitary%20Fitting.ipynb#X20sZmlsZQ%3D%3D?line=23'>24</a>\u001b[0m                         )\n\u001b[1;32m---> <a href='vscode-notebook-cell:/c%3A/Users/krist/Documents/ModelNISQ/notebooks/experiments/Diluted%20Unitary%20Fitting.ipynb#X20sZmlsZQ%3D%3D?line=24'>25</a>\u001b[0m     model\u001b[39m.\u001b[39;49mtrain(inputs \u001b[39m=\u001b[39;49m \u001b[39mNone\u001b[39;49;00m,\n\u001b[0;32m     <a href='vscode-notebook-cell:/c%3A/Users/krist/Documents/ModelNISQ/notebooks/experiments/Diluted%20Unitary%20Fitting.ipynb#X20sZmlsZQ%3D%3D?line=25'>26</a>\u001b[0m                 targets \u001b[39m=\u001b[39;49m [spectrum_target],\n\u001b[0;32m     <a href='vscode-notebook-cell:/c%3A/Users/krist/Documents/ModelNISQ/notebooks/experiments/Diluted%20Unitary%20Fitting.ipynb#X20sZmlsZQ%3D%3D?line=26'>27</a>\u001b[0m                 num_iter \u001b[39m=\u001b[39;49m num_iter,\n\u001b[0;32m     <a href='vscode-notebook-cell:/c%3A/Users/krist/Documents/ModelNISQ/notebooks/experiments/Diluted%20Unitary%20Fitting.ipynb#X20sZmlsZQ%3D%3D?line=27'>28</a>\u001b[0m                )\n\u001b[0;32m     <a href='vscode-notebook-cell:/c%3A/Users/krist/Documents/ModelNISQ/notebooks/experiments/Diluted%20Unitary%20Fitting.ipynb#X20sZmlsZQ%3D%3D?line=29'>30</a>\u001b[0m     model_list\u001b[39m.\u001b[39mappend(model)\n\u001b[0;32m     <a href='vscode-notebook-cell:/c%3A/Users/krist/Documents/ModelNISQ/notebooks/experiments/Diluted%20Unitary%20Fitting.ipynb#X20sZmlsZQ%3D%3D?line=30'>31</a>\u001b[0m     distance_list\u001b[39m.\u001b[39mappend(model\u001b[39m.\u001b[39mlogger\u001b[39m.\u001b[39mloss_train_list[\u001b[39m-\u001b[39m\u001b[39m1\u001b[39m])\n",
      "File \u001b[1;32mc:\\Users\\krist\\Documents\\ModelNISQ\\notebooks\\experiments\\../../src_tf\\optimization.py:132\u001b[0m, in \u001b[0;36mModelQuantumMap.train\u001b[1;34m(self, inputs, targets, inputs_val, targets_val, num_iter, N, verbose)\u001b[0m\n\u001b[0;32m    130\u001b[0m     loss \u001b[39m=\u001b[39m \u001b[39m0\u001b[39m\n\u001b[0;32m    131\u001b[0m     \u001b[39mfor\u001b[39;00m loss_function \u001b[39min\u001b[39;00m \u001b[39mself\u001b[39m\u001b[39m.\u001b[39mloss_function:\n\u001b[1;32m--> 132\u001b[0m         loss \u001b[39m+\u001b[39m\u001b[39m=\u001b[39m loss_function(\u001b[39mself\u001b[39;49m\u001b[39m.\u001b[39;49mchannel, inputs_batch, targets_batch)\n\u001b[0;32m    134\u001b[0m grads \u001b[39m=\u001b[39m tape\u001b[39m.\u001b[39mgradient(loss, \u001b[39mself\u001b[39m\u001b[39m.\u001b[39mchannel\u001b[39m.\u001b[39mparameter_list)\n\u001b[0;32m    135\u001b[0m \u001b[39mself\u001b[39m\u001b[39m.\u001b[39moptimizer\u001b[39m.\u001b[39mapply_gradients(\u001b[39mzip\u001b[39m(grads, \u001b[39mself\u001b[39m\u001b[39m.\u001b[39mchannel\u001b[39m.\u001b[39mparameter_list))\n",
      "File \u001b[1;32mc:\\Users\\krist\\Documents\\ModelNISQ\\notebooks\\experiments\\../../src_tf\\loss_functions.py:227\u001b[0m, in \u001b[0;36mAnnulusDistance.__call__\u001b[1;34m(self, channel, input, target)\u001b[0m\n\u001b[0;32m    225\u001b[0m \u001b[39mdef\u001b[39;00m \u001b[39m__call__\u001b[39m(\u001b[39mself\u001b[39m, channel, \u001b[39minput\u001b[39m, target):\n\u001b[0;32m    226\u001b[0m     spectrum_target \u001b[39m=\u001b[39m target[\u001b[39m0\u001b[39m]\n\u001b[1;32m--> 227\u001b[0m     spectrum_model \u001b[39m=\u001b[39m channel_spectrum(channel, use_coords\u001b[39m=\u001b[39;49m\u001b[39mTrue\u001b[39;49;00m, keep_unity\u001b[39m=\u001b[39;49m\u001b[39mFalse\u001b[39;49;00m)\n\u001b[0;32m    229\u001b[0m     r_mean1, r_std1, a_mean1, a_std1 \u001b[39m=\u001b[39m \u001b[39mself\u001b[39m\u001b[39m.\u001b[39mspectrum_to_momenta(spectrum_model)\n\u001b[0;32m    230\u001b[0m     r_mean2, r_std2, a_mean2, a_std2 \u001b[39m=\u001b[39m \u001b[39mself\u001b[39m\u001b[39m.\u001b[39mspectrum_to_momenta(spectrum_target)\n",
      "File \u001b[1;32mc:\\Users\\krist\\Documents\\ModelNISQ\\notebooks\\experiments\\../../src_tf\\spectrum.py:20\u001b[0m, in \u001b[0;36mchannel_spectrum\u001b[1;34m(input, use_coords, keep_real, keep_unity, tol)\u001b[0m\n\u001b[0;32m     18\u001b[0m \u001b[39mdef\u001b[39;00m \u001b[39mchannel_spectrum\u001b[39m(\u001b[39minput\u001b[39m, use_coords\u001b[39m=\u001b[39m\u001b[39mTrue\u001b[39;00m, keep_real\u001b[39m=\u001b[39m\u001b[39mTrue\u001b[39;00m, keep_unity\u001b[39m=\u001b[39m\u001b[39mTrue\u001b[39;00m, tol\u001b[39m=\u001b[39m\u001b[39m1e-4\u001b[39m):\n\u001b[0;32m     19\u001b[0m     \u001b[39mif\u001b[39;00m \u001b[39misinstance\u001b[39m(\u001b[39minput\u001b[39m, Channel):\n\u001b[1;32m---> 20\u001b[0m         eig, _ \u001b[39m=\u001b[39m tf\u001b[39m.\u001b[39;49mlinalg\u001b[39m.\u001b[39;49meig(reshuffle(\u001b[39minput\u001b[39;49m\u001b[39m.\u001b[39;49mchoi))\n\u001b[0;32m     21\u001b[0m         eig \u001b[39m=\u001b[39m tf\u001b[39m.\u001b[39mexpand_dims(eig, axis\u001b[39m=\u001b[39m\u001b[39m1\u001b[39m)\n\u001b[0;32m     22\u001b[0m     \u001b[39melse\u001b[39;00m:\n",
      "File \u001b[1;32mc:\\Users\\krist\\anaconda3\\envs\\env_qiskit\\lib\\site-packages\\tensorflow\\python\\util\\traceback_utils.py:150\u001b[0m, in \u001b[0;36mfilter_traceback.<locals>.error_handler\u001b[1;34m(*args, **kwargs)\u001b[0m\n\u001b[0;32m    148\u001b[0m filtered_tb \u001b[39m=\u001b[39m \u001b[39mNone\u001b[39;00m\n\u001b[0;32m    149\u001b[0m \u001b[39mtry\u001b[39;00m:\n\u001b[1;32m--> 150\u001b[0m   \u001b[39mreturn\u001b[39;00m fn(\u001b[39m*\u001b[39margs, \u001b[39m*\u001b[39m\u001b[39m*\u001b[39mkwargs)\n\u001b[0;32m    151\u001b[0m \u001b[39mexcept\u001b[39;00m \u001b[39mException\u001b[39;00m \u001b[39mas\u001b[39;00m e:\n\u001b[0;32m    152\u001b[0m   filtered_tb \u001b[39m=\u001b[39m _process_traceback_frames(e\u001b[39m.\u001b[39m__traceback__)\n",
      "File \u001b[1;32mc:\\Users\\krist\\anaconda3\\envs\\env_qiskit\\lib\\site-packages\\tensorflow\\python\\util\\dispatch.py:1082\u001b[0m, in \u001b[0;36madd_dispatch_support.<locals>.decorator.<locals>.op_dispatch_handler\u001b[1;34m(*args, **kwargs)\u001b[0m\n\u001b[0;32m   1080\u001b[0m \u001b[39m# Fallback dispatch system (dispatch v1):\u001b[39;00m\n\u001b[0;32m   1081\u001b[0m \u001b[39mtry\u001b[39;00m:\n\u001b[1;32m-> 1082\u001b[0m   \u001b[39mreturn\u001b[39;00m dispatch_target(\u001b[39m*\u001b[39margs, \u001b[39m*\u001b[39m\u001b[39m*\u001b[39mkwargs)\n\u001b[0;32m   1083\u001b[0m \u001b[39mexcept\u001b[39;00m (\u001b[39mTypeError\u001b[39;00m, \u001b[39mValueError\u001b[39;00m):\n\u001b[0;32m   1084\u001b[0m   \u001b[39m# Note: convert_to_eager_tensor currently raises a ValueError, not a\u001b[39;00m\n\u001b[0;32m   1085\u001b[0m   \u001b[39m# TypeError, when given unexpected types.  So we need to catch both.\u001b[39;00m\n\u001b[0;32m   1086\u001b[0m   result \u001b[39m=\u001b[39m dispatch(op_dispatch_handler, args, kwargs)\n",
      "File \u001b[1;32mc:\\Users\\krist\\anaconda3\\envs\\env_qiskit\\lib\\site-packages\\tensorflow\\python\\ops\\linalg_ops.py:405\u001b[0m, in \u001b[0;36meig\u001b[1;34m(tensor, name)\u001b[0m\n\u001b[0;32m    403\u001b[0m \u001b[39melif\u001b[39;00m tensor\u001b[39m.\u001b[39mdtype \u001b[39m==\u001b[39m dtypes\u001b[39m.\u001b[39mfloat64 \u001b[39mor\u001b[39;00m tensor\u001b[39m.\u001b[39mdtype \u001b[39m==\u001b[39m dtypes\u001b[39m.\u001b[39mcomplex128:\n\u001b[0;32m    404\u001b[0m   out_dtype \u001b[39m=\u001b[39m dtypes\u001b[39m.\u001b[39mcomplex128\n\u001b[1;32m--> 405\u001b[0m e, v \u001b[39m=\u001b[39m gen_linalg_ops\u001b[39m.\u001b[39;49meig(tensor, Tout\u001b[39m=\u001b[39;49mout_dtype, compute_v\u001b[39m=\u001b[39;49m\u001b[39mTrue\u001b[39;49;00m, name\u001b[39m=\u001b[39;49mname)\n\u001b[0;32m    406\u001b[0m \u001b[39mreturn\u001b[39;00m e, v\n",
      "File \u001b[1;32mc:\\Users\\krist\\anaconda3\\envs\\env_qiskit\\lib\\site-packages\\tensorflow\\python\\ops\\gen_linalg_ops.py:939\u001b[0m, in \u001b[0;36meig\u001b[1;34m(input, Tout, compute_v, name)\u001b[0m\n\u001b[0;32m    937\u001b[0m \u001b[39mif\u001b[39;00m tld\u001b[39m.\u001b[39mis_eager:\n\u001b[0;32m    938\u001b[0m   \u001b[39mtry\u001b[39;00m:\n\u001b[1;32m--> 939\u001b[0m     _result \u001b[39m=\u001b[39m pywrap_tfe\u001b[39m.\u001b[39;49mTFE_Py_FastPathExecute(\n\u001b[0;32m    940\u001b[0m       _ctx, \u001b[39m\"\u001b[39;49m\u001b[39mEig\u001b[39;49m\u001b[39m\"\u001b[39;49m, name, \u001b[39minput\u001b[39;49m, \u001b[39m\"\u001b[39;49m\u001b[39mcompute_v\u001b[39;49m\u001b[39m\"\u001b[39;49m, compute_v, \u001b[39m\"\u001b[39;49m\u001b[39mTout\u001b[39;49m\u001b[39m\"\u001b[39;49m, Tout)\n\u001b[0;32m    941\u001b[0m     _result \u001b[39m=\u001b[39m _EigOutput\u001b[39m.\u001b[39m_make(_result)\n\u001b[0;32m    942\u001b[0m     \u001b[39mreturn\u001b[39;00m _result\n",
      "\u001b[1;31mKeyboardInterrupt\u001b[0m: "
     ]
    }
   ],
   "source": [
    "[distance_best, model_best] = loader(data_path(\"diluted_fitting_4qubit_24layer.model\"))\n",
    "rank_start = model_best.channel.rank\n",
    "c_start = model_best.channel.c\n",
    "\n",
    "distance_best, model_best = optimize_annulus_distance(spectrum_target = spectrum4, \n",
    "                                                      d = d,\n",
    "                                                      c_start = c_start, \n",
    "                                                      rank_start = rank_start, \n",
    "                                                      rank_step = 1,\n",
    "                                                      num_iter = 2000)\n",
    "\n",
    "model_best.optimizer = None\n",
    "saver([distance_best, model_best], data_path(\"diluted_fitting_4qubit_32layer.model\"))"
   ]
  },
  {
   "cell_type": "code",
   "execution_count": null,
   "metadata": {},
   "outputs": [],
   "source": []
  }
 ],
 "metadata": {
  "kernelspec": {
   "display_name": "env_qiskit",
   "language": "python",
   "name": "python3"
  },
  "language_info": {
   "codemirror_mode": {
    "name": "ipython",
    "version": 3
   },
   "file_extension": ".py",
   "mimetype": "text/x-python",
   "name": "python",
   "nbconvert_exporter": "python",
   "pygments_lexer": "ipython3",
   "version": "3.10.4"
  }
 },
 "nbformat": 4,
 "nbformat_minor": 4
}
