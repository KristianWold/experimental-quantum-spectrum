{
 "cells": [
  {
   "cell_type": "markdown",
   "metadata": {},
   "source": [
    "# Diluted Unitary Fitting"
   ]
  },
  {
   "cell_type": "code",
   "execution_count": 5,
   "metadata": {},
   "outputs": [],
   "source": [
    "import sys\n",
    "sys.path.insert(0, '../../src_tf/')\n",
    "\n",
    "import numpy as np\n",
    "import qiskit as qk\n",
    "import matplotlib.pyplot as plt\n",
    "import multiprocessing as mp\n",
    "import random\n",
    "import pickle\n",
    "\n",
    "from qiskit.quantum_info import DensityMatrix, random_unitary\n",
    "from qiskit.quantum_info import Operator\n",
    "from scipy.linalg import sqrtm\n",
    "from tqdm.notebook import tqdm\n",
    "from math import ceil\n",
    "\n",
    "from loss_functions import *\n",
    "from optimization import *\n",
    "from quantum_channel import *\n",
    "from kraus_channels import *\n",
    "from quantum_tools import *\n",
    "from experimental import *\n",
    "from spam import *\n",
    "from scipy.stats import gaussian_kde\n",
    "from quantum_circuits import *\n",
    "from analysis import *\n",
    "from utils import *\n",
    "\n",
    "#np.set_printoptions(threshold=sys.maxsize)\n",
    "np.set_printoptions(precision=4)\n",
    "\n",
    "import os\n",
    "os.environ[\"CUDA_VISIBLE_DEVICES\"] = \"-1\""
   ]
  },
  {
   "cell_type": "code",
   "execution_count": 6,
   "metadata": {},
   "outputs": [],
   "source": [
    "def optimize_annulus_distance(spectrum_target = None, \n",
    "                              d = None, \n",
    "                              rank_start = 1,\n",
    "                              rank_step = 1,\n",
    "                              num_iter = 1000,\n",
    "                              lr = 0.001): \n",
    "    \n",
    "    model_list = []\n",
    "    distance_list = []\n",
    "    counter = 0\n",
    "    \n",
    "    for rank in range(rank_start, d**2+rank_step, rank_step): \n",
    "        model = ModelQuantumMap(channel = DilutedKrausMap(U=generate_unitary(d), \n",
    "                                                          c=0.5, \n",
    "                                                          kraus_part=KrausMap(d, \n",
    "                                                                              rank=rank, \n",
    "                                                                              trainable=False),\n",
    "                                                     ),\n",
    "                            loss_function = AnnulusDistance(),\n",
    "                            optimizer = tf.optimizers.Adam(learning_rate=lr),\n",
    "                            logger = Logger(loss_function = AnnulusDistance(), \n",
    "                                            verbose=True,),\n",
    "                            )\n",
    "        model.train(inputs = None,\n",
    "                    targets = [spectrum_target],\n",
    "                    num_iter = num_iter,\n",
    "                    \n",
    "                   )\n",
    "\n",
    "        model_list.append(model)\n",
    "        distance_list.append(model.logger.loss_train_list[-1])\n",
    "        \n",
    "        idx = np.argmin(distance_list)\n",
    "        if distance_list[-1] > distance_list[idx]:\n",
    "            counter += 1\n",
    "        if counter > 4:\n",
    "            print(\"Done!\")\n",
    "            break\n",
    "\n",
    "    distance_best = distance_list[idx]\n",
    "    model_best = model_list[idx]\n",
    "\n",
    "    return distance_best, model_best\n",
    "\n",
    "def fit_diluted_unitary(spectrum_target_list, \n",
    "                        d, \n",
    "                        rank_start, \n",
    "                        rank_step,\n",
    "                        num_iter = 1000,\n",
    "                        lr = 0.001):\n",
    "    \n",
    "    distance_best_list = []\n",
    "    model_best_list = []\n",
    "    for spectrum_target in tqdm(spectrum_target_list):\n",
    "        U = generate_haar_random(d, rng) \n",
    "        distance_best, model_best = optimize_annulus_distance(spectrum_target,\n",
    "                                                              d,\n",
    "                                                              rank_start,\n",
    "                                                              rank_step,\n",
    "                                                              num_iter = num_iter,\n",
    "                                                              lr = lr)\n",
    "        distance_best_list.append(distance_best)\n",
    "        model_best_list.append(model_best)\n",
    "    \n",
    "    for model in model_best_list:\n",
    "        model.optimizer = None\n",
    "        \n",
    "    return distance_best_list, model_best_list"
   ]
  },
  {
   "cell_type": "markdown",
   "metadata": {},
   "source": [
    "## Three Qubits"
   ]
  },
  {
   "cell_type": "code",
   "execution_count": 7,
   "metadata": {
    "scrolled": true
   },
   "outputs": [],
   "source": [
    "[channel_list1, channel_list2, channel_list3, channel_list4, channel_list5, channel_list6, channel_list7] = loader(data_path(\"channel_fullRank_belem_longTrain.p\"))\n",
    "\n",
    "spectrum_target_list1 = [channel_spectrum(channel, keep_real=False) for channel in channel_list1]\n",
    "spectrum_target_list2 = [channel_spectrum(channel, keep_real=False) for channel in channel_list2]\n",
    "spectrum_target_list3 = [channel_spectrum(channel, keep_real=False) for channel in channel_list3]\n",
    "spectrum_target_list4 = [channel_spectrum(channel, keep_real=False) for channel in channel_list4]\n",
    "spectrum_target_list5 = [channel_spectrum(channel, keep_real=False) for channel in channel_list5]\n",
    "spectrum_target_list6 = [channel_spectrum(channel, keep_real=False) for channel in channel_list6]\n",
    "spectrum_target_list7 = [channel_spectrum(channel, keep_real=False) for channel in channel_list7]"
   ]
  },
  {
   "cell_type": "code",
   "execution_count": 8,
   "metadata": {},
   "outputs": [
    {
     "data": {
      "application/vnd.jupyter.widget-view+json": {
       "model_id": "c62daf0066864f52b12427a7299307eb",
       "version_major": 2,
       "version_minor": 0
      },
      "text/plain": [
       "  0%|          | 0/10 [00:00<?, ?it/s]"
      ]
     },
     "metadata": {},
     "output_type": "display_data"
    },
    {
     "data": {
      "application/vnd.jupyter.widget-view+json": {
       "model_id": "7274526480e94885a9d67c943c75b48b",
       "version_major": 2,
       "version_minor": 0
      },
      "text/plain": [
       "  0%|          | 0/2000 [00:00<?, ?it/s]"
      ]
     },
     "metadata": {},
     "output_type": "display_data"
    },
    {
     "name": "stdout",
     "output_type": "stream",
     "text": [
      "0.25870827764787613 None\n",
      "0.23123761210177746 None\n",
      "0.19316427390240198 None\n",
      "0.14635843343264948 None\n",
      "0.11023732618505148 None\n",
      "0.08122688512243606 None\n",
      "0.055627620437122896 None\n",
      "0.03636882797064006 None\n",
      "0.03604765534084946 None\n",
      "0.03602321840519786 None\n",
      "0.03600890490859433 None\n",
      "0.03602504852334844 None\n",
      "0.03602667659961456 None\n",
      "0.03604553216827028 None\n",
      "0.03603218197942683 None\n",
      "0.0360224349717707 None\n",
      "0.03600504196386836 None\n",
      "0.03601676125307163 None\n",
      "0.036016454919517285 None\n",
      "0.03604879392730845 None\n",
      "tf.Tensor(0.0360444036353184, shape=(), dtype=float64)\n",
      "0.036071301919824106 None\n"
     ]
    },
    {
     "data": {
      "application/vnd.jupyter.widget-view+json": {
       "model_id": "ecd183e382244b0c8fb8bdf984aee6a4",
       "version_major": 2,
       "version_minor": 0
      },
      "text/plain": [
       "  0%|          | 0/2000 [00:00<?, ?it/s]"
      ]
     },
     "metadata": {},
     "output_type": "display_data"
    },
    {
     "name": "stdout",
     "output_type": "stream",
     "text": [
      "0.2344712635121265 None\n",
      "0.20457468696272116 None\n",
      "0.1747582934940749 None\n",
      "0.14433240908834333 None\n",
      "0.11483444324923542 None\n",
      "0.08780658745198973 None\n",
      "0.06252375962245804 None\n",
      "0.03851567137121013 None\n",
      "0.015937625340388475 None\n",
      "0.013160353833535064 None\n",
      "0.013151594602666308 None\n",
      "0.013145094647663426 None\n",
      "0.013189820215710288 None\n",
      "0.013166641816282368 None\n",
      "0.013189813805086083 None\n",
      "0.013145612248788772 None\n",
      "0.013180590710874181 None\n",
      "0.013146110948448069 None\n",
      "0.013177689754138081 None\n",
      "0.013144205564876676 None\n",
      "tf.Tensor(0.013171305696179757, shape=(), dtype=float64)\n",
      "0.013154785376656222 None\n"
     ]
    },
    {
     "data": {
      "application/vnd.jupyter.widget-view+json": {
       "model_id": "e3de62b991624d639ce409f4e920c188",
       "version_major": 2,
       "version_minor": 0
      },
      "text/plain": [
       "  0%|          | 0/2000 [00:00<?, ?it/s]"
      ]
     },
     "metadata": {},
     "output_type": "display_data"
    },
    {
     "name": "stdout",
     "output_type": "stream",
     "text": [
      "0.23247444054592442 None\n",
      "0.2006087419236839 None\n",
      "0.17044626174737365 None\n",
      "0.1413328645617049 None\n",
      "0.1130425554710831 None\n",
      "0.0857001445682734 None\n",
      "0.060671550444872734 None\n",
      "0.03796864771576951 None\n",
      "0.016501795269799027 None\n",
      "0.008994696796485013 None\n",
      "0.008989914267963712 None\n",
      "0.008979814114158116 None\n",
      "0.008992533565230408 None\n",
      "0.009033694362773365 None\n",
      "0.008991348668532243 None\n",
      "0.008987609220127587 None\n",
      "0.008975499428765833 None\n",
      "0.009005496982878121 None\n",
      "0.009000452535473775 None\n",
      "0.00898079981404757 None\n",
      "tf.Tensor(0.009013813872191415, shape=(), dtype=float64)\n",
      "0.009035809128633304 None\n"
     ]
    },
    {
     "data": {
      "application/vnd.jupyter.widget-view+json": {
       "model_id": "aac60cc3521a4f4b988620611803f903",
       "version_major": 2,
       "version_minor": 0
      },
      "text/plain": [
       "  0%|          | 0/2000 [00:00<?, ?it/s]"
      ]
     },
     "metadata": {},
     "output_type": "display_data"
    },
    {
     "name": "stdout",
     "output_type": "stream",
     "text": [
      "0.20585000592203617 None\n",
      "0.1784272630286294 None\n",
      "0.15227093021927957 None\n",
      "0.1264025323305647 None\n",
      "0.10122612151171408 None\n",
      "0.07686146955001052 None\n",
      "0.05335558724453909 None\n",
      "0.030808987989079273 None\n",
      "0.012334824755154628 None\n",
      "0.01181313411596496 None\n",
      "0.011833147753721598 None\n",
      "0.01183864982168878 None\n",
      "0.011814863205915165 None\n",
      "0.011836575279523746 None\n",
      "0.011817553945657096 None\n",
      "0.011833370169800957 None\n",
      "0.011821619325398557 None\n",
      "0.011817786316259703 None\n",
      "0.011837949509092605 None\n",
      "0.011824135122573375 None\n",
      "tf.Tensor(0.011837143796011966, shape=(), dtype=float64)\n",
      "0.011852204895556787 None\n"
     ]
    },
    {
     "data": {
      "application/vnd.jupyter.widget-view+json": {
       "model_id": "67c9116ea3254612b2ba47065b682cf1",
       "version_major": 2,
       "version_minor": 0
      },
      "text/plain": [
       "  0%|          | 0/2000 [00:00<?, ?it/s]"
      ]
     },
     "metadata": {},
     "output_type": "display_data"
    },
    {
     "name": "stdout",
     "output_type": "stream",
     "text": [
      "0.20873547676541498 None\n",
      "0.18097618518600297 None\n",
      "0.15366463794906027 None\n",
      "0.1268792055352601 None\n",
      "0.10099624517569124 None\n",
      "0.07596149874232427 None\n",
      "0.051933805781723984 None\n",
      "0.029064209242232623 None\n",
      "0.007511697553634872 None\n",
      "0.0017429857568089738 None\n",
      "0.0017521231854246925 None\n",
      "0.001744108876120939 None\n",
      "0.0017610342041544484 None\n",
      "0.0017470423768907433 None\n",
      "0.0017490373988020558 None\n",
      "0.0017368506076010752 None\n",
      "0.0017294391805930485 None\n",
      "0.0017363614993799407 None\n",
      "0.0017284403278771468 None\n",
      "0.0017323807343207487 None\n",
      "tf.Tensor(0.0017413089270879676, shape=(), dtype=float64)\n",
      "0.0017414372178864625 None\n"
     ]
    },
    {
     "data": {
      "application/vnd.jupyter.widget-view+json": {
       "model_id": "fe4dcd6f34f3401eaedc45069630e9ae",
       "version_major": 2,
       "version_minor": 0
      },
      "text/plain": [
       "  0%|          | 0/2000 [00:00<?, ?it/s]"
      ]
     },
     "metadata": {},
     "output_type": "display_data"
    },
    {
     "name": "stdout",
     "output_type": "stream",
     "text": [
      "0.20813698422202306 None\n",
      "0.179859332346448 None\n",
      "0.15285505429716442 None\n",
      "0.12630548762538585 None\n",
      "0.09995948406063389 None\n",
      "0.074630420048339 None\n",
      "0.05086923981586988 None\n",
      "0.028626039293294908 None\n",
      "0.007503598698380366 None\n",
      "0.0008842798232013734 None\n",
      "0.0008523322640541665 None\n",
      "0.0008388212309707876 None\n",
      "0.0009183056452804778 None\n",
      "0.0008768810068310925 None\n",
      "0.0008629002646795749 None\n",
      "0.0008752248545760618 None\n",
      "0.0008951735627710216 None\n",
      "0.0008874974371720131 None\n",
      "0.0008497515734931065 None\n",
      "0.00088162569054521 None\n",
      "tf.Tensor(0.0008372453549404003, shape=(), dtype=float64)\n",
      "0.0008420590689315315 None\n"
     ]
    },
    {
     "data": {
      "application/vnd.jupyter.widget-view+json": {
       "model_id": "cdb5bb8ca7f04eccba19a255bd0e3116",
       "version_major": 2,
       "version_minor": 0
      },
      "text/plain": [
       "  0%|          | 0/2000 [00:00<?, ?it/s]"
      ]
     },
     "metadata": {},
     "output_type": "display_data"
    },
    {
     "name": "stdout",
     "output_type": "stream",
     "text": [
      "0.20644198469459824 None\n",
      "0.18014412279631492 None\n",
      "0.15266027673207613 None\n",
      "0.12671448630891904 None\n",
      "0.10141992412272495 None\n",
      "0.07676722337436453 None\n",
      "0.05291469783427491 None\n",
      "0.029998467534676776 None\n",
      "0.008196555729136478 None\n",
      "0.004797575615007158 None\n",
      "0.0047989671916182815 None\n",
      "0.004803121374277797 None\n",
      "0.004781848636290734 None\n",
      "0.004782686183206247 None\n",
      "0.004775029288552366 None\n",
      "0.004785653817681083 None\n",
      "0.004807675489941803 None\n",
      "0.004782140413069819 None\n",
      "0.004810986809989173 None\n",
      "0.004805379665222213 None\n",
      "tf.Tensor(0.004791058367973999, shape=(), dtype=float64)\n",
      "0.00477938116157996 None\n"
     ]
    },
    {
     "data": {
      "application/vnd.jupyter.widget-view+json": {
       "model_id": "e2fad9f99d5d4200935666cfcfb28bba",
       "version_major": 2,
       "version_minor": 0
      },
      "text/plain": [
       "  0%|          | 0/2000 [00:00<?, ?it/s]"
      ]
     },
     "metadata": {},
     "output_type": "display_data"
    },
    {
     "name": "stdout",
     "output_type": "stream",
     "text": [
      "0.20396695867952305 None\n",
      "0.17678813543950556 None\n",
      "0.1505457086391007 None\n",
      "0.12455918067251429 None\n",
      "0.09921028350592556 None\n",
      "0.07464160282166878 None\n",
      "0.04827075478282014 None\n",
      "0.025993602889519747 None\n",
      "0.004740049308004583 None\n",
      "0.0013118916978861108 None\n",
      "0.0012926848699267076 None\n",
      "0.0013039512697548567 None\n",
      "0.0012919948198769765 None\n",
      "0.0013052641511535536 None\n",
      "0.0012958364176468458 None\n",
      "0.001298960987882812 None\n",
      "0.00128883180980764 None\n",
      "0.0012808729299498955 None\n",
      "0.0012819241581202047 None\n",
      "0.001288097080821447 None\n",
      "tf.Tensor(0.001292778803158966, shape=(), dtype=float64)\n",
      "0.0012971503081724168 None\n"
     ]
    },
    {
     "data": {
      "application/vnd.jupyter.widget-view+json": {
       "model_id": "aed9df44205b4b328b610fe244535b02",
       "version_major": 2,
       "version_minor": 0
      },
      "text/plain": [
       "  0%|          | 0/2000 [00:00<?, ?it/s]"
      ]
     },
     "metadata": {},
     "output_type": "display_data"
    },
    {
     "name": "stdout",
     "output_type": "stream",
     "text": [
      "0.19592921662086785 None\n",
      "0.16964129571094444 None\n",
      "0.14378530612571774 None\n",
      "0.11835519101018413 None\n",
      "0.09352371663262221 None\n",
      "0.06941756529896867 None\n",
      "0.0450241856982843 None\n",
      "0.022797458345193537 None\n",
      "0.0015717049993938682 None\n",
      "0.00027502183617755284 None\n",
      "0.00023637239305050392 None\n",
      "0.0002228646664188417 None\n",
      "0.0002516314358572535 None\n",
      "0.00021217331949739335 None\n",
      "0.0002172420100559208 None\n",
      "0.00027824805678081793 None\n",
      "0.00022454570905424028 None\n",
      "0.00021360274781049432 None\n",
      "0.00021076009575023147 None\n",
      "0.0002558238255030588 None\n",
      "tf.Tensor(0.00025352481567446523, shape=(), dtype=float64)\n",
      "0.00022508613797270031 None\n"
     ]
    },
    {
     "data": {
      "application/vnd.jupyter.widget-view+json": {
       "model_id": "0a0d388f74c9445fa4c64eeaa8c9e16f",
       "version_major": 2,
       "version_minor": 0
      },
      "text/plain": [
       "  0%|          | 0/2000 [00:00<?, ?it/s]"
      ]
     },
     "metadata": {},
     "output_type": "display_data"
    },
    {
     "name": "stdout",
     "output_type": "stream",
     "text": [
      "0.19867549654947386 None\n",
      "0.17167829006012592 None\n",
      "0.1451726273954009 None\n",
      "0.11928871139903546 None\n",
      "0.094109704114321 None\n",
      "0.06993457866688835 None\n",
      "0.04679162732072613 None\n",
      "0.02466449557089529 None\n",
      "0.003302338698461596 None\n",
      "0.0004758027595093157 None\n",
      "0.0004363776276926582 None\n",
      "0.000450036744799558 None\n",
      "0.00044969077427546925 None\n",
      "0.00044819431326660435 None\n",
      "0.0004489644996693142 None\n",
      "0.0004382024301594848 None\n",
      "0.0004439604638970824 None\n",
      "0.0004431969918898566 None\n",
      "0.00045672946715869314 None\n",
      "0.00046187685238952697 None\n",
      "tf.Tensor(0.00044887209413873447, shape=(), dtype=float64)\n",
      "0.0004497379676076836 None\n"
     ]
    },
    {
     "data": {
      "application/vnd.jupyter.widget-view+json": {
       "model_id": "fb62296fd9f041bab1d84a9bb604d0c1",
       "version_major": 2,
       "version_minor": 0
      },
      "text/plain": [
       "  0%|          | 0/2000 [00:00<?, ?it/s]"
      ]
     },
     "metadata": {},
     "output_type": "display_data"
    },
    {
     "name": "stdout",
     "output_type": "stream",
     "text": [
      "0.19565116191628235 None\n",
      "0.16884775767276397 None\n",
      "0.14274699540426655 None\n",
      "0.11728486663083097 None\n",
      "0.09249335961256142 None\n",
      "0.06846110749150396 None\n",
      "0.047766542960475604 None\n",
      "0.02865503180681133 None\n",
      "0.010136250038965159 None\n",
      "0.002712606217680191 None\n",
      "0.002700424030616917 None\n",
      "0.002780831789653486 None\n",
      "0.002723342099615349 None\n",
      "0.0027038630191710614 None\n",
      "0.0027107543616093147 None\n",
      "0.002727254973687303 None\n",
      "0.0027095443290349863 None\n",
      "0.002706330073460385 None\n",
      "0.002753853977393278 None\n",
      "0.0026987808339904596 None\n",
      "tf.Tensor(0.0027244424751342537, shape=(), dtype=float64)\n",
      "0.0027353764301378 None\n",
      "Done!\n"
     ]
    },
    {
     "data": {
      "application/vnd.jupyter.widget-view+json": {
       "model_id": "4ded70ffc4204e439a228bb468482b68",
       "version_major": 2,
       "version_minor": 0
      },
      "text/plain": [
       "  0%|          | 0/2000 [00:00<?, ?it/s]"
      ]
     },
     "metadata": {},
     "output_type": "display_data"
    },
    {
     "name": "stdout",
     "output_type": "stream",
     "text": [
      "0.3011304854746804 None\n",
      "0.2479611067849743 None\n",
      "0.21139907593668697 None\n",
      "0.18102048707685903 None\n",
      "0.15394243522326106 None\n",
      "0.1273196587487624 None\n",
      "0.10112852023051756 None\n",
      "0.07578538771503784 None\n",
      "0.051746132519105946 None\n",
      "0.03945798763502017 None\n",
      "0.039458637118229486 None\n",
      "0.039445627653723475 None\n",
      "0.039445242390156815 None\n",
      "0.03944898716922946 None\n",
      "0.039441347192074136 None\n",
      "0.03944675048348336 None\n",
      "0.03944772836351452 None\n",
      "0.03948311039176594 None\n",
      "0.03944303387540879 None\n",
      "0.039463131284197595 None\n",
      "tf.Tensor(0.03946490831927842, shape=(), dtype=float64)\n",
      "0.0394446869707803 None\n"
     ]
    },
    {
     "data": {
      "application/vnd.jupyter.widget-view+json": {
       "model_id": "9f4cb44836204bfeba99d0e8d6e0d2db",
       "version_major": 2,
       "version_minor": 0
      },
      "text/plain": [
       "  0%|          | 0/2000 [00:00<?, ?it/s]"
      ]
     },
     "metadata": {},
     "output_type": "display_data"
    },
    {
     "name": "stdout",
     "output_type": "stream",
     "text": [
      "0.26350746325634955 None\n",
      "0.2306395059383302 None\n",
      "0.2004857351723781 None\n",
      "0.17275980904374477 None\n",
      "0.1464652079054082 None\n",
      "0.12126834205132997 None\n",
      "0.09713065783941788 None\n",
      "0.07404495905404876 None\n",
      "0.05200302810437905 None\n",
      "0.031012450738967252 None\n",
      "0.020243826645401752 None\n",
      "0.020221202210990094 None\n",
      "0.020260125514349567 None\n",
      "0.020279873752052202 None\n",
      "0.02023337001534605 None\n",
      "0.02025351427338356 None\n",
      "0.020241909359498635 None\n",
      "0.020245572443399272 None\n",
      "0.020217582404996833 None\n",
      "0.020238020260706868 None\n",
      "tf.Tensor(0.02021751620353631, shape=(), dtype=float64)\n",
      "0.02027065343022815 None\n"
     ]
    },
    {
     "data": {
      "application/vnd.jupyter.widget-view+json": {
       "model_id": "78c62d2e926e48ed932966d144d41128",
       "version_major": 2,
       "version_minor": 0
      },
      "text/plain": [
       "  0%|          | 0/2000 [00:00<?, ?it/s]"
      ]
     },
     "metadata": {},
     "output_type": "display_data"
    },
    {
     "name": "stdout",
     "output_type": "stream",
     "text": [
      "0.23869876697550546 None\n",
      "0.21068788084211554 None\n",
      "0.1826165529890945 None\n",
      "0.1546244080410828 None\n",
      "0.12962265622554336 None\n",
      "0.10323575092081441 None\n",
      "0.07850153025616004 None\n",
      "0.05454878262756671 None\n",
      "0.03273957112350439 None\n",
      "0.012127702876112192 None\n",
      "0.00829060360285429 None\n",
      "0.00821765682931253 None\n",
      "0.008252441407137946 None\n",
      "0.00823473670255497 None\n",
      "0.008251151438297093 None\n",
      "0.008234516661908152 None\n",
      "0.008231650169032432 None\n",
      "0.008251410359485971 None\n",
      "0.008218461765622609 None\n",
      "0.008248178951083868 None\n",
      "tf.Tensor(0.00822135106911019, shape=(), dtype=float64)\n",
      "0.008234173517595414 None\n"
     ]
    },
    {
     "data": {
      "application/vnd.jupyter.widget-view+json": {
       "model_id": "776605dda3ba4425987cf5e737395ee2",
       "version_major": 2,
       "version_minor": 0
      },
      "text/plain": [
       "  0%|          | 0/2000 [00:00<?, ?it/s]"
      ]
     },
     "metadata": {},
     "output_type": "display_data"
    },
    {
     "name": "stdout",
     "output_type": "stream",
     "text": [
      "0.23190190468276184 None\n",
      "0.20302444804651762 None\n",
      "0.1753671559582496 None\n",
      "0.148877414523627 None\n",
      "0.12337804597122254 None\n",
      "0.09893209290250184 None\n",
      "0.07571453095576484 None\n",
      "0.05369616941754462 None\n",
      "0.03264769126944669 None\n",
      "0.012837477356300501 None\n",
      "0.009874611952126954 None\n",
      "0.009856045571104243 None\n",
      "0.009849186093471475 None\n",
      "0.009837103525959784 None\n",
      "0.009824689521096887 None\n",
      "0.009832962714741792 None\n",
      "0.009849846493539675 None\n",
      "0.00986298587419191 None\n",
      "0.009847867837751953 None\n",
      "0.009854023966677216 None\n",
      "tf.Tensor(0.009828551059573901, shape=(), dtype=float64)\n",
      "0.00982793544489225 None\n"
     ]
    },
    {
     "data": {
      "application/vnd.jupyter.widget-view+json": {
       "model_id": "9cb5881559e749679ffe058afd4b7c97",
       "version_major": 2,
       "version_minor": 0
      },
      "text/plain": [
       "  0%|          | 0/2000 [00:00<?, ?it/s]"
      ]
     },
     "metadata": {},
     "output_type": "display_data"
    },
    {
     "name": "stdout",
     "output_type": "stream",
     "text": [
      "0.2352771555860128 None\n",
      "0.20663338619048516 None\n",
      "0.17889304056086405 None\n",
      "0.1520556889999555 None\n",
      "0.1262737940331363 None\n",
      "0.10086040381113412 None\n",
      "0.0772683165840635 None\n",
      "0.054724456107315717 None\n",
      "0.033313618863311925 None\n",
      "0.013014640026308163 None\n",
      "0.006647808199268948 None\n",
      "0.006642730503300085 None\n",
      "0.006669236010939942 None\n",
      "0.00664577568870018 None\n",
      "0.006651179046030756 None\n",
      "0.006689971008157335 None\n",
      "0.006685629450620307 None\n",
      "0.006654479543536599 None\n",
      "0.006653595414208692 None\n",
      "0.006646062425374917 None\n",
      "tf.Tensor(0.006655471660990904, shape=(), dtype=float64)\n",
      "0.006659866266392454 None\n"
     ]
    },
    {
     "data": {
      "application/vnd.jupyter.widget-view+json": {
       "model_id": "cd6e27716aa94cc8a39023f442335548",
       "version_major": 2,
       "version_minor": 0
      },
      "text/plain": [
       "  0%|          | 0/2000 [00:00<?, ?it/s]"
      ]
     },
     "metadata": {},
     "output_type": "display_data"
    },
    {
     "name": "stdout",
     "output_type": "stream",
     "text": [
      "0.2284814658170455 None\n",
      "0.20045503749321353 None\n",
      "0.17407645288261722 None\n",
      "0.1473632628394887 None\n",
      "0.12187124979325235 None\n",
      "0.09722073576776523 None\n",
      "0.07356040131825574 None\n",
      "0.05093018900169128 None\n",
      "0.029379247552275882 None\n",
      "0.008930328024004274 None\n",
      "0.0050791883973871094 None\n",
      "0.005097138170305486 None\n",
      "0.005078936052800326 None\n",
      "0.005087788725999114 None\n",
      "0.0051174925179373765 None\n",
      "0.005072808671991464 None\n",
      "0.005076897677433086 None\n",
      "0.005104322347643776 None\n",
      "0.0050830095129591815 None\n",
      "0.005121135143383233 None\n",
      "tf.Tensor(0.005082656523192021, shape=(), dtype=float64)\n",
      "0.00508146795082564 None\n"
     ]
    },
    {
     "data": {
      "application/vnd.jupyter.widget-view+json": {
       "model_id": "938ca752effd43548b92a57ffd3c8652",
       "version_major": 2,
       "version_minor": 0
      },
      "text/plain": [
       "  0%|          | 0/2000 [00:00<?, ?it/s]"
      ]
     },
     "metadata": {},
     "output_type": "display_data"
    },
    {
     "name": "stdout",
     "output_type": "stream",
     "text": [
      "0.2119753588051229 None\n",
      "0.18459244207957767 None\n",
      "0.15851863825107262 None\n",
      "0.13317240696261312 None\n",
      "0.10869006594734855 None\n",
      "0.08504195329085071 None\n",
      "0.06241411771487889 None\n",
      "0.040808044326903534 None\n",
      "0.020229908993172195 None\n",
      "0.0021997013283549666 None\n",
      "0.0016361466949313536 None\n",
      "0.0016723396205355675 None\n",
      "0.0016541947713915872 None\n",
      "0.0016538000161121537 None\n",
      "0.0017073289710240538 None\n",
      "0.0016646495078040408 None\n",
      "0.001649961941993825 None\n",
      "0.00166247462417333 None\n",
      "0.0016860210391972472 None\n",
      "0.0016421875082285164 None\n",
      "tf.Tensor(0.0016637283875197313, shape=(), dtype=float64)\n",
      "0.001646680708424348 None\n"
     ]
    },
    {
     "data": {
      "application/vnd.jupyter.widget-view+json": {
       "model_id": "e4cb62aa39ae44f883937cc47b67ce57",
       "version_major": 2,
       "version_minor": 0
      },
      "text/plain": [
       "  0%|          | 0/2000 [00:00<?, ?it/s]"
      ]
     },
     "metadata": {},
     "output_type": "display_data"
    },
    {
     "name": "stdout",
     "output_type": "stream",
     "text": [
      "0.22518466275224927 None\n",
      "0.19829697011195954 None\n",
      "0.17174544080860943 None\n",
      "0.1456171641365743 None\n",
      "0.12087347650361864 None\n",
      "0.0964521454666044 None\n",
      "0.07288340717824368 None\n",
      "0.05027086433840671 None\n",
      "0.02868702891268897 None\n",
      "0.008177251731388255 None\n",
      "0.0047696677192515975 None\n",
      "0.004785533239030611 None\n",
      "0.004780131735964361 None\n",
      "0.004795941409486616 None\n",
      "0.0047778679855828236 None\n",
      "0.004810189844033435 None\n",
      "0.004763672893494908 None\n",
      "0.00477590021328715 None\n",
      "0.004786476344593718 None\n",
      "0.004785379273619638 None\n",
      "tf.Tensor(0.004796751488965932, shape=(), dtype=float64)\n",
      "0.004817984147393825 None\n"
     ]
    },
    {
     "data": {
      "application/vnd.jupyter.widget-view+json": {
       "model_id": "9f50e1c0fd61493bbf860f2b490ca321",
       "version_major": 2,
       "version_minor": 0
      },
      "text/plain": [
       "  0%|          | 0/2000 [00:00<?, ?it/s]"
      ]
     },
     "metadata": {},
     "output_type": "display_data"
    },
    {
     "name": "stdout",
     "output_type": "stream",
     "text": [
      "0.22570300337948598 None\n",
      "0.19845707422144424 None\n",
      "0.17133605643020514 None\n",
      "0.14490788632564655 None\n",
      "0.11958440310522524 None\n",
      "0.09512370372866698 None\n",
      "0.07160802823254706 None\n",
      "0.049117305466127685 None\n",
      "0.02769939791521113 None\n",
      "0.007378527397430078 None\n",
      "0.004826511345874397 None\n",
      "0.004826089418636414 None\n",
      "0.004795621468634109 None\n",
      "0.004820970644429476 None\n",
      "0.004797133374270759 None\n",
      "0.004845047942238582 None\n",
      "0.004802382252175585 None\n",
      "0.004824793595375906 None\n",
      "0.004877043541965909 None\n",
      "0.004843259420529057 None\n",
      "tf.Tensor(0.004856800510195413, shape=(), dtype=float64)\n",
      "0.004834611059048088 None\n"
     ]
    },
    {
     "data": {
      "application/vnd.jupyter.widget-view+json": {
       "model_id": "4a1d1337a8674c49b3c88f9eed2f768e",
       "version_major": 2,
       "version_minor": 0
      },
      "text/plain": [
       "  0%|          | 0/2000 [00:00<?, ?it/s]"
      ]
     },
     "metadata": {},
     "output_type": "display_data"
    },
    {
     "name": "stdout",
     "output_type": "stream",
     "text": [
      "0.2154398878521711 None\n",
      "0.18891333122109588 None\n",
      "0.16287680833927176 None\n",
      "0.13739227927985723 None\n",
      "0.1125976700210662 None\n",
      "0.08861244223649394 None\n",
      "0.06553373838182355 None\n",
      "0.04343723118626777 None\n",
      "0.02252105219327043 None\n",
      "0.00271982985929284 None\n",
      "0.002634579059009278 None\n",
      "0.0026532334466883977 None\n",
      "0.0026359094032552925 None\n",
      "0.0026569704666151873 None\n",
      "0.0026679182919425656 None\n",
      "0.002645193324929483 None\n",
      "0.0026623760427053698 None\n",
      "0.002663996017108348 None\n",
      "0.002642617998893957 None\n",
      "0.0026703505686802523 None\n",
      "tf.Tensor(0.0026440007372982195, shape=(), dtype=float64)\n",
      "0.002640394688443336 None\n"
     ]
    },
    {
     "data": {
      "application/vnd.jupyter.widget-view+json": {
       "model_id": "0360481446834cb59807e6a8026ec562",
       "version_major": 2,
       "version_minor": 0
      },
      "text/plain": [
       "  0%|          | 0/2000 [00:00<?, ?it/s]"
      ]
     },
     "metadata": {},
     "output_type": "display_data"
    },
    {
     "name": "stdout",
     "output_type": "stream",
     "text": [
      "0.21831621357767908 None\n",
      "0.19131086160270278 None\n",
      "0.16481532690522296 None\n",
      "0.1390723299657107 None\n",
      "0.11425334719815351 None\n",
      "0.09029011165381812 None\n",
      "0.06725908920590465 None\n",
      "0.045219450802093955 None\n",
      "0.024213202881692195 None\n",
      "0.004276605480376361 None\n",
      "0.0008211755312308115 None\n",
      "0.0008421241822021003 None\n",
      "0.0008401203643560087 None\n",
      "0.0008463528996558254 None\n",
      "0.0008348396852290701 None\n",
      "0.0008267382522934505 None\n",
      "0.0008277607485172381 None\n",
      "0.0008456956398638811 None\n",
      "0.0008250280807813593 None\n",
      "0.0008341029118970299 None\n",
      "tf.Tensor(0.0008196170280327982, shape=(), dtype=float64)\n",
      "0.0008280954561349901 None\n"
     ]
    },
    {
     "data": {
      "application/vnd.jupyter.widget-view+json": {
       "model_id": "e81c497279a2463ea96b750b19312eec",
       "version_major": 2,
       "version_minor": 0
      },
      "text/plain": [
       "  0%|          | 0/2000 [00:00<?, ?it/s]"
      ]
     },
     "metadata": {},
     "output_type": "display_data"
    },
    {
     "name": "stdout",
     "output_type": "stream",
     "text": [
      "0.2124710878628193 None\n",
      "0.18587127199614403 None\n",
      "0.1599006901694045 None\n",
      "0.13458424210378686 None\n",
      "0.11002582776554085 None\n",
      "0.08640502670378611 None\n",
      "0.06378381174595442 None\n",
      "0.044095561539972766 None\n",
      "0.025106485282116325 None\n",
      "0.0068657442232178045 None\n",
      "0.0016072985007388567 None\n",
      "0.0016288782713742896 None\n",
      "0.0016542908693926283 None\n",
      "0.0016146329255476493 None\n",
      "0.0016041889079530082 None\n",
      "0.001631622786624774 None\n",
      "0.0016367197625256416 None\n",
      "0.0016053137563477593 None\n",
      "0.0016445214884259355 None\n",
      "0.001661978548114583 None\n",
      "tf.Tensor(0.0016106090654723461, shape=(), dtype=float64)\n",
      "0.0016079561986535257 None\n",
      "Done!\n"
     ]
    },
    {
     "data": {
      "application/vnd.jupyter.widget-view+json": {
       "model_id": "6f95c918d6294fa09db8ea7ccb553b05",
       "version_major": 2,
       "version_minor": 0
      },
      "text/plain": [
       "  0%|          | 0/2000 [00:00<?, ?it/s]"
      ]
     },
     "metadata": {},
     "output_type": "display_data"
    },
    {
     "name": "stdout",
     "output_type": "stream",
     "text": [
      "0.2745622191163193 None\n",
      "0.2615333791690112 None\n",
      "0.21763081977322857 None\n",
      "0.17554782053654852 None\n",
      "0.1414228502591303 None\n",
      "0.11081413677363909 None\n",
      "0.08256540323725975 None\n",
      "0.05365976404395276 None\n",
      "0.03661456021917726 None\n",
      "0.036524389133244024 None\n",
      "0.036526628356908904 None\n",
      "0.03652455689335631 None\n",
      "0.036519330651145175 None\n",
      "0.036521856342666484 None\n",
      "0.0365236539961918 None\n",
      "0.03653965549936396 None\n",
      "0.03652359274934529 None\n",
      "0.03651438785218969 None\n",
      "0.03651634554782297 None\n",
      "0.036513505809124526 None\n",
      "tf.Tensor(0.036514746818621525, shape=(), dtype=float64)\n",
      "0.03652532395590165 None\n"
     ]
    },
    {
     "data": {
      "application/vnd.jupyter.widget-view+json": {
       "model_id": "0e56e655bac64a0eaa5629c1f5a7925c",
       "version_major": 2,
       "version_minor": 0
      },
      "text/plain": [
       "  0%|          | 0/2000 [00:00<?, ?it/s]"
      ]
     },
     "metadata": {},
     "output_type": "display_data"
    },
    {
     "name": "stdout",
     "output_type": "stream",
     "text": [
      "0.248464002486454 None\n",
      "0.2153494941436877 None\n",
      "0.18525716966749833 None\n",
      "0.15714320490787317 None\n",
      "0.13071990363063823 None\n",
      "0.10587328564284504 None\n",
      "0.08195026739387123 None\n",
      "0.05892769046799409 None\n",
      "0.03698213529023832 None\n",
      "0.018928465075519877 None\n",
      "0.018433868516162463 None\n",
      "0.018433233559940157 None\n",
      "0.01846663720641162 None\n",
      "0.01841829560091953 None\n",
      "0.018444718193488932 None\n",
      "0.018427931990887346 None\n",
      "0.018427136529735343 None\n",
      "0.018423295209699604 None\n",
      "0.018480670988634377 None\n",
      "0.01841456527294899 None\n",
      "tf.Tensor(0.01842674961738961, shape=(), dtype=float64)\n",
      "0.018420245142143712 None\n"
     ]
    },
    {
     "data": {
      "application/vnd.jupyter.widget-view+json": {
       "model_id": "5ec86a57eccf4c93a0b692ce60bba29c",
       "version_major": 2,
       "version_minor": 0
      },
      "text/plain": [
       "  0%|          | 0/2000 [00:00<?, ?it/s]"
      ]
     },
     "metadata": {},
     "output_type": "display_data"
    },
    {
     "name": "stdout",
     "output_type": "stream",
     "text": [
      "0.24983884394737232 None\n",
      "0.2206049637399311 None\n",
      "0.19078696510396514 None\n",
      "0.16210860724451986 None\n",
      "0.13480219964171786 None\n",
      "0.10857570405577893 None\n",
      "0.08363368877669501 None\n",
      "0.06001681181942148 None\n",
      "0.037682841400821496 None\n",
      "0.016607281376530825 None\n",
      "0.015341780056034936 None\n",
      "0.015330262204332302 None\n",
      "0.015356126187638527 None\n",
      "0.01535982071105332 None\n",
      "0.01534820561093216 None\n",
      "0.01535413896954688 None\n",
      "0.015352902145193824 None\n",
      "0.015337076228758764 None\n",
      "0.015360151784618428 None\n",
      "0.015336433481552902 None\n",
      "tf.Tensor(0.015330008762944977, shape=(), dtype=float64)\n",
      "0.015351892061738866 None\n"
     ]
    },
    {
     "data": {
      "application/vnd.jupyter.widget-view+json": {
       "model_id": "e6293f55055348d38b391ad8baddf88a",
       "version_major": 2,
       "version_minor": 0
      },
      "text/plain": [
       "  0%|          | 0/2000 [00:00<?, ?it/s]"
      ]
     },
     "metadata": {},
     "output_type": "display_data"
    },
    {
     "name": "stdout",
     "output_type": "stream",
     "text": [
      "0.2160775586115231 None\n",
      "0.1883504769399792 None\n",
      "0.16452244378298814 None\n",
      "0.1371056202404406 None\n",
      "0.1124184880253967 None\n",
      "0.08856484151838113 None\n",
      "0.065563808150409 None\n",
      "0.043487019964459084 None\n",
      "0.02240513213454941 None\n",
      "0.008375171310786203 None\n",
      "0.00836903828926587 None\n",
      "0.008326783943560474 None\n",
      "0.008363162619139539 None\n",
      "0.00833759124208375 None\n",
      "0.008341795711487767 None\n",
      "0.008330902285798955 None\n",
      "0.008357408631709657 None\n",
      "0.008350844795635259 None\n",
      "0.008332040901475359 None\n",
      "0.008329833387209978 None\n",
      "tf.Tensor(0.008342054717848709, shape=(), dtype=float64)\n",
      "0.008347662255190812 None\n"
     ]
    },
    {
     "data": {
      "application/vnd.jupyter.widget-view+json": {
       "model_id": "16c9144924114745bb82f6e739242ad1",
       "version_major": 2,
       "version_minor": 0
      },
      "text/plain": [
       "  0%|          | 0/2000 [00:00<?, ?it/s]"
      ]
     },
     "metadata": {},
     "output_type": "display_data"
    },
    {
     "name": "stdout",
     "output_type": "stream",
     "text": [
      "0.22488070225368328 None\n",
      "0.19767627152132244 None\n",
      "0.17091539973561717 None\n",
      "0.14464975894600166 None\n",
      "0.11829888983051133 None\n",
      "0.09349775647244717 None\n",
      "0.06976602026212222 None\n",
      "0.04732841928745285 None\n",
      "0.02590777760427321 None\n",
      "0.008814934095059328 None\n",
      "0.008745227276697125 None\n",
      "0.008690480990271147 None\n",
      "0.008678864148220285 None\n",
      "0.008663621369672588 None\n",
      "0.008668288475646317 None\n",
      "0.00865914800953162 None\n",
      "0.008668042068073822 None\n",
      "0.008727679260470841 None\n",
      "0.008661821847069987 None\n",
      "0.008698681183289453 None\n",
      "tf.Tensor(0.008680764604799558, shape=(), dtype=float64)\n",
      "0.008692394299237089 None\n"
     ]
    },
    {
     "data": {
      "application/vnd.jupyter.widget-view+json": {
       "model_id": "a05c284de86948c782372b23b70b55b1",
       "version_major": 2,
       "version_minor": 0
      },
      "text/plain": [
       "  0%|          | 0/2000 [00:00<?, ?it/s]"
      ]
     },
     "metadata": {},
     "output_type": "display_data"
    },
    {
     "name": "stdout",
     "output_type": "stream",
     "text": [
      "0.22384939987789423 None\n",
      "0.19671976695146404 None\n",
      "0.1700618487974283 None\n",
      "0.1443379379577576 None\n",
      "0.11929396725663843 None\n",
      "0.0950104470771472 None\n",
      "0.07161515703359365 None\n",
      "0.049189951539392325 None\n",
      "0.027787119193558793 None\n",
      "0.008809233837517277 None\n",
      "0.008343263582845276 None\n",
      "0.008378692244544395 None\n",
      "0.008344778152588894 None\n",
      "0.008357145812985755 None\n",
      "0.008332940454912216 None\n",
      "0.008345148486750262 None\n",
      "0.008346845778297418 None\n",
      "0.008338378113712016 None\n",
      "0.008336084150180664 None\n",
      "0.008368296407278708 None\n",
      "tf.Tensor(0.008333334589065176, shape=(), dtype=float64)\n",
      "0.008379507827909343 None\n"
     ]
    },
    {
     "data": {
      "application/vnd.jupyter.widget-view+json": {
       "model_id": "119d72efd26e4018afb1d8bcd478e7d5",
       "version_major": 2,
       "version_minor": 0
      },
      "text/plain": [
       "  0%|          | 0/2000 [00:00<?, ?it/s]"
      ]
     },
     "metadata": {},
     "output_type": "display_data"
    },
    {
     "name": "stdout",
     "output_type": "stream",
     "text": [
      "0.22028835853886455 None\n",
      "0.19384829883679688 None\n",
      "0.1660408694421216 None\n",
      "0.13933646612998257 None\n",
      "0.1134627702799006 None\n",
      "0.08970997806519203 None\n",
      "0.06686478849605568 None\n",
      "0.04498228808021061 None\n",
      "0.024123429310536407 None\n",
      "0.007629214567130554 None\n",
      "0.007606612073525609 None\n",
      "0.0075974123367824825 None\n",
      "0.00760355569972859 None\n",
      "0.00756447788719872 None\n",
      "0.007611772456082075 None\n",
      "0.007586356400449866 None\n",
      "0.007580588046316721 None\n",
      "0.0075670904975372695 None\n",
      "0.007566666336829683 None\n",
      "0.007606997163859077 None\n",
      "tf.Tensor(0.007570778448842754, shape=(), dtype=float64)\n",
      "0.00756460761617607 None\n"
     ]
    },
    {
     "data": {
      "application/vnd.jupyter.widget-view+json": {
       "model_id": "91d4d7470e31408799c9eb29898def66",
       "version_major": 2,
       "version_minor": 0
      },
      "text/plain": [
       "  0%|          | 0/2000 [00:00<?, ?it/s]"
      ]
     },
     "metadata": {},
     "output_type": "display_data"
    },
    {
     "name": "stdout",
     "output_type": "stream",
     "text": [
      "0.2236610259834203 None\n",
      "0.19677033375775316 None\n",
      "0.17034185343465302 None\n",
      "0.14445432450724208 None\n",
      "0.11883585632352432 None\n",
      "0.09442304299059161 None\n",
      "0.07096844984802948 None\n",
      "0.048518076372914845 None\n",
      "0.027110582081278516 None\n",
      "0.00689837395420658 None\n",
      "0.00685799190222803 None\n",
      "0.0068589578554398385 None\n",
      "0.0068596277456277185 None\n",
      "0.006868819183097278 None\n",
      "0.006864153383871024 None\n",
      "0.006866621808088661 None\n",
      "0.006876007160096987 None\n",
      "0.006868383647512328 None\n",
      "0.006883240320357485 None\n",
      "0.006857115351803157 None\n",
      "tf.Tensor(0.0068858271960803305, shape=(), dtype=float64)\n",
      "0.006856667884600675 None\n"
     ]
    },
    {
     "data": {
      "application/vnd.jupyter.widget-view+json": {
       "model_id": "4a8d178da205426e8eeee7f9b52c2feb",
       "version_major": 2,
       "version_minor": 0
      },
      "text/plain": [
       "  0%|          | 0/2000 [00:00<?, ?it/s]"
      ]
     },
     "metadata": {},
     "output_type": "display_data"
    },
    {
     "name": "stdout",
     "output_type": "stream",
     "text": [
      "0.2138028697865325 None\n",
      "0.18701029450755707 None\n",
      "0.161045232923966 None\n",
      "0.1357786800375129 None\n",
      "0.11116376650979415 None\n",
      "0.08728413249374799 None\n",
      "0.06424692228403091 None\n",
      "0.04214826016735347 None\n",
      "0.02107025467700423 None\n",
      "0.0033719141202726384 None\n",
      "0.0030119900315524863 None\n",
      "0.002927121787791619 None\n",
      "0.002937785274464492 None\n",
      "0.002934143381134743 None\n",
      "0.002927218874962276 None\n",
      "0.002941347315141024 None\n",
      "0.002934028469862969 None\n",
      "0.0029076969507000434 None\n",
      "0.002975321038219168 None\n",
      "0.0029155071370132223 None\n",
      "tf.Tensor(0.002931348176110962, shape=(), dtype=float64)\n",
      "0.0029225417250855 None\n"
     ]
    },
    {
     "data": {
      "application/vnd.jupyter.widget-view+json": {
       "model_id": "bab3283b3ecb4f59b553d86fd8a9fe81",
       "version_major": 2,
       "version_minor": 0
      },
      "text/plain": [
       "  0%|          | 0/2000 [00:00<?, ?it/s]"
      ]
     },
     "metadata": {},
     "output_type": "display_data"
    },
    {
     "name": "stdout",
     "output_type": "stream",
     "text": [
      "0.22014539350798631 None\n",
      "0.19304472608366333 None\n",
      "0.16677568118497116 None\n",
      "0.14115086180589617 None\n",
      "0.11625956998241303 None\n",
      "0.09218187585670343 None\n",
      "0.06899269899390212 None\n",
      "0.04676287063444859 None\n",
      "0.02555270380395654 None\n",
      "0.005406578776352003 None\n",
      "0.004850551024665477 None\n",
      "0.004847356362145029 None\n",
      "0.004881924153153825 None\n",
      "0.004845759384561014 None\n",
      "0.004856167577285694 None\n",
      "0.004888871009168397 None\n",
      "0.0048658271979556975 None\n",
      "0.004855419681932889 None\n",
      "0.004861244401684607 None\n",
      "0.004861312676998076 None\n",
      "tf.Tensor(0.004872647839985189, shape=(), dtype=float64)\n",
      "0.004847872309790917 None\n"
     ]
    },
    {
     "data": {
      "application/vnd.jupyter.widget-view+json": {
       "model_id": "1d6c1c0551214edda9de8bc06ac4e4ff",
       "version_major": 2,
       "version_minor": 0
      },
      "text/plain": [
       "  0%|          | 0/2000 [00:00<?, ?it/s]"
      ]
     },
     "metadata": {},
     "output_type": "display_data"
    },
    {
     "name": "stdout",
     "output_type": "stream",
     "text": [
      "0.21314499952180196 None\n",
      "0.18634578443411523 None\n",
      "0.16050576693128896 None\n",
      "0.13516868180062294 None\n",
      "0.11045149163370789 None\n",
      "0.08688258387780995 None\n",
      "0.06381412620066372 None\n",
      "0.041812458063611904 None\n",
      "0.020895173276079503 None\n",
      "0.002090429882595386 None\n",
      "0.001702253647169351 None\n",
      "0.0017042151784832085 None\n",
      "0.0017261383668251947 None\n",
      "0.00173557373243994 None\n",
      "0.001734178494978732 None\n",
      "0.0017223609222099595 None\n",
      "0.0016920628361892327 None\n",
      "0.0017227163186502104 None\n",
      "0.0016991477929881984 None\n",
      "0.001711786578964124 None\n",
      "tf.Tensor(0.0017163308536507207, shape=(), dtype=float64)\n",
      "0.0016947003923042112 None\n"
     ]
    },
    {
     "data": {
      "application/vnd.jupyter.widget-view+json": {
       "model_id": "d1406286295e4045bb339642581eb3e8",
       "version_major": 2,
       "version_minor": 0
      },
      "text/plain": [
       "  0%|          | 0/2000 [00:00<?, ?it/s]"
      ]
     },
     "metadata": {},
     "output_type": "display_data"
    },
    {
     "name": "stdout",
     "output_type": "stream",
     "text": [
      "0.2125368125879691 None\n",
      "0.18612153334167708 None\n",
      "0.16004153760582132 None\n",
      "0.13448106461302137 None\n",
      "0.10962130302361447 None\n",
      "0.08567163649998462 None\n",
      "0.06270091343775339 None\n",
      "0.04074955119421598 None\n",
      "0.019868576051506905 None\n",
      "0.003297560040087753 None\n",
      "0.0032299220150574367 None\n",
      "0.0032097545024657595 None\n",
      "0.003211722455899819 None\n",
      "0.0032217354227602408 None\n",
      "0.0032137167085618404 None\n",
      "0.0032347318290545804 None\n",
      "0.0032005678956976693 None\n",
      "0.0032004014414737216 None\n",
      "0.003215987213920608 None\n",
      "0.003221741467302623 None\n",
      "tf.Tensor(0.003214316438652471, shape=(), dtype=float64)\n",
      "0.003215094815967319 None\n"
     ]
    },
    {
     "data": {
      "application/vnd.jupyter.widget-view+json": {
       "model_id": "09334021d3074eccb2633c9833635e52",
       "version_major": 2,
       "version_minor": 0
      },
      "text/plain": [
       "  0%|          | 0/2000 [00:00<?, ?it/s]"
      ]
     },
     "metadata": {},
     "output_type": "display_data"
    },
    {
     "name": "stdout",
     "output_type": "stream",
     "text": [
      "0.21047582009709234 None\n",
      "0.18439305365522682 None\n",
      "0.15859828221252287 None\n",
      "0.13346799348372554 None\n",
      "0.10875570691798704 None\n",
      "0.08485094736844713 None\n",
      "0.061902453204931186 None\n",
      "0.03998631831099769 None\n",
      "0.019135425549324292 None\n",
      "0.00048398895669763894 None\n",
      "0.0003110114355585388 None\n",
      "0.00033514177635401033 None\n",
      "0.0003277437774499188 None\n",
      "0.0003290962835587096 None\n",
      "0.0003531232037167903 None\n",
      "0.000323292119574394 None\n",
      "0.00033749922301258995 None\n",
      "0.00032947585652276165 None\n",
      "0.0003273746505204501 None\n",
      "0.00032616099791331864 None\n",
      "tf.Tensor(0.00032993712238628403, shape=(), dtype=float64)\n",
      "0.00034088441722100217 None\n"
     ]
    },
    {
     "data": {
      "application/vnd.jupyter.widget-view+json": {
       "model_id": "b79e5d91dd1245f2951d9fe2290ab899",
       "version_major": 2,
       "version_minor": 0
      },
      "text/plain": [
       "  0%|          | 0/2000 [00:00<?, ?it/s]"
      ]
     },
     "metadata": {},
     "output_type": "display_data"
    },
    {
     "name": "stdout",
     "output_type": "stream",
     "text": [
      "0.2107346501203285 None\n",
      "0.1846501555519775 None\n",
      "0.1589361755762074 None\n",
      "0.1337395299082202 None\n",
      "0.10916863119233725 None\n",
      "0.0853406040321941 None\n",
      "0.06236815770555167 None\n",
      "0.04034686296093716 None\n",
      "0.019129981071644882 None\n",
      "0.0035854781416842845 None\n",
      "0.0034018248393535783 None\n",
      "0.003397552454475394 None\n",
      "0.0034255105919037557 None\n",
      "0.003406685122295877 None\n",
      "0.0034529846365870523 None\n",
      "0.0033887716799944788 None\n",
      "0.0034247707884454666 None\n",
      "0.0034124078783116995 None\n",
      "0.0034229585496111216 None\n",
      "0.0034243400523718956 None\n",
      "tf.Tensor(0.003401280895215399, shape=(), dtype=float64)\n",
      "0.003389419711371894 None\n",
      "Done!\n"
     ]
    },
    {
     "data": {
      "application/vnd.jupyter.widget-view+json": {
       "model_id": "c075a4b9842e4364a85da3bbc0fa00cb",
       "version_major": 2,
       "version_minor": 0
      },
      "text/plain": [
       "  0%|          | 0/2000 [00:00<?, ?it/s]"
      ]
     },
     "metadata": {},
     "output_type": "display_data"
    },
    {
     "name": "stdout",
     "output_type": "stream",
     "text": [
      "0.2757748419281334 None\n",
      "0.24280439863285908 None\n",
      "0.22187563679308508 None\n",
      "0.179608684069837 None\n",
      "0.14483493120535174 None\n",
      "0.11442253469455052 None\n",
      "0.08551731184819712 None\n",
      "0.059893325794034336 None\n",
      "0.034363637894916726 None\n",
      "0.03172993172829598 None\n",
      "0.03175888876464364 None\n",
      "0.031729684996827406 None\n",
      "0.03178389790987404 None\n",
      "0.031758764993220764 None\n",
      "0.03174014695265538 None\n",
      "0.03174495864206328 None\n",
      "0.031751567124522165 None\n",
      "0.03175488117490506 None\n",
      "0.031729046745726436 None\n",
      "0.03180178333354253 None\n",
      "tf.Tensor(0.03174862308319583, shape=(), dtype=float64)\n",
      "0.03174787910527388 None\n"
     ]
    },
    {
     "data": {
      "application/vnd.jupyter.widget-view+json": {
       "model_id": "1920edca603d4c6686fd3bea8885f875",
       "version_major": 2,
       "version_minor": 0
      },
      "text/plain": [
       "  0%|          | 0/2000 [00:00<?, ?it/s]"
      ]
     },
     "metadata": {},
     "output_type": "display_data"
    },
    {
     "name": "stdout",
     "output_type": "stream",
     "text": [
      "0.25344724650701994 None\n",
      "0.21851839891280075 None\n",
      "0.18701738875470958 None\n",
      "0.15740142826110076 None\n",
      "0.12928564745832283 None\n",
      "0.10243712982822466 None\n",
      "0.07722387124259442 None\n",
      "0.05879282053667911 None\n",
      "0.03609894484134074 None\n",
      "0.018462466366466517 None\n",
      "0.01827580261611458 None\n",
      "0.01828011895981919 None\n",
      "0.018261373143313966 None\n",
      "0.01826744437360465 None\n",
      "0.018293420388437807 None\n",
      "0.018272642152561927 None\n",
      "0.018261716711277517 None\n",
      "0.018278294001650857 None\n",
      "0.018327976636155294 None\n",
      "0.01827016976212064 None\n",
      "tf.Tensor(0.018285596853706763, shape=(), dtype=float64)\n",
      "0.01827752113339731 None\n"
     ]
    },
    {
     "data": {
      "application/vnd.jupyter.widget-view+json": {
       "model_id": "bf2cbd2a1a894cf48137ff43b4ee7ea9",
       "version_major": 2,
       "version_minor": 0
      },
      "text/plain": [
       "  0%|          | 0/2000 [00:00<?, ?it/s]"
      ]
     },
     "metadata": {},
     "output_type": "display_data"
    },
    {
     "name": "stdout",
     "output_type": "stream",
     "text": [
      "0.23457386360560167 None\n",
      "0.20342600990338983 None\n",
      "0.1737976388156897 None\n",
      "0.14733319279219334 None\n",
      "0.1215507188412044 None\n",
      "0.09681043459530392 None\n",
      "0.07299926795431173 None\n",
      "0.05007499262099185 None\n",
      "0.028096320924304235 None\n",
      "0.011970202432515693 None\n",
      "0.011909992769255938 None\n",
      "0.01190661039871474 None\n",
      "0.011894557684855075 None\n",
      "0.011922251944062056 None\n",
      "0.01195250429914568 None\n",
      "0.011929599035277405 None\n",
      "0.011914686571404109 None\n",
      "0.011918872345755154 None\n",
      "0.011898193438840816 None\n",
      "0.011945051443797518 None\n",
      "tf.Tensor(0.011929274815498703, shape=(), dtype=float64)\n",
      "0.011916551347748952 None\n"
     ]
    },
    {
     "data": {
      "application/vnd.jupyter.widget-view+json": {
       "model_id": "4d18bfa869f64b9b84a1421cc700b63a",
       "version_major": 2,
       "version_minor": 0
      },
      "text/plain": [
       "  0%|          | 0/2000 [00:00<?, ?it/s]"
      ]
     },
     "metadata": {},
     "output_type": "display_data"
    },
    {
     "name": "stdout",
     "output_type": "stream",
     "text": [
      "0.22171358368469923 None\n",
      "0.19340878962613575 None\n",
      "0.16542056908295422 None\n",
      "0.1386503124941534 None\n",
      "0.11284123493953144 None\n",
      "0.08802313516689461 None\n",
      "0.06427638383010377 None\n",
      "0.041651156286547766 None\n",
      "0.02014776523762458 None\n",
      "0.009478116709655492 None\n",
      "0.009457320326017971 None\n",
      "0.009447559956432643 None\n",
      "0.009446145496962766 None\n",
      "0.009439968528916903 None\n",
      "0.009439892652399865 None\n",
      "0.009447438346244431 None\n",
      "0.009424747904599486 None\n",
      "0.009426745934191374 None\n",
      "0.009431942687345915 None\n",
      "0.009450056388034651 None\n",
      "tf.Tensor(0.009466896487622022, shape=(), dtype=float64)\n",
      "0.009420250917214518 None\n"
     ]
    },
    {
     "data": {
      "application/vnd.jupyter.widget-view+json": {
       "model_id": "1681a6764d524dfea3ffcb9de4be693c",
       "version_major": 2,
       "version_minor": 0
      },
      "text/plain": [
       "  0%|          | 0/2000 [00:00<?, ?it/s]"
      ]
     },
     "metadata": {},
     "output_type": "display_data"
    },
    {
     "name": "stdout",
     "output_type": "stream",
     "text": [
      "0.2154254114022795 None\n",
      "0.18783117505763247 None\n",
      "0.1606226699829093 None\n",
      "0.13401001284334924 None\n",
      "0.1082900383231406 None\n",
      "0.08377064135263895 None\n",
      "0.06044695615696369 None\n",
      "0.03824310028018056 None\n",
      "0.017057629594657592 None\n",
      "0.006107814369526902 None\n",
      "0.006065411979055453 None\n",
      "0.0060791495130908205 None\n",
      "0.006106206778197433 None\n",
      "0.0060762334946699165 None\n",
      "0.006075188884154991 None\n",
      "0.006063190094055149 None\n",
      "0.006091826771338229 None\n",
      "0.006105526362469143 None\n",
      "0.006079540476329817 None\n",
      "0.0060892687489484554 None\n",
      "tf.Tensor(0.006109556607039761, shape=(), dtype=float64)\n",
      "0.006105837504697521 None\n"
     ]
    },
    {
     "data": {
      "application/vnd.jupyter.widget-view+json": {
       "model_id": "284691d4ce0b4d4fae92d3e5ee893c8a",
       "version_major": 2,
       "version_minor": 0
      },
      "text/plain": [
       "  0%|          | 0/2000 [00:00<?, ?it/s]"
      ]
     },
     "metadata": {},
     "output_type": "display_data"
    },
    {
     "name": "stdout",
     "output_type": "stream",
     "text": [
      "0.22087722388146064 None\n",
      "0.1922887410582278 None\n",
      "0.16427512530891547 None\n",
      "0.13739836112252368 None\n",
      "0.1115801381464254 None\n",
      "0.08670125762061909 None\n",
      "0.06280572998064599 None\n",
      "0.04001196344546096 None\n",
      "0.015207533663170307 None\n",
      "0.0029189290735878864 None\n",
      "0.0028479229959883657 None\n",
      "0.002872408270205443 None\n",
      "0.0028442044737870195 None\n",
      "0.0028381193264262715 None\n",
      "0.0028215433675533343 None\n",
      "0.0028472459127896893 None\n",
      "0.002826808404687471 None\n",
      "0.0028297910820959636 None\n",
      "0.002840059552232375 None\n",
      "0.0028446650976719605 None\n",
      "tf.Tensor(0.0028367617715549017, shape=(), dtype=float64)\n",
      "0.0028145894045972595 None\n"
     ]
    },
    {
     "data": {
      "application/vnd.jupyter.widget-view+json": {
       "model_id": "18c377af4a8f4d2cb19f19d7c4572d2f",
       "version_major": 2,
       "version_minor": 0
      },
      "text/plain": [
       "  0%|          | 0/2000 [00:00<?, ?it/s]"
      ]
     },
     "metadata": {},
     "output_type": "display_data"
    },
    {
     "name": "stdout",
     "output_type": "stream",
     "text": [
      "0.206117684165143 None\n",
      "0.17924144032552955 None\n",
      "0.15282868253285992 None\n",
      "0.12713493325627115 None\n",
      "0.10220840776206508 None\n",
      "0.07811015242804818 None\n",
      "0.05493477566980996 None\n",
      "0.032972932549696105 None\n",
      "0.011942790528335563 None\n",
      "0.0013515984975910784 None\n",
      "0.0013610815008030068 None\n",
      "0.0013785279156494634 None\n",
      "0.0013549812573440245 None\n",
      "0.0013941887994833538 None\n",
      "0.0013558448090287192 None\n",
      "0.0013586363738519371 None\n",
      "0.0013558784021923485 None\n",
      "0.0013506165768999052 None\n",
      "0.0013482346870363898 None\n",
      "0.0013697146280594787 None\n",
      "tf.Tensor(0.001389460591846789, shape=(), dtype=float64)\n",
      "0.0013841648295764234 None\n"
     ]
    },
    {
     "data": {
      "application/vnd.jupyter.widget-view+json": {
       "model_id": "defa504d948341e1873894352d16464a",
       "version_major": 2,
       "version_minor": 0
      },
      "text/plain": [
       "  0%|          | 0/2000 [00:00<?, ?it/s]"
      ]
     },
     "metadata": {},
     "output_type": "display_data"
    },
    {
     "name": "stdout",
     "output_type": "stream",
     "text": [
      "0.21411462185164234 None\n",
      "0.18695305087351272 None\n",
      "0.16018755338757384 None\n",
      "0.1340374935959986 None\n",
      "0.10861023625066922 None\n",
      "0.0840085485395243 None\n",
      "0.060341434597811064 None\n",
      "0.03769196542644829 None\n",
      "0.01611839362931034 None\n",
      "0.007735862201759487 None\n",
      "0.007766320180587059 None\n",
      "0.007762196142975679 None\n",
      "0.007804953367977107 None\n",
      "0.007754123749926255 None\n",
      "0.007751962384293775 None\n",
      "0.007780924801139028 None\n",
      "0.0077866821942614815 None\n",
      "0.0077593768565544265 None\n",
      "0.0077482107207692795 None\n",
      "0.007763931089964558 None\n",
      "tf.Tensor(0.007776607887106279, shape=(), dtype=float64)\n",
      "0.007776486836954734 None\n"
     ]
    },
    {
     "data": {
      "application/vnd.jupyter.widget-view+json": {
       "model_id": "94c0e28117f6477aa35af78178cfbc0a",
       "version_major": 2,
       "version_minor": 0
      },
      "text/plain": [
       "  0%|          | 0/2000 [00:00<?, ?it/s]"
      ]
     },
     "metadata": {},
     "output_type": "display_data"
    },
    {
     "name": "stdout",
     "output_type": "stream",
     "text": [
      "0.20834780742394637 None\n",
      "0.18161489155938293 None\n",
      "0.15550080549303322 None\n",
      "0.12986846009685976 None\n",
      "0.10485819269238902 None\n",
      "0.08061597647147892 None\n",
      "0.057261651867833385 None\n",
      "0.034890088414399625 None\n",
      "0.013570467510387424 None\n",
      "0.0032588533240133655 None\n",
      "0.0032736954843097313 None\n",
      "0.0032727709818823458 None\n",
      "0.003266266561025003 None\n",
      "0.0032587853020841686 None\n",
      "0.003277679433337826 None\n",
      "0.003263018011092099 None\n",
      "0.003284648143777536 None\n",
      "0.0032559241887661055 None\n",
      "0.003271485043082346 None\n",
      "0.003269391639912486 None\n",
      "tf.Tensor(0.0032520951608679977, shape=(), dtype=float64)\n",
      "0.0033010781468310463 None\n"
     ]
    },
    {
     "data": {
      "application/vnd.jupyter.widget-view+json": {
       "model_id": "59396f8e0cd34600bc9ed0b81c4d37d0",
       "version_major": 2,
       "version_minor": 0
      },
      "text/plain": [
       "  0%|          | 0/2000 [00:00<?, ?it/s]"
      ]
     },
     "metadata": {},
     "output_type": "display_data"
    },
    {
     "name": "stdout",
     "output_type": "stream",
     "text": [
      "0.20288193913412084 None\n",
      "0.17638639063625927 None\n",
      "0.15049376059641328 None\n",
      "0.1251763135236959 None\n",
      "0.1005128310916267 None\n",
      "0.07662895576363034 None\n",
      "0.05363417575934098 None\n",
      "0.0316116356624636 None\n",
      "0.010529706657135852 None\n",
      "0.0006258242514278391 None\n",
      "0.0006371426009630365 None\n",
      "0.0006014667866908133 None\n",
      "0.0005833688326955591 None\n",
      "0.0005642184556980019 None\n",
      "0.0005952803140264768 None\n",
      "0.0006217514467650072 None\n",
      "0.0005908435258537622 None\n",
      "0.0005911587885901199 None\n",
      "0.0005867975976792169 None\n",
      "0.0005940400040521081 None\n",
      "tf.Tensor(0.00060379310485815, shape=(), dtype=float64)\n",
      "0.0006023895866097157 None\n"
     ]
    },
    {
     "data": {
      "application/vnd.jupyter.widget-view+json": {
       "model_id": "00697f99514d49969eaff4e4de19235e",
       "version_major": 2,
       "version_minor": 0
      },
      "text/plain": [
       "  0%|          | 0/2000 [00:00<?, ?it/s]"
      ]
     },
     "metadata": {},
     "output_type": "display_data"
    },
    {
     "name": "stdout",
     "output_type": "stream",
     "text": [
      "0.20863814976379114 None\n",
      "0.18142718862721557 None\n",
      "0.15475269628420865 None\n",
      "0.1287826360121424 None\n",
      "0.10365923495801564 None\n",
      "0.07945266973743494 None\n",
      "0.056184760685163745 None\n",
      "0.0339174818158354 None\n",
      "0.012793332655412446 None\n",
      "0.0007149779607448191 None\n",
      "0.0007003300506380865 None\n",
      "0.0007054559521500435 None\n",
      "0.0007291385857112528 None\n",
      "0.0007371201780249862 None\n",
      "0.0007737214047621021 None\n",
      "0.0007097811016278394 None\n",
      "0.0007421171442174752 None\n",
      "0.0007716349425331247 None\n",
      "0.0007295212032749111 None\n",
      "0.0007227643378578327 None\n",
      "tf.Tensor(0.000700981679289614, shape=(), dtype=float64)\n",
      "0.0007473351025946203 None\n"
     ]
    },
    {
     "data": {
      "application/vnd.jupyter.widget-view+json": {
       "model_id": "95c0214957d6410e8a76a52d669aa65b",
       "version_major": 2,
       "version_minor": 0
      },
      "text/plain": [
       "  0%|          | 0/2000 [00:00<?, ?it/s]"
      ]
     },
     "metadata": {},
     "output_type": "display_data"
    },
    {
     "name": "stdout",
     "output_type": "stream",
     "text": [
      "0.20893116267660639 None\n",
      "0.18249731926636614 None\n",
      "0.15631654495636282 None\n",
      "0.13057401829716106 None\n",
      "0.10546396233519972 None\n",
      "0.0811465104071762 None\n",
      "0.05772641110349769 None\n",
      "0.03529590857895213 None\n",
      "0.0139281003338806 None\n",
      "0.003582495958291774 None\n",
      "0.0035737604980537723 None\n",
      "0.0035514166538868994 None\n",
      "0.00355669071471002 None\n",
      "0.0035852279733409598 None\n",
      "0.0035584971626351925 None\n",
      "0.003582528003797509 None\n",
      "0.00357511636979292 None\n",
      "0.003545596147031609 None\n",
      "0.003562810774312237 None\n",
      "0.0035497190538657433 None\n",
      "tf.Tensor(0.003620880538845515, shape=(), dtype=float64)\n",
      "0.003622674064825873 None\n"
     ]
    },
    {
     "data": {
      "application/vnd.jupyter.widget-view+json": {
       "model_id": "b4c3b26b4216484a90d1c69cc3e8f659",
       "version_major": 2,
       "version_minor": 0
      },
      "text/plain": [
       "  0%|          | 0/2000 [00:00<?, ?it/s]"
      ]
     },
     "metadata": {},
     "output_type": "display_data"
    },
    {
     "name": "stdout",
     "output_type": "stream",
     "text": [
      "0.19840196873606983 None\n",
      "0.17176186880582464 None\n",
      "0.14536797831746046 None\n",
      "0.12009923466756459 None\n",
      "0.09553402009359577 None\n",
      "0.07180812020908962 None\n",
      "0.04956100126936909 None\n",
      "0.030821494101765295 None\n",
      "0.012595717583644285 None\n",
      "0.0021844366486692525 None\n",
      "0.002231256927476029 None\n",
      "0.0021914312706410753 None\n",
      "0.002173333801407506 None\n",
      "0.002244348244353162 None\n",
      "0.002188223716667561 None\n",
      "0.0021847435938076483 None\n",
      "0.002243543161446121 None\n",
      "0.002220000019044572 None\n",
      "0.0022174606535260025 None\n",
      "0.0021852341717045433 None\n",
      "tf.Tensor(0.002202358946831992, shape=(), dtype=float64)\n",
      "0.0021855824878880643 None\n",
      "Done!\n"
     ]
    },
    {
     "data": {
      "application/vnd.jupyter.widget-view+json": {
       "model_id": "4e2186cec5ae497183da0ed9597b9268",
       "version_major": 2,
       "version_minor": 0
      },
      "text/plain": [
       "  0%|          | 0/2000 [00:00<?, ?it/s]"
      ]
     },
     "metadata": {},
     "output_type": "display_data"
    },
    {
     "name": "stdout",
     "output_type": "stream",
     "text": [
      "0.3235067946197745 None\n",
      "0.31904452829840746 None\n",
      "0.2635883758427252 None\n",
      "0.21755230238521087 None\n",
      "0.1753862000083175 None\n",
      "0.14615763158816542 None\n",
      "0.113106760153914 None\n",
      "0.08366525310348685 None\n",
      "0.055720254355651755 None\n",
      "0.032006273549116504 None\n",
      "0.03178558850842072 None\n",
      "0.0317757815850063 None\n",
      "0.0317991098905458 None\n",
      "0.031777103095314584 None\n",
      "0.03178966628324583 None\n",
      "0.03179739255085374 None\n",
      "0.03177348191820808 None\n",
      "0.031798840276302094 None\n",
      "0.03178028595315704 None\n",
      "0.03180535356998434 None\n",
      "tf.Tensor(0.03179022501494434, shape=(), dtype=float64)\n",
      "0.03179447993250316 None\n"
     ]
    },
    {
     "data": {
      "application/vnd.jupyter.widget-view+json": {
       "model_id": "888a2ff9abda4e2b84903fd76a3745f8",
       "version_major": 2,
       "version_minor": 0
      },
      "text/plain": [
       "  0%|          | 0/2000 [00:00<?, ?it/s]"
      ]
     },
     "metadata": {},
     "output_type": "display_data"
    },
    {
     "name": "stdout",
     "output_type": "stream",
     "text": [
      "0.27674452467268085 None\n",
      "0.2425178944097131 None\n",
      "0.20826196185402476 None\n",
      "0.17511184003917182 None\n",
      "0.14760501291513062 None\n",
      "0.12185936755827062 None\n",
      "0.10265473034086796 None\n",
      "0.07840525591577985 None\n",
      "0.05577549173267928 None\n",
      "0.03456552126729566 None\n",
      "0.021566378105408755 None\n",
      "0.021522912178515062 None\n",
      "0.021513581285306456 None\n",
      "0.0215003655498748 None\n",
      "0.021511361437359516 None\n",
      "0.021489904800333658 None\n",
      "0.021497871906518105 None\n",
      "0.0214890295255288 None\n",
      "0.02148890669872445 None\n",
      "0.021492608150841815 None\n",
      "tf.Tensor(0.021516672787097763, shape=(), dtype=float64)\n",
      "0.02149735099873072 None\n"
     ]
    },
    {
     "data": {
      "application/vnd.jupyter.widget-view+json": {
       "model_id": "a5d0ff228f684613be187f9e53dcdc81",
       "version_major": 2,
       "version_minor": 0
      },
      "text/plain": [
       "  0%|          | 0/2000 [00:00<?, ?it/s]"
      ]
     },
     "metadata": {},
     "output_type": "display_data"
    },
    {
     "name": "stdout",
     "output_type": "stream",
     "text": [
      "0.25651902951886213 None\n",
      "0.2268206149681997 None\n",
      "0.19768252754590376 None\n",
      "0.16950110957654677 None\n",
      "0.14179353639940853 None\n",
      "0.11484812566055233 None\n",
      "0.08919900284195204 None\n",
      "0.06618920073797119 None\n",
      "0.044027712301104 None\n",
      "0.022931612129505903 None\n",
      "0.017464113437076156 None\n",
      "0.01746626417803928 None\n",
      "0.017484579057647137 None\n",
      "0.01748860770214447 None\n",
      "0.01745900289804571 None\n",
      "0.017487791623751588 None\n",
      "0.01746529904004679 None\n",
      "0.017464372955426667 None\n",
      "0.01746189323236258 None\n",
      "0.017469606896043363 None\n",
      "tf.Tensor(0.01746950270739399, shape=(), dtype=float64)\n",
      "0.017473844924252004 None\n"
     ]
    },
    {
     "data": {
      "application/vnd.jupyter.widget-view+json": {
       "model_id": "25fd7fd6cfe2471794ea48d3ef39544e",
       "version_major": 2,
       "version_minor": 0
      },
      "text/plain": [
       "  0%|          | 0/2000 [00:00<?, ?it/s]"
      ]
     },
     "metadata": {},
     "output_type": "display_data"
    },
    {
     "name": "stdout",
     "output_type": "stream",
     "text": [
      "0.23156413113338215 None\n",
      "0.202195382841584 None\n",
      "0.17446882404836184 None\n",
      "0.14873039663031226 None\n",
      "0.12417743676762862 None\n",
      "0.100448028662542 None\n",
      "0.07747693108386063 None\n",
      "0.05549257838463999 None\n",
      "0.034572935537790575 None\n",
      "0.014650260361013155 None\n",
      "0.0050926602625645315 None\n",
      "0.005106161617935508 None\n",
      "0.005111760140747212 None\n",
      "0.005093952662438155 None\n",
      "0.005121362415997335 None\n",
      "0.005103814600096217 None\n",
      "0.005132987399187678 None\n",
      "0.0050936241740735435 None\n",
      "0.005104884032800908 None\n",
      "0.005110063025549002 None\n",
      "tf.Tensor(0.005113443963769657, shape=(), dtype=float64)\n",
      "0.005116154787066417 None\n"
     ]
    },
    {
     "data": {
      "application/vnd.jupyter.widget-view+json": {
       "model_id": "8508d320574e432591655138fd6e1eef",
       "version_major": 2,
       "version_minor": 0
      },
      "text/plain": [
       "  0%|          | 0/2000 [00:00<?, ?it/s]"
      ]
     },
     "metadata": {},
     "output_type": "display_data"
    },
    {
     "name": "stdout",
     "output_type": "stream",
     "text": [
      "0.23433954553470066 None\n",
      "0.20468007861737783 None\n",
      "0.17753294515583368 None\n",
      "0.15079987920822402 None\n",
      "0.12520203166421073 None\n",
      "0.10006305193679382 None\n",
      "0.07599464662491072 None\n",
      "0.05294734397194862 None\n",
      "0.03144044559852354 None\n",
      "0.011127094732785564 None\n",
      "0.0036067057345918405 None\n",
      "0.003595874118923762 None\n",
      "0.003593388551816767 None\n",
      "0.0035794228532204705 None\n",
      "0.0035918953495095475 None\n",
      "0.003579947981021193 None\n",
      "0.003574338569071767 None\n",
      "0.0035806473697888724 None\n",
      "0.00359651949702881 None\n",
      "0.0035785872742521933 None\n",
      "tf.Tensor(0.0035923602427373365, shape=(), dtype=float64)\n",
      "0.003585198345717128 None\n"
     ]
    },
    {
     "data": {
      "application/vnd.jupyter.widget-view+json": {
       "model_id": "a586e666751d47a6bba3ea954bf36ffd",
       "version_major": 2,
       "version_minor": 0
      },
      "text/plain": [
       "  0%|          | 0/2000 [00:00<?, ?it/s]"
      ]
     },
     "metadata": {},
     "output_type": "display_data"
    },
    {
     "name": "stdout",
     "output_type": "stream",
     "text": [
      "0.22639986413271596 None\n",
      "0.19939224731944627 None\n",
      "0.17316130786335215 None\n",
      "0.14801745286692022 None\n",
      "0.12277630060081401 None\n",
      "0.09814449685996637 None\n",
      "0.07438876482211905 None\n",
      "0.05164224292418839 None\n",
      "0.02999318992032892 None\n",
      "0.009493242608268048 None\n",
      "0.003825467477947455 None\n",
      "0.003824875388185746 None\n",
      "0.003881263775517169 None\n",
      "0.003898347935395015 None\n",
      "0.003846580546805407 None\n",
      "0.0038355566201673467 None\n",
      "0.003878508022470915 None\n",
      "0.003826089290213195 None\n",
      "0.003870336843659169 None\n",
      "0.003869595075266843 None\n",
      "tf.Tensor(0.0038260412735887216, shape=(), dtype=float64)\n",
      "0.0038475227237356954 None\n"
     ]
    },
    {
     "data": {
      "application/vnd.jupyter.widget-view+json": {
       "model_id": "247a8a7d8f424ea185ad7c167af83034",
       "version_major": 2,
       "version_minor": 0
      },
      "text/plain": [
       "  0%|          | 0/2000 [00:00<?, ?it/s]"
      ]
     },
     "metadata": {},
     "output_type": "display_data"
    },
    {
     "name": "stdout",
     "output_type": "stream",
     "text": [
      "0.23219137342155038 None\n",
      "0.20442212670177026 None\n",
      "0.1771694755240218 None\n",
      "0.15065917449820418 None\n",
      "0.12501422252388156 None\n",
      "0.10010808638597535 None\n",
      "0.07637100880582784 None\n",
      "0.053843523057155375 None\n",
      "0.032368472367863846 None\n",
      "0.01204350000466772 None\n",
      "0.0022372037956003617 None\n",
      "0.002237806023961243 None\n",
      "0.0022390641792823917 None\n",
      "0.0022635993870780066 None\n",
      "0.002249630450214212 None\n",
      "0.002248268206623511 None\n",
      "0.0022591308370902563 None\n",
      "0.0022399830445480554 None\n",
      "0.002265361003194872 None\n",
      "0.0022650335529207626 None\n",
      "tf.Tensor(0.0022528193237237627, shape=(), dtype=float64)\n",
      "0.0022381858653961837 None\n"
     ]
    },
    {
     "data": {
      "application/vnd.jupyter.widget-view+json": {
       "model_id": "420e584e27624785a9b6e58de9658d57",
       "version_major": 2,
       "version_minor": 0
      },
      "text/plain": [
       "  0%|          | 0/2000 [00:00<?, ?it/s]"
      ]
     },
     "metadata": {},
     "output_type": "display_data"
    },
    {
     "name": "stdout",
     "output_type": "stream",
     "text": [
      "0.22061033844125078 None\n",
      "0.19391001832905053 None\n",
      "0.1675458034926795 None\n",
      "0.14113682818970832 None\n",
      "0.116157273495949 None\n",
      "0.09206015975358169 None\n",
      "0.06893106361512986 None\n",
      "0.04683219098084058 None\n",
      "0.025807918305989615 None\n",
      "0.006911014734270252 None\n",
      "0.0006164218795997531 None\n",
      "0.000566858813511156 None\n",
      "0.0005682913805388923 None\n",
      "0.0005699474147156987 None\n",
      "0.0005716024158190711 None\n",
      "0.0005720009757959766 None\n",
      "0.0005880731480732964 None\n",
      "0.0006206415798580903 None\n",
      "0.0005707273631521525 None\n",
      "0.0006281292580593047 None\n",
      "tf.Tensor(0.0005573185698962927, shape=(), dtype=float64)\n",
      "0.000587380910804472 None\n"
     ]
    },
    {
     "data": {
      "application/vnd.jupyter.widget-view+json": {
       "model_id": "7eba746ccd1a4a9db37cfadd7449a011",
       "version_major": 2,
       "version_minor": 0
      },
      "text/plain": [
       "  0%|          | 0/2000 [00:00<?, ?it/s]"
      ]
     },
     "metadata": {},
     "output_type": "display_data"
    },
    {
     "name": "stdout",
     "output_type": "stream",
     "text": [
      "0.22484463207930977 None\n",
      "0.19793882427334913 None\n",
      "0.1714227884718625 None\n",
      "0.14852091846478696 None\n",
      "0.12324422653706935 None\n",
      "0.09879306290018981 None\n",
      "0.07524919949808798 None\n",
      "0.05270083966855895 None\n",
      "0.031216746720913055 None\n",
      "0.010842603357361926 None\n",
      "0.003005490314192708 None\n",
      "0.0029970535605112116 None\n",
      "0.0030047255092184068 None\n",
      "0.003023731120788093 None\n",
      "0.0030234421779939003 None\n",
      "0.003016929370536877 None\n",
      "0.0030028683626244553 None\n",
      "0.003028947512762054 None\n",
      "0.0030062398322616302 None\n",
      "0.003013448606318624 None\n",
      "tf.Tensor(0.003000773407979336, shape=(), dtype=float64)\n",
      "0.0030159677083454496 None\n"
     ]
    },
    {
     "data": {
      "application/vnd.jupyter.widget-view+json": {
       "model_id": "ca8eb2f5a8aa4a7ba2af6fa987616dc5",
       "version_major": 2,
       "version_minor": 0
      },
      "text/plain": [
       "  0%|          | 0/2000 [00:00<?, ?it/s]"
      ]
     },
     "metadata": {},
     "output_type": "display_data"
    },
    {
     "name": "stdout",
     "output_type": "stream",
     "text": [
      "0.22068094447960923 None\n",
      "0.19471543962434548 None\n",
      "0.16881106430752102 None\n",
      "0.1431529099157488 None\n",
      "0.11797960155588699 None\n",
      "0.0935186918716189 None\n",
      "0.07011734770991439 None\n",
      "0.04774587771773646 None\n",
      "0.026476671606792457 None\n",
      "0.006360774921773482 None\n",
      "0.0010930929775745009 None\n",
      "0.0011292927088595063 None\n",
      "0.0010807102114286822 None\n",
      "0.001076493007451643 None\n",
      "0.0010857564835505418 None\n",
      "0.0011012806350643185 None\n",
      "0.0010809988822534158 None\n",
      "0.001129331494779286 None\n",
      "0.0010783401835519 None\n",
      "0.0010861021498012793 None\n",
      "tf.Tensor(0.0010797886077803277, shape=(), dtype=float64)\n",
      "0.0010967654082470694 None\n"
     ]
    },
    {
     "data": {
      "application/vnd.jupyter.widget-view+json": {
       "model_id": "e0105f77066e4e06ab44af71dd77b0a0",
       "version_major": 2,
       "version_minor": 0
      },
      "text/plain": [
       "  0%|          | 0/2000 [00:00<?, ?it/s]"
      ]
     },
     "metadata": {},
     "output_type": "display_data"
    },
    {
     "name": "stdout",
     "output_type": "stream",
     "text": [
      "0.2217688512351106 None\n",
      "0.19480271171892521 None\n",
      "0.1685072929682617 None\n",
      "0.1428779809895193 None\n",
      "0.11786884103020599 None\n",
      "0.09359483245926215 None\n",
      "0.07024941705279042 None\n",
      "0.0480081887630983 None\n",
      "0.026898319420706508 None\n",
      "0.006918796818867624 None\n",
      "6.47250314766857e-05 None\n",
      "5.3420643144135374e-05 None\n",
      "7.075899323132594e-05 None\n",
      "8.669401207598952e-05 None\n",
      "6.88318210288752e-05 None\n",
      "6.785707955860379e-05 None\n",
      "6.745171207630032e-05 None\n",
      "8.693365845210618e-05 None\n",
      "5.871053676225271e-05 None\n",
      "9.602669226675166e-05 None\n",
      "tf.Tensor(7.662456811625973e-05, shape=(), dtype=float64)\n",
      "5.6922559955265364e-05 None\n"
     ]
    },
    {
     "data": {
      "application/vnd.jupyter.widget-view+json": {
       "model_id": "6990e5f2951049f98d8f341db4061734",
       "version_major": 2,
       "version_minor": 0
      },
      "text/plain": [
       "  0%|          | 0/2000 [00:00<?, ?it/s]"
      ]
     },
     "metadata": {},
     "output_type": "display_data"
    },
    {
     "name": "stdout",
     "output_type": "stream",
     "text": [
      "0.21304149219234342 None\n",
      "0.18709279468461015 None\n",
      "0.1614687600752322 None\n",
      "0.13630561590688617 None\n",
      "0.11174861560150098 None\n",
      "0.08793644358496455 None\n",
      "0.06499578740304979 None\n",
      "0.043044756578485936 None\n",
      "0.023752937781173777 None\n",
      "0.006232723641862038 None\n",
      "0.0011833049087129933 None\n",
      "0.0012074928373896846 None\n",
      "0.0012150065709731588 None\n",
      "0.001240749850180566 None\n",
      "0.00122465148467776 None\n",
      "0.001200685378892138 None\n",
      "0.0012239533557224427 None\n",
      "0.001198577172293028 None\n",
      "0.0012646957366068499 None\n",
      "0.0011807218364533849 None\n",
      "tf.Tensor(0.001181190082908597, shape=(), dtype=float64)\n",
      "0.0012127843348804946 None\n"
     ]
    },
    {
     "data": {
      "application/vnd.jupyter.widget-view+json": {
       "model_id": "b1ef0004fe46443c9a3dbdd6a483b468",
       "version_major": 2,
       "version_minor": 0
      },
      "text/plain": [
       "  0%|          | 0/2000 [00:00<?, ?it/s]"
      ]
     },
     "metadata": {},
     "output_type": "display_data"
    },
    {
     "name": "stdout",
     "output_type": "stream",
     "text": [
      "0.22444752189202535 None\n",
      "0.19902913696923696 None\n",
      "0.17203124489596083 None\n",
      "0.14569009820582146 None\n",
      "0.12015629196419435 None\n",
      "0.09527852053754912 None\n",
      "0.07129319134741244 None\n",
      "0.04871365462949402 None\n",
      "0.02751564049557362 None\n",
      "0.008240303448909905 None\n",
      "0.0005189019175870883 None\n",
      "0.0005340712683694626 None\n",
      "0.0005237676558962814 None\n",
      "0.0005422874620148038 None\n",
      "0.0005430685252852605 None\n",
      "0.0005617536136351339 None\n",
      "0.0005361280336974739 None\n",
      "0.0005564616957876353 None\n",
      "0.0005450668368484138 None\n",
      "0.0005195831644580276 None\n",
      "tf.Tensor(0.0005806059924735943, shape=(), dtype=float64)\n",
      "0.0005425510860776594 None\n",
      "Done!\n"
     ]
    },
    {
     "data": {
      "application/vnd.jupyter.widget-view+json": {
       "model_id": "ed3fe509174f4c22968026e81b56ddc6",
       "version_major": 2,
       "version_minor": 0
      },
      "text/plain": [
       "  0%|          | 0/2000 [00:00<?, ?it/s]"
      ]
     },
     "metadata": {},
     "output_type": "display_data"
    },
    {
     "name": "stdout",
     "output_type": "stream",
     "text": [
      "0.2519180483050413 None\n",
      "0.25144478841565354 None\n",
      "0.25106581185044835 None\n",
      "0.25144078436157635 None\n",
      "0.2514414530546668 None\n",
      "0.25107314179514695 None\n",
      "0.25143889762172944 None\n",
      "0.251441430410333 None\n",
      "0.2510732892881801 None\n",
      "0.25143887107409546 None\n",
      "0.2514414175949773 None\n",
      "0.2510733556500423 None\n",
      "0.2514388580636859 None\n",
      "0.25144141091101135 None\n",
      "0.25107339231796755 None\n",
      "0.25143885056784887 None\n",
      "0.2514414069324685 None\n",
      "0.25107341485160384 None\n",
      "0.25143884584907644 None\n",
      "0.2514414043787684 None\n",
      "tf.Tensor(0.2510689880847269, shape=(), dtype=float64)\n",
      "0.25107342960108453 None\n"
     ]
    },
    {
     "data": {
      "application/vnd.jupyter.widget-view+json": {
       "model_id": "d08da720a61e4951b37ca6125856c69e",
       "version_major": 2,
       "version_minor": 0
      },
      "text/plain": [
       "  0%|          | 0/2000 [00:00<?, ?it/s]"
      ]
     },
     "metadata": {},
     "output_type": "display_data"
    },
    {
     "name": "stdout",
     "output_type": "stream",
     "text": [
      "0.25571818993894324 None\n",
      "0.22294750881755027 None\n",
      "0.1923366266333949 None\n",
      "0.1624542295980717 None\n",
      "0.13339166248352785 None\n",
      "0.10541883423426571 None\n",
      "0.07891637362225444 None\n",
      "0.05441960726719203 None\n",
      "0.03118116585691657 None\n",
      "0.01488130145126461 None\n",
      "0.014750929771178712 None\n",
      "0.014726279701696371 None\n",
      "0.014749403639507724 None\n",
      "0.014735049139345152 None\n",
      "0.014749373586846514 None\n",
      "0.014747496047651005 None\n",
      "0.014734509388545354 None\n",
      "0.014722393057263911 None\n",
      "0.014714602645512524 None\n",
      "0.014764500441929647 None\n",
      "tf.Tensor(0.014744179811432912, shape=(), dtype=float64)\n",
      "0.014728526835884775 None\n"
     ]
    },
    {
     "data": {
      "application/vnd.jupyter.widget-view+json": {
       "model_id": "9d249df8e8194ccaabf02a703affc58f",
       "version_major": 2,
       "version_minor": 0
      },
      "text/plain": [
       "  0%|          | 0/2000 [00:00<?, ?it/s]"
      ]
     },
     "metadata": {},
     "output_type": "display_data"
    },
    {
     "name": "stdout",
     "output_type": "stream",
     "text": [
      "0.23343053753777487 None\n",
      "0.2040276482410814 None\n",
      "0.17532824976014066 None\n",
      "0.15086120558195126 None\n",
      "0.12293549071994184 None\n",
      "0.09725924190198905 None\n",
      "0.07282153504740252 None\n",
      "0.04952884621415889 None\n",
      "0.02733756095660045 None\n",
      "0.017964582135184856 None\n",
      "0.017896454731319858 None\n",
      "0.017971010914388866 None\n",
      "0.0179166037138924 None\n",
      "0.017901369790583835 None\n",
      "0.017902518380932028 None\n",
      "0.017954767578588986 None\n",
      "0.017926499744198125 None\n",
      "0.017897640507435954 None\n",
      "0.017899391558212407 None\n",
      "0.017929673261163945 None\n",
      "tf.Tensor(0.017923294128988743, shape=(), dtype=float64)\n",
      "0.01795448817385515 None\n"
     ]
    },
    {
     "data": {
      "application/vnd.jupyter.widget-view+json": {
       "model_id": "a2b7dcf40d3f47b5ab6222bc7b09b481",
       "version_major": 2,
       "version_minor": 0
      },
      "text/plain": [
       "  0%|          | 0/2000 [00:00<?, ?it/s]"
      ]
     },
     "metadata": {},
     "output_type": "display_data"
    },
    {
     "name": "stdout",
     "output_type": "stream",
     "text": [
      "0.23044765674626044 None\n",
      "0.2019151467922651 None\n",
      "0.17376271402972024 None\n",
      "0.1461200265993154 None\n",
      "0.11914259714491438 None\n",
      "0.09262241580899261 None\n",
      "0.06793295042170114 None\n",
      "0.04532722047495405 None\n",
      "0.02352735889925038 None\n",
      "0.012367049270651452 None\n",
      "0.01234208775253933 None\n",
      "0.012331123649493963 None\n",
      "0.01233145352554695 None\n",
      "0.01237822139008867 None\n",
      "0.012328931887126327 None\n",
      "0.012413234015595015 None\n",
      "0.012350598887762935 None\n",
      "0.012341363370395464 None\n",
      "0.01232405662394566 None\n",
      "0.012343746285665211 None\n",
      "tf.Tensor(0.012338695021500494, shape=(), dtype=float64)\n",
      "0.012333682477489219 None\n"
     ]
    },
    {
     "data": {
      "application/vnd.jupyter.widget-view+json": {
       "model_id": "a4fde77795604cdf8bf48c47d0fcec22",
       "version_major": 2,
       "version_minor": 0
      },
      "text/plain": [
       "  0%|          | 0/2000 [00:00<?, ?it/s]"
      ]
     },
     "metadata": {},
     "output_type": "display_data"
    },
    {
     "name": "stdout",
     "output_type": "stream",
     "text": [
      "0.22433621760799938 None\n",
      "0.19566884358818004 None\n",
      "0.16661335350602235 None\n",
      "0.13980257227107706 None\n",
      "0.11432507298576329 None\n",
      "0.0902831301181077 None\n",
      "0.06662154240028428 None\n",
      "0.04381589047789701 None\n",
      "0.022105746116861696 None\n",
      "0.00840253917011524 None\n",
      "0.008332576203947244 None\n",
      "0.008289813679266613 None\n",
      "0.008286136946360384 None\n",
      "0.008270896192156799 None\n",
      "0.00828096264717275 None\n",
      "0.008258324602920931 None\n",
      "0.008294515689331842 None\n",
      "0.008278690533095273 None\n",
      "0.008261612423586208 None\n",
      "0.008265848483282311 None\n",
      "tf.Tensor(0.008271842306833763, shape=(), dtype=float64)\n",
      "0.008283355942985059 None\n"
     ]
    },
    {
     "data": {
      "application/vnd.jupyter.widget-view+json": {
       "model_id": "bf40406308dc4ec7ad22214409fdded1",
       "version_major": 2,
       "version_minor": 0
      },
      "text/plain": [
       "  0%|          | 0/2000 [00:00<?, ?it/s]"
      ]
     },
     "metadata": {},
     "output_type": "display_data"
    },
    {
     "name": "stdout",
     "output_type": "stream",
     "text": [
      "0.21158173761898497 None\n",
      "0.18409247693752054 None\n",
      "0.1573640026191523 None\n",
      "0.13134740158065544 None\n",
      "0.10608333337209613 None\n",
      "0.08165004407074859 None\n",
      "0.05814155080887589 None\n",
      "0.035643899956412775 None\n",
      "0.014222300386151588 None\n",
      "0.006906144292832839 None\n",
      "0.006897369576053426 None\n",
      "0.006957530926194026 None\n",
      "0.006889816463187591 None\n",
      "0.006935891795709187 None\n",
      "0.0069339590002409374 None\n",
      "0.0069165184366274095 None\n",
      "0.006894674209386812 None\n",
      "0.006884861953929905 None\n",
      "0.006926438706605672 None\n",
      "0.006896176096188944 None\n",
      "tf.Tensor(0.006903824282314652, shape=(), dtype=float64)\n",
      "0.006915673645077053 None\n"
     ]
    },
    {
     "data": {
      "application/vnd.jupyter.widget-view+json": {
       "model_id": "61cbb4a759ab4af4bc17b07181318fed",
       "version_major": 2,
       "version_minor": 0
      },
      "text/plain": [
       "  0%|          | 0/2000 [00:00<?, ?it/s]"
      ]
     },
     "metadata": {},
     "output_type": "display_data"
    },
    {
     "name": "stdout",
     "output_type": "stream",
     "text": [
      "0.2100776889662416 None\n",
      "0.182980384559011 None\n",
      "0.15632296824338943 None\n",
      "0.13017359867098455 None\n",
      "0.10465096291519324 None\n",
      "0.0798913702841904 None\n",
      "0.056114572308641496 None\n",
      "0.033544260461144865 None\n",
      "0.012141993324244125 None\n",
      "0.005009064196569374 None\n",
      "0.005019730088140941 None\n",
      "0.00508863130407222 None\n",
      "0.005080072042924473 None\n",
      "0.005029482353743607 None\n",
      "0.005030439126446889 None\n",
      "0.005039383593561755 None\n",
      "0.005036002099776171 None\n",
      "0.005061477700542945 None\n",
      "0.005075507535401253 None\n",
      "0.005048093673801397 None\n",
      "tf.Tensor(0.005025665402606377, shape=(), dtype=float64)\n",
      "0.005017456133214186 None\n"
     ]
    },
    {
     "data": {
      "application/vnd.jupyter.widget-view+json": {
       "model_id": "2269c7abfeb947e185d780e7d18b5a53",
       "version_major": 2,
       "version_minor": 0
      },
      "text/plain": [
       "  0%|          | 0/2000 [00:00<?, ?it/s]"
      ]
     },
     "metadata": {},
     "output_type": "display_data"
    },
    {
     "name": "stdout",
     "output_type": "stream",
     "text": [
      "0.20822939866044182 None\n",
      "0.18099170837939166 None\n",
      "0.1547209260864184 None\n",
      "0.1291187735481305 None\n",
      "0.10416155065854253 None\n",
      "0.07999151586369481 None\n",
      "0.05671694406053794 None\n",
      "0.03441954534813239 None\n",
      "0.013158773655958104 None\n",
      "0.0034213220124041863 None\n",
      "0.0034574247577768297 None\n",
      "0.00344576454132468 None\n",
      "0.0034241382034242776 None\n",
      "0.0034428444719880255 None\n",
      "0.0034285964088826525 None\n",
      "0.0034346706043503882 None\n",
      "0.003424623007430079 None\n",
      "0.003435893585908723 None\n",
      "0.0034413034041889633 None\n",
      "0.0034601900677145737 None\n",
      "tf.Tensor(0.003448207218288434, shape=(), dtype=float64)\n",
      "0.0034667741114776125 None\n"
     ]
    },
    {
     "data": {
      "application/vnd.jupyter.widget-view+json": {
       "model_id": "f475e4e6d1454be5bc573527bb59248f",
       "version_major": 2,
       "version_minor": 0
      },
      "text/plain": [
       "  0%|          | 0/2000 [00:00<?, ?it/s]"
      ]
     },
     "metadata": {},
     "output_type": "display_data"
    },
    {
     "name": "stdout",
     "output_type": "stream",
     "text": [
      "0.2094913128425558 None\n",
      "0.18200406320744433 None\n",
      "0.1564756306780461 None\n",
      "0.13031712247955352 None\n",
      "0.10477029729980347 None\n",
      "0.0800311141288106 None\n",
      "0.05629120345245785 None\n",
      "0.033670677481498094 None\n",
      "0.012205230556313557 None\n",
      "0.002413014654766987 None\n",
      "0.002412902759647142 None\n",
      "0.002423558487880709 None\n",
      "0.0024189898250957485 None\n",
      "0.0024162872571360083 None\n",
      "0.0024069942525047367 None\n",
      "0.002409533728973139 None\n",
      "0.002435509502144594 None\n",
      "0.0024275245430227695 None\n",
      "0.0024162688925341066 None\n",
      "0.0024182397475623115 None\n",
      "tf.Tensor(0.0024163260676291366, shape=(), dtype=float64)\n",
      "0.0024380843285541787 None\n"
     ]
    },
    {
     "data": {
      "application/vnd.jupyter.widget-view+json": {
       "model_id": "15dfaff859c545b281454e4f89348bc9",
       "version_major": 2,
       "version_minor": 0
      },
      "text/plain": [
       "  0%|          | 0/2000 [00:00<?, ?it/s]"
      ]
     },
     "metadata": {},
     "output_type": "display_data"
    },
    {
     "name": "stdout",
     "output_type": "stream",
     "text": [
      "0.2045494914057211 None\n",
      "0.17782797268612896 None\n",
      "0.15149831458556073 None\n",
      "0.12560255877343826 None\n",
      "0.10027117761630136 None\n",
      "0.07570623907833199 None\n",
      "0.05214590856984651 None\n",
      "0.02971456169565418 None\n",
      "0.009939047938638125 None\n",
      "0.0008234211867095952 None\n",
      "0.0008425873183919887 None\n",
      "0.000832523274093588 None\n",
      "0.0008284672611683867 None\n",
      "0.0008174643394972623 None\n",
      "0.0008304678467376571 None\n",
      "0.0008331848609987418 None\n",
      "0.0008254949482603951 None\n",
      "0.0008166119085871847 None\n",
      "0.0008343873093224711 None\n",
      "0.0008191623444490422 None\n",
      "tf.Tensor(0.0008325108323194441, shape=(), dtype=float64)\n",
      "0.0008193134195887165 None\n"
     ]
    },
    {
     "data": {
      "application/vnd.jupyter.widget-view+json": {
       "model_id": "c87c162fd5a246349ee5d62123e3dd2c",
       "version_major": 2,
       "version_minor": 0
      },
      "text/plain": [
       "  0%|          | 0/2000 [00:00<?, ?it/s]"
      ]
     },
     "metadata": {},
     "output_type": "display_data"
    },
    {
     "name": "stdout",
     "output_type": "stream",
     "text": [
      "0.19611409057875226 None\n",
      "0.16968911174833273 None\n",
      "0.14371216666214057 None\n",
      "0.11990876414886358 None\n",
      "0.09535953862868497 None\n",
      "0.07175482036017057 None\n",
      "0.049020328830682885 None\n",
      "0.027230763318888986 None\n",
      "0.0064484057974303205 None\n",
      "0.0003455333763640756 None\n",
      "0.0003631353395942786 None\n",
      "0.0003655952416991414 None\n",
      "0.00036143583463613127 None\n",
      "0.00034950504847306926 None\n",
      "0.0003718215306186892 None\n",
      "0.00035619450315431574 None\n",
      "0.0003759518824545255 None\n",
      "0.00033740462687227753 None\n",
      "0.0003648207211013454 None\n",
      "0.000359945975955768 None\n",
      "tf.Tensor(0.00038417891044172266, shape=(), dtype=float64)\n",
      "0.00041212125248994876 None\n"
     ]
    },
    {
     "data": {
      "application/vnd.jupyter.widget-view+json": {
       "model_id": "5c3e7160646e43918c0385e24ac3721a",
       "version_major": 2,
       "version_minor": 0
      },
      "text/plain": [
       "  0%|          | 0/2000 [00:00<?, ?it/s]"
      ]
     },
     "metadata": {},
     "output_type": "display_data"
    },
    {
     "name": "stdout",
     "output_type": "stream",
     "text": [
      "0.20331043113213287 None\n",
      "0.17655434641297021 None\n",
      "0.15018713318996435 None\n",
      "0.124421906265656 None\n",
      "0.0996474444148031 None\n",
      "0.07549181458536737 None\n",
      "0.05229651299204482 None\n",
      "0.030128056534393394 None\n",
      "0.010641507357965372 None\n",
      "0.0008138334258427395 None\n",
      "0.0008094042807727346 None\n",
      "0.0008204186799929524 None\n",
      "0.0008138240247761476 None\n",
      "0.0008059235826629613 None\n",
      "0.0008051361744127062 None\n",
      "0.0008276689792444617 None\n",
      "0.00082668092662979 None\n",
      "0.0008126054802543303 None\n",
      "0.000820326542862489 None\n",
      "0.0008432502185111764 None\n",
      "tf.Tensor(0.0008083550948701501, shape=(), dtype=float64)\n",
      "0.0008090110230884497 None\n"
     ]
    },
    {
     "data": {
      "application/vnd.jupyter.widget-view+json": {
       "model_id": "023bba9167f84a68b3da49b7f63714b3",
       "version_major": 2,
       "version_minor": 0
      },
      "text/plain": [
       "  0%|          | 0/2000 [00:00<?, ?it/s]"
      ]
     },
     "metadata": {},
     "output_type": "display_data"
    },
    {
     "name": "stdout",
     "output_type": "stream",
     "text": [
      "0.20420558617760268 None\n",
      "0.17767139782839622 None\n",
      "0.15142986041238726 None\n",
      "0.12565996423586523 None\n",
      "0.10057104537349812 None\n",
      "0.07634085941754219 None\n",
      "0.05305729374728597 None\n",
      "0.030785439336061954 None\n",
      "0.009583596944730014 None\n",
      "0.0008491747902423519 None\n",
      "0.0008483865315185371 None\n",
      "0.0008955976799799158 None\n",
      "0.0008689072111653338 None\n",
      "0.0008929790033788132 None\n",
      "0.000840369822019205 None\n",
      "0.0009030011021754648 None\n",
      "0.0008671754937835414 None\n",
      "0.0008709157904902981 None\n",
      "0.0008504692961918327 None\n",
      "0.000871128935337518 None\n",
      "tf.Tensor(0.0008549006921236262, shape=(), dtype=float64)\n",
      "0.0008627711666035227 None\n"
     ]
    },
    {
     "data": {
      "application/vnd.jupyter.widget-view+json": {
       "model_id": "495eb9e0395844f3865a880a3e758998",
       "version_major": 2,
       "version_minor": 0
      },
      "text/plain": [
       "  0%|          | 0/2000 [00:00<?, ?it/s]"
      ]
     },
     "metadata": {},
     "output_type": "display_data"
    },
    {
     "name": "stdout",
     "output_type": "stream",
     "text": [
      "0.19845270456497982 None\n",
      "0.17220390060097698 None\n",
      "0.1463391709997753 None\n",
      "0.12105037140280969 None\n",
      "0.09648423939013728 None\n",
      "0.07278822742761573 None\n",
      "0.04994718715594347 None\n",
      "0.028317360028670906 None\n",
      "0.009564288556588267 None\n",
      "0.0009700392215643075 None\n",
      "0.0009478285515348052 None\n",
      "0.0009917168098285741 None\n",
      "0.0009369386636627255 None\n",
      "0.0009356832115375545 None\n",
      "0.0010380178816913783 None\n",
      "0.0009736609678092593 None\n",
      "0.0009376149187615024 None\n",
      "0.0009740824625815072 None\n",
      "0.0009478089158172446 None\n",
      "0.0009679389573078942 None\n",
      "tf.Tensor(0.0009422522658537585, shape=(), dtype=float64)\n",
      "0.0009474274321406677 None\n"
     ]
    },
    {
     "data": {
      "application/vnd.jupyter.widget-view+json": {
       "model_id": "2f8f804dbb10425b82376810bfb03075",
       "version_major": 2,
       "version_minor": 0
      },
      "text/plain": [
       "  0%|          | 0/2000 [00:00<?, ?it/s]"
      ]
     },
     "metadata": {},
     "output_type": "display_data"
    },
    {
     "name": "stdout",
     "output_type": "stream",
     "text": [
      "0.1997121488730446 None\n",
      "0.17318114415606878 None\n",
      "0.14694298596265656 None\n",
      "0.12118294074765396 None\n",
      "0.09623512949793159 None\n",
      "0.07210855286304363 None\n",
      "0.04889221247665214 None\n",
      "0.0271769692838534 None\n",
      "0.00903682458451226 None\n",
      "0.00040438542887627146 None\n",
      "0.00041064650734454894 None\n",
      "0.00039915167633543247 None\n",
      "0.0003997903418314925 None\n",
      "0.0004100154910367613 None\n",
      "0.00040740436698752554 None\n",
      "0.0004184447336804415 None\n",
      "0.00041768086378587456 None\n",
      "0.00042043074933801293 None\n",
      "0.0004110214274072096 None\n",
      "0.0004002651312941981 None\n",
      "tf.Tensor(0.00040139583954926054, shape=(), dtype=float64)\n",
      "0.00040857688854570653 None\n"
     ]
    },
    {
     "data": {
      "application/vnd.jupyter.widget-view+json": {
       "model_id": "0de01af408d9407882ac44ecc0f7e2b7",
       "version_major": 2,
       "version_minor": 0
      },
      "text/plain": [
       "  0%|          | 0/2000 [00:00<?, ?it/s]"
      ]
     },
     "metadata": {},
     "output_type": "display_data"
    },
    {
     "name": "stdout",
     "output_type": "stream",
     "text": [
      "0.19783180602898245 None\n",
      "0.17188148120206256 None\n",
      "0.1462306611744798 None\n",
      "0.12102822911233656 None\n",
      "0.0964344447510226 None\n",
      "0.07259522745401319 None\n",
      "0.049632673144648046 None\n",
      "0.02764154208853074 None\n",
      "0.006688946185455088 None\n",
      "0.0001494024413462875 None\n",
      "0.00013987090441076183 None\n",
      "0.0001481984662937072 None\n",
      "0.00014635630669366552 None\n",
      "0.00016995307195326846 None\n",
      "0.00015483211459860896 None\n",
      "0.00018833623747695205 None\n",
      "0.00016685599659089882 None\n",
      "0.00015737153653840041 None\n",
      "0.000141040837193138 None\n",
      "0.0001496859409640585 None\n",
      "tf.Tensor(0.00015920438301772998, shape=(), dtype=float64)\n",
      "0.00015747006634536306 None\n"
     ]
    },
    {
     "data": {
      "application/vnd.jupyter.widget-view+json": {
       "model_id": "2c32aa5643634d66ba67e2cc3d7ab719",
       "version_major": 2,
       "version_minor": 0
      },
      "text/plain": [
       "  0%|          | 0/2000 [00:00<?, ?it/s]"
      ]
     },
     "metadata": {},
     "output_type": "display_data"
    },
    {
     "name": "stdout",
     "output_type": "stream",
     "text": [
      "0.19811807402341025 None\n",
      "0.17184788480198313 None\n",
      "0.1459193150583575 None\n",
      "0.12050097229024062 None\n",
      "0.0957533203495271 None\n",
      "0.0718167528282457 None\n",
      "0.04880233927216273 None\n",
      "0.028367493412974204 None\n",
      "0.009826999164919407 None\n",
      "0.0014505904105029917 None\n",
      "0.0014057001892318352 None\n",
      "0.001397016537883271 None\n",
      "0.0013875447692090256 None\n",
      "0.0014348002256941161 None\n",
      "0.0013801101298089322 None\n",
      "0.0014004032381969862 None\n",
      "0.0014253265532025543 None\n",
      "0.001391755366726765 None\n",
      "0.0013917456946578866 None\n",
      "0.0013847880150435017 None\n",
      "tf.Tensor(0.0014842367077381466, shape=(), dtype=float64)\n",
      "0.001471987233967455 None\n",
      "Done!\n"
     ]
    },
    {
     "data": {
      "application/vnd.jupyter.widget-view+json": {
       "model_id": "81c6b5ffa9a2410f84d9f755f6fd1210",
       "version_major": 2,
       "version_minor": 0
      },
      "text/plain": [
       "  0%|          | 0/2000 [00:00<?, ?it/s]"
      ]
     },
     "metadata": {},
     "output_type": "display_data"
    },
    {
     "name": "stdout",
     "output_type": "stream",
     "text": [
      "0.36139626569940486 None\n",
      "0.30670588893507267 None\n",
      "0.26596989780625124 None\n",
      "0.23162756249126293 None\n",
      "0.20286269626038778 None\n",
      "0.17283090161999876 None\n",
      "0.14353908486902936 None\n",
      "0.1142804270595127 None\n",
      "0.08836173826823314 None\n",
      "0.06344690329554525 None\n",
      "0.04013154954049439 None\n",
      "0.02793998779769768 None\n",
      "0.027945957982300925 None\n",
      "0.02794536951884224 None\n",
      "0.027936580685646504 None\n",
      "0.027961798090268424 None\n",
      "0.02793834657216779 None\n",
      "0.02794463144721807 None\n",
      "0.02794964878625857 None\n",
      "0.027977012454998573 None\n",
      "tf.Tensor(0.027963351088297703, shape=(), dtype=float64)\n",
      "0.0279464359188708 None\n"
     ]
    },
    {
     "data": {
      "application/vnd.jupyter.widget-view+json": {
       "model_id": "902fcd948a36425b8117852de2808450",
       "version_major": 2,
       "version_minor": 0
      },
      "text/plain": [
       "  0%|          | 0/2000 [00:00<?, ?it/s]"
      ]
     },
     "metadata": {},
     "output_type": "display_data"
    },
    {
     "name": "stdout",
     "output_type": "stream",
     "text": [
      "0.2811552072024709 None\n",
      "0.24703060437508462 None\n",
      "0.21656683748836714 None\n",
      "0.18723103121072798 None\n",
      "0.159348031667485 None\n",
      "0.13096303752688554 None\n",
      "0.10557394160947466 None\n",
      "0.08132587302363722 None\n",
      "0.05830278826012532 None\n",
      "0.03654294027590026 None\n",
      "0.02796158277127057 None\n",
      "0.027963021086575227 None\n",
      "0.027962409840119076 None\n",
      "0.027969354602324917 None\n",
      "0.02796172022254598 None\n",
      "0.02795379894512662 None\n",
      "0.027963833537958904 None\n",
      "0.027960305705243663 None\n",
      "0.02798451422770887 None\n",
      "0.027959044071700263 None\n",
      "tf.Tensor(0.027986757084326557, shape=(), dtype=float64)\n",
      "0.02795736828932961 None\n"
     ]
    },
    {
     "data": {
      "application/vnd.jupyter.widget-view+json": {
       "model_id": "62103281ecf54f9e8500af959af3c661",
       "version_major": 2,
       "version_minor": 0
      },
      "text/plain": [
       "  0%|          | 0/2000 [00:00<?, ?it/s]"
      ]
     },
     "metadata": {},
     "output_type": "display_data"
    },
    {
     "name": "stdout",
     "output_type": "stream",
     "text": [
      "0.2546555579223333 None\n",
      "0.22491452900358821 None\n",
      "0.19593326662729627 None\n",
      "0.16842956660810274 None\n",
      "0.1417632033125858 None\n",
      "0.11585060948372754 None\n",
      "0.09103203068625433 None\n",
      "0.06765869540852046 None\n",
      "0.04568094625578155 None\n",
      "0.024907270604374584 None\n",
      "0.013247801003112077 None\n",
      "0.013220901565232295 None\n",
      "0.0132478647689056 None\n",
      "0.013229724528269354 None\n",
      "0.013221297231161125 None\n",
      "0.013256544916116109 None\n",
      "0.01325742559389902 None\n",
      "0.01325120397788545 None\n",
      "0.013277232473334937 None\n",
      "0.01325967504871255 None\n",
      "tf.Tensor(0.013251484419377818, shape=(), dtype=float64)\n",
      "0.013248606692135362 None\n"
     ]
    },
    {
     "data": {
      "application/vnd.jupyter.widget-view+json": {
       "model_id": "6b35eb5301c442e7977f221f927bc383",
       "version_major": 2,
       "version_minor": 0
      },
      "text/plain": [
       "  0%|          | 0/2000 [00:00<?, ?it/s]"
      ]
     },
     "metadata": {},
     "output_type": "display_data"
    },
    {
     "name": "stdout",
     "output_type": "stream",
     "text": [
      "0.24413761367492745 None\n",
      "0.21588295151568573 None\n",
      "0.18794801551878323 None\n",
      "0.16057047608061853 None\n",
      "0.13392145518510282 None\n",
      "0.10813614338278701 None\n",
      "0.08332852322114342 None\n",
      "0.05978874557198276 None\n",
      "0.03771531545564286 None\n",
      "0.01724175339912929 None\n",
      "0.005031771684861994 None\n",
      "0.005013627613732814 None\n",
      "0.005005284806563898 None\n",
      "0.005051584022565118 None\n",
      "0.005042917450019873 None\n",
      "0.0050402913317714685 None\n",
      "0.005026510070962005 None\n",
      "0.005032006704678094 None\n",
      "0.0050408898403157595 None\n",
      "0.005031419162424661 None\n",
      "tf.Tensor(0.0050351653981754296, shape=(), dtype=float64)\n",
      "0.00502669081327718 None\n"
     ]
    },
    {
     "data": {
      "application/vnd.jupyter.widget-view+json": {
       "model_id": "361a3208bcbe426f83b2a0081d06cb2d",
       "version_major": 2,
       "version_minor": 0
      },
      "text/plain": [
       "  0%|          | 0/2000 [00:00<?, ?it/s]"
      ]
     },
     "metadata": {},
     "output_type": "display_data"
    },
    {
     "name": "stdout",
     "output_type": "stream",
     "text": [
      "0.2304128698655116 None\n",
      "0.20299838638941226 None\n",
      "0.1750566481286669 None\n",
      "0.14872699091025637 None\n",
      "0.12333218538312894 None\n",
      "0.09897394235374465 None\n",
      "0.07564956462041199 None\n",
      "0.05329229047260628 None\n",
      "0.03194230139550333 None\n",
      "0.011792336496873671 None\n",
      "0.005870891267308116 None\n",
      "0.005874896949317556 None\n",
      "0.005870146534641692 None\n",
      "0.005869017446782298 None\n",
      "0.0058732359239698426 None\n",
      "0.0058746889982768564 None\n",
      "0.00588971028918253 None\n",
      "0.005881448295903816 None\n",
      "0.005869845320262719 None\n",
      "0.005873651994393587 None\n",
      "tf.Tensor(0.00593054836998844, shape=(), dtype=float64)\n",
      "0.00593288517283668 None\n"
     ]
    },
    {
     "data": {
      "application/vnd.jupyter.widget-view+json": {
       "model_id": "769b66849d1c436e82b788a687fe200d",
       "version_major": 2,
       "version_minor": 0
      },
      "text/plain": [
       "  0%|          | 0/2000 [00:00<?, ?it/s]"
      ]
     },
     "metadata": {},
     "output_type": "display_data"
    },
    {
     "name": "stdout",
     "output_type": "stream",
     "text": [
      "0.23461328426370814 None\n",
      "0.20724819902083605 None\n",
      "0.18018113351705076 None\n",
      "0.15360953621986848 None\n",
      "0.12783626309315918 None\n",
      "0.10295779481520018 None\n",
      "0.07916748530350051 None\n",
      "0.05650050980320091 None\n",
      "0.034937326521352854 None\n",
      "0.014498267891569595 None\n",
      "0.006059324745468204 None\n",
      "0.006033246669157229 None\n",
      "0.006050548892999863 None\n",
      "0.006034873002268732 None\n",
      "0.006035552848171024 None\n",
      "0.006057185436113761 None\n",
      "0.0060383251358110575 None\n",
      "0.006030369811893862 None\n",
      "0.0060314956876109105 None\n",
      "0.00604420798335931 None\n",
      "tf.Tensor(0.006053000344861744, shape=(), dtype=float64)\n",
      "0.006051298225298199 None\n"
     ]
    },
    {
     "data": {
      "application/vnd.jupyter.widget-view+json": {
       "model_id": "f08d1e28b27b4eb9b72b00198bc4f6b4",
       "version_major": 2,
       "version_minor": 0
      },
      "text/plain": [
       "  0%|          | 0/2000 [00:00<?, ?it/s]"
      ]
     },
     "metadata": {},
     "output_type": "display_data"
    },
    {
     "name": "stdout",
     "output_type": "stream",
     "text": [
      "0.2261212636121035 None\n",
      "0.19937964771587918 None\n",
      "0.17284197172991697 None\n",
      "0.14673073917218532 None\n",
      "0.12073763980710014 None\n",
      "0.09625971786995699 None\n",
      "0.07269199074518566 None\n",
      "0.050295903963305084 None\n",
      "0.029010893679228513 None\n",
      "0.00888534901773379 None\n",
      "0.0021510671741160475 None\n",
      "0.0021261365195925693 None\n",
      "0.002127226581632542 None\n",
      "0.002137433714371908 None\n",
      "0.002130219218473204 None\n",
      "0.0021261067280847583 None\n",
      "0.0021367958830345903 None\n",
      "0.002125246906878821 None\n",
      "0.0021370944230432835 None\n",
      "0.00215500410247582 None\n",
      "tf.Tensor(0.0021356865896079505, shape=(), dtype=float64)\n",
      "0.0021553658143128856 None\n"
     ]
    },
    {
     "data": {
      "application/vnd.jupyter.widget-view+json": {
       "model_id": "9d19c4b2d81142f88482011568b2405b",
       "version_major": 2,
       "version_minor": 0
      },
      "text/plain": [
       "  0%|          | 0/2000 [00:00<?, ?it/s]"
      ]
     },
     "metadata": {},
     "output_type": "display_data"
    },
    {
     "name": "stdout",
     "output_type": "stream",
     "text": [
      "0.2306036619487668 None\n",
      "0.20318971937736902 None\n",
      "0.17623061304373805 None\n",
      "0.15007349654926166 None\n",
      "0.12491794710655371 None\n",
      "0.10059534764459195 None\n",
      "0.07714629849315914 None\n",
      "0.05463998555059825 None\n",
      "0.03313680394166407 None\n",
      "0.012314121224289772 None\n",
      "0.0036423460336285473 None\n",
      "0.0036461818446417524 None\n",
      "0.003629612976843456 None\n",
      "0.0036611253294096327 None\n",
      "0.0036496836502919044 None\n",
      "0.0036337890177546277 None\n",
      "0.0036609581398684976 None\n",
      "0.003654110381030279 None\n",
      "0.003628192317186578 None\n",
      "0.0036721317535787362 None\n",
      "tf.Tensor(0.003630840429741213, shape=(), dtype=float64)\n",
      "0.0036242172337034983 None\n"
     ]
    },
    {
     "data": {
      "application/vnd.jupyter.widget-view+json": {
       "model_id": "ff02037a3a7e4a63b2a2812bb6cbb0b9",
       "version_major": 2,
       "version_minor": 0
      },
      "text/plain": [
       "  0%|          | 0/2000 [00:00<?, ?it/s]"
      ]
     },
     "metadata": {},
     "output_type": "display_data"
    },
    {
     "name": "stdout",
     "output_type": "stream",
     "text": [
      "0.22335465185361422 None\n",
      "0.19699561056165446 None\n",
      "0.1710057931150808 None\n",
      "0.14552896483638353 None\n",
      "0.12073036961024201 None\n",
      "0.09672446644957881 None\n",
      "0.07359778763600155 None\n",
      "0.0514268241596197 None\n",
      "0.030283075496738615 None\n",
      "0.010232609283434236 None\n",
      "0.0031988861203654188 None\n",
      "0.0032141437661417863 None\n",
      "0.0031990239470654023 None\n",
      "0.003187471212127351 None\n",
      "0.0032418052528884068 None\n",
      "0.0031902229695189056 None\n",
      "0.0031982290135823405 None\n",
      "0.0032057248263317115 None\n",
      "0.0032078489986652973 None\n",
      "0.0032166010845386707 None\n",
      "tf.Tensor(0.003237436786762594, shape=(), dtype=float64)\n",
      "0.0032041176017581965 None\n",
      "Done!\n"
     ]
    },
    {
     "data": {
      "application/vnd.jupyter.widget-view+json": {
       "model_id": "5488553b94ed4be78ce26c49306263a3",
       "version_major": 2,
       "version_minor": 0
      },
      "text/plain": [
       "  0%|          | 0/2000 [00:00<?, ?it/s]"
      ]
     },
     "metadata": {},
     "output_type": "display_data"
    },
    {
     "name": "stdout",
     "output_type": "stream",
     "text": [
      "0.30705619871994494 None\n",
      "0.26553181218951794 None\n",
      "0.22959364483330116 None\n",
      "0.1935435843915808 None\n",
      "0.16037297703375428 None\n",
      "0.1315204900355178 None\n",
      "0.10477738325458447 None\n",
      "0.07760875452878792 None\n",
      "0.053878547566830776 None\n",
      "0.042223493501524545 None\n",
      "0.042203008291525505 None\n",
      "0.04219969439296405 None\n",
      "0.042197435221279285 None\n",
      "0.042247813939499626 None\n",
      "0.042221203654040265 None\n",
      "0.04219870019708975 None\n",
      "0.04222153226272725 None\n",
      "0.042202836804068264 None\n",
      "0.04221304329403025 None\n",
      "0.0421962499999635 None\n",
      "tf.Tensor(0.04221326862461115, shape=(), dtype=float64)\n",
      "0.042201782325217305 None\n"
     ]
    },
    {
     "data": {
      "application/vnd.jupyter.widget-view+json": {
       "model_id": "0be14a58394743ee8489302ad728c111",
       "version_major": 2,
       "version_minor": 0
      },
      "text/plain": [
       "  0%|          | 0/2000 [00:00<?, ?it/s]"
      ]
     },
     "metadata": {},
     "output_type": "display_data"
    },
    {
     "name": "stdout",
     "output_type": "stream",
     "text": [
      "0.26984177143138627 None\n",
      "0.2354984604121359 None\n",
      "0.2030270596700175 None\n",
      "0.17216820283284684 None\n",
      "0.14309891286060542 None\n",
      "0.11534177490928837 None\n",
      "0.08931228874814556 None\n",
      "0.06534750393908922 None\n",
      "0.04271508082957701 None\n",
      "0.02162164850603416 None\n",
      "0.01995880542872932 None\n",
      "0.019916030312201814 None\n",
      "0.01991603427317925 None\n",
      "0.019926973677586376 None\n",
      "0.019935155198687902 None\n",
      "0.019924191998386347 None\n",
      "0.019925448852227287 None\n",
      "0.019982402134985408 None\n",
      "0.01991714795314796 None\n",
      "0.0199332526661539 None\n",
      "tf.Tensor(0.01992434033530284, shape=(), dtype=float64)\n",
      "0.01994357019732189 None\n"
     ]
    },
    {
     "data": {
      "application/vnd.jupyter.widget-view+json": {
       "model_id": "9ade0a6f137a48e3b410ab857cf42cdf",
       "version_major": 2,
       "version_minor": 0
      },
      "text/plain": [
       "  0%|          | 0/2000 [00:00<?, ?it/s]"
      ]
     },
     "metadata": {},
     "output_type": "display_data"
    },
    {
     "name": "stdout",
     "output_type": "stream",
     "text": [
      "0.23471707284232035 None\n",
      "0.20575231062897312 None\n",
      "0.17827375837675843 None\n",
      "0.1513397233359887 None\n",
      "0.1251104816006713 None\n",
      "0.09982893312665644 None\n",
      "0.07562130138170642 None\n",
      "0.05255303950116985 None\n",
      "0.030660913738088894 None\n",
      "0.013974012015718426 None\n",
      "0.013840600082708395 None\n",
      "0.013841300824707007 None\n",
      "0.013896798172009806 None\n",
      "0.013868669299855916 None\n",
      "0.013859644158919751 None\n",
      "0.01386171858731662 None\n",
      "0.013853543867739975 None\n",
      "0.013872663133283005 None\n",
      "0.01384273913950875 None\n",
      "0.013858534592038238 None\n",
      "tf.Tensor(0.01385275376338241, shape=(), dtype=float64)\n",
      "0.013861835827725643 None\n"
     ]
    },
    {
     "data": {
      "application/vnd.jupyter.widget-view+json": {
       "model_id": "2ada860976314fa29dd13d3034bcde2c",
       "version_major": 2,
       "version_minor": 0
      },
      "text/plain": [
       "  0%|          | 0/2000 [00:00<?, ?it/s]"
      ]
     },
     "metadata": {},
     "output_type": "display_data"
    },
    {
     "name": "stdout",
     "output_type": "stream",
     "text": [
      "0.24605451915172583 None\n",
      "0.21671464954442138 None\n",
      "0.18803341249884806 None\n",
      "0.16048856851650523 None\n",
      "0.13379928155466114 None\n",
      "0.10795924119092842 None\n",
      "0.08304680437720477 None\n",
      "0.059217105773525035 None\n",
      "0.0366406414812548 None\n",
      "0.015415837263320914 None\n",
      "0.012506486907105695 None\n",
      "0.012499026735467022 None\n",
      "0.012528986132921157 None\n",
      "0.012521596027549374 None\n",
      "0.012534760853876446 None\n",
      "0.012530232882514486 None\n",
      "0.012475310877383577 None\n",
      "0.012477726256169901 None\n",
      "0.012499934582795953 None\n",
      "0.012488859935863019 None\n",
      "tf.Tensor(0.012472883702689246, shape=(), dtype=float64)\n",
      "0.012490234635603144 None\n"
     ]
    },
    {
     "data": {
      "application/vnd.jupyter.widget-view+json": {
       "model_id": "9e5cabe5068642a6a163d56b302b3105",
       "version_major": 2,
       "version_minor": 0
      },
      "text/plain": [
       "  0%|          | 0/2000 [00:00<?, ?it/s]"
      ]
     },
     "metadata": {},
     "output_type": "display_data"
    },
    {
     "name": "stdout",
     "output_type": "stream",
     "text": [
      "0.22964555527784145 None\n",
      "0.2014090145261489 None\n",
      "0.17374228306591577 None\n",
      "0.14674481156003738 None\n",
      "0.12055916606164224 None\n",
      "0.09532740036320961 None\n",
      "0.07117353570888259 None\n",
      "0.04819892076693657 None\n",
      "0.026455484322589554 None\n",
      "0.009234787915599492 None\n",
      "0.009199600284261754 None\n",
      "0.009216993031503503 None\n",
      "0.009219307219860801 None\n",
      "0.009243274846576237 None\n",
      "0.009202080424866145 None\n",
      "0.009208971426139198 None\n",
      "0.009212712860922184 None\n",
      "0.009197677136263153 None\n",
      "0.00922321929783178 None\n",
      "0.009202330504649988 None\n",
      "tf.Tensor(0.009200231084781916, shape=(), dtype=float64)\n",
      "0.009201863059220427 None\n"
     ]
    },
    {
     "data": {
      "application/vnd.jupyter.widget-view+json": {
       "model_id": "ea687d07d77647a18e6d9d8fbc822b6c",
       "version_major": 2,
       "version_minor": 0
      },
      "text/plain": [
       "  0%|          | 0/2000 [00:00<?, ?it/s]"
      ]
     },
     "metadata": {},
     "output_type": "display_data"
    },
    {
     "name": "stdout",
     "output_type": "stream",
     "text": [
      "0.22318370319521974 None\n",
      "0.19563000191240487 None\n",
      "0.1686812826460679 None\n",
      "0.1424221343814342 None\n",
      "0.11693161717209777 None\n",
      "0.09085981723562571 None\n",
      "0.06760241069745483 None\n",
      "0.045588849445599156 None\n",
      "0.02457097348488435 None\n",
      "0.007087290808931201 None\n",
      "0.006770788156407883 None\n",
      "0.006773141856969691 None\n",
      "0.006787934174227784 None\n",
      "0.006758057155166967 None\n",
      "0.006791522964172738 None\n",
      "0.0067687849187907274 None\n",
      "0.006798368008154603 None\n",
      "0.006748743114150781 None\n",
      "0.006761571679024199 None\n",
      "0.006744220940785459 None\n",
      "tf.Tensor(0.00674394192651202, shape=(), dtype=float64)\n",
      "0.006754361545495297 None\n"
     ]
    },
    {
     "data": {
      "application/vnd.jupyter.widget-view+json": {
       "model_id": "1dcf97fe2b6b4c119bae8af3537e45ec",
       "version_major": 2,
       "version_minor": 0
      },
      "text/plain": [
       "  0%|          | 0/2000 [00:00<?, ?it/s]"
      ]
     },
     "metadata": {},
     "output_type": "display_data"
    },
    {
     "name": "stdout",
     "output_type": "stream",
     "text": [
      "0.2251647628152517 None\n",
      "0.19784453565287716 None\n",
      "0.17082298400272214 None\n",
      "0.14431289873477066 None\n",
      "0.11852514769022691 None\n",
      "0.0937496000329294 None\n",
      "0.06997985751029151 None\n",
      "0.04748809488235173 None\n",
      "0.02615949459218457 None\n",
      "0.007151927353992305 None\n",
      "0.006674478415523115 None\n",
      "0.0067034748190737195 None\n",
      "0.006722113470560429 None\n",
      "0.006680729761216898 None\n",
      "0.006670461724249295 None\n",
      "0.006679684230246728 None\n",
      "0.0066957880628920295 None\n",
      "0.006732534053869057 None\n",
      "0.006694269429537852 None\n",
      "0.006673020407820579 None\n",
      "tf.Tensor(0.006682471774148444, shape=(), dtype=float64)\n",
      "0.006665026115558874 None\n"
     ]
    },
    {
     "data": {
      "application/vnd.jupyter.widget-view+json": {
       "model_id": "7a0ca371caf04c04af09ec3534a072e4",
       "version_major": 2,
       "version_minor": 0
      },
      "text/plain": [
       "  0%|          | 0/2000 [00:00<?, ?it/s]"
      ]
     },
     "metadata": {},
     "output_type": "display_data"
    },
    {
     "name": "stdout",
     "output_type": "stream",
     "text": [
      "0.21898584332810705 None\n",
      "0.1915827776884341 None\n",
      "0.1649128450513167 None\n",
      "0.13895378920062362 None\n",
      "0.11377061297036825 None\n",
      "0.0894705966674076 None\n",
      "0.06584045487164036 None\n",
      "0.04364468352809894 None\n",
      "0.022512125721419182 None\n",
      "0.002476358588126894 None\n",
      "0.00150622113054554 None\n",
      "0.0015160601004390196 None\n",
      "0.0015170222138733893 None\n",
      "0.001508800396984894 None\n",
      "0.0015086376157778508 None\n",
      "0.0015394997253786284 None\n",
      "0.0015138189055915584 None\n",
      "0.0016039432310993949 None\n",
      "0.0015490074444092332 None\n",
      "0.0015092051687217028 None\n",
      "tf.Tensor(0.0016091874552522749, shape=(), dtype=float64)\n",
      "0.0015869417246655425 None\n"
     ]
    },
    {
     "data": {
      "application/vnd.jupyter.widget-view+json": {
       "model_id": "383b2bed5d33470c89b9c1bddc80bd69",
       "version_major": 2,
       "version_minor": 0
      },
      "text/plain": [
       "  0%|          | 0/2000 [00:00<?, ?it/s]"
      ]
     },
     "metadata": {},
     "output_type": "display_data"
    },
    {
     "name": "stdout",
     "output_type": "stream",
     "text": [
      "0.2027981455684924 None\n",
      "0.17691862632413446 None\n",
      "0.1514636009314192 None\n",
      "0.12668171175240733 None\n",
      "0.10255019885568306 None\n",
      "0.08006814352211727 None\n",
      "0.057365320875315276 None\n",
      "0.03561006351355407 None\n",
      "0.014875094397058447 None\n",
      "0.003085793432838501 None\n",
      "0.0030142022112578555 None\n",
      "0.0030060999866225856 None\n",
      "0.0030103329574686106 None\n",
      "0.0030204832849595065 None\n",
      "0.0030439694601410872 None\n",
      "0.0030142395839574954 None\n",
      "0.0030143637713913717 None\n",
      "0.0030265263318348754 None\n",
      "0.0030447179345368808 None\n",
      "0.0030586543802262126 None\n",
      "tf.Tensor(0.0030785623979902536, shape=(), dtype=float64)\n",
      "0.003081218866133644 None\n"
     ]
    },
    {
     "data": {
      "application/vnd.jupyter.widget-view+json": {
       "model_id": "fa6967193c70481aa8554d2818f431cd",
       "version_major": 2,
       "version_minor": 0
      },
      "text/plain": [
       "  0%|          | 0/2000 [00:00<?, ?it/s]"
      ]
     },
     "metadata": {},
     "output_type": "display_data"
    },
    {
     "name": "stdout",
     "output_type": "stream",
     "text": [
      "0.2147360938367166 None\n",
      "0.1882486512161487 None\n",
      "0.16214821430203147 None\n",
      "0.13663874561508255 None\n",
      "0.1118400452568678 None\n",
      "0.08784590991523701 None\n",
      "0.06474930996344666 None\n",
      "0.04263070321817361 None\n",
      "0.021549642237952325 None\n",
      "0.0050914316342538495 None\n",
      "0.004999149508831208 None\n",
      "0.005017243840874399 None\n",
      "0.00500508418195271 None\n",
      "0.0050252644019383175 None\n",
      "0.004988069911670738 None\n",
      "0.004979024204500112 None\n",
      "0.004995267586839035 None\n",
      "0.004989890059204886 None\n",
      "0.0050102887208077675 None\n",
      "0.005014197584251241 None\n",
      "tf.Tensor(0.004981709858968441, shape=(), dtype=float64)\n",
      "0.004990962640713293 None\n"
     ]
    },
    {
     "data": {
      "application/vnd.jupyter.widget-view+json": {
       "model_id": "6539a5915e0d46bc8ba3942923358011",
       "version_major": 2,
       "version_minor": 0
      },
      "text/plain": [
       "  0%|          | 0/2000 [00:00<?, ?it/s]"
      ]
     },
     "metadata": {},
     "output_type": "display_data"
    },
    {
     "name": "stdout",
     "output_type": "stream",
     "text": [
      "0.21332102444563275 None\n",
      "0.18690192582091927 None\n",
      "0.16077124831609974 None\n",
      "0.135155535229638 None\n",
      "0.11020014442430365 None\n",
      "0.08615359912514474 None\n",
      "0.06317917618309776 None\n",
      "0.04119861891304069 None\n",
      "0.020252962224384163 None\n",
      "0.003924811796073593 None\n",
      "0.0038207655540786287 None\n",
      "0.003815862258748739 None\n",
      "0.003820973471591037 None\n",
      "0.0038194617404744106 None\n",
      "0.0038153778562225234 None\n",
      "0.003820325708038315 None\n",
      "0.0038243396653931637 None\n",
      "0.003849247723402959 None\n",
      "0.003824486971492491 None\n",
      "0.003845070425802498 None\n",
      "tf.Tensor(0.0038187570613234436, shape=(), dtype=float64)\n",
      "0.003814604901763361 None\n"
     ]
    },
    {
     "data": {
      "application/vnd.jupyter.widget-view+json": {
       "model_id": "9749030a064545298d2c88de7f70c117",
       "version_major": 2,
       "version_minor": 0
      },
      "text/plain": [
       "  0%|          | 0/2000 [00:00<?, ?it/s]"
      ]
     },
     "metadata": {},
     "output_type": "display_data"
    },
    {
     "name": "stdout",
     "output_type": "stream",
     "text": [
      "0.206236389002684 None\n",
      "0.1804059060542292 None\n",
      "0.15491922575386854 None\n",
      "0.12989480867821282 None\n",
      "0.10547379216404124 None\n",
      "0.081791108284682 None\n",
      "0.05896129652822858 None\n",
      "0.03707452886953212 None\n",
      "0.015894528843462263 None\n",
      "0.002048923451547162 None\n",
      "0.0020361293702114494 None\n",
      "0.002009853752685387 None\n",
      "0.0020040149553713915 None\n",
      "0.0020113552924335715 None\n",
      "0.002008673292022539 None\n",
      "0.002058353835363227 None\n",
      "0.0020130484588731234 None\n",
      "0.0020110834618803034 None\n",
      "0.00201393459940424 None\n",
      "0.002031018126988528 None\n",
      "tf.Tensor(0.002015111419969238, shape=(), dtype=float64)\n",
      "0.0020052365945797037 None\n"
     ]
    },
    {
     "data": {
      "application/vnd.jupyter.widget-view+json": {
       "model_id": "1d44b79915094daca123d6bd1b6d3d2a",
       "version_major": 2,
       "version_minor": 0
      },
      "text/plain": [
       "  0%|          | 0/2000 [00:00<?, ?it/s]"
      ]
     },
     "metadata": {},
     "output_type": "display_data"
    },
    {
     "name": "stdout",
     "output_type": "stream",
     "text": [
      "0.21443733024741535 None\n",
      "0.1882311948844411 None\n",
      "0.16224252813228968 None\n",
      "0.1366489191332352 None\n",
      "0.11185628733438013 None\n",
      "0.08752224954512533 None\n",
      "0.06414505179521018 None\n",
      "0.04190043293190651 None\n",
      "0.020837475459123976 None\n",
      "0.001461980112830526 None\n",
      "0.001234235262740701 None\n",
      "0.0012653615523663623 None\n",
      "0.0012194703875377053 None\n",
      "0.0012333745154750383 None\n",
      "0.0012323421139201502 None\n",
      "0.0012625662655260921 None\n",
      "0.0012436975680823626 None\n",
      "0.0012307540241207685 None\n",
      "0.0012343042219333852 None\n",
      "0.0012190037907419543 None\n",
      "tf.Tensor(0.0012202333188355528, shape=(), dtype=float64)\n",
      "0.0012426373388849648 None\n"
     ]
    },
    {
     "data": {
      "application/vnd.jupyter.widget-view+json": {
       "model_id": "54423b8bd31743e59f35cd278063976d",
       "version_major": 2,
       "version_minor": 0
      },
      "text/plain": [
       "  0%|          | 0/2000 [00:00<?, ?it/s]"
      ]
     },
     "metadata": {},
     "output_type": "display_data"
    },
    {
     "name": "stdout",
     "output_type": "stream",
     "text": [
      "0.21164876476888914 None\n",
      "0.18543136684536063 None\n",
      "0.15949531204815415 None\n",
      "0.13404124487196958 None\n",
      "0.10923660797038479 None\n",
      "0.08523916437704984 None\n",
      "0.062192827252503496 None\n",
      "0.04020216140701119 None\n",
      "0.019327937829427717 None\n",
      "0.0026627180306272435 None\n",
      "0.0024405570465919346 None\n",
      "0.002450063912251931 None\n",
      "0.002484921416062068 None\n",
      "0.0024856866398651496 None\n",
      "0.0024754746293026847 None\n",
      "0.002449126496552755 None\n",
      "0.0024755440662736616 None\n",
      "0.00247837837879597 None\n",
      "0.002447669098764385 None\n",
      "0.002465085873094434 None\n",
      "tf.Tensor(0.0024457762827132835, shape=(), dtype=float64)\n",
      "0.0024591214745325017 None\n",
      "Done!\n"
     ]
    },
    {
     "data": {
      "application/vnd.jupyter.widget-view+json": {
       "model_id": "a16b1a278fc548729c03ea04d7b6158b",
       "version_major": 2,
       "version_minor": 0
      },
      "text/plain": [
       "  0%|          | 0/2000 [00:00<?, ?it/s]"
      ]
     },
     "metadata": {},
     "output_type": "display_data"
    },
    {
     "name": "stdout",
     "output_type": "stream",
     "text": [
      "0.28096084761213724 None\n",
      "0.2575418115932604 None\n",
      "0.21945415302475657 None\n",
      "0.18195400426425423 None\n",
      "0.1465596650567129 None\n",
      "0.11261896582645589 None\n",
      "0.08252235309819708 None\n",
      "0.05616025143731344 None\n",
      "0.034378377664896834 None\n",
      "0.03396300059762768 None\n",
      "0.033962273999775604 None\n",
      "0.03395241818523926 None\n",
      "0.03395878817813228 None\n",
      "0.033976040051675295 None\n",
      "0.033995035618650554 None\n",
      "0.03395396140802599 None\n",
      "0.03397018785250917 None\n",
      "0.03395034427090325 None\n",
      "0.03398164238952212 None\n",
      "0.033970137345192775 None\n",
      "tf.Tensor(0.033955197970400794, shape=(), dtype=float64)\n",
      "0.03398785581169444 None\n"
     ]
    },
    {
     "data": {
      "application/vnd.jupyter.widget-view+json": {
       "model_id": "f29f6f8fb943466189912e543b6c84f7",
       "version_major": 2,
       "version_minor": 0
      },
      "text/plain": [
       "  0%|          | 0/2000 [00:00<?, ?it/s]"
      ]
     },
     "metadata": {},
     "output_type": "display_data"
    },
    {
     "name": "stdout",
     "output_type": "stream",
     "text": [
      "0.2680359568244082 None\n",
      "0.23144364854450286 None\n",
      "0.1990069795235475 None\n",
      "0.16872419422797175 None\n",
      "0.14010674380684374 None\n",
      "0.11481344499348745 None\n",
      "0.09172442095449114 None\n",
      "0.07002863353677519 None\n",
      "0.049081303300257145 None\n",
      "0.028697642840525464 None\n",
      "0.01539973323717066 None\n",
      "0.015275446657724852 None\n",
      "0.015278323138458203 None\n",
      "0.015289269113576882 None\n",
      "0.015269004197117877 None\n",
      "0.015296740329823352 None\n",
      "0.015260828527257925 None\n",
      "0.015267880824510482 None\n",
      "0.015267870608488231 None\n",
      "0.015263391629761376 None\n",
      "tf.Tensor(0.01530165615992157, shape=(), dtype=float64)\n",
      "0.01530489020469765 None\n"
     ]
    },
    {
     "data": {
      "application/vnd.jupyter.widget-view+json": {
       "model_id": "b6a7d8d56bb24aba8171ddbd77201125",
       "version_major": 2,
       "version_minor": 0
      },
      "text/plain": [
       "  0%|          | 0/2000 [00:00<?, ?it/s]"
      ]
     },
     "metadata": {},
     "output_type": "display_data"
    },
    {
     "name": "stdout",
     "output_type": "stream",
     "text": [
      "0.2445799318427863 None\n",
      "0.2146038098981431 None\n",
      "0.18563476484984726 None\n",
      "0.15791867079436595 None\n",
      "0.13045888438424968 None\n",
      "0.10510651617053361 None\n",
      "0.08086821585252264 None\n",
      "0.057727596830221974 None\n",
      "0.0357559598309865 None\n",
      "0.015208490696033833 None\n",
      "0.01027399309854226 None\n",
      "0.010262646111093749 None\n",
      "0.010244552419290447 None\n",
      "0.010241610540523548 None\n",
      "0.010279930898862113 None\n",
      "0.010254992616070758 None\n",
      "0.01025472094840444 None\n",
      "0.010277221215252066 None\n",
      "0.010241224812155808 None\n",
      "0.010254533076106347 None\n",
      "tf.Tensor(0.010259121601428854, shape=(), dtype=float64)\n",
      "0.010240918707041479 None\n"
     ]
    },
    {
     "data": {
      "application/vnd.jupyter.widget-view+json": {
       "model_id": "07270c50c3654f4f97a46c9cf6058c56",
       "version_major": 2,
       "version_minor": 0
      },
      "text/plain": [
       "  0%|          | 0/2000 [00:00<?, ?it/s]"
      ]
     },
     "metadata": {},
     "output_type": "display_data"
    },
    {
     "name": "stdout",
     "output_type": "stream",
     "text": [
      "0.240661025884073 None\n",
      "0.21103853358150929 None\n",
      "0.18172120101923805 None\n",
      "0.1541159660147591 None\n",
      "0.1277682453167399 None\n",
      "0.10625652723568584 None\n",
      "0.08155445187001908 None\n",
      "0.05805562602155642 None\n",
      "0.03571509311002295 None\n",
      "0.014561497951173959 None\n",
      "0.010113131265302725 None\n",
      "0.01008218320968839 None\n",
      "0.010093356540786653 None\n",
      "0.010082598838260935 None\n",
      "0.010104603733804056 None\n",
      "0.010078526499377516 None\n",
      "0.010101518812995765 None\n",
      "0.010132365224743228 None\n",
      "0.010132935024636292 None\n",
      "0.010081192721626758 None\n",
      "tf.Tensor(0.010090492606145949, shape=(), dtype=float64)\n",
      "0.01010502321493623 None\n"
     ]
    },
    {
     "data": {
      "application/vnd.jupyter.widget-view+json": {
       "model_id": "ff95a731308b49e2a315f651abbf6c96",
       "version_major": 2,
       "version_minor": 0
      },
      "text/plain": [
       "  0%|          | 0/2000 [00:00<?, ?it/s]"
      ]
     },
     "metadata": {},
     "output_type": "display_data"
    },
    {
     "name": "stdout",
     "output_type": "stream",
     "text": [
      "0.22448885184958145 None\n",
      "0.1954355506340775 None\n",
      "0.1682671470523759 None\n",
      "0.14183647864444351 None\n",
      "0.11626958620768424 None\n",
      "0.09182323740828935 None\n",
      "0.06843143335491901 None\n",
      "0.046114665410978646 None\n",
      "0.024892060585720736 None\n",
      "0.004751680440514636 None\n",
      "0.0044043838488333435 None\n",
      "0.004413134162285334 None\n",
      "0.004398607094230875 None\n",
      "0.004403237564873248 None\n",
      "0.0044105424623131165 None\n",
      "0.004404889705086651 None\n",
      "0.004429747644127983 None\n",
      "0.004415956133202514 None\n",
      "0.004401078025642673 None\n",
      "0.0044127562662346145 None\n",
      "tf.Tensor(0.004405702117281807, shape=(), dtype=float64)\n",
      "0.004413029752862455 None\n"
     ]
    },
    {
     "data": {
      "application/vnd.jupyter.widget-view+json": {
       "model_id": "2b383f2d3a994023ad6a1da62d2fbf1e",
       "version_major": 2,
       "version_minor": 0
      },
      "text/plain": [
       "  0%|          | 0/2000 [00:00<?, ?it/s]"
      ]
     },
     "metadata": {},
     "output_type": "display_data"
    },
    {
     "name": "stdout",
     "output_type": "stream",
     "text": [
      "0.22702708234171656 None\n",
      "0.1991780460431601 None\n",
      "0.1721802560210895 None\n",
      "0.14597480456404618 None\n",
      "0.11996259109393495 None\n",
      "0.0960463508711729 None\n",
      "0.07303005907483377 None\n",
      "0.05084160351148255 None\n",
      "0.030381801939726394 None\n",
      "0.009892142515651561 None\n",
      "0.005141413772726431 None\n",
      "0.005111039080512624 None\n",
      "0.005124142724675826 None\n",
      "0.005128782404014869 None\n",
      "0.0051090630480933145 None\n",
      "0.005122697715434048 None\n",
      "0.005107736646771827 None\n",
      "0.005109294154651427 None\n",
      "0.005157745434162277 None\n",
      "0.005111623003941154 None\n",
      "tf.Tensor(0.005105822039759714, shape=(), dtype=float64)\n",
      "0.005113813064976854 None\n"
     ]
    },
    {
     "data": {
      "application/vnd.jupyter.widget-view+json": {
       "model_id": "e32162d8d1a3418ba543ba7e66c8c5a8",
       "version_major": 2,
       "version_minor": 0
      },
      "text/plain": [
       "  0%|          | 0/2000 [00:00<?, ?it/s]"
      ]
     },
     "metadata": {},
     "output_type": "display_data"
    },
    {
     "name": "stdout",
     "output_type": "stream",
     "text": [
      "0.2187202061902799 None\n",
      "0.19185762421463043 None\n",
      "0.16528045595997998 None\n",
      "0.13917043868049403 None\n",
      "0.11380041129394068 None\n",
      "0.08946419869472774 None\n",
      "0.06625115675919319 None\n",
      "0.044149039932912824 None\n",
      "0.025262662037151745 None\n",
      "0.005857499274205074 None\n",
      "0.005606074648224822 None\n",
      "0.005591593895152975 None\n",
      "0.0056138747892430126 None\n",
      "0.005605273684999015 None\n",
      "0.005601502609166344 None\n",
      "0.005668968115943191 None\n",
      "0.005606848786175721 None\n",
      "0.005652092295466043 None\n",
      "0.005630130668421544 None\n",
      "0.005618830813371844 None\n",
      "tf.Tensor(0.005611216690837176, shape=(), dtype=float64)\n",
      "0.005594197361033651 None\n"
     ]
    },
    {
     "data": {
      "application/vnd.jupyter.widget-view+json": {
       "model_id": "7f19f5a3f4a64cdcb45208fb2ddc9953",
       "version_major": 2,
       "version_minor": 0
      },
      "text/plain": [
       "  0%|          | 0/2000 [00:00<?, ?it/s]"
      ]
     },
     "metadata": {},
     "output_type": "display_data"
    },
    {
     "name": "stdout",
     "output_type": "stream",
     "text": [
      "0.2171911706051174 None\n",
      "0.1906755752916291 None\n",
      "0.16394678486337966 None\n",
      "0.13832501597333283 None\n",
      "0.11307455480690445 None\n",
      "0.08915089892569619 None\n",
      "0.06611029775178937 None\n",
      "0.04402601524541101 None\n",
      "0.02297125660832247 None\n",
      "0.0043391955444956505 None\n",
      "0.003870182679062001 None\n",
      "0.003876545404916701 None\n",
      "0.003863167962786936 None\n",
      "0.0038794527776844796 None\n",
      "0.0038688868404014257 None\n",
      "0.0038842077798785513 None\n",
      "0.0038674085677442276 None\n",
      "0.0038722974789476665 None\n",
      "0.0038833160792279 None\n",
      "0.0038918571465250823 None\n",
      "tf.Tensor(0.0039011499420450717, shape=(), dtype=float64)\n",
      "0.0038884632783229966 None\n"
     ]
    },
    {
     "data": {
      "application/vnd.jupyter.widget-view+json": {
       "model_id": "319a80b9697e48f9b963749f9fa0b110",
       "version_major": 2,
       "version_minor": 0
      },
      "text/plain": [
       "  0%|          | 0/2000 [00:00<?, ?it/s]"
      ]
     },
     "metadata": {},
     "output_type": "display_data"
    },
    {
     "name": "stdout",
     "output_type": "stream",
     "text": [
      "0.2203042505054878 None\n",
      "0.19289663426704895 None\n",
      "0.16602543578886625 None\n",
      "0.139958086108881 None\n",
      "0.11462733161427524 None\n",
      "0.0901485645569225 None\n",
      "0.06665806197189761 None\n",
      "0.04429940371585919 None\n",
      "0.023120988841469865 None\n",
      "0.0035234625015012726 None\n",
      "0.00019884017797526868 None\n",
      "0.00022742261728287902 None\n",
      "0.00018427998993914702 None\n",
      "0.0001851166731724526 None\n",
      "0.00021752249781730598 None\n",
      "0.00022643767996562147 None\n",
      "0.00019273205853429648 None\n",
      "0.0002554375738807492 None\n",
      "0.0002475852877794147 None\n",
      "0.00018578167328162434 None\n",
      "tf.Tensor(0.00019959586625206, shape=(), dtype=float64)\n",
      "0.00020639619303989762 None\n"
     ]
    },
    {
     "data": {
      "application/vnd.jupyter.widget-view+json": {
       "model_id": "b3b1a9889d694c85b1cb86e671da2ede",
       "version_major": 2,
       "version_minor": 0
      },
      "text/plain": [
       "  0%|          | 0/2000 [00:00<?, ?it/s]"
      ]
     },
     "metadata": {},
     "output_type": "display_data"
    },
    {
     "name": "stdout",
     "output_type": "stream",
     "text": [
      "0.21655645936694304 None\n",
      "0.1898780630937359 None\n",
      "0.16311938828063205 None\n",
      "0.13740446085133093 None\n",
      "0.11228951588898209 None\n",
      "0.0878969230270603 None\n",
      "0.06433032706121233 None\n",
      "0.041685883087289224 None\n",
      "0.02053253468566573 None\n",
      "0.0008544766515753716 None\n",
      "0.00021560010535099684 None\n",
      "0.0002587017496321186 None\n",
      "0.00023514093214863606 None\n",
      "0.00022174323468682547 None\n",
      "0.00022435414385159856 None\n",
      "0.0002220658891949577 None\n",
      "0.00024849324838344643 None\n",
      "0.00021400237632964933 None\n",
      "0.00025807859719387087 None\n",
      "0.0002178128706287405 None\n",
      "tf.Tensor(0.00022131287667330989, shape=(), dtype=float64)\n",
      "0.00022107979246575524 None\n"
     ]
    },
    {
     "data": {
      "application/vnd.jupyter.widget-view+json": {
       "model_id": "782e10ecf17c449eb5f5b5ef5a2c36cb",
       "version_major": 2,
       "version_minor": 0
      },
      "text/plain": [
       "  0%|          | 0/2000 [00:00<?, ?it/s]"
      ]
     },
     "metadata": {},
     "output_type": "display_data"
    },
    {
     "name": "stdout",
     "output_type": "stream",
     "text": [
      "0.21171034012555076 None\n",
      "0.185368027252071 None\n",
      "0.1636505861869578 None\n",
      "0.13788051731326526 None\n",
      "0.11271566912098559 None\n",
      "0.08834419484128855 None\n",
      "0.06498820827268825 None\n",
      "0.04279861426468659 None\n",
      "0.021705368368014732 None\n",
      "0.0017165839446000915 None\n",
      "0.0011144129409687061 None\n",
      "0.0011205667236957179 None\n",
      "0.0011317242084317673 None\n",
      "0.0012017367304236262 None\n",
      "0.0011654803141353566 None\n",
      "0.0011194618967140559 None\n",
      "0.0011193594195207275 None\n",
      "0.00112529174094457 None\n",
      "0.0011661403878376626 None\n",
      "0.0011096549066204296 None\n",
      "tf.Tensor(0.0011260696276027028, shape=(), dtype=float64)\n",
      "0.0011007540240089587 None\n"
     ]
    },
    {
     "data": {
      "application/vnd.jupyter.widget-view+json": {
       "model_id": "70fbe607b1b4488a8b353da44c0ff148",
       "version_major": 2,
       "version_minor": 0
      },
      "text/plain": [
       "  0%|          | 0/2000 [00:00<?, ?it/s]"
      ]
     },
     "metadata": {},
     "output_type": "display_data"
    },
    {
     "name": "stdout",
     "output_type": "stream",
     "text": [
      "0.21872025272009257 None\n",
      "0.19213226191136754 None\n",
      "0.16585542857887287 None\n",
      "0.13995066951324936 None\n",
      "0.11459166882480465 None\n",
      "0.0899781757745118 None\n",
      "0.06642441961658879 None\n",
      "0.04411581760417681 None\n",
      "0.02297052055729642 None\n",
      "0.0029585541366098506 None\n",
      "0.00029371394726416394 None\n",
      "0.0002691233333031208 None\n",
      "0.0002594154896128631 None\n",
      "0.00027965413951098507 None\n",
      "0.0002576272253505679 None\n",
      "0.0002607687115532952 None\n",
      "0.00026822997095705264 None\n",
      "0.00030253514167794676 None\n",
      "0.0002718407287576798 None\n",
      "0.00027032152538698957 None\n",
      "tf.Tensor(0.00026161682421775405, shape=(), dtype=float64)\n",
      "0.00026216458004541844 None\n",
      "Done!\n"
     ]
    },
    {
     "data": {
      "application/vnd.jupyter.widget-view+json": {
       "model_id": "4325db6bc0a641f68cfc304deda8b804",
       "version_major": 2,
       "version_minor": 0
      },
      "text/plain": [
       "  0%|          | 0/2000 [00:00<?, ?it/s]"
      ]
     },
     "metadata": {},
     "output_type": "display_data"
    },
    {
     "name": "stdout",
     "output_type": "stream",
     "text": [
      "0.2512331302875195 None\n",
      "0.2325067791235637 None\n",
      "0.1897441467866091 None\n",
      "0.14884947711815127 None\n",
      "0.11609797465703298 None\n",
      "0.08543388050315556 None\n",
      "0.056639526025671336 None\n",
      "0.03581994367717172 None\n",
      "0.03544719742875415 None\n",
      "0.03546945611958771 None\n",
      "0.03547549740957128 None\n",
      "0.03547364218145334 None\n",
      "0.03546723312207866 None\n",
      "0.03545444930557661 None\n",
      "0.035456816779045656 None\n",
      "0.03548543403372636 None\n",
      "0.035454671103695996 None\n",
      "0.03549028415990663 None\n",
      "0.035453653075511155 None\n",
      "0.035464548901267795 None\n",
      "tf.Tensor(0.03549169474625248, shape=(), dtype=float64)\n",
      "0.03547384947110186 None\n"
     ]
    },
    {
     "data": {
      "application/vnd.jupyter.widget-view+json": {
       "model_id": "fb7e4ace7b39449493df83e949c60be6",
       "version_major": 2,
       "version_minor": 0
      },
      "text/plain": [
       "  0%|          | 0/2000 [00:00<?, ?it/s]"
      ]
     },
     "metadata": {},
     "output_type": "display_data"
    },
    {
     "name": "stdout",
     "output_type": "stream",
     "text": [
      "0.2856374027860076 None\n",
      "0.2508529664968947 None\n",
      "0.2142673851709792 None\n",
      "0.18619268029813896 None\n",
      "0.1558280401384229 None\n",
      "0.12779397276560092 None\n",
      "0.10144037448774978 None\n",
      "0.07666374093428477 None\n",
      "0.05337161635052939 None\n",
      "0.03144507343227786 None\n",
      "0.02705568905496182 None\n",
      "0.027058525475751036 None\n",
      "0.02704385069258626 None\n",
      "0.027052427954234126 None\n",
      "0.027100609920792995 None\n",
      "0.027067228967006605 None\n",
      "0.0270501366137288 None\n",
      "0.027069830033864727 None\n",
      "0.027037632599603796 None\n",
      "0.027055043762289135 None\n",
      "tf.Tensor(0.027054309864113273, shape=(), dtype=float64)\n",
      "0.02704041674169358 None\n"
     ]
    },
    {
     "data": {
      "application/vnd.jupyter.widget-view+json": {
       "model_id": "5ed4a4143d064448b5fcd5165a680239",
       "version_major": 2,
       "version_minor": 0
      },
      "text/plain": [
       "  0%|          | 0/2000 [00:00<?, ?it/s]"
      ]
     },
     "metadata": {},
     "output_type": "display_data"
    },
    {
     "name": "stdout",
     "output_type": "stream",
     "text": [
      "0.23610427142599516 None\n",
      "0.20686743611018085 None\n",
      "0.17818361482496944 None\n",
      "0.15012768458147266 None\n",
      "0.12291516457216126 None\n",
      "0.09681576146518012 None\n",
      "0.07197798386319017 None\n",
      "0.04844994547619728 None\n",
      "0.026238897093242362 None\n",
      "0.014717704377001357 None\n",
      "0.01468431524838018 None\n",
      "0.014693529485433314 None\n",
      "0.014685737020104532 None\n",
      "0.014695543733450037 None\n",
      "0.0146958015111534 None\n",
      "0.014703973909866318 None\n",
      "0.014682749698465796 None\n",
      "0.014686862786506086 None\n",
      "0.01471071382292438 None\n",
      "0.014676726097418017 None\n",
      "tf.Tensor(0.01470637179726198, shape=(), dtype=float64)\n",
      "0.014685865083055005 None\n"
     ]
    },
    {
     "data": {
      "application/vnd.jupyter.widget-view+json": {
       "model_id": "8f91c49e1cc845ad9031cc2787e53b69",
       "version_major": 2,
       "version_minor": 0
      },
      "text/plain": [
       "  0%|          | 0/2000 [00:00<?, ?it/s]"
      ]
     },
     "metadata": {},
     "output_type": "display_data"
    },
    {
     "name": "stdout",
     "output_type": "stream",
     "text": [
      "0.23054978573471016 None\n",
      "0.20117011831704038 None\n",
      "0.1724413572262937 None\n",
      "0.14449392970998234 None\n",
      "0.11780092593482824 None\n",
      "0.09248149978266909 None\n",
      "0.06828660347806494 None\n",
      "0.04575931296278897 None\n",
      "0.024680601183331673 None\n",
      "0.008865683972446877 None\n",
      "0.008621519927416743 None\n",
      "0.00864087577900048 None\n",
      "0.008638730108094449 None\n",
      "0.00862714709319651 None\n",
      "0.008633862424248332 None\n",
      "0.008632441765509287 None\n",
      "0.008643813241313603 None\n",
      "0.008622147822431281 None\n",
      "0.008648623000165544 None\n",
      "0.008650752104617672 None\n",
      "tf.Tensor(0.008628162807863273, shape=(), dtype=float64)\n",
      "0.008637729855764763 None\n"
     ]
    },
    {
     "data": {
      "application/vnd.jupyter.widget-view+json": {
       "model_id": "4f207bdf800f4ec09866e1a64b633608",
       "version_major": 2,
       "version_minor": 0
      },
      "text/plain": [
       "  0%|          | 0/2000 [00:00<?, ?it/s]"
      ]
     },
     "metadata": {},
     "output_type": "display_data"
    },
    {
     "name": "stdout",
     "output_type": "stream",
     "text": [
      "0.23280246474744642 None\n",
      "0.20394304032793464 None\n",
      "0.17603828644664637 None\n",
      "0.14783407392711212 None\n",
      "0.12177009891221369 None\n",
      "0.09765100697274653 None\n",
      "0.07360012269113969 None\n",
      "0.050658815886106066 None\n",
      "0.028848163147943022 None\n",
      "0.01112223695999793 None\n",
      "0.010739355635229356 None\n",
      "0.010736135196758196 None\n",
      "0.010724641196032713 None\n",
      "0.010733468801328099 None\n",
      "0.010761926821766325 None\n",
      "0.01076846004109863 None\n",
      "0.010748395020182483 None\n",
      "0.01073415983543328 None\n",
      "0.01073872028488228 None\n",
      "0.010730251155129612 None\n",
      "tf.Tensor(0.010743683715021152, shape=(), dtype=float64)\n",
      "0.010721320985451041 None\n"
     ]
    },
    {
     "data": {
      "application/vnd.jupyter.widget-view+json": {
       "model_id": "a15f6a39e1d749d1901c0a04928609d7",
       "version_major": 2,
       "version_minor": 0
      },
      "text/plain": [
       "  0%|          | 0/2000 [00:00<?, ?it/s]"
      ]
     },
     "metadata": {},
     "output_type": "display_data"
    },
    {
     "name": "stdout",
     "output_type": "stream",
     "text": [
      "0.22329180101557103 None\n",
      "0.1945333542410972 None\n",
      "0.16625115622937187 None\n",
      "0.13924957694743306 None\n",
      "0.11372043240220402 None\n",
      "0.08913217228434285 None\n",
      "0.06509620997555181 None\n",
      "0.04293269213145569 None\n",
      "0.021814771290303157 None\n",
      "0.0048980610109827655 None\n",
      "0.004789868354320357 None\n",
      "0.0047984351031735775 None\n",
      "0.004785869572082296 None\n",
      "0.004784783483092969 None\n",
      "0.004821469803509872 None\n",
      "0.0047833918737460145 None\n",
      "0.0047974090166717324 None\n",
      "0.00478726820563914 None\n",
      "0.004796932050313325 None\n",
      "0.004783277727850517 None\n",
      "tf.Tensor(0.004819540102421324, shape=(), dtype=float64)\n",
      "0.004844900031904043 None\n"
     ]
    },
    {
     "data": {
      "application/vnd.jupyter.widget-view+json": {
       "model_id": "7d48b24145dc478087cd10cebf984777",
       "version_major": 2,
       "version_minor": 0
      },
      "text/plain": [
       "  0%|          | 0/2000 [00:00<?, ?it/s]"
      ]
     },
     "metadata": {},
     "output_type": "display_data"
    },
    {
     "name": "stdout",
     "output_type": "stream",
     "text": [
      "0.21790296583860608 None\n",
      "0.19051046864465104 None\n",
      "0.16336728074864484 None\n",
      "0.1368617858104474 None\n",
      "0.1112646290085097 None\n",
      "0.08668997469153224 None\n",
      "0.06319649426294967 None\n",
      "0.04079971453972258 None\n",
      "0.01949786089810384 None\n",
      "0.00565110692436132 None\n",
      "0.0056244131296350475 None\n",
      "0.005613156659879584 None\n",
      "0.005612716658981045 None\n",
      "0.0055931186978115145 None\n",
      "0.005590469592352364 None\n",
      "0.0055888362782899725 None\n",
      "0.005636578281806361 None\n",
      "0.0055797126680565 None\n",
      "0.005600982637051721 None\n",
      "0.005596030717694409 None\n",
      "tf.Tensor(0.005621748054637237, shape=(), dtype=float64)\n",
      "0.005599413923495054 None\n"
     ]
    },
    {
     "data": {
      "application/vnd.jupyter.widget-view+json": {
       "model_id": "6ed20f7dff214498ab278510ad56506c",
       "version_major": 2,
       "version_minor": 0
      },
      "text/plain": [
       "  0%|          | 0/2000 [00:00<?, ?it/s]"
      ]
     },
     "metadata": {},
     "output_type": "display_data"
    },
    {
     "name": "stdout",
     "output_type": "stream",
     "text": [
      "0.21152485066964785 None\n",
      "0.1848350151823077 None\n",
      "0.15801083382861913 None\n",
      "0.13219641439261443 None\n",
      "0.10712947562711984 None\n",
      "0.08291303277481978 None\n",
      "0.059611395209773106 None\n",
      "0.03731217040336632 None\n",
      "0.016089237314994093 None\n",
      "0.0020937335642500637 None\n",
      "0.001950175168277857 None\n",
      "0.0019413800177200836 None\n",
      "0.00193913647145302 None\n",
      "0.0019327292111105624 None\n",
      "0.0019261995110348429 None\n",
      "0.0019194560091426293 None\n",
      "0.0019409510171800731 None\n",
      "0.0019539383369990507 None\n",
      "0.001975527080262182 None\n",
      "0.0019689878181407758 None\n",
      "tf.Tensor(0.0019447360447743013, shape=(), dtype=float64)\n",
      "0.0019548299528441785 None\n"
     ]
    },
    {
     "data": {
      "application/vnd.jupyter.widget-view+json": {
       "model_id": "8e4e5a4f23ba4fc09ebf43548e54c98a",
       "version_major": 2,
       "version_minor": 0
      },
      "text/plain": [
       "  0%|          | 0/2000 [00:00<?, ?it/s]"
      ]
     },
     "metadata": {},
     "output_type": "display_data"
    },
    {
     "name": "stdout",
     "output_type": "stream",
     "text": [
      "0.2134101762381078 None\n",
      "0.18641378063888242 None\n",
      "0.15961640579070613 None\n",
      "0.13315730213095664 None\n",
      "0.10739669078124228 None\n",
      "0.08292231456122702 None\n",
      "0.05939363483416091 None\n",
      "0.03691541025065866 None\n",
      "0.0156303313777715 None\n",
      "0.0007278817282475227 None\n",
      "0.0006763815148137873 None\n",
      "0.0006876516828565986 None\n",
      "0.000693659164235437 None\n",
      "0.000671648056816198 None\n",
      "0.000714751732624027 None\n",
      "0.000697982565321954 None\n",
      "0.000683479233197986 None\n",
      "0.0006954680601710134 None\n",
      "0.0006760718974850744 None\n",
      "0.0006790170364400303 None\n",
      "tf.Tensor(0.0006781629055908171, shape=(), dtype=float64)\n",
      "0.0006981934276662233 None\n"
     ]
    },
    {
     "data": {
      "application/vnd.jupyter.widget-view+json": {
       "model_id": "afc42b7b6c104673b173f291eba24a0e",
       "version_major": 2,
       "version_minor": 0
      },
      "text/plain": [
       "  0%|          | 0/2000 [00:00<?, ?it/s]"
      ]
     },
     "metadata": {},
     "output_type": "display_data"
    },
    {
     "name": "stdout",
     "output_type": "stream",
     "text": [
      "0.21000026001461494 None\n",
      "0.1832331380582703 None\n",
      "0.15684135323021317 None\n",
      "0.1310422954360277 None\n",
      "0.10592532239379525 None\n",
      "0.08167683996705238 None\n",
      "0.05848601242565929 None\n",
      "0.03632610001068811 None\n",
      "0.01522868523098939 None\n",
      "0.001607743139757702 None\n",
      "0.0016138396854058698 None\n",
      "0.0016236830227847766 None\n",
      "0.0015826892625144511 None\n",
      "0.0015966137198277271 None\n",
      "0.0015732042234073533 None\n",
      "0.001583986684896222 None\n",
      "0.001572544255213814 None\n",
      "0.0016047100821330353 None\n",
      "0.0015815062642596748 None\n",
      "0.001579211594599941 None\n",
      "tf.Tensor(0.001603684430315817, shape=(), dtype=float64)\n",
      "0.0015791341706740732 None\n"
     ]
    },
    {
     "data": {
      "application/vnd.jupyter.widget-view+json": {
       "model_id": "357990efabe741268cdca78e6a38aa4b",
       "version_major": 2,
       "version_minor": 0
      },
      "text/plain": [
       "  0%|          | 0/2000 [00:00<?, ?it/s]"
      ]
     },
     "metadata": {},
     "output_type": "display_data"
    },
    {
     "name": "stdout",
     "output_type": "stream",
     "text": [
      "0.2117515491613706 None\n",
      "0.1852587399286362 None\n",
      "0.1589053331553641 None\n",
      "0.13293452964918004 None\n",
      "0.10783543694006129 None\n",
      "0.08363584772716802 None\n",
      "0.06033253728159289 None\n",
      "0.03802584847439344 None\n",
      "0.016796082242365007 None\n",
      "0.0034521909729075106 None\n",
      "0.0034512170630323427 None\n",
      "0.0034478029665249935 None\n",
      "0.0034287096789934694 None\n",
      "0.0034380666762854357 None\n",
      "0.0034827667882112237 None\n",
      "0.003453386678370177 None\n",
      "0.003465497703254246 None\n",
      "0.003450132148530037 None\n",
      "0.0034779416440234127 None\n",
      "0.0034494508874554665 None\n",
      "tf.Tensor(0.0034559065894372853, shape=(), dtype=float64)\n",
      "0.003465882352714526 None\n"
     ]
    },
    {
     "data": {
      "application/vnd.jupyter.widget-view+json": {
       "model_id": "e87585c836d34d6ab4b08c18ed3a40ff",
       "version_major": 2,
       "version_minor": 0
      },
      "text/plain": [
       "  0%|          | 0/2000 [00:00<?, ?it/s]"
      ]
     },
     "metadata": {},
     "output_type": "display_data"
    },
    {
     "name": "stdout",
     "output_type": "stream",
     "text": [
      "0.20506167036899534 None\n",
      "0.17874469419506503 None\n",
      "0.15282741089457302 None\n",
      "0.12739593216662257 None\n",
      "0.10257805344224895 None\n",
      "0.07780607653284373 None\n",
      "0.05585672548989632 None\n",
      "0.03361301993899761 None\n",
      "0.012481779817548238 None\n",
      "0.0005475222098814299 None\n",
      "0.00048426529294750414 None\n",
      "0.0004890668604054047 None\n",
      "0.0005098898169423795 None\n",
      "0.00044741701431329217 None\n",
      "0.00046648141040972306 None\n",
      "0.0004544404926327874 None\n",
      "0.0005167363314387465 None\n",
      "0.0004885006409775672 None\n",
      "0.00045202505491435084 None\n",
      "0.0004628324397754433 None\n",
      "tf.Tensor(0.00046436187394901553, shape=(), dtype=float64)\n",
      "0.0004714884227313542 None\n"
     ]
    },
    {
     "data": {
      "application/vnd.jupyter.widget-view+json": {
       "model_id": "c0114936d60d4dd9b68d0605897071cf",
       "version_major": 2,
       "version_minor": 0
      },
      "text/plain": [
       "  0%|          | 0/2000 [00:00<?, ?it/s]"
      ]
     },
     "metadata": {},
     "output_type": "display_data"
    },
    {
     "name": "stdout",
     "output_type": "stream",
     "text": [
      "0.21045703281862346 None\n",
      "0.18360803477505916 None\n",
      "0.1572531759637578 None\n",
      "0.13144043822832752 None\n",
      "0.10635646118260172 None\n",
      "0.08213645794913554 None\n",
      "0.05887801437163527 None\n",
      "0.03665261069299351 None\n",
      "0.015509754699543412 None\n",
      "0.0014195123203517967 None\n",
      "0.001330650820363299 None\n",
      "0.0013425445164969973 None\n",
      "0.0013175362382451573 None\n",
      "0.0013650195553545578 None\n",
      "0.001315638757736614 None\n",
      "0.001331039182865557 None\n",
      "0.0013459800773710957 None\n",
      "0.0013952736634889797 None\n",
      "0.0014162406715535897 None\n",
      "0.001368937199419178 None\n",
      "tf.Tensor(0.0013331377484719908, shape=(), dtype=float64)\n",
      "0.0013090477734677055 None\n",
      "Done!\n"
     ]
    }
   ],
   "source": [
    "n = 3\n",
    "d = 2**n\n",
    "\n",
    "np.random.seed(42)\n",
    "random.seed(42)\n",
    "tf.random.set_seed(42)\n",
    "rng = np.random.default_rng(seed=42)\n",
    "\n",
    "distance_best_list, model_best_list = fit_diluted_unitary(spectrum_target_list1, \n",
    "                                                          d=d, \n",
    "                                                          rank_start = 1,\n",
    "                                                          rank_step = 1,\n",
    "                                                          num_iter = 2000,\n",
    "                                                         )\n",
    "\n",
    "saver([distance_best_list, model_best_list], data_path(\"diluted_fitting_8layer.model\"))"
   ]
  },
  {
   "cell_type": "code",
   "execution_count": 9,
   "metadata": {
    "scrolled": true
   },
   "outputs": [
    {
     "data": {
      "application/vnd.jupyter.widget-view+json": {
       "model_id": "de1c9baebbd34ef2952cf56c5298fad6",
       "version_major": 2,
       "version_minor": 0
      },
      "text/plain": [
       "  0%|          | 0/10 [00:00<?, ?it/s]"
      ]
     },
     "metadata": {},
     "output_type": "display_data"
    },
    {
     "data": {
      "application/vnd.jupyter.widget-view+json": {
       "model_id": "17d8975e4a134182b2da4fc69c896d75",
       "version_major": 2,
       "version_minor": 0
      },
      "text/plain": [
       "  0%|          | 0/2000 [00:00<?, ?it/s]"
      ]
     },
     "metadata": {},
     "output_type": "display_data"
    },
    {
     "name": "stdout",
     "output_type": "stream",
     "text": [
      "0.030664040201703085 None\n",
      "0.013954304369126824 None\n",
      "0.013959643656396823 None\n",
      "0.013965895923429537 None\n",
      "0.013955371815343828 None\n",
      "0.013961491177850213 None\n",
      "0.014056043336693861 None\n",
      "0.01393558744957303 None\n",
      "0.013932041379606595 None\n",
      "0.01398332995701624 None\n",
      "0.013957166428553058 None\n",
      "0.013983271769607817 None\n",
      "0.013957204663600776 None\n",
      "0.013945864659057436 None\n",
      "0.01400689091786108 None\n",
      "0.013941612167948467 None\n",
      "0.01395837177508892 None\n",
      "0.013932153288156394 None\n",
      "0.01394601365950704 None\n",
      "0.013957190202247186 None\n",
      "tf.Tensor(0.013987151642589568, shape=(), dtype=float64)\n",
      "0.013968119271271059 None\n"
     ]
    },
    {
     "data": {
      "application/vnd.jupyter.widget-view+json": {
       "model_id": "3bbad79ca24140a3875510940e4866f1",
       "version_major": 2,
       "version_minor": 0
      },
      "text/plain": [
       "  0%|          | 0/2000 [00:00<?, ?it/s]"
      ]
     },
     "metadata": {},
     "output_type": "display_data"
    },
    {
     "name": "stdout",
     "output_type": "stream",
     "text": [
      "0.014501614832970681 None\n",
      "0.01061894760930026 None\n",
      "0.010616558418837213 None\n",
      "0.010661273611261159 None\n",
      "0.010580673278095015 None\n",
      "0.010575266210187173 None\n",
      "0.010584749824003519 None\n",
      "0.010673300935299442 None\n",
      "0.010583682457572956 None\n",
      "0.010624107301198994 None\n",
      "0.0105883884796143 None\n",
      "0.010562961983361457 None\n",
      "0.01058196525177657 None\n",
      "0.010563657177036303 None\n",
      "0.01057944029307347 None\n",
      "0.010571148286325546 None\n",
      "0.010593769576603594 None\n",
      "0.010628021170179414 None\n",
      "0.010619543053314275 None\n",
      "0.010579913751822465 None\n",
      "tf.Tensor(0.010566174885085586, shape=(), dtype=float64)\n",
      "0.010619678113991567 None\n"
     ]
    },
    {
     "data": {
      "application/vnd.jupyter.widget-view+json": {
       "model_id": "8eef5647a5e5437081317e3bd3e0c59b",
       "version_major": 2,
       "version_minor": 0
      },
      "text/plain": [
       "  0%|          | 0/2000 [00:00<?, ?it/s]"
      ]
     },
     "metadata": {},
     "output_type": "display_data"
    },
    {
     "name": "stdout",
     "output_type": "stream",
     "text": [
      "0.02088354452934585 None\n",
      "0.010761114240825636 None\n",
      "0.010791702845540985 None\n",
      "0.010853385757155967 None\n",
      "0.01078001127349507 None\n",
      "0.0107771615951293 None\n",
      "0.01075429890756218 None\n",
      "0.010777407663878212 None\n",
      "0.010823081738685396 None\n",
      "0.010761981193572131 None\n",
      "0.010768425300481783 None\n",
      "0.010761076882703356 None\n",
      "0.010808795903487704 None\n",
      "0.010784822923802548 None\n",
      "0.010751878556288837 None\n",
      "0.010760903750685273 None\n",
      "0.01077702291012662 None\n",
      "0.01075773368699471 None\n",
      "0.010770870448194473 None\n",
      "0.010767953269650129 None\n",
      "tf.Tensor(0.010750287113065651, shape=(), dtype=float64)\n",
      "0.01078756503676084 None\n"
     ]
    },
    {
     "data": {
      "application/vnd.jupyter.widget-view+json": {
       "model_id": "2f3fa36db601418f8f5a967e56301abb",
       "version_major": 2,
       "version_minor": 0
      },
      "text/plain": [
       "  0%|          | 0/2000 [00:00<?, ?it/s]"
      ]
     },
     "metadata": {},
     "output_type": "display_data"
    },
    {
     "name": "stdout",
     "output_type": "stream",
     "text": [
      "0.02550241293923828 None\n",
      "0.013559768208710226 None\n",
      "0.013572847204591648 None\n",
      "0.013587288741248146 None\n",
      "0.01358966995828903 None\n",
      "0.013568214523571296 None\n",
      "0.013553068389691142 None\n",
      "0.013569173682029177 None\n",
      "0.013560326179714616 None\n",
      "0.013549555906614184 None\n",
      "0.013565363323177981 None\n",
      "0.013579875242376013 None\n",
      "0.013578754789500682 None\n",
      "0.013554062757374766 None\n",
      "0.013581917506559148 None\n",
      "0.01359961561057254 None\n",
      "0.013588812500520187 None\n",
      "0.013565291626770955 None\n",
      "0.013581161855849129 None\n",
      "0.01361433641436689 None\n",
      "tf.Tensor(0.013693418514996277, shape=(), dtype=float64)\n",
      "0.013682928957091223 None\n"
     ]
    },
    {
     "data": {
      "application/vnd.jupyter.widget-view+json": {
       "model_id": "4d176f6a290642b9b6dc4fbc9fd0a498",
       "version_major": 2,
       "version_minor": 0
      },
      "text/plain": [
       "  0%|          | 0/2000 [00:00<?, ?it/s]"
      ]
     },
     "metadata": {},
     "output_type": "display_data"
    },
    {
     "name": "stdout",
     "output_type": "stream",
     "text": [
      "0.02224557638010618 None\n",
      "0.008917609456280649 None\n",
      "0.008906540923177133 None\n",
      "0.008912736576828197 None\n",
      "0.008951872862374945 None\n",
      "0.008903258380556459 None\n",
      "0.00895735849053141 None\n",
      "0.008897172311204384 None\n",
      "0.008915707289530818 None\n",
      "0.008902586987011105 None\n",
      "0.008904378501030392 None\n",
      "0.008924179720254288 None\n",
      "0.00891199197258186 None\n",
      "0.008945315524148338 None\n",
      "0.008941363210505964 None\n",
      "0.008940472718966166 None\n",
      "0.008934420610207768 None\n",
      "0.008891530129587162 None\n",
      "0.008907522274856965 None\n",
      "0.008930936753226992 None\n",
      "tf.Tensor(0.008897131547710598, shape=(), dtype=float64)\n",
      "0.008934258807354038 None\n"
     ]
    },
    {
     "data": {
      "application/vnd.jupyter.widget-view+json": {
       "model_id": "b47ca45ec42a4dcc80233da56aae2940",
       "version_major": 2,
       "version_minor": 0
      },
      "text/plain": [
       "  0%|          | 0/2000 [00:00<?, ?it/s]"
      ]
     },
     "metadata": {},
     "output_type": "display_data"
    },
    {
     "name": "stdout",
     "output_type": "stream",
     "text": [
      "0.022969061390817357 None\n",
      "0.008097166034311688 None\n",
      "0.008037827382965892 None\n",
      "0.008058379353111576 None\n",
      "0.008028789415025064 None\n",
      "0.008053263206955343 None\n",
      "0.008071517696574864 None\n",
      "0.008057992678188939 None\n",
      "0.008026832022462623 None\n",
      "0.008027333008658401 None\n",
      "0.00804213031875338 None\n",
      "0.008125929078123147 None\n",
      "0.008038909865767628 None\n",
      "0.008028906345627036 None\n",
      "0.008136015380418936 None\n",
      "0.008028123244997052 None\n",
      "0.008065166654727524 None\n",
      "0.008028066550912177 None\n",
      "0.008051026579404291 None\n",
      "0.008030604797478563 None\n",
      "tf.Tensor(0.008041982199365291, shape=(), dtype=float64)\n",
      "0.008027993441715967 None\n"
     ]
    },
    {
     "data": {
      "application/vnd.jupyter.widget-view+json": {
       "model_id": "243ea2031b944a3abe8de8ee8f6b760e",
       "version_major": 2,
       "version_minor": 0
      },
      "text/plain": [
       "  0%|          | 0/2000 [00:00<?, ?it/s]"
      ]
     },
     "metadata": {},
     "output_type": "display_data"
    },
    {
     "name": "stdout",
     "output_type": "stream",
     "text": [
      "0.021448997211908363 None\n",
      "0.008718626478019777 None\n",
      "0.008645908253416747 None\n",
      "0.008660303734672001 None\n",
      "0.00863582389677272 None\n",
      "0.008652646178520247 None\n",
      "0.008640715334575971 None\n",
      "0.008631319274082398 None\n",
      "0.008654846667349673 None\n",
      "0.008681927282752838 None\n",
      "0.008631349409001711 None\n",
      "0.008676406944173973 None\n",
      "0.008646254798975454 None\n",
      "0.008642120136577336 None\n",
      "0.008664951183657135 None\n",
      "0.00863595239360894 None\n",
      "0.008662159436024244 None\n",
      "0.008643121290771522 None\n",
      "0.008659876470540239 None\n",
      "0.00867087912996111 None\n",
      "tf.Tensor(0.008652415293951218, shape=(), dtype=float64)\n",
      "0.008676869420061434 None\n"
     ]
    },
    {
     "data": {
      "application/vnd.jupyter.widget-view+json": {
       "model_id": "973315f9a3d349aba1e7e8f50d02c5b4",
       "version_major": 2,
       "version_minor": 0
      },
      "text/plain": [
       "  0%|          | 0/2000 [00:00<?, ?it/s]"
      ]
     },
     "metadata": {},
     "output_type": "display_data"
    },
    {
     "name": "stdout",
     "output_type": "stream",
     "text": [
      "0.0230455052780967 None\n",
      "0.01007795315014524 None\n",
      "0.010059138257468292 None\n",
      "0.010065310555121696 None\n",
      "0.010046663374206653 None\n",
      "0.010071838969776148 None\n",
      "0.010106523442566486 None\n",
      "0.010096234627905046 None\n",
      "0.010064827807957595 None\n",
      "0.010053805401128511 None\n",
      "0.01006872800786007 None\n",
      "0.010086980098029844 None\n",
      "0.010054132462010628 None\n",
      "0.010049473911552715 None\n",
      "0.01008572882695023 None\n",
      "0.010115719492589624 None\n",
      "0.010079644985461093 None\n",
      "0.010077316491420088 None\n",
      "0.010079479453328669 None\n",
      "0.010098157412039677 None\n",
      "tf.Tensor(0.010077549510675778, shape=(), dtype=float64)\n",
      "0.010093775491726832 None\n"
     ]
    },
    {
     "data": {
      "application/vnd.jupyter.widget-view+json": {
       "model_id": "185519e5a9434388a0e8740a834d42df",
       "version_major": 2,
       "version_minor": 0
      },
      "text/plain": [
       "  0%|          | 0/2000 [00:00<?, ?it/s]"
      ]
     },
     "metadata": {},
     "output_type": "display_data"
    },
    {
     "name": "stdout",
     "output_type": "stream",
     "text": [
      "0.01994206258927553 None\n",
      "0.005545403605543726 None\n",
      "0.005530004816728661 None\n",
      "0.00551221636056319 None\n",
      "0.005514497678462282 None\n",
      "0.005534871865766173 None\n",
      "0.005494361420344909 None\n",
      "0.0055322981341188035 None\n",
      "0.0055034537467488496 None\n",
      "0.005506739558364699 None\n",
      "0.005486234753649565 None\n",
      "0.005512469620494558 None\n",
      "0.005492983151057981 None\n",
      "0.005530362400462092 None\n",
      "0.005582300878562096 None\n",
      "0.005538020896261187 None\n",
      "0.005516760376644748 None\n",
      "0.005487705112460371 None\n",
      "0.005529516653902653 None\n",
      "0.005563244253678697 None\n",
      "tf.Tensor(0.0055450013565386405, shape=(), dtype=float64)\n",
      "0.005543440406083543 None\n"
     ]
    },
    {
     "data": {
      "application/vnd.jupyter.widget-view+json": {
       "model_id": "e789e8fe36754b36a05ba80ff831cc6e",
       "version_major": 2,
       "version_minor": 0
      },
      "text/plain": [
       "  0%|          | 0/2000 [00:00<?, ?it/s]"
      ]
     },
     "metadata": {},
     "output_type": "display_data"
    },
    {
     "name": "stdout",
     "output_type": "stream",
     "text": [
      "0.01802836947543539 None\n",
      "0.007478586542817617 None\n",
      "0.0074600168852286845 None\n",
      "0.007477163030749557 None\n",
      "0.007458745918525686 None\n",
      "0.007460620880575668 None\n",
      "0.007445165302294062 None\n",
      "0.007492531491450159 None\n",
      "0.007461107917098363 None\n",
      "0.007467769913027449 None\n",
      "0.007503261988120124 None\n",
      "0.0074937254595443615 None\n",
      "0.0074628839757362635 None\n",
      "0.007497845665950852 None\n",
      "0.007550160097181195 None\n",
      "0.0074595772812476166 None\n",
      "0.007494011841477704 None\n",
      "0.007477502159983009 None\n",
      "0.007520903478926745 None\n",
      "0.007451975495633011 None\n",
      "tf.Tensor(0.0074893185906850625, shape=(), dtype=float64)\n",
      "0.007478830359824474 None\n",
      "Done!\n"
     ]
    },
    {
     "data": {
      "application/vnd.jupyter.widget-view+json": {
       "model_id": "b320d8b5da044513af977d1dea417098",
       "version_major": 2,
       "version_minor": 0
      },
      "text/plain": [
       "  0%|          | 0/2000 [00:00<?, ?it/s]"
      ]
     },
     "metadata": {},
     "output_type": "display_data"
    },
    {
     "name": "stdout",
     "output_type": "stream",
     "text": [
      "0.018822641538266516 None\n",
      "0.009608640375253056 None\n",
      "0.009596013889878022 None\n",
      "0.009568284876619627 None\n",
      "0.009611380764266226 None\n",
      "0.009574104606230285 None\n",
      "0.009584017291288941 None\n",
      "0.00964419755657498 None\n",
      "0.00956913487655604 None\n",
      "0.009598138442161421 None\n",
      "0.00960682525317192 None\n",
      "0.009599253683422158 None\n",
      "0.0095740426220004 None\n",
      "0.009579679287106905 None\n",
      "0.009595485824612188 None\n",
      "0.009587926514709817 None\n",
      "0.00956339789737836 None\n",
      "0.009567842868285183 None\n",
      "0.009602132109479428 None\n",
      "0.009633240514264261 None\n",
      "tf.Tensor(0.009646335760153151, shape=(), dtype=float64)\n",
      "0.009627870524218596 None\n"
     ]
    },
    {
     "data": {
      "application/vnd.jupyter.widget-view+json": {
       "model_id": "2da916d7d45e4a23aed861a488005270",
       "version_major": 2,
       "version_minor": 0
      },
      "text/plain": [
       "  0%|          | 0/2000 [00:00<?, ?it/s]"
      ]
     },
     "metadata": {},
     "output_type": "display_data"
    },
    {
     "name": "stdout",
     "output_type": "stream",
     "text": [
      "0.014275452753226343 None\n",
      "0.010675880481981346 None\n",
      "0.010755262601207152 None\n",
      "0.010710187983926978 None\n",
      "0.010764218972030237 None\n",
      "0.010732216554402884 None\n",
      "0.010706742003013924 None\n",
      "0.010695096086476622 None\n",
      "0.010755884856773621 None\n",
      "0.010709833917583327 None\n",
      "0.010748313535324981 None\n",
      "0.010743427638766023 None\n",
      "0.010705287949097246 None\n",
      "0.010696545148582846 None\n",
      "0.010691726811341583 None\n",
      "0.010682479441016236 None\n",
      "0.010727300856359964 None\n",
      "0.010745720942045709 None\n",
      "0.010721541468816674 None\n",
      "0.010715531305537745 None\n",
      "tf.Tensor(0.010711509118710532, shape=(), dtype=float64)\n",
      "0.010699669079014058 None\n"
     ]
    },
    {
     "data": {
      "application/vnd.jupyter.widget-view+json": {
       "model_id": "a36f2787ecbf4680b554f2ebc163a77d",
       "version_major": 2,
       "version_minor": 0
      },
      "text/plain": [
       "  0%|          | 0/2000 [00:00<?, ?it/s]"
      ]
     },
     "metadata": {},
     "output_type": "display_data"
    },
    {
     "name": "stdout",
     "output_type": "stream",
     "text": [
      "0.016070265421383494 None\n",
      "0.011481797737431229 None\n",
      "0.011517107936719256 None\n",
      "0.01155348224562239 None\n",
      "0.011479961929346423 None\n",
      "0.01152339519192433 None\n",
      "0.011496782707231569 None\n",
      "0.011520252369130977 None\n",
      "0.01156129624038708 None\n",
      "0.01149003277125971 None\n",
      "0.011491414894617094 None\n",
      "0.011510971115093999 None\n",
      "0.011521042699356714 None\n",
      "0.011585519962492939 None\n",
      "0.011493025254899411 None\n",
      "0.011511514186102637 None\n",
      "0.011507424615390494 None\n",
      "0.011519457283231543 None\n",
      "0.01149553428470276 None\n",
      "0.011477900077010581 None\n",
      "tf.Tensor(0.011492822143161465, shape=(), dtype=float64)\n",
      "0.011505292980760216 None\n"
     ]
    },
    {
     "data": {
      "application/vnd.jupyter.widget-view+json": {
       "model_id": "80a14c1c393446618b14fab370dd0879",
       "version_major": 2,
       "version_minor": 0
      },
      "text/plain": [
       "  0%|          | 0/2000 [00:00<?, ?it/s]"
      ]
     },
     "metadata": {},
     "output_type": "display_data"
    },
    {
     "name": "stdout",
     "output_type": "stream",
     "text": [
      "0.010327986340041478 None\n",
      "0.005463616395407632 None\n",
      "0.005467338195756119 None\n",
      "0.005541519748173567 None\n",
      "0.005461385064121772 None\n",
      "0.005497496282051653 None\n",
      "0.0054729671523829895 None\n",
      "0.005459185813227445 None\n",
      "0.005473313370550286 None\n",
      "0.0054530321024173255 None\n",
      "0.005513464625083416 None\n",
      "0.0054656029142582515 None\n",
      "0.005478151070586401 None\n",
      "0.0054664257742790675 None\n",
      "0.005442902443746883 None\n",
      "0.005497241528516903 None\n",
      "0.005461977730153747 None\n",
      "0.005457941004160745 None\n",
      "0.005448819809274968 None\n",
      "0.005472993224421238 None\n",
      "tf.Tensor(0.00550979282864445, shape=(), dtype=float64)\n",
      "0.005502198150762967 None\n"
     ]
    },
    {
     "data": {
      "application/vnd.jupyter.widget-view+json": {
       "model_id": "c572cca51eab4e21bb02795d0b37405b",
       "version_major": 2,
       "version_minor": 0
      },
      "text/plain": [
       "  0%|          | 0/2000 [00:00<?, ?it/s]"
      ]
     },
     "metadata": {},
     "output_type": "display_data"
    },
    {
     "name": "stdout",
     "output_type": "stream",
     "text": [
      "0.011809167348472416 None\n",
      "0.006328482961877219 None\n",
      "0.006269934188273668 None\n",
      "0.0062751968719848535 None\n",
      "0.0063131117673065765 None\n",
      "0.006319468880766386 None\n",
      "0.006373931845225905 None\n",
      "0.006311661840016066 None\n",
      "0.006270405299707312 None\n",
      "0.006271975624699846 None\n",
      "0.006268553210136254 None\n",
      "0.0062889114198126555 None\n",
      "0.00628335943622244 None\n",
      "0.006316366485158411 None\n",
      "0.006275405741005773 None\n",
      "0.0063556029279236885 None\n",
      "0.006278348534069605 None\n",
      "0.006292922225551699 None\n",
      "0.006293146057208764 None\n",
      "0.006265650734452072 None\n",
      "tf.Tensor(0.006260024054745618, shape=(), dtype=float64)\n",
      "0.006296666631470583 None\n"
     ]
    },
    {
     "data": {
      "application/vnd.jupyter.widget-view+json": {
       "model_id": "75b95f8c40d44db6991f8fd1fcd7a6d6",
       "version_major": 2,
       "version_minor": 0
      },
      "text/plain": [
       "  0%|          | 0/2000 [00:00<?, ?it/s]"
      ]
     },
     "metadata": {},
     "output_type": "display_data"
    },
    {
     "name": "stdout",
     "output_type": "stream",
     "text": [
      "0.01297458448043572 None\n",
      "0.006785722765359373 None\n",
      "0.006799269826093757 None\n",
      "0.006794232832290476 None\n",
      "0.006785466987369269 None\n",
      "0.006804501763215907 None\n",
      "0.0067827037621983515 None\n",
      "0.006788648335903521 None\n",
      "0.006778654786872348 None\n",
      "0.0067905548952486095 None\n",
      "0.006783202431953172 None\n",
      "0.006814081290494931 None\n",
      "0.0068281504369822185 None\n",
      "0.006792706280966876 None\n",
      "0.006783605747674659 None\n",
      "0.006779279624604243 None\n",
      "0.006813800618843019 None\n",
      "0.00683960083666092 None\n",
      "0.0067971334973722 None\n",
      "0.006817287070153564 None\n",
      "tf.Tensor(0.0067794705496378735, shape=(), dtype=float64)\n",
      "0.006794723784850377 None\n"
     ]
    },
    {
     "data": {
      "application/vnd.jupyter.widget-view+json": {
       "model_id": "c80df2c29e94499ba5d08a5600d697db",
       "version_major": 2,
       "version_minor": 0
      },
      "text/plain": [
       "  0%|          | 0/2000 [00:00<?, ?it/s]"
      ]
     },
     "metadata": {},
     "output_type": "display_data"
    },
    {
     "name": "stdout",
     "output_type": "stream",
     "text": [
      "0.010530746558190071 None\n",
      "0.005445464103623316 None\n",
      "0.005454047048784297 None\n",
      "0.005481285326045402 None\n",
      "0.005459189781867734 None\n",
      "0.005452121843941269 None\n",
      "0.005432035217326767 None\n",
      "0.005463494598288851 None\n",
      "0.005452330865745171 None\n",
      "0.00543213088074108 None\n",
      "0.00546474001392917 None\n",
      "0.005448329874671307 None\n",
      "0.005437092875566416 None\n",
      "0.00546528353370804 None\n",
      "0.005432236895354019 None\n",
      "0.005438223162476992 None\n",
      "0.00552009641902827 None\n",
      "0.005504061086356148 None\n",
      "0.005433196735050434 None\n",
      "0.005518941380467411 None\n",
      "tf.Tensor(0.005449770137674412, shape=(), dtype=float64)\n",
      "0.005434648381279424 None\n"
     ]
    },
    {
     "data": {
      "application/vnd.jupyter.widget-view+json": {
       "model_id": "6bae208a41884cfab4985ede8c769e50",
       "version_major": 2,
       "version_minor": 0
      },
      "text/plain": [
       "  0%|          | 0/2000 [00:00<?, ?it/s]"
      ]
     },
     "metadata": {},
     "output_type": "display_data"
    },
    {
     "name": "stdout",
     "output_type": "stream",
     "text": [
      "0.010374991441352458 None\n",
      "0.00478163905319317 None\n",
      "0.004810297584928195 None\n",
      "0.004794475540710569 None\n",
      "0.004789054878842225 None\n",
      "0.004795552969778435 None\n",
      "0.004843500874328205 None\n",
      "0.0047989574678065075 None\n",
      "0.004771190490592614 None\n",
      "0.004773791054459061 None\n",
      "0.004821404636334428 None\n",
      "0.004843442318389442 None\n",
      "0.004790482610494561 None\n",
      "0.004760071973474487 None\n",
      "0.004809290583050377 None\n",
      "0.004756546894660635 None\n",
      "0.004760016124505628 None\n",
      "0.004765396040800067 None\n",
      "0.00477244561569217 None\n",
      "0.00477024098527488 None\n",
      "tf.Tensor(0.004770251747138907, shape=(), dtype=float64)\n",
      "0.0047559798453026296 None\n"
     ]
    },
    {
     "data": {
      "application/vnd.jupyter.widget-view+json": {
       "model_id": "2d15ec35079c419481f0fd769709b748",
       "version_major": 2,
       "version_minor": 0
      },
      "text/plain": [
       "  0%|          | 0/2000 [00:00<?, ?it/s]"
      ]
     },
     "metadata": {},
     "output_type": "display_data"
    },
    {
     "name": "stdout",
     "output_type": "stream",
     "text": [
      "0.01653840174531541 None\n",
      "0.005984520688514583 None\n",
      "0.006014544251296752 None\n",
      "0.006014499504595793 None\n",
      "0.0060963440561163295 None\n",
      "0.006037389127973283 None\n",
      "0.005996404051229884 None\n",
      "0.005992816977144718 None\n",
      "0.0059836718298617335 None\n",
      "0.006003010192726792 None\n",
      "0.006063747632898203 None\n",
      "0.006007515691876697 None\n",
      "0.005998735226571122 None\n",
      "0.006004024448110444 None\n",
      "0.006041648174109889 None\n",
      "0.006003010916479015 None\n",
      "0.006015663117853808 None\n",
      "0.005990763175263868 None\n",
      "0.006044008248285707 None\n",
      "0.006016478048312803 None\n",
      "tf.Tensor(0.006018272261435568, shape=(), dtype=float64)\n",
      "0.005989192222098102 None\n",
      "Done!\n"
     ]
    },
    {
     "data": {
      "application/vnd.jupyter.widget-view+json": {
       "model_id": "0d3b3fe594ea44489e03554cd32122b4",
       "version_major": 2,
       "version_minor": 0
      },
      "text/plain": [
       "  0%|          | 0/2000 [00:00<?, ?it/s]"
      ]
     },
     "metadata": {},
     "output_type": "display_data"
    },
    {
     "name": "stdout",
     "output_type": "stream",
     "text": [
      "0.017930053339027557 None\n",
      "0.007867919817924774 None\n",
      "0.007848193364882485 None\n",
      "0.007852468843996444 None\n",
      "0.00786788678943675 None\n",
      "0.007890539693013527 None\n",
      "0.007894898149120137 None\n",
      "0.00785531524801988 None\n",
      "0.007847194584630533 None\n",
      "0.007859009033355995 None\n",
      "0.007876822202893395 None\n",
      "0.007867487879382 None\n",
      "0.007868676961525073 None\n",
      "0.007853912642133039 None\n",
      "0.00786138063548655 None\n",
      "0.007908617708319417 None\n",
      "0.007882087186079616 None\n",
      "0.007875396410691893 None\n",
      "0.00785900882377754 None\n",
      "0.007861070357350182 None\n",
      "tf.Tensor(0.007845676097361854, shape=(), dtype=float64)\n",
      "0.007861501547179368 None\n"
     ]
    },
    {
     "data": {
      "application/vnd.jupyter.widget-view+json": {
       "model_id": "3ec72fffa6444368a24e5fe5762b64c5",
       "version_major": 2,
       "version_minor": 0
      },
      "text/plain": [
       "  0%|          | 0/2000 [00:00<?, ?it/s]"
      ]
     },
     "metadata": {},
     "output_type": "display_data"
    },
    {
     "name": "stdout",
     "output_type": "stream",
     "text": [
      "0.025944223184274088 None\n",
      "0.010398877358981547 None\n",
      "0.010409750170205973 None\n",
      "0.010408270307389392 None\n",
      "0.010431862144332983 None\n",
      "0.010382491941624397 None\n",
      "0.010440821450749375 None\n",
      "0.010415087354433833 None\n",
      "0.010411368598477955 None\n",
      "0.010427593137864639 None\n",
      "0.010375390130454517 None\n",
      "0.010399817791223044 None\n",
      "0.01040404732337923 None\n",
      "0.010471409464683269 None\n",
      "0.010410577023197809 None\n",
      "0.010416276684199057 None\n",
      "0.010407881647030246 None\n",
      "0.010407634675061287 None\n",
      "0.010433800659669472 None\n",
      "0.010451847417759834 None\n",
      "tf.Tensor(0.010423359845590334, shape=(), dtype=float64)\n",
      "0.010387977623387126 None\n"
     ]
    },
    {
     "data": {
      "application/vnd.jupyter.widget-view+json": {
       "model_id": "e53d45453252443ea5867a4a8c1cdf92",
       "version_major": 2,
       "version_minor": 0
      },
      "text/plain": [
       "  0%|          | 0/2000 [00:00<?, ?it/s]"
      ]
     },
     "metadata": {},
     "output_type": "display_data"
    },
    {
     "name": "stdout",
     "output_type": "stream",
     "text": [
      "0.015519355728807614 None\n",
      "0.006005019551191204 None\n",
      "0.006011804214661423 None\n",
      "0.006068397808634059 None\n",
      "0.00599864334091808 None\n",
      "0.005976101658255885 None\n",
      "0.005987039218106827 None\n",
      "0.00600465514601178 None\n",
      "0.005980766026114741 None\n",
      "0.00601853304712556 None\n",
      "0.006074338576997088 None\n",
      "0.006019666980103828 None\n",
      "0.005998399947840714 None\n",
      "0.0059653708754750685 None\n",
      "0.005991403950513324 None\n",
      "0.005969172236250226 None\n",
      "0.005966517437551545 None\n",
      "0.005971446781693895 None\n",
      "0.005991970465651107 None\n",
      "0.0060035809808216545 None\n",
      "tf.Tensor(0.00598491994587904, shape=(), dtype=float64)\n",
      "0.005973975575331417 None\n"
     ]
    },
    {
     "data": {
      "application/vnd.jupyter.widget-view+json": {
       "model_id": "b922ac3edf1c44878b3da6d4b0f35d82",
       "version_major": 2,
       "version_minor": 0
      },
      "text/plain": [
       "  0%|          | 0/2000 [00:00<?, ?it/s]"
      ]
     },
     "metadata": {},
     "output_type": "display_data"
    },
    {
     "name": "stdout",
     "output_type": "stream",
     "text": [
      "0.01647001400301166 None\n",
      "0.004938757359182141 None\n",
      "0.004977978071803672 None\n",
      "0.0049626141306178505 None\n",
      "0.0049528008324161675 None\n",
      "0.004960896929776849 None\n",
      "0.004965782393521426 None\n",
      "0.0049584880131105374 None\n",
      "0.004940456889308734 None\n",
      "0.004962789336334773 None\n",
      "0.004970424871042465 None\n",
      "0.004943128724591924 None\n",
      "0.004951305019936321 None\n",
      "0.004934544111016894 None\n",
      "0.004958697173736273 None\n",
      "0.004935303764816256 None\n",
      "0.00495093396618374 None\n",
      "0.004961514189062797 None\n",
      "0.0049551490723611195 None\n",
      "0.004925056732826297 None\n",
      "tf.Tensor(0.004924452992426371, shape=(), dtype=float64)\n",
      "0.004929511374882307 None\n"
     ]
    },
    {
     "data": {
      "application/vnd.jupyter.widget-view+json": {
       "model_id": "3bbd404d650b4b46abbf289f6f16844f",
       "version_major": 2,
       "version_minor": 0
      },
      "text/plain": [
       "  0%|          | 0/2000 [00:00<?, ?it/s]"
      ]
     },
     "metadata": {},
     "output_type": "display_data"
    },
    {
     "name": "stdout",
     "output_type": "stream",
     "text": [
      "0.017668755490564618 None\n",
      "0.0038735096598433334 None\n",
      "0.003883545611195631 None\n",
      "0.0038813252887249378 None\n",
      "0.0038940828727644303 None\n",
      "0.003900389970387875 None\n",
      "0.0038739916412031204 None\n",
      "0.003895382142223335 None\n",
      "0.0038717700394691624 None\n",
      "0.003936211005487945 None\n",
      "0.0038675810282257483 None\n",
      "0.003913116382906862 None\n",
      "0.0038720070446131086 None\n",
      "0.0038977535774649148 None\n",
      "0.003933610049935232 None\n",
      "0.003914775585919031 None\n",
      "0.003908379558019776 None\n",
      "0.003866644908295965 None\n",
      "0.003888497814948891 None\n",
      "0.0038783874647346107 None\n",
      "tf.Tensor(0.0038946030636099437, shape=(), dtype=float64)\n",
      "0.0039018163685739272 None\n"
     ]
    },
    {
     "data": {
      "application/vnd.jupyter.widget-view+json": {
       "model_id": "c259f7558e0b43e7993c3da7b44b7d83",
       "version_major": 2,
       "version_minor": 0
      },
      "text/plain": [
       "  0%|          | 0/2000 [00:00<?, ?it/s]"
      ]
     },
     "metadata": {},
     "output_type": "display_data"
    },
    {
     "name": "stdout",
     "output_type": "stream",
     "text": [
      "0.021227256438961166 None\n",
      "0.004312136043569463 None\n",
      "0.004340796709075697 None\n",
      "0.004316163739515459 None\n",
      "0.004372183194887391 None\n",
      "0.004362269065354351 None\n",
      "0.004319793649434611 None\n",
      "0.004341306182118126 None\n",
      "0.004329152895611392 None\n",
      "0.004368729235717938 None\n",
      "0.004332694928089168 None\n",
      "0.004319504173205509 None\n",
      "0.004345253326444755 None\n",
      "0.004365211405987118 None\n",
      "0.004377280717196242 None\n",
      "0.004327675115253947 None\n",
      "0.004315001564131974 None\n",
      "0.0043204727866554896 None\n",
      "0.004368725119641937 None\n",
      "0.004364546757128366 None\n",
      "tf.Tensor(0.0043194297048659725, shape=(), dtype=float64)\n",
      "0.004331254872268804 None\n"
     ]
    },
    {
     "data": {
      "application/vnd.jupyter.widget-view+json": {
       "model_id": "f751ed5ff14842b09e5d29657bbfe986",
       "version_major": 2,
       "version_minor": 0
      },
      "text/plain": [
       "  0%|          | 0/2000 [00:00<?, ?it/s]"
      ]
     },
     "metadata": {},
     "output_type": "display_data"
    },
    {
     "name": "stdout",
     "output_type": "stream",
     "text": [
      "0.019232954059273367 None\n",
      "0.004106838393448784 None\n",
      "0.004055598241326331 None\n",
      "0.004041994350884932 None\n",
      "0.00408986540867211 None\n",
      "0.0040164832369603415 None\n",
      "0.0040233876784159205 None\n",
      "0.004043074237736409 None\n",
      "0.004051777413903657 None\n",
      "0.004053351998429579 None\n",
      "0.004023775224029889 None\n",
      "0.004053788443071455 None\n",
      "0.004029498730291715 None\n",
      "0.004022884295057639 None\n",
      "0.0040259013734284185 None\n",
      "0.004024369315102774 None\n",
      "0.004020307220441119 None\n",
      "0.004057948527112181 None\n",
      "0.004060869719893367 None\n",
      "0.00406952323194972 None\n",
      "tf.Tensor(0.004043366435466879, shape=(), dtype=float64)\n",
      "0.004032889827759425 None\n"
     ]
    },
    {
     "data": {
      "application/vnd.jupyter.widget-view+json": {
       "model_id": "4a4eaa68011443ab8811a29978984cbe",
       "version_major": 2,
       "version_minor": 0
      },
      "text/plain": [
       "  0%|          | 0/2000 [00:00<?, ?it/s]"
      ]
     },
     "metadata": {},
     "output_type": "display_data"
    },
    {
     "name": "stdout",
     "output_type": "stream",
     "text": [
      "0.016510965346865723 None\n",
      "0.00362431830652544 None\n",
      "0.0036180524198382025 None\n",
      "0.0035872089197382887 None\n",
      "0.0035831568139623304 None\n",
      "0.003593259200222085 None\n",
      "0.0036395744681373115 None\n",
      "0.0036533839786211213 None\n",
      "0.0035650631142791576 None\n",
      "0.003571101938311432 None\n",
      "0.003601844752151971 None\n",
      "0.0035832640248374716 None\n",
      "0.0036052252661593915 None\n",
      "0.003609108490964571 None\n",
      "0.0035835579737739705 None\n",
      "0.003560655285997815 None\n",
      "0.0035788384164584484 None\n",
      "0.003574333059367352 None\n",
      "0.0035899637766081977 None\n",
      "0.0035887964237799625 None\n",
      "tf.Tensor(0.0035795621304863506, shape=(), dtype=float64)\n",
      "0.0035921965271124255 None\n"
     ]
    },
    {
     "data": {
      "application/vnd.jupyter.widget-view+json": {
       "model_id": "98211b6749d74d999971e2324a93309c",
       "version_major": 2,
       "version_minor": 0
      },
      "text/plain": [
       "  0%|          | 0/2000 [00:00<?, ?it/s]"
      ]
     },
     "metadata": {},
     "output_type": "display_data"
    },
    {
     "name": "stdout",
     "output_type": "stream",
     "text": [
      "0.01657423397692173 None\n",
      "0.003634242877499966 None\n",
      "0.003698561852692661 None\n",
      "0.0036307508803988427 None\n",
      "0.0036110206502533784 None\n",
      "0.0036422272708116193 None\n",
      "0.0036386128441375978 None\n",
      "0.003631631836583776 None\n",
      "0.0036383664643807444 None\n",
      "0.0036292841714690334 None\n",
      "0.003615102949260502 None\n",
      "0.0036428963564336878 None\n",
      "0.003613749399853804 None\n",
      "0.003622074090810317 None\n",
      "0.0036067053769550973 None\n",
      "0.003616998704539952 None\n",
      "0.0036083908807634027 None\n",
      "0.003617023943676873 None\n",
      "0.0036583065021202708 None\n",
      "0.0036368407475878776 None\n",
      "tf.Tensor(0.0036477443383720835, shape=(), dtype=float64)\n",
      "0.003603690037468507 None\n"
     ]
    },
    {
     "data": {
      "application/vnd.jupyter.widget-view+json": {
       "model_id": "532d02bdd9564ec482ed5858744c3a57",
       "version_major": 2,
       "version_minor": 0
      },
      "text/plain": [
       "  0%|          | 0/2000 [00:00<?, ?it/s]"
      ]
     },
     "metadata": {},
     "output_type": "display_data"
    },
    {
     "name": "stdout",
     "output_type": "stream",
     "text": [
      "0.014086075485839462 None\n",
      "0.0025607882996835224 None\n",
      "0.002544431308283905 None\n",
      "0.002585764935329367 None\n",
      "0.00255173621255916 None\n",
      "0.0025609331679752323 None\n",
      "0.002589712598554745 None\n",
      "0.002564240446689835 None\n",
      "0.0025542753063457317 None\n",
      "0.002566575090083118 None\n",
      "0.00254280127287782 None\n",
      "0.0026346311185790356 None\n",
      "0.002572416361253922 None\n",
      "0.0025561445626757356 None\n",
      "0.0025687376183161567 None\n",
      "0.0025442143747761523 None\n",
      "0.0025609493022212236 None\n",
      "0.0026220725143232624 None\n",
      "0.002580628875006496 None\n",
      "0.0026194051757623665 None\n",
      "tf.Tensor(0.0025824928658348192, shape=(), dtype=float64)\n",
      "0.002579872692407857 None\n"
     ]
    },
    {
     "data": {
      "application/vnd.jupyter.widget-view+json": {
       "model_id": "61d53471f8dc4a44b2b8f032b1d143a0",
       "version_major": 2,
       "version_minor": 0
      },
      "text/plain": [
       "  0%|          | 0/2000 [00:00<?, ?it/s]"
      ]
     },
     "metadata": {},
     "output_type": "display_data"
    },
    {
     "name": "stdout",
     "output_type": "stream",
     "text": [
      "0.01599802855910345 None\n",
      "0.003464326932689823 None\n",
      "0.0034596053635747408 None\n",
      "0.0034530407833849412 None\n",
      "0.0035166912044292172 None\n",
      "0.003452576133286752 None\n",
      "0.0034572329150637775 None\n",
      "0.0034809511666432855 None\n",
      "0.003510062206705491 None\n",
      "0.003442886342415767 None\n",
      "0.0034514627973538815 None\n",
      "0.0034377724003932016 None\n",
      "0.0034383264791426737 None\n",
      "0.0034399853310816374 None\n",
      "0.0034726743483322955 None\n",
      "0.0034539902144871803 None\n",
      "0.003445972713085565 None\n",
      "0.003452216714744589 None\n",
      "0.0034633794025306607 None\n",
      "0.003479240024102888 None\n",
      "tf.Tensor(0.00349010211980824, shape=(), dtype=float64)\n",
      "0.003458215610937461 None\n",
      "Done!\n"
     ]
    },
    {
     "data": {
      "application/vnd.jupyter.widget-view+json": {
       "model_id": "542fd62846294db2be8cf53b7a6488e2",
       "version_major": 2,
       "version_minor": 0
      },
      "text/plain": [
       "  0%|          | 0/2000 [00:00<?, ?it/s]"
      ]
     },
     "metadata": {},
     "output_type": "display_data"
    },
    {
     "name": "stdout",
     "output_type": "stream",
     "text": [
      "0.029040070949850404 None\n",
      "0.011034622557673388 None\n",
      "0.01066271451717804 None\n",
      "0.010708847792248389 None\n",
      "0.010671283508896654 None\n",
      "0.01067370588207275 None\n",
      "0.010677772320635406 None\n",
      "0.010676570717541325 None\n",
      "0.010670789216718494 None\n",
      "0.010669252147798788 None\n",
      "0.01068127620068723 None\n",
      "0.010708981767145246 None\n",
      "0.010656505967666034 None\n",
      "0.010679581991919759 None\n",
      "0.01069452254554987 None\n",
      "0.010730996972175763 None\n",
      "0.01065446295550104 None\n",
      "0.010718238189323364 None\n",
      "0.010661851304957459 None\n",
      "0.01068337449229954 None\n",
      "tf.Tensor(0.010667212184714323, shape=(), dtype=float64)\n",
      "0.010688768671857838 None\n"
     ]
    },
    {
     "data": {
      "application/vnd.jupyter.widget-view+json": {
       "model_id": "e54a9a0bb39744498a121e1bacdca695",
       "version_major": 2,
       "version_minor": 0
      },
      "text/plain": [
       "  0%|          | 0/2000 [00:00<?, ?it/s]"
      ]
     },
     "metadata": {},
     "output_type": "display_data"
    },
    {
     "name": "stdout",
     "output_type": "stream",
     "text": [
      "0.020766969166757198 None\n",
      "0.005993854052992038 None\n",
      "0.0058893260967567435 None\n",
      "0.005862291774423798 None\n",
      "0.00587126259113115 None\n",
      "0.005884640254248093 None\n",
      "0.005929347419136597 None\n",
      "0.005933370418919896 None\n",
      "0.005865980041998819 None\n",
      "0.005880038272940213 None\n",
      "0.005892236239945172 None\n",
      "0.005921801127350803 None\n",
      "0.00586429197734414 None\n",
      "0.005879070081746481 None\n",
      "0.005859115165053226 None\n",
      "0.00588889346425976 None\n",
      "0.005865033190462851 None\n",
      "0.005861964123590906 None\n",
      "0.005934839801179774 None\n",
      "0.0058669405322970495 None\n",
      "tf.Tensor(0.0059545954467437635, shape=(), dtype=float64)\n",
      "0.005956816356175973 None\n"
     ]
    },
    {
     "data": {
      "application/vnd.jupyter.widget-view+json": {
       "model_id": "f675af1ea36e47d4a0c1b031fb1288cf",
       "version_major": 2,
       "version_minor": 0
      },
      "text/plain": [
       "  0%|          | 0/2000 [00:00<?, ?it/s]"
      ]
     },
     "metadata": {},
     "output_type": "display_data"
    },
    {
     "name": "stdout",
     "output_type": "stream",
     "text": [
      "0.02769214459058062 None\n",
      "0.009226114399519845 None\n",
      "0.009062774293873841 None\n",
      "0.009084656622045804 None\n",
      "0.0090397671653373 None\n",
      "0.009058882844753612 None\n",
      "0.009042985627182455 None\n",
      "0.009052194583386197 None\n",
      "0.00905721244022965 None\n",
      "0.009075116728923464 None\n",
      "0.009090942224089238 None\n",
      "0.009034565990592127 None\n",
      "0.009075582755890356 None\n",
      "0.00904199021497662 None\n",
      "0.00908673813097632 None\n",
      "0.00905062612015943 None\n",
      "0.009056076673096578 None\n",
      "0.00904355595550465 None\n",
      "0.009040271144783764 None\n",
      "0.009036084597011933 None\n",
      "tf.Tensor(0.009067284909165321, shape=(), dtype=float64)\n",
      "0.009083662248630192 None\n"
     ]
    },
    {
     "data": {
      "application/vnd.jupyter.widget-view+json": {
       "model_id": "a0e9c6a596dd4eada541eaec0671ef88",
       "version_major": 2,
       "version_minor": 0
      },
      "text/plain": [
       "  0%|          | 0/2000 [00:00<?, ?it/s]"
      ]
     },
     "metadata": {},
     "output_type": "display_data"
    },
    {
     "name": "stdout",
     "output_type": "stream",
     "text": [
      "0.026087305175565453 None\n",
      "0.007533674964638148 None\n",
      "0.0074747323814200115 None\n",
      "0.007460371358014823 None\n",
      "0.007474532614641746 None\n",
      "0.007493039669398176 None\n",
      "0.0074764728304934185 None\n",
      "0.007466328529289731 None\n",
      "0.007461315076222677 None\n",
      "0.0074562844059341965 None\n",
      "0.007452881664518591 None\n",
      "0.007484506737079979 None\n",
      "0.007473985604945985 None\n",
      "0.007465599341952872 None\n",
      "0.0075081458952342035 None\n",
      "0.007437813115095077 None\n",
      "0.007447125236069847 None\n",
      "0.007434733319068493 None\n",
      "0.007463023904361571 None\n",
      "0.007445060594345486 None\n",
      "tf.Tensor(0.0074367415083341284, shape=(), dtype=float64)\n",
      "0.00745031672233706 None\n"
     ]
    },
    {
     "data": {
      "application/vnd.jupyter.widget-view+json": {
       "model_id": "bbcf4774a534407082c996426ea6de3e",
       "version_major": 2,
       "version_minor": 0
      },
      "text/plain": [
       "  0%|          | 0/2000 [00:00<?, ?it/s]"
      ]
     },
     "metadata": {},
     "output_type": "display_data"
    },
    {
     "name": "stdout",
     "output_type": "stream",
     "text": [
      "0.019834222915556143 None\n",
      "0.004686692588464327 None\n",
      "0.004567255761035361 None\n",
      "0.004578612010761892 None\n",
      "0.004626164731044045 None\n",
      "0.00457265222859436 None\n",
      "0.004592720428975263 None\n",
      "0.004593074580713476 None\n",
      "0.004582463568981079 None\n",
      "0.004583586254082105 None\n",
      "0.004579341491530178 None\n",
      "0.004569507675399421 None\n",
      "0.004632486326014387 None\n",
      "0.004571825089135961 None\n",
      "0.004568337257229547 None\n",
      "0.004600647264915771 None\n",
      "0.004594367707105638 None\n",
      "0.004615841272588695 None\n",
      "0.004587233148208813 None\n",
      "0.004582483594845069 None\n",
      "tf.Tensor(0.004600390599050985, shape=(), dtype=float64)\n",
      "0.004585304747759736 None\n"
     ]
    },
    {
     "data": {
      "application/vnd.jupyter.widget-view+json": {
       "model_id": "f5ad32a3bb98487cbf3a6b2d087bbf41",
       "version_major": 2,
       "version_minor": 0
      },
      "text/plain": [
       "  0%|          | 0/2000 [00:00<?, ?it/s]"
      ]
     },
     "metadata": {},
     "output_type": "display_data"
    },
    {
     "name": "stdout",
     "output_type": "stream",
     "text": [
      "0.01966094742355195 None\n",
      "0.0017641064974249377 None\n",
      "0.001625379344986565 None\n",
      "0.0016685979404742063 None\n",
      "0.001654045652501407 None\n",
      "0.0016187925962075442 None\n",
      "0.0016197655187270895 None\n",
      "0.0016204439749664852 None\n",
      "0.0016203834830739866 None\n",
      "0.001632008455257749 None\n",
      "0.0016395086224332452 None\n",
      "0.001684122280914203 None\n",
      "0.001641480365172485 None\n",
      "0.0016522110777601549 None\n",
      "0.0016703124198661733 None\n",
      "0.0016337226673797944 None\n",
      "0.0016172419246538675 None\n",
      "0.0016406157175527965 None\n",
      "0.0016198886542095614 None\n",
      "0.001631771160493364 None\n",
      "tf.Tensor(0.001672762267573638, shape=(), dtype=float64)\n",
      "0.0016573242800148776 None\n"
     ]
    },
    {
     "data": {
      "application/vnd.jupyter.widget-view+json": {
       "model_id": "7175e7b7c43e476aaff85e19628c4bdc",
       "version_major": 2,
       "version_minor": 0
      },
      "text/plain": [
       "  0%|          | 0/2000 [00:00<?, ?it/s]"
      ]
     },
     "metadata": {},
     "output_type": "display_data"
    },
    {
     "name": "stdout",
     "output_type": "stream",
     "text": [
      "0.021379723887941574 None\n",
      "0.007114555727214894 None\n",
      "0.007060403728784831 None\n",
      "0.007024013346976676 None\n",
      "0.00704625716462794 None\n",
      "0.00711129012221446 None\n",
      "0.007061905411152678 None\n",
      "0.007025211482866053 None\n",
      "0.00703744038729872 None\n",
      "0.007020021425723652 None\n",
      "0.007017950934622302 None\n",
      "0.007062845406366796 None\n",
      "0.007047424357871791 None\n",
      "0.007136347635109314 None\n",
      "0.007045501334681056 None\n",
      "0.007025697128760375 None\n",
      "0.007070383252019915 None\n",
      "0.007043132610663989 None\n",
      "0.007048848843569381 None\n",
      "0.007067247795045022 None\n",
      "tf.Tensor(0.007028811629185987, shape=(), dtype=float64)\n",
      "0.007034015346065493 None\n"
     ]
    },
    {
     "data": {
      "application/vnd.jupyter.widget-view+json": {
       "model_id": "4131123718c946a48176d7cac9c23134",
       "version_major": 2,
       "version_minor": 0
      },
      "text/plain": [
       "  0%|          | 0/2000 [00:00<?, ?it/s]"
      ]
     },
     "metadata": {},
     "output_type": "display_data"
    },
    {
     "name": "stdout",
     "output_type": "stream",
     "text": [
      "0.026088993747107214 None\n",
      "0.006209253626613714 None\n",
      "0.005959789509220834 None\n",
      "0.00598124144080199 None\n",
      "0.005947368468107421 None\n",
      "0.005938311526424838 None\n",
      "0.005928384973045939 None\n",
      "0.005954771125352318 None\n",
      "0.005956529606664342 None\n",
      "0.005975443899237692 None\n",
      "0.005982302944186444 None\n",
      "0.006000782987951659 None\n",
      "0.005955454741680296 None\n",
      "0.005931206289766311 None\n",
      "0.006039944852272864 None\n",
      "0.005923599425085113 None\n",
      "0.005961732713931961 None\n",
      "0.005989487689309542 None\n",
      "0.005935403727524637 None\n",
      "0.005945895477495989 None\n",
      "tf.Tensor(0.0059494841683190615, shape=(), dtype=float64)\n",
      "0.005924648167030401 None\n"
     ]
    },
    {
     "data": {
      "application/vnd.jupyter.widget-view+json": {
       "model_id": "85218bcbe32f4ff7a701929608cd3ea2",
       "version_major": 2,
       "version_minor": 0
      },
      "text/plain": [
       "  0%|          | 0/2000 [00:00<?, ?it/s]"
      ]
     },
     "metadata": {},
     "output_type": "display_data"
    },
    {
     "name": "stdout",
     "output_type": "stream",
     "text": [
      "0.020151815599412266 None\n",
      "0.0036383714905387637 None\n",
      "0.00360537477862612 None\n",
      "0.003606916138841773 None\n",
      "0.003583293713742707 None\n",
      "0.003590550013206238 None\n",
      "0.0035760414752794567 None\n",
      "0.0036034121783018076 None\n",
      "0.0035775461098004214 None\n",
      "0.0036234543377759876 None\n",
      "0.0036228282957777892 None\n",
      "0.003613256093833433 None\n",
      "0.0035798872467048253 None\n",
      "0.0036341217334989375 None\n",
      "0.0036733140034861667 None\n",
      "0.003583013880638414 None\n",
      "0.0036831999589269013 None\n",
      "0.003612067818689604 None\n",
      "0.003588876548191974 None\n",
      "0.0035650007631582055 None\n",
      "tf.Tensor(0.003612061370749811, shape=(), dtype=float64)\n",
      "0.003638447042207449 None\n",
      "Done!\n"
     ]
    },
    {
     "data": {
      "application/vnd.jupyter.widget-view+json": {
       "model_id": "b4e7af7a66f44f68bc9dceefdefbbc7d",
       "version_major": 2,
       "version_minor": 0
      },
      "text/plain": [
       "  0%|          | 0/2000 [00:00<?, ?it/s]"
      ]
     },
     "metadata": {},
     "output_type": "display_data"
    },
    {
     "name": "stdout",
     "output_type": "stream",
     "text": [
      "0.010312721018035223 None\n",
      "0.009424640841473986 None\n",
      "0.00942939478868218 None\n",
      "0.009457105147559767 None\n",
      "0.00944044770853416 None\n",
      "0.00941427572687608 None\n",
      "0.009434039184649572 None\n",
      "0.009492508211013988 None\n",
      "0.009464347888720866 None\n",
      "0.009451863035913569 None\n",
      "0.009415139920888233 None\n",
      "0.009461454924817037 None\n",
      "0.009463090954295976 None\n",
      "0.009423491980492641 None\n",
      "0.009450833875964019 None\n",
      "0.009445168283816176 None\n",
      "0.009478832749176356 None\n",
      "0.00946076766340817 None\n",
      "0.009440219259302312 None\n",
      "0.009412036530592582 None\n",
      "tf.Tensor(0.009457553001316583, shape=(), dtype=float64)\n",
      "0.009451032195770166 None\n"
     ]
    },
    {
     "data": {
      "application/vnd.jupyter.widget-view+json": {
       "model_id": "2721439eada24349892f645be55af05d",
       "version_major": 2,
       "version_minor": 0
      },
      "text/plain": [
       "  0%|          | 0/2000 [00:00<?, ?it/s]"
      ]
     },
     "metadata": {},
     "output_type": "display_data"
    },
    {
     "name": "stdout",
     "output_type": "stream",
     "text": [
      "0.011697896992452154 None\n",
      "0.01013988291389352 None\n",
      "0.010158790335563522 None\n",
      "0.010169638017618648 None\n",
      "0.010181297061064298 None\n",
      "0.01014106164791689 None\n",
      "0.010167885304847996 None\n",
      "0.010179880518710813 None\n",
      "0.01016461230042574 None\n",
      "0.010176271878122624 None\n",
      "0.010141107359930943 None\n",
      "0.010210883157952228 None\n",
      "0.010140417772856587 None\n",
      "0.010133804792607549 None\n",
      "0.01018143423718302 None\n",
      "0.010159603628743661 None\n",
      "0.010221397395891008 None\n",
      "0.01013708264135188 None\n",
      "0.010183485422993 None\n",
      "0.010225128023981095 None\n",
      "tf.Tensor(0.01018703112371551, shape=(), dtype=float64)\n",
      "0.010220561462309576 None\n"
     ]
    },
    {
     "data": {
      "application/vnd.jupyter.widget-view+json": {
       "model_id": "907d295ddee74507964831bcb5f97d8d",
       "version_major": 2,
       "version_minor": 0
      },
      "text/plain": [
       "  0%|          | 0/2000 [00:00<?, ?it/s]"
      ]
     },
     "metadata": {},
     "output_type": "display_data"
    },
    {
     "name": "stdout",
     "output_type": "stream",
     "text": [
      "0.008423152580730633 None\n",
      "0.007640084406947894 None\n",
      "0.007610991558120277 None\n",
      "0.0075896055628633385 None\n",
      "0.007563125829520144 None\n",
      "0.007565581519415235 None\n",
      "0.0075569462346077206 None\n",
      "0.007603259737113864 None\n",
      "0.007562834409026425 None\n",
      "0.007552691550038293 None\n",
      "0.007606692904265848 None\n",
      "0.007563331920004791 None\n",
      "0.007554640102756239 None\n",
      "0.00761386148274883 None\n",
      "0.0075898942955084925 None\n",
      "0.007558878577442932 None\n",
      "0.0075874336703875105 None\n",
      "0.007599731792698759 None\n",
      "0.007573441451608272 None\n",
      "0.007604997858579529 None\n",
      "tf.Tensor(0.007576212614104523, shape=(), dtype=float64)\n",
      "0.007580429006597292 None\n"
     ]
    },
    {
     "data": {
      "application/vnd.jupyter.widget-view+json": {
       "model_id": "3aa43b76b62a49c6a97f8d6991553bb5",
       "version_major": 2,
       "version_minor": 0
      },
      "text/plain": [
       "  0%|          | 0/2000 [00:00<?, ?it/s]"
      ]
     },
     "metadata": {},
     "output_type": "display_data"
    },
    {
     "name": "stdout",
     "output_type": "stream",
     "text": [
      "0.005812645055803499 None\n",
      "0.0055466589718610945 None\n",
      "0.005539825134242719 None\n",
      "0.005567085746611982 None\n",
      "0.005532253351760542 None\n",
      "0.005614284672466238 None\n",
      "0.005578471623935679 None\n",
      "0.0056105282254939205 None\n",
      "0.005587091730487525 None\n",
      "0.0055588273632893506 None\n",
      "0.005599919208550706 None\n",
      "0.005533296851357781 None\n",
      "0.00562302132250813 None\n",
      "0.005531961634347179 None\n",
      "0.005566351819849881 None\n",
      "0.0055476950126082045 None\n",
      "0.0055719151147755296 None\n",
      "0.005592615711599549 None\n",
      "0.005544353853944193 None\n",
      "0.005538487439221768 None\n",
      "tf.Tensor(0.005539796221960769, shape=(), dtype=float64)\n",
      "0.0055468014040639824 None\n"
     ]
    },
    {
     "data": {
      "application/vnd.jupyter.widget-view+json": {
       "model_id": "2196c5257e8b4107b5b7c8baf5f4a0c5",
       "version_major": 2,
       "version_minor": 0
      },
      "text/plain": [
       "  0%|          | 0/2000 [00:00<?, ?it/s]"
      ]
     },
     "metadata": {},
     "output_type": "display_data"
    },
    {
     "name": "stdout",
     "output_type": "stream",
     "text": [
      "0.006069821779372465 None\n",
      "0.004353872279924656 None\n",
      "0.00437133099902191 None\n",
      "0.004357012235416662 None\n",
      "0.004344723261015411 None\n",
      "0.004411052021764858 None\n",
      "0.004378151420335073 None\n",
      "0.004362829921507166 None\n",
      "0.004365963531193675 None\n",
      "0.004404845238146415 None\n",
      "0.004343301548070104 None\n",
      "0.004364632135814454 None\n",
      "0.004381453061990136 None\n",
      "0.004393170782596146 None\n",
      "0.004347783397709625 None\n",
      "0.004371838533841 None\n",
      "0.004361766138526079 None\n",
      "0.004390726317908716 None\n",
      "0.004389608098487782 None\n",
      "0.0043512401796489495 None\n",
      "tf.Tensor(0.004359484120793906, shape=(), dtype=float64)\n",
      "0.0043604433268128046 None\n"
     ]
    },
    {
     "data": {
      "application/vnd.jupyter.widget-view+json": {
       "model_id": "b8b52f8f259d4f4f93e977c30f83e1ee",
       "version_major": 2,
       "version_minor": 0
      },
      "text/plain": [
       "  0%|          | 0/2000 [00:00<?, ?it/s]"
      ]
     },
     "metadata": {},
     "output_type": "display_data"
    },
    {
     "name": "stdout",
     "output_type": "stream",
     "text": [
      "0.007681628565172988 None\n",
      "0.006744158592311152 None\n",
      "0.006814880583445135 None\n",
      "0.0068008471066619055 None\n",
      "0.0067461735813018064 None\n",
      "0.006751925076260367 None\n",
      "0.006763155482619151 None\n",
      "0.006777456400004125 None\n",
      "0.0067433214394789515 None\n",
      "0.006753454174636568 None\n",
      "0.006739781493566729 None\n",
      "0.006746097979829295 None\n",
      "0.0067547308122892485 None\n",
      "0.006777414051313477 None\n",
      "0.006763958339872103 None\n",
      "0.006748455674302175 None\n",
      "0.006762313515185267 None\n",
      "0.006763079351149559 None\n",
      "0.006742595952403514 None\n",
      "0.006736745463466616 None\n",
      "tf.Tensor(0.006788625967647403, shape=(), dtype=float64)\n",
      "0.006784208067728828 None\n"
     ]
    },
    {
     "data": {
      "application/vnd.jupyter.widget-view+json": {
       "model_id": "c98635f3fc544da3b0b2d729b3b9b95e",
       "version_major": 2,
       "version_minor": 0
      },
      "text/plain": [
       "  0%|          | 0/2000 [00:00<?, ?it/s]"
      ]
     },
     "metadata": {},
     "output_type": "display_data"
    },
    {
     "name": "stdout",
     "output_type": "stream",
     "text": [
      "0.009709356260413578 None\n",
      "0.006817145571554982 None\n",
      "0.0067716973974833415 None\n",
      "0.006818905443657116 None\n",
      "0.0067925081222658685 None\n",
      "0.00677378403737113 None\n",
      "0.006793688043682085 None\n",
      "0.006784774911100421 None\n",
      "0.006776568071324974 None\n",
      "0.006821068920668291 None\n",
      "0.006767189872568042 None\n",
      "0.006787022687413713 None\n",
      "0.006768961819688928 None\n",
      "0.006773457914633895 None\n",
      "0.006789526251159715 None\n",
      "0.0067751945131395135 None\n",
      "0.006764139519270856 None\n",
      "0.006771698959044474 None\n",
      "0.006768081390319142 None\n",
      "0.0067788478231899565 None\n",
      "tf.Tensor(0.006771863672994188, shape=(), dtype=float64)\n",
      "0.006790448503148892 None\n"
     ]
    },
    {
     "data": {
      "application/vnd.jupyter.widget-view+json": {
       "model_id": "95bed10247f44a1eac41c1662bc6ea2c",
       "version_major": 2,
       "version_minor": 0
      },
      "text/plain": [
       "  0%|          | 0/2000 [00:00<?, ?it/s]"
      ]
     },
     "metadata": {},
     "output_type": "display_data"
    },
    {
     "name": "stdout",
     "output_type": "stream",
     "text": [
      "0.004738861991886967 None\n",
      "0.0041043149540391805 None\n",
      "0.004097460704074896 None\n",
      "0.004109206741036368 None\n",
      "0.004115358161583373 None\n",
      "0.004186527147205717 None\n",
      "0.00409367189785834 None\n",
      "0.004145659701785638 None\n",
      "0.004153806030158689 None\n",
      "0.004110604172528147 None\n",
      "0.004126934605157416 None\n",
      "0.00410161347916458 None\n",
      "0.004112357245517595 None\n",
      "0.004155537225385465 None\n",
      "0.004102860176520624 None\n",
      "0.004095757371111355 None\n",
      "0.0041809423892191395 None\n",
      "0.004186923862630001 None\n",
      "0.004125701489433793 None\n",
      "0.004131978999469904 None\n",
      "tf.Tensor(0.004093296957642701, shape=(), dtype=float64)\n",
      "0.0041164967378467185 None\n"
     ]
    },
    {
     "data": {
      "application/vnd.jupyter.widget-view+json": {
       "model_id": "7f23038c7bb44691a02987d55b432af6",
       "version_major": 2,
       "version_minor": 0
      },
      "text/plain": [
       "  0%|          | 0/2000 [00:00<?, ?it/s]"
      ]
     },
     "metadata": {},
     "output_type": "display_data"
    },
    {
     "name": "stdout",
     "output_type": "stream",
     "text": [
      "0.009095471979559223 None\n",
      "0.005348289440368605 None\n",
      "0.005268344144387288 None\n",
      "0.005260583903007224 None\n",
      "0.005236521038530131 None\n",
      "0.005286306290059403 None\n",
      "0.005271598156588871 None\n",
      "0.005241079556942689 None\n",
      "0.00525511183924603 None\n",
      "0.00528886919987805 None\n",
      "0.0052553258164806365 None\n",
      "0.005254569377067465 None\n",
      "0.005272429252502096 None\n",
      "0.005333611038961234 None\n",
      "0.005236644303627448 None\n",
      "0.00525450962208732 None\n",
      "0.00526179081076086 None\n",
      "0.0052661798722857655 None\n",
      "0.0052838454931744185 None\n",
      "0.0052912181550625464 None\n",
      "tf.Tensor(0.005232554989839239, shape=(), dtype=float64)\n",
      "0.005233398147483973 None\n"
     ]
    },
    {
     "data": {
      "application/vnd.jupyter.widget-view+json": {
       "model_id": "d6cc7ff6941d455183decd53af11632e",
       "version_major": 2,
       "version_minor": 0
      },
      "text/plain": [
       "  0%|          | 0/2000 [00:00<?, ?it/s]"
      ]
     },
     "metadata": {},
     "output_type": "display_data"
    },
    {
     "name": "stdout",
     "output_type": "stream",
     "text": [
      "0.010050175915277206 None\n",
      "0.00807039466788561 None\n",
      "0.008038644923974107 None\n",
      "0.008034899652710169 None\n",
      "0.008053918194251764 None\n",
      "0.008097671223134366 None\n",
      "0.008051305857147598 None\n",
      "0.008035233769448001 None\n",
      "0.00803924061172271 None\n",
      "0.008044357034419886 None\n",
      "0.008050818089423366 None\n",
      "0.00803460976162252 None\n",
      "0.008069084099860867 None\n",
      "0.008055498586462276 None\n",
      "0.008035245161199647 None\n",
      "0.008053328121083933 None\n",
      "0.008057941652119281 None\n",
      "0.008095771249215736 None\n",
      "0.008054450704217914 None\n",
      "0.008051845556876453 None\n",
      "tf.Tensor(0.008034212453028492, shape=(), dtype=float64)\n",
      "0.008098275496147202 None\n",
      "Done!\n"
     ]
    },
    {
     "data": {
      "application/vnd.jupyter.widget-view+json": {
       "model_id": "28f439ec6f5249e2be4f9f321d3aa6ce",
       "version_major": 2,
       "version_minor": 0
      },
      "text/plain": [
       "  0%|          | 0/2000 [00:00<?, ?it/s]"
      ]
     },
     "metadata": {},
     "output_type": "display_data"
    },
    {
     "name": "stdout",
     "output_type": "stream",
     "text": [
      "0.0080664124888049 None\n",
      "0.0070317214930757915 None\n",
      "0.0070144825461458445 None\n",
      "0.007117286451691967 None\n",
      "0.007071694298791972 None\n",
      "0.007067403384008604 None\n",
      "0.00706624098065514 None\n",
      "0.0070757577856285555 None\n",
      "0.007021313574631193 None\n",
      "0.0070455116098268895 None\n",
      "0.007055354650104756 None\n",
      "0.0070132718952306845 None\n",
      "0.00708982031428987 None\n",
      "0.007065509812221564 None\n",
      "0.007047435160652512 None\n",
      "0.0070453166586871546 None\n",
      "0.007050646712212802 None\n",
      "0.007016747633665004 None\n",
      "0.007019704204149669 None\n",
      "0.00701862044042976 None\n",
      "tf.Tensor(0.007076964680530392, shape=(), dtype=float64)\n",
      "0.007072852911708 None\n"
     ]
    },
    {
     "data": {
      "application/vnd.jupyter.widget-view+json": {
       "model_id": "e7b73b2e7b3d4600897534ef47ece8d1",
       "version_major": 2,
       "version_minor": 0
      },
      "text/plain": [
       "  0%|          | 0/2000 [00:00<?, ?it/s]"
      ]
     },
     "metadata": {},
     "output_type": "display_data"
    },
    {
     "name": "stdout",
     "output_type": "stream",
     "text": [
      "0.008131677136737363 None\n",
      "0.004585545367950838 None\n",
      "0.004528473454225889 None\n",
      "0.004502766429281798 None\n",
      "0.00452075800996366 None\n",
      "0.004540543900108511 None\n",
      "0.0045473299218334925 None\n",
      "0.0045332357547382945 None\n",
      "0.004549830838293153 None\n",
      "0.004531470487026153 None\n",
      "0.004514504904056813 None\n",
      "0.0045239574009731335 None\n",
      "0.004517824314651227 None\n",
      "0.004501208829371486 None\n",
      "0.00453444396536906 None\n",
      "0.004514950231644199 None\n",
      "0.0045180784462079595 None\n",
      "0.004521057309154411 None\n",
      "0.0045262670307311004 None\n",
      "0.004516527830581747 None\n",
      "tf.Tensor(0.004527665148431082, shape=(), dtype=float64)\n",
      "0.004537821632016848 None\n"
     ]
    },
    {
     "data": {
      "application/vnd.jupyter.widget-view+json": {
       "model_id": "cadae0d6a2004e378df4d0b820547d0e",
       "version_major": 2,
       "version_minor": 0
      },
      "text/plain": [
       "  0%|          | 0/2000 [00:00<?, ?it/s]"
      ]
     },
     "metadata": {},
     "output_type": "display_data"
    },
    {
     "name": "stdout",
     "output_type": "stream",
     "text": [
      "0.00797600126883286 None\n",
      "0.006533070073421856 None\n",
      "0.006562825297999711 None\n",
      "0.006562655782002725 None\n",
      "0.006549177843900944 None\n",
      "0.0065973431729893384 None\n",
      "0.006532398742355191 None\n",
      "0.0065298533559720335 None\n",
      "0.006633696330650212 None\n",
      "0.006530963208283431 None\n",
      "0.0065325567650185035 None\n",
      "0.00655804804717673 None\n",
      "0.0065298280890014205 None\n",
      "0.00657323509108656 None\n",
      "0.006530955539103803 None\n",
      "0.006579165291528183 None\n",
      "0.006582132566236696 None\n",
      "0.006539837531223959 None\n",
      "0.006587406681765022 None\n",
      "0.006590386723693444 None\n",
      "tf.Tensor(0.00653666427516055, shape=(), dtype=float64)\n",
      "0.006589002816099336 None\n"
     ]
    },
    {
     "data": {
      "application/vnd.jupyter.widget-view+json": {
       "model_id": "5153927a9584488293c7cd16c2f897c8",
       "version_major": 2,
       "version_minor": 0
      },
      "text/plain": [
       "  0%|          | 0/2000 [00:00<?, ?it/s]"
      ]
     },
     "metadata": {},
     "output_type": "display_data"
    },
    {
     "name": "stdout",
     "output_type": "stream",
     "text": [
      "0.00640160678967166 None\n",
      "0.005741871611220644 None\n",
      "0.005756094157016061 None\n",
      "0.005734290667341444 None\n",
      "0.005717115790651152 None\n",
      "0.005767180661495031 None\n",
      "0.005745100955089797 None\n",
      "0.005755693192938052 None\n",
      "0.005777792782635216 None\n",
      "0.00573297575176805 None\n",
      "0.005725038414354693 None\n",
      "0.005718219407494741 None\n",
      "0.005731791733050854 None\n",
      "0.00574691101196567 None\n",
      "0.005762810883818479 None\n",
      "0.005725307642842804 None\n",
      "0.005746105771962275 None\n",
      "0.005721336630786696 None\n",
      "0.0057324423259496205 None\n",
      "0.005720718218576214 None\n",
      "tf.Tensor(0.005726348415241394, shape=(), dtype=float64)\n",
      "0.00574501843571606 None\n"
     ]
    },
    {
     "data": {
      "application/vnd.jupyter.widget-view+json": {
       "model_id": "e87cc4e1fecf45499c7d3168959b1fa4",
       "version_major": 2,
       "version_minor": 0
      },
      "text/plain": [
       "  0%|          | 0/2000 [00:00<?, ?it/s]"
      ]
     },
     "metadata": {},
     "output_type": "display_data"
    },
    {
     "name": "stdout",
     "output_type": "stream",
     "text": [
      "0.007693474490230522 None\n",
      "0.0034174028868335145 None\n",
      "0.0034371937273473124 None\n",
      "0.0034025748889113024 None\n",
      "0.0034364132364195586 None\n",
      "0.0034142938529699695 None\n",
      "0.0034165463029814346 None\n",
      "0.003429943804187348 None\n",
      "0.0034227218029689657 None\n",
      "0.0034099813920078284 None\n",
      "0.0034326949412841375 None\n",
      "0.003439123947786428 None\n",
      "0.0034169237175741864 None\n",
      "0.0034384115428196145 None\n",
      "0.0034479693522527655 None\n",
      "0.003436428847354239 None\n",
      "0.0033970720865922344 None\n",
      "0.0034061666197086234 None\n",
      "0.0034388536382369966 None\n",
      "0.0033996899436292104 None\n",
      "tf.Tensor(0.003412113980116104, shape=(), dtype=float64)\n",
      "0.0034050923016193772 None\n"
     ]
    },
    {
     "data": {
      "application/vnd.jupyter.widget-view+json": {
       "model_id": "a856bacf603e42bf876a004236cc4be7",
       "version_major": 2,
       "version_minor": 0
      },
      "text/plain": [
       "  0%|          | 0/2000 [00:00<?, ?it/s]"
      ]
     },
     "metadata": {},
     "output_type": "display_data"
    },
    {
     "name": "stdout",
     "output_type": "stream",
     "text": [
      "0.007200637661933866 None\n",
      "0.004766829827872491 None\n",
      "0.0047938550929476475 None\n",
      "0.004876847993303896 None\n",
      "0.0048081351688680374 None\n",
      "0.004777963288583277 None\n",
      "0.004820950337328196 None\n",
      "0.004782109951533857 None\n",
      "0.004766882399051766 None\n",
      "0.004797080994852142 None\n",
      "0.004831193058024654 None\n",
      "0.004767109761374283 None\n",
      "0.004783180897494856 None\n",
      "0.004784902560126274 None\n",
      "0.004749918658460408 None\n",
      "0.004775366474391455 None\n",
      "0.004752199474167747 None\n",
      "0.004789789932140383 None\n",
      "0.004760478849540615 None\n",
      "0.004855590940442115 None\n",
      "tf.Tensor(0.004747392824284347, shape=(), dtype=float64)\n",
      "0.004759268012478906 None\n"
     ]
    },
    {
     "data": {
      "application/vnd.jupyter.widget-view+json": {
       "model_id": "46a3f1145c544364964377ddd6b3bf07",
       "version_major": 2,
       "version_minor": 0
      },
      "text/plain": [
       "  0%|          | 0/2000 [00:00<?, ?it/s]"
      ]
     },
     "metadata": {},
     "output_type": "display_data"
    },
    {
     "name": "stdout",
     "output_type": "stream",
     "text": [
      "0.004397781179575268 None\n",
      "0.0002907306788811799 None\n",
      "0.00022593779386283382 None\n",
      "0.00022218953245733628 None\n",
      "0.00025896781406252456 None\n",
      "0.00024531044642826794 None\n",
      "0.0003138972118491429 None\n",
      "0.00023749422261022494 None\n",
      "0.00026525733250488785 None\n",
      "0.0002251823414825705 None\n",
      "0.0002530287654076667 None\n",
      "0.0002260353631129055 None\n",
      "0.00026201337688381426 None\n",
      "0.00023128827059336853 None\n",
      "0.00029265640684058083 None\n",
      "0.0003283162707949268 None\n",
      "0.0002648459681539369 None\n",
      "0.0002563194000658603 None\n",
      "0.00024347460076369967 None\n",
      "0.0002577713292985853 None\n",
      "tf.Tensor(0.000273719752072573, shape=(), dtype=float64)\n",
      "0.0002636422011343918 None\n"
     ]
    },
    {
     "data": {
      "application/vnd.jupyter.widget-view+json": {
       "model_id": "3361b6a6519b46d4a89f3bc74168a5e5",
       "version_major": 2,
       "version_minor": 0
      },
      "text/plain": [
       "  0%|          | 0/2000 [00:00<?, ?it/s]"
      ]
     },
     "metadata": {},
     "output_type": "display_data"
    },
    {
     "name": "stdout",
     "output_type": "stream",
     "text": [
      "0.004350495272340486 None\n",
      "0.00300784646285159 None\n",
      "0.0029976227973492735 None\n",
      "0.0029581251140931835 None\n",
      "0.002975377128596794 None\n",
      "0.002940295367589097 None\n",
      "0.0029522876240248783 None\n",
      "0.002993813220489066 None\n",
      "0.0029830422680091374 None\n",
      "0.0029600550560487365 None\n",
      "0.002942500411331199 None\n",
      "0.002963676411290998 None\n",
      "0.002936830837788628 None\n",
      "0.002946128991277004 None\n",
      "0.0029298289736983518 None\n",
      "0.002966839146190831 None\n",
      "0.00294782455580128 None\n",
      "0.0029922928933016468 None\n",
      "0.0029604820092189767 None\n",
      "0.002954971879200791 None\n",
      "tf.Tensor(0.002947522987260651, shape=(), dtype=float64)\n",
      "0.002953231501625443 None\n"
     ]
    },
    {
     "data": {
      "application/vnd.jupyter.widget-view+json": {
       "model_id": "9a2a213019bc4729829ddc76ccb3ab58",
       "version_major": 2,
       "version_minor": 0
      },
      "text/plain": [
       "  0%|          | 0/2000 [00:00<?, ?it/s]"
      ]
     },
     "metadata": {},
     "output_type": "display_data"
    },
    {
     "name": "stdout",
     "output_type": "stream",
     "text": [
      "0.007693739801081768 None\n",
      "0.0024979640679903565 None\n",
      "0.002498688302561433 None\n",
      "0.0025021726780902875 None\n",
      "0.002523627459395191 None\n",
      "0.0025277333870580027 None\n",
      "0.0025129291122935726 None\n",
      "0.002485451085950701 None\n",
      "0.002510887243088348 None\n",
      "0.0025538132978191914 None\n",
      "0.0025193742343291824 None\n",
      "0.0025319336446819555 None\n",
      "0.002574412162654815 None\n",
      "0.0024893947661246245 None\n",
      "0.0025277926754341765 None\n",
      "0.0025576126205647774 None\n",
      "0.00251784452236215 None\n",
      "0.0025356155078911907 None\n",
      "0.002573755962419851 None\n",
      "0.0024929907595937113 None\n",
      "tf.Tensor(0.002501658931899301, shape=(), dtype=float64)\n",
      "0.002529691950820147 None\n",
      "Done!\n"
     ]
    },
    {
     "data": {
      "application/vnd.jupyter.widget-view+json": {
       "model_id": "d1e0903df62841d8a8a4d755e99cffc1",
       "version_major": 2,
       "version_minor": 0
      },
      "text/plain": [
       "  0%|          | 0/2000 [00:00<?, ?it/s]"
      ]
     },
     "metadata": {},
     "output_type": "display_data"
    },
    {
     "name": "stdout",
     "output_type": "stream",
     "text": [
      "0.02503917574123069 None\n",
      "0.0077171973454034735 None\n",
      "0.007702501206007869 None\n",
      "0.007673768933749202 None\n",
      "0.007657967222635656 None\n",
      "0.007674816655254968 None\n",
      "0.007655196764303882 None\n",
      "0.007658803975392875 None\n",
      "0.0076473303633211535 None\n",
      "0.007646061725345278 None\n",
      "0.0076693013998473895 None\n",
      "0.007646052021582627 None\n",
      "0.007683241882928038 None\n",
      "0.00766957545714231 None\n",
      "0.007676979521338232 None\n",
      "0.007707854711265989 None\n",
      "0.007644566995175373 None\n",
      "0.0076476508165420395 None\n",
      "0.007648550081735825 None\n",
      "0.007645957005268008 None\n",
      "tf.Tensor(0.007659733846434513, shape=(), dtype=float64)\n",
      "0.0076434715578690155 None\n"
     ]
    },
    {
     "data": {
      "application/vnd.jupyter.widget-view+json": {
       "model_id": "fdb7cefc9c4c4a2c916c42401f80514c",
       "version_major": 2,
       "version_minor": 0
      },
      "text/plain": [
       "  0%|          | 0/2000 [00:00<?, ?it/s]"
      ]
     },
     "metadata": {},
     "output_type": "display_data"
    },
    {
     "name": "stdout",
     "output_type": "stream",
     "text": [
      "0.01825478029029832 None\n",
      "0.0051014211322584786 None\n",
      "0.005084927208901581 None\n",
      "0.005103972941546986 None\n",
      "0.005061513167536157 None\n",
      "0.005122183559246483 None\n",
      "0.005103630022821241 None\n",
      "0.005084830165743298 None\n",
      "0.005139403753532555 None\n",
      "0.005120049414460809 None\n",
      "0.005110416868268035 None\n",
      "0.005138873283389635 None\n",
      "0.005093377189599497 None\n",
      "0.005098657747827308 None\n",
      "0.005113207711557032 None\n",
      "0.005110140866029544 None\n",
      "0.005090528231811232 None\n",
      "0.005062661489213355 None\n",
      "0.0051045336919083115 None\n",
      "0.005071674597762399 None\n",
      "tf.Tensor(0.005099356936966738, shape=(), dtype=float64)\n",
      "0.0051282839226317375 None\n"
     ]
    },
    {
     "data": {
      "application/vnd.jupyter.widget-view+json": {
       "model_id": "50057930ed854c56a870022806aff6f4",
       "version_major": 2,
       "version_minor": 0
      },
      "text/plain": [
       "  0%|          | 0/2000 [00:00<?, ?it/s]"
      ]
     },
     "metadata": {},
     "output_type": "display_data"
    },
    {
     "name": "stdout",
     "output_type": "stream",
     "text": [
      "0.013011260246977364 None\n",
      "0.0037881004978764787 None\n",
      "0.0037774560841321164 None\n",
      "0.0038210331393450717 None\n",
      "0.0037865745340947676 None\n",
      "0.0038294358309921943 None\n",
      "0.003774296224042748 None\n",
      "0.003766960674596906 None\n",
      "0.0037668914362411227 None\n",
      "0.0037828824991183885 None\n",
      "0.0037636980358251564 None\n",
      "0.0037838192045653585 None\n",
      "0.003771312410791393 None\n",
      "0.0037909382068687034 None\n",
      "0.0038026155466420915 None\n",
      "0.0037655540781756074 None\n",
      "0.003806597482243679 None\n",
      "0.0038164703961765887 None\n",
      "0.0037940257739273505 None\n",
      "0.003783116527235557 None\n",
      "tf.Tensor(0.0037953534671804692, shape=(), dtype=float64)\n",
      "0.0037791198024376884 None\n"
     ]
    },
    {
     "data": {
      "application/vnd.jupyter.widget-view+json": {
       "model_id": "59272edee7f44eeeb91c5a7c82b7cb50",
       "version_major": 2,
       "version_minor": 0
      },
      "text/plain": [
       "  0%|          | 0/2000 [00:00<?, ?it/s]"
      ]
     },
     "metadata": {},
     "output_type": "display_data"
    },
    {
     "name": "stdout",
     "output_type": "stream",
     "text": [
      "0.009925758877380942 None\n",
      "0.0028355285663200884 None\n",
      "0.002809208211426238 None\n",
      "0.0028328775466280112 None\n",
      "0.0028205625984260106 None\n",
      "0.0028122145208487916 None\n",
      "0.0028363324169724483 None\n",
      "0.0028033018915467212 None\n",
      "0.0028384469325993984 None\n",
      "0.002854706101431027 None\n",
      "0.0028197805511922733 None\n",
      "0.0028168869055438268 None\n",
      "0.0028199381463455703 None\n",
      "0.0028015937981846865 None\n",
      "0.0028028814706528866 None\n",
      "0.0028154111894319826 None\n",
      "0.002822687725399148 None\n",
      "0.002799323917183587 None\n",
      "0.002811254654439134 None\n",
      "0.0028283382953100556 None\n",
      "tf.Tensor(0.0028547245277364026, shape=(), dtype=float64)\n",
      "0.0028532956788922988 None\n"
     ]
    },
    {
     "data": {
      "application/vnd.jupyter.widget-view+json": {
       "model_id": "f1ed949d913749c0b46fca7cb2006bc0",
       "version_major": 2,
       "version_minor": 0
      },
      "text/plain": [
       "  0%|          | 0/2000 [00:00<?, ?it/s]"
      ]
     },
     "metadata": {},
     "output_type": "display_data"
    },
    {
     "name": "stdout",
     "output_type": "stream",
     "text": [
      "0.02240755570064701 None\n",
      "0.007637621652519017 None\n",
      "0.007596367908228674 None\n",
      "0.007624013747317292 None\n",
      "0.007633354026021387 None\n",
      "0.007621404263318579 None\n",
      "0.007613893497795303 None\n",
      "0.007610384969881473 None\n",
      "0.007628097747304783 None\n",
      "0.007616887285596447 None\n",
      "0.007649841695208501 None\n",
      "0.007613109050315108 None\n",
      "0.007597939733192097 None\n",
      "0.007641519662066455 None\n",
      "0.007636061884817311 None\n",
      "0.0076240466344806215 None\n",
      "0.0076296305881586885 None\n",
      "0.007614178288658081 None\n",
      "0.00764089279883203 None\n",
      "0.0076025257178915975 None\n",
      "tf.Tensor(0.007628378868529984, shape=(), dtype=float64)\n",
      "0.00761874197839269 None\n"
     ]
    },
    {
     "data": {
      "application/vnd.jupyter.widget-view+json": {
       "model_id": "b77e74498fda437196b99b4e56543905",
       "version_major": 2,
       "version_minor": 0
      },
      "text/plain": [
       "  0%|          | 0/2000 [00:00<?, ?it/s]"
      ]
     },
     "metadata": {},
     "output_type": "display_data"
    },
    {
     "name": "stdout",
     "output_type": "stream",
     "text": [
      "0.013024564211573794 None\n",
      "0.00158188887341712 None\n",
      "0.001552175057877976 None\n",
      "0.0015837061953500702 None\n",
      "0.001595832568991479 None\n",
      "0.0016026555948808214 None\n",
      "0.0016112138261896152 None\n",
      "0.001562703229590014 None\n",
      "0.0015693233117217032 None\n",
      "0.0015979883977477825 None\n",
      "0.001556623440537596 None\n",
      "0.0015808530482013285 None\n",
      "0.0015752872138817247 None\n",
      "0.0015708245188843142 None\n",
      "0.001573279256947611 None\n",
      "0.0015874914652480223 None\n",
      "0.0015994264268660435 None\n",
      "0.0015704235525646863 None\n",
      "0.001582464610089854 None\n",
      "0.0015684380352265423 None\n",
      "tf.Tensor(0.001601147174035221, shape=(), dtype=float64)\n",
      "0.0015827856599419012 None\n"
     ]
    },
    {
     "data": {
      "application/vnd.jupyter.widget-view+json": {
       "model_id": "a76e1e4bd1804222a5cbecb168679516",
       "version_major": 2,
       "version_minor": 0
      },
      "text/plain": [
       "  0%|          | 0/2000 [00:00<?, ?it/s]"
      ]
     },
     "metadata": {},
     "output_type": "display_data"
    },
    {
     "name": "stdout",
     "output_type": "stream",
     "text": [
      "0.012461256783995298 None\n",
      "0.0023576804482006806 None\n",
      "0.0023862581708950243 None\n",
      "0.002338342781071312 None\n",
      "0.0023568894394507094 None\n",
      "0.0023108387829699536 None\n",
      "0.002331602341227139 None\n",
      "0.0023115042854987417 None\n",
      "0.0023726665321377165 None\n",
      "0.002327568317078383 None\n",
      "0.002325040020537619 None\n",
      "0.002338988784111413 None\n",
      "0.002311605532651353 None\n",
      "0.0023271218240832545 None\n",
      "0.0023129956202876025 None\n",
      "0.0023183647712356013 None\n",
      "0.0023165024802569902 None\n",
      "0.00232955535677864 None\n",
      "0.0023562388291893752 None\n",
      "0.002327887416591236 None\n",
      "tf.Tensor(0.0023498685611859256, shape=(), dtype=float64)\n",
      "0.0023379121546838553 None\n"
     ]
    },
    {
     "data": {
      "application/vnd.jupyter.widget-view+json": {
       "model_id": "4f1a46205ba74fbfad8ba8850fee24fe",
       "version_major": 2,
       "version_minor": 0
      },
      "text/plain": [
       "  0%|          | 0/2000 [00:00<?, ?it/s]"
      ]
     },
     "metadata": {},
     "output_type": "display_data"
    },
    {
     "name": "stdout",
     "output_type": "stream",
     "text": [
      "0.015819204867932285 None\n",
      "0.003436926328397637 None\n",
      "0.0033377683360807844 None\n",
      "0.0033364062184132962 None\n",
      "0.003333679218172193 None\n",
      "0.0034065808541647764 None\n",
      "0.003345810656555353 None\n",
      "0.003332421337626639 None\n",
      "0.0033194628748520194 None\n",
      "0.003342477096212746 None\n",
      "0.003365702640812686 None\n",
      "0.003317516636974091 None\n",
      "0.0033270801830875187 None\n",
      "0.0033807223904622225 None\n",
      "0.0033279125374343077 None\n",
      "0.0033299794359682375 None\n",
      "0.003353885119340016 None\n",
      "0.0033230914462579267 None\n",
      "0.003355250821137065 None\n",
      "0.003326895762562952 None\n",
      "tf.Tensor(0.0033242050570556347, shape=(), dtype=float64)\n",
      "0.0033389316748548593 None\n"
     ]
    },
    {
     "data": {
      "application/vnd.jupyter.widget-view+json": {
       "model_id": "a5cb8941ae624eb89b45497300dbb5c4",
       "version_major": 2,
       "version_minor": 0
      },
      "text/plain": [
       "  0%|          | 0/2000 [00:00<?, ?it/s]"
      ]
     },
     "metadata": {},
     "output_type": "display_data"
    },
    {
     "name": "stdout",
     "output_type": "stream",
     "text": [
      "0.01552499330770067 None\n",
      "0.004900350480774864 None\n",
      "0.004824508005211428 None\n",
      "0.0048339532198529 None\n",
      "0.004828302751407236 None\n",
      "0.0048370300076848605 None\n",
      "0.004840979149642486 None\n",
      "0.004893557782917586 None\n",
      "0.0048344190894084125 None\n",
      "0.0048345695273902724 None\n",
      "0.004832256494198972 None\n",
      "0.004851978854757849 None\n",
      "0.004826843331653051 None\n",
      "0.004884833386672878 None\n",
      "0.00486273999901291 None\n",
      "0.004839462842979645 None\n",
      "0.004824502729758427 None\n",
      "0.00482787913292009 None\n",
      "0.00483321250669601 None\n",
      "0.004854275366367103 None\n",
      "tf.Tensor(0.004868346416417068, shape=(), dtype=float64)\n",
      "0.0048903494180357 None\n"
     ]
    },
    {
     "data": {
      "application/vnd.jupyter.widget-view+json": {
       "model_id": "38073fa1d28d439a82c6ececce3a85d8",
       "version_major": 2,
       "version_minor": 0
      },
      "text/plain": [
       "  0%|          | 0/2000 [00:00<?, ?it/s]"
      ]
     },
     "metadata": {},
     "output_type": "display_data"
    },
    {
     "name": "stdout",
     "output_type": "stream",
     "text": [
      "0.013058529830712236 None\n",
      "0.0014189689968289853 None\n",
      "0.001491904810935054 None\n",
      "0.0014209391026318435 None\n",
      "0.0014356752939979605 None\n",
      "0.0014306847233859655 None\n",
      "0.0014081000962572789 None\n",
      "0.001423006577899977 None\n",
      "0.0014247029639666599 None\n",
      "0.0014380075645898868 None\n",
      "0.001435060568058066 None\n",
      "0.0014345870220957794 None\n",
      "0.0014116560991416817 None\n",
      "0.0014221640854452083 None\n",
      "0.001424176691720437 None\n",
      "0.0014344999401842348 None\n",
      "0.0014099664966511494 None\n",
      "0.0014140438285042984 None\n",
      "0.0014562203355020058 None\n",
      "0.0014573253731128173 None\n",
      "tf.Tensor(0.00143381745124895, shape=(), dtype=float64)\n",
      "0.0014131182426412089 None\n"
     ]
    },
    {
     "data": {
      "application/vnd.jupyter.widget-view+json": {
       "model_id": "2b969893c1b54c3487ed4c9ad7f018d0",
       "version_major": 2,
       "version_minor": 0
      },
      "text/plain": [
       "  0%|          | 0/2000 [00:00<?, ?it/s]"
      ]
     },
     "metadata": {},
     "output_type": "display_data"
    },
    {
     "name": "stdout",
     "output_type": "stream",
     "text": [
      "0.012938064371866016 None\n",
      "0.0002998030966355151 None\n",
      "0.0003450516728729057 None\n",
      "0.00029827727673186095 None\n",
      "0.00034026457266874734 None\n",
      "0.0003077564071282627 None\n",
      "0.00029100694575489965 None\n",
      "0.00028443296843410834 None\n",
      "0.00027778890313490644 None\n",
      "0.0003132222763103428 None\n",
      "0.00028819335226650845 None\n",
      "0.00028909912155832343 None\n",
      "0.00029340673523126255 None\n",
      "0.0002994903332469885 None\n",
      "0.0003143517993403327 None\n",
      "0.0003253885699800209 None\n",
      "0.000278436913995813 None\n",
      "0.0002944887530624829 None\n",
      "0.0003355913456790944 None\n",
      "0.0003167393600424055 None\n",
      "tf.Tensor(0.0003123753905732631, shape=(), dtype=float64)\n",
      "0.0003266079312682739 None\n"
     ]
    },
    {
     "data": {
      "application/vnd.jupyter.widget-view+json": {
       "model_id": "8165553c46b243efb22e57223ff4437c",
       "version_major": 2,
       "version_minor": 0
      },
      "text/plain": [
       "  0%|          | 0/2000 [00:00<?, ?it/s]"
      ]
     },
     "metadata": {},
     "output_type": "display_data"
    },
    {
     "name": "stdout",
     "output_type": "stream",
     "text": [
      "0.013020130958109251 None\n",
      "0.0001238130501111604 None\n",
      "6.827677360717564e-05 None\n",
      "7.962650746521152e-05 None\n",
      "7.446250089360867e-05 None\n",
      "7.988976813344886e-05 None\n",
      "0.00015375193746077973 None\n",
      "7.501453029475427e-05 None\n",
      "8.018954788748499e-05 None\n",
      "0.0001114398738346397 None\n",
      "7.633103911935425e-05 None\n",
      "6.730861695955492e-05 None\n",
      "9.224024423040537e-05 None\n",
      "8.231786785336745e-05 None\n",
      "0.000126872417023716 None\n",
      "0.00010974439025649742 None\n",
      "7.154112455683495e-05 None\n",
      "0.00010330309156655025 None\n",
      "9.62211814851989e-05 None\n",
      "0.00010503875966822764 None\n",
      "tf.Tensor(9.903087801490205e-05, shape=(), dtype=float64)\n",
      "8.229348188261432e-05 None\n"
     ]
    },
    {
     "data": {
      "application/vnd.jupyter.widget-view+json": {
       "model_id": "f5346ddad1d549a1ab67e70040bd909b",
       "version_major": 2,
       "version_minor": 0
      },
      "text/plain": [
       "  0%|          | 0/2000 [00:00<?, ?it/s]"
      ]
     },
     "metadata": {},
     "output_type": "display_data"
    },
    {
     "name": "stdout",
     "output_type": "stream",
     "text": [
      "0.014670915507806697 None\n",
      "0.000980868510959517 None\n",
      "0.0009533665271124203 None\n",
      "0.0009438740313789142 None\n",
      "0.0009482213992101814 None\n",
      "0.0009297632005260716 None\n",
      "0.0009717902928989171 None\n",
      "0.0009696938585765334 None\n",
      "0.0009602498168472494 None\n",
      "0.0009466430486487799 None\n",
      "0.0009330760835631769 None\n",
      "0.0009391910382435479 None\n",
      "0.0009440355442386014 None\n",
      "0.0009438994393270329 None\n",
      "0.000934507812488862 None\n",
      "0.0009387196361670125 None\n",
      "0.0009525222662128477 None\n",
      "0.0009949884981148814 None\n",
      "0.0009382096192711714 None\n",
      "0.0009773107779016202 None\n",
      "tf.Tensor(0.0009469628040553683, shape=(), dtype=float64)\n",
      "0.0009448474669982304 None\n",
      "Done!\n"
     ]
    },
    {
     "data": {
      "application/vnd.jupyter.widget-view+json": {
       "model_id": "dff2dcdb243b447aa5f83dda50074ee0",
       "version_major": 2,
       "version_minor": 0
      },
      "text/plain": [
       "  0%|          | 0/2000 [00:00<?, ?it/s]"
      ]
     },
     "metadata": {},
     "output_type": "display_data"
    },
    {
     "name": "stdout",
     "output_type": "stream",
     "text": [
      "0.050116657788468764 None\n",
      "0.022867772723929928 None\n",
      "0.008163086075270196 None\n",
      "0.008083726326159085 None\n",
      "0.00809351313961456 None\n",
      "0.008118799616070534 None\n",
      "0.008118305925143229 None\n",
      "0.008083639745621565 None\n",
      "0.008070001008479911 None\n",
      "0.008080109732511873 None\n",
      "0.008079093767694355 None\n",
      "0.00810617770507674 None\n",
      "0.008081262992955477 None\n",
      "0.008138373786540056 None\n",
      "0.008087026654392607 None\n",
      "0.008109234292080266 None\n",
      "0.008091985956437096 None\n",
      "0.008081385880934377 None\n",
      "0.008088978607831847 None\n",
      "0.008070820009803841 None\n",
      "tf.Tensor(0.008070801231044505, shape=(), dtype=float64)\n",
      "0.008086593403815585 None\n"
     ]
    },
    {
     "data": {
      "application/vnd.jupyter.widget-view+json": {
       "model_id": "f6df2b1f52db4186ab5afcfa426775aa",
       "version_major": 2,
       "version_minor": 0
      },
      "text/plain": [
       "  0%|          | 0/2000 [00:00<?, ?it/s]"
      ]
     },
     "metadata": {},
     "output_type": "display_data"
    },
    {
     "name": "stdout",
     "output_type": "stream",
     "text": [
      "0.042142284258191665 None\n",
      "0.015607631778317777 None\n",
      "0.0019932083569182846 None\n",
      "0.0019576556291514054 None\n",
      "0.0019415080302106758 None\n",
      "0.001966165145675273 None\n",
      "0.0019249519708166279 None\n",
      "0.0019267540211349021 None\n",
      "0.001976835797226984 None\n",
      "0.0019770882612608707 None\n",
      "0.001971785290628608 None\n",
      "0.0019746294699038106 None\n",
      "0.0019196057441396974 None\n",
      "0.0019133111568783445 None\n",
      "0.001915722924042346 None\n",
      "0.0019173780969753938 None\n",
      "0.001957653386156659 None\n",
      "0.0019209701185008785 None\n",
      "0.0019204290041669875 None\n",
      "0.001916817568378193 None\n",
      "tf.Tensor(0.0019252155418648716, shape=(), dtype=float64)\n",
      "0.00190129880949989 None\n"
     ]
    },
    {
     "data": {
      "application/vnd.jupyter.widget-view+json": {
       "model_id": "ad87d6b9ac1b428aac40dd05529ce18a",
       "version_major": 2,
       "version_minor": 0
      },
      "text/plain": [
       "  0%|          | 0/2000 [00:00<?, ?it/s]"
      ]
     },
     "metadata": {},
     "output_type": "display_data"
    },
    {
     "name": "stdout",
     "output_type": "stream",
     "text": [
      "0.03744528619196898 None\n",
      "0.011375100457700354 None\n",
      "8.192533393314334e-05 None\n",
      "0.00011831345288858611 None\n",
      "8.563799207442387e-05 None\n",
      "0.0001014702519779205 None\n",
      "0.00010384432328337627 None\n",
      "7.426483166752054e-05 None\n",
      "0.00010645875224737228 None\n",
      "0.00013975479268002987 None\n",
      "9.758718179318782e-05 None\n",
      "0.00010631778078928726 None\n",
      "7.653247516067885e-05 None\n",
      "9.135335681668272e-05 None\n",
      "8.024666863847181e-05 None\n",
      "9.432460167488506e-05 None\n",
      "7.411345087286053e-05 None\n",
      "8.352287807623059e-05 None\n",
      "9.036264622581773e-05 None\n",
      "7.339882716977247e-05 None\n",
      "tf.Tensor(9.897255319031399e-05, shape=(), dtype=float64)\n",
      "8.891519722120482e-05 None\n"
     ]
    },
    {
     "data": {
      "application/vnd.jupyter.widget-view+json": {
       "model_id": "35d40968e2e041efbfbc7503adedf570",
       "version_major": 2,
       "version_minor": 0
      },
      "text/plain": [
       "  0%|          | 0/2000 [00:00<?, ?it/s]"
      ]
     },
     "metadata": {},
     "output_type": "display_data"
    },
    {
     "name": "stdout",
     "output_type": "stream",
     "text": [
      "0.041464409250896186 None\n",
      "0.0161096507051418 None\n",
      "0.00013948450843234532 None\n",
      "0.00018613546740903035 None\n",
      "0.0001128440736800438 None\n",
      "0.0001326672954819006 None\n",
      "0.00013509726088839144 None\n",
      "0.0001717641586472564 None\n",
      "0.00012661602724571043 None\n",
      "0.0001793820837103985 None\n",
      "0.00012149115700698689 None\n",
      "0.00013723933308411145 None\n",
      "0.00013293311603542607 None\n",
      "0.00015234628447642964 None\n",
      "0.00011285137629921116 None\n",
      "0.00015369203539962982 None\n",
      "0.00013550437990921503 None\n",
      "0.00020607469979937523 None\n",
      "0.0001286631455207892 None\n",
      "0.00017985677493945022 None\n",
      "tf.Tensor(0.00012171817801628904, shape=(), dtype=float64)\n",
      "0.00012851532246567834 None\n"
     ]
    },
    {
     "data": {
      "application/vnd.jupyter.widget-view+json": {
       "model_id": "01304cd56bcf4be696b8c8fdc88f90ec",
       "version_major": 2,
       "version_minor": 0
      },
      "text/plain": [
       "  0%|          | 0/2000 [00:00<?, ?it/s]"
      ]
     },
     "metadata": {},
     "output_type": "display_data"
    },
    {
     "name": "stdout",
     "output_type": "stream",
     "text": [
      "0.0445475875982648 None\n",
      "0.01809349958857671 None\n",
      "0.0036532559864435234 None\n",
      "0.0036153370826948854 None\n",
      "0.003617391414643161 None\n",
      "0.0036233994803947494 None\n",
      "0.0036431012144528697 None\n",
      "0.00361600014909769 None\n",
      "0.0036218656794219095 None\n",
      "0.0036436697860544494 None\n",
      "0.003633002001113059 None\n",
      "0.003641169175591208 None\n",
      "0.003704507258202351 None\n",
      "0.0036479385971116014 None\n",
      "0.0036413295442164276 None\n",
      "0.0036175983706747163 None\n",
      "0.0036389699551687815 None\n",
      "0.0036658410840123504 None\n",
      "0.0036223489775952366 None\n",
      "0.003695462539348148 None\n",
      "tf.Tensor(0.0036210242795052337, shape=(), dtype=float64)\n",
      "0.0036615743425976975 None\n"
     ]
    },
    {
     "data": {
      "application/vnd.jupyter.widget-view+json": {
       "model_id": "97f86264f64549298426bb71616ddcd5",
       "version_major": 2,
       "version_minor": 0
      },
      "text/plain": [
       "  0%|          | 0/2000 [00:00<?, ?it/s]"
      ]
     },
     "metadata": {},
     "output_type": "display_data"
    },
    {
     "name": "stdout",
     "output_type": "stream",
     "text": [
      "0.041871149903855084 None\n",
      "0.01571532220326098 None\n",
      "0.0018384560147784081 None\n",
      "0.0018146576156695387 None\n",
      "0.001830113303635729 None\n",
      "0.0018197450110913529 None\n",
      "0.0018211066528152006 None\n",
      "0.0019068603739599323 None\n",
      "0.00187002143221463 None\n",
      "0.0018478515405919646 None\n",
      "0.0018148781730493394 None\n",
      "0.0018265316547543264 None\n",
      "0.00181611305826271 None\n",
      "0.0018311875781943064 None\n",
      "0.0018301037406603382 None\n",
      "0.0018123603452374227 None\n",
      "0.0018353374543698207 None\n",
      "0.001837281834733577 None\n",
      "0.0018562442750110191 None\n",
      "0.0018396215121614951 None\n",
      "tf.Tensor(0.0018532668225671092, shape=(), dtype=float64)\n",
      "0.001850859810994098 None\n"
     ]
    },
    {
     "data": {
      "application/vnd.jupyter.widget-view+json": {
       "model_id": "0e203a3131ad4f3b91a62dd9c3bfe9e8",
       "version_major": 2,
       "version_minor": 0
      },
      "text/plain": [
       "  0%|          | 0/2000 [00:00<?, ?it/s]"
      ]
     },
     "metadata": {},
     "output_type": "display_data"
    },
    {
     "name": "stdout",
     "output_type": "stream",
     "text": [
      "0.04259181197419795 None\n",
      "0.016262844118974516 None\n",
      "0.0036383076707908538 None\n",
      "0.0036709848818800277 None\n",
      "0.0036460955794122094 None\n",
      "0.003639935554721783 None\n",
      "0.0036687274287913064 None\n",
      "0.0036520997622424313 None\n",
      "0.0036474636878090563 None\n",
      "0.0036466467118561677 None\n",
      "0.0036390981469748545 None\n",
      "0.0036455586445554473 None\n",
      "0.0036392157881229223 None\n",
      "0.0036847415863717065 None\n",
      "0.0036411743179492403 None\n",
      "0.0036748855822678755 None\n",
      "0.0036529750867038534 None\n",
      "0.0036845224440870007 None\n",
      "0.003671761784325262 None\n",
      "0.003668509851683148 None\n",
      "tf.Tensor(0.0036799094728719884, shape=(), dtype=float64)\n",
      "0.0036438960215404246 None\n"
     ]
    },
    {
     "data": {
      "application/vnd.jupyter.widget-view+json": {
       "model_id": "41165e2f792a458aa688afb59b0996bf",
       "version_major": 2,
       "version_minor": 0
      },
      "text/plain": [
       "  0%|          | 0/2000 [00:00<?, ?it/s]"
      ]
     },
     "metadata": {},
     "output_type": "display_data"
    },
    {
     "name": "stdout",
     "output_type": "stream",
     "text": [
      "0.03974618378486432 None\n",
      "0.013785265330298871 None\n",
      "0.0007806444750937894 None\n",
      "0.0007713016451183687 None\n",
      "0.0008100420714694887 None\n",
      "0.0008482100358892363 None\n",
      "0.0008239681765264319 None\n",
      "0.000823584767341826 None\n",
      "0.0008410552379048454 None\n",
      "0.000780734362034333 None\n",
      "0.0007800558074836234 None\n",
      "0.0008076072940951702 None\n",
      "0.0008543466947174821 None\n",
      "0.0008250880340433062 None\n",
      "0.0007833323984222183 None\n",
      "0.0007800414047003379 None\n",
      "0.0008130021305429516 None\n",
      "0.0008024889882552681 None\n",
      "0.0008114669415693176 None\n",
      "0.0007885693977200178 None\n",
      "tf.Tensor(0.0008199418048711066, shape=(), dtype=float64)\n",
      "0.0008465952133041993 None\n",
      "Done!\n"
     ]
    },
    {
     "data": {
      "application/vnd.jupyter.widget-view+json": {
       "model_id": "cc672cba0a7b4025a88138db825b99e4",
       "version_major": 2,
       "version_minor": 0
      },
      "text/plain": [
       "  0%|          | 0/2000 [00:00<?, ?it/s]"
      ]
     },
     "metadata": {},
     "output_type": "display_data"
    },
    {
     "name": "stdout",
     "output_type": "stream",
     "text": [
      "0.02342747685777701 None\n",
      "0.011363824099047522 None\n",
      "0.011367859274021199 None\n",
      "0.011377209876737036 None\n",
      "0.01137548120665553 None\n",
      "0.011356464549077652 None\n",
      "0.011344361856020814 None\n",
      "0.011372546680394315 None\n",
      "0.01135069139189437 None\n",
      "0.011349971377331687 None\n",
      "0.01135450866041176 None\n",
      "0.011446091890264944 None\n",
      "0.01136326557922647 None\n",
      "0.011371149503568136 None\n",
      "0.011374434135750042 None\n",
      "0.011425038473103614 None\n",
      "0.011354772334686524 None\n",
      "0.01137904254828375 None\n",
      "0.011376720133302425 None\n",
      "0.01138568959192331 None\n",
      "tf.Tensor(0.011344509507510977, shape=(), dtype=float64)\n",
      "0.01138838344200117 None\n"
     ]
    },
    {
     "data": {
      "application/vnd.jupyter.widget-view+json": {
       "model_id": "bb32a7268d5b4c8f8648ad36c25f7447",
       "version_major": 2,
       "version_minor": 0
      },
      "text/plain": [
       "  0%|          | 0/2000 [00:00<?, ?it/s]"
      ]
     },
     "metadata": {},
     "output_type": "display_data"
    },
    {
     "name": "stdout",
     "output_type": "stream",
     "text": [
      "0.01873784108811516 None\n",
      "0.011805156038672864 None\n",
      "0.011806258523744884 None\n",
      "0.011792245150313956 None\n",
      "0.011768688106649453 None\n",
      "0.011811245355679099 None\n",
      "0.011771670389868715 None\n",
      "0.011800011400506589 None\n",
      "0.011778851544496701 None\n",
      "0.011785004044624348 None\n",
      "0.011824203306880249 None\n",
      "0.01183976055101121 None\n",
      "0.011861550596447196 None\n",
      "0.01177471478980244 None\n",
      "0.011824685711412108 None\n",
      "0.011817609463617026 None\n",
      "0.011790179008028104 None\n",
      "0.01176752295772067 None\n",
      "0.011788335922379562 None\n",
      "0.011804037415549903 None\n",
      "tf.Tensor(0.01179147215217691, shape=(), dtype=float64)\n",
      "0.011775135430955267 None\n"
     ]
    },
    {
     "data": {
      "application/vnd.jupyter.widget-view+json": {
       "model_id": "e5fefa457b0d4330a7dc9085e5ae4c24",
       "version_major": 2,
       "version_minor": 0
      },
      "text/plain": [
       "  0%|          | 0/2000 [00:00<?, ?it/s]"
      ]
     },
     "metadata": {},
     "output_type": "display_data"
    },
    {
     "name": "stdout",
     "output_type": "stream",
     "text": [
      "0.018142278277188777 None\n",
      "0.009394422999709749 None\n",
      "0.009397995955772061 None\n",
      "0.009365157574728198 None\n",
      "0.009368217982062433 None\n",
      "0.009373579345330289 None\n",
      "0.009344695665080317 None\n",
      "0.009363804302065907 None\n",
      "0.009384005275829926 None\n",
      "0.009395359171545239 None\n",
      "0.009343872782867753 None\n",
      "0.009377815058746627 None\n",
      "0.00935852148119673 None\n",
      "0.009393314697386045 None\n",
      "0.009350786616017195 None\n",
      "0.009373972147450563 None\n",
      "0.009342122939964875 None\n",
      "0.009359079149908873 None\n",
      "0.009403061497102658 None\n",
      "0.009401575260859607 None\n",
      "tf.Tensor(0.009350366996165562, shape=(), dtype=float64)\n",
      "0.009401673859646274 None\n"
     ]
    },
    {
     "data": {
      "application/vnd.jupyter.widget-view+json": {
       "model_id": "76818c1638bf4ebda4d4e3d38c82e276",
       "version_major": 2,
       "version_minor": 0
      },
      "text/plain": [
       "  0%|          | 0/2000 [00:00<?, ?it/s]"
      ]
     },
     "metadata": {},
     "output_type": "display_data"
    },
    {
     "name": "stdout",
     "output_type": "stream",
     "text": [
      "0.019025470631956618 None\n",
      "0.007163326325005522 None\n",
      "0.0071609163200632014 None\n",
      "0.007199721886478662 None\n",
      "0.007165738956579954 None\n",
      "0.007169970002078746 None\n",
      "0.007172730478834001 None\n",
      "0.007171833220856813 None\n",
      "0.007179734458283271 None\n",
      "0.007182531403046805 None\n",
      "0.007213566622900959 None\n",
      "0.00716887054538237 None\n",
      "0.007202472833010429 None\n",
      "0.007165320687266824 None\n",
      "0.0072093616804993245 None\n",
      "0.007220278404137229 None\n",
      "0.007165456352237301 None\n",
      "0.007197799519645227 None\n",
      "0.0071982165010951345 None\n",
      "0.00719206595198937 None\n",
      "tf.Tensor(0.00717048653984282, shape=(), dtype=float64)\n",
      "0.007204931115639612 None\n"
     ]
    },
    {
     "data": {
      "application/vnd.jupyter.widget-view+json": {
       "model_id": "2ec82e52a06f43a790d19d14a70c7b52",
       "version_major": 2,
       "version_minor": 0
      },
      "text/plain": [
       "  0%|          | 0/2000 [00:00<?, ?it/s]"
      ]
     },
     "metadata": {},
     "output_type": "display_data"
    },
    {
     "name": "stdout",
     "output_type": "stream",
     "text": [
      "0.016910655636919424 None\n",
      "0.006541913757601513 None\n",
      "0.006674122282725858 None\n",
      "0.006613740985903248 None\n",
      "0.006569867202522105 None\n",
      "0.006610214640191795 None\n",
      "0.006588569546633765 None\n",
      "0.006538769026405433 None\n",
      "0.006567232577821384 None\n",
      "0.00657601660523403 None\n",
      "0.006653595554814705 None\n",
      "0.006597329542336312 None\n",
      "0.006600225950699578 None\n",
      "0.006582771519094874 None\n",
      "0.006543969920575023 None\n",
      "0.006588134754885571 None\n",
      "0.006548535878836656 None\n",
      "0.006540791503518134 None\n",
      "0.006565157480996082 None\n",
      "0.006607204002993748 None\n",
      "tf.Tensor(0.00654830696465422, shape=(), dtype=float64)\n",
      "0.0065507863313759 None\n"
     ]
    },
    {
     "data": {
      "application/vnd.jupyter.widget-view+json": {
       "model_id": "4ac078eb59194589ac094a5f2cbe33db",
       "version_major": 2,
       "version_minor": 0
      },
      "text/plain": [
       "  0%|          | 0/2000 [00:00<?, ?it/s]"
      ]
     },
     "metadata": {},
     "output_type": "display_data"
    },
    {
     "name": "stdout",
     "output_type": "stream",
     "text": [
      "0.014104707701556151 None\n",
      "0.007411645530107161 None\n",
      "0.007442678791301097 None\n",
      "0.007419429845300878 None\n",
      "0.007446270417534611 None\n",
      "0.007412127801031435 None\n",
      "0.007469645344054135 None\n",
      "0.007421938986302872 None\n",
      "0.007425344977261652 None\n",
      "0.007422302401518676 None\n",
      "0.007462932533341132 None\n",
      "0.007409397567807273 None\n",
      "0.007422717709582877 None\n",
      "0.007415650380897048 None\n",
      "0.007458358319902611 None\n",
      "0.007459386435804077 None\n",
      "0.007443743249606937 None\n",
      "0.007423632116341169 None\n",
      "0.007445599396410383 None\n",
      "0.007409133865530125 None\n",
      "tf.Tensor(0.007420844662948883, shape=(), dtype=float64)\n",
      "0.00742471748040187 None\n"
     ]
    },
    {
     "data": {
      "application/vnd.jupyter.widget-view+json": {
       "model_id": "60b037d762374b0eba2b08676b521c74",
       "version_major": 2,
       "version_minor": 0
      },
      "text/plain": [
       "  0%|          | 0/2000 [00:00<?, ?it/s]"
      ]
     },
     "metadata": {},
     "output_type": "display_data"
    },
    {
     "name": "stdout",
     "output_type": "stream",
     "text": [
      "0.012767744647039128 None\n",
      "0.005683003970961838 None\n",
      "0.005688312147779111 None\n",
      "0.005739237211324102 None\n",
      "0.005716269165321372 None\n",
      "0.00568530261778686 None\n",
      "0.005703980456513045 None\n",
      "0.005671087222182092 None\n",
      "0.005678537386657719 None\n",
      "0.005704292071626836 None\n",
      "0.005708212417845962 None\n",
      "0.005679736433543038 None\n",
      "0.005688259730987319 None\n",
      "0.0056844861285874175 None\n",
      "0.005672600030276248 None\n",
      "0.005675069552356242 None\n",
      "0.005673763313789744 None\n",
      "0.005695812912290259 None\n",
      "0.005699799274988171 None\n",
      "0.00569220695825203 None\n",
      "tf.Tensor(0.0056634132384386394, shape=(), dtype=float64)\n",
      "0.005660506010863171 None\n"
     ]
    },
    {
     "data": {
      "application/vnd.jupyter.widget-view+json": {
       "model_id": "adddeda33f8843418fc7cadb875c686a",
       "version_major": 2,
       "version_minor": 0
      },
      "text/plain": [
       "  0%|          | 0/2000 [00:00<?, ?it/s]"
      ]
     },
     "metadata": {},
     "output_type": "display_data"
    },
    {
     "name": "stdout",
     "output_type": "stream",
     "text": [
      "0.012035166690219522 None\n",
      "0.005305139487442259 None\n",
      "0.005352278845771668 None\n",
      "0.005297099050040891 None\n",
      "0.005318505636676374 None\n",
      "0.005308344536146644 None\n",
      "0.005329944228436129 None\n",
      "0.005353113953426738 None\n",
      "0.005310098637445419 None\n",
      "0.005297199581405858 None\n",
      "0.00531475232087829 None\n",
      "0.005334508453664458 None\n",
      "0.00530634882534149 None\n",
      "0.005300862901367422 None\n",
      "0.0052951007602447114 None\n",
      "0.00535772112927063 None\n",
      "0.005336261815939644 None\n",
      "0.005309581050385856 None\n",
      "0.005347975590072185 None\n",
      "0.005306112118461371 None\n",
      "tf.Tensor(0.005333026539571758, shape=(), dtype=float64)\n",
      "0.00535646104660932 None\n"
     ]
    },
    {
     "data": {
      "application/vnd.jupyter.widget-view+json": {
       "model_id": "566e1afec2fe45fa87d5aa26ae647af6",
       "version_major": 2,
       "version_minor": 0
      },
      "text/plain": [
       "  0%|          | 0/2000 [00:00<?, ?it/s]"
      ]
     },
     "metadata": {},
     "output_type": "display_data"
    },
    {
     "name": "stdout",
     "output_type": "stream",
     "text": [
      "0.01449301032760164 None\n",
      "0.004456052372006173 None\n",
      "0.004480924470921922 None\n",
      "0.004485200510850664 None\n",
      "0.004430804169114028 None\n",
      "0.004464011176796892 None\n",
      "0.0044532009465735045 None\n",
      "0.0044688364281145025 None\n",
      "0.0044275400576427835 None\n",
      "0.004460794649777704 None\n",
      "0.004453163889969181 None\n",
      "0.004459220849579892 None\n",
      "0.004484394424977143 None\n",
      "0.004463287778438237 None\n",
      "0.004504392971685527 None\n",
      "0.004463507279129487 None\n",
      "0.00445175405708885 None\n",
      "0.004458561939381088 None\n",
      "0.00448721412529131 None\n",
      "0.004426141794181458 None\n",
      "tf.Tensor(0.004470908488770254, shape=(), dtype=float64)\n",
      "0.004494919304429615 None\n"
     ]
    },
    {
     "data": {
      "application/vnd.jupyter.widget-view+json": {
       "model_id": "0128fc3066814ce28f292d9f598d827e",
       "version_major": 2,
       "version_minor": 0
      },
      "text/plain": [
       "  0%|          | 0/2000 [00:00<?, ?it/s]"
      ]
     },
     "metadata": {},
     "output_type": "display_data"
    },
    {
     "name": "stdout",
     "output_type": "stream",
     "text": [
      "0.011222685864394118 None\n",
      "0.005761961400005353 None\n",
      "0.0057039031953891595 None\n",
      "0.0057146218618108514 None\n",
      "0.005715730246390502 None\n",
      "0.005721092070930401 None\n",
      "0.005722024972184672 None\n",
      "0.005734482214977219 None\n",
      "0.005725002908897523 None\n",
      "0.005762419067583253 None\n",
      "0.005746091525435941 None\n",
      "0.0057571992202450645 None\n",
      "0.005705908500304046 None\n",
      "0.005725652419801533 None\n",
      "0.005745611110869842 None\n",
      "0.005724420965157677 None\n",
      "0.005735500064896228 None\n",
      "0.005743036011296146 None\n",
      "0.005698521303343333 None\n",
      "0.005707060330678578 None\n",
      "tf.Tensor(0.005788232339893246, shape=(), dtype=float64)\n",
      "0.005791662975391031 None\n"
     ]
    },
    {
     "data": {
      "application/vnd.jupyter.widget-view+json": {
       "model_id": "d5fbe8d9967f408fa2f3f16e88590263",
       "version_major": 2,
       "version_minor": 0
      },
      "text/plain": [
       "  0%|          | 0/2000 [00:00<?, ?it/s]"
      ]
     },
     "metadata": {},
     "output_type": "display_data"
    },
    {
     "name": "stdout",
     "output_type": "stream",
     "text": [
      "0.013001022891375828 None\n",
      "0.0053480514668185035 None\n",
      "0.005391894245812686 None\n",
      "0.005329155710173963 None\n",
      "0.00539137000669505 None\n",
      "0.005368664748542118 None\n",
      "0.005338296779639493 None\n",
      "0.005362493681168576 None\n",
      "0.005354482065848836 None\n",
      "0.005368811833190561 None\n",
      "0.005351556768164425 None\n",
      "0.005391105105050035 None\n",
      "0.005342474204270389 None\n",
      "0.005331330302496979 None\n",
      "0.0053437160522968735 None\n",
      "0.005335403101074658 None\n",
      "0.005333769022086741 None\n",
      "0.0053497615003892975 None\n",
      "0.0053402668022445796 None\n",
      "0.0053565922508218775 None\n",
      "tf.Tensor(0.005334509519673326, shape=(), dtype=float64)\n",
      "0.00534462279843512 None\n"
     ]
    },
    {
     "data": {
      "application/vnd.jupyter.widget-view+json": {
       "model_id": "a53a7bd0f5af4583b5e25b355af158d9",
       "version_major": 2,
       "version_minor": 0
      },
      "text/plain": [
       "  0%|          | 0/2000 [00:00<?, ?it/s]"
      ]
     },
     "metadata": {},
     "output_type": "display_data"
    },
    {
     "name": "stdout",
     "output_type": "stream",
     "text": [
      "0.012376467023215963 None\n",
      "0.003761694260403823 None\n",
      "0.0037815952459055585 None\n",
      "0.0037835490464798102 None\n",
      "0.0037793104914515784 None\n",
      "0.003765938739920942 None\n",
      "0.0038031327576073786 None\n",
      "0.003761025006226864 None\n",
      "0.0037681707721728235 None\n",
      "0.0037726612602424024 None\n",
      "0.003854142281215913 None\n",
      "0.0037649545347224218 None\n",
      "0.0037821411913354693 None\n",
      "0.0037707772980799734 None\n",
      "0.003764556799314681 None\n",
      "0.003765558515657151 None\n",
      "0.0038462815080124724 None\n",
      "0.003759330708996613 None\n",
      "0.0037616957807701384 None\n",
      "0.0037745102838955998 None\n",
      "tf.Tensor(0.0038180638093124504, shape=(), dtype=float64)\n",
      "0.0037670841919322674 None\n"
     ]
    },
    {
     "data": {
      "application/vnd.jupyter.widget-view+json": {
       "model_id": "85cf3f03594c42c2aa67d52c7eb3f751",
       "version_major": 2,
       "version_minor": 0
      },
      "text/plain": [
       "  0%|          | 0/2000 [00:00<?, ?it/s]"
      ]
     },
     "metadata": {},
     "output_type": "display_data"
    },
    {
     "name": "stdout",
     "output_type": "stream",
     "text": [
      "0.00891123744813886 None\n",
      "0.0037975104542368066 None\n",
      "0.003813792138075492 None\n",
      "0.003832030300628486 None\n",
      "0.003796186752918323 None\n",
      "0.003850219932650169 None\n",
      "0.003797300358698274 None\n",
      "0.00381202038013302 None\n",
      "0.0038286666148342405 None\n",
      "0.003794102987403788 None\n",
      "0.0038203524304038818 None\n",
      "0.003795297354124774 None\n",
      "0.0037857692870672324 None\n",
      "0.003797826496584885 None\n",
      "0.0038082864096557825 None\n",
      "0.003814213742560432 None\n",
      "0.0037966148003165338 None\n",
      "0.0038040671926868903 None\n",
      "0.0038252080239099297 None\n",
      "0.0037850653586700457 None\n",
      "tf.Tensor(0.0038449828425271993, shape=(), dtype=float64)\n",
      "0.0038124941407101723 None\n",
      "Done!\n"
     ]
    },
    {
     "data": {
      "application/vnd.jupyter.widget-view+json": {
       "model_id": "e47accf9dd9246f5a07df52c9a58ade1",
       "version_major": 2,
       "version_minor": 0
      },
      "text/plain": [
       "  0%|          | 0/2000 [00:00<?, ?it/s]"
      ]
     },
     "metadata": {},
     "output_type": "display_data"
    },
    {
     "name": "stdout",
     "output_type": "stream",
     "text": [
      "0.027086785007146057 None\n",
      "0.010530645558364244 None\n",
      "0.010529410566512484 None\n",
      "0.010504216994002872 None\n",
      "0.010516003441524058 None\n",
      "0.010546677217510294 None\n",
      "0.010593494959238127 None\n",
      "0.010525702643538621 None\n",
      "0.010514144496407552 None\n",
      "0.010563419892035469 None\n",
      "0.010511130708384242 None\n",
      "0.010567096793693736 None\n",
      "0.010545663631731506 None\n",
      "0.010518613128234574 None\n",
      "0.010576859818363137 None\n",
      "0.010512058906272269 None\n",
      "0.010509604844402587 None\n",
      "0.010575054729747435 None\n",
      "0.01060310744500245 None\n",
      "0.010546222264434807 None\n",
      "tf.Tensor(0.010559932828952083, shape=(), dtype=float64)\n",
      "0.010505924689502186 None\n"
     ]
    },
    {
     "data": {
      "application/vnd.jupyter.widget-view+json": {
       "model_id": "1084690cb93447c98c6ec7f86f4f02ec",
       "version_major": 2,
       "version_minor": 0
      },
      "text/plain": [
       "  0%|          | 0/2000 [00:00<?, ?it/s]"
      ]
     },
     "metadata": {},
     "output_type": "display_data"
    },
    {
     "name": "stdout",
     "output_type": "stream",
     "text": [
      "0.022471887964757825 None\n",
      "0.010222245178485289 None\n",
      "0.010232858751780623 None\n",
      "0.010139649458530199 None\n",
      "0.010166794124780302 None\n",
      "0.010170369909836751 None\n",
      "0.010140135062432125 None\n",
      "0.010206174671354816 None\n",
      "0.010197658272409245 None\n",
      "0.01016286706735245 None\n",
      "0.010151239069486518 None\n",
      "0.010195032645557578 None\n",
      "0.010183004362889296 None\n",
      "0.010155351747126581 None\n",
      "0.010193159736899856 None\n",
      "0.010171066872683819 None\n",
      "0.010208467311467169 None\n",
      "0.010198567138856555 None\n",
      "0.010146217652467272 None\n",
      "0.01015070102531782 None\n",
      "tf.Tensor(0.01019507613691298, shape=(), dtype=float64)\n",
      "0.010155230138797879 None\n"
     ]
    },
    {
     "data": {
      "application/vnd.jupyter.widget-view+json": {
       "model_id": "bcfac58f01964c27a005ea433c926a80",
       "version_major": 2,
       "version_minor": 0
      },
      "text/plain": [
       "  0%|          | 0/2000 [00:00<?, ?it/s]"
      ]
     },
     "metadata": {},
     "output_type": "display_data"
    },
    {
     "name": "stdout",
     "output_type": "stream",
     "text": [
      "0.021556042585465313 None\n",
      "0.0073638233451006185 None\n",
      "0.00736228274066005 None\n",
      "0.00729735717899886 None\n",
      "0.007283256798195302 None\n",
      "0.0073029686899045865 None\n",
      "0.007321083998000287 None\n",
      "0.007348517080968687 None\n",
      "0.0073281330676479 None\n",
      "0.007312850509907055 None\n",
      "0.007288005391412911 None\n",
      "0.0073048446297923186 None\n",
      "0.0072854920050568605 None\n",
      "0.007326792856869558 None\n",
      "0.007360304771533875 None\n",
      "0.007302588049444317 None\n",
      "0.0073510608355493706 None\n",
      "0.007342365170390204 None\n",
      "0.007368085819148931 None\n",
      "0.007327495169537958 None\n",
      "tf.Tensor(0.007330558168071514, shape=(), dtype=float64)\n",
      "0.0073237326128439955 None\n"
     ]
    },
    {
     "data": {
      "application/vnd.jupyter.widget-view+json": {
       "model_id": "a1ca0d82df044d71876b8848e267b49e",
       "version_major": 2,
       "version_minor": 0
      },
      "text/plain": [
       "  0%|          | 0/2000 [00:00<?, ?it/s]"
      ]
     },
     "metadata": {},
     "output_type": "display_data"
    },
    {
     "name": "stdout",
     "output_type": "stream",
     "text": [
      "0.023351482694335332 None\n",
      "0.005667978090547452 None\n",
      "0.00554024589032669 None\n",
      "0.005526626971945571 None\n",
      "0.00553012978559669 None\n",
      "0.005531738160407279 None\n",
      "0.005542654969847981 None\n",
      "0.005591791565617859 None\n",
      "0.005549082344600588 None\n",
      "0.00553606542556416 None\n",
      "0.005530085751217781 None\n",
      "0.0055801963689354785 None\n",
      "0.005614917658522548 None\n",
      "0.005552456190551032 None\n",
      "0.005522233774311084 None\n",
      "0.005539752912461985 None\n",
      "0.005548445584559209 None\n",
      "0.005537225998389532 None\n",
      "0.00553128002863716 None\n",
      "0.005550883250330535 None\n",
      "tf.Tensor(0.005562239947032862, shape=(), dtype=float64)\n",
      "0.005542149115651986 None\n"
     ]
    },
    {
     "data": {
      "application/vnd.jupyter.widget-view+json": {
       "model_id": "3e3f5132d5bb4fa4a6f2b158bbe47c9c",
       "version_major": 2,
       "version_minor": 0
      },
      "text/plain": [
       "  0%|          | 0/2000 [00:00<?, ?it/s]"
      ]
     },
     "metadata": {},
     "output_type": "display_data"
    },
    {
     "name": "stdout",
     "output_type": "stream",
     "text": [
      "0.014140499187124084 None\n",
      "0.0030755232791321325 None\n",
      "0.003098606275672702 None\n",
      "0.003066346335412605 None\n",
      "0.0030808736665320843 None\n",
      "0.003087907291832068 None\n",
      "0.0030676617184239793 None\n",
      "0.003060491648814643 None\n",
      "0.0030683961960292546 None\n",
      "0.0030663325772936276 None\n",
      "0.0030635773346174688 None\n",
      "0.0030662214492293387 None\n",
      "0.003073720781482365 None\n",
      "0.00310422614725581 None\n",
      "0.003083568321155321 None\n",
      "0.003059797484505451 None\n",
      "0.003077322662829925 None\n",
      "0.003056863806042037 None\n",
      "0.0030697110758229566 None\n",
      "0.0030771400804631335 None\n",
      "tf.Tensor(0.00308752448301745, shape=(), dtype=float64)\n",
      "0.003057107337882437 None\n"
     ]
    },
    {
     "data": {
      "application/vnd.jupyter.widget-view+json": {
       "model_id": "3942cc0d1ad54db392e6bd2a2fd79eda",
       "version_major": 2,
       "version_minor": 0
      },
      "text/plain": [
       "  0%|          | 0/2000 [00:00<?, ?it/s]"
      ]
     },
     "metadata": {},
     "output_type": "display_data"
    },
    {
     "name": "stdout",
     "output_type": "stream",
     "text": [
      "0.013949933822098432 None\n",
      "0.0038252179736576533 None\n",
      "0.0038474591987429085 None\n",
      "0.0038311157311024593 None\n",
      "0.0038498936316064547 None\n",
      "0.003838271711655232 None\n",
      "0.0038174915369042616 None\n",
      "0.0038372656760400897 None\n",
      "0.003830157277844472 None\n",
      "0.0038326472438103016 None\n",
      "0.003857317419248092 None\n",
      "0.0038578245273861687 None\n",
      "0.0038098562159152964 None\n",
      "0.00380689708044645 None\n",
      "0.003835554183711962 None\n",
      "0.003849111348084999 None\n",
      "0.0038118790780536527 None\n",
      "0.0038228221561457214 None\n",
      "0.0038578455353499054 None\n",
      "0.0038618517471302773 None\n",
      "tf.Tensor(0.0038036425985090456, shape=(), dtype=float64)\n",
      "0.003806100090204172 None\n"
     ]
    },
    {
     "data": {
      "application/vnd.jupyter.widget-view+json": {
       "model_id": "648595fa01fa496881884a67329aa06a",
       "version_major": 2,
       "version_minor": 0
      },
      "text/plain": [
       "  0%|          | 0/2000 [00:00<?, ?it/s]"
      ]
     },
     "metadata": {},
     "output_type": "display_data"
    },
    {
     "name": "stdout",
     "output_type": "stream",
     "text": [
      "0.018945792785744646 None\n",
      "0.006324649659240525 None\n",
      "0.006327292056817726 None\n",
      "0.006312101682960857 None\n",
      "0.006343940725672074 None\n",
      "0.006323748330637343 None\n",
      "0.006345860262606149 None\n",
      "0.006354027230926155 None\n",
      "0.0063310705524391355 None\n",
      "0.006389413342428081 None\n",
      "0.006335159796983734 None\n",
      "0.006317190751323247 None\n",
      "0.006311648397463723 None\n",
      "0.006356133443587812 None\n",
      "0.006376671830244238 None\n",
      "0.006315352918828305 None\n",
      "0.006334816325604857 None\n",
      "0.006323249450079119 None\n",
      "0.00636209643983213 None\n",
      "0.006325004201504322 None\n",
      "tf.Tensor(0.006323858000861863, shape=(), dtype=float64)\n",
      "0.00631903914255289 None\n"
     ]
    },
    {
     "data": {
      "application/vnd.jupyter.widget-view+json": {
       "model_id": "a29825a534a74491bbd31c5e756ca982",
       "version_major": 2,
       "version_minor": 0
      },
      "text/plain": [
       "  0%|          | 0/2000 [00:00<?, ?it/s]"
      ]
     },
     "metadata": {},
     "output_type": "display_data"
    },
    {
     "name": "stdout",
     "output_type": "stream",
     "text": [
      "0.018569415624937864 None\n",
      "0.006426439208380793 None\n",
      "0.006439607432372169 None\n",
      "0.006434012761314374 None\n",
      "0.006443196549610661 None\n",
      "0.0064531805218656455 None\n",
      "0.006445733306622752 None\n",
      "0.00646571563577652 None\n",
      "0.006479936000786933 None\n",
      "0.006462121886530402 None\n",
      "0.006452710633463704 None\n",
      "0.006448421302188029 None\n",
      "0.006440147204045132 None\n",
      "0.0064328475390546 None\n",
      "0.006429593487137005 None\n",
      "0.006475173519031862 None\n",
      "0.00646289996864054 None\n",
      "0.006438894657770127 None\n",
      "0.006481463246530211 None\n",
      "0.006428931229125108 None\n",
      "tf.Tensor(0.006558890734300098, shape=(), dtype=float64)\n",
      "0.006522607144358898 None\n"
     ]
    },
    {
     "data": {
      "application/vnd.jupyter.widget-view+json": {
       "model_id": "08850345647d46ed98e47776d48a7770",
       "version_major": 2,
       "version_minor": 0
      },
      "text/plain": [
       "  0%|          | 0/2000 [00:00<?, ?it/s]"
      ]
     },
     "metadata": {},
     "output_type": "display_data"
    },
    {
     "name": "stdout",
     "output_type": "stream",
     "text": [
      "0.017764761304232622 None\n",
      "0.003264503920005008 None\n",
      "0.003287279694608179 None\n",
      "0.0032840325254122407 None\n",
      "0.0032980916206070895 None\n",
      "0.0032932352108146785 None\n",
      "0.0032532053789264583 None\n",
      "0.0033223956773784334 None\n",
      "0.0032658252326829822 None\n",
      "0.0032932770502088343 None\n",
      "0.0032532912889347756 None\n",
      "0.003322445348006577 None\n",
      "0.003265792768395061 None\n",
      "0.0032933743630570826 None\n",
      "0.0032531899532051694 None\n",
      "0.0033225949517483623 None\n",
      "0.0032656412669904225 None\n",
      "0.0032935471777326593 None\n",
      "0.0032530062490200764 None\n",
      "0.0032939859718674556 None\n",
      "tf.Tensor(0.003280219584452862, shape=(), dtype=float64)\n",
      "0.0032980192434426334 None\n"
     ]
    },
    {
     "data": {
      "application/vnd.jupyter.widget-view+json": {
       "model_id": "04f68e71f1794f41b4cf6c0705fe20c8",
       "version_major": 2,
       "version_minor": 0
      },
      "text/plain": [
       "  0%|          | 0/2000 [00:00<?, ?it/s]"
      ]
     },
     "metadata": {},
     "output_type": "display_data"
    },
    {
     "name": "stdout",
     "output_type": "stream",
     "text": [
      "0.018488868206440398 None\n",
      "0.0020830085866123445 None\n",
      "0.0020487957052671806 None\n",
      "0.0019627846120350047 None\n",
      "0.0019729104276595116 None\n",
      "0.0020058041009897026 None\n",
      "0.001967274712514731 None\n",
      "0.002058590911975503 None\n",
      "0.001979359236503893 None\n",
      "0.0019579010064065643 None\n",
      "0.0020389747868895473 None\n",
      "0.0020326795396112245 None\n",
      "0.0020130194003371345 None\n",
      "0.001977560233785586 None\n",
      "0.0020143107741327944 None\n",
      "0.001969336376703927 None\n",
      "0.002007974305158873 None\n",
      "0.0019851386999367882 None\n",
      "0.0019647647215007783 None\n",
      "0.0020012888924537658 None\n",
      "tf.Tensor(0.002039261886698845, shape=(), dtype=float64)\n",
      "0.00199244424749709 None\n"
     ]
    },
    {
     "data": {
      "application/vnd.jupyter.widget-view+json": {
       "model_id": "6c69f187ad0049d4a65148b95402592f",
       "version_major": 2,
       "version_minor": 0
      },
      "text/plain": [
       "  0%|          | 0/2000 [00:00<?, ?it/s]"
      ]
     },
     "metadata": {},
     "output_type": "display_data"
    },
    {
     "name": "stdout",
     "output_type": "stream",
     "text": [
      "0.015737982124184362 None\n",
      "0.0028023694477301905 None\n",
      "0.002811199966397799 None\n",
      "0.0028282293999701055 None\n",
      "0.0028594784176181574 None\n",
      "0.0028261091261068474 None\n",
      "0.002800562424974843 None\n",
      "0.0028333522124136257 None\n",
      "0.0028535641719105945 None\n",
      "0.0028627740494918084 None\n",
      "0.0028616482376626062 None\n",
      "0.0028985881426264477 None\n",
      "0.0027992854441433665 None\n",
      "0.002847227473387729 None\n",
      "0.002818856976821575 None\n",
      "0.0028026462679283676 None\n",
      "0.002803169858890075 None\n",
      "0.0028123401881806846 None\n",
      "0.0028507042345312164 None\n",
      "0.0028090836855102757 None\n",
      "tf.Tensor(0.0028448270481150426, shape=(), dtype=float64)\n",
      "0.00284227938434339 None\n",
      "Done!\n"
     ]
    }
   ],
   "source": [
    "n = 3\n",
    "d = 2**n\n",
    "\n",
    "np.random.seed(42)\n",
    "random.seed(42)\n",
    "tf.random.set_seed(42)\n",
    "rng = np.random.default_rng(seed=42)\n",
    "\n",
    "[distance_best_list, model_best_list] = loader(data_path(\"diluted_fitting_8layer.model\"))\n",
    "rank_start = model_best_list[-1].channel.rank\n",
    "\n",
    "distance_best_list, model_best_list = fit_diluted_unitary(spectrum_target_list2,\n",
    "                                                          d=d, \n",
    "                                                          rank_start = rank_start,\n",
    "                                                          rank_step = 1,\n",
    "                                                          num_iter = 2000,\n",
    "                                                          )\n",
    "\n",
    "saver([distance_best_list, model_best_list], data_path(\"diluted_fitting_16layer.model\"))"
   ]
  },
  {
   "cell_type": "code",
   "execution_count": 10,
   "metadata": {},
   "outputs": [
    {
     "data": {
      "application/vnd.jupyter.widget-view+json": {
       "model_id": "c6001a19f877419d9134b42988e6d70b",
       "version_major": 2,
       "version_minor": 0
      },
      "text/plain": [
       "  0%|          | 0/10 [00:00<?, ?it/s]"
      ]
     },
     "metadata": {},
     "output_type": "display_data"
    },
    {
     "data": {
      "application/vnd.jupyter.widget-view+json": {
       "model_id": "6f3cbd191f614e88b006d5df1dab0142",
       "version_major": 2,
       "version_minor": 0
      },
      "text/plain": [
       "  0%|          | 0/2000 [00:00<?, ?it/s]"
      ]
     },
     "metadata": {},
     "output_type": "display_data"
    },
    {
     "name": "stdout",
     "output_type": "stream",
     "text": [
      "0.1252431797069385 None\n",
      "0.09904159185607495 None\n",
      "0.07608685965945838 None\n",
      "0.04981524255760278 None\n",
      "0.026893084719218037 None\n",
      "0.0067770922811365 None\n",
      "0.002657492882625999 None\n",
      "0.0026743731245887047 None\n",
      "0.0026216677680736197 None\n",
      "0.0026206356463256107 None\n",
      "0.00264182743681614 None\n",
      "0.002634246352672861 None\n",
      "0.0026339736227432523 None\n",
      "0.0026836561809384027 None\n",
      "0.0026676947915258136 None\n",
      "0.0026657757677028895 None\n",
      "0.0026341107020006384 None\n",
      "0.0026338513475763978 None\n",
      "0.0026505040492316445 None\n",
      "0.002620584240466706 None\n",
      "tf.Tensor(0.0026667686203711623, shape=(), dtype=float64)\n",
      "0.0026421172284246796 None\n"
     ]
    },
    {
     "data": {
      "application/vnd.jupyter.widget-view+json": {
       "model_id": "909d1626096e4da1a2d21b6dc38a0803",
       "version_major": 2,
       "version_minor": 0
      },
      "text/plain": [
       "  0%|          | 0/2000 [00:00<?, ?it/s]"
      ]
     },
     "metadata": {},
     "output_type": "display_data"
    },
    {
     "name": "stdout",
     "output_type": "stream",
     "text": [
      "0.1342390426762397 None\n",
      "0.11079029953154503 None\n",
      "0.08778018382604225 None\n",
      "0.06533165037456669 None\n",
      "0.04358677650667023 None\n",
      "0.022859862773130145 None\n",
      "0.008492727125666252 None\n",
      "0.008349596784057297 None\n",
      "0.008370643830205455 None\n",
      "0.008377751601529712 None\n",
      "0.008397242372309021 None\n",
      "0.008378844971361607 None\n",
      "0.008402237743309159 None\n",
      "0.008360187506929092 None\n",
      "0.008386376779138711 None\n",
      "0.00841376920203059 None\n",
      "0.008376456724126567 None\n",
      "0.008399106762226825 None\n",
      "0.00837723362092749 None\n",
      "0.008400686031613787 None\n",
      "tf.Tensor(0.008349355189322132, shape=(), dtype=float64)\n",
      "0.008400412440343985 None\n"
     ]
    },
    {
     "data": {
      "application/vnd.jupyter.widget-view+json": {
       "model_id": "19d71bda2f144a858282a5e27266980d",
       "version_major": 2,
       "version_minor": 0
      },
      "text/plain": [
       "  0%|          | 0/2000 [00:00<?, ?it/s]"
      ]
     },
     "metadata": {},
     "output_type": "display_data"
    },
    {
     "name": "stdout",
     "output_type": "stream",
     "text": [
      "0.1294359460700854 None\n",
      "0.10527798796096743 None\n",
      "0.08209804829643907 None\n",
      "0.059039997223743965 None\n",
      "0.036428302896099884 None\n",
      "0.01451799976660901 None\n",
      "0.003734315524689639 None\n",
      "0.0036467078218029633 None\n",
      "0.0036713312858314886 None\n",
      "0.003661921928040315 None\n",
      "0.0036778943313863378 None\n",
      "0.0036558761671054065 None\n",
      "0.0036621151059349055 None\n",
      "0.003667572379576845 None\n",
      "0.003650727691628065 None\n",
      "0.003651006433852957 None\n",
      "0.003671604306659122 None\n",
      "0.0036863656758709517 None\n",
      "0.003666837739065872 None\n",
      "0.0036959111379787964 None\n",
      "tf.Tensor(0.003652177266137374, shape=(), dtype=float64)\n",
      "0.0036385455290008865 None\n"
     ]
    },
    {
     "data": {
      "application/vnd.jupyter.widget-view+json": {
       "model_id": "36af47d1aeaa480c84ff4b4110d23f45",
       "version_major": 2,
       "version_minor": 0
      },
      "text/plain": [
       "  0%|          | 0/2000 [00:00<?, ?it/s]"
      ]
     },
     "metadata": {},
     "output_type": "display_data"
    },
    {
     "name": "stdout",
     "output_type": "stream",
     "text": [
      "0.13115833913605218 None\n",
      "0.10724113702051764 None\n",
      "0.08370291241478443 None\n",
      "0.06049159930424647 None\n",
      "0.038313509757696616 None\n",
      "0.016552598836273615 None\n",
      "0.006220291761630159 None\n",
      "0.006278442752973913 None\n",
      "0.006285668354669411 None\n",
      "0.006211989089814454 None\n",
      "0.006230112170984353 None\n",
      "0.006275760997919625 None\n",
      "0.006218031024857391 None\n",
      "0.006301371715515739 None\n",
      "0.00622287452016476 None\n",
      "0.006261605979654418 None\n",
      "0.006217447585083457 None\n",
      "0.006216622216107368 None\n",
      "0.00623943025784462 None\n",
      "0.006252327288271879 None\n",
      "tf.Tensor(0.00622524820795649, shape=(), dtype=float64)\n",
      "0.006213765588405815 None\n"
     ]
    },
    {
     "data": {
      "application/vnd.jupyter.widget-view+json": {
       "model_id": "465b824a2b17439a803588b3c4dee1fd",
       "version_major": 2,
       "version_minor": 0
      },
      "text/plain": [
       "  0%|          | 0/2000 [00:00<?, ?it/s]"
      ]
     },
     "metadata": {},
     "output_type": "display_data"
    },
    {
     "name": "stdout",
     "output_type": "stream",
     "text": [
      "0.12956001647286136 None\n",
      "0.10330371565840492 None\n",
      "0.07928940866431824 None\n",
      "0.057524560147818975 None\n",
      "0.036069264327985746 None\n",
      "0.015324917180884268 None\n",
      "0.0053489468109291696 None\n",
      "0.005357212246889327 None\n",
      "0.0053516551388470435 None\n",
      "0.0053472678166698335 None\n",
      "0.005375833484753881 None\n",
      "0.005390835004109211 None\n",
      "0.005403726846144255 None\n",
      "0.005354210838157418 None\n",
      "0.0053790587856025075 None\n",
      "0.005367492455046705 None\n",
      "0.005406116343393401 None\n",
      "0.005393972707187474 None\n",
      "0.005366538651162078 None\n",
      "0.005413682311131042 None\n",
      "tf.Tensor(0.00538929703865053, shape=(), dtype=float64)\n",
      "0.005370107353838487 None\n"
     ]
    },
    {
     "data": {
      "application/vnd.jupyter.widget-view+json": {
       "model_id": "f35fa55be6fe4ba2a59c294593a16543",
       "version_major": 2,
       "version_minor": 0
      },
      "text/plain": [
       "  0%|          | 0/2000 [00:00<?, ?it/s]"
      ]
     },
     "metadata": {},
     "output_type": "display_data"
    },
    {
     "name": "stdout",
     "output_type": "stream",
     "text": [
      "0.12791435155281533 None\n",
      "0.10332261760295863 None\n",
      "0.0802563094847841 None\n",
      "0.05730306137401622 None\n",
      "0.03480383760495924 None\n",
      "0.01298583463658728 None\n",
      "0.005326709886425118 None\n",
      "0.005350614215621262 None\n",
      "0.005303114795718289 None\n",
      "0.0053164721424723334 None\n",
      "0.005322396058588275 None\n",
      "0.00531884505323813 None\n",
      "0.005371816804111059 None\n",
      "0.005329619210369537 None\n",
      "0.0053280566604708025 None\n",
      "0.005312590799302628 None\n",
      "0.00531333051240373 None\n",
      "0.005305708483547637 None\n",
      "0.005335550012861382 None\n",
      "0.005347278779027067 None\n",
      "tf.Tensor(0.005330700118665701, shape=(), dtype=float64)\n",
      "0.0053619894428473865 None\n",
      "Done!\n"
     ]
    },
    {
     "data": {
      "application/vnd.jupyter.widget-view+json": {
       "model_id": "16607ce244df43f58bf8f157b72ddca6",
       "version_major": 2,
       "version_minor": 0
      },
      "text/plain": [
       "  0%|          | 0/2000 [00:00<?, ?it/s]"
      ]
     },
     "metadata": {},
     "output_type": "display_data"
    },
    {
     "name": "stdout",
     "output_type": "stream",
     "text": [
      "0.12804304744125297 None\n",
      "0.10400834034838524 None\n",
      "0.08021453592326351 None\n",
      "0.056830557654691735 None\n",
      "0.0340241173897168 None\n",
      "0.012440968484182791 None\n",
      "0.006308841103957335 None\n",
      "0.006328465041937337 None\n",
      "0.00631330392313216 None\n",
      "0.006309622258631225 None\n",
      "0.006321951360598883 None\n",
      "0.006350015346610231 None\n",
      "0.006340165916486385 None\n",
      "0.00631183115854092 None\n",
      "0.006307311261409189 None\n",
      "0.006323513596680663 None\n",
      "0.006332156098503558 None\n",
      "0.0063144313744913985 None\n",
      "0.006318717744247561 None\n",
      "0.006306889967872958 None\n",
      "tf.Tensor(0.006299360522604713, shape=(), dtype=float64)\n",
      "0.006313941070052113 None\n"
     ]
    },
    {
     "data": {
      "application/vnd.jupyter.widget-view+json": {
       "model_id": "d775bb0f22794391880ba9a4aeec2423",
       "version_major": 2,
       "version_minor": 0
      },
      "text/plain": [
       "  0%|          | 0/2000 [00:00<?, ?it/s]"
      ]
     },
     "metadata": {},
     "output_type": "display_data"
    },
    {
     "name": "stdout",
     "output_type": "stream",
     "text": [
      "0.1304488574254323 None\n",
      "0.10662300941761739 None\n",
      "0.08307770891718873 None\n",
      "0.060023796882773636 None\n",
      "0.037681696350924804 None\n",
      "0.016218117686156254 None\n",
      "0.008921423942328859 None\n",
      "0.008928907502590077 None\n",
      "0.00891754477822336 None\n",
      "0.008934441052664534 None\n",
      "0.008928318204180611 None\n",
      "0.008916974972192186 None\n",
      "0.008920670679261333 None\n",
      "0.008922789398172534 None\n",
      "0.00890259423842808 None\n",
      "0.008959226250243025 None\n",
      "0.00890997833818749 None\n",
      "0.00892679742838727 None\n",
      "0.00889900609967335 None\n",
      "0.008888216672188046 None\n",
      "tf.Tensor(0.008913960640798947, shape=(), dtype=float64)\n",
      "0.008899428252116252 None\n"
     ]
    },
    {
     "data": {
      "application/vnd.jupyter.widget-view+json": {
       "model_id": "a212348f9e8848eb8d794cd03064d3bd",
       "version_major": 2,
       "version_minor": 0
      },
      "text/plain": [
       "  0%|          | 0/2000 [00:00<?, ?it/s]"
      ]
     },
     "metadata": {},
     "output_type": "display_data"
    },
    {
     "name": "stdout",
     "output_type": "stream",
     "text": [
      "0.1272236712295049 None\n",
      "0.10323240605959254 None\n",
      "0.08006372135868925 None\n",
      "0.0574256368734518 None\n",
      "0.035361688285779166 None\n",
      "0.014151897470145846 None\n",
      "0.006360395433241232 None\n",
      "0.006296361699979942 None\n",
      "0.006328982567140425 None\n",
      "0.00631251659817585 None\n",
      "0.00631547787260835 None\n",
      "0.0063062370623149615 None\n",
      "0.006382900640084087 None\n",
      "0.0063129398489976465 None\n",
      "0.006313946248358095 None\n",
      "0.006307931918434886 None\n",
      "0.006303138758722657 None\n",
      "0.006350366868128916 None\n",
      "0.006357708831302662 None\n",
      "0.006321861961014981 None\n",
      "tf.Tensor(0.006306992412076506, shape=(), dtype=float64)\n",
      "0.006319562141846327 None\n"
     ]
    },
    {
     "data": {
      "application/vnd.jupyter.widget-view+json": {
       "model_id": "8dd76fbdcbc6445a95507e4923f9fbd1",
       "version_major": 2,
       "version_minor": 0
      },
      "text/plain": [
       "  0%|          | 0/2000 [00:00<?, ?it/s]"
      ]
     },
     "metadata": {},
     "output_type": "display_data"
    },
    {
     "name": "stdout",
     "output_type": "stream",
     "text": [
      "0.12992510702842888 None\n",
      "0.10603309709884058 None\n",
      "0.08249475261906648 None\n",
      "0.05957434885199497 None\n",
      "0.03752692228583718 None\n",
      "0.01721039637979545 None\n",
      "0.007703898291306688 None\n",
      "0.007777193483037296 None\n",
      "0.007695029329450983 None\n",
      "0.007693821095175676 None\n",
      "0.0077182063381456105 None\n",
      "0.0077450199241263715 None\n",
      "0.007691986444241045 None\n",
      "0.007688739885105041 None\n",
      "0.007724265719279481 None\n",
      "0.007703786209170491 None\n",
      "0.0077025647992267875 None\n",
      "0.007695708634803563 None\n",
      "0.007705922408749944 None\n",
      "0.007697663149788623 None\n",
      "tf.Tensor(0.007695196213011939, shape=(), dtype=float64)\n",
      "0.007691596464615202 None\n"
     ]
    },
    {
     "data": {
      "application/vnd.jupyter.widget-view+json": {
       "model_id": "970eb24e22e1490591edf64a472d61e1",
       "version_major": 2,
       "version_minor": 0
      },
      "text/plain": [
       "  0%|          | 0/2000 [00:00<?, ?it/s]"
      ]
     },
     "metadata": {},
     "output_type": "display_data"
    },
    {
     "name": "stdout",
     "output_type": "stream",
     "text": [
      "0.1280502281788445 None\n",
      "0.10377259449113717 None\n",
      "0.07972087512006269 None\n",
      "0.05612653509261241 None\n",
      "0.033222180884382835 None\n",
      "0.011228871121961533 None\n",
      "0.006229107206951547 None\n",
      "0.00616029983655924 None\n",
      "0.006173110262964493 None\n",
      "0.006164484562020726 None\n",
      "0.006164060827531348 None\n",
      "0.006206232109096793 None\n",
      "0.006162008553917242 None\n",
      "0.006210948080589147 None\n",
      "0.006175664176063165 None\n",
      "0.006214280993964819 None\n",
      "0.006162499601338214 None\n",
      "0.00618682051606868 None\n",
      "0.006196143970293784 None\n",
      "0.006159328228090965 None\n",
      "tf.Tensor(0.006157973714770268, shape=(), dtype=float64)\n",
      "0.006176147495922955 None\n"
     ]
    },
    {
     "data": {
      "application/vnd.jupyter.widget-view+json": {
       "model_id": "f83bc303ba6449ef9961196d7f5a9959",
       "version_major": 2,
       "version_minor": 0
      },
      "text/plain": [
       "  0%|          | 0/2000 [00:00<?, ?it/s]"
      ]
     },
     "metadata": {},
     "output_type": "display_data"
    },
    {
     "name": "stdout",
     "output_type": "stream",
     "text": [
      "0.12955007099586108 None\n",
      "0.10378877640486857 None\n",
      "0.07861385198698141 None\n",
      "0.0566425767442343 None\n",
      "0.03468357381452871 None\n",
      "0.013403499452818098 None\n",
      "0.005287570473274623 None\n",
      "0.005321391960784412 None\n",
      "0.005320129487413099 None\n",
      "0.0052622045541973785 None\n",
      "0.005282745799264833 None\n",
      "0.00534428888269417 None\n",
      "0.005324564105505386 None\n",
      "0.0052607072537172 None\n",
      "0.005254464728589054 None\n",
      "0.005264002845574576 None\n",
      "0.005273110388550772 None\n",
      "0.005330599345255933 None\n",
      "0.005277611487788509 None\n",
      "0.005264962976597676 None\n",
      "tf.Tensor(0.00527376882906936, shape=(), dtype=float64)\n",
      "0.005262323004321216 None\n"
     ]
    },
    {
     "data": {
      "application/vnd.jupyter.widget-view+json": {
       "model_id": "51111f86c7f745728f461380b15be774",
       "version_major": 2,
       "version_minor": 0
      },
      "text/plain": [
       "  0%|          | 0/2000 [00:00<?, ?it/s]"
      ]
     },
     "metadata": {},
     "output_type": "display_data"
    },
    {
     "name": "stdout",
     "output_type": "stream",
     "text": [
      "0.12816846696527817 None\n",
      "0.1025506595049499 None\n",
      "0.07909761634143282 None\n",
      "0.05597032517139683 None\n",
      "0.03340314500530597 None\n",
      "0.01135964872958513 None\n",
      "0.002819959136623555 None\n",
      "0.0028034931878587483 None\n",
      "0.002800277987834318 None\n",
      "0.0028030237633462803 None\n",
      "0.0028035593389109225 None\n",
      "0.002791375032569857 None\n",
      "0.0027807658079419973 None\n",
      "0.002788162309253585 None\n",
      "0.0028170748931545704 None\n",
      "0.0028056148677542223 None\n",
      "0.0028522563918693487 None\n",
      "0.002848882340041879 None\n",
      "0.002783702375858685 None\n",
      "0.0027940740791514342 None\n",
      "tf.Tensor(0.0028174020808441978, shape=(), dtype=float64)\n",
      "0.002806562233125587 None\n"
     ]
    },
    {
     "data": {
      "application/vnd.jupyter.widget-view+json": {
       "model_id": "24b5efaa5f7241b5bf896a684e4f378c",
       "version_major": 2,
       "version_minor": 0
      },
      "text/plain": [
       "  0%|          | 0/2000 [00:00<?, ?it/s]"
      ]
     },
     "metadata": {},
     "output_type": "display_data"
    },
    {
     "name": "stdout",
     "output_type": "stream",
     "text": [
      "0.13154755373136096 None\n",
      "0.10554501159757251 None\n",
      "0.07963774214221526 None\n",
      "0.05672335619260867 None\n",
      "0.035630529468158555 None\n",
      "0.01492102798241737 None\n",
      "0.0037914803997535097 None\n",
      "0.0038153560839556226 None\n",
      "0.0037730008485176367 None\n",
      "0.00379270458779999 None\n",
      "0.0038413298795518837 None\n",
      "0.003765958332329754 None\n",
      "0.0038009111525857207 None\n",
      "0.003809884614769464 None\n",
      "0.003805929357401835 None\n",
      "0.003796535922538773 None\n",
      "0.0037987144581374394 None\n",
      "0.0037786990448191917 None\n",
      "0.0037983561383894086 None\n",
      "0.00377590489569791 None\n",
      "tf.Tensor(0.003787981547119403, shape=(), dtype=float64)\n",
      "0.003765790908054031 None\n"
     ]
    },
    {
     "data": {
      "application/vnd.jupyter.widget-view+json": {
       "model_id": "92418b63009c429d9fa1060d9acea253",
       "version_major": 2,
       "version_minor": 0
      },
      "text/plain": [
       "  0%|          | 0/2000 [00:00<?, ?it/s]"
      ]
     },
     "metadata": {},
     "output_type": "display_data"
    },
    {
     "name": "stdout",
     "output_type": "stream",
     "text": [
      "0.13102239760936688 None\n",
      "0.10538372676885155 None\n",
      "0.07994684620397932 None\n",
      "0.0548961525357577 None\n",
      "0.030384023436750007 None\n",
      "0.007625620429328761 None\n",
      "0.0005642113947780126 None\n",
      "0.0005857316374965737 None\n",
      "0.0005711401908583252 None\n",
      "0.0005649787409894823 None\n",
      "0.0005689842465282282 None\n",
      "0.000607831198845863 None\n",
      "0.0005781904364177588 None\n",
      "0.0005670084819009713 None\n",
      "0.0005808530086471014 None\n",
      "0.0006592612962079206 None\n",
      "0.0005786713226267042 None\n",
      "0.0006454825541945194 None\n",
      "0.0005963231345697748 None\n",
      "0.0005953092888664781 None\n",
      "tf.Tensor(0.000617226195004237, shape=(), dtype=float64)\n",
      "0.0005877453463067669 None\n"
     ]
    },
    {
     "data": {
      "application/vnd.jupyter.widget-view+json": {
       "model_id": "47a0a45aa39c478abb152fa54965de46",
       "version_major": 2,
       "version_minor": 0
      },
      "text/plain": [
       "  0%|          | 0/2000 [00:00<?, ?it/s]"
      ]
     },
     "metadata": {},
     "output_type": "display_data"
    },
    {
     "name": "stdout",
     "output_type": "stream",
     "text": [
      "0.1273554095289628 None\n",
      "0.10152031708729285 None\n",
      "0.07582964036227918 None\n",
      "0.05343101135570585 None\n",
      "0.031392135425140674 None\n",
      "0.009872363070384256 None\n",
      "0.003155538997813359 None\n",
      "0.0031039648723491936 None\n",
      "0.003083021539391273 None\n",
      "0.0030969949658381946 None\n",
      "0.0030826298807639894 None\n",
      "0.0030870096364525243 None\n",
      "0.0031135988674982334 None\n",
      "0.0031004532865634357 None\n",
      "0.0030897978478868857 None\n",
      "0.003123309397336776 None\n",
      "0.0031186387041551578 None\n",
      "0.00313109792005852 None\n",
      "0.0031480464980694744 None\n",
      "0.003083072729402527 None\n",
      "tf.Tensor(0.0030910149144146686, shape=(), dtype=float64)\n",
      "0.003116251877017053 None\n",
      "Done!\n"
     ]
    },
    {
     "data": {
      "application/vnd.jupyter.widget-view+json": {
       "model_id": "13136a551f2c428585e0cd35d2e4eb58",
       "version_major": 2,
       "version_minor": 0
      },
      "text/plain": [
       "  0%|          | 0/2000 [00:00<?, ?it/s]"
      ]
     },
     "metadata": {},
     "output_type": "display_data"
    },
    {
     "name": "stdout",
     "output_type": "stream",
     "text": [
      "0.11432778462516272 None\n",
      "0.09065579108287589 None\n",
      "0.06726842848742795 None\n",
      "0.04435214030960143 None\n",
      "0.0221505053113212 None\n",
      "0.006703907572110089 None\n",
      "0.006736954946236126 None\n",
      "0.006758030837760635 None\n",
      "0.00673201825827195 None\n",
      "0.006710678832200332 None\n",
      "0.0067126472466812 None\n",
      "0.006732699167459359 None\n",
      "0.006760766912003375 None\n",
      "0.006718985812039729 None\n",
      "0.006744123105596489 None\n",
      "0.006714892457014942 None\n",
      "0.006743106389694728 None\n",
      "0.006729505363786735 None\n",
      "0.006729008321121681 None\n",
      "0.006726753246925848 None\n",
      "tf.Tensor(0.006798365638990471, shape=(), dtype=float64)\n",
      "0.006811823535231845 None\n"
     ]
    },
    {
     "data": {
      "application/vnd.jupyter.widget-view+json": {
       "model_id": "0f24053f8956489c917602a06bd2566f",
       "version_major": 2,
       "version_minor": 0
      },
      "text/plain": [
       "  0%|          | 0/2000 [00:00<?, ?it/s]"
      ]
     },
     "metadata": {},
     "output_type": "display_data"
    },
    {
     "name": "stdout",
     "output_type": "stream",
     "text": [
      "0.11562143081083683 None\n",
      "0.08935891584175397 None\n",
      "0.06410506442726789 None\n",
      "0.04287542141023919 None\n",
      "0.021704006797696337 None\n",
      "0.004544496977444879 None\n",
      "0.004310292096591327 None\n",
      "0.004283191884955255 None\n",
      "0.004278267008741612 None\n",
      "0.004338618883135683 None\n",
      "0.004297874090943269 None\n",
      "0.004278806743513346 None\n",
      "0.004296680113085901 None\n",
      "0.00427328294212302 None\n",
      "0.004310943192690703 None\n",
      "0.004292828474332823 None\n",
      "0.004294097335535376 None\n",
      "0.0042938752280245965 None\n",
      "0.004280947160771332 None\n",
      "0.004311118007903554 None\n",
      "tf.Tensor(0.004296906234540149, shape=(), dtype=float64)\n",
      "0.004274062653957014 None\n"
     ]
    },
    {
     "data": {
      "application/vnd.jupyter.widget-view+json": {
       "model_id": "63eb6f9764a0436ba7eb4d8830ec99e9",
       "version_major": 2,
       "version_minor": 0
      },
      "text/plain": [
       "  0%|          | 0/2000 [00:00<?, ?it/s]"
      ]
     },
     "metadata": {},
     "output_type": "display_data"
    },
    {
     "name": "stdout",
     "output_type": "stream",
     "text": [
      "0.11125016447219624 None\n",
      "0.087051048968679 None\n",
      "0.06409436442740789 None\n",
      "0.04145299761518409 None\n",
      "0.020114163718712635 None\n",
      "0.0068264424479859125 None\n",
      "0.006748641240954244 None\n",
      "0.0067141256363086755 None\n",
      "0.006700155553648278 None\n",
      "0.006762504439237723 None\n",
      "0.006704229419797132 None\n",
      "0.006694281091824317 None\n",
      "0.0067171141456338675 None\n",
      "0.006755151589338702 None\n",
      "0.0067025436087787185 None\n",
      "0.006726178525755735 None\n",
      "0.006681462182036515 None\n",
      "0.0066982133934483604 None\n",
      "0.006723054116332025 None\n",
      "0.006701249331283679 None\n",
      "tf.Tensor(0.006701857834261143, shape=(), dtype=float64)\n",
      "0.00670088697291686 None\n"
     ]
    },
    {
     "data": {
      "application/vnd.jupyter.widget-view+json": {
       "model_id": "4e9005a35b18451f83d6b999966677d9",
       "version_major": 2,
       "version_minor": 0
      },
      "text/plain": [
       "  0%|          | 0/2000 [00:00<?, ?it/s]"
      ]
     },
     "metadata": {},
     "output_type": "display_data"
    },
    {
     "name": "stdout",
     "output_type": "stream",
     "text": [
      "0.11287906683264268 None\n",
      "0.08802206108349393 None\n",
      "0.06496820060915735 None\n",
      "0.04213427743486595 None\n",
      "0.019943189104686253 None\n",
      "0.004414002631464577 None\n",
      "0.0042906108616160895 None\n",
      "0.004280146119366819 None\n",
      "0.004312295637451962 None\n",
      "0.004341597775813033 None\n",
      "0.004285262677893335 None\n",
      "0.00431349624204652 None\n",
      "0.004299059578765115 None\n",
      "0.004340953678513693 None\n",
      "0.004295449779593006 None\n",
      "0.004302021944871342 None\n",
      "0.0043073723815961525 None\n",
      "0.004378983664698721 None\n",
      "0.004308003957029618 None\n",
      "0.0042865209865462755 None\n",
      "tf.Tensor(0.00430324005327423, shape=(), dtype=float64)\n",
      "0.004282141084969061 None\n"
     ]
    },
    {
     "data": {
      "application/vnd.jupyter.widget-view+json": {
       "model_id": "46b99a8535bd4df6b3468c088466178c",
       "version_major": 2,
       "version_minor": 0
      },
      "text/plain": [
       "  0%|          | 0/2000 [00:00<?, ?it/s]"
      ]
     },
     "metadata": {},
     "output_type": "display_data"
    },
    {
     "name": "stdout",
     "output_type": "stream",
     "text": [
      "0.11477703668011174 None\n",
      "0.09073942110111598 None\n",
      "0.06694072295223324 None\n",
      "0.04401479305739778 None\n",
      "0.022104228443768754 None\n",
      "0.005144579724641702 None\n",
      "0.004919425688997775 None\n",
      "0.004944273600200199 None\n",
      "0.004925929469693285 None\n",
      "0.004949133736105582 None\n",
      "0.004939926940516348 None\n",
      "0.004953285108209188 None\n",
      "0.004940188908686789 None\n",
      "0.004935210960499694 None\n",
      "0.004917348312630429 None\n",
      "0.004933766922554735 None\n",
      "0.004920678021000506 None\n",
      "0.0049152893244563 None\n",
      "0.004938629752816287 None\n",
      "0.004931641338255603 None\n",
      "tf.Tensor(0.004960212698377523, shape=(), dtype=float64)\n",
      "0.00499328540425664 None\n"
     ]
    },
    {
     "data": {
      "application/vnd.jupyter.widget-view+json": {
       "model_id": "c10d761a642d4e24b9a320e68ef02d37",
       "version_major": 2,
       "version_minor": 0
      },
      "text/plain": [
       "  0%|          | 0/2000 [00:00<?, ?it/s]"
      ]
     },
     "metadata": {},
     "output_type": "display_data"
    },
    {
     "name": "stdout",
     "output_type": "stream",
     "text": [
      "0.1153803245516096 None\n",
      "0.08968894227675124 None\n",
      "0.06405193699296705 None\n",
      "0.03862203913271634 None\n",
      "0.013610560458935116 None\n",
      "0.0002536444827894047 None\n",
      "0.0002528218920322279 None\n",
      "0.00022197990909739868 None\n",
      "0.00020472829078645692 None\n",
      "0.00031777252150569715 None\n",
      "0.00018288032763580028 None\n",
      "0.00021616934191946713 None\n",
      "0.0002147093577749854 None\n",
      "0.00020037820237935391 None\n",
      "0.00020370923351349483 None\n",
      "0.00022163477982565204 None\n",
      "0.00024191442500260361 None\n",
      "0.00018443797000551945 None\n",
      "0.0002530719281090537 None\n",
      "0.00020504398193760265 None\n",
      "tf.Tensor(0.00019828642287479312, shape=(), dtype=float64)\n",
      "0.0002186973502699991 None\n"
     ]
    },
    {
     "data": {
      "application/vnd.jupyter.widget-view+json": {
       "model_id": "34a8299b5444403493543704d9c58d16",
       "version_major": 2,
       "version_minor": 0
      },
      "text/plain": [
       "  0%|          | 0/2000 [00:00<?, ?it/s]"
      ]
     },
     "metadata": {},
     "output_type": "display_data"
    },
    {
     "name": "stdout",
     "output_type": "stream",
     "text": [
      "0.11574378642436625 None\n",
      "0.08996037133364543 None\n",
      "0.06420653144652158 None\n",
      "0.038684740413898924 None\n",
      "0.01642300423480482 None\n",
      "0.00169829504539863 None\n",
      "0.0016934196408652132 None\n",
      "0.001668029725302068 None\n",
      "0.001736910019570449 None\n",
      "0.0016636350850689832 None\n",
      "0.0017009480054672472 None\n",
      "0.0017049292361265359 None\n",
      "0.0017189812182720633 None\n",
      "0.001719407349701555 None\n",
      "0.0017363975110716665 None\n",
      "0.0016789133819820612 None\n",
      "0.0016938838932658191 None\n",
      "0.0016732987490060587 None\n",
      "0.0017178070120910435 None\n",
      "0.0017112458182819614 None\n",
      "tf.Tensor(0.0017095060085062074, shape=(), dtype=float64)\n",
      "0.0017255829608300403 None\n"
     ]
    },
    {
     "data": {
      "application/vnd.jupyter.widget-view+json": {
       "model_id": "b52ce768e8e94f10aa409833decc0e04",
       "version_major": 2,
       "version_minor": 0
      },
      "text/plain": [
       "  0%|          | 0/2000 [00:00<?, ?it/s]"
      ]
     },
     "metadata": {},
     "output_type": "display_data"
    },
    {
     "name": "stdout",
     "output_type": "stream",
     "text": [
      "0.11713801729022731 None\n",
      "0.09156664319985622 None\n",
      "0.06619033778948337 None\n",
      "0.04106507742743777 None\n",
      "0.016343408487155694 None\n",
      "0.0003445406682110932 None\n",
      "0.00027046152958260655 None\n",
      "0.0002984038047598586 None\n",
      "0.0002728116524507943 None\n",
      "0.0002946814718267892 None\n",
      "0.00030354469276951124 None\n",
      "0.00030539367192279447 None\n",
      "0.00030574028563279745 None\n",
      "0.0002688652586086814 None\n",
      "0.0002672626351802026 None\n",
      "0.0002655508158852706 None\n",
      "0.00026460941452664637 None\n",
      "0.0002891935249019189 None\n",
      "0.0002875296358792138 None\n",
      "0.000319987835485756 None\n",
      "tf.Tensor(0.00028149474695871556, shape=(), dtype=float64)\n",
      "0.0002910611653640094 None\n",
      "Done!\n"
     ]
    },
    {
     "data": {
      "application/vnd.jupyter.widget-view+json": {
       "model_id": "4dde9d1b0fab47f88ac2c53c7d5830a1",
       "version_major": 2,
       "version_minor": 0
      },
      "text/plain": [
       "  0%|          | 0/2000 [00:00<?, ?it/s]"
      ]
     },
     "metadata": {},
     "output_type": "display_data"
    },
    {
     "name": "stdout",
     "output_type": "stream",
     "text": [
      "0.14805381929116004 None\n",
      "0.12443538208147087 None\n",
      "0.10117812180453849 None\n",
      "0.0779102202554606 None\n",
      "0.05601472561187189 None\n",
      "0.0349113669246504 None\n",
      "0.01466155281852529 None\n",
      "0.010713188789109901 None\n",
      "0.010691755666432979 None\n",
      "0.010716797921632448 None\n",
      "0.010710162171710107 None\n",
      "0.010765395389592133 None\n",
      "0.010740115878401617 None\n",
      "0.010723886980464177 None\n",
      "0.010697915123080413 None\n",
      "0.01070378854369303 None\n",
      "0.010717758774949265 None\n",
      "0.010709720178844261 None\n",
      "0.010741455799707453 None\n",
      "0.010795845178680378 None\n",
      "tf.Tensor(0.010701135559489303, shape=(), dtype=float64)\n",
      "0.010710405161599514 None\n"
     ]
    },
    {
     "data": {
      "application/vnd.jupyter.widget-view+json": {
       "model_id": "8de2e64f502846a8ae362c07e725dfa5",
       "version_major": 2,
       "version_minor": 0
      },
      "text/plain": [
       "  0%|          | 0/2000 [00:00<?, ?it/s]"
      ]
     },
     "metadata": {},
     "output_type": "display_data"
    },
    {
     "name": "stdout",
     "output_type": "stream",
     "text": [
      "0.14845853719707983 None\n",
      "0.12475337720276519 None\n",
      "0.10130274930556973 None\n",
      "0.07829792297388431 None\n",
      "0.05589944789546939 None\n",
      "0.034235430976379135 None\n",
      "0.013415760508243137 None\n",
      "0.011487245250413114 None\n",
      "0.011515820911986805 None\n",
      "0.01153715517013382 None\n",
      "0.011510783881005248 None\n",
      "0.011514751529916156 None\n",
      "0.011510379060934276 None\n",
      "0.011499069413627924 None\n",
      "0.011489323370432365 None\n",
      "0.011506287013921795 None\n",
      "0.011491713337312616 None\n",
      "0.011493405260141937 None\n",
      "0.011536404735179012 None\n",
      "0.011490962113522279 None\n",
      "tf.Tensor(0.011549358444603215, shape=(), dtype=float64)\n",
      "0.011521344123801427 None\n"
     ]
    },
    {
     "data": {
      "application/vnd.jupyter.widget-view+json": {
       "model_id": "1c312d88640c46749d5144d45d0765ad",
       "version_major": 2,
       "version_minor": 0
      },
      "text/plain": [
       "  0%|          | 0/2000 [00:00<?, ?it/s]"
      ]
     },
     "metadata": {},
     "output_type": "display_data"
    },
    {
     "name": "stdout",
     "output_type": "stream",
     "text": [
      "0.143601449767612 None\n",
      "0.119528870615469 None\n",
      "0.09575003235974094 None\n",
      "0.07253533494993722 None\n",
      "0.050059181614799914 None\n",
      "0.027978522466239598 None\n",
      "0.0075834122268897235 None\n",
      "0.006275025136051451 None\n",
      "0.006298684266123518 None\n",
      "0.00627480042999751 None\n",
      "0.006300441205713353 None\n",
      "0.00629688399172532 None\n",
      "0.006309273462380721 None\n",
      "0.006327025786546592 None\n",
      "0.0062981888618035345 None\n",
      "0.0062754802933902044 None\n",
      "0.006308572207876482 None\n",
      "0.006327952637610188 None\n",
      "0.006297551422709227 None\n",
      "0.0062762136458062515 None\n",
      "tf.Tensor(0.006316962987588513, shape=(), dtype=float64)\n",
      "0.006308017421562 None\n"
     ]
    },
    {
     "data": {
      "application/vnd.jupyter.widget-view+json": {
       "model_id": "ffa57b3117404db0a46d8c8573d1a5c5",
       "version_major": 2,
       "version_minor": 0
      },
      "text/plain": [
       "  0%|          | 0/2000 [00:00<?, ?it/s]"
      ]
     },
     "metadata": {},
     "output_type": "display_data"
    },
    {
     "name": "stdout",
     "output_type": "stream",
     "text": [
      "0.14192860917851613 None\n",
      "0.11791076228745986 None\n",
      "0.09418276632399905 None\n",
      "0.07084204072157298 None\n",
      "0.04806857780367572 None\n",
      "0.02603975717050175 None\n",
      "0.006695114870488364 None\n",
      "0.00605898006220669 None\n",
      "0.006068061749284696 None\n",
      "0.006056784800695363 None\n",
      "0.006081664406924602 None\n",
      "0.006098256382708521 None\n",
      "0.006106704288228296 None\n",
      "0.0060698431926224615 None\n",
      "0.006087756280234193 None\n",
      "0.006085105695321367 None\n",
      "0.006091650285542611 None\n",
      "0.006075281590868637 None\n",
      "0.006076482008661715 None\n",
      "0.0061033674180604736 None\n",
      "tf.Tensor(0.006085375162334292, shape=(), dtype=float64)\n",
      "0.006076707415472008 None\n"
     ]
    },
    {
     "data": {
      "application/vnd.jupyter.widget-view+json": {
       "model_id": "2bf49ac2a52840ca9686fdcfc6547fca",
       "version_major": 2,
       "version_minor": 0
      },
      "text/plain": [
       "  0%|          | 0/2000 [00:00<?, ?it/s]"
      ]
     },
     "metadata": {},
     "output_type": "display_data"
    },
    {
     "name": "stdout",
     "output_type": "stream",
     "text": [
      "0.14405469773312657 None\n",
      "0.12000295669222918 None\n",
      "0.09622950884582153 None\n",
      "0.0729530868122439 None\n",
      "0.050412041031135016 None\n",
      "0.02879723083661965 None\n",
      "0.008328604579936835 None\n",
      "0.007095229302921301 None\n",
      "0.007111276375087263 None\n",
      "0.007107136206880093 None\n",
      "0.007087006835172837 None\n",
      "0.007105008165493216 None\n",
      "0.007093821764774428 None\n",
      "0.0070932450617590855 None\n",
      "0.007087202945790967 None\n",
      "0.007111856186811753 None\n",
      "0.007097726282489704 None\n",
      "0.007086835456186234 None\n",
      "0.007091297986772101 None\n",
      "0.007097538496601975 None\n",
      "tf.Tensor(0.007087672669926503, shape=(), dtype=float64)\n",
      "0.007088977986309142 None\n"
     ]
    },
    {
     "data": {
      "application/vnd.jupyter.widget-view+json": {
       "model_id": "6426da4db66f4aea90f58e60a50db904",
       "version_major": 2,
       "version_minor": 0
      },
      "text/plain": [
       "  0%|          | 0/2000 [00:00<?, ?it/s]"
      ]
     },
     "metadata": {},
     "output_type": "display_data"
    },
    {
     "name": "stdout",
     "output_type": "stream",
     "text": [
      "0.14616105723081846 None\n",
      "0.12195891326988398 None\n",
      "0.09797815885128526 None\n",
      "0.07448081897385124 None\n",
      "0.051806220752199046 None\n",
      "0.030136040420563365 None\n",
      "0.009773643053547894 None\n",
      "0.008802236944527909 None\n",
      "0.008774183889527422 None\n",
      "0.008748799120190207 None\n",
      "0.008750016985987236 None\n",
      "0.008736811429287148 None\n",
      "0.00873619714313692 None\n",
      "0.008735135216329203 None\n",
      "0.008765079263748678 None\n",
      "0.008788315710494723 None\n",
      "0.008734894936469284 None\n",
      "0.008814582358610344 None\n",
      "0.008743428957361903 None\n",
      "0.008742050826501889 None\n",
      "tf.Tensor(0.008749487866543004, shape=(), dtype=float64)\n",
      "0.008768750545529246 None\n"
     ]
    },
    {
     "data": {
      "application/vnd.jupyter.widget-view+json": {
       "model_id": "614343b6e0974451889077ca434f8263",
       "version_major": 2,
       "version_minor": 0
      },
      "text/plain": [
       "  0%|          | 0/2000 [00:00<?, ?it/s]"
      ]
     },
     "metadata": {},
     "output_type": "display_data"
    },
    {
     "name": "stdout",
     "output_type": "stream",
     "text": [
      "0.1437704257244152 None\n",
      "0.11978022958954025 None\n",
      "0.09602076576726154 None\n",
      "0.07268256848548298 None\n",
      "0.04989229151947007 None\n",
      "0.027818155684011338 None\n",
      "0.009662628801573325 None\n",
      "0.009549209554541804 None\n",
      "0.00953810530076216 None\n",
      "0.00954647513802408 None\n",
      "0.009598837151434936 None\n",
      "0.009560776926916446 None\n",
      "0.009538969065883834 None\n",
      "0.00956171729770542 None\n",
      "0.009585949168377284 None\n",
      "0.00956927811250749 None\n",
      "0.009629268001370827 None\n",
      "0.009632904131434389 None\n",
      "0.009557778081131053 None\n",
      "0.009583600873171713 None\n",
      "tf.Tensor(0.009579469901787954, shape=(), dtype=float64)\n",
      "0.00960064999372251 None\n"
     ]
    },
    {
     "data": {
      "application/vnd.jupyter.widget-view+json": {
       "model_id": "47ef152e3f7a406e86dc627e659fb776",
       "version_major": 2,
       "version_minor": 0
      },
      "text/plain": [
       "  0%|          | 0/2000 [00:00<?, ?it/s]"
      ]
     },
     "metadata": {},
     "output_type": "display_data"
    },
    {
     "name": "stdout",
     "output_type": "stream",
     "text": [
      "0.14398990358021369 None\n",
      "0.12005724780041899 None\n",
      "0.09634989558956364 None\n",
      "0.07303513844676016 None\n",
      "0.05028676101128566 None\n",
      "0.028282465202038573 None\n",
      "0.0071879478846023324 None\n",
      "0.006319229441437577 None\n",
      "0.006314072186447819 None\n",
      "0.006308123534930297 None\n",
      "0.006325055497779269 None\n",
      "0.006353636557313594 None\n",
      "0.00631382135884417 None\n",
      "0.0063023106496545335 None\n",
      "0.006375728334994293 None\n",
      "0.0063166022382126485 None\n",
      "0.006338549818449887 None\n",
      "0.006377624311425745 None\n",
      "0.006366248932227873 None\n",
      "0.00635011206216371 None\n",
      "tf.Tensor(0.006339304853290394, shape=(), dtype=float64)\n",
      "0.0063569605089003785 None\n",
      "Done!\n"
     ]
    },
    {
     "data": {
      "application/vnd.jupyter.widget-view+json": {
       "model_id": "5b49fd098393428dbc1eaab143766b1e",
       "version_major": 2,
       "version_minor": 0
      },
      "text/plain": [
       "  0%|          | 0/2000 [00:00<?, ?it/s]"
      ]
     },
     "metadata": {},
     "output_type": "display_data"
    },
    {
     "name": "stdout",
     "output_type": "stream",
     "text": [
      "0.16160864736989322 None\n",
      "0.13772662922657303 None\n",
      "0.11410054809443819 None\n",
      "0.09095124866702595 None\n",
      "0.06848909023998051 None\n",
      "0.046925090288802644 None\n",
      "0.02655872311697881 None\n",
      "0.010950338051206956 None\n",
      "0.010771084991975224 None\n",
      "0.010751127393397123 None\n",
      "0.010756240528110368 None\n",
      "0.01074840430738679 None\n",
      "0.010787858724047604 None\n",
      "0.010751867041490858 None\n",
      "0.01074877760457001 None\n",
      "0.010747261882208377 None\n",
      "0.01076580160846308 None\n",
      "0.010744236874437194 None\n",
      "0.010769228256454499 None\n",
      "0.010762223618960998 None\n",
      "tf.Tensor(0.010767224677576574, shape=(), dtype=float64)\n",
      "0.01075584814054192 None\n"
     ]
    },
    {
     "data": {
      "application/vnd.jupyter.widget-view+json": {
       "model_id": "0e9faf18bb644fee8c254c59d7b6f965",
       "version_major": 2,
       "version_minor": 0
      },
      "text/plain": [
       "  0%|          | 0/2000 [00:00<?, ?it/s]"
      ]
     },
     "metadata": {},
     "output_type": "display_data"
    },
    {
     "name": "stdout",
     "output_type": "stream",
     "text": [
      "0.16133095897426908 None\n",
      "0.13724964860135802 None\n",
      "0.11344047834078043 None\n",
      "0.09016815294236102 None\n",
      "0.06766962801612944 None\n",
      "0.046162424364318125 None\n",
      "0.025828894301202623 None\n",
      "0.009101436576528156 None\n",
      "0.008884546906825906 None\n",
      "0.008857091064892592 None\n",
      "0.008872198702186834 None\n",
      "0.008867377049879648 None\n",
      "0.008858127424329624 None\n",
      "0.008855753999914485 None\n",
      "0.008892396866780936 None\n",
      "0.008885516588512131 None\n",
      "0.008860654501796471 None\n",
      "0.008856727711057423 None\n",
      "0.008858946983477323 None\n",
      "0.008882508349962515 None\n",
      "tf.Tensor(0.008880985949268613, shape=(), dtype=float64)\n",
      "0.008868035556243895 None\n"
     ]
    },
    {
     "data": {
      "application/vnd.jupyter.widget-view+json": {
       "model_id": "cebe24de68474dfeaf8e8601bee9bc71",
       "version_major": 2,
       "version_minor": 0
      },
      "text/plain": [
       "  0%|          | 0/2000 [00:00<?, ?it/s]"
      ]
     },
     "metadata": {},
     "output_type": "display_data"
    },
    {
     "name": "stdout",
     "output_type": "stream",
     "text": [
      "0.16122648098179063 None\n",
      "0.13587896105738093 None\n",
      "0.11074734800893123 None\n",
      "0.0857430758384165 None\n",
      "0.06363152979599015 None\n",
      "0.0421010485333238 None\n",
      "0.021917685717126593 None\n",
      "0.003291792398378233 None\n",
      "0.0030553982213161485 None\n",
      "0.0030241436412173396 None\n",
      "0.003029082086793849 None\n",
      "0.0030227589081931773 None\n",
      "0.0030822779693119584 None\n",
      "0.0030293382402859156 None\n",
      "0.0030290865571675953 None\n",
      "0.0030461725584970817 None\n",
      "0.003050213317904043 None\n",
      "0.0030470183750578913 None\n",
      "0.0030665190924721916 None\n",
      "0.0030749613698801397 None\n",
      "tf.Tensor(0.0030313565358483854, shape=(), dtype=float64)\n",
      "0.00305161321391491 None\n"
     ]
    },
    {
     "data": {
      "application/vnd.jupyter.widget-view+json": {
       "model_id": "e093b78dc9334ae79e8a9a15a26cf822",
       "version_major": 2,
       "version_minor": 0
      },
      "text/plain": [
       "  0%|          | 0/2000 [00:00<?, ?it/s]"
      ]
     },
     "metadata": {},
     "output_type": "display_data"
    },
    {
     "name": "stdout",
     "output_type": "stream",
     "text": [
      "0.16031183414136543 None\n",
      "0.13449486910338287 None\n",
      "0.10867832935571607 None\n",
      "0.0839153593828801 None\n",
      "0.0631218145189803 None\n",
      "0.04306155067158323 None\n",
      "0.024096332246976725 None\n",
      "0.0067519503511354155 None\n",
      "0.0064774056734689875 None\n",
      "0.006509760336958506 None\n",
      "0.006472404883533851 None\n",
      "0.006455537835600638 None\n",
      "0.006484162565685049 None\n",
      "0.006452166763534061 None\n",
      "0.0064765252402632575 None\n",
      "0.006462246662861448 None\n",
      "0.006456203446554731 None\n",
      "0.006432885316539086 None\n",
      "0.006455287394690878 None\n",
      "0.006451633709604759 None\n",
      "tf.Tensor(0.006455055414654583, shape=(), dtype=float64)\n",
      "0.006453890399514262 None\n"
     ]
    },
    {
     "data": {
      "application/vnd.jupyter.widget-view+json": {
       "model_id": "9f8b6cb8a8d1498c8715c9aa7cc80747",
       "version_major": 2,
       "version_minor": 0
      },
      "text/plain": [
       "  0%|          | 0/2000 [00:00<?, ?it/s]"
      ]
     },
     "metadata": {},
     "output_type": "display_data"
    },
    {
     "name": "stdout",
     "output_type": "stream",
     "text": [
      "0.16414421359507775 None\n",
      "0.14044198403556263 None\n",
      "0.11742401867920399 None\n",
      "0.0945283226065036 None\n",
      "0.07227332792906958 None\n",
      "0.050767521898338414 None\n",
      "0.03009834669561852 None\n",
      "0.012549369045991049 None\n",
      "0.012027641890298969 None\n",
      "0.012057540935464323 None\n",
      "0.012041452371915472 None\n",
      "0.012121553717222282 None\n",
      "0.01204295275504208 None\n",
      "0.01202917787583158 None\n",
      "0.01208301296211069 None\n",
      "0.012040914053540866 None\n",
      "0.012036738106268131 None\n",
      "0.012086620500031117 None\n",
      "0.01204376853697764 None\n",
      "0.012078714869236173 None\n",
      "tf.Tensor(0.01208933327043345, shape=(), dtype=float64)\n",
      "0.01209312427032085 None\n"
     ]
    },
    {
     "data": {
      "application/vnd.jupyter.widget-view+json": {
       "model_id": "76a8e8aaf53844c79638ba47b88623ea",
       "version_major": 2,
       "version_minor": 0
      },
      "text/plain": [
       "  0%|          | 0/2000 [00:00<?, ?it/s]"
      ]
     },
     "metadata": {},
     "output_type": "display_data"
    },
    {
     "name": "stdout",
     "output_type": "stream",
     "text": [
      "0.15617259653228788 None\n",
      "0.1317669556931398 None\n",
      "0.1082228052459477 None\n",
      "0.0849675114114685 None\n",
      "0.06277520980005998 None\n",
      "0.04123476622621064 None\n",
      "0.02074067173929718 None\n",
      "0.007457376462972624 None\n",
      "0.0074368749086915625 None\n",
      "0.00741545247672204 None\n",
      "0.007483881028991252 None\n",
      "0.0074333063192691985 None\n",
      "0.007419849739851998 None\n",
      "0.007439552890249095 None\n",
      "0.007431045578938818 None\n",
      "0.007421438991384744 None\n",
      "0.0074475554289461406 None\n",
      "0.007422315454518675 None\n",
      "0.007438405558507704 None\n",
      "0.007417959101066088 None\n",
      "tf.Tensor(0.007418305203784413, shape=(), dtype=float64)\n",
      "0.007414638880365112 None\n"
     ]
    },
    {
     "data": {
      "application/vnd.jupyter.widget-view+json": {
       "model_id": "285d39aa095842c5a96c410bc3800437",
       "version_major": 2,
       "version_minor": 0
      },
      "text/plain": [
       "  0%|          | 0/2000 [00:00<?, ?it/s]"
      ]
     },
     "metadata": {},
     "output_type": "display_data"
    },
    {
     "name": "stdout",
     "output_type": "stream",
     "text": [
      "0.16053749874893455 None\n",
      "0.13465963552101404 None\n",
      "0.1122037307405309 None\n",
      "0.09001837846507454 None\n",
      "0.06810997310243658 None\n",
      "0.04680222668724947 None\n",
      "0.026368316861334104 None\n",
      "0.0070944435522833325 None\n",
      "0.007035325869523303 None\n",
      "0.00705433936746707 None\n",
      "0.007061471078584378 None\n",
      "0.007100638726531248 None\n",
      "0.007065189425896519 None\n",
      "0.007059410845164964 None\n",
      "0.0070453715472228486 None\n",
      "0.007078943302401462 None\n",
      "0.00705972651786568 None\n",
      "0.007078283407269865 None\n",
      "0.007053615398983814 None\n",
      "0.0070699125431602575 None\n",
      "tf.Tensor(0.00705439992517359, shape=(), dtype=float64)\n",
      "0.00703803273341359 None\n"
     ]
    },
    {
     "data": {
      "application/vnd.jupyter.widget-view+json": {
       "model_id": "b467cbe3e29e42839938d77d87db84a5",
       "version_major": 2,
       "version_minor": 0
      },
      "text/plain": [
       "  0%|          | 0/2000 [00:00<?, ?it/s]"
      ]
     },
     "metadata": {},
     "output_type": "display_data"
    },
    {
     "name": "stdout",
     "output_type": "stream",
     "text": [
      "0.15896756965265232 None\n",
      "0.1333259526147727 None\n",
      "0.11002307194487737 None\n",
      "0.08727090413888905 None\n",
      "0.064920531118228 None\n",
      "0.04336792881202671 None\n",
      "0.022579240745056513 None\n",
      "0.005546424886106547 None\n",
      "0.005443615846419756 None\n",
      "0.005477540384823475 None\n",
      "0.005474798312632114 None\n",
      "0.005439782269578919 None\n",
      "0.005451263581873096 None\n",
      "0.005443410839973354 None\n",
      "0.005435950561254524 None\n",
      "0.00543799248895336 None\n",
      "0.00542791229275651 None\n",
      "0.005440964830981162 None\n",
      "0.00543122436373342 None\n",
      "0.00547316348263684 None\n",
      "tf.Tensor(0.005482277384941094, shape=(), dtype=float64)\n",
      "0.005452105673127164 None\n",
      "Done!\n"
     ]
    },
    {
     "data": {
      "application/vnd.jupyter.widget-view+json": {
       "model_id": "b3ec2497867048e99e68f443411b6571",
       "version_major": 2,
       "version_minor": 0
      },
      "text/plain": [
       "  0%|          | 0/2000 [00:00<?, ?it/s]"
      ]
     },
     "metadata": {},
     "output_type": "display_data"
    },
    {
     "name": "stdout",
     "output_type": "stream",
     "text": [
      "0.15231064062843236 None\n",
      "0.12859100756724456 None\n",
      "0.10510963264864574 None\n",
      "0.08206672016629017 None\n",
      "0.05967136998341416 None\n",
      "0.038104809254967 None\n",
      "0.01753346647685282 None\n",
      "0.009166503720242898 None\n",
      "0.009162820259028608 None\n",
      "0.009166081061837616 None\n",
      "0.00917281035122944 None\n",
      "0.009207375011298773 None\n",
      "0.009161826442284008 None\n",
      "0.00921569933129097 None\n",
      "0.009163882981179405 None\n",
      "0.009182564057278913 None\n",
      "0.00919488835144367 None\n",
      "0.009165253167678656 None\n",
      "0.009190754005099016 None\n",
      "0.009223148794549359 None\n",
      "tf.Tensor(0.009219290808151705, shape=(), dtype=float64)\n",
      "0.009184555566976888 None\n"
     ]
    },
    {
     "data": {
      "application/vnd.jupyter.widget-view+json": {
       "model_id": "9e777d90ebab4498a25bad7ec0687ca5",
       "version_major": 2,
       "version_minor": 0
      },
      "text/plain": [
       "  0%|          | 0/2000 [00:00<?, ?it/s]"
      ]
     },
     "metadata": {},
     "output_type": "display_data"
    },
    {
     "name": "stdout",
     "output_type": "stream",
     "text": [
      "0.15303280194217764 None\n",
      "0.1293440598754227 None\n",
      "0.10600375147839261 None\n",
      "0.08324316510709412 None\n",
      "0.06124086658489997 None\n",
      "0.040072516885791665 None\n",
      "0.019827194004908656 None\n",
      "0.010561047320586001 None\n",
      "0.010523637583198771 None\n",
      "0.010573730243932862 None\n",
      "0.0105147092604861 None\n",
      "0.010517444693966862 None\n",
      "0.010523766296749308 None\n",
      "0.010532142009599966 None\n",
      "0.010534039014736535 None\n",
      "0.01055876181358289 None\n",
      "0.010604078306460514 None\n",
      "0.010553407790028833 None\n",
      "0.010550277807085602 None\n",
      "0.010510843341693719 None\n",
      "tf.Tensor(0.010607193276491336, shape=(), dtype=float64)\n",
      "0.010599043400805344 None\n"
     ]
    },
    {
     "data": {
      "application/vnd.jupyter.widget-view+json": {
       "model_id": "4f8fdfcbb06b491dad44a3c17f41bc7c",
       "version_major": 2,
       "version_minor": 0
      },
      "text/plain": [
       "  0%|          | 0/2000 [00:00<?, ?it/s]"
      ]
     },
     "metadata": {},
     "output_type": "display_data"
    },
    {
     "name": "stdout",
     "output_type": "stream",
     "text": [
      "0.15250385276517237 None\n",
      "0.12657716424678306 None\n",
      "0.10176266369444024 None\n",
      "0.07961435257805809 None\n",
      "0.057743633929563 None\n",
      "0.03668887431375829 None\n",
      "0.01654126128197486 None\n",
      "0.004093805854407983 None\n",
      "0.004127064623158509 None\n",
      "0.00410653198449243 None\n",
      "0.004097222310650824 None\n",
      "0.004109660653902421 None\n",
      "0.004081527355807373 None\n",
      "0.004084465702858654 None\n",
      "0.004070901089692382 None\n",
      "0.0041132175041139595 None\n",
      "0.004093387882655607 None\n",
      "0.0041431817797864205 None\n",
      "0.004088682277435725 None\n",
      "0.0041159780777752005 None\n",
      "tf.Tensor(0.004132983107559473, shape=(), dtype=float64)\n",
      "0.004117469375019148 None\n"
     ]
    },
    {
     "data": {
      "application/vnd.jupyter.widget-view+json": {
       "model_id": "7977f44adb324238811939182631efc8",
       "version_major": 2,
       "version_minor": 0
      },
      "text/plain": [
       "  0%|          | 0/2000 [00:00<?, ?it/s]"
      ]
     },
     "metadata": {},
     "output_type": "display_data"
    },
    {
     "name": "stdout",
     "output_type": "stream",
     "text": [
      "0.1518160163156914 None\n",
      "0.12609612641025075 None\n",
      "0.10042179230482018 None\n",
      "0.07444396644521006 None\n",
      "0.05179099238222749 None\n",
      "0.03146660357620349 None\n",
      "0.014623892152407515 None\n",
      "0.0060850352586412585 None\n",
      "0.00608805709112953 None\n",
      "0.006084146706548112 None\n",
      "0.006104615348480969 None\n",
      "0.006104878280995917 None\n",
      "0.006095283260196689 None\n",
      "0.006091930130457271 None\n",
      "0.006148976927932761 None\n",
      "0.006083330893771508 None\n",
      "0.006111352657280007 None\n",
      "0.006148213243242063 None\n",
      "0.006114884728192776 None\n",
      "0.0061340770432144805 None\n",
      "tf.Tensor(0.0061040618327469435, shape=(), dtype=float64)\n",
      "0.006088263560539828 None\n"
     ]
    },
    {
     "data": {
      "application/vnd.jupyter.widget-view+json": {
       "model_id": "ac833973abe2422ba905eebf3bf6f626",
       "version_major": 2,
       "version_minor": 0
      },
      "text/plain": [
       "  0%|          | 0/2000 [00:00<?, ?it/s]"
      ]
     },
     "metadata": {},
     "output_type": "display_data"
    },
    {
     "name": "stdout",
     "output_type": "stream",
     "text": [
      "0.1488806049237679 None\n",
      "0.12306753309079134 None\n",
      "0.09734758134932259 None\n",
      "0.07413454800456641 None\n",
      "0.052466913217483625 None\n",
      "0.031374993278193306 None\n",
      "0.012874956573090875 None\n",
      "0.005241565152579375 None\n",
      "0.005203277241377488 None\n",
      "0.005204381159953786 None\n",
      "0.00519806356950211 None\n",
      "0.0052393648453833135 None\n",
      "0.005250426234310062 None\n",
      "0.00523914341058314 None\n",
      "0.005221993246090182 None\n",
      "0.005207364124853226 None\n",
      "0.005214865139134965 None\n",
      "0.005229200142283856 None\n",
      "0.005209267857231385 None\n",
      "0.0052094311615085345 None\n",
      "tf.Tensor(0.00521650295919956, shape=(), dtype=float64)\n",
      "0.005204632442309785 None\n"
     ]
    },
    {
     "data": {
      "application/vnd.jupyter.widget-view+json": {
       "model_id": "994f15a71e194e5ba77b8b73128fb59b",
       "version_major": 2,
       "version_minor": 0
      },
      "text/plain": [
       "  0%|          | 0/2000 [00:00<?, ?it/s]"
      ]
     },
     "metadata": {},
     "output_type": "display_data"
    },
    {
     "name": "stdout",
     "output_type": "stream",
     "text": [
      "0.14933501355156126 None\n",
      "0.12350403334592644 None\n",
      "0.09776355726236206 None\n",
      "0.07512053838733884 None\n",
      "0.05251800077197548 None\n",
      "0.031096000196578745 None\n",
      "0.010696393382762024 None\n",
      "0.004311090272976466 None\n",
      "0.004325171140985068 None\n",
      "0.004312460924283489 None\n",
      "0.00430263986906102 None\n",
      "0.00427348539020544 None\n",
      "0.004306867732604297 None\n",
      "0.0042969602511742176 None\n",
      "0.004286185438666152 None\n",
      "0.004288709853004261 None\n",
      "0.004278874703704699 None\n",
      "0.0042853073550377044 None\n",
      "0.004295954884345745 None\n",
      "0.004285996070891052 None\n",
      "tf.Tensor(0.004350850780814477, shape=(), dtype=float64)\n",
      "0.004335056712401383 None\n"
     ]
    },
    {
     "data": {
      "application/vnd.jupyter.widget-view+json": {
       "model_id": "84e178fc48fe4a1ab44cbb789cdd9a25",
       "version_major": 2,
       "version_minor": 0
      },
      "text/plain": [
       "  0%|          | 0/2000 [00:00<?, ?it/s]"
      ]
     },
     "metadata": {},
     "output_type": "display_data"
    },
    {
     "name": "stdout",
     "output_type": "stream",
     "text": [
      "0.1524648899764161 None\n",
      "0.1265996615391115 None\n",
      "0.10083628419076392 None\n",
      "0.0753761040986804 None\n",
      "0.05285081815252218 None\n",
      "0.0324628677561851 None\n",
      "0.012738876431244979 None\n",
      "0.003837659063534343 None\n",
      "0.003764283245387112 None\n",
      "0.0037480075806269695 None\n",
      "0.0037534652954234003 None\n",
      "0.003765013657865456 None\n",
      "0.003744345500303838 None\n",
      "0.0037801291274082525 None\n",
      "0.0037811005947334924 None\n",
      "0.0037677828004868113 None\n",
      "0.0037719278850326613 None\n",
      "0.003755296736606876 None\n",
      "0.0037520321395205104 None\n",
      "0.003776012092258996 None\n",
      "tf.Tensor(0.0037451867568366274, shape=(), dtype=float64)\n",
      "0.003780003519789526 None\n"
     ]
    },
    {
     "data": {
      "application/vnd.jupyter.widget-view+json": {
       "model_id": "d47cd094b0f740f3a25e525b04b32597",
       "version_major": 2,
       "version_minor": 0
      },
      "text/plain": [
       "  0%|          | 0/2000 [00:00<?, ?it/s]"
      ]
     },
     "metadata": {},
     "output_type": "display_data"
    },
    {
     "name": "stdout",
     "output_type": "stream",
     "text": [
      "0.14975643489741208 None\n",
      "0.12379066790404021 None\n",
      "0.0979055183235582 None\n",
      "0.07226723049853488 None\n",
      "0.04705221450646843 None\n",
      "0.02562113895312607 None\n",
      "0.005394387770201424 None\n",
      "0.002074694805808826 None\n",
      "0.0020701301596877473 None\n",
      "0.0020497086717883913 None\n",
      "0.0020539342656240526 None\n",
      "0.002056785439289324 None\n",
      "0.0020572519612771286 None\n",
      "0.002048904180314755 None\n",
      "0.0020564555751939034 None\n",
      "0.002083979705429501 None\n",
      "0.002085438985172614 None\n",
      "0.002067953106601664 None\n",
      "0.002107190385053968 None\n",
      "0.002061062583805213 None\n",
      "tf.Tensor(0.0020856243462162843, shape=(), dtype=float64)\n",
      "0.0020698837841599833 None\n"
     ]
    },
    {
     "data": {
      "application/vnd.jupyter.widget-view+json": {
       "model_id": "be197da1d74b4363a25c6a86d5cb65d4",
       "version_major": 2,
       "version_minor": 0
      },
      "text/plain": [
       "  0%|          | 0/2000 [00:00<?, ?it/s]"
      ]
     },
     "metadata": {},
     "output_type": "display_data"
    },
    {
     "name": "stdout",
     "output_type": "stream",
     "text": [
      "0.15056544583811246 None\n",
      "0.1265804684522404 None\n",
      "0.10291905692123612 None\n",
      "0.07976257351397936 None\n",
      "0.05736366147401562 None\n",
      "0.035930740713436195 None\n",
      "0.01554298538353614 None\n",
      "0.010198951449144867 None\n",
      "0.010167489240447624 None\n",
      "0.010232753380077878 None\n",
      "0.010166315853165913 None\n",
      "0.010165314579573018 None\n",
      "0.010170516497963576 None\n",
      "0.010198090883371836 None\n",
      "0.010173940678319697 None\n",
      "0.010193217202127939 None\n",
      "0.010228015301225636 None\n",
      "0.010183377567947951 None\n",
      "0.01016759037596997 None\n",
      "0.010201459306870506 None\n",
      "tf.Tensor(0.010175549624477783, shape=(), dtype=float64)\n",
      "0.010174658994669737 None\n",
      "Done!\n"
     ]
    },
    {
     "data": {
      "application/vnd.jupyter.widget-view+json": {
       "model_id": "21c641b8c9da4bcaa453a69005424774",
       "version_major": 2,
       "version_minor": 0
      },
      "text/plain": [
       "  0%|          | 0/2000 [00:00<?, ?it/s]"
      ]
     },
     "metadata": {},
     "output_type": "display_data"
    },
    {
     "name": "stdout",
     "output_type": "stream",
     "text": [
      "0.12918505760291799 None\n",
      "0.10576422690267044 None\n",
      "0.08136100550760585 None\n",
      "0.058379056012879224 None\n",
      "0.03586107652946513 None\n",
      "0.0162274516184173 None\n",
      "0.009104423630636065 None\n",
      "0.009044830321950796 None\n",
      "0.009074053785320352 None\n",
      "0.009072899973044415 None\n",
      "0.009042468165509722 None\n",
      "0.009025203979270577 None\n",
      "0.009050681897806879 None\n",
      "0.00911246486564888 None\n",
      "0.009017362803193804 None\n",
      "0.009057149433255557 None\n",
      "0.009024143204333899 None\n",
      "0.00902442567472846 None\n",
      "0.00907417792526918 None\n",
      "0.009067391289283994 None\n",
      "tf.Tensor(0.009072597387693705, shape=(), dtype=float64)\n",
      "0.009079956548357318 None\n"
     ]
    },
    {
     "data": {
      "application/vnd.jupyter.widget-view+json": {
       "model_id": "9d540dac4f8c489e907d31ad9cbf2d9b",
       "version_major": 2,
       "version_minor": 0
      },
      "text/plain": [
       "  0%|          | 0/2000 [00:00<?, ?it/s]"
      ]
     },
     "metadata": {},
     "output_type": "display_data"
    },
    {
     "name": "stdout",
     "output_type": "stream",
     "text": [
      "0.1285600730473713 None\n",
      "0.10430894504759897 None\n",
      "0.08043796329480996 None\n",
      "0.05715560628155197 None\n",
      "0.03636135763388827 None\n",
      "0.014900618043255227 None\n",
      "0.00615662522120226 None\n",
      "0.006149828537561051 None\n",
      "0.0061703464959250755 None\n",
      "0.0061329256882645955 None\n",
      "0.0061716231824864125 None\n",
      "0.006161777025906371 None\n",
      "0.006168391684800656 None\n",
      "0.006165372757163855 None\n",
      "0.006143671016977614 None\n",
      "0.006143415379219898 None\n",
      "0.006152786501344765 None\n",
      "0.006153593873178598 None\n",
      "0.006173617883819316 None\n",
      "0.006142055337967151 None\n",
      "tf.Tensor(0.006189632104288259, shape=(), dtype=float64)\n",
      "0.006191479257449912 None\n"
     ]
    },
    {
     "data": {
      "application/vnd.jupyter.widget-view+json": {
       "model_id": "d887ec3ebcb241febf5e7ca47b4c8ffb",
       "version_major": 2,
       "version_minor": 0
      },
      "text/plain": [
       "  0%|          | 0/2000 [00:00<?, ?it/s]"
      ]
     },
     "metadata": {},
     "output_type": "display_data"
    },
    {
     "name": "stdout",
     "output_type": "stream",
     "text": [
      "0.1324159887890591 None\n",
      "0.10837622547403106 None\n",
      "0.08459285499611247 None\n",
      "0.061290818219972336 None\n",
      "0.03871551032568561 None\n",
      "0.017003340482228874 None\n",
      "0.006586283064127816 None\n",
      "0.00656445283563737 None\n",
      "0.006556225352485602 None\n",
      "0.006569097609625391 None\n",
      "0.006572801430363456 None\n",
      "0.006556623384869089 None\n",
      "0.006569159959202566 None\n",
      "0.0065539462203560266 None\n",
      "0.006542626247688543 None\n",
      "0.0065507868698519815 None\n",
      "0.006542396640515251 None\n",
      "0.006558834088394215 None\n",
      "0.0065536811844151555 None\n",
      "0.006590980318437443 None\n",
      "tf.Tensor(0.006576521582491359, shape=(), dtype=float64)\n",
      "0.006596936010165661 None\n"
     ]
    },
    {
     "data": {
      "application/vnd.jupyter.widget-view+json": {
       "model_id": "c3caebe6230d4b5e97f3ef8071f43a04",
       "version_major": 2,
       "version_minor": 0
      },
      "text/plain": [
       "  0%|          | 0/2000 [00:00<?, ?it/s]"
      ]
     },
     "metadata": {},
     "output_type": "display_data"
    },
    {
     "name": "stdout",
     "output_type": "stream",
     "text": [
      "0.1314646169932391 None\n",
      "0.10747818175332162 None\n",
      "0.08368942955913164 None\n",
      "0.06029599551196825 None\n",
      "0.03747947769353657 None\n",
      "0.015397895123125591 None\n",
      "0.007996048566576621 None\n",
      "0.008039669138468243 None\n",
      "0.007960798327350936 None\n",
      "0.007992928927415606 None\n",
      "0.007962366055133067 None\n",
      "0.007985105446384946 None\n",
      "0.007988996341059474 None\n",
      "0.007999888179335418 None\n",
      "0.007973818925729972 None\n",
      "0.007958838554089406 None\n",
      "0.007990266406519786 None\n",
      "0.00799774808980874 None\n",
      "0.007984574513614659 None\n",
      "0.007976597847493449 None\n",
      "tf.Tensor(0.008021528375981274, shape=(), dtype=float64)\n",
      "0.00801710204910364 None\n"
     ]
    },
    {
     "data": {
      "application/vnd.jupyter.widget-view+json": {
       "model_id": "65049ff4d6a242bdb48055a489dc4ae0",
       "version_major": 2,
       "version_minor": 0
      },
      "text/plain": [
       "  0%|          | 0/2000 [00:00<?, ?it/s]"
      ]
     },
     "metadata": {},
     "output_type": "display_data"
    },
    {
     "name": "stdout",
     "output_type": "stream",
     "text": [
      "0.1268987215001112 None\n",
      "0.10271954163647155 None\n",
      "0.07944556687053218 None\n",
      "0.056512408842985806 None\n",
      "0.03411268192088279 None\n",
      "0.012418355478475907 None\n",
      "0.006384042444756693 None\n",
      "0.006397083271046544 None\n",
      "0.006419624289070367 None\n",
      "0.006432032756976184 None\n",
      "0.006397564119353102 None\n",
      "0.006413330610172831 None\n",
      "0.006408040200312208 None\n",
      "0.006400652864745952 None\n",
      "0.006428328216521929 None\n",
      "0.006411273163978097 None\n",
      "0.006388582373630075 None\n",
      "0.0063783362392037316 None\n",
      "0.006403250172171138 None\n",
      "0.006463331039859702 None\n",
      "tf.Tensor(0.006396727402657867, shape=(), dtype=float64)\n",
      "0.006370669261934456 None\n"
     ]
    },
    {
     "data": {
      "application/vnd.jupyter.widget-view+json": {
       "model_id": "2ba44efc42184c948441c063fe19ab11",
       "version_major": 2,
       "version_minor": 0
      },
      "text/plain": [
       "  0%|          | 0/2000 [00:00<?, ?it/s]"
      ]
     },
     "metadata": {},
     "output_type": "display_data"
    },
    {
     "name": "stdout",
     "output_type": "stream",
     "text": [
      "0.12975802002816 None\n",
      "0.10522705704842983 None\n",
      "0.08144764773335454 None\n",
      "0.058221625567161185 None\n",
      "0.03572167596899684 None\n",
      "0.01409495245233159 None\n",
      "0.006877354456232325 None\n",
      "0.006922367293894047 None\n",
      "0.006906898753913079 None\n",
      "0.006873781048321495 None\n",
      "0.0069271584955138965 None\n",
      "0.006928522442519101 None\n",
      "0.006873097768072215 None\n",
      "0.006897572933465209 None\n",
      "0.006898158619023088 None\n",
      "0.00693290409389203 None\n",
      "0.006902341896508464 None\n",
      "0.0069033932266817505 None\n",
      "0.006902261620411711 None\n",
      "0.006911197467698117 None\n",
      "tf.Tensor(0.006939247140571144, shape=(), dtype=float64)\n",
      "0.006938097690216666 None\n"
     ]
    },
    {
     "data": {
      "application/vnd.jupyter.widget-view+json": {
       "model_id": "f94f50e8c6894830949abc94e09d9a41",
       "version_major": 2,
       "version_minor": 0
      },
      "text/plain": [
       "  0%|          | 0/2000 [00:00<?, ?it/s]"
      ]
     },
     "metadata": {},
     "output_type": "display_data"
    },
    {
     "name": "stdout",
     "output_type": "stream",
     "text": [
      "0.12747328068727173 None\n",
      "0.10299070925491646 None\n",
      "0.0796946279509765 None\n",
      "0.05697034942577514 None\n",
      "0.03485473350854457 None\n",
      "0.01359825179763021 None\n",
      "0.005489335447441464 None\n",
      "0.005463359030112653 None\n",
      "0.005480529873131832 None\n",
      "0.005463812708809638 None\n",
      "0.005485626360347367 None\n",
      "0.005503660010635469 None\n",
      "0.005460651832683166 None\n",
      "0.005514697282136997 None\n",
      "0.00545906001539884 None\n",
      "0.0055087958683709935 None\n",
      "0.005524536897373505 None\n",
      "0.0054604256810643105 None\n",
      "0.005502673271936102 None\n",
      "0.005503485800841472 None\n",
      "tf.Tensor(0.005496547896842837, shape=(), dtype=float64)\n",
      "0.005512223972085225 None\n"
     ]
    },
    {
     "data": {
      "application/vnd.jupyter.widget-view+json": {
       "model_id": "4dba8a401c6449c2a1b866abc33759ef",
       "version_major": 2,
       "version_minor": 0
      },
      "text/plain": [
       "  0%|          | 0/2000 [00:00<?, ?it/s]"
      ]
     },
     "metadata": {},
     "output_type": "display_data"
    },
    {
     "name": "stdout",
     "output_type": "stream",
     "text": [
      "0.12938219882216762 None\n",
      "0.10533432325235953 None\n",
      "0.08168271447727254 None\n",
      "0.05842625610177153 None\n",
      "0.035789069486374 None\n",
      "0.013937122893020787 None\n",
      "0.004626654494241694 None\n",
      "0.0046020086681756375 None\n",
      "0.004608267418062048 None\n",
      "0.0045900901374038156 None\n",
      "0.004608440054321107 None\n",
      "0.004599903728097205 None\n",
      "0.004610824853553462 None\n",
      "0.0045998164149142415 None\n",
      "0.004617008900975425 None\n",
      "0.00462228983781981 None\n",
      "0.004634441395838218 None\n",
      "0.004588475189966535 None\n",
      "0.004636112369817282 None\n",
      "0.004617545238562795 None\n",
      "tf.Tensor(0.004591076195030212, shape=(), dtype=float64)\n",
      "0.004585831641077077 None\n"
     ]
    },
    {
     "data": {
      "application/vnd.jupyter.widget-view+json": {
       "model_id": "f3e13463b1d24c698f81ded5957860c1",
       "version_major": 2,
       "version_minor": 0
      },
      "text/plain": [
       "  0%|          | 0/2000 [00:00<?, ?it/s]"
      ]
     },
     "metadata": {},
     "output_type": "display_data"
    },
    {
     "name": "stdout",
     "output_type": "stream",
     "text": [
      "0.12679688397578584 None\n",
      "0.10244874223402232 None\n",
      "0.07835263791733735 None\n",
      "0.05465745722150841 None\n",
      "0.031619353507864545 None\n",
      "0.009309458400191378 None\n",
      "0.004453651423049933 None\n",
      "0.004392744738014294 None\n",
      "0.004398172144996423 None\n",
      "0.004418573333708254 None\n",
      "0.004402805903326774 None\n",
      "0.004386611365548578 None\n",
      "0.004379334299368891 None\n",
      "0.004405201345255313 None\n",
      "0.004391340632831822 None\n",
      "0.004409164724975344 None\n",
      "0.004395869236291278 None\n",
      "0.004384357434968058 None\n",
      "0.004380590710705394 None\n",
      "0.004398013351581827 None\n",
      "tf.Tensor(0.004385363155651748, shape=(), dtype=float64)\n",
      "0.004385007113906457 None\n"
     ]
    },
    {
     "data": {
      "application/vnd.jupyter.widget-view+json": {
       "model_id": "ff09f96b79d54055a27b7eb517b0312d",
       "version_major": 2,
       "version_minor": 0
      },
      "text/plain": [
       "  0%|          | 0/2000 [00:00<?, ?it/s]"
      ]
     },
     "metadata": {},
     "output_type": "display_data"
    },
    {
     "name": "stdout",
     "output_type": "stream",
     "text": [
      "0.1292205468516293 None\n",
      "0.10375047399554638 None\n",
      "0.0784815638159975 None\n",
      "0.05357703425382827 None\n",
      "0.029699478312934086 None\n",
      "0.007728886463419734 None\n",
      "0.00124473294882229 None\n",
      "0.001229944352671708 None\n",
      "0.0012631502332845872 None\n",
      "0.0012231271733881086 None\n",
      "0.001218106175982208 None\n",
      "0.001290827215672554 None\n",
      "0.0012303843683836805 None\n",
      "0.001259901419719935 None\n",
      "0.0012841071311722654 None\n",
      "0.0012308677840537074 None\n",
      "0.0012572613907051722 None\n",
      "0.0012218613075146798 None\n",
      "0.0012511420773149151 None\n",
      "0.0012580355925990612 None\n",
      "tf.Tensor(0.0012524221492538606, shape=(), dtype=float64)\n",
      "0.001267234677331943 None\n"
     ]
    },
    {
     "data": {
      "application/vnd.jupyter.widget-view+json": {
       "model_id": "ca71257f949348e3a4a87281bc0b1e0f",
       "version_major": 2,
       "version_minor": 0
      },
      "text/plain": [
       "  0%|          | 0/2000 [00:00<?, ?it/s]"
      ]
     },
     "metadata": {},
     "output_type": "display_data"
    },
    {
     "name": "stdout",
     "output_type": "stream",
     "text": [
      "0.12750464421026098 None\n",
      "0.10222877800000196 None\n",
      "0.0789682044238028 None\n",
      "0.05587781531739622 None\n",
      "0.03332536390473106 None\n",
      "0.011500193236538378 None\n",
      "0.003970687764213296 None\n",
      "0.003982644527936523 None\n",
      "0.003971048011450285 None\n",
      "0.003980738121917803 None\n",
      "0.003980261065240135 None\n",
      "0.003962929062119709 None\n",
      "0.003984830995222134 None\n",
      "0.004005248662076166 None\n",
      "0.003995921743474436 None\n",
      "0.00397273735074782 None\n",
      "0.004001508146600755 None\n",
      "0.003966110336407955 None\n",
      "0.003973994399271121 None\n",
      "0.00397298334319395 None\n",
      "tf.Tensor(0.003984864574891753, shape=(), dtype=float64)\n",
      "0.003988532913221534 None\n",
      "Done!\n"
     ]
    },
    {
     "data": {
      "application/vnd.jupyter.widget-view+json": {
       "model_id": "f26b69c837264a72bc3586463a21f3d0",
       "version_major": 2,
       "version_minor": 0
      },
      "text/plain": [
       "  0%|          | 0/2000 [00:00<?, ?it/s]"
      ]
     },
     "metadata": {},
     "output_type": "display_data"
    },
    {
     "name": "stdout",
     "output_type": "stream",
     "text": [
      "0.0891805588092631 None\n",
      "0.06529122434920244 None\n",
      "0.041832989199365116 None\n",
      "0.01912001223147336 None\n",
      "0.007091370834714261 None\n",
      "0.007090079485771632 None\n",
      "0.007150954290117589 None\n",
      "0.007085707920285464 None\n",
      "0.007110583707017755 None\n",
      "0.007132369513942973 None\n",
      "0.007129503236344035 None\n",
      "0.007091365931179037 None\n",
      "0.007123394985835229 None\n",
      "0.007088464147217631 None\n",
      "0.007085540934015056 None\n",
      "0.007095064923791141 None\n",
      "0.0070946790085929575 None\n",
      "0.007117459316237034 None\n",
      "0.00712333262908812 None\n",
      "0.0070873695517793735 None\n",
      "tf.Tensor(0.007099739913594099, shape=(), dtype=float64)\n",
      "0.0071091295488867595 None\n"
     ]
    },
    {
     "data": {
      "application/vnd.jupyter.widget-view+json": {
       "model_id": "6ab9bc98a0474e9ba5dadca901f19a61",
       "version_major": 2,
       "version_minor": 0
      },
      "text/plain": [
       "  0%|          | 0/2000 [00:00<?, ?it/s]"
      ]
     },
     "metadata": {},
     "output_type": "display_data"
    },
    {
     "name": "stdout",
     "output_type": "stream",
     "text": [
      "0.08981944985764997 None\n",
      "0.0650991883620055 None\n",
      "0.04229806987269351 None\n",
      "0.019194623270847512 None\n",
      "0.0029138631786561533 None\n",
      "0.0028619822665237327 None\n",
      "0.0029019132371301375 None\n",
      "0.002845248546972018 None\n",
      "0.002845285059887171 None\n",
      "0.00297871354435926 None\n",
      "0.0029272996995204394 None\n",
      "0.0028592086030731108 None\n",
      "0.0028943290794668387 None\n",
      "0.0028495794310548044 None\n",
      "0.002873204341338821 None\n",
      "0.0028493583995079733 None\n",
      "0.0028688337366916325 None\n",
      "0.0028450419985187637 None\n",
      "0.0028712870464251763 None\n",
      "0.0028399226506873685 None\n",
      "tf.Tensor(0.0028706182386030923, shape=(), dtype=float64)\n",
      "0.002856495550261984 None\n"
     ]
    },
    {
     "data": {
      "application/vnd.jupyter.widget-view+json": {
       "model_id": "e167f89f479043f896ac96a88cdf688d",
       "version_major": 2,
       "version_minor": 0
      },
      "text/plain": [
       "  0%|          | 0/2000 [00:00<?, ?it/s]"
      ]
     },
     "metadata": {},
     "output_type": "display_data"
    },
    {
     "name": "stdout",
     "output_type": "stream",
     "text": [
      "0.08521174916761759 None\n",
      "0.05971738324992448 None\n",
      "0.03544528143217119 None\n",
      "0.01269457604032345 None\n",
      "0.0018560552583777763 None\n",
      "0.0018281688992322007 None\n",
      "0.0018242674069295448 None\n",
      "0.0018158638894513746 None\n",
      "0.0018760469617586928 None\n",
      "0.0018092754352035788 None\n",
      "0.0018244614461959806 None\n",
      "0.001829122433490142 None\n",
      "0.001826568494033438 None\n",
      "0.0018082022161768282 None\n",
      "0.001869633226386367 None\n",
      "0.0018075454815979913 None\n",
      "0.001839804224231396 None\n",
      "0.0018335414013597971 None\n",
      "0.0018408360810972645 None\n",
      "0.0018226765923403943 None\n",
      "tf.Tensor(0.0018396673748696628, shape=(), dtype=float64)\n",
      "0.0018150278778202474 None\n"
     ]
    },
    {
     "data": {
      "application/vnd.jupyter.widget-view+json": {
       "model_id": "3a2f5b99ba494050a111eb5f8e01c21c",
       "version_major": 2,
       "version_minor": 0
      },
      "text/plain": [
       "  0%|          | 0/2000 [00:00<?, ?it/s]"
      ]
     },
     "metadata": {},
     "output_type": "display_data"
    },
    {
     "name": "stdout",
     "output_type": "stream",
     "text": [
      "0.08360140191430665 None\n",
      "0.0595229726880293 None\n",
      "0.035806912678854524 None\n",
      "0.012631071290659006 None\n",
      "0.004931843570169932 None\n",
      "0.004884825684812173 None\n",
      "0.004873025658292859 None\n",
      "0.004874988764031059 None\n",
      "0.004880668810778191 None\n",
      "0.004873884323286429 None\n",
      "0.004933761304412544 None\n",
      "0.00487639007643754 None\n",
      "0.004887787233091611 None\n",
      "0.004947555754412117 None\n",
      "0.004874136817515572 None\n",
      "0.004873746285108208 None\n",
      "0.0048978282115189255 None\n",
      "0.004922628505659188 None\n",
      "0.004880218930672234 None\n",
      "0.004932430352403426 None\n",
      "tf.Tensor(0.004948595410475933, shape=(), dtype=float64)\n",
      "0.004919118145869905 None\n"
     ]
    },
    {
     "data": {
      "application/vnd.jupyter.widget-view+json": {
       "model_id": "1c65a978bbcc426cb4dd71b6992755d8",
       "version_major": 2,
       "version_minor": 0
      },
      "text/plain": [
       "  0%|          | 0/2000 [00:00<?, ?it/s]"
      ]
     },
     "metadata": {},
     "output_type": "display_data"
    },
    {
     "name": "stdout",
     "output_type": "stream",
     "text": [
      "0.08723525298658932 None\n",
      "0.06362759921969394 None\n",
      "0.04040995468013299 None\n",
      "0.017615868248284865 None\n",
      "0.005232391097629676 None\n",
      "0.005207287510728081 None\n",
      "0.005229932204436934 None\n",
      "0.005287035907499857 None\n",
      "0.005200310868448571 None\n",
      "0.005244647058111779 None\n",
      "0.005202669398084421 None\n",
      "0.005199293204581989 None\n",
      "0.005234720932700785 None\n",
      "0.00525200320078211 None\n",
      "0.005241575478721177 None\n",
      "0.005209807728817869 None\n",
      "0.005262452289036905 None\n",
      "0.005208628215537926 None\n",
      "0.0052927497062191815 None\n",
      "0.005208719068349759 None\n",
      "tf.Tensor(0.005200081600302284, shape=(), dtype=float64)\n",
      "0.0052340379314745455 None\n"
     ]
    },
    {
     "data": {
      "application/vnd.jupyter.widget-view+json": {
       "model_id": "0f25e23fc68140ffa383d7c423d6352a",
       "version_major": 2,
       "version_minor": 0
      },
      "text/plain": [
       "  0%|          | 0/2000 [00:00<?, ?it/s]"
      ]
     },
     "metadata": {},
     "output_type": "display_data"
    },
    {
     "name": "stdout",
     "output_type": "stream",
     "text": [
      "0.08435891269150583 None\n",
      "0.05984368917532841 None\n",
      "0.035976586110498435 None\n",
      "0.012656434864675388 None\n",
      "0.003880135985665693 None\n",
      "0.003923591312303888 None\n",
      "0.003876270942591237 None\n",
      "0.003898081909882419 None\n",
      "0.0038800778453163248 None\n",
      "0.0038917973382710004 None\n",
      "0.0038973665255999275 None\n",
      "0.003887628648633403 None\n",
      "0.003942596702237025 None\n",
      "0.0038952358322183415 None\n",
      "0.0038795110593886004 None\n",
      "0.003925240053940293 None\n",
      "0.0038940959056912253 None\n",
      "0.003918251524944627 None\n",
      "0.003910370180912405 None\n",
      "0.003883980583963366 None\n",
      "tf.Tensor(0.003944435452284307, shape=(), dtype=float64)\n",
      "0.0038950332742686052 None\n"
     ]
    },
    {
     "data": {
      "application/vnd.jupyter.widget-view+json": {
       "model_id": "fb385157cb974838bcd97742c3f02285",
       "version_major": 2,
       "version_minor": 0
      },
      "text/plain": [
       "  0%|          | 0/2000 [00:00<?, ?it/s]"
      ]
     },
     "metadata": {},
     "output_type": "display_data"
    },
    {
     "name": "stdout",
     "output_type": "stream",
     "text": [
      "0.08753808339313547 None\n",
      "0.06375474241376325 None\n",
      "0.04018959572912601 None\n",
      "0.017024133841765023 None\n",
      "0.006809091613538621 None\n",
      "0.006770306138188112 None\n",
      "0.00673838046158408 None\n",
      "0.0068317291344973646 None\n",
      "0.006743461030326836 None\n",
      "0.006744884354440895 None\n",
      "0.006738880267217582 None\n",
      "0.0067389579503287 None\n",
      "0.006740780991907289 None\n",
      "0.006796232788897986 None\n",
      "0.00675688319033947 None\n",
      "0.006779200812602972 None\n",
      "0.006741630973438056 None\n",
      "0.006796181332668948 None\n",
      "0.006788953607787066 None\n",
      "0.006744462445544009 None\n",
      "tf.Tensor(0.006743081564383408, shape=(), dtype=float64)\n",
      "0.006747021516551386 None\n"
     ]
    },
    {
     "data": {
      "application/vnd.jupyter.widget-view+json": {
       "model_id": "f1b6afa1b8c94dc5acaf0086d43bd845",
       "version_major": 2,
       "version_minor": 0
      },
      "text/plain": [
       "  0%|          | 0/2000 [00:00<?, ?it/s]"
      ]
     },
     "metadata": {},
     "output_type": "display_data"
    },
    {
     "name": "stdout",
     "output_type": "stream",
     "text": [
      "0.08929372184740543 None\n",
      "0.06347666407175498 None\n",
      "0.03778442574538381 None\n",
      "0.012424291685865113 None\n",
      "0.00024037926916564006 None\n",
      "0.00019540185669748335 None\n",
      "0.00019502212677122502 None\n",
      "0.00023377315842463067 None\n",
      "0.00018415647943030578 None\n",
      "0.0002164717509716002 None\n",
      "0.000181139677865318 None\n",
      "0.00021317076054225628 None\n",
      "0.00018196262857289938 None\n",
      "0.0001967782622678653 None\n",
      "0.00021849063098820266 None\n",
      "0.00021219646728455263 None\n",
      "0.0002014261083274245 None\n",
      "0.0002724229366343235 None\n",
      "0.00021541495758130302 None\n",
      "0.0002632942639320939 None\n",
      "tf.Tensor(0.0001929069565052826, shape=(), dtype=float64)\n",
      "0.00020649754517624956 None\n"
     ]
    },
    {
     "data": {
      "application/vnd.jupyter.widget-view+json": {
       "model_id": "ee613a017efa4d1d9de9fae3d0a9af7a",
       "version_major": 2,
       "version_minor": 0
      },
      "text/plain": [
       "  0%|          | 0/2000 [00:00<?, ?it/s]"
      ]
     },
     "metadata": {},
     "output_type": "display_data"
    },
    {
     "name": "stdout",
     "output_type": "stream",
     "text": [
      "0.08551179714390798 None\n",
      "0.060571170181035784 None\n",
      "0.03750761783818942 None\n",
      "0.014611589383966348 None\n",
      "0.0028175848188240465 None\n",
      "0.0028458752523750613 None\n",
      "0.002861495021676732 None\n",
      "0.002854777565145624 None\n",
      "0.0028158887023243886 None\n",
      "0.0028281606816285953 None\n",
      "0.002854789590550076 None\n",
      "0.002859873079233655 None\n",
      "0.002859133929053681 None\n",
      "0.0028699418169316395 None\n",
      "0.0028786332438478415 None\n",
      "0.002826665229170359 None\n",
      "0.00287957243813617 None\n",
      "0.0028497683690064703 None\n",
      "0.002844429659634719 None\n",
      "0.0028277065724642125 None\n",
      "tf.Tensor(0.002836999766494583, shape=(), dtype=float64)\n",
      "0.0028347238906331965 None\n",
      "Done!\n"
     ]
    },
    {
     "data": {
      "application/vnd.jupyter.widget-view+json": {
       "model_id": "86c3d0814b984577960cc60d699077f2",
       "version_major": 2,
       "version_minor": 0
      },
      "text/plain": [
       "  0%|          | 0/2000 [00:00<?, ?it/s]"
      ]
     },
     "metadata": {},
     "output_type": "display_data"
    },
    {
     "name": "stdout",
     "output_type": "stream",
     "text": [
      "0.13887376397619142 None\n",
      "0.11506410235528376 None\n",
      "0.09175257495240732 None\n",
      "0.06909921371401868 None\n",
      "0.04731712822580911 None\n",
      "0.026605799981935165 None\n",
      "0.012311349547590857 None\n",
      "0.012203681240826415 None\n",
      "0.012291402439842992 None\n",
      "0.012200250352850352 None\n",
      "0.012208004576341865 None\n",
      "0.012222786409612357 None\n",
      "0.012197083871485458 None\n",
      "0.012212597231064774 None\n",
      "0.01219972218611572 None\n",
      "0.012221795258508 None\n",
      "0.012230031827368724 None\n",
      "0.01220917048488613 None\n",
      "0.012204661202939466 None\n",
      "0.012223973927102286 None\n",
      "tf.Tensor(0.01228017355226304, shape=(), dtype=float64)\n",
      "0.01227492428622359 None\n"
     ]
    },
    {
     "data": {
      "application/vnd.jupyter.widget-view+json": {
       "model_id": "87335135ed61494d95a378ca66c5bc97",
       "version_major": 2,
       "version_minor": 0
      },
      "text/plain": [
       "  0%|          | 0/2000 [00:00<?, ?it/s]"
      ]
     },
     "metadata": {},
     "output_type": "display_data"
    },
    {
     "name": "stdout",
     "output_type": "stream",
     "text": [
      "0.13841988764614377 None\n",
      "0.11459110798659347 None\n",
      "0.0910161399014684 None\n",
      "0.06783328060835335 None\n",
      "0.04566732588709678 None\n",
      "0.02373052600266949 None\n",
      "0.009453476264759893 None\n",
      "0.00936183720124649 None\n",
      "0.009355083129253816 None\n",
      "0.009393151803116073 None\n",
      "0.009360820029998992 None\n",
      "0.009375354003048519 None\n",
      "0.009351130951406415 None\n",
      "0.009358165184179142 None\n",
      "0.009354229546475242 None\n",
      "0.009367714619710442 None\n",
      "0.009355730767765004 None\n",
      "0.009395718567373479 None\n",
      "0.0093562479088461 None\n",
      "0.009368710737717209 None\n",
      "tf.Tensor(0.00936191722923593, shape=(), dtype=float64)\n",
      "0.009341583646202758 None\n"
     ]
    },
    {
     "data": {
      "application/vnd.jupyter.widget-view+json": {
       "model_id": "918ca3d2b231442bb92918aaa24039af",
       "version_major": 2,
       "version_minor": 0
      },
      "text/plain": [
       "  0%|          | 0/2000 [00:00<?, ?it/s]"
      ]
     },
     "metadata": {},
     "output_type": "display_data"
    },
    {
     "name": "stdout",
     "output_type": "stream",
     "text": [
      "0.13994652051857862 None\n",
      "0.1163369638212895 None\n",
      "0.0924331136416797 None\n",
      "0.06957332143656082 None\n",
      "0.047352237690444395 None\n",
      "0.026027849818127856 None\n",
      "0.013230081525732316 None\n",
      "0.013255125747766435 None\n",
      "0.013223207764678634 None\n",
      "0.013188466203935205 None\n",
      "0.013219895475637792 None\n",
      "0.013225329910104808 None\n",
      "0.01319494625263357 None\n",
      "0.01319768671091727 None\n",
      "0.013198904749181166 None\n",
      "0.013230878370029994 None\n",
      "0.013202062838606757 None\n",
      "0.013283628041777622 None\n",
      "0.013221648497440078 None\n",
      "0.01324060817845591 None\n",
      "tf.Tensor(0.01329441228665586, shape=(), dtype=float64)\n",
      "0.013287242051570863 None\n"
     ]
    },
    {
     "data": {
      "application/vnd.jupyter.widget-view+json": {
       "model_id": "bf6d8ecdf2504d04b6f303f7409423f7",
       "version_major": 2,
       "version_minor": 0
      },
      "text/plain": [
       "  0%|          | 0/2000 [00:00<?, ?it/s]"
      ]
     },
     "metadata": {},
     "output_type": "display_data"
    },
    {
     "name": "stdout",
     "output_type": "stream",
     "text": [
      "0.13803193240579129 None\n",
      "0.1141478542416691 None\n",
      "0.09068156282612479 None\n",
      "0.06843074594355852 None\n",
      "0.04653950570302595 None\n",
      "0.025399888314216044 None\n",
      "0.008595306218405756 None\n",
      "0.008383249923547206 None\n",
      "0.008393081918279276 None\n",
      "0.008378947425620214 None\n",
      "0.008381368876733186 None\n",
      "0.008416216842201361 None\n",
      "0.008399828174433917 None\n",
      "0.008383133974133043 None\n",
      "0.00839487863187658 None\n",
      "0.00840202747578414 None\n",
      "0.008392611757246031 None\n",
      "0.008404725175060863 None\n",
      "0.008429721902298948 None\n",
      "0.008428980057640301 None\n",
      "tf.Tensor(0.008378776679080876, shape=(), dtype=float64)\n",
      "0.0083985667421583 None\n"
     ]
    },
    {
     "data": {
      "application/vnd.jupyter.widget-view+json": {
       "model_id": "544a705fdc6a4fc287e7f9af5cfcf01d",
       "version_major": 2,
       "version_minor": 0
      },
      "text/plain": [
       "  0%|          | 0/2000 [00:00<?, ?it/s]"
      ]
     },
     "metadata": {},
     "output_type": "display_data"
    },
    {
     "name": "stdout",
     "output_type": "stream",
     "text": [
      "0.13742348325834625 None\n",
      "0.11239058341185566 None\n",
      "0.08913642450696399 None\n",
      "0.06595224485088969 None\n",
      "0.043410759798456516 None\n",
      "0.02175632969730154 None\n",
      "0.006080281663338974 None\n",
      "0.006056846322364976 None\n",
      "0.006071885714479686 None\n",
      "0.0061081125633842895 None\n",
      "0.006095290882599622 None\n",
      "0.006009648066815473 None\n",
      "0.006050299374874491 None\n",
      "0.006024030765282091 None\n",
      "0.006047839690906571 None\n",
      "0.006061233357563891 None\n",
      "0.006027712118870297 None\n",
      "0.006034621265989689 None\n",
      "0.006013816982062679 None\n",
      "0.0060971488261468 None\n",
      "tf.Tensor(0.006088981864629729, shape=(), dtype=float64)\n",
      "0.006088417008543911 None\n"
     ]
    },
    {
     "data": {
      "application/vnd.jupyter.widget-view+json": {
       "model_id": "585a1fb99409409d97acaa6aa4c535d1",
       "version_major": 2,
       "version_minor": 0
      },
      "text/plain": [
       "  0%|          | 0/2000 [00:00<?, ?it/s]"
      ]
     },
     "metadata": {},
     "output_type": "display_data"
    },
    {
     "name": "stdout",
     "output_type": "stream",
     "text": [
      "0.13741146540479204 None\n",
      "0.11321815736347572 None\n",
      "0.08982005527079112 None\n",
      "0.06684211407609171 None\n",
      "0.04441750355416703 None\n",
      "0.022748660860394895 None\n",
      "0.008720310659241903 None\n",
      "0.008706733012503073 None\n",
      "0.008783701007761952 None\n",
      "0.008735601511087914 None\n",
      "0.00870532401116881 None\n",
      "0.00871585270594007 None\n",
      "0.008719310379836281 None\n",
      "0.008719833283148869 None\n",
      "0.008733782771371976 None\n",
      "0.008711162338077862 None\n",
      "0.008726928409491169 None\n",
      "0.008774237134526644 None\n",
      "0.008730839783758163 None\n",
      "0.008732352008583761 None\n",
      "tf.Tensor(0.008704008581642643, shape=(), dtype=float64)\n",
      "0.008713980019998912 None\n"
     ]
    },
    {
     "data": {
      "application/vnd.jupyter.widget-view+json": {
       "model_id": "6861f691e83e40dc99a0fc6eb6f3f1d1",
       "version_major": 2,
       "version_minor": 0
      },
      "text/plain": [
       "  0%|          | 0/2000 [00:00<?, ?it/s]"
      ]
     },
     "metadata": {},
     "output_type": "display_data"
    },
    {
     "name": "stdout",
     "output_type": "stream",
     "text": [
      "0.13845949442409042 None\n",
      "0.11454739855296067 None\n",
      "0.09082102055020298 None\n",
      "0.0674649170978784 None\n",
      "0.04464915426762179 None\n",
      "0.021110880475502743 None\n",
      "0.007102394453175221 None\n",
      "0.007109891839177956 None\n",
      "0.007096437528397174 None\n",
      "0.007102368457537932 None\n",
      "0.007082730558555371 None\n",
      "0.007044276964790038 None\n",
      "0.007072694031430106 None\n",
      "0.007047486799325563 None\n",
      "0.007053070261440815 None\n",
      "0.00711293573377254 None\n",
      "0.00710674176035515 None\n",
      "0.0070907444017540636 None\n",
      "0.007081992858669787 None\n",
      "0.007067749122207527 None\n",
      "tf.Tensor(0.007075464588375546, shape=(), dtype=float64)\n",
      "0.0070596502840185975 None\n"
     ]
    },
    {
     "data": {
      "application/vnd.jupyter.widget-view+json": {
       "model_id": "05cb00a5f04a40bba7225506494deb44",
       "version_major": 2,
       "version_minor": 0
      },
      "text/plain": [
       "  0%|          | 0/2000 [00:00<?, ?it/s]"
      ]
     },
     "metadata": {},
     "output_type": "display_data"
    },
    {
     "name": "stdout",
     "output_type": "stream",
     "text": [
      "0.13857860017237253 None\n",
      "0.11291010664258637 None\n",
      "0.08739077160302433 None\n",
      "0.06308571556251934 None\n",
      "0.04108702215538555 None\n",
      "0.019572896435248593 None\n",
      "0.0032280169196481894 None\n",
      "0.002897969334717032 None\n",
      "0.0029071763884087956 None\n",
      "0.0029048635083787216 None\n",
      "0.002892361266176693 None\n",
      "0.002908395579986572 None\n",
      "0.002880800962999369 None\n",
      "0.002905366138924656 None\n",
      "0.0028915826168237745 None\n",
      "0.0028952834709100213 None\n",
      "0.0028857560228924793 None\n",
      "0.0028989853371901696 None\n",
      "0.0029146154846818578 None\n",
      "0.0029137017983335185 None\n",
      "tf.Tensor(0.0028903747929898364, shape=(), dtype=float64)\n",
      "0.002905399454611813 None\n"
     ]
    },
    {
     "data": {
      "application/vnd.jupyter.widget-view+json": {
       "model_id": "ee41f9465dac4b168d540831e9ab2940",
       "version_major": 2,
       "version_minor": 0
      },
      "text/plain": [
       "  0%|          | 0/2000 [00:00<?, ?it/s]"
      ]
     },
     "metadata": {},
     "output_type": "display_data"
    },
    {
     "name": "stdout",
     "output_type": "stream",
     "text": [
      "0.13940826668744455 None\n",
      "0.11561171272966077 None\n",
      "0.09211470613723126 None\n",
      "0.06969389542800147 None\n",
      "0.0471752456544072 None\n",
      "0.025409981766420352 None\n",
      "0.009333104371554487 None\n",
      "0.009176059295466592 None\n",
      "0.00916812211494843 None\n",
      "0.009153683321362176 None\n",
      "0.009187282151570674 None\n",
      "0.009200260935482693 None\n",
      "0.009239065153471435 None\n",
      "0.00915901646673296 None\n",
      "0.009176983053528855 None\n",
      "0.009152201750809552 None\n",
      "0.00919004014566736 None\n",
      "0.00916844331266433 None\n",
      "0.009198913355509306 None\n",
      "0.00915332166293244 None\n",
      "tf.Tensor(0.009183027651875203, shape=(), dtype=float64)\n",
      "0.009194315154289898 None\n"
     ]
    },
    {
     "data": {
      "application/vnd.jupyter.widget-view+json": {
       "model_id": "9d4082b959ab45cd83a6b7078b0f872b",
       "version_major": 2,
       "version_minor": 0
      },
      "text/plain": [
       "  0%|          | 0/2000 [00:00<?, ?it/s]"
      ]
     },
     "metadata": {},
     "output_type": "display_data"
    },
    {
     "name": "stdout",
     "output_type": "stream",
     "text": [
      "0.14129570489284973 None\n",
      "0.11577734317609138 None\n",
      "0.09250470097899312 None\n",
      "0.06960383582329402 None\n",
      "0.04724450881293404 None\n",
      "0.02561316834067954 None\n",
      "0.004905966186334475 None\n",
      "0.00418805975143152 None\n",
      "0.004170933652484329 None\n",
      "0.004172375944132561 None\n",
      "0.004177051602506308 None\n",
      "0.0041663210734220225 None\n",
      "0.004186960181356851 None\n",
      "0.004175960568249804 None\n",
      "0.004211996460392645 None\n",
      "0.004156916948905839 None\n",
      "0.0041832783807537206 None\n",
      "0.004194858357143873 None\n",
      "0.00416339113056962 None\n",
      "0.004177071105620508 None\n",
      "tf.Tensor(0.004189563126614346, shape=(), dtype=float64)\n",
      "0.004177621303881773 None\n",
      "Done!\n"
     ]
    },
    {
     "data": {
      "application/vnd.jupyter.widget-view+json": {
       "model_id": "070ef329122040dca1f7aa608c64d0ca",
       "version_major": 2,
       "version_minor": 0
      },
      "text/plain": [
       "  0%|          | 0/2000 [00:00<?, ?it/s]"
      ]
     },
     "metadata": {},
     "output_type": "display_data"
    },
    {
     "name": "stdout",
     "output_type": "stream",
     "text": [
      "0.06811136488608124 None\n",
      "0.04395799507622933 None\n",
      "0.020213813982140817 None\n",
      "0.004970364384151681 None\n",
      "0.004896257045869717 None\n",
      "0.004910244841914728 None\n",
      "0.0049399326499770645 None\n",
      "0.004910168450402954 None\n",
      "0.00488223020068467 None\n",
      "0.004899196656488081 None\n",
      "0.004923534498459748 None\n",
      "0.004889128265653695 None\n",
      "0.00487130204879495 None\n",
      "0.004899295919409491 None\n",
      "0.004914589167277238 None\n",
      "0.004962290077885002 None\n",
      "0.004884577483318617 None\n",
      "0.0049435968163838995 None\n",
      "0.004886308345232227 None\n",
      "0.004874098295277969 None\n",
      "tf.Tensor(0.004939011148072731, shape=(), dtype=float64)\n",
      "0.004932142815802098 None\n"
     ]
    },
    {
     "data": {
      "application/vnd.jupyter.widget-view+json": {
       "model_id": "2e6e0d713e6c4f3ea64462431faf35b6",
       "version_major": 2,
       "version_minor": 0
      },
      "text/plain": [
       "  0%|          | 0/2000 [00:00<?, ?it/s]"
      ]
     },
     "metadata": {},
     "output_type": "display_data"
    },
    {
     "name": "stdout",
     "output_type": "stream",
     "text": [
      "0.06970640983945184 None\n",
      "0.04590948533068298 None\n",
      "0.02247661119070806 None\n",
      "0.00675074719782422 None\n",
      "0.0067501787062118 None\n",
      "0.006719724129027115 None\n",
      "0.0067423533804588515 None\n",
      "0.006713653873799012 None\n",
      "0.00670586207417305 None\n",
      "0.006754853037917466 None\n",
      "0.006773872448780801 None\n",
      "0.006749375573961793 None\n",
      "0.006723393594457401 None\n",
      "0.006732424677682567 None\n",
      "0.006710738308852011 None\n",
      "0.006722108564720542 None\n",
      "0.006699887213679853 None\n",
      "0.006725181181913405 None\n",
      "0.0067139785813383965 None\n",
      "0.006701537500174964 None\n",
      "tf.Tensor(0.006725456429034434, shape=(), dtype=float64)\n",
      "0.00671541076246553 None\n"
     ]
    },
    {
     "data": {
      "application/vnd.jupyter.widget-view+json": {
       "model_id": "ebf38d2e8cb0486aa0eeafa845deaf75",
       "version_major": 2,
       "version_minor": 0
      },
      "text/plain": [
       "  0%|          | 0/2000 [00:00<?, ?it/s]"
      ]
     },
     "metadata": {},
     "output_type": "display_data"
    },
    {
     "name": "stdout",
     "output_type": "stream",
     "text": [
      "0.06953417334427239 None\n",
      "0.04569905697408917 None\n",
      "0.022186782314878396 None\n",
      "0.006432572402791686 None\n",
      "0.00650410193348807 None\n",
      "0.006414830692191616 None\n",
      "0.006400865762811417 None\n",
      "0.006450215488344829 None\n",
      "0.006427010931739977 None\n",
      "0.006395217970696025 None\n",
      "0.006461656729653573 None\n",
      "0.006391995423874211 None\n",
      "0.0064204799498607 None\n",
      "0.006413729786138335 None\n",
      "0.006444409614312269 None\n",
      "0.0064878652720184865 None\n",
      "0.006391584902346044 None\n",
      "0.0064103979026571 None\n",
      "0.006408440277100833 None\n",
      "0.0064483247486004786 None\n",
      "tf.Tensor(0.006480700759569118, shape=(), dtype=float64)\n",
      "0.00645448532616218 None\n"
     ]
    },
    {
     "data": {
      "application/vnd.jupyter.widget-view+json": {
       "model_id": "4d1eae9da06a46968d39d801a655ee75",
       "version_major": 2,
       "version_minor": 0
      },
      "text/plain": [
       "  0%|          | 0/2000 [00:00<?, ?it/s]"
      ]
     },
     "metadata": {},
     "output_type": "display_data"
    },
    {
     "name": "stdout",
     "output_type": "stream",
     "text": [
      "0.0669401259228097 None\n",
      "0.04274497896342621 None\n",
      "0.018891616442565748 None\n",
      "0.004940365746937125 None\n",
      "0.004853048970214397 None\n",
      "0.0048969291658520035 None\n",
      "0.004873895022269965 None\n",
      "0.0048642838416021825 None\n",
      "0.0048446179206199005 None\n",
      "0.004846805722670999 None\n",
      "0.004849048104009825 None\n",
      "0.004857498277792846 None\n",
      "0.00485951926901145 None\n",
      "0.004907869690802185 None\n",
      "0.004855389370772347 None\n",
      "0.004876425984253576 None\n",
      "0.004863841885841878 None\n",
      "0.004881544546518511 None\n",
      "0.004876007448968512 None\n",
      "0.004841540529001917 None\n",
      "tf.Tensor(0.004882591758724469, shape=(), dtype=float64)\n",
      "0.004914674987325953 None\n"
     ]
    },
    {
     "data": {
      "application/vnd.jupyter.widget-view+json": {
       "model_id": "299f73efa77c468dbe9b9aa4a4a0c9a1",
       "version_major": 2,
       "version_minor": 0
      },
      "text/plain": [
       "  0%|          | 0/2000 [00:00<?, ?it/s]"
      ]
     },
     "metadata": {},
     "output_type": "display_data"
    },
    {
     "name": "stdout",
     "output_type": "stream",
     "text": [
      "0.06633623842021534 None\n",
      "0.042259133508188884 None\n",
      "0.018792369278877064 None\n",
      "0.004154664309047793 None\n",
      "0.004018927311289357 None\n",
      "0.004112294949265228 None\n",
      "0.004019852865753985 None\n",
      "0.004029402882773167 None\n",
      "0.00403644358829564 None\n",
      "0.004018770370736646 None\n",
      "0.004047022915381877 None\n",
      "0.0040395753919667595 None\n",
      "0.004027830163284986 None\n",
      "0.004058679943494219 None\n",
      "0.004018758319525429 None\n",
      "0.004103831023780879 None\n",
      "0.004060892349827297 None\n",
      "0.004023835829354793 None\n",
      "0.004038106745550555 None\n",
      "0.004028059519141274 None\n",
      "tf.Tensor(0.004074305947513481, shape=(), dtype=float64)\n",
      "0.004040320394474734 None\n"
     ]
    },
    {
     "data": {
      "application/vnd.jupyter.widget-view+json": {
       "model_id": "a0c65bb8256445d2956bff67f9c0921a",
       "version_major": 2,
       "version_minor": 0
      },
      "text/plain": [
       "  0%|          | 0/2000 [00:00<?, ?it/s]"
      ]
     },
     "metadata": {},
     "output_type": "display_data"
    },
    {
     "name": "stdout",
     "output_type": "stream",
     "text": [
      "0.0676281083119664 None\n",
      "0.043600468361862064 None\n",
      "0.019973767400193666 None\n",
      "0.004387134059739176 None\n",
      "0.00436957246712125 None\n",
      "0.0043686980271526645 None\n",
      "0.00443237607595395 None\n",
      "0.004360226142072026 None\n",
      "0.004364865474615166 None\n",
      "0.004366783699023189 None\n",
      "0.004406623720785362 None\n",
      "0.004353699426634404 None\n",
      "0.004361909417619674 None\n",
      "0.004445616781029374 None\n",
      "0.004357205185798104 None\n",
      "0.004360657450021902 None\n",
      "0.004393644641631408 None\n",
      "0.004354159800382158 None\n",
      "0.004358796313005717 None\n",
      "0.004354162209627201 None\n",
      "tf.Tensor(0.0043628473203357, shape=(), dtype=float64)\n",
      "0.004357235697629039 None\n"
     ]
    },
    {
     "data": {
      "application/vnd.jupyter.widget-view+json": {
       "model_id": "eac91d884cbe4c35878711eb4a633832",
       "version_major": 2,
       "version_minor": 0
      },
      "text/plain": [
       "  0%|          | 0/2000 [00:00<?, ?it/s]"
      ]
     },
     "metadata": {},
     "output_type": "display_data"
    },
    {
     "name": "stdout",
     "output_type": "stream",
     "text": [
      "0.06658991690450114 None\n",
      "0.042488525692320714 None\n",
      "0.01871665114163206 None\n",
      "0.0037555262628925935 None\n",
      "0.0037047683754451253 None\n",
      "0.003667152601777579 None\n",
      "0.003678702130427987 None\n",
      "0.0036655080242952963 None\n",
      "0.0036639622356221726 None\n",
      "0.003685899180496704 None\n",
      "0.003654648257562088 None\n",
      "0.0036896227158360554 None\n",
      "0.0036561791158362163 None\n",
      "0.003655230964454555 None\n",
      "0.003687844216462819 None\n",
      "0.0036574071329847444 None\n",
      "0.0036741176213419876 None\n",
      "0.0036483098315854296 None\n",
      "0.0036876764212521607 None\n",
      "0.0036520749954891425 None\n",
      "tf.Tensor(0.0036615906070681797, shape=(), dtype=float64)\n",
      "0.003661448004669717 None\n"
     ]
    },
    {
     "data": {
      "application/vnd.jupyter.widget-view+json": {
       "model_id": "b15045b56d774d20b347019b385c318b",
       "version_major": 2,
       "version_minor": 0
      },
      "text/plain": [
       "  0%|          | 0/2000 [00:00<?, ?it/s]"
      ]
     },
     "metadata": {},
     "output_type": "display_data"
    },
    {
     "name": "stdout",
     "output_type": "stream",
     "text": [
      "0.06866926009532422 None\n",
      "0.043220356577177314 None\n",
      "0.017745695541998258 None\n",
      "0.00039133208719826194 None\n",
      "0.00021249811611775103 None\n",
      "0.00018939884821767526 None\n",
      "0.00020795361955466135 None\n",
      "0.0002439335733798835 None\n",
      "0.00022430600610286178 None\n",
      "0.00019307946501281696 None\n",
      "0.00020236145859169226 None\n",
      "0.00023723305108496254 None\n",
      "0.0002147638491779933 None\n",
      "0.00021756344159629473 None\n",
      "0.00021195047319042676 None\n",
      "0.00021333265963279988 None\n",
      "0.00024052744939668906 None\n",
      "0.00018786500186513191 None\n",
      "0.00022107290718301024 None\n",
      "0.000198304294825433 None\n",
      "tf.Tensor(0.0001917552532219851, shape=(), dtype=float64)\n",
      "0.00020935609652265007 None\n"
     ]
    },
    {
     "data": {
      "application/vnd.jupyter.widget-view+json": {
       "model_id": "1f5ffda04f63405ea418da0db3b3ac9d",
       "version_major": 2,
       "version_minor": 0
      },
      "text/plain": [
       "  0%|          | 0/2000 [00:00<?, ?it/s]"
      ]
     },
     "metadata": {},
     "output_type": "display_data"
    },
    {
     "name": "stdout",
     "output_type": "stream",
     "text": [
      "0.06616437937489618 None\n",
      "0.04202843759022651 None\n",
      "0.018100074258357794 None\n",
      "0.00257458819812738 None\n",
      "0.0025705137760420917 None\n",
      "0.0025707646659217914 None\n",
      "0.0025759892766933825 None\n",
      "0.0025785083740660925 None\n",
      "0.0025799595278188005 None\n",
      "0.00257944720282406 None\n",
      "0.002587785519536121 None\n",
      "0.0026039251948750067 None\n",
      "0.002596626840586107 None\n",
      "0.002576664762989095 None\n",
      "0.0025643251458280208 None\n",
      "0.002568079614295995 None\n",
      "0.0025791964591844723 None\n",
      "0.0025947047954695823 None\n",
      "0.002565278117822374 None\n",
      "0.0025741374327373154 None\n",
      "tf.Tensor(0.0025626102843199286, shape=(), dtype=float64)\n",
      "0.0025857222324055015 None\n"
     ]
    },
    {
     "data": {
      "application/vnd.jupyter.widget-view+json": {
       "model_id": "0985758bf8134ac8aea760e5d1241da2",
       "version_major": 2,
       "version_minor": 0
      },
      "text/plain": [
       "  0%|          | 0/2000 [00:00<?, ?it/s]"
      ]
     },
     "metadata": {},
     "output_type": "display_data"
    },
    {
     "name": "stdout",
     "output_type": "stream",
     "text": [
      "0.06942232701804076 None\n",
      "0.04553783599078113 None\n",
      "0.021950428724688515 None\n",
      "0.004286984097459324 None\n",
      "0.004210352559175533 None\n",
      "0.004218636254746964 None\n",
      "0.004252749378242 None\n",
      "0.004205663818968577 None\n",
      "0.004215016112850065 None\n",
      "0.0042161182882569665 None\n",
      "0.004198216126241668 None\n",
      "0.004227671081717406 None\n",
      "0.004220255617709509 None\n",
      "0.0042478493296737845 None\n",
      "0.004222795794602436 None\n",
      "0.004263955837166818 None\n",
      "0.004207089184109511 None\n",
      "0.004218990830068837 None\n",
      "0.004224452766459644 None\n",
      "0.004210698108640467 None\n",
      "tf.Tensor(0.004216003033990232, shape=(), dtype=float64)\n",
      "0.004215875240046376 None\n",
      "Done!\n"
     ]
    }
   ],
   "source": [
    "n = 3\n",
    "d = 2**n\n",
    "\n",
    "np.random.seed(42)\n",
    "random.seed(42)\n",
    "tf.random.set_seed(42)\n",
    "rng = np.random.default_rng(seed=42)\n",
    "\n",
    "[distance_best_list, model_best_list] = loader(data_path(\"diluted_fitting_16layer.model\"))\n",
    "rank_start = model_best_list[-1].channel.rank\n",
    "\n",
    "distance_best_list, model_best_list = fit_diluted_unitary(spectrum_target_list3, \n",
    "                                                          d=d, \n",
    "                                                          rank_start = rank_start,\n",
    "                                                          rank_step = 1,\n",
    "                                                          num_iter = 2000,\n",
    "                                                         )\n",
    "\n",
    "saver([distance_best_list, model_best_list], data_path(\"diluted_fitting_24layer.model\"))"
   ]
  },
  {
   "cell_type": "code",
   "execution_count": 11,
   "metadata": {},
   "outputs": [
    {
     "data": {
      "application/vnd.jupyter.widget-view+json": {
       "model_id": "2bcc3d84e996403299556fbe89113ee5",
       "version_major": 2,
       "version_minor": 0
      },
      "text/plain": [
       "  0%|          | 0/10 [00:00<?, ?it/s]"
      ]
     },
     "metadata": {},
     "output_type": "display_data"
    },
    {
     "data": {
      "application/vnd.jupyter.widget-view+json": {
       "model_id": "7e968302bf264c999ee78cae98b29785",
       "version_major": 2,
       "version_minor": 0
      },
      "text/plain": [
       "  0%|          | 0/2000 [00:00<?, ?it/s]"
      ]
     },
     "metadata": {},
     "output_type": "display_data"
    },
    {
     "name": "stdout",
     "output_type": "stream",
     "text": [
      "0.25873146381531004 None\n",
      "0.23280299991568035 None\n",
      "0.20695735498099005 None\n",
      "0.181375648770697 None\n",
      "0.15623809517047274 None\n",
      "0.13121043201541088 None\n",
      "0.10649883503708404 None\n",
      "0.0830725237741119 None\n",
      "0.06020324187492497 None\n",
      "0.03899185273292555 None\n",
      "0.017899746954323077 None\n",
      "0.0009618832588572657 None\n",
      "0.0006713786135455306 None\n",
      "0.0006677255989008361 None\n",
      "0.0006739542918417461 None\n",
      "0.0006655664097264986 None\n",
      "0.0006966538204934321 None\n",
      "0.0007044108167160584 None\n",
      "0.0006624966383573447 None\n",
      "0.0006998122322320645 None\n",
      "tf.Tensor(0.000678168122136398, shape=(), dtype=float64)\n",
      "0.0006723182143750124 None\n"
     ]
    },
    {
     "data": {
      "application/vnd.jupyter.widget-view+json": {
       "model_id": "32369f6e49b641f185399cfb78bce6b3",
       "version_major": 2,
       "version_minor": 0
      },
      "text/plain": [
       "  0%|          | 0/2000 [00:00<?, ?it/s]"
      ]
     },
     "metadata": {},
     "output_type": "display_data"
    },
    {
     "name": "stdout",
     "output_type": "stream",
     "text": [
      "0.2674661784909288 None\n",
      "0.2421997426464868 None\n",
      "0.2170398924497272 None\n",
      "0.19212020112646086 None\n",
      "0.16754894838900072 None\n",
      "0.14342293363688619 None\n",
      "0.11984081208351935 None\n",
      "0.0969562432267117 None\n",
      "0.07548869692134146 None\n",
      "0.05426439940643239 None\n",
      "0.030756682266310332 None\n",
      "0.012965364730208095 None\n",
      "0.002741651839275612 None\n",
      "0.00251072251262743 None\n",
      "0.0024759267977605554 None\n",
      "0.002501109275773003 None\n",
      "0.0025073719034196494 None\n",
      "0.0024730810073262874 None\n",
      "0.002472030263475547 None\n",
      "0.002514244952934199 None\n",
      "tf.Tensor(0.0024823194538769744, shape=(), dtype=float64)\n",
      "0.0024877683044483775 None\n"
     ]
    },
    {
     "data": {
      "application/vnd.jupyter.widget-view+json": {
       "model_id": "1b4c6144f44a499c9e4f8e2edaef35f9",
       "version_major": 2,
       "version_minor": 0
      },
      "text/plain": [
       "  0%|          | 0/2000 [00:00<?, ?it/s]"
      ]
     },
     "metadata": {},
     "output_type": "display_data"
    },
    {
     "name": "stdout",
     "output_type": "stream",
     "text": [
      "0.2610244949611056 None\n",
      "0.23542581666667026 None\n",
      "0.2100217542809018 None\n",
      "0.18493667857560006 None\n",
      "0.16036232362928846 None\n",
      "0.13647650484021834 None\n",
      "0.11337689345862972 None\n",
      "0.09108131913737816 None\n",
      "0.0695025663691346 None\n",
      "0.048506046607487585 None\n",
      "0.027838279371346492 None\n",
      "0.006014251730786464 None\n",
      "0.0008129645162808855 None\n",
      "0.000806148411404032 None\n",
      "0.0008627690770447484 None\n",
      "0.0008388251279810369 None\n",
      "0.0008282549014274991 None\n",
      "0.0008508476879516662 None\n",
      "0.0008158133254505401 None\n",
      "0.000842408485889394 None\n",
      "tf.Tensor(0.0008243129430210334, shape=(), dtype=float64)\n",
      "0.0008211779924247355 None\n"
     ]
    },
    {
     "data": {
      "application/vnd.jupyter.widget-view+json": {
       "model_id": "b5bbea38c82a42a58d624672e5061710",
       "version_major": 2,
       "version_minor": 0
      },
      "text/plain": [
       "  0%|          | 0/2000 [00:00<?, ?it/s]"
      ]
     },
     "metadata": {},
     "output_type": "display_data"
    },
    {
     "name": "stdout",
     "output_type": "stream",
     "text": [
      "0.26132437907205075 None\n",
      "0.2356733799196377 None\n",
      "0.2102587550127986 None\n",
      "0.18528160056506193 None\n",
      "0.16091058909157108 None\n",
      "0.1376973332462262 None\n",
      "0.11505745980111473 None\n",
      "0.09403017131001283 None\n",
      "0.07341716477605958 None\n",
      "0.05382986052313607 None\n",
      "0.03522523997395275 None\n",
      "0.017192165089854362 None\n",
      "0.0019985502842694222 None\n",
      "0.0019425139067527457 None\n",
      "0.0019486855011315515 None\n",
      "0.0019547183145874683 None\n",
      "0.0019479642770404808 None\n",
      "0.0019717361963081173 None\n",
      "0.001966561411323089 None\n",
      "0.0019597332491590666 None\n",
      "tf.Tensor(0.001960835243207091, shape=(), dtype=float64)\n",
      "0.0019501498895884567 None\n"
     ]
    },
    {
     "data": {
      "application/vnd.jupyter.widget-view+json": {
       "model_id": "bfa32aa4998c4ed7a834bc12b5838356",
       "version_major": 2,
       "version_minor": 0
      },
      "text/plain": [
       "  0%|          | 0/2000 [00:00<?, ?it/s]"
      ]
     },
     "metadata": {},
     "output_type": "display_data"
    },
    {
     "name": "stdout",
     "output_type": "stream",
     "text": [
      "0.26260928202780387 None\n",
      "0.23700075305777818 None\n",
      "0.2117642838774646 None\n",
      "0.18635195631335302 None\n",
      "0.1613141726225039 None\n",
      "0.13696981849455492 None\n",
      "0.11340739739524687 None\n",
      "0.09061965115912331 None\n",
      "0.06859909747354101 None\n",
      "0.04748369533822649 None\n",
      "0.02717833718690745 None\n",
      "0.0075546193685032716 None\n",
      "0.0004993130254140644 None\n",
      "0.0004909973681024582 None\n",
      "0.0004951226817492445 None\n",
      "0.0004763814887450944 None\n",
      "0.0004949291833640443 None\n",
      "0.0004715065879652841 None\n",
      "0.00048794457709342223 None\n",
      "0.0004846517196904869 None\n",
      "tf.Tensor(0.0004969537712078698, shape=(), dtype=float64)\n",
      "0.00048011589780198524 None\n"
     ]
    },
    {
     "data": {
      "application/vnd.jupyter.widget-view+json": {
       "model_id": "6a838d0d469f40d3953e5ffbc15b7781",
       "version_major": 2,
       "version_minor": 0
      },
      "text/plain": [
       "  0%|          | 0/2000 [00:00<?, ?it/s]"
      ]
     },
     "metadata": {},
     "output_type": "display_data"
    },
    {
     "name": "stdout",
     "output_type": "stream",
     "text": [
      "0.2636543278834504 None\n",
      "0.23798144238561522 None\n",
      "0.21240682151460175 None\n",
      "0.18715348845977187 None\n",
      "0.16243026827605453 None\n",
      "0.13564251340172978 None\n",
      "0.11222996931505456 None\n",
      "0.08970535330300967 None\n",
      "0.06808370998243812 None\n",
      "0.04722300381468941 None\n",
      "0.02712902176906346 None\n",
      "0.007808562861431258 None\n",
      "0.0017768824640249335 None\n",
      "0.0017798184996421947 None\n",
      "0.001796759104869445 None\n",
      "0.0017897180372588792 None\n",
      "0.0018021844904699338 None\n",
      "0.0017676764351171464 None\n",
      "0.0017823859523210875 None\n",
      "0.0017664422974202482 None\n",
      "tf.Tensor(0.0017661122535223908, shape=(), dtype=float64)\n",
      "0.001774414805811135 None\n"
     ]
    },
    {
     "data": {
      "application/vnd.jupyter.widget-view+json": {
       "model_id": "ce4c23cd4f4e42c1978f748c49e049fd",
       "version_major": 2,
       "version_minor": 0
      },
      "text/plain": [
       "  0%|          | 0/2000 [00:00<?, ?it/s]"
      ]
     },
     "metadata": {},
     "output_type": "display_data"
    },
    {
     "name": "stdout",
     "output_type": "stream",
     "text": [
      "0.26237543308042116 None\n",
      "0.23664957762620928 None\n",
      "0.2110839742028365 None\n",
      "0.1858380934682455 None\n",
      "0.16070913136399184 None\n",
      "0.13646617235007177 None\n",
      "0.11305670230123957 None\n",
      "0.09058124187597935 None\n",
      "0.06907864095538184 None\n",
      "0.048527267585249445 None\n",
      "0.028839539606263804 None\n",
      "0.009994948970148753 None\n",
      "0.0020798576176121117 None\n",
      "0.002102933095334575 None\n",
      "0.002102168839998194 None\n",
      "0.0020941900882854338 None\n",
      "0.0021001750649884132 None\n",
      "0.0020919469858309316 None\n",
      "0.0020777863137002375 None\n",
      "0.002085345880164978 None\n",
      "tf.Tensor(0.0020828908402095968, shape=(), dtype=float64)\n",
      "0.002087425428344572 None\n",
      "Done!\n"
     ]
    },
    {
     "data": {
      "application/vnd.jupyter.widget-view+json": {
       "model_id": "aedb2095297e4d18bff0b7f34f982178",
       "version_major": 2,
       "version_minor": 0
      },
      "text/plain": [
       "  0%|          | 0/2000 [00:00<?, ?it/s]"
      ]
     },
     "metadata": {},
     "output_type": "display_data"
    },
    {
     "name": "stdout",
     "output_type": "stream",
     "text": [
      "0.29140236111461576 None\n",
      "0.2655894302231627 None\n",
      "0.2399055354414271 None\n",
      "0.21457948086238485 None\n",
      "0.18979129714367632 None\n",
      "0.1656595375774454 None\n",
      "0.14222817948561708 None\n",
      "0.11950273726117173 None\n",
      "0.09763019115757017 None\n",
      "0.07672645606105791 None\n",
      "0.0567955161503798 None\n",
      "0.04209250786204194 None\n",
      "0.030468159082362608 None\n",
      "0.02025061701927076 None\n",
      "0.011622217986286137 None\n",
      "0.008218338635493021 None\n",
      "0.008210142066804541 None\n",
      "0.008238931356697548 None\n",
      "0.008213214566868642 None\n",
      "0.00821959387904429 None\n",
      "tf.Tensor(0.008226737037981813, shape=(), dtype=float64)\n",
      "0.008210329830812036 None\n"
     ]
    },
    {
     "data": {
      "application/vnd.jupyter.widget-view+json": {
       "model_id": "3e2e2cf681514e448547c88ef254fa13",
       "version_major": 2,
       "version_minor": 0
      },
      "text/plain": [
       "  0%|          | 0/2000 [00:00<?, ?it/s]"
      ]
     },
     "metadata": {},
     "output_type": "display_data"
    },
    {
     "name": "stdout",
     "output_type": "stream",
     "text": [
      "0.29062550201788745 None\n",
      "0.26464840551246643 None\n",
      "0.23879362173770477 None\n",
      "0.21320481700136196 None\n",
      "0.1880759766227305 None\n",
      "0.1636590717526724 None\n",
      "0.1400928221241284 None\n",
      "0.11752281582242419 None\n",
      "0.09588155965270598 None\n",
      "0.07423227994883072 None\n",
      "0.054140759204314146 None\n",
      "0.03681351271501392 None\n",
      "0.02497167927274089 None\n",
      "0.013892657212770911 None\n",
      "0.004958823867281879 None\n",
      "0.004924321185410592 None\n",
      "0.0049314322415646775 None\n",
      "0.004923267269317626 None\n",
      "0.004920226084214052 None\n",
      "0.004922606517387691 None\n",
      "tf.Tensor(0.004920392594581005, shape=(), dtype=float64)\n",
      "0.004925899593779447 None\n"
     ]
    },
    {
     "data": {
      "application/vnd.jupyter.widget-view+json": {
       "model_id": "93c73219595f4f8ab5b93305b1a9267b",
       "version_major": 2,
       "version_minor": 0
      },
      "text/plain": [
       "  0%|          | 0/2000 [00:00<?, ?it/s]"
      ]
     },
     "metadata": {},
     "output_type": "display_data"
    },
    {
     "name": "stdout",
     "output_type": "stream",
     "text": [
      "0.293790777322056 None\n",
      "0.26818389474416904 None\n",
      "0.24269813916300992 None\n",
      "0.21769010749409637 None\n",
      "0.19316467402932505 None\n",
      "0.16928543814852076 None\n",
      "0.14617275385202494 None\n",
      "0.12383997909548443 None\n",
      "0.10238754071994917 None\n",
      "0.0819659793239644 None\n",
      "0.06238739635786319 None\n",
      "0.04203295664847782 None\n",
      "0.026056372746053567 None\n",
      "0.016342597884271105 None\n",
      "0.007095604147683489 None\n",
      "0.00482724276170108 None\n",
      "0.004802004294420056 None\n",
      "0.004800002983621751 None\n",
      "0.004819395444069435 None\n",
      "0.004801443641771076 None\n",
      "tf.Tensor(0.004814655910206408, shape=(), dtype=float64)\n",
      "0.004800018364849001 None\n"
     ]
    },
    {
     "data": {
      "application/vnd.jupyter.widget-view+json": {
       "model_id": "3ae83a9305a74c62965e8010abf61831",
       "version_major": 2,
       "version_minor": 0
      },
      "text/plain": [
       "  0%|          | 0/2000 [00:00<?, ?it/s]"
      ]
     },
     "metadata": {},
     "output_type": "display_data"
    },
    {
     "name": "stdout",
     "output_type": "stream",
     "text": [
      "0.2906701124319878 None\n",
      "0.2649464453757479 None\n",
      "0.23929259638580289 None\n",
      "0.2138229713957234 None\n",
      "0.18873584834430276 None\n",
      "0.16425203088168613 None\n",
      "0.14052026415706032 None\n",
      "0.1176010180604502 None\n",
      "0.0956275550413059 None\n",
      "0.07459221348067006 None\n",
      "0.05450020471592238 None\n",
      "0.03533263205482999 None\n",
      "0.01626166883579158 None\n",
      "0.005327318343623554 None\n",
      "0.0018995201428717474 None\n",
      "0.0018877269868301204 None\n",
      "0.0019001137625846258 None\n",
      "0.0018709884468141764 None\n",
      "0.0018710061289804736 None\n",
      "0.0018915849309858596 None\n",
      "tf.Tensor(0.0018747195610794194, shape=(), dtype=float64)\n",
      "0.0018798572636293115 None\n"
     ]
    },
    {
     "data": {
      "application/vnd.jupyter.widget-view+json": {
       "model_id": "e58b3cdca03e40c897972764cc063a98",
       "version_major": 2,
       "version_minor": 0
      },
      "text/plain": [
       "  0%|          | 0/2000 [00:00<?, ?it/s]"
      ]
     },
     "metadata": {},
     "output_type": "display_data"
    },
    {
     "name": "stdout",
     "output_type": "stream",
     "text": [
      "0.29113380902766384 None\n",
      "0.26542506373509644 None\n",
      "0.23983173183550446 None\n",
      "0.2145488151893642 None\n",
      "0.19072178488454222 None\n",
      "0.16660504961087952 None\n",
      "0.1430474416599311 None\n",
      "0.12048131589352686 None\n",
      "0.09875568527948117 None\n",
      "0.07794653471341753 None\n",
      "0.058000941772869324 None\n",
      "0.03883489101688894 None\n",
      "0.02020382698241876 None\n",
      "0.0020547400858572477 None\n",
      "0.0005412134517296802 None\n",
      "0.0005535832327078077 None\n",
      "0.0005571046180007505 None\n",
      "0.0005557037818836943 None\n",
      "0.0005417882218808449 None\n",
      "0.0005565082088655228 None\n",
      "tf.Tensor(0.0005480674569371159, shape=(), dtype=float64)\n",
      "0.0005289149307204991 None\n"
     ]
    },
    {
     "data": {
      "application/vnd.jupyter.widget-view+json": {
       "model_id": "a2022ba463fd4e9ebcc41807b20ea620",
       "version_major": 2,
       "version_minor": 0
      },
      "text/plain": [
       "  0%|          | 0/2000 [00:00<?, ?it/s]"
      ]
     },
     "metadata": {},
     "output_type": "display_data"
    },
    {
     "name": "stdout",
     "output_type": "stream",
     "text": [
      "0.2913032123993894 None\n",
      "0.26564987887352665 None\n",
      "0.24018152611955343 None\n",
      "0.21511491717849335 None\n",
      "0.19063783307819673 None\n",
      "0.16690842402415865 None\n",
      "0.14404990875237142 None\n",
      "0.12213876260104689 None\n",
      "0.10112222883862317 None\n",
      "0.08071932983401058 None\n",
      "0.061556263174327455 None\n",
      "0.04273271299572176 None\n",
      "0.024571657256360034 None\n",
      "0.0072963347136670055 None\n",
      "0.0009559502893122553 None\n",
      "0.0009699016981316692 None\n",
      "0.0009736898891194064 None\n",
      "0.0009740691815318114 None\n",
      "0.00098474120905067 None\n",
      "0.000939539083556571 None\n",
      "tf.Tensor(0.0009437890692980053, shape=(), dtype=float64)\n",
      "0.0009553958639116622 None\n"
     ]
    },
    {
     "data": {
      "application/vnd.jupyter.widget-view+json": {
       "model_id": "9e630839f404477486c413bf0333d4ed",
       "version_major": 2,
       "version_minor": 0
      },
      "text/plain": [
       "  0%|          | 0/2000 [00:00<?, ?it/s]"
      ]
     },
     "metadata": {},
     "output_type": "display_data"
    },
    {
     "name": "stdout",
     "output_type": "stream",
     "text": [
      "0.29380143309569107 None\n",
      "0.26820887125283777 None\n",
      "0.24262111158165658 None\n",
      "0.21718430204142783 None\n",
      "0.19219929124156146 None\n",
      "0.16744569375595308 None\n",
      "0.1432925615218737 None\n",
      "0.12005650105492222 None\n",
      "0.0972991822508017 None\n",
      "0.07600628249942458 None\n",
      "0.05580686997454447 None\n",
      "0.0367199577213676 None\n",
      "0.01771619508785536 None\n",
      "0.004329320925136396 None\n",
      "0.001470812194337097 None\n",
      "0.0014784240494246197 None\n",
      "0.001484584003465704 None\n",
      "0.0014598303469229613 None\n",
      "0.0014585220998761111 None\n",
      "0.00145663638399229 None\n",
      "tf.Tensor(0.0015126878613103377, shape=(), dtype=float64)\n",
      "0.0015071752880953387 None\n"
     ]
    },
    {
     "data": {
      "application/vnd.jupyter.widget-view+json": {
       "model_id": "ed456c9d49184a48b6602d4936085e14",
       "version_major": 2,
       "version_minor": 0
      },
      "text/plain": [
       "  0%|          | 0/2000 [00:00<?, ?it/s]"
      ]
     },
     "metadata": {},
     "output_type": "display_data"
    },
    {
     "name": "stdout",
     "output_type": "stream",
     "text": [
      "0.2927246187969149 None\n",
      "0.26706834200694357 None\n",
      "0.24155535558564298 None\n",
      "0.21638692002891996 None\n",
      "0.19163922789663196 None\n",
      "0.16756136971907692 None\n",
      "0.14496115125651116 None\n",
      "0.12248612067099741 None\n",
      "0.10135836982561658 None\n",
      "0.08109624568550224 None\n",
      "0.06168798613332771 None\n",
      "0.042715393632752216 None\n",
      "0.024388624249104294 None\n",
      "0.005967027813540134 None\n",
      "0.00268066881403203 None\n",
      "0.0026928780402225294 None\n",
      "0.0026738068544580086 None\n",
      "0.0026633701503871177 None\n",
      "0.0026669544892403765 None\n",
      "0.002685224621876668 None\n",
      "tf.Tensor(0.0026693227508749577, shape=(), dtype=float64)\n",
      "0.0026674740104472364 None\n"
     ]
    },
    {
     "data": {
      "application/vnd.jupyter.widget-view+json": {
       "model_id": "0fb86ce288c7410dae6c7453f337c014",
       "version_major": 2,
       "version_minor": 0
      },
      "text/plain": [
       "  0%|          | 0/2000 [00:00<?, ?it/s]"
      ]
     },
     "metadata": {},
     "output_type": "display_data"
    },
    {
     "name": "stdout",
     "output_type": "stream",
     "text": [
      "0.28941820112880584 None\n",
      "0.26344447629992823 None\n",
      "0.23756083425172747 None\n",
      "0.21199529404136375 None\n",
      "0.18692935325559049 None\n",
      "0.16252609988689376 None\n",
      "0.13892899512369553 None\n",
      "0.11623373105511178 None\n",
      "0.09441162627484737 None\n",
      "0.07350370170472889 None\n",
      "0.05353992032344832 None\n",
      "0.03381637589243838 None\n",
      "0.01576919147444818 None\n",
      "0.0008125218372204042 None\n",
      "0.0004431689241940033 None\n",
      "0.000426477887183644 None\n",
      "0.00042683668920759366 None\n",
      "0.00042718290496439326 None\n",
      "0.0004275252146345686 None\n",
      "0.00042786470550782926 None\n",
      "tf.Tensor(0.0004416117390189378, shape=(), dtype=float64)\n",
      "0.0004282023563309048 None\n"
     ]
    },
    {
     "data": {
      "application/vnd.jupyter.widget-view+json": {
       "model_id": "770b69fd22ee4a9391b84c88ead20b1e",
       "version_major": 2,
       "version_minor": 0
      },
      "text/plain": [
       "  0%|          | 0/2000 [00:00<?, ?it/s]"
      ]
     },
     "metadata": {},
     "output_type": "display_data"
    },
    {
     "name": "stdout",
     "output_type": "stream",
     "text": [
      "0.2943681948824718 None\n",
      "0.2686889492519958 None\n",
      "0.24311016677947403 None\n",
      "0.21795916165108586 None\n",
      "0.19333657994806105 None\n",
      "0.16939623983372093 None\n",
      "0.14622217823924447 None\n",
      "0.12389466336367325 None\n",
      "0.10250498268104663 None\n",
      "0.08203606056272239 None\n",
      "0.0624602349339235 None\n",
      "0.0435903408667213 None\n",
      "0.024583717821645718 None\n",
      "0.007255117462386381 None\n",
      "0.001788315265464288 None\n",
      "0.0017866477550896702 None\n",
      "0.001784850979215831 None\n",
      "0.0017919409658546243 None\n",
      "0.0018065675294438206 None\n",
      "0.001832103277032763 None\n",
      "tf.Tensor(0.0018031630739173722, shape=(), dtype=float64)\n",
      "0.0017892851614948954 None\n"
     ]
    },
    {
     "data": {
      "application/vnd.jupyter.widget-view+json": {
       "model_id": "8e02755e9f084018948eea5a7f97f694",
       "version_major": 2,
       "version_minor": 0
      },
      "text/plain": [
       "  0%|          | 0/2000 [00:00<?, ?it/s]"
      ]
     },
     "metadata": {},
     "output_type": "display_data"
    },
    {
     "name": "stdout",
     "output_type": "stream",
     "text": [
      "0.2948995648669857 None\n",
      "0.26946486784677487 None\n",
      "0.2440943792235635 None\n",
      "0.21902247568361516 None\n",
      "0.19449094814035695 None\n",
      "0.17062341506369633 None\n",
      "0.14732170293522615 None\n",
      "0.1246948706015821 None\n",
      "0.10298756620335656 None\n",
      "0.08232871074766183 None\n",
      "0.06266973859630534 None\n",
      "0.044337936148152075 None\n",
      "0.026345807278775987 None\n",
      "0.008220877891247959 None\n",
      "0.0045597338094658935 None\n",
      "0.004542878242552933 None\n",
      "0.004534531350542707 None\n",
      "0.004581817198494115 None\n",
      "0.004574871049843339 None\n",
      "0.004539861236089099 None\n",
      "tf.Tensor(0.004578598329243969, shape=(), dtype=float64)\n",
      "0.004575067069805729 None\n",
      "Done!\n"
     ]
    },
    {
     "data": {
      "application/vnd.jupyter.widget-view+json": {
       "model_id": "b586e437c5824169884d1bee56f3e03d",
       "version_major": 2,
       "version_minor": 0
      },
      "text/plain": [
       "  0%|          | 0/2000 [00:00<?, ?it/s]"
      ]
     },
     "metadata": {},
     "output_type": "display_data"
    },
    {
     "name": "stdout",
     "output_type": "stream",
     "text": [
      "0.294129290162491 None\n",
      "0.26834152888562157 None\n",
      "0.24270204272859722 None\n",
      "0.21738850924885134 None\n",
      "0.1925784243353123 None\n",
      "0.1686683236582751 None\n",
      "0.14554745890509868 None\n",
      "0.12340580165460564 None\n",
      "0.10223555775354842 None\n",
      "0.08204282594063664 None\n",
      "0.06291181589243909 None\n",
      "0.04492446300179899 None\n",
      "0.02893341336544313 None\n",
      "0.017804756061975208 None\n",
      "0.008619239043443139 None\n",
      "0.004087163237681581 None\n",
      "0.004116537579582576 None\n",
      "0.004093863132191986 None\n",
      "0.004094717440956616 None\n",
      "0.004104362204087227 None\n",
      "tf.Tensor(0.00409960966181545, shape=(), dtype=float64)\n",
      "0.004115342914013758 None\n"
     ]
    },
    {
     "data": {
      "application/vnd.jupyter.widget-view+json": {
       "model_id": "f9dc23bcbd2447779fd03f02ddefb54a",
       "version_major": 2,
       "version_minor": 0
      },
      "text/plain": [
       "  0%|          | 0/2000 [00:00<?, ?it/s]"
      ]
     },
     "metadata": {},
     "output_type": "display_data"
    },
    {
     "name": "stdout",
     "output_type": "stream",
     "text": [
      "0.2969613330621884 None\n",
      "0.27126485215859303 None\n",
      "0.24572925396012424 None\n",
      "0.22055397085502348 None\n",
      "0.1958818808185977 None\n",
      "0.17176651451658748 None\n",
      "0.14829281181321483 None\n",
      "0.12522234950675076 None\n",
      "0.10341154499681363 None\n",
      "0.08259426870175882 None\n",
      "0.06337583057111336 None\n",
      "0.044447753870942686 None\n",
      "0.02648833047471587 None\n",
      "0.015163561485102922 None\n",
      "0.005982214493427156 None\n",
      "0.0036597888142257187 None\n",
      "0.0036602823764649746 None\n",
      "0.003672395551713968 None\n",
      "0.003659732519799397 None\n",
      "0.0036671506043349997 None\n",
      "tf.Tensor(0.0036585833443775473, shape=(), dtype=float64)\n",
      "0.003677859119249477 None\n"
     ]
    },
    {
     "data": {
      "application/vnd.jupyter.widget-view+json": {
       "model_id": "83ee3eead5524eef8343b4da7a76e956",
       "version_major": 2,
       "version_minor": 0
      },
      "text/plain": [
       "  0%|          | 0/2000 [00:00<?, ?it/s]"
      ]
     },
     "metadata": {},
     "output_type": "display_data"
    },
    {
     "name": "stdout",
     "output_type": "stream",
     "text": [
      "0.29642639292362705 None\n",
      "0.2705828354269577 None\n",
      "0.24464363984714593 None\n",
      "0.2190859982553 None\n",
      "0.19422349536658656 None\n",
      "0.16967666000036205 None\n",
      "0.14601332542441156 None\n",
      "0.123317673350473 None\n",
      "0.1016187177153735 None\n",
      "0.0810240289188827 None\n",
      "0.0642126397591955 None\n",
      "0.05025205006591159 None\n",
      "0.03726640590523993 None\n",
      "0.02557957886480158 None\n",
      "0.014749693249143679 None\n",
      "0.007913413999210556 None\n",
      "0.007935100983720862 None\n",
      "0.007914190046926929 None\n",
      "0.007922982575563856 None\n",
      "0.007915215300176706 None\n",
      "tf.Tensor(0.007946736568945324, shape=(), dtype=float64)\n",
      "0.007916429843386863 None\n"
     ]
    },
    {
     "data": {
      "application/vnd.jupyter.widget-view+json": {
       "model_id": "0d36623454874878ad961f9cb51acf6e",
       "version_major": 2,
       "version_minor": 0
      },
      "text/plain": [
       "  0%|          | 0/2000 [00:00<?, ?it/s]"
      ]
     },
     "metadata": {},
     "output_type": "display_data"
    },
    {
     "name": "stdout",
     "output_type": "stream",
     "text": [
      "0.2980249042428048 None\n",
      "0.27235431026472545 None\n",
      "0.24676621916133895 None\n",
      "0.22139935180901915 None\n",
      "0.19635736473322368 None\n",
      "0.1718352999296418 None\n",
      "0.14803719037962973 None\n",
      "0.12511330702634407 None\n",
      "0.10317896071302322 None\n",
      "0.08210090530196662 None\n",
      "0.06195434087191676 None\n",
      "0.04254258313437406 None\n",
      "0.024469708619214756 None\n",
      "0.013628157089040343 None\n",
      "0.003325747592390394 None\n",
      "0.00333258110325544 None\n",
      "0.0033460078899831477 None\n",
      "0.003315968733061881 None\n",
      "0.0033194868830134297 None\n",
      "0.0033263045481391924 None\n",
      "tf.Tensor(0.0033263517374796416, shape=(), dtype=float64)\n",
      "0.0033124662257908097 None\n"
     ]
    },
    {
     "data": {
      "application/vnd.jupyter.widget-view+json": {
       "model_id": "7bce3781dac543ff93481512c2cef921",
       "version_major": 2,
       "version_minor": 0
      },
      "text/plain": [
       "  0%|          | 0/2000 [00:00<?, ?it/s]"
      ]
     },
     "metadata": {},
     "output_type": "display_data"
    },
    {
     "name": "stdout",
     "output_type": "stream",
     "text": [
      "0.2974188879809983 None\n",
      "0.27164357759962776 None\n",
      "0.24559372073313665 None\n",
      "0.2202327736895223 None\n",
      "0.1954477439540188 None\n",
      "0.17138662815168154 None\n",
      "0.14817830667681667 None\n",
      "0.12584401040050197 None\n",
      "0.10428814712776845 None\n",
      "0.0838196316552504 None\n",
      "0.06457919057984254 None\n",
      "0.04660573016026169 None\n",
      "0.029617698622484662 None\n",
      "0.01372678646058827 None\n",
      "0.00190053154776057 None\n",
      "0.0010052687141774083 None\n",
      "0.0009913997261503486 None\n",
      "0.0009907876129971703 None\n",
      "0.0009895273857617876 None\n",
      "0.0010068556474340032 None\n",
      "tf.Tensor(0.001004437655153137, shape=(), dtype=float64)\n",
      "0.0010076074352734048 None\n"
     ]
    },
    {
     "data": {
      "application/vnd.jupyter.widget-view+json": {
       "model_id": "dea713cfd3574f83a5633af3a2ffe8fd",
       "version_major": 2,
       "version_minor": 0
      },
      "text/plain": [
       "  0%|          | 0/2000 [00:00<?, ?it/s]"
      ]
     },
     "metadata": {},
     "output_type": "display_data"
    },
    {
     "name": "stdout",
     "output_type": "stream",
     "text": [
      "0.2986076461062405 None\n",
      "0.273214398260587 None\n",
      "0.24782898207230342 None\n",
      "0.22271602640938792 None\n",
      "0.19778369941746476 None\n",
      "0.17345967404598026 None\n",
      "0.1498712511268526 None\n",
      "0.12728553067251852 None\n",
      "0.1057955107882142 None\n",
      "0.08537762567093023 None\n",
      "0.06595275141142484 None\n",
      "0.047372354144717334 None\n",
      "0.029587302126021234 None\n",
      "0.012343778401140426 None\n",
      "0.004149554615552279 None\n",
      "0.002592828113886586 None\n",
      "0.002589833314572368 None\n",
      "0.002634593770408717 None\n",
      "0.0026041966934601986 None\n",
      "0.002584756279369785 None\n",
      "tf.Tensor(0.00259031663952302, shape=(), dtype=float64)\n",
      "0.0025996529622796284 None\n"
     ]
    },
    {
     "data": {
      "application/vnd.jupyter.widget-view+json": {
       "model_id": "d3237911864c47dc80c56ac771159915",
       "version_major": 2,
       "version_minor": 0
      },
      "text/plain": [
       "  0%|          | 0/2000 [00:00<?, ?it/s]"
      ]
     },
     "metadata": {},
     "output_type": "display_data"
    },
    {
     "name": "stdout",
     "output_type": "stream",
     "text": [
      "0.29910500402663925 None\n",
      "0.27368899263976276 None\n",
      "0.24846277542909223 None\n",
      "0.2236017813475752 None\n",
      "0.19926235152365204 None\n",
      "0.17544261407803116 None\n",
      "0.15241857164525813 None\n",
      "0.1303194563898509 None\n",
      "0.10912702557512036 None\n",
      "0.08881521453606332 None\n",
      "0.06932885317318432 None\n",
      "0.050516758509368015 None\n",
      "0.032160211429925936 None\n",
      "0.014617717295630252 None\n",
      "0.0005495483461348885 None\n",
      "0.00018727574044901524 None\n",
      "0.00019421344723298192 None\n",
      "0.00018663633432339927 None\n",
      "0.00020130320383687783 None\n",
      "0.00017714866502389903 None\n",
      "tf.Tensor(0.00021106640673652227, shape=(), dtype=float64)\n",
      "0.00020515576144548853 None\n"
     ]
    },
    {
     "data": {
      "application/vnd.jupyter.widget-view+json": {
       "model_id": "33a8f1d9898243ae82a16d8b7b3c0676",
       "version_major": 2,
       "version_minor": 0
      },
      "text/plain": [
       "  0%|          | 0/2000 [00:00<?, ?it/s]"
      ]
     },
     "metadata": {},
     "output_type": "display_data"
    },
    {
     "name": "stdout",
     "output_type": "stream",
     "text": [
      "0.3002367506170626 None\n",
      "0.27479135230572277 None\n",
      "0.249503071726756 None\n",
      "0.22456757020018106 None\n",
      "0.20016397111115522 None\n",
      "0.17644255675447204 None\n",
      "0.15345487817248638 None\n",
      "0.1312764157448781 None\n",
      "0.11001045667155204 None\n",
      "0.08932378942766592 None\n",
      "0.06921116657322726 None\n",
      "0.050154821789231904 None\n",
      "0.03206580472520426 None\n",
      "0.014649195293895377 None\n",
      "0.0012574591676304953 None\n",
      "0.001209545334903743 None\n",
      "0.0011839515721047064 None\n",
      "0.001209498930844391 None\n",
      "0.0011848152838179159 None\n",
      "0.0012130680824098683 None\n",
      "tf.Tensor(0.0011886113004299648, shape=(), dtype=float64)\n",
      "0.0011916146531836397 None\n"
     ]
    },
    {
     "data": {
      "application/vnd.jupyter.widget-view+json": {
       "model_id": "161438e5b1024c0ebcbb09b4e8e7b580",
       "version_major": 2,
       "version_minor": 0
      },
      "text/plain": [
       "  0%|          | 0/2000 [00:00<?, ?it/s]"
      ]
     },
     "metadata": {},
     "output_type": "display_data"
    },
    {
     "name": "stdout",
     "output_type": "stream",
     "text": [
      "0.2981748327252656 None\n",
      "0.2724159293460136 None\n",
      "0.24683042248267142 None\n",
      "0.22161503555174603 None\n",
      "0.19688549201029457 None\n",
      "0.1727807458369932 None\n",
      "0.149498822266835 None\n",
      "0.12713144002710142 None\n",
      "0.10567880725469568 None\n",
      "0.08514426581523571 None\n",
      "0.06555600859437982 None\n",
      "0.046790323134933254 None\n",
      "0.028847464215350487 None\n",
      "0.011911698304926999 None\n",
      "0.001942684027708766 None\n",
      "0.0018793879381987129 None\n",
      "0.001875877757633513 None\n",
      "0.0019125704881447804 None\n",
      "0.001905859626624637 None\n",
      "0.0018798885107132457 None\n",
      "tf.Tensor(0.0018919661176546136, shape=(), dtype=float64)\n",
      "0.001898414297667201 None\n"
     ]
    },
    {
     "data": {
      "application/vnd.jupyter.widget-view+json": {
       "model_id": "2b572861c5cf45399b8105b7156b1b43",
       "version_major": 2,
       "version_minor": 0
      },
      "text/plain": [
       "  0%|          | 0/2000 [00:00<?, ?it/s]"
      ]
     },
     "metadata": {},
     "output_type": "display_data"
    },
    {
     "name": "stdout",
     "output_type": "stream",
     "text": [
      "0.3001143091900464 None\n",
      "0.27460758531606577 None\n",
      "0.2492089364670931 None\n",
      "0.2241200318523772 None\n",
      "0.19954988966413895 None\n",
      "0.17566892375481366 None\n",
      "0.15300378709635284 None\n",
      "0.1305305541190318 None\n",
      "0.10902558236771273 None\n",
      "0.08846035706044242 None\n",
      "0.0687914408127317 None\n",
      "0.05007446799157328 None\n",
      "0.03229192674009271 None\n",
      "0.015262325606200885 None\n",
      "0.000825210605417008 None\n",
      "0.0005694953708076898 None\n",
      "0.0005248930523275089 None\n",
      "0.0005599734114033091 None\n",
      "0.0005385028490125926 None\n",
      "0.000533325941768463 None\n",
      "tf.Tensor(0.0005437896863934033, shape=(), dtype=float64)\n",
      "0.000533375591341697 None\n",
      "Done!\n"
     ]
    },
    {
     "data": {
      "application/vnd.jupyter.widget-view+json": {
       "model_id": "0120dc678cee496a8a3423b0ef84927f",
       "version_major": 2,
       "version_minor": 0
      },
      "text/plain": [
       "  0%|          | 0/2000 [00:00<?, ?it/s]"
      ]
     },
     "metadata": {},
     "output_type": "display_data"
    },
    {
     "name": "stdout",
     "output_type": "stream",
     "text": [
      "0.29478855430822 None\n",
      "0.2690670012641831 None\n",
      "0.2434300931964641 None\n",
      "0.21809666071633832 None\n",
      "0.1932488318695359 None\n",
      "0.1689851256220421 None\n",
      "0.14531081321656367 None\n",
      "0.1219694741677238 None\n",
      "0.09911694814300206 None\n",
      "0.07687311960658273 None\n",
      "0.05512986538747045 None\n",
      "0.0345894650800019 None\n",
      "0.01586697865340557 None\n",
      "0.005553023878257724 None\n",
      "0.0022482776509383413 None\n",
      "0.002251834367301992 None\n",
      "0.0022602671846924625 None\n",
      "0.0022818996646377966 None\n",
      "0.002242955589186201 None\n",
      "0.0022489297195578996 None\n",
      "tf.Tensor(0.0022595472413307026, shape=(), dtype=float64)\n",
      "0.0022721192204762826 None\n"
     ]
    },
    {
     "data": {
      "application/vnd.jupyter.widget-view+json": {
       "model_id": "9a7b8c053a3f480897b24bb81eb61d3b",
       "version_major": 2,
       "version_minor": 0
      },
      "text/plain": [
       "  0%|          | 0/2000 [00:00<?, ?it/s]"
      ]
     },
     "metadata": {},
     "output_type": "display_data"
    },
    {
     "name": "stdout",
     "output_type": "stream",
     "text": [
      "0.2920224149879958 None\n",
      "0.26635784032886 None\n",
      "0.2409002360558682 None\n",
      "0.21583798155447567 None\n",
      "0.19131837479169178 None\n",
      "0.16741196697181573 None\n",
      "0.14412505222907437 None\n",
      "0.12164474868344873 None\n",
      "0.10016428211627024 None\n",
      "0.07936987839262555 None\n",
      "0.06025936831473684 None\n",
      "0.042640167984082086 None\n",
      "0.025954239778173818 None\n",
      "0.00937852064668233 None\n",
      "0.0030139595146120995 None\n",
      "0.003034196251420398 None\n",
      "0.0030154574436311934 None\n",
      "0.003005723267308469 None\n",
      "0.0030063474245109224 None\n",
      "0.0030305399168734717 None\n",
      "tf.Tensor(0.0030178175099913156, shape=(), dtype=float64)\n",
      "0.0030235595950661963 None\n"
     ]
    },
    {
     "data": {
      "application/vnd.jupyter.widget-view+json": {
       "model_id": "6ca99b98560b4d98a77537d3ba34e68d",
       "version_major": 2,
       "version_minor": 0
      },
      "text/plain": [
       "  0%|          | 0/2000 [00:00<?, ?it/s]"
      ]
     },
     "metadata": {},
     "output_type": "display_data"
    },
    {
     "name": "stdout",
     "output_type": "stream",
     "text": [
      "0.28978124309351927 None\n",
      "0.26383085915708354 None\n",
      "0.23807319685048964 None\n",
      "0.21271207564054448 None\n",
      "0.18727783965442465 None\n",
      "0.16296756687258473 None\n",
      "0.13951443262855973 None\n",
      "0.11692843571912058 None\n",
      "0.09490256807414103 None\n",
      "0.07338588491810641 None\n",
      "0.05297692099379259 None\n",
      "0.033554718523924776 None\n",
      "0.014803974788988546 None\n",
      "0.00042590525892797007 None\n",
      "0.00030366638508386515 None\n",
      "0.00031458824917774894 None\n",
      "0.0003156811484324104 None\n",
      "0.0003090783782604238 None\n",
      "0.00029998273882660825 None\n",
      "0.00031167235688083633 None\n",
      "tf.Tensor(0.00033004703487226825, shape=(), dtype=float64)\n",
      "0.0003506211291486594 None\n"
     ]
    },
    {
     "data": {
      "application/vnd.jupyter.widget-view+json": {
       "model_id": "798708570a53466db368a554dcdf767e",
       "version_major": 2,
       "version_minor": 0
      },
      "text/plain": [
       "  0%|          | 0/2000 [00:00<?, ?it/s]"
      ]
     },
     "metadata": {},
     "output_type": "display_data"
    },
    {
     "name": "stdout",
     "output_type": "stream",
     "text": [
      "0.2950272091579159 None\n",
      "0.269013652396698 None\n",
      "0.24313226605824684 None\n",
      "0.21750092058080017 None\n",
      "0.19217259581713753 None\n",
      "0.16757416644055176 None\n",
      "0.14364940010960134 None\n",
      "0.1204468946885942 None\n",
      "0.09801321833150597 None\n",
      "0.07638761946757548 None\n",
      "0.055562940650128984 None\n",
      "0.03557435856983565 None\n",
      "0.016956506954071696 None\n",
      "0.0005609989630996695 None\n",
      "0.00012426870233661277 None\n",
      "8.596646114315126e-05 None\n",
      "8.97971428134546e-05 None\n",
      "8.562533021962138e-05 None\n",
      "0.00010072772003066541 None\n",
      "8.398271545343935e-05 None\n",
      "tf.Tensor(9.2426441507195e-05, shape=(), dtype=float64)\n",
      "8.492375668932989e-05 None\n"
     ]
    },
    {
     "data": {
      "application/vnd.jupyter.widget-view+json": {
       "model_id": "a765e5db491642d2a268ba469fb23b0c",
       "version_major": 2,
       "version_minor": 0
      },
      "text/plain": [
       "  0%|          | 0/2000 [00:00<?, ?it/s]"
      ]
     },
     "metadata": {},
     "output_type": "display_data"
    },
    {
     "name": "stdout",
     "output_type": "stream",
     "text": [
      "0.29521391489352755 None\n",
      "0.26981442200207234 None\n",
      "0.2446118195073076 None\n",
      "0.2198011621335433 None\n",
      "0.19554027324480086 None\n",
      "0.1719196264619232 None\n",
      "0.14893462640671984 None\n",
      "0.1266651303130819 None\n",
      "0.10522603534390035 None\n",
      "0.08454187287615841 None\n",
      "0.06473349734748358 None\n",
      "0.046189140565748465 None\n",
      "0.028993963490732577 None\n",
      "0.013251291850065305 None\n",
      "0.007778296191552517 None\n",
      "0.007780369315698889 None\n",
      "0.007780094596935381 None\n",
      "0.0077754752442927184 None\n",
      "0.007785805027383498 None\n",
      "0.007802804697295596 None\n",
      "tf.Tensor(0.007768501135140816, shape=(), dtype=float64)\n",
      "0.0077687258343668505 None\n"
     ]
    },
    {
     "data": {
      "application/vnd.jupyter.widget-view+json": {
       "model_id": "3919beeabc6b44b59b68f20788a39dba",
       "version_major": 2,
       "version_minor": 0
      },
      "text/plain": [
       "  0%|          | 0/2000 [00:00<?, ?it/s]"
      ]
     },
     "metadata": {},
     "output_type": "display_data"
    },
    {
     "name": "stdout",
     "output_type": "stream",
     "text": [
      "0.2950175839542504 None\n",
      "0.269561194324521 None\n",
      "0.2442455943134999 None\n",
      "0.21924043928289133 None\n",
      "0.19467492285603225 None\n",
      "0.17053090868477921 None\n",
      "0.14690189883326393 None\n",
      "0.12429585636726617 None\n",
      "0.10282216924370621 None\n",
      "0.08046229793693531 None\n",
      "0.060363810353420866 None\n",
      "0.04143079361208718 None\n",
      "0.02340523704428906 None\n",
      "0.006421709133433654 None\n",
      "0.006173717697111381 None\n",
      "0.006153038900127809 None\n",
      "0.006178867792862086 None\n",
      "0.006163810833736388 None\n",
      "0.006189765073204442 None\n",
      "0.006171483242077794 None\n",
      "tf.Tensor(0.006193577911114887, shape=(), dtype=float64)\n",
      "0.006199756471076047 None\n"
     ]
    },
    {
     "data": {
      "application/vnd.jupyter.widget-view+json": {
       "model_id": "10f1154c2643499386ba5731a565877a",
       "version_major": 2,
       "version_minor": 0
      },
      "text/plain": [
       "  0%|          | 0/2000 [00:00<?, ?it/s]"
      ]
     },
     "metadata": {},
     "output_type": "display_data"
    },
    {
     "name": "stdout",
     "output_type": "stream",
     "text": [
      "0.29514671006566756 None\n",
      "0.2695959907980574 None\n",
      "0.24418447789000458 None\n",
      "0.21880723364905752 None\n",
      "0.19421928343284536 None\n",
      "0.17023159085452308 None\n",
      "0.14690023926360363 None\n",
      "0.12432207475014456 None\n",
      "0.10275832998957612 None\n",
      "0.08235597868316089 None\n",
      "0.06312201533607244 None\n",
      "0.044984687372726484 None\n",
      "0.027719898614213683 None\n",
      "0.010426417718687794 None\n",
      "0.005475668349569789 None\n",
      "0.005469067487869687 None\n",
      "0.0054579172134320945 None\n",
      "0.005461899260176022 None\n",
      "0.005455315116514238 None\n",
      "0.005471536806875097 None\n",
      "tf.Tensor(0.005456257948703726, shape=(), dtype=float64)\n",
      "0.005475755276878807 None\n"
     ]
    },
    {
     "data": {
      "application/vnd.jupyter.widget-view+json": {
       "model_id": "81612886bc81415bb67a19731b3b9e49",
       "version_major": 2,
       "version_minor": 0
      },
      "text/plain": [
       "  0%|          | 0/2000 [00:00<?, ?it/s]"
      ]
     },
     "metadata": {},
     "output_type": "display_data"
    },
    {
     "name": "stdout",
     "output_type": "stream",
     "text": [
      "0.2950896826410506 None\n",
      "0.2693625050609306 None\n",
      "0.24375212043778108 None\n",
      "0.21835163704161167 None\n",
      "0.19318102761239425 None\n",
      "0.16847319692870766 None\n",
      "0.14457258507291232 None\n",
      "0.12167742705908058 None\n",
      "0.0998739685387029 None\n",
      "0.07914831581246906 None\n",
      "0.0594553610110376 None\n",
      "0.04093659696643305 None\n",
      "0.023523596401630553 None\n",
      "0.007251251968380459 None\n",
      "0.003938740570073346 None\n",
      "0.003930285622637517 None\n",
      "0.0039275323116897826 None\n",
      "0.003923313897248974 None\n",
      "0.00394064028659151 None\n",
      "0.003921175265395833 None\n",
      "tf.Tensor(0.0039366041097169055, shape=(), dtype=float64)\n",
      "0.003927744147731654 None\n",
      "Done!\n"
     ]
    },
    {
     "data": {
      "application/vnd.jupyter.widget-view+json": {
       "model_id": "8a6ece25a4394ec2ac7864da81ae8b21",
       "version_major": 2,
       "version_minor": 0
      },
      "text/plain": [
       "  0%|          | 0/2000 [00:00<?, ?it/s]"
      ]
     },
     "metadata": {},
     "output_type": "display_data"
    },
    {
     "name": "stdout",
     "output_type": "stream",
     "text": [
      "0.2832751854183232 None\n",
      "0.25748063360869156 None\n",
      "0.23183366638174885 None\n",
      "0.20635774003128193 None\n",
      "0.18150189244022813 None\n",
      "0.15696088884791484 None\n",
      "0.13302172390129519 None\n",
      "0.10987605872005601 None\n",
      "0.08683042763528688 None\n",
      "0.06556643599573807 None\n",
      "0.04562654066059749 None\n",
      "0.03328199244928433 None\n",
      "0.021900754974442185 None\n",
      "0.011355929594830318 None\n",
      "0.006167214082382348 None\n",
      "0.006155359923140757 None\n",
      "0.006168276229012719 None\n",
      "0.0061595847226355305 None\n",
      "0.006156169120572728 None\n",
      "0.00615935288037265 None\n",
      "tf.Tensor(0.006209261654167929, shape=(), dtype=float64)\n",
      "0.0062120317519965135 None\n"
     ]
    },
    {
     "data": {
      "application/vnd.jupyter.widget-view+json": {
       "model_id": "6e46169c9e0b4ceebadbcb32ee363ba4",
       "version_major": 2,
       "version_minor": 0
      },
      "text/plain": [
       "  0%|          | 0/2000 [00:00<?, ?it/s]"
      ]
     },
     "metadata": {},
     "output_type": "display_data"
    },
    {
     "name": "stdout",
     "output_type": "stream",
     "text": [
      "0.2811927850520516 None\n",
      "0.25526250933836486 None\n",
      "0.22943537527300154 None\n",
      "0.20388270846359285 None\n",
      "0.17875378412065945 None\n",
      "0.15421131617269096 None\n",
      "0.13026394619294715 None\n",
      "0.10685547539126221 None\n",
      "0.08436150396668612 None\n",
      "0.06293140204287746 None\n",
      "0.04237600730157909 None\n",
      "0.02190802189401392 None\n",
      "0.010037848394557531 None\n",
      "0.0031687681367872367 None\n",
      "0.0031170078822839314 None\n",
      "0.00312692310661717 None\n",
      "0.003121931844560992 None\n",
      "0.0031252636946371565 None\n",
      "0.0031221871139528352 None\n",
      "0.003137095960695207 None\n",
      "tf.Tensor(0.0031100954920287374, shape=(), dtype=float64)\n",
      "0.003124300705721946 None\n"
     ]
    },
    {
     "data": {
      "application/vnd.jupyter.widget-view+json": {
       "model_id": "2689f297bbce48ab800114c0ed628d59",
       "version_major": 2,
       "version_minor": 0
      },
      "text/plain": [
       "  0%|          | 0/2000 [00:00<?, ?it/s]"
      ]
     },
     "metadata": {},
     "output_type": "display_data"
    },
    {
     "name": "stdout",
     "output_type": "stream",
     "text": [
      "0.2856871258234801 None\n",
      "0.2598200538318456 None\n",
      "0.23368363455439867 None\n",
      "0.2083775534865106 None\n",
      "0.1833853798684639 None\n",
      "0.15915140033176697 None\n",
      "0.13577914135186678 None\n",
      "0.11337461558320316 None\n",
      "0.0919708038530559 None\n",
      "0.07155379928602033 None\n",
      "0.052087465020937855 None\n",
      "0.03358720373098466 None\n",
      "0.018144264733176724 None\n",
      "0.0010480472412317046 None\n",
      "0.0006736240312982117 None\n",
      "0.0006847654845913813 None\n",
      "0.0006899339981184527 None\n",
      "0.0006874836045457008 None\n",
      "0.0006843264897783592 None\n",
      "0.0006816792509265306 None\n",
      "tf.Tensor(0.0006962776359991651, shape=(), dtype=float64)\n",
      "0.0006850256730521406 None\n"
     ]
    },
    {
     "data": {
      "application/vnd.jupyter.widget-view+json": {
       "model_id": "af4af56318234b5384103973859eaa4a",
       "version_major": 2,
       "version_minor": 0
      },
      "text/plain": [
       "  0%|          | 0/2000 [00:00<?, ?it/s]"
      ]
     },
     "metadata": {},
     "output_type": "display_data"
    },
    {
     "name": "stdout",
     "output_type": "stream",
     "text": [
      "0.2851563329035999 None\n",
      "0.25945174332266246 None\n",
      "0.23394557207540403 None\n",
      "0.2087699860883084 None\n",
      "0.18402191326229875 None\n",
      "0.15960137463454027 None\n",
      "0.1358356590347406 None\n",
      "0.11300827313512332 None\n",
      "0.0911668422269136 None\n",
      "0.07003856805455644 None\n",
      "0.04998491094002354 None\n",
      "0.030899369648470867 None\n",
      "0.012659811312692601 None\n",
      "0.0007407162651002289 None\n",
      "0.0006312757973660765 None\n",
      "0.0006273110587465894 None\n",
      "0.0006327633954419654 None\n",
      "0.000636217473645808 None\n",
      "0.0006373395405011965 None\n",
      "0.0006404832599481471 None\n",
      "tf.Tensor(0.0006336399615780551, shape=(), dtype=float64)\n",
      "0.0006340944541805664 None\n"
     ]
    },
    {
     "data": {
      "application/vnd.jupyter.widget-view+json": {
       "model_id": "e7551204a9964d2ea391cf2f200e72e8",
       "version_major": 2,
       "version_minor": 0
      },
      "text/plain": [
       "  0%|          | 0/2000 [00:00<?, ?it/s]"
      ]
     },
     "metadata": {},
     "output_type": "display_data"
    },
    {
     "name": "stdout",
     "output_type": "stream",
     "text": [
      "0.28505509602921353 None\n",
      "0.25952917581192175 None\n",
      "0.23416369095507464 None\n",
      "0.20909810696286057 None\n",
      "0.18448964599515777 None\n",
      "0.1604420693699881 None\n",
      "0.13715048169166658 None\n",
      "0.11473707821766582 None\n",
      "0.09329947612503607 None\n",
      "0.07286416068848522 None\n",
      "0.05344835139097426 None\n",
      "0.03506707969048921 None\n",
      "0.017817335717142987 None\n",
      "0.0015831438561668722 None\n",
      "0.00046221539050225746 None\n",
      "0.00044357686278153827 None\n",
      "0.00044166302388745984 None\n",
      "0.00044552014187064504 None\n",
      "0.00043801330246909936 None\n",
      "0.00047059109331562196 None\n",
      "tf.Tensor(0.00045781115055526164, shape=(), dtype=float64)\n",
      "0.00044282070131927004 None\n"
     ]
    },
    {
     "data": {
      "application/vnd.jupyter.widget-view+json": {
       "model_id": "76d2cc795514407faef4497efee06cd6",
       "version_major": 2,
       "version_minor": 0
      },
      "text/plain": [
       "  0%|          | 0/2000 [00:00<?, ?it/s]"
      ]
     },
     "metadata": {},
     "output_type": "display_data"
    },
    {
     "name": "stdout",
     "output_type": "stream",
     "text": [
      "0.2852857207750929 None\n",
      "0.2597967213796353 None\n",
      "0.23445923581126263 None\n",
      "0.20944967184038987 None\n",
      "0.18494195878088382 None\n",
      "0.1616613407634692 None\n",
      "0.13835181913467462 None\n",
      "0.11583184555575807 None\n",
      "0.09510250879208239 None\n",
      "0.07445736894761733 None\n",
      "0.05483826808156804 None\n",
      "0.03631493224429675 None\n",
      "0.01896458053283308 None\n",
      "0.004169537701208495 None\n",
      "0.0037562812660959406 None\n",
      "0.00376335603746146 None\n",
      "0.0037571831350632252 None\n",
      "0.0037497262958642065 None\n",
      "0.0037595399731515967 None\n",
      "0.0037469065113828123 None\n",
      "tf.Tensor(0.0037603356840678337, shape=(), dtype=float64)\n",
      "0.0037444565779862736 None\n"
     ]
    },
    {
     "data": {
      "application/vnd.jupyter.widget-view+json": {
       "model_id": "ad6757b28fb1481babda1a24e6dd5d2e",
       "version_major": 2,
       "version_minor": 0
      },
      "text/plain": [
       "  0%|          | 0/2000 [00:00<?, ?it/s]"
      ]
     },
     "metadata": {},
     "output_type": "display_data"
    },
    {
     "name": "stdout",
     "output_type": "stream",
     "text": [
      "0.2873972363854752 None\n",
      "0.2616762369591307 None\n",
      "0.23603560206177387 None\n",
      "0.21071737967571136 None\n",
      "0.18588550497328474 None\n",
      "0.16177237548439952 None\n",
      "0.13849011867738495 None\n",
      "0.11603130216979636 None\n",
      "0.09463886735542854 None\n",
      "0.0742071422975485 None\n",
      "0.05468424042485105 None\n",
      "0.03595864308112991 None\n",
      "0.01774374484682744 None\n",
      "0.004868333427621985 None\n",
      "0.004815392930053487 None\n",
      "0.0048233633292737756 None\n",
      "0.004831090284878988 None\n",
      "0.00485809718037539 None\n",
      "0.00483729946669598 None\n",
      "0.004807937571952078 None\n",
      "tf.Tensor(0.004818357477266805, shape=(), dtype=float64)\n",
      "0.0048164844961485 None\n"
     ]
    },
    {
     "data": {
      "application/vnd.jupyter.widget-view+json": {
       "model_id": "3d523e1377e54c71a25230cecd2ae83b",
       "version_major": 2,
       "version_minor": 0
      },
      "text/plain": [
       "  0%|          | 0/2000 [00:00<?, ?it/s]"
      ]
     },
     "metadata": {},
     "output_type": "display_data"
    },
    {
     "name": "stdout",
     "output_type": "stream",
     "text": [
      "0.2856231823148989 None\n",
      "0.26011099713707064 None\n",
      "0.2347917374082332 None\n",
      "0.2098421274598829 None\n",
      "0.18537258965096073 None\n",
      "0.16153075876979128 None\n",
      "0.13845139319870517 None\n",
      "0.11561048163818657 None\n",
      "0.09380358337299737 None\n",
      "0.07254935810150309 None\n",
      "0.05194353883266731 None\n",
      "0.0324166429494602 None\n",
      "0.014171854478551016 None\n",
      "0.003788750919633606 None\n",
      "0.0037611820472710014 None\n",
      "0.0037767993752000732 None\n",
      "0.003781191988995812 None\n",
      "0.0037886604343018576 None\n",
      "0.0037889769975030484 None\n",
      "0.003786178397328612 None\n",
      "tf.Tensor(0.003784851907178203, shape=(), dtype=float64)\n",
      "0.0037832705430964862 None\n"
     ]
    },
    {
     "data": {
      "application/vnd.jupyter.widget-view+json": {
       "model_id": "39af256d7834432fa6dd2b59e6dc2b68",
       "version_major": 2,
       "version_minor": 0
      },
      "text/plain": [
       "  0%|          | 0/2000 [00:00<?, ?it/s]"
      ]
     },
     "metadata": {},
     "output_type": "display_data"
    },
    {
     "name": "stdout",
     "output_type": "stream",
     "text": [
      "0.2844138621035972 None\n",
      "0.2588762190053083 None\n",
      "0.2334020330739803 None\n",
      "0.20830937992587903 None\n",
      "0.18375740090024803 None\n",
      "0.1597119893387112 None\n",
      "0.13625486059841982 None\n",
      "0.11396213782076185 None\n",
      "0.09266453574883379 None\n",
      "0.07235646942222293 None\n",
      "0.053114478378094646 None\n",
      "0.03496575522119516 None\n",
      "0.018349255631014274 None\n",
      "0.005260820710727709 None\n",
      "0.005219979130749296 None\n",
      "0.005196625983385338 None\n",
      "0.005194065138668224 None\n",
      "0.0052243360397497204 None\n",
      "0.00519429162256577 None\n",
      "0.005209081962727 None\n",
      "tf.Tensor(0.005214234289342624, shape=(), dtype=float64)\n",
      "0.005191942677766029 None\n"
     ]
    },
    {
     "data": {
      "application/vnd.jupyter.widget-view+json": {
       "model_id": "e1cc484cfd4d4bb0a11c5c9229f97ac6",
       "version_major": 2,
       "version_minor": 0
      },
      "text/plain": [
       "  0%|          | 0/2000 [00:00<?, ?it/s]"
      ]
     },
     "metadata": {},
     "output_type": "display_data"
    },
    {
     "name": "stdout",
     "output_type": "stream",
     "text": [
      "0.28510089384495996 None\n",
      "0.25966107663809124 None\n",
      "0.23441849448426222 None\n",
      "0.20955910531162686 None\n",
      "0.1852277006337407 None\n",
      "0.16149480001386485 None\n",
      "0.13791895562356227 None\n",
      "0.11538418682725408 None\n",
      "0.09362698947824985 None\n",
      "0.07229187211476983 None\n",
      "0.051897336576724906 None\n",
      "0.03203497750456304 None\n",
      "0.011651338743140366 None\n",
      "0.005162646965338864 None\n",
      "0.005157516778789541 None\n",
      "0.005170384822649948 None\n",
      "0.0051708541477864835 None\n",
      "0.005155984500266459 None\n",
      "0.0051663045281632215 None\n",
      "0.005175299063805025 None\n",
      "tf.Tensor(0.005161439634627136, shape=(), dtype=float64)\n",
      "0.005159911222221161 None\n",
      "Done!\n"
     ]
    },
    {
     "data": {
      "application/vnd.jupyter.widget-view+json": {
       "model_id": "56a10a1124d04b0a9cf261d8126c614c",
       "version_major": 2,
       "version_minor": 0
      },
      "text/plain": [
       "  0%|          | 0/2000 [00:00<?, ?it/s]"
      ]
     },
     "metadata": {},
     "output_type": "display_data"
    },
    {
     "name": "stdout",
     "output_type": "stream",
     "text": [
      "0.29893592813798087 None\n",
      "0.27308959276383565 None\n",
      "0.2473577481979098 None\n",
      "0.22171395467927513 None\n",
      "0.19659149250070956 None\n",
      "0.1720626074158584 None\n",
      "0.1482814900115988 None\n",
      "0.12537788853963236 None\n",
      "0.10503107489303579 None\n",
      "0.08438750763422592 None\n",
      "0.06627046330633664 None\n",
      "0.05322962817932315 None\n",
      "0.040944939588054646 None\n",
      "0.029551696626460518 None\n",
      "0.018866408762486925 None\n",
      "0.00989825729047827 None\n",
      "0.007856549471283024 None\n",
      "0.007867836088943668 None\n",
      "0.007853372579286387 None\n",
      "0.007859097191592262 None\n",
      "tf.Tensor(0.007850973208520722, shape=(), dtype=float64)\n",
      "0.007853128584747519 None\n"
     ]
    },
    {
     "data": {
      "application/vnd.jupyter.widget-view+json": {
       "model_id": "4315689ac0f24116abf038e930b3e90e",
       "version_major": 2,
       "version_minor": 0
      },
      "text/plain": [
       "  0%|          | 0/2000 [00:00<?, ?it/s]"
      ]
     },
     "metadata": {},
     "output_type": "display_data"
    },
    {
     "name": "stdout",
     "output_type": "stream",
     "text": [
      "0.2971667449739914 None\n",
      "0.2712782620954347 None\n",
      "0.245441287479927 None\n",
      "0.2197367535616801 None\n",
      "0.194408028011479 None\n",
      "0.1697483319889877 None\n",
      "0.14592182603383788 None\n",
      "0.12298040604406422 None\n",
      "0.1009583327055459 None\n",
      "0.07983958713842998 None\n",
      "0.059225504980663306 None\n",
      "0.039316850318269154 None\n",
      "0.027815297289777594 None\n",
      "0.018522888780455667 None\n",
      "0.010393325820878173 None\n",
      "0.007605164125995368 None\n",
      "0.007605960559465965 None\n",
      "0.007602838775156152 None\n",
      "0.0076159640050589734 None\n",
      "0.007635668457575521 None\n",
      "tf.Tensor(0.007623154279667664, shape=(), dtype=float64)\n",
      "0.0076081590451317 None\n"
     ]
    },
    {
     "data": {
      "application/vnd.jupyter.widget-view+json": {
       "model_id": "6cca0af67f78467f853c80e002f42981",
       "version_major": 2,
       "version_minor": 0
      },
      "text/plain": [
       "  0%|          | 0/2000 [00:00<?, ?it/s]"
      ]
     },
     "metadata": {},
     "output_type": "display_data"
    },
    {
     "name": "stdout",
     "output_type": "stream",
     "text": [
      "0.2928841773515612 None\n",
      "0.2668840648427403 None\n",
      "0.24118502776508702 None\n",
      "0.21561882091759257 None\n",
      "0.19044932786826746 None\n",
      "0.165715651930142 None\n",
      "0.14158551634836533 None\n",
      "0.12322957089026595 None\n",
      "0.10621808072983183 None\n",
      "0.09001663770829756 None\n",
      "0.07554154750572376 None\n",
      "0.06073981361253497 None\n",
      "0.0476329710574851 None\n",
      "0.03578013260629931 None\n",
      "0.025847363290386918 None\n",
      "0.016850824523149895 None\n",
      "0.016220704518306903 None\n",
      "0.016214901022066425 None\n",
      "0.016213524393461336 None\n",
      "0.016192405468966466 None\n",
      "tf.Tensor(0.01619945525271717, shape=(), dtype=float64)\n",
      "0.016193400385808406 None\n"
     ]
    },
    {
     "data": {
      "application/vnd.jupyter.widget-view+json": {
       "model_id": "0d40c98d285b4957b9ecafac0ac93de5",
       "version_major": 2,
       "version_minor": 0
      },
      "text/plain": [
       "  0%|          | 0/2000 [00:00<?, ?it/s]"
      ]
     },
     "metadata": {},
     "output_type": "display_data"
    },
    {
     "name": "stdout",
     "output_type": "stream",
     "text": [
      "0.3010906024337556 None\n",
      "0.27530608381572136 None\n",
      "0.249705972524439 None\n",
      "0.2245256747239791 None\n",
      "0.20001917188908044 None\n",
      "0.17627789418471895 None\n",
      "0.15326957371156896 None\n",
      "0.13115764992308426 None\n",
      "0.11226770827541711 None\n",
      "0.08811633694200571 None\n",
      "0.06727360642657455 None\n",
      "0.046313660702672795 None\n",
      "0.034275444890328306 None\n",
      "0.024722714653950293 None\n",
      "0.015584717072879908 None\n",
      "0.008156722377703714 None\n",
      "0.008148621513603745 None\n",
      "0.008142141123491924 None\n",
      "0.00814277126566523 None\n",
      "0.008154077907312273 None\n",
      "tf.Tensor(0.00813912621077334, shape=(), dtype=float64)\n",
      "0.008156587516085532 None\n"
     ]
    },
    {
     "data": {
      "application/vnd.jupyter.widget-view+json": {
       "model_id": "7b23014dd392493e8bff4976320eedff",
       "version_major": 2,
       "version_minor": 0
      },
      "text/plain": [
       "  0%|          | 0/2000 [00:00<?, ?it/s]"
      ]
     },
     "metadata": {},
     "output_type": "display_data"
    },
    {
     "name": "stdout",
     "output_type": "stream",
     "text": [
      "0.3010086288346399 None\n",
      "0.27549407572578083 None\n",
      "0.2501301691555883 None\n",
      "0.22513950146786432 None\n",
      "0.2006774136693818 None\n",
      "0.17681341581671445 None\n",
      "0.15346993227505945 None\n",
      "0.13070999292276916 None\n",
      "0.10896481312950904 None\n",
      "0.08827027095732214 None\n",
      "0.06852912484131495 None\n",
      "0.04921106159185467 None\n",
      "0.032536811251578715 None\n",
      "0.021951108518070382 None\n",
      "0.012270401881780402 None\n",
      "0.005010754136224264 None\n",
      "0.004872774692389191 None\n",
      "0.004900924322072283 None\n",
      "0.0048768036546972295 None\n",
      "0.004867524383928366 None\n",
      "tf.Tensor(0.004913838161885925, shape=(), dtype=float64)\n",
      "0.004909767687195265 None\n"
     ]
    },
    {
     "data": {
      "application/vnd.jupyter.widget-view+json": {
       "model_id": "d644633fc65b45ab97cf4c5f18a39803",
       "version_major": 2,
       "version_minor": 0
      },
      "text/plain": [
       "  0%|          | 0/2000 [00:00<?, ?it/s]"
      ]
     },
     "metadata": {},
     "output_type": "display_data"
    },
    {
     "name": "stdout",
     "output_type": "stream",
     "text": [
      "0.29900904463558914 None\n",
      "0.2732972604723123 None\n",
      "0.2477759889389479 None\n",
      "0.22262065623942567 None\n",
      "0.19800112230019049 None\n",
      "0.1740660801791713 None\n",
      "0.15089252778016315 None\n",
      "0.129340799579964 None\n",
      "0.10819789797553808 None\n",
      "0.08794079066293092 None\n",
      "0.06839944042005978 None\n",
      "0.04994106162828825 None\n",
      "0.03767697273592331 None\n",
      "0.027092366098244728 None\n",
      "0.01772628886588219 None\n",
      "0.009198176852671935 None\n",
      "0.007947133155054086 None\n",
      "0.00795971605864201 None\n",
      "0.007938933804520158 None\n",
      "0.007936522235812721 None\n",
      "tf.Tensor(0.007937394644886301, shape=(), dtype=float64)\n",
      "0.00793649144117171 None\n"
     ]
    },
    {
     "data": {
      "application/vnd.jupyter.widget-view+json": {
       "model_id": "15ebf07aa05448d3ab8cf2d542078f4a",
       "version_major": 2,
       "version_minor": 0
      },
      "text/plain": [
       "  0%|          | 0/2000 [00:00<?, ?it/s]"
      ]
     },
     "metadata": {},
     "output_type": "display_data"
    },
    {
     "name": "stdout",
     "output_type": "stream",
     "text": [
      "0.2974681488548186 None\n",
      "0.2717539927479072 None\n",
      "0.2462222256294977 None\n",
      "0.22108903709405053 None\n",
      "0.19654332729976415 None\n",
      "0.17272943615889455 None\n",
      "0.14974255926438662 None\n",
      "0.1274661540392582 None\n",
      "0.10612942157289657 None\n",
      "0.08581475942295952 None\n",
      "0.06678248402189998 None\n",
      "0.048393755203275914 None\n",
      "0.03562455336923046 None\n",
      "0.02395799745771369 None\n",
      "0.01318613796571404 None\n",
      "0.005102503523437066 None\n",
      "0.004971240134897491 None\n",
      "0.004987234919173189 None\n",
      "0.004979603990622673 None\n",
      "0.004982753393600721 None\n",
      "tf.Tensor(0.004985991483595253, shape=(), dtype=float64)\n",
      "0.004995236015513993 None\n"
     ]
    },
    {
     "data": {
      "application/vnd.jupyter.widget-view+json": {
       "model_id": "104d08c948314338b2babe6a9cdde93c",
       "version_major": 2,
       "version_minor": 0
      },
      "text/plain": [
       "  0%|          | 0/2000 [00:00<?, ?it/s]"
      ]
     },
     "metadata": {},
     "output_type": "display_data"
    },
    {
     "name": "stdout",
     "output_type": "stream",
     "text": [
      "0.2979889635311 None\n",
      "0.27228659678701606 None\n",
      "0.2467338565031301 None\n",
      "0.22154671416373617 None\n",
      "0.1969289033819797 None\n",
      "0.173034734386401 None\n",
      "0.14996579136461088 None\n",
      "0.12774944461797558 None\n",
      "0.10617363972808914 None\n",
      "0.08508498868170232 None\n",
      "0.06421647998949034 None\n",
      "0.04569560606780915 None\n",
      "0.030490250434082475 None\n",
      "0.019337795024543226 None\n",
      "0.009029843026196718 None\n",
      "0.004298953811452476 None\n",
      "0.004292397956695743 None\n",
      "0.004277794255192584 None\n",
      "0.004296468869446339 None\n",
      "0.004275815921056025 None\n",
      "tf.Tensor(0.004282712402175443, shape=(), dtype=float64)\n",
      "0.004291850074584217 None\n"
     ]
    },
    {
     "data": {
      "application/vnd.jupyter.widget-view+json": {
       "model_id": "c1dc7ea5e09f46be816a84797e4ebeef",
       "version_major": 2,
       "version_minor": 0
      },
      "text/plain": [
       "  0%|          | 0/2000 [00:00<?, ?it/s]"
      ]
     },
     "metadata": {},
     "output_type": "display_data"
    },
    {
     "name": "stdout",
     "output_type": "stream",
     "text": [
      "0.30142057197088384 None\n",
      "0.27567641065469994 None\n",
      "0.2500497127020901 None\n",
      "0.2247377070764351 None\n",
      "0.1996333912761996 None\n",
      "0.17528482977072654 None\n",
      "0.15166198917766124 None\n",
      "0.12860571955536712 None\n",
      "0.10652829963099397 None\n",
      "0.08551541801907017 None\n",
      "0.06551611475558504 None\n",
      "0.04616094080408467 None\n",
      "0.029131289906356946 None\n",
      "0.01870018649571682 None\n",
      "0.008983047049086753 None\n",
      "0.005041146565254905 None\n",
      "0.00503697920994528 None\n",
      "0.0050500590706236866 None\n",
      "0.00506358747623083 None\n",
      "0.0050452939895697275 None\n",
      "tf.Tensor(0.005047083463558512, shape=(), dtype=float64)\n",
      "0.0050441675360177254 None\n",
      "Done!\n"
     ]
    },
    {
     "data": {
      "application/vnd.jupyter.widget-view+json": {
       "model_id": "6300de7b64794b15b4b90b6dc071a499",
       "version_major": 2,
       "version_minor": 0
      },
      "text/plain": [
       "  0%|          | 0/2000 [00:00<?, ?it/s]"
      ]
     },
     "metadata": {},
     "output_type": "display_data"
    },
    {
     "name": "stdout",
     "output_type": "stream",
     "text": [
      "0.27505441887732185 None\n",
      "0.24922370089653 None\n",
      "0.2234437987596939 None\n",
      "0.19798448218187048 None\n",
      "0.17293090154592186 None\n",
      "0.14860598237049188 None\n",
      "0.1252456307001266 None\n",
      "0.10284182161213597 None\n",
      "0.08122676630978765 None\n",
      "0.06163956447825368 None\n",
      "0.04043909331163927 None\n",
      "0.021990475530452688 None\n",
      "0.0036960545777075006 None\n",
      "0.0023518963676384917 None\n",
      "0.0023548280934494008 None\n",
      "0.0023643295132092616 None\n",
      "0.0023711450295241833 None\n",
      "0.0023536389179182847 None\n",
      "0.0023485932199976307 None\n",
      "0.0023635448519324226 None\n",
      "tf.Tensor(0.002350823249182808, shape=(), dtype=float64)\n",
      "0.0023491915231702055 None\n"
     ]
    },
    {
     "data": {
      "application/vnd.jupyter.widget-view+json": {
       "model_id": "41bbf060098d415086839f51904b1fe0",
       "version_major": 2,
       "version_minor": 0
      },
      "text/plain": [
       "  0%|          | 0/2000 [00:00<?, ?it/s]"
      ]
     },
     "metadata": {},
     "output_type": "display_data"
    },
    {
     "name": "stdout",
     "output_type": "stream",
     "text": [
      "0.278787747610936 None\n",
      "0.25344342500438993 None\n",
      "0.22807640795264586 None\n",
      "0.2030302943470607 None\n",
      "0.17835574589901382 None\n",
      "0.1542251492439424 None\n",
      "0.13122709979591196 None\n",
      "0.10847963373321169 None\n",
      "0.08646315887161445 None\n",
      "0.0651874163734871 None\n",
      "0.045313970520186556 None\n",
      "0.026475842205719805 None\n",
      "0.008293582215205486 None\n",
      "0.003025790233780773 None\n",
      "0.0030140022698930437 None\n",
      "0.0030066584760130403 None\n",
      "0.0030383748377514758 None\n",
      "0.0030300085384133875 None\n",
      "0.0030432217590222847 None\n",
      "0.0030400798486895537 None\n",
      "tf.Tensor(0.003009768499311432, shape=(), dtype=float64)\n",
      "0.003008191276767193 None\n"
     ]
    },
    {
     "data": {
      "application/vnd.jupyter.widget-view+json": {
       "model_id": "2ff6c66ff77449e880eca5fdd4d361ab",
       "version_major": 2,
       "version_minor": 0
      },
      "text/plain": [
       "  0%|          | 0/2000 [00:00<?, ?it/s]"
      ]
     },
     "metadata": {},
     "output_type": "display_data"
    },
    {
     "name": "stdout",
     "output_type": "stream",
     "text": [
      "0.27482317502031006 None\n",
      "0.248743102580291 None\n",
      "0.22267774837035403 None\n",
      "0.1973702080310193 None\n",
      "0.17259679906878653 None\n",
      "0.14850766374783606 None\n",
      "0.1252338191341584 None\n",
      "0.10288372740056449 None\n",
      "0.0815325851981865 None\n",
      "0.06121137831700532 None\n",
      "0.0418547978329977 None\n",
      "0.0229663618738313 None\n",
      "0.006691620923488319 None\n",
      "0.006186988944449308 None\n",
      "0.0061842706458196395 None\n",
      "0.0061937888860936 None\n",
      "0.0061863993412245855 None\n",
      "0.006182958839806643 None\n",
      "0.006193173485510527 None\n",
      "0.00619490515613888 None\n",
      "tf.Tensor(0.006190943265296036, shape=(), dtype=float64)\n",
      "0.006202381825585416 None\n"
     ]
    },
    {
     "data": {
      "application/vnd.jupyter.widget-view+json": {
       "model_id": "bdbca61c04f442d29866f2e6fc5a8e0a",
       "version_major": 2,
       "version_minor": 0
      },
      "text/plain": [
       "  0%|          | 0/2000 [00:00<?, ?it/s]"
      ]
     },
     "metadata": {},
     "output_type": "display_data"
    },
    {
     "name": "stdout",
     "output_type": "stream",
     "text": [
      "0.2783242432627723 None\n",
      "0.25281344245888454 None\n",
      "0.22751090131640223 None\n",
      "0.20259190138351707 None\n",
      "0.1781793911021818 None\n",
      "0.15427878579848422 None\n",
      "0.12997635406776673 None\n",
      "0.10638908077052953 None\n",
      "0.08364749866203026 None\n",
      "0.061756083871841345 None\n",
      "0.04067733829640966 None\n",
      "0.020521687579739264 None\n",
      "0.0050580788217970615 None\n",
      "0.005033660670949257 None\n",
      "0.005030859988343506 None\n",
      "0.005043769390402648 None\n",
      "0.005023750714542995 None\n",
      "0.005036427982880436 None\n",
      "0.005028188530581637 None\n",
      "0.005019362713944639 None\n",
      "tf.Tensor(0.005015556511571467, shape=(), dtype=float64)\n",
      "0.005021932776348562 None\n"
     ]
    },
    {
     "data": {
      "application/vnd.jupyter.widget-view+json": {
       "model_id": "9de4fa185ca74bc895cfb0b5e07f2f25",
       "version_major": 2,
       "version_minor": 0
      },
      "text/plain": [
       "  0%|          | 0/2000 [00:00<?, ?it/s]"
      ]
     },
     "metadata": {},
     "output_type": "display_data"
    },
    {
     "name": "stdout",
     "output_type": "stream",
     "text": [
      "0.27627299841396924 None\n",
      "0.25049947804878814 None\n",
      "0.22484527524049047 None\n",
      "0.19947048616621446 None\n",
      "0.17456010923507095 None\n",
      "0.15030516051959883 None\n",
      "0.12682938058366217 None\n",
      "0.10422326320834119 None\n",
      "0.08254585942553971 None\n",
      "0.06182132918504576 None\n",
      "0.04211221255298844 None\n",
      "0.023470286428098237 None\n",
      "0.006630337575930949 None\n",
      "0.006313750610223694 None\n",
      "0.006335799095334636 None\n",
      "0.006318382806541508 None\n",
      "0.0063150141603984175 None\n",
      "0.0063074307871488905 None\n",
      "0.006317328495798101 None\n",
      "0.006308609589694619 None\n",
      "tf.Tensor(0.006315065040797891, shape=(), dtype=float64)\n",
      "0.006331323048320552 None\n"
     ]
    },
    {
     "data": {
      "application/vnd.jupyter.widget-view+json": {
       "model_id": "4f486b93a7d84e2986ba14cc5c700c3e",
       "version_major": 2,
       "version_minor": 0
      },
      "text/plain": [
       "  0%|          | 0/2000 [00:00<?, ?it/s]"
      ]
     },
     "metadata": {},
     "output_type": "display_data"
    },
    {
     "name": "stdout",
     "output_type": "stream",
     "text": [
      "0.2812546649704788 None\n",
      "0.25584102916553053 None\n",
      "0.23060141683567942 None\n",
      "0.20572477329210623 None\n",
      "0.18138662745260056 None\n",
      "0.15773714674906603 None\n",
      "0.134903460571746 None\n",
      "0.11301713271915181 None\n",
      "0.09216810921275814 None\n",
      "0.07337213361320938 None\n",
      "0.053923241357989246 None\n",
      "0.034697536078012924 None\n",
      "0.01656955794537915 None\n",
      "0.007160509738644745 None\n",
      "0.007112770685041708 None\n",
      "0.007151471234538024 None\n",
      "0.007141207044716054 None\n",
      "0.007129116721283482 None\n",
      "0.00711353275209671 None\n",
      "0.007153949487798277 None\n",
      "tf.Tensor(0.007106133785269492, shape=(), dtype=float64)\n",
      "0.0071089978910388076 None\n",
      "Done!\n"
     ]
    },
    {
     "data": {
      "application/vnd.jupyter.widget-view+json": {
       "model_id": "3c7124398aa34bf7b0df41dcf7fda397",
       "version_major": 2,
       "version_minor": 0
      },
      "text/plain": [
       "  0%|          | 0/2000 [00:00<?, ?it/s]"
      ]
     },
     "metadata": {},
     "output_type": "display_data"
    },
    {
     "name": "stdout",
     "output_type": "stream",
     "text": [
      "0.2795916426650018 None\n",
      "0.25413606924530324 None\n",
      "0.2286836450336335 None\n",
      "0.2030646136147598 None\n",
      "0.17819774863547225 None\n",
      "0.15387504119578632 None\n",
      "0.13013288528284134 None\n",
      "0.1072433939785628 None\n",
      "0.08540926066687451 None\n",
      "0.06468050787044119 None\n",
      "0.04508948707912931 None\n",
      "0.03103828064879091 None\n",
      "0.018889976154972298 None\n",
      "0.007828524601736248 None\n",
      "0.004483618278166113 None\n",
      "0.004460610817427428 None\n",
      "0.00447839554594499 None\n",
      "0.004461211381462899 None\n",
      "0.004463670644657532 None\n",
      "0.004458573960359542 None\n",
      "tf.Tensor(0.00446611277397526, shape=(), dtype=float64)\n",
      "0.004463976644691451 None\n"
     ]
    },
    {
     "data": {
      "application/vnd.jupyter.widget-view+json": {
       "model_id": "8eba244af54d4bc0a5c29da681f72004",
       "version_major": 2,
       "version_minor": 0
      },
      "text/plain": [
       "  0%|          | 0/2000 [00:00<?, ?it/s]"
      ]
     },
     "metadata": {},
     "output_type": "display_data"
    },
    {
     "name": "stdout",
     "output_type": "stream",
     "text": [
      "0.27453671600279694 None\n",
      "0.2490407496600693 None\n",
      "0.2237510608355539 None\n",
      "0.1988483511884297 None\n",
      "0.17448490495139254 None\n",
      "0.15068591803377324 None\n",
      "0.12761340049737158 None\n",
      "0.10686491697613511 None\n",
      "0.08533715758139905 None\n",
      "0.06451382901516092 None\n",
      "0.04651031252541546 None\n",
      "0.02552571547054949 None\n",
      "0.006427373422950414 None\n",
      "0.002132238590079546 None\n",
      "0.0021013400902031507 None\n",
      "0.002101571408901711 None\n",
      "0.0021210295887489454 None\n",
      "0.00210758530788302 None\n",
      "0.00212748004345285 None\n",
      "0.0021142235168953513 None\n",
      "tf.Tensor(0.002132502658407462, shape=(), dtype=float64)\n",
      "0.002138419959325809 None\n"
     ]
    },
    {
     "data": {
      "application/vnd.jupyter.widget-view+json": {
       "model_id": "eadc666dd1b24094b7a468a2f628cabc",
       "version_major": 2,
       "version_minor": 0
      },
      "text/plain": [
       "  0%|          | 0/2000 [00:00<?, ?it/s]"
      ]
     },
     "metadata": {},
     "output_type": "display_data"
    },
    {
     "name": "stdout",
     "output_type": "stream",
     "text": [
      "0.27359710383164487 None\n",
      "0.24789515726378913 None\n",
      "0.22229428461123207 None\n",
      "0.19705024272899013 None\n",
      "0.17217221345876832 None\n",
      "0.14781024410400345 None\n",
      "0.12439148563414693 None\n",
      "0.10203631188367707 None\n",
      "0.08081227861759974 None\n",
      "0.06062621280591503 None\n",
      "0.04137000393272784 None\n",
      "0.022977432997231387 None\n",
      "0.010335016853055153 None\n",
      "0.002398364185283719 None\n",
      "0.0023358471299995825 None\n",
      "0.0023548875921512724 None\n",
      "0.002352147459361291 None\n",
      "0.0023604207065560483 None\n",
      "0.002360949240648426 None\n",
      "0.0023343783824638885 None\n",
      "tf.Tensor(0.0023432375183261925, shape=(), dtype=float64)\n",
      "0.0023421269313675906 None\n"
     ]
    },
    {
     "data": {
      "application/vnd.jupyter.widget-view+json": {
       "model_id": "0232d649c92e48bcab45c289c3ed2016",
       "version_major": 2,
       "version_minor": 0
      },
      "text/plain": [
       "  0%|          | 0/2000 [00:00<?, ?it/s]"
      ]
     },
     "metadata": {},
     "output_type": "display_data"
    },
    {
     "name": "stdout",
     "output_type": "stream",
     "text": [
      "0.2782054960120748 None\n",
      "0.25238657702931255 None\n",
      "0.22639140970928812 None\n",
      "0.20045085623675196 None\n",
      "0.17505822261836074 None\n",
      "0.15041817636526547 None\n",
      "0.12659875258800135 None\n",
      "0.10362864855345968 None\n",
      "0.08148652251213806 None\n",
      "0.06051051352795099 None\n",
      "0.047415455770646514 None\n",
      "0.03469116044440683 None\n",
      "0.022601161664739855 None\n",
      "0.011103489233141403 None\n",
      "0.0075702937446737485 None\n",
      "0.007578047092542402 None\n",
      "0.007571212484082424 None\n",
      "0.007561877300548567 None\n",
      "0.007581351004598162 None\n",
      "0.007564291402922165 None\n",
      "tf.Tensor(0.0075662806331219384, shape=(), dtype=float64)\n",
      "0.007574664241308163 None\n"
     ]
    },
    {
     "data": {
      "application/vnd.jupyter.widget-view+json": {
       "model_id": "36e2766105584d60b9fd6cbe174677d2",
       "version_major": 2,
       "version_minor": 0
      },
      "text/plain": [
       "  0%|          | 0/2000 [00:00<?, ?it/s]"
      ]
     },
     "metadata": {},
     "output_type": "display_data"
    },
    {
     "name": "stdout",
     "output_type": "stream",
     "text": [
      "0.2717505420813072 None\n",
      "0.2458684955783263 None\n",
      "0.2201356306218044 None\n",
      "0.19475241641337426 None\n",
      "0.1698841809625413 None\n",
      "0.14558301538729998 None\n",
      "0.12187066523410323 None\n",
      "0.09910088519925894 None\n",
      "0.07764654630251255 None\n",
      "0.05709846039067151 None\n",
      "0.04105132828065456 None\n",
      "0.026216538696193094 None\n",
      "0.012234184433700893 None\n",
      "0.0035888885287489874 None\n",
      "0.0035835719578689133 None\n",
      "0.0035648495778414745 None\n",
      "0.0035710804090784733 None\n",
      "0.0035781672297011714 None\n",
      "0.003550222153936553 None\n",
      "0.0035602056784747246 None\n",
      "tf.Tensor(0.003568679915404705, shape=(), dtype=float64)\n",
      "0.0035795611550737093 None\n"
     ]
    },
    {
     "data": {
      "application/vnd.jupyter.widget-view+json": {
       "model_id": "facd70db3fe241d49170499cc6e9b26f",
       "version_major": 2,
       "version_minor": 0
      },
      "text/plain": [
       "  0%|          | 0/2000 [00:00<?, ?it/s]"
      ]
     },
     "metadata": {},
     "output_type": "display_data"
    },
    {
     "name": "stdout",
     "output_type": "stream",
     "text": [
      "0.27435328224597016 None\n",
      "0.24842583295603102 None\n",
      "0.22380438400163782 None\n",
      "0.19825144155875585 None\n",
      "0.17316165741939998 None\n",
      "0.14872368766111463 None\n",
      "0.12498786089331505 None\n",
      "0.10164074671547421 None\n",
      "0.07993941452721146 None\n",
      "0.06310181443225228 None\n",
      "0.04791889708566963 None\n",
      "0.03435579198300516 None\n",
      "0.02093862540754913 None\n",
      "0.00856453233827752 None\n",
      "0.006024076803169326 None\n",
      "0.006064472471744891 None\n",
      "0.006020200196475298 None\n",
      "0.006027420319779257 None\n",
      "0.006026290227434027 None\n",
      "0.006030394836421125 None\n",
      "tf.Tensor(0.006027150238181459, shape=(), dtype=float64)\n",
      "0.006026234053047922 None\n"
     ]
    },
    {
     "data": {
      "application/vnd.jupyter.widget-view+json": {
       "model_id": "2648deb841a34d72980bf899c7880987",
       "version_major": 2,
       "version_minor": 0
      },
      "text/plain": [
       "  0%|          | 0/2000 [00:00<?, ?it/s]"
      ]
     },
     "metadata": {},
     "output_type": "display_data"
    },
    {
     "name": "stdout",
     "output_type": "stream",
     "text": [
      "0.27799179189291107 None\n",
      "0.25226375289233366 None\n",
      "0.2266883837369965 None\n",
      "0.20149328421072368 None\n",
      "0.17688922813262858 None\n",
      "0.15302347230503294 None\n",
      "0.1299715179709858 None\n",
      "0.10785801241267814 None\n",
      "0.08681167844026907 None\n",
      "0.06678574758183124 None\n",
      "0.047622210983899585 None\n",
      "0.028371123926837882 None\n",
      "0.009863120216327442 None\n",
      "0.0006939738596827283 None\n",
      "0.0007448940856082213 None\n",
      "0.0007435240757835658 None\n",
      "0.0007069027317878583 None\n",
      "0.000746998471072853 None\n",
      "0.0007039972674849904 None\n",
      "0.0007498894549364185 None\n",
      "tf.Tensor(0.0007507761968400251, shape=(), dtype=float64)\n",
      "0.0007580884143543846 None\n"
     ]
    },
    {
     "data": {
      "application/vnd.jupyter.widget-view+json": {
       "model_id": "b060b7755181484abfa0d97b1319910a",
       "version_major": 2,
       "version_minor": 0
      },
      "text/plain": [
       "  0%|          | 0/2000 [00:00<?, ?it/s]"
      ]
     },
     "metadata": {},
     "output_type": "display_data"
    },
    {
     "name": "stdout",
     "output_type": "stream",
     "text": [
      "0.2768097782765577 None\n",
      "0.25125709163933513 None\n",
      "0.2258256005404695 None\n",
      "0.2006664421674123 None\n",
      "0.17593333630866598 None\n",
      "0.1517265125111009 None\n",
      "0.1281892350945061 None\n",
      "0.10546806281153248 None\n",
      "0.08343911464890506 None\n",
      "0.062259132825436006 None\n",
      "0.04195735861740718 None\n",
      "0.02252809097646672 None\n",
      "0.004509661079878723 None\n",
      "0.0008536695066066052 None\n",
      "0.0008329999011409475 None\n",
      "0.000858859564409932 None\n",
      "0.0008389595454465007 None\n",
      "0.0008391820768886317 None\n",
      "0.0008556278254031012 None\n",
      "0.0008735903655395678 None\n",
      "tf.Tensor(0.0008314781404223995, shape=(), dtype=float64)\n",
      "0.0008331900630063442 None\n",
      "Done!\n"
     ]
    },
    {
     "data": {
      "application/vnd.jupyter.widget-view+json": {
       "model_id": "4b73725ba7a14f62996b3ad0cedcf7cc",
       "version_major": 2,
       "version_minor": 0
      },
      "text/plain": [
       "  0%|          | 0/2000 [00:00<?, ?it/s]"
      ]
     },
     "metadata": {},
     "output_type": "display_data"
    },
    {
     "name": "stdout",
     "output_type": "stream",
     "text": [
      "0.2733879980760113 None\n",
      "0.24742311356731914 None\n",
      "0.22155617572513106 None\n",
      "0.19592716078812455 None\n",
      "0.17065742468158485 None\n",
      "0.1462664395551217 None\n",
      "0.12252967747266649 None\n",
      "0.09976695254005402 None\n",
      "0.07861949368423585 None\n",
      "0.062314810855852276 None\n",
      "0.04696665715569462 None\n",
      "0.033002677601356875 None\n",
      "0.020257966775198057 None\n",
      "0.008763277966384667 None\n",
      "0.00809529548127277 None\n",
      "0.008140823439961437 None\n",
      "0.008085808924814308 None\n",
      "0.008107309239684304 None\n",
      "0.00807973079446548 None\n",
      "0.008111087161242852 None\n",
      "tf.Tensor(0.008082349227676932, shape=(), dtype=float64)\n",
      "0.008087435852191759 None\n"
     ]
    },
    {
     "data": {
      "application/vnd.jupyter.widget-view+json": {
       "model_id": "422ea28d90424efca5e225cb0874f391",
       "version_major": 2,
       "version_minor": 0
      },
      "text/plain": [
       "  0%|          | 0/2000 [00:00<?, ?it/s]"
      ]
     },
     "metadata": {},
     "output_type": "display_data"
    },
    {
     "name": "stdout",
     "output_type": "stream",
     "text": [
      "0.27046372216733106 None\n",
      "0.24442438385101647 None\n",
      "0.2185329726121008 None\n",
      "0.19296445919997077 None\n",
      "0.16792149327906072 None\n",
      "0.1435263456353281 None\n",
      "0.12005312009444756 None\n",
      "0.10107831037624634 None\n",
      "0.08396552032332852 None\n",
      "0.06769961160840549 None\n",
      "0.052362757545642874 None\n",
      "0.03796937701107392 None\n",
      "0.02461694512870624 None\n",
      "0.012472251110095582 None\n",
      "0.00979756211017067 None\n",
      "0.00983049701361011 None\n",
      "0.009810437173774667 None\n",
      "0.00980712304880664 None\n",
      "0.009798300464000341 None\n",
      "0.009800951609143523 None\n",
      "tf.Tensor(0.009819214238413192, shape=(), dtype=float64)\n",
      "0.00981622542590533 None\n"
     ]
    },
    {
     "data": {
      "application/vnd.jupyter.widget-view+json": {
       "model_id": "cb3547cb6ddc47feb7d06c431fa0818d",
       "version_major": 2,
       "version_minor": 0
      },
      "text/plain": [
       "  0%|          | 0/2000 [00:00<?, ?it/s]"
      ]
     },
     "metadata": {},
     "output_type": "display_data"
    },
    {
     "name": "stdout",
     "output_type": "stream",
     "text": [
      "0.27167326519785184 None\n",
      "0.24549785000720278 None\n",
      "0.21918391280463598 None\n",
      "0.19330140123019157 None\n",
      "0.1679290530861372 None\n",
      "0.14312422186268883 None\n",
      "0.11900214855445992 None\n",
      "0.0987508361379761 None\n",
      "0.08246835790459438 None\n",
      "0.06643518659572194 None\n",
      "0.05132441716829994 None\n",
      "0.037098234297350915 None\n",
      "0.023920505984452944 None\n",
      "0.011945974317060997 None\n",
      "0.01115256686489391 None\n",
      "0.011137414686835146 None\n",
      "0.011148371666423785 None\n",
      "0.011149493181797844 None\n",
      "0.011131781060513435 None\n",
      "0.01116076152083249 None\n",
      "tf.Tensor(0.011158774066567723, shape=(), dtype=float64)\n",
      "0.011129995614307702 None\n"
     ]
    },
    {
     "data": {
      "application/vnd.jupyter.widget-view+json": {
       "model_id": "f2802bd4fb9746b0bb8599086580d124",
       "version_major": 2,
       "version_minor": 0
      },
      "text/plain": [
       "  0%|          | 0/2000 [00:00<?, ?it/s]"
      ]
     },
     "metadata": {},
     "output_type": "display_data"
    },
    {
     "name": "stdout",
     "output_type": "stream",
     "text": [
      "0.2742154453251683 None\n",
      "0.24847028981661093 None\n",
      "0.22284848462436424 None\n",
      "0.19737753419348517 None\n",
      "0.17212997959524523 None\n",
      "0.1474338725838862 None\n",
      "0.12347140375695825 None\n",
      "0.10055699555883471 None\n",
      "0.07936582291115911 None\n",
      "0.06330664232395886 None\n",
      "0.04796089426023588 None\n",
      "0.03351595094989033 None\n",
      "0.020134942718470283 None\n",
      "0.007760370822194957 None\n",
      "0.0064255451228649105 None\n",
      "0.006435996502470044 None\n",
      "0.006425144961009412 None\n",
      "0.006440499457558167 None\n",
      "0.006470298504878867 None\n",
      "0.006425489513289733 None\n",
      "tf.Tensor(0.006429470637559855, shape=(), dtype=float64)\n",
      "0.0064409848681679024 None\n"
     ]
    },
    {
     "data": {
      "application/vnd.jupyter.widget-view+json": {
       "model_id": "81863ae0eb284804aa9589503c95521d",
       "version_major": 2,
       "version_minor": 0
      },
      "text/plain": [
       "  0%|          | 0/2000 [00:00<?, ?it/s]"
      ]
     },
     "metadata": {},
     "output_type": "display_data"
    },
    {
     "name": "stdout",
     "output_type": "stream",
     "text": [
      "0.2737865322925351 None\n",
      "0.24797346570287784 None\n",
      "0.22240648215359082 None\n",
      "0.19726476730282821 None\n",
      "0.1727096299348954 None\n",
      "0.14885711880083763 None\n",
      "0.12559524835765204 None\n",
      "0.10171646418754729 None\n",
      "0.07995140342745456 None\n",
      "0.05899460277577965 None\n",
      "0.03929470438680077 None\n",
      "0.026507460516744255 None\n",
      "0.014520035211541424 None\n",
      "0.0053164131376897475 None\n",
      "0.005176582385426856 None\n",
      "0.005174385483981185 None\n",
      "0.005181124249873832 None\n",
      "0.005166856307495568 None\n",
      "0.005172923042458959 None\n",
      "0.005167121184981426 None\n",
      "tf.Tensor(0.005168254956021353, shape=(), dtype=float64)\n",
      "0.005156074646890083 None\n"
     ]
    },
    {
     "data": {
      "application/vnd.jupyter.widget-view+json": {
       "model_id": "9758387b50ee43e1947b1333262f1566",
       "version_major": 2,
       "version_minor": 0
      },
      "text/plain": [
       "  0%|          | 0/2000 [00:00<?, ?it/s]"
      ]
     },
     "metadata": {},
     "output_type": "display_data"
    },
    {
     "name": "stdout",
     "output_type": "stream",
     "text": [
      "0.27240602150361576 None\n",
      "0.246520240726548 None\n",
      "0.2206411772824598 None\n",
      "0.1949566543187909 None\n",
      "0.169698956727522 None\n",
      "0.14456377940133638 None\n",
      "0.12126109807268125 None\n",
      "0.0983657402313854 None\n",
      "0.0778766842195617 None\n",
      "0.06184542311038712 None\n",
      "0.046671911907401414 None\n",
      "0.03260326273799932 None\n",
      "0.01952734422280008 None\n",
      "0.0076934860409633744 None\n",
      "0.00758667695909156 None\n",
      "0.007605419139163325 None\n",
      "0.007586673495408602 None\n",
      "0.0075971843265254906 None\n",
      "0.007581829006444732 None\n",
      "0.007585023410417679 None\n",
      "tf.Tensor(0.007584333746959819, shape=(), dtype=float64)\n",
      "0.00758807731730235 None\n"
     ]
    },
    {
     "data": {
      "application/vnd.jupyter.widget-view+json": {
       "model_id": "59f60299a37e43f8a85091fa94f94648",
       "version_major": 2,
       "version_minor": 0
      },
      "text/plain": [
       "  0%|          | 0/2000 [00:00<?, ?it/s]"
      ]
     },
     "metadata": {},
     "output_type": "display_data"
    },
    {
     "name": "stdout",
     "output_type": "stream",
     "text": [
      "0.27065197041434985 None\n",
      "0.24468530228604432 None\n",
      "0.21894826227694236 None\n",
      "0.19363316099302244 None\n",
      "0.1689104965052447 None\n",
      "0.14493222053838434 None\n",
      "0.12180615457919539 None\n",
      "0.09955595259287199 None\n",
      "0.07817219034878825 None\n",
      "0.05855810372488271 None\n",
      "0.04286741738315579 None\n",
      "0.028064049538818307 None\n",
      "0.014726433579555751 None\n",
      "0.0039893345779238865 None\n",
      "0.0038616547429475047 None\n",
      "0.003856001992683891 None\n",
      "0.003826860101968744 None\n",
      "0.0038230861505937352 None\n",
      "0.003821293202193387 None\n",
      "0.003858951917551888 None\n",
      "tf.Tensor(0.0038248134129916997, shape=(), dtype=float64)\n",
      "0.003820045453140096 None\n"
     ]
    },
    {
     "data": {
      "application/vnd.jupyter.widget-view+json": {
       "model_id": "e2a0e60ac5d1420c8ad4a1cb1e54dea4",
       "version_major": 2,
       "version_minor": 0
      },
      "text/plain": [
       "  0%|          | 0/2000 [00:00<?, ?it/s]"
      ]
     },
     "metadata": {},
     "output_type": "display_data"
    },
    {
     "name": "stdout",
     "output_type": "stream",
     "text": [
      "0.2755813347335844 None\n",
      "0.250033991800602 None\n",
      "0.22468753278284007 None\n",
      "0.19972091054176577 None\n",
      "0.17522194756172008 None\n",
      "0.15131544115134493 None\n",
      "0.12821495300221603 None\n",
      "0.10559438174661342 None\n",
      "0.08442081095513941 None\n",
      "0.06377935217739417 None\n",
      "0.04384432895993902 None\n",
      "0.024715077840920426 None\n",
      "0.006504948985509098 None\n",
      "0.00010718479294205552 None\n",
      "0.00011878271845799926 None\n",
      "0.00011081003813700335 None\n",
      "0.00013093378803218786 None\n",
      "0.00014107927452683064 None\n",
      "0.00010987007904362037 None\n",
      "0.00013033437939037953 None\n",
      "tf.Tensor(0.0001152328544609775, shape=(), dtype=float64)\n",
      "0.00012548141734975218 None\n"
     ]
    },
    {
     "data": {
      "application/vnd.jupyter.widget-view+json": {
       "model_id": "9b2d60b42e98499eb6ff1017a0d6b136",
       "version_major": 2,
       "version_minor": 0
      },
      "text/plain": [
       "  0%|          | 0/2000 [00:00<?, ?it/s]"
      ]
     },
     "metadata": {},
     "output_type": "display_data"
    },
    {
     "name": "stdout",
     "output_type": "stream",
     "text": [
      "0.272696029581617 None\n",
      "0.2466959653376564 None\n",
      "0.2205887883065818 None\n",
      "0.1948032308735134 None\n",
      "0.16966994149708847 None\n",
      "0.14531532301800404 None\n",
      "0.12179482012324334 None\n",
      "0.0991498855664171 None\n",
      "0.08027462968455176 None\n",
      "0.06395747325782834 None\n",
      "0.04857179767634069 None\n",
      "0.034260321014972776 None\n",
      "0.020823140324035774 None\n",
      "0.008263097271395584 None\n",
      "0.007692890018435896 None\n",
      "0.007702849487236235 None\n",
      "0.007711225801401159 None\n",
      "0.007685033879546586 None\n",
      "0.007721016615034031 None\n",
      "0.007717863700338525 None\n",
      "tf.Tensor(0.00768657260149155, shape=(), dtype=float64)\n",
      "0.0076932549908616775 None\n"
     ]
    },
    {
     "data": {
      "application/vnd.jupyter.widget-view+json": {
       "model_id": "e78d507e4d44444a848aa555cdd63b69",
       "version_major": 2,
       "version_minor": 0
      },
      "text/plain": [
       "  0%|          | 0/2000 [00:00<?, ?it/s]"
      ]
     },
     "metadata": {},
     "output_type": "display_data"
    },
    {
     "name": "stdout",
     "output_type": "stream",
     "text": [
      "0.2778360498167082 None\n",
      "0.2524443898264151 None\n",
      "0.22719100902061995 None\n",
      "0.20214020346194805 None\n",
      "0.1774306856027664 None\n",
      "0.15329244330312491 None\n",
      "0.12939019036139934 None\n",
      "0.10660674156016108 None\n",
      "0.08467111101422922 None\n",
      "0.06398911801757928 None\n",
      "0.044120280169169204 None\n",
      "0.02703151766459289 None\n",
      "0.014393337227628738 None\n",
      "0.0032122938681200808 None\n",
      "0.0028892838989296454 None\n",
      "0.0029021463108301025 None\n",
      "0.002905041628749397 None\n",
      "0.0029039382212746045 None\n",
      "0.0028799015783349154 None\n",
      "0.002894602318066375 None\n",
      "tf.Tensor(0.0028928858681645624, shape=(), dtype=float64)\n",
      "0.0028963014182795087 None\n",
      "Done!\n"
     ]
    },
    {
     "data": {
      "application/vnd.jupyter.widget-view+json": {
       "model_id": "69af719676464ef2952c5120c1560668",
       "version_major": 2,
       "version_minor": 0
      },
      "text/plain": [
       "  0%|          | 0/2000 [00:00<?, ?it/s]"
      ]
     },
     "metadata": {},
     "output_type": "display_data"
    },
    {
     "name": "stdout",
     "output_type": "stream",
     "text": [
      "0.28986397836549077 None\n",
      "0.26421523840419714 None\n",
      "0.2386465599500092 None\n",
      "0.2133221270891222 None\n",
      "0.18826183086693393 None\n",
      "0.16349345523317946 None\n",
      "0.13950271571989092 None\n",
      "0.11592973193491762 None\n",
      "0.09372299002208745 None\n",
      "0.07202598418672171 None\n",
      "0.05113833687055237 None\n",
      "0.03584081398953823 None\n",
      "0.023864378268933204 None\n",
      "0.013834685983548606 None\n",
      "0.006134020037516532 None\n",
      "0.00614113199527121 None\n",
      "0.006134909324224756 None\n",
      "0.00612797455393135 None\n",
      "0.00612896552346134 None\n",
      "0.006160866697839981 None\n",
      "tf.Tensor(0.006145094535467292, shape=(), dtype=float64)\n",
      "0.006157475271787335 None\n"
     ]
    },
    {
     "data": {
      "application/vnd.jupyter.widget-view+json": {
       "model_id": "496c7fbfc5ed4cd6bea3ad8cf85b7c54",
       "version_major": 2,
       "version_minor": 0
      },
      "text/plain": [
       "  0%|          | 0/2000 [00:00<?, ?it/s]"
      ]
     },
     "metadata": {},
     "output_type": "display_data"
    },
    {
     "name": "stdout",
     "output_type": "stream",
     "text": [
      "0.28787709092248814 None\n",
      "0.26211099393136944 None\n",
      "0.23647064454627537 None\n",
      "0.21118176872107514 None\n",
      "0.18642591957740356 None\n",
      "0.1623652303110269 None\n",
      "0.1391404299702276 None\n",
      "0.11680349373901766 None\n",
      "0.09523790679251853 None\n",
      "0.07424091634743141 None\n",
      "0.053865330955291967 None\n",
      "0.04106597643787378 None\n",
      "0.030382287128635048 None\n",
      "0.020508974307089044 None\n",
      "0.011505020884676032 None\n",
      "0.008699655515762041 None\n",
      "0.008672597403029596 None\n",
      "0.008653688283089819 None\n",
      "0.008658474360637713 None\n",
      "0.008685422317126407 None\n",
      "tf.Tensor(0.00868810519797475, shape=(), dtype=float64)\n",
      "0.008681102064609175 None\n"
     ]
    },
    {
     "data": {
      "application/vnd.jupyter.widget-view+json": {
       "model_id": "d60d294ca2074d5c874667ab290a65af",
       "version_major": 2,
       "version_minor": 0
      },
      "text/plain": [
       "  0%|          | 0/2000 [00:00<?, ?it/s]"
      ]
     },
     "metadata": {},
     "output_type": "display_data"
    },
    {
     "name": "stdout",
     "output_type": "stream",
     "text": [
      "0.2866684840525187 None\n",
      "0.260969450984783 None\n",
      "0.23517615082210241 None\n",
      "0.20966412719579186 None\n",
      "0.18458960760262158 None\n",
      "0.15987986075375488 None\n",
      "0.13549703328285634 None\n",
      "0.11203235952515136 None\n",
      "0.09266097905811978 None\n",
      "0.07723783808967756 None\n",
      "0.0630569866348395 None\n",
      "0.049402442631873475 None\n",
      "0.0364495507804085 None\n",
      "0.024348640302043475 None\n",
      "0.013032424869297104 None\n",
      "0.01126994606699756 None\n",
      "0.011255457868541954 None\n",
      "0.01125837185333314 None\n",
      "0.011257623673992068 None\n",
      "0.011245733605720138 None\n",
      "tf.Tensor(0.011238211220833069, shape=(), dtype=float64)\n",
      "0.011256475503908635 None\n"
     ]
    },
    {
     "data": {
      "application/vnd.jupyter.widget-view+json": {
       "model_id": "dc571fac2e934c4985d271e98ce143ca",
       "version_major": 2,
       "version_minor": 0
      },
      "text/plain": [
       "  0%|          | 0/2000 [00:00<?, ?it/s]"
      ]
     },
     "metadata": {},
     "output_type": "display_data"
    },
    {
     "name": "stdout",
     "output_type": "stream",
     "text": [
      "0.2841818682617698 None\n",
      "0.25825434709055645 None\n",
      "0.23243048942523162 None\n",
      "0.20701152071615148 None\n",
      "0.18217150396616327 None\n",
      "0.1580554001957203 None\n",
      "0.13479983262473166 None\n",
      "0.1124747725175362 None\n",
      "0.09107982828849052 None\n",
      "0.0745275907711509 None\n",
      "0.05515537880692919 None\n",
      "0.03642109136616475 None\n",
      "0.018322735459839826 None\n",
      "0.007243369255190382 None\n",
      "0.002357260573622833 None\n",
      "0.0023466877349982602 None\n",
      "0.002353740638018135 None\n",
      "0.0023500515420305373 None\n",
      "0.002375420016780913 None\n",
      "0.0023672034593601766 None\n",
      "tf.Tensor(0.00235272471110088, shape=(), dtype=float64)\n",
      "0.0023439335362800476 None\n"
     ]
    },
    {
     "data": {
      "application/vnd.jupyter.widget-view+json": {
       "model_id": "770fa6108d894a5c97ba9677b5f6e3eb",
       "version_major": 2,
       "version_minor": 0
      },
      "text/plain": [
       "  0%|          | 0/2000 [00:00<?, ?it/s]"
      ]
     },
     "metadata": {},
     "output_type": "display_data"
    },
    {
     "name": "stdout",
     "output_type": "stream",
     "text": [
      "0.2880631859054404 None\n",
      "0.2624651947023774 None\n",
      "0.23705762291714544 None\n",
      "0.21201987334462802 None\n",
      "0.18747147351192076 None\n",
      "0.1634679044965938 None\n",
      "0.14012878636959064 None\n",
      "0.11765059795962914 None\n",
      "0.09612076384436996 None\n",
      "0.07577312032247152 None\n",
      "0.05585463112455717 None\n",
      "0.03669611588190222 None\n",
      "0.018278708981303404 None\n",
      "0.005106913548141273 None\n",
      "0.0017832719762264533 None\n",
      "0.0018043799551111864 None\n",
      "0.0018121568471442424 None\n",
      "0.0017994456488392603 None\n",
      "0.0017760780144652176 None\n",
      "0.001783697860632854 None\n",
      "tf.Tensor(0.0018002665700484165, shape=(), dtype=float64)\n",
      "0.0017917216276650896 None\n"
     ]
    },
    {
     "data": {
      "application/vnd.jupyter.widget-view+json": {
       "model_id": "73bb71e81a5c41d095075d1ecdeab19d",
       "version_major": 2,
       "version_minor": 0
      },
      "text/plain": [
       "  0%|          | 0/2000 [00:00<?, ?it/s]"
      ]
     },
     "metadata": {},
     "output_type": "display_data"
    },
    {
     "name": "stdout",
     "output_type": "stream",
     "text": [
      "0.2880463281693703 None\n",
      "0.26230819907279296 None\n",
      "0.23671860185924212 None\n",
      "0.2111269939956313 None\n",
      "0.18609209810380717 None\n",
      "0.16177283010909047 None\n",
      "0.1382458773368815 None\n",
      "0.1155058715380899 None\n",
      "0.09366407074428695 None\n",
      "0.07266754842476435 None\n",
      "0.0527840417703801 None\n",
      "0.03872307053196057 None\n",
      "0.02619914482575486 None\n",
      "0.014440848093994655 None\n",
      "0.005794134028178272 None\n",
      "0.005651447393528665 None\n",
      "0.005670135395218472 None\n",
      "0.005653461237853315 None\n",
      "0.005655727750696567 None\n",
      "0.005651666080945257 None\n",
      "tf.Tensor(0.005681219428193562, shape=(), dtype=float64)\n",
      "0.005682371747482075 None\n"
     ]
    },
    {
     "data": {
      "application/vnd.jupyter.widget-view+json": {
       "model_id": "6a78cf09f56640c2929f8c0bcff1663d",
       "version_major": 2,
       "version_minor": 0
      },
      "text/plain": [
       "  0%|          | 0/2000 [00:00<?, ?it/s]"
      ]
     },
     "metadata": {},
     "output_type": "display_data"
    },
    {
     "name": "stdout",
     "output_type": "stream",
     "text": [
      "0.28925911779239905 None\n",
      "0.2635607674687863 None\n",
      "0.23794543270012075 None\n",
      "0.21253362934192443 None\n",
      "0.18750649618242024 None\n",
      "0.16308106913890488 None\n",
      "0.1393848281975924 None\n",
      "0.1166241785575859 None\n",
      "0.09491695235140139 None\n",
      "0.07427907982357487 None\n",
      "0.05465192318280347 None\n",
      "0.035910911457599615 None\n",
      "0.018379500258597622 None\n",
      "0.007925038939273755 None\n",
      "0.0029346417324774728 None\n",
      "0.0029119971568797483 None\n",
      "0.002926374407579164 None\n",
      "0.0029102755957858377 None\n",
      "0.002909137480690497 None\n",
      "0.002898966809524395 None\n",
      "tf.Tensor(0.0029392832196612345, shape=(), dtype=float64)\n",
      "0.0029306472522957275 None\n"
     ]
    },
    {
     "data": {
      "application/vnd.jupyter.widget-view+json": {
       "model_id": "6c9805d9aed84742b4568411198f29c1",
       "version_major": 2,
       "version_minor": 0
      },
      "text/plain": [
       "  0%|          | 0/2000 [00:00<?, ?it/s]"
      ]
     },
     "metadata": {},
     "output_type": "display_data"
    },
    {
     "name": "stdout",
     "output_type": "stream",
     "text": [
      "0.2919337904548046 None\n",
      "0.26638719502181907 None\n",
      "0.24113225113831596 None\n",
      "0.21622089839800684 None\n",
      "0.19176937786485881 None\n",
      "0.16796541183096825 None\n",
      "0.14494420824424437 None\n",
      "0.12265634439773604 None\n",
      "0.10093213183115021 None\n",
      "0.07942280949339285 None\n",
      "0.059123222454397516 None\n",
      "0.03988569751285788 None\n",
      "0.02292049538678029 None\n",
      "0.005962442253281571 None\n",
      "0.0025485668807982004 None\n",
      "0.0025900849259742655 None\n",
      "0.0025482350649388315 None\n",
      "0.0025555073516024818 None\n",
      "0.0025514116545523186 None\n",
      "0.002552119587633451 None\n",
      "tf.Tensor(0.0025656973560476276, shape=(), dtype=float64)\n",
      "0.002565134677964192 None\n",
      "Done!\n"
     ]
    }
   ],
   "source": [
    "n = 3\n",
    "d = 2**n\n",
    "\n",
    "np.random.seed(42)\n",
    "random.seed(42)\n",
    "tf.random.set_seed(42)\n",
    "rng = np.random.default_rng(seed=42)\n",
    "\n",
    "[distance_best_list, model_best_list] = loader(data_path(\"diluted_fitting_24layer.model\"))\n",
    "rank_start = model_best_list[-1].channel.rank\n",
    "\n",
    "distance_best_list, model_best_list = fit_diluted_unitary(spectrum_target_list4, \n",
    "                                                          d=d, \n",
    "                                                          rank_start = rank_start,\n",
    "                                                          rank_step = 1,\n",
    "                                                          num_iter = 2000,\n",
    "                                                         )\n",
    "\n",
    "saver([distance_best_list, model_best_list], data_path(\"diluted_fitting_32layer.model\"))"
   ]
  },
  {
   "cell_type": "markdown",
   "metadata": {},
   "source": [
    "## Four Qubits"
   ]
  },
  {
   "cell_type": "code",
   "execution_count": 12,
   "metadata": {},
   "outputs": [],
   "source": [
    "n = 4\n",
    "d = 2**n\n",
    "\n",
    "[model1, model2, model3, model4, model5] = loader(data_path(\"belem_4qubit_repeated.model\"))\n",
    "\n",
    "spectrum1 = channel_spectrum(model1.channel)\n",
    "spectrum2 = channel_spectrum(model2.channel) \n",
    "spectrum3 = channel_spectrum(model3.channel)\n",
    "spectrum4 = channel_spectrum(model4.channel)\n",
    "spectrum5 = channel_spectrum(model5.channel)"
   ]
  },
  {
   "cell_type": "code",
   "execution_count": 52,
   "metadata": {
    "scrolled": true
   },
   "outputs": [
    {
     "data": {
      "application/vnd.jupyter.widget-view+json": {
       "model_id": "cc20ae40f74345b99d1e3d0a34c27ecc",
       "version_major": 2,
       "version_minor": 0
      },
      "text/plain": [
       "  0%|          | 0/2000 [00:00<?, ?it/s]"
      ]
     },
     "metadata": {},
     "output_type": "display_data"
    },
    {
     "name": "stdout",
     "output_type": "stream",
     "text": [
      "0.23604491452368892 None\n",
      "0.22884847262278685 None\n",
      "0.2308204072016827 None\n",
      "0.2269173756274781 None\n",
      "0.230601897437974 None\n",
      "0.22670672874034004 None\n",
      "0.2306018318002978 None\n",
      "0.23444400456919537 None\n",
      "0.22670672323330907 None\n",
      "0.22691681561509486 None\n",
      "0.23444400456180223 None\n",
      "0.22670672323292876 None\n",
      "0.22670672323292676 None\n",
      "0.2344440045617928 None\n",
      "0.226706723232917 None\n",
      "0.23060183149402394 None\n",
      "0.22670672323292737 None\n",
      "0.22670672323292754 None\n",
      "0.22670672323292426 None\n",
      "0.22691681561509133 None\n",
      "0.22670672323293137 None\n"
     ]
    },
    {
     "data": {
      "application/vnd.jupyter.widget-view+json": {
       "model_id": "d2dd3069d72147fea0ab662ff7914a66",
       "version_major": 2,
       "version_minor": 0
      },
      "text/plain": [
       "  0%|          | 0/2000 [00:00<?, ?it/s]"
      ]
     },
     "metadata": {},
     "output_type": "display_data"
    },
    {
     "name": "stdout",
     "output_type": "stream",
     "text": [
      "0.13211728892711652 None\n",
      "0.124228269786473 None\n",
      "0.11516116005998811 None\n",
      "0.10933154211595487 None\n",
      "0.1007590631779306 None\n",
      "0.1020446677115946 None\n",
      "0.09806631227291192 None\n",
      "0.09807667062026788 None\n",
      "0.10206560353422467 None\n",
      "0.09809396709413733 None\n",
      "0.09807322823898597 None\n",
      "0.09807324582872091 None\n",
      "0.10201627208935242 None\n",
      "0.10200940643050527 None\n",
      "0.0980711189281119 None\n",
      "0.10207734989017395 None\n",
      "0.0980772114548718 None\n",
      "0.10202302114940087 None\n",
      "0.09806542467331243 None\n",
      "0.10201251468934347 None\n",
      "0.09833033470461072 None\n"
     ]
    },
    {
     "data": {
      "application/vnd.jupyter.widget-view+json": {
       "model_id": "c379e2de20bb466e91e91dd67e8f15bd",
       "version_major": 2,
       "version_minor": 0
      },
      "text/plain": [
       "  0%|          | 0/2000 [00:00<?, ?it/s]"
      ]
     },
     "metadata": {},
     "output_type": "display_data"
    },
    {
     "name": "stdout",
     "output_type": "stream",
     "text": [
      "0.10729163648296146 None\n",
      "0.09462603472888628 None\n",
      "0.07666227633180484 None\n",
      "0.06456286171141366 None\n",
      "0.06134062751567793 None\n",
      "0.06524492597911165 None\n",
      "0.06130545836298 None\n",
      "0.06529785464944197 None\n",
      "0.061636333528359094 None\n",
      "0.06159462338501963 None\n",
      "0.06159054153198932 None\n",
      "0.06163053445072679 None\n",
      "0.061586920157324435 None\n",
      "0.0612964274140516 None\n",
      "0.06527830697818997 None\n",
      "0.06164348172893068 None\n",
      "0.06130365163574174 None\n",
      "0.06524722895077692 None\n",
      "0.061334704145117915 None\n",
      "0.06129829578540395 None\n",
      "0.06527434799246161 None\n"
     ]
    },
    {
     "data": {
      "application/vnd.jupyter.widget-view+json": {
       "model_id": "26f8958b62234082a48d535dc2a96795",
       "version_major": 2,
       "version_minor": 0
      },
      "text/plain": [
       "  0%|          | 0/2000 [00:00<?, ?it/s]"
      ]
     },
     "metadata": {},
     "output_type": "display_data"
    },
    {
     "name": "stdout",
     "output_type": "stream",
     "text": [
      "0.09886026723637965 None\n",
      "0.07991115994505608 None\n",
      "0.0629884567166917 None\n",
      "0.047971038287409146 None\n",
      "0.050057044604109036 None\n",
      "0.046096772467353775 None\n",
      "0.04635652913392074 None\n",
      "0.04609952220113514 None\n",
      "0.04610565585000954 None\n",
      "0.04610759815307848 None\n",
      "0.046383086517977457 None\n",
      "0.04611304186951375 None\n",
      "0.050050675397697295 None\n",
      "0.046361271972374676 None\n",
      "0.05003917527489177 None\n",
      "0.050040226793110036 None\n",
      "0.04610025949245828 None\n",
      "0.0464408460583953 None\n",
      "0.046175631657011926 None\n",
      "0.046437077008710616 None\n",
      "0.050120247687576135 None\n"
     ]
    },
    {
     "data": {
      "application/vnd.jupyter.widget-view+json": {
       "model_id": "89f03f57b0f4402a92df49c70200c730",
       "version_major": 2,
       "version_minor": 0
      },
      "text/plain": [
       "  0%|          | 0/2000 [00:00<?, ?it/s]"
      ]
     },
     "metadata": {},
     "output_type": "display_data"
    },
    {
     "name": "stdout",
     "output_type": "stream",
     "text": [
      "0.09165260082403684 None\n",
      "0.07539750297399157 None\n",
      "0.05662281965445076 None\n",
      "0.03985600188512654 None\n",
      "0.035705057763041406 None\n",
      "0.04341444883076493 None\n",
      "0.03575445081963768 None\n",
      "0.03944070833580192 None\n",
      "0.039383035891927154 None\n",
      "0.03543899690438678 None\n",
      "0.035479472175686665 None\n",
      "0.035454178490589974 None\n",
      "0.04338676328346848 None\n",
      "0.035464089806826526 None\n",
      "0.039724106788279416 None\n",
      "0.03546266098993873 None\n",
      "0.03938660715973992 None\n",
      "0.035434114683468375 None\n",
      "0.03940471571374229 None\n",
      "0.03569626034117294 None\n",
      "0.03939489657421658 None\n"
     ]
    },
    {
     "data": {
      "application/vnd.jupyter.widget-view+json": {
       "model_id": "1f99fcf4984e495190ce90e582d5c21c",
       "version_major": 2,
       "version_minor": 0
      },
      "text/plain": [
       "  0%|          | 0/2000 [00:00<?, ?it/s]"
      ]
     },
     "metadata": {},
     "output_type": "display_data"
    },
    {
     "name": "stdout",
     "output_type": "stream",
     "text": [
      "0.09418161972955369 None\n",
      "0.06551509347618138 None\n",
      "0.049741892648208344 None\n",
      "0.03258332534850678 None\n",
      "0.028171494701855496 None\n",
      "0.028394489630499925 None\n",
      "0.03206666677274434 None\n",
      "0.028163640643846466 None\n",
      "0.02839003313401977 None\n",
      "0.02816679110663525 None\n",
      "0.028199269501271447 None\n",
      "0.03590449623403712 None\n",
      "0.028369305639480938 None\n",
      "0.03208861266195474 None\n",
      "0.0322391846948297 None\n",
      "0.02836812861975201 None\n",
      "0.028172277961874378 None\n",
      "0.032073081465086486 None\n",
      "0.02839193528189496 None\n",
      "0.03217573421420507 None\n",
      "0.028383099874348387 None\n"
     ]
    },
    {
     "data": {
      "application/vnd.jupyter.widget-view+json": {
       "model_id": "7372ad8655ed4f80b5a0cf8d5e537d53",
       "version_major": 2,
       "version_minor": 0
      },
      "text/plain": [
       "  0%|          | 0/2000 [00:00<?, ?it/s]"
      ]
     },
     "metadata": {},
     "output_type": "display_data"
    },
    {
     "name": "stdout",
     "output_type": "stream",
     "text": [
      "0.08661033618957 None\n",
      "0.06519350284549542 None\n",
      "0.044590017328165484 None\n",
      "0.02773444544391283 None\n",
      "0.02757603519426249 None\n",
      "0.027577840525488485 None\n",
      "0.027614004270861716 None\n",
      "0.02759296261045979 None\n",
      "0.02758034424647334 None\n",
      "0.027607591295531374 None\n",
      "0.0276061129237285 None\n",
      "0.027564988956138355 None\n",
      "0.027579023665519287 None\n",
      "0.027556917721092596 None\n",
      "0.02758045295421428 None\n",
      "0.02756501375759606 None\n",
      "0.027625573806594007 None\n",
      "0.027579271983651985 None\n",
      "0.02757221859621652 None\n",
      "0.02757542639477988 None\n",
      "0.027573699597339702 None\n"
     ]
    },
    {
     "data": {
      "application/vnd.jupyter.widget-view+json": {
       "model_id": "b4ad2f8cec3f4036aad8fef39ff2f730",
       "version_major": 2,
       "version_minor": 0
      },
      "text/plain": [
       "  0%|          | 0/2000 [00:00<?, ?it/s]"
      ]
     },
     "metadata": {},
     "output_type": "display_data"
    },
    {
     "name": "stdout",
     "output_type": "stream",
     "text": [
      "0.08685745538771941 None\n",
      "0.06102538792196992 None\n",
      "0.03969179934111907 None\n",
      "0.0226279854328818 None\n",
      "0.022598913829705525 None\n",
      "0.026314988489627593 None\n",
      "0.026302431319294127 None\n",
      "0.02243241319565872 None\n",
      "0.02240178785264717 None\n",
      "0.022401233729617973 None\n",
      "0.022438276899353907 None\n",
      "0.022622971993798337 None\n",
      "0.02241171427711828 None\n",
      "0.022420185607830243 None\n",
      "0.02244973408023515 None\n",
      "0.02240956514859091 None\n",
      "0.02241757595392454 None\n",
      "0.026332647207670812 None\n",
      "0.022432340004907486 None\n",
      "0.022442563808949004 None\n",
      "0.022397580430074348 None\n"
     ]
    },
    {
     "data": {
      "application/vnd.jupyter.widget-view+json": {
       "model_id": "09e2e819a33a40258289045855a5090c",
       "version_major": 2,
       "version_minor": 0
      },
      "text/plain": [
       "  0%|          | 0/2000 [00:00<?, ?it/s]"
      ]
     },
     "metadata": {},
     "output_type": "display_data"
    },
    {
     "name": "stdout",
     "output_type": "stream",
     "text": [
      "0.08800299446397211 None\n",
      "0.06200654125703447 None\n",
      "0.04091858620526185 None\n",
      "0.022699849635669463 None\n",
      "0.022625794566503533 None\n",
      "0.02658461776943966 None\n",
      "0.02692491186572701 None\n",
      "0.026876912049853683 None\n",
      "0.026578495377999296 None\n",
      "0.022629119837382302 None\n",
      "0.022673330184154208 None\n",
      "0.02298546547763463 None\n",
      "0.026891860102360193 None\n",
      "0.026570659392005064 None\n",
      "0.022696697610355934 None\n",
      "0.022656667860534642 None\n",
      "0.022902771584512448 None\n",
      "0.02287829941036528 None\n",
      "0.022611913655563212 None\n",
      "0.02287413852936341 None\n",
      "0.022618725225263682 None\n"
     ]
    },
    {
     "data": {
      "application/vnd.jupyter.widget-view+json": {
       "model_id": "15bb68f74f794182821bfd337172dfcb",
       "version_major": 2,
       "version_minor": 0
      },
      "text/plain": [
       "  0%|          | 0/2000 [00:00<?, ?it/s]"
      ]
     },
     "metadata": {},
     "output_type": "display_data"
    },
    {
     "name": "stdout",
     "output_type": "stream",
     "text": [
      "0.0853569527749679 None\n",
      "0.059348031764828224 None\n",
      "0.04124654432929079 None\n",
      "0.01981893017849756 None\n",
      "0.019824534962240917 None\n",
      "0.019823351713542152 None\n",
      "0.023490044004920135 None\n",
      "0.019564554915835995 None\n",
      "0.019563017829561068 None\n",
      "0.019847798563660524 None\n",
      "0.023557727696998147 None\n",
      "0.019547860665870352 None\n",
      "0.019533059364497434 None\n",
      "0.019636807297955097 None\n",
      "0.019553400134061122 None\n",
      "0.019589156863194648 None\n",
      "0.019798053584785837 None\n",
      "0.01954179005770849 None\n",
      "0.023504507897520604 None\n",
      "0.01981275448189317 None\n",
      "0.019563455333587693 None\n"
     ]
    },
    {
     "data": {
      "application/vnd.jupyter.widget-view+json": {
       "model_id": "f37fbaad26e340a1b6bee26e7a1beb77",
       "version_major": 2,
       "version_minor": 0
      },
      "text/plain": [
       "  0%|          | 0/2000 [00:00<?, ?it/s]"
      ]
     },
     "metadata": {},
     "output_type": "display_data"
    },
    {
     "name": "stdout",
     "output_type": "stream",
     "text": [
      "0.08266035446871971 None\n",
      "0.06025704449320022 None\n",
      "0.04205883185954427 None\n",
      "0.020149321655300253 None\n",
      "0.019979468476397904 None\n",
      "0.01993290479592133 None\n",
      "0.019923525722609477 None\n",
      "0.023887344131176227 None\n",
      "0.023939823345732913 None\n",
      "0.01991512561779284 None\n",
      "0.01994771199090187 None\n",
      "0.020011123785536857 None\n",
      "0.023878855963511247 None\n",
      "0.019917918347807293 None\n",
      "0.020221887061894785 None\n",
      "0.023875878688265552 None\n",
      "0.020213689964187556 None\n",
      "0.019943852940401824 None\n",
      "0.020197191434997756 None\n",
      "0.02389807259360987 None\n",
      "0.019914484698861493 None\n"
     ]
    },
    {
     "data": {
      "application/vnd.jupyter.widget-view+json": {
       "model_id": "ba9d55ff456a4477ac9fca591637c4e5",
       "version_major": 2,
       "version_minor": 0
      },
      "text/plain": [
       "  0%|          | 0/2000 [00:00<?, ?it/s]"
      ]
     },
     "metadata": {},
     "output_type": "display_data"
    },
    {
     "name": "stdout",
     "output_type": "stream",
     "text": [
      "0.08507223738272157 None\n",
      "0.05856344227324813 None\n",
      "0.03683587774582125 None\n",
      "0.0193771396708858 None\n",
      "0.019493974887980294 None\n",
      "0.019214340760892443 None\n",
      "0.019223386890186173 None\n",
      "0.01925357654292053 None\n",
      "0.023168999653108348 None\n",
      "0.0194783986799817 None\n",
      "0.023177418223240057 None\n",
      "0.02319369795292909 None\n",
      "0.019233904229273787 None\n",
      "0.019279439322165807 None\n",
      "0.019506472541102028 None\n",
      "0.019211717745978536 None\n",
      "0.019253440807584694 None\n",
      "0.019485357847881128 None\n",
      "0.019214819275338427 None\n",
      "0.019240391039258672 None\n",
      "0.0231801941290885 None\n"
     ]
    },
    {
     "data": {
      "application/vnd.jupyter.widget-view+json": {
       "model_id": "d7739d6257004bb087886dfa5d8440cb",
       "version_major": 2,
       "version_minor": 0
      },
      "text/plain": [
       "  0%|          | 0/2000 [00:00<?, ?it/s]"
      ]
     },
     "metadata": {},
     "output_type": "display_data"
    },
    {
     "name": "stdout",
     "output_type": "stream",
     "text": [
      "0.08606402852317296 None\n",
      "0.05942840937738854 None\n",
      "0.03709286843614338 None\n",
      "0.017936016611372733 None\n",
      "0.017945638373911752 None\n",
      "0.01791269595010017 None\n",
      "0.02188331333709216 None\n",
      "0.01795017585109351 None\n",
      "0.01791679792503019 None\n",
      "0.021864915477394938 None\n",
      "0.01792423740026915 None\n",
      "0.01796770920438935 None\n",
      "0.0179602409627665 None\n",
      "0.021892945062778224 None\n",
      "0.021858382788164866 None\n",
      "0.021860956129044942 None\n",
      "0.017931940623237507 None\n",
      "0.018212538304962216 None\n",
      "0.017967837313644344 None\n",
      "0.017924206713606734 None\n",
      "0.01793727065450775 None\n"
     ]
    },
    {
     "data": {
      "application/vnd.jupyter.widget-view+json": {
       "model_id": "466fad8ee0944cd59670bf85e2a07dd1",
       "version_major": 2,
       "version_minor": 0
      },
      "text/plain": [
       "  0%|          | 0/2000 [00:00<?, ?it/s]"
      ]
     },
     "metadata": {},
     "output_type": "display_data"
    },
    {
     "name": "stdout",
     "output_type": "stream",
     "text": [
      "0.08136982256630776 None\n",
      "0.05857344712459964 None\n",
      "0.03610063596701392 None\n",
      "0.018257488329805442 None\n",
      "0.018104774201700334 None\n",
      "0.018024514684499345 None\n",
      "0.018051279782065707 None\n",
      "0.018030857697683558 None\n",
      "0.01802563034144089 None\n",
      "0.01805042354171248 None\n",
      "0.018092003677805238 None\n",
      "0.018063295193634872 None\n",
      "0.01802519955894599 None\n",
      "0.01806962508541522 None\n",
      "0.018038132103454337 None\n",
      "0.01807190321707214 None\n",
      "0.018031543627802796 None\n",
      "0.018058205004148592 None\n",
      "0.018024771438498875 None\n",
      "0.01806715640780582 None\n",
      "0.0180318085793152 None\n"
     ]
    },
    {
     "data": {
      "application/vnd.jupyter.widget-view+json": {
       "model_id": "f617ea7411ad45dcbf62ae397531abe0",
       "version_major": 2,
       "version_minor": 0
      },
      "text/plain": [
       "  0%|          | 0/2000 [00:00<?, ?it/s]"
      ]
     },
     "metadata": {},
     "output_type": "display_data"
    },
    {
     "name": "stdout",
     "output_type": "stream",
     "text": [
      "0.08032378761980136 None\n",
      "0.05740702325284701 None\n",
      "0.03487986558765667 None\n",
      "0.0200874761599087 None\n",
      "0.016020629310805178 None\n",
      "0.016017924771481395 None\n",
      "0.019989096185142934 None\n",
      "0.016015505436882915 None\n",
      "0.016046264293791062 None\n",
      "0.01605662650597331 None\n",
      "0.019983978637276693 None\n",
      "0.01603899851758109 None\n",
      "0.016048482011390804 None\n",
      "0.01604632862291908 None\n",
      "0.01602759012197267 None\n",
      "0.016015628944414786 None\n",
      "0.01604437911258159 None\n",
      "0.016019040999524205 None\n",
      "0.01999694344884983 None\n",
      "0.01605719841977147 None\n",
      "0.01603916792602778 None\n"
     ]
    },
    {
     "data": {
      "application/vnd.jupyter.widget-view+json": {
       "model_id": "41cbce526e384dd39f24b7ce42a5cc69",
       "version_major": 2,
       "version_minor": 0
      },
      "text/plain": [
       "  0%|          | 0/2000 [00:00<?, ?it/s]"
      ]
     },
     "metadata": {},
     "output_type": "display_data"
    },
    {
     "name": "stdout",
     "output_type": "stream",
     "text": [
      "0.07982125176348705 None\n",
      "0.0568780824094206 None\n",
      "0.03423919057182126 None\n",
      "0.01644234684843484 None\n",
      "0.016151511355372093 None\n",
      "0.016425423526359388 None\n",
      "0.016140273614819144 None\n",
      "0.016136990300821497 None\n",
      "0.020166723176405152 None\n",
      "0.020123995795816408 None\n",
      "0.016189687009168226 None\n",
      "0.01645151238009128 None\n",
      "0.016230271759369905 None\n",
      "0.020120361805504507 None\n",
      "0.01641617302456725 None\n",
      "0.01617258550168756 None\n",
      "0.016136289333611588 None\n",
      "0.016408601240200247 None\n",
      "0.016150165418067818 None\n",
      "0.020081662924222615 None\n",
      "0.02010576459378485 None\n",
      "Done!\n"
     ]
    }
   ],
   "source": [
    "distance_best, model_best = optimize_annulus_distance(spectrum_target = spectrum1, \n",
    "                                                      d = d, \n",
    "                                                      rank_start = 1, \n",
    "                                                      rank_step = 1,\n",
    "                                                      num_iter = 2000)\n",
    "\n",
    "model_best.optimizer = None\n",
    "saver([distance_best, model_best], data_path(\"diluted_fitting_4qubit_8layer.model\"))"
   ]
  },
  {
   "cell_type": "code",
   "execution_count": 57,
   "metadata": {},
   "outputs": [
    {
     "data": {
      "application/vnd.jupyter.widget-view+json": {
       "model_id": "40e0909c46a94f33ac3cbcac6d2fd401",
       "version_major": 2,
       "version_minor": 0
      },
      "text/plain": [
       "  0%|          | 0/2000 [00:00<?, ?it/s]"
      ]
     },
     "metadata": {},
     "output_type": "display_data"
    },
    {
     "name": "stdout",
     "output_type": "stream",
     "text": [
      "0.22495338925379235 None\n",
      "0.20592291881023472 None\n",
      "0.17939011477342898 None\n",
      "0.1573734219386585 None\n",
      "0.136064922073722 None\n",
      "0.11964866619940799 None\n",
      "0.09654669927268086 None\n",
      "0.07851703173199197 None\n",
      "0.06568223500730272 None\n",
      "0.050140277118375196 None\n",
      "0.04032028170352006 None\n",
      "0.03630860085017336 None\n",
      "0.04021022967868427 None\n",
      "0.03629672094697175 None\n",
      "0.036309394301381304 None\n",
      "0.04026547313117041 None\n",
      "0.044217205052159786 None\n",
      "0.040217734037054934 None\n",
      "0.03629887882969353 None\n",
      "0.04025293187235309 None\n",
      "0.04030593114461766 None\n"
     ]
    },
    {
     "data": {
      "application/vnd.jupyter.widget-view+json": {
       "model_id": "2fdfeacb72e64c7d8f0581319321386e",
       "version_major": 2,
       "version_minor": 0
      },
      "text/plain": [
       "  0%|          | 0/2000 [00:00<?, ?it/s]"
      ]
     },
     "metadata": {},
     "output_type": "display_data"
    },
    {
     "name": "stdout",
     "output_type": "stream",
     "text": [
      "0.2268853171640712 None\n",
      "0.20399710057174714 None\n",
      "0.18143608437148642 None\n",
      "0.15939381984345483 None\n",
      "0.13806559164728646 None\n",
      "0.12162355317000981 None\n",
      "0.1023274906573512 None\n",
      "0.08040400903853553 None\n",
      "0.06378773580322676 None\n",
      "0.048433834281983834 None\n",
      "0.036930033134527515 None\n",
      "0.03685794075527968 None\n",
      "0.036861679702227916 None\n",
      "0.0368374751409416 None\n",
      "0.03683403549282919 None\n",
      "0.0368342027290835 None\n",
      "0.0368336313852852 None\n",
      "0.0368540444508474 None\n",
      "0.0368470138480476 None\n",
      "0.03684732025736097 None\n",
      "0.036864013384083426 None\n"
     ]
    },
    {
     "data": {
      "application/vnd.jupyter.widget-view+json": {
       "model_id": "609a53f4c7ea406995b42533407ab56f",
       "version_major": 2,
       "version_minor": 0
      },
      "text/plain": [
       "  0%|          | 0/2000 [00:00<?, ?it/s]"
      ]
     },
     "metadata": {},
     "output_type": "display_data"
    },
    {
     "name": "stdout",
     "output_type": "stream",
     "text": [
      "0.22503569584461208 None\n",
      "0.20598266740213053 None\n",
      "0.17946849535824713 None\n",
      "0.16132442233371447 None\n",
      "0.13989864536254487 None\n",
      "0.11535952395674094 None\n",
      "0.09983750467480339 None\n",
      "0.07756414505922739 None\n",
      "0.06485681059652798 None\n",
      "0.04566093230662733 None\n",
      "0.03597799576287408 None\n",
      "0.03599617981567301 None\n",
      "0.039931649201563994 None\n",
      "0.03596458920743151 None\n",
      "0.035979474687773315 None\n",
      "0.03595878457811871 None\n",
      "0.03992436881004202 None\n",
      "0.03595546524416707 None\n",
      "0.03992067068112597 None\n",
      "0.0399049425538989 None\n",
      "0.03601037878360426 None\n"
     ]
    },
    {
     "data": {
      "application/vnd.jupyter.widget-view+json": {
       "model_id": "7dfb62f7275f47bab8a5b6f6536ed346",
       "version_major": 2,
       "version_minor": 0
      },
      "text/plain": [
       "  0%|          | 0/2000 [00:00<?, ?it/s]"
      ]
     },
     "metadata": {},
     "output_type": "display_data"
    },
    {
     "name": "stdout",
     "output_type": "stream",
     "text": [
      "0.2256539502081373 None\n",
      "0.20259282357158573 None\n",
      "0.17977689738157773 None\n",
      "0.15741128241180577 None\n",
      "0.13967964673621502 None\n",
      "0.11900500496129314 None\n",
      "0.09541870114525292 None\n",
      "0.07679285300866612 None\n",
      "0.06337781862003758 None\n",
      "0.043482911653686694 None\n",
      "0.033227730212697246 None\n",
      "0.03320257979906937 None\n",
      "0.03713580082985201 None\n",
      "0.033199303730979096 None\n",
      "0.03713271348583929 None\n",
      "0.037123873896245316 None\n",
      "0.03713676597912809 None\n",
      "0.03318179341397537 None\n",
      "0.03318515622391901 None\n",
      "0.03711564605053393 None\n",
      "0.03715354183653721 None\n"
     ]
    },
    {
     "data": {
      "application/vnd.jupyter.widget-view+json": {
       "model_id": "13fc56659688487c95d5201da700aed1",
       "version_major": 2,
       "version_minor": 0
      },
      "text/plain": [
       "  0%|          | 0/2000 [00:00<?, ?it/s]"
      ]
     },
     "metadata": {},
     "output_type": "display_data"
    },
    {
     "name": "stdout",
     "output_type": "stream",
     "text": [
      "0.22474089161716557 None\n",
      "0.20165830392655879 None\n",
      "0.1788671643077602 None\n",
      "0.15653476582107573 None\n",
      "0.13498425970142358 None\n",
      "0.11437671897281124 None\n",
      "0.09871914702659747 None\n",
      "0.07623043874716921 None\n",
      "0.0628826047019424 None\n",
      "0.04310831336025709 None\n",
      "0.03704011958104126 None\n",
      "0.03700594242020562 None\n",
      "0.03309447970896812 None\n",
      "0.033045893850181876 None\n",
      "0.03699523326328252 None\n",
      "0.03699451499326027 None\n",
      "0.03305749970973098 None\n",
      "0.03702362679087937 None\n",
      "0.03304656707663273 None\n",
      "0.03699993659066446 None\n",
      "0.036974122617616755 None\n"
     ]
    },
    {
     "data": {
      "application/vnd.jupyter.widget-view+json": {
       "model_id": "9e7823354a104644ad1032de820d0894",
       "version_major": 2,
       "version_minor": 0
      },
      "text/plain": [
       "  0%|          | 0/2000 [00:00<?, ?it/s]"
      ]
     },
     "metadata": {},
     "output_type": "display_data"
    },
    {
     "name": "stdout",
     "output_type": "stream",
     "text": [
      "0.2289908791480798 None\n",
      "0.20199763218886638 None\n",
      "0.17921091466624614 None\n",
      "0.16084212608621495 None\n",
      "0.13522319041854008 None\n",
      "0.11836750377427284 None\n",
      "0.09857373784003132 None\n",
      "0.07990877055425984 None\n",
      "0.06244363408830408 None\n",
      "0.04222503784957308 None\n",
      "0.036157367211804445 None\n",
      "0.036030604094970956 None\n",
      "0.03208492865714645 None\n",
      "0.04005137703677311 None\n",
      "0.03606915873852775 None\n",
      "0.0360613304480903 None\n",
      "0.0400749919657455 None\n",
      "0.036046264085851 None\n",
      "0.036026633409423345 None\n",
      "0.032090329614824144 None\n",
      "0.036041575311523785 None\n"
     ]
    },
    {
     "data": {
      "application/vnd.jupyter.widget-view+json": {
       "model_id": "49aca04c9a594c8795587ccadf4f1127",
       "version_major": 2,
       "version_minor": 0
      },
      "text/plain": [
       "  0%|          | 0/2000 [00:00<?, ?it/s]"
      ]
     },
     "metadata": {},
     "output_type": "display_data"
    },
    {
     "name": "stdout",
     "output_type": "stream",
     "text": [
      "0.2251700619734218 None\n",
      "0.20604270705350794 None\n",
      "0.18321803716278118 None\n",
      "0.16099335399335019 None\n",
      "0.1355008253611682 None\n",
      "0.11470616784930804 None\n",
      "0.09482023744313434 None\n",
      "0.07591332032492475 None\n",
      "0.06194147046318857 None\n",
      "0.04578539341733115 None\n",
      "0.03264932221605353 None\n",
      "0.032656361097427894 None\n",
      "0.032644716114190196 None\n",
      "0.036597472227399626 None\n",
      "0.03264614383352671 None\n",
      "0.032645832358768306 None\n",
      "0.03264281117538135 None\n",
      "0.03264733836403127 None\n",
      "0.03269698607432428 None\n",
      "0.032664392942433326 None\n",
      "0.032659057128462066 None\n"
     ]
    },
    {
     "data": {
      "application/vnd.jupyter.widget-view+json": {
       "model_id": "f7cec936c9f04c83a97fa3dc301e4e47",
       "version_major": 2,
       "version_minor": 0
      },
      "text/plain": [
       "  0%|          | 0/2000 [00:00<?, ?it/s]"
      ]
     },
     "metadata": {},
     "output_type": "display_data"
    },
    {
     "name": "stdout",
     "output_type": "stream",
     "text": [
      "0.22926140632009967 None\n",
      "0.20224860081421536 None\n",
      "0.1794013821194206 None\n",
      "0.15704532864421428 None\n",
      "0.13537201662752998 None\n",
      "0.11448672379171716 None\n",
      "0.09451315039649735 None\n",
      "0.07551938127677757 None\n",
      "0.05758412494175695 None\n",
      "0.04083304181703469 None\n",
      "0.035731714041591124 None\n",
      "0.03566970941363467 None\n",
      "0.03574387376706437 None\n",
      "0.031728022251703736 None\n",
      "0.03175316084835598 None\n",
      "0.03566600442255204 None\n",
      "0.03565500211062086 None\n",
      "0.03173737294867604 None\n",
      "0.03567192752180292 None\n",
      "0.03567111862333116 None\n",
      "0.03565629985041485 None\n"
     ]
    },
    {
     "data": {
      "application/vnd.jupyter.widget-view+json": {
       "model_id": "65db4a88964e46928234c95ef00b02f1",
       "version_major": 2,
       "version_minor": 0
      },
      "text/plain": [
       "  0%|          | 0/2000 [00:00<?, ?it/s]"
      ]
     },
     "metadata": {},
     "output_type": "display_data"
    },
    {
     "name": "stdout",
     "output_type": "stream",
     "text": [
      "0.2250746378728457 None\n",
      "0.2019510863658441 None\n",
      "0.17904538277994048 None\n",
      "0.15655053546586162 None\n",
      "0.13468992740711772 None\n",
      "0.11364390116333731 None\n",
      "0.0935212919151603 None\n",
      "0.07439138120959078 None\n",
      "0.05643642898768477 None\n",
      "0.03963913315757133 None\n",
      "0.03529005314535409 None\n",
      "0.035226597208684665 None\n",
      "0.03916132738820293 None\n",
      "0.031256392886886475 None\n",
      "0.031256068993637365 None\n",
      "0.0312659226601944 None\n",
      "0.03516543744716672 None\n",
      "0.03517774234181919 None\n",
      "0.03520476938097892 None\n",
      "0.031299391687512154 None\n",
      "0.03130389468504964 None\n"
     ]
    },
    {
     "data": {
      "application/vnd.jupyter.widget-view+json": {
       "model_id": "c927fe5513114071925301876da42669",
       "version_major": 2,
       "version_minor": 0
      },
      "text/plain": [
       "  0%|          | 0/2000 [00:00<?, ?it/s]"
      ]
     },
     "metadata": {},
     "output_type": "display_data"
    },
    {
     "name": "stdout",
     "output_type": "stream",
     "text": [
      "0.22417374582383912 None\n",
      "0.20101237780088638 None\n",
      "0.17806251206480067 None\n",
      "0.1555059454962277 None\n",
      "0.13352685285416185 None\n",
      "0.11643282405430323 None\n",
      "0.09235940519199712 None\n",
      "0.07720320697030217 None\n",
      "0.059048512178309406 None\n",
      "0.03811320679542142 None\n",
      "0.02932919441788309 None\n",
      "0.029339777969137955 None\n",
      "0.02933363929237526 None\n",
      "0.029342375941958203 None\n",
      "0.029318465857474878 None\n",
      "0.02934943524413568 None\n",
      "0.029435120725813547 None\n",
      "0.029359959267704062 None\n",
      "0.02932260841640444 None\n",
      "0.029420515686272596 None\n",
      "0.02932473275902851 None\n"
     ]
    },
    {
     "data": {
      "application/vnd.jupyter.widget-view+json": {
       "model_id": "2e5d71b05e2c4a1393ba557847d35b2d",
       "version_major": 2,
       "version_minor": 0
      },
      "text/plain": [
       "  0%|          | 0/2000 [00:00<?, ?it/s]"
      ]
     },
     "metadata": {},
     "output_type": "display_data"
    },
    {
     "name": "stdout",
     "output_type": "stream",
     "text": [
      "0.2245252529399885 None\n",
      "0.20134750243887006 None\n",
      "0.1784143973604095 None\n",
      "0.1559038978931286 None\n",
      "0.1339919386934055 None\n",
      "0.11293646639484693 None\n",
      "0.09278691340908365 None\n",
      "0.07760556296054605 None\n",
      "0.05566411309754934 None\n",
      "0.03892117255724433 None\n",
      "0.03441566824196974 None\n",
      "0.03439530946330886 None\n",
      "0.03438627956375046 None\n",
      "0.03046776705828532 None\n",
      "0.0304599672269053 None\n",
      "0.030483871215325527 None\n",
      "0.03046618807195068 None\n",
      "0.030460533404443067 None\n",
      "0.0344089240581975 None\n",
      "0.030465599101836313 None\n",
      "0.03051174168119342 None\n",
      "Done!\n"
     ]
    }
   ],
   "source": [
    "[distance_best, model_best] = loader(data_path(\"diluted_fitting_4qubit_8layer.model\"))\n",
    "rank_start = model_best.channel.rank\n",
    "\n",
    "distance_best, model_best = optimize_annulus_distance(spectrum_target = spectrum2, \n",
    "                                                      d = d, \n",
    "                                                      rank_start = rank_start, \n",
    "                                                      rank_step = 1,\n",
    "                                                      num_iter = 2000)\n",
    "\n",
    "model_best.optimizer = None\n",
    "saver([distance_best, model_best], data_path(\"diluted_fitting_4qubit_16layer.model\"))"
   ]
  },
  {
   "cell_type": "code",
   "execution_count": 58,
   "metadata": {},
   "outputs": [
    {
     "data": {
      "application/vnd.jupyter.widget-view+json": {
       "model_id": "f5a6574736434f978d7b6baecc6b8790",
       "version_major": 2,
       "version_minor": 0
      },
      "text/plain": [
       "  0%|          | 0/2000 [00:00<?, ?it/s]"
      ]
     },
     "metadata": {},
     "output_type": "display_data"
    },
    {
     "name": "stdout",
     "output_type": "stream",
     "text": [
      "0.34522338875503794 None\n",
      "0.32212897969342263 None\n",
      "0.2992728084816191 None\n",
      "0.27683985942128303 None\n",
      "0.25500983394038784 None\n",
      "0.23400498035396708 None\n",
      "0.2178835036358735 None\n",
      "0.19511849730595623 None\n",
      "0.18126824002677247 None\n",
      "0.1645409424318744 None\n",
      "0.1494530129340183 None\n",
      "0.13539211416465977 None\n",
      "0.12273039155766909 None\n",
      "0.11173843972770817 None\n",
      "0.09790395198932274 None\n",
      "0.09671884248208724 None\n",
      "0.0853814741063227 None\n",
      "0.08254087736273824 None\n",
      "0.0761964804122462 None\n",
      "0.06678643042802705 None\n",
      "0.058328831776440195 None\n"
     ]
    },
    {
     "data": {
      "application/vnd.jupyter.widget-view+json": {
       "model_id": "5285440164aa4384aa617d0af186232c",
       "version_major": 2,
       "version_minor": 0
      },
      "text/plain": [
       "  0%|          | 0/2000 [00:00<?, ?it/s]"
      ]
     },
     "metadata": {},
     "output_type": "display_data"
    },
    {
     "name": "stdout",
     "output_type": "stream",
     "text": [
      "0.3440000704865079 None\n",
      "0.3208596819617661 None\n",
      "0.2979494187371577 None\n",
      "0.2754768138065374 None\n",
      "0.2536331056652528 None\n",
      "0.23255692840561407 None\n",
      "0.2160859194721695 None\n",
      "0.19710592742829672 None\n",
      "0.17891288832433883 None\n",
      "0.16214561997830804 None\n",
      "0.15454863340450906 None\n",
      "0.13281195959836306 None\n",
      "0.1240790579695324 None\n",
      "0.10493239932608624 None\n",
      "0.09830800304084672 None\n",
      "0.08521836626760618 None\n",
      "0.08086051029376377 None\n",
      "0.07355267196992288 None\n",
      "0.06369619237405924 None\n",
      "0.06326627434231716 None\n",
      "0.06079708754702594 None\n"
     ]
    },
    {
     "data": {
      "application/vnd.jupyter.widget-view+json": {
       "model_id": "6fd45058ae2040a09daccae108b24072",
       "version_major": 2,
       "version_minor": 0
      },
      "text/plain": [
       "  0%|          | 0/2000 [00:00<?, ?it/s]"
      ]
     },
     "metadata": {},
     "output_type": "display_data"
    },
    {
     "name": "stdout",
     "output_type": "stream",
     "text": [
      "0.3422207901372504 None\n",
      "0.322730184747563 None\n",
      "0.2997916682279537 None\n",
      "0.27744517972311156 None\n",
      "0.25159912767439085 None\n",
      "0.2304051577571365 None\n",
      "0.2101253924120766 None\n",
      "0.1909047338578037 None\n",
      "0.17279012557700837 None\n",
      "0.15577082409862283 None\n",
      "0.13990299084484553 None\n",
      "0.12908345801735938 None\n",
      "0.11584475808665685 None\n",
      "0.10018913545440088 None\n",
      "0.08970847156059152 None\n",
      "0.08028600217921437 None\n",
      "0.07213489352736838 None\n",
      "0.06898630858230219 None\n",
      "0.059503407455450665 None\n",
      "0.05360803948594324 None\n",
      "0.055625320851710264 None\n"
     ]
    },
    {
     "data": {
      "application/vnd.jupyter.widget-view+json": {
       "model_id": "e8f784b79afe4486bc52c2f874345bc8",
       "version_major": 2,
       "version_minor": 0
      },
      "text/plain": [
       "  0%|          | 0/2000 [00:00<?, ?it/s]"
      ]
     },
     "metadata": {},
     "output_type": "display_data"
    },
    {
     "name": "stdout",
     "output_type": "stream",
     "text": [
      "0.34321351674416856 None\n",
      "0.32002113444832553 None\n",
      "0.29706076634317125 None\n",
      "0.2745356272270154 None\n",
      "0.2526005777356702 None\n",
      "0.23145950269846063 None\n",
      "0.21130829871070012 None\n",
      "0.19219327953669252 None\n",
      "0.17417441377291965 None\n",
      "0.15738334935452444 None\n",
      "0.14174085863295768 None\n",
      "0.13110586503595847 None\n",
      "0.11422852574964934 None\n",
      "0.10219419036773619 None\n",
      "0.09538835142368185 None\n",
      "0.0856854598590469 None\n",
      "0.07329278134387164 None\n",
      "0.06595698553238281 None\n",
      "0.06343827754054199 None\n",
      "0.06206956648610086 None\n",
      "0.06044825900700968 None\n"
     ]
    },
    {
     "data": {
      "application/vnd.jupyter.widget-view+json": {
       "model_id": "81b5b61f3c834084a2160904623b84ef",
       "version_major": 2,
       "version_minor": 0
      },
      "text/plain": [
       "  0%|          | 0/2000 [00:00<?, ?it/s]"
      ]
     },
     "metadata": {},
     "output_type": "display_data"
    },
    {
     "name": "stdout",
     "output_type": "stream",
     "text": [
      "0.343102198536908 None\n",
      "0.31997396615896306 None\n",
      "0.2970781162934043 None\n",
      "0.27461117693599896 None\n",
      "0.2527341252776529 None\n",
      "0.231644714771553 None\n",
      "0.21144923189061293 None\n",
      "0.1922414620864153 None\n",
      "0.17411765484773126 None\n",
      "0.15720083808606064 None\n",
      "0.14141158244276225 None\n",
      "0.13427212043512007 None\n",
      "0.11704513915373639 None\n",
      "0.10838155362520437 None\n",
      "0.09358782945234813 None\n",
      "0.0837223753348557 None\n",
      "0.07498832707983301 None\n",
      "0.06724829091359713 None\n",
      "0.06055654115122814 None\n",
      "0.05469568700132827 None\n",
      "0.05422547702542317 None\n"
     ]
    },
    {
     "data": {
      "application/vnd.jupyter.widget-view+json": {
       "model_id": "a86cb2af789d4fdda45725c4688c7175",
       "version_major": 2,
       "version_minor": 0
      },
      "text/plain": [
       "  0%|          | 0/2000 [00:00<?, ?it/s]"
      ]
     },
     "metadata": {},
     "output_type": "display_data"
    },
    {
     "name": "stdout",
     "output_type": "stream",
     "text": [
      "0.34719286149993167 None\n",
      "0.324015580316598 None\n",
      "0.30104871724046134 None\n",
      "0.27868850101426373 None\n",
      "0.2528519293299783 None\n",
      "0.2316385849252494 None\n",
      "0.2113043149590487 None\n",
      "0.19585606998233926 None\n",
      "0.1737520910191381 None\n",
      "0.15676291838489284 None\n",
      "0.140979886087016 None\n",
      "0.1299913563071969 None\n",
      "0.11263736545934667 None\n",
      "0.10030074485796843 None\n",
      "0.08905755581533528 None\n",
      "0.0791114426474784 None\n",
      "0.07041612610591266 None\n",
      "0.0667255510674275 None\n",
      "0.06445417555875534 None\n",
      "0.050793241257077265 None\n",
      "0.0582224575265608 None\n"
     ]
    },
    {
     "data": {
      "application/vnd.jupyter.widget-view+json": {
       "model_id": "d10a4348924c42fd998c28320c93e36f",
       "version_major": 2,
       "version_minor": 0
      },
      "text/plain": [
       "  0%|          | 0/2000 [00:00<?, ?it/s]"
      ]
     },
     "metadata": {},
     "output_type": "display_data"
    },
    {
     "name": "stdout",
     "output_type": "stream",
     "text": [
      "0.345904650608911 None\n",
      "0.3224821020255033 None\n",
      "0.29947221015672626 None\n",
      "0.27685915079816054 None\n",
      "0.25110338719636427 None\n",
      "0.22979671376223937 None\n",
      "0.21308693081468713 None\n",
      "0.19366347460909356 None\n",
      "0.17529496972832848 None\n",
      "0.15433054605455215 None\n",
      "0.14190792884818623 None\n",
      "0.12719114450991276 None\n",
      "0.11328338119617047 None\n",
      "0.09691449878754138 None\n",
      "0.08542739848822235 None\n",
      "0.07608325856067565 None\n",
      "0.067679116887546 None\n",
      "0.060042326308024606 None\n",
      "0.05746950085605528 None\n",
      "0.04811607412975298 None\n",
      "0.05206256252697154 None\n"
     ]
    },
    {
     "data": {
      "application/vnd.jupyter.widget-view+json": {
       "model_id": "77c09d5995b549cf9e526dbf03efadf1",
       "version_major": 2,
       "version_minor": 0
      },
      "text/plain": [
       "  0%|          | 0/2000 [00:00<?, ?it/s]"
      ]
     },
     "metadata": {},
     "output_type": "display_data"
    },
    {
     "name": "stdout",
     "output_type": "stream",
     "text": [
      "0.34225602954444984 None\n",
      "0.3190753258390167 None\n",
      "0.29612744411291325 None\n",
      "0.27360614153361507 None\n",
      "0.2516899275366446 None\n",
      "0.23055616231397988 None\n",
      "0.21026749419176638 None\n",
      "0.19470525638334765 None\n",
      "0.1765019090650759 None\n",
      "0.15570372524637885 None\n",
      "0.14365388162341805 None\n",
      "0.1289401902720635 None\n",
      "0.11163382868583399 None\n",
      "0.10312732242703086 None\n",
      "0.0922622176294622 None\n",
      "0.08610471331435887 None\n",
      "0.06993071313638034 None\n",
      "0.06283188291927715 None\n",
      "0.05653426321715595 None\n",
      "0.05930465501833346 None\n",
      "0.05923185705520085 None\n"
     ]
    },
    {
     "data": {
      "application/vnd.jupyter.widget-view+json": {
       "model_id": "f591156535cd4795855bf465a1dc47af",
       "version_major": 2,
       "version_minor": 0
      },
      "text/plain": [
       "  0%|          | 0/2000 [00:00<?, ?it/s]"
      ]
     },
     "metadata": {},
     "output_type": "display_data"
    },
    {
     "name": "stdout",
     "output_type": "stream",
     "text": [
      "0.34313570764459245 None\n",
      "0.3238349314944129 None\n",
      "0.3008624979204487 None\n",
      "0.2781146776039342 None\n",
      "0.25244713389336904 None\n",
      "0.23126342367352418 None\n",
      "0.2109802218408208 None\n",
      "0.19164514815053244 None\n",
      "0.17702189687375894 None\n",
      "0.16002027916634748 None\n",
      "0.1400924364100001 None\n",
      "0.12884210525080675 None\n",
      "0.11530312026272584 None\n",
      "0.10264378805523822 None\n",
      "0.09114856780849989 None\n",
      "0.08079537625383479 None\n",
      "0.06794622095269406 None\n",
      "0.06377403838824497 None\n",
      "0.05699501975162755 None\n",
      "0.052484795180429 None\n",
      "0.05247758106519796 None\n",
      "Done!\n"
     ]
    }
   ],
   "source": [
    "[distance_best, model_best] = loader(data_path(\"diluted_fitting_4qubit_16layer.model\"))\n",
    "rank_start = model_best.channel.rank\n",
    "\n",
    "distance_best, model_best = optimize_annulus_distance(spectrum_target = spectrum3, \n",
    "                                                      d = d, \n",
    "                                                      rank_start = rank_start, \n",
    "                                                      rank_step = 1,\n",
    "                                                      num_iter = 2000)\n",
    "\n",
    "model_best.optimizer = None\n",
    "saver([distance_best, model_best], data_path(\"diluted_fitting_4qubit_24layer.model\"))"
   ]
  },
  {
   "cell_type": "code",
   "execution_count": 59,
   "metadata": {},
   "outputs": [
    {
     "data": {
      "application/vnd.jupyter.widget-view+json": {
       "model_id": "3b568573d1dd41199b87ea4529dd36e9",
       "version_major": 2,
       "version_minor": 0
      },
      "text/plain": [
       "  0%|          | 0/2000 [00:00<?, ?it/s]"
      ]
     },
     "metadata": {},
     "output_type": "display_data"
    },
    {
     "name": "stdout",
     "output_type": "stream",
     "text": [
      "0.40793744070169036 None\n",
      "0.3848022357788403 None\n",
      "0.36189851444793036 None\n",
      "0.3394109718346353 None\n",
      "0.317460224094706 None\n",
      "0.29618913822002774 None\n",
      "0.27582464542645735 None\n",
      "0.256454887099798 None\n",
      "0.23809747013756044 None\n",
      "0.22082017132890866 None\n",
      "0.2047192756694338 None\n",
      "0.18989249328612492 None\n",
      "0.176319246763437 None\n",
      "0.16394648359844488 None\n",
      "0.15267130835184864 None\n",
      "0.14251134076490107 None\n",
      "0.13348113594368055 None\n",
      "0.12551886378834604 None\n",
      "0.11884985179565843 None\n",
      "0.11329617900946445 None\n",
      "0.1079855741152636 None\n"
     ]
    },
    {
     "data": {
      "application/vnd.jupyter.widget-view+json": {
       "model_id": "0f051f81097247fb84b431421677b033",
       "version_major": 2,
       "version_minor": 0
      },
      "text/plain": [
       "  0%|          | 0/2000 [00:00<?, ?it/s]"
      ]
     },
     "metadata": {},
     "output_type": "display_data"
    },
    {
     "name": "stdout",
     "output_type": "stream",
     "text": [
      "0.4071467183598084 None\n",
      "0.383969075037464 None\n",
      "0.36102255645048376 None\n",
      "0.33850134048052544 None\n",
      "0.3204730884203261 None\n",
      "0.29927781813227217 None\n",
      "0.2759354790690611 None\n",
      "0.2557325079951979 None\n",
      "0.23834126634231212 None\n",
      "0.22035188307682052 None\n",
      "0.20446498572532665 None\n",
      "0.19366178790620076 None\n",
      "0.18021409458181883 None\n",
      "0.1641642013291556 None\n",
      "0.15316054007677224 None\n",
      "0.1509322417776439 None\n",
      "0.1383645107314923 None\n",
      "0.13430676387314144 None\n",
      "0.11990423966943788 None\n",
      "0.1145988027175991 None\n",
      "0.10835439237620467 None\n"
     ]
    },
    {
     "data": {
      "application/vnd.jupyter.widget-view+json": {
       "model_id": "9e2c4b0982ce465a9f21336aa463efdd",
       "version_major": 2,
       "version_minor": 0
      },
      "text/plain": [
       "  0%|          | 0/2000 [00:00<?, ?it/s]"
      ]
     },
     "metadata": {},
     "output_type": "display_data"
    },
    {
     "name": "stdout",
     "output_type": "stream",
     "text": [
      "0.4091589120981324 None\n",
      "0.3868597195192775 None\n",
      "0.3630212839136971 None\n",
      "0.3404547087264847 None\n",
      "0.3193489942788939 None\n",
      "0.29726935649487307 None\n",
      "0.28083351818454394 None\n",
      "0.26146000459092444 None\n",
      "0.24310952095413835 None\n",
      "0.22203736803475446 None\n",
      "0.2099536532738017 None\n",
      "0.19129422408189745 None\n",
      "0.17768695114734012 None\n",
      "0.1652651708961571 None\n",
      "0.1578251442239589 None\n",
      "0.1514487223685897 None\n",
      "0.13847510974254576 None\n",
      "0.12657521334691463 None\n",
      "0.12332379161416954 None\n",
      "0.11424204701400505 None\n",
      "0.10795900742916294 None\n"
     ]
    },
    {
     "data": {
      "application/vnd.jupyter.widget-view+json": {
       "model_id": "06deabb441534618b20d96046da99e70",
       "version_major": 2,
       "version_minor": 0
      },
      "text/plain": [
       "  0%|          | 0/2000 [00:00<?, ?it/s]"
      ]
     },
     "metadata": {},
     "output_type": "display_data"
    },
    {
     "name": "stdout",
     "output_type": "stream",
     "text": [
      "0.4065711299319316 None\n",
      "0.3834224151275057 None\n",
      "0.36049294657173514 None\n",
      "0.33797586840877747 None\n",
      "0.31605949800741884 None\n",
      "0.2948876001853748 None\n",
      "0.2746192776826558 None\n",
      "0.25533085841051056 None\n",
      "0.23713815467017144 None\n",
      "0.2208646921412958 None\n",
      "0.20400692706737958 None\n",
      "0.19317782671946698 None\n",
      "0.17577831586266413 None\n",
      "0.16339534955490898 None\n",
      "0.15293239508221368 None\n",
      "0.14952117392562783 None\n",
      "0.13335685859479657 None\n",
      "0.12523701045560082 None\n",
      "0.11820237132870362 None\n",
      "0.11185595728486178 None\n",
      "0.1056144162482399 None\n"
     ]
    },
    {
     "data": {
      "application/vnd.jupyter.widget-view+json": {
       "model_id": "d8e351e21a704e04bfe58c7c765235f8",
       "version_major": 2,
       "version_minor": 0
      },
      "text/plain": [
       "  0%|          | 0/2000 [00:00<?, ?it/s]"
      ]
     },
     "metadata": {},
     "output_type": "display_data"
    },
    {
     "name": "stdout",
     "output_type": "stream",
     "text": [
      "0.40830008593016204 None\n",
      "0.3851116897668538 None\n",
      "0.36214372834515685 None\n",
      "0.3395892411971416 None\n",
      "0.3176101935651309 None\n",
      "0.29636386649801993 None\n",
      "0.27596098776177547 None\n",
      "0.25648820097849784 None\n",
      "0.23802392689266003 None\n",
      "0.22068768901337182 None\n",
      "0.2045458416104369 None\n",
      "0.1896766323786403 None\n",
      "0.17583940144338542 None\n",
      "0.16299290057382948 None\n",
      "0.155955370807374 None\n",
      "0.14061774282214526 None\n",
      "0.1312059588445196 None\n",
      "0.12371758291159833 None\n",
      "0.11567831811730463 None\n",
      "0.11324465917164535 None\n",
      "0.10455361642505001 None\n"
     ]
    },
    {
     "data": {
      "application/vnd.jupyter.widget-view+json": {
       "model_id": "3fc938ef4e424758a6c6cb58446cffa8",
       "version_major": 2,
       "version_minor": 0
      },
      "text/plain": [
       "  0%|          | 0/2000 [00:00<?, ?it/s]"
      ]
     },
     "metadata": {},
     "output_type": "display_data"
    },
    {
     "name": "stdout",
     "output_type": "stream",
     "text": [
      "0.4088094734572966 None\n",
      "0.3856082055046681 None\n",
      "0.3626184891137986 None\n",
      "0.34003218638866045 None\n",
      "0.318040956683106 None\n",
      "0.3006679245152009 None\n",
      "0.2840576781455828 None\n",
      "0.2568521176352087 None\n",
      "0.23930782039855203 None\n",
      "0.22199273879676232 None\n",
      "0.2050160358301488 None\n",
      "0.19012201667031642 None\n",
      "0.17637021870996827 None\n",
      "0.16377138770929003 None\n",
      "0.1570003314033336 None\n",
      "0.1427124915150574 None\n",
      "0.1363625542592929 None\n",
      "0.12810731720544424 None\n",
      "0.11696506671983047 None\n",
      "0.11069231465131033 None\n",
      "0.10519779038046964 None\n"
     ]
    },
    {
     "data": {
      "application/vnd.jupyter.widget-view+json": {
       "model_id": "148ef1a37d1249b99ea580752426cfed",
       "version_major": 2,
       "version_minor": 0
      },
      "text/plain": [
       "  0%|          | 0/2000 [00:00<?, ?it/s]"
      ]
     },
     "metadata": {},
     "output_type": "display_data"
    },
    {
     "name": "stdout",
     "output_type": "stream",
     "text": [
      "0.40714279552993937 None\n",
      "0.3839344606856687 None\n",
      "0.36093046024307746 None\n",
      "0.33831890300026785 None\n",
      "0.3162754139117151 None\n",
      "0.2950001878541118 None\n",
      "0.27847214186539093 None\n",
      "0.25509845889466787 None\n",
      "0.236691843960138 None\n",
      "0.2194155030593893 None\n",
      "0.20415065566317114 None\n",
      "0.1882566673628162 None\n",
      "0.17527847310213726 None\n",
      "0.16172078322917735 None\n",
      "0.1502022229267865 None\n",
      "0.1408161010219375 None\n",
      "0.13459344461639175 None\n",
      "0.1265369469105878 None\n",
      "0.11656257799534259 None\n",
      "0.10897904966428902 None\n",
      "0.10340301546359705 None\n"
     ]
    },
    {
     "data": {
      "application/vnd.jupyter.widget-view+json": {
       "model_id": "9b12cee6b7634779b8c893c628e8dc1f",
       "version_major": 2,
       "version_minor": 0
      },
      "text/plain": [
       "  0%|          | 0/2000 [00:00<?, ?it/s]"
      ]
     },
     "metadata": {},
     "output_type": "display_data"
    },
    {
     "name": "stdout",
     "output_type": "stream",
     "text": [
      "0.4077988094827336 None\n",
      "0.388451544468515 None\n",
      "0.36152249018448673 None\n",
      "0.33977094817623504 None\n",
      "0.3168633290687623 None\n",
      "0.29559179277892494 None\n",
      "0.27515994928025245 None\n",
      "0.2595371811897537 None\n",
      "0.2410505999439472 None\n",
      "0.2197612963020665 None\n",
      "0.20817284608067443 None\n",
      "0.18830230722568306 None\n",
      "0.17431044850524272 None\n",
      "0.16154840480396096 None\n",
      "0.1546460418574091 None\n",
      "0.14019374708382093 None\n",
      "0.13044878127371395 None\n",
      "0.1208512927104043 None\n",
      "0.11300288637408838 None\n",
      "0.10691609617841764 None\n",
      "0.10427826939430136 None\n"
     ]
    },
    {
     "data": {
      "application/vnd.jupyter.widget-view+json": {
       "model_id": "3f4dbd9ae67e440d9a7b46f521ae4686",
       "version_major": 2,
       "version_minor": 0
      },
      "text/plain": [
       "  0%|          | 0/2000 [00:00<?, ?it/s]"
      ]
     },
     "metadata": {},
     "output_type": "display_data"
    },
    {
     "name": "stdout",
     "output_type": "stream",
     "text": [
      "0.4077898653865925 None\n",
      "0.38455348705351033 None\n",
      "0.3615394498608046 None\n",
      "0.33892071135104085 None\n",
      "0.31686059601961664 None\n",
      "0.2955035637231129 None\n",
      "0.27500616344356105 None\n",
      "0.25544738997089406 None\n",
      "0.2369400077341907 None\n",
      "0.21952510416870305 None\n",
      "0.20323385934457705 None\n",
      "0.1880948051957801 None\n",
      "0.17398761916826241 None\n",
      "0.16091537276276094 None\n",
      "0.14901791229083095 None\n",
      "0.1390799194477592 None\n",
      "0.1283504173524792 None\n",
      "0.11958840100019644 None\n",
      "0.11567061641228536 None\n",
      "0.10906105675100222 None\n",
      "0.10339102396049979 None\n"
     ]
    },
    {
     "data": {
      "application/vnd.jupyter.widget-view+json": {
       "model_id": "e0e322500eb94a83a792561947e2bd95",
       "version_major": 2,
       "version_minor": 0
      },
      "text/plain": [
       "  0%|          | 0/2000 [00:00<?, ?it/s]"
      ]
     },
     "metadata": {},
     "output_type": "display_data"
    },
    {
     "name": "stdout",
     "output_type": "stream",
     "text": [
      "0.40865576735187936 None\n",
      "0.38543692455202183 None\n",
      "0.36243057381103744 None\n",
      "0.339821435670315 None\n",
      "0.31778408477294684 None\n",
      "0.29647259013633803 None\n",
      "0.2760132922468029 None\n",
      "0.2564986808846402 None\n",
      "0.23802397819378682 None\n",
      "0.22451763321589757 None\n",
      "0.2042898252603111 None\n",
      "0.18992814914509076 None\n",
      "0.17581109278067164 None\n",
      "0.16190487885405688 None\n",
      "0.15388709288660568 None\n",
      "0.1391547441088711 None\n",
      "0.13313109618623767 None\n",
      "0.12047458932087908 None\n",
      "0.1165255725847403 None\n",
      "0.1055649273519427 None\n",
      "0.09954024097496084 None\n"
     ]
    },
    {
     "data": {
      "application/vnd.jupyter.widget-view+json": {
       "model_id": "0122eaf2ee4a463e954c947e7cf8d5c8",
       "version_major": 2,
       "version_minor": 0
      },
      "text/plain": [
       "  0%|          | 0/2000 [00:00<?, ?it/s]"
      ]
     },
     "metadata": {},
     "output_type": "display_data"
    },
    {
     "name": "stdout",
     "output_type": "stream",
     "text": [
      "0.4079070677356076 None\n",
      "0.3885501262506971 None\n",
      "0.3654939758553819 None\n",
      "0.3389218682205265 None\n",
      "0.3176678553774246 None\n",
      "0.29537093707107076 None\n",
      "0.27566689690358037 None\n",
      "0.26285224673624347 None\n",
      "0.2373548784879496 None\n",
      "0.21979614284514615 None\n",
      "0.2071061181638458 None\n",
      "0.19082419546266766 None\n",
      "0.17258950102891238 None\n",
      "0.15934806165682042 None\n",
      "0.1473936054974548 None\n",
      "0.13664195786694677 None\n",
      "0.12646194211653408 None\n",
      "0.11754461457827803 None\n",
      "0.11056632415782074 None\n",
      "0.1029157842920869 None\n",
      "0.0982408280491155 None\n"
     ]
    },
    {
     "data": {
      "application/vnd.jupyter.widget-view+json": {
       "model_id": "a07ccab54d0943edb048e0a4f65a9f59",
       "version_major": 2,
       "version_minor": 0
      },
      "text/plain": [
       "  0%|          | 0/2000 [00:00<?, ?it/s]"
      ]
     },
     "metadata": {},
     "output_type": "display_data"
    },
    {
     "name": "stdout",
     "output_type": "stream",
     "text": [
      "0.407530552827276 None\n",
      "0.3842829261522966 None\n",
      "0.3612385217928822 None\n",
      "0.3385778297262767 None\n",
      "0.3164749713342922 None\n",
      "0.2950915225126453 None\n",
      "0.2745734325577033 None\n",
      "0.25500464654080385 None\n",
      "0.23648216222403973 None\n",
      "0.21906664224312872 None\n",
      "0.20287622352004087 None\n",
      "0.18854523169749482 None\n",
      "0.17352243884244067 None\n",
      "0.16144214935043597 None\n",
      "0.15261200718748208 None\n",
      "0.1379081239002104 None\n",
      "0.1291063170464028 None\n",
      "0.11957712620734566 None\n",
      "0.1115835594127759 None\n",
      "0.10854281616250057 None\n",
      "0.09855061279202343 None\n"
     ]
    },
    {
     "data": {
      "application/vnd.jupyter.widget-view+json": {
       "model_id": "d580bb13c800437c9f7fe66048a3cd75",
       "version_major": 2,
       "version_minor": 0
      },
      "text/plain": [
       "  0%|          | 0/2000 [00:00<?, ?it/s]"
      ]
     },
     "metadata": {},
     "output_type": "display_data"
    },
    {
     "name": "stdout",
     "output_type": "stream",
     "text": [
      "0.4080103052115893 None\n",
      "0.38476380984787295 None\n",
      "0.36171793745220077 None\n",
      "0.3429429747196944 None\n",
      "0.3208350944943322 None\n",
      "0.29557459529743507 None\n",
      "0.2750809100864695 None\n",
      "0.2555264206071161 None\n",
      "0.2369490449868942 None\n",
      "0.21941390843113692 None\n",
      "0.20300577864648212 None\n",
      "0.1886058622496182 None\n",
      "0.1734445327417877 None\n",
      "0.16105685330616717 None\n",
      "0.15186582370627286 None\n",
      "0.13776324252589153 None\n",
      "0.13078992428568015 None\n",
      "0.11790899725582774 None\n",
      "0.11075446279062257 None\n",
      "0.10260709881617956 None\n",
      "0.09722319274773336 None\n"
     ]
    },
    {
     "data": {
      "application/vnd.jupyter.widget-view+json": {
       "model_id": "401ce956a578468ca10377cfec20ed54",
       "version_major": 2,
       "version_minor": 0
      },
      "text/plain": [
       "  0%|          | 0/2000 [00:00<?, ?it/s]"
      ]
     },
     "metadata": {},
     "output_type": "display_data"
    },
    {
     "name": "stdout",
     "output_type": "stream",
     "text": [
      "0.41075954561056244 None\n",
      "0.38662640305965923 None\n",
      "0.3635619567210206 None\n",
      "0.3408720765059143 None\n",
      "0.3196117576305696 None\n",
      "0.29732175253201787 None\n",
      "0.2767255932537936 None\n",
      "0.25701821345199366 None\n",
      "0.23829703370293479 None\n",
      "0.22148241388750983 None\n",
      "0.20487526653145138 None\n",
      "0.19242254044681129 None\n",
      "0.1740822715300335 None\n",
      "0.16071271909646725 None\n",
      "0.14856851736619364 None\n",
      "0.13753675002955518 None\n",
      "0.13152939252661128 None\n",
      "0.11964983204188835 None\n",
      "0.11482091219985793 None\n",
      "0.10777730700855911 None\n",
      "0.09770007265953028 None\n",
      "Done!\n"
     ]
    }
   ],
   "source": [
    "[distance_best, model_best] = loader(data_path(\"diluted_fitting_4qubit_24layer.model\"))\n",
    "rank_start = model_best.channel.rank\n",
    "\n",
    "distance_best, model_best = optimize_annulus_distance(spectrum_target = spectrum4, \n",
    "                                                      d = d, \n",
    "                                                      rank_start = rank_start, \n",
    "                                                      rank_step = 1,\n",
    "                                                      num_iter = 2000)\n",
    "\n",
    "model_best.optimizer = None\n",
    "saver([distance_best, model_best], data_path(\"diluted_fitting_4qubit_32layer.model\"))"
   ]
  },
  {
   "cell_type": "code",
   "execution_count": null,
   "metadata": {},
   "outputs": [],
   "source": []
  }
 ],
 "metadata": {
  "kernelspec": {
   "display_name": "env_qiskit",
   "language": "python",
   "name": "env_qiskit"
  },
  "language_info": {
   "codemirror_mode": {
    "name": "ipython",
    "version": 3
   },
   "file_extension": ".py",
   "mimetype": "text/x-python",
   "name": "python",
   "nbconvert_exporter": "python",
   "pygments_lexer": "ipython3",
   "version": "3.10.4"
  }
 },
 "nbformat": 4,
 "nbformat_minor": 4
}
