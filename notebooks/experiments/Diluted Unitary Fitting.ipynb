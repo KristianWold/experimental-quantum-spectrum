{
 "cells": [
  {
   "cell_type": "markdown",
   "metadata": {},
   "source": [
    "# Diluted Unitary Fitting"
   ]
  },
  {
   "cell_type": "code",
   "execution_count": 28,
   "metadata": {},
   "outputs": [],
   "source": [
    "import sys\n",
    "sys.path.insert(0, '../../src_tf/')\n",
    "\n",
    "import numpy as np\n",
    "import qiskit as qk\n",
    "import matplotlib.pyplot as plt\n",
    "import multiprocessing as mp\n",
    "import random\n",
    "import pickle\n",
    "\n",
    "from qiskit.quantum_info import DensityMatrix, random_unitary\n",
    "from qiskit.quantum_info import Operator\n",
    "from scipy.linalg import sqrtm\n",
    "from tqdm.notebook import tqdm\n",
    "from math import ceil\n",
    "\n",
    "from loss_functions import *\n",
    "from optimization import *\n",
    "from quantum_channel import *\n",
    "from kraus_channels import *\n",
    "from quantum_tools import *\n",
    "from experimental import *\n",
    "from spam import *\n",
    "from scipy.stats import gaussian_kde\n",
    "from quantum_circuits import *\n",
    "from analysis import *\n",
    "from utils import *\n",
    "\n",
    "#np.set_printoptions(threshold=sys.maxsize)\n",
    "np.set_printoptions(precision=4)\n",
    "\n",
    "import os\n",
    "os.environ[\"CUDA_VISIBLE_DEVICES\"] = \"-1\""
   ]
  },
  {
   "cell_type": "code",
   "execution_count": 32,
   "metadata": {},
   "outputs": [],
   "source": [
    "def optimize_annulus_distance(spectrum_target = None, \n",
    "                              d = None, \n",
    "                              rank_start = 1, \n",
    "                              rank_step = 1,\n",
    "                              num_iter = 1000,\n",
    "                              lr = 0.001): \n",
    "    \n",
    "    model_list = []\n",
    "    distance_list = []\n",
    "\n",
    "    for rank in range(rank_start, d**2+rank_step, rank_step): \n",
    "        model = ModelQuantumMap(channel = DilutedKrausMap(U=generate_haar_random(d, rng=rng), \n",
    "                                                          c=0.5, \n",
    "                                                          kraus_part=KrausMap(d, \n",
    "                                                                              rank=rank, \n",
    "                                                                              trainable=False),\n",
    "                                                     ),\n",
    "                            loss_function = AnnulusDistance(),\n",
    "                            optimizer = tf.optimizers.Adam(learning_rate=lr),\n",
    "                            logger = Logger(loss_function = AnnulusDistance(), \n",
    "                                            verbose=True,),\n",
    "                            )\n",
    "        model.train(inputs = None,\n",
    "                    targets = [spectrum_target],\n",
    "                    num_iter = num_iter,\n",
    "                    \n",
    "                   )\n",
    "\n",
    "        model_list.append(model)\n",
    "        distance_list.append(model.logger.loss_train_list[-1])\n",
    "        idx = np.argmin(distance_list)\n",
    "        \n",
    "        if distance_list[idx]<distance_list[-1]:\n",
    "            print(\"Done!\")\n",
    "            break\n",
    "            \n",
    "    \n",
    "    idx = np.argmin(distance_list)\n",
    "    distance_best = distance_list[idx]\n",
    "    model_best = model_list[idx]\n",
    "\n",
    "    return distance_best, model_best\n",
    "\n",
    "def fit_diluted_unitary(spectrum_target_list, \n",
    "                        d, \n",
    "                        rank_start, \n",
    "                        rank_step,\n",
    "                        num_iter = 1000,\n",
    "                        lr = 0.001):\n",
    "    \n",
    "    distance_best_list = []\n",
    "    model_best_list = []\n",
    "    for spectrum_target in tqdm(spectrum_target_list):\n",
    "        U = generate_haar_random(d, rng) \n",
    "        distance_best, model_best = optimize_annulus_distance(spectrum_target,\n",
    "                                                              d,\n",
    "                                                              rank_start,\n",
    "                                                              rank_step,\n",
    "                                                              num_iter = num_iter,\n",
    "                                                              lr = lr)\n",
    "        distance_best_list.append(distance_best)\n",
    "        model_best_list.append(model_best)\n",
    "    \n",
    "    for model in model_best_list:\n",
    "        model.optimizer = None\n",
    "        \n",
    "    return distance_best_list, model_best_list"
   ]
  },
  {
   "cell_type": "markdown",
   "metadata": {},
   "source": [
    "## Three Qubits"
   ]
  },
  {
   "cell_type": "code",
   "execution_count": 33,
   "metadata": {
    "scrolled": true
   },
   "outputs": [],
   "source": [
    "[channel_list1, channel_list2, channel_list3, channel_list4, channel_list5, channel_list6, channel_list7] = loader(data_path(\"channel_fullRank_belem_longTrain.p\"))\n",
    "\n",
    "spectrum_target_list1 = [channel_spectrum(channel) for channel in channel_list1]\n",
    "spectrum_target_list2 = [channel_spectrum(channel) for channel in channel_list2]\n",
    "spectrum_target_list3 = [channel_spectrum(channel) for channel in channel_list3]\n",
    "spectrum_target_list4 = [channel_spectrum(channel) for channel in channel_list4]\n",
    "spectrum_target_list5 = [channel_spectrum(channel) for channel in channel_list5]\n",
    "spectrum_target_list6 = [channel_spectrum(channel) for channel in channel_list6]\n",
    "spectrum_target_list7 = [channel_spectrum(channel) for channel in channel_list7]"
   ]
  },
  {
   "cell_type": "code",
   "execution_count": 34,
   "metadata": {
    "scrolled": true
   },
   "outputs": [
    {
     "data": {
      "application/vnd.jupyter.widget-view+json": {
       "model_id": "d2b65837e5d24c1db44c4b403bc83c2f",
       "version_major": 2,
       "version_minor": 0
      },
      "text/plain": [
       "  0%|          | 0/10 [00:00<?, ?it/s]"
      ]
     },
     "metadata": {},
     "output_type": "display_data"
    },
    {
     "data": {
      "application/vnd.jupyter.widget-view+json": {
       "model_id": "a8a8cac7a5d8483c9fbd2ffd4923ec55",
       "version_major": 2,
       "version_minor": 0
      },
      "text/plain": [
       "  0%|          | 0/2000 [00:00<?, ?it/s]"
      ]
     },
     "metadata": {},
     "output_type": "display_data"
    },
    {
     "name": "stdout",
     "output_type": "stream",
     "text": [
      "0.30029435965748985 None\n",
      "0.24843003403904626 None\n",
      "0.2202199990690521 None\n",
      "0.16823157883473425 None\n",
      "0.15293211741801843 None\n",
      "0.1103648100208441 None\n",
      "0.08480811428082641 None\n",
      "0.061462366206407264 None\n",
      "0.039330009131291165 None\n",
      "0.03792735097096872 None\n",
      "0.03792474865640967 None\n",
      "0.03789594510112941 None\n",
      "0.0379138591746508 None\n",
      "0.0378999080499072 None\n",
      "0.03789909891858711 None\n",
      "0.037899678974328596 None\n",
      "0.03790742078663499 None\n",
      "0.037906390360627436 None\n",
      "0.03792107297942284 None\n",
      "0.037901971169075135 None\n",
      "0.03789781368769146 None\n"
     ]
    },
    {
     "data": {
      "application/vnd.jupyter.widget-view+json": {
       "model_id": "2972883a80f4488eb8823746315e4184",
       "version_major": 2,
       "version_minor": 0
      },
      "text/plain": [
       "  0%|          | 0/2000 [00:00<?, ?it/s]"
      ]
     },
     "metadata": {},
     "output_type": "display_data"
    },
    {
     "name": "stdout",
     "output_type": "stream",
     "text": [
      "0.2569890915237481 None\n",
      "0.20735266959926896 None\n",
      "0.1912275946207169 None\n",
      "0.1611843979706479 None\n",
      "0.11696301464318938 None\n",
      "0.09009468146425575 None\n",
      "0.06431417147435653 None\n",
      "0.039692421252050025 None\n",
      "0.01633987311093453 None\n",
      "0.028498680145849126 None\n",
      "0.028461547439450768 None\n",
      "0.028441936985386686 None\n",
      "0.012138388475845559 None\n",
      "0.012151684723391613 None\n",
      "0.012145060302157987 None\n",
      "0.01212624255639093 None\n",
      "0.028450259727554425 None\n",
      "0.012179208305582123 None\n",
      "0.01215606851296032 None\n",
      "0.012136731247666864 None\n",
      "0.012127354044919813 None\n"
     ]
    },
    {
     "data": {
      "application/vnd.jupyter.widget-view+json": {
       "model_id": "224997c1c1d9447bbc58f18e82112dbd",
       "version_major": 2,
       "version_minor": 0
      },
      "text/plain": [
       "  0%|          | 0/2000 [00:00<?, ?it/s]"
      ]
     },
     "metadata": {},
     "output_type": "display_data"
    },
    {
     "name": "stdout",
     "output_type": "stream",
     "text": [
      "0.2315391068405061 None\n",
      "0.20297882228305203 None\n",
      "0.1594300113508959 None\n",
      "0.13185132583441006 None\n",
      "0.10523523650489883 None\n",
      "0.0795278042450883 None\n",
      "0.054955896682273124 None\n",
      "0.03131711679652094 None\n",
      "0.008667423667263072 None\n",
      "0.008190487214746123 None\n",
      "0.008174069600403592 None\n",
      "0.008195212579895538 None\n",
      "0.008193624012431691 None\n",
      "0.008184630685120667 None\n",
      "0.00820559475226984 None\n",
      "0.00822114239573572 None\n",
      "0.00820141718286933 None\n",
      "0.00818833895015322 None\n",
      "0.008181965021870418 None\n",
      "0.00820507404412386 None\n",
      "0.008196308329637724 None\n"
     ]
    },
    {
     "data": {
      "application/vnd.jupyter.widget-view+json": {
       "model_id": "284748ac600e4345b50b6f47ecc8b833",
       "version_major": 2,
       "version_minor": 0
      },
      "text/plain": [
       "  0%|          | 0/2000 [00:00<?, ?it/s]"
      ]
     },
     "metadata": {},
     "output_type": "display_data"
    },
    {
     "name": "stdout",
     "output_type": "stream",
     "text": [
      "0.22303324668688596 None\n",
      "0.19351776633381096 None\n",
      "0.16405156672395824 None\n",
      "0.13588887660640192 None\n",
      "0.1086108405021071 None\n",
      "0.08226165463358343 None\n",
      "0.05692096817408502 None\n",
      "0.03267446795035547 None\n",
      "0.009861047825063477 None\n",
      "0.004013610502118817 None\n",
      "0.004017425142907472 None\n",
      "0.004022744702930412 None\n",
      "0.004047001840589811 None\n",
      "0.0040175674142983835 None\n",
      "0.004025545761890143 None\n",
      "0.0040083453952379075 None\n",
      "0.004008655548096455 None\n",
      "0.0040248424367148854 None\n",
      "0.004046255085361836 None\n",
      "0.004004813282132692 None\n",
      "0.004026976082537544 None\n"
     ]
    },
    {
     "data": {
      "application/vnd.jupyter.widget-view+json": {
       "model_id": "8baa4c7c7d304911b158af5a81a522c4",
       "version_major": 2,
       "version_minor": 0
      },
      "text/plain": [
       "  0%|          | 0/2000 [00:00<?, ?it/s]"
      ]
     },
     "metadata": {},
     "output_type": "display_data"
    },
    {
     "name": "stdout",
     "output_type": "stream",
     "text": [
      "0.2183311582000258 None\n",
      "0.18936972067584343 None\n",
      "0.1610905493437809 None\n",
      "0.13337452289695564 None\n",
      "0.10635036681371729 None\n",
      "0.0802431029034995 None\n",
      "0.055276955682967435 None\n",
      "0.03134577598785781 None\n",
      "0.00853102615231735 None\n",
      "0.00258859029554373 None\n",
      "0.0025952285992796786 None\n",
      "0.002605908696006752 None\n",
      "0.0025927871456779225 None\n",
      "0.0025850352791007376 None\n",
      "0.0026330567951605268 None\n",
      "0.002592941631002345 None\n",
      "0.002611218277619573 None\n",
      "0.002622529552312928 None\n",
      "0.002603844376378288 None\n",
      "0.002595237318153897 None\n",
      "0.0025841946460810833 None\n"
     ]
    },
    {
     "data": {
      "application/vnd.jupyter.widget-view+json": {
       "model_id": "67430c8f965642fc8b2cdf9eb2dc84ea",
       "version_major": 2,
       "version_minor": 0
      },
      "text/plain": [
       "  0%|          | 0/2000 [00:00<?, ?it/s]"
      ]
     },
     "metadata": {},
     "output_type": "display_data"
    },
    {
     "name": "stdout",
     "output_type": "stream",
     "text": [
      "0.21515369682129737 None\n",
      "0.18673928960178401 None\n",
      "0.15863974507710063 None\n",
      "0.130992997256724 None\n",
      "0.10397560768220925 None\n",
      "0.07775756387932596 None\n",
      "0.0525330366695604 None\n",
      "0.028543127008050704 None\n",
      "0.005723598552270012 None\n",
      "0.0035048562612506502 None\n",
      "0.0034937769225262434 None\n",
      "0.0034973737890817303 None\n",
      "0.003490469537492661 None\n",
      "0.0035186924507982333 None\n",
      "0.003518450784568628 None\n",
      "0.003501139671053356 None\n",
      "0.003507230477640299 None\n",
      "0.003524961233328781 None\n",
      "0.003500934943089736 None\n",
      "0.0034932464673205457 None\n",
      "0.003508434969030732 None\n",
      "Done!\n"
     ]
    },
    {
     "data": {
      "application/vnd.jupyter.widget-view+json": {
       "model_id": "d90483f3455e4581bf6ad8b4894384b3",
       "version_major": 2,
       "version_minor": 0
      },
      "text/plain": [
       "  0%|          | 0/2000 [00:00<?, ?it/s]"
      ]
     },
     "metadata": {},
     "output_type": "display_data"
    },
    {
     "name": "stdout",
     "output_type": "stream",
     "text": [
      "0.28305617385755705 None\n",
      "0.26656856553436287 None\n",
      "0.24590917391345699 None\n",
      "0.1927911822953396 None\n",
      "0.1415320289266463 None\n",
      "0.12287377328699266 None\n",
      "0.09222876911631062 None\n",
      "0.08126363768776254 None\n",
      "0.06139621386209568 None\n",
      "0.06139732917631774 None\n",
      "0.07770371202363183 None\n",
      "0.04596393882936296 None\n",
      "0.07769980757238507 None\n",
      "0.061385535304153256 None\n",
      "0.0613928076083482 None\n",
      "0.061419854531454224 None\n",
      "0.06138835078281274 None\n",
      "0.061389872716542074 None\n",
      "0.061431222714600914 None\n",
      "0.06140080850976003 None\n",
      "0.06140487161204899 None\n"
     ]
    },
    {
     "data": {
      "application/vnd.jupyter.widget-view+json": {
       "model_id": "d3e7d2ee53094c0c8f5b2b42e589934b",
       "version_major": 2,
       "version_minor": 0
      },
      "text/plain": [
       "  0%|          | 0/2000 [00:00<?, ?it/s]"
      ]
     },
     "metadata": {},
     "output_type": "display_data"
    },
    {
     "name": "stdout",
     "output_type": "stream",
     "text": [
      "0.28149920363373077 None\n",
      "0.2494006318271212 None\n",
      "0.2183462684037991 None\n",
      "0.18799534841555204 None\n",
      "0.1587594542545287 None\n",
      "0.1313416448076063 None\n",
      "0.10577034354335234 None\n",
      "0.08123767338125865 None\n",
      "0.057635721045268894 None\n",
      "0.03513798475084817 None\n",
      "0.02464201943307316 None\n",
      "0.02457893594179197 None\n",
      "0.024598085825929383 None\n",
      "0.02458761342831243 None\n",
      "0.02457149442702012 None\n",
      "0.024565292294559518 None\n",
      "0.024614757477596616 None\n",
      "0.024570545248524225 None\n",
      "0.024577849694797614 None\n",
      "0.0245791818863565 None\n",
      "0.024590274636797017 None\n"
     ]
    },
    {
     "data": {
      "application/vnd.jupyter.widget-view+json": {
       "model_id": "a502a898ff264d4e8976e183f1be2bf7",
       "version_major": 2,
       "version_minor": 0
      },
      "text/plain": [
       "  0%|          | 0/2000 [00:00<?, ?it/s]"
      ]
     },
     "metadata": {},
     "output_type": "display_data"
    },
    {
     "name": "stdout",
     "output_type": "stream",
     "text": [
      "0.283378468204946 None\n",
      "0.2521909695693063 None\n",
      "0.1901646629289337 None\n",
      "0.19303711367402016 None\n",
      "0.14999992302886775 None\n",
      "0.1234715906484223 None\n",
      "0.0816989058802383 None\n",
      "0.07366270108898615 None\n",
      "0.05069033771252571 None\n",
      "0.028987808407362602 None\n",
      "0.00949373003651547 None\n",
      "0.04124197848098538 None\n",
      "0.025797971842411047 None\n",
      "0.025769123735968062 None\n",
      "0.02577646284105278 None\n",
      "0.009471292949214137 None\n",
      "0.025777758053372166 None\n",
      "0.02579564442784983 None\n",
      "0.009487285317649467 None\n",
      "0.025814263558250363 None\n",
      "0.041216689033970265 None\n",
      "Done!\n"
     ]
    },
    {
     "data": {
      "application/vnd.jupyter.widget-view+json": {
       "model_id": "59eb816a224e43b5adcaed104ca78795",
       "version_major": 2,
       "version_minor": 0
      },
      "text/plain": [
       "  0%|          | 0/2000 [00:00<?, ?it/s]"
      ]
     },
     "metadata": {},
     "output_type": "display_data"
    },
    {
     "name": "stdout",
     "output_type": "stream",
     "text": [
      "0.2875134222801209 None\n",
      "0.25625913105276055 None\n",
      "0.19866439353332077 None\n",
      "0.16241478247899363 None\n",
      "0.1313753051679661 None\n",
      "0.1031951398609907 None\n",
      "0.09304836716518837 None\n",
      "0.052643288615705545 None\n",
      "0.02960240209172989 None\n",
      "0.02766649279370817 None\n",
      "0.027670384911022566 None\n",
      "0.02766434216044298 None\n",
      "0.027673389144175116 None\n",
      "0.027706195916186654 None\n",
      "0.027666202627620314 None\n",
      "0.02766722325549555 None\n",
      "0.02767718098858647 None\n",
      "0.027682848341012666 None\n",
      "0.027681146380020765 None\n",
      "0.027682888062215992 None\n",
      "0.02767169934867253 None\n"
     ]
    },
    {
     "data": {
      "application/vnd.jupyter.widget-view+json": {
       "model_id": "21844ba1d8d647f4812159c02120d53f",
       "version_major": 2,
       "version_minor": 0
      },
      "text/plain": [
       "  0%|          | 0/2000 [00:00<?, ?it/s]"
      ]
     },
     "metadata": {},
     "output_type": "display_data"
    },
    {
     "name": "stdout",
     "output_type": "stream",
     "text": [
      "0.2856326402859545 None\n",
      "0.2369402423186568 None\n",
      "0.20423906333689812 None\n",
      "0.18953534183472337 None\n",
      "0.16084564561032733 None\n",
      "0.13349207568859875 None\n",
      "0.09163657502135407 None\n",
      "0.06629872545974652 None\n",
      "0.04205367340838771 None\n",
      "0.018974824053733838 None\n",
      "0.014329868468302422 None\n",
      "0.014331771242382762 None\n",
      "0.014330415946740302 None\n",
      "0.014329739108589661 None\n",
      "0.014332815933212676 None\n",
      "0.014318186581563934 None\n",
      "0.014313092794774778 None\n",
      "0.014323868658226706 None\n",
      "0.01435640644820023 None\n",
      "0.014338199035028164 None\n",
      "0.014332293883143775 None\n"
     ]
    },
    {
     "data": {
      "application/vnd.jupyter.widget-view+json": {
       "model_id": "4cbf6b4a1f0d4627942151ef9b555d0a",
       "version_major": 2,
       "version_minor": 0
      },
      "text/plain": [
       "  0%|          | 0/2000 [00:00<?, ?it/s]"
      ]
     },
     "metadata": {},
     "output_type": "display_data"
    },
    {
     "name": "stdout",
     "output_type": "stream",
     "text": [
      "0.24632757543202177 None\n",
      "0.23180569054051098 None\n",
      "0.18689385898390182 None\n",
      "0.17341061424288431 None\n",
      "0.12979378945281295 None\n",
      "0.11807488335187581 None\n",
      "0.09209736722748547 None\n",
      "0.05172955064083871 None\n",
      "0.04404679774395037 None\n",
      "0.009649370035446322 None\n",
      "0.00915488652268586 None\n",
      "0.00918918393597371 None\n",
      "0.009146109865102394 None\n",
      "0.009131485438907646 None\n",
      "0.00914689421082668 None\n",
      "0.009184398369167802 None\n",
      "0.00917285099157464 None\n",
      "0.009153721300046208 None\n",
      "0.009188116780155336 None\n",
      "0.009193692025390688 None\n",
      "0.009134733167517058 None\n"
     ]
    },
    {
     "data": {
      "application/vnd.jupyter.widget-view+json": {
       "model_id": "7967720078384bc691e5fbdeb9fead46",
       "version_major": 2,
       "version_minor": 0
      },
      "text/plain": [
       "  0%|          | 0/2000 [00:00<?, ?it/s]"
      ]
     },
     "metadata": {},
     "output_type": "display_data"
    },
    {
     "name": "stdout",
     "output_type": "stream",
     "text": [
      "0.2603917004017424 None\n",
      "0.23089573854781506 None\n",
      "0.2018649167290145 None\n",
      "0.15794886837011943 None\n",
      "0.13064044708584044 None\n",
      "0.10453811008524133 None\n",
      "0.07943478681274913 None\n",
      "0.0553979397742221 None\n",
      "0.03248449181770971 None\n",
      "0.02617099266412377 None\n",
      "0.008793164451584222 None\n",
      "0.008779004795901135 None\n",
      "0.024270200280582535 None\n",
      "0.008785420800879315 None\n",
      "0.024227895759053635 None\n",
      "0.024257388499554913 None\n",
      "0.008814565656194593 None\n",
      "0.024238455689798277 None\n",
      "0.024220879565145736 None\n",
      "0.008775119455561968 None\n",
      "0.008817117206342004 None\n"
     ]
    },
    {
     "data": {
      "application/vnd.jupyter.widget-view+json": {
       "model_id": "d92308c48f5245fa864411fb9477627d",
       "version_major": 2,
       "version_minor": 0
      },
      "text/plain": [
       "  0%|          | 0/2000 [00:00<?, ?it/s]"
      ]
     },
     "metadata": {},
     "output_type": "display_data"
    },
    {
     "name": "stdout",
     "output_type": "stream",
     "text": [
      "0.24249535924489823 None\n",
      "0.1984094180149778 None\n",
      "0.1707219188291431 None\n",
      "0.14358322503313303 None\n",
      "0.1171152503650527 None\n",
      "0.09142445953373718 None\n",
      "0.06665417511494627 None\n",
      "0.04293639327215223 None\n",
      "0.020326054371813583 None\n",
      "0.0025933727508292183 None\n",
      "0.0023868518460843174 None\n",
      "0.0023707613903651784 None\n",
      "0.002387186095444116 None\n",
      "0.002366802401850917 None\n",
      "0.0023717110926644047 None\n",
      "0.0023766546232529572 None\n",
      "0.002383524890028308 None\n",
      "0.0023757408738507247 None\n",
      "0.0023703172694453257 None\n",
      "0.002365593981957086 None\n",
      "0.002367293994297425 None\n"
     ]
    },
    {
     "data": {
      "application/vnd.jupyter.widget-view+json": {
       "model_id": "fd835c74d25642eb86bfed3e2b15a26a",
       "version_major": 2,
       "version_minor": 0
      },
      "text/plain": [
       "  0%|          | 0/2000 [00:00<?, ?it/s]"
      ]
     },
     "metadata": {},
     "output_type": "display_data"
    },
    {
     "name": "stdout",
     "output_type": "stream",
     "text": [
      "0.258591479196822 None\n",
      "0.21382021590990205 None\n",
      "0.1856461114114839 None\n",
      "0.1580494275541634 None\n",
      "0.1311240471558664 None\n",
      "0.10502050562657894 None\n",
      "0.07988694118961867 None\n",
      "0.05582241915536284 None\n",
      "0.03290605002493468 None\n",
      "0.011186985200013861 None\n",
      "0.010245434576138005 None\n",
      "0.010296841869719261 None\n",
      "0.010274747732907428 None\n",
      "0.010264333457130969 None\n",
      "0.010305470692531545 None\n",
      "0.010266468981985102 None\n",
      "0.010253644001058318 None\n",
      "0.010256746245044848 None\n",
      "0.010286048884029475 None\n",
      "0.010289392164783405 None\n",
      "0.01028426173815066 None\n",
      "Done!\n"
     ]
    },
    {
     "data": {
      "application/vnd.jupyter.widget-view+json": {
       "model_id": "e3dbfd4dfeaf4b4fb114c24a9248c7dc",
       "version_major": 2,
       "version_minor": 0
      },
      "text/plain": [
       "  0%|          | 0/2000 [00:00<?, ?it/s]"
      ]
     },
     "metadata": {},
     "output_type": "display_data"
    },
    {
     "name": "stdout",
     "output_type": "stream",
     "text": [
      "0.2784975045933095 None\n",
      "0.23406189023857887 None\n",
      "0.21617675740929787 None\n",
      "0.17934239551631675 None\n",
      "0.14277791227602066 None\n",
      "0.10864561678219053 None\n",
      "0.07930666238469343 None\n",
      "0.0368262961405387 None\n",
      "0.021924553093421145 None\n",
      "0.021878201007643427 None\n",
      "0.02187651699038576 None\n",
      "0.021876108364288483 None\n",
      "0.02187938203337178 None\n",
      "0.02187640205741425 None\n",
      "0.021895499815577212 None\n",
      "0.0218835638888119 None\n",
      "0.02187329374313695 None\n",
      "0.02186983872071504 None\n",
      "0.02188494343212633 None\n",
      "0.021871676459191525 None\n",
      "0.021891963637591275 None\n"
     ]
    },
    {
     "data": {
      "application/vnd.jupyter.widget-view+json": {
       "model_id": "60cc1a8565aa49d38e0eae8bca5676d7",
       "version_major": 2,
       "version_minor": 0
      },
      "text/plain": [
       "  0%|          | 0/2000 [00:00<?, ?it/s]"
      ]
     },
     "metadata": {},
     "output_type": "display_data"
    },
    {
     "name": "stdout",
     "output_type": "stream",
     "text": [
      "0.23994101041032012 None\n",
      "0.20875868995655594 None\n",
      "0.17919129696367525 None\n",
      "0.15012369876475667 None\n",
      "0.12230462452896206 None\n",
      "0.09575562832966189 None\n",
      "0.07040854682825154 None\n",
      "0.04622029790366569 None\n",
      "0.023164182597597643 None\n",
      "0.012786625613905787 None\n",
      "0.012777927200994346 None\n",
      "0.012775191547032891 None\n",
      "0.012779490823559588 None\n",
      "0.012807272547069145 None\n",
      "0.012807909803059262 None\n",
      "0.012768954155629411 None\n",
      "0.012799043960771101 None\n",
      "0.012790880077509139 None\n",
      "0.01277998978454002 None\n",
      "0.012784159965091005 None\n",
      "0.012783602161481132 None\n"
     ]
    },
    {
     "data": {
      "application/vnd.jupyter.widget-view+json": {
       "model_id": "8ae7c7c0441c4ca5818928d76a4a2506",
       "version_major": 2,
       "version_minor": 0
      },
      "text/plain": [
       "  0%|          | 0/2000 [00:00<?, ?it/s]"
      ]
     },
     "metadata": {},
     "output_type": "display_data"
    },
    {
     "name": "stdout",
     "output_type": "stream",
     "text": [
      "0.23927291641436652 None\n",
      "0.20939367257811164 None\n",
      "0.18028350119836356 None\n",
      "0.15193569182778022 None\n",
      "0.1244363318191582 None\n",
      "0.09776541923704324 None\n",
      "0.07201571811544093 None\n",
      "0.04734388155768797 None\n",
      "0.02390200118986824 None\n",
      "0.009552599907262389 None\n",
      "0.009453436602543091 None\n",
      "0.009422416128808881 None\n",
      "0.009416356962272901 None\n",
      "0.009438564489613402 None\n",
      "0.00944362812693754 None\n",
      "0.009419900444072028 None\n",
      "0.009435662675411821 None\n",
      "0.009422056004178392 None\n",
      "0.009425204626562891 None\n",
      "0.009459874692788278 None\n",
      "0.00947852553801147 None\n"
     ]
    },
    {
     "data": {
      "application/vnd.jupyter.widget-view+json": {
       "model_id": "701acc3bf9b944dfa0eedb2a1ab60a5f",
       "version_major": 2,
       "version_minor": 0
      },
      "text/plain": [
       "  0%|          | 0/2000 [00:00<?, ?it/s]"
      ]
     },
     "metadata": {},
     "output_type": "display_data"
    },
    {
     "name": "stdout",
     "output_type": "stream",
     "text": [
      "0.22939611735612933 None\n",
      "0.20091663691870318 None\n",
      "0.17269653269886553 None\n",
      "0.14485028253118232 None\n",
      "0.11765480080024675 None\n",
      "0.09134306545628133 None\n",
      "0.06603185398636409 None\n",
      "0.04188826881693419 None\n",
      "0.01893922119391283 None\n",
      "0.0086466733027436 None\n",
      "0.00862539821589444 None\n",
      "0.008644669478726772 None\n",
      "0.00863877474952552 None\n",
      "0.008652459177123286 None\n",
      "0.008635890412148461 None\n",
      "0.008628302548343729 None\n",
      "0.008621878792968218 None\n",
      "0.008623772408925506 None\n",
      "0.008638886365146557 None\n",
      "0.008655912516617011 None\n",
      "0.008624416200209248 None\n"
     ]
    },
    {
     "data": {
      "application/vnd.jupyter.widget-view+json": {
       "model_id": "d20533e05d164621a60573250f5d4c44",
       "version_major": 2,
       "version_minor": 0
      },
      "text/plain": [
       "  0%|          | 0/2000 [00:00<?, ?it/s]"
      ]
     },
     "metadata": {},
     "output_type": "display_data"
    },
    {
     "name": "stdout",
     "output_type": "stream",
     "text": [
      "0.23101996102875583 None\n",
      "0.20206921352120852 None\n",
      "0.1734148769786828 None\n",
      "0.14535965024771677 None\n",
      "0.11804269945556237 None\n",
      "0.09154892643400343 None\n",
      "0.06605394705782922 None\n",
      "0.041686600944529924 None\n",
      "0.01850022695809057 None\n",
      "0.004486384067429602 None\n",
      "0.004491201214377745 None\n",
      "0.0044711997698748725 None\n",
      "0.004516018090258391 None\n",
      "0.004480706256753302 None\n",
      "0.00446555992736668 None\n",
      "0.004469245452437952 None\n",
      "0.004556532135022529 None\n",
      "0.004460583520188628 None\n",
      "0.004505548163253085 None\n",
      "0.004482667920708699 None\n",
      "0.004502543487645905 None\n"
     ]
    },
    {
     "data": {
      "application/vnd.jupyter.widget-view+json": {
       "model_id": "987a6e52c9bd47ee92a7bd78f6c2090b",
       "version_major": 2,
       "version_minor": 0
      },
      "text/plain": [
       "  0%|          | 0/2000 [00:00<?, ?it/s]"
      ]
     },
     "metadata": {},
     "output_type": "display_data"
    },
    {
     "name": "stdout",
     "output_type": "stream",
     "text": [
      "0.23733092091504046 None\n",
      "0.20884153031661093 None\n",
      "0.18061461149450633 None\n",
      "0.15283397933340648 None\n",
      "0.12568701719994602 None\n",
      "0.09934376319522274 None\n",
      "0.07394703683262673 None\n",
      "0.049621938003205406 None\n",
      "0.026463587527659562 None\n",
      "0.012404537641048971 None\n",
      "0.012374612511673317 None\n",
      "0.012380321803196002 None\n",
      "0.012415597476746185 None\n",
      "0.012406091607968406 None\n",
      "0.012379652372040265 None\n",
      "0.012398319173307984 None\n",
      "0.012382670307105836 None\n",
      "0.012381690580158498 None\n",
      "0.012381553874458773 None\n",
      "0.012388568077771596 None\n",
      "0.012444695476499346 None\n",
      "Done!\n"
     ]
    },
    {
     "data": {
      "application/vnd.jupyter.widget-view+json": {
       "model_id": "5ffbaf9b15f54aed8f66cc374033afd6",
       "version_major": 2,
       "version_minor": 0
      },
      "text/plain": [
       "  0%|          | 0/2000 [00:00<?, ?it/s]"
      ]
     },
     "metadata": {},
     "output_type": "display_data"
    },
    {
     "name": "stdout",
     "output_type": "stream",
     "text": [
      "0.30399550308558415 None\n",
      "0.2647463799999252 None\n",
      "0.22008071364887646 None\n",
      "0.18100762263313933 None\n",
      "0.14712871189873034 None\n",
      "0.11580976743577863 None\n",
      "0.08647532496692335 None\n",
      "0.0591111639059551 None\n",
      "0.03347396202511989 None\n",
      "0.02589743672925911 None\n",
      "0.025875565626465955 None\n",
      "0.02589202758628867 None\n",
      "0.02588252267895048 None\n",
      "0.025904098427668408 None\n",
      "0.025872603735697833 None\n",
      "0.02591875189060366 None\n",
      "0.02590042374736567 None\n",
      "0.025887300078244385 None\n",
      "0.02591721677223863 None\n",
      "0.025890888631696238 None\n",
      "0.025882731282029094 None\n"
     ]
    },
    {
     "data": {
      "application/vnd.jupyter.widget-view+json": {
       "model_id": "87c1652ca06147e991883143bea9500b",
       "version_major": 2,
       "version_minor": 0
      },
      "text/plain": [
       "  0%|          | 0/2000 [00:00<?, ?it/s]"
      ]
     },
     "metadata": {},
     "output_type": "display_data"
    },
    {
     "name": "stdout",
     "output_type": "stream",
     "text": [
      "0.3133133127219004 None\n",
      "0.24752282882627188 None\n",
      "0.21647733645170306 None\n",
      "0.20312133966711104 None\n",
      "0.17470133335697227 None\n",
      "0.14730010568990423 None\n",
      "0.12086233856686585 None\n",
      "0.09551717483712137 None\n",
      "0.0715532700895252 None\n",
      "0.04933120488340495 None\n",
      "0.02060392567649599 None\n",
      "0.020561333018115604 None\n",
      "0.03685373859090377 None\n",
      "0.02052802935666722 None\n",
      "0.03687774417999954 None\n",
      "0.020554191573199185 None\n",
      "0.020558715696994138 None\n",
      "0.036862857477046145 None\n",
      "0.03688157614187117 None\n",
      "0.020537721130048956 None\n",
      "0.036874418986829235 None\n",
      "Done!\n"
     ]
    },
    {
     "data": {
      "application/vnd.jupyter.widget-view+json": {
       "model_id": "866f9f8eefc7465385c0ab716fb93764",
       "version_major": 2,
       "version_minor": 0
      },
      "text/plain": [
       "  0%|          | 0/2000 [00:00<?, ?it/s]"
      ]
     },
     "metadata": {},
     "output_type": "display_data"
    },
    {
     "name": "stdout",
     "output_type": "stream",
     "text": [
      "0.29434878289701755 None\n",
      "0.2539519283753026 None\n",
      "0.23101740763764317 None\n",
      "0.17673673016624583 None\n",
      "0.1417223344587942 None\n",
      "0.1111152543837682 None\n",
      "0.08365517933296512 None\n",
      "0.05870429156800657 None\n",
      "0.035691905507652784 None\n",
      "0.024588843065640957 None\n",
      "0.02456284220112889 None\n",
      "0.02456815206374132 None\n",
      "0.024565780817881414 None\n",
      "0.024560296418226685 None\n",
      "0.02457643920456696 None\n",
      "0.024552527166474904 None\n",
      "0.024560649090233536 None\n",
      "0.024559899995298153 None\n",
      "0.024560687942162367 None\n",
      "0.02455726836594553 None\n",
      "0.024557136442792556 None\n"
     ]
    },
    {
     "data": {
      "application/vnd.jupyter.widget-view+json": {
       "model_id": "fc37e3b60c7e4f54b0a6f379acb6a954",
       "version_major": 2,
       "version_minor": 0
      },
      "text/plain": [
       "  0%|          | 0/2000 [00:00<?, ?it/s]"
      ]
     },
     "metadata": {},
     "output_type": "display_data"
    },
    {
     "name": "stdout",
     "output_type": "stream",
     "text": [
      "0.27324088388824236 None\n",
      "0.22319459137801548 None\n",
      "0.19182476871970153 None\n",
      "0.16272409723551026 None\n",
      "0.1336852583606334 None\n",
      "0.10545353552470427 None\n",
      "0.07911906854508449 None\n",
      "0.054447386481067526 None\n",
      "0.031074856854052348 None\n",
      "0.013855848891076132 None\n",
      "0.01376794578553316 None\n",
      "0.0137623158485311 None\n",
      "0.013777713373072657 None\n",
      "0.013772843176283574 None\n",
      "0.013762102502912403 None\n",
      "0.013796832009867178 None\n",
      "0.013779500810405524 None\n",
      "0.013820124170208038 None\n",
      "0.013842079978743326 None\n",
      "0.013778413143742146 None\n",
      "0.013785469892114766 None\n"
     ]
    },
    {
     "data": {
      "application/vnd.jupyter.widget-view+json": {
       "model_id": "9c2b931b0bac4c10a7c803f6db244dda",
       "version_major": 2,
       "version_minor": 0
      },
      "text/plain": [
       "  0%|          | 0/2000 [00:00<?, ?it/s]"
      ]
     },
     "metadata": {},
     "output_type": "display_data"
    },
    {
     "name": "stdout",
     "output_type": "stream",
     "text": [
      "0.25489882634134114 None\n",
      "0.22406678960228474 None\n",
      "0.17806691670196484 None\n",
      "0.14838853307500768 None\n",
      "0.12101623066874971 None\n",
      "0.0946897843361668 None\n",
      "0.06943901923640883 None\n",
      "0.045304636571658785 None\n",
      "0.022290597391229034 None\n",
      "0.0065582398500101955 None\n",
      "0.006521286530647025 None\n",
      "0.00650538448928341 None\n",
      "0.00652891791390959 None\n",
      "0.0065175615772457415 None\n",
      "0.006524664313602421 None\n",
      "0.006540888058707839 None\n",
      "0.006518732314712942 None\n",
      "0.006525883249918266 None\n",
      "0.006542488971660796 None\n",
      "0.0065193328384668915 None\n",
      "0.006503606292369875 None\n"
     ]
    },
    {
     "data": {
      "application/vnd.jupyter.widget-view+json": {
       "model_id": "2d53a9f8e2ec421485281a10a4137fd4",
       "version_major": 2,
       "version_minor": 0
      },
      "text/plain": [
       "  0%|          | 0/2000 [00:00<?, ?it/s]"
      ]
     },
     "metadata": {},
     "output_type": "display_data"
    },
    {
     "name": "stdout",
     "output_type": "stream",
     "text": [
      "0.2474437608888775 None\n",
      "0.20213338085129584 None\n",
      "0.18830447782272428 None\n",
      "0.14430755844045498 None\n",
      "0.13209110230087182 None\n",
      "0.0901440886301051 None\n",
      "0.0646675193162683 None\n",
      "0.04033025937246322 None\n",
      "0.032622599575927475 None\n",
      "0.007629337133930023 None\n",
      "0.02306938382996855 None\n",
      "0.007621483815320839 None\n",
      "0.023054863294890503 None\n",
      "0.023083358937266187 None\n",
      "0.023053573513990178 None\n",
      "0.023058416170635983 None\n",
      "0.023090013203463294 None\n",
      "0.00766372930889106 None\n",
      "0.023101838078883136 None\n",
      "0.007634869828759166 None\n",
      "0.007631549380489162 None\n",
      "Done!\n"
     ]
    },
    {
     "data": {
      "application/vnd.jupyter.widget-view+json": {
       "model_id": "5543fdcdd41043ecb70e315a091f535a",
       "version_major": 2,
       "version_minor": 0
      },
      "text/plain": [
       "  0%|          | 0/2000 [00:00<?, ?it/s]"
      ]
     },
     "metadata": {},
     "output_type": "display_data"
    },
    {
     "name": "stdout",
     "output_type": "stream",
     "text": [
      "0.3059259680813008 None\n",
      "0.2794566011763178 None\n",
      "0.2291008465441675 None\n",
      "0.1887168077628651 None\n",
      "0.1532862555667135 None\n",
      "0.12050667642714864 None\n",
      "0.09058944419173119 None\n",
      "0.06323647690014372 None\n",
      "0.037364848195417695 None\n",
      "0.02372935299652354 None\n",
      "0.023746225033151987 None\n",
      "0.023736627045767466 None\n",
      "0.023752559057379167 None\n",
      "0.02373009979675982 None\n",
      "0.02374038104427596 None\n",
      "0.02371884635494495 None\n",
      "0.02373522736657891 None\n",
      "0.02374334654036625 None\n",
      "0.023725208878422614 None\n",
      "0.023714456928405504 None\n",
      "0.02376493516155399 None\n"
     ]
    },
    {
     "data": {
      "application/vnd.jupyter.widget-view+json": {
       "model_id": "10485d9b35f24a39af385d2071fb42b8",
       "version_major": 2,
       "version_minor": 0
      },
      "text/plain": [
       "  0%|          | 0/2000 [00:00<?, ?it/s]"
      ]
     },
     "metadata": {},
     "output_type": "display_data"
    },
    {
     "name": "stdout",
     "output_type": "stream",
     "text": [
      "0.27590162333064044 None\n",
      "0.24239989576978613 None\n",
      "0.2109199088848172 None\n",
      "0.1808144600523374 None\n",
      "0.15228552574735638 None\n",
      "0.12541887479436337 None\n",
      "0.09980554708455808 None\n",
      "0.07522502236732606 None\n",
      "0.05166247587626175 None\n",
      "0.02917852723864777 None\n",
      "0.013982260455820319 None\n",
      "0.013955193262337197 None\n",
      "0.013956680971763042 None\n",
      "0.013958128944944094 None\n",
      "0.013959538556515267 None\n",
      "0.0139609136884943 None\n",
      "0.013962257630214081 None\n",
      "0.013963573213546744 None\n",
      "0.013981166190787217 None\n",
      "0.013930039050805074 None\n",
      "0.01393095314882003 None\n"
     ]
    },
    {
     "data": {
      "application/vnd.jupyter.widget-view+json": {
       "model_id": "c2d75288927b4f9bb82c40226d1db4c9",
       "version_major": 2,
       "version_minor": 0
      },
      "text/plain": [
       "  0%|          | 0/2000 [00:00<?, ?it/s]"
      ]
     },
     "metadata": {},
     "output_type": "display_data"
    },
    {
     "name": "stdout",
     "output_type": "stream",
     "text": [
      "0.2447466381411625 None\n",
      "0.23167364264219095 None\n",
      "0.1866469582476763 None\n",
      "0.17484269260408333 None\n",
      "0.13122626221198422 None\n",
      "0.10481167731655977 None\n",
      "0.09572949030600084 None\n",
      "0.05513115542155469 None\n",
      "0.03206840772763484 None\n",
      "0.010442138290915757 None\n",
      "0.007320529567281249 None\n",
      "0.0073282842111726185 None\n",
      "0.007335445791685114 None\n",
      "0.007333911392915838 None\n",
      "0.007352047009348267 None\n",
      "0.007326230332288066 None\n",
      "0.0073448821192933856 None\n",
      "0.007351752327359376 None\n",
      "0.007381589988191401 None\n",
      "0.0073306976266438685 None\n",
      "0.007382592340268814 None\n"
     ]
    },
    {
     "data": {
      "application/vnd.jupyter.widget-view+json": {
       "model_id": "a7673b1faec34b569cea68fd1883fd0c",
       "version_major": 2,
       "version_minor": 0
      },
      "text/plain": [
       "  0%|          | 0/2000 [00:00<?, ?it/s]"
      ]
     },
     "metadata": {},
     "output_type": "display_data"
    },
    {
     "name": "stdout",
     "output_type": "stream",
     "text": [
      "0.2628743604256353 None\n",
      "0.23257546118724046 None\n",
      "0.20297977188446012 None\n",
      "0.17411176460603353 None\n",
      "0.14639655525202566 None\n",
      "0.1196412191967033 None\n",
      "0.09390011304560714 None\n",
      "0.06927322920519428 None\n",
      "0.04583600288333881 None\n",
      "0.023638963956607383 None\n",
      "0.011048380581867336 None\n",
      "0.011058992676852057 None\n",
      "0.011040347531853765 None\n",
      "0.011053636835044067 None\n",
      "0.011065465374639677 None\n",
      "0.011038764389888111 None\n",
      "0.011030677836567911 None\n",
      "0.01103542461106612 None\n",
      "0.011032219701296845 None\n",
      "0.011088257258927627 None\n",
      "0.011084329050241391 None\n",
      "Done!\n"
     ]
    },
    {
     "data": {
      "application/vnd.jupyter.widget-view+json": {
       "model_id": "45c94c59121d410e97991925ecd009ce",
       "version_major": 2,
       "version_minor": 0
      },
      "text/plain": [
       "  0%|          | 0/2000 [00:00<?, ?it/s]"
      ]
     },
     "metadata": {},
     "output_type": "display_data"
    },
    {
     "name": "stdout",
     "output_type": "stream",
     "text": [
      "0.31813863358883987 None\n",
      "0.31812639371250473 None\n",
      "0.31827557875325196 None\n",
      "0.3018449627998786 None\n",
      "0.3028518974297795 None\n",
      "0.3202453065395704 None\n",
      "0.3115820451857227 None\n",
      "0.2955691264991198 None\n",
      "0.27977747404746084 None\n",
      "0.2652305987359232 None\n",
      "0.2353877584965443 None\n",
      "0.2221345977475184 None\n",
      "0.2088143168509863 None\n",
      "0.21189534706610985 None\n",
      "0.1993860331196456 None\n",
      "0.18655847964016192 None\n",
      "0.1573310244998587 None\n",
      "0.1444683496786311 None\n",
      "0.14734579301490763 None\n",
      "0.13367871209303822 None\n",
      "0.10346233191138977 None\n"
     ]
    },
    {
     "data": {
      "application/vnd.jupyter.widget-view+json": {
       "model_id": "96706184fcf84b6e9b5a0a99d2e1ba3b",
       "version_major": 2,
       "version_minor": 0
      },
      "text/plain": [
       "  0%|          | 0/2000 [00:00<?, ?it/s]"
      ]
     },
     "metadata": {},
     "output_type": "display_data"
    },
    {
     "name": "stdout",
     "output_type": "stream",
     "text": [
      "0.25189021700652653 None\n",
      "0.22170572823350415 None\n",
      "0.19147874759075945 None\n",
      "0.1619759829912192 None\n",
      "0.1332866000012332 None\n",
      "0.1058511029594819 None\n",
      "0.07924750093524506 None\n",
      "0.05481923520199166 None\n",
      "0.047666564138272374 None\n",
      "0.029534741550195944 None\n",
      "0.029466063974540498 None\n",
      "0.029474808753216772 None\n",
      "0.013170844894709165 None\n",
      "0.029462377570613655 None\n",
      "0.013169410247879211 None\n",
      "0.013221222267509419 None\n",
      "0.013175554978683036 None\n",
      "0.02950011642866812 None\n",
      "0.029468892370763267 None\n",
      "0.029459857548373984 None\n",
      "0.02952356664271519 None\n"
     ]
    },
    {
     "data": {
      "application/vnd.jupyter.widget-view+json": {
       "model_id": "7af0283f2da54222a684665c9e3b35bf",
       "version_major": 2,
       "version_minor": 0
      },
      "text/plain": [
       "  0%|          | 0/2000 [00:00<?, ?it/s]"
      ]
     },
     "metadata": {},
     "output_type": "display_data"
    },
    {
     "name": "stdout",
     "output_type": "stream",
     "text": [
      "0.26041841567323964 None\n",
      "0.2133237421592177 None\n",
      "0.18286783473439708 None\n",
      "0.15428925511730335 None\n",
      "0.12684240762124482 None\n",
      "0.10032758702972007 None\n",
      "0.0751710519490435 None\n",
      "0.06761184057581772 None\n",
      "0.02870057748484175 None\n",
      "0.008332465874622969 None\n",
      "0.024327317456324715 None\n",
      "0.007980993239446387 None\n",
      "0.02430972520241759 None\n",
      "0.007989226342113374 None\n",
      "0.008014427718768077 None\n",
      "0.007990490432133658 None\n",
      "0.024336445168278167 None\n",
      "0.00801091847919872 None\n",
      "0.008016050889181336 None\n",
      "0.007993970716089562 None\n",
      "0.02431353827182612 None\n"
     ]
    },
    {
     "data": {
      "application/vnd.jupyter.widget-view+json": {
       "model_id": "31551870f7f44372ba37a67ffe77f411",
       "version_major": 2,
       "version_minor": 0
      },
      "text/plain": [
       "  0%|          | 0/2000 [00:00<?, ?it/s]"
      ]
     },
     "metadata": {},
     "output_type": "display_data"
    },
    {
     "name": "stdout",
     "output_type": "stream",
     "text": [
      "0.2530455321976085 None\n",
      "0.20792325058688144 None\n",
      "0.17970547270394152 None\n",
      "0.15162548258279407 None\n",
      "0.12455732660743943 None\n",
      "0.09847784002003604 None\n",
      "0.0733656881908077 None\n",
      "0.04933303258574637 None\n",
      "0.026446445553407468 None\n",
      "0.007519070950522548 None\n",
      "0.007098141622323285 None\n",
      "0.007110720044030347 None\n",
      "0.0071158103382495085 None\n",
      "0.0070933360295896974 None\n",
      "0.007113032028603907 None\n",
      "0.007097713512107218 None\n",
      "0.007115336162347386 None\n",
      "0.007125123413882465 None\n",
      "0.007134091973793284 None\n",
      "0.007119305880365156 None\n",
      "0.007131344671710913 None\n"
     ]
    },
    {
     "data": {
      "application/vnd.jupyter.widget-view+json": {
       "model_id": "779a2a820a274a53a0d4e282d014adb0",
       "version_major": 2,
       "version_minor": 0
      },
      "text/plain": [
       "  0%|          | 0/2000 [00:00<?, ?it/s]"
      ]
     },
     "metadata": {},
     "output_type": "display_data"
    },
    {
     "name": "stdout",
     "output_type": "stream",
     "text": [
      "0.25058604909333015 None\n",
      "0.22174568673326386 None\n",
      "0.17790750969182265 None\n",
      "0.1655228936096719 None\n",
      "0.12312141234541903 None\n",
      "0.09688823183403875 None\n",
      "0.07171402089483828 None\n",
      "0.04772280742160394 None\n",
      "0.024895002073125408 None\n",
      "0.003258652410336863 None\n",
      "0.002854793207587584 None\n",
      "0.0028384238654820125 None\n",
      "0.0028422716327021966 None\n",
      "0.002829431679327683 None\n",
      "0.0028248857676561323 None\n",
      "0.0028497141811846495 None\n",
      "0.002874423273730096 None\n",
      "0.002818870924918712 None\n",
      "0.0028514888626752187 None\n",
      "0.0028590851894312293 None\n",
      "0.0028534829205520695 None\n"
     ]
    },
    {
     "data": {
      "application/vnd.jupyter.widget-view+json": {
       "model_id": "46fa459201454b45a9e6f2ff9f3392c7",
       "version_major": 2,
       "version_minor": 0
      },
      "text/plain": [
       "  0%|          | 0/2000 [00:00<?, ?it/s]"
      ]
     },
     "metadata": {},
     "output_type": "display_data"
    },
    {
     "name": "stdout",
     "output_type": "stream",
     "text": [
      "0.23173262282415283 None\n",
      "0.2034413940560712 None\n",
      "0.1754538914401197 None\n",
      "0.14794604184415477 None\n",
      "0.1211231843462652 None\n",
      "0.0951952838122665 None\n",
      "0.07025120930860915 None\n",
      "0.04635980070372218 None\n",
      "0.02358896967934309 None\n",
      "0.003993082491871164 None\n",
      "0.0035070004689021017 None\n",
      "0.0035146761407425053 None\n",
      "0.0035049759414188374 None\n",
      "0.003497425552577157 None\n",
      "0.003559728679905423 None\n",
      "0.0035315495658419967 None\n",
      "0.003496699806302428 None\n",
      "0.003525258380942677 None\n",
      "0.0035415611867292843 None\n",
      "0.003554895912908102 None\n",
      "0.003503546895983602 None\n",
      "Done!\n"
     ]
    },
    {
     "data": {
      "application/vnd.jupyter.widget-view+json": {
       "model_id": "b9441a08d87543df8ee76b94c8a0e2ec",
       "version_major": 2,
       "version_minor": 0
      },
      "text/plain": [
       "  0%|          | 0/2000 [00:00<?, ?it/s]"
      ]
     },
     "metadata": {},
     "output_type": "display_data"
    },
    {
     "name": "stdout",
     "output_type": "stream",
     "text": [
      "0.3415112346657507 None\n",
      "0.30010451174410685 None\n",
      "0.24506174142883738 None\n",
      "0.2058896595357769 None\n",
      "0.1692599056678797 None\n",
      "0.1367667355190293 None\n",
      "0.10692058242839388 None\n",
      "0.07925475523553874 None\n",
      "0.05409247771305169 None\n",
      "0.03324096388903255 None\n",
      "0.03283441357742872 None\n",
      "0.03286351689566837 None\n",
      "0.03284194909393721 None\n",
      "0.03288218241920442 None\n",
      "0.03283524014005586 None\n",
      "0.032881766806817946 None\n",
      "0.03285783140821909 None\n",
      "0.03284610613066438 None\n",
      "0.03283861449775642 None\n",
      "0.03283547635616452 None\n",
      "0.03286549989632447 None\n"
     ]
    },
    {
     "data": {
      "application/vnd.jupyter.widget-view+json": {
       "model_id": "4949d14a2e9b436396e3f77697b7f2d9",
       "version_major": 2,
       "version_minor": 0
      },
      "text/plain": [
       "  0%|          | 0/2000 [00:00<?, ?it/s]"
      ]
     },
     "metadata": {},
     "output_type": "display_data"
    },
    {
     "name": "stdout",
     "output_type": "stream",
     "text": [
      "0.25957498196042406 None\n",
      "0.22659254971453563 None\n",
      "0.2106264721429768 None\n",
      "0.16570871467192752 None\n",
      "0.13765570551394993 None\n",
      "0.11085936491596834 None\n",
      "0.08524466799190522 None\n",
      "0.0607949594315015 None\n",
      "0.03748826239441276 None\n",
      "0.01535333054773962 None\n",
      "0.009046612824509987 None\n",
      "0.009036792934701809 None\n",
      "0.009024192492374784 None\n",
      "0.009045142355087734 None\n",
      "0.00902570850495408 None\n",
      "0.009049728205330454 None\n",
      "0.009054361615424866 None\n",
      "0.009045795560230621 None\n",
      "0.009034693136017553 None\n",
      "0.009043631039123189 None\n",
      "0.009027680553733071 None\n"
     ]
    },
    {
     "data": {
      "application/vnd.jupyter.widget-view+json": {
       "model_id": "829f2a081b6e429c8d7f21b9b146c419",
       "version_major": 2,
       "version_minor": 0
      },
      "text/plain": [
       "  0%|          | 0/2000 [00:00<?, ?it/s]"
      ]
     },
     "metadata": {},
     "output_type": "display_data"
    },
    {
     "name": "stdout",
     "output_type": "stream",
     "text": [
      "0.24536809767350437 None\n",
      "0.2158332278507023 None\n",
      "0.18703144068265862 None\n",
      "0.15879002987538998 None\n",
      "0.14754006595121166 None\n",
      "0.12112593349432366 None\n",
      "0.09565750257893435 None\n",
      "0.0550386782464589 None\n",
      "0.0320469480516449 None\n",
      "0.01022731960814264 None\n",
      "0.005424846109223126 None\n",
      "0.0054392170708292675 None\n",
      "0.005435355788778825 None\n",
      "0.005452634225484178 None\n",
      "0.005426092591401616 None\n",
      "0.005457661953156951 None\n",
      "0.005444213672991745 None\n",
      "0.005457585316121483 None\n",
      "0.005449765177203147 None\n",
      "0.005433223077899688 None\n",
      "0.005428894539654145 None\n"
     ]
    },
    {
     "data": {
      "application/vnd.jupyter.widget-view+json": {
       "model_id": "2a06335a631b491aa5f094aef64ebb1c",
       "version_major": 2,
       "version_minor": 0
      },
      "text/plain": [
       "  0%|          | 0/2000 [00:00<?, ?it/s]"
      ]
     },
     "metadata": {},
     "output_type": "display_data"
    },
    {
     "name": "stdout",
     "output_type": "stream",
     "text": [
      "0.23533750004723625 None\n",
      "0.20628426697179647 None\n",
      "0.1776947474337971 None\n",
      "0.14974330241373301 None\n",
      "0.12251499892441955 None\n",
      "0.09619018914675236 None\n",
      "0.07098372480371261 None\n",
      "0.04701073557553254 None\n",
      "0.02429279671084143 None\n",
      "0.006013125377849083 None\n",
      "0.005641557618440673 None\n",
      "0.005632667529449507 None\n",
      "0.00563288204047912 None\n",
      "0.005633084113343708 None\n",
      "0.005633275576117322 None\n",
      "0.005633458052453707 None\n",
      "0.005633632850883595 None\n",
      "0.00563380103672934 None\n",
      "0.005633963485136973 None\n",
      "0.005634120920834657 None\n",
      "0.005634273948370627 None\n",
      "Done!\n"
     ]
    },
    {
     "data": {
      "application/vnd.jupyter.widget-view+json": {
       "model_id": "ae6ae2eba36d45cfa43abb2361e0c536",
       "version_major": 2,
       "version_minor": 0
      },
      "text/plain": [
       "  0%|          | 0/2000 [00:00<?, ?it/s]"
      ]
     },
     "metadata": {},
     "output_type": "display_data"
    },
    {
     "name": "stdout",
     "output_type": "stream",
     "text": [
      "0.2845574103322495 None\n",
      "0.2530304994027591 None\n",
      "0.23460808328679458 None\n",
      "0.15979724915226218 None\n",
      "0.12187953591536697 None\n",
      "0.08928139089903102 None\n",
      "0.07797848507170624 None\n",
      "0.054595428269883284 None\n",
      "0.019071555921938838 None\n",
      "0.018570513820320433 None\n",
      "0.018577369519340057 None\n",
      "0.018613172294276115 None\n",
      "0.03486384658886307 None\n",
      "0.034865058371728465 None\n",
      "0.034906287644722575 None\n",
      "0.034892061836249086 None\n",
      "0.03486981323601028 None\n",
      "0.018598668558180213 None\n",
      "0.018573397198170003 None\n",
      "0.0348615546958055 None\n",
      "0.03489656526015045 None\n"
     ]
    },
    {
     "data": {
      "application/vnd.jupyter.widget-view+json": {
       "model_id": "dbbeba59aede4efaaa3f999bea4ac668",
       "version_major": 2,
       "version_minor": 0
      },
      "text/plain": [
       "  0%|          | 0/2000 [00:00<?, ?it/s]"
      ]
     },
     "metadata": {},
     "output_type": "display_data"
    },
    {
     "name": "stdout",
     "output_type": "stream",
     "text": [
      "0.2547386670851487 None\n",
      "0.22275569771827114 None\n",
      "0.20800297592547934 None\n",
      "0.16184935617979432 None\n",
      "0.13362506927057258 None\n",
      "0.10683847098912456 None\n",
      "0.08107460555493232 None\n",
      "0.056530728019616845 None\n",
      "0.033170405982603395 None\n",
      "0.016027921502388895 None\n",
      "0.015900844067951152 None\n",
      "0.015887748688935444 None\n",
      "0.015902876376718805 None\n",
      "0.015884929427226985 None\n",
      "0.015889046164914492 None\n",
      "0.015887484690274813 None\n",
      "0.015905282034759417 None\n",
      "0.015879153906568043 None\n",
      "0.015889222218442203 None\n",
      "0.01588455025303322 None\n",
      "0.01589464638939721 None\n"
     ]
    },
    {
     "data": {
      "application/vnd.jupyter.widget-view+json": {
       "model_id": "3b04bc90f09e44f0a9fc4651959945b8",
       "version_major": 2,
       "version_minor": 0
      },
      "text/plain": [
       "  0%|          | 0/2000 [00:00<?, ?it/s]"
      ]
     },
     "metadata": {},
     "output_type": "display_data"
    },
    {
     "name": "stdout",
     "output_type": "stream",
     "text": [
      "0.24828433416000123 None\n",
      "0.23216146982679473 None\n",
      "0.1858930512446473 None\n",
      "0.15588213146094285 None\n",
      "0.12713155276475915 None\n",
      "0.09992420527225888 None\n",
      "0.07433332107613752 None\n",
      "0.049831771711118425 None\n",
      "0.02675358228113832 None\n",
      "0.00706901543756416 None\n",
      "0.006502174109023131 None\n",
      "0.006517739037796636 None\n",
      "0.006488947381798417 None\n",
      "0.006495969928582225 None\n",
      "0.006482028738213194 None\n",
      "0.006498464462802871 None\n",
      "0.006517194963189196 None\n",
      "0.006512436154850982 None\n",
      "0.006491025429106867 None\n",
      "0.006510329923784474 None\n",
      "0.006499384739585081 None\n"
     ]
    },
    {
     "data": {
      "application/vnd.jupyter.widget-view+json": {
       "model_id": "76e625687db346dfa0bb1e7262a5c934",
       "version_major": 2,
       "version_minor": 0
      },
      "text/plain": [
       "  0%|          | 0/2000 [00:00<?, ?it/s]"
      ]
     },
     "metadata": {},
     "output_type": "display_data"
    },
    {
     "name": "stdout",
     "output_type": "stream",
     "text": [
      "0.25118957174469203 None\n",
      "0.2061583692434207 None\n",
      "0.19402093491943365 None\n",
      "0.16612212940424065 None\n",
      "0.13895972488660768 None\n",
      "0.09645167549791572 None\n",
      "0.07127771603725848 None\n",
      "0.06339966066665229 None\n",
      "0.024013980451203322 None\n",
      "0.008637492432521328 None\n",
      "0.008589307880565302 None\n",
      "0.00859023315902627 None\n",
      "0.008623517116713175 None\n",
      "0.008573949131357901 None\n",
      "0.008579634185705745 None\n",
      "0.008616922906933097 None\n",
      "0.00859842950914281 None\n",
      "0.008641281523693879 None\n",
      "0.008609288557309107 None\n",
      "0.00858240121412179 None\n",
      "0.008601028299963922 None\n",
      "Done!\n"
     ]
    }
   ],
   "source": [
    "n = 3\n",
    "d = 2**n\n",
    "\n",
    "np.random.seed(42)\n",
    "random.seed(42)\n",
    "tf.random.set_seed(42)\n",
    "rng = np.random.default_rng(seed=42)\n",
    "\n",
    "distance_best_list, model_best_list = fit_diluted_unitary(spectrum_target_list1, \n",
    "                                                          d=d, \n",
    "                                                          rank_start=1, \n",
    "                                                          rank_step=1,\n",
    "                                                          num_iter = 2000,\n",
    "                                                         )\n",
    "\n",
    "saver([distance_best_list, model_best_list], data_path(\"diluted_fitting_8layer.model\"))"
   ]
  },
  {
   "cell_type": "code",
   "execution_count": 35,
   "metadata": {
    "scrolled": true
   },
   "outputs": [
    {
     "data": {
      "application/vnd.jupyter.widget-view+json": {
       "model_id": "6db951fae47a4fe4a994db68854181e4",
       "version_major": 2,
       "version_minor": 0
      },
      "text/plain": [
       "  0%|          | 0/10 [00:00<?, ?it/s]"
      ]
     },
     "metadata": {},
     "output_type": "display_data"
    },
    {
     "data": {
      "application/vnd.jupyter.widget-view+json": {
       "model_id": "f5d89fb8fc024b07a97de636093b9e91",
       "version_major": 2,
       "version_minor": 0
      },
      "text/plain": [
       "  0%|          | 0/2000 [00:00<?, ?it/s]"
      ]
     },
     "metadata": {},
     "output_type": "display_data"
    },
    {
     "name": "stdout",
     "output_type": "stream",
     "text": [
      "0.16142032802778997 None\n",
      "0.16017077040653652 None\n",
      "0.1435128787000542 None\n",
      "0.1587896213588206 None\n",
      "0.1433006384444445 None\n",
      "0.14329846752817652 None\n",
      "0.15873525657872392 None\n",
      "0.1587352464665353 None\n",
      "0.14329831342636226 None\n",
      "0.14329831338052115 None\n",
      "0.15873524589841037 None\n",
      "0.15873524589873395 None\n",
      "0.15873524589946444 None\n",
      "0.1587352458989718 None\n",
      "0.15873524589925503 None\n",
      "0.15873524589959118 None\n",
      "0.1432983133773239 None\n",
      "0.15873524589901494 None\n",
      "0.15873524589919943 None\n",
      "0.14329831337594998 None\n",
      "0.15873524589864835 None\n"
     ]
    },
    {
     "data": {
      "application/vnd.jupyter.widget-view+json": {
       "model_id": "d63f9598957d40f795d651e7c74b54f1",
       "version_major": 2,
       "version_minor": 0
      },
      "text/plain": [
       "  0%|          | 0/2000 [00:00<?, ?it/s]"
      ]
     },
     "metadata": {},
     "output_type": "display_data"
    },
    {
     "name": "stdout",
     "output_type": "stream",
     "text": [
      "0.062219490412483446 None\n",
      "0.038353987878248966 None\n",
      "0.05466983549977748 None\n",
      "0.03834205278189678 None\n",
      "0.054659012112926765 None\n",
      "0.0547115208861466 None\n",
      "0.05464354704964762 None\n",
      "0.054661083987342776 None\n",
      "0.054647124923410506 None\n",
      "0.05467453291593034 None\n",
      "0.054665930507932774 None\n",
      "0.05466145411481751 None\n",
      "0.03833725143866586 None\n",
      "0.054655105564809396 None\n",
      "0.05464699928906068 None\n",
      "0.03835023977742003 None\n",
      "0.054671531894735684 None\n",
      "0.054716695963529655 None\n",
      "0.038374694471815234 None\n",
      "0.03833726891197475 None\n",
      "0.054682831198770765 None\n"
     ]
    },
    {
     "data": {
      "application/vnd.jupyter.widget-view+json": {
       "model_id": "057c2c0f316343c2884879e179645f4d",
       "version_major": 2,
       "version_minor": 0
      },
      "text/plain": [
       "  0%|          | 0/2000 [00:00<?, ?it/s]"
      ]
     },
     "metadata": {},
     "output_type": "display_data"
    },
    {
     "name": "stdout",
     "output_type": "stream",
     "text": [
      "0.041954930312302595 None\n",
      "0.0348556878471266 None\n",
      "0.019427950378952667 None\n",
      "0.019415421757701303 None\n",
      "0.03488546564927601 None\n",
      "0.019428433189714087 None\n",
      "0.034867679793563276 None\n",
      "0.019467982145503996 None\n",
      "0.03484342810716612 None\n",
      "0.01942806648990568 None\n",
      "0.03484871600549003 None\n",
      "0.019396748948973766 None\n",
      "0.01943486253771456 None\n",
      "0.03483900834676232 None\n",
      "0.019410904131088674 None\n",
      "0.019410658595992163 None\n",
      "0.01944905187897418 None\n",
      "0.0348694600080978 None\n",
      "0.03483765429535088 None\n",
      "0.01941643464054904 None\n",
      "0.03485712734479517 None\n"
     ]
    },
    {
     "data": {
      "application/vnd.jupyter.widget-view+json": {
       "model_id": "f779356895634427810bf05dd1c53926",
       "version_major": 2,
       "version_minor": 0
      },
      "text/plain": [
       "  0%|          | 0/2000 [00:00<?, ?it/s]"
      ]
     },
     "metadata": {},
     "output_type": "display_data"
    },
    {
     "name": "stdout",
     "output_type": "stream",
     "text": [
      "0.033449070158682426 None\n",
      "0.01731730881299231 None\n",
      "0.03281192601724797 None\n",
      "0.017300136349889604 None\n",
      "0.017334043126312225 None\n",
      "0.017290828167876075 None\n",
      "0.03284198892558248 None\n",
      "0.017308004530374323 None\n",
      "0.01730848632004988 None\n",
      "0.032776409965531675 None\n",
      "0.01729339184718061 None\n",
      "0.017398595493846182 None\n",
      "0.01730412728098346 None\n",
      "0.03276513263242825 None\n",
      "0.03273462281910517 None\n",
      "0.032727780556076835 None\n",
      "0.01733326638050501 None\n",
      "0.017309497285501064 None\n",
      "0.03275684187081184 None\n",
      "0.0327521595776413 None\n",
      "0.032825441366398866 None\n"
     ]
    },
    {
     "data": {
      "application/vnd.jupyter.widget-view+json": {
       "model_id": "7ef19ff05def490a938157f431130069",
       "version_major": 2,
       "version_minor": 0
      },
      "text/plain": [
       "  0%|          | 0/2000 [00:00<?, ?it/s]"
      ]
     },
     "metadata": {},
     "output_type": "display_data"
    },
    {
     "name": "stdout",
     "output_type": "stream",
     "text": [
      "0.028746981671822238 None\n",
      "0.011846357532874299 None\n",
      "0.011782193872573964 None\n",
      "0.011820101693184116 None\n",
      "0.011831030086035511 None\n",
      "0.011834861553122538 None\n",
      "0.011807268634710134 None\n",
      "0.011767273224513163 None\n",
      "0.011832889634698732 None\n",
      "0.011810829136194394 None\n",
      "0.01180544950074803 None\n",
      "0.01180060842634005 None\n",
      "0.011766149869833003 None\n",
      "0.011823906950700151 None\n",
      "0.011773954077909907 None\n",
      "0.011845815817662416 None\n",
      "0.011783537972571942 None\n",
      "0.011783971045355175 None\n",
      "0.011771882478648507 None\n",
      "0.011794525987637297 None\n",
      "0.011795036410974798 None\n"
     ]
    },
    {
     "data": {
      "application/vnd.jupyter.widget-view+json": {
       "model_id": "112fa28e9a9d4580b85813af9a557085",
       "version_major": 2,
       "version_minor": 0
      },
      "text/plain": [
       "  0%|          | 0/2000 [00:00<?, ?it/s]"
      ]
     },
     "metadata": {},
     "output_type": "display_data"
    },
    {
     "name": "stdout",
     "output_type": "stream",
     "text": [
      "0.02556952029309384 None\n",
      "0.013067262188474909 None\n",
      "0.012952295960671725 None\n",
      "0.012957505048167556 None\n",
      "0.012943082247413935 None\n",
      "0.012976700235069114 None\n",
      "0.013029085802252163 None\n",
      "0.012946239378831367 None\n",
      "0.012964598562228417 None\n",
      "0.012958792232007584 None\n",
      "0.01297545654787011 None\n",
      "0.012954502661807914 None\n",
      "0.012949592743784308 None\n",
      "0.01295182006205945 None\n",
      "0.012972965276914966 None\n",
      "0.012999383802130428 None\n",
      "0.012945036153499338 None\n",
      "0.012978928651531385 None\n",
      "0.01294175408290639 None\n",
      "0.013010140898420036 None\n",
      "0.012949227995976899 None\n",
      "Done!\n"
     ]
    },
    {
     "data": {
      "application/vnd.jupyter.widget-view+json": {
       "model_id": "e634e702b8d14f5dbeaaa6496ef55abb",
       "version_major": 2,
       "version_minor": 0
      },
      "text/plain": [
       "  0%|          | 0/2000 [00:00<?, ?it/s]"
      ]
     },
     "metadata": {},
     "output_type": "display_data"
    },
    {
     "name": "stdout",
     "output_type": "stream",
     "text": [
      "0.20711579317407638 None\n",
      "0.20227941175360103 None\n",
      "0.20149949013897858 None\n",
      "0.20149583794987708 None\n",
      "0.1860605014069497 None\n",
      "0.1860605013416938 None\n",
      "0.20149582858340395 None\n",
      "0.20149582854036882 None\n",
      "0.20149582851452053 None\n",
      "0.1860605013807998 None\n",
      "0.20149582854208237 None\n",
      "0.20149582852369785 None\n",
      "0.20149582854162704 None\n",
      "0.2014958285582835 None\n",
      "0.1860605013806074 None\n",
      "0.20149582853231449 None\n",
      "0.18606050133006813 None\n",
      "0.2014958285831219 None\n",
      "0.20149582853186676 None\n",
      "0.18606050139950034 None\n",
      "0.1860605013478048 None\n"
     ]
    },
    {
     "data": {
      "application/vnd.jupyter.widget-view+json": {
       "model_id": "6c43688b60e94879bcf27a0a993379ad",
       "version_major": 2,
       "version_minor": 0
      },
      "text/plain": [
       "  0%|          | 0/2000 [00:00<?, ?it/s]"
      ]
     },
     "metadata": {},
     "output_type": "display_data"
    },
    {
     "name": "stdout",
     "output_type": "stream",
     "text": [
      "0.04722776751481485 None\n",
      "0.03447611338619341 None\n",
      "0.049938556222218454 None\n",
      "0.04992601735558701 None\n",
      "0.04992997493779016 None\n",
      "0.034521486513630135 None\n",
      "0.0344664475046662 None\n",
      "0.0345005082636068 None\n",
      "0.03452480465974125 None\n",
      "0.03448903420484195 None\n",
      "0.03449066448502739 None\n",
      "0.03452127757950722 None\n",
      "0.04994622588583258 None\n",
      "0.034558683189438597 None\n",
      "0.03448109782689014 None\n",
      "0.03450669768094196 None\n",
      "0.03448782868037005 None\n",
      "0.034487175740064664 None\n",
      "0.03448140496633147 None\n",
      "0.04992771951450019 None\n",
      "0.034473578956140276 None\n"
     ]
    },
    {
     "data": {
      "application/vnd.jupyter.widget-view+json": {
       "model_id": "8cadfcffd5df413f8adf788ea5c390d4",
       "version_major": 2,
       "version_minor": 0
      },
      "text/plain": [
       "  0%|          | 0/2000 [00:00<?, ?it/s]"
      ]
     },
     "metadata": {},
     "output_type": "display_data"
    },
    {
     "name": "stdout",
     "output_type": "stream",
     "text": [
      "0.051139100165701556 None\n",
      "0.035485286361557254 None\n",
      "0.050930401801091055 None\n",
      "0.03549644730347021 None\n",
      "0.03548975730577868 None\n",
      "0.035489496217132405 None\n",
      "0.03549153922589401 None\n",
      "0.050935752372973014 None\n",
      "0.05094954162545884 None\n",
      "0.05095010548088983 None\n",
      "0.05096086104949697 None\n",
      "0.03546908670342759 None\n",
      "0.050970245794283525 None\n",
      "0.03551905155764509 None\n",
      "0.03550162137972155 None\n",
      "0.035475285639996884 None\n",
      "0.035524696936864227 None\n",
      "0.03552514079251557 None\n",
      "0.050914482298374995 None\n",
      "0.03548789743947211 None\n",
      "0.05094808685572452 None\n",
      "Done!\n"
     ]
    },
    {
     "data": {
      "application/vnd.jupyter.widget-view+json": {
       "model_id": "41f2fc4ad7cc4fa192c44a67f4decd3b",
       "version_major": 2,
       "version_minor": 0
      },
      "text/plain": [
       "  0%|          | 0/2000 [00:00<?, ?it/s]"
      ]
     },
     "metadata": {},
     "output_type": "display_data"
    },
    {
     "name": "stdout",
     "output_type": "stream",
     "text": [
      "0.16898993456014466 None\n",
      "0.14952034079323873 None\n",
      "0.16469247899352613 None\n",
      "0.149247496552591 None\n",
      "0.14924749655241096 None\n",
      "0.16469246813591343 None\n",
      "0.16469246813249902 None\n",
      "0.16469246812723548 None\n",
      "0.16469246812927638 None\n",
      "0.14924749655428513 None\n",
      "0.16469246813257704 None\n",
      "0.16469246814190353 None\n",
      "0.16469246812094307 None\n",
      "0.1492474965600471 None\n",
      "0.14924749655450636 None\n",
      "0.14924749655745767 None\n",
      "0.16469246811942848 None\n",
      "0.16469246811740637 None\n",
      "0.1492474965708777 None\n",
      "0.14924749655856082 None\n",
      "0.1646924681293943 None\n"
     ]
    },
    {
     "data": {
      "application/vnd.jupyter.widget-view+json": {
       "model_id": "6718c0587a884429a32fd5b1f99b11d9",
       "version_major": 2,
       "version_minor": 0
      },
      "text/plain": [
       "  0%|          | 0/2000 [00:00<?, ?it/s]"
      ]
     },
     "metadata": {},
     "output_type": "display_data"
    },
    {
     "name": "stdout",
     "output_type": "stream",
     "text": [
      "0.07648737643620247 None\n",
      "0.053641680309384224 None\n",
      "0.08364341577491466 None\n",
      "0.053566361574012594 None\n",
      "0.06902462754108515 None\n",
      "0.06902831624356814 None\n",
      "0.08362517845522432 None\n",
      "0.06902523335165191 None\n",
      "0.06902840781014997 None\n",
      "0.06905981745698049 None\n",
      "0.05360478751215815 None\n",
      "0.06902438413942745 None\n",
      "0.053570158409342504 None\n",
      "0.06906840688381116 None\n",
      "0.06904715370521058 None\n",
      "0.05358362358803653 None\n",
      "0.06902002791287601 None\n",
      "0.08361893925387534 None\n",
      "0.08360716273671384 None\n",
      "0.05356635474581539 None\n",
      "0.05356846279414755 None\n"
     ]
    },
    {
     "data": {
      "application/vnd.jupyter.widget-view+json": {
       "model_id": "77bf3722d26b4f14a9e644f2b897bf96",
       "version_major": 2,
       "version_minor": 0
      },
      "text/plain": [
       "  0%|          | 0/2000 [00:00<?, ?it/s]"
      ]
     },
     "metadata": {},
     "output_type": "display_data"
    },
    {
     "name": "stdout",
     "output_type": "stream",
     "text": [
      "0.04727417069201229 None\n",
      "0.05033126357100741 None\n",
      "0.06490939516158242 None\n",
      "0.050300700479768604 None\n",
      "0.050396104269601893 None\n",
      "0.05030526730031445 None\n",
      "0.06485168241767836 None\n",
      "0.0648529047059233 None\n",
      "0.050334865814766316 None\n",
      "0.05030756301205018 None\n",
      "0.03489513360799328 None\n",
      "0.0502923871004525 None\n",
      "0.0503217460198086 None\n",
      "0.03487426164785426 None\n",
      "0.05028941419972059 None\n",
      "0.050375935592573265 None\n",
      "0.034878893576134454 None\n",
      "0.0502849023470882 None\n",
      "0.034878772159543166 None\n",
      "0.05030056593412596 None\n",
      "0.050285257158144664 None\n"
     ]
    },
    {
     "data": {
      "application/vnd.jupyter.widget-view+json": {
       "model_id": "7f180cf680754d009dd00c2ab952b34f",
       "version_major": 2,
       "version_minor": 0
      },
      "text/plain": [
       "  0%|          | 0/2000 [00:00<?, ?it/s]"
      ]
     },
     "metadata": {},
     "output_type": "display_data"
    },
    {
     "name": "stdout",
     "output_type": "stream",
     "text": [
      "0.047247310759500095 None\n",
      "0.02295724463069928 None\n",
      "0.05294290033468372 None\n",
      "0.022965350193041932 None\n",
      "0.038385687937695756 None\n",
      "0.03835504465234314 None\n",
      "0.03842291895251899 None\n",
      "0.022960085693749535 None\n",
      "0.022924298406492044 None\n",
      "0.05301051809552125 None\n",
      "0.03836520497541842 None\n",
      "0.022917557493514512 None\n",
      "0.052974921176735475 None\n",
      "0.022950468257889642 None\n",
      "0.038368135118949945 None\n",
      "0.02294553420593426 None\n",
      "0.03838126742903023 None\n",
      "0.022922589181598618 None\n",
      "0.022935448618503572 None\n",
      "0.052942331241659354 None\n",
      "0.03838364091287783 None\n"
     ]
    },
    {
     "data": {
      "application/vnd.jupyter.widget-view+json": {
       "model_id": "56edc16d46b74895bca1cc65a24ca698",
       "version_major": 2,
       "version_minor": 0
      },
      "text/plain": [
       "  0%|          | 0/2000 [00:00<?, ?it/s]"
      ]
     },
     "metadata": {},
     "output_type": "display_data"
    },
    {
     "name": "stdout",
     "output_type": "stream",
     "text": [
      "0.042080467288201806 None\n",
      "0.027843019979220816 None\n",
      "0.012253710275918825 None\n",
      "0.01223923918647585 None\n",
      "0.012223849178093736 None\n",
      "0.02765263796767349 None\n",
      "0.012237848913249517 None\n",
      "0.0276625594024381 None\n",
      "0.012214092530856124 None\n",
      "0.0276768181323279 None\n",
      "0.012223285242492613 None\n",
      "0.027653129476881727 None\n",
      "0.012239177070553747 None\n",
      "0.02768206951628078 None\n",
      "0.012215529816877386 None\n",
      "0.027654054538418738 None\n",
      "0.02766156305486163 None\n",
      "0.01221654983183574 None\n",
      "0.027705654952758396 None\n",
      "0.012230472479591572 None\n",
      "0.01225932243376338 None\n"
     ]
    },
    {
     "data": {
      "application/vnd.jupyter.widget-view+json": {
       "model_id": "4383ccb02c534973a8901f929aeb77d7",
       "version_major": 2,
       "version_minor": 0
      },
      "text/plain": [
       "  0%|          | 0/2000 [00:00<?, ?it/s]"
      ]
     },
     "metadata": {},
     "output_type": "display_data"
    },
    {
     "name": "stdout",
     "output_type": "stream",
     "text": [
      "0.035186500554680485 None\n",
      "0.011580884290215301 None\n",
      "0.011530455165897405 None\n",
      "0.01155379250134994 None\n",
      "0.027850214765661303 None\n",
      "0.02792822138268653 None\n",
      "0.011556080726482313 None\n",
      "0.011523143079702456 None\n",
      "0.011561790593721453 None\n",
      "0.011565347899877967 None\n",
      "0.011542625583260196 None\n",
      "0.011602620716447846 None\n",
      "0.02787139221725246 None\n",
      "0.011585441376492218 None\n",
      "0.011547808721371072 None\n",
      "0.011554682570733003 None\n",
      "0.01152810310443058 None\n",
      "0.02791092275987407 None\n",
      "0.011539217982708 None\n",
      "0.02790012203073534 None\n",
      "0.011582917816648726 None\n"
     ]
    },
    {
     "data": {
      "application/vnd.jupyter.widget-view+json": {
       "model_id": "8be0b09a1656426681197fa14d85e515",
       "version_major": 2,
       "version_minor": 0
      },
      "text/plain": [
       "  0%|          | 0/2000 [00:00<?, ?it/s]"
      ]
     },
     "metadata": {},
     "output_type": "display_data"
    },
    {
     "name": "stdout",
     "output_type": "stream",
     "text": [
      "0.0238913861592686 None\n",
      "0.008152203606248236 None\n",
      "0.00789179278131895 None\n",
      "0.007910049272720716 None\n",
      "0.00792226910383555 None\n",
      "0.007900536511162931 None\n",
      "0.007896593561362578 None\n",
      "0.007913720016309477 None\n",
      "0.007912349218832535 None\n",
      "0.007894389432533643 None\n",
      "0.007896648585660327 None\n",
      "0.007904640666571667 None\n",
      "0.00789475945089458 None\n",
      "0.007915366178180464 None\n",
      "0.007925159160680125 None\n",
      "0.007927509269568117 None\n",
      "0.007882086198597264 None\n",
      "0.007905548769671051 None\n",
      "0.007901245654096497 None\n",
      "0.007881766496292134 None\n",
      "0.007877689245388678 None\n"
     ]
    },
    {
     "data": {
      "application/vnd.jupyter.widget-view+json": {
       "model_id": "3fc3bc671c084ee2bbfe6340e1ad08b3",
       "version_major": 2,
       "version_minor": 0
      },
      "text/plain": [
       "  0%|          | 0/2000 [00:00<?, ?it/s]"
      ]
     },
     "metadata": {},
     "output_type": "display_data"
    },
    {
     "name": "stdout",
     "output_type": "stream",
     "text": [
      "0.013653191730383655 None\n",
      "0.005807315485251571 None\n",
      "0.005827786757546306 None\n",
      "0.005816065471424895 None\n",
      "0.005817107702817887 None\n",
      "0.0058086571123354145 None\n",
      "0.005798781559276934 None\n",
      "0.005817149770737939 None\n",
      "0.0058333405022555854 None\n",
      "0.005821776741066015 None\n",
      "0.005809007807857072 None\n",
      "0.005826468220070449 None\n",
      "0.005808386622466287 None\n",
      "0.005812705975639698 None\n",
      "0.005845025898328084 None\n",
      "0.0058531869523504336 None\n",
      "0.005840778544599136 None\n",
      "0.005808329045609965 None\n",
      "0.005812771348779386 None\n",
      "0.005880859342892928 None\n",
      "0.00583150069211887 None\n"
     ]
    },
    {
     "data": {
      "application/vnd.jupyter.widget-view+json": {
       "model_id": "34eb97a5e9f34f2f84c45027126584eb",
       "version_major": 2,
       "version_minor": 0
      },
      "text/plain": [
       "  0%|          | 0/2000 [00:00<?, ?it/s]"
      ]
     },
     "metadata": {},
     "output_type": "display_data"
    },
    {
     "name": "stdout",
     "output_type": "stream",
     "text": [
      "0.014944961462546869 None\n",
      "0.006595568527925602 None\n",
      "0.006621160059762363 None\n",
      "0.006601819903182845 None\n",
      "0.006616954279031294 None\n",
      "0.006591197925058363 None\n",
      "0.0065982313252824585 None\n",
      "0.006597384129727161 None\n",
      "0.006592874135801211 None\n",
      "0.006647529133804912 None\n",
      "0.0066194455383035075 None\n",
      "0.0065978920281782975 None\n",
      "0.006592854338437069 None\n",
      "0.006606579792444334 None\n",
      "0.006645187220115423 None\n",
      "0.006591004515163498 None\n",
      "0.006599306031536774 None\n",
      "0.0066191799009730126 None\n",
      "0.006602249898615452 None\n",
      "0.006616835682968046 None\n",
      "0.006607550614490233 None\n",
      "Done!\n"
     ]
    },
    {
     "data": {
      "application/vnd.jupyter.widget-view+json": {
       "model_id": "6e2fc44ff4854e559696f9387d9a33d9",
       "version_major": 2,
       "version_minor": 0
      },
      "text/plain": [
       "  0%|          | 0/2000 [00:00<?, ?it/s]"
      ]
     },
     "metadata": {},
     "output_type": "display_data"
    },
    {
     "name": "stdout",
     "output_type": "stream",
     "text": [
      "0.10832566949618679 None\n",
      "0.12419510751446096 None\n",
      "0.124195065421353 None\n",
      "0.12419506542063001 None\n",
      "0.1078858901126793 None\n",
      "0.107885890112678 None\n",
      "0.10788589011270448 None\n",
      "0.12419506542065013 None\n",
      "0.12419506542060602 None\n",
      "0.12419506542058903 None\n",
      "0.10788589011271732 None\n",
      "0.12419506542059583 None\n",
      "0.10788589011267764 None\n",
      "0.10788589011273725 None\n",
      "0.1241950654206197 None\n",
      "0.12419506542068881 None\n",
      "0.12419506542060657 None\n",
      "0.12419506542058845 None\n",
      "0.124195065420828 None\n",
      "0.10788589011270529 None\n",
      "0.1241950654206292 None\n"
     ]
    },
    {
     "data": {
      "application/vnd.jupyter.widget-view+json": {
       "model_id": "efa2318cabc243e1a77061fda6d367a4",
       "version_major": 2,
       "version_minor": 0
      },
      "text/plain": [
       "  0%|          | 0/2000 [00:00<?, ?it/s]"
      ]
     },
     "metadata": {},
     "output_type": "display_data"
    },
    {
     "name": "stdout",
     "output_type": "stream",
     "text": [
      "0.055493834984010795 None\n",
      "0.03059854265389424 None\n",
      "0.04660656771980434 None\n",
      "0.04663541145915112 None\n",
      "0.04664500444933359 None\n",
      "0.04666733138427408 None\n",
      "0.046611228091466464 None\n",
      "0.030352762347698743 None\n",
      "0.04663384545043934 None\n",
      "0.030302544346724334 None\n",
      "0.0466108679522023 None\n",
      "0.04668043060213328 None\n",
      "0.03030504914368263 None\n",
      "0.04662577834490928 None\n",
      "0.046638860015741745 None\n",
      "0.03030358571871893 None\n",
      "0.030344519032061035 None\n",
      "0.030327405441225367 None\n",
      "0.046624391366542756 None\n",
      "0.030361927254062632 None\n",
      "0.03032155127989924 None\n"
     ]
    },
    {
     "data": {
      "application/vnd.jupyter.widget-view+json": {
       "model_id": "5b253f7f323145c3b9359a6e8fd5b0e2",
       "version_major": 2,
       "version_minor": 0
      },
      "text/plain": [
       "  0%|          | 0/2000 [00:00<?, ?it/s]"
      ]
     },
     "metadata": {},
     "output_type": "display_data"
    },
    {
     "name": "stdout",
     "output_type": "stream",
     "text": [
      "0.04902235393615014 None\n",
      "0.02571403458282727 None\n",
      "0.02562287036305725 None\n",
      "0.02567726352239619 None\n",
      "0.025658531110179284 None\n",
      "0.025619710322357454 None\n",
      "0.025617683863189897 None\n",
      "0.025606492971679065 None\n",
      "0.025640809138499223 None\n",
      "0.02565385868532527 None\n",
      "0.025649921880256353 None\n",
      "0.025609313468935316 None\n",
      "0.025635122163611843 None\n",
      "0.02569359745514402 None\n",
      "0.025683809540665826 None\n",
      "0.025645046965653603 None\n",
      "0.025623184544688156 None\n",
      "0.025617888810369853 None\n",
      "0.025644205331780388 None\n",
      "0.025621372882166166 None\n",
      "0.02563449292502718 None\n"
     ]
    },
    {
     "data": {
      "application/vnd.jupyter.widget-view+json": {
       "model_id": "c5c68958751f46f1934c6d35b5cad927",
       "version_major": 2,
       "version_minor": 0
      },
      "text/plain": [
       "  0%|          | 0/2000 [00:00<?, ?it/s]"
      ]
     },
     "metadata": {},
     "output_type": "display_data"
    },
    {
     "name": "stdout",
     "output_type": "stream",
     "text": [
      "0.0431520402434004 None\n",
      "0.028552897755867394 None\n",
      "0.013080887821714644 None\n",
      "0.013071382880814606 None\n",
      "0.0285053084901716 None\n",
      "0.013080722109636077 None\n",
      "0.028505706122210664 None\n",
      "0.02859463114776603 None\n",
      "0.013064001714081792 None\n",
      "0.0439760316467107 None\n",
      "0.043929831762866994 None\n",
      "0.013087288508650092 None\n",
      "0.04396102721858726 None\n",
      "0.02852280593511604 None\n",
      "0.013068412041214464 None\n",
      "0.043927781458149705 None\n",
      "0.013124637112322049 None\n",
      "0.013092409342897625 None\n",
      "0.04397680138652366 None\n",
      "0.028531306889179715 None\n",
      "0.013072012225906017 None\n"
     ]
    },
    {
     "data": {
      "application/vnd.jupyter.widget-view+json": {
       "model_id": "7e167f1917b24aa5ada3ebc44b728c64",
       "version_major": 2,
       "version_minor": 0
      },
      "text/plain": [
       "  0%|          | 0/2000 [00:00<?, ?it/s]"
      ]
     },
     "metadata": {},
     "output_type": "display_data"
    },
    {
     "name": "stdout",
     "output_type": "stream",
     "text": [
      "0.029512642301122684 None\n",
      "0.013075070256164386 None\n",
      "0.012983879153151471 None\n",
      "0.012995570686097547 None\n",
      "0.012978691414764624 None\n",
      "0.013035674626847184 None\n",
      "0.012981158114298548 None\n",
      "0.012984953406790135 None\n",
      "0.012997969207380658 None\n",
      "0.012980454565798676 None\n",
      "0.012991918359125273 None\n",
      "0.012980948213280805 None\n",
      "0.012989808023480291 None\n",
      "0.013045406259484239 None\n",
      "0.01300837466107018 None\n",
      "0.012993852775578643 None\n",
      "0.012986034291395257 None\n",
      "0.012976774576623024 None\n",
      "0.013008213009516262 None\n",
      "0.012987190573938977 None\n",
      "0.01297501394140776 None\n"
     ]
    },
    {
     "data": {
      "application/vnd.jupyter.widget-view+json": {
       "model_id": "9363cf9a88504cc28f0f36d3907c68f6",
       "version_major": 2,
       "version_minor": 0
      },
      "text/plain": [
       "  0%|          | 0/2000 [00:00<?, ?it/s]"
      ]
     },
     "metadata": {},
     "output_type": "display_data"
    },
    {
     "name": "stdout",
     "output_type": "stream",
     "text": [
      "0.03470978748053573 None\n",
      "0.02239234336951704 None\n",
      "0.022410114954231085 None\n",
      "0.022390259117080005 None\n",
      "0.022404098225812866 None\n",
      "0.022375476807848106 None\n",
      "0.022391288002285126 None\n",
      "0.022377901573890788 None\n",
      "0.022357614619070203 None\n",
      "0.022399709788167077 None\n",
      "0.022431051070290732 None\n",
      "0.02236159724556778 None\n",
      "0.022398921544391347 None\n",
      "0.02241439891443741 None\n",
      "0.022375466441851177 None\n",
      "0.02240948150563275 None\n",
      "0.022413214518029162 None\n",
      "0.022386748751458692 None\n",
      "0.022375115986191282 None\n",
      "0.022366723470313453 None\n",
      "0.02239156667334498 None\n",
      "Done!\n"
     ]
    },
    {
     "data": {
      "application/vnd.jupyter.widget-view+json": {
       "model_id": "cac8d2862da245feb3b27d4a831ad66c",
       "version_major": 2,
       "version_minor": 0
      },
      "text/plain": [
       "  0%|          | 0/2000 [00:00<?, ?it/s]"
      ]
     },
     "metadata": {},
     "output_type": "display_data"
    },
    {
     "name": "stdout",
     "output_type": "stream",
     "text": [
      "0.13095234418988258 None\n",
      "0.126070046949333 None\n",
      "0.12575727458353397 None\n",
      "0.14210138281864557 None\n",
      "0.1257606984004947 None\n",
      "0.12575515221600328 None\n",
      "0.12576890236693072 None\n",
      "0.12575582676384578 None\n",
      "0.12577570445129532 None\n",
      "0.14206605724311694 None\n",
      "0.12578133503221073 None\n",
      "0.12575645587498935 None\n",
      "0.1258366486679684 None\n",
      "0.12576569924647799 None\n",
      "0.12575569969175943 None\n",
      "0.12578349277097534 None\n",
      "0.12575769811047705 None\n",
      "0.1257664460205842 None\n",
      "0.12576319942132164 None\n",
      "0.12575518588663354 None\n",
      "0.12577031682397657 None\n"
     ]
    },
    {
     "data": {
      "application/vnd.jupyter.widget-view+json": {
       "model_id": "11c96f7def14436bac1a37787992d964",
       "version_major": 2,
       "version_minor": 0
      },
      "text/plain": [
       "  0%|          | 0/2000 [00:00<?, ?it/s]"
      ]
     },
     "metadata": {},
     "output_type": "display_data"
    },
    {
     "name": "stdout",
     "output_type": "stream",
     "text": [
      "0.05695686919527541 None\n",
      "0.04976196648938055 None\n",
      "0.04975474693306259 None\n",
      "0.049763140532252254 None\n",
      "0.06607910673851788 None\n",
      "0.04976691628787378 None\n",
      "0.04976439373983219 None\n",
      "0.06608890973166832 None\n",
      "0.06610657547707917 None\n",
      "0.06608545836703114 None\n",
      "0.06606967343310167 None\n",
      "0.06612473409405106 None\n",
      "0.06606635384642491 None\n",
      "0.06609328759478447 None\n",
      "0.04975663750011437 None\n",
      "0.06608855812303953 None\n",
      "0.04975714137893068 None\n",
      "0.04980657522659876 None\n",
      "0.04982477803054036 None\n",
      "0.0660904099933036 None\n",
      "0.049760611869797876 None\n"
     ]
    },
    {
     "data": {
      "application/vnd.jupyter.widget-view+json": {
       "model_id": "bf313e9cfbdf44e8ba4b02e972206ddf",
       "version_major": 2,
       "version_minor": 0
      },
      "text/plain": [
       "  0%|          | 0/2000 [00:00<?, ?it/s]"
      ]
     },
     "metadata": {},
     "output_type": "display_data"
    },
    {
     "name": "stdout",
     "output_type": "stream",
     "text": [
      "0.028595181615325135 None\n",
      "0.03852212897703251 None\n",
      "0.03853382660782008 None\n",
      "0.03854714396103839 None\n",
      "0.023081759920834333 None\n",
      "0.03858282251288605 None\n",
      "0.023153268973411748 None\n",
      "0.023098977273970055 None\n",
      "0.038562734084188546 None\n",
      "0.03852403127903442 None\n",
      "0.03852383608405885 None\n",
      "0.03852226915613098 None\n",
      "0.02308270277663494 None\n",
      "0.023113045217704842 None\n",
      "0.02309707545663499 None\n",
      "0.03852230659243673 None\n",
      "0.03856850340615215 None\n",
      "0.03857632270541328 None\n",
      "0.02309665167715304 None\n",
      "0.038547790902046616 None\n",
      "0.023111204381862618 None\n"
     ]
    },
    {
     "data": {
      "application/vnd.jupyter.widget-view+json": {
       "model_id": "3a8785592c4a4ca083876d5b8175d405",
       "version_major": 2,
       "version_minor": 0
      },
      "text/plain": [
       "  0%|          | 0/2000 [00:00<?, ?it/s]"
      ]
     },
     "metadata": {},
     "output_type": "display_data"
    },
    {
     "name": "stdout",
     "output_type": "stream",
     "text": [
      "0.025395178790272744 None\n",
      "0.017375195278215308 None\n",
      "0.01735506334922165 None\n",
      "0.017352972713477622 None\n",
      "0.01737542267483111 None\n",
      "0.01738303107494921 None\n",
      "0.017389631755700064 None\n",
      "0.017371306297579915 None\n",
      "0.017366928287702137 None\n",
      "0.01737204054949085 None\n",
      "0.017357934689799487 None\n",
      "0.017384488842232725 None\n",
      "0.017375791008249847 None\n",
      "0.017362871200317473 None\n",
      "0.01736475352252411 None\n",
      "0.01736011041962553 None\n",
      "0.017361422713997873 None\n",
      "0.017413416034783233 None\n",
      "0.017360577625523087 None\n",
      "0.017350888372128496 None\n",
      "0.017385043562556504 None\n"
     ]
    },
    {
     "data": {
      "application/vnd.jupyter.widget-view+json": {
       "model_id": "3dd4f9fde9b448ff8f06d01fea308174",
       "version_major": 2,
       "version_minor": 0
      },
      "text/plain": [
       "  0%|          | 0/2000 [00:00<?, ?it/s]"
      ]
     },
     "metadata": {},
     "output_type": "display_data"
    },
    {
     "name": "stdout",
     "output_type": "stream",
     "text": [
      "0.015066663919526498 None\n",
      "0.013209982203055227 None\n",
      "0.013125344689834412 None\n",
      "0.013138031040884558 None\n",
      "0.01320174664050042 None\n",
      "0.013149463866549447 None\n",
      "0.013134984331676477 None\n",
      "0.013137072991388098 None\n",
      "0.013143279665255624 None\n",
      "0.013174593821811256 None\n",
      "0.013126901968583881 None\n",
      "0.013130561144690264 None\n",
      "0.013127287454478085 None\n",
      "0.013133006813724092 None\n",
      "0.013125192578606887 None\n",
      "0.013132408943922484 None\n",
      "0.013130602750513386 None\n",
      "0.013142682022165286 None\n",
      "0.01314158540278033 None\n",
      "0.01314971321875333 None\n",
      "0.013122372425963624 None\n"
     ]
    },
    {
     "data": {
      "application/vnd.jupyter.widget-view+json": {
       "model_id": "18ee48d3925841358b4bbfdb9ab098aa",
       "version_major": 2,
       "version_minor": 0
      },
      "text/plain": [
       "  0%|          | 0/2000 [00:00<?, ?it/s]"
      ]
     },
     "metadata": {},
     "output_type": "display_data"
    },
    {
     "name": "stdout",
     "output_type": "stream",
     "text": [
      "0.019334931689328427 None\n",
      "0.011773239031253342 None\n",
      "0.011823009382341904 None\n",
      "0.01180581356065238 None\n",
      "0.028086444454437774 None\n",
      "0.011754378304668871 None\n",
      "0.028113496087707936 None\n",
      "0.011752807962411675 None\n",
      "0.028086779182214108 None\n",
      "0.02806864167693039 None\n",
      "0.02809500063587088 None\n",
      "0.011785494447508269 None\n",
      "0.011781147156601335 None\n",
      "0.011761754928098314 None\n",
      "0.011755465009567274 None\n",
      "0.02808953169718509 None\n",
      "0.011768017893283429 None\n",
      "0.011783787754227327 None\n",
      "0.028062964156781542 None\n",
      "0.028095092094200472 None\n",
      "0.011792544247146356 None\n"
     ]
    },
    {
     "data": {
      "application/vnd.jupyter.widget-view+json": {
       "model_id": "fbda281c6b964f80b804157126e7f8e7",
       "version_major": 2,
       "version_minor": 0
      },
      "text/plain": [
       "  0%|          | 0/2000 [00:00<?, ?it/s]"
      ]
     },
     "metadata": {},
     "output_type": "display_data"
    },
    {
     "name": "stdout",
     "output_type": "stream",
     "text": [
      "0.0069636988603044075 None\n",
      "0.006899057738684609 None\n",
      "0.006906094014343184 None\n",
      "0.0068946772393490155 None\n",
      "0.006882759463999275 None\n",
      "0.0069211691466833335 None\n",
      "0.006879361456851269 None\n",
      "0.006883012225128281 None\n",
      "0.006873688374897118 None\n",
      "0.006876873390527408 None\n",
      "0.006874563961912924 None\n",
      "0.00686721084044439 None\n",
      "0.006915503217136728 None\n",
      "0.006872574570190993 None\n",
      "0.006877675794695332 None\n",
      "0.00689592137424812 None\n",
      "0.006881805333919175 None\n",
      "0.006892191379588412 None\n",
      "0.0069251810249319635 None\n",
      "0.006878574467075692 None\n",
      "0.006879879182270661 None\n"
     ]
    },
    {
     "data": {
      "application/vnd.jupyter.widget-view+json": {
       "model_id": "1aa432e37d5441a7acb2b8982f5347c7",
       "version_major": 2,
       "version_minor": 0
      },
      "text/plain": [
       "  0%|          | 0/2000 [00:00<?, ?it/s]"
      ]
     },
     "metadata": {},
     "output_type": "display_data"
    },
    {
     "name": "stdout",
     "output_type": "stream",
     "text": [
      "0.00754622942860184 None\n",
      "0.003635764835388108 None\n",
      "0.0036315923772099394 None\n",
      "0.0036587100053019216 None\n",
      "0.0036337385161864856 None\n",
      "0.003659331987985912 None\n",
      "0.0036642641253895165 None\n",
      "0.003634195750441066 None\n",
      "0.003676279468358499 None\n",
      "0.0036293914983232586 None\n",
      "0.003633517109434507 None\n",
      "0.0036483935849315487 None\n",
      "0.0036657942376557987 None\n",
      "0.003643932539576917 None\n",
      "0.0036694792638020148 None\n",
      "0.0036657969291969098 None\n",
      "0.003637255518827046 None\n",
      "0.0036426598184855865 None\n",
      "0.003626179425929535 None\n",
      "0.0036412210768085903 None\n",
      "0.0036651292704269795 None\n"
     ]
    },
    {
     "data": {
      "application/vnd.jupyter.widget-view+json": {
       "model_id": "677bca08152a4dbbbe506de52840e848",
       "version_major": 2,
       "version_minor": 0
      },
      "text/plain": [
       "  0%|          | 0/2000 [00:00<?, ?it/s]"
      ]
     },
     "metadata": {},
     "output_type": "display_data"
    },
    {
     "name": "stdout",
     "output_type": "stream",
     "text": [
      "0.03159684352231041 None\n",
      "0.02687983959137754 None\n",
      "0.026886702868685868 None\n",
      "0.010562616178402342 None\n",
      "0.01057176453875415 None\n",
      "0.010547336892597684 None\n",
      "0.010604506397214183 None\n",
      "0.02686802833923888 None\n",
      "0.026881989452291317 None\n",
      "0.026864244452313828 None\n",
      "0.010596665697213098 None\n",
      "0.026869188249398157 None\n",
      "0.026901896406965196 None\n",
      "0.0268657068950942 None\n",
      "0.026890241988579665 None\n",
      "0.010585200437131782 None\n",
      "0.010608593014817454 None\n",
      "0.02687686555433137 None\n",
      "0.02691744043574695 None\n",
      "0.026859968255288937 None\n",
      "0.026857621123791673 None\n",
      "Done!\n"
     ]
    },
    {
     "data": {
      "application/vnd.jupyter.widget-view+json": {
       "model_id": "be17e930ab0248c8bd73a62b25ab84de",
       "version_major": 2,
       "version_minor": 0
      },
      "text/plain": [
       "  0%|          | 0/2000 [00:00<?, ?it/s]"
      ]
     },
     "metadata": {},
     "output_type": "display_data"
    },
    {
     "name": "stdout",
     "output_type": "stream",
     "text": [
      "0.13860714738853902 None\n",
      "0.1423390173577707 None\n",
      "0.12347980977506892 None\n",
      "0.137157621021023 None\n",
      "0.12101816007946159 None\n",
      "0.13628272527864685 None\n",
      "0.15083412821552694 None\n",
      "0.1362407239295569 None\n",
      "0.12079415060962542 None\n",
      "0.1362398473681372 None\n",
      "0.13623984048919544 None\n",
      "0.12079405506547779 None\n",
      "0.13623984011590817 None\n",
      "0.12079405498533179 None\n",
      "0.13623984012374105 None\n",
      "0.12079405499476098 None\n",
      "0.12079405499090662 None\n",
      "0.12079405498631832 None\n",
      "0.13623984012019308 None\n",
      "0.1362398401159161 None\n",
      "0.136239840123814 None\n"
     ]
    },
    {
     "data": {
      "application/vnd.jupyter.widget-view+json": {
       "model_id": "6cac4a42be294c6797c80270687714f1",
       "version_major": 2,
       "version_minor": 0
      },
      "text/plain": [
       "  0%|          | 0/2000 [00:00<?, ?it/s]"
      ]
     },
     "metadata": {},
     "output_type": "display_data"
    },
    {
     "name": "stdout",
     "output_type": "stream",
     "text": [
      "0.03622985753713253 None\n",
      "0.0331027418870943 None\n",
      "0.04944907653990862 None\n",
      "0.04940113927881275 None\n",
      "0.033106547392221936 None\n",
      "0.049397758684235724 None\n",
      "0.033140065333875174 None\n",
      "0.04940540604378926 None\n",
      "0.03311604916758474 None\n",
      "0.04942392734837611 None\n",
      "0.04945193796446594 None\n",
      "0.0494032735102468 None\n",
      "0.03309384982692103 None\n",
      "0.033117449678382586 None\n",
      "0.03313697474324576 None\n",
      "0.03310811671550704 None\n",
      "0.03310356438897879 None\n",
      "0.033117694300208035 None\n",
      "0.033118356034882244 None\n",
      "0.04939821577940006 None\n",
      "0.04940932394078847 None\n"
     ]
    },
    {
     "data": {
      "application/vnd.jupyter.widget-view+json": {
       "model_id": "7420de1e2f234a1387d52aebbacde30c",
       "version_major": 2,
       "version_minor": 0
      },
      "text/plain": [
       "  0%|          | 0/2000 [00:00<?, ?it/s]"
      ]
     },
     "metadata": {},
     "output_type": "display_data"
    },
    {
     "name": "stdout",
     "output_type": "stream",
     "text": [
      "0.041664547922847156 None\n",
      "0.02406202303005739 None\n",
      "0.04028690208712856 None\n",
      "0.0402801977209008 None\n",
      "0.040368355040062254 None\n",
      "0.05748931522270335 None\n",
      "0.04029538652622816 None\n",
      "0.04032656214047334 None\n",
      "0.024008060422718556 None\n",
      "0.02397424810301102 None\n",
      "0.040283586751480506 None\n",
      "0.024005291101265137 None\n",
      "0.04029242435947901 None\n",
      "0.0240121100524746 None\n",
      "0.040328333353115656 None\n",
      "0.04030974981537195 None\n",
      "0.04028673087732315 None\n",
      "0.04035216354716528 None\n",
      "0.04028882254833058 None\n",
      "0.040327698207852564 None\n",
      "0.05748862678105929 None\n",
      "Done!\n"
     ]
    },
    {
     "data": {
      "application/vnd.jupyter.widget-view+json": {
       "model_id": "9bda5fd7c4db4a78a2d9adbafeaeb78f",
       "version_major": 2,
       "version_minor": 0
      },
      "text/plain": [
       "  0%|          | 0/2000 [00:00<?, ?it/s]"
      ]
     },
     "metadata": {},
     "output_type": "display_data"
    },
    {
     "name": "stdout",
     "output_type": "stream",
     "text": [
      "0.11247750263018659 None\n",
      "0.1076881842403288 None\n",
      "0.12309694255682938 None\n",
      "0.12309694136212174 None\n",
      "0.10765422884453654 None\n",
      "0.1230969446569237 None\n",
      "0.1230970384978603 None\n",
      "0.10765423353539721 None\n",
      "0.13862369133639182 None\n",
      "0.10765422797845244 None\n",
      "0.12309696282137504 None\n",
      "0.12309694289265122 None\n",
      "0.10765426653457756 None\n",
      "0.1076542441583236 None\n",
      "0.13862386641418917 None\n",
      "0.12309699242799602 None\n",
      "0.12309694188949766 None\n",
      "0.10765433377742636 None\n",
      "0.10765434284851379 None\n",
      "0.10765460124387305 None\n",
      "0.1386241967731796 None\n"
     ]
    },
    {
     "data": {
      "application/vnd.jupyter.widget-view+json": {
       "model_id": "b4aa24132ef34e75ba5bfb26d44fa25c",
       "version_major": 2,
       "version_minor": 0
      },
      "text/plain": [
       "  0%|          | 0/2000 [00:00<?, ?it/s]"
      ]
     },
     "metadata": {},
     "output_type": "display_data"
    },
    {
     "name": "stdout",
     "output_type": "stream",
     "text": [
      "0.06532877224144368 None\n",
      "0.055404011627922314 None\n",
      "0.055423638477878664 None\n",
      "0.055452202844028256 None\n",
      "0.05544753383010392 None\n",
      "0.04000066562038452 None\n",
      "0.05548064301199801 None\n",
      "0.055425553309218376 None\n",
      "0.05543110346493136 None\n",
      "0.039966179245590754 None\n",
      "0.055405675584886294 None\n",
      "0.05543411832051784 None\n",
      "0.039975431130897604 None\n",
      "0.03998282859608794 None\n",
      "0.055410977969285555 None\n",
      "0.04000117128016778 None\n",
      "0.05544062303097976 None\n",
      "0.039967602156125014 None\n",
      "0.055428711283641366 None\n",
      "0.055434661852419735 None\n",
      "0.055413429567780406 None\n"
     ]
    },
    {
     "data": {
      "application/vnd.jupyter.widget-view+json": {
       "model_id": "3bdd79608ae242f1bb9fcfff3213a8bd",
       "version_major": 2,
       "version_minor": 0
      },
      "text/plain": [
       "  0%|          | 0/2000 [00:00<?, ?it/s]"
      ]
     },
     "metadata": {},
     "output_type": "display_data"
    },
    {
     "name": "stdout",
     "output_type": "stream",
     "text": [
      "0.03730996732597604 None\n",
      "0.034112605560143824 None\n",
      "0.03407564994694819 None\n",
      "0.03409746935881269 None\n",
      "0.034156915555364195 None\n",
      "0.034096126601179354 None\n",
      "0.034100509449092084 None\n",
      "0.03408946352903319 None\n",
      "0.03407917105457704 None\n",
      "0.034074348165252455 None\n",
      "0.03407436975714179 None\n",
      "0.034068505917893954 None\n",
      "0.03407451308102598 None\n",
      "0.0340869770215972 None\n",
      "0.03407342164438204 None\n",
      "0.03408700481685849 None\n",
      "0.034075476787192305 None\n",
      "0.03409169706369257 None\n",
      "0.03409320437054483 None\n",
      "0.0340882259591989 None\n",
      "0.03410457836065295 None\n"
     ]
    },
    {
     "data": {
      "application/vnd.jupyter.widget-view+json": {
       "model_id": "86c7f9d247f743b2a91dd85d176dd244",
       "version_major": 2,
       "version_minor": 0
      },
      "text/plain": [
       "  0%|          | 0/2000 [00:00<?, ?it/s]"
      ]
     },
     "metadata": {},
     "output_type": "display_data"
    },
    {
     "name": "stdout",
     "output_type": "stream",
     "text": [
      "0.033511128362988446 None\n",
      "0.016914640874830546 None\n",
      "0.016851437687330766 None\n",
      "0.01690450533671975 None\n",
      "0.01687567610877177 None\n",
      "0.0168602111873446 None\n",
      "0.016856013939671913 None\n",
      "0.016857319105324085 None\n",
      "0.01686157926162284 None\n",
      "0.016869064177378355 None\n",
      "0.016857592458407584 None\n",
      "0.01686472761058061 None\n",
      "0.01687178616909175 None\n",
      "0.016857647676763073 None\n",
      "0.016860325977084964 None\n",
      "0.016871524451162072 None\n",
      "0.01689222393548831 None\n",
      "0.01686981810786326 None\n",
      "0.016877680427395517 None\n",
      "0.01686976670832136 None\n",
      "0.016869000263527757 None\n"
     ]
    },
    {
     "data": {
      "application/vnd.jupyter.widget-view+json": {
       "model_id": "c3aa5333fb8b40529c15a0e98fad8212",
       "version_major": 2,
       "version_minor": 0
      },
      "text/plain": [
       "  0%|          | 0/2000 [00:00<?, ?it/s]"
      ]
     },
     "metadata": {},
     "output_type": "display_data"
    },
    {
     "name": "stdout",
     "output_type": "stream",
     "text": [
      "0.022120000471957613 None\n",
      "0.008756401743872044 None\n",
      "0.008745914445235443 None\n",
      "0.008741041793407567 None\n",
      "0.008764876103174208 None\n",
      "0.008777994094578925 None\n",
      "0.008772025377689872 None\n",
      "0.00874154223765694 None\n",
      "0.008754948808016347 None\n",
      "0.008752937298644214 None\n",
      "0.008747187549471784 None\n",
      "0.008781843641009889 None\n",
      "0.008734202784911504 None\n",
      "0.008741121499150144 None\n",
      "0.008755658403301596 None\n",
      "0.008742284068014012 None\n",
      "0.008737782661266309 None\n",
      "0.008766309970684725 None\n",
      "0.008777864413866576 None\n",
      "0.008735137780081231 None\n",
      "0.00873549212525811 None\n"
     ]
    },
    {
     "data": {
      "application/vnd.jupyter.widget-view+json": {
       "model_id": "1b15b41442f345ad8a60316b8219c129",
       "version_major": 2,
       "version_minor": 0
      },
      "text/plain": [
       "  0%|          | 0/2000 [00:00<?, ?it/s]"
      ]
     },
     "metadata": {},
     "output_type": "display_data"
    },
    {
     "name": "stdout",
     "output_type": "stream",
     "text": [
      "0.024784914157335428 None\n",
      "0.00964582316513389 None\n",
      "0.009629997105867316 None\n",
      "0.009625363542193698 None\n",
      "0.009609381338925714 None\n",
      "0.00965475739862525 None\n",
      "0.009581478773202434 None\n",
      "0.009656333967476841 None\n",
      "0.00958388292387927 None\n",
      "0.009591328480573029 None\n",
      "0.009603934587649809 None\n",
      "0.009656038071772646 None\n",
      "0.009580551497927765 None\n",
      "0.009614698968798399 None\n",
      "0.009594335257449616 None\n",
      "0.009609492642714813 None\n",
      "0.009628055052978205 None\n",
      "0.009597194925446174 None\n",
      "0.00963888598940356 None\n",
      "0.009577387065459745 None\n",
      "0.009579775666842427 None\n",
      "Done!\n"
     ]
    },
    {
     "data": {
      "application/vnd.jupyter.widget-view+json": {
       "model_id": "9a53401f82334415b6ec128433c8e9c0",
       "version_major": 2,
       "version_minor": 0
      },
      "text/plain": [
       "  0%|          | 0/2000 [00:00<?, ?it/s]"
      ]
     },
     "metadata": {},
     "output_type": "display_data"
    },
    {
     "name": "stdout",
     "output_type": "stream",
     "text": [
      "0.11727119998948422 None\n",
      "0.09754470958879057 None\n",
      "0.1121849078124416 None\n",
      "0.09666068156726985 None\n",
      "0.11209941496355064 None\n",
      "0.11209912963171129 None\n",
      "0.11209912081909888 None\n",
      "0.11209912051406667 None\n",
      "0.0966546072150681 None\n",
      "0.11209912060438565 None\n",
      "0.0966546073638507 None\n",
      "0.09665460721078162 None\n",
      "0.11209912054153592 None\n",
      "0.1120991203811848 None\n",
      "0.11209912051207904 None\n",
      "0.11209912053591857 None\n",
      "0.11209912062839489 None\n",
      "0.11209912041321227 None\n",
      "0.096654607176023 None\n",
      "0.0966546072359211 None\n",
      "0.09665460714851284 None\n"
     ]
    },
    {
     "data": {
      "application/vnd.jupyter.widget-view+json": {
       "model_id": "427a108543104c0f87dac57f242e626b",
       "version_major": 2,
       "version_minor": 0
      },
      "text/plain": [
       "  0%|          | 0/2000 [00:00<?, ?it/s]"
      ]
     },
     "metadata": {},
     "output_type": "display_data"
    },
    {
     "name": "stdout",
     "output_type": "stream",
     "text": [
      "0.08948986230050152 None\n",
      "0.056877981759344505 None\n",
      "0.040564760911608065 None\n",
      "0.04051139214115776 None\n",
      "0.04045499602038228 None\n",
      "0.0404634061593941 None\n",
      "0.04049387782613494 None\n",
      "0.04049287456326535 None\n",
      "0.04050178867139618 None\n",
      "0.025012361218006072 None\n",
      "0.02505539421414532 None\n",
      "0.04047004858671363 None\n",
      "0.025073594670571596 None\n",
      "0.025027285927260477 None\n",
      "0.040449862572323095 None\n",
      "0.025036211605614925 None\n",
      "0.02503072765571237 None\n",
      "0.025028038895465895 None\n",
      "0.02503312358135022 None\n",
      "0.025121478983886326 None\n",
      "0.025087527108448224 None\n"
     ]
    },
    {
     "data": {
      "application/vnd.jupyter.widget-view+json": {
       "model_id": "829a5b76f1d84d6e9bd479a029199695",
       "version_major": 2,
       "version_minor": 0
      },
      "text/plain": [
       "  0%|          | 0/2000 [00:00<?, ?it/s]"
      ]
     },
     "metadata": {},
     "output_type": "display_data"
    },
    {
     "name": "stdout",
     "output_type": "stream",
     "text": [
      "0.06720587399758424 None\n",
      "0.03739693350138605 None\n",
      "0.015004581675837675 None\n",
      "0.0304156801209888 None\n",
      "0.014991540583358784 None\n",
      "0.03040963016010368 None\n",
      "0.015000144385033507 None\n",
      "0.030404516942579847 None\n",
      "0.015015542021453044 None\n",
      "0.03040807874788388 None\n",
      "0.01497951600758824 None\n",
      "0.030480114756251758 None\n",
      "0.03042693917387298 None\n",
      "0.014983585100112757 None\n",
      "0.01496932731922451 None\n",
      "0.030469893563569612 None\n",
      "0.030403246873661055 None\n",
      "0.030411193971196546 None\n",
      "0.030408411318432325 None\n",
      "0.015000154250005565 None\n",
      "0.014965358707020093 None\n"
     ]
    },
    {
     "data": {
      "application/vnd.jupyter.widget-view+json": {
       "model_id": "82fa38b581e7471a9a07a3737045a3d2",
       "version_major": 2,
       "version_minor": 0
      },
      "text/plain": [
       "  0%|          | 0/2000 [00:00<?, ?it/s]"
      ]
     },
     "metadata": {},
     "output_type": "display_data"
    },
    {
     "name": "stdout",
     "output_type": "stream",
     "text": [
      "0.062449444570676076 None\n",
      "0.03290268660612143 None\n",
      "0.01677307387320868 None\n",
      "0.016771070570226834 None\n",
      "0.016778576099114872 None\n",
      "0.01674467614096506 None\n",
      "0.016743099007521973 None\n",
      "0.016742666738048313 None\n",
      "0.016777688047286483 None\n",
      "0.016739868384161728 None\n",
      "0.01677419323399408 None\n",
      "0.01678658034381631 None\n",
      "0.016749149110159994 None\n",
      "0.016751106015664007 None\n",
      "0.016744471349128605 None\n",
      "0.01674151462861817 None\n",
      "0.016750726912555504 None\n",
      "0.016741994941243413 None\n",
      "0.01676180110927829 None\n",
      "0.016835340665268653 None\n",
      "0.016790785606835668 None\n",
      "Done!\n"
     ]
    },
    {
     "data": {
      "application/vnd.jupyter.widget-view+json": {
       "model_id": "075819bbc2584769baec15d3321c00b1",
       "version_major": 2,
       "version_minor": 0
      },
      "text/plain": [
       "  0%|          | 0/2000 [00:00<?, ?it/s]"
      ]
     },
     "metadata": {},
     "output_type": "display_data"
    },
    {
     "name": "stdout",
     "output_type": "stream",
     "text": [
      "0.14689097639176 None\n",
      "0.14142551210645327 None\n",
      "0.14143038924575324 None\n",
      "0.1259984568138337 None\n",
      "0.12598003048714457 None\n",
      "0.14143028831641982 None\n",
      "0.1414289755561713 None\n",
      "0.14142311241375194 None\n",
      "0.1259704791574249 None\n",
      "0.14142393058697383 None\n",
      "0.125980662599252 None\n",
      "0.1414994539038371 None\n",
      "0.1259861730380232 None\n",
      "0.14147480323809844 None\n",
      "0.14142519914906063 None\n",
      "0.14144063422235023 None\n",
      "0.12599122255158224 None\n",
      "0.12601114329507793 None\n",
      "0.1414365352547763 None\n",
      "0.12600336358880387 None\n",
      "0.12598715310291328 None\n"
     ]
    },
    {
     "data": {
      "application/vnd.jupyter.widget-view+json": {
       "model_id": "df1e0db846014059b554bf2dc2db3bc9",
       "version_major": 2,
       "version_minor": 0
      },
      "text/plain": [
       "  0%|          | 0/2000 [00:00<?, ?it/s]"
      ]
     },
     "metadata": {},
     "output_type": "display_data"
    },
    {
     "name": "stdout",
     "output_type": "stream",
     "text": [
      "0.038512154194401044 None\n",
      "0.03427805052987135 None\n",
      "0.03426684815530271 None\n",
      "0.034302661039720274 None\n",
      "0.03426373712304859 None\n",
      "0.03429976079958866 None\n",
      "0.03426759947583142 None\n",
      "0.03431040921749424 None\n",
      "0.03427645705355584 None\n",
      "0.034310879485012005 None\n",
      "0.03432695466818362 None\n",
      "0.03426219868891958 None\n",
      "0.03426750606611211 None\n",
      "0.034254442398731266 None\n",
      "0.03428083035935303 None\n",
      "0.034298380939510154 None\n",
      "0.03428931122884006 None\n",
      "0.03428379145295888 None\n",
      "0.034265219463688205 None\n",
      "0.034353513240266316 None\n",
      "0.03425873867189779 None\n"
     ]
    },
    {
     "data": {
      "application/vnd.jupyter.widget-view+json": {
       "model_id": "ffca5a31ab6e42f2bcf6d89aae396406",
       "version_major": 2,
       "version_minor": 0
      },
      "text/plain": [
       "  0%|          | 0/2000 [00:00<?, ?it/s]"
      ]
     },
     "metadata": {},
     "output_type": "display_data"
    },
    {
     "name": "stdout",
     "output_type": "stream",
     "text": [
      "0.06493276324746919 None\n",
      "0.02357847646152202 None\n",
      "0.03899165201033364 None\n",
      "0.02354970727262629 None\n",
      "0.03897466587200385 None\n",
      "0.023531007292274374 None\n",
      "0.03902226008030141 None\n",
      "0.03897810562331668 None\n",
      "0.053626650076543894 None\n",
      "0.03901008030618025 None\n",
      "0.023578443876551943 None\n",
      "0.038971664480936294 None\n",
      "0.023565561100651153 None\n",
      "0.05355112812481795 None\n",
      "0.023550960093863798 None\n",
      "0.023540500852672164 None\n",
      "0.023539269083427794 None\n",
      "0.03901528409572924 None\n",
      "0.03897933613919634 None\n",
      "0.023549385759663262 None\n",
      "0.02354022842514629 None\n"
     ]
    },
    {
     "data": {
      "application/vnd.jupyter.widget-view+json": {
       "model_id": "a02b033b5d39454dad2d064818d8a103",
       "version_major": 2,
       "version_minor": 0
      },
      "text/plain": [
       "  0%|          | 0/2000 [00:00<?, ?it/s]"
      ]
     },
     "metadata": {},
     "output_type": "display_data"
    },
    {
     "name": "stdout",
     "output_type": "stream",
     "text": [
      "0.023402353032095417 None\n",
      "0.01479684157013914 None\n",
      "0.01481791231662275 None\n",
      "0.01482852160621737 None\n",
      "0.01483971384431553 None\n",
      "0.014842856732403634 None\n",
      "0.014779043433759879 None\n",
      "0.01482795452949859 None\n",
      "0.014789761635973508 None\n",
      "0.014800641482481723 None\n",
      "0.0147996553094483 None\n",
      "0.014808017885817168 None\n",
      "0.014803726880994348 None\n",
      "0.014874548633745958 None\n",
      "0.014818628874961094 None\n",
      "0.014803319245204618 None\n",
      "0.014808028051275209 None\n",
      "0.014806399650671686 None\n",
      "0.014806194094917156 None\n",
      "0.014815652448350631 None\n",
      "0.014789330896301434 None\n"
     ]
    },
    {
     "data": {
      "application/vnd.jupyter.widget-view+json": {
       "model_id": "20302026c7c74d22b339284c87c30f4b",
       "version_major": 2,
       "version_minor": 0
      },
      "text/plain": [
       "  0%|          | 0/2000 [00:00<?, ?it/s]"
      ]
     },
     "metadata": {},
     "output_type": "display_data"
    },
    {
     "name": "stdout",
     "output_type": "stream",
     "text": [
      "0.017336795239822754 None\n",
      "0.00901463764675977 None\n",
      "0.025385514445921766 None\n",
      "0.009081883206974842 None\n",
      "0.02534497786096042 None\n",
      "0.009022340885086116 None\n",
      "0.025328993285646525 None\n",
      "0.025344981420337677 None\n",
      "0.009068077394347368 None\n",
      "0.009012002664445629 None\n",
      "0.02533363610540346 None\n",
      "0.025335200835254746 None\n",
      "0.009017626390881068 None\n",
      "0.025330035899779686 None\n",
      "0.025330833804239908 None\n",
      "0.009035107594100089 None\n",
      "0.025353795737027725 None\n",
      "0.025345947593171395 None\n",
      "0.00902375921954572 None\n",
      "0.025326604265918127 None\n",
      "0.009032499954688654 None\n"
     ]
    },
    {
     "data": {
      "application/vnd.jupyter.widget-view+json": {
       "model_id": "939f54ce56aa47659105a96a07b11423",
       "version_major": 2,
       "version_minor": 0
      },
      "text/plain": [
       "  0%|          | 0/2000 [00:00<?, ?it/s]"
      ]
     },
     "metadata": {},
     "output_type": "display_data"
    },
    {
     "name": "stdout",
     "output_type": "stream",
     "text": [
      "0.016413713129491372 None\n",
      "0.008491439771480983 None\n",
      "0.008484613722124902 None\n",
      "0.008487016678046709 None\n",
      "0.008457823510984421 None\n",
      "0.008480297171178479 None\n",
      "0.008461100868958921 None\n",
      "0.008486183973194375 None\n",
      "0.008469254738527422 None\n",
      "0.008485281190876003 None\n",
      "0.008477825683296617 None\n",
      "0.00847047262400753 None\n",
      "0.00847367791471566 None\n",
      "0.008498877243828442 None\n",
      "0.008459259646012705 None\n",
      "0.008488534588483254 None\n",
      "0.008482017236032327 None\n",
      "0.008474523841996612 None\n",
      "0.008466570795937808 None\n",
      "0.008461523118418478 None\n",
      "0.008481068927181944 None\n"
     ]
    },
    {
     "data": {
      "application/vnd.jupyter.widget-view+json": {
       "model_id": "7d51abb527c74de3b8f923e7eca8751d",
       "version_major": 2,
       "version_minor": 0
      },
      "text/plain": [
       "  0%|          | 0/2000 [00:00<?, ?it/s]"
      ]
     },
     "metadata": {},
     "output_type": "display_data"
    },
    {
     "name": "stdout",
     "output_type": "stream",
     "text": [
      "0.016634746680923365 None\n",
      "0.007779209631773292 None\n",
      "0.007790541028112754 None\n",
      "0.007811921477987259 None\n",
      "0.0077792266549411996 None\n",
      "0.007827669189714913 None\n",
      "0.00777819851408384 None\n",
      "0.007819081097444482 None\n",
      "0.007801670693016569 None\n",
      "0.007800743783730145 None\n",
      "0.007778995405798243 None\n",
      "0.007832423994709884 None\n",
      "0.007796362800236752 None\n",
      "0.007788013179010725 None\n",
      "0.007826756605189833 None\n",
      "0.007802731545931946 None\n",
      "0.007782844237474906 None\n",
      "0.007806299220489748 None\n",
      "0.007789088086907518 None\n",
      "0.007800538617590148 None\n",
      "0.007802297766407609 None\n"
     ]
    },
    {
     "data": {
      "application/vnd.jupyter.widget-view+json": {
       "model_id": "36026338782b4b37a52ed872c5959c58",
       "version_major": 2,
       "version_minor": 0
      },
      "text/plain": [
       "  0%|          | 0/2000 [00:00<?, ?it/s]"
      ]
     },
     "metadata": {},
     "output_type": "display_data"
    },
    {
     "name": "stdout",
     "output_type": "stream",
     "text": [
      "0.0319168808997152 None\n",
      "0.003487972859392274 None\n",
      "0.0035016406249366674 None\n",
      "0.003528539181781928 None\n",
      "0.00348332234823177 None\n",
      "0.0035210943130768516 None\n",
      "0.019782484326886035 None\n",
      "0.003522698095884063 None\n",
      "0.01981819606815669 None\n",
      "0.0035072454924939267 None\n",
      "0.0034920413565673377 None\n",
      "0.0035366399948838804 None\n",
      "0.01980765730693911 None\n",
      "0.0035070224179996217 None\n",
      "0.003525226419769269 None\n",
      "0.019872071498385997 None\n",
      "0.0035099493010980996 None\n",
      "0.01980252336998036 None\n",
      "0.0035274612404844106 None\n",
      "0.003511094269537257 None\n",
      "0.019794793875508702 None\n",
      "Done!\n"
     ]
    },
    {
     "data": {
      "application/vnd.jupyter.widget-view+json": {
       "model_id": "4ddb31e8bf8a47ed9fbdee655c6ce8c1",
       "version_major": 2,
       "version_minor": 0
      },
      "text/plain": [
       "  0%|          | 0/2000 [00:00<?, ?it/s]"
      ]
     },
     "metadata": {},
     "output_type": "display_data"
    },
    {
     "name": "stdout",
     "output_type": "stream",
     "text": [
      "0.126032415480286 None\n",
      "0.12557760204582863 None\n",
      "0.11004946598656186 None\n",
      "0.11001313288130211 None\n",
      "0.11000697508599908 None\n",
      "0.11000628571556612 None\n",
      "0.12544806188334684 None\n",
      "0.11000620921499109 None\n",
      "0.12544805462222808 None\n",
      "0.12544805456691796 None\n",
      "0.12544805456288352 None\n",
      "0.1100062089119142 None\n",
      "0.1254480545630824 None\n",
      "0.1100062089232676 None\n",
      "0.1100062089178622 None\n",
      "0.11000620891523324 None\n",
      "0.12544805455968766 None\n",
      "0.12544805456267 None\n",
      "0.1254480545661524 None\n",
      "0.11000620891807569 None\n",
      "0.11000620891773237 None\n"
     ]
    },
    {
     "data": {
      "application/vnd.jupyter.widget-view+json": {
       "model_id": "5c3944e5c7534a47aae8447556518af1",
       "version_major": 2,
       "version_minor": 0
      },
      "text/plain": [
       "  0%|          | 0/2000 [00:00<?, ?it/s]"
      ]
     },
     "metadata": {},
     "output_type": "display_data"
    },
    {
     "name": "stdout",
     "output_type": "stream",
     "text": [
      "0.07095876376601386 None\n",
      "0.050810631102855844 None\n",
      "0.035293304758001215 None\n",
      "0.05074278690897148 None\n",
      "0.05074178481388269 None\n",
      "0.05074412392012806 None\n",
      "0.050729267326363695 None\n",
      "0.05075720416524218 None\n",
      "0.035346478782656274 None\n",
      "0.035332497292256126 None\n",
      "0.05074998674318941 None\n",
      "0.035288275479271686 None\n",
      "0.035353829314341986 None\n",
      "0.05077238594432025 None\n",
      "0.05074002226031508 None\n",
      "0.03531261722267124 None\n",
      "0.03531335543608358 None\n",
      "0.03531046270599081 None\n",
      "0.03529392903505817 None\n",
      "0.03531736830600127 None\n",
      "0.03529369363277236 None\n"
     ]
    },
    {
     "data": {
      "application/vnd.jupyter.widget-view+json": {
       "model_id": "965d2fb9a6d24fdfab4d9171877043f3",
       "version_major": 2,
       "version_minor": 0
      },
      "text/plain": [
       "  0%|          | 0/2000 [00:00<?, ?it/s]"
      ]
     },
     "metadata": {},
     "output_type": "display_data"
    },
    {
     "name": "stdout",
     "output_type": "stream",
     "text": [
      "0.03972192478957297 None\n",
      "0.023092059751165732 None\n",
      "0.0231540549307784 None\n",
      "0.038530142782363455 None\n",
      "0.03854215592310474 None\n",
      "0.023117831032713726 None\n",
      "0.023155525884596368 None\n",
      "0.023136750259642028 None\n",
      "0.038634296407174876 None\n",
      "0.03853637342235326 None\n",
      "0.038557050914289244 None\n",
      "0.03855790593599654 None\n",
      "0.03852742049586252 None\n",
      "0.023088187880406185 None\n",
      "0.038554937720402464 None\n",
      "0.038533553238446025 None\n",
      "0.023091085463830447 None\n",
      "0.023118380459844726 None\n",
      "0.02316229054729233 None\n",
      "0.023120733617316567 None\n",
      "0.038541813877526004 None\n",
      "Done!\n"
     ]
    }
   ],
   "source": [
    "n = 3\n",
    "d = 2**n\n",
    "\n",
    "np.random.seed(42)\n",
    "random.seed(42)\n",
    "tf.random.set_seed(42)\n",
    "rng = np.random.default_rng(seed=42)\n",
    "\n",
    "distance_best_list, model_best_list = fit_diluted_unitary(spectrum_target_list2, \n",
    "                                                          d=d, \n",
    "                                                          rank_start=1, \n",
    "                                                          rank_step=1,\n",
    "                                                          num_iter = 2000)\n",
    "\n",
    "saver([distance_best_list, model_best_list], data_path(\"diluted_fitting_16layer.model\"))"
   ]
  },
  {
   "cell_type": "code",
   "execution_count": 36,
   "metadata": {},
   "outputs": [
    {
     "data": {
      "application/vnd.jupyter.widget-view+json": {
       "model_id": "cf5ef6765692456bbe79d4f5af5f9dbe",
       "version_major": 2,
       "version_minor": 0
      },
      "text/plain": [
       "  0%|          | 0/10 [00:00<?, ?it/s]"
      ]
     },
     "metadata": {},
     "output_type": "display_data"
    },
    {
     "data": {
      "application/vnd.jupyter.widget-view+json": {
       "model_id": "f6d0d0005148478e9d3a214256b575b4",
       "version_major": 2,
       "version_minor": 0
      },
      "text/plain": [
       "  0%|          | 0/2000 [00:00<?, ?it/s]"
      ]
     },
     "metadata": {},
     "output_type": "display_data"
    },
    {
     "name": "stdout",
     "output_type": "stream",
     "text": [
      "0.27600908037232097 None\n",
      "0.281684524499661 None\n",
      "0.28022479195359373 None\n",
      "0.2636744937453674 None\n",
      "0.2636361118872932 None\n",
      "0.27993503866544783 None\n",
      "0.27993503836526507 None\n",
      "0.2636259804496675 None\n",
      "0.26362598045032315 None\n",
      "0.26362598044894686 None\n",
      "0.2636259804492217 None\n",
      "0.2636259804494512 None\n",
      "0.2636259804489098 None\n",
      "0.26362598044893953 None\n",
      "0.2636259804499735 None\n",
      "0.2636259804507484 None\n",
      "0.27993503836417166 None\n",
      "0.27993503836294104 None\n",
      "0.27993503836296413 None\n",
      "0.26362598045100527 None\n",
      "0.2636259804493368 None\n"
     ]
    },
    {
     "data": {
      "application/vnd.jupyter.widget-view+json": {
       "model_id": "f3dfc9d57cb34536b04fee7708bedb4f",
       "version_major": 2,
       "version_minor": 0
      },
      "text/plain": [
       "  0%|          | 0/2000 [00:00<?, ?it/s]"
      ]
     },
     "metadata": {},
     "output_type": "display_data"
    },
    {
     "name": "stdout",
     "output_type": "stream",
     "text": [
      "0.17735614358013274 None\n",
      "0.14841736898096303 None\n",
      "0.15571866382286867 None\n",
      "0.13530185540833425 None\n",
      "0.14899896158380396 None\n",
      "0.1459318203075542 None\n",
      "0.14077964256956121 None\n",
      "0.12283918503320121 None\n",
      "0.13968884860118364 None\n",
      "0.1224438815393305 None\n",
      "0.12247896415789268 None\n",
      "0.1061104236523525 None\n",
      "0.10612502576511655 None\n",
      "0.13959687417740277 None\n",
      "0.12242313450793382 None\n",
      "0.10613893633520378 None\n",
      "0.10611742309845867 None\n",
      "0.12242295690408901 None\n",
      "0.1227932669335598 None\n",
      "0.10638443149653773 None\n",
      "0.13977703232294575 None\n"
     ]
    },
    {
     "data": {
      "application/vnd.jupyter.widget-view+json": {
       "model_id": "6cff11f99cd24a429f2a08d62e5bf7cd",
       "version_major": 2,
       "version_minor": 0
      },
      "text/plain": [
       "  0%|          | 0/2000 [00:00<?, ?it/s]"
      ]
     },
     "metadata": {},
     "output_type": "display_data"
    },
    {
     "name": "stdout",
     "output_type": "stream",
     "text": [
      "0.15210202038935441 None\n",
      "0.11253099347206634 None\n",
      "0.11593413219917942 None\n",
      "0.08896247219180783 None\n",
      "0.09348706922162348 None\n",
      "0.08476671669847799 None\n",
      "0.07797845232428437 None\n",
      "0.07077890302882273 None\n",
      "0.051630112581717146 None\n",
      "0.05130165241455367 None\n",
      "0.0511300687553821 None\n",
      "0.06141174300366018 None\n",
      "0.06141450947083719 None\n",
      "0.06141076580813186 None\n",
      "0.06142868525556019 None\n",
      "0.061397986008240084 None\n",
      "0.0614150549789956 None\n",
      "0.06141756991674155 None\n",
      "0.061403092505664024 None\n",
      "0.061424813065352746 None\n",
      "0.0764510292510276 None\n"
     ]
    },
    {
     "data": {
      "application/vnd.jupyter.widget-view+json": {
       "model_id": "c5f326e6dd8e4040a971a2ed3202d612",
       "version_major": 2,
       "version_minor": 0
      },
      "text/plain": [
       "  0%|          | 0/2000 [00:00<?, ?it/s]"
      ]
     },
     "metadata": {},
     "output_type": "display_data"
    },
    {
     "name": "stdout",
     "output_type": "stream",
     "text": [
      "0.1285832602659193 None\n",
      "0.10538936975774184 None\n",
      "0.09100897621812168 None\n",
      "0.0942820915499183 None\n",
      "0.06821462242471571 None\n",
      "0.0586165773965907 None\n",
      "0.05034340181076882 None\n",
      "0.04365418850251211 None\n",
      "0.05726767961749828 None\n",
      "0.041832870331793504 None\n",
      "0.05726297293208303 None\n",
      "0.04184134116949002 None\n",
      "0.04181752199257253 None\n",
      "0.041857772540928165 None\n",
      "0.041824768902681886 None\n",
      "0.05728488343649004 None\n",
      "0.04183604389778219 None\n",
      "0.057300414041426315 None\n",
      "0.05728814077893121 None\n",
      "0.05729793424027091 None\n",
      "0.04183942320159425 None\n"
     ]
    },
    {
     "data": {
      "application/vnd.jupyter.widget-view+json": {
       "model_id": "80cf5169464e4d92933a45c07c0918c6",
       "version_major": 2,
       "version_minor": 0
      },
      "text/plain": [
       "  0%|          | 0/2000 [00:00<?, ?it/s]"
      ]
     },
     "metadata": {},
     "output_type": "display_data"
    },
    {
     "name": "stdout",
     "output_type": "stream",
     "text": [
      "0.13328534875277942 None\n",
      "0.10432358502614637 None\n",
      "0.07970317656479486 None\n",
      "0.06656435027328508 None\n",
      "0.06936778647209377 None\n",
      "0.039659716821778206 None\n",
      "0.04300762739260709 None\n",
      "0.03799371587042692 None\n",
      "0.02170948357252363 None\n",
      "0.021685093413378247 None\n",
      "0.03797773300127269 None\n",
      "0.037990347878709696 None\n",
      "0.021733805675700785 None\n",
      "0.037975432310136115 None\n",
      "0.021679275790445252 None\n",
      "0.03803438451646378 None\n",
      "0.038021075373044 None\n",
      "0.03801391885822365 None\n",
      "0.021680683505066623 None\n",
      "0.03799964882246368 None\n",
      "0.021699514955110615 None\n"
     ]
    },
    {
     "data": {
      "application/vnd.jupyter.widget-view+json": {
       "model_id": "8a32fe432b244e73a0d130cd9d75183e",
       "version_major": 2,
       "version_minor": 0
      },
      "text/plain": [
       "  0%|          | 0/2000 [00:00<?, ?it/s]"
      ]
     },
     "metadata": {},
     "output_type": "display_data"
    },
    {
     "name": "stdout",
     "output_type": "stream",
     "text": [
      "0.1372137483058791 None\n",
      "0.10954228375551604 None\n",
      "0.08217594910113347 None\n",
      "0.0799017523639399 None\n",
      "0.06682344340618879 None\n",
      "0.05429654225938898 None\n",
      "0.027181441351114565 None\n",
      "0.020584024668495758 None\n",
      "0.020542346627751826 None\n",
      "0.020583067406420574 None\n",
      "0.020544542334754064 None\n",
      "0.03596468115337929 None\n",
      "0.020544390331796877 None\n",
      "0.03596912252107834 None\n",
      "0.020561660520713797 None\n",
      "0.0359750138919527 None\n",
      "0.03601974271668909 None\n",
      "0.02055992058247486 None\n",
      "0.0359855141525286 None\n",
      "0.036032312325092825 None\n",
      "0.03600344470085225 None\n",
      "Done!\n"
     ]
    },
    {
     "data": {
      "application/vnd.jupyter.widget-view+json": {
       "model_id": "5c731bd3ee4c48538a5f6321e4fe7aa1",
       "version_major": 2,
       "version_minor": 0
      },
      "text/plain": [
       "  0%|          | 0/2000 [00:00<?, ?it/s]"
      ]
     },
     "metadata": {},
     "output_type": "display_data"
    },
    {
     "name": "stdout",
     "output_type": "stream",
     "text": [
      "0.3225438937532639 None\n",
      "0.31887450418757013 None\n",
      "0.3188716433533031 None\n",
      "0.3034370050355398 None\n",
      "0.3034378171980372 None\n",
      "0.303438868361308 None\n",
      "0.30343751016825155 None\n",
      "0.3188732207086187 None\n",
      "0.3188711785439148 None\n",
      "0.3034372931930994 None\n",
      "0.31887548761106255 None\n",
      "0.31887550748814897 None\n",
      "0.318872801498365 None\n",
      "0.30343934471782746 None\n",
      "0.31887310329303686 None\n",
      "0.318895915120458 None\n",
      "0.318875717246307 None\n",
      "0.30343785538256496 None\n",
      "0.31887311247988737 None\n",
      "0.30343523943798517 None\n",
      "0.3188756164713073 None\n"
     ]
    },
    {
     "data": {
      "application/vnd.jupyter.widget-view+json": {
       "model_id": "c425bf6b97fe46ca92d032fd8b4f7936",
       "version_major": 2,
       "version_minor": 0
      },
      "text/plain": [
       "  0%|          | 0/2000 [00:00<?, ?it/s]"
      ]
     },
     "metadata": {},
     "output_type": "display_data"
    },
    {
     "name": "stdout",
     "output_type": "stream",
     "text": [
      "0.14096824455620427 None\n",
      "0.1435966567101662 None\n",
      "0.13307924009157243 None\n",
      "0.11050102416337143 None\n",
      "0.10590229812513441 None\n",
      "0.1032123365864542 None\n",
      "0.11799429535449253 None\n",
      "0.10905273018376815 None\n",
      "0.12205479843397221 None\n",
      "0.10654080966330198 None\n",
      "0.10647634710574791 None\n",
      "0.10647576903293432 None\n",
      "0.10647575833726994 None\n",
      "0.10647575814818663 None\n",
      "0.10647575814008323 None\n",
      "0.10647575814041185 None\n",
      "0.10647575814042538 None\n",
      "0.10647575814199933 None\n",
      "0.10647575814268638 None\n",
      "0.10647575813990498 None\n",
      "0.10647575814063595 None\n"
     ]
    },
    {
     "data": {
      "application/vnd.jupyter.widget-view+json": {
       "model_id": "70641e4b569b402cab312178b1abd515",
       "version_major": 2,
       "version_minor": 0
      },
      "text/plain": [
       "  0%|          | 0/2000 [00:00<?, ?it/s]"
      ]
     },
     "metadata": {},
     "output_type": "display_data"
    },
    {
     "name": "stdout",
     "output_type": "stream",
     "text": [
      "0.16368964031098776 None\n",
      "0.14859227038231873 None\n",
      "0.11970565529153965 None\n",
      "0.10774019498249172 None\n",
      "0.1129396752253268 None\n",
      "0.09195027197099973 None\n",
      "0.09107828814964557 None\n",
      "0.1064896906187251 None\n",
      "0.1064893248364812 None\n",
      "0.09103997620444221 None\n",
      "0.09103997622736063 None\n",
      "0.09103997609804683 None\n",
      "0.10648932489690927 None\n",
      "0.0910399762568532 None\n",
      "0.09103997610970213 None\n",
      "0.09103997611892957 None\n",
      "0.10648932472837933 None\n",
      "0.0910399760479844 None\n",
      "0.10648932480665563 None\n",
      "0.10648932493979948 None\n",
      "0.09103997608608486 None\n"
     ]
    },
    {
     "data": {
      "application/vnd.jupyter.widget-view+json": {
       "model_id": "32894b7f721c4674bb868f57054e7c92",
       "version_major": 2,
       "version_minor": 0
      },
      "text/plain": [
       "  0%|          | 0/2000 [00:00<?, ?it/s]"
      ]
     },
     "metadata": {},
     "output_type": "display_data"
    },
    {
     "name": "stdout",
     "output_type": "stream",
     "text": [
      "0.15489354721242168 None\n",
      "0.1256627723868674 None\n",
      "0.09365752434521493 None\n",
      "0.08137145862941499 None\n",
      "0.06905410811716624 None\n",
      "0.057317051532958664 None\n",
      "0.047087009696965894 None\n",
      "0.0557659988069582 None\n",
      "0.03462082610955492 None\n",
      "0.034535541001926705 None\n",
      "0.050850105964347345 None\n",
      "0.05084956654855448 None\n",
      "0.03455240684698928 None\n",
      "0.034534505504610874 None\n",
      "0.03455520910146089 None\n",
      "0.03452744392736805 None\n",
      "0.0345391815181258 None\n",
      "0.03455221832254036 None\n",
      "0.03453547160439731 None\n",
      "0.03452778498622606 None\n",
      "0.05085233608725513 None\n"
     ]
    },
    {
     "data": {
      "application/vnd.jupyter.widget-view+json": {
       "model_id": "b840d1c7dc294909ba0860fa0f0f0a59",
       "version_major": 2,
       "version_minor": 0
      },
      "text/plain": [
       "  0%|          | 0/2000 [00:00<?, ?it/s]"
      ]
     },
     "metadata": {},
     "output_type": "display_data"
    },
    {
     "name": "stdout",
     "output_type": "stream",
     "text": [
      "0.14317878179371296 None\n",
      "0.11450638292261721 None\n",
      "0.08646856535657657 None\n",
      "0.07394323337161737 None\n",
      "0.06137603251200868 None\n",
      "0.04873572352884629 None\n",
      "0.036306892637805566 None\n",
      "0.024785656221319043 None\n",
      "0.024669060663899095 None\n",
      "0.024642277051176 None\n",
      "0.02466964724760835 None\n",
      "0.024657613248393134 None\n",
      "0.024646290694741283 None\n",
      "0.024668289880291846 None\n",
      "0.02465713733712012 None\n",
      "0.02466096625749009 None\n",
      "0.024660559314564175 None\n",
      "0.02463826466140797 None\n",
      "0.0246560448885268 None\n",
      "0.024664803784146094 None\n",
      "0.024650796390621926 None\n"
     ]
    },
    {
     "data": {
      "application/vnd.jupyter.widget-view+json": {
       "model_id": "8b8b7268d30b482bb1ff59c43699d0a0",
       "version_major": 2,
       "version_minor": 0
      },
      "text/plain": [
       "  0%|          | 0/2000 [00:00<?, ?it/s]"
      ]
     },
     "metadata": {},
     "output_type": "display_data"
    },
    {
     "name": "stdout",
     "output_type": "stream",
     "text": [
      "0.13264390875957272 None\n",
      "0.1058816849059152 None\n",
      "0.1057365596285132 None\n",
      "0.07435780109121196 None\n",
      "0.05889752812475089 None\n",
      "0.05946768033726307 None\n",
      "0.04525083651169855 None\n",
      "0.04060292084947964 None\n",
      "0.040598190635847554 None\n",
      "0.04061223875311411 None\n",
      "0.025167928944440133 None\n",
      "0.040613801213038564 None\n",
      "0.04059255568288127 None\n",
      "0.02520945935095349 None\n",
      "0.02515756240634423 None\n",
      "0.025158593339793648 None\n",
      "0.025155079790386493 None\n",
      "0.02520361550457767 None\n",
      "0.04059102872152272 None\n",
      "0.025154083932513137 None\n",
      "0.02515783239601584 None\n",
      "Done!\n"
     ]
    },
    {
     "data": {
      "application/vnd.jupyter.widget-view+json": {
       "model_id": "c54b2791439540cc9ee341f37c9d8082",
       "version_major": 2,
       "version_minor": 0
      },
      "text/plain": [
       "  0%|          | 0/2000 [00:00<?, ?it/s]"
      ]
     },
     "metadata": {},
     "output_type": "display_data"
    },
    {
     "name": "stdout",
     "output_type": "stream",
     "text": [
      "0.2528125199840682 None\n",
      "0.2320970086805968 None\n",
      "0.24715196600971184 None\n",
      "0.24713613407604618 None\n",
      "0.23169622036062226 None\n",
      "0.23169621979889896 None\n",
      "0.23169621979812208 None\n",
      "0.23169621979826985 None\n",
      "0.24713594543592737 None\n",
      "0.24713594543590434 None\n",
      "0.24713594543598352 None\n",
      "0.23169621979822766 None\n",
      "0.2316962197981685 None\n",
      "0.23169621979803448 None\n",
      "0.23169621979838734 None\n",
      "0.24713594543597853 None\n",
      "0.24713594543582587 None\n",
      "0.2471359454355875 None\n",
      "0.23169621979873933 None\n",
      "0.24713594543577147 None\n",
      "0.23169621979810073 None\n"
     ]
    },
    {
     "data": {
      "application/vnd.jupyter.widget-view+json": {
       "model_id": "b7d8f8d68a144b6cb1aa6da0e417c1cd",
       "version_major": 2,
       "version_minor": 0
      },
      "text/plain": [
       "  0%|          | 0/2000 [00:00<?, ?it/s]"
      ]
     },
     "metadata": {},
     "output_type": "display_data"
    },
    {
     "name": "stdout",
     "output_type": "stream",
     "text": [
      "0.1544130623091174 None\n",
      "0.15927448678934025 None\n",
      "0.15255311428473092 None\n",
      "0.15043803328582167 None\n",
      "0.15043799974858318 None\n",
      "0.1504379995824447 None\n",
      "0.1504379995989919 None\n",
      "0.15043799962174476 None\n",
      "0.1504379996190749 None\n",
      "0.15043799959930423 None\n",
      "0.13499728805530004 None\n",
      "0.13499728831728672 None\n",
      "0.13499728809297698 None\n",
      "0.13499728822666893 None\n",
      "0.15043799956526688 None\n",
      "0.13499728811491235 None\n",
      "0.1349972884632934 None\n",
      "0.13499728800732752 None\n",
      "0.15043799952740725 None\n",
      "0.1349972882717883 None\n",
      "0.1504379995283548 None\n"
     ]
    },
    {
     "data": {
      "application/vnd.jupyter.widget-view+json": {
       "model_id": "c622114328af44cb9f121769e5dfb4cb",
       "version_major": 2,
       "version_minor": 0
      },
      "text/plain": [
       "  0%|          | 0/2000 [00:00<?, ?it/s]"
      ]
     },
     "metadata": {},
     "output_type": "display_data"
    },
    {
     "name": "stdout",
     "output_type": "stream",
     "text": [
      "0.1354925739471087 None\n",
      "0.10183769586352888 None\n",
      "0.08658206231194353 None\n",
      "0.09005206352461129 None\n",
      "0.08088813441553691 None\n",
      "0.059652184915625905 None\n",
      "0.05578428617844216 None\n",
      "0.055074207733046866 None\n",
      "0.07139770632845445 None\n",
      "0.05506282385142741 None\n",
      "0.0714018833589472 None\n",
      "0.07141468811792136 None\n",
      "0.055076284249825656 None\n",
      "0.07140713327602802 None\n",
      "0.055076712678353075 None\n",
      "0.05507522922873812 None\n",
      "0.055079960331836986 None\n",
      "0.07139816660856549 None\n",
      "0.07140444831388648 None\n",
      "0.055062713692433096 None\n",
      "0.07140771757215986 None\n"
     ]
    },
    {
     "data": {
      "application/vnd.jupyter.widget-view+json": {
       "model_id": "0eedc71f809b49f687b466c89a531413",
       "version_major": 2,
       "version_minor": 0
      },
      "text/plain": [
       "  0%|          | 0/2000 [00:00<?, ?it/s]"
      ]
     },
     "metadata": {},
     "output_type": "display_data"
    },
    {
     "name": "stdout",
     "output_type": "stream",
     "text": [
      "0.12637737945922933 None\n",
      "0.12339940244715256 None\n",
      "0.10951614051643925 None\n",
      "0.09554413032475971 None\n",
      "0.08225895698966468 None\n",
      "0.05480503437264263 None\n",
      "0.05978490721881777 None\n",
      "0.05471692900006497 None\n",
      "0.03923404906156514 None\n",
      "0.039257984675354296 None\n",
      "0.054721268307289114 None\n",
      "0.03925199286339455 None\n",
      "0.0392663776247766 None\n",
      "0.054681957108179954 None\n",
      "0.03925862584623157 None\n",
      "0.05469010091200736 None\n",
      "0.03926092424200548 None\n",
      "0.05469616114278349 None\n",
      "0.05468224583866525 None\n",
      "0.03927812603835284 None\n",
      "0.054698393726758165 None\n"
     ]
    },
    {
     "data": {
      "application/vnd.jupyter.widget-view+json": {
       "model_id": "36a4ecfcaa7642e99d0a3bf97c5f369a",
       "version_major": 2,
       "version_minor": 0
      },
      "text/plain": [
       "  0%|          | 0/2000 [00:00<?, ?it/s]"
      ]
     },
     "metadata": {},
     "output_type": "display_data"
    },
    {
     "name": "stdout",
     "output_type": "stream",
     "text": [
      "0.11612326571677205 None\n",
      "0.09368924447187277 None\n",
      "0.0786845958187615 None\n",
      "0.06289612205615516 None\n",
      "0.04676063410543317 None\n",
      "0.031035019417376623 None\n",
      "0.04231241435426958 None\n",
      "0.025927918732123086 None\n",
      "0.04226601146771389 None\n",
      "0.025948209573252553 None\n",
      "0.025971305939826262 None\n",
      "0.02593916140962073 None\n",
      "0.025928040442728853 None\n",
      "0.025981957964214205 None\n",
      "0.02595373647717758 None\n",
      "0.025922593568940142 None\n",
      "0.025927499830321686 None\n",
      "0.042289562865505864 None\n",
      "0.025934947634932305 None\n",
      "0.025954887694867396 None\n",
      "0.04222547324186478 None\n"
     ]
    },
    {
     "data": {
      "application/vnd.jupyter.widget-view+json": {
       "model_id": "afa1bd61e3cd49a0bf80aa3be461e9a7",
       "version_major": 2,
       "version_minor": 0
      },
      "text/plain": [
       "  0%|          | 0/2000 [00:00<?, ?it/s]"
      ]
     },
     "metadata": {},
     "output_type": "display_data"
    },
    {
     "name": "stdout",
     "output_type": "stream",
     "text": [
      "0.11616295206643193 None\n",
      "0.08736271271382293 None\n",
      "0.0652188972878729 None\n",
      "0.05060588483041749 None\n",
      "0.03615488886601004 None\n",
      "0.022791206066108682 None\n",
      "0.018712888823877134 None\n",
      "0.01874240274766161 None\n",
      "0.03417508703981035 None\n",
      "0.0187130879887202 None\n",
      "0.01870818977080245 None\n",
      "0.03418912532044147 None\n",
      "0.0187411426891465 None\n",
      "0.018722267633669416 None\n",
      "0.018721618554912778 None\n",
      "0.01874539867140769 None\n",
      "0.01871136631033051 None\n",
      "0.018723360319317518 None\n",
      "0.01872024814322815 None\n",
      "0.018762785232244845 None\n",
      "0.03415553319807936 None\n"
     ]
    },
    {
     "data": {
      "application/vnd.jupyter.widget-view+json": {
       "model_id": "9f131c96c1e04cddb96b60efef492fe4",
       "version_major": 2,
       "version_minor": 0
      },
      "text/plain": [
       "  0%|          | 0/2000 [00:00<?, ?it/s]"
      ]
     },
     "metadata": {},
     "output_type": "display_data"
    },
    {
     "name": "stdout",
     "output_type": "stream",
     "text": [
      "0.12507572798115793 None\n",
      "0.09726419838798296 None\n",
      "0.06940457025299773 None\n",
      "0.0471282961245806 None\n",
      "0.03308952474752925 None\n",
      "0.019147689423304404 None\n",
      "0.01186145143951202 None\n",
      "0.01190237447863238 None\n",
      "0.011881783212509545 None\n",
      "0.011857273395684272 None\n",
      "0.011848822168872349 None\n",
      "0.011833640153372068 None\n",
      "0.011844743755099394 None\n",
      "0.027269636149754365 None\n",
      "0.011834605939421424 None\n",
      "0.02729456170406207 None\n",
      "0.011871465843694409 None\n",
      "0.011846800801516401 None\n",
      "0.011854661958213053 None\n",
      "0.01185861149822032 None\n",
      "0.011846406018022013 None\n"
     ]
    },
    {
     "data": {
      "application/vnd.jupyter.widget-view+json": {
       "model_id": "edbad8f6760c4343bcd8667836d107d4",
       "version_major": 2,
       "version_minor": 0
      },
      "text/plain": [
       "  0%|          | 0/2000 [00:00<?, ?it/s]"
      ]
     },
     "metadata": {},
     "output_type": "display_data"
    },
    {
     "name": "stdout",
     "output_type": "stream",
     "text": [
      "0.12471327374849471 None\n",
      "0.09630695513993051 None\n",
      "0.0677595502249349 None\n",
      "0.04747215928818508 None\n",
      "0.032459153504010504 None\n",
      "0.01714129619729727 None\n",
      "0.01238480489728232 None\n",
      "0.012373395754353358 None\n",
      "0.012375676022535507 None\n",
      "0.01236073043610749 None\n",
      "0.012366013387448586 None\n",
      "0.012362947873103792 None\n",
      "0.012379646645166841 None\n",
      "0.012350812082209188 None\n",
      "0.012368240459144857 None\n",
      "0.012414346750114913 None\n",
      "0.012405515650307168 None\n",
      "0.012358232643364189 None\n",
      "0.012355191109542541 None\n",
      "0.012426324811346123 None\n",
      "0.01237334344856236 None\n",
      "Done!\n"
     ]
    },
    {
     "data": {
      "application/vnd.jupyter.widget-view+json": {
       "model_id": "ed4f97f644c045e19a00fd36b8a1ff9b",
       "version_major": 2,
       "version_minor": 0
      },
      "text/plain": [
       "  0%|          | 0/2000 [00:00<?, ?it/s]"
      ]
     },
     "metadata": {},
     "output_type": "display_data"
    },
    {
     "name": "stdout",
     "output_type": "stream",
     "text": [
      "0.26914398417188057 None\n",
      "0.25147471112828623 None\n",
      "0.2514658772433735 None\n",
      "0.2514658769892127 None\n",
      "0.2677878366924618 None\n",
      "0.2514658769663018 None\n",
      "0.2514658769129844 None\n",
      "0.26778783666018463 None\n",
      "0.2677878365843375 None\n",
      "0.2677878365836533 None\n",
      "0.2514658769132412 None\n",
      "0.2514658769917585 None\n",
      "0.25146587696943884 None\n",
      "0.2677878366363441 None\n",
      "0.2677878366485133 None\n",
      "0.2677878366301033 None\n",
      "0.2514658769211948 None\n",
      "0.2514658769325493 None\n",
      "0.2677878366785699 None\n",
      "0.2514658769208537 None\n",
      "0.26778783659344296 None\n"
     ]
    },
    {
     "data": {
      "application/vnd.jupyter.widget-view+json": {
       "model_id": "0e6a71a9f38e47debe0af35234a229a4",
       "version_major": 2,
       "version_minor": 0
      },
      "text/plain": [
       "  0%|          | 0/2000 [00:00<?, ?it/s]"
      ]
     },
     "metadata": {},
     "output_type": "display_data"
    },
    {
     "name": "stdout",
     "output_type": "stream",
     "text": [
      "0.16998330225066385 None\n",
      "0.1768958180268777 None\n",
      "0.15675359122162957 None\n",
      "0.15564154115361611 None\n",
      "0.15562684309134012 None\n",
      "0.15562684301276458 None\n",
      "0.1556268430127637 None\n",
      "0.1556268430127638 None\n",
      "0.15562684301276355 None\n",
      "0.15562684301276364 None\n",
      "0.15562684301276364 None\n",
      "0.15562684301276364 None\n",
      "0.15562684301276364 None\n",
      "0.15562684301276364 None\n",
      "0.15562684301276364 None\n",
      "0.15562684301276364 None\n",
      "0.15562684301276364 None\n",
      "0.15562684301276364 None\n",
      "0.15562684301276364 None\n",
      "0.15562684301276364 None\n",
      "0.15562684301276364 None\n"
     ]
    },
    {
     "data": {
      "application/vnd.jupyter.widget-view+json": {
       "model_id": "b967552ef043469abb9ce0c388fb0824",
       "version_major": 2,
       "version_minor": 0
      },
      "text/plain": [
       "  0%|          | 0/2000 [00:00<?, ?it/s]"
      ]
     },
     "metadata": {},
     "output_type": "display_data"
    },
    {
     "name": "stdout",
     "output_type": "stream",
     "text": [
      "0.14325472878660842 None\n",
      "0.14215244891384726 None\n",
      "0.12694415966244008 None\n",
      "0.11320026679059957 None\n",
      "0.08580373725276727 None\n",
      "0.07596181177178302 None\n",
      "0.08590317776931848 None\n",
      "0.08279270693192967 None\n",
      "0.07957536998011137 None\n",
      "0.07791782312060296 None\n",
      "0.06152446505750326 None\n",
      "0.06104072565433565 None\n",
      "0.09080550539239232 None\n",
      "0.060622268640429376 None\n",
      "0.07596515386858098 None\n",
      "0.060452939450262574 None\n",
      "0.07585243183602616 None\n",
      "0.060376671686358484 None\n",
      "0.07580135941967504 None\n",
      "0.07578739457618149 None\n",
      "0.060332158856823165 None\n"
     ]
    },
    {
     "data": {
      "application/vnd.jupyter.widget-view+json": {
       "model_id": "8cce59f5711a4564ae173e6cb3436ed8",
       "version_major": 2,
       "version_minor": 0
      },
      "text/plain": [
       "  0%|          | 0/2000 [00:00<?, ?it/s]"
      ]
     },
     "metadata": {},
     "output_type": "display_data"
    },
    {
     "name": "stdout",
     "output_type": "stream",
     "text": [
      "0.16179902423664652 None\n",
      "0.13854228420008147 None\n",
      "0.12464619726667633 None\n",
      "0.10998326321449432 None\n",
      "0.09538600894317784 None\n",
      "0.080515961947121 None\n",
      "0.06983423473721381 None\n",
      "0.07789985888661081 None\n",
      "0.07169727349284802 None\n",
      "0.07167832794675355 None\n",
      "0.0716869408605579 None\n",
      "0.055378008613510776 None\n",
      "0.05533693635478362 None\n",
      "0.07166071784753578 None\n",
      "0.07166521525746967 None\n",
      "0.05534153490084347 None\n",
      "0.07165913282504512 None\n",
      "0.055353292092275894 None\n",
      "0.07168754014835503 None\n",
      "0.05534635526322388 None\n",
      "0.055371475137882833 None\n"
     ]
    },
    {
     "data": {
      "application/vnd.jupyter.widget-view+json": {
       "model_id": "dd9904476e7847e896e86223c3ebb331",
       "version_major": 2,
       "version_minor": 0
      },
      "text/plain": [
       "  0%|          | 0/2000 [00:00<?, ?it/s]"
      ]
     },
     "metadata": {},
     "output_type": "display_data"
    },
    {
     "name": "stdout",
     "output_type": "stream",
     "text": [
      "0.15236370343998895 None\n",
      "0.13919568323307885 None\n",
      "0.10013864618142379 None\n",
      "0.08811082224534042 None\n",
      "0.09208279673447221 None\n",
      "0.08007079187234599 None\n",
      "0.06835831348893098 None\n",
      "0.05673170272233383 None\n",
      "0.03001543013674801 None\n",
      "0.045453294129220626 None\n",
      "0.02985707260068052 None\n",
      "0.04543498871550229 None\n",
      "0.045444180278975656 None\n",
      "0.029932995803983006 None\n",
      "0.045423335977471835 None\n",
      "0.045432665904662065 None\n",
      "0.045498963362786596 None\n",
      "0.029863406001707483 None\n",
      "0.045444260534601405 None\n",
      "0.02990306384114355 None\n",
      "0.029866044895507426 None\n"
     ]
    },
    {
     "data": {
      "application/vnd.jupyter.widget-view+json": {
       "model_id": "dc487af7379146d2882f8d09aab2e734",
       "version_major": 2,
       "version_minor": 0
      },
      "text/plain": [
       "  0%|          | 0/2000 [00:00<?, ?it/s]"
      ]
     },
     "metadata": {},
     "output_type": "display_data"
    },
    {
     "name": "stdout",
     "output_type": "stream",
     "text": [
      "0.15264198674800117 None\n",
      "0.12341726949500469 None\n",
      "0.11147617100585486 None\n",
      "0.09786456347617307 None\n",
      "0.08349792079554262 None\n",
      "0.06937056504963358 None\n",
      "0.0585209218480056 None\n",
      "0.03174256034083632 None\n",
      "0.03144628918898204 None\n",
      "0.04776643292150799 None\n",
      "0.04780249101589345 None\n",
      "0.03146426744730223 None\n",
      "0.031483594422026875 None\n",
      "0.03144303188630149 None\n",
      "0.04779280388774622 None\n",
      "0.04777402675866617 None\n",
      "0.03150804637219082 None\n",
      "0.03149949209678088 None\n",
      "0.031441227993416115 None\n",
      "0.03145189225870732 None\n",
      "0.03145976515740307 None\n",
      "Done!\n"
     ]
    },
    {
     "data": {
      "application/vnd.jupyter.widget-view+json": {
       "model_id": "f25478c7347b4ec498e8101a2a25628c",
       "version_major": 2,
       "version_minor": 0
      },
      "text/plain": [
       "  0%|          | 0/2000 [00:00<?, ?it/s]"
      ]
     },
     "metadata": {},
     "output_type": "display_data"
    },
    {
     "name": "stdout",
     "output_type": "stream",
     "text": [
      "0.2946261717750684 None\n",
      "0.29433466196006286 None\n",
      "0.2943346533634213 None\n",
      "0.2788858397027075 None\n",
      "0.27888583973024617 None\n",
      "0.27888583943938394 None\n",
      "0.27888583916244325 None\n",
      "0.2788858391475656 None\n",
      "0.2943346539000511 None\n",
      "0.2788858484891163 None\n",
      "0.30893140679169356 None\n",
      "0.29433465413751864 None\n",
      "0.2943346536615992 None\n",
      "0.2943346538160876 None\n",
      "0.29433465389987945 None\n",
      "0.27888583928467126 None\n",
      "0.2943346555070596 None\n",
      "0.2943346534395811 None\n",
      "0.27888583920005255 None\n",
      "0.2943346533611546 None\n",
      "0.29433465419262794 None\n"
     ]
    },
    {
     "data": {
      "application/vnd.jupyter.widget-view+json": {
       "model_id": "4dfd81b3a18a427d95fa55e39c0de146",
       "version_major": 2,
       "version_minor": 0
      },
      "text/plain": [
       "  0%|          | 0/2000 [00:00<?, ?it/s]"
      ]
     },
     "metadata": {},
     "output_type": "display_data"
    },
    {
     "name": "stdout",
     "output_type": "stream",
     "text": [
      "0.19292244695711097 None\n",
      "0.1809377544774714 None\n",
      "0.15755213438335747 None\n",
      "0.18264886705995928 None\n",
      "0.16496421316270052 None\n",
      "0.14772423084064776 None\n",
      "0.16146973271669124 None\n",
      "0.1452961945171766 None\n",
      "0.14513800036095767 None\n",
      "0.14510174995852892 None\n",
      "0.14509593774068966 None\n",
      "0.14509531721465807 None\n",
      "0.14509525969152173 None\n",
      "0.16054155376753382 None\n",
      "0.16054155368713285 None\n",
      "0.16054155369531228 None\n",
      "0.16054155368939346 None\n",
      "0.16054155375028548 None\n",
      "0.1605415538148489 None\n",
      "0.1751307014505967 None\n",
      "0.1450952541234758 None\n"
     ]
    },
    {
     "data": {
      "application/vnd.jupyter.widget-view+json": {
       "model_id": "5e4c6a1b0a514693956d17d63e4305d6",
       "version_major": 2,
       "version_minor": 0
      },
      "text/plain": [
       "  0%|          | 0/2000 [00:00<?, ?it/s]"
      ]
     },
     "metadata": {},
     "output_type": "display_data"
    },
    {
     "name": "stdout",
     "output_type": "stream",
     "text": [
      "0.1801034123971173 None\n",
      "0.136349432343535 None\n",
      "0.12602153366043314 None\n",
      "0.13225320967021378 None\n",
      "0.10589655996338226 None\n",
      "0.09616224957589778 None\n",
      "0.08727375171185431 None\n",
      "0.07997236686746936 None\n",
      "0.09062218294149976 None\n",
      "0.08651831237543511 None\n",
      "0.06892602241011758 None\n",
      "0.08352780567186423 None\n",
      "0.06802674000937355 None\n",
      "0.06802630924834889 None\n",
      "0.08346274687911975 None\n",
      "0.06802630782948478 None\n",
      "0.06802630785321208 None\n",
      "0.08346274689333219 None\n",
      "0.08346274687141189 None\n",
      "0.08346274688653459 None\n",
      "0.08346274686867708 None\n"
     ]
    },
    {
     "data": {
      "application/vnd.jupyter.widget-view+json": {
       "model_id": "6b587585e846414ab66c0a5501c22a44",
       "version_major": 2,
       "version_minor": 0
      },
      "text/plain": [
       "  0%|          | 0/2000 [00:00<?, ?it/s]"
      ]
     },
     "metadata": {},
     "output_type": "display_data"
    },
    {
     "name": "stdout",
     "output_type": "stream",
     "text": [
      "0.1980343296044488 None\n",
      "0.1539335247303833 None\n",
      "0.13351316723856393 None\n",
      "0.1216462688462441 None\n",
      "0.11053895207585956 None\n",
      "0.11611325034099579 None\n",
      "0.08928345763710806 None\n",
      "0.07899913515508553 None\n",
      "0.10322992106338996 None\n",
      "0.09639685665483755 None\n",
      "0.09185170628404755 None\n",
      "0.07320414648587457 None\n",
      "0.05639925221489206 None\n",
      "0.07183704566092942 None\n",
      "0.056399238766675464 None\n",
      "0.056399238779981965 None\n",
      "0.07183704558238364 None\n",
      "0.07183704546739741 None\n",
      "0.056399238776503165 None\n",
      "0.07183704551803168 None\n",
      "0.05639923880124648 None\n"
     ]
    },
    {
     "data": {
      "application/vnd.jupyter.widget-view+json": {
       "model_id": "a30b434e3f3c49bd8e31070d86bf8a8d",
       "version_major": 2,
       "version_minor": 0
      },
      "text/plain": [
       "  0%|          | 0/2000 [00:00<?, ?it/s]"
      ]
     },
     "metadata": {},
     "output_type": "display_data"
    },
    {
     "name": "stdout",
     "output_type": "stream",
     "text": [
      "0.1704783531135401 None\n",
      "0.15673418893911065 None\n",
      "0.1273694950218564 None\n",
      "0.11452504424475832 None\n",
      "0.08696575421701414 None\n",
      "0.09050171856219444 None\n",
      "0.06370781710918234 None\n",
      "0.05336969793529933 None\n",
      "0.044388046157370575 None\n",
      "0.03640160767009337 None\n",
      "0.034659142783195734 None\n",
      "0.05004428036368374 None\n",
      "0.03461783071030766 None\n",
      "0.03461259873006791 None\n",
      "0.034632764786197416 None\n",
      "0.05005705818391806 None\n",
      "0.050052128768927145 None\n",
      "0.03461055044423821 None\n",
      "0.034638018746608254 None\n",
      "0.03461768993927951 None\n",
      "0.034621486397324625 None\n"
     ]
    },
    {
     "data": {
      "application/vnd.jupyter.widget-view+json": {
       "model_id": "3c8f387d5cd64c328c86edc85750b500",
       "version_major": 2,
       "version_minor": 0
      },
      "text/plain": [
       "  0%|          | 0/2000 [00:00<?, ?it/s]"
      ]
     },
     "metadata": {},
     "output_type": "display_data"
    },
    {
     "name": "stdout",
     "output_type": "stream",
     "text": [
      "0.16595449460312167 None\n",
      "0.13617594558767726 None\n",
      "0.10621933170201928 None\n",
      "0.09769819444366694 None\n",
      "0.0844589267398421 None\n",
      "0.07174704066237667 None\n",
      "0.058778324848518804 None\n",
      "0.04690696225927959 None\n",
      "0.04075853050275567 None\n",
      "0.04073207904907676 None\n",
      "0.04074140638641517 None\n",
      "0.04074742052293396 None\n",
      "0.04071919751672144 None\n",
      "0.04071143407284848 None\n",
      "0.040747470952588696 None\n",
      "0.040711455430949894 None\n",
      "0.02441033452127556 None\n",
      "0.04071410668386469 None\n",
      "0.024422048160408105 None\n",
      "0.024435921505895485 None\n",
      "0.024425044527999915 None\n"
     ]
    },
    {
     "data": {
      "application/vnd.jupyter.widget-view+json": {
       "model_id": "308c93a0accb41c4bbb5f8c502a747d3",
       "version_major": 2,
       "version_minor": 0
      },
      "text/plain": [
       "  0%|          | 0/2000 [00:00<?, ?it/s]"
      ]
     },
     "metadata": {},
     "output_type": "display_data"
    },
    {
     "name": "stdout",
     "output_type": "stream",
     "text": [
      "0.1709550862004523 None\n",
      "0.14247535661664698 None\n",
      "0.1303163684596548 None\n",
      "0.08641625311675531 None\n",
      "0.0852781121248176 None\n",
      "0.07285126630316795 None\n",
      "0.06070128578136445 None\n",
      "0.032629147320971004 None\n",
      "0.03779935015851554 None\n",
      "0.021352996174019454 None\n",
      "0.021326211022551292 None\n",
      "0.02134433203211477 None\n",
      "0.021332105267159323 None\n",
      "0.021320025143147677 None\n",
      "0.03764861435766993 None\n",
      "0.037653060127076254 None\n",
      "0.021329519366870314 None\n",
      "0.03764065118698941 None\n",
      "0.03766115646481892 None\n",
      "0.021320205325830417 None\n",
      "0.03764360168037091 None\n",
      "Done!\n"
     ]
    },
    {
     "data": {
      "application/vnd.jupyter.widget-view+json": {
       "model_id": "b5fe6f252d024cb186c82c8dd25ff5f4",
       "version_major": 2,
       "version_minor": 0
      },
      "text/plain": [
       "  0%|          | 0/2000 [00:00<?, ?it/s]"
      ]
     },
     "metadata": {},
     "output_type": "display_data"
    },
    {
     "name": "stdout",
     "output_type": "stream",
     "text": [
      "0.27514039765659143 None\n",
      "0.27884142312371457 None\n",
      "0.27541814856328767 None\n",
      "0.2736629620786819 None\n",
      "0.2575403308482791 None\n",
      "0.28740035058354285 None\n",
      "0.27277929649832244 None\n",
      "0.25732810217525437 None\n",
      "0.2727731687330162 None\n",
      "0.25732731233564365 None\n",
      "0.27277309066159633 None\n",
      "0.2573273053140155 None\n",
      "0.27277309038272973 None\n",
      "0.2573273052594828 None\n",
      "0.27277309038857245 None\n",
      "0.2727730903851273 None\n",
      "0.2573273052733871 None\n",
      "0.2727730903857746 None\n",
      "0.2573273052636399 None\n",
      "0.2573273052553052 None\n",
      "0.2727730903830973 None\n"
     ]
    },
    {
     "data": {
      "application/vnd.jupyter.widget-view+json": {
       "model_id": "7963f28e0d03407a83e47dbcb69c5d18",
       "version_major": 2,
       "version_minor": 0
      },
      "text/plain": [
       "  0%|          | 0/2000 [00:00<?, ?it/s]"
      ]
     },
     "metadata": {},
     "output_type": "display_data"
    },
    {
     "name": "stdout",
     "output_type": "stream",
     "text": [
      "0.17115675363850094 None\n",
      "0.15755500501976388 None\n",
      "0.14726389903091003 None\n",
      "0.14075856935435416 None\n",
      "0.15178303292804 None\n",
      "0.13354233818461864 None\n",
      "0.1327395854918398 None\n",
      "0.13273949134174295 None\n",
      "0.13273949134066085 None\n",
      "0.13273949134065952 None\n",
      "0.13273949134065993 None\n",
      "0.13273949134066024 None\n",
      "0.13273949134066046 None\n",
      "0.13273949134066046 None\n",
      "0.13273949134066046 None\n",
      "0.13273949134066046 None\n",
      "0.13273949134066046 None\n",
      "0.13273949134066046 None\n",
      "0.13273949134066046 None\n",
      "0.13273949134066046 None\n",
      "0.13273949134066046 None\n"
     ]
    },
    {
     "data": {
      "application/vnd.jupyter.widget-view+json": {
       "model_id": "f7b8e44844364eb3b9c88fe74e3a67b5",
       "version_major": 2,
       "version_minor": 0
      },
      "text/plain": [
       "  0%|          | 0/2000 [00:00<?, ?it/s]"
      ]
     },
     "metadata": {},
     "output_type": "display_data"
    },
    {
     "name": "stdout",
     "output_type": "stream",
     "text": [
      "0.17506717340773398 None\n",
      "0.15930772751621272 None\n",
      "0.1448445767425111 None\n",
      "0.13342540177241594 None\n",
      "0.10931205694400194 None\n",
      "0.10286002620319196 None\n",
      "0.11451422996177009 None\n",
      "0.12805228147779185 None\n",
      "0.09787426596544054 None\n",
      "0.0978490876431718 None\n",
      "0.11328741728617364 None\n",
      "0.09784540207624301 None\n",
      "0.1132870519934655 None\n",
      "0.1132870503367887 None\n",
      "0.11328705033560149 None\n",
      "0.09784535601408072 None\n",
      "0.11328705041446263 None\n",
      "0.11328705035475972 None\n",
      "0.09784535665201123 None\n",
      "0.1132870503406884 None\n",
      "0.0978453573729468 None\n"
     ]
    },
    {
     "data": {
      "application/vnd.jupyter.widget-view+json": {
       "model_id": "780eda6b9dc342d5baab04ddf6ceb699",
       "version_major": 2,
       "version_minor": 0
      },
      "text/plain": [
       "  0%|          | 0/2000 [00:00<?, ?it/s]"
      ]
     },
     "metadata": {},
     "output_type": "display_data"
    },
    {
     "name": "stdout",
     "output_type": "stream",
     "text": [
      "0.18130508305829465 None\n",
      "0.15206594408894505 None\n",
      "0.1278927997593471 None\n",
      "0.10208833164598068 None\n",
      "0.09222914994434417 None\n",
      "0.09797936045780492 None\n",
      "0.0890630027039231 None\n",
      "0.08195950699628195 None\n",
      "0.07976162595017976 None\n",
      "0.06431914974713496 None\n",
      "0.0643191497067298 None\n",
      "0.06431914979579617 None\n",
      "0.06431914969537433 None\n",
      "0.07976162499115587 None\n",
      "0.06431914975080177 None\n",
      "0.07976162492931477 None\n",
      "0.07976162492174416 None\n",
      "0.07976162514906826 None\n",
      "0.06431914976524822 None\n",
      "0.06431914980489872 None\n",
      "0.0643191498149703 None\n"
     ]
    },
    {
     "data": {
      "application/vnd.jupyter.widget-view+json": {
       "model_id": "351f51aeecd94feb9d777d8a51cfacb7",
       "version_major": 2,
       "version_minor": 0
      },
      "text/plain": [
       "  0%|          | 0/2000 [00:00<?, ?it/s]"
      ]
     },
     "metadata": {},
     "output_type": "display_data"
    },
    {
     "name": "stdout",
     "output_type": "stream",
     "text": [
      "0.1637341331649189 None\n",
      "0.13499768262074005 None\n",
      "0.11530953662714513 None\n",
      "0.10151393974193855 None\n",
      "0.10288610709857543 None\n",
      "0.07389112193850124 None\n",
      "0.0607416386262381 None\n",
      "0.06310908682561445 None\n",
      "0.052443106018550664 None\n",
      "0.05079186107086754 None\n",
      "0.03533511006852964 None\n",
      "0.0353867324660742 None\n",
      "0.05078326591757728 None\n",
      "0.03536348354770613 None\n",
      "0.0353599969863996 None\n",
      "0.05078786826597122 None\n",
      "0.05080471093645411 None\n",
      "0.03533473066584586 None\n",
      "0.05077650108283518 None\n",
      "0.05077761311299016 None\n",
      "0.03533663249377958 None\n"
     ]
    },
    {
     "data": {
      "application/vnd.jupyter.widget-view+json": {
       "model_id": "e8e17e200bc8483d8f385d9f9fc3d4ec",
       "version_major": 2,
       "version_minor": 0
      },
      "text/plain": [
       "  0%|          | 0/2000 [00:00<?, ?it/s]"
      ]
     },
     "metadata": {},
     "output_type": "display_data"
    },
    {
     "name": "stdout",
     "output_type": "stream",
     "text": [
      "0.16778850703198483 None\n",
      "0.1396127488625145 None\n",
      "0.1115424498900674 None\n",
      "0.08683524436230959 None\n",
      "0.07390110129593663 None\n",
      "0.06091592707175145 None\n",
      "0.0482333377178208 None\n",
      "0.03694673441802628 None\n",
      "0.044201759382642224 None\n",
      "0.041377588157589545 None\n",
      "0.04137534511611275 None\n",
      "0.041366258765032526 None\n",
      "0.041388638789984826 None\n",
      "0.04137312545381512 None\n",
      "0.025928429957345664 None\n",
      "0.025924161959116003 None\n",
      "0.04138686661178544 None\n",
      "0.041408777361995226 None\n",
      "0.04138443041837496 None\n",
      "0.04134938652922793 None\n",
      "0.041349930589539445 None\n",
      "Done!\n"
     ]
    },
    {
     "data": {
      "application/vnd.jupyter.widget-view+json": {
       "model_id": "3c2e7172a7e340e98965b732dbccfa0f",
       "version_major": 2,
       "version_minor": 0
      },
      "text/plain": [
       "  0%|          | 0/2000 [00:00<?, ?it/s]"
      ]
     },
     "metadata": {},
     "output_type": "display_data"
    },
    {
     "name": "stdout",
     "output_type": "stream",
     "text": [
      "0.25143733158244996 None\n",
      "0.24343985464595808 None\n",
      "0.24352003673327555 None\n",
      "0.24325065986435632 None\n",
      "0.2593774532946474 None\n",
      "0.24305178883363912 None\n",
      "0.243421999941604 None\n",
      "0.25943116700512914 None\n",
      "0.2593570770784913 None\n",
      "0.24310802733600023 None\n",
      "0.24305122891776804 None\n",
      "0.2430797534568229 None\n",
      "0.24305061896068414 None\n",
      "0.24312686326231653 None\n",
      "0.259464857357806 None\n",
      "0.2594089220971983 None\n",
      "0.24313514270370007 None\n",
      "0.25936547929740283 None\n",
      "0.2593786066798092 None\n",
      "0.25937638132645136 None\n",
      "0.24305905714652937 None\n"
     ]
    },
    {
     "data": {
      "application/vnd.jupyter.widget-view+json": {
       "model_id": "edd741a0d180428295b4a240f42bf91f",
       "version_major": 2,
       "version_minor": 0
      },
      "text/plain": [
       "  0%|          | 0/2000 [00:00<?, ?it/s]"
      ]
     },
     "metadata": {},
     "output_type": "display_data"
    },
    {
     "name": "stdout",
     "output_type": "stream",
     "text": [
      "0.15852597142433514 None\n",
      "0.1621413941664261 None\n",
      "0.15431260819460543 None\n",
      "0.1331457686088253 None\n",
      "0.12818295782212052 None\n",
      "0.1389782030827434 None\n",
      "0.11906935427611254 None\n",
      "0.1340240043711869 None\n",
      "0.11855171139051142 None\n",
      "0.1185483826835064 None\n",
      "0.13399253139053996 None\n",
      "0.13399252497496936 None\n",
      "0.11854814911047518 None\n",
      "0.13399252508525566 None\n",
      "0.13399252511474172 None\n",
      "0.13399252512191104 None\n",
      "0.13399252513055204 None\n",
      "0.11854814891912444 None\n",
      "0.11854814892353024 None\n",
      "0.13399252512909277 None\n",
      "0.13399252515041882 None\n"
     ]
    },
    {
     "data": {
      "application/vnd.jupyter.widget-view+json": {
       "model_id": "0ac8d982e86c4b37a9f7a1b453db81b3",
       "version_major": 2,
       "version_minor": 0
      },
      "text/plain": [
       "  0%|          | 0/2000 [00:00<?, ?it/s]"
      ]
     },
     "metadata": {},
     "output_type": "display_data"
    },
    {
     "name": "stdout",
     "output_type": "stream",
     "text": [
      "0.1290803515855461 None\n",
      "0.12866560538839775 None\n",
      "0.11290636230109473 None\n",
      "0.08275369911904805 None\n",
      "0.07245267299849988 None\n",
      "0.0802328480060782 None\n",
      "0.0730152478827866 None\n",
      "0.0524003516915284 None\n",
      "0.06848556233599334 None\n",
      "0.06848434365800318 None\n",
      "0.0684873714941764 None\n",
      "0.05220016747876773 None\n",
      "0.05219553310749882 None\n",
      "0.06847284874242468 None\n",
      "0.052166902057554754 None\n",
      "0.06848474991023942 None\n",
      "0.052171530154394484 None\n",
      "0.06850195503148723 None\n",
      "0.06850220852843034 None\n",
      "0.06847304396826707 None\n",
      "0.06849043918650137 None\n"
     ]
    },
    {
     "data": {
      "application/vnd.jupyter.widget-view+json": {
       "model_id": "fad30e6bf5c04cc49e544fcd3d45b96c",
       "version_major": 2,
       "version_minor": 0
      },
      "text/plain": [
       "  0%|          | 0/2000 [00:00<?, ?it/s]"
      ]
     },
     "metadata": {},
     "output_type": "display_data"
    },
    {
     "name": "stdout",
     "output_type": "stream",
     "text": [
      "0.13494665094951253 None\n",
      "0.10918073845404483 None\n",
      "0.09682026609313214 None\n",
      "0.08358253544902604 None\n",
      "0.08649488922321306 None\n",
      "0.0751819193369031 None\n",
      "0.049859133302306013 None\n",
      "0.04154213578290804 None\n",
      "0.05420948866776536 None\n",
      "0.038791864435493574 None\n",
      "0.038774206987648864 None\n",
      "0.03877150734862897 None\n",
      "0.0688175373435937 None\n",
      "0.038798154500487854 None\n",
      "0.03877778648070635 None\n",
      "0.054241594345221224 None\n",
      "0.038788702748897466 None\n",
      "0.054214338710861065 None\n",
      "0.05426712424674979 None\n",
      "0.054212505648778116 None\n",
      "0.05426153430540033 None\n"
     ]
    },
    {
     "data": {
      "application/vnd.jupyter.widget-view+json": {
       "model_id": "f369f6b58a204c1897ea1d0f72330b5b",
       "version_major": 2,
       "version_minor": 0
      },
      "text/plain": [
       "  0%|          | 0/2000 [00:00<?, ?it/s]"
      ]
     },
     "metadata": {},
     "output_type": "display_data"
    },
    {
     "name": "stdout",
     "output_type": "stream",
     "text": [
      "0.1489877293444346 None\n",
      "0.10325914691321127 None\n",
      "0.09795003498696468 None\n",
      "0.06786733870573843 None\n",
      "0.06992641074982431 None\n",
      "0.05591122207713917 None\n",
      "0.04293599887103537 None\n",
      "0.03866346258280545 None\n",
      "0.03865165572965877 None\n",
      "0.0223756351322849 None\n",
      "0.038667244360965095 None\n",
      "0.03873501529937637 None\n",
      "0.022339305349732788 None\n",
      "0.022364258052011435 None\n",
      "0.038661055916558364 None\n",
      "0.03865055736867122 None\n",
      "0.02234813580311707 None\n",
      "0.03864188138409543 None\n",
      "0.03869980844374466 None\n",
      "0.02233602397535463 None\n",
      "0.03866471596299633 None\n"
     ]
    },
    {
     "data": {
      "application/vnd.jupyter.widget-view+json": {
       "model_id": "8b66a65e269c470ab9970b66dfca60e2",
       "version_major": 2,
       "version_minor": 0
      },
      "text/plain": [
       "  0%|          | 0/2000 [00:00<?, ?it/s]"
      ]
     },
     "metadata": {},
     "output_type": "display_data"
    },
    {
     "name": "stdout",
     "output_type": "stream",
     "text": [
      "0.13896288815255473 None\n",
      "0.12610483217976853 None\n",
      "0.09792073043664509 None\n",
      "0.062387927478039215 None\n",
      "0.04926545028624039 None\n",
      "0.03681407416695327 None\n",
      "0.040999759538110477 None\n",
      "0.03493131664513689 None\n",
      "0.01945549500719513 None\n",
      "0.03495230553304479 None\n",
      "0.03495819020019751 None\n",
      "0.03490807496305796 None\n",
      "0.01950566525897613 None\n",
      "0.019467457514933006 None\n",
      "0.019455924149471775 None\n",
      "0.01945441014809835 None\n",
      "0.019512777817210093 None\n",
      "0.034917771137612644 None\n",
      "0.03491363979779989 None\n",
      "0.04948481495933871 None\n",
      "0.019497768069720495 None\n"
     ]
    },
    {
     "data": {
      "application/vnd.jupyter.widget-view+json": {
       "model_id": "06c8b5962c034cf492e08def0de62ba4",
       "version_major": 2,
       "version_minor": 0
      },
      "text/plain": [
       "  0%|          | 0/2000 [00:00<?, ?it/s]"
      ]
     },
     "metadata": {},
     "output_type": "display_data"
    },
    {
     "name": "stdout",
     "output_type": "stream",
     "text": [
      "0.14075776442807067 None\n",
      "0.11243100559382949 None\n",
      "0.08413974493328037 None\n",
      "0.06091996931595784 None\n",
      "0.047001742479004925 None\n",
      "0.03299918844546475 None\n",
      "0.01923230024249695 None\n",
      "0.015260963582423764 None\n",
      "0.015269785785738378 None\n",
      "0.01524094957594512 None\n",
      "0.015255837952926031 None\n",
      "0.01523326673623066 None\n",
      "0.015244371821185598 None\n",
      "0.015264173598352821 None\n",
      "0.01526421788675576 None\n",
      "0.015222785057837277 None\n",
      "0.015259695692900034 None\n",
      "0.015264675697805347 None\n",
      "0.015223737043332956 None\n",
      "0.01528582353005884 None\n",
      "0.015235128093812231 None\n"
     ]
    },
    {
     "data": {
      "application/vnd.jupyter.widget-view+json": {
       "model_id": "3a19c0e07b2440b1982ae29e6b9403ae",
       "version_major": 2,
       "version_minor": 0
      },
      "text/plain": [
       "  0%|          | 0/2000 [00:00<?, ?it/s]"
      ]
     },
     "metadata": {},
     "output_type": "display_data"
    },
    {
     "name": "stdout",
     "output_type": "stream",
     "text": [
      "0.1389768905788755 None\n",
      "0.11089209809394236 None\n",
      "0.0830615512096839 None\n",
      "0.05695967572116637 None\n",
      "0.04439563274948805 None\n",
      "0.04636932764078683 None\n",
      "0.03316593512192134 None\n",
      "0.029529707897916896 None\n",
      "0.01409191808643084 None\n",
      "0.029570303637688554 None\n",
      "0.014100187062076221 None\n",
      "0.029541430389449893 None\n",
      "0.029539503376013562 None\n",
      "0.014088130697219328 None\n",
      "0.01411735797277037 None\n",
      "0.014085010687725073 None\n",
      "0.029534530236308316 None\n",
      "0.014134900248147677 None\n",
      "0.029524640868016476 None\n",
      "0.01408770091294537 None\n",
      "0.029551260070531722 None\n",
      "Done!\n"
     ]
    },
    {
     "data": {
      "application/vnd.jupyter.widget-view+json": {
       "model_id": "d071a3baadf4422cbc7954d0ccb54c6d",
       "version_major": 2,
       "version_minor": 0
      },
      "text/plain": [
       "  0%|          | 0/2000 [00:00<?, ?it/s]"
      ]
     },
     "metadata": {},
     "output_type": "display_data"
    },
    {
     "name": "stdout",
     "output_type": "stream",
     "text": [
      "0.27049988510433426 None\n",
      "0.24750159735476104 None\n",
      "0.2435181661353941 None\n",
      "0.2583694292810366 None\n",
      "0.25836933190214456 None\n",
      "0.27295280052204784 None\n",
      "0.258369331901281 None\n",
      "0.25836933190140177 None\n",
      "0.24292490878909967 None\n",
      "0.258369331901328 None\n",
      "0.24292490878832307 None\n",
      "0.2583693319020855 None\n",
      "0.24292490878901665 None\n",
      "0.24292490879161557 None\n",
      "0.2429249087916837 None\n",
      "0.24292490879290826 None\n",
      "0.25836933190157607 None\n",
      "0.2583693319025489 None\n",
      "0.258369331901256 None\n",
      "0.24292490878844078 None\n",
      "0.2583693319014446 None\n"
     ]
    },
    {
     "data": {
      "application/vnd.jupyter.widget-view+json": {
       "model_id": "b05914fe67ab41758da0db747b5749b1",
       "version_major": 2,
       "version_minor": 0
      },
      "text/plain": [
       "  0%|          | 0/2000 [00:00<?, ?it/s]"
      ]
     },
     "metadata": {},
     "output_type": "display_data"
    },
    {
     "name": "stdout",
     "output_type": "stream",
     "text": [
      "0.11616157288490207 None\n",
      "0.11682834210978751 None\n",
      "0.10507599699608115 None\n",
      "0.09583858330395167 None\n",
      "0.06781515022957231 None\n",
      "0.0671390642421535 None\n",
      "0.08201403950388098 None\n",
      "0.06633429345373174 None\n",
      "0.08177538540837698 None\n",
      "0.08177538547253876 None\n",
      "0.08177538549441618 None\n",
      "0.06633210419741373 None\n",
      "0.06633210412528251 None\n",
      "0.08177538550760427 None\n",
      "0.08177538539878926 None\n",
      "0.08177538564076406 None\n",
      "0.08177538553478286 None\n",
      "0.08177538544834281 None\n",
      "0.08177538539641308 None\n",
      "0.08177538546867247 None\n",
      "0.08177538543658144 None\n"
     ]
    },
    {
     "data": {
      "application/vnd.jupyter.widget-view+json": {
       "model_id": "c768d662bfab481fbaaf78c1b8694aeb",
       "version_major": 2,
       "version_minor": 0
      },
      "text/plain": [
       "  0%|          | 0/2000 [00:00<?, ?it/s]"
      ]
     },
     "metadata": {},
     "output_type": "display_data"
    },
    {
     "name": "stdout",
     "output_type": "stream",
     "text": [
      "0.0958821227493892 None\n",
      "0.0799473917155533 None\n",
      "0.06538730291900102 None\n",
      "0.06760140235257618 None\n",
      "0.05585615347296927 None\n",
      "0.04020653953755275 None\n",
      "0.04027210433369323 None\n",
      "0.04026098666569425 None\n",
      "0.055671931000568 None\n",
      "0.0402070848152007 None\n",
      "0.04021946510501104 None\n",
      "0.04026277058342374 None\n",
      "0.05567346073027406 None\n",
      "0.055645751212246325 None\n",
      "0.055677440095126346 None\n",
      "0.055687330986246925 None\n",
      "0.05564911748439921 None\n",
      "0.05566088903901739 None\n",
      "0.040231950021963246 None\n",
      "0.04024507114199639 None\n",
      "0.040217772778574516 None\n"
     ]
    },
    {
     "data": {
      "application/vnd.jupyter.widget-view+json": {
       "model_id": "e62bd26f2fda452eb734b74c08c3e747",
       "version_major": 2,
       "version_minor": 0
      },
      "text/plain": [
       "  0%|          | 0/2000 [00:00<?, ?it/s]"
      ]
     },
     "metadata": {},
     "output_type": "display_data"
    },
    {
     "name": "stdout",
     "output_type": "stream",
     "text": [
      "0.099781191368907 None\n",
      "0.08144911128103799 None\n",
      "0.06388800431134645 None\n",
      "0.047864638346113916 None\n",
      "0.04912433145176987 None\n",
      "0.04626925777439792 None\n",
      "0.03068134421037558 None\n",
      "0.046294065612214955 None\n",
      "0.03068897430948122 None\n",
      "0.03067229039152517 None\n",
      "0.030682981740191503 None\n",
      "0.046275073890999455 None\n",
      "0.03068414680582152 None\n",
      "0.030686831976195234 None\n",
      "0.030665272854192047 None\n",
      "0.030717660039640847 None\n",
      "0.030682457778422646 None\n",
      "0.030703665189719873 None\n",
      "0.046267289129999445 None\n",
      "0.04630299314647839 None\n",
      "0.04628316221660217 None\n",
      "Done!\n"
     ]
    },
    {
     "data": {
      "application/vnd.jupyter.widget-view+json": {
       "model_id": "8d62e1c98ceb473a8d33e8362637a327",
       "version_major": 2,
       "version_minor": 0
      },
      "text/plain": [
       "  0%|          | 0/2000 [00:00<?, ?it/s]"
      ]
     },
     "metadata": {},
     "output_type": "display_data"
    },
    {
     "name": "stdout",
     "output_type": "stream",
     "text": [
      "0.2422599329575273 None\n",
      "0.25545883294166183 None\n",
      "0.23888488257015317 None\n",
      "0.2542859416143174 None\n",
      "0.23884756982899924 None\n",
      "0.2388475697313448 None\n",
      "0.25428586885472687 None\n",
      "0.23884756975934868 None\n",
      "0.25428586884719684 None\n",
      "0.25428586885949717 None\n",
      "0.25428586884788784 None\n",
      "0.23884756971646076 None\n",
      "0.25428586885750704 None\n",
      "0.25428586883903254 None\n",
      "0.23884756973851573 None\n",
      "0.2388475697411459 None\n",
      "0.2542858688400366 None\n",
      "0.25428586884122206 None\n",
      "0.2542858688418318 None\n",
      "0.2388475697048809 None\n",
      "0.23884756975109164 None\n"
     ]
    },
    {
     "data": {
      "application/vnd.jupyter.widget-view+json": {
       "model_id": "0cdabf10ea804ed582a8a3036a4928b2",
       "version_major": 2,
       "version_minor": 0
      },
      "text/plain": [
       "  0%|          | 0/2000 [00:00<?, ?it/s]"
      ]
     },
     "metadata": {},
     "output_type": "display_data"
    },
    {
     "name": "stdout",
     "output_type": "stream",
     "text": [
      "0.16674741651944672 None\n",
      "0.17096439989941842 None\n",
      "0.14644746221355628 None\n",
      "0.17113142235640558 None\n",
      "0.1389219640883191 None\n",
      "0.15408348409369862 None\n",
      "0.15407906807903185 None\n",
      "0.13863132884380555 None\n",
      "0.15407906009566297 None\n",
      "0.15407905998929625 None\n",
      "0.16867254022035047 None\n",
      "0.1540790600465761 None\n",
      "0.1540790599900781 None\n",
      "0.15407906001226251 None\n",
      "0.13863132776218917 None\n",
      "0.13863132858529897 None\n",
      "0.15407905999233404 None\n",
      "0.1540790602025429 None\n",
      "0.13863132933171546 None\n",
      "0.1540790599907505 None\n",
      "0.13863132792555888 None\n"
     ]
    },
    {
     "data": {
      "application/vnd.jupyter.widget-view+json": {
       "model_id": "635132a107174706ba458f349255594d",
       "version_major": 2,
       "version_minor": 0
      },
      "text/plain": [
       "  0%|          | 0/2000 [00:00<?, ?it/s]"
      ]
     },
     "metadata": {},
     "output_type": "display_data"
    },
    {
     "name": "stdout",
     "output_type": "stream",
     "text": [
      "0.138492885026225 None\n",
      "0.12252187727678454 None\n",
      "0.10914119603783091 None\n",
      "0.11247181852134833 None\n",
      "0.0880712239674425 None\n",
      "0.08114644433164951 None\n",
      "0.09135175445633785 None\n",
      "0.08950641160736951 None\n",
      "0.08944585455048487 None\n",
      "0.07382329207564003 None\n",
      "0.08937725341851638 None\n",
      "0.07376850936847185 None\n",
      "0.08937271917514684 None\n",
      "0.07383624036215983 None\n",
      "0.08936963337176301 None\n",
      "0.07387345493121128 None\n",
      "0.08940137455974176 None\n",
      "0.08960708660235481 None\n",
      "0.08944945698175463 None\n",
      "0.07386994524177733 None\n",
      "0.07379050120938244 None\n"
     ]
    },
    {
     "data": {
      "application/vnd.jupyter.widget-view+json": {
       "model_id": "502f044d8e4640189ee225514984e17a",
       "version_major": 2,
       "version_minor": 0
      },
      "text/plain": [
       "  0%|          | 0/2000 [00:00<?, ?it/s]"
      ]
     },
     "metadata": {},
     "output_type": "display_data"
    },
    {
     "name": "stdout",
     "output_type": "stream",
     "text": [
      "0.1646443291196328 None\n",
      "0.11969133036902413 None\n",
      "0.10422695730483028 None\n",
      "0.12424174856779538 None\n",
      "0.0838149124272224 None\n",
      "0.08925878697569381 None\n",
      "0.07969743615909336 None\n",
      "0.07047511952939638 None\n",
      "0.06180999619096844 None\n",
      "0.058613782532888466 None\n",
      "0.04319767181974581 None\n",
      "0.05861655863935436 None\n",
      "0.043208494188207776 None\n",
      "0.04319534690494221 None\n",
      "0.04319150870444895 None\n",
      "0.04318987259786091 None\n",
      "0.05868221196841843 None\n",
      "0.07319535963145854 None\n",
      "0.05868294187842733 None\n",
      "0.0586840602772286 None\n",
      "0.058625581665344685 None\n"
     ]
    },
    {
     "data": {
      "application/vnd.jupyter.widget-view+json": {
       "model_id": "69df7e6775ba4af4ad31808fea7d31d0",
       "version_major": 2,
       "version_minor": 0
      },
      "text/plain": [
       "  0%|          | 0/2000 [00:00<?, ?it/s]"
      ]
     },
     "metadata": {},
     "output_type": "display_data"
    },
    {
     "name": "stdout",
     "output_type": "stream",
     "text": [
      "0.15228958241289667 None\n",
      "0.12458418257030457 None\n",
      "0.11688417901788725 None\n",
      "0.1041012891722827 None\n",
      "0.07589763982942768 None\n",
      "0.06378048765138415 None\n",
      "0.05268094294104659 None\n",
      "0.058623182147887545 None\n",
      "0.05274868709995355 None\n",
      "0.05280072175341005 None\n",
      "0.05277650857400029 None\n",
      "0.052793678787327755 None\n",
      "0.052753116445551584 None\n",
      "0.03730103134503291 None\n",
      "0.037294362369995455 None\n",
      "0.0373385342446592 None\n",
      "0.0527685524710107 None\n",
      "0.05276221952289531 None\n",
      "0.037291319378008725 None\n",
      "0.037297013584116336 None\n",
      "0.037297491033150824 None\n"
     ]
    },
    {
     "data": {
      "application/vnd.jupyter.widget-view+json": {
       "model_id": "2912e985659f40d5ba7345b8b32ec53e",
       "version_major": 2,
       "version_minor": 0
      },
      "text/plain": [
       "  0%|          | 0/2000 [00:00<?, ?it/s]"
      ]
     },
     "metadata": {},
     "output_type": "display_data"
    },
    {
     "name": "stdout",
     "output_type": "stream",
     "text": [
      "0.15208563678363143 None\n",
      "0.1385599208534841 None\n",
      "0.09376467125639212 None\n",
      "0.07402394041722644 None\n",
      "0.06032393638246213 None\n",
      "0.0465223271297498 None\n",
      "0.0329927449010176 None\n",
      "0.03680115599993707 None\n",
      "0.036351721389808724 None\n",
      "0.020900164763740972 None\n",
      "0.02092107011965239 None\n",
      "0.03635501468279611 None\n",
      "0.03636542463461177 None\n",
      "0.03633300872096781 None\n",
      "0.03633947908747113 None\n",
      "0.020926115605003157 None\n",
      "0.03633943321713978 None\n",
      "0.03633243435854104 None\n",
      "0.020897557682831285 None\n",
      "0.036364161977335836 None\n",
      "0.0209178999169419 None\n"
     ]
    },
    {
     "data": {
      "application/vnd.jupyter.widget-view+json": {
       "model_id": "54d6f8788c3a4406bbbd8a1d1420615e",
       "version_major": 2,
       "version_minor": 0
      },
      "text/plain": [
       "  0%|          | 0/2000 [00:00<?, ?it/s]"
      ]
     },
     "metadata": {},
     "output_type": "display_data"
    },
    {
     "name": "stdout",
     "output_type": "stream",
     "text": [
      "0.14970556594861337 None\n",
      "0.12126425391393775 None\n",
      "0.0928737540790675 None\n",
      "0.06473113023547171 None\n",
      "0.04944330295007178 None\n",
      "0.03568827048745103 None\n",
      "0.02215744411689446 None\n",
      "0.013488818473806917 None\n",
      "0.013469299250334828 None\n",
      "0.01348100571253244 None\n",
      "0.013508748445651685 None\n",
      "0.01346994559378772 None\n",
      "0.013475819276465014 None\n",
      "0.013465708050896323 None\n",
      "0.013472800131301706 None\n",
      "0.013547809215056652 None\n",
      "0.013467623170358859 None\n",
      "0.013475811921732764 None\n",
      "0.013465223036746188 None\n",
      "0.013497525758335063 None\n",
      "0.013481789127907892 None\n"
     ]
    },
    {
     "data": {
      "application/vnd.jupyter.widget-view+json": {
       "model_id": "57b7bca7fe9746bd9a9d96a4f0546fef",
       "version_major": 2,
       "version_minor": 0
      },
      "text/plain": [
       "  0%|          | 0/2000 [00:00<?, ?it/s]"
      ]
     },
     "metadata": {},
     "output_type": "display_data"
    },
    {
     "name": "stdout",
     "output_type": "stream",
     "text": [
      "0.1517553698469037 None\n",
      "0.12346040012567056 None\n",
      "0.09533037721602956 None\n",
      "0.0678602271949043 None\n",
      "0.05366266904946592 None\n",
      "0.03948006235766324 None\n",
      "0.02525049536485295 None\n",
      "0.013716991392834737 None\n",
      "0.013560378901184184 None\n",
      "0.013582654456994346 None\n",
      "0.0135580233324527 None\n",
      "0.013557308677694634 None\n",
      "0.013563735763723597 None\n",
      "0.013557990685747041 None\n",
      "0.013582359854203285 None\n",
      "0.013596815918195723 None\n",
      "0.013569499945569474 None\n",
      "0.013574238953835624 None\n",
      "0.013590319838625294 None\n",
      "0.013562315798724718 None\n",
      "0.013556465267921902 None\n",
      "Done!\n"
     ]
    },
    {
     "data": {
      "application/vnd.jupyter.widget-view+json": {
       "model_id": "95b2cf0b71594e79bc29a5cb7c19ba94",
       "version_major": 2,
       "version_minor": 0
      },
      "text/plain": [
       "  0%|          | 0/2000 [00:00<?, ?it/s]"
      ]
     },
     "metadata": {},
     "output_type": "display_data"
    },
    {
     "name": "stdout",
     "output_type": "stream",
     "text": [
      "0.20274428994687116 None\n",
      "0.2017803859236675 None\n",
      "0.201687066265931 None\n",
      "0.201676974900116 None\n",
      "0.18621060129970204 None\n",
      "0.18620698510188455 None\n",
      "0.20169510190048756 None\n",
      "0.20167986236302032 None\n",
      "0.20167825018303137 None\n",
      "0.20168706942899745 None\n",
      "0.20167733770665724 None\n",
      "0.18620697774770859 None\n",
      "0.18620937782512265 None\n",
      "0.20167772037816264 None\n",
      "0.2016769551956384 None\n",
      "0.20168163044289 None\n",
      "0.20169904825952395 None\n",
      "0.20168278333285494 None\n",
      "0.20167770629611936 None\n",
      "0.20168230249021926 None\n",
      "0.186218703077197 None\n"
     ]
    },
    {
     "data": {
      "application/vnd.jupyter.widget-view+json": {
       "model_id": "8da0ea1da06c4cf5b72ad889178a40ba",
       "version_major": 2,
       "version_minor": 0
      },
      "text/plain": [
       "  0%|          | 0/2000 [00:00<?, ?it/s]"
      ]
     },
     "metadata": {},
     "output_type": "display_data"
    },
    {
     "name": "stdout",
     "output_type": "stream",
     "text": [
      "0.09071279982082908 None\n",
      "0.09383350400903187 None\n",
      "0.0862685548254239 None\n",
      "0.08073571320641777 None\n",
      "0.07829091567150424 None\n",
      "0.0782846704729691 None\n",
      "0.07829070440870299 None\n",
      "0.06283228558935003 None\n",
      "0.06283505110588225 None\n",
      "0.07828975821800252 None\n",
      "0.07829626968908604 None\n",
      "0.07831417083468549 None\n",
      "0.0628397352685347 None\n",
      "0.07828565621580698 None\n",
      "0.06283766979768436 None\n",
      "0.07827907931821593 None\n",
      "0.06284283452614953 None\n",
      "0.06284541390439369 None\n",
      "0.06283385413040249 None\n",
      "0.06283949409327899 None\n",
      "0.06284108744783062 None\n"
     ]
    },
    {
     "data": {
      "application/vnd.jupyter.widget-view+json": {
       "model_id": "7d6d189093554acf93257e23dabcdc34",
       "version_major": 2,
       "version_minor": 0
      },
      "text/plain": [
       "  0%|          | 0/2000 [00:00<?, ?it/s]"
      ]
     },
     "metadata": {},
     "output_type": "display_data"
    },
    {
     "name": "stdout",
     "output_type": "stream",
     "text": [
      "0.07683985138387961 None\n",
      "0.07697190296166628 None\n",
      "0.062925142766447 None\n",
      "0.03573442870197585 None\n",
      "0.05103221195135185 None\n",
      "0.05108730323917765 None\n",
      "0.03559453173024809 None\n",
      "0.03558216182021022 None\n",
      "0.05103549332141653 None\n",
      "0.03563534224916802 None\n",
      "0.0356014682187221 None\n",
      "0.03559183313241632 None\n",
      "0.03558693048345547 None\n",
      "0.05108051580955014 None\n",
      "0.05105519621083678 None\n",
      "0.03560917710616325 None\n",
      "0.0656181209913913 None\n",
      "0.051066134157799745 None\n",
      "0.03558781767429746 None\n",
      "0.051034292954840146 None\n",
      "0.03561133236534301 None\n"
     ]
    },
    {
     "data": {
      "application/vnd.jupyter.widget-view+json": {
       "model_id": "8de3f08e8cd54ca49bbe0eeb2e8be70a",
       "version_major": 2,
       "version_minor": 0
      },
      "text/plain": [
       "  0%|          | 0/2000 [00:00<?, ?it/s]"
      ]
     },
     "metadata": {},
     "output_type": "display_data"
    },
    {
     "name": "stdout",
     "output_type": "stream",
     "text": [
      "0.07826277144125503 None\n",
      "0.07507102656797515 None\n",
      "0.058336735117510446 None\n",
      "0.04277017412667233 None\n",
      "0.040481588012091375 None\n",
      "0.025044002744176192 None\n",
      "0.04055938155335574 None\n",
      "0.04056091899318461 None\n",
      "0.02504219983801087 None\n",
      "0.025047897184601556 None\n",
      "0.04054012988236505 None\n",
      "0.04048927964482557 None\n",
      "0.04049603750679108 None\n",
      "0.02505946513657831 None\n",
      "0.02508365410202248 None\n",
      "0.04051939623963274 None\n",
      "0.040534825702568666 None\n",
      "0.025139737279991154 None\n",
      "0.025082039879378654 None\n",
      "0.04050734168408897 None\n",
      "0.025066624142811522 None\n"
     ]
    },
    {
     "data": {
      "application/vnd.jupyter.widget-view+json": {
       "model_id": "a4ab87c2a5a940f6a9f8415ca8e29bff",
       "version_major": 2,
       "version_minor": 0
      },
      "text/plain": [
       "  0%|          | 0/2000 [00:00<?, ?it/s]"
      ]
     },
     "metadata": {},
     "output_type": "display_data"
    },
    {
     "name": "stdout",
     "output_type": "stream",
     "text": [
      "0.07047295443194092 None\n",
      "0.05080399218576448 None\n",
      "0.0323006676310932 None\n",
      "0.018723137230506854 None\n",
      "0.018720711861143102 None\n",
      "0.018737515536271256 None\n",
      "0.01872416731189449 None\n",
      "0.018694223080439974 None\n",
      "0.01871956896839023 None\n",
      "0.018700846145766736 None\n",
      "0.01869814868346393 None\n",
      "0.018707858409876633 None\n",
      "0.018714374182227905 None\n",
      "0.018698155409150978 None\n",
      "0.018702054978815264 None\n",
      "0.018705129266897703 None\n",
      "0.018743343118575072 None\n",
      "0.018694209601983123 None\n",
      "0.018700664034339145 None\n",
      "0.0187138019148456 None\n",
      "0.018690681773315267 None\n"
     ]
    },
    {
     "data": {
      "application/vnd.jupyter.widget-view+json": {
       "model_id": "5729e631c40e43fd801cccaaf7f161c7",
       "version_major": 2,
       "version_minor": 0
      },
      "text/plain": [
       "  0%|          | 0/2000 [00:00<?, ?it/s]"
      ]
     },
     "metadata": {},
     "output_type": "display_data"
    },
    {
     "name": "stdout",
     "output_type": "stream",
     "text": [
      "0.0634789465385206 None\n",
      "0.03785290177305904 None\n",
      "0.02028213777032124 None\n",
      "0.007037453490981069 None\n",
      "0.006974406541019709 None\n",
      "0.0070188266540657535 None\n",
      "0.006992896937298123 None\n",
      "0.0069628808794918486 None\n",
      "0.006974499517640631 None\n",
      "0.006955184011935017 None\n",
      "0.006979231801766967 None\n",
      "0.006957512510897436 None\n",
      "0.0069543962735377236 None\n",
      "0.0069848923002334695 None\n",
      "0.006978650538419143 None\n",
      "0.007006716726163847 None\n",
      "0.006994894476816453 None\n",
      "0.006979667077461484 None\n",
      "0.006990734432123939 None\n",
      "0.006988226598886644 None\n",
      "0.006955431496301014 None\n"
     ]
    },
    {
     "data": {
      "application/vnd.jupyter.widget-view+json": {
       "model_id": "4be65ef8f2924e4780354e3741023fc9",
       "version_major": 2,
       "version_minor": 0
      },
      "text/plain": [
       "  0%|          | 0/2000 [00:00<?, ?it/s]"
      ]
     },
     "metadata": {},
     "output_type": "display_data"
    },
    {
     "name": "stdout",
     "output_type": "stream",
     "text": [
      "0.07953226402758301 None\n",
      "0.05478794599014963 None\n",
      "0.03819466054587542 None\n",
      "0.020806687333058998 None\n",
      "0.016993760384340955 None\n",
      "0.016924774024961512 None\n",
      "0.01693275940594462 None\n",
      "0.016923959642391302 None\n",
      "0.016954296147776785 None\n",
      "0.01695432924255951 None\n",
      "0.01695902703135909 None\n",
      "0.016922664403354375 None\n",
      "0.016919798964558266 None\n",
      "0.016938038554357774 None\n",
      "0.0169275665646432 None\n",
      "0.01698402950961827 None\n",
      "0.01700342941409016 None\n",
      "0.01694789105296963 None\n",
      "0.016932098530201757 None\n",
      "0.01698418370793709 None\n",
      "0.016918842479293934 None\n",
      "Done!\n"
     ]
    }
   ],
   "source": [
    "n = 3\n",
    "d = 2**n\n",
    "\n",
    "np.random.seed(42)\n",
    "random.seed(42)\n",
    "tf.random.set_seed(42)\n",
    "rng = np.random.default_rng(seed=42)\n",
    "\n",
    "distance_best_list, model_best_list = fit_diluted_unitary(spectrum_target_list3, \n",
    "                                                          d=d, \n",
    "                                                          rank_start=1, \n",
    "                                                          rank_step=1,\n",
    "                                                          num_iter = 2000)\n",
    "\n",
    "saver([distance_best_list, model_best_list], data_path(\"diluted_fitting_24layer.model\"))"
   ]
  },
  {
   "cell_type": "code",
   "execution_count": 37,
   "metadata": {},
   "outputs": [
    {
     "data": {
      "application/vnd.jupyter.widget-view+json": {
       "model_id": "3e6f30dc17d64132b06f8d3847ebc8bc",
       "version_major": 2,
       "version_minor": 0
      },
      "text/plain": [
       "  0%|          | 0/10 [00:00<?, ?it/s]"
      ]
     },
     "metadata": {},
     "output_type": "display_data"
    },
    {
     "data": {
      "application/vnd.jupyter.widget-view+json": {
       "model_id": "93e87ff748c447ba8233e2ee4b3bcb9d",
       "version_major": 2,
       "version_minor": 0
      },
      "text/plain": [
       "  0%|          | 0/2000 [00:00<?, ?it/s]"
      ]
     },
     "metadata": {},
     "output_type": "display_data"
    },
    {
     "name": "stdout",
     "output_type": "stream",
     "text": [
      "0.37859516105568564 None\n",
      "0.3656568192213088 None\n",
      "0.3642599536639031 None\n",
      "0.3803200355822406 None\n",
      "0.36394276251895624 None\n",
      "0.3802322600533332 None\n",
      "0.380231426541675 None\n",
      "0.3639223686190841 None\n",
      "0.38023142653166153 None\n",
      "0.380231426533052 None\n",
      "0.3639223686192082 None\n",
      "0.3802314265321264 None\n",
      "0.38023142653290737 None\n",
      "0.38023142653187214 None\n",
      "0.38023142653205705 None\n",
      "0.3802314265334155 None\n",
      "0.36392236861892907 None\n",
      "0.38023142653322245 None\n",
      "0.3639223686198652 None\n",
      "0.3639223686197302 None\n",
      "0.38023142653249226 None\n"
     ]
    },
    {
     "data": {
      "application/vnd.jupyter.widget-view+json": {
       "model_id": "edb4b2a4f9564deda117a90a7f2d530a",
       "version_major": 2,
       "version_minor": 0
      },
      "text/plain": [
       "  0%|          | 0/2000 [00:00<?, ?it/s]"
      ]
     },
     "metadata": {},
     "output_type": "display_data"
    },
    {
     "name": "stdout",
     "output_type": "stream",
     "text": [
      "0.27765253174988863 None\n",
      "0.24871378225948737 None\n",
      "0.2396991336088613 None\n",
      "0.2519148478232174 None\n",
      "0.24929547274382186 None\n",
      "0.26344029643005806 None\n",
      "0.22475750424489332 None\n",
      "0.22408130307751709 None\n",
      "0.20690083156784664 None\n",
      "0.22306096601830078 None\n",
      "0.20675246723539212 None\n",
      "0.20675352426408017 None\n",
      "0.2067545085248777 None\n",
      "0.22305928709317968 None\n",
      "0.20676653558167335 None\n",
      "0.22306005493777228 None\n",
      "0.2230618419442302 None\n",
      "0.20675392611768303 None\n",
      "0.22305981695522847 None\n",
      "0.22306151295223364 None\n",
      "0.22305903589383577 None\n"
     ]
    },
    {
     "data": {
      "application/vnd.jupyter.widget-view+json": {
       "model_id": "62e2db3346c84f399ab0ee99db778648",
       "version_major": 2,
       "version_minor": 0
      },
      "text/plain": [
       "  0%|          | 0/2000 [00:00<?, ?it/s]"
      ]
     },
     "metadata": {},
     "output_type": "display_data"
    },
    {
     "name": "stdout",
     "output_type": "stream",
     "text": [
      "0.2900551436035446 None\n",
      "0.245878871071453 None\n",
      "0.232337708933652 None\n",
      "0.1859259004887703 None\n",
      "0.17472406748189018 None\n",
      "0.16945389938235844 None\n",
      "0.16490962628621167 None\n",
      "0.17548429109726554 None\n",
      "0.17064173525930573 None\n",
      "0.15221561081592483 None\n",
      "0.1583138489806432 None\n",
      "0.1543806514690132 None\n",
      "0.16758201566098205 None\n",
      "0.1515603268393493 None\n",
      "0.1509483275527762 None\n",
      "0.1655850035388387 None\n",
      "0.1502433187941848 None\n",
      "0.15003742175675802 None\n",
      "0.15000422325848853 None\n",
      "0.15000420997136094 None\n",
      "0.15000421000733902 None\n"
     ]
    },
    {
     "data": {
      "application/vnd.jupyter.widget-view+json": {
       "model_id": "b677f13a763f4ffc831b44b05b5770b9",
       "version_major": 2,
       "version_minor": 0
      },
      "text/plain": [
       "  0%|          | 0/2000 [00:00<?, ?it/s]"
      ]
     },
     "metadata": {},
     "output_type": "display_data"
    },
    {
     "name": "stdout",
     "output_type": "stream",
     "text": [
      "0.2651240787107617 None\n",
      "0.2513947632656369 None\n",
      "0.20602887239961232 None\n",
      "0.17554660021406585 None\n",
      "0.1806473394300432 None\n",
      "0.15886539595873048 None\n",
      "0.15296118142709336 None\n",
      "0.1476000839137255 None\n",
      "0.15913328880712835 None\n",
      "0.15686012530262047 None\n",
      "0.1404879785577985 None\n",
      "0.15576380462613246 None\n",
      "0.1557376454605563 None\n",
      "0.14027513039628697 None\n",
      "0.14024942346382444 None\n",
      "0.15503896333933814 None\n",
      "0.13530915076278105 None\n",
      "0.1458398375170605 None\n",
      "0.1443430636063564 None\n",
      "0.14434294876001844 None\n",
      "0.12888756891436925 None\n"
     ]
    },
    {
     "data": {
      "application/vnd.jupyter.widget-view+json": {
       "model_id": "2709a027e60b4f64a887586fbb777fe1",
       "version_major": 2,
       "version_minor": 0
      },
      "text/plain": [
       "  0%|          | 0/2000 [00:00<?, ?it/s]"
      ]
     },
     "metadata": {},
     "output_type": "display_data"
    },
    {
     "name": "stdout",
     "output_type": "stream",
     "text": [
      "0.2691429408221031 None\n",
      "0.24003951321568923 None\n",
      "0.21094988260552683 None\n",
      "0.19851618793885228 None\n",
      "0.15395209328289733 None\n",
      "0.14339644057789713 None\n",
      "0.1177453670873964 None\n",
      "0.10956271500804007 None\n",
      "0.11888039119412724 None\n",
      "0.11336095620582413 None\n",
      "0.11088976618361113 None\n",
      "0.10913136899902967 None\n",
      "0.10016441857362467 None\n",
      "0.09019007741266867 None\n",
      "0.08825238075420007 None\n",
      "0.08596910140742484 None\n",
      "0.0827272475984264 None\n",
      "0.08264418808537002 None\n",
      "0.08264758567423545 None\n",
      "0.08264390976438968 None\n",
      "0.08265168875891794 None\n"
     ]
    },
    {
     "data": {
      "application/vnd.jupyter.widget-view+json": {
       "model_id": "bdf3b546b7e34a8eb07a6217f6272f29",
       "version_major": 2,
       "version_minor": 0
      },
      "text/plain": [
       "  0%|          | 0/2000 [00:00<?, ?it/s]"
      ]
     },
     "metadata": {},
     "output_type": "display_data"
    },
    {
     "name": "stdout",
     "output_type": "stream",
     "text": [
      "0.27516687152006924 None\n",
      "0.24749540696970626 None\n",
      "0.22012907231532367 None\n",
      "0.20809368215365304 None\n",
      "0.16540670796103327 None\n",
      "0.1534086827108859 None\n",
      "0.13298867418179422 None\n",
      "0.1100253165966072 None\n",
      "0.10250429863983394 None\n",
      "0.09571026027483415 None\n",
      "0.10501041057593706 None\n",
      "0.08278342768285736 None\n",
      "0.09186826260291196 None\n",
      "0.0863349030362487 None\n",
      "0.08094932349221871 None\n",
      "0.07574926200566588 None\n",
      "0.0552161637996825 None\n",
      "0.08223206228705701 None\n",
      "0.058262225728422865 None\n",
      "0.05548059504849501 None\n",
      "0.05432457712607758 None\n"
     ]
    },
    {
     "data": {
      "application/vnd.jupyter.widget-view+json": {
       "model_id": "ec49613702f3449d8299ccaeb6e0f892",
       "version_major": 2,
       "version_minor": 0
      },
      "text/plain": [
       "  0%|          | 0/2000 [00:00<?, ?it/s]"
      ]
     },
     "metadata": {},
     "output_type": "display_data"
    },
    {
     "name": "stdout",
     "output_type": "stream",
     "text": [
      "0.275334985409891 None\n",
      "0.246135761019538 None\n",
      "0.21737278969982174 None\n",
      "0.20512224577898536 None\n",
      "0.1607904116816828 None\n",
      "0.1497350835954896 None\n",
      "0.10790940604089536 None\n",
      "0.10552136272247975 None\n",
      "0.08079162606020875 None\n",
      "0.07260385154592149 None\n",
      "0.06538344197926658 None\n",
      "0.06079264910777456 None\n",
      "0.058111546305901936 None\n",
      "0.05703898211563664 None\n",
      "0.07193057012544252 None\n",
      "0.05645264133467202 None\n",
      "0.07190006011640948 None\n",
      "0.056452641481608064 None\n",
      "0.07190006039765184 None\n",
      "0.056452641488870386 None\n",
      "0.05645264142680898 None\n",
      "Done!\n"
     ]
    },
    {
     "data": {
      "application/vnd.jupyter.widget-view+json": {
       "model_id": "0722f9af44e34b23969c4074ce5854de",
       "version_major": 2,
       "version_minor": 0
      },
      "text/plain": [
       "  0%|          | 0/2000 [00:00<?, ?it/s]"
      ]
     },
     "metadata": {},
     "output_type": "display_data"
    },
    {
     "name": "stdout",
     "output_type": "stream",
     "text": [
      "0.399349060692029 None\n",
      "0.391026395135702 None\n",
      "0.3883181447790857 None\n",
      "0.38805950633154646 None\n",
      "0.37259945959199414 None\n",
      "0.3725986132195501 None\n",
      "0.38804210375957926 None\n",
      "0.37259858526033746 None\n",
      "0.388042103347232 None\n",
      "0.3880421033464666 None\n",
      "0.37259858521092165 None\n",
      "0.37259858520060407 None\n",
      "0.37259858523196626 None\n",
      "0.37259858520554234 None\n",
      "0.388042103348176 None\n",
      "0.38804210334752415 None\n",
      "0.3880421033482597 None\n",
      "0.3725985852039959 None\n",
      "0.3725985852279049 None\n",
      "0.3880421033474049 None\n",
      "0.3725985852288774 None\n"
     ]
    },
    {
     "data": {
      "application/vnd.jupyter.widget-view+json": {
       "model_id": "4eefb9eb240e41579c4bae1a1fdb3b33",
       "version_major": 2,
       "version_minor": 0
      },
      "text/plain": [
       "  0%|          | 0/2000 [00:00<?, ?it/s]"
      ]
     },
     "metadata": {},
     "output_type": "display_data"
    },
    {
     "name": "stdout",
     "output_type": "stream",
     "text": [
      "0.30148028692093237 None\n",
      "0.2882250149512465 None\n",
      "0.27903368493766395 None\n",
      "0.27280037955690956 None\n",
      "0.2536445850848168 None\n",
      "0.26768384401020595 None\n",
      "0.25203233950456516 None\n",
      "0.252032334667122 None\n",
      "0.2520323346540031 None\n",
      "0.25203233471470454 None\n",
      "0.2674765620769729 None\n",
      "0.2520323346680775 None\n",
      "0.2674765622140402 None\n",
      "0.2674765621031917 None\n",
      "0.2520323347593472 None\n",
      "0.2674765620839145 None\n",
      "0.2674765621922411 None\n",
      "0.2520323346667035 None\n",
      "0.25203233455213014 None\n",
      "0.2520323346442603 None\n",
      "0.2674765621976804 None\n"
     ]
    },
    {
     "data": {
      "application/vnd.jupyter.widget-view+json": {
       "model_id": "62d17d90026b411fb6e344ae93a3f239",
       "version_major": 2,
       "version_minor": 0
      },
      "text/plain": [
       "  0%|          | 0/2000 [00:00<?, ?it/s]"
      ]
     },
     "metadata": {},
     "output_type": "display_data"
    },
    {
     "name": "stdout",
     "output_type": "stream",
     "text": [
      "0.2956215336269118 None\n",
      "0.2797780039387371 None\n",
      "0.23257927988799423 None\n",
      "0.2198589733579981 None\n",
      "0.21266974932576527 None\n",
      "0.20658896905701787 None\n",
      "0.20092559772885196 None\n",
      "0.19616170881729006 None\n",
      "0.20695447429777342 None\n",
      "0.20378989987544488 None\n",
      "0.1871256452849796 None\n",
      "0.18703801473619655 None\n",
      "0.2024602291840589 None\n",
      "0.18701752448237305 None\n",
      "0.1870152409617834 None\n",
      "0.18701414408313302 None\n",
      "0.1870135820580401 None\n",
      "0.20245088852871695 None\n",
      "0.18701311518619043 None\n",
      "0.18701302093824806 None\n",
      "0.18701296802329156 None\n"
     ]
    },
    {
     "data": {
      "application/vnd.jupyter.widget-view+json": {
       "model_id": "b89e338ee97b4c23b805e8afa0e85dd1",
       "version_major": 2,
       "version_minor": 0
      },
      "text/plain": [
       "  0%|          | 0/2000 [00:00<?, ?it/s]"
      ]
     },
     "metadata": {},
     "output_type": "display_data"
    },
    {
     "name": "stdout",
     "output_type": "stream",
     "text": [
      "0.31221165937157425 None\n",
      "0.28289262172151247 None\n",
      "0.2537288029177348 None\n",
      "0.22524201342258499 None\n",
      "0.197875320394916 None\n",
      "0.18951140122811175 None\n",
      "0.18159403786201828 None\n",
      "0.18940217768461298 None\n",
      "0.16759315981765638 None\n",
      "0.16309628729559864 None\n",
      "0.17481932265198502 None\n",
      "0.1569298543267902 None\n",
      "0.1559737743990844 None\n",
      "0.17137455341248525 None\n",
      "0.1559305275543461 None\n",
      "0.17137455297902193 None\n",
      "0.15593052752498635 None\n",
      "0.15593052740100594 None\n",
      "0.17137455295055665 None\n",
      "0.1713745530117184 None\n",
      "0.17137455294552312 None\n"
     ]
    },
    {
     "data": {
      "application/vnd.jupyter.widget-view+json": {
       "model_id": "92191266e56f499aafb114a269fe8c1a",
       "version_major": 2,
       "version_minor": 0
      },
      "text/plain": [
       "  0%|          | 0/2000 [00:00<?, ?it/s]"
      ]
     },
     "metadata": {},
     "output_type": "display_data"
    },
    {
     "name": "stdout",
     "output_type": "stream",
     "text": [
      "0.31161007498123666 None\n",
      "0.2831966140437048 None\n",
      "0.25502087358094616 None\n",
      "0.2274283907902171 None\n",
      "0.20014720062506847 None\n",
      "0.17360682166029592 None\n",
      "0.15278488924664463 None\n",
      "0.14619519186676896 None\n",
      "0.13989354906380208 None\n",
      "0.13432046756819768 None\n",
      "0.1309124183421889 None\n",
      "0.1436961141970638 None\n",
      "0.1412552266450654 None\n",
      "0.12387616662959865 None\n",
      "0.12318912950545308 None\n",
      "0.13862430226702974 None\n",
      "0.13862430227363984 None\n",
      "0.12318678947868464 None\n",
      "0.1386243022688854 None\n",
      "0.12318678947894897 None\n",
      "0.13862430227278347 None\n"
     ]
    },
    {
     "data": {
      "application/vnd.jupyter.widget-view+json": {
       "model_id": "5415341e963e4b3a8c2330de922c4132",
       "version_major": 2,
       "version_minor": 0
      },
      "text/plain": [
       "  0%|          | 0/2000 [00:00<?, ?it/s]"
      ]
     },
     "metadata": {},
     "output_type": "display_data"
    },
    {
     "name": "stdout",
     "output_type": "stream",
     "text": [
      "0.32253693667093447 None\n",
      "0.2938593813802638 None\n",
      "0.2648424880768977 None\n",
      "0.22016250281789032 None\n",
      "0.20591160565994798 None\n",
      "0.16020639445514634 None\n",
      "0.13462072117901253 None\n",
      "0.14309826735047568 None\n",
      "0.13691701534164122 None\n",
      "0.11609690918801414 None\n",
      "0.11165325870184156 None\n",
      "0.10865467869775337 None\n",
      "0.10816787891017612 None\n",
      "0.12360777155858635 None\n",
      "0.10816786205515924 None\n",
      "0.10816786187919387 None\n",
      "0.10816786203043083 None\n",
      "0.1236077715962436 None\n",
      "0.1081678620346472 None\n",
      "0.12360777163863257 None\n",
      "0.10816786215336917 None\n"
     ]
    },
    {
     "data": {
      "application/vnd.jupyter.widget-view+json": {
       "model_id": "df4860d80a8a4ebab9aeb89fb6d9ad36",
       "version_major": 2,
       "version_minor": 0
      },
      "text/plain": [
       "  0%|          | 0/2000 [00:00<?, ?it/s]"
      ]
     },
     "metadata": {},
     "output_type": "display_data"
    },
    {
     "name": "stdout",
     "output_type": "stream",
     "text": [
      "0.31774378218486055 None\n",
      "0.3049948784790147 None\n",
      "0.29159823482606934 None\n",
      "0.23377709556632217 None\n",
      "0.21983237354503557 None\n",
      "0.19190710143459383 None\n",
      "0.1648274718531071 None\n",
      "0.1335104961167135 None\n",
      "0.12688058502314037 None\n",
      "0.12134582853239437 None\n",
      "0.13204649466409762 None\n",
      "0.1100923250926139 None\n",
      "0.1032874776814579 None\n",
      "0.09776226571232884 None\n",
      "0.09365217506379092 None\n",
      "0.09088643921728318 None\n",
      "0.08930795868401571 None\n",
      "0.08869652200801341 None\n",
      "0.08859642942356125 None\n",
      "0.08859147638364137 None\n",
      "0.08859137832988993 None\n"
     ]
    },
    {
     "data": {
      "application/vnd.jupyter.widget-view+json": {
       "model_id": "98247e7685b54154b3c5a4389cd0e46b",
       "version_major": 2,
       "version_minor": 0
      },
      "text/plain": [
       "  0%|          | 0/2000 [00:00<?, ?it/s]"
      ]
     },
     "metadata": {},
     "output_type": "display_data"
    },
    {
     "name": "stdout",
     "output_type": "stream",
     "text": [
      "0.3137378509020444 None\n",
      "0.2857372327895837 None\n",
      "0.2578601660744644 None\n",
      "0.23045467270364625 None\n",
      "0.2038225322919985 None\n",
      "0.17822419582940147 None\n",
      "0.1532320215093249 None\n",
      "0.12949845261030485 None\n",
      "0.10659417970940606 None\n",
      "0.09789138802724488 None\n",
      "0.09266446300706821 None\n",
      "0.08764644636231084 None\n",
      "0.08317153392174381 None\n",
      "0.09434691718901973 None\n",
      "0.08938589141906587 None\n",
      "0.08377629429682941 None\n",
      "0.07727717247858837 None\n",
      "0.05701912741053785 None\n",
      "0.053795299581293095 None\n",
      "0.06737497177779166 None\n",
      "0.05073448106434408 None\n"
     ]
    },
    {
     "data": {
      "application/vnd.jupyter.widget-view+json": {
       "model_id": "9f568ec82a4d4b32920fb5ea764c0392",
       "version_major": 2,
       "version_minor": 0
      },
      "text/plain": [
       "  0%|          | 0/2000 [00:00<?, ?it/s]"
      ]
     },
     "metadata": {},
     "output_type": "display_data"
    },
    {
     "name": "stdout",
     "output_type": "stream",
     "text": [
      "0.31362796482077826 None\n",
      "0.28556750487317917 None\n",
      "0.25765869208333314 None\n",
      "0.2300119763103544 None\n",
      "0.20277172276618002 None\n",
      "0.17603377565411238 None\n",
      "0.14951390711374707 None\n",
      "0.12271173456872098 None\n",
      "0.10990065872667673 None\n",
      "0.07541820791566763 None\n",
      "0.08673341897720868 None\n",
      "0.08157326620042885 None\n",
      "0.060137340332327704 None\n",
      "0.07129943678778405 None\n",
      "0.08164041582577525 None\n",
      "0.05921226092956441 None\n",
      "0.05516412067982248 None\n",
      "0.06984893200602918 None\n",
      "0.05037916031861681 None\n",
      "0.04687098378479032 None\n",
      "0.042613489840008636 None\n"
     ]
    },
    {
     "data": {
      "application/vnd.jupyter.widget-view+json": {
       "model_id": "df532276d4c6450b8944afdc6d97165d",
       "version_major": 2,
       "version_minor": 0
      },
      "text/plain": [
       "  0%|          | 0/2000 [00:00<?, ?it/s]"
      ]
     },
     "metadata": {},
     "output_type": "display_data"
    },
    {
     "name": "stdout",
     "output_type": "stream",
     "text": [
      "0.3120176276128788 None\n",
      "0.28410443118091633 None\n",
      "0.2564105961963916 None\n",
      "0.22909644058239276 None\n",
      "0.2023660068496047 None\n",
      "0.17638485075689161 None\n",
      "0.151155136064561 None\n",
      "0.12690633811739907 None\n",
      "0.10356213963688515 None\n",
      "0.08082872675625591 None\n",
      "0.07299184709109466 None\n",
      "0.06601315080376886 None\n",
      "0.059390925343333 None\n",
      "0.05304279808625297 None\n",
      "0.047117060619367934 None\n",
      "0.043034182269023925 None\n",
      "0.038483183923369746 None\n",
      "0.05161973781734111 None\n",
      "0.03610172133671195 None\n",
      "0.05154023607083716 None\n",
      "0.05154023620373249 None\n",
      "Done!\n"
     ]
    },
    {
     "data": {
      "application/vnd.jupyter.widget-view+json": {
       "model_id": "b87cd39ab02a44d297798f371a16b5c0",
       "version_major": 2,
       "version_minor": 0
      },
      "text/plain": [
       "  0%|          | 0/2000 [00:00<?, ?it/s]"
      ]
     },
     "metadata": {},
     "output_type": "display_data"
    },
    {
     "name": "stdout",
     "output_type": "stream",
     "text": [
      "0.38815665524222803 None\n",
      "0.37466744823461245 None\n",
      "0.35780395531744047 None\n",
      "0.37306138686702617 None\n",
      "0.35758254780437354 None\n",
      "0.3575815901096282 None\n",
      "0.3575815833770246 None\n",
      "0.37302156726954344 None\n",
      "0.3575815833200523 None\n",
      "0.3730215672590168 None\n",
      "0.3730215672622714 None\n",
      "0.3730215672496955 None\n",
      "0.37302156724392244 None\n",
      "0.37302156726189545 None\n",
      "0.35758158332515355 None\n",
      "0.3730215672494617 None\n",
      "0.3730215672522535 None\n",
      "0.3730215672711167 None\n",
      "0.37302156731263864 None\n",
      "0.3575815832996055 None\n",
      "0.3575815833546072 None\n"
     ]
    },
    {
     "data": {
      "application/vnd.jupyter.widget-view+json": {
       "model_id": "09c34de84a494dd58038cdaaccc499c7",
       "version_major": 2,
       "version_minor": 0
      },
      "text/plain": [
       "  0%|          | 0/2000 [00:00<?, ?it/s]"
      ]
     },
     "metadata": {},
     "output_type": "display_data"
    },
    {
     "name": "stdout",
     "output_type": "stream",
     "text": [
      "0.2930204997176124 None\n",
      "0.2822035588917798 None\n",
      "0.2741217187727293 None\n",
      "0.2681575833202673 None\n",
      "0.26440860711069 None\n",
      "0.2604232467200982 None\n",
      "0.2603314268842429 None\n",
      "0.26034001041479604 None\n",
      "0.2603472852246158 None\n",
      "0.26043517259304644 None\n",
      "0.2603396243333825 None\n",
      "0.2603491133732695 None\n",
      "0.260356660029729 None\n",
      "0.26033483426613885 None\n",
      "0.2603876264482233 None\n",
      "0.2603424449963132 None\n",
      "0.26033411226997244 None\n",
      "0.2603364665320386 None\n",
      "0.26035011299590555 None\n",
      "0.26032882365529103 None\n",
      "0.26033848812700555 None\n"
     ]
    },
    {
     "data": {
      "application/vnd.jupyter.widget-view+json": {
       "model_id": "6c2b15f532944dfc89b6cf713f62bf21",
       "version_major": 2,
       "version_minor": 0
      },
      "text/plain": [
       "  0%|          | 0/2000 [00:00<?, ?it/s]"
      ]
     },
     "metadata": {},
     "output_type": "display_data"
    },
    {
     "name": "stdout",
     "output_type": "stream",
     "text": [
      "0.3060022806761907 None\n",
      "0.2760796210918988 None\n",
      "0.24605116133034025 None\n",
      "0.22994897281862023 None\n",
      "0.2212901007734394 None\n",
      "0.21358528303692134 None\n",
      "0.22403714268903535 None\n",
      "0.20205398567845884 None\n",
      "0.21244902354666803 None\n",
      "0.206364484488679 None\n",
      "0.22352530526253894 None\n",
      "0.20633489085975554 None\n",
      "0.22352530299026116 None\n",
      "0.19002408216205252 None\n",
      "0.19002408216923228 None\n",
      "0.19002408217082106 None\n",
      "0.20633489086029005 None\n",
      "0.20633489086346948 None\n",
      "0.22352530296908993 None\n",
      "0.19002408216902156 None\n",
      "0.1900240821721249 None\n"
     ]
    },
    {
     "data": {
      "application/vnd.jupyter.widget-view+json": {
       "model_id": "c7e36597620d4494957f7dfa446820ff",
       "version_major": 2,
       "version_minor": 0
      },
      "text/plain": [
       "  0%|          | 0/2000 [00:00<?, ?it/s]"
      ]
     },
     "metadata": {},
     "output_type": "display_data"
    },
    {
     "name": "stdout",
     "output_type": "stream",
     "text": [
      "0.3132448784926819 None\n",
      "0.28417222395905717 None\n",
      "0.25448820962587193 None\n",
      "0.24027155821341767 None\n",
      "0.21170563881687293 None\n",
      "0.18565437241850286 None\n",
      "0.19579473957451476 None\n",
      "0.1734284701129899 None\n",
      "0.1681426643308102 None\n",
      "0.16258657726125297 None\n",
      "0.1737290207272026 None\n",
      "0.15416022961209755 None\n",
      "0.16767104223205792 None\n",
      "0.14850339863836529 None\n",
      "0.16211655298563943 None\n",
      "0.14363835695042013 None\n",
      "0.1583511813342691 None\n",
      "0.14068884321465097 None\n",
      "0.13964447829948787 None\n",
      "0.13885421537712342 None\n",
      "0.15461944236501182 None\n"
     ]
    },
    {
     "data": {
      "application/vnd.jupyter.widget-view+json": {
       "model_id": "d3918ab1d67c4f6589d7e2f22dfbcf07",
       "version_major": 2,
       "version_minor": 0
      },
      "text/plain": [
       "  0%|          | 0/2000 [00:00<?, ?it/s]"
      ]
     },
     "metadata": {},
     "output_type": "display_data"
    },
    {
     "name": "stdout",
     "output_type": "stream",
     "text": [
      "0.31774120923448584 None\n",
      "0.28883642746458976 None\n",
      "0.25896002041414007 None\n",
      "0.24614406391335397 None\n",
      "0.21736957869570683 None\n",
      "0.18904838514723368 None\n",
      "0.16058002231240665 None\n",
      "0.1538288930308418 None\n",
      "0.16523498846436047 None\n",
      "0.16044772063359525 None\n",
      "0.17267360629757655 None\n",
      "0.1676433066616988 None\n",
      "0.14539928145152836 None\n",
      "0.15781270275235149 None\n",
      "0.13670331277103412 None\n",
      "0.1335160211849755 None\n",
      "0.1144313862071952 None\n",
      "0.12827811270046235 None\n",
      "0.12617162031975587 None\n",
      "0.10808316492225885 None\n",
      "0.1228273030711155 None\n"
     ]
    },
    {
     "data": {
      "application/vnd.jupyter.widget-view+json": {
       "model_id": "a41f8d0f211449db856a29b28fe9ce7a",
       "version_major": 2,
       "version_minor": 0
      },
      "text/plain": [
       "  0%|          | 0/2000 [00:00<?, ?it/s]"
      ]
     },
     "metadata": {},
     "output_type": "display_data"
    },
    {
     "name": "stdout",
     "output_type": "stream",
     "text": [
      "0.3090960839729646 None\n",
      "0.2958649451835875 None\n",
      "0.25154919413417115 None\n",
      "0.23794514623563795 None\n",
      "0.19341845073972744 None\n",
      "0.18045826056401987 None\n",
      "0.1649294303829405 None\n",
      "0.14333764757877 None\n",
      "0.15060230402389943 None\n",
      "0.12786713827869284 None\n",
      "0.12094752889865049 None\n",
      "0.11448984537720967 None\n",
      "0.138211161085153 None\n",
      "0.1342090200911779 None\n",
      "0.13420438902878956 None\n",
      "0.11917777159085863 None\n",
      "0.11917777160060479 None\n",
      "0.13420438968875878 None\n",
      "0.13420438927465947 None\n",
      "0.11917777183507966 None\n",
      "0.11917777198140046 None\n"
     ]
    },
    {
     "data": {
      "application/vnd.jupyter.widget-view+json": {
       "model_id": "d9fac41ed03345eea4e504f3d51fe868",
       "version_major": 2,
       "version_minor": 0
      },
      "text/plain": [
       "  0%|          | 0/2000 [00:00<?, ?it/s]"
      ]
     },
     "metadata": {},
     "output_type": "display_data"
    },
    {
     "name": "stdout",
     "output_type": "stream",
     "text": [
      "0.310821460241026 None\n",
      "0.2829239287529312 None\n",
      "0.2554405273511448 None\n",
      "0.2287703458607064 None\n",
      "0.217607358359252 None\n",
      "0.17499329791945784 None\n",
      "0.16398727728550638 None\n",
      "0.12330242877231035 None\n",
      "0.11152796675705094 None\n",
      "0.10397373945344413 None\n",
      "0.09713042540555034 None\n",
      "0.09291847722087121 None\n",
      "0.08878037105396229 None\n",
      "0.10331511947817466 None\n",
      "0.10317543376432772 None\n",
      "0.08686213542600639 None\n",
      "0.08686213542626559 None\n",
      "0.10317533687258915 None\n",
      "0.10317533699682496 None\n",
      "0.08686213553369324 None\n",
      "0.10317533698786288 None\n"
     ]
    },
    {
     "data": {
      "application/vnd.jupyter.widget-view+json": {
       "model_id": "d389dfdaea1043d289abdcdb23da9000",
       "version_major": 2,
       "version_minor": 0
      },
      "text/plain": [
       "  0%|          | 0/2000 [00:00<?, ?it/s]"
      ]
     },
     "metadata": {},
     "output_type": "display_data"
    },
    {
     "name": "stdout",
     "output_type": "stream",
     "text": [
      "0.32435010476421205 None\n",
      "0.29609675182752226 None\n",
      "0.26796429782036446 None\n",
      "0.2401243560898554 None\n",
      "0.21274696778104288 None\n",
      "0.1859919194075315 None\n",
      "0.15988739314542905 None\n",
      "0.1339810479297912 None\n",
      "0.12213622495540681 None\n",
      "0.11397560965372809 None\n",
      "0.10607000888898915 None\n",
      "0.096765137947661 None\n",
      "0.08896411490568013 None\n",
      "0.09643895257107697 None\n",
      "0.09075948775052703 None\n",
      "0.08944815668653433 None\n",
      "0.07331560642088442 None\n",
      "0.08924973877923503 None\n",
      "0.07368462931274038 None\n",
      "0.07359484312841702 None\n",
      "0.07369253836756248 None\n"
     ]
    },
    {
     "data": {
      "application/vnd.jupyter.widget-view+json": {
       "model_id": "0ab9b041cfab4066a9a1f45d45742dbf",
       "version_major": 2,
       "version_minor": 0
      },
      "text/plain": [
       "  0%|          | 0/2000 [00:00<?, ?it/s]"
      ]
     },
     "metadata": {},
     "output_type": "display_data"
    },
    {
     "name": "stdout",
     "output_type": "stream",
     "text": [
      "0.3107421116637182 None\n",
      "0.2825166804749854 None\n",
      "0.2543859683011822 None\n",
      "0.22647051902107462 None\n",
      "0.19883711832785667 None\n",
      "0.1717694844339217 None\n",
      "0.14544221009641112 None\n",
      "0.1198411165605769 None\n",
      "0.0947918731827565 None\n",
      "0.07545411010078264 None\n",
      "0.06580198263823119 None\n",
      "0.05784432239068842 None\n",
      "0.06825055578435645 None\n",
      "0.064046732203556 None\n",
      "0.06101932283964703 None\n",
      "0.042430785518432886 None\n",
      "0.0737788084248347 None\n",
      "0.05442209627464102 None\n",
      "0.05202953421861295 None\n",
      "0.0490902919238356 None\n",
      "0.06429161753903168 None\n"
     ]
    },
    {
     "data": {
      "application/vnd.jupyter.widget-view+json": {
       "model_id": "c5b6afb0671a48c1a0f8026965fc01eb",
       "version_major": 2,
       "version_minor": 0
      },
      "text/plain": [
       "  0%|          | 0/2000 [00:00<?, ?it/s]"
      ]
     },
     "metadata": {},
     "output_type": "display_data"
    },
    {
     "name": "stdout",
     "output_type": "stream",
     "text": [
      "0.31399019328613503 None\n",
      "0.28561468777459903 None\n",
      "0.2730941105130634 None\n",
      "0.2450369667808821 None\n",
      "0.20106735847173923 None\n",
      "0.17400818898982068 None\n",
      "0.1476175395079628 None\n",
      "0.13824080659217522 None\n",
      "0.09777354768218292 None\n",
      "0.09743033607248933 None\n",
      "0.07498224909880388 None\n",
      "0.08287841204700455 None\n",
      "0.07573220955445718 None\n",
      "0.0537439163608107 None\n",
      "0.047810091111006876 None\n",
      "0.04202896790347736 None\n",
      "0.03991568628128081 None\n",
      "0.05535608928140315 None\n",
      "0.039915108669335654 None\n",
      "0.039915108744941565 None\n",
      "0.03991510868952649 None\n"
     ]
    },
    {
     "data": {
      "application/vnd.jupyter.widget-view+json": {
       "model_id": "9e44f28c6fad4fec8602374741917af4",
       "version_major": 2,
       "version_minor": 0
      },
      "text/plain": [
       "  0%|          | 0/2000 [00:00<?, ?it/s]"
      ]
     },
     "metadata": {},
     "output_type": "display_data"
    },
    {
     "name": "stdout",
     "output_type": "stream",
     "text": [
      "0.3282315277491627 None\n",
      "0.2998981628870208 None\n",
      "0.27173624944454616 None\n",
      "0.2439499138176227 None\n",
      "0.21670662497987064 None\n",
      "0.1738258507172195 None\n",
      "0.14805370590493258 None\n",
      "0.13953904653035393 None\n",
      "0.09924369372553958 None\n",
      "0.07579240082084034 None\n",
      "0.05571625883362904 None\n",
      "0.048745501465521084 None\n",
      "0.058685625715687195 None\n",
      "0.03665354641821276 None\n",
      "0.0461191345346359 None\n",
      "0.046200521487727256 None\n",
      "0.04610564801375488 None\n",
      "0.030661722622924485 None\n",
      "0.030652350682406068 None\n",
      "0.030625488095195687 None\n",
      "0.030632301730178595 None\n"
     ]
    },
    {
     "data": {
      "application/vnd.jupyter.widget-view+json": {
       "model_id": "0be79d4d079944dc9042173077b41463",
       "version_major": 2,
       "version_minor": 0
      },
      "text/plain": [
       "  0%|          | 0/2000 [00:00<?, ?it/s]"
      ]
     },
     "metadata": {},
     "output_type": "display_data"
    },
    {
     "name": "stdout",
     "output_type": "stream",
     "text": [
      "0.31409100192630934 None\n",
      "0.28617501345989255 None\n",
      "0.2585409769294225 None\n",
      "0.23133296219877647 None\n",
      "0.2048838164043574 None\n",
      "0.17921279476918944 None\n",
      "0.16900712469558998 None\n",
      "0.12914016122588756 None\n",
      "0.12156317801727151 None\n",
      "0.10035930646596494 None\n",
      "0.0628082331366015 None\n",
      "0.054868697071714455 None\n",
      "0.04759084054495569 None\n",
      "0.04111052375554976 None\n",
      "0.035556153080467515 None\n",
      "0.030990168098297268 None\n",
      "0.03675534882367351 None\n",
      "0.03295779944850729 None\n",
      "0.04787388718657065 None\n",
      "0.03285029647527314 None\n",
      "0.03286914212003396 None\n",
      "Done!\n"
     ]
    },
    {
     "data": {
      "application/vnd.jupyter.widget-view+json": {
       "model_id": "45126d1a307a4d399a9c9d804c88ba47",
       "version_major": 2,
       "version_minor": 0
      },
      "text/plain": [
       "  0%|          | 0/2000 [00:00<?, ?it/s]"
      ]
     },
     "metadata": {},
     "output_type": "display_data"
    },
    {
     "name": "stdout",
     "output_type": "stream",
     "text": [
      "0.3805047924180843 None\n",
      "0.377339879527439 None\n",
      "0.37723962964433067 None\n",
      "0.39268572678836944 None\n",
      "0.39268572677383434 None\n",
      "0.39268572679190633 None\n",
      "0.37723962911128184 None\n",
      "0.3772396291415878 None\n",
      "0.3772396291343049 None\n",
      "0.3772396293251116 None\n",
      "0.37723962915850784 None\n",
      "0.40727426268231104 None\n",
      "0.37723962916494874 None\n",
      "0.3926857267743624 None\n",
      "0.39268572701695914 None\n",
      "0.37723962911298653 None\n",
      "0.3926857267767212 None\n",
      "0.3772396292952067 None\n",
      "0.3926857268200833 None\n",
      "0.3772396292427101 None\n",
      "0.3926857268460808 None\n"
     ]
    },
    {
     "data": {
      "application/vnd.jupyter.widget-view+json": {
       "model_id": "9b0cb82fafb04990aee6e94b1e17cf84",
       "version_major": 2,
       "version_minor": 0
      },
      "text/plain": [
       "  0%|          | 0/2000 [00:00<?, ?it/s]"
      ]
     },
     "metadata": {},
     "output_type": "display_data"
    },
    {
     "name": "stdout",
     "output_type": "stream",
     "text": [
      "0.28748404369050573 None\n",
      "0.27768383326106755 None\n",
      "0.27042434492543266 None\n",
      "0.2641742545950123 None\n",
      "0.25685844167585126 None\n",
      "0.25177895404005224 None\n",
      "0.24807461129387934 None\n",
      "0.26165321064554664 None\n",
      "0.24391999864541977 None\n",
      "0.2600197932267823 None\n",
      "0.24375489907359812 None\n",
      "0.2441735546701613 None\n",
      "0.26004642231755515 None\n",
      "0.24375890970165956 None\n",
      "0.24375689782169283 None\n",
      "0.24374787857526167 None\n",
      "0.24376514916559608 None\n",
      "0.24387449277944848 None\n",
      "0.25999985294115036 None\n",
      "0.24383484836929883 None\n",
      "0.2437568723082759 None\n"
     ]
    },
    {
     "data": {
      "application/vnd.jupyter.widget-view+json": {
       "model_id": "b9996998d964458dac63cc447da8a92a",
       "version_major": 2,
       "version_minor": 0
      },
      "text/plain": [
       "  0%|          | 0/2000 [00:00<?, ?it/s]"
      ]
     },
     "metadata": {},
     "output_type": "display_data"
    },
    {
     "name": "stdout",
     "output_type": "stream",
     "text": [
      "0.2835170533089038 None\n",
      "0.2686688107050846 None\n",
      "0.2364089298345934 None\n",
      "0.22522499607405605 None\n",
      "0.2029073179072715 None\n",
      "0.21431617745217596 None\n",
      "0.19352859929154598 None\n",
      "0.223300753689824 None\n",
      "0.20568187142395566 None\n",
      "0.1902342148958196 None\n",
      "0.19023406845394314 None\n",
      "0.20567092222173525 None\n",
      "0.1902340341660373 None\n",
      "0.20567071393919517 None\n",
      "0.20567088584494525 None\n",
      "0.2224766510074132 None\n",
      "0.20567070805135843 None\n",
      "0.20567094785659698 None\n",
      "0.19023391606277368 None\n",
      "0.1902343788962952 None\n",
      "0.1902341894752076 None\n"
     ]
    },
    {
     "data": {
      "application/vnd.jupyter.widget-view+json": {
       "model_id": "0f23fbf526c44790b60e255f1ef717ca",
       "version_major": 2,
       "version_minor": 0
      },
      "text/plain": [
       "  0%|          | 0/2000 [00:00<?, ?it/s]"
      ]
     },
     "metadata": {},
     "output_type": "display_data"
    },
    {
     "name": "stdout",
     "output_type": "stream",
     "text": [
      "0.29568698020930356 None\n",
      "0.2662294861640244 None\n",
      "0.2511961875181793 None\n",
      "0.20476520708595447 None\n",
      "0.17810661331160155 None\n",
      "0.1877371691540934 None\n",
      "0.18284458736663142 None\n",
      "0.16335302330371526 None\n",
      "0.16027887521225354 None\n",
      "0.1574002647793421 None\n",
      "0.17027679417830938 None\n",
      "0.1682943436511143 None\n",
      "0.15204152134682003 None\n",
      "0.1674639594655268 None\n",
      "0.15202482353895141 None\n",
      "0.15202482354208618 None\n",
      "0.16746395907879605 None\n",
      "0.15202482354169922 None\n",
      "0.15202482354489505 None\n",
      "0.16746395907684303 None\n",
      "0.15202482354065977 None\n"
     ]
    },
    {
     "data": {
      "application/vnd.jupyter.widget-view+json": {
       "model_id": "d2c9bcac03b24e618f3fe547c5a8c7c5",
       "version_major": 2,
       "version_minor": 0
      },
      "text/plain": [
       "  0%|          | 0/2000 [00:00<?, ?it/s]"
      ]
     },
     "metadata": {},
     "output_type": "display_data"
    },
    {
     "name": "stdout",
     "output_type": "stream",
     "text": [
      "0.30192070674721955 None\n",
      "0.2729038191848244 None\n",
      "0.24356147721018412 None\n",
      "0.23112378365693714 None\n",
      "0.1862176524377504 None\n",
      "0.17414035065433672 None\n",
      "0.15964884986887856 None\n",
      "0.13727749609614212 None\n",
      "0.13193672412204402 None\n",
      "0.12706233120059393 None\n",
      "0.13874939282274126 None\n",
      "0.13438393106996105 None\n",
      "0.12494110892998013 None\n",
      "0.11823441909082254 None\n",
      "0.13162591420282205 None\n",
      "0.11157530288202797 None\n",
      "0.10876391917613348 None\n",
      "0.10582286037986459 None\n",
      "0.10257422234106334 None\n",
      "0.09960406893108213 None\n",
      "0.09700708660909957 None\n"
     ]
    },
    {
     "data": {
      "application/vnd.jupyter.widget-view+json": {
       "model_id": "7b7d941c49954ea8bf5e45a683f9af97",
       "version_major": 2,
       "version_minor": 0
      },
      "text/plain": [
       "  0%|          | 0/2000 [00:00<?, ?it/s]"
      ]
     },
     "metadata": {},
     "output_type": "display_data"
    },
    {
     "name": "stdout",
     "output_type": "stream",
     "text": [
      "0.30095748023215524 None\n",
      "0.2722974365530795 None\n",
      "0.24413463763260285 None\n",
      "0.23179929951806472 None\n",
      "0.187634149460015 None\n",
      "0.17444174202996843 None\n",
      "0.13179799580968068 None\n",
      "0.12469233705990876 None\n",
      "0.13452028986322967 None\n",
      "0.12933521711918494 None\n",
      "0.12445387377986208 None\n",
      "0.10465338014596334 None\n",
      "0.11651899484166921 None\n",
      "0.11401843908573159 None\n",
      "0.11239779064670266 None\n",
      "0.09647980765756678 None\n",
      "0.11192328508127236 None\n",
      "0.09647955548381347 None\n",
      "0.11192328530534422 None\n",
      "0.1119232851744563 None\n",
      "0.1119232852642793 None\n",
      "Done!\n"
     ]
    },
    {
     "data": {
      "application/vnd.jupyter.widget-view+json": {
       "model_id": "eb654338698d488d91bde37cc5937eac",
       "version_major": 2,
       "version_minor": 0
      },
      "text/plain": [
       "  0%|          | 0/2000 [00:00<?, ?it/s]"
      ]
     },
     "metadata": {},
     "output_type": "display_data"
    },
    {
     "name": "stdout",
     "output_type": "stream",
     "text": [
      "0.38151522645161756 None\n",
      "0.3685993495648569 None\n",
      "0.3471728088352498 None\n",
      "0.346554446420821 None\n",
      "0.36192568008311177 None\n",
      "0.36191459447690577 None\n",
      "0.36191289561673323 None\n",
      "0.3464693140998848 None\n",
      "0.3619126462096396 None\n",
      "0.36191264432068304 None\n",
      "0.34646928642589536 None\n",
      "0.34646928640860586 None\n",
      "0.36191264424832653 None\n",
      "0.3619126442480945 None\n",
      "0.36191264424854025 None\n",
      "0.34646928640490704 None\n",
      "0.34646928640540997 None\n",
      "0.36191264424927305 None\n",
      "0.36191264424681124 None\n",
      "0.3464692864074232 None\n",
      "0.3619126442468222 None\n"
     ]
    },
    {
     "data": {
      "application/vnd.jupyter.widget-view+json": {
       "model_id": "7eb5ae17874347409199fd3df78ace28",
       "version_major": 2,
       "version_minor": 0
      },
      "text/plain": [
       "  0%|          | 0/2000 [00:00<?, ?it/s]"
      ]
     },
     "metadata": {},
     "output_type": "display_data"
    },
    {
     "name": "stdout",
     "output_type": "stream",
     "text": [
      "0.2906998378446663 None\n",
      "0.2775965034032483 None\n",
      "0.25267978070933994 None\n",
      "0.2626808375240538 None\n",
      "0.24163416352938044 None\n",
      "0.25467991406143664 None\n",
      "0.25204033766526746 None\n",
      "0.23391452545790212 None\n",
      "0.23391537989065714 None\n",
      "0.23391413798591457 None\n",
      "0.23392010826287948 None\n",
      "0.25065858043346534 None\n",
      "0.2339282811556241 None\n",
      "0.2339375341233975 None\n",
      "0.2506675515883408 None\n",
      "0.23392974624359175 None\n",
      "0.2506722494346144 None\n",
      "0.23392179584486752 None\n",
      "0.2506944960201143 None\n",
      "0.2506492274841271 None\n",
      "0.2339148772226921 None\n"
     ]
    },
    {
     "data": {
      "application/vnd.jupyter.widget-view+json": {
       "model_id": "1501b8fc1ae6497ba301aa578373d31b",
       "version_major": 2,
       "version_minor": 0
      },
      "text/plain": [
       "  0%|          | 0/2000 [00:00<?, ?it/s]"
      ]
     },
     "metadata": {},
     "output_type": "display_data"
    },
    {
     "name": "stdout",
     "output_type": "stream",
     "text": [
      "0.2951138909792793 None\n",
      "0.2649092257699885 None\n",
      "0.21878255984543363 None\n",
      "0.2234567158794575 None\n",
      "0.20002259980398612 None\n",
      "0.19297639340924105 None\n",
      "0.20283775369905654 None\n",
      "0.19832843564451708 None\n",
      "0.1951936254905097 None\n",
      "0.17871286957935556 None\n",
      "0.19424462374085438 None\n",
      "0.21141963412567993 None\n",
      "0.19424475490887042 None\n",
      "0.19424474667794212 None\n",
      "0.19424469062205824 None\n",
      "0.1786724328104228 None\n",
      "0.21141956068984846 None\n",
      "0.19424502629706486 None\n",
      "0.1786715254678336 None\n",
      "0.17867209631892414 None\n",
      "0.19424442043561968 None\n"
     ]
    },
    {
     "data": {
      "application/vnd.jupyter.widget-view+json": {
       "model_id": "c8757e981a074bccbc5515d1585dd5ff",
       "version_major": 2,
       "version_minor": 0
      },
      "text/plain": [
       "  0%|          | 0/2000 [00:00<?, ?it/s]"
      ]
     },
     "metadata": {},
     "output_type": "display_data"
    },
    {
     "name": "stdout",
     "output_type": "stream",
     "text": [
      "0.2899891020686994 None\n",
      "0.2609468642964661 None\n",
      "0.23211773381480122 None\n",
      "0.21828250037642558 None\n",
      "0.19023436034060826 None\n",
      "0.1622057503217138 None\n",
      "0.15565868734915417 None\n",
      "0.14930334174608315 None\n",
      "0.1434830400232628 None\n",
      "0.13846457340717705 None\n",
      "0.1343889497829415 None\n",
      "0.1314281632813797 None\n",
      "0.13032033365935777 None\n",
      "0.14572438868175847 None\n",
      "0.13027873789730457 None\n",
      "0.13027873778128257 None\n",
      "0.14572438136829727 None\n",
      "0.1302787377942039 None\n",
      "0.13027873795379233 None\n",
      "0.13027873776215154 None\n",
      "0.1457243814674494 None\n"
     ]
    },
    {
     "data": {
      "application/vnd.jupyter.widget-view+json": {
       "model_id": "0a60b71e71ce451b921d24aff8a09e72",
       "version_major": 2,
       "version_minor": 0
      },
      "text/plain": [
       "  0%|          | 0/2000 [00:00<?, ?it/s]"
      ]
     },
     "metadata": {},
     "output_type": "display_data"
    },
    {
     "name": "stdout",
     "output_type": "stream",
     "text": [
      "0.2843212101748777 None\n",
      "0.2543038862513891 None\n",
      "0.22405787230968924 None\n",
      "0.1937524691274646 None\n",
      "0.1630372740108447 None\n",
      "0.14171138166005245 None\n",
      "0.13304368252044751 None\n",
      "0.12574063373630795 None\n",
      "0.1340165108061815 None\n",
      "0.11245929942441908 None\n",
      "0.10691985530526069 None\n",
      "0.10646949549510366 None\n",
      "0.12191013726490962 None\n",
      "0.12191013743319787 None\n",
      "0.12191013736897734 None\n",
      "0.10646945044528026 None\n",
      "0.12191013735450804 None\n",
      "0.10646945052986694 None\n",
      "0.1219101372709847 None\n",
      "0.12191013749094054 None\n",
      "0.10646945057329962 None\n"
     ]
    },
    {
     "data": {
      "application/vnd.jupyter.widget-view+json": {
       "model_id": "d7d2c4bde1ee42458898769d391ccaa2",
       "version_major": 2,
       "version_minor": 0
      },
      "text/plain": [
       "  0%|          | 0/2000 [00:00<?, ?it/s]"
      ]
     },
     "metadata": {},
     "output_type": "display_data"
    },
    {
     "name": "stdout",
     "output_type": "stream",
     "text": [
      "0.3050128830784661 None\n",
      "0.2926181643615871 None\n",
      "0.24735624963677635 None\n",
      "0.21820744559792526 None\n",
      "0.20554927144162533 None\n",
      "0.17691764778626412 None\n",
      "0.13311389781202987 None\n",
      "0.13824498575152172 None\n",
      "0.13037667252525242 None\n",
      "0.10741279819273433 None\n",
      "0.1023307706366898 None\n",
      "0.115749496597011 None\n",
      "0.0967129441166267 None\n",
      "0.09441665480880991 None\n",
      "0.09045784814048731 None\n",
      "0.08276240334151215 None\n",
      "0.07604601012760852 None\n",
      "0.07409466209576665 None\n",
      "0.09057038522507405 None\n",
      "0.07346995757122914 None\n",
      "0.07351363547608497 None\n"
     ]
    },
    {
     "data": {
      "application/vnd.jupyter.widget-view+json": {
       "model_id": "bffe62f9a22c4fc7bba2dfb9cfcade9c",
       "version_major": 2,
       "version_minor": 0
      },
      "text/plain": [
       "  0%|          | 0/2000 [00:00<?, ?it/s]"
      ]
     },
     "metadata": {},
     "output_type": "display_data"
    },
    {
     "name": "stdout",
     "output_type": "stream",
     "text": [
      "0.29713955360551725 None\n",
      "0.2690279447326068 None\n",
      "0.2410998083711829 None\n",
      "0.21355791180378925 None\n",
      "0.18655865327908983 None\n",
      "0.15990016492802667 None\n",
      "0.13377225199012946 None\n",
      "0.10734852718027373 None\n",
      "0.1097258618280178 None\n",
      "0.10251622640761597 None\n",
      "0.0801334145346778 None\n",
      "0.07483170769222301 None\n",
      "0.08620915095194553 None\n",
      "0.08230028953063163 None\n",
      "0.06345663996024845 None\n",
      "0.06566490669142012 None\n",
      "0.06074059251331356 None\n",
      "0.07513048470114082 None\n",
      "0.05792870692065801 None\n",
      "0.07464949957208608 None\n",
      "0.057903892168020686 None\n"
     ]
    },
    {
     "data": {
      "application/vnd.jupyter.widget-view+json": {
       "model_id": "f5508a970c4e4c8383e16eefcf2fbd0d",
       "version_major": 2,
       "version_minor": 0
      },
      "text/plain": [
       "  0%|          | 0/2000 [00:00<?, ?it/s]"
      ]
     },
     "metadata": {},
     "output_type": "display_data"
    },
    {
     "name": "stdout",
     "output_type": "stream",
     "text": [
      "0.2883251449860758 None\n",
      "0.2597943965037926 None\n",
      "0.23135791799444552 None\n",
      "0.2032400173558011 None\n",
      "0.1754158897692717 None\n",
      "0.14829241302967408 None\n",
      "0.138530838382893 None\n",
      "0.09778908362472663 None\n",
      "0.09923170364381148 None\n",
      "0.0764368349200682 None\n",
      "0.08545959800614021 None\n",
      "0.06480829765850545 None\n",
      "0.06344120539571219 None\n",
      "0.06342956845194883 None\n",
      "0.0634295685167256 None\n",
      "0.06342956857405946 None\n",
      "0.06342956854069534 None\n",
      "0.07973746146759922 None\n",
      "0.07973746144216237 None\n",
      "0.07973746139756915 None\n",
      "0.07973746150696609 None\n",
      "Done!\n"
     ]
    },
    {
     "data": {
      "application/vnd.jupyter.widget-view+json": {
       "model_id": "3c965d7745c747eb8448b01c23ddcb1b",
       "version_major": 2,
       "version_minor": 0
      },
      "text/plain": [
       "  0%|          | 0/2000 [00:00<?, ?it/s]"
      ]
     },
     "metadata": {},
     "output_type": "display_data"
    },
    {
     "name": "stdout",
     "output_type": "stream",
     "text": [
      "0.39320325620988356 None\n",
      "0.4053251746600824 None\n",
      "0.40451732548125435 None\n",
      "0.40441506901417396 None\n",
      "0.40441400951629436 None\n",
      "0.4044140054574188 None\n",
      "0.3880992020771028 None\n",
      "0.3880992021080666 None\n",
      "0.4216165130094706 None\n",
      "0.38809920211625615 None\n",
      "0.40441400546229084 None\n",
      "0.388099202083778 None\n",
      "0.40441400545782225 None\n",
      "0.38809920209923243 None\n",
      "0.38809920208368975 None\n",
      "0.40441400546564044 None\n",
      "0.38809920207463094 None\n",
      "0.42161651304550146 None\n",
      "0.3880992020923474 None\n",
      "0.38809920209450355 None\n",
      "0.421616512998502 None\n"
     ]
    },
    {
     "data": {
      "application/vnd.jupyter.widget-view+json": {
       "model_id": "234077f7b98c4574982c9c431f8d04bf",
       "version_major": 2,
       "version_minor": 0
      },
      "text/plain": [
       "  0%|          | 0/2000 [00:00<?, ?it/s]"
      ]
     },
     "metadata": {},
     "output_type": "display_data"
    },
    {
     "name": "stdout",
     "output_type": "stream",
     "text": [
      "0.3099409361227935 None\n",
      "0.28266258731744914 None\n",
      "0.2750190559624155 None\n",
      "0.2870344534667263 None\n",
      "0.2698753674935012 None\n",
      "0.28469260087178627 None\n",
      "0.2847080914692244 None\n",
      "0.2846959803522752 None\n",
      "0.29963392742458134 None\n",
      "0.2846976793932125 None\n",
      "0.2995025808812057 None\n",
      "0.28471491136517324 None\n",
      "0.26925613951161637 None\n",
      "0.2847125297595981 None\n",
      "0.29975802667350515 None\n",
      "0.2692583179967782 None\n",
      "0.26926180432248986 None\n",
      "0.26926065119237325 None\n",
      "0.2692513504314451 None\n",
      "0.28470711399413823 None\n",
      "0.26925732255404583 None\n"
     ]
    },
    {
     "data": {
      "application/vnd.jupyter.widget-view+json": {
       "model_id": "f7f78fc6c09748dd9f7b8319d7c254cc",
       "version_major": 2,
       "version_minor": 0
      },
      "text/plain": [
       "  0%|          | 0/2000 [00:00<?, ?it/s]"
      ]
     },
     "metadata": {},
     "output_type": "display_data"
    },
    {
     "name": "stdout",
     "output_type": "stream",
     "text": [
      "0.31181511076159235 None\n",
      "0.28042848876893745 None\n",
      "0.24962131678147673 None\n",
      "0.22747363773929877 None\n",
      "0.22232430919698032 None\n",
      "0.23343833493411034 None\n",
      "0.21199207954656826 None\n",
      "0.22298696175287386 None\n",
      "0.2029235653416372 None\n",
      "0.19908270384792334 None\n",
      "0.1969577160589983 None\n",
      "0.19673227813140604 None\n",
      "0.19673204867724833 None\n",
      "0.21217915554808123 None\n",
      "0.19673204853978246 None\n",
      "0.21217915553745678 None\n",
      "0.19673204831387825 None\n",
      "0.1967320484909656 None\n",
      "0.21217915578772756 None\n",
      "0.21217915548664132 None\n",
      "0.19673204825477789 None\n"
     ]
    },
    {
     "data": {
      "application/vnd.jupyter.widget-view+json": {
       "model_id": "c93ae03c2db3442a8abb39c9674ce10b",
       "version_major": 2,
       "version_minor": 0
      },
      "text/plain": [
       "  0%|          | 0/2000 [00:00<?, ?it/s]"
      ]
     },
     "metadata": {},
     "output_type": "display_data"
    },
    {
     "name": "stdout",
     "output_type": "stream",
     "text": [
      "0.32314981173341684 None\n",
      "0.29273140049868795 None\n",
      "0.2456106978857129 None\n",
      "0.21471850126873687 None\n",
      "0.18292814597380683 None\n",
      "0.17751856526756252 None\n",
      "0.17109410978971162 None\n",
      "0.1633030010773378 None\n",
      "0.1571182599764776 None\n",
      "0.1674742244907375 None\n",
      "0.16111469837586676 None\n",
      "0.17364632868557273 None\n",
      "0.1576008664123627 None\n",
      "0.15760288482435675 None\n",
      "0.157232156901193 None\n",
      "0.15391254020604664 None\n",
      "0.16616258072328924 None\n",
      "0.13273788491626884 None\n",
      "0.132734710513195 None\n",
      "0.1328058258767467 None\n",
      "0.14903053228849186 None\n"
     ]
    },
    {
     "data": {
      "application/vnd.jupyter.widget-view+json": {
       "model_id": "af7e78f0eb974ce3b9cdcfd7d0c7c34b",
       "version_major": 2,
       "version_minor": 0
      },
      "text/plain": [
       "  0%|          | 0/2000 [00:00<?, ?it/s]"
      ]
     },
     "metadata": {},
     "output_type": "display_data"
    },
    {
     "name": "stdout",
     "output_type": "stream",
     "text": [
      "0.3375070364858772 None\n",
      "0.30883324024962094 None\n",
      "0.263851943035154 None\n",
      "0.23518594762193878 None\n",
      "0.22296777057045974 None\n",
      "0.19270801744166724 None\n",
      "0.15628826973969978 None\n",
      "0.14941959951230627 None\n",
      "0.14409151718754024 None\n",
      "0.1388290542482856 None\n",
      "0.13783032452112956 None\n",
      "0.13782949584370022 None\n",
      "0.13782294084724064 None\n",
      "0.1378263698434588 None\n",
      "0.13782474408304626 None\n",
      "0.1378248364595666 None\n",
      "0.13782447160165348 None\n",
      "0.13782520031596557 None\n",
      "0.13783643641982962 None\n",
      "0.13782353833159755 None\n",
      "0.1378221471937053 None\n"
     ]
    },
    {
     "data": {
      "application/vnd.jupyter.widget-view+json": {
       "model_id": "584fdb716bc5439a942f2d0952aa8f1f",
       "version_major": 2,
       "version_minor": 0
      },
      "text/plain": [
       "  0%|          | 0/2000 [00:00<?, ?it/s]"
      ]
     },
     "metadata": {},
     "output_type": "display_data"
    },
    {
     "name": "stdout",
     "output_type": "stream",
     "text": [
      "0.3324136835025662 None\n",
      "0.30257961239911735 None\n",
      "0.25602856600072016 None\n",
      "0.24194809006083598 None\n",
      "0.19514676161903802 None\n",
      "0.17391336842630148 None\n",
      "0.1808471818157541 None\n",
      "0.1553122540174199 None\n",
      "0.16290901806796623 None\n",
      "0.13793474509226877 None\n",
      "0.14563521003245766 None\n",
      "0.1252030283756965 None\n",
      "0.1213316288329705 None\n",
      "0.13498676417549266 None\n",
      "0.10447452310785928 None\n",
      "0.09967528089008201 None\n",
      "0.09662427386344474 None\n",
      "0.10904528589221545 None\n",
      "0.12254975886311828 None\n",
      "0.11972502120816994 None\n",
      "0.10022801881901698 None\n"
     ]
    },
    {
     "data": {
      "application/vnd.jupyter.widget-view+json": {
       "model_id": "fd640d3e987a4fca8a27977a896b38d8",
       "version_major": 2,
       "version_minor": 0
      },
      "text/plain": [
       "  0%|          | 0/2000 [00:00<?, ?it/s]"
      ]
     },
     "metadata": {},
     "output_type": "display_data"
    },
    {
     "name": "stdout",
     "output_type": "stream",
     "text": [
      "0.31971103410367235 None\n",
      "0.29157728292681484 None\n",
      "0.263569430750646 None\n",
      "0.23561521906782484 None\n",
      "0.20734624851179093 None\n",
      "0.17895297260307436 None\n",
      "0.1512538846175332 None\n",
      "0.12797169888979051 None\n",
      "0.13538547003136114 None\n",
      "0.1108725515544563 None\n",
      "0.1373233603077086 None\n",
      "0.130332283309713 None\n",
      "0.09278989142898628 None\n",
      "0.09228265081519392 None\n",
      "0.09228264417315686 None\n",
      "0.09228264421214882 None\n",
      "0.10772847632296945 None\n",
      "0.10772847631994473 None\n",
      "0.09228264426126201 None\n",
      "0.10772847630228523 None\n",
      "0.1077284763158747 None\n",
      "Done!\n"
     ]
    },
    {
     "data": {
      "application/vnd.jupyter.widget-view+json": {
       "model_id": "406f4d9ff3bb4a0495e48975cfa23f5a",
       "version_major": 2,
       "version_minor": 0
      },
      "text/plain": [
       "  0%|          | 0/2000 [00:00<?, ?it/s]"
      ]
     },
     "metadata": {},
     "output_type": "display_data"
    },
    {
     "name": "stdout",
     "output_type": "stream",
     "text": [
      "0.38837755788663253 None\n",
      "0.3919826763884439 None\n",
      "0.37398822543873417 None\n",
      "0.37279503407324827 None\n",
      "0.372322226465953 None\n",
      "0.3566294137384717 None\n",
      "0.37097280865478965 None\n",
      "0.3706510849123091 None\n",
      "0.3706363282838448 None\n",
      "0.35519289304883717 None\n",
      "0.3706347079965998 None\n",
      "0.35519276001848676 None\n",
      "0.35519275992199734 None\n",
      "0.35519275997231553 None\n",
      "0.355192759988058 None\n",
      "0.37063469579532443 None\n",
      "0.37063469580674296 None\n",
      "0.35519275997335203 None\n",
      "0.37063469579422065 None\n",
      "0.35519276001520417 None\n",
      "0.3551927600177342 None\n"
     ]
    },
    {
     "data": {
      "application/vnd.jupyter.widget-view+json": {
       "model_id": "3cb96ce46d7a4a50a623408fcb6b7d75",
       "version_major": 2,
       "version_minor": 0
      },
      "text/plain": [
       "  0%|          | 0/2000 [00:00<?, ?it/s]"
      ]
     },
     "metadata": {},
     "output_type": "display_data"
    },
    {
     "name": "stdout",
     "output_type": "stream",
     "text": [
      "0.28490139489000715 None\n",
      "0.25382532688575715 None\n",
      "0.24833006625876547 None\n",
      "0.25915024979194085 None\n",
      "0.25527665129748817 None\n",
      "0.2524977225297265 None\n",
      "0.23620258358109966 None\n",
      "0.23595765566106003 None\n",
      "0.251331016129334 None\n",
      "0.23588148400293937 None\n",
      "0.25132312232033704 None\n",
      "0.2358812631884129 None\n",
      "0.2358812631134058 None\n",
      "0.2513231215987135 None\n",
      "0.23588126309092203 None\n",
      "0.23588126313206156 None\n",
      "0.235881263099228 None\n",
      "0.2513231216640295 None\n",
      "0.2358812631572558 None\n",
      "0.23588126303459148 None\n",
      "0.23588126303093235 None\n"
     ]
    },
    {
     "data": {
      "application/vnd.jupyter.widget-view+json": {
       "model_id": "59598680b7a64c2f8a91526dd2a98cc9",
       "version_major": 2,
       "version_minor": 0
      },
      "text/plain": [
       "  0%|          | 0/2000 [00:00<?, ?it/s]"
      ]
     },
     "metadata": {},
     "output_type": "display_data"
    },
    {
     "name": "stdout",
     "output_type": "stream",
     "text": [
      "0.2886709952687685 None\n",
      "0.24145769975848694 None\n",
      "0.22719905872826499 None\n",
      "0.19751874875353032 None\n",
      "0.19222288303140253 None\n",
      "0.18744796580558995 None\n",
      "0.19953938128432644 None\n",
      "0.1794198761982057 None\n",
      "0.17593715415922603 None\n",
      "0.1729928874192102 None\n",
      "0.1766880561628257 None\n",
      "0.17056430765458372 None\n",
      "0.165701055551656 None\n",
      "0.16452383958504346 None\n",
      "0.16323776159895792 None\n",
      "0.1622726280586723 None\n",
      "0.16145294765413318 None\n",
      "0.16068206102844973 None\n",
      "0.15427306210708072 None\n",
      "0.15378261423267464 None\n",
      "0.16522189099539641 None\n"
     ]
    },
    {
     "data": {
      "application/vnd.jupyter.widget-view+json": {
       "model_id": "bd2cc86dfc2348408691434a8aaa907d",
       "version_major": 2,
       "version_minor": 0
      },
      "text/plain": [
       "  0%|          | 0/2000 [00:00<?, ?it/s]"
      ]
     },
     "metadata": {},
     "output_type": "display_data"
    },
    {
     "name": "stdout",
     "output_type": "stream",
     "text": [
      "0.27276408446120454 None\n",
      "0.24289059901921364 None\n",
      "0.21374360164739767 None\n",
      "0.1889664411054665 None\n",
      "0.1965302761793351 None\n",
      "0.1737114020589497 None\n",
      "0.1674808481776669 None\n",
      "0.179805855172247 None\n",
      "0.17974128203876977 None\n",
      "0.16429908374940122 None\n",
      "0.17974128067875073 None\n",
      "0.1797412806992881 None\n",
      "0.16429908376609206 None\n",
      "0.16429908378427635 None\n",
      "0.17974128071664822 None\n",
      "0.16429908378775485 None\n",
      "0.16429908379204844 None\n",
      "0.16429908378468824 None\n",
      "0.1642990838013445 None\n",
      "0.17974128071074158 None\n",
      "0.16429908373596236 None\n"
     ]
    },
    {
     "data": {
      "application/vnd.jupyter.widget-view+json": {
       "model_id": "b9fd036658a141f69bfd1d8278519c07",
       "version_major": 2,
       "version_minor": 0
      },
      "text/plain": [
       "  0%|          | 0/2000 [00:00<?, ?it/s]"
      ]
     },
     "metadata": {},
     "output_type": "display_data"
    },
    {
     "name": "stdout",
     "output_type": "stream",
     "text": [
      "0.2797631852184166 None\n",
      "0.2502466354150237 None\n",
      "0.2207411050603334 None\n",
      "0.1915403249827003 None\n",
      "0.16262944673747926 None\n",
      "0.15731282216267067 None\n",
      "0.14905602634829238 None\n",
      "0.12462854792687564 None\n",
      "0.133723825824137 None\n",
      "0.12627180246008826 None\n",
      "0.10475106692076014 None\n",
      "0.10094179390620708 None\n",
      "0.11387924769633449 None\n",
      "0.09510542877837021 None\n",
      "0.10992324838996906 None\n",
      "0.10948252546804929 None\n",
      "0.09315600515372613 None\n",
      "0.10947405339071689 None\n",
      "0.09315600459569753 None\n",
      "0.09315600464667609 None\n",
      "0.09315600457234124 None\n"
     ]
    },
    {
     "data": {
      "application/vnd.jupyter.widget-view+json": {
       "model_id": "a66e1a4a98c54ca4ba1f5c9473b6a033",
       "version_major": 2,
       "version_minor": 0
      },
      "text/plain": [
       "  0%|          | 0/2000 [00:00<?, ?it/s]"
      ]
     },
     "metadata": {},
     "output_type": "display_data"
    },
    {
     "name": "stdout",
     "output_type": "stream",
     "text": [
      "0.3001669481899437 None\n",
      "0.2556809324447302 None\n",
      "0.2418222509632405 None\n",
      "0.19716288338943896 None\n",
      "0.18367651871302706 None\n",
      "0.15566114680209653 None\n",
      "0.13512060405896836 None\n",
      "0.12901099597434457 None\n",
      "0.10891215141324934 None\n",
      "0.10727223808157721 None\n",
      "0.10727223802841948 None\n",
      "0.10727223814811526 None\n",
      "0.10727223836311484 None\n",
      "0.10727223836687738 None\n",
      "0.10727223827423955 None\n",
      "0.12271789142477263 None\n",
      "0.1072722380197754 None\n",
      "0.12271789130647841 None\n",
      "0.12271789157789831 None\n",
      "0.10727223841171095 None\n",
      "0.10727223818034 None\n",
      "Done!\n"
     ]
    },
    {
     "data": {
      "application/vnd.jupyter.widget-view+json": {
       "model_id": "7f4f9def4cf743dc97d61121f6327b12",
       "version_major": 2,
       "version_minor": 0
      },
      "text/plain": [
       "  0%|          | 0/2000 [00:00<?, ?it/s]"
      ]
     },
     "metadata": {},
     "output_type": "display_data"
    },
    {
     "name": "stdout",
     "output_type": "stream",
     "text": [
      "0.3763248009917778 None\n",
      "0.39952562218687665 None\n",
      "0.3834314806869701 None\n",
      "0.38341485629374744 None\n",
      "0.38341461222375434 None\n",
      "0.38341461104098395 None\n",
      "0.38341461103731805 None\n",
      "0.38341461103676205 None\n",
      "0.36711997752152004 None\n",
      "0.3988660092681223 None\n",
      "0.3834146110364756 None\n",
      "0.3834146110366272 None\n",
      "0.3834146110356783 None\n",
      "0.3834146110356388 None\n",
      "0.3988660092690378 None\n",
      "0.3988660092675357 None\n",
      "0.3988660092669926 None\n",
      "0.3834146110365889 None\n",
      "0.3988660092691128 None\n",
      "0.3834146110372315 None\n",
      "0.3988660092677267 None\n"
     ]
    },
    {
     "data": {
      "application/vnd.jupyter.widget-view+json": {
       "model_id": "68f696b51a1e4d3184f03401f5b61f1d",
       "version_major": 2,
       "version_minor": 0
      },
      "text/plain": [
       "  0%|          | 0/2000 [00:00<?, ?it/s]"
      ]
     },
     "metadata": {},
     "output_type": "display_data"
    },
    {
     "name": "stdout",
     "output_type": "stream",
     "text": [
      "0.2900231947488401 None\n",
      "0.2801073079420985 None\n",
      "0.2691156636164002 None\n",
      "0.26365207868147805 None\n",
      "0.2636582889767236 None\n",
      "0.26364735999535177 None\n",
      "0.2791325702565845 None\n",
      "0.2791874914401993 None\n",
      "0.27913522640317107 None\n",
      "0.2637605405034476 None\n",
      "0.2474490545258518 None\n",
      "0.2636317008333467 None\n",
      "0.26365373658426555 None\n",
      "0.2791216598562315 None\n",
      "0.27965118355198804 None\n",
      "0.2793615882339109 None\n",
      "0.2636933463074794 None\n",
      "0.26373120652895576 None\n",
      "0.2792886839333986 None\n",
      "0.247370818267555 None\n",
      "0.27917947339349053 None\n"
     ]
    },
    {
     "data": {
      "application/vnd.jupyter.widget-view+json": {
       "model_id": "d0d9d4a113cb4f37bc35978c39ea9545",
       "version_major": 2,
       "version_minor": 0
      },
      "text/plain": [
       "  0%|          | 0/2000 [00:00<?, ?it/s]"
      ]
     },
     "metadata": {},
     "output_type": "display_data"
    },
    {
     "name": "stdout",
     "output_type": "stream",
     "text": [
      "0.3018131489630876 None\n",
      "0.2713418933804047 None\n",
      "0.24021508652623103 None\n",
      "0.22003354945490236 None\n",
      "0.21466085610811542 None\n",
      "0.20968367570285945 None\n",
      "0.204674404020786 None\n",
      "0.19953445933368053 None\n",
      "0.19743976722877274 None\n",
      "0.19674654563333369 None\n",
      "0.1966796688490219 None\n",
      "0.19667966860778502 None\n",
      "0.1966796686074503 None\n",
      "0.19667966860744934 None\n",
      "0.1966796686074498 None\n",
      "0.19667966860745023 None\n",
      "0.19667966860745023 None\n",
      "0.19667966860745023 None\n",
      "0.19667966860745023 None\n",
      "0.19667966860745023 None\n",
      "0.19667966860745023 None\n"
     ]
    },
    {
     "data": {
      "application/vnd.jupyter.widget-view+json": {
       "model_id": "fb26bd59e9914dfd90243ab786e02bef",
       "version_major": 2,
       "version_minor": 0
      },
      "text/plain": [
       "  0%|          | 0/2000 [00:00<?, ?it/s]"
      ]
     },
     "metadata": {},
     "output_type": "display_data"
    },
    {
     "name": "stdout",
     "output_type": "stream",
     "text": [
      "0.30590118188876686 None\n",
      "0.2757304602866961 None\n",
      "0.24522247330952618 None\n",
      "0.21780197568006243 None\n",
      "0.20739921289230337 None\n",
      "0.19608104856451636 None\n",
      "0.18689413216693979 None\n",
      "0.17795634437501348 None\n",
      "0.1876435904308213 None\n",
      "0.16466717107862558 None\n",
      "0.15970070653898072 None\n",
      "0.15926286379819432 None\n",
      "0.15927363055254168 None\n",
      "0.1759608788052322 None\n",
      "0.1592356431387744 None\n",
      "0.15943419050313906 None\n",
      "0.1592354075169896 None\n",
      "0.1441255871719206 None\n",
      "0.16067869734380988 None\n",
      "0.16038389525983243 None\n",
      "0.15926889909954955 None\n"
     ]
    },
    {
     "data": {
      "application/vnd.jupyter.widget-view+json": {
       "model_id": "b5a73d4896a64dcfb595f4140cd2221f",
       "version_major": 2,
       "version_minor": 0
      },
      "text/plain": [
       "  0%|          | 0/2000 [00:00<?, ?it/s]"
      ]
     },
     "metadata": {},
     "output_type": "display_data"
    },
    {
     "name": "stdout",
     "output_type": "stream",
     "text": [
      "0.31689731676084254 None\n",
      "0.27277621958691234 None\n",
      "0.24377444217307231 None\n",
      "0.2146336179434724 None\n",
      "0.20100145669762345 None\n",
      "0.18853818622199203 None\n",
      "0.16359604993726098 None\n",
      "0.1556885479755083 None\n",
      "0.14909576127244514 None\n",
      "0.1450582268641111 None\n",
      "0.14062588457424982 None\n",
      "0.15249395300741372 None\n",
      "0.13017156190150414 None\n",
      "0.13709198065760622 None\n",
      "0.11103233892629763 None\n",
      "0.10510637007745274 None\n",
      "0.1347265980484495 None\n",
      "0.11507258175295602 None\n",
      "0.0823418775963162 None\n",
      "0.09787521638987248 None\n",
      "0.097757155915237 None\n"
     ]
    },
    {
     "data": {
      "application/vnd.jupyter.widget-view+json": {
       "model_id": "3d793e58708f42fbab94129e9023c3b7",
       "version_major": 2,
       "version_minor": 0
      },
      "text/plain": [
       "  0%|          | 0/2000 [00:00<?, ?it/s]"
      ]
     },
     "metadata": {},
     "output_type": "display_data"
    },
    {
     "name": "stdout",
     "output_type": "stream",
     "text": [
      "0.3282039913005762 None\n",
      "0.3009093747023636 None\n",
      "0.27369375694827247 None\n",
      "0.24684750704816796 None\n",
      "0.2206097135188685 None\n",
      "0.19469560264255167 None\n",
      "0.16892432947477426 None\n",
      "0.1463249804095869 None\n",
      "0.13891250416920342 None\n",
      "0.13061696856034669 None\n",
      "0.12451601894441153 None\n",
      "0.10299852945741411 None\n",
      "0.12937084665552165 None\n",
      "0.09287531688410212 None\n",
      "0.10425650509643991 None\n",
      "0.1175612725124423 None\n",
      "0.11626050225222834 None\n",
      "0.08451379132986188 None\n",
      "0.08451379132842111 None\n",
      "0.08451379132803385 None\n",
      "0.09994662566651086 None\n",
      "Done!\n"
     ]
    },
    {
     "data": {
      "application/vnd.jupyter.widget-view+json": {
       "model_id": "015cdfcf95724d9e88640d23c46aaae8",
       "version_major": 2,
       "version_minor": 0
      },
      "text/plain": [
       "  0%|          | 0/2000 [00:00<?, ?it/s]"
      ]
     },
     "metadata": {},
     "output_type": "display_data"
    },
    {
     "name": "stdout",
     "output_type": "stream",
     "text": [
      "0.39235249507961184 None\n",
      "0.3939886027494447 None\n",
      "0.3756767466728596 None\n",
      "0.3747076743480585 None\n",
      "0.37449720664405567 None\n",
      "0.35816876945101034 None\n",
      "0.3744727721519314 None\n",
      "0.3744727043286186 None\n",
      "0.3744727022718266 None\n",
      "0.3744727022205368 None\n",
      "0.37447270221810935 None\n",
      "0.3744727022183758 None\n",
      "0.3744727022185919 None\n",
      "0.3899132299839679 None\n",
      "0.38991322998488587 None\n",
      "0.37447270221850076 None\n",
      "0.389913229985069 None\n",
      "0.3744727022179617 None\n",
      "0.3581671982381474 None\n",
      "0.38991322998406575 None\n",
      "0.35816719823815235 None\n"
     ]
    },
    {
     "data": {
      "application/vnd.jupyter.widget-view+json": {
       "model_id": "da4e1151fcd740edb32cfc8aaef8d0e5",
       "version_major": 2,
       "version_minor": 0
      },
      "text/plain": [
       "  0%|          | 0/2000 [00:00<?, ?it/s]"
      ]
     },
     "metadata": {},
     "output_type": "display_data"
    },
    {
     "name": "stdout",
     "output_type": "stream",
     "text": [
      "0.2956182625985495 None\n",
      "0.29809283011717597 None\n",
      "0.2739782357211499 None\n",
      "0.2664282271933269 None\n",
      "0.2600038022388536 None\n",
      "0.2600332415583745 None\n",
      "0.2746458344783426 None\n",
      "0.2437485001291443 None\n",
      "0.24374849998648268 None\n",
      "0.25962151568031355 None\n",
      "0.24374849973659968 None\n",
      "0.25962151567216796 None\n",
      "0.24289979193856728 None\n",
      "0.25962151569878794 None\n",
      "0.274645823810516 None\n",
      "0.2596215155809828 None\n",
      "0.24374849997865414 None\n",
      "0.2596215159118781 None\n",
      "0.24374849981069058 None\n",
      "0.24289979233100745 None\n",
      "0.25962151565917957 None\n"
     ]
    },
    {
     "data": {
      "application/vnd.jupyter.widget-view+json": {
       "model_id": "c1b79f9142fc4f2ca007a9351d4021b4",
       "version_major": 2,
       "version_minor": 0
      },
      "text/plain": [
       "  0%|          | 0/2000 [00:00<?, ?it/s]"
      ]
     },
     "metadata": {},
     "output_type": "display_data"
    },
    {
     "name": "stdout",
     "output_type": "stream",
     "text": [
      "0.31488799298243275 None\n",
      "0.2700729024691934 None\n",
      "0.24395641951657082 None\n",
      "0.2514055783584279 None\n",
      "0.21227963775313208 None\n",
      "0.22275232230791084 None\n",
      "0.2185530016096688 None\n",
      "0.23147455934565814 None\n",
      "0.2148937105985346 None\n",
      "0.23032807767411506 None\n",
      "0.2148860939863614 None\n",
      "0.198582045930752 None\n",
      "0.214886093916008 None\n",
      "0.21488609393859 None\n",
      "0.21488609391407099 None\n",
      "0.19858204600984472 None\n",
      "0.21488609397950778 None\n",
      "0.23032807772011027 None\n",
      "0.21488609398050937 None\n",
      "0.23032807773032296 None\n",
      "0.19858204594172293 None\n"
     ]
    },
    {
     "data": {
      "application/vnd.jupyter.widget-view+json": {
       "model_id": "d8b56ba8361a45069faab7dfa865a865",
       "version_major": 2,
       "version_minor": 0
      },
      "text/plain": [
       "  0%|          | 0/2000 [00:00<?, ?it/s]"
      ]
     },
     "metadata": {},
     "output_type": "display_data"
    },
    {
     "name": "stdout",
     "output_type": "stream",
     "text": [
      "0.2986978822814489 None\n",
      "0.2689683537262235 None\n",
      "0.23923630495754844 None\n",
      "0.20973355113237993 None\n",
      "0.19618553571258604 None\n",
      "0.19029524483455054 None\n",
      "0.16770138418916408 None\n",
      "0.17781932610213386 None\n",
      "0.18730618499560076 None\n",
      "0.16629886906895291 None\n",
      "0.17660516493274098 None\n",
      "0.1523719615057672 None\n",
      "0.1470652151945492 None\n",
      "0.1446432239941365 None\n",
      "0.14453530266356668 None\n",
      "0.16040831754419577 None\n",
      "0.14453530163429393 None\n",
      "0.14453530163071898 None\n",
      "0.1436705083437782 None\n",
      "0.1604083175518867 None\n",
      "0.16040831750329712 None\n"
     ]
    },
    {
     "data": {
      "application/vnd.jupyter.widget-view+json": {
       "model_id": "c1911f624b4043eba761afb676b85f1c",
       "version_major": 2,
       "version_minor": 0
      },
      "text/plain": [
       "  0%|          | 0/2000 [00:00<?, ?it/s]"
      ]
     },
     "metadata": {},
     "output_type": "display_data"
    },
    {
     "name": "stdout",
     "output_type": "stream",
     "text": [
      "0.30468651447285994 None\n",
      "0.2758379758716429 None\n",
      "0.24700365102900235 None\n",
      "0.21775734630419488 None\n",
      "0.18796698336101322 None\n",
      "0.1422045798251878 None\n",
      "0.16434472996335833 None\n",
      "0.126141197056706 None\n",
      "0.11952484084846675 None\n",
      "0.14457173848270358 None\n",
      "0.1212201348659028 None\n",
      "0.13100651847044562 None\n",
      "0.13039422953521523 None\n",
      "0.11495737001252927 None\n",
      "0.11498211675708062 None\n",
      "0.098722814443991 None\n",
      "0.11499329783521857 None\n",
      "0.13048943015483552 None\n",
      "0.11501338359254265 None\n",
      "0.11492472468995926 None\n",
      "0.13037438317145 None\n"
     ]
    },
    {
     "data": {
      "application/vnd.jupyter.widget-view+json": {
       "model_id": "eebdfb1bbb7a4aa98bdcf22251ba2245",
       "version_major": 2,
       "version_minor": 0
      },
      "text/plain": [
       "  0%|          | 0/2000 [00:00<?, ?it/s]"
      ]
     },
     "metadata": {},
     "output_type": "display_data"
    },
    {
     "name": "stdout",
     "output_type": "stream",
     "text": [
      "0.30926606399213796 None\n",
      "0.2798063902915359 None\n",
      "0.2500887752066132 None\n",
      "0.2204196318384263 None\n",
      "0.19119269762665098 None\n",
      "0.14562643474215414 None\n",
      "0.14311552603867408 None\n",
      "0.15125544291724036 None\n",
      "0.11332495767251126 None\n",
      "0.12408913810079884 None\n",
      "0.1224336238874972 None\n",
      "0.12243344987947757 None\n",
      "0.10613242247919508 None\n",
      "0.12243344982543472 None\n",
      "0.12243344992226224 None\n",
      "0.13787845428051526 None\n",
      "0.10613242242538755 None\n",
      "0.12243344984636645 None\n",
      "0.12243344992109965 None\n",
      "0.10613242242244963 None\n",
      "0.10613242242857061 None\n"
     ]
    },
    {
     "data": {
      "application/vnd.jupyter.widget-view+json": {
       "model_id": "58d80c5ac7ce450eb2eeeb3f9d27feb7",
       "version_major": 2,
       "version_minor": 0
      },
      "text/plain": [
       "  0%|          | 0/2000 [00:00<?, ?it/s]"
      ]
     },
     "metadata": {},
     "output_type": "display_data"
    },
    {
     "name": "stdout",
     "output_type": "stream",
     "text": [
      "0.322684786267176 None\n",
      "0.2786643451995138 None\n",
      "0.2654261997021606 None\n",
      "0.22162903716680984 None\n",
      "0.20931472677576818 None\n",
      "0.1670933441246496 None\n",
      "0.1578431753149894 None\n",
      "0.14855021400150653 None\n",
      "0.12395719851635578 None\n",
      "0.11531236325016465 None\n",
      "0.10765969072646497 None\n",
      "0.1000606215702875 None\n",
      "0.0922440000284634 None\n",
      "0.08939913699964033 None\n",
      "0.06998116450351367 None\n",
      "0.08383851782464748 None\n",
      "0.0981743360008542 None\n",
      "0.08269155687506874 None\n",
      "0.0826915567329138 None\n",
      "0.06639062843097844 None\n",
      "0.06639062857271205 None\n"
     ]
    },
    {
     "data": {
      "application/vnd.jupyter.widget-view+json": {
       "model_id": "70af3afb408f4332bb316f869bf5bb99",
       "version_major": 2,
       "version_minor": 0
      },
      "text/plain": [
       "  0%|          | 0/2000 [00:00<?, ?it/s]"
      ]
     },
     "metadata": {},
     "output_type": "display_data"
    },
    {
     "name": "stdout",
     "output_type": "stream",
     "text": [
      "0.3115488381677022 None\n",
      "0.28145490907060866 None\n",
      "0.255030902512365 None\n",
      "0.21076146394461026 None\n",
      "0.19960690785818763 None\n",
      "0.17272709131097647 None\n",
      "0.13014850553277688 None\n",
      "0.12143496528920186 None\n",
      "0.10316726598520146 None\n",
      "0.0948299718943415 None\n",
      "0.07102014159724188 None\n",
      "0.08151025814979172 None\n",
      "0.06145868487411256 None\n",
      "0.058729891209808316 None\n",
      "0.08808266588469356 None\n",
      "0.054985225071324896 None\n",
      "0.052528987901141064 None\n",
      "0.06707587707558382 None\n",
      "0.06707206218972772 None\n",
      "0.05119904635263892 None\n",
      "0.05119904620891522 None\n"
     ]
    },
    {
     "data": {
      "application/vnd.jupyter.widget-view+json": {
       "model_id": "d2d4e97151a44d799e7d79cd52167fe6",
       "version_major": 2,
       "version_minor": 0
      },
      "text/plain": [
       "  0%|          | 0/2000 [00:00<?, ?it/s]"
      ]
     },
     "metadata": {},
     "output_type": "display_data"
    },
    {
     "name": "stdout",
     "output_type": "stream",
     "text": [
      "0.3034222494222471 None\n",
      "0.29173006472737373 None\n",
      "0.2636768048876538 None\n",
      "0.23595321505802536 None\n",
      "0.2242064772731129 None\n",
      "0.19769649303252 None\n",
      "0.14025335301990705 None\n",
      "0.13202442217238086 None\n",
      "0.11444864917241443 None\n",
      "0.10719720203852764 None\n",
      "0.11699874892622104 None\n",
      "0.10090406828187631 None\n",
      "0.10090406157717331 None\n",
      "0.10090406157057433 None\n",
      "0.10090406153555756 None\n",
      "0.1163521369162744 None\n",
      "0.10090406153625454 None\n",
      "0.10090406152689811 None\n",
      "0.10090406153052098 None\n",
      "0.10090406152675438 None\n",
      "0.11635213686503126 None\n",
      "Done!\n"
     ]
    },
    {
     "data": {
      "application/vnd.jupyter.widget-view+json": {
       "model_id": "bde1ea4977b14fdeae9518b2bd765073",
       "version_major": 2,
       "version_minor": 0
      },
      "text/plain": [
       "  0%|          | 0/2000 [00:00<?, ?it/s]"
      ]
     },
     "metadata": {},
     "output_type": "display_data"
    },
    {
     "name": "stdout",
     "output_type": "stream",
     "text": [
      "0.39107285373909545 None\n",
      "0.3734216929747965 None\n",
      "0.3897250996607631 None\n",
      "0.37342157769807266 None\n",
      "0.3897250996571253 None\n",
      "0.373421577697941 None\n",
      "0.3734215776982975 None\n",
      "0.3734215776981274 None\n",
      "0.38972509965700886 None\n",
      "0.37342157769836837 None\n",
      "0.3897250996570277 None\n",
      "0.37342157769797557 None\n",
      "0.38972509965719615 None\n",
      "0.3897250996570719 None\n",
      "0.389725099657031 None\n",
      "0.3734215776981135 None\n",
      "0.38972509965701296 None\n",
      "0.38972509965724816 None\n",
      "0.37342157769818096 None\n",
      "0.38972509965713303 None\n",
      "0.389725099657123 None\n"
     ]
    },
    {
     "data": {
      "application/vnd.jupyter.widget-view+json": {
       "model_id": "f731c86c1f1c42dea39dcd508674d3f7",
       "version_major": 2,
       "version_minor": 0
      },
      "text/plain": [
       "  0%|          | 0/2000 [00:00<?, ?it/s]"
      ]
     },
     "metadata": {},
     "output_type": "display_data"
    },
    {
     "name": "stdout",
     "output_type": "stream",
     "text": [
      "0.3279855647083064 None\n",
      "0.285977578029704 None\n",
      "0.29275560188697314 None\n",
      "0.2681390679710699 None\n",
      "0.2749944082330142 None\n",
      "0.2700087556927209 None\n",
      "0.25362663887255144 None\n",
      "0.26989107342577173 None\n",
      "0.25351114055576107 None\n",
      "0.25325495630601924 None\n",
      "0.26829794344001573 None\n",
      "0.24842486514988982 None\n",
      "0.2472300372767259 None\n",
      "0.28053450846123085 None\n",
      "0.2632815424078647 None\n",
      "0.24686394097825676 None\n",
      "0.26282656963414575 None\n",
      "0.2455845302754002 None\n",
      "0.26148004775398004 None\n",
      "0.2611746845587174 None\n",
      "0.26109887131075515 None\n"
     ]
    },
    {
     "data": {
      "application/vnd.jupyter.widget-view+json": {
       "model_id": "223a37ded63a494ca006a1c9e342f258",
       "version_major": 2,
       "version_minor": 0
      },
      "text/plain": [
       "  0%|          | 0/2000 [00:00<?, ?it/s]"
      ]
     },
     "metadata": {},
     "output_type": "display_data"
    },
    {
     "name": "stdout",
     "output_type": "stream",
     "text": [
      "0.32683829840420325 None\n",
      "0.27980644992767406 None\n",
      "0.24847348236400893 None\n",
      "0.2473081243048514 None\n",
      "0.22568397867908194 None\n",
      "0.22051344407830953 None\n",
      "0.23214458167562066 None\n",
      "0.2121086592292523 None\n",
      "0.2088408968124718 None\n",
      "0.20590463793123975 None\n",
      "0.20289293924186133 None\n",
      "0.21540437700933257 None\n",
      "0.19389795197413345 None\n",
      "0.18526591216765467 None\n",
      "0.18364978750744068 None\n",
      "0.19956502780339588 None\n",
      "0.19921651745893293 None\n",
      "0.19891540701700752 None\n",
      "0.21584676490871438 None\n",
      "0.19849507611873693 None\n",
      "0.1983504840267668 None\n"
     ]
    },
    {
     "data": {
      "application/vnd.jupyter.widget-view+json": {
       "model_id": "f3ac68f2a1554373bf21e824444f14b4",
       "version_major": 2,
       "version_minor": 0
      },
      "text/plain": [
       "  0%|          | 0/2000 [00:00<?, ?it/s]"
      ]
     },
     "metadata": {},
     "output_type": "display_data"
    },
    {
     "name": "stdout",
     "output_type": "stream",
     "text": [
      "0.3237365194236913 None\n",
      "0.2945778787509706 None\n",
      "0.2488016572620055 None\n",
      "0.23574699094475574 None\n",
      "0.20676550246259323 None\n",
      "0.16949499261819387 None\n",
      "0.17973978491116588 None\n",
      "0.17353281482398125 None\n",
      "0.15126548451005253 None\n",
      "0.14499531279030448 None\n",
      "0.13954505142932058 None\n",
      "0.13564297550960633 None\n",
      "0.1490072370265772 None\n",
      "0.12999746525061426 None\n",
      "0.16133704638473506 None\n",
      "0.14262714287961353 None\n",
      "0.1250003309314818 None\n",
      "0.14044889245212405 None\n",
      "0.1396940876732731 None\n",
      "0.13909260648977687 None\n",
      "0.13868926565552459 None\n"
     ]
    },
    {
     "data": {
      "application/vnd.jupyter.widget-view+json": {
       "model_id": "743597a01bb84b8fb88262ce7d669250",
       "version_major": 2,
       "version_minor": 0
      },
      "text/plain": [
       "  0%|          | 0/2000 [00:00<?, ?it/s]"
      ]
     },
     "metadata": {},
     "output_type": "display_data"
    },
    {
     "name": "stdout",
     "output_type": "stream",
     "text": [
      "0.3118228989453352 None\n",
      "0.2830739687307946 None\n",
      "0.2542083661626222 None\n",
      "0.22551166165658776 None\n",
      "0.19712326727570637 None\n",
      "0.16831987743653254 None\n",
      "0.15250219819432415 None\n",
      "0.16304830555766422 None\n",
      "0.14067043980492674 None\n",
      "0.1347448802892439 None\n",
      "0.12991589480764304 None\n",
      "0.14090737290092822 None\n",
      "0.13421033140239286 None\n",
      "0.12918226008744552 None\n",
      "0.12495391585216581 None\n",
      "0.12108627909468832 None\n",
      "0.11769863874186909 None\n",
      "0.11441179344086694 None\n",
      "0.11280946048950437 None\n",
      "0.11191028480524173 None\n",
      "0.12790644174239818 None\n"
     ]
    },
    {
     "data": {
      "application/vnd.jupyter.widget-view+json": {
       "model_id": "701f336543cb4faf861b1de4ebfcd7be",
       "version_major": 2,
       "version_minor": 0
      },
      "text/plain": [
       "  0%|          | 0/2000 [00:00<?, ?it/s]"
      ]
     },
     "metadata": {},
     "output_type": "display_data"
    },
    {
     "name": "stdout",
     "output_type": "stream",
     "text": [
      "0.32686247387910394 None\n",
      "0.28222859293786906 None\n",
      "0.2697340772325518 None\n",
      "0.24089971107148442 None\n",
      "0.21248599272125399 None\n",
      "0.1845295891827639 None\n",
      "0.14092969288272042 None\n",
      "0.14744554626488182 None\n",
      "0.1395264925411682 None\n",
      "0.1154842648826914 None\n",
      "0.12429859737835133 None\n",
      "0.11951125100738094 None\n",
      "0.09993169344114436 None\n",
      "0.1141434225780797 None\n",
      "0.09869715548228601 None\n",
      "0.11414291311587918 None\n",
      "0.11414291311127786 None\n",
      "0.11414291312082862 None\n",
      "0.09869715545564184 None\n",
      "0.11414291311348479 None\n",
      "0.11414291312222306 None\n"
     ]
    },
    {
     "data": {
      "application/vnd.jupyter.widget-view+json": {
       "model_id": "1a4c165106c4489bb4f2f9ffafe27ee0",
       "version_major": 2,
       "version_minor": 0
      },
      "text/plain": [
       "  0%|          | 0/2000 [00:00<?, ?it/s]"
      ]
     },
     "metadata": {},
     "output_type": "display_data"
    },
    {
     "name": "stdout",
     "output_type": "stream",
     "text": [
      "0.3043895329105751 None\n",
      "0.2759381341425099 None\n",
      "0.2476392912626108 None\n",
      "0.21961776065231797 None\n",
      "0.19182369404822955 None\n",
      "0.164433579435157 None\n",
      "0.13740912540011807 None\n",
      "0.12237679446224342 None\n",
      "0.131190117866575 None\n",
      "0.10794685064573627 None\n",
      "0.11793376668339758 None\n",
      "0.09593538427711434 None\n",
      "0.10729959643048427 None\n",
      "0.10297287209730853 None\n",
      "0.09868753102651265 None\n",
      "0.081079883032696 None\n",
      "0.0762259918293205 None\n",
      "0.07044257259394632 None\n",
      "0.08581555695613788 None\n",
      "0.06846991535981096 None\n",
      "0.06845049035633909 None\n"
     ]
    },
    {
     "data": {
      "application/vnd.jupyter.widget-view+json": {
       "model_id": "9d0e3c4e9ff5428ab1c611e66b29b7e4",
       "version_major": 2,
       "version_minor": 0
      },
      "text/plain": [
       "  0%|          | 0/2000 [00:00<?, ?it/s]"
      ]
     },
     "metadata": {},
     "output_type": "display_data"
    },
    {
     "name": "stdout",
     "output_type": "stream",
     "text": [
      "0.3064814032660466 None\n",
      "0.2941388134280957 None\n",
      "0.25035682710020346 None\n",
      "0.2382214594832306 None\n",
      "0.1955748407467952 None\n",
      "0.16908156338107333 None\n",
      "0.1594720291159758 None\n",
      "0.11942312410041767 None\n",
      "0.11464304694839589 None\n",
      "0.09113903256407431 None\n",
      "0.08418116137656081 None\n",
      "0.09426226912543405 None\n",
      "0.07209026847177566 None\n",
      "0.06662861345587374 None\n",
      "0.06165726103862907 None\n",
      "0.05683010456547359 None\n",
      "0.051626599332629745 None\n",
      "0.061682492869415975 None\n",
      "0.06913800740262982 None\n",
      "0.050725064802080416 None\n",
      "0.06566928148873194 None\n"
     ]
    },
    {
     "data": {
      "application/vnd.jupyter.widget-view+json": {
       "model_id": "f744977940714c058606ac2840d0916c",
       "version_major": 2,
       "version_minor": 0
      },
      "text/plain": [
       "  0%|          | 0/2000 [00:00<?, ?it/s]"
      ]
     },
     "metadata": {},
     "output_type": "display_data"
    },
    {
     "name": "stdout",
     "output_type": "stream",
     "text": [
      "0.30919678803212886 None\n",
      "0.29725268379979114 None\n",
      "0.25306464624052516 None\n",
      "0.22552671753429068 None\n",
      "0.19833669843676013 None\n",
      "0.17196260425060225 None\n",
      "0.1627011826648156 None\n",
      "0.12089588187257193 None\n",
      "0.11192892411501587 None\n",
      "0.08611845752398489 None\n",
      "0.07824286292100707 None\n",
      "0.07123494562040521 None\n",
      "0.08211488364562494 None\n",
      "0.060654638505070316 None\n",
      "0.055720187984932744 None\n",
      "0.05286779522861107 None\n",
      "0.05286133298369081 None\n",
      "0.06916272244301006 None\n",
      "0.08632462280152006 None\n",
      "0.06916272244289451 None\n",
      "0.06916272243847288 None\n",
      "Done!\n"
     ]
    }
   ],
   "source": [
    "n = 3\n",
    "d = 2**n\n",
    "\n",
    "np.random.seed(42)\n",
    "random.seed(42)\n",
    "tf.random.set_seed(42)\n",
    "rng = np.random.default_rng(seed=42)\n",
    "\n",
    "distance_best_list, model_best_list = fit_diluted_unitary(spectrum_target_list4, \n",
    "                                                          d=d, \n",
    "                                                          rank_start=1, \n",
    "                                                          rank_step=1,\n",
    "                                                          num_iter = 2000)\n",
    "\n",
    "saver([distance_best_list, model_best_list], data_path(\"diluted_fitting_32layer.model\"))"
   ]
  },
  {
   "cell_type": "markdown",
   "metadata": {},
   "source": [
    "## Four Qubits"
   ]
  },
  {
   "cell_type": "code",
   "execution_count": 38,
   "metadata": {},
   "outputs": [],
   "source": [
    "n = 4\n",
    "d = 2**n\n",
    "\n",
    "[model1, model2, model3, model4, model5] = loader(data_path(\"belem_4qubit_repeated.model\"))\n",
    "\n",
    "spectrum1 = channel_spectrum(model1.channel, use_coords=True)\n",
    "spectrum2 = channel_spectrum(model2.channel, use_coords=True) \n",
    "spectrum3 = channel_spectrum(model3.channel, use_coords=True)\n",
    "spectrum4 = channel_spectrum(model4.channel, use_coords=True)\n",
    "spectrum5 = channel_spectrum(model5.channel, use_coords=True)"
   ]
  },
  {
   "cell_type": "code",
   "execution_count": 39,
   "metadata": {
    "scrolled": true
   },
   "outputs": [
    {
     "data": {
      "application/vnd.jupyter.widget-view+json": {
       "model_id": "8a9fdc3d90b144b1b7643197f9a3acff",
       "version_major": 2,
       "version_minor": 0
      },
      "text/plain": [
       "  0%|          | 0/1000 [00:00<?, ?it/s]"
      ]
     },
     "metadata": {},
     "output_type": "display_data"
    },
    {
     "name": "stdout",
     "output_type": "stream",
     "text": [
      "0.2085285055390247 None\n",
      "0.20772108047127816 None\n",
      "0.20304760627128066 None\n",
      "0.20304064670395125 None\n",
      "0.2069356299367542 None\n",
      "0.20304064668710342 None\n",
      "0.2030406466871089 None\n",
      "0.20693562993675918 None\n",
      "0.2069356299367567 None\n",
      "0.20693562993676387 None\n",
      "0.2069356299367602 None\n"
     ]
    },
    {
     "data": {
      "application/vnd.jupyter.widget-view+json": {
       "model_id": "c15b3c0357e0460f9e02fb18deadad1a",
       "version_major": 2,
       "version_minor": 0
      },
      "text/plain": [
       "  0%|          | 0/1000 [00:00<?, ?it/s]"
      ]
     },
     "metadata": {},
     "output_type": "display_data"
    },
    {
     "name": "stdout",
     "output_type": "stream",
     "text": [
      "0.11264331762034509 None\n",
      "0.0980024674459395 None\n",
      "0.08987219399363602 None\n",
      "0.08840771668118627 None\n",
      "0.08463397391653817 None\n",
      "0.08439493711056795 None\n",
      "0.08047951703712536 None\n",
      "0.08047595936629584 None\n",
      "0.0843816241188914 None\n",
      "0.08048799919145525 None\n",
      "0.08048236400424513 None\n"
     ]
    },
    {
     "data": {
      "application/vnd.jupyter.widget-view+json": {
       "model_id": "f584cad98c7142cbb2fac18bca35b830",
       "version_major": 2,
       "version_minor": 0
      },
      "text/plain": [
       "  0%|          | 0/1000 [00:00<?, ?it/s]"
      ]
     },
     "metadata": {},
     "output_type": "display_data"
    },
    {
     "name": "stdout",
     "output_type": "stream",
     "text": [
      "0.08179303421434503 None\n",
      "0.07292606770139459 None\n",
      "0.05433287940443949 None\n",
      "0.03781677753005208 None\n",
      "0.03714822587149737 None\n",
      "0.04488514996209556 None\n",
      "0.04869178043953505 None\n",
      "0.04490015078476678 None\n",
      "0.0371613657286246 None\n",
      "0.037154730010431285 None\n",
      "0.041069807144451013 None\n"
     ]
    },
    {
     "data": {
      "application/vnd.jupyter.widget-view+json": {
       "model_id": "43ab01d8c84043a4844368428d4a705f",
       "version_major": 2,
       "version_minor": 0
      },
      "text/plain": [
       "  0%|          | 0/1000 [00:00<?, ?it/s]"
      ]
     },
     "metadata": {},
     "output_type": "display_data"
    },
    {
     "name": "stdout",
     "output_type": "stream",
     "text": [
      "0.07442666419691513 None\n",
      "0.05568937467312535 None\n",
      "0.042611430982425764 None\n",
      "0.028929146443495382 None\n",
      "0.028341364863584777 None\n",
      "0.024501595779891187 None\n",
      "0.028382240063510446 None\n",
      "0.024460262082326444 None\n",
      "0.024427008400701604 None\n",
      "0.02442681938579511 None\n",
      "0.028344455042548494 None\n"
     ]
    },
    {
     "data": {
      "application/vnd.jupyter.widget-view+json": {
       "model_id": "93df55a1a9d74af38886b2fe1ba09ac3",
       "version_major": 2,
       "version_minor": 0
      },
      "text/plain": [
       "  0%|          | 0/1000 [00:00<?, ?it/s]"
      ]
     },
     "metadata": {},
     "output_type": "display_data"
    },
    {
     "name": "stdout",
     "output_type": "stream",
     "text": [
      "0.07175205409992282 None\n",
      "0.05169491133922688 None\n",
      "0.02933877641943553 None\n",
      "0.019047790828688273 None\n",
      "0.018850488048671305 None\n",
      "0.018895959245939495 None\n",
      "0.01884630395534294 None\n",
      "0.01501461515254779 None\n",
      "0.01887185268611696 None\n",
      "0.01888889103816581 None\n",
      "0.018881501754407046 None\n"
     ]
    },
    {
     "data": {
      "application/vnd.jupyter.widget-view+json": {
       "model_id": "d05cb7d161014af994b59ddddfd9616f",
       "version_major": 2,
       "version_minor": 0
      },
      "text/plain": [
       "  0%|          | 0/1000 [00:00<?, ?it/s]"
      ]
     },
     "metadata": {},
     "output_type": "display_data"
    },
    {
     "name": "stdout",
     "output_type": "stream",
     "text": [
      "0.07576072862074666 None\n",
      "0.04398744385803457 None\n",
      "0.030950348240939844 None\n",
      "0.009882378234267492 None\n",
      "0.012704900791466972 None\n",
      "0.008759763888438842 None\n",
      "0.008815173087525382 None\n",
      "0.008773575271732847 None\n",
      "0.008794031421889364 None\n",
      "0.01268813493719461 None\n",
      "0.01266400545852529 None\n"
     ]
    },
    {
     "data": {
      "application/vnd.jupyter.widget-view+json": {
       "model_id": "eabced513ead4bd8a9aba96d129def1d",
       "version_major": 2,
       "version_minor": 0
      },
      "text/plain": [
       "  0%|          | 0/1000 [00:00<?, ?it/s]"
      ]
     },
     "metadata": {},
     "output_type": "display_data"
    },
    {
     "name": "stdout",
     "output_type": "stream",
     "text": [
      "0.07115475166539846 None\n",
      "0.047163327480598996 None\n",
      "0.0238526881661157 None\n",
      "0.008812122236760082 None\n",
      "0.004370943866744979 None\n",
      "0.008220263459237532 None\n",
      "0.008253080984711328 None\n",
      "0.004359026431107595 None\n",
      "0.004371077050302812 None\n",
      "0.008234013563149855 None\n",
      "0.004320234593643826 None\n"
     ]
    },
    {
     "data": {
      "application/vnd.jupyter.widget-view+json": {
       "model_id": "ad496bd1a78b4d2fb9f80c978b158629",
       "version_major": 2,
       "version_minor": 0
      },
      "text/plain": [
       "  0%|          | 0/1000 [00:00<?, ?it/s]"
      ]
     },
     "metadata": {},
     "output_type": "display_data"
    },
    {
     "name": "stdout",
     "output_type": "stream",
     "text": [
      "0.07544832727050488 None\n",
      "0.047983374209919605 None\n",
      "0.020495751950615575 None\n",
      "0.00266660494267037 None\n",
      "0.002519459108687905 None\n",
      "0.0024549374849748124 None\n",
      "0.00248198623793877 None\n",
      "0.0024772515921205646 None\n",
      "0.002486610360585952 None\n",
      "0.002481699596648453 None\n",
      "0.002464453382341284 None\n"
     ]
    },
    {
     "data": {
      "application/vnd.jupyter.widget-view+json": {
       "model_id": "b61680717c5849a1a1a217c21d967219",
       "version_major": 2,
       "version_minor": 0
      },
      "text/plain": [
       "  0%|          | 0/1000 [00:00<?, ?it/s]"
      ]
     },
     "metadata": {},
     "output_type": "display_data"
    },
    {
     "name": "stdout",
     "output_type": "stream",
     "text": [
      "0.08038972484698108 None\n",
      "0.04932932829120148 None\n",
      "0.02583176606751496 None\n",
      "0.0016415419940773344 None\n",
      "0.00539654763815662 None\n",
      "0.005381804959246181 None\n",
      "0.009250882757283517 None\n",
      "0.005411452103680733 None\n",
      "0.0015054436387361438 None\n",
      "0.005386699433998443 None\n",
      "0.0015384608055065562 None\n"
     ]
    },
    {
     "data": {
      "application/vnd.jupyter.widget-view+json": {
       "model_id": "4ff623f691ed4613a4a68ec8c96cf87c",
       "version_major": 2,
       "version_minor": 0
      },
      "text/plain": [
       "  0%|          | 0/1000 [00:00<?, ?it/s]"
      ]
     },
     "metadata": {},
     "output_type": "display_data"
    },
    {
     "name": "stdout",
     "output_type": "stream",
     "text": [
      "0.07564137349156974 None\n",
      "0.04860920626157788 None\n",
      "0.02161592917454029 None\n",
      "0.0018700385480870058 None\n",
      "0.001617774365076723 None\n",
      "0.0016150190354173955 None\n",
      "0.0016229007402945677 None\n",
      "0.0016310892147336394 None\n",
      "0.0016152285462323463 None\n",
      "0.0016117318143597462 None\n",
      "0.0016449867136785795 None\n",
      "Done!\n"
     ]
    }
   ],
   "source": [
    "distance_best, model_best = optimize_annulus_distance(spectrum_target = spectrum1, \n",
    "                                                      d = d, \n",
    "                                                      rank_start = 1, \n",
    "                                                      rank_step = 1,\n",
    "                                                      num_iter = 1000)\n",
    "\n",
    "model_best.optimizer = None\n",
    "saver([distance_best, model_best], data_path(\"diluted_fitting_4qubit_8layer.model\"))"
   ]
  },
  {
   "cell_type": "code",
   "execution_count": 40,
   "metadata": {},
   "outputs": [
    {
     "data": {
      "application/vnd.jupyter.widget-view+json": {
       "model_id": "3116de4a18984d37b7803281e5e61e72",
       "version_major": 2,
       "version_minor": 0
      },
      "text/plain": [
       "  0%|          | 0/1000 [00:00<?, ?it/s]"
      ]
     },
     "metadata": {},
     "output_type": "display_data"
    },
    {
     "name": "stdout",
     "output_type": "stream",
     "text": [
      "0.3529513921426881 None\n",
      "0.345806609160031 None\n",
      "0.3440198959077034 None\n",
      "0.34376247216784356 None\n",
      "0.3437408139234092 None\n",
      "0.3397908991599398 None\n",
      "0.34373910900830096 None\n",
      "0.33979079231476966 None\n",
      "0.3397907921962647 None\n",
      "0.34373910447705985 None\n",
      "0.34373910447704487 None\n"
     ]
    },
    {
     "data": {
      "application/vnd.jupyter.widget-view+json": {
       "model_id": "e8ae793414d943c4ab8d1dbafd023b88",
       "version_major": 2,
       "version_minor": 0
      },
      "text/plain": [
       "  0%|          | 0/1000 [00:00<?, ?it/s]"
      ]
     },
     "metadata": {},
     "output_type": "display_data"
    },
    {
     "name": "stdout",
     "output_type": "stream",
     "text": [
      "0.250967453470484 None\n",
      "0.24350532361898186 None\n",
      "0.23184137963658052 None\n",
      "0.2247380449891482 None\n",
      "0.22863315635506792 None\n",
      "0.22863315635120013 None\n",
      "0.2324753629364637 None\n",
      "0.22863315635106185 None\n",
      "0.22473803692417552 None\n",
      "0.22863315635109657 None\n",
      "0.2286331563511019 None\n"
     ]
    },
    {
     "data": {
      "application/vnd.jupyter.widget-view+json": {
       "model_id": "bab328c4a9bb43d3ab5281eb5883ff6e",
       "version_major": 2,
       "version_minor": 0
      },
      "text/plain": [
       "  0%|          | 0/1000 [00:00<?, ?it/s]"
      ]
     },
     "metadata": {},
     "output_type": "display_data"
    },
    {
     "name": "stdout",
     "output_type": "stream",
     "text": [
      "0.2253631182236003 None\n",
      "0.20928097575926022 None\n",
      "0.1950291052988325 None\n",
      "0.18266570496854723 None\n",
      "0.17228088058588678 None\n",
      "0.164981573277751 None\n",
      "0.15992149220524457 None\n",
      "0.15955638097442157 None\n",
      "0.14959223461730745 None\n",
      "0.14969131998069432 None\n",
      "0.15371483375923556 None\n"
     ]
    },
    {
     "data": {
      "application/vnd.jupyter.widget-view+json": {
       "model_id": "396eb936e83e4b02bc234c4b99a39f3f",
       "version_major": 2,
       "version_minor": 0
      },
      "text/plain": [
       "  0%|          | 0/1000 [00:00<?, ?it/s]"
      ]
     },
     "metadata": {},
     "output_type": "display_data"
    },
    {
     "name": "stdout",
     "output_type": "stream",
     "text": [
      "0.21101540404175687 None\n",
      "0.1916713629946105 None\n",
      "0.17745797810539157 None\n",
      "0.1615186223381367 None\n",
      "0.14361404045892429 None\n",
      "0.13634080368907928 None\n",
      "0.12396764151425844 None\n",
      "0.12076490429280846 None\n",
      "0.11428921211093528 None\n",
      "0.10560719338146116 None\n",
      "0.10622546671037801 None\n"
     ]
    },
    {
     "data": {
      "application/vnd.jupyter.widget-view+json": {
       "model_id": "7ad296df77624642bce05d555de546db",
       "version_major": 2,
       "version_minor": 0
      },
      "text/plain": [
       "  0%|          | 0/1000 [00:00<?, ?it/s]"
      ]
     },
     "metadata": {},
     "output_type": "display_data"
    },
    {
     "name": "stdout",
     "output_type": "stream",
     "text": [
      "0.22512285686398634 None\n",
      "0.20068837848578272 None\n",
      "0.17100871922996186 None\n",
      "0.1608450476802761 None\n",
      "0.14708884219847315 None\n",
      "0.13019465118452078 None\n",
      "0.11859369157451274 None\n",
      "0.11257464182069143 None\n",
      "0.10009140254292935 None\n",
      "0.09293378792898253 None\n",
      "0.08675752231735082 None\n"
     ]
    },
    {
     "data": {
      "application/vnd.jupyter.widget-view+json": {
       "model_id": "013a6c9f92e54c8589a125bc246ad445",
       "version_major": 2,
       "version_minor": 0
      },
      "text/plain": [
       "  0%|          | 0/1000 [00:00<?, ?it/s]"
      ]
     },
     "metadata": {},
     "output_type": "display_data"
    },
    {
     "name": "stdout",
     "output_type": "stream",
     "text": [
      "0.2208780302337179 None\n",
      "0.19667998676529683 None\n",
      "0.16435325918578575 None\n",
      "0.14632467552633777 None\n",
      "0.13198426699864746 None\n",
      "0.12205702755551365 None\n",
      "0.10515012528872157 None\n",
      "0.09760015020813351 None\n",
      "0.09138795748762911 None\n",
      "0.07825354366037778 None\n",
      "0.07091959671925854 None\n"
     ]
    },
    {
     "data": {
      "application/vnd.jupyter.widget-view+json": {
       "model_id": "031b94c9ee5644fda131de897b78402e",
       "version_major": 2,
       "version_minor": 0
      },
      "text/plain": [
       "  0%|          | 0/1000 [00:00<?, ?it/s]"
      ]
     },
     "metadata": {},
     "output_type": "display_data"
    },
    {
     "name": "stdout",
     "output_type": "stream",
     "text": [
      "0.22112219562522764 None\n",
      "0.19307991435987742 None\n",
      "0.168862202084925 None\n",
      "0.14062772187057715 None\n",
      "0.12180700735296209 None\n",
      "0.10426407043366252 None\n",
      "0.09126088650631407 None\n",
      "0.07918809497729296 None\n",
      "0.06811549214482705 None\n",
      "0.06214954349370964 None\n",
      "0.054573274496857054 None\n"
     ]
    },
    {
     "data": {
      "application/vnd.jupyter.widget-view+json": {
       "model_id": "78a5306f35814c8ea11e67b8ce9b2456",
       "version_major": 2,
       "version_minor": 0
      },
      "text/plain": [
       "  0%|          | 0/1000 [00:00<?, ?it/s]"
      ]
     },
     "metadata": {},
     "output_type": "display_data"
    },
    {
     "name": "stdout",
     "output_type": "stream",
     "text": [
      "0.22180298975524995 None\n",
      "0.1979763071327985 None\n",
      "0.17003189379797046 None\n",
      "0.14189735280316426 None\n",
      "0.1135595211946302 None\n",
      "0.09922071935900223 None\n",
      "0.08516789320073861 None\n",
      "0.07188964235726267 None\n",
      "0.06400726928438115 None\n",
      "0.053142097976664415 None\n",
      "0.03993944512129645 None\n"
     ]
    },
    {
     "data": {
      "application/vnd.jupyter.widget-view+json": {
       "model_id": "7fe2f37f836d43fc88f24932ffa4c15e",
       "version_major": 2,
       "version_minor": 0
      },
      "text/plain": [
       "  0%|          | 0/1000 [00:00<?, ?it/s]"
      ]
     },
     "metadata": {},
     "output_type": "display_data"
    },
    {
     "name": "stdout",
     "output_type": "stream",
     "text": [
      "0.2272587379311117 None\n",
      "0.19589698724555685 None\n",
      "0.1684777599853118 None\n",
      "0.14494393973594077 None\n",
      "0.11775023177031718 None\n",
      "0.09864020988796374 None\n",
      "0.0810443921654288 None\n",
      "0.06787174493451782 None\n",
      "0.05929271571305265 None\n",
      "0.04460414486175316 None\n",
      "0.03897703810380728 None\n"
     ]
    },
    {
     "data": {
      "application/vnd.jupyter.widget-view+json": {
       "model_id": "43d6c4b29eba47ba8e2d9ecb75c5223c",
       "version_major": 2,
       "version_minor": 0
      },
      "text/plain": [
       "  0%|          | 0/1000 [00:00<?, ?it/s]"
      ]
     },
     "metadata": {},
     "output_type": "display_data"
    },
    {
     "name": "stdout",
     "output_type": "stream",
     "text": [
      "0.22360995667378425 None\n",
      "0.1963424715553337 None\n",
      "0.16893005482103318 None\n",
      "0.14564987646083183 None\n",
      "0.11497453377873726 None\n",
      "0.09255022114087262 None\n",
      "0.07761665541678851 None\n",
      "0.06013443781815561 None\n",
      "0.05137125388634822 None\n",
      "0.039654506397242384 None\n",
      "0.033113250896155876 None\n"
     ]
    },
    {
     "data": {
      "application/vnd.jupyter.widget-view+json": {
       "model_id": "542831db273244b5aca46c26d077cc5a",
       "version_major": 2,
       "version_minor": 0
      },
      "text/plain": [
       "  0%|          | 0/1000 [00:00<?, ?it/s]"
      ]
     },
     "metadata": {},
     "output_type": "display_data"
    },
    {
     "name": "stdout",
     "output_type": "stream",
     "text": [
      "0.2268406339835115 None\n",
      "0.1998342529499487 None\n",
      "0.17290448183732418 None\n",
      "0.14614015902310926 None\n",
      "0.11969569975244611 None\n",
      "0.09759680868163365 None\n",
      "0.07193442558204251 None\n",
      "0.05819538454916088 None\n",
      "0.04532175123722934 None\n",
      "0.03741434996320242 None\n",
      "0.023002964804349567 None\n"
     ]
    },
    {
     "data": {
      "application/vnd.jupyter.widget-view+json": {
       "model_id": "4542024953db4f4caa87b6ab68ba5cb5",
       "version_major": 2,
       "version_minor": 0
      },
      "text/plain": [
       "  0%|          | 0/1000 [00:00<?, ?it/s]"
      ]
     },
     "metadata": {},
     "output_type": "display_data"
    },
    {
     "name": "stdout",
     "output_type": "stream",
     "text": [
      "0.22834278642890707 None\n",
      "0.20138511025382705 None\n",
      "0.17440440229340987 None\n",
      "0.1474660342732396 None\n",
      "0.12094772501475168 None\n",
      "0.0910862743998344 None\n",
      "0.06593259760953926 None\n",
      "0.055910144236786787 None\n",
      "0.03906065170351152 None\n",
      "0.030978911481676637 None\n",
      "0.020087548410264527 None\n"
     ]
    },
    {
     "data": {
      "application/vnd.jupyter.widget-view+json": {
       "model_id": "e08aaae9e2cd45e5b9b914d1e7a365ad",
       "version_major": 2,
       "version_minor": 0
      },
      "text/plain": [
       "  0%|          | 0/1000 [00:00<?, ?it/s]"
      ]
     },
     "metadata": {},
     "output_type": "display_data"
    },
    {
     "name": "stdout",
     "output_type": "stream",
     "text": [
      "0.22813497407010586 None\n",
      "0.20516523373941534 None\n",
      "0.178303863784635 None\n",
      "0.1516834018602287 None\n",
      "0.12153802683019785 None\n",
      "0.09582957478698785 None\n",
      "0.07065075261252601 None\n",
      "0.05357838714627559 None\n",
      "0.04011512454082793 None\n",
      "0.027357670603929515 None\n",
      "0.01947512505756322 None\n"
     ]
    },
    {
     "data": {
      "application/vnd.jupyter.widget-view+json": {
       "model_id": "ae38682e1b984193a5abf08ada43b991",
       "version_major": 2,
       "version_minor": 0
      },
      "text/plain": [
       "  0%|          | 0/1000 [00:00<?, ?it/s]"
      ]
     },
     "metadata": {},
     "output_type": "display_data"
    },
    {
     "name": "stdout",
     "output_type": "stream",
     "text": [
      "0.22846413978072966 None\n",
      "0.19765559477213673 None\n",
      "0.17483410438178562 None\n",
      "0.14834916218940206 None\n",
      "0.12230124385554668 None\n",
      "0.09269109556431822 None\n",
      "0.06767418285884577 None\n",
      "0.050173549896082296 None\n",
      "0.03703190008798793 None\n",
      "0.024663674944777513 None\n",
      "0.009173463758337967 None\n"
     ]
    },
    {
     "data": {
      "application/vnd.jupyter.widget-view+json": {
       "model_id": "d45501af3c5f40d7bc1a5bded97fedbe",
       "version_major": 2,
       "version_minor": 0
      },
      "text/plain": [
       "  0%|          | 0/1000 [00:00<?, ?it/s]"
      ]
     },
     "metadata": {},
     "output_type": "display_data"
    },
    {
     "name": "stdout",
     "output_type": "stream",
     "text": [
      "0.2305143131514942 None\n",
      "0.2036806260601801 None\n",
      "0.17689531040916348 None\n",
      "0.1503958122956705 None\n",
      "0.12034694118531288 None\n",
      "0.09476613804492098 None\n",
      "0.0738847379425756 None\n",
      "0.05213050372418569 None\n",
      "0.0385508245308883 None\n",
      "0.025591005072525992 None\n",
      "0.013467920069588461 None\n",
      "Done!\n"
     ]
    }
   ],
   "source": [
    "distance_best, model_best = optimize_annulus_distance(spectrum_target = spectrum2, \n",
    "                                                      d = d, \n",
    "                                                      rank_start = 1, \n",
    "                                                      rank_step = 1,\n",
    "                                                      num_iter = 1000)\n",
    "\n",
    "model_best.optimizer = None\n",
    "saver([distance_best, model_best], data_path(\"diluted_fitting_4qubit_16layer.model\"))"
   ]
  },
  {
   "cell_type": "code",
   "execution_count": 41,
   "metadata": {},
   "outputs": [
    {
     "data": {
      "application/vnd.jupyter.widget-view+json": {
       "model_id": "97cd3848ce5543de9a0b536f2a9a3812",
       "version_major": 2,
       "version_minor": 0
      },
      "text/plain": [
       "  0%|          | 0/1000 [00:00<?, ?it/s]"
      ]
     },
     "metadata": {},
     "output_type": "display_data"
    },
    {
     "name": "stdout",
     "output_type": "stream",
     "text": [
      "0.4539175078479235 None\n",
      "0.45174514281701017 None\n",
      "0.45165340280746924 None\n",
      "0.45165339931227494 None\n",
      "0.4477052567735745 None\n",
      "0.4477052567735713 None\n",
      "0.4516533993122748 None\n",
      "0.4516533993122908 None\n",
      "0.4516533993122783 None\n",
      "0.45165339931229403 None\n",
      "0.45554839402846736 None\n"
     ]
    },
    {
     "data": {
      "application/vnd.jupyter.widget-view+json": {
       "model_id": "74009fda7c504e378baa9f999815dc5f",
       "version_major": 2,
       "version_minor": 0
      },
      "text/plain": [
       "  0%|          | 0/1000 [00:00<?, ?it/s]"
      ]
     },
     "metadata": {},
     "output_type": "display_data"
    },
    {
     "name": "stdout",
     "output_type": "stream",
     "text": [
      "0.3589258361692094 None\n",
      "0.3517529726960299 None\n",
      "0.34024372616421006 None\n",
      "0.3424727992935695 None\n",
      "0.3273484740336213 None\n",
      "0.3290353957370658 None\n",
      "0.3357251906420423 None\n",
      "0.3279189447674703 None\n",
      "0.3318138838559316 None\n",
      "0.3318138838560613 None\n",
      "0.3318138838589909 None\n"
     ]
    },
    {
     "data": {
      "application/vnd.jupyter.widget-view+json": {
       "model_id": "c89159389562405c97d70461ed40fe70",
       "version_major": 2,
       "version_minor": 0
      },
      "text/plain": [
       "  0%|          | 0/1000 [00:00<?, ?it/s]"
      ]
     },
     "metadata": {},
     "output_type": "display_data"
    },
    {
     "name": "stdout",
     "output_type": "stream",
     "text": [
      "0.3348028785231055 None\n",
      "0.32215940617453015 None\n",
      "0.3111162450270051 None\n",
      "0.28729777650825095 None\n",
      "0.28148994789510495 None\n",
      "0.274967939241858 None\n",
      "0.2698046823379161 None\n",
      "0.2659914082988306 None\n",
      "0.26046282710024543 None\n",
      "0.2563795643820661 None\n",
      "0.24900015768068895 None\n"
     ]
    },
    {
     "data": {
      "application/vnd.jupyter.widget-view+json": {
       "model_id": "276ed9c6c05d4de68e716f4819961039",
       "version_major": 2,
       "version_minor": 0
      },
      "text/plain": [
       "  0%|          | 0/1000 [00:00<?, ?it/s]"
      ]
     },
     "metadata": {},
     "output_type": "display_data"
    },
    {
     "name": "stdout",
     "output_type": "stream",
     "text": [
      "0.34015046474998173 None\n",
      "0.3026974061766733 None\n",
      "0.2968430721291658 None\n",
      "0.27976501810701254 None\n",
      "0.2709116072771887 None\n",
      "0.2551796617564307 None\n",
      "0.2491095329565274 None\n",
      "0.24075968959395705 None\n",
      "0.23407886192619168 None\n",
      "0.22882918803521177 None\n",
      "0.22519077113293756 None\n"
     ]
    },
    {
     "data": {
      "application/vnd.jupyter.widget-view+json": {
       "model_id": "1e63e94df47e4981a4ef7e50e80189ec",
       "version_major": 2,
       "version_minor": 0
      },
      "text/plain": [
       "  0%|          | 0/1000 [00:00<?, ?it/s]"
      ]
     },
     "metadata": {},
     "output_type": "display_data"
    },
    {
     "name": "stdout",
     "output_type": "stream",
     "text": [
      "0.3379592602550576 None\n",
      "0.3173336219830438 None\n",
      "0.2884754635440271 None\n",
      "0.2658849298304568 None\n",
      "0.24615360611449744 None\n",
      "0.23866829296066724 None\n",
      "0.22441551591135103 None\n",
      "0.21465439133122793 None\n",
      "0.21439652146303048 None\n",
      "0.20405762528978919 None\n",
      "0.1988024689658915 None\n"
     ]
    },
    {
     "data": {
      "application/vnd.jupyter.widget-view+json": {
       "model_id": "105439e88f324d4bbba771bfdb77c260",
       "version_major": 2,
       "version_minor": 0
      },
      "text/plain": [
       "  0%|          | 0/1000 [00:00<?, ?it/s]"
      ]
     },
     "metadata": {},
     "output_type": "display_data"
    },
    {
     "name": "stdout",
     "output_type": "stream",
     "text": [
      "0.3418182266541829 None\n",
      "0.30979696534914625 None\n",
      "0.2930644077028159 None\n",
      "0.25660940484417627 None\n",
      "0.2347281309913588 None\n",
      "0.22287032397148376 None\n",
      "0.21566075199462015 None\n",
      "0.2092636845807475 None\n",
      "0.2001416343948911 None\n",
      "0.18422353222917048 None\n",
      "0.18077490528762197 None\n"
     ]
    },
    {
     "data": {
      "application/vnd.jupyter.widget-view+json": {
       "model_id": "5cb90eedbe8848da978b5c5ce7ec4b8f",
       "version_major": 2,
       "version_minor": 0
      },
      "text/plain": [
       "  0%|          | 0/1000 [00:00<?, ?it/s]"
      ]
     },
     "metadata": {},
     "output_type": "display_data"
    },
    {
     "name": "stdout",
     "output_type": "stream",
     "text": [
      "0.3440941833412342 None\n",
      "0.31644150969831164 None\n",
      "0.284658593356159 None\n",
      "0.260761718892512 None\n",
      "0.2369365500213788 None\n",
      "0.2179221785118715 None\n",
      "0.19841268443294338 None\n",
      "0.19526832205487862 None\n",
      "0.18505699198578382 None\n",
      "0.16832142373214393 None\n",
      "0.16479141497088678 None\n"
     ]
    },
    {
     "data": {
      "application/vnd.jupyter.widget-view+json": {
       "model_id": "8079610890a24c02bab263dd3e628241",
       "version_major": 2,
       "version_minor": 0
      },
      "text/plain": [
       "  0%|          | 0/1000 [00:00<?, ?it/s]"
      ]
     },
     "metadata": {},
     "output_type": "display_data"
    },
    {
     "name": "stdout",
     "output_type": "stream",
     "text": [
      "0.3463847964922402 None\n",
      "0.32275281602062683 None\n",
      "0.2871955724411485 None\n",
      "0.2593709676337311 None\n",
      "0.2316683691492266 None\n",
      "0.20953221791737514 None\n",
      "0.1937392624291634 None\n",
      "0.1823506058839934 None\n",
      "0.17569289782848416 None\n",
      "0.16586449166266237 None\n",
      "0.16103608766954908 None\n"
     ]
    },
    {
     "data": {
      "application/vnd.jupyter.widget-view+json": {
       "model_id": "968268f8e81f4d25a5b38b4042d79fc4",
       "version_major": 2,
       "version_minor": 0
      },
      "text/plain": [
       "  0%|          | 0/1000 [00:00<?, ?it/s]"
      ]
     },
     "metadata": {},
     "output_type": "display_data"
    },
    {
     "name": "stdout",
     "output_type": "stream",
     "text": [
      "0.3465096641273154 None\n",
      "0.3191817911476386 None\n",
      "0.29181148173055066 None\n",
      "0.2685617310930157 None\n",
      "0.24137537103977788 None\n",
      "0.20675217271013585 None\n",
      "0.18846941566801811 None\n",
      "0.17665142978275622 None\n",
      "0.16562079508921598 None\n",
      "0.15523653515957692 None\n",
      "0.1459926605565075 None\n"
     ]
    },
    {
     "data": {
      "application/vnd.jupyter.widget-view+json": {
       "model_id": "83730154f26f4a8b9ffbb0d85da017e5",
       "version_major": 2,
       "version_minor": 0
      },
      "text/plain": [
       "  0%|          | 0/1000 [00:00<?, ?it/s]"
      ]
     },
     "metadata": {},
     "output_type": "display_data"
    },
    {
     "name": "stdout",
     "output_type": "stream",
     "text": [
      "0.34693091095368955 None\n",
      "0.31974495635429523 None\n",
      "0.28862575793276724 None\n",
      "0.26546546499612156 None\n",
      "0.23857291276195808 None\n",
      "0.2119467336010309 None\n",
      "0.1857256327522243 None\n",
      "0.17099779913631435 None\n",
      "0.15941384546986495 None\n",
      "0.15673846311703646 None\n",
      "0.13937363174657685 None\n"
     ]
    },
    {
     "data": {
      "application/vnd.jupyter.widget-view+json": {
       "model_id": "c52341fdf3d24e4db5ca738828bb3947",
       "version_major": 2,
       "version_minor": 0
      },
      "text/plain": [
       "  0%|          | 0/1000 [00:00<?, ?it/s]"
      ]
     },
     "metadata": {},
     "output_type": "display_data"
    },
    {
     "name": "stdout",
     "output_type": "stream",
     "text": [
      "0.3480722205412848 None\n",
      "0.32108901077602314 None\n",
      "0.29405431448806957 None\n",
      "0.26719776739859497 None\n",
      "0.24471988597183328 None\n",
      "0.21876276115296103 None\n",
      "0.18945799783358508 None\n",
      "0.16077988856377814 None\n",
      "0.15180019784759524 None\n",
      "0.1411627135295701 None\n",
      "0.1351582658926172 None\n"
     ]
    },
    {
     "data": {
      "application/vnd.jupyter.widget-view+json": {
       "model_id": "76345b9bb96748d1a8e992c04b4f4b59",
       "version_major": 2,
       "version_minor": 0
      },
      "text/plain": [
       "  0%|          | 0/1000 [00:00<?, ?it/s]"
      ]
     },
     "metadata": {},
     "output_type": "display_data"
    },
    {
     "name": "stdout",
     "output_type": "stream",
     "text": [
      "0.34531633584905347 None\n",
      "0.3183544425941973 None\n",
      "0.2954230372429991 None\n",
      "0.272700966342984 None\n",
      "0.24246221160927361 None\n",
      "0.21653485758437707 None\n",
      "0.19113510664970282 None\n",
      "0.1703523124677783 None\n",
      "0.14344893569675055 None\n",
      "0.1405952565113639 None\n",
      "0.12673698236536343 None\n"
     ]
    },
    {
     "data": {
      "application/vnd.jupyter.widget-view+json": {
       "model_id": "ff47946e6c5541798d13754ac4628eb1",
       "version_major": 2,
       "version_minor": 0
      },
      "text/plain": [
       "  0%|          | 0/1000 [00:00<?, ?it/s]"
      ]
     },
     "metadata": {},
     "output_type": "display_data"
    },
    {
     "name": "stdout",
     "output_type": "stream",
     "text": [
      "0.3488273007525703 None\n",
      "0.3179745422829954 None\n",
      "0.2989845946623197 None\n",
      "0.2685571310672928 None\n",
      "0.24246179262153295 None\n",
      "0.21298132258259345 None\n",
      "0.19183449438834183 None\n",
      "0.1674903451589837 None\n",
      "0.14852292633569716 None\n",
      "0.12928814489619678 None\n",
      "0.12693192516140656 None\n",
      "Done!\n"
     ]
    }
   ],
   "source": [
    "distance_best, model_best = optimize_annulus_distance(spectrum_target = spectrum3, \n",
    "                                                      d = d, \n",
    "                                                      rank_start = 1, \n",
    "                                                      rank_step = 1,\n",
    "                                                      num_iter = 1000)\n",
    "\n",
    "model_best.optimizer = None\n",
    "saver([distance_best, model_best], data_path(\"diluted_fitting_4qubit_24layer.model\"))"
   ]
  },
  {
   "cell_type": "code",
   "execution_count": 42,
   "metadata": {},
   "outputs": [
    {
     "data": {
      "application/vnd.jupyter.widget-view+json": {
       "model_id": "baa3a1497bd04320ae6410395577f7ee",
       "version_major": 2,
       "version_minor": 0
      },
      "text/plain": [
       "  0%|          | 0/1000 [00:00<?, ?it/s]"
      ]
     },
     "metadata": {},
     "output_type": "display_data"
    },
    {
     "name": "stdout",
     "output_type": "stream",
     "text": [
      "0.5259592882768112 None\n",
      "0.5202041201413758 None\n",
      "0.5173054131193121 None\n",
      "0.5169367575737605 None\n",
      "0.5168865588654987 None\n",
      "0.5207765450952775 None\n",
      "0.520776127212733 None\n",
      "0.5168811397211148 None\n",
      "0.5168811385784982 None\n",
      "0.5207760999127549 None\n",
      "0.5168811385435712 None\n"
     ]
    },
    {
     "data": {
      "application/vnd.jupyter.widget-view+json": {
       "model_id": "8e2ab60ca851439f8b12bf56b4e37a76",
       "version_major": 2,
       "version_minor": 0
      },
      "text/plain": [
       "  0%|          | 0/1000 [00:00<?, ?it/s]"
      ]
     },
     "metadata": {},
     "output_type": "display_data"
    },
    {
     "name": "stdout",
     "output_type": "stream",
     "text": [
      "0.4204554912464412 None\n",
      "0.4044448859764608 None\n",
      "0.39963247750444386 None\n",
      "0.39373261519852065 None\n",
      "0.3911295415453419 None\n",
      "0.38673015858348586 None\n",
      "0.40241641247839655 None\n",
      "0.3869430399798697 None\n",
      "0.39478617723455706 None\n",
      "0.38694303997976276 None\n",
      "0.3908912103302758 None\n"
     ]
    },
    {
     "data": {
      "application/vnd.jupyter.widget-view+json": {
       "model_id": "b11e7b29bd894658b33adae11f8fe8fc",
       "version_major": 2,
       "version_minor": 0
      },
      "text/plain": [
       "  0%|          | 0/1000 [00:00<?, ?it/s]"
      ]
     },
     "metadata": {},
     "output_type": "display_data"
    },
    {
     "name": "stdout",
     "output_type": "stream",
     "text": [
      "0.40587682846149903 None\n",
      "0.38951597500915336 None\n",
      "0.36788468820109876 None\n",
      "0.35608397819490195 None\n",
      "0.3543820521955582 None\n",
      "0.3403846166078198 None\n",
      "0.33254442152708685 None\n",
      "0.33404344423350996 None\n",
      "0.3283937544495783 None\n",
      "0.3301487775561958 None\n",
      "0.31832716266452754 None\n"
     ]
    },
    {
     "data": {
      "application/vnd.jupyter.widget-view+json": {
       "model_id": "1529d12c333943c99944341ec9a6fc0f",
       "version_major": 2,
       "version_minor": 0
      },
      "text/plain": [
       "  0%|          | 0/1000 [00:00<?, ?it/s]"
      ]
     },
     "metadata": {},
     "output_type": "display_data"
    },
    {
     "name": "stdout",
     "output_type": "stream",
     "text": [
      "0.41160146745010545 None\n",
      "0.3779952499405917 None\n",
      "0.35155115658166736 None\n",
      "0.3390468683568005 None\n",
      "0.32948158184413384 None\n",
      "0.3202375398698616 None\n",
      "0.31611504995901923 None\n",
      "0.3092455152373555 None\n",
      "0.3003445256294957 None\n",
      "0.2953374835325815 None\n",
      "0.2861919557754773 None\n"
     ]
    },
    {
     "data": {
      "application/vnd.jupyter.widget-view+json": {
       "model_id": "759f6b7ba97d4e9fad24414056194681",
       "version_major": 2,
       "version_minor": 0
      },
      "text/plain": [
       "  0%|          | 0/1000 [00:00<?, ?it/s]"
      ]
     },
     "metadata": {},
     "output_type": "display_data"
    },
    {
     "name": "stdout",
     "output_type": "stream",
     "text": [
      "0.414139647092622 None\n",
      "0.38920342972523214 None\n",
      "0.35187382270757195 None\n",
      "0.32221207863542406 None\n",
      "0.312748180542373 None\n",
      "0.29848674349584714 None\n",
      "0.296659443396837 None\n",
      "0.28009817729467607 None\n",
      "0.2803239893070572 None\n",
      "0.2780301492485579 None\n",
      "0.26569873813953293 None\n"
     ]
    },
    {
     "data": {
      "application/vnd.jupyter.widget-view+json": {
       "model_id": "f9baa60408264881b2eea1b2a7abb5ec",
       "version_major": 2,
       "version_minor": 0
      },
      "text/plain": [
       "  0%|          | 0/1000 [00:00<?, ?it/s]"
      ]
     },
     "metadata": {},
     "output_type": "display_data"
    },
    {
     "name": "stdout",
     "output_type": "stream",
     "text": [
      "0.4214587190802497 None\n",
      "0.3930626417154538 None\n",
      "0.3644100679042292 None\n",
      "0.33579245603592406 None\n",
      "0.30359804767949666 None\n",
      "0.28400486003902053 None\n",
      "0.28187871135641884 None\n",
      "0.26455336102950394 None\n",
      "0.25915924625582576 None\n",
      "0.25498630589404275 None\n",
      "0.24083440974436787 None\n"
     ]
    },
    {
     "data": {
      "application/vnd.jupyter.widget-view+json": {
       "model_id": "893907d8e5fb4567b3345fe3c16216be",
       "version_major": 2,
       "version_minor": 0
      },
      "text/plain": [
       "  0%|          | 0/1000 [00:00<?, ?it/s]"
      ]
     },
     "metadata": {},
     "output_type": "display_data"
    },
    {
     "name": "stdout",
     "output_type": "stream",
     "text": [
      "0.42033557275483496 None\n",
      "0.3926186121848549 None\n",
      "0.3647440781870534 None\n",
      "0.3365000265580991 None\n",
      "0.3082095857746484 None\n",
      "0.2804052503430884 None\n",
      "0.2628106058639611 None\n",
      "0.25283149751418643 None\n",
      "0.23955792569204992 None\n",
      "0.23444921176707276 None\n",
      "0.22297427992317784 None\n"
     ]
    },
    {
     "data": {
      "application/vnd.jupyter.widget-view+json": {
       "model_id": "9701d121866840e297bb1c569354fa51",
       "version_major": 2,
       "version_minor": 0
      },
      "text/plain": [
       "  0%|          | 0/1000 [00:00<?, ?it/s]"
      ]
     },
     "metadata": {},
     "output_type": "display_data"
    },
    {
     "name": "stdout",
     "output_type": "stream",
     "text": [
      "0.41803209366451954 None\n",
      "0.3985604568925306 None\n",
      "0.3630136380734596 None\n",
      "0.33910062434526833 None\n",
      "0.30772741947435406 None\n",
      "0.28486573938800397 None\n",
      "0.2545018108610542 None\n",
      "0.24141038830806225 None\n",
      "0.23229625578161467 None\n",
      "0.21986031345006737 None\n",
      "0.21640840955710045 None\n"
     ]
    },
    {
     "data": {
      "application/vnd.jupyter.widget-view+json": {
       "model_id": "301566f2b872464ea72d175e2ae0b515",
       "version_major": 2,
       "version_minor": 0
      },
      "text/plain": [
       "  0%|          | 0/1000 [00:00<?, ?it/s]"
      ]
     },
     "metadata": {},
     "output_type": "display_data"
    },
    {
     "name": "stdout",
     "output_type": "stream",
     "text": [
      "0.42558976760954936 None\n",
      "0.39427272005588065 None\n",
      "0.36685165219726856 None\n",
      "0.33156479749467366 None\n",
      "0.3084860599026037 None\n",
      "0.2896919830054769 None\n",
      "0.2634185732672892 None\n",
      "0.23571252491885428 None\n",
      "0.23001409737981024 None\n",
      "0.22125997426491942 None\n",
      "0.21327718785928448 None\n"
     ]
    },
    {
     "data": {
      "application/vnd.jupyter.widget-view+json": {
       "model_id": "421f19050f454dd1a94ced4f6a1925eb",
       "version_major": 2,
       "version_minor": 0
      },
      "text/plain": [
       "  0%|          | 0/1000 [00:00<?, ?it/s]"
      ]
     },
     "metadata": {},
     "output_type": "display_data"
    },
    {
     "name": "stdout",
     "output_type": "stream",
     "text": [
      "0.4304695091388519 None\n",
      "0.3876066404412005 None\n",
      "0.3721010097342527 None\n",
      "0.3369568327989163 None\n",
      "0.30592061752920424 None\n",
      "0.2912101786597345 None\n",
      "0.26517276437084675 None\n",
      "0.2361217373157958 None\n",
      "0.21639818966452787 None\n",
      "0.2146513521095295 None\n",
      "0.19810614036432778 None\n"
     ]
    },
    {
     "data": {
      "application/vnd.jupyter.widget-view+json": {
       "model_id": "0123f21cb922454aaab7c4e254cd52a4",
       "version_major": 2,
       "version_minor": 0
      },
      "text/plain": [
       "  0%|          | 0/1000 [00:00<?, ?it/s]"
      ]
     },
     "metadata": {},
     "output_type": "display_data"
    },
    {
     "name": "stdout",
     "output_type": "stream",
     "text": [
      "0.4220555949085249 None\n",
      "0.39882295651692995 None\n",
      "0.3716480964717377 None\n",
      "0.3407258417220768 None\n",
      "0.31397603898267656 None\n",
      "0.29156193258022384 None\n",
      "0.26966354620498845 None\n",
      "0.22846234268504798 None\n",
      "0.21572284178919632 None\n",
      "0.19696254035220376 None\n",
      "0.19610425083128294 None\n"
     ]
    },
    {
     "data": {
      "application/vnd.jupyter.widget-view+json": {
       "model_id": "da5da84028a64baa9cc8dc8caaa7044a",
       "version_major": 2,
       "version_minor": 0
      },
      "text/plain": [
       "  0%|          | 0/1000 [00:00<?, ?it/s]"
      ]
     },
     "metadata": {},
     "output_type": "display_data"
    },
    {
     "name": "stdout",
     "output_type": "stream",
     "text": [
      "0.42371375658336974 None\n",
      "0.4005474827056314 None\n",
      "0.3695671536295553 None\n",
      "0.3426040343721518 None\n",
      "0.3120518211532069 None\n",
      "0.29383399377973707 None\n",
      "0.2646585792065765 None\n",
      "0.2401839927086912 None\n",
      "0.20877060227960556 None\n",
      "0.197589430397304 None\n",
      "0.18851782005592663 None\n"
     ]
    },
    {
     "data": {
      "application/vnd.jupyter.widget-view+json": {
       "model_id": "b6f24575284447ff8d4f24274eaa92f6",
       "version_major": 2,
       "version_minor": 0
      },
      "text/plain": [
       "  0%|          | 0/1000 [00:00<?, ?it/s]"
      ]
     },
     "metadata": {},
     "output_type": "display_data"
    },
    {
     "name": "stdout",
     "output_type": "stream",
     "text": [
      "0.4254463010042312 None\n",
      "0.3985748982126133 None\n",
      "0.37180755290226525 None\n",
      "0.34926012505020493 None\n",
      "0.31943645214737043 None\n",
      "0.29016032597232955 None\n",
      "0.265433930088053 None\n",
      "0.24547062709180908 None\n",
      "0.22207846502112064 None\n",
      "0.19587896235529678 None\n",
      "0.1910411242146915 None\n",
      "Done!\n"
     ]
    }
   ],
   "source": [
    "distance_best, model_best = optimize_annulus_distance(spectrum_target = spectrum4, \n",
    "                                                      d = d, \n",
    "                                                      rank_start = 1, \n",
    "                                                      rank_step = 1,\n",
    "                                                      num_iter = 1000)\n",
    "\n",
    "model_best.optimizer = None\n",
    "saver([distance_best, model_best], data_path(\"diluted_fitting_4qubit_32layer.model\"))"
   ]
  },
  {
   "cell_type": "code",
   "execution_count": null,
   "metadata": {},
   "outputs": [],
   "source": []
  }
 ],
 "metadata": {
  "kernelspec": {
   "display_name": "env_qiskit",
   "language": "python",
   "name": "env_qiskit"
  },
  "language_info": {
   "codemirror_mode": {
    "name": "ipython",
    "version": 3
   },
   "file_extension": ".py",
   "mimetype": "text/x-python",
   "name": "python",
   "nbconvert_exporter": "python",
   "pygments_lexer": "ipython3",
   "version": "3.10.4"
  }
 },
 "nbformat": 4,
 "nbformat_minor": 4
}
