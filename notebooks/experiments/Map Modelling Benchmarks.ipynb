{
 "cells": [
  {
   "cell_type": "markdown",
   "metadata": {},
   "source": [
    "# Numerical Benchmarks"
   ]
  },
  {
   "cell_type": "code",
   "execution_count": 3,
   "metadata": {},
   "outputs": [],
   "source": [
    "import sys\n",
    "sys.path.insert(0, '../../src_tf/')\n",
    "\n",
    "import numpy as np\n",
    "import qiskit as qk\n",
    "import matplotlib.pyplot as plt\n",
    "import multiprocessing as mp\n",
    "import random\n",
    "import pickle\n",
    "\n",
    "from qiskit.quantum_info import DensityMatrix\n",
    "from qiskit.quantum_info import Operator\n",
    "from scipy.linalg import sqrtm\n",
    "from tqdm.notebook import tqdm\n",
    "\n",
    "from loss_functions import *\n",
    "from optimization import *\n",
    "from quantum_maps import *\n",
    "from quantum_tools import *\n",
    "from experiments import *\n",
    "#np.set_printoptions(threshold=sys.maxsize)\n",
    "np.set_printoptions(precision=3)\n",
    "\n",
    "import os\n",
    "os.environ[\"CUDA_VISIBLE_DEVICES\"] = \"-1\""
   ]
  },
  {
   "cell_type": "markdown",
   "metadata": {},
   "source": [
    "## Check Convergence"
   ]
  },
  {
   "cell_type": "markdown",
   "metadata": {},
   "source": [
    "### Overparameterization"
   ]
  },
  {
   "cell_type": "code",
   "execution_count": 2,
   "metadata": {},
   "outputs": [
    {
     "data": {
      "application/vnd.jupyter.widget-view+json": {
       "model_id": "5cb51cc47f434b4b9a66f658f27d809b",
       "version_major": 2,
       "version_minor": 0
      },
      "text/plain": [
       "  0%|          | 0/10 [00:00<?, ?it/s]"
      ]
     },
     "metadata": {},
     "output_type": "display_data"
    },
    {
     "data": {
      "application/vnd.jupyter.widget-view+json": {
       "model_id": "87c57dd05c69426db33d75d89a8bc6b7",
       "version_major": 2,
       "version_minor": 0
      },
      "text/plain": [
       "  0%|          | 0/4000 [00:00<?, ?it/s]"
      ]
     },
     "metadata": {},
     "output_type": "display_data"
    },
    {
     "data": {
      "application/vnd.jupyter.widget-view+json": {
       "model_id": "4515a08f8cd44ed394472396e7caf9af",
       "version_major": 2,
       "version_minor": 0
      },
      "text/plain": [
       "  0%|          | 0/4000 [00:00<?, ?it/s]"
      ]
     },
     "metadata": {},
     "output_type": "display_data"
    },
    {
     "data": {
      "application/vnd.jupyter.widget-view+json": {
       "model_id": "cabdccc3d3f849a686abafd97dc56174",
       "version_major": 2,
       "version_minor": 0
      },
      "text/plain": [
       "  0%|          | 0/4000 [00:00<?, ?it/s]"
      ]
     },
     "metadata": {},
     "output_type": "display_data"
    },
    {
     "data": {
      "application/vnd.jupyter.widget-view+json": {
       "model_id": "8447d009d1c6403a8206149d31a46c03",
       "version_major": 2,
       "version_minor": 0
      },
      "text/plain": [
       "  0%|          | 0/4000 [00:00<?, ?it/s]"
      ]
     },
     "metadata": {},
     "output_type": "display_data"
    },
    {
     "data": {
      "application/vnd.jupyter.widget-view+json": {
       "model_id": "83c03ca40c824b5d9d807ff53bb1dc64",
       "version_major": 2,
       "version_minor": 0
      },
      "text/plain": [
       "  0%|          | 0/4000 [00:00<?, ?it/s]"
      ]
     },
     "metadata": {},
     "output_type": "display_data"
    },
    {
     "data": {
      "application/vnd.jupyter.widget-view+json": {
       "model_id": "48797f3fcf344bd6aa01e98c4b95858b",
       "version_major": 2,
       "version_minor": 0
      },
      "text/plain": [
       "  0%|          | 0/4000 [00:00<?, ?it/s]"
      ]
     },
     "metadata": {},
     "output_type": "display_data"
    },
    {
     "data": {
      "application/vnd.jupyter.widget-view+json": {
       "model_id": "15d74dad805b4bcd819a677c6caffc2d",
       "version_major": 2,
       "version_minor": 0
      },
      "text/plain": [
       "  0%|          | 0/4000 [00:00<?, ?it/s]"
      ]
     },
     "metadata": {},
     "output_type": "display_data"
    },
    {
     "data": {
      "application/vnd.jupyter.widget-view+json": {
       "model_id": "3986b1baa14641dbb743ddd291660f6b",
       "version_major": 2,
       "version_minor": 0
      },
      "text/plain": [
       "  0%|          | 0/4000 [00:00<?, ?it/s]"
      ]
     },
     "metadata": {},
     "output_type": "display_data"
    },
    {
     "data": {
      "application/vnd.jupyter.widget-view+json": {
       "model_id": "e26bd0782ee04ee4b83c2e3a87c1ff5d",
       "version_major": 2,
       "version_minor": 0
      },
      "text/plain": [
       "  0%|          | 0/4000 [00:00<?, ?it/s]"
      ]
     },
     "metadata": {},
     "output_type": "display_data"
    },
    {
     "data": {
      "application/vnd.jupyter.widget-view+json": {
       "model_id": "2ee1745ff950484fb3ec9361e8edb341",
       "version_major": 2,
       "version_minor": 0
      },
      "text/plain": [
       "  0%|          | 0/4000 [00:00<?, ?it/s]"
      ]
     },
     "metadata": {},
     "output_type": "display_data"
    }
   ],
   "source": [
    "n = 3\n",
    "d = 2**n\n",
    "num_reps = 10\n",
    "num_iter = 4000\n",
    "\n",
    "np.random.seed(42)\n",
    "random.seed(42)\n",
    "tf.random.set_seed(42)\n",
    "\n",
    "inputs, _ = generate_pauli_circuits(n = n, \n",
    "                                    circuit_target=None, \n",
    "                                    N = None, \n",
    "                                    trace=False)\n",
    "\n",
    "rank = 3\n",
    "loss_values = np.zeros((num_iter, num_reps))\n",
    "c_values = np.zeros((num_iter, num_reps))\n",
    "\n",
    "\n",
    "for i in tqdm(range(num_reps)):\n",
    "    X, _, _ = generate_ginibre(d, d)\n",
    "    U = generate_unitary(X) # Random unitary part\n",
    "    kraus_target = KrausMap(U, 0.5, d, rank)\n",
    "\n",
    "    states = kraus_target.apply_map(inputs[0])\n",
    "    targets = measurement(states, U_basis = inputs[1])\n",
    "    \n",
    "    c = random.uniform(0,1)\n",
    "    kraus_model = KrausMap(\n",
    "                       U=U, \n",
    "                       c=c, \n",
    "                       d=d, \n",
    "                       rank=d**2-1\n",
    "                      )\n",
    "\n",
    "    model = ModelQuantumMap(\n",
    "                           q_map = kraus_model,\n",
    "                           loss = probs_loss,\n",
    "                           optimizer = tf.optimizers.Adam(learning_rate=0.01),\n",
    "                           )\n",
    "\n",
    "\n",
    "    model.train(inputs = inputs,\n",
    "                targets = targets,\n",
    "                inputs_val = None,\n",
    "                targets_val = [kraus_target],\n",
    "                num_iter = num_iter,\n",
    "                N = 500,\n",
    "                verbose = False,\n",
    "                )\n",
    "    \n",
    "    loss_values[:, i] = np.array(model.loss_list)\n",
    "    c_values[:, i] = np.array(model.c_list)"
   ]
  },
  {
   "cell_type": "code",
   "execution_count": 3,
   "metadata": {},
   "outputs": [],
   "source": [
    "data = [loss_values, c_values]\n",
    "pickle.dump(data, open(\"../../data/compressed_sensing_overparam.p\", \"wb\"))"
   ]
  },
  {
   "cell_type": "markdown",
   "metadata": {},
   "source": [
    "### Under-parameterization"
   ]
  },
  {
   "cell_type": "code",
   "execution_count": 15,
   "metadata": {},
   "outputs": [
    {
     "data": {
      "application/vnd.jupyter.widget-view+json": {
       "model_id": "e239facf69a64b84b2e0df3ed2eb86b3",
       "version_major": 2,
       "version_minor": 0
      },
      "text/plain": [
       "  0%|          | 0/10 [00:00<?, ?it/s]"
      ]
     },
     "metadata": {},
     "output_type": "display_data"
    },
    {
     "data": {
      "application/vnd.jupyter.widget-view+json": {
       "model_id": "f88bdf8871a24f438a1af47048cea93d",
       "version_major": 2,
       "version_minor": 0
      },
      "text/plain": [
       "  0%|          | 0/4000 [00:00<?, ?it/s]"
      ]
     },
     "metadata": {},
     "output_type": "display_data"
    },
    {
     "data": {
      "application/vnd.jupyter.widget-view+json": {
       "model_id": "c25cd4328c4549e8b5a631d87b4814dd",
       "version_major": 2,
       "version_minor": 0
      },
      "text/plain": [
       "  0%|          | 0/4000 [00:00<?, ?it/s]"
      ]
     },
     "metadata": {},
     "output_type": "display_data"
    },
    {
     "data": {
      "application/vnd.jupyter.widget-view+json": {
       "model_id": "f60d389d68514ed18af30e6c4e286fa3",
       "version_major": 2,
       "version_minor": 0
      },
      "text/plain": [
       "  0%|          | 0/4000 [00:00<?, ?it/s]"
      ]
     },
     "metadata": {},
     "output_type": "display_data"
    },
    {
     "ename": "KeyboardInterrupt",
     "evalue": "",
     "output_type": "error",
     "traceback": [
      "\u001b[1;31m---------------------------------------------------------------------------\u001b[0m",
      "\u001b[1;31mKeyboardInterrupt\u001b[0m                         Traceback (most recent call last)",
      "Input \u001b[1;32mIn [15]\u001b[0m, in \u001b[0;36m<cell line: 20>\u001b[1;34m()\u001b[0m\n\u001b[0;32m     29\u001b[0m kraus_model \u001b[38;5;241m=\u001b[39m KrausMap(\n\u001b[0;32m     30\u001b[0m                    U\u001b[38;5;241m=\u001b[39mU, \n\u001b[0;32m     31\u001b[0m                    c\u001b[38;5;241m=\u001b[39mc, \n\u001b[0;32m     32\u001b[0m                    d\u001b[38;5;241m=\u001b[39md, \n\u001b[0;32m     33\u001b[0m                    rank\u001b[38;5;241m=\u001b[39mrank\n\u001b[0;32m     34\u001b[0m                   )\n\u001b[0;32m     36\u001b[0m model \u001b[38;5;241m=\u001b[39m ModelQuantumMap(\n\u001b[0;32m     37\u001b[0m                        q_map \u001b[38;5;241m=\u001b[39m kraus_model,\n\u001b[0;32m     38\u001b[0m                        loss \u001b[38;5;241m=\u001b[39m probs_loss,\n\u001b[0;32m     39\u001b[0m                        optimizer \u001b[38;5;241m=\u001b[39m tf\u001b[38;5;241m.\u001b[39moptimizers\u001b[38;5;241m.\u001b[39mAdam(learning_rate\u001b[38;5;241m=\u001b[39m\u001b[38;5;241m0.01\u001b[39m),\n\u001b[0;32m     40\u001b[0m                        )\n\u001b[1;32m---> 43\u001b[0m \u001b[43mmodel\u001b[49m\u001b[38;5;241;43m.\u001b[39;49m\u001b[43mtrain\u001b[49m\u001b[43m(\u001b[49m\u001b[43minputs\u001b[49m\u001b[43m \u001b[49m\u001b[38;5;241;43m=\u001b[39;49m\u001b[43m \u001b[49m\u001b[43minputs\u001b[49m\u001b[43m,\u001b[49m\n\u001b[0;32m     44\u001b[0m \u001b[43m            \u001b[49m\u001b[43mtargets\u001b[49m\u001b[43m \u001b[49m\u001b[38;5;241;43m=\u001b[39;49m\u001b[43m \u001b[49m\u001b[43mtargets\u001b[49m\u001b[43m,\u001b[49m\n\u001b[0;32m     45\u001b[0m \u001b[43m            \u001b[49m\u001b[43minputs_val\u001b[49m\u001b[43m \u001b[49m\u001b[38;5;241;43m=\u001b[39;49m\u001b[43m \u001b[49m\u001b[38;5;28;43;01mNone\u001b[39;49;00m\u001b[43m,\u001b[49m\n\u001b[0;32m     46\u001b[0m \u001b[43m            \u001b[49m\u001b[43mtargets_val\u001b[49m\u001b[43m \u001b[49m\u001b[38;5;241;43m=\u001b[39;49m\u001b[43m \u001b[49m\u001b[43m[\u001b[49m\u001b[43mkraus_target\u001b[49m\u001b[43m]\u001b[49m\u001b[43m,\u001b[49m\n\u001b[0;32m     47\u001b[0m \u001b[43m            \u001b[49m\u001b[43mnum_iter\u001b[49m\u001b[43m \u001b[49m\u001b[38;5;241;43m=\u001b[39;49m\u001b[43m \u001b[49m\u001b[43mnum_iter\u001b[49m\u001b[43m,\u001b[49m\n\u001b[0;32m     48\u001b[0m \u001b[43m            \u001b[49m\u001b[43mN\u001b[49m\u001b[43m \u001b[49m\u001b[38;5;241;43m=\u001b[39;49m\u001b[43m \u001b[49m\u001b[38;5;241;43m500\u001b[39;49m\u001b[43m,\u001b[49m\n\u001b[0;32m     49\u001b[0m \u001b[43m            \u001b[49m\u001b[43mverbose\u001b[49m\u001b[43m \u001b[49m\u001b[38;5;241;43m=\u001b[39;49m\u001b[43m \u001b[49m\u001b[38;5;28;43;01mFalse\u001b[39;49;00m\u001b[43m,\u001b[49m\n\u001b[0;32m     50\u001b[0m \u001b[43m            \u001b[49m\u001b[43m)\u001b[49m\n\u001b[0;32m     52\u001b[0m loss_values[:, i] \u001b[38;5;241m=\u001b[39m np\u001b[38;5;241m.\u001b[39marray(model\u001b[38;5;241m.\u001b[39mloss_list)\n\u001b[0;32m     53\u001b[0m c_values[:, i] \u001b[38;5;241m=\u001b[39m np\u001b[38;5;241m.\u001b[39marray(model\u001b[38;5;241m.\u001b[39mc_list)\n",
      "File \u001b[1;32m~\\Documents\\ModelNISQ\\notebooks\\experiments\\../../src_tf\\optimization.py:64\u001b[0m, in \u001b[0;36mModelQuantumMap.train\u001b[1;34m(self, inputs, targets, inputs_val, targets_val, num_iter, N, verbose)\u001b[0m\n\u001b[0;32m     62\u001b[0m     \u001b[38;5;28;01mpass\u001b[39;00m\n\u001b[0;32m     63\u001b[0m \u001b[38;5;28;01melif\u001b[39;00m \u001b[38;5;28mlen\u001b[39m(targets_val) \u001b[38;5;241m==\u001b[39m \u001b[38;5;241m1\u001b[39m:\n\u001b[1;32m---> 64\u001b[0m     loss \u001b[38;5;241m=\u001b[39m channel_fidelity(\u001b[38;5;28mself\u001b[39m\u001b[38;5;241m.\u001b[39mq_map, targets_val[\u001b[38;5;241m0\u001b[39m])\n\u001b[0;32m     67\u001b[0m \u001b[38;5;28mself\u001b[39m\u001b[38;5;241m.\u001b[39mloss_list\u001b[38;5;241m.\u001b[39mappend(np\u001b[38;5;241m.\u001b[39mabs(loss\u001b[38;5;241m.\u001b[39mnumpy()))\n\u001b[0;32m     68\u001b[0m \u001b[38;5;28;01mif\u001b[39;00m \u001b[38;5;28mself\u001b[39m\u001b[38;5;241m.\u001b[39mq_map\u001b[38;5;241m.\u001b[39mc \u001b[38;5;129;01mis\u001b[39;00m \u001b[38;5;129;01mnot\u001b[39;00m \u001b[38;5;28;01mNone\u001b[39;00m: \n",
      "File \u001b[1;32m~\\Documents\\ModelNISQ\\notebooks\\experiments\\../../src_tf\\quantum_tools.py:35\u001b[0m, in \u001b[0;36mchannel_fidelity\u001b[1;34m(map_A, map_B)\u001b[0m\n\u001b[0;32m     34\u001b[0m \u001b[38;5;28;01mdef\u001b[39;00m \u001b[38;5;21mchannel_fidelity\u001b[39m(map_A, map_B):\n\u001b[1;32m---> 35\u001b[0m     choi_A \u001b[38;5;241m=\u001b[39m \u001b[43mmaps_to_choi\u001b[49m\u001b[43m(\u001b[49m\u001b[43m[\u001b[49m\u001b[43mmap_A\u001b[49m\u001b[43m]\u001b[49m\u001b[43m)\u001b[49m\n\u001b[0;32m     36\u001b[0m     choi_B \u001b[38;5;241m=\u001b[39m maps_to_choi([map_B])\n\u001b[0;32m     37\u001b[0m     d_squared \u001b[38;5;241m=\u001b[39m choi_A\u001b[38;5;241m.\u001b[39mshape[\u001b[38;5;241m0\u001b[39m]\n",
      "File \u001b[1;32m~\\Documents\\ModelNISQ\\notebooks\\experiments\\../../src_tf\\quantum_tools.py:57\u001b[0m, in \u001b[0;36mmaps_to_choi\u001b[1;34m(map_list)\u001b[0m\n\u001b[0;32m     55\u001b[0m     M_prime \u001b[38;5;241m=\u001b[39m \u001b[38;5;28mmap\u001b[39m\u001b[38;5;241m.\u001b[39mapply_map(M_prime)\n\u001b[0;32m     56\u001b[0m \u001b[38;5;28;01mfor\u001b[39;00m i \u001b[38;5;129;01min\u001b[39;00m \u001b[38;5;28mrange\u001b[39m(d\u001b[38;5;241m*\u001b[39m\u001b[38;5;241m*\u001b[39m\u001b[38;5;241m2\u001b[39m):\n\u001b[1;32m---> 57\u001b[0m     choi \u001b[38;5;241m+\u001b[39m\u001b[38;5;241m=\u001b[39m tf\u001b[38;5;241m.\u001b[39mexperimental\u001b[38;5;241m.\u001b[39mnumpy\u001b[38;5;241m.\u001b[39mkron(M_prime[i], M[i])\n\u001b[0;32m     59\u001b[0m \u001b[38;5;28;01mreturn\u001b[39;00m choi\n",
      "File \u001b[1;32m~\\anaconda3\\envs\\env_qiskit\\lib\\site-packages\\tensorflow\\python\\util\\traceback_utils.py:150\u001b[0m, in \u001b[0;36mfilter_traceback.<locals>.error_handler\u001b[1;34m(*args, **kwargs)\u001b[0m\n\u001b[0;32m    148\u001b[0m filtered_tb \u001b[38;5;241m=\u001b[39m \u001b[38;5;28;01mNone\u001b[39;00m\n\u001b[0;32m    149\u001b[0m \u001b[38;5;28;01mtry\u001b[39;00m:\n\u001b[1;32m--> 150\u001b[0m   \u001b[38;5;28;01mreturn\u001b[39;00m fn(\u001b[38;5;241m*\u001b[39margs, \u001b[38;5;241m*\u001b[39m\u001b[38;5;241m*\u001b[39mkwargs)\n\u001b[0;32m    151\u001b[0m \u001b[38;5;28;01mexcept\u001b[39;00m \u001b[38;5;167;01mException\u001b[39;00m \u001b[38;5;28;01mas\u001b[39;00m e:\n\u001b[0;32m    152\u001b[0m   filtered_tb \u001b[38;5;241m=\u001b[39m _process_traceback_frames(e\u001b[38;5;241m.\u001b[39m__traceback__)\n",
      "File \u001b[1;32m~\\anaconda3\\envs\\env_qiskit\\lib\\site-packages\\tensorflow\\python\\ops\\math_ops.py:1406\u001b[0m, in \u001b[0;36m_OverrideBinaryOperatorHelper.<locals>.binary_op_wrapper\u001b[1;34m(x, y)\u001b[0m\n\u001b[0;32m   1401\u001b[0m \u001b[38;5;28;01mtry\u001b[39;00m:\n\u001b[0;32m   1402\u001b[0m   \u001b[38;5;66;03m# force_same_dtype=False to preserve existing TF behavior\u001b[39;00m\n\u001b[0;32m   1403\u001b[0m   \u001b[38;5;66;03m# TODO(b/178860388): Figure out why binary_op_wrapper and\u001b[39;00m\n\u001b[0;32m   1404\u001b[0m   \u001b[38;5;66;03m#   r_binary_op_wrapper use different force_same_dtype values.\u001b[39;00m\n\u001b[0;32m   1405\u001b[0m   x, y \u001b[38;5;241m=\u001b[39m maybe_promote_tensors(x, y)\n\u001b[1;32m-> 1406\u001b[0m   \u001b[38;5;28;01mreturn\u001b[39;00m \u001b[43mfunc\u001b[49m\u001b[43m(\u001b[49m\u001b[43mx\u001b[49m\u001b[43m,\u001b[49m\u001b[43m \u001b[49m\u001b[43my\u001b[49m\u001b[43m,\u001b[49m\u001b[43m \u001b[49m\u001b[43mname\u001b[49m\u001b[38;5;241;43m=\u001b[39;49m\u001b[43mname\u001b[49m\u001b[43m)\u001b[49m\n\u001b[0;32m   1407\u001b[0m \u001b[38;5;28;01mexcept\u001b[39;00m (\u001b[38;5;167;01mTypeError\u001b[39;00m, \u001b[38;5;167;01mValueError\u001b[39;00m) \u001b[38;5;28;01mas\u001b[39;00m e:\n\u001b[0;32m   1408\u001b[0m   \u001b[38;5;66;03m# Even if dispatching the op failed, the RHS may be a tensor aware\u001b[39;00m\n\u001b[0;32m   1409\u001b[0m   \u001b[38;5;66;03m# object that can implement the operator with knowledge of itself\u001b[39;00m\n\u001b[1;32m   (...)\u001b[0m\n\u001b[0;32m   1412\u001b[0m   \u001b[38;5;66;03m# original error from the LHS, because it may be more\u001b[39;00m\n\u001b[0;32m   1413\u001b[0m   \u001b[38;5;66;03m# informative.\u001b[39;00m\n\u001b[0;32m   1414\u001b[0m   \u001b[38;5;28;01mif\u001b[39;00m \u001b[38;5;28mhasattr\u001b[39m(\u001b[38;5;28mtype\u001b[39m(y), \u001b[38;5;124m\"\u001b[39m\u001b[38;5;124m__r\u001b[39m\u001b[38;5;132;01m%s\u001b[39;00m\u001b[38;5;124m__\u001b[39m\u001b[38;5;124m\"\u001b[39m \u001b[38;5;241m%\u001b[39m op_name):\n",
      "File \u001b[1;32m~\\anaconda3\\envs\\env_qiskit\\lib\\site-packages\\tensorflow\\python\\util\\traceback_utils.py:150\u001b[0m, in \u001b[0;36mfilter_traceback.<locals>.error_handler\u001b[1;34m(*args, **kwargs)\u001b[0m\n\u001b[0;32m    148\u001b[0m filtered_tb \u001b[38;5;241m=\u001b[39m \u001b[38;5;28;01mNone\u001b[39;00m\n\u001b[0;32m    149\u001b[0m \u001b[38;5;28;01mtry\u001b[39;00m:\n\u001b[1;32m--> 150\u001b[0m   \u001b[38;5;28;01mreturn\u001b[39;00m fn(\u001b[38;5;241m*\u001b[39margs, \u001b[38;5;241m*\u001b[39m\u001b[38;5;241m*\u001b[39mkwargs)\n\u001b[0;32m    151\u001b[0m \u001b[38;5;28;01mexcept\u001b[39;00m \u001b[38;5;167;01mException\u001b[39;00m \u001b[38;5;28;01mas\u001b[39;00m e:\n\u001b[0;32m    152\u001b[0m   filtered_tb \u001b[38;5;241m=\u001b[39m _process_traceback_frames(e\u001b[38;5;241m.\u001b[39m__traceback__)\n",
      "File \u001b[1;32m~\\anaconda3\\envs\\env_qiskit\\lib\\site-packages\\tensorflow\\python\\util\\dispatch.py:1082\u001b[0m, in \u001b[0;36madd_dispatch_support.<locals>.decorator.<locals>.op_dispatch_handler\u001b[1;34m(*args, **kwargs)\u001b[0m\n\u001b[0;32m   1080\u001b[0m \u001b[38;5;66;03m# Fallback dispatch system (dispatch v1):\u001b[39;00m\n\u001b[0;32m   1081\u001b[0m \u001b[38;5;28;01mtry\u001b[39;00m:\n\u001b[1;32m-> 1082\u001b[0m   \u001b[38;5;28;01mreturn\u001b[39;00m dispatch_target(\u001b[38;5;241m*\u001b[39margs, \u001b[38;5;241m*\u001b[39m\u001b[38;5;241m*\u001b[39mkwargs)\n\u001b[0;32m   1083\u001b[0m \u001b[38;5;28;01mexcept\u001b[39;00m (\u001b[38;5;167;01mTypeError\u001b[39;00m, \u001b[38;5;167;01mValueError\u001b[39;00m):\n\u001b[0;32m   1084\u001b[0m   \u001b[38;5;66;03m# Note: convert_to_eager_tensor currently raises a ValueError, not a\u001b[39;00m\n\u001b[0;32m   1085\u001b[0m   \u001b[38;5;66;03m# TypeError, when given unexpected types.  So we need to catch both.\u001b[39;00m\n\u001b[0;32m   1086\u001b[0m   result \u001b[38;5;241m=\u001b[39m dispatch(op_dispatch_handler, args, kwargs)\n",
      "File \u001b[1;32m~\\anaconda3\\envs\\env_qiskit\\lib\\site-packages\\tensorflow\\python\\ops\\math_ops.py:1756\u001b[0m, in \u001b[0;36m_add_dispatch\u001b[1;34m(x, y, name)\u001b[0m\n\u001b[0;32m   1754\u001b[0m   \u001b[38;5;28;01mreturn\u001b[39;00m gen_math_ops\u001b[38;5;241m.\u001b[39madd(x, y, name\u001b[38;5;241m=\u001b[39mname)\n\u001b[0;32m   1755\u001b[0m \u001b[38;5;28;01melse\u001b[39;00m:\n\u001b[1;32m-> 1756\u001b[0m   \u001b[38;5;28;01mreturn\u001b[39;00m \u001b[43mgen_math_ops\u001b[49m\u001b[38;5;241;43m.\u001b[39;49m\u001b[43madd_v2\u001b[49m\u001b[43m(\u001b[49m\u001b[43mx\u001b[49m\u001b[43m,\u001b[49m\u001b[43m \u001b[49m\u001b[43my\u001b[49m\u001b[43m,\u001b[49m\u001b[43m \u001b[49m\u001b[43mname\u001b[49m\u001b[38;5;241;43m=\u001b[39;49m\u001b[43mname\u001b[49m\u001b[43m)\u001b[49m\n",
      "File \u001b[1;32m~\\anaconda3\\envs\\env_qiskit\\lib\\site-packages\\tensorflow\\python\\ops\\gen_math_ops.py:461\u001b[0m, in \u001b[0;36madd_v2\u001b[1;34m(x, y, name)\u001b[0m\n\u001b[0;32m    459\u001b[0m \u001b[38;5;28;01mif\u001b[39;00m tld\u001b[38;5;241m.\u001b[39mis_eager:\n\u001b[0;32m    460\u001b[0m   \u001b[38;5;28;01mtry\u001b[39;00m:\n\u001b[1;32m--> 461\u001b[0m     _result \u001b[38;5;241m=\u001b[39m \u001b[43mpywrap_tfe\u001b[49m\u001b[38;5;241;43m.\u001b[39;49m\u001b[43mTFE_Py_FastPathExecute\u001b[49m\u001b[43m(\u001b[49m\n\u001b[0;32m    462\u001b[0m \u001b[43m      \u001b[49m\u001b[43m_ctx\u001b[49m\u001b[43m,\u001b[49m\u001b[43m \u001b[49m\u001b[38;5;124;43m\"\u001b[39;49m\u001b[38;5;124;43mAddV2\u001b[39;49m\u001b[38;5;124;43m\"\u001b[39;49m\u001b[43m,\u001b[49m\u001b[43m \u001b[49m\u001b[43mname\u001b[49m\u001b[43m,\u001b[49m\u001b[43m \u001b[49m\u001b[43mx\u001b[49m\u001b[43m,\u001b[49m\u001b[43m \u001b[49m\u001b[43my\u001b[49m\u001b[43m)\u001b[49m\n\u001b[0;32m    463\u001b[0m     \u001b[38;5;28;01mreturn\u001b[39;00m _result\n\u001b[0;32m    464\u001b[0m   \u001b[38;5;28;01mexcept\u001b[39;00m _core\u001b[38;5;241m.\u001b[39m_NotOkStatusException \u001b[38;5;28;01mas\u001b[39;00m e:\n",
      "\u001b[1;31mKeyboardInterrupt\u001b[0m: "
     ]
    }
   ],
   "source": [
    "n = 3\n",
    "d = 2**n\n",
    "num_reps = 10\n",
    "num_iter = 4000\n",
    "\n",
    "np.random.seed(42)\n",
    "random.seed(42)\n",
    "tf.random.set_seed(42)\n",
    "\n",
    "inputs, _ = generate_pauli_circuits(n = n, \n",
    "                                    circuit_target=None, \n",
    "                                    N = None, \n",
    "                                    trace=False)\n",
    "\n",
    "rank = 3\n",
    "loss_values = np.zeros((num_iter, num_reps))\n",
    "c_values = np.zeros((num_iter, num_reps))\n",
    "\n",
    "\n",
    "for i in tqdm(range(num_reps)):\n",
    "    X, _, _ = generate_ginibre(d, d)\n",
    "    U = generate_unitary(X) # Random unitary part\n",
    "    kraus_target = KrausMap(U, 0.5, d, rank=7)\n",
    "\n",
    "    states = kraus_target.apply_map(inputs[0])\n",
    "    targets = measurement(states, U_basis = inputs[1])\n",
    "    \n",
    "    c = random.uniform(0,1)\n",
    "    kraus_model = KrausMap(\n",
    "                       U=U, \n",
    "                       c=c, \n",
    "                       d=d, \n",
    "                       rank=rank\n",
    "                      )\n",
    "\n",
    "    model = ModelQuantumMap(\n",
    "                           q_map = kraus_model,\n",
    "                           loss = probs_loss,\n",
    "                           optimizer = tf.optimizers.Adam(learning_rate=0.01),\n",
    "                           )\n",
    "\n",
    "\n",
    "    model.train(inputs = inputs,\n",
    "                targets = targets,\n",
    "                inputs_val = None,\n",
    "                targets_val = [kraus_target],\n",
    "                num_iter = num_iter,\n",
    "                N = 500,\n",
    "                verbose = False,\n",
    "                )\n",
    "    \n",
    "    loss_values[:, i] = np.array(model.loss_list)\n",
    "    c_values[:, i] = np.array(model.c_list)"
   ]
  },
  {
   "cell_type": "code",
   "execution_count": null,
   "metadata": {},
   "outputs": [],
   "source": [
    "data = [loss_values, c_values]\n",
    "pickle.dump(data, open(\"../../data/compressed_sensing_underparam.p\", \"wb\"))"
   ]
  },
  {
   "cell_type": "markdown",
   "metadata": {},
   "source": [
    "## Sparse Input\n",
    "### Generate Data"
   ]
  },
  {
   "cell_type": "code",
   "execution_count": 6,
   "metadata": {},
   "outputs": [],
   "source": [
    "np.random.seed(42)\n",
    "random.seed(42)\n",
    "\n",
    "N_list = [int(16*2**(i/4)) for i in range(21)]\n",
    "num_reps = 10"
   ]
  },
  {
   "cell_type": "markdown",
   "metadata": {},
   "source": [
    "### Low Rank"
   ]
  },
  {
   "cell_type": "code",
   "execution_count": 7,
   "metadata": {
    "scrolled": true
   },
   "outputs": [
    {
     "data": {
      "application/vnd.jupyter.widget-view+json": {
       "model_id": "f6fbb9997ec54305bf83f23d19d72282",
       "version_major": 2,
       "version_minor": 0
      },
      "text/plain": [
       "  0%|          | 0/10 [00:00<?, ?it/s]"
      ]
     },
     "metadata": {},
     "output_type": "display_data"
    },
    {
     "data": {
      "application/vnd.jupyter.widget-view+json": {
       "model_id": "f1d59ed82cc14f44a41e126f6d1c4543",
       "version_major": 2,
       "version_minor": 0
      },
      "text/plain": [
       "  0%|          | 0/4000 [00:00<?, ?it/s]"
      ]
     },
     "metadata": {},
     "output_type": "display_data"
    },
    {
     "data": {
      "application/vnd.jupyter.widget-view+json": {
       "model_id": "681436029ca74d73b8f4687d2c007075",
       "version_major": 2,
       "version_minor": 0
      },
      "text/plain": [
       "  0%|          | 0/4000 [00:00<?, ?it/s]"
      ]
     },
     "metadata": {},
     "output_type": "display_data"
    },
    {
     "data": {
      "application/vnd.jupyter.widget-view+json": {
       "model_id": "a8aac09eab7e4eb2b2e9fdbc7e8c1381",
       "version_major": 2,
       "version_minor": 0
      },
      "text/plain": [
       "  0%|          | 0/4000 [00:00<?, ?it/s]"
      ]
     },
     "metadata": {},
     "output_type": "display_data"
    },
    {
     "data": {
      "application/vnd.jupyter.widget-view+json": {
       "model_id": "778ead2a1d2d4624b8a6fe01d2c762ba",
       "version_major": 2,
       "version_minor": 0
      },
      "text/plain": [
       "  0%|          | 0/4000 [00:00<?, ?it/s]"
      ]
     },
     "metadata": {},
     "output_type": "display_data"
    },
    {
     "data": {
      "application/vnd.jupyter.widget-view+json": {
       "model_id": "6a9889f7b7164314b4aafdc03e24b1ab",
       "version_major": 2,
       "version_minor": 0
      },
      "text/plain": [
       "  0%|          | 0/4000 [00:00<?, ?it/s]"
      ]
     },
     "metadata": {},
     "output_type": "display_data"
    },
    {
     "data": {
      "application/vnd.jupyter.widget-view+json": {
       "model_id": "90b7765cf81f4cfc85435f0fc7cabae7",
       "version_major": 2,
       "version_minor": 0
      },
      "text/plain": [
       "  0%|          | 0/4000 [00:00<?, ?it/s]"
      ]
     },
     "metadata": {},
     "output_type": "display_data"
    },
    {
     "data": {
      "application/vnd.jupyter.widget-view+json": {
       "model_id": "c2f7741b6a7c423fa42e580a8d5d0c48",
       "version_major": 2,
       "version_minor": 0
      },
      "text/plain": [
       "  0%|          | 0/4000 [00:00<?, ?it/s]"
      ]
     },
     "metadata": {},
     "output_type": "display_data"
    },
    {
     "data": {
      "application/vnd.jupyter.widget-view+json": {
       "model_id": "9db3914cf7ac43398a36be114ef25637",
       "version_major": 2,
       "version_minor": 0
      },
      "text/plain": [
       "  0%|          | 0/4000 [00:00<?, ?it/s]"
      ]
     },
     "metadata": {},
     "output_type": "display_data"
    },
    {
     "data": {
      "application/vnd.jupyter.widget-view+json": {
       "model_id": "96a27408ae2d4427acd17819d64ccef7",
       "version_major": 2,
       "version_minor": 0
      },
      "text/plain": [
       "  0%|          | 0/4000 [00:00<?, ?it/s]"
      ]
     },
     "metadata": {},
     "output_type": "display_data"
    },
    {
     "data": {
      "application/vnd.jupyter.widget-view+json": {
       "model_id": "c736b0912cdd4476867deff8a0c4f88d",
       "version_major": 2,
       "version_minor": 0
      },
      "text/plain": [
       "  0%|          | 0/4000 [00:00<?, ?it/s]"
      ]
     },
     "metadata": {},
     "output_type": "display_data"
    },
    {
     "data": {
      "application/vnd.jupyter.widget-view+json": {
       "model_id": "3b035c621c3a4fc4a23bea0194e3f94d",
       "version_major": 2,
       "version_minor": 0
      },
      "text/plain": [
       "  0%|          | 0/4000 [00:00<?, ?it/s]"
      ]
     },
     "metadata": {},
     "output_type": "display_data"
    },
    {
     "data": {
      "application/vnd.jupyter.widget-view+json": {
       "model_id": "0af9c08839f345748d0619792a642fa7",
       "version_major": 2,
       "version_minor": 0
      },
      "text/plain": [
       "  0%|          | 0/4000 [00:00<?, ?it/s]"
      ]
     },
     "metadata": {},
     "output_type": "display_data"
    },
    {
     "data": {
      "application/vnd.jupyter.widget-view+json": {
       "model_id": "896bf2d98fe34157a8381f47319b5e44",
       "version_major": 2,
       "version_minor": 0
      },
      "text/plain": [
       "  0%|          | 0/4000 [00:00<?, ?it/s]"
      ]
     },
     "metadata": {},
     "output_type": "display_data"
    },
    {
     "data": {
      "application/vnd.jupyter.widget-view+json": {
       "model_id": "d0aec32c2ba549ccae539bcf72d52da4",
       "version_major": 2,
       "version_minor": 0
      },
      "text/plain": [
       "  0%|          | 0/4000 [00:00<?, ?it/s]"
      ]
     },
     "metadata": {},
     "output_type": "display_data"
    },
    {
     "data": {
      "application/vnd.jupyter.widget-view+json": {
       "model_id": "17d9c0552c41484788dc722a416a1496",
       "version_major": 2,
       "version_minor": 0
      },
      "text/plain": [
       "  0%|          | 0/4000 [00:00<?, ?it/s]"
      ]
     },
     "metadata": {},
     "output_type": "display_data"
    },
    {
     "data": {
      "application/vnd.jupyter.widget-view+json": {
       "model_id": "ee26bfc0908747dd9091df252afcbf55",
       "version_major": 2,
       "version_minor": 0
      },
      "text/plain": [
       "  0%|          | 0/4000 [00:00<?, ?it/s]"
      ]
     },
     "metadata": {},
     "output_type": "display_data"
    },
    {
     "data": {
      "application/vnd.jupyter.widget-view+json": {
       "model_id": "20b3582727384c73a0d96d77f00ed96e",
       "version_major": 2,
       "version_minor": 0
      },
      "text/plain": [
       "  0%|          | 0/4000 [00:00<?, ?it/s]"
      ]
     },
     "metadata": {},
     "output_type": "display_data"
    },
    {
     "data": {
      "application/vnd.jupyter.widget-view+json": {
       "model_id": "01509a29b95948faa18579941299a3ba",
       "version_major": 2,
       "version_minor": 0
      },
      "text/plain": [
       "  0%|          | 0/4000 [00:00<?, ?it/s]"
      ]
     },
     "metadata": {},
     "output_type": "display_data"
    },
    {
     "data": {
      "application/vnd.jupyter.widget-view+json": {
       "model_id": "f7f5814849c3408c872a0a81a80e826c",
       "version_major": 2,
       "version_minor": 0
      },
      "text/plain": [
       "  0%|          | 0/4000 [00:00<?, ?it/s]"
      ]
     },
     "metadata": {},
     "output_type": "display_data"
    },
    {
     "data": {
      "application/vnd.jupyter.widget-view+json": {
       "model_id": "0f27e7119b45438682d5aaa2fb1147ff",
       "version_major": 2,
       "version_minor": 0
      },
      "text/plain": [
       "  0%|          | 0/4000 [00:00<?, ?it/s]"
      ]
     },
     "metadata": {},
     "output_type": "display_data"
    },
    {
     "data": {
      "application/vnd.jupyter.widget-view+json": {
       "model_id": "e4b3db008c1545c5ab388006f1a48be6",
       "version_major": 2,
       "version_minor": 0
      },
      "text/plain": [
       "  0%|          | 0/4000 [00:00<?, ?it/s]"
      ]
     },
     "metadata": {},
     "output_type": "display_data"
    },
    {
     "data": {
      "application/vnd.jupyter.widget-view+json": {
       "model_id": "8e7b0785dd6542fcb29061df816695eb",
       "version_major": 2,
       "version_minor": 0
      },
      "text/plain": [
       "  0%|          | 0/4000 [00:00<?, ?it/s]"
      ]
     },
     "metadata": {},
     "output_type": "display_data"
    },
    {
     "data": {
      "application/vnd.jupyter.widget-view+json": {
       "model_id": "71d64eaffcc448b79b6920f766194fed",
       "version_major": 2,
       "version_minor": 0
      },
      "text/plain": [
       "  0%|          | 0/4000 [00:00<?, ?it/s]"
      ]
     },
     "metadata": {},
     "output_type": "display_data"
    },
    {
     "data": {
      "application/vnd.jupyter.widget-view+json": {
       "model_id": "8e23767a1aa44e57b4e6885bb934c112",
       "version_major": 2,
       "version_minor": 0
      },
      "text/plain": [
       "  0%|          | 0/4000 [00:00<?, ?it/s]"
      ]
     },
     "metadata": {},
     "output_type": "display_data"
    },
    {
     "data": {
      "application/vnd.jupyter.widget-view+json": {
       "model_id": "334143f739a84c4fab777d07c8f226d0",
       "version_major": 2,
       "version_minor": 0
      },
      "text/plain": [
       "  0%|          | 0/4000 [00:00<?, ?it/s]"
      ]
     },
     "metadata": {},
     "output_type": "display_data"
    },
    {
     "data": {
      "application/vnd.jupyter.widget-view+json": {
       "model_id": "836e36a4ae544ebeb20b62a8e2f7d7c4",
       "version_major": 2,
       "version_minor": 0
      },
      "text/plain": [
       "  0%|          | 0/4000 [00:00<?, ?it/s]"
      ]
     },
     "metadata": {},
     "output_type": "display_data"
    },
    {
     "data": {
      "application/vnd.jupyter.widget-view+json": {
       "model_id": "efe5b0a350b349f58e0a339c25e6b8d3",
       "version_major": 2,
       "version_minor": 0
      },
      "text/plain": [
       "  0%|          | 0/4000 [00:00<?, ?it/s]"
      ]
     },
     "metadata": {},
     "output_type": "display_data"
    },
    {
     "data": {
      "application/vnd.jupyter.widget-view+json": {
       "model_id": "f2b89589362849da9824bba7b66073da",
       "version_major": 2,
       "version_minor": 0
      },
      "text/plain": [
       "  0%|          | 0/4000 [00:00<?, ?it/s]"
      ]
     },
     "metadata": {},
     "output_type": "display_data"
    },
    {
     "data": {
      "application/vnd.jupyter.widget-view+json": {
       "model_id": "17938b5f2ecc464d830f2eb66594ebd8",
       "version_major": 2,
       "version_minor": 0
      },
      "text/plain": [
       "  0%|          | 0/4000 [00:00<?, ?it/s]"
      ]
     },
     "metadata": {},
     "output_type": "display_data"
    },
    {
     "data": {
      "application/vnd.jupyter.widget-view+json": {
       "model_id": "17079aa259cf49f3be8951797af2fcac",
       "version_major": 2,
       "version_minor": 0
      },
      "text/plain": [
       "  0%|          | 0/4000 [00:00<?, ?it/s]"
      ]
     },
     "metadata": {},
     "output_type": "display_data"
    },
    {
     "data": {
      "application/vnd.jupyter.widget-view+json": {
       "model_id": "a4cd8034bb9349e6961bce56327c7fd2",
       "version_major": 2,
       "version_minor": 0
      },
      "text/plain": [
       "  0%|          | 0/4000 [00:00<?, ?it/s]"
      ]
     },
     "metadata": {},
     "output_type": "display_data"
    },
    {
     "data": {
      "application/vnd.jupyter.widget-view+json": {
       "model_id": "5f349e0f1ac9488b900daffa8d3cd2e4",
       "version_major": 2,
       "version_minor": 0
      },
      "text/plain": [
       "  0%|          | 0/4000 [00:00<?, ?it/s]"
      ]
     },
     "metadata": {},
     "output_type": "display_data"
    },
    {
     "data": {
      "application/vnd.jupyter.widget-view+json": {
       "model_id": "d187a32a62e746f8bfbf0d38a757a472",
       "version_major": 2,
       "version_minor": 0
      },
      "text/plain": [
       "  0%|          | 0/4000 [00:00<?, ?it/s]"
      ]
     },
     "metadata": {},
     "output_type": "display_data"
    },
    {
     "data": {
      "application/vnd.jupyter.widget-view+json": {
       "model_id": "6645436b3bc54957b7c0adc0d41ab950",
       "version_major": 2,
       "version_minor": 0
      },
      "text/plain": [
       "  0%|          | 0/4000 [00:00<?, ?it/s]"
      ]
     },
     "metadata": {},
     "output_type": "display_data"
    },
    {
     "data": {
      "application/vnd.jupyter.widget-view+json": {
       "model_id": "5f84dd8ceb124f209e65aaacdb418786",
       "version_major": 2,
       "version_minor": 0
      },
      "text/plain": [
       "  0%|          | 0/4000 [00:00<?, ?it/s]"
      ]
     },
     "metadata": {},
     "output_type": "display_data"
    },
    {
     "data": {
      "application/vnd.jupyter.widget-view+json": {
       "model_id": "920cb7d21037466c94e006bd22b35b8e",
       "version_major": 2,
       "version_minor": 0
      },
      "text/plain": [
       "  0%|          | 0/4000 [00:00<?, ?it/s]"
      ]
     },
     "metadata": {},
     "output_type": "display_data"
    },
    {
     "data": {
      "application/vnd.jupyter.widget-view+json": {
       "model_id": "7fb3e84415ca4555bb658f5c1c1f8c97",
       "version_major": 2,
       "version_minor": 0
      },
      "text/plain": [
       "  0%|          | 0/4000 [00:00<?, ?it/s]"
      ]
     },
     "metadata": {},
     "output_type": "display_data"
    },
    {
     "data": {
      "application/vnd.jupyter.widget-view+json": {
       "model_id": "44af7e7feb174c778449924e3a419782",
       "version_major": 2,
       "version_minor": 0
      },
      "text/plain": [
       "  0%|          | 0/4000 [00:00<?, ?it/s]"
      ]
     },
     "metadata": {},
     "output_type": "display_data"
    },
    {
     "data": {
      "application/vnd.jupyter.widget-view+json": {
       "model_id": "550a6a984efc48b987a137b159f13400",
       "version_major": 2,
       "version_minor": 0
      },
      "text/plain": [
       "  0%|          | 0/4000 [00:00<?, ?it/s]"
      ]
     },
     "metadata": {},
     "output_type": "display_data"
    },
    {
     "data": {
      "application/vnd.jupyter.widget-view+json": {
       "model_id": "d4f93912eae844ec9c6701f399b0aeab",
       "version_major": 2,
       "version_minor": 0
      },
      "text/plain": [
       "  0%|          | 0/4000 [00:00<?, ?it/s]"
      ]
     },
     "metadata": {},
     "output_type": "display_data"
    },
    {
     "data": {
      "application/vnd.jupyter.widget-view+json": {
       "model_id": "5d2395e1311d477da38b8615ab5807fc",
       "version_major": 2,
       "version_minor": 0
      },
      "text/plain": [
       "  0%|          | 0/4000 [00:00<?, ?it/s]"
      ]
     },
     "metadata": {},
     "output_type": "display_data"
    },
    {
     "data": {
      "application/vnd.jupyter.widget-view+json": {
       "model_id": "51b39151f11145f084ec2dc2ade06b90",
       "version_major": 2,
       "version_minor": 0
      },
      "text/plain": [
       "  0%|          | 0/4000 [00:00<?, ?it/s]"
      ]
     },
     "metadata": {},
     "output_type": "display_data"
    },
    {
     "data": {
      "application/vnd.jupyter.widget-view+json": {
       "model_id": "31a3ded5eb8f4326bdef1b68c5b448be",
       "version_major": 2,
       "version_minor": 0
      },
      "text/plain": [
       "  0%|          | 0/4000 [00:00<?, ?it/s]"
      ]
     },
     "metadata": {},
     "output_type": "display_data"
    },
    {
     "data": {
      "application/vnd.jupyter.widget-view+json": {
       "model_id": "15256c3414de4e0380ecac60ed79629d",
       "version_major": 2,
       "version_minor": 0
      },
      "text/plain": [
       "  0%|          | 0/4000 [00:00<?, ?it/s]"
      ]
     },
     "metadata": {},
     "output_type": "display_data"
    },
    {
     "data": {
      "application/vnd.jupyter.widget-view+json": {
       "model_id": "13b00afbe7574d83b02ff70487d0e6d8",
       "version_major": 2,
       "version_minor": 0
      },
      "text/plain": [
       "  0%|          | 0/4000 [00:00<?, ?it/s]"
      ]
     },
     "metadata": {},
     "output_type": "display_data"
    },
    {
     "data": {
      "application/vnd.jupyter.widget-view+json": {
       "model_id": "f956aa6481344aafa63db8812ee343cf",
       "version_major": 2,
       "version_minor": 0
      },
      "text/plain": [
       "  0%|          | 0/4000 [00:00<?, ?it/s]"
      ]
     },
     "metadata": {},
     "output_type": "display_data"
    },
    {
     "data": {
      "application/vnd.jupyter.widget-view+json": {
       "model_id": "0c123d82f18a4242859bb193aa2c6db6",
       "version_major": 2,
       "version_minor": 0
      },
      "text/plain": [
       "  0%|          | 0/4000 [00:00<?, ?it/s]"
      ]
     },
     "metadata": {},
     "output_type": "display_data"
    },
    {
     "data": {
      "application/vnd.jupyter.widget-view+json": {
       "model_id": "6e3ecd83bb8c45eeb0b2325888b3b4eb",
       "version_major": 2,
       "version_minor": 0
      },
      "text/plain": [
       "  0%|          | 0/4000 [00:00<?, ?it/s]"
      ]
     },
     "metadata": {},
     "output_type": "display_data"
    },
    {
     "data": {
      "application/vnd.jupyter.widget-view+json": {
       "model_id": "64072558946e4bc1990370482e0a31f5",
       "version_major": 2,
       "version_minor": 0
      },
      "text/plain": [
       "  0%|          | 0/4000 [00:00<?, ?it/s]"
      ]
     },
     "metadata": {},
     "output_type": "display_data"
    },
    {
     "data": {
      "application/vnd.jupyter.widget-view+json": {
       "model_id": "eacae68ebc71408e8caf118aed311517",
       "version_major": 2,
       "version_minor": 0
      },
      "text/plain": [
       "  0%|          | 0/4000 [00:00<?, ?it/s]"
      ]
     },
     "metadata": {},
     "output_type": "display_data"
    },
    {
     "data": {
      "application/vnd.jupyter.widget-view+json": {
       "model_id": "e94412b0a94048b293531dd9bf16c9b3",
       "version_major": 2,
       "version_minor": 0
      },
      "text/plain": [
       "  0%|          | 0/4000 [00:00<?, ?it/s]"
      ]
     },
     "metadata": {},
     "output_type": "display_data"
    },
    {
     "data": {
      "application/vnd.jupyter.widget-view+json": {
       "model_id": "c5a564c3b7ed42ceb50024ca26ea0fe4",
       "version_major": 2,
       "version_minor": 0
      },
      "text/plain": [
       "  0%|          | 0/4000 [00:00<?, ?it/s]"
      ]
     },
     "metadata": {},
     "output_type": "display_data"
    },
    {
     "data": {
      "application/vnd.jupyter.widget-view+json": {
       "model_id": "5b5ffa2dd14542f5a45ecc6d006fb4f4",
       "version_major": 2,
       "version_minor": 0
      },
      "text/plain": [
       "  0%|          | 0/4000 [00:00<?, ?it/s]"
      ]
     },
     "metadata": {},
     "output_type": "display_data"
    },
    {
     "data": {
      "application/vnd.jupyter.widget-view+json": {
       "model_id": "e1a77c5fd7884c95940c2817b110393c",
       "version_major": 2,
       "version_minor": 0
      },
      "text/plain": [
       "  0%|          | 0/4000 [00:00<?, ?it/s]"
      ]
     },
     "metadata": {},
     "output_type": "display_data"
    },
    {
     "data": {
      "application/vnd.jupyter.widget-view+json": {
       "model_id": "f8c20fecc634454fb048cc95a5ec12a5",
       "version_major": 2,
       "version_minor": 0
      },
      "text/plain": [
       "  0%|          | 0/4000 [00:00<?, ?it/s]"
      ]
     },
     "metadata": {},
     "output_type": "display_data"
    },
    {
     "data": {
      "application/vnd.jupyter.widget-view+json": {
       "model_id": "5fe641e031e04e51b448777e28c84275",
       "version_major": 2,
       "version_minor": 0
      },
      "text/plain": [
       "  0%|          | 0/4000 [00:00<?, ?it/s]"
      ]
     },
     "metadata": {},
     "output_type": "display_data"
    },
    {
     "data": {
      "application/vnd.jupyter.widget-view+json": {
       "model_id": "af4216898e494dd9bc6ca5985987e17e",
       "version_major": 2,
       "version_minor": 0
      },
      "text/plain": [
       "  0%|          | 0/4000 [00:00<?, ?it/s]"
      ]
     },
     "metadata": {},
     "output_type": "display_data"
    },
    {
     "data": {
      "application/vnd.jupyter.widget-view+json": {
       "model_id": "84f0149b8e4d49a58788d00e4adeda71",
       "version_major": 2,
       "version_minor": 0
      },
      "text/plain": [
       "  0%|          | 0/4000 [00:00<?, ?it/s]"
      ]
     },
     "metadata": {},
     "output_type": "display_data"
    },
    {
     "data": {
      "application/vnd.jupyter.widget-view+json": {
       "model_id": "057c08e39c27405984adc17f01ea32ae",
       "version_major": 2,
       "version_minor": 0
      },
      "text/plain": [
       "  0%|          | 0/4000 [00:00<?, ?it/s]"
      ]
     },
     "metadata": {},
     "output_type": "display_data"
    },
    {
     "data": {
      "application/vnd.jupyter.widget-view+json": {
       "model_id": "f0db0d2b3b444de79223cdad36276930",
       "version_major": 2,
       "version_minor": 0
      },
      "text/plain": [
       "  0%|          | 0/4000 [00:00<?, ?it/s]"
      ]
     },
     "metadata": {},
     "output_type": "display_data"
    },
    {
     "data": {
      "application/vnd.jupyter.widget-view+json": {
       "model_id": "dc3f7c90f08d4dd18dbc241bc19f7cce",
       "version_major": 2,
       "version_minor": 0
      },
      "text/plain": [
       "  0%|          | 0/4000 [00:00<?, ?it/s]"
      ]
     },
     "metadata": {},
     "output_type": "display_data"
    },
    {
     "data": {
      "application/vnd.jupyter.widget-view+json": {
       "model_id": "c785135e333f490b843c23560c25453a",
       "version_major": 2,
       "version_minor": 0
      },
      "text/plain": [
       "  0%|          | 0/4000 [00:00<?, ?it/s]"
      ]
     },
     "metadata": {},
     "output_type": "display_data"
    },
    {
     "data": {
      "application/vnd.jupyter.widget-view+json": {
       "model_id": "4b055601cf4d4e338db71ebc2ba27cd8",
       "version_major": 2,
       "version_minor": 0
      },
      "text/plain": [
       "  0%|          | 0/4000 [00:00<?, ?it/s]"
      ]
     },
     "metadata": {},
     "output_type": "display_data"
    },
    {
     "data": {
      "application/vnd.jupyter.widget-view+json": {
       "model_id": "4e599016e5094deeae127c38dca23554",
       "version_major": 2,
       "version_minor": 0
      },
      "text/plain": [
       "  0%|          | 0/4000 [00:00<?, ?it/s]"
      ]
     },
     "metadata": {},
     "output_type": "display_data"
    },
    {
     "data": {
      "application/vnd.jupyter.widget-view+json": {
       "model_id": "479be18f606941528e7e73c4adf354e0",
       "version_major": 2,
       "version_minor": 0
      },
      "text/plain": [
       "  0%|          | 0/4000 [00:00<?, ?it/s]"
      ]
     },
     "metadata": {},
     "output_type": "display_data"
    },
    {
     "data": {
      "application/vnd.jupyter.widget-view+json": {
       "model_id": "1058ec59cc894c118a11d23834a6908d",
       "version_major": 2,
       "version_minor": 0
      },
      "text/plain": [
       "  0%|          | 0/4000 [00:00<?, ?it/s]"
      ]
     },
     "metadata": {},
     "output_type": "display_data"
    },
    {
     "data": {
      "application/vnd.jupyter.widget-view+json": {
       "model_id": "033c585a40824ad8b8b88c7429e5f90b",
       "version_major": 2,
       "version_minor": 0
      },
      "text/plain": [
       "  0%|          | 0/4000 [00:00<?, ?it/s]"
      ]
     },
     "metadata": {},
     "output_type": "display_data"
    },
    {
     "data": {
      "application/vnd.jupyter.widget-view+json": {
       "model_id": "4db6676bb1344b04b61a1dc471de2b5f",
       "version_major": 2,
       "version_minor": 0
      },
      "text/plain": [
       "  0%|          | 0/4000 [00:00<?, ?it/s]"
      ]
     },
     "metadata": {},
     "output_type": "display_data"
    },
    {
     "data": {
      "application/vnd.jupyter.widget-view+json": {
       "model_id": "b51bd229f2414c46b191a231972794b8",
       "version_major": 2,
       "version_minor": 0
      },
      "text/plain": [
       "  0%|          | 0/4000 [00:00<?, ?it/s]"
      ]
     },
     "metadata": {},
     "output_type": "display_data"
    },
    {
     "data": {
      "application/vnd.jupyter.widget-view+json": {
       "model_id": "fbe8659a37d94b85a692f9ad70e499ff",
       "version_major": 2,
       "version_minor": 0
      },
      "text/plain": [
       "  0%|          | 0/4000 [00:00<?, ?it/s]"
      ]
     },
     "metadata": {},
     "output_type": "display_data"
    },
    {
     "data": {
      "application/vnd.jupyter.widget-view+json": {
       "model_id": "0aeb814879cc40f48d8d51349b582237",
       "version_major": 2,
       "version_minor": 0
      },
      "text/plain": [
       "  0%|          | 0/4000 [00:00<?, ?it/s]"
      ]
     },
     "metadata": {},
     "output_type": "display_data"
    },
    {
     "data": {
      "application/vnd.jupyter.widget-view+json": {
       "model_id": "70622360aa5e4d5aa87f6d57d0692054",
       "version_major": 2,
       "version_minor": 0
      },
      "text/plain": [
       "  0%|          | 0/4000 [00:00<?, ?it/s]"
      ]
     },
     "metadata": {},
     "output_type": "display_data"
    },
    {
     "data": {
      "application/vnd.jupyter.widget-view+json": {
       "model_id": "e5bd3d514e784421b24da7551661c2ef",
       "version_major": 2,
       "version_minor": 0
      },
      "text/plain": [
       "  0%|          | 0/4000 [00:00<?, ?it/s]"
      ]
     },
     "metadata": {},
     "output_type": "display_data"
    },
    {
     "data": {
      "application/vnd.jupyter.widget-view+json": {
       "model_id": "623c68469472443888bf2450c95833cf",
       "version_major": 2,
       "version_minor": 0
      },
      "text/plain": [
       "  0%|          | 0/4000 [00:00<?, ?it/s]"
      ]
     },
     "metadata": {},
     "output_type": "display_data"
    },
    {
     "data": {
      "application/vnd.jupyter.widget-view+json": {
       "model_id": "69b95f55dae34e2cb412fee8c2f4697b",
       "version_major": 2,
       "version_minor": 0
      },
      "text/plain": [
       "  0%|          | 0/4000 [00:00<?, ?it/s]"
      ]
     },
     "metadata": {},
     "output_type": "display_data"
    },
    {
     "data": {
      "application/vnd.jupyter.widget-view+json": {
       "model_id": "0f831ed3fb5f46caa98aea76208e3edb",
       "version_major": 2,
       "version_minor": 0
      },
      "text/plain": [
       "  0%|          | 0/4000 [00:00<?, ?it/s]"
      ]
     },
     "metadata": {},
     "output_type": "display_data"
    },
    {
     "data": {
      "application/vnd.jupyter.widget-view+json": {
       "model_id": "0ec20ae0f7a447af9a703340a4bdc7f5",
       "version_major": 2,
       "version_minor": 0
      },
      "text/plain": [
       "  0%|          | 0/4000 [00:00<?, ?it/s]"
      ]
     },
     "metadata": {},
     "output_type": "display_data"
    },
    {
     "data": {
      "application/vnd.jupyter.widget-view+json": {
       "model_id": "157c25d893084c85ba5a54ddcfc6ed38",
       "version_major": 2,
       "version_minor": 0
      },
      "text/plain": [
       "  0%|          | 0/4000 [00:00<?, ?it/s]"
      ]
     },
     "metadata": {},
     "output_type": "display_data"
    },
    {
     "data": {
      "application/vnd.jupyter.widget-view+json": {
       "model_id": "15c69e2b6f834dc59697a36a1ee17d12",
       "version_major": 2,
       "version_minor": 0
      },
      "text/plain": [
       "  0%|          | 0/4000 [00:00<?, ?it/s]"
      ]
     },
     "metadata": {},
     "output_type": "display_data"
    },
    {
     "data": {
      "application/vnd.jupyter.widget-view+json": {
       "model_id": "0dde91b60ae34435bb352cb8ff31db40",
       "version_major": 2,
       "version_minor": 0
      },
      "text/plain": [
       "  0%|          | 0/4000 [00:00<?, ?it/s]"
      ]
     },
     "metadata": {},
     "output_type": "display_data"
    },
    {
     "data": {
      "application/vnd.jupyter.widget-view+json": {
       "model_id": "3ea6e41b35124c1a82faaf1a9c9f8a16",
       "version_major": 2,
       "version_minor": 0
      },
      "text/plain": [
       "  0%|          | 0/4000 [00:00<?, ?it/s]"
      ]
     },
     "metadata": {},
     "output_type": "display_data"
    },
    {
     "data": {
      "application/vnd.jupyter.widget-view+json": {
       "model_id": "c7a8428f7ab344f3a67ea2fbb0eb9c15",
       "version_major": 2,
       "version_minor": 0
      },
      "text/plain": [
       "  0%|          | 0/4000 [00:00<?, ?it/s]"
      ]
     },
     "metadata": {},
     "output_type": "display_data"
    },
    {
     "data": {
      "application/vnd.jupyter.widget-view+json": {
       "model_id": "b427a1659f984c90839fb465d74ebb0c",
       "version_major": 2,
       "version_minor": 0
      },
      "text/plain": [
       "  0%|          | 0/4000 [00:00<?, ?it/s]"
      ]
     },
     "metadata": {},
     "output_type": "display_data"
    },
    {
     "data": {
      "application/vnd.jupyter.widget-view+json": {
       "model_id": "9da05187bce0487a913caae0e6224b8c",
       "version_major": 2,
       "version_minor": 0
      },
      "text/plain": [
       "  0%|          | 0/4000 [00:00<?, ?it/s]"
      ]
     },
     "metadata": {},
     "output_type": "display_data"
    },
    {
     "data": {
      "application/vnd.jupyter.widget-view+json": {
       "model_id": "de33c3d85d934e9d8c4ac1f6607ff16e",
       "version_major": 2,
       "version_minor": 0
      },
      "text/plain": [
       "  0%|          | 0/4000 [00:00<?, ?it/s]"
      ]
     },
     "metadata": {},
     "output_type": "display_data"
    },
    {
     "data": {
      "application/vnd.jupyter.widget-view+json": {
       "model_id": "e41306e9b0e641a191b4bc7d068aa2e2",
       "version_major": 2,
       "version_minor": 0
      },
      "text/plain": [
       "  0%|          | 0/4000 [00:00<?, ?it/s]"
      ]
     },
     "metadata": {},
     "output_type": "display_data"
    },
    {
     "data": {
      "application/vnd.jupyter.widget-view+json": {
       "model_id": "80076c0bf2d9455fb398524f2e46cbff",
       "version_major": 2,
       "version_minor": 0
      },
      "text/plain": [
       "  0%|          | 0/4000 [00:00<?, ?it/s]"
      ]
     },
     "metadata": {},
     "output_type": "display_data"
    },
    {
     "data": {
      "application/vnd.jupyter.widget-view+json": {
       "model_id": "5cd39e5883db4ebbb372fe4bce95866a",
       "version_major": 2,
       "version_minor": 0
      },
      "text/plain": [
       "  0%|          | 0/4000 [00:00<?, ?it/s]"
      ]
     },
     "metadata": {},
     "output_type": "display_data"
    },
    {
     "data": {
      "application/vnd.jupyter.widget-view+json": {
       "model_id": "6cdfa43a251d4f68aefeade7e75547eb",
       "version_major": 2,
       "version_minor": 0
      },
      "text/plain": [
       "  0%|          | 0/4000 [00:00<?, ?it/s]"
      ]
     },
     "metadata": {},
     "output_type": "display_data"
    },
    {
     "data": {
      "application/vnd.jupyter.widget-view+json": {
       "model_id": "c09c0cc34a964d77b2ad97b07e0e148f",
       "version_major": 2,
       "version_minor": 0
      },
      "text/plain": [
       "  0%|          | 0/4000 [00:00<?, ?it/s]"
      ]
     },
     "metadata": {},
     "output_type": "display_data"
    },
    {
     "data": {
      "application/vnd.jupyter.widget-view+json": {
       "model_id": "54e7c011b5aa464cb1060f1e7ed0606a",
       "version_major": 2,
       "version_minor": 0
      },
      "text/plain": [
       "  0%|          | 0/4000 [00:00<?, ?it/s]"
      ]
     },
     "metadata": {},
     "output_type": "display_data"
    },
    {
     "data": {
      "application/vnd.jupyter.widget-view+json": {
       "model_id": "b006845028ec4bbab6b1b135433198c8",
       "version_major": 2,
       "version_minor": 0
      },
      "text/plain": [
       "  0%|          | 0/4000 [00:00<?, ?it/s]"
      ]
     },
     "metadata": {},
     "output_type": "display_data"
    },
    {
     "data": {
      "application/vnd.jupyter.widget-view+json": {
       "model_id": "96434b5f30f14b9eb52fd63390d63bf5",
       "version_major": 2,
       "version_minor": 0
      },
      "text/plain": [
       "  0%|          | 0/4000 [00:00<?, ?it/s]"
      ]
     },
     "metadata": {},
     "output_type": "display_data"
    },
    {
     "data": {
      "application/vnd.jupyter.widget-view+json": {
       "model_id": "45cead3bdcf04c77814d2c85e37d3224",
       "version_major": 2,
       "version_minor": 0
      },
      "text/plain": [
       "  0%|          | 0/4000 [00:00<?, ?it/s]"
      ]
     },
     "metadata": {},
     "output_type": "display_data"
    },
    {
     "data": {
      "application/vnd.jupyter.widget-view+json": {
       "model_id": "2e06d0d783244f63b18f592444b8b223",
       "version_major": 2,
       "version_minor": 0
      },
      "text/plain": [
       "  0%|          | 0/4000 [00:00<?, ?it/s]"
      ]
     },
     "metadata": {},
     "output_type": "display_data"
    },
    {
     "data": {
      "application/vnd.jupyter.widget-view+json": {
       "model_id": "459abcf3992144ec8b018f1e70955d2b",
       "version_major": 2,
       "version_minor": 0
      },
      "text/plain": [
       "  0%|          | 0/4000 [00:00<?, ?it/s]"
      ]
     },
     "metadata": {},
     "output_type": "display_data"
    },
    {
     "data": {
      "application/vnd.jupyter.widget-view+json": {
       "model_id": "e48c95f04c09462b87706a17baf7fdc7",
       "version_major": 2,
       "version_minor": 0
      },
      "text/plain": [
       "  0%|          | 0/4000 [00:00<?, ?it/s]"
      ]
     },
     "metadata": {},
     "output_type": "display_data"
    },
    {
     "data": {
      "application/vnd.jupyter.widget-view+json": {
       "model_id": "e94d80e117dc40f4a63a8617f9ea0c16",
       "version_major": 2,
       "version_minor": 0
      },
      "text/plain": [
       "  0%|          | 0/4000 [00:00<?, ?it/s]"
      ]
     },
     "metadata": {},
     "output_type": "display_data"
    },
    {
     "data": {
      "application/vnd.jupyter.widget-view+json": {
       "model_id": "1a19e4e6c1f24b18bad2f4696a802788",
       "version_major": 2,
       "version_minor": 0
      },
      "text/plain": [
       "  0%|          | 0/4000 [00:00<?, ?it/s]"
      ]
     },
     "metadata": {},
     "output_type": "display_data"
    },
    {
     "data": {
      "application/vnd.jupyter.widget-view+json": {
       "model_id": "c717e041bc114dafbd4e0df871cc6030",
       "version_major": 2,
       "version_minor": 0
      },
      "text/plain": [
       "  0%|          | 0/4000 [00:00<?, ?it/s]"
      ]
     },
     "metadata": {},
     "output_type": "display_data"
    },
    {
     "data": {
      "application/vnd.jupyter.widget-view+json": {
       "model_id": "9732c72497f24f08a398612cd1d31c73",
       "version_major": 2,
       "version_minor": 0
      },
      "text/plain": [
       "  0%|          | 0/4000 [00:00<?, ?it/s]"
      ]
     },
     "metadata": {},
     "output_type": "display_data"
    },
    {
     "data": {
      "application/vnd.jupyter.widget-view+json": {
       "model_id": "90bff7db4901422897509504dde9a202",
       "version_major": 2,
       "version_minor": 0
      },
      "text/plain": [
       "  0%|          | 0/4000 [00:00<?, ?it/s]"
      ]
     },
     "metadata": {},
     "output_type": "display_data"
    },
    {
     "data": {
      "application/vnd.jupyter.widget-view+json": {
       "model_id": "3f727e0103894720a658fba17eeec24c",
       "version_major": 2,
       "version_minor": 0
      },
      "text/plain": [
       "  0%|          | 0/4000 [00:00<?, ?it/s]"
      ]
     },
     "metadata": {},
     "output_type": "display_data"
    },
    {
     "data": {
      "application/vnd.jupyter.widget-view+json": {
       "model_id": "f779a263c07940e9983994bbb6265fe4",
       "version_major": 2,
       "version_minor": 0
      },
      "text/plain": [
       "  0%|          | 0/4000 [00:00<?, ?it/s]"
      ]
     },
     "metadata": {},
     "output_type": "display_data"
    },
    {
     "data": {
      "application/vnd.jupyter.widget-view+json": {
       "model_id": "53ac8f7b01934a9b9b7f3f0c5c03b74b",
       "version_major": 2,
       "version_minor": 0
      },
      "text/plain": [
       "  0%|          | 0/4000 [00:00<?, ?it/s]"
      ]
     },
     "metadata": {},
     "output_type": "display_data"
    },
    {
     "data": {
      "application/vnd.jupyter.widget-view+json": {
       "model_id": "6100ffdf7d3842718f2d1eaca821634d",
       "version_major": 2,
       "version_minor": 0
      },
      "text/plain": [
       "  0%|          | 0/4000 [00:00<?, ?it/s]"
      ]
     },
     "metadata": {},
     "output_type": "display_data"
    },
    {
     "data": {
      "application/vnd.jupyter.widget-view+json": {
       "model_id": "39d1c0a42b534051b7355079876f7ad4",
       "version_major": 2,
       "version_minor": 0
      },
      "text/plain": [
       "  0%|          | 0/4000 [00:00<?, ?it/s]"
      ]
     },
     "metadata": {},
     "output_type": "display_data"
    },
    {
     "data": {
      "application/vnd.jupyter.widget-view+json": {
       "model_id": "288dcae2ae12483891f25a4c77b13c27",
       "version_major": 2,
       "version_minor": 0
      },
      "text/plain": [
       "  0%|          | 0/4000 [00:00<?, ?it/s]"
      ]
     },
     "metadata": {},
     "output_type": "display_data"
    },
    {
     "data": {
      "application/vnd.jupyter.widget-view+json": {
       "model_id": "35a5c81778754ac2bbc303e0f160e98c",
       "version_major": 2,
       "version_minor": 0
      },
      "text/plain": [
       "  0%|          | 0/4000 [00:00<?, ?it/s]"
      ]
     },
     "metadata": {},
     "output_type": "display_data"
    },
    {
     "data": {
      "application/vnd.jupyter.widget-view+json": {
       "model_id": "c8f4b18af1b6487e909657188f3bc010",
       "version_major": 2,
       "version_minor": 0
      },
      "text/plain": [
       "  0%|          | 0/4000 [00:00<?, ?it/s]"
      ]
     },
     "metadata": {},
     "output_type": "display_data"
    },
    {
     "data": {
      "application/vnd.jupyter.widget-view+json": {
       "model_id": "9df7ac5fe8dd4dc19d1afb9c06c55f91",
       "version_major": 2,
       "version_minor": 0
      },
      "text/plain": [
       "  0%|          | 0/4000 [00:00<?, ?it/s]"
      ]
     },
     "metadata": {},
     "output_type": "display_data"
    },
    {
     "data": {
      "application/vnd.jupyter.widget-view+json": {
       "model_id": "f749e686b8ee46ff886521cfa5287d54",
       "version_major": 2,
       "version_minor": 0
      },
      "text/plain": [
       "  0%|          | 0/4000 [00:00<?, ?it/s]"
      ]
     },
     "metadata": {},
     "output_type": "display_data"
    },
    {
     "data": {
      "application/vnd.jupyter.widget-view+json": {
       "model_id": "367269b23df94b9fb2460472c5d0e7c1",
       "version_major": 2,
       "version_minor": 0
      },
      "text/plain": [
       "  0%|          | 0/4000 [00:00<?, ?it/s]"
      ]
     },
     "metadata": {},
     "output_type": "display_data"
    },
    {
     "data": {
      "application/vnd.jupyter.widget-view+json": {
       "model_id": "e88708463ac547ba9735f33959da2cf0",
       "version_major": 2,
       "version_minor": 0
      },
      "text/plain": [
       "  0%|          | 0/4000 [00:00<?, ?it/s]"
      ]
     },
     "metadata": {},
     "output_type": "display_data"
    },
    {
     "data": {
      "application/vnd.jupyter.widget-view+json": {
       "model_id": "6f63372df7344c8ea5faf448952f5dc6",
       "version_major": 2,
       "version_minor": 0
      },
      "text/plain": [
       "  0%|          | 0/4000 [00:00<?, ?it/s]"
      ]
     },
     "metadata": {},
     "output_type": "display_data"
    },
    {
     "data": {
      "application/vnd.jupyter.widget-view+json": {
       "model_id": "7cfc3b99509945dbbff5e76d590e8edf",
       "version_major": 2,
       "version_minor": 0
      },
      "text/plain": [
       "  0%|          | 0/4000 [00:00<?, ?it/s]"
      ]
     },
     "metadata": {},
     "output_type": "display_data"
    },
    {
     "data": {
      "application/vnd.jupyter.widget-view+json": {
       "model_id": "7ac885f78b0e4060a86753a498ce7352",
       "version_major": 2,
       "version_minor": 0
      },
      "text/plain": [
       "  0%|          | 0/4000 [00:00<?, ?it/s]"
      ]
     },
     "metadata": {},
     "output_type": "display_data"
    },
    {
     "data": {
      "application/vnd.jupyter.widget-view+json": {
       "model_id": "8ef359dc31a2486c8905747899fa6e4d",
       "version_major": 2,
       "version_minor": 0
      },
      "text/plain": [
       "  0%|          | 0/4000 [00:00<?, ?it/s]"
      ]
     },
     "metadata": {},
     "output_type": "display_data"
    },
    {
     "data": {
      "application/vnd.jupyter.widget-view+json": {
       "model_id": "7c2cfcfe34784d85bdd3575816224f19",
       "version_major": 2,
       "version_minor": 0
      },
      "text/plain": [
       "  0%|          | 0/4000 [00:00<?, ?it/s]"
      ]
     },
     "metadata": {},
     "output_type": "display_data"
    },
    {
     "data": {
      "application/vnd.jupyter.widget-view+json": {
       "model_id": "767088dbc0354a3bae1b7be66c638063",
       "version_major": 2,
       "version_minor": 0
      },
      "text/plain": [
       "  0%|          | 0/4000 [00:00<?, ?it/s]"
      ]
     },
     "metadata": {},
     "output_type": "display_data"
    },
    {
     "data": {
      "application/vnd.jupyter.widget-view+json": {
       "model_id": "eeefe9f0bb004b329b5bd55989ac5182",
       "version_major": 2,
       "version_minor": 0
      },
      "text/plain": [
       "  0%|          | 0/4000 [00:00<?, ?it/s]"
      ]
     },
     "metadata": {},
     "output_type": "display_data"
    },
    {
     "data": {
      "application/vnd.jupyter.widget-view+json": {
       "model_id": "1e8d5365060d48c989e82dff9754db78",
       "version_major": 2,
       "version_minor": 0
      },
      "text/plain": [
       "  0%|          | 0/4000 [00:00<?, ?it/s]"
      ]
     },
     "metadata": {},
     "output_type": "display_data"
    },
    {
     "data": {
      "application/vnd.jupyter.widget-view+json": {
       "model_id": "3edb77cfc1e34654a12ec6b1325b0484",
       "version_major": 2,
       "version_minor": 0
      },
      "text/plain": [
       "  0%|          | 0/4000 [00:00<?, ?it/s]"
      ]
     },
     "metadata": {},
     "output_type": "display_data"
    },
    {
     "data": {
      "application/vnd.jupyter.widget-view+json": {
       "model_id": "e484a9295688479fa277cb37d4690931",
       "version_major": 2,
       "version_minor": 0
      },
      "text/plain": [
       "  0%|          | 0/4000 [00:00<?, ?it/s]"
      ]
     },
     "metadata": {},
     "output_type": "display_data"
    },
    {
     "data": {
      "application/vnd.jupyter.widget-view+json": {
       "model_id": "5347ddda67c74ae1973c4bd57eefc105",
       "version_major": 2,
       "version_minor": 0
      },
      "text/plain": [
       "  0%|          | 0/4000 [00:00<?, ?it/s]"
      ]
     },
     "metadata": {},
     "output_type": "display_data"
    },
    {
     "data": {
      "application/vnd.jupyter.widget-view+json": {
       "model_id": "fc24f820046141f5a6aded81b3cbb298",
       "version_major": 2,
       "version_minor": 0
      },
      "text/plain": [
       "  0%|          | 0/4000 [00:00<?, ?it/s]"
      ]
     },
     "metadata": {},
     "output_type": "display_data"
    },
    {
     "data": {
      "application/vnd.jupyter.widget-view+json": {
       "model_id": "8ad0d9123a224ef48846cf6e483ae5ad",
       "version_major": 2,
       "version_minor": 0
      },
      "text/plain": [
       "  0%|          | 0/4000 [00:00<?, ?it/s]"
      ]
     },
     "metadata": {},
     "output_type": "display_data"
    },
    {
     "data": {
      "application/vnd.jupyter.widget-view+json": {
       "model_id": "5ee878a6a0b646abbb190c714048f357",
       "version_major": 2,
       "version_minor": 0
      },
      "text/plain": [
       "  0%|          | 0/4000 [00:00<?, ?it/s]"
      ]
     },
     "metadata": {},
     "output_type": "display_data"
    },
    {
     "data": {
      "application/vnd.jupyter.widget-view+json": {
       "model_id": "2c37413fff094f428c23cf3f31d13710",
       "version_major": 2,
       "version_minor": 0
      },
      "text/plain": [
       "  0%|          | 0/4000 [00:00<?, ?it/s]"
      ]
     },
     "metadata": {},
     "output_type": "display_data"
    },
    {
     "data": {
      "application/vnd.jupyter.widget-view+json": {
       "model_id": "c2ff9c2b781b400c8d8716ca0ab477a3",
       "version_major": 2,
       "version_minor": 0
      },
      "text/plain": [
       "  0%|          | 0/4000 [00:00<?, ?it/s]"
      ]
     },
     "metadata": {},
     "output_type": "display_data"
    },
    {
     "data": {
      "application/vnd.jupyter.widget-view+json": {
       "model_id": "c32fbb87d1464bdd913b5a85b4a0efee",
       "version_major": 2,
       "version_minor": 0
      },
      "text/plain": [
       "  0%|          | 0/4000 [00:00<?, ?it/s]"
      ]
     },
     "metadata": {},
     "output_type": "display_data"
    },
    {
     "data": {
      "application/vnd.jupyter.widget-view+json": {
       "model_id": "9b6dbf7815e841d48b064b9cd940868b",
       "version_major": 2,
       "version_minor": 0
      },
      "text/plain": [
       "  0%|          | 0/4000 [00:00<?, ?it/s]"
      ]
     },
     "metadata": {},
     "output_type": "display_data"
    },
    {
     "data": {
      "application/vnd.jupyter.widget-view+json": {
       "model_id": "03d5db53304f4a268f47c9771a15aa90",
       "version_major": 2,
       "version_minor": 0
      },
      "text/plain": [
       "  0%|          | 0/4000 [00:00<?, ?it/s]"
      ]
     },
     "metadata": {},
     "output_type": "display_data"
    },
    {
     "data": {
      "application/vnd.jupyter.widget-view+json": {
       "model_id": "8f595c5155f84de5ae5af3870d4c42cf",
       "version_major": 2,
       "version_minor": 0
      },
      "text/plain": [
       "  0%|          | 0/4000 [00:00<?, ?it/s]"
      ]
     },
     "metadata": {},
     "output_type": "display_data"
    },
    {
     "data": {
      "application/vnd.jupyter.widget-view+json": {
       "model_id": "fb33fbd789ca42a386a4f1c32589ce7d",
       "version_major": 2,
       "version_minor": 0
      },
      "text/plain": [
       "  0%|          | 0/4000 [00:00<?, ?it/s]"
      ]
     },
     "metadata": {},
     "output_type": "display_data"
    },
    {
     "data": {
      "application/vnd.jupyter.widget-view+json": {
       "model_id": "bbdebb60b1a64dfc96dea7f56f37c6aa",
       "version_major": 2,
       "version_minor": 0
      },
      "text/plain": [
       "  0%|          | 0/4000 [00:00<?, ?it/s]"
      ]
     },
     "metadata": {},
     "output_type": "display_data"
    },
    {
     "data": {
      "application/vnd.jupyter.widget-view+json": {
       "model_id": "9605b313b92d485e8aa568dc3d3521dd",
       "version_major": 2,
       "version_minor": 0
      },
      "text/plain": [
       "  0%|          | 0/4000 [00:00<?, ?it/s]"
      ]
     },
     "metadata": {},
     "output_type": "display_data"
    },
    {
     "data": {
      "application/vnd.jupyter.widget-view+json": {
       "model_id": "0552a9f6036f46da8f2a642aae6ea1b9",
       "version_major": 2,
       "version_minor": 0
      },
      "text/plain": [
       "  0%|          | 0/4000 [00:00<?, ?it/s]"
      ]
     },
     "metadata": {},
     "output_type": "display_data"
    },
    {
     "data": {
      "application/vnd.jupyter.widget-view+json": {
       "model_id": "a72dd1135d4d459cbb7b3dc9fc7d1776",
       "version_major": 2,
       "version_minor": 0
      },
      "text/plain": [
       "  0%|          | 0/4000 [00:00<?, ?it/s]"
      ]
     },
     "metadata": {},
     "output_type": "display_data"
    },
    {
     "data": {
      "application/vnd.jupyter.widget-view+json": {
       "model_id": "20dcc86d807b4fa0846ee9406e2085d8",
       "version_major": 2,
       "version_minor": 0
      },
      "text/plain": [
       "  0%|          | 0/4000 [00:00<?, ?it/s]"
      ]
     },
     "metadata": {},
     "output_type": "display_data"
    },
    {
     "data": {
      "application/vnd.jupyter.widget-view+json": {
       "model_id": "a6b211babdbc48a8951fccbed514948a",
       "version_major": 2,
       "version_minor": 0
      },
      "text/plain": [
       "  0%|          | 0/4000 [00:00<?, ?it/s]"
      ]
     },
     "metadata": {},
     "output_type": "display_data"
    },
    {
     "data": {
      "application/vnd.jupyter.widget-view+json": {
       "model_id": "e05283ad70a04c9a95490df6ff5c75dd",
       "version_major": 2,
       "version_minor": 0
      },
      "text/plain": [
       "  0%|          | 0/4000 [00:00<?, ?it/s]"
      ]
     },
     "metadata": {},
     "output_type": "display_data"
    },
    {
     "data": {
      "application/vnd.jupyter.widget-view+json": {
       "model_id": "c9e20f0ae7de4e81afe7434b2197ee1f",
       "version_major": 2,
       "version_minor": 0
      },
      "text/plain": [
       "  0%|          | 0/4000 [00:00<?, ?it/s]"
      ]
     },
     "metadata": {},
     "output_type": "display_data"
    },
    {
     "data": {
      "application/vnd.jupyter.widget-view+json": {
       "model_id": "143aa82e19434e98919d8f93f9c49b48",
       "version_major": 2,
       "version_minor": 0
      },
      "text/plain": [
       "  0%|          | 0/4000 [00:00<?, ?it/s]"
      ]
     },
     "metadata": {},
     "output_type": "display_data"
    },
    {
     "data": {
      "application/vnd.jupyter.widget-view+json": {
       "model_id": "192dd0c0eeff4fcb97729e201782c4fa",
       "version_major": 2,
       "version_minor": 0
      },
      "text/plain": [
       "  0%|          | 0/4000 [00:00<?, ?it/s]"
      ]
     },
     "metadata": {},
     "output_type": "display_data"
    },
    {
     "data": {
      "application/vnd.jupyter.widget-view+json": {
       "model_id": "35f60e67f07f44a9a4b8b598c9b13c8e",
       "version_major": 2,
       "version_minor": 0
      },
      "text/plain": [
       "  0%|          | 0/4000 [00:00<?, ?it/s]"
      ]
     },
     "metadata": {},
     "output_type": "display_data"
    },
    {
     "data": {
      "application/vnd.jupyter.widget-view+json": {
       "model_id": "353086cd57374f0b91da75d24725c01f",
       "version_major": 2,
       "version_minor": 0
      },
      "text/plain": [
       "  0%|          | 0/4000 [00:00<?, ?it/s]"
      ]
     },
     "metadata": {},
     "output_type": "display_data"
    },
    {
     "data": {
      "application/vnd.jupyter.widget-view+json": {
       "model_id": "f308361a1ed3405e96135cde06a50bad",
       "version_major": 2,
       "version_minor": 0
      },
      "text/plain": [
       "  0%|          | 0/4000 [00:00<?, ?it/s]"
      ]
     },
     "metadata": {},
     "output_type": "display_data"
    },
    {
     "data": {
      "application/vnd.jupyter.widget-view+json": {
       "model_id": "ac89d11c889a404d9a05dffde9079b19",
       "version_major": 2,
       "version_minor": 0
      },
      "text/plain": [
       "  0%|          | 0/4000 [00:00<?, ?it/s]"
      ]
     },
     "metadata": {},
     "output_type": "display_data"
    },
    {
     "data": {
      "application/vnd.jupyter.widget-view+json": {
       "model_id": "1f59ec1bf375433dbda795e960c25108",
       "version_major": 2,
       "version_minor": 0
      },
      "text/plain": [
       "  0%|          | 0/4000 [00:00<?, ?it/s]"
      ]
     },
     "metadata": {},
     "output_type": "display_data"
    },
    {
     "data": {
      "application/vnd.jupyter.widget-view+json": {
       "model_id": "513b8591f41241d4a3889b8ac4ae8df3",
       "version_major": 2,
       "version_minor": 0
      },
      "text/plain": [
       "  0%|          | 0/4000 [00:00<?, ?it/s]"
      ]
     },
     "metadata": {},
     "output_type": "display_data"
    },
    {
     "data": {
      "application/vnd.jupyter.widget-view+json": {
       "model_id": "ffa54ad2267f41778da4eaa2bd9a1bb0",
       "version_major": 2,
       "version_minor": 0
      },
      "text/plain": [
       "  0%|          | 0/4000 [00:00<?, ?it/s]"
      ]
     },
     "metadata": {},
     "output_type": "display_data"
    },
    {
     "data": {
      "application/vnd.jupyter.widget-view+json": {
       "model_id": "9cc76e6270a84f6aa2265611f383a56e",
       "version_major": 2,
       "version_minor": 0
      },
      "text/plain": [
       "  0%|          | 0/4000 [00:00<?, ?it/s]"
      ]
     },
     "metadata": {},
     "output_type": "display_data"
    },
    {
     "data": {
      "application/vnd.jupyter.widget-view+json": {
       "model_id": "120c4b01e6184f9985edcc146d1d4621",
       "version_major": 2,
       "version_minor": 0
      },
      "text/plain": [
       "  0%|          | 0/4000 [00:00<?, ?it/s]"
      ]
     },
     "metadata": {},
     "output_type": "display_data"
    },
    {
     "data": {
      "application/vnd.jupyter.widget-view+json": {
       "model_id": "3c98f42a814b4d3fa2c122fcf19bbee7",
       "version_major": 2,
       "version_minor": 0
      },
      "text/plain": [
       "  0%|          | 0/4000 [00:00<?, ?it/s]"
      ]
     },
     "metadata": {},
     "output_type": "display_data"
    },
    {
     "data": {
      "application/vnd.jupyter.widget-view+json": {
       "model_id": "de60cf64f8e3437b96fcf8e7c2f81ae4",
       "version_major": 2,
       "version_minor": 0
      },
      "text/plain": [
       "  0%|          | 0/4000 [00:00<?, ?it/s]"
      ]
     },
     "metadata": {},
     "output_type": "display_data"
    },
    {
     "data": {
      "application/vnd.jupyter.widget-view+json": {
       "model_id": "7377d2513366405a86b0e585ec39e68c",
       "version_major": 2,
       "version_minor": 0
      },
      "text/plain": [
       "  0%|          | 0/4000 [00:00<?, ?it/s]"
      ]
     },
     "metadata": {},
     "output_type": "display_data"
    },
    {
     "data": {
      "application/vnd.jupyter.widget-view+json": {
       "model_id": "6d030e916d56452a8787e941e8b16308",
       "version_major": 2,
       "version_minor": 0
      },
      "text/plain": [
       "  0%|          | 0/4000 [00:00<?, ?it/s]"
      ]
     },
     "metadata": {},
     "output_type": "display_data"
    },
    {
     "data": {
      "application/vnd.jupyter.widget-view+json": {
       "model_id": "9bdd730604004d478fc75ac7e260df26",
       "version_major": 2,
       "version_minor": 0
      },
      "text/plain": [
       "  0%|          | 0/4000 [00:00<?, ?it/s]"
      ]
     },
     "metadata": {},
     "output_type": "display_data"
    },
    {
     "data": {
      "application/vnd.jupyter.widget-view+json": {
       "model_id": "ff67ccf863f540a8820bb5e1d175e4cc",
       "version_major": 2,
       "version_minor": 0
      },
      "text/plain": [
       "  0%|          | 0/4000 [00:00<?, ?it/s]"
      ]
     },
     "metadata": {},
     "output_type": "display_data"
    },
    {
     "data": {
      "application/vnd.jupyter.widget-view+json": {
       "model_id": "cfdca5f2475f445ea2f370294b3822f2",
       "version_major": 2,
       "version_minor": 0
      },
      "text/plain": [
       "  0%|          | 0/4000 [00:00<?, ?it/s]"
      ]
     },
     "metadata": {},
     "output_type": "display_data"
    },
    {
     "data": {
      "application/vnd.jupyter.widget-view+json": {
       "model_id": "d2c45c849ade423b80e7e42906da5c67",
       "version_major": 2,
       "version_minor": 0
      },
      "text/plain": [
       "  0%|          | 0/4000 [00:00<?, ?it/s]"
      ]
     },
     "metadata": {},
     "output_type": "display_data"
    },
    {
     "data": {
      "application/vnd.jupyter.widget-view+json": {
       "model_id": "442793b0d484469f86fd0c151fcf3728",
       "version_major": 2,
       "version_minor": 0
      },
      "text/plain": [
       "  0%|          | 0/4000 [00:00<?, ?it/s]"
      ]
     },
     "metadata": {},
     "output_type": "display_data"
    },
    {
     "data": {
      "application/vnd.jupyter.widget-view+json": {
       "model_id": "7b196c5b022c40db96460be3fcb38675",
       "version_major": 2,
       "version_minor": 0
      },
      "text/plain": [
       "  0%|          | 0/4000 [00:00<?, ?it/s]"
      ]
     },
     "metadata": {},
     "output_type": "display_data"
    },
    {
     "data": {
      "application/vnd.jupyter.widget-view+json": {
       "model_id": "be8ea7b5ffde48c7bcb6a35b56f7e0ca",
       "version_major": 2,
       "version_minor": 0
      },
      "text/plain": [
       "  0%|          | 0/4000 [00:00<?, ?it/s]"
      ]
     },
     "metadata": {},
     "output_type": "display_data"
    },
    {
     "data": {
      "application/vnd.jupyter.widget-view+json": {
       "model_id": "6fba91be9e4a4b12b74e427d96f89b5e",
       "version_major": 2,
       "version_minor": 0
      },
      "text/plain": [
       "  0%|          | 0/4000 [00:00<?, ?it/s]"
      ]
     },
     "metadata": {},
     "output_type": "display_data"
    },
    {
     "data": {
      "application/vnd.jupyter.widget-view+json": {
       "model_id": "7d4e3594573e4edcaf86b468963b8f84",
       "version_major": 2,
       "version_minor": 0
      },
      "text/plain": [
       "  0%|          | 0/4000 [00:00<?, ?it/s]"
      ]
     },
     "metadata": {},
     "output_type": "display_data"
    },
    {
     "data": {
      "application/vnd.jupyter.widget-view+json": {
       "model_id": "ca2ab87ef8f34d10bdee1c4174b3d752",
       "version_major": 2,
       "version_minor": 0
      },
      "text/plain": [
       "  0%|          | 0/4000 [00:00<?, ?it/s]"
      ]
     },
     "metadata": {},
     "output_type": "display_data"
    },
    {
     "data": {
      "application/vnd.jupyter.widget-view+json": {
       "model_id": "c68460578c8449e3a52f411643257986",
       "version_major": 2,
       "version_minor": 0
      },
      "text/plain": [
       "  0%|          | 0/4000 [00:00<?, ?it/s]"
      ]
     },
     "metadata": {},
     "output_type": "display_data"
    },
    {
     "data": {
      "application/vnd.jupyter.widget-view+json": {
       "model_id": "5861897690994fda9361a561ce403a22",
       "version_major": 2,
       "version_minor": 0
      },
      "text/plain": [
       "  0%|          | 0/4000 [00:00<?, ?it/s]"
      ]
     },
     "metadata": {},
     "output_type": "display_data"
    },
    {
     "data": {
      "application/vnd.jupyter.widget-view+json": {
       "model_id": "ab2b97e1b7ea4bbfb7ceb371ec8a93b4",
       "version_major": 2,
       "version_minor": 0
      },
      "text/plain": [
       "  0%|          | 0/4000 [00:00<?, ?it/s]"
      ]
     },
     "metadata": {},
     "output_type": "display_data"
    },
    {
     "data": {
      "application/vnd.jupyter.widget-view+json": {
       "model_id": "7f7dcbb3626440f29e0549b40597b61d",
       "version_major": 2,
       "version_minor": 0
      },
      "text/plain": [
       "  0%|          | 0/4000 [00:00<?, ?it/s]"
      ]
     },
     "metadata": {},
     "output_type": "display_data"
    },
    {
     "data": {
      "application/vnd.jupyter.widget-view+json": {
       "model_id": "46bf2adb349941549225193c3265d50b",
       "version_major": 2,
       "version_minor": 0
      },
      "text/plain": [
       "  0%|          | 0/4000 [00:00<?, ?it/s]"
      ]
     },
     "metadata": {},
     "output_type": "display_data"
    },
    {
     "data": {
      "application/vnd.jupyter.widget-view+json": {
       "model_id": "6968d46bfae74ad38986551a57363999",
       "version_major": 2,
       "version_minor": 0
      },
      "text/plain": [
       "  0%|          | 0/4000 [00:00<?, ?it/s]"
      ]
     },
     "metadata": {},
     "output_type": "display_data"
    },
    {
     "data": {
      "application/vnd.jupyter.widget-view+json": {
       "model_id": "b5ca092be87c45b484f0d3a5c0ef3126",
       "version_major": 2,
       "version_minor": 0
      },
      "text/plain": [
       "  0%|          | 0/4000 [00:00<?, ?it/s]"
      ]
     },
     "metadata": {},
     "output_type": "display_data"
    },
    {
     "data": {
      "application/vnd.jupyter.widget-view+json": {
       "model_id": "049c40a847244bf79bb0dbcbeee4bd88",
       "version_major": 2,
       "version_minor": 0
      },
      "text/plain": [
       "  0%|          | 0/4000 [00:00<?, ?it/s]"
      ]
     },
     "metadata": {},
     "output_type": "display_data"
    },
    {
     "data": {
      "application/vnd.jupyter.widget-view+json": {
       "model_id": "5cf9690c309f4b6b8488a51f2dfbe331",
       "version_major": 2,
       "version_minor": 0
      },
      "text/plain": [
       "  0%|          | 0/4000 [00:00<?, ?it/s]"
      ]
     },
     "metadata": {},
     "output_type": "display_data"
    },
    {
     "data": {
      "application/vnd.jupyter.widget-view+json": {
       "model_id": "894ffb1933754216a8203159468db920",
       "version_major": 2,
       "version_minor": 0
      },
      "text/plain": [
       "  0%|          | 0/4000 [00:00<?, ?it/s]"
      ]
     },
     "metadata": {},
     "output_type": "display_data"
    },
    {
     "data": {
      "application/vnd.jupyter.widget-view+json": {
       "model_id": "abb71eb4dd084e57920f80a7c640f7f6",
       "version_major": 2,
       "version_minor": 0
      },
      "text/plain": [
       "  0%|          | 0/4000 [00:00<?, ?it/s]"
      ]
     },
     "metadata": {},
     "output_type": "display_data"
    },
    {
     "data": {
      "application/vnd.jupyter.widget-view+json": {
       "model_id": "631f2d1f69264ed6846a9809f144881f",
       "version_major": 2,
       "version_minor": 0
      },
      "text/plain": [
       "  0%|          | 0/4000 [00:00<?, ?it/s]"
      ]
     },
     "metadata": {},
     "output_type": "display_data"
    },
    {
     "data": {
      "application/vnd.jupyter.widget-view+json": {
       "model_id": "889862872aa7412b9d7ea5710cae9c79",
       "version_major": 2,
       "version_minor": 0
      },
      "text/plain": [
       "  0%|          | 0/4000 [00:00<?, ?it/s]"
      ]
     },
     "metadata": {},
     "output_type": "display_data"
    },
    {
     "data": {
      "application/vnd.jupyter.widget-view+json": {
       "model_id": "f2505600335a44369c3c35e6dcdb2618",
       "version_major": 2,
       "version_minor": 0
      },
      "text/plain": [
       "  0%|          | 0/4000 [00:00<?, ?it/s]"
      ]
     },
     "metadata": {},
     "output_type": "display_data"
    },
    {
     "data": {
      "application/vnd.jupyter.widget-view+json": {
       "model_id": "85c85cf4a514462eb2c7baf9be120a82",
       "version_major": 2,
       "version_minor": 0
      },
      "text/plain": [
       "  0%|          | 0/4000 [00:00<?, ?it/s]"
      ]
     },
     "metadata": {},
     "output_type": "display_data"
    },
    {
     "data": {
      "application/vnd.jupyter.widget-view+json": {
       "model_id": "6844da37c17e438fb44c29f7edfcca6d",
       "version_major": 2,
       "version_minor": 0
      },
      "text/plain": [
       "  0%|          | 0/4000 [00:00<?, ?it/s]"
      ]
     },
     "metadata": {},
     "output_type": "display_data"
    },
    {
     "data": {
      "application/vnd.jupyter.widget-view+json": {
       "model_id": "2610181602964c4f90ccf6e16da76bf3",
       "version_major": 2,
       "version_minor": 0
      },
      "text/plain": [
       "  0%|          | 0/4000 [00:00<?, ?it/s]"
      ]
     },
     "metadata": {},
     "output_type": "display_data"
    },
    {
     "data": {
      "application/vnd.jupyter.widget-view+json": {
       "model_id": "c7fe5c6318224a3a96975afa0a1fee89",
       "version_major": 2,
       "version_minor": 0
      },
      "text/plain": [
       "  0%|          | 0/4000 [00:00<?, ?it/s]"
      ]
     },
     "metadata": {},
     "output_type": "display_data"
    },
    {
     "data": {
      "application/vnd.jupyter.widget-view+json": {
       "model_id": "73b4c55350054a71921ff0baa7a64897",
       "version_major": 2,
       "version_minor": 0
      },
      "text/plain": [
       "  0%|          | 0/4000 [00:00<?, ?it/s]"
      ]
     },
     "metadata": {},
     "output_type": "display_data"
    },
    {
     "data": {
      "application/vnd.jupyter.widget-view+json": {
       "model_id": "e06dddd88ac8414f84040f150c5a2b12",
       "version_major": 2,
       "version_minor": 0
      },
      "text/plain": [
       "  0%|          | 0/4000 [00:00<?, ?it/s]"
      ]
     },
     "metadata": {},
     "output_type": "display_data"
    },
    {
     "data": {
      "application/vnd.jupyter.widget-view+json": {
       "model_id": "9b154ff989454616917040cfb6df159f",
       "version_major": 2,
       "version_minor": 0
      },
      "text/plain": [
       "  0%|          | 0/4000 [00:00<?, ?it/s]"
      ]
     },
     "metadata": {},
     "output_type": "display_data"
    },
    {
     "data": {
      "application/vnd.jupyter.widget-view+json": {
       "model_id": "a3bcf5b8ca7149cd80b83a96bee8ed6d",
       "version_major": 2,
       "version_minor": 0
      },
      "text/plain": [
       "  0%|          | 0/4000 [00:00<?, ?it/s]"
      ]
     },
     "metadata": {},
     "output_type": "display_data"
    },
    {
     "data": {
      "application/vnd.jupyter.widget-view+json": {
       "model_id": "a473a5c03487421a9c100c21bd05a5a9",
       "version_major": 2,
       "version_minor": 0
      },
      "text/plain": [
       "  0%|          | 0/4000 [00:00<?, ?it/s]"
      ]
     },
     "metadata": {},
     "output_type": "display_data"
    },
    {
     "data": {
      "application/vnd.jupyter.widget-view+json": {
       "model_id": "9780998a711a4afcad1714bd079aafb7",
       "version_major": 2,
       "version_minor": 0
      },
      "text/plain": [
       "  0%|          | 0/4000 [00:00<?, ?it/s]"
      ]
     },
     "metadata": {},
     "output_type": "display_data"
    },
    {
     "data": {
      "application/vnd.jupyter.widget-view+json": {
       "model_id": "5e6ce9ae1a87453392387e0e8d7fd8e2",
       "version_major": 2,
       "version_minor": 0
      },
      "text/plain": [
       "  0%|          | 0/4000 [00:00<?, ?it/s]"
      ]
     },
     "metadata": {},
     "output_type": "display_data"
    },
    {
     "data": {
      "application/vnd.jupyter.widget-view+json": {
       "model_id": "e9dd9f44f8b1482e905f6466de3c37b9",
       "version_major": 2,
       "version_minor": 0
      },
      "text/plain": [
       "  0%|          | 0/4000 [00:00<?, ?it/s]"
      ]
     },
     "metadata": {},
     "output_type": "display_data"
    },
    {
     "data": {
      "application/vnd.jupyter.widget-view+json": {
       "model_id": "c9846fc8602d4f46a48dea017cad0fc9",
       "version_major": 2,
       "version_minor": 0
      },
      "text/plain": [
       "  0%|          | 0/4000 [00:00<?, ?it/s]"
      ]
     },
     "metadata": {},
     "output_type": "display_data"
    },
    {
     "data": {
      "application/vnd.jupyter.widget-view+json": {
       "model_id": "8331c4f618f64a80a4b06b7f97376a81",
       "version_major": 2,
       "version_minor": 0
      },
      "text/plain": [
       "  0%|          | 0/4000 [00:00<?, ?it/s]"
      ]
     },
     "metadata": {},
     "output_type": "display_data"
    },
    {
     "data": {
      "application/vnd.jupyter.widget-view+json": {
       "model_id": "293ae436a2e444e79ee6d4d75cf9e660",
       "version_major": 2,
       "version_minor": 0
      },
      "text/plain": [
       "  0%|          | 0/4000 [00:00<?, ?it/s]"
      ]
     },
     "metadata": {},
     "output_type": "display_data"
    },
    {
     "data": {
      "application/vnd.jupyter.widget-view+json": {
       "model_id": "0aea91e36ac44a11a5a3976b9e93474b",
       "version_major": 2,
       "version_minor": 0
      },
      "text/plain": [
       "  0%|          | 0/4000 [00:00<?, ?it/s]"
      ]
     },
     "metadata": {},
     "output_type": "display_data"
    },
    {
     "data": {
      "application/vnd.jupyter.widget-view+json": {
       "model_id": "ab7174d2b0c64903992dbca1e2da8980",
       "version_major": 2,
       "version_minor": 0
      },
      "text/plain": [
       "  0%|          | 0/4000 [00:00<?, ?it/s]"
      ]
     },
     "metadata": {},
     "output_type": "display_data"
    },
    {
     "data": {
      "application/vnd.jupyter.widget-view+json": {
       "model_id": "986d5012c64944cbafbd84cef0db5e78",
       "version_major": 2,
       "version_minor": 0
      },
      "text/plain": [
       "  0%|          | 0/4000 [00:00<?, ?it/s]"
      ]
     },
     "metadata": {},
     "output_type": "display_data"
    },
    {
     "data": {
      "application/vnd.jupyter.widget-view+json": {
       "model_id": "20af350880214e61b0910b17e32f1ee6",
       "version_major": 2,
       "version_minor": 0
      },
      "text/plain": [
       "  0%|          | 0/4000 [00:00<?, ?it/s]"
      ]
     },
     "metadata": {},
     "output_type": "display_data"
    },
    {
     "data": {
      "application/vnd.jupyter.widget-view+json": {
       "model_id": "31371444481540f3ad66802593696e47",
       "version_major": 2,
       "version_minor": 0
      },
      "text/plain": [
       "  0%|          | 0/4000 [00:00<?, ?it/s]"
      ]
     },
     "metadata": {},
     "output_type": "display_data"
    },
    {
     "data": {
      "application/vnd.jupyter.widget-view+json": {
       "model_id": "ed5ea053af2c4197b9338e5a4f52a75e",
       "version_major": 2,
       "version_minor": 0
      },
      "text/plain": [
       "  0%|          | 0/4000 [00:00<?, ?it/s]"
      ]
     },
     "metadata": {},
     "output_type": "display_data"
    },
    {
     "data": {
      "application/vnd.jupyter.widget-view+json": {
       "model_id": "3a964ae2af2e46ef9a1b0277f55fae45",
       "version_major": 2,
       "version_minor": 0
      },
      "text/plain": [
       "  0%|          | 0/4000 [00:00<?, ?it/s]"
      ]
     },
     "metadata": {},
     "output_type": "display_data"
    },
    {
     "data": {
      "application/vnd.jupyter.widget-view+json": {
       "model_id": "91f35848bf8d42afa136df7949223c86",
       "version_major": 2,
       "version_minor": 0
      },
      "text/plain": [
       "  0%|          | 0/4000 [00:00<?, ?it/s]"
      ]
     },
     "metadata": {},
     "output_type": "display_data"
    },
    {
     "data": {
      "application/vnd.jupyter.widget-view+json": {
       "model_id": "e68bfb7abd784bfc967a182b76979576",
       "version_major": 2,
       "version_minor": 0
      },
      "text/plain": [
       "  0%|          | 0/4000 [00:00<?, ?it/s]"
      ]
     },
     "metadata": {},
     "output_type": "display_data"
    },
    {
     "data": {
      "application/vnd.jupyter.widget-view+json": {
       "model_id": "e190dc070a494762aa013e24369a97ac",
       "version_major": 2,
       "version_minor": 0
      },
      "text/plain": [
       "  0%|          | 0/4000 [00:00<?, ?it/s]"
      ]
     },
     "metadata": {},
     "output_type": "display_data"
    },
    {
     "data": {
      "application/vnd.jupyter.widget-view+json": {
       "model_id": "4cd97e2951974a1dba486d089e6a4ea6",
       "version_major": 2,
       "version_minor": 0
      },
      "text/plain": [
       "  0%|          | 0/4000 [00:00<?, ?it/s]"
      ]
     },
     "metadata": {},
     "output_type": "display_data"
    },
    {
     "data": {
      "application/vnd.jupyter.widget-view+json": {
       "model_id": "19e0fff247b34202a3b1ee5953915e84",
       "version_major": 2,
       "version_minor": 0
      },
      "text/plain": [
       "  0%|          | 0/4000 [00:00<?, ?it/s]"
      ]
     },
     "metadata": {},
     "output_type": "display_data"
    },
    {
     "data": {
      "application/vnd.jupyter.widget-view+json": {
       "model_id": "ce5ba2824fcf4cbcb91fff0136ff1920",
       "version_major": 2,
       "version_minor": 0
      },
      "text/plain": [
       "  0%|          | 0/4000 [00:00<?, ?it/s]"
      ]
     },
     "metadata": {},
     "output_type": "display_data"
    },
    {
     "data": {
      "application/vnd.jupyter.widget-view+json": {
       "model_id": "99086dc8e45842d78ec09e5b6b7973be",
       "version_major": 2,
       "version_minor": 0
      },
      "text/plain": [
       "  0%|          | 0/4000 [00:00<?, ?it/s]"
      ]
     },
     "metadata": {},
     "output_type": "display_data"
    },
    {
     "data": {
      "application/vnd.jupyter.widget-view+json": {
       "model_id": "43c06db97e2d48b4aae1e628848ebab9",
       "version_major": 2,
       "version_minor": 0
      },
      "text/plain": [
       "  0%|          | 0/4000 [00:00<?, ?it/s]"
      ]
     },
     "metadata": {},
     "output_type": "display_data"
    },
    {
     "data": {
      "application/vnd.jupyter.widget-view+json": {
       "model_id": "af595cc3fca44b04b12d17e347a346bd",
       "version_major": 2,
       "version_minor": 0
      },
      "text/plain": [
       "  0%|          | 0/4000 [00:00<?, ?it/s]"
      ]
     },
     "metadata": {},
     "output_type": "display_data"
    },
    {
     "data": {
      "application/vnd.jupyter.widget-view+json": {
       "model_id": "f7047fb39f964570a1ff09b8966962d0",
       "version_major": 2,
       "version_minor": 0
      },
      "text/plain": [
       "  0%|          | 0/4000 [00:00<?, ?it/s]"
      ]
     },
     "metadata": {},
     "output_type": "display_data"
    },
    {
     "data": {
      "application/vnd.jupyter.widget-view+json": {
       "model_id": "f8790ef02f6a44a39064d5fe6222c9b1",
       "version_major": 2,
       "version_minor": 0
      },
      "text/plain": [
       "  0%|          | 0/4000 [00:00<?, ?it/s]"
      ]
     },
     "metadata": {},
     "output_type": "display_data"
    },
    {
     "data": {
      "application/vnd.jupyter.widget-view+json": {
       "model_id": "48d16854ae1e4a898ff16d30f141f1b8",
       "version_major": 2,
       "version_minor": 0
      },
      "text/plain": [
       "  0%|          | 0/4000 [00:00<?, ?it/s]"
      ]
     },
     "metadata": {},
     "output_type": "display_data"
    },
    {
     "data": {
      "application/vnd.jupyter.widget-view+json": {
       "model_id": "ab4731965317455bb34961bd10165706",
       "version_major": 2,
       "version_minor": 0
      },
      "text/plain": [
       "  0%|          | 0/4000 [00:00<?, ?it/s]"
      ]
     },
     "metadata": {},
     "output_type": "display_data"
    },
    {
     "data": {
      "application/vnd.jupyter.widget-view+json": {
       "model_id": "07feeee7be4246abae6ff4ada1bd6d9f",
       "version_major": 2,
       "version_minor": 0
      },
      "text/plain": [
       "  0%|          | 0/4000 [00:00<?, ?it/s]"
      ]
     },
     "metadata": {},
     "output_type": "display_data"
    },
    {
     "data": {
      "application/vnd.jupyter.widget-view+json": {
       "model_id": "3b559f089ea54804b54a72f5f03a0168",
       "version_major": 2,
       "version_minor": 0
      },
      "text/plain": [
       "  0%|          | 0/4000 [00:00<?, ?it/s]"
      ]
     },
     "metadata": {},
     "output_type": "display_data"
    },
    {
     "data": {
      "application/vnd.jupyter.widget-view+json": {
       "model_id": "199968dbfd88498dae8707284ecb928a",
       "version_major": 2,
       "version_minor": 0
      },
      "text/plain": [
       "  0%|          | 0/4000 [00:00<?, ?it/s]"
      ]
     },
     "metadata": {},
     "output_type": "display_data"
    },
    {
     "data": {
      "application/vnd.jupyter.widget-view+json": {
       "model_id": "6af53b7304444fcf8b5acf1b44bcd574",
       "version_major": 2,
       "version_minor": 0
      },
      "text/plain": [
       "  0%|          | 0/4000 [00:00<?, ?it/s]"
      ]
     },
     "metadata": {},
     "output_type": "display_data"
    },
    {
     "data": {
      "application/vnd.jupyter.widget-view+json": {
       "model_id": "56f09135e7334839adf6762d3aabda7a",
       "version_major": 2,
       "version_minor": 0
      },
      "text/plain": [
       "  0%|          | 0/4000 [00:00<?, ?it/s]"
      ]
     },
     "metadata": {},
     "output_type": "display_data"
    },
    {
     "data": {
      "application/vnd.jupyter.widget-view+json": {
       "model_id": "5863fa87a1bd453e83269eda13d42ed4",
       "version_major": 2,
       "version_minor": 0
      },
      "text/plain": [
       "  0%|          | 0/4000 [00:00<?, ?it/s]"
      ]
     },
     "metadata": {},
     "output_type": "display_data"
    },
    {
     "data": {
      "application/vnd.jupyter.widget-view+json": {
       "model_id": "e48eedbd04e84e07800af84332a7650a",
       "version_major": 2,
       "version_minor": 0
      },
      "text/plain": [
       "  0%|          | 0/4000 [00:00<?, ?it/s]"
      ]
     },
     "metadata": {},
     "output_type": "display_data"
    },
    {
     "data": {
      "application/vnd.jupyter.widget-view+json": {
       "model_id": "2e60e7c609204a548480a6f5cab0d35e",
       "version_major": 2,
       "version_minor": 0
      },
      "text/plain": [
       "  0%|          | 0/4000 [00:00<?, ?it/s]"
      ]
     },
     "metadata": {},
     "output_type": "display_data"
    },
    {
     "data": {
      "application/vnd.jupyter.widget-view+json": {
       "model_id": "6a0a447ac4b347baa04cbc89d8f604ba",
       "version_major": 2,
       "version_minor": 0
      },
      "text/plain": [
       "  0%|          | 0/4000 [00:00<?, ?it/s]"
      ]
     },
     "metadata": {},
     "output_type": "display_data"
    },
    {
     "data": {
      "application/vnd.jupyter.widget-view+json": {
       "model_id": "824d686cb88046f09d8abf6258be0ad6",
       "version_major": 2,
       "version_minor": 0
      },
      "text/plain": [
       "  0%|          | 0/4000 [00:00<?, ?it/s]"
      ]
     },
     "metadata": {},
     "output_type": "display_data"
    },
    {
     "data": {
      "application/vnd.jupyter.widget-view+json": {
       "model_id": "9156e9c40c18425e953fe1940e14bec9",
       "version_major": 2,
       "version_minor": 0
      },
      "text/plain": [
       "  0%|          | 0/4000 [00:00<?, ?it/s]"
      ]
     },
     "metadata": {},
     "output_type": "display_data"
    },
    {
     "data": {
      "application/vnd.jupyter.widget-view+json": {
       "model_id": "1be25e72bb7a4f3084ccf1c8c5ced447",
       "version_major": 2,
       "version_minor": 0
      },
      "text/plain": [
       "  0%|          | 0/4000 [00:00<?, ?it/s]"
      ]
     },
     "metadata": {},
     "output_type": "display_data"
    },
    {
     "data": {
      "application/vnd.jupyter.widget-view+json": {
       "model_id": "6bf639b97a314e50a4292451419d5847",
       "version_major": 2,
       "version_minor": 0
      },
      "text/plain": [
       "  0%|          | 0/4000 [00:00<?, ?it/s]"
      ]
     },
     "metadata": {},
     "output_type": "display_data"
    },
    {
     "data": {
      "application/vnd.jupyter.widget-view+json": {
       "model_id": "2f3d9bb2294c4046a4dbd68f1670d7f8",
       "version_major": 2,
       "version_minor": 0
      },
      "text/plain": [
       "  0%|          | 0/4000 [00:00<?, ?it/s]"
      ]
     },
     "metadata": {},
     "output_type": "display_data"
    },
    {
     "data": {
      "application/vnd.jupyter.widget-view+json": {
       "model_id": "77ed0c99c92e412795a3c27380146f7f",
       "version_major": 2,
       "version_minor": 0
      },
      "text/plain": [
       "  0%|          | 0/4000 [00:00<?, ?it/s]"
      ]
     },
     "metadata": {},
     "output_type": "display_data"
    },
    {
     "data": {
      "application/vnd.jupyter.widget-view+json": {
       "model_id": "1d6d7244813e44c69e52fc44ae25e209",
       "version_major": 2,
       "version_minor": 0
      },
      "text/plain": [
       "  0%|          | 0/4000 [00:00<?, ?it/s]"
      ]
     },
     "metadata": {},
     "output_type": "display_data"
    },
    {
     "data": {
      "application/vnd.jupyter.widget-view+json": {
       "model_id": "e137f7c9d7b14607a45219b3ddcf962e",
       "version_major": 2,
       "version_minor": 0
      },
      "text/plain": [
       "  0%|          | 0/4000 [00:00<?, ?it/s]"
      ]
     },
     "metadata": {},
     "output_type": "display_data"
    },
    {
     "data": {
      "application/vnd.jupyter.widget-view+json": {
       "model_id": "ac535c8ca3994fbbb51fcca7dab64209",
       "version_major": 2,
       "version_minor": 0
      },
      "text/plain": [
       "  0%|          | 0/4000 [00:00<?, ?it/s]"
      ]
     },
     "metadata": {},
     "output_type": "display_data"
    },
    {
     "data": {
      "application/vnd.jupyter.widget-view+json": {
       "model_id": "7cb8223e51ab4ee28f12256511404514",
       "version_major": 2,
       "version_minor": 0
      },
      "text/plain": [
       "  0%|          | 0/4000 [00:00<?, ?it/s]"
      ]
     },
     "metadata": {},
     "output_type": "display_data"
    },
    {
     "data": {
      "application/vnd.jupyter.widget-view+json": {
       "model_id": "f00dd378a5524e388896cd8c48e995e1",
       "version_major": 2,
       "version_minor": 0
      },
      "text/plain": [
       "  0%|          | 0/4000 [00:00<?, ?it/s]"
      ]
     },
     "metadata": {},
     "output_type": "display_data"
    },
    {
     "data": {
      "application/vnd.jupyter.widget-view+json": {
       "model_id": "2b72511013d94451b54096e93ffe5f75",
       "version_major": 2,
       "version_minor": 0
      },
      "text/plain": [
       "  0%|          | 0/4000 [00:00<?, ?it/s]"
      ]
     },
     "metadata": {},
     "output_type": "display_data"
    },
    {
     "data": {
      "application/vnd.jupyter.widget-view+json": {
       "model_id": "697eeb46645a49f8ace4659d30b15c15",
       "version_major": 2,
       "version_minor": 0
      },
      "text/plain": [
       "  0%|          | 0/4000 [00:00<?, ?it/s]"
      ]
     },
     "metadata": {},
     "output_type": "display_data"
    },
    {
     "data": {
      "application/vnd.jupyter.widget-view+json": {
       "model_id": "6334e0445294456f8f2ee200253758a8",
       "version_major": 2,
       "version_minor": 0
      },
      "text/plain": [
       "  0%|          | 0/4000 [00:00<?, ?it/s]"
      ]
     },
     "metadata": {},
     "output_type": "display_data"
    },
    {
     "data": {
      "application/vnd.jupyter.widget-view+json": {
       "model_id": "8df6e7ba567544f2adcbadfc90059438",
       "version_major": 2,
       "version_minor": 0
      },
      "text/plain": [
       "  0%|          | 0/4000 [00:00<?, ?it/s]"
      ]
     },
     "metadata": {},
     "output_type": "display_data"
    },
    {
     "data": {
      "application/vnd.jupyter.widget-view+json": {
       "model_id": "099e509dfe1d4edd9fd8d7cfa82e32bc",
       "version_major": 2,
       "version_minor": 0
      },
      "text/plain": [
       "  0%|          | 0/4000 [00:00<?, ?it/s]"
      ]
     },
     "metadata": {},
     "output_type": "display_data"
    },
    {
     "data": {
      "application/vnd.jupyter.widget-view+json": {
       "model_id": "1b61c693ca5c43cbb8526ce34c06c805",
       "version_major": 2,
       "version_minor": 0
      },
      "text/plain": [
       "  0%|          | 0/4000 [00:00<?, ?it/s]"
      ]
     },
     "metadata": {},
     "output_type": "display_data"
    },
    {
     "data": {
      "application/vnd.jupyter.widget-view+json": {
       "model_id": "f0d3835dbda645b48d88279a20bfb4ff",
       "version_major": 2,
       "version_minor": 0
      },
      "text/plain": [
       "  0%|          | 0/4000 [00:00<?, ?it/s]"
      ]
     },
     "metadata": {},
     "output_type": "display_data"
    },
    {
     "data": {
      "application/vnd.jupyter.widget-view+json": {
       "model_id": "a18a9e6ed70a4e98945c0e6466d0d981",
       "version_major": 2,
       "version_minor": 0
      },
      "text/plain": [
       "  0%|          | 0/4000 [00:00<?, ?it/s]"
      ]
     },
     "metadata": {},
     "output_type": "display_data"
    },
    {
     "data": {
      "application/vnd.jupyter.widget-view+json": {
       "model_id": "71428b91f5044c68bbe5bf1a52945c84",
       "version_major": 2,
       "version_minor": 0
      },
      "text/plain": [
       "  0%|          | 0/4000 [00:00<?, ?it/s]"
      ]
     },
     "metadata": {},
     "output_type": "display_data"
    },
    {
     "data": {
      "application/vnd.jupyter.widget-view+json": {
       "model_id": "4acd2864c5bc4ab0929b49df0104fe9a",
       "version_major": 2,
       "version_minor": 0
      },
      "text/plain": [
       "  0%|          | 0/4000 [00:00<?, ?it/s]"
      ]
     },
     "metadata": {},
     "output_type": "display_data"
    },
    {
     "data": {
      "application/vnd.jupyter.widget-view+json": {
       "model_id": "52499125b6fc4a339298fdd17073060f",
       "version_major": 2,
       "version_minor": 0
      },
      "text/plain": [
       "  0%|          | 0/4000 [00:00<?, ?it/s]"
      ]
     },
     "metadata": {},
     "output_type": "display_data"
    },
    {
     "data": {
      "application/vnd.jupyter.widget-view+json": {
       "model_id": "a89d076132c445b6b1fd93e2230562ad",
       "version_major": 2,
       "version_minor": 0
      },
      "text/plain": [
       "  0%|          | 0/4000 [00:00<?, ?it/s]"
      ]
     },
     "metadata": {},
     "output_type": "display_data"
    },
    {
     "data": {
      "application/vnd.jupyter.widget-view+json": {
       "model_id": "ced9319478d441d485dafd098253a80c",
       "version_major": 2,
       "version_minor": 0
      },
      "text/plain": [
       "  0%|          | 0/4000 [00:00<?, ?it/s]"
      ]
     },
     "metadata": {},
     "output_type": "display_data"
    },
    {
     "data": {
      "application/vnd.jupyter.widget-view+json": {
       "model_id": "f0879bf4e77f497483bc182dd3ceedf4",
       "version_major": 2,
       "version_minor": 0
      },
      "text/plain": [
       "  0%|          | 0/4000 [00:00<?, ?it/s]"
      ]
     },
     "metadata": {},
     "output_type": "display_data"
    },
    {
     "data": {
      "application/vnd.jupyter.widget-view+json": {
       "model_id": "612409fc972c4e0292a382f8f05b7bb6",
       "version_major": 2,
       "version_minor": 0
      },
      "text/plain": [
       "  0%|          | 0/4000 [00:00<?, ?it/s]"
      ]
     },
     "metadata": {},
     "output_type": "display_data"
    },
    {
     "data": {
      "application/vnd.jupyter.widget-view+json": {
       "model_id": "b0f5b2cc337d4c3794a153bd4b7c0d6f",
       "version_major": 2,
       "version_minor": 0
      },
      "text/plain": [
       "  0%|          | 0/4000 [00:00<?, ?it/s]"
      ]
     },
     "metadata": {},
     "output_type": "display_data"
    },
    {
     "data": {
      "application/vnd.jupyter.widget-view+json": {
       "model_id": "f990eb3fb52646ac9cd66c87875787da",
       "version_major": 2,
       "version_minor": 0
      },
      "text/plain": [
       "  0%|          | 0/4000 [00:00<?, ?it/s]"
      ]
     },
     "metadata": {},
     "output_type": "display_data"
    },
    {
     "data": {
      "application/vnd.jupyter.widget-view+json": {
       "model_id": "351dacd7ed8a4b89a07fe20a02781136",
       "version_major": 2,
       "version_minor": 0
      },
      "text/plain": [
       "  0%|          | 0/4000 [00:00<?, ?it/s]"
      ]
     },
     "metadata": {},
     "output_type": "display_data"
    },
    {
     "data": {
      "application/vnd.jupyter.widget-view+json": {
       "model_id": "3f4040a944b747b9bcb14469a2d3757a",
       "version_major": 2,
       "version_minor": 0
      },
      "text/plain": [
       "  0%|          | 0/4000 [00:00<?, ?it/s]"
      ]
     },
     "metadata": {},
     "output_type": "display_data"
    },
    {
     "data": {
      "application/vnd.jupyter.widget-view+json": {
       "model_id": "44953f4417c0447b95c9105671547755",
       "version_major": 2,
       "version_minor": 0
      },
      "text/plain": [
       "  0%|          | 0/4000 [00:00<?, ?it/s]"
      ]
     },
     "metadata": {},
     "output_type": "display_data"
    },
    {
     "data": {
      "application/vnd.jupyter.widget-view+json": {
       "model_id": "c0ae3e82623e4aad87a3784e73d84e5b",
       "version_major": 2,
       "version_minor": 0
      },
      "text/plain": [
       "  0%|          | 0/4000 [00:00<?, ?it/s]"
      ]
     },
     "metadata": {},
     "output_type": "display_data"
    },
    {
     "data": {
      "application/vnd.jupyter.widget-view+json": {
       "model_id": "0fe6421b6f2548e6b8b26746464f980d",
       "version_major": 2,
       "version_minor": 0
      },
      "text/plain": [
       "  0%|          | 0/4000 [00:00<?, ?it/s]"
      ]
     },
     "metadata": {},
     "output_type": "display_data"
    },
    {
     "data": {
      "application/vnd.jupyter.widget-view+json": {
       "model_id": "1f6058e1da874a4e8bbcb8dbcbacc730",
       "version_major": 2,
       "version_minor": 0
      },
      "text/plain": [
       "  0%|          | 0/4000 [00:00<?, ?it/s]"
      ]
     },
     "metadata": {},
     "output_type": "display_data"
    },
    {
     "data": {
      "application/vnd.jupyter.widget-view+json": {
       "model_id": "f3d58470215b4eda81e035238b97a9b6",
       "version_major": 2,
       "version_minor": 0
      },
      "text/plain": [
       "  0%|          | 0/4000 [00:00<?, ?it/s]"
      ]
     },
     "metadata": {},
     "output_type": "display_data"
    },
    {
     "data": {
      "application/vnd.jupyter.widget-view+json": {
       "model_id": "4cdebc8fb8d5457a9f67508be3937d03",
       "version_major": 2,
       "version_minor": 0
      },
      "text/plain": [
       "  0%|          | 0/4000 [00:00<?, ?it/s]"
      ]
     },
     "metadata": {},
     "output_type": "display_data"
    },
    {
     "data": {
      "application/vnd.jupyter.widget-view+json": {
       "model_id": "53843705407744fa8ed318d2c5cbfd25",
       "version_major": 2,
       "version_minor": 0
      },
      "text/plain": [
       "  0%|          | 0/4000 [00:00<?, ?it/s]"
      ]
     },
     "metadata": {},
     "output_type": "display_data"
    },
    {
     "data": {
      "application/vnd.jupyter.widget-view+json": {
       "model_id": "a03853815933428b9fd0e21fee1c6f8d",
       "version_major": 2,
       "version_minor": 0
      },
      "text/plain": [
       "  0%|          | 0/4000 [00:00<?, ?it/s]"
      ]
     },
     "metadata": {},
     "output_type": "display_data"
    },
    {
     "data": {
      "application/vnd.jupyter.widget-view+json": {
       "model_id": "e3fdd6375fd84ed8b733da3786979bc6",
       "version_major": 2,
       "version_minor": 0
      },
      "text/plain": [
       "  0%|          | 0/4000 [00:00<?, ?it/s]"
      ]
     },
     "metadata": {},
     "output_type": "display_data"
    },
    {
     "data": {
      "application/vnd.jupyter.widget-view+json": {
       "model_id": "996044707a654ae7ad38e871bab34844",
       "version_major": 2,
       "version_minor": 0
      },
      "text/plain": [
       "  0%|          | 0/4000 [00:00<?, ?it/s]"
      ]
     },
     "metadata": {},
     "output_type": "display_data"
    },
    {
     "data": {
      "application/vnd.jupyter.widget-view+json": {
       "model_id": "394ebef2a93f4766a243cf2d875b909e",
       "version_major": 2,
       "version_minor": 0
      },
      "text/plain": [
       "  0%|          | 0/4000 [00:00<?, ?it/s]"
      ]
     },
     "metadata": {},
     "output_type": "display_data"
    },
    {
     "data": {
      "application/vnd.jupyter.widget-view+json": {
       "model_id": "7b870de4f0f84e77990a451c1fd57389",
       "version_major": 2,
       "version_minor": 0
      },
      "text/plain": [
       "  0%|          | 0/4000 [00:00<?, ?it/s]"
      ]
     },
     "metadata": {},
     "output_type": "display_data"
    },
    {
     "data": {
      "application/vnd.jupyter.widget-view+json": {
       "model_id": "0d0edd80eaf2490e812af9581f6ba90e",
       "version_major": 2,
       "version_minor": 0
      },
      "text/plain": [
       "  0%|          | 0/4000 [00:00<?, ?it/s]"
      ]
     },
     "metadata": {},
     "output_type": "display_data"
    },
    {
     "data": {
      "application/vnd.jupyter.widget-view+json": {
       "model_id": "0fecd6f1f77040a287a422a97f27989a",
       "version_major": 2,
       "version_minor": 0
      },
      "text/plain": [
       "  0%|          | 0/4000 [00:00<?, ?it/s]"
      ]
     },
     "metadata": {},
     "output_type": "display_data"
    },
    {
     "data": {
      "application/vnd.jupyter.widget-view+json": {
       "model_id": "33eb7d59b49e4897a3585eaef8c1ba7c",
       "version_major": 2,
       "version_minor": 0
      },
      "text/plain": [
       "  0%|          | 0/4000 [00:00<?, ?it/s]"
      ]
     },
     "metadata": {},
     "output_type": "display_data"
    },
    {
     "data": {
      "application/vnd.jupyter.widget-view+json": {
       "model_id": "72c14c9a46e84203a24f6b506ef98fae",
       "version_major": 2,
       "version_minor": 0
      },
      "text/plain": [
       "  0%|          | 0/4000 [00:00<?, ?it/s]"
      ]
     },
     "metadata": {},
     "output_type": "display_data"
    },
    {
     "data": {
      "application/vnd.jupyter.widget-view+json": {
       "model_id": "bcd04f1479de46a29a0ac41a4514df0f",
       "version_major": 2,
       "version_minor": 0
      },
      "text/plain": [
       "  0%|          | 0/4000 [00:00<?, ?it/s]"
      ]
     },
     "metadata": {},
     "output_type": "display_data"
    },
    {
     "data": {
      "application/vnd.jupyter.widget-view+json": {
       "model_id": "e43a9d47148f4d10aec161c90acc21b3",
       "version_major": 2,
       "version_minor": 0
      },
      "text/plain": [
       "  0%|          | 0/4000 [00:00<?, ?it/s]"
      ]
     },
     "metadata": {},
     "output_type": "display_data"
    },
    {
     "data": {
      "application/vnd.jupyter.widget-view+json": {
       "model_id": "6f0af3ff096b4900b94bb971a65d3d00",
       "version_major": 2,
       "version_minor": 0
      },
      "text/plain": [
       "  0%|          | 0/4000 [00:00<?, ?it/s]"
      ]
     },
     "metadata": {},
     "output_type": "display_data"
    },
    {
     "data": {
      "application/vnd.jupyter.widget-view+json": {
       "model_id": "601c0d61f4e4417f9e3aac8943921e51",
       "version_major": 2,
       "version_minor": 0
      },
      "text/plain": [
       "  0%|          | 0/4000 [00:00<?, ?it/s]"
      ]
     },
     "metadata": {},
     "output_type": "display_data"
    },
    {
     "data": {
      "application/vnd.jupyter.widget-view+json": {
       "model_id": "07a0d4861006420d91cf986c4bce4e37",
       "version_major": 2,
       "version_minor": 0
      },
      "text/plain": [
       "  0%|          | 0/4000 [00:00<?, ?it/s]"
      ]
     },
     "metadata": {},
     "output_type": "display_data"
    },
    {
     "data": {
      "application/vnd.jupyter.widget-view+json": {
       "model_id": "1a40ce8741f54d0cad359a1b128f9052",
       "version_major": 2,
       "version_minor": 0
      },
      "text/plain": [
       "  0%|          | 0/4000 [00:00<?, ?it/s]"
      ]
     },
     "metadata": {},
     "output_type": "display_data"
    },
    {
     "data": {
      "application/vnd.jupyter.widget-view+json": {
       "model_id": "36f82143fddd47f2b5260c7c86fa8c97",
       "version_major": 2,
       "version_minor": 0
      },
      "text/plain": [
       "  0%|          | 0/4000 [00:00<?, ?it/s]"
      ]
     },
     "metadata": {},
     "output_type": "display_data"
    },
    {
     "data": {
      "application/vnd.jupyter.widget-view+json": {
       "model_id": "e9e1be527da64856b02dc0dca35c6c3e",
       "version_major": 2,
       "version_minor": 0
      },
      "text/plain": [
       "  0%|          | 0/4000 [00:00<?, ?it/s]"
      ]
     },
     "metadata": {},
     "output_type": "display_data"
    },
    {
     "data": {
      "application/vnd.jupyter.widget-view+json": {
       "model_id": "9528a9e481da4403b7a15116443b47b0",
       "version_major": 2,
       "version_minor": 0
      },
      "text/plain": [
       "  0%|          | 0/4000 [00:00<?, ?it/s]"
      ]
     },
     "metadata": {},
     "output_type": "display_data"
    },
    {
     "data": {
      "application/vnd.jupyter.widget-view+json": {
       "model_id": "1d5910c4c0f44ce98b85f81b7f5a9774",
       "version_major": 2,
       "version_minor": 0
      },
      "text/plain": [
       "  0%|          | 0/4000 [00:00<?, ?it/s]"
      ]
     },
     "metadata": {},
     "output_type": "display_data"
    },
    {
     "data": {
      "application/vnd.jupyter.widget-view+json": {
       "model_id": "8d201016f02342a3b31a5166336d3fac",
       "version_major": 2,
       "version_minor": 0
      },
      "text/plain": [
       "  0%|          | 0/4000 [00:00<?, ?it/s]"
      ]
     },
     "metadata": {},
     "output_type": "display_data"
    },
    {
     "data": {
      "application/vnd.jupyter.widget-view+json": {
       "model_id": "06d5d512572e4953ae387061ab189c14",
       "version_major": 2,
       "version_minor": 0
      },
      "text/plain": [
       "  0%|          | 0/4000 [00:00<?, ?it/s]"
      ]
     },
     "metadata": {},
     "output_type": "display_data"
    },
    {
     "data": {
      "application/vnd.jupyter.widget-view+json": {
       "model_id": "585538bc925745a6848244f389f44fe5",
       "version_major": 2,
       "version_minor": 0
      },
      "text/plain": [
       "  0%|          | 0/4000 [00:00<?, ?it/s]"
      ]
     },
     "metadata": {},
     "output_type": "display_data"
    },
    {
     "data": {
      "application/vnd.jupyter.widget-view+json": {
       "model_id": "95364cc490af43b590f91f9d8d50445d",
       "version_major": 2,
       "version_minor": 0
      },
      "text/plain": [
       "  0%|          | 0/4000 [00:00<?, ?it/s]"
      ]
     },
     "metadata": {},
     "output_type": "display_data"
    },
    {
     "data": {
      "application/vnd.jupyter.widget-view+json": {
       "model_id": "b8fc0cff20c342f1a9a0876dfbd11af6",
       "version_major": 2,
       "version_minor": 0
      },
      "text/plain": [
       "  0%|          | 0/4000 [00:00<?, ?it/s]"
      ]
     },
     "metadata": {},
     "output_type": "display_data"
    },
    {
     "data": {
      "application/vnd.jupyter.widget-view+json": {
       "model_id": "57f0bf191f6e4463918130dbad7aa772",
       "version_major": 2,
       "version_minor": 0
      },
      "text/plain": [
       "  0%|          | 0/4000 [00:00<?, ?it/s]"
      ]
     },
     "metadata": {},
     "output_type": "display_data"
    },
    {
     "data": {
      "application/vnd.jupyter.widget-view+json": {
       "model_id": "d9215a8f2db04c388387bebaeab23519",
       "version_major": 2,
       "version_minor": 0
      },
      "text/plain": [
       "  0%|          | 0/4000 [00:00<?, ?it/s]"
      ]
     },
     "metadata": {},
     "output_type": "display_data"
    },
    {
     "data": {
      "application/vnd.jupyter.widget-view+json": {
       "model_id": "7e8a0d88515549f68908f0f4d17018a0",
       "version_major": 2,
       "version_minor": 0
      },
      "text/plain": [
       "  0%|          | 0/4000 [00:00<?, ?it/s]"
      ]
     },
     "metadata": {},
     "output_type": "display_data"
    },
    {
     "data": {
      "application/vnd.jupyter.widget-view+json": {
       "model_id": "258f2351c656463aaf86bab2a09a870e",
       "version_major": 2,
       "version_minor": 0
      },
      "text/plain": [
       "  0%|          | 0/4000 [00:00<?, ?it/s]"
      ]
     },
     "metadata": {},
     "output_type": "display_data"
    },
    {
     "data": {
      "application/vnd.jupyter.widget-view+json": {
       "model_id": "68b6292c318948b2bf9027d758d55277",
       "version_major": 2,
       "version_minor": 0
      },
      "text/plain": [
       "  0%|          | 0/4000 [00:00<?, ?it/s]"
      ]
     },
     "metadata": {},
     "output_type": "display_data"
    },
    {
     "data": {
      "application/vnd.jupyter.widget-view+json": {
       "model_id": "bdf08176cc744054899fbf4641ab73ba",
       "version_major": 2,
       "version_minor": 0
      },
      "text/plain": [
       "  0%|          | 0/4000 [00:00<?, ?it/s]"
      ]
     },
     "metadata": {},
     "output_type": "display_data"
    },
    {
     "data": {
      "application/vnd.jupyter.widget-view+json": {
       "model_id": "07cc5b7a473b43a08a5c1425ffa8ffae",
       "version_major": 2,
       "version_minor": 0
      },
      "text/plain": [
       "  0%|          | 0/4000 [00:00<?, ?it/s]"
      ]
     },
     "metadata": {},
     "output_type": "display_data"
    },
    {
     "data": {
      "application/vnd.jupyter.widget-view+json": {
       "model_id": "8dd1db27ba8b4e0084db2f3175ae5412",
       "version_major": 2,
       "version_minor": 0
      },
      "text/plain": [
       "  0%|          | 0/4000 [00:00<?, ?it/s]"
      ]
     },
     "metadata": {},
     "output_type": "display_data"
    },
    {
     "data": {
      "application/vnd.jupyter.widget-view+json": {
       "model_id": "e71bd77d7d3d44eda350fcb419013954",
       "version_major": 2,
       "version_minor": 0
      },
      "text/plain": [
       "  0%|          | 0/4000 [00:00<?, ?it/s]"
      ]
     },
     "metadata": {},
     "output_type": "display_data"
    },
    {
     "data": {
      "application/vnd.jupyter.widget-view+json": {
       "model_id": "bd79df8549274faaa3b45e036f28cfad",
       "version_major": 2,
       "version_minor": 0
      },
      "text/plain": [
       "  0%|          | 0/4000 [00:00<?, ?it/s]"
      ]
     },
     "metadata": {},
     "output_type": "display_data"
    },
    {
     "data": {
      "application/vnd.jupyter.widget-view+json": {
       "model_id": "6af84a3916e24e13b175cd05bc3f3775",
       "version_major": 2,
       "version_minor": 0
      },
      "text/plain": [
       "  0%|          | 0/4000 [00:00<?, ?it/s]"
      ]
     },
     "metadata": {},
     "output_type": "display_data"
    },
    {
     "data": {
      "application/vnd.jupyter.widget-view+json": {
       "model_id": "1ee86663d02d4215b91a133acf2c71e7",
       "version_major": 2,
       "version_minor": 0
      },
      "text/plain": [
       "  0%|          | 0/4000 [00:00<?, ?it/s]"
      ]
     },
     "metadata": {},
     "output_type": "display_data"
    },
    {
     "data": {
      "application/vnd.jupyter.widget-view+json": {
       "model_id": "de94ac626b2c473da7cc21073229f83b",
       "version_major": 2,
       "version_minor": 0
      },
      "text/plain": [
       "  0%|          | 0/4000 [00:00<?, ?it/s]"
      ]
     },
     "metadata": {},
     "output_type": "display_data"
    },
    {
     "data": {
      "application/vnd.jupyter.widget-view+json": {
       "model_id": "14145fa0f58e41a8b954942fc74b8110",
       "version_major": 2,
       "version_minor": 0
      },
      "text/plain": [
       "  0%|          | 0/4000 [00:00<?, ?it/s]"
      ]
     },
     "metadata": {},
     "output_type": "display_data"
    },
    {
     "data": {
      "application/vnd.jupyter.widget-view+json": {
       "model_id": "5308710c01c848dbb7b8b92ce99499ee",
       "version_major": 2,
       "version_minor": 0
      },
      "text/plain": [
       "  0%|          | 0/4000 [00:00<?, ?it/s]"
      ]
     },
     "metadata": {},
     "output_type": "display_data"
    },
    {
     "data": {
      "application/vnd.jupyter.widget-view+json": {
       "model_id": "20a19fd1749641869a4145b39f0394ce",
       "version_major": 2,
       "version_minor": 0
      },
      "text/plain": [
       "  0%|          | 0/4000 [00:00<?, ?it/s]"
      ]
     },
     "metadata": {},
     "output_type": "display_data"
    },
    {
     "data": {
      "application/vnd.jupyter.widget-view+json": {
       "model_id": "e14c2b55744e4c2d896aa58c0486f214",
       "version_major": 2,
       "version_minor": 0
      },
      "text/plain": [
       "  0%|          | 0/4000 [00:00<?, ?it/s]"
      ]
     },
     "metadata": {},
     "output_type": "display_data"
    },
    {
     "data": {
      "application/vnd.jupyter.widget-view+json": {
       "model_id": "33b1d568ce7b41d4bf92621150d038b3",
       "version_major": 2,
       "version_minor": 0
      },
      "text/plain": [
       "  0%|          | 0/4000 [00:00<?, ?it/s]"
      ]
     },
     "metadata": {},
     "output_type": "display_data"
    },
    {
     "data": {
      "application/vnd.jupyter.widget-view+json": {
       "model_id": "e40709aad1af472d9a4fceb4febbd0eb",
       "version_major": 2,
       "version_minor": 0
      },
      "text/plain": [
       "  0%|          | 0/4000 [00:00<?, ?it/s]"
      ]
     },
     "metadata": {},
     "output_type": "display_data"
    },
    {
     "data": {
      "application/vnd.jupyter.widget-view+json": {
       "model_id": "9d77e1a95c1c49359540a2b9bf83c23e",
       "version_major": 2,
       "version_minor": 0
      },
      "text/plain": [
       "  0%|          | 0/4000 [00:00<?, ?it/s]"
      ]
     },
     "metadata": {},
     "output_type": "display_data"
    },
    {
     "data": {
      "application/vnd.jupyter.widget-view+json": {
       "model_id": "7e5a3218cf1641018e261ad393f0ef74",
       "version_major": 2,
       "version_minor": 0
      },
      "text/plain": [
       "  0%|          | 0/4000 [00:00<?, ?it/s]"
      ]
     },
     "metadata": {},
     "output_type": "display_data"
    },
    {
     "data": {
      "application/vnd.jupyter.widget-view+json": {
       "model_id": "24c64ba59a7840df8e4138516bfa2651",
       "version_major": 2,
       "version_minor": 0
      },
      "text/plain": [
       "  0%|          | 0/4000 [00:00<?, ?it/s]"
      ]
     },
     "metadata": {},
     "output_type": "display_data"
    },
    {
     "data": {
      "application/vnd.jupyter.widget-view+json": {
       "model_id": "5deba7d6b99440e7a4e5816f84dafdf6",
       "version_major": 2,
       "version_minor": 0
      },
      "text/plain": [
       "  0%|          | 0/4000 [00:00<?, ?it/s]"
      ]
     },
     "metadata": {},
     "output_type": "display_data"
    },
    {
     "data": {
      "application/vnd.jupyter.widget-view+json": {
       "model_id": "77c79811f6ad40b38c48828c656772a1",
       "version_major": 2,
       "version_minor": 0
      },
      "text/plain": [
       "  0%|          | 0/4000 [00:00<?, ?it/s]"
      ]
     },
     "metadata": {},
     "output_type": "display_data"
    },
    {
     "data": {
      "application/vnd.jupyter.widget-view+json": {
       "model_id": "a0b927cde88f431493c8ecfc4adb2465",
       "version_major": 2,
       "version_minor": 0
      },
      "text/plain": [
       "  0%|          | 0/4000 [00:00<?, ?it/s]"
      ]
     },
     "metadata": {},
     "output_type": "display_data"
    },
    {
     "data": {
      "application/vnd.jupyter.widget-view+json": {
       "model_id": "fb2fd80473de425fae748086553d412e",
       "version_major": 2,
       "version_minor": 0
      },
      "text/plain": [
       "  0%|          | 0/4000 [00:00<?, ?it/s]"
      ]
     },
     "metadata": {},
     "output_type": "display_data"
    },
    {
     "data": {
      "application/vnd.jupyter.widget-view+json": {
       "model_id": "007d898eda6340f0b6515aec297db64b",
       "version_major": 2,
       "version_minor": 0
      },
      "text/plain": [
       "  0%|          | 0/4000 [00:00<?, ?it/s]"
      ]
     },
     "metadata": {},
     "output_type": "display_data"
    },
    {
     "data": {
      "application/vnd.jupyter.widget-view+json": {
       "model_id": "c50307c05f0b4a38932d27686a57dce3",
       "version_major": 2,
       "version_minor": 0
      },
      "text/plain": [
       "  0%|          | 0/4000 [00:00<?, ?it/s]"
      ]
     },
     "metadata": {},
     "output_type": "display_data"
    },
    {
     "data": {
      "application/vnd.jupyter.widget-view+json": {
       "model_id": "1b69ce1bd06b4e17ad6f090265cec296",
       "version_major": 2,
       "version_minor": 0
      },
      "text/plain": [
       "  0%|          | 0/4000 [00:00<?, ?it/s]"
      ]
     },
     "metadata": {},
     "output_type": "display_data"
    },
    {
     "data": {
      "application/vnd.jupyter.widget-view+json": {
       "model_id": "4ae93e90d60e4586ae7bc14c805cccb8",
       "version_major": 2,
       "version_minor": 0
      },
      "text/plain": [
       "  0%|          | 0/4000 [00:00<?, ?it/s]"
      ]
     },
     "metadata": {},
     "output_type": "display_data"
    },
    {
     "data": {
      "application/vnd.jupyter.widget-view+json": {
       "model_id": "25a1be04e7944241bc4461a5f3b6bb90",
       "version_major": 2,
       "version_minor": 0
      },
      "text/plain": [
       "  0%|          | 0/4000 [00:00<?, ?it/s]"
      ]
     },
     "metadata": {},
     "output_type": "display_data"
    },
    {
     "data": {
      "application/vnd.jupyter.widget-view+json": {
       "model_id": "0841c83e0e3b487baab631c31eb0ca74",
       "version_major": 2,
       "version_minor": 0
      },
      "text/plain": [
       "  0%|          | 0/4000 [00:00<?, ?it/s]"
      ]
     },
     "metadata": {},
     "output_type": "display_data"
    },
    {
     "data": {
      "application/vnd.jupyter.widget-view+json": {
       "model_id": "bdd85f8192244548aa4d6885d3687263",
       "version_major": 2,
       "version_minor": 0
      },
      "text/plain": [
       "  0%|          | 0/4000 [00:00<?, ?it/s]"
      ]
     },
     "metadata": {},
     "output_type": "display_data"
    },
    {
     "data": {
      "application/vnd.jupyter.widget-view+json": {
       "model_id": "bd388284e61c4706a70f91d425e52132",
       "version_major": 2,
       "version_minor": 0
      },
      "text/plain": [
       "  0%|          | 0/4000 [00:00<?, ?it/s]"
      ]
     },
     "metadata": {},
     "output_type": "display_data"
    },
    {
     "data": {
      "application/vnd.jupyter.widget-view+json": {
       "model_id": "33f91bcde6a74f829264a01395591f0e",
       "version_major": 2,
       "version_minor": 0
      },
      "text/plain": [
       "  0%|          | 0/4000 [00:00<?, ?it/s]"
      ]
     },
     "metadata": {},
     "output_type": "display_data"
    },
    {
     "data": {
      "application/vnd.jupyter.widget-view+json": {
       "model_id": "667e1f2e4d364636ac8ac79b9838ec72",
       "version_major": 2,
       "version_minor": 0
      },
      "text/plain": [
       "  0%|          | 0/4000 [00:00<?, ?it/s]"
      ]
     },
     "metadata": {},
     "output_type": "display_data"
    },
    {
     "data": {
      "application/vnd.jupyter.widget-view+json": {
       "model_id": "8a5f6dd3144f4b0e85a410abdeeb6e66",
       "version_major": 2,
       "version_minor": 0
      },
      "text/plain": [
       "  0%|          | 0/4000 [00:00<?, ?it/s]"
      ]
     },
     "metadata": {},
     "output_type": "display_data"
    },
    {
     "data": {
      "application/vnd.jupyter.widget-view+json": {
       "model_id": "306e7d862fdd45c9b33a23b9928029b6",
       "version_major": 2,
       "version_minor": 0
      },
      "text/plain": [
       "  0%|          | 0/4000 [00:00<?, ?it/s]"
      ]
     },
     "metadata": {},
     "output_type": "display_data"
    },
    {
     "data": {
      "application/vnd.jupyter.widget-view+json": {
       "model_id": "baaa66f267954cf3836a279841d62472",
       "version_major": 2,
       "version_minor": 0
      },
      "text/plain": [
       "  0%|          | 0/4000 [00:00<?, ?it/s]"
      ]
     },
     "metadata": {},
     "output_type": "display_data"
    },
    {
     "data": {
      "application/vnd.jupyter.widget-view+json": {
       "model_id": "cf01fe38a3dc45e49af6455d941fc083",
       "version_major": 2,
       "version_minor": 0
      },
      "text/plain": [
       "  0%|          | 0/4000 [00:00<?, ?it/s]"
      ]
     },
     "metadata": {},
     "output_type": "display_data"
    },
    {
     "data": {
      "application/vnd.jupyter.widget-view+json": {
       "model_id": "31dd9c68f4d3477a97a231d6b7a59bc3",
       "version_major": 2,
       "version_minor": 0
      },
      "text/plain": [
       "  0%|          | 0/4000 [00:00<?, ?it/s]"
      ]
     },
     "metadata": {},
     "output_type": "display_data"
    },
    {
     "data": {
      "application/vnd.jupyter.widget-view+json": {
       "model_id": "82d088261383493b81d67473fb3420c2",
       "version_major": 2,
       "version_minor": 0
      },
      "text/plain": [
       "  0%|          | 0/4000 [00:00<?, ?it/s]"
      ]
     },
     "metadata": {},
     "output_type": "display_data"
    },
    {
     "data": {
      "application/vnd.jupyter.widget-view+json": {
       "model_id": "8fc15967a5d7437cbf5d3de69ddd8289",
       "version_major": 2,
       "version_minor": 0
      },
      "text/plain": [
       "  0%|          | 0/4000 [00:00<?, ?it/s]"
      ]
     },
     "metadata": {},
     "output_type": "display_data"
    },
    {
     "data": {
      "application/vnd.jupyter.widget-view+json": {
       "model_id": "ecd57b25c5d343deb4727f362bfc7d53",
       "version_major": 2,
       "version_minor": 0
      },
      "text/plain": [
       "  0%|          | 0/4000 [00:00<?, ?it/s]"
      ]
     },
     "metadata": {},
     "output_type": "display_data"
    },
    {
     "data": {
      "application/vnd.jupyter.widget-view+json": {
       "model_id": "e39bfff4ba3a4abd997b81cf3fa1c61f",
       "version_major": 2,
       "version_minor": 0
      },
      "text/plain": [
       "  0%|          | 0/4000 [00:00<?, ?it/s]"
      ]
     },
     "metadata": {},
     "output_type": "display_data"
    },
    {
     "data": {
      "application/vnd.jupyter.widget-view+json": {
       "model_id": "a536ba4ae5744ab2b6317c60457c43ef",
       "version_major": 2,
       "version_minor": 0
      },
      "text/plain": [
       "  0%|          | 0/4000 [00:00<?, ?it/s]"
      ]
     },
     "metadata": {},
     "output_type": "display_data"
    },
    {
     "data": {
      "application/vnd.jupyter.widget-view+json": {
       "model_id": "63ccab799e99407d950d2b8b565c4e07",
       "version_major": 2,
       "version_minor": 0
      },
      "text/plain": [
       "  0%|          | 0/4000 [00:00<?, ?it/s]"
      ]
     },
     "metadata": {},
     "output_type": "display_data"
    },
    {
     "data": {
      "application/vnd.jupyter.widget-view+json": {
       "model_id": "04455c93d7df4468a005c30cace07866",
       "version_major": 2,
       "version_minor": 0
      },
      "text/plain": [
       "  0%|          | 0/4000 [00:00<?, ?it/s]"
      ]
     },
     "metadata": {},
     "output_type": "display_data"
    },
    {
     "data": {
      "application/vnd.jupyter.widget-view+json": {
       "model_id": "c2008ad07b77437aa7121e7beccddcf7",
       "version_major": 2,
       "version_minor": 0
      },
      "text/plain": [
       "  0%|          | 0/4000 [00:00<?, ?it/s]"
      ]
     },
     "metadata": {},
     "output_type": "display_data"
    },
    {
     "data": {
      "application/vnd.jupyter.widget-view+json": {
       "model_id": "580ca2ea59d6451b9a6d9013bfedaa61",
       "version_major": 2,
       "version_minor": 0
      },
      "text/plain": [
       "  0%|          | 0/4000 [00:00<?, ?it/s]"
      ]
     },
     "metadata": {},
     "output_type": "display_data"
    },
    {
     "data": {
      "application/vnd.jupyter.widget-view+json": {
       "model_id": "af93b4cac03c4709a1553ec71a0867df",
       "version_major": 2,
       "version_minor": 0
      },
      "text/plain": [
       "  0%|          | 0/4000 [00:00<?, ?it/s]"
      ]
     },
     "metadata": {},
     "output_type": "display_data"
    },
    {
     "data": {
      "application/vnd.jupyter.widget-view+json": {
       "model_id": "c412f4f0785c4b6b868b2e3f99dd0cd3",
       "version_major": 2,
       "version_minor": 0
      },
      "text/plain": [
       "  0%|          | 0/4000 [00:00<?, ?it/s]"
      ]
     },
     "metadata": {},
     "output_type": "display_data"
    },
    {
     "data": {
      "application/vnd.jupyter.widget-view+json": {
       "model_id": "f6271f6a915340d6a2dca048c708d42c",
       "version_major": 2,
       "version_minor": 0
      },
      "text/plain": [
       "  0%|          | 0/4000 [00:00<?, ?it/s]"
      ]
     },
     "metadata": {},
     "output_type": "display_data"
    },
    {
     "data": {
      "application/vnd.jupyter.widget-view+json": {
       "model_id": "d8fe62a370f9498ab884d640bb6f73fa",
       "version_major": 2,
       "version_minor": 0
      },
      "text/plain": [
       "  0%|          | 0/4000 [00:00<?, ?it/s]"
      ]
     },
     "metadata": {},
     "output_type": "display_data"
    },
    {
     "data": {
      "application/vnd.jupyter.widget-view+json": {
       "model_id": "98a37939541c4bd88fc7cf317f9c3242",
       "version_major": 2,
       "version_minor": 0
      },
      "text/plain": [
       "  0%|          | 0/4000 [00:00<?, ?it/s]"
      ]
     },
     "metadata": {},
     "output_type": "display_data"
    },
    {
     "data": {
      "application/vnd.jupyter.widget-view+json": {
       "model_id": "3092bf88df5e4ab8b8a2d3ec5512e471",
       "version_major": 2,
       "version_minor": 0
      },
      "text/plain": [
       "  0%|          | 0/4000 [00:00<?, ?it/s]"
      ]
     },
     "metadata": {},
     "output_type": "display_data"
    },
    {
     "data": {
      "application/vnd.jupyter.widget-view+json": {
       "model_id": "886bd201baa94934aef2908a42f7a6bb",
       "version_major": 2,
       "version_minor": 0
      },
      "text/plain": [
       "  0%|          | 0/4000 [00:00<?, ?it/s]"
      ]
     },
     "metadata": {},
     "output_type": "display_data"
    },
    {
     "data": {
      "application/vnd.jupyter.widget-view+json": {
       "model_id": "737992b6229545cd990b81f465334ef1",
       "version_major": 2,
       "version_minor": 0
      },
      "text/plain": [
       "  0%|          | 0/4000 [00:00<?, ?it/s]"
      ]
     },
     "metadata": {},
     "output_type": "display_data"
    },
    {
     "data": {
      "application/vnd.jupyter.widget-view+json": {
       "model_id": "38664e871b764e3cabc2a1d8eb22169b",
       "version_major": 2,
       "version_minor": 0
      },
      "text/plain": [
       "  0%|          | 0/4000 [00:00<?, ?it/s]"
      ]
     },
     "metadata": {},
     "output_type": "display_data"
    },
    {
     "data": {
      "application/vnd.jupyter.widget-view+json": {
       "model_id": "1bb4e368a1e34c3298bf536b003cb6b7",
       "version_major": 2,
       "version_minor": 0
      },
      "text/plain": [
       "  0%|          | 0/4000 [00:00<?, ?it/s]"
      ]
     },
     "metadata": {},
     "output_type": "display_data"
    },
    {
     "data": {
      "application/vnd.jupyter.widget-view+json": {
       "model_id": "9a5c9052a1094091a8d4e769f0b86fbf",
       "version_major": 2,
       "version_minor": 0
      },
      "text/plain": [
       "  0%|          | 0/4000 [00:00<?, ?it/s]"
      ]
     },
     "metadata": {},
     "output_type": "display_data"
    },
    {
     "data": {
      "application/vnd.jupyter.widget-view+json": {
       "model_id": "b95cac4872cb4c63bd6f0d33adddf4d0",
       "version_major": 2,
       "version_minor": 0
      },
      "text/plain": [
       "  0%|          | 0/4000 [00:00<?, ?it/s]"
      ]
     },
     "metadata": {},
     "output_type": "display_data"
    },
    {
     "data": {
      "application/vnd.jupyter.widget-view+json": {
       "model_id": "deb06c8007f14086a92cca5b2e6c431c",
       "version_major": 2,
       "version_minor": 0
      },
      "text/plain": [
       "  0%|          | 0/4000 [00:00<?, ?it/s]"
      ]
     },
     "metadata": {},
     "output_type": "display_data"
    },
    {
     "data": {
      "application/vnd.jupyter.widget-view+json": {
       "model_id": "bfa2c4f81dff41c79ef2fae1bdaab008",
       "version_major": 2,
       "version_minor": 0
      },
      "text/plain": [
       "  0%|          | 0/4000 [00:00<?, ?it/s]"
      ]
     },
     "metadata": {},
     "output_type": "display_data"
    },
    {
     "data": {
      "application/vnd.jupyter.widget-view+json": {
       "model_id": "e862b813daed45faa6e9d9105555a74e",
       "version_major": 2,
       "version_minor": 0
      },
      "text/plain": [
       "  0%|          | 0/4000 [00:00<?, ?it/s]"
      ]
     },
     "metadata": {},
     "output_type": "display_data"
    },
    {
     "data": {
      "application/vnd.jupyter.widget-view+json": {
       "model_id": "66ebdfe9353e45a2b19a16740c4fca11",
       "version_major": 2,
       "version_minor": 0
      },
      "text/plain": [
       "  0%|          | 0/4000 [00:00<?, ?it/s]"
      ]
     },
     "metadata": {},
     "output_type": "display_data"
    },
    {
     "data": {
      "application/vnd.jupyter.widget-view+json": {
       "model_id": "710319eceed84e1c93a6d9f7ac20a2df",
       "version_major": 2,
       "version_minor": 0
      },
      "text/plain": [
       "  0%|          | 0/4000 [00:00<?, ?it/s]"
      ]
     },
     "metadata": {},
     "output_type": "display_data"
    },
    {
     "data": {
      "application/vnd.jupyter.widget-view+json": {
       "model_id": "d8b7f788a70541019b0cdc1c6abbc503",
       "version_major": 2,
       "version_minor": 0
      },
      "text/plain": [
       "  0%|          | 0/4000 [00:00<?, ?it/s]"
      ]
     },
     "metadata": {},
     "output_type": "display_data"
    },
    {
     "data": {
      "application/vnd.jupyter.widget-view+json": {
       "model_id": "f4a60d7598264503a0643db1c4ddec80",
       "version_major": 2,
       "version_minor": 0
      },
      "text/plain": [
       "  0%|          | 0/4000 [00:00<?, ?it/s]"
      ]
     },
     "metadata": {},
     "output_type": "display_data"
    },
    {
     "data": {
      "application/vnd.jupyter.widget-view+json": {
       "model_id": "5868ea48577a4b9086e29cbddc08b1af",
       "version_major": 2,
       "version_minor": 0
      },
      "text/plain": [
       "  0%|          | 0/4000 [00:00<?, ?it/s]"
      ]
     },
     "metadata": {},
     "output_type": "display_data"
    },
    {
     "data": {
      "application/vnd.jupyter.widget-view+json": {
       "model_id": "db52cfdc975e4058ba605c8e1173c5f4",
       "version_major": 2,
       "version_minor": 0
      },
      "text/plain": [
       "  0%|          | 0/4000 [00:00<?, ?it/s]"
      ]
     },
     "metadata": {},
     "output_type": "display_data"
    },
    {
     "data": {
      "application/vnd.jupyter.widget-view+json": {
       "model_id": "6bcb831635064a4f9ec4acab11391010",
       "version_major": 2,
       "version_minor": 0
      },
      "text/plain": [
       "  0%|          | 0/4000 [00:00<?, ?it/s]"
      ]
     },
     "metadata": {},
     "output_type": "display_data"
    },
    {
     "data": {
      "application/vnd.jupyter.widget-view+json": {
       "model_id": "77b1544569274930bd840bcce5cdd3a8",
       "version_major": 2,
       "version_minor": 0
      },
      "text/plain": [
       "  0%|          | 0/4000 [00:00<?, ?it/s]"
      ]
     },
     "metadata": {},
     "output_type": "display_data"
    },
    {
     "data": {
      "application/vnd.jupyter.widget-view+json": {
       "model_id": "edad73f7eeef44719d61c378f4b6cae6",
       "version_major": 2,
       "version_minor": 0
      },
      "text/plain": [
       "  0%|          | 0/4000 [00:00<?, ?it/s]"
      ]
     },
     "metadata": {},
     "output_type": "display_data"
    },
    {
     "data": {
      "application/vnd.jupyter.widget-view+json": {
       "model_id": "8076a92686c446e0b080d3bf48215848",
       "version_major": 2,
       "version_minor": 0
      },
      "text/plain": [
       "  0%|          | 0/4000 [00:00<?, ?it/s]"
      ]
     },
     "metadata": {},
     "output_type": "display_data"
    },
    {
     "data": {
      "application/vnd.jupyter.widget-view+json": {
       "model_id": "f9b848be93804ef6a1f2dc56e0ce3fff",
       "version_major": 2,
       "version_minor": 0
      },
      "text/plain": [
       "  0%|          | 0/4000 [00:00<?, ?it/s]"
      ]
     },
     "metadata": {},
     "output_type": "display_data"
    },
    {
     "data": {
      "application/vnd.jupyter.widget-view+json": {
       "model_id": "4eefcf60aa184fb2b44db61e94457126",
       "version_major": 2,
       "version_minor": 0
      },
      "text/plain": [
       "  0%|          | 0/4000 [00:00<?, ?it/s]"
      ]
     },
     "metadata": {},
     "output_type": "display_data"
    },
    {
     "data": {
      "application/vnd.jupyter.widget-view+json": {
       "model_id": "961f17beaaae417793c7670a36a9c29b",
       "version_major": 2,
       "version_minor": 0
      },
      "text/plain": [
       "  0%|          | 0/4000 [00:00<?, ?it/s]"
      ]
     },
     "metadata": {},
     "output_type": "display_data"
    },
    {
     "data": {
      "application/vnd.jupyter.widget-view+json": {
       "model_id": "51e6394ba7974b39901fd3973971acff",
       "version_major": 2,
       "version_minor": 0
      },
      "text/plain": [
       "  0%|          | 0/4000 [00:00<?, ?it/s]"
      ]
     },
     "metadata": {},
     "output_type": "display_data"
    },
    {
     "data": {
      "application/vnd.jupyter.widget-view+json": {
       "model_id": "b685dda21bb742b8a64d48283ae4db54",
       "version_major": 2,
       "version_minor": 0
      },
      "text/plain": [
       "  0%|          | 0/4000 [00:00<?, ?it/s]"
      ]
     },
     "metadata": {},
     "output_type": "display_data"
    },
    {
     "data": {
      "application/vnd.jupyter.widget-view+json": {
       "model_id": "3afb71c7f59f402f85d076e4f976225c",
       "version_major": 2,
       "version_minor": 0
      },
      "text/plain": [
       "  0%|          | 0/4000 [00:00<?, ?it/s]"
      ]
     },
     "metadata": {},
     "output_type": "display_data"
    },
    {
     "data": {
      "application/vnd.jupyter.widget-view+json": {
       "model_id": "ca664cf6e20d47879d0a3505575773e6",
       "version_major": 2,
       "version_minor": 0
      },
      "text/plain": [
       "  0%|          | 0/4000 [00:00<?, ?it/s]"
      ]
     },
     "metadata": {},
     "output_type": "display_data"
    },
    {
     "data": {
      "application/vnd.jupyter.widget-view+json": {
       "model_id": "9a803073439b4104ab85c8d4c6ee466d",
       "version_major": 2,
       "version_minor": 0
      },
      "text/plain": [
       "  0%|          | 0/4000 [00:00<?, ?it/s]"
      ]
     },
     "metadata": {},
     "output_type": "display_data"
    },
    {
     "data": {
      "application/vnd.jupyter.widget-view+json": {
       "model_id": "89f15e71418b47dcbe325c1c57f8a8ab",
       "version_major": 2,
       "version_minor": 0
      },
      "text/plain": [
       "  0%|          | 0/4000 [00:00<?, ?it/s]"
      ]
     },
     "metadata": {},
     "output_type": "display_data"
    },
    {
     "data": {
      "application/vnd.jupyter.widget-view+json": {
       "model_id": "ecdfda5ef2a64e99afe9eef436001281",
       "version_major": 2,
       "version_minor": 0
      },
      "text/plain": [
       "  0%|          | 0/4000 [00:00<?, ?it/s]"
      ]
     },
     "metadata": {},
     "output_type": "display_data"
    },
    {
     "data": {
      "application/vnd.jupyter.widget-view+json": {
       "model_id": "b65430eff2204b76b8d9acf84f1828b7",
       "version_major": 2,
       "version_minor": 0
      },
      "text/plain": [
       "  0%|          | 0/4000 [00:00<?, ?it/s]"
      ]
     },
     "metadata": {},
     "output_type": "display_data"
    },
    {
     "data": {
      "application/vnd.jupyter.widget-view+json": {
       "model_id": "36492abdd17443578f6c0713b223a342",
       "version_major": 2,
       "version_minor": 0
      },
      "text/plain": [
       "  0%|          | 0/4000 [00:00<?, ?it/s]"
      ]
     },
     "metadata": {},
     "output_type": "display_data"
    },
    {
     "data": {
      "application/vnd.jupyter.widget-view+json": {
       "model_id": "a1a0ef7be8db4cdca120ac34bb45627a",
       "version_major": 2,
       "version_minor": 0
      },
      "text/plain": [
       "  0%|          | 0/4000 [00:00<?, ?it/s]"
      ]
     },
     "metadata": {},
     "output_type": "display_data"
    },
    {
     "data": {
      "application/vnd.jupyter.widget-view+json": {
       "model_id": "9e0ea7dc596645c2a7345bbfd947c485",
       "version_major": 2,
       "version_minor": 0
      },
      "text/plain": [
       "  0%|          | 0/4000 [00:00<?, ?it/s]"
      ]
     },
     "metadata": {},
     "output_type": "display_data"
    },
    {
     "data": {
      "application/vnd.jupyter.widget-view+json": {
       "model_id": "3e9c35d9c3c248bca5e6c02ac17aa5a2",
       "version_major": 2,
       "version_minor": 0
      },
      "text/plain": [
       "  0%|          | 0/4000 [00:00<?, ?it/s]"
      ]
     },
     "metadata": {},
     "output_type": "display_data"
    },
    {
     "data": {
      "application/vnd.jupyter.widget-view+json": {
       "model_id": "25896ca125d54798ba6eb7f9e613c9e3",
       "version_major": 2,
       "version_minor": 0
      },
      "text/plain": [
       "  0%|          | 0/4000 [00:00<?, ?it/s]"
      ]
     },
     "metadata": {},
     "output_type": "display_data"
    },
    {
     "data": {
      "application/vnd.jupyter.widget-view+json": {
       "model_id": "bc13daf75d874802a725b0a675577fff",
       "version_major": 2,
       "version_minor": 0
      },
      "text/plain": [
       "  0%|          | 0/4000 [00:00<?, ?it/s]"
      ]
     },
     "metadata": {},
     "output_type": "display_data"
    },
    {
     "data": {
      "application/vnd.jupyter.widget-view+json": {
       "model_id": "eaf3b70db4b84261b540361a18a03c13",
       "version_major": 2,
       "version_minor": 0
      },
      "text/plain": [
       "  0%|          | 0/4000 [00:00<?, ?it/s]"
      ]
     },
     "metadata": {},
     "output_type": "display_data"
    },
    {
     "data": {
      "application/vnd.jupyter.widget-view+json": {
       "model_id": "192344fa68e5468f8f729382e1c1edc7",
       "version_major": 2,
       "version_minor": 0
      },
      "text/plain": [
       "  0%|          | 0/4000 [00:00<?, ?it/s]"
      ]
     },
     "metadata": {},
     "output_type": "display_data"
    },
    {
     "data": {
      "application/vnd.jupyter.widget-view+json": {
       "model_id": "ea19b2d84c3d4765987c7343b8b6933e",
       "version_major": 2,
       "version_minor": 0
      },
      "text/plain": [
       "  0%|          | 0/4000 [00:00<?, ?it/s]"
      ]
     },
     "metadata": {},
     "output_type": "display_data"
    },
    {
     "data": {
      "application/vnd.jupyter.widget-view+json": {
       "model_id": "e923bffcfc324c91b8e88221d20daba5",
       "version_major": 2,
       "version_minor": 0
      },
      "text/plain": [
       "  0%|          | 0/4000 [00:00<?, ?it/s]"
      ]
     },
     "metadata": {},
     "output_type": "display_data"
    },
    {
     "data": {
      "application/vnd.jupyter.widget-view+json": {
       "model_id": "09e43d62d75744bab58b2f814d99cea4",
       "version_major": 2,
       "version_minor": 0
      },
      "text/plain": [
       "  0%|          | 0/4000 [00:00<?, ?it/s]"
      ]
     },
     "metadata": {},
     "output_type": "display_data"
    },
    {
     "data": {
      "application/vnd.jupyter.widget-view+json": {
       "model_id": "df498ecc4d4e48769330ee745a3d92e5",
       "version_major": 2,
       "version_minor": 0
      },
      "text/plain": [
       "  0%|          | 0/4000 [00:00<?, ?it/s]"
      ]
     },
     "metadata": {},
     "output_type": "display_data"
    },
    {
     "data": {
      "application/vnd.jupyter.widget-view+json": {
       "model_id": "27a3c7ddc6ac4f0782b4fa1a468ab97a",
       "version_major": 2,
       "version_minor": 0
      },
      "text/plain": [
       "  0%|          | 0/4000 [00:00<?, ?it/s]"
      ]
     },
     "metadata": {},
     "output_type": "display_data"
    },
    {
     "data": {
      "application/vnd.jupyter.widget-view+json": {
       "model_id": "efd0f37318ab42c8bc2b7bbe5837b691",
       "version_major": 2,
       "version_minor": 0
      },
      "text/plain": [
       "  0%|          | 0/4000 [00:00<?, ?it/s]"
      ]
     },
     "metadata": {},
     "output_type": "display_data"
    },
    {
     "data": {
      "application/vnd.jupyter.widget-view+json": {
       "model_id": "72878ebe49bb4ad687cfc047ed6187df",
       "version_major": 2,
       "version_minor": 0
      },
      "text/plain": [
       "  0%|          | 0/4000 [00:00<?, ?it/s]"
      ]
     },
     "metadata": {},
     "output_type": "display_data"
    },
    {
     "data": {
      "application/vnd.jupyter.widget-view+json": {
       "model_id": "9d6ee628c4c14a4f8d75afb9ff7e42a7",
       "version_major": 2,
       "version_minor": 0
      },
      "text/plain": [
       "  0%|          | 0/4000 [00:00<?, ?it/s]"
      ]
     },
     "metadata": {},
     "output_type": "display_data"
    },
    {
     "data": {
      "application/vnd.jupyter.widget-view+json": {
       "model_id": "19cb2083d4134a5f926b8aeb03eedd01",
       "version_major": 2,
       "version_minor": 0
      },
      "text/plain": [
       "  0%|          | 0/4000 [00:00<?, ?it/s]"
      ]
     },
     "metadata": {},
     "output_type": "display_data"
    },
    {
     "data": {
      "application/vnd.jupyter.widget-view+json": {
       "model_id": "e8693d0a6ed14ac3bbd92cf77762d0e0",
       "version_major": 2,
       "version_minor": 0
      },
      "text/plain": [
       "  0%|          | 0/4000 [00:00<?, ?it/s]"
      ]
     },
     "metadata": {},
     "output_type": "display_data"
    },
    {
     "data": {
      "application/vnd.jupyter.widget-view+json": {
       "model_id": "b92e1177c04447b181fba7ab008a0f4a",
       "version_major": 2,
       "version_minor": 0
      },
      "text/plain": [
       "  0%|          | 0/4000 [00:00<?, ?it/s]"
      ]
     },
     "metadata": {},
     "output_type": "display_data"
    },
    {
     "data": {
      "application/vnd.jupyter.widget-view+json": {
       "model_id": "cd1fbca8b7874a6b98e521d3d3cdfd2c",
       "version_major": 2,
       "version_minor": 0
      },
      "text/plain": [
       "  0%|          | 0/4000 [00:00<?, ?it/s]"
      ]
     },
     "metadata": {},
     "output_type": "display_data"
    },
    {
     "data": {
      "application/vnd.jupyter.widget-view+json": {
       "model_id": "ab029ebf9a504da8a94cac946af569e4",
       "version_major": 2,
       "version_minor": 0
      },
      "text/plain": [
       "  0%|          | 0/4000 [00:00<?, ?it/s]"
      ]
     },
     "metadata": {},
     "output_type": "display_data"
    },
    {
     "data": {
      "application/vnd.jupyter.widget-view+json": {
       "model_id": "b9a8070266304318ad1cc23b47ebc6e9",
       "version_major": 2,
       "version_minor": 0
      },
      "text/plain": [
       "  0%|          | 0/4000 [00:00<?, ?it/s]"
      ]
     },
     "metadata": {},
     "output_type": "display_data"
    },
    {
     "data": {
      "application/vnd.jupyter.widget-view+json": {
       "model_id": "0ede23560e33488ba286664d48f1d50a",
       "version_major": 2,
       "version_minor": 0
      },
      "text/plain": [
       "  0%|          | 0/4000 [00:00<?, ?it/s]"
      ]
     },
     "metadata": {},
     "output_type": "display_data"
    },
    {
     "data": {
      "application/vnd.jupyter.widget-view+json": {
       "model_id": "65647dbfdd6c40149ad6756c1b829bbc",
       "version_major": 2,
       "version_minor": 0
      },
      "text/plain": [
       "  0%|          | 0/4000 [00:00<?, ?it/s]"
      ]
     },
     "metadata": {},
     "output_type": "display_data"
    },
    {
     "data": {
      "application/vnd.jupyter.widget-view+json": {
       "model_id": "e4fb1d4b6c6845ea91d2994f799f1747",
       "version_major": 2,
       "version_minor": 0
      },
      "text/plain": [
       "  0%|          | 0/4000 [00:00<?, ?it/s]"
      ]
     },
     "metadata": {},
     "output_type": "display_data"
    },
    {
     "data": {
      "application/vnd.jupyter.widget-view+json": {
       "model_id": "ccdfc15ab6094ab884a1f8d82ae39ee1",
       "version_major": 2,
       "version_minor": 0
      },
      "text/plain": [
       "  0%|          | 0/4000 [00:00<?, ?it/s]"
      ]
     },
     "metadata": {},
     "output_type": "display_data"
    },
    {
     "data": {
      "application/vnd.jupyter.widget-view+json": {
       "model_id": "29fab99be8de400683f5718f99b430ff",
       "version_major": 2,
       "version_minor": 0
      },
      "text/plain": [
       "  0%|          | 0/4000 [00:00<?, ?it/s]"
      ]
     },
     "metadata": {},
     "output_type": "display_data"
    },
    {
     "data": {
      "application/vnd.jupyter.widget-view+json": {
       "model_id": "212677f3373d4d82a9900483166080ca",
       "version_major": 2,
       "version_minor": 0
      },
      "text/plain": [
       "  0%|          | 0/4000 [00:00<?, ?it/s]"
      ]
     },
     "metadata": {},
     "output_type": "display_data"
    },
    {
     "data": {
      "application/vnd.jupyter.widget-view+json": {
       "model_id": "16fd11c960a14e5baf29f2541927065b",
       "version_major": 2,
       "version_minor": 0
      },
      "text/plain": [
       "  0%|          | 0/4000 [00:00<?, ?it/s]"
      ]
     },
     "metadata": {},
     "output_type": "display_data"
    },
    {
     "data": {
      "application/vnd.jupyter.widget-view+json": {
       "model_id": "2141bc8293ee4defabb9f719b20da49d",
       "version_major": 2,
       "version_minor": 0
      },
      "text/plain": [
       "  0%|          | 0/4000 [00:00<?, ?it/s]"
      ]
     },
     "metadata": {},
     "output_type": "display_data"
    },
    {
     "data": {
      "application/vnd.jupyter.widget-view+json": {
       "model_id": "84db098e8a844eac816b2610026a1ef1",
       "version_major": 2,
       "version_minor": 0
      },
      "text/plain": [
       "  0%|          | 0/4000 [00:00<?, ?it/s]"
      ]
     },
     "metadata": {},
     "output_type": "display_data"
    },
    {
     "data": {
      "application/vnd.jupyter.widget-view+json": {
       "model_id": "422e5745b16f4d30af8ba21c39125eeb",
       "version_major": 2,
       "version_minor": 0
      },
      "text/plain": [
       "  0%|          | 0/4000 [00:00<?, ?it/s]"
      ]
     },
     "metadata": {},
     "output_type": "display_data"
    },
    {
     "data": {
      "application/vnd.jupyter.widget-view+json": {
       "model_id": "1946f026acf64013b500778d3ac108d3",
       "version_major": 2,
       "version_minor": 0
      },
      "text/plain": [
       "  0%|          | 0/4000 [00:00<?, ?it/s]"
      ]
     },
     "metadata": {},
     "output_type": "display_data"
    },
    {
     "data": {
      "application/vnd.jupyter.widget-view+json": {
       "model_id": "6230666e84634fccaf5385c159ba19fa",
       "version_major": 2,
       "version_minor": 0
      },
      "text/plain": [
       "  0%|          | 0/4000 [00:00<?, ?it/s]"
      ]
     },
     "metadata": {},
     "output_type": "display_data"
    },
    {
     "data": {
      "application/vnd.jupyter.widget-view+json": {
       "model_id": "8d4b94c8409f4005b5bcc0fee4d3daaf",
       "version_major": 2,
       "version_minor": 0
      },
      "text/plain": [
       "  0%|          | 0/4000 [00:00<?, ?it/s]"
      ]
     },
     "metadata": {},
     "output_type": "display_data"
    },
    {
     "data": {
      "application/vnd.jupyter.widget-view+json": {
       "model_id": "c7d61a2e3f8d47dcad03fae9829e0712",
       "version_major": 2,
       "version_minor": 0
      },
      "text/plain": [
       "  0%|          | 0/4000 [00:00<?, ?it/s]"
      ]
     },
     "metadata": {},
     "output_type": "display_data"
    },
    {
     "data": {
      "application/vnd.jupyter.widget-view+json": {
       "model_id": "d6fd4101ac664c91a4edcadbf2d0bbb5",
       "version_major": 2,
       "version_minor": 0
      },
      "text/plain": [
       "  0%|          | 0/4000 [00:00<?, ?it/s]"
      ]
     },
     "metadata": {},
     "output_type": "display_data"
    },
    {
     "data": {
      "application/vnd.jupyter.widget-view+json": {
       "model_id": "ca0cec66c7ce4e62a56e9201c84d6230",
       "version_major": 2,
       "version_minor": 0
      },
      "text/plain": [
       "  0%|          | 0/4000 [00:00<?, ?it/s]"
      ]
     },
     "metadata": {},
     "output_type": "display_data"
    },
    {
     "data": {
      "application/vnd.jupyter.widget-view+json": {
       "model_id": "e83ba1f87f0e4a87a117f36e5e3cf09c",
       "version_major": 2,
       "version_minor": 0
      },
      "text/plain": [
       "  0%|          | 0/4000 [00:00<?, ?it/s]"
      ]
     },
     "metadata": {},
     "output_type": "display_data"
    },
    {
     "data": {
      "application/vnd.jupyter.widget-view+json": {
       "model_id": "a2b5cc24603f4714b07d1b22bc3eece3",
       "version_major": 2,
       "version_minor": 0
      },
      "text/plain": [
       "  0%|          | 0/4000 [00:00<?, ?it/s]"
      ]
     },
     "metadata": {},
     "output_type": "display_data"
    },
    {
     "data": {
      "application/vnd.jupyter.widget-view+json": {
       "model_id": "bc4e6a48956b4e0495c2698f3b873e37",
       "version_major": 2,
       "version_minor": 0
      },
      "text/plain": [
       "  0%|          | 0/4000 [00:00<?, ?it/s]"
      ]
     },
     "metadata": {},
     "output_type": "display_data"
    },
    {
     "data": {
      "application/vnd.jupyter.widget-view+json": {
       "model_id": "b843f71097804436a47be5a76a8e9492",
       "version_major": 2,
       "version_minor": 0
      },
      "text/plain": [
       "  0%|          | 0/4000 [00:00<?, ?it/s]"
      ]
     },
     "metadata": {},
     "output_type": "display_data"
    },
    {
     "data": {
      "application/vnd.jupyter.widget-view+json": {
       "model_id": "5ce9ec1cb61142e898f2cf6d4bc5cd78",
       "version_major": 2,
       "version_minor": 0
      },
      "text/plain": [
       "  0%|          | 0/4000 [00:00<?, ?it/s]"
      ]
     },
     "metadata": {},
     "output_type": "display_data"
    },
    {
     "data": {
      "application/vnd.jupyter.widget-view+json": {
       "model_id": "b68045aff4d24f4abf5910afce968db1",
       "version_major": 2,
       "version_minor": 0
      },
      "text/plain": [
       "  0%|          | 0/4000 [00:00<?, ?it/s]"
      ]
     },
     "metadata": {},
     "output_type": "display_data"
    },
    {
     "data": {
      "application/vnd.jupyter.widget-view+json": {
       "model_id": "28eb864361664b14aef00899f4e7c334",
       "version_major": 2,
       "version_minor": 0
      },
      "text/plain": [
       "  0%|          | 0/4000 [00:00<?, ?it/s]"
      ]
     },
     "metadata": {},
     "output_type": "display_data"
    },
    {
     "data": {
      "application/vnd.jupyter.widget-view+json": {
       "model_id": "024ec98ef90a4ed9b525e84dca9a6313",
       "version_major": 2,
       "version_minor": 0
      },
      "text/plain": [
       "  0%|          | 0/4000 [00:00<?, ?it/s]"
      ]
     },
     "metadata": {},
     "output_type": "display_data"
    },
    {
     "data": {
      "application/vnd.jupyter.widget-view+json": {
       "model_id": "7cfa3b03b5f9469c80dcd7f65d00db0b",
       "version_major": 2,
       "version_minor": 0
      },
      "text/plain": [
       "  0%|          | 0/4000 [00:00<?, ?it/s]"
      ]
     },
     "metadata": {},
     "output_type": "display_data"
    }
   ],
   "source": [
    "np.random.seed(42)\n",
    "random.seed(42)\n",
    "tf.random.set_seed(42)\n",
    "\n",
    "n = 3\n",
    "d = 2**n\n",
    "rank = 3\n",
    "\n",
    "prior_fidelity = np.zeros((len(N_list), num_reps))\n",
    "noPrior_fidelity = np.zeros((len(N_list), num_reps))\n",
    "\n",
    "for rep in tqdm(range(num_reps)):\n",
    "    X, _, _ = generate_ginibre(d, d)\n",
    "    U = generate_unitary(X) # Random unitary part\n",
    "    kraus_target = KrausMap(U, 0.5, d, rank)\n",
    "    \n",
    "    inputs, _ = generate_pauli_circuits(n = n, \n",
    "                                        circuit_target=None, \n",
    "                                        N = None, \n",
    "                                        trace=False)\n",
    "    states = kraus_target.apply_map(inputs[0])\n",
    "    targets = measurement(states, U_basis = inputs[1])\n",
    "    \n",
    "    for i, N in enumerate(N_list):\n",
    "        kraus_model = KrausMap(\n",
    "                               U=U, \n",
    "                               c=0.9, \n",
    "                               d=d, \n",
    "                               rank=rank,\n",
    "                              )\n",
    "\n",
    "        model = ModelQuantumMap(\n",
    "                                q_map = kraus_model,\n",
    "                                loss = probs_loss,\n",
    "                                optimizer = tf.optimizers.Adam(learning_rate=0.01),\n",
    "                                )\n",
    "\n",
    "        model.train(inputs = [inputs[0][:N], inputs[1][:N]],\n",
    "                    targets = targets[:N],\n",
    "                    inputs_val = None,\n",
    "                    targets_val = None,\n",
    "                    num_iter = 4000,\n",
    "                    N = N,\n",
    "                    verbose = False,\n",
    "                    )\n",
    "\n",
    "        prior_fidelity[i, rep] = np.abs(channel_fidelity(kraus_target, kraus_model).numpy())\n",
    "\n",
    "        kraus_model = KrausMap(\n",
    "    #                           U=U, \n",
    "    #                           c=0.9, \n",
    "                               d=d, \n",
    "                               rank=rank+1,\n",
    "                              )\n",
    "\n",
    "        model = ModelQuantumMap(\n",
    "                                q_map = kraus_model,\n",
    "                                loss = probs_loss,\n",
    "                                optimizer = tf.optimizers.Adam(learning_rate=0.01),\n",
    "                                )\n",
    "\n",
    "        model.train(inputs = [inputs[0][:N], inputs[1][:N]],\n",
    "                    targets = targets[:N],\n",
    "                    inputs_val = None,\n",
    "                    targets_val = None,\n",
    "                    num_iter = 4000,\n",
    "                    N = N,\n",
    "                    verbose = False,\n",
    "                    )\n",
    "\n",
    "        noPrior_fidelity[i, rep] = np.abs(channel_fidelity(kraus_target, kraus_model).numpy())"
   ]
  },
  {
   "cell_type": "code",
   "execution_count": 8,
   "metadata": {},
   "outputs": [],
   "source": [
    "data = [prior_fidelity, noPrior_fidelity]\n",
    "pickle.dump(data, open(\"../../data/compressed_sensing_rank4.p\", \"wb\"))"
   ]
  },
  {
   "cell_type": "markdown",
   "metadata": {},
   "source": [
    "### Medium Rank"
   ]
  },
  {
   "cell_type": "code",
   "execution_count": 9,
   "metadata": {
    "scrolled": true
   },
   "outputs": [
    {
     "data": {
      "application/vnd.jupyter.widget-view+json": {
       "model_id": "c19d624d2f8a4f9d95b8fb165685b89a",
       "version_major": 2,
       "version_minor": 0
      },
      "text/plain": [
       "  0%|          | 0/10 [00:00<?, ?it/s]"
      ]
     },
     "metadata": {},
     "output_type": "display_data"
    },
    {
     "data": {
      "application/vnd.jupyter.widget-view+json": {
       "model_id": "e6d7ecee28ba4fbb8b10f3df91c519c5",
       "version_major": 2,
       "version_minor": 0
      },
      "text/plain": [
       "  0%|          | 0/4000 [00:00<?, ?it/s]"
      ]
     },
     "metadata": {},
     "output_type": "display_data"
    },
    {
     "data": {
      "application/vnd.jupyter.widget-view+json": {
       "model_id": "d22c7f544e1f4b209684be7a9d46e410",
       "version_major": 2,
       "version_minor": 0
      },
      "text/plain": [
       "  0%|          | 0/4000 [00:00<?, ?it/s]"
      ]
     },
     "metadata": {},
     "output_type": "display_data"
    },
    {
     "data": {
      "application/vnd.jupyter.widget-view+json": {
       "model_id": "26e0a7043e26428baf7065bdec7d39f3",
       "version_major": 2,
       "version_minor": 0
      },
      "text/plain": [
       "  0%|          | 0/4000 [00:00<?, ?it/s]"
      ]
     },
     "metadata": {},
     "output_type": "display_data"
    },
    {
     "data": {
      "application/vnd.jupyter.widget-view+json": {
       "model_id": "e1c4d0c82e314da68da47151e4264ba5",
       "version_major": 2,
       "version_minor": 0
      },
      "text/plain": [
       "  0%|          | 0/4000 [00:00<?, ?it/s]"
      ]
     },
     "metadata": {},
     "output_type": "display_data"
    },
    {
     "data": {
      "application/vnd.jupyter.widget-view+json": {
       "model_id": "8363e18dc69c4383b88ab441bddf7efa",
       "version_major": 2,
       "version_minor": 0
      },
      "text/plain": [
       "  0%|          | 0/4000 [00:00<?, ?it/s]"
      ]
     },
     "metadata": {},
     "output_type": "display_data"
    },
    {
     "data": {
      "application/vnd.jupyter.widget-view+json": {
       "model_id": "e68db7e318e44da4b6bee1181fe31bd4",
       "version_major": 2,
       "version_minor": 0
      },
      "text/plain": [
       "  0%|          | 0/4000 [00:00<?, ?it/s]"
      ]
     },
     "metadata": {},
     "output_type": "display_data"
    },
    {
     "data": {
      "application/vnd.jupyter.widget-view+json": {
       "model_id": "d889bc124aac492e99e3c514d2da5f73",
       "version_major": 2,
       "version_minor": 0
      },
      "text/plain": [
       "  0%|          | 0/4000 [00:00<?, ?it/s]"
      ]
     },
     "metadata": {},
     "output_type": "display_data"
    },
    {
     "data": {
      "application/vnd.jupyter.widget-view+json": {
       "model_id": "dd4a3da4d8124f6cbaa0c54b66a5b525",
       "version_major": 2,
       "version_minor": 0
      },
      "text/plain": [
       "  0%|          | 0/4000 [00:00<?, ?it/s]"
      ]
     },
     "metadata": {},
     "output_type": "display_data"
    },
    {
     "data": {
      "application/vnd.jupyter.widget-view+json": {
       "model_id": "18d3159d0ae54372a969595be88d7902",
       "version_major": 2,
       "version_minor": 0
      },
      "text/plain": [
       "  0%|          | 0/4000 [00:00<?, ?it/s]"
      ]
     },
     "metadata": {},
     "output_type": "display_data"
    },
    {
     "data": {
      "application/vnd.jupyter.widget-view+json": {
       "model_id": "5c8e145b39cd46c1a17182fefbe862ee",
       "version_major": 2,
       "version_minor": 0
      },
      "text/plain": [
       "  0%|          | 0/4000 [00:00<?, ?it/s]"
      ]
     },
     "metadata": {},
     "output_type": "display_data"
    },
    {
     "data": {
      "application/vnd.jupyter.widget-view+json": {
       "model_id": "f5f5887f85534f9a89755e9c777220dc",
       "version_major": 2,
       "version_minor": 0
      },
      "text/plain": [
       "  0%|          | 0/4000 [00:00<?, ?it/s]"
      ]
     },
     "metadata": {},
     "output_type": "display_data"
    },
    {
     "data": {
      "application/vnd.jupyter.widget-view+json": {
       "model_id": "93913186e1bd4ea596bf9b9ea5a9835c",
       "version_major": 2,
       "version_minor": 0
      },
      "text/plain": [
       "  0%|          | 0/4000 [00:00<?, ?it/s]"
      ]
     },
     "metadata": {},
     "output_type": "display_data"
    },
    {
     "data": {
      "application/vnd.jupyter.widget-view+json": {
       "model_id": "e77f184af63343e3a61ff02282d0b81f",
       "version_major": 2,
       "version_minor": 0
      },
      "text/plain": [
       "  0%|          | 0/4000 [00:00<?, ?it/s]"
      ]
     },
     "metadata": {},
     "output_type": "display_data"
    },
    {
     "data": {
      "application/vnd.jupyter.widget-view+json": {
       "model_id": "c5812b13685245a8b469b490324d2660",
       "version_major": 2,
       "version_minor": 0
      },
      "text/plain": [
       "  0%|          | 0/4000 [00:00<?, ?it/s]"
      ]
     },
     "metadata": {},
     "output_type": "display_data"
    },
    {
     "data": {
      "application/vnd.jupyter.widget-view+json": {
       "model_id": "244b3c626e9a433f9ea6db16f01ecae5",
       "version_major": 2,
       "version_minor": 0
      },
      "text/plain": [
       "  0%|          | 0/4000 [00:00<?, ?it/s]"
      ]
     },
     "metadata": {},
     "output_type": "display_data"
    },
    {
     "data": {
      "application/vnd.jupyter.widget-view+json": {
       "model_id": "ce237fd02f6a41ea87b8a38a34465069",
       "version_major": 2,
       "version_minor": 0
      },
      "text/plain": [
       "  0%|          | 0/4000 [00:00<?, ?it/s]"
      ]
     },
     "metadata": {},
     "output_type": "display_data"
    },
    {
     "data": {
      "application/vnd.jupyter.widget-view+json": {
       "model_id": "8cb24285def54e1f94dc0e5e4a1fe0a6",
       "version_major": 2,
       "version_minor": 0
      },
      "text/plain": [
       "  0%|          | 0/4000 [00:00<?, ?it/s]"
      ]
     },
     "metadata": {},
     "output_type": "display_data"
    },
    {
     "data": {
      "application/vnd.jupyter.widget-view+json": {
       "model_id": "00de329f490147bdaaeb8d8140904cf5",
       "version_major": 2,
       "version_minor": 0
      },
      "text/plain": [
       "  0%|          | 0/4000 [00:00<?, ?it/s]"
      ]
     },
     "metadata": {},
     "output_type": "display_data"
    },
    {
     "data": {
      "application/vnd.jupyter.widget-view+json": {
       "model_id": "7edae193f6bb47e3afd1b5d1c3ad4f9b",
       "version_major": 2,
       "version_minor": 0
      },
      "text/plain": [
       "  0%|          | 0/4000 [00:00<?, ?it/s]"
      ]
     },
     "metadata": {},
     "output_type": "display_data"
    },
    {
     "data": {
      "application/vnd.jupyter.widget-view+json": {
       "model_id": "599011079a90456dbe4b5ad47bcd51a3",
       "version_major": 2,
       "version_minor": 0
      },
      "text/plain": [
       "  0%|          | 0/4000 [00:00<?, ?it/s]"
      ]
     },
     "metadata": {},
     "output_type": "display_data"
    },
    {
     "data": {
      "application/vnd.jupyter.widget-view+json": {
       "model_id": "570c5da45bf3462fb0b97da3b34b41af",
       "version_major": 2,
       "version_minor": 0
      },
      "text/plain": [
       "  0%|          | 0/4000 [00:00<?, ?it/s]"
      ]
     },
     "metadata": {},
     "output_type": "display_data"
    },
    {
     "data": {
      "application/vnd.jupyter.widget-view+json": {
       "model_id": "5ea56ba652fc4063882f9526e5287329",
       "version_major": 2,
       "version_minor": 0
      },
      "text/plain": [
       "  0%|          | 0/4000 [00:00<?, ?it/s]"
      ]
     },
     "metadata": {},
     "output_type": "display_data"
    },
    {
     "data": {
      "application/vnd.jupyter.widget-view+json": {
       "model_id": "2bce980ed9204029abd32db55167fa7f",
       "version_major": 2,
       "version_minor": 0
      },
      "text/plain": [
       "  0%|          | 0/4000 [00:00<?, ?it/s]"
      ]
     },
     "metadata": {},
     "output_type": "display_data"
    },
    {
     "data": {
      "application/vnd.jupyter.widget-view+json": {
       "model_id": "e272210f492c40c8a119aa412eb25ab1",
       "version_major": 2,
       "version_minor": 0
      },
      "text/plain": [
       "  0%|          | 0/4000 [00:00<?, ?it/s]"
      ]
     },
     "metadata": {},
     "output_type": "display_data"
    },
    {
     "data": {
      "application/vnd.jupyter.widget-view+json": {
       "model_id": "85f7a998fc9c45bf86ecaacfcec040e6",
       "version_major": 2,
       "version_minor": 0
      },
      "text/plain": [
       "  0%|          | 0/4000 [00:00<?, ?it/s]"
      ]
     },
     "metadata": {},
     "output_type": "display_data"
    },
    {
     "data": {
      "application/vnd.jupyter.widget-view+json": {
       "model_id": "6dc04b61c48d4841b67d53df57ecd053",
       "version_major": 2,
       "version_minor": 0
      },
      "text/plain": [
       "  0%|          | 0/4000 [00:00<?, ?it/s]"
      ]
     },
     "metadata": {},
     "output_type": "display_data"
    },
    {
     "data": {
      "application/vnd.jupyter.widget-view+json": {
       "model_id": "03b058f290ba4f549b212b47be7cad85",
       "version_major": 2,
       "version_minor": 0
      },
      "text/plain": [
       "  0%|          | 0/4000 [00:00<?, ?it/s]"
      ]
     },
     "metadata": {},
     "output_type": "display_data"
    },
    {
     "data": {
      "application/vnd.jupyter.widget-view+json": {
       "model_id": "b6bfa9e82b8143669ef5c3a4b3b0267a",
       "version_major": 2,
       "version_minor": 0
      },
      "text/plain": [
       "  0%|          | 0/4000 [00:00<?, ?it/s]"
      ]
     },
     "metadata": {},
     "output_type": "display_data"
    },
    {
     "data": {
      "application/vnd.jupyter.widget-view+json": {
       "model_id": "9dfda91584e24c55a17600b6ac4cc48a",
       "version_major": 2,
       "version_minor": 0
      },
      "text/plain": [
       "  0%|          | 0/4000 [00:00<?, ?it/s]"
      ]
     },
     "metadata": {},
     "output_type": "display_data"
    },
    {
     "data": {
      "application/vnd.jupyter.widget-view+json": {
       "model_id": "eb1ff7fcebd7497096c91119fb851787",
       "version_major": 2,
       "version_minor": 0
      },
      "text/plain": [
       "  0%|          | 0/4000 [00:00<?, ?it/s]"
      ]
     },
     "metadata": {},
     "output_type": "display_data"
    },
    {
     "data": {
      "application/vnd.jupyter.widget-view+json": {
       "model_id": "1002a18b7cd64a99b803de4edb58f534",
       "version_major": 2,
       "version_minor": 0
      },
      "text/plain": [
       "  0%|          | 0/4000 [00:00<?, ?it/s]"
      ]
     },
     "metadata": {},
     "output_type": "display_data"
    },
    {
     "data": {
      "application/vnd.jupyter.widget-view+json": {
       "model_id": "af93d2149d0c4fd3826f0c991ddec774",
       "version_major": 2,
       "version_minor": 0
      },
      "text/plain": [
       "  0%|          | 0/4000 [00:00<?, ?it/s]"
      ]
     },
     "metadata": {},
     "output_type": "display_data"
    },
    {
     "data": {
      "application/vnd.jupyter.widget-view+json": {
       "model_id": "f3f88f45117d4229bb0964b4c0d5d85c",
       "version_major": 2,
       "version_minor": 0
      },
      "text/plain": [
       "  0%|          | 0/4000 [00:00<?, ?it/s]"
      ]
     },
     "metadata": {},
     "output_type": "display_data"
    },
    {
     "data": {
      "application/vnd.jupyter.widget-view+json": {
       "model_id": "838c117bbcc54c62be318a34f7d56165",
       "version_major": 2,
       "version_minor": 0
      },
      "text/plain": [
       "  0%|          | 0/4000 [00:00<?, ?it/s]"
      ]
     },
     "metadata": {},
     "output_type": "display_data"
    },
    {
     "data": {
      "application/vnd.jupyter.widget-view+json": {
       "model_id": "349da812b02c425991290ea885c0a85f",
       "version_major": 2,
       "version_minor": 0
      },
      "text/plain": [
       "  0%|          | 0/4000 [00:00<?, ?it/s]"
      ]
     },
     "metadata": {},
     "output_type": "display_data"
    },
    {
     "data": {
      "application/vnd.jupyter.widget-view+json": {
       "model_id": "e68e3ca20bd84389acbe93ea8a5ed0a0",
       "version_major": 2,
       "version_minor": 0
      },
      "text/plain": [
       "  0%|          | 0/4000 [00:00<?, ?it/s]"
      ]
     },
     "metadata": {},
     "output_type": "display_data"
    },
    {
     "data": {
      "application/vnd.jupyter.widget-view+json": {
       "model_id": "b5744e8d424f48069ce2aaa3a243c1bc",
       "version_major": 2,
       "version_minor": 0
      },
      "text/plain": [
       "  0%|          | 0/4000 [00:00<?, ?it/s]"
      ]
     },
     "metadata": {},
     "output_type": "display_data"
    },
    {
     "data": {
      "application/vnd.jupyter.widget-view+json": {
       "model_id": "620026083be34111847a7ebdb3881f0a",
       "version_major": 2,
       "version_minor": 0
      },
      "text/plain": [
       "  0%|          | 0/4000 [00:00<?, ?it/s]"
      ]
     },
     "metadata": {},
     "output_type": "display_data"
    },
    {
     "data": {
      "application/vnd.jupyter.widget-view+json": {
       "model_id": "92b337d19dc5497cabbaa5a028fb8b98",
       "version_major": 2,
       "version_minor": 0
      },
      "text/plain": [
       "  0%|          | 0/4000 [00:00<?, ?it/s]"
      ]
     },
     "metadata": {},
     "output_type": "display_data"
    },
    {
     "data": {
      "application/vnd.jupyter.widget-view+json": {
       "model_id": "4d2ec54e203c4df6bfa0fa238d9b3489",
       "version_major": 2,
       "version_minor": 0
      },
      "text/plain": [
       "  0%|          | 0/4000 [00:00<?, ?it/s]"
      ]
     },
     "metadata": {},
     "output_type": "display_data"
    },
    {
     "data": {
      "application/vnd.jupyter.widget-view+json": {
       "model_id": "410186421ca9423c8fe9fc875e21904b",
       "version_major": 2,
       "version_minor": 0
      },
      "text/plain": [
       "  0%|          | 0/4000 [00:00<?, ?it/s]"
      ]
     },
     "metadata": {},
     "output_type": "display_data"
    },
    {
     "data": {
      "application/vnd.jupyter.widget-view+json": {
       "model_id": "3d0695882842425fa52f9a14be0a22ce",
       "version_major": 2,
       "version_minor": 0
      },
      "text/plain": [
       "  0%|          | 0/4000 [00:00<?, ?it/s]"
      ]
     },
     "metadata": {},
     "output_type": "display_data"
    },
    {
     "data": {
      "application/vnd.jupyter.widget-view+json": {
       "model_id": "d1208fb4ca624feea884df22fad63c90",
       "version_major": 2,
       "version_minor": 0
      },
      "text/plain": [
       "  0%|          | 0/4000 [00:00<?, ?it/s]"
      ]
     },
     "metadata": {},
     "output_type": "display_data"
    },
    {
     "data": {
      "application/vnd.jupyter.widget-view+json": {
       "model_id": "f7e4dd8dd4ff4574b0b4ed006e2f0557",
       "version_major": 2,
       "version_minor": 0
      },
      "text/plain": [
       "  0%|          | 0/4000 [00:00<?, ?it/s]"
      ]
     },
     "metadata": {},
     "output_type": "display_data"
    },
    {
     "data": {
      "application/vnd.jupyter.widget-view+json": {
       "model_id": "fdd638f6dd81416592ed59c5c13d68dd",
       "version_major": 2,
       "version_minor": 0
      },
      "text/plain": [
       "  0%|          | 0/4000 [00:00<?, ?it/s]"
      ]
     },
     "metadata": {},
     "output_type": "display_data"
    },
    {
     "data": {
      "application/vnd.jupyter.widget-view+json": {
       "model_id": "69db40caa4bc497da19e34073be6ac30",
       "version_major": 2,
       "version_minor": 0
      },
      "text/plain": [
       "  0%|          | 0/4000 [00:00<?, ?it/s]"
      ]
     },
     "metadata": {},
     "output_type": "display_data"
    },
    {
     "data": {
      "application/vnd.jupyter.widget-view+json": {
       "model_id": "fd25affb6ba34200adcd19dfb67533ab",
       "version_major": 2,
       "version_minor": 0
      },
      "text/plain": [
       "  0%|          | 0/4000 [00:00<?, ?it/s]"
      ]
     },
     "metadata": {},
     "output_type": "display_data"
    },
    {
     "data": {
      "application/vnd.jupyter.widget-view+json": {
       "model_id": "f1e98e4b87fb4a37921b6b06f1effd36",
       "version_major": 2,
       "version_minor": 0
      },
      "text/plain": [
       "  0%|          | 0/4000 [00:00<?, ?it/s]"
      ]
     },
     "metadata": {},
     "output_type": "display_data"
    },
    {
     "data": {
      "application/vnd.jupyter.widget-view+json": {
       "model_id": "ae8f41e6453e4e44abe5eabc6e7127cd",
       "version_major": 2,
       "version_minor": 0
      },
      "text/plain": [
       "  0%|          | 0/4000 [00:00<?, ?it/s]"
      ]
     },
     "metadata": {},
     "output_type": "display_data"
    },
    {
     "data": {
      "application/vnd.jupyter.widget-view+json": {
       "model_id": "cde3e93a20574cdd871a12206a39892a",
       "version_major": 2,
       "version_minor": 0
      },
      "text/plain": [
       "  0%|          | 0/4000 [00:00<?, ?it/s]"
      ]
     },
     "metadata": {},
     "output_type": "display_data"
    },
    {
     "data": {
      "application/vnd.jupyter.widget-view+json": {
       "model_id": "2f92a856fa1542d4a9b1915787179715",
       "version_major": 2,
       "version_minor": 0
      },
      "text/plain": [
       "  0%|          | 0/4000 [00:00<?, ?it/s]"
      ]
     },
     "metadata": {},
     "output_type": "display_data"
    },
    {
     "data": {
      "application/vnd.jupyter.widget-view+json": {
       "model_id": "ce4efd79adb941129607d5e0ca47123f",
       "version_major": 2,
       "version_minor": 0
      },
      "text/plain": [
       "  0%|          | 0/4000 [00:00<?, ?it/s]"
      ]
     },
     "metadata": {},
     "output_type": "display_data"
    },
    {
     "data": {
      "application/vnd.jupyter.widget-view+json": {
       "model_id": "5c714d93128c49fba3c653d6a652cf17",
       "version_major": 2,
       "version_minor": 0
      },
      "text/plain": [
       "  0%|          | 0/4000 [00:00<?, ?it/s]"
      ]
     },
     "metadata": {},
     "output_type": "display_data"
    },
    {
     "data": {
      "application/vnd.jupyter.widget-view+json": {
       "model_id": "78484e6c93014ef6ad802814c4a2f2f6",
       "version_major": 2,
       "version_minor": 0
      },
      "text/plain": [
       "  0%|          | 0/4000 [00:00<?, ?it/s]"
      ]
     },
     "metadata": {},
     "output_type": "display_data"
    },
    {
     "data": {
      "application/vnd.jupyter.widget-view+json": {
       "model_id": "9845ad71f5834ba390a5ab06d137a5a6",
       "version_major": 2,
       "version_minor": 0
      },
      "text/plain": [
       "  0%|          | 0/4000 [00:00<?, ?it/s]"
      ]
     },
     "metadata": {},
     "output_type": "display_data"
    },
    {
     "data": {
      "application/vnd.jupyter.widget-view+json": {
       "model_id": "ea73df61b7fd41368515141adbb1dd7a",
       "version_major": 2,
       "version_minor": 0
      },
      "text/plain": [
       "  0%|          | 0/4000 [00:00<?, ?it/s]"
      ]
     },
     "metadata": {},
     "output_type": "display_data"
    },
    {
     "data": {
      "application/vnd.jupyter.widget-view+json": {
       "model_id": "30744b93602d42e6be161861205f9e96",
       "version_major": 2,
       "version_minor": 0
      },
      "text/plain": [
       "  0%|          | 0/4000 [00:00<?, ?it/s]"
      ]
     },
     "metadata": {},
     "output_type": "display_data"
    },
    {
     "data": {
      "application/vnd.jupyter.widget-view+json": {
       "model_id": "fc447cd9f5da4f9fa5adc6425bae7f16",
       "version_major": 2,
       "version_minor": 0
      },
      "text/plain": [
       "  0%|          | 0/4000 [00:00<?, ?it/s]"
      ]
     },
     "metadata": {},
     "output_type": "display_data"
    },
    {
     "data": {
      "application/vnd.jupyter.widget-view+json": {
       "model_id": "42d25a107bce4829a6ecf9f9a458a767",
       "version_major": 2,
       "version_minor": 0
      },
      "text/plain": [
       "  0%|          | 0/4000 [00:00<?, ?it/s]"
      ]
     },
     "metadata": {},
     "output_type": "display_data"
    },
    {
     "data": {
      "application/vnd.jupyter.widget-view+json": {
       "model_id": "eb824d6e7b624ebb8b083dced5113981",
       "version_major": 2,
       "version_minor": 0
      },
      "text/plain": [
       "  0%|          | 0/4000 [00:00<?, ?it/s]"
      ]
     },
     "metadata": {},
     "output_type": "display_data"
    },
    {
     "data": {
      "application/vnd.jupyter.widget-view+json": {
       "model_id": "05c4e089938e44fda5b7d82d6d955854",
       "version_major": 2,
       "version_minor": 0
      },
      "text/plain": [
       "  0%|          | 0/4000 [00:00<?, ?it/s]"
      ]
     },
     "metadata": {},
     "output_type": "display_data"
    },
    {
     "data": {
      "application/vnd.jupyter.widget-view+json": {
       "model_id": "c072ff917039430fa976941d3ea9e6af",
       "version_major": 2,
       "version_minor": 0
      },
      "text/plain": [
       "  0%|          | 0/4000 [00:00<?, ?it/s]"
      ]
     },
     "metadata": {},
     "output_type": "display_data"
    },
    {
     "data": {
      "application/vnd.jupyter.widget-view+json": {
       "model_id": "2a7041b14ff94cd1a379b1fb52dc1b8e",
       "version_major": 2,
       "version_minor": 0
      },
      "text/plain": [
       "  0%|          | 0/4000 [00:00<?, ?it/s]"
      ]
     },
     "metadata": {},
     "output_type": "display_data"
    },
    {
     "data": {
      "application/vnd.jupyter.widget-view+json": {
       "model_id": "3031b073d6504d1490e074b4a291b523",
       "version_major": 2,
       "version_minor": 0
      },
      "text/plain": [
       "  0%|          | 0/4000 [00:00<?, ?it/s]"
      ]
     },
     "metadata": {},
     "output_type": "display_data"
    },
    {
     "data": {
      "application/vnd.jupyter.widget-view+json": {
       "model_id": "475b419a30c849378e0c856d8dd2dd69",
       "version_major": 2,
       "version_minor": 0
      },
      "text/plain": [
       "  0%|          | 0/4000 [00:00<?, ?it/s]"
      ]
     },
     "metadata": {},
     "output_type": "display_data"
    },
    {
     "data": {
      "application/vnd.jupyter.widget-view+json": {
       "model_id": "8e82cb2aabc1414396a3fe4fa301999b",
       "version_major": 2,
       "version_minor": 0
      },
      "text/plain": [
       "  0%|          | 0/4000 [00:00<?, ?it/s]"
      ]
     },
     "metadata": {},
     "output_type": "display_data"
    },
    {
     "data": {
      "application/vnd.jupyter.widget-view+json": {
       "model_id": "7484af3c97b04ddda482d4f64d869a86",
       "version_major": 2,
       "version_minor": 0
      },
      "text/plain": [
       "  0%|          | 0/4000 [00:00<?, ?it/s]"
      ]
     },
     "metadata": {},
     "output_type": "display_data"
    },
    {
     "data": {
      "application/vnd.jupyter.widget-view+json": {
       "model_id": "8498bd8fbfe644daae390bc8f15478cc",
       "version_major": 2,
       "version_minor": 0
      },
      "text/plain": [
       "  0%|          | 0/4000 [00:00<?, ?it/s]"
      ]
     },
     "metadata": {},
     "output_type": "display_data"
    },
    {
     "data": {
      "application/vnd.jupyter.widget-view+json": {
       "model_id": "7f90089ebc36442dbf9fac2eda9956c7",
       "version_major": 2,
       "version_minor": 0
      },
      "text/plain": [
       "  0%|          | 0/4000 [00:00<?, ?it/s]"
      ]
     },
     "metadata": {},
     "output_type": "display_data"
    },
    {
     "data": {
      "application/vnd.jupyter.widget-view+json": {
       "model_id": "b3227be33b1b45e2894fa8b5d572fc41",
       "version_major": 2,
       "version_minor": 0
      },
      "text/plain": [
       "  0%|          | 0/4000 [00:00<?, ?it/s]"
      ]
     },
     "metadata": {},
     "output_type": "display_data"
    },
    {
     "data": {
      "application/vnd.jupyter.widget-view+json": {
       "model_id": "806606e76e694e47b8c2ab7711b398c2",
       "version_major": 2,
       "version_minor": 0
      },
      "text/plain": [
       "  0%|          | 0/4000 [00:00<?, ?it/s]"
      ]
     },
     "metadata": {},
     "output_type": "display_data"
    },
    {
     "data": {
      "application/vnd.jupyter.widget-view+json": {
       "model_id": "5a07098950994186a121294f7ceaf1a7",
       "version_major": 2,
       "version_minor": 0
      },
      "text/plain": [
       "  0%|          | 0/4000 [00:00<?, ?it/s]"
      ]
     },
     "metadata": {},
     "output_type": "display_data"
    },
    {
     "data": {
      "application/vnd.jupyter.widget-view+json": {
       "model_id": "234bc130fe7344f096664693a93e32b3",
       "version_major": 2,
       "version_minor": 0
      },
      "text/plain": [
       "  0%|          | 0/4000 [00:00<?, ?it/s]"
      ]
     },
     "metadata": {},
     "output_type": "display_data"
    },
    {
     "data": {
      "application/vnd.jupyter.widget-view+json": {
       "model_id": "28bda679241049e78bc2d38bbbc67e9f",
       "version_major": 2,
       "version_minor": 0
      },
      "text/plain": [
       "  0%|          | 0/4000 [00:00<?, ?it/s]"
      ]
     },
     "metadata": {},
     "output_type": "display_data"
    },
    {
     "data": {
      "application/vnd.jupyter.widget-view+json": {
       "model_id": "74463629d5f64932b72c02163cee95a3",
       "version_major": 2,
       "version_minor": 0
      },
      "text/plain": [
       "  0%|          | 0/4000 [00:00<?, ?it/s]"
      ]
     },
     "metadata": {},
     "output_type": "display_data"
    },
    {
     "data": {
      "application/vnd.jupyter.widget-view+json": {
       "model_id": "4ab5a54165a945c3a63e21fbf16f41a8",
       "version_major": 2,
       "version_minor": 0
      },
      "text/plain": [
       "  0%|          | 0/4000 [00:00<?, ?it/s]"
      ]
     },
     "metadata": {},
     "output_type": "display_data"
    },
    {
     "data": {
      "application/vnd.jupyter.widget-view+json": {
       "model_id": "2fe66ff6e299411aa073694d8c4fe763",
       "version_major": 2,
       "version_minor": 0
      },
      "text/plain": [
       "  0%|          | 0/4000 [00:00<?, ?it/s]"
      ]
     },
     "metadata": {},
     "output_type": "display_data"
    },
    {
     "data": {
      "application/vnd.jupyter.widget-view+json": {
       "model_id": "627e2109aa4842faa5d269b7e724e63b",
       "version_major": 2,
       "version_minor": 0
      },
      "text/plain": [
       "  0%|          | 0/4000 [00:00<?, ?it/s]"
      ]
     },
     "metadata": {},
     "output_type": "display_data"
    },
    {
     "data": {
      "application/vnd.jupyter.widget-view+json": {
       "model_id": "0cfded101bb0483b9e05b8223eb09972",
       "version_major": 2,
       "version_minor": 0
      },
      "text/plain": [
       "  0%|          | 0/4000 [00:00<?, ?it/s]"
      ]
     },
     "metadata": {},
     "output_type": "display_data"
    },
    {
     "data": {
      "application/vnd.jupyter.widget-view+json": {
       "model_id": "79e1db4d97134bfcb5829e94fc6a1fb3",
       "version_major": 2,
       "version_minor": 0
      },
      "text/plain": [
       "  0%|          | 0/4000 [00:00<?, ?it/s]"
      ]
     },
     "metadata": {},
     "output_type": "display_data"
    },
    {
     "data": {
      "application/vnd.jupyter.widget-view+json": {
       "model_id": "9c27c4f33c714988bef79f15e065a441",
       "version_major": 2,
       "version_minor": 0
      },
      "text/plain": [
       "  0%|          | 0/4000 [00:00<?, ?it/s]"
      ]
     },
     "metadata": {},
     "output_type": "display_data"
    },
    {
     "data": {
      "application/vnd.jupyter.widget-view+json": {
       "model_id": "c4d48939301043a88db43cc1002d1370",
       "version_major": 2,
       "version_minor": 0
      },
      "text/plain": [
       "  0%|          | 0/4000 [00:00<?, ?it/s]"
      ]
     },
     "metadata": {},
     "output_type": "display_data"
    },
    {
     "data": {
      "application/vnd.jupyter.widget-view+json": {
       "model_id": "a91f663ade61485896ce2a2b484de07a",
       "version_major": 2,
       "version_minor": 0
      },
      "text/plain": [
       "  0%|          | 0/4000 [00:00<?, ?it/s]"
      ]
     },
     "metadata": {},
     "output_type": "display_data"
    },
    {
     "data": {
      "application/vnd.jupyter.widget-view+json": {
       "model_id": "24ab8765d69d49748525b2b50c6a8f0d",
       "version_major": 2,
       "version_minor": 0
      },
      "text/plain": [
       "  0%|          | 0/4000 [00:00<?, ?it/s]"
      ]
     },
     "metadata": {},
     "output_type": "display_data"
    },
    {
     "data": {
      "application/vnd.jupyter.widget-view+json": {
       "model_id": "56a26af8dc3c49b796f27af561ef9a9e",
       "version_major": 2,
       "version_minor": 0
      },
      "text/plain": [
       "  0%|          | 0/4000 [00:00<?, ?it/s]"
      ]
     },
     "metadata": {},
     "output_type": "display_data"
    },
    {
     "data": {
      "application/vnd.jupyter.widget-view+json": {
       "model_id": "44c3451dc81d494a90c3338270e531ba",
       "version_major": 2,
       "version_minor": 0
      },
      "text/plain": [
       "  0%|          | 0/4000 [00:00<?, ?it/s]"
      ]
     },
     "metadata": {},
     "output_type": "display_data"
    },
    {
     "data": {
      "application/vnd.jupyter.widget-view+json": {
       "model_id": "5013f260baf14ce88979e988b8884ebc",
       "version_major": 2,
       "version_minor": 0
      },
      "text/plain": [
       "  0%|          | 0/4000 [00:00<?, ?it/s]"
      ]
     },
     "metadata": {},
     "output_type": "display_data"
    },
    {
     "data": {
      "application/vnd.jupyter.widget-view+json": {
       "model_id": "1583685c237942ebb575fac3b427dcff",
       "version_major": 2,
       "version_minor": 0
      },
      "text/plain": [
       "  0%|          | 0/4000 [00:00<?, ?it/s]"
      ]
     },
     "metadata": {},
     "output_type": "display_data"
    },
    {
     "data": {
      "application/vnd.jupyter.widget-view+json": {
       "model_id": "d8d4ca36bfbf4ba28c939ec10312c38d",
       "version_major": 2,
       "version_minor": 0
      },
      "text/plain": [
       "  0%|          | 0/4000 [00:00<?, ?it/s]"
      ]
     },
     "metadata": {},
     "output_type": "display_data"
    },
    {
     "data": {
      "application/vnd.jupyter.widget-view+json": {
       "model_id": "4e15bf8c8df443e0a2bf339c4967a621",
       "version_major": 2,
       "version_minor": 0
      },
      "text/plain": [
       "  0%|          | 0/4000 [00:00<?, ?it/s]"
      ]
     },
     "metadata": {},
     "output_type": "display_data"
    },
    {
     "data": {
      "application/vnd.jupyter.widget-view+json": {
       "model_id": "396d07ecf5664584a60f8fb2e6d93f5f",
       "version_major": 2,
       "version_minor": 0
      },
      "text/plain": [
       "  0%|          | 0/4000 [00:00<?, ?it/s]"
      ]
     },
     "metadata": {},
     "output_type": "display_data"
    },
    {
     "data": {
      "application/vnd.jupyter.widget-view+json": {
       "model_id": "be928d93c7584082a1575d85e02270d1",
       "version_major": 2,
       "version_minor": 0
      },
      "text/plain": [
       "  0%|          | 0/4000 [00:00<?, ?it/s]"
      ]
     },
     "metadata": {},
     "output_type": "display_data"
    },
    {
     "data": {
      "application/vnd.jupyter.widget-view+json": {
       "model_id": "73e981a91a7748b98c0cf3321234adbd",
       "version_major": 2,
       "version_minor": 0
      },
      "text/plain": [
       "  0%|          | 0/4000 [00:00<?, ?it/s]"
      ]
     },
     "metadata": {},
     "output_type": "display_data"
    },
    {
     "data": {
      "application/vnd.jupyter.widget-view+json": {
       "model_id": "d19daef99db8488da1deeea9cfd36d03",
       "version_major": 2,
       "version_minor": 0
      },
      "text/plain": [
       "  0%|          | 0/4000 [00:00<?, ?it/s]"
      ]
     },
     "metadata": {},
     "output_type": "display_data"
    },
    {
     "data": {
      "application/vnd.jupyter.widget-view+json": {
       "model_id": "58ea38f12d504b0ea9b9707ae4fcc60e",
       "version_major": 2,
       "version_minor": 0
      },
      "text/plain": [
       "  0%|          | 0/4000 [00:00<?, ?it/s]"
      ]
     },
     "metadata": {},
     "output_type": "display_data"
    },
    {
     "data": {
      "application/vnd.jupyter.widget-view+json": {
       "model_id": "f640151056c4450baf0f5b81fb8594f3",
       "version_major": 2,
       "version_minor": 0
      },
      "text/plain": [
       "  0%|          | 0/4000 [00:00<?, ?it/s]"
      ]
     },
     "metadata": {},
     "output_type": "display_data"
    },
    {
     "data": {
      "application/vnd.jupyter.widget-view+json": {
       "model_id": "1b9a317d3be34ba2909b98b5050cf5be",
       "version_major": 2,
       "version_minor": 0
      },
      "text/plain": [
       "  0%|          | 0/4000 [00:00<?, ?it/s]"
      ]
     },
     "metadata": {},
     "output_type": "display_data"
    },
    {
     "data": {
      "application/vnd.jupyter.widget-view+json": {
       "model_id": "6cb89a640fb74d7f83a3024b74b586a6",
       "version_major": 2,
       "version_minor": 0
      },
      "text/plain": [
       "  0%|          | 0/4000 [00:00<?, ?it/s]"
      ]
     },
     "metadata": {},
     "output_type": "display_data"
    },
    {
     "data": {
      "application/vnd.jupyter.widget-view+json": {
       "model_id": "95766661affb406eb4d6088c205e683f",
       "version_major": 2,
       "version_minor": 0
      },
      "text/plain": [
       "  0%|          | 0/4000 [00:00<?, ?it/s]"
      ]
     },
     "metadata": {},
     "output_type": "display_data"
    },
    {
     "data": {
      "application/vnd.jupyter.widget-view+json": {
       "model_id": "fe248ae6884c420794877c78d7d43f4f",
       "version_major": 2,
       "version_minor": 0
      },
      "text/plain": [
       "  0%|          | 0/4000 [00:00<?, ?it/s]"
      ]
     },
     "metadata": {},
     "output_type": "display_data"
    },
    {
     "data": {
      "application/vnd.jupyter.widget-view+json": {
       "model_id": "e7f37a8551e24fcf8c401d1d50bd2f3b",
       "version_major": 2,
       "version_minor": 0
      },
      "text/plain": [
       "  0%|          | 0/4000 [00:00<?, ?it/s]"
      ]
     },
     "metadata": {},
     "output_type": "display_data"
    },
    {
     "data": {
      "application/vnd.jupyter.widget-view+json": {
       "model_id": "a21ad660a5cd4ccd9b9f119cad3cd740",
       "version_major": 2,
       "version_minor": 0
      },
      "text/plain": [
       "  0%|          | 0/4000 [00:00<?, ?it/s]"
      ]
     },
     "metadata": {},
     "output_type": "display_data"
    },
    {
     "data": {
      "application/vnd.jupyter.widget-view+json": {
       "model_id": "6d17aca39cba4b61b8d6f565cfcfcdd4",
       "version_major": 2,
       "version_minor": 0
      },
      "text/plain": [
       "  0%|          | 0/4000 [00:00<?, ?it/s]"
      ]
     },
     "metadata": {},
     "output_type": "display_data"
    },
    {
     "data": {
      "application/vnd.jupyter.widget-view+json": {
       "model_id": "94268fb176ea4404b8989e3cc22de2e6",
       "version_major": 2,
       "version_minor": 0
      },
      "text/plain": [
       "  0%|          | 0/4000 [00:00<?, ?it/s]"
      ]
     },
     "metadata": {},
     "output_type": "display_data"
    },
    {
     "data": {
      "application/vnd.jupyter.widget-view+json": {
       "model_id": "00e2341e316144c59e35c64e1e59a193",
       "version_major": 2,
       "version_minor": 0
      },
      "text/plain": [
       "  0%|          | 0/4000 [00:00<?, ?it/s]"
      ]
     },
     "metadata": {},
     "output_type": "display_data"
    },
    {
     "data": {
      "application/vnd.jupyter.widget-view+json": {
       "model_id": "351e83e6eeac45729adc3c78c2191f45",
       "version_major": 2,
       "version_minor": 0
      },
      "text/plain": [
       "  0%|          | 0/4000 [00:00<?, ?it/s]"
      ]
     },
     "metadata": {},
     "output_type": "display_data"
    },
    {
     "data": {
      "application/vnd.jupyter.widget-view+json": {
       "model_id": "c0456a95736048f08b3f69340c98ba57",
       "version_major": 2,
       "version_minor": 0
      },
      "text/plain": [
       "  0%|          | 0/4000 [00:00<?, ?it/s]"
      ]
     },
     "metadata": {},
     "output_type": "display_data"
    },
    {
     "data": {
      "application/vnd.jupyter.widget-view+json": {
       "model_id": "492c6c58cf8642c6a5aa3bbcb8829eb3",
       "version_major": 2,
       "version_minor": 0
      },
      "text/plain": [
       "  0%|          | 0/4000 [00:00<?, ?it/s]"
      ]
     },
     "metadata": {},
     "output_type": "display_data"
    },
    {
     "data": {
      "application/vnd.jupyter.widget-view+json": {
       "model_id": "08f530c844aa4ed5bfd21e5d14aee84e",
       "version_major": 2,
       "version_minor": 0
      },
      "text/plain": [
       "  0%|          | 0/4000 [00:00<?, ?it/s]"
      ]
     },
     "metadata": {},
     "output_type": "display_data"
    },
    {
     "data": {
      "application/vnd.jupyter.widget-view+json": {
       "model_id": "d308b935969d499caa62d1cc8e09dd9d",
       "version_major": 2,
       "version_minor": 0
      },
      "text/plain": [
       "  0%|          | 0/4000 [00:00<?, ?it/s]"
      ]
     },
     "metadata": {},
     "output_type": "display_data"
    },
    {
     "data": {
      "application/vnd.jupyter.widget-view+json": {
       "model_id": "5d05126bc81547c8be773d45d7ebdd26",
       "version_major": 2,
       "version_minor": 0
      },
      "text/plain": [
       "  0%|          | 0/4000 [00:00<?, ?it/s]"
      ]
     },
     "metadata": {},
     "output_type": "display_data"
    },
    {
     "data": {
      "application/vnd.jupyter.widget-view+json": {
       "model_id": "d090b78264014587a1614162eb9f3279",
       "version_major": 2,
       "version_minor": 0
      },
      "text/plain": [
       "  0%|          | 0/4000 [00:00<?, ?it/s]"
      ]
     },
     "metadata": {},
     "output_type": "display_data"
    },
    {
     "data": {
      "application/vnd.jupyter.widget-view+json": {
       "model_id": "428bf7281a5a441386ff7369a0145a1e",
       "version_major": 2,
       "version_minor": 0
      },
      "text/plain": [
       "  0%|          | 0/4000 [00:00<?, ?it/s]"
      ]
     },
     "metadata": {},
     "output_type": "display_data"
    },
    {
     "data": {
      "application/vnd.jupyter.widget-view+json": {
       "model_id": "3d27540e86b1471d9de552122eba7696",
       "version_major": 2,
       "version_minor": 0
      },
      "text/plain": [
       "  0%|          | 0/4000 [00:00<?, ?it/s]"
      ]
     },
     "metadata": {},
     "output_type": "display_data"
    },
    {
     "data": {
      "application/vnd.jupyter.widget-view+json": {
       "model_id": "bb3ad708711a49b88ae7deb657b0fc3b",
       "version_major": 2,
       "version_minor": 0
      },
      "text/plain": [
       "  0%|          | 0/4000 [00:00<?, ?it/s]"
      ]
     },
     "metadata": {},
     "output_type": "display_data"
    },
    {
     "data": {
      "application/vnd.jupyter.widget-view+json": {
       "model_id": "3543f6382b994b2ab7776fb348834c03",
       "version_major": 2,
       "version_minor": 0
      },
      "text/plain": [
       "  0%|          | 0/4000 [00:00<?, ?it/s]"
      ]
     },
     "metadata": {},
     "output_type": "display_data"
    },
    {
     "data": {
      "application/vnd.jupyter.widget-view+json": {
       "model_id": "d80aa60fd46741dfa98bb14be449eaa0",
       "version_major": 2,
       "version_minor": 0
      },
      "text/plain": [
       "  0%|          | 0/4000 [00:00<?, ?it/s]"
      ]
     },
     "metadata": {},
     "output_type": "display_data"
    },
    {
     "data": {
      "application/vnd.jupyter.widget-view+json": {
       "model_id": "67caed3f254843ed83bd4fba22dd62c4",
       "version_major": 2,
       "version_minor": 0
      },
      "text/plain": [
       "  0%|          | 0/4000 [00:00<?, ?it/s]"
      ]
     },
     "metadata": {},
     "output_type": "display_data"
    },
    {
     "data": {
      "application/vnd.jupyter.widget-view+json": {
       "model_id": "cff665c00f6b48b7bf36cdb291fb0491",
       "version_major": 2,
       "version_minor": 0
      },
      "text/plain": [
       "  0%|          | 0/4000 [00:00<?, ?it/s]"
      ]
     },
     "metadata": {},
     "output_type": "display_data"
    },
    {
     "data": {
      "application/vnd.jupyter.widget-view+json": {
       "model_id": "12f6fb73dc4644a2a0be76bafe2ae795",
       "version_major": 2,
       "version_minor": 0
      },
      "text/plain": [
       "  0%|          | 0/4000 [00:00<?, ?it/s]"
      ]
     },
     "metadata": {},
     "output_type": "display_data"
    },
    {
     "data": {
      "application/vnd.jupyter.widget-view+json": {
       "model_id": "bbbd73c7d9494028be65979f568cdc24",
       "version_major": 2,
       "version_minor": 0
      },
      "text/plain": [
       "  0%|          | 0/4000 [00:00<?, ?it/s]"
      ]
     },
     "metadata": {},
     "output_type": "display_data"
    },
    {
     "data": {
      "application/vnd.jupyter.widget-view+json": {
       "model_id": "297cb98e216341fdbf416d856cb69477",
       "version_major": 2,
       "version_minor": 0
      },
      "text/plain": [
       "  0%|          | 0/4000 [00:00<?, ?it/s]"
      ]
     },
     "metadata": {},
     "output_type": "display_data"
    },
    {
     "data": {
      "application/vnd.jupyter.widget-view+json": {
       "model_id": "8780eccdbbd147a2a050bac178798b43",
       "version_major": 2,
       "version_minor": 0
      },
      "text/plain": [
       "  0%|          | 0/4000 [00:00<?, ?it/s]"
      ]
     },
     "metadata": {},
     "output_type": "display_data"
    },
    {
     "data": {
      "application/vnd.jupyter.widget-view+json": {
       "model_id": "1e8fd8d504ff4224aa15152d0b231f66",
       "version_major": 2,
       "version_minor": 0
      },
      "text/plain": [
       "  0%|          | 0/4000 [00:00<?, ?it/s]"
      ]
     },
     "metadata": {},
     "output_type": "display_data"
    },
    {
     "data": {
      "application/vnd.jupyter.widget-view+json": {
       "model_id": "9019527088814440a39e8f61da44044f",
       "version_major": 2,
       "version_minor": 0
      },
      "text/plain": [
       "  0%|          | 0/4000 [00:00<?, ?it/s]"
      ]
     },
     "metadata": {},
     "output_type": "display_data"
    },
    {
     "data": {
      "application/vnd.jupyter.widget-view+json": {
       "model_id": "4c7eed930bd74fb7a789aa8dc1b53757",
       "version_major": 2,
       "version_minor": 0
      },
      "text/plain": [
       "  0%|          | 0/4000 [00:00<?, ?it/s]"
      ]
     },
     "metadata": {},
     "output_type": "display_data"
    },
    {
     "data": {
      "application/vnd.jupyter.widget-view+json": {
       "model_id": "7250dc4c5a2947bf9df0c145621bfc1a",
       "version_major": 2,
       "version_minor": 0
      },
      "text/plain": [
       "  0%|          | 0/4000 [00:00<?, ?it/s]"
      ]
     },
     "metadata": {},
     "output_type": "display_data"
    },
    {
     "data": {
      "application/vnd.jupyter.widget-view+json": {
       "model_id": "dcb75e8c95774742b747987e06f99a86",
       "version_major": 2,
       "version_minor": 0
      },
      "text/plain": [
       "  0%|          | 0/4000 [00:00<?, ?it/s]"
      ]
     },
     "metadata": {},
     "output_type": "display_data"
    },
    {
     "data": {
      "application/vnd.jupyter.widget-view+json": {
       "model_id": "17a71b8c4ff0457893f7545d51ccadee",
       "version_major": 2,
       "version_minor": 0
      },
      "text/plain": [
       "  0%|          | 0/4000 [00:00<?, ?it/s]"
      ]
     },
     "metadata": {},
     "output_type": "display_data"
    },
    {
     "data": {
      "application/vnd.jupyter.widget-view+json": {
       "model_id": "bbfc3de25fcb4ca9a312368c7a232305",
       "version_major": 2,
       "version_minor": 0
      },
      "text/plain": [
       "  0%|          | 0/4000 [00:00<?, ?it/s]"
      ]
     },
     "metadata": {},
     "output_type": "display_data"
    },
    {
     "data": {
      "application/vnd.jupyter.widget-view+json": {
       "model_id": "d6cd31f23996421da8e0ef6ad606ce92",
       "version_major": 2,
       "version_minor": 0
      },
      "text/plain": [
       "  0%|          | 0/4000 [00:00<?, ?it/s]"
      ]
     },
     "metadata": {},
     "output_type": "display_data"
    },
    {
     "data": {
      "application/vnd.jupyter.widget-view+json": {
       "model_id": "ff425f934c9a435891a4c9fd3626a2a0",
       "version_major": 2,
       "version_minor": 0
      },
      "text/plain": [
       "  0%|          | 0/4000 [00:00<?, ?it/s]"
      ]
     },
     "metadata": {},
     "output_type": "display_data"
    },
    {
     "data": {
      "application/vnd.jupyter.widget-view+json": {
       "model_id": "1a0584258fe243f99f300e89ae69f9ff",
       "version_major": 2,
       "version_minor": 0
      },
      "text/plain": [
       "  0%|          | 0/4000 [00:00<?, ?it/s]"
      ]
     },
     "metadata": {},
     "output_type": "display_data"
    },
    {
     "data": {
      "application/vnd.jupyter.widget-view+json": {
       "model_id": "48114f0cdc2a4a2db03c7568f8d72ff0",
       "version_major": 2,
       "version_minor": 0
      },
      "text/plain": [
       "  0%|          | 0/4000 [00:00<?, ?it/s]"
      ]
     },
     "metadata": {},
     "output_type": "display_data"
    },
    {
     "data": {
      "application/vnd.jupyter.widget-view+json": {
       "model_id": "a822ecdb82934232b9843fe0b2f0a563",
       "version_major": 2,
       "version_minor": 0
      },
      "text/plain": [
       "  0%|          | 0/4000 [00:00<?, ?it/s]"
      ]
     },
     "metadata": {},
     "output_type": "display_data"
    },
    {
     "data": {
      "application/vnd.jupyter.widget-view+json": {
       "model_id": "6886341bd9974467a79b87272120f53d",
       "version_major": 2,
       "version_minor": 0
      },
      "text/plain": [
       "  0%|          | 0/4000 [00:00<?, ?it/s]"
      ]
     },
     "metadata": {},
     "output_type": "display_data"
    },
    {
     "data": {
      "application/vnd.jupyter.widget-view+json": {
       "model_id": "265331589da346058dffa1b624e26d74",
       "version_major": 2,
       "version_minor": 0
      },
      "text/plain": [
       "  0%|          | 0/4000 [00:00<?, ?it/s]"
      ]
     },
     "metadata": {},
     "output_type": "display_data"
    },
    {
     "data": {
      "application/vnd.jupyter.widget-view+json": {
       "model_id": "e8708f9a2e754b29bcd6b32e76b7f818",
       "version_major": 2,
       "version_minor": 0
      },
      "text/plain": [
       "  0%|          | 0/4000 [00:00<?, ?it/s]"
      ]
     },
     "metadata": {},
     "output_type": "display_data"
    },
    {
     "data": {
      "application/vnd.jupyter.widget-view+json": {
       "model_id": "94718605855e406d970face1c6f5e871",
       "version_major": 2,
       "version_minor": 0
      },
      "text/plain": [
       "  0%|          | 0/4000 [00:00<?, ?it/s]"
      ]
     },
     "metadata": {},
     "output_type": "display_data"
    },
    {
     "data": {
      "application/vnd.jupyter.widget-view+json": {
       "model_id": "b94bdb0b01164cd7bf49bf2311d639a7",
       "version_major": 2,
       "version_minor": 0
      },
      "text/plain": [
       "  0%|          | 0/4000 [00:00<?, ?it/s]"
      ]
     },
     "metadata": {},
     "output_type": "display_data"
    },
    {
     "data": {
      "application/vnd.jupyter.widget-view+json": {
       "model_id": "9567b3b57fe94db8a747c79608a45f32",
       "version_major": 2,
       "version_minor": 0
      },
      "text/plain": [
       "  0%|          | 0/4000 [00:00<?, ?it/s]"
      ]
     },
     "metadata": {},
     "output_type": "display_data"
    },
    {
     "data": {
      "application/vnd.jupyter.widget-view+json": {
       "model_id": "8380bbfb754d46178a3b5f43e2e131b2",
       "version_major": 2,
       "version_minor": 0
      },
      "text/plain": [
       "  0%|          | 0/4000 [00:00<?, ?it/s]"
      ]
     },
     "metadata": {},
     "output_type": "display_data"
    },
    {
     "data": {
      "application/vnd.jupyter.widget-view+json": {
       "model_id": "a900266e35e449609ff9c6c2347d5d39",
       "version_major": 2,
       "version_minor": 0
      },
      "text/plain": [
       "  0%|          | 0/4000 [00:00<?, ?it/s]"
      ]
     },
     "metadata": {},
     "output_type": "display_data"
    },
    {
     "data": {
      "application/vnd.jupyter.widget-view+json": {
       "model_id": "543477c755d14507980e193f6f19a049",
       "version_major": 2,
       "version_minor": 0
      },
      "text/plain": [
       "  0%|          | 0/4000 [00:00<?, ?it/s]"
      ]
     },
     "metadata": {},
     "output_type": "display_data"
    },
    {
     "data": {
      "application/vnd.jupyter.widget-view+json": {
       "model_id": "b59e08ccd7b441ca9024938909eacc16",
       "version_major": 2,
       "version_minor": 0
      },
      "text/plain": [
       "  0%|          | 0/4000 [00:00<?, ?it/s]"
      ]
     },
     "metadata": {},
     "output_type": "display_data"
    },
    {
     "data": {
      "application/vnd.jupyter.widget-view+json": {
       "model_id": "debb653e810d4b3cb85f5e34b56332c7",
       "version_major": 2,
       "version_minor": 0
      },
      "text/plain": [
       "  0%|          | 0/4000 [00:00<?, ?it/s]"
      ]
     },
     "metadata": {},
     "output_type": "display_data"
    },
    {
     "data": {
      "application/vnd.jupyter.widget-view+json": {
       "model_id": "b48682ad4bfe468e9a47afd9e7b0b7af",
       "version_major": 2,
       "version_minor": 0
      },
      "text/plain": [
       "  0%|          | 0/4000 [00:00<?, ?it/s]"
      ]
     },
     "metadata": {},
     "output_type": "display_data"
    },
    {
     "data": {
      "application/vnd.jupyter.widget-view+json": {
       "model_id": "7dc9512bf7a74ed384e9a3f9407b1cb4",
       "version_major": 2,
       "version_minor": 0
      },
      "text/plain": [
       "  0%|          | 0/4000 [00:00<?, ?it/s]"
      ]
     },
     "metadata": {},
     "output_type": "display_data"
    },
    {
     "data": {
      "application/vnd.jupyter.widget-view+json": {
       "model_id": "d40738890263429c9a138d068e692355",
       "version_major": 2,
       "version_minor": 0
      },
      "text/plain": [
       "  0%|          | 0/4000 [00:00<?, ?it/s]"
      ]
     },
     "metadata": {},
     "output_type": "display_data"
    },
    {
     "data": {
      "application/vnd.jupyter.widget-view+json": {
       "model_id": "ea94852581784e27bebe616417f3f553",
       "version_major": 2,
       "version_minor": 0
      },
      "text/plain": [
       "  0%|          | 0/4000 [00:00<?, ?it/s]"
      ]
     },
     "metadata": {},
     "output_type": "display_data"
    },
    {
     "data": {
      "application/vnd.jupyter.widget-view+json": {
       "model_id": "50cb777dc7ee4455897c98edefa402da",
       "version_major": 2,
       "version_minor": 0
      },
      "text/plain": [
       "  0%|          | 0/4000 [00:00<?, ?it/s]"
      ]
     },
     "metadata": {},
     "output_type": "display_data"
    },
    {
     "data": {
      "application/vnd.jupyter.widget-view+json": {
       "model_id": "6c53910d508748b1b16b4f46260ca141",
       "version_major": 2,
       "version_minor": 0
      },
      "text/plain": [
       "  0%|          | 0/4000 [00:00<?, ?it/s]"
      ]
     },
     "metadata": {},
     "output_type": "display_data"
    },
    {
     "data": {
      "application/vnd.jupyter.widget-view+json": {
       "model_id": "cabb6e62b07b4188a0c0670e3d51a5c6",
       "version_major": 2,
       "version_minor": 0
      },
      "text/plain": [
       "  0%|          | 0/4000 [00:00<?, ?it/s]"
      ]
     },
     "metadata": {},
     "output_type": "display_data"
    },
    {
     "data": {
      "application/vnd.jupyter.widget-view+json": {
       "model_id": "2917a1fd4b1e4d5280d154ae7003f871",
       "version_major": 2,
       "version_minor": 0
      },
      "text/plain": [
       "  0%|          | 0/4000 [00:00<?, ?it/s]"
      ]
     },
     "metadata": {},
     "output_type": "display_data"
    },
    {
     "data": {
      "application/vnd.jupyter.widget-view+json": {
       "model_id": "711baa1145e746a28983f4f88f1faad7",
       "version_major": 2,
       "version_minor": 0
      },
      "text/plain": [
       "  0%|          | 0/4000 [00:00<?, ?it/s]"
      ]
     },
     "metadata": {},
     "output_type": "display_data"
    },
    {
     "data": {
      "application/vnd.jupyter.widget-view+json": {
       "model_id": "8ba5cc4c18764be79ec1deed60d7294a",
       "version_major": 2,
       "version_minor": 0
      },
      "text/plain": [
       "  0%|          | 0/4000 [00:00<?, ?it/s]"
      ]
     },
     "metadata": {},
     "output_type": "display_data"
    },
    {
     "data": {
      "application/vnd.jupyter.widget-view+json": {
       "model_id": "be82f4acd6224981bb6829fe3b75c4a4",
       "version_major": 2,
       "version_minor": 0
      },
      "text/plain": [
       "  0%|          | 0/4000 [00:00<?, ?it/s]"
      ]
     },
     "metadata": {},
     "output_type": "display_data"
    },
    {
     "data": {
      "application/vnd.jupyter.widget-view+json": {
       "model_id": "7404f60602284f538bea9aad705114a5",
       "version_major": 2,
       "version_minor": 0
      },
      "text/plain": [
       "  0%|          | 0/4000 [00:00<?, ?it/s]"
      ]
     },
     "metadata": {},
     "output_type": "display_data"
    },
    {
     "data": {
      "application/vnd.jupyter.widget-view+json": {
       "model_id": "118338f8234a40d2997d3ea7526a928c",
       "version_major": 2,
       "version_minor": 0
      },
      "text/plain": [
       "  0%|          | 0/4000 [00:00<?, ?it/s]"
      ]
     },
     "metadata": {},
     "output_type": "display_data"
    },
    {
     "data": {
      "application/vnd.jupyter.widget-view+json": {
       "model_id": "65e503a1dd70400b8f6b73920ae27bc5",
       "version_major": 2,
       "version_minor": 0
      },
      "text/plain": [
       "  0%|          | 0/4000 [00:00<?, ?it/s]"
      ]
     },
     "metadata": {},
     "output_type": "display_data"
    },
    {
     "data": {
      "application/vnd.jupyter.widget-view+json": {
       "model_id": "fb21eda0de9f4672a615f673d7f87b1d",
       "version_major": 2,
       "version_minor": 0
      },
      "text/plain": [
       "  0%|          | 0/4000 [00:00<?, ?it/s]"
      ]
     },
     "metadata": {},
     "output_type": "display_data"
    },
    {
     "data": {
      "application/vnd.jupyter.widget-view+json": {
       "model_id": "b2510c95ff5545e2a7107d15e33b7fc4",
       "version_major": 2,
       "version_minor": 0
      },
      "text/plain": [
       "  0%|          | 0/4000 [00:00<?, ?it/s]"
      ]
     },
     "metadata": {},
     "output_type": "display_data"
    },
    {
     "data": {
      "application/vnd.jupyter.widget-view+json": {
       "model_id": "e93033a083d34451a34a4e99c9e088fe",
       "version_major": 2,
       "version_minor": 0
      },
      "text/plain": [
       "  0%|          | 0/4000 [00:00<?, ?it/s]"
      ]
     },
     "metadata": {},
     "output_type": "display_data"
    },
    {
     "data": {
      "application/vnd.jupyter.widget-view+json": {
       "model_id": "d9d7383f3ede4dd0b03e62c46fe30f5e",
       "version_major": 2,
       "version_minor": 0
      },
      "text/plain": [
       "  0%|          | 0/4000 [00:00<?, ?it/s]"
      ]
     },
     "metadata": {},
     "output_type": "display_data"
    },
    {
     "data": {
      "application/vnd.jupyter.widget-view+json": {
       "model_id": "e3b5168b5f2b439d8155c9be11e37423",
       "version_major": 2,
       "version_minor": 0
      },
      "text/plain": [
       "  0%|          | 0/4000 [00:00<?, ?it/s]"
      ]
     },
     "metadata": {},
     "output_type": "display_data"
    },
    {
     "data": {
      "application/vnd.jupyter.widget-view+json": {
       "model_id": "e7c0f8522d0044f8bd1e709c62e4c553",
       "version_major": 2,
       "version_minor": 0
      },
      "text/plain": [
       "  0%|          | 0/4000 [00:00<?, ?it/s]"
      ]
     },
     "metadata": {},
     "output_type": "display_data"
    },
    {
     "data": {
      "application/vnd.jupyter.widget-view+json": {
       "model_id": "0fb2c372dbbc4744bdfefd68b30a2891",
       "version_major": 2,
       "version_minor": 0
      },
      "text/plain": [
       "  0%|          | 0/4000 [00:00<?, ?it/s]"
      ]
     },
     "metadata": {},
     "output_type": "display_data"
    },
    {
     "data": {
      "application/vnd.jupyter.widget-view+json": {
       "model_id": "dce51c098f0f47328893752ef360e858",
       "version_major": 2,
       "version_minor": 0
      },
      "text/plain": [
       "  0%|          | 0/4000 [00:00<?, ?it/s]"
      ]
     },
     "metadata": {},
     "output_type": "display_data"
    },
    {
     "data": {
      "application/vnd.jupyter.widget-view+json": {
       "model_id": "897cbd92d09a42be9dd554114a3954c5",
       "version_major": 2,
       "version_minor": 0
      },
      "text/plain": [
       "  0%|          | 0/4000 [00:00<?, ?it/s]"
      ]
     },
     "metadata": {},
     "output_type": "display_data"
    },
    {
     "data": {
      "application/vnd.jupyter.widget-view+json": {
       "model_id": "ed52cd634fc3494d9e2272281d7ab3eb",
       "version_major": 2,
       "version_minor": 0
      },
      "text/plain": [
       "  0%|          | 0/4000 [00:00<?, ?it/s]"
      ]
     },
     "metadata": {},
     "output_type": "display_data"
    },
    {
     "data": {
      "application/vnd.jupyter.widget-view+json": {
       "model_id": "58c9e32940214492abcea82421c02be2",
       "version_major": 2,
       "version_minor": 0
      },
      "text/plain": [
       "  0%|          | 0/4000 [00:00<?, ?it/s]"
      ]
     },
     "metadata": {},
     "output_type": "display_data"
    },
    {
     "data": {
      "application/vnd.jupyter.widget-view+json": {
       "model_id": "2eed1afe84c5448096d12dc3cf58c12c",
       "version_major": 2,
       "version_minor": 0
      },
      "text/plain": [
       "  0%|          | 0/4000 [00:00<?, ?it/s]"
      ]
     },
     "metadata": {},
     "output_type": "display_data"
    },
    {
     "data": {
      "application/vnd.jupyter.widget-view+json": {
       "model_id": "8da8583e60354e4e9ddafa674327b068",
       "version_major": 2,
       "version_minor": 0
      },
      "text/plain": [
       "  0%|          | 0/4000 [00:00<?, ?it/s]"
      ]
     },
     "metadata": {},
     "output_type": "display_data"
    },
    {
     "data": {
      "application/vnd.jupyter.widget-view+json": {
       "model_id": "d9adf71e410a4cb98b7b6fcdd99620b9",
       "version_major": 2,
       "version_minor": 0
      },
      "text/plain": [
       "  0%|          | 0/4000 [00:00<?, ?it/s]"
      ]
     },
     "metadata": {},
     "output_type": "display_data"
    },
    {
     "data": {
      "application/vnd.jupyter.widget-view+json": {
       "model_id": "5e60e2bb73714a77ac31ea92c40e2ba4",
       "version_major": 2,
       "version_minor": 0
      },
      "text/plain": [
       "  0%|          | 0/4000 [00:00<?, ?it/s]"
      ]
     },
     "metadata": {},
     "output_type": "display_data"
    },
    {
     "data": {
      "application/vnd.jupyter.widget-view+json": {
       "model_id": "0d7d878226e147cab49651cb44ab5b1c",
       "version_major": 2,
       "version_minor": 0
      },
      "text/plain": [
       "  0%|          | 0/4000 [00:00<?, ?it/s]"
      ]
     },
     "metadata": {},
     "output_type": "display_data"
    },
    {
     "data": {
      "application/vnd.jupyter.widget-view+json": {
       "model_id": "9e082fb7dbad40e29b7750c9632f03e7",
       "version_major": 2,
       "version_minor": 0
      },
      "text/plain": [
       "  0%|          | 0/4000 [00:00<?, ?it/s]"
      ]
     },
     "metadata": {},
     "output_type": "display_data"
    },
    {
     "data": {
      "application/vnd.jupyter.widget-view+json": {
       "model_id": "a42b0f7f82d244abb48a7fd2aec2f0af",
       "version_major": 2,
       "version_minor": 0
      },
      "text/plain": [
       "  0%|          | 0/4000 [00:00<?, ?it/s]"
      ]
     },
     "metadata": {},
     "output_type": "display_data"
    },
    {
     "data": {
      "application/vnd.jupyter.widget-view+json": {
       "model_id": "412fa4be7bad43c4855cf7675a36b6be",
       "version_major": 2,
       "version_minor": 0
      },
      "text/plain": [
       "  0%|          | 0/4000 [00:00<?, ?it/s]"
      ]
     },
     "metadata": {},
     "output_type": "display_data"
    },
    {
     "data": {
      "application/vnd.jupyter.widget-view+json": {
       "model_id": "7783ad83e47149a3b863ce85792db243",
       "version_major": 2,
       "version_minor": 0
      },
      "text/plain": [
       "  0%|          | 0/4000 [00:00<?, ?it/s]"
      ]
     },
     "metadata": {},
     "output_type": "display_data"
    },
    {
     "data": {
      "application/vnd.jupyter.widget-view+json": {
       "model_id": "ac4328b8cd1147218c97f5e8f6011134",
       "version_major": 2,
       "version_minor": 0
      },
      "text/plain": [
       "  0%|          | 0/4000 [00:00<?, ?it/s]"
      ]
     },
     "metadata": {},
     "output_type": "display_data"
    },
    {
     "data": {
      "application/vnd.jupyter.widget-view+json": {
       "model_id": "0c7985010ef24baf96a244b09777e39f",
       "version_major": 2,
       "version_minor": 0
      },
      "text/plain": [
       "  0%|          | 0/4000 [00:00<?, ?it/s]"
      ]
     },
     "metadata": {},
     "output_type": "display_data"
    },
    {
     "data": {
      "application/vnd.jupyter.widget-view+json": {
       "model_id": "01307e011c39440f8a0c5646727df10a",
       "version_major": 2,
       "version_minor": 0
      },
      "text/plain": [
       "  0%|          | 0/4000 [00:00<?, ?it/s]"
      ]
     },
     "metadata": {},
     "output_type": "display_data"
    },
    {
     "data": {
      "application/vnd.jupyter.widget-view+json": {
       "model_id": "fd9b79f416cc41a29631cc36194a0c00",
       "version_major": 2,
       "version_minor": 0
      },
      "text/plain": [
       "  0%|          | 0/4000 [00:00<?, ?it/s]"
      ]
     },
     "metadata": {},
     "output_type": "display_data"
    },
    {
     "data": {
      "application/vnd.jupyter.widget-view+json": {
       "model_id": "62da13156ff545d4a382dc584b132f11",
       "version_major": 2,
       "version_minor": 0
      },
      "text/plain": [
       "  0%|          | 0/4000 [00:00<?, ?it/s]"
      ]
     },
     "metadata": {},
     "output_type": "display_data"
    },
    {
     "data": {
      "application/vnd.jupyter.widget-view+json": {
       "model_id": "f6537b7d53ab486b86b682aeb84a8e68",
       "version_major": 2,
       "version_minor": 0
      },
      "text/plain": [
       "  0%|          | 0/4000 [00:00<?, ?it/s]"
      ]
     },
     "metadata": {},
     "output_type": "display_data"
    },
    {
     "data": {
      "application/vnd.jupyter.widget-view+json": {
       "model_id": "2ddd818e4c0f49efaa48fa204dedf37e",
       "version_major": 2,
       "version_minor": 0
      },
      "text/plain": [
       "  0%|          | 0/4000 [00:00<?, ?it/s]"
      ]
     },
     "metadata": {},
     "output_type": "display_data"
    },
    {
     "data": {
      "application/vnd.jupyter.widget-view+json": {
       "model_id": "2c1456c2239a4864b39a634663b9d5d4",
       "version_major": 2,
       "version_minor": 0
      },
      "text/plain": [
       "  0%|          | 0/4000 [00:00<?, ?it/s]"
      ]
     },
     "metadata": {},
     "output_type": "display_data"
    },
    {
     "data": {
      "application/vnd.jupyter.widget-view+json": {
       "model_id": "c516d5c3856e4f03b2c5681ed48e39f3",
       "version_major": 2,
       "version_minor": 0
      },
      "text/plain": [
       "  0%|          | 0/4000 [00:00<?, ?it/s]"
      ]
     },
     "metadata": {},
     "output_type": "display_data"
    },
    {
     "data": {
      "application/vnd.jupyter.widget-view+json": {
       "model_id": "e1b75ac5e36644cfb809f8f65b58397f",
       "version_major": 2,
       "version_minor": 0
      },
      "text/plain": [
       "  0%|          | 0/4000 [00:00<?, ?it/s]"
      ]
     },
     "metadata": {},
     "output_type": "display_data"
    },
    {
     "data": {
      "application/vnd.jupyter.widget-view+json": {
       "model_id": "ae3fa3e806a84986923e9db5e8bc63fe",
       "version_major": 2,
       "version_minor": 0
      },
      "text/plain": [
       "  0%|          | 0/4000 [00:00<?, ?it/s]"
      ]
     },
     "metadata": {},
     "output_type": "display_data"
    },
    {
     "data": {
      "application/vnd.jupyter.widget-view+json": {
       "model_id": "7392e473400a4d74a2afb52dc71ce587",
       "version_major": 2,
       "version_minor": 0
      },
      "text/plain": [
       "  0%|          | 0/4000 [00:00<?, ?it/s]"
      ]
     },
     "metadata": {},
     "output_type": "display_data"
    },
    {
     "data": {
      "application/vnd.jupyter.widget-view+json": {
       "model_id": "1f1342d331c44a9cb6b6d312bc3a2d4f",
       "version_major": 2,
       "version_minor": 0
      },
      "text/plain": [
       "  0%|          | 0/4000 [00:00<?, ?it/s]"
      ]
     },
     "metadata": {},
     "output_type": "display_data"
    },
    {
     "data": {
      "application/vnd.jupyter.widget-view+json": {
       "model_id": "a5cab389928646e9823c9ca9238ea99b",
       "version_major": 2,
       "version_minor": 0
      },
      "text/plain": [
       "  0%|          | 0/4000 [00:00<?, ?it/s]"
      ]
     },
     "metadata": {},
     "output_type": "display_data"
    },
    {
     "data": {
      "application/vnd.jupyter.widget-view+json": {
       "model_id": "eb5a2a524e3745e6974822aca5e35bc0",
       "version_major": 2,
       "version_minor": 0
      },
      "text/plain": [
       "  0%|          | 0/4000 [00:00<?, ?it/s]"
      ]
     },
     "metadata": {},
     "output_type": "display_data"
    },
    {
     "data": {
      "application/vnd.jupyter.widget-view+json": {
       "model_id": "e56868a97cc34060a360874d0995356f",
       "version_major": 2,
       "version_minor": 0
      },
      "text/plain": [
       "  0%|          | 0/4000 [00:00<?, ?it/s]"
      ]
     },
     "metadata": {},
     "output_type": "display_data"
    },
    {
     "data": {
      "application/vnd.jupyter.widget-view+json": {
       "model_id": "0ebbd9d35305408195b573476ce02426",
       "version_major": 2,
       "version_minor": 0
      },
      "text/plain": [
       "  0%|          | 0/4000 [00:00<?, ?it/s]"
      ]
     },
     "metadata": {},
     "output_type": "display_data"
    },
    {
     "data": {
      "application/vnd.jupyter.widget-view+json": {
       "model_id": "1f6b11657b6c4d1a9852475745b1c044",
       "version_major": 2,
       "version_minor": 0
      },
      "text/plain": [
       "  0%|          | 0/4000 [00:00<?, ?it/s]"
      ]
     },
     "metadata": {},
     "output_type": "display_data"
    },
    {
     "data": {
      "application/vnd.jupyter.widget-view+json": {
       "model_id": "90c7c356f18548f9ba189dd6c5c7af3c",
       "version_major": 2,
       "version_minor": 0
      },
      "text/plain": [
       "  0%|          | 0/4000 [00:00<?, ?it/s]"
      ]
     },
     "metadata": {},
     "output_type": "display_data"
    },
    {
     "data": {
      "application/vnd.jupyter.widget-view+json": {
       "model_id": "85bb8a7ddbcd4dad8e7c08ba1d0f6c55",
       "version_major": 2,
       "version_minor": 0
      },
      "text/plain": [
       "  0%|          | 0/4000 [00:00<?, ?it/s]"
      ]
     },
     "metadata": {},
     "output_type": "display_data"
    },
    {
     "data": {
      "application/vnd.jupyter.widget-view+json": {
       "model_id": "207e2255f8104e269643239050cd4a0b",
       "version_major": 2,
       "version_minor": 0
      },
      "text/plain": [
       "  0%|          | 0/4000 [00:00<?, ?it/s]"
      ]
     },
     "metadata": {},
     "output_type": "display_data"
    },
    {
     "data": {
      "application/vnd.jupyter.widget-view+json": {
       "model_id": "d1404f6b8be64e4e8170cab312affc9f",
       "version_major": 2,
       "version_minor": 0
      },
      "text/plain": [
       "  0%|          | 0/4000 [00:00<?, ?it/s]"
      ]
     },
     "metadata": {},
     "output_type": "display_data"
    },
    {
     "data": {
      "application/vnd.jupyter.widget-view+json": {
       "model_id": "e465150460be44c78cc6c462445a7889",
       "version_major": 2,
       "version_minor": 0
      },
      "text/plain": [
       "  0%|          | 0/4000 [00:00<?, ?it/s]"
      ]
     },
     "metadata": {},
     "output_type": "display_data"
    },
    {
     "data": {
      "application/vnd.jupyter.widget-view+json": {
       "model_id": "93d1d6eb6bac45d1b20891b0ef67fc55",
       "version_major": 2,
       "version_minor": 0
      },
      "text/plain": [
       "  0%|          | 0/4000 [00:00<?, ?it/s]"
      ]
     },
     "metadata": {},
     "output_type": "display_data"
    },
    {
     "data": {
      "application/vnd.jupyter.widget-view+json": {
       "model_id": "dc2170db1de34da380d2ea97f1fe2ea1",
       "version_major": 2,
       "version_minor": 0
      },
      "text/plain": [
       "  0%|          | 0/4000 [00:00<?, ?it/s]"
      ]
     },
     "metadata": {},
     "output_type": "display_data"
    },
    {
     "data": {
      "application/vnd.jupyter.widget-view+json": {
       "model_id": "61667b52f5694ba8a63d06111ceafac0",
       "version_major": 2,
       "version_minor": 0
      },
      "text/plain": [
       "  0%|          | 0/4000 [00:00<?, ?it/s]"
      ]
     },
     "metadata": {},
     "output_type": "display_data"
    },
    {
     "data": {
      "application/vnd.jupyter.widget-view+json": {
       "model_id": "69ab1b2366434bb080136d57a5746ce2",
       "version_major": 2,
       "version_minor": 0
      },
      "text/plain": [
       "  0%|          | 0/4000 [00:00<?, ?it/s]"
      ]
     },
     "metadata": {},
     "output_type": "display_data"
    },
    {
     "data": {
      "application/vnd.jupyter.widget-view+json": {
       "model_id": "f047d5b18dd541e9a00def543c201285",
       "version_major": 2,
       "version_minor": 0
      },
      "text/plain": [
       "  0%|          | 0/4000 [00:00<?, ?it/s]"
      ]
     },
     "metadata": {},
     "output_type": "display_data"
    },
    {
     "data": {
      "application/vnd.jupyter.widget-view+json": {
       "model_id": "982b932f538441cd8cc5808e93d07d5d",
       "version_major": 2,
       "version_minor": 0
      },
      "text/plain": [
       "  0%|          | 0/4000 [00:00<?, ?it/s]"
      ]
     },
     "metadata": {},
     "output_type": "display_data"
    },
    {
     "data": {
      "application/vnd.jupyter.widget-view+json": {
       "model_id": "9ac63e3d8d6047a6a3441bff5a4b806b",
       "version_major": 2,
       "version_minor": 0
      },
      "text/plain": [
       "  0%|          | 0/4000 [00:00<?, ?it/s]"
      ]
     },
     "metadata": {},
     "output_type": "display_data"
    },
    {
     "data": {
      "application/vnd.jupyter.widget-view+json": {
       "model_id": "b125a8c5d8074f169de0fd09061c5653",
       "version_major": 2,
       "version_minor": 0
      },
      "text/plain": [
       "  0%|          | 0/4000 [00:00<?, ?it/s]"
      ]
     },
     "metadata": {},
     "output_type": "display_data"
    },
    {
     "data": {
      "application/vnd.jupyter.widget-view+json": {
       "model_id": "75384ce2e384465186206f0c158803a5",
       "version_major": 2,
       "version_minor": 0
      },
      "text/plain": [
       "  0%|          | 0/4000 [00:00<?, ?it/s]"
      ]
     },
     "metadata": {},
     "output_type": "display_data"
    },
    {
     "data": {
      "application/vnd.jupyter.widget-view+json": {
       "model_id": "4d00cfe8a6624b4bbab548aeeda4de4f",
       "version_major": 2,
       "version_minor": 0
      },
      "text/plain": [
       "  0%|          | 0/4000 [00:00<?, ?it/s]"
      ]
     },
     "metadata": {},
     "output_type": "display_data"
    },
    {
     "data": {
      "application/vnd.jupyter.widget-view+json": {
       "model_id": "8c2ce06f681e4aa690e5d0c5d394ca02",
       "version_major": 2,
       "version_minor": 0
      },
      "text/plain": [
       "  0%|          | 0/4000 [00:00<?, ?it/s]"
      ]
     },
     "metadata": {},
     "output_type": "display_data"
    },
    {
     "data": {
      "application/vnd.jupyter.widget-view+json": {
       "model_id": "5b360b59492c4115b78cbdef82201be5",
       "version_major": 2,
       "version_minor": 0
      },
      "text/plain": [
       "  0%|          | 0/4000 [00:00<?, ?it/s]"
      ]
     },
     "metadata": {},
     "output_type": "display_data"
    },
    {
     "data": {
      "application/vnd.jupyter.widget-view+json": {
       "model_id": "05d7263544194bd1b07c9aa683522ab5",
       "version_major": 2,
       "version_minor": 0
      },
      "text/plain": [
       "  0%|          | 0/4000 [00:00<?, ?it/s]"
      ]
     },
     "metadata": {},
     "output_type": "display_data"
    },
    {
     "data": {
      "application/vnd.jupyter.widget-view+json": {
       "model_id": "865e87926b0a4c939989aea0bb964a7c",
       "version_major": 2,
       "version_minor": 0
      },
      "text/plain": [
       "  0%|          | 0/4000 [00:00<?, ?it/s]"
      ]
     },
     "metadata": {},
     "output_type": "display_data"
    },
    {
     "data": {
      "application/vnd.jupyter.widget-view+json": {
       "model_id": "cb61b8ca1dfd4bf08b95e1c4403424e8",
       "version_major": 2,
       "version_minor": 0
      },
      "text/plain": [
       "  0%|          | 0/4000 [00:00<?, ?it/s]"
      ]
     },
     "metadata": {},
     "output_type": "display_data"
    },
    {
     "data": {
      "application/vnd.jupyter.widget-view+json": {
       "model_id": "f74b7e95e5aa4fc89585de34fb337b34",
       "version_major": 2,
       "version_minor": 0
      },
      "text/plain": [
       "  0%|          | 0/4000 [00:00<?, ?it/s]"
      ]
     },
     "metadata": {},
     "output_type": "display_data"
    },
    {
     "data": {
      "application/vnd.jupyter.widget-view+json": {
       "model_id": "fb163b07c9af4da0a1e6e33e471d8b75",
       "version_major": 2,
       "version_minor": 0
      },
      "text/plain": [
       "  0%|          | 0/4000 [00:00<?, ?it/s]"
      ]
     },
     "metadata": {},
     "output_type": "display_data"
    },
    {
     "data": {
      "application/vnd.jupyter.widget-view+json": {
       "model_id": "73a549377a644f1d9072196c20835c2e",
       "version_major": 2,
       "version_minor": 0
      },
      "text/plain": [
       "  0%|          | 0/4000 [00:00<?, ?it/s]"
      ]
     },
     "metadata": {},
     "output_type": "display_data"
    },
    {
     "data": {
      "application/vnd.jupyter.widget-view+json": {
       "model_id": "cd4a4ed07d444121bdb84b540ba98b3a",
       "version_major": 2,
       "version_minor": 0
      },
      "text/plain": [
       "  0%|          | 0/4000 [00:00<?, ?it/s]"
      ]
     },
     "metadata": {},
     "output_type": "display_data"
    },
    {
     "data": {
      "application/vnd.jupyter.widget-view+json": {
       "model_id": "f8587ecf0cfc4b27ac260a9cd09cb6bc",
       "version_major": 2,
       "version_minor": 0
      },
      "text/plain": [
       "  0%|          | 0/4000 [00:00<?, ?it/s]"
      ]
     },
     "metadata": {},
     "output_type": "display_data"
    },
    {
     "data": {
      "application/vnd.jupyter.widget-view+json": {
       "model_id": "aa8a7c1e9f7a4199aea28a7988c4c56f",
       "version_major": 2,
       "version_minor": 0
      },
      "text/plain": [
       "  0%|          | 0/4000 [00:00<?, ?it/s]"
      ]
     },
     "metadata": {},
     "output_type": "display_data"
    },
    {
     "data": {
      "application/vnd.jupyter.widget-view+json": {
       "model_id": "e51bf068ed834485b3245ee3bdcaf2ac",
       "version_major": 2,
       "version_minor": 0
      },
      "text/plain": [
       "  0%|          | 0/4000 [00:00<?, ?it/s]"
      ]
     },
     "metadata": {},
     "output_type": "display_data"
    },
    {
     "data": {
      "application/vnd.jupyter.widget-view+json": {
       "model_id": "eabbbdd8b5c54177a656dbc7c46eac0b",
       "version_major": 2,
       "version_minor": 0
      },
      "text/plain": [
       "  0%|          | 0/4000 [00:00<?, ?it/s]"
      ]
     },
     "metadata": {},
     "output_type": "display_data"
    },
    {
     "data": {
      "application/vnd.jupyter.widget-view+json": {
       "model_id": "d77f1b34d17e454485d372bfb732dd2b",
       "version_major": 2,
       "version_minor": 0
      },
      "text/plain": [
       "  0%|          | 0/4000 [00:00<?, ?it/s]"
      ]
     },
     "metadata": {},
     "output_type": "display_data"
    },
    {
     "data": {
      "application/vnd.jupyter.widget-view+json": {
       "model_id": "51c5fe68e6444e049a2dafc8b6e33190",
       "version_major": 2,
       "version_minor": 0
      },
      "text/plain": [
       "  0%|          | 0/4000 [00:00<?, ?it/s]"
      ]
     },
     "metadata": {},
     "output_type": "display_data"
    },
    {
     "data": {
      "application/vnd.jupyter.widget-view+json": {
       "model_id": "b8ccc2d3a7bc472da9dc76b7d569589f",
       "version_major": 2,
       "version_minor": 0
      },
      "text/plain": [
       "  0%|          | 0/4000 [00:00<?, ?it/s]"
      ]
     },
     "metadata": {},
     "output_type": "display_data"
    },
    {
     "data": {
      "application/vnd.jupyter.widget-view+json": {
       "model_id": "4b0c8c1a0aa744ba988661c67e402464",
       "version_major": 2,
       "version_minor": 0
      },
      "text/plain": [
       "  0%|          | 0/4000 [00:00<?, ?it/s]"
      ]
     },
     "metadata": {},
     "output_type": "display_data"
    },
    {
     "data": {
      "application/vnd.jupyter.widget-view+json": {
       "model_id": "cf2ecb88b0134ff6bb2f585bf65af211",
       "version_major": 2,
       "version_minor": 0
      },
      "text/plain": [
       "  0%|          | 0/4000 [00:00<?, ?it/s]"
      ]
     },
     "metadata": {},
     "output_type": "display_data"
    },
    {
     "data": {
      "application/vnd.jupyter.widget-view+json": {
       "model_id": "7f8cb4a14d24475c88d61285a444fdec",
       "version_major": 2,
       "version_minor": 0
      },
      "text/plain": [
       "  0%|          | 0/4000 [00:00<?, ?it/s]"
      ]
     },
     "metadata": {},
     "output_type": "display_data"
    },
    {
     "data": {
      "application/vnd.jupyter.widget-view+json": {
       "model_id": "08bea75decc24d80b6d79f579c276fef",
       "version_major": 2,
       "version_minor": 0
      },
      "text/plain": [
       "  0%|          | 0/4000 [00:00<?, ?it/s]"
      ]
     },
     "metadata": {},
     "output_type": "display_data"
    },
    {
     "data": {
      "application/vnd.jupyter.widget-view+json": {
       "model_id": "e93b7641981c4144abfebbf7a779acd3",
       "version_major": 2,
       "version_minor": 0
      },
      "text/plain": [
       "  0%|          | 0/4000 [00:00<?, ?it/s]"
      ]
     },
     "metadata": {},
     "output_type": "display_data"
    },
    {
     "data": {
      "application/vnd.jupyter.widget-view+json": {
       "model_id": "7ee75939e47f4ba6a6e755758a2abd08",
       "version_major": 2,
       "version_minor": 0
      },
      "text/plain": [
       "  0%|          | 0/4000 [00:00<?, ?it/s]"
      ]
     },
     "metadata": {},
     "output_type": "display_data"
    },
    {
     "data": {
      "application/vnd.jupyter.widget-view+json": {
       "model_id": "760b02f51f6946a082465f5058cce5c7",
       "version_major": 2,
       "version_minor": 0
      },
      "text/plain": [
       "  0%|          | 0/4000 [00:00<?, ?it/s]"
      ]
     },
     "metadata": {},
     "output_type": "display_data"
    },
    {
     "data": {
      "application/vnd.jupyter.widget-view+json": {
       "model_id": "e6554ecbe4a24aa9b2c988ed897138e0",
       "version_major": 2,
       "version_minor": 0
      },
      "text/plain": [
       "  0%|          | 0/4000 [00:00<?, ?it/s]"
      ]
     },
     "metadata": {},
     "output_type": "display_data"
    },
    {
     "data": {
      "application/vnd.jupyter.widget-view+json": {
       "model_id": "37a573f049b44338ad3322a294ee6212",
       "version_major": 2,
       "version_minor": 0
      },
      "text/plain": [
       "  0%|          | 0/4000 [00:00<?, ?it/s]"
      ]
     },
     "metadata": {},
     "output_type": "display_data"
    },
    {
     "data": {
      "application/vnd.jupyter.widget-view+json": {
       "model_id": "1354df8e95fb40e6aa1fc9b7e05d914e",
       "version_major": 2,
       "version_minor": 0
      },
      "text/plain": [
       "  0%|          | 0/4000 [00:00<?, ?it/s]"
      ]
     },
     "metadata": {},
     "output_type": "display_data"
    },
    {
     "data": {
      "application/vnd.jupyter.widget-view+json": {
       "model_id": "ff789de0f30c466291a8d8009c693b43",
       "version_major": 2,
       "version_minor": 0
      },
      "text/plain": [
       "  0%|          | 0/4000 [00:00<?, ?it/s]"
      ]
     },
     "metadata": {},
     "output_type": "display_data"
    },
    {
     "data": {
      "application/vnd.jupyter.widget-view+json": {
       "model_id": "e9589e45e5734b24be7e96b30334ac1a",
       "version_major": 2,
       "version_minor": 0
      },
      "text/plain": [
       "  0%|          | 0/4000 [00:00<?, ?it/s]"
      ]
     },
     "metadata": {},
     "output_type": "display_data"
    },
    {
     "data": {
      "application/vnd.jupyter.widget-view+json": {
       "model_id": "fe0823ddb6174b75a166fe3c5409144a",
       "version_major": 2,
       "version_minor": 0
      },
      "text/plain": [
       "  0%|          | 0/4000 [00:00<?, ?it/s]"
      ]
     },
     "metadata": {},
     "output_type": "display_data"
    },
    {
     "data": {
      "application/vnd.jupyter.widget-view+json": {
       "model_id": "7390102764df4d318f1154bd8e324655",
       "version_major": 2,
       "version_minor": 0
      },
      "text/plain": [
       "  0%|          | 0/4000 [00:00<?, ?it/s]"
      ]
     },
     "metadata": {},
     "output_type": "display_data"
    },
    {
     "data": {
      "application/vnd.jupyter.widget-view+json": {
       "model_id": "0133fd57d82742f7bf58a186a5ac2e91",
       "version_major": 2,
       "version_minor": 0
      },
      "text/plain": [
       "  0%|          | 0/4000 [00:00<?, ?it/s]"
      ]
     },
     "metadata": {},
     "output_type": "display_data"
    },
    {
     "data": {
      "application/vnd.jupyter.widget-view+json": {
       "model_id": "d3b40418551748eb89c6545a2051ffcf",
       "version_major": 2,
       "version_minor": 0
      },
      "text/plain": [
       "  0%|          | 0/4000 [00:00<?, ?it/s]"
      ]
     },
     "metadata": {},
     "output_type": "display_data"
    },
    {
     "data": {
      "application/vnd.jupyter.widget-view+json": {
       "model_id": "11d23b55653f4ec388007310fe7ccb77",
       "version_major": 2,
       "version_minor": 0
      },
      "text/plain": [
       "  0%|          | 0/4000 [00:00<?, ?it/s]"
      ]
     },
     "metadata": {},
     "output_type": "display_data"
    },
    {
     "data": {
      "application/vnd.jupyter.widget-view+json": {
       "model_id": "172fb09e747a4f2eab4d5e55abf7f83b",
       "version_major": 2,
       "version_minor": 0
      },
      "text/plain": [
       "  0%|          | 0/4000 [00:00<?, ?it/s]"
      ]
     },
     "metadata": {},
     "output_type": "display_data"
    },
    {
     "data": {
      "application/vnd.jupyter.widget-view+json": {
       "model_id": "39e05bd46e9c447598274a9a033bd2b6",
       "version_major": 2,
       "version_minor": 0
      },
      "text/plain": [
       "  0%|          | 0/4000 [00:00<?, ?it/s]"
      ]
     },
     "metadata": {},
     "output_type": "display_data"
    },
    {
     "data": {
      "application/vnd.jupyter.widget-view+json": {
       "model_id": "f68425cf7e7d437185576f9083ebea40",
       "version_major": 2,
       "version_minor": 0
      },
      "text/plain": [
       "  0%|          | 0/4000 [00:00<?, ?it/s]"
      ]
     },
     "metadata": {},
     "output_type": "display_data"
    },
    {
     "data": {
      "application/vnd.jupyter.widget-view+json": {
       "model_id": "44f998789d9f464b9684635ea214b3b7",
       "version_major": 2,
       "version_minor": 0
      },
      "text/plain": [
       "  0%|          | 0/4000 [00:00<?, ?it/s]"
      ]
     },
     "metadata": {},
     "output_type": "display_data"
    },
    {
     "data": {
      "application/vnd.jupyter.widget-view+json": {
       "model_id": "6c73bbcb846a40b9ad49c0e25fe1b077",
       "version_major": 2,
       "version_minor": 0
      },
      "text/plain": [
       "  0%|          | 0/4000 [00:00<?, ?it/s]"
      ]
     },
     "metadata": {},
     "output_type": "display_data"
    },
    {
     "data": {
      "application/vnd.jupyter.widget-view+json": {
       "model_id": "5b607eb82a5d4d55b1a492c0cc650723",
       "version_major": 2,
       "version_minor": 0
      },
      "text/plain": [
       "  0%|          | 0/4000 [00:00<?, ?it/s]"
      ]
     },
     "metadata": {},
     "output_type": "display_data"
    },
    {
     "data": {
      "application/vnd.jupyter.widget-view+json": {
       "model_id": "1147daeb4a1d480faa1d8a348eb0528b",
       "version_major": 2,
       "version_minor": 0
      },
      "text/plain": [
       "  0%|          | 0/4000 [00:00<?, ?it/s]"
      ]
     },
     "metadata": {},
     "output_type": "display_data"
    },
    {
     "data": {
      "application/vnd.jupyter.widget-view+json": {
       "model_id": "d35f9e23b24d4837aca00bb03c5a9f1c",
       "version_major": 2,
       "version_minor": 0
      },
      "text/plain": [
       "  0%|          | 0/4000 [00:00<?, ?it/s]"
      ]
     },
     "metadata": {},
     "output_type": "display_data"
    },
    {
     "data": {
      "application/vnd.jupyter.widget-view+json": {
       "model_id": "39e29868ffcd407e9cbc8cf0389df3b1",
       "version_major": 2,
       "version_minor": 0
      },
      "text/plain": [
       "  0%|          | 0/4000 [00:00<?, ?it/s]"
      ]
     },
     "metadata": {},
     "output_type": "display_data"
    },
    {
     "data": {
      "application/vnd.jupyter.widget-view+json": {
       "model_id": "55846517874249c686ae512869abdae0",
       "version_major": 2,
       "version_minor": 0
      },
      "text/plain": [
       "  0%|          | 0/4000 [00:00<?, ?it/s]"
      ]
     },
     "metadata": {},
     "output_type": "display_data"
    },
    {
     "data": {
      "application/vnd.jupyter.widget-view+json": {
       "model_id": "81a36800fe7a4577ae17910d3d73a28f",
       "version_major": 2,
       "version_minor": 0
      },
      "text/plain": [
       "  0%|          | 0/4000 [00:00<?, ?it/s]"
      ]
     },
     "metadata": {},
     "output_type": "display_data"
    },
    {
     "data": {
      "application/vnd.jupyter.widget-view+json": {
       "model_id": "dcff51fa68af427eafc232d10a716143",
       "version_major": 2,
       "version_minor": 0
      },
      "text/plain": [
       "  0%|          | 0/4000 [00:00<?, ?it/s]"
      ]
     },
     "metadata": {},
     "output_type": "display_data"
    },
    {
     "data": {
      "application/vnd.jupyter.widget-view+json": {
       "model_id": "8131c3879d054c7a8861f57ad5f1191b",
       "version_major": 2,
       "version_minor": 0
      },
      "text/plain": [
       "  0%|          | 0/4000 [00:00<?, ?it/s]"
      ]
     },
     "metadata": {},
     "output_type": "display_data"
    },
    {
     "data": {
      "application/vnd.jupyter.widget-view+json": {
       "model_id": "26cf51e1eb4743069951dd4abbceb651",
       "version_major": 2,
       "version_minor": 0
      },
      "text/plain": [
       "  0%|          | 0/4000 [00:00<?, ?it/s]"
      ]
     },
     "metadata": {},
     "output_type": "display_data"
    },
    {
     "data": {
      "application/vnd.jupyter.widget-view+json": {
       "model_id": "3dd8f9bc950441f0b5211d71093ccd62",
       "version_major": 2,
       "version_minor": 0
      },
      "text/plain": [
       "  0%|          | 0/4000 [00:00<?, ?it/s]"
      ]
     },
     "metadata": {},
     "output_type": "display_data"
    },
    {
     "data": {
      "application/vnd.jupyter.widget-view+json": {
       "model_id": "c78050bf9d804a59baa5482c7269875e",
       "version_major": 2,
       "version_minor": 0
      },
      "text/plain": [
       "  0%|          | 0/4000 [00:00<?, ?it/s]"
      ]
     },
     "metadata": {},
     "output_type": "display_data"
    },
    {
     "data": {
      "application/vnd.jupyter.widget-view+json": {
       "model_id": "b2ce78b0d1ae4a4cb8387b32ca5f8d63",
       "version_major": 2,
       "version_minor": 0
      },
      "text/plain": [
       "  0%|          | 0/4000 [00:00<?, ?it/s]"
      ]
     },
     "metadata": {},
     "output_type": "display_data"
    },
    {
     "data": {
      "application/vnd.jupyter.widget-view+json": {
       "model_id": "5ddd0d7c4a324f338acfae43ce6e6d68",
       "version_major": 2,
       "version_minor": 0
      },
      "text/plain": [
       "  0%|          | 0/4000 [00:00<?, ?it/s]"
      ]
     },
     "metadata": {},
     "output_type": "display_data"
    },
    {
     "data": {
      "application/vnd.jupyter.widget-view+json": {
       "model_id": "3c1dd3525507453788b50062a7bcf056",
       "version_major": 2,
       "version_minor": 0
      },
      "text/plain": [
       "  0%|          | 0/4000 [00:00<?, ?it/s]"
      ]
     },
     "metadata": {},
     "output_type": "display_data"
    },
    {
     "data": {
      "application/vnd.jupyter.widget-view+json": {
       "model_id": "77dc01672dfe41ed9107540c32cf25f0",
       "version_major": 2,
       "version_minor": 0
      },
      "text/plain": [
       "  0%|          | 0/4000 [00:00<?, ?it/s]"
      ]
     },
     "metadata": {},
     "output_type": "display_data"
    },
    {
     "data": {
      "application/vnd.jupyter.widget-view+json": {
       "model_id": "becbb9021b3e4d9ea4e76e9b4740b57f",
       "version_major": 2,
       "version_minor": 0
      },
      "text/plain": [
       "  0%|          | 0/4000 [00:00<?, ?it/s]"
      ]
     },
     "metadata": {},
     "output_type": "display_data"
    },
    {
     "data": {
      "application/vnd.jupyter.widget-view+json": {
       "model_id": "c0e838795b6a4f6eb456428090829035",
       "version_major": 2,
       "version_minor": 0
      },
      "text/plain": [
       "  0%|          | 0/4000 [00:00<?, ?it/s]"
      ]
     },
     "metadata": {},
     "output_type": "display_data"
    },
    {
     "data": {
      "application/vnd.jupyter.widget-view+json": {
       "model_id": "c902d8bee06e4a048a737cde51ae8822",
       "version_major": 2,
       "version_minor": 0
      },
      "text/plain": [
       "  0%|          | 0/4000 [00:00<?, ?it/s]"
      ]
     },
     "metadata": {},
     "output_type": "display_data"
    },
    {
     "data": {
      "application/vnd.jupyter.widget-view+json": {
       "model_id": "0abc58dd2fd14015a1196b1665a66b76",
       "version_major": 2,
       "version_minor": 0
      },
      "text/plain": [
       "  0%|          | 0/4000 [00:00<?, ?it/s]"
      ]
     },
     "metadata": {},
     "output_type": "display_data"
    },
    {
     "data": {
      "application/vnd.jupyter.widget-view+json": {
       "model_id": "75b35c2602d04855aa899c5cbf5fb1a5",
       "version_major": 2,
       "version_minor": 0
      },
      "text/plain": [
       "  0%|          | 0/4000 [00:00<?, ?it/s]"
      ]
     },
     "metadata": {},
     "output_type": "display_data"
    },
    {
     "data": {
      "application/vnd.jupyter.widget-view+json": {
       "model_id": "90c1d9d4552847ffb813bbd7fcdfe6bd",
       "version_major": 2,
       "version_minor": 0
      },
      "text/plain": [
       "  0%|          | 0/4000 [00:00<?, ?it/s]"
      ]
     },
     "metadata": {},
     "output_type": "display_data"
    },
    {
     "data": {
      "application/vnd.jupyter.widget-view+json": {
       "model_id": "4deb01cabf744b8fb8e23a88392cfdec",
       "version_major": 2,
       "version_minor": 0
      },
      "text/plain": [
       "  0%|          | 0/4000 [00:00<?, ?it/s]"
      ]
     },
     "metadata": {},
     "output_type": "display_data"
    },
    {
     "data": {
      "application/vnd.jupyter.widget-view+json": {
       "model_id": "34478d4e028647048e2f15a386160043",
       "version_major": 2,
       "version_minor": 0
      },
      "text/plain": [
       "  0%|          | 0/4000 [00:00<?, ?it/s]"
      ]
     },
     "metadata": {},
     "output_type": "display_data"
    },
    {
     "data": {
      "application/vnd.jupyter.widget-view+json": {
       "model_id": "44eea6c51feb4c208fec8ff6fd1485ed",
       "version_major": 2,
       "version_minor": 0
      },
      "text/plain": [
       "  0%|          | 0/4000 [00:00<?, ?it/s]"
      ]
     },
     "metadata": {},
     "output_type": "display_data"
    },
    {
     "data": {
      "application/vnd.jupyter.widget-view+json": {
       "model_id": "1ac04de8704d4f3e8dd99d9209d28c95",
       "version_major": 2,
       "version_minor": 0
      },
      "text/plain": [
       "  0%|          | 0/4000 [00:00<?, ?it/s]"
      ]
     },
     "metadata": {},
     "output_type": "display_data"
    },
    {
     "data": {
      "application/vnd.jupyter.widget-view+json": {
       "model_id": "063c8f32f7304c6dbd8adfc49a94009f",
       "version_major": 2,
       "version_minor": 0
      },
      "text/plain": [
       "  0%|          | 0/4000 [00:00<?, ?it/s]"
      ]
     },
     "metadata": {},
     "output_type": "display_data"
    },
    {
     "data": {
      "application/vnd.jupyter.widget-view+json": {
       "model_id": "c7db35688ddc47538d058fb4829600aa",
       "version_major": 2,
       "version_minor": 0
      },
      "text/plain": [
       "  0%|          | 0/4000 [00:00<?, ?it/s]"
      ]
     },
     "metadata": {},
     "output_type": "display_data"
    },
    {
     "data": {
      "application/vnd.jupyter.widget-view+json": {
       "model_id": "c1810706a5554fd886a11c805ccc05dc",
       "version_major": 2,
       "version_minor": 0
      },
      "text/plain": [
       "  0%|          | 0/4000 [00:00<?, ?it/s]"
      ]
     },
     "metadata": {},
     "output_type": "display_data"
    },
    {
     "data": {
      "application/vnd.jupyter.widget-view+json": {
       "model_id": "24ec073f1a8e402998b9b2333e3206e7",
       "version_major": 2,
       "version_minor": 0
      },
      "text/plain": [
       "  0%|          | 0/4000 [00:00<?, ?it/s]"
      ]
     },
     "metadata": {},
     "output_type": "display_data"
    },
    {
     "data": {
      "application/vnd.jupyter.widget-view+json": {
       "model_id": "58c3a5d7a7974fff9cdc12e19ddc98b8",
       "version_major": 2,
       "version_minor": 0
      },
      "text/plain": [
       "  0%|          | 0/4000 [00:00<?, ?it/s]"
      ]
     },
     "metadata": {},
     "output_type": "display_data"
    },
    {
     "data": {
      "application/vnd.jupyter.widget-view+json": {
       "model_id": "f032cc95cfaf498487d2a6c3f5c6ece1",
       "version_major": 2,
       "version_minor": 0
      },
      "text/plain": [
       "  0%|          | 0/4000 [00:00<?, ?it/s]"
      ]
     },
     "metadata": {},
     "output_type": "display_data"
    },
    {
     "data": {
      "application/vnd.jupyter.widget-view+json": {
       "model_id": "a393b424e5814feb9eb79ebfeb263864",
       "version_major": 2,
       "version_minor": 0
      },
      "text/plain": [
       "  0%|          | 0/4000 [00:00<?, ?it/s]"
      ]
     },
     "metadata": {},
     "output_type": "display_data"
    },
    {
     "data": {
      "application/vnd.jupyter.widget-view+json": {
       "model_id": "1fa4d0d9e83a4b96ac2bdebf2b6584eb",
       "version_major": 2,
       "version_minor": 0
      },
      "text/plain": [
       "  0%|          | 0/4000 [00:00<?, ?it/s]"
      ]
     },
     "metadata": {},
     "output_type": "display_data"
    },
    {
     "data": {
      "application/vnd.jupyter.widget-view+json": {
       "model_id": "3decc92cd519432c8e22a34d3b557660",
       "version_major": 2,
       "version_minor": 0
      },
      "text/plain": [
       "  0%|          | 0/4000 [00:00<?, ?it/s]"
      ]
     },
     "metadata": {},
     "output_type": "display_data"
    },
    {
     "data": {
      "application/vnd.jupyter.widget-view+json": {
       "model_id": "0f074dfade0841a9b7f9b630f08bd9e6",
       "version_major": 2,
       "version_minor": 0
      },
      "text/plain": [
       "  0%|          | 0/4000 [00:00<?, ?it/s]"
      ]
     },
     "metadata": {},
     "output_type": "display_data"
    },
    {
     "data": {
      "application/vnd.jupyter.widget-view+json": {
       "model_id": "0e4eb988998348d8a7ca03ae3301e4a9",
       "version_major": 2,
       "version_minor": 0
      },
      "text/plain": [
       "  0%|          | 0/4000 [00:00<?, ?it/s]"
      ]
     },
     "metadata": {},
     "output_type": "display_data"
    },
    {
     "data": {
      "application/vnd.jupyter.widget-view+json": {
       "model_id": "2dc4bc20445e46fc9f1e0c0e41d558ed",
       "version_major": 2,
       "version_minor": 0
      },
      "text/plain": [
       "  0%|          | 0/4000 [00:00<?, ?it/s]"
      ]
     },
     "metadata": {},
     "output_type": "display_data"
    },
    {
     "data": {
      "application/vnd.jupyter.widget-view+json": {
       "model_id": "54a8409d2a864089aa82d97464776364",
       "version_major": 2,
       "version_minor": 0
      },
      "text/plain": [
       "  0%|          | 0/4000 [00:00<?, ?it/s]"
      ]
     },
     "metadata": {},
     "output_type": "display_data"
    },
    {
     "data": {
      "application/vnd.jupyter.widget-view+json": {
       "model_id": "2819179053f1465b98f7babd1763e4c2",
       "version_major": 2,
       "version_minor": 0
      },
      "text/plain": [
       "  0%|          | 0/4000 [00:00<?, ?it/s]"
      ]
     },
     "metadata": {},
     "output_type": "display_data"
    },
    {
     "data": {
      "application/vnd.jupyter.widget-view+json": {
       "model_id": "d232282310f14f1e8a04ad7f4755e2e4",
       "version_major": 2,
       "version_minor": 0
      },
      "text/plain": [
       "  0%|          | 0/4000 [00:00<?, ?it/s]"
      ]
     },
     "metadata": {},
     "output_type": "display_data"
    },
    {
     "data": {
      "application/vnd.jupyter.widget-view+json": {
       "model_id": "fa9a53b5378d4708b0cfce19d91eed6c",
       "version_major": 2,
       "version_minor": 0
      },
      "text/plain": [
       "  0%|          | 0/4000 [00:00<?, ?it/s]"
      ]
     },
     "metadata": {},
     "output_type": "display_data"
    },
    {
     "data": {
      "application/vnd.jupyter.widget-view+json": {
       "model_id": "af12d0a530df48d0a6ed2f92f3352a74",
       "version_major": 2,
       "version_minor": 0
      },
      "text/plain": [
       "  0%|          | 0/4000 [00:00<?, ?it/s]"
      ]
     },
     "metadata": {},
     "output_type": "display_data"
    },
    {
     "data": {
      "application/vnd.jupyter.widget-view+json": {
       "model_id": "434bd03f6ff4422cb3db29d5171790ed",
       "version_major": 2,
       "version_minor": 0
      },
      "text/plain": [
       "  0%|          | 0/4000 [00:00<?, ?it/s]"
      ]
     },
     "metadata": {},
     "output_type": "display_data"
    },
    {
     "data": {
      "application/vnd.jupyter.widget-view+json": {
       "model_id": "05b6e897230749b38263aca5415bd7c1",
       "version_major": 2,
       "version_minor": 0
      },
      "text/plain": [
       "  0%|          | 0/4000 [00:00<?, ?it/s]"
      ]
     },
     "metadata": {},
     "output_type": "display_data"
    },
    {
     "data": {
      "application/vnd.jupyter.widget-view+json": {
       "model_id": "8d85c43fc04248ce954b2e617bfdb990",
       "version_major": 2,
       "version_minor": 0
      },
      "text/plain": [
       "  0%|          | 0/4000 [00:00<?, ?it/s]"
      ]
     },
     "metadata": {},
     "output_type": "display_data"
    },
    {
     "data": {
      "application/vnd.jupyter.widget-view+json": {
       "model_id": "9a861cc6e03b4c11b527ac333981fa80",
       "version_major": 2,
       "version_minor": 0
      },
      "text/plain": [
       "  0%|          | 0/4000 [00:00<?, ?it/s]"
      ]
     },
     "metadata": {},
     "output_type": "display_data"
    },
    {
     "data": {
      "application/vnd.jupyter.widget-view+json": {
       "model_id": "9fa54fee60194730852fc496fac8c9f3",
       "version_major": 2,
       "version_minor": 0
      },
      "text/plain": [
       "  0%|          | 0/4000 [00:00<?, ?it/s]"
      ]
     },
     "metadata": {},
     "output_type": "display_data"
    },
    {
     "data": {
      "application/vnd.jupyter.widget-view+json": {
       "model_id": "1600ebab9ebf4081949ebea46c49189c",
       "version_major": 2,
       "version_minor": 0
      },
      "text/plain": [
       "  0%|          | 0/4000 [00:00<?, ?it/s]"
      ]
     },
     "metadata": {},
     "output_type": "display_data"
    },
    {
     "data": {
      "application/vnd.jupyter.widget-view+json": {
       "model_id": "cd4d8975eef54c26958cfd0c3a9ed4be",
       "version_major": 2,
       "version_minor": 0
      },
      "text/plain": [
       "  0%|          | 0/4000 [00:00<?, ?it/s]"
      ]
     },
     "metadata": {},
     "output_type": "display_data"
    },
    {
     "data": {
      "application/vnd.jupyter.widget-view+json": {
       "model_id": "4d4c21d87cb048a9a57ba5375fb32fcd",
       "version_major": 2,
       "version_minor": 0
      },
      "text/plain": [
       "  0%|          | 0/4000 [00:00<?, ?it/s]"
      ]
     },
     "metadata": {},
     "output_type": "display_data"
    },
    {
     "data": {
      "application/vnd.jupyter.widget-view+json": {
       "model_id": "30505af2d7b24b4eaca4f2f23fb8f3e5",
       "version_major": 2,
       "version_minor": 0
      },
      "text/plain": [
       "  0%|          | 0/4000 [00:00<?, ?it/s]"
      ]
     },
     "metadata": {},
     "output_type": "display_data"
    },
    {
     "data": {
      "application/vnd.jupyter.widget-view+json": {
       "model_id": "6f25313022c04e18b17818e91c2127e4",
       "version_major": 2,
       "version_minor": 0
      },
      "text/plain": [
       "  0%|          | 0/4000 [00:00<?, ?it/s]"
      ]
     },
     "metadata": {},
     "output_type": "display_data"
    },
    {
     "data": {
      "application/vnd.jupyter.widget-view+json": {
       "model_id": "36c8700cf96e4607a214d19981f0c349",
       "version_major": 2,
       "version_minor": 0
      },
      "text/plain": [
       "  0%|          | 0/4000 [00:00<?, ?it/s]"
      ]
     },
     "metadata": {},
     "output_type": "display_data"
    },
    {
     "data": {
      "application/vnd.jupyter.widget-view+json": {
       "model_id": "9bb2251df3c54aa3be23f7eaae1992cb",
       "version_major": 2,
       "version_minor": 0
      },
      "text/plain": [
       "  0%|          | 0/4000 [00:00<?, ?it/s]"
      ]
     },
     "metadata": {},
     "output_type": "display_data"
    },
    {
     "data": {
      "application/vnd.jupyter.widget-view+json": {
       "model_id": "a49363f0e8944152bf617ea6d8985993",
       "version_major": 2,
       "version_minor": 0
      },
      "text/plain": [
       "  0%|          | 0/4000 [00:00<?, ?it/s]"
      ]
     },
     "metadata": {},
     "output_type": "display_data"
    },
    {
     "data": {
      "application/vnd.jupyter.widget-view+json": {
       "model_id": "a3964f48dc9b4871b9a579cd31a7e394",
       "version_major": 2,
       "version_minor": 0
      },
      "text/plain": [
       "  0%|          | 0/4000 [00:00<?, ?it/s]"
      ]
     },
     "metadata": {},
     "output_type": "display_data"
    },
    {
     "data": {
      "application/vnd.jupyter.widget-view+json": {
       "model_id": "3a9eaec7014e4c669b8346dd2b89d727",
       "version_major": 2,
       "version_minor": 0
      },
      "text/plain": [
       "  0%|          | 0/4000 [00:00<?, ?it/s]"
      ]
     },
     "metadata": {},
     "output_type": "display_data"
    },
    {
     "data": {
      "application/vnd.jupyter.widget-view+json": {
       "model_id": "3eb6cac596594fc6bb6be83056efc000",
       "version_major": 2,
       "version_minor": 0
      },
      "text/plain": [
       "  0%|          | 0/4000 [00:00<?, ?it/s]"
      ]
     },
     "metadata": {},
     "output_type": "display_data"
    },
    {
     "data": {
      "application/vnd.jupyter.widget-view+json": {
       "model_id": "a2eb05dca1c74378820e0e2457ba006a",
       "version_major": 2,
       "version_minor": 0
      },
      "text/plain": [
       "  0%|          | 0/4000 [00:00<?, ?it/s]"
      ]
     },
     "metadata": {},
     "output_type": "display_data"
    },
    {
     "data": {
      "application/vnd.jupyter.widget-view+json": {
       "model_id": "20a38f7ec4e64249930f3eeddcd2169c",
       "version_major": 2,
       "version_minor": 0
      },
      "text/plain": [
       "  0%|          | 0/4000 [00:00<?, ?it/s]"
      ]
     },
     "metadata": {},
     "output_type": "display_data"
    },
    {
     "data": {
      "application/vnd.jupyter.widget-view+json": {
       "model_id": "39217661404c4a7b98f6bad0c6f01ad0",
       "version_major": 2,
       "version_minor": 0
      },
      "text/plain": [
       "  0%|          | 0/4000 [00:00<?, ?it/s]"
      ]
     },
     "metadata": {},
     "output_type": "display_data"
    },
    {
     "data": {
      "application/vnd.jupyter.widget-view+json": {
       "model_id": "3b23c09577a74520a901f8fa814d9fa1",
       "version_major": 2,
       "version_minor": 0
      },
      "text/plain": [
       "  0%|          | 0/4000 [00:00<?, ?it/s]"
      ]
     },
     "metadata": {},
     "output_type": "display_data"
    },
    {
     "data": {
      "application/vnd.jupyter.widget-view+json": {
       "model_id": "5469cf924d0c4b509897ade28d140a88",
       "version_major": 2,
       "version_minor": 0
      },
      "text/plain": [
       "  0%|          | 0/4000 [00:00<?, ?it/s]"
      ]
     },
     "metadata": {},
     "output_type": "display_data"
    },
    {
     "data": {
      "application/vnd.jupyter.widget-view+json": {
       "model_id": "d9d80f4675184e2cb66e48f68cd0ed8f",
       "version_major": 2,
       "version_minor": 0
      },
      "text/plain": [
       "  0%|          | 0/4000 [00:00<?, ?it/s]"
      ]
     },
     "metadata": {},
     "output_type": "display_data"
    },
    {
     "data": {
      "application/vnd.jupyter.widget-view+json": {
       "model_id": "859a43d96199471d82374f5b90c97edc",
       "version_major": 2,
       "version_minor": 0
      },
      "text/plain": [
       "  0%|          | 0/4000 [00:00<?, ?it/s]"
      ]
     },
     "metadata": {},
     "output_type": "display_data"
    },
    {
     "data": {
      "application/vnd.jupyter.widget-view+json": {
       "model_id": "b411ede74e554d59b5edcd55a5441f8e",
       "version_major": 2,
       "version_minor": 0
      },
      "text/plain": [
       "  0%|          | 0/4000 [00:00<?, ?it/s]"
      ]
     },
     "metadata": {},
     "output_type": "display_data"
    },
    {
     "data": {
      "application/vnd.jupyter.widget-view+json": {
       "model_id": "150b8dcd3e994d949a4a246a8948c04d",
       "version_major": 2,
       "version_minor": 0
      },
      "text/plain": [
       "  0%|          | 0/4000 [00:00<?, ?it/s]"
      ]
     },
     "metadata": {},
     "output_type": "display_data"
    },
    {
     "data": {
      "application/vnd.jupyter.widget-view+json": {
       "model_id": "18e47032e23c46bf946368b6fc792423",
       "version_major": 2,
       "version_minor": 0
      },
      "text/plain": [
       "  0%|          | 0/4000 [00:00<?, ?it/s]"
      ]
     },
     "metadata": {},
     "output_type": "display_data"
    },
    {
     "data": {
      "application/vnd.jupyter.widget-view+json": {
       "model_id": "c5b2d114a8914aff8c27d8aa6d96094c",
       "version_major": 2,
       "version_minor": 0
      },
      "text/plain": [
       "  0%|          | 0/4000 [00:00<?, ?it/s]"
      ]
     },
     "metadata": {},
     "output_type": "display_data"
    },
    {
     "data": {
      "application/vnd.jupyter.widget-view+json": {
       "model_id": "009a0eec7d32405abe535e7c520347c4",
       "version_major": 2,
       "version_minor": 0
      },
      "text/plain": [
       "  0%|          | 0/4000 [00:00<?, ?it/s]"
      ]
     },
     "metadata": {},
     "output_type": "display_data"
    },
    {
     "data": {
      "application/vnd.jupyter.widget-view+json": {
       "model_id": "cd2ac1c4f9b7466d8d2deadbb54de21c",
       "version_major": 2,
       "version_minor": 0
      },
      "text/plain": [
       "  0%|          | 0/4000 [00:00<?, ?it/s]"
      ]
     },
     "metadata": {},
     "output_type": "display_data"
    },
    {
     "data": {
      "application/vnd.jupyter.widget-view+json": {
       "model_id": "d034583145044d7c93821ee15fa8fda4",
       "version_major": 2,
       "version_minor": 0
      },
      "text/plain": [
       "  0%|          | 0/4000 [00:00<?, ?it/s]"
      ]
     },
     "metadata": {},
     "output_type": "display_data"
    },
    {
     "data": {
      "application/vnd.jupyter.widget-view+json": {
       "model_id": "e8186bcd51254791a1a2150eacce8f5d",
       "version_major": 2,
       "version_minor": 0
      },
      "text/plain": [
       "  0%|          | 0/4000 [00:00<?, ?it/s]"
      ]
     },
     "metadata": {},
     "output_type": "display_data"
    },
    {
     "data": {
      "application/vnd.jupyter.widget-view+json": {
       "model_id": "0b613ac9086949f1bf41b281f124a8a1",
       "version_major": 2,
       "version_minor": 0
      },
      "text/plain": [
       "  0%|          | 0/4000 [00:00<?, ?it/s]"
      ]
     },
     "metadata": {},
     "output_type": "display_data"
    },
    {
     "data": {
      "application/vnd.jupyter.widget-view+json": {
       "model_id": "a6791fc670c843729d700032dc426547",
       "version_major": 2,
       "version_minor": 0
      },
      "text/plain": [
       "  0%|          | 0/4000 [00:00<?, ?it/s]"
      ]
     },
     "metadata": {},
     "output_type": "display_data"
    },
    {
     "data": {
      "application/vnd.jupyter.widget-view+json": {
       "model_id": "ca894d63cd034c88a9293846c925b199",
       "version_major": 2,
       "version_minor": 0
      },
      "text/plain": [
       "  0%|          | 0/4000 [00:00<?, ?it/s]"
      ]
     },
     "metadata": {},
     "output_type": "display_data"
    },
    {
     "data": {
      "application/vnd.jupyter.widget-view+json": {
       "model_id": "931644c2dcd04dec993b9dc51be6c3f8",
       "version_major": 2,
       "version_minor": 0
      },
      "text/plain": [
       "  0%|          | 0/4000 [00:00<?, ?it/s]"
      ]
     },
     "metadata": {},
     "output_type": "display_data"
    },
    {
     "data": {
      "application/vnd.jupyter.widget-view+json": {
       "model_id": "d6c54978e682432aaec3ed5029306134",
       "version_major": 2,
       "version_minor": 0
      },
      "text/plain": [
       "  0%|          | 0/4000 [00:00<?, ?it/s]"
      ]
     },
     "metadata": {},
     "output_type": "display_data"
    },
    {
     "data": {
      "application/vnd.jupyter.widget-view+json": {
       "model_id": "3803cff8ad0a4e028f6e4cc70baea555",
       "version_major": 2,
       "version_minor": 0
      },
      "text/plain": [
       "  0%|          | 0/4000 [00:00<?, ?it/s]"
      ]
     },
     "metadata": {},
     "output_type": "display_data"
    },
    {
     "data": {
      "application/vnd.jupyter.widget-view+json": {
       "model_id": "85d8385f6c124c46ae632cf4e6f1440f",
       "version_major": 2,
       "version_minor": 0
      },
      "text/plain": [
       "  0%|          | 0/4000 [00:00<?, ?it/s]"
      ]
     },
     "metadata": {},
     "output_type": "display_data"
    },
    {
     "data": {
      "application/vnd.jupyter.widget-view+json": {
       "model_id": "a306aa23c8904afab3517d94e0ecea8b",
       "version_major": 2,
       "version_minor": 0
      },
      "text/plain": [
       "  0%|          | 0/4000 [00:00<?, ?it/s]"
      ]
     },
     "metadata": {},
     "output_type": "display_data"
    },
    {
     "data": {
      "application/vnd.jupyter.widget-view+json": {
       "model_id": "901dd3f6bfff4d709a036c237d4438b8",
       "version_major": 2,
       "version_minor": 0
      },
      "text/plain": [
       "  0%|          | 0/4000 [00:00<?, ?it/s]"
      ]
     },
     "metadata": {},
     "output_type": "display_data"
    },
    {
     "data": {
      "application/vnd.jupyter.widget-view+json": {
       "model_id": "99870ec8786c4f35babeccda3645729a",
       "version_major": 2,
       "version_minor": 0
      },
      "text/plain": [
       "  0%|          | 0/4000 [00:00<?, ?it/s]"
      ]
     },
     "metadata": {},
     "output_type": "display_data"
    },
    {
     "data": {
      "application/vnd.jupyter.widget-view+json": {
       "model_id": "4393959739904dc39a91b57b60bddd5e",
       "version_major": 2,
       "version_minor": 0
      },
      "text/plain": [
       "  0%|          | 0/4000 [00:00<?, ?it/s]"
      ]
     },
     "metadata": {},
     "output_type": "display_data"
    },
    {
     "data": {
      "application/vnd.jupyter.widget-view+json": {
       "model_id": "cc509deb7459419b99ca4c1c57bae95b",
       "version_major": 2,
       "version_minor": 0
      },
      "text/plain": [
       "  0%|          | 0/4000 [00:00<?, ?it/s]"
      ]
     },
     "metadata": {},
     "output_type": "display_data"
    },
    {
     "data": {
      "application/vnd.jupyter.widget-view+json": {
       "model_id": "9986cf90bd834a0dbb354aa5df29c9e6",
       "version_major": 2,
       "version_minor": 0
      },
      "text/plain": [
       "  0%|          | 0/4000 [00:00<?, ?it/s]"
      ]
     },
     "metadata": {},
     "output_type": "display_data"
    },
    {
     "data": {
      "application/vnd.jupyter.widget-view+json": {
       "model_id": "296b47de583947ccae08bb1d69aabb1c",
       "version_major": 2,
       "version_minor": 0
      },
      "text/plain": [
       "  0%|          | 0/4000 [00:00<?, ?it/s]"
      ]
     },
     "metadata": {},
     "output_type": "display_data"
    },
    {
     "data": {
      "application/vnd.jupyter.widget-view+json": {
       "model_id": "9072cc400a8b49a2b11435158d9a260b",
       "version_major": 2,
       "version_minor": 0
      },
      "text/plain": [
       "  0%|          | 0/4000 [00:00<?, ?it/s]"
      ]
     },
     "metadata": {},
     "output_type": "display_data"
    },
    {
     "data": {
      "application/vnd.jupyter.widget-view+json": {
       "model_id": "76f7e5591dd54e319d59d6e11eb0bcc1",
       "version_major": 2,
       "version_minor": 0
      },
      "text/plain": [
       "  0%|          | 0/4000 [00:00<?, ?it/s]"
      ]
     },
     "metadata": {},
     "output_type": "display_data"
    },
    {
     "data": {
      "application/vnd.jupyter.widget-view+json": {
       "model_id": "75abb39a3b4a40a88335a37076de3d65",
       "version_major": 2,
       "version_minor": 0
      },
      "text/plain": [
       "  0%|          | 0/4000 [00:00<?, ?it/s]"
      ]
     },
     "metadata": {},
     "output_type": "display_data"
    },
    {
     "data": {
      "application/vnd.jupyter.widget-view+json": {
       "model_id": "b43cbd7335f44496845b3fb807c219d5",
       "version_major": 2,
       "version_minor": 0
      },
      "text/plain": [
       "  0%|          | 0/4000 [00:00<?, ?it/s]"
      ]
     },
     "metadata": {},
     "output_type": "display_data"
    },
    {
     "data": {
      "application/vnd.jupyter.widget-view+json": {
       "model_id": "cd40c29c106c402e8f557f48799d7139",
       "version_major": 2,
       "version_minor": 0
      },
      "text/plain": [
       "  0%|          | 0/4000 [00:00<?, ?it/s]"
      ]
     },
     "metadata": {},
     "output_type": "display_data"
    },
    {
     "data": {
      "application/vnd.jupyter.widget-view+json": {
       "model_id": "943b75cf944f44309c43bb7b385406fc",
       "version_major": 2,
       "version_minor": 0
      },
      "text/plain": [
       "  0%|          | 0/4000 [00:00<?, ?it/s]"
      ]
     },
     "metadata": {},
     "output_type": "display_data"
    },
    {
     "data": {
      "application/vnd.jupyter.widget-view+json": {
       "model_id": "931fbe66bf014ff683a8d754092c1805",
       "version_major": 2,
       "version_minor": 0
      },
      "text/plain": [
       "  0%|          | 0/4000 [00:00<?, ?it/s]"
      ]
     },
     "metadata": {},
     "output_type": "display_data"
    },
    {
     "data": {
      "application/vnd.jupyter.widget-view+json": {
       "model_id": "d72f45838d6a474fb63505980ace97b6",
       "version_major": 2,
       "version_minor": 0
      },
      "text/plain": [
       "  0%|          | 0/4000 [00:00<?, ?it/s]"
      ]
     },
     "metadata": {},
     "output_type": "display_data"
    },
    {
     "data": {
      "application/vnd.jupyter.widget-view+json": {
       "model_id": "c5c76d9f792844218f88634ab4add2c0",
       "version_major": 2,
       "version_minor": 0
      },
      "text/plain": [
       "  0%|          | 0/4000 [00:00<?, ?it/s]"
      ]
     },
     "metadata": {},
     "output_type": "display_data"
    },
    {
     "data": {
      "application/vnd.jupyter.widget-view+json": {
       "model_id": "7322c342b55642e395a891d642c63946",
       "version_major": 2,
       "version_minor": 0
      },
      "text/plain": [
       "  0%|          | 0/4000 [00:00<?, ?it/s]"
      ]
     },
     "metadata": {},
     "output_type": "display_data"
    },
    {
     "data": {
      "application/vnd.jupyter.widget-view+json": {
       "model_id": "77294fb2a66849a2ae05de1599ca3651",
       "version_major": 2,
       "version_minor": 0
      },
      "text/plain": [
       "  0%|          | 0/4000 [00:00<?, ?it/s]"
      ]
     },
     "metadata": {},
     "output_type": "display_data"
    },
    {
     "data": {
      "application/vnd.jupyter.widget-view+json": {
       "model_id": "25d611e42d48448f8c100e1510f4e393",
       "version_major": 2,
       "version_minor": 0
      },
      "text/plain": [
       "  0%|          | 0/4000 [00:00<?, ?it/s]"
      ]
     },
     "metadata": {},
     "output_type": "display_data"
    },
    {
     "data": {
      "application/vnd.jupyter.widget-view+json": {
       "model_id": "7c8c55b4478642dda02f27f27fa4619e",
       "version_major": 2,
       "version_minor": 0
      },
      "text/plain": [
       "  0%|          | 0/4000 [00:00<?, ?it/s]"
      ]
     },
     "metadata": {},
     "output_type": "display_data"
    },
    {
     "data": {
      "application/vnd.jupyter.widget-view+json": {
       "model_id": "cdf1ab6aa51242608170c4ee6815769e",
       "version_major": 2,
       "version_minor": 0
      },
      "text/plain": [
       "  0%|          | 0/4000 [00:00<?, ?it/s]"
      ]
     },
     "metadata": {},
     "output_type": "display_data"
    },
    {
     "data": {
      "application/vnd.jupyter.widget-view+json": {
       "model_id": "da02d2625a1a497c9610d2f35ceea634",
       "version_major": 2,
       "version_minor": 0
      },
      "text/plain": [
       "  0%|          | 0/4000 [00:00<?, ?it/s]"
      ]
     },
     "metadata": {},
     "output_type": "display_data"
    },
    {
     "data": {
      "application/vnd.jupyter.widget-view+json": {
       "model_id": "e306fbe3e6bf4f34a28af67f504c44c4",
       "version_major": 2,
       "version_minor": 0
      },
      "text/plain": [
       "  0%|          | 0/4000 [00:00<?, ?it/s]"
      ]
     },
     "metadata": {},
     "output_type": "display_data"
    },
    {
     "data": {
      "application/vnd.jupyter.widget-view+json": {
       "model_id": "625f028d4f694103918b742ff89c035d",
       "version_major": 2,
       "version_minor": 0
      },
      "text/plain": [
       "  0%|          | 0/4000 [00:00<?, ?it/s]"
      ]
     },
     "metadata": {},
     "output_type": "display_data"
    },
    {
     "data": {
      "application/vnd.jupyter.widget-view+json": {
       "model_id": "a5a278649636486497415b3a3c3143d8",
       "version_major": 2,
       "version_minor": 0
      },
      "text/plain": [
       "  0%|          | 0/4000 [00:00<?, ?it/s]"
      ]
     },
     "metadata": {},
     "output_type": "display_data"
    },
    {
     "data": {
      "application/vnd.jupyter.widget-view+json": {
       "model_id": "44e10527051645a4aeda3c2317d5e43b",
       "version_major": 2,
       "version_minor": 0
      },
      "text/plain": [
       "  0%|          | 0/4000 [00:00<?, ?it/s]"
      ]
     },
     "metadata": {},
     "output_type": "display_data"
    },
    {
     "data": {
      "application/vnd.jupyter.widget-view+json": {
       "model_id": "c13fa35a2bca4390842733fd1085eb01",
       "version_major": 2,
       "version_minor": 0
      },
      "text/plain": [
       "  0%|          | 0/4000 [00:00<?, ?it/s]"
      ]
     },
     "metadata": {},
     "output_type": "display_data"
    },
    {
     "data": {
      "application/vnd.jupyter.widget-view+json": {
       "model_id": "8f9c049962b34ee4b5cf3d26e8cceda3",
       "version_major": 2,
       "version_minor": 0
      },
      "text/plain": [
       "  0%|          | 0/4000 [00:00<?, ?it/s]"
      ]
     },
     "metadata": {},
     "output_type": "display_data"
    },
    {
     "data": {
      "application/vnd.jupyter.widget-view+json": {
       "model_id": "5dca3a1dd7ec459989ac48cae07347da",
       "version_major": 2,
       "version_minor": 0
      },
      "text/plain": [
       "  0%|          | 0/4000 [00:00<?, ?it/s]"
      ]
     },
     "metadata": {},
     "output_type": "display_data"
    },
    {
     "data": {
      "application/vnd.jupyter.widget-view+json": {
       "model_id": "753462bcaa3c46e59a0b11b68f815a8d",
       "version_major": 2,
       "version_minor": 0
      },
      "text/plain": [
       "  0%|          | 0/4000 [00:00<?, ?it/s]"
      ]
     },
     "metadata": {},
     "output_type": "display_data"
    },
    {
     "data": {
      "application/vnd.jupyter.widget-view+json": {
       "model_id": "8561f5de7de04036856676c383992d19",
       "version_major": 2,
       "version_minor": 0
      },
      "text/plain": [
       "  0%|          | 0/4000 [00:00<?, ?it/s]"
      ]
     },
     "metadata": {},
     "output_type": "display_data"
    },
    {
     "data": {
      "application/vnd.jupyter.widget-view+json": {
       "model_id": "99a64e890eac4bf092c15d2795308c5b",
       "version_major": 2,
       "version_minor": 0
      },
      "text/plain": [
       "  0%|          | 0/4000 [00:00<?, ?it/s]"
      ]
     },
     "metadata": {},
     "output_type": "display_data"
    },
    {
     "data": {
      "application/vnd.jupyter.widget-view+json": {
       "model_id": "6014b43dc6ee45fbb8aadf0d845673ce",
       "version_major": 2,
       "version_minor": 0
      },
      "text/plain": [
       "  0%|          | 0/4000 [00:00<?, ?it/s]"
      ]
     },
     "metadata": {},
     "output_type": "display_data"
    },
    {
     "data": {
      "application/vnd.jupyter.widget-view+json": {
       "model_id": "4807a7b31f9841efa910fa7a1f4c137e",
       "version_major": 2,
       "version_minor": 0
      },
      "text/plain": [
       "  0%|          | 0/4000 [00:00<?, ?it/s]"
      ]
     },
     "metadata": {},
     "output_type": "display_data"
    },
    {
     "data": {
      "application/vnd.jupyter.widget-view+json": {
       "model_id": "141a81be2ca04bb083023c4003c60739",
       "version_major": 2,
       "version_minor": 0
      },
      "text/plain": [
       "  0%|          | 0/4000 [00:00<?, ?it/s]"
      ]
     },
     "metadata": {},
     "output_type": "display_data"
    },
    {
     "data": {
      "application/vnd.jupyter.widget-view+json": {
       "model_id": "09a610334eb64722913a78e64b50f977",
       "version_major": 2,
       "version_minor": 0
      },
      "text/plain": [
       "  0%|          | 0/4000 [00:00<?, ?it/s]"
      ]
     },
     "metadata": {},
     "output_type": "display_data"
    },
    {
     "data": {
      "application/vnd.jupyter.widget-view+json": {
       "model_id": "a3cf7c12d6ae49bd8520bb99c183dbeb",
       "version_major": 2,
       "version_minor": 0
      },
      "text/plain": [
       "  0%|          | 0/4000 [00:00<?, ?it/s]"
      ]
     },
     "metadata": {},
     "output_type": "display_data"
    },
    {
     "data": {
      "application/vnd.jupyter.widget-view+json": {
       "model_id": "e8e82b4ab4204ef9beb3b7be7a6882e6",
       "version_major": 2,
       "version_minor": 0
      },
      "text/plain": [
       "  0%|          | 0/4000 [00:00<?, ?it/s]"
      ]
     },
     "metadata": {},
     "output_type": "display_data"
    },
    {
     "data": {
      "application/vnd.jupyter.widget-view+json": {
       "model_id": "2af7e527ad3048dd8b48b70faa7f8dd1",
       "version_major": 2,
       "version_minor": 0
      },
      "text/plain": [
       "  0%|          | 0/4000 [00:00<?, ?it/s]"
      ]
     },
     "metadata": {},
     "output_type": "display_data"
    },
    {
     "data": {
      "application/vnd.jupyter.widget-view+json": {
       "model_id": "72b0fa705fb9476bbd1002071f65e1be",
       "version_major": 2,
       "version_minor": 0
      },
      "text/plain": [
       "  0%|          | 0/4000 [00:00<?, ?it/s]"
      ]
     },
     "metadata": {},
     "output_type": "display_data"
    },
    {
     "data": {
      "application/vnd.jupyter.widget-view+json": {
       "model_id": "bd65d47cd01f4bf99915d99979eeb447",
       "version_major": 2,
       "version_minor": 0
      },
      "text/plain": [
       "  0%|          | 0/4000 [00:00<?, ?it/s]"
      ]
     },
     "metadata": {},
     "output_type": "display_data"
    },
    {
     "data": {
      "application/vnd.jupyter.widget-view+json": {
       "model_id": "b47724deb63c4ef7b558f1cf865ce0f6",
       "version_major": 2,
       "version_minor": 0
      },
      "text/plain": [
       "  0%|          | 0/4000 [00:00<?, ?it/s]"
      ]
     },
     "metadata": {},
     "output_type": "display_data"
    },
    {
     "data": {
      "application/vnd.jupyter.widget-view+json": {
       "model_id": "fdb051939b8443808f68fa2840b9c55e",
       "version_major": 2,
       "version_minor": 0
      },
      "text/plain": [
       "  0%|          | 0/4000 [00:00<?, ?it/s]"
      ]
     },
     "metadata": {},
     "output_type": "display_data"
    },
    {
     "data": {
      "application/vnd.jupyter.widget-view+json": {
       "model_id": "a8c7cc9d65c342549323ff1532c00559",
       "version_major": 2,
       "version_minor": 0
      },
      "text/plain": [
       "  0%|          | 0/4000 [00:00<?, ?it/s]"
      ]
     },
     "metadata": {},
     "output_type": "display_data"
    },
    {
     "data": {
      "application/vnd.jupyter.widget-view+json": {
       "model_id": "13f95d7234bf4b80ba1f4f3199564b89",
       "version_major": 2,
       "version_minor": 0
      },
      "text/plain": [
       "  0%|          | 0/4000 [00:00<?, ?it/s]"
      ]
     },
     "metadata": {},
     "output_type": "display_data"
    },
    {
     "data": {
      "application/vnd.jupyter.widget-view+json": {
       "model_id": "f23e73aff0f94ab382234e11fa88da5f",
       "version_major": 2,
       "version_minor": 0
      },
      "text/plain": [
       "  0%|          | 0/4000 [00:00<?, ?it/s]"
      ]
     },
     "metadata": {},
     "output_type": "display_data"
    },
    {
     "data": {
      "application/vnd.jupyter.widget-view+json": {
       "model_id": "10b751158a30473e85b978a73c696e1d",
       "version_major": 2,
       "version_minor": 0
      },
      "text/plain": [
       "  0%|          | 0/4000 [00:00<?, ?it/s]"
      ]
     },
     "metadata": {},
     "output_type": "display_data"
    },
    {
     "data": {
      "application/vnd.jupyter.widget-view+json": {
       "model_id": "23c7bd43d0864e6dac83cdef13fac6f9",
       "version_major": 2,
       "version_minor": 0
      },
      "text/plain": [
       "  0%|          | 0/4000 [00:00<?, ?it/s]"
      ]
     },
     "metadata": {},
     "output_type": "display_data"
    },
    {
     "data": {
      "application/vnd.jupyter.widget-view+json": {
       "model_id": "14e4395b4ce74e018b30a2bb725c5c5d",
       "version_major": 2,
       "version_minor": 0
      },
      "text/plain": [
       "  0%|          | 0/4000 [00:00<?, ?it/s]"
      ]
     },
     "metadata": {},
     "output_type": "display_data"
    },
    {
     "data": {
      "application/vnd.jupyter.widget-view+json": {
       "model_id": "21641495f96d42909b5760de10f23bae",
       "version_major": 2,
       "version_minor": 0
      },
      "text/plain": [
       "  0%|          | 0/4000 [00:00<?, ?it/s]"
      ]
     },
     "metadata": {},
     "output_type": "display_data"
    },
    {
     "data": {
      "application/vnd.jupyter.widget-view+json": {
       "model_id": "3f8ff709569446748c22a654029a22a7",
       "version_major": 2,
       "version_minor": 0
      },
      "text/plain": [
       "  0%|          | 0/4000 [00:00<?, ?it/s]"
      ]
     },
     "metadata": {},
     "output_type": "display_data"
    },
    {
     "data": {
      "application/vnd.jupyter.widget-view+json": {
       "model_id": "6acc6daff50445b588b53e921f79a779",
       "version_major": 2,
       "version_minor": 0
      },
      "text/plain": [
       "  0%|          | 0/4000 [00:00<?, ?it/s]"
      ]
     },
     "metadata": {},
     "output_type": "display_data"
    },
    {
     "data": {
      "application/vnd.jupyter.widget-view+json": {
       "model_id": "23ee588988424cfebbf45bd06d162458",
       "version_major": 2,
       "version_minor": 0
      },
      "text/plain": [
       "  0%|          | 0/4000 [00:00<?, ?it/s]"
      ]
     },
     "metadata": {},
     "output_type": "display_data"
    },
    {
     "data": {
      "application/vnd.jupyter.widget-view+json": {
       "model_id": "bbfb0febf61643cc82ed5e322e72528c",
       "version_major": 2,
       "version_minor": 0
      },
      "text/plain": [
       "  0%|          | 0/4000 [00:00<?, ?it/s]"
      ]
     },
     "metadata": {},
     "output_type": "display_data"
    },
    {
     "data": {
      "application/vnd.jupyter.widget-view+json": {
       "model_id": "6f9d44f3457a4d5685055007a7ba8840",
       "version_major": 2,
       "version_minor": 0
      },
      "text/plain": [
       "  0%|          | 0/4000 [00:00<?, ?it/s]"
      ]
     },
     "metadata": {},
     "output_type": "display_data"
    },
    {
     "data": {
      "application/vnd.jupyter.widget-view+json": {
       "model_id": "8ce2f3f4fea74c2e9407f78bbf51ee8b",
       "version_major": 2,
       "version_minor": 0
      },
      "text/plain": [
       "  0%|          | 0/4000 [00:00<?, ?it/s]"
      ]
     },
     "metadata": {},
     "output_type": "display_data"
    },
    {
     "data": {
      "application/vnd.jupyter.widget-view+json": {
       "model_id": "e28d4403f27447ee80572386b38c923a",
       "version_major": 2,
       "version_minor": 0
      },
      "text/plain": [
       "  0%|          | 0/4000 [00:00<?, ?it/s]"
      ]
     },
     "metadata": {},
     "output_type": "display_data"
    },
    {
     "data": {
      "application/vnd.jupyter.widget-view+json": {
       "model_id": "e3dcb6351af44fd5938e30a2bee606ae",
       "version_major": 2,
       "version_minor": 0
      },
      "text/plain": [
       "  0%|          | 0/4000 [00:00<?, ?it/s]"
      ]
     },
     "metadata": {},
     "output_type": "display_data"
    },
    {
     "data": {
      "application/vnd.jupyter.widget-view+json": {
       "model_id": "b25c66144b50412685f9bd00cf58b3e8",
       "version_major": 2,
       "version_minor": 0
      },
      "text/plain": [
       "  0%|          | 0/4000 [00:00<?, ?it/s]"
      ]
     },
     "metadata": {},
     "output_type": "display_data"
    },
    {
     "data": {
      "application/vnd.jupyter.widget-view+json": {
       "model_id": "d208cc5761b9499d8c660de768808608",
       "version_major": 2,
       "version_minor": 0
      },
      "text/plain": [
       "  0%|          | 0/4000 [00:00<?, ?it/s]"
      ]
     },
     "metadata": {},
     "output_type": "display_data"
    },
    {
     "data": {
      "application/vnd.jupyter.widget-view+json": {
       "model_id": "90040811537d48a6984da8973c1b9033",
       "version_major": 2,
       "version_minor": 0
      },
      "text/plain": [
       "  0%|          | 0/4000 [00:00<?, ?it/s]"
      ]
     },
     "metadata": {},
     "output_type": "display_data"
    },
    {
     "data": {
      "application/vnd.jupyter.widget-view+json": {
       "model_id": "2d9cc63b485b4417bff7272132bf7eae",
       "version_major": 2,
       "version_minor": 0
      },
      "text/plain": [
       "  0%|          | 0/4000 [00:00<?, ?it/s]"
      ]
     },
     "metadata": {},
     "output_type": "display_data"
    },
    {
     "data": {
      "application/vnd.jupyter.widget-view+json": {
       "model_id": "e8a710b63f2e4f768aadff31afbf5626",
       "version_major": 2,
       "version_minor": 0
      },
      "text/plain": [
       "  0%|          | 0/4000 [00:00<?, ?it/s]"
      ]
     },
     "metadata": {},
     "output_type": "display_data"
    },
    {
     "data": {
      "application/vnd.jupyter.widget-view+json": {
       "model_id": "09e6bbfc473b41299669b1eb38c6ae8d",
       "version_major": 2,
       "version_minor": 0
      },
      "text/plain": [
       "  0%|          | 0/4000 [00:00<?, ?it/s]"
      ]
     },
     "metadata": {},
     "output_type": "display_data"
    },
    {
     "data": {
      "application/vnd.jupyter.widget-view+json": {
       "model_id": "4b64e3749e1a4df498b826807274806f",
       "version_major": 2,
       "version_minor": 0
      },
      "text/plain": [
       "  0%|          | 0/4000 [00:00<?, ?it/s]"
      ]
     },
     "metadata": {},
     "output_type": "display_data"
    },
    {
     "data": {
      "application/vnd.jupyter.widget-view+json": {
       "model_id": "0e48bf29774d40f1b54c84a65e97073c",
       "version_major": 2,
       "version_minor": 0
      },
      "text/plain": [
       "  0%|          | 0/4000 [00:00<?, ?it/s]"
      ]
     },
     "metadata": {},
     "output_type": "display_data"
    },
    {
     "data": {
      "application/vnd.jupyter.widget-view+json": {
       "model_id": "92f19a8ac4d64c10891d21f0ec322bd0",
       "version_major": 2,
       "version_minor": 0
      },
      "text/plain": [
       "  0%|          | 0/4000 [00:00<?, ?it/s]"
      ]
     },
     "metadata": {},
     "output_type": "display_data"
    },
    {
     "data": {
      "application/vnd.jupyter.widget-view+json": {
       "model_id": "406727b97bf442869588525f25622905",
       "version_major": 2,
       "version_minor": 0
      },
      "text/plain": [
       "  0%|          | 0/4000 [00:00<?, ?it/s]"
      ]
     },
     "metadata": {},
     "output_type": "display_data"
    },
    {
     "data": {
      "application/vnd.jupyter.widget-view+json": {
       "model_id": "f42d62480b6b4be1bdf46baad4adeefb",
       "version_major": 2,
       "version_minor": 0
      },
      "text/plain": [
       "  0%|          | 0/4000 [00:00<?, ?it/s]"
      ]
     },
     "metadata": {},
     "output_type": "display_data"
    },
    {
     "data": {
      "application/vnd.jupyter.widget-view+json": {
       "model_id": "84888e59f4554c6387eb71fb4a38b608",
       "version_major": 2,
       "version_minor": 0
      },
      "text/plain": [
       "  0%|          | 0/4000 [00:00<?, ?it/s]"
      ]
     },
     "metadata": {},
     "output_type": "display_data"
    },
    {
     "data": {
      "application/vnd.jupyter.widget-view+json": {
       "model_id": "9e1ba64a0edf4f3ca29b230113b1de3e",
       "version_major": 2,
       "version_minor": 0
      },
      "text/plain": [
       "  0%|          | 0/4000 [00:00<?, ?it/s]"
      ]
     },
     "metadata": {},
     "output_type": "display_data"
    },
    {
     "data": {
      "application/vnd.jupyter.widget-view+json": {
       "model_id": "4b9e529558f7454aa0cd0e6e3d03ae89",
       "version_major": 2,
       "version_minor": 0
      },
      "text/plain": [
       "  0%|          | 0/4000 [00:00<?, ?it/s]"
      ]
     },
     "metadata": {},
     "output_type": "display_data"
    },
    {
     "data": {
      "application/vnd.jupyter.widget-view+json": {
       "model_id": "ca49952c4562449b909e53267c3d5027",
       "version_major": 2,
       "version_minor": 0
      },
      "text/plain": [
       "  0%|          | 0/4000 [00:00<?, ?it/s]"
      ]
     },
     "metadata": {},
     "output_type": "display_data"
    },
    {
     "data": {
      "application/vnd.jupyter.widget-view+json": {
       "model_id": "9b08f259af1f463aabbefb63fee97cf4",
       "version_major": 2,
       "version_minor": 0
      },
      "text/plain": [
       "  0%|          | 0/4000 [00:00<?, ?it/s]"
      ]
     },
     "metadata": {},
     "output_type": "display_data"
    },
    {
     "data": {
      "application/vnd.jupyter.widget-view+json": {
       "model_id": "25081b38ecf246e3b0ad3080c4c3cbaa",
       "version_major": 2,
       "version_minor": 0
      },
      "text/plain": [
       "  0%|          | 0/4000 [00:00<?, ?it/s]"
      ]
     },
     "metadata": {},
     "output_type": "display_data"
    },
    {
     "data": {
      "application/vnd.jupyter.widget-view+json": {
       "model_id": "6bd6a47e3c0c4b2daff128338556ce24",
       "version_major": 2,
       "version_minor": 0
      },
      "text/plain": [
       "  0%|          | 0/4000 [00:00<?, ?it/s]"
      ]
     },
     "metadata": {},
     "output_type": "display_data"
    },
    {
     "data": {
      "application/vnd.jupyter.widget-view+json": {
       "model_id": "5f611adb768e4e3a9c4ea7b502fcfaf9",
       "version_major": 2,
       "version_minor": 0
      },
      "text/plain": [
       "  0%|          | 0/4000 [00:00<?, ?it/s]"
      ]
     },
     "metadata": {},
     "output_type": "display_data"
    },
    {
     "data": {
      "application/vnd.jupyter.widget-view+json": {
       "model_id": "75d5a911047d4822b23045e919cc40a6",
       "version_major": 2,
       "version_minor": 0
      },
      "text/plain": [
       "  0%|          | 0/4000 [00:00<?, ?it/s]"
      ]
     },
     "metadata": {},
     "output_type": "display_data"
    },
    {
     "data": {
      "application/vnd.jupyter.widget-view+json": {
       "model_id": "c6b81e4e99804a0b9b2e98cfec675419",
       "version_major": 2,
       "version_minor": 0
      },
      "text/plain": [
       "  0%|          | 0/4000 [00:00<?, ?it/s]"
      ]
     },
     "metadata": {},
     "output_type": "display_data"
    },
    {
     "data": {
      "application/vnd.jupyter.widget-view+json": {
       "model_id": "10f52a1483044862ad012cef604ffdd1",
       "version_major": 2,
       "version_minor": 0
      },
      "text/plain": [
       "  0%|          | 0/4000 [00:00<?, ?it/s]"
      ]
     },
     "metadata": {},
     "output_type": "display_data"
    },
    {
     "data": {
      "application/vnd.jupyter.widget-view+json": {
       "model_id": "f4a9753d46da499fb805b562fde6000b",
       "version_major": 2,
       "version_minor": 0
      },
      "text/plain": [
       "  0%|          | 0/4000 [00:00<?, ?it/s]"
      ]
     },
     "metadata": {},
     "output_type": "display_data"
    },
    {
     "data": {
      "application/vnd.jupyter.widget-view+json": {
       "model_id": "408913da951e404babfa2aa43a29e79e",
       "version_major": 2,
       "version_minor": 0
      },
      "text/plain": [
       "  0%|          | 0/4000 [00:00<?, ?it/s]"
      ]
     },
     "metadata": {},
     "output_type": "display_data"
    },
    {
     "data": {
      "application/vnd.jupyter.widget-view+json": {
       "model_id": "b64226089645458da74a63e3c51244b4",
       "version_major": 2,
       "version_minor": 0
      },
      "text/plain": [
       "  0%|          | 0/4000 [00:00<?, ?it/s]"
      ]
     },
     "metadata": {},
     "output_type": "display_data"
    },
    {
     "data": {
      "application/vnd.jupyter.widget-view+json": {
       "model_id": "86982e9c7da349ba95932280e7bffa0b",
       "version_major": 2,
       "version_minor": 0
      },
      "text/plain": [
       "  0%|          | 0/4000 [00:00<?, ?it/s]"
      ]
     },
     "metadata": {},
     "output_type": "display_data"
    },
    {
     "data": {
      "application/vnd.jupyter.widget-view+json": {
       "model_id": "e2bc4f333bc94204b075128f72c34460",
       "version_major": 2,
       "version_minor": 0
      },
      "text/plain": [
       "  0%|          | 0/4000 [00:00<?, ?it/s]"
      ]
     },
     "metadata": {},
     "output_type": "display_data"
    },
    {
     "data": {
      "application/vnd.jupyter.widget-view+json": {
       "model_id": "4caee7a2339c478d9d965cc4b903179b",
       "version_major": 2,
       "version_minor": 0
      },
      "text/plain": [
       "  0%|          | 0/4000 [00:00<?, ?it/s]"
      ]
     },
     "metadata": {},
     "output_type": "display_data"
    },
    {
     "data": {
      "application/vnd.jupyter.widget-view+json": {
       "model_id": "33326286546b44ee89b9166102629ca7",
       "version_major": 2,
       "version_minor": 0
      },
      "text/plain": [
       "  0%|          | 0/4000 [00:00<?, ?it/s]"
      ]
     },
     "metadata": {},
     "output_type": "display_data"
    },
    {
     "data": {
      "application/vnd.jupyter.widget-view+json": {
       "model_id": "0f4ab82d236d499f96f8ab448d485d6c",
       "version_major": 2,
       "version_minor": 0
      },
      "text/plain": [
       "  0%|          | 0/4000 [00:00<?, ?it/s]"
      ]
     },
     "metadata": {},
     "output_type": "display_data"
    },
    {
     "data": {
      "application/vnd.jupyter.widget-view+json": {
       "model_id": "636d321e232f45dea3f305b051e7995d",
       "version_major": 2,
       "version_minor": 0
      },
      "text/plain": [
       "  0%|          | 0/4000 [00:00<?, ?it/s]"
      ]
     },
     "metadata": {},
     "output_type": "display_data"
    }
   ],
   "source": [
    "np.random.seed(42)\n",
    "random.seed(42)\n",
    "tf.random.set_seed(42)\n",
    "\n",
    "n = 3\n",
    "d = 2**n\n",
    "rank = 7\n",
    "\n",
    "prior_fidelity2 = np.zeros((len(N_list), num_reps))\n",
    "noPrior_fidelity2 = np.zeros((len(N_list), num_reps))\n",
    "\n",
    "for rep in tqdm(range(num_reps)):\n",
    "    X, _, _ = generate_ginibre(d, d)\n",
    "    U = generate_unitary(X) # Random unitary part\n",
    "    kraus_target = KrausMap(U, 0.5, d, rank)\n",
    "    \n",
    "    inputs, _ = generate_pauli_circuits(n = n, \n",
    "                                        circuit_target=None, \n",
    "                                        N = None, \n",
    "                                        trace=False)\n",
    "    \n",
    "    states = kraus_target.apply_map(inputs[0])\n",
    "    targets = measurement(states, U_basis = inputs[1])\n",
    "    \n",
    "    for i, N in enumerate(N_list):\n",
    "        kraus_model = KrausMap(\n",
    "                               U=U, \n",
    "                               c=0.9, \n",
    "                               d=d, \n",
    "                               rank=rank,\n",
    "                              )\n",
    "\n",
    "        model = ModelQuantumMap(\n",
    "                                q_map = kraus_model,\n",
    "                                loss = probs_loss,\n",
    "                                optimizer = tf.optimizers.Adam(learning_rate=0.01),\n",
    "                                )\n",
    "\n",
    "        model.train(inputs = [inputs[0][:N], inputs[1][:N]],\n",
    "                    targets = targets[:N],\n",
    "                    inputs_val = None,\n",
    "                    targets_val = None,\n",
    "                    num_iter = 4000,\n",
    "                    N = N,\n",
    "                    verbose = False,\n",
    "                    )\n",
    "\n",
    "        prior_fidelity2[i, rep] = np.abs(channel_fidelity(kraus_target, kraus_model).numpy())\n",
    "\n",
    "        kraus_model = KrausMap(\n",
    "    #                           U=U, \n",
    "    #                           c=0.9, \n",
    "                               d=d, \n",
    "                               rank=rank+1,\n",
    "                              )\n",
    "\n",
    "        model = ModelQuantumMap(\n",
    "                                q_map = kraus_model,\n",
    "                                loss = probs_loss,\n",
    "                                optimizer = tf.optimizers.Adam(learning_rate=0.01),\n",
    "                                )\n",
    "\n",
    "        model.train(inputs = [inputs[0][:N], inputs[1][:N]],\n",
    "                    targets = targets[:N],\n",
    "                    inputs_val = None,\n",
    "                    targets_val = None,\n",
    "                    num_iter = 4000,\n",
    "                    N = N,\n",
    "                    verbose = False,\n",
    "                    )\n",
    "\n",
    "        noPrior_fidelity2[i, rep] = np.abs(channel_fidelity(kraus_target, kraus_model).numpy())"
   ]
  },
  {
   "cell_type": "code",
   "execution_count": 10,
   "metadata": {},
   "outputs": [],
   "source": [
    "data = [prior_fidelity2, noPrior_fidelity2]\n",
    "pickle.dump(data, open(\"../../data/compressed_sensing_rank8.p\", \"wb\"))"
   ]
  },
  {
   "cell_type": "markdown",
   "metadata": {},
   "source": [
    "### High Rank"
   ]
  },
  {
   "cell_type": "code",
   "execution_count": 11,
   "metadata": {},
   "outputs": [
    {
     "data": {
      "application/vnd.jupyter.widget-view+json": {
       "model_id": "dad0f4931e8946888bd5d0f6008153cb",
       "version_major": 2,
       "version_minor": 0
      },
      "text/plain": [
       "  0%|          | 0/10 [00:00<?, ?it/s]"
      ]
     },
     "metadata": {},
     "output_type": "display_data"
    },
    {
     "data": {
      "application/vnd.jupyter.widget-view+json": {
       "model_id": "ec34a31779484ae985a0e237f453c496",
       "version_major": 2,
       "version_minor": 0
      },
      "text/plain": [
       "  0%|          | 0/4000 [00:00<?, ?it/s]"
      ]
     },
     "metadata": {},
     "output_type": "display_data"
    },
    {
     "data": {
      "application/vnd.jupyter.widget-view+json": {
       "model_id": "2c3c87f8e28a4111b30b1bbd337c7df7",
       "version_major": 2,
       "version_minor": 0
      },
      "text/plain": [
       "  0%|          | 0/4000 [00:00<?, ?it/s]"
      ]
     },
     "metadata": {},
     "output_type": "display_data"
    },
    {
     "data": {
      "application/vnd.jupyter.widget-view+json": {
       "model_id": "e669f568d76945dbaecd42eaf5a18d97",
       "version_major": 2,
       "version_minor": 0
      },
      "text/plain": [
       "  0%|          | 0/4000 [00:00<?, ?it/s]"
      ]
     },
     "metadata": {},
     "output_type": "display_data"
    },
    {
     "data": {
      "application/vnd.jupyter.widget-view+json": {
       "model_id": "25cecd4854b549e18f981d34fb94df93",
       "version_major": 2,
       "version_minor": 0
      },
      "text/plain": [
       "  0%|          | 0/4000 [00:00<?, ?it/s]"
      ]
     },
     "metadata": {},
     "output_type": "display_data"
    },
    {
     "data": {
      "application/vnd.jupyter.widget-view+json": {
       "model_id": "d04f11b105214eb1b74a20f96b6a4230",
       "version_major": 2,
       "version_minor": 0
      },
      "text/plain": [
       "  0%|          | 0/4000 [00:00<?, ?it/s]"
      ]
     },
     "metadata": {},
     "output_type": "display_data"
    },
    {
     "data": {
      "application/vnd.jupyter.widget-view+json": {
       "model_id": "71fc554bc12743cf9d967f6de85da4a6",
       "version_major": 2,
       "version_minor": 0
      },
      "text/plain": [
       "  0%|          | 0/4000 [00:00<?, ?it/s]"
      ]
     },
     "metadata": {},
     "output_type": "display_data"
    },
    {
     "data": {
      "application/vnd.jupyter.widget-view+json": {
       "model_id": "0d3e23aedae14305a9aebabd7d14fcd8",
       "version_major": 2,
       "version_minor": 0
      },
      "text/plain": [
       "  0%|          | 0/4000 [00:00<?, ?it/s]"
      ]
     },
     "metadata": {},
     "output_type": "display_data"
    },
    {
     "data": {
      "application/vnd.jupyter.widget-view+json": {
       "model_id": "0e4c7c9bc5284f4c8e537f6b880fc64b",
       "version_major": 2,
       "version_minor": 0
      },
      "text/plain": [
       "  0%|          | 0/4000 [00:00<?, ?it/s]"
      ]
     },
     "metadata": {},
     "output_type": "display_data"
    },
    {
     "data": {
      "application/vnd.jupyter.widget-view+json": {
       "model_id": "3f7c18c589504f4983556c0f687a187f",
       "version_major": 2,
       "version_minor": 0
      },
      "text/plain": [
       "  0%|          | 0/4000 [00:00<?, ?it/s]"
      ]
     },
     "metadata": {},
     "output_type": "display_data"
    },
    {
     "data": {
      "application/vnd.jupyter.widget-view+json": {
       "model_id": "42fb81d9063b4acf897eea6321e350cb",
       "version_major": 2,
       "version_minor": 0
      },
      "text/plain": [
       "  0%|          | 0/4000 [00:00<?, ?it/s]"
      ]
     },
     "metadata": {},
     "output_type": "display_data"
    },
    {
     "data": {
      "application/vnd.jupyter.widget-view+json": {
       "model_id": "4679da6b9e0d4899b8370511c883dc89",
       "version_major": 2,
       "version_minor": 0
      },
      "text/plain": [
       "  0%|          | 0/4000 [00:00<?, ?it/s]"
      ]
     },
     "metadata": {},
     "output_type": "display_data"
    },
    {
     "data": {
      "application/vnd.jupyter.widget-view+json": {
       "model_id": "931f2dac6f104481b6994e07b3af4da0",
       "version_major": 2,
       "version_minor": 0
      },
      "text/plain": [
       "  0%|          | 0/4000 [00:00<?, ?it/s]"
      ]
     },
     "metadata": {},
     "output_type": "display_data"
    },
    {
     "data": {
      "application/vnd.jupyter.widget-view+json": {
       "model_id": "250b5049186b4e9aa9d1524882bfb5cb",
       "version_major": 2,
       "version_minor": 0
      },
      "text/plain": [
       "  0%|          | 0/4000 [00:00<?, ?it/s]"
      ]
     },
     "metadata": {},
     "output_type": "display_data"
    },
    {
     "data": {
      "application/vnd.jupyter.widget-view+json": {
       "model_id": "81cea5d12b6e4ea09ceaf872e4ce10a0",
       "version_major": 2,
       "version_minor": 0
      },
      "text/plain": [
       "  0%|          | 0/4000 [00:00<?, ?it/s]"
      ]
     },
     "metadata": {},
     "output_type": "display_data"
    },
    {
     "data": {
      "application/vnd.jupyter.widget-view+json": {
       "model_id": "a4c0055a9cef4d5c88f18e762675a11e",
       "version_major": 2,
       "version_minor": 0
      },
      "text/plain": [
       "  0%|          | 0/4000 [00:00<?, ?it/s]"
      ]
     },
     "metadata": {},
     "output_type": "display_data"
    },
    {
     "data": {
      "application/vnd.jupyter.widget-view+json": {
       "model_id": "6c041db1517a4a618ed7b39010c21a80",
       "version_major": 2,
       "version_minor": 0
      },
      "text/plain": [
       "  0%|          | 0/4000 [00:00<?, ?it/s]"
      ]
     },
     "metadata": {},
     "output_type": "display_data"
    },
    {
     "data": {
      "application/vnd.jupyter.widget-view+json": {
       "model_id": "289b15a808fd4c6ebe0efbcd6039a86d",
       "version_major": 2,
       "version_minor": 0
      },
      "text/plain": [
       "  0%|          | 0/4000 [00:00<?, ?it/s]"
      ]
     },
     "metadata": {},
     "output_type": "display_data"
    },
    {
     "data": {
      "application/vnd.jupyter.widget-view+json": {
       "model_id": "32a3100f5d644a7b994007a0077f509b",
       "version_major": 2,
       "version_minor": 0
      },
      "text/plain": [
       "  0%|          | 0/4000 [00:00<?, ?it/s]"
      ]
     },
     "metadata": {},
     "output_type": "display_data"
    },
    {
     "data": {
      "application/vnd.jupyter.widget-view+json": {
       "model_id": "ddfaa526d54a47b4930563112ecf9c1c",
       "version_major": 2,
       "version_minor": 0
      },
      "text/plain": [
       "  0%|          | 0/4000 [00:00<?, ?it/s]"
      ]
     },
     "metadata": {},
     "output_type": "display_data"
    },
    {
     "data": {
      "application/vnd.jupyter.widget-view+json": {
       "model_id": "25fcc64b768847d49d8a76c0f71cfbc1",
       "version_major": 2,
       "version_minor": 0
      },
      "text/plain": [
       "  0%|          | 0/4000 [00:00<?, ?it/s]"
      ]
     },
     "metadata": {},
     "output_type": "display_data"
    },
    {
     "data": {
      "application/vnd.jupyter.widget-view+json": {
       "model_id": "8511c7210845498ea2d43c40acd022e9",
       "version_major": 2,
       "version_minor": 0
      },
      "text/plain": [
       "  0%|          | 0/4000 [00:00<?, ?it/s]"
      ]
     },
     "metadata": {},
     "output_type": "display_data"
    },
    {
     "data": {
      "application/vnd.jupyter.widget-view+json": {
       "model_id": "a303708dfb57499383b1ec75f5fced95",
       "version_major": 2,
       "version_minor": 0
      },
      "text/plain": [
       "  0%|          | 0/4000 [00:00<?, ?it/s]"
      ]
     },
     "metadata": {},
     "output_type": "display_data"
    },
    {
     "data": {
      "application/vnd.jupyter.widget-view+json": {
       "model_id": "12be7b320f914b29bb3480480e921d60",
       "version_major": 2,
       "version_minor": 0
      },
      "text/plain": [
       "  0%|          | 0/4000 [00:00<?, ?it/s]"
      ]
     },
     "metadata": {},
     "output_type": "display_data"
    },
    {
     "data": {
      "application/vnd.jupyter.widget-view+json": {
       "model_id": "e637b6981de8418db8f4936108bfd150",
       "version_major": 2,
       "version_minor": 0
      },
      "text/plain": [
       "  0%|          | 0/4000 [00:00<?, ?it/s]"
      ]
     },
     "metadata": {},
     "output_type": "display_data"
    },
    {
     "data": {
      "application/vnd.jupyter.widget-view+json": {
       "model_id": "df9b98a0209f4986b73ab0f6d58948aa",
       "version_major": 2,
       "version_minor": 0
      },
      "text/plain": [
       "  0%|          | 0/4000 [00:00<?, ?it/s]"
      ]
     },
     "metadata": {},
     "output_type": "display_data"
    },
    {
     "data": {
      "application/vnd.jupyter.widget-view+json": {
       "model_id": "723045f9a4c445249fc953357a06b397",
       "version_major": 2,
       "version_minor": 0
      },
      "text/plain": [
       "  0%|          | 0/4000 [00:00<?, ?it/s]"
      ]
     },
     "metadata": {},
     "output_type": "display_data"
    },
    {
     "data": {
      "application/vnd.jupyter.widget-view+json": {
       "model_id": "c671c237d40248a387df4653349b7ed1",
       "version_major": 2,
       "version_minor": 0
      },
      "text/plain": [
       "  0%|          | 0/4000 [00:00<?, ?it/s]"
      ]
     },
     "metadata": {},
     "output_type": "display_data"
    },
    {
     "data": {
      "application/vnd.jupyter.widget-view+json": {
       "model_id": "fc231fb9ea7441afa298c833b70eeaa3",
       "version_major": 2,
       "version_minor": 0
      },
      "text/plain": [
       "  0%|          | 0/4000 [00:00<?, ?it/s]"
      ]
     },
     "metadata": {},
     "output_type": "display_data"
    },
    {
     "data": {
      "application/vnd.jupyter.widget-view+json": {
       "model_id": "07d07560acb344ddab0344ecc55a0de0",
       "version_major": 2,
       "version_minor": 0
      },
      "text/plain": [
       "  0%|          | 0/4000 [00:00<?, ?it/s]"
      ]
     },
     "metadata": {},
     "output_type": "display_data"
    },
    {
     "data": {
      "application/vnd.jupyter.widget-view+json": {
       "model_id": "a8d60fb1fb89497c839a4d0adfeee1ff",
       "version_major": 2,
       "version_minor": 0
      },
      "text/plain": [
       "  0%|          | 0/4000 [00:00<?, ?it/s]"
      ]
     },
     "metadata": {},
     "output_type": "display_data"
    },
    {
     "data": {
      "application/vnd.jupyter.widget-view+json": {
       "model_id": "92ab6d87a85e49d296f8b3b84e1c4b13",
       "version_major": 2,
       "version_minor": 0
      },
      "text/plain": [
       "  0%|          | 0/4000 [00:00<?, ?it/s]"
      ]
     },
     "metadata": {},
     "output_type": "display_data"
    },
    {
     "data": {
      "application/vnd.jupyter.widget-view+json": {
       "model_id": "a677ac3efbf6411c9d53d17c3ac0b7ff",
       "version_major": 2,
       "version_minor": 0
      },
      "text/plain": [
       "  0%|          | 0/4000 [00:00<?, ?it/s]"
      ]
     },
     "metadata": {},
     "output_type": "display_data"
    },
    {
     "data": {
      "application/vnd.jupyter.widget-view+json": {
       "model_id": "ebcfa195ea944de6a7a5875dd5dfadf8",
       "version_major": 2,
       "version_minor": 0
      },
      "text/plain": [
       "  0%|          | 0/4000 [00:00<?, ?it/s]"
      ]
     },
     "metadata": {},
     "output_type": "display_data"
    },
    {
     "data": {
      "application/vnd.jupyter.widget-view+json": {
       "model_id": "59af60a007304022b13b83699a8aefb1",
       "version_major": 2,
       "version_minor": 0
      },
      "text/plain": [
       "  0%|          | 0/4000 [00:00<?, ?it/s]"
      ]
     },
     "metadata": {},
     "output_type": "display_data"
    },
    {
     "data": {
      "application/vnd.jupyter.widget-view+json": {
       "model_id": "9df38b27f64d43eca9c43c8e1a858bd7",
       "version_major": 2,
       "version_minor": 0
      },
      "text/plain": [
       "  0%|          | 0/4000 [00:00<?, ?it/s]"
      ]
     },
     "metadata": {},
     "output_type": "display_data"
    },
    {
     "data": {
      "application/vnd.jupyter.widget-view+json": {
       "model_id": "d9b24c9808864a35861c0e715e1ecd07",
       "version_major": 2,
       "version_minor": 0
      },
      "text/plain": [
       "  0%|          | 0/4000 [00:00<?, ?it/s]"
      ]
     },
     "metadata": {},
     "output_type": "display_data"
    },
    {
     "data": {
      "application/vnd.jupyter.widget-view+json": {
       "model_id": "b87b42ac023747859b1e3d9e5d693874",
       "version_major": 2,
       "version_minor": 0
      },
      "text/plain": [
       "  0%|          | 0/4000 [00:00<?, ?it/s]"
      ]
     },
     "metadata": {},
     "output_type": "display_data"
    },
    {
     "data": {
      "application/vnd.jupyter.widget-view+json": {
       "model_id": "445750603cf44573bcedb796d9803e17",
       "version_major": 2,
       "version_minor": 0
      },
      "text/plain": [
       "  0%|          | 0/4000 [00:00<?, ?it/s]"
      ]
     },
     "metadata": {},
     "output_type": "display_data"
    },
    {
     "data": {
      "application/vnd.jupyter.widget-view+json": {
       "model_id": "c1d4593dbe1d41148f8c0aa4d19c336d",
       "version_major": 2,
       "version_minor": 0
      },
      "text/plain": [
       "  0%|          | 0/4000 [00:00<?, ?it/s]"
      ]
     },
     "metadata": {},
     "output_type": "display_data"
    },
    {
     "data": {
      "application/vnd.jupyter.widget-view+json": {
       "model_id": "ab157975efa84e049677e52a0c99fee6",
       "version_major": 2,
       "version_minor": 0
      },
      "text/plain": [
       "  0%|          | 0/4000 [00:00<?, ?it/s]"
      ]
     },
     "metadata": {},
     "output_type": "display_data"
    },
    {
     "data": {
      "application/vnd.jupyter.widget-view+json": {
       "model_id": "e748c4dba534405d87e0a766d6eed881",
       "version_major": 2,
       "version_minor": 0
      },
      "text/plain": [
       "  0%|          | 0/4000 [00:00<?, ?it/s]"
      ]
     },
     "metadata": {},
     "output_type": "display_data"
    },
    {
     "data": {
      "application/vnd.jupyter.widget-view+json": {
       "model_id": "05753b23ee304652a96e98c736e629d0",
       "version_major": 2,
       "version_minor": 0
      },
      "text/plain": [
       "  0%|          | 0/4000 [00:00<?, ?it/s]"
      ]
     },
     "metadata": {},
     "output_type": "display_data"
    },
    {
     "data": {
      "application/vnd.jupyter.widget-view+json": {
       "model_id": "e7de4ec803534809a2202dadc2a49905",
       "version_major": 2,
       "version_minor": 0
      },
      "text/plain": [
       "  0%|          | 0/4000 [00:00<?, ?it/s]"
      ]
     },
     "metadata": {},
     "output_type": "display_data"
    },
    {
     "data": {
      "application/vnd.jupyter.widget-view+json": {
       "model_id": "1f7f60495e38429ab93ab127508ab484",
       "version_major": 2,
       "version_minor": 0
      },
      "text/plain": [
       "  0%|          | 0/4000 [00:00<?, ?it/s]"
      ]
     },
     "metadata": {},
     "output_type": "display_data"
    },
    {
     "data": {
      "application/vnd.jupyter.widget-view+json": {
       "model_id": "a8841440906d49e5a2bc4edebcf21e72",
       "version_major": 2,
       "version_minor": 0
      },
      "text/plain": [
       "  0%|          | 0/4000 [00:00<?, ?it/s]"
      ]
     },
     "metadata": {},
     "output_type": "display_data"
    },
    {
     "data": {
      "application/vnd.jupyter.widget-view+json": {
       "model_id": "098440bcdfba43e69dfc993dca891943",
       "version_major": 2,
       "version_minor": 0
      },
      "text/plain": [
       "  0%|          | 0/4000 [00:00<?, ?it/s]"
      ]
     },
     "metadata": {},
     "output_type": "display_data"
    },
    {
     "data": {
      "application/vnd.jupyter.widget-view+json": {
       "model_id": "625d49bec8ae4a06b94985288b0cf91f",
       "version_major": 2,
       "version_minor": 0
      },
      "text/plain": [
       "  0%|          | 0/4000 [00:00<?, ?it/s]"
      ]
     },
     "metadata": {},
     "output_type": "display_data"
    },
    {
     "data": {
      "application/vnd.jupyter.widget-view+json": {
       "model_id": "959e83cde38b4afca972122fd1dfc55c",
       "version_major": 2,
       "version_minor": 0
      },
      "text/plain": [
       "  0%|          | 0/4000 [00:00<?, ?it/s]"
      ]
     },
     "metadata": {},
     "output_type": "display_data"
    },
    {
     "data": {
      "application/vnd.jupyter.widget-view+json": {
       "model_id": "7cd013857d7b4ab49573271865838eab",
       "version_major": 2,
       "version_minor": 0
      },
      "text/plain": [
       "  0%|          | 0/4000 [00:00<?, ?it/s]"
      ]
     },
     "metadata": {},
     "output_type": "display_data"
    },
    {
     "data": {
      "application/vnd.jupyter.widget-view+json": {
       "model_id": "07424a0f4bd44462aaa3b1392894744a",
       "version_major": 2,
       "version_minor": 0
      },
      "text/plain": [
       "  0%|          | 0/4000 [00:00<?, ?it/s]"
      ]
     },
     "metadata": {},
     "output_type": "display_data"
    },
    {
     "data": {
      "application/vnd.jupyter.widget-view+json": {
       "model_id": "8ec06e6827614f57b8f7740077a68b72",
       "version_major": 2,
       "version_minor": 0
      },
      "text/plain": [
       "  0%|          | 0/4000 [00:00<?, ?it/s]"
      ]
     },
     "metadata": {},
     "output_type": "display_data"
    },
    {
     "data": {
      "application/vnd.jupyter.widget-view+json": {
       "model_id": "bb3b9cfdbc3046379f5f29f027709ead",
       "version_major": 2,
       "version_minor": 0
      },
      "text/plain": [
       "  0%|          | 0/4000 [00:00<?, ?it/s]"
      ]
     },
     "metadata": {},
     "output_type": "display_data"
    },
    {
     "data": {
      "application/vnd.jupyter.widget-view+json": {
       "model_id": "94a4fdd589f643378a57f96e6ba32966",
       "version_major": 2,
       "version_minor": 0
      },
      "text/plain": [
       "  0%|          | 0/4000 [00:00<?, ?it/s]"
      ]
     },
     "metadata": {},
     "output_type": "display_data"
    },
    {
     "data": {
      "application/vnd.jupyter.widget-view+json": {
       "model_id": "4308e27adab247bfa1db68afb6d3ac1b",
       "version_major": 2,
       "version_minor": 0
      },
      "text/plain": [
       "  0%|          | 0/4000 [00:00<?, ?it/s]"
      ]
     },
     "metadata": {},
     "output_type": "display_data"
    },
    {
     "data": {
      "application/vnd.jupyter.widget-view+json": {
       "model_id": "7e5da135767c4995b6cce7c5155c3ba4",
       "version_major": 2,
       "version_minor": 0
      },
      "text/plain": [
       "  0%|          | 0/4000 [00:00<?, ?it/s]"
      ]
     },
     "metadata": {},
     "output_type": "display_data"
    },
    {
     "data": {
      "application/vnd.jupyter.widget-view+json": {
       "model_id": "84653e86ac484f8bb43e081bdf2df596",
       "version_major": 2,
       "version_minor": 0
      },
      "text/plain": [
       "  0%|          | 0/4000 [00:00<?, ?it/s]"
      ]
     },
     "metadata": {},
     "output_type": "display_data"
    },
    {
     "data": {
      "application/vnd.jupyter.widget-view+json": {
       "model_id": "e27cc98646fd4bafa074786f76114b62",
       "version_major": 2,
       "version_minor": 0
      },
      "text/plain": [
       "  0%|          | 0/4000 [00:00<?, ?it/s]"
      ]
     },
     "metadata": {},
     "output_type": "display_data"
    },
    {
     "data": {
      "application/vnd.jupyter.widget-view+json": {
       "model_id": "15a10e912a60408b9b7de709d1fac472",
       "version_major": 2,
       "version_minor": 0
      },
      "text/plain": [
       "  0%|          | 0/4000 [00:00<?, ?it/s]"
      ]
     },
     "metadata": {},
     "output_type": "display_data"
    },
    {
     "data": {
      "application/vnd.jupyter.widget-view+json": {
       "model_id": "ba53a55b66fc4be1b5168a8750d443da",
       "version_major": 2,
       "version_minor": 0
      },
      "text/plain": [
       "  0%|          | 0/4000 [00:00<?, ?it/s]"
      ]
     },
     "metadata": {},
     "output_type": "display_data"
    },
    {
     "data": {
      "application/vnd.jupyter.widget-view+json": {
       "model_id": "a6e80815537d4131bc107d780e615a42",
       "version_major": 2,
       "version_minor": 0
      },
      "text/plain": [
       "  0%|          | 0/4000 [00:00<?, ?it/s]"
      ]
     },
     "metadata": {},
     "output_type": "display_data"
    },
    {
     "data": {
      "application/vnd.jupyter.widget-view+json": {
       "model_id": "d9e7bd474f8a4bc2a1b510cfd44ea600",
       "version_major": 2,
       "version_minor": 0
      },
      "text/plain": [
       "  0%|          | 0/4000 [00:00<?, ?it/s]"
      ]
     },
     "metadata": {},
     "output_type": "display_data"
    },
    {
     "data": {
      "application/vnd.jupyter.widget-view+json": {
       "model_id": "35f59b6cc89d46d1a673dd439edae5fa",
       "version_major": 2,
       "version_minor": 0
      },
      "text/plain": [
       "  0%|          | 0/4000 [00:00<?, ?it/s]"
      ]
     },
     "metadata": {},
     "output_type": "display_data"
    },
    {
     "data": {
      "application/vnd.jupyter.widget-view+json": {
       "model_id": "7b1274d3be2842508dcbb545469e24ab",
       "version_major": 2,
       "version_minor": 0
      },
      "text/plain": [
       "  0%|          | 0/4000 [00:00<?, ?it/s]"
      ]
     },
     "metadata": {},
     "output_type": "display_data"
    },
    {
     "data": {
      "application/vnd.jupyter.widget-view+json": {
       "model_id": "bd83b5072a784e22809732688cabbc90",
       "version_major": 2,
       "version_minor": 0
      },
      "text/plain": [
       "  0%|          | 0/4000 [00:00<?, ?it/s]"
      ]
     },
     "metadata": {},
     "output_type": "display_data"
    },
    {
     "data": {
      "application/vnd.jupyter.widget-view+json": {
       "model_id": "13ae0f71738b4137a14f74e49ffa82ff",
       "version_major": 2,
       "version_minor": 0
      },
      "text/plain": [
       "  0%|          | 0/4000 [00:00<?, ?it/s]"
      ]
     },
     "metadata": {},
     "output_type": "display_data"
    },
    {
     "data": {
      "application/vnd.jupyter.widget-view+json": {
       "model_id": "290103e3d0cc49a6bb5e35c9b27e4686",
       "version_major": 2,
       "version_minor": 0
      },
      "text/plain": [
       "  0%|          | 0/4000 [00:00<?, ?it/s]"
      ]
     },
     "metadata": {},
     "output_type": "display_data"
    },
    {
     "data": {
      "application/vnd.jupyter.widget-view+json": {
       "model_id": "8c638445559a484394c6c87bffefd25d",
       "version_major": 2,
       "version_minor": 0
      },
      "text/plain": [
       "  0%|          | 0/4000 [00:00<?, ?it/s]"
      ]
     },
     "metadata": {},
     "output_type": "display_data"
    },
    {
     "data": {
      "application/vnd.jupyter.widget-view+json": {
       "model_id": "a8958e44bea04b4a9638111bd996460b",
       "version_major": 2,
       "version_minor": 0
      },
      "text/plain": [
       "  0%|          | 0/4000 [00:00<?, ?it/s]"
      ]
     },
     "metadata": {},
     "output_type": "display_data"
    },
    {
     "data": {
      "application/vnd.jupyter.widget-view+json": {
       "model_id": "9bb17647d69e43abbaae7dddb8e52da0",
       "version_major": 2,
       "version_minor": 0
      },
      "text/plain": [
       "  0%|          | 0/4000 [00:00<?, ?it/s]"
      ]
     },
     "metadata": {},
     "output_type": "display_data"
    },
    {
     "data": {
      "application/vnd.jupyter.widget-view+json": {
       "model_id": "c87ccbcf875441458755409068f1028e",
       "version_major": 2,
       "version_minor": 0
      },
      "text/plain": [
       "  0%|          | 0/4000 [00:00<?, ?it/s]"
      ]
     },
     "metadata": {},
     "output_type": "display_data"
    },
    {
     "data": {
      "application/vnd.jupyter.widget-view+json": {
       "model_id": "8eabe776f5e84f63bd7f848984258e6a",
       "version_major": 2,
       "version_minor": 0
      },
      "text/plain": [
       "  0%|          | 0/4000 [00:00<?, ?it/s]"
      ]
     },
     "metadata": {},
     "output_type": "display_data"
    },
    {
     "data": {
      "application/vnd.jupyter.widget-view+json": {
       "model_id": "5a65e637785440848fd5b8643432c26b",
       "version_major": 2,
       "version_minor": 0
      },
      "text/plain": [
       "  0%|          | 0/4000 [00:00<?, ?it/s]"
      ]
     },
     "metadata": {},
     "output_type": "display_data"
    },
    {
     "data": {
      "application/vnd.jupyter.widget-view+json": {
       "model_id": "3f0979952d0f4197a1b700ba92485810",
       "version_major": 2,
       "version_minor": 0
      },
      "text/plain": [
       "  0%|          | 0/4000 [00:00<?, ?it/s]"
      ]
     },
     "metadata": {},
     "output_type": "display_data"
    },
    {
     "data": {
      "application/vnd.jupyter.widget-view+json": {
       "model_id": "0bcc89e5b3a94a9c99b4e2c6d684baad",
       "version_major": 2,
       "version_minor": 0
      },
      "text/plain": [
       "  0%|          | 0/4000 [00:00<?, ?it/s]"
      ]
     },
     "metadata": {},
     "output_type": "display_data"
    },
    {
     "data": {
      "application/vnd.jupyter.widget-view+json": {
       "model_id": "20317d1dac09457aaf4e47f5038d47d8",
       "version_major": 2,
       "version_minor": 0
      },
      "text/plain": [
       "  0%|          | 0/4000 [00:00<?, ?it/s]"
      ]
     },
     "metadata": {},
     "output_type": "display_data"
    },
    {
     "data": {
      "application/vnd.jupyter.widget-view+json": {
       "model_id": "1d8dc2ba5e2d42e993fa3b64bd62d2fb",
       "version_major": 2,
       "version_minor": 0
      },
      "text/plain": [
       "  0%|          | 0/4000 [00:00<?, ?it/s]"
      ]
     },
     "metadata": {},
     "output_type": "display_data"
    },
    {
     "data": {
      "application/vnd.jupyter.widget-view+json": {
       "model_id": "3cd939f1c20441d9987607bba263611b",
       "version_major": 2,
       "version_minor": 0
      },
      "text/plain": [
       "  0%|          | 0/4000 [00:00<?, ?it/s]"
      ]
     },
     "metadata": {},
     "output_type": "display_data"
    },
    {
     "data": {
      "application/vnd.jupyter.widget-view+json": {
       "model_id": "500bafc092b441818367fef340e6f2ba",
       "version_major": 2,
       "version_minor": 0
      },
      "text/plain": [
       "  0%|          | 0/4000 [00:00<?, ?it/s]"
      ]
     },
     "metadata": {},
     "output_type": "display_data"
    },
    {
     "data": {
      "application/vnd.jupyter.widget-view+json": {
       "model_id": "487016da7cab4b2d87e971d75196ed7c",
       "version_major": 2,
       "version_minor": 0
      },
      "text/plain": [
       "  0%|          | 0/4000 [00:00<?, ?it/s]"
      ]
     },
     "metadata": {},
     "output_type": "display_data"
    },
    {
     "data": {
      "application/vnd.jupyter.widget-view+json": {
       "model_id": "c87c560e5aa948e1b74b664ce4d3c07d",
       "version_major": 2,
       "version_minor": 0
      },
      "text/plain": [
       "  0%|          | 0/4000 [00:00<?, ?it/s]"
      ]
     },
     "metadata": {},
     "output_type": "display_data"
    },
    {
     "data": {
      "application/vnd.jupyter.widget-view+json": {
       "model_id": "438ca9d3cec7471291dba72a2a143818",
       "version_major": 2,
       "version_minor": 0
      },
      "text/plain": [
       "  0%|          | 0/4000 [00:00<?, ?it/s]"
      ]
     },
     "metadata": {},
     "output_type": "display_data"
    },
    {
     "data": {
      "application/vnd.jupyter.widget-view+json": {
       "model_id": "24dea566830b41e29084b2ed254587f7",
       "version_major": 2,
       "version_minor": 0
      },
      "text/plain": [
       "  0%|          | 0/4000 [00:00<?, ?it/s]"
      ]
     },
     "metadata": {},
     "output_type": "display_data"
    },
    {
     "data": {
      "application/vnd.jupyter.widget-view+json": {
       "model_id": "8eb78298356d45e6875974a5ef61840c",
       "version_major": 2,
       "version_minor": 0
      },
      "text/plain": [
       "  0%|          | 0/4000 [00:00<?, ?it/s]"
      ]
     },
     "metadata": {},
     "output_type": "display_data"
    },
    {
     "data": {
      "application/vnd.jupyter.widget-view+json": {
       "model_id": "36f09aa3146e4abd9b8178bd330aba80",
       "version_major": 2,
       "version_minor": 0
      },
      "text/plain": [
       "  0%|          | 0/4000 [00:00<?, ?it/s]"
      ]
     },
     "metadata": {},
     "output_type": "display_data"
    },
    {
     "data": {
      "application/vnd.jupyter.widget-view+json": {
       "model_id": "75092ede8dbe435c8ca6101b3c840f28",
       "version_major": 2,
       "version_minor": 0
      },
      "text/plain": [
       "  0%|          | 0/4000 [00:00<?, ?it/s]"
      ]
     },
     "metadata": {},
     "output_type": "display_data"
    },
    {
     "data": {
      "application/vnd.jupyter.widget-view+json": {
       "model_id": "fd62ce81c4fe402083f1d9473b99c01c",
       "version_major": 2,
       "version_minor": 0
      },
      "text/plain": [
       "  0%|          | 0/4000 [00:00<?, ?it/s]"
      ]
     },
     "metadata": {},
     "output_type": "display_data"
    },
    {
     "data": {
      "application/vnd.jupyter.widget-view+json": {
       "model_id": "a4a919b17c0d4da29a9a5998572f043d",
       "version_major": 2,
       "version_minor": 0
      },
      "text/plain": [
       "  0%|          | 0/4000 [00:00<?, ?it/s]"
      ]
     },
     "metadata": {},
     "output_type": "display_data"
    },
    {
     "data": {
      "application/vnd.jupyter.widget-view+json": {
       "model_id": "2872436e25af49c9865062a3d92bccb2",
       "version_major": 2,
       "version_minor": 0
      },
      "text/plain": [
       "  0%|          | 0/4000 [00:00<?, ?it/s]"
      ]
     },
     "metadata": {},
     "output_type": "display_data"
    },
    {
     "data": {
      "application/vnd.jupyter.widget-view+json": {
       "model_id": "e126a2f0ae0d41359403a58c4bffddc4",
       "version_major": 2,
       "version_minor": 0
      },
      "text/plain": [
       "  0%|          | 0/4000 [00:00<?, ?it/s]"
      ]
     },
     "metadata": {},
     "output_type": "display_data"
    },
    {
     "data": {
      "application/vnd.jupyter.widget-view+json": {
       "model_id": "7b158768d63c400f8e421a4a044da86f",
       "version_major": 2,
       "version_minor": 0
      },
      "text/plain": [
       "  0%|          | 0/4000 [00:00<?, ?it/s]"
      ]
     },
     "metadata": {},
     "output_type": "display_data"
    },
    {
     "data": {
      "application/vnd.jupyter.widget-view+json": {
       "model_id": "2049d3eff6794c37b18c747de9caf3a0",
       "version_major": 2,
       "version_minor": 0
      },
      "text/plain": [
       "  0%|          | 0/4000 [00:00<?, ?it/s]"
      ]
     },
     "metadata": {},
     "output_type": "display_data"
    },
    {
     "data": {
      "application/vnd.jupyter.widget-view+json": {
       "model_id": "3f32851262c64f108c3f33ee29aa08da",
       "version_major": 2,
       "version_minor": 0
      },
      "text/plain": [
       "  0%|          | 0/4000 [00:00<?, ?it/s]"
      ]
     },
     "metadata": {},
     "output_type": "display_data"
    },
    {
     "data": {
      "application/vnd.jupyter.widget-view+json": {
       "model_id": "7f4b46e3ec2b4b79826c9182be468876",
       "version_major": 2,
       "version_minor": 0
      },
      "text/plain": [
       "  0%|          | 0/4000 [00:00<?, ?it/s]"
      ]
     },
     "metadata": {},
     "output_type": "display_data"
    },
    {
     "data": {
      "application/vnd.jupyter.widget-view+json": {
       "model_id": "ae3d47ae65974ea1b27e258912158e78",
       "version_major": 2,
       "version_minor": 0
      },
      "text/plain": [
       "  0%|          | 0/4000 [00:00<?, ?it/s]"
      ]
     },
     "metadata": {},
     "output_type": "display_data"
    },
    {
     "data": {
      "application/vnd.jupyter.widget-view+json": {
       "model_id": "4d33111d123d42f2b966ba4c6468e3c4",
       "version_major": 2,
       "version_minor": 0
      },
      "text/plain": [
       "  0%|          | 0/4000 [00:00<?, ?it/s]"
      ]
     },
     "metadata": {},
     "output_type": "display_data"
    },
    {
     "data": {
      "application/vnd.jupyter.widget-view+json": {
       "model_id": "572c52299cb04b98a02a7ed384f3fe38",
       "version_major": 2,
       "version_minor": 0
      },
      "text/plain": [
       "  0%|          | 0/4000 [00:00<?, ?it/s]"
      ]
     },
     "metadata": {},
     "output_type": "display_data"
    },
    {
     "data": {
      "application/vnd.jupyter.widget-view+json": {
       "model_id": "761789faf5c543dea3f33bdd31990f03",
       "version_major": 2,
       "version_minor": 0
      },
      "text/plain": [
       "  0%|          | 0/4000 [00:00<?, ?it/s]"
      ]
     },
     "metadata": {},
     "output_type": "display_data"
    },
    {
     "data": {
      "application/vnd.jupyter.widget-view+json": {
       "model_id": "d7a04e37af9e4c2b9fdf7ec35bf498a1",
       "version_major": 2,
       "version_minor": 0
      },
      "text/plain": [
       "  0%|          | 0/4000 [00:00<?, ?it/s]"
      ]
     },
     "metadata": {},
     "output_type": "display_data"
    },
    {
     "data": {
      "application/vnd.jupyter.widget-view+json": {
       "model_id": "72926750bf14405db3904c166245b75d",
       "version_major": 2,
       "version_minor": 0
      },
      "text/plain": [
       "  0%|          | 0/4000 [00:00<?, ?it/s]"
      ]
     },
     "metadata": {},
     "output_type": "display_data"
    },
    {
     "data": {
      "application/vnd.jupyter.widget-view+json": {
       "model_id": "91eb5e030d8442e1a7b13501f3f414f5",
       "version_major": 2,
       "version_minor": 0
      },
      "text/plain": [
       "  0%|          | 0/4000 [00:00<?, ?it/s]"
      ]
     },
     "metadata": {},
     "output_type": "display_data"
    },
    {
     "data": {
      "application/vnd.jupyter.widget-view+json": {
       "model_id": "37db6b0f84ed4674b55d5d546aca9312",
       "version_major": 2,
       "version_minor": 0
      },
      "text/plain": [
       "  0%|          | 0/4000 [00:00<?, ?it/s]"
      ]
     },
     "metadata": {},
     "output_type": "display_data"
    },
    {
     "data": {
      "application/vnd.jupyter.widget-view+json": {
       "model_id": "8c5e295a52b54cc7b9b36110d78f69f9",
       "version_major": 2,
       "version_minor": 0
      },
      "text/plain": [
       "  0%|          | 0/4000 [00:00<?, ?it/s]"
      ]
     },
     "metadata": {},
     "output_type": "display_data"
    },
    {
     "data": {
      "application/vnd.jupyter.widget-view+json": {
       "model_id": "9cd2fe22964b4cd9b127ef8b9b2e81b1",
       "version_major": 2,
       "version_minor": 0
      },
      "text/plain": [
       "  0%|          | 0/4000 [00:00<?, ?it/s]"
      ]
     },
     "metadata": {},
     "output_type": "display_data"
    },
    {
     "data": {
      "application/vnd.jupyter.widget-view+json": {
       "model_id": "d30cfb6199064f95bd50ea82f1bbfeaa",
       "version_major": 2,
       "version_minor": 0
      },
      "text/plain": [
       "  0%|          | 0/4000 [00:00<?, ?it/s]"
      ]
     },
     "metadata": {},
     "output_type": "display_data"
    },
    {
     "data": {
      "application/vnd.jupyter.widget-view+json": {
       "model_id": "65920d0d458a4c70a46b8db5cf31087a",
       "version_major": 2,
       "version_minor": 0
      },
      "text/plain": [
       "  0%|          | 0/4000 [00:00<?, ?it/s]"
      ]
     },
     "metadata": {},
     "output_type": "display_data"
    },
    {
     "data": {
      "application/vnd.jupyter.widget-view+json": {
       "model_id": "cdb938fbc60a48558e9f07ae38c52b4f",
       "version_major": 2,
       "version_minor": 0
      },
      "text/plain": [
       "  0%|          | 0/4000 [00:00<?, ?it/s]"
      ]
     },
     "metadata": {},
     "output_type": "display_data"
    },
    {
     "data": {
      "application/vnd.jupyter.widget-view+json": {
       "model_id": "e8d83022e2e94dc08d9705cf76c9d952",
       "version_major": 2,
       "version_minor": 0
      },
      "text/plain": [
       "  0%|          | 0/4000 [00:00<?, ?it/s]"
      ]
     },
     "metadata": {},
     "output_type": "display_data"
    },
    {
     "data": {
      "application/vnd.jupyter.widget-view+json": {
       "model_id": "f6010a1ddc634cab85d1bdf793225ed0",
       "version_major": 2,
       "version_minor": 0
      },
      "text/plain": [
       "  0%|          | 0/4000 [00:00<?, ?it/s]"
      ]
     },
     "metadata": {},
     "output_type": "display_data"
    },
    {
     "data": {
      "application/vnd.jupyter.widget-view+json": {
       "model_id": "ddf917e35d1a4aaaaf0211c6493fac61",
       "version_major": 2,
       "version_minor": 0
      },
      "text/plain": [
       "  0%|          | 0/4000 [00:00<?, ?it/s]"
      ]
     },
     "metadata": {},
     "output_type": "display_data"
    },
    {
     "data": {
      "application/vnd.jupyter.widget-view+json": {
       "model_id": "8a14bc224d9d41c6855eb0717b18d48a",
       "version_major": 2,
       "version_minor": 0
      },
      "text/plain": [
       "  0%|          | 0/4000 [00:00<?, ?it/s]"
      ]
     },
     "metadata": {},
     "output_type": "display_data"
    },
    {
     "data": {
      "application/vnd.jupyter.widget-view+json": {
       "model_id": "ddfd57f2790e471499bfd81c90a3914a",
       "version_major": 2,
       "version_minor": 0
      },
      "text/plain": [
       "  0%|          | 0/4000 [00:00<?, ?it/s]"
      ]
     },
     "metadata": {},
     "output_type": "display_data"
    },
    {
     "data": {
      "application/vnd.jupyter.widget-view+json": {
       "model_id": "3398cb839a824faf99c981080630b621",
       "version_major": 2,
       "version_minor": 0
      },
      "text/plain": [
       "  0%|          | 0/4000 [00:00<?, ?it/s]"
      ]
     },
     "metadata": {},
     "output_type": "display_data"
    },
    {
     "data": {
      "application/vnd.jupyter.widget-view+json": {
       "model_id": "0f8b8037bcef4a54be62e1168fb118f0",
       "version_major": 2,
       "version_minor": 0
      },
      "text/plain": [
       "  0%|          | 0/4000 [00:00<?, ?it/s]"
      ]
     },
     "metadata": {},
     "output_type": "display_data"
    },
    {
     "data": {
      "application/vnd.jupyter.widget-view+json": {
       "model_id": "2a37e6585e814887afe68f13a5c5fb86",
       "version_major": 2,
       "version_minor": 0
      },
      "text/plain": [
       "  0%|          | 0/4000 [00:00<?, ?it/s]"
      ]
     },
     "metadata": {},
     "output_type": "display_data"
    },
    {
     "data": {
      "application/vnd.jupyter.widget-view+json": {
       "model_id": "4a18f61fb3fa440c8dd1b81342cfeb95",
       "version_major": 2,
       "version_minor": 0
      },
      "text/plain": [
       "  0%|          | 0/4000 [00:00<?, ?it/s]"
      ]
     },
     "metadata": {},
     "output_type": "display_data"
    },
    {
     "data": {
      "application/vnd.jupyter.widget-view+json": {
       "model_id": "f71b2c2005644ab5a6f9e29b3578e396",
       "version_major": 2,
       "version_minor": 0
      },
      "text/plain": [
       "  0%|          | 0/4000 [00:00<?, ?it/s]"
      ]
     },
     "metadata": {},
     "output_type": "display_data"
    },
    {
     "data": {
      "application/vnd.jupyter.widget-view+json": {
       "model_id": "f0de7afb202d45f88306ae762c9e878f",
       "version_major": 2,
       "version_minor": 0
      },
      "text/plain": [
       "  0%|          | 0/4000 [00:00<?, ?it/s]"
      ]
     },
     "metadata": {},
     "output_type": "display_data"
    },
    {
     "data": {
      "application/vnd.jupyter.widget-view+json": {
       "model_id": "21aca679ec154c3e9a9c18be82654c00",
       "version_major": 2,
       "version_minor": 0
      },
      "text/plain": [
       "  0%|          | 0/4000 [00:00<?, ?it/s]"
      ]
     },
     "metadata": {},
     "output_type": "display_data"
    },
    {
     "data": {
      "application/vnd.jupyter.widget-view+json": {
       "model_id": "ed58e93ba95d43658937888f73ce7c09",
       "version_major": 2,
       "version_minor": 0
      },
      "text/plain": [
       "  0%|          | 0/4000 [00:00<?, ?it/s]"
      ]
     },
     "metadata": {},
     "output_type": "display_data"
    },
    {
     "data": {
      "application/vnd.jupyter.widget-view+json": {
       "model_id": "8d07cab8f8f34cdaad152bdb44b22169",
       "version_major": 2,
       "version_minor": 0
      },
      "text/plain": [
       "  0%|          | 0/4000 [00:00<?, ?it/s]"
      ]
     },
     "metadata": {},
     "output_type": "display_data"
    },
    {
     "data": {
      "application/vnd.jupyter.widget-view+json": {
       "model_id": "a74c39c785e14576ab43a857e5062810",
       "version_major": 2,
       "version_minor": 0
      },
      "text/plain": [
       "  0%|          | 0/4000 [00:00<?, ?it/s]"
      ]
     },
     "metadata": {},
     "output_type": "display_data"
    },
    {
     "data": {
      "application/vnd.jupyter.widget-view+json": {
       "model_id": "313de2686baa426498366dc115a99c92",
       "version_major": 2,
       "version_minor": 0
      },
      "text/plain": [
       "  0%|          | 0/4000 [00:00<?, ?it/s]"
      ]
     },
     "metadata": {},
     "output_type": "display_data"
    },
    {
     "data": {
      "application/vnd.jupyter.widget-view+json": {
       "model_id": "21ac7a14cc20437092875ee32daa672b",
       "version_major": 2,
       "version_minor": 0
      },
      "text/plain": [
       "  0%|          | 0/4000 [00:00<?, ?it/s]"
      ]
     },
     "metadata": {},
     "output_type": "display_data"
    },
    {
     "data": {
      "application/vnd.jupyter.widget-view+json": {
       "model_id": "868bcc3773514c67a61b9a8c46a4b1a4",
       "version_major": 2,
       "version_minor": 0
      },
      "text/plain": [
       "  0%|          | 0/4000 [00:00<?, ?it/s]"
      ]
     },
     "metadata": {},
     "output_type": "display_data"
    },
    {
     "data": {
      "application/vnd.jupyter.widget-view+json": {
       "model_id": "9a7435c25cc54df888233706e610993e",
       "version_major": 2,
       "version_minor": 0
      },
      "text/plain": [
       "  0%|          | 0/4000 [00:00<?, ?it/s]"
      ]
     },
     "metadata": {},
     "output_type": "display_data"
    },
    {
     "data": {
      "application/vnd.jupyter.widget-view+json": {
       "model_id": "bbd260fc5d1e43e093e6b16cd15a325b",
       "version_major": 2,
       "version_minor": 0
      },
      "text/plain": [
       "  0%|          | 0/4000 [00:00<?, ?it/s]"
      ]
     },
     "metadata": {},
     "output_type": "display_data"
    },
    {
     "data": {
      "application/vnd.jupyter.widget-view+json": {
       "model_id": "afb0a59e650e4e738410843cba5aa1f2",
       "version_major": 2,
       "version_minor": 0
      },
      "text/plain": [
       "  0%|          | 0/4000 [00:00<?, ?it/s]"
      ]
     },
     "metadata": {},
     "output_type": "display_data"
    },
    {
     "data": {
      "application/vnd.jupyter.widget-view+json": {
       "model_id": "ac962de8e5e34fd68bf1a6cce22db5e8",
       "version_major": 2,
       "version_minor": 0
      },
      "text/plain": [
       "  0%|          | 0/4000 [00:00<?, ?it/s]"
      ]
     },
     "metadata": {},
     "output_type": "display_data"
    },
    {
     "data": {
      "application/vnd.jupyter.widget-view+json": {
       "model_id": "bc03f0c467234403aa86dc5db574668c",
       "version_major": 2,
       "version_minor": 0
      },
      "text/plain": [
       "  0%|          | 0/4000 [00:00<?, ?it/s]"
      ]
     },
     "metadata": {},
     "output_type": "display_data"
    },
    {
     "data": {
      "application/vnd.jupyter.widget-view+json": {
       "model_id": "fa636c84e7134ac4a9a57f29610a0c5b",
       "version_major": 2,
       "version_minor": 0
      },
      "text/plain": [
       "  0%|          | 0/4000 [00:00<?, ?it/s]"
      ]
     },
     "metadata": {},
     "output_type": "display_data"
    },
    {
     "data": {
      "application/vnd.jupyter.widget-view+json": {
       "model_id": "7f20770b3ef7469995443263123a7210",
       "version_major": 2,
       "version_minor": 0
      },
      "text/plain": [
       "  0%|          | 0/4000 [00:00<?, ?it/s]"
      ]
     },
     "metadata": {},
     "output_type": "display_data"
    },
    {
     "data": {
      "application/vnd.jupyter.widget-view+json": {
       "model_id": "24930533051349e99d3e5d00a33b9397",
       "version_major": 2,
       "version_minor": 0
      },
      "text/plain": [
       "  0%|          | 0/4000 [00:00<?, ?it/s]"
      ]
     },
     "metadata": {},
     "output_type": "display_data"
    },
    {
     "data": {
      "application/vnd.jupyter.widget-view+json": {
       "model_id": "e70e288582ab4922bb93c88639ad3e95",
       "version_major": 2,
       "version_minor": 0
      },
      "text/plain": [
       "  0%|          | 0/4000 [00:00<?, ?it/s]"
      ]
     },
     "metadata": {},
     "output_type": "display_data"
    },
    {
     "data": {
      "application/vnd.jupyter.widget-view+json": {
       "model_id": "81c5a9eaff004ba8990aa5d2121c8833",
       "version_major": 2,
       "version_minor": 0
      },
      "text/plain": [
       "  0%|          | 0/4000 [00:00<?, ?it/s]"
      ]
     },
     "metadata": {},
     "output_type": "display_data"
    },
    {
     "data": {
      "application/vnd.jupyter.widget-view+json": {
       "model_id": "be5aaaf6daff433a9c92f526b00989e0",
       "version_major": 2,
       "version_minor": 0
      },
      "text/plain": [
       "  0%|          | 0/4000 [00:00<?, ?it/s]"
      ]
     },
     "metadata": {},
     "output_type": "display_data"
    },
    {
     "data": {
      "application/vnd.jupyter.widget-view+json": {
       "model_id": "f3c1bf1ef53f4b5e90e1ed436d848abd",
       "version_major": 2,
       "version_minor": 0
      },
      "text/plain": [
       "  0%|          | 0/4000 [00:00<?, ?it/s]"
      ]
     },
     "metadata": {},
     "output_type": "display_data"
    },
    {
     "data": {
      "application/vnd.jupyter.widget-view+json": {
       "model_id": "fadb049ec19046b7bf1ab89c865d25d4",
       "version_major": 2,
       "version_minor": 0
      },
      "text/plain": [
       "  0%|          | 0/4000 [00:00<?, ?it/s]"
      ]
     },
     "metadata": {},
     "output_type": "display_data"
    },
    {
     "data": {
      "application/vnd.jupyter.widget-view+json": {
       "model_id": "f4d39871de714c71a66fed36187c2015",
       "version_major": 2,
       "version_minor": 0
      },
      "text/plain": [
       "  0%|          | 0/4000 [00:00<?, ?it/s]"
      ]
     },
     "metadata": {},
     "output_type": "display_data"
    },
    {
     "data": {
      "application/vnd.jupyter.widget-view+json": {
       "model_id": "7c0f35433c364f159d50b33df77ecf63",
       "version_major": 2,
       "version_minor": 0
      },
      "text/plain": [
       "  0%|          | 0/4000 [00:00<?, ?it/s]"
      ]
     },
     "metadata": {},
     "output_type": "display_data"
    },
    {
     "data": {
      "application/vnd.jupyter.widget-view+json": {
       "model_id": "0da467adcbec4c7b9ebc54f116b6b6a5",
       "version_major": 2,
       "version_minor": 0
      },
      "text/plain": [
       "  0%|          | 0/4000 [00:00<?, ?it/s]"
      ]
     },
     "metadata": {},
     "output_type": "display_data"
    },
    {
     "data": {
      "application/vnd.jupyter.widget-view+json": {
       "model_id": "8acff1d3e1ad47e68314b036bf8052a2",
       "version_major": 2,
       "version_minor": 0
      },
      "text/plain": [
       "  0%|          | 0/4000 [00:00<?, ?it/s]"
      ]
     },
     "metadata": {},
     "output_type": "display_data"
    },
    {
     "data": {
      "application/vnd.jupyter.widget-view+json": {
       "model_id": "6702eba745d24559a70162aa9b8ef89b",
       "version_major": 2,
       "version_minor": 0
      },
      "text/plain": [
       "  0%|          | 0/4000 [00:00<?, ?it/s]"
      ]
     },
     "metadata": {},
     "output_type": "display_data"
    },
    {
     "data": {
      "application/vnd.jupyter.widget-view+json": {
       "model_id": "d0ac14c5539449a5b5134958321f2811",
       "version_major": 2,
       "version_minor": 0
      },
      "text/plain": [
       "  0%|          | 0/4000 [00:00<?, ?it/s]"
      ]
     },
     "metadata": {},
     "output_type": "display_data"
    },
    {
     "data": {
      "application/vnd.jupyter.widget-view+json": {
       "model_id": "a875b27a3ed64db789c32eaa738b8f17",
       "version_major": 2,
       "version_minor": 0
      },
      "text/plain": [
       "  0%|          | 0/4000 [00:00<?, ?it/s]"
      ]
     },
     "metadata": {},
     "output_type": "display_data"
    },
    {
     "data": {
      "application/vnd.jupyter.widget-view+json": {
       "model_id": "feeaf3c9fa014e3ba877b179fa4edb90",
       "version_major": 2,
       "version_minor": 0
      },
      "text/plain": [
       "  0%|          | 0/4000 [00:00<?, ?it/s]"
      ]
     },
     "metadata": {},
     "output_type": "display_data"
    },
    {
     "data": {
      "application/vnd.jupyter.widget-view+json": {
       "model_id": "bd1ff7d552a64f9087822d3e9a8a979e",
       "version_major": 2,
       "version_minor": 0
      },
      "text/plain": [
       "  0%|          | 0/4000 [00:00<?, ?it/s]"
      ]
     },
     "metadata": {},
     "output_type": "display_data"
    },
    {
     "data": {
      "application/vnd.jupyter.widget-view+json": {
       "model_id": "818d17699ded4341a80cc97794493be5",
       "version_major": 2,
       "version_minor": 0
      },
      "text/plain": [
       "  0%|          | 0/4000 [00:00<?, ?it/s]"
      ]
     },
     "metadata": {},
     "output_type": "display_data"
    },
    {
     "data": {
      "application/vnd.jupyter.widget-view+json": {
       "model_id": "f0d3f04a494b41ddbb19056080fbf3bf",
       "version_major": 2,
       "version_minor": 0
      },
      "text/plain": [
       "  0%|          | 0/4000 [00:00<?, ?it/s]"
      ]
     },
     "metadata": {},
     "output_type": "display_data"
    },
    {
     "data": {
      "application/vnd.jupyter.widget-view+json": {
       "model_id": "80f50ab5087e4e65829b981948f165b5",
       "version_major": 2,
       "version_minor": 0
      },
      "text/plain": [
       "  0%|          | 0/4000 [00:00<?, ?it/s]"
      ]
     },
     "metadata": {},
     "output_type": "display_data"
    },
    {
     "data": {
      "application/vnd.jupyter.widget-view+json": {
       "model_id": "d98268d67c5d4ab995548c33669d8051",
       "version_major": 2,
       "version_minor": 0
      },
      "text/plain": [
       "  0%|          | 0/4000 [00:00<?, ?it/s]"
      ]
     },
     "metadata": {},
     "output_type": "display_data"
    },
    {
     "data": {
      "application/vnd.jupyter.widget-view+json": {
       "model_id": "2bab6797eb2d4a038a8f12dec47bbb27",
       "version_major": 2,
       "version_minor": 0
      },
      "text/plain": [
       "  0%|          | 0/4000 [00:00<?, ?it/s]"
      ]
     },
     "metadata": {},
     "output_type": "display_data"
    },
    {
     "data": {
      "application/vnd.jupyter.widget-view+json": {
       "model_id": "aa8a92aaa6a04d51b20b2ebc64e2728b",
       "version_major": 2,
       "version_minor": 0
      },
      "text/plain": [
       "  0%|          | 0/4000 [00:00<?, ?it/s]"
      ]
     },
     "metadata": {},
     "output_type": "display_data"
    },
    {
     "data": {
      "application/vnd.jupyter.widget-view+json": {
       "model_id": "bb60b4fed2644680a10ff089e62baf65",
       "version_major": 2,
       "version_minor": 0
      },
      "text/plain": [
       "  0%|          | 0/4000 [00:00<?, ?it/s]"
      ]
     },
     "metadata": {},
     "output_type": "display_data"
    },
    {
     "data": {
      "application/vnd.jupyter.widget-view+json": {
       "model_id": "420b234f53da4872b2a178b6b46cabdc",
       "version_major": 2,
       "version_minor": 0
      },
      "text/plain": [
       "  0%|          | 0/4000 [00:00<?, ?it/s]"
      ]
     },
     "metadata": {},
     "output_type": "display_data"
    },
    {
     "data": {
      "application/vnd.jupyter.widget-view+json": {
       "model_id": "054e8c10800b4be1b42a83f7a07d73a0",
       "version_major": 2,
       "version_minor": 0
      },
      "text/plain": [
       "  0%|          | 0/4000 [00:00<?, ?it/s]"
      ]
     },
     "metadata": {},
     "output_type": "display_data"
    },
    {
     "data": {
      "application/vnd.jupyter.widget-view+json": {
       "model_id": "f255b30aa9984605924a8d04c73ed8ba",
       "version_major": 2,
       "version_minor": 0
      },
      "text/plain": [
       "  0%|          | 0/4000 [00:00<?, ?it/s]"
      ]
     },
     "metadata": {},
     "output_type": "display_data"
    },
    {
     "data": {
      "application/vnd.jupyter.widget-view+json": {
       "model_id": "45b787049ca14d46a0387ba90297f032",
       "version_major": 2,
       "version_minor": 0
      },
      "text/plain": [
       "  0%|          | 0/4000 [00:00<?, ?it/s]"
      ]
     },
     "metadata": {},
     "output_type": "display_data"
    },
    {
     "data": {
      "application/vnd.jupyter.widget-view+json": {
       "model_id": "ac52fec881574225b0150325efd58e49",
       "version_major": 2,
       "version_minor": 0
      },
      "text/plain": [
       "  0%|          | 0/4000 [00:00<?, ?it/s]"
      ]
     },
     "metadata": {},
     "output_type": "display_data"
    },
    {
     "data": {
      "application/vnd.jupyter.widget-view+json": {
       "model_id": "9b919336d9b444b8aa9025c19a19bc64",
       "version_major": 2,
       "version_minor": 0
      },
      "text/plain": [
       "  0%|          | 0/4000 [00:00<?, ?it/s]"
      ]
     },
     "metadata": {},
     "output_type": "display_data"
    },
    {
     "data": {
      "application/vnd.jupyter.widget-view+json": {
       "model_id": "918dd1c1807a4abca3e22d9afbcf9d14",
       "version_major": 2,
       "version_minor": 0
      },
      "text/plain": [
       "  0%|          | 0/4000 [00:00<?, ?it/s]"
      ]
     },
     "metadata": {},
     "output_type": "display_data"
    },
    {
     "data": {
      "application/vnd.jupyter.widget-view+json": {
       "model_id": "8656538a554344c993bff3a89738bff1",
       "version_major": 2,
       "version_minor": 0
      },
      "text/plain": [
       "  0%|          | 0/4000 [00:00<?, ?it/s]"
      ]
     },
     "metadata": {},
     "output_type": "display_data"
    },
    {
     "data": {
      "application/vnd.jupyter.widget-view+json": {
       "model_id": "3cd79f94ef0241da9af3c3c8396642a2",
       "version_major": 2,
       "version_minor": 0
      },
      "text/plain": [
       "  0%|          | 0/4000 [00:00<?, ?it/s]"
      ]
     },
     "metadata": {},
     "output_type": "display_data"
    },
    {
     "data": {
      "application/vnd.jupyter.widget-view+json": {
       "model_id": "28196b2ca89447ed9626fb3ec9a107d6",
       "version_major": 2,
       "version_minor": 0
      },
      "text/plain": [
       "  0%|          | 0/4000 [00:00<?, ?it/s]"
      ]
     },
     "metadata": {},
     "output_type": "display_data"
    },
    {
     "data": {
      "application/vnd.jupyter.widget-view+json": {
       "model_id": "a1894b2d3b4c4123823eb3dc330fa27f",
       "version_major": 2,
       "version_minor": 0
      },
      "text/plain": [
       "  0%|          | 0/4000 [00:00<?, ?it/s]"
      ]
     },
     "metadata": {},
     "output_type": "display_data"
    },
    {
     "data": {
      "application/vnd.jupyter.widget-view+json": {
       "model_id": "0ce4fbaad5b14a5ba6dd23510acca274",
       "version_major": 2,
       "version_minor": 0
      },
      "text/plain": [
       "  0%|          | 0/4000 [00:00<?, ?it/s]"
      ]
     },
     "metadata": {},
     "output_type": "display_data"
    },
    {
     "data": {
      "application/vnd.jupyter.widget-view+json": {
       "model_id": "7a3f45ee0f824ffda31ef587499b7d4a",
       "version_major": 2,
       "version_minor": 0
      },
      "text/plain": [
       "  0%|          | 0/4000 [00:00<?, ?it/s]"
      ]
     },
     "metadata": {},
     "output_type": "display_data"
    },
    {
     "data": {
      "application/vnd.jupyter.widget-view+json": {
       "model_id": "02582cd0ef4f42d3ab95ca7c67085bb0",
       "version_major": 2,
       "version_minor": 0
      },
      "text/plain": [
       "  0%|          | 0/4000 [00:00<?, ?it/s]"
      ]
     },
     "metadata": {},
     "output_type": "display_data"
    },
    {
     "data": {
      "application/vnd.jupyter.widget-view+json": {
       "model_id": "51900b4d71cc4725978c66cf0ee03c33",
       "version_major": 2,
       "version_minor": 0
      },
      "text/plain": [
       "  0%|          | 0/4000 [00:00<?, ?it/s]"
      ]
     },
     "metadata": {},
     "output_type": "display_data"
    },
    {
     "data": {
      "application/vnd.jupyter.widget-view+json": {
       "model_id": "b06e75a3f7a34bbaa0d870076facdc28",
       "version_major": 2,
       "version_minor": 0
      },
      "text/plain": [
       "  0%|          | 0/4000 [00:00<?, ?it/s]"
      ]
     },
     "metadata": {},
     "output_type": "display_data"
    },
    {
     "data": {
      "application/vnd.jupyter.widget-view+json": {
       "model_id": "5372c2bbd6924107bbac93abe0dd2517",
       "version_major": 2,
       "version_minor": 0
      },
      "text/plain": [
       "  0%|          | 0/4000 [00:00<?, ?it/s]"
      ]
     },
     "metadata": {},
     "output_type": "display_data"
    },
    {
     "data": {
      "application/vnd.jupyter.widget-view+json": {
       "model_id": "e28074d787994d098c208cd41efe429f",
       "version_major": 2,
       "version_minor": 0
      },
      "text/plain": [
       "  0%|          | 0/4000 [00:00<?, ?it/s]"
      ]
     },
     "metadata": {},
     "output_type": "display_data"
    },
    {
     "data": {
      "application/vnd.jupyter.widget-view+json": {
       "model_id": "f8235de9f9c742618a50eff2ef07e726",
       "version_major": 2,
       "version_minor": 0
      },
      "text/plain": [
       "  0%|          | 0/4000 [00:00<?, ?it/s]"
      ]
     },
     "metadata": {},
     "output_type": "display_data"
    },
    {
     "data": {
      "application/vnd.jupyter.widget-view+json": {
       "model_id": "8ab1708848cc428e9e8b024aea7c3fc5",
       "version_major": 2,
       "version_minor": 0
      },
      "text/plain": [
       "  0%|          | 0/4000 [00:00<?, ?it/s]"
      ]
     },
     "metadata": {},
     "output_type": "display_data"
    },
    {
     "data": {
      "application/vnd.jupyter.widget-view+json": {
       "model_id": "72d60e5b79b64a06834304b2e81d6294",
       "version_major": 2,
       "version_minor": 0
      },
      "text/plain": [
       "  0%|          | 0/4000 [00:00<?, ?it/s]"
      ]
     },
     "metadata": {},
     "output_type": "display_data"
    },
    {
     "data": {
      "application/vnd.jupyter.widget-view+json": {
       "model_id": "186182b095f24cce80846685be48f64a",
       "version_major": 2,
       "version_minor": 0
      },
      "text/plain": [
       "  0%|          | 0/4000 [00:00<?, ?it/s]"
      ]
     },
     "metadata": {},
     "output_type": "display_data"
    },
    {
     "data": {
      "application/vnd.jupyter.widget-view+json": {
       "model_id": "f571d2d546d74f2692a4d38948bab75a",
       "version_major": 2,
       "version_minor": 0
      },
      "text/plain": [
       "  0%|          | 0/4000 [00:00<?, ?it/s]"
      ]
     },
     "metadata": {},
     "output_type": "display_data"
    },
    {
     "data": {
      "application/vnd.jupyter.widget-view+json": {
       "model_id": "0cd773ddb9344f6f82b7125928ea1843",
       "version_major": 2,
       "version_minor": 0
      },
      "text/plain": [
       "  0%|          | 0/4000 [00:00<?, ?it/s]"
      ]
     },
     "metadata": {},
     "output_type": "display_data"
    },
    {
     "data": {
      "application/vnd.jupyter.widget-view+json": {
       "model_id": "a8064506ef5a436cb64f71c8d6519840",
       "version_major": 2,
       "version_minor": 0
      },
      "text/plain": [
       "  0%|          | 0/4000 [00:00<?, ?it/s]"
      ]
     },
     "metadata": {},
     "output_type": "display_data"
    },
    {
     "data": {
      "application/vnd.jupyter.widget-view+json": {
       "model_id": "adcc6fd7219d4db5b51c530c2dce98b8",
       "version_major": 2,
       "version_minor": 0
      },
      "text/plain": [
       "  0%|          | 0/4000 [00:00<?, ?it/s]"
      ]
     },
     "metadata": {},
     "output_type": "display_data"
    },
    {
     "data": {
      "application/vnd.jupyter.widget-view+json": {
       "model_id": "af9451ecdd4f45cc8f16627c96137b97",
       "version_major": 2,
       "version_minor": 0
      },
      "text/plain": [
       "  0%|          | 0/4000 [00:00<?, ?it/s]"
      ]
     },
     "metadata": {},
     "output_type": "display_data"
    },
    {
     "data": {
      "application/vnd.jupyter.widget-view+json": {
       "model_id": "5dabe10d43824ea19bb07aa05570aef8",
       "version_major": 2,
       "version_minor": 0
      },
      "text/plain": [
       "  0%|          | 0/4000 [00:00<?, ?it/s]"
      ]
     },
     "metadata": {},
     "output_type": "display_data"
    },
    {
     "data": {
      "application/vnd.jupyter.widget-view+json": {
       "model_id": "11dd639d705a48f08dc1ebb29cef481e",
       "version_major": 2,
       "version_minor": 0
      },
      "text/plain": [
       "  0%|          | 0/4000 [00:00<?, ?it/s]"
      ]
     },
     "metadata": {},
     "output_type": "display_data"
    },
    {
     "data": {
      "application/vnd.jupyter.widget-view+json": {
       "model_id": "91d277b062e64fd0b2f4078e6552d555",
       "version_major": 2,
       "version_minor": 0
      },
      "text/plain": [
       "  0%|          | 0/4000 [00:00<?, ?it/s]"
      ]
     },
     "metadata": {},
     "output_type": "display_data"
    },
    {
     "data": {
      "application/vnd.jupyter.widget-view+json": {
       "model_id": "d7c72366082b4e2a966b4f312db9889c",
       "version_major": 2,
       "version_minor": 0
      },
      "text/plain": [
       "  0%|          | 0/4000 [00:00<?, ?it/s]"
      ]
     },
     "metadata": {},
     "output_type": "display_data"
    },
    {
     "data": {
      "application/vnd.jupyter.widget-view+json": {
       "model_id": "d2cddb58e83f4862828b1f3ae5d7ae9b",
       "version_major": 2,
       "version_minor": 0
      },
      "text/plain": [
       "  0%|          | 0/4000 [00:00<?, ?it/s]"
      ]
     },
     "metadata": {},
     "output_type": "display_data"
    },
    {
     "data": {
      "application/vnd.jupyter.widget-view+json": {
       "model_id": "87a9db75c1614462b3eb8d160b562bde",
       "version_major": 2,
       "version_minor": 0
      },
      "text/plain": [
       "  0%|          | 0/4000 [00:00<?, ?it/s]"
      ]
     },
     "metadata": {},
     "output_type": "display_data"
    },
    {
     "data": {
      "application/vnd.jupyter.widget-view+json": {
       "model_id": "be565b488bcb49d29954b8a4ca6a522c",
       "version_major": 2,
       "version_minor": 0
      },
      "text/plain": [
       "  0%|          | 0/4000 [00:00<?, ?it/s]"
      ]
     },
     "metadata": {},
     "output_type": "display_data"
    },
    {
     "data": {
      "application/vnd.jupyter.widget-view+json": {
       "model_id": "2db163f9a9fb4a7d939b252bafec411b",
       "version_major": 2,
       "version_minor": 0
      },
      "text/plain": [
       "  0%|          | 0/4000 [00:00<?, ?it/s]"
      ]
     },
     "metadata": {},
     "output_type": "display_data"
    },
    {
     "data": {
      "application/vnd.jupyter.widget-view+json": {
       "model_id": "a3eb90d251da4f83b1079a35fa2c1351",
       "version_major": 2,
       "version_minor": 0
      },
      "text/plain": [
       "  0%|          | 0/4000 [00:00<?, ?it/s]"
      ]
     },
     "metadata": {},
     "output_type": "display_data"
    },
    {
     "data": {
      "application/vnd.jupyter.widget-view+json": {
       "model_id": "b057c331e8b44f7cbb850323d6a0ff98",
       "version_major": 2,
       "version_minor": 0
      },
      "text/plain": [
       "  0%|          | 0/4000 [00:00<?, ?it/s]"
      ]
     },
     "metadata": {},
     "output_type": "display_data"
    },
    {
     "data": {
      "application/vnd.jupyter.widget-view+json": {
       "model_id": "6b0477e3b267480a840d0296efe9cbd5",
       "version_major": 2,
       "version_minor": 0
      },
      "text/plain": [
       "  0%|          | 0/4000 [00:00<?, ?it/s]"
      ]
     },
     "metadata": {},
     "output_type": "display_data"
    },
    {
     "data": {
      "application/vnd.jupyter.widget-view+json": {
       "model_id": "19a7f4315292498d9735a5402b43fd20",
       "version_major": 2,
       "version_minor": 0
      },
      "text/plain": [
       "  0%|          | 0/4000 [00:00<?, ?it/s]"
      ]
     },
     "metadata": {},
     "output_type": "display_data"
    },
    {
     "data": {
      "application/vnd.jupyter.widget-view+json": {
       "model_id": "57d933282ff8420984606f17b6e70833",
       "version_major": 2,
       "version_minor": 0
      },
      "text/plain": [
       "  0%|          | 0/4000 [00:00<?, ?it/s]"
      ]
     },
     "metadata": {},
     "output_type": "display_data"
    },
    {
     "data": {
      "application/vnd.jupyter.widget-view+json": {
       "model_id": "ea9e80857aff412ebd89781ad80a262b",
       "version_major": 2,
       "version_minor": 0
      },
      "text/plain": [
       "  0%|          | 0/4000 [00:00<?, ?it/s]"
      ]
     },
     "metadata": {},
     "output_type": "display_data"
    },
    {
     "data": {
      "application/vnd.jupyter.widget-view+json": {
       "model_id": "283448c5bf254fe28b7e17d665be85cf",
       "version_major": 2,
       "version_minor": 0
      },
      "text/plain": [
       "  0%|          | 0/4000 [00:00<?, ?it/s]"
      ]
     },
     "metadata": {},
     "output_type": "display_data"
    },
    {
     "data": {
      "application/vnd.jupyter.widget-view+json": {
       "model_id": "4bb921eca67d4623b65cbba631a6115a",
       "version_major": 2,
       "version_minor": 0
      },
      "text/plain": [
       "  0%|          | 0/4000 [00:00<?, ?it/s]"
      ]
     },
     "metadata": {},
     "output_type": "display_data"
    },
    {
     "data": {
      "application/vnd.jupyter.widget-view+json": {
       "model_id": "d7acafe3657e40c1aa27e56521a9c5b4",
       "version_major": 2,
       "version_minor": 0
      },
      "text/plain": [
       "  0%|          | 0/4000 [00:00<?, ?it/s]"
      ]
     },
     "metadata": {},
     "output_type": "display_data"
    },
    {
     "data": {
      "application/vnd.jupyter.widget-view+json": {
       "model_id": "eeec6b2472714898a77c6446e3627724",
       "version_major": 2,
       "version_minor": 0
      },
      "text/plain": [
       "  0%|          | 0/4000 [00:00<?, ?it/s]"
      ]
     },
     "metadata": {},
     "output_type": "display_data"
    },
    {
     "data": {
      "application/vnd.jupyter.widget-view+json": {
       "model_id": "54d3beba496d4191829df50b8fdbfb81",
       "version_major": 2,
       "version_minor": 0
      },
      "text/plain": [
       "  0%|          | 0/4000 [00:00<?, ?it/s]"
      ]
     },
     "metadata": {},
     "output_type": "display_data"
    },
    {
     "data": {
      "application/vnd.jupyter.widget-view+json": {
       "model_id": "899e5b0a49114c66ae4ed91907bf5283",
       "version_major": 2,
       "version_minor": 0
      },
      "text/plain": [
       "  0%|          | 0/4000 [00:00<?, ?it/s]"
      ]
     },
     "metadata": {},
     "output_type": "display_data"
    },
    {
     "data": {
      "application/vnd.jupyter.widget-view+json": {
       "model_id": "0e78913d9b8b428fafed1c62983eef38",
       "version_major": 2,
       "version_minor": 0
      },
      "text/plain": [
       "  0%|          | 0/4000 [00:00<?, ?it/s]"
      ]
     },
     "metadata": {},
     "output_type": "display_data"
    },
    {
     "data": {
      "application/vnd.jupyter.widget-view+json": {
       "model_id": "474926fbc6ba48b0917715fcc8510ae0",
       "version_major": 2,
       "version_minor": 0
      },
      "text/plain": [
       "  0%|          | 0/4000 [00:00<?, ?it/s]"
      ]
     },
     "metadata": {},
     "output_type": "display_data"
    },
    {
     "data": {
      "application/vnd.jupyter.widget-view+json": {
       "model_id": "11e3a3256d4c445580989fe4734c3a6e",
       "version_major": 2,
       "version_minor": 0
      },
      "text/plain": [
       "  0%|          | 0/4000 [00:00<?, ?it/s]"
      ]
     },
     "metadata": {},
     "output_type": "display_data"
    },
    {
     "data": {
      "application/vnd.jupyter.widget-view+json": {
       "model_id": "177f8fff377c47e799317ceadb90fac5",
       "version_major": 2,
       "version_minor": 0
      },
      "text/plain": [
       "  0%|          | 0/4000 [00:00<?, ?it/s]"
      ]
     },
     "metadata": {},
     "output_type": "display_data"
    },
    {
     "data": {
      "application/vnd.jupyter.widget-view+json": {
       "model_id": "b56c0d4c11ec44af8ce75c3800e9efbf",
       "version_major": 2,
       "version_minor": 0
      },
      "text/plain": [
       "  0%|          | 0/4000 [00:00<?, ?it/s]"
      ]
     },
     "metadata": {},
     "output_type": "display_data"
    },
    {
     "data": {
      "application/vnd.jupyter.widget-view+json": {
       "model_id": "4f7ac3825f0d4432b37f3b26fda9ad67",
       "version_major": 2,
       "version_minor": 0
      },
      "text/plain": [
       "  0%|          | 0/4000 [00:00<?, ?it/s]"
      ]
     },
     "metadata": {},
     "output_type": "display_data"
    },
    {
     "data": {
      "application/vnd.jupyter.widget-view+json": {
       "model_id": "8805274ad13844a7a6689a724a668080",
       "version_major": 2,
       "version_minor": 0
      },
      "text/plain": [
       "  0%|          | 0/4000 [00:00<?, ?it/s]"
      ]
     },
     "metadata": {},
     "output_type": "display_data"
    },
    {
     "data": {
      "application/vnd.jupyter.widget-view+json": {
       "model_id": "58b81325c3894dba9d3b30c9426fa04d",
       "version_major": 2,
       "version_minor": 0
      },
      "text/plain": [
       "  0%|          | 0/4000 [00:00<?, ?it/s]"
      ]
     },
     "metadata": {},
     "output_type": "display_data"
    },
    {
     "data": {
      "application/vnd.jupyter.widget-view+json": {
       "model_id": "b4390d9a490249eb9851a952ab2fbe9c",
       "version_major": 2,
       "version_minor": 0
      },
      "text/plain": [
       "  0%|          | 0/4000 [00:00<?, ?it/s]"
      ]
     },
     "metadata": {},
     "output_type": "display_data"
    },
    {
     "data": {
      "application/vnd.jupyter.widget-view+json": {
       "model_id": "40984495677a43e5982ba49b250ce2dd",
       "version_major": 2,
       "version_minor": 0
      },
      "text/plain": [
       "  0%|          | 0/4000 [00:00<?, ?it/s]"
      ]
     },
     "metadata": {},
     "output_type": "display_data"
    },
    {
     "data": {
      "application/vnd.jupyter.widget-view+json": {
       "model_id": "4b8f55c4f2fa4129a42d9a07480a9e1a",
       "version_major": 2,
       "version_minor": 0
      },
      "text/plain": [
       "  0%|          | 0/4000 [00:00<?, ?it/s]"
      ]
     },
     "metadata": {},
     "output_type": "display_data"
    },
    {
     "data": {
      "application/vnd.jupyter.widget-view+json": {
       "model_id": "79035bc22bb8489d9692ff5c972de6fb",
       "version_major": 2,
       "version_minor": 0
      },
      "text/plain": [
       "  0%|          | 0/4000 [00:00<?, ?it/s]"
      ]
     },
     "metadata": {},
     "output_type": "display_data"
    },
    {
     "data": {
      "application/vnd.jupyter.widget-view+json": {
       "model_id": "eb5f4244ef674980aee67400d2b9e617",
       "version_major": 2,
       "version_minor": 0
      },
      "text/plain": [
       "  0%|          | 0/4000 [00:00<?, ?it/s]"
      ]
     },
     "metadata": {},
     "output_type": "display_data"
    },
    {
     "data": {
      "application/vnd.jupyter.widget-view+json": {
       "model_id": "250e5dfc42274e09ab8d3709c3869932",
       "version_major": 2,
       "version_minor": 0
      },
      "text/plain": [
       "  0%|          | 0/4000 [00:00<?, ?it/s]"
      ]
     },
     "metadata": {},
     "output_type": "display_data"
    },
    {
     "data": {
      "application/vnd.jupyter.widget-view+json": {
       "model_id": "5973d6d9a13747dbbff87a087dfb6ce0",
       "version_major": 2,
       "version_minor": 0
      },
      "text/plain": [
       "  0%|          | 0/4000 [00:00<?, ?it/s]"
      ]
     },
     "metadata": {},
     "output_type": "display_data"
    },
    {
     "data": {
      "application/vnd.jupyter.widget-view+json": {
       "model_id": "b37c5b1441bc4f7cb0ba264cf886898e",
       "version_major": 2,
       "version_minor": 0
      },
      "text/plain": [
       "  0%|          | 0/4000 [00:00<?, ?it/s]"
      ]
     },
     "metadata": {},
     "output_type": "display_data"
    },
    {
     "data": {
      "application/vnd.jupyter.widget-view+json": {
       "model_id": "57b12e74617248f5ac2fad61720af20b",
       "version_major": 2,
       "version_minor": 0
      },
      "text/plain": [
       "  0%|          | 0/4000 [00:00<?, ?it/s]"
      ]
     },
     "metadata": {},
     "output_type": "display_data"
    },
    {
     "data": {
      "application/vnd.jupyter.widget-view+json": {
       "model_id": "02c794a7fb214236b67ba9e2a40e6b0e",
       "version_major": 2,
       "version_minor": 0
      },
      "text/plain": [
       "  0%|          | 0/4000 [00:00<?, ?it/s]"
      ]
     },
     "metadata": {},
     "output_type": "display_data"
    },
    {
     "data": {
      "application/vnd.jupyter.widget-view+json": {
       "model_id": "5ffe0212a8824a41a809cfe3603cc439",
       "version_major": 2,
       "version_minor": 0
      },
      "text/plain": [
       "  0%|          | 0/4000 [00:00<?, ?it/s]"
      ]
     },
     "metadata": {},
     "output_type": "display_data"
    },
    {
     "data": {
      "application/vnd.jupyter.widget-view+json": {
       "model_id": "ca592d093e014ec4a58758be8dde840b",
       "version_major": 2,
       "version_minor": 0
      },
      "text/plain": [
       "  0%|          | 0/4000 [00:00<?, ?it/s]"
      ]
     },
     "metadata": {},
     "output_type": "display_data"
    },
    {
     "data": {
      "application/vnd.jupyter.widget-view+json": {
       "model_id": "b086de6ea50540799606a5a1272821be",
       "version_major": 2,
       "version_minor": 0
      },
      "text/plain": [
       "  0%|          | 0/4000 [00:00<?, ?it/s]"
      ]
     },
     "metadata": {},
     "output_type": "display_data"
    },
    {
     "data": {
      "application/vnd.jupyter.widget-view+json": {
       "model_id": "8bd62b4f03ea447f8c6a202753cf2abf",
       "version_major": 2,
       "version_minor": 0
      },
      "text/plain": [
       "  0%|          | 0/4000 [00:00<?, ?it/s]"
      ]
     },
     "metadata": {},
     "output_type": "display_data"
    },
    {
     "data": {
      "application/vnd.jupyter.widget-view+json": {
       "model_id": "f18d04c32b754e7a8fd6d80a238ded6a",
       "version_major": 2,
       "version_minor": 0
      },
      "text/plain": [
       "  0%|          | 0/4000 [00:00<?, ?it/s]"
      ]
     },
     "metadata": {},
     "output_type": "display_data"
    },
    {
     "data": {
      "application/vnd.jupyter.widget-view+json": {
       "model_id": "f2aecb0f5c0c4eeea291fc1ee07ba535",
       "version_major": 2,
       "version_minor": 0
      },
      "text/plain": [
       "  0%|          | 0/4000 [00:00<?, ?it/s]"
      ]
     },
     "metadata": {},
     "output_type": "display_data"
    },
    {
     "data": {
      "application/vnd.jupyter.widget-view+json": {
       "model_id": "ae9db53f889e447e8e97b8ac8c66773e",
       "version_major": 2,
       "version_minor": 0
      },
      "text/plain": [
       "  0%|          | 0/4000 [00:00<?, ?it/s]"
      ]
     },
     "metadata": {},
     "output_type": "display_data"
    },
    {
     "data": {
      "application/vnd.jupyter.widget-view+json": {
       "model_id": "109050eea94c4291b1e7a9db766acf6b",
       "version_major": 2,
       "version_minor": 0
      },
      "text/plain": [
       "  0%|          | 0/4000 [00:00<?, ?it/s]"
      ]
     },
     "metadata": {},
     "output_type": "display_data"
    },
    {
     "data": {
      "application/vnd.jupyter.widget-view+json": {
       "model_id": "e7a4233c87db46dda634bea057958493",
       "version_major": 2,
       "version_minor": 0
      },
      "text/plain": [
       "  0%|          | 0/4000 [00:00<?, ?it/s]"
      ]
     },
     "metadata": {},
     "output_type": "display_data"
    },
    {
     "data": {
      "application/vnd.jupyter.widget-view+json": {
       "model_id": "527e21f62bc3466cabaf855d2b00b2ca",
       "version_major": 2,
       "version_minor": 0
      },
      "text/plain": [
       "  0%|          | 0/4000 [00:00<?, ?it/s]"
      ]
     },
     "metadata": {},
     "output_type": "display_data"
    },
    {
     "data": {
      "application/vnd.jupyter.widget-view+json": {
       "model_id": "f24dda9fd1fa4a3aa8d57236363b35de",
       "version_major": 2,
       "version_minor": 0
      },
      "text/plain": [
       "  0%|          | 0/4000 [00:00<?, ?it/s]"
      ]
     },
     "metadata": {},
     "output_type": "display_data"
    },
    {
     "data": {
      "application/vnd.jupyter.widget-view+json": {
       "model_id": "4abcc1390f504de8b71501d11a3a9744",
       "version_major": 2,
       "version_minor": 0
      },
      "text/plain": [
       "  0%|          | 0/4000 [00:00<?, ?it/s]"
      ]
     },
     "metadata": {},
     "output_type": "display_data"
    },
    {
     "data": {
      "application/vnd.jupyter.widget-view+json": {
       "model_id": "6ade789e7f1044859002b3f0b1acbb48",
       "version_major": 2,
       "version_minor": 0
      },
      "text/plain": [
       "  0%|          | 0/4000 [00:00<?, ?it/s]"
      ]
     },
     "metadata": {},
     "output_type": "display_data"
    },
    {
     "data": {
      "application/vnd.jupyter.widget-view+json": {
       "model_id": "c275bf9190c74f48aaa3ffc27db0997f",
       "version_major": 2,
       "version_minor": 0
      },
      "text/plain": [
       "  0%|          | 0/4000 [00:00<?, ?it/s]"
      ]
     },
     "metadata": {},
     "output_type": "display_data"
    },
    {
     "data": {
      "application/vnd.jupyter.widget-view+json": {
       "model_id": "905a7deb90094984b4a66a94d93dfc91",
       "version_major": 2,
       "version_minor": 0
      },
      "text/plain": [
       "  0%|          | 0/4000 [00:00<?, ?it/s]"
      ]
     },
     "metadata": {},
     "output_type": "display_data"
    },
    {
     "data": {
      "application/vnd.jupyter.widget-view+json": {
       "model_id": "99e1982bd0fc40168b42b7ab514f5755",
       "version_major": 2,
       "version_minor": 0
      },
      "text/plain": [
       "  0%|          | 0/4000 [00:00<?, ?it/s]"
      ]
     },
     "metadata": {},
     "output_type": "display_data"
    },
    {
     "data": {
      "application/vnd.jupyter.widget-view+json": {
       "model_id": "9ab72046d5dd4862b8e4c8d8775f788c",
       "version_major": 2,
       "version_minor": 0
      },
      "text/plain": [
       "  0%|          | 0/4000 [00:00<?, ?it/s]"
      ]
     },
     "metadata": {},
     "output_type": "display_data"
    },
    {
     "data": {
      "application/vnd.jupyter.widget-view+json": {
       "model_id": "7e1603bb4f3e4630980089f76301b755",
       "version_major": 2,
       "version_minor": 0
      },
      "text/plain": [
       "  0%|          | 0/4000 [00:00<?, ?it/s]"
      ]
     },
     "metadata": {},
     "output_type": "display_data"
    },
    {
     "data": {
      "application/vnd.jupyter.widget-view+json": {
       "model_id": "ebed475f19774945b889739f3b1957d9",
       "version_major": 2,
       "version_minor": 0
      },
      "text/plain": [
       "  0%|          | 0/4000 [00:00<?, ?it/s]"
      ]
     },
     "metadata": {},
     "output_type": "display_data"
    },
    {
     "data": {
      "application/vnd.jupyter.widget-view+json": {
       "model_id": "0796ee9145b3404a9c1ed298aa530190",
       "version_major": 2,
       "version_minor": 0
      },
      "text/plain": [
       "  0%|          | 0/4000 [00:00<?, ?it/s]"
      ]
     },
     "metadata": {},
     "output_type": "display_data"
    },
    {
     "data": {
      "application/vnd.jupyter.widget-view+json": {
       "model_id": "fd805ce50113404bbda4dbdce463dcf1",
       "version_major": 2,
       "version_minor": 0
      },
      "text/plain": [
       "  0%|          | 0/4000 [00:00<?, ?it/s]"
      ]
     },
     "metadata": {},
     "output_type": "display_data"
    },
    {
     "data": {
      "application/vnd.jupyter.widget-view+json": {
       "model_id": "6b5b8a9ba2d04493b20cc86d1a27219e",
       "version_major": 2,
       "version_minor": 0
      },
      "text/plain": [
       "  0%|          | 0/4000 [00:00<?, ?it/s]"
      ]
     },
     "metadata": {},
     "output_type": "display_data"
    },
    {
     "data": {
      "application/vnd.jupyter.widget-view+json": {
       "model_id": "b5046bc1d5c94b74b48a8a11eb75d7a8",
       "version_major": 2,
       "version_minor": 0
      },
      "text/plain": [
       "  0%|          | 0/4000 [00:00<?, ?it/s]"
      ]
     },
     "metadata": {},
     "output_type": "display_data"
    },
    {
     "data": {
      "application/vnd.jupyter.widget-view+json": {
       "model_id": "af4a2635d57d4b0f88f86402ee5a6def",
       "version_major": 2,
       "version_minor": 0
      },
      "text/plain": [
       "  0%|          | 0/4000 [00:00<?, ?it/s]"
      ]
     },
     "metadata": {},
     "output_type": "display_data"
    },
    {
     "data": {
      "application/vnd.jupyter.widget-view+json": {
       "model_id": "0b0a46544f8946c899647416faecdfad",
       "version_major": 2,
       "version_minor": 0
      },
      "text/plain": [
       "  0%|          | 0/4000 [00:00<?, ?it/s]"
      ]
     },
     "metadata": {},
     "output_type": "display_data"
    },
    {
     "data": {
      "application/vnd.jupyter.widget-view+json": {
       "model_id": "51bb4aba266647ee88f8cb7c675765cc",
       "version_major": 2,
       "version_minor": 0
      },
      "text/plain": [
       "  0%|          | 0/4000 [00:00<?, ?it/s]"
      ]
     },
     "metadata": {},
     "output_type": "display_data"
    },
    {
     "data": {
      "application/vnd.jupyter.widget-view+json": {
       "model_id": "33c4b5a5825246b783fe8f1d51959e2c",
       "version_major": 2,
       "version_minor": 0
      },
      "text/plain": [
       "  0%|          | 0/4000 [00:00<?, ?it/s]"
      ]
     },
     "metadata": {},
     "output_type": "display_data"
    },
    {
     "data": {
      "application/vnd.jupyter.widget-view+json": {
       "model_id": "6576134e0e484b84af64868535ee0850",
       "version_major": 2,
       "version_minor": 0
      },
      "text/plain": [
       "  0%|          | 0/4000 [00:00<?, ?it/s]"
      ]
     },
     "metadata": {},
     "output_type": "display_data"
    },
    {
     "data": {
      "application/vnd.jupyter.widget-view+json": {
       "model_id": "8411bb7870c240a69961162e62286222",
       "version_major": 2,
       "version_minor": 0
      },
      "text/plain": [
       "  0%|          | 0/4000 [00:00<?, ?it/s]"
      ]
     },
     "metadata": {},
     "output_type": "display_data"
    },
    {
     "data": {
      "application/vnd.jupyter.widget-view+json": {
       "model_id": "3593c2a787d14cc68a63244fbf6a6710",
       "version_major": 2,
       "version_minor": 0
      },
      "text/plain": [
       "  0%|          | 0/4000 [00:00<?, ?it/s]"
      ]
     },
     "metadata": {},
     "output_type": "display_data"
    },
    {
     "data": {
      "application/vnd.jupyter.widget-view+json": {
       "model_id": "8507c438e38446f7b19744d0bd784b2e",
       "version_major": 2,
       "version_minor": 0
      },
      "text/plain": [
       "  0%|          | 0/4000 [00:00<?, ?it/s]"
      ]
     },
     "metadata": {},
     "output_type": "display_data"
    },
    {
     "data": {
      "application/vnd.jupyter.widget-view+json": {
       "model_id": "6907b72a79674a61b8ebf5ed0136cad6",
       "version_major": 2,
       "version_minor": 0
      },
      "text/plain": [
       "  0%|          | 0/4000 [00:00<?, ?it/s]"
      ]
     },
     "metadata": {},
     "output_type": "display_data"
    },
    {
     "data": {
      "application/vnd.jupyter.widget-view+json": {
       "model_id": "344e99fcf6de4befb14d841587ce06b6",
       "version_major": 2,
       "version_minor": 0
      },
      "text/plain": [
       "  0%|          | 0/4000 [00:00<?, ?it/s]"
      ]
     },
     "metadata": {},
     "output_type": "display_data"
    },
    {
     "data": {
      "application/vnd.jupyter.widget-view+json": {
       "model_id": "43649acaa3d444129135992c1f18901d",
       "version_major": 2,
       "version_minor": 0
      },
      "text/plain": [
       "  0%|          | 0/4000 [00:00<?, ?it/s]"
      ]
     },
     "metadata": {},
     "output_type": "display_data"
    },
    {
     "data": {
      "application/vnd.jupyter.widget-view+json": {
       "model_id": "33dbcea062b24b35ad12ab2fc66796b3",
       "version_major": 2,
       "version_minor": 0
      },
      "text/plain": [
       "  0%|          | 0/4000 [00:00<?, ?it/s]"
      ]
     },
     "metadata": {},
     "output_type": "display_data"
    },
    {
     "data": {
      "application/vnd.jupyter.widget-view+json": {
       "model_id": "e182f96637ab400f939dbbfcffbbe8fb",
       "version_major": 2,
       "version_minor": 0
      },
      "text/plain": [
       "  0%|          | 0/4000 [00:00<?, ?it/s]"
      ]
     },
     "metadata": {},
     "output_type": "display_data"
    },
    {
     "data": {
      "application/vnd.jupyter.widget-view+json": {
       "model_id": "2231c98bb68646d5bc8bacce2f949bd4",
       "version_major": 2,
       "version_minor": 0
      },
      "text/plain": [
       "  0%|          | 0/4000 [00:00<?, ?it/s]"
      ]
     },
     "metadata": {},
     "output_type": "display_data"
    },
    {
     "data": {
      "application/vnd.jupyter.widget-view+json": {
       "model_id": "39f09ca68a7341b8b1e41e802d5ca8b6",
       "version_major": 2,
       "version_minor": 0
      },
      "text/plain": [
       "  0%|          | 0/4000 [00:00<?, ?it/s]"
      ]
     },
     "metadata": {},
     "output_type": "display_data"
    },
    {
     "data": {
      "application/vnd.jupyter.widget-view+json": {
       "model_id": "fc0afc3b35b040fdbfb908466451a0e6",
       "version_major": 2,
       "version_minor": 0
      },
      "text/plain": [
       "  0%|          | 0/4000 [00:00<?, ?it/s]"
      ]
     },
     "metadata": {},
     "output_type": "display_data"
    },
    {
     "data": {
      "application/vnd.jupyter.widget-view+json": {
       "model_id": "e7d28ca4481b4e3f801619ea241afab8",
       "version_major": 2,
       "version_minor": 0
      },
      "text/plain": [
       "  0%|          | 0/4000 [00:00<?, ?it/s]"
      ]
     },
     "metadata": {},
     "output_type": "display_data"
    },
    {
     "data": {
      "application/vnd.jupyter.widget-view+json": {
       "model_id": "1230718b90bf41b2a080f6aefa624293",
       "version_major": 2,
       "version_minor": 0
      },
      "text/plain": [
       "  0%|          | 0/4000 [00:00<?, ?it/s]"
      ]
     },
     "metadata": {},
     "output_type": "display_data"
    },
    {
     "data": {
      "application/vnd.jupyter.widget-view+json": {
       "model_id": "2fabc4e6ceb54b2aace72261e534e404",
       "version_major": 2,
       "version_minor": 0
      },
      "text/plain": [
       "  0%|          | 0/4000 [00:00<?, ?it/s]"
      ]
     },
     "metadata": {},
     "output_type": "display_data"
    },
    {
     "data": {
      "application/vnd.jupyter.widget-view+json": {
       "model_id": "aab7d5faad4d4c0a92e5cd10b77496c6",
       "version_major": 2,
       "version_minor": 0
      },
      "text/plain": [
       "  0%|          | 0/4000 [00:00<?, ?it/s]"
      ]
     },
     "metadata": {},
     "output_type": "display_data"
    },
    {
     "data": {
      "application/vnd.jupyter.widget-view+json": {
       "model_id": "649ba8fe934749c7a94473f30fdf151d",
       "version_major": 2,
       "version_minor": 0
      },
      "text/plain": [
       "  0%|          | 0/4000 [00:00<?, ?it/s]"
      ]
     },
     "metadata": {},
     "output_type": "display_data"
    },
    {
     "data": {
      "application/vnd.jupyter.widget-view+json": {
       "model_id": "6365254c455e426b871bad4d4cdae9c2",
       "version_major": 2,
       "version_minor": 0
      },
      "text/plain": [
       "  0%|          | 0/4000 [00:00<?, ?it/s]"
      ]
     },
     "metadata": {},
     "output_type": "display_data"
    },
    {
     "data": {
      "application/vnd.jupyter.widget-view+json": {
       "model_id": "3ddbe5f392b9420fa18b741600eca1df",
       "version_major": 2,
       "version_minor": 0
      },
      "text/plain": [
       "  0%|          | 0/4000 [00:00<?, ?it/s]"
      ]
     },
     "metadata": {},
     "output_type": "display_data"
    },
    {
     "data": {
      "application/vnd.jupyter.widget-view+json": {
       "model_id": "fa433f66886b49c2b1e4a436535b0d97",
       "version_major": 2,
       "version_minor": 0
      },
      "text/plain": [
       "  0%|          | 0/4000 [00:00<?, ?it/s]"
      ]
     },
     "metadata": {},
     "output_type": "display_data"
    },
    {
     "data": {
      "application/vnd.jupyter.widget-view+json": {
       "model_id": "cbb178d184b348fbaab730f10c7b6249",
       "version_major": 2,
       "version_minor": 0
      },
      "text/plain": [
       "  0%|          | 0/4000 [00:00<?, ?it/s]"
      ]
     },
     "metadata": {},
     "output_type": "display_data"
    },
    {
     "data": {
      "application/vnd.jupyter.widget-view+json": {
       "model_id": "0774a7c74d2445059187e90b050f1716",
       "version_major": 2,
       "version_minor": 0
      },
      "text/plain": [
       "  0%|          | 0/4000 [00:00<?, ?it/s]"
      ]
     },
     "metadata": {},
     "output_type": "display_data"
    },
    {
     "data": {
      "application/vnd.jupyter.widget-view+json": {
       "model_id": "5521d02ffdf9438385c0aacecfd10d7e",
       "version_major": 2,
       "version_minor": 0
      },
      "text/plain": [
       "  0%|          | 0/4000 [00:00<?, ?it/s]"
      ]
     },
     "metadata": {},
     "output_type": "display_data"
    },
    {
     "data": {
      "application/vnd.jupyter.widget-view+json": {
       "model_id": "582ac462522d449b81fc176755d6876b",
       "version_major": 2,
       "version_minor": 0
      },
      "text/plain": [
       "  0%|          | 0/4000 [00:00<?, ?it/s]"
      ]
     },
     "metadata": {},
     "output_type": "display_data"
    },
    {
     "data": {
      "application/vnd.jupyter.widget-view+json": {
       "model_id": "ef7f947611e440dbac3424dd4af59ef6",
       "version_major": 2,
       "version_minor": 0
      },
      "text/plain": [
       "  0%|          | 0/4000 [00:00<?, ?it/s]"
      ]
     },
     "metadata": {},
     "output_type": "display_data"
    },
    {
     "data": {
      "application/vnd.jupyter.widget-view+json": {
       "model_id": "1066c26462c843d5afbcbedd4bfddf89",
       "version_major": 2,
       "version_minor": 0
      },
      "text/plain": [
       "  0%|          | 0/4000 [00:00<?, ?it/s]"
      ]
     },
     "metadata": {},
     "output_type": "display_data"
    },
    {
     "data": {
      "application/vnd.jupyter.widget-view+json": {
       "model_id": "54de474ec26e49b8aa3ab58e7093de10",
       "version_major": 2,
       "version_minor": 0
      },
      "text/plain": [
       "  0%|          | 0/4000 [00:00<?, ?it/s]"
      ]
     },
     "metadata": {},
     "output_type": "display_data"
    },
    {
     "data": {
      "application/vnd.jupyter.widget-view+json": {
       "model_id": "d3b3c3bdd247480bae7fd270a6746bcc",
       "version_major": 2,
       "version_minor": 0
      },
      "text/plain": [
       "  0%|          | 0/4000 [00:00<?, ?it/s]"
      ]
     },
     "metadata": {},
     "output_type": "display_data"
    },
    {
     "data": {
      "application/vnd.jupyter.widget-view+json": {
       "model_id": "5758fab9e0b84b96854cc5bbf264dd32",
       "version_major": 2,
       "version_minor": 0
      },
      "text/plain": [
       "  0%|          | 0/4000 [00:00<?, ?it/s]"
      ]
     },
     "metadata": {},
     "output_type": "display_data"
    },
    {
     "data": {
      "application/vnd.jupyter.widget-view+json": {
       "model_id": "61cb370ca9134324acbf3d062ee97cd1",
       "version_major": 2,
       "version_minor": 0
      },
      "text/plain": [
       "  0%|          | 0/4000 [00:00<?, ?it/s]"
      ]
     },
     "metadata": {},
     "output_type": "display_data"
    },
    {
     "data": {
      "application/vnd.jupyter.widget-view+json": {
       "model_id": "81307cd1e15e45f497317454004d5fb2",
       "version_major": 2,
       "version_minor": 0
      },
      "text/plain": [
       "  0%|          | 0/4000 [00:00<?, ?it/s]"
      ]
     },
     "metadata": {},
     "output_type": "display_data"
    },
    {
     "data": {
      "application/vnd.jupyter.widget-view+json": {
       "model_id": "f6f0756c97fe417ea3c643086e4ad2fa",
       "version_major": 2,
       "version_minor": 0
      },
      "text/plain": [
       "  0%|          | 0/4000 [00:00<?, ?it/s]"
      ]
     },
     "metadata": {},
     "output_type": "display_data"
    },
    {
     "data": {
      "application/vnd.jupyter.widget-view+json": {
       "model_id": "1a8be8904f86409da68280d1884ec3b0",
       "version_major": 2,
       "version_minor": 0
      },
      "text/plain": [
       "  0%|          | 0/4000 [00:00<?, ?it/s]"
      ]
     },
     "metadata": {},
     "output_type": "display_data"
    },
    {
     "data": {
      "application/vnd.jupyter.widget-view+json": {
       "model_id": "8f1fd0a2170f4c63b3c3aeaca566892f",
       "version_major": 2,
       "version_minor": 0
      },
      "text/plain": [
       "  0%|          | 0/4000 [00:00<?, ?it/s]"
      ]
     },
     "metadata": {},
     "output_type": "display_data"
    },
    {
     "data": {
      "application/vnd.jupyter.widget-view+json": {
       "model_id": "a04f5df418eb44c4854e8eed086d9a32",
       "version_major": 2,
       "version_minor": 0
      },
      "text/plain": [
       "  0%|          | 0/4000 [00:00<?, ?it/s]"
      ]
     },
     "metadata": {},
     "output_type": "display_data"
    },
    {
     "data": {
      "application/vnd.jupyter.widget-view+json": {
       "model_id": "d387cc311fc54f578f7ccfab6f17b5cc",
       "version_major": 2,
       "version_minor": 0
      },
      "text/plain": [
       "  0%|          | 0/4000 [00:00<?, ?it/s]"
      ]
     },
     "metadata": {},
     "output_type": "display_data"
    },
    {
     "data": {
      "application/vnd.jupyter.widget-view+json": {
       "model_id": "e0301fe8af8b4f12bf533a84072bd6da",
       "version_major": 2,
       "version_minor": 0
      },
      "text/plain": [
       "  0%|          | 0/4000 [00:00<?, ?it/s]"
      ]
     },
     "metadata": {},
     "output_type": "display_data"
    },
    {
     "data": {
      "application/vnd.jupyter.widget-view+json": {
       "model_id": "ac4c636f18be4b72acc04c53ead4fd4a",
       "version_major": 2,
       "version_minor": 0
      },
      "text/plain": [
       "  0%|          | 0/4000 [00:00<?, ?it/s]"
      ]
     },
     "metadata": {},
     "output_type": "display_data"
    },
    {
     "data": {
      "application/vnd.jupyter.widget-view+json": {
       "model_id": "ccdf6e7ea393456e9de08fc522a0ed6a",
       "version_major": 2,
       "version_minor": 0
      },
      "text/plain": [
       "  0%|          | 0/4000 [00:00<?, ?it/s]"
      ]
     },
     "metadata": {},
     "output_type": "display_data"
    },
    {
     "data": {
      "application/vnd.jupyter.widget-view+json": {
       "model_id": "35a6ae3c4e194eed9302370ad78067a7",
       "version_major": 2,
       "version_minor": 0
      },
      "text/plain": [
       "  0%|          | 0/4000 [00:00<?, ?it/s]"
      ]
     },
     "metadata": {},
     "output_type": "display_data"
    },
    {
     "data": {
      "application/vnd.jupyter.widget-view+json": {
       "model_id": "d9bc29d4c6444dc99eb51f6eb9c80257",
       "version_major": 2,
       "version_minor": 0
      },
      "text/plain": [
       "  0%|          | 0/4000 [00:00<?, ?it/s]"
      ]
     },
     "metadata": {},
     "output_type": "display_data"
    },
    {
     "data": {
      "application/vnd.jupyter.widget-view+json": {
       "model_id": "b71629d512e54ce58ed32d93391ec1ae",
       "version_major": 2,
       "version_minor": 0
      },
      "text/plain": [
       "  0%|          | 0/4000 [00:00<?, ?it/s]"
      ]
     },
     "metadata": {},
     "output_type": "display_data"
    },
    {
     "data": {
      "application/vnd.jupyter.widget-view+json": {
       "model_id": "8676bf970de243fa98792a86f812c144",
       "version_major": 2,
       "version_minor": 0
      },
      "text/plain": [
       "  0%|          | 0/4000 [00:00<?, ?it/s]"
      ]
     },
     "metadata": {},
     "output_type": "display_data"
    },
    {
     "data": {
      "application/vnd.jupyter.widget-view+json": {
       "model_id": "b3350287e3c9437eaad88d17c2d9b337",
       "version_major": 2,
       "version_minor": 0
      },
      "text/plain": [
       "  0%|          | 0/4000 [00:00<?, ?it/s]"
      ]
     },
     "metadata": {},
     "output_type": "display_data"
    },
    {
     "data": {
      "application/vnd.jupyter.widget-view+json": {
       "model_id": "e5278c2231f64315af20b0b132405347",
       "version_major": 2,
       "version_minor": 0
      },
      "text/plain": [
       "  0%|          | 0/4000 [00:00<?, ?it/s]"
      ]
     },
     "metadata": {},
     "output_type": "display_data"
    },
    {
     "data": {
      "application/vnd.jupyter.widget-view+json": {
       "model_id": "8af1f85744ac45149e405070325a922c",
       "version_major": 2,
       "version_minor": 0
      },
      "text/plain": [
       "  0%|          | 0/4000 [00:00<?, ?it/s]"
      ]
     },
     "metadata": {},
     "output_type": "display_data"
    },
    {
     "data": {
      "application/vnd.jupyter.widget-view+json": {
       "model_id": "6f6aa4f8a0614b94ada43c588772d0f3",
       "version_major": 2,
       "version_minor": 0
      },
      "text/plain": [
       "  0%|          | 0/4000 [00:00<?, ?it/s]"
      ]
     },
     "metadata": {},
     "output_type": "display_data"
    },
    {
     "data": {
      "application/vnd.jupyter.widget-view+json": {
       "model_id": "9c70538cc075492b950beb6b165c31b6",
       "version_major": 2,
       "version_minor": 0
      },
      "text/plain": [
       "  0%|          | 0/4000 [00:00<?, ?it/s]"
      ]
     },
     "metadata": {},
     "output_type": "display_data"
    },
    {
     "data": {
      "application/vnd.jupyter.widget-view+json": {
       "model_id": "f5c7cc75807e4d65a80981285b6bc303",
       "version_major": 2,
       "version_minor": 0
      },
      "text/plain": [
       "  0%|          | 0/4000 [00:00<?, ?it/s]"
      ]
     },
     "metadata": {},
     "output_type": "display_data"
    },
    {
     "data": {
      "application/vnd.jupyter.widget-view+json": {
       "model_id": "80b55c32fbd746489a3eca523f4f8301",
       "version_major": 2,
       "version_minor": 0
      },
      "text/plain": [
       "  0%|          | 0/4000 [00:00<?, ?it/s]"
      ]
     },
     "metadata": {},
     "output_type": "display_data"
    },
    {
     "data": {
      "application/vnd.jupyter.widget-view+json": {
       "model_id": "4e6fe95691914b088414365da4a592e7",
       "version_major": 2,
       "version_minor": 0
      },
      "text/plain": [
       "  0%|          | 0/4000 [00:00<?, ?it/s]"
      ]
     },
     "metadata": {},
     "output_type": "display_data"
    },
    {
     "data": {
      "application/vnd.jupyter.widget-view+json": {
       "model_id": "cfe46838a51b43ba969becddc4a49581",
       "version_major": 2,
       "version_minor": 0
      },
      "text/plain": [
       "  0%|          | 0/4000 [00:00<?, ?it/s]"
      ]
     },
     "metadata": {},
     "output_type": "display_data"
    },
    {
     "data": {
      "application/vnd.jupyter.widget-view+json": {
       "model_id": "f8eb63c8efe14cf1a9a3dc4aaf24e8fe",
       "version_major": 2,
       "version_minor": 0
      },
      "text/plain": [
       "  0%|          | 0/4000 [00:00<?, ?it/s]"
      ]
     },
     "metadata": {},
     "output_type": "display_data"
    },
    {
     "data": {
      "application/vnd.jupyter.widget-view+json": {
       "model_id": "9449d62881af4fbaa197ab2ecdc8df03",
       "version_major": 2,
       "version_minor": 0
      },
      "text/plain": [
       "  0%|          | 0/4000 [00:00<?, ?it/s]"
      ]
     },
     "metadata": {},
     "output_type": "display_data"
    },
    {
     "data": {
      "application/vnd.jupyter.widget-view+json": {
       "model_id": "fe9db3da7154404e9f921c1b6f7a4aaf",
       "version_major": 2,
       "version_minor": 0
      },
      "text/plain": [
       "  0%|          | 0/4000 [00:00<?, ?it/s]"
      ]
     },
     "metadata": {},
     "output_type": "display_data"
    },
    {
     "data": {
      "application/vnd.jupyter.widget-view+json": {
       "model_id": "a473731a3d7f4130974d9e27c89e8039",
       "version_major": 2,
       "version_minor": 0
      },
      "text/plain": [
       "  0%|          | 0/4000 [00:00<?, ?it/s]"
      ]
     },
     "metadata": {},
     "output_type": "display_data"
    },
    {
     "data": {
      "application/vnd.jupyter.widget-view+json": {
       "model_id": "64ab991fe45a4288bb1173cdc4242d35",
       "version_major": 2,
       "version_minor": 0
      },
      "text/plain": [
       "  0%|          | 0/4000 [00:00<?, ?it/s]"
      ]
     },
     "metadata": {},
     "output_type": "display_data"
    },
    {
     "data": {
      "application/vnd.jupyter.widget-view+json": {
       "model_id": "bc0bb7b025c048ebb66a1fe831ed908d",
       "version_major": 2,
       "version_minor": 0
      },
      "text/plain": [
       "  0%|          | 0/4000 [00:00<?, ?it/s]"
      ]
     },
     "metadata": {},
     "output_type": "display_data"
    },
    {
     "data": {
      "application/vnd.jupyter.widget-view+json": {
       "model_id": "4eef52c780284258acefc359ec57351c",
       "version_major": 2,
       "version_minor": 0
      },
      "text/plain": [
       "  0%|          | 0/4000 [00:00<?, ?it/s]"
      ]
     },
     "metadata": {},
     "output_type": "display_data"
    },
    {
     "data": {
      "application/vnd.jupyter.widget-view+json": {
       "model_id": "5d6fa77cd83a4903bf92dd7a57ec5383",
       "version_major": 2,
       "version_minor": 0
      },
      "text/plain": [
       "  0%|          | 0/4000 [00:00<?, ?it/s]"
      ]
     },
     "metadata": {},
     "output_type": "display_data"
    },
    {
     "data": {
      "application/vnd.jupyter.widget-view+json": {
       "model_id": "e239164e20e848fba8ef19617295dde6",
       "version_major": 2,
       "version_minor": 0
      },
      "text/plain": [
       "  0%|          | 0/4000 [00:00<?, ?it/s]"
      ]
     },
     "metadata": {},
     "output_type": "display_data"
    },
    {
     "data": {
      "application/vnd.jupyter.widget-view+json": {
       "model_id": "a39b91d06c554fe98870788122d766c8",
       "version_major": 2,
       "version_minor": 0
      },
      "text/plain": [
       "  0%|          | 0/4000 [00:00<?, ?it/s]"
      ]
     },
     "metadata": {},
     "output_type": "display_data"
    },
    {
     "data": {
      "application/vnd.jupyter.widget-view+json": {
       "model_id": "d259473f65804b43a04d589441974ac5",
       "version_major": 2,
       "version_minor": 0
      },
      "text/plain": [
       "  0%|          | 0/4000 [00:00<?, ?it/s]"
      ]
     },
     "metadata": {},
     "output_type": "display_data"
    },
    {
     "data": {
      "application/vnd.jupyter.widget-view+json": {
       "model_id": "ed27286a97be470f8f0554b39fb353ac",
       "version_major": 2,
       "version_minor": 0
      },
      "text/plain": [
       "  0%|          | 0/4000 [00:00<?, ?it/s]"
      ]
     },
     "metadata": {},
     "output_type": "display_data"
    },
    {
     "data": {
      "application/vnd.jupyter.widget-view+json": {
       "model_id": "87f0ea6fd0ec427c9b168240b0cfe197",
       "version_major": 2,
       "version_minor": 0
      },
      "text/plain": [
       "  0%|          | 0/4000 [00:00<?, ?it/s]"
      ]
     },
     "metadata": {},
     "output_type": "display_data"
    },
    {
     "data": {
      "application/vnd.jupyter.widget-view+json": {
       "model_id": "80e39f8c14204cab8ab5541ca4445c0e",
       "version_major": 2,
       "version_minor": 0
      },
      "text/plain": [
       "  0%|          | 0/4000 [00:00<?, ?it/s]"
      ]
     },
     "metadata": {},
     "output_type": "display_data"
    },
    {
     "data": {
      "application/vnd.jupyter.widget-view+json": {
       "model_id": "3d2dab04ae574b8eb55204ff216840d3",
       "version_major": 2,
       "version_minor": 0
      },
      "text/plain": [
       "  0%|          | 0/4000 [00:00<?, ?it/s]"
      ]
     },
     "metadata": {},
     "output_type": "display_data"
    },
    {
     "data": {
      "application/vnd.jupyter.widget-view+json": {
       "model_id": "d16314b9561241d4bfc76c1c537c1457",
       "version_major": 2,
       "version_minor": 0
      },
      "text/plain": [
       "  0%|          | 0/4000 [00:00<?, ?it/s]"
      ]
     },
     "metadata": {},
     "output_type": "display_data"
    },
    {
     "data": {
      "application/vnd.jupyter.widget-view+json": {
       "model_id": "1588c0f49f994c9e90e1304a555e73c3",
       "version_major": 2,
       "version_minor": 0
      },
      "text/plain": [
       "  0%|          | 0/4000 [00:00<?, ?it/s]"
      ]
     },
     "metadata": {},
     "output_type": "display_data"
    },
    {
     "data": {
      "application/vnd.jupyter.widget-view+json": {
       "model_id": "cd8ea14f19804a5a95341a0ed1488810",
       "version_major": 2,
       "version_minor": 0
      },
      "text/plain": [
       "  0%|          | 0/4000 [00:00<?, ?it/s]"
      ]
     },
     "metadata": {},
     "output_type": "display_data"
    },
    {
     "data": {
      "application/vnd.jupyter.widget-view+json": {
       "model_id": "d007e76066b141fab63447693da6b808",
       "version_major": 2,
       "version_minor": 0
      },
      "text/plain": [
       "  0%|          | 0/4000 [00:00<?, ?it/s]"
      ]
     },
     "metadata": {},
     "output_type": "display_data"
    },
    {
     "data": {
      "application/vnd.jupyter.widget-view+json": {
       "model_id": "01bc3e9b8bde40978adca2b9f6f2068c",
       "version_major": 2,
       "version_minor": 0
      },
      "text/plain": [
       "  0%|          | 0/4000 [00:00<?, ?it/s]"
      ]
     },
     "metadata": {},
     "output_type": "display_data"
    },
    {
     "data": {
      "application/vnd.jupyter.widget-view+json": {
       "model_id": "be681f5cba7e44409107d9971991e449",
       "version_major": 2,
       "version_minor": 0
      },
      "text/plain": [
       "  0%|          | 0/4000 [00:00<?, ?it/s]"
      ]
     },
     "metadata": {},
     "output_type": "display_data"
    },
    {
     "data": {
      "application/vnd.jupyter.widget-view+json": {
       "model_id": "62b093d611034534a5f5c212e1462cf2",
       "version_major": 2,
       "version_minor": 0
      },
      "text/plain": [
       "  0%|          | 0/4000 [00:00<?, ?it/s]"
      ]
     },
     "metadata": {},
     "output_type": "display_data"
    },
    {
     "data": {
      "application/vnd.jupyter.widget-view+json": {
       "model_id": "aa8e40844ce94664821fbdbfadfbd269",
       "version_major": 2,
       "version_minor": 0
      },
      "text/plain": [
       "  0%|          | 0/4000 [00:00<?, ?it/s]"
      ]
     },
     "metadata": {},
     "output_type": "display_data"
    },
    {
     "data": {
      "application/vnd.jupyter.widget-view+json": {
       "model_id": "b3503898fa2d44acb4f62c1407279d47",
       "version_major": 2,
       "version_minor": 0
      },
      "text/plain": [
       "  0%|          | 0/4000 [00:00<?, ?it/s]"
      ]
     },
     "metadata": {},
     "output_type": "display_data"
    },
    {
     "data": {
      "application/vnd.jupyter.widget-view+json": {
       "model_id": "458a77c5c23c4751a3fca898da6fbae6",
       "version_major": 2,
       "version_minor": 0
      },
      "text/plain": [
       "  0%|          | 0/4000 [00:00<?, ?it/s]"
      ]
     },
     "metadata": {},
     "output_type": "display_data"
    },
    {
     "data": {
      "application/vnd.jupyter.widget-view+json": {
       "model_id": "d0939e084db54bf390d5496740c6d176",
       "version_major": 2,
       "version_minor": 0
      },
      "text/plain": [
       "  0%|          | 0/4000 [00:00<?, ?it/s]"
      ]
     },
     "metadata": {},
     "output_type": "display_data"
    },
    {
     "data": {
      "application/vnd.jupyter.widget-view+json": {
       "model_id": "900257303e6742ce8f8ab200cf72dba0",
       "version_major": 2,
       "version_minor": 0
      },
      "text/plain": [
       "  0%|          | 0/4000 [00:00<?, ?it/s]"
      ]
     },
     "metadata": {},
     "output_type": "display_data"
    },
    {
     "data": {
      "application/vnd.jupyter.widget-view+json": {
       "model_id": "dbe0360c4a274869b1367cdc4745f23c",
       "version_major": 2,
       "version_minor": 0
      },
      "text/plain": [
       "  0%|          | 0/4000 [00:00<?, ?it/s]"
      ]
     },
     "metadata": {},
     "output_type": "display_data"
    },
    {
     "data": {
      "application/vnd.jupyter.widget-view+json": {
       "model_id": "554be85032e34b6ca776507d5e80e3d0",
       "version_major": 2,
       "version_minor": 0
      },
      "text/plain": [
       "  0%|          | 0/4000 [00:00<?, ?it/s]"
      ]
     },
     "metadata": {},
     "output_type": "display_data"
    },
    {
     "data": {
      "application/vnd.jupyter.widget-view+json": {
       "model_id": "2b94913fb777461f984cf157be5106fa",
       "version_major": 2,
       "version_minor": 0
      },
      "text/plain": [
       "  0%|          | 0/4000 [00:00<?, ?it/s]"
      ]
     },
     "metadata": {},
     "output_type": "display_data"
    },
    {
     "data": {
      "application/vnd.jupyter.widget-view+json": {
       "model_id": "596ea8ade47a41529c01edd1e4a2e5a4",
       "version_major": 2,
       "version_minor": 0
      },
      "text/plain": [
       "  0%|          | 0/4000 [00:00<?, ?it/s]"
      ]
     },
     "metadata": {},
     "output_type": "display_data"
    },
    {
     "data": {
      "application/vnd.jupyter.widget-view+json": {
       "model_id": "054d3ceb6b1344548eb77cc8ff4d6559",
       "version_major": 2,
       "version_minor": 0
      },
      "text/plain": [
       "  0%|          | 0/4000 [00:00<?, ?it/s]"
      ]
     },
     "metadata": {},
     "output_type": "display_data"
    },
    {
     "data": {
      "application/vnd.jupyter.widget-view+json": {
       "model_id": "5fe4063fb0b4476783871ca99149543f",
       "version_major": 2,
       "version_minor": 0
      },
      "text/plain": [
       "  0%|          | 0/4000 [00:00<?, ?it/s]"
      ]
     },
     "metadata": {},
     "output_type": "display_data"
    },
    {
     "data": {
      "application/vnd.jupyter.widget-view+json": {
       "model_id": "0926ca1f4e15462a8b8733fe7972efc6",
       "version_major": 2,
       "version_minor": 0
      },
      "text/plain": [
       "  0%|          | 0/4000 [00:00<?, ?it/s]"
      ]
     },
     "metadata": {},
     "output_type": "display_data"
    },
    {
     "data": {
      "application/vnd.jupyter.widget-view+json": {
       "model_id": "0172caa36d104b1398084a4ef45edf74",
       "version_major": 2,
       "version_minor": 0
      },
      "text/plain": [
       "  0%|          | 0/4000 [00:00<?, ?it/s]"
      ]
     },
     "metadata": {},
     "output_type": "display_data"
    },
    {
     "data": {
      "application/vnd.jupyter.widget-view+json": {
       "model_id": "bac5b6e799d6477b8c93eaa29027989c",
       "version_major": 2,
       "version_minor": 0
      },
      "text/plain": [
       "  0%|          | 0/4000 [00:00<?, ?it/s]"
      ]
     },
     "metadata": {},
     "output_type": "display_data"
    },
    {
     "data": {
      "application/vnd.jupyter.widget-view+json": {
       "model_id": "b36a31c006634929a6325ebf92b78dff",
       "version_major": 2,
       "version_minor": 0
      },
      "text/plain": [
       "  0%|          | 0/4000 [00:00<?, ?it/s]"
      ]
     },
     "metadata": {},
     "output_type": "display_data"
    },
    {
     "data": {
      "application/vnd.jupyter.widget-view+json": {
       "model_id": "818d666725f947e4b69cc8f931bf4187",
       "version_major": 2,
       "version_minor": 0
      },
      "text/plain": [
       "  0%|          | 0/4000 [00:00<?, ?it/s]"
      ]
     },
     "metadata": {},
     "output_type": "display_data"
    },
    {
     "data": {
      "application/vnd.jupyter.widget-view+json": {
       "model_id": "730e7150ede0416098eeba19b37e7898",
       "version_major": 2,
       "version_minor": 0
      },
      "text/plain": [
       "  0%|          | 0/4000 [00:00<?, ?it/s]"
      ]
     },
     "metadata": {},
     "output_type": "display_data"
    },
    {
     "data": {
      "application/vnd.jupyter.widget-view+json": {
       "model_id": "73bca21496e64a6cb12f86d05f6c8c28",
       "version_major": 2,
       "version_minor": 0
      },
      "text/plain": [
       "  0%|          | 0/4000 [00:00<?, ?it/s]"
      ]
     },
     "metadata": {},
     "output_type": "display_data"
    },
    {
     "data": {
      "application/vnd.jupyter.widget-view+json": {
       "model_id": "d246414e051f47ca846e3e76968dc5b6",
       "version_major": 2,
       "version_minor": 0
      },
      "text/plain": [
       "  0%|          | 0/4000 [00:00<?, ?it/s]"
      ]
     },
     "metadata": {},
     "output_type": "display_data"
    },
    {
     "data": {
      "application/vnd.jupyter.widget-view+json": {
       "model_id": "ca3adf3b98f146afb035863d3961b5eb",
       "version_major": 2,
       "version_minor": 0
      },
      "text/plain": [
       "  0%|          | 0/4000 [00:00<?, ?it/s]"
      ]
     },
     "metadata": {},
     "output_type": "display_data"
    },
    {
     "data": {
      "application/vnd.jupyter.widget-view+json": {
       "model_id": "b41030c2939c4a25b9f421b82df25eea",
       "version_major": 2,
       "version_minor": 0
      },
      "text/plain": [
       "  0%|          | 0/4000 [00:00<?, ?it/s]"
      ]
     },
     "metadata": {},
     "output_type": "display_data"
    },
    {
     "data": {
      "application/vnd.jupyter.widget-view+json": {
       "model_id": "e649f88c9342429dbf891d405104f67e",
       "version_major": 2,
       "version_minor": 0
      },
      "text/plain": [
       "  0%|          | 0/4000 [00:00<?, ?it/s]"
      ]
     },
     "metadata": {},
     "output_type": "display_data"
    },
    {
     "data": {
      "application/vnd.jupyter.widget-view+json": {
       "model_id": "36f629856054453e9fea21e72475810c",
       "version_major": 2,
       "version_minor": 0
      },
      "text/plain": [
       "  0%|          | 0/4000 [00:00<?, ?it/s]"
      ]
     },
     "metadata": {},
     "output_type": "display_data"
    },
    {
     "data": {
      "application/vnd.jupyter.widget-view+json": {
       "model_id": "93b75ee2d3ea4ebc8d17dfa84d9e8a86",
       "version_major": 2,
       "version_minor": 0
      },
      "text/plain": [
       "  0%|          | 0/4000 [00:00<?, ?it/s]"
      ]
     },
     "metadata": {},
     "output_type": "display_data"
    },
    {
     "data": {
      "application/vnd.jupyter.widget-view+json": {
       "model_id": "1ec20fc385174b41b5aff6c7ca210ddf",
       "version_major": 2,
       "version_minor": 0
      },
      "text/plain": [
       "  0%|          | 0/4000 [00:00<?, ?it/s]"
      ]
     },
     "metadata": {},
     "output_type": "display_data"
    },
    {
     "data": {
      "application/vnd.jupyter.widget-view+json": {
       "model_id": "54d9cf63e79d4f0d98a0b5e9fedb720a",
       "version_major": 2,
       "version_minor": 0
      },
      "text/plain": [
       "  0%|          | 0/4000 [00:00<?, ?it/s]"
      ]
     },
     "metadata": {},
     "output_type": "display_data"
    },
    {
     "data": {
      "application/vnd.jupyter.widget-view+json": {
       "model_id": "2283a650001c42dc8ad16c871c917213",
       "version_major": 2,
       "version_minor": 0
      },
      "text/plain": [
       "  0%|          | 0/4000 [00:00<?, ?it/s]"
      ]
     },
     "metadata": {},
     "output_type": "display_data"
    },
    {
     "data": {
      "application/vnd.jupyter.widget-view+json": {
       "model_id": "e4708a1a6c35489aacc894644c924f64",
       "version_major": 2,
       "version_minor": 0
      },
      "text/plain": [
       "  0%|          | 0/4000 [00:00<?, ?it/s]"
      ]
     },
     "metadata": {},
     "output_type": "display_data"
    },
    {
     "data": {
      "application/vnd.jupyter.widget-view+json": {
       "model_id": "978a370f05b441d6844ae5753ec69d91",
       "version_major": 2,
       "version_minor": 0
      },
      "text/plain": [
       "  0%|          | 0/4000 [00:00<?, ?it/s]"
      ]
     },
     "metadata": {},
     "output_type": "display_data"
    },
    {
     "data": {
      "application/vnd.jupyter.widget-view+json": {
       "model_id": "d8c2f021909145fea65127b239ed5e0a",
       "version_major": 2,
       "version_minor": 0
      },
      "text/plain": [
       "  0%|          | 0/4000 [00:00<?, ?it/s]"
      ]
     },
     "metadata": {},
     "output_type": "display_data"
    },
    {
     "data": {
      "application/vnd.jupyter.widget-view+json": {
       "model_id": "2e0aee7e8a7f4f19a2f123faefa9c41e",
       "version_major": 2,
       "version_minor": 0
      },
      "text/plain": [
       "  0%|          | 0/4000 [00:00<?, ?it/s]"
      ]
     },
     "metadata": {},
     "output_type": "display_data"
    },
    {
     "data": {
      "application/vnd.jupyter.widget-view+json": {
       "model_id": "a9b35744449a4dbeae93ed851569120b",
       "version_major": 2,
       "version_minor": 0
      },
      "text/plain": [
       "  0%|          | 0/4000 [00:00<?, ?it/s]"
      ]
     },
     "metadata": {},
     "output_type": "display_data"
    },
    {
     "data": {
      "application/vnd.jupyter.widget-view+json": {
       "model_id": "b1c7ed977e904dcaab5747df130d8ec2",
       "version_major": 2,
       "version_minor": 0
      },
      "text/plain": [
       "  0%|          | 0/4000 [00:00<?, ?it/s]"
      ]
     },
     "metadata": {},
     "output_type": "display_data"
    },
    {
     "data": {
      "application/vnd.jupyter.widget-view+json": {
       "model_id": "23030e1b403940e78b0baf6d3523a1de",
       "version_major": 2,
       "version_minor": 0
      },
      "text/plain": [
       "  0%|          | 0/4000 [00:00<?, ?it/s]"
      ]
     },
     "metadata": {},
     "output_type": "display_data"
    },
    {
     "data": {
      "application/vnd.jupyter.widget-view+json": {
       "model_id": "81e3c39efb8e4085b969b4cf5fb68e8c",
       "version_major": 2,
       "version_minor": 0
      },
      "text/plain": [
       "  0%|          | 0/4000 [00:00<?, ?it/s]"
      ]
     },
     "metadata": {},
     "output_type": "display_data"
    },
    {
     "data": {
      "application/vnd.jupyter.widget-view+json": {
       "model_id": "043d0ff6ef5c46bf9b7b869d7924c691",
       "version_major": 2,
       "version_minor": 0
      },
      "text/plain": [
       "  0%|          | 0/4000 [00:00<?, ?it/s]"
      ]
     },
     "metadata": {},
     "output_type": "display_data"
    },
    {
     "data": {
      "application/vnd.jupyter.widget-view+json": {
       "model_id": "7fae26f5230e4c4db6cafdbbae7f580b",
       "version_major": 2,
       "version_minor": 0
      },
      "text/plain": [
       "  0%|          | 0/4000 [00:00<?, ?it/s]"
      ]
     },
     "metadata": {},
     "output_type": "display_data"
    },
    {
     "data": {
      "application/vnd.jupyter.widget-view+json": {
       "model_id": "f0d5aeb8f69b45248939e4c567417e9c",
       "version_major": 2,
       "version_minor": 0
      },
      "text/plain": [
       "  0%|          | 0/4000 [00:00<?, ?it/s]"
      ]
     },
     "metadata": {},
     "output_type": "display_data"
    },
    {
     "data": {
      "application/vnd.jupyter.widget-view+json": {
       "model_id": "5a21806823544c78a38e8e6d5d13df36",
       "version_major": 2,
       "version_minor": 0
      },
      "text/plain": [
       "  0%|          | 0/4000 [00:00<?, ?it/s]"
      ]
     },
     "metadata": {},
     "output_type": "display_data"
    },
    {
     "data": {
      "application/vnd.jupyter.widget-view+json": {
       "model_id": "c465709a01f84763b288b89a673fd193",
       "version_major": 2,
       "version_minor": 0
      },
      "text/plain": [
       "  0%|          | 0/4000 [00:00<?, ?it/s]"
      ]
     },
     "metadata": {},
     "output_type": "display_data"
    },
    {
     "data": {
      "application/vnd.jupyter.widget-view+json": {
       "model_id": "a994735c8d394298997d00080fb7eb83",
       "version_major": 2,
       "version_minor": 0
      },
      "text/plain": [
       "  0%|          | 0/4000 [00:00<?, ?it/s]"
      ]
     },
     "metadata": {},
     "output_type": "display_data"
    },
    {
     "data": {
      "application/vnd.jupyter.widget-view+json": {
       "model_id": "fa38450f5bf64408bf1f95f5e26f7468",
       "version_major": 2,
       "version_minor": 0
      },
      "text/plain": [
       "  0%|          | 0/4000 [00:00<?, ?it/s]"
      ]
     },
     "metadata": {},
     "output_type": "display_data"
    },
    {
     "data": {
      "application/vnd.jupyter.widget-view+json": {
       "model_id": "dfd457868f3e45f8ae37c232be12f61a",
       "version_major": 2,
       "version_minor": 0
      },
      "text/plain": [
       "  0%|          | 0/4000 [00:00<?, ?it/s]"
      ]
     },
     "metadata": {},
     "output_type": "display_data"
    },
    {
     "data": {
      "application/vnd.jupyter.widget-view+json": {
       "model_id": "bf785f543ec84db7b46982b0493a4e79",
       "version_major": 2,
       "version_minor": 0
      },
      "text/plain": [
       "  0%|          | 0/4000 [00:00<?, ?it/s]"
      ]
     },
     "metadata": {},
     "output_type": "display_data"
    },
    {
     "data": {
      "application/vnd.jupyter.widget-view+json": {
       "model_id": "a152757121d74d1ab2efebaa847272eb",
       "version_major": 2,
       "version_minor": 0
      },
      "text/plain": [
       "  0%|          | 0/4000 [00:00<?, ?it/s]"
      ]
     },
     "metadata": {},
     "output_type": "display_data"
    },
    {
     "data": {
      "application/vnd.jupyter.widget-view+json": {
       "model_id": "8e9e36904aa94e6fb2a5cd9f75c8165d",
       "version_major": 2,
       "version_minor": 0
      },
      "text/plain": [
       "  0%|          | 0/4000 [00:00<?, ?it/s]"
      ]
     },
     "metadata": {},
     "output_type": "display_data"
    },
    {
     "data": {
      "application/vnd.jupyter.widget-view+json": {
       "model_id": "7dea36c65d404177b41bf6410bec2931",
       "version_major": 2,
       "version_minor": 0
      },
      "text/plain": [
       "  0%|          | 0/4000 [00:00<?, ?it/s]"
      ]
     },
     "metadata": {},
     "output_type": "display_data"
    },
    {
     "data": {
      "application/vnd.jupyter.widget-view+json": {
       "model_id": "c825d596619b4a04899908c97a4e01ae",
       "version_major": 2,
       "version_minor": 0
      },
      "text/plain": [
       "  0%|          | 0/4000 [00:00<?, ?it/s]"
      ]
     },
     "metadata": {},
     "output_type": "display_data"
    },
    {
     "data": {
      "application/vnd.jupyter.widget-view+json": {
       "model_id": "cf0760f20fa94058bf57cdaeec141638",
       "version_major": 2,
       "version_minor": 0
      },
      "text/plain": [
       "  0%|          | 0/4000 [00:00<?, ?it/s]"
      ]
     },
     "metadata": {},
     "output_type": "display_data"
    },
    {
     "data": {
      "application/vnd.jupyter.widget-view+json": {
       "model_id": "0694947ad4904f2fa44c6594d8aecbe3",
       "version_major": 2,
       "version_minor": 0
      },
      "text/plain": [
       "  0%|          | 0/4000 [00:00<?, ?it/s]"
      ]
     },
     "metadata": {},
     "output_type": "display_data"
    },
    {
     "data": {
      "application/vnd.jupyter.widget-view+json": {
       "model_id": "4b11be46183e450c8b62d6d8b60c3b8e",
       "version_major": 2,
       "version_minor": 0
      },
      "text/plain": [
       "  0%|          | 0/4000 [00:00<?, ?it/s]"
      ]
     },
     "metadata": {},
     "output_type": "display_data"
    },
    {
     "data": {
      "application/vnd.jupyter.widget-view+json": {
       "model_id": "e34e039026364a10b0ef6e72981945ac",
       "version_major": 2,
       "version_minor": 0
      },
      "text/plain": [
       "  0%|          | 0/4000 [00:00<?, ?it/s]"
      ]
     },
     "metadata": {},
     "output_type": "display_data"
    },
    {
     "data": {
      "application/vnd.jupyter.widget-view+json": {
       "model_id": "4bfcc8a727204f2fa6687bc29aaaf997",
       "version_major": 2,
       "version_minor": 0
      },
      "text/plain": [
       "  0%|          | 0/4000 [00:00<?, ?it/s]"
      ]
     },
     "metadata": {},
     "output_type": "display_data"
    },
    {
     "data": {
      "application/vnd.jupyter.widget-view+json": {
       "model_id": "43da368b67f84e24949bc642b2f321ac",
       "version_major": 2,
       "version_minor": 0
      },
      "text/plain": [
       "  0%|          | 0/4000 [00:00<?, ?it/s]"
      ]
     },
     "metadata": {},
     "output_type": "display_data"
    },
    {
     "data": {
      "application/vnd.jupyter.widget-view+json": {
       "model_id": "247be30fce4645ca8e0bbde992c3ff1b",
       "version_major": 2,
       "version_minor": 0
      },
      "text/plain": [
       "  0%|          | 0/4000 [00:00<?, ?it/s]"
      ]
     },
     "metadata": {},
     "output_type": "display_data"
    },
    {
     "data": {
      "application/vnd.jupyter.widget-view+json": {
       "model_id": "081b95dbf27842499bbf492112008f52",
       "version_major": 2,
       "version_minor": 0
      },
      "text/plain": [
       "  0%|          | 0/4000 [00:00<?, ?it/s]"
      ]
     },
     "metadata": {},
     "output_type": "display_data"
    },
    {
     "data": {
      "application/vnd.jupyter.widget-view+json": {
       "model_id": "878be4f029fe43b7b41219855662ad05",
       "version_major": 2,
       "version_minor": 0
      },
      "text/plain": [
       "  0%|          | 0/4000 [00:00<?, ?it/s]"
      ]
     },
     "metadata": {},
     "output_type": "display_data"
    },
    {
     "data": {
      "application/vnd.jupyter.widget-view+json": {
       "model_id": "f9ea99bd88234fcb9de620ba910d7e73",
       "version_major": 2,
       "version_minor": 0
      },
      "text/plain": [
       "  0%|          | 0/4000 [00:00<?, ?it/s]"
      ]
     },
     "metadata": {},
     "output_type": "display_data"
    },
    {
     "data": {
      "application/vnd.jupyter.widget-view+json": {
       "model_id": "a893a348a44c49c1949cc314b3af5e8f",
       "version_major": 2,
       "version_minor": 0
      },
      "text/plain": [
       "  0%|          | 0/4000 [00:00<?, ?it/s]"
      ]
     },
     "metadata": {},
     "output_type": "display_data"
    },
    {
     "data": {
      "application/vnd.jupyter.widget-view+json": {
       "model_id": "03072f7123ee44dc9974af68b4f4e05a",
       "version_major": 2,
       "version_minor": 0
      },
      "text/plain": [
       "  0%|          | 0/4000 [00:00<?, ?it/s]"
      ]
     },
     "metadata": {},
     "output_type": "display_data"
    },
    {
     "data": {
      "application/vnd.jupyter.widget-view+json": {
       "model_id": "557c7e39b6bb474f814deca86c090781",
       "version_major": 2,
       "version_minor": 0
      },
      "text/plain": [
       "  0%|          | 0/4000 [00:00<?, ?it/s]"
      ]
     },
     "metadata": {},
     "output_type": "display_data"
    },
    {
     "data": {
      "application/vnd.jupyter.widget-view+json": {
       "model_id": "a73d6acf714c49179132d2c2aaf8b311",
       "version_major": 2,
       "version_minor": 0
      },
      "text/plain": [
       "  0%|          | 0/4000 [00:00<?, ?it/s]"
      ]
     },
     "metadata": {},
     "output_type": "display_data"
    },
    {
     "data": {
      "application/vnd.jupyter.widget-view+json": {
       "model_id": "36a4e0416af44d12bf5129e7ca354b92",
       "version_major": 2,
       "version_minor": 0
      },
      "text/plain": [
       "  0%|          | 0/4000 [00:00<?, ?it/s]"
      ]
     },
     "metadata": {},
     "output_type": "display_data"
    },
    {
     "data": {
      "application/vnd.jupyter.widget-view+json": {
       "model_id": "85277b612818495ea79500574ac8efe5",
       "version_major": 2,
       "version_minor": 0
      },
      "text/plain": [
       "  0%|          | 0/4000 [00:00<?, ?it/s]"
      ]
     },
     "metadata": {},
     "output_type": "display_data"
    },
    {
     "data": {
      "application/vnd.jupyter.widget-view+json": {
       "model_id": "e5ceb8dc93444bb6984475110e98bbe6",
       "version_major": 2,
       "version_minor": 0
      },
      "text/plain": [
       "  0%|          | 0/4000 [00:00<?, ?it/s]"
      ]
     },
     "metadata": {},
     "output_type": "display_data"
    },
    {
     "data": {
      "application/vnd.jupyter.widget-view+json": {
       "model_id": "1aa48babecfa430c8526004fbe7addb9",
       "version_major": 2,
       "version_minor": 0
      },
      "text/plain": [
       "  0%|          | 0/4000 [00:00<?, ?it/s]"
      ]
     },
     "metadata": {},
     "output_type": "display_data"
    },
    {
     "data": {
      "application/vnd.jupyter.widget-view+json": {
       "model_id": "220ee4541bdc4668a403d67454c9c011",
       "version_major": 2,
       "version_minor": 0
      },
      "text/plain": [
       "  0%|          | 0/4000 [00:00<?, ?it/s]"
      ]
     },
     "metadata": {},
     "output_type": "display_data"
    },
    {
     "data": {
      "application/vnd.jupyter.widget-view+json": {
       "model_id": "9ddfb00d38664ae59ce56eb5f89062d1",
       "version_major": 2,
       "version_minor": 0
      },
      "text/plain": [
       "  0%|          | 0/4000 [00:00<?, ?it/s]"
      ]
     },
     "metadata": {},
     "output_type": "display_data"
    },
    {
     "data": {
      "application/vnd.jupyter.widget-view+json": {
       "model_id": "20f3d55d90714edea855a0ecefa401b3",
       "version_major": 2,
       "version_minor": 0
      },
      "text/plain": [
       "  0%|          | 0/4000 [00:00<?, ?it/s]"
      ]
     },
     "metadata": {},
     "output_type": "display_data"
    },
    {
     "data": {
      "application/vnd.jupyter.widget-view+json": {
       "model_id": "e6000b51efc64f5bb11c91e065a458c0",
       "version_major": 2,
       "version_minor": 0
      },
      "text/plain": [
       "  0%|          | 0/4000 [00:00<?, ?it/s]"
      ]
     },
     "metadata": {},
     "output_type": "display_data"
    },
    {
     "data": {
      "application/vnd.jupyter.widget-view+json": {
       "model_id": "4feedce069ea40aeb953bfcbfeeb6b3a",
       "version_major": 2,
       "version_minor": 0
      },
      "text/plain": [
       "  0%|          | 0/4000 [00:00<?, ?it/s]"
      ]
     },
     "metadata": {},
     "output_type": "display_data"
    },
    {
     "data": {
      "application/vnd.jupyter.widget-view+json": {
       "model_id": "4b2f45f8f43646d7b0638986672f1b06",
       "version_major": 2,
       "version_minor": 0
      },
      "text/plain": [
       "  0%|          | 0/4000 [00:00<?, ?it/s]"
      ]
     },
     "metadata": {},
     "output_type": "display_data"
    },
    {
     "data": {
      "application/vnd.jupyter.widget-view+json": {
       "model_id": "30d4d099bfe049c88af045414eacbaf6",
       "version_major": 2,
       "version_minor": 0
      },
      "text/plain": [
       "  0%|          | 0/4000 [00:00<?, ?it/s]"
      ]
     },
     "metadata": {},
     "output_type": "display_data"
    },
    {
     "data": {
      "application/vnd.jupyter.widget-view+json": {
       "model_id": "d236645f832f432aa627d31f4ba6ed3d",
       "version_major": 2,
       "version_minor": 0
      },
      "text/plain": [
       "  0%|          | 0/4000 [00:00<?, ?it/s]"
      ]
     },
     "metadata": {},
     "output_type": "display_data"
    },
    {
     "data": {
      "application/vnd.jupyter.widget-view+json": {
       "model_id": "e99d4a8aa6da42b48f61def0b3979cfa",
       "version_major": 2,
       "version_minor": 0
      },
      "text/plain": [
       "  0%|          | 0/4000 [00:00<?, ?it/s]"
      ]
     },
     "metadata": {},
     "output_type": "display_data"
    },
    {
     "data": {
      "application/vnd.jupyter.widget-view+json": {
       "model_id": "5a492d113f72466fb9e0b4d1e259aa81",
       "version_major": 2,
       "version_minor": 0
      },
      "text/plain": [
       "  0%|          | 0/4000 [00:00<?, ?it/s]"
      ]
     },
     "metadata": {},
     "output_type": "display_data"
    },
    {
     "data": {
      "application/vnd.jupyter.widget-view+json": {
       "model_id": "b7c9f93f401b44dfa75b617e2d4404c6",
       "version_major": 2,
       "version_minor": 0
      },
      "text/plain": [
       "  0%|          | 0/4000 [00:00<?, ?it/s]"
      ]
     },
     "metadata": {},
     "output_type": "display_data"
    },
    {
     "data": {
      "application/vnd.jupyter.widget-view+json": {
       "model_id": "f2ca7947c60440739ab3b33f71b49d12",
       "version_major": 2,
       "version_minor": 0
      },
      "text/plain": [
       "  0%|          | 0/4000 [00:00<?, ?it/s]"
      ]
     },
     "metadata": {},
     "output_type": "display_data"
    },
    {
     "data": {
      "application/vnd.jupyter.widget-view+json": {
       "model_id": "8337870bf08f412d96608610eb2b07ec",
       "version_major": 2,
       "version_minor": 0
      },
      "text/plain": [
       "  0%|          | 0/4000 [00:00<?, ?it/s]"
      ]
     },
     "metadata": {},
     "output_type": "display_data"
    },
    {
     "data": {
      "application/vnd.jupyter.widget-view+json": {
       "model_id": "8effa35f665648c2919d826e6b90b1ba",
       "version_major": 2,
       "version_minor": 0
      },
      "text/plain": [
       "  0%|          | 0/4000 [00:00<?, ?it/s]"
      ]
     },
     "metadata": {},
     "output_type": "display_data"
    },
    {
     "data": {
      "application/vnd.jupyter.widget-view+json": {
       "model_id": "f50a7e8361d041ae8582ec7e1191fb2f",
       "version_major": 2,
       "version_minor": 0
      },
      "text/plain": [
       "  0%|          | 0/4000 [00:00<?, ?it/s]"
      ]
     },
     "metadata": {},
     "output_type": "display_data"
    },
    {
     "data": {
      "application/vnd.jupyter.widget-view+json": {
       "model_id": "db6a1384f0034e1a83603fad2e8b3d66",
       "version_major": 2,
       "version_minor": 0
      },
      "text/plain": [
       "  0%|          | 0/4000 [00:00<?, ?it/s]"
      ]
     },
     "metadata": {},
     "output_type": "display_data"
    },
    {
     "data": {
      "application/vnd.jupyter.widget-view+json": {
       "model_id": "8ef24ca3ab5a4688affbdf4c8e0b2e53",
       "version_major": 2,
       "version_minor": 0
      },
      "text/plain": [
       "  0%|          | 0/4000 [00:00<?, ?it/s]"
      ]
     },
     "metadata": {},
     "output_type": "display_data"
    },
    {
     "data": {
      "application/vnd.jupyter.widget-view+json": {
       "model_id": "135a62f929294b9aa05b8c8a7328e4de",
       "version_major": 2,
       "version_minor": 0
      },
      "text/plain": [
       "  0%|          | 0/4000 [00:00<?, ?it/s]"
      ]
     },
     "metadata": {},
     "output_type": "display_data"
    },
    {
     "data": {
      "application/vnd.jupyter.widget-view+json": {
       "model_id": "2a9e97f5186e4deeadc73e345d8ababc",
       "version_major": 2,
       "version_minor": 0
      },
      "text/plain": [
       "  0%|          | 0/4000 [00:00<?, ?it/s]"
      ]
     },
     "metadata": {},
     "output_type": "display_data"
    },
    {
     "data": {
      "application/vnd.jupyter.widget-view+json": {
       "model_id": "1cfa834264af4f37a62684308343643d",
       "version_major": 2,
       "version_minor": 0
      },
      "text/plain": [
       "  0%|          | 0/4000 [00:00<?, ?it/s]"
      ]
     },
     "metadata": {},
     "output_type": "display_data"
    },
    {
     "data": {
      "application/vnd.jupyter.widget-view+json": {
       "model_id": "595a93a255e9427ea107e85ffc51e814",
       "version_major": 2,
       "version_minor": 0
      },
      "text/plain": [
       "  0%|          | 0/4000 [00:00<?, ?it/s]"
      ]
     },
     "metadata": {},
     "output_type": "display_data"
    },
    {
     "data": {
      "application/vnd.jupyter.widget-view+json": {
       "model_id": "d779b780664344ac912e1ecc532741b2",
       "version_major": 2,
       "version_minor": 0
      },
      "text/plain": [
       "  0%|          | 0/4000 [00:00<?, ?it/s]"
      ]
     },
     "metadata": {},
     "output_type": "display_data"
    },
    {
     "data": {
      "application/vnd.jupyter.widget-view+json": {
       "model_id": "0a973997235c46c88d824688025a9741",
       "version_major": 2,
       "version_minor": 0
      },
      "text/plain": [
       "  0%|          | 0/4000 [00:00<?, ?it/s]"
      ]
     },
     "metadata": {},
     "output_type": "display_data"
    },
    {
     "data": {
      "application/vnd.jupyter.widget-view+json": {
       "model_id": "5c5627dcfc174e108012e122976b88e8",
       "version_major": 2,
       "version_minor": 0
      },
      "text/plain": [
       "  0%|          | 0/4000 [00:00<?, ?it/s]"
      ]
     },
     "metadata": {},
     "output_type": "display_data"
    },
    {
     "data": {
      "application/vnd.jupyter.widget-view+json": {
       "model_id": "ce97d8a7e7e44434916e9f1254718b8b",
       "version_major": 2,
       "version_minor": 0
      },
      "text/plain": [
       "  0%|          | 0/4000 [00:00<?, ?it/s]"
      ]
     },
     "metadata": {},
     "output_type": "display_data"
    },
    {
     "data": {
      "application/vnd.jupyter.widget-view+json": {
       "model_id": "4a8cd9a2bdee462bac218d258ffcf336",
       "version_major": 2,
       "version_minor": 0
      },
      "text/plain": [
       "  0%|          | 0/4000 [00:00<?, ?it/s]"
      ]
     },
     "metadata": {},
     "output_type": "display_data"
    },
    {
     "data": {
      "application/vnd.jupyter.widget-view+json": {
       "model_id": "ad99e8c82bd24c199e3b9050c44dcd28",
       "version_major": 2,
       "version_minor": 0
      },
      "text/plain": [
       "  0%|          | 0/4000 [00:00<?, ?it/s]"
      ]
     },
     "metadata": {},
     "output_type": "display_data"
    },
    {
     "data": {
      "application/vnd.jupyter.widget-view+json": {
       "model_id": "17d1c3ec12294ef28af0f06e63d29d3f",
       "version_major": 2,
       "version_minor": 0
      },
      "text/plain": [
       "  0%|          | 0/4000 [00:00<?, ?it/s]"
      ]
     },
     "metadata": {},
     "output_type": "display_data"
    },
    {
     "data": {
      "application/vnd.jupyter.widget-view+json": {
       "model_id": "71868253dd864c32b96581e18dd8e2e3",
       "version_major": 2,
       "version_minor": 0
      },
      "text/plain": [
       "  0%|          | 0/4000 [00:00<?, ?it/s]"
      ]
     },
     "metadata": {},
     "output_type": "display_data"
    },
    {
     "data": {
      "application/vnd.jupyter.widget-view+json": {
       "model_id": "78583ab0af9a4c25886b2b5d95c90203",
       "version_major": 2,
       "version_minor": 0
      },
      "text/plain": [
       "  0%|          | 0/4000 [00:00<?, ?it/s]"
      ]
     },
     "metadata": {},
     "output_type": "display_data"
    },
    {
     "data": {
      "application/vnd.jupyter.widget-view+json": {
       "model_id": "49034c5abb2a4855a5343bbe6941e0f9",
       "version_major": 2,
       "version_minor": 0
      },
      "text/plain": [
       "  0%|          | 0/4000 [00:00<?, ?it/s]"
      ]
     },
     "metadata": {},
     "output_type": "display_data"
    },
    {
     "data": {
      "application/vnd.jupyter.widget-view+json": {
       "model_id": "ba3e9b1854884252b90e2445d9ec7d05",
       "version_major": 2,
       "version_minor": 0
      },
      "text/plain": [
       "  0%|          | 0/4000 [00:00<?, ?it/s]"
      ]
     },
     "metadata": {},
     "output_type": "display_data"
    },
    {
     "data": {
      "application/vnd.jupyter.widget-view+json": {
       "model_id": "bffe6e40201247809cb50edb99d291ce",
       "version_major": 2,
       "version_minor": 0
      },
      "text/plain": [
       "  0%|          | 0/4000 [00:00<?, ?it/s]"
      ]
     },
     "metadata": {},
     "output_type": "display_data"
    },
    {
     "data": {
      "application/vnd.jupyter.widget-view+json": {
       "model_id": "4ac6db865f8d45198066836f7451ea1b",
       "version_major": 2,
       "version_minor": 0
      },
      "text/plain": [
       "  0%|          | 0/4000 [00:00<?, ?it/s]"
      ]
     },
     "metadata": {},
     "output_type": "display_data"
    },
    {
     "data": {
      "application/vnd.jupyter.widget-view+json": {
       "model_id": "477b96596d4a4d40ada03a37e5f9c737",
       "version_major": 2,
       "version_minor": 0
      },
      "text/plain": [
       "  0%|          | 0/4000 [00:00<?, ?it/s]"
      ]
     },
     "metadata": {},
     "output_type": "display_data"
    }
   ],
   "source": [
    "np.random.seed(42)\n",
    "random.seed(42)\n",
    "tf.random.set_seed(42)\n",
    "\n",
    "n = 3\n",
    "d = 2**n\n",
    "rank = 15\n",
    "\n",
    "prior_fidelity3 = np.zeros((len(N_list), num_reps))\n",
    "noPrior_fidelity3 = np.zeros((len(N_list), num_reps))\n",
    "\n",
    "for rep in tqdm(range(num_reps)):\n",
    "    X, _, _ = generate_ginibre(d, d)\n",
    "    U = generate_unitary(X) # Random unitary part\n",
    "    kraus_target = KrausMap(U, 0.5, d, rank)\n",
    "    \n",
    "    inputs, _ = generate_pauli_circuits(n = n, \n",
    "                                        circuit_target=None, \n",
    "                                        N = None, \n",
    "                                        trace=False)\n",
    "    \n",
    "    states = kraus_target.apply_map(inputs[0])\n",
    "    targets = measurement(states, U_basis = inputs[1])\n",
    "    \n",
    "    for i, N in enumerate(N_list):\n",
    "        kraus_model = KrausMap(\n",
    "                               U=U, \n",
    "                               c=0.9, \n",
    "                               d=d, \n",
    "                               rank=rank,\n",
    "                              )\n",
    "\n",
    "        model = ModelQuantumMap(\n",
    "                                q_map = kraus_model,\n",
    "                                loss = probs_loss,\n",
    "                                optimizer = tf.optimizers.Adam(learning_rate=0.01),\n",
    "                                )\n",
    "\n",
    "        model.train(inputs = [inputs[0][:N], inputs[1][:N]],\n",
    "                    targets = targets[:N],\n",
    "                    inputs_val = None,\n",
    "                    targets_val = None,\n",
    "                    num_iter = 4000,\n",
    "                    N = N,\n",
    "                    verbose = False,\n",
    "                    )\n",
    "\n",
    "        prior_fidelity3[i, rep] = np.abs(channel_fidelity(kraus_target, kraus_model).numpy())\n",
    "\n",
    "        kraus_model = KrausMap(\n",
    "    #                           U=U, \n",
    "    #                           c=0.9, \n",
    "                               d=d, \n",
    "                               rank=rank+1,\n",
    "                              )\n",
    "\n",
    "        model = ModelQuantumMap(\n",
    "                                q_map = kraus_model,\n",
    "                                loss = probs_loss,\n",
    "                                optimizer = tf.optimizers.Adam(learning_rate=0.01),\n",
    "                                )\n",
    "\n",
    "        model.train(inputs = [inputs[0][:N], inputs[1][:N]],\n",
    "                    targets = targets[:N],\n",
    "                    inputs_val = None,\n",
    "                    targets_val = None,\n",
    "                    num_iter = 4000,\n",
    "                    N = N,\n",
    "                    verbose = False,\n",
    "                    )\n",
    "\n",
    "        noPrior_fidelity3[i, rep] = np.abs(channel_fidelity(kraus_target, kraus_model).numpy())"
   ]
  },
  {
   "cell_type": "code",
   "execution_count": null,
   "metadata": {},
   "outputs": [],
   "source": [
    "data = [prior_fidelity3, noPrior_fidelity3]\n",
    "pickle.dump(data, open(\"../../data/compressed_sensing_rank16.p\", \"wb\"))"
   ]
  },
  {
   "cell_type": "markdown",
   "metadata": {},
   "source": [
    "## Collapse of SPAM optimization"
   ]
  },
  {
   "cell_type": "code",
   "execution_count": 5,
   "metadata": {},
   "outputs": [],
   "source": [
    "np.random.seed(42)\n",
    "random.seed(42)\n",
    "tf.random.set_seed(42)\n",
    "\n",
    "n = 2\n",
    "d = 2**n\n",
    "rank = d\n",
    "\n",
    "spam_target = SPAM(d=d, \n",
    "                   init = \"ideal\",\n",
    "                   povm = \"ideal\",\n",
    "                   )"
   ]
  },
  {
   "cell_type": "markdown",
   "metadata": {},
   "source": [
    "### Generate Synthetic Data"
   ]
  },
  {
   "cell_type": "code",
   "execution_count": 6,
   "metadata": {},
   "outputs": [],
   "source": [
    "inputs_spam, _ = generate_pauliInput_circuits(n)\n",
    "\n",
    "U_prep = inputs_spam\n",
    "N_spam = U_prep.shape[0]\n",
    "\n",
    "state = tf.repeat(spam_target.init[None,:,:], N_spam, axis=0)\n",
    "state = apply_unitary(state, U_prep)\n",
    "targets_spam = measurement(state, povm = spam_target.povm)"
   ]
  },
  {
   "cell_type": "markdown",
   "metadata": {},
   "source": [
    "### Fit SPAM model, no Pre-Training"
   ]
  },
  {
   "cell_type": "code",
   "execution_count": 7,
   "metadata": {
    "scrolled": true
   },
   "outputs": [
    {
     "data": {
      "application/vnd.jupyter.widget-view+json": {
       "model_id": "564122067d574c4faba172f4fae6e653",
       "version_major": 2,
       "version_minor": 0
      },
      "text/plain": [
       "  0%|          | 0/1000 [00:00<?, ?it/s]"
      ]
     },
     "metadata": {},
     "output_type": "display_data"
    },
    {
     "name": "stdout",
     "output_type": "stream",
     "text": [
      "0 0.8921902649442504\n",
      "1 0.8791598613811485\n",
      "2 0.8664378444021044\n",
      "3 0.8540343076056153\n",
      "4 0.8419629923787567\n",
      "5 0.8302745546766239\n",
      "6 0.8189254316461283\n",
      "7 0.8079260217838797\n",
      "8 0.797328867453269\n",
      "9 0.7870964791473015\n",
      "10 0.777252467281691\n",
      "11 0.7678012329386679\n",
      "12 0.7587422764817365\n",
      "13 0.7500702533673002\n",
      "14 0.7417746797010677\n",
      "15 0.7338403029673441\n",
      "16 0.7262488917928419\n",
      "17 0.7189027999203573\n",
      "18 0.7119036809497677\n",
      "19 0.7051607061504508\n",
      "20 0.698659058733764\n",
      "21 0.6923715001368348\n",
      "22 0.686269955117023\n",
      "23 0.6803124724279446\n",
      "24 0.6744751479178335\n",
      "25 0.6685125168635264\n",
      "26 0.6625511847186242\n",
      "27 0.6565805147614103\n",
      "28 0.6505763580483962\n",
      "29 0.6445173936169589\n",
      "30 0.6383315697365317\n",
      "31 0.6320002069949808\n",
      "32 0.6255589484899267\n",
      "33 0.6190020285950987\n",
      "34 0.6123305431961066\n",
      "35 0.6055321927646852\n",
      "36 0.5985269314117969\n",
      "37 0.5914369933423573\n",
      "38 0.584354221313732\n",
      "39 0.5772045325834525\n",
      "40 0.5699881035740305\n",
      "41 0.5626968709831999\n",
      "42 0.5553200487824674\n",
      "43 0.5479018421513429\n",
      "44 0.5406513321294365\n",
      "45 0.5333543059059592\n",
      "46 0.5260744946344241\n",
      "47 0.5188148376903704\n",
      "48 0.5115761145991378\n",
      "49 0.5043593353009125\n",
      "50 0.4971657988348259\n",
      "51 0.489996416300522\n",
      "52 0.4828507188425818\n",
      "53 0.47572486980212136\n",
      "54 0.46860525318447127\n",
      "55 0.46143202910504855\n",
      "56 0.4543711513952337\n",
      "57 0.44735597384187364\n",
      "58 0.4404237984890474\n",
      "59 0.4335641249550927\n",
      "60 0.4267734987362983\n",
      "61 0.42005155583308645\n",
      "62 0.4133995492446757\n",
      "63 0.4068198022749104\n",
      "64 0.4003155147320687\n",
      "65 0.393890713554303\n",
      "66 0.38748191713941016\n",
      "67 0.38116257522578517\n",
      "68 0.37493983377191625\n",
      "69 0.3688206360701181\n",
      "70 0.36281123732324755\n",
      "71 0.35686411724510975\n",
      "72 0.35103201226961595\n",
      "73 0.3453240621162983\n",
      "74 0.33967144437238\n",
      "75 0.3341345829755278\n",
      "76 0.32871298182955616\n",
      "77 0.32337330278725984\n",
      "78 0.31810969591271043\n",
      "79 0.3129551295337976\n",
      "80 0.30784432715052923\n",
      "81 0.30283615867093616\n",
      "82 0.29792778206886283\n",
      "83 0.2931164742104355\n",
      "84 0.2883997074177175\n",
      "85 0.28377517814294123\n",
      "86 0.2791829200917986\n",
      "87 0.27467947683084226\n",
      "88 0.2702631780889415\n",
      "89 0.26593250728874557\n",
      "90 0.2616860378895614\n",
      "91 0.2575223586631385\n",
      "92 0.25343999737374673\n",
      "93 0.2494373504870443\n",
      "94 0.24551262339965932\n",
      "95 0.24163873810583997\n",
      "96 0.23783785458733428\n",
      "97 0.23410780921701071\n",
      "98 0.23046701105825818\n",
      "99 0.2268993153256\n",
      "100 0.22338290901425845\n",
      "101 0.2199340549732844\n",
      "102 0.21654771975086737\n",
      "103 0.2132186075200636\n",
      "104 0.2099413464615466\n",
      "105 0.20669446613498701\n",
      "106 0.20349075811780404\n",
      "107 0.20032527040695225\n",
      "108 0.19719349894285887\n",
      "109 0.1940914469515204\n",
      "110 0.19101218626366023\n",
      "111 0.18795683391202347\n",
      "112 0.18487287526231502\n",
      "113 0.1818111639654849\n",
      "114 0.1787702360917139\n",
      "115 0.17574874413731045\n",
      "116 0.17274542357655187\n",
      "117 0.16975908115228738\n",
      "118 0.16678860246122268\n",
      "119 0.16383297409602746\n",
      "120 0.16089131433040174\n",
      "121 0.15796290626134257\n",
      "122 0.15504722822019154\n",
      "123 0.15214397767761229\n",
      "124 0.14925308637254467\n",
      "125 0.14637472572623111\n",
      "126 0.14350930265569778\n",
      "127 0.14065744666924607\n",
      "128 0.13781998963745146\n",
      "129 0.13499793991946393\n",
      "130 0.13219245261833854\n",
      "131 0.12940479767822374\n",
      "132 0.12662664780841817\n",
      "133 0.1238698174761076\n",
      "134 0.12113574227070169\n",
      "135 0.1184257889446559\n",
      "136 0.11574123958286574\n",
      "137 0.1130832822183102\n",
      "138 0.11045300765642524\n",
      "139 0.10785141221352966\n",
      "140 0.10527940591751875\n",
      "141 0.10273782540495167\n",
      "142 0.10022745029056389\n",
      "143 0.09774902129380798\n",
      "144 0.09530325806809975\n",
      "145 0.09289087466666503\n",
      "146 0.09051259095504449\n",
      "147 0.08816913894984926\n",
      "148 0.08586126383070927\n",
      "149 0.08358972004506232\n",
      "150 0.08135526339139948\n",
      "151 0.07915864020674385\n",
      "152 0.07700057483954464\n",
      "153 0.07488175651999843\n",
      "154 0.07280282659922138\n",
      "155 0.07076436695409603\n",
      "156 0.06876689016913004\n",
      "157 0.0668108319231245\n",
      "158 0.0648965458336374\n",
      "159 0.06302430084876698\n",
      "160 0.061191814179109544\n",
      "161 0.05940210917922357\n",
      "162 0.05765520392951123\n",
      "163 0.055951032801380536\n",
      "164 0.054289455299371715\n",
      "165 0.052670265455545845\n",
      "166 0.05109320095896343\n",
      "167 0.049557951307401114\n",
      "168 0.04806416444698808\n",
      "169 0.046611451598834716\n",
      "170 0.045199390225237286\n",
      "171 0.04382752532094915\n",
      "172 0.04249536939229781\n",
      "173 0.04120240158928766\n",
      "174 0.03994806648147147\n",
      "175 0.03873177293050837\n",
      "176 0.03755289343104944\n",
      "177 0.036410764187923696\n",
      "178 0.03530468608845422\n",
      "179 0.034233926625655484\n",
      "180 0.03319772273761448\n",
      "181 0.032195284453865436\n",
      "182 0.03122579918250647\n",
      "183 0.030288436433072205\n",
      "184 0.02938235275028796\n",
      "185 0.028499709114120364\n",
      "186 0.027648468301516013\n",
      "187 0.02682759847128046\n",
      "188 0.026036039091655933\n",
      "189 0.025272719749288085\n",
      "190 0.024536577366398936\n",
      "191 0.023826570830043112\n",
      "192 0.02313206370687163\n",
      "193 0.022462635103968995\n",
      "194 0.02181729101172111\n",
      "195 0.021195088201319753\n",
      "196 0.02059513399818884\n",
      "197 0.020016583637068854\n",
      "198 0.019458635934126556\n",
      "199 0.018920528000404595\n",
      "200 0.018401529653029172\n",
      "201 0.017900938072113806\n",
      "202 0.017418073118866124\n",
      "203 0.01695227358933514\n",
      "204 0.01650289454164111\n",
      "205 0.016069305712609307\n",
      "206 0.015650890939550875\n",
      "207 0.015247048428590645\n",
      "208 0.01485719166365783\n",
      "209 0.014480750729030224\n",
      "210 0.014117173820170914\n",
      "211 0.013765928738348579\n",
      "212 0.013426504199113917\n",
      "213 0.013098410827807879\n",
      "214 0.01278118176178846\n",
      "215 0.012474372824435738\n",
      "216 0.012177562276551071\n",
      "217 0.011890350183968239\n",
      "218 0.011612357464531027\n",
      "219 0.011343224692681623\n",
      "220 0.011082610746206182\n",
      "221 0.010830191378345807\n",
      "222 0.010585657791034079\n",
      "223 0.010348715273228726\n",
      "224 0.010119081953870077\n",
      "225 0.009896487703493467\n",
      "226 0.009680673203282673\n",
      "227 0.009471389186354717\n",
      "228 0.009268395844076821\n",
      "229 0.009071462380630384\n",
      "230 0.008880366692054581\n",
      "231 0.008694895141655012\n",
      "232 0.008514842401717935\n",
      "233 0.008340011331789687\n",
      "234 0.00817021286593728\n",
      "235 0.008005265885108963\n",
      "236 0.007844997055564247\n",
      "237 0.007689240619947286\n",
      "238 0.0075378381335635715\n",
      "239 0.00739063814441711\n",
      "240 0.007247495821210374\n",
      "241 0.007108272538494472\n",
      "242 0.0069728354321870805\n",
      "243 0.0068410569415450736\n",
      "244 0.0067128143552115\n",
      "245 0.0065879893791202454\n",
      "246 0.006466467742797446\n",
      "247 0.0063481388581439185\n",
      "248 0.006232895541242404\n",
      "249 0.006120633803452596\n",
      "250 0.006011252713363084\n",
      "251 0.00590465432643783\n",
      "252 0.005800743674810139\n",
      "253 0.0056994288059929905\n",
      "254 0.005600620856566045\n",
      "255 0.005504234145348611\n",
      "256 0.005410186270277999\n",
      "257 0.00531839819412565\n",
      "258 0.005228794306180661\n",
      "259 0.005141302449881018\n",
      "260 0.005055853909774473\n",
      "261 0.0049723833548532635\n",
      "262 0.0048908287388769265\n",
      "263 0.004811131161514572\n",
      "264 0.004733234696755749\n",
      "265 0.00465708619689087\n",
      "266 0.004582635081375912\n",
      "267 0.0045098331200636435\n",
      "268 0.0044386342196701956\n",
      "269 0.004368994221095457\n",
      "270 0.004300870713500686\n",
      "271 0.004234222869054281\n",
      "272 0.0041690113002272895\n",
      "273 0.004105197939590302\n",
      "274 0.004042745940454349\n",
      "275 0.003981619595473789\n",
      "276 0.003921784269584412\n",
      "277 0.003863206343397246\n",
      "278 0.003805853163354209\n",
      "279 0.00374969299552406\n",
      "280 0.0036946949807540666\n",
      "281 0.003640829089867784\n",
      "282 0.0035880660786133745\n",
      "283 0.0035363774429526904\n",
      "284 0.003485735376005317\n",
      "285 0.003436112728405856\n",
      "286 0.003387482973991552\n",
      "287 0.0033398201826049176\n",
      "288 0.0032930990014039376\n",
      "289 0.0032472946454842025\n",
      "290 0.0032023828979001545\n",
      "291 0.0031583401184223417\n",
      "292 0.0031151432596678765\n",
      "293 0.003072769888647159\n",
      "294 0.003031198211374834\n",
      "295 0.0029904070979925746\n",
      "296 0.0029503761058903982\n",
      "297 0.0029110854985525472\n",
      "298 0.002872516258282936\n",
      "299 0.0028346500915111465\n",
      "300 0.00279746942600308\n",
      "301 0.0027609573999271167\n",
      "302 0.002725097843297525\n",
      "303 0.002689875252795041\n",
      "304 0.002655274761293991\n",
      "305 0.002621282103618397\n",
      "306 0.002587883580071044\n",
      "307 0.002555066019175444\n",
      "308 0.002522816740841525\n",
      "309 0.002491123520880446\n",
      "310 0.0024599745574529785\n",
      "311 0.0024293584397181212\n",
      "312 0.0023992641186681507\n",
      "313 0.0023696808799201496\n",
      "314 0.002340598318108698\n",
      "315 0.0023120063124951514\n",
      "316 0.00228389500344897\n",
      "317 0.002256254769583082\n",
      "318 0.002229076205493641\n",
      "319 0.0022023501002299945\n",
      "320 0.002176067416814413\n",
      "321 0.002150219273266007\n",
      "322 0.0021247969256831607\n",
      "323 0.0020997917539665244\n",
      "324 0.0020751952507198105\n",
      "325 0.0020509990137596457\n",
      "326 0.0020271947424970755\n",
      "327 0.0020037742382471805\n",
      "328 0.001980729408297586\n",
      "329 0.0019580522733451946\n",
      "330 0.0019357349777083472\n",
      "331 0.0019137698015646585\n",
      "332 0.0018921491743675812\n",
      "333 0.0018708656885488809\n",
      "334 0.0018499121126459201\n",
      "335 0.0018292814030767789\n",
      "336 0.0018089667139206188\n",
      "337 0.00178896140422862\n",
      "338 0.0017692590425853099\n",
      "339 0.0017498534088231338\n",
      "340 0.0017307384929764478\n",
      "341 0.001711908491702549\n",
      "342 0.0016933578025162\n",
      "343 0.0016750810162510742\n",
      "344 0.0016570729081871035\n",
      "345 0.001639328428277999\n",
      "346 0.0016218426908672532\n",
      "347 0.0016046109642143711\n"
     ]
    },
    {
     "name": "stdout",
     "output_type": "stream",
     "text": [
      "348 0.0015876286600823154\n",
      "349 0.0015708913235540818\n",
      "350 0.0015543946231788024\n",
      "351 0.0015381343414898033\n",
      "352 0.001522106365904954\n",
      "353 0.0015063066799949558\n",
      "354 0.0014907313551195392\n",
      "355 0.0014753765424396434\n",
      "356 0.001460238465348555\n",
      "357 0.0014453134123963915\n",
      "358 0.001430597730811323\n",
      "359 0.0014160878207449149\n",
      "360 0.0014017801303755812\n",
      "361 0.0013876711520023146\n",
      "362 0.0013737574192336178\n",
      "363 0.0013600355053461927\n",
      "364 0.0013465020228343465\n",
      "365 0.0013331536241198115\n",
      "366 0.0013199870033330794\n",
      "367 0.0013069988990203857\n",
      "368 0.0012941860975886942\n",
      "369 0.0012815454372639462\n",
      "370 0.0012690738123173487\n",
      "371 0.0012567681773128726\n",
      "372 0.0012446255511396867\n",
      "373 0.0012326430206174334\n",
      "374 0.001220817743504387\n",
      "375 0.0012091469507725275\n",
      "376 0.001197627948074157\n",
      "377 0.0011862581163608614\n",
      "378 0.0011750349116642143\n",
      "379 0.0011639558640857517\n",
      "380 0.0011530185760675307\n",
      "381 0.001142220720039083\n",
      "382 0.0011315600355436058\n",
      "383 0.0011210343259504705\n",
      "384 0.0011106414548597173\n",
      "385 0.0011003793422912208\n",
      "386 0.0010902459607476944\n",
      "387 0.0010802393312268606\n",
      "388 0.0010703575192483928\n",
      "389 0.0010605986309583679\n",
      "390 0.001050960809363481\n",
      "391 0.0010414422307504477\n",
      "392 0.0010320411013399254\n",
      "393 0.00102275565422782\n",
      "394 0.001013584146660676\n",
      "395 0.001004524857696293\n",
      "396 0.0009955760862855342\n",
      "397 0.0009867361498116696\n",
      "398 0.000978003383106686\n",
      "399 0.00096937613795086\n",
      "400 0.0009608527830458607\n",
      "401 0.0009524317044334913\n",
      "402 0.0009441113063150553\n",
      "403 0.0009358900122107443\n",
      "404 0.0009277662663851392\n",
      "405 0.0009197385354556214\n",
      "406 0.0009118053100964896\n",
      "407 0.0009039651067486269\n",
      "408 0.0008962164692536824\n",
      "409 0.0008885579703338627\n",
      "410 0.0008809882128562359\n",
      "411 0.000873505830830393\n",
      "412 0.0008661094901047596\n",
      "413 0.0008587978887423056\n",
      "414 0.0008515697570709263\n",
      "415 0.0008444238574172105\n",
      "416 0.0008373589835404869\n",
      "417 0.000830373959795998\n",
      "418 0.0008234676400600376\n",
      "419 0.0008166389064509685\n",
      "420 0.0008098866678892982\n",
      "421 0.0008032098585299398\n",
      "422 0.0007966074361087868\n",
      "423 0.000790078380238098\n",
      "424 0.0007836216906866015\n",
      "425 0.0007772363856795439\n",
      "426 0.0007709215002482784\n",
      "427 0.0007646760846639703\n",
      "428 0.0007584992029817525\n",
      "429 0.0007523899317250551\n",
      "430 0.000746347358732043\n",
      "431 0.0007403705821875526\n",
      "432 0.0007344587098544672\n",
      "433 0.0007286108585163602\n",
      "434 0.0007228261536345206\n",
      "435 0.0007171037292177814\n",
      "436 0.0007114427278932336\n",
      "437 0.0007058423011616991\n",
      "438 0.0007003016098134256\n",
      "439 0.0006948198244745561\n",
      "440 0.0006893961262514369\n",
      "441 0.0006840297074353805\n",
      "442 0.0006787197722311545\n",
      "443 0.0006734655374732943\n",
      "444 0.0006682662332958939\n",
      "445 0.0006631211037261193\n",
      "446 0.0006580294071765546\n",
      "447 0.0006529904168177962\n",
      "448 0.0006480034208162591\n",
      "449 0.000643067722432571\n",
      "450 0.0006381826399779695\n",
      "451 0.0006333475066328404\n",
      "452 0.0006285616701349798\n",
      "453 0.0006238244923521622\n",
      "454 0.000619135348749744\n",
      "455 0.0006144936277753287\n",
      "456 0.0006098987301735147\n",
      "457 0.0006053500682535259\n",
      "458 0.0006008470651263625\n",
      "459 0.0005963891539321302\n",
      "460 0.0005919757770737996\n",
      "461 0.0005876063854770646\n",
      "462 0.0005832804378901515\n",
      "463 0.0005789974002403706\n",
      "464 0.0005747567450589423\n",
      "465 0.0005705579509856485\n",
      "466 0.0005664005023614286\n",
      "467 0.0005622838889144745\n",
      "468 0.0005582076055428931\n",
      "469 0.0005541711521934626\n",
      "470 0.0005501740338320889\n",
      "471 0.0005462157605007451\n",
      "472 0.0005422958474494609\n",
      "473 0.0005384138153341639\n",
      "474 0.0005345691904630204\n",
      "475 0.0005307615050786521\n",
      "476 0.0005269902976599224\n",
      "477 0.0005232551132255488\n",
      "478 0.0005195555036264347\n",
      "479 0.0005158910278115991\n",
      "480 0.0005122612520549369\n",
      "481 0.0005086657501343307\n",
      "482 0.0005051041034535283\n",
      "483 0.0005015759011031929\n",
      "484 0.0004980807398577412\n",
      "485 0.0004946182241082806\n",
      "486 0.0004911879657338124\n",
      "487 0.0004877895839152188\n",
      "488 0.0004844227048971907\n",
      "489 0.00048108696170704964\n",
      "490 0.00047778199383696665\n",
      "491 0.00047450744690031584\n",
      "492 0.0004712629722713235\n",
      "493 0.00046804822671726566\n",
      "494 0.0004648628720335072\n",
      "495 0.0004617065746903125\n",
      "496 0.0004585790054997501\n",
      "497 0.00045547983931066953\n",
      "498 0.00045240875473788293\n",
      "499 0.00044936543393246404\n",
      "500 0.00044634956239358994\n",
      "501 0.0004433608288285952\n",
      "502 0.00044039892505877345\n",
      "503 0.0004374635459710427\n",
      "504 0.00043455438951369753\n",
      "505 0.00043167115673160573\n",
      "506 0.00042881355183560537\n",
      "507 0.0004259812823004095\n",
      "508 0.0004231740589838091\n",
      "509 0.00042039159625892515\n",
      "510 0.0004176336121533383\n",
      "511 0.00041489982848602033\n",
      "512 0.0004121899709956466\n",
      "513 0.0004095037694541103\n",
      "514 0.0004068409577586847\n",
      "515 0.00040420127399992076\n",
      "516 0.0004015844605004836\n",
      "517 0.00039899026382331465\n",
      "518 0.00039641843474960974\n",
      "519 0.0003938687282247388\n",
      "520 0.0003913409032750927\n",
      "521 0.00038883472289888123\n",
      "522 0.0003863499539316223\n",
      "523 0.0003838863668936126\n",
      "524 0.0003814437358214579\n",
      "525 0.0003790218380893251\n",
      "526 0.000376620454225056\n",
      "527 0.00037423936772648187\n",
      "528 0.00037187836488159956\n",
      "529 0.0003695372345984545\n",
      "530 0.00036721576824823293\n",
      "531 0.00036491375952515465\n",
      "532 0.00036263100432659765\n",
      "533 0.0003603673006540214\n",
      "534 0.00035812244853823384\n",
      "535 0.00035589624998729337\n",
      "536 0.000353688508958403\n",
      "537 0.0003514990313507737\n",
      "538 0.0003493276250196351\n",
      "539 0.0003471740998061291\n",
      "540 0.00034503826758293263\n",
      "541 0.0003429199423088979\n",
      "542 0.00034081894009158\n",
      "543 0.0003387350792521518\n",
      "544 0.00033666818038898466\n",
      "545 0.0003346180664373008\n",
      "546 0.00033258456272034886\n",
      "547 0.00033056749699026506\n",
      "548 0.00032856669945583285\n",
      "549 0.0003265820027956853\n",
      "550 0.00032461324215596213\n",
      "551 0.00032266025513244534\n",
      "552 0.0003207228817361438\n",
      "553 0.0003188009643453365\n",
      "554 0.0003168943476432003\n",
      "555 0.0003150028785441855\n",
      "556 0.0003131264061115573\n",
      "557 0.00031126478146682415\n",
      "558 0.0003094178576962066\n",
      "559 0.00030758548975415843\n",
      "560 0.0003057675343686938\n",
      "561 0.00030396384995024514\n",
      "562 0.00030217429650554874\n",
      "563 0.00030039873556045267\n",
      "564 0.0002986370300915859\n",
      "565 0.00029688904446919314\n",
      "566 0.00029515464441164254\n",
      "567 0.0002934336969518802\n",
      "568 0.0002917260704163073\n",
      "569 0.0002900316344152122\n",
      "570 0.0002883502598429999\n",
      "571 0.0002866818188895806\n",
      "572 0.00028502618505746427\n",
      "573 0.00028338323318646364\n",
      "574 0.00028175283948158377\n",
      "575 0.00028013488154320304\n",
      "576 0.00027852923839703883\n",
      "577 0.0002769357905220672\n",
      "578 0.00027535441987510604\n",
      "579 0.00027378500990968545\n",
      "580 0.00027222744558851205\n",
      "581 0.0002706816133887182\n",
      "582 0.0002691474012985139\n",
      "583 0.0002676246988064818\n",
      "584 0.000266113396881415\n",
      "585 0.0002646133879455469\n",
      "586 0.000263124565840026\n",
      "587 0.0002616468257845338\n",
      "588 0.000260180064331812\n",
      "589 0.000258724179318946\n",
      "590 0.00025727906981583916\n",
      "591 0.000255844636073578\n",
      "592 0.00025442077947306817\n",
      "593 0.0002530074024759268\n",
      "594 0.00025160440857866797\n",
      "595 0.00025021170227111384\n",
      "596 0.00024882918900047206\n",
      "597 0.00024745677514085917\n",
      "598 0.00024609436796971105\n",
      "599 0.00024474187564997086\n",
      "600 0.00024339920721965015\n",
      "601 0.00024206627258648852\n",
      "602 0.0002407429825288019\n",
      "603 0.00023942924870064261\n",
      "604 0.0002381249836408729\n",
      "605 0.0002368301007854697\n",
      "606 0.00023554451448089817\n",
      "607 0.00023426813999860853\n",
      "608 0.00023300089354848558\n",
      "609 0.0002317426922919043\n",
      "610 0.0002304934543509234\n",
      "611 0.00022925309881548613\n",
      "612 0.0002280215457462758\n",
      "613 0.00022679871617342905\n",
      "614 0.00022558453209111946\n",
      "615 0.000224378916447053\n",
      "616 0.00022318179312831878\n",
      "617 0.0002219930869428451\n",
      "618 0.00022081272359735283\n",
      "619 0.00021964062967244895\n",
      "620 0.00021847673259555329\n",
      "621 0.0002173209606121854\n",
      "622 0.0002161732427569086\n",
      "623 0.0002150335088239397\n",
      "624 0.0002139016893394854\n",
      "625 0.00021277771553497444\n",
      "626 0.00021166151932285363\n",
      "627 0.0002105530332753984\n",
      "628 0.00020945219060654715\n",
      "629 0.00020835892515731216\n",
      "630 0.0002072731713844315\n",
      "631 0.00020619486435311115\n",
      "632 0.00020512393973268913\n",
      "633 0.00020406033379558524\n",
      "634 0.00020300398341891422\n",
      "635 0.00020195482608817558\n",
      "636 0.00020091279990239725\n",
      "637 0.00019987784358078858\n",
      "638 0.00019884989646894917\n",
      "639 0.0001978288985456394\n",
      "640 0.00019681479042811024\n",
      "641 0.00019580751337640675\n",
      "642 0.00019480700929591532\n",
      "643 0.00019381322073763665\n",
      "644 0.00019282609089611718\n",
      "645 0.00019184556360522166\n",
      "646 0.00019087158333106605\n",
      "647 0.00018990409516258646\n",
      "648 0.00018894304480044467\n",
      "649 0.00018798837854305998\n",
      "650 0.00018704004327205532\n",
      "651 0.0001860979864359948\n",
      "652 0.0001851621560336085\n",
      "653 0.0001842325005966154\n",
      "654 0.00018330896917309012\n",
      "655 0.00018239151131113412\n",
      "656 0.00018148007704385155\n",
      "657 0.00018057461687552448\n",
      "658 0.00017967508176963768\n",
      "659 0.0001787814231386486\n",
      "660 0.00017789359283600748\n",
      "661 0.00017701154314963194\n",
      "662 0.00017613522679806447\n",
      "663 0.00017526459692792845\n",
      "664 0.00017439960711328748\n",
      "665 0.0001735402113563271\n"
     ]
    },
    {
     "name": "stdout",
     "output_type": "stream",
     "text": [
      "666 0.00017268636408901812\n",
      "667 0.00017183802017576688\n",
      "668 0.00017099513491612738\n",
      "669 0.000170157664047628\n",
      "670 0.00016932556374858848\n",
      "671 0.00016849879063978522\n",
      "672 0.00016767730178572472\n",
      "673 0.0001668610546942527\n",
      "674 0.0001660500073155265\n",
      "675 0.0001652441180389652\n",
      "676 0.00016444334568941544\n",
      "677 0.00016364764952132111\n",
      "678 0.0001628569892120496\n",
      "679 0.0001620713248538926\n",
      "680 0.00016129061694522038\n",
      "681 0.00016051482638076699\n",
      "682 0.0001597439144416271\n",
      "683 0.00015897784278510034\n",
      "684 0.00015821657343413953\n",
      "685 0.0001574600687680136\n",
      "686 0.00015670829151252685\n",
      "687 0.00015596120473190575\n",
      "688 0.00015521877182104966\n",
      "689 0.00015448095649893564\n",
      "690 0.00015374772280386058\n",
      "691 0.0001530190350884746\n",
      "692 0.0001522948580173824\n",
      "693 0.00015157515656496725\n",
      "694 0.00015085989601453504\n",
      "695 0.00015014904195782854\n",
      "696 0.00014944256029593512\n",
      "697 0.00014874041723971485\n",
      "698 0.00014804257931133342\n",
      "699 0.00014734901334494848\n",
      "700 0.00014665968648790175\n",
      "701 0.00014597456620117665\n",
      "702 0.0001452936202594229\n",
      "703 0.00014461681675013896\n",
      "704 0.00014394412407264543\n",
      "705 0.00014327551093540984\n",
      "706 0.00014261094635350787\n",
      "707 0.00014195039964436855\n",
      "708 0.0001412938404234733\n",
      "709 0.0001406412385990032\n",
      "710 0.0001399925643664532\n",
      "711 0.00013934778820205455\n",
      "712 0.00013870688085681888\n",
      "713 0.00013806981334999634\n",
      "714 0.0001374365569627654\n",
      "715 0.00013680708323235587\n",
      "716 0.0001361813639461205\n",
      "717 0.00013555937113651198\n",
      "718 0.00013494107707658467\n",
      "719 0.00013432645427577494\n",
      "720 0.0001337154754770373\n",
      "721 0.00013310811365401448\n",
      "722 0.00013250434200930833\n",
      "723 0.00013190413397306408\n",
      "724 0.0001313074632025014\n",
      "725 0.00013071430358130594\n",
      "726 0.00013012462921974973\n",
      "727 0.00012953841445498244\n",
      "728 0.00012895563385124733\n",
      "729 0.0001283762622001349\n",
      "730 0.00012780027452046858\n",
      "731 0.00012722764605844556\n",
      "732 0.00012665835228677468\n",
      "733 0.00012609236890366064\n",
      "734 0.00012552967183158457\n",
      "735 0.00012497023721504884\n",
      "736 0.00012441404141849056\n",
      "737 0.00012386106102305996\n",
      "738 0.00012331127282357062\n",
      "739 0.000122764653824871\n",
      "740 0.0001222211812377771\n",
      "741 0.00012168083247537044\n",
      "742 0.00012114358514861225\n",
      "743 0.00012060941706243555\n",
      "744 0.00012007830621176208\n",
      "745 0.00011955023077778762\n",
      "746 0.00011902516912464863\n",
      "747 0.00011850309979619092\n",
      "748 0.00011798400151330423\n",
      "749 0.00011746785317171176\n",
      "750 0.00011695463384006934\n",
      "751 0.00011644432275850446\n",
      "752 0.0001159368993375479\n",
      "753 0.00011543234315742449\n",
      "754 0.0001149306339673856\n",
      "755 0.0001144317516857335\n",
      "756 0.00011393567639941526\n",
      "757 0.00011344238836400189\n",
      "758 0.00011295186800362554\n",
      "759 0.00011246409591066931\n",
      "760 0.00011197905284526681\n",
      "761 0.00011149671973504808\n",
      "762 0.0001110170776738791\n",
      "763 0.00011054010792093938\n",
      "764 0.00011006579189919384\n",
      "765 0.00010959411119374079\n",
      "766 0.00010912504754976057\n",
      "767 0.00010865858287034176\n",
      "768 0.00010819469921390683\n",
      "769 0.0001077333787918113\n",
      "770 0.00010727460396557611\n",
      "771 0.00010681835724424732\n",
      "772 0.00010636462128155185\n",
      "773 0.00010591337887366661\n",
      "774 0.0001054646129564335\n",
      "775 0.00010501830660337881\n",
      "776 0.00010457444302342287\n",
      "777 0.00010413300555947184\n",
      "778 0.00010369397768642794\n",
      "779 0.00010325734301029979\n",
      "780 0.0001028230852670774\n",
      "781 0.00010239118832180944\n",
      "782 0.00010196163616813305\n",
      "783 0.00010153441292786995\n",
      "784 0.00010110950285050262\n",
      "785 0.0001006868903131168\n",
      "786 0.00010026655982001091\n",
      "787 9.984849600243256e-05\n",
      "788 9.943268361810047e-05\n",
      "789 9.901910755103617e-05\n",
      "790 9.860775281064481e-05\n",
      "791 9.819860453099595e-05\n",
      "792 9.779164796987101e-05\n",
      "793 9.738686850771893e-05\n",
      "794 9.698425164614493e-05\n",
      "795 9.658378300660661e-05\n",
      "796 9.618544832870473e-05\n",
      "797 9.578923346847592e-05\n",
      "798 9.539512439675953e-05\n",
      "799 9.500310719697027e-05\n",
      "800 9.461316806380491e-05\n",
      "801 9.422529330117722e-05\n",
      "802 9.38394693204526e-05\n",
      "803 9.345568263907884e-05\n",
      "804 9.307391987890983e-05\n",
      "805 9.269416776519322e-05\n",
      "806 9.231641312502407e-05\n",
      "807 9.194064288669499e-05\n",
      "808 9.156684407868646e-05\n",
      "809 9.119500382911056e-05\n",
      "810 9.082510936493947e-05\n",
      "811 9.04571480119795e-05\n",
      "812 9.009110719395346e-05\n",
      "813 8.972697443257486e-05\n",
      "814 8.936473734716676e-05\n",
      "815 8.900438365427556e-05\n",
      "816 8.864590116736755e-05\n",
      "817 8.828927779634216e-05\n",
      "818 8.793450154708318e-05\n",
      "819 8.758156052086003e-05\n",
      "820 8.723044291354584e-05\n",
      "821 8.688113701486785e-05\n",
      "822 8.653363120741737e-05\n",
      "823 8.618791396554636e-05\n",
      "824 8.584397385439627e-05\n",
      "825 8.550179952855787e-05\n",
      "826 8.516137973090673e-05\n",
      "827 8.48227032913179e-05\n",
      "828 8.448575912545778e-05\n",
      "829 8.415053623350087e-05\n",
      "830 8.381702369888029e-05\n",
      "831 8.348521068732275e-05\n",
      "832 8.315508644580363e-05\n",
      "833 8.282664030135101e-05\n",
      "834 8.249986166065993e-05\n",
      "835 8.217474000895078e-05\n",
      "836 8.185126490957992e-05\n",
      "837 8.152942600345012e-05\n",
      "838 8.120921300857568e-05\n",
      "839 8.08906157196193e-05\n",
      "840 8.057362400760125e-05\n",
      "841 8.025822781972554e-05\n",
      "842 7.994441717883372e-05\n",
      "843 7.963218218327975e-05\n",
      "844 7.932151300656767e-05\n",
      "845 7.901239989687506e-05\n",
      "846 7.870483317676645e-05\n",
      "847 7.839880324257965e-05\n",
      "848 7.809430056391248e-05\n",
      "849 7.779131568287523e-05\n",
      "850 7.74898392135468e-05\n",
      "851 7.718986184122776e-05\n",
      "852 7.689137432119285e-05\n",
      "853 7.659436747844948e-05\n",
      "854 7.62988322064361e-05\n",
      "855 7.60047594661721e-05\n",
      "856 7.57121402855617e-05\n",
      "857 7.542096575835632e-05\n",
      "858 7.513122704329238e-05\n",
      "859 7.484291536354055e-05\n",
      "860 7.455602200569894e-05\n",
      "861 7.427053831939224e-05\n",
      "862 7.398645571647175e-05\n",
      "863 7.370376567061722e-05\n",
      "864 7.342245971692767e-05\n",
      "865 7.314252945130727e-05\n",
      "866 7.286396653032993e-05\n",
      "867 7.25867626709035e-05\n",
      "868 7.231090964983403e-05\n",
      "869 7.203639930372244e-05\n",
      "870 7.176322352856753e-05\n",
      "871 7.149137427963322e-05\n",
      "872 7.122084357093648e-05\n",
      "873 7.095162347511937e-05\n",
      "874 7.068370612288666e-05\n",
      "875 7.041708370276603e-05\n",
      "876 7.015174846042615e-05\n",
      "877 6.988769269836587e-05\n",
      "878 6.962490877522053e-05\n",
      "879 6.936338910528482e-05\n",
      "880 6.91031261577573e-05\n",
      "881 6.884411245619512e-05\n",
      "882 6.858634057786231e-05\n",
      "883 6.832980315307871e-05\n",
      "884 6.807449286452863e-05\n",
      "885 6.78204024467368e-05\n",
      "886 6.756752468548871e-05\n",
      "887 6.731585241710338e-05\n",
      "888 6.706537852826412e-05\n",
      "889 6.681609595520077e-05\n",
      "890 6.65679976835617e-05\n",
      "891 6.63210767478738e-05\n",
      "892 6.607532623125102e-05\n",
      "893 6.583073926520153e-05\n",
      "894 6.558730902918909e-05\n",
      "895 6.534502875047008e-05\n",
      "896 6.510389170399095e-05\n",
      "897 6.48638912118302e-05\n",
      "898 6.462502064322023e-05\n",
      "899 6.438727341424222e-05\n",
      "900 6.41506429874886e-05\n",
      "901 6.391512287184687e-05\n",
      "902 6.36807066220244e-05\n",
      "903 6.344738783829984e-05\n",
      "904 6.321516016615231e-05\n",
      "905 6.298401729584719e-05\n",
      "906 6.275395296177964e-05\n",
      "907 6.2524960942424e-05\n",
      "908 6.229703505943207e-05\n",
      "909 6.207016917737425e-05\n",
      "910 6.18443572033693e-05\n",
      "911 6.161959308632016e-05\n",
      "912 6.139587081679324e-05\n",
      "913 6.117318442624938e-05\n",
      "914 6.0951527986923916e-05\n",
      "915 6.073089561127424e-05\n",
      "916 6.05112814517619e-05\n",
      "917 6.029267970040597e-05\n",
      "918 6.007508458850892e-05\n",
      "919 5.985849038652964e-05\n",
      "920 5.964289140371884e-05\n",
      "921 5.94282819878848e-05\n",
      "922 5.921465652528427e-05\n",
      "923 5.900200944033664e-05\n",
      "924 5.8790335195440446e-05\n",
      "925 5.857962829081252e-05\n",
      "926 5.836988326415764e-05\n",
      "927 5.8161094690625364e-05\n",
      "928 5.7953257182348537e-05\n",
      "929 5.774636538831334e-05\n",
      "930 5.75404139940573e-05\n",
      "931 5.733539772128411e-05\n",
      "932 5.7131311327678554e-05\n",
      "933 5.69281496063775e-05\n",
      "934 5.672590738585821e-05\n",
      "935 5.6524579529354914e-05\n",
      "936 5.632416093461311e-05\n",
      "937 5.612464653357847e-05\n",
      "938 5.5926031291885586e-05\n",
      "939 5.5728310208729884e-05\n",
      "940 5.5531478316368413e-05\n",
      "941 5.533553067993742e-05\n",
      "942 5.514046239707367e-05\n",
      "943 5.494626859771464e-05\n",
      "944 5.475294444390264e-05\n",
      "945 5.456048512940989e-05\n",
      "946 5.436888587967322e-05\n",
      "947 5.417814195153486e-05\n",
      "948 5.398824863311029e-05\n",
      "949 5.379920124354476e-05\n",
      "950 5.3610995132902754e-05\n",
      "951 5.3423625682022835e-05\n",
      "952 5.323708830220172e-05\n",
      "953 5.3051378435192706e-05\n",
      "954 5.286649155286443e-05\n",
      "955 5.268242315706002e-05\n",
      "956 5.249916877938295e-05\n",
      "957 5.2316723980947985e-05\n",
      "958 5.213508435213969e-05\n",
      "959 5.1954245512271636e-05\n",
      "960 5.177420310952848e-05\n",
      "961 5.159495282048474e-05\n",
      "962 5.141649034990073e-05\n",
      "963 5.123881143053029e-05\n",
      "964 5.1061911822721336e-05\n",
      "965 5.088578731426117e-05\n",
      "966 5.071043372006825e-05\n",
      "967 5.0535846881876383e-05\n",
      "968 5.036202266832906e-05\n",
      "969 5.018895697426309e-05\n",
      "970 5.0016645721002876e-05\n",
      "971 4.984508485584764e-05\n",
      "972 4.967427035201e-05\n",
      "973 4.9504198208544046e-05\n",
      "974 4.9334864450014255e-05\n",
      "975 4.916626512652364e-05\n",
      "976 4.8998396313421405e-05\n",
      "977 4.8831254111290916e-05\n",
      "978 4.866483464564842e-05\n",
      "979 4.849913406703707e-05\n"
     ]
    },
    {
     "name": "stdout",
     "output_type": "stream",
     "text": [
      "980 4.8334148550515586e-05\n",
      "981 4.816987429590819e-05\n",
      "982 4.8006307527217275e-05\n",
      "983 4.7843444492757436e-05\n",
      "984 4.768128146479113e-05\n",
      "985 4.751981473942832e-05\n",
      "986 4.7359040636313364e-05\n",
      "987 4.7198955498505205e-05\n",
      "988 4.7039555692172285e-05\n",
      "989 4.688083760658388e-05\n",
      "990 4.672279765360881e-05\n",
      "991 4.6565432267755674e-05\n",
      "992 4.640873790585695e-05\n",
      "993 4.625271104693287e-05\n",
      "994 4.6097348191959155e-05\n",
      "995 4.5942645863702894e-05\n",
      "996 4.578860060668322e-05\n",
      "997 4.5635208986863736e-05\n",
      "998 4.5482467591567404e-05\n",
      "999 4.533037302947756e-05\n"
     ]
    }
   ],
   "source": [
    "np.random.seed(43)\n",
    "random.seed(43)\n",
    "tf.random.set_seed(43)\n",
    "\n",
    "spam_model = SPAM(d=d,\n",
    "                  optimizer = tf.optimizers.Adam(learning_rate=0.01))\n",
    "\n",
    "spam_model.train(inputs = inputs_spam,\n",
    "                 targets = targets_spam,\n",
    "                 num_iter = 1000,\n",
    "                 N = N_spam\n",
    "                 )"
   ]
  },
  {
   "cell_type": "code",
   "execution_count": 8,
   "metadata": {},
   "outputs": [
    {
     "name": "stdout",
     "output_type": "stream",
     "text": [
      "[[1.+0.j 0.+0.j 0.+0.j 0.+0.j]\n",
      " [0.+0.j 0.+0.j 0.+0.j 0.+0.j]\n",
      " [0.+0.j 0.+0.j 0.+0.j 0.+0.j]\n",
      " [0.+0.j 0.+0.j 0.+0.j 0.+0.j]]\n",
      "[[ 1.965e-03+0.000e+00j -7.086e-04-3.434e-02j -5.023e-05-1.687e-05j\n",
      "   1.188e-03+1.347e-04j]\n",
      " [-7.086e-04+3.434e-02j  9.967e-01+0.000e+00j -8.379e-04-6.996e-04j\n",
      "   1.668e-03+3.468e-02j]\n",
      " [-5.023e-05+1.687e-05j -8.379e-04+6.996e-04j  7.517e-06+0.000e+00j\n",
      "  -3.293e-05-3.832e-05j]\n",
      " [ 1.188e-03-1.347e-04j  1.668e-03-3.468e-02j -3.293e-05+3.832e-05j\n",
      "   1.284e-03+0.000e+00j]]\n",
      "--------\n",
      "[[[1.+0.j 0.+0.j 0.+0.j 0.+0.j]\n",
      "  [0.+0.j 0.+0.j 0.+0.j 0.+0.j]\n",
      "  [0.+0.j 0.+0.j 0.+0.j 0.+0.j]\n",
      "  [0.+0.j 0.+0.j 0.+0.j 0.+0.j]]\n",
      "\n",
      " [[0.+0.j 0.+0.j 0.+0.j 0.+0.j]\n",
      "  [0.+0.j 1.+0.j 0.+0.j 0.+0.j]\n",
      "  [0.+0.j 0.+0.j 0.+0.j 0.+0.j]\n",
      "  [0.+0.j 0.+0.j 0.+0.j 0.+0.j]]\n",
      "\n",
      " [[0.+0.j 0.+0.j 0.+0.j 0.+0.j]\n",
      "  [0.+0.j 0.+0.j 0.+0.j 0.+0.j]\n",
      "  [0.+0.j 0.+0.j 1.+0.j 0.+0.j]\n",
      "  [0.+0.j 0.+0.j 0.+0.j 0.+0.j]]\n",
      "\n",
      " [[0.+0.j 0.+0.j 0.+0.j 0.+0.j]\n",
      "  [0.+0.j 0.+0.j 0.+0.j 0.+0.j]\n",
      "  [0.+0.j 0.+0.j 0.+0.j 0.+0.j]\n",
      "  [0.+0.j 0.+0.j 0.+0.j 1.+0.j]]]\n",
      "[[[ 1.535e-03-5.421e-19j -2.296e-04-3.414e-02j  1.341e-04+8.978e-06j\n",
      "    1.117e-03-3.863e-05j]\n",
      "  [-2.296e-04+3.414e-02j  9.926e-01+2.602e-18j -1.435e-03+4.764e-04j\n",
      "    1.825e-03+3.449e-02j]\n",
      "  [ 1.341e-04-8.978e-06j -1.435e-03-4.764e-04j  1.872e-03+4.760e-19j\n",
      "   -1.026e-03-1.045e-04j]\n",
      "  [ 1.117e-03+3.863e-05j  1.825e-03-3.449e-02j -1.026e-03+1.045e-04j\n",
      "    1.793e-03-1.735e-18j]]\n",
      "\n",
      " [[ 9.936e-01+2.168e-18j  7.784e-04+3.430e-02j  1.648e-03+3.458e-02j\n",
      "   -9.801e-04+6.079e-04j]\n",
      "  [ 7.784e-04-3.430e-02j  3.817e-03+5.963e-19j  1.742e-03-1.213e-03j\n",
      "   -3.827e-04+3.713e-05j]\n",
      "  [ 1.648e-03-3.458e-02j  1.742e-03+1.213e-03j  2.807e-03+1.016e-18j\n",
      "   -8.727e-05-5.974e-05j]\n",
      "  [-9.801e-04-6.079e-04j -3.827e-04-3.713e-05j -8.727e-05+5.974e-05j\n",
      "    7.963e-05-2.236e-19j]]\n",
      "\n",
      " [[ 2.409e-04+6.776e-21j -2.845e-04-1.352e-04j -1.324e-04-6.233e-05j\n",
      "   -1.104e-03+6.742e-04j]\n",
      "  [-2.845e-04+1.352e-04j  3.478e-03+1.735e-18j  1.366e-03-3.499e-04j\n",
      "   -1.163e-03-3.442e-02j]\n",
      "  [-1.324e-04+6.233e-05j  1.366e-03+3.499e-04j  1.812e-03+8.674e-19j\n",
      "   -1.461e-04-3.415e-02j]\n",
      "  [-1.104e-03-6.742e-04j -1.163e-03+3.442e-02j -1.461e-04+3.415e-02j\n",
      "    9.945e-01-3.643e-17j]]\n",
      "\n",
      " [[ 4.586e-03-1.376e-18j -2.643e-04-2.591e-05j -1.650e-03-3.452e-02j\n",
      "    9.670e-04-1.243e-03j]\n",
      "  [-2.643e-04+2.591e-05j  1.339e-04+1.491e-19j -1.673e-03+1.087e-03j\n",
      "   -2.793e-04-1.044e-04j]\n",
      "  [-1.650e-03+3.452e-02j -1.673e-03-1.087e-03j  9.935e-01-9.975e-18j\n",
      "    1.260e-03+3.432e-02j]\n",
      "  [ 9.670e-04+1.243e-03j -2.793e-04+1.044e-04j  1.260e-03-3.432e-02j\n",
      "    3.617e-03-1.301e-18j]]]\n"
     ]
    }
   ],
   "source": [
    "print(spam_target.init.numpy())\n",
    "print(spam_model.init.numpy())\n",
    "print(\"--------\")\n",
    "print(spam_target.povm.numpy())\n",
    "print(spam_model.povm.numpy())"
   ]
  },
  {
   "cell_type": "code",
   "execution_count": 10,
   "metadata": {},
   "outputs": [
    {
     "data": {
      "application/vnd.jupyter.widget-view+json": {
       "model_id": "b0051d8dae1d401ead269c2799458398",
       "version_major": 2,
       "version_minor": 0
      },
      "text/plain": [
       "  0%|          | 0/1000 [00:00<?, ?it/s]"
      ]
     },
     "metadata": {},
     "output_type": "display_data"
    },
    {
     "name": "stdout",
     "output_type": "stream",
     "text": [
      "0 0.0\n",
      "1 0.0\n",
      "2 0.0\n",
      "3 0.0\n",
      "4 0.0\n",
      "5 0.0\n",
      "6 0.0\n",
      "7 0.0\n",
      "8 0.0\n",
      "9 0.0\n",
      "10 0.0\n",
      "11 0.0\n",
      "12 0.0\n",
      "13 0.0\n",
      "14 0.0\n",
      "15 0.0\n",
      "16 0.0\n",
      "17 0.0\n",
      "18 0.0\n",
      "19 0.0\n",
      "20 0.0\n",
      "21 0.0\n",
      "22 0.0\n",
      "23 0.0\n",
      "24 0.0\n",
      "25 0.0\n",
      "26 0.0\n",
      "27 0.0\n",
      "28 0.0\n",
      "29 0.0\n",
      "30 0.0\n",
      "31 0.0\n",
      "32 0.0\n",
      "33 0.0\n",
      "34 0.0\n",
      "35 0.0\n",
      "36 0.0\n",
      "37 0.0\n",
      "38 0.0\n",
      "39 0.0\n",
      "40 0.0\n",
      "41 0.0\n",
      "42 0.0\n",
      "43 0.0\n",
      "44 0.0\n",
      "45 0.0\n",
      "46 0.0\n",
      "47 0.0\n",
      "48 0.0\n",
      "49 0.0\n",
      "50 0.0\n",
      "51 0.0\n",
      "52 0.0\n",
      "53 0.0\n",
      "54 0.0\n",
      "55 0.0\n",
      "56 0.0\n",
      "57 0.0\n",
      "58 0.0\n",
      "59 0.0\n",
      "60 0.0\n",
      "61 0.0\n",
      "62 0.0\n",
      "63 0.0\n",
      "64 0.0\n",
      "65 0.0\n",
      "66 0.0\n",
      "67 0.0\n",
      "68 0.0\n",
      "69 0.0\n",
      "70 0.0\n",
      "71 0.0\n",
      "72 0.0\n",
      "73 0.0\n",
      "74 0.0\n",
      "75 0.0\n",
      "76 0.0\n",
      "77 0.0\n",
      "78 0.0\n",
      "79 0.0\n",
      "80 0.0\n",
      "81 0.0\n",
      "82 0.0\n",
      "83 0.0\n",
      "84 0.0\n",
      "85 0.0\n",
      "86 0.0\n",
      "87 0.0\n",
      "88 0.0\n",
      "89 0.0\n",
      "90 0.0\n",
      "91 0.0\n",
      "92 0.0\n",
      "93 0.0\n",
      "94 0.0\n",
      "95 0.0\n",
      "96 0.0\n",
      "97 0.0\n",
      "98 0.0\n",
      "99 0.0\n",
      "100 0.0\n",
      "101 0.0\n",
      "102 0.0\n",
      "103 0.0\n",
      "104 0.0\n",
      "105 0.0\n",
      "106 0.0\n",
      "107 0.0\n",
      "108 0.0\n",
      "109 0.0\n",
      "110 0.0\n",
      "111 0.0\n",
      "112 0.0\n",
      "113 0.0\n",
      "114 0.0\n",
      "115 0.0\n",
      "116 0.0\n",
      "117 0.0\n",
      "118 0.0\n",
      "119 0.0\n",
      "120 0.0\n",
      "121 0.0\n",
      "122 0.0\n",
      "123 0.0\n",
      "124 0.0\n",
      "125 0.0\n",
      "126 0.0\n",
      "127 0.0\n",
      "128 0.0\n",
      "129 0.0\n",
      "130 0.0\n",
      "131 0.0\n",
      "132 0.0\n",
      "133 0.0\n",
      "134 0.0\n",
      "135 0.0\n",
      "136 0.0\n",
      "137 0.0\n",
      "138 0.0\n",
      "139 0.0\n",
      "140 0.0\n",
      "141 0.0\n",
      "142 0.0\n",
      "143 0.0\n",
      "144 0.0\n",
      "145 0.0\n",
      "146 0.0\n",
      "147 0.0\n",
      "148 0.0\n",
      "149 0.0\n",
      "150 0.0\n",
      "151 0.0\n",
      "152 0.0\n",
      "153 0.0\n",
      "154 0.0\n",
      "155 0.0\n",
      "156 0.0\n",
      "157 0.0\n",
      "158 0.0\n",
      "159 0.0\n",
      "160 0.0\n",
      "161 0.0\n",
      "162 0.0\n",
      "163 0.0\n",
      "164 0.0\n",
      "165 0.0\n",
      "166 0.0\n",
      "167 0.0\n",
      "168 0.0\n",
      "169 0.0\n",
      "170 0.0\n",
      "171 0.0\n",
      "172 0.0\n",
      "173 0.0\n",
      "174 0.0\n",
      "175 0.0\n",
      "176 0.0\n",
      "177 0.0\n",
      "178 0.0\n",
      "179 0.0\n",
      "180 0.0\n",
      "181 0.0\n",
      "182 0.0\n",
      "183 0.0\n",
      "184 0.0\n",
      "185 0.0\n",
      "186 0.0\n",
      "187 0.0\n",
      "188 0.0\n",
      "189 0.0\n",
      "190 0.0\n",
      "191 0.0\n",
      "192 0.0\n",
      "193 0.0\n",
      "194 0.0\n",
      "195 0.0\n",
      "196 0.0\n",
      "197 0.0\n",
      "198 0.0\n",
      "199 0.0\n",
      "200 0.0\n",
      "201 0.0\n",
      "202 0.0\n",
      "203 0.0\n",
      "204 0.0\n",
      "205 0.0\n",
      "206 0.0\n",
      "207 0.0\n",
      "208 0.0\n",
      "209 0.0\n",
      "210 0.0\n",
      "211 0.0\n",
      "212 0.0\n",
      "213 0.0\n",
      "214 0.0\n",
      "215 0.0\n",
      "216 0.0\n",
      "217 0.0\n",
      "218 0.0\n",
      "219 0.0\n",
      "220 0.0\n",
      "221 0.0\n",
      "222 0.0\n",
      "223 0.0\n",
      "224 0.0\n",
      "225 0.0\n",
      "226 0.0\n",
      "227 0.0\n",
      "228 0.0\n",
      "229 0.0\n",
      "230 0.0\n",
      "231 0.0\n",
      "232 0.0\n",
      "233 0.0\n",
      "234 0.0\n",
      "235 0.0\n",
      "236 0.0\n",
      "237 0.0\n",
      "238 0.0\n",
      "239 0.0\n",
      "240 0.0\n",
      "241 0.0\n",
      "242 0.0\n",
      "243 0.0\n",
      "244 0.0\n",
      "245 0.0\n",
      "246 0.0\n",
      "247 0.0\n",
      "248 0.0\n",
      "249 0.0\n",
      "250 0.0\n",
      "251 0.0\n",
      "252 0.0\n",
      "253 0.0\n",
      "254 0.0\n",
      "255 0.0\n",
      "256 0.0\n",
      "257 0.0\n",
      "258 0.0\n",
      "259 0.0\n",
      "260 0.0\n",
      "261 0.0\n",
      "262 0.0\n",
      "263 0.0\n",
      "264 0.0\n",
      "265 0.0\n",
      "266 0.0\n",
      "267 0.0\n",
      "268 0.0\n",
      "269 0.0\n",
      "270 0.0\n",
      "271 0.0\n",
      "272 0.0\n",
      "273 0.0\n",
      "274 0.0\n",
      "275 0.0\n",
      "276 0.0\n",
      "277 0.0\n",
      "278 0.0\n",
      "279 0.0\n",
      "280 0.0\n",
      "281 0.0\n",
      "282 0.0\n",
      "283 0.0\n",
      "284 0.0\n",
      "285 0.0\n",
      "286 0.0\n",
      "287 0.0\n",
      "288 0.0\n",
      "289 0.0\n",
      "290 0.0\n",
      "291 0.0\n",
      "292 0.0\n",
      "293 0.0\n",
      "294 0.0\n",
      "295 0.0\n",
      "296 0.0\n",
      "297 0.0\n",
      "298 0.0\n",
      "299 0.0\n",
      "300 0.0\n",
      "301 0.0\n",
      "302 0.0\n",
      "303 0.0\n",
      "304 0.0\n",
      "305 0.0\n",
      "306 0.0\n",
      "307 0.0\n",
      "308 0.0\n",
      "309 0.0\n",
      "310 0.0\n",
      "311 0.0\n",
      "312 0.0\n",
      "313 0.0\n",
      "314 0.0\n",
      "315 0.0\n",
      "316 0.0\n",
      "317 0.0\n",
      "318 0.0\n",
      "319 0.0\n",
      "320 0.0\n",
      "321 0.0\n",
      "322 0.0\n",
      "323 0.0\n",
      "324 0.0\n",
      "325 0.0\n",
      "326 0.0\n",
      "327 0.0\n",
      "328 0.0\n",
      "329 0.0\n",
      "330 0.0\n",
      "331 0.0\n",
      "332 0.0\n",
      "333 0.0\n",
      "334 0.0\n",
      "335 0.0\n",
      "336 0.0\n",
      "337 0.0\n",
      "338 0.0\n",
      "339 0.0\n",
      "340 0.0\n",
      "341 0.0\n",
      "342 0.0\n",
      "343 0.0\n",
      "344 0.0\n",
      "345 0.0\n",
      "346 0.0\n",
      "347 0.0\n",
      "348 0.0\n",
      "349 0.0\n",
      "350 0.0\n",
      "351 0.0\n",
      "352 0.0\n",
      "353 0.0\n",
      "354 0.0\n",
      "355 0.0\n",
      "356 0.0\n",
      "357 0.0\n",
      "358 0.0\n",
      "359 0.0\n",
      "360 0.0\n",
      "361 0.0\n",
      "362 0.0\n",
      "363 0.0\n",
      "364 0.0\n",
      "365 0.0\n",
      "366 0.0\n",
      "367 0.0\n",
      "368 0.0\n",
      "369 0.0\n",
      "370 0.0\n",
      "371 0.0\n",
      "372 0.0\n",
      "373 0.0\n",
      "374 0.0\n",
      "375 0.0\n",
      "376 0.0\n",
      "377 0.0\n",
      "378 0.0\n",
      "379 0.0\n",
      "380 0.0\n",
      "381 0.0\n",
      "382 0.0\n",
      "383 0.0\n",
      "384 0.0\n",
      "385 0.0\n",
      "386 0.0\n",
      "387 0.0\n",
      "388 0.0\n",
      "389 0.0\n",
      "390 0.0\n",
      "391 0.0\n",
      "392 0.0\n",
      "393 0.0\n",
      "394 0.0\n",
      "395 0.0\n",
      "396 0.0\n",
      "397 0.0\n",
      "398 0.0\n",
      "399 0.0\n",
      "400 0.0\n",
      "401 0.0\n",
      "402 0.0\n",
      "403 0.0\n",
      "404 0.0\n",
      "405 0.0\n",
      "406 0.0\n",
      "407 0.0\n",
      "408 0.0\n",
      "409 0.0\n",
      "410 0.0\n",
      "411 0.0\n",
      "412 0.0\n",
      "413 0.0\n",
      "414 0.0\n",
      "415 0.0\n",
      "416 0.0\n",
      "417 0.0\n",
      "418 0.0\n",
      "419 0.0\n",
      "420 0.0\n",
      "421 0.0\n",
      "422 0.0\n",
      "423 0.0\n",
      "424 0.0\n",
      "425 0.0\n",
      "426 0.0\n",
      "427 0.0\n",
      "428 0.0\n",
      "429 0.0\n",
      "430 0.0\n",
      "431 0.0\n",
      "432 0.0\n",
      "433 0.0\n",
      "434 0.0\n",
      "435 0.0\n",
      "436 0.0\n",
      "437 0.0\n",
      "438 0.0\n",
      "439 0.0\n",
      "440 0.0\n",
      "441 0.0\n",
      "442 0.0\n",
      "443 0.0\n",
      "444 0.0\n",
      "445 0.0\n",
      "446 0.0\n",
      "447 0.0\n",
      "448 0.0\n",
      "449 0.0\n",
      "450 0.0\n",
      "451 0.0\n",
      "452 0.0\n",
      "453 0.0\n",
      "454 0.0\n",
      "455 0.0\n",
      "456 0.0\n",
      "457 0.0\n",
      "458 0.0\n",
      "459 0.0\n",
      "460 0.0\n",
      "461 0.0\n",
      "462 0.0\n",
      "463 0.0\n",
      "464 0.0\n",
      "465 0.0\n",
      "466 0.0\n",
      "467 0.0\n",
      "468 0.0\n",
      "469 0.0\n",
      "470 0.0\n",
      "471 0.0\n",
      "472 0.0\n",
      "473 0.0\n",
      "474 0.0\n",
      "475 0.0\n",
      "476 0.0\n",
      "477 0.0\n",
      "478 0.0\n",
      "479 0.0\n",
      "480 0.0\n",
      "481 0.0\n",
      "482 0.0\n",
      "483 0.0\n",
      "484 0.0\n",
      "485 0.0\n",
      "486 0.0\n",
      "487 0.0\n",
      "488 0.0\n",
      "489 0.0\n",
      "490 0.0\n",
      "491 0.0\n",
      "492 0.0\n",
      "493 0.0\n",
      "494 0.0\n",
      "495 0.0\n",
      "496 0.0\n",
      "497 0.0\n",
      "498 0.0\n",
      "499 0.0\n",
      "500 0.0\n",
      "501 0.0\n",
      "502 0.0\n",
      "503 0.0\n",
      "504 0.0\n",
      "505 0.0\n",
      "506 0.0\n",
      "507 0.0\n",
      "508 0.0\n",
      "509 0.0\n",
      "510 0.0\n",
      "511 0.0\n",
      "512 0.0\n",
      "513 0.0\n",
      "514 0.0\n",
      "515 0.0\n",
      "516 0.0\n",
      "517 0.0\n",
      "518 0.0\n",
      "519 0.0\n",
      "520 0.0\n",
      "521 0.0\n",
      "522 0.0\n",
      "523 0.0\n",
      "524 0.0\n",
      "525 0.0\n",
      "526 0.0\n",
      "527 0.0\n",
      "528 0.0\n",
      "529 0.0\n",
      "530 0.0\n",
      "531 0.0\n",
      "532 0.0\n",
      "533 0.0\n",
      "534 0.0\n",
      "535 0.0\n",
      "536 0.0\n",
      "537 0.0\n",
      "538 0.0\n",
      "539 0.0\n",
      "540 0.0\n",
      "541 0.0\n",
      "542 0.0\n",
      "543 0.0\n",
      "544 0.0\n",
      "545 0.0\n",
      "546 0.0\n",
      "547 0.0\n",
      "548 0.0\n",
      "549 0.0\n",
      "550 0.0\n",
      "551 0.0\n",
      "552 0.0\n",
      "553 0.0\n",
      "554 0.0\n",
      "555 0.0\n",
      "556 0.0\n",
      "557 0.0\n",
      "558 0.0\n",
      "559 0.0\n",
      "560 0.0\n",
      "561 0.0\n",
      "562 0.0\n",
      "563 0.0\n",
      "564 0.0\n",
      "565 0.0\n",
      "566 0.0\n",
      "567 0.0\n",
      "568 0.0\n",
      "569 0.0\n",
      "570 0.0\n",
      "571 0.0\n",
      "572 0.0\n",
      "573 0.0\n",
      "574 0.0\n",
      "575 0.0\n",
      "576 0.0\n",
      "577 0.0\n",
      "578 0.0\n",
      "579 0.0\n",
      "580 0.0\n",
      "581 0.0\n",
      "582 0.0\n",
      "583 0.0\n",
      "584 0.0\n",
      "585 0.0\n",
      "586 0.0\n",
      "587 0.0\n",
      "588 0.0\n",
      "589 0.0\n",
      "590 0.0\n",
      "591 0.0\n",
      "592 0.0\n",
      "593 0.0\n",
      "594 0.0\n",
      "595 0.0\n",
      "596 0.0\n",
      "597 0.0\n",
      "598 0.0\n",
      "599 0.0\n",
      "600 0.0\n",
      "601 0.0\n",
      "602 0.0\n",
      "603 0.0\n",
      "604 0.0\n",
      "605 0.0\n",
      "606 0.0\n",
      "607 0.0\n",
      "608 0.0\n",
      "609 0.0\n",
      "610 0.0\n",
      "611 0.0\n",
      "612 0.0\n",
      "613 0.0\n",
      "614 0.0\n",
      "615 0.0\n",
      "616 0.0\n",
      "617 0.0\n",
      "618 0.0\n",
      "619 0.0\n",
      "620 0.0\n",
      "621 0.0\n",
      "622 0.0\n",
      "623 0.0\n",
      "624 0.0\n",
      "625 0.0\n",
      "626 0.0\n",
      "627 0.0\n",
      "628 0.0\n",
      "629 0.0\n",
      "630 0.0\n",
      "631 0.0\n",
      "632 0.0\n",
      "633 0.0\n",
      "634 0.0\n",
      "635 0.0\n",
      "636 0.0\n",
      "637 0.0\n",
      "638 0.0\n",
      "639 0.0\n",
      "640 0.0\n",
      "641 0.0\n",
      "642 0.0\n",
      "643 0.0\n",
      "644 0.0\n",
      "645 0.0\n",
      "646 0.0\n",
      "647 0.0\n",
      "648 0.0\n",
      "649 0.0\n",
      "650 0.0\n",
      "651 0.0\n",
      "652 0.0\n",
      "653 0.0\n",
      "654 0.0\n",
      "655 0.0\n",
      "656 0.0\n",
      "657 0.0\n",
      "658 0.0\n",
      "659 0.0\n",
      "660 0.0\n",
      "661 0.0\n",
      "662 0.0\n",
      "663 0.0\n",
      "664 0.0\n",
      "665 0.0\n",
      "666 0.0\n",
      "667 0.0\n",
      "668 0.0\n",
      "669 0.0\n",
      "670 0.0\n",
      "671 0.0\n",
      "672 0.0\n",
      "673 0.0\n",
      "674 0.0\n",
      "675 0.0\n",
      "676 0.0\n",
      "677 0.0\n",
      "678 0.0\n",
      "679 0.0\n",
      "680 0.0\n",
      "681 0.0\n",
      "682 0.0\n",
      "683 0.0\n",
      "684 0.0\n",
      "685 0.0\n",
      "686 0.0\n",
      "687 0.0\n",
      "688 0.0\n",
      "689 0.0\n",
      "690 0.0\n",
      "691 0.0\n",
      "692 0.0\n",
      "693 0.0\n",
      "694 0.0\n",
      "695 0.0\n",
      "696 0.0\n",
      "697 0.0\n",
      "698 0.0\n",
      "699 0.0\n",
      "700 0.0\n",
      "701 0.0\n",
      "702 0.0\n",
      "703 0.0\n",
      "704 0.0\n",
      "705 0.0\n",
      "706 0.0\n",
      "707 0.0\n",
      "708 0.0\n",
      "709 0.0\n",
      "710 0.0\n",
      "711 0.0\n",
      "712 0.0\n",
      "713 0.0\n",
      "714 0.0\n",
      "715 0.0\n",
      "716 0.0\n",
      "717 0.0\n",
      "718 0.0\n",
      "719 0.0\n",
      "720 0.0\n",
      "721 0.0\n",
      "722 0.0\n",
      "723 0.0\n",
      "724 0.0\n",
      "725 0.0\n",
      "726 0.0\n",
      "727 0.0\n",
      "728 0.0\n",
      "729 0.0\n",
      "730 0.0\n",
      "731 0.0\n",
      "732 0.0\n",
      "733 0.0\n",
      "734 0.0\n",
      "735 0.0\n",
      "736 0.0\n",
      "737 0.0\n",
      "738 0.0\n",
      "739 0.0\n",
      "740 0.0\n",
      "741 0.0\n",
      "742 0.0\n",
      "743 0.0\n",
      "744 0.0\n",
      "745 0.0\n",
      "746 0.0\n",
      "747 0.0\n",
      "748 0.0\n",
      "749 0.0\n",
      "750 0.0\n",
      "751 0.0\n",
      "752 0.0\n",
      "753 0.0\n",
      "754 0.0\n",
      "755 0.0\n",
      "756 0.0\n",
      "757 0.0\n",
      "758 0.0\n",
      "759 0.0\n",
      "760 0.0\n",
      "761 0.0\n",
      "762 0.0\n",
      "763 0.0\n",
      "764 0.0\n",
      "765 0.0\n",
      "766 0.0\n",
      "767 0.0\n",
      "768 0.0\n",
      "769 0.0\n",
      "770 0.0\n",
      "771 0.0\n",
      "772 0.0\n",
      "773 0.0\n",
      "774 0.0\n",
      "775 0.0\n",
      "776 0.0\n",
      "777 0.0\n",
      "778 0.0\n",
      "779 0.0\n",
      "780 0.0\n",
      "781 0.0\n",
      "782 0.0\n",
      "783 0.0\n",
      "784 0.0\n",
      "785 0.0\n",
      "786 0.0\n",
      "787 0.0\n",
      "788 0.0\n",
      "789 0.0\n",
      "790 0.0\n",
      "791 0.0\n",
      "792 0.0\n",
      "793 0.0\n",
      "794 0.0\n",
      "795 0.0\n",
      "796 0.0\n",
      "797 0.0\n",
      "798 0.0\n",
      "799 0.0\n",
      "800 0.0\n",
      "801 0.0\n",
      "802 0.0\n",
      "803 0.0\n",
      "804 0.0\n",
      "805 0.0\n",
      "806 0.0\n",
      "807 0.0\n",
      "808 0.0\n",
      "809 0.0\n",
      "810 0.0\n",
      "811 0.0\n",
      "812 0.0\n",
      "813 0.0\n",
      "814 0.0\n",
      "815 0.0\n",
      "816 0.0\n",
      "817 0.0\n",
      "818 0.0\n",
      "819 0.0\n",
      "820 0.0\n",
      "821 0.0\n",
      "822 0.0\n",
      "823 0.0\n",
      "824 0.0\n",
      "825 0.0\n",
      "826 0.0\n",
      "827 0.0\n",
      "828 0.0\n",
      "829 0.0\n",
      "830 0.0\n",
      "831 0.0\n",
      "832 0.0\n",
      "833 0.0\n",
      "834 0.0\n",
      "835 0.0\n",
      "836 0.0\n",
      "837 0.0\n",
      "838 0.0\n",
      "839 0.0\n",
      "840 0.0\n",
      "841 0.0\n",
      "842 0.0\n",
      "843 0.0\n",
      "844 0.0\n",
      "845 0.0\n",
      "846 0.0\n",
      "847 0.0\n",
      "848 0.0\n",
      "849 0.0\n",
      "850 0.0\n",
      "851 0.0\n",
      "852 0.0\n",
      "853 0.0\n",
      "854 0.0\n",
      "855 0.0\n",
      "856 0.0\n",
      "857 0.0\n",
      "858 0.0\n",
      "859 0.0\n",
      "860 0.0\n",
      "861 0.0\n",
      "862 0.0\n",
      "863 0.0\n",
      "864 0.0\n",
      "865 0.0\n",
      "866 0.0\n",
      "867 0.0\n",
      "868 0.0\n",
      "869 0.0\n",
      "870 0.0\n",
      "871 0.0\n",
      "872 0.0\n",
      "873 0.0\n",
      "874 0.0\n",
      "875 0.0\n",
      "876 0.0\n",
      "877 0.0\n",
      "878 0.0\n",
      "879 0.0\n",
      "880 0.0\n",
      "881 0.0\n",
      "882 0.0\n",
      "883 0.0\n",
      "884 0.0\n",
      "885 0.0\n",
      "886 0.0\n",
      "887 0.0\n",
      "888 0.0\n",
      "889 0.0\n",
      "890 0.0\n",
      "891 0.0\n",
      "892 0.0\n",
      "893 0.0\n",
      "894 0.0\n",
      "895 0.0\n",
      "896 0.0\n",
      "897 0.0\n",
      "898 0.0\n",
      "899 0.0\n",
      "900 0.0\n",
      "901 0.0\n",
      "902 0.0\n",
      "903 0.0\n",
      "904 0.0\n",
      "905 0.0\n",
      "906 0.0\n",
      "907 0.0\n",
      "908 0.0\n",
      "909 0.0\n",
      "910 0.0\n",
      "911 0.0\n",
      "912 0.0\n",
      "913 0.0\n",
      "914 0.0\n",
      "915 0.0\n",
      "916 0.0\n",
      "917 0.0\n",
      "918 0.0\n",
      "919 0.0\n",
      "920 0.0\n",
      "921 0.0\n",
      "922 0.0\n",
      "923 0.0\n",
      "924 0.0\n",
      "925 0.0\n",
      "926 0.0\n",
      "927 0.0\n",
      "928 0.0\n",
      "929 0.0\n",
      "930 0.0\n",
      "931 0.0\n",
      "932 0.0\n",
      "933 0.0\n",
      "934 0.0\n",
      "935 0.0\n",
      "936 0.0\n",
      "937 0.0\n",
      "938 0.0\n",
      "939 0.0\n",
      "940 0.0\n",
      "941 0.0\n",
      "942 0.0\n",
      "943 0.0\n",
      "944 0.0\n",
      "945 0.0\n",
      "946 0.0\n",
      "947 0.0\n",
      "948 0.0\n",
      "949 0.0\n",
      "950 0.0\n",
      "951 0.0\n",
      "952 0.0\n",
      "953 0.0\n",
      "954 0.0\n",
      "955 0.0\n",
      "956 0.0\n",
      "957 0.0\n",
      "958 0.0\n",
      "959 0.0\n",
      "960 0.0\n",
      "961 0.0\n",
      "962 0.0\n",
      "963 0.0\n",
      "964 0.0\n",
      "965 0.0\n",
      "966 0.0\n",
      "967 0.0\n",
      "968 0.0\n",
      "969 0.0\n",
      "970 0.0\n",
      "971 0.0\n",
      "972 0.0\n",
      "973 0.0\n",
      "974 0.0\n",
      "975 0.0\n",
      "976 0.0\n",
      "977 0.0\n",
      "978 0.0\n",
      "979 0.0\n",
      "980 0.0\n",
      "981 0.0\n",
      "982 0.0\n",
      "983 0.0\n",
      "984 0.0\n",
      "985 0.0\n",
      "986 0.0\n",
      "987 0.0\n",
      "988 0.0\n",
      "989 0.0\n",
      "990 0.0\n",
      "991 0.0\n",
      "992 0.0\n",
      "993 0.0\n",
      "994 0.0\n",
      "995 0.0\n",
      "996 0.0\n",
      "997 0.0\n",
      "998 0.0\n",
      "999 0.0\n"
     ]
    }
   ],
   "source": [
    "np.random.seed(43)\n",
    "random.seed(43)\n",
    "tf.random.set_seed(43)\n",
    "\n",
    "spam_model = SPAM(d=d,\n",
    "                  init = \"ideal\",\n",
    "                  povm = \"ideal\",\n",
    "                  optimizer = tf.optimizers.Adam(learning_rate=0.01))\n",
    "\n",
    "spam_model.train(inputs = inputs_spam,\n",
    "                 targets = targets_spam,\n",
    "                 num_iter = 1000,\n",
    "                 N = N_spam\n",
    "                 )"
   ]
  },
  {
   "cell_type": "code",
   "execution_count": 11,
   "metadata": {},
   "outputs": [
    {
     "name": "stdout",
     "output_type": "stream",
     "text": [
      "[[1.+0.j 0.+0.j 0.+0.j 0.+0.j]\n",
      " [0.+0.j 0.+0.j 0.+0.j 0.+0.j]\n",
      " [0.+0.j 0.+0.j 0.+0.j 0.+0.j]\n",
      " [0.+0.j 0.+0.j 0.+0.j 0.+0.j]]\n",
      "[[1.+0.j 0.+0.j 0.+0.j 0.+0.j]\n",
      " [0.+0.j 0.+0.j 0.+0.j 0.+0.j]\n",
      " [0.+0.j 0.+0.j 0.+0.j 0.+0.j]\n",
      " [0.+0.j 0.+0.j 0.+0.j 0.+0.j]]\n",
      "--------\n",
      "[[[1.+0.j 0.+0.j 0.+0.j 0.+0.j]\n",
      "  [0.+0.j 0.+0.j 0.+0.j 0.+0.j]\n",
      "  [0.+0.j 0.+0.j 0.+0.j 0.+0.j]\n",
      "  [0.+0.j 0.+0.j 0.+0.j 0.+0.j]]\n",
      "\n",
      " [[0.+0.j 0.+0.j 0.+0.j 0.+0.j]\n",
      "  [0.+0.j 1.+0.j 0.+0.j 0.+0.j]\n",
      "  [0.+0.j 0.+0.j 0.+0.j 0.+0.j]\n",
      "  [0.+0.j 0.+0.j 0.+0.j 0.+0.j]]\n",
      "\n",
      " [[0.+0.j 0.+0.j 0.+0.j 0.+0.j]\n",
      "  [0.+0.j 0.+0.j 0.+0.j 0.+0.j]\n",
      "  [0.+0.j 0.+0.j 1.+0.j 0.+0.j]\n",
      "  [0.+0.j 0.+0.j 0.+0.j 0.+0.j]]\n",
      "\n",
      " [[0.+0.j 0.+0.j 0.+0.j 0.+0.j]\n",
      "  [0.+0.j 0.+0.j 0.+0.j 0.+0.j]\n",
      "  [0.+0.j 0.+0.j 0.+0.j 0.+0.j]\n",
      "  [0.+0.j 0.+0.j 0.+0.j 1.+0.j]]]\n",
      "[[[1.+0.j 0.+0.j 0.+0.j 0.+0.j]\n",
      "  [0.+0.j 0.+0.j 0.+0.j 0.+0.j]\n",
      "  [0.+0.j 0.+0.j 0.+0.j 0.+0.j]\n",
      "  [0.+0.j 0.+0.j 0.+0.j 0.+0.j]]\n",
      "\n",
      " [[0.+0.j 0.+0.j 0.+0.j 0.+0.j]\n",
      "  [0.+0.j 1.+0.j 0.+0.j 0.+0.j]\n",
      "  [0.+0.j 0.+0.j 0.+0.j 0.+0.j]\n",
      "  [0.+0.j 0.+0.j 0.+0.j 0.+0.j]]\n",
      "\n",
      " [[0.+0.j 0.+0.j 0.+0.j 0.+0.j]\n",
      "  [0.+0.j 0.+0.j 0.+0.j 0.+0.j]\n",
      "  [0.+0.j 0.+0.j 1.+0.j 0.+0.j]\n",
      "  [0.+0.j 0.+0.j 0.+0.j 0.+0.j]]\n",
      "\n",
      " [[0.+0.j 0.+0.j 0.+0.j 0.+0.j]\n",
      "  [0.+0.j 0.+0.j 0.+0.j 0.+0.j]\n",
      "  [0.+0.j 0.+0.j 0.+0.j 0.+0.j]\n",
      "  [0.+0.j 0.+0.j 0.+0.j 1.+0.j]]]\n"
     ]
    }
   ],
   "source": [
    "print(spam_target.init.numpy())\n",
    "print(spam_model.init.numpy())\n",
    "print(\"--------\")\n",
    "print(spam_target.povm.numpy())\n",
    "print(spam_model.povm.numpy())"
   ]
  },
  {
   "cell_type": "markdown",
   "metadata": {},
   "source": [
    "## Recover SPAM and Map\n",
    "\n",
    "### Generate True Model, Full POVM and Inital"
   ]
  },
  {
   "cell_type": "code",
   "execution_count": 7,
   "metadata": {},
   "outputs": [],
   "source": [
    "np.random.seed(42)\n",
    "random.seed(42)\n",
    "tf.random.set_seed(42)\n",
    "\n",
    "n = 3\n",
    "d = 2**n\n",
    "rank = d\n",
    "c1 = 0.9\n",
    "c2 = 0.9\n",
    "\n",
    "#prep error and full POVM error\n",
    "spam_target = SPAM(d=d)\n",
    "\n",
    "init_target = c1*init_ideal(d) + (1-c1)*spam_target.init\n",
    "povm_target = c2*povm_ideal(d) + (1-c2)*spam_target.povm\n",
    "\n",
    "spam_target = SPAM(d=d,\n",
    "                  init = init_target,\n",
    "                  povm = povm_target)\n",
    "\n",
    "kraus_target = KrausMap(\n",
    "                        U=generate_unitary(d=d), \n",
    "                        c=0.5, \n",
    "                        d=d, \n",
    "                        rank=rank-1,\n",
    "                        spam = spam_target\n",
    "                        )"
   ]
  },
  {
   "cell_type": "markdown",
   "metadata": {},
   "source": [
    "### Generate Synthetic Data without Noise"
   ]
  },
  {
   "cell_type": "code",
   "execution_count": 8,
   "metadata": {},
   "outputs": [],
   "source": [
    "inputs_spam, _ = generate_pauliInput_circuits(n)\n",
    "\n",
    "U_prep = inputs_spam\n",
    "N_spam = U_prep.shape[0]\n",
    "\n",
    "state = tf.repeat(spam_target.init[None,:,:], N_spam, axis=0)\n",
    "state = apply_unitary(state, U_prep)\n",
    "targets_spam = measurement(state, povm = spam_target.povm)\n",
    "\n",
    "inputs_map, _ = generate_pauli_circuits(n = n, \n",
    "                                    circuit_target=None, \n",
    "                                    N = None, \n",
    "                                    trace=False)\n",
    "U_prep, U_basis = inputs_map\n",
    "\n",
    "N_map = U_prep.shape[0]\n",
    "state = tf.repeat(tf.expand_dims(spam_target.init, axis=0), N_map, axis=0)\n",
    "state = apply_unitary(state, U_prep)\n",
    "state = kraus_target.apply_map(state)\n",
    "targets_map = measurement(state, U_basis, spam_target.povm)"
   ]
  },
  {
   "cell_type": "markdown",
   "metadata": {},
   "source": [
    "### Fit Model, No SPAM"
   ]
  },
  {
   "cell_type": "code",
   "execution_count": null,
   "metadata": {
    "scrolled": true
   },
   "outputs": [
    {
     "data": {
      "application/vnd.jupyter.widget-view+json": {
       "model_id": "b28a543d3135434e82b70fed968d151f",
       "version_major": 2,
       "version_minor": 0
      },
      "text/plain": [
       "  0%|          | 0/10 [00:00<?, ?it/s]"
      ]
     },
     "metadata": {},
     "output_type": "display_data"
    },
    {
     "data": {
      "application/vnd.jupyter.widget-view+json": {
       "model_id": "26f0bf7bdc124cc4993e5a0d9deb3c86",
       "version_major": 2,
       "version_minor": 0
      },
      "text/plain": [
       "  0%|          | 0/1000 [00:00<?, ?it/s]"
      ]
     },
     "metadata": {},
     "output_type": "display_data"
    },
    {
     "name": "stdout",
     "output_type": "stream",
     "text": [
      "0.0028779812552682904\n"
     ]
    },
    {
     "data": {
      "application/vnd.jupyter.widget-view+json": {
       "model_id": "7a772d7fd2fc4e9f9d0bc92f22e35c17",
       "version_major": 2,
       "version_minor": 0
      },
      "text/plain": [
       "  0%|          | 0/1000 [00:00<?, ?it/s]"
      ]
     },
     "metadata": {},
     "output_type": "display_data"
    },
    {
     "name": "stdout",
     "output_type": "stream",
     "text": [
      "0.002786653171701485\n"
     ]
    },
    {
     "data": {
      "application/vnd.jupyter.widget-view+json": {
       "model_id": "62b15fdba4e146bb969e4cd02724f412",
       "version_major": 2,
       "version_minor": 0
      },
      "text/plain": [
       "  0%|          | 0/1000 [00:00<?, ?it/s]"
      ]
     },
     "metadata": {},
     "output_type": "display_data"
    },
    {
     "name": "stdout",
     "output_type": "stream",
     "text": [
      "0.0028552988955917523\n"
     ]
    },
    {
     "data": {
      "application/vnd.jupyter.widget-view+json": {
       "model_id": "58676cf41e00421ebeeb5cae40c73cdd",
       "version_major": 2,
       "version_minor": 0
      },
      "text/plain": [
       "  0%|          | 0/1000 [00:00<?, ?it/s]"
      ]
     },
     "metadata": {},
     "output_type": "display_data"
    },
    {
     "name": "stdout",
     "output_type": "stream",
     "text": [
      "0.003032459089474363\n"
     ]
    },
    {
     "data": {
      "application/vnd.jupyter.widget-view+json": {
       "model_id": "40f84a3ceabd49e5ada3f39a704ae4f3",
       "version_major": 2,
       "version_minor": 0
      },
      "text/plain": [
       "  0%|          | 0/1000 [00:00<?, ?it/s]"
      ]
     },
     "metadata": {},
     "output_type": "display_data"
    }
   ],
   "source": [
    "np.random.seed(43)\n",
    "random.seed(43)\n",
    "tf.random.set_seed(43)\n",
    "\n",
    "model_list = []\n",
    "for i in tqdm(range(10)):\n",
    "\n",
    "    kraus_model = KrausMap(\n",
    "                           d = d, \n",
    "                           rank = rank,\n",
    "                           spam = None,\n",
    "                           )\n",
    "\n",
    "    model = ModelQuantumMap(\n",
    "                            q_map = kraus_model,\n",
    "                            loss = probs_loss,\n",
    "                            optimizer = tf.optimizers.Adam(learning_rate=0.01),\n",
    "                            )\n",
    "\n",
    "    model.train(inputs = inputs_map,\n",
    "                targets = targets_map,\n",
    "                #inputs_val = inputs_map,\n",
    "                #targets_val = targets_map,\n",
    "                num_iter = 1000,\n",
    "                N = 1000,\n",
    "                verbose = False,\n",
    "                )\n",
    "    \n",
    "    model_list.append(model)\n"
   ]
  },
  {
   "cell_type": "code",
   "execution_count": null,
   "metadata": {},
   "outputs": [],
   "source": [
    "acf1 = np.mean([channel_fidelity(model.q_map, kraus_target).numpy() for model in model_list])\n",
    "print(acf1)"
   ]
  },
  {
   "cell_type": "markdown",
   "metadata": {},
   "source": [
    "### Fit Model, Full Initial and POVM"
   ]
  },
  {
   "cell_type": "code",
   "execution_count": null,
   "metadata": {},
   "outputs": [],
   "source": [
    "np.random.seed(43)\n",
    "random.seed(43)\n",
    "tf.random.set_seed(43)\n",
    "\n",
    "model_list = []\n",
    "\n",
    "for i in tqdm(range(10)):\n",
    "    spam_model = SPAM(d=d,\n",
    "    #                  use_corr_mat=True,\n",
    "                      optimizer = tf.optimizers.Adam(learning_rate=0.01))\n",
    "\n",
    "    spam_model.pretrain(targets = [init_ideal(d), povm_ideal(d)],\n",
    "                        num_iter = 300,\n",
    "                        verbose = False,\n",
    "                        )\n",
    "\n",
    "    spam_model.train(inputs = inputs_spam,\n",
    "                     targets = targets_spam,\n",
    "                     num_iter = 1000,\n",
    "                     verbose = False,\n",
    "                    )\n",
    "\n",
    "    kraus_model = KrausMap(\n",
    "                           d = d, \n",
    "                           rank = rank,\n",
    "                           spam = spam_model,\n",
    "                           )\n",
    "\n",
    "    model = ModelQuantumMap(\n",
    "                            q_map = kraus_model,\n",
    "                            loss = probs_loss,\n",
    "                            optimizer = tf.optimizers.Adam(learning_rate=0.01),\n",
    "                            )\n",
    "\n",
    "    model.train(inputs = inputs_map,\n",
    "                targets = targets_map,\n",
    "                #inputs_val = inputs_map,\n",
    "                #targets_val = targets_map,\n",
    "                num_iter = 1000,\n",
    "                N = 1000\n",
    "                verbose = False,\n",
    "                )\n",
    "    \n",
    "    model_list.append(model)"
   ]
  },
  {
   "cell_type": "code",
   "execution_count": null,
   "metadata": {},
   "outputs": [],
   "source": [
    "acf2 = np.mean([channel_fidelity(model.q_map, kraus_target).numpy() for model in model_list])\n",
    "print(acf2)"
   ]
  },
  {
   "cell_type": "markdown",
   "metadata": {},
   "source": [
    "### Fit Model, Initial and Corruption Matrix"
   ]
  },
  {
   "cell_type": "code",
   "execution_count": null,
   "metadata": {},
   "outputs": [],
   "source": [
    "np.random.seed(43)\n",
    "random.seed(43)\n",
    "tf.random.set_seed(43)\n",
    "\n",
    "model_list = []\n",
    "\n",
    "for i in tqdm(range(10)):\n",
    "    spam_model = SPAM(d=d,\n",
    "                      use_corr_mat=True,\n",
    "                      optimizer = tf.optimizers.Adam(learning_rate=0.01))\n",
    "\n",
    "    spam_model.pretrain(targets = [init_ideal(d), povm_ideal(d)],\n",
    "                        num_iter = 300,\n",
    "                        verbose = False,\n",
    "                        )\n",
    "\n",
    "    spam_model.train(inputs = inputs_spam,\n",
    "                     targets = targets_spam,\n",
    "                     num_iter = 1000,\n",
    "                     verbose = False,\n",
    "                    )\n",
    "\n",
    "    kraus_model = KrausMap(\n",
    "                           d = d, \n",
    "                           rank = rank,\n",
    "                           spam = spam_model,\n",
    "                           )\n",
    "\n",
    "    model = ModelQuantumMap(\n",
    "                            q_map = kraus_model,\n",
    "                            loss = probs_loss,\n",
    "                            optimizer = tf.optimizers.Adam(learning_rate=0.01),\n",
    "                            )\n",
    "\n",
    "    model.train(inputs = inputs_map,\n",
    "                targets = targets_map,\n",
    "                #inputs_val = inputs_map,\n",
    "                #targets_val = targets_map,\n",
    "                num_iter = 1000,\n",
    "                N = 1000\n",
    "                verbose = False,\n",
    "                )\n",
    "    \n",
    "    model_list.append(model)"
   ]
  },
  {
   "cell_type": "code",
   "execution_count": null,
   "metadata": {},
   "outputs": [],
   "source": [
    "acf3 = np.mean([channel_fidelity(model.q_map, kraus_target).numpy() for model in model_list])\n",
    "print(acf3)"
   ]
  },
  {
   "cell_type": "markdown",
   "metadata": {},
   "source": [
    "### Generate Synthetic Data with Noise"
   ]
  },
  {
   "cell_type": "code",
   "execution_count": null,
   "metadata": {},
   "outputs": [],
   "source": [
    "np.random.seed(44)\n",
    "random.seed(44)\n",
    "tf.random.set_seed(44)\n",
    "\n",
    "inputs_spam, _ = generate_pauliInput_circuits(n)\n",
    "\n",
    "U_prep = inputs_spam\n",
    "N_spam = U_prep.shape[0]\n",
    "\n",
    "state = tf.repeat(spam_target.init[None,:,:], N_spam, axis=0)\n",
    "state = apply_unitary(state, U_prep)\n",
    "targets_spam = measurement(state, povm = spam_target.povm)\n",
    "\n",
    "#add noise\n",
    "targets_spam = targets_spam + tf.cast(tf.random.normal(targets_spam.shape, 0, 0.02/d), dtype = precision)\n",
    "\n",
    "inputs_map, _ = generate_pauli_circuits(n = n, \n",
    "                                        circuit_target=None, \n",
    "                                        N = None, \n",
    "                                        trace=False)\n",
    "U_prep, U_basis = inputs_map\n",
    "\n",
    "N_map = U_prep.shape[0]\n",
    "state = tf.repeat(tf.expand_dims(spam_target.init, axis=0), N_map, axis=0)\n",
    "state = apply_unitary(state, U_prep)\n",
    "state = kraus_target.apply_map(state)\n",
    "targets_map = measurement(state, U_basis, spam_target.povm)\n",
    "\n",
    "#add noise\n",
    "targets_map = targets_map + tf.cast(tf.random.normal(targets_map.shape, 0, 0.02/d), dtype = precision)"
   ]
  },
  {
   "cell_type": "markdown",
   "metadata": {},
   "source": [
    "### Fit Model, No SPAM"
   ]
  },
  {
   "cell_type": "code",
   "execution_count": null,
   "metadata": {
    "scrolled": true
   },
   "outputs": [],
   "source": [
    "np.random.seed(45)\n",
    "random.seed(45)\n",
    "tf.random.set_seed(45)\n",
    "\n",
    "kraus_model = KrausMap(\n",
    "                       d = d, \n",
    "                       rank = rank,\n",
    "                       spam = None,\n",
    "                       )\n",
    "\n",
    "model = ModelQuantumMap(\n",
    "                        q_map = kraus_model,\n",
    "                        loss = probs_loss,\n",
    "                        optimizer = tf.optimizers.Adam(learning_rate=0.01),\n",
    "                        )\n",
    "\n",
    "model.train(inputs = inputs_map,\n",
    "            targets = targets_map,\n",
    "            #inputs_val = inputs_map,\n",
    "            #targets_val = targets_map,\n",
    "            num_iter = 1000,\n",
    "            N = 1000\n",
    "            )"
   ]
  },
  {
   "cell_type": "code",
   "execution_count": null,
   "metadata": {},
   "outputs": [],
   "source": [
    "channel_fidelity(kraus_model, kraus_target).numpy()"
   ]
  },
  {
   "cell_type": "markdown",
   "metadata": {},
   "source": [
    "### Fit Model, Full Initial and POVM"
   ]
  },
  {
   "cell_type": "code",
   "execution_count": null,
   "metadata": {
    "scrolled": true
   },
   "outputs": [],
   "source": [
    "np.random.seed(45)\n",
    "random.seed(45)\n",
    "tf.random.set_seed(45)\n",
    "\n",
    "spam_model = SPAM(d=d,\n",
    "#                  use_corr_mat=True,\n",
    "                  optimizer = tf.optimizers.Adam(learning_rate=0.01))\n",
    "\n",
    "spam_model.pretrain(targets = [init_ideal(d), povm_ideal(d)],\n",
    "                    num_iter = 1000,\n",
    "                    )\n",
    "\n",
    "spam_model.train(inputs = inputs_spam,\n",
    "                 targets = targets_spam,\n",
    "                 num_iter = 1000,\n",
    "                 N = N_spam\n",
    "                )\n",
    "\n",
    "kraus_model = KrausMap(\n",
    "                       d = d, \n",
    "                       rank = rank,\n",
    "                       spam = spam_model,\n",
    "                       )\n",
    "\n",
    "model = ModelQuantumMap(\n",
    "                        q_map = kraus_model,\n",
    "                        loss = probs_loss,\n",
    "                        optimizer = tf.optimizers.Adam(learning_rate=0.01),\n",
    "                        )\n",
    "\n",
    "model.train(inputs = inputs_map,\n",
    "            targets = targets_map,\n",
    "            #inputs_val = inputs_map,\n",
    "            #targets_val = targets_map,\n",
    "            num_iter = 1000,\n",
    "            N = 1000\n",
    "            )"
   ]
  },
  {
   "cell_type": "code",
   "execution_count": null,
   "metadata": {},
   "outputs": [],
   "source": [
    "channel_fidelity(kraus_model, kraus_target).numpy()"
   ]
  },
  {
   "cell_type": "markdown",
   "metadata": {},
   "source": [
    "### Fit Model, Initial and Corruption Matrix"
   ]
  },
  {
   "cell_type": "code",
   "execution_count": null,
   "metadata": {},
   "outputs": [],
   "source": [
    "np.random.seed(45)\n",
    "random.seed(45)\n",
    "tf.random.set_seed(45)\n",
    "\n",
    "spam_model = SPAM(d=d,\n",
    "                  use_corr_mat=True,\n",
    "                  optimizer = tf.optimizers.Adam(learning_rate=0.01))\n",
    "\n",
    "spam_model.pretrain(targets = [init_ideal(d), povm_ideal(d)],\n",
    "                    num_iter = 1000,\n",
    "                    )\n",
    "\n",
    "spam_model.train(inputs = inputs_spam,\n",
    "                 targets = targets_spam,\n",
    "                 num_iter = 1000,\n",
    "                 N = N_spam\n",
    "                )\n",
    "\n",
    "\n",
    "\n",
    "kraus_model = KrausMap(\n",
    "                       d = d, \n",
    "                       rank = rank,\n",
    "                       spam = spam_model,\n",
    "                       )\n",
    "\n",
    "model = ModelQuantumMap(\n",
    "                        q_map = kraus_model,\n",
    "                        loss = probs_loss,\n",
    "                        optimizer = tf.optimizers.Adam(learning_rate=0.01),\n",
    "                        )\n",
    "\n",
    "model.train(inputs = inputs_map,\n",
    "            targets = targets_map,\n",
    "            #inputs_val = inputs_map,\n",
    "            #targets_val = targets_map,\n",
    "            num_iter = 1000,\n",
    "            N = 1000\n",
    "            )"
   ]
  },
  {
   "cell_type": "code",
   "execution_count": null,
   "metadata": {},
   "outputs": [],
   "source": [
    "channel_fidelity(kraus_model, kraus_target).numpy()"
   ]
  },
  {
   "cell_type": "markdown",
   "metadata": {},
   "source": [
    "## Retrieve QFT"
   ]
  },
  {
   "cell_type": "code",
   "execution_count": 2,
   "metadata": {},
   "outputs": [],
   "source": [
    "def qft(n):\n",
    "    circuit = qk.QuantumCircuit(n)\n",
    "    for i in range(n):\n",
    "        circuit.h(i)\n",
    "        for j in range(i+1, n):\n",
    "            circuit.cp(2*np.pi/2**(j-i+1), j, i)\n",
    "            \n",
    "    return circuit"
   ]
  },
  {
   "cell_type": "code",
   "execution_count": 4,
   "metadata": {},
   "outputs": [],
   "source": [
    "np.random.seed(42)\n",
    "random.seed(42)\n",
    "tf.random.set_seed(42)\n",
    "\n",
    "n = 3\n",
    "d = 2**n\n",
    "c1 = 0.9\n",
    "c2 = 0.9\n",
    "\n",
    "\n",
    "spam_target = SPAM(d=d)\n",
    "init_target = c1*init_ideal(d) + (1-c1)*spam_target.init\n",
    "povm_target = c2*povm_ideal(d) + (1-c2)*spam_target.povm\n",
    "\n",
    "spam_target = SPAM(d=d,\n",
    "                  init = init_target,\n",
    "                  povm = povm_target)\n",
    "\n",
    "#U = circuit_to_matrix(qft(n))\n",
    "U = circuit_to_matrix(variational_circuit(n, 9))\n",
    "kraus_target = KrausMap(\n",
    "                        U=U, \n",
    "                        c=0.5, \n",
    "                        d=d, \n",
    "                        rank=d-1,\n",
    "                        spam = spam_target\n",
    "                        )"
   ]
  },
  {
   "cell_type": "code",
   "execution_count": 5,
   "metadata": {},
   "outputs": [],
   "source": [
    "inputs_spam, _ = generate_pauliInput_circuits(n)\n",
    "\n",
    "U_prep = inputs_spam\n",
    "N_spam = U_prep.shape[0]\n",
    "\n",
    "state = tf.repeat(spam_target.init[None,:,:], N_spam, axis=0)\n",
    "state = apply_unitary(state, U_prep)\n",
    "targets_spam = measurement(state, povm = spam_target.povm)\n",
    "targets_spam = targets_spam + tf.cast(tf.random.normal(targets_spam.shape, 0, 0.02/d), dtype = precision)\n",
    "\n",
    "\n",
    "inputs_map, _ = generate_pauli_circuits(n = n, \n",
    "                                        circuit_target=None, \n",
    "                                        N = 1000-6**n, \n",
    "                                        trace=False)\n",
    "U_prep, U_basis = inputs_map\n",
    "\n",
    "N_map = U_prep.shape[0]\n",
    "state = tf.repeat(tf.expand_dims(spam_target.init, axis=0), N_map, axis=0)\n",
    "state = apply_unitary(state, U_prep)\n",
    "state = kraus_target.apply_map(state)\n",
    "targets_map = measurement(state, U_basis, spam_target.povm)\n",
    "\n",
    "#add noise\n",
    "targets_map = targets_map + tf.cast(tf.random.normal(targets_map.shape, 0, 0.02/d), dtype = precision)"
   ]
  },
  {
   "cell_type": "code",
   "execution_count": 7,
   "metadata": {},
   "outputs": [
    {
     "data": {
      "application/vnd.jupyter.widget-view+json": {
       "model_id": "5c07a5bf418149b08f2d3ea45187d309",
       "version_major": 2,
       "version_minor": 0
      },
      "text/plain": [
       "  0%|          | 0/300 [00:00<?, ?it/s]"
      ]
     },
     "metadata": {},
     "output_type": "display_data"
    },
    {
     "name": "stdout",
     "output_type": "stream",
     "text": [
      "0 0.02977800934688925\n",
      "1 0.02947368749844281\n",
      "2 0.029167050140238324\n",
      "3 0.028858654732250376\n",
      "4 0.02854878137186377\n",
      "5 0.028237048595934268\n",
      "6 0.02792392491073433\n",
      "7 0.02760935380233838\n",
      "8 0.02729322287762518\n",
      "9 0.026975267316488593\n",
      "10 0.02665565188410131\n",
      "11 0.026334207780063186\n",
      "12 0.02601000636970087\n",
      "13 0.025684006670254066\n",
      "14 0.025355843602022025\n",
      "15 0.025025783485886896\n",
      "16 0.024693142986756435\n",
      "17 0.024358648755183246\n",
      "18 0.024021916894538822\n",
      "19 0.0236831909625295\n",
      "20 0.023340825438597404\n",
      "21 0.022995738987872494\n",
      "22 0.022646093816162144\n",
      "23 0.022292686203726913\n",
      "24 0.0219361213104202\n",
      "25 0.021576539496610446\n",
      "26 0.021214156908319272\n",
      "27 0.020849505844565318\n",
      "28 0.02048315824288141\n",
      "29 0.020115605120485193\n",
      "30 0.01974542295880353\n",
      "31 0.019374163715757724\n",
      "32 0.019000790773148243\n",
      "33 0.01862650835244291\n",
      "34 0.018250211314494127\n",
      "35 0.017873215445528928\n",
      "36 0.017496103928596386\n",
      "37 0.017118617336362642\n",
      "38 0.016741454258625492\n",
      "39 0.01636277553203467\n",
      "40 0.015984170352867037\n",
      "41 0.015606762062817702\n",
      "42 0.015229096263272807\n",
      "43 0.014853164274290887\n",
      "44 0.014478721749508563\n",
      "45 0.014105330078318304\n",
      "46 0.013735063080151363\n",
      "47 0.013366847633679648\n",
      "48 0.0130010000406879\n",
      "49 0.012638055559905681\n",
      "50 0.012278876701615662\n",
      "51 0.011923601957608478\n",
      "52 0.011573314773474858\n",
      "53 0.01122840352704243\n",
      "54 0.010889144246699166\n",
      "55 0.010555156951148718\n",
      "56 0.010227182191113035\n",
      "57 0.009905459569469942\n",
      "58 0.009589897807139331\n",
      "59 0.009279637165226205\n",
      "60 0.008975753321029383\n",
      "61 0.00867723923173498\n",
      "62 0.008385398681236087\n",
      "63 0.008100172106626679\n",
      "64 0.007821928032352234\n",
      "65 0.007550641640597233\n",
      "66 0.007286811588856964\n",
      "67 0.007029608300403731\n",
      "68 0.006779240286675106\n",
      "69 0.006536023257783043\n",
      "70 0.006299761593853786\n",
      "71 0.006070621555856005\n",
      "72 0.005847302872035918\n",
      "73 0.00563126614204665\n",
      "74 0.005422295233877387\n",
      "75 0.0052201876089608265\n",
      "76 0.0050239463996317605\n",
      "77 0.004833922993454389\n",
      "78 0.0046499591010371235\n",
      "79 0.004471903474500245\n",
      "80 0.004300171843603351\n",
      "81 0.004133741096012161\n",
      "82 0.003973248492550025\n",
      "83 0.0038186607453625067\n",
      "84 0.0036696710491338977\n",
      "85 0.003526257498575526\n",
      "86 0.0033883861280081936\n",
      "87 0.003255455223850437\n",
      "88 0.003127568242949877\n",
      "89 0.0030048963309435234\n",
      "90 0.0028867881058880556\n",
      "91 0.002773384044079363\n",
      "92 0.0026646455128376783\n",
      "93 0.0025602562774123885\n",
      "94 0.0024595938174588653\n",
      "95 0.0023629512828613067\n",
      "96 0.00227040407549223\n",
      "97 0.0021817736962331472\n",
      "98 0.002096919361571206\n",
      "99 0.002015643350562098\n",
      "100 0.0019375547724772135\n",
      "101 0.001862054121001347\n",
      "102 0.0017896390842129322\n",
      "103 0.0017203966287004633\n",
      "104 0.0016541254669661673\n",
      "105 0.0015903908690394553\n",
      "106 0.0015294801119964826\n",
      "107 0.0014712947832134344\n",
      "108 0.0014156055474414462\n",
      "109 0.0013623920391298422\n",
      "110 0.0013115346760828126\n",
      "111 0.0012629677965548746\n",
      "112 0.001216446249108837\n",
      "113 0.0011720536211242776\n",
      "114 0.0011296690927509445\n",
      "115 0.0010891214774074003\n",
      "116 0.001050362383417124\n",
      "117 0.0010134126647929327\n",
      "118 0.0009781760057612065\n",
      "119 0.0009443966139413605\n",
      "120 0.0009120175126896453\n",
      "121 0.0008810412545503679\n",
      "122 0.0008513365173518487\n",
      "123 0.0008229880582215454\n",
      "124 0.0007959335855397772\n",
      "125 0.0007701010592915975\n",
      "126 0.0007453561623417915\n",
      "127 0.0007217055068191693\n",
      "128 0.0006990938932982091\n",
      "129 0.0006774634971353645\n",
      "130 0.0006567402568801396\n",
      "131 0.0006368793586637844\n",
      "132 0.0006178450886857853\n",
      "133 0.0005995881429549065\n",
      "134 0.0005820462710939511\n",
      "135 0.000565139631613316\n",
      "136 0.0005489083033556393\n",
      "137 0.0005332392603215251\n",
      "138 0.0005181039805610906\n",
      "139 0.0005035726347732766\n",
      "140 0.0004896152506258972\n",
      "141 0.00047619214797565545\n",
      "142 0.0004632886869062116\n",
      "143 0.0004508842040842386\n",
      "144 0.0004389549267100416\n",
      "145 0.0004274296378374373\n",
      "146 0.0004163457743517294\n",
      "147 0.0004056817472893399\n",
      "148 0.0003954161258885545\n",
      "149 0.00038549059568133656\n",
      "150 0.00037592636778893923\n",
      "151 0.00036670343139530914\n",
      "152 0.0003578002300895386\n",
      "153 0.00034920326703253576\n",
      "154 0.00034089726688628553\n",
      "155 0.0003328619479963316\n",
      "156 0.000325084309610163\n",
      "157 0.00031756265649646425\n",
      "158 0.0003102860365972014\n",
      "159 0.00030324417269011393\n",
      "160 0.0002964147740670932\n",
      "161 0.00028980291617321566\n",
      "162 0.0002834017572951426\n",
      "163 0.00027719736563201124\n",
      "164 0.0002711848321405762\n",
      "165 0.0002653575948724414\n",
      "166 0.00025970794795306015\n",
      "167 0.0002542067585824175\n",
      "168 0.0002488703606222748\n",
      "169 0.00024368853536293025\n",
      "170 0.00023866568339685413\n",
      "171 0.00023379159080295827\n",
      "172 0.0002290596097401781\n",
      "173 0.00022444768453492436\n",
      "174 0.00021995446955673178\n",
      "175 0.0002155885552875185\n",
      "176 0.00021134434711799358\n",
      "177 0.00020721678968977356\n",
      "178 0.00020320048753196955\n",
      "179 0.00019928710087249678\n",
      "180 0.00019547959716757378\n",
      "181 0.0001917746131176083\n",
      "182 0.00018816220790730418\n",
      "183 0.0001846397622383393\n",
      "184 0.00018121295203139885\n",
      "185 0.00017787811092467376\n",
      "186 0.00017463133040470486\n",
      "187 0.00017146910940898125\n",
      "188 0.00016838770597824379\n",
      "189 0.00016538306090165217\n",
      "190 0.00016245044631533817\n",
      "191 0.00015959061313710257\n",
      "192 0.00015680103247952615\n",
      "193 0.0001540793934318603\n",
      "194 0.00015142357783409576\n",
      "195 0.00014883162535605734\n",
      "196 0.00014629954917007496\n",
      "197 0.00014382781358831655\n",
      "198 0.00014141143294839911\n",
      "199 0.00013905221005123785\n",
      "200 0.00013674839537110777\n",
      "201 0.00013449829373754366\n",
      "202 0.00013230025057950372\n",
      "203 0.0001301526435772402\n",
      "204 0.00012805388138062082\n",
      "205 0.00012600240928368654\n",
      "206 0.00012399658679644994\n",
      "207 0.00012203512687960537\n",
      "208 0.00012011665972952597\n",
      "209 0.00011823989613282514\n",
      "210 0.00011640363120405197\n",
      "211 0.00011460674228364278\n",
      "212 0.00011284818127918847\n",
      "213 0.00011112696262793939\n",
      "214 0.00010944214865381904\n",
      "215 0.00010779283433579604\n",
      "216 0.00010617813341298416\n",
      "217 0.00010459851322431899\n",
      "218 0.00010305185983391433\n",
      "219 0.00010153727125307023\n",
      "220 0.0001000538447076539\n",
      "221 9.860068286920916e-05\n",
      "222 9.717690187557626e-05\n",
      "223 9.578163968859842e-05\n",
      "224 9.441406345907545e-05\n",
      "225 9.307337489473876e-05\n",
      "226 9.175881309242366e-05\n",
      "227 9.046965480818997e-05\n",
      "228 8.920521259864147e-05\n",
      "229 8.796491575690756e-05\n",
      "230 8.674808569922887e-05\n",
      "231 8.555335617536835e-05\n",
      "232 8.438105882403849e-05\n",
      "233 8.32305128949267e-05\n",
      "234 8.210102830453822e-05\n",
      "235 8.099229290318139e-05\n",
      "236 7.990361161585959e-05\n",
      "237 7.883453061896078e-05\n",
      "238 7.778471900856318e-05\n",
      "239 7.67534504389672e-05\n",
      "240 7.574010573969692e-05\n",
      "241 7.474418093420856e-05\n",
      "242 7.376528166672501e-05\n",
      "243 7.280310670596419e-05\n",
      "244 7.185708403781199e-05\n",
      "245 7.092750036235645e-05\n",
      "246 7.001414554040422e-05\n",
      "247 6.911680281449195e-05\n",
      "248 6.823523828770165e-05\n",
      "249 6.736919539911696e-05\n",
      "250 6.651839351937731e-05\n",
      "251 6.568252963452569e-05\n",
      "252 6.486128214852583e-05\n",
      "253 6.405431599855139e-05\n",
      "254 6.326128844557846e-05\n",
      "255 6.248185502183748e-05\n",
      "256 6.17156035577535e-05\n",
      "257 6.096241924734397e-05\n",
      "258 6.0221967425644515e-05\n",
      "259 5.949391215355941e-05\n",
      "260 5.877794377622714e-05\n",
      "261 5.807375998648321e-05\n",
      "262 5.7381075217756264e-05\n",
      "263 5.669961981945468e-05\n",
      "264 5.602913745698204e-05\n",
      "265 5.536938172110639e-05\n",
      "266 5.472011297240441e-05\n",
      "267 5.4081096221928916e-05\n",
      "268 5.345210045660404e-05\n",
      "269 5.2832933240464696e-05\n",
      "270 5.2223341768526895e-05\n",
      "271 5.162311391866416e-05\n",
      "272 5.103204822881694e-05\n",
      "273 5.044995554920033e-05\n",
      "274 4.9876659809686496e-05\n",
      "275 4.9311997823900935e-05\n",
      "276 4.875581825055476e-05\n",
      "277 4.820797995441536e-05\n",
      "278 4.766835004455316e-05\n",
      "279 4.7136801832673504e-05\n",
      "280 4.66132128816402e-05\n",
      "281 4.609745688604709e-05\n",
      "282 4.558942232098995e-05\n",
      "283 4.508898939860695e-05\n",
      "284 4.4596036804733656e-05\n",
      "285 4.411044097718423e-05\n",
      "286 4.363207571408539e-05\n",
      "287 4.3160812124162854e-05\n",
      "288 4.2696518907619e-05\n",
      "289 4.2239110651360565e-05\n",
      "290 4.1788496113383936e-05\n",
      "291 4.134450509573393e-05\n",
      "292 4.0906963649761785e-05\n",
      "293 4.047570551876057e-05\n",
      "294 4.0050580420874243e-05\n",
      "295 3.963145725581939e-05\n",
      "296 3.921822217834378e-05\n",
      "297 3.8810773053859245e-05\n",
      "298 3.840901264337446e-05\n",
      "299 3.801284281695512e-05\n"
     ]
    },
    {
     "data": {
      "application/vnd.jupyter.widget-view+json": {
       "model_id": "819d368347844bc4b6c716979ec794ab",
       "version_major": 2,
       "version_minor": 0
      },
      "text/plain": [
       "  0%|          | 0/2000 [00:00<?, ?it/s]"
      ]
     },
     "metadata": {},
     "output_type": "display_data"
    },
    {
     "name": "stdout",
     "output_type": "stream",
     "text": [
      "0 0.02177836508568147\n",
      "1 0.019522507395235707\n",
      "2 0.017443516224840503\n",
      "3 0.015322390742943306\n",
      "4 0.013165049592051059\n",
      "5 0.011102548619742837\n",
      "6 0.009227521262895354\n",
      "7 0.007617598940753725\n",
      "8 0.0062783651098195555\n",
      "9 0.0052764542936784\n",
      "10 0.004618007692866994\n",
      "11 0.004234898232577906\n",
      "12 0.004035634964026\n",
      "13 0.003987519718998186\n",
      "14 0.004014330193915243\n",
      "15 0.003987388926094253\n",
      "16 0.0039003753819610984\n",
      "17 0.0037856220135466293\n",
      "18 0.0036346635383503476\n",
      "19 0.0034339580023340084\n",
      "20 0.003196705115961568\n",
      "21 0.002954750858394237\n",
      "22 0.0027218616776217407\n",
      "23 0.0025155263286243948\n",
      "24 0.002331822118488264\n",
      "25 0.0021615166899258353\n",
      "26 0.002004863098281572\n",
      "27 0.0018729131368335355\n",
      "28 0.0017728411458131017\n",
      "29 0.0016935497694747174\n",
      "30 0.0016194257097715938\n",
      "31 0.0015544174812605308\n",
      "32 0.0014983095804733486\n",
      "33 0.00144617051982204\n",
      "34 0.0013935273959502245\n",
      "35 0.001340518349554423\n",
      "36 0.0012864530227888827\n",
      "37 0.0012316760823948955\n",
      "38 0.0011809275565371332\n",
      "39 0.001139519801524924\n",
      "40 0.001105116979386922\n",
      "41 0.0010677134051210989\n",
      "42 0.001030248339180607\n",
      "43 0.0009953165923810641\n",
      "44 0.0009642203043709945\n",
      "45 0.0009369717676865182\n",
      "46 0.000912373906826935\n",
      "47 0.0008882330720138181\n",
      "48 0.000863871797351895\n",
      "49 0.0008408083474319955\n",
      "50 0.0008213655700963205\n",
      "51 0.000804334348824469\n",
      "52 0.000786891136437487\n",
      "53 0.0007670352009831397\n",
      "54 0.0007468271700980378\n",
      "55 0.0007295592857372519\n",
      "56 0.0007164326081150453\n",
      "57 0.0007042569713320088\n",
      "58 0.0006893306833378113\n",
      "59 0.0006723882041785492\n",
      "60 0.0006578837931382547\n",
      "61 0.0006486241723362087\n",
      "62 0.0006417366979643345\n",
      "63 0.0006323658079186257\n",
      "64 0.0006202502283971585\n",
      "65 0.0006093313111385115\n",
      "66 0.0006026279136731812\n",
      "67 0.0005977512203846161\n",
      "68 0.0005902167461738626\n",
      "69 0.0005799483968739814\n",
      "70 0.0005711717020322257\n",
      "71 0.0005716594373465967\n",
      "72 0.0005670674035275334\n",
      "73 0.0005588054018223489\n",
      "74 0.0005506834525483334\n",
      "75 0.0005455968945968463\n",
      "76 0.0005447181974134166\n",
      "77 0.0005445958306412935\n",
      "78 0.0005384625325068987\n",
      "79 0.0005295371669486403\n",
      "80 0.0005219922637110905\n",
      "81 0.0005232115359595136\n",
      "82 0.0005258970553755249\n",
      "83 0.000520385361823836\n",
      "84 0.0005096968687914352\n",
      "85 0.0005090644578522931\n",
      "86 0.0005094508338589421\n",
      "87 0.0005124120381100565\n",
      "88 0.0005089981784064049\n",
      "89 0.0004985454297968302\n",
      "90 0.0005015714335609199\n",
      "91 0.0005027158410924641\n",
      "92 0.0005048575976499748\n",
      "93 0.0004994387496409101\n",
      "94 0.0004899057120911648\n",
      "95 0.0004993859843174548\n",
      "96 0.0005027250689199553\n",
      "97 0.0005043971615252429\n",
      "98 0.0004941799514565215\n",
      "99 0.0004969096249468693\n",
      "100 0.0005098359113111896\n",
      "101 0.0005092905893117256\n",
      "102 0.0005075291724953352\n",
      "103 0.0004983411649916955\n",
      "104 0.0005109147366934469\n",
      "105 0.0005141538669445882\n",
      "106 0.000515086460269641\n",
      "107 0.0005120059624979057\n",
      "108 0.0005013973979230745\n",
      "109 0.0005193604375179078\n",
      "110 0.0005222976597108795\n",
      "111 0.000522555180468833\n",
      "112 0.000510145924891555\n",
      "113 0.0005236294748481509\n",
      "114 0.0005488541480460555\n",
      "115 0.0005407555490434414\n",
      "116 0.0005352336337191265\n",
      "117 0.0005282308333460011\n",
      "118 0.0005564296279269572\n",
      "119 0.000560277791077396\n",
      "120 0.0005502170575214765\n",
      "121 0.0005399277704950335\n",
      "122 0.0005276302994456731\n",
      "123 0.0005702360636062495\n",
      "124 0.0005628223245796606\n",
      "125 0.0005398765165228892\n",
      "126 0.0005232295358522536\n",
      "127 0.0005275881445486567\n",
      "128 0.0005496426637923031\n",
      "129 0.0005394259490033047\n",
      "130 0.0005155405077419367\n",
      "131 0.0004960208820394591\n",
      "132 0.0005090875215081593\n",
      "133 0.0005258132195848043\n",
      "134 0.0005185905573812488\n",
      "135 0.000491648076301965\n",
      "136 0.00047518972650051637\n",
      "137 0.000499574723610562\n",
      "138 0.0005157732817874683\n",
      "139 0.0004974815882188067\n",
      "140 0.0004742691421288766\n",
      "141 0.00047126915715744793\n",
      "142 0.0004992349175841449\n",
      "143 0.0005084057683985734\n",
      "144 0.00048644450188306375\n",
      "145 0.000496823061474131\n",
      "146 0.000495200472168521\n",
      "147 0.0005133550906030993\n",
      "148 0.0005158176215649753\n",
      "149 0.0005099263852804578\n",
      "150 0.0005005618932412856\n",
      "151 0.0005258860813835536\n",
      "152 0.0005491164303183767\n",
      "153 0.0005370056554746652\n",
      "154 0.00043228544653200053\n",
      "155 0.00043698880140539015\n",
      "156 0.0005168780923804841\n",
      "157 0.0004803736804890144\n",
      "158 0.0003930820002421527\n",
      "159 0.0003633339353387955\n",
      "160 0.0004054794908625096\n",
      "161 0.0004321662202655494\n",
      "162 0.00039889352567171546\n",
      "163 0.00035066976942072024\n",
      "164 0.0003453219248396095\n",
      "165 0.00037713732411963363\n",
      "166 0.0003912494305081455\n",
      "167 0.000363711561894712\n",
      "168 0.0003338633064813331\n",
      "169 0.0003382359128984555\n",
      "170 0.00036069540812811167\n",
      "171 0.00036439057619083633\n",
      "172 0.00034399749030849966\n",
      "173 0.0003281904558182737\n",
      "174 0.00033455920232068934\n",
      "175 0.00034853028189041276\n",
      "176 0.00034786410963323503\n",
      "177 0.000334407333389235\n",
      "178 0.0003262462808486422\n",
      "179 0.00033180717175568703\n",
      "180 0.0003396740899278009\n",
      "181 0.0003378565935105412\n",
      "182 0.0003303123984519807\n",
      "183 0.00032624898813831494\n",
      "184 0.00032919658146246983\n",
      "185 0.00033377546800951013\n",
      "186 0.0003321679841269576\n",
      "187 0.000327427336940302\n",
      "188 0.000325681119446337\n",
      "189 0.00032747308631095296\n",
      "190 0.000329187965537414\n",
      "191 0.00032774866941146056\n",
      "192 0.0003250844736458173\n",
      "193 0.00032458979349358835\n",
      "194 0.0003250556297344661\n",
      "195 0.0003248066626618499\n",
      "196 0.00032438644030533806\n",
      "197 0.00032309050649094657\n",
      "198 0.0003216823462696138\n",
      "199 0.00032216278274585535\n",
      "200 0.000322427165352832\n",
      "201 0.0003209473872327296\n",
      "202 0.0003201407564946001\n",
      "203 0.00032021558025373677\n",
      "204 0.0003197917226796312\n",
      "205 0.00031931773322723604\n",
      "206 0.00031882048453320673\n",
      "207 0.0003183533012699166\n",
      "208 0.00031807889030685635\n",
      "209 0.00031737147839291577\n",
      "210 0.00031716274693928723\n",
      "211 0.0003175541266788897\n",
      "212 0.0003164615863213154\n",
      "213 0.00031528258440734213\n",
      "214 0.00031581206296452834\n",
      "215 0.0003156742773972378\n",
      "216 0.000314696098212694\n",
      "217 0.00031451534680907714\n",
      "218 0.00031405027514806315\n",
      "219 0.0003135818520680475\n",
      "220 0.00031393240010445207\n",
      "221 0.00031369413352901103\n",
      "222 0.00031292934287533873\n",
      "223 0.0003124398875379602\n",
      "224 0.0003123341897924607\n",
      "225 0.0003127690328569695\n",
      "226 0.00031214344054030516\n",
      "227 0.00031071912765440754\n",
      "228 0.0003111810540691147\n",
      "229 0.00031178997843008986\n",
      "230 0.00031074689530663675\n",
      "231 0.00031028769208664236\n",
      "232 0.0003102181360428769\n",
      "233 0.0003098334002395769\n",
      "234 0.00031015068681253363\n",
      "235 0.0003099577389546686\n",
      "236 0.000309127947763451\n",
      "237 0.000309107474522445\n",
      "238 0.0003093697426965347\n",
      "239 0.00030955113546229864\n",
      "240 0.00030906301829115314\n",
      "241 0.00030802750921610293\n",
      "242 0.0003084563476434454\n",
      "243 0.00030885610785350633\n",
      "244 0.00030777477336666967\n",
      "245 0.0003076514002867366\n",
      "246 0.0003079432435126632\n",
      "247 0.00030744422971469424\n",
      "248 0.00030751516851529494\n",
      "249 0.00030738854425909305\n",
      "250 0.00030692844186636185\n",
      "251 0.00030705684086159704\n",
      "252 0.00030685985507606083\n",
      "253 0.0003066865191850262\n",
      "254 0.0003066719309695668\n",
      "255 0.00030637494524277955\n",
      "256 0.00030664508697794696\n",
      "257 0.00030634757842953143\n",
      "258 0.00030560685704984124\n",
      "259 0.00030610401635693514\n",
      "260 0.00030595103143332995\n",
      "261 0.00030519551965407674\n",
      "262 0.0003055659078915539\n",
      "263 0.00030566890004022886\n",
      "264 0.0003054866173443769\n",
      "265 0.00030535787597734743\n",
      "266 0.0003049690070404\n",
      "267 0.0003052773188396158\n",
      "268 0.00030523701325699325\n",
      "269 0.0003046368871522002\n",
      "270 0.00030472662445283656\n",
      "271 0.00030476515033404645\n",
      "272 0.0003050439482832461\n",
      "273 0.00030506570039189436\n",
      "274 0.0003041348362629811\n",
      "275 0.0003043804206889545\n",
      "276 0.000304888582438522\n",
      "277 0.00030427648623615683\n",
      "278 0.0003040636635130686\n",
      "279 0.0003042273095857704\n",
      "280 0.0003047164203657045\n",
      "281 0.0003048017860469566\n",
      "282 0.0003040255304009309\n",
      "283 0.0003042134656772003\n",
      "284 0.00030459758421921395\n",
      "285 0.0003043114337849279\n",
      "286 0.0003041336192976523\n",
      "287 0.0003040785374130294\n",
      "288 0.0003047917838224335\n",
      "289 0.0003049745734852873\n",
      "290 0.000304228031104636\n",
      "291 0.00030447374844912975\n",
      "292 0.0003048577644735328\n",
      "293 0.00030481608994720384\n",
      "294 0.0003046316718860516\n",
      "295 0.0003046902812551412\n",
      "296 0.000305410098232974\n",
      "297 0.00030525480110722003\n",
      "298 0.00030492629737490434\n",
      "299 0.0003053004376119648\n",
      "300 0.00030542446479123094\n",
      "301 0.0003055615202462348\n",
      "302 0.0003055290036291488\n",
      "303 0.0003059453225777049\n",
      "304 0.00030625827503488463\n",
      "305 0.0003061740394284251\n",
      "306 0.0003064585829051288\n",
      "307 0.000306621353207318\n",
      "308 0.0003069331782437412\n",
      "309 0.00030721210130169773\n",
      "310 0.0003076063080469687\n",
      "311 0.00030788172357469574\n",
      "312 0.0003080425331698996\n",
      "313 0.00030840601741735434\n",
      "314 0.00030879545264784857\n",
      "315 0.00030922027368617656\n",
      "316 0.00030963648968482813\n",
      "317 0.0003100274161481869\n",
      "318 0.00031038952753307197\n",
      "319 0.0003108514943854537\n",
      "320 0.00031130709554721975\n",
      "321 0.0003118166066154243\n",
      "322 0.00031236034352250707\n",
      "323 0.00031286935695767416\n",
      "324 0.00031335487511033463\n",
      "325 0.0003138571790450429\n"
     ]
    },
    {
     "name": "stdout",
     "output_type": "stream",
     "text": [
      "326 0.0003144121477902989\n",
      "327 0.0003150711669382322\n",
      "328 0.00031567256271901\n",
      "329 0.0003162004446381771\n",
      "330 0.0003169118749815242\n",
      "331 0.00031775553378094\n",
      "332 0.000318226857664283\n",
      "333 0.0003208546151163029\n",
      "334 0.0003350157560889788\n",
      "335 0.00046132478441432586\n",
      "336 0.0019098222844382462\n",
      "337 0.0019066367416839896\n",
      "338 0.0006275150579309697\n",
      "339 0.0016632956234874344\n",
      "340 0.0006014061437518816\n",
      "341 0.0014440567277940112\n",
      "342 0.0006750327999209762\n",
      "343 0.0011954337340400478\n",
      "344 0.0007020662746601648\n",
      "345 0.0009809998756195465\n",
      "346 0.0006844599699982023\n",
      "347 0.0008804386667654126\n",
      "348 0.0006394105572636719\n",
      "349 0.0008707134263061794\n",
      "350 0.0005290939154747633\n",
      "351 0.0009181810542807802\n",
      "352 0.0004030252096631301\n",
      "353 0.00094761598134454\n",
      "354 0.0005036440681225841\n",
      "355 0.0005949136482954763\n",
      "356 0.0011261629129640368\n",
      "357 0.000820114099134533\n",
      "358 0.0004291705980524415\n",
      "359 0.0006060867222045554\n",
      "360 0.002584694161860888\n",
      "361 0.011218257796740731\n",
      "362 0.004913345034752385\n",
      "363 0.0043379107066009665\n",
      "364 0.0015760152827993233\n",
      "365 0.0052219416400901145\n",
      "366 0.0008331409054286866\n",
      "367 0.0035933659825288533\n",
      "368 0.0023599557948980774\n",
      "369 0.001651749045415231\n",
      "370 0.0031952467177217784\n",
      "371 0.0006339682672803182\n",
      "372 0.0032137385867164387\n",
      "373 0.0007165891360603916\n",
      "374 0.0020726421264014284\n",
      "375 0.0015650689436710649\n",
      "376 0.000909929660919176\n",
      "377 0.002000278061119706\n",
      "378 0.0004951230749912962\n",
      "379 0.0020336605294847604\n",
      "380 0.0004546292956320534\n",
      "381 0.0020035083959785535\n",
      "382 0.0005067348504323147\n",
      "383 0.001674796223400522\n",
      "384 0.0009958652031505368\n",
      "385 0.0007821375990334994\n",
      "386 0.002105144181678962\n",
      "387 0.001483417147493508\n",
      "388 0.00046094199869254476\n",
      "389 0.0012062573700717988\n",
      "390 0.003974827287257016\n",
      "391 0.010883784105565083\n",
      "392 0.0099892920181364\n",
      "393 0.0008947999659327632\n",
      "394 0.006405749737942672\n",
      "395 0.0010989515351332976\n",
      "396 0.004619430688138047\n",
      "397 0.0016086022743030549\n",
      "398 0.003054963654131862\n",
      "399 0.0020098703724492303\n",
      "400 0.0020218023095451227\n",
      "401 0.00223406518430087\n",
      "402 0.0009640654613335422\n",
      "403 0.002354016273543678\n",
      "404 0.00067382937426819\n",
      "405 0.0017998233610286188\n",
      "406 0.0010493068159009608\n",
      "407 0.000975810241550165\n",
      "408 0.0014469756715544803\n",
      "409 0.0005592539734282575\n",
      "410 0.0015615890816566855\n",
      "411 0.00048100670842662007\n",
      "412 0.0014043889358540782\n",
      "413 0.0005623957236858897\n",
      "414 0.0014118302118648974\n",
      "415 0.0008682839520265356\n",
      "416 0.0007431944868526953\n",
      "417 0.0016531521767182563\n",
      "418 0.0017184034587283932\n",
      "419 0.0009653075542810114\n",
      "420 0.000553685552069789\n",
      "421 0.0013660709146654222\n",
      "422 0.009012838900970455\n",
      "423 0.03962879327524651\n",
      "424 0.0011789030504303097\n",
      "425 0.009060435369793616\n",
      "426 0.00950241163689051\n",
      "427 0.005823349547710112\n",
      "428 0.002694111131101646\n",
      "429 0.0013760568193603897\n",
      "430 0.0014607675887088405\n",
      "431 0.0021012151584245153\n",
      "432 0.002631671758352611\n",
      "433 0.0027638353244578365\n",
      "434 0.002531208953464099\n",
      "435 0.002117007162998169\n",
      "436 0.0017366567253669907\n",
      "437 0.0015106679707737613\n",
      "438 0.0014434998261248263\n",
      "439 0.0014731791061112238\n",
      "440 0.0015157190171619327\n",
      "441 0.001519413090286141\n",
      "442 0.0014653132532927622\n",
      "443 0.0013647642977517684\n",
      "444 0.0012428393183535576\n",
      "445 0.0011239151997900526\n",
      "446 0.0010259371216973655\n",
      "447 0.0009608825365111403\n",
      "448 0.0009347778737538322\n",
      "449 0.0009447337082411813\n",
      "450 0.0009765358038571479\n",
      "451 0.0010073630125590663\n",
      "452 0.001014219648767593\n",
      "453 0.0009840800071597502\n",
      "454 0.0009200277545348358\n",
      "455 0.0008396590360429329\n",
      "456 0.0007665030765128662\n",
      "457 0.0007192452511066691\n",
      "458 0.0007042628928180078\n",
      "459 0.0007144488469844308\n",
      "460 0.0007338585245196194\n",
      "461 0.0007453754591622092\n",
      "462 0.0007378932750703338\n",
      "463 0.0007101570697618366\n",
      "464 0.0006700259488972954\n",
      "465 0.0006299663952624519\n",
      "466 0.0006011367720118254\n",
      "467 0.0005887700234109039\n",
      "468 0.0005906996577039461\n",
      "469 0.0005993012737815184\n",
      "470 0.0006055555557486124\n",
      "471 0.0006031052348400816\n",
      "472 0.0005904697663999604\n",
      "473 0.000570748903596155\n",
      "474 0.0005494401525640303\n",
      "475 0.000531718267250983\n",
      "476 0.0005204500054858279\n",
      "477 0.0005155809830782305\n",
      "478 0.0005147868035180777\n",
      "479 0.0005148087588645391\n",
      "480 0.0005128160165806114\n",
      "481 0.0005073290618394002\n",
      "482 0.0004985096197451502\n",
      "483 0.00048785277717868576\n",
      "484 0.00047747751255154474\n",
      "485 0.0004692962474648965\n",
      "486 0.00046434425622822955\n",
      "487 0.0004624736949321904\n",
      "488 0.0004624910253219202\n",
      "489 0.0004626695362063764\n",
      "490 0.00046143461974467836\n",
      "491 0.0004579490723474168\n",
      "492 0.0004523653044688596\n",
      "493 0.00044565865419705236\n",
      "494 0.0004391437262778141\n",
      "495 0.00043390795169380994\n",
      "496 0.0004304092928729672\n",
      "497 0.0004283830454126116\n",
      "498 0.0004270503400752358\n",
      "499 0.0004254981772348097\n",
      "500 0.0004230568660451667\n",
      "501 0.0004195346751012141\n",
      "502 0.0004152458129689359\n",
      "503 0.00041084778537008347\n",
      "504 0.00040706456930458514\n",
      "505 0.00040440301593607067\n",
      "506 0.00040296630513409555\n",
      "507 0.0004024297358016173\n",
      "508 0.00040218123392753196\n",
      "509 0.00040156474489139556\n",
      "510 0.00040012619947183824\n",
      "511 0.00039776598407816147\n",
      "512 0.0003947455895593566\n",
      "513 0.00039155760008261593\n",
      "514 0.0003887198489574357\n",
      "515 0.0003865773874185463\n",
      "516 0.0003851857967069238\n",
      "517 0.0003843143305728165\n",
      "518 0.0003835612303826102\n",
      "519 0.00038253154908524524\n",
      "520 0.0003810041829890366\n",
      "521 0.00037901940247144254\n",
      "522 0.0003768514589577451\n",
      "523 0.00037488059400206695\n",
      "524 0.0003734230664389476\n",
      "525 0.0003725952624646169\n",
      "526 0.0003722698951787466\n",
      "527 0.0003721383812095447\n",
      "528 0.00037184603074606526\n",
      "529 0.0003711378095014238\n",
      "530 0.0003699529463260173\n",
      "531 0.0003684330308580674\n",
      "532 0.0003668468044980995\n",
      "533 0.0003654689037564698\n",
      "534 0.00036446613433585703\n",
      "535 0.00036383807258235555\n",
      "536 0.00036343299511749363\n",
      "537 0.00036302701660699234\n",
      "538 0.00036242823828258364\n",
      "539 0.00036155953455034546\n",
      "540 0.00036048591215109236\n",
      "541 0.00035937850416417833\n",
      "542 0.00035843482405664473\n",
      "543 0.0003577919473571875\n",
      "544 0.00035746962517446457\n",
      "545 0.0003573654225741362\n",
      "546 0.0003573011593199276\n",
      "547 0.000357098809326472\n",
      "548 0.0003566527914331594\n",
      "549 0.0003559683489406508\n",
      "550 0.00035515107509415507\n",
      "551 0.00035435410436368797\n",
      "552 0.00035370784569263905\n",
      "553 0.0003532642709581108\n",
      "554 0.0003529803883623037\n",
      "555 0.00035274690612355783\n",
      "556 0.00035244682756352353\n",
      "557 0.00035201484971417727\n",
      "558 0.000351468673802408\n",
      "559 0.0003508976766250983\n",
      "560 0.0003504158363341881\n",
      "561 0.0003501035730796524\n",
      "562 0.00034996812872304273\n",
      "563 0.0003499417439244361\n",
      "564 0.0003499168448517089\n",
      "565 0.00034979855611664304\n",
      "566 0.00034954710029296834\n",
      "567 0.0003491896502109741\n",
      "568 0.00034879844552291174\n",
      "569 0.0003484496628361274\n",
      "570 0.0003481861790096003\n",
      "571 0.0003480029892459946\n",
      "572 0.0003478599555500416\n",
      "573 0.0003477112116314075\n",
      "574 0.000347532592868308\n",
      "575 0.0003473318551267079\n",
      "576 0.00034713832108951574\n",
      "577 0.0003469811819347464\n",
      "578 0.0003468712747519889\n",
      "579 0.0003467969591056364\n",
      "580 0.00034673440270711816\n",
      "581 0.0003466634665003858\n",
      "582 0.0003465782415418307\n",
      "583 0.00034648662573945576\n",
      "584 0.00034640152894650355\n",
      "585 0.0003463313756281671\n",
      "586 0.00034627648781174994\n",
      "587 0.00034623236920531517\n",
      "588 0.0003461955661143053\n",
      "589 0.0003461666168304568\n",
      "590 0.0003461479786571127\n",
      "591 0.00034613952876849896\n",
      "592 0.00034613627298245503\n",
      "593 0.00034613076028135577\n",
      "594 0.0003461184902928732\n",
      "595 0.0003461020491546091\n",
      "596 0.0003460908593096669\n",
      "597 0.00034609694404423287\n",
      "598 0.00034612974603995885\n",
      "599 0.000346192816727267\n",
      "600 0.0003462830841337664\n",
      "601 0.00034639191789331803\n",
      "602 0.00034650746537083857\n",
      "603 0.00034661837277899635\n",
      "604 0.00034671821867593303\n",
      "605 0.0003468082740075082\n",
      "606 0.00034689620826664256\n",
      "607 0.0003469913716048423\n",
      "608 0.00034710057568867553\n",
      "609 0.0003472276335748251\n",
      "610 0.00034737529341849526\n",
      "611 0.0003475452422742988\n",
      "612 0.0003477351234803034\n",
      "613 0.00034793723260886987\n",
      "614 0.00034814305555552625\n",
      "615 0.0003483498495132863\n",
      "616 0.0003485607723164888\n",
      "617 0.0003487777640634106\n",
      "618 0.000348997854160289\n",
      "619 0.00034922034418075667\n",
      "620 0.00034945494928624127\n",
      "621 0.00034971578661832344\n",
      "622 0.0003500065110976058\n",
      "623 0.000350318163304816\n",
      "624 0.0003506422754896209\n",
      "625 0.0003509755371668928\n",
      "626 0.0003513088221089464\n",
      "627 0.00035162745002270267\n",
      "628 0.0003519300384889338\n",
      "629 0.0003522289512120167\n",
      "630 0.00035252568925073354\n",
      "631 0.0003528125898613007\n",
      "632 0.00035310245006590023\n",
      "633 0.0003534165931230633\n",
      "634 0.00035374301801234043\n",
      "635 0.0003540591737102492\n",
      "636 0.0003543854725814051\n",
      "637 0.00035475008271853854\n",
      "638 0.00035514296523557655\n",
      "639 0.0003555645277676283\n",
      "640 0.00035601235660490913\n",
      "641 0.000356444855031117\n",
      "642 0.00035687470993603967\n"
     ]
    },
    {
     "name": "stdout",
     "output_type": "stream",
     "text": [
      "643 0.000357352383909777\n",
      "644 0.00035790253174638374\n",
      "645 0.00035860692979782703\n",
      "646 0.0003594064546082745\n",
      "647 0.00036026581629325377\n",
      "648 0.0003616323134983661\n",
      "649 0.0003693867351647905\n",
      "650 0.000789757655937372\n",
      "651 0.1063406362439027\n",
      "652 0.03372359387988282\n",
      "653 0.0317613379016572\n",
      "654 0.02644585834486706\n",
      "655 0.02161027854068662\n",
      "656 0.017884394663663063\n",
      "657 0.015390274486405784\n",
      "658 0.013961232255347513\n",
      "659 0.01324158624500633\n",
      "660 0.012844909504390965\n",
      "661 0.012471125200975151\n",
      "662 0.011963893306967219\n",
      "663 0.011314627353874151\n",
      "664 0.010584819691387788\n",
      "665 0.009852564230301659\n",
      "666 0.00918163227385571\n",
      "667 0.008610871268509379\n",
      "668 0.008152381708279931\n",
      "669 0.0078051039642501\n",
      "670 0.007544502742626623\n",
      "671 0.007344249421543975\n",
      "672 0.007174493483608291\n",
      "673 0.007006769091423243\n",
      "674 0.006819808019070891\n",
      "675 0.0066026484961967235\n",
      "676 0.006354455324959817\n",
      "677 0.006082478173694654\n",
      "678 0.005799275944373552\n",
      "679 0.005519823440682601\n",
      "680 0.005234557147066547\n",
      "681 0.004983687947235573\n",
      "682 0.00479592559301506\n",
      "683 0.00464783861501072\n",
      "684 0.004527669087987308\n",
      "685 0.004420092311458085\n",
      "686 0.004310820759027174\n",
      "687 0.004190567795860279\n",
      "688 0.004042739754877385\n",
      "689 0.0038890350499929203\n",
      "690 0.0037382784907373126\n",
      "691 0.0035981176350071437\n",
      "692 0.0034726960324829356\n",
      "693 0.003369384087603292\n",
      "694 0.0032762932419772655\n",
      "695 0.003189511968452214\n",
      "696 0.00310080149370802\n",
      "697 0.003016825792704817\n",
      "698 0.0029380281553332164\n",
      "699 0.002864274216491839\n",
      "700 0.00279452490297033\n",
      "701 0.002727189864745068\n",
      "702 0.0026609342178884857\n",
      "703 0.0025954032138640346\n",
      "704 0.002531385109037665\n",
      "705 0.002470338868264493\n",
      "706 0.0024136200779731535\n",
      "707 0.002361832299001318\n",
      "708 0.0023145723700479567\n",
      "709 0.0022706333052813776\n",
      "710 0.0022285394578678763\n",
      "711 0.0021871326022036286\n",
      "712 0.0021459052461716\n",
      "713 0.002104973963089707\n",
      "714 0.0020648286437745514\n",
      "715 0.0020260427480960977\n",
      "716 0.00198905162000268\n",
      "717 0.0019540447982860252\n",
      "718 0.0019209767079607703\n",
      "719 0.0018896538302632588\n",
      "720 0.0018598329438436606\n",
      "721 0.0018312919764485775\n",
      "722 0.0018038649783229208\n",
      "723 0.0017774345777354977\n",
      "724 0.001751889262862777\n",
      "725 0.0017270814313874727\n",
      "726 0.0017028252340074298\n",
      "727 0.0016789478188069596\n",
      "728 0.0016553766272146403\n",
      "729 0.0016322112831730735\n",
      "730 0.0016097212252852253\n",
      "731 0.0015882490503380331\n",
      "732 0.0015680534957290544\n",
      "733 0.001549164773239119\n",
      "734 0.001531336357680749\n",
      "735 0.0015141434928853809\n",
      "736 0.0014971845577032609\n",
      "737 0.001480261148126179\n",
      "738 0.001463435372324423\n",
      "739 0.0014469491004069888\n",
      "740 0.001431059399953584\n",
      "741 0.0014158764801038071\n",
      "742 0.0014012995255528325\n",
      "743 0.0013870961178175693\n",
      "744 0.0013730602422329082\n",
      "745 0.0013591326051772157\n",
      "746 0.0013454169939831843\n",
      "747 0.0013320986292255186\n",
      "748 0.00131931460286332\n",
      "749 0.0013070565661332096\n",
      "750 0.0012951820420390443\n",
      "751 0.0012835259832813832\n",
      "752 0.0012720187942054887\n",
      "753 0.001260726638843675\n",
      "754 0.001249798090038689\n",
      "755 0.001239354758356461\n",
      "756 0.0012293923142701402\n",
      "757 0.001219766902488614\n",
      "758 0.001210283186703324\n",
      "759 0.0012008129267232213\n",
      "760 0.0011913575290223907\n",
      "761 0.0011820216155654414\n",
      "762 0.0011729227077118662\n",
      "763 0.0011640984332869611\n",
      "764 0.0011554856942236754\n",
      "765 0.0011469909500335495\n",
      "766 0.0011385849614803563\n",
      "767 0.0011303427599325014\n",
      "768 0.0011224021589198146\n",
      "769 0.0011148670277278739\n",
      "770 0.0011077139646747142\n",
      "771 0.0011007801833283972\n",
      "772 0.0010938584109887013\n",
      "773 0.0010868241722275162\n",
      "774 0.0010797022676609707\n",
      "775 0.0010726401695999603\n",
      "776 0.001065811648455646\n",
      "777 0.0010592987184821871\n",
      "778 0.0010530336972032312\n",
      "779 0.001046864270634121\n",
      "780 0.0010406844548448565\n",
      "781 0.0010345172924316717\n",
      "782 0.0010284972943998304\n",
      "783 0.0010227767376095986\n",
      "784 0.0010174088035504163\n",
      "785 0.0010122851950504779\n",
      "786 0.0010071985049983228\n",
      "787 0.0010019840027398457\n",
      "788 0.000996620153972321\n",
      "789 0.0009912252591733261\n",
      "790 0.0009859745550173122\n",
      "791 0.0009809850764262824\n",
      "792 0.0009762287485378608\n",
      "793 0.0009715609240772519\n",
      "794 0.0009668512143377452\n",
      "795 0.0009620921636113762\n",
      "796 0.0009574021755540009\n",
      "797 0.0009529409248597174\n",
      "798 0.0009487935144567573\n",
      "799 0.0009448857484969321\n",
      "800 0.0009410173840236395\n",
      "801 0.0009370052185402726\n",
      "802 0.0009328078683155336\n",
      "803 0.0009285399964551176\n",
      "804 0.0009243926545364522\n",
      "805 0.0009205126900582954\n",
      "806 0.0009168905959613622\n",
      "807 0.0009133638560951325\n",
      "808 0.000909759154144045\n",
      "809 0.0009060331287105168\n",
      "810 0.00090229529689164\n",
      "811 0.0008987283314520845\n",
      "812 0.0008954672734596157\n",
      "813 0.0008924809570761374\n",
      "814 0.000889568326518215\n",
      "815 0.0008865094495158896\n",
      "816 0.0008832237546840302\n",
      "817 0.0008798051631610483\n",
      "818 0.0008764521926852146\n",
      "819 0.0008733560576765787\n",
      "820 0.0008705594044176785\n",
      "821 0.0008679093829134172\n",
      "822 0.000865197326980181\n",
      "823 0.0008623327231756351\n",
      "824 0.0008593891110108435\n",
      "825 0.0008565386166755068\n",
      "826 0.0008539513518956987\n",
      "827 0.0008516536560476519\n",
      "828 0.0008494688352259664\n",
      "829 0.000847159715424099\n",
      "830 0.0008446145514855467\n",
      "831 0.0008418969716115658\n",
      "832 0.0008391869412781446\n",
      "833 0.0008367017078723365\n",
      "834 0.0008345406258562512\n",
      "835 0.0008325776365796128\n",
      "836 0.0008305891165554414\n",
      "837 0.0008284518758167206\n",
      "838 0.0008261967241880374\n",
      "839 0.000823957420103103\n",
      "840 0.0008219227191516383\n",
      "841 0.0008201824707691533\n",
      "842 0.0008185965095218038\n",
      "843 0.0008169248017525574\n",
      "844 0.0008150350335922595\n",
      "845 0.0008129492641235655\n",
      "846 0.0008107994103313192\n",
      "847 0.0008088256273440834\n",
      "848 0.0008072066646546702\n",
      "849 0.0008058583015980612\n",
      "850 0.0008045512559543565\n",
      "851 0.0008031347307848708\n",
      "852 0.0008015740409320497\n",
      "853 0.0007999195050191928\n",
      "854 0.000798377363851669\n",
      "855 0.0007971368674348847\n",
      "856 0.000796116762684512\n",
      "857 0.000795086510853697\n",
      "858 0.0007938984977745326\n",
      "859 0.0007924983285646744\n",
      "860 0.000790904896751768\n",
      "861 0.0007893862622395104\n",
      "862 0.0007882595589743205\n",
      "863 0.0007875195359671622\n",
      "864 0.0007869492852510128\n",
      "865 0.0007863698169316547\n",
      "866 0.0007856167668785586\n",
      "867 0.0007845625883898076\n",
      "868 0.000783457613027465\n",
      "869 0.0007826836466623984\n",
      "870 0.0007822669130921688\n",
      "871 0.0007820037035129018\n",
      "872 0.0007817188933173484\n",
      "873 0.0007811752970932777\n",
      "874 0.0007801430585153919\n",
      "875 0.0007789842709402453\n",
      "876 0.0007783059403569555\n",
      "877 0.0007782557140458587\n",
      "878 0.0007786558247094821\n",
      "879 0.0007792730550086419\n",
      "880 0.0007796267830743415\n",
      "881 0.0007792030427217919\n",
      "882 0.0007784225038229898\n",
      "883 0.0007780835573819296\n",
      "884 0.0007784189255099464\n",
      "885 0.0007792888357334748\n",
      "886 0.0007804501866939177\n",
      "887 0.0007811877520279647\n",
      "888 0.0007807186635177761\n",
      "889 0.0007797271380182143\n",
      "890 0.0007794473861987895\n",
      "891 0.0007803204717342758\n",
      "892 0.0007822657858184629\n",
      "893 0.0007849325495435528\n",
      "894 0.0007870306240283136\n",
      "895 0.0007872289045145481\n",
      "896 0.0007865201619604421\n",
      "897 0.0007865920514229162\n",
      "898 0.0007880506756038992\n",
      "899 0.0007908962271609468\n",
      "900 0.0007947351334026463\n",
      "901 0.0007975909812617428\n",
      "902 0.0007975250347647067\n",
      "903 0.0007962204848258285\n",
      "904 0.0007962525987380791\n",
      "905 0.0007985966193463726\n",
      "906 0.0008033992480519232\n",
      "907 0.0008100803376987723\n",
      "908 0.0008151563428616859\n",
      "909 0.0008156734131398142\n",
      "910 0.0008143335792730099\n",
      "911 0.0008147393358591456\n",
      "912 0.0008181553468113734\n",
      "913 0.0008249148152328356\n",
      "914 0.0008343984853124074\n",
      "915 0.0008410598632464154\n",
      "916 0.0008407224520565427\n",
      "917 0.0008377880342465597\n",
      "918 0.0008378005600634885\n",
      "919 0.0008427231417094376\n",
      "920 0.0008533303521648014\n",
      "921 0.0008689820512757856\n",
      "922 0.0008796529111826405\n",
      "923 0.0008795623003282809\n",
      "924 0.0008756853578993987\n",
      "925 0.0008759758462278003\n",
      "926 0.0008828935931451284\n",
      "927 0.0008977683715467548\n",
      "928 0.0008306269961222174\n",
      "929 0.0007787597387464781\n",
      "930 0.0008380834848402637\n",
      "931 0.0008881387739431602\n",
      "932 0.0009029004674727544\n",
      "933 0.0008899903598985705\n",
      "934 0.0007659074382665326\n",
      "935 0.000687944005347471\n",
      "936 0.0006787244486617236\n",
      "937 0.0007160684462887721\n",
      "938 0.0007541607739461509\n",
      "939 0.0007597188060702857\n",
      "940 0.0007279879887431363\n",
      "941 0.0006774216464498667\n",
      "942 0.0006341092495921409\n",
      "943 0.000616022362374709\n",
      "944 0.0006241064289637902\n",
      "945 0.0006443630031275413\n",
      "946 0.0006589069342295168\n",
      "947 0.0006573570654520251\n",
      "948 0.0006402877921841613\n",
      "949 0.0006186394054157967\n",
      "950 0.0006036300199416122\n",
      "951 0.000600876245011253\n",
      "952 0.0006081040271033882\n",
      "953 0.0006178326960167089\n",
      "954 0.0006226685361401511\n",
      "955 0.0006196384403795109\n",
      "956 0.0006110758794590477\n",
      "957 0.0006021616274624\n",
      "958 0.0005973208284925248\n",
      "959 0.0005978272960028229\n",
      "960 0.0006016705159271507\n",
      "961 0.0006052985012630839\n",
      "962 0.0006059508465244646\n",
      "963 0.000603142772525457\n",
      "964 0.0005985339396844073\n",
      "965 0.0005945489267639763\n",
      "966 0.0005928288721602315\n",
      "967 0.000593433448275787\n",
      "968 0.0005950755084900056\n"
     ]
    },
    {
     "name": "stdout",
     "output_type": "stream",
     "text": [
      "969 0.0005960819600091912\n",
      "970 0.000595438319057318\n",
      "971 0.0005932820347449966\n",
      "972 0.0005906164951242473\n",
      "973 0.0005885641098853729\n",
      "974 0.0005877017584930504\n",
      "975 0.0005878330514200247\n",
      "976 0.0005882303126133422\n",
      "977 0.0005881376772266669\n",
      "978 0.0005872166364749427\n",
      "979 0.0005856752126281525\n",
      "980 0.0005840500788354768\n",
      "981 0.0005828391588126067\n",
      "982 0.0005822265040066251\n",
      "983 0.0005820282701509734\n",
      "984 0.0005818496671174286\n",
      "985 0.0005813406009589314\n",
      "986 0.0005803920742174807\n",
      "987 0.0005791618636008167\n",
      "988 0.0005779428358848805\n",
      "989 0.0005769822302732939\n",
      "990 0.0005763577122694686\n",
      "991 0.0005759606196835182\n",
      "992 0.0005755798494257723\n",
      "993 0.0005750313846529159\n",
      "994 0.0005742542825037529\n",
      "995 0.0005733222989451197\n",
      "996 0.0005723821944527932\n",
      "997 0.0005715660083336701\n",
      "998 0.0005709226566847113\n",
      "999 0.000570399522221049\n",
      "1000 0.0005698816292075285\n",
      "1001 0.0005692624721768935\n",
      "1002 0.0005685010670935088\n",
      "1003 0.0005676372419376158\n",
      "1004 0.0005667666245646697\n",
      "1005 0.0005659896748868332\n",
      "1006 0.0005653573949443271\n",
      "1007 0.0005648440029788494\n",
      "1008 0.0005643648766288609\n",
      "1009 0.0005638265702501396\n",
      "1010 0.0005631763080349849\n",
      "1011 0.0005624272901161131\n",
      "1012 0.0005616499654097785\n",
      "1013 0.0005609304128769402\n",
      "1014 0.0005603172755624837\n",
      "1015 0.0005597926173587277\n",
      "1016 0.0005592861291963152\n",
      "1017 0.0005587192449132388\n",
      "1018 0.0005580517934025597\n",
      "1019 0.0005573089108184134\n",
      "1020 0.0005565704270376206\n",
      "1021 0.0005559221025997802\n",
      "1022 0.00055539929778773\n",
      "1023 0.0005549643234952368\n",
      "1024 0.0005545314558037511\n",
      "1025 0.0005540184612440027\n",
      "1026 0.0005533948522209012\n",
      "1027 0.0005527020894465384\n",
      "1028 0.0005520288684659212\n",
      "1029 0.0005514521220500153\n",
      "1030 0.000550985229642374\n",
      "1031 0.0005505710270192075\n",
      "1032 0.0005501197069212431\n",
      "1033 0.0005495646266616502\n",
      "1034 0.0005489072365965428\n",
      "1035 0.0005482228640320505\n",
      "1036 0.0005476148473919801\n",
      "1037 0.0005471449279119562\n",
      "1038 0.0005467919029682264\n",
      "1039 0.0005464666045826007\n",
      "1040 0.000546066829663637\n",
      "1041 0.0005455385824682184\n",
      "1042 0.0005449117632411042\n",
      "1043 0.0005442834088811811\n",
      "1044 0.0005437525552219375\n",
      "1045 0.000543352948390458\n",
      "1046 0.0005430332509467854\n",
      "1047 0.0005426923355358273\n",
      "1048 0.0005422421483673759\n",
      "1049 0.0005416659644295198\n",
      "1050 0.0005410361536782911\n",
      "1051 0.000540469512954263\n",
      "1052 0.0005400474032791499\n",
      "1053 0.0005397619800204478\n",
      "1054 0.0005395249940010435\n",
      "1055 0.0005392233911297638\n",
      "1056 0.0005387871954492286\n",
      "1057 0.0005382359127279268\n",
      "1058 0.0005376681516976385\n",
      "1059 0.0005371928197779571\n",
      "1060 0.000536853572120182\n",
      "1061 0.0005366045402581082\n",
      "1062 0.0005363446962596673\n",
      "1063 0.0005359807267205778\n",
      "1064 0.000535489405640034\n",
      "1065 0.0005349408811362204\n",
      "1066 0.0005344530775878699\n",
      "1067 0.0005341063903416645\n",
      "1068 0.0005338895622019104\n",
      "1069 0.0005337140404069291\n",
      "1070 0.0005334713848812895\n",
      "1071 0.0005330985056066383\n",
      "1072 0.0005326225044191001\n",
      "1073 0.0005321464675961355\n",
      "1074 0.0005317736290041611\n",
      "1075 0.0005315315909268615\n",
      "1076 0.0005313601356227969\n",
      "1077 0.0005311570353930715\n",
      "1078 0.0005308405917433139\n",
      "1079 0.0005304064721696701\n",
      "1080 0.0005299425717136638\n",
      "1081 0.0005295701175250433\n",
      "1082 0.0005293507314152635\n",
      "1083 0.000529243629092178\n",
      "1084 0.0005291421798788205\n",
      "1085 0.0005289418582275639\n",
      "1086 0.0005286019698202853\n",
      "1087 0.0005281803185416024\n",
      "1088 0.0005278007470605462\n",
      "1089 0.0005275594478241552\n",
      "1090 0.0005274516041842045\n",
      "1091 0.0005273845178568629\n",
      "1092 0.0005272449464734264\n",
      "1093 0.0005269648288997493\n",
      "1094 0.0005265720293043718\n",
      "1095 0.0005261878466216066\n",
      "1096 0.0005259421371228486\n",
      "1097 0.0005258697687304816\n",
      "1098 0.000525889491132448\n",
      "1099 0.0005258717352918901\n",
      "1100 0.000525716465283518\n",
      "1101 0.000525410919015932\n",
      "1102 0.0005250517062313652\n",
      "1103 0.00052478491428866\n",
      "1104 0.0005246900846681751\n",
      "1105 0.0005247198651140238\n",
      "1106 0.0005247510789836727\n",
      "1107 0.000524669244151217\n",
      "1108 0.0005244294349635481\n",
      "1109 0.0005240988331414868\n",
      "1110 0.0005238298131643715\n",
      "1111 0.0005237431549583243\n",
      "1112 0.0005238253486224255\n",
      "1113 0.0005239519226504786\n",
      "1114 0.0005239888664513348\n",
      "1115 0.0005238630566151926\n",
      "1116 0.0005236062906612228\n",
      "1117 0.000523356770945179\n",
      "1118 0.000523262219342705\n",
      "1119 0.0005233497306994793\n",
      "1120 0.0005235101518926741\n",
      "1121 0.0005236049318378624\n",
      "1122 0.0005235486023467751\n",
      "1123 0.0005233469261567031\n",
      "1124 0.0005231213722158221\n",
      "1125 0.0005230422223180713\n",
      "1126 0.0005231787981198085\n",
      "1127 0.0005234308009559923\n",
      "1128 0.0005236333837106058\n",
      "1129 0.0005236809378503396\n",
      "1130 0.0005235621505391901\n",
      "1131 0.0005233795595826909\n",
      "1132 0.0005233128390532321\n",
      "1133 0.0005234719851701896\n",
      "1134 0.0005237794211973788\n",
      "1135 0.0005240527170316486\n",
      "1136 0.0005241702498085284\n",
      "1137 0.00052411219825045\n",
      "1138 0.0005239649853672609\n",
      "1139 0.0005239148975429217\n",
      "1140 0.0005241180875212194\n",
      "1141 0.0005245309187599719\n",
      "1142 0.0005249387694061704\n",
      "1143 0.000525171438897441\n",
      "1144 0.0005251973685355577\n",
      "1145 0.00052509814669408\n",
      "1146 0.0005250622737674899\n",
      "1147 0.0005252848806929802\n",
      "1148 0.0005257681244493585\n",
      "1149 0.0005262820982975451\n",
      "1150 0.0005266087612172481\n",
      "1151 0.0005267071411162576\n",
      "1152 0.0005266581184805715\n",
      "1153 0.0005266459636478591\n",
      "1154 0.0005269007968104343\n",
      "1155 0.0005172094957855824\n",
      "1156 0.0005200713851430662\n",
      "1157 0.0005241474557080476\n",
      "1158 0.0005267179634911866\n",
      "1159 0.0005265965504170802\n",
      "1160 0.0005245524651316106\n",
      "1161 0.0005224739414580551\n",
      "1162 0.0005117686547935018\n",
      "1163 0.0005058705488305532\n",
      "1164 0.0005138137220785715\n",
      "1165 0.0005213543549677902\n",
      "1166 0.0005239161223702083\n",
      "1167 0.0005210899325385818\n",
      "1168 0.0005159549311896545\n",
      "1169 0.0005034227737331204\n",
      "1170 0.0004969960122825316\n",
      "1171 0.0004974382966357813\n",
      "1172 0.0005011983167331832\n",
      "1173 0.0005033834556888322\n",
      "1174 0.0005011353244731485\n",
      "1175 0.0004949748427036293\n",
      "1176 0.00048785554292905017\n",
      "1177 0.00048299118277524454\n",
      "1178 0.00048181269440001966\n",
      "1179 0.0004832419935590321\n",
      "1180 0.00048470851520642855\n",
      "1181 0.0004840499789884243\n",
      "1182 0.00048084508096389936\n",
      "1183 0.00047642055423314383\n",
      "1184 0.0004727825795310447\n",
      "1185 0.0004712618575822504\n",
      "1186 0.00047171985493505987\n",
      "1187 0.0004727942270934197\n",
      "1188 0.0004729380126387142\n",
      "1189 0.0004714438105822145\n",
      "1190 0.0004687724564043083\n",
      "1191 0.0004660999789088764\n",
      "1192 0.0004644849016370621\n",
      "1193 0.0004642074070615224\n",
      "1194 0.0004646738081366084\n",
      "1195 0.0004648998468869249\n",
      "1196 0.0004641960554363593\n",
      "1197 0.000462577561339257\n",
      "1198 0.0004606705691938775\n",
      "1199 0.00045924227808753076\n",
      "1200 0.00045869249633753305\n",
      "1201 0.0004588312556629745\n",
      "1202 0.0004590604435135635\n",
      "1203 0.00045880257843696685\n",
      "1204 0.00045786759065588573\n",
      "1205 0.0004565272963109372\n",
      "1206 0.0004552891133872242\n",
      "1207 0.0004545492627954896\n",
      "1208 0.0004543554756072104\n",
      "1209 0.00045441620889242795\n",
      "1210 0.00045432443856949017\n",
      "1211 0.00045382869294674326\n",
      "1212 0.0004529721484862934\n",
      "1213 0.0004520282836290867\n",
      "1214 0.0004512995688290649\n",
      "1215 0.0004509223925552548\n",
      "1216 0.00045080059932219957\n",
      "1217 0.00045069530882484925\n",
      "1218 0.0004503950703282948\n",
      "1219 0.00044984691199993743\n",
      "1220 0.0004491692064337603\n",
      "1221 0.00044855356147164785\n",
      "1222 0.0004481323389662937\n",
      "1223 0.00044790042092530084\n",
      "1224 0.0004477349276230137\n",
      "1225 0.00044748874432746014\n",
      "1226 0.0004470885690612082\n",
      "1227 0.00044657336539100713\n",
      "1228 0.0004460555419719624\n",
      "1229 0.00044563922440580536\n",
      "1230 0.00044535352151462104\n",
      "1231 0.000445142350961381\n",
      "1232 0.00044491095985672743\n",
      "1233 0.00044459215871447207\n",
      "1234 0.0004441866270292728\n",
      "1235 0.0004437540770637622\n",
      "1236 0.00044336691896637543\n",
      "1237 0.000443061051386684\n",
      "1238 0.00044281626512037185\n",
      "1239 0.0004425758057751324\n",
      "1240 0.00044228792069865656\n",
      "1241 0.00044193958927106903\n",
      "1242 0.00044156101490239457\n",
      "1243 0.00044120104870917223\n",
      "1244 0.00044089283925910814\n",
      "1245 0.0004406334163072012\n",
      "1246 0.00044038928242029485\n",
      "1247 0.0004401216475221862\n",
      "1248 0.00043981257453685503\n",
      "1249 0.00043947464646211005\n",
      "1250 0.00043913948567135227\n",
      "1251 0.0004388348822880015\n",
      "1252 0.00043856675578200647\n",
      "1253 0.0004383173325909469\n",
      "1254 0.00043805911915494045\n",
      "1255 0.00043777391081808504\n",
      "1256 0.0004374638476839126\n",
      "1257 0.00043714805816045475\n",
      "1258 0.0004368485280276437\n",
      "1259 0.00043657551233491535\n",
      "1260 0.00043632205783188766\n",
      "1261 0.00043607027186666665\n",
      "1262 0.0004358040249962321\n",
      "1263 0.00043551913454802625\n",
      "1264 0.0004352246878619313\n",
      "1265 0.0004349356338393562\n",
      "1266 0.00043466243444955787\n",
      "1267 0.00043440482156548025\n",
      "1268 0.0004341532325392316\n",
      "1269 0.000433896095073228\n",
      "1270 0.0004336275408506572\n",
      "1271 0.0004333504881460974\n",
      "1272 0.0004330736527965961\n",
      "1273 0.00043280517476778404\n",
      "1274 0.0004325474249738084\n",
      "1275 0.00043229622435204533\n",
      "1276 0.00043204442150263827\n",
      "1277 0.00043178692917245374\n",
      "1278 0.0004315237333453973\n",
      "1279 0.00043125916971336855\n",
      "1280 0.00043099843997291496\n",
      "1281 0.00043074403416277633\n",
      "1282 0.00043049443999153514\n"
     ]
    },
    {
     "name": "stdout",
     "output_type": "stream",
     "text": [
      "1283 0.00043024569353685885\n",
      "1284 0.000429994363334969\n",
      "1285 0.00042973978522509686\n",
      "1286 0.00042948414732523626\n",
      "1287 0.00042923064548877507\n",
      "1288 0.00042898119789573836\n",
      "1289 0.0004287353148647924\n",
      "1290 0.0004284907382241738\n",
      "1291 0.0004282451908843794\n",
      "1292 0.00042799790910896536\n",
      "1293 0.00042774994538884815\n",
      "1294 0.0004275031934274988\n",
      "1295 0.00042725896398728227\n",
      "1296 0.00042701714463184027\n",
      "1297 0.00042677644954186746\n",
      "1298 0.0004265354546824113\n",
      "1299 0.00042629360772269\n",
      "1300 0.0004260515137048628\n",
      "1301 0.00042581037947659543\n",
      "1302 0.0004255710978790399\n",
      "1303 0.0004253336511535368\n",
      "1304 0.0004250972175925895\n",
      "1305 0.00042486083367652803\n",
      "1306 0.0004246240902037156\n",
      "1307 0.00042438736907291543\n",
      "1308 0.00042415149720528936\n",
      "1309 0.0004239171143076224\n",
      "1310 0.00042368422467059405\n",
      "1311 0.00042345223303144337\n",
      "1312 0.00042322040092176956\n",
      "1313 0.00042298837244063515\n",
      "1314 0.00042275639881791526\n",
      "1315 0.00042252512896943256\n",
      "1316 0.00042229514209944245\n",
      "1317 0.00042206656033769255\n",
      "1318 0.00042183899699387966\n",
      "1319 0.00042161184749333626\n",
      "1320 0.00042138469927524704\n",
      "1321 0.00042115757814238164\n",
      "1322 0.00042093088460845373\n",
      "1323 0.0004207050938679956\n",
      "1324 0.0004204804412143454\n",
      "1325 0.0004202567998815207\n",
      "1326 0.0004200338082265403\n",
      "1327 0.0004198111329169287\n",
      "1328 0.0004195886796140648\n",
      "1329 0.0004193666209025181\n",
      "1330 0.00041914524780376633\n",
      "1331 0.0004189247657356791\n",
      "1332 0.00041870517528043774\n",
      "1333 0.0004184863024192257\n",
      "1334 0.0004182679353115607\n",
      "1335 0.000418049961282806\n",
      "1336 0.00041783241438616317\n",
      "1337 0.00041761541782364133\n",
      "1338 0.0004173990784525982\n",
      "1339 0.0004171834134351251\n",
      "1340 0.0004169683538590965\n",
      "1341 0.00041675380972403426\n",
      "1342 0.0004165397404015051\n",
      "1343 0.00041632617941863236\n",
      "1344 0.00041611320225196064\n",
      "1345 0.00041590086781688115\n",
      "1346 0.0004156891787151253\n",
      "1347 0.0004154780858338408\n",
      "1348 0.0004152675280275087\n",
      "1349 0.00041505747412070676\n",
      "1350 0.00041484793740206654\n",
      "1351 0.00041463895641954154\n",
      "1352 0.00041443056060385113\n",
      "1353 0.00041422274732028015\n",
      "1354 0.0004140154849447697\n",
      "1355 0.0004138087358762769\n",
      "1356 0.0004136024801088755\n",
      "1357 0.00041339672263909457\n",
      "1358 0.00041319148238394245\n",
      "1359 0.00041298677420834414\n",
      "1360 0.0004127825988494836\n",
      "1361 0.00041257894703052267\n",
      "1362 0.00041237581184561394\n",
      "1363 0.00041217319745215673\n",
      "1364 0.00041197111633340847\n",
      "1365 0.0004117695776499365\n",
      "1366 0.0004115685768672054\n",
      "1367 0.000411368095908162\n",
      "1368 0.0004111681145677292\n",
      "1369 0.0004109686247404859\n",
      "1370 0.0004107696363549241\n",
      "1371 0.0004105711698063883\n",
      "1372 0.00041037323965466006\n",
      "1373 0.000410175840967943\n",
      "1374 0.00040997894813706015\n",
      "1375 0.000409782527454351\n",
      "1376 0.000409586555385931\n",
      "1377 0.0004093910307696634\n",
      "1378 0.0004091959734544258\n",
      "1379 0.0004090014109043939\n",
      "1380 0.0004088073617760479\n",
      "1381 0.000408613826641075\n",
      "1382 0.00040842079063198794\n",
      "1383 0.0004082282349105642\n",
      "1384 0.0004080361487903622\n",
      "1385 0.0004078445349861727\n",
      "1386 0.0004076534057004259\n",
      "1387 0.0004074627731791653\n",
      "1388 0.00040727264116943013\n",
      "1389 0.00040708300212654105\n",
      "1390 0.0004068938407751033\n",
      "1391 0.000406705140833878\n",
      "1392 0.00040651689063235763\n",
      "1393 0.0004063290850701667\n",
      "1394 0.0004061417241795622\n",
      "1395 0.0004059548104004992\n",
      "1396 0.0004057683466272582\n",
      "1397 0.0004055823356972196\n",
      "1398 0.00040539678061525666\n",
      "1399 0.0004052116844525118\n",
      "1400 0.0004050270495378237\n",
      "1401 0.00040484287647873105\n",
      "1402 0.0004046591638670033\n",
      "1403 0.000404475909015766\n",
      "1404 0.0004042931092291255\n",
      "1405 0.00040411076264387986\n",
      "1406 0.0004039288679781355\n",
      "1407 0.00040374742333045655\n",
      "1408 0.0004035664248812553\n",
      "1409 0.000403385866452474\n",
      "1410 0.0004032057403473967\n",
      "1411 0.00040302603912292534\n",
      "1412 0.0004028467574484968\n",
      "1413 0.00040266789323625135\n",
      "1414 0.0004024894476668521\n",
      "1415 0.00040231142425253445\n",
      "1416 0.0004021338273929628\n",
      "1417 0.0004019566609246342\n",
      "1418 0.00040177992705057146\n",
      "1419 0.00040160362588899574\n",
      "1420 0.00040142775572868654\n",
      "1421 0.0004012523138790719\n",
      "1422 0.00040107729775695305\n",
      "1423 0.0004009027056710023\n",
      "1424 0.00040072853682450655\n",
      "1425 0.0004005547904252385\n",
      "1426 0.00040038146432788474\n",
      "1427 0.0004002085540197358\n",
      "1428 0.0004000360527058264\n",
      "1429 0.0003998639527111253\n",
      "1430 0.00039969224766990216\n",
      "1431 0.0003995209344602385\n",
      "1432 0.00039935001389891146\n",
      "1433 0.0003991794898342221\n",
      "1434 0.00039900936710982244\n",
      "1435 0.00039883964943618474\n",
      "1436 0.00039867033817944577\n",
      "1437 0.0003985014325017443\n",
      "1438 0.00039833293052072346\n",
      "1439 0.0003981648306471485\n",
      "1440 0.00039799713226961315\n",
      "1441 0.00039782983542774943\n",
      "1442 0.00039766293973635076\n",
      "1443 0.00039749644323340094\n",
      "1444 0.00039733034182779935\n",
      "1445 0.000397164629669806\n",
      "1446 0.0003969993002916411\n",
      "1447 0.00039683434802425095\n",
      "1448 0.00039666976913034247\n",
      "1449 0.00039650556228163744\n",
      "1450 0.00039634172831331746\n",
      "1451 0.0003961782694571631\n",
      "1452 0.0003960151883901022\n",
      "1453 0.00039585248742122933\n",
      "1454 0.00039569016802000815\n",
      "1455 0.00039552823072732247\n",
      "1456 0.0003953666753456805\n",
      "1457 0.000395205501218845\n",
      "1458 0.0003950447074080825\n",
      "1459 0.00039488429265102036\n",
      "1460 0.0003947242551200213\n",
      "1461 0.00039456459212475203\n",
      "1462 0.00039440529996667006\n",
      "1463 0.0003942463741154531\n",
      "1464 0.00039408780974757145\n",
      "1465 0.0003939296025228003\n",
      "1466 0.00039377174935093087\n",
      "1467 0.00039361424888019616\n",
      "1468 0.00039345710153137933\n",
      "1469 0.0003933003090698334\n",
      "1470 0.0003931438738760548\n",
      "1471 0.00039298779817456276\n",
      "1472 0.00039283208346955226\n",
      "1473 0.0003926767303258018\n",
      "1474 0.000392521738474458\n",
      "1475 0.0003923671070888693\n",
      "1476 0.00039221283502331055\n",
      "1477 0.0003920589208609067\n",
      "1478 0.0003919053627487539\n",
      "1479 0.0003917521581426463\n",
      "1480 0.00039159930366704823\n",
      "1481 0.0003914467952695957\n",
      "1482 0.0003912946287194463\n",
      "1483 0.0003911428003259942\n",
      "1484 0.0003909913076254895\n",
      "1485 0.00039084014976797297\n",
      "1486 0.00039068932744870064\n",
      "1487 0.000390538842416113\n",
      "1488 0.0003903886967592922\n",
      "1489 0.00039023889224988514\n",
      "1490 0.0003900894299538636\n",
      "1491 0.00038994031017496316\n",
      "1492 0.00038979153262737424\n",
      "1493 0.00038964309664449504\n",
      "1494 0.00038949500125434164\n",
      "1495 0.000389347245068014\n",
      "1496 0.0003891998260663343\n",
      "1497 0.00038905274145477494\n",
      "1498 0.0003889059877438421\n",
      "1499 0.0003887595611111071\n",
      "1500 0.00038861345796574383\n",
      "1501 0.00038846767553516625\n",
      "1502 0.00038832221227366726\n",
      "1503 0.000388177067959907\n",
      "1504 0.00038803224346939174\n",
      "1505 0.00038788774032338263\n",
      "1506 0.00038774356017924307\n",
      "1507 0.0003875997044168924\n",
      "1508 0.0003874561739067864\n",
      "1509 0.00038731296895316435\n",
      "1510 0.00038717008933658684\n",
      "1511 0.0003870275343600556\n",
      "1512 0.00038688530283710127\n",
      "1513 0.00038674339302591915\n",
      "1514 0.00038660180257404274\n",
      "1515 0.00038646052856273333\n",
      "1516 0.0003863195677137454\n",
      "1517 0.00038617891675534643\n",
      "1518 0.00038603857286964225\n",
      "1519 0.0003858985340941948\n",
      "1520 0.0003857587995522775\n",
      "1521 0.00038561936943922484\n",
      "1522 0.0003854802447741854\n",
      "1523 0.0003853414270036816\n",
      "1524 0.0003852029175821931\n",
      "1525 0.0003850647176422911\n",
      "1526 0.000384926827811525\n",
      "1527 0.0003847892481648485\n",
      "1528 0.0003846519782509131\n",
      "1529 0.0003845150171222713\n",
      "1530 0.00038437836333176056\n",
      "1531 0.00038424201491055524\n",
      "1532 0.00038410596938633995\n",
      "1533 0.00038397022390711976\n",
      "1534 0.00038383477550056995\n",
      "1535 0.0003836996214371951\n",
      "1536 0.0003835647596067991\n",
      "1537 0.0003834301887943335\n",
      "1538 0.00038329590876481434\n",
      "1539 0.00038316192013066846\n",
      "1540 0.0003830282240494061\n",
      "1541 0.00038289482185135487\n",
      "1542 0.0003827617147057345\n",
      "1543 0.00038262890339701007\n",
      "1544 0.0003824963882245337\n",
      "1545 0.0003823641689871755\n",
      "1546 0.00038223224499490716\n",
      "1547 0.0003821006150680984\n",
      "1548 0.0003819692775264477\n",
      "1549 0.0003818382302084991\n",
      "1550 0.00038170747057429525\n",
      "1551 0.0003815769959197315\n",
      "1552 0.000381446803683475\n",
      "1553 0.0003813168917780469\n",
      "1554 0.0003811872588533962\n",
      "1555 0.0003810579044139404\n",
      "1556 0.0003809288287565324\n",
      "1557 0.0003808000327543068\n",
      "1558 0.0003806715175565997\n",
      "1559 0.0003805432842888129\n",
      "1560 0.0003804153338176214\n",
      "1561 0.0003802876666071284\n",
      "1562 0.0003801602826526779\n",
      "1563 0.0003800331814589296\n",
      "1564 0.0003799063620337363\n",
      "1565 0.00037977982289324097\n",
      "1566 0.00037965356209923237\n",
      "1567 0.00037952757736075296\n",
      "1568 0.00037940186621993044\n",
      "1569 0.00037927642631019136\n",
      "1570 0.0003791512556400229\n",
      "1571 0.0003790263528327849\n",
      "1572 0.0003789017172571127\n",
      "1573 0.0003787773490113142\n",
      "1574 0.00037865324876916424\n",
      "1575 0.0003785294175335882\n",
      "1576 0.00037840585636492624\n",
      "1577 0.00037828256614465223\n",
      "1578 0.00037815954740890443\n",
      "1579 0.00037803680025530603\n",
      "1580 0.00037791432430346535\n",
      "1581 0.00037779211868710334\n",
      "1582 0.0003776701820684373\n"
     ]
    },
    {
     "name": "stdout",
     "output_type": "stream",
     "text": [
      "1583 0.0003775485126845227\n",
      "1584 0.00037742710844665124\n",
      "1585 0.0003773059671075433\n",
      "1586 0.000377185086488581\n",
      "1587 0.00037706446473067563\n",
      "1588 0.0003769441005119861\n",
      "1589 0.0003768239931753446\n",
      "1590 0.00037670414273018596\n",
      "1591 0.00037658454972984537\n",
      "1592 0.00037646521506013656\n",
      "1593 0.00037634613969512754\n",
      "1594 0.0003762273244745287\n",
      "1595 0.0003761087699372396\n",
      "1596 0.0003759904762189266\n",
      "1597 0.00037587244300258147\n",
      "1598 0.00037575466950505324\n",
      "1599 0.0003756371544925442\n",
      "1600 0.0003755198963316363\n",
      "1601 0.00037540289309043363\n",
      "1602 0.00037528614269879095\n",
      "1603 0.0003751696431578195\n",
      "1604 0.00037505339276531504\n",
      "1605 0.0003749373903084305\n",
      "1606 0.00037482163517534516\n",
      "1607 0.0003747061273571635\n",
      "1608 0.0003745908673410479\n",
      "1609 0.0003744758559246321\n",
      "1610 0.0003743610939984221\n",
      "1611 0.0003742465823418377\n",
      "1612 0.0003741323214635631\n",
      "1613 0.0003740183114962738\n",
      "1614 0.0003739045521406011\n",
      "1615 0.0003737910426485749\n",
      "1616 0.0003736777818423144\n",
      "1617 0.00037356476817295385\n",
      "1618 0.00037345199982833223\n",
      "1619 0.0003733394748915315\n",
      "1620 0.00037322719153707527\n",
      "1621 0.00037311514823345007\n",
      "1622 0.00037300334390980754\n",
      "1623 0.0003728917780474766\n",
      "1624 0.0003727804506736206\n",
      "1625 0.0003726693622599839\n",
      "1626 0.00037255851355303375\n",
      "1627 0.00037244790537547075\n",
      "1628 0.00037233753843836685\n",
      "1629 0.0003722274131910998\n",
      "1630 0.0003721175297201327\n",
      "1631 0.0003720078876948959\n",
      "1632 0.0003718984863552717\n",
      "1633 0.0003717893245382207\n",
      "1634 0.0003716804007466897\n",
      "1635 0.0003715717132646338\n",
      "1636 0.0003714632603154018\n",
      "1637 0.00037135504024678667\n",
      "1638 0.000371247051712592\n",
      "1639 0.00037113929381324054\n",
      "1640 0.0003710317661630763\n",
      "1641 0.0003709244688683847\n",
      "1642 0.0003708174024222576\n",
      "1643 0.0003707105675421598\n",
      "1644 0.00037060396498603677\n",
      "1645 0.0003704975953810041\n",
      "1646 0.00037039145908747753\n",
      "1647 0.0003702855561085307\n",
      "1648 0.0003701798860442623\n",
      "1649 0.00037007444808797685\n",
      "1650 0.00036996924106355204\n",
      "1651 0.0003698642635057461\n",
      "1652 0.00036975951378372145\n",
      "1653 0.00036965499025985173\n",
      "1654 0.00036955069146402613\n",
      "1655 0.0003694466162531538\n",
      "1656 0.00036934276392294973\n",
      "1657 0.0003692391342469416\n",
      "1658 0.0003691357274339482\n",
      "1659 0.00036903254401475684\n",
      "1660 0.0003689295846841592\n",
      "1661 0.0003688268501305125\n",
      "1662 0.0003687243408815028\n",
      "1663 0.00036862205718483476\n",
      "1664 0.0003685199989315266\n",
      "1665 0.00036841816562283855\n",
      "1666 0.0003683165563795415\n",
      "1667 0.00036821516999362586\n",
      "1668 0.00036811400502249144\n",
      "1669 0.000368013059921466\n",
      "1670 0.00036791233320181626\n",
      "1671 0.00036781182359138406\n",
      "1672 0.0003677115301687325\n",
      "1673 0.0003676114524429783\n",
      "1674 0.00036751159036191034\n",
      "1675 0.0003674119442469976\n",
      "1676 0.00036731251467045573\n",
      "1677 0.0003672133023004713\n",
      "1678 0.00036711430774355263\n",
      "1679 0.000367015531407928\n",
      "1680 0.00036691697340258684\n",
      "1681 0.00036681863347846053\n",
      "1682 0.0003667205110127133\n",
      "1683 0.0003666226050360062\n",
      "1684 0.00036652491430204875\n",
      "1685 0.00036642743739667206\n",
      "1686 0.0003663301728775465\n",
      "1687 0.0003662331194274416\n",
      "1688 0.00036613627599620975\n",
      "1689 0.00036603964190482494\n",
      "1690 0.0003659432168896987\n",
      "1691 0.00036584700107798393\n",
      "1692 0.0003657509948997569\n",
      "1693 0.0003656551989559755\n",
      "1694 0.00036555961386818036\n",
      "1695 0.00036546424013553035\n",
      "1696 0.00036536907801810385\n",
      "1697 0.00036527412745792194\n",
      "1698 0.000365179388041976\n",
      "1699 0.0003650848590084455\n",
      "1700 0.00036499053929543306\n",
      "1701 0.00036489642762996586\n",
      "1702 0.00036480252265059306\n",
      "1703 0.0003647088230498005\n",
      "1704 0.00036461532771594926\n",
      "1705 0.00036452203584951855\n",
      "1706 0.00036442894703110965\n",
      "1707 0.0003643360612272805\n",
      "1708 0.00036424337873310335\n",
      "1709 0.0003641509000640388\n",
      "1710 0.0003640586258188044\n",
      "1711 0.0003639665565376818\n",
      "1712 0.0003638746925777349\n",
      "1713 0.00036378303401955823\n",
      "1714 0.0003636915806135162\n",
      "1715 0.00036360033176849056\n",
      "1716 0.00036350928658345866\n",
      "1717 0.00036341844391986024\n",
      "1718 0.0003633278025093389\n",
      "1719 0.0003632373610852835\n",
      "1720 0.00036314711852057256\n",
      "1721 0.00036305707394878326\n",
      "1722 0.0003629672268464799\n",
      "1723 0.00036287757706029343\n",
      "1724 0.0003627881247733701\n",
      "1725 0.0003626988704184611\n",
      "1726 0.00036260981455512855\n",
      "1727 0.00036252095773374595\n",
      "1728 0.0003624323003680075\n",
      "1729 0.0003623438426329446\n",
      "1730 0.0003622555843990614\n",
      "1731 0.0003621675252077433\n",
      "1732 0.0003620796642894213\n",
      "1733 0.00036199200062285675\n",
      "1734 0.00036190453303085423\n",
      "1735 0.0003618172603021479\n",
      "1736 0.00036173018132370946\n",
      "1737 0.0003616432952024985\n",
      "1738 0.00036155660135543416\n",
      "1739 0.00036147009954995375\n",
      "1740 0.00036138378988736223\n",
      "1741 0.000361297672732584\n",
      "1742 0.0003612117486044557\n",
      "1743 0.00036112601804670467\n",
      "1744 0.00036104048150143375\n",
      "1745 0.0003609551392028637\n",
      "1746 0.00036086999110382227\n",
      "1747 0.0003607850368420145\n",
      "1748 0.0003607002757484834\n",
      "1749 0.0003606157068974276\n",
      "1750 0.0003605313291928581\n",
      "1751 0.0003604471414827348\n",
      "1752 0.00036036314268580424\n",
      "1753 0.0003602793319116966\n",
      "1754 0.000360195708553731\n",
      "1755 0.0003601122723368895\n",
      "1756 0.0003600290233118225\n",
      "1757 0.00035994596179627795\n",
      "1758 0.0003598630882754465\n",
      "1759 0.00035978040328001786\n",
      "1760 0.0003596979072622244\n",
      "1761 0.00035961560048861546\n",
      "1762 0.0003595334829626859\n",
      "1763 0.00035945155438582994\n",
      "1764 0.00035936981415989945\n",
      "1765 0.0003592882614309833\n",
      "1766 0.0003592068951701903\n",
      "1767 0.0003591257142821839\n",
      "1768 0.0003590447177272774\n",
      "1769 0.0003589639046387714\n",
      "1770 0.00035888327441524904\n",
      "1771 0.00035880282677128113\n",
      "1772 0.00035872256173659204\n",
      "1773 0.0003586424796042452\n",
      "1774 0.0003585625808378299\n",
      "1775 0.00035848286595491333\n",
      "1776 0.0003584033354065184\n",
      "1777 0.0003583239894709333\n",
      "1778 0.0003582448281756489\n",
      "1779 0.0003581658512566567\n",
      "1780 0.00035808705815862656\n",
      "1781 0.00035800844807635417\n",
      "1782 0.0003579300200325507\n",
      "1783 0.00035785177298315417\n",
      "1784 0.00035777370593580783\n",
      "1785 0.0003576958180635212\n",
      "1786 0.000357618108794239\n",
      "1787 0.00035754057786016276\n",
      "1788 0.00035746322529743276\n",
      "1789 0.00035738605139643806\n",
      "1790 0.00035730905661238724\n",
      "1791 0.0003572322414523792\n",
      "1792 0.0003571556063582674\n",
      "1793 0.0003570791516031079\n",
      "1794 0.0003570028772152294\n",
      "1795 0.0003569267829390791\n",
      "1796 0.00035685086823675265\n",
      "1797 0.00035677513233035234\n",
      "1798 0.0003566995742798659\n",
      "1799 0.00035662419308732325\n",
      "1800 0.00035654898781240044\n",
      "1801 0.0003564739576819712\n",
      "1802 0.0003563991021745907\n",
      "1803 0.00035632442106497194\n",
      "1804 0.0003562499144199209\n",
      "1805 0.0003561755825468399\n",
      "1806 0.0003561014259043415\n",
      "1807 0.00035602744499138535\n",
      "1808 0.00035595364023333607\n",
      "1809 0.0003558800118825978\n",
      "1810 0.00035580655994724505\n",
      "1811 0.00035573328415668473\n",
      "1812 0.00035566018396797187\n",
      "1813 0.0003555872586122267\n",
      "1814 0.0003555145071753151\n",
      "1815 0.00035544192870246754\n",
      "1816 0.0003553695223116534\n",
      "1817 0.0003552972872978508\n",
      "1818 0.00035522522321021987\n",
      "1819 0.0003551533298883836\n",
      "1820 0.00035508160745082113\n",
      "1821 0.00035501005623798714\n",
      "1822 0.0003549386767204632\n",
      "1823 0.00035486746938878216\n",
      "1824 0.00035479643464303396\n",
      "1825 0.0003547255726991496\n",
      "1826 0.0003546548835247874\n",
      "1827 0.0003545843668129254\n",
      "1828 0.00035451402199631585\n",
      "1829 0.000354443848300904\n",
      "1830 0.00035437384483156484\n",
      "1831 0.0003543040106782301\n",
      "1832 0.0003542343450267774\n",
      "1833 0.0003541648472564333\n",
      "1834 0.00035409551700695614\n",
      "1835 0.0003540263542031497\n",
      "1836 0.00035395735903246593\n",
      "1837 0.0003538885318796301\n",
      "1838 0.00035381987323067734\n",
      "1839 0.0003537513835628532\n",
      "1840 0.00035368306323869936\n",
      "1841 0.00035361491242005735\n",
      "1842 0.00035354693101407637\n",
      "1843 0.00035347911865809655\n",
      "1844 0.0003534114747453607\n",
      "1845 0.0003533439984880741\n",
      "1846 0.00035327668900955554\n",
      "1847 0.0003532095454522007\n",
      "1848 0.0003531425670843976\n",
      "1849 0.0003530757533887441\n",
      "1850 0.00035300910411568937\n",
      "1851 0.0003529426192930285\n",
      "1852 0.0003528762991893963\n",
      "1853 0.00035281014423864306\n",
      "1854 0.00035274415493873556\n",
      "1855 0.00035267833174247175\n",
      "1856 0.00035261267495784984\n",
      "1857 0.00035254718467258813\n",
      "1858 0.00035248186071359754\n",
      "1859 0.00035241670264655534\n",
      "1860 0.000352351709815675\n",
      "1861 0.00035228688141831116\n",
      "1862 0.00035222221660399886\n",
      "1863 0.00035215771458294156\n",
      "1864 0.0003520933747265376\n",
      "1865 0.0003520291966425948\n",
      "1866 0.0003519651802117109\n",
      "1867 0.0003519013255782557\n",
      "1868 0.0003518376330975213\n",
      "1869 0.00035177410324877196\n",
      "1870 0.00035171073652978153\n",
      "1871 0.0003516475333503367\n",
      "1872 0.0003515844939418293\n",
      "1873 0.00035152161829594345\n",
      "1874 0.0003514589061413075\n",
      "1875 0.00035139635696101177\n",
      "1876 0.00035133397004877124\n",
      "1877 0.0003512717445957661\n",
      "1878 0.00035120967979544347\n",
      "1879 0.0003511477749497602\n",
      "1880 0.0003510860295590758\n",
      "1881 0.00035102444337973757\n",
      "1882 0.00035096301643908\n",
      "1883 0.0003509017490048591\n",
      "1884 0.0003508406415149131\n",
      "1885 0.00035077969447971534\n",
      "1886 0.0003507189083747724\n",
      "1887 0.000350658283540541\n",
      "1888 0.0003505978201054495\n",
      "1889 0.00035053751794321446\n",
      "1890 0.00035047737667048904\n"
     ]
    },
    {
     "name": "stdout",
     "output_type": "stream",
     "text": [
      "1891 0.00035041739568521414\n",
      "1892 0.00035035757424022366\n",
      "1893 0.0003502979115413945\n",
      "1894 0.0003502384068550514\n",
      "1895 0.0003501790596070816\n",
      "1896 0.0003501198694563823\n",
      "1897 0.0003500608363296444\n",
      "1898 0.0003500019604108283\n",
      "1899 0.0003499432420873805\n",
      "1900 0.00034988468186307676\n",
      "1901 0.0003498262802528107\n",
      "1902 0.0003497680376773488\n",
      "1903 0.00034970995437483927\n",
      "1904 0.0003496520303427292\n",
      "1905 0.0003495942653184251\n",
      "1906 0.000349536658801675\n",
      "1907 0.0003494792101152851\n",
      "1908 0.00034942191849543063\n",
      "1909 0.0003493647831976229\n",
      "1910 0.0003493078036010915\n",
      "1911 0.000349250979293685\n",
      "1912 0.0003491943101221386\n",
      "1913 0.0003491377961984805\n",
      "1914 0.0003490814378613717\n",
      "1915 0.00034902523559939913\n",
      "1916 0.00034896918995026876\n",
      "1917 0.0003489133013932493\n",
      "1918 0.00034885757025279225\n",
      "1919 0.0003488019966284589\n",
      "1920 0.00034874658036182407\n",
      "1921 0.0003486913210451416\n",
      "1922 0.0003486362180707314\n",
      "1923 0.000348581270713635\n",
      "1924 0.00034852647823492545\n",
      "1925 0.0003484718399888838\n",
      "1926 0.000348417355515962\n",
      "1927 0.00034836302460475863\n",
      "1928 0.00034830884731197864\n",
      "1929 0.0003482548239363629\n",
      "1930 0.0003482009549514944\n",
      "1931 0.0003481472409097107\n",
      "1932 0.0003480936823339951\n",
      "1933 0.00034804027961617053\n",
      "1934 0.0003479870329379028\n",
      "1935 0.00034793394222680876\n",
      "1936 0.00034788100715431205\n",
      "1937 0.0003478282271756585\n",
      "1938 0.0003477756016061093\n",
      "1939 0.00034772312972157813\n",
      "1940 0.0003476708108674194\n",
      "1941 0.0003476186445567978\n",
      "1942 0.0003475666305414738\n",
      "1943 0.0003475147688417191\n",
      "1944 0.0003474630597300145\n",
      "1945 0.0003474115036714489\n",
      "1946 0.0003473601012315675\n",
      "1947 0.0003473088529682422\n",
      "1948 0.0003472577593261643\n",
      "1949 0.0003472068205513689\n",
      "1950 0.0003471560366393633\n",
      "1951 0.0003471054073250368\n",
      "1952 0.0003470549321159051\n",
      "1953 0.0003470046103636549\n",
      "1954 0.0003469544413630006\n",
      "1955 0.00034690442446157557\n",
      "1956 0.00034685455916230696\n",
      "1957 0.0003468048452000988\n",
      "1958 0.0003467552825787473\n",
      "1959 0.0003467058715611742\n",
      "1960 0.00034665661261477627\n",
      "1961 0.0003466075063217712\n",
      "1962 0.0003465585532707854\n",
      "1963 0.0003465097539485074\n",
      "1964 0.0003464611086496773\n",
      "1965 0.00034641261741995716\n",
      "1966 0.0003463642800408368\n",
      "1967 0.00034631609605885553\n",
      "1968 0.0003462680648549902\n",
      "1969 0.00034622018574302405\n",
      "1970 0.0003461724580808519\n",
      "1971 0.00034612488137582303\n",
      "1972 0.00034607745536501173\n",
      "1973 0.0003460301800562129\n",
      "1974 0.00034598305572130405\n",
      "1975 0.00034593608284363845\n",
      "1976 0.00034588926202879395\n",
      "1977 0.0003458425938950047\n",
      "1978 0.0003457960789624886\n",
      "1979 0.000345749717560459\n",
      "1980 0.0003457035097673395\n",
      "1981 0.00034565745539356154\n",
      "1982 0.0003456115540100831\n",
      "1983 0.0003455658050180515\n",
      "1984 0.0003455202077486633\n",
      "1985 0.0003454747615764398\n",
      "1986 0.00034542946602669414\n",
      "1987 0.0003453843208575735\n",
      "1988 0.0003453393261017595\n",
      "1989 0.0003452944820597752\n",
      "1990 0.00034524978924612413\n",
      "1991 0.00034520524829805845\n",
      "1992 0.0003451608598636603\n",
      "1993 0.00034511662448904844\n",
      "1994 0.0003450725425240678\n",
      "1995 0.00034502861406227037\n",
      "1996 0.00034498483892495316\n",
      "1997 0.00034494121669215893\n",
      "1998 0.0003448977467756099\n",
      "1999 0.0003448544285219517\n"
     ]
    }
   ],
   "source": [
    "spam_model = SPAM(d=d,\n",
    "#                  use_corr_mat=True,\n",
    "                  optimizer = tf.optimizers.Adam(learning_rate=0.01))\n",
    "\n",
    "spam_model.pretrain(targets = [init_ideal(d), povm_ideal(d)],\n",
    "                    num_iter = 300,\n",
    "                    )\n",
    "\n",
    "spam_model.train(inputs = inputs_spam,\n",
    "                 targets = targets_spam,\n",
    "                 num_iter = 2000,\n",
    "                )"
   ]
  },
  {
   "cell_type": "code",
   "execution_count": 8,
   "metadata": {},
   "outputs": [],
   "source": [
    "kraus_model = KrausMap(d=d, \n",
    "                       rank=d,\n",
    "                       spam = spam_model,\n",
    "                       )\n",
    "\n",
    "model = ModelQuantumMap(\n",
    "                        q_map = kraus_model,\n",
    "                        loss = probs_loss,\n",
    "                        optimizer = tf.optimizers.Adam(learning_rate=0.01),\n",
    "                        )"
   ]
  },
  {
   "cell_type": "code",
   "execution_count": 9,
   "metadata": {
    "scrolled": true
   },
   "outputs": [
    {
     "data": {
      "application/vnd.jupyter.widget-view+json": {
       "model_id": "a7a903e59bd54d228a4df716a20602b7",
       "version_major": 2,
       "version_minor": 0
      },
      "text/plain": [
       "  0%|          | 0/1000 [00:00<?, ?it/s]"
      ]
     },
     "metadata": {},
     "output_type": "display_data"
    },
    {
     "name": "stdout",
     "output_type": "stream",
     "text": [
      "Step:0, train: 0.21315, val: 0.00000\n",
      "Step:1, train: 0.21022, val: 0.00000\n",
      "Step:2, train: 0.20732, val: 0.00000\n",
      "Step:3, train: 0.20448, val: 0.00000\n",
      "Step:4, train: 0.20167, val: 0.00000\n",
      "Step:5, train: 0.19892, val: 0.00000\n",
      "Step:6, train: 0.19621, val: 0.00000\n",
      "Step:7, train: 0.19355, val: 0.00000\n",
      "Step:8, train: 0.19093, val: 0.00000\n",
      "Step:9, train: 0.18836, val: 0.00000\n",
      "Step:10, train: 0.18584, val: 0.00000\n",
      "Step:11, train: 0.18336, val: 0.00000\n",
      "Step:12, train: 0.18092, val: 0.00000\n",
      "Step:13, train: 0.17852, val: 0.00000\n",
      "Step:14, train: 0.17615, val: 0.00000\n",
      "Step:15, train: 0.17380, val: 0.00000\n",
      "Step:16, train: 0.17148, val: 0.00000\n",
      "Step:17, train: 0.16920, val: 0.00000\n",
      "Step:18, train: 0.16695, val: 0.00000\n",
      "Step:19, train: 0.16472, val: 0.00000\n",
      "Step:20, train: 0.16252, val: 0.00000\n",
      "Step:21, train: 0.16034, val: 0.00000\n",
      "Step:22, train: 0.15819, val: 0.00000\n",
      "Step:23, train: 0.15606, val: 0.00000\n",
      "Step:24, train: 0.15394, val: 0.00000\n",
      "Step:25, train: 0.15185, val: 0.00000\n",
      "Step:26, train: 0.14978, val: 0.00000\n",
      "Step:27, train: 0.14772, val: 0.00000\n",
      "Step:28, train: 0.14569, val: 0.00000\n",
      "Step:29, train: 0.14368, val: 0.00000\n",
      "Step:30, train: 0.14168, val: 0.00000\n",
      "Step:31, train: 0.13970, val: 0.00000\n",
      "Step:32, train: 0.13773, val: 0.00000\n",
      "Step:33, train: 0.13578, val: 0.00000\n",
      "Step:34, train: 0.13384, val: 0.00000\n",
      "Step:35, train: 0.13191, val: 0.00000\n",
      "Step:36, train: 0.13000, val: 0.00000\n",
      "Step:37, train: 0.12810, val: 0.00000\n",
      "Step:38, train: 0.12621, val: 0.00000\n",
      "Step:39, train: 0.12433, val: 0.00000\n",
      "Step:40, train: 0.12248, val: 0.00000\n",
      "Step:41, train: 0.12063, val: 0.00000\n",
      "Step:42, train: 0.11879, val: 0.00000\n",
      "Step:43, train: 0.11697, val: 0.00000\n",
      "Step:44, train: 0.11516, val: 0.00000\n",
      "Step:45, train: 0.11336, val: 0.00000\n",
      "Step:46, train: 0.11156, val: 0.00000\n",
      "Step:47, train: 0.10977, val: 0.00000\n",
      "Step:48, train: 0.10799, val: 0.00000\n",
      "Step:49, train: 0.10622, val: 0.00000\n",
      "Step:50, train: 0.10446, val: 0.00000\n",
      "Step:51, train: 0.10272, val: 0.00000\n",
      "Step:52, train: 0.10099, val: 0.00000\n",
      "Step:53, train: 0.09927, val: 0.00000\n",
      "Step:54, train: 0.09756, val: 0.00000\n",
      "Step:55, train: 0.09587, val: 0.00000\n",
      "Step:56, train: 0.09419, val: 0.00000\n",
      "Step:57, train: 0.09252, val: 0.00000\n",
      "Step:58, train: 0.09087, val: 0.00000\n",
      "Step:59, train: 0.08924, val: 0.00000\n",
      "Step:60, train: 0.08762, val: 0.00000\n",
      "Step:61, train: 0.08601, val: 0.00000\n",
      "Step:62, train: 0.08442, val: 0.00000\n",
      "Step:63, train: 0.08285, val: 0.00000\n",
      "Step:64, train: 0.08130, val: 0.00000\n",
      "Step:65, train: 0.07976, val: 0.00000\n",
      "Step:66, train: 0.07824, val: 0.00000\n",
      "Step:67, train: 0.07674, val: 0.00000\n",
      "Step:68, train: 0.07526, val: 0.00000\n",
      "Step:69, train: 0.07379, val: 0.00000\n",
      "Step:70, train: 0.07235, val: 0.00000\n",
      "Step:71, train: 0.07092, val: 0.00000\n",
      "Step:72, train: 0.06951, val: 0.00000\n",
      "Step:73, train: 0.06812, val: 0.00000\n",
      "Step:74, train: 0.06677, val: 0.00000\n",
      "Step:75, train: 0.06543, val: 0.00000\n",
      "Step:76, train: 0.06412, val: 0.00000\n",
      "Step:77, train: 0.06283, val: 0.00000\n",
      "Step:78, train: 0.06157, val: 0.00000\n",
      "Step:79, train: 0.06033, val: 0.00000\n",
      "Step:80, train: 0.05912, val: 0.00000\n",
      "Step:81, train: 0.05793, val: 0.00000\n",
      "Step:82, train: 0.05677, val: 0.00000\n",
      "Step:83, train: 0.05563, val: 0.00000\n",
      "Step:84, train: 0.05452, val: 0.00000\n",
      "Step:85, train: 0.05344, val: 0.00000\n",
      "Step:86, train: 0.05238, val: 0.00000\n",
      "Step:87, train: 0.05134, val: 0.00000\n",
      "Step:88, train: 0.05032, val: 0.00000\n",
      "Step:89, train: 0.04934, val: 0.00000\n",
      "Step:90, train: 0.04837, val: 0.00000\n",
      "Step:91, train: 0.04742, val: 0.00000\n",
      "Step:92, train: 0.04649, val: 0.00000\n",
      "Step:93, train: 0.04558, val: 0.00000\n",
      "Step:94, train: 0.04470, val: 0.00000\n",
      "Step:95, train: 0.04384, val: 0.00000\n",
      "Step:96, train: 0.04300, val: 0.00000\n",
      "Step:97, train: 0.04219, val: 0.00000\n",
      "Step:98, train: 0.04139, val: 0.00000\n",
      "Step:99, train: 0.04061, val: 0.00000\n",
      "Step:100, train: 0.03986, val: 0.00000\n",
      "Step:101, train: 0.03912, val: 0.00000\n",
      "Step:102, train: 0.03841, val: 0.00000\n",
      "Step:103, train: 0.03771, val: 0.00000\n",
      "Step:104, train: 0.03704, val: 0.00000\n",
      "Step:105, train: 0.03638, val: 0.00000\n",
      "Step:106, train: 0.03574, val: 0.00000\n",
      "Step:107, train: 0.03512, val: 0.00000\n",
      "Step:108, train: 0.03452, val: 0.00000\n",
      "Step:109, train: 0.03393, val: 0.00000\n",
      "Step:110, train: 0.03336, val: 0.00000\n",
      "Step:111, train: 0.03281, val: 0.00000\n",
      "Step:112, train: 0.03227, val: 0.00000\n",
      "Step:113, train: 0.03175, val: 0.00000\n",
      "Step:114, train: 0.03125, val: 0.00000\n",
      "Step:115, train: 0.03075, val: 0.00000\n",
      "Step:116, train: 0.03028, val: 0.00000\n",
      "Step:117, train: 0.02981, val: 0.00000\n",
      "Step:118, train: 0.02936, val: 0.00000\n",
      "Step:119, train: 0.02892, val: 0.00000\n",
      "Step:120, train: 0.02849, val: 0.00000\n",
      "Step:121, train: 0.02808, val: 0.00000\n",
      "Step:122, train: 0.02768, val: 0.00000\n",
      "Step:123, train: 0.02729, val: 0.00000\n",
      "Step:124, train: 0.02691, val: 0.00000\n",
      "Step:125, train: 0.02655, val: 0.00000\n",
      "Step:126, train: 0.02619, val: 0.00000\n",
      "Step:127, train: 0.02584, val: 0.00000\n",
      "Step:128, train: 0.02550, val: 0.00000\n",
      "Step:129, train: 0.02518, val: 0.00000\n",
      "Step:130, train: 0.02486, val: 0.00000\n",
      "Step:131, train: 0.02455, val: 0.00000\n",
      "Step:132, train: 0.02424, val: 0.00000\n",
      "Step:133, train: 0.02395, val: 0.00000\n",
      "Step:134, train: 0.02366, val: 0.00000\n",
      "Step:135, train: 0.02339, val: 0.00000\n",
      "Step:136, train: 0.02311, val: 0.00000\n",
      "Step:137, train: 0.02285, val: 0.00000\n",
      "Step:138, train: 0.02259, val: 0.00000\n",
      "Step:139, train: 0.02234, val: 0.00000\n",
      "Step:140, train: 0.02210, val: 0.00000\n",
      "Step:141, train: 0.02186, val: 0.00000\n",
      "Step:142, train: 0.02163, val: 0.00000\n",
      "Step:143, train: 0.02140, val: 0.00000\n",
      "Step:144, train: 0.02118, val: 0.00000\n",
      "Step:145, train: 0.02097, val: 0.00000\n",
      "Step:146, train: 0.02076, val: 0.00000\n",
      "Step:147, train: 0.02055, val: 0.00000\n",
      "Step:148, train: 0.02035, val: 0.00000\n",
      "Step:149, train: 0.02015, val: 0.00000\n",
      "Step:150, train: 0.01996, val: 0.00000\n",
      "Step:151, train: 0.01977, val: 0.00000\n",
      "Step:152, train: 0.01959, val: 0.00000\n",
      "Step:153, train: 0.01941, val: 0.00000\n",
      "Step:154, train: 0.01923, val: 0.00000\n",
      "Step:155, train: 0.01905, val: 0.00000\n",
      "Step:156, train: 0.01888, val: 0.00000\n",
      "Step:157, train: 0.01872, val: 0.00000\n",
      "Step:158, train: 0.01855, val: 0.00000\n",
      "Step:159, train: 0.01839, val: 0.00000\n",
      "Step:160, train: 0.01823, val: 0.00000\n",
      "Step:161, train: 0.01808, val: 0.00000\n",
      "Step:162, train: 0.01793, val: 0.00000\n",
      "Step:163, train: 0.01778, val: 0.00000\n",
      "Step:164, train: 0.01763, val: 0.00000\n",
      "Step:165, train: 0.01748, val: 0.00000\n",
      "Step:166, train: 0.01734, val: 0.00000\n",
      "Step:167, train: 0.01720, val: 0.00000\n",
      "Step:168, train: 0.01706, val: 0.00000\n",
      "Step:169, train: 0.01693, val: 0.00000\n",
      "Step:170, train: 0.01679, val: 0.00000\n",
      "Step:171, train: 0.01666, val: 0.00000\n",
      "Step:172, train: 0.01653, val: 0.00000\n",
      "Step:173, train: 0.01640, val: 0.00000\n",
      "Step:174, train: 0.01628, val: 0.00000\n",
      "Step:175, train: 0.01616, val: 0.00000\n",
      "Step:176, train: 0.01603, val: 0.00000\n",
      "Step:177, train: 0.01591, val: 0.00000\n",
      "Step:178, train: 0.01580, val: 0.00000\n",
      "Step:179, train: 0.01568, val: 0.00000\n",
      "Step:180, train: 0.01556, val: 0.00000\n",
      "Step:181, train: 0.01545, val: 0.00000\n",
      "Step:182, train: 0.01534, val: 0.00000\n",
      "Step:183, train: 0.01523, val: 0.00000\n",
      "Step:184, train: 0.01512, val: 0.00000\n",
      "Step:185, train: 0.01501, val: 0.00000\n",
      "Step:186, train: 0.01491, val: 0.00000\n",
      "Step:187, train: 0.01480, val: 0.00000\n",
      "Step:188, train: 0.01470, val: 0.00000\n",
      "Step:189, train: 0.01460, val: 0.00000\n",
      "Step:190, train: 0.01450, val: 0.00000\n",
      "Step:191, train: 0.01440, val: 0.00000\n",
      "Step:192, train: 0.01430, val: 0.00000\n",
      "Step:193, train: 0.01420, val: 0.00000\n",
      "Step:194, train: 0.01411, val: 0.00000\n",
      "Step:195, train: 0.01401, val: 0.00000\n",
      "Step:196, train: 0.01392, val: 0.00000\n",
      "Step:197, train: 0.01383, val: 0.00000\n",
      "Step:198, train: 0.01374, val: 0.00000\n",
      "Step:199, train: 0.01365, val: 0.00000\n",
      "Step:200, train: 0.01356, val: 0.00000\n",
      "Step:201, train: 0.01347, val: 0.00000\n",
      "Step:202, train: 0.01339, val: 0.00000\n",
      "Step:203, train: 0.01330, val: 0.00000\n",
      "Step:204, train: 0.01322, val: 0.00000\n",
      "Step:205, train: 0.01313, val: 0.00000\n",
      "Step:206, train: 0.01305, val: 0.00000\n",
      "Step:207, train: 0.01297, val: 0.00000\n",
      "Step:208, train: 0.01289, val: 0.00000\n",
      "Step:209, train: 0.01281, val: 0.00000\n",
      "Step:210, train: 0.01273, val: 0.00000\n",
      "Step:211, train: 0.01265, val: 0.00000\n",
      "Step:212, train: 0.01257, val: 0.00000\n",
      "Step:213, train: 0.01250, val: 0.00000\n",
      "Step:214, train: 0.01242, val: 0.00000\n",
      "Step:215, train: 0.01235, val: 0.00000\n",
      "Step:216, train: 0.01227, val: 0.00000\n"
     ]
    },
    {
     "name": "stdout",
     "output_type": "stream",
     "text": [
      "Step:217, train: 0.01220, val: 0.00000\n",
      "Step:218, train: 0.01213, val: 0.00000\n",
      "Step:219, train: 0.01206, val: 0.00000\n",
      "Step:220, train: 0.01199, val: 0.00000\n",
      "Step:221, train: 0.01192, val: 0.00000\n",
      "Step:222, train: 0.01185, val: 0.00000\n",
      "Step:223, train: 0.01178, val: 0.00000\n",
      "Step:224, train: 0.01171, val: 0.00000\n",
      "Step:225, train: 0.01164, val: 0.00000\n",
      "Step:226, train: 0.01157, val: 0.00000\n",
      "Step:227, train: 0.01151, val: 0.00000\n",
      "Step:228, train: 0.01144, val: 0.00000\n",
      "Step:229, train: 0.01138, val: 0.00000\n",
      "Step:230, train: 0.01131, val: 0.00000\n",
      "Step:231, train: 0.01125, val: 0.00000\n",
      "Step:232, train: 0.01118, val: 0.00000\n",
      "Step:233, train: 0.01112, val: 0.00000\n",
      "Step:234, train: 0.01106, val: 0.00000\n",
      "Step:235, train: 0.01100, val: 0.00000\n",
      "Step:236, train: 0.01094, val: 0.00000\n",
      "Step:237, train: 0.01088, val: 0.00000\n",
      "Step:238, train: 0.01082, val: 0.00000\n",
      "Step:239, train: 0.01076, val: 0.00000\n",
      "Step:240, train: 0.01070, val: 0.00000\n",
      "Step:241, train: 0.01064, val: 0.00000\n",
      "Step:242, train: 0.01058, val: 0.00000\n",
      "Step:243, train: 0.01052, val: 0.00000\n",
      "Step:244, train: 0.01047, val: 0.00000\n",
      "Step:245, train: 0.01041, val: 0.00000\n",
      "Step:246, train: 0.01035, val: 0.00000\n",
      "Step:247, train: 0.01030, val: 0.00000\n",
      "Step:248, train: 0.01024, val: 0.00000\n",
      "Step:249, train: 0.01019, val: 0.00000\n",
      "Step:250, train: 0.01013, val: 0.00000\n",
      "Step:251, train: 0.01008, val: 0.00000\n",
      "Step:252, train: 0.01003, val: 0.00000\n",
      "Step:253, train: 0.00997, val: 0.00000\n",
      "Step:254, train: 0.00992, val: 0.00000\n",
      "Step:255, train: 0.00987, val: 0.00000\n",
      "Step:256, train: 0.00982, val: 0.00000\n",
      "Step:257, train: 0.00976, val: 0.00000\n",
      "Step:258, train: 0.00971, val: 0.00000\n",
      "Step:259, train: 0.00966, val: 0.00000\n",
      "Step:260, train: 0.00961, val: 0.00000\n",
      "Step:261, train: 0.00956, val: 0.00000\n",
      "Step:262, train: 0.00951, val: 0.00000\n",
      "Step:263, train: 0.00946, val: 0.00000\n",
      "Step:264, train: 0.00941, val: 0.00000\n",
      "Step:265, train: 0.00937, val: 0.00000\n",
      "Step:266, train: 0.00932, val: 0.00000\n",
      "Step:267, train: 0.00927, val: 0.00000\n",
      "Step:268, train: 0.00922, val: 0.00000\n",
      "Step:269, train: 0.00917, val: 0.00000\n",
      "Step:270, train: 0.00913, val: 0.00000\n",
      "Step:271, train: 0.00908, val: 0.00000\n",
      "Step:272, train: 0.00904, val: 0.00000\n",
      "Step:273, train: 0.00899, val: 0.00000\n",
      "Step:274, train: 0.00894, val: 0.00000\n",
      "Step:275, train: 0.00890, val: 0.00000\n",
      "Step:276, train: 0.00885, val: 0.00000\n",
      "Step:277, train: 0.00881, val: 0.00000\n",
      "Step:278, train: 0.00876, val: 0.00000\n",
      "Step:279, train: 0.00872, val: 0.00000\n",
      "Step:280, train: 0.00868, val: 0.00000\n",
      "Step:281, train: 0.00863, val: 0.00000\n",
      "Step:282, train: 0.00859, val: 0.00000\n",
      "Step:283, train: 0.00855, val: 0.00000\n",
      "Step:284, train: 0.00851, val: 0.00000\n",
      "Step:285, train: 0.00846, val: 0.00000\n",
      "Step:286, train: 0.00842, val: 0.00000\n",
      "Step:287, train: 0.00838, val: 0.00000\n",
      "Step:288, train: 0.00834, val: 0.00000\n",
      "Step:289, train: 0.00830, val: 0.00000\n",
      "Step:290, train: 0.00826, val: 0.00000\n",
      "Step:291, train: 0.00821, val: 0.00000\n",
      "Step:292, train: 0.00817, val: 0.00000\n",
      "Step:293, train: 0.00813, val: 0.00000\n",
      "Step:294, train: 0.00809, val: 0.00000\n",
      "Step:295, train: 0.00805, val: 0.00000\n",
      "Step:296, train: 0.00802, val: 0.00000\n",
      "Step:297, train: 0.00798, val: 0.00000\n",
      "Step:298, train: 0.00794, val: 0.00000\n",
      "Step:299, train: 0.00790, val: 0.00000\n",
      "Step:300, train: 0.00786, val: 0.00000\n",
      "Step:301, train: 0.00782, val: 0.00000\n",
      "Step:302, train: 0.00778, val: 0.00000\n",
      "Step:303, train: 0.00775, val: 0.00000\n",
      "Step:304, train: 0.00771, val: 0.00000\n",
      "Step:305, train: 0.00767, val: 0.00000\n",
      "Step:306, train: 0.00764, val: 0.00000\n",
      "Step:307, train: 0.00760, val: 0.00000\n",
      "Step:308, train: 0.00756, val: 0.00000\n",
      "Step:309, train: 0.00753, val: 0.00000\n",
      "Step:310, train: 0.00749, val: 0.00000\n",
      "Step:311, train: 0.00745, val: 0.00000\n",
      "Step:312, train: 0.00742, val: 0.00000\n",
      "Step:313, train: 0.00738, val: 0.00000\n",
      "Step:314, train: 0.00735, val: 0.00000\n",
      "Step:315, train: 0.00731, val: 0.00000\n",
      "Step:316, train: 0.00728, val: 0.00000\n",
      "Step:317, train: 0.00724, val: 0.00000\n",
      "Step:318, train: 0.00721, val: 0.00000\n",
      "Step:319, train: 0.00718, val: 0.00000\n",
      "Step:320, train: 0.00714, val: 0.00000\n",
      "Step:321, train: 0.00711, val: 0.00000\n",
      "Step:322, train: 0.00707, val: 0.00000\n",
      "Step:323, train: 0.00704, val: 0.00000\n",
      "Step:324, train: 0.00701, val: 0.00000\n",
      "Step:325, train: 0.00698, val: 0.00000\n",
      "Step:326, train: 0.00694, val: 0.00000\n",
      "Step:327, train: 0.00691, val: 0.00000\n",
      "Step:328, train: 0.00688, val: 0.00000\n",
      "Step:329, train: 0.00685, val: 0.00000\n",
      "Step:330, train: 0.00681, val: 0.00000\n",
      "Step:331, train: 0.00678, val: 0.00000\n",
      "Step:332, train: 0.00675, val: 0.00000\n",
      "Step:333, train: 0.00672, val: 0.00000\n",
      "Step:334, train: 0.00669, val: 0.00000\n",
      "Step:335, train: 0.00666, val: 0.00000\n",
      "Step:336, train: 0.00663, val: 0.00000\n",
      "Step:337, train: 0.00660, val: 0.00000\n",
      "Step:338, train: 0.00657, val: 0.00000\n",
      "Step:339, train: 0.00654, val: 0.00000\n",
      "Step:340, train: 0.00651, val: 0.00000\n",
      "Step:341, train: 0.00648, val: 0.00000\n",
      "Step:342, train: 0.00645, val: 0.00000\n",
      "Step:343, train: 0.00642, val: 0.00000\n",
      "Step:344, train: 0.00639, val: 0.00000\n",
      "Step:345, train: 0.00636, val: 0.00000\n",
      "Step:346, train: 0.00633, val: 0.00000\n",
      "Step:347, train: 0.00630, val: 0.00000\n",
      "Step:348, train: 0.00627, val: 0.00000\n",
      "Step:349, train: 0.00624, val: 0.00000\n",
      "Step:350, train: 0.00622, val: 0.00000\n",
      "Step:351, train: 0.00619, val: 0.00000\n",
      "Step:352, train: 0.00616, val: 0.00000\n",
      "Step:353, train: 0.00613, val: 0.00000\n",
      "Step:354, train: 0.00610, val: 0.00000\n",
      "Step:355, train: 0.00608, val: 0.00000\n",
      "Step:356, train: 0.00605, val: 0.00000\n",
      "Step:357, train: 0.00602, val: 0.00000\n",
      "Step:358, train: 0.00600, val: 0.00000\n",
      "Step:359, train: 0.00597, val: 0.00000\n",
      "Step:360, train: 0.00594, val: 0.00000\n",
      "Step:361, train: 0.00592, val: 0.00000\n",
      "Step:362, train: 0.00589, val: 0.00000\n",
      "Step:363, train: 0.00586, val: 0.00000\n",
      "Step:364, train: 0.00584, val: 0.00000\n",
      "Step:365, train: 0.00581, val: 0.00000\n",
      "Step:366, train: 0.00579, val: 0.00000\n",
      "Step:367, train: 0.00576, val: 0.00000\n",
      "Step:368, train: 0.00574, val: 0.00000\n",
      "Step:369, train: 0.00571, val: 0.00000\n",
      "Step:370, train: 0.00569, val: 0.00000\n",
      "Step:371, train: 0.00566, val: 0.00000\n",
      "Step:372, train: 0.00564, val: 0.00000\n",
      "Step:373, train: 0.00561, val: 0.00000\n",
      "Step:374, train: 0.00559, val: 0.00000\n",
      "Step:375, train: 0.00557, val: 0.00000\n",
      "Step:376, train: 0.00554, val: 0.00000\n",
      "Step:377, train: 0.00552, val: 0.00000\n",
      "Step:378, train: 0.00549, val: 0.00000\n",
      "Step:379, train: 0.00547, val: 0.00000\n",
      "Step:380, train: 0.00545, val: 0.00000\n",
      "Step:381, train: 0.00542, val: 0.00000\n",
      "Step:382, train: 0.00540, val: 0.00000\n",
      "Step:383, train: 0.00538, val: 0.00000\n",
      "Step:384, train: 0.00536, val: 0.00000\n",
      "Step:385, train: 0.00533, val: 0.00000\n",
      "Step:386, train: 0.00531, val: 0.00000\n",
      "Step:387, train: 0.00529, val: 0.00000\n",
      "Step:388, train: 0.00527, val: 0.00000\n",
      "Step:389, train: 0.00524, val: 0.00000\n",
      "Step:390, train: 0.00522, val: 0.00000\n",
      "Step:391, train: 0.00520, val: 0.00000\n",
      "Step:392, train: 0.00518, val: 0.00000\n",
      "Step:393, train: 0.00516, val: 0.00000\n",
      "Step:394, train: 0.00514, val: 0.00000\n",
      "Step:395, train: 0.00511, val: 0.00000\n",
      "Step:396, train: 0.00509, val: 0.00000\n",
      "Step:397, train: 0.00507, val: 0.00000\n",
      "Step:398, train: 0.00505, val: 0.00000\n",
      "Step:399, train: 0.00503, val: 0.00000\n",
      "Step:400, train: 0.00501, val: 0.00000\n",
      "Step:401, train: 0.00499, val: 0.00000\n",
      "Step:402, train: 0.00497, val: 0.00000\n",
      "Step:403, train: 0.00495, val: 0.00000\n",
      "Step:404, train: 0.00493, val: 0.00000\n",
      "Step:405, train: 0.00491, val: 0.00000\n",
      "Step:406, train: 0.00489, val: 0.00000\n",
      "Step:407, train: 0.00487, val: 0.00000\n",
      "Step:408, train: 0.00485, val: 0.00000\n",
      "Step:409, train: 0.00483, val: 0.00000\n",
      "Step:410, train: 0.00481, val: 0.00000\n",
      "Step:411, train: 0.00479, val: 0.00000\n",
      "Step:412, train: 0.00477, val: 0.00000\n",
      "Step:413, train: 0.00476, val: 0.00000\n",
      "Step:414, train: 0.00474, val: 0.00000\n",
      "Step:415, train: 0.00472, val: 0.00000\n",
      "Step:416, train: 0.00470, val: 0.00000\n",
      "Step:417, train: 0.00468, val: 0.00000\n",
      "Step:418, train: 0.00466, val: 0.00000\n",
      "Step:419, train: 0.00464, val: 0.00000\n",
      "Step:420, train: 0.00463, val: 0.00000\n",
      "Step:421, train: 0.00461, val: 0.00000\n",
      "Step:422, train: 0.00459, val: 0.00000\n",
      "Step:423, train: 0.00457, val: 0.00000\n",
      "Step:424, train: 0.00455, val: 0.00000\n",
      "Step:425, train: 0.00454, val: 0.00000\n",
      "Step:426, train: 0.00452, val: 0.00000\n",
      "Step:427, train: 0.00450, val: 0.00000\n"
     ]
    },
    {
     "name": "stdout",
     "output_type": "stream",
     "text": [
      "Step:428, train: 0.00449, val: 0.00000\n",
      "Step:429, train: 0.00447, val: 0.00000\n",
      "Step:430, train: 0.00445, val: 0.00000\n",
      "Step:431, train: 0.00443, val: 0.00000\n",
      "Step:432, train: 0.00442, val: 0.00000\n",
      "Step:433, train: 0.00440, val: 0.00000\n",
      "Step:434, train: 0.00438, val: 0.00000\n",
      "Step:435, train: 0.00437, val: 0.00000\n",
      "Step:436, train: 0.00435, val: 0.00000\n",
      "Step:437, train: 0.00433, val: 0.00000\n",
      "Step:438, train: 0.00432, val: 0.00000\n",
      "Step:439, train: 0.00430, val: 0.00000\n",
      "Step:440, train: 0.00429, val: 0.00000\n",
      "Step:441, train: 0.00427, val: 0.00000\n",
      "Step:442, train: 0.00425, val: 0.00000\n",
      "Step:443, train: 0.00424, val: 0.00000\n",
      "Step:444, train: 0.00422, val: 0.00000\n",
      "Step:445, train: 0.00421, val: 0.00000\n",
      "Step:446, train: 0.00419, val: 0.00000\n",
      "Step:447, train: 0.00418, val: 0.00000\n",
      "Step:448, train: 0.00416, val: 0.00000\n",
      "Step:449, train: 0.00415, val: 0.00000\n",
      "Step:450, train: 0.00413, val: 0.00000\n",
      "Step:451, train: 0.00412, val: 0.00000\n",
      "Step:452, train: 0.00410, val: 0.00000\n",
      "Step:453, train: 0.00409, val: 0.00000\n",
      "Step:454, train: 0.00407, val: 0.00000\n",
      "Step:455, train: 0.00406, val: 0.00000\n",
      "Step:456, train: 0.00404, val: 0.00000\n",
      "Step:457, train: 0.00403, val: 0.00000\n",
      "Step:458, train: 0.00401, val: 0.00000\n",
      "Step:459, train: 0.00400, val: 0.00000\n",
      "Step:460, train: 0.00398, val: 0.00000\n",
      "Step:461, train: 0.00397, val: 0.00000\n",
      "Step:462, train: 0.00396, val: 0.00000\n",
      "Step:463, train: 0.00394, val: 0.00000\n",
      "Step:464, train: 0.00393, val: 0.00000\n",
      "Step:465, train: 0.00391, val: 0.00000\n",
      "Step:466, train: 0.00390, val: 0.00000\n",
      "Step:467, train: 0.00389, val: 0.00000\n",
      "Step:468, train: 0.00387, val: 0.00000\n",
      "Step:469, train: 0.00386, val: 0.00000\n",
      "Step:470, train: 0.00385, val: 0.00000\n",
      "Step:471, train: 0.00383, val: 0.00000\n",
      "Step:472, train: 0.00382, val: 0.00000\n",
      "Step:473, train: 0.00381, val: 0.00000\n",
      "Step:474, train: 0.00379, val: 0.00000\n",
      "Step:475, train: 0.00378, val: 0.00000\n",
      "Step:476, train: 0.00377, val: 0.00000\n",
      "Step:477, train: 0.00375, val: 0.00000\n",
      "Step:478, train: 0.00374, val: 0.00000\n",
      "Step:479, train: 0.00373, val: 0.00000\n",
      "Step:480, train: 0.00371, val: 0.00000\n",
      "Step:481, train: 0.00370, val: 0.00000\n",
      "Step:482, train: 0.00369, val: 0.00000\n",
      "Step:483, train: 0.00368, val: 0.00000\n",
      "Step:484, train: 0.00366, val: 0.00000\n",
      "Step:485, train: 0.00365, val: 0.00000\n",
      "Step:486, train: 0.00364, val: 0.00000\n",
      "Step:487, train: 0.00363, val: 0.00000\n",
      "Step:488, train: 0.00361, val: 0.00000\n",
      "Step:489, train: 0.00360, val: 0.00000\n",
      "Step:490, train: 0.00359, val: 0.00000\n",
      "Step:491, train: 0.00358, val: 0.00000\n",
      "Step:492, train: 0.00356, val: 0.00000\n",
      "Step:493, train: 0.00355, val: 0.00000\n",
      "Step:494, train: 0.00354, val: 0.00000\n",
      "Step:495, train: 0.00353, val: 0.00000\n",
      "Step:496, train: 0.00352, val: 0.00000\n",
      "Step:497, train: 0.00350, val: 0.00000\n",
      "Step:498, train: 0.00349, val: 0.00000\n",
      "Step:499, train: 0.00348, val: 0.00000\n",
      "Step:500, train: 0.00347, val: 0.00000\n",
      "Step:501, train: 0.00346, val: 0.00000\n",
      "Step:502, train: 0.00345, val: 0.00000\n",
      "Step:503, train: 0.00343, val: 0.00000\n",
      "Step:504, train: 0.00342, val: 0.00000\n",
      "Step:505, train: 0.00341, val: 0.00000\n",
      "Step:506, train: 0.00340, val: 0.00000\n",
      "Step:507, train: 0.00339, val: 0.00000\n",
      "Step:508, train: 0.00338, val: 0.00000\n",
      "Step:509, train: 0.00337, val: 0.00000\n",
      "Step:510, train: 0.00335, val: 0.00000\n",
      "Step:511, train: 0.00334, val: 0.00000\n",
      "Step:512, train: 0.00333, val: 0.00000\n",
      "Step:513, train: 0.00332, val: 0.00000\n",
      "Step:514, train: 0.00331, val: 0.00000\n",
      "Step:515, train: 0.00330, val: 0.00000\n",
      "Step:516, train: 0.00329, val: 0.00000\n",
      "Step:517, train: 0.00328, val: 0.00000\n",
      "Step:518, train: 0.00327, val: 0.00000\n",
      "Step:519, train: 0.00326, val: 0.00000\n",
      "Step:520, train: 0.00325, val: 0.00000\n",
      "Step:521, train: 0.00323, val: 0.00000\n",
      "Step:522, train: 0.00322, val: 0.00000\n",
      "Step:523, train: 0.00321, val: 0.00000\n",
      "Step:524, train: 0.00320, val: 0.00000\n",
      "Step:525, train: 0.00319, val: 0.00000\n",
      "Step:526, train: 0.00318, val: 0.00000\n",
      "Step:527, train: 0.00317, val: 0.00000\n",
      "Step:528, train: 0.00316, val: 0.00000\n",
      "Step:529, train: 0.00315, val: 0.00000\n",
      "Step:530, train: 0.00314, val: 0.00000\n",
      "Step:531, train: 0.00313, val: 0.00000\n",
      "Step:532, train: 0.00312, val: 0.00000\n",
      "Step:533, train: 0.00311, val: 0.00000\n",
      "Step:534, train: 0.00310, val: 0.00000\n",
      "Step:535, train: 0.00309, val: 0.00000\n",
      "Step:536, train: 0.00308, val: 0.00000\n",
      "Step:537, train: 0.00307, val: 0.00000\n",
      "Step:538, train: 0.00306, val: 0.00000\n",
      "Step:539, train: 0.00305, val: 0.00000\n",
      "Step:540, train: 0.00304, val: 0.00000\n",
      "Step:541, train: 0.00303, val: 0.00000\n",
      "Step:542, train: 0.00302, val: 0.00000\n",
      "Step:543, train: 0.00301, val: 0.00000\n",
      "Step:544, train: 0.00300, val: 0.00000\n",
      "Step:545, train: 0.00299, val: 0.00000\n",
      "Step:546, train: 0.00298, val: 0.00000\n",
      "Step:547, train: 0.00297, val: 0.00000\n",
      "Step:548, train: 0.00296, val: 0.00000\n",
      "Step:549, train: 0.00295, val: 0.00000\n",
      "Step:550, train: 0.00294, val: 0.00000\n",
      "Step:551, train: 0.00293, val: 0.00000\n",
      "Step:552, train: 0.00292, val: 0.00000\n",
      "Step:553, train: 0.00291, val: 0.00000\n",
      "Step:554, train: 0.00290, val: 0.00000\n",
      "Step:555, train: 0.00289, val: 0.00000\n",
      "Step:556, train: 0.00288, val: 0.00000\n",
      "Step:557, train: 0.00287, val: 0.00000\n",
      "Step:558, train: 0.00286, val: 0.00000\n",
      "Step:559, train: 0.00285, val: 0.00000\n",
      "Step:560, train: 0.00285, val: 0.00000\n",
      "Step:561, train: 0.00284, val: 0.00000\n",
      "Step:562, train: 0.00283, val: 0.00000\n",
      "Step:563, train: 0.00282, val: 0.00000\n",
      "Step:564, train: 0.00281, val: 0.00000\n",
      "Step:565, train: 0.00280, val: 0.00000\n",
      "Step:566, train: 0.00279, val: 0.00000\n",
      "Step:567, train: 0.00278, val: 0.00000\n",
      "Step:568, train: 0.00277, val: 0.00000\n",
      "Step:569, train: 0.00276, val: 0.00000\n",
      "Step:570, train: 0.00275, val: 0.00000\n",
      "Step:571, train: 0.00274, val: 0.00000\n",
      "Step:572, train: 0.00273, val: 0.00000\n",
      "Step:573, train: 0.00273, val: 0.00000\n",
      "Step:574, train: 0.00272, val: 0.00000\n",
      "Step:575, train: 0.00271, val: 0.00000\n",
      "Step:576, train: 0.00270, val: 0.00000\n",
      "Step:577, train: 0.00269, val: 0.00000\n",
      "Step:578, train: 0.00268, val: 0.00000\n",
      "Step:579, train: 0.00267, val: 0.00000\n",
      "Step:580, train: 0.00266, val: 0.00000\n",
      "Step:581, train: 0.00265, val: 0.00000\n",
      "Step:582, train: 0.00265, val: 0.00000\n",
      "Step:583, train: 0.00264, val: 0.00000\n",
      "Step:584, train: 0.00263, val: 0.00000\n",
      "Step:585, train: 0.00262, val: 0.00000\n",
      "Step:586, train: 0.00261, val: 0.00000\n",
      "Step:587, train: 0.00260, val: 0.00000\n",
      "Step:588, train: 0.00259, val: 0.00000\n",
      "Step:589, train: 0.00258, val: 0.00000\n",
      "Step:590, train: 0.00258, val: 0.00000\n",
      "Step:591, train: 0.00257, val: 0.00000\n",
      "Step:592, train: 0.00256, val: 0.00000\n",
      "Step:593, train: 0.00255, val: 0.00000\n",
      "Step:594, train: 0.00254, val: 0.00000\n",
      "Step:595, train: 0.00253, val: 0.00000\n",
      "Step:596, train: 0.00252, val: 0.00000\n",
      "Step:597, train: 0.00252, val: 0.00000\n",
      "Step:598, train: 0.00251, val: 0.00000\n",
      "Step:599, train: 0.00250, val: 0.00000\n",
      "Step:600, train: 0.00249, val: 0.00000\n",
      "Step:601, train: 0.00248, val: 0.00000\n",
      "Step:602, train: 0.00247, val: 0.00000\n",
      "Step:603, train: 0.00247, val: 0.00000\n",
      "Step:604, train: 0.00246, val: 0.00000\n",
      "Step:605, train: 0.00245, val: 0.00000\n",
      "Step:606, train: 0.00244, val: 0.00000\n",
      "Step:607, train: 0.00243, val: 0.00000\n",
      "Step:608, train: 0.00242, val: 0.00000\n",
      "Step:609, train: 0.00242, val: 0.00000\n",
      "Step:610, train: 0.00241, val: 0.00000\n",
      "Step:611, train: 0.00240, val: 0.00000\n",
      "Step:612, train: 0.00239, val: 0.00000\n",
      "Step:613, train: 0.00238, val: 0.00000\n",
      "Step:614, train: 0.00238, val: 0.00000\n",
      "Step:615, train: 0.00237, val: 0.00000\n",
      "Step:616, train: 0.00236, val: 0.00000\n",
      "Step:617, train: 0.00235, val: 0.00000\n",
      "Step:618, train: 0.00234, val: 0.00000\n",
      "Step:619, train: 0.00233, val: 0.00000\n",
      "Step:620, train: 0.00233, val: 0.00000\n",
      "Step:621, train: 0.00232, val: 0.00000\n",
      "Step:622, train: 0.00231, val: 0.00000\n",
      "Step:623, train: 0.00230, val: 0.00000\n",
      "Step:624, train: 0.00230, val: 0.00000\n",
      "Step:625, train: 0.00229, val: 0.00000\n",
      "Step:626, train: 0.00228, val: 0.00000\n",
      "Step:627, train: 0.00227, val: 0.00000\n",
      "Step:628, train: 0.00226, val: 0.00000\n",
      "Step:629, train: 0.00226, val: 0.00000\n",
      "Step:630, train: 0.00225, val: 0.00000\n",
      "Step:631, train: 0.00224, val: 0.00000\n",
      "Step:632, train: 0.00223, val: 0.00000\n",
      "Step:633, train: 0.00222, val: 0.00000\n",
      "Step:634, train: 0.00222, val: 0.00000\n",
      "Step:635, train: 0.00221, val: 0.00000\n",
      "Step:636, train: 0.00220, val: 0.00000\n",
      "Step:637, train: 0.00219, val: 0.00000\n",
      "Step:638, train: 0.00219, val: 0.00000\n"
     ]
    },
    {
     "name": "stdout",
     "output_type": "stream",
     "text": [
      "Step:639, train: 0.00218, val: 0.00000\n",
      "Step:640, train: 0.00217, val: 0.00000\n",
      "Step:641, train: 0.00216, val: 0.00000\n",
      "Step:642, train: 0.00216, val: 0.00000\n",
      "Step:643, train: 0.00215, val: 0.00000\n",
      "Step:644, train: 0.00214, val: 0.00000\n",
      "Step:645, train: 0.00213, val: 0.00000\n",
      "Step:646, train: 0.00213, val: 0.00000\n",
      "Step:647, train: 0.00212, val: 0.00000\n",
      "Step:648, train: 0.00211, val: 0.00000\n",
      "Step:649, train: 0.00210, val: 0.00000\n",
      "Step:650, train: 0.00210, val: 0.00000\n",
      "Step:651, train: 0.00209, val: 0.00000\n",
      "Step:652, train: 0.00208, val: 0.00000\n",
      "Step:653, train: 0.00207, val: 0.00000\n",
      "Step:654, train: 0.00207, val: 0.00000\n",
      "Step:655, train: 0.00206, val: 0.00000\n",
      "Step:656, train: 0.00205, val: 0.00000\n",
      "Step:657, train: 0.00204, val: 0.00000\n",
      "Step:658, train: 0.00204, val: 0.00000\n",
      "Step:659, train: 0.00203, val: 0.00000\n",
      "Step:660, train: 0.00202, val: 0.00000\n",
      "Step:661, train: 0.00201, val: 0.00000\n",
      "Step:662, train: 0.00201, val: 0.00000\n",
      "Step:663, train: 0.00200, val: 0.00000\n",
      "Step:664, train: 0.00199, val: 0.00000\n",
      "Step:665, train: 0.00199, val: 0.00000\n",
      "Step:666, train: 0.00198, val: 0.00000\n",
      "Step:667, train: 0.00197, val: 0.00000\n",
      "Step:668, train: 0.00196, val: 0.00000\n",
      "Step:669, train: 0.00196, val: 0.00000\n",
      "Step:670, train: 0.00195, val: 0.00000\n",
      "Step:671, train: 0.00194, val: 0.00000\n",
      "Step:672, train: 0.00194, val: 0.00000\n",
      "Step:673, train: 0.00193, val: 0.00000\n",
      "Step:674, train: 0.00192, val: 0.00000\n",
      "Step:675, train: 0.00192, val: 0.00000\n",
      "Step:676, train: 0.00191, val: 0.00000\n",
      "Step:677, train: 0.00190, val: 0.00000\n",
      "Step:678, train: 0.00189, val: 0.00000\n",
      "Step:679, train: 0.00189, val: 0.00000\n",
      "Step:680, train: 0.00188, val: 0.00000\n",
      "Step:681, train: 0.00187, val: 0.00000\n",
      "Step:682, train: 0.00187, val: 0.00000\n",
      "Step:683, train: 0.00186, val: 0.00000\n",
      "Step:684, train: 0.00185, val: 0.00000\n",
      "Step:685, train: 0.00185, val: 0.00000\n",
      "Step:686, train: 0.00184, val: 0.00000\n",
      "Step:687, train: 0.00183, val: 0.00000\n",
      "Step:688, train: 0.00183, val: 0.00000\n",
      "Step:689, train: 0.00182, val: 0.00000\n",
      "Step:690, train: 0.00181, val: 0.00000\n",
      "Step:691, train: 0.00181, val: 0.00000\n",
      "Step:692, train: 0.00180, val: 0.00000\n",
      "Step:693, train: 0.00179, val: 0.00000\n",
      "Step:694, train: 0.00179, val: 0.00000\n",
      "Step:695, train: 0.00178, val: 0.00000\n",
      "Step:696, train: 0.00177, val: 0.00000\n",
      "Step:697, train: 0.00177, val: 0.00000\n",
      "Step:698, train: 0.00176, val: 0.00000\n",
      "Step:699, train: 0.00175, val: 0.00000\n",
      "Step:700, train: 0.00175, val: 0.00000\n",
      "Step:701, train: 0.00174, val: 0.00000\n",
      "Step:702, train: 0.00173, val: 0.00000\n",
      "Step:703, train: 0.00173, val: 0.00000\n",
      "Step:704, train: 0.00172, val: 0.00000\n",
      "Step:705, train: 0.00171, val: 0.00000\n",
      "Step:706, train: 0.00171, val: 0.00000\n",
      "Step:707, train: 0.00170, val: 0.00000\n",
      "Step:708, train: 0.00170, val: 0.00000\n",
      "Step:709, train: 0.00169, val: 0.00000\n",
      "Step:710, train: 0.00168, val: 0.00000\n",
      "Step:711, train: 0.00168, val: 0.00000\n",
      "Step:712, train: 0.00167, val: 0.00000\n",
      "Step:713, train: 0.00166, val: 0.00000\n",
      "Step:714, train: 0.00166, val: 0.00000\n",
      "Step:715, train: 0.00165, val: 0.00000\n",
      "Step:716, train: 0.00165, val: 0.00000\n",
      "Step:717, train: 0.00164, val: 0.00000\n",
      "Step:718, train: 0.00163, val: 0.00000\n",
      "Step:719, train: 0.00163, val: 0.00000\n",
      "Step:720, train: 0.00162, val: 0.00000\n",
      "Step:721, train: 0.00162, val: 0.00000\n",
      "Step:722, train: 0.00161, val: 0.00000\n",
      "Step:723, train: 0.00160, val: 0.00000\n",
      "Step:724, train: 0.00160, val: 0.00000\n",
      "Step:725, train: 0.00159, val: 0.00000\n",
      "Step:726, train: 0.00159, val: 0.00000\n",
      "Step:727, train: 0.00158, val: 0.00000\n",
      "Step:728, train: 0.00157, val: 0.00000\n",
      "Step:729, train: 0.00157, val: 0.00000\n",
      "Step:730, train: 0.00156, val: 0.00000\n",
      "Step:731, train: 0.00156, val: 0.00000\n",
      "Step:732, train: 0.00155, val: 0.00000\n",
      "Step:733, train: 0.00154, val: 0.00000\n",
      "Step:734, train: 0.00154, val: 0.00000\n",
      "Step:735, train: 0.00153, val: 0.00000\n",
      "Step:736, train: 0.00153, val: 0.00000\n",
      "Step:737, train: 0.00152, val: 0.00000\n",
      "Step:738, train: 0.00152, val: 0.00000\n",
      "Step:739, train: 0.00151, val: 0.00000\n",
      "Step:740, train: 0.00150, val: 0.00000\n",
      "Step:741, train: 0.00150, val: 0.00000\n",
      "Step:742, train: 0.00149, val: 0.00000\n",
      "Step:743, train: 0.00149, val: 0.00000\n",
      "Step:744, train: 0.00148, val: 0.00000\n",
      "Step:745, train: 0.00148, val: 0.00000\n",
      "Step:746, train: 0.00147, val: 0.00000\n",
      "Step:747, train: 0.00147, val: 0.00000\n",
      "Step:748, train: 0.00146, val: 0.00000\n",
      "Step:749, train: 0.00146, val: 0.00000\n",
      "Step:750, train: 0.00145, val: 0.00000\n",
      "Step:751, train: 0.00144, val: 0.00000\n",
      "Step:752, train: 0.00144, val: 0.00000\n",
      "Step:753, train: 0.00143, val: 0.00000\n",
      "Step:754, train: 0.00143, val: 0.00000\n",
      "Step:755, train: 0.00142, val: 0.00000\n",
      "Step:756, train: 0.00142, val: 0.00000\n",
      "Step:757, train: 0.00141, val: 0.00000\n",
      "Step:758, train: 0.00141, val: 0.00000\n",
      "Step:759, train: 0.00140, val: 0.00000\n",
      "Step:760, train: 0.00140, val: 0.00000\n",
      "Step:761, train: 0.00139, val: 0.00000\n",
      "Step:762, train: 0.00139, val: 0.00000\n",
      "Step:763, train: 0.00138, val: 0.00000\n",
      "Step:764, train: 0.00138, val: 0.00000\n",
      "Step:765, train: 0.00137, val: 0.00000\n",
      "Step:766, train: 0.00137, val: 0.00000\n",
      "Step:767, train: 0.00136, val: 0.00000\n",
      "Step:768, train: 0.00136, val: 0.00000\n",
      "Step:769, train: 0.00135, val: 0.00000\n",
      "Step:770, train: 0.00135, val: 0.00000\n",
      "Step:771, train: 0.00134, val: 0.00000\n",
      "Step:772, train: 0.00134, val: 0.00000\n",
      "Step:773, train: 0.00133, val: 0.00000\n",
      "Step:774, train: 0.00133, val: 0.00000\n",
      "Step:775, train: 0.00132, val: 0.00000\n",
      "Step:776, train: 0.00132, val: 0.00000\n",
      "Step:777, train: 0.00131, val: 0.00000\n",
      "Step:778, train: 0.00131, val: 0.00000\n",
      "Step:779, train: 0.00130, val: 0.00000\n",
      "Step:780, train: 0.00130, val: 0.00000\n",
      "Step:781, train: 0.00129, val: 0.00000\n",
      "Step:782, train: 0.00129, val: 0.00000\n",
      "Step:783, train: 0.00128, val: 0.00000\n",
      "Step:784, train: 0.00128, val: 0.00000\n",
      "Step:785, train: 0.00127, val: 0.00000\n",
      "Step:786, train: 0.00127, val: 0.00000\n",
      "Step:787, train: 0.00126, val: 0.00000\n",
      "Step:788, train: 0.00126, val: 0.00000\n",
      "Step:789, train: 0.00126, val: 0.00000\n",
      "Step:790, train: 0.00125, val: 0.00000\n",
      "Step:791, train: 0.00125, val: 0.00000\n",
      "Step:792, train: 0.00124, val: 0.00000\n",
      "Step:793, train: 0.00124, val: 0.00000\n",
      "Step:794, train: 0.00123, val: 0.00000\n",
      "Step:795, train: 0.00123, val: 0.00000\n",
      "Step:796, train: 0.00122, val: 0.00000\n",
      "Step:797, train: 0.00122, val: 0.00000\n",
      "Step:798, train: 0.00121, val: 0.00000\n",
      "Step:799, train: 0.00121, val: 0.00000\n",
      "Step:800, train: 0.00121, val: 0.00000\n",
      "Step:801, train: 0.00120, val: 0.00000\n",
      "Step:802, train: 0.00120, val: 0.00000\n",
      "Step:803, train: 0.00119, val: 0.00000\n",
      "Step:804, train: 0.00119, val: 0.00000\n",
      "Step:805, train: 0.00118, val: 0.00000\n",
      "Step:806, train: 0.00118, val: 0.00000\n",
      "Step:807, train: 0.00118, val: 0.00000\n",
      "Step:808, train: 0.00117, val: 0.00000\n",
      "Step:809, train: 0.00117, val: 0.00000\n",
      "Step:810, train: 0.00116, val: 0.00000\n",
      "Step:811, train: 0.00116, val: 0.00000\n",
      "Step:812, train: 0.00116, val: 0.00000\n",
      "Step:813, train: 0.00115, val: 0.00000\n",
      "Step:814, train: 0.00115, val: 0.00000\n",
      "Step:815, train: 0.00114, val: 0.00000\n",
      "Step:816, train: 0.00114, val: 0.00000\n",
      "Step:817, train: 0.00114, val: 0.00000\n",
      "Step:818, train: 0.00113, val: 0.00000\n",
      "Step:819, train: 0.00113, val: 0.00000\n",
      "Step:820, train: 0.00112, val: 0.00000\n",
      "Step:821, train: 0.00112, val: 0.00000\n",
      "Step:822, train: 0.00112, val: 0.00000\n",
      "Step:823, train: 0.00111, val: 0.00000\n",
      "Step:824, train: 0.00111, val: 0.00000\n",
      "Step:825, train: 0.00110, val: 0.00000\n",
      "Step:826, train: 0.00110, val: 0.00000\n",
      "Step:827, train: 0.00110, val: 0.00000\n",
      "Step:828, train: 0.00109, val: 0.00000\n",
      "Step:829, train: 0.00109, val: 0.00000\n",
      "Step:830, train: 0.00108, val: 0.00000\n",
      "Step:831, train: 0.00108, val: 0.00000\n",
      "Step:832, train: 0.00108, val: 0.00000\n",
      "Step:833, train: 0.00107, val: 0.00000\n",
      "Step:834, train: 0.00107, val: 0.00000\n",
      "Step:835, train: 0.00107, val: 0.00000\n",
      "Step:836, train: 0.00106, val: 0.00000\n",
      "Step:837, train: 0.00106, val: 0.00000\n",
      "Step:838, train: 0.00106, val: 0.00000\n",
      "Step:839, train: 0.00105, val: 0.00000\n",
      "Step:840, train: 0.00105, val: 0.00000\n",
      "Step:841, train: 0.00104, val: 0.00000\n",
      "Step:842, train: 0.00104, val: 0.00000\n",
      "Step:843, train: 0.00104, val: 0.00000\n",
      "Step:844, train: 0.00103, val: 0.00000\n",
      "Step:845, train: 0.00103, val: 0.00000\n",
      "Step:846, train: 0.00103, val: 0.00000\n",
      "Step:847, train: 0.00102, val: 0.00000\n",
      "Step:848, train: 0.00102, val: 0.00000\n",
      "Step:849, train: 0.00102, val: 0.00000\n"
     ]
    },
    {
     "name": "stdout",
     "output_type": "stream",
     "text": [
      "Step:850, train: 0.00101, val: 0.00000\n",
      "Step:851, train: 0.00101, val: 0.00000\n",
      "Step:852, train: 0.00101, val: 0.00000\n",
      "Step:853, train: 0.00100, val: 0.00000\n",
      "Step:854, train: 0.00100, val: 0.00000\n",
      "Step:855, train: 0.00100, val: 0.00000\n",
      "Step:856, train: 0.00099, val: 0.00000\n",
      "Step:857, train: 0.00099, val: 0.00000\n",
      "Step:858, train: 0.00099, val: 0.00000\n",
      "Step:859, train: 0.00098, val: 0.00000\n",
      "Step:860, train: 0.00098, val: 0.00000\n",
      "Step:861, train: 0.00098, val: 0.00000\n",
      "Step:862, train: 0.00097, val: 0.00000\n",
      "Step:863, train: 0.00097, val: 0.00000\n",
      "Step:864, train: 0.00097, val: 0.00000\n",
      "Step:865, train: 0.00097, val: 0.00000\n",
      "Step:866, train: 0.00096, val: 0.00000\n",
      "Step:867, train: 0.00096, val: 0.00000\n",
      "Step:868, train: 0.00096, val: 0.00000\n",
      "Step:869, train: 0.00095, val: 0.00000\n",
      "Step:870, train: 0.00095, val: 0.00000\n",
      "Step:871, train: 0.00095, val: 0.00000\n",
      "Step:872, train: 0.00094, val: 0.00000\n",
      "Step:873, train: 0.00094, val: 0.00000\n",
      "Step:874, train: 0.00094, val: 0.00000\n",
      "Step:875, train: 0.00094, val: 0.00000\n",
      "Step:876, train: 0.00093, val: 0.00000\n",
      "Step:877, train: 0.00093, val: 0.00000\n",
      "Step:878, train: 0.00093, val: 0.00000\n",
      "Step:879, train: 0.00092, val: 0.00000\n",
      "Step:880, train: 0.00092, val: 0.00000\n",
      "Step:881, train: 0.00092, val: 0.00000\n",
      "Step:882, train: 0.00092, val: 0.00000\n",
      "Step:883, train: 0.00091, val: 0.00000\n",
      "Step:884, train: 0.00091, val: 0.00000\n",
      "Step:885, train: 0.00091, val: 0.00000\n",
      "Step:886, train: 0.00090, val: 0.00000\n",
      "Step:887, train: 0.00090, val: 0.00000\n",
      "Step:888, train: 0.00090, val: 0.00000\n",
      "Step:889, train: 0.00090, val: 0.00000\n",
      "Step:890, train: 0.00089, val: 0.00000\n",
      "Step:891, train: 0.00089, val: 0.00000\n",
      "Step:892, train: 0.00089, val: 0.00000\n",
      "Step:893, train: 0.00089, val: 0.00000\n",
      "Step:894, train: 0.00088, val: 0.00000\n",
      "Step:895, train: 0.00088, val: 0.00000\n",
      "Step:896, train: 0.00088, val: 0.00000\n",
      "Step:897, train: 0.00088, val: 0.00000\n",
      "Step:898, train: 0.00087, val: 0.00000\n",
      "Step:899, train: 0.00087, val: 0.00000\n",
      "Step:900, train: 0.00087, val: 0.00000\n",
      "Step:901, train: 0.00087, val: 0.00000\n",
      "Step:902, train: 0.00086, val: 0.00000\n",
      "Step:903, train: 0.00086, val: 0.00000\n",
      "Step:904, train: 0.00086, val: 0.00000\n",
      "Step:905, train: 0.00086, val: 0.00000\n",
      "Step:906, train: 0.00085, val: 0.00000\n",
      "Step:907, train: 0.00085, val: 0.00000\n",
      "Step:908, train: 0.00085, val: 0.00000\n",
      "Step:909, train: 0.00085, val: 0.00000\n",
      "Step:910, train: 0.00084, val: 0.00000\n",
      "Step:911, train: 0.00084, val: 0.00000\n",
      "Step:912, train: 0.00084, val: 0.00000\n",
      "Step:913, train: 0.00084, val: 0.00000\n",
      "Step:914, train: 0.00083, val: 0.00000\n",
      "Step:915, train: 0.00083, val: 0.00000\n",
      "Step:916, train: 0.00083, val: 0.00000\n",
      "Step:917, train: 0.00083, val: 0.00000\n",
      "Step:918, train: 0.00083, val: 0.00000\n",
      "Step:919, train: 0.00082, val: 0.00000\n",
      "Step:920, train: 0.00082, val: 0.00000\n",
      "Step:921, train: 0.00082, val: 0.00000\n",
      "Step:922, train: 0.00082, val: 0.00000\n",
      "Step:923, train: 0.00081, val: 0.00000\n",
      "Step:924, train: 0.00081, val: 0.00000\n",
      "Step:925, train: 0.00081, val: 0.00000\n",
      "Step:926, train: 0.00081, val: 0.00000\n",
      "Step:927, train: 0.00081, val: 0.00000\n",
      "Step:928, train: 0.00080, val: 0.00000\n",
      "Step:929, train: 0.00080, val: 0.00000\n",
      "Step:930, train: 0.00080, val: 0.00000\n",
      "Step:931, train: 0.00080, val: 0.00000\n",
      "Step:932, train: 0.00080, val: 0.00000\n",
      "Step:933, train: 0.00079, val: 0.00000\n",
      "Step:934, train: 0.00079, val: 0.00000\n",
      "Step:935, train: 0.00079, val: 0.00000\n",
      "Step:936, train: 0.00079, val: 0.00000\n",
      "Step:937, train: 0.00079, val: 0.00000\n",
      "Step:938, train: 0.00078, val: 0.00000\n",
      "Step:939, train: 0.00078, val: 0.00000\n",
      "Step:940, train: 0.00078, val: 0.00000\n",
      "Step:941, train: 0.00078, val: 0.00000\n",
      "Step:942, train: 0.00078, val: 0.00000\n",
      "Step:943, train: 0.00077, val: 0.00000\n",
      "Step:944, train: 0.00077, val: 0.00000\n",
      "Step:945, train: 0.00077, val: 0.00000\n",
      "Step:946, train: 0.00077, val: 0.00000\n",
      "Step:947, train: 0.00077, val: 0.00000\n",
      "Step:948, train: 0.00077, val: 0.00000\n",
      "Step:949, train: 0.00076, val: 0.00000\n",
      "Step:950, train: 0.00076, val: 0.00000\n",
      "Step:951, train: 0.00076, val: 0.00000\n",
      "Step:952, train: 0.00076, val: 0.00000\n",
      "Step:953, train: 0.00076, val: 0.00000\n",
      "Step:954, train: 0.00075, val: 0.00000\n",
      "Step:955, train: 0.00075, val: 0.00000\n",
      "Step:956, train: 0.00075, val: 0.00000\n",
      "Step:957, train: 0.00075, val: 0.00000\n",
      "Step:958, train: 0.00075, val: 0.00000\n",
      "Step:959, train: 0.00075, val: 0.00000\n",
      "Step:960, train: 0.00074, val: 0.00000\n",
      "Step:961, train: 0.00074, val: 0.00000\n",
      "Step:962, train: 0.00074, val: 0.00000\n",
      "Step:963, train: 0.00074, val: 0.00000\n",
      "Step:964, train: 0.00074, val: 0.00000\n",
      "Step:965, train: 0.00074, val: 0.00000\n",
      "Step:966, train: 0.00073, val: 0.00000\n",
      "Step:967, train: 0.00073, val: 0.00000\n",
      "Step:968, train: 0.00073, val: 0.00000\n",
      "Step:969, train: 0.00073, val: 0.00000\n",
      "Step:970, train: 0.00073, val: 0.00000\n",
      "Step:971, train: 0.00073, val: 0.00000\n",
      "Step:972, train: 0.00073, val: 0.00000\n",
      "Step:973, train: 0.00072, val: 0.00000\n",
      "Step:974, train: 0.00072, val: 0.00000\n",
      "Step:975, train: 0.00072, val: 0.00000\n",
      "Step:976, train: 0.00072, val: 0.00000\n",
      "Step:977, train: 0.00072, val: 0.00000\n",
      "Step:978, train: 0.00072, val: 0.00000\n",
      "Step:979, train: 0.00072, val: 0.00000\n",
      "Step:980, train: 0.00071, val: 0.00000\n",
      "Step:981, train: 0.00071, val: 0.00000\n",
      "Step:982, train: 0.00071, val: 0.00000\n",
      "Step:983, train: 0.00071, val: 0.00000\n",
      "Step:984, train: 0.00071, val: 0.00000\n",
      "Step:985, train: 0.00071, val: 0.00000\n",
      "Step:986, train: 0.00071, val: 0.00000\n",
      "Step:987, train: 0.00070, val: 0.00000\n",
      "Step:988, train: 0.00070, val: 0.00000\n",
      "Step:989, train: 0.00070, val: 0.00000\n",
      "Step:990, train: 0.00070, val: 0.00000\n",
      "Step:991, train: 0.00070, val: 0.00000\n",
      "Step:992, train: 0.00070, val: 0.00000\n",
      "Step:993, train: 0.00070, val: 0.00000\n",
      "Step:994, train: 0.00069, val: 0.00000\n",
      "Step:995, train: 0.00069, val: 0.00000\n",
      "Step:996, train: 0.00069, val: 0.00000\n",
      "Step:997, train: 0.00069, val: 0.00000\n",
      "Step:998, train: 0.00069, val: 0.00000\n",
      "Step:999, train: 0.00069, val: 0.00000\n"
     ]
    }
   ],
   "source": [
    "model.train(inputs = inputs_map,\n",
    "            targets = targets_map,\n",
    "            #inputs_val = inputs_map,\n",
    "            #targets_val = targets_map,\n",
    "            num_iter = 1000,\n",
    "            )"
   ]
  },
  {
   "cell_type": "code",
   "execution_count": 10,
   "metadata": {},
   "outputs": [
    {
     "name": "stdout",
     "output_type": "stream",
     "text": [
      "0.9882213903546946\n"
     ]
    }
   ],
   "source": [
    "print(channel_fidelity(kraus_target, kraus_model).numpy())"
   ]
  },
  {
   "cell_type": "markdown",
   "metadata": {},
   "source": [
    "### Spectrum"
   ]
  },
  {
   "cell_type": "code",
   "execution_count": 11,
   "metadata": {},
   "outputs": [],
   "source": [
    "choi = kraus_to_choi(kraus_model)\n",
    "spectrum = choi_spectrum(choi)"
   ]
  },
  {
   "cell_type": "code",
   "execution_count": 12,
   "metadata": {},
   "outputs": [
    {
     "data": {
      "image/png": "[encoded data removed]",
      "text/plain": [
       "<Figure size 2400x2400 with 1 Axes>"
      ]
     },
     "metadata": {},
     "output_type": "display_data"
    }
   ],
   "source": [
    "t = np.linspace(0, 2*np.pi, 1000)\n",
    "circle = [np.sin(t), np.cos(t)]\n",
    "\n",
    "fig=plt.figure(figsize=(8,8), dpi = 300, facecolor='w', edgecolor='k')\n",
    "ax = fig.add_subplot(111)\n",
    "ax.set_aspect(1)\n",
    "plt.plot(*circle)\n",
    "plt.plot(*spectrum, \"o\")\n",
    "plt.show()"
   ]
  },
  {
   "cell_type": "code",
   "execution_count": null,
   "metadata": {},
   "outputs": [],
   "source": []
  }
 ],
 "metadata": {
  "kernelspec": {
   "display_name": "env_qiskit",
   "language": "python",
   "name": "env_qiskit"
  },
  "language_info": {
   "codemirror_mode": {
    "name": "ipython",
    "version": 3
   },
   "file_extension": ".py",
   "mimetype": "text/x-python",
   "name": "python",
   "nbconvert_exporter": "python",
   "pygments_lexer": "ipython3",
   "version": "3.10.4"
  }
 },
 "nbformat": 4,
 "nbformat_minor": 4
}
