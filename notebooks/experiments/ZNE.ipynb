{
 "cells": [
  {
   "cell_type": "markdown",
   "metadata": {},
   "source": [
    "# NISQ Experiment"
   ]
  },
  {
   "cell_type": "code",
   "execution_count": 44,
   "metadata": {},
   "outputs": [],
   "source": [
    "import sys\n",
    "sys.path.insert(0, '../../src_tf/')\n",
    "\n",
    "import numpy as np\n",
    "import qiskit as qk\n",
    "import matplotlib.pyplot as plt\n",
    "import multiprocessing as mp\n",
    "import random\n",
    "import pickle\n",
    "\n",
    "from qiskit.quantum_info import DensityMatrix\n",
    "from qiskit.quantum_info import Operator\n",
    "from qiskit import Aer\n",
    "from scipy.linalg import sqrtm\n",
    "from tqdm.notebook import tqdm\n",
    "from qiskit.providers.aer import AerSimulator\n",
    "from copy import deepcopy\n",
    "\n",
    "from loss_functions import *\n",
    "from optimization import *\n",
    "from quantum_maps import *\n",
    "from quantum_tools import *\n",
    "from utils import *\n",
    "from experiments import *\n",
    "from qiskit.providers.fake_provider import FakeCasablanca\n",
    "#np.set_printoptions(threshold=sys.maxsize)"
   ]
  },
  {
   "cell_type": "code",
   "execution_count": 45,
   "metadata": {},
   "outputs": [],
   "source": [
    "from qiskit import QuantumRegister, ClassicalRegister, QuantumCircuit\n",
    "from qiskit.tools.visualization import circuit_drawer\n",
    "from qiskit.quantum_info import random_unitary, Operator"
   ]
  },
  {
   "cell_type": "code",
   "execution_count": 86,
   "metadata": {},
   "outputs": [
    {
     "name": "stderr",
     "output_type": "stream",
     "text": [
      "ibmqfactory.load_account:WARNING:2022-10-04 00:57:53,865: Credentials are already in use. The existing account in the session will be replaced.\n"
     ]
    }
   ],
   "source": [
    "#qk.IBMQ.save_account(\"a9ec3c697bede976217e9ff6c5c0f19a2511ea34a225bbe10f0c74bda39de845d16fa3f7c30b47c5714e2b695aded3cfd474e7c1b33056014fab89301b83d724\", overwrite=True) \n",
    "provider = qk.IBMQ.load_account()\n",
    "provider = qk.IBMQ.get_provider(hub='ibm-q', group='open', project='main')\n",
    "backend = provider.get_backend(\"ibmq_manila\")\n",
    "\n",
    "#backend = AerSimulator()"
   ]
  },
  {
   "cell_type": "code",
   "execution_count": 87,
   "metadata": {},
   "outputs": [],
   "source": [
    "def global_folding(circuit_target, fold=0):\n",
    "    circuit = circuit_target.copy()\n",
    "    circuit = qk.QuantumCircuit(circuit.num_qubits).compose(circuit)\n",
    "    for i in range(fold):\n",
    "        circuit.barrier()\n",
    "        circuit_fold1 = circuit_target.inverse().copy()\n",
    "        circuit_fold1.barrier()\n",
    "        circuit_fold2 = circuit_target.copy()\n",
    "        \n",
    "        circuit = circuit.compose(circuit_fold1.compose(circuit_fold2))\n",
    "    \n",
    "    circuit.add_register(qk.ClassicalRegister(circuit.num_qubits))\n",
    "    circuit.measure(circuit.qregs[0], circuit.cregs[0])\n",
    "    \n",
    "    return circuit"
   ]
  },
  {
   "cell_type": "code",
   "execution_count": 88,
   "metadata": {},
   "outputs": [],
   "source": [
    "np.random.seed(43)\n",
    "random.seed(43)\n",
    "n = 3\n",
    "\n",
    "circuit_target = variational_circuit(n, 2, 0, 2).reverse_bits()\n",
    "circuit_fold0 = global_folding(circuit_target, fold=0)\n",
    "circuit_fold1 = global_folding(circuit_target, fold=1)\n",
    "circuit_fold2 = global_folding(circuit_target, fold=2)\n",
    "circuit_fold3 = global_folding(circuit_target, fold=3)\n",
    "circuit_fold4 = global_folding(circuit_target, fold=4)\n",
    "circuit_fold5 = global_folding(circuit_target, fold=5)\n",
    "\n",
    "circuit_list = [circuit_fold0, circuit_fold1, circuit_fold2, circuit_fold3, circuit_fold4, circuit_fold5]"
   ]
  },
  {
   "cell_type": "code",
   "execution_count": 89,
   "metadata": {},
   "outputs": [],
   "source": [
    "job = qk.execute(circuit_list, backend, shots = 20000, optimization_level = 0, seed_transpiler=42)\n",
    "result = job.result()\n",
    "counts_list = [result.get_counts(circuit) for circuit in circuit_list]"
   ]
  },
  {
   "cell_type": "code",
   "execution_count": 90,
   "metadata": {},
   "outputs": [],
   "source": [
    "probs = counts_to_probs(counts_list).numpy()"
   ]
  },
  {
   "cell_type": "code",
   "execution_count": 91,
   "metadata": {},
   "outputs": [],
   "source": [
    "pickle.dump(probs, open(f\"../../data/ZNE_three_qubit.p\", \"wb\"))  "
   ]
  },
  {
   "cell_type": "code",
   "execution_count": 93,
   "metadata": {},
   "outputs": [
    {
     "data": {
      "text/plain": [
       "[<matplotlib.lines.Line2D at 0x2322c9fc550>]"
      ]
     },
     "execution_count": 93,
     "metadata": {},
     "output_type": "execute_result"
    },
    {
     "data": {
      "image/png": "[encoded data removed]",
      "text/plain": [
       "<Figure size 432x288 with 1 Axes>"
      ]
     },
     "metadata": {
      "needs_background": "light"
     },
     "output_type": "display_data"
    }
   ],
   "source": [
    "plt.plot(probs[:,0],\"-o\")"
   ]
  },
  {
   "cell_type": "code",
   "execution_count": null,
   "metadata": {},
   "outputs": [],
   "source": []
  }
 ],
 "metadata": {
  "kernelspec": {
   "display_name": "env_qiskit",
   "language": "python",
   "name": "env_qiskit"
  },
  "language_info": {
   "codemirror_mode": {
    "name": "ipython",
    "version": 3
   },
   "file_extension": ".py",
   "mimetype": "text/x-python",
   "name": "python",
   "nbconvert_exporter": "python",
   "pygments_lexer": "ipython3",
   "version": "3.10.4"
  }
 },
 "nbformat": 4,
 "nbformat_minor": 4
}
