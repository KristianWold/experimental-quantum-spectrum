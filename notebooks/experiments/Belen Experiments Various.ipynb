{
 "cells": [
  {
   "cell_type": "markdown",
   "metadata": {},
   "source": [
    "# Belen Experiments Various"
   ]
  },
  {
   "cell_type": "code",
   "execution_count": 1,
   "metadata": {},
   "outputs": [],
   "source": [
    "import sys\n",
    "sys.path.insert(0, '../../src_tf/')\n",
    "\n",
    "import numpy as np\n",
    "import qiskit as qk\n",
    "import matplotlib.pyplot as plt\n",
    "import multiprocessing as mp\n",
    "import random\n",
    "import pickle\n",
    "\n",
    "from qiskit.quantum_info import DensityMatrix, random_unitary\n",
    "from qiskit.quantum_info import Operator\n",
    "from scipy.linalg import sqrtm\n",
    "from tqdm.notebook import tqdm\n",
    "\n",
    "from loss_functions import *\n",
    "from optimization import *\n",
    "from quantum_channel import *\n",
    "from kraus_channels import *\n",
    "from quantum_tools import *\n",
    "from experimental import *\n",
    "from spam import *\n",
    "from quantum_circuits import *\n",
    "\n",
    "#np.set_printoptions(threshold=sys.maxsize)\n",
    "np.set_printoptions(precision=4)\n",
    "\n",
    "import os\n",
    "os.environ[\"CUDA_VISIBLE_DEVICES\"] = \"-1\""
   ]
  },
  {
   "cell_type": "code",
   "execution_count": 2,
   "metadata": {},
   "outputs": [],
   "source": [
    "from qiskit import QuantumRegister, ClassicalRegister, QuantumCircuit\n",
    "from qiskit.tools.visualization import circuit_drawer\n",
    "from qiskit.quantum_info import random_unitary, Operator\n",
    "from qiskit.providers.fake_provider import FakeManilaV2\n",
    "\n",
    "from qiskit import Aer"
   ]
  },
  {
   "cell_type": "code",
   "execution_count": 3,
   "metadata": {},
   "outputs": [],
   "source": [
    "#qk.IBMQ.save_account(\"aaff224a30e77d3ea3af33e2e3fb1cebfbff4e33b04ef75fdbbb9e9055426f547739b68d5b93dac4d47e7828d840a212436b1c36a358f9185574ce60af9a9f53\", overwrite=True) \n",
    "provider = qk.IBMQ.load_account()\n",
    "provider = qk.IBMQ.get_provider(hub='ibm-q', group='open', project='main')"
   ]
  },
  {
   "cell_type": "markdown",
   "metadata": {},
   "source": [
    "## Concatenate Circuits"
   ]
  },
  {
   "cell_type": "code",
   "execution_count": 18,
   "metadata": {},
   "outputs": [],
   "source": [
    "backend = provider.get_backend(\"ibmq_belem\")\n",
    "\n",
    "n = 3\n",
    "d = 2**n\n",
    "\n",
    "np.random.seed(42)\n",
    "random.seed(42)\n",
    "\n",
    "circuit_target1 = pqc_basic(n, 2).reverse_bits()\n",
    "circuit_target2 = pqc_basic(n, 2).reverse_bits()\n",
    "\n",
    "circuit_target12 = deepcopy(circuit_target1)\n",
    "circuit_target12 = circuit_target12.compose(circuit_target2)\n",
    "circuit_target_list = [circuit_target1, circuit_target2, circuit_target12]"
   ]
  },
  {
   "cell_type": "code",
   "execution_count": 19,
   "metadata": {},
   "outputs": [
    {
     "data": {
      "application/vnd.jupyter.widget-view+json": {
       "model_id": "d7084e3b45a8430fb77ee181452743bf",
       "version_major": 2,
       "version_minor": 0
      },
      "text/plain": [
       "  0%|          | 0/4 [00:00<?, ?it/s]"
      ]
     },
     "metadata": {},
     "output_type": "display_data"
    },
    {
     "data": {
      "application/vnd.jupyter.widget-view+json": {
       "model_id": "f27b37b9dedf48bf84a927779d9dfbd2",
       "version_major": 2,
       "version_minor": 0
      },
      "text/plain": [
       "  0%|          | 0/5 [00:00<?, ?it/s]"
      ]
     },
     "metadata": {},
     "output_type": "display_data"
    },
    {
     "data": {
      "application/vnd.jupyter.widget-view+json": {
       "model_id": "d5b77b2c69e4467699642c47ab8209be",
       "version_major": 2,
       "version_minor": 0
      },
      "text/plain": [
       "  0%|          | 0/5 [00:00<?, ?it/s]"
      ]
     },
     "metadata": {},
     "output_type": "display_data"
    },
    {
     "data": {
      "application/vnd.jupyter.widget-view+json": {
       "model_id": "f1f4d6c0124f487ba31e8e684eff12f4",
       "version_major": 2,
       "version_minor": 0
      },
      "text/plain": [
       "  0%|          | 0/5 [00:00<?, ?it/s]"
      ]
     },
     "metadata": {},
     "output_type": "display_data"
    },
    {
     "data": {
      "application/vnd.jupyter.widget-view+json": {
       "model_id": "cd1f5d8f02ab4d058266228cb74bf9d2",
       "version_major": 2,
       "version_minor": 0
      },
      "text/plain": [
       "  0%|          | 0/5 [00:00<?, ?it/s]"
      ]
     },
     "metadata": {},
     "output_type": "display_data"
    },
    {
     "data": {
      "application/vnd.jupyter.widget-view+json": {
       "model_id": "0e4625479b1e48ceb9ffd222941ee153",
       "version_major": 2,
       "version_minor": 0
      },
      "text/plain": [
       "  0%|          | 0/4 [00:00<?, ?it/s]"
      ]
     },
     "metadata": {},
     "output_type": "display_data"
    },
    {
     "data": {
      "application/vnd.jupyter.widget-view+json": {
       "model_id": "ae3f87dd46734b97af04a368e77d5dcc",
       "version_major": 2,
       "version_minor": 0
      },
      "text/plain": [
       "  0%|          | 0/5 [00:00<?, ?it/s]"
      ]
     },
     "metadata": {},
     "output_type": "display_data"
    },
    {
     "data": {
      "application/vnd.jupyter.widget-view+json": {
       "model_id": "91fec1a5f8c9489781bfeccd988ee7a5",
       "version_major": 2,
       "version_minor": 0
      },
      "text/plain": [
       "  0%|          | 0/5 [00:00<?, ?it/s]"
      ]
     },
     "metadata": {},
     "output_type": "display_data"
    },
    {
     "data": {
      "application/vnd.jupyter.widget-view+json": {
       "model_id": "648aea6c060a4cff99540839ab7f7bc3",
       "version_major": 2,
       "version_minor": 0
      },
      "text/plain": [
       "  0%|          | 0/5 [00:00<?, ?it/s]"
      ]
     },
     "metadata": {},
     "output_type": "display_data"
    },
    {
     "data": {
      "application/vnd.jupyter.widget-view+json": {
       "model_id": "37d5bfd3859c4a4f85138b9b3855b379",
       "version_major": 2,
       "version_minor": 0
      },
      "text/plain": [
       "  0%|          | 0/5 [00:00<?, ?it/s]"
      ]
     },
     "metadata": {},
     "output_type": "display_data"
    },
    {
     "data": {
      "application/vnd.jupyter.widget-view+json": {
       "model_id": "4289dbe8fa1c4ad4a20c80e871786603",
       "version_major": 2,
       "version_minor": 0
      },
      "text/plain": [
       "  0%|          | 0/4 [00:00<?, ?it/s]"
      ]
     },
     "metadata": {},
     "output_type": "display_data"
    },
    {
     "data": {
      "application/vnd.jupyter.widget-view+json": {
       "model_id": "4f2f9c27253f4199b74236d4e37555bc",
       "version_major": 2,
       "version_minor": 0
      },
      "text/plain": [
       "  0%|          | 0/5 [00:00<?, ?it/s]"
      ]
     },
     "metadata": {},
     "output_type": "display_data"
    },
    {
     "data": {
      "application/vnd.jupyter.widget-view+json": {
       "model_id": "12717432314f4b1890d93f35bd5808aa",
       "version_major": 2,
       "version_minor": 0
      },
      "text/plain": [
       "  0%|          | 0/5 [00:00<?, ?it/s]"
      ]
     },
     "metadata": {},
     "output_type": "display_data"
    },
    {
     "data": {
      "application/vnd.jupyter.widget-view+json": {
       "model_id": "2e8873b1765847bd9bb856fa850b2d6e",
       "version_major": 2,
       "version_minor": 0
      },
      "text/plain": [
       "  0%|          | 0/5 [00:00<?, ?it/s]"
      ]
     },
     "metadata": {},
     "output_type": "display_data"
    },
    {
     "data": {
      "application/vnd.jupyter.widget-view+json": {
       "model_id": "006fb1a75ffe4a1ea2d15faa490793d9",
       "version_major": 2,
       "version_minor": 0
      },
      "text/plain": [
       "  0%|          | 0/5 [00:00<?, ?it/s]"
      ]
     },
     "metadata": {},
     "output_type": "display_data"
    }
   ],
   "source": [
    "belem_concatenate = ExecuteAndCollect()\n",
    "belem_concatenate.setup_circuits(circuit_target_list, N_map = 2000-6**n)\n",
    "\n",
    "belem_concatenate.execute_circuits(backend=backend, \n",
    "                                   shots_map = 1024, \n",
    "                                   shots_spam = 1024, \n",
    "                                   filename=\"belem_concatenate_2layer\", \n",
    "                                   concatenate=True)"
   ]
  },
  {
   "cell_type": "code",
   "execution_count": 4,
   "metadata": {},
   "outputs": [],
   "source": [
    "backend = provider.get_backend(\"ibmq_belem\")\n",
    "\n",
    "n = 3\n",
    "d = 2**n\n",
    "\n",
    "np.random.seed(42)\n",
    "random.seed(42)\n",
    "\n",
    "circuit_target1 = pqc_basic(n, 4).reverse_bits()\n",
    "circuit_target2 = pqc_basic(n, 4).reverse_bits()\n",
    "\n",
    "circuit_target12 = deepcopy(circuit_target1)\n",
    "circuit_target12 = circuit_target12.compose(circuit_target2)\n",
    "circuit_target_list = [circuit_target1, circuit_target2, circuit_target12]"
   ]
  },
  {
   "cell_type": "code",
   "execution_count": 5,
   "metadata": {},
   "outputs": [
    {
     "data": {
      "application/vnd.jupyter.widget-view+json": {
       "model_id": "853a546c1b384ad691b22eb228082541",
       "version_major": 2,
       "version_minor": 0
      },
      "text/plain": [
       "  0%|          | 0/4 [00:00<?, ?it/s]"
      ]
     },
     "metadata": {},
     "output_type": "display_data"
    },
    {
     "data": {
      "application/vnd.jupyter.widget-view+json": {
       "model_id": "d46916e83982443cabd0a5ba32ffbb72",
       "version_major": 2,
       "version_minor": 0
      },
      "text/plain": [
       "  0%|          | 0/5 [00:00<?, ?it/s]"
      ]
     },
     "metadata": {},
     "output_type": "display_data"
    },
    {
     "data": {
      "application/vnd.jupyter.widget-view+json": {
       "model_id": "9c98de0037c14eafa36ef884ce698252",
       "version_major": 2,
       "version_minor": 0
      },
      "text/plain": [
       "  0%|          | 0/5 [00:00<?, ?it/s]"
      ]
     },
     "metadata": {},
     "output_type": "display_data"
    },
    {
     "data": {
      "application/vnd.jupyter.widget-view+json": {
       "model_id": "b2ddda1e468649338805e735e08ed207",
       "version_major": 2,
       "version_minor": 0
      },
      "text/plain": [
       "  0%|          | 0/5 [00:00<?, ?it/s]"
      ]
     },
     "metadata": {},
     "output_type": "display_data"
    },
    {
     "data": {
      "application/vnd.jupyter.widget-view+json": {
       "model_id": "da347b6eb900464fa36761d7b35fe206",
       "version_major": 2,
       "version_minor": 0
      },
      "text/plain": [
       "  0%|          | 0/5 [00:00<?, ?it/s]"
      ]
     },
     "metadata": {},
     "output_type": "display_data"
    },
    {
     "data": {
      "application/vnd.jupyter.widget-view+json": {
       "model_id": "3cfafe24e81847d0878f5e2a0ea516cc",
       "version_major": 2,
       "version_minor": 0
      },
      "text/plain": [
       "  0%|          | 0/4 [00:00<?, ?it/s]"
      ]
     },
     "metadata": {},
     "output_type": "display_data"
    },
    {
     "data": {
      "application/vnd.jupyter.widget-view+json": {
       "model_id": "a8ee7950ea3547c88ee32bf8abc43ee2",
       "version_major": 2,
       "version_minor": 0
      },
      "text/plain": [
       "  0%|          | 0/5 [00:00<?, ?it/s]"
      ]
     },
     "metadata": {},
     "output_type": "display_data"
    },
    {
     "data": {
      "application/vnd.jupyter.widget-view+json": {
       "model_id": "200d3151fbba456397e5ab0d8638125e",
       "version_major": 2,
       "version_minor": 0
      },
      "text/plain": [
       "  0%|          | 0/5 [00:00<?, ?it/s]"
      ]
     },
     "metadata": {},
     "output_type": "display_data"
    },
    {
     "data": {
      "application/vnd.jupyter.widget-view+json": {
       "model_id": "6b4dbf2163074557bce3086d3366e495",
       "version_major": 2,
       "version_minor": 0
      },
      "text/plain": [
       "  0%|          | 0/5 [00:00<?, ?it/s]"
      ]
     },
     "metadata": {},
     "output_type": "display_data"
    },
    {
     "data": {
      "application/vnd.jupyter.widget-view+json": {
       "model_id": "89647cc3a2ac465f8cb94eb2bcefaf95",
       "version_major": 2,
       "version_minor": 0
      },
      "text/plain": [
       "  0%|          | 0/5 [00:00<?, ?it/s]"
      ]
     },
     "metadata": {},
     "output_type": "display_data"
    },
    {
     "data": {
      "application/vnd.jupyter.widget-view+json": {
       "model_id": "c6ddcb3679004e469dbd54f2163d0a4d",
       "version_major": 2,
       "version_minor": 0
      },
      "text/plain": [
       "  0%|          | 0/4 [00:00<?, ?it/s]"
      ]
     },
     "metadata": {},
     "output_type": "display_data"
    },
    {
     "data": {
      "application/vnd.jupyter.widget-view+json": {
       "model_id": "7f98ee6025824c3e853c2f39d260be44",
       "version_major": 2,
       "version_minor": 0
      },
      "text/plain": [
       "  0%|          | 0/5 [00:00<?, ?it/s]"
      ]
     },
     "metadata": {},
     "output_type": "display_data"
    },
    {
     "data": {
      "application/vnd.jupyter.widget-view+json": {
       "model_id": "1a472b9b460c4d42a3c44346af2779a0",
       "version_major": 2,
       "version_minor": 0
      },
      "text/plain": [
       "  0%|          | 0/5 [00:00<?, ?it/s]"
      ]
     },
     "metadata": {},
     "output_type": "display_data"
    },
    {
     "data": {
      "application/vnd.jupyter.widget-view+json": {
       "model_id": "7e171adc6f7244c795ae4c64c7c01322",
       "version_major": 2,
       "version_minor": 0
      },
      "text/plain": [
       "  0%|          | 0/5 [00:00<?, ?it/s]"
      ]
     },
     "metadata": {},
     "output_type": "display_data"
    },
    {
     "data": {
      "application/vnd.jupyter.widget-view+json": {
       "model_id": "e719b41c74214c3497d8025b8dc2ee12",
       "version_major": 2,
       "version_minor": 0
      },
      "text/plain": [
       "  0%|          | 0/5 [00:00<?, ?it/s]"
      ]
     },
     "metadata": {},
     "output_type": "display_data"
    }
   ],
   "source": [
    "belem_concatenate = ExecuteAndCollect()\n",
    "belem_concatenate.setup_circuits(circuit_target_list, N_map = 2000-6**n)\n",
    "\n",
    "belem_concatenate.execute_circuits(backend=backend, \n",
    "                                   shots_map = 1024, \n",
    "                                   shots_spam = 1024, \n",
    "                                   filename=\"belem_concatenate_4layer\", \n",
    "                                   concatenate=True)"
   ]
  },
  {
   "cell_type": "code",
   "execution_count": 6,
   "metadata": {},
   "outputs": [],
   "source": [
    "backend = provider.get_backend(\"ibmq_belem\")\n",
    "\n",
    "n = 3\n",
    "d = 2**n\n",
    "\n",
    "np.random.seed(42)\n",
    "random.seed(42)\n",
    "\n",
    "circuit_target1 = pqc_basic(n, 8).reverse_bits()\n",
    "circuit_target2 = pqc_basic(n, 8).reverse_bits()\n",
    "\n",
    "circuit_target12 = deepcopy(circuit_target1)\n",
    "circuit_target12 = circuit_target12.compose(circuit_target2)\n",
    "circuit_target_list = [circuit_target1, circuit_target2, circuit_target12]"
   ]
  },
  {
   "cell_type": "code",
   "execution_count": 7,
   "metadata": {
    "scrolled": false
   },
   "outputs": [
    {
     "data": {
      "application/vnd.jupyter.widget-view+json": {
       "model_id": "9fbc4d05c5d745a7bf2cbdf8b1689331",
       "version_major": 2,
       "version_minor": 0
      },
      "text/plain": [
       "  0%|          | 0/4 [00:00<?, ?it/s]"
      ]
     },
     "metadata": {},
     "output_type": "display_data"
    },
    {
     "data": {
      "application/vnd.jupyter.widget-view+json": {
       "model_id": "09d6b618ea3048779deee580a5929833",
       "version_major": 2,
       "version_minor": 0
      },
      "text/plain": [
       "  0%|          | 0/5 [00:00<?, ?it/s]"
      ]
     },
     "metadata": {},
     "output_type": "display_data"
    },
    {
     "data": {
      "application/vnd.jupyter.widget-view+json": {
       "model_id": "5579d63064ce4baa85535d3526a6b4e5",
       "version_major": 2,
       "version_minor": 0
      },
      "text/plain": [
       "  0%|          | 0/5 [00:00<?, ?it/s]"
      ]
     },
     "metadata": {},
     "output_type": "display_data"
    },
    {
     "data": {
      "application/vnd.jupyter.widget-view+json": {
       "model_id": "26c17c8c71914031a757bb4797d623fa",
       "version_major": 2,
       "version_minor": 0
      },
      "text/plain": [
       "  0%|          | 0/5 [00:00<?, ?it/s]"
      ]
     },
     "metadata": {},
     "output_type": "display_data"
    },
    {
     "data": {
      "application/vnd.jupyter.widget-view+json": {
       "model_id": "8f77b31536844c3d83f9d265e5057038",
       "version_major": 2,
       "version_minor": 0
      },
      "text/plain": [
       "  0%|          | 0/5 [00:00<?, ?it/s]"
      ]
     },
     "metadata": {},
     "output_type": "display_data"
    },
    {
     "data": {
      "application/vnd.jupyter.widget-view+json": {
       "model_id": "148487cdafb945caa93bea3448f02e44",
       "version_major": 2,
       "version_minor": 0
      },
      "text/plain": [
       "  0%|          | 0/4 [00:00<?, ?it/s]"
      ]
     },
     "metadata": {},
     "output_type": "display_data"
    },
    {
     "data": {
      "application/vnd.jupyter.widget-view+json": {
       "model_id": "317d80cb78e34b7387ddb6efb5790aab",
       "version_major": 2,
       "version_minor": 0
      },
      "text/plain": [
       "  0%|          | 0/5 [00:00<?, ?it/s]"
      ]
     },
     "metadata": {},
     "output_type": "display_data"
    },
    {
     "data": {
      "application/vnd.jupyter.widget-view+json": {
       "model_id": "9d7357f23b324b3fa7915ed38a5022a3",
       "version_major": 2,
       "version_minor": 0
      },
      "text/plain": [
       "  0%|          | 0/5 [00:00<?, ?it/s]"
      ]
     },
     "metadata": {},
     "output_type": "display_data"
    },
    {
     "data": {
      "application/vnd.jupyter.widget-view+json": {
       "model_id": "e284fade516d4c5cb0d14c73bccc5572",
       "version_major": 2,
       "version_minor": 0
      },
      "text/plain": [
       "  0%|          | 0/5 [00:00<?, ?it/s]"
      ]
     },
     "metadata": {},
     "output_type": "display_data"
    },
    {
     "data": {
      "application/vnd.jupyter.widget-view+json": {
       "model_id": "b4a91348663f4f168968d3abc1547023",
       "version_major": 2,
       "version_minor": 0
      },
      "text/plain": [
       "  0%|          | 0/5 [00:00<?, ?it/s]"
      ]
     },
     "metadata": {},
     "output_type": "display_data"
    },
    {
     "data": {
      "application/vnd.jupyter.widget-view+json": {
       "model_id": "1bbe00b1480942dfb5e8eb14703ca9b2",
       "version_major": 2,
       "version_minor": 0
      },
      "text/plain": [
       "  0%|          | 0/4 [00:00<?, ?it/s]"
      ]
     },
     "metadata": {},
     "output_type": "display_data"
    },
    {
     "data": {
      "application/vnd.jupyter.widget-view+json": {
       "model_id": "f8165715c5e94a4ea5fd6dd324e379e2",
       "version_major": 2,
       "version_minor": 0
      },
      "text/plain": [
       "  0%|          | 0/5 [00:00<?, ?it/s]"
      ]
     },
     "metadata": {},
     "output_type": "display_data"
    },
    {
     "data": {
      "application/vnd.jupyter.widget-view+json": {
       "model_id": "2f2d2b0bd6624d839c0d4c2f5ac27ef1",
       "version_major": 2,
       "version_minor": 0
      },
      "text/plain": [
       "  0%|          | 0/5 [00:00<?, ?it/s]"
      ]
     },
     "metadata": {},
     "output_type": "display_data"
    },
    {
     "data": {
      "application/vnd.jupyter.widget-view+json": {
       "model_id": "1e82de922ff44d0d98c62d6081716976",
       "version_major": 2,
       "version_minor": 0
      },
      "text/plain": [
       "  0%|          | 0/5 [00:00<?, ?it/s]"
      ]
     },
     "metadata": {},
     "output_type": "display_data"
    },
    {
     "data": {
      "application/vnd.jupyter.widget-view+json": {
       "model_id": "07e479cefe59423b87b5c76eaf7b2042",
       "version_major": 2,
       "version_minor": 0
      },
      "text/plain": [
       "  0%|          | 0/5 [00:00<?, ?it/s]"
      ]
     },
     "metadata": {},
     "output_type": "display_data"
    }
   ],
   "source": [
    "belem_concatenate = ExecuteAndCollect()\n",
    "belem_concatenate.setup_circuits(circuit_target_list, N_map = 2000-6**n)\n",
    "\n",
    "belem_concatenate.execute_circuits(backend=backend, \n",
    "                                   shots_map = 1024, \n",
    "                                   shots_spam = 1024, \n",
    "                                   filename=\"belem_concatenate_8layer\", \n",
    "                                   concatenate=True)"
   ]
  },
  {
   "cell_type": "code",
   "execution_count": 14,
   "metadata": {},
   "outputs": [],
   "source": [
    "backend = provider.get_backend(\"ibmq_belem\")\n",
    "\n",
    "n = 3\n",
    "d = 2**n\n",
    "\n",
    "np.random.seed(42)\n",
    "random.seed(42)\n",
    "\n",
    "circuit_target1 = pqc_basic(n, 12).reverse_bits()\n",
    "circuit_target2 = pqc_basic(n, 12).reverse_bits()\n",
    "\n",
    "circuit_target12 = deepcopy(circuit_target1)\n",
    "circuit_target12 = circuit_target12.compose(circuit_target2)\n",
    "circuit_target_list = [circuit_target1, circuit_target2, circuit_target12]"
   ]
  },
  {
   "cell_type": "code",
   "execution_count": 15,
   "metadata": {},
   "outputs": [
    {
     "data": {
      "application/vnd.jupyter.widget-view+json": {
       "model_id": "691e78d41d0e43cc95a54278eeb841d2",
       "version_major": 2,
       "version_minor": 0
      },
      "text/plain": [
       "  0%|          | 0/4 [00:00<?, ?it/s]"
      ]
     },
     "metadata": {},
     "output_type": "display_data"
    },
    {
     "data": {
      "application/vnd.jupyter.widget-view+json": {
       "model_id": "05a94d6208754890b054e812313d754a",
       "version_major": 2,
       "version_minor": 0
      },
      "text/plain": [
       "  0%|          | 0/5 [00:00<?, ?it/s]"
      ]
     },
     "metadata": {},
     "output_type": "display_data"
    },
    {
     "data": {
      "application/vnd.jupyter.widget-view+json": {
       "model_id": "c11e3b8096bb4bf3bb92400c88106d0d",
       "version_major": 2,
       "version_minor": 0
      },
      "text/plain": [
       "  0%|          | 0/5 [00:00<?, ?it/s]"
      ]
     },
     "metadata": {},
     "output_type": "display_data"
    },
    {
     "data": {
      "application/vnd.jupyter.widget-view+json": {
       "model_id": "1af0935bf8844765ac1ec0c4630a56f1",
       "version_major": 2,
       "version_minor": 0
      },
      "text/plain": [
       "  0%|          | 0/5 [00:00<?, ?it/s]"
      ]
     },
     "metadata": {},
     "output_type": "display_data"
    },
    {
     "data": {
      "application/vnd.jupyter.widget-view+json": {
       "model_id": "c1908044faa044b69b2e0f5b1e59a806",
       "version_major": 2,
       "version_minor": 0
      },
      "text/plain": [
       "  0%|          | 0/5 [00:00<?, ?it/s]"
      ]
     },
     "metadata": {},
     "output_type": "display_data"
    },
    {
     "data": {
      "application/vnd.jupyter.widget-view+json": {
       "model_id": "2e8c2c36c46f4ae0be1d48c709b298c1",
       "version_major": 2,
       "version_minor": 0
      },
      "text/plain": [
       "  0%|          | 0/4 [00:00<?, ?it/s]"
      ]
     },
     "metadata": {},
     "output_type": "display_data"
    },
    {
     "data": {
      "application/vnd.jupyter.widget-view+json": {
       "model_id": "f99115c9359d47dabbbbe0ffdf534ec7",
       "version_major": 2,
       "version_minor": 0
      },
      "text/plain": [
       "  0%|          | 0/5 [00:00<?, ?it/s]"
      ]
     },
     "metadata": {},
     "output_type": "display_data"
    },
    {
     "data": {
      "application/vnd.jupyter.widget-view+json": {
       "model_id": "85254a12dbee4a17880e19901a06746f",
       "version_major": 2,
       "version_minor": 0
      },
      "text/plain": [
       "  0%|          | 0/5 [00:00<?, ?it/s]"
      ]
     },
     "metadata": {},
     "output_type": "display_data"
    },
    {
     "data": {
      "application/vnd.jupyter.widget-view+json": {
       "model_id": "09e0bc592f5c4495bb59f96f973b2bd8",
       "version_major": 2,
       "version_minor": 0
      },
      "text/plain": [
       "  0%|          | 0/5 [00:00<?, ?it/s]"
      ]
     },
     "metadata": {},
     "output_type": "display_data"
    },
    {
     "data": {
      "application/vnd.jupyter.widget-view+json": {
       "model_id": "7cd3ed44c54a44c2942aafe75368467f",
       "version_major": 2,
       "version_minor": 0
      },
      "text/plain": [
       "  0%|          | 0/5 [00:00<?, ?it/s]"
      ]
     },
     "metadata": {},
     "output_type": "display_data"
    },
    {
     "data": {
      "application/vnd.jupyter.widget-view+json": {
       "model_id": "1e3eb71d8e0b44e395801ee34ae5f769",
       "version_major": 2,
       "version_minor": 0
      },
      "text/plain": [
       "  0%|          | 0/4 [00:00<?, ?it/s]"
      ]
     },
     "metadata": {},
     "output_type": "display_data"
    },
    {
     "data": {
      "application/vnd.jupyter.widget-view+json": {
       "model_id": "5fd8f0324cfa4e5f921df26476ee62e8",
       "version_major": 2,
       "version_minor": 0
      },
      "text/plain": [
       "  0%|          | 0/5 [00:00<?, ?it/s]"
      ]
     },
     "metadata": {},
     "output_type": "display_data"
    },
    {
     "data": {
      "application/vnd.jupyter.widget-view+json": {
       "model_id": "9c2ba1260f8d450bb757aefbba33a89c",
       "version_major": 2,
       "version_minor": 0
      },
      "text/plain": [
       "  0%|          | 0/5 [00:00<?, ?it/s]"
      ]
     },
     "metadata": {},
     "output_type": "display_data"
    },
    {
     "data": {
      "application/vnd.jupyter.widget-view+json": {
       "model_id": "f2c353de003f4d788b2dc8ae8633ea57",
       "version_major": 2,
       "version_minor": 0
      },
      "text/plain": [
       "  0%|          | 0/5 [00:00<?, ?it/s]"
      ]
     },
     "metadata": {},
     "output_type": "display_data"
    },
    {
     "data": {
      "application/vnd.jupyter.widget-view+json": {
       "model_id": "07af8ab2789e4d23b0fefb5e4a3836b4",
       "version_major": 2,
       "version_minor": 0
      },
      "text/plain": [
       "  0%|          | 0/5 [00:00<?, ?it/s]"
      ]
     },
     "metadata": {},
     "output_type": "display_data"
    }
   ],
   "source": [
    "belem_concatenate = ExecuteAndCollect()\n",
    "belem_concatenate.setup_circuits(circuit_target_list, N_map = 2000-6**n)\n",
    "\n",
    "belem_concatenate.execute_circuits(backend=backend, \n",
    "                                   shots_map = 1024, \n",
    "                                   shots_spam = 1024, \n",
    "                                   filename=\"belem_concatenate_12layer\", \n",
    "                                   concatenate=True)"
   ]
  },
  {
   "cell_type": "markdown",
   "metadata": {},
   "source": [
    "## Clifford Gate"
   ]
  },
  {
   "cell_type": "code",
   "execution_count": 4,
   "metadata": {},
   "outputs": [],
   "source": [
    "backend = provider.get_backend(\"ibmq_manilla\")\n",
    "\n",
    "n = 3\n",
    "d = 2**n\n",
    "\n",
    "np.random.seed(42)\n",
    "random.seed(42)\n",
    "\n",
    "circuit = integrabel_clifford(3, 3)\n",
    "circuit_target_list = [circuit]"
   ]
  },
  {
   "cell_type": "code",
   "execution_count": 5,
   "metadata": {},
   "outputs": [
    {
     "name": "stdout",
     "output_type": "stream",
     "text": [
      "     ┌──────────────┐ ┌────────────┐┌─────────────┐┌─────────────┐»\n",
      "q_0: ┤ Rz(-0.78829) ├─┤0           ├┤ Rz(0.61989) ├┤ Rz(-2.7766) ├»\n",
      "     └┬────────────┬┘ │  iswap^0.5 │├─────────────┤└┬────────────┤»\n",
      "q_1: ─┤ Rz(2.8319) ├──┤1           ├┤ Rz(-2.1613) ├─┤0           ├»\n",
      "      ├────────────┤ ┌┴────────────┤└─────────────┘ │  iswap^0.5 │»\n",
      "q_2: ─┤ Rz(1.4577) ├─┤ Rz(-2.1615) ├────────────────┤1           ├»\n",
      "      └────────────┘ └─────────────┘                └────────────┘»\n",
      "«                    ┌────────────┐ ┌────────────┐┌────────────┐ ┌────────────┐»\n",
      "«q_0: ───────────────┤0           ├─┤ Rz(1.3074) ├┤0           ├─┤ Rz(2.0888) ├»\n",
      "«      ┌────────────┐│  iswap^0.5 │┌┴────────────┤│  iswap^0.5 │┌┴────────────┤»\n",
      "«q_1: ─┤ Rz(2.3008) ├┤1           ├┤ Rz(-3.0123) ├┤1           ├┤ Rz(-1.8074) ├»\n",
      "«     ┌┴────────────┤├────────────┤├─────────────┤└────────────┘└─────────────┘»\n",
      "«q_2: ┤ Rz(0.63532) ├┤ Rz(2.9525) ├┤ Rz(-1.9992) ├─────────────────────────────»\n",
      "«     └─────────────┘└────────────┘└─────────────┘                             »\n",
      "«     ┌─────────────┐                ┌────────────┐┌─────────────┐ »\n",
      "«q_0: ┤ Rz(-1.9892) ├────────────────┤0           ├┤ Rz(-0.4276) ├─»\n",
      "«     └┬────────────┤ ┌───────────┐  │  iswap^0.5 │├─────────────┤ »\n",
      "«q_1: ─┤0           ├─┤ Rz(-1.23) ├──┤1           ├┤ Rz(-1.3117) ├─»\n",
      "«      │  iswap^0.5 │┌┴───────────┴┐┌┴────────────┤├─────────────┴┐»\n",
      "«q_2: ─┤1           ├┤ Rz(0.15555) ├┤ Rz(0.70279) ├┤ Rz(-0.83967) ├»\n",
      "«      └────────────┘└─────────────┘└─────────────┘└──────────────┘»\n",
      "«     ┌────────────┐┌─────────────┐┌──────────────┐              ┌────────────┐\n",
      "«q_0: ┤0           ├┤ Rz(-2.2651) ├┤ Rz(-0.27602) ├──────────────┤0           ├\n",
      "«     │  iswap^0.5 │└┬────────────┤└┬────────────┬┘┌────────────┐│  iswap^0.5 │\n",
      "«q_1: ┤1           ├─┤ Rz(-1.306) ├─┤0           ├─┤ Rz(1.7918) ├┤1           ├\n",
      "«     └────────────┘ └────────────┘ │  iswap^0.5 │ ├────────────┤└────────────┘\n",
      "«q_2: ──────────────────────────────┤1           ├─┤ Rz(-1.887) ├──────────────\n",
      "«                                   └────────────┘ └────────────┘              \n"
     ]
    }
   ],
   "source": [
    "print(circuit)"
   ]
  },
  {
   "cell_type": "code",
   "execution_count": 6,
   "metadata": {},
   "outputs": [
    {
     "data": {
      "application/vnd.jupyter.widget-view+json": {
       "model_id": "e9f0a6f4b74f4a0e8675ef6c5e376cef",
       "version_major": 2,
       "version_minor": 0
      },
      "text/plain": [
       "  0%|          | 0/4 [00:00<?, ?it/s]"
      ]
     },
     "metadata": {},
     "output_type": "display_data"
    },
    {
     "data": {
      "application/vnd.jupyter.widget-view+json": {
       "model_id": "9ece2497480a4bb8ad4039a9f2d2ad32",
       "version_major": 2,
       "version_minor": 0
      },
      "text/plain": [
       "  0%|          | 0/5 [00:00<?, ?it/s]"
      ]
     },
     "metadata": {},
     "output_type": "display_data"
    },
    {
     "data": {
      "application/vnd.jupyter.widget-view+json": {
       "model_id": "f9f36fba1c904e94889a4d30b266e1fa",
       "version_major": 2,
       "version_minor": 0
      },
      "text/plain": [
       "  0%|          | 0/5 [00:00<?, ?it/s]"
      ]
     },
     "metadata": {},
     "output_type": "display_data"
    },
    {
     "data": {
      "application/vnd.jupyter.widget-view+json": {
       "model_id": "8d87bdddb3bd49ada6353e86f5619b44",
       "version_major": 2,
       "version_minor": 0
      },
      "text/plain": [
       "  0%|          | 0/5 [00:00<?, ?it/s]"
      ]
     },
     "metadata": {},
     "output_type": "display_data"
    },
    {
     "data": {
      "application/vnd.jupyter.widget-view+json": {
       "model_id": "54d0000262a54687add1d93099c68f2a",
       "version_major": 2,
       "version_minor": 0
      },
      "text/plain": [
       "  0%|          | 0/5 [00:00<?, ?it/s]"
      ]
     },
     "metadata": {},
     "output_type": "display_data"
    }
   ],
   "source": [
    "runner = ExecuteAndCollect()\n",
    "runner.setup_circuits(circuit_target_list, N_map = 2000-6**n)\n",
    "\n",
    "runner.execute_circuits(backend=backend, \n",
    "                        shots_map = 1024, \n",
    "                        shots_spam = 1024, \n",
    "                        filename=\"belem_3qubit_clifford\", \n",
    "                        concatenate=True)"
   ]
  },
  {
   "cell_type": "markdown",
   "metadata": {},
   "source": [
    "### Four qubits"
   ]
  },
  {
   "cell_type": "code",
   "execution_count": 8,
   "metadata": {},
   "outputs": [],
   "source": [
    "backend = provider.get_backend(\"ibmq_manila\")\n",
    "\n",
    "n = 4\n",
    "d = 2**n\n",
    "\n",
    "np.random.seed(42)\n",
    "random.seed(42)\n",
    "\n",
    "circuit = integrabel_circuit(4, 4, use_hadamard=True)\n",
    "circuit_target_list = [circuit]"
   ]
  },
  {
   "cell_type": "code",
   "execution_count": 9,
   "metadata": {},
   "outputs": [
    {
     "name": "stdout",
     "output_type": "stream",
     "text": [
      "     ┌───┐┌──────────────┐┌────────────┐┌─────────────┐┌─────────────┐»\n",
      "q_0: ┤ H ├┤ Rz(-0.78829) ├┤0           ├┤ Rz(-2.1613) ├┤ Rz(0.63532) ├»\n",
      "     ├───┤└┬────────────┬┘│  iswap^0.5 │├─────────────┤└┬────────────┤»\n",
      "q_1: ┤ H ├─┤ Rz(2.8319) ├─┤1           ├┤ Rz(-2.1615) ├─┤0           ├»\n",
      "     ├───┤ ├────────────┤ ├────────────┤├─────────────┤ │  iswap^0.5 │»\n",
      "q_2: ┤ H ├─┤ Rz(1.4577) ├─┤0           ├┤ Rz(-2.7766) ├─┤1           ├»\n",
      "     ├───┤┌┴────────────┤ │  iswap^0.5 │└┬────────────┤ ├────────────┤»\n",
      "q_3: ┤ H ├┤ Rz(0.61989) ├─┤1           ├─┤ Rz(2.3008) ├─┤ Rz(2.9525) ├»\n",
      "     └───┘└─────────────┘ └────────────┘ └────────────┘ └────────────┘»\n",
      "«                    ┌────────────┐ ┌────────────┐┌────────────┐ ┌───────────┐ »\n",
      "«q_0: ───────────────┤0           ├─┤ Rz(2.0888) ├┤0           ├─┤ Rz(-1.23) ├─»\n",
      "«      ┌────────────┐│  iswap^0.5 │┌┴────────────┤│  iswap^0.5 │┌┴───────────┴┐»\n",
      "«q_1: ─┤ Rz(1.3074) ├┤1           ├┤ Rz(-1.8074) ├┤1           ├┤ Rz(0.15555) ├»\n",
      "«     ┌┴────────────┤├────────────┤├─────────────┤├────────────┤├─────────────┤»\n",
      "«q_2: ┤ Rz(-3.0123) ├┤0           ├┤ Rz(-1.9992) ├┤0           ├┤ Rz(-0.4276) ├»\n",
      "«     └─────────────┘│  iswap^0.5 │├─────────────┤│  iswap^0.5 │├─────────────┤»\n",
      "«q_3: ───────────────┤1           ├┤ Rz(-1.9892) ├┤1           ├┤ Rz(-1.3117) ├»\n",
      "«                    └────────────┘└─────────────┘└────────────┘└─────────────┘»\n",
      "«     ┌─────────────┐                ┌────────────┐┌──────────────┐»\n",
      "«q_0: ┤ Rz(0.70279) ├────────────────┤0           ├┤ Rz(-0.27602) ├»\n",
      "«     └┬────────────┤ ┌─────────────┐│  iswap^0.5 │└┬────────────┬┘»\n",
      "«q_1: ─┤0           ├─┤ Rz(-2.2651) ├┤1           ├─┤ Rz(1.7918) ├─»\n",
      "«      │  iswap^0.5 │ └┬────────────┤├────────────┤ ├────────────┤ »\n",
      "«q_2: ─┤1           ├──┤ Rz(-1.306) ├┤0           ├─┤ Rz(-1.887) ├─»\n",
      "«     ┌┴────────────┴┐ └────────────┘│  iswap^0.5 │┌┴────────────┴┐»\n",
      "«q_3: ┤ Rz(-0.83967) ├───────────────┤1           ├┤ Rz(0.089438) ├»\n",
      "«     └──────────────┘               └────────────┘└──────────────┘»\n",
      "«     ┌────────────┐┌─────────────┐┌─────────────┐              ┌────────────┐»\n",
      "«q_0: ┤0           ├┤ Rz(0.58066) ├┤ Rz(-2.7329) ├──────────────┤0           ├»\n",
      "«     │  iswap^0.5 │├─────────────┤└┬────────────┤┌────────────┐│  iswap^0.5 │»\n",
      "«q_1: ┤1           ├┤ Rz(-2.8497) ├─┤0           ├┤ Rz(2.8204) ├┤1           ├»\n",
      "«     ├────────────┤├─────────────┤ │  iswap^0.5 │├────────────┤├────────────┤»\n",
      "«q_2: ┤0           ├┤ Rz(0.67572) ├─┤1           ├┤ Rz(2.9257) ├┤0           ├»\n",
      "«     │  iswap^0.5 │├─────────────┤ ├────────────┤└────────────┘│  iswap^0.5 │»\n",
      "«q_3: ┤1           ├┤ Rz(-2.0702) ├─┤ Rz(1.9377) ├──────────────┤1           ├»\n",
      "«     └────────────┘└─────────────┘ └────────────┘              └────────────┘»\n",
      "«     ┌─────────────┐ ┌────────────┐ ┌─────────────┐ ┌─────────────┐»\n",
      "«q_0: ┤ Rz(-1.2276) ├─┤0           ├─┤ Rz(-2.3748) ├─┤ Rz(-1.5156) ├»\n",
      "«     ├─────────────┤ │  iswap^0.5 │┌┴─────────────┴┐└┬────────────┤»\n",
      "«q_1: ┤ Rz(-2.5279) ├─┤1           ├┤ Rz(-0.030304) ├─┤0           ├»\n",
      "«     └┬────────────┤ ├────────────┤└┬─────────────┬┘ │  iswap^0.5 │»\n",
      "«q_2: ─┤ Rz(1.1576) ├─┤0           ├─┤ Rz(-2.9255) ├──┤1           ├»\n",
      "«     ┌┴────────────┴┐│  iswap^0.5 │ └┬────────────┤ ┌┴────────────┤»\n",
      "«q_3: ┤ Rz(-0.37603) ├┤1           ├──┤ Rz(2.5718) ├─┤ Rz(0.12609) ├»\n",
      "«     └──────────────┘└────────────┘  └────────────┘ └─────────────┘»\n",
      "«                    ┌────────────┐\n",
      "«q_0: ───────────────┤0           ├\n",
      "«      ┌────────────┐│  iswap^0.5 │\n",
      "«q_1: ─┤ Rz(1.0212) ├┤1           ├\n",
      "«     ┌┴────────────┤├────────────┤\n",
      "«q_2: ┤ Rz(-1.1831) ├┤0           ├\n",
      "«     └─────────────┘│  iswap^0.5 │\n",
      "«q_3: ───────────────┤1           ├\n",
      "«                    └────────────┘\n"
     ]
    }
   ],
   "source": [
    "print(circuit)"
   ]
  },
  {
   "cell_type": "code",
   "execution_count": 10,
   "metadata": {},
   "outputs": [
    {
     "data": {
      "application/vnd.jupyter.widget-view+json": {
       "model_id": "2027ec85b44e4c3d967f7445d8dd6672",
       "version_major": 2,
       "version_minor": 0
      },
      "text/plain": [
       "  0%|          | 0/20 [00:00<?, ?it/s]"
      ]
     },
     "metadata": {},
     "output_type": "display_data"
    },
    {
     "data": {
      "application/vnd.jupyter.widget-view+json": {
       "model_id": "52792185c5d746949d4c9c65fc00087b",
       "version_major": 2,
       "version_minor": 0
      },
      "text/plain": [
       "  0%|          | 0/5 [00:00<?, ?it/s]"
      ]
     },
     "metadata": {},
     "output_type": "display_data"
    },
    {
     "data": {
      "application/vnd.jupyter.widget-view+json": {
       "model_id": "2d4cc89c76ef45c8846bfae8c354c681",
       "version_major": 2,
       "version_minor": 0
      },
      "text/plain": [
       "  0%|          | 0/5 [00:00<?, ?it/s]"
      ]
     },
     "metadata": {},
     "output_type": "display_data"
    },
    {
     "data": {
      "application/vnd.jupyter.widget-view+json": {
       "model_id": "33ee7d176be54869b862b07b71ad3086",
       "version_major": 2,
       "version_minor": 0
      },
      "text/plain": [
       "  0%|          | 0/5 [00:00<?, ?it/s]"
      ]
     },
     "metadata": {},
     "output_type": "display_data"
    },
    {
     "data": {
      "application/vnd.jupyter.widget-view+json": {
       "model_id": "508761e58b6e4422b9f9173c3655e27f",
       "version_major": 2,
       "version_minor": 0
      },
      "text/plain": [
       "  0%|          | 0/5 [00:00<?, ?it/s]"
      ]
     },
     "metadata": {},
     "output_type": "display_data"
    },
    {
     "data": {
      "application/vnd.jupyter.widget-view+json": {
       "model_id": "09747af4d3614d36b79318e71dc9ecb4",
       "version_major": 2,
       "version_minor": 0
      },
      "text/plain": [
       "  0%|          | 0/5 [00:00<?, ?it/s]"
      ]
     },
     "metadata": {},
     "output_type": "display_data"
    },
    {
     "data": {
      "application/vnd.jupyter.widget-view+json": {
       "model_id": "29d81fc1cb0447f59baabf434dd4b7a7",
       "version_major": 2,
       "version_minor": 0
      },
      "text/plain": [
       "  0%|          | 0/5 [00:00<?, ?it/s]"
      ]
     },
     "metadata": {},
     "output_type": "display_data"
    },
    {
     "data": {
      "application/vnd.jupyter.widget-view+json": {
       "model_id": "c491e37a636e43cfbfdb6c0acea19418",
       "version_major": 2,
       "version_minor": 0
      },
      "text/plain": [
       "  0%|          | 0/5 [00:00<?, ?it/s]"
      ]
     },
     "metadata": {},
     "output_type": "display_data"
    },
    {
     "data": {
      "application/vnd.jupyter.widget-view+json": {
       "model_id": "46e31e9f9f8d4c75ba8316864b8c0218",
       "version_major": 2,
       "version_minor": 0
      },
      "text/plain": [
       "  0%|          | 0/5 [00:00<?, ?it/s]"
      ]
     },
     "metadata": {},
     "output_type": "display_data"
    },
    {
     "data": {
      "application/vnd.jupyter.widget-view+json": {
       "model_id": "4420049e7a684e3d8483467d2bee22b8",
       "version_major": 2,
       "version_minor": 0
      },
      "text/plain": [
       "  0%|          | 0/5 [00:00<?, ?it/s]"
      ]
     },
     "metadata": {},
     "output_type": "display_data"
    },
    {
     "data": {
      "application/vnd.jupyter.widget-view+json": {
       "model_id": "761a53bed4ca49b2bcef0622b5786eb6",
       "version_major": 2,
       "version_minor": 0
      },
      "text/plain": [
       "  0%|          | 0/5 [00:00<?, ?it/s]"
      ]
     },
     "metadata": {},
     "output_type": "display_data"
    },
    {
     "data": {
      "application/vnd.jupyter.widget-view+json": {
       "model_id": "1808dfee842f4cbfaf747f390cca48bf",
       "version_major": 2,
       "version_minor": 0
      },
      "text/plain": [
       "  0%|          | 0/5 [00:00<?, ?it/s]"
      ]
     },
     "metadata": {},
     "output_type": "display_data"
    },
    {
     "data": {
      "application/vnd.jupyter.widget-view+json": {
       "model_id": "5fa135dd752d4c5594af0fa9eddf2527",
       "version_major": 2,
       "version_minor": 0
      },
      "text/plain": [
       "  0%|          | 0/5 [00:00<?, ?it/s]"
      ]
     },
     "metadata": {},
     "output_type": "display_data"
    },
    {
     "data": {
      "application/vnd.jupyter.widget-view+json": {
       "model_id": "d4310f0cdcbb440693c4b421e3648d08",
       "version_major": 2,
       "version_minor": 0
      },
      "text/plain": [
       "  0%|          | 0/5 [00:00<?, ?it/s]"
      ]
     },
     "metadata": {},
     "output_type": "display_data"
    },
    {
     "data": {
      "application/vnd.jupyter.widget-view+json": {
       "model_id": "3f3949a980f04d9ca671237a141f5583",
       "version_major": 2,
       "version_minor": 0
      },
      "text/plain": [
       "  0%|          | 0/5 [00:00<?, ?it/s]"
      ]
     },
     "metadata": {},
     "output_type": "display_data"
    },
    {
     "data": {
      "application/vnd.jupyter.widget-view+json": {
       "model_id": "5b6a5ebec6b24d1bb37fd9c00e7e3c55",
       "version_major": 2,
       "version_minor": 0
      },
      "text/plain": [
       "  0%|          | 0/5 [00:00<?, ?it/s]"
      ]
     },
     "metadata": {},
     "output_type": "display_data"
    },
    {
     "data": {
      "application/vnd.jupyter.widget-view+json": {
       "model_id": "035ded5facb7483488e33a30f9892ccd",
       "version_major": 2,
       "version_minor": 0
      },
      "text/plain": [
       "  0%|          | 0/5 [00:00<?, ?it/s]"
      ]
     },
     "metadata": {},
     "output_type": "display_data"
    },
    {
     "data": {
      "application/vnd.jupyter.widget-view+json": {
       "model_id": "09abf0029eab490c87fef3f15e865214",
       "version_major": 2,
       "version_minor": 0
      },
      "text/plain": [
       "  0%|          | 0/5 [00:00<?, ?it/s]"
      ]
     },
     "metadata": {},
     "output_type": "display_data"
    },
    {
     "data": {
      "application/vnd.jupyter.widget-view+json": {
       "model_id": "75bd0acfc3274a069e71107d34709d89",
       "version_major": 2,
       "version_minor": 0
      },
      "text/plain": [
       "  0%|          | 0/5 [00:00<?, ?it/s]"
      ]
     },
     "metadata": {},
     "output_type": "display_data"
    },
    {
     "data": {
      "application/vnd.jupyter.widget-view+json": {
       "model_id": "236c1787f3d049c9b3351ab6f0b7fc4c",
       "version_major": 2,
       "version_minor": 0
      },
      "text/plain": [
       "  0%|          | 0/5 [00:00<?, ?it/s]"
      ]
     },
     "metadata": {},
     "output_type": "display_data"
    },
    {
     "data": {
      "application/vnd.jupyter.widget-view+json": {
       "model_id": "8ab4b26f7c5546d0a73989cb9856646d",
       "version_major": 2,
       "version_minor": 0
      },
      "text/plain": [
       "  0%|          | 0/5 [00:00<?, ?it/s]"
      ]
     },
     "metadata": {},
     "output_type": "display_data"
    }
   ],
   "source": [
    "runner = ExecuteAndCollect()\n",
    "runner.setup_circuits(circuit_target_list, N_map = 10000-6**n)\n",
    "\n",
    "runner.execute_circuits(backend=backend, \n",
    "                        shots_map = 1024, \n",
    "                        shots_spam = 1024, \n",
    "                        filename=\"manila_4qubit_integrable\", \n",
    "                        concatenate=True)"
   ]
  },
  {
   "cell_type": "code",
   "execution_count": 14,
   "metadata": {},
   "outputs": [],
   "source": [
    "backend = provider.get_backend(\"ibmq_manila\")\n",
    "\n",
    "n = 4\n",
    "d = 2**n\n",
    "\n",
    "np.random.seed(42)\n",
    "random.seed(42)\n",
    "\n",
    "circuit = nonintegrabel_circuit(4, 4)\n",
    "circuit_target_list = [circuit]"
   ]
  },
  {
   "cell_type": "code",
   "execution_count": 15,
   "metadata": {},
   "outputs": [
    {
     "name": "stdout",
     "output_type": "stream",
     "text": [
      "     ┌────────┐┌────────────┐ ┌───────┐   ┌────────┐            ┌────────────┐»\n",
      "q_0: ┤ y^0.25 ├┤0           ├─┤ y^0.5 ├───┤ y^0.25 ├────────────┤0           ├»\n",
      "     ├────────┤│  iswap^0.5 │┌┴───────┴┐┌─┴────────┴─┐┌────────┐│  iswap^0.5 │»\n",
      "q_1: ┤ y^-0.5 ├┤1           ├┤ y^-0.25 ├┤0           ├┤ x^-0.5 ├┤1           ├»\n",
      "     ├────────┤├────────────┤└┬────────┤│  iswap^0.5 │├───────┬┘├────────────┤»\n",
      "q_2: ┤ x^0.25 ├┤0           ├─┤ x^0.25 ├┤1           ├┤ y^0.5 ├─┤0           ├»\n",
      "     ├────────┤│  iswap^0.5 │ ├────────┤└─┬────────┬─┘└───────┘ │  iswap^0.5 │»\n",
      "q_3: ┤ y^0.25 ├┤1           ├─┤ x^0.25 ├──┤ y^0.25 ├────────────┤1           ├»\n",
      "     └────────┘└────────────┘ └────────┘  └────────┘            └────────────┘»\n",
      "«      ┌───────┐ ┌────────────┐ ┌────────┐ ┌─────────┐            »\n",
      "«q_0: ─┤ y^0.5 ├─┤0           ├─┤ y^-0.5 ├─┤ x^-0.25 ├────────────»\n",
      "«      ├───────┤ │  iswap^0.5 │┌┴────────┤┌┴─────────┴─┐┌────────┐»\n",
      "«q_1: ─┤ y^0.5 ├─┤1           ├┤ y^-0.25 ├┤0           ├┤ x^0.25 ├»\n",
      "«     ┌┴───────┴┐├────────────┤├─────────┤│  iswap^0.5 │├────────┤»\n",
      "«q_2: ┤ y^-0.25 ├┤0           ├┤ y^-0.25 ├┤1           ├┤ x^-0.5 ├»\n",
      "«     └┬────────┤│  iswap^0.5 │└┬───────┬┘└┬─────────┬─┘└────────┘»\n",
      "«q_3: ─┤ x^0.25 ├┤1           ├─┤ y^0.5 ├──┤ y^-0.25 ├────────────»\n",
      "«      └────────┘└────────────┘ └───────┘  └─────────┘            »\n",
      "«     ┌────────────┐ ┌────────┐┌────────────┐┌─────────┐  ┌────────┐  »\n",
      "«q_0: ┤0           ├─┤ y^-0.5 ├┤0           ├┤ y^-0.25 ├──┤ y^-0.5 ├──»\n",
      "«     │  iswap^0.5 │┌┴────────┤│  iswap^0.5 │└┬────────┤┌─┴────────┴─┐»\n",
      "«q_1: ┤1           ├┤ x^-0.25 ├┤1           ├─┤ y^-0.5 ├┤0           ├»\n",
      "«     ├────────────┤├─────────┤├────────────┤ ├────────┤│  iswap^0.5 │»\n",
      "«q_2: ┤0           ├┤ x^-0.25 ├┤0           ├─┤ x^0.25 ├┤1           ├»\n",
      "«     │  iswap^0.5 │└┬────────┤│  iswap^0.5 │ ├───────┬┘└─┬────────┬─┘»\n",
      "«q_3: ┤1           ├─┤ x^-0.5 ├┤1           ├─┤ x^0.5 ├───┤ x^0.25 ├──»\n",
      "«     └────────────┘ └────────┘└────────────┘ └───────┘   └────────┘  »\n",
      "«                ┌────────────┐┌────────┐┌────────────┐ ┌───────┐ »\n",
      "«q_0: ───────────┤0           ├┤ y^-0.5 ├┤0           ├─┤ y^0.5 ├─»\n",
      "«      ┌────────┐│  iswap^0.5 │├───────┬┘│  iswap^0.5 │ ├───────┴┐»\n",
      "«q_1: ─┤ x^-0.5 ├┤1           ├┤ x^0.5 ├─┤1           ├─┤ y^0.25 ├»\n",
      "«     ┌┴────────┤├────────────┤├───────┤ ├────────────┤ ├────────┤»\n",
      "«q_2: ┤ x^-0.25 ├┤0           ├┤ x^0.5 ├─┤0           ├─┤ x^-0.5 ├»\n",
      "«     └─────────┘│  iswap^0.5 │├───────┤ │  iswap^0.5 │┌┴────────┤»\n",
      "«q_3: ───────────┤1           ├┤ y^0.5 ├─┤1           ├┤ y^-0.25 ├»\n",
      "«                └────────────┘└───────┘ └────────────┘└─────────┘»\n",
      "«       ┌────────┐             ┌────────────┐\n",
      "«q_0: ──┤ y^-0.5 ├─────────────┤0           ├\n",
      "«     ┌─┴────────┴─┐ ┌────────┐│  iswap^0.5 │\n",
      "«q_1: ┤0           ├─┤ y^-0.5 ├┤1           ├\n",
      "«     │  iswap^0.5 │┌┴────────┤├────────────┤\n",
      "«q_2: ┤1           ├┤ y^-0.25 ├┤0           ├\n",
      "«     └─┬────────┬─┘└─────────┘│  iswap^0.5 │\n",
      "«q_3: ──┤ y^0.25 ├─────────────┤1           ├\n",
      "«       └────────┘             └────────────┘\n"
     ]
    }
   ],
   "source": [
    "print(circuit)"
   ]
  },
  {
   "cell_type": "code",
   "execution_count": 16,
   "metadata": {},
   "outputs": [
    {
     "data": {
      "application/vnd.jupyter.widget-view+json": {
       "model_id": "0a81c8e8d4e64ce98ec59c79d3a11c1c",
       "version_major": 2,
       "version_minor": 0
      },
      "text/plain": [
       "  0%|          | 0/20 [00:00<?, ?it/s]"
      ]
     },
     "metadata": {},
     "output_type": "display_data"
    },
    {
     "data": {
      "application/vnd.jupyter.widget-view+json": {
       "model_id": "f113ca4bbeb242619b8424f26d75037a",
       "version_major": 2,
       "version_minor": 0
      },
      "text/plain": [
       "  0%|          | 0/5 [00:00<?, ?it/s]"
      ]
     },
     "metadata": {},
     "output_type": "display_data"
    },
    {
     "data": {
      "application/vnd.jupyter.widget-view+json": {
       "model_id": "88725b4ced224751911be62ac01f34ce",
       "version_major": 2,
       "version_minor": 0
      },
      "text/plain": [
       "  0%|          | 0/5 [00:00<?, ?it/s]"
      ]
     },
     "metadata": {},
     "output_type": "display_data"
    },
    {
     "data": {
      "application/vnd.jupyter.widget-view+json": {
       "model_id": "f8b4ad97f41a45dab6ef6c80f01478f6",
       "version_major": 2,
       "version_minor": 0
      },
      "text/plain": [
       "  0%|          | 0/5 [00:00<?, ?it/s]"
      ]
     },
     "metadata": {},
     "output_type": "display_data"
    },
    {
     "data": {
      "application/vnd.jupyter.widget-view+json": {
       "model_id": "98ef64261d5c449ebe22c440fd7a03fd",
       "version_major": 2,
       "version_minor": 0
      },
      "text/plain": [
       "  0%|          | 0/5 [00:00<?, ?it/s]"
      ]
     },
     "metadata": {},
     "output_type": "display_data"
    },
    {
     "data": {
      "application/vnd.jupyter.widget-view+json": {
       "model_id": "bc10b159143c4d1f948a532b62e37c4d",
       "version_major": 2,
       "version_minor": 0
      },
      "text/plain": [
       "  0%|          | 0/5 [00:00<?, ?it/s]"
      ]
     },
     "metadata": {},
     "output_type": "display_data"
    },
    {
     "data": {
      "application/vnd.jupyter.widget-view+json": {
       "model_id": "04dd0752329640ff8146ad3be0f477e2",
       "version_major": 2,
       "version_minor": 0
      },
      "text/plain": [
       "  0%|          | 0/5 [00:00<?, ?it/s]"
      ]
     },
     "metadata": {},
     "output_type": "display_data"
    },
    {
     "data": {
      "application/vnd.jupyter.widget-view+json": {
       "model_id": "3b67356b62154dcca9721985a996cb66",
       "version_major": 2,
       "version_minor": 0
      },
      "text/plain": [
       "  0%|          | 0/5 [00:00<?, ?it/s]"
      ]
     },
     "metadata": {},
     "output_type": "display_data"
    },
    {
     "data": {
      "application/vnd.jupyter.widget-view+json": {
       "model_id": "2f09bd560c3b490eb4a03295ca8e1a51",
       "version_major": 2,
       "version_minor": 0
      },
      "text/plain": [
       "  0%|          | 0/5 [00:00<?, ?it/s]"
      ]
     },
     "metadata": {},
     "output_type": "display_data"
    },
    {
     "data": {
      "application/vnd.jupyter.widget-view+json": {
       "model_id": "605260e119d04dab986a29b08f0aa349",
       "version_major": 2,
       "version_minor": 0
      },
      "text/plain": [
       "  0%|          | 0/5 [00:00<?, ?it/s]"
      ]
     },
     "metadata": {},
     "output_type": "display_data"
    },
    {
     "data": {
      "application/vnd.jupyter.widget-view+json": {
       "model_id": "d3a397ca0ff549668581f96bd4ff0213",
       "version_major": 2,
       "version_minor": 0
      },
      "text/plain": [
       "  0%|          | 0/5 [00:00<?, ?it/s]"
      ]
     },
     "metadata": {},
     "output_type": "display_data"
    },
    {
     "data": {
      "application/vnd.jupyter.widget-view+json": {
       "model_id": "68ba6e04df8243d886aaa41da2458ab8",
       "version_major": 2,
       "version_minor": 0
      },
      "text/plain": [
       "  0%|          | 0/5 [00:00<?, ?it/s]"
      ]
     },
     "metadata": {},
     "output_type": "display_data"
    },
    {
     "data": {
      "application/vnd.jupyter.widget-view+json": {
       "model_id": "c0bd7dc971e7415cb025f54d72e427fd",
       "version_major": 2,
       "version_minor": 0
      },
      "text/plain": [
       "  0%|          | 0/5 [00:00<?, ?it/s]"
      ]
     },
     "metadata": {},
     "output_type": "display_data"
    },
    {
     "data": {
      "application/vnd.jupyter.widget-view+json": {
       "model_id": "338220f0326e484387323ce9f759d02f",
       "version_major": 2,
       "version_minor": 0
      },
      "text/plain": [
       "  0%|          | 0/5 [00:00<?, ?it/s]"
      ]
     },
     "metadata": {},
     "output_type": "display_data"
    },
    {
     "data": {
      "application/vnd.jupyter.widget-view+json": {
       "model_id": "7cb6fd4334d8476aad563049099d83cf",
       "version_major": 2,
       "version_minor": 0
      },
      "text/plain": [
       "  0%|          | 0/5 [00:00<?, ?it/s]"
      ]
     },
     "metadata": {},
     "output_type": "display_data"
    },
    {
     "data": {
      "application/vnd.jupyter.widget-view+json": {
       "model_id": "575fc175c98849118048d216e8dec525",
       "version_major": 2,
       "version_minor": 0
      },
      "text/plain": [
       "  0%|          | 0/5 [00:00<?, ?it/s]"
      ]
     },
     "metadata": {},
     "output_type": "display_data"
    },
    {
     "data": {
      "application/vnd.jupyter.widget-view+json": {
       "model_id": "b7a70bf70cdf49618d40dc6ef4c1bc1c",
       "version_major": 2,
       "version_minor": 0
      },
      "text/plain": [
       "  0%|          | 0/5 [00:00<?, ?it/s]"
      ]
     },
     "metadata": {},
     "output_type": "display_data"
    },
    {
     "data": {
      "application/vnd.jupyter.widget-view+json": {
       "model_id": "8ca823425d1b4d2cb9a6246ef308da4c",
       "version_major": 2,
       "version_minor": 0
      },
      "text/plain": [
       "  0%|          | 0/5 [00:00<?, ?it/s]"
      ]
     },
     "metadata": {},
     "output_type": "display_data"
    },
    {
     "data": {
      "application/vnd.jupyter.widget-view+json": {
       "model_id": "1dc169f92af64651a4ca07068872d9e9",
       "version_major": 2,
       "version_minor": 0
      },
      "text/plain": [
       "  0%|          | 0/5 [00:00<?, ?it/s]"
      ]
     },
     "metadata": {},
     "output_type": "display_data"
    },
    {
     "data": {
      "application/vnd.jupyter.widget-view+json": {
       "model_id": "a38d22ee2f544593bc7659f996dbc5b7",
       "version_major": 2,
       "version_minor": 0
      },
      "text/plain": [
       "  0%|          | 0/5 [00:00<?, ?it/s]"
      ]
     },
     "metadata": {},
     "output_type": "display_data"
    },
    {
     "data": {
      "application/vnd.jupyter.widget-view+json": {
       "model_id": "eade75ce590c4608bc416a05dba915bc",
       "version_major": 2,
       "version_minor": 0
      },
      "text/plain": [
       "  0%|          | 0/5 [00:00<?, ?it/s]"
      ]
     },
     "metadata": {},
     "output_type": "display_data"
    }
   ],
   "source": [
    "runner = ExecuteAndCollect()\n",
    "runner.setup_circuits(circuit_target_list, N_map = 10000-6**n)\n",
    "\n",
    "runner.execute_circuits(backend=backend, \n",
    "                        shots_map = 1024, \n",
    "                        shots_spam = 1024, \n",
    "                        filename=\"manila_4qubit_nonintegrable\", \n",
    "                        concatenate=True)"
   ]
  },
  {
   "cell_type": "code",
   "execution_count": null,
   "metadata": {},
   "outputs": [],
   "source": []
  }
 ],
 "metadata": {
  "kernelspec": {
   "display_name": "env_qiskit",
   "language": "python",
   "name": "env_qiskit"
  },
  "language_info": {
   "codemirror_mode": {
    "name": "ipython",
    "version": 3
   },
   "file_extension": ".py",
   "mimetype": "text/x-python",
   "name": "python",
   "nbconvert_exporter": "python",
   "pygments_lexer": "ipython3",
   "version": "3.10.4"
  }
 },
 "nbformat": 4,
 "nbformat_minor": 4
}
