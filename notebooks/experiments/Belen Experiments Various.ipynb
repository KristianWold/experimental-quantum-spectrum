{
 "cells": [
  {
   "attachments": {},
   "cell_type": "markdown",
   "metadata": {},
   "source": [
    "# Belen Experiments Various"
   ]
  },
  {
   "cell_type": "code",
   "execution_count": 1,
   "metadata": {},
   "outputs": [],
   "source": [
    "import sys\n",
    "sys.path.insert(0, '../../src_tf/')\n",
    "\n",
    "import numpy as np\n",
    "import qiskit as qk\n",
    "import matplotlib.pyplot as plt\n",
    "import multiprocessing as mp\n",
    "import random\n",
    "import pickle\n",
    "\n",
    "from qiskit.quantum_info import DensityMatrix, random_unitary, random_clifford\n",
    "from qiskit.quantum_info import Operator\n",
    "from scipy.linalg import sqrtm\n",
    "from tqdm.notebook import tqdm\n",
    "\n",
    "from loss_functions import *\n",
    "from optimization import *\n",
    "from quantum_channel import *\n",
    "from kraus_channels import *\n",
    "from quantum_tools import *\n",
    "from experimental import *\n",
    "from spam import *\n",
    "from quantum_circuits import *\n",
    "\n",
    "#np.set_printoptions(threshold=sys.maxsize)\n",
    "np.set_printoptions(precision=4)\n",
    "\n",
    "import os\n",
    "os.environ[\"CUDA_VISIBLE_DEVICES\"] = \"-1\""
   ]
  },
  {
   "cell_type": "code",
   "execution_count": 2,
   "metadata": {},
   "outputs": [],
   "source": [
    "from qiskit import QuantumRegister, ClassicalRegister, QuantumCircuit\n",
    "from qiskit.tools.visualization import circuit_drawer\n",
    "from qiskit.quantum_info import random_unitary, Operator\n",
    "from qiskit.providers.fake_provider import FakeManilaV2\n",
    "\n",
    "from qiskit import Aer"
   ]
  },
  {
   "cell_type": "code",
   "execution_count": 3,
   "metadata": {},
   "outputs": [],
   "source": [
    "qk.IBMQ.save_account(\"aaff224a30e77d3ea3af33e2e3fb1cebfbff4e33b04ef75fdbbb9e9055426f547739b68d5b93dac4d47e7828d840a212436b1c36a358f9185574ce60af9a9f53\", overwrite=True) \n",
    "provider = qk.IBMQ.load_account()\n",
    "provider = qk.IBMQ.get_provider(hub='ibm-q', group='open', project='main')"
   ]
  },
  {
   "attachments": {},
   "cell_type": "markdown",
   "metadata": {},
   "source": [
    "## Concatenate Circuits"
   ]
  },
  {
   "cell_type": "code",
   "execution_count": null,
   "metadata": {},
   "outputs": [],
   "source": [
    "backend = provider.get_backend(\"ibmq_belem\")\n",
    "\n",
    "n = 3\n",
    "d = 2**n\n",
    "\n",
    "np.random.seed(42)\n",
    "random.seed(42)\n",
    "for i in range(10):\n",
    "    circuit_target1 = pqc_basic(n, 2).reverse_bits()\n",
    "    circuit_target2 = pqc_basic(n, 2).reverse_bits()\n",
    "\n",
    "    circuit_target12 = deepcopy(circuit_target1)\n",
    "    circuit_target12 = circuit_target12.compose(circuit_target2)\n",
    "    circuit_target_list = [circuit_target1, circuit_target2, circuit_target12]\n",
    "    \n",
    "    belem_concatenate = ExecuteAndCollect()\n",
    "    belem_concatenate.setup_circuits(circuit_target_list, N_map = 2000-6**n)\n",
    "\n",
    "    belem_concatenate.execute_circuits(backend=backend, \n",
    "                                       shots_map = 1024, \n",
    "                                       shots_spam = 1024, \n",
    "                                       filename=f\"belem_concatenate_2layer{i}\", \n",
    "                                       concatenate=True)"
   ]
  },
  {
   "cell_type": "code",
   "execution_count": null,
   "metadata": {},
   "outputs": [],
   "source": [
    "backend = provider.get_backend(\"ibmq_belem\")\n",
    "\n",
    "n = 3\n",
    "d = 2**n\n",
    "\n",
    "np.random.seed(42)\n",
    "random.seed(42)\n",
    "for i in range(10):\n",
    "    circuit_target1 = pqc_basic(n, 4).reverse_bits()\n",
    "    circuit_target2 = pqc_basic(n, 4).reverse_bits()\n",
    "\n",
    "    circuit_target12 = deepcopy(circuit_target1)\n",
    "    circuit_target12 = circuit_target12.compose(circuit_target2)\n",
    "    circuit_target_list = [circuit_target1, circuit_target2, circuit_target12]\n",
    "    \n",
    "    belem_concatenate = ExecuteAndCollect()\n",
    "    belem_concatenate.setup_circuits(circuit_target_list, N_map = 2000-6**n)\n",
    "\n",
    "    belem_concatenate.execute_circuits(backend=backend, \n",
    "                                       shots_map = 1024, \n",
    "                                       shots_spam = 1024, \n",
    "                                       filename=f\"belem_concatenate_4layer{i}\", \n",
    "                                       concatenate=True)"
   ]
  },
  {
   "cell_type": "code",
   "execution_count": null,
   "metadata": {},
   "outputs": [],
   "source": [
    "backend = provider.get_backend(\"ibmq_belem\")\n",
    "\n",
    "n = 3\n",
    "d = 2**n\n",
    "\n",
    "np.random.seed(42)\n",
    "random.seed(42)\n",
    "for i in range(10):\n",
    "    circuit_target1 = pqc_basic(n, 6).reverse_bits()\n",
    "    circuit_target2 = pqc_basic(n, 6).reverse_bits()\n",
    "\n",
    "    circuit_target12 = deepcopy(circuit_target1)\n",
    "    circuit_target12 = circuit_target12.compose(circuit_target2)\n",
    "    circuit_target_list = [circuit_target1, circuit_target2, circuit_target12]\n",
    "    \n",
    "    belem_concatenate = ExecuteAndCollect()\n",
    "    belem_concatenate.setup_circuits(circuit_target_list, N_map = 2000-6**n)\n",
    "\n",
    "    belem_concatenate.execute_circuits(backend=backend, \n",
    "                                       shots_map = 1024, \n",
    "                                       shots_spam = 1024, \n",
    "                                       filename=f\"belem_concatenate_6layer_retry2{i}\", \n",
    "                                       concatenate=True)"
   ]
  },
  {
   "cell_type": "code",
   "execution_count": null,
   "metadata": {},
   "outputs": [],
   "source": [
    "backend = provider.get_backend(\"ibmq_belem\")\n",
    "\n",
    "n = 3\n",
    "d = 2**n\n",
    "\n",
    "np.random.seed(42)\n",
    "random.seed(42)\n",
    "for i in range(10):\n",
    "    \n",
    "    circuit_target1 = pqc_basic(n, 8).reverse_bits()\n",
    "    circuit_target2 = pqc_basic(n, 8).reverse_bits()\n",
    "\n",
    "    circuit_target12 = deepcopy(circuit_target1)\n",
    "    circuit_target12 = circuit_target12.compose(circuit_target2)\n",
    "    circuit_target_list = [circuit_target1, circuit_target2, circuit_target12]\n",
    "    \n",
    "    belem_concatenate = ExecuteAndCollect()\n",
    "    belem_concatenate.setup_circuits(circuit_target_list, N_map = 2000-6**n)\n",
    "    \n",
    "    belem_concatenate.execute_circuits(backend=backend, \n",
    "                                       shots_map = 1024, \n",
    "                                       shots_spam = 1024, \n",
    "                                       filename=f\"belem_concatenate_8layer{i}\", \n",
    "                                       concatenate=True)"
   ]
  },
  {
   "attachments": {},
   "cell_type": "markdown",
   "metadata": {},
   "source": [
    "## Integrable Circuit"
   ]
  },
  {
   "attachments": {},
   "cell_type": "markdown",
   "metadata": {},
   "source": [
    "### Deep"
   ]
  },
  {
   "cell_type": "code",
   "execution_count": null,
   "metadata": {},
   "outputs": [],
   "source": [
    "backend = provider.get_backend(\"ibmq_manila\")\n",
    "\n",
    "n = 4\n",
    "d = 2**n\n",
    "\n",
    "np.random.seed(42)\n",
    "random.seed(42)\n",
    "\n",
    "circuit = integrable_circuit(4, 4)\n",
    "circuit_target_list = [circuit]"
   ]
  },
  {
   "cell_type": "code",
   "execution_count": null,
   "metadata": {},
   "outputs": [],
   "source": [
    "print(circuit)"
   ]
  },
  {
   "cell_type": "code",
   "execution_count": null,
   "metadata": {},
   "outputs": [],
   "source": [
    "runner = ExecuteAndCollect()\n",
    "runner.setup_circuits(circuit_target_list, N_map = 10000-6**n)\n",
    "\n",
    "runner.execute_circuits(backend=backend, \n",
    "                        shots_map = 1024, \n",
    "                        shots_spam = 1024, \n",
    "                        filename=\"manila_4qubit_integrable_alternative\", \n",
    "                        concatenate=True)"
   ]
  },
  {
   "attachments": {},
   "cell_type": "markdown",
   "metadata": {},
   "source": [
    "### Shallow"
   ]
  },
  {
   "cell_type": "code",
   "execution_count": null,
   "metadata": {},
   "outputs": [],
   "source": [
    "backend = provider.get_backend(\"ibmq_lima\")\n",
    "\n",
    "n = 4\n",
    "d = 2**n\n",
    "\n",
    "np.random.seed(42)\n",
    "random.seed(42)\n",
    "\n",
    "circuit = integrable_circuit(4, 2)\n",
    "circuit_target_list = [circuit]\n",
    "\n",
    "print(circuit)"
   ]
  },
  {
   "cell_type": "code",
   "execution_count": null,
   "metadata": {},
   "outputs": [],
   "source": [
    "runner = ExecuteAndCollect()\n",
    "runner.setup_circuits(circuit_target_list, N_map = 10000-6**n)\n",
    "\n",
    "runner.execute_circuits(backend=backend, \n",
    "                        shots_map = 1024, \n",
    "                        shots_spam = 1024, \n",
    "                        filename=\"lima_4qubit_integrable_shallow2\", \n",
    "                        concatenate=True)"
   ]
  },
  {
   "cell_type": "code",
   "execution_count": null,
   "metadata": {},
   "outputs": [],
   "source": [
    "backend = provider.get_backend(\"ibmq_lima\")\n",
    "\n",
    "n = 4\n",
    "d = 2**n\n",
    "\n",
    "np.random.seed(42)\n",
    "random.seed(42)\n",
    "\n",
    "circuit = nonintegrable_circuit(4, 2)\n",
    "circuit_target_list = [circuit]\n",
    "\n",
    "print(circuit)"
   ]
  },
  {
   "cell_type": "code",
   "execution_count": null,
   "metadata": {},
   "outputs": [],
   "source": [
    "runner = ExecuteAndCollect()\n",
    "runner.setup_circuits(circuit_target_list, N_map = 10000-6**n)\n",
    "\n",
    "runner.execute_circuits(backend=backend, \n",
    "                        shots_map = 1024, \n",
    "                        shots_spam = 1024, \n",
    "                        filename=\"lima_4qubit_nonintegrable_shallow\", \n",
    "                        concatenate=True)"
   ]
  },
  {
   "attachments": {},
   "cell_type": "markdown",
   "metadata": {},
   "source": [
    "## Non-Integrable Circuit"
   ]
  },
  {
   "attachments": {},
   "cell_type": "markdown",
   "metadata": {},
   "source": [
    "### Deep"
   ]
  },
  {
   "cell_type": "code",
   "execution_count": null,
   "metadata": {},
   "outputs": [],
   "source": [
    "backend = provider.get_backend(\"ibmq_manila\")\n",
    "\n",
    "n = 4\n",
    "d = 2**n\n",
    "\n",
    "np.random.seed(42)\n",
    "random.seed(42)\n",
    "\n",
    "circuit = nonintegrable_circuit(4, 4)\n",
    "circuit_target_list = [circuit]\n",
    "\n",
    "print(circuit)"
   ]
  },
  {
   "cell_type": "code",
   "execution_count": null,
   "metadata": {},
   "outputs": [],
   "source": [
    "runner = ExecuteAndCollect()\n",
    "runner.setup_circuits(circuit_target_list, N_map = 10000-6**n)\n",
    "\n",
    "runner.execute_circuits(backend=backend, \n",
    "                        shots_map = 1024, \n",
    "                        shots_spam = 1024, \n",
    "                        filename=\"manila_4qubit_nonintegrable_alternative\", \n",
    "                        concatenate=True)"
   ]
  },
  {
   "attachments": {},
   "cell_type": "markdown",
   "metadata": {},
   "source": [
    "### Shallow"
   ]
  },
  {
   "cell_type": "code",
   "execution_count": null,
   "metadata": {},
   "outputs": [],
   "source": [
    "backend = provider.get_backend(\"ibmq_manila\")\n",
    "\n",
    "n = 4\n",
    "d = 2**n\n",
    "\n",
    "np.random.seed(42)\n",
    "random.seed(42)\n",
    "\n",
    "circuit = nonintegrable_circuit(4, 2)\n",
    "circuit_target_list = [circuit]\n",
    "\n",
    "print(circuit)"
   ]
  },
  {
   "cell_type": "code",
   "execution_count": null,
   "metadata": {},
   "outputs": [],
   "source": [
    "runner = ExecuteAndCollect()\n",
    "runner.setup_circuits(circuit_target_list, N_map = 10000-6**n)\n",
    "\n",
    "runner.execute_circuits(backend=backend, \n",
    "                        shots_map = 1024, \n",
    "                        shots_spam = 1024, \n",
    "                        filename=\"manila_4qubit_nonintegrable_shallow\", \n",
    "                        concatenate=True)"
   ]
  },
  {
   "attachments": {},
   "cell_type": "markdown",
   "metadata": {},
   "source": [
    "## Clifford Circuit"
   ]
  },
  {
   "cell_type": "code",
   "execution_count": null,
   "metadata": {},
   "outputs": [],
   "source": [
    "backend = provider.get_backend(\"ibmq_belem\")\n",
    "\n",
    "n = 4\n",
    "d = 2**n\n",
    "\n",
    "np.random.seed(42)\n",
    "random.seed(42)\n",
    "\n",
    "circuit = clifford_circuit(n, L=16)\n",
    "print(circuit)\n",
    "circuit_target_list = [circuit]"
   ]
  },
  {
   "cell_type": "code",
   "execution_count": null,
   "metadata": {},
   "outputs": [],
   "source": [
    "np.random.seed(42)\n",
    "random.seed(42)\n",
    "rng = np.random.default_rng(42)\n",
    "\n",
    "runner = ExecuteAndCollect()\n",
    "runner.setup_circuits(circuit_target_list, N_map = 10000-6**n, initial_layout=[0,1,3,4])\n",
    "\n",
    "runner.execute_circuits(backend=backend, \n",
    "                        shots_map = 1024, \n",
    "                        shots_spam = 1024, \n",
    "                        filename=\"belem_4qubit_clifford_fixTopology\", \n",
    "                        concatenate=True)"
   ]
  },
  {
   "cell_type": "code",
   "execution_count": null,
   "metadata": {},
   "outputs": [],
   "source": [
    "backend = provider.get_backend(\"ibmq_belem\")\n",
    "\n",
    "n = 4\n",
    "d = 2**n\n",
    "\n",
    "np.random.seed(42)\n",
    "random.seed(42)\n",
    "\n",
    "circuit = clifford_circuit(n, L=16)\n",
    "print(circuit)\n",
    "circuit_target_list = [circuit]"
   ]
  },
  {
   "cell_type": "code",
   "execution_count": null,
   "metadata": {},
   "outputs": [],
   "source": [
    "np.random.seed(42)\n",
    "random.seed(42)\n",
    "rng = np.random.default_rng(42)\n",
    "\n",
    "runner = ExecuteAndCollect()\n",
    "runner.setup_circuits(circuit_target_list, N_map = 10000-6**n, initial_layout=[0,1,3,4])\n",
    "\n",
    "runner.execute_circuits(backend=backend, \n",
    "                        shots_map = 1024, \n",
    "                        shots_spam = 1024, \n",
    "                        filename=\"belem_4qubit_clifford_shallow\", \n",
    "                        concatenate=True)"
   ]
  },
  {
   "cell_type": "code",
   "execution_count": null,
   "metadata": {},
   "outputs": [],
   "source": [
    "backend = provider.get_backend(\"ibmq_manila\")\n",
    "\n",
    "n = 4\n",
    "d = 2**n\n",
    "\n",
    "np.random.seed(42)\n",
    "random.seed(42)\n",
    "\n",
    "circuit = integrable_circuit(4, 2)\n",
    "circuit_target_list = [circuit]\n",
    "\n",
    "print(circuit)"
   ]
  },
  {
   "cell_type": "code",
   "execution_count": null,
   "metadata": {},
   "outputs": [],
   "source": [
    "np.random.seed(42)\n",
    "random.seed(42)\n",
    "rng = np.random.default_rng(42)\n",
    "\n",
    "runner = ExecuteAndCollect()\n",
    "runner.setup_circuits(circuit_target_list, N_map = 10000-6**n, initial_layout=[1,2,3,4])\n",
    "\n",
    "runner.execute_circuits(backend=backend, \n",
    "                        shots_map = 1024, \n",
    "                        shots_spam = 1024, \n",
    "                        filename=\"manila_4qubit_integrable_shallow\", \n",
    "                        concatenate=True,\n",
    "                        truncate = 204)"
   ]
  },
  {
   "cell_type": "code",
   "execution_count": null,
   "metadata": {},
   "outputs": [],
   "source": [
    "backend = provider.get_backend(\"ibmq_manila\")\n",
    "\n",
    "n = 4\n",
    "d = 2**n\n",
    "\n",
    "np.random.seed(42)\n",
    "random.seed(42)\n",
    "\n",
    "circuit = integrable_circuit(4, 2)\n",
    "circuit_target_list = [circuit]\n",
    "\n",
    "print(circuit)"
   ]
  },
  {
   "cell_type": "code",
   "execution_count": null,
   "metadata": {},
   "outputs": [],
   "source": [
    "np.random.seed(42)\n",
    "random.seed(42)\n",
    "rng = np.random.default_rng(42)\n",
    "\n",
    "runner = ExecuteAndCollect()\n",
    "runner.setup_circuits(circuit_target_list, N_map = 10000-6**n, initial_layout=[0,1,2,3])\n",
    "\n",
    "runner.execute_circuits(backend=backend, \n",
    "                        shots_map = 1024, \n",
    "                        shots_spam = 1024, \n",
    "                        filename=\"manila_4qubit_integrable_shallow\", \n",
    "                        concatenate=True,)"
   ]
  },
  {
   "attachments": {},
   "cell_type": "markdown",
   "metadata": {},
   "source": [
    "### Nairobi"
   ]
  },
  {
   "cell_type": "code",
   "execution_count": 4,
   "metadata": {},
   "outputs": [
    {
     "name": "stdout",
     "output_type": "stream",
     "text": [
      "     ┌─────────────┐ ┌────────────┐ ┌────────────┐  ┌────────────┐»\n",
      "q_0: ┤ Rz(-2.4285) ├─┤0           ├─┤ Rz(1.3044) ├──┤ Rz(1.2945) ├»\n",
      "     └┬────────────┤ │  iswap^0.5 │ ├────────────┤  ├────────────┤»\n",
      "q_1: ─┤ Rz(2.9813) ├─┤1           ├─┤ Rz(1.8825) ├──┤0           ├»\n",
      "      ├────────────┤ ├────────────┤┌┴────────────┤  │  iswap^0.5 │»\n",
      "q_2: ─┤ Rz(1.4372) ├─┤0           ├┤ Rz(0.91459) ├──┤1           ├»\n",
      "     ┌┴────────────┴┐│  iswap^0.5 │├─────────────┴┐┌┴────────────┤»\n",
      "q_3: ┤ Rz(-0.93326) ├┤1           ├┤ Rz(-0.53659) ├┤ Rz(-2.9907) ├»\n",
      "     └──────────────┘└────────────┘└──────────────┘└─────────────┘»\n",
      "«                    ┌────────────┐┌─────────────┐┌─────────────┐»\n",
      "«q_0: ───────────────┤0           ├┤ Rz(-2.5213) ├┤ Rz(-1.9761) ├»\n",
      "«     ┌─────────────┐│  iswap^0.5 │├─────────────┤└┬────────────┤»\n",
      "«q_1: ┤ Rz(-1.5918) ├┤1           ├┤ Rz(-1.2539) ├─┤0           ├»\n",
      "«     ├─────────────┤├────────────┤├─────────────┤ │  iswap^0.5 │»\n",
      "«q_2: ┤ Rz(-1.5331) ├┤0           ├┤ Rz(0.88502) ├─┤1           ├»\n",
      "«     └─────────────┘│  iswap^0.5 │├─────────────┤┌┴────────────┤»\n",
      "«q_3: ───────────────┤1           ├┤ Rz(-1.1171) ├┤ Rz(-1.4228) ├»\n",
      "«                    └────────────┘└─────────────┘└─────────────┘»\n",
      "«                    ┌────────────┐ ┌────────────┐┌────────────┐               »\n",
      "«q_0: ───────────────┤0           ├─┤ Rz(2.8552) ├┤ Rz(2.2418) ├───────────────»\n",
      "«      ┌────────────┐│  iswap^0.5 │┌┴────────────┤├────────────┤ ┌────────────┐»\n",
      "«q_1: ─┤ Rz(2.6213) ├┤1           ├┤ Rz(-2.3429) ├┤0           ├─┤ Rz(1.2312) ├»\n",
      "«     ┌┴────────────┤├────────────┤└┬────────────┤│  iswap^0.5 │┌┴────────────┤»\n",
      "«q_2: ┤ Rz(-1.4393) ├┤0           ├─┤ Rz(1.5536) ├┤1           ├┤ Rz(0.33317) ├»\n",
      "«     └─────────────┘│  iswap^0.5 │┌┴────────────┤├────────────┤└─────────────┘»\n",
      "«q_3: ───────────────┤1           ├┤ Rz(-3.1087) ├┤ Rz(2.7347) ├───────────────»\n",
      "«                    └────────────┘└─────────────┘└────────────┘               »\n",
      "«     ┌────────────┐┌──────────────┐              \n",
      "«q_0: ┤0           ├┤ Rz(0.079316) ├──────────────\n",
      "«     │  iswap^0.5 │├─────────────┬┘┌────────────┐\n",
      "«q_1: ┤1           ├┤ Rz(-2.0256) ├─┤0           ├\n",
      "«     ├────────────┤├─────────────┤ │  iswap^0.5 │\n",
      "«q_2: ┤0           ├┤ Rz(0.23163) ├─┤1           ├\n",
      "«     │  iswap^0.5 │├─────────────┤ └────────────┘\n",
      "«q_3: ┤1           ├┤ Rz(-1.2977) ├───────────────\n",
      "«     └────────────┘└─────────────┘               \n"
     ]
    }
   ],
   "source": [
    "backend = provider.get_backend(\"ibm_nairobi\")\n",
    "\n",
    "n = 4\n",
    "d = 2**n\n",
    "\n",
    "#np.random.seed(41)\n",
    "#random.seed(41)\n",
    "\n",
    "np.random.seed(47)\n",
    "random.seed(47)\n",
    "\n",
    "circuit = integrable_circuit(n, 4)\n",
    "circuit_target_list = [circuit]\n",
    "\n",
    "print(circuit)"
   ]
  },
  {
   "cell_type": "code",
   "execution_count": 5,
   "metadata": {},
   "outputs": [
    {
     "data": {
      "application/vnd.jupyter.widget-view+json": {
       "model_id": "163e8418606f4c9c8d36631a7ef6c733",
       "version_major": 2,
       "version_minor": 0
      },
      "text/plain": [
       "  0%|          | 0/20 [00:00<?, ?it/s]"
      ]
     },
     "metadata": {},
     "output_type": "display_data"
    },
    {
     "data": {
      "application/vnd.jupyter.widget-view+json": {
       "model_id": "5808b645afde4a40b0c8c404d44a6b98",
       "version_major": 2,
       "version_minor": 0
      },
      "text/plain": [
       "  0%|          | 0/5 [00:00<?, ?it/s]"
      ]
     },
     "metadata": {},
     "output_type": "display_data"
    },
    {
     "data": {
      "application/vnd.jupyter.widget-view+json": {
       "model_id": "53cc77fecfca44c8b2510588809c174c",
       "version_major": 2,
       "version_minor": 0
      },
      "text/plain": [
       "  0%|          | 0/5 [00:00<?, ?it/s]"
      ]
     },
     "metadata": {},
     "output_type": "display_data"
    },
    {
     "data": {
      "application/vnd.jupyter.widget-view+json": {
       "model_id": "b3ec903eb2d64b8ead521792a543b1fd",
       "version_major": 2,
       "version_minor": 0
      },
      "text/plain": [
       "  0%|          | 0/5 [00:00<?, ?it/s]"
      ]
     },
     "metadata": {},
     "output_type": "display_data"
    },
    {
     "data": {
      "application/vnd.jupyter.widget-view+json": {
       "model_id": "70debb69b0a94787b64bc99f502b8f63",
       "version_major": 2,
       "version_minor": 0
      },
      "text/plain": [
       "  0%|          | 0/5 [00:00<?, ?it/s]"
      ]
     },
     "metadata": {},
     "output_type": "display_data"
    },
    {
     "data": {
      "application/vnd.jupyter.widget-view+json": {
       "model_id": "a5e4fa9e92e247b982a64295ae6355ba",
       "version_major": 2,
       "version_minor": 0
      },
      "text/plain": [
       "  0%|          | 0/5 [00:00<?, ?it/s]"
      ]
     },
     "metadata": {},
     "output_type": "display_data"
    },
    {
     "data": {
      "application/vnd.jupyter.widget-view+json": {
       "model_id": "c0736c297b904a26bd78fd831e494240",
       "version_major": 2,
       "version_minor": 0
      },
      "text/plain": [
       "  0%|          | 0/5 [00:00<?, ?it/s]"
      ]
     },
     "metadata": {},
     "output_type": "display_data"
    },
    {
     "data": {
      "application/vnd.jupyter.widget-view+json": {
       "model_id": "fcd5d23682824bc2982da5a2deb54cfb",
       "version_major": 2,
       "version_minor": 0
      },
      "text/plain": [
       "  0%|          | 0/5 [00:00<?, ?it/s]"
      ]
     },
     "metadata": {},
     "output_type": "display_data"
    },
    {
     "data": {
      "application/vnd.jupyter.widget-view+json": {
       "model_id": "b063876e1763419aa55be5f0fec9a9fa",
       "version_major": 2,
       "version_minor": 0
      },
      "text/plain": [
       "  0%|          | 0/5 [00:00<?, ?it/s]"
      ]
     },
     "metadata": {},
     "output_type": "display_data"
    },
    {
     "data": {
      "application/vnd.jupyter.widget-view+json": {
       "model_id": "f3de04666ff8479688311fa90f3094fd",
       "version_major": 2,
       "version_minor": 0
      },
      "text/plain": [
       "  0%|          | 0/5 [00:00<?, ?it/s]"
      ]
     },
     "metadata": {},
     "output_type": "display_data"
    },
    {
     "data": {
      "application/vnd.jupyter.widget-view+json": {
       "model_id": "94d8d440d80f42009015d694d21823f9",
       "version_major": 2,
       "version_minor": 0
      },
      "text/plain": [
       "  0%|          | 0/5 [00:00<?, ?it/s]"
      ]
     },
     "metadata": {},
     "output_type": "display_data"
    },
    {
     "data": {
      "application/vnd.jupyter.widget-view+json": {
       "model_id": "07c5b3847afb42f3ae5d74e57e6b61e2",
       "version_major": 2,
       "version_minor": 0
      },
      "text/plain": [
       "  0%|          | 0/5 [00:00<?, ?it/s]"
      ]
     },
     "metadata": {},
     "output_type": "display_data"
    },
    {
     "data": {
      "application/vnd.jupyter.widget-view+json": {
       "model_id": "6d1fc4e7e11f45e1a3028e1fd2532910",
       "version_major": 2,
       "version_minor": 0
      },
      "text/plain": [
       "  0%|          | 0/5 [00:00<?, ?it/s]"
      ]
     },
     "metadata": {},
     "output_type": "display_data"
    },
    {
     "data": {
      "application/vnd.jupyter.widget-view+json": {
       "model_id": "084c5ed6db704263b7f2b2c9ffe9f06a",
       "version_major": 2,
       "version_minor": 0
      },
      "text/plain": [
       "  0%|          | 0/5 [00:00<?, ?it/s]"
      ]
     },
     "metadata": {},
     "output_type": "display_data"
    },
    {
     "data": {
      "application/vnd.jupyter.widget-view+json": {
       "model_id": "9ea397008efd430a8b8d4746ab7e1375",
       "version_major": 2,
       "version_minor": 0
      },
      "text/plain": [
       "  0%|          | 0/5 [00:00<?, ?it/s]"
      ]
     },
     "metadata": {},
     "output_type": "display_data"
    },
    {
     "data": {
      "application/vnd.jupyter.widget-view+json": {
       "model_id": "448cafd2478d449591a3062f98928fb1",
       "version_major": 2,
       "version_minor": 0
      },
      "text/plain": [
       "  0%|          | 0/5 [00:00<?, ?it/s]"
      ]
     },
     "metadata": {},
     "output_type": "display_data"
    },
    {
     "data": {
      "application/vnd.jupyter.widget-view+json": {
       "model_id": "92364c760bd74bf49993e33af091623d",
       "version_major": 2,
       "version_minor": 0
      },
      "text/plain": [
       "  0%|          | 0/5 [00:00<?, ?it/s]"
      ]
     },
     "metadata": {},
     "output_type": "display_data"
    },
    {
     "data": {
      "application/vnd.jupyter.widget-view+json": {
       "model_id": "8e8fb318f59641afaf1ae0c487d497f2",
       "version_major": 2,
       "version_minor": 0
      },
      "text/plain": [
       "  0%|          | 0/5 [00:00<?, ?it/s]"
      ]
     },
     "metadata": {},
     "output_type": "display_data"
    },
    {
     "data": {
      "application/vnd.jupyter.widget-view+json": {
       "model_id": "89c58e0528404252bd50c25f9f909e64",
       "version_major": 2,
       "version_minor": 0
      },
      "text/plain": [
       "  0%|          | 0/5 [00:00<?, ?it/s]"
      ]
     },
     "metadata": {},
     "output_type": "display_data"
    },
    {
     "data": {
      "application/vnd.jupyter.widget-view+json": {
       "model_id": "5be2bb6c8cfe4a0f85488b38230e40ad",
       "version_major": 2,
       "version_minor": 0
      },
      "text/plain": [
       "  0%|          | 0/5 [00:00<?, ?it/s]"
      ]
     },
     "metadata": {},
     "output_type": "display_data"
    },
    {
     "data": {
      "application/vnd.jupyter.widget-view+json": {
       "model_id": "9536da05803140fe9c6582ee2e1ded77",
       "version_major": 2,
       "version_minor": 0
      },
      "text/plain": [
       "  0%|          | 0/5 [00:00<?, ?it/s]"
      ]
     },
     "metadata": {},
     "output_type": "display_data"
    }
   ],
   "source": [
    "np.random.seed(42)\n",
    "random.seed(42)\n",
    "rng = np.random.default_rng(42)\n",
    "\n",
    "runner = ExecuteAndCollect()\n",
    "runner.setup_circuits(circuit_target_list, N_map = 10000-6**n, initial_layout=[0,1,3,5])\n",
    "\n",
    "runner.execute_circuits(backend=backend, \n",
    "                        shots_map = 1024, \n",
    "                        shots_spam = 1024, \n",
    "                        filename=\"nairobi_4qubit_integrable_medium_rerun\", \n",
    "                        concatenate=True)"
   ]
  },
  {
   "cell_type": "code",
   "execution_count": 7,
   "metadata": {},
   "outputs": [
    {
     "name": "stdout",
     "output_type": "stream",
     "text": [
      "     ┌─────────────┐┌────────────┐   ┌───────┐    ┌─────────────┐          »\n",
      "q_0: ┤ R(π/2,-π/4) ├┤0           ├───┤ y^0.5 ├────┤ R(π/2,-π/4) ├──────────»\n",
      "     └──┬────────┬─┘│  iswap^0.5 │┌──┴───────┴───┐└┬────────────┤┌────────┐»\n",
      "q_1: ───┤ y^-0.5 ├──┤1           ├┤ R(-π/2,-π/4) ├─┤0           ├┤ x^-0.5 ├»\n",
      "      ┌─┴────────┴─┐├────────────┤└┬────────────┬┘ │  iswap^0.5 │├───────┬┘»\n",
      "q_2: ─┤ R(π/2,π/4) ├┤0           ├─┤ R(π/2,π/4) ├──┤1           ├┤ y^0.5 ├─»\n",
      "     ┌┴────────────┤│  iswap^0.5 │ ├────────────┤ ┌┴────────────┤└───────┘ »\n",
      "q_3: ┤ R(π/2,-π/4) ├┤1           ├─┤ R(π/2,π/4) ├─┤ R(π/2,-π/4) ├──────────»\n",
      "     └─────────────┘└────────────┘ └────────────┘ └─────────────┘          »\n",
      "«     ┌────────────┐   ┌───────┐      ┌────────┐                  »\n",
      "«q_0: ┤0           ├───┤ y^0.5 ├──────┤ y^-0.5 ├──────────────────»\n",
      "«     │  iswap^0.5 │   ├───────┤    ┌─┴────────┴─┐┌──────────────┐»\n",
      "«q_1: ┤1           ├───┤ y^0.5 ├────┤0           ├┤ R(-π/2,-π/4) ├»\n",
      "«     ├────────────┤┌──┴───────┴───┐│  iswap^0.5 │├──────────────┤»\n",
      "«q_2: ┤0           ├┤ R(-π/2,-π/4) ├┤1           ├┤ R(-π/2,-π/4) ├»\n",
      "«     │  iswap^0.5 │└┬────────────┬┘└─┬───────┬──┘└──────────────┘»\n",
      "«q_3: ┤1           ├─┤ R(π/2,π/4) ├───┤ y^0.5 ├───────────────────»\n",
      "«     └────────────┘ └────────────┘   └───────┘                   »\n",
      "«     ┌────────────┐┌─────────────┐   ┌────────┐                 ┌────────────┐»\n",
      "«q_0: ┤0           ├┤ R(-π/2,π/4) ├───┤ y^-0.5 ├─────────────────┤0           ├»\n",
      "«     │  iswap^0.5 │└┬────────────┤ ┌─┴────────┴─┐┌─────────────┐│  iswap^0.5 │»\n",
      "«q_1: ┤1           ├─┤ R(π/2,π/4) ├─┤0           ├┤ R(-π/2,π/4) ├┤1           ├»\n",
      "«     ├────────────┤ └─┬────────┬─┘ │  iswap^0.5 │├─────────────┤├────────────┤»\n",
      "«q_2: ┤0           ├───┤ x^-0.5 ├───┤1           ├┤ R(-π/2,π/4) ├┤0           ├»\n",
      "«     │  iswap^0.5 │┌──┴────────┴──┐└─┬────────┬─┘└─────────────┘│  iswap^0.5 │»\n",
      "«q_3: ┤1           ├┤ R(-π/2,-π/4) ├──┤ x^-0.5 ├─────────────────┤1           ├»\n",
      "«     └────────────┘└──────────────┘  └────────┘                 └────────────┘»\n",
      "«     ┌──────────────┐              \n",
      "«q_0: ┤ R(-π/2,-π/4) ├──────────────\n",
      "«     └──┬────────┬──┘┌────────────┐\n",
      "«q_1: ───┤ y^-0.5 ├───┤0           ├\n",
      "«      ┌─┴────────┴─┐ │  iswap^0.5 │\n",
      "«q_2: ─┤ R(π/2,π/4) ├─┤1           ├\n",
      "«      └─┬───────┬──┘ └────────────┘\n",
      "«q_3: ───┤ x^0.5 ├──────────────────\n",
      "«        └───────┘                  \n"
     ]
    }
   ],
   "source": [
    "backend = provider.get_backend(\"ibm_nairobi\")\n",
    "\n",
    "n = 4\n",
    "d = 2**n\n",
    "\n",
    "np.random.seed(42)\n",
    "random.seed(42)\n",
    "\n",
    "circuit = nonintegrable_circuit(n, 4)\n",
    "circuit_target_list = [circuit]\n",
    "\n",
    "print(circuit)"
   ]
  },
  {
   "cell_type": "code",
   "execution_count": 9,
   "metadata": {},
   "outputs": [],
   "source": [
    "np.random.seed(42)\n",
    "random.seed(42)\n",
    "rng = np.random.default_rng(42)\n",
    "\n",
    "runner = ExecuteAndCollect()\n",
    "runner.setup_circuits(circuit_target_list, N_map = 10000-6**n, initial_layout=[0,1,3,5])\n",
    "\n",
    "runner.execute_circuits(backend=backend, \n",
    "                        shots_map = 1024, \n",
    "                        shots_spam = 1024, \n",
    "                        filename=\"nairobi_4qubit_nonintegrable_medium\", \n",
    "                        concatenate=True)"
   ]
  },
  {
   "cell_type": "code",
   "execution_count": null,
   "metadata": {},
   "outputs": [],
   "source": [
    "backend = provider.get_backend(\"ibm_nairobi\")\n",
    "\n",
    "n = 4\n",
    "d = 2**n\n",
    "\n",
    "np.random.seed(47)\n",
    "random.seed(47)\n",
    "\n",
    "circuit = integrable_circuit(n, 4)\n",
    "circuit_target_list = [circuit]\n",
    "\n",
    "print(circuit)"
   ]
  },
  {
   "cell_type": "code",
   "execution_count": null,
   "metadata": {},
   "outputs": [],
   "source": [
    "np.random.seed(42)\n",
    "random.seed(42)\n",
    "rng = np.random.default_rng(42)\n",
    "\n",
    "runner = ExecuteAndCollect()\n",
    "runner.setup_circuits(circuit_target_list, N_map = 10000-6**n, initial_layout=[0,1,3,5])\n",
    "\n",
    "runner.execute_circuits(backend=backend, \n",
    "                        shots_map = 1024, \n",
    "                        shots_spam = 1024, \n",
    "                        filename=\"nairobi_4qubit_integrable_medium2\", \n",
    "                        concatenate=True)"
   ]
  },
  {
   "cell_type": "code",
   "execution_count": null,
   "metadata": {},
   "outputs": [],
   "source": [
    "backend = provider.get_backend(\"ibm_nairobi\")\n",
    "\n",
    "n = 4\n",
    "d = 2**n\n",
    "\n",
    "np.random.seed(42)\n",
    "random.seed(42)\n",
    "\n",
    "circuit = integrable_circuit(n, 2)\n",
    "circuit_target_list = [circuit]\n",
    "\n",
    "print(circuit)"
   ]
  },
  {
   "cell_type": "code",
   "execution_count": null,
   "metadata": {},
   "outputs": [],
   "source": [
    "np.random.seed(42)\n",
    "random.seed(42)\n",
    "rng = np.random.default_rng(42)\n",
    "\n",
    "runner = ExecuteAndCollect()\n",
    "runner.setup_circuits(circuit_target_list, N_map = 10000-6**n, initial_layout=[0,1,3,5])\n",
    "\n",
    "runner.execute_circuits(backend=backend, \n",
    "                        shots_map = 1024, \n",
    "                        shots_spam = 1024, \n",
    "                        filename=\"nairobi_4qubit_integrable_shallow\", \n",
    "                        concatenate=True)"
   ]
  },
  {
   "cell_type": "code",
   "execution_count": null,
   "metadata": {},
   "outputs": [],
   "source": [
    "np.random.seed(42)\n",
    "random.seed(42)\n",
    "rng = np.random.default_rng(42)\n",
    "\n",
    "runner = ExecuteAndCollect()\n",
    "runner.setup_circuits(circuit_target_list, N_map = 10000-6**n, initial_layout=[0,1,3,5])\n",
    "\n",
    "runner.execute_circuits(backend=backend, \n",
    "                        shots_map = 1024, \n",
    "                        shots_spam = 1024, \n",
    "                        filename=\"nairobi_4qubit_integrable_shallow\", \n",
    "                        concatenate=True)"
   ]
  },
  {
   "cell_type": "code",
   "execution_count": null,
   "metadata": {},
   "outputs": [],
   "source": [
    "backend = provider.get_backend(\"ibm_nairobi\")\n",
    "\n",
    "n = 4\n",
    "d = 2**n\n",
    "\n",
    "np.random.seed(42)\n",
    "random.seed(42)\n",
    "\n",
    "circuit = nonintegrable_circuit(n, 2)\n",
    "circuit_target_list = [circuit]\n",
    "\n",
    "print(circuit)"
   ]
  },
  {
   "cell_type": "code",
   "execution_count": null,
   "metadata": {},
   "outputs": [],
   "source": [
    "np.random.seed(42)\n",
    "random.seed(42)\n",
    "rng = np.random.default_rng(42)\n",
    "\n",
    "runner = ExecuteAndCollect()\n",
    "runner.setup_circuits(circuit_target_list, N_map = 10000-6**n, initial_layout=[0,1,3,5])\n",
    "\n",
    "runner.execute_circuits(backend=backend, \n",
    "                        shots_map = 1024, \n",
    "                        shots_spam = 1024, \n",
    "                        filename=\"nairobi_4qubit_nonintegrable_shallow\", \n",
    "                        concatenate=True)"
   ]
  }
 ],
 "metadata": {
  "kernelspec": {
   "display_name": "env_qiskit",
   "language": "python",
   "name": "env_qiskit"
  },
  "language_info": {
   "codemirror_mode": {
    "name": "ipython",
    "version": 3
   },
   "file_extension": ".py",
   "mimetype": "text/x-python",
   "name": "python",
   "nbconvert_exporter": "python",
   "pygments_lexer": "ipython3",
   "version": "3.10.4"
  }
 },
 "nbformat": 4,
 "nbformat_minor": 4
}
