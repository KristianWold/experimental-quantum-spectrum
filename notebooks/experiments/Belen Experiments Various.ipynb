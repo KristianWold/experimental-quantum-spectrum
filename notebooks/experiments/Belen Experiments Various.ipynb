{
 "cells": [
  {
   "attachments": {},
   "cell_type": "markdown",
   "metadata": {},
   "source": [
    "# Belen Experiments Various"
   ]
  },
  {
   "cell_type": "code",
   "execution_count": 1,
   "metadata": {},
   "outputs": [],
   "source": [
    "import sys\n",
    "sys.path.insert(0, '../../src_tf/')\n",
    "\n",
    "import numpy as np\n",
    "import qiskit as qk\n",
    "import matplotlib.pyplot as plt\n",
    "import multiprocessing as mp\n",
    "import random\n",
    "import pickle\n",
    "\n",
    "from qiskit.quantum_info import DensityMatrix, random_unitary, random_clifford\n",
    "from qiskit.quantum_info import Operator\n",
    "from qiskit.circuit.library import QFT\n",
    "from scipy.linalg import sqrtm\n",
    "from tqdm.notebook import tqdm\n",
    "\n",
    "from loss_functions import *\n",
    "from optimization import *\n",
    "from quantum_channel import *\n",
    "from kraus_channels import *\n",
    "from quantum_tools import *\n",
    "from experimental import *\n",
    "from spam import *\n",
    "from quantum_circuits import *\n",
    "\n",
    "#np.set_printoptions(threshold=sys.maxsize)\n",
    "np.set_printoptions(precision=4)\n",
    "\n",
    "import os\n",
    "os.environ[\"CUDA_VISIBLE_DEVICES\"] = \"-1\""
   ]
  },
  {
   "cell_type": "code",
   "execution_count": 2,
   "metadata": {},
   "outputs": [],
   "source": [
    "from qiskit import QuantumRegister, ClassicalRegister, QuantumCircuit\n",
    "from qiskit.tools.visualization import circuit_drawer\n",
    "from qiskit.quantum_info import random_unitary, Operator\n",
    "from qiskit.providers.fake_provider import FakeManilaV2\n",
    "\n",
    "from qiskit import Aer"
   ]
  },
  {
   "cell_type": "code",
   "execution_count": 3,
   "metadata": {},
   "outputs": [],
   "source": [
    "qk.IBMQ.save_account(\"aaff224a30e77d3ea3af33e2e3fb1cebfbff4e33b04ef75fdbbb9e9055426f547739b68d5b93dac4d47e7828d840a212436b1c36a358f9185574ce60af9a9f53\", overwrite=True) \n",
    "provider = qk.IBMQ.load_account()\n",
    "provider = qk.IBMQ.get_provider(hub='ibm-q', group='open', project='main')"
   ]
  },
  {
   "attachments": {},
   "cell_type": "markdown",
   "metadata": {},
   "source": [
    "## Concatenate Circuits"
   ]
  },
  {
   "cell_type": "code",
   "execution_count": null,
   "metadata": {},
   "outputs": [],
   "source": [
    "backend = provider.get_backend(\"ibmq_belem\")\n",
    "\n",
    "n = 3\n",
    "d = 2**n\n",
    "\n",
    "np.random.seed(42)\n",
    "random.seed(42)\n",
    "for i in range(10):\n",
    "    circuit_target1 = pqc_basic(n, 2).reverse_bits()\n",
    "    circuit_target2 = pqc_basic(n, 2).reverse_bits()\n",
    "\n",
    "    circuit_target12 = deepcopy(circuit_target1)\n",
    "    circuit_target12 = circuit_target12.compose(circuit_target2)\n",
    "    circuit_target_list = [circuit_target1, circuit_target2, circuit_target12]\n",
    "    \n",
    "    belem_concatenate = ExecuteAndCollect()\n",
    "    belem_concatenate.setup_circuits(circuit_target_list, N_map = 2000-6**n)\n",
    "\n",
    "    belem_concatenate.execute_circuits(backend=backend, \n",
    "                                       shots_map = 1024, \n",
    "                                       shots_spam = 1024, \n",
    "                                       filename=f\"belem_concatenate_2layer{i}\", \n",
    "                                       concatenate=True)"
   ]
  },
  {
   "cell_type": "code",
   "execution_count": null,
   "metadata": {},
   "outputs": [],
   "source": [
    "backend = provider.get_backend(\"ibmq_belem\")\n",
    "\n",
    "n = 3\n",
    "d = 2**n\n",
    "\n",
    "np.random.seed(42)\n",
    "random.seed(42)\n",
    "for i in range(10):\n",
    "    circuit_target1 = pqc_basic(n, 4).reverse_bits()\n",
    "    circuit_target2 = pqc_basic(n, 4).reverse_bits()\n",
    "\n",
    "    circuit_target12 = deepcopy(circuit_target1)\n",
    "    circuit_target12 = circuit_target12.compose(circuit_target2)\n",
    "    circuit_target_list = [circuit_target1, circuit_target2, circuit_target12]\n",
    "    \n",
    "    belem_concatenate = ExecuteAndCollect()\n",
    "    belem_concatenate.setup_circuits(circuit_target_list, N_map = 2000-6**n)\n",
    "\n",
    "    belem_concatenate.execute_circuits(backend=backend, \n",
    "                                       shots_map = 1024, \n",
    "                                       shots_spam = 1024, \n",
    "                                       filename=f\"belem_concatenate_4layer{i}\", \n",
    "                                       concatenate=True)"
   ]
  },
  {
   "cell_type": "code",
   "execution_count": null,
   "metadata": {},
   "outputs": [],
   "source": [
    "backend = provider.get_backend(\"ibmq_belem\")\n",
    "\n",
    "n = 3\n",
    "d = 2**n\n",
    "\n",
    "np.random.seed(42)\n",
    "random.seed(42)\n",
    "for i in range(10):\n",
    "    circuit_target1 = pqc_basic(n, 6).reverse_bits()\n",
    "    circuit_target2 = pqc_basic(n, 6).reverse_bits()\n",
    "\n",
    "    circuit_target12 = deepcopy(circuit_target1)\n",
    "    circuit_target12 = circuit_target12.compose(circuit_target2)\n",
    "    circuit_target_list = [circuit_target1, circuit_target2, circuit_target12]\n",
    "    \n",
    "    belem_concatenate = ExecuteAndCollect()\n",
    "    belem_concatenate.setup_circuits(circuit_target_list, N_map = 2000-6**n)\n",
    "\n",
    "    belem_concatenate.execute_circuits(backend=backend, \n",
    "                                       shots_map = 1024, \n",
    "                                       shots_spam = 1024, \n",
    "                                       filename=f\"belem_concatenate_6layer_retry2{i}\", \n",
    "                                       concatenate=True)"
   ]
  },
  {
   "cell_type": "code",
   "execution_count": null,
   "metadata": {},
   "outputs": [],
   "source": [
    "backend = provider.get_backend(\"ibmq_belem\")\n",
    "\n",
    "n = 3\n",
    "d = 2**n\n",
    "\n",
    "np.random.seed(42)\n",
    "random.seed(42)\n",
    "for i in range(10):\n",
    "    \n",
    "    circuit_target1 = pqc_basic(n, 8).reverse_bits()\n",
    "    circuit_target2 = pqc_basic(n, 8).reverse_bits()\n",
    "\n",
    "    circuit_target12 = deepcopy(circuit_target1)\n",
    "    circuit_target12 = circuit_target12.compose(circuit_target2)\n",
    "    circuit_target_list = [circuit_target1, circuit_target2, circuit_target12]\n",
    "    \n",
    "    belem_concatenate = ExecuteAndCollect()\n",
    "    belem_concatenate.setup_circuits(circuit_target_list, N_map = 2000-6**n)\n",
    "    \n",
    "    belem_concatenate.execute_circuits(backend=backend, \n",
    "                                       shots_map = 1024, \n",
    "                                       shots_spam = 1024, \n",
    "                                       filename=f\"belem_concatenate_8layer{i}\", \n",
    "                                       concatenate=True)"
   ]
  },
  {
   "attachments": {},
   "cell_type": "markdown",
   "metadata": {},
   "source": [
    "## Nairobi Integrable vs. Non-Integrable"
   ]
  },
  {
   "attachments": {},
   "cell_type": "markdown",
   "metadata": {},
   "source": [
    "### Integrable, Medium Depth"
   ]
  },
  {
   "cell_type": "code",
   "execution_count": 4,
   "metadata": {},
   "outputs": [
    {
     "name": "stdout",
     "output_type": "stream",
     "text": [
      "     ┌─────────────┐ ┌────────────┐ ┌────────────┐  ┌────────────┐»\n",
      "q_0: ┤ Rz(-2.4285) ├─┤0           ├─┤ Rz(1.3044) ├──┤ Rz(1.2945) ├»\n",
      "     └┬────────────┤ │  iswap^0.5 │ ├────────────┤  ├────────────┤»\n",
      "q_1: ─┤ Rz(2.9813) ├─┤1           ├─┤ Rz(1.8825) ├──┤0           ├»\n",
      "      ├────────────┤ ├────────────┤┌┴────────────┤  │  iswap^0.5 │»\n",
      "q_2: ─┤ Rz(1.4372) ├─┤0           ├┤ Rz(0.91459) ├──┤1           ├»\n",
      "     ┌┴────────────┴┐│  iswap^0.5 │├─────────────┴┐┌┴────────────┤»\n",
      "q_3: ┤ Rz(-0.93326) ├┤1           ├┤ Rz(-0.53659) ├┤ Rz(-2.9907) ├»\n",
      "     └──────────────┘└────────────┘└──────────────┘└─────────────┘»\n",
      "«                    ┌────────────┐┌─────────────┐┌─────────────┐»\n",
      "«q_0: ───────────────┤0           ├┤ Rz(-2.5213) ├┤ Rz(-1.9761) ├»\n",
      "«     ┌─────────────┐│  iswap^0.5 │├─────────────┤└┬────────────┤»\n",
      "«q_1: ┤ Rz(-1.5918) ├┤1           ├┤ Rz(-1.2539) ├─┤0           ├»\n",
      "«     ├─────────────┤├────────────┤├─────────────┤ │  iswap^0.5 │»\n",
      "«q_2: ┤ Rz(-1.5331) ├┤0           ├┤ Rz(0.88502) ├─┤1           ├»\n",
      "«     └─────────────┘│  iswap^0.5 │├─────────────┤┌┴────────────┤»\n",
      "«q_3: ───────────────┤1           ├┤ Rz(-1.1171) ├┤ Rz(-1.4228) ├»\n",
      "«                    └────────────┘└─────────────┘└─────────────┘»\n",
      "«                    ┌────────────┐ ┌────────────┐┌────────────┐               »\n",
      "«q_0: ───────────────┤0           ├─┤ Rz(2.8552) ├┤ Rz(2.2418) ├───────────────»\n",
      "«      ┌────────────┐│  iswap^0.5 │┌┴────────────┤├────────────┤ ┌────────────┐»\n",
      "«q_1: ─┤ Rz(2.6213) ├┤1           ├┤ Rz(-2.3429) ├┤0           ├─┤ Rz(1.2312) ├»\n",
      "«     ┌┴────────────┤├────────────┤└┬────────────┤│  iswap^0.5 │┌┴────────────┤»\n",
      "«q_2: ┤ Rz(-1.4393) ├┤0           ├─┤ Rz(1.5536) ├┤1           ├┤ Rz(0.33317) ├»\n",
      "«     └─────────────┘│  iswap^0.5 │┌┴────────────┤├────────────┤└─────────────┘»\n",
      "«q_3: ───────────────┤1           ├┤ Rz(-3.1087) ├┤ Rz(2.7347) ├───────────────»\n",
      "«                    └────────────┘└─────────────┘└────────────┘               »\n",
      "«     ┌────────────┐┌──────────────┐              \n",
      "«q_0: ┤0           ├┤ Rz(0.079316) ├──────────────\n",
      "«     │  iswap^0.5 │├─────────────┬┘┌────────────┐\n",
      "«q_1: ┤1           ├┤ Rz(-2.0256) ├─┤0           ├\n",
      "«     ├────────────┤├─────────────┤ │  iswap^0.5 │\n",
      "«q_2: ┤0           ├┤ Rz(0.23163) ├─┤1           ├\n",
      "«     │  iswap^0.5 │├─────────────┤ └────────────┘\n",
      "«q_3: ┤1           ├┤ Rz(-1.2977) ├───────────────\n",
      "«     └────────────┘└─────────────┘               \n"
     ]
    }
   ],
   "source": [
    "backend = provider.get_backend(\"ibm_nairobi\")\n",
    "\n",
    "n = 4\n",
    "d = 2**n\n",
    "\n",
    "#np.random.seed(41)\n",
    "#random.seed(41)\n",
    "\n",
    "np.random.seed(47) #More interesting shape\n",
    "random.seed(47)\n",
    "\n",
    "circuit = integrable_circuit(n, 4)\n",
    "circuit_target_list = [circuit]\n",
    "\n",
    "print(circuit)"
   ]
  },
  {
   "cell_type": "code",
   "execution_count": 5,
   "metadata": {},
   "outputs": [
    {
     "data": {
      "application/vnd.jupyter.widget-view+json": {
       "model_id": "163e8418606f4c9c8d36631a7ef6c733",
       "version_major": 2,
       "version_minor": 0
      },
      "text/plain": [
       "  0%|          | 0/20 [00:00<?, ?it/s]"
      ]
     },
     "metadata": {},
     "output_type": "display_data"
    },
    {
     "data": {
      "application/vnd.jupyter.widget-view+json": {
       "model_id": "5808b645afde4a40b0c8c404d44a6b98",
       "version_major": 2,
       "version_minor": 0
      },
      "text/plain": [
       "  0%|          | 0/5 [00:00<?, ?it/s]"
      ]
     },
     "metadata": {},
     "output_type": "display_data"
    },
    {
     "data": {
      "application/vnd.jupyter.widget-view+json": {
       "model_id": "53cc77fecfca44c8b2510588809c174c",
       "version_major": 2,
       "version_minor": 0
      },
      "text/plain": [
       "  0%|          | 0/5 [00:00<?, ?it/s]"
      ]
     },
     "metadata": {},
     "output_type": "display_data"
    },
    {
     "data": {
      "application/vnd.jupyter.widget-view+json": {
       "model_id": "b3ec903eb2d64b8ead521792a543b1fd",
       "version_major": 2,
       "version_minor": 0
      },
      "text/plain": [
       "  0%|          | 0/5 [00:00<?, ?it/s]"
      ]
     },
     "metadata": {},
     "output_type": "display_data"
    },
    {
     "data": {
      "application/vnd.jupyter.widget-view+json": {
       "model_id": "70debb69b0a94787b64bc99f502b8f63",
       "version_major": 2,
       "version_minor": 0
      },
      "text/plain": [
       "  0%|          | 0/5 [00:00<?, ?it/s]"
      ]
     },
     "metadata": {},
     "output_type": "display_data"
    },
    {
     "data": {
      "application/vnd.jupyter.widget-view+json": {
       "model_id": "a5e4fa9e92e247b982a64295ae6355ba",
       "version_major": 2,
       "version_minor": 0
      },
      "text/plain": [
       "  0%|          | 0/5 [00:00<?, ?it/s]"
      ]
     },
     "metadata": {},
     "output_type": "display_data"
    },
    {
     "data": {
      "application/vnd.jupyter.widget-view+json": {
       "model_id": "c0736c297b904a26bd78fd831e494240",
       "version_major": 2,
       "version_minor": 0
      },
      "text/plain": [
       "  0%|          | 0/5 [00:00<?, ?it/s]"
      ]
     },
     "metadata": {},
     "output_type": "display_data"
    },
    {
     "data": {
      "application/vnd.jupyter.widget-view+json": {
       "model_id": "fcd5d23682824bc2982da5a2deb54cfb",
       "version_major": 2,
       "version_minor": 0
      },
      "text/plain": [
       "  0%|          | 0/5 [00:00<?, ?it/s]"
      ]
     },
     "metadata": {},
     "output_type": "display_data"
    },
    {
     "data": {
      "application/vnd.jupyter.widget-view+json": {
       "model_id": "b063876e1763419aa55be5f0fec9a9fa",
       "version_major": 2,
       "version_minor": 0
      },
      "text/plain": [
       "  0%|          | 0/5 [00:00<?, ?it/s]"
      ]
     },
     "metadata": {},
     "output_type": "display_data"
    },
    {
     "data": {
      "application/vnd.jupyter.widget-view+json": {
       "model_id": "f3de04666ff8479688311fa90f3094fd",
       "version_major": 2,
       "version_minor": 0
      },
      "text/plain": [
       "  0%|          | 0/5 [00:00<?, ?it/s]"
      ]
     },
     "metadata": {},
     "output_type": "display_data"
    },
    {
     "data": {
      "application/vnd.jupyter.widget-view+json": {
       "model_id": "94d8d440d80f42009015d694d21823f9",
       "version_major": 2,
       "version_minor": 0
      },
      "text/plain": [
       "  0%|          | 0/5 [00:00<?, ?it/s]"
      ]
     },
     "metadata": {},
     "output_type": "display_data"
    },
    {
     "data": {
      "application/vnd.jupyter.widget-view+json": {
       "model_id": "07c5b3847afb42f3ae5d74e57e6b61e2",
       "version_major": 2,
       "version_minor": 0
      },
      "text/plain": [
       "  0%|          | 0/5 [00:00<?, ?it/s]"
      ]
     },
     "metadata": {},
     "output_type": "display_data"
    },
    {
     "data": {
      "application/vnd.jupyter.widget-view+json": {
       "model_id": "6d1fc4e7e11f45e1a3028e1fd2532910",
       "version_major": 2,
       "version_minor": 0
      },
      "text/plain": [
       "  0%|          | 0/5 [00:00<?, ?it/s]"
      ]
     },
     "metadata": {},
     "output_type": "display_data"
    },
    {
     "data": {
      "application/vnd.jupyter.widget-view+json": {
       "model_id": "084c5ed6db704263b7f2b2c9ffe9f06a",
       "version_major": 2,
       "version_minor": 0
      },
      "text/plain": [
       "  0%|          | 0/5 [00:00<?, ?it/s]"
      ]
     },
     "metadata": {},
     "output_type": "display_data"
    },
    {
     "data": {
      "application/vnd.jupyter.widget-view+json": {
       "model_id": "9ea397008efd430a8b8d4746ab7e1375",
       "version_major": 2,
       "version_minor": 0
      },
      "text/plain": [
       "  0%|          | 0/5 [00:00<?, ?it/s]"
      ]
     },
     "metadata": {},
     "output_type": "display_data"
    },
    {
     "data": {
      "application/vnd.jupyter.widget-view+json": {
       "model_id": "448cafd2478d449591a3062f98928fb1",
       "version_major": 2,
       "version_minor": 0
      },
      "text/plain": [
       "  0%|          | 0/5 [00:00<?, ?it/s]"
      ]
     },
     "metadata": {},
     "output_type": "display_data"
    },
    {
     "data": {
      "application/vnd.jupyter.widget-view+json": {
       "model_id": "92364c760bd74bf49993e33af091623d",
       "version_major": 2,
       "version_minor": 0
      },
      "text/plain": [
       "  0%|          | 0/5 [00:00<?, ?it/s]"
      ]
     },
     "metadata": {},
     "output_type": "display_data"
    },
    {
     "data": {
      "application/vnd.jupyter.widget-view+json": {
       "model_id": "8e8fb318f59641afaf1ae0c487d497f2",
       "version_major": 2,
       "version_minor": 0
      },
      "text/plain": [
       "  0%|          | 0/5 [00:00<?, ?it/s]"
      ]
     },
     "metadata": {},
     "output_type": "display_data"
    },
    {
     "data": {
      "application/vnd.jupyter.widget-view+json": {
       "model_id": "89c58e0528404252bd50c25f9f909e64",
       "version_major": 2,
       "version_minor": 0
      },
      "text/plain": [
       "  0%|          | 0/5 [00:00<?, ?it/s]"
      ]
     },
     "metadata": {},
     "output_type": "display_data"
    },
    {
     "data": {
      "application/vnd.jupyter.widget-view+json": {
       "model_id": "5be2bb6c8cfe4a0f85488b38230e40ad",
       "version_major": 2,
       "version_minor": 0
      },
      "text/plain": [
       "  0%|          | 0/5 [00:00<?, ?it/s]"
      ]
     },
     "metadata": {},
     "output_type": "display_data"
    },
    {
     "data": {
      "application/vnd.jupyter.widget-view+json": {
       "model_id": "9536da05803140fe9c6582ee2e1ded77",
       "version_major": 2,
       "version_minor": 0
      },
      "text/plain": [
       "  0%|          | 0/5 [00:00<?, ?it/s]"
      ]
     },
     "metadata": {},
     "output_type": "display_data"
    }
   ],
   "source": [
    "np.random.seed(42)\n",
    "random.seed(42)\n",
    "rng = np.random.default_rng(42)\n",
    "\n",
    "runner = ExecuteAndCollect()\n",
    "runner.setup_circuits(circuit_target_list, N_map = 10000-6**n, initial_layout=[0,1,3,5])\n",
    "\n",
    "runner.execute_circuits(backend=backend, \n",
    "                        shots_map = 1024, \n",
    "                        shots_spam = 1024, \n",
    "                        filename=\"nairobi_4qubit_integrable_medium_rerun\", \n",
    "                        concatenate=True)"
   ]
  },
  {
   "attachments": {},
   "cell_type": "markdown",
   "metadata": {},
   "source": [
    "### Non-Integrable, Medium Depth"
   ]
  },
  {
   "cell_type": "code",
   "execution_count": 6,
   "metadata": {},
   "outputs": [
    {
     "name": "stdout",
     "output_type": "stream",
     "text": [
      "     ┌─────────────┐┌────────────┐   ┌───────┐    ┌─────────────┐          »\n",
      "q_0: ┤ R(π/2,-π/4) ├┤0           ├───┤ y^0.5 ├────┤ R(π/2,-π/4) ├──────────»\n",
      "     └──┬────────┬─┘│  iswap^0.5 │┌──┴───────┴───┐└┬────────────┤┌────────┐»\n",
      "q_1: ───┤ y^-0.5 ├──┤1           ├┤ R(-π/2,-π/4) ├─┤0           ├┤ x^-0.5 ├»\n",
      "      ┌─┴────────┴─┐├────────────┤└┬────────────┬┘ │  iswap^0.5 │├───────┬┘»\n",
      "q_2: ─┤ R(π/2,π/4) ├┤0           ├─┤ R(π/2,π/4) ├──┤1           ├┤ y^0.5 ├─»\n",
      "     ┌┴────────────┤│  iswap^0.5 │ ├────────────┤ ┌┴────────────┤└───────┘ »\n",
      "q_3: ┤ R(π/2,-π/4) ├┤1           ├─┤ R(π/2,π/4) ├─┤ R(π/2,-π/4) ├──────────»\n",
      "     └─────────────┘└────────────┘ └────────────┘ └─────────────┘          »\n",
      "«     ┌────────────┐   ┌───────┐      ┌────────┐                  »\n",
      "«q_0: ┤0           ├───┤ y^0.5 ├──────┤ y^-0.5 ├──────────────────»\n",
      "«     │  iswap^0.5 │   ├───────┤    ┌─┴────────┴─┐┌──────────────┐»\n",
      "«q_1: ┤1           ├───┤ y^0.5 ├────┤0           ├┤ R(-π/2,-π/4) ├»\n",
      "«     ├────────────┤┌──┴───────┴───┐│  iswap^0.5 │├──────────────┤»\n",
      "«q_2: ┤0           ├┤ R(-π/2,-π/4) ├┤1           ├┤ R(-π/2,-π/4) ├»\n",
      "«     │  iswap^0.5 │└┬────────────┬┘└─┬───────┬──┘└──────────────┘»\n",
      "«q_3: ┤1           ├─┤ R(π/2,π/4) ├───┤ y^0.5 ├───────────────────»\n",
      "«     └────────────┘ └────────────┘   └───────┘                   »\n",
      "«     ┌────────────┐┌─────────────┐   ┌────────┐                 ┌────────────┐»\n",
      "«q_0: ┤0           ├┤ R(-π/2,π/4) ├───┤ y^-0.5 ├─────────────────┤0           ├»\n",
      "«     │  iswap^0.5 │└┬────────────┤ ┌─┴────────┴─┐┌─────────────┐│  iswap^0.5 │»\n",
      "«q_1: ┤1           ├─┤ R(π/2,π/4) ├─┤0           ├┤ R(-π/2,π/4) ├┤1           ├»\n",
      "«     ├────────────┤ └─┬────────┬─┘ │  iswap^0.5 │├─────────────┤├────────────┤»\n",
      "«q_2: ┤0           ├───┤ x^-0.5 ├───┤1           ├┤ R(-π/2,π/4) ├┤0           ├»\n",
      "«     │  iswap^0.5 │┌──┴────────┴──┐└─┬────────┬─┘└─────────────┘│  iswap^0.5 │»\n",
      "«q_3: ┤1           ├┤ R(-π/2,-π/4) ├──┤ x^-0.5 ├─────────────────┤1           ├»\n",
      "«     └────────────┘└──────────────┘  └────────┘                 └────────────┘»\n",
      "«     ┌──────────────┐              \n",
      "«q_0: ┤ R(-π/2,-π/4) ├──────────────\n",
      "«     └──┬────────┬──┘┌────────────┐\n",
      "«q_1: ───┤ y^-0.5 ├───┤0           ├\n",
      "«      ┌─┴────────┴─┐ │  iswap^0.5 │\n",
      "«q_2: ─┤ R(π/2,π/4) ├─┤1           ├\n",
      "«      └─┬───────┬──┘ └────────────┘\n",
      "«q_3: ───┤ x^0.5 ├──────────────────\n",
      "«        └───────┘                  \n"
     ]
    }
   ],
   "source": [
    "backend = provider.get_backend(\"ibm_nairobi\")\n",
    "\n",
    "n = 4\n",
    "d = 2**n\n",
    "\n",
    "np.random.seed(42)\n",
    "random.seed(42)\n",
    "\n",
    "circuit = nonintegrable_circuit(n, 4)\n",
    "circuit_target_list = [circuit]\n",
    "\n",
    "print(circuit)"
   ]
  },
  {
   "cell_type": "code",
   "execution_count": 7,
   "metadata": {},
   "outputs": [
    {
     "data": {
      "application/vnd.jupyter.widget-view+json": {
       "model_id": "0344b0689d654ec694c467950c211d8c",
       "version_major": 2,
       "version_minor": 0
      },
      "text/plain": [
       "  0%|          | 0/4 [00:00<?, ?it/s]"
      ]
     },
     "metadata": {},
     "output_type": "display_data"
    },
    {
     "ename": "KeyboardInterrupt",
     "evalue": "",
     "output_type": "error",
     "traceback": [
      "\u001b[1;31m---------------------------------------------------------------------------\u001b[0m",
      "\u001b[1;31mKeyboardInterrupt\u001b[0m                         Traceback (most recent call last)",
      "\u001b[1;32mc:\\Users\\krist\\Documents\\ModelNISQ\\notebooks\\experiments\\Belen Experiments Various.ipynb Cell 40\u001b[0m in \u001b[0;36m<cell line: 8>\u001b[1;34m()\u001b[0m\n\u001b[0;32m      <a href='vscode-notebook-cell:/c%3A/Users/krist/Documents/ModelNISQ/notebooks/experiments/Belen%20Experiments%20Various.ipynb#X63sZmlsZQ%3D%3D?line=4'>5</a>\u001b[0m runner \u001b[39m=\u001b[39m ExecuteAndCollect()\n\u001b[0;32m      <a href='vscode-notebook-cell:/c%3A/Users/krist/Documents/ModelNISQ/notebooks/experiments/Belen%20Experiments%20Various.ipynb#X63sZmlsZQ%3D%3D?line=5'>6</a>\u001b[0m runner\u001b[39m.\u001b[39msetup_circuits(circuit_target_list, N_map \u001b[39m=\u001b[39m \u001b[39m10000\u001b[39m\u001b[39m-\u001b[39m\u001b[39m6\u001b[39m\u001b[39m*\u001b[39m\u001b[39m*\u001b[39mn, initial_layout\u001b[39m=\u001b[39m[\u001b[39m0\u001b[39m,\u001b[39m1\u001b[39m,\u001b[39m3\u001b[39m,\u001b[39m5\u001b[39m])\n\u001b[1;32m----> <a href='vscode-notebook-cell:/c%3A/Users/krist/Documents/ModelNISQ/notebooks/experiments/Belen%20Experiments%20Various.ipynb#X63sZmlsZQ%3D%3D?line=7'>8</a>\u001b[0m runner\u001b[39m.\u001b[39;49mexecute_circuits(backend\u001b[39m=\u001b[39;49mbackend, \n\u001b[0;32m      <a href='vscode-notebook-cell:/c%3A/Users/krist/Documents/ModelNISQ/notebooks/experiments/Belen%20Experiments%20Various.ipynb#X63sZmlsZQ%3D%3D?line=8'>9</a>\u001b[0m                         shots_map \u001b[39m=\u001b[39;49m \u001b[39m1024\u001b[39;49m, \n\u001b[0;32m     <a href='vscode-notebook-cell:/c%3A/Users/krist/Documents/ModelNISQ/notebooks/experiments/Belen%20Experiments%20Various.ipynb#X63sZmlsZQ%3D%3D?line=9'>10</a>\u001b[0m                         shots_spam \u001b[39m=\u001b[39;49m \u001b[39m1024\u001b[39;49m, \n\u001b[0;32m     <a href='vscode-notebook-cell:/c%3A/Users/krist/Documents/ModelNISQ/notebooks/experiments/Belen%20Experiments%20Various.ipynb#X63sZmlsZQ%3D%3D?line=10'>11</a>\u001b[0m                         filename\u001b[39m=\u001b[39;49m\u001b[39m\"\u001b[39;49m\u001b[39mnairobi_4qubit_nonintegrable_medium_new_rerun\u001b[39;49m\u001b[39m\"\u001b[39;49m, \n\u001b[0;32m     <a href='vscode-notebook-cell:/c%3A/Users/krist/Documents/ModelNISQ/notebooks/experiments/Belen%20Experiments%20Various.ipynb#X63sZmlsZQ%3D%3D?line=11'>12</a>\u001b[0m                         concatenate\u001b[39m=\u001b[39;49m\u001b[39mTrue\u001b[39;49;00m)\n",
      "File \u001b[1;32mc:\\Users\\krist\\Documents\\ModelNISQ\\notebooks\\experiments\\../../src_tf\\experimental.py:535\u001b[0m, in \u001b[0;36mExecuteAndCollect.execute_circuits\u001b[1;34m(self, backend, shots_map, shots_spam, filename, concatenate)\u001b[0m\n\u001b[0;32m    533\u001b[0m \u001b[39mif\u001b[39;00m concatenate:\n\u001b[0;32m    534\u001b[0m     circuit_list \u001b[39m=\u001b[39m circuit_list_spam \u001b[39m+\u001b[39m circuit_list_map\n\u001b[1;32m--> 535\u001b[0m     counts_list \u001b[39m=\u001b[39m \u001b[39mself\u001b[39;49m\u001b[39m.\u001b[39;49mrunner(\n\u001b[0;32m    536\u001b[0m         circuit_list[\u001b[39m8000\u001b[39;49m:], backend, shots\u001b[39m=\u001b[39;49mshots_map, filename\u001b[39m=\u001b[39;49mfilename\n\u001b[0;32m    537\u001b[0m     )\n\u001b[0;32m    538\u001b[0m     counts_spam \u001b[39m=\u001b[39m counts_list[: \u001b[39mlen\u001b[39m(circuit_list_spam)]\n\u001b[0;32m    539\u001b[0m     counts_map \u001b[39m=\u001b[39m counts_list[\u001b[39mlen\u001b[39m(circuit_list_spam) :]\n",
      "File \u001b[1;32mc:\\Users\\krist\\Documents\\ModelNISQ\\notebooks\\experiments\\../../src_tf\\experimental.py:570\u001b[0m, in \u001b[0;36mExecuteAndCollect.runner\u001b[1;34m(self, circuit_list, backend, shots, filename, scheduling_method)\u001b[0m\n\u001b[0;32m    567\u001b[0m job_list \u001b[39m=\u001b[39m []\n\u001b[0;32m    569\u001b[0m \u001b[39mfor\u001b[39;00m circuit_parcel \u001b[39min\u001b[39;00m circuit_parcel_list:\n\u001b[1;32m--> 570\u001b[0m     trans_circ_list \u001b[39m=\u001b[39m qk\u001b[39m.\u001b[39;49mtranspile(\n\u001b[0;32m    571\u001b[0m         circuit_parcel,\n\u001b[0;32m    572\u001b[0m         backend,\n\u001b[0;32m    573\u001b[0m         optimization_level\u001b[39m=\u001b[39;49m\u001b[39m0\u001b[39;49m,\n\u001b[0;32m    574\u001b[0m         seed_transpiler\u001b[39m=\u001b[39;49m\u001b[39m42\u001b[39;49m,\n\u001b[0;32m    575\u001b[0m         scheduling_method\u001b[39m=\u001b[39;49mscheduling_method,\n\u001b[0;32m    576\u001b[0m         initial_layout\u001b[39m=\u001b[39;49m\u001b[39mself\u001b[39;49m\u001b[39m.\u001b[39;49minitial_layout,\n\u001b[0;32m    577\u001b[0m     )\n\u001b[0;32m    579\u001b[0m     job \u001b[39m=\u001b[39m backend\u001b[39m.\u001b[39mrun(trans_circ_list, shots\u001b[39m=\u001b[39mshots)\n\u001b[0;32m    581\u001b[0m     job_list\u001b[39m.\u001b[39mappend(job)\n",
      "File \u001b[1;32mc:\\Users\\krist\\anaconda3\\envs\\env_qiskit\\lib\\site-packages\\qiskit\\compiler\\transpiler.py:341\u001b[0m, in \u001b[0;36mtranspile\u001b[1;34m(circuits, backend, basis_gates, inst_map, coupling_map, backend_properties, initial_layout, layout_method, routing_method, translation_method, scheduling_method, instruction_durations, dt, approximation_degree, timing_constraints, seed_transpiler, optimization_level, callback, output_name, unitary_synthesis_method, unitary_synthesis_plugin_config, target)\u001b[0m\n\u001b[0;32m    338\u001b[0m     \u001b[39mfor\u001b[39;00m circuit, unique_args \u001b[39min\u001b[39;00m \u001b[39mzip\u001b[39m(circuits, unique_transpile_args):\n\u001b[0;32m    339\u001b[0m         transpile_config, pass_manager \u001b[39m=\u001b[39m _combine_args(shared_args, unique_args)\n\u001b[0;32m    340\u001b[0m         output_circuits\u001b[39m.\u001b[39mappend(\n\u001b[1;32m--> 341\u001b[0m             _serial_transpile_circuit(\n\u001b[0;32m    342\u001b[0m                 circuit,\n\u001b[0;32m    343\u001b[0m                 pass_manager,\n\u001b[0;32m    344\u001b[0m                 transpile_config[\u001b[39m\"\u001b[39;49m\u001b[39mcallback\u001b[39;49m\u001b[39m\"\u001b[39;49m],\n\u001b[0;32m    345\u001b[0m                 transpile_config[\u001b[39m\"\u001b[39;49m\u001b[39moutput_name\u001b[39;49m\u001b[39m\"\u001b[39;49m],\n\u001b[0;32m    346\u001b[0m                 transpile_config[\u001b[39m\"\u001b[39;49m\u001b[39mbackend_num_qubits\u001b[39;49m\u001b[39m\"\u001b[39;49m],\n\u001b[0;32m    347\u001b[0m                 transpile_config[\u001b[39m\"\u001b[39;49m\u001b[39mfaulty_qubits_map\u001b[39;49m\u001b[39m\"\u001b[39;49m],\n\u001b[0;32m    348\u001b[0m                 transpile_config[\u001b[39m\"\u001b[39;49m\u001b[39mpass_manager_config\u001b[39;49m\u001b[39m\"\u001b[39;49m]\u001b[39m.\u001b[39;49mbackend_properties,\n\u001b[0;32m    349\u001b[0m             )\n\u001b[0;32m    350\u001b[0m         )\n\u001b[0;32m    351\u001b[0m     circuits \u001b[39m=\u001b[39m output_circuits\n\u001b[0;32m    352\u001b[0m end_time \u001b[39m=\u001b[39m time()\n",
      "File \u001b[1;32mc:\\Users\\krist\\anaconda3\\envs\\env_qiskit\\lib\\site-packages\\qiskit\\compiler\\transpiler.py:434\u001b[0m, in \u001b[0;36m_serial_transpile_circuit\u001b[1;34m(circuit, pass_manager, callback, output_name, num_qubits, faulty_qubits_map, backend_prop)\u001b[0m\n\u001b[0;32m    425\u001b[0m \u001b[39mdef\u001b[39;00m \u001b[39m_serial_transpile_circuit\u001b[39m(\n\u001b[0;32m    426\u001b[0m     circuit,\n\u001b[0;32m    427\u001b[0m     pass_manager,\n\u001b[1;32m   (...)\u001b[0m\n\u001b[0;32m    432\u001b[0m     backend_prop\u001b[39m=\u001b[39m\u001b[39mNone\u001b[39;00m,\n\u001b[0;32m    433\u001b[0m ):\n\u001b[1;32m--> 434\u001b[0m     result \u001b[39m=\u001b[39m pass_manager\u001b[39m.\u001b[39;49mrun(circuit, callback\u001b[39m=\u001b[39;49mcallback, output_name\u001b[39m=\u001b[39;49moutput_name)\n\u001b[0;32m    435\u001b[0m     \u001b[39mif\u001b[39;00m faulty_qubits_map:\n\u001b[0;32m    436\u001b[0m         \u001b[39mreturn\u001b[39;00m _remap_circuit_faulty_backend(\n\u001b[0;32m    437\u001b[0m             result,\n\u001b[0;32m    438\u001b[0m             num_qubits,\n\u001b[0;32m    439\u001b[0m             backend_prop,\n\u001b[0;32m    440\u001b[0m             faulty_qubits_map,\n\u001b[0;32m    441\u001b[0m         )\n",
      "File \u001b[1;32mc:\\Users\\krist\\anaconda3\\envs\\env_qiskit\\lib\\site-packages\\qiskit\\transpiler\\passmanager.py:507\u001b[0m, in \u001b[0;36mStagedPassManager.run\u001b[1;34m(self, circuits, output_name, callback)\u001b[0m\n\u001b[0;32m    500\u001b[0m \u001b[39mdef\u001b[39;00m \u001b[39mrun\u001b[39m(\n\u001b[0;32m    501\u001b[0m     \u001b[39mself\u001b[39m,\n\u001b[0;32m    502\u001b[0m     circuits: Union[QuantumCircuit, List[QuantumCircuit]],\n\u001b[0;32m    503\u001b[0m     output_name: \u001b[39mstr\u001b[39m \u001b[39m=\u001b[39m \u001b[39mNone\u001b[39;00m,\n\u001b[0;32m    504\u001b[0m     callback: Callable \u001b[39m=\u001b[39m \u001b[39mNone\u001b[39;00m,\n\u001b[0;32m    505\u001b[0m ) \u001b[39m-\u001b[39m\u001b[39m>\u001b[39m Union[QuantumCircuit, List[QuantumCircuit]]:\n\u001b[0;32m    506\u001b[0m     \u001b[39mself\u001b[39m\u001b[39m.\u001b[39m_update_passmanager()\n\u001b[1;32m--> 507\u001b[0m     \u001b[39mreturn\u001b[39;00m \u001b[39msuper\u001b[39;49m()\u001b[39m.\u001b[39;49mrun(circuits, output_name, callback)\n",
      "File \u001b[1;32mc:\\Users\\krist\\anaconda3\\envs\\env_qiskit\\lib\\site-packages\\qiskit\\transpiler\\passmanager.py:224\u001b[0m, in \u001b[0;36mPassManager.run\u001b[1;34m(self, circuits, output_name, callback)\u001b[0m\n\u001b[0;32m    222\u001b[0m     \u001b[39mreturn\u001b[39;00m circuits\n\u001b[0;32m    223\u001b[0m \u001b[39mif\u001b[39;00m \u001b[39misinstance\u001b[39m(circuits, QuantumCircuit):\n\u001b[1;32m--> 224\u001b[0m     \u001b[39mreturn\u001b[39;00m \u001b[39mself\u001b[39;49m\u001b[39m.\u001b[39;49m_run_single_circuit(circuits, output_name, callback)\n\u001b[0;32m    225\u001b[0m \u001b[39mif\u001b[39;00m \u001b[39mlen\u001b[39m(circuits) \u001b[39m==\u001b[39m \u001b[39m1\u001b[39m:\n\u001b[0;32m    226\u001b[0m     \u001b[39mreturn\u001b[39;00m \u001b[39mself\u001b[39m\u001b[39m.\u001b[39m_run_single_circuit(circuits[\u001b[39m0\u001b[39m], output_name, callback)\n",
      "File \u001b[1;32mc:\\Users\\krist\\anaconda3\\envs\\env_qiskit\\lib\\site-packages\\qiskit\\transpiler\\passmanager.py:279\u001b[0m, in \u001b[0;36mPassManager._run_single_circuit\u001b[1;34m(self, circuit, output_name, callback)\u001b[0m\n\u001b[0;32m    267\u001b[0m \u001b[39m\"\"\"Run all the passes on a ``circuit``.\u001b[39;00m\n\u001b[0;32m    268\u001b[0m \n\u001b[0;32m    269\u001b[0m \u001b[39mArgs:\u001b[39;00m\n\u001b[1;32m   (...)\u001b[0m\n\u001b[0;32m    276\u001b[0m \u001b[39m    The transformed circuit.\u001b[39;00m\n\u001b[0;32m    277\u001b[0m \u001b[39m\"\"\"\u001b[39;00m\n\u001b[0;32m    278\u001b[0m running_passmanager \u001b[39m=\u001b[39m \u001b[39mself\u001b[39m\u001b[39m.\u001b[39m_create_running_passmanager()\n\u001b[1;32m--> 279\u001b[0m result \u001b[39m=\u001b[39m running_passmanager\u001b[39m.\u001b[39;49mrun(circuit, output_name\u001b[39m=\u001b[39;49moutput_name, callback\u001b[39m=\u001b[39;49mcallback)\n\u001b[0;32m    280\u001b[0m \u001b[39mself\u001b[39m\u001b[39m.\u001b[39mproperty_set \u001b[39m=\u001b[39m running_passmanager\u001b[39m.\u001b[39mproperty_set\n\u001b[0;32m    281\u001b[0m \u001b[39mreturn\u001b[39;00m result\n",
      "File \u001b[1;32mc:\\Users\\krist\\anaconda3\\envs\\env_qiskit\\lib\\site-packages\\qiskit\\transpiler\\runningpassmanager.py:124\u001b[0m, in \u001b[0;36mRunningPassManager.run\u001b[1;34m(***failed resolving arguments***)\u001b[0m\n\u001b[0;32m    122\u001b[0m \u001b[39mfor\u001b[39;00m passset \u001b[39min\u001b[39;00m \u001b[39mself\u001b[39m\u001b[39m.\u001b[39mworking_list:\n\u001b[0;32m    123\u001b[0m     \u001b[39mfor\u001b[39;00m pass_ \u001b[39min\u001b[39;00m passset:\n\u001b[1;32m--> 124\u001b[0m         dag \u001b[39m=\u001b[39m \u001b[39mself\u001b[39;49m\u001b[39m.\u001b[39;49m_do_pass(pass_, dag, passset\u001b[39m.\u001b[39;49moptions)\n\u001b[0;32m    126\u001b[0m circuit \u001b[39m=\u001b[39m dag_to_circuit(dag)\n\u001b[0;32m    127\u001b[0m \u001b[39mif\u001b[39;00m output_name:\n",
      "File \u001b[1;32mc:\\Users\\krist\\anaconda3\\envs\\env_qiskit\\lib\\site-packages\\qiskit\\transpiler\\runningpassmanager.py:167\u001b[0m, in \u001b[0;36mRunningPassManager._do_pass\u001b[1;34m(self, pass_, dag, options)\u001b[0m\n\u001b[0;32m    165\u001b[0m \u001b[39m# Run the pass itself, if not already run\u001b[39;00m\n\u001b[0;32m    166\u001b[0m \u001b[39mif\u001b[39;00m pass_ \u001b[39mnot\u001b[39;00m \u001b[39min\u001b[39;00m \u001b[39mself\u001b[39m\u001b[39m.\u001b[39mvalid_passes:\n\u001b[1;32m--> 167\u001b[0m     dag \u001b[39m=\u001b[39m \u001b[39mself\u001b[39;49m\u001b[39m.\u001b[39;49m_run_this_pass(pass_, dag)\n\u001b[0;32m    169\u001b[0m     \u001b[39m# update the valid_passes property\u001b[39;00m\n\u001b[0;32m    170\u001b[0m     \u001b[39mself\u001b[39m\u001b[39m.\u001b[39m_update_valid_passes(pass_)\n",
      "File \u001b[1;32mc:\\Users\\krist\\anaconda3\\envs\\env_qiskit\\lib\\site-packages\\qiskit\\transpiler\\runningpassmanager.py:196\u001b[0m, in \u001b[0;36mRunningPassManager._run_this_pass\u001b[1;34m(self, pass_, dag)\u001b[0m\n\u001b[0;32m    193\u001b[0m \u001b[39mif\u001b[39;00m pass_\u001b[39m.\u001b[39mis_transformation_pass:\n\u001b[0;32m    194\u001b[0m     \u001b[39m# Measure time if we have a callback or logging set\u001b[39;00m\n\u001b[0;32m    195\u001b[0m     start_time \u001b[39m=\u001b[39m time()\n\u001b[1;32m--> 196\u001b[0m     new_dag \u001b[39m=\u001b[39m pass_\u001b[39m.\u001b[39;49mrun(dag)\n\u001b[0;32m    197\u001b[0m     end_time \u001b[39m=\u001b[39m time()\n\u001b[0;32m    198\u001b[0m     run_time \u001b[39m=\u001b[39m end_time \u001b[39m-\u001b[39m start_time\n",
      "File \u001b[1;32mc:\\Users\\krist\\anaconda3\\envs\\env_qiskit\\lib\\site-packages\\qiskit\\transpiler\\passes\\synthesis\\unitary_synthesis.py:328\u001b[0m, in \u001b[0;36mUnitarySynthesis.run\u001b[1;34m(self, dag)\u001b[0m\n\u001b[0;32m    323\u001b[0m \u001b[39mif\u001b[39;00m method\u001b[39m.\u001b[39msupports_coupling_map:\n\u001b[0;32m    324\u001b[0m     kwargs[\u001b[39m\"\u001b[39m\u001b[39mcoupling_map\u001b[39m\u001b[39m\"\u001b[39m] \u001b[39m=\u001b[39m (\n\u001b[0;32m    325\u001b[0m         \u001b[39mself\u001b[39m\u001b[39m.\u001b[39m_coupling_map,\n\u001b[0;32m    326\u001b[0m         [dag_bit_indices[x] \u001b[39mfor\u001b[39;00m x \u001b[39min\u001b[39;00m node\u001b[39m.\u001b[39mqargs],\n\u001b[0;32m    327\u001b[0m     )\n\u001b[1;32m--> 328\u001b[0m synth_dag \u001b[39m=\u001b[39m method\u001b[39m.\u001b[39mrun(unitary, \u001b[39m*\u001b[39m\u001b[39m*\u001b[39mkwargs)\n\u001b[0;32m    329\u001b[0m \u001b[39mif\u001b[39;00m synth_dag \u001b[39mis\u001b[39;00m \u001b[39mnot\u001b[39;00m \u001b[39mNone\u001b[39;00m:\n\u001b[0;32m    330\u001b[0m     \u001b[39mif\u001b[39;00m \u001b[39misinstance\u001b[39m(synth_dag, \u001b[39mtuple\u001b[39m):\n",
      "File \u001b[1;32mc:\\Users\\krist\\anaconda3\\envs\\env_qiskit\\lib\\site-packages\\qiskit\\transpiler\\passes\\synthesis\\unitary_synthesis.py:534\u001b[0m, in \u001b[0;36mDefaultUnitarySynthesis.run\u001b[1;34m(self, unitary, **options)\u001b[0m\n\u001b[0;32m    532\u001b[0m     \u001b[39mif\u001b[39;00m \u001b[39mnot\u001b[39;00m decomposer2q:\n\u001b[0;32m    533\u001b[0m         \u001b[39mreturn\u001b[39;00m \u001b[39mNone\u001b[39;00m\n\u001b[1;32m--> 534\u001b[0m     synth_dag, wires \u001b[39m=\u001b[39m \u001b[39mself\u001b[39;49m\u001b[39m.\u001b[39;49m_synth_natural_direction(\n\u001b[0;32m    535\u001b[0m         unitary,\n\u001b[0;32m    536\u001b[0m         coupling_map,\n\u001b[0;32m    537\u001b[0m         qubits,\n\u001b[0;32m    538\u001b[0m         decomposer2q,\n\u001b[0;32m    539\u001b[0m         gate_lengths,\n\u001b[0;32m    540\u001b[0m         gate_errors,\n\u001b[0;32m    541\u001b[0m         natural_direction,\n\u001b[0;32m    542\u001b[0m         approximation_degree,\n\u001b[0;32m    543\u001b[0m         pulse_optimize,\n\u001b[0;32m    544\u001b[0m         target,\n\u001b[0;32m    545\u001b[0m         preferred_direction,\n\u001b[0;32m    546\u001b[0m     )\n\u001b[0;32m    547\u001b[0m \u001b[39melse\u001b[39;00m:\n\u001b[0;32m    548\u001b[0m     synth_dag \u001b[39m=\u001b[39m circuit_to_dag(qs_decomposition(unitary))\n",
      "File \u001b[1;32mc:\\Users\\krist\\anaconda3\\envs\\env_qiskit\\lib\\site-packages\\qiskit\\transpiler\\passes\\synthesis\\unitary_synthesis.py:621\u001b[0m, in \u001b[0;36mDefaultUnitarySynthesis._synth_natural_direction\u001b[1;34m(self, su4_mat, coupling_map, qubits, decomposer2q, gate_lengths, gate_errors, natural_direction, approximation_degree, pulse_optimize, target, preferred_direction)\u001b[0m\n\u001b[0;32m    619\u001b[0m     basis_fidelity \u001b[39m=\u001b[39m physical_gate_fidelity\n\u001b[0;32m    620\u001b[0m \u001b[39mif\u001b[39;00m \u001b[39mnot\u001b[39;00m \u001b[39misinstance\u001b[39m(decomposer2q, XXDecomposer):\n\u001b[1;32m--> 621\u001b[0m     synth_circ \u001b[39m=\u001b[39m decomposer2q(su4_mat, basis_fidelity\u001b[39m=\u001b[39;49mbasis_fidelity)\n\u001b[0;32m    622\u001b[0m \u001b[39melse\u001b[39;00m:\n\u001b[0;32m    623\u001b[0m     synth_circ \u001b[39m=\u001b[39m decomposer2q(su4_mat)\n",
      "File \u001b[1;32mc:\\Users\\krist\\anaconda3\\envs\\env_qiskit\\lib\\site-packages\\qiskit\\quantum_info\\synthesis\\two_qubit_decompose.py:1102\u001b[0m, in \u001b[0;36mTwoQubitBasisDecomposer.__call__\u001b[1;34m(self, target, basis_fidelity, _num_basis_uses)\u001b[0m\n\u001b[0;32m   1100\u001b[0m \u001b[39mtry\u001b[39;00m:\n\u001b[0;32m   1101\u001b[0m     \u001b[39mif\u001b[39;00m \u001b[39mself\u001b[39m\u001b[39m.\u001b[39mpulse_optimize \u001b[39min\u001b[39;00m {\u001b[39mNone\u001b[39;00m, \u001b[39mTrue\u001b[39;00m}:\n\u001b[1;32m-> 1102\u001b[0m         return_circuit \u001b[39m=\u001b[39m \u001b[39mself\u001b[39;49m\u001b[39m.\u001b[39;49m_pulse_optimal_chooser(\n\u001b[0;32m   1103\u001b[0m             best_nbasis, decomposition, target_decomposed\n\u001b[0;32m   1104\u001b[0m         )\n\u001b[0;32m   1105\u001b[0m         \u001b[39mif\u001b[39;00m return_circuit:\n\u001b[0;32m   1106\u001b[0m             \u001b[39mreturn\u001b[39;00m return_circuit\n",
      "File \u001b[1;32mc:\\Users\\krist\\anaconda3\\envs\\env_qiskit\\lib\\site-packages\\qiskit\\quantum_info\\synthesis\\two_qubit_decompose.py:1151\u001b[0m, in \u001b[0;36mTwoQubitBasisDecomposer._pulse_optimal_chooser\u001b[1;34m(self, best_nbasis, decomposition, target_decomposed)\u001b[0m\n\u001b[0;32m   1149\u001b[0m         circuit \u001b[39m=\u001b[39m \u001b[39mself\u001b[39m\u001b[39m.\u001b[39m_get_sx_vz_3cx_efficient_euler(decomposition, target_decomposed)\n\u001b[0;32m   1150\u001b[0m     \u001b[39melif\u001b[39;00m best_nbasis \u001b[39m==\u001b[39m \u001b[39m2\u001b[39m:\n\u001b[1;32m-> 1151\u001b[0m         circuit \u001b[39m=\u001b[39m \u001b[39mself\u001b[39;49m\u001b[39m.\u001b[39;49m_get_sx_vz_2cx_efficient_euler(decomposition, target_decomposed)\n\u001b[0;32m   1152\u001b[0m \u001b[39melse\u001b[39;00m:\n\u001b[0;32m   1153\u001b[0m     \u001b[39mraise\u001b[39;00m QiskitError(\u001b[39m\"\u001b[39m\u001b[39mpulse_optimizer currently only works with CNOT entangling gate\u001b[39m\u001b[39m\"\u001b[39m)\n",
      "File \u001b[1;32mc:\\Users\\krist\\anaconda3\\envs\\env_qiskit\\lib\\site-packages\\qiskit\\quantum_info\\synthesis\\two_qubit_decompose.py:1236\u001b[0m, in \u001b[0;36mTwoQubitBasisDecomposer._get_sx_vz_2cx_efficient_euler\u001b[1;34m(self, decomposition, target_decomposed)\u001b[0m\n\u001b[0;32m   1234\u001b[0m circ\u001b[39m.\u001b[39mrz(euler_q1[\u001b[39m2\u001b[39m][\u001b[39m1\u001b[39m], \u001b[39m0\u001b[39m)\n\u001b[0;32m   1235\u001b[0m circ\u001b[39m.\u001b[39mrx(euler_q1[\u001b[39m2\u001b[39m][\u001b[39m2\u001b[39m], \u001b[39m0\u001b[39m)\n\u001b[1;32m-> 1236\u001b[0m qceuler \u001b[39m=\u001b[39m \u001b[39mself\u001b[39;49m\u001b[39m.\u001b[39;49m_decomposer1q(Operator(circ)\u001b[39m.\u001b[39;49mdata)\n\u001b[0;32m   1237\u001b[0m qc\u001b[39m.\u001b[39mcompose(qceuler, [\u001b[39m1\u001b[39m], inplace\u001b[39m=\u001b[39m\u001b[39mTrue\u001b[39;00m)\n\u001b[0;32m   1239\u001b[0m \u001b[39mreturn\u001b[39;00m qc\n",
      "File \u001b[1;32mc:\\Users\\krist\\anaconda3\\envs\\env_qiskit\\lib\\site-packages\\qiskit\\quantum_info\\synthesis\\one_qubit_decompose.py:161\u001b[0m, in \u001b[0;36mOneQubitEulerDecomposer.__call__\u001b[1;34m(self, unitary, simplify, atol)\u001b[0m\n\u001b[0;32m    159\u001b[0m \u001b[39mif\u001b[39;00m unitary\u001b[39m.\u001b[39mshape \u001b[39m!=\u001b[39m (\u001b[39m2\u001b[39m, \u001b[39m2\u001b[39m):\n\u001b[0;32m    160\u001b[0m     \u001b[39mraise\u001b[39;00m QiskitError(\u001b[39m\"\u001b[39m\u001b[39mOneQubitEulerDecomposer: expected 2x2 input matrix\u001b[39m\u001b[39m\"\u001b[39m)\n\u001b[1;32m--> 161\u001b[0m \u001b[39mif\u001b[39;00m \u001b[39mnot\u001b[39;00m is_unitary_matrix(unitary):\n\u001b[0;32m    162\u001b[0m     \u001b[39mraise\u001b[39;00m QiskitError(\u001b[39m\"\u001b[39m\u001b[39mOneQubitEulerDecomposer: input matrix is not unitary.\u001b[39m\u001b[39m\"\u001b[39m)\n\u001b[0;32m    163\u001b[0m \u001b[39mreturn\u001b[39;00m \u001b[39mself\u001b[39m\u001b[39m.\u001b[39m_decompose(unitary, simplify\u001b[39m=\u001b[39msimplify, atol\u001b[39m=\u001b[39matol)\n",
      "File \u001b[1;32mc:\\Users\\krist\\anaconda3\\envs\\env_qiskit\\lib\\site-packages\\qiskit\\quantum_info\\operators\\predicates.py:159\u001b[0m, in \u001b[0;36mis_unitary_matrix\u001b[1;34m(mat, rtol, atol)\u001b[0m\n\u001b[0;32m    157\u001b[0m mat \u001b[39m=\u001b[39m np\u001b[39m.\u001b[39marray(mat)\n\u001b[0;32m    158\u001b[0m \u001b[39m# Compute A^dagger.A and see if it is identity matrix\u001b[39;00m\n\u001b[1;32m--> 159\u001b[0m mat \u001b[39m=\u001b[39m np\u001b[39m.\u001b[39;49mconj(mat\u001b[39m.\u001b[39;49mT)\u001b[39m.\u001b[39;49mdot(mat)\n\u001b[0;32m    160\u001b[0m \u001b[39mreturn\u001b[39;00m is_identity_matrix(mat, ignore_phase\u001b[39m=\u001b[39m\u001b[39mFalse\u001b[39;00m, rtol\u001b[39m=\u001b[39mrtol, atol\u001b[39m=\u001b[39matol)\n",
      "\u001b[1;31mKeyboardInterrupt\u001b[0m: "
     ]
    }
   ],
   "source": [
    "np.random.seed(42)\n",
    "random.seed(42)\n",
    "rng = np.random.default_rng(42)\n",
    "\n",
    "runner = ExecuteAndCollect()\n",
    "runner.setup_circuits(circuit_target_list, N_map = 10000-6**n, initial_layout=[0,1,3,5])\n",
    "\n",
    "runner.execute_circuits(backend=backend, \n",
    "                        shots_map = 1024, \n",
    "                        shots_spam = 1024, \n",
    "                        filename=\"nairobi_4qubit_nonintegrable_medium_new_rerun\", \n",
    "                        concatenate=True)"
   ]
  },
  {
   "cell_type": "code",
   "execution_count": 5,
   "metadata": {},
   "outputs": [
    {
     "data": {
      "application/vnd.jupyter.widget-view+json": {
       "model_id": "de6ee694405040d4baf3a96c375c3e1d",
       "version_major": 2,
       "version_minor": 0
      },
      "text/plain": [
       "  0%|          | 0/4 [00:00<?, ?it/s]"
      ]
     },
     "metadata": {},
     "output_type": "display_data"
    },
    {
     "data": {
      "application/vnd.jupyter.widget-view+json": {
       "model_id": "31666868a2874fe7af24a20328d1ac14",
       "version_major": 2,
       "version_minor": 0
      },
      "text/plain": [
       "  0%|          | 0/5 [00:00<?, ?it/s]"
      ]
     },
     "metadata": {},
     "output_type": "display_data"
    },
    {
     "data": {
      "application/vnd.jupyter.widget-view+json": {
       "model_id": "c706808ea52c49bcbc0fffcc8eff7ae1",
       "version_major": 2,
       "version_minor": 0
      },
      "text/plain": [
       "  0%|          | 0/5 [00:00<?, ?it/s]"
      ]
     },
     "metadata": {},
     "output_type": "display_data"
    },
    {
     "data": {
      "application/vnd.jupyter.widget-view+json": {
       "model_id": "178a41c46ef34a098e9870e905c95592",
       "version_major": 2,
       "version_minor": 0
      },
      "text/plain": [
       "  0%|          | 0/5 [00:00<?, ?it/s]"
      ]
     },
     "metadata": {},
     "output_type": "display_data"
    },
    {
     "data": {
      "application/vnd.jupyter.widget-view+json": {
       "model_id": "c5af8bbeeee64fd68e4a8b53b8533203",
       "version_major": 2,
       "version_minor": 0
      },
      "text/plain": [
       "  0%|          | 0/5 [00:00<?, ?it/s]"
      ]
     },
     "metadata": {},
     "output_type": "display_data"
    }
   ],
   "source": [
    "np.random.seed(42)\n",
    "random.seed(42)\n",
    "rng = np.random.default_rng(42)\n",
    "\n",
    "runner = ExecuteAndCollect()\n",
    "runner.setup_circuits(circuit_target_list, N_map = 10000-6**n, initial_layout=[0,1,3,5])\n",
    "\n",
    "runner.execute_circuits(backend=backend, \n",
    "                        shots_map = 1024, \n",
    "                        shots_spam = 1024, \n",
    "                        filename=\"nairobi_4qubit_nonintegrable_medium_rerun\", \n",
    "                        concatenate=True)"
   ]
  },
  {
   "attachments": {},
   "cell_type": "markdown",
   "metadata": {},
   "source": [
    "### Integrable, Shallow"
   ]
  },
  {
   "cell_type": "code",
   "execution_count": 4,
   "metadata": {},
   "outputs": [
    {
     "name": "stdout",
     "output_type": "stream",
     "text": [
      "     ┌──────────────┐┌────────────┐┌─────────────┐┌─────────────┐»\n",
      "q_0: ┤ Rz(-0.78829) ├┤0           ├┤ Rz(-2.1613) ├┤ Rz(0.63532) ├»\n",
      "     └┬────────────┬┘│  iswap^0.5 │├─────────────┤└┬────────────┤»\n",
      "q_1: ─┤ Rz(2.8319) ├─┤1           ├┤ Rz(-2.1615) ├─┤0           ├»\n",
      "      ├────────────┤ ├────────────┤├─────────────┤ │  iswap^0.5 │»\n",
      "q_2: ─┤ Rz(1.4577) ├─┤0           ├┤ Rz(-2.7766) ├─┤1           ├»\n",
      "     ┌┴────────────┤ │  iswap^0.5 │└┬────────────┤ ├────────────┤»\n",
      "q_3: ┤ Rz(0.61989) ├─┤1           ├─┤ Rz(2.3008) ├─┤ Rz(2.9525) ├»\n",
      "     └─────────────┘ └────────────┘ └────────────┘ └────────────┘»\n",
      "«                    ┌────────────┐ ┌────────────┐              \n",
      "«q_0: ───────────────┤0           ├─┤ Rz(2.0888) ├──────────────\n",
      "«      ┌────────────┐│  iswap^0.5 │┌┴────────────┤┌────────────┐\n",
      "«q_1: ─┤ Rz(1.3074) ├┤1           ├┤ Rz(-1.8074) ├┤0           ├\n",
      "«     ┌┴────────────┤├────────────┤├─────────────┤│  iswap^0.5 │\n",
      "«q_2: ┤ Rz(-3.0123) ├┤0           ├┤ Rz(-1.9992) ├┤1           ├\n",
      "«     └─────────────┘│  iswap^0.5 │├─────────────┤└────────────┘\n",
      "«q_3: ───────────────┤1           ├┤ Rz(-1.9892) ├──────────────\n",
      "«                    └────────────┘└─────────────┘              \n"
     ]
    }
   ],
   "source": [
    "backend = provider.get_backend(\"ibm_nairobi\")\n",
    "\n",
    "n = 4\n",
    "d = 2**n\n",
    "\n",
    "np.random.seed(42)\n",
    "random.seed(42)\n",
    "\n",
    "circuit = integrable_circuit(n, 2)\n",
    "circuit_target_list = [circuit]\n",
    "\n",
    "print(circuit)"
   ]
  },
  {
   "cell_type": "code",
   "execution_count": null,
   "metadata": {},
   "outputs": [],
   "source": [
    "np.random.seed(42)\n",
    "random.seed(42)\n",
    "rng = np.random.default_rng(42)\n",
    "\n",
    "runner = ExecuteAndCollect()\n",
    "runner.setup_circuits(circuit_target_list, N_map = 10000-6**n, initial_layout=[0,1,3,5])\n",
    "\n",
    "runner.execute_circuits(backend=backend, \n",
    "                        shots_map = 1024, \n",
    "                        shots_spam = 1024, \n",
    "                        filename=\"nairobi_4qubit_integrable_shallow\", \n",
    "                        concatenate=True)"
   ]
  },
  {
   "attachments": {},
   "cell_type": "markdown",
   "metadata": {},
   "source": [
    "## Non-Integrable, Shallow"
   ]
  },
  {
   "cell_type": "code",
   "execution_count": 5,
   "metadata": {},
   "outputs": [
    {
     "name": "stdout",
     "output_type": "stream",
     "text": [
      "     ┌─────────────┐┌────────────┐   ┌───────┐    ┌─────────────┐          »\n",
      "q_0: ┤ R(π/2,-π/4) ├┤0           ├───┤ y^0.5 ├────┤ R(π/2,-π/4) ├──────────»\n",
      "     └──┬────────┬─┘│  iswap^0.5 │┌──┴───────┴───┐└┬────────────┤┌────────┐»\n",
      "q_1: ───┤ y^-0.5 ├──┤1           ├┤ R(-π/2,-π/4) ├─┤0           ├┤ x^-0.5 ├»\n",
      "      ┌─┴────────┴─┐├────────────┤└┬────────────┬┘ │  iswap^0.5 │├───────┬┘»\n",
      "q_2: ─┤ R(π/2,π/4) ├┤0           ├─┤ R(π/2,π/4) ├──┤1           ├┤ y^0.5 ├─»\n",
      "     ┌┴────────────┤│  iswap^0.5 │ ├────────────┤ ┌┴────────────┤└───────┘ »\n",
      "q_3: ┤ R(π/2,-π/4) ├┤1           ├─┤ R(π/2,π/4) ├─┤ R(π/2,-π/4) ├──────────»\n",
      "     └─────────────┘└────────────┘ └────────────┘ └─────────────┘          »\n",
      "«     ┌────────────┐   ┌───────┐                  \n",
      "«q_0: ┤0           ├───┤ y^0.5 ├──────────────────\n",
      "«     │  iswap^0.5 │   ├───────┤    ┌────────────┐\n",
      "«q_1: ┤1           ├───┤ y^0.5 ├────┤0           ├\n",
      "«     ├────────────┤┌──┴───────┴───┐│  iswap^0.5 │\n",
      "«q_2: ┤0           ├┤ R(-π/2,-π/4) ├┤1           ├\n",
      "«     │  iswap^0.5 │└┬────────────┬┘└────────────┘\n",
      "«q_3: ┤1           ├─┤ R(π/2,π/4) ├───────────────\n",
      "«     └────────────┘ └────────────┘               \n"
     ]
    }
   ],
   "source": [
    "backend = provider.get_backend(\"ibm_nairobi\")\n",
    "\n",
    "n = 4\n",
    "d = 2**n\n",
    "\n",
    "np.random.seed(42)\n",
    "random.seed(42)\n",
    "\n",
    "circuit = nonintegrable_circuit(n, 2)\n",
    "circuit_target_list = [circuit]\n",
    "\n",
    "print(circuit)"
   ]
  },
  {
   "cell_type": "code",
   "execution_count": null,
   "metadata": {},
   "outputs": [],
   "source": [
    "np.random.seed(42)\n",
    "random.seed(42)\n",
    "rng = np.random.default_rng(42)\n",
    "\n",
    "runner = ExecuteAndCollect()\n",
    "runner.setup_circuits(circuit_target_list, N_map = 10000-6**n, initial_layout=[0,1,3,5])\n",
    "\n",
    "runner.execute_circuits(backend=backend, \n",
    "                        shots_map = 1024, \n",
    "                        shots_spam = 1024, \n",
    "                        filename=\"nairobi_4qubit_nonintegrable_shallow\", \n",
    "                        concatenate=True)"
   ]
  },
  {
   "attachments": {},
   "cell_type": "markdown",
   "metadata": {},
   "source": [
    "## Integrable, Deep"
   ]
  },
  {
   "cell_type": "code",
   "execution_count": 7,
   "metadata": {},
   "outputs": [
    {
     "name": "stdout",
     "output_type": "stream",
     "text": [
      "      ┌────────────┐┌────────────┐┌─────────────┐  ┌────────────┐»\n",
      "q_0: ─┤ Rz(1.7834) ├┤0           ├┤ Rz(-1.1745) ├──┤ Rz(2.5932) ├»\n",
      "     ┌┴────────────┤│  iswap^0.5 │└┬────────────┤  ├────────────┤»\n",
      "q_1: ┤ Rz(0.84719) ├┤1           ├─┤ Rz(2.7472) ├──┤0           ├»\n",
      "     ├─────────────┤├────────────┤┌┴────────────┤  │  iswap^0.5 │»\n",
      "q_2: ┤ Rz(-1.5768) ├┤0           ├┤ Rz(-2.8723) ├──┤1           ├»\n",
      "     └┬────────────┤│  iswap^0.5 │├─────────────┴┐┌┴────────────┤»\n",
      "q_3: ─┤ Rz(1.6215) ├┤1           ├┤ Rz(-0.37154) ├┤ Rz(-2.6081) ├»\n",
      "      └────────────┘└────────────┘└──────────────┘└─────────────┘»\n",
      "«                     ┌────────────┐┌──────────────┐┌─────────────┐»\n",
      "«q_0: ────────────────┤0           ├┤ Rz(-0.46276) ├┤ Rz(-2.4877) ├»\n",
      "«     ┌──────────────┐│  iswap^0.5 │└┬────────────┬┘└┬────────────┤»\n",
      "«q_1: ┤ Rz(-0.28272) ├┤1           ├─┤ Rz(1.5439) ├──┤0           ├»\n",
      "«     ├──────────────┤├────────────┤ ├────────────┤  │  iswap^0.5 │»\n",
      "«q_2: ┤ Rz(0.049853) ├┤0           ├─┤ Rz(2.3064) ├──┤1           ├»\n",
      "«     └──────────────┘│  iswap^0.5 │┌┴────────────┤ ┌┴────────────┤»\n",
      "«q_3: ────────────────┤1           ├┤ Rz(-1.1079) ├─┤ Rz(0.80279) ├»\n",
      "«                     └────────────┘└─────────────┘ └─────────────┘»\n",
      "«                     ┌────────────┐┌─────────────┐ ┌─────────────┐»\n",
      "«q_0: ────────────────┤0           ├┤ Rz(-2.9155) ├─┤ Rz(-1.4928) ├»\n",
      "«      ┌────────────┐ │  iswap^0.5 │├─────────────┤ └┬────────────┤»\n",
      "«q_1: ─┤ Rz(1.8982) ├─┤1           ├┤ Rz(-1.2572) ├──┤0           ├»\n",
      "«     ┌┴────────────┴┐├────────────┤├─────────────┤  │  iswap^0.5 │»\n",
      "«q_2: ┤ Rz(-0.66079) ├┤0           ├┤ Rz(-2.8422) ├──┤1           ├»\n",
      "«     └──────────────┘│  iswap^0.5 │├─────────────┴┐┌┴────────────┤»\n",
      "«q_3: ────────────────┤1           ├┤ Rz(-0.80292) ├┤ Rz(-1.2093) ├»\n",
      "«                     └────────────┘└──────────────┘└─────────────┘»\n",
      "«                     ┌────────────┐ ┌─────────────┐ ┌─────────────┐»\n",
      "«q_0: ────────────────┤0           ├─┤ Rz(-1.7524) ├─┤ Rz(-1.6654) ├»\n",
      "«      ┌────────────┐ │  iswap^0.5 │┌┴─────────────┴┐└┬────────────┤»\n",
      "«q_1: ─┤ Rz(3.0821) ├─┤1           ├┤ Rz(-0.037542) ├─┤0           ├»\n",
      "«     ┌┴────────────┴┐├────────────┤└─┬────────────┬┘ │  iswap^0.5 │»\n",
      "«q_2: ┤ Rz(-0.65882) ├┤0           ├──┤ Rz(-2.778) ├──┤1           ├»\n",
      "«     └──────────────┘│  iswap^0.5 │ ┌┴────────────┤  ├────────────┤»\n",
      "«q_3: ────────────────┤1           ├─┤ Rz(-1.3214) ├──┤ Rz(2.2782) ├»\n",
      "«                     └────────────┘ └─────────────┘  └────────────┘»\n",
      "«                   ┌────────────┐┌─────────────┐┌─────────────┐               »\n",
      "«q_0: ──────────────┤0           ├┤ Rz(-2.5756) ├┤ Rz(-2.9957) ├───────────────»\n",
      "«     ┌────────────┐│  iswap^0.5 │├─────────────┤└┬────────────┤ ┌────────────┐»\n",
      "«q_1: ┤ Rz(2.9118) ├┤1           ├┤ Rz(-2.2055) ├─┤0           ├─┤ Rz(2.5618) ├»\n",
      "«     ├────────────┤├────────────┤└┬────────────┤ │  iswap^0.5 │┌┴────────────┤»\n",
      "«q_2: ┤ Rz(0.7268) ├┤0           ├─┤ Rz(1.0843) ├─┤1           ├┤ Rz(-2.7768) ├»\n",
      "«     └────────────┘│  iswap^0.5 │ ├────────────┤ ├────────────┤└─────────────┘»\n",
      "«q_3: ──────────────┤1           ├─┤ Rz(3.0096) ├─┤ Rz(1.6064) ├───────────────»\n",
      "«                   └────────────┘ └────────────┘ └────────────┘               »\n",
      "«     ┌────────────┐┌─────────────┐┌─────────────┐               ┌────────────┐»\n",
      "«q_0: ┤0           ├┤ Rz(-2.7357) ├┤ Rz(-2.4721) ├───────────────┤0           ├»\n",
      "«     │  iswap^0.5 │├─────────────┤└┬────────────┤┌─────────────┐│  iswap^0.5 │»\n",
      "«q_1: ┤1           ├┤ Rz(-1.5348) ├─┤0           ├┤ Rz(0.13062) ├┤1           ├»\n",
      "«     ├────────────┤├─────────────┤ │  iswap^0.5 │├─────────────┤├────────────┤»\n",
      "«q_2: ┤0           ├┤ Rz(-2.0759) ├─┤1           ├┤ Rz(-3.1023) ├┤0           ├»\n",
      "«     │  iswap^0.5 │├─────────────┤ ├────────────┤└─────────────┘│  iswap^0.5 │»\n",
      "«q_3: ┤1           ├┤ Rz(-1.9156) ├─┤ Rz(1.8259) ├───────────────┤1           ├»\n",
      "«     └────────────┘└─────────────┘ └────────────┘               └────────────┘»\n",
      "«      ┌───────────┐  ┌────────────┐               ┌────────────┐»\n",
      "«q_0: ─┤ Rz(-2.27) ├──┤ Rz(2.1102) ├───────────────┤0           ├»\n",
      "«     ┌┴───────────┴┐ ├────────────┤┌─────────────┐│  iswap^0.5 │»\n",
      "«q_1: ┤ Rz(-2.4684) ├─┤0           ├┤ Rz(-3.1047) ├┤1           ├»\n",
      "«     ├─────────────┴┐│  iswap^0.5 │├─────────────┤├────────────┤»\n",
      "«q_2: ┤ Rz(-0.44233) ├┤1           ├┤ Rz(-2.2097) ├┤0           ├»\n",
      "«     ├─────────────┬┘├────────────┤└─────────────┘│  iswap^0.5 │»\n",
      "«q_3: ┤ Rz(-1.7657) ├─┤ Rz(1.2462) ├───────────────┤1           ├»\n",
      "«     └─────────────┘ └────────────┘               └────────────┘»\n",
      "«     ┌─────────────┐               \n",
      "«q_0: ┤ Rz(-2.2141) ├───────────────\n",
      "«     └┬────────────┤ ┌────────────┐\n",
      "«q_1: ─┤ Rz(2.3297) ├─┤0           ├\n",
      "«     ┌┴────────────┴┐│  iswap^0.5 │\n",
      "«q_2: ┤ Rz(0.087878) ├┤1           ├\n",
      "«     ├──────────────┤└────────────┘\n",
      "«q_3: ┤ Rz(-0.47249) ├──────────────\n",
      "«     └──────────────┘              \n"
     ]
    }
   ],
   "source": [
    "backend = provider.get_backend(\"ibm_nairobi\")\n",
    "\n",
    "n = 4\n",
    "d = 2**n\n",
    "\n",
    "#np.random.seed(42)\n",
    "#random.seed(42)\n",
    "\n",
    "np.random.seed(46)\n",
    "random.seed(46)\n",
    "\n",
    "circuit = integrable_circuit(n, 8)\n",
    "circuit_target_list = [circuit]\n",
    "\n",
    "print(circuit)"
   ]
  },
  {
   "cell_type": "code",
   "execution_count": 5,
   "metadata": {},
   "outputs": [
    {
     "data": {
      "application/vnd.jupyter.widget-view+json": {
       "model_id": "c456a34288894e4087642e249b899d66",
       "version_major": 2,
       "version_minor": 0
      },
      "text/plain": [
       "  0%|          | 0/20 [00:00<?, ?it/s]"
      ]
     },
     "metadata": {},
     "output_type": "display_data"
    },
    {
     "data": {
      "application/vnd.jupyter.widget-view+json": {
       "model_id": "0756f0f55321472f9beb927247a4330b",
       "version_major": 2,
       "version_minor": 0
      },
      "text/plain": [
       "  0%|          | 0/5 [00:00<?, ?it/s]"
      ]
     },
     "metadata": {},
     "output_type": "display_data"
    },
    {
     "data": {
      "application/vnd.jupyter.widget-view+json": {
       "model_id": "8b0871ac549c45e1b7af2abbbd392c14",
       "version_major": 2,
       "version_minor": 0
      },
      "text/plain": [
       "  0%|          | 0/5 [00:00<?, ?it/s]"
      ]
     },
     "metadata": {},
     "output_type": "display_data"
    },
    {
     "data": {
      "application/vnd.jupyter.widget-view+json": {
       "model_id": "d953e892f24e4154a3130dd17a8cfc20",
       "version_major": 2,
       "version_minor": 0
      },
      "text/plain": [
       "  0%|          | 0/5 [00:00<?, ?it/s]"
      ]
     },
     "metadata": {},
     "output_type": "display_data"
    },
    {
     "data": {
      "application/vnd.jupyter.widget-view+json": {
       "model_id": "8f6fb2bf4c344d5e8b7c3de63cb80004",
       "version_major": 2,
       "version_minor": 0
      },
      "text/plain": [
       "  0%|          | 0/5 [00:00<?, ?it/s]"
      ]
     },
     "metadata": {},
     "output_type": "display_data"
    },
    {
     "data": {
      "application/vnd.jupyter.widget-view+json": {
       "model_id": "69b5591092cf40f7a75c62787c064e77",
       "version_major": 2,
       "version_minor": 0
      },
      "text/plain": [
       "  0%|          | 0/5 [00:00<?, ?it/s]"
      ]
     },
     "metadata": {},
     "output_type": "display_data"
    },
    {
     "data": {
      "application/vnd.jupyter.widget-view+json": {
       "model_id": "dfac3aab4ab040f8b9a01f867f499313",
       "version_major": 2,
       "version_minor": 0
      },
      "text/plain": [
       "  0%|          | 0/5 [00:00<?, ?it/s]"
      ]
     },
     "metadata": {},
     "output_type": "display_data"
    },
    {
     "data": {
      "application/vnd.jupyter.widget-view+json": {
       "model_id": "91202eed10db47e4b930119aba8eecce",
       "version_major": 2,
       "version_minor": 0
      },
      "text/plain": [
       "  0%|          | 0/5 [00:00<?, ?it/s]"
      ]
     },
     "metadata": {},
     "output_type": "display_data"
    },
    {
     "data": {
      "application/vnd.jupyter.widget-view+json": {
       "model_id": "53ddef9728aa42f392ccaea7c067aeb7",
       "version_major": 2,
       "version_minor": 0
      },
      "text/plain": [
       "  0%|          | 0/5 [00:00<?, ?it/s]"
      ]
     },
     "metadata": {},
     "output_type": "display_data"
    },
    {
     "data": {
      "application/vnd.jupyter.widget-view+json": {
       "model_id": "a514e996e34248ad8228b0ee8b6af81e",
       "version_major": 2,
       "version_minor": 0
      },
      "text/plain": [
       "  0%|          | 0/5 [00:00<?, ?it/s]"
      ]
     },
     "metadata": {},
     "output_type": "display_data"
    },
    {
     "data": {
      "application/vnd.jupyter.widget-view+json": {
       "model_id": "60f3b3cb02a44c3ba2540ce718302ad9",
       "version_major": 2,
       "version_minor": 0
      },
      "text/plain": [
       "  0%|          | 0/5 [00:00<?, ?it/s]"
      ]
     },
     "metadata": {},
     "output_type": "display_data"
    },
    {
     "data": {
      "application/vnd.jupyter.widget-view+json": {
       "model_id": "d5d343bc00824a30960ff4314dc1e9d0",
       "version_major": 2,
       "version_minor": 0
      },
      "text/plain": [
       "  0%|          | 0/5 [00:00<?, ?it/s]"
      ]
     },
     "metadata": {},
     "output_type": "display_data"
    },
    {
     "data": {
      "application/vnd.jupyter.widget-view+json": {
       "model_id": "bcf4745a0d9f4358b5b1ba1d1d32a5f9",
       "version_major": 2,
       "version_minor": 0
      },
      "text/plain": [
       "  0%|          | 0/5 [00:00<?, ?it/s]"
      ]
     },
     "metadata": {},
     "output_type": "display_data"
    },
    {
     "data": {
      "application/vnd.jupyter.widget-view+json": {
       "model_id": "cefc10182b63495bad00e1daf9ee871d",
       "version_major": 2,
       "version_minor": 0
      },
      "text/plain": [
       "  0%|          | 0/5 [00:00<?, ?it/s]"
      ]
     },
     "metadata": {},
     "output_type": "display_data"
    },
    {
     "data": {
      "application/vnd.jupyter.widget-view+json": {
       "model_id": "56e10cf57ae44f2082afa79148ae0831",
       "version_major": 2,
       "version_minor": 0
      },
      "text/plain": [
       "  0%|          | 0/5 [00:00<?, ?it/s]"
      ]
     },
     "metadata": {},
     "output_type": "display_data"
    },
    {
     "data": {
      "application/vnd.jupyter.widget-view+json": {
       "model_id": "23c1aae05e17450ca5c5f2f1db9b78ce",
       "version_major": 2,
       "version_minor": 0
      },
      "text/plain": [
       "  0%|          | 0/5 [00:00<?, ?it/s]"
      ]
     },
     "metadata": {},
     "output_type": "display_data"
    }
   ],
   "source": [
    "np.random.seed(42)\n",
    "random.seed(42)\n",
    "rng = np.random.default_rng(42)\n",
    "\n",
    "runner = ExecuteAndCollect()\n",
    "runner.setup_circuits(circuit_target_list, N_map = 10000-6**n, initial_layout=[0,1,3,5])\n",
    "\n",
    "runner.execute_circuits(backend=backend, \n",
    "                        shots_map = 1024, \n",
    "                        shots_spam = 1024, \n",
    "                        filename=\"nairobi_4qubit_integrable_deep\", \n",
    "                        concatenate=True)"
   ]
  },
  {
   "cell_type": "code",
   "execution_count": 5,
   "metadata": {},
   "outputs": [
    {
     "data": {
      "application/vnd.jupyter.widget-view+json": {
       "model_id": "004fdbf25b0b4948bb127c4f4bc4bba5",
       "version_major": 2,
       "version_minor": 0
      },
      "text/plain": [
       "  0%|          | 0/6 [00:00<?, ?it/s]"
      ]
     },
     "metadata": {},
     "output_type": "display_data"
    },
    {
     "data": {
      "application/vnd.jupyter.widget-view+json": {
       "model_id": "2e8bcf919d7346c7a6b120e362752551",
       "version_major": 2,
       "version_minor": 0
      },
      "text/plain": [
       "  0%|          | 0/5 [00:00<?, ?it/s]"
      ]
     },
     "metadata": {},
     "output_type": "display_data"
    },
    {
     "data": {
      "application/vnd.jupyter.widget-view+json": {
       "model_id": "6c7bda52f54444ba9b84c34dd34efc2d",
       "version_major": 2,
       "version_minor": 0
      },
      "text/plain": [
       "  0%|          | 0/5 [00:00<?, ?it/s]"
      ]
     },
     "metadata": {},
     "output_type": "display_data"
    },
    {
     "data": {
      "application/vnd.jupyter.widget-view+json": {
       "model_id": "a667a1b9516440c08ff9c244b46536fc",
       "version_major": 2,
       "version_minor": 0
      },
      "text/plain": [
       "  0%|          | 0/5 [00:00<?, ?it/s]"
      ]
     },
     "metadata": {},
     "output_type": "display_data"
    },
    {
     "data": {
      "application/vnd.jupyter.widget-view+json": {
       "model_id": "edd1e209347c4814a19a622dba467a75",
       "version_major": 2,
       "version_minor": 0
      },
      "text/plain": [
       "  0%|          | 0/5 [00:00<?, ?it/s]"
      ]
     },
     "metadata": {},
     "output_type": "display_data"
    }
   ],
   "source": [
    "np.random.seed(42)\n",
    "random.seed(42)\n",
    "rng = np.random.default_rng(42)\n",
    "\n",
    "runner = ExecuteAndCollect()\n",
    "runner.setup_circuits(circuit_target_list, N_map = 10000-6**n, initial_layout=[0,1,3,5])\n",
    "\n",
    "runner.execute_circuits(backend=backend, \n",
    "                        shots_map = 1024, \n",
    "                        shots_spam = 1024, \n",
    "                        filename=\"nairobi_4qubit_integrable_deep_rerun\", \n",
    "                        concatenate=True)"
   ]
  },
  {
   "cell_type": "code",
   "execution_count": 5,
   "metadata": {},
   "outputs": [
    {
     "data": {
      "application/vnd.jupyter.widget-view+json": {
       "model_id": "3ebd5c6dba694227aecb71fae3209e73",
       "version_major": 2,
       "version_minor": 0
      },
      "text/plain": [
       "  0%|          | 0/20 [00:00<?, ?it/s]"
      ]
     },
     "metadata": {},
     "output_type": "display_data"
    },
    {
     "data": {
      "application/vnd.jupyter.widget-view+json": {
       "model_id": "e52255f8fa7247e7a2af316754f0fcc0",
       "version_major": 2,
       "version_minor": 0
      },
      "text/plain": [
       "  0%|          | 0/5 [00:00<?, ?it/s]"
      ]
     },
     "metadata": {},
     "output_type": "display_data"
    },
    {
     "data": {
      "application/vnd.jupyter.widget-view+json": {
       "model_id": "0b4a123a5b37439f986d939ab5737e2f",
       "version_major": 2,
       "version_minor": 0
      },
      "text/plain": [
       "  0%|          | 0/5 [00:00<?, ?it/s]"
      ]
     },
     "metadata": {},
     "output_type": "display_data"
    },
    {
     "data": {
      "application/vnd.jupyter.widget-view+json": {
       "model_id": "2b4cace63d14440396b5f573d3b1d633",
       "version_major": 2,
       "version_minor": 0
      },
      "text/plain": [
       "  0%|          | 0/5 [00:00<?, ?it/s]"
      ]
     },
     "metadata": {},
     "output_type": "display_data"
    },
    {
     "data": {
      "application/vnd.jupyter.widget-view+json": {
       "model_id": "a69781e56f25422bb7a0f4b4571fd509",
       "version_major": 2,
       "version_minor": 0
      },
      "text/plain": [
       "  0%|          | 0/5 [00:00<?, ?it/s]"
      ]
     },
     "metadata": {},
     "output_type": "display_data"
    },
    {
     "data": {
      "application/vnd.jupyter.widget-view+json": {
       "model_id": "055e891c40384ac3a29d9589ceb6dac7",
       "version_major": 2,
       "version_minor": 0
      },
      "text/plain": [
       "  0%|          | 0/5 [00:00<?, ?it/s]"
      ]
     },
     "metadata": {},
     "output_type": "display_data"
    },
    {
     "data": {
      "application/vnd.jupyter.widget-view+json": {
       "model_id": "e741989ddb3742e38544dd703e40f937",
       "version_major": 2,
       "version_minor": 0
      },
      "text/plain": [
       "  0%|          | 0/5 [00:00<?, ?it/s]"
      ]
     },
     "metadata": {},
     "output_type": "display_data"
    },
    {
     "data": {
      "application/vnd.jupyter.widget-view+json": {
       "model_id": "a49e03d4d6a849d293746e490edb7737",
       "version_major": 2,
       "version_minor": 0
      },
      "text/plain": [
       "  0%|          | 0/5 [00:00<?, ?it/s]"
      ]
     },
     "metadata": {},
     "output_type": "display_data"
    },
    {
     "data": {
      "application/vnd.jupyter.widget-view+json": {
       "model_id": "368c17138ad8460b892adf18e03a9a0a",
       "version_major": 2,
       "version_minor": 0
      },
      "text/plain": [
       "  0%|          | 0/5 [00:00<?, ?it/s]"
      ]
     },
     "metadata": {},
     "output_type": "display_data"
    },
    {
     "data": {
      "application/vnd.jupyter.widget-view+json": {
       "model_id": "f458cc9c3afb44019832dce75dbc0bd7",
       "version_major": 2,
       "version_minor": 0
      },
      "text/plain": [
       "  0%|          | 0/5 [00:00<?, ?it/s]"
      ]
     },
     "metadata": {},
     "output_type": "display_data"
    },
    {
     "data": {
      "application/vnd.jupyter.widget-view+json": {
       "model_id": "158d117879634b2eb4a198a63eb9424c",
       "version_major": 2,
       "version_minor": 0
      },
      "text/plain": [
       "  0%|          | 0/5 [00:00<?, ?it/s]"
      ]
     },
     "metadata": {},
     "output_type": "display_data"
    },
    {
     "data": {
      "application/vnd.jupyter.widget-view+json": {
       "model_id": "2d5e3acd74a646b68a8c6a840b4dab93",
       "version_major": 2,
       "version_minor": 0
      },
      "text/plain": [
       "  0%|          | 0/5 [00:00<?, ?it/s]"
      ]
     },
     "metadata": {},
     "output_type": "display_data"
    },
    {
     "data": {
      "application/vnd.jupyter.widget-view+json": {
       "model_id": "5ad65dbf9a814a118db263d89cc202c7",
       "version_major": 2,
       "version_minor": 0
      },
      "text/plain": [
       "  0%|          | 0/5 [00:00<?, ?it/s]"
      ]
     },
     "metadata": {},
     "output_type": "display_data"
    },
    {
     "data": {
      "application/vnd.jupyter.widget-view+json": {
       "model_id": "239fc653ef99438d9d4181c1580a6fe9",
       "version_major": 2,
       "version_minor": 0
      },
      "text/plain": [
       "  0%|          | 0/5 [00:00<?, ?it/s]"
      ]
     },
     "metadata": {},
     "output_type": "display_data"
    },
    {
     "data": {
      "application/vnd.jupyter.widget-view+json": {
       "model_id": "6799902965d843088b55a503b095b54f",
       "version_major": 2,
       "version_minor": 0
      },
      "text/plain": [
       "  0%|          | 0/5 [00:00<?, ?it/s]"
      ]
     },
     "metadata": {},
     "output_type": "display_data"
    },
    {
     "data": {
      "application/vnd.jupyter.widget-view+json": {
       "model_id": "ab588c00e24a4328b1af49183056b9bd",
       "version_major": 2,
       "version_minor": 0
      },
      "text/plain": [
       "  0%|          | 0/5 [00:00<?, ?it/s]"
      ]
     },
     "metadata": {},
     "output_type": "display_data"
    },
    {
     "data": {
      "application/vnd.jupyter.widget-view+json": {
       "model_id": "f4e2b0c7dd4a45f8b7e1bff66fd18882",
       "version_major": 2,
       "version_minor": 0
      },
      "text/plain": [
       "  0%|          | 0/5 [00:00<?, ?it/s]"
      ]
     },
     "metadata": {},
     "output_type": "display_data"
    },
    {
     "data": {
      "application/vnd.jupyter.widget-view+json": {
       "model_id": "2b28749d18d34b0bad3f40452f025743",
       "version_major": 2,
       "version_minor": 0
      },
      "text/plain": [
       "  0%|          | 0/5 [00:00<?, ?it/s]"
      ]
     },
     "metadata": {},
     "output_type": "display_data"
    },
    {
     "data": {
      "application/vnd.jupyter.widget-view+json": {
       "model_id": "32ee53e07d3e4fb49a9f69a8e456a1c3",
       "version_major": 2,
       "version_minor": 0
      },
      "text/plain": [
       "  0%|          | 0/5 [00:00<?, ?it/s]"
      ]
     },
     "metadata": {},
     "output_type": "display_data"
    },
    {
     "data": {
      "application/vnd.jupyter.widget-view+json": {
       "model_id": "cedee0d70040418593413e8aec4cc722",
       "version_major": 2,
       "version_minor": 0
      },
      "text/plain": [
       "  0%|          | 0/5 [00:00<?, ?it/s]"
      ]
     },
     "metadata": {},
     "output_type": "display_data"
    },
    {
     "data": {
      "application/vnd.jupyter.widget-view+json": {
       "model_id": "2c66dbf296ab485f9664e9cfd8d885ad",
       "version_major": 2,
       "version_minor": 0
      },
      "text/plain": [
       "  0%|          | 0/5 [00:00<?, ?it/s]"
      ]
     },
     "metadata": {},
     "output_type": "display_data"
    }
   ],
   "source": [
    "np.random.seed(42)\n",
    "random.seed(42)\n",
    "rng = np.random.default_rng(42)\n",
    "\n",
    "runner = ExecuteAndCollect()\n",
    "runner.setup_circuits(circuit_target_list, N_map = 10000-6**n, initial_layout=[0,1,3,5])\n",
    "\n",
    "runner.execute_circuits(backend=backend, \n",
    "                        shots_map = 1024, \n",
    "                        shots_spam = 1024, \n",
    "                        filename=\"nairobi_4qubit_integrable_deep_2rerun\", \n",
    "                        concatenate=True)"
   ]
  },
  {
   "cell_type": "code",
   "execution_count": 8,
   "metadata": {},
   "outputs": [
    {
     "data": {
      "application/vnd.jupyter.widget-view+json": {
       "model_id": "6e92bfcee65a42b6aa515e09724376cd",
       "version_major": 2,
       "version_minor": 0
      },
      "text/plain": [
       "  0%|          | 0/20 [00:00<?, ?it/s]"
      ]
     },
     "metadata": {},
     "output_type": "display_data"
    },
    {
     "data": {
      "application/vnd.jupyter.widget-view+json": {
       "model_id": "c20b6a40435248b79928f2ba8d4428ef",
       "version_major": 2,
       "version_minor": 0
      },
      "text/plain": [
       "  0%|          | 0/5 [00:00<?, ?it/s]"
      ]
     },
     "metadata": {},
     "output_type": "display_data"
    },
    {
     "data": {
      "application/vnd.jupyter.widget-view+json": {
       "model_id": "b08c45f37b0c4c53b6e2036597d03724",
       "version_major": 2,
       "version_minor": 0
      },
      "text/plain": [
       "  0%|          | 0/5 [00:00<?, ?it/s]"
      ]
     },
     "metadata": {},
     "output_type": "display_data"
    },
    {
     "data": {
      "application/vnd.jupyter.widget-view+json": {
       "model_id": "d167a837cc6f46e38e2f9c8fe0930e18",
       "version_major": 2,
       "version_minor": 0
      },
      "text/plain": [
       "  0%|          | 0/5 [00:00<?, ?it/s]"
      ]
     },
     "metadata": {},
     "output_type": "display_data"
    },
    {
     "data": {
      "application/vnd.jupyter.widget-view+json": {
       "model_id": "817e96edf4c84ca8b8dad0c89c91b05a",
       "version_major": 2,
       "version_minor": 0
      },
      "text/plain": [
       "  0%|          | 0/5 [00:00<?, ?it/s]"
      ]
     },
     "metadata": {},
     "output_type": "display_data"
    },
    {
     "data": {
      "application/vnd.jupyter.widget-view+json": {
       "model_id": "b658d4c1e2df467fbcf3a97dbe83d11a",
       "version_major": 2,
       "version_minor": 0
      },
      "text/plain": [
       "  0%|          | 0/5 [00:00<?, ?it/s]"
      ]
     },
     "metadata": {},
     "output_type": "display_data"
    },
    {
     "data": {
      "application/vnd.jupyter.widget-view+json": {
       "model_id": "b8f4d9f77c6d4305bbb7de44abe18623",
       "version_major": 2,
       "version_minor": 0
      },
      "text/plain": [
       "  0%|          | 0/5 [00:00<?, ?it/s]"
      ]
     },
     "metadata": {},
     "output_type": "display_data"
    },
    {
     "data": {
      "application/vnd.jupyter.widget-view+json": {
       "model_id": "e3703cce290d4655bf04f57ccabd2e6f",
       "version_major": 2,
       "version_minor": 0
      },
      "text/plain": [
       "  0%|          | 0/5 [00:00<?, ?it/s]"
      ]
     },
     "metadata": {},
     "output_type": "display_data"
    },
    {
     "data": {
      "application/vnd.jupyter.widget-view+json": {
       "model_id": "8da37ebfd3c84f5c86288230a7231d1b",
       "version_major": 2,
       "version_minor": 0
      },
      "text/plain": [
       "  0%|          | 0/5 [00:00<?, ?it/s]"
      ]
     },
     "metadata": {},
     "output_type": "display_data"
    },
    {
     "data": {
      "application/vnd.jupyter.widget-view+json": {
       "model_id": "d08826141a8b45d2be8f940361e8b5ce",
       "version_major": 2,
       "version_minor": 0
      },
      "text/plain": [
       "  0%|          | 0/5 [00:00<?, ?it/s]"
      ]
     },
     "metadata": {},
     "output_type": "display_data"
    },
    {
     "data": {
      "application/vnd.jupyter.widget-view+json": {
       "model_id": "82794d4d83204933a88d71480d5e89ae",
       "version_major": 2,
       "version_minor": 0
      },
      "text/plain": [
       "  0%|          | 0/5 [00:00<?, ?it/s]"
      ]
     },
     "metadata": {},
     "output_type": "display_data"
    },
    {
     "data": {
      "application/vnd.jupyter.widget-view+json": {
       "model_id": "4507945a5f3645aeb8173b55632ec561",
       "version_major": 2,
       "version_minor": 0
      },
      "text/plain": [
       "  0%|          | 0/5 [00:00<?, ?it/s]"
      ]
     },
     "metadata": {},
     "output_type": "display_data"
    },
    {
     "data": {
      "application/vnd.jupyter.widget-view+json": {
       "model_id": "f21aad6fbd504a60914dc3cb7f9b2d04",
       "version_major": 2,
       "version_minor": 0
      },
      "text/plain": [
       "  0%|          | 0/5 [00:00<?, ?it/s]"
      ]
     },
     "metadata": {},
     "output_type": "display_data"
    },
    {
     "data": {
      "application/vnd.jupyter.widget-view+json": {
       "model_id": "d54b4e7446db4cc399f84e397ecc0b09",
       "version_major": 2,
       "version_minor": 0
      },
      "text/plain": [
       "  0%|          | 0/5 [00:00<?, ?it/s]"
      ]
     },
     "metadata": {},
     "output_type": "display_data"
    },
    {
     "data": {
      "application/vnd.jupyter.widget-view+json": {
       "model_id": "9c76f104a8c24a95b7974bfa89103507",
       "version_major": 2,
       "version_minor": 0
      },
      "text/plain": [
       "  0%|          | 0/5 [00:00<?, ?it/s]"
      ]
     },
     "metadata": {},
     "output_type": "display_data"
    },
    {
     "data": {
      "application/vnd.jupyter.widget-view+json": {
       "model_id": "2bfd79d5ce744e1f8e049dd5b7206c7f",
       "version_major": 2,
       "version_minor": 0
      },
      "text/plain": [
       "  0%|          | 0/5 [00:00<?, ?it/s]"
      ]
     },
     "metadata": {},
     "output_type": "display_data"
    },
    {
     "data": {
      "application/vnd.jupyter.widget-view+json": {
       "model_id": "d3c0e38bc8eb4e4cbf06e6af49c7df3c",
       "version_major": 2,
       "version_minor": 0
      },
      "text/plain": [
       "  0%|          | 0/5 [00:00<?, ?it/s]"
      ]
     },
     "metadata": {},
     "output_type": "display_data"
    },
    {
     "data": {
      "application/vnd.jupyter.widget-view+json": {
       "model_id": "f2b5ee35167e4e87a1a7e47157a84811",
       "version_major": 2,
       "version_minor": 0
      },
      "text/plain": [
       "  0%|          | 0/5 [00:00<?, ?it/s]"
      ]
     },
     "metadata": {},
     "output_type": "display_data"
    },
    {
     "data": {
      "application/vnd.jupyter.widget-view+json": {
       "model_id": "c65c492ef4814b9ab89b4078fdb1a78d",
       "version_major": 2,
       "version_minor": 0
      },
      "text/plain": [
       "  0%|          | 0/5 [00:00<?, ?it/s]"
      ]
     },
     "metadata": {},
     "output_type": "display_data"
    },
    {
     "data": {
      "application/vnd.jupyter.widget-view+json": {
       "model_id": "9f2bf893e898479199fd3622ddc69326",
       "version_major": 2,
       "version_minor": 0
      },
      "text/plain": [
       "  0%|          | 0/5 [00:00<?, ?it/s]"
      ]
     },
     "metadata": {},
     "output_type": "display_data"
    },
    {
     "data": {
      "application/vnd.jupyter.widget-view+json": {
       "model_id": "a8a1e63d995e4b1a832a11840bf435c5",
       "version_major": 2,
       "version_minor": 0
      },
      "text/plain": [
       "  0%|          | 0/5 [00:00<?, ?it/s]"
      ]
     },
     "metadata": {},
     "output_type": "display_data"
    }
   ],
   "source": [
    "np.random.seed(42)\n",
    "random.seed(42)\n",
    "rng = np.random.default_rng(42)\n",
    "\n",
    "runner = ExecuteAndCollect()\n",
    "runner.setup_circuits(circuit_target_list, N_map = 10000-6**n, initial_layout=[0,1,3,5])\n",
    "\n",
    "runner.execute_circuits(backend=backend, \n",
    "                        shots_map = 1024, \n",
    "                        shots_spam = 1024, \n",
    "                        filename=\"nairobi_4qubit_integrable_deep_3rerun\", \n",
    "                        concatenate=True)"
   ]
  },
  {
   "attachments": {},
   "cell_type": "markdown",
   "metadata": {},
   "source": [
    "## Deep Non-integrable"
   ]
  },
  {
   "cell_type": "code",
   "execution_count": 4,
   "metadata": {},
   "outputs": [
    {
     "name": "stdout",
     "output_type": "stream",
     "text": [
      "     ┌─────────────┐┌────────────┐   ┌───────┐    ┌─────────────┐          »\n",
      "q_0: ┤ R(π/2,-π/4) ├┤0           ├───┤ y^0.5 ├────┤ R(π/2,-π/4) ├──────────»\n",
      "     └──┬────────┬─┘│  iswap^0.5 │┌──┴───────┴───┐└┬────────────┤┌────────┐»\n",
      "q_1: ───┤ y^-0.5 ├──┤1           ├┤ R(-π/2,-π/4) ├─┤0           ├┤ x^-0.5 ├»\n",
      "      ┌─┴────────┴─┐├────────────┤└┬────────────┬┘ │  iswap^0.5 │├───────┬┘»\n",
      "q_2: ─┤ R(π/2,π/4) ├┤0           ├─┤ R(π/2,π/4) ├──┤1           ├┤ y^0.5 ├─»\n",
      "     ┌┴────────────┤│  iswap^0.5 │ ├────────────┤ ┌┴────────────┤└───────┘ »\n",
      "q_3: ┤ R(π/2,-π/4) ├┤1           ├─┤ R(π/2,π/4) ├─┤ R(π/2,-π/4) ├──────────»\n",
      "     └─────────────┘└────────────┘ └────────────┘ └─────────────┘          »\n",
      "«     ┌────────────┐   ┌───────┐      ┌────────┐                  »\n",
      "«q_0: ┤0           ├───┤ y^0.5 ├──────┤ y^-0.5 ├──────────────────»\n",
      "«     │  iswap^0.5 │   ├───────┤    ┌─┴────────┴─┐┌──────────────┐»\n",
      "«q_1: ┤1           ├───┤ y^0.5 ├────┤0           ├┤ R(-π/2,-π/4) ├»\n",
      "«     ├────────────┤┌──┴───────┴───┐│  iswap^0.5 │├──────────────┤»\n",
      "«q_2: ┤0           ├┤ R(-π/2,-π/4) ├┤1           ├┤ R(-π/2,-π/4) ├»\n",
      "«     │  iswap^0.5 │└┬────────────┬┘└─┬───────┬──┘└──────────────┘»\n",
      "«q_3: ┤1           ├─┤ R(π/2,π/4) ├───┤ y^0.5 ├───────────────────»\n",
      "«     └────────────┘ └────────────┘   └───────┘                   »\n",
      "«     ┌────────────┐┌─────────────┐   ┌────────┐                 ┌────────────┐»\n",
      "«q_0: ┤0           ├┤ R(-π/2,π/4) ├───┤ y^-0.5 ├─────────────────┤0           ├»\n",
      "«     │  iswap^0.5 │└┬────────────┤ ┌─┴────────┴─┐┌─────────────┐│  iswap^0.5 │»\n",
      "«q_1: ┤1           ├─┤ R(π/2,π/4) ├─┤0           ├┤ R(-π/2,π/4) ├┤1           ├»\n",
      "«     ├────────────┤ └─┬────────┬─┘ │  iswap^0.5 │├─────────────┤├────────────┤»\n",
      "«q_2: ┤0           ├───┤ x^-0.5 ├───┤1           ├┤ R(-π/2,π/4) ├┤0           ├»\n",
      "«     │  iswap^0.5 │┌──┴────────┴──┐└─┬────────┬─┘└─────────────┘│  iswap^0.5 │»\n",
      "«q_3: ┤1           ├┤ R(-π/2,-π/4) ├──┤ x^-0.5 ├─────────────────┤1           ├»\n",
      "«     └────────────┘└──────────────┘  └────────┘                 └────────────┘»\n",
      "«     ┌──────────────┐  ┌────────┐                 ┌────────────┐┌────────┐»\n",
      "«q_0: ┤ R(-π/2,-π/4) ├──┤ y^-0.5 ├─────────────────┤0           ├┤ y^-0.5 ├»\n",
      "«     └──┬────────┬──┘┌─┴────────┴─┐   ┌────────┐  │  iswap^0.5 │├───────┬┘»\n",
      "«q_1: ───┤ y^-0.5 ├───┤0           ├───┤ x^-0.5 ├──┤1           ├┤ x^0.5 ├─»\n",
      "«      ┌─┴────────┴─┐ │  iswap^0.5 │┌──┴────────┴─┐├────────────┤├───────┤ »\n",
      "«q_2: ─┤ R(π/2,π/4) ├─┤1           ├┤ R(-π/2,π/4) ├┤0           ├┤ x^0.5 ├─»\n",
      "«      └─┬───────┬──┘ ├────────────┤└─────────────┘│  iswap^0.5 │├───────┤ »\n",
      "«q_3: ───┤ x^0.5 ├────┤ R(π/2,π/4) ├───────────────┤1           ├┤ y^0.5 ├─»\n",
      "«        └───────┘    └────────────┘               └────────────┘└───────┘ »\n",
      "«        ┌───────┐                   ┌────────────┐   ┌────────┐   »\n",
      "«q_0: ───┤ y^0.5 ├───────────────────┤0           ├───┤ y^-0.5 ├───»\n",
      "«      ┌─┴───────┴──┐ ┌─────────────┐│  iswap^0.5 │   ├────────┤   »\n",
      "«q_1: ─┤0           ├─┤ R(π/2,-π/4) ├┤1           ├───┤ y^-0.5 ├───»\n",
      "«      │  iswap^0.5 │ └──┬────────┬─┘├────────────┤┌──┴────────┴──┐»\n",
      "«q_2: ─┤1           ├────┤ x^-0.5 ├──┤0           ├┤ R(-π/2,-π/4) ├»\n",
      "«     ┌┴────────────┴┐   └────────┘  │  iswap^0.5 │├─────────────┬┘»\n",
      "«q_3: ┤ R(-π/2,-π/4) ├───────────────┤1           ├┤ R(π/2,-π/4) ├─»\n",
      "«     └──────────────┘               └────────────┘└─────────────┘ »\n",
      "«     ┌─────────────┐               ┌────────────┐   ┌───────┐   »\n",
      "«q_0: ┤ R(-π/2,π/4) ├───────────────┤0           ├───┤ y^0.5 ├───»\n",
      "«     └┬────────────┤┌─────────────┐│  iswap^0.5 │   ├───────┴┐  »\n",
      "«q_1: ─┤0           ├┤ R(-π/2,π/4) ├┤1           ├───┤ y^-0.5 ├──»\n",
      "«      │  iswap^0.5 │├─────────────┤├────────────┤┌──┴────────┴─┐»\n",
      "«q_2: ─┤1           ├┤ R(π/2,-π/4) ├┤0           ├┤ R(π/2,-π/4) ├»\n",
      "«     ┌┴────────────┤└─────────────┘│  iswap^0.5 │└──┬────────┬─┘»\n",
      "«q_3: ┤ R(-π/2,π/4) ├───────────────┤1           ├───┤ y^-0.5 ├──»\n",
      "«     └─────────────┘               └────────────┘   └────────┘  »\n",
      "«     ┌──────────────┐         ┌────────────┐   ┌───────┐                 \n",
      "«q_0: ┤ R(-π/2,-π/4) ├─────────┤0           ├───┤ y^0.5 ├─────────────────\n",
      "«     └┬────────────┬┘┌───────┐│  iswap^0.5 │┌──┴───────┴──┐┌────────────┐\n",
      "«q_1: ─┤0           ├─┤ x^0.5 ├┤1           ├┤ R(π/2,-π/4) ├┤0           ├\n",
      "«      │  iswap^0.5 │ ├───────┤├────────────┤└┬────────────┤│  iswap^0.5 │\n",
      "«q_2: ─┤1           ├─┤ y^0.5 ├┤0           ├─┤ R(π/2,π/4) ├┤1           ├\n",
      "«      ├────────────┤ └───────┘│  iswap^0.5 │ └─┬───────┬──┘└────────────┘\n",
      "«q_3: ─┤ R(π/2,π/4) ├──────────┤1           ├───┤ x^0.5 ├─────────────────\n",
      "«      └────────────┘          └────────────┘   └───────┘                 \n"
     ]
    }
   ],
   "source": [
    "backend = provider.get_backend(\"ibm_nairobi\")\n",
    "\n",
    "n = 4\n",
    "d = 2**n\n",
    "\n",
    "np.random.seed(42)\n",
    "random.seed(42)\n",
    "\n",
    "circuit = nonintegrable_circuit(n, 8)\n",
    "circuit_target_list = [circuit]\n",
    "\n",
    "print(circuit)"
   ]
  },
  {
   "cell_type": "code",
   "execution_count": 5,
   "metadata": {},
   "outputs": [
    {
     "data": {
      "application/vnd.jupyter.widget-view+json": {
       "model_id": "deff785537ad4d5098b09cad6a2f5641",
       "version_major": 2,
       "version_minor": 0
      },
      "text/plain": [
       "  0%|          | 0/20 [00:00<?, ?it/s]"
      ]
     },
     "metadata": {},
     "output_type": "display_data"
    },
    {
     "data": {
      "application/vnd.jupyter.widget-view+json": {
       "model_id": "73419131413b4bf1a51669bead3ccee3",
       "version_major": 2,
       "version_minor": 0
      },
      "text/plain": [
       "  0%|          | 0/5 [00:00<?, ?it/s]"
      ]
     },
     "metadata": {},
     "output_type": "display_data"
    },
    {
     "data": {
      "application/vnd.jupyter.widget-view+json": {
       "model_id": "c54a294c3bcb44fcb439e720263ac6c8",
       "version_major": 2,
       "version_minor": 0
      },
      "text/plain": [
       "  0%|          | 0/5 [00:00<?, ?it/s]"
      ]
     },
     "metadata": {},
     "output_type": "display_data"
    },
    {
     "data": {
      "application/vnd.jupyter.widget-view+json": {
       "model_id": "7e1372cda12c45a3b546de67e5de14a6",
       "version_major": 2,
       "version_minor": 0
      },
      "text/plain": [
       "  0%|          | 0/5 [00:00<?, ?it/s]"
      ]
     },
     "metadata": {},
     "output_type": "display_data"
    },
    {
     "data": {
      "application/vnd.jupyter.widget-view+json": {
       "model_id": "18622b974ec148528d1214d4c1ace30f",
       "version_major": 2,
       "version_minor": 0
      },
      "text/plain": [
       "  0%|          | 0/5 [00:00<?, ?it/s]"
      ]
     },
     "metadata": {},
     "output_type": "display_data"
    },
    {
     "data": {
      "application/vnd.jupyter.widget-view+json": {
       "model_id": "962d2c28fe2443249e0f7194496fe33e",
       "version_major": 2,
       "version_minor": 0
      },
      "text/plain": [
       "  0%|          | 0/5 [00:00<?, ?it/s]"
      ]
     },
     "metadata": {},
     "output_type": "display_data"
    },
    {
     "data": {
      "application/vnd.jupyter.widget-view+json": {
       "model_id": "def5f80bab91413f9b0833f518e16026",
       "version_major": 2,
       "version_minor": 0
      },
      "text/plain": [
       "  0%|          | 0/5 [00:00<?, ?it/s]"
      ]
     },
     "metadata": {},
     "output_type": "display_data"
    },
    {
     "data": {
      "application/vnd.jupyter.widget-view+json": {
       "model_id": "49761d6e05e84c8a875991d85834b54f",
       "version_major": 2,
       "version_minor": 0
      },
      "text/plain": [
       "  0%|          | 0/5 [00:00<?, ?it/s]"
      ]
     },
     "metadata": {},
     "output_type": "display_data"
    },
    {
     "data": {
      "application/vnd.jupyter.widget-view+json": {
       "model_id": "a8228f95374a4d23b54e37e2114433b8",
       "version_major": 2,
       "version_minor": 0
      },
      "text/plain": [
       "  0%|          | 0/5 [00:00<?, ?it/s]"
      ]
     },
     "metadata": {},
     "output_type": "display_data"
    },
    {
     "data": {
      "application/vnd.jupyter.widget-view+json": {
       "model_id": "2b65a04fc4f34c8592b808cc2f74a852",
       "version_major": 2,
       "version_minor": 0
      },
      "text/plain": [
       "  0%|          | 0/5 [00:00<?, ?it/s]"
      ]
     },
     "metadata": {},
     "output_type": "display_data"
    },
    {
     "data": {
      "application/vnd.jupyter.widget-view+json": {
       "model_id": "afb8e560ec954b18bc22d5067d07f081",
       "version_major": 2,
       "version_minor": 0
      },
      "text/plain": [
       "  0%|          | 0/5 [00:00<?, ?it/s]"
      ]
     },
     "metadata": {},
     "output_type": "display_data"
    },
    {
     "data": {
      "application/vnd.jupyter.widget-view+json": {
       "model_id": "dd6542af62624a3bbbe06256510e6149",
       "version_major": 2,
       "version_minor": 0
      },
      "text/plain": [
       "  0%|          | 0/5 [00:00<?, ?it/s]"
      ]
     },
     "metadata": {},
     "output_type": "display_data"
    },
    {
     "data": {
      "application/vnd.jupyter.widget-view+json": {
       "model_id": "cb5bc6d66aab4597af85456bc676a266",
       "version_major": 2,
       "version_minor": 0
      },
      "text/plain": [
       "  0%|          | 0/5 [00:00<?, ?it/s]"
      ]
     },
     "metadata": {},
     "output_type": "display_data"
    },
    {
     "data": {
      "application/vnd.jupyter.widget-view+json": {
       "model_id": "3ea483228ba14f338f86b683e44180c9",
       "version_major": 2,
       "version_minor": 0
      },
      "text/plain": [
       "  0%|          | 0/5 [00:00<?, ?it/s]"
      ]
     },
     "metadata": {},
     "output_type": "display_data"
    },
    {
     "data": {
      "application/vnd.jupyter.widget-view+json": {
       "model_id": "ebf6de8c3a394fcf83f920f60e02416f",
       "version_major": 2,
       "version_minor": 0
      },
      "text/plain": [
       "  0%|          | 0/5 [00:00<?, ?it/s]"
      ]
     },
     "metadata": {},
     "output_type": "display_data"
    },
    {
     "data": {
      "application/vnd.jupyter.widget-view+json": {
       "model_id": "44231350da7448c398f05cd0ce43deb1",
       "version_major": 2,
       "version_minor": 0
      },
      "text/plain": [
       "  0%|          | 0/5 [00:00<?, ?it/s]"
      ]
     },
     "metadata": {},
     "output_type": "display_data"
    },
    {
     "data": {
      "application/vnd.jupyter.widget-view+json": {
       "model_id": "64862474c0f8472fabe5d5745b1c1eef",
       "version_major": 2,
       "version_minor": 0
      },
      "text/plain": [
       "  0%|          | 0/5 [00:00<?, ?it/s]"
      ]
     },
     "metadata": {},
     "output_type": "display_data"
    },
    {
     "data": {
      "application/vnd.jupyter.widget-view+json": {
       "model_id": "123b5ad1026344d68f944227200d505b",
       "version_major": 2,
       "version_minor": 0
      },
      "text/plain": [
       "  0%|          | 0/5 [00:00<?, ?it/s]"
      ]
     },
     "metadata": {},
     "output_type": "display_data"
    },
    {
     "data": {
      "application/vnd.jupyter.widget-view+json": {
       "model_id": "dca41230f1c34cf589dd90f1be496f3e",
       "version_major": 2,
       "version_minor": 0
      },
      "text/plain": [
       "  0%|          | 0/5 [00:00<?, ?it/s]"
      ]
     },
     "metadata": {},
     "output_type": "display_data"
    },
    {
     "data": {
      "application/vnd.jupyter.widget-view+json": {
       "model_id": "ca5a4dea5b6a4658af6ea66f01b71f3d",
       "version_major": 2,
       "version_minor": 0
      },
      "text/plain": [
       "  0%|          | 0/5 [00:00<?, ?it/s]"
      ]
     },
     "metadata": {},
     "output_type": "display_data"
    },
    {
     "data": {
      "application/vnd.jupyter.widget-view+json": {
       "model_id": "6789ca17899349dd9a04ecc81dd2d311",
       "version_major": 2,
       "version_minor": 0
      },
      "text/plain": [
       "  0%|          | 0/5 [00:00<?, ?it/s]"
      ]
     },
     "metadata": {},
     "output_type": "display_data"
    }
   ],
   "source": [
    "np.random.seed(42)\n",
    "random.seed(42)\n",
    "rng = np.random.default_rng(42)\n",
    "\n",
    "runner = ExecuteAndCollect()\n",
    "runner.setup_circuits(circuit_target_list, N_map = 10000-6**n, initial_layout=[0,1,3,5])\n",
    "\n",
    "runner.execute_circuits(backend=backend, \n",
    "                        shots_map = 1024, \n",
    "                        shots_spam = 1024, \n",
    "                        filename=\"nairobi_4qubit_nonintegrable_deep\", \n",
    "                        concatenate=True)"
   ]
  },
  {
   "attachments": {},
   "cell_type": "markdown",
   "metadata": {},
   "source": [
    "## QFT four qubit"
   ]
  },
  {
   "cell_type": "code",
   "execution_count": 5,
   "metadata": {},
   "outputs": [
    {
     "name": "stdout",
     "output_type": "stream",
     "text": [
      "     ┌──────┐\n",
      "q_0: ┤0     ├\n",
      "     │      │\n",
      "q_1: ┤1     ├\n",
      "     │  QFT │\n",
      "q_2: ┤2     ├\n",
      "     │      │\n",
      "q_3: ┤3     ├\n",
      "     └──────┘\n"
     ]
    }
   ],
   "source": [
    "backend = provider.get_backend(\"ibm_nairobi\")\n",
    "\n",
    "n = 4\n",
    "d = 2**n\n",
    "\n",
    "np.random.seed(42)\n",
    "random.seed(42)\n",
    "\n",
    "circuit = QFT(4, do_swaps=True, inverse=False)\n",
    "circuit_target_list = [circuit]\n",
    "\n",
    "print(circuit)"
   ]
  },
  {
   "cell_type": "code",
   "execution_count": 6,
   "metadata": {},
   "outputs": [
    {
     "data": {
      "application/vnd.jupyter.widget-view+json": {
       "model_id": "ee6633641dc0405da8f34dc7d1b8165c",
       "version_major": 2,
       "version_minor": 0
      },
      "text/plain": [
       "  0%|          | 0/20 [00:00<?, ?it/s]"
      ]
     },
     "metadata": {},
     "output_type": "display_data"
    },
    {
     "data": {
      "application/vnd.jupyter.widget-view+json": {
       "model_id": "3aeba377903c40dc8cf349eb5ae082c9",
       "version_major": 2,
       "version_minor": 0
      },
      "text/plain": [
       "  0%|          | 0/5 [00:00<?, ?it/s]"
      ]
     },
     "metadata": {},
     "output_type": "display_data"
    },
    {
     "data": {
      "application/vnd.jupyter.widget-view+json": {
       "model_id": "fec1751f51d440859de1c4d0921b270f",
       "version_major": 2,
       "version_minor": 0
      },
      "text/plain": [
       "  0%|          | 0/5 [00:00<?, ?it/s]"
      ]
     },
     "metadata": {},
     "output_type": "display_data"
    },
    {
     "data": {
      "application/vnd.jupyter.widget-view+json": {
       "model_id": "e0936d5d18e648ad8c78413ea5d43957",
       "version_major": 2,
       "version_minor": 0
      },
      "text/plain": [
       "  0%|          | 0/5 [00:00<?, ?it/s]"
      ]
     },
     "metadata": {},
     "output_type": "display_data"
    },
    {
     "data": {
      "application/vnd.jupyter.widget-view+json": {
       "model_id": "50cfb43e12d048d7959ff7ecf252f7e2",
       "version_major": 2,
       "version_minor": 0
      },
      "text/plain": [
       "  0%|          | 0/5 [00:00<?, ?it/s]"
      ]
     },
     "metadata": {},
     "output_type": "display_data"
    },
    {
     "data": {
      "application/vnd.jupyter.widget-view+json": {
       "model_id": "0975aad1772a435e9fe6eac4a3dc0965",
       "version_major": 2,
       "version_minor": 0
      },
      "text/plain": [
       "  0%|          | 0/5 [00:00<?, ?it/s]"
      ]
     },
     "metadata": {},
     "output_type": "display_data"
    },
    {
     "data": {
      "application/vnd.jupyter.widget-view+json": {
       "model_id": "ae82d53e323f445aab77ce87be865a3a",
       "version_major": 2,
       "version_minor": 0
      },
      "text/plain": [
       "  0%|          | 0/5 [00:00<?, ?it/s]"
      ]
     },
     "metadata": {},
     "output_type": "display_data"
    },
    {
     "data": {
      "application/vnd.jupyter.widget-view+json": {
       "model_id": "4345629fb7d44964baf66137b3b09c55",
       "version_major": 2,
       "version_minor": 0
      },
      "text/plain": [
       "  0%|          | 0/5 [00:00<?, ?it/s]"
      ]
     },
     "metadata": {},
     "output_type": "display_data"
    },
    {
     "data": {
      "application/vnd.jupyter.widget-view+json": {
       "model_id": "4a1c98af5b594169b46bf69e890afa70",
       "version_major": 2,
       "version_minor": 0
      },
      "text/plain": [
       "  0%|          | 0/5 [00:00<?, ?it/s]"
      ]
     },
     "metadata": {},
     "output_type": "display_data"
    },
    {
     "data": {
      "application/vnd.jupyter.widget-view+json": {
       "model_id": "72472cfca8394b8e9e6ca73c8b3daa96",
       "version_major": 2,
       "version_minor": 0
      },
      "text/plain": [
       "  0%|          | 0/5 [00:00<?, ?it/s]"
      ]
     },
     "metadata": {},
     "output_type": "display_data"
    },
    {
     "data": {
      "application/vnd.jupyter.widget-view+json": {
       "model_id": "177fa03dae254cca8adfb1fb16b3d968",
       "version_major": 2,
       "version_minor": 0
      },
      "text/plain": [
       "  0%|          | 0/5 [00:00<?, ?it/s]"
      ]
     },
     "metadata": {},
     "output_type": "display_data"
    },
    {
     "data": {
      "application/vnd.jupyter.widget-view+json": {
       "model_id": "68b174bf27b44482b3efd1a27034c818",
       "version_major": 2,
       "version_minor": 0
      },
      "text/plain": [
       "  0%|          | 0/5 [00:00<?, ?it/s]"
      ]
     },
     "metadata": {},
     "output_type": "display_data"
    },
    {
     "data": {
      "application/vnd.jupyter.widget-view+json": {
       "model_id": "641a24cf810846a2ba886f8f626881ee",
       "version_major": 2,
       "version_minor": 0
      },
      "text/plain": [
       "  0%|          | 0/5 [00:00<?, ?it/s]"
      ]
     },
     "metadata": {},
     "output_type": "display_data"
    },
    {
     "data": {
      "application/vnd.jupyter.widget-view+json": {
       "model_id": "c03c43dac0244069b7ba0618388ceeb5",
       "version_major": 2,
       "version_minor": 0
      },
      "text/plain": [
       "  0%|          | 0/5 [00:00<?, ?it/s]"
      ]
     },
     "metadata": {},
     "output_type": "display_data"
    },
    {
     "data": {
      "application/vnd.jupyter.widget-view+json": {
       "model_id": "c8b5b3c45cd042d5bc90e1b73db30ca4",
       "version_major": 2,
       "version_minor": 0
      },
      "text/plain": [
       "  0%|          | 0/5 [00:00<?, ?it/s]"
      ]
     },
     "metadata": {},
     "output_type": "display_data"
    },
    {
     "data": {
      "application/vnd.jupyter.widget-view+json": {
       "model_id": "a48bd16d6dbb43fb8ac29b6061b1eaeb",
       "version_major": 2,
       "version_minor": 0
      },
      "text/plain": [
       "  0%|          | 0/5 [00:00<?, ?it/s]"
      ]
     },
     "metadata": {},
     "output_type": "display_data"
    },
    {
     "data": {
      "application/vnd.jupyter.widget-view+json": {
       "model_id": "0d113b90832d4ebdbe76e3dc2418e820",
       "version_major": 2,
       "version_minor": 0
      },
      "text/plain": [
       "  0%|          | 0/5 [00:00<?, ?it/s]"
      ]
     },
     "metadata": {},
     "output_type": "display_data"
    },
    {
     "data": {
      "application/vnd.jupyter.widget-view+json": {
       "model_id": "064cf45cfa2a4b32954a5a0afa4c6d40",
       "version_major": 2,
       "version_minor": 0
      },
      "text/plain": [
       "  0%|          | 0/5 [00:00<?, ?it/s]"
      ]
     },
     "metadata": {},
     "output_type": "display_data"
    },
    {
     "data": {
      "application/vnd.jupyter.widget-view+json": {
       "model_id": "91254b2bda19437fbe9bab179eb2032d",
       "version_major": 2,
       "version_minor": 0
      },
      "text/plain": [
       "  0%|          | 0/5 [00:00<?, ?it/s]"
      ]
     },
     "metadata": {},
     "output_type": "display_data"
    },
    {
     "data": {
      "application/vnd.jupyter.widget-view+json": {
       "model_id": "5a52f7fdfa474f5bb4a9a9190970f36e",
       "version_major": 2,
       "version_minor": 0
      },
      "text/plain": [
       "  0%|          | 0/5 [00:00<?, ?it/s]"
      ]
     },
     "metadata": {},
     "output_type": "display_data"
    },
    {
     "data": {
      "application/vnd.jupyter.widget-view+json": {
       "model_id": "e4fdf9ce8edc454e9588b8f43598f5cf",
       "version_major": 2,
       "version_minor": 0
      },
      "text/plain": [
       "  0%|          | 0/5 [00:00<?, ?it/s]"
      ]
     },
     "metadata": {},
     "output_type": "display_data"
    }
   ],
   "source": [
    "np.random.seed(42)\n",
    "random.seed(42)\n",
    "rng = np.random.default_rng(42)\n",
    "\n",
    "runner = ExecuteAndCollect()\n",
    "runner.setup_circuits(circuit_target_list, N_map = 10000-6**n, initial_layout=[0,1,3,5])\n",
    "\n",
    "runner.execute_circuits(backend=backend, \n",
    "                        shots_map = 1024, \n",
    "                        shots_spam = 1024, \n",
    "                        filename=\"nairobi_4qubit_QFT\", \n",
    "                        concatenate=True)"
   ]
  },
  {
   "cell_type": "code",
   "execution_count": 7,
   "metadata": {},
   "outputs": [
    {
     "name": "stdout",
     "output_type": "stream",
     "text": [
      "     ┌──────┐\n",
      "q_0: ┤0     ├\n",
      "     │      │\n",
      "q_1: ┤1     ├\n",
      "     │  QFT │\n",
      "q_2: ┤2     ├\n",
      "     │      │\n",
      "q_3: ┤3     ├\n",
      "     └──────┘\n"
     ]
    }
   ],
   "source": [
    "backend = provider.get_backend(\"ibm_nairobi\")\n",
    "\n",
    "n = 4\n",
    "d = 2**n\n",
    "\n",
    "np.random.seed(42)\n",
    "random.seed(42)\n",
    "\n",
    "circuit = QFT(4, do_swaps=True, inverse=False)\n",
    "circuit_target_list = [circuit]\n",
    "\n",
    "print(circuit)"
   ]
  },
  {
   "cell_type": "code",
   "execution_count": 8,
   "metadata": {},
   "outputs": [
    {
     "data": {
      "application/vnd.jupyter.widget-view+json": {
       "model_id": "22996fb5504948698a0eeaeebf8e3f6d",
       "version_major": 2,
       "version_minor": 0
      },
      "text/plain": [
       "  0%|          | 0/20 [00:00<?, ?it/s]"
      ]
     },
     "metadata": {},
     "output_type": "display_data"
    },
    {
     "data": {
      "application/vnd.jupyter.widget-view+json": {
       "model_id": "5610dfaee43845fdbf60b9709954618b",
       "version_major": 2,
       "version_minor": 0
      },
      "text/plain": [
       "  0%|          | 0/5 [00:00<?, ?it/s]"
      ]
     },
     "metadata": {},
     "output_type": "display_data"
    }
   ],
   "source": [
    "np.random.seed(42)\n",
    "random.seed(42)\n",
    "rng = np.random.default_rng(42)\n",
    "\n",
    "runner = ExecuteAndCollect()\n",
    "runner.setup_circuits(circuit_target_list, N_map = 10000-6**n, initial_layout=[0,1,3,5])\n",
    "\n",
    "runner.execute_circuits(backend=backend, \n",
    "                        shots_map = 1024, \n",
    "                        shots_spam = 1024, \n",
    "                        filename=\"nairobi_4qubit_QFT2\", \n",
    "                        concatenate=True)"
   ]
  }
 ],
 "metadata": {
  "kernelspec": {
   "display_name": "env_qiskit",
   "language": "python",
   "name": "env_qiskit"
  },
  "language_info": {
   "codemirror_mode": {
    "name": "ipython",
    "version": 3
   },
   "file_extension": ".py",
   "mimetype": "text/x-python",
   "name": "python",
   "nbconvert_exporter": "python",
   "pygments_lexer": "ipython3",
   "version": "3.10.4"
  }
 },
 "nbformat": 4,
 "nbformat_minor": 4
}
