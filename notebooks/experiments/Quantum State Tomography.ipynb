{
 "cells": [
  {
   "cell_type": "markdown",
   "metadata": {},
   "source": [
    "# Quantum State Tomography"
   ]
  },
  {
   "cell_type": "code",
   "execution_count": 2,
   "metadata": {},
   "outputs": [],
   "source": [
    "import sys\n",
    "sys.path.insert(0, '../../src/')\n",
    "\n",
    "import numpy as np\n",
    "import qiskit as qk\n",
    "import matplotlib.pyplot as plt\n",
    "import multiprocessing as mp\n",
    "import random\n",
    "\n",
    "import pickle\n",
    "from qiskit.quantum_info import DensityMatrix\n",
    "from qiskit.quantum_info import Operator\n",
    "from scipy.linalg import sqrtm\n",
    "from tqdm.notebook import tqdm\n",
    "from qiskit_experiments.framework import ParallelExperiment\n",
    "from qiskit_experiments.library import StateTomography\n",
    "\n",
    "from src import *\n",
    "#np.set_printoptions(threshold=sys.maxsize)"
   ]
  },
  {
   "cell_type": "code",
   "execution_count": 4,
   "metadata": {},
   "outputs": [],
   "source": [
    "#qk.IBMQ.save_account(\"66718f8f8aef22bcb6ebe86ad94a11f1fd1f4c55100829bb13f16e6b448e0a1ec6d09c459d738f58d0cbd8398a2a1f5e185a4706a61b6f896a5ce2983e136429\", overwrite=True) \n",
    "provider = qk.IBMQ.load_account()\n",
    "provider = qk.IBMQ.get_provider(hub='ibm-q', group='open', project='main')\n",
    "backend = provider.get_backend('ibmq_santiago')"
   ]
  },
  {
   "cell_type": "markdown",
   "metadata": {},
   "source": [
    "### Two Qubits"
   ]
  },
  {
   "cell_type": "code",
   "execution_count": 3,
   "metadata": {},
   "outputs": [
    {
     "data": {
      "application/vnd.jupyter.widget-view+json": {
       "model_id": "f7929b4c58f845efa617f31ceb2e1527",
       "version_major": 2,
       "version_minor": 0
      },
      "text/plain": [
       "HBox(children=(HTML(value=''), FloatProgress(value=0.0, max=36.0), HTML(value='')))"
      ]
     },
     "metadata": {},
     "output_type": "display_data"
    },
    {
     "name": "stdout",
     "output_type": "stream",
     "text": [
      "\n"
     ]
    }
   ],
   "source": [
    "circuit_target = qk.QuantumCircuit(2)\n",
    "circuit_target.h(0)\n",
    "circuit_target.s(1)\n",
    "circuit_target.cnot(0,1)\n",
    "\n",
    "basis_list = [prepare_input(numberToBase(i, 6, 2), return_mode = \"circuit\") for i in range(36)]\n",
    "state_input_list = [prepare_input(numberToBase(i, 6, 2), return_mode = \"density\") for i in range(36)]\n",
    "\n",
    "qsr_list = []\n",
    "for basis in basis_list:\n",
    "    circuit = qk.circuit.QuantumCircuit.compose(basis, circuit_target)\n",
    "    qsr_list.append(StateTomography(circuit))\n",
    "    \n",
    "result_list = [qsr.run(backend, shots=20000).block_for_results() for qsr in tqdm(qsr_list)]\n",
    "state_target_list = [np.array(result.analysis_results(\"state\").value) for result in result_list]\n",
    "\n",
    "pickle.dump([state_input_list, state_target_list], open(\"hsc_single.p\", \"wb\"))"
   ]
  },
  {
   "cell_type": "code",
   "execution_count": 4,
   "metadata": {},
   "outputs": [
    {
     "data": {
      "application/vnd.jupyter.widget-view+json": {
       "model_id": "783c3c9bc2cf4110bf6d1ef00056db08",
       "version_major": 2,
       "version_minor": 0
      },
      "text/plain": [
       "HBox(children=(HTML(value=''), FloatProgress(value=0.0, max=36.0), HTML(value='')))"
      ]
     },
     "metadata": {},
     "output_type": "display_data"
    },
    {
     "name": "stdout",
     "output_type": "stream",
     "text": [
      "\n"
     ]
    }
   ],
   "source": [
    "circuit_target = qk.QuantumCircuit(2)\n",
    "for i in range(2):\n",
    "    circuit_target.h(0)\n",
    "    circuit_target.s(1)\n",
    "    circuit_target.cnot(0,1)\n",
    "\n",
    "basis_list = [prepare_input(numberToBase(i, 6, 2), return_mode = \"circuit\") for i in range(36)]\n",
    "state_input_list = [prepare_input(numberToBase(i, 6, 2), return_mode = \"density\") for i in range(36)]\n",
    "\n",
    "qsr_list = []\n",
    "for basis in basis_list:\n",
    "    circuit = qk.circuit.QuantumCircuit.compose(basis, circuit_target)\n",
    "    qsr_list.append(StateTomography(circuit))\n",
    "    \n",
    "result_list = [qsr.run(backend, shots=20000).block_for_results() for qsr in tqdm(qsr_list)]\n",
    "state_target_list = [np.array(result.analysis_results(\"state\").value) for result in result_list]\n",
    "\n",
    "pickle.dump([state_input_list, state_target_list], open(\"hsc_double.p\", \"wb\"))"
   ]
  },
  {
   "cell_type": "code",
   "execution_count": 5,
   "metadata": {},
   "outputs": [
    {
     "data": {
      "application/vnd.jupyter.widget-view+json": {
       "model_id": "a9837adc16264cefa56caa9ad7272b99",
       "version_major": 2,
       "version_minor": 0
      },
      "text/plain": [
       "HBox(children=(HTML(value=''), FloatProgress(value=0.0, max=36.0), HTML(value='')))"
      ]
     },
     "metadata": {},
     "output_type": "display_data"
    },
    {
     "name": "stdout",
     "output_type": "stream",
     "text": [
      "\n"
     ]
    }
   ],
   "source": [
    "circuit_target = qk.QuantumCircuit(2)\n",
    "for i in range(3):\n",
    "    circuit_target.h(0)\n",
    "    circuit_target.s(1)\n",
    "    circuit_target.cnot(0,1)\n",
    "\n",
    "basis_list = [prepare_input(numberToBase(i, 6, 2), return_mode = \"circuit\") for i in range(36)]\n",
    "state_input_list = [prepare_input(numberToBase(i, 6, 2), return_mode = \"density\") for i in range(36)]\n",
    "\n",
    "qsr_list = []\n",
    "for basis in basis_list:\n",
    "    circuit = qk.circuit.QuantumCircuit.compose(basis, circuit_target)\n",
    "    qsr_list.append(StateTomography(circuit))\n",
    "    \n",
    "result_list = [qsr.run(backend, shots=20000).block_for_results() for qsr in tqdm(qsr_list)]\n",
    "state_target_list = [np.array(result.analysis_results(\"state\").value) for result in result_list]\n",
    "\n",
    "pickle.dump([state_input_list, state_target_list], open(\"hsc_triple.p\", \"wb\"))"
   ]
  },
  {
   "cell_type": "code",
   "execution_count": 6,
   "metadata": {},
   "outputs": [
    {
     "data": {
      "application/vnd.jupyter.widget-view+json": {
       "model_id": "e6ded6603b7a4ecbbd18e9fe955c7da3",
       "version_major": 2,
       "version_minor": 0
      },
      "text/plain": [
       "HBox(children=(HTML(value=''), FloatProgress(value=0.0, max=36.0), HTML(value='')))"
      ]
     },
     "metadata": {},
     "output_type": "display_data"
    },
    {
     "name": "stdout",
     "output_type": "stream",
     "text": [
      "\n"
     ]
    }
   ],
   "source": [
    "circuit_target = qk.QuantumCircuit(2)\n",
    "for i in range(4):\n",
    "    circuit_target.h(0)\n",
    "    circuit_target.s(1)\n",
    "    circuit_target.cnot(0,1)\n",
    "\n",
    "basis_list = [prepare_input(numberToBase(i, 6, 2), return_mode = \"circuit\") for i in range(36)]\n",
    "state_input_list = [prepare_input(numberToBase(i, 6, 2), return_mode = \"density\") for i in range(36)]\n",
    "\n",
    "qsr_list = []\n",
    "for basis in basis_list:\n",
    "    circuit = qk.circuit.QuantumCircuit.compose(basis, circuit_target)\n",
    "    qsr_list.append(StateTomography(circuit))\n",
    "    \n",
    "result_list = [qsr.run(backend, shots=20000).block_for_results() for qsr in tqdm(qsr_list)]\n",
    "state_target_list = [np.array(result.analysis_results(\"state\").value) for result in result_list]\n",
    "\n",
    "pickle.dump([state_input_list, state_target_list], open(\"hsc_quad.p\", \"wb\"))"
   ]
  },
  {
   "cell_type": "code",
   "execution_count": null,
   "metadata": {},
   "outputs": [
    {
     "data": {
      "application/vnd.jupyter.widget-view+json": {
       "model_id": "77a64b68d52d4a69b15f9cf09acf9a1c",
       "version_major": 2,
       "version_minor": 0
      },
      "text/plain": [
       "HBox(children=(HTML(value=''), FloatProgress(value=0.0, max=36.0), HTML(value='')))"
      ]
     },
     "metadata": {},
     "output_type": "display_data"
    }
   ],
   "source": [
    "circuit_target = qk.QuantumCircuit(2)\n",
    "for i in range(5):\n",
    "    circuit_target.h(0)\n",
    "    circuit_target.s(1)\n",
    "    circuit_target.cnot(0,1)\n",
    "\n",
    "basis_list = [prepare_input(numberToBase(i, 6, 2), return_mode = \"circuit\") for i in range(36)]\n",
    "state_input_list = [prepare_input(numberToBase(i, 6, 2), return_mode = \"density\") for i in range(36)]\n",
    "\n",
    "qsr_list = []\n",
    "for basis in basis_list:\n",
    "    circuit = qk.circuit.QuantumCircuit.compose(basis, circuit_target)\n",
    "    qsr_list.append(StateTomography(circuit))\n",
    "    \n",
    "result_list = [qsr.run(backend, shots=20000).block_for_results() for qsr in tqdm(qsr_list)]\n",
    "state_target_list = [np.array(result.analysis_results(\"state\").value) for result in result_list]\n",
    "\n",
    "pickle.dump([state_input_list, state_target_list], open(\"hsc_five.p\", \"wb\"))"
   ]
  },
  {
   "cell_type": "code",
   "execution_count": 6,
   "metadata": {},
   "outputs": [
    {
     "data": {
      "application/vnd.jupyter.widget-view+json": {
       "model_id": "6beaba82f92047e09c4e4e480736f214",
       "version_major": 2,
       "version_minor": 0
      },
      "text/plain": [
       "HBox(children=(HTML(value=''), FloatProgress(value=0.0, max=36.0), HTML(value='')))"
      ]
     },
     "metadata": {},
     "output_type": "display_data"
    },
    {
     "name": "stdout",
     "output_type": "stream",
     "text": [
      "\n",
      "\n"
     ]
    }
   ],
   "source": [
    "circuit_target = qk.QuantumCircuit(2)\n",
    "for i in range(6):\n",
    "    circuit_target.h(0)\n",
    "    circuit_target.s(1)\n",
    "    circuit_target.cnot(0,1)\n",
    "\n",
    "basis_list = [prepare_input(numberToBase(i, 6, 2), return_mode = \"circuit\") for i in range(36)]\n",
    "state_input_list = [prepare_input(numberToBase(i, 6, 2), return_mode = \"density\") for i in range(36)]\n",
    "\n",
    "qsr_list = []\n",
    "for basis in basis_list:\n",
    "    circuit = qk.circuit.QuantumCircuit.compose(basis, circuit_target)\n",
    "    qsr_list.append(StateTomography(circuit))\n",
    "    \n",
    "result_list = [qsr.run(backend, shots=20000).block_for_results() for qsr in tqdm(qsr_list)]\n",
    "state_target_list = [np.array(result.analysis_results(\"state\").value) for result in result_list]\n",
    "\n",
    "pickle.dump([state_input_list, state_target_list], open(\"hsc_six.p\", \"wb\"))"
   ]
  },
  {
   "cell_type": "code",
   "execution_count": null,
   "metadata": {},
   "outputs": [
    {
     "data": {
      "application/vnd.jupyter.widget-view+json": {
       "model_id": "c763bbbc9345411d88e6ab892ac94fc2",
       "version_major": 2,
       "version_minor": 0
      },
      "text/plain": [
       "HBox(children=(HTML(value=''), FloatProgress(value=0.0, max=36.0), HTML(value='')))"
      ]
     },
     "metadata": {},
     "output_type": "display_data"
    }
   ],
   "source": [
    "circuit_target = qk.QuantumCircuit(2)\n",
    "\n",
    "for i in range(7):\n",
    "    circuit_target.h(0)\n",
    "    circuit_target.s(1)\n",
    "    circuit_target.cnot(0,1)\n",
    "\n",
    "\n",
    "basis_list = [prepare_input(numberToBase(i, 6, 2), return_mode = \"circuit\") for i in range(36)]\n",
    "state_input_list = [prepare_input(numberToBase(i, 6, 2), return_mode = \"density\") for i in range(36)]\n",
    "\n",
    "qsr_list = []\n",
    "for basis in basis_list:\n",
    "    circuit = qk.circuit.QuantumCircuit.compose(basis, circuit_target)\n",
    "    qsr_list.append(StateTomography(circuit))\n",
    "    \n",
    "result_list = [qsr.run(backend, shots=20000).block_for_results() for qsr in tqdm(qsr_list)]\n",
    "state_target_list = [np.array(result.analysis_results(\"state\").value) for result in result_list]\n",
    "\n",
    "pickle.dump([state_input_list, state_target_list], open(\"hsc_seven.p\", \"wb\"))"
   ]
  },
  {
   "cell_type": "code",
   "execution_count": null,
   "metadata": {},
   "outputs": [],
   "source": []
  }
 ],
 "metadata": {
  "kernelspec": {
   "display_name": "env_qiskit",
   "language": "python",
   "name": "env_qiskit"
  },
  "language_info": {
   "codemirror_mode": {
    "name": "ipython",
    "version": 3
   },
   "file_extension": ".py",
   "mimetype": "text/x-python",
   "name": "python",
   "nbconvert_exporter": "python",
   "pygments_lexer": "ipython3",
   "version": "3.7.10"
  }
 },
 "nbformat": 4,
 "nbformat_minor": 4
}
