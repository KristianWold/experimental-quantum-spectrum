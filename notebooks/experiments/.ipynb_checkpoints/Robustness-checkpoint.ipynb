{
 "cells": [
  {
   "cell_type": "markdown",
   "metadata": {},
   "source": [
    "# Robustness"
   ]
  },
  {
   "cell_type": "code",
   "execution_count": 1,
   "metadata": {},
   "outputs": [],
   "source": [
    "import sys\n",
    "sys.path.insert(0, '../../src_tf/')\n",
    "\n",
    "import numpy as np\n",
    "import qiskit as qk\n",
    "import matplotlib.pyplot as plt\n",
    "import multiprocessing as mp\n",
    "import random\n",
    "import pickle\n",
    "\n",
    "from qiskit.quantum_info import DensityMatrix, random_unitary\n",
    "from qiskit.quantum_info import Operator\n",
    "from scipy.linalg import sqrtm\n",
    "from tqdm.notebook import tqdm\n",
    "from math import ceil\n",
    "\n",
    "from loss_functions import *\n",
    "from optimization import *\n",
    "from quantum_channel import *\n",
    "from kraus_channels import *\n",
    "from quantum_tools import *\n",
    "from experimental import *\n",
    "from spam import *\n",
    "from scipy.stats import gaussian_kde\n",
    "from quantum_circuits import *\n",
    "from analysis import *\n",
    "from utils import *\n",
    "\n",
    "#np.set_printoptions(threshold=sys.maxsize)\n",
    "np.set_printoptions(precision=4)\n",
    "\n",
    "import os\n",
    "os.environ[\"CUDA_VISIBLE_DEVICES\"] = \"-1\""
   ]
  },
  {
   "cell_type": "markdown",
   "metadata": {},
   "source": [
    "## Three Qubit, Delay"
   ]
  },
  {
   "cell_type": "code",
   "execution_count": 2,
   "metadata": {},
   "outputs": [],
   "source": [
    "inputs_map, targets_map, inputs_spam, targets_spam = loader(data_path(\"belem_3qubits_8layers0\"))"
   ]
  },
  {
   "cell_type": "code",
   "execution_count": 3,
   "metadata": {},
   "outputs": [
    {
     "data": {
      "application/vnd.jupyter.widget-view+json": {
       "model_id": "9ffa3a11a6ec4862a9f2921c2bc371db",
       "version_major": 2,
       "version_minor": 0
      },
      "text/plain": [
       "  0%|          | 0/300 [00:00<?, ?it/s]"
      ]
     },
     "metadata": {},
     "output_type": "display_data"
    }
   ],
   "source": [
    "np.random.seed(43)\n",
    "random.seed(43)\n",
    "tf.random.set_seed(43)\n",
    "n = 3\n",
    "d = 2**n\n",
    "\n",
    "spam=SPAM(init = InitialState(d),\n",
    "          povm = CorruptionMatrix(d),\n",
    "          optimizer = tf.optimizers.Adam(learning_rate=0.01),\n",
    "          )\n",
    "\n",
    "spam.pretrain(num_iter=300, verbose=False)"
   ]
  },
  {
   "cell_type": "code",
   "execution_count": 10,
   "metadata": {
    "scrolled": true
   },
   "outputs": [
    {
     "data": {
      "application/vnd.jupyter.widget-view+json": {
       "model_id": "527dd61f38544853a19113f24dbf452b",
       "version_major": 2,
       "version_minor": 0
      },
      "text/plain": [
       "  0%|          | 0/2000 [00:00<?, ?it/s]"
      ]
     },
     "metadata": {},
     "output_type": "display_data"
    },
    {
     "name": "stdout",
     "output_type": "stream",
     "text": [
      "step 0: loss = 0.0051\n",
      "step 100: loss = 0.0017\n",
      "step 200: loss = 0.0009\n",
      "step 300: loss = 0.0007\n",
      "step 400: loss = 0.0007\n",
      "step 500: loss = 0.0006\n",
      "step 600: loss = 0.0006\n",
      "step 700: loss = 0.0006\n",
      "step 800: loss = 0.0006\n",
      "step 900: loss = 0.0006\n",
      "step 1000: loss = 0.0006\n",
      "step 1100: loss = 0.0006\n",
      "step 1200: loss = 0.0006\n",
      "step 1300: loss = 0.0006\n",
      "step 1400: loss = 0.0006\n",
      "step 1500: loss = 0.0006\n",
      "step 1600: loss = 0.0006\n",
      "step 1700: loss = 0.0006\n",
      "step 1800: loss = 0.0006\n",
      "step 1900: loss = 0.0006\n",
      "0.0006267862508042743\n"
     ]
    }
   ],
   "source": [
    "spam.train(inputs=inputs_spam,\n",
    "           targets=targets_spam,\n",
    "           num_iter=2000,\n",
    "           verbose=True,\n",
    "          )"
   ]
  },
  {
   "cell_type": "code",
   "execution_count": 20,
   "metadata": {},
   "outputs": [
    {
     "data": {
      "application/vnd.jupyter.widget-view+json": {
       "model_id": "4470721d0e0e413b8430d51569fd21ec",
       "version_major": 2,
       "version_minor": 0
      },
      "text/plain": [
       "  0%|          | 0/3000 [00:00<?, ?it/s]"
      ]
     },
     "metadata": {},
     "output_type": "display_data"
    },
    {
     "name": "stdout",
     "output_type": "stream",
     "text": [
      "0.3386525987163849 0.15426693496295218\n",
      "0.04423167280850063 0.02256233462173195\n",
      "0.006039482001946388 0.003541476468754036\n",
      "0.0023589108485335226 0.0013307253198973823\n",
      "0.0015216477829233376 0.0007983883661972788\n",
      "0.0011787160762133336 0.000577923553297973\n",
      "0.0009961123460404142 0.0004600927984354147\n",
      "0.000884119824447717 0.0003874847430730065\n",
      "0.0008091456122786596 0.0003386070873203338\n",
      "0.0007558762221578746 0.00030370047588116624\n",
      "0.0007163680499899001 0.00027770454239542174\n",
      "0.0006861044909946214 0.000257731722184408\n",
      "0.000662332845895385 0.0002420116872831874\n",
      "0.0006432813241266344 0.00022939746426683542\n",
      "0.0006277584676409008 0.00021911303485940093\n",
      "0.000614934101685763 0.00021061484972822355\n",
      "0.0006042127081802707 0.000203511303684371\n",
      "0.0005951566807842559 0.00019751361171400577\n",
      "0.0005874378852674214 0.00019240461056337226\n",
      "0.0005808060014992848 0.00018801825641838563\n",
      "0.000575067206290221 0.0001842257525214824\n",
      "0.0005700694479275497 0.00018092592485683003\n",
      "0.0005656920488209458 0.00017803839984133527\n",
      "0.0005618382240880085 0.00017549867766954128\n",
      "0.0005584296089998842 0.00017325451679744896\n",
      "0.0005554021974279769 0.00017126324288926586\n",
      "0.0005527032882310732 0.00016948972062564077\n",
      "0.0005502891624390753 0.00016790480781829907\n",
      "0.0005481232973736346 0.00016648416508411836\n",
      "0.0005461749800596237 0.00016520733072318165\n",
      "0.0005444182208989871 0.00016405699552767293\n"
     ]
    }
   ],
   "source": [
    "model1 = ModelQuantumMap(channel=KrausMap(d=d, rank=64, spam=spam),\n",
    "                        loss_function=ProbabilityMSE(),\n",
    "                        optimizer=tf.optimizers.Adam(learning_rate=0.01),\n",
    "                        logger=Logger(loss_function=ProbabilityMSE(), loss_function_val=KLDiv(), verbose=True),\n",
    "    )\n",
    "\n",
    "N = 100\n",
    "\n",
    "model1.train(inputs=[inputs_map[0][:N],inputs_map[1][:N]],\n",
    "             targets=targets_map[:N],\n",
    "             inputs_val=[inputs_map[0][:N],inputs_map[1][:N]],\n",
    "             targets_val=targets_map[:N],\n",
    "             num_iter=3000,\n",
    "             )"
   ]
  },
  {
   "cell_type": "code",
   "execution_count": 21,
   "metadata": {},
   "outputs": [
    {
     "data": {
      "application/vnd.jupyter.widget-view+json": {
       "model_id": "1f12d61d2c0a4bf393bb4a808db56f1c",
       "version_major": 2,
       "version_minor": 0
      },
      "text/plain": [
       "  0%|          | 0/3000 [00:00<?, ?it/s]"
      ]
     },
     "metadata": {},
     "output_type": "display_data"
    },
    {
     "name": "stdout",
     "output_type": "stream",
     "text": [
      "0.33945939084864046 0.15453712894213478\n",
      "0.044159198119254034 0.021457233588986987\n",
      "0.006382908813461377 0.00359452842031423\n",
      "0.004030125625470872 0.0022635882270519475\n",
      "0.0032761368246329845 0.0018228185776547911\n",
      "0.002886856288346776 0.001595024019935976\n",
      "0.0026505584625410162 0.0014571218538571879\n",
      "0.0024939240806419404 0.0013658550316431467\n",
      "0.002384040345747856 0.0013018500237892425\n",
      "0.002303891370129022 0.0012551479129774567\n",
      "0.0022437721905756393 0.0012200928385562838\n",
      "0.002197721818377677 0.0011932186182633503\n",
      "0.002161867543612391 0.0011722753191963351\n",
      "0.00213358551638768 0.0011557385722612901\n",
      "0.0021110409628606335 0.001142541914225147\n",
      "0.0020929186139137484 0.0011319203492692715\n",
      "0.0020782555042164978 0.0011233134575949649\n",
      "0.002066332838201237 0.0011163027183334518\n",
      "0.0020566041123514685 0.0011105698128809109\n",
      "0.002048646538976014 0.0011058684287868104\n",
      "0.0020421278549999293 0.0011020049859126121\n",
      "0.0020367834049864987 0.001098825318869469\n",
      "0.002032400099466262 0.0010962053431072347\n",
      "0.0020288049705167333 0.001094044387298395\n",
      "0.002025856808775867 0.0010922603184383354\n",
      "0.0020234398881272637 0.0010907858860278222\n",
      "0.002021459135936983 0.001089565911486099\n",
      "0.002019836336137239 0.0010885550792694182\n",
      "0.0020185070966598235 0.0010877161696078955\n",
      "0.002017418400657722 0.0010870186254497633\n",
      "0.002016526614119416 0.0010864373792625096\n"
     ]
    }
   ],
   "source": [
    "model2 = ModelQuantumMap(channel=KrausMap(d=d, rank=64, spam=spam),\n",
    "                        loss_function=ProbabilityMSE(),\n",
    "                        optimizer=tf.optimizers.Adam(learning_rate=0.01),\n",
    "                        logger=Logger(loss_function=ProbabilityMSE(), loss_function_val=KLDiv(), verbose=True),\n",
    "    )\n",
    "\n",
    "N = 200\n",
    "\n",
    "model2.train(inputs=[inputs_map[0][:N],inputs_map[1][:N]],\n",
    "             targets=targets_map[:N],\n",
    "             inputs_val=[inputs_map[0][:N],inputs_map[1][:N]],\n",
    "             targets_val=targets_map[:N],\n",
    "             num_iter=3000,\n",
    "             )"
   ]
  },
  {
   "cell_type": "code",
   "execution_count": 22,
   "metadata": {},
   "outputs": [
    {
     "data": {
      "application/vnd.jupyter.widget-view+json": {
       "model_id": "54ddb3d818ed4dda9ddf2f312c4958fd",
       "version_major": 2,
       "version_minor": 0
      },
      "text/plain": [
       "  0%|          | 0/3000 [00:00<?, ?it/s]"
      ]
     },
     "metadata": {},
     "output_type": "display_data"
    },
    {
     "name": "stdout",
     "output_type": "stream",
     "text": [
      "0.3366310781248931 0.15149059889136376\n",
      "0.041896116041122984 0.01996514091357458\n",
      "0.006970799804860947 0.003830736108345052\n",
      "0.004966848006836136 0.00273034242969358\n",
      "0.004238661149514905 0.0023267351408349677\n",
      "0.00385065132447195 0.002111385686793213\n",
      "0.003613965297612 0.0019796055921837865\n",
      "0.00345837953491792 0.0018924828953418933\n",
      "0.003351189719177318 0.001832120944341032\n",
      "0.00327492191174511 0.0017889748370593743\n",
      "0.0032193414915921937 0.001757405808044743\n",
      "0.003178086019808281 0.001733876593755782\n",
      "0.003147026186841205 0.001716082937370967\n",
      "0.003123384969534909 0.0017024775987089368\n",
      "0.0031052372959563335 0.001691991483976853\n",
      "0.00309121439201546 0.0016838651477946928\n",
      "0.003080322439830624 0.0016775451475078752\n",
      "0.0030718273725087175 0.0016726192508977763\n",
      "0.003065179375943405 0.001668775097483678\n",
      "0.0030599620463697226 0.0016657730857093985\n",
      "0.003055857294639821 0.0016634279654300559\n",
      "0.0030526205521554635 0.0016615958556614398\n",
      "0.003050062870389477 0.0016601647506894496\n",
      "0.003048037742699172 0.0016590473695823255\n",
      "0.003046431243222225 0.001658175660970593\n",
      "0.003045154556603631 0.001657496532841601\n",
      "0.00304413827263708 0.0016569685210380772\n",
      "0.003043328009032884 0.001656559191742885\n",
      "0.003042681046425069 0.0016562431223187282\n",
      "0.0030421637396508537 0.0016560003374576113\n",
      "0.003041749524962812 0.0016558151018033931\n"
     ]
    }
   ],
   "source": [
    "model3 = ModelQuantumMap(channel=KrausMap(d=d, rank=64, spam=spam),\n",
    "                        loss_function=ProbabilityMSE(),\n",
    "                        optimizer=tf.optimizers.Adam(learning_rate=0.01),\n",
    "                        logger=Logger(loss_function=ProbabilityMSE(), loss_function_val=KLDiv(), verbose=True),\n",
    "    )\n",
    "\n",
    "N = 300\n",
    "\n",
    "model3.train(inputs=[inputs_map[0][:N],inputs_map[1][:N]],\n",
    "             targets=targets_map[:N],\n",
    "             inputs_val=[inputs_map[0][:N],inputs_map[1][:N]],\n",
    "             targets_val=targets_map[:N],\n",
    "             num_iter=3000,\n",
    "             )"
   ]
  },
  {
   "cell_type": "code",
   "execution_count": 23,
   "metadata": {},
   "outputs": [
    {
     "data": {
      "application/vnd.jupyter.widget-view+json": {
       "model_id": "6766a740303540229d2dcae85e04d642",
       "version_major": 2,
       "version_minor": 0
      },
      "text/plain": [
       "  0%|          | 0/3000 [00:00<?, ?it/s]"
      ]
     },
     "metadata": {},
     "output_type": "display_data"
    },
    {
     "name": "stdout",
     "output_type": "stream",
     "text": [
      "0.337063808361458 0.15126633716424237\n",
      "0.04221932926675581 0.019935201605063263\n",
      "0.007592263158694863 0.004035613099979991\n",
      "0.005793343270663041 0.003081370131557312\n",
      "0.005102418899466672 0.0027157079648220134\n",
      "0.004720739239204791 0.002512849165746799\n",
      "0.004484341106089801 0.002387102901011964\n",
      "0.004328784333160117 0.002304797652158612\n",
      "0.004222154656086484 0.0022488685607347015\n",
      "0.004146775666773365 0.002209705895897938\n",
      "0.004092199090649283 0.0021816077303082344\n",
      "0.0040519436962298695 0.002161054200861663\n",
      "0.00402181658004864 0.0021457881316490784\n",
      "0.00399900486969085 0.0021343102099779534\n",
      "0.003981565059705411 0.002125594752454438\n",
      "0.003968123320710119 0.002118923620646238\n",
      "0.003957691200966242 0.002113784667534404\n",
      "0.003949547222559977 0.0021098068979352375\n",
      "0.00394315811740491 0.002106717678064073\n",
      "0.00393812514630954 0.002104313893431877\n",
      "0.003934146930533871 0.002102442263200825\n",
      "0.003930993429894722 0.002100985779229859\n",
      "0.003928487543063017 0.0020998542642553576\n",
      "0.003926491950350453 0.002098977700870095\n",
      "0.0039248995767040855 0.002098301428502542\n",
      "0.003923626571024155 0.0020977826116827694\n",
      "0.0039226070550405475 0.002097387589817381\n",
      "0.003921789138211791 0.002097089854720223\n",
      "0.003921131857649328 0.002096868488874101\n",
      "0.003920602808744551 0.002096706951533214\n",
      "0.003920176301465588 0.0020965921331729687\n"
     ]
    }
   ],
   "source": [
    "model4 = ModelQuantumMap(channel=KrausMap(d=d, rank=64, spam=spam),\n",
    "                        loss_function=ProbabilityMSE(),\n",
    "                        optimizer=tf.optimizers.Adam(learning_rate=0.01),\n",
    "                        logger=Logger(loss_function=ProbabilityMSE(), loss_function_val=KLDiv(), verbose=True),\n",
    "    )\n",
    "\n",
    "N = 400\n",
    "\n",
    "model4.train(inputs=[inputs_map[0][:N],inputs_map[1][:N]],\n",
    "             targets=targets_map[:N],\n",
    "             inputs_val=[inputs_map[0][:N],inputs_map[1][:N]],\n",
    "             targets_val=targets_map[:N],\n",
    "             num_iter=3000,\n",
    "             )"
   ]
  },
  {
   "cell_type": "code",
   "execution_count": 24,
   "metadata": {},
   "outputs": [
    {
     "data": {
      "application/vnd.jupyter.widget-view+json": {
       "model_id": "cccb5ce4fe554b658c6e76c46aac1e81",
       "version_major": 2,
       "version_minor": 0
      },
      "text/plain": [
       "  0%|          | 0/3000 [00:00<?, ?it/s]"
      ]
     },
     "metadata": {},
     "output_type": "display_data"
    },
    {
     "name": "stdout",
     "output_type": "stream",
     "text": [
      "0.3447098486942941 0.1548373452298542\n",
      "0.04379899090621756 0.020398723104070492\n",
      "0.008145201680037012 0.004294376975642527\n",
      "0.006432651574270671 0.00340312899058493\n",
      "0.005761033730644566 0.0030503144197871522\n",
      "0.005380704719900406 0.0028494481253642434\n",
      "0.005141179444227012 0.002722363944240477\n",
      "0.0049821314817969494 0.002638035914142302\n",
      "0.004872671959775029 0.0025803067183008638\n",
      "0.004795265338450981 0.002539806221343809\n",
      "0.0047393657602612235 0.0025108317748681976\n",
      "0.00469833100912622 0.0024897745238067247\n",
      "0.00466780948868194 0.0024742703607467816\n",
      "0.004644858311229223 0.002462727428019364\n",
      "0.004627437895397279 0.0024540508973891315\n",
      "0.004614107821378574 0.0024474748413369925\n",
      "0.004603835429336579 0.002442455518781633\n",
      "0.004595870934582999 0.0024386017360284447\n",
      "0.004589663718050255 0.0024356284945305814\n",
      "0.004584805106013341 0.002433325685418665\n",
      "0.004580988688908393 0.0024315366956991157\n",
      "0.00457798250024691 0.00243014362637705\n",
      "0.004575609334891508 0.002429056959516085\n",
      "0.0045737327074636324 0.002428208240932103\n",
      "0.004572246743410052 0.0024275448241653625\n",
      "0.004571068825746192 0.00242702603882339\n",
      "0.0045701341837612415 0.00242662035712657\n",
      "0.004569391860858612 0.002426303271856189\n",
      "0.0045688016718341395 0.0024260556905380893\n",
      "0.004568331878849633 0.002425862710711969\n",
      "0.004567957396815819 0.0024257126806043554\n"
     ]
    }
   ],
   "source": [
    "model5 = ModelQuantumMap(channel=KrausMap(d=d, rank=64, spam=spam),\n",
    "                        loss_function=ProbabilityMSE(),\n",
    "                        optimizer=tf.optimizers.Adam(learning_rate=0.01),\n",
    "                        logger=Logger(loss_function=ProbabilityMSE(), loss_function_val=KLDiv(), verbose=True),\n",
    "    )\n",
    "\n",
    "N = 500\n",
    "\n",
    "model5.train(inputs=[inputs_map[0][:N],inputs_map[1][:N]],\n",
    "             targets=targets_map[:N],\n",
    "             inputs_val=[inputs_map[0][:N],inputs_map[1][:N]],\n",
    "             targets_val=targets_map[:N],\n",
    "             num_iter=3000,\n",
    "             )"
   ]
  },
  {
   "cell_type": "code",
   "execution_count": 31,
   "metadata": {},
   "outputs": [
    {
     "data": {
      "application/vnd.jupyter.widget-view+json": {
       "model_id": "1987454553864dd898f11d8e63da49d1",
       "version_major": 2,
       "version_minor": 0
      },
      "text/plain": [
       "  0%|          | 0/3000 [00:00<?, ?it/s]"
      ]
     },
     "metadata": {},
     "output_type": "display_data"
    },
    {
     "name": "stdout",
     "output_type": "stream",
     "text": [
      "0.3380687469485434 0.15279823782766305\n",
      "0.040498486011728785 0.01899615674624714\n",
      "0.008628388255339887 0.004567368760038837\n",
      "0.007214546062945959 0.003787454968955148\n",
      "0.0066339586354641385 0.0034721155778650137\n",
      "0.006298945612702248 0.0032936489153920345\n",
      "0.006084210945835218 0.0031809084095649597\n",
      "0.00593871581482228 0.0031056362863277386\n",
      "0.005836651429078087 0.003053730998636337\n",
      "0.005763373458369902 0.003017178986093616\n",
      "0.005709902765889778 0.0029910506670850854\n",
      "0.0056704093655504505 0.002972157606414807\n",
      "0.005640954955663247 0.002958370360527428\n",
      "0.005618809239098168 0.002948235794739178\n",
      "0.005602044941189415 0.0029407456451046848\n",
      "0.005589281964085623 0.002935190041747412\n",
      "0.005579519323878323 0.0029310623490025156\n",
      "0.005572022320756126 0.002927996244086155\n",
      "0.005566245833552749 0.002925723591016853\n",
      "0.005561781646608841 0.0029240459715753654\n",
      "0.00555832182650178 0.0029228152468964695\n",
      "0.005555632835987103 0.0029219200907991618\n",
      "0.005553536891432596 0.0029212764826897614\n",
      "0.005551898294959544 0.0029208208582293116\n",
      "0.00555061326712299 0.0029205050840880476\n",
      "0.005549602304985368 0.0029202927190023886\n",
      "0.005548804400584414 0.002920156205236849\n",
      "0.005548172650695211 0.0029200747462418165\n",
      "0.005547670917100587 0.002920032696923821\n",
      "0.005547271284376948 0.0029200183396917725\n",
      "0.0055469521246908175 0.0029200229519349124\n"
     ]
    }
   ],
   "source": [
    "model6 = ModelQuantumMap(channel=KrausMap(d=d, rank=64, spam=spam),\n",
    "                        loss_function=ProbabilityMSE(),\n",
    "                        optimizer=tf.optimizers.Adam(learning_rate=0.01),\n",
    "                        logger=Logger(loss_function=ProbabilityMSE(), loss_function_val=KLDiv(), verbose=True),\n",
    "    )\n",
    "\n",
    "N = 800\n",
    "\n",
    "model6.train(inputs=[inputs_map[0][:N],inputs_map[1][:N]],\n",
    "             targets=targets_map[:N],\n",
    "             inputs_val=[inputs_map[0][:N],inputs_map[1][:N]],\n",
    "             targets_val=targets_map[:N],\n",
    "             num_iter=3000,\n",
    "             )"
   ]
  },
  {
   "cell_type": "code",
   "execution_count": 32,
   "metadata": {},
   "outputs": [
    {
     "data": {
      "application/vnd.jupyter.widget-view+json": {
       "model_id": "3c69c896753f42d6833160bac33f1c40",
       "version_major": 2,
       "version_minor": 0
      },
      "text/plain": [
       "  0%|          | 0/3000 [00:00<?, ?it/s]"
      ]
     },
     "metadata": {},
     "output_type": "display_data"
    },
    {
     "name": "stdout",
     "output_type": "stream",
     "text": [
      "0.3196784809510629 0.14403717374591404\n",
      "0.03521196794622795 0.016796111234430467\n",
      "0.008836599380716749 0.004694467725509661\n",
      "0.0076138692916933055 0.003997933913469141\n",
      "0.007118842662997338 0.003724147332111675\n",
      "0.006841081592425997 0.0035743515322005\n",
      "0.006665560796600419 0.0034813927724992957\n",
      "0.006547548513258578 0.0034197733412615777\n",
      "0.0064652431799309615 0.003377352738203497\n",
      "0.00640642129498517 0.003347427208368236\n",
      "0.00636362281510335 0.0033259402790150406\n",
      "0.00633205458435011 0.0033103029314664476\n",
      "0.00630852297591529 0.003298803769034547\n",
      "0.006290836598142635 0.003290280852603246\n",
      "0.006277455108920771 0.003283927654187266\n",
      "0.006267274970807576 0.0032791735601720566\n",
      "0.0062594938739468095 0.0032756081539898553\n",
      "0.006253521859742685 0.003272932159162841\n",
      "0.006248921238377398 0.0032709249376837667\n",
      "0.0062453649487556806 0.003269422424705785\n",
      "0.006242607138117652 0.0032683017861659986\n",
      "0.0062404620654451905 0.003267470535980015\n",
      "0.006238788796210325 0.0032668587023453443\n",
      "0.006237479990304557 0.0032664131303719143\n",
      "0.006236453618481604 0.0032660933059894814\n",
      "0.006235646796691188 0.003265868273700981\n",
      "0.0062350111682302955 0.0032657143458771657\n",
      "0.006234509428747179 0.0032656133881177173\n",
      "0.006234112702855984 0.0032655515266373906\n",
      "0.0062337985598360296 0.0032655181671998454\n",
      "0.00623354951102913 0.0032655052459685265\n"
     ]
    }
   ],
   "source": [
    "model7 = ModelQuantumMap(channel=KrausMap(d=d, rank=64, spam=spam),\n",
    "                        loss_function=ProbabilityMSE(),\n",
    "                        optimizer=tf.optimizers.Adam(learning_rate=0.01),\n",
    "                        logger=Logger(loss_function=ProbabilityMSE(), loss_function_val=KLDiv(), verbose=True),\n",
    "    )\n",
    "\n",
    "N = 1200\n",
    "\n",
    "model7.train(inputs=[inputs_map[0][:N],inputs_map[1][:N]],\n",
    "             targets=targets_map[:N],\n",
    "             inputs_val=[inputs_map[0][:N],inputs_map[1][:N]],\n",
    "             targets_val=targets_map[:N],\n",
    "             num_iter=3000,\n",
    "             )"
   ]
  },
  {
   "cell_type": "code",
   "execution_count": 33,
   "metadata": {},
   "outputs": [
    {
     "data": {
      "application/vnd.jupyter.widget-view+json": {
       "model_id": "2f7c55dcbc524fffb426a46f0694d60e",
       "version_major": 2,
       "version_minor": 0
      },
      "text/plain": [
       "  0%|          | 0/3000 [00:00<?, ?it/s]"
      ]
     },
     "metadata": {},
     "output_type": "display_data"
    },
    {
     "name": "stdout",
     "output_type": "stream",
     "text": [
      "0.3201867762097946 0.1450060708170306\n",
      "0.03811322396651199 0.018069919265644083\n",
      "0.009178556895135232 0.0048589290375060405\n",
      "0.008000043394489524 0.00417412038168594\n",
      "0.007533490287578097 0.0039179404180628395\n",
      "0.007272888961373752 0.0037810642170775476\n",
      "0.007108071351825862 0.003696630597567876\n",
      "0.006996708448526554 0.0036405396986562964\n",
      "0.006918285767736645 0.003601538479173551\n",
      "0.00686154283819751 0.0035735986526770685\n",
      "0.006819732675942218 0.003553190261357578\n",
      "0.0067885196337088395 0.003538088225013027\n",
      "0.006764975610016041 0.0035268061710488612\n",
      "0.0067470619324631045 0.0035183141105679192\n",
      "0.0067333315931413125 0.003511883518915295\n",
      "0.006722742038359597 0.0035069919214353\n",
      "0.006714531854774022 0.0035032597011689366\n",
      "0.006708137973291339 0.00350040733881215\n",
      "0.006703139404981909 0.0034982264574809742\n",
      "0.006699218466271893 0.0034965601276864848\n",
      "0.006696133599579205 0.0034952892583138178\n",
      "0.006693699979189646 0.0034943229708458436\n",
      "0.0066917754416535155 0.0034935916268108414\n",
      "0.006690250135555144 0.0034930416799249246\n",
      "0.006689038823979685 0.0034926318273648138\n",
      "0.006688075113482148 0.003492330112365401\n",
      "0.006687307101849143 0.003492111735974355\n",
      "0.006686694080713219 0.0034919574018244235\n",
      "0.006686204026923898 0.003491852062233386\n",
      "0.006685811685613532 0.003491783965953135\n",
      "0.006685497098129942 0.003491743932060275\n"
     ]
    }
   ],
   "source": [
    "model8 = ModelQuantumMap(channel=KrausMap(d=d, rank=64, spam=spam),\n",
    "                        loss_function=ProbabilityMSE(),\n",
    "                        optimizer=tf.optimizers.Adam(learning_rate=0.01),\n",
    "                        logger=Logger(loss_function=ProbabilityMSE(), loss_function_val=KLDiv(), verbose=True),\n",
    "    )\n",
    "\n",
    "N = 1600\n",
    "\n",
    "model8.train(inputs=[inputs_map[0][:N],inputs_map[1][:N]],\n",
    "             targets=targets_map[:N],\n",
    "             inputs_val=[inputs_map[0][:N],inputs_map[1][:N]],\n",
    "             targets_val=targets_map[:N],\n",
    "             num_iter=3000,\n",
    "             )"
   ]
  },
  {
   "cell_type": "code",
   "execution_count": 35,
   "metadata": {},
   "outputs": [],
   "source": [
    "x = [100, 200, 300, 400, 500, 800, 1200, 1600]\n",
    "\n",
    "mse = [model1.logger.loss_train_list[-1], \n",
    "       model2.logger.loss_train_list[-1], \n",
    "       model3.logger.loss_train_list[-1], \n",
    "       model4.logger.loss_train_list[-1],\n",
    "       model5.logger.loss_train_list[-1],\n",
    "       model6.logger.loss_train_list[-1], \n",
    "       model7.logger.loss_train_list[-1],\n",
    "       model8.logger.loss_train_list[-1],]\n",
    "\n",
    "kldiv = [model1.logger.loss_val_list[-1], \n",
    "         model2.logger.loss_val_list[-1], \n",
    "         model3.logger.loss_val_list[-1], \n",
    "         model4.logger.loss_val_list[-1],\n",
    "         model5.logger.loss_val_list[-1],\n",
    "         model6.logger.loss_val_list[-1], \n",
    "         model7.logger.loss_val_list[-1],\n",
    "         model8.logger.loss_val_list[-1]]"
   ]
  },
  {
   "cell_type": "code",
   "execution_count": 42,
   "metadata": {},
   "outputs": [
    {
     "data": {
      "image/png": "[encoded data removed]",
      "text/plain": [
       "<Figure size 640x480 with 1 Axes>"
      ]
     },
     "metadata": {},
     "output_type": "display_data"
    }
   ],
   "source": [
    "plt.plot(x, np.array(mse), \"o-\")\n",
    "plt.plot(x, np.array(kldiv), \"o-\")\n",
    "plt.show()"
   ]
  },
  {
   "cell_type": "code",
   "execution_count": 43,
   "metadata": {},
   "outputs": [
    {
     "data": {
      "image/png": "[encoded data removed]",
      "text/plain": [
       "<Figure size 640x480 with 1 Axes>"
      ]
     },
     "metadata": {},
     "output_type": "display_data"
    }
   ],
   "source": [
    "plt.loglog(x, np.array(mse), \"o-\")\n",
    "plt.loglog(x, np.array(kldiv), \"o-\")\n",
    "plt.show()"
   ]
  },
  {
   "cell_type": "code",
   "execution_count": 44,
   "metadata": {},
   "outputs": [
    {
     "data": {
      "image/png": "[encoded data removed]",
      "text/plain": [
       "<Figure size 640x480 with 1 Axes>"
      ]
     },
     "metadata": {},
     "output_type": "display_data"
    }
   ],
   "source": [
    "plt.loglog(x, 2**np.array(mse), \"o-\")\n",
    "plt.loglog(x, 2**np.array(kldiv), \"o-\")\n",
    "plt.show()"
   ]
  },
  {
   "cell_type": "code",
   "execution_count": 5,
   "metadata": {},
   "outputs": [
    {
     "ename": "SyntaxError",
     "evalue": "positional argument follows keyword argument (2565062018.py, line 11)",
     "output_type": "error",
     "traceback": [
      "\u001b[1;36m  Input \u001b[1;32mIn [5]\u001b[1;36m\u001b[0m\n\u001b[1;33m    )\u001b[0m\n\u001b[1;37m    ^\u001b[0m\n\u001b[1;31mSyntaxError\u001b[0m\u001b[1;31m:\u001b[0m positional argument follows keyword argument\n"
     ]
    }
   ],
   "source": [
    "model_linear = ModelQuantumMap(channel=LinearMap(d=d, spam=spam),\n",
    "                               loss_function=ProbabilityMSE(),\n",
    "                               optimizer=tf.optimizers.Adam(learning_rate=0.01),\n",
    "                               logger=Logger(loss_function=ProbabilityMSE(), loss_function_val=KLDiv(), verbose=True),)\n",
    "\n",
    "model_linear.train(inputs=inputs_map,\n",
    "                   targets=targets_map,\n",
    "                   inputs_val=inputs_map,\n",
    "                   targets_val=targets_map,\n",
    "                   num_iter=3000,)"
   ]
  },
  {
   "cell_type": "code",
   "execution_count": null,
   "metadata": {},
   "outputs": [],
   "source": []
  }
 ],
 "metadata": {
  "kernelspec": {
   "display_name": "env_qiskit",
   "language": "python",
   "name": "env_qiskit"
  },
  "language_info": {
   "codemirror_mode": {
    "name": "ipython",
    "version": 3
   },
   "file_extension": ".py",
   "mimetype": "text/x-python",
   "name": "python",
   "nbconvert_exporter": "python",
   "pygments_lexer": "ipython3",
   "version": "3.10.4"
  }
 },
 "nbformat": 4,
 "nbformat_minor": 4
}
