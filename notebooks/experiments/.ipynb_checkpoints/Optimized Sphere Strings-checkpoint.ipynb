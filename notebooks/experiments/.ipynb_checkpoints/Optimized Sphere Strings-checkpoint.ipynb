{
 "cells": [
  {
   "cell_type": "markdown",
   "metadata": {},
   "source": [
    "# Optimized Sphere Strings"
   ]
  },
  {
   "cell_type": "code",
   "execution_count": 1,
   "metadata": {},
   "outputs": [],
   "source": [
    "import sys\n",
    "sys.path.insert(0, '../../src_tf/')\n",
    "\n",
    "import numpy as np\n",
    "import qiskit as qk\n",
    "import matplotlib.pyplot as plt\n",
    "import multiprocessing as mp\n",
    "import random\n",
    "import pickle\n",
    "\n",
    "from qiskit.quantum_info import DensityMatrix, random_unitary\n",
    "from qiskit.quantum_info import Operator\n",
    "from scipy.linalg import sqrtm\n",
    "from tqdm.notebook import tqdm\n",
    "\n",
    "from loss_functions import *\n",
    "from optimization import *\n",
    "from quantum_channel import *\n",
    "from kraus_channels import *\n",
    "from quantum_tools import *\n",
    "from experimental import *\n",
    "from spam import *\n",
    "from quantum_circuits import *\n",
    "\n",
    "#np.set_printoptions(threshold=sys.maxsize)\n",
    "np.set_printoptions(precision=4)\n",
    "\n",
    "import os\n",
    "os.environ[\"CUDA_VISIBLE_DEVICES\"] = \"-1\""
   ]
  },
  {
   "cell_type": "markdown",
   "metadata": {},
   "source": [
    "## Test"
   ]
  },
  {
   "cell_type": "markdown",
   "metadata": {},
   "source": [
    "## Recover Map"
   ]
  },
  {
   "cell_type": "code",
   "execution_count": 2,
   "metadata": {},
   "outputs": [],
   "source": [
    "def generate_map_data(channel_target, inputs_map, noise = 0):\n",
    "    d = channel_target.d\n",
    "    U_prep, U_basis = inputs_map\n",
    "\n",
    "    N_map = U_prep.shape[0]\n",
    "    init = np.zeros((d,d))\n",
    "    init[0,0] = 1\n",
    "    init = tf.cast(init, dtype=precision)\n",
    "    \n",
    "    state = tf.repeat(tf.expand_dims(init, axis=0), N_map, axis=0)\n",
    "    state = apply_unitary(state, U_prep)\n",
    "    state = channel_target.apply_channel(state)\n",
    "    targets_map = measurement(state, U_basis)\n",
    "    \n",
    "    #add noise\n",
    "    targets_map = add_noise_to_probs(targets_map, noise=noise)\n",
    "    \n",
    "    return targets_map\n",
    "\n",
    "\n",
    "def model_pipeline(channel_target, noise):\n",
    "    # Make Benchmark\n",
    "    #################################################################################\n",
    "    n = 3\n",
    "    d = 2**n\n",
    "    \n",
    "    spam_target = generate_spam_benchmark(n=n, c1=0.8, c2=0.8)\n",
    "    inputs_spam, targets_spam = generate_spam_data(spam_target, N_spam=None, noise=noise)\n",
    "\n",
    "    inputs_map, targets_map = generate_map_data(channel_target, spam_target, N_map=2000, noise=noise)\n",
    "    #################################################################################\n",
    "\n",
    "    # Fit Models\n",
    "    #################################################################################\n",
    "    spam_model = SPAM(init = InitialState(d, c = None),\n",
    "                      povm = CorruptionMatrix(d, c = None),\n",
    "                      optimizer = tf.optimizers.Adam(learning_rate=0.01))\n",
    "    \n",
    "    spam_model.pretrain(300)\n",
    "\n",
    "    spam_model.train(inputs = inputs_spam,\n",
    "                     targets = targets_spam,\n",
    "                     num_iter = 2000,\n",
    "                     verbose = False,\n",
    "                    )\n",
    "\n",
    "    model = ModelQuantumMap(channel = KrausMap(d = d, \n",
    "                                               rank = d**2,\n",
    "                                               spam = spam_model,\n",
    "                                              ),\n",
    "                            loss_function = ProbabilityMSE(),\n",
    "                            optimizer = tf.optimizers.Adam(learning_rate=0.01),\n",
    "                            logger = Logger(loss_function = ProbabilityMSE(),\n",
    "                                            loss_function_val = channel_fidelity_loss),\n",
    "                           )\n",
    "\n",
    "    model.train(inputs = inputs_map,\n",
    "                targets = targets_map,\n",
    "                inputs_val = None,\n",
    "                targets_val = [channel_target],\n",
    "                num_iter = 2000,\n",
    "                N = 500,\n",
    "                )\n",
    "    #################################################################################\n",
    "\n",
    "    return model"
   ]
  },
  {
   "cell_type": "code",
   "execution_count": 32,
   "metadata": {
    "scrolled": true
   },
   "outputs": [
    {
     "data": {
      "application/vnd.jupyter.widget-view+json": {
       "model_id": "6722f868e09d458284dd39333c87bcae",
       "version_major": 2,
       "version_minor": 0
      },
      "text/plain": [
       "  0%|          | 0/10000 [00:00<?, ?it/s]"
      ]
     },
     "metadata": {},
     "output_type": "display_data"
    },
    {
     "ename": "KeyboardInterrupt",
     "evalue": "",
     "output_type": "error",
     "traceback": [
      "\u001b[1;31m---------------------------------------------------------------------------\u001b[0m",
      "\u001b[1;31mKeyboardInterrupt\u001b[0m                         Traceback (most recent call last)",
      "Input \u001b[1;32mIn [32]\u001b[0m, in \u001b[0;36m<cell line: 32>\u001b[1;34m()\u001b[0m\n\u001b[0;32m     30\u001b[0m strings1 \u001b[38;5;241m=\u001b[39m SphereStrings(N\u001b[38;5;241m=\u001b[39mN, n\u001b[38;5;241m=\u001b[39mn)\n\u001b[0;32m     31\u001b[0m strings2 \u001b[38;5;241m=\u001b[39m SphereStrings(N\u001b[38;5;241m=\u001b[39mN, n\u001b[38;5;241m=\u001b[39mn)\n\u001b[1;32m---> 32\u001b[0m \u001b[43mstrings1\u001b[49m\u001b[38;5;241;43m.\u001b[39;49m\u001b[43moptimize\u001b[49m\u001b[43m(\u001b[49m\u001b[38;5;241;43m10000\u001b[39;49m\u001b[43m)\u001b[49m\n\u001b[0;32m     33\u001b[0m strings2\u001b[38;5;241m.\u001b[39moptimize(\u001b[38;5;241m10000\u001b[39m)\n\u001b[0;32m     35\u001b[0m _, U1 \u001b[38;5;241m=\u001b[39m strings1\u001b[38;5;241m.\u001b[39mgenerate_circuits()\n",
      "File \u001b[1;32m~\\Documents\\ModelNISQ\\notebooks\\experiments\\../../src_tf\\experimental.py:275\u001b[0m, in \u001b[0;36mSphereStrings.optimize\u001b[1;34m(self, steps)\u001b[0m\n\u001b[0;32m    272\u001b[0m tape\u001b[38;5;241m.\u001b[39mwatch(\u001b[38;5;28mself\u001b[39m\u001b[38;5;241m.\u001b[39mparameters)\n\u001b[0;32m    274\u001b[0m loss \u001b[38;5;241m=\u001b[39m \u001b[38;5;28mself\u001b[39m\u001b[38;5;241m.\u001b[39mfidelity()\n\u001b[1;32m--> 275\u001b[0m grads \u001b[38;5;241m=\u001b[39m \u001b[43mtape\u001b[49m\u001b[38;5;241;43m.\u001b[39;49m\u001b[43mgradient\u001b[49m\u001b[43m(\u001b[49m\u001b[43mloss\u001b[49m\u001b[43m,\u001b[49m\u001b[43m \u001b[49m\u001b[38;5;28;43mself\u001b[39;49m\u001b[38;5;241;43m.\u001b[39;49m\u001b[43mparameter_list\u001b[49m\u001b[43m)\u001b[49m\n\u001b[0;32m    276\u001b[0m optimizer\u001b[38;5;241m.\u001b[39mapply_gradients(\u001b[38;5;28mzip\u001b[39m(grads, \u001b[38;5;28mself\u001b[39m\u001b[38;5;241m.\u001b[39mparameter_list))\n",
      "File \u001b[1;32mC:\\Program Files\\Anaconda3\\envs\\env_qiskit\\lib\\site-packages\\tensorflow\\python\\eager\\backprop.py:1113\u001b[0m, in \u001b[0;36mGradientTape.gradient\u001b[1;34m(self, target, sources, output_gradients, unconnected_gradients)\u001b[0m\n\u001b[0;32m   1107\u001b[0m   output_gradients \u001b[38;5;241m=\u001b[39m (\n\u001b[0;32m   1108\u001b[0m       composite_tensor_gradient\u001b[38;5;241m.\u001b[39mget_flat_tensors_for_gradients(\n\u001b[0;32m   1109\u001b[0m           output_gradients))\n\u001b[0;32m   1110\u001b[0m   output_gradients \u001b[38;5;241m=\u001b[39m [\u001b[38;5;28;01mNone\u001b[39;00m \u001b[38;5;28;01mif\u001b[39;00m x \u001b[38;5;129;01mis\u001b[39;00m \u001b[38;5;28;01mNone\u001b[39;00m \u001b[38;5;28;01melse\u001b[39;00m ops\u001b[38;5;241m.\u001b[39mconvert_to_tensor(x)\n\u001b[0;32m   1111\u001b[0m                       \u001b[38;5;28;01mfor\u001b[39;00m x \u001b[38;5;129;01min\u001b[39;00m output_gradients]\n\u001b[1;32m-> 1113\u001b[0m flat_grad \u001b[38;5;241m=\u001b[39m \u001b[43mimperative_grad\u001b[49m\u001b[38;5;241;43m.\u001b[39;49m\u001b[43mimperative_grad\u001b[49m\u001b[43m(\u001b[49m\n\u001b[0;32m   1114\u001b[0m \u001b[43m    \u001b[49m\u001b[38;5;28;43mself\u001b[39;49m\u001b[38;5;241;43m.\u001b[39;49m\u001b[43m_tape\u001b[49m\u001b[43m,\u001b[49m\n\u001b[0;32m   1115\u001b[0m \u001b[43m    \u001b[49m\u001b[43mflat_targets\u001b[49m\u001b[43m,\u001b[49m\n\u001b[0;32m   1116\u001b[0m \u001b[43m    \u001b[49m\u001b[43mflat_sources\u001b[49m\u001b[43m,\u001b[49m\n\u001b[0;32m   1117\u001b[0m \u001b[43m    \u001b[49m\u001b[43moutput_gradients\u001b[49m\u001b[38;5;241;43m=\u001b[39;49m\u001b[43moutput_gradients\u001b[49m\u001b[43m,\u001b[49m\n\u001b[0;32m   1118\u001b[0m \u001b[43m    \u001b[49m\u001b[43msources_raw\u001b[49m\u001b[38;5;241;43m=\u001b[39;49m\u001b[43mflat_sources_raw\u001b[49m\u001b[43m,\u001b[49m\n\u001b[0;32m   1119\u001b[0m \u001b[43m    \u001b[49m\u001b[43munconnected_gradients\u001b[49m\u001b[38;5;241;43m=\u001b[39;49m\u001b[43munconnected_gradients\u001b[49m\u001b[43m)\u001b[49m\n\u001b[0;32m   1121\u001b[0m \u001b[38;5;28;01mif\u001b[39;00m \u001b[38;5;129;01mnot\u001b[39;00m \u001b[38;5;28mself\u001b[39m\u001b[38;5;241m.\u001b[39m_persistent:\n\u001b[0;32m   1122\u001b[0m   \u001b[38;5;66;03m# Keep track of watched variables before setting tape to None\u001b[39;00m\n\u001b[0;32m   1123\u001b[0m   \u001b[38;5;28mself\u001b[39m\u001b[38;5;241m.\u001b[39m_watched_variables \u001b[38;5;241m=\u001b[39m \u001b[38;5;28mself\u001b[39m\u001b[38;5;241m.\u001b[39m_tape\u001b[38;5;241m.\u001b[39mwatched_variables()\n",
      "File \u001b[1;32mC:\\Program Files\\Anaconda3\\envs\\env_qiskit\\lib\\site-packages\\tensorflow\\python\\eager\\imperative_grad.py:67\u001b[0m, in \u001b[0;36mimperative_grad\u001b[1;34m(tape, target, sources, output_gradients, sources_raw, unconnected_gradients)\u001b[0m\n\u001b[0;32m     63\u001b[0m \u001b[38;5;28;01mexcept\u001b[39;00m \u001b[38;5;167;01mValueError\u001b[39;00m:\n\u001b[0;32m     64\u001b[0m   \u001b[38;5;28;01mraise\u001b[39;00m \u001b[38;5;167;01mValueError\u001b[39;00m(\n\u001b[0;32m     65\u001b[0m       \u001b[38;5;124m\"\u001b[39m\u001b[38;5;124mUnknown value for unconnected_gradients: \u001b[39m\u001b[38;5;132;01m%r\u001b[39;00m\u001b[38;5;124m\"\u001b[39m \u001b[38;5;241m%\u001b[39m unconnected_gradients)\n\u001b[1;32m---> 67\u001b[0m \u001b[38;5;28;01mreturn\u001b[39;00m \u001b[43mpywrap_tfe\u001b[49m\u001b[38;5;241;43m.\u001b[39;49m\u001b[43mTFE_Py_TapeGradient\u001b[49m\u001b[43m(\u001b[49m\n\u001b[0;32m     68\u001b[0m \u001b[43m    \u001b[49m\u001b[43mtape\u001b[49m\u001b[38;5;241;43m.\u001b[39;49m\u001b[43m_tape\u001b[49m\u001b[43m,\u001b[49m\u001b[43m  \u001b[49m\u001b[38;5;66;43;03m# pylint: disable=protected-access\u001b[39;49;00m\n\u001b[0;32m     69\u001b[0m \u001b[43m    \u001b[49m\u001b[43mtarget\u001b[49m\u001b[43m,\u001b[49m\n\u001b[0;32m     70\u001b[0m \u001b[43m    \u001b[49m\u001b[43msources\u001b[49m\u001b[43m,\u001b[49m\n\u001b[0;32m     71\u001b[0m \u001b[43m    \u001b[49m\u001b[43moutput_gradients\u001b[49m\u001b[43m,\u001b[49m\n\u001b[0;32m     72\u001b[0m \u001b[43m    \u001b[49m\u001b[43msources_raw\u001b[49m\u001b[43m,\u001b[49m\n\u001b[0;32m     73\u001b[0m \u001b[43m    \u001b[49m\u001b[43mcompat\u001b[49m\u001b[38;5;241;43m.\u001b[39;49m\u001b[43mas_str\u001b[49m\u001b[43m(\u001b[49m\u001b[43munconnected_gradients\u001b[49m\u001b[38;5;241;43m.\u001b[39;49m\u001b[43mvalue\u001b[49m\u001b[43m)\u001b[49m\u001b[43m)\u001b[49m\n",
      "File \u001b[1;32mC:\\Program Files\\Anaconda3\\envs\\env_qiskit\\lib\\site-packages\\tensorflow\\python\\eager\\backprop.py:160\u001b[0m, in \u001b[0;36m_gradient_function\u001b[1;34m(op_name, attr_tuple, num_inputs, inputs, outputs, out_grads, skip_input_indices, forward_pass_name_scope)\u001b[0m\n\u001b[0;32m    158\u001b[0m     gradient_name_scope \u001b[38;5;241m+\u001b[39m\u001b[38;5;241m=\u001b[39m forward_pass_name_scope \u001b[38;5;241m+\u001b[39m \u001b[38;5;124m\"\u001b[39m\u001b[38;5;124m/\u001b[39m\u001b[38;5;124m\"\u001b[39m\n\u001b[0;32m    159\u001b[0m   \u001b[38;5;28;01mwith\u001b[39;00m ops\u001b[38;5;241m.\u001b[39mname_scope(gradient_name_scope):\n\u001b[1;32m--> 160\u001b[0m     \u001b[38;5;28;01mreturn\u001b[39;00m \u001b[43mgrad_fn\u001b[49m\u001b[43m(\u001b[49m\u001b[43mmock_op\u001b[49m\u001b[43m,\u001b[49m\u001b[43m \u001b[49m\u001b[38;5;241;43m*\u001b[39;49m\u001b[43mout_grads\u001b[49m\u001b[43m)\u001b[49m\n\u001b[0;32m    161\u001b[0m \u001b[38;5;28;01melse\u001b[39;00m:\n\u001b[0;32m    162\u001b[0m   \u001b[38;5;28;01mreturn\u001b[39;00m grad_fn(mock_op, \u001b[38;5;241m*\u001b[39mout_grads)\n",
      "File \u001b[1;32mC:\\Program Files\\Anaconda3\\envs\\env_qiskit\\lib\\site-packages\\tensorflow\\python\\ops\\math_grad.py:207\u001b[0m, in \u001b[0;36m_SumGrad\u001b[1;34m(op, grad)\u001b[0m\n\u001b[0;32m    203\u001b[0m \u001b[38;5;28;01mif\u001b[39;00m \u001b[38;5;129;01mnot\u001b[39;00m op\u001b[38;5;241m.\u001b[39mget_attr(\u001b[38;5;124m\"\u001b[39m\u001b[38;5;124mkeep_dims\u001b[39m\u001b[38;5;124m\"\u001b[39m):\n\u001b[0;32m    204\u001b[0m   \u001b[38;5;28;01mwith\u001b[39;00m ops\u001b[38;5;241m.\u001b[39mcolocate_with(input_shape):\n\u001b[0;32m    205\u001b[0m     \u001b[38;5;66;03m# TODO(apassos) remove this once device placement for eager ops makes\u001b[39;00m\n\u001b[0;32m    206\u001b[0m     \u001b[38;5;66;03m# more sense.\u001b[39;00m\n\u001b[1;32m--> 207\u001b[0m     output_shape_kept_dims \u001b[38;5;241m=\u001b[39m \u001b[43mmath_ops\u001b[49m\u001b[38;5;241;43m.\u001b[39;49m\u001b[43mreduced_shape\u001b[49m\u001b[43m(\u001b[49m\u001b[43minput_shape\u001b[49m\u001b[43m,\u001b[49m\n\u001b[0;32m    208\u001b[0m \u001b[43m                                                    \u001b[49m\u001b[43mop\u001b[49m\u001b[38;5;241;43m.\u001b[39;49m\u001b[43minputs\u001b[49m\u001b[43m[\u001b[49m\u001b[38;5;241;43m1\u001b[39;49m\u001b[43m]\u001b[49m\u001b[43m)\u001b[49m\n\u001b[0;32m    209\u001b[0m   grad \u001b[38;5;241m=\u001b[39m array_ops\u001b[38;5;241m.\u001b[39mreshape(grad, output_shape_kept_dims)\n\u001b[0;32m    210\u001b[0m \u001b[38;5;28;01mreturn\u001b[39;00m [array_ops\u001b[38;5;241m.\u001b[39mbroadcast_to(grad, input_shape), \u001b[38;5;28;01mNone\u001b[39;00m]\n",
      "File \u001b[1;32mC:\\Program Files\\Anaconda3\\envs\\env_qiskit\\lib\\site-packages\\tensorflow\\python\\ops\\math_ops.py:4498\u001b[0m, in \u001b[0;36mreduced_shape\u001b[1;34m(input_shape, axes)\u001b[0m\n\u001b[0;32m   4496\u001b[0m constant_input_shape \u001b[38;5;241m=\u001b[39m tensor_util\u001b[38;5;241m.\u001b[39mconstant_value(input_shape)\n\u001b[0;32m   4497\u001b[0m \u001b[38;5;28;01mif\u001b[39;00m constant_input_shape \u001b[38;5;129;01mis\u001b[39;00m \u001b[38;5;129;01mnot\u001b[39;00m \u001b[38;5;28;01mNone\u001b[39;00m:\n\u001b[1;32m-> 4498\u001b[0m   constant_axes \u001b[38;5;241m=\u001b[39m \u001b[43mtensor_util\u001b[49m\u001b[38;5;241;43m.\u001b[39;49m\u001b[43mconstant_value\u001b[49m\u001b[43m(\u001b[49m\u001b[43maxes\u001b[49m\u001b[43m)\u001b[49m\n\u001b[0;32m   4499\u001b[0m   \u001b[38;5;28;01mif\u001b[39;00m constant_axes \u001b[38;5;129;01mis\u001b[39;00m \u001b[38;5;129;01mnot\u001b[39;00m \u001b[38;5;28;01mNone\u001b[39;00m:\n\u001b[0;32m   4500\u001b[0m     constant_axes \u001b[38;5;241m=\u001b[39m np\u001b[38;5;241m.\u001b[39marray(constant_axes, dtype\u001b[38;5;241m=\u001b[39mnp\u001b[38;5;241m.\u001b[39mint32)\n",
      "File \u001b[1;32mC:\\Program Files\\Anaconda3\\envs\\env_qiskit\\lib\\site-packages\\tensorflow\\python\\framework\\tensor_util.py:870\u001b[0m, in \u001b[0;36mconstant_value\u001b[1;34m(tensor, partial)\u001b[0m\n\u001b[0;32m    868\u001b[0m \u001b[38;5;28;01mif\u001b[39;00m \u001b[38;5;28misinstance\u001b[39m(tensor, ops\u001b[38;5;241m.\u001b[39mEagerTensor):\n\u001b[0;32m    869\u001b[0m   \u001b[38;5;28;01mtry\u001b[39;00m:\n\u001b[1;32m--> 870\u001b[0m     \u001b[38;5;28;01mreturn\u001b[39;00m \u001b[43mtensor\u001b[49m\u001b[38;5;241;43m.\u001b[39;49m\u001b[43mnumpy\u001b[49m\u001b[43m(\u001b[49m\u001b[43m)\u001b[49m\n\u001b[0;32m    871\u001b[0m   \u001b[38;5;28;01mexcept\u001b[39;00m errors_impl\u001b[38;5;241m.\u001b[39mUnimplementedError:\n\u001b[0;32m    872\u001b[0m     \u001b[38;5;66;03m# Some EagerTensors may not implement .numpy/resolve, e.g. parallel\u001b[39;00m\n\u001b[0;32m    873\u001b[0m     \u001b[38;5;66;03m# tensors with multiple components on different devices.\u001b[39;00m\n\u001b[0;32m    874\u001b[0m     \u001b[38;5;28;01mreturn\u001b[39;00m \u001b[38;5;28;01mNone\u001b[39;00m\n",
      "File \u001b[1;32mC:\\Program Files\\Anaconda3\\envs\\env_qiskit\\lib\\site-packages\\tensorflow\\python\\framework\\ops.py:1157\u001b[0m, in \u001b[0;36m_EagerTensorBase.numpy\u001b[1;34m(self)\u001b[0m\n\u001b[0;32m   1134\u001b[0m \u001b[38;5;124;03m\"\"\"Copy of the contents of this Tensor into a NumPy array or scalar.\u001b[39;00m\n\u001b[0;32m   1135\u001b[0m \n\u001b[0;32m   1136\u001b[0m \u001b[38;5;124;03mUnlike NumPy arrays, Tensors are immutable, so this method has to copy\u001b[39;00m\n\u001b[1;32m   (...)\u001b[0m\n\u001b[0;32m   1154\u001b[0m \u001b[38;5;124;03m    NumPy dtype.\u001b[39;00m\n\u001b[0;32m   1155\u001b[0m \u001b[38;5;124;03m\"\"\"\u001b[39;00m\n\u001b[0;32m   1156\u001b[0m \u001b[38;5;66;03m# TODO(slebedev): Consider avoiding a copy for non-CPU or remote tensors.\u001b[39;00m\n\u001b[1;32m-> 1157\u001b[0m maybe_arr \u001b[38;5;241m=\u001b[39m \u001b[38;5;28;43mself\u001b[39;49m\u001b[38;5;241;43m.\u001b[39;49m\u001b[43m_numpy\u001b[49m\u001b[43m(\u001b[49m\u001b[43m)\u001b[49m  \u001b[38;5;66;03m# pylint: disable=protected-access\u001b[39;00m\n\u001b[0;32m   1158\u001b[0m \u001b[38;5;28;01mreturn\u001b[39;00m maybe_arr\u001b[38;5;241m.\u001b[39mcopy() \u001b[38;5;28;01mif\u001b[39;00m \u001b[38;5;28misinstance\u001b[39m(maybe_arr, np\u001b[38;5;241m.\u001b[39mndarray) \u001b[38;5;28;01melse\u001b[39;00m maybe_arr\n",
      "File \u001b[1;32mC:\\Program Files\\Anaconda3\\envs\\env_qiskit\\lib\\site-packages\\tensorflow\\python\\framework\\ops.py:1123\u001b[0m, in \u001b[0;36m_EagerTensorBase._numpy\u001b[1;34m(self)\u001b[0m\n\u001b[0;32m   1121\u001b[0m \u001b[38;5;28;01mdef\u001b[39;00m \u001b[38;5;21m_numpy\u001b[39m(\u001b[38;5;28mself\u001b[39m):\n\u001b[0;32m   1122\u001b[0m   \u001b[38;5;28;01mtry\u001b[39;00m:\n\u001b[1;32m-> 1123\u001b[0m     \u001b[38;5;28;01mreturn\u001b[39;00m \u001b[38;5;28;43mself\u001b[39;49m\u001b[38;5;241;43m.\u001b[39;49m\u001b[43m_numpy_internal\u001b[49m\u001b[43m(\u001b[49m\u001b[43m)\u001b[49m\n\u001b[0;32m   1124\u001b[0m   \u001b[38;5;28;01mexcept\u001b[39;00m core\u001b[38;5;241m.\u001b[39m_NotOkStatusException \u001b[38;5;28;01mas\u001b[39;00m e:  \u001b[38;5;66;03m# pylint: disable=protected-access\u001b[39;00m\n\u001b[0;32m   1125\u001b[0m     \u001b[38;5;28;01mraise\u001b[39;00m core\u001b[38;5;241m.\u001b[39m_status_to_exception(e) \u001b[38;5;28;01mfrom\u001b[39;00m \u001b[38;5;28mNone\u001b[39m\n",
      "\u001b[1;31mKeyboardInterrupt\u001b[0m: "
     ]
    }
   ],
   "source": [
    "n = 3\n",
    "d = 2**n\n",
    "\n",
    "N = 200\n",
    "\n",
    "#Pauli Strings\n",
    "np.random.seed(42)\n",
    "random.seed(42)\n",
    "tf.random.set_seed(42)\n",
    "\n",
    "inputs_map1, _ = generate_pauli_circuits(n=n, N=N)\n",
    "\n",
    "\n",
    "#Unoptimized Sphere strings\n",
    "np.random.seed(42)\n",
    "random.seed(42)\n",
    "tf.random.set_seed(42)\n",
    "\n",
    "strings = SphereStrings(N=2*N, n=n)\n",
    "\n",
    "_, U2 = strings.generate_circuits()\n",
    "inputs_map2 = [U2[:N], U2[N:]]\n",
    "\n",
    "\n",
    "#Optimized Sphere Strings\n",
    "np.random.seed(42)\n",
    "random.seed(42)\n",
    "tf.random.set_seed(42)\n",
    "\n",
    "strings1 = SphereStrings(N=N, n=n)\n",
    "strings2 = SphereStrings(N=N, n=n)\n",
    "strings1.optimize(10000)\n",
    "strings2.optimize(10000)\n",
    "\n",
    "_, U1 = strings1.generate_circuits()\n",
    "_, U2 = strings2.generate_circuits()\n",
    "inputs_map3 = [U1, U2]\n",
    "\n",
    "\n",
    "#Haar Strings\n",
    "np.random.seed(42)\n",
    "random.seed(42)\n",
    "tf.random.set_seed(42)\n",
    "\n",
    "strings = HaarStrings(N=2*N, n=n)\n",
    "\n",
    "_, U4 = strings.generate_circuits()\n",
    "inputs_map4 = [U4[:N], U4[N:]]\n",
    "\n",
    "#Haar Input\n",
    "np.random.seed(42)\n",
    "random.seed(42)\n",
    "tf.random.set_seed(42)\n",
    "\n",
    "strings = HaarInput(N=2*N, n=n)\n",
    "\n",
    "_, U5 = strings.generate_circuits()\n",
    "inputs_map5 = [U5[:N], U5[N:]]"
   ]
  },
  {
   "cell_type": "markdown",
   "metadata": {},
   "source": [
    "### Vanilla Pauli Strings"
   ]
  },
  {
   "cell_type": "code",
   "execution_count": null,
   "metadata": {},
   "outputs": [],
   "source": [
    "np.random.seed(42)\n",
    "random.seed(42)\n",
    "tf.random.set_seed(42)\n",
    "\n",
    "kraus_target = KrausMap(d, rank = 10)\n",
    "targets_map1 = generate_map_data(kraus_target, inputs_map1)\n",
    "\n",
    "model = ModelQuantumMap(channel = KrausMap(d=d, \n",
    "                                           rank=10,                                                  ),\n",
    "                               loss_function = ProbabilityMSE(),\n",
    "                               optimizer = tf.optimizers.Adam(learning_rate=0.01),\n",
    "                               logger = Logger(loss_function = ProbabilityMSE(),\n",
    "                                               loss_function_val = channel_fidelity_loss),\n",
    "                               )\n",
    "\n",
    "model.train(inputs = inputs_map1,\n",
    "            targets = targets_map1,\n",
    "            inputs_val = None,\n",
    "            targets_val = [kraus_target],\n",
    "            num_iter = 4000,\n",
    "            N = 500,\n",
    "            )"
   ]
  },
  {
   "cell_type": "markdown",
   "metadata": {},
   "source": [
    "### Unoptimized Sphere Strings"
   ]
  },
  {
   "cell_type": "code",
   "execution_count": 20,
   "metadata": {},
   "outputs": [
    {
     "data": {
      "application/vnd.jupyter.widget-view+json": {
       "model_id": "7ff3612e688b4ab19340eb0cad5be05f",
       "version_major": 2,
       "version_minor": 0
      },
      "text/plain": [
       "  0%|          | 0/4000 [00:00<?, ?it/s]"
      ]
     },
     "metadata": {},
     "output_type": "display_data"
    },
    {
     "name": "stdout",
     "output_type": "stream",
     "text": [
      "0.2073630874618668 -0.10742093762760044\n",
      "0.03409499080507354 -0.24140280420736693\n",
      "0.014317104008455055 -0.3405854287602903\n",
      "0.008557189693450738 -0.4065942891617664\n",
      "0.005934211312582653 -0.4522929044045661\n",
      "0.004491184992243779 -0.48398176852772906\n",
      "0.003540751010331078 -0.5072761565599808\n",
      "0.00288538319737424 -0.5276167378975885\n",
      "0.0024317896126969957 -0.5477095918539238\n",
      "0.002111080710036513 -0.567029272130711\n",
      "0.0018747061779965607 -0.5852407061209008\n",
      "0.0016882318159168214 -0.6025915056028\n",
      "0.0015312525984860533 -0.6192701040114819\n",
      "0.0013970239380044188 -0.6352048055215656\n",
      "0.0012833183984890086 -0.6503051788532732\n",
      "0.0011866718464538187 -0.6646529350589646\n",
      "0.0011025605208233092 -0.6784197047004675\n",
      "0.0010266104402064657 -0.6917049679923801\n",
      "0.0009556645435844823 -0.7044817256016896\n",
      "0.0008883091021836073 -0.7166942745066349\n",
      "0.0008242756952951384 -0.7284270806547739\n",
      "0.0007635606195943714 -0.7399622662368062\n",
      "0.0007063836378344817 -0.7516000633062655\n",
      "0.0006542899295995244 -0.7633004952450003\n",
      "0.00060989433149309 -0.7745596313744805\n",
      "0.000574326638246327 -0.7848415628309208\n",
      "0.0005466666458480444 -0.7939625910071727\n",
      "0.0005250567519200989 -0.8020670358580101\n",
      "0.0005075131297462693 -0.8094729223980609\n",
      "0.0004923169495466311 -0.8165691706030771\n",
      "0.0004780330648031988 -0.8237686426705914\n",
      "0.00046334178640056753 -0.8314727488336351\n",
      "0.00044702094748610174 -0.8399917985181987\n",
      "0.00042840468279978607 -0.8493972129603117\n",
      "0.00040797729142267843 -0.8594708450490497\n",
      "0.00038687286990708703 -0.869965012983406\n",
      "0.0003656063938320718 -0.880907271281282\n",
      "0.0003436780889441495 -0.8926136641641351\n",
      "0.00032014203553311913 -0.9053748537011351\n",
      "0.0002948313615544411 -0.9188869658912909\n",
      "0.0002701449662610314 -0.9320397000002618\n"
     ]
    }
   ],
   "source": [
    "np.random.seed(42)\n",
    "random.seed(42)\n",
    "tf.random.set_seed(42)\n",
    "\n",
    "kraus_target = KrausMap(d, rank = d+1)\n",
    "targets_map2 = generate_map_data(kraus_target, inputs_map2)\n",
    "\n",
    "model = ModelQuantumMap(channel = KrausMap(d=d, \n",
    "                                           rank=d+1,                                                  ),\n",
    "                               loss_function = ProbabilityMSE(),\n",
    "                               optimizer = tf.optimizers.Adam(learning_rate=0.01),\n",
    "                               logger = Logger(loss_function = ProbabilityMSE(),\n",
    "                                               loss_function_val = channel_fidelity_loss),\n",
    "                               )\n",
    "\n",
    "model.train(inputs = inputs_map2,\n",
    "            targets = targets_map2,\n",
    "            inputs_val = None,\n",
    "            targets_val = [kraus_target],\n",
    "            num_iter = 4000,\n",
    "            N = 500,\n",
    "            )"
   ]
  },
  {
   "cell_type": "markdown",
   "metadata": {},
   "source": [
    "### Optimized Sphere Strings"
   ]
  },
  {
   "cell_type": "code",
   "execution_count": null,
   "metadata": {},
   "outputs": [],
   "source": [
    "np.random.seed(42)\n",
    "random.seed(42)\n",
    "tf.random.set_seed(42)\n",
    "\n",
    "kraus_target = KrausMap(d, rank = 10)\n",
    "targets_map3 = generate_map_data(kraus_target, inputs_map3)\n",
    "\n",
    "model = ModelQuantumMap(channel = KrausMap(d=d, \n",
    "                                           rank=10,                                                  ),\n",
    "                               loss_function = ProbabilityMSE(),\n",
    "                               optimizer = tf.optimizers.Adam(learning_rate=0.01),\n",
    "                               logger = Logger(loss_function = ProbabilityMSE(),\n",
    "                                               loss_function_val = channel_fidelity_loss),\n",
    "                               )\n",
    "\n",
    "model.train(inputs = inputs_map3,\n",
    "            targets = targets_map3,\n",
    "            inputs_val = None,\n",
    "            targets_val = [kraus_target],\n",
    "            num_iter = 4000,\n",
    "            N = 500,\n",
    "            )"
   ]
  },
  {
   "cell_type": "markdown",
   "metadata": {},
   "source": [
    "### Haar Strings"
   ]
  },
  {
   "cell_type": "code",
   "execution_count": null,
   "metadata": {},
   "outputs": [],
   "source": [
    "np.random.seed(42)\n",
    "random.seed(42)\n",
    "tf.random.set_seed(42)\n",
    "\n",
    "kraus_target = KrausMap(d, rank = d)\n",
    "targets_map4 = generate_map_data(kraus_target, inputs_map4, noise = 0.01)\n",
    "\n",
    "model = ModelQuantumMap(channel = KrausMap(d=d, \n",
    "                                           rank=d,                                                  ),\n",
    "                               loss_function = ProbabilityMSE(),\n",
    "                               optimizer = tf.optimizers.Adam(learning_rate=0.01),\n",
    "                               logger = Logger(loss_function = ProbabilityMSE(),\n",
    "                                               loss_function_val = channel_fidelity_loss),\n",
    "                               )\n",
    "\n",
    "model.train(inputs = inputs_map4,\n",
    "            targets = targets_map4,\n",
    "            inputs_val = None,\n",
    "            targets_val = [kraus_target],\n",
    "            num_iter = 4000,\n",
    "            N = 500,\n",
    "            )"
   ]
  },
  {
   "cell_type": "markdown",
   "metadata": {},
   "source": [
    "### Haar Input"
   ]
  },
  {
   "cell_type": "code",
   "execution_count": null,
   "metadata": {},
   "outputs": [],
   "source": [
    "np.random.seed(42)\n",
    "random.seed(42)\n",
    "tf.random.set_seed(42)\n",
    "\n",
    "kraus_target = KrausMap(d, rank = d)\n",
    "targets_map5 = generate_map_data(kraus_target, inputs_map5, noise = 0.01)\n",
    "\n",
    "model = ModelQuantumMap(channel = KrausMap(d=d, \n",
    "                                           rank=d,                                                  ),\n",
    "                               loss_function = ProbabilityMSE(),\n",
    "                               optimizer = tf.optimizers.Adam(learning_rate=0.01),\n",
    "                               logger = Logger(loss_function = ProbabilityMSE(),\n",
    "                                               loss_function_val = channel_fidelity_loss),\n",
    "                               )\n",
    "\n",
    "model.train(inputs = inputs_map5,\n",
    "            targets = targets_map5,\n",
    "            inputs_val = None,\n",
    "            targets_val = [kraus_target],\n",
    "            num_iter = 2000,\n",
    "            N = 500,\n",
    "            )"
   ]
  },
  {
   "cell_type": "markdown",
   "metadata": {},
   "source": [
    "## Overfitting"
   ]
  },
  {
   "cell_type": "code",
   "execution_count": 3,
   "metadata": {
    "scrolled": true
   },
   "outputs": [],
   "source": [
    "n = 3\n",
    "d = 2**n\n",
    "N = 2000\n",
    "\n",
    "#Pauli Strings\n",
    "np.random.seed(42)\n",
    "random.seed(42)\n",
    "tf.random.set_seed(42)\n",
    "\n",
    "inputs_map, _ = generate_pauli_circuits(n=n, N=2*N)\n",
    "\n",
    "inputs_train1 = [inputs_map[0][:N], inputs_map[1][:N]]\n",
    "inputs_test1 = [inputs_map[0][N:], inputs_map[1][N:]]\n",
    "\n",
    "### Haar Strings\n",
    "np.random.seed(42)\n",
    "random.seed(42)\n",
    "tf.random.set_seed(42)\n",
    "\n",
    "strings = HaarStrings(N=4*N, n=n)\n",
    "\n",
    "_, U = strings.generate_circuits()\n",
    "inputs_train2 = [U[:N], U[N:2*N]]\n",
    "inputs_test2 = [U[2*N:3*N], U[3*N:]]\n",
    "\n",
    "### Haar Input\n",
    "np.random.seed(42)\n",
    "random.seed(42)\n",
    "tf.random.set_seed(42)\n",
    "\n",
    "strings = HaarInput(N=4*N, n=n)\n",
    "\n",
    "_, U = strings.generate_circuits()\n",
    "inputs_train3 = [U[:N], U[N:2*N]]\n",
    "inputs_test3 = [U[2*N:3*N], U[3*N:]]"
   ]
  },
  {
   "cell_type": "code",
   "execution_count": null,
   "metadata": {
    "scrolled": true
   },
   "outputs": [
    {
     "data": {
      "application/vnd.jupyter.widget-view+json": {
       "model_id": "68c5ba2119994a6c890701f299f333e5",
       "version_major": 2,
       "version_minor": 0
      },
      "text/plain": [
       "  0%|          | 0/4000 [00:00<?, ?it/s]"
      ]
     },
     "metadata": {},
     "output_type": "display_data"
    },
    {
     "name": "stdout",
     "output_type": "stream",
     "text": [
      "0.6300714071190169 0.6202026121477882\n",
      "0.5556886581906046 0.5895931868095011\n",
      "0.537806655572675 0.5717054274964071\n",
      "0.5160938797598483 0.5636406742796457\n",
      "0.49899051454849264 0.5462658036962127\n",
      "0.4916303145081385 0.5419627143852129\n",
      "0.4819180433273729 0.5345932848783753\n",
      "0.4672064790841653 0.5160446891964766\n",
      "0.4561279761848069 0.502601713342984\n",
      "0.4405339276358782 0.49184335580342325\n",
      "0.43331077962559694 0.47751629552762026\n",
      "0.4259319998864688 0.47360686791843104\n",
      "0.4211092044921203 0.46531002278346567\n",
      "0.41608023648755654 0.4587745175463364\n",
      "0.41251886452733355 0.45482638378600015\n",
      "0.41162101140478047 0.45174137391131003\n",
      "0.4104067063955663 0.45227146024453835\n",
      "0.4106252032467072 0.4574559308519449\n",
      "0.4096368068293419 0.45533631747264725\n",
      "0.40881240570318117 0.4560639579681246\n",
      "0.4085797714897692 0.45186901363502774\n",
      "0.4057128663761614 0.45246260341920935\n",
      "0.4053108807876933 0.4501000836655744\n",
      "0.4042053038403962 0.4471232435715174\n",
      "0.403388255415138 0.4508888101635903\n",
      "0.40269295206923933 0.44590124426785815\n",
      "0.40275590694478003 0.44583008426373993\n",
      "0.40255040100459394 0.4458891352859812\n",
      "0.40212230684473294 0.44548144550424507\n",
      "0.4024801703585112 0.4461399721185429\n",
      "0.40144658186973153 0.4448146960714646\n",
      "0.39917546538629284 0.44533257186698244\n",
      "0.39677110122437376 0.44100080044407525\n",
      "0.3950455117344479 0.4437763841765626\n",
      "0.3909154829819271 0.43731369927508273\n",
      "0.38997253396599135 0.4329708990635362\n",
      "0.3895800672888744 0.4311488092950653\n",
      "0.38909178387027943 0.4334517318070796\n",
      "0.3886753492781352 0.43246603852630183\n",
      "0.3890615227079098 0.4328886465458327\n",
      "0.3886318909809478 0.43326528868712066\n"
     ]
    },
    {
     "data": {
      "application/vnd.jupyter.widget-view+json": {
       "model_id": "1c0e08526fad4805aea86da1013da1f0",
       "version_major": 2,
       "version_minor": 0
      },
      "text/plain": [
       "  0%|          | 0/4000 [00:00<?, ?it/s]"
      ]
     },
     "metadata": {},
     "output_type": "display_data"
    },
    {
     "name": "stdout",
     "output_type": "stream",
     "text": [
      "0.6300714071190169 0.6194448245989522\n",
      "0.5556886581906046 0.5764970744521898\n",
      "0.537806655572675 0.5606507117947799\n",
      "0.5160938797598483 0.5523496868511519\n",
      "0.49899051454849264 0.5394402741322081\n",
      "0.4916303145081385 0.5342423640720317\n",
      "0.4819180433273729 0.5249708766832123\n",
      "0.4672064790841653 0.5029713171374461\n",
      "0.4561279761848069 0.4884038369594941\n",
      "0.4405339276358782 0.470739628025962\n",
      "0.43331077962559694 0.45860637120391007\n",
      "0.4259319998864688 0.4547719002910072\n",
      "0.4211092044921203 0.44816511501973244\n",
      "0.41608023648755654 0.44675641231046387\n",
      "0.41251886452733355 0.4458468701682634\n",
      "0.41162101140478047 0.44412492754973654\n",
      "0.4104067063955663 0.44382759256588816\n",
      "0.4106252032467072 0.44234743813181104\n",
      "0.4096368068293419 0.4400525252822367\n",
      "0.40881240570318117 0.4359724076890378\n",
      "0.4085797714897692 0.43520013322310275\n",
      "0.4057128663761614 0.4345823997783059\n",
      "0.4053108807876933 0.4336259433775017\n",
      "0.4042053038403962 0.4288499099902855\n",
      "0.403388255415138 0.4323437416819403\n",
      "0.40269295206923933 0.42938133740682055\n",
      "0.40275590694478003 0.4288058281659654\n",
      "0.40255040100459394 0.42929993091687346\n",
      "0.40212230684473294 0.4286528157506407\n",
      "0.4024801703585112 0.42938426226310866\n",
      "0.40144658186973153 0.43150451925971367\n",
      "0.39917546538629284 0.43536028776571073\n",
      "0.39677110122437376 0.43301129373009906\n",
      "0.3950455117344479 0.43071195487421593\n",
      "0.3909154829819271 0.42243237558660474\n",
      "0.38997253396599135 0.4235283599608372\n",
      "0.3895800672888744 0.4217591978453695\n",
      "0.38909178387027943 0.4215315545577517\n",
      "0.3886753492781352 0.41938144542913036\n",
      "0.3890615227079098 0.42010116572941475\n",
      "0.3886318909809478 0.4211088510153479\n"
     ]
    },
    {
     "data": {
      "application/vnd.jupyter.widget-view+json": {
       "model_id": "470a892537a34bb29a2c6b409230ace7",
       "version_major": 2,
       "version_minor": 0
      },
      "text/plain": [
       "  0%|          | 0/4000 [00:00<?, ?it/s]"
      ]
     },
     "metadata": {},
     "output_type": "display_data"
    },
    {
     "name": "stdout",
     "output_type": "stream",
     "text": [
      "0.6300714071190169 0.6246195207424757\n",
      "0.5556886581906046 0.6132255032863525\n",
      "0.537806655572675 0.6101740014649258\n",
      "0.5160938797598483 0.5999112367707907\n",
      "0.49899051454849264 0.588179336717636\n",
      "0.4916303145081385 0.5768598203700821\n",
      "0.4819180433273729 0.5636058543726764\n",
      "0.4672064790841653 0.5520298991908125\n",
      "0.4561279761848069 0.5376923111338856\n",
      "0.4405339276358782 0.5252143202083043\n",
      "0.43331077962559694 0.5121862243317531\n",
      "0.4259319998864688 0.5087175678813497\n",
      "0.4211092044921203 0.5000472936108924\n",
      "0.41608023648755654 0.5004051842057029\n",
      "0.41251886452733355 0.500111500193074\n",
      "0.41162101140478047 0.49779554697265654\n",
      "0.4104067063955663 0.4976607986882998\n",
      "0.4106252032467072 0.49951780012660535\n",
      "0.4096368068293419 0.49651704491901133\n",
      "0.40881240570318117 0.4967890340347143\n",
      "0.4085797714897692 0.4971345842046394\n",
      "0.4057128663761614 0.4932300974812503\n",
      "0.4053108807876933 0.49228162117011104\n",
      "0.4042053038403962 0.49035979967971755\n",
      "0.403388255415138 0.4883596090456505\n",
      "0.40269295206923933 0.4863952274641747\n",
      "0.40275590694478003 0.48608901891871154\n",
      "0.40255040100459394 0.48302860886028254\n",
      "0.40212230684473294 0.4821858954030719\n",
      "0.4024801703585112 0.48151178545774664\n",
      "0.40144658186973153 0.48386916845352\n",
      "0.39917546538629284 0.4812684639751004\n",
      "0.39677110122437376 0.47949057588062644\n",
      "0.3950455117344479 0.47768367661291766\n",
      "0.3909154829819271 0.47413776601518215\n",
      "0.38997253396599135 0.46935789474233097\n",
      "0.3895800672888744 0.47004760940211154\n",
      "0.38909178387027943 0.4690699854437711\n",
      "0.3886753492781352 0.46683085829496496\n",
      "0.3890615227079098 0.46817429768537966\n",
      "0.3886318909809478 0.46472342104287867\n"
     ]
    },
    {
     "data": {
      "application/vnd.jupyter.widget-view+json": {
       "model_id": "ed7f4a46c96e4ddab5b282706bd27941",
       "version_major": 2,
       "version_minor": 0
      },
      "text/plain": [
       "  0%|          | 0/4000 [00:00<?, ?it/s]"
      ]
     },
     "metadata": {},
     "output_type": "display_data"
    },
    {
     "name": "stdout",
     "output_type": "stream",
     "text": [
      "0.3347027984035563 0.3307386685267215\n",
      "0.21360508792174085 0.22912819358254258\n",
      "0.15336105869397176 0.16881249049088157\n",
      "0.12209171466653083 0.13863240579458283\n",
      "0.10330038679239112 0.11606443182938796\n",
      "0.09173937416028251 0.10042040389521613\n",
      "0.08616428084693442 0.09286471925118356\n",
      "0.0835395360190034 0.08919463982590112\n",
      "0.08201439485385302 0.08843319354115531\n",
      "0.08133423700616413 0.08696101942764085\n",
      "0.08088021157686213 0.08662309639826347\n",
      "0.08048679603469513 0.08597990861701747\n",
      "0.08025718648157443 0.08572452251929497\n",
      "0.07998988509678938 0.0847660957956571\n",
      "0.07983395757006821 0.08493820918536141\n",
      "0.0798361875393115 0.08469584822320532\n",
      "0.07975021854852335 0.08457015860894437\n",
      "0.07963571936450937 0.08493696786403165\n",
      "0.07958843335113769 0.08497403804984363\n",
      "0.07958701885997564 0.08506835736554652\n",
      "0.07951351116027655 0.08459898701963817\n",
      "0.07961811905122033 0.08504576713499527\n",
      "0.07953479059779539 0.08508912624022756\n",
      "0.07950366952293404 0.08512411201128066\n",
      "0.07950325681283664 0.08487656942250166\n",
      "0.07952513769671875 0.08495445202191781\n",
      "0.07943141814529937 0.08489322520560402\n",
      "0.07950250365629805 0.08502518034614721\n",
      "0.07947120436913913 0.0848089474974352\n",
      "0.07944520715723717 0.08515104443933609\n",
      "0.07956474878938405 0.08497126863340912\n",
      "0.07949084714327394 0.08536147337130794\n",
      "0.07944024482874909 0.08493537514743166\n",
      "0.07942348553533109 0.08485683570584072\n",
      "0.07947435372012 0.0851074877708505\n",
      "0.07940969936810569 0.08494888522199892\n",
      "0.07949291620437995 0.08496583519882314\n",
      "0.07940248780027719 0.08494061711096737\n",
      "0.07947646235503204 0.08484011082341561\n",
      "0.0794707702270369 0.08493656813653576\n",
      "0.07941897694135665 0.08521605741093596\n"
     ]
    },
    {
     "data": {
      "application/vnd.jupyter.widget-view+json": {
       "model_id": "840f4c02f36848069aaac4569b2c02a4",
       "version_major": 2,
       "version_minor": 0
      },
      "text/plain": [
       "  0%|          | 0/4000 [00:00<?, ?it/s]"
      ]
     },
     "metadata": {},
     "output_type": "display_data"
    },
    {
     "name": "stdout",
     "output_type": "stream",
     "text": [
      "0.3347027984035563 0.3371467520643562\n",
      "0.21360508792174085 0.2250212070278344\n",
      "0.15336105869397176 0.16754702841706806\n",
      "0.12209171466653083 0.1331139695933677\n",
      "0.10330038679239112 0.11174723958564878\n",
      "0.09173937416028251 0.09936885407518538\n",
      "0.08616428084693442 0.09264355560345369\n",
      "0.0835395360190034 0.08971744441169058\n",
      "0.08201439485385302 0.08845196345668095\n",
      "0.08133423700616413 0.08814550943576757\n",
      "0.08088021157686213 0.08736958282125372\n",
      "0.08048679603469513 0.08674715168487811\n",
      "0.08025718648157443 0.08646689304777758\n",
      "0.07998988509678938 0.08577346363625551\n",
      "0.07983395757006821 0.08614233481908656\n",
      "0.0798361875393115 0.08599475874213289\n",
      "0.07975021854852335 0.08621692450609401\n",
      "0.07963571936450937 0.08634161112724578\n",
      "0.07958843335113769 0.08614831467006222\n",
      "0.07958701885997564 0.08607942891341858\n",
      "0.07951351116027655 0.08609959587722844\n",
      "0.07961811905122033 0.08651452089281242\n",
      "0.07953479059779539 0.08644584602716336\n",
      "0.07950366952293404 0.08676240279707732\n",
      "0.07950325681283664 0.08644084145858791\n",
      "0.07952513769671875 0.08635902670248616\n",
      "0.07943141814529937 0.08647745221912759\n",
      "0.07950250365629805 0.08613731598772698\n",
      "0.07947120436913913 0.08652542319111944\n",
      "0.07944520715723717 0.08639783909383543\n",
      "0.07956474878938405 0.08655591461968602\n",
      "0.07949084714327394 0.08656690250572399\n",
      "0.07944024482874909 0.08660216640759805\n",
      "0.07942348553533109 0.08641585055184496\n",
      "0.07947435372012 0.08652903000276146\n",
      "0.07940969936810569 0.08631359548118445\n",
      "0.07949291620437995 0.08629408412689327\n",
      "0.07940248780027719 0.08614443742719696\n",
      "0.07947646235503204 0.08635519401040219\n",
      "0.0794707702270369 0.08657898808059748\n",
      "0.07941897694135665 0.08659602120113909\n"
     ]
    },
    {
     "data": {
      "application/vnd.jupyter.widget-view+json": {
       "model_id": "e43c92aacbc24a78be35bccb0e66e9c0",
       "version_major": 2,
       "version_minor": 0
      },
      "text/plain": [
       "  0%|          | 0/4000 [00:00<?, ?it/s]"
      ]
     },
     "metadata": {},
     "output_type": "display_data"
    },
    {
     "name": "stdout",
     "output_type": "stream",
     "text": [
      "0.3347027984035563 0.3361533894467721\n",
      "0.21360508792174085 0.28498855859994776\n",
      "0.15336105869397176 0.2150240324534704\n",
      "0.12209171466653083 0.1707923509899748\n",
      "0.10330038679239112 0.13862729590483971\n",
      "0.09173937416028251 0.12191935714304797\n",
      "0.08616428084693442 0.11432776750343869\n",
      "0.0835395360190034 0.11171403345731167\n",
      "0.08201439485385302 0.11006071849444946\n",
      "0.08133423700616413 0.10915145720450051\n",
      "0.08088021157686213 0.10865563066367911\n",
      "0.08048679603469513 0.10861549906328448\n",
      "0.08025718648157443 0.10832754568776298\n",
      "0.07998988509678938 0.10757609494221497\n",
      "0.07983395757006821 0.10825347886857094\n",
      "0.0798361875393115 0.10846237657452738\n",
      "0.07975021854852335 0.10747918412496958\n",
      "0.07963571936450937 0.108351998685242\n",
      "0.07958843335113769 0.10863253389390695\n",
      "0.07958701885997564 0.10808920093886072\n",
      "0.07951351116027655 0.1084163439972937\n",
      "0.07961811905122033 0.10955524725748231\n",
      "0.07953479059779539 0.10878281924113671\n",
      "0.07950366952293404 0.1088501831367058\n",
      "0.07950325681283664 0.10855538765140563\n",
      "0.07952513769671875 0.10868218311158387\n",
      "0.07943141814529937 0.10865630072160735\n",
      "0.07950250365629805 0.10860590671286971\n",
      "0.07947120436913913 0.10863614726689567\n",
      "0.07944520715723717 0.10927912423491722\n",
      "0.07956474878938405 0.10907421075170276\n",
      "0.07949084714327394 0.10960570057181067\n",
      "0.07944024482874909 0.1085352828409922\n",
      "0.07942348553533109 0.10846301329638075\n",
      "0.07947435372012 0.10901998105290912\n",
      "0.07940969936810569 0.10868183227486881\n",
      "0.07949291620437995 0.10911041245419202\n",
      "0.07940248780027719 0.10878703956166239\n",
      "0.07947646235503204 0.10854924771142044\n",
      "0.0794707702270369 0.10843183256939105\n",
      "0.07941897694135665 0.10904558206865443\n"
     ]
    },
    {
     "data": {
      "application/vnd.jupyter.widget-view+json": {
       "model_id": "21de121cc0af4ad9ac4990770ebeafc0",
       "version_major": 2,
       "version_minor": 0
      },
      "text/plain": [
       "  0%|          | 0/4000 [00:00<?, ?it/s]"
      ]
     },
     "metadata": {},
     "output_type": "display_data"
    },
    {
     "name": "stdout",
     "output_type": "stream",
     "text": [
      "0.2626223819666976 0.2546810290090314\n",
      "0.13482376913398106 0.1439369055584491\n",
      "0.07886420033762358 0.08871384050182148\n",
      "0.04015455550074416 0.04377942773279719\n",
      "0.028271854347985126 0.030324211930978694\n",
      "0.02390556799618501 0.0258317459744656\n",
      "0.02235058080601518 0.024326893035460945\n",
      "0.021922662417562962 0.02381313769222394\n",
      "0.02175117650880061 0.023761692885527076\n",
      "0.021730896114905137 0.0238184963310959\n",
      "0.02172811774652002 0.023828470131317687\n",
      "0.02171018567036416 0.023809524543795375\n",
      "0.021702615200697016 0.023797586768837718\n",
      "0.021718642747414533 0.023620943093352508\n",
      "0.021740470084589035 0.023572043446588503\n",
      "0.021731938618650148 0.02359888622726551\n",
      "0.02170062202058235 0.023719349387604463\n",
      "0.021714649211590845 0.02373663725648117\n",
      "0.02172371189169982 0.023774139358386594\n",
      "0.0217044470319925 0.023659878227645127\n",
      "0.021714906312052917 0.02368020526774551\n",
      "0.021713851017497725 0.0237483604827705\n",
      "0.021722175321155453 0.023701951620169616\n",
      "0.02172521788126466 0.023720772532795132\n",
      "0.021706475597891572 0.02375580004354074\n",
      "0.02169388601853223 0.02370944118194892\n",
      "0.021691121118377503 0.023601515209904014\n",
      "0.021691536884593104 0.023662567216288587\n",
      "0.021720832979421074 0.023617193121648276\n",
      "0.021709004596629576 0.023621977508892514\n",
      "0.02171306393808619 0.023797461862717716\n",
      "0.021718115624287777 0.023804960484651923\n",
      "0.021724020431043625 0.023667807691357012\n",
      "0.02171591275605957 0.02377928932751045\n",
      "0.021697004730481133 0.02370126161228797\n",
      "0.02172048527764908 0.023681333635166776\n",
      "0.021725748402988045 0.02371918430949816\n",
      "0.021720315107266408 0.02358291047402769\n",
      "0.021725388526596865 0.023615759986718686\n",
      "0.021682200580607755 0.023687494322459732\n",
      "0.021697096848332945 0.023675477703166636\n"
     ]
    },
    {
     "data": {
      "application/vnd.jupyter.widget-view+json": {
       "model_id": "e9904173c4ab4eb49ab3a4d184e3459f",
       "version_major": 2,
       "version_minor": 0
      },
      "text/plain": [
       "  0%|          | 0/4000 [00:00<?, ?it/s]"
      ]
     },
     "metadata": {},
     "output_type": "display_data"
    },
    {
     "name": "stdout",
     "output_type": "stream",
     "text": [
      "0.2626223819666976 0.25979643033972105\n",
      "0.13482376913398106 0.1420266702086887\n",
      "0.07886420033762358 0.0855461553421983\n",
      "0.04015455550074416 0.04301631282489531\n",
      "0.028271854347985126 0.030351350222252216\n",
      "0.02390556799618501 0.025663316869027893\n",
      "0.02235058080601518 0.023911116436201085\n",
      "0.021922662417562962 0.023456465342191552\n",
      "0.02175117650880061 0.023376135690708896\n",
      "0.021730896114905137 0.023358713183829122\n",
      "0.02172811774652002 0.02344415652398714\n",
      "0.02171018567036416 0.02341255430173885\n",
      "0.021702615200697016 0.023351618723514447\n",
      "0.021718642747414533 0.023294849324291517\n",
      "0.021740470084589035 0.02328840811872039\n",
      "0.021731938618650148 0.023309733910008696\n",
      "0.02170062202058235 0.023404804414035852\n",
      "0.021714649211590845 0.023370952570399343\n",
      "0.02172371189169982 0.023411104989081593\n",
      "0.0217044470319925 0.02327229627696547\n",
      "0.021714906312052917 0.02333130364029372\n",
      "0.021713851017497725 0.02333232830085074\n",
      "0.021722175321155453 0.023328488856659772\n",
      "0.02172521788126466 0.023355628431120705\n",
      "0.021706475597891572 0.0233823536848762\n",
      "0.02169388601853223 0.023316987265233048\n",
      "0.021691121118377503 0.023279442601187725\n",
      "0.021691536884593104 0.023386694071738292\n",
      "0.021720832979421074 0.023327194675793642\n",
      "0.021709004596629576 0.02329032186640497\n",
      "0.02171306393808619 0.023365216469293123\n",
      "0.021718115624287777 0.023427667726961282\n",
      "0.021724020431043625 0.023300937904170715\n",
      "0.02171591275605957 0.023414792314079398\n",
      "0.021697004730481133 0.023395986009828434\n",
      "0.02172048527764908 0.02323900006003703\n",
      "0.021725748402988045 0.023339138524844052\n",
      "0.021720315107266408 0.023142337478306744\n",
      "0.021725388526596865 0.023254836695125243\n",
      "0.021682200580607755 0.02328801285699659\n",
      "0.021697096848332945 0.023325932818820456\n"
     ]
    },
    {
     "data": {
      "application/vnd.jupyter.widget-view+json": {
       "model_id": "498bc81728814f9c8f68e6323009d7f1",
       "version_major": 2,
       "version_minor": 0
      },
      "text/plain": [
       "  0%|          | 0/4000 [00:00<?, ?it/s]"
      ]
     },
     "metadata": {},
     "output_type": "display_data"
    },
    {
     "name": "stdout",
     "output_type": "stream",
     "text": [
      "0.2626223819666976 0.26107801114591983\n",
      "0.13482376913398106 0.19411181916692727\n",
      "0.07886420033762358 0.12700775693171423\n",
      "0.04015455550074416 0.0625450834543833\n",
      "0.028271854347985126 0.04171823471135936\n",
      "0.02390556799618501 0.03486095785699347\n",
      "0.02235058080601518 0.033065131046074274\n",
      "0.021922662417562962 0.03248901436277741\n",
      "0.02175117650880061 0.0325665805109783\n",
      "0.021730896114905137 0.03253368635307648\n",
      "0.02172811774652002 0.03256913204043389\n",
      "0.02171018567036416 0.03253774976349754\n",
      "0.021702615200697016 0.03242954956822146\n",
      "0.021718642747414533 0.032444083850870116\n",
      "0.021740470084589035 0.03235242939707082\n",
      "0.021731938618650148 0.03248322990830614\n",
      "0.02170062202058235 0.032584167102726054\n",
      "0.021714649211590845 0.03229296682611866\n",
      "0.02172371189169982 0.03244659002886232\n",
      "0.0217044470319925 0.03239148428704782\n",
      "0.021714906312052917 0.03251913305836052\n",
      "0.021713851017497725 0.032395430136595196\n",
      "0.021722175321155453 0.03232256165969922\n",
      "0.02172521788126466 0.032516667882311334\n",
      "0.021706475597891572 0.032502079377205326\n",
      "0.02169388601853223 0.03251805391031203\n",
      "0.021691121118377503 0.032331754831297604\n",
      "0.021691536884593104 0.03246395520461499\n",
      "0.021720832979421074 0.032601368540082616\n",
      "0.021709004596629576 0.032461259006390984\n",
      "0.02171306393808619 0.03251952997256717\n",
      "0.021718115624287777 0.032645299483672036\n",
      "0.021724020431043625 0.03239347691488706\n",
      "0.02171591275605957 0.03246589831552879\n",
      "0.021697004730481133 0.03244121742627425\n",
      "0.02172048527764908 0.03250990979749565\n",
      "0.021725748402988045 0.03263754080793399\n",
      "0.021720315107266408 0.03236799604449137\n",
      "0.021725388526596865 0.03254868429335268\n",
      "0.021682200580607755 0.032472408958506276\n",
      "0.021697096848332945 0.032364437483994174\n"
     ]
    },
    {
     "data": {
      "application/vnd.jupyter.widget-view+json": {
       "model_id": "2cc91ac4d3ca410a89d418230438bfb5",
       "version_major": 2,
       "version_minor": 0
      },
      "text/plain": [
       "  0%|          | 0/4000 [00:00<?, ?it/s]"
      ]
     },
     "metadata": {},
     "output_type": "display_data"
    },
    {
     "name": "stdout",
     "output_type": "stream",
     "text": [
      "0.2131853449056696 0.2084039754688972\n",
      "0.09931138638563457 0.10679842339284502\n"
     ]
    }
   ],
   "source": [
    "n = 3\n",
    "d = 2**n\n",
    "rank = 4\n",
    "\n",
    "np.random.seed(42)\n",
    "random.seed(42)\n",
    "tf.random.set_seed(42)\n",
    "\n",
    "kraus_target = KrausMap(d, rank = rank)\n",
    "\n",
    "targets_train1 = generate_map_data(kraus_target, inputs_train1, noise=0.01)\n",
    "targets_test1 = generate_map_data(kraus_target, inputs_test1, noise=0.01)\n",
    "\n",
    "targets_train2 = generate_map_data(kraus_target, inputs_train2, noise=0.01)\n",
    "targets_test2 = generate_map_data(kraus_target, inputs_test2, noise=0.01)\n",
    "\n",
    "targets_train3 = generate_map_data(kraus_target, inputs_train3, noise=0.01)\n",
    "targets_test3 = generate_map_data(kraus_target, inputs_test3, noise=0.01)\n",
    "\n",
    "model_list1 = []\n",
    "model_list2 = []\n",
    "model_list3 = []\n",
    "for i in range(1,9):\n",
    "    np.random.seed(43)\n",
    "    random.seed(43)\n",
    "    tf.random.set_seed(43)\n",
    "\n",
    "    model1 = ModelQuantumMap(channel = KrausMap(d=d, \n",
    "                                               rank=i,                                                  ),\n",
    "                                   loss_function = KLDiv(),\n",
    "                                   optimizer = tf.optimizers.Adam(learning_rate=0.01),\n",
    "                                   logger = Logger(loss_function = KLDiv(),\n",
    "                                                   loss_function_val = KLDiv()),\n",
    "                                   )\n",
    "\n",
    "    model1.train(inputs = inputs_train1,\n",
    "                targets = targets_train1,\n",
    "                inputs_val = inputs_test1,\n",
    "                targets_val = targets_test1,\n",
    "                num_iter = 4000,\n",
    "                N = 500,\n",
    "                )\n",
    "    \n",
    "    model_list1.append(model1)\n",
    "    \n",
    "    np.random.seed(43)\n",
    "    random.seed(43)\n",
    "    tf.random.set_seed(43)\n",
    "    \n",
    "    model2 = ModelQuantumMap(channel = KrausMap(d=d, \n",
    "                                               rank=i,                                                  ),\n",
    "                                   loss_function = KLDiv(),\n",
    "                                   optimizer = tf.optimizers.Adam(learning_rate=0.01),\n",
    "                                   logger = Logger(loss_function = KLDiv(),\n",
    "                                                   loss_function_val = KLDiv()),\n",
    "                                   )\n",
    "\n",
    "    model2.train(inputs = inputs_train1,\n",
    "                targets = targets_train1,\n",
    "                inputs_val = inputs_test2,\n",
    "                targets_val = targets_test2,\n",
    "                num_iter = 4000,\n",
    "                N = 500,\n",
    "                )\n",
    "    \n",
    "    model_list2.append(model2)\n",
    "    \n",
    "    np.random.seed(43)\n",
    "    random.seed(43)\n",
    "    tf.random.set_seed(43)\n",
    "    \n",
    "    model3 = ModelQuantumMap(channel = KrausMap(d=d, \n",
    "                                               rank=i,                                                  ),\n",
    "                                   loss_function = KLDiv(),\n",
    "                                   optimizer = tf.optimizers.Adam(learning_rate=0.01),\n",
    "                                   logger = Logger(loss_function = KLDiv(),\n",
    "                                                   loss_function_val = KLDiv()),\n",
    "                                   )\n",
    "\n",
    "    model3.train(inputs = inputs_train1,\n",
    "                targets = targets_train1,\n",
    "                inputs_val = inputs_test3,\n",
    "                targets_val = targets_test3,\n",
    "                num_iter = 4000,\n",
    "                N = 500,\n",
    "                )\n",
    "    \n",
    "    model_list3.append(model3)\n",
    "    \n",
    "    "
   ]
  },
  {
   "cell_type": "code",
   "execution_count": null,
   "metadata": {},
   "outputs": [],
   "source": [
    "loss_train1 = [model.logger.loss_train_list[-1] for model in model_list1]\n",
    "loss_test1 = [model.logger.loss_val_list[-1] for model in model_list1]\n",
    "\n",
    "loss_train2 = [model.logger.loss_train_list[-1] for model in model_list2]\n",
    "loss_test2 = [model.logger.loss_val_list[-1] for model in model_list2]\n",
    "\n",
    "loss_train3 = [model.logger.loss_train_list[-1] for model in model_list3]\n",
    "loss_test3 = [model.logger.loss_val_list[-1] for model in model_list3]"
   ]
  },
  {
   "cell_type": "code",
   "execution_count": null,
   "metadata": {},
   "outputs": [],
   "source": [
    "fig = plt.figure(figsize=(6,4), dpi = 300, facecolor='w', edgecolor='k')\n",
    "x = list(range(1,9))\n",
    "plt.plot(x, np.array(loss_train1))\n",
    "plt.plot(x, np.array(loss_train2))\n",
    "plt.plot(x, np.array(loss_train3))\n",
    "plt.plot(x, np.array(loss_test1),\"--\")\n",
    "plt.plot(x, np.array(loss_test2),\"--\")\n",
    "plt.plot(x, np.array(loss_test3),\"--\")\n",
    "plt.legend([\"Train, Pauli String\", \"Train, Haar String\", \"Train, Full Haar\", \"Test, Pauli String\", \"Test, Haar String\", \"Test, Full Haar\"])\n",
    "\n",
    "plt.yscale(\"log\")\n",
    "\n",
    "plt.show()"
   ]
  },
  {
   "cell_type": "code",
   "execution_count": null,
   "metadata": {},
   "outputs": [],
   "source": [
    "fig = plt.figure(figsize=(6,4), dpi = 300, facecolor='w', edgecolor='k')\n",
    "x = list(range(1,9))\n",
    "plt.plot(x, np.array(loss_train1))\n",
    "plt.plot(x, np.array(loss_train2))\n",
    "plt.plot(x, np.array(loss_train3))\n",
    "plt.plot(x, np.array(loss_test1),\"--\")\n",
    "plt.plot(x, np.array(loss_test2),\"--\")\n",
    "plt.plot(x, np.array(loss_test3),\"--\")\n",
    "plt.legend([\"Train, Pauli String\", \"Train, Haar String\", \"Train, Full Haar\", \"Test, Pauli String\", \"Test, Haar String\", \"Test, Full Haar\"])\n",
    "\n",
    "plt.yscale(\"log\")\n",
    "\n",
    "plt.show()"
   ]
  },
  {
   "cell_type": "markdown",
   "metadata": {},
   "source": [
    "## SPAM recovery"
   ]
  },
  {
   "cell_type": "code",
   "execution_count": null,
   "metadata": {},
   "outputs": [],
   "source": []
  }
 ],
 "metadata": {
  "kernelspec": {
   "display_name": "env_qiskit",
   "language": "python",
   "name": "env_qiskit"
  },
  "language_info": {
   "codemirror_mode": {
    "name": "ipython",
    "version": 3
   },
   "file_extension": ".py",
   "mimetype": "text/x-python",
   "name": "python",
   "nbconvert_exporter": "python",
   "pygments_lexer": "ipython3",
   "version": "3.10.4"
  }
 },
 "nbformat": 4,
 "nbformat_minor": 4
}
