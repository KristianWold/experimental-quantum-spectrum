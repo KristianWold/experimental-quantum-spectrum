{
 "cells": [
  {
   "cell_type": "markdown",
   "metadata": {},
   "source": [
    "# Optimized Sphere Strings"
   ]
  },
  {
   "cell_type": "code",
   "execution_count": 43,
   "metadata": {},
   "outputs": [],
   "source": [
    "import sys\n",
    "sys.path.insert(0, '../../src_tf/')\n",
    "\n",
    "import numpy as np\n",
    "import qiskit as qk\n",
    "import matplotlib.pyplot as plt\n",
    "import multiprocessing as mp\n",
    "import random\n",
    "import pickle\n",
    "\n",
    "from qiskit.quantum_info import DensityMatrix, random_unitary\n",
    "from qiskit.quantum_info import Operator\n",
    "from scipy.linalg import sqrtm\n",
    "from tqdm.notebook import tqdm\n",
    "\n",
    "from loss_functions import *\n",
    "from optimization import *\n",
    "from quantum_channel import *\n",
    "from kraus_channels import *\n",
    "from quantum_tools import *\n",
    "from experimental import *\n",
    "from spam import *\n",
    "from copy import deepcopy\n",
    "\n",
    "#np.set_printoptions(threshold=sys.maxsize)\n",
    "np.set_printoptions(precision=4)\n",
    "\n",
    "import os\n",
    "os.environ[\"CUDA_VISIBLE_DEVICES\"] = \"-1\""
   ]
  },
  {
   "cell_type": "markdown",
   "metadata": {},
   "source": [
    "## Test"
   ]
  },
  {
   "cell_type": "markdown",
   "metadata": {},
   "source": [
    "## Recover Map"
   ]
  },
  {
   "cell_type": "code",
   "execution_count": 44,
   "metadata": {},
   "outputs": [],
   "source": [
    "def generate_map_data(channel_target, inputs_map, noise = 0):\n",
    "    d = channel_target.d\n",
    "    U_prep, U_basis = inputs_map\n",
    "\n",
    "    N_map = U_prep.shape[0]\n",
    "    init = np.zeros((d,d))\n",
    "    init[0,0] = 1\n",
    "    init = tf.cast(init, dtype=precision)\n",
    "    \n",
    "    state = tf.repeat(tf.expand_dims(init, axis=0), N_map, axis=0)\n",
    "    state = apply_unitary(state, U_prep)\n",
    "    state = channel_target.apply_channel(state)\n",
    "    targets_map = measurement(state, U_basis)\n",
    "    \n",
    "    #add noise\n",
    "    targets_map = add_noise_to_probs(targets_map, noise=noise)\n",
    "    \n",
    "    return targets_map\n",
    "\n",
    "\n",
    "def model_pipeline(channel_target, noise):\n",
    "    # Make Benchmark\n",
    "    #################################################################################\n",
    "    n = 3\n",
    "    d = 2**n\n",
    "    \n",
    "    spam_target = generate_spam_benchmark(n=n, c1=0.8, c2=0.8)\n",
    "    inputs_spam, targets_spam = generate_spam_data(spam_target, N_spam=None, noise=noise)\n",
    "\n",
    "    inputs_map, targets_map = generate_map_data(channel_target, spam_target, N_map=2000, noise=noise)\n",
    "    #################################################################################\n",
    "\n",
    "    # Fit Models\n",
    "    #################################################################################\n",
    "    spam_model = SPAM(init = InitialState(d, c = None),\n",
    "                      povm = CorruptionMatrix(d, c = None),\n",
    "                      optimizer = tf.optimizers.Adam(learning_rate=0.01))\n",
    "    \n",
    "    spam_model.pretrain(300)\n",
    "\n",
    "    spam_model.train(inputs = inputs_spam,\n",
    "                     targets = targets_spam,\n",
    "                     num_iter = 2000,\n",
    "                     verbose = False,\n",
    "                    )\n",
    "\n",
    "    model = ModelQuantumMap(channel = KrausMap(d = d, \n",
    "                                               rank = d**2,\n",
    "                                               spam = spam_model,\n",
    "                                              ),\n",
    "                            loss_function = ProbabilityMSE(),\n",
    "                            optimizer = tf.optimizers.Adam(learning_rate=0.01),\n",
    "                            logger = Logger(loss_function = ProbabilityMSE(),\n",
    "                                            loss_function_val = channel_fidelity_loss),\n",
    "                           )\n",
    "\n",
    "    model.train(inputs = inputs_map,\n",
    "                targets = targets_map,\n",
    "                inputs_val = None,\n",
    "                targets_val = [channel_target],\n",
    "                num_iter = 2000,\n",
    "                N = 500,\n",
    "                )\n",
    "    #################################################################################\n",
    "\n",
    "    return model"
   ]
  },
  {
   "cell_type": "code",
   "execution_count": 48,
   "metadata": {
    "scrolled": true
   },
   "outputs": [
    {
     "name": "stdout",
     "output_type": "stream",
     "text": [
      "tf.Tensor(0.595798724803359, shape=(), dtype=float64)\n",
      "tf.Tensor(0.574367027283313, shape=(), dtype=float64)\n",
      "tf.Tensor(0.5549757722381534, shape=(), dtype=float64)\n",
      "tf.Tensor(0.5372111495403262, shape=(), dtype=float64)\n",
      "tf.Tensor(0.5210844944125386, shape=(), dtype=float64)\n",
      "tf.Tensor(0.5060794438855204, shape=(), dtype=float64)\n",
      "tf.Tensor(0.4927816378117844, shape=(), dtype=float64)\n",
      "tf.Tensor(0.48153771659413824, shape=(), dtype=float64)\n",
      "tf.Tensor(0.4715068207187236, shape=(), dtype=float64)\n",
      "tf.Tensor(0.4622980064324672, shape=(), dtype=float64)\n",
      "tf.Tensor(0.4541967236813664, shape=(), dtype=float64)\n",
      "tf.Tensor(0.4471067587072629, shape=(), dtype=float64)\n",
      "tf.Tensor(0.44045458009918914, shape=(), dtype=float64)\n",
      "tf.Tensor(0.43456489726375025, shape=(), dtype=float64)\n",
      "tf.Tensor(0.4289365954711461, shape=(), dtype=float64)\n",
      "tf.Tensor(0.4235288771341653, shape=(), dtype=float64)\n",
      "tf.Tensor(0.41820265742703033, shape=(), dtype=float64)\n",
      "tf.Tensor(0.41320350107910186, shape=(), dtype=float64)\n",
      "tf.Tensor(0.4084808761251103, shape=(), dtype=float64)\n",
      "tf.Tensor(0.40425123994158857, shape=(), dtype=float64)\n",
      "tf.Tensor(0.4001911436639464, shape=(), dtype=float64)\n",
      "tf.Tensor(0.39610026713961, shape=(), dtype=float64)\n",
      "tf.Tensor(0.3924743331947409, shape=(), dtype=float64)\n",
      "tf.Tensor(0.38878716160010246, shape=(), dtype=float64)\n",
      "tf.Tensor(0.3852989541201138, shape=(), dtype=float64)\n",
      "tf.Tensor(0.3819717699357641, shape=(), dtype=float64)\n",
      "tf.Tensor(0.3787927326462013, shape=(), dtype=float64)\n",
      "tf.Tensor(0.3757770762961992, shape=(), dtype=float64)\n",
      "tf.Tensor(0.37294664667357197, shape=(), dtype=float64)\n",
      "tf.Tensor(0.3702162919320027, shape=(), dtype=float64)\n",
      "tf.Tensor(0.36763919805322554, shape=(), dtype=float64)\n",
      "tf.Tensor(0.36502797030778195, shape=(), dtype=float64)\n",
      "tf.Tensor(0.3624113730961376, shape=(), dtype=float64)\n",
      "tf.Tensor(0.36006606601303653, shape=(), dtype=float64)\n",
      "tf.Tensor(0.35787371067159846, shape=(), dtype=float64)\n",
      "tf.Tensor(0.3557151061235445, shape=(), dtype=float64)\n",
      "tf.Tensor(0.35365268336558164, shape=(), dtype=float64)\n",
      "tf.Tensor(0.3516786745521382, shape=(), dtype=float64)\n",
      "tf.Tensor(0.3498390466940683, shape=(), dtype=float64)\n",
      "tf.Tensor(0.34792055765266855, shape=(), dtype=float64)\n",
      "tf.Tensor(0.34607548627097334, shape=(), dtype=float64)\n",
      "tf.Tensor(0.3443100575200178, shape=(), dtype=float64)\n",
      "tf.Tensor(0.3424763407051668, shape=(), dtype=float64)\n",
      "tf.Tensor(0.3406888427506764, shape=(), dtype=float64)\n",
      "tf.Tensor(0.3389620313326818, shape=(), dtype=float64)\n",
      "tf.Tensor(0.33743322320015706, shape=(), dtype=float64)\n",
      "tf.Tensor(0.33591806583221184, shape=(), dtype=float64)\n",
      "tf.Tensor(0.33460000859099903, shape=(), dtype=float64)\n",
      "tf.Tensor(0.3333500996194678, shape=(), dtype=float64)\n",
      "tf.Tensor(0.3321332996531652, shape=(), dtype=float64)\n",
      "tf.Tensor(0.33075242657298315, shape=(), dtype=float64)\n",
      "tf.Tensor(0.3295302341153333, shape=(), dtype=float64)\n",
      "tf.Tensor(0.3284268476458358, shape=(), dtype=float64)\n",
      "tf.Tensor(0.32724845743596565, shape=(), dtype=float64)\n",
      "tf.Tensor(0.32619019552057876, shape=(), dtype=float64)\n",
      "tf.Tensor(0.3251608544782724, shape=(), dtype=float64)\n",
      "tf.Tensor(0.3241847987097773, shape=(), dtype=float64)\n",
      "tf.Tensor(0.3231361033165015, shape=(), dtype=float64)\n",
      "tf.Tensor(0.3221778319727666, shape=(), dtype=float64)\n",
      "tf.Tensor(0.3213686630658525, shape=(), dtype=float64)\n",
      "tf.Tensor(0.3205367830759659, shape=(), dtype=float64)\n",
      "tf.Tensor(0.31966582802488197, shape=(), dtype=float64)\n",
      "tf.Tensor(0.318803145458323, shape=(), dtype=float64)\n",
      "tf.Tensor(0.3179827442047981, shape=(), dtype=float64)\n",
      "tf.Tensor(0.31712961170436893, shape=(), dtype=float64)\n",
      "tf.Tensor(0.31632725476831786, shape=(), dtype=float64)\n",
      "tf.Tensor(0.31559453680888633, shape=(), dtype=float64)\n",
      "tf.Tensor(0.3148174727821497, shape=(), dtype=float64)\n",
      "tf.Tensor(0.31408964558028835, shape=(), dtype=float64)\n",
      "tf.Tensor(0.3133790621985192, shape=(), dtype=float64)\n",
      "tf.Tensor(0.31263095327881163, shape=(), dtype=float64)\n",
      "tf.Tensor(0.3118873250101403, shape=(), dtype=float64)\n",
      "tf.Tensor(0.3112116608940305, shape=(), dtype=float64)\n",
      "tf.Tensor(0.31063145476188525, shape=(), dtype=float64)\n",
      "tf.Tensor(0.30995304720725914, shape=(), dtype=float64)\n",
      "tf.Tensor(0.3093251927849749, shape=(), dtype=float64)\n",
      "tf.Tensor(0.3086977466249931, shape=(), dtype=float64)\n",
      "tf.Tensor(0.3080692226779572, shape=(), dtype=float64)\n",
      "tf.Tensor(0.30741905068106207, shape=(), dtype=float64)\n",
      "tf.Tensor(0.30685491743230453, shape=(), dtype=float64)\n",
      "tf.Tensor(0.30638598748526685, shape=(), dtype=float64)\n",
      "tf.Tensor(0.3058353135809231, shape=(), dtype=float64)\n",
      "tf.Tensor(0.30534721772011847, shape=(), dtype=float64)\n",
      "tf.Tensor(0.3047668354972172, shape=(), dtype=float64)\n",
      "tf.Tensor(0.3040971756729663, shape=(), dtype=float64)\n",
      "tf.Tensor(0.30353050866120684, shape=(), dtype=float64)\n",
      "tf.Tensor(0.30298600219645283, shape=(), dtype=float64)\n",
      "tf.Tensor(0.3024647415614055, shape=(), dtype=float64)\n",
      "tf.Tensor(0.30191821027538956, shape=(), dtype=float64)\n",
      "tf.Tensor(0.30148311263806066, shape=(), dtype=float64)\n",
      "tf.Tensor(0.3009747924692267, shape=(), dtype=float64)\n",
      "tf.Tensor(0.3004374636278994, shape=(), dtype=float64)\n",
      "tf.Tensor(0.2999580365911752, shape=(), dtype=float64)\n",
      "tf.Tensor(0.2994651243292312, shape=(), dtype=float64)\n",
      "tf.Tensor(0.29903905638508993, shape=(), dtype=float64)\n",
      "tf.Tensor(0.29867507629613455, shape=(), dtype=float64)\n",
      "tf.Tensor(0.2982148957867593, shape=(), dtype=float64)\n",
      "tf.Tensor(0.29773567809918666, shape=(), dtype=float64)\n",
      "tf.Tensor(0.2972132447522089, shape=(), dtype=float64)\n",
      "tf.Tensor(0.2968307976652841, shape=(), dtype=float64)\n"
     ]
    }
   ],
   "source": [
    "n = 3\n",
    "d = 2**n\n",
    "\n",
    "np.random.seed(42)\n",
    "random.seed(42)\n",
    "tf.random.set_seed(42)\n",
    "\n",
    "N = 500\n",
    "\n",
    "inputs_map1, _ = generate_pauli_circuits(n=n, N=N//2)\n",
    "\n",
    "np.random.seed(42)\n",
    "random.seed(42)\n",
    "tf.random.set_seed(42)\n",
    "\n",
    "strings = SphereStrings(N=N, n=n)\n",
    "\n",
    "_, U2 = strings.generate_circuits()\n",
    "inputs_map2 = [U2[:N//2], U2[N//2:]]\n",
    "\n",
    "\n",
    "np.random.seed(42)\n",
    "random.seed(42)\n",
    "tf.random.set_seed(42)\n",
    "\n",
    "strings = SphereStrings(N=N, n=n)\n",
    "strings.optimize(100)\n",
    "\n",
    "_, U3 = strings.generate_circuits()\n",
    "inputs_map3 = [U3[:N//2], U3[N//2:]]"
   ]
  },
  {
   "cell_type": "code",
   "execution_count": 55,
   "metadata": {},
   "outputs": [
    {
     "ename": "AttributeError",
     "evalue": "'SphereStrings' object has no attribute 'angles'",
     "output_type": "error",
     "traceback": [
      "\u001b[1;31m---------------------------------------------------------------------------\u001b[0m",
      "\u001b[1;31mAttributeError\u001b[0m                            Traceback (most recent call last)",
      "Input \u001b[1;32mIn [55]\u001b[0m, in \u001b[0;36m<cell line: 2>\u001b[1;34m()\u001b[0m\n\u001b[0;32m      1\u001b[0m strings \u001b[38;5;241m=\u001b[39m SphereStrings(N\u001b[38;5;241m=\u001b[39mN, n\u001b[38;5;241m=\u001b[39mn)\n\u001b[1;32m----> 2\u001b[0m tf\u001b[38;5;241m.\u001b[39mmath\u001b[38;5;241m.\u001b[39mreduce_mean(\u001b[43mstrings\u001b[49m\u001b[38;5;241;43m.\u001b[39;49m\u001b[43mangles\u001b[49m[:,:,\u001b[38;5;241m0\u001b[39m,\u001b[38;5;241m0\u001b[39m])\n",
      "\u001b[1;31mAttributeError\u001b[0m: 'SphereStrings' object has no attribute 'angles'"
     ]
    }
   ],
   "source": [
    "strings = SphereStrings(N=N, n=n)\n",
    "strings.generate()\n",
    "tf.math.reduce_mean(strings.angles[:,:,0,0])"
   ]
  },
  {
   "cell_type": "code",
   "execution_count": 49,
   "metadata": {},
   "outputs": [
    {
     "data": {
      "application/vnd.jupyter.widget-view+json": {
       "model_id": "75cf1dbe2e014428a37ed5c5697dbae6",
       "version_major": 2,
       "version_minor": 0
      },
      "text/plain": [
       "  0%|          | 0/1000 [00:00<?, ?it/s]"
      ]
     },
     "metadata": {},
     "output_type": "display_data"
    },
    {
     "name": "stdout",
     "output_type": "stream",
     "text": [
      "0.11063961367453823 -0.10362968566209416\n",
      "0.023050357337618507 -0.2636985886673443\n",
      "0.010519343563182368 -0.39950834134929747\n",
      "0.006488910393916369 -0.4960379686204125\n",
      "0.004393990412297452 -0.579830368532181\n",
      "0.0031142655489150703 -0.6511202597704431\n",
      "0.0022734033198259754 -0.7120500804561212\n",
      "0.001707064011041648 -0.7642728898644734\n",
      "0.0012956289797738175 -0.8103445555899629\n",
      "0.0009652056657316748 -0.8531574760151666\n",
      "0.0006926357804584933 -0.8934517134895241\n"
     ]
    }
   ],
   "source": [
    "np.random.seed(42)\n",
    "random.seed(42)\n",
    "tf.random.set_seed(42)\n",
    "\n",
    "kraus_target = KrausMap(d, rank = d)\n",
    "targets_map1 = generate_map_data(kraus_target, inputs_map1)\n",
    "\n",
    "model = ModelQuantumMap(channel = KrausMap(d=d, \n",
    "                                           rank=d,                                                  ),\n",
    "                               loss_function = KLDiv(),\n",
    "                               optimizer = tf.optimizers.Adam(learning_rate=0.01),\n",
    "                               logger = Logger(loss_function = KLDiv(),\n",
    "                                               loss_function_val = channel_fidelity_loss),\n",
    "                               )\n",
    "\n",
    "model.train(inputs = inputs_map1,\n",
    "            targets = targets_map1,\n",
    "            inputs_val = None,\n",
    "            targets_val = [kraus_target],\n",
    "            num_iter = 1000,\n",
    "            N = 500,\n",
    "            )"
   ]
  },
  {
   "cell_type": "code",
   "execution_count": 50,
   "metadata": {},
   "outputs": [
    {
     "data": {
      "application/vnd.jupyter.widget-view+json": {
       "model_id": "3471c6d0c6364703a59587ed6b08b193",
       "version_major": 2,
       "version_minor": 0
      },
      "text/plain": [
       "  0%|          | 0/1000 [00:00<?, ?it/s]"
      ]
     },
     "metadata": {},
     "output_type": "display_data"
    },
    {
     "name": "stdout",
     "output_type": "stream",
     "text": [
      "0.11442538898024177 -0.10362968566209416\n",
      "0.02186832707953279 -0.2520483279869301\n",
      "0.01006130179687984 -0.3578385119483004\n",
      "0.006418806620250056 -0.42212025083578003\n",
      "0.0045177478169637145 -0.4723866775361628\n",
      "0.0032973908328331634 -0.5207404676952834\n",
      "0.0025417514607924472 -0.5651488400103618\n",
      "0.0020958437130818874 -0.6021410492764753\n",
      "0.0018138731556886383 -0.6330366974166689\n",
      "0.0016072632774268966 -0.6616778526185454\n",
      "0.0014369341974687718 -0.69070511191042\n"
     ]
    }
   ],
   "source": [
    "np.random.seed(42)\n",
    "random.seed(42)\n",
    "tf.random.set_seed(42)\n",
    "\n",
    "kraus_target = KrausMap(d, rank = d)\n",
    "targets_map2 = generate_map_data(kraus_target, inputs_map2)\n",
    "\n",
    "model = ModelQuantumMap(channel = KrausMap(d=d, \n",
    "                                           rank=d,                                                  ),\n",
    "                               loss_function = KLDiv(),\n",
    "                               optimizer = tf.optimizers.Adam(learning_rate=0.01),\n",
    "                               logger = Logger(loss_function = KLDiv(),\n",
    "                                               loss_function_val = channel_fidelity_loss),\n",
    "                               )\n",
    "\n",
    "model.train(inputs = inputs_map2,\n",
    "            targets = targets_map2,\n",
    "            inputs_val = None,\n",
    "            targets_val = [kraus_target],\n",
    "            num_iter = 1000,\n",
    "            N = 500,\n",
    "            )"
   ]
  },
  {
   "cell_type": "code",
   "execution_count": 51,
   "metadata": {},
   "outputs": [
    {
     "data": {
      "application/vnd.jupyter.widget-view+json": {
       "model_id": "2d7791a584184b4eb9a60203f93a0464",
       "version_major": 2,
       "version_minor": 0
      },
      "text/plain": [
       "  0%|          | 0/1000 [00:00<?, ?it/s]"
      ]
     },
     "metadata": {},
     "output_type": "display_data"
    },
    {
     "name": "stdout",
     "output_type": "stream",
     "text": [
      "0.11817586316725087 -0.10362968566209416\n",
      "0.02397514665004801 -0.25457873739925996\n",
      "0.010402927509458074 -0.3888301144096638\n",
      "0.006004404250291179 -0.4820309881333276\n",
      "0.004077009839129079 -0.5507657900217157\n",
      "0.0030454055770286976 -0.6040002595478653\n",
      "0.002434651960262727 -0.646526330730806\n",
      "0.002023185102829844 -0.6837588344936482\n",
      "0.0017032586918210627 -0.7193027066800127\n",
      "0.0014278318323399169 -0.7549835951645288\n",
      "0.001183387716730572 -0.7909584170270931\n"
     ]
    }
   ],
   "source": [
    "np.random.seed(42)\n",
    "random.seed(42)\n",
    "tf.random.set_seed(42)\n",
    "\n",
    "kraus_target = KrausMap(d, rank = d)\n",
    "targets_map3 = generate_map_data(kraus_target, inputs_map3)\n",
    "\n",
    "model = ModelQuantumMap(channel = KrausMap(d=d, \n",
    "                                           rank=d,                                                  ),\n",
    "                               loss_function = KLDiv(),\n",
    "                               optimizer = tf.optimizers.Adam(learning_rate=0.01),\n",
    "                               logger = Logger(loss_function = KLDiv(),\n",
    "                                               loss_function_val = channel_fidelity_loss),\n",
    "                               )\n",
    "\n",
    "model.train(inputs = inputs_map3,\n",
    "            targets = targets_map3,\n",
    "            inputs_val = None,\n",
    "            targets_val = [kraus_target],\n",
    "            num_iter = 1000,\n",
    "            N = 500,\n",
    "            )"
   ]
  },
  {
   "cell_type": "code",
   "execution_count": null,
   "metadata": {},
   "outputs": [],
   "source": [
    "print(tf.abs(tf.linalg.trace(U1[0]@tf.linalg.adjoint(U1[7])))**2)\n",
    "print(tf.abs(tf.linalg.trace(U2[0]@tf.linalg.adjoint(U2[7])))**2)"
   ]
  },
  {
   "cell_type": "markdown",
   "metadata": {},
   "source": [
    "## Overfitting"
   ]
  },
  {
   "cell_type": "code",
   "execution_count": 30,
   "metadata": {
    "scrolled": true
   },
   "outputs": [
    {
     "name": "stdout",
     "output_type": "stream",
     "text": [
      "tf.Tensor(0.6604508467526473, shape=(), dtype=float64)\n",
      "tf.Tensor(0.6389006870065103, shape=(), dtype=float64)\n",
      "tf.Tensor(0.6188849903352017, shape=(), dtype=float64)\n",
      "tf.Tensor(0.6016737674463928, shape=(), dtype=float64)\n",
      "tf.Tensor(0.5870699643816608, shape=(), dtype=float64)\n",
      "tf.Tensor(0.5742777278276086, shape=(), dtype=float64)\n",
      "tf.Tensor(0.5624875561782302, shape=(), dtype=float64)\n",
      "tf.Tensor(0.5518883637613757, shape=(), dtype=float64)\n",
      "tf.Tensor(0.5423764657787492, shape=(), dtype=float64)\n",
      "tf.Tensor(0.5339811222858111, shape=(), dtype=float64)\n",
      "tf.Tensor(0.5262420185329517, shape=(), dtype=float64)\n",
      "tf.Tensor(0.5190273581378357, shape=(), dtype=float64)\n",
      "tf.Tensor(0.5123638320440634, shape=(), dtype=float64)\n",
      "tf.Tensor(0.5062183795328288, shape=(), dtype=float64)\n",
      "tf.Tensor(0.5006056819871259, shape=(), dtype=float64)\n",
      "tf.Tensor(0.4952171755187886, shape=(), dtype=float64)\n",
      "tf.Tensor(0.4901386571201275, shape=(), dtype=float64)\n",
      "tf.Tensor(0.4853673702684838, shape=(), dtype=float64)\n",
      "tf.Tensor(0.48107307394143956, shape=(), dtype=float64)\n",
      "tf.Tensor(0.47723327011238337, shape=(), dtype=float64)\n",
      "tf.Tensor(0.4734324663385735, shape=(), dtype=float64)\n",
      "tf.Tensor(0.46966196724953113, shape=(), dtype=float64)\n",
      "tf.Tensor(0.4661269672745519, shape=(), dtype=float64)\n",
      "tf.Tensor(0.4626986409347102, shape=(), dtype=float64)\n",
      "tf.Tensor(0.45937912559647753, shape=(), dtype=float64)\n",
      "tf.Tensor(0.456137433146078, shape=(), dtype=float64)\n",
      "tf.Tensor(0.45319442775936725, shape=(), dtype=float64)\n",
      "tf.Tensor(0.45036336400324667, shape=(), dtype=float64)\n",
      "tf.Tensor(0.4476850170081809, shape=(), dtype=float64)\n",
      "tf.Tensor(0.4451441638703599, shape=(), dtype=float64)\n",
      "tf.Tensor(0.44262846126720057, shape=(), dtype=float64)\n",
      "tf.Tensor(0.44025529504702765, shape=(), dtype=float64)\n",
      "tf.Tensor(0.4379558281430062, shape=(), dtype=float64)\n",
      "tf.Tensor(0.4357868680248164, shape=(), dtype=float64)\n",
      "tf.Tensor(0.4338198208456682, shape=(), dtype=float64)\n",
      "tf.Tensor(0.4318183551221917, shape=(), dtype=float64)\n",
      "tf.Tensor(0.4299118451302681, shape=(), dtype=float64)\n",
      "tf.Tensor(0.42809351705358856, shape=(), dtype=float64)\n",
      "tf.Tensor(0.42622559645833946, shape=(), dtype=float64)\n",
      "tf.Tensor(0.42443414717696276, shape=(), dtype=float64)\n",
      "tf.Tensor(0.4226734857832747, shape=(), dtype=float64)\n",
      "tf.Tensor(0.4209390356925357, shape=(), dtype=float64)\n",
      "tf.Tensor(0.4192691218191973, shape=(), dtype=float64)\n",
      "tf.Tensor(0.4176537740761706, shape=(), dtype=float64)\n",
      "tf.Tensor(0.41626500878604433, shape=(), dtype=float64)\n",
      "tf.Tensor(0.4149353891148545, shape=(), dtype=float64)\n",
      "tf.Tensor(0.4134890796591002, shape=(), dtype=float64)\n",
      "tf.Tensor(0.41202621125410965, shape=(), dtype=float64)\n",
      "tf.Tensor(0.4106272387574676, shape=(), dtype=float64)\n",
      "tf.Tensor(0.40933409058575504, shape=(), dtype=float64)\n",
      "tf.Tensor(0.4080766129648973, shape=(), dtype=float64)\n",
      "tf.Tensor(0.406741504919765, shape=(), dtype=float64)\n",
      "tf.Tensor(0.4055403741971537, shape=(), dtype=float64)\n",
      "tf.Tensor(0.4043815466688967, shape=(), dtype=float64)\n",
      "tf.Tensor(0.4033160805608809, shape=(), dtype=float64)\n",
      "tf.Tensor(0.40220517595504796, shape=(), dtype=float64)\n",
      "tf.Tensor(0.40118054892850624, shape=(), dtype=float64)\n",
      "tf.Tensor(0.40014635074441557, shape=(), dtype=float64)\n",
      "tf.Tensor(0.39903420710915927, shape=(), dtype=float64)\n",
      "tf.Tensor(0.39797407510858007, shape=(), dtype=float64)\n",
      "tf.Tensor(0.39697775686905296, shape=(), dtype=float64)\n",
      "tf.Tensor(0.39601151716798777, shape=(), dtype=float64)\n",
      "tf.Tensor(0.3950801889569498, shape=(), dtype=float64)\n",
      "tf.Tensor(0.3941514916808045, shape=(), dtype=float64)\n",
      "tf.Tensor(0.3932825745674526, shape=(), dtype=float64)\n",
      "tf.Tensor(0.3924286380181564, shape=(), dtype=float64)\n",
      "tf.Tensor(0.39157890359426506, shape=(), dtype=float64)\n",
      "tf.Tensor(0.39079260154553463, shape=(), dtype=float64)\n",
      "tf.Tensor(0.38997816895216886, shape=(), dtype=float64)\n",
      "tf.Tensor(0.38915370271585736, shape=(), dtype=float64)\n",
      "tf.Tensor(0.3883647159061333, shape=(), dtype=float64)\n",
      "tf.Tensor(0.3876614664033956, shape=(), dtype=float64)\n",
      "tf.Tensor(0.38695292067028625, shape=(), dtype=float64)\n",
      "tf.Tensor(0.3862578040115715, shape=(), dtype=float64)\n",
      "tf.Tensor(0.38554988801823914, shape=(), dtype=float64)\n",
      "tf.Tensor(0.38493093597733324, shape=(), dtype=float64)\n",
      "tf.Tensor(0.38432984516081103, shape=(), dtype=float64)\n",
      "tf.Tensor(0.3836206768018349, shape=(), dtype=float64)\n",
      "tf.Tensor(0.38298278400304914, shape=(), dtype=float64)\n",
      "tf.Tensor(0.3823342270313946, shape=(), dtype=float64)\n",
      "tf.Tensor(0.38174802010369957, shape=(), dtype=float64)\n",
      "tf.Tensor(0.38130242529292774, shape=(), dtype=float64)\n",
      "tf.Tensor(0.3807763271474093, shape=(), dtype=float64)\n",
      "tf.Tensor(0.3801771159245661, shape=(), dtype=float64)\n",
      "tf.Tensor(0.37958358595884045, shape=(), dtype=float64)\n",
      "tf.Tensor(0.3790500771784528, shape=(), dtype=float64)\n",
      "tf.Tensor(0.37854655841695284, shape=(), dtype=float64)\n",
      "tf.Tensor(0.37811650957392645, shape=(), dtype=float64)\n",
      "tf.Tensor(0.3776451455903299, shape=(), dtype=float64)\n",
      "tf.Tensor(0.3771356938880343, shape=(), dtype=float64)\n",
      "tf.Tensor(0.3766745552318683, shape=(), dtype=float64)\n",
      "tf.Tensor(0.37630312956370254, shape=(), dtype=float64)\n",
      "tf.Tensor(0.3758416588436688, shape=(), dtype=float64)\n",
      "tf.Tensor(0.375388014889435, shape=(), dtype=float64)\n",
      "tf.Tensor(0.374941460992384, shape=(), dtype=float64)\n",
      "tf.Tensor(0.3745985088973736, shape=(), dtype=float64)\n",
      "tf.Tensor(0.37417359326882876, shape=(), dtype=float64)\n",
      "tf.Tensor(0.373864697237834, shape=(), dtype=float64)\n",
      "tf.Tensor(0.37346896553694137, shape=(), dtype=float64)\n",
      "tf.Tensor(0.37299825962777483, shape=(), dtype=float64)\n"
     ]
    }
   ],
   "source": [
    "n = 3\n",
    "d = 2**n\n",
    "\n",
    "np.random.seed(42)\n",
    "random.seed(42)\n",
    "tf.random.set_seed(42)\n",
    "\n",
    "N = 1000\n",
    "\n",
    "strings = SphereStrings(N=N, n=n)\n",
    "\n",
    "_, U1 = strings.generate_circuits()\n",
    "inputs_train1 = [U1[:N//4], U1[N//4:N//2]]\n",
    "inputs_test1 = [U1[N//2:3*N//4], U1[3*N//4:]]\n",
    "\n",
    "\n",
    "np.random.seed(42)\n",
    "random.seed(42)\n",
    "tf.random.set_seed(42)\n",
    "\n",
    "strings = SphereStrings(N=N, n=n)\n",
    "strings.optimize(100)\n",
    "\n",
    "_, U2 = strings.generate_circuits()\n",
    "inputs_train2 = [U2[:N//4], U2[N//4:N//2]]\n",
    "inputs_test2 = [U2[N//2:3*N//4], U2[3*N//4:]]"
   ]
  },
  {
   "cell_type": "code",
   "execution_count": 38,
   "metadata": {
    "scrolled": true
   },
   "outputs": [
    {
     "data": {
      "application/vnd.jupyter.widget-view+json": {
       "model_id": "e727645415c140979f370b5ff38bb355",
       "version_major": 2,
       "version_minor": 0
      },
      "text/plain": [
       "  0%|          | 0/1000 [00:00<?, ?it/s]"
      ]
     },
     "metadata": {},
     "output_type": "display_data"
    },
    {
     "name": "stdout",
     "output_type": "stream",
     "text": [
      "0.6103382955902236 0.635789319175057\n",
      "0.4202314909516101 0.5550105967029278\n",
      "0.38160966667269874 0.5278729516940995\n",
      "0.37324826759800067 0.525336390072061\n",
      "0.3659358106996136 0.5095875607327549\n",
      "0.35599828768194175 0.4963037796832394\n",
      "0.3509174523330225 0.5045395152500297\n",
      "0.3481389954094699 0.5106990311009908\n",
      "0.34727219059273007 0.5054217990823905\n",
      "0.3470890304645229 0.5028021329147345\n",
      "0.3470180856514589 0.502240136092153\n"
     ]
    },
    {
     "data": {
      "application/vnd.jupyter.widget-view+json": {
       "model_id": "7e560c86241c458fa0f188da730bfcff",
       "version_major": 2,
       "version_minor": 0
      },
      "text/plain": [
       "  0%|          | 0/1000 [00:00<?, ?it/s]"
      ]
     },
     "metadata": {},
     "output_type": "display_data"
    },
    {
     "name": "stdout",
     "output_type": "stream",
     "text": [
      "0.613262317558566 0.5799571388637426\n",
      "0.4423541984581196 0.5784008143534052\n",
      "0.40257127006304944 0.5596988086154302\n",
      "0.39527163606892307 0.5513378748678724\n",
      "0.3909121644558187 0.5587446099996257\n",
      "0.3864362438532635 0.5522995959315165\n",
      "0.37626924051986915 0.5412490647067959\n",
      "0.37422290945089787 0.5477929309635028\n",
      "0.3726356519616752 0.5689037268999214\n",
      "0.37186249061417165 0.5752559843547115\n",
      "0.36675020941823466 0.5648835401659899\n"
     ]
    },
    {
     "data": {
      "application/vnd.jupyter.widget-view+json": {
       "model_id": "cd6a373c6d5240579b7af89d3b9e1e1c",
       "version_major": 2,
       "version_minor": 0
      },
      "text/plain": [
       "  0%|          | 0/1000 [00:00<?, ?it/s]"
      ]
     },
     "metadata": {},
     "output_type": "display_data"
    },
    {
     "name": "stdout",
     "output_type": "stream",
     "text": [
      "0.3361082837744111 0.3508783432849831\n",
      "0.16216119717881367 0.24214999661204895\n",
      "0.12241437719533034 0.20173323577588195\n",
      "0.09993862178793123 0.17643060863602142\n",
      "0.08746811734628587 0.1679556615913891\n",
      "0.08272516134792585 0.16157627839836858\n",
      "0.07895516372402686 0.15251142969353376\n",
      "0.07439161118659536 0.13761784778985775\n",
      "0.06872314853133576 0.12148191263522477\n",
      "0.06666449549116862 0.11710194064210086\n",
      "0.06595541018970776 0.11613154072899959\n"
     ]
    },
    {
     "data": {
      "application/vnd.jupyter.widget-view+json": {
       "model_id": "d5e20e94141f41c6993b32fd065e8621",
       "version_major": 2,
       "version_minor": 0
      },
      "text/plain": [
       "  0%|          | 0/1000 [00:00<?, ?it/s]"
      ]
     },
     "metadata": {},
     "output_type": "display_data"
    },
    {
     "name": "stdout",
     "output_type": "stream",
     "text": [
      "0.34826934791088343 0.33937866982440357\n",
      "0.15442232692103305 0.2238527957974469\n",
      "0.10798506963333807 0.18906004734553472\n",
      "0.08943657973574733 0.169443439118142\n",
      "0.08157214222070365 0.15270073287862215\n",
      "0.07749208273111685 0.1384150917056539\n",
      "0.07590127642046775 0.1335441433809431\n",
      "0.07470088183862954 0.13230897200379327\n",
      "0.07259971298687519 0.13007839527628012\n",
      "0.07038112829603185 0.13194733742841516\n",
      "0.06997939410813606 0.1307858626696931\n"
     ]
    },
    {
     "data": {
      "application/vnd.jupyter.widget-view+json": {
       "model_id": "051cf336084648eeb06ecb5a236d1349",
       "version_major": 2,
       "version_minor": 0
      },
      "text/plain": [
       "  0%|          | 0/1000 [00:00<?, ?it/s]"
      ]
     },
     "metadata": {},
     "output_type": "display_data"
    },
    {
     "name": "stdout",
     "output_type": "stream",
     "text": [
      "0.2674134204265989 0.2713962990681563\n",
      "0.09385952788465772 0.1634244642827166\n",
      "0.058696081085721066 0.11679698463916026\n",
      "0.044733279573262646 0.094014300963598\n",
      "0.03826162625451285 0.08369916123639948\n",
      "0.03365099574947507 0.07208724845826626\n",
      "0.02606773250815806 0.05407445851087091\n",
      "0.020039496942572906 0.04174636679863667\n",
      "0.01692312601582867 0.034067784501079494\n",
      "0.015727269958785962 0.032151532157624375\n",
      "0.015303034318442347 0.031488864931391\n"
     ]
    },
    {
     "data": {
      "application/vnd.jupyter.widget-view+json": {
       "model_id": "2b7ee88cceea4714a27cccbfaa708c34",
       "version_major": 2,
       "version_minor": 0
      },
      "text/plain": [
       "  0%|          | 0/1000 [00:00<?, ?it/s]"
      ]
     },
     "metadata": {},
     "output_type": "display_data"
    },
    {
     "name": "stdout",
     "output_type": "stream",
     "text": [
      "0.27934668008215374 0.25788202609496935\n",
      "0.09123044475426899 0.14695742318264438\n",
      "0.0595726646490744 0.11284592428184402\n",
      "0.044965778163810824 0.08876901281831247\n",
      "0.03681127568576787 0.07293881598219668\n",
      "0.029854690660018383 0.058074223686861354\n",
      "0.02305256097595323 0.041791064350818474\n",
      "0.01923378743742459 0.03339430661816316\n",
      "0.017605419420009063 0.030711336807287645\n",
      "0.017082206491804853 0.030003393426729013\n",
      "0.016911321175920264 0.030052512508225944\n"
     ]
    },
    {
     "data": {
      "application/vnd.jupyter.widget-view+json": {
       "model_id": "c0b5e212e920447fa4cbb0a7852b9db8",
       "version_major": 2,
       "version_minor": 0
      },
      "text/plain": [
       "  0%|          | 0/1000 [00:00<?, ?it/s]"
      ]
     },
     "metadata": {},
     "output_type": "display_data"
    },
    {
     "name": "stdout",
     "output_type": "stream",
     "text": [
      "0.2217390507509465 0.2154693476974939\n",
      "0.06710076320126714 0.11210303262850967\n",
      "0.036768077152515344 0.07796977607472715\n",
      "0.022831898814439193 0.05076168213104482\n",
      "0.012591400091732553 0.029372386919926115\n",
      "0.005864625444037756 0.01292310905555496\n",
      "0.00156124830079884 0.0034816896572972267\n",
      "0.0002968427012231379 0.0006861587505482398\n",
      "4.797893016855106e-05 0.00011155230960722077\n",
      "6.565481277639378e-06 1.5400017427875263e-05\n",
      "8.109452805867684e-07 1.936296753920215e-06\n"
     ]
    },
    {
     "data": {
      "application/vnd.jupyter.widget-view+json": {
       "model_id": "de21cc4203a84d07984bec6344bf7831",
       "version_major": 2,
       "version_minor": 0
      },
      "text/plain": [
       "  0%|          | 0/1000 [00:00<?, ?it/s]"
      ]
     },
     "metadata": {},
     "output_type": "display_data"
    },
    {
     "name": "stdout",
     "output_type": "stream",
     "text": [
      "0.2322944309884165 0.21039664827102916\n",
      "0.06498916781249243 0.11522239086094822\n",
      "0.036366240798751615 0.07960541557946339\n",
      "0.021345961181304114 0.04845103901675484\n",
      "0.011209195512275642 0.025078831282335068\n",
      "0.0037619374159367017 0.008200798364946572\n",
      "0.0008490667109034848 0.0019390645665846927\n",
      "0.0001688998180613709 0.0004126524252159227\n",
      "3.157167676523508e-05 8.205540840963977e-05\n",
      "5.725583695355446e-06 1.5666219559741135e-05\n",
      "1.0368052915632706e-06 2.9315057311038453e-06\n"
     ]
    },
    {
     "data": {
      "application/vnd.jupyter.widget-view+json": {
       "model_id": "b814a15e07df42909c483d61dd4cba53",
       "version_major": 2,
       "version_minor": 0
      },
      "text/plain": [
       "  0%|          | 0/1000 [00:00<?, ?it/s]"
      ]
     },
     "metadata": {},
     "output_type": "display_data"
    },
    {
     "name": "stdout",
     "output_type": "stream",
     "text": [
      "0.19423597701756784 0.19731051319751536\n",
      "0.054001956881247544 0.0962552474395597\n",
      "0.025868141010056994 0.058230049143134635\n",
      "0.01551917016929709 0.03929174396670842\n",
      "0.008576290741534584 0.023128438396793412\n",
      "0.0038334680999992142 0.010617064884971586\n",
      "0.0012820995572341942 0.003564690871362375\n",
      "0.0003951382259574735 0.0011187843043506153\n",
      "0.00014392404563541588 0.0004183552584367677\n",
      "6.673270038871165e-05 0.0001988465886901236\n",
      "3.749521217161526e-05 0.00011382460798441921\n"
     ]
    },
    {
     "data": {
      "application/vnd.jupyter.widget-view+json": {
       "model_id": "b039c7151e2f47ac8a085ceb864051c7",
       "version_major": 2,
       "version_minor": 0
      },
      "text/plain": [
       "  0%|          | 0/1000 [00:00<?, ?it/s]"
      ]
     },
     "metadata": {},
     "output_type": "display_data"
    },
    {
     "name": "stdout",
     "output_type": "stream",
     "text": [
      "0.20286829266780398 0.1929868094460366\n",
      "0.05326131165203128 0.09714683221959734\n",
      "0.02365928705563268 0.05339610843264636\n",
      "0.01212116677086685 0.029753697946980566\n",
      "0.005664133173512287 0.014507279837538495\n",
      "0.0018697865962326071 0.005220852382505906\n",
      "0.0006229669948976922 0.001921621477552438\n",
      "0.0002489824158609752 0.0008274417182079969\n",
      "0.00011899872216532009 0.00041068581764350546\n",
      "6.56654503159054e-05 0.00022876819426720062\n",
      "4.0149447012050874e-05 0.0001394718578226768\n"
     ]
    },
    {
     "data": {
      "application/vnd.jupyter.widget-view+json": {
       "model_id": "827c9a0265a9457d928c3483c2e28c9b",
       "version_major": 2,
       "version_minor": 0
      },
      "text/plain": [
       "  0%|          | 0/1000 [00:00<?, ?it/s]"
      ]
     },
     "metadata": {},
     "output_type": "display_data"
    },
    {
     "name": "stdout",
     "output_type": "stream",
     "text": [
      "0.1774539363434704 0.1752370939357556\n",
      "0.04405690294400388 0.07802271594660357\n",
      "0.0199026120558347 0.04595584078435214\n",
      "0.009471031957032458 0.025346568605286158\n",
      "0.003946375015572824 0.011711254612812841\n",
      "0.0013366499711078665 0.004452819043370617\n",
      "0.0005009587178206702 0.0018538061840712079\n",
      "0.00023275466111626202 0.0009166794363402286\n",
      "0.0001264008148701155 0.0005149294572718443\n",
      "7.616838065534453e-05 0.0003162737307507897\n",
      "4.934162356848693e-05 0.00020731988394103628\n"
     ]
    },
    {
     "data": {
      "application/vnd.jupyter.widget-view+json": {
       "model_id": "46a735379d5747fc87758f4f5931d5ed",
       "version_major": 2,
       "version_minor": 0
      },
      "text/plain": [
       "  0%|          | 0/1000 [00:00<?, ?it/s]"
      ]
     },
     "metadata": {},
     "output_type": "display_data"
    },
    {
     "name": "stdout",
     "output_type": "stream",
     "text": [
      "0.17884460385141882 0.1724372725342094\n",
      "0.04497043894604448 0.08140138858632019\n",
      "0.018768925630281697 0.04451143163055979\n",
      "0.008239896563451374 0.022541535528836275\n",
      "0.002907916759641336 0.008742925833244795\n",
      "0.0009820628416721115 0.0032768233917601437\n",
      "0.0004067350671335457 0.0014486960815046942\n",
      "0.0002002477514614539 0.0007393802152735576\n",
      "0.00011217077939005218 0.00042141617743839566\n",
      "6.890115119138493e-05 0.0002610807604268732\n",
      "4.520181257839048e-05 0.00017218779550340352\n"
     ]
    },
    {
     "data": {
      "application/vnd.jupyter.widget-view+json": {
       "model_id": "6ad59433046a4e57947075e7fc47a9c5",
       "version_major": 2,
       "version_minor": 0
      },
      "text/plain": [
       "  0%|          | 0/1000 [00:00<?, ?it/s]"
      ]
     },
     "metadata": {},
     "output_type": "display_data"
    },
    {
     "name": "stdout",
     "output_type": "stream",
     "text": [
      "0.16936497465420658 0.169077410725253\n",
      "0.04289363216202203 0.07907434360366958\n",
      "0.016817635715663564 0.04236207061911115\n",
      "0.006297126822241998 0.01925311256672498\n",
      "0.0023395714302023585 0.00822383227421564\n",
      "0.0009471691163213666 0.003718106356359119\n",
      "0.00043456218270369564 0.0018518103588213482\n",
      "0.0002267165401149764 0.0010176843179459368\n",
      "0.00013132175087388775 0.0006077979449490965\n",
      "8.229149807361827e-05 0.0003881182331270348\n",
      "5.4716067655773103e-05 0.00026139208522884714\n"
     ]
    },
    {
     "data": {
      "application/vnd.jupyter.widget-view+json": {
       "model_id": "17382b2b1dd64d72b2547e425d91f70e",
       "version_major": 2,
       "version_minor": 0
      },
      "text/plain": [
       "  0%|          | 0/1000 [00:00<?, ?it/s]"
      ]
     },
     "metadata": {},
     "output_type": "display_data"
    },
    {
     "name": "stdout",
     "output_type": "stream",
     "text": [
      "0.17095611710255776 0.1612932265411148\n",
      "0.04199293271798297 0.07517230563965688\n",
      "0.015447660565614436 0.038977788104076726\n",
      "0.005551014087185361 0.017088445796598576\n",
      "0.0018324134224386207 0.0065086190625445435\n",
      "0.0006723386421324238 0.002689335404790012\n",
      "0.00030481880503722037 0.0013051820278721187\n",
      "0.00016135461959547443 0.0007153799637423747\n",
      "9.509249018316038e-05 0.00042986324347918994\n",
      "6.0492576329341946e-05 0.00027690547745828393\n",
      "4.070062769186629e-05 0.00018803126770923834\n"
     ]
    },
    {
     "data": {
      "application/vnd.jupyter.widget-view+json": {
       "model_id": "d9b596ddc51a4e58bbc08a23ee288c04",
       "version_major": 2,
       "version_minor": 0
      },
      "text/plain": [
       "  0%|          | 0/1000 [00:00<?, ?it/s]"
      ]
     },
     "metadata": {},
     "output_type": "display_data"
    },
    {
     "name": "stdout",
     "output_type": "stream",
     "text": [
      "0.16169738859501065 0.1610402486779944\n",
      "0.03727034366623291 0.07043980977109769\n",
      "0.012796570100541714 0.034875042043960275\n",
      "0.004788334936339302 0.0161591932050335\n",
      "0.0018617466201790841 0.007350615914797867\n",
      "0.000794472753181358 0.003521652458272624\n",
      "0.00039034713174331996 0.001857053228322231\n",
      "0.00021779372084934878 0.0010772950420833206\n",
      "0.00013341983430223924 0.0006752095200903442\n",
      "8.734219490292277e-05 0.00044879415410931925\n",
      "6.002148300169885e-05 0.0003119044114353573\n"
     ]
    },
    {
     "data": {
      "application/vnd.jupyter.widget-view+json": {
       "model_id": "17846867e4534f918256f08f769b037b",
       "version_major": 2,
       "version_minor": 0
      },
      "text/plain": [
       "  0%|          | 0/1000 [00:00<?, ?it/s]"
      ]
     },
     "metadata": {},
     "output_type": "display_data"
    },
    {
     "name": "stdout",
     "output_type": "stream",
     "text": [
      "0.1657267067601453 0.15448491295702665\n",
      "0.03911915585198625 0.06813472173618856\n",
      "0.012213774960198343 0.030865463112031755\n",
      "0.0036778550966926203 0.01245858153925953\n",
      "0.0013163098816542753 0.00530287451043192\n",
      "0.0005758852220893032 0.0025831720383447175\n",
      "0.0002934432704745003 0.001404656097938294\n",
      "0.00016745004707132026 0.0008342717823008341\n",
      "0.00010385823286423924 0.0005317759884751982\n",
      "6.851802057511451e-05 0.00035822368197974976\n",
      "4.7361918435312275e-05 0.00025189034846950965\n"
     ]
    }
   ],
   "source": [
    "np.random.seed(42)\n",
    "random.seed(42)\n",
    "tf.random.set_seed(42)\n",
    "\n",
    "kraus_target = KrausMap(d, rank = 4)\n",
    "targets_train1 = generate_map_data(kraus_target, inputs_train1)\n",
    "targets_test1 = generate_map_data(kraus_target, inputs_test1)\n",
    "targets_train2 = generate_map_data(kraus_target, inputs_train2)\n",
    "targets_test2 = generate_map_data(kraus_target, inputs_test2)\n",
    "\n",
    "model_list1 = []\n",
    "model_list2 = []\n",
    "for i in range(1,9):\n",
    "    np.random.seed(43)\n",
    "    random.seed(43)\n",
    "    tf.random.set_seed(43)\n",
    "\n",
    "    model1 = ModelQuantumMap(channel = KrausMap(d=d, \n",
    "                                               rank=i,                                                  ),\n",
    "                                   loss_function = KLDiv(),\n",
    "                                   optimizer = tf.optimizers.Adam(learning_rate=0.01),\n",
    "                                   logger = Logger(loss_function = KLDiv(),\n",
    "                                                   loss_function_val = KLDiv()),\n",
    "                                   )\n",
    "\n",
    "    model1.train(inputs = inputs_train1,\n",
    "                targets = targets_train1,\n",
    "                inputs_val = inputs_test1,\n",
    "                targets_val = targets_test1,\n",
    "                num_iter = 1000,\n",
    "                N = 500,\n",
    "                )\n",
    "    \n",
    "    model_list1.append(model1)\n",
    "    \n",
    "    np.random.seed(43)\n",
    "    random.seed(43)\n",
    "    tf.random.set_seed(43)\n",
    "    \n",
    "    model2 = ModelQuantumMap(channel = KrausMap(d=d, \n",
    "                                               rank=i,                                                  ),\n",
    "                                   loss_function = KLDiv(),\n",
    "                                   optimizer = tf.optimizers.Adam(learning_rate=0.01),\n",
    "                                   logger = Logger(loss_function = KLDiv(),\n",
    "                                                   loss_function_val = KLDiv()),\n",
    "                                   )\n",
    "\n",
    "    model2.train(inputs = inputs_train2,\n",
    "                targets = targets_train2,\n",
    "                inputs_val = inputs_test2,\n",
    "                targets_val = targets_test2,\n",
    "                num_iter = 1000,\n",
    "                N = 500,\n",
    "                )\n",
    "    \n",
    "    model_list2.append(model2)\n",
    "    \n",
    "    "
   ]
  },
  {
   "cell_type": "code",
   "execution_count": 39,
   "metadata": {},
   "outputs": [],
   "source": [
    "loss_train1 = [model.logger.loss_train_list[-1] for model in model_list1]\n",
    "loss_test1 = [model.logger.loss_val_list[-1] for model in model_list1]\n",
    "\n",
    "loss_train2 = [model.logger.loss_train_list[-1] for model in model_list2]\n",
    "loss_test2 = [model.logger.loss_val_list[-1] for model in model_list2]"
   ]
  },
  {
   "cell_type": "code",
   "execution_count": 42,
   "metadata": {},
   "outputs": [
    {
     "data": {
      "image/png": "[encoded data removed]",
      "text/plain": [
       "<Figure size 640x480 with 1 Axes>"
      ]
     },
     "metadata": {},
     "output_type": "display_data"
    }
   ],
   "source": [
    "x = list(range(1,9))\n",
    "plt.plot(x, np.array(loss_train1))\n",
    "plt.plot(x, np.array(loss_train2))\n",
    "plt.plot(x, np.array(loss_test1))\n",
    "plt.plot(x, np.array(loss_test2))\n",
    "plt.legend([\"Train, normal\", \"Train, optimized\",\"Test, normal\", \"TEst, optimized\"])\n",
    "\n",
    "plt.yscale(\"log\")\n",
    "\n",
    "plt.show()"
   ]
  },
  {
   "cell_type": "markdown",
   "metadata": {},
   "source": [
    "## SPAM recovery"
   ]
  },
  {
   "cell_type": "code",
   "execution_count": null,
   "metadata": {},
   "outputs": [],
   "source": []
  }
 ],
 "metadata": {
  "kernelspec": {
   "display_name": "env_qiskit",
   "language": "python",
   "name": "env_qiskit"
  },
  "language_info": {
   "codemirror_mode": {
    "name": "ipython",
    "version": 3
   },
   "file_extension": ".py",
   "mimetype": "text/x-python",
   "name": "python",
   "nbconvert_exporter": "python",
   "pygments_lexer": "ipython3",
   "version": "3.10.4"
  }
 },
 "nbformat": 4,
 "nbformat_minor": 4
}
