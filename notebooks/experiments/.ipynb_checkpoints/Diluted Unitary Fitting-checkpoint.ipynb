{
 "cells": [
  {
   "cell_type": "markdown",
   "metadata": {},
   "source": [
    "# Diluted Unitary Fitting"
   ]
  },
  {
   "cell_type": "code",
   "execution_count": 37,
   "metadata": {},
   "outputs": [],
   "source": [
    "import sys\n",
    "sys.path.insert(0, '../../src_tf/')\n",
    "\n",
    "import numpy as np\n",
    "import qiskit as qk\n",
    "import matplotlib.pyplot as plt\n",
    "import multiprocessing as mp\n",
    "import random\n",
    "import pickle\n",
    "\n",
    "from qiskit.quantum_info import DensityMatrix, random_unitary\n",
    "from qiskit.quantum_info import Operator\n",
    "from scipy.linalg import sqrtm\n",
    "from tqdm.notebook import tqdm\n",
    "from math import ceil\n",
    "\n",
    "from loss_functions import *\n",
    "from optimization import *\n",
    "from quantum_channel import *\n",
    "from kraus_channels import *\n",
    "from quantum_tools import *\n",
    "from experimental import *\n",
    "from spam import *\n",
    "from scipy.stats import gaussian_kde\n",
    "from quantum_circuits import *\n",
    "from analysis import *\n",
    "from utils import *\n",
    "\n",
    "#np.set_printoptions(threshold=sys.maxsize)\n",
    "np.set_printoptions(precision=4)\n",
    "\n",
    "import os\n",
    "os.environ[\"CUDA_VISIBLE_DEVICES\"] = \"-1\""
   ]
  },
  {
   "cell_type": "code",
   "execution_count": 40,
   "metadata": {},
   "outputs": [],
   "source": [
    "def optimize_annulus_distance(spectrum_target = None, \n",
    "                              d = None, \n",
    "                              rank_start = 1,\n",
    "                              rank_step = 1,\n",
    "                              num_iter = 1000,\n",
    "                              lr = 0.001): \n",
    "    \n",
    "    model_list = []\n",
    "    distance_list = []\n",
    "    counter = 0\n",
    "    \n",
    "    for rank in range(rank_start, d**2+rank_step, rank_step): \n",
    "        model = ModelQuantumMap(channel = DilutedKrausMap(U=generate_haar_random(d, rng=rng), \n",
    "                                                          c=0.5, \n",
    "                                                          kraus_part=KrausMap(d, \n",
    "                                                                              rank=rank, \n",
    "                                                                              trainable=False),\n",
    "                                                     ),\n",
    "                            loss_function = AnnulusDistance(),\n",
    "                            optimizer = tf.optimizers.Adam(learning_rate=lr),\n",
    "                            logger = Logger(loss_function = AnnulusDistance(), \n",
    "                                            verbose=True,),\n",
    "                            )\n",
    "        model.train(inputs = None,\n",
    "                    targets = [spectrum_target],\n",
    "                    num_iter = num_iter,\n",
    "                    \n",
    "                   )\n",
    "\n",
    "        model_list.append(model)\n",
    "        distance_list.append(model.logger.loss_train_list[-1])\n",
    "        \n",
    "        idx = np.argmin(distance_list)\n",
    "        if distance_list[-1] > distance_list[idx]:\n",
    "            counter += 1\n",
    "        if counter > 4:\n",
    "            print(\"Done!\")\n",
    "            break\n",
    "\n",
    "    distance_best = distance_list[idx]\n",
    "    model_best = model_list[idx]\n",
    "\n",
    "    return distance_best, model_best\n",
    "\n",
    "def fit_diluted_unitary(spectrum_target_list, \n",
    "                        d, \n",
    "                        rank_start, \n",
    "                        rank_step,\n",
    "                        num_iter = 1000,\n",
    "                        lr = 0.001):\n",
    "    \n",
    "    distance_best_list = []\n",
    "    model_best_list = []\n",
    "    for spectrum_target in tqdm(spectrum_target_list):\n",
    "        U = generate_haar_random(d, rng) \n",
    "        distance_best, model_best = optimize_annulus_distance(spectrum_target,\n",
    "                                                              d,\n",
    "                                                              rank_start,\n",
    "                                                              rank_step,\n",
    "                                                              num_iter = num_iter,\n",
    "                                                              lr = lr)\n",
    "        distance_best_list.append(distance_best)\n",
    "        model_best_list.append(model_best)\n",
    "    \n",
    "    for model in model_best_list:\n",
    "        model.optimizer = None\n",
    "        \n",
    "    return distance_best_list, model_best_list"
   ]
  },
  {
   "cell_type": "markdown",
   "metadata": {},
   "source": [
    "## Three Qubits"
   ]
  },
  {
   "cell_type": "code",
   "execution_count": 41,
   "metadata": {
    "scrolled": true
   },
   "outputs": [],
   "source": [
    "[channel_list1, channel_list2, channel_list3, channel_list4, channel_list5, channel_list6, channel_list7] = loader(data_path(\"channel_fullRank_belem_longTrain.p\"))\n",
    "\n",
    "spectrum_target_list1 = [channel_spectrum(channel, keep_real=False) for channel in channel_list1]\n",
    "spectrum_target_list2 = [channel_spectrum(channel, keep_real=False) for channel in channel_list2]\n",
    "spectrum_target_list3 = [channel_spectrum(channel, keep_real=False) for channel in channel_list3]\n",
    "spectrum_target_list4 = [channel_spectrum(channel, keep_real=False) for channel in channel_list4]\n",
    "spectrum_target_list5 = [channel_spectrum(channel, keep_real=False) for channel in channel_list5]\n",
    "spectrum_target_list6 = [channel_spectrum(channel, keep_real=False) for channel in channel_list6]\n",
    "spectrum_target_list7 = [channel_spectrum(channel, keep_real=False) for channel in channel_list7]"
   ]
  },
  {
   "cell_type": "code",
   "execution_count": 42,
   "metadata": {
    "scrolled": true
   },
   "outputs": [
    {
     "data": {
      "application/vnd.jupyter.widget-view+json": {
       "model_id": "7c72f6158b094ae8a9642dfd551fb4f3",
       "version_major": 2,
       "version_minor": 0
      },
      "text/plain": [
       "  0%|          | 0/10 [00:00<?, ?it/s]"
      ]
     },
     "metadata": {},
     "output_type": "display_data"
    },
    {
     "data": {
      "application/vnd.jupyter.widget-view+json": {
       "model_id": "dcd584569c2840e397c724f5d246134e",
       "version_major": 2,
       "version_minor": 0
      },
      "text/plain": [
       "  0%|          | 0/2000 [00:00<?, ?it/s]"
      ]
     },
     "metadata": {},
     "output_type": "display_data"
    },
    {
     "name": "stdout",
     "output_type": "stream",
     "text": [
      "0.32458529834933353 None\n",
      "0.2772006369261871 None\n",
      "0.2382184947564688 None\n",
      "0.19149363461285157 None\n",
      "0.16871866306254463 None\n",
      "0.13249405774224238 None\n",
      "0.10924113265987895 None\n",
      "0.08647316050278343 None\n",
      "0.07481937350970642 None\n",
      "0.07482848365856085 None\n",
      "0.07482547717195857 None\n",
      "0.07484206317880247 None\n",
      "0.07483475125169847 None\n",
      "0.07483280525278543 None\n",
      "0.07485532696341893 None\n",
      "0.07483450886855973 None\n",
      "0.07483806631435655 None\n",
      "0.07485452949698733 None\n",
      "0.07483709342837158 None\n",
      "0.0748216683454331 None\n",
      "0.0748554004424755 None\n"
     ]
    },
    {
     "data": {
      "application/vnd.jupyter.widget-view+json": {
       "model_id": "ad8ada3ca11a46378533f1cfa84cb789",
       "version_major": 2,
       "version_minor": 0
      },
      "text/plain": [
       "  0%|          | 0/2000 [00:00<?, ?it/s]"
      ]
     },
     "metadata": {},
     "output_type": "display_data"
    },
    {
     "name": "stdout",
     "output_type": "stream",
     "text": [
      "0.2798937843266294 None\n",
      "0.23792776405614993 None\n",
      "0.20548860782025302 None\n",
      "0.18408908508604893 None\n",
      "0.14753811322525334 None\n",
      "0.12931308480452403 None\n",
      "0.09488927071947836 None\n",
      "0.07026751930688402 None\n",
      "0.04933398735729427 None\n",
      "0.05737539036832108 None\n",
      "0.05740818216728762 None\n",
      "0.04872799816081344 None\n",
      "0.065116781057987 None\n",
      "0.05740595556063205 None\n",
      "0.05737662096423597 None\n",
      "0.04874615129118985 None\n",
      "0.04874307283569079 None\n",
      "0.04872974818113797 None\n",
      "0.0573750464704698 None\n",
      "0.0573642897132919 None\n",
      "0.05736721143149095 None\n"
     ]
    },
    {
     "data": {
      "application/vnd.jupyter.widget-view+json": {
       "model_id": "71a75584416345a892ab60e7b0f82ebc",
       "version_major": 2,
       "version_minor": 0
      },
      "text/plain": [
       "  0%|          | 0/2000 [00:00<?, ?it/s]"
      ]
     },
     "metadata": {},
     "output_type": "display_data"
    },
    {
     "name": "stdout",
     "output_type": "stream",
     "text": [
      "0.24815964387835016 None\n",
      "0.22751793645539375 None\n",
      "0.1996211105117592 None\n",
      "0.15614753856380556 None\n",
      "0.1294978102400097 None\n",
      "0.10449875685652796 None\n",
      "0.08049156159037481 None\n",
      "0.05711323460954038 None\n",
      "0.03951439450463526 None\n",
      "0.03934830442620749 None\n",
      "0.03934673014770759 None\n",
      "0.03935498364913453 None\n",
      "0.039381412500999344 None\n",
      "0.03934288422103484 None\n",
      "0.0394090337456285 None\n",
      "0.03933367033181761 None\n",
      "0.03937836949951588 None\n",
      "0.0394088458259515 None\n",
      "0.03938167187303732 None\n",
      "0.03938602216702224 None\n",
      "0.03939300799011163 None\n"
     ]
    },
    {
     "data": {
      "application/vnd.jupyter.widget-view+json": {
       "model_id": "4ab963009f964ee8b28826d0f980c3c8",
       "version_major": 2,
       "version_minor": 0
      },
      "text/plain": [
       "  0%|          | 0/2000 [00:00<?, ?it/s]"
      ]
     },
     "metadata": {},
     "output_type": "display_data"
    },
    {
     "name": "stdout",
     "output_type": "stream",
     "text": [
      "0.24897727784470078 None\n",
      "0.2364466967715955 None\n",
      "0.19261509021113646 None\n",
      "0.16506226493290602 None\n",
      "0.13802277199547683 None\n",
      "0.11177430864032288 None\n",
      "0.08647520445547238 None\n",
      "0.06224766971970912 None\n",
      "0.04084390677935985 None\n",
      "0.04029603770330309 None\n",
      "0.040290599295265454 None\n",
      "0.04035824292114632 None\n",
      "0.04030015807115288 None\n",
      "0.04034995473264366 None\n",
      "0.04032925587408176 None\n",
      "0.040292629373315084 None\n",
      "0.04034619822007099 None\n",
      "0.040297085298079224 None\n",
      "0.04035333997132906 None\n",
      "0.04030021003951828 None\n",
      "0.04031427236228735 None\n"
     ]
    },
    {
     "data": {
      "application/vnd.jupyter.widget-view+json": {
       "model_id": "f0447a3e0f184847bf5c07f606199268",
       "version_major": 2,
       "version_minor": 0
      },
      "text/plain": [
       "  0%|          | 0/2000 [00:00<?, ?it/s]"
      ]
     },
     "metadata": {},
     "output_type": "display_data"
    },
    {
     "name": "stdout",
     "output_type": "stream",
     "text": [
      "0.24495841573335939 None\n",
      "0.21646322290383066 None\n",
      "0.18813325304583303 None\n",
      "0.16035412229905935 None\n",
      "0.13328382857122936 None\n",
      "0.1071529810579191 None\n",
      "0.08217192251527732 None\n",
      "0.05824077494548476 None\n",
      "0.03617651512440783 None\n",
      "0.03591374880072114 None\n",
      "0.03590138343449376 None\n",
      "0.03587601757840267 None\n",
      "0.03596471284742939 None\n",
      "0.0359605174464732 None\n",
      "0.03588652980077777 None\n",
      "0.03590687592646559 None\n",
      "0.03589761076414818 None\n",
      "0.03591429145884695 None\n",
      "0.03588304560020791 None\n",
      "0.035885342072060754 None\n",
      "0.035891777590242854 None\n"
     ]
    },
    {
     "data": {
      "application/vnd.jupyter.widget-view+json": {
       "model_id": "2452df0439914f33a6d0622fdc9455c5",
       "version_major": 2,
       "version_minor": 0
      },
      "text/plain": [
       "  0%|          | 0/2000 [00:00<?, ?it/s]"
      ]
     },
     "metadata": {},
     "output_type": "display_data"
    },
    {
     "name": "stdout",
     "output_type": "stream",
     "text": [
      "0.23944463551314107 None\n",
      "0.21140311510449217 None\n",
      "0.1841421754902219 None\n",
      "0.15703528609931366 None\n",
      "0.1303896979915222 None\n",
      "0.10443497369950788 None\n",
      "0.07939847676342766 None\n",
      "0.05554534635800265 None\n",
      "0.036514182966364626 None\n",
      "0.03625363735058823 None\n",
      "0.03625462403251507 None\n",
      "0.03628270500914327 None\n",
      "0.0362467020255167 None\n",
      "0.03624835894715741 None\n",
      "0.036269257408023406 None\n",
      "0.036262846156663975 None\n",
      "0.03634700779028113 None\n",
      "0.036271630240617324 None\n",
      "0.03628962884326048 None\n",
      "0.0362531258218755 None\n",
      "0.03626370403791152 None\n"
     ]
    },
    {
     "data": {
      "application/vnd.jupyter.widget-view+json": {
       "model_id": "18ec513942b74e8eb5e16d5b7c4291f9",
       "version_major": 2,
       "version_minor": 0
      },
      "text/plain": [
       "  0%|          | 0/2000 [00:00<?, ?it/s]"
      ]
     },
     "metadata": {},
     "output_type": "display_data"
    },
    {
     "name": "stdout",
     "output_type": "stream",
     "text": [
      "0.24202807220651598 None\n",
      "0.21401662057241258 None\n",
      "0.18629423253451058 None\n",
      "0.15905780808422734 None\n",
      "0.13249621991721372 None\n",
      "0.1067386988518086 None\n",
      "0.08191153530223047 None\n",
      "0.058130039454114386 None\n",
      "0.038530544951005455 None\n",
      "0.037935004993459184 None\n",
      "0.03795480409104449 None\n",
      "0.03793867706718887 None\n",
      "0.03791989679345211 None\n",
      "0.03792747734017295 None\n",
      "0.03791620884420759 None\n",
      "0.03791119485166146 None\n",
      "0.03792018362689198 None\n",
      "0.0379145108797727 None\n",
      "0.037926216859451314 None\n",
      "0.037917716070728344 None\n",
      "0.03791365168946405 None\n"
     ]
    },
    {
     "data": {
      "application/vnd.jupyter.widget-view+json": {
       "model_id": "705d79bac7f44421b606025501339e89",
       "version_major": 2,
       "version_minor": 0
      },
      "text/plain": [
       "  0%|          | 0/2000 [00:00<?, ?it/s]"
      ]
     },
     "metadata": {},
     "output_type": "display_data"
    },
    {
     "name": "stdout",
     "output_type": "stream",
     "text": [
      "0.25141756903158596 None\n",
      "0.22354970932916146 None\n",
      "0.18728219606705016 None\n",
      "0.16006286544965903 None\n",
      "0.1334254689034036 None\n",
      "0.10754449184355297 None\n",
      "0.0825649594303932 None\n",
      "0.05861553004694311 None\n",
      "0.05602609055940598 None\n",
      "0.03953179817905394 None\n",
      "0.039533643084788926 None\n",
      "0.048154885449352425 None\n",
      "0.05584723108350898 None\n",
      "0.03953604677055752 None\n",
      "0.03953669015463348 None\n",
      "0.048178438961646364 None\n",
      "0.048179215618891255 None\n",
      "0.03953728547695997 None\n",
      "0.03953803460799857 None\n",
      "0.0395387690181877 None\n",
      "0.03955475799814826 None\n"
     ]
    },
    {
     "data": {
      "application/vnd.jupyter.widget-view+json": {
       "model_id": "8b7b1408ee2e473082f2ee89e5e3d7ad",
       "version_major": 2,
       "version_minor": 0
      },
      "text/plain": [
       "  0%|          | 0/2000 [00:00<?, ?it/s]"
      ]
     },
     "metadata": {},
     "output_type": "display_data"
    },
    {
     "name": "stdout",
     "output_type": "stream",
     "text": [
      "0.25746640625715755 None\n",
      "0.21287632376457388 None\n",
      "0.18517753187683605 None\n",
      "0.15800328593156757 None\n",
      "0.1313478677101549 None\n",
      "0.1054965775154736 None\n",
      "0.08060481551619439 None\n",
      "0.05677624873206609 None\n",
      "0.03680340080051916 None\n",
      "0.03621323732739005 None\n",
      "0.0362611440891369 None\n",
      "0.036244721007356505 None\n",
      "0.03625718693023065 None\n",
      "0.03623255861448054 None\n",
      "0.036260188779315666 None\n",
      "0.03623784439199753 None\n",
      "0.03623482487706456 None\n",
      "0.03627363052966924 None\n",
      "0.036222505651483695 None\n",
      "0.03623678688390475 None\n",
      "0.03623675287842717 None\n",
      "Done!\n"
     ]
    },
    {
     "data": {
      "application/vnd.jupyter.widget-view+json": {
       "model_id": "e76823e939ab44ca98105560f42fa990",
       "version_major": 2,
       "version_minor": 0
      },
      "text/plain": [
       "  0%|          | 0/2000 [00:00<?, ?it/s]"
      ]
     },
     "metadata": {},
     "output_type": "display_data"
    },
    {
     "name": "stdout",
     "output_type": "stream",
     "text": [
      "0.30661812996917204 None\n",
      "0.2821516667937333 None\n",
      "0.2252354232010985 None\n",
      "0.1891982767565673 None\n",
      "0.15812185089622577 None\n",
      "0.12571853510354508 None\n",
      "0.11415478935514387 None\n",
      "0.07678428854087149 None\n",
      "0.05508631433471243 None\n",
      "0.054905137593651426 None\n",
      "0.05494024859601777 None\n",
      "0.05788113668102392 None\n",
      "0.05489121548579804 None\n",
      "0.05494284254420956 None\n",
      "0.057939444337854196 None\n",
      "0.05489055389667541 None\n",
      "0.07037048486700098 None\n",
      "0.0578824216918388 None\n",
      "0.054928047010674344 None\n",
      "0.05489614996416094 None\n",
      "0.07034431027855681 None\n"
     ]
    },
    {
     "data": {
      "application/vnd.jupyter.widget-view+json": {
       "model_id": "007effdb04304cfd86a06bc7056a61ce",
       "version_major": 2,
       "version_minor": 0
      },
      "text/plain": [
       "  0%|          | 0/2000 [00:00<?, ?it/s]"
      ]
     },
     "metadata": {},
     "output_type": "display_data"
    },
    {
     "name": "stdout",
     "output_type": "stream",
     "text": [
      "0.30132356331640575 None\n",
      "0.2652785716642818 None\n",
      "0.23313297158673973 None\n",
      "0.20211446813834016 None\n",
      "0.17219081988973264 None\n",
      "0.14457622925391764 None\n",
      "0.11858956306572876 None\n",
      "0.09449564200146082 None\n",
      "0.07189107529523718 None\n",
      "0.05057543581934697 None\n",
      "0.046382192422076404 None\n",
      "0.046372467132316554 None\n",
      "0.04639010621808672 None\n",
      "0.04639730410810264 None\n",
      "0.0463718098676004 None\n",
      "0.046419442128439466 None\n",
      "0.046408928503914315 None\n",
      "0.04637033530593149 None\n",
      "0.046388415175544546 None\n",
      "0.04636584646451039 None\n",
      "0.04639573893090926 None\n"
     ]
    },
    {
     "data": {
      "application/vnd.jupyter.widget-view+json": {
       "model_id": "00a18c48844f48cfaeeb02acfb9cacbe",
       "version_major": 2,
       "version_minor": 0
      },
      "text/plain": [
       "  0%|          | 0/2000 [00:00<?, ?it/s]"
      ]
     },
     "metadata": {},
     "output_type": "display_data"
    },
    {
     "name": "stdout",
     "output_type": "stream",
     "text": [
      "0.26863961235770845 None\n",
      "0.23882209396866827 None\n",
      "0.21072755326835488 None\n",
      "0.18338353609206165 None\n",
      "0.15691758601363287 None\n",
      "0.13120717451141228 None\n",
      "0.10643415682203938 None\n",
      "0.08267477309741342 None\n",
      "0.0599740484597031 None\n",
      "0.04176849650243918 None\n",
      "0.04145659579165167 None\n",
      "0.041453745606017084 None\n",
      "0.04145367637889551 None\n",
      "0.04143856074221368 None\n",
      "0.041473775927465456 None\n",
      "0.04146143507466432 None\n",
      "0.04144992685606876 None\n",
      "0.04147465353391995 None\n",
      "0.04146277631705031 None\n",
      "0.041451052563780934 None\n",
      "0.04144686899343549 None\n"
     ]
    },
    {
     "data": {
      "application/vnd.jupyter.widget-view+json": {
       "model_id": "d7647e6538ad4033b37e17b0adeefa39",
       "version_major": 2,
       "version_minor": 0
      },
      "text/plain": [
       "  0%|          | 0/2000 [00:00<?, ?it/s]"
      ]
     },
     "metadata": {},
     "output_type": "display_data"
    },
    {
     "name": "stdout",
     "output_type": "stream",
     "text": [
      "0.2959305794606407 None\n",
      "0.2653716069481049 None\n",
      "0.22319546137685192 None\n",
      "0.1911824315928349 None\n",
      "0.16331547166445792 None\n",
      "0.13650510830243054 None\n",
      "0.11078356603012367 None\n",
      "0.08654913808487456 None\n",
      "0.06364330040456577 None\n",
      "0.04195758609250149 None\n",
      "0.040146099995995665 None\n",
      "0.040174604639492004 None\n",
      "0.04012432894979236 None\n",
      "0.040126362390011626 None\n",
      "0.04015354378415087 None\n",
      "0.04015708797686588 None\n",
      "0.04012683202819572 None\n",
      "0.04015012491770681 None\n",
      "0.040155463601185035 None\n",
      "0.04014110732442069 None\n",
      "0.0401549221862023 None\n"
     ]
    },
    {
     "data": {
      "application/vnd.jupyter.widget-view+json": {
       "model_id": "aa8cea7fa5b944138f41c78ce333d993",
       "version_major": 2,
       "version_minor": 0
      },
      "text/plain": [
       "  0%|          | 0/2000 [00:00<?, ?it/s]"
      ]
     },
     "metadata": {},
     "output_type": "display_data"
    },
    {
     "name": "stdout",
     "output_type": "stream",
     "text": [
      "0.2821920940176761 None\n",
      "0.25378644680585694 None\n",
      "0.21035317958628624 None\n",
      "0.18299364249156946 None\n",
      "0.15635436826483004 None\n",
      "0.1305491763564366 None\n",
      "0.10571142135378844 None\n",
      "0.08191806530036307 None\n",
      "0.05922586921809149 None\n",
      "0.04422293368119223 None\n",
      "0.04415914938612505 None\n",
      "0.04420595668825903 None\n",
      "0.047200467367192064 None\n",
      "0.044171293576235504 None\n",
      "0.059624508699082146 None\n",
      "0.04417064654390912 None\n",
      "0.047153867450396056 None\n",
      "0.047139672315942405 None\n",
      "0.04416964460235973 None\n",
      "0.04416906329394004 None\n",
      "0.05962925134627623 None\n"
     ]
    },
    {
     "data": {
      "application/vnd.jupyter.widget-view+json": {
       "model_id": "d01fe01387e844bd95bea42a7f71e3f8",
       "version_major": 2,
       "version_minor": 0
      },
      "text/plain": [
       "  0%|          | 0/2000 [00:00<?, ?it/s]"
      ]
     },
     "metadata": {},
     "output_type": "display_data"
    },
    {
     "name": "stdout",
     "output_type": "stream",
     "text": [
      "0.26394586463052727 None\n",
      "0.23547340285647403 None\n",
      "0.20747161089413252 None\n",
      "0.18005130679210993 None\n",
      "0.15332107710888865 None\n",
      "0.12747294979280963 None\n",
      "0.10261819117996243 None\n",
      "0.07880017598715952 None\n",
      "0.05610316951790149 None\n",
      "0.039027714550201056 None\n",
      "0.038993367523597756 None\n",
      "0.03901399498097141 None\n",
      "0.03897643121317158 None\n",
      "0.03899497687053546 None\n",
      "0.03898819669979832 None\n",
      "0.03899900989998238 None\n",
      "0.03901989482135525 None\n",
      "0.03902586318192756 None\n",
      "0.03897891370806122 None\n",
      "0.039039289552134995 None\n",
      "0.038996327232918036 None\n"
     ]
    },
    {
     "data": {
      "application/vnd.jupyter.widget-view+json": {
       "model_id": "1a4c0d22e5e849b5b420665e3f805524",
       "version_major": 2,
       "version_minor": 0
      },
      "text/plain": [
       "  0%|          | 0/2000 [00:00<?, ?it/s]"
      ]
     },
     "metadata": {},
     "output_type": "display_data"
    },
    {
     "name": "stdout",
     "output_type": "stream",
     "text": [
      "0.26873331062149153 None\n",
      "0.24060450216566495 None\n",
      "0.21287823863616095 None\n",
      "0.18560702839861143 None\n",
      "0.15896113809379395 None\n",
      "0.1331002672879831 None\n",
      "0.10816839206245218 None\n",
      "0.08429088526894633 None\n",
      "0.06156125135366718 None\n",
      "0.04505755230064913 None\n",
      "0.044872317246286396 None\n",
      "0.04486858358252292 None\n",
      "0.044868937718198075 None\n",
      "0.044862246000652875 None\n",
      "0.04486103196542026 None\n",
      "0.04485733292346946 None\n",
      "0.04486281236144822 None\n",
      "0.04490595859585677 None\n",
      "0.04487582840834715 None\n",
      "0.044862701706380015 None\n",
      "0.04484816335090782 None\n"
     ]
    },
    {
     "data": {
      "application/vnd.jupyter.widget-view+json": {
       "model_id": "63a7cedfce57493eb643453b5c38db67",
       "version_major": 2,
       "version_minor": 0
      },
      "text/plain": [
       "  0%|          | 0/2000 [00:00<?, ?it/s]"
      ]
     },
     "metadata": {},
     "output_type": "display_data"
    },
    {
     "name": "stdout",
     "output_type": "stream",
     "text": [
      "0.2643635186244686 None\n",
      "0.23621799555421663 None\n",
      "0.20834721391625824 None\n",
      "0.18095194664231734 None\n",
      "0.15420806900668135 None\n",
      "0.12827335057893718 None\n",
      "0.10331830599420438 None\n",
      "0.07943572338102507 None\n",
      "0.056688638706329605 None\n",
      "0.03850780542356187 None\n",
      "0.03806628975877782 None\n",
      "0.03810386107370558 None\n",
      "0.038051964244776325 None\n",
      "0.03807571803491801 None\n",
      "0.03805152931819684 None\n",
      "0.03810907506854022 None\n",
      "0.038051347153263096 None\n",
      "0.03811528594536821 None\n",
      "0.03807191458751357 None\n",
      "0.03811387471506919 None\n",
      "0.03805233406515135 None\n"
     ]
    },
    {
     "data": {
      "application/vnd.jupyter.widget-view+json": {
       "model_id": "807d2a666bfa427885bf331f3b83e364",
       "version_major": 2,
       "version_minor": 0
      },
      "text/plain": [
       "  0%|          | 0/2000 [00:00<?, ?it/s]"
      ]
     },
     "metadata": {},
     "output_type": "display_data"
    },
    {
     "name": "stdout",
     "output_type": "stream",
     "text": [
      "0.25959209283246715 None\n",
      "0.2317451427713061 None\n",
      "0.20418380115401655 None\n",
      "0.177053223504969 None\n",
      "0.15053739072483585 None\n",
      "0.12480579629407207 None\n",
      "0.10000562852342652 None\n",
      "0.0762559264296312 None\n",
      "0.05365854094824812 None\n",
      "0.03838972985802348 None\n",
      "0.038333458808076655 None\n",
      "0.03834584307278779 None\n",
      "0.038373437776553755 None\n",
      "0.038313349480353615 None\n",
      "0.03831441136010852 None\n",
      "0.03833291790034146 None\n",
      "0.03831134042660887 None\n",
      "0.03837513553575365 None\n",
      "0.03831971156173879 None\n",
      "0.03831485919805421 None\n",
      "0.03835278655641901 None\n"
     ]
    },
    {
     "data": {
      "application/vnd.jupyter.widget-view+json": {
       "model_id": "1fb8128b16b74d43a674a505695f354e",
       "version_major": 2,
       "version_minor": 0
      },
      "text/plain": [
       "  0%|          | 0/2000 [00:00<?, ?it/s]"
      ]
     },
     "metadata": {},
     "output_type": "display_data"
    },
    {
     "name": "stdout",
     "output_type": "stream",
     "text": [
      "0.26335814267486274 None\n",
      "0.23510007780628694 None\n",
      "0.20717377470250206 None\n",
      "0.17976767696825216 None\n",
      "0.15305694181110988 None\n",
      "0.1271854209734937 None\n",
      "0.10227618624558799 None\n",
      "0.07842468788140101 None\n",
      "0.055699806909476596 None\n",
      "0.0383898703357077 None\n",
      "0.03836723245413445 None\n",
      "0.03839557539885374 None\n",
      "0.038365898357614336 None\n",
      "0.03838661615513237 None\n",
      "0.0384120794066158 None\n",
      "0.03835128012781011 None\n",
      "0.03836259962239396 None\n",
      "0.03836730552037672 None\n",
      "0.038361690191719665 None\n",
      "0.03838889435204379 None\n",
      "0.038369665438037825 None\n"
     ]
    },
    {
     "data": {
      "application/vnd.jupyter.widget-view+json": {
       "model_id": "185143445de848cf91f80212456dffa2",
       "version_major": 2,
       "version_minor": 0
      },
      "text/plain": [
       "  0%|          | 0/2000 [00:00<?, ?it/s]"
      ]
     },
     "metadata": {},
     "output_type": "display_data"
    },
    {
     "name": "stdout",
     "output_type": "stream",
     "text": [
      "0.2629866433831781 None\n",
      "0.23480993627700658 None\n",
      "0.20692427079976008 None\n",
      "0.17952458324798 None\n",
      "0.15279046960180748 None\n",
      "0.12687952641797284 None\n",
      "0.101922674416791 None\n",
      "0.07802227098173246 None\n",
      "0.055252824666872154 None\n",
      "0.03696698833287437 None\n",
      "0.036703092650643115 None\n",
      "0.03667008493051765 None\n",
      "0.03667165100629713 None\n",
      "0.03669289727139601 None\n",
      "0.03669540392722942 None\n",
      "0.03670110839552482 None\n",
      "0.036711968850760966 None\n",
      "0.03674591503251484 None\n",
      "0.03674745198030002 None\n",
      "0.036679563224107474 None\n",
      "0.03668190337516995 None\n"
     ]
    },
    {
     "data": {
      "application/vnd.jupyter.widget-view+json": {
       "model_id": "8cf5ccfaffa04dac9fecce29f01810e5",
       "version_major": 2,
       "version_minor": 0
      },
      "text/plain": [
       "  0%|          | 0/2000 [00:00<?, ?it/s]"
      ]
     },
     "metadata": {},
     "output_type": "display_data"
    },
    {
     "name": "stdout",
     "output_type": "stream",
     "text": [
      "0.26051929636250737 None\n",
      "0.23257061717845667 None\n",
      "0.2048985363588245 None\n",
      "0.1776998112518365 None\n",
      "0.15115740499713007 None\n",
      "0.12543228520364752 None\n",
      "0.10065983604393117 None\n",
      "0.07694918560644802 None\n",
      "0.0543765244554432 None\n",
      "0.038619658062860406 None\n",
      "0.0386127843900518 None\n",
      "0.03862299383629939 None\n",
      "0.038636545469634236 None\n",
      "0.0386176464591782 None\n",
      "0.03860515955468566 None\n",
      "0.03860885340032498 None\n",
      "0.03861930630449957 None\n",
      "0.03860447235747953 None\n",
      "0.038623177650984435 None\n",
      "0.03867781657306214 None\n",
      "0.038605397554817365 None\n",
      "Done!\n"
     ]
    },
    {
     "data": {
      "application/vnd.jupyter.widget-view+json": {
       "model_id": "b739ed9317964158b4cbc7851755b658",
       "version_major": 2,
       "version_minor": 0
      },
      "text/plain": [
       "  0%|          | 0/2000 [00:00<?, ?it/s]"
      ]
     },
     "metadata": {},
     "output_type": "display_data"
    },
    {
     "name": "stdout",
     "output_type": "stream",
     "text": [
      "0.32609143814971847 None\n",
      "0.28220990486079267 None\n",
      "0.26315711452249524 None\n",
      "0.23867590807548691 None\n",
      "0.21580402351369543 None\n",
      "0.18817746968812707 None\n",
      "0.17522850350808544 None\n",
      "0.1354079507353006 None\n",
      "0.11034620364475033 None\n",
      "0.08858250046454044 None\n",
      "0.07497963375322814 None\n",
      "0.07487593047877479 None\n",
      "0.07489902639983051 None\n",
      "0.07486591130554111 None\n",
      "0.07487014557267285 None\n",
      "0.07488194407673854 None\n",
      "0.07486951570662975 None\n",
      "0.07486771166640475 None\n",
      "0.07488297323495817 None\n",
      "0.07487262058558558 None\n",
      "0.0748874072554099 None\n"
     ]
    },
    {
     "data": {
      "application/vnd.jupyter.widget-view+json": {
       "model_id": "8187c2fb24f64363976d7990adb155e5",
       "version_major": 2,
       "version_minor": 0
      },
      "text/plain": [
       "  0%|          | 0/2000 [00:00<?, ?it/s]"
      ]
     },
     "metadata": {},
     "output_type": "display_data"
    },
    {
     "name": "stdout",
     "output_type": "stream",
     "text": [
      "0.2942242391225024 None\n",
      "0.26345994177671456 None\n",
      "0.2468071005849748 None\n",
      "0.20360779171127819 None\n",
      "0.17349664848128538 None\n",
      "0.16350438953509214 None\n",
      "0.12203405342140791 None\n",
      "0.11414305138844746 None\n",
      "0.07461176778786226 None\n",
      "0.05375734520938256 None\n",
      "0.05336440938160285 None\n",
      "0.05335885258969889 None\n",
      "0.05337305666209045 None\n",
      "0.05335066667915698 None\n",
      "0.05336269280910673 None\n",
      "0.05335912163037635 None\n",
      "0.06966033594407345 None\n",
      "0.06967539229490372 None\n",
      "0.05338545698322214 None\n",
      "0.05572877436673043 None\n",
      "0.05335992124960037 None\n"
     ]
    },
    {
     "data": {
      "application/vnd.jupyter.widget-view+json": {
       "model_id": "00b97609d4874de696850a29aefccdae",
       "version_major": 2,
       "version_minor": 0
      },
      "text/plain": [
       "  0%|          | 0/2000 [00:00<?, ?it/s]"
      ]
     },
     "metadata": {},
     "output_type": "display_data"
    },
    {
     "name": "stdout",
     "output_type": "stream",
     "text": [
      "0.2859545072412135 None\n",
      "0.2570357407871001 None\n",
      "0.2284666753954857 None\n",
      "0.20031105918111636 None\n",
      "0.17273769686189416 None\n",
      "0.14598160183562853 None\n",
      "0.12015173502922431 None\n",
      "0.09539507537628115 None\n",
      "0.07177722240073336 None\n",
      "0.05574627623504048 None\n",
      "0.055660630657177676 None\n",
      "0.05570924796992474 None\n",
      "0.05565683620678987 None\n",
      "0.0556631518888286 None\n",
      "0.055644984470633214 None\n",
      "0.05565479122896006 None\n",
      "0.0556540457969232 None\n",
      "0.05564575820618391 None\n",
      "0.05565640131192058 None\n",
      "0.05569046099545479 None\n",
      "0.05566107843044505 None\n"
     ]
    },
    {
     "data": {
      "application/vnd.jupyter.widget-view+json": {
       "model_id": "7612b666f47f44de87fcd5ed09dc368f",
       "version_major": 2,
       "version_minor": 0
      },
      "text/plain": [
       "  0%|          | 0/2000 [00:00<?, ?it/s]"
      ]
     },
     "metadata": {},
     "output_type": "display_data"
    },
    {
     "name": "stdout",
     "output_type": "stream",
     "text": [
      "0.2929881871804292 None\n",
      "0.26356110388888054 None\n",
      "0.23435814296381127 None\n",
      "0.20568383377127156 None\n",
      "0.1782467697808646 None\n",
      "0.1520817274445504 None\n",
      "0.1269494371401295 None\n",
      "0.10289428658712832 None\n",
      "0.07999901923173078 None\n",
      "0.06517513432119659 None\n",
      "0.06514416527802194 None\n",
      "0.06512674233509161 None\n",
      "0.06513107553350657 None\n",
      "0.06516781133206626 None\n",
      "0.06513456570426723 None\n",
      "0.06512454640892151 None\n",
      "0.06515739632872061 None\n",
      "0.06515632157208177 None\n",
      "0.06515096468384626 None\n",
      "0.06515579379695408 None\n",
      "0.06514877914334405 None\n"
     ]
    },
    {
     "data": {
      "application/vnd.jupyter.widget-view+json": {
       "model_id": "74877c855208428ab053678cd1512195",
       "version_major": 2,
       "version_minor": 0
      },
      "text/plain": [
       "  0%|          | 0/2000 [00:00<?, ?it/s]"
      ]
     },
     "metadata": {},
     "output_type": "display_data"
    },
    {
     "name": "stdout",
     "output_type": "stream",
     "text": [
      "0.2803331549227464 None\n",
      "0.252079489781711 None\n",
      "0.22422475906525965 None\n",
      "0.19671718170988645 None\n",
      "0.16973290297631466 None\n",
      "0.14348646951200508 None\n",
      "0.1181531799102955 None\n",
      "0.09386394771450275 None\n",
      "0.07070985096683673 None\n",
      "0.05429035271064793 None\n",
      "0.0540656913313577 None\n",
      "0.054059525444145766 None\n",
      "0.05406288317253847 None\n",
      "0.054063733429544784 None\n",
      "0.054110355970059185 None\n",
      "0.05407395771457101 None\n",
      "0.05407375929543142 None\n",
      "0.05405602451506863 None\n",
      "0.05411028777527738 None\n",
      "0.054083457571877325 None\n",
      "0.05411088391680371 None\n"
     ]
    },
    {
     "data": {
      "application/vnd.jupyter.widget-view+json": {
       "model_id": "e821841b8f6544e8a08ab0df149bcf0d",
       "version_major": 2,
       "version_minor": 0
      },
      "text/plain": [
       "  0%|          | 0/2000 [00:00<?, ?it/s]"
      ]
     },
     "metadata": {},
     "output_type": "display_data"
    },
    {
     "name": "stdout",
     "output_type": "stream",
     "text": [
      "0.2741808978412407 None\n",
      "0.24616415303505687 None\n",
      "0.21839566874989658 None\n",
      "0.19108997053798538 None\n",
      "0.16442233335073847 None\n",
      "0.13855260502159303 None\n",
      "0.11362434163612291 None\n",
      "0.08974696272072252 None\n",
      "0.06699682825074388 None\n",
      "0.05268597179561177 None\n",
      "0.05263090928533086 None\n",
      "0.052664552372507126 None\n",
      "0.05260693988690894 None\n",
      "0.0526144321889702 None\n",
      "0.05258858908092321 None\n",
      "0.05258882843306925 None\n",
      "0.05265452090743937 None\n",
      "0.05259287237690825 None\n",
      "0.05262342391555529 None\n",
      "0.05261353719985085 None\n",
      "0.0526352836674028 None\n"
     ]
    },
    {
     "data": {
      "application/vnd.jupyter.widget-view+json": {
       "model_id": "4ed316223db446c08f8f0424c60bccbc",
       "version_major": 2,
       "version_minor": 0
      },
      "text/plain": [
       "  0%|          | 0/2000 [00:00<?, ?it/s]"
      ]
     },
     "metadata": {},
     "output_type": "display_data"
    },
    {
     "name": "stdout",
     "output_type": "stream",
     "text": [
      "0.2771555842188414 None\n",
      "0.2510171536512437 None\n",
      "0.22289614780636127 None\n",
      "0.19293687825550368 None\n",
      "0.16611592105337744 None\n",
      "0.14253072109470552 None\n",
      "0.11515617664060974 None\n",
      "0.09122665055810109 None\n",
      "0.0708234450629549 None\n",
      "0.05253323903455895 None\n",
      "0.05250970215901671 None\n",
      "0.0688452394782671 None\n",
      "0.05250278524179072 None\n",
      "0.052477395223521114 None\n",
      "0.052517382769132606 None\n",
      "0.06880201569039085 None\n",
      "0.06883486484087753 None\n",
      "0.05249395833525154 None\n",
      "0.05252989534819859 None\n",
      "0.0525153748166763 None\n",
      "0.05250885765591439 None\n"
     ]
    },
    {
     "data": {
      "application/vnd.jupyter.widget-view+json": {
       "model_id": "782b0b30462942d4aa2514a1d3882ca2",
       "version_major": 2,
       "version_minor": 0
      },
      "text/plain": [
       "  0%|          | 0/2000 [00:00<?, ?it/s]"
      ]
     },
     "metadata": {},
     "output_type": "display_data"
    },
    {
     "name": "stdout",
     "output_type": "stream",
     "text": [
      "0.27467837647862753 None\n",
      "0.24624115246193276 None\n",
      "0.21798065823952856 None\n",
      "0.1902255596096577 None\n",
      "0.1632124956187434 None\n",
      "0.13709264089030923 None\n",
      "0.11198788771951684 None\n",
      "0.08797261183509088 None\n",
      "0.06509221198008852 None\n",
      "0.04695376097154429 None\n",
      "0.04655529431694361 None\n",
      "0.04656187810954799 None\n",
      "0.04659598223025556 None\n",
      "0.04657609509205336 None\n",
      "0.046579480389329804 None\n",
      "0.04664004954103011 None\n",
      "0.046566953742266624 None\n",
      "0.04656742444547189 None\n",
      "0.04655765622206165 None\n",
      "0.046619542574146265 None\n",
      "0.04665127383780133 None\n"
     ]
    },
    {
     "data": {
      "application/vnd.jupyter.widget-view+json": {
       "model_id": "ae576736d88c490e82bab2ea11deb676",
       "version_major": 2,
       "version_minor": 0
      },
      "text/plain": [
       "  0%|          | 0/2000 [00:00<?, ?it/s]"
      ]
     },
     "metadata": {},
     "output_type": "display_data"
    },
    {
     "name": "stdout",
     "output_type": "stream",
     "text": [
      "0.2624018272698217 None\n",
      "0.23722736663239757 None\n",
      "0.20756197841566912 None\n",
      "0.18307408518511983 None\n",
      "0.1544687741889234 None\n",
      "0.13139178368744797 None\n",
      "0.10450107909503781 None\n",
      "0.08338281573972578 None\n",
      "0.058755380718508624 None\n",
      "0.04769835522366271 None\n",
      "0.04764769869454541 None\n",
      "0.04765314562029621 None\n",
      "0.04770856603911586 None\n",
      "0.0476588270981701 None\n",
      "0.04764619315032219 None\n",
      "0.047669629715524645 None\n",
      "0.04767446998478972 None\n",
      "0.04767788825325345 None\n",
      "0.04765368773847296 None\n",
      "0.04765009061722506 None\n",
      "0.047673953017328456 None\n"
     ]
    },
    {
     "data": {
      "application/vnd.jupyter.widget-view+json": {
       "model_id": "6af9988ac8794009b87d21162892d783",
       "version_major": 2,
       "version_minor": 0
      },
      "text/plain": [
       "  0%|          | 0/2000 [00:00<?, ?it/s]"
      ]
     },
     "metadata": {},
     "output_type": "display_data"
    },
    {
     "name": "stdout",
     "output_type": "stream",
     "text": [
      "0.26636871914611276 None\n",
      "0.23860178045835015 None\n",
      "0.2110944949503108 None\n",
      "0.18404161477983655 None\n",
      "0.15763036948544076 None\n",
      "0.1320250290538843 None\n",
      "0.10736069378426781 None\n",
      "0.08377005114328998 None\n",
      "0.06130207964063935 None\n",
      "0.04891586640009654 None\n",
      "0.048957782421843454 None\n",
      "0.04890999796387589 None\n",
      "0.048934191228314675 None\n",
      "0.04892331141376233 None\n",
      "0.048915376541584274 None\n",
      "0.04892088538602938 None\n",
      "0.04892848357127149 None\n",
      "0.048946712141872656 None\n",
      "0.048921917944200526 None\n",
      "0.04891155639218969 None\n",
      "0.048914972244036424 None\n",
      "Done!\n"
     ]
    },
    {
     "data": {
      "application/vnd.jupyter.widget-view+json": {
       "model_id": "ebf7df186ed8447f8af9d3396bd8c6d1",
       "version_major": 2,
       "version_minor": 0
      },
      "text/plain": [
       "  0%|          | 0/2000 [00:00<?, ?it/s]"
      ]
     },
     "metadata": {},
     "output_type": "display_data"
    },
    {
     "name": "stdout",
     "output_type": "stream",
     "text": [
      "0.31245110740132553 None\n",
      "0.2873883686180897 None\n",
      "0.2380732319819899 None\n",
      "0.19749689464982761 None\n",
      "0.16074266600035453 None\n",
      "0.13942212822097202 None\n",
      "0.11325826368810157 None\n",
      "0.09717006173165493 None\n",
      "0.07671413167478519 None\n",
      "0.08533837251471271 None\n",
      "0.08536436409123352 None\n",
      "0.0690292411794837 None\n",
      "0.06903615302101629 None\n",
      "0.06903896770737696 None\n",
      "0.0853366119882596 None\n",
      "0.06903529651359572 None\n",
      "0.0766966474030731 None\n",
      "0.07671050220183115 None\n",
      "0.06907475655022974 None\n",
      "0.0690865199848756 None\n",
      "0.06902656763096558 None\n"
     ]
    },
    {
     "data": {
      "application/vnd.jupyter.widget-view+json": {
       "model_id": "62f3f02630dd479e8abe2726c04b4bf7",
       "version_major": 2,
       "version_minor": 0
      },
      "text/plain": [
       "  0%|          | 0/2000 [00:00<?, ?it/s]"
      ]
     },
     "metadata": {},
     "output_type": "display_data"
    },
    {
     "name": "stdout",
     "output_type": "stream",
     "text": [
      "0.2938686728900695 None\n",
      "0.27804015644010965 None\n",
      "0.23775302343356666 None\n",
      "0.21521320512333086 None\n",
      "0.16930611098029041 None\n",
      "0.1494697737999412 None\n",
      "0.13237803643470414 None\n",
      "0.09932127561949558 None\n",
      "0.076176492242041 None\n",
      "0.057588482616618794 None\n",
      "0.07388796241547677 None\n",
      "0.06525578376206527 None\n",
      "0.06521891237081895 None\n",
      "0.057546246264007894 None\n",
      "0.07385118834533258 None\n",
      "0.06522891065806044 None\n",
      "0.057552559577735786 None\n",
      "0.057544851946382695 None\n",
      "0.05757542440649253 None\n",
      "0.057559565045164775 None\n",
      "0.07385171061534034 None\n"
     ]
    },
    {
     "data": {
      "application/vnd.jupyter.widget-view+json": {
       "model_id": "4304f678ed184037bf5d6247c030ee30",
       "version_major": 2,
       "version_minor": 0
      },
      "text/plain": [
       "  0%|          | 0/2000 [00:00<?, ?it/s]"
      ]
     },
     "metadata": {},
     "output_type": "display_data"
    },
    {
     "name": "stdout",
     "output_type": "stream",
     "text": [
      "0.28585528122109527 None\n",
      "0.24790042068216117 None\n",
      "0.2260085070705407 None\n",
      "0.19043584501871386 None\n",
      "0.16367844966625772 None\n",
      "0.1375080320741855 None\n",
      "0.11253430513956761 None\n",
      "0.0886169725315259 None\n",
      "0.06577512095773963 None\n",
      "0.056708220395905645 None\n",
      "0.05671128367937864 None\n",
      "0.056698339175055415 None\n",
      "0.056710963149404825 None\n",
      "0.05671094061054237 None\n",
      "0.056762904128111816 None\n",
      "0.05670386744183103 None\n",
      "0.05671662598707493 None\n",
      "0.056707147883892604 None\n",
      "0.05673004320455177 None\n",
      "0.05674671256323811 None\n",
      "0.05671161038389339 None\n"
     ]
    },
    {
     "data": {
      "application/vnd.jupyter.widget-view+json": {
       "model_id": "7b6c78f0cbc2495c8a4049b9cbfed740",
       "version_major": 2,
       "version_minor": 0
      },
      "text/plain": [
       "  0%|          | 0/2000 [00:00<?, ?it/s]"
      ]
     },
     "metadata": {},
     "output_type": "display_data"
    },
    {
     "name": "stdout",
     "output_type": "stream",
     "text": [
      "0.2782346410334179 None\n",
      "0.24904386513918586 None\n",
      "0.22935269710777723 None\n",
      "0.18585376728554523 None\n",
      "0.15916189652228954 None\n",
      "0.13322646584933284 None\n",
      "0.10828221771687585 None\n",
      "0.08433595246275637 None\n",
      "0.06144379657554395 None\n",
      "0.05575767096686055 None\n",
      "0.0556702507064226 None\n",
      "0.05570032479194918 None\n",
      "0.05574857893439223 None\n",
      "0.05569285825121004 None\n",
      "0.055692165477810515 None\n",
      "0.055683712489025705 None\n",
      "0.05567786203994201 None\n",
      "0.05570702487663401 None\n",
      "0.05570785805518408 None\n",
      "0.0557034563956561 None\n",
      "0.0556732705859573 None\n"
     ]
    },
    {
     "data": {
      "application/vnd.jupyter.widget-view+json": {
       "model_id": "930e5b9506a4447da9a82afbc0cf3c9e",
       "version_major": 2,
       "version_minor": 0
      },
      "text/plain": [
       "  0%|          | 0/2000 [00:00<?, ?it/s]"
      ]
     },
     "metadata": {},
     "output_type": "display_data"
    },
    {
     "name": "stdout",
     "output_type": "stream",
     "text": [
      "0.2645477130069887 None\n",
      "0.2361016538187773 None\n",
      "0.20805129928900384 None\n",
      "0.18049761754931917 None\n",
      "0.15368777456553462 None\n",
      "0.12775536602854834 None\n",
      "0.10280345737483032 None\n",
      "0.0789191698715079 None\n",
      "0.05616798193432742 None\n",
      "0.051446792025977135 None\n",
      "0.05143958388777305 None\n",
      "0.05145181426715562 None\n",
      "0.05144011922080564 None\n",
      "0.051439508750083976 None\n",
      "0.05147440197273033 None\n",
      "0.05148038217628273 None\n",
      "0.05144534075180515 None\n",
      "0.05144909438720857 None\n",
      "0.05148144331593047 None\n",
      "0.0514384881787996 None\n",
      "0.05145255947041245 None\n"
     ]
    },
    {
     "data": {
      "application/vnd.jupyter.widget-view+json": {
       "model_id": "e506139b78f64946a3860e1f92a1afa1",
       "version_major": 2,
       "version_minor": 0
      },
      "text/plain": [
       "  0%|          | 0/2000 [00:00<?, ?it/s]"
      ]
     },
     "metadata": {},
     "output_type": "display_data"
    },
    {
     "name": "stdout",
     "output_type": "stream",
     "text": [
      "0.2660641627678797 None\n",
      "0.23770153854883316 None\n",
      "0.22597706227349018 None\n",
      "0.1821307811729999 None\n",
      "0.1552317049250617 None\n",
      "0.12918080304811097 None\n",
      "0.10413404349291572 None\n",
      "0.08012770592609883 None\n",
      "0.07356334175762236 None\n",
      "0.05902916140503398 None\n",
      "0.05133725465893593 None\n",
      "0.051383481008528964 None\n",
      "0.051363730844976974 None\n",
      "0.05135065390719117 None\n",
      "0.05134724653495697 None\n",
      "0.05133506065534721 None\n",
      "0.0676362124571305 None\n",
      "0.05134421922838667 None\n",
      "0.06767398463917311 None\n",
      "0.059023844714084284 None\n",
      "0.05132912324733928 None\n"
     ]
    },
    {
     "data": {
      "application/vnd.jupyter.widget-view+json": {
       "model_id": "7d161afcec3f476e8553a9a81c288ced",
       "version_major": 2,
       "version_minor": 0
      },
      "text/plain": [
       "  0%|          | 0/2000 [00:00<?, ?it/s]"
      ]
     },
     "metadata": {},
     "output_type": "display_data"
    },
    {
     "name": "stdout",
     "output_type": "stream",
     "text": [
      "0.2709495247750598 None\n",
      "0.2585728373894516 None\n",
      "0.21388994415409587 None\n",
      "0.18605660912323324 None\n",
      "0.15922167957459643 None\n",
      "0.13333198549837877 None\n",
      "0.10838008528930121 None\n",
      "0.08444552945235317 None\n",
      "0.061606436576991094 None\n",
      "0.05380835072074294 None\n",
      "0.053848298331264956 None\n",
      "0.05384369445538803 None\n",
      "0.05383785062128538 None\n",
      "0.053804099634808526 None\n",
      "0.05381914428927686 None\n",
      "0.05380182663284779 None\n",
      "0.05382521634562227 None\n",
      "0.053834741015580515 None\n",
      "0.05380327731536436 None\n",
      "0.05382821370786024 None\n",
      "0.05384168466945711 None\n"
     ]
    },
    {
     "data": {
      "application/vnd.jupyter.widget-view+json": {
       "model_id": "aa2b919ca7e341718fd433fe663e55bf",
       "version_major": 2,
       "version_minor": 0
      },
      "text/plain": [
       "  0%|          | 0/2000 [00:00<?, ?it/s]"
      ]
     },
     "metadata": {},
     "output_type": "display_data"
    },
    {
     "name": "stdout",
     "output_type": "stream",
     "text": [
      "0.2555099934868672 None\n",
      "0.24410385144396102 None\n",
      "0.2167979581556499 None\n",
      "0.1814032934830231 None\n",
      "0.15521498000587192 None\n",
      "0.12207917246271409 None\n",
      "0.09747762107002224 None\n",
      "0.07412634920917008 None\n",
      "0.05172959361347556 None\n",
      "0.051571477106090655 None\n",
      "0.051588949804599646 None\n",
      "0.05157136021923145 None\n",
      "0.051595174175229 None\n",
      "0.05164943786353844 None\n",
      "0.051553769213256044 None\n",
      "0.05156390202816934 None\n",
      "0.05155833025802611 None\n",
      "0.05155436899291979 None\n",
      "0.05157409703679763 None\n",
      "0.05158586333651309 None\n",
      "0.05161174070907295 None\n"
     ]
    },
    {
     "data": {
      "application/vnd.jupyter.widget-view+json": {
       "model_id": "0450944251714739bfcd95e48cf7263d",
       "version_major": 2,
       "version_minor": 0
      },
      "text/plain": [
       "  0%|          | 0/2000 [00:00<?, ?it/s]"
      ]
     },
     "metadata": {},
     "output_type": "display_data"
    },
    {
     "name": "stdout",
     "output_type": "stream",
     "text": [
      "0.26551705401111775 None\n",
      "0.22984401993613954 None\n",
      "0.20230720999005217 None\n",
      "0.1750480495286706 None\n",
      "0.14838496361399797 None\n",
      "0.12251486119406277 None\n",
      "0.09761608280965833 None\n",
      "0.07381292523260108 None\n",
      "0.05115630610778503 None\n",
      "0.04733216943242094 None\n",
      "0.047315646579731946 None\n",
      "0.047357222263480374 None\n",
      "0.047315405440668944 None\n",
      "0.047388894583947135 None\n",
      "0.04732341485794709 None\n",
      "0.04731594103037685 None\n",
      "0.047389831738046076 None\n",
      "0.047371285249738534 None\n",
      "0.04732927843792808 None\n",
      "0.047311162517963044 None\n",
      "0.04737677245928325 None\n"
     ]
    },
    {
     "data": {
      "application/vnd.jupyter.widget-view+json": {
       "model_id": "0cd33e39fcaa415d9adc159fae2531a5",
       "version_major": 2,
       "version_minor": 0
      },
      "text/plain": [
       "  0%|          | 0/2000 [00:00<?, ?it/s]"
      ]
     },
     "metadata": {},
     "output_type": "display_data"
    },
    {
     "name": "stdout",
     "output_type": "stream",
     "text": [
      "0.2584596838869393 None\n",
      "0.2307147059034843 None\n",
      "0.2032365519010655 None\n",
      "0.17623682024388476 None\n",
      "0.14987568229754836 None\n",
      "0.12430224419378559 None\n",
      "0.09964801245750102 None\n",
      "0.07601761918846389 None\n",
      "0.0534868987531528 None\n",
      "0.05090794086160068 None\n",
      "0.050936065278482406 None\n",
      "0.0508759347153634 None\n",
      "0.050910629666262065 None\n",
      "0.05094411065499115 None\n",
      "0.050867149312708804 None\n",
      "0.05085653206670601 None\n",
      "0.050903231764514056 None\n",
      "0.050872356410064205 None\n",
      "0.05089661438846179 None\n",
      "0.05090869392177762 None\n",
      "0.05087226930194572 None\n"
     ]
    },
    {
     "data": {
      "application/vnd.jupyter.widget-view+json": {
       "model_id": "99f575ebf72e4f0d9a9e93fd2cad83fc",
       "version_major": 2,
       "version_minor": 0
      },
      "text/plain": [
       "  0%|          | 0/2000 [00:00<?, ?it/s]"
      ]
     },
     "metadata": {},
     "output_type": "display_data"
    },
    {
     "name": "stdout",
     "output_type": "stream",
     "text": [
      "0.2838362256928913 None\n",
      "0.24006651927850767 None\n",
      "0.22914221946607458 None\n",
      "0.18596542856127127 None\n",
      "0.17605675647374128 None\n",
      "0.13427592677419087 None\n",
      "0.10979931750821126 None\n",
      "0.08676363363756437 None\n",
      "0.06457834547839206 None\n",
      "0.06411756125034992 None\n",
      "0.0641776157477266 None\n",
      "0.06412981027743658 None\n",
      "0.06412199662050723 None\n",
      "0.06412713495039653 None\n",
      "0.064129249008824 None\n",
      "0.06411737140021764 None\n",
      "0.06411969718144606 None\n",
      "0.06413012619610671 None\n",
      "0.06414043676880413 None\n",
      "0.06422179679640089 None\n",
      "0.0641406428816751 None\n",
      "Done!\n"
     ]
    },
    {
     "data": {
      "application/vnd.jupyter.widget-view+json": {
       "model_id": "99c93aebf6004871b3d6051a72cb91d7",
       "version_major": 2,
       "version_minor": 0
      },
      "text/plain": [
       "  0%|          | 0/2000 [00:00<?, ?it/s]"
      ]
     },
     "metadata": {},
     "output_type": "display_data"
    },
    {
     "name": "stdout",
     "output_type": "stream",
     "text": [
      "0.3425082936198151 None\n",
      "0.31620127264163506 None\n",
      "0.26534822483915554 None\n",
      "0.2244643410390237 None\n",
      "0.19210940290493964 None\n",
      "0.16062711268865748 None\n",
      "0.1308455907490265 None\n",
      "0.10272734301636031 None\n",
      "0.07634065950717452 None\n",
      "0.06372202183065742 None\n",
      "0.06371409247107701 None\n",
      "0.06370689914985583 None\n",
      "0.06371911656443868 None\n",
      "0.06370234435604542 None\n",
      "0.06370215651657016 None\n",
      "0.06377052451937185 None\n",
      "0.06370319057281396 None\n",
      "0.06370593614406628 None\n",
      "0.06370965577270624 None\n",
      "0.06371018196220574 None\n",
      "0.06370428627213837 None\n"
     ]
    },
    {
     "data": {
      "application/vnd.jupyter.widget-view+json": {
       "model_id": "c4ab27e6cfbd4fac983344edb238abba",
       "version_major": 2,
       "version_minor": 0
      },
      "text/plain": [
       "  0%|          | 0/2000 [00:00<?, ?it/s]"
      ]
     },
     "metadata": {},
     "output_type": "display_data"
    },
    {
     "name": "stdout",
     "output_type": "stream",
     "text": [
      "0.2949772871863549 None\n",
      "0.2613452325994727 None\n",
      "0.24555809250727084 None\n",
      "0.1985019154233587 None\n",
      "0.16948360966257128 None\n",
      "0.14394893150944707 None\n",
      "0.118987633171391 None\n",
      "0.09955825784027605 None\n",
      "0.07190210538753891 None\n",
      "0.06677146849338944 None\n",
      "0.04730006894595653 None\n",
      "0.0473244816112983 None\n",
      "0.051974139324486295 None\n",
      "0.04733019935638429 None\n",
      "0.06362469589907697 None\n",
      "0.04730052502830974 None\n",
      "0.05196113098364827 None\n",
      "0.051961645048153884 None\n",
      "0.04729230698850178 None\n",
      "0.047302875852539304 None\n",
      "0.0636581369710857 None\n"
     ]
    },
    {
     "data": {
      "application/vnd.jupyter.widget-view+json": {
       "model_id": "dfe222e593344a9f84f3fd3d35f6f19e",
       "version_major": 2,
       "version_minor": 0
      },
      "text/plain": [
       "  0%|          | 0/2000 [00:00<?, ?it/s]"
      ]
     },
     "metadata": {},
     "output_type": "display_data"
    },
    {
     "name": "stdout",
     "output_type": "stream",
     "text": [
      "0.28514599014616626 None\n",
      "0.24097187394235095 None\n",
      "0.2127079405177611 None\n",
      "0.1850539687033385 None\n",
      "0.15823651889822712 None\n",
      "0.1326102036797693 None\n",
      "0.10784795342291881 None\n",
      "0.0839744147219878 None\n",
      "0.06113456808926717 None\n",
      "0.04312633359369036 None\n",
      "0.043011092782479464 None\n",
      "0.043045991947075736 None\n",
      "0.04305807516624535 None\n",
      "0.043026592869422176 None\n",
      "0.04301418592965691 None\n",
      "0.04301522923739375 None\n",
      "0.04303138440407138 None\n",
      "0.043018745007079515 None\n",
      "0.04302870906069638 None\n",
      "0.043030708928863806 None\n",
      "0.043016507922742635 None\n"
     ]
    },
    {
     "data": {
      "application/vnd.jupyter.widget-view+json": {
       "model_id": "594bfe3d678c467a89f743f4e13a06cf",
       "version_major": 2,
       "version_minor": 0
      },
      "text/plain": [
       "  0%|          | 0/2000 [00:00<?, ?it/s]"
      ]
     },
     "metadata": {},
     "output_type": "display_data"
    },
    {
     "name": "stdout",
     "output_type": "stream",
     "text": [
      "0.2756812941067709 None\n",
      "0.2509287794902897 None\n",
      "0.2221261063293738 None\n",
      "0.18945450817384896 None\n",
      "0.16228933903691856 None\n",
      "0.13609941473391546 None\n",
      "0.11576049091753543 None\n",
      "0.08717939348500246 None\n",
      "0.06430542965170831 None\n",
      "0.05888483302510332 None\n",
      "0.046856318792927884 None\n",
      "0.042177635464232796 None\n",
      "0.04683251651844554 None\n",
      "0.04686753365335117 None\n",
      "0.04218287732475176 None\n",
      "0.042170652322818566 None\n",
      "0.042203982365935935 None\n",
      "0.042198230087695965 None\n",
      "0.04682597317275969 None\n",
      "0.04219417446366543 None\n",
      "0.058502389225396266 None\n"
     ]
    },
    {
     "data": {
      "application/vnd.jupyter.widget-view+json": {
       "model_id": "20e388ceb139461c8c671282cd9896f0",
       "version_major": 2,
       "version_minor": 0
      },
      "text/plain": [
       "  0%|          | 0/2000 [00:00<?, ?it/s]"
      ]
     },
     "metadata": {},
     "output_type": "display_data"
    },
    {
     "name": "stdout",
     "output_type": "stream",
     "text": [
      "0.2760902470992985 None\n",
      "0.24647846358324715 None\n",
      "0.21754276631480568 None\n",
      "0.18948254073244702 None\n",
      "0.16247601752097024 None\n",
      "0.136732884745135 None\n",
      "0.11213585455643296 None\n",
      "0.0885483542857375 None\n",
      "0.0660054225356706 None\n",
      "0.0445570842542718 None\n",
      "0.039814126295650086 None\n",
      "0.03982311692529744 None\n",
      "0.039798871649179834 None\n",
      "0.03981719151756019 None\n",
      "0.03982282118503572 None\n",
      "0.0398386451044276 None\n",
      "0.03979445367341032 None\n",
      "0.03982634098018173 None\n",
      "0.03984634524811393 None\n",
      "0.039809415630400524 None\n",
      "0.03981760268979036 None\n"
     ]
    },
    {
     "data": {
      "application/vnd.jupyter.widget-view+json": {
       "model_id": "0e632ed1d3814f1f9f784713e9fe5fba",
       "version_major": 2,
       "version_minor": 0
      },
      "text/plain": [
       "  0%|          | 0/2000 [00:00<?, ?it/s]"
      ]
     },
     "metadata": {},
     "output_type": "display_data"
    },
    {
     "name": "stdout",
     "output_type": "stream",
     "text": [
      "0.2799348158393986 None\n",
      "0.25100297433239743 None\n",
      "0.22258327774765402 None\n",
      "0.19475787579248738 None\n",
      "0.1676800481802352 None\n",
      "0.1414913324361587 None\n",
      "0.1163067190893286 None\n",
      "0.09221736518777114 None\n",
      "0.06928829899558714 None\n",
      "0.047559346717367355 None\n",
      "0.04473390923214174 None\n",
      "0.04473913281528746 None\n",
      "0.044766188653420684 None\n",
      "0.04473736992252408 None\n",
      "0.04474452331895968 None\n",
      "0.04481560118715109 None\n",
      "0.04476903464125782 None\n",
      "0.044748639838162366 None\n",
      "0.04481322144927796 None\n",
      "0.044752304853991905 None\n",
      "0.04476382259976051 None\n"
     ]
    },
    {
     "data": {
      "application/vnd.jupyter.widget-view+json": {
       "model_id": "4a14e2fa59d3452c96c0f1f7da964ace",
       "version_major": 2,
       "version_minor": 0
      },
      "text/plain": [
       "  0%|          | 0/2000 [00:00<?, ?it/s]"
      ]
     },
     "metadata": {},
     "output_type": "display_data"
    },
    {
     "name": "stdout",
     "output_type": "stream",
     "text": [
      "0.27863233522396075 None\n",
      "0.24972175277137773 None\n",
      "0.22112021474417315 None\n",
      "0.19303314929847523 None\n",
      "0.16565982492843806 None\n",
      "0.1391802433659147 None\n",
      "0.1138067133553592 None\n",
      "0.08957151904612058 None\n",
      "0.06650315223651714 None\n",
      "0.04463297605919497 None\n",
      "0.04081204841005355 None\n",
      "0.04081025102436369 None\n",
      "0.040809598023939284 None\n",
      "0.04081605085982772 None\n",
      "0.0408233638509851 None\n",
      "0.040811659410876444 None\n",
      "0.04080898967313935 None\n",
      "0.04081010084989543 None\n",
      "0.04081475766790392 None\n",
      "0.040856902653053834 None\n",
      "0.040813864369798836 None\n"
     ]
    },
    {
     "data": {
      "application/vnd.jupyter.widget-view+json": {
       "model_id": "1592fa3d9eaa49fe8a0fc650977c449e",
       "version_major": 2,
       "version_minor": 0
      },
      "text/plain": [
       "  0%|          | 0/2000 [00:00<?, ?it/s]"
      ]
     },
     "metadata": {},
     "output_type": "display_data"
    },
    {
     "name": "stdout",
     "output_type": "stream",
     "text": [
      "0.27449275318554583 None\n",
      "0.24618352170633037 None\n",
      "0.2182386709692169 None\n",
      "0.1908788489678847 None\n",
      "0.16422555476147502 None\n",
      "0.13839329479606924 None\n",
      "0.11349548052919252 None\n",
      "0.08962802383942708 None\n",
      "0.06686343220621223 None\n",
      "0.04524942766575266 None\n",
      "0.04370870960124301 None\n",
      "0.04370491738883428 None\n",
      "0.043703820146981806 None\n",
      "0.043705869676848544 None\n",
      "0.04369645135371992 None\n",
      "0.04366486111285911 None\n",
      "0.04366241799265924 None\n",
      "0.04372424050696989 None\n",
      "0.04366610511803177 None\n",
      "0.04371158298152176 None\n",
      "0.043682868276422517 None\n"
     ]
    },
    {
     "data": {
      "application/vnd.jupyter.widget-view+json": {
       "model_id": "822d12c244924d6a91297e433b635f32",
       "version_major": 2,
       "version_minor": 0
      },
      "text/plain": [
       "  0%|          | 0/2000 [00:00<?, ?it/s]"
      ]
     },
     "metadata": {},
     "output_type": "display_data"
    },
    {
     "name": "stdout",
     "output_type": "stream",
     "text": [
      "0.26433491929522157 None\n",
      "0.2363887581963695 None\n",
      "0.20862635690376943 None\n",
      "0.18134389488746921 None\n",
      "0.15476593872925318 None\n",
      "0.12905501350643153 None\n",
      "0.10432757789966354 None\n",
      "0.08065615782015373 None\n",
      "0.05810440938220403 None\n",
      "0.03689969853446602 None\n",
      "0.03682077660074793 None\n",
      "0.036846757495610616 None\n",
      "0.0368310894274602 None\n",
      "0.03682563001328096 None\n",
      "0.03682292058343549 None\n",
      "0.03682296663931581 None\n",
      "0.03687651517833448 None\n",
      "0.03688049009379657 None\n",
      "0.03683154364268794 None\n",
      "0.03686549737318795 None\n",
      "0.03686757403501838 None\n"
     ]
    },
    {
     "data": {
      "application/vnd.jupyter.widget-view+json": {
       "model_id": "6fb066650e3f43048dcd9ab8656a87db",
       "version_major": 2,
       "version_minor": 0
      },
      "text/plain": [
       "  0%|          | 0/2000 [00:00<?, ?it/s]"
      ]
     },
     "metadata": {},
     "output_type": "display_data"
    },
    {
     "name": "stdout",
     "output_type": "stream",
     "text": [
      "0.27016191744903506 None\n",
      "0.24216302845468177 None\n",
      "0.21442571269063115 None\n",
      "0.18719992220577433 None\n",
      "0.16069065450528905 None\n",
      "0.1349805814740403 None\n",
      "0.11021520716522275 None\n",
      "0.08650070247518955 None\n",
      "0.06391300964012514 None\n",
      "0.0454391198427226 None\n",
      "0.045077291871464774 None\n",
      "0.04510736384468285 None\n",
      "0.04505090379305603 None\n",
      "0.045058887174810935 None\n",
      "0.04507757485794861 None\n",
      "0.045067921611939545 None\n",
      "0.045053385679778624 None\n",
      "0.045054308824015135 None\n",
      "0.04507340022290252 None\n",
      "0.04504828096493264 None\n",
      "0.045108658902018414 None\n",
      "Done!\n"
     ]
    },
    {
     "data": {
      "application/vnd.jupyter.widget-view+json": {
       "model_id": "5011e293d6bc4dffb0de170adf9ef80e",
       "version_major": 2,
       "version_minor": 0
      },
      "text/plain": [
       "  0%|          | 0/2000 [00:00<?, ?it/s]"
      ]
     },
     "metadata": {},
     "output_type": "display_data"
    },
    {
     "name": "stdout",
     "output_type": "stream",
     "text": [
      "0.23139475415818245 None\n",
      "0.20487085776288355 None\n",
      "0.167298865846889 None\n",
      "0.13384798580450538 None\n",
      "0.10454818608836185 None\n",
      "0.07619277938499554 None\n",
      "0.06282929614982487 None\n",
      "0.06282495886765335 None\n",
      "0.0628455363501816 None\n",
      "0.06282841621698018 None\n",
      "0.06282077327636632 None\n",
      "0.06281192749595589 None\n",
      "0.06281960430268248 None\n",
      "0.06281405381972818 None\n",
      "0.06285087290230555 None\n",
      "0.06281395703136532 None\n",
      "0.06283667460529584 None\n",
      "0.06284627076935613 None\n",
      "0.06282984336276864 None\n",
      "0.06282959759658521 None\n",
      "0.0628167656334721 None\n"
     ]
    },
    {
     "data": {
      "application/vnd.jupyter.widget-view+json": {
       "model_id": "a322c8212a8b46e2859572e6f4c7918b",
       "version_major": 2,
       "version_minor": 0
      },
      "text/plain": [
       "  0%|          | 0/2000 [00:00<?, ?it/s]"
      ]
     },
     "metadata": {},
     "output_type": "display_data"
    },
    {
     "name": "stdout",
     "output_type": "stream",
     "text": [
      "0.24246149167679973 None\n",
      "0.21389589611972878 None\n",
      "0.18535380280400823 None\n",
      "0.15746149687004782 None\n",
      "0.13086515532502177 None\n",
      "0.10591817108469348 None\n",
      "0.0816476616653912 None\n",
      "0.058253736842534265 None\n",
      "0.046184198378535844 None\n",
      "0.04617078269828265 None\n",
      "0.0461974919603911 None\n",
      "0.046175651324766954 None\n",
      "0.04619632640315937 None\n",
      "0.04619977351301577 None\n",
      "0.04616855516360262 None\n",
      "0.04617694490227154 None\n",
      "0.046172022000100434 None\n",
      "0.046205786865546744 None\n",
      "0.04617763582439747 None\n",
      "0.04618222730254881 None\n",
      "0.0461819573967493 None\n"
     ]
    },
    {
     "data": {
      "application/vnd.jupyter.widget-view+json": {
       "model_id": "d90a6ffb2898467995600db283e8230a",
       "version_major": 2,
       "version_minor": 0
      },
      "text/plain": [
       "  0%|          | 0/2000 [00:00<?, ?it/s]"
      ]
     },
     "metadata": {},
     "output_type": "display_data"
    },
    {
     "name": "stdout",
     "output_type": "stream",
     "text": [
      "0.26506368673036956 None\n",
      "0.2353147814895666 None\n",
      "0.20622884603629105 None\n",
      "0.17775823476805955 None\n",
      "0.1500503824623447 None\n",
      "0.12314320983453253 None\n",
      "0.09728938154582459 None\n",
      "0.07270408335909967 None\n",
      "0.04941773986473599 None\n",
      "0.045836900284979956 None\n",
      "0.04583446090667511 None\n",
      "0.045864603933771175 None\n",
      "0.0458521745115205 None\n",
      "0.04586415840661963 None\n",
      "0.04580908737671909 None\n",
      "0.04584774716500778 None\n",
      "0.04582794788350327 None\n",
      "0.04580953201670232 None\n",
      "0.04584017280033846 None\n",
      "0.045846586824972876 None\n",
      "0.04584646155646091 None\n"
     ]
    },
    {
     "data": {
      "application/vnd.jupyter.widget-view+json": {
       "model_id": "59962cdf57874f719ad527a6737249b0",
       "version_major": 2,
       "version_minor": 0
      },
      "text/plain": [
       "  0%|          | 0/2000 [00:00<?, ?it/s]"
      ]
     },
     "metadata": {},
     "output_type": "display_data"
    },
    {
     "name": "stdout",
     "output_type": "stream",
     "text": [
      "0.25233638130379843 None\n",
      "0.22351299275119518 None\n",
      "0.1949720408742618 None\n",
      "0.166926249672912 None\n",
      "0.13969717513733604 None\n",
      "0.11354449082217526 None\n",
      "0.08840734263197766 None\n",
      "0.06430762455760441 None\n",
      "0.041325631263972484 None\n",
      "0.039403622362985426 None\n",
      "0.03942691432044605 None\n",
      "0.03940540253286895 None\n",
      "0.03941916632629825 None\n",
      "0.039460194559222686 None\n",
      "0.03944295576033705 None\n",
      "0.039418106352913165 None\n",
      "0.03940633330932951 None\n",
      "0.039408061868783956 None\n",
      "0.03940213607560194 None\n",
      "0.03941884414789284 None\n",
      "0.03940263360802212 None\n"
     ]
    },
    {
     "data": {
      "application/vnd.jupyter.widget-view+json": {
       "model_id": "d18f26165291411c92b88da6981d8dd3",
       "version_major": 2,
       "version_minor": 0
      },
      "text/plain": [
       "  0%|          | 0/2000 [00:00<?, ?it/s]"
      ]
     },
     "metadata": {},
     "output_type": "display_data"
    },
    {
     "name": "stdout",
     "output_type": "stream",
     "text": [
      "0.2464750148320381 None\n",
      "0.22792318447262586 None\n",
      "0.18880745678415137 None\n",
      "0.17162442458542207 None\n",
      "0.13420325027890465 None\n",
      "0.10834395186192804 None\n",
      "0.08336765497021259 None\n",
      "0.059579038862826526 None\n",
      "0.036992899195563 None\n",
      "0.03560397358453605 None\n",
      "0.03560687072639436 None\n",
      "0.035601744146162885 None\n",
      "0.03565403207304288 None\n",
      "0.0356077868371385 None\n",
      "0.03567773212551071 None\n",
      "0.03562161115421055 None\n",
      "0.035603282412499195 None\n",
      "0.0356156574352362 None\n",
      "0.03562392868618844 None\n",
      "0.035650520465855935 None\n",
      "0.035614835633565725 None\n"
     ]
    },
    {
     "data": {
      "application/vnd.jupyter.widget-view+json": {
       "model_id": "d3f2fac3d9a949a7bce3297ea199b78b",
       "version_major": 2,
       "version_minor": 0
      },
      "text/plain": [
       "  0%|          | 0/2000 [00:00<?, ?it/s]"
      ]
     },
     "metadata": {},
     "output_type": "display_data"
    },
    {
     "name": "stdout",
     "output_type": "stream",
     "text": [
      "0.24568089538460328 None\n",
      "0.21694997502836794 None\n",
      "0.1886451275746868 None\n",
      "0.16113011571323785 None\n",
      "0.13435073658210717 None\n",
      "0.1083990916716139 None\n",
      "0.09488393316795384 None\n",
      "0.07612345157740785 None\n",
      "0.053529940613732084 None\n",
      "0.05071700934580634 None\n",
      "0.04587595820972935 None\n",
      "0.0349444804226179 None\n",
      "0.050768431502903735 None\n",
      "0.03491936754037052 None\n",
      "0.03499088127218556 None\n",
      "0.034909343998114094 None\n",
      "0.03495271979799069 None\n",
      "0.04587741758580971 None\n",
      "0.05073968999499423 None\n",
      "0.04585121485525125 None\n",
      "0.034914462550840325 None\n"
     ]
    },
    {
     "data": {
      "application/vnd.jupyter.widget-view+json": {
       "model_id": "0849c032875c4085aad5c4fca2040531",
       "version_major": 2,
       "version_minor": 0
      },
      "text/plain": [
       "  0%|          | 0/2000 [00:00<?, ?it/s]"
      ]
     },
     "metadata": {},
     "output_type": "display_data"
    },
    {
     "name": "stdout",
     "output_type": "stream",
     "text": [
      "0.2504039418780333 None\n",
      "0.23221531536006487 None\n",
      "0.19285336244976495 None\n",
      "0.164968519932031 None\n",
      "0.1380158253990081 None\n",
      "0.11205145554747208 None\n",
      "0.08711158125867714 None\n",
      "0.06325015701187461 None\n",
      "0.040521082485733294 None\n",
      "0.03714373572249457 None\n",
      "0.037150673749938856 None\n",
      "0.03715290306283911 None\n",
      "0.03717426514947999 None\n",
      "0.037196542767876664 None\n",
      "0.03718357339177506 None\n",
      "0.03715884755385631 None\n",
      "0.03716986391105246 None\n",
      "0.037193680264173086 None\n",
      "0.037153738084525746 None\n",
      "0.037245050550818955 None\n",
      "0.03719613203425824 None\n"
     ]
    },
    {
     "data": {
      "application/vnd.jupyter.widget-view+json": {
       "model_id": "4b07dc0918a746a68255c4b0f925fb8c",
       "version_major": 2,
       "version_minor": 0
      },
      "text/plain": [
       "  0%|          | 0/2000 [00:00<?, ?it/s]"
      ]
     },
     "metadata": {},
     "output_type": "display_data"
    },
    {
     "name": "stdout",
     "output_type": "stream",
     "text": [
      "0.2518917571193875 None\n",
      "0.22325174260910594 None\n",
      "0.20564355709539997 None\n",
      "0.1674585671595457 None\n",
      "0.14056625950396623 None\n",
      "0.11452928553666654 None\n",
      "0.10004380292487729 None\n",
      "0.0760515634681226 None\n",
      "0.042592411506071425 None\n",
      "0.03721204835271969 None\n",
      "0.037288572810392696 None\n",
      "0.03726017928754756 None\n",
      "0.037213704176563965 None\n",
      "0.03724232826212759 None\n",
      "0.03719557990154188 None\n",
      "0.03719618649192315 None\n",
      "0.03720997890852622 None\n",
      "0.03723870388797822 None\n",
      "0.037232799355715065 None\n",
      "0.03730526935615122 None\n",
      "0.03720911968682451 None\n"
     ]
    },
    {
     "data": {
      "application/vnd.jupyter.widget-view+json": {
       "model_id": "c4af2334b7a64c30b9ef41923ceb0503",
       "version_major": 2,
       "version_minor": 0
      },
      "text/plain": [
       "  0%|          | 0/2000 [00:00<?, ?it/s]"
      ]
     },
     "metadata": {},
     "output_type": "display_data"
    },
    {
     "name": "stdout",
     "output_type": "stream",
     "text": [
      "0.23774246122308962 None\n",
      "0.21011769009529624 None\n",
      "0.18271467669760708 None\n",
      "0.1557745938622242 None\n",
      "0.1294836969487602 None\n",
      "0.10399396027739427 None\n",
      "0.07943441970218136 None\n",
      "0.055906464881791705 None\n",
      "0.0358815014785124 None\n",
      "0.035360102369714576 None\n",
      "0.035364595818455316 None\n",
      "0.03533557653441355 None\n",
      "0.03534702065412257 None\n",
      "0.035372047696184745 None\n",
      "0.035345672539100356 None\n",
      "0.035360677411597395 None\n",
      "0.035324783091697225 None\n",
      "0.035364793931381956 None\n",
      "0.035358444465774956 None\n",
      "0.03535372583887998 None\n",
      "0.035336891009799386 None\n"
     ]
    },
    {
     "data": {
      "application/vnd.jupyter.widget-view+json": {
       "model_id": "da0641d0c2094ecbb90271065131e868",
       "version_major": 2,
       "version_minor": 0
      },
      "text/plain": [
       "  0%|          | 0/2000 [00:00<?, ?it/s]"
      ]
     },
     "metadata": {},
     "output_type": "display_data"
    },
    {
     "name": "stdout",
     "output_type": "stream",
     "text": [
      "0.2477433159731805 None\n",
      "0.21945644781046228 None\n",
      "0.19146160337162635 None\n",
      "0.16396013383668567 None\n",
      "0.13712838289377824 None\n",
      "0.1111268634764689 None\n",
      "0.08608832211849475 None\n",
      "0.062114795333775875 None\n",
      "0.0392780277175945 None\n",
      "0.03620827753013411 None\n",
      "0.0362277206434537 None\n",
      "0.03620446111210351 None\n",
      "0.036210784302483146 None\n",
      "0.03621464021418777 None\n",
      "0.03628509301221068 None\n",
      "0.03623911080399084 None\n",
      "0.03619468437085341 None\n",
      "0.036246642504126306 None\n",
      "0.03621566852957636 None\n",
      "0.03621257875019327 None\n",
      "0.03619935546135391 None\n"
     ]
    },
    {
     "data": {
      "application/vnd.jupyter.widget-view+json": {
       "model_id": "cdad7ffe440c44c4b8c54b63952c4c03",
       "version_major": 2,
       "version_minor": 0
      },
      "text/plain": [
       "  0%|          | 0/2000 [00:00<?, ?it/s]"
      ]
     },
     "metadata": {},
     "output_type": "display_data"
    },
    {
     "name": "stdout",
     "output_type": "stream",
     "text": [
      "0.24887917721562233 None\n",
      "0.23201589232680633 None\n",
      "0.19252755746579517 None\n",
      "0.18131245279748615 None\n",
      "0.13832482021940604 None\n",
      "0.11243072013336003 None\n",
      "0.0874197173604016 None\n",
      "0.0634868846699187 None\n",
      "0.04070984607807276 None\n",
      "0.0368851282351512 None\n",
      "0.03688736400713892 None\n",
      "0.036882747174911634 None\n",
      "0.03685342269995589 None\n",
      "0.03686627210767485 None\n",
      "0.036871071425218095 None\n",
      "0.0369010637763944 None\n",
      "0.036872400441937556 None\n",
      "0.03693824349508101 None\n",
      "0.036873627394666555 None\n",
      "0.0368544337548801 None\n",
      "0.03686729919698903 None\n",
      "Done!\n"
     ]
    },
    {
     "data": {
      "application/vnd.jupyter.widget-view+json": {
       "model_id": "578914b057694f0983e2e9be674deff3",
       "version_major": 2,
       "version_minor": 0
      },
      "text/plain": [
       "  0%|          | 0/2000 [00:00<?, ?it/s]"
      ]
     },
     "metadata": {},
     "output_type": "display_data"
    },
    {
     "name": "stdout",
     "output_type": "stream",
     "text": [
      "0.40816057349167206 None\n",
      "0.3837895527545146 None\n",
      "0.34244871357360596 None\n",
      "0.32241412392933505 None\n",
      "0.2561442065654407 None\n",
      "0.2275834636045522 None\n",
      "0.20097233456195068 None\n",
      "0.17555606758593237 None\n",
      "0.15196370975613316 None\n",
      "0.12962563148828796 None\n",
      "0.10791658609625814 None\n",
      "0.08699493577886094 None\n",
      "0.0834607710319897 None\n",
      "0.0834664731198271 None\n",
      "0.08348809286584033 None\n",
      "0.08349750006787775 None\n",
      "0.0834902287447762 None\n",
      "0.0834672891598295 None\n",
      "0.08349893020027502 None\n",
      "0.08346152058107348 None\n",
      "0.08348068643002526 None\n"
     ]
    },
    {
     "data": {
      "application/vnd.jupyter.widget-view+json": {
       "model_id": "a4189981677d4f1fb5e2c441971f67cb",
       "version_major": 2,
       "version_minor": 0
      },
      "text/plain": [
       "  0%|          | 0/2000 [00:00<?, ?it/s]"
      ]
     },
     "metadata": {},
     "output_type": "display_data"
    },
    {
     "name": "stdout",
     "output_type": "stream",
     "text": [
      "0.3119506391234954 None\n",
      "0.2798032203095335 None\n",
      "0.24829806251381947 None\n",
      "0.2174215919786452 None\n",
      "0.1874959840305004 None\n",
      "0.1590747257710798 None\n",
      "0.1325214068907784 None\n",
      "0.10754026159818814 None\n",
      "0.0840979069080805 None\n",
      "0.062152259914346704 None\n",
      "0.05215230142193604 None\n",
      "0.05211180274104623 None\n",
      "0.05208599711215581 None\n",
      "0.052109720841169084 None\n",
      "0.052111594571601465 None\n",
      "0.05212214063619309 None\n",
      "0.05208723660657753 None\n",
      "0.05209145496571241 None\n",
      "0.05210350251850625 None\n",
      "0.05210661932795643 None\n",
      "0.05209428283602394 None\n"
     ]
    },
    {
     "data": {
      "application/vnd.jupyter.widget-view+json": {
       "model_id": "4de412ddf36f4a949de76a55508cbbd6",
       "version_major": 2,
       "version_minor": 0
      },
      "text/plain": [
       "  0%|          | 0/2000 [00:00<?, ?it/s]"
      ]
     },
     "metadata": {},
     "output_type": "display_data"
    },
    {
     "name": "stdout",
     "output_type": "stream",
     "text": [
      "0.29290987458599566 None\n",
      "0.27876044103816167 None\n",
      "0.24888048699925006 None\n",
      "0.22024939757536463 None\n",
      "0.193147539862363 None\n",
      "0.15070261546087305 None\n",
      "0.1255193662367794 None\n",
      "0.10134667856798195 None\n",
      "0.07825307263979328 None\n",
      "0.05631702961526377 None\n",
      "0.06845858983917769 None\n",
      "0.05216062381156303 None\n",
      "0.06851586464603626 None\n",
      "0.05216036727191376 None\n",
      "0.06845448819523905 None\n",
      "0.06845317634772147 None\n",
      "0.05216432145599254 None\n",
      "0.05217049163510934 None\n",
      "0.05216380037854076 None\n",
      "0.05215510877110452 None\n",
      "0.05215227049636894 None\n"
     ]
    },
    {
     "data": {
      "application/vnd.jupyter.widget-view+json": {
       "model_id": "d0247495a26242639da21828e086e0bf",
       "version_major": 2,
       "version_minor": 0
      },
      "text/plain": [
       "  0%|          | 0/2000 [00:00<?, ?it/s]"
      ]
     },
     "metadata": {},
     "output_type": "display_data"
    },
    {
     "name": "stdout",
     "output_type": "stream",
     "text": [
      "0.2795314136808682 None\n",
      "0.2507038512804451 None\n",
      "0.22281306462435335 None\n",
      "0.1957987231619646 None\n",
      "0.1693867161148811 None\n",
      "0.14367512537922314 None\n",
      "0.11880484457106245 None\n",
      "0.09491027570458486 None\n",
      "0.07212139504248716 None\n",
      "0.053058431991842236 None\n",
      "0.052620425937778464 None\n",
      "0.05261775970608629 None\n",
      "0.05260280209842387 None\n",
      "0.052589393662383764 None\n",
      "0.052597953656538535 None\n",
      "0.05264471788274181 None\n",
      "0.05258665685940443 None\n",
      "0.05263357045716754 None\n",
      "0.05258571033609709 None\n",
      "0.05262166344426787 None\n",
      "0.05259947427256128 None\n"
     ]
    },
    {
     "data": {
      "application/vnd.jupyter.widget-view+json": {
       "model_id": "4addb558ac984930bb7baa4d4fa69bb1",
       "version_major": 2,
       "version_minor": 0
      },
      "text/plain": [
       "  0%|          | 0/2000 [00:00<?, ?it/s]"
      ]
     },
     "metadata": {},
     "output_type": "display_data"
    },
    {
     "name": "stdout",
     "output_type": "stream",
     "text": [
      "0.28334441877191047 None\n",
      "0.2554737773532275 None\n",
      "0.22707320278424098 None\n",
      "0.19896484436367906 None\n",
      "0.17147704879663025 None\n",
      "0.14484597359685095 None\n",
      "0.11942460632297103 None\n",
      "0.09519565301040975 None\n",
      "0.07231345337065073 None\n",
      "0.05067006846421767 None\n",
      "0.04874460491396012 None\n",
      "0.04871813105001777 None\n",
      "0.04871679871808281 None\n",
      "0.04876836649686076 None\n",
      "0.048763192380207224 None\n",
      "0.048735657812881396 None\n",
      "0.048719441664028224 None\n",
      "0.048735918494365704 None\n",
      "0.04871293758681232 None\n",
      "0.04872220978677435 None\n",
      "0.04875642765519893 None\n"
     ]
    },
    {
     "data": {
      "application/vnd.jupyter.widget-view+json": {
       "model_id": "bd660fc578e2473db63ada44e49af70c",
       "version_major": 2,
       "version_minor": 0
      },
      "text/plain": [
       "  0%|          | 0/2000 [00:00<?, ?it/s]"
      ]
     },
     "metadata": {},
     "output_type": "display_data"
    },
    {
     "name": "stdout",
     "output_type": "stream",
     "text": [
      "0.2844707837016937 None\n",
      "0.25648752457303015 None\n",
      "0.22872286124888297 None\n",
      "0.20143192357614773 None\n",
      "0.17484984309209112 None\n",
      "0.14913340441003237 None\n",
      "0.1243729471754149 None\n",
      "0.10064566296492147 None\n",
      "0.07804629803451883 None\n",
      "0.05835235219848901 None\n",
      "0.05785143213621667 None\n",
      "0.05783598382317379 None\n",
      "0.05782847655973378 None\n",
      "0.05783474875165795 None\n",
      "0.057850686383030606 None\n",
      "0.05783634047224891 None\n",
      "0.057864038382207675 None\n",
      "0.057889359127815204 None\n",
      "0.057859190360644394 None\n",
      "0.05781954367731429 None\n",
      "0.05783757371562359 None\n"
     ]
    },
    {
     "data": {
      "application/vnd.jupyter.widget-view+json": {
       "model_id": "80c036417d5f4bbdb1c0f32d6d1eb913",
       "version_major": 2,
       "version_minor": 0
      },
      "text/plain": [
       "  0%|          | 0/2000 [00:00<?, ?it/s]"
      ]
     },
     "metadata": {},
     "output_type": "display_data"
    },
    {
     "name": "stdout",
     "output_type": "stream",
     "text": [
      "0.2728915222307587 None\n",
      "0.244999961442167 None\n",
      "0.21744493389138822 None\n",
      "0.19044808382652614 None\n",
      "0.164086809181999 None\n",
      "0.1385108105811766 None\n",
      "0.1138586296108085 None\n",
      "0.09024310397737534 None\n",
      "0.06773770836770782 None\n",
      "0.04638025696700003 None\n",
      "0.04596654903900789 None\n",
      "0.04596214715739638 None\n",
      "0.04594732523779711 None\n",
      "0.04595951872643621 None\n",
      "0.04594408200873299 None\n",
      "0.04595215080207943 None\n",
      "0.04598644572040948 None\n",
      "0.04595550422429889 None\n",
      "0.045956746126975354 None\n",
      "0.04595682157539571 None\n",
      "0.04597880656491478 None\n"
     ]
    },
    {
     "data": {
      "application/vnd.jupyter.widget-view+json": {
       "model_id": "34d248a51c844023bbb8437d1749c785",
       "version_major": 2,
       "version_minor": 0
      },
      "text/plain": [
       "  0%|          | 0/2000 [00:00<?, ?it/s]"
      ]
     },
     "metadata": {},
     "output_type": "display_data"
    },
    {
     "name": "stdout",
     "output_type": "stream",
     "text": [
      "0.2804217878059593 None\n",
      "0.25211548124976607 None\n",
      "0.22415930826509134 None\n",
      "0.19677543271188008 None\n",
      "0.1700914357138157 None\n",
      "0.14422904907847722 None\n",
      "0.11931844061738431 None\n",
      "0.0954646307973568 None\n",
      "0.07274269972830028 None\n",
      "0.05119830049907288 None\n",
      "0.04887718301068557 None\n",
      "0.04887876668251425 None\n",
      "0.048886901286374115 None\n",
      "0.04891033265532667 None\n",
      "0.04888439165776293 None\n",
      "0.04889060924964328 None\n",
      "0.04891675630675061 None\n",
      "0.048904277303224 None\n",
      "0.04887626456391921 None\n",
      "0.04894479234342912 None\n",
      "0.04891444844160277 None\n"
     ]
    },
    {
     "data": {
      "application/vnd.jupyter.widget-view+json": {
       "model_id": "91434291928c41ce8754f254d4b04df2",
       "version_major": 2,
       "version_minor": 0
      },
      "text/plain": [
       "  0%|          | 0/2000 [00:00<?, ?it/s]"
      ]
     },
     "metadata": {},
     "output_type": "display_data"
    },
    {
     "name": "stdout",
     "output_type": "stream",
     "text": [
      "0.29430508681690154 None\n",
      "0.26652533470844514 None\n",
      "0.22256613589524557 None\n",
      "0.21167394770403214 None\n",
      "0.16879726434310618 None\n",
      "0.15934320303903207 None\n",
      "0.11834498095470213 None\n",
      "0.09470545729152148 None\n",
      "0.07213481990138973 None\n",
      "0.05071305991481617 None\n",
      "0.05056018159897389 None\n",
      "0.05057683960627744 None\n",
      "0.050579048733472784 None\n",
      "0.05057576477585217 None\n",
      "0.05054797934513674 None\n",
      "0.05056921466816448 None\n",
      "0.05056425246969855 None\n",
      "0.050560417660917775 None\n",
      "0.05057600716324666 None\n",
      "0.05054938187493498 None\n",
      "0.05056470499294426 None\n",
      "Done!\n"
     ]
    },
    {
     "data": {
      "application/vnd.jupyter.widget-view+json": {
       "model_id": "77f92c18112140b3aa43385b14b42950",
       "version_major": 2,
       "version_minor": 0
      },
      "text/plain": [
       "  0%|          | 0/2000 [00:00<?, ?it/s]"
      ]
     },
     "metadata": {},
     "output_type": "display_data"
    },
    {
     "name": "stdout",
     "output_type": "stream",
     "text": [
      "0.33411539773232685 None\n",
      "0.31971370017458756 None\n",
      "0.27911411341572245 None\n",
      "0.22540221861091586 None\n",
      "0.18996358425718737 None\n",
      "0.15706324651926099 None\n",
      "0.1449156027361001 None\n",
      "0.10197473894767801 None\n",
      "0.09416338337028322 None\n",
      "0.08211205248538186 None\n",
      "0.07009103286135956 None\n",
      "0.08210713754007462 None\n",
      "0.08642271835147736 None\n",
      "0.07008856197497146 None\n",
      "0.08640825959068961 None\n",
      "0.07010319417195573 None\n",
      "0.07009700063102717 None\n",
      "0.08639134244290259 None\n",
      "0.08639253697083168 None\n",
      "0.07008281338653767 None\n",
      "0.08643246714521222 None\n"
     ]
    },
    {
     "data": {
      "application/vnd.jupyter.widget-view+json": {
       "model_id": "51cf11748d2e49599684c4e5241f003e",
       "version_major": 2,
       "version_minor": 0
      },
      "text/plain": [
       "  0%|          | 0/2000 [00:00<?, ?it/s]"
      ]
     },
     "metadata": {},
     "output_type": "display_data"
    },
    {
     "name": "stdout",
     "output_type": "stream",
     "text": [
      "0.2945997691441484 None\n",
      "0.26791205273673685 None\n",
      "0.23304984282840843 None\n",
      "0.19182809946375562 None\n",
      "0.18063335276304732 None\n",
      "0.13892655970330156 None\n",
      "0.11484320264264257 None\n",
      "0.09154195178752582 None\n",
      "0.06947761904668975 None\n",
      "0.06466832590123914 None\n",
      "0.06460264065684812 None\n",
      "0.06461955778941575 None\n",
      "0.06461566007098968 None\n",
      "0.06460851895722719 None\n",
      "0.06464415363742207 None\n",
      "0.06461164728067745 None\n",
      "0.06464476020886342 None\n",
      "0.06461760574916792 None\n",
      "0.06463085030798763 None\n",
      "0.0646142091730665 None\n",
      "0.06460193556428143 None\n"
     ]
    },
    {
     "data": {
      "application/vnd.jupyter.widget-view+json": {
       "model_id": "c428f41426904e97a29860ebcd04b640",
       "version_major": 2,
       "version_minor": 0
      },
      "text/plain": [
       "  0%|          | 0/2000 [00:00<?, ?it/s]"
      ]
     },
     "metadata": {},
     "output_type": "display_data"
    },
    {
     "name": "stdout",
     "output_type": "stream",
     "text": [
      "0.2922204005155207 None\n",
      "0.2587248284717741 None\n",
      "0.21792425408790236 None\n",
      "0.1906869930790213 None\n",
      "0.1635294392670502 None\n",
      "0.13710033922116635 None\n",
      "0.11161417881046018 None\n",
      "0.08723702337363153 None\n",
      "0.06406105794764894 None\n",
      "0.05038489798105515 None\n",
      "0.050392748574843306 None\n",
      "0.05039904496890501 None\n",
      "0.05038652675223953 None\n",
      "0.0504301267747636 None\n",
      "0.05039849509251557 None\n",
      "0.05041129108971093 None\n",
      "0.050444023223405916 None\n",
      "0.05041122328904232 None\n",
      "0.05041757831559434 None\n",
      "0.05038952619534199 None\n",
      "0.05039604123401241 None\n"
     ]
    },
    {
     "data": {
      "application/vnd.jupyter.widget-view+json": {
       "model_id": "5fba022cba4342e3b3263b92a6c11697",
       "version_major": 2,
       "version_minor": 0
      },
      "text/plain": [
       "  0%|          | 0/2000 [00:00<?, ?it/s]"
      ]
     },
     "metadata": {},
     "output_type": "display_data"
    },
    {
     "name": "stdout",
     "output_type": "stream",
     "text": [
      "0.28145889968411103 None\n",
      "0.2524050841795082 None\n",
      "0.22386599203238433 None\n",
      "0.19592406354576794 None\n",
      "0.16876526944670625 None\n",
      "0.1588718830449386 None\n",
      "0.13373934564133486 None\n",
      "0.10973867283670657 None\n",
      "0.07057042064752725 None\n",
      "0.05676356471754193 None\n",
      "0.05674584626105284 None\n",
      "0.05675193221412412 None\n",
      "0.06874124150346575 None\n",
      "0.0687425261324354 None\n",
      "0.05677127958801925 None\n",
      "0.05674878429229982 None\n",
      "0.05673781524071052 None\n",
      "0.056793252485944204 None\n",
      "0.056768569182579776 None\n",
      "0.07307305283757069 None\n",
      "0.05675604948863009 None\n"
     ]
    },
    {
     "data": {
      "application/vnd.jupyter.widget-view+json": {
       "model_id": "2485173643ce4ca7836f87663fb7f0ba",
       "version_major": 2,
       "version_minor": 0
      },
      "text/plain": [
       "  0%|          | 0/2000 [00:00<?, ?it/s]"
      ]
     },
     "metadata": {},
     "output_type": "display_data"
    },
    {
     "name": "stdout",
     "output_type": "stream",
     "text": [
      "0.2803023539343608 None\n",
      "0.2515519325015879 None\n",
      "0.22316137272686123 None\n",
      "0.21158907443178404 None\n",
      "0.16802530429085769 None\n",
      "0.14188516996241896 None\n",
      "0.11665390556418509 None\n",
      "0.092563874971209 None\n",
      "0.06976367223436009 None\n",
      "0.053763468717789545 None\n",
      "0.05363681315072163 None\n",
      "0.053722417924967056 None\n",
      "0.05364799741416178 None\n",
      "0.053642417161204936 None\n",
      "0.053713492160512424 None\n",
      "0.053660371924387204 None\n",
      "0.05365708114894133 None\n",
      "0.05363966359166547 None\n",
      "0.05370689422076224 None\n",
      "0.053685933924545404 None\n",
      "0.05366780190370108 None\n"
     ]
    },
    {
     "data": {
      "application/vnd.jupyter.widget-view+json": {
       "model_id": "d9c157b279ec4d7dbac93a4a6274b5ae",
       "version_major": 2,
       "version_minor": 0
      },
      "text/plain": [
       "  0%|          | 0/2000 [00:00<?, ?it/s]"
      ]
     },
     "metadata": {},
     "output_type": "display_data"
    },
    {
     "name": "stdout",
     "output_type": "stream",
     "text": [
      "0.28247445711322294 None\n",
      "0.25358299962952147 None\n",
      "0.2249376488998948 None\n",
      "0.19674403741031415 None\n",
      "0.16929121868242866 None\n",
      "0.14285463544861127 None\n",
      "0.11753811879607216 None\n",
      "0.09337510228857744 None\n",
      "0.07041055585820588 None\n",
      "0.05425532831098553 None\n",
      "0.0540254993775956 None\n",
      "0.054060783833868156 None\n",
      "0.05403393492837374 None\n",
      "0.053998442607752974 None\n",
      "0.05401174881098468 None\n",
      "0.05408910935827705 None\n",
      "0.05399922114542224 None\n",
      "0.05402559783224569 None\n",
      "0.054022383498714126 None\n",
      "0.05401909072532093 None\n",
      "0.05400797358742677 None\n"
     ]
    },
    {
     "data": {
      "application/vnd.jupyter.widget-view+json": {
       "model_id": "58d96003c8ae45b8bbecc2f5d1249c60",
       "version_major": 2,
       "version_minor": 0
      },
      "text/plain": [
       "  0%|          | 0/2000 [00:00<?, ?it/s]"
      ]
     },
     "metadata": {},
     "output_type": "display_data"
    },
    {
     "name": "stdout",
     "output_type": "stream",
     "text": [
      "0.2736994974725049 None\n",
      "0.2454147721608751 None\n",
      "0.21736990111253804 None\n",
      "0.18979259201027898 None\n",
      "0.16289259898549388 None\n",
      "0.13683376405576544 None\n",
      "0.11174280372135191 None\n",
      "0.08774653464417491 None\n",
      "0.06493378117537998 None\n",
      "0.050197379891976514 None\n",
      "0.0501310129065298 None\n",
      "0.05011680646068659 None\n",
      "0.05011036527730031 None\n",
      "0.05013015306959558 None\n",
      "0.05011265396272271 None\n",
      "0.050104011860524336 None\n",
      "0.05010584413928422 None\n",
      "0.050123991611753994 None\n",
      "0.050112109890999505 None\n",
      "0.05010867895316089 None\n",
      "0.050094231008060326 None\n"
     ]
    },
    {
     "data": {
      "application/vnd.jupyter.widget-view+json": {
       "model_id": "9f48ccdf10424f8884317271da988337",
       "version_major": 2,
       "version_minor": 0
      },
      "text/plain": [
       "  0%|          | 0/2000 [00:00<?, ?it/s]"
      ]
     },
     "metadata": {},
     "output_type": "display_data"
    },
    {
     "name": "stdout",
     "output_type": "stream",
     "text": [
      "0.2735842336639074 None\n",
      "0.24537296544167767 None\n",
      "0.21741940296303885 None\n",
      "0.189927934009677 None\n",
      "0.16308924097981697 None\n",
      "0.13707399821334268 None\n",
      "0.11202993895262384 None\n",
      "0.08808496664648091 None\n",
      "0.06534022855449258 None\n",
      "0.05307913859533119 None\n",
      "0.05308213351077324 None\n",
      "0.05308534695735717 None\n",
      "0.053115096054404294 None\n",
      "0.053076651968628215 None\n",
      "0.05309417991800661 None\n",
      "0.053122100894717764 None\n",
      "0.053136513626846724 None\n",
      "0.053082418156920746 None\n",
      "0.053086002876797975 None\n",
      "0.053078157686133526 None\n",
      "0.05308460369327394 None\n"
     ]
    },
    {
     "data": {
      "application/vnd.jupyter.widget-view+json": {
       "model_id": "297afa02ccba4fb392fee9cae9a05db5",
       "version_major": 2,
       "version_minor": 0
      },
      "text/plain": [
       "  0%|          | 0/2000 [00:00<?, ?it/s]"
      ]
     },
     "metadata": {},
     "output_type": "display_data"
    },
    {
     "name": "stdout",
     "output_type": "stream",
     "text": [
      "0.2836421773404755 None\n",
      "0.25131181792750645 None\n",
      "0.21152224757434457 None\n",
      "0.1841679572795715 None\n",
      "0.15746388321021118 None\n",
      "0.1315914968890975 None\n",
      "0.11869159919890532 None\n",
      "0.08289632935178887 None\n",
      "0.060241739873793776 None\n",
      "0.04693846751663393 None\n",
      "0.06324939713271116 None\n",
      "0.046931737854408836 None\n",
      "0.06325059606703888 None\n",
      "0.06326831681872509 None\n",
      "0.05892144607961368 None\n",
      "0.046938014893756395 None\n",
      "0.05895787013275215 None\n",
      "0.04696450285190059 None\n",
      "0.058954442609718674 None\n",
      "0.05896472572149094 None\n",
      "0.06325496979069414 None\n",
      "Done!\n"
     ]
    },
    {
     "data": {
      "application/vnd.jupyter.widget-view+json": {
       "model_id": "0302403d6de14923ae2c3a73872a3bbe",
       "version_major": 2,
       "version_minor": 0
      },
      "text/plain": [
       "  0%|          | 0/2000 [00:00<?, ?it/s]"
      ]
     },
     "metadata": {},
     "output_type": "display_data"
    },
    {
     "name": "stdout",
     "output_type": "stream",
     "text": [
      "0.35228263377492164 None\n",
      "0.3225956855420786 None\n",
      "0.26628434578696036 None\n",
      "0.2486677389020871 None\n",
      "0.21767674198668807 None\n",
      "0.18891007791993553 None\n",
      "0.14573265643207184 None\n",
      "0.13605217229376715 None\n",
      "0.11097067689007176 None\n",
      "0.07076021347973731 None\n",
      "0.05771516532473656 None\n",
      "0.05765026424828377 None\n",
      "0.057672350217422896 None\n",
      "0.057648134454338605 None\n",
      "0.07393692375577796 None\n",
      "0.07397065846296612 None\n",
      "0.057671693431349494 None\n",
      "0.05764653186393981 None\n",
      "0.057659538563216636 None\n",
      "0.057686615559948716 None\n",
      "0.05765602952740582 None\n"
     ]
    },
    {
     "data": {
      "application/vnd.jupyter.widget-view+json": {
       "model_id": "78d582a7e3fb4483be6d1a09c42e2a45",
       "version_major": 2,
       "version_minor": 0
      },
      "text/plain": [
       "  0%|          | 0/2000 [00:00<?, ?it/s]"
      ]
     },
     "metadata": {},
     "output_type": "display_data"
    },
    {
     "name": "stdout",
     "output_type": "stream",
     "text": [
      "0.29091914569652866 None\n",
      "0.2605878501505306 None\n",
      "0.22967431551230655 None\n",
      "0.19894599007614763 None\n",
      "0.1689683846742956 None\n",
      "0.14009340124205177 None\n",
      "0.113599342357611 None\n",
      "0.08889332348225114 None\n",
      "0.06559145095135088 None\n",
      "0.05031263229571196 None\n",
      "0.050285130800029824 None\n",
      "0.050311727395071115 None\n",
      "0.05031293770360965 None\n",
      "0.05029260105085998 None\n",
      "0.05034993806251559 None\n",
      "0.0503300562135162 None\n",
      "0.050300533556217046 None\n",
      "0.05036324469594332 None\n",
      "0.05029210828967181 None\n",
      "0.05030293148153306 None\n",
      "0.05030883696167933 None\n"
     ]
    },
    {
     "data": {
      "application/vnd.jupyter.widget-view+json": {
       "model_id": "3694740a7b994a86b81537bdb97ec299",
       "version_major": 2,
       "version_minor": 0
      },
      "text/plain": [
       "  0%|          | 0/2000 [00:00<?, ?it/s]"
      ]
     },
     "metadata": {},
     "output_type": "display_data"
    },
    {
     "name": "stdout",
     "output_type": "stream",
     "text": [
      "0.28057946904214737 None\n",
      "0.25025377119219183 None\n",
      "0.22067991491858258 None\n",
      "0.1917951560110123 None\n",
      "0.1637666299480486 None\n",
      "0.1368102978259576 None\n",
      "0.11110854111975794 None\n",
      "0.08697318909027987 None\n",
      "0.06410322408053867 None\n",
      "0.04667909308739743 None\n",
      "0.04663259314633457 None\n",
      "0.04662073195323428 None\n",
      "0.04664188431755024 None\n",
      "0.04664604235708341 None\n",
      "0.04660649725143063 None\n",
      "0.046649301360821044 None\n",
      "0.04662891506486316 None\n",
      "0.046654971458002376 None\n",
      "0.04665511652686392 None\n",
      "0.046619763247717556 None\n",
      "0.0466146928759805 None\n"
     ]
    },
    {
     "data": {
      "application/vnd.jupyter.widget-view+json": {
       "model_id": "bbdd65090f8244a7b03e6392c65874cd",
       "version_major": 2,
       "version_minor": 0
      },
      "text/plain": [
       "  0%|          | 0/2000 [00:00<?, ?it/s]"
      ]
     },
     "metadata": {},
     "output_type": "display_data"
    },
    {
     "name": "stdout",
     "output_type": "stream",
     "text": [
      "0.2929991466702045 None\n",
      "0.26382775773869727 None\n",
      "0.2185864383612047 None\n",
      "0.19013760168050528 None\n",
      "0.17871104560705223 None\n",
      "0.15200798772426277 None\n",
      "0.12643445241397436 None\n",
      "0.08579588337935087 None\n",
      "0.07895981912617071 None\n",
      "0.05875634541143905 None\n",
      "0.05837908983068156 None\n",
      "0.05831967255151691 None\n",
      "0.04203182143512123 None\n",
      "0.041994653983325504 None\n",
      "0.042023315283575426 None\n",
      "0.05833596490955355 None\n",
      "0.058306425318023034 None\n",
      "0.058336257207063036 None\n",
      "0.04199459160383138 None\n",
      "0.05830548590200431 None\n",
      "0.05832749289760046 None\n"
     ]
    },
    {
     "data": {
      "application/vnd.jupyter.widget-view+json": {
       "model_id": "6a9a0a3ae1bc4a04bc3c8532e053b1bc",
       "version_major": 2,
       "version_minor": 0
      },
      "text/plain": [
       "  0%|          | 0/2000 [00:00<?, ?it/s]"
      ]
     },
     "metadata": {},
     "output_type": "display_data"
    },
    {
     "name": "stdout",
     "output_type": "stream",
     "text": [
      "0.2635978579288863 None\n",
      "0.23518403200476448 None\n",
      "0.20724096946312054 None\n",
      "0.17991812697888115 None\n",
      "0.15332526793103848 None\n",
      "0.12754025968671517 None\n",
      "0.1026807395572376 None\n",
      "0.07905205524640013 None\n",
      "0.0565479799436383 None\n",
      "0.04284023515880226 None\n",
      "0.04275397022206907 None\n",
      "0.04274065947671967 None\n",
      "0.04275537149525371 None\n",
      "0.0427546310515475 None\n",
      "0.0427928770617555 None\n",
      "0.04276756375374609 None\n",
      "0.042797048751098056 None\n",
      "0.04275292345684171 None\n",
      "0.04275582471615065 None\n",
      "0.0427464372094714 None\n",
      "0.0427554378824921 None\n"
     ]
    },
    {
     "data": {
      "application/vnd.jupyter.widget-view+json": {
       "model_id": "e98651314cce4ffa816fd2e9e7f3e61a",
       "version_major": 2,
       "version_minor": 0
      },
      "text/plain": [
       "  0%|          | 0/2000 [00:00<?, ?it/s]"
      ]
     },
     "metadata": {},
     "output_type": "display_data"
    },
    {
     "name": "stdout",
     "output_type": "stream",
     "text": [
      "0.26631928543058386 None\n",
      "0.25412553133243576 None\n",
      "0.2096146329390221 None\n",
      "0.18195572660285753 None\n",
      "0.1550350411282945 None\n",
      "0.1289952684801262 None\n",
      "0.10411424286870191 None\n",
      "0.08047998958330421 None\n",
      "0.057954207168231645 None\n",
      "0.04007846991402818 None\n",
      "0.039943336152245025 None\n",
      "0.03994151672624699 None\n",
      "0.03996150008575023 None\n",
      "0.03995667745231013 None\n",
      "0.03995045911560807 None\n",
      "0.03995195867170935 None\n",
      "0.03997813729949878 None\n",
      "0.039945095675000694 None\n",
      "0.03995769045971332 None\n",
      "0.03995828671589724 None\n",
      "0.0399768305805869 None\n"
     ]
    },
    {
     "data": {
      "application/vnd.jupyter.widget-view+json": {
       "model_id": "3d61ea7a513d4999a794a78bb42f3f3f",
       "version_major": 2,
       "version_minor": 0
      },
      "text/plain": [
       "  0%|          | 0/2000 [00:00<?, ?it/s]"
      ]
     },
     "metadata": {},
     "output_type": "display_data"
    },
    {
     "name": "stdout",
     "output_type": "stream",
     "text": [
      "0.27725776764136817 None\n",
      "0.2329121024720099 None\n",
      "0.2051493536728855 None\n",
      "0.19413148236937403 None\n",
      "0.16745877954076321 None\n",
      "0.12547568387374486 None\n",
      "0.10065674339545173 None\n",
      "0.07683723697306932 None\n",
      "0.054128565851893504 None\n",
      "0.039333745996177595 None\n",
      "0.03926241895831924 None\n",
      "0.039216336395103996 None\n",
      "0.03920965010475978 None\n",
      "0.03920482226372256 None\n",
      "0.03921100053369755 None\n",
      "0.0392158777948657 None\n",
      "0.03921220928870667 None\n",
      "0.039220545241111515 None\n",
      "0.03920905089587742 None\n",
      "0.039272982282541564 None\n",
      "0.039207707605912676 None\n"
     ]
    },
    {
     "data": {
      "application/vnd.jupyter.widget-view+json": {
       "model_id": "2c8710c740d440b28feb85a0e8a18136",
       "version_major": 2,
       "version_minor": 0
      },
      "text/plain": [
       "  0%|          | 0/2000 [00:00<?, ?it/s]"
      ]
     },
     "metadata": {},
     "output_type": "display_data"
    },
    {
     "name": "stdout",
     "output_type": "stream",
     "text": [
      "0.2625980580243442 None\n",
      "0.23468057897594477 None\n",
      "0.20713009172195335 None\n",
      "0.17996530806550468 None\n",
      "0.15338717019972387 None\n",
      "0.12758013579507405 None\n",
      "0.10269395877053426 None\n",
      "0.07884824334922534 None\n",
      "0.05613707847196326 None\n",
      "0.04156802424947343 None\n",
      "0.041445294137183786 None\n",
      "0.04147077382503925 None\n",
      "0.0414399451482093 None\n",
      "0.041452340073349636 None\n",
      "0.04144057354683078 None\n",
      "0.04146493187273036 None\n",
      "0.0414359409163304 None\n",
      "0.041453903336707676 None\n",
      "0.041474874632300845 None\n",
      "0.0414422266515459 None\n",
      "0.041466444854221046 None\n"
     ]
    },
    {
     "data": {
      "application/vnd.jupyter.widget-view+json": {
       "model_id": "a8523f3f98f74f1c9115eb12dc253d10",
       "version_major": 2,
       "version_minor": 0
      },
      "text/plain": [
       "  0%|          | 0/2000 [00:00<?, ?it/s]"
      ]
     },
     "metadata": {},
     "output_type": "display_data"
    },
    {
     "name": "stdout",
     "output_type": "stream",
     "text": [
      "0.2575437831402544 None\n",
      "0.22969921855527178 None\n",
      "0.20250122202595755 None\n",
      "0.17556057469481937 None\n",
      "0.1491560538755018 None\n",
      "0.12349857055641691 None\n",
      "0.09874578672748723 None\n",
      "0.07501610634155405 None\n",
      "0.052394051381239794 None\n",
      "0.03764638701444732 None\n",
      "0.037593542221581594 None\n",
      "0.03759356539928104 None\n",
      "0.03753732363412253 None\n",
      "0.03756784137994606 None\n",
      "0.037553309391122655 None\n",
      "0.037562466246050585 None\n",
      "0.037542514674230906 None\n",
      "0.03758767767442675 None\n",
      "0.037558285959586976 None\n",
      "0.03753943086736804 None\n",
      "0.037566444576117033 None\n"
     ]
    },
    {
     "data": {
      "application/vnd.jupyter.widget-view+json": {
       "model_id": "b42963adf70e43488a2d4c4ee11a40b3",
       "version_major": 2,
       "version_minor": 0
      },
      "text/plain": [
       "  0%|          | 0/2000 [00:00<?, ?it/s]"
      ]
     },
     "metadata": {},
     "output_type": "display_data"
    },
    {
     "name": "stdout",
     "output_type": "stream",
     "text": [
      "0.26301686336675495 None\n",
      "0.23495829941961333 None\n",
      "0.20716458045931108 None\n",
      "0.17984187622146244 None\n",
      "0.1531773836049089 None\n",
      "0.12731795317671937 None\n",
      "0.10239951980762518 None\n",
      "0.07857653322195954 None\n",
      "0.05589432491862522 None\n",
      "0.038225165409687414 None\n",
      "0.03819464911469657 None\n",
      "0.038197607728194 None\n",
      "0.03818947287144117 None\n",
      "0.03818906351949405 None\n",
      "0.03818400567892079 None\n",
      "0.038189419619151926 None\n",
      "0.03818686128834657 None\n",
      "0.03818804525340698 None\n",
      "0.03823015883151212 None\n",
      "0.038239120488983314 None\n",
      "0.03818573396761994 None\n"
     ]
    },
    {
     "data": {
      "application/vnd.jupyter.widget-view+json": {
       "model_id": "8afb9f6c03c040eb86e447ec89b43aa4",
       "version_major": 2,
       "version_minor": 0
      },
      "text/plain": [
       "  0%|          | 0/2000 [00:00<?, ?it/s]"
      ]
     },
     "metadata": {},
     "output_type": "display_data"
    },
    {
     "name": "stdout",
     "output_type": "stream",
     "text": [
      "0.2547031782239406 None\n",
      "0.2271947985797564 None\n",
      "0.20032549985551742 None\n",
      "0.17351537700809813 None\n",
      "0.14725338236812047 None\n",
      "0.12174370747135609 None\n",
      "0.09714018807340921 None\n",
      "0.07355907466712534 None\n",
      "0.051082786296089776 None\n",
      "0.038524769531752816 None\n",
      "0.03849793992785043 None\n",
      "0.03849711259890942 None\n",
      "0.03850905456566416 None\n",
      "0.03851916217924363 None\n",
      "0.03849606925000071 None\n",
      "0.03853158324100442 None\n",
      "0.03850878948468583 None\n",
      "0.038486591597714725 None\n",
      "0.038505322824811644 None\n",
      "0.03848740922589782 None\n",
      "0.038486316736355344 None\n"
     ]
    },
    {
     "data": {
      "application/vnd.jupyter.widget-view+json": {
       "model_id": "f527732d5e5444cc9b1ba66b7ef4df0b",
       "version_major": 2,
       "version_minor": 0
      },
      "text/plain": [
       "  0%|          | 0/2000 [00:00<?, ?it/s]"
      ]
     },
     "metadata": {},
     "output_type": "display_data"
    },
    {
     "name": "stdout",
     "output_type": "stream",
     "text": [
      "0.2627597971240113 None\n",
      "0.2349005591803386 None\n",
      "0.20723466544093538 None\n",
      "0.17999084175577085 None\n",
      "0.1533775015010952 None\n",
      "0.12756717738058582 None\n",
      "0.10270133722214456 None\n",
      "0.07888380860913281 None\n",
      "0.056189840037066 None\n",
      "0.039686845491063175 None\n",
      "0.03951808456458339 None\n",
      "0.03955030574381574 None\n",
      "0.03952238921923524 None\n",
      "0.039530354504692916 None\n",
      "0.03952103334255532 None\n",
      "0.03956447212072983 None\n",
      "0.0395474041857127 None\n",
      "0.03954791109563538 None\n",
      "0.039542126726739305 None\n",
      "0.03954461935998341 None\n",
      "0.039535219985863755 None\n",
      "Done!\n"
     ]
    },
    {
     "data": {
      "application/vnd.jupyter.widget-view+json": {
       "model_id": "0f238b1172cf40c88d6fb356e4916814",
       "version_major": 2,
       "version_minor": 0
      },
      "text/plain": [
       "  0%|          | 0/2000 [00:00<?, ?it/s]"
      ]
     },
     "metadata": {},
     "output_type": "display_data"
    },
    {
     "name": "stdout",
     "output_type": "stream",
     "text": [
      "0.3575074429257658 None\n",
      "0.3136055427244882 None\n",
      "0.28151845003512627 None\n",
      "0.24829639703299744 None\n",
      "0.21446182274009443 None\n",
      "0.18127205515847114 None\n",
      "0.1506099941783891 None\n",
      "0.12972518837538083 None\n",
      "0.10487017649281087 None\n",
      "0.08195513685415573 None\n",
      "0.07570029906618207 None\n",
      "0.07569056741034552 None\n",
      "0.07568499661537881 None\n",
      "0.07569747924896213 None\n",
      "0.07568518740131397 None\n",
      "0.08176868422689422 None\n",
      "0.07571459318207541 None\n",
      "0.07571480417708305 None\n",
      "0.07569586925544226 None\n",
      "0.0757035605752928 None\n",
      "0.07569504282444098 None\n"
     ]
    },
    {
     "data": {
      "application/vnd.jupyter.widget-view+json": {
       "model_id": "30757a47af274778888a3b386ffe0e68",
       "version_major": 2,
       "version_minor": 0
      },
      "text/plain": [
       "  0%|          | 0/2000 [00:00<?, ?it/s]"
      ]
     },
     "metadata": {},
     "output_type": "display_data"
    },
    {
     "name": "stdout",
     "output_type": "stream",
     "text": [
      "0.2765097902823091 None\n",
      "0.24714582908069774 None\n",
      "0.21769437538866407 None\n",
      "0.18872342548821003 None\n",
      "0.16055080391364746 None\n",
      "0.13356890217600104 None\n",
      "0.10765315310550315 None\n",
      "0.08281579871912813 None\n",
      "0.05912409148093867 None\n",
      "0.050361190169376166 None\n",
      "0.05031862413632404 None\n",
      "0.05031033847267662 None\n",
      "0.050322370251597824 None\n",
      "0.050308760971222825 None\n",
      "0.05031113265844873 None\n",
      "0.050313711057322255 None\n",
      "0.05036057012960547 None\n",
      "0.050321852295065195 None\n",
      "0.05033761183397986 None\n",
      "0.0503844712670589 None\n",
      "0.050340961164319006 None\n"
     ]
    },
    {
     "data": {
      "application/vnd.jupyter.widget-view+json": {
       "model_id": "cff06c40402c45278a1a05f59720da40",
       "version_major": 2,
       "version_minor": 0
      },
      "text/plain": [
       "  0%|          | 0/2000 [00:00<?, ?it/s]"
      ]
     },
     "metadata": {},
     "output_type": "display_data"
    },
    {
     "name": "stdout",
     "output_type": "stream",
     "text": [
      "0.2819767845809184 None\n",
      "0.23699476204348655 None\n",
      "0.20838745791261368 None\n",
      "0.1801549540514004 None\n",
      "0.1527891482496008 None\n",
      "0.12649859023669274 None\n",
      "0.10130047437165215 None\n",
      "0.07754276071319756 None\n",
      "0.05475367363008701 None\n",
      "0.04599836310097876 None\n",
      "0.046005692449722295 None\n",
      "0.04598700481789042 None\n",
      "0.04600114767767209 None\n",
      "0.04599176353518361 None\n",
      "0.04600051772567698 None\n",
      "0.04605061524712993 None\n",
      "0.046008919146086055 None\n",
      "0.04597958829217076 None\n",
      "0.046014218302659435 None\n",
      "0.04599948003868415 None\n",
      "0.04599521238814498 None\n"
     ]
    },
    {
     "data": {
      "application/vnd.jupyter.widget-view+json": {
       "model_id": "8233545d71d448dfa147aa9d343beab6",
       "version_major": 2,
       "version_minor": 0
      },
      "text/plain": [
       "  0%|          | 0/2000 [00:00<?, ?it/s]"
      ]
     },
     "metadata": {},
     "output_type": "display_data"
    },
    {
     "name": "stdout",
     "output_type": "stream",
     "text": [
      "0.27320491043209455 None\n",
      "0.24390148231480127 None\n",
      "0.21483143169060845 None\n",
      "0.18652188398707634 None\n",
      "0.15898177335789163 None\n",
      "0.13253773361047266 None\n",
      "0.10716987877012313 None\n",
      "0.0829913136902436 None\n",
      "0.059990021120536495 None\n",
      "0.049420498003468934 None\n",
      "0.0493776573497496 None\n",
      "0.04938176588783326 None\n",
      "0.04938695354837906 None\n",
      "0.04936104168505282 None\n",
      "0.049369663954528145 None\n",
      "0.049358433913798 None\n",
      "0.04939843780333148 None\n",
      "0.04940807488402371 None\n",
      "0.04938058614940119 None\n",
      "0.049371242991189404 None\n",
      "0.04936026976773534 None\n"
     ]
    },
    {
     "data": {
      "application/vnd.jupyter.widget-view+json": {
       "model_id": "d8494d9ae72c4f03b4ba77179138420b",
       "version_major": 2,
       "version_minor": 0
      },
      "text/plain": [
       "  0%|          | 0/2000 [00:00<?, ?it/s]"
      ]
     },
     "metadata": {},
     "output_type": "display_data"
    },
    {
     "name": "stdout",
     "output_type": "stream",
     "text": [
      "0.26572027120415254 None\n",
      "0.23694093186742732 None\n",
      "0.20856942285849625 None\n",
      "0.1870491542589581 None\n",
      "0.1601358693312098 None\n",
      "0.1279518384265781 None\n",
      "0.10347048105322619 None\n",
      "0.07964440854914931 None\n",
      "0.056825980229582566 None\n",
      "0.04526970575715918 None\n",
      "0.045267570680546286 None\n",
      "0.04532619794138314 None\n",
      "0.04528800716772205 None\n",
      "0.04527478598373795 None\n",
      "0.04528226487835821 None\n",
      "0.04527053701814566 None\n",
      "0.04531700496459681 None\n",
      "0.04527471844708273 None\n",
      "0.045278620384041256 None\n",
      "0.0452766549668671 None\n",
      "0.04529496828424913 None\n"
     ]
    },
    {
     "data": {
      "application/vnd.jupyter.widget-view+json": {
       "model_id": "108d9ad5ac8240c188d91b7c1e13b86c",
       "version_major": 2,
       "version_minor": 0
      },
      "text/plain": [
       "  0%|          | 0/2000 [00:00<?, ?it/s]"
      ]
     },
     "metadata": {},
     "output_type": "display_data"
    },
    {
     "name": "stdout",
     "output_type": "stream",
     "text": [
      "0.2626583784366712 None\n",
      "0.2507348396436957 None\n",
      "0.212505628203695 None\n",
      "0.1788933044441587 None\n",
      "0.15201389042656904 None\n",
      "0.1261409343320556 None\n",
      "0.10101554725803948 None\n",
      "0.07705851491441247 None\n",
      "0.05436937595115775 None\n",
      "0.04701271576973154 None\n",
      "0.04698457175452987 None\n",
      "0.04704243683689065 None\n",
      "0.04698563161490709 None\n",
      "0.04698363641129005 None\n",
      "0.0470021649044844 None\n",
      "0.046985082721363494 None\n",
      "0.046983309061338054 None\n",
      "0.0469928605062925 None\n",
      "0.04699208062430904 None\n",
      "0.047009864536516455 None\n",
      "0.04699360477501703 None\n"
     ]
    },
    {
     "data": {
      "application/vnd.jupyter.widget-view+json": {
       "model_id": "1fa413c13b19410895124dc1a27e088e",
       "version_major": 2,
       "version_minor": 0
      },
      "text/plain": [
       "  0%|          | 0/2000 [00:00<?, ?it/s]"
      ]
     },
     "metadata": {},
     "output_type": "display_data"
    },
    {
     "name": "stdout",
     "output_type": "stream",
     "text": [
      "0.2510936810836295 None\n",
      "0.22342212799099945 None\n",
      "0.19591412451452367 None\n",
      "0.1688280978989317 None\n",
      "0.14250554939472018 None\n",
      "0.1170354301114673 None\n",
      "0.09248527699749746 None\n",
      "0.06899225142559115 None\n",
      "0.046606652716095556 None\n",
      "0.0425377285346563 None\n",
      "0.04253781377205079 None\n",
      "0.04253315821633352 None\n",
      "0.04251984270320759 None\n",
      "0.04251916936471915 None\n",
      "0.04253609890319736 None\n",
      "0.04254752555189177 None\n",
      "0.04255542516381143 None\n",
      "0.04252161325040729 None\n",
      "0.042583028537098444 None\n",
      "0.04254545601077753 None\n",
      "0.04255711621938803 None\n"
     ]
    },
    {
     "data": {
      "application/vnd.jupyter.widget-view+json": {
       "model_id": "fe9f0b33b6e74b2ea7dc53f5ef1e9cdc",
       "version_major": 2,
       "version_minor": 0
      },
      "text/plain": [
       "  0%|          | 0/2000 [00:00<?, ?it/s]"
      ]
     },
     "metadata": {},
     "output_type": "display_data"
    },
    {
     "name": "stdout",
     "output_type": "stream",
     "text": [
      "0.2613067117941014 None\n",
      "0.232863513094463 None\n",
      "0.20480358320375902 None\n",
      "0.1773785261539484 None\n",
      "0.1506549764972273 None\n",
      "0.1247435982452704 None\n",
      "0.09977571971265246 None\n",
      "0.07584693822302668 None\n",
      "0.053034008764012 None\n",
      "0.042788635915143834 None\n",
      "0.0427925689512051 None\n",
      "0.042786315289403576 None\n",
      "0.04281405404992957 None\n",
      "0.04285956554481139 None\n",
      "0.04278379166322801 None\n",
      "0.04277942856682563 None\n",
      "0.04279726575329024 None\n",
      "0.04286035380987001 None\n",
      "0.042833711117749904 None\n",
      "0.042794111361372275 None\n",
      "0.04278036648052585 None\n"
     ]
    },
    {
     "data": {
      "application/vnd.jupyter.widget-view+json": {
       "model_id": "39b821b7213b48bb8954b5baf955194e",
       "version_major": 2,
       "version_minor": 0
      },
      "text/plain": [
       "  0%|          | 0/2000 [00:00<?, ?it/s]"
      ]
     },
     "metadata": {},
     "output_type": "display_data"
    },
    {
     "name": "stdout",
     "output_type": "stream",
     "text": [
      "0.26619193256783313 None\n",
      "0.23183478992963016 None\n",
      "0.2038875810415796 None\n",
      "0.17648108808148197 None\n",
      "0.14981581906318545 None\n",
      "0.12421172803701311 None\n",
      "0.09950801081963385 None\n",
      "0.0757933725886479 None\n",
      "0.0531987667778292 None\n",
      "0.04631059445935024 None\n",
      "0.04633768449807557 None\n",
      "0.046310768461925 None\n",
      "0.04635299525697605 None\n",
      "0.046327265972859605 None\n",
      "0.04633733666440928 None\n",
      "0.04630878395927371 None\n",
      "0.046317148849235046 None\n",
      "0.04631691309999382 None\n",
      "0.0463126524679474 None\n",
      "0.04634897979457629 None\n",
      "0.04631574145755704 None\n"
     ]
    },
    {
     "data": {
      "application/vnd.jupyter.widget-view+json": {
       "model_id": "ce3db5d85ca044e28012e3ab61af4e72",
       "version_major": 2,
       "version_minor": 0
      },
      "text/plain": [
       "  0%|          | 0/2000 [00:00<?, ?it/s]"
      ]
     },
     "metadata": {},
     "output_type": "display_data"
    },
    {
     "name": "stdout",
     "output_type": "stream",
     "text": [
      "0.24870283648062133 None\n",
      "0.22086266480274594 None\n",
      "0.19325850228684177 None\n",
      "0.16610907861946098 None\n",
      "0.1396538550586893 None\n",
      "0.11402453458311333 None\n",
      "0.08933938997668396 None\n",
      "0.06569953403849883 None\n",
      "0.04317626524525676 None\n",
      "0.03722650248723835 None\n",
      "0.037213536882113006 None\n",
      "0.03717826285218817 None\n",
      "0.03716025961805946 None\n",
      "0.03717469176739942 None\n",
      "0.03716604138568141 None\n",
      "0.03718471874122178 None\n",
      "0.03720524162221312 None\n",
      "0.03715843127929094 None\n",
      "0.03718088183795897 None\n",
      "0.037184970427771566 None\n",
      "0.03718224266884851 None\n"
     ]
    },
    {
     "data": {
      "application/vnd.jupyter.widget-view+json": {
       "model_id": "27fce5478f3247b0ad1ac5b2a0bf1342",
       "version_major": 2,
       "version_minor": 0
      },
      "text/plain": [
       "  0%|          | 0/2000 [00:00<?, ?it/s]"
      ]
     },
     "metadata": {},
     "output_type": "display_data"
    },
    {
     "name": "stdout",
     "output_type": "stream",
     "text": [
      "0.2628758289147568 None\n",
      "0.2349547476239023 None\n",
      "0.20730505153401793 None\n",
      "0.18012369623030086 None\n",
      "0.15358512219330203 None\n",
      "0.12784975878791022 None\n",
      "0.10306013527681211 None\n",
      "0.07931525236990088 None\n",
      "0.056688113888491945 None\n",
      "0.047574127518578604 None\n",
      "0.04759255074301934 None\n",
      "0.04756482630766347 None\n",
      "0.04756828901065923 None\n",
      "0.04760261749495108 None\n",
      "0.04757671316258471 None\n",
      "0.04759441554294595 None\n",
      "0.047594191726603174 None\n",
      "0.04757014579063619 None\n",
      "0.04757121027651165 None\n",
      "0.047597316229592984 None\n",
      "0.04755566855797552 None\n",
      "Done!\n"
     ]
    }
   ],
   "source": [
    "n = 3\n",
    "d = 2**n\n",
    "\n",
    "np.random.seed(42)\n",
    "random.seed(42)\n",
    "tf.random.set_seed(42)\n",
    "rng = np.random.default_rng(seed=42)\n",
    "\n",
    "distance_best_list, model_best_list = fit_diluted_unitary(spectrum_target_list1, \n",
    "                                                          d=d, \n",
    "                                                          rank_start = 1,\n",
    "                                                          rank_step = 1,\n",
    "                                                          num_iter = 2000,\n",
    "                                                         )\n",
    "\n",
    "saver([distance_best_list, model_best_list], data_path(\"diluted_fitting_8layer.model\"))"
   ]
  },
  {
   "cell_type": "code",
   "execution_count": 43,
   "metadata": {
    "scrolled": true
   },
   "outputs": [
    {
     "data": {
      "application/vnd.jupyter.widget-view+json": {
       "model_id": "432f98ab5927481a9f53e7adcb5dad79",
       "version_major": 2,
       "version_minor": 0
      },
      "text/plain": [
       "  0%|          | 0/10 [00:00<?, ?it/s]"
      ]
     },
     "metadata": {},
     "output_type": "display_data"
    },
    {
     "data": {
      "application/vnd.jupyter.widget-view+json": {
       "model_id": "8e375659b81b4fdbaba84765f08c6a59",
       "version_major": 2,
       "version_minor": 0
      },
      "text/plain": [
       "  0%|          | 0/2000 [00:00<?, ?it/s]"
      ]
     },
     "metadata": {},
     "output_type": "display_data"
    },
    {
     "name": "stdout",
     "output_type": "stream",
     "text": [
      "0.07024506255686953 None\n",
      "0.06312602226636112 None\n",
      "0.06318654670919047 None\n",
      "0.0631498188666557 None\n",
      "0.06317699402053989 None\n",
      "0.06312959732157543 None\n",
      "0.06314536961905994 None\n",
      "0.06312671826232116 None\n",
      "0.06314705500109603 None\n",
      "0.06315346802297248 None\n",
      "0.0631601582561149 None\n",
      "0.06316853699942392 None\n",
      "0.06315028056390269 None\n",
      "0.06315558098783322 None\n",
      "0.06319105600419661 None\n",
      "0.06318110110919448 None\n",
      "0.0631798334623615 None\n",
      "0.06312486658681114 None\n",
      "0.06313778051188734 None\n",
      "0.06315997955099287 None\n",
      "0.06313495943051627 None\n"
     ]
    },
    {
     "data": {
      "application/vnd.jupyter.widget-view+json": {
       "model_id": "17eda7dda3684db481af6d6870a0eb92",
       "version_major": 2,
       "version_minor": 0
      },
      "text/plain": [
       "  0%|          | 0/2000 [00:00<?, ?it/s]"
      ]
     },
     "metadata": {},
     "output_type": "display_data"
    },
    {
     "name": "stdout",
     "output_type": "stream",
     "text": [
      "0.06984929657784984 None\n",
      "0.06507800980529099 None\n",
      "0.0650122162549523 None\n",
      "0.0650129211300179 None\n",
      "0.06503113839181682 None\n",
      "0.06505917085410338 None\n",
      "0.06503141980905001 None\n",
      "0.06502270657417815 None\n",
      "0.06501913475039639 None\n",
      "0.06501676345249555 None\n",
      "0.06509782055421293 None\n",
      "0.06505877086369424 None\n",
      "0.06502785240938397 None\n",
      "0.06502747647382948 None\n",
      "0.06507317067056166 None\n",
      "0.06500777294082523 None\n",
      "0.06503387281866083 None\n",
      "0.06500820059844051 None\n",
      "0.06501774845116359 None\n",
      "0.06503866960467536 None\n",
      "0.06503304302558059 None\n"
     ]
    },
    {
     "data": {
      "application/vnd.jupyter.widget-view+json": {
       "model_id": "d8baad21f8514c4f943061306aea2356",
       "version_major": 2,
       "version_minor": 0
      },
      "text/plain": [
       "  0%|          | 0/2000 [00:00<?, ?it/s]"
      ]
     },
     "metadata": {},
     "output_type": "display_data"
    },
    {
     "name": "stdout",
     "output_type": "stream",
     "text": [
      "0.06568505677444197 None\n",
      "0.06259654387851728 None\n",
      "0.06259536080374636 None\n",
      "0.06260537775042574 None\n",
      "0.06262937685669591 None\n",
      "0.06258990882539522 None\n",
      "0.06261827111311734 None\n",
      "0.06261508510800637 None\n",
      "0.0625891838879104 None\n",
      "0.06258578042500168 None\n",
      "0.06261115904201295 None\n",
      "0.06264615257208894 None\n",
      "0.06259318360445677 None\n",
      "0.06261203354900907 None\n",
      "0.06266501300539216 None\n",
      "0.06260047701401823 None\n",
      "0.06261204901988307 None\n",
      "0.06260551887075025 None\n",
      "0.06258574249907758 None\n",
      "0.06259836938787278 None\n",
      "0.06260802706352975 None\n"
     ]
    },
    {
     "data": {
      "application/vnd.jupyter.widget-view+json": {
       "model_id": "4db93decc8c04ed49fa887242602d09b",
       "version_major": 2,
       "version_minor": 0
      },
      "text/plain": [
       "  0%|          | 0/2000 [00:00<?, ?it/s]"
      ]
     },
     "metadata": {},
     "output_type": "display_data"
    },
    {
     "name": "stdout",
     "output_type": "stream",
     "text": [
      "0.06872627249933815 None\n",
      "0.0627183953402996 None\n",
      "0.06277246592677589 None\n",
      "0.06273476790223852 None\n",
      "0.06267389234169646 None\n",
      "0.06270721891179315 None\n",
      "0.06270367579231848 None\n",
      "0.06272866260388822 None\n",
      "0.0626751139331169 None\n",
      "0.06272365807128041 None\n",
      "0.06273842151483468 None\n",
      "0.06270633929680106 None\n",
      "0.06269674809135933 None\n",
      "0.06274931659354409 None\n",
      "0.06271343968954532 None\n",
      "0.06268768683184656 None\n",
      "0.06271036816114349 None\n",
      "0.06267563956253858 None\n",
      "0.06279407447858865 None\n",
      "0.06272514333792184 None\n",
      "0.0626758447249422 None\n"
     ]
    },
    {
     "data": {
      "application/vnd.jupyter.widget-view+json": {
       "model_id": "1f0cad23178945819be7f81e20e01583",
       "version_major": 2,
       "version_minor": 0
      },
      "text/plain": [
       "  0%|          | 0/2000 [00:00<?, ?it/s]"
      ]
     },
     "metadata": {},
     "output_type": "display_data"
    },
    {
     "name": "stdout",
     "output_type": "stream",
     "text": [
      "0.06872134442430901 None\n",
      "0.06021499979109073 None\n",
      "0.060239935608446954 None\n",
      "0.060213770727486154 None\n",
      "0.06020784299375871 None\n",
      "0.060206374391566016 None\n",
      "0.06019053560560866 None\n",
      "0.06017993024226725 None\n",
      "0.06022074770708745 None\n",
      "0.06021474247671106 None\n",
      "0.06027028960331202 None\n",
      "0.06019661147589732 None\n",
      "0.06024254508807337 None\n",
      "0.06020038776059238 None\n",
      "0.06019557034058891 None\n",
      "0.06020110256991593 None\n",
      "0.06021244419780462 None\n",
      "0.06019124768532086 None\n",
      "0.06019282953287961 None\n",
      "0.06017876024295754 None\n",
      "0.06022610966996613 None\n"
     ]
    },
    {
     "data": {
      "application/vnd.jupyter.widget-view+json": {
       "model_id": "fb27bb8f8bb44b50a7f320cfa7d18d3f",
       "version_major": 2,
       "version_minor": 0
      },
      "text/plain": [
       "  0%|          | 0/2000 [00:00<?, ?it/s]"
      ]
     },
     "metadata": {},
     "output_type": "display_data"
    },
    {
     "name": "stdout",
     "output_type": "stream",
     "text": [
      "0.06665494782193794 None\n",
      "0.05957371929457035 None\n",
      "0.059560020011348594 None\n",
      "0.05953065555208279 None\n",
      "0.05952744824107062 None\n",
      "0.05957474626633253 None\n",
      "0.059555073495013364 None\n",
      "0.05953549233564832 None\n",
      "0.05952408519310493 None\n",
      "0.05953647917356061 None\n",
      "0.05951896812105325 None\n",
      "0.05955720071227445 None\n",
      "0.059539982031216715 None\n",
      "0.05960687963486171 None\n",
      "0.05954100001844511 None\n",
      "0.05951896377627092 None\n",
      "0.059561070922833186 None\n",
      "0.05951902739945425 None\n",
      "0.05954691239828387 None\n",
      "0.05953271037731189 None\n",
      "0.059554534470247236 None\n"
     ]
    },
    {
     "data": {
      "application/vnd.jupyter.widget-view+json": {
       "model_id": "58144afbdf584600bde88f49cb679e39",
       "version_major": 2,
       "version_minor": 0
      },
      "text/plain": [
       "  0%|          | 0/2000 [00:00<?, ?it/s]"
      ]
     },
     "metadata": {},
     "output_type": "display_data"
    },
    {
     "name": "stdout",
     "output_type": "stream",
     "text": [
      "0.06994798225716506 None\n",
      "0.06174109522162286 None\n",
      "0.06171629281029828 None\n",
      "0.061689094395043255 None\n",
      "0.06167491456933199 None\n",
      "0.06178159170360266 None\n",
      "0.061675512116595124 None\n",
      "0.06169189967080009 None\n",
      "0.06168872302465326 None\n",
      "0.06167816982670788 None\n",
      "0.06170612588781581 None\n",
      "0.061676092821037205 None\n",
      "0.061668424980784134 None\n",
      "0.06170120656426459 None\n",
      "0.061679024805401605 None\n",
      "0.06170282078308419 None\n",
      "0.06170106772710594 None\n",
      "0.0616999156503326 None\n",
      "0.061671306214098706 None\n",
      "0.06169586015819936 None\n",
      "0.06166939260907639 None\n"
     ]
    },
    {
     "data": {
      "application/vnd.jupyter.widget-view+json": {
       "model_id": "fccc5dc190df49989261df628eaa1b63",
       "version_major": 2,
       "version_minor": 0
      },
      "text/plain": [
       "  0%|          | 0/2000 [00:00<?, ?it/s]"
      ]
     },
     "metadata": {},
     "output_type": "display_data"
    },
    {
     "name": "stdout",
     "output_type": "stream",
     "text": [
      "0.08107330054055213 None\n",
      "0.06413798830442302 None\n",
      "0.06415629223199895 None\n",
      "0.06413131536269334 None\n",
      "0.08041508896684293 None\n",
      "0.06413693882548407 None\n",
      "0.06413280977656921 None\n",
      "0.07532283825260927 None\n",
      "0.06414560916605593 None\n",
      "0.08043325143606098 None\n",
      "0.06410413042563254 None\n",
      "0.06413337343174963 None\n",
      "0.0641248686572797 None\n",
      "0.06414076882654533 None\n",
      "0.06411383647262935 None\n",
      "0.07527662069032796 None\n",
      "0.06417371202806935 None\n",
      "0.06412662355011822 None\n",
      "0.07528352996264376 None\n",
      "0.07525413924067284 None\n",
      "0.08043175414094622 None\n"
     ]
    },
    {
     "data": {
      "application/vnd.jupyter.widget-view+json": {
       "model_id": "090a99c493664a1cac413b16c13cb8b1",
       "version_major": 2,
       "version_minor": 0
      },
      "text/plain": [
       "  0%|          | 0/2000 [00:00<?, ?it/s]"
      ]
     },
     "metadata": {},
     "output_type": "display_data"
    },
    {
     "name": "stdout",
     "output_type": "stream",
     "text": [
      "0.06667114960379798 None\n",
      "0.06075608660683067 None\n",
      "0.06073919366071002 None\n",
      "0.06075376129904431 None\n",
      "0.060786354868031967 None\n",
      "0.06079057535633631 None\n",
      "0.060745038424492415 None\n",
      "0.06076547722925502 None\n",
      "0.060780841317973386 None\n",
      "0.060741810292654706 None\n",
      "0.060744874438930604 None\n",
      "0.060740152273139274 None\n",
      "0.06075972822515345 None\n",
      "0.060742261559235296 None\n",
      "0.060751952776742675 None\n",
      "0.06079091675817455 None\n",
      "0.06074478521776295 None\n",
      "0.060754665657087814 None\n",
      "0.06076937251729436 None\n",
      "0.060798399907908855 None\n",
      "0.06075658191530979 None\n",
      "Done!\n"
     ]
    },
    {
     "data": {
      "application/vnd.jupyter.widget-view+json": {
       "model_id": "6d59d72150684423b6605fc3b67392fb",
       "version_major": 2,
       "version_minor": 0
      },
      "text/plain": [
       "  0%|          | 0/2000 [00:00<?, ?it/s]"
      ]
     },
     "metadata": {},
     "output_type": "display_data"
    },
    {
     "name": "stdout",
     "output_type": "stream",
     "text": [
      "0.06924978807250701 None\n",
      "0.06826675892374102 None\n",
      "0.06828735041790766 None\n",
      "0.06827529503356304 None\n",
      "0.06824855264813488 None\n",
      "0.06824258707758975 None\n",
      "0.06825514776571781 None\n",
      "0.06828710744541537 None\n",
      "0.06835953947210555 None\n",
      "0.06829321311234263 None\n",
      "0.06824419998548985 None\n",
      "0.06829760634365806 None\n",
      "0.06826244848602736 None\n",
      "0.06827160901992022 None\n",
      "0.06826089249110616 None\n",
      "0.06827283441443874 None\n",
      "0.06826270371372813 None\n",
      "0.0682570635695254 None\n",
      "0.06828855685902369 None\n",
      "0.06830855453813364 None\n",
      "0.06830280100364025 None\n"
     ]
    },
    {
     "data": {
      "application/vnd.jupyter.widget-view+json": {
       "model_id": "5b88cb2045f249ad9733e119bf3427c1",
       "version_major": 2,
       "version_minor": 0
      },
      "text/plain": [
       "  0%|          | 0/2000 [00:00<?, ?it/s]"
      ]
     },
     "metadata": {},
     "output_type": "display_data"
    },
    {
     "name": "stdout",
     "output_type": "stream",
     "text": [
      "0.07701922665790381 None\n",
      "0.075140897532406 None\n",
      "0.07511475598587468 None\n",
      "0.07519484497186167 None\n",
      "0.07515934099809436 None\n",
      "0.07513168784665646 None\n",
      "0.0751431038064787 None\n",
      "0.07516418844081094 None\n",
      "0.07512595720851425 None\n",
      "0.0751170454193399 None\n",
      "0.07515506439809042 None\n",
      "0.0751276149118918 None\n",
      "0.075145306498211 None\n",
      "0.07518651169429481 None\n",
      "0.0751234732379072 None\n",
      "0.0751453960021525 None\n",
      "0.07513536183369213 None\n",
      "0.07511885551011865 None\n",
      "0.07513864710603671 None\n",
      "0.07515251616893918 None\n",
      "0.0751921177099071 None\n"
     ]
    },
    {
     "data": {
      "application/vnd.jupyter.widget-view+json": {
       "model_id": "39027ba21e124a32974169a97ed979ee",
       "version_major": 2,
       "version_minor": 0
      },
      "text/plain": [
       "  0%|          | 0/2000 [00:00<?, ?it/s]"
      ]
     },
     "metadata": {},
     "output_type": "display_data"
    },
    {
     "name": "stdout",
     "output_type": "stream",
     "text": [
      "0.0711083713238964 None\n",
      "0.07009155215311351 None\n",
      "0.07008109826282657 None\n",
      "0.0701104508779734 None\n",
      "0.07014637261378155 None\n",
      "0.07010476766028967 None\n",
      "0.07009398783305906 None\n",
      "0.07011556968391058 None\n",
      "0.07013150783587567 None\n",
      "0.0700814894086347 None\n",
      "0.07008659569952336 None\n",
      "0.0701251029845261 None\n",
      "0.07009072848372416 None\n",
      "0.07008809697939235 None\n",
      "0.07011123663611918 None\n",
      "0.07014495217042648 None\n",
      "0.07009245305444586 None\n",
      "0.07010711665734017 None\n",
      "0.0701543579323322 None\n",
      "0.0701131576676442 None\n",
      "0.0701132384371526 None\n"
     ]
    },
    {
     "data": {
      "application/vnd.jupyter.widget-view+json": {
       "model_id": "226788b4ce8c42cf891650444b9c3759",
       "version_major": 2,
       "version_minor": 0
      },
      "text/plain": [
       "  0%|          | 0/2000 [00:00<?, ?it/s]"
      ]
     },
     "metadata": {},
     "output_type": "display_data"
    },
    {
     "name": "stdout",
     "output_type": "stream",
     "text": [
      "0.0714902452768772 None\n",
      "0.06902974507236957 None\n",
      "0.06895776392429583 None\n",
      "0.06913659746910156 None\n",
      "0.06915416248467474 None\n",
      "0.0844049861411103 None\n",
      "0.0690315620004474 None\n",
      "0.06900525409412289 None\n",
      "0.06898653721988367 None\n",
      "0.06897941998866165 None\n",
      "0.08438156970289709 None\n",
      "0.06895410146129698 None\n",
      "0.06894879477688377 None\n",
      "0.06897723281711365 None\n",
      "0.06898165358068106 None\n",
      "0.06897850727853713 None\n",
      "0.08440209392854545 None\n",
      "0.0691363657097595 None\n",
      "0.06896309487211927 None\n",
      "0.06898361471919592 None\n",
      "0.08442947801105952 None\n"
     ]
    },
    {
     "data": {
      "application/vnd.jupyter.widget-view+json": {
       "model_id": "0b795ed783934362ba7ca8f798362e21",
       "version_major": 2,
       "version_minor": 0
      },
      "text/plain": [
       "  0%|          | 0/2000 [00:00<?, ?it/s]"
      ]
     },
     "metadata": {},
     "output_type": "display_data"
    },
    {
     "name": "stdout",
     "output_type": "stream",
     "text": [
      "0.07768622321503364 None\n",
      "0.07363978624940255 None\n",
      "0.07361370971035926 None\n",
      "0.0735971993699873 None\n",
      "0.07360228209911654 None\n",
      "0.07359173908591808 None\n",
      "0.07382392850270242 None\n",
      "0.07366508028396611 None\n",
      "0.0736143281314588 None\n",
      "0.07362818926649804 None\n",
      "0.07361057780398161 None\n",
      "0.0736127901152389 None\n",
      "0.07363575348235267 None\n",
      "0.0736173849076797 None\n",
      "0.07380766972130509 None\n",
      "0.073658104053029 None\n",
      "0.07359108936136056 None\n",
      "0.07360503329665664 None\n",
      "0.07364582132267729 None\n",
      "0.07359554712936091 None\n",
      "0.0735981094063252 None\n"
     ]
    },
    {
     "data": {
      "application/vnd.jupyter.widget-view+json": {
       "model_id": "392221e8d0e0467891d24571e267758f",
       "version_major": 2,
       "version_minor": 0
      },
      "text/plain": [
       "  0%|          | 0/2000 [00:00<?, ?it/s]"
      ]
     },
     "metadata": {},
     "output_type": "display_data"
    },
    {
     "name": "stdout",
     "output_type": "stream",
     "text": [
      "0.07216030090553399 None\n",
      "0.06646021956750885 None\n",
      "0.06650077883505447 None\n",
      "0.06650501852363364 None\n",
      "0.06646284300981908 None\n",
      "0.06655012604746117 None\n",
      "0.06646438700592076 None\n",
      "0.0665197972962269 None\n",
      "0.06646883568507239 None\n",
      "0.06647478848314861 None\n",
      "0.06644498294661236 None\n",
      "0.06648644131708817 None\n",
      "0.06646954965537569 None\n",
      "0.0665082576079387 None\n",
      "0.066445753594775 None\n",
      "0.06649259236581741 None\n",
      "0.06651668045863876 None\n",
      "0.06645351844524153 None\n",
      "0.06645720985142516 None\n",
      "0.0664674155911442 None\n",
      "0.06646467654111404 None\n"
     ]
    },
    {
     "data": {
      "application/vnd.jupyter.widget-view+json": {
       "model_id": "09df436c877c4e1093539db2791ab6f7",
       "version_major": 2,
       "version_minor": 0
      },
      "text/plain": [
       "  0%|          | 0/2000 [00:00<?, ?it/s]"
      ]
     },
     "metadata": {},
     "output_type": "display_data"
    },
    {
     "name": "stdout",
     "output_type": "stream",
     "text": [
      "0.0726863221535353 None\n",
      "0.0707342036582512 None\n",
      "0.07071019299106378 None\n",
      "0.07070082906951536 None\n",
      "0.07073477073948782 None\n",
      "0.07070968573574324 None\n",
      "0.07070382648317891 None\n",
      "0.0707074342224326 None\n",
      "0.07075156422843475 None\n",
      "0.07075566093912493 None\n",
      "0.0707313069613408 None\n",
      "0.07071616064018454 None\n",
      "0.07071357739704487 None\n",
      "0.07072979492205984 None\n",
      "0.07070268878380934 None\n",
      "0.0707075799753374 None\n",
      "0.07070207359745191 None\n",
      "0.07073565835369496 None\n",
      "0.0707026888637746 None\n",
      "0.07072247189065367 None\n",
      "0.07070300716859454 None\n",
      "Done!\n"
     ]
    },
    {
     "data": {
      "application/vnd.jupyter.widget-view+json": {
       "model_id": "697e9188a03b446e93b5e9c152400480",
       "version_major": 2,
       "version_minor": 0
      },
      "text/plain": [
       "  0%|          | 0/2000 [00:00<?, ?it/s]"
      ]
     },
     "metadata": {},
     "output_type": "display_data"
    },
    {
     "name": "stdout",
     "output_type": "stream",
     "text": [
      "0.08359015448927894 None\n",
      "0.06770365690300083 None\n",
      "0.06756421646728768 None\n",
      "0.06765375138670178 None\n",
      "0.06756133232391984 None\n",
      "0.06759399915409436 None\n",
      "0.06757309384290508 None\n",
      "0.06762093316850885 None\n",
      "0.06759024605383088 None\n",
      "0.06762825264490832 None\n",
      "0.06764958233107912 None\n",
      "0.06756707567487485 None\n",
      "0.06757277473848709 None\n",
      "0.06756680058743 None\n",
      "0.06759901488320316 None\n",
      "0.06761364280177484 None\n",
      "0.0676121870850536 None\n",
      "0.06756144718871837 None\n",
      "0.06759494845509356 None\n",
      "0.06756484884407514 None\n",
      "0.06762155456128636 None\n"
     ]
    },
    {
     "data": {
      "application/vnd.jupyter.widget-view+json": {
       "model_id": "390d16af368a4b12a224227004eedee6",
       "version_major": 2,
       "version_minor": 0
      },
      "text/plain": [
       "  0%|          | 0/2000 [00:00<?, ?it/s]"
      ]
     },
     "metadata": {},
     "output_type": "display_data"
    },
    {
     "name": "stdout",
     "output_type": "stream",
     "text": [
      "0.08188563365690332 None\n",
      "0.06722084924937183 None\n",
      "0.06717177838281889 None\n",
      "0.06720610996601288 None\n",
      "0.06715843334576269 None\n",
      "0.06714907911589497 None\n",
      "0.06720822168562263 None\n",
      "0.0671976536739762 None\n",
      "0.06714474348970366 None\n",
      "0.06714597437683499 None\n",
      "0.06716517537286879 None\n",
      "0.06715022929610968 None\n",
      "0.06723398179802276 None\n",
      "0.06719854818598574 None\n",
      "0.06715906803959544 None\n",
      "0.06715580744239896 None\n",
      "0.06717782387526326 None\n",
      "0.06715326400895456 None\n",
      "0.06717252926840635 None\n",
      "0.06717466874661085 None\n",
      "0.06714820956570439 None\n"
     ]
    },
    {
     "data": {
      "application/vnd.jupyter.widget-view+json": {
       "model_id": "82e45756cb1648139e4891fba7362e98",
       "version_major": 2,
       "version_minor": 0
      },
      "text/plain": [
       "  0%|          | 0/2000 [00:00<?, ?it/s]"
      ]
     },
     "metadata": {},
     "output_type": "display_data"
    },
    {
     "name": "stdout",
     "output_type": "stream",
     "text": [
      "0.08385776778206805 None\n",
      "0.06641203505485632 None\n",
      "0.06615725957932647 None\n",
      "0.06613279054850815 None\n",
      "0.06614373254562671 None\n",
      "0.06612518705521352 None\n",
      "0.06612183263717746 None\n",
      "0.06613011355239788 None\n",
      "0.0661271437259391 None\n",
      "0.06613002850028867 None\n",
      "0.0661318839236053 None\n",
      "0.06611840573237002 None\n",
      "0.06613985830403711 None\n",
      "0.06612500124276617 None\n",
      "0.06614690686692633 None\n",
      "0.06613049283396709 None\n",
      "0.06612315950292637 None\n",
      "0.06613074316310984 None\n",
      "0.06612544573735904 None\n",
      "0.06613389025628286 None\n",
      "0.06611771110069407 None\n"
     ]
    },
    {
     "data": {
      "application/vnd.jupyter.widget-view+json": {
       "model_id": "bee0961c5aa94f31a65c3b057d0797b7",
       "version_major": 2,
       "version_minor": 0
      },
      "text/plain": [
       "  0%|          | 0/2000 [00:00<?, ?it/s]"
      ]
     },
     "metadata": {},
     "output_type": "display_data"
    },
    {
     "name": "stdout",
     "output_type": "stream",
     "text": [
      "0.0844760665418029 None\n",
      "0.06492037256272139 None\n",
      "0.06436832167619055 None\n",
      "0.06429733080014326 None\n",
      "0.06434534339842284 None\n",
      "0.06438212855677336 None\n",
      "0.06433564426598037 None\n",
      "0.06432574449221426 None\n",
      "0.0643171675013369 None\n",
      "0.06434848770375834 None\n",
      "0.06429457993220529 None\n",
      "0.06439241871679405 None\n",
      "0.06436056761149118 None\n",
      "0.0643071463400955 None\n",
      "0.06429227320584142 None\n",
      "0.06432500041984306 None\n",
      "0.06429103513510144 None\n",
      "0.064307859110509 None\n",
      "0.06429918364002148 None\n",
      "0.06430096600132885 None\n",
      "0.06437294523623098 None\n"
     ]
    },
    {
     "data": {
      "application/vnd.jupyter.widget-view+json": {
       "model_id": "5e9d6dccf6a64202a552f3559f216f6a",
       "version_major": 2,
       "version_minor": 0
      },
      "text/plain": [
       "  0%|          | 0/2000 [00:00<?, ?it/s]"
      ]
     },
     "metadata": {},
     "output_type": "display_data"
    },
    {
     "name": "stdout",
     "output_type": "stream",
     "text": [
      "0.08829407971204573 None\n",
      "0.068864808511535 None\n",
      "0.06819018874012256 None\n",
      "0.06819558388909211 None\n",
      "0.06830407371270965 None\n",
      "0.0681990269609627 None\n",
      "0.06817882989063112 None\n",
      "0.06820890663486597 None\n",
      "0.06817484859279686 None\n",
      "0.0682026800608732 None\n",
      "0.068175628668664 None\n",
      "0.06822863845486293 None\n",
      "0.06817311971151388 None\n",
      "0.0681771786138647 None\n",
      "0.06822846874407341 None\n",
      "0.06823861289949258 None\n",
      "0.06822240105743735 None\n",
      "0.0682223251753569 None\n",
      "0.06820231718613982 None\n",
      "0.06820347032343681 None\n",
      "0.06824557731490871 None\n"
     ]
    },
    {
     "data": {
      "application/vnd.jupyter.widget-view+json": {
       "model_id": "cc3533f585524ee29d8acc4d6ad71290",
       "version_major": 2,
       "version_minor": 0
      },
      "text/plain": [
       "  0%|          | 0/2000 [00:00<?, ?it/s]"
      ]
     },
     "metadata": {},
     "output_type": "display_data"
    },
    {
     "name": "stdout",
     "output_type": "stream",
     "text": [
      "0.08566348375711073 None\n",
      "0.06739598267546545 None\n",
      "0.06720311468168123 None\n",
      "0.06724579113200295 None\n",
      "0.06723781205737807 None\n",
      "0.06723921126222024 None\n",
      "0.06721073823057852 None\n",
      "0.06722080017292675 None\n",
      "0.06720937147906256 None\n",
      "0.06724472618092509 None\n",
      "0.06720548744276207 None\n",
      "0.06723005301211979 None\n",
      "0.06723174096142874 None\n",
      "0.06725147682762564 None\n",
      "0.06724202033526451 None\n",
      "0.06725230402448151 None\n",
      "0.06721974338032922 None\n",
      "0.0672267495200256 None\n",
      "0.0672028209889887 None\n",
      "0.06720394997803315 None\n",
      "0.06725943099018343 None\n"
     ]
    },
    {
     "data": {
      "application/vnd.jupyter.widget-view+json": {
       "model_id": "69d75cee3b024d519653c01b2d9c2a87",
       "version_major": 2,
       "version_minor": 0
      },
      "text/plain": [
       "  0%|          | 0/2000 [00:00<?, ?it/s]"
      ]
     },
     "metadata": {},
     "output_type": "display_data"
    },
    {
     "name": "stdout",
     "output_type": "stream",
     "text": [
      "0.08711426289054787 None\n",
      "0.08442659904740937 None\n",
      "0.08432676635732742 None\n",
      "0.08430275493503467 None\n",
      "0.0842785996795806 None\n",
      "0.06886380408640408 None\n",
      "0.07096902463407734 None\n",
      "0.06886541554007834 None\n",
      "0.0688797406488543 None\n",
      "0.08438670666268983 None\n",
      "0.06891330630725169 None\n",
      "0.08430328553150006 None\n",
      "0.06886573294390574 None\n",
      "0.06887938961999271 None\n",
      "0.08438635993309265 None\n",
      "0.06891285858524182 None\n",
      "0.06886348304694011 None\n",
      "0.06886509877666262 None\n",
      "0.06887984090923048 None\n",
      "0.06894674810098068 None\n",
      "0.06891189680059925 None\n"
     ]
    },
    {
     "data": {
      "application/vnd.jupyter.widget-view+json": {
       "model_id": "a157ffa5516a4120ad78a7eab53a6075",
       "version_major": 2,
       "version_minor": 0
      },
      "text/plain": [
       "  0%|          | 0/2000 [00:00<?, ?it/s]"
      ]
     },
     "metadata": {},
     "output_type": "display_data"
    },
    {
     "name": "stdout",
     "output_type": "stream",
     "text": [
      "0.08036847795703404 None\n",
      "0.06517535741883018 None\n",
      "0.06507301727286993 None\n",
      "0.06509513100369946 None\n",
      "0.06503670664740319 None\n",
      "0.06510118856902042 None\n",
      "0.065037329998069 None\n",
      "0.06503098579952074 None\n",
      "0.0650971883203693 None\n",
      "0.06504626953697563 None\n",
      "0.06505811991790876 None\n",
      "0.06513393004219332 None\n",
      "0.06504392247591809 None\n",
      "0.06502941683460926 None\n",
      "0.06503205119964238 None\n",
      "0.06502908341426605 None\n",
      "0.06502878129991956 None\n",
      "0.06503511890441623 None\n",
      "0.06506029542475313 None\n",
      "0.06504927039251007 None\n",
      "0.0650421625222831 None\n"
     ]
    },
    {
     "data": {
      "application/vnd.jupyter.widget-view+json": {
       "model_id": "ec136362ce6546168a7f52a8b3f89358",
       "version_major": 2,
       "version_minor": 0
      },
      "text/plain": [
       "  0%|          | 0/2000 [00:00<?, ?it/s]"
      ]
     },
     "metadata": {},
     "output_type": "display_data"
    },
    {
     "name": "stdout",
     "output_type": "stream",
     "text": [
      "0.09167922135357734 None\n",
      "0.07453981475254161 None\n",
      "0.07452051088426599 None\n",
      "0.07451967029699966 None\n",
      "0.0745399911941215 None\n",
      "0.07452301163619175 None\n",
      "0.0745311349691427 None\n",
      "0.07451716935516534 None\n",
      "0.07455340943024588 None\n",
      "0.07450454457100995 None\n",
      "0.07451623396753268 None\n",
      "0.07453776736606635 None\n",
      "0.07453022391779693 None\n",
      "0.07458061357752292 None\n",
      "0.07453302872919969 None\n",
      "0.07450566840568139 None\n",
      "0.07451576330955513 None\n",
      "0.0745290205209069 None\n",
      "0.07455493978398141 None\n",
      "0.07452724061676827 None\n",
      "0.07451853035367226 None\n",
      "Done!\n"
     ]
    },
    {
     "data": {
      "application/vnd.jupyter.widget-view+json": {
       "model_id": "234b76a6f19c48aca8312ef3d7f7fd58",
       "version_major": 2,
       "version_minor": 0
      },
      "text/plain": [
       "  0%|          | 0/2000 [00:00<?, ?it/s]"
      ]
     },
     "metadata": {},
     "output_type": "display_data"
    },
    {
     "name": "stdout",
     "output_type": "stream",
     "text": [
      "0.0845858957802121 None\n",
      "0.0718494453179323 None\n",
      "0.07184417587854522 None\n",
      "0.07184882305201513 None\n",
      "0.07184941991073607 None\n",
      "0.07187901720514882 None\n",
      "0.07188391501946685 None\n",
      "0.07184028928525975 None\n",
      "0.07185472075186608 None\n",
      "0.07185260226741247 None\n",
      "0.07186530621786658 None\n",
      "0.07186509069036096 None\n",
      "0.07183652907352081 None\n",
      "0.07185177923755331 None\n",
      "0.07189520372186547 None\n",
      "0.07184567753272578 None\n",
      "0.07186436428581236 None\n",
      "0.07184917651990752 None\n",
      "0.07184125072306297 None\n",
      "0.07183894212183935 None\n",
      "0.07188042906433953 None\n"
     ]
    },
    {
     "data": {
      "application/vnd.jupyter.widget-view+json": {
       "model_id": "3395d2442927471d887c3ec07175230e",
       "version_major": 2,
       "version_minor": 0
      },
      "text/plain": [
       "  0%|          | 0/2000 [00:00<?, ?it/s]"
      ]
     },
     "metadata": {},
     "output_type": "display_data"
    },
    {
     "name": "stdout",
     "output_type": "stream",
     "text": [
      "0.07870059684052864 None\n",
      "0.07016201101123545 None\n",
      "0.07022702482957145 None\n",
      "0.07019301693469561 None\n",
      "0.07017921648505501 None\n",
      "0.07018077053970115 None\n",
      "0.0701643771459245 None\n",
      "0.07017115382925387 None\n",
      "0.07020281699304412 None\n",
      "0.07018664258829521 None\n",
      "0.070166711970803 None\n",
      "0.07018177956663162 None\n",
      "0.07021822516358664 None\n",
      "0.07016369213950832 None\n",
      "0.0702654016389791 None\n",
      "0.07016234088504901 None\n",
      "0.07016306991159456 None\n",
      "0.070164302891353 None\n",
      "0.07019791221091512 None\n",
      "0.07021045006184848 None\n",
      "0.07020845769403873 None\n"
     ]
    },
    {
     "data": {
      "application/vnd.jupyter.widget-view+json": {
       "model_id": "b33163e6fa524f1b85e2a659098ac1c0",
       "version_major": 2,
       "version_minor": 0
      },
      "text/plain": [
       "  0%|          | 0/2000 [00:00<?, ?it/s]"
      ]
     },
     "metadata": {},
     "output_type": "display_data"
    },
    {
     "name": "stdout",
     "output_type": "stream",
     "text": [
      "0.07601335763951879 None\n",
      "0.06510175662771425 None\n",
      "0.06515040221455959 None\n",
      "0.06510127805701721 None\n",
      "0.06515079996048623 None\n",
      "0.06513563657715782 None\n",
      "0.06513582732818245 None\n",
      "0.06513607823813791 None\n",
      "0.06513642685225401 None\n",
      "0.06513684986185905 None\n",
      "0.06514904139714994 None\n",
      "0.06511129189964843 None\n",
      "0.06510242544874238 None\n",
      "0.06510301956212552 None\n",
      "0.06510364104967456 None\n",
      "0.06510428522554856 None\n",
      "0.06510494852238509 None\n",
      "0.06515602020046961 None\n",
      "0.06510608500236087 None\n",
      "0.0651074752441981 None\n",
      "0.0651077926535762 None\n"
     ]
    },
    {
     "data": {
      "application/vnd.jupyter.widget-view+json": {
       "model_id": "e4fd403216414897875c36f8bda90a20",
       "version_major": 2,
       "version_minor": 0
      },
      "text/plain": [
       "  0%|          | 0/2000 [00:00<?, ?it/s]"
      ]
     },
     "metadata": {},
     "output_type": "display_data"
    },
    {
     "name": "stdout",
     "output_type": "stream",
     "text": [
      "0.07647152943491588 None\n",
      "0.0666994437626506 None\n",
      "0.06669474172297402 None\n",
      "0.0735372493879666 None\n",
      "0.06669263353045289 None\n",
      "0.06669508375406484 None\n",
      "0.06673361912445422 None\n",
      "0.08303100685537354 None\n",
      "0.06670226409467017 None\n",
      "0.07362290615564106 None\n",
      "0.06670423814393242 None\n",
      "0.06672427356196961 None\n",
      "0.06673840222418494 None\n",
      "0.08303845561161895 None\n",
      "0.07360175677489378 None\n",
      "0.0830085011862985 None\n",
      "0.06668758006408632 None\n",
      "0.07354464099138591 None\n",
      "0.06669537226392108 None\n",
      "0.0830860020019247 None\n",
      "0.06671919007476446 None\n"
     ]
    },
    {
     "data": {
      "application/vnd.jupyter.widget-view+json": {
       "model_id": "08966b43147d49cb823839b6e5656768",
       "version_major": 2,
       "version_minor": 0
      },
      "text/plain": [
       "  0%|          | 0/2000 [00:00<?, ?it/s]"
      ]
     },
     "metadata": {},
     "output_type": "display_data"
    },
    {
     "name": "stdout",
     "output_type": "stream",
     "text": [
      "0.07566476892376094 None\n",
      "0.06605448989366886 None\n",
      "0.0660682556089714 None\n",
      "0.0661284893018998 None\n",
      "0.06604720268755723 None\n",
      "0.06605266618362483 None\n",
      "0.06603600849082422 None\n",
      "0.06605222730020963 None\n",
      "0.06603459639680412 None\n",
      "0.0660385491851583 None\n",
      "0.06604215020312051 None\n",
      "0.0660768800636772 None\n",
      "0.06604595932107435 None\n",
      "0.0660618067336968 None\n",
      "0.06604611879033032 None\n",
      "0.0660328120622671 None\n",
      "0.06604817206796397 None\n",
      "0.06603054363847508 None\n",
      "0.0660284765585066 None\n",
      "0.06605374846835796 None\n",
      "0.06606605879593608 None\n"
     ]
    },
    {
     "data": {
      "application/vnd.jupyter.widget-view+json": {
       "model_id": "fc9e43b288dc426d81b3ddf96aa9d17f",
       "version_major": 2,
       "version_minor": 0
      },
      "text/plain": [
       "  0%|          | 0/2000 [00:00<?, ?it/s]"
      ]
     },
     "metadata": {},
     "output_type": "display_data"
    },
    {
     "name": "stdout",
     "output_type": "stream",
     "text": [
      "0.08247727934550293 None\n",
      "0.0693392835897569 None\n",
      "0.06932064815037838 None\n",
      "0.06930441674056172 None\n",
      "0.0693228606972173 None\n",
      "0.06932975080475783 None\n",
      "0.06935850406556751 None\n",
      "0.06932157080439964 None\n",
      "0.06930028278832084 None\n",
      "0.06929526711095639 None\n",
      "0.06932597770938631 None\n",
      "0.06931338672576412 None\n",
      "0.06932300222868518 None\n",
      "0.06938174846029088 None\n",
      "0.06933974070747727 None\n",
      "0.06939880989561953 None\n",
      "0.06930131027560443 None\n",
      "0.06931576271525272 None\n",
      "0.06932472928619163 None\n",
      "0.06936218128868493 None\n",
      "0.06931788667390551 None\n"
     ]
    },
    {
     "data": {
      "application/vnd.jupyter.widget-view+json": {
       "model_id": "4723806fa4fd4f77992923799fa2469b",
       "version_major": 2,
       "version_minor": 0
      },
      "text/plain": [
       "  0%|          | 0/2000 [00:00<?, ?it/s]"
      ]
     },
     "metadata": {},
     "output_type": "display_data"
    },
    {
     "name": "stdout",
     "output_type": "stream",
     "text": [
      "0.07684786463637826 None\n",
      "0.06460987286894337 None\n",
      "0.06463170720129585 None\n",
      "0.06455911766114136 None\n",
      "0.06457317486253569 None\n",
      "0.06458634709149767 None\n",
      "0.0645531334476284 None\n",
      "0.06456304264636915 None\n",
      "0.06458741673443892 None\n",
      "0.0645701772863578 None\n",
      "0.06455264061624938 None\n",
      "0.06457441413402405 None\n",
      "0.06457257265967542 None\n",
      "0.06459822049104391 None\n",
      "0.06462478186465961 None\n",
      "0.06461083716417673 None\n",
      "0.06459575512091642 None\n",
      "0.06461245815155142 None\n",
      "0.06461940421139692 None\n",
      "0.06460757125081987 None\n",
      "0.0645657283309452 None\n"
     ]
    },
    {
     "data": {
      "application/vnd.jupyter.widget-view+json": {
       "model_id": "e0f9cb1f93a5492bb08ae7d46f6edc64",
       "version_major": 2,
       "version_minor": 0
      },
      "text/plain": [
       "  0%|          | 0/2000 [00:00<?, ?it/s]"
      ]
     },
     "metadata": {},
     "output_type": "display_data"
    },
    {
     "name": "stdout",
     "output_type": "stream",
     "text": [
      "0.07288694701050644 None\n",
      "0.0632163890214353 None\n",
      "0.06318147780639563 None\n",
      "0.06318966755178819 None\n",
      "0.06320710940055892 None\n",
      "0.06320116677852514 None\n",
      "0.06318509034607166 None\n",
      "0.06317682264884505 None\n",
      "0.06318068768122921 None\n",
      "0.06321716597928517 None\n",
      "0.06321555236308773 None\n",
      "0.06327496785379798 None\n",
      "0.06320572795948014 None\n",
      "0.06320541021347403 None\n",
      "0.0632073061579532 None\n",
      "0.06317786142533216 None\n",
      "0.06318814535927383 None\n",
      "0.06320397174799272 None\n",
      "0.06322454489300802 None\n",
      "0.06318534410351795 None\n",
      "0.06319658817099011 None\n"
     ]
    },
    {
     "data": {
      "application/vnd.jupyter.widget-view+json": {
       "model_id": "71586bf428cc4f9caf8adae7aea7486d",
       "version_major": 2,
       "version_minor": 0
      },
      "text/plain": [
       "  0%|          | 0/2000 [00:00<?, ?it/s]"
      ]
     },
     "metadata": {},
     "output_type": "display_data"
    },
    {
     "name": "stdout",
     "output_type": "stream",
     "text": [
      "0.08143927689266406 None\n",
      "0.06992138364022613 None\n",
      "0.06994656552740068 None\n",
      "0.06996481223111953 None\n",
      "0.07000356846691855 None\n",
      "0.06991608492006204 None\n",
      "0.06992622259866597 None\n",
      "0.06996204073067286 None\n",
      "0.06994998871070901 None\n",
      "0.0699251457506199 None\n",
      "0.07002935162376955 None\n",
      "0.06991456255912551 None\n",
      "0.06999314847247623 None\n",
      "0.0700064843268161 None\n",
      "0.06999106986360884 None\n",
      "0.06993006100005154 None\n",
      "0.06991735108956126 None\n",
      "0.06993671902986494 None\n",
      "0.06999083041133111 None\n",
      "0.07003516052994671 None\n",
      "0.06997614208057801 None\n"
     ]
    },
    {
     "data": {
      "application/vnd.jupyter.widget-view+json": {
       "model_id": "f620472b677d486d8a82e8fba11460cb",
       "version_major": 2,
       "version_minor": 0
      },
      "text/plain": [
       "  0%|          | 0/2000 [00:00<?, ?it/s]"
      ]
     },
     "metadata": {},
     "output_type": "display_data"
    },
    {
     "name": "stdout",
     "output_type": "stream",
     "text": [
      "0.0754849482175667 None\n",
      "0.06692476079461171 None\n",
      "0.06694911740597637 None\n",
      "0.06688657604330792 None\n",
      "0.0668974101710576 None\n",
      "0.06686840672846453 None\n",
      "0.06690156867213211 None\n",
      "0.06688122282640782 None\n",
      "0.0668953434083787 None\n",
      "0.06688444075054598 None\n",
      "0.06686855297131508 None\n",
      "0.06695146623358886 None\n",
      "0.06686902906154442 None\n",
      "0.06691609673659378 None\n",
      "0.06689013699402513 None\n",
      "0.06688716683958724 None\n",
      "0.06692415498191764 None\n",
      "0.06686983202064495 None\n",
      "0.06694713840619906 None\n",
      "0.06689894887617445 None\n",
      "0.0668777612284237 None\n",
      "Done!\n"
     ]
    },
    {
     "data": {
      "application/vnd.jupyter.widget-view+json": {
       "model_id": "7af5fcab0ab3473b9d2fae3d58b99e2c",
       "version_major": 2,
       "version_minor": 0
      },
      "text/plain": [
       "  0%|          | 0/2000 [00:00<?, ?it/s]"
      ]
     },
     "metadata": {},
     "output_type": "display_data"
    },
    {
     "name": "stdout",
     "output_type": "stream",
     "text": [
      "0.07657651193162117 None\n",
      "0.07028108596478633 None\n",
      "0.07029970111922498 None\n",
      "0.07029378924122923 None\n",
      "0.07028857499267682 None\n",
      "0.07032959531375588 None\n",
      "0.07029098951516863 None\n",
      "0.0703052869707368 None\n",
      "0.07035958651101486 None\n",
      "0.07028947277476529 None\n",
      "0.07028375428611784 None\n",
      "0.07029794314386766 None\n",
      "0.07028500066868099 None\n",
      "0.0702939482627129 None\n",
      "0.0702832575209531 None\n",
      "0.07030061340424738 None\n",
      "0.07033685749223509 None\n",
      "0.07031556834494071 None\n",
      "0.07028041409905182 None\n",
      "0.07034672123168144 None\n",
      "0.07032690267301064 None\n"
     ]
    },
    {
     "data": {
      "application/vnd.jupyter.widget-view+json": {
       "model_id": "adbd19cc35034e39a81ba4c841428bad",
       "version_major": 2,
       "version_minor": 0
      },
      "text/plain": [
       "  0%|          | 0/2000 [00:00<?, ?it/s]"
      ]
     },
     "metadata": {},
     "output_type": "display_data"
    },
    {
     "name": "stdout",
     "output_type": "stream",
     "text": [
      "0.07873245167824428 None\n",
      "0.07203891850957525 None\n",
      "0.0720434757155316 None\n",
      "0.07199849970767715 None\n",
      "0.07205733789578339 None\n",
      "0.08831022818068965 None\n",
      "0.08828281166178212 None\n",
      "0.07201232257885512 None\n",
      "0.08832842032405863 None\n",
      "0.07200065262624783 None\n",
      "0.0882057344535833 None\n",
      "0.07202968572244295 None\n",
      "0.08837536810362533 None\n",
      "0.07202956823312684 None\n",
      "0.07201045818253854 None\n",
      "0.07200589846938507 None\n",
      "0.08830543411795495 None\n",
      "0.07202053648445114 None\n",
      "0.08831293656772685 None\n",
      "0.072094128031849 None\n",
      "0.0720036912482385 None\n"
     ]
    },
    {
     "data": {
      "application/vnd.jupyter.widget-view+json": {
       "model_id": "bc80a8a6c64c465bb551ce8fad0cca5e",
       "version_major": 2,
       "version_minor": 0
      },
      "text/plain": [
       "  0%|          | 0/2000 [00:00<?, ?it/s]"
      ]
     },
     "metadata": {},
     "output_type": "display_data"
    },
    {
     "name": "stdout",
     "output_type": "stream",
     "text": [
      "0.07624971155306855 None\n",
      "0.06748552343620154 None\n",
      "0.06751961692153624 None\n",
      "0.06750306241850754 None\n",
      "0.06758287537470187 None\n",
      "0.06752393920252722 None\n",
      "0.06752351128448994 None\n",
      "0.06750967742679181 None\n",
      "0.0675455705482085 None\n",
      "0.06754063431913977 None\n",
      "0.0675033525501237 None\n",
      "0.0675375063191693 None\n",
      "0.06750174178687962 None\n",
      "0.06750748104102708 None\n",
      "0.06748462125074908 None\n",
      "0.06748663054116452 None\n",
      "0.06748414058438043 None\n",
      "0.06754494423469691 None\n",
      "0.06748803671090754 None\n",
      "0.06752713639345587 None\n",
      "0.06749165699706633 None\n"
     ]
    },
    {
     "data": {
      "application/vnd.jupyter.widget-view+json": {
       "model_id": "7531d159c634462a9c64a13c20639269",
       "version_major": 2,
       "version_minor": 0
      },
      "text/plain": [
       "  0%|          | 0/2000 [00:00<?, ?it/s]"
      ]
     },
     "metadata": {},
     "output_type": "display_data"
    },
    {
     "name": "stdout",
     "output_type": "stream",
     "text": [
      "0.06897720134353044 None\n",
      "0.06471187641266973 None\n",
      "0.06464718504900549 None\n",
      "0.06463456593562569 None\n",
      "0.0646254009437325 None\n",
      "0.0646678168498817 None\n",
      "0.06467776479947179 None\n",
      "0.0646593101423944 None\n",
      "0.06472726474111853 None\n",
      "0.0646288158687048 None\n",
      "0.06471493936527895 None\n",
      "0.06464558623610103 None\n",
      "0.06463504132541663 None\n",
      "0.06463725664070022 None\n",
      "0.06465987257583738 None\n",
      "0.0646805731201838 None\n",
      "0.06469462660827345 None\n",
      "0.06461907984735148 None\n",
      "0.06463328744509333 None\n",
      "0.06466201879884846 None\n",
      "0.06474175725605824 None\n"
     ]
    },
    {
     "data": {
      "application/vnd.jupyter.widget-view+json": {
       "model_id": "ec13318ce3af44a785224b5ff424dd21",
       "version_major": 2,
       "version_minor": 0
      },
      "text/plain": [
       "  0%|          | 0/2000 [00:00<?, ?it/s]"
      ]
     },
     "metadata": {},
     "output_type": "display_data"
    },
    {
     "name": "stdout",
     "output_type": "stream",
     "text": [
      "0.07348448068101646 None\n",
      "0.06999207781584596 None\n",
      "0.06990984375595313 None\n",
      "0.06997634989034596 None\n",
      "0.06996490063380079 None\n",
      "0.06994807292312977 None\n",
      "0.06999144527156524 None\n",
      "0.06989508516530363 None\n",
      "0.06990746681108073 None\n",
      "0.06989593996457308 None\n",
      "0.0699116314310817 None\n",
      "0.06991920658411438 None\n",
      "0.06993027303751698 None\n",
      "0.06992870563582101 None\n",
      "0.06990250043129026 None\n",
      "0.06991527834832945 None\n",
      "0.0699109456434156 None\n",
      "0.06990625943864849 None\n",
      "0.0699035263949454 None\n",
      "0.0699936690533896 None\n",
      "0.06995073482847 None\n"
     ]
    },
    {
     "data": {
      "application/vnd.jupyter.widget-view+json": {
       "model_id": "b3ceb5759deb4f6fbaebf071ae324178",
       "version_major": 2,
       "version_minor": 0
      },
      "text/plain": [
       "  0%|          | 0/2000 [00:00<?, ?it/s]"
      ]
     },
     "metadata": {},
     "output_type": "display_data"
    },
    {
     "name": "stdout",
     "output_type": "stream",
     "text": [
      "0.0879328386310867 None\n",
      "0.08224322050343921 None\n",
      "0.08223302202723144 None\n",
      "0.0822503307650395 None\n",
      "0.08225600244633832 None\n",
      "0.08225869158146293 None\n",
      "0.08230138195890072 None\n",
      "0.08226511531807623 None\n",
      "0.08223630302388163 None\n",
      "0.08224897762591048 None\n",
      "0.0822515796459593 None\n",
      "0.08225022777078284 None\n",
      "0.08224090644271849 None\n",
      "0.08226730256745851 None\n",
      "0.08225947602114936 None\n",
      "0.08225372661366087 None\n",
      "0.08225026412877048 None\n",
      "0.08227067008006694 None\n",
      "0.08225809830993383 None\n",
      "0.08223190054306889 None\n",
      "0.08225936609907972 None\n"
     ]
    },
    {
     "data": {
      "application/vnd.jupyter.widget-view+json": {
       "model_id": "91591cddce46497487c6dac1228cd82d",
       "version_major": 2,
       "version_minor": 0
      },
      "text/plain": [
       "  0%|          | 0/2000 [00:00<?, ?it/s]"
      ]
     },
     "metadata": {},
     "output_type": "display_data"
    },
    {
     "name": "stdout",
     "output_type": "stream",
     "text": [
      "0.07696348992852566 None\n",
      "0.07325707433303483 None\n",
      "0.07335526450197377 None\n",
      "0.07331393458941243 None\n",
      "0.07325666892376392 None\n",
      "0.07323035135968317 None\n",
      "0.07326851194906306 None\n",
      "0.07322804990134767 None\n",
      "0.07326792844454347 None\n",
      "0.07331235160529409 None\n",
      "0.07327532564704858 None\n",
      "0.07326889951765128 None\n",
      "0.07326703958741587 None\n",
      "0.0733414603898318 None\n",
      "0.07328329984652732 None\n",
      "0.07327434512408951 None\n",
      "0.07323636769304895 None\n",
      "0.07328173278179426 None\n",
      "0.0732622904469894 None\n",
      "0.07322798316685106 None\n",
      "0.07327867358161058 None\n"
     ]
    },
    {
     "data": {
      "application/vnd.jupyter.widget-view+json": {
       "model_id": "7149c41245574a52bb028841ab56ac00",
       "version_major": 2,
       "version_minor": 0
      },
      "text/plain": [
       "  0%|          | 0/2000 [00:00<?, ?it/s]"
      ]
     },
     "metadata": {},
     "output_type": "display_data"
    },
    {
     "name": "stdout",
     "output_type": "stream",
     "text": [
      "0.0701347026315495 None\n",
      "0.06711282593106643 None\n",
      "0.0670952055277835 None\n",
      "0.06706450913722642 None\n",
      "0.06705125196388381 None\n",
      "0.06703772971695775 None\n",
      "0.06702318455679515 None\n",
      "0.0670453239471929 None\n",
      "0.06705359540212798 None\n",
      "0.0670149507697029 None\n",
      "0.06702261370590226 None\n",
      "0.06702758076892432 None\n",
      "0.06702718651208449 None\n",
      "0.06705863528322797 None\n",
      "0.06703122774334574 None\n",
      "0.06705134133845136 None\n",
      "0.06701925960145041 None\n",
      "0.06702975058907049 None\n",
      "0.0670467058683325 None\n",
      "0.06702460199312565 None\n",
      "0.0670419357657317 None\n",
      "Done!\n"
     ]
    },
    {
     "data": {
      "application/vnd.jupyter.widget-view+json": {
       "model_id": "17f4e1e788d04fdb9355e83040b98f98",
       "version_major": 2,
       "version_minor": 0
      },
      "text/plain": [
       "  0%|          | 0/2000 [00:00<?, ?it/s]"
      ]
     },
     "metadata": {},
     "output_type": "display_data"
    },
    {
     "name": "stdout",
     "output_type": "stream",
     "text": [
      "0.08467690372814916 None\n",
      "0.07348013461028957 None\n",
      "0.07349384727835627 None\n",
      "0.07349007945126454 None\n",
      "0.07348569474902548 None\n",
      "0.07355872557267487 None\n",
      "0.07349047966845088 None\n",
      "0.07346981516523907 None\n",
      "0.0735235909906781 None\n",
      "0.07346541577898406 None\n",
      "0.07347510385694908 None\n",
      "0.07348915697387902 None\n",
      "0.07352568438145643 None\n",
      "0.0734963430040823 None\n",
      "0.07346605527933422 None\n",
      "0.07355964360402131 None\n",
      "0.07348417508646782 None\n",
      "0.0734942523487733 None\n",
      "0.0734656764368429 None\n",
      "0.07347328690602184 None\n",
      "0.07346732577004214 None\n"
     ]
    },
    {
     "data": {
      "application/vnd.jupyter.widget-view+json": {
       "model_id": "c8ec89c79e104103bf4d0d1691bf5274",
       "version_major": 2,
       "version_minor": 0
      },
      "text/plain": [
       "  0%|          | 0/2000 [00:00<?, ?it/s]"
      ]
     },
     "metadata": {},
     "output_type": "display_data"
    },
    {
     "name": "stdout",
     "output_type": "stream",
     "text": [
      "0.08240658365965195 None\n",
      "0.08783872473271381 None\n",
      "0.07997129527041806 None\n",
      "0.0715550420137641 None\n",
      "0.07154672270869847 None\n",
      "0.07155908333833233 None\n",
      "0.07993093917682176 None\n",
      "0.07156142054516579 None\n",
      "0.07154898365527135 None\n",
      "0.07154253235674576 None\n",
      "0.07156086425269359 None\n",
      "0.0799596538025211 None\n",
      "0.0715570956027883 None\n",
      "0.07152528149164566 None\n",
      "0.0879013498265847 None\n",
      "0.0716206513053338 None\n",
      "0.07997283025512003 None\n",
      "0.07155513071701093 None\n",
      "0.07151500707663458 None\n",
      "0.07159652355409353 None\n",
      "0.08781741869706713 None\n"
     ]
    },
    {
     "data": {
      "application/vnd.jupyter.widget-view+json": {
       "model_id": "4c4d3b1d51294dba964204368ed1c0b6",
       "version_major": 2,
       "version_minor": 0
      },
      "text/plain": [
       "  0%|          | 0/2000 [00:00<?, ?it/s]"
      ]
     },
     "metadata": {},
     "output_type": "display_data"
    },
    {
     "name": "stdout",
     "output_type": "stream",
     "text": [
      "0.07652104871581684 None\n",
      "0.0724181003970785 None\n",
      "0.07232513820416767 None\n",
      "0.07232854256533708 None\n",
      "0.07232746363141657 None\n",
      "0.072364809135156 None\n",
      "0.07230918544394513 None\n",
      "0.07236525068208025 None\n",
      "0.07232733595096567 None\n",
      "0.07230331829853742 None\n",
      "0.07240868108512655 None\n",
      "0.07232577731343201 None\n",
      "0.07230712881289295 None\n",
      "0.07230873944797585 None\n",
      "0.072326259253178 None\n",
      "0.07234306623246839 None\n",
      "0.07230873457889345 None\n",
      "0.07236214202198105 None\n",
      "0.07240005070058683 None\n",
      "0.07239452579261485 None\n",
      "0.07232166542812142 None\n"
     ]
    },
    {
     "data": {
      "application/vnd.jupyter.widget-view+json": {
       "model_id": "d202fc5540f0451a83cae61efcd80dc0",
       "version_major": 2,
       "version_minor": 0
      },
      "text/plain": [
       "  0%|          | 0/2000 [00:00<?, ?it/s]"
      ]
     },
     "metadata": {},
     "output_type": "display_data"
    },
    {
     "name": "stdout",
     "output_type": "stream",
     "text": [
      "0.07814468965812679 None\n",
      "0.07574691589414854 None\n",
      "0.0757262352937744 None\n",
      "0.07573076302576529 None\n",
      "0.07572012118507229 None\n",
      "0.0757477005338859 None\n",
      "0.07573601758545903 None\n",
      "0.07573924158699856 None\n",
      "0.07571789498348758 None\n",
      "0.07575994519636732 None\n",
      "0.07572797419275001 None\n",
      "0.0757204824869427 None\n",
      "0.07574208868939618 None\n",
      "0.07572051285059457 None\n",
      "0.07573921026848085 None\n",
      "0.07572364325772012 None\n",
      "0.07577126461185534 None\n",
      "0.07573281242615665 None\n",
      "0.07574393018462441 None\n",
      "0.07574321383404523 None\n",
      "0.07571806349503554 None\n"
     ]
    },
    {
     "data": {
      "application/vnd.jupyter.widget-view+json": {
       "model_id": "1760fc9bc58d4f90bd0856fdeb3b31a4",
       "version_major": 2,
       "version_minor": 0
      },
      "text/plain": [
       "  0%|          | 0/2000 [00:00<?, ?it/s]"
      ]
     },
     "metadata": {},
     "output_type": "display_data"
    },
    {
     "name": "stdout",
     "output_type": "stream",
     "text": [
      "0.07537871487298 None\n",
      "0.07124524534858823 None\n",
      "0.0712060789600274 None\n",
      "0.07125560975189342 None\n",
      "0.07120696294088835 None\n",
      "0.07121716188711147 None\n",
      "0.07119729940622152 None\n",
      "0.07125484195235077 None\n",
      "0.07119375991846927 None\n",
      "0.07119362621368927 None\n",
      "0.0712140106550255 None\n",
      "0.07125578005258644 None\n",
      "0.07120155733824945 None\n",
      "0.07121169913167315 None\n",
      "0.07120201207075628 None\n",
      "0.07121429153991249 None\n",
      "0.07126919766305316 None\n",
      "0.07120760675655091 None\n",
      "0.07120039431830913 None\n",
      "0.07123555047350881 None\n",
      "0.07124001465976325 None\n"
     ]
    },
    {
     "data": {
      "application/vnd.jupyter.widget-view+json": {
       "model_id": "fe6182fa004e4474876f131da6813222",
       "version_major": 2,
       "version_minor": 0
      },
      "text/plain": [
       "  0%|          | 0/2000 [00:00<?, ?it/s]"
      ]
     },
     "metadata": {},
     "output_type": "display_data"
    },
    {
     "name": "stdout",
     "output_type": "stream",
     "text": [
      "0.08077091213640006 None\n",
      "0.07638827819084078 None\n",
      "0.07637550290128645 None\n",
      "0.07636354859080667 None\n",
      "0.07640603686177469 None\n",
      "0.07643279892152897 None\n",
      "0.07637047122051495 None\n",
      "0.07638498502723524 None\n",
      "0.07637790714365955 None\n",
      "0.07642658091192486 None\n",
      "0.07643929625365606 None\n",
      "0.07641997900386395 None\n",
      "0.07636985143444039 None\n",
      "0.07636124337639072 None\n",
      "0.07637236083163484 None\n",
      "0.07636730791113873 None\n",
      "0.07636406980168872 None\n",
      "0.07636510506387417 None\n",
      "0.07637276851333213 None\n",
      "0.07640605471548545 None\n",
      "0.07642690521188286 None\n"
     ]
    },
    {
     "data": {
      "application/vnd.jupyter.widget-view+json": {
       "model_id": "4e0774269e1e46ccaf82c267881fe1a4",
       "version_major": 2,
       "version_minor": 0
      },
      "text/plain": [
       "  0%|          | 0/2000 [00:00<?, ?it/s]"
      ]
     },
     "metadata": {},
     "output_type": "display_data"
    },
    {
     "name": "stdout",
     "output_type": "stream",
     "text": [
      "0.07840549583683637 None\n",
      "0.07063146007228205 None\n",
      "0.07062063687507744 None\n",
      "0.07058263383805405 None\n",
      "0.07057111767868783 None\n",
      "0.07065539094268516 None\n",
      "0.07056861195586127 None\n",
      "0.07057182907844294 None\n",
      "0.07059463737483468 None\n",
      "0.07061298865240007 None\n",
      "0.07061182224954982 None\n",
      "0.07057305299279418 None\n",
      "0.07059785248607331 None\n",
      "0.07057051803393566 None\n",
      "0.07062004041527217 None\n",
      "0.07059531579049884 None\n",
      "0.07058531572411887 None\n",
      "0.07060360673986377 None\n",
      "0.07060723289792994 None\n",
      "0.07058272676062596 None\n",
      "0.07056884436888244 None\n"
     ]
    },
    {
     "data": {
      "application/vnd.jupyter.widget-view+json": {
       "model_id": "50926425249f40149eb0665edf2cc91c",
       "version_major": 2,
       "version_minor": 0
      },
      "text/plain": [
       "  0%|          | 0/2000 [00:00<?, ?it/s]"
      ]
     },
     "metadata": {},
     "output_type": "display_data"
    },
    {
     "name": "stdout",
     "output_type": "stream",
     "text": [
      "0.08202140838369343 None\n",
      "0.07639618724423032 None\n",
      "0.07639498804648223 None\n",
      "0.07639922691534637 None\n",
      "0.07639785737071517 None\n",
      "0.0764177909849254 None\n",
      "0.0763884648333733 None\n",
      "0.07639537513878801 None\n",
      "0.0763916882217895 None\n",
      "0.07640011012181444 None\n",
      "0.07639033803238438 None\n",
      "0.07643280484828863 None\n",
      "0.07643209394349507 None\n",
      "0.07638955045312024 None\n",
      "0.07642221034967504 None\n",
      "0.07639545119381409 None\n",
      "0.07637602482480035 None\n",
      "0.07642502609969863 None\n",
      "0.07640493724074532 None\n",
      "0.07638525914695678 None\n",
      "0.07638519191434008 None\n"
     ]
    },
    {
     "data": {
      "application/vnd.jupyter.widget-view+json": {
       "model_id": "ce662f1b29604076a5c97beebd106807",
       "version_major": 2,
       "version_minor": 0
      },
      "text/plain": [
       "  0%|          | 0/2000 [00:00<?, ?it/s]"
      ]
     },
     "metadata": {},
     "output_type": "display_data"
    },
    {
     "name": "stdout",
     "output_type": "stream",
     "text": [
      "0.0716220774911509 None\n",
      "0.06788811452037348 None\n",
      "0.06791529570716358 None\n",
      "0.0678649797510157 None\n",
      "0.06787899025888976 None\n",
      "0.06785796696889645 None\n",
      "0.0678714355609709 None\n",
      "0.0678858865851443 None\n",
      "0.06786380933872352 None\n",
      "0.06795090565357201 None\n",
      "0.06790080939657907 None\n",
      "0.06789021764303069 None\n",
      "0.06788817938258665 None\n",
      "0.06789181730640614 None\n",
      "0.06791628727620588 None\n",
      "0.06788234506448042 None\n",
      "0.0679287905090262 None\n",
      "0.06790663598090552 None\n",
      "0.0679157969167893 None\n",
      "0.06790261755730284 None\n",
      "0.06786093528553377 None\n"
     ]
    },
    {
     "data": {
      "application/vnd.jupyter.widget-view+json": {
       "model_id": "931e90da19a34c35babf96702405ce13",
       "version_major": 2,
       "version_minor": 0
      },
      "text/plain": [
       "  0%|          | 0/2000 [00:00<?, ?it/s]"
      ]
     },
     "metadata": {},
     "output_type": "display_data"
    },
    {
     "name": "stdout",
     "output_type": "stream",
     "text": [
      "0.07814231003011655 None\n",
      "0.07237112589504928 None\n",
      "0.07235382955785527 None\n",
      "0.07240759287936611 None\n",
      "0.07239266715799439 None\n",
      "0.0723781974487267 None\n",
      "0.07235438665159528 None\n",
      "0.07233000602576675 None\n",
      "0.07234986849059588 None\n",
      "0.072356545129306 None\n",
      "0.07234181027125175 None\n",
      "0.07233277816995837 None\n",
      "0.07233629249036083 None\n",
      "0.07235811224292774 None\n",
      "0.07235870426475413 None\n",
      "0.07232836987768518 None\n",
      "0.07236829444373769 None\n",
      "0.07235521719982649 None\n",
      "0.07237333700888468 None\n",
      "0.07234220582445161 None\n",
      "0.07233843760274576 None\n",
      "Done!\n"
     ]
    },
    {
     "data": {
      "application/vnd.jupyter.widget-view+json": {
       "model_id": "4aa929862ba44797ab98609cd9f8a9d0",
       "version_major": 2,
       "version_minor": 0
      },
      "text/plain": [
       "  0%|          | 0/2000 [00:00<?, ?it/s]"
      ]
     },
     "metadata": {},
     "output_type": "display_data"
    },
    {
     "name": "stdout",
     "output_type": "stream",
     "text": [
      "0.07969203420566415 None\n",
      "0.07194453909529938 None\n",
      "0.07191359976664662 None\n",
      "0.07194608881041616 None\n",
      "0.07190547910902431 None\n",
      "0.07193254568782564 None\n",
      "0.07191910384465838 None\n",
      "0.07192284130102769 None\n",
      "0.07197262216099229 None\n",
      "0.07197731033060908 None\n",
      "0.0719632374016873 None\n",
      "0.07190787765110535 None\n",
      "0.07192598256068274 None\n",
      "0.07191308749567847 None\n",
      "0.07191646064852814 None\n",
      "0.07193039755740568 None\n",
      "0.07196237204208156 None\n",
      "0.07191318857083434 None\n",
      "0.0719349125767774 None\n",
      "0.07194853276886784 None\n",
      "0.07191406403886155 None\n"
     ]
    },
    {
     "data": {
      "application/vnd.jupyter.widget-view+json": {
       "model_id": "aebb1cc47e08497cb40e8bfb63163869",
       "version_major": 2,
       "version_minor": 0
      },
      "text/plain": [
       "  0%|          | 0/2000 [00:00<?, ?it/s]"
      ]
     },
     "metadata": {},
     "output_type": "display_data"
    },
    {
     "name": "stdout",
     "output_type": "stream",
     "text": [
      "0.08017270740137596 None\n",
      "0.07169478667963505 None\n",
      "0.07161646994424312 None\n",
      "0.07164414839838246 None\n",
      "0.07161229948335457 None\n",
      "0.07164504639750653 None\n",
      "0.0716368519625547 None\n",
      "0.0716730357058115 None\n",
      "0.07169030062258097 None\n",
      "0.07160776958524545 None\n",
      "0.07163637502455128 None\n",
      "0.07162542835201849 None\n",
      "0.07161634672561146 None\n",
      "0.07164227878949897 None\n",
      "0.07161681512064658 None\n",
      "0.07162084083202055 None\n",
      "0.07167035809696015 None\n",
      "0.07162549519099652 None\n",
      "0.07161076873935002 None\n",
      "0.07160941762090056 None\n",
      "0.07161429491335916 None\n"
     ]
    },
    {
     "data": {
      "application/vnd.jupyter.widget-view+json": {
       "model_id": "317c3d7ad37747c79773ecb0192a850d",
       "version_major": 2,
       "version_minor": 0
      },
      "text/plain": [
       "  0%|          | 0/2000 [00:00<?, ?it/s]"
      ]
     },
     "metadata": {},
     "output_type": "display_data"
    },
    {
     "name": "stdout",
     "output_type": "stream",
     "text": [
      "0.07426504237065182 None\n",
      "0.06693250463010597 None\n",
      "0.0669169027629657 None\n",
      "0.06691454101209732 None\n",
      "0.06693488722551079 None\n",
      "0.06693868844827461 None\n",
      "0.06693486280245001 None\n",
      "0.06693515981610072 None\n",
      "0.06689968241160196 None\n",
      "0.06691485334412538 None\n",
      "0.06691794990561323 None\n",
      "0.06692068091363924 None\n",
      "0.06691805746480467 None\n",
      "0.0669853052814528 None\n",
      "0.06690642057601795 None\n",
      "0.06693747282168992 None\n",
      "0.06691022440121075 None\n",
      "0.06689663683206598 None\n",
      "0.06690322657834205 None\n",
      "0.06691306357738255 None\n",
      "0.06694073726267005 None\n"
     ]
    },
    {
     "data": {
      "application/vnd.jupyter.widget-view+json": {
       "model_id": "9d6accb8505f4fcabe89e1ad623f715b",
       "version_major": 2,
       "version_minor": 0
      },
      "text/plain": [
       "  0%|          | 0/2000 [00:00<?, ?it/s]"
      ]
     },
     "metadata": {},
     "output_type": "display_data"
    },
    {
     "name": "stdout",
     "output_type": "stream",
     "text": [
      "0.0863254159630552 None\n",
      "0.06740307251174382 None\n",
      "0.06729237740289545 None\n",
      "0.06736555387360724 None\n",
      "0.08360332337029315 None\n",
      "0.08360443709094298 None\n",
      "0.07532437796521294 None\n",
      "0.08369753395060671 None\n",
      "0.06732429021930574 None\n",
      "0.06730087394500803 None\n",
      "0.08366222388809136 None\n",
      "0.08363742902579066 None\n",
      "0.08364886605346124 None\n",
      "0.0753542616839289 None\n",
      "0.06738533906413345 None\n",
      "0.08365329221501733 None\n",
      "0.07537609702733646 None\n",
      "0.0672947355773762 None\n",
      "0.07537712150091491 None\n",
      "0.08361720267602066 None\n",
      "0.08359593094781165 None\n"
     ]
    },
    {
     "data": {
      "application/vnd.jupyter.widget-view+json": {
       "model_id": "02ac7eea5ab347b2b0bdbff279bc6e67",
       "version_major": 2,
       "version_minor": 0
      },
      "text/plain": [
       "  0%|          | 0/2000 [00:00<?, ?it/s]"
      ]
     },
     "metadata": {},
     "output_type": "display_data"
    },
    {
     "name": "stdout",
     "output_type": "stream",
     "text": [
      "0.0709848642209728 None\n",
      "0.06688355527800509 None\n",
      "0.06693892944555696 None\n",
      "0.06688863762852476 None\n",
      "0.06694614641151148 None\n",
      "0.06695040830748178 None\n",
      "0.0669064544433198 None\n",
      "0.06690561113088464 None\n",
      "0.06692342977873314 None\n",
      "0.06689557094182932 None\n",
      "0.0669287494904353 None\n",
      "0.06688854365237265 None\n",
      "0.06687999864995517 None\n",
      "0.0669182253841897 None\n",
      "0.0669297432881398 None\n",
      "0.06690431002559288 None\n",
      "0.06687834967054154 None\n",
      "0.06688547710549675 None\n",
      "0.06691562533535311 None\n",
      "0.06690471778306006 None\n",
      "0.06690151782429438 None\n"
     ]
    },
    {
     "data": {
      "application/vnd.jupyter.widget-view+json": {
       "model_id": "f6a431b718af49948e58ab1af28eac12",
       "version_major": 2,
       "version_minor": 0
      },
      "text/plain": [
       "  0%|          | 0/2000 [00:00<?, ?it/s]"
      ]
     },
     "metadata": {},
     "output_type": "display_data"
    },
    {
     "name": "stdout",
     "output_type": "stream",
     "text": [
      "0.0680153203618305 None\n",
      "0.06462249328528069 None\n",
      "0.06471456160755712 None\n",
      "0.06465782725424601 None\n",
      "0.08092637977857968 None\n",
      "0.06461775258006479 None\n",
      "0.0646397351946362 None\n",
      "0.08096591480534426 None\n",
      "0.06461812601276526 None\n",
      "0.0726692610375689 None\n",
      "0.06461987335515648 None\n",
      "0.0809220199563292 None\n",
      "0.07268227836841878 None\n",
      "0.06470488195277052 None\n",
      "0.06463714642294527 None\n",
      "0.06461788565074779 None\n",
      "0.06464783978552961 None\n",
      "0.07270180344235133 None\n",
      "0.07271475209145686 None\n",
      "0.07272616639100421 None\n",
      "0.07266476017623091 None\n"
     ]
    },
    {
     "data": {
      "application/vnd.jupyter.widget-view+json": {
       "model_id": "02bc8e4dea76422a86808ba1945897fb",
       "version_major": 2,
       "version_minor": 0
      },
      "text/plain": [
       "  0%|          | 0/2000 [00:00<?, ?it/s]"
      ]
     },
     "metadata": {},
     "output_type": "display_data"
    },
    {
     "name": "stdout",
     "output_type": "stream",
     "text": [
      "0.07339708223581456 None\n",
      "0.06963516464355923 None\n",
      "0.06965388032416257 None\n",
      "0.06965061574105982 None\n",
      "0.06963508275610811 None\n",
      "0.06971632692933727 None\n",
      "0.06968131318636461 None\n",
      "0.06964246034620049 None\n",
      "0.06968697908979127 None\n",
      "0.06963238677478084 None\n",
      "0.06967736831906862 None\n",
      "0.06964608181672571 None\n",
      "0.06965028076217986 None\n",
      "0.06971371258354164 None\n",
      "0.0696400804403943 None\n",
      "0.06971758626491498 None\n",
      "0.06965234792170544 None\n",
      "0.06971392790528308 None\n",
      "0.06970869608344515 None\n",
      "0.06964527971082049 None\n",
      "0.06967109853227316 None\n"
     ]
    },
    {
     "data": {
      "application/vnd.jupyter.widget-view+json": {
       "model_id": "4f71501e6386457a9ee257a34a95926f",
       "version_major": 2,
       "version_minor": 0
      },
      "text/plain": [
       "  0%|          | 0/2000 [00:00<?, ?it/s]"
      ]
     },
     "metadata": {},
     "output_type": "display_data"
    },
    {
     "name": "stdout",
     "output_type": "stream",
     "text": [
      "0.07350437104935557 None\n",
      "0.06832596456049203 None\n",
      "0.0682976941082931 None\n",
      "0.06832879239219883 None\n",
      "0.06830084131694562 None\n",
      "0.06834931533533135 None\n",
      "0.06828620474595415 None\n",
      "0.06829245177771567 None\n",
      "0.06831054659454253 None\n",
      "0.06828583122747584 None\n",
      "0.06831493468018997 None\n",
      "0.06828768596774784 None\n",
      "0.06835539750660866 None\n",
      "0.06829055302877934 None\n",
      "0.06828867948665819 None\n",
      "0.0683045814973408 None\n",
      "0.06828515020282777 None\n",
      "0.06833852205079116 None\n",
      "0.06833266706978272 None\n",
      "0.06831466738748766 None\n",
      "0.06828061737192695 None\n"
     ]
    },
    {
     "data": {
      "application/vnd.jupyter.widget-view+json": {
       "model_id": "fd7160255050490089f37e444b2fb4ea",
       "version_major": 2,
       "version_minor": 0
      },
      "text/plain": [
       "  0%|          | 0/2000 [00:00<?, ?it/s]"
      ]
     },
     "metadata": {},
     "output_type": "display_data"
    },
    {
     "name": "stdout",
     "output_type": "stream",
     "text": [
      "0.07287647285011453 None\n",
      "0.0705718657052418 None\n",
      "0.07059265593149655 None\n",
      "0.07057864380233822 None\n",
      "0.07063072118918798 None\n",
      "0.07057796112075557 None\n",
      "0.07060841139538482 None\n",
      "0.0705577900924842 None\n",
      "0.07060116556251311 None\n",
      "0.07057234977592819 None\n",
      "0.07057683781061874 None\n",
      "0.07056873885596075 None\n",
      "0.07056446834654884 None\n",
      "0.07058968980631947 None\n",
      "0.07057913697334524 None\n",
      "0.07060066163215536 None\n",
      "0.0705748343108427 None\n",
      "0.07062721094050967 None\n",
      "0.07064187888550286 None\n",
      "0.07059302525319172 None\n",
      "0.07062113409011507 None\n",
      "Done!\n"
     ]
    },
    {
     "data": {
      "application/vnd.jupyter.widget-view+json": {
       "model_id": "6408a27fbb484c3981cfcba14d61abae",
       "version_major": 2,
       "version_minor": 0
      },
      "text/plain": [
       "  0%|          | 0/2000 [00:00<?, ?it/s]"
      ]
     },
     "metadata": {},
     "output_type": "display_data"
    },
    {
     "name": "stdout",
     "output_type": "stream",
     "text": [
      "0.09601666444509983 None\n",
      "0.06769385853470952 None\n",
      "0.058892456523168976 None\n",
      "0.05888191266048408 None\n",
      "0.05891644045779387 None\n",
      "0.058909180601045594 None\n",
      "0.05888212162144524 None\n",
      "0.0589008048586816 None\n",
      "0.05889981739534819 None\n",
      "0.05889958015423709 None\n",
      "0.05887791859895282 None\n",
      "0.058889933220448776 None\n",
      "0.058927967971245596 None\n",
      "0.05888390148033843 None\n",
      "0.05890861327059159 None\n",
      "0.05888220100382405 None\n",
      "0.058899981520595016 None\n",
      "0.05895253899906572 None\n",
      "0.05894735508317126 None\n",
      "0.05891738319773902 None\n",
      "0.058924542397909764 None\n"
     ]
    },
    {
     "data": {
      "application/vnd.jupyter.widget-view+json": {
       "model_id": "b099490c97a44571ba98d68ca940bd30",
       "version_major": 2,
       "version_minor": 0
      },
      "text/plain": [
       "  0%|          | 0/2000 [00:00<?, ?it/s]"
      ]
     },
     "metadata": {},
     "output_type": "display_data"
    },
    {
     "name": "stdout",
     "output_type": "stream",
     "text": [
      "0.09429120077059282 None\n",
      "0.06605168518901738 None\n",
      "0.05772501057404512 None\n",
      "0.057733124878579 None\n",
      "0.05772426124596187 None\n",
      "0.0577337604801077 None\n",
      "0.057724225099975705 None\n",
      "0.05773354714285939 None\n",
      "0.057724082412575935 None\n",
      "0.057730818515913995 None\n",
      "0.05773089455884209 None\n",
      "0.0577310155120202 None\n",
      "0.0577311733168348 None\n",
      "0.057731361609548865 None\n",
      "0.0577315753766363 None\n",
      "0.05773181060215668 None\n",
      "0.05773206402335214 None\n",
      "0.05775425236799041 None\n",
      "0.05776535278975874 None\n",
      "0.05776775056194941 None\n",
      "0.05774516775782339 None\n"
     ]
    },
    {
     "data": {
      "application/vnd.jupyter.widget-view+json": {
       "model_id": "368c185fbdeb4248a0461b8cb8fbb451",
       "version_major": 2,
       "version_minor": 0
      },
      "text/plain": [
       "  0%|          | 0/2000 [00:00<?, ?it/s]"
      ]
     },
     "metadata": {},
     "output_type": "display_data"
    },
    {
     "name": "stdout",
     "output_type": "stream",
     "text": [
      "0.11079042627223622 None\n",
      "0.07248283962877566 None\n",
      "0.0570325523872961 None\n",
      "0.057014140412509365 None\n",
      "0.05708257359188036 None\n",
      "0.0732867496027335 None\n",
      "0.0732828944027881 None\n",
      "0.05697559097122867 None\n",
      "0.05698269041075525 None\n",
      "0.05699862080348041 None\n",
      "0.06324435043438556 None\n",
      "0.07330421079551519 None\n",
      "0.05698384552219636 None\n",
      "0.05703262254691465 None\n",
      "0.057017982450823276 None\n",
      "0.057086619992000626 None\n",
      "0.05698173659037184 None\n",
      "0.063294641702337 None\n",
      "0.07332924637392686 None\n",
      "0.07337305439483142 None\n",
      "0.057015932313267015 None\n"
     ]
    },
    {
     "data": {
      "application/vnd.jupyter.widget-view+json": {
       "model_id": "22c36244f09147eaa24b876cb7d61fd1",
       "version_major": 2,
       "version_minor": 0
      },
      "text/plain": [
       "  0%|          | 0/2000 [00:00<?, ?it/s]"
      ]
     },
     "metadata": {},
     "output_type": "display_data"
    },
    {
     "name": "stdout",
     "output_type": "stream",
     "text": [
      "0.0938431606262209 None\n",
      "0.06594855777875701 None\n",
      "0.061405122748030644 None\n",
      "0.06135300072490869 None\n",
      "0.061354771602748145 None\n",
      "0.06138034509928652 None\n",
      "0.06137285220296183 None\n",
      "0.06147423742731964 None\n",
      "0.06138367216916028 None\n",
      "0.061405987655957554 None\n",
      "0.06136173359270215 None\n",
      "0.06138054265561046 None\n",
      "0.06136000296121306 None\n",
      "0.06145132116623076 None\n",
      "0.06136825754402474 None\n",
      "0.06137752553480629 None\n",
      "0.061371695586210584 None\n",
      "0.06136428076019804 None\n",
      "0.061384488791402916 None\n",
      "0.06140710777655554 None\n",
      "0.061373483196930693 None\n"
     ]
    },
    {
     "data": {
      "application/vnd.jupyter.widget-view+json": {
       "model_id": "44a7c66d86fe42d9a9683e2fdd630142",
       "version_major": 2,
       "version_minor": 0
      },
      "text/plain": [
       "  0%|          | 0/2000 [00:00<?, ?it/s]"
      ]
     },
     "metadata": {},
     "output_type": "display_data"
    },
    {
     "name": "stdout",
     "output_type": "stream",
     "text": [
      "0.08912163448808783 None\n",
      "0.06129293984200409 None\n",
      "0.05501855227494096 None\n",
      "0.05503622292389351 None\n",
      "0.05509356882463614 None\n",
      "0.055096840282955424 None\n",
      "0.055043675025197546 None\n",
      "0.05509205103934863 None\n",
      "0.055029696556759634 None\n",
      "0.05504334223258768 None\n",
      "0.055024001286862446 None\n",
      "0.0550435287131365 None\n",
      "0.05502138559380195 None\n",
      "0.055043018695287896 None\n",
      "0.055089003268430005 None\n",
      "0.0550251899283694 None\n",
      "0.05501956763680916 None\n",
      "0.05505410333491967 None\n",
      "0.05501399846468485 None\n",
      "0.05508570906458094 None\n",
      "0.05502555181821982 None\n"
     ]
    },
    {
     "data": {
      "application/vnd.jupyter.widget-view+json": {
       "model_id": "bfa22c213ea3438a8584961445d8ab6c",
       "version_major": 2,
       "version_minor": 0
      },
      "text/plain": [
       "  0%|          | 0/2000 [00:00<?, ?it/s]"
      ]
     },
     "metadata": {},
     "output_type": "display_data"
    },
    {
     "name": "stdout",
     "output_type": "stream",
     "text": [
      "0.09461011221558506 None\n",
      "0.0669390414826938 None\n",
      "0.06576926593408484 None\n",
      "0.06580175465474897 None\n",
      "0.06584472394725384 None\n",
      "0.06578224317597467 None\n",
      "0.0658012909305804 None\n",
      "0.0658785155697148 None\n",
      "0.06585837887971138 None\n",
      "0.06576272962449264 None\n",
      "0.06578960013568083 None\n",
      "0.0658064326582525 None\n",
      "0.06579303611665224 None\n",
      "0.06583733350607822 None\n",
      "0.0658810610095048 None\n",
      "0.06583742344674232 None\n",
      "0.06576705627341342 None\n",
      "0.06576645352085798 None\n",
      "0.06578806360379738 None\n",
      "0.06577790916528098 None\n",
      "0.06579335158652962 None\n"
     ]
    },
    {
     "data": {
      "application/vnd.jupyter.widget-view+json": {
       "model_id": "6dc3ff81a45b459b8d9adca658c57d5c",
       "version_major": 2,
       "version_minor": 0
      },
      "text/plain": [
       "  0%|          | 0/2000 [00:00<?, ?it/s]"
      ]
     },
     "metadata": {},
     "output_type": "display_data"
    },
    {
     "name": "stdout",
     "output_type": "stream",
     "text": [
      "0.08800966956434612 None\n",
      "0.060215224222875986 None\n",
      "0.055240018485737424 None\n",
      "0.055234180771243736 None\n",
      "0.05523952001396117 None\n",
      "0.05524249529090612 None\n",
      "0.055267790387331844 None\n",
      "0.05527241841053673 None\n",
      "0.05523082333573345 None\n",
      "0.05526932500288608 None\n",
      "0.05523873853025281 None\n",
      "0.05523791675422578 None\n",
      "0.05523474489753317 None\n",
      "0.05524344783426957 None\n",
      "0.05524858648604411 None\n",
      "0.05523462651959007 None\n",
      "0.05525260339685817 None\n",
      "0.05525664921804986 None\n",
      "0.05524933608246432 None\n",
      "0.05526720555211201 None\n",
      "0.055243722712225635 None\n"
     ]
    },
    {
     "data": {
      "application/vnd.jupyter.widget-view+json": {
       "model_id": "e86e3e76c13946e99d7d42242296738a",
       "version_major": 2,
       "version_minor": 0
      },
      "text/plain": [
       "  0%|          | 0/2000 [00:00<?, ?it/s]"
      ]
     },
     "metadata": {},
     "output_type": "display_data"
    },
    {
     "name": "stdout",
     "output_type": "stream",
     "text": [
      "0.0927066521195138 None\n",
      "0.07090342082962552 None\n",
      "0.057777196815957374 None\n",
      "0.07410896250227784 None\n",
      "0.064089013329221 None\n",
      "0.06399803007748397 None\n",
      "0.05787242733571449 None\n",
      "0.05781677257922382 None\n",
      "0.06400087735035731 None\n",
      "0.06407047682881098 None\n",
      "0.0578205862104327 None\n",
      "0.05779420477195424 None\n",
      "0.05775965957920145 None\n",
      "0.05776688057434425 None\n",
      "0.07408189910901783 None\n",
      "0.05785332209083088 None\n",
      "0.057787642820912984 None\n",
      "0.07407603466030405 None\n",
      "0.06404811620772982 None\n",
      "0.05776016551393258 None\n",
      "0.057790562947026454 None\n"
     ]
    },
    {
     "data": {
      "application/vnd.jupyter.widget-view+json": {
       "model_id": "f1ba2cc193fd4c7f8b317fb3f178d9f4",
       "version_major": 2,
       "version_minor": 0
      },
      "text/plain": [
       "  0%|          | 0/2000 [00:00<?, ?it/s]"
      ]
     },
     "metadata": {},
     "output_type": "display_data"
    },
    {
     "name": "stdout",
     "output_type": "stream",
     "text": [
      "0.1004940672824906 None\n",
      "0.06644860786316693 None\n",
      "0.05937816661150766 None\n",
      "0.07572265831021777 None\n",
      "0.05937578983899942 None\n",
      "0.07569419714902578 None\n",
      "0.06563231331484115 None\n",
      "0.07577144389844331 None\n",
      "0.07573651040322603 None\n",
      "0.059383671691936556 None\n",
      "0.0656386315025363 None\n",
      "0.059415732518945115 None\n",
      "0.05939751989553298 None\n",
      "0.06568083287945875 None\n",
      "0.0756872836536776 None\n",
      "0.07571827262394655 None\n",
      "0.06563523303268098 None\n",
      "0.05939986176049748 None\n",
      "0.05942662932714169 None\n",
      "0.07571400429583239 None\n",
      "0.059388857277545386 None\n",
      "Done!\n"
     ]
    },
    {
     "data": {
      "application/vnd.jupyter.widget-view+json": {
       "model_id": "27432a29e4ec4b2aa87522e8849cf8b2",
       "version_major": 2,
       "version_minor": 0
      },
      "text/plain": [
       "  0%|          | 0/2000 [00:00<?, ?it/s]"
      ]
     },
     "metadata": {},
     "output_type": "display_data"
    },
    {
     "name": "stdout",
     "output_type": "stream",
     "text": [
      "0.06733910915054636 None\n",
      "0.06629473578184439 None\n",
      "0.06625692233762331 None\n",
      "0.06624669160321836 None\n",
      "0.06622255068572225 None\n",
      "0.06626168566748888 None\n",
      "0.06628161694494979 None\n",
      "0.06622074249852061 None\n",
      "0.06631715619124419 None\n",
      "0.06627197075172578 None\n",
      "0.06628004367595332 None\n",
      "0.06629014367822333 None\n",
      "0.06627167947693319 None\n",
      "0.0662955985514804 None\n",
      "0.06623773351045563 None\n",
      "0.0662323970876099 None\n",
      "0.0662587317378088 None\n",
      "0.06627181448693131 None\n",
      "0.06625994038425057 None\n",
      "0.06622856859939555 None\n",
      "0.06623378886760126 None\n"
     ]
    },
    {
     "data": {
      "application/vnd.jupyter.widget-view+json": {
       "model_id": "8ab52797614940a2a59b09e6c50150e0",
       "version_major": 2,
       "version_minor": 0
      },
      "text/plain": [
       "  0%|          | 0/2000 [00:00<?, ?it/s]"
      ]
     },
     "metadata": {},
     "output_type": "display_data"
    },
    {
     "name": "stdout",
     "output_type": "stream",
     "text": [
      "0.07088865334305325 None\n",
      "0.06516110091190361 None\n",
      "0.08142964447136022 None\n",
      "0.06515734133897963 None\n",
      "0.08144590648907092 None\n",
      "0.0708535221811796 None\n",
      "0.06512706872172129 None\n",
      "0.06511258629948866 None\n",
      "0.07080141852861233 None\n",
      "0.07078797944758003 None\n",
      "0.06511004705271874 None\n",
      "0.08145077053363153 None\n",
      "0.08145730476013907 None\n",
      "0.07079645418379987 None\n",
      "0.07081774741345576 None\n",
      "0.07079045325547265 None\n",
      "0.06511060979199368 None\n",
      "0.06511740036249583 None\n",
      "0.0651182875035044 None\n",
      "0.08143303558348225 None\n",
      "0.08143141105868473 None\n"
     ]
    },
    {
     "data": {
      "application/vnd.jupyter.widget-view+json": {
       "model_id": "30148f6409374b0fad7c2c159465fc98",
       "version_major": 2,
       "version_minor": 0
      },
      "text/plain": [
       "  0%|          | 0/2000 [00:00<?, ?it/s]"
      ]
     },
     "metadata": {},
     "output_type": "display_data"
    },
    {
     "name": "stdout",
     "output_type": "stream",
     "text": [
      "0.0708080865178802 None\n",
      "0.0698157138351882 None\n",
      "0.06985527079023493 None\n",
      "0.06980217877970588 None\n",
      "0.0697665055361582 None\n",
      "0.06980186226505222 None\n",
      "0.06983918299917444 None\n",
      "0.06979489480342262 None\n",
      "0.0697626555192325 None\n",
      "0.0697754357126119 None\n",
      "0.06981867384926227 None\n",
      "0.06978096010438106 None\n",
      "0.06977737195902671 None\n",
      "0.06980734341191591 None\n",
      "0.06985705241179085 None\n",
      "0.06976981727310397 None\n",
      "0.06978240364408056 None\n",
      "0.06975897127244449 None\n",
      "0.06982577301529193 None\n",
      "0.06983091490093014 None\n",
      "0.06978412484920904 None\n"
     ]
    },
    {
     "data": {
      "application/vnd.jupyter.widget-view+json": {
       "model_id": "576155e70d8044dfb1062a8e85ec84b3",
       "version_major": 2,
       "version_minor": 0
      },
      "text/plain": [
       "  0%|          | 0/2000 [00:00<?, ?it/s]"
      ]
     },
     "metadata": {},
     "output_type": "display_data"
    },
    {
     "name": "stdout",
     "output_type": "stream",
     "text": [
      "0.06347759142695855 None\n",
      "0.06289798173771996 None\n",
      "0.06290044055825175 None\n",
      "0.06291413889190374 None\n",
      "0.06289962559736574 None\n",
      "0.06295994490146692 None\n",
      "0.06295390824871755 None\n",
      "0.06289024442011978 None\n",
      "0.06289630089681675 None\n",
      "0.06296446601784857 None\n",
      "0.06290838002949828 None\n",
      "0.06294344239154004 None\n",
      "0.0629555289364585 None\n",
      "0.06289393627956154 None\n",
      "0.06291484368579836 None\n",
      "0.06290773786355755 None\n",
      "0.06297457636118672 None\n",
      "0.06290698108380732 None\n",
      "0.06290406158706052 None\n",
      "0.0629175297649791 None\n",
      "0.06293841314001081 None\n"
     ]
    },
    {
     "data": {
      "application/vnd.jupyter.widget-view+json": {
       "model_id": "06a6bc876a5440598519b8f96075d10e",
       "version_major": 2,
       "version_minor": 0
      },
      "text/plain": [
       "  0%|          | 0/2000 [00:00<?, ?it/s]"
      ]
     },
     "metadata": {},
     "output_type": "display_data"
    },
    {
     "name": "stdout",
     "output_type": "stream",
     "text": [
      "0.0642502656184638 None\n",
      "0.062219286968417206 None\n",
      "0.06223894931369143 None\n",
      "0.06227566448779202 None\n",
      "0.06222958624948719 None\n",
      "0.06223077198985968 None\n",
      "0.062222564633760205 None\n",
      "0.06227910295514892 None\n",
      "0.062214627257819274 None\n",
      "0.06227057757715978 None\n",
      "0.06231008360818494 None\n",
      "0.062228107416249116 None\n",
      "0.06225441008831059 None\n",
      "0.062226794242046635 None\n",
      "0.062222107568278145 None\n",
      "0.06221757555143799 None\n",
      "0.06221913074003595 None\n",
      "0.062258885504356584 None\n",
      "0.062261862224106485 None\n",
      "0.0622125247619644 None\n",
      "0.0622174548378625 None\n"
     ]
    },
    {
     "data": {
      "application/vnd.jupyter.widget-view+json": {
       "model_id": "08b17230585842258622d335d8c86fca",
       "version_major": 2,
       "version_minor": 0
      },
      "text/plain": [
       "  0%|          | 0/2000 [00:00<?, ?it/s]"
      ]
     },
     "metadata": {},
     "output_type": "display_data"
    },
    {
     "name": "stdout",
     "output_type": "stream",
     "text": [
      "0.06419366095836332 None\n",
      "0.06352333875894875 None\n",
      "0.06356934228918959 None\n",
      "0.06358367058059461 None\n",
      "0.06350046024912176 None\n",
      "0.06350655550869874 None\n",
      "0.06351967178811735 None\n",
      "0.0635459763224511 None\n",
      "0.06350090821862513 None\n",
      "0.063515584134516 None\n",
      "0.06350947131374764 None\n",
      "0.06354544250560204 None\n",
      "0.06352590282573199 None\n",
      "0.0635221572672851 None\n",
      "0.06353554441057352 None\n",
      "0.06357828592758485 None\n",
      "0.06351048985851063 None\n",
      "0.0635571852694986 None\n",
      "0.06356253588853805 None\n",
      "0.06351046464913598 None\n",
      "0.0635106906695786 None\n"
     ]
    },
    {
     "data": {
      "application/vnd.jupyter.widget-view+json": {
       "model_id": "7208bb4d52004292b95e347e680bf0b7",
       "version_major": 2,
       "version_minor": 0
      },
      "text/plain": [
       "  0%|          | 0/2000 [00:00<?, ?it/s]"
      ]
     },
     "metadata": {},
     "output_type": "display_data"
    },
    {
     "name": "stdout",
     "output_type": "stream",
     "text": [
      "0.06842704772862013 None\n",
      "0.0679055993271494 None\n",
      "0.07269266878481488 None\n",
      "0.06790611243326353 None\n",
      "0.0727005558957573 None\n",
      "0.06794185914340095 None\n",
      "0.06789552315921459 None\n",
      "0.06787618238683574 None\n",
      "0.07275698462018974 None\n",
      "0.06791160988943393 None\n",
      "0.07267687847445962 None\n",
      "0.06787311920113293 None\n",
      "0.07271874509265353 None\n",
      "0.08332254082280868 None\n",
      "0.0679560713636456 None\n",
      "0.06797898984909204 None\n",
      "0.0679100360813726 None\n",
      "0.06789512310795393 None\n",
      "0.06787578942315942 None\n",
      "0.08332103138731557 None\n",
      "0.07268002524078207 None\n"
     ]
    },
    {
     "data": {
      "application/vnd.jupyter.widget-view+json": {
       "model_id": "52e87a2c125a4e4ea300206e96d16bcd",
       "version_major": 2,
       "version_minor": 0
      },
      "text/plain": [
       "  0%|          | 0/2000 [00:00<?, ?it/s]"
      ]
     },
     "metadata": {},
     "output_type": "display_data"
    },
    {
     "name": "stdout",
     "output_type": "stream",
     "text": [
      "0.0702937103976175 None\n",
      "0.06670186853473765 None\n",
      "0.06674019210302518 None\n",
      "0.0667384568950257 None\n",
      "0.06671927200759264 None\n",
      "0.06669667191208836 None\n",
      "0.06669803960110363 None\n",
      "0.06674784979565448 None\n",
      "0.06670886957283258 None\n",
      "0.06673525320102527 None\n",
      "0.06669491520826959 None\n",
      "0.06673475137350057 None\n",
      "0.06672241775382444 None\n",
      "0.06677383097921212 None\n",
      "0.06678649462911934 None\n",
      "0.0667332245750196 None\n",
      "0.0667365686638565 None\n",
      "0.06671502773235866 None\n",
      "0.06678361297843882 None\n",
      "0.06670386133229693 None\n",
      "0.06671215103601252 None\n",
      "Done!\n"
     ]
    },
    {
     "data": {
      "application/vnd.jupyter.widget-view+json": {
       "model_id": "f927afb3c2bd4b678ad99c826b2a7d0d",
       "version_major": 2,
       "version_minor": 0
      },
      "text/plain": [
       "  0%|          | 0/2000 [00:00<?, ?it/s]"
      ]
     },
     "metadata": {},
     "output_type": "display_data"
    },
    {
     "name": "stdout",
     "output_type": "stream",
     "text": [
      "0.0727712580012539 None\n",
      "0.0655141979963491 None\n",
      "0.06544015565964043 None\n",
      "0.0654323543696762 None\n",
      "0.0654312055843144 None\n",
      "0.06544880076069354 None\n",
      "0.06547519727620849 None\n",
      "0.06544122927351878 None\n",
      "0.06546080952295287 None\n",
      "0.06542800636195972 None\n",
      "0.06548707557052037 None\n",
      "0.06542734338931733 None\n",
      "0.06542386353769553 None\n",
      "0.06541370994331275 None\n",
      "0.06547934435451654 None\n",
      "0.06543554762021157 None\n",
      "0.06544861280187947 None\n",
      "0.06545735065901113 None\n",
      "0.06542688706672756 None\n",
      "0.06542347658612266 None\n",
      "0.06544535947977469 None\n"
     ]
    },
    {
     "data": {
      "application/vnd.jupyter.widget-view+json": {
       "model_id": "50a51f53b6704c10ad6c0aa166c2dc08",
       "version_major": 2,
       "version_minor": 0
      },
      "text/plain": [
       "  0%|          | 0/2000 [00:00<?, ?it/s]"
      ]
     },
     "metadata": {},
     "output_type": "display_data"
    },
    {
     "name": "stdout",
     "output_type": "stream",
     "text": [
      "0.07254338327834844 None\n",
      "0.07033875899334815 None\n",
      "0.07032574108192909 None\n",
      "0.07030485132540269 None\n",
      "0.07031000730896747 None\n",
      "0.07032180802525756 None\n",
      "0.07038032834622993 None\n",
      "0.0703286855973288 None\n",
      "0.0703110743443442 None\n",
      "0.0703277176970389 None\n",
      "0.070355613893853 None\n",
      "0.07034429241900839 None\n",
      "0.07031341313826965 None\n",
      "0.07035714008481388 None\n",
      "0.07035433643358029 None\n",
      "0.07031774304591146 None\n",
      "0.07032326879770534 None\n",
      "0.07032515733972788 None\n",
      "0.07032779577250552 None\n",
      "0.0703147649391277 None\n",
      "0.07030968118317157 None\n"
     ]
    },
    {
     "data": {
      "application/vnd.jupyter.widget-view+json": {
       "model_id": "363b1916f6ce4c868fca1cb0bb50f910",
       "version_major": 2,
       "version_minor": 0
      },
      "text/plain": [
       "  0%|          | 0/2000 [00:00<?, ?it/s]"
      ]
     },
     "metadata": {},
     "output_type": "display_data"
    },
    {
     "name": "stdout",
     "output_type": "stream",
     "text": [
      "0.07230706022423058 None\n",
      "0.06653723557649054 None\n",
      "0.06649304608336085 None\n",
      "0.06649990282048288 None\n",
      "0.06649775337046661 None\n",
      "0.06652564784285694 None\n",
      "0.06651634911155982 None\n",
      "0.06648897685580112 None\n",
      "0.06649697613754774 None\n",
      "0.06653517544672927 None\n",
      "0.06657728475260509 None\n",
      "0.06648883405940328 None\n",
      "0.06651239204745106 None\n",
      "0.06653192821863214 None\n",
      "0.06658243553290431 None\n",
      "0.0665011913826934 None\n",
      "0.06651057088046602 None\n",
      "0.06653350452551131 None\n",
      "0.0665046453135427 None\n",
      "0.0665309390605336 None\n",
      "0.06649767532717228 None\n"
     ]
    },
    {
     "data": {
      "application/vnd.jupyter.widget-view+json": {
       "model_id": "cb702129b171462c825c5f938b4cbc51",
       "version_major": 2,
       "version_minor": 0
      },
      "text/plain": [
       "  0%|          | 0/2000 [00:00<?, ?it/s]"
      ]
     },
     "metadata": {},
     "output_type": "display_data"
    },
    {
     "name": "stdout",
     "output_type": "stream",
     "text": [
      "0.07509410610328043 None\n",
      "0.06712354823275551 None\n",
      "0.06713520294182429 None\n",
      "0.0671256832633249 None\n",
      "0.06714007024148685 None\n",
      "0.06713020481949945 None\n",
      "0.06711875358028234 None\n",
      "0.06711649639236981 None\n",
      "0.06717201662229179 None\n",
      "0.06714403748792963 None\n",
      "0.0671620836585154 None\n",
      "0.067103408096494 None\n",
      "0.06712267478725245 None\n",
      "0.06710790339568849 None\n",
      "0.0671790832419309 None\n",
      "0.06711105341672802 None\n",
      "0.06712031087658832 None\n",
      "0.06710765936075463 None\n",
      "0.06712166598186997 None\n",
      "0.06712105233537953 None\n",
      "0.06713220305900722 None\n"
     ]
    },
    {
     "data": {
      "application/vnd.jupyter.widget-view+json": {
       "model_id": "53c46bcf5710498196f412eb0b2bda37",
       "version_major": 2,
       "version_minor": 0
      },
      "text/plain": [
       "  0%|          | 0/2000 [00:00<?, ?it/s]"
      ]
     },
     "metadata": {},
     "output_type": "display_data"
    },
    {
     "name": "stdout",
     "output_type": "stream",
     "text": [
      "0.06703100686487834 None\n",
      "0.06668286987349388 None\n",
      "0.06669403405901932 None\n",
      "0.06668793914142712 None\n",
      "0.06670677326588553 None\n",
      "0.06670746686948853 None\n",
      "0.0667005447489873 None\n",
      "0.0666803854253077 None\n",
      "0.0666893957676907 None\n",
      "0.06669350325924434 None\n",
      "0.06668957580543385 None\n",
      "0.06668199090274846 None\n",
      "0.06669678182288322 None\n",
      "0.06668217768965276 None\n",
      "0.06673432266602762 None\n",
      "0.06672114710216857 None\n",
      "0.06673490103376527 None\n",
      "0.06670178096937206 None\n",
      "0.06669913566466382 None\n",
      "0.06671371874645211 None\n",
      "0.06670078228996645 None\n"
     ]
    },
    {
     "data": {
      "application/vnd.jupyter.widget-view+json": {
       "model_id": "e24a432643ba4f62882da56ef66e61a9",
       "version_major": 2,
       "version_minor": 0
      },
      "text/plain": [
       "  0%|          | 0/2000 [00:00<?, ?it/s]"
      ]
     },
     "metadata": {},
     "output_type": "display_data"
    },
    {
     "name": "stdout",
     "output_type": "stream",
     "text": [
      "0.07283404326906351 None\n",
      "0.06599402761368638 None\n",
      "0.0659864328979707 None\n",
      "0.06600992276343422 None\n",
      "0.06599078449509146 None\n",
      "0.06601742659795365 None\n",
      "0.06597157103649468 None\n",
      "0.06600918490551339 None\n",
      "0.06598063567595408 None\n",
      "0.06599119478564199 None\n",
      "0.06596548857065845 None\n",
      "0.06599502818613451 None\n",
      "0.0659706826353349 None\n",
      "0.06602355339680799 None\n",
      "0.06599292937208479 None\n",
      "0.06596828875171047 None\n",
      "0.0660236586882959 None\n",
      "0.0659914105514946 None\n",
      "0.0659931719351508 None\n",
      "0.06598702335630396 None\n",
      "0.06599888738660473 None\n",
      "Done!\n"
     ]
    }
   ],
   "source": [
    "n = 3\n",
    "d = 2**n\n",
    "\n",
    "np.random.seed(42)\n",
    "random.seed(42)\n",
    "tf.random.set_seed(42)\n",
    "rng = np.random.default_rng(seed=42)\n",
    "\n",
    "[distance_best_list, model_best_list] = loader(data_path(\"diluted_fitting_8layer.model\"))\n",
    "rank_start = model_best_list[-1].channel.rank\n",
    "\n",
    "distance_best_list, model_best_list = fit_diluted_unitary(spectrum_target_list2,\n",
    "                                                          d=d, \n",
    "                                                          rank_start = rank_start,\n",
    "                                                          rank_step = 1,\n",
    "                                                          num_iter = 2000,\n",
    "                                                          )\n",
    "\n",
    "saver([distance_best_list, model_best_list], data_path(\"diluted_fitting_16layer.model\"))"
   ]
  },
  {
   "cell_type": "code",
   "execution_count": 44,
   "metadata": {},
   "outputs": [
    {
     "data": {
      "application/vnd.jupyter.widget-view+json": {
       "model_id": "b2ac6d5db4454dd1b62a0149048aac7c",
       "version_major": 2,
       "version_minor": 0
      },
      "text/plain": [
       "  0%|          | 0/10 [00:00<?, ?it/s]"
      ]
     },
     "metadata": {},
     "output_type": "display_data"
    },
    {
     "data": {
      "application/vnd.jupyter.widget-view+json": {
       "model_id": "a92088e50aca40a68c18c819bfe5467a",
       "version_major": 2,
       "version_minor": 0
      },
      "text/plain": [
       "  0%|          | 0/2000 [00:00<?, ?it/s]"
      ]
     },
     "metadata": {},
     "output_type": "display_data"
    },
    {
     "name": "stdout",
     "output_type": "stream",
     "text": [
      "0.1974930172033022 None\n",
      "0.17631822041885273 None\n",
      "0.15544040651410143 None\n",
      "0.1349907613596961 None\n",
      "0.11502532794971906 None\n",
      "0.09563990825107346 None\n",
      "0.0827139050289655 None\n",
      "0.08272385603446351 None\n",
      "0.0827356894314718 None\n",
      "0.08274559298484606 None\n",
      "0.08276360768627683 None\n",
      "0.08275133705220963 None\n",
      "0.08271570702686831 None\n",
      "0.08272319070703274 None\n",
      "0.08273006836912963 None\n",
      "0.08274755169994875 None\n",
      "0.0827150419724202 None\n",
      "0.08270455430945661 None\n",
      "0.08270456315754393 None\n",
      "0.08271745908303618 None\n",
      "0.08276099931952999 None\n"
     ]
    },
    {
     "data": {
      "application/vnd.jupyter.widget-view+json": {
       "model_id": "626adb1c4c3a41cc91980eb022193bcb",
       "version_major": 2,
       "version_minor": 0
      },
      "text/plain": [
       "  0%|          | 0/2000 [00:00<?, ?it/s]"
      ]
     },
     "metadata": {},
     "output_type": "display_data"
    },
    {
     "name": "stdout",
     "output_type": "stream",
     "text": [
      "0.2010992146130911 None\n",
      "0.17992003167259948 None\n",
      "0.158949577350166 None\n",
      "0.13842247113226117 None\n",
      "0.11876706369530703 None\n",
      "0.09977944209595044 None\n",
      "0.08493652259017087 None\n",
      "0.08476800248787121 None\n",
      "0.08480034351633081 None\n",
      "0.08478753196629933 None\n",
      "0.08477336333593603 None\n",
      "0.08478233241644254 None\n",
      "0.08480936769618318 None\n",
      "0.0848288915563219 None\n",
      "0.08476899045583998 None\n",
      "0.08476901945230035 None\n",
      "0.08482061738003475 None\n",
      "0.08476771225750485 None\n",
      "0.08478672141659205 None\n",
      "0.08480558550138452 None\n",
      "0.08476922374054327 None\n"
     ]
    },
    {
     "data": {
      "application/vnd.jupyter.widget-view+json": {
       "model_id": "9e3ac25537e441d59febacbd639b5238",
       "version_major": 2,
       "version_minor": 0
      },
      "text/plain": [
       "  0%|          | 0/2000 [00:00<?, ?it/s]"
      ]
     },
     "metadata": {},
     "output_type": "display_data"
    },
    {
     "name": "stdout",
     "output_type": "stream",
     "text": [
      "0.19763802211359377 None\n",
      "0.17667218893803924 None\n",
      "0.15596369475707722 None\n",
      "0.13577697808118994 None\n",
      "0.1163209631001523 None\n",
      "0.09766104238874353 None\n",
      "0.07994705684138463 None\n",
      "0.07978869322608598 None\n",
      "0.07980836760989042 None\n",
      "0.07982836752323871 None\n",
      "0.07978287208190074 None\n",
      "0.07982815547236038 None\n",
      "0.07978661200190527 None\n",
      "0.0797826525216272 None\n",
      "0.07982641913251592 None\n",
      "0.07981114489312142 None\n",
      "0.07983066834166824 None\n",
      "0.07981149949319599 None\n",
      "0.07981253984400875 None\n",
      "0.07978462100860437 None\n",
      "0.0797848837573902 None\n"
     ]
    },
    {
     "data": {
      "application/vnd.jupyter.widget-view+json": {
       "model_id": "8d29515cb0bd482d86306e27cb8d5f4a",
       "version_major": 2,
       "version_minor": 0
      },
      "text/plain": [
       "  0%|          | 0/2000 [00:00<?, ?it/s]"
      ]
     },
     "metadata": {},
     "output_type": "display_data"
    },
    {
     "name": "stdout",
     "output_type": "stream",
     "text": [
      "0.19782902673626304 None\n",
      "0.17657912398656672 None\n",
      "0.15548714909491873 None\n",
      "0.1347275150033262 None\n",
      "0.11448635863853489 None\n",
      "0.0948623997853581 None\n",
      "0.08090954087533776 None\n",
      "0.08071294826262282 None\n",
      "0.08073014829354867 None\n",
      "0.0807415033859571 None\n",
      "0.08076281626964406 None\n",
      "0.08072828271654835 None\n",
      "0.08073633296308123 None\n",
      "0.0807208490990777 None\n",
      "0.08074930322141155 None\n",
      "0.08070620818632243 None\n",
      "0.08077561196970337 None\n",
      "0.0807051879948874 None\n",
      "0.08072828044886797 None\n",
      "0.08079674658559885 None\n",
      "0.08073269068609334 None\n"
     ]
    },
    {
     "data": {
      "application/vnd.jupyter.widget-view+json": {
       "model_id": "db7ff034780b439b9fb8c182972e9277",
       "version_major": 2,
       "version_minor": 0
      },
      "text/plain": [
       "  0%|          | 0/2000 [00:00<?, ?it/s]"
      ]
     },
     "metadata": {},
     "output_type": "display_data"
    },
    {
     "name": "stdout",
     "output_type": "stream",
     "text": [
      "0.19256978598011265 None\n",
      "0.17118055414605401 None\n",
      "0.15004554775002155 None\n",
      "0.12934852521332132 None\n",
      "0.10928049837909588 None\n",
      "0.09003010742671307 None\n",
      "0.07785808013756709 None\n",
      "0.07776728166867744 None\n",
      "0.07778893127919345 None\n",
      "0.0777654616443378 None\n",
      "0.07779967659287577 None\n",
      "0.07776131384144427 None\n",
      "0.07777619309696572 None\n",
      "0.07778925360240019 None\n",
      "0.07781018815037387 None\n",
      "0.07778828090193282 None\n",
      "0.07777992183236758 None\n",
      "0.07777365506651317 None\n",
      "0.07779311626395892 None\n",
      "0.07783894802069179 None\n",
      "0.07777691060079633 None\n"
     ]
    },
    {
     "data": {
      "application/vnd.jupyter.widget-view+json": {
       "model_id": "abdc428957db431a95842a5375948862",
       "version_major": 2,
       "version_minor": 0
      },
      "text/plain": [
       "  0%|          | 0/2000 [00:00<?, ?it/s]"
      ]
     },
     "metadata": {},
     "output_type": "display_data"
    },
    {
     "name": "stdout",
     "output_type": "stream",
     "text": [
      "0.1937889167867346 None\n",
      "0.18861558516555196 None\n",
      "0.15144727278604037 None\n",
      "0.1331623640383375 None\n",
      "0.11105600947122861 None\n",
      "0.09210301016640891 None\n",
      "0.09541225549278783 None\n",
      "0.08132765061468698 None\n",
      "0.09538431163413436 None\n",
      "0.07905992430452367 None\n",
      "0.08130675428212852 None\n",
      "0.079127828211905 None\n",
      "0.07909295514074988 None\n",
      "0.07908363449542881 None\n",
      "0.07906234327966591 None\n",
      "0.0813108599944808 None\n",
      "0.08132630687391 None\n",
      "0.09542977022619098 None\n",
      "0.09538221014554746 None\n",
      "0.09537459611374585 None\n",
      "0.07907862734124294 None\n"
     ]
    },
    {
     "data": {
      "application/vnd.jupyter.widget-view+json": {
       "model_id": "2be01bd94bb44060b07ef37beb0fbc40",
       "version_major": 2,
       "version_minor": 0
      },
      "text/plain": [
       "  0%|          | 0/2000 [00:00<?, ?it/s]"
      ]
     },
     "metadata": {},
     "output_type": "display_data"
    },
    {
     "name": "stdout",
     "output_type": "stream",
     "text": [
      "0.1949826855707549 None\n",
      "0.17330114138313985 None\n",
      "0.15177541055386898 None\n",
      "0.13060167639565765 None\n",
      "0.10998012098396959 None\n",
      "0.09008193115577622 None\n",
      "0.0784353791718925 None\n",
      "0.0783799018486939 None\n",
      "0.07836008270112217 None\n",
      "0.07836093115072182 None\n",
      "0.0783603707646186 None\n",
      "0.07836831932926024 None\n",
      "0.07838918713979244 None\n",
      "0.0783815145140068 None\n",
      "0.07836086371277484 None\n",
      "0.07840253741321788 None\n",
      "0.07838694172568418 None\n",
      "0.07836292391056739 None\n",
      "0.07836517869826608 None\n",
      "0.07836791695633777 None\n",
      "0.07844120450780415 None\n"
     ]
    },
    {
     "data": {
      "application/vnd.jupyter.widget-view+json": {
       "model_id": "116e137762584ed4ba28967f769b6be7",
       "version_major": 2,
       "version_minor": 0
      },
      "text/plain": [
       "  0%|          | 0/2000 [00:00<?, ?it/s]"
      ]
     },
     "metadata": {},
     "output_type": "display_data"
    },
    {
     "name": "stdout",
     "output_type": "stream",
     "text": [
      "0.21575746790291556 None\n",
      "0.17832842067212218 None\n",
      "0.17377339091682809 None\n",
      "0.1369986070820059 None\n",
      "0.1334255809274884 None\n",
      "0.09791510506027346 None\n",
      "0.09971807437944931 None\n",
      "0.1025814994587298 None\n",
      "0.08317578039293624 None\n",
      "0.08541953187751186 None\n",
      "0.08541681315323528 None\n",
      "0.085430566888092 None\n",
      "0.08540586252456081 None\n",
      "0.0994803202791957 None\n",
      "0.0832207632707396 None\n",
      "0.08322245882082734 None\n",
      "0.0854747436229579 None\n",
      "0.11667784311464047 None\n",
      "0.09950805151327775 None\n",
      "0.09953454938839858 None\n",
      "0.09951972127237539 None\n",
      "Done!\n"
     ]
    },
    {
     "data": {
      "application/vnd.jupyter.widget-view+json": {
       "model_id": "4e525883ecd8400eaeefd523bc0f5434",
       "version_major": 2,
       "version_minor": 0
      },
      "text/plain": [
       "  0%|          | 0/2000 [00:00<?, ?it/s]"
      ]
     },
     "metadata": {},
     "output_type": "display_data"
    },
    {
     "name": "stdout",
     "output_type": "stream",
     "text": [
      "0.20901857356139703 None\n",
      "0.17230772277368128 None\n",
      "0.16838271044495579 None\n",
      "0.1485049416511867 None\n",
      "0.11332217847952035 None\n",
      "0.11122947899112623 None\n",
      "0.07796036846342015 None\n",
      "0.11095755563203467 None\n",
      "0.09379547638945052 None\n",
      "0.09369171220360353 None\n",
      "0.09384542651913047 None\n",
      "0.09365273457997994 None\n",
      "0.0775156946925005 None\n",
      "0.07752754333626218 None\n",
      "0.0937972862113367 None\n",
      "0.07752918951999065 None\n",
      "0.07751781212635263 None\n",
      "0.09366059060557293 None\n",
      "0.09365871983668154 None\n",
      "0.07752440097717002 None\n",
      "0.09378408489289466 None\n"
     ]
    },
    {
     "data": {
      "application/vnd.jupyter.widget-view+json": {
       "model_id": "239be2a6ee3343c58fc4096b313afe9e",
       "version_major": 2,
       "version_minor": 0
      },
      "text/plain": [
       "  0%|          | 0/2000 [00:00<?, ?it/s]"
      ]
     },
     "metadata": {},
     "output_type": "display_data"
    },
    {
     "name": "stdout",
     "output_type": "stream",
     "text": [
      "0.19737594941266443 None\n",
      "0.1762596993292468 None\n",
      "0.1554016754599237 None\n",
      "0.134960192538169 None\n",
      "0.11511273067748584 None\n",
      "0.09614703541608749 None\n",
      "0.0821144992208241 None\n",
      "0.08211775584285766 None\n",
      "0.08214002244484853 None\n",
      "0.08210564637005058 None\n",
      "0.08213101570326603 None\n",
      "0.08211438077800019 None\n",
      "0.08210696105747246 None\n",
      "0.08211989101322018 None\n",
      "0.0821217095958328 None\n",
      "0.08212575209623096 None\n",
      "0.08210807498468657 None\n",
      "0.08214551841588019 None\n",
      "0.0821068547638483 None\n",
      "0.08210482566223788 None\n",
      "0.08210602167838002 None\n"
     ]
    },
    {
     "data": {
      "application/vnd.jupyter.widget-view+json": {
       "model_id": "4aa3aefdca5d42b8b5b75bfb187a52c6",
       "version_major": 2,
       "version_minor": 0
      },
      "text/plain": [
       "  0%|          | 0/2000 [00:00<?, ?it/s]"
      ]
     },
     "metadata": {},
     "output_type": "display_data"
    },
    {
     "name": "stdout",
     "output_type": "stream",
     "text": [
      "0.19286951884525574 None\n",
      "0.17170396328932816 None\n",
      "0.15074436806829292 None\n",
      "0.1302221938042713 None\n",
      "0.11046744150604411 None\n",
      "0.09151662527408984 None\n",
      "0.07749923953317513 None\n",
      "0.07737461787999331 None\n",
      "0.07737139179212317 None\n",
      "0.07740367204689823 None\n",
      "0.07739790840876934 None\n",
      "0.07740428196407291 None\n",
      "0.0773772505553201 None\n",
      "0.07737908487670773 None\n",
      "0.07739183062128935 None\n",
      "0.07740278396439054 None\n",
      "0.07738321200095417 None\n",
      "0.07736402091989728 None\n",
      "0.07738479783338646 None\n",
      "0.07737892613559735 None\n",
      "0.07738602135431627 None\n"
     ]
    },
    {
     "data": {
      "application/vnd.jupyter.widget-view+json": {
       "model_id": "21a61c64ba5c40a6a66998e3d84be74c",
       "version_major": 2,
       "version_minor": 0
      },
      "text/plain": [
       "  0%|          | 0/2000 [00:00<?, ?it/s]"
      ]
     },
     "metadata": {},
     "output_type": "display_data"
    },
    {
     "name": "stdout",
     "output_type": "stream",
     "text": [
      "0.19667077114839407 None\n",
      "0.17540581516894452 None\n",
      "0.15435910031382372 None\n",
      "0.13369965725407942 None\n",
      "0.11358999890612778 None\n",
      "0.09454125318286809 None\n",
      "0.08154412180935217 None\n",
      "0.08145839805227596 None\n",
      "0.0814401884102471 None\n",
      "0.08141830993899685 None\n",
      "0.08142325262379838 None\n",
      "0.08141707672231746 None\n",
      "0.08142700879929136 None\n",
      "0.0814258956808817 None\n",
      "0.08142397259526708 None\n",
      "0.08140381584026289 None\n",
      "0.0814380533834297 None\n",
      "0.08141792908440705 None\n",
      "0.08140585898029119 None\n",
      "0.08140942999290977 None\n",
      "0.08144194565448475 None\n"
     ]
    },
    {
     "data": {
      "application/vnd.jupyter.widget-view+json": {
       "model_id": "366cb91280a54b969b29b1c245a36a2f",
       "version_major": 2,
       "version_minor": 0
      },
      "text/plain": [
       "  0%|          | 0/2000 [00:00<?, ?it/s]"
      ]
     },
     "metadata": {},
     "output_type": "display_data"
    },
    {
     "name": "stdout",
     "output_type": "stream",
     "text": [
      "0.19956652732981123 None\n",
      "0.19480157102721363 None\n",
      "0.1739162666340362 None\n",
      "0.15330791612014144 None\n",
      "0.13318371501959306 None\n",
      "0.09805451628200522 None\n",
      "0.0815985747881785 None\n",
      "0.0972607601558156 None\n",
      "0.08113294870405727 None\n",
      "0.11460790793160616 None\n",
      "0.08113507088816468 None\n",
      "0.08110348408979862 None\n",
      "0.08112360126405288 None\n",
      "0.0972858356302719 None\n",
      "0.08112006730406168 None\n",
      "0.09741750850682046 None\n",
      "0.08114342466630158 None\n",
      "0.11461899417291353 None\n",
      "0.09743184719101905 None\n",
      "0.081090593126226 None\n",
      "0.0811196642770151 None\n"
     ]
    },
    {
     "data": {
      "application/vnd.jupyter.widget-view+json": {
       "model_id": "6c4213838a68405fa35ec89022d4b0cf",
       "version_major": 2,
       "version_minor": 0
      },
      "text/plain": [
       "  0%|          | 0/2000 [00:00<?, ?it/s]"
      ]
     },
     "metadata": {},
     "output_type": "display_data"
    },
    {
     "name": "stdout",
     "output_type": "stream",
     "text": [
      "0.19350286320166776 None\n",
      "0.17233639386681715 None\n",
      "0.15139513169960836 None\n",
      "0.14715937822132627 None\n",
      "0.11126206390714476 None\n",
      "0.09213045075142141 None\n",
      "0.07568248234822421 None\n",
      "0.0914639703407658 None\n",
      "0.09132543316930729 None\n",
      "0.07520240770410634 None\n",
      "0.09148411471666887 None\n",
      "0.09144792634887787 None\n",
      "0.09145078576980403 None\n",
      "0.09148543249903453 None\n",
      "0.10844248748507945 None\n",
      "0.09145926422073611 None\n",
      "0.09144660327983367 None\n",
      "0.07515739202968275 None\n",
      "0.07515549436599299 None\n",
      "0.07516186066813216 None\n",
      "0.09128980273968987 None\n"
     ]
    },
    {
     "data": {
      "application/vnd.jupyter.widget-view+json": {
       "model_id": "cf70d084021942d6a16cc1d4116a835c",
       "version_major": 2,
       "version_minor": 0
      },
      "text/plain": [
       "  0%|          | 0/2000 [00:00<?, ?it/s]"
      ]
     },
     "metadata": {},
     "output_type": "display_data"
    },
    {
     "name": "stdout",
     "output_type": "stream",
     "text": [
      "0.20059616058988036 None\n",
      "0.1796008761834211 None\n",
      "0.158897053267255 None\n",
      "0.13863181286707316 None\n",
      "0.11897386775210171 None\n",
      "0.10008103122508646 None\n",
      "0.08206913546626458 None\n",
      "0.0809066435356917 None\n",
      "0.0808893824416246 None\n",
      "0.08093650091652975 None\n",
      "0.08086576746425457 None\n",
      "0.08093764960920165 None\n",
      "0.08087603910981236 None\n",
      "0.08086525688395578 None\n",
      "0.08089451722566868 None\n",
      "0.08091842059326061 None\n",
      "0.08088720348290229 None\n",
      "0.08089417656727085 None\n",
      "0.0809040471871178 None\n",
      "0.08087400361206366 None\n",
      "0.08087581196258627 None\n"
     ]
    },
    {
     "data": {
      "application/vnd.jupyter.widget-view+json": {
       "model_id": "3b17910de6a8462884332055d248befd",
       "version_major": 2,
       "version_minor": 0
      },
      "text/plain": [
       "  0%|          | 0/2000 [00:00<?, ?it/s]"
      ]
     },
     "metadata": {},
     "output_type": "display_data"
    },
    {
     "name": "stdout",
     "output_type": "stream",
     "text": [
      "0.2050649620950638 None\n",
      "0.18365775525390537 None\n",
      "0.16242041994758194 None\n",
      "0.1415323091962138 None\n",
      "0.12116102974790491 None\n",
      "0.10151959344436687 None\n",
      "0.08731831886524641 None\n",
      "0.08719703271382302 None\n",
      "0.0871740602651394 None\n",
      "0.08718778742163502 None\n",
      "0.08718106960891826 None\n",
      "0.08718852279526333 None\n",
      "0.08718718887873786 None\n",
      "0.08716765264008187 None\n",
      "0.08717719350427042 None\n",
      "0.08719405733419396 None\n",
      "0.08719386074292561 None\n",
      "0.08720741456383055 None\n",
      "0.0871630452579261 None\n",
      "0.0871859333359093 None\n",
      "0.08718101035814539 None\n",
      "Done!\n"
     ]
    },
    {
     "data": {
      "application/vnd.jupyter.widget-view+json": {
       "model_id": "6574959d4f7142d8938fccf18870a2b2",
       "version_major": 2,
       "version_minor": 0
      },
      "text/plain": [
       "  0%|          | 0/2000 [00:00<?, ?it/s]"
      ]
     },
     "metadata": {},
     "output_type": "display_data"
    },
    {
     "name": "stdout",
     "output_type": "stream",
     "text": [
      "0.18866185179907946 None\n",
      "0.16785346315216104 None\n",
      "0.14746928230280398 None\n",
      "0.12765125776065916 None\n",
      "0.1085530228752961 None\n",
      "0.09029631613289689 None\n",
      "0.08959301109165134 None\n",
      "0.08960220745946613 None\n",
      "0.08959695700266351 None\n",
      "0.0895909330104092 None\n",
      "0.08958330647010346 None\n",
      "0.08964967030984233 None\n",
      "0.08961333125704522 None\n",
      "0.08959431128895977 None\n",
      "0.08962361344973423 None\n",
      "0.08966971655855932 None\n",
      "0.08958862656285718 None\n",
      "0.08958768711770265 None\n",
      "0.08960818043319414 None\n",
      "0.08958882261635238 None\n",
      "0.08960734216488522 None\n"
     ]
    },
    {
     "data": {
      "application/vnd.jupyter.widget-view+json": {
       "model_id": "d9fd049362714f75b879c696c7290472",
       "version_major": 2,
       "version_minor": 0
      },
      "text/plain": [
       "  0%|          | 0/2000 [00:00<?, ?it/s]"
      ]
     },
     "metadata": {},
     "output_type": "display_data"
    },
    {
     "name": "stdout",
     "output_type": "stream",
     "text": [
      "0.18092467109110383 None\n",
      "0.15979704657322955 None\n",
      "0.13896184927456576 None\n",
      "0.11857627893851293 None\n",
      "0.09879146293039695 None\n",
      "0.08147122616466015 None\n",
      "0.08085656173801074 None\n",
      "0.08083433092930781 None\n",
      "0.08083558837068203 None\n",
      "0.08084977958498621 None\n",
      "0.08084180536149117 None\n",
      "0.08081554540366032 None\n",
      "0.08086000487802082 None\n",
      "0.08085243193695886 None\n",
      "0.08085216681753342 None\n",
      "0.08083521498699434 None\n",
      "0.08086004597077175 None\n",
      "0.08081944401038663 None\n",
      "0.08083051846829577 None\n",
      "0.0808629779944855 None\n",
      "0.08088167153245455 None\n"
     ]
    },
    {
     "data": {
      "application/vnd.jupyter.widget-view+json": {
       "model_id": "60f426e0c452462f9df2b4aec26e304b",
       "version_major": 2,
       "version_minor": 0
      },
      "text/plain": [
       "  0%|          | 0/2000 [00:00<?, ?it/s]"
      ]
     },
     "metadata": {},
     "output_type": "display_data"
    },
    {
     "name": "stdout",
     "output_type": "stream",
     "text": [
      "0.1836181403693497 None\n",
      "0.16241691625929888 None\n",
      "0.14149308680095374 None\n",
      "0.1210396009217758 None\n",
      "0.10124479204404513 None\n",
      "0.0822650424661452 None\n",
      "0.07960815358446824 None\n",
      "0.07963590395276143 None\n",
      "0.0795941014131715 None\n",
      "0.07959738990234008 None\n",
      "0.07959553624644572 None\n",
      "0.07965808436462724 None\n",
      "0.07965473125117341 None\n",
      "0.07963711066194512 None\n",
      "0.07959678073281759 None\n",
      "0.07965398058545871 None\n",
      "0.07962599978862533 None\n",
      "0.07961679644417524 None\n",
      "0.07958917660519813 None\n",
      "0.07965063052135102 None\n",
      "0.0796117389263686 None\n"
     ]
    },
    {
     "data": {
      "application/vnd.jupyter.widget-view+json": {
       "model_id": "a2fb53855c2040e7ab2cf5b68340b9c9",
       "version_major": 2,
       "version_minor": 0
      },
      "text/plain": [
       "  0%|          | 0/2000 [00:00<?, ?it/s]"
      ]
     },
     "metadata": {},
     "output_type": "display_data"
    },
    {
     "name": "stdout",
     "output_type": "stream",
     "text": [
      "0.1895477638516034 None\n",
      "0.16843306321307164 None\n",
      "0.14757601192926975 None\n",
      "0.12712722380067917 None\n",
      "0.10726136959594754 None\n",
      "0.08814265850762341 None\n",
      "0.08333335881652754 None\n",
      "0.083344291418716 None\n",
      "0.08329525595511142 None\n",
      "0.08331504725275292 None\n",
      "0.08329237031524815 None\n",
      "0.08332991216577547 None\n",
      "0.08330366860888207 None\n",
      "0.0833070329109384 None\n",
      "0.08331706976855419 None\n",
      "0.08333227748395203 None\n",
      "0.08329413522776705 None\n",
      "0.08330292507325968 None\n",
      "0.08329324568904867 None\n",
      "0.0833108586611258 None\n",
      "0.083324650586306 None\n"
     ]
    },
    {
     "data": {
      "application/vnd.jupyter.widget-view+json": {
       "model_id": "a143d84de3004ecbb2930fe94d05346c",
       "version_major": 2,
       "version_minor": 0
      },
      "text/plain": [
       "  0%|          | 0/2000 [00:00<?, ?it/s]"
      ]
     },
     "metadata": {},
     "output_type": "display_data"
    },
    {
     "name": "stdout",
     "output_type": "stream",
     "text": [
      "0.18327089788829237 None\n",
      "0.1622564249178524 None\n",
      "0.14154182208862406 None\n",
      "0.12151817958427742 None\n",
      "0.1021921014037395 None\n",
      "0.08364301839305754 None\n",
      "0.07819442896019459 None\n",
      "0.0781750784538975 None\n",
      "0.07817780414868365 None\n",
      "0.07818468671680745 None\n",
      "0.07819898469463891 None\n",
      "0.07817273980415686 None\n",
      "0.0781793145263042 None\n",
      "0.0782061454884051 None\n",
      "0.07826784490632849 None\n",
      "0.07821742912326246 None\n",
      "0.07818444430860959 None\n",
      "0.07817893387296965 None\n",
      "0.07818052416458565 None\n",
      "0.07817943936675112 None\n",
      "0.07822708375700586 None\n"
     ]
    },
    {
     "data": {
      "application/vnd.jupyter.widget-view+json": {
       "model_id": "fd5d350ebf6f4c628c9c3202bc51e106",
       "version_major": 2,
       "version_minor": 0
      },
      "text/plain": [
       "  0%|          | 0/2000 [00:00<?, ?it/s]"
      ]
     },
     "metadata": {},
     "output_type": "display_data"
    },
    {
     "name": "stdout",
     "output_type": "stream",
     "text": [
      "0.1907351810669113 None\n",
      "0.16946537185341343 None\n",
      "0.14840935173838027 None\n",
      "0.12777276179352653 None\n",
      "0.10770485795538554 None\n",
      "0.08831605340104809 None\n",
      "0.08547062177431487 None\n",
      "0.08547231175450179 None\n",
      "0.0855013626650579 None\n",
      "0.08547485102203688 None\n",
      "0.08546264033235554 None\n",
      "0.08549942143712796 None\n",
      "0.08547398842060493 None\n",
      "0.08551055007443646 None\n",
      "0.08547698155204167 None\n",
      "0.08557904020279626 None\n",
      "0.08549329730786012 None\n",
      "0.0854726397411566 None\n",
      "0.08547441107136654 None\n",
      "0.08545733292002657 None\n",
      "0.0854842544947322 None\n"
     ]
    },
    {
     "data": {
      "application/vnd.jupyter.widget-view+json": {
       "model_id": "72e6e747cb8648c3b332cccd9e5f84a0",
       "version_major": 2,
       "version_minor": 0
      },
      "text/plain": [
       "  0%|          | 0/2000 [00:00<?, ?it/s]"
      ]
     },
     "metadata": {},
     "output_type": "display_data"
    },
    {
     "name": "stdout",
     "output_type": "stream",
     "text": [
      "0.1815709402184761 None\n",
      "0.173651087104155 None\n",
      "0.156082396689789 None\n",
      "0.13248839826945358 None\n",
      "0.09952527023012406 None\n",
      "0.09654512305024414 None\n",
      "0.09344998869190449 None\n",
      "0.09025962039374381 None\n",
      "0.09025124607260496 None\n",
      "0.0934470517915812 None\n",
      "0.07713564501258814 None\n",
      "0.0771979722706609 None\n",
      "0.09353595607370394 None\n",
      "0.0902467139013162 None\n",
      "0.07716930717357241 None\n",
      "0.07716314346547064 None\n",
      "0.07715895813838848 None\n",
      "0.07717936669541654 None\n",
      "0.09034458600161094 None\n",
      "0.09023561868051808 None\n",
      "0.07715955285827329 None\n"
     ]
    },
    {
     "data": {
      "application/vnd.jupyter.widget-view+json": {
       "model_id": "1234a15b514f4c4ea52663a5158b9d8c",
       "version_major": 2,
       "version_minor": 0
      },
      "text/plain": [
       "  0%|          | 0/2000 [00:00<?, ?it/s]"
      ]
     },
     "metadata": {},
     "output_type": "display_data"
    },
    {
     "name": "stdout",
     "output_type": "stream",
     "text": [
      "0.18068027451487026 None\n",
      "0.1593421857796698 None\n",
      "0.1382258411636326 None\n",
      "0.11746470909172704 None\n",
      "0.09720778406734704 None\n",
      "0.0795325204367745 None\n",
      "0.07888588712535735 None\n",
      "0.07891140623329398 None\n",
      "0.07892067389356626 None\n",
      "0.07894680541847461 None\n",
      "0.07889173398544448 None\n",
      "0.07889983059555028 None\n",
      "0.07892211792074555 None\n",
      "0.078891444587218 None\n",
      "0.07891507124820599 None\n",
      "0.07890004640532458 None\n",
      "0.0790016869082548 None\n",
      "0.07891491383960135 None\n",
      "0.07892691341147244 None\n",
      "0.07888678089337854 None\n",
      "0.07891559478855123 None\n"
     ]
    },
    {
     "data": {
      "application/vnd.jupyter.widget-view+json": {
       "model_id": "93ed7dee518e4735983fa029c48bc6c2",
       "version_major": 2,
       "version_minor": 0
      },
      "text/plain": [
       "  0%|          | 0/2000 [00:00<?, ?it/s]"
      ]
     },
     "metadata": {},
     "output_type": "display_data"
    },
    {
     "name": "stdout",
     "output_type": "stream",
     "text": [
      "0.19675091866337788 None\n",
      "0.17554037059914526 None\n",
      "0.15461600605720902 None\n",
      "0.13412875714246825 None\n",
      "0.1142834520470136 None\n",
      "0.09526767766343149 None\n",
      "0.09372216801039861 None\n",
      "0.09370777609591376 None\n",
      "0.093774646021818 None\n",
      "0.09371239732800407 None\n",
      "0.09382184529566277 None\n",
      "0.09373559708371867 None\n",
      "0.09370973689836046 None\n",
      "0.09371329127370048 None\n",
      "0.09371551739814592 None\n",
      "0.0937471424543092 None\n",
      "0.09376090521698134 None\n",
      "0.09374247583218916 None\n",
      "0.0937657244413098 None\n",
      "0.09376977878522663 None\n",
      "0.0937478576561836 None\n"
     ]
    },
    {
     "data": {
      "application/vnd.jupyter.widget-view+json": {
       "model_id": "5db03d48f19041a18b1a39ada72813b4",
       "version_major": 2,
       "version_minor": 0
      },
      "text/plain": [
       "  0%|          | 0/2000 [00:00<?, ?it/s]"
      ]
     },
     "metadata": {},
     "output_type": "display_data"
    },
    {
     "name": "stdout",
     "output_type": "stream",
     "text": [
      "0.1822301025345656 None\n",
      "0.16083405618781305 None\n",
      "0.13963460807440378 None\n",
      "0.11877508125350647 None\n",
      "0.09839174650189987 None\n",
      "0.08072069402577388 None\n",
      "0.0806045031970153 None\n",
      "0.0806703360941411 None\n",
      "0.0806901425631165 None\n",
      "0.0806016659761437 None\n",
      "0.080634331514998 None\n",
      "0.08058130926712259 None\n",
      "0.08058507719367035 None\n",
      "0.08063159265891247 None\n",
      "0.08059142831528388 None\n",
      "0.08063401436836982 None\n",
      "0.08059315034206226 None\n",
      "0.08058313094715441 None\n",
      "0.08065150314825803 None\n",
      "0.08061572962193292 None\n",
      "0.08061249661352157 None\n",
      "Done!\n"
     ]
    },
    {
     "data": {
      "application/vnd.jupyter.widget-view+json": {
       "model_id": "8104a60e5eb9404282bf1d3e87c92485",
       "version_major": 2,
       "version_minor": 0
      },
      "text/plain": [
       "  0%|          | 0/2000 [00:00<?, ?it/s]"
      ]
     },
     "metadata": {},
     "output_type": "display_data"
    },
    {
     "name": "stdout",
     "output_type": "stream",
     "text": [
      "0.22252654854335807 None\n",
      "0.20138322297251376 None\n",
      "0.18048062839877627 None\n",
      "0.15999049966447407 None\n",
      "0.13994292264629263 None\n",
      "0.12529925498710642 None\n",
      "0.10489039471331654 None\n",
      "0.1079778782883357 None\n",
      "0.09476995712959796 None\n",
      "0.09140801481270501 None\n",
      "0.0914032889447972 None\n",
      "0.09138994043145851 None\n",
      "0.09477810979438482 None\n",
      "0.10772227180099767 None\n",
      "0.09477801307653058 None\n",
      "0.09139634829950768 None\n",
      "0.09481161213264057 None\n",
      "0.09139679998309902 None\n",
      "0.10772206135385967 None\n",
      "0.091425640549292 None\n",
      "0.09482247272432062 None\n"
     ]
    },
    {
     "data": {
      "application/vnd.jupyter.widget-view+json": {
       "model_id": "39f26c2a76b74639b58badb1e6842f11",
       "version_major": 2,
       "version_minor": 0
      },
      "text/plain": [
       "  0%|          | 0/2000 [00:00<?, ?it/s]"
      ]
     },
     "metadata": {},
     "output_type": "display_data"
    },
    {
     "name": "stdout",
     "output_type": "stream",
     "text": [
      "0.21686398323224024 None\n",
      "0.1960995875518133 None\n",
      "0.1756657565172076 None\n",
      "0.15573583566019047 None\n",
      "0.13646341570758866 None\n",
      "0.11796131507244337 None\n",
      "0.10031435053560195 None\n",
      "0.0904265205945373 None\n",
      "0.0903455528783075 None\n",
      "0.09037097330315678 None\n",
      "0.09037730225637847 None\n",
      "0.0903760782867516 None\n",
      "0.09034958554062877 None\n",
      "0.09037878641908934 None\n",
      "0.09033663495305533 None\n",
      "0.09038098774619348 None\n",
      "0.09033920721352447 None\n",
      "0.09034496658717682 None\n",
      "0.0903692985243369 None\n",
      "0.09034305039766213 None\n",
      "0.09035421341448825 None\n"
     ]
    },
    {
     "data": {
      "application/vnd.jupyter.widget-view+json": {
       "model_id": "23b13b0219774caabfc2ee31a3619446",
       "version_major": 2,
       "version_minor": 0
      },
      "text/plain": [
       "  0%|          | 0/2000 [00:00<?, ?it/s]"
      ]
     },
     "metadata": {},
     "output_type": "display_data"
    },
    {
     "name": "stdout",
     "output_type": "stream",
     "text": [
      "0.2192215232449928 None\n",
      "0.21441840413767047 None\n",
      "0.17722434471388038 None\n",
      "0.1601296023560379 None\n",
      "0.13679500896660426 None\n",
      "0.11757644108917943 None\n",
      "0.1154672863444398 None\n",
      "0.09222986309984066 None\n",
      "0.10511521003558388 None\n",
      "0.08879043493896543 None\n",
      "0.09218246613240436 None\n",
      "0.0888564663079192 None\n",
      "0.08880676714645312 None\n",
      "0.09220939180655616 None\n",
      "0.08880013505277493 None\n",
      "0.10510350601591625 None\n",
      "0.08878405544496244 None\n",
      "0.08883428051220844 None\n",
      "0.08880578059296887 None\n",
      "0.0887905657267775 None\n",
      "0.09219459685789262 None\n"
     ]
    },
    {
     "data": {
      "application/vnd.jupyter.widget-view+json": {
       "model_id": "d6ef99b39eff4bb3877f71d55188d015",
       "version_major": 2,
       "version_minor": 0
      },
      "text/plain": [
       "  0%|          | 0/2000 [00:00<?, ?it/s]"
      ]
     },
     "metadata": {},
     "output_type": "display_data"
    },
    {
     "name": "stdout",
     "output_type": "stream",
     "text": [
      "0.21763326129254826 None\n",
      "0.19622471877747752 None\n",
      "0.17509784610748144 None\n",
      "0.1545966512505179 None\n",
      "0.13479939700686674 None\n",
      "0.11582545284112417 None\n",
      "0.09770626291258938 None\n",
      "0.08721779534491805 None\n",
      "0.08713521318542744 None\n",
      "0.08716129498494543 None\n",
      "0.08713716606171125 None\n",
      "0.10347377882507545 None\n",
      "0.0871801443757826 None\n",
      "0.08713326195662018 None\n",
      "0.08713804083547894 None\n",
      "0.08715824809442112 None\n",
      "0.08713415901732303 None\n",
      "0.10343469082715256 None\n",
      "0.09052784494521744 None\n",
      "0.10352045128019989 None\n",
      "0.08717082066361127 None\n"
     ]
    },
    {
     "data": {
      "application/vnd.jupyter.widget-view+json": {
       "model_id": "666779fb9b044282aad59d9196180e2e",
       "version_major": 2,
       "version_minor": 0
      },
      "text/plain": [
       "  0%|          | 0/2000 [00:00<?, ?it/s]"
      ]
     },
     "metadata": {},
     "output_type": "display_data"
    },
    {
     "name": "stdout",
     "output_type": "stream",
     "text": [
      "0.2178423075512596 None\n",
      "0.21314916835520611 None\n",
      "0.19251487338834733 None\n",
      "0.15592108055100087 None\n",
      "0.13955589292728454 None\n",
      "0.11707166838814007 None\n",
      "0.11514175694034895 None\n",
      "0.09272317697975355 None\n",
      "0.09277953911420296 None\n",
      "0.09619034432154254 None\n",
      "0.0961196775132663 None\n",
      "0.09615365963995746 None\n",
      "0.09271612023012177 None\n",
      "0.09276997533313401 None\n",
      "0.09270019181305945 None\n",
      "0.0961475904204723 None\n",
      "0.10902564176461078 None\n",
      "0.0961133524116707 None\n",
      "0.09270472612566867 None\n",
      "0.09610095998706963 None\n",
      "0.09615168303590711 None\n"
     ]
    },
    {
     "data": {
      "application/vnd.jupyter.widget-view+json": {
       "model_id": "c86529b1df1b469ba4801f04a08f7e81",
       "version_major": 2,
       "version_minor": 0
      },
      "text/plain": [
       "  0%|          | 0/2000 [00:00<?, ?it/s]"
      ]
     },
     "metadata": {},
     "output_type": "display_data"
    },
    {
     "name": "stdout",
     "output_type": "stream",
     "text": [
      "0.2143196523880966 None\n",
      "0.1928024707947473 None\n",
      "0.1711460989352984 None\n",
      "0.16715753590489213 None\n",
      "0.13096581447534425 None\n",
      "0.1120387070235718 None\n",
      "0.09387137749929526 None\n",
      "0.10342591039836153 None\n",
      "0.08711140475471348 None\n",
      "0.08718099208195355 None\n",
      "0.0871087592685471 None\n",
      "0.09051992514094062 None\n",
      "0.09058338551224263 None\n",
      "0.10775152933747376 None\n",
      "0.08716647642647546 None\n",
      "0.10767396243570773 None\n",
      "0.08710796056921608 None\n",
      "0.1205927105659112 None\n",
      "0.08711347058891261 None\n",
      "0.08716961884010871 None\n",
      "0.08711095767816855 None\n"
     ]
    },
    {
     "data": {
      "application/vnd.jupyter.widget-view+json": {
       "model_id": "958e4704c2c542dc913957e8fa988ad6",
       "version_major": 2,
       "version_minor": 0
      },
      "text/plain": [
       "  0%|          | 0/2000 [00:00<?, ?it/s]"
      ]
     },
     "metadata": {},
     "output_type": "display_data"
    },
    {
     "name": "stdout",
     "output_type": "stream",
     "text": [
      "0.2146183936749242 None\n",
      "0.19319355884438416 None\n",
      "0.17191023185415713 None\n",
      "0.1509327999859702 None\n",
      "0.13042291105458526 None\n",
      "0.11008367132833774 None\n",
      "0.0917084294583629 None\n",
      "0.08383113138640617 None\n",
      "0.08384409269830453 None\n",
      "0.08385409587280251 None\n",
      "0.08728613202910766 None\n",
      "0.08726491171103494 None\n",
      "0.08383750013830234 None\n",
      "0.0838671317306902 None\n",
      "0.0838822360206182 None\n",
      "0.08388277359127787 None\n",
      "0.10013902590062995 None\n",
      "0.08724811540397351 None\n",
      "0.08725016000052871 None\n",
      "0.08725033988203884 None\n",
      "0.08385792334000627 None\n"
     ]
    },
    {
     "data": {
      "application/vnd.jupyter.widget-view+json": {
       "model_id": "e98ae75631484ba492c82401a6c29dd5",
       "version_major": 2,
       "version_minor": 0
      },
      "text/plain": [
       "  0%|          | 0/2000 [00:00<?, ?it/s]"
      ]
     },
     "metadata": {},
     "output_type": "display_data"
    },
    {
     "name": "stdout",
     "output_type": "stream",
     "text": [
      "0.2196165680223537 None\n",
      "0.1983836589011162 None\n",
      "0.17740939136768 None\n",
      "0.1569896638361226 None\n",
      "0.1373201304089869 None\n",
      "0.11833169780565767 None\n",
      "0.10010851689085104 None\n",
      "0.09261350814586883 None\n",
      "0.09253233847378022 None\n",
      "0.0925415112704327 None\n",
      "0.09259424022967629 None\n",
      "0.09255761956398309 None\n",
      "0.09255494411209886 None\n",
      "0.09253085017859199 None\n",
      "0.09252881318706987 None\n",
      "0.09258810076437399 None\n",
      "0.09254928873451838 None\n",
      "0.09252614453339025 None\n",
      "0.0926120993435455 None\n",
      "0.09255335277674291 None\n",
      "0.09257946893486235 None\n"
     ]
    },
    {
     "data": {
      "application/vnd.jupyter.widget-view+json": {
       "model_id": "76f7bd3b84eb4e9caccee39ff626e260",
       "version_major": 2,
       "version_minor": 0
      },
      "text/plain": [
       "  0%|          | 0/2000 [00:00<?, ?it/s]"
      ]
     },
     "metadata": {},
     "output_type": "display_data"
    },
    {
     "name": "stdout",
     "output_type": "stream",
     "text": [
      "0.21949056589656765 None\n",
      "0.19818362104389844 None\n",
      "0.17705720059140725 None\n",
      "0.1562886129227022 None\n",
      "0.1360517999271373 None\n",
      "0.11640212191429478 None\n",
      "0.1135499161188454 None\n",
      "0.08635840977958456 None\n",
      "0.0863555436904064 None\n",
      "0.1026807318142312 None\n",
      "0.10266423621696436 None\n",
      "0.08639103920788065 None\n",
      "0.08975289516221935 None\n",
      "0.0897512489342889 None\n",
      "0.0897907796166783 None\n",
      "0.08635991545109929 None\n",
      "0.0863582423515152 None\n",
      "0.08636218357806896 None\n",
      "0.10266379981745735 None\n",
      "0.0897652637354383 None\n",
      "0.08979095264858926 None\n"
     ]
    },
    {
     "data": {
      "application/vnd.jupyter.widget-view+json": {
       "model_id": "58f94c88ef37487495716406dcd0b93d",
       "version_major": 2,
       "version_minor": 0
      },
      "text/plain": [
       "  0%|          | 0/2000 [00:00<?, ?it/s]"
      ]
     },
     "metadata": {},
     "output_type": "display_data"
    },
    {
     "name": "stdout",
     "output_type": "stream",
     "text": [
      "0.214163866785283 None\n",
      "0.20913560535878836 None\n",
      "0.18800735712003316 None\n",
      "0.1672730592158196 None\n",
      "0.13425386127992717 None\n",
      "0.11490805118087627 None\n",
      "0.09295240882810128 None\n",
      "0.0862498485796797 None\n",
      "0.10257937829889403 None\n",
      "0.08967033749620865 None\n",
      "0.10258445115385956 None\n",
      "0.08963656574783947 None\n",
      "0.0862529838435076 None\n",
      "0.0897067994661485 None\n",
      "0.08963363566357432 None\n",
      "0.08625458319981479 None\n",
      "0.10256037219355142 None\n",
      "0.08963281547711674 None\n",
      "0.10255178961239625 None\n",
      "0.10255765813920618 None\n",
      "0.08627036177770178 None\n",
      "Done!\n"
     ]
    },
    {
     "data": {
      "application/vnd.jupyter.widget-view+json": {
       "model_id": "a4c8c259822c4a249a9ec25502515ec1",
       "version_major": 2,
       "version_minor": 0
      },
      "text/plain": [
       "  0%|          | 0/2000 [00:00<?, ?it/s]"
      ]
     },
     "metadata": {},
     "output_type": "display_data"
    },
    {
     "name": "stdout",
     "output_type": "stream",
     "text": [
      "0.22659372534712596 None\n",
      "0.2059779870585665 None\n",
      "0.1945681052218872 None\n",
      "0.16536027300061004 None\n",
      "0.1460277916084526 None\n",
      "0.1276002825731709 None\n",
      "0.11913069266488421 None\n",
      "0.09359375305363238 None\n",
      "0.08638507063294604 None\n",
      "0.08643316679180185 None\n",
      "0.08638002418522145 None\n",
      "0.08640306611786898 None\n",
      "0.08641901986583188 None\n",
      "0.08639947296863996 None\n",
      "0.09550474449858579 None\n",
      "0.0864126341646127 None\n",
      "0.09550359193942974 None\n",
      "0.10183000304916619 None\n",
      "0.09553404931370729 None\n",
      "0.08639911169876367 None\n",
      "0.0864029130099427 None\n"
     ]
    },
    {
     "data": {
      "application/vnd.jupyter.widget-view+json": {
       "model_id": "bbad6d678c044794a737680635c59dd3",
       "version_major": 2,
       "version_minor": 0
      },
      "text/plain": [
       "  0%|          | 0/2000 [00:00<?, ?it/s]"
      ]
     },
     "metadata": {},
     "output_type": "display_data"
    },
    {
     "name": "stdout",
     "output_type": "stream",
     "text": [
      "0.2298205631134805 None\n",
      "0.20937359430698146 None\n",
      "0.1892080138014302 None\n",
      "0.16942833179358954 None\n",
      "0.1502782607183824 None\n",
      "0.13218317042560754 None\n",
      "0.11499288566154552 None\n",
      "0.09874810399466025 None\n",
      "0.0898751262409545 None\n",
      "0.089863523169715 None\n",
      "0.0899235863604379 None\n",
      "0.08987539331718618 None\n",
      "0.08988203683399222 None\n",
      "0.08985380972516077 None\n",
      "0.08985023944306558 None\n",
      "0.08986955089698642 None\n",
      "0.0898940657066507 None\n",
      "0.0898578438032566 None\n",
      "0.08995867934001255 None\n",
      "0.08991605875128686 None\n",
      "0.08985856928202747 None\n"
     ]
    },
    {
     "data": {
      "application/vnd.jupyter.widget-view+json": {
       "model_id": "a92c5d9f66ab47b29dbf8c42a8b25675",
       "version_major": 2,
       "version_minor": 0
      },
      "text/plain": [
       "  0%|          | 0/2000 [00:00<?, ?it/s]"
      ]
     },
     "metadata": {},
     "output_type": "display_data"
    },
    {
     "name": "stdout",
     "output_type": "stream",
     "text": [
      "0.2265073577847641 None\n",
      "0.20519023722985363 None\n",
      "0.18414877328155713 None\n",
      "0.1636441926943154 None\n",
      "0.1598178672505347 None\n",
      "0.13528051458303034 None\n",
      "0.12361796689093933 None\n",
      "0.09115786072231136 None\n",
      "0.0975416386978968 None\n",
      "0.09753228907805633 None\n",
      "0.08839160691926196 None\n",
      "0.08837980338977419 None\n",
      "0.10388594303774333 None\n",
      "0.09753098029867768 None\n",
      "0.08838572094973629 None\n",
      "0.10383267985067367 None\n",
      "0.08839492163229377 None\n",
      "0.08842841681986262 None\n",
      "0.10384119316044992 None\n",
      "0.10382374565873079 None\n",
      "0.08842918397082343 None\n"
     ]
    },
    {
     "data": {
      "application/vnd.jupyter.widget-view+json": {
       "model_id": "94da60bf7de6496db8bd6bfc7529da35",
       "version_major": 2,
       "version_minor": 0
      },
      "text/plain": [
       "  0%|          | 0/2000 [00:00<?, ?it/s]"
      ]
     },
     "metadata": {},
     "output_type": "display_data"
    },
    {
     "name": "stdout",
     "output_type": "stream",
     "text": [
      "0.22282894695227012 None\n",
      "0.20162406414487893 None\n",
      "0.180650334068134 None\n",
      "0.16006987922361113 None\n",
      "0.14004595189236047 None\n",
      "0.12075700694083497 None\n",
      "0.10236813074040718 None\n",
      "0.0852047062353172 None\n",
      "0.08340141301300051 None\n",
      "0.0833843571892229 None\n",
      "0.08337840601088244 None\n",
      "0.08337589353591422 None\n",
      "0.0834105568558075 None\n",
      "0.08339367857659995 None\n",
      "0.08337313609211369 None\n",
      "0.08344653264816948 None\n",
      "0.08339814280716164 None\n",
      "0.08344272611323288 None\n",
      "0.08340074594165667 None\n",
      "0.08343028201289657 None\n",
      "0.08337764651539682 None\n"
     ]
    },
    {
     "data": {
      "application/vnd.jupyter.widget-view+json": {
       "model_id": "e5a1917294c34096bc26c14a471a4f00",
       "version_major": 2,
       "version_minor": 0
      },
      "text/plain": [
       "  0%|          | 0/2000 [00:00<?, ?it/s]"
      ]
     },
     "metadata": {},
     "output_type": "display_data"
    },
    {
     "name": "stdout",
     "output_type": "stream",
     "text": [
      "0.23218952485154024 None\n",
      "0.2108789494659877 None\n",
      "0.18982177719075813 None\n",
      "0.16917691595105927 None\n",
      "0.14917162739887377 None\n",
      "0.12995949934465972 None\n",
      "0.11215870379402497 None\n",
      "0.09589663201941888 None\n",
      "0.09141180691924691 None\n",
      "0.0913755316185289 None\n",
      "0.09135232514005491 None\n",
      "0.09138684793058958 None\n",
      "0.09136159047383763 None\n",
      "0.09139103945612329 None\n",
      "0.09136578603080474 None\n",
      "0.09136655542521012 None\n",
      "0.09137234790391188 None\n",
      "0.09137134226772473 None\n",
      "0.09139567631368792 None\n",
      "0.09136307002024593 None\n",
      "0.0914116522244767 None\n"
     ]
    },
    {
     "data": {
      "application/vnd.jupyter.widget-view+json": {
       "model_id": "7acb4427497d465ea57cd6319fefeb76",
       "version_major": 2,
       "version_minor": 0
      },
      "text/plain": [
       "  0%|          | 0/2000 [00:00<?, ?it/s]"
      ]
     },
     "metadata": {},
     "output_type": "display_data"
    },
    {
     "name": "stdout",
     "output_type": "stream",
     "text": [
      "0.22134901862861478 None\n",
      "0.19998609395875155 None\n",
      "0.17886314501232037 None\n",
      "0.15820351610141797 None\n",
      "0.13818452998858624 None\n",
      "0.11911447575467012 None\n",
      "0.10116552612202358 None\n",
      "0.08430308221609871 None\n",
      "0.08151861340185544 None\n",
      "0.08154064931941427 None\n",
      "0.08151968687617793 None\n",
      "0.08149373176984512 None\n",
      "0.08150239702425066 None\n",
      "0.08148158448280182 None\n",
      "0.08151159807678135 None\n",
      "0.08149312829592958 None\n",
      "0.08152840502076761 None\n",
      "0.08151277400239851 None\n",
      "0.08153486534905961 None\n",
      "0.08153527712986114 None\n",
      "0.0814919972819864 None\n"
     ]
    },
    {
     "data": {
      "application/vnd.jupyter.widget-view+json": {
       "model_id": "c0e28b97f0ad4a19bca1facda7fc20a5",
       "version_major": 2,
       "version_minor": 0
      },
      "text/plain": [
       "  0%|          | 0/2000 [00:00<?, ?it/s]"
      ]
     },
     "metadata": {},
     "output_type": "display_data"
    },
    {
     "name": "stdout",
     "output_type": "stream",
     "text": [
      "0.22161073500246814 None\n",
      "0.20027760413827694 None\n",
      "0.17921280228521796 None\n",
      "0.15862665830372147 None\n",
      "0.13872400577208455 None\n",
      "0.11972027617138307 None\n",
      "0.10185709872004087 None\n",
      "0.0851989188631898 None\n",
      "0.08476685083925836 None\n",
      "0.08477808608800005 None\n",
      "0.08476927146703911 None\n",
      "0.08474679087284079 None\n",
      "0.08475507008404125 None\n",
      "0.08477512458015202 None\n",
      "0.08476290104931498 None\n",
      "0.08474462813354283 None\n",
      "0.08476863760922954 None\n",
      "0.08480072070884816 None\n",
      "0.08478823308388807 None\n",
      "0.08476323403215663 None\n",
      "0.08482054616973012 None\n"
     ]
    },
    {
     "data": {
      "application/vnd.jupyter.widget-view+json": {
       "model_id": "69a7fc6037c14f2588430ccb8bd777ae",
       "version_major": 2,
       "version_minor": 0
      },
      "text/plain": [
       "  0%|          | 0/2000 [00:00<?, ?it/s]"
      ]
     },
     "metadata": {},
     "output_type": "display_data"
    },
    {
     "name": "stdout",
     "output_type": "stream",
     "text": [
      "0.22265781999698372 None\n",
      "0.2169140612273828 None\n",
      "0.18962689296392699 None\n",
      "0.17548851523022646 None\n",
      "0.1402769239747298 None\n",
      "0.136662491107104 None\n",
      "0.1120797484863572 None\n",
      "0.10093624520084983 None\n",
      "0.08886288384010854 None\n",
      "0.0888824990027394 None\n",
      "0.07972608622144875 None\n",
      "0.09519233772177957 None\n",
      "0.07972473028211291 None\n",
      "0.08887591182636492 None\n",
      "0.0888775929783131 None\n",
      "0.09517273502445296 None\n",
      "0.09518930301161166 None\n",
      "0.0951650405983955 None\n",
      "0.0951801780115577 None\n",
      "0.07975012113969934 None\n",
      "0.07977559769833897 None\n"
     ]
    },
    {
     "data": {
      "application/vnd.jupyter.widget-view+json": {
       "model_id": "044710ee58d54c23ac99921de23516f9",
       "version_major": 2,
       "version_minor": 0
      },
      "text/plain": [
       "  0%|          | 0/2000 [00:00<?, ?it/s]"
      ]
     },
     "metadata": {},
     "output_type": "display_data"
    },
    {
     "name": "stdout",
     "output_type": "stream",
     "text": [
      "0.22516797954176096 None\n",
      "0.20399629099806205 None\n",
      "0.18306544008542566 None\n",
      "0.16252157151558244 None\n",
      "0.1425106447623981 None\n",
      "0.1231813890400596 None\n",
      "0.10468551881529117 None\n",
      "0.0872520387118652 None\n",
      "0.0819829887661476 None\n",
      "0.08190132710077798 None\n",
      "0.08191764228740131 None\n",
      "0.0819088346439357 None\n",
      "0.0819121833879786 None\n",
      "0.08193551017703074 None\n",
      "0.08192776718481735 None\n",
      "0.08190211753618715 None\n",
      "0.08190128263010847 None\n",
      "0.08195550104623078 None\n",
      "0.08194795510220554 None\n",
      "0.08192143592594867 None\n",
      "0.08192772896694861 None\n",
      "Done!\n"
     ]
    },
    {
     "data": {
      "application/vnd.jupyter.widget-view+json": {
       "model_id": "6ce92d01c9274e8c9cbf5f4346f1fe00",
       "version_major": 2,
       "version_minor": 0
      },
      "text/plain": [
       "  0%|          | 0/2000 [00:00<?, ?it/s]"
      ]
     },
     "metadata": {},
     "output_type": "display_data"
    },
    {
     "name": "stdout",
     "output_type": "stream",
     "text": [
      "0.21643985591846254 None\n",
      "0.19554626192005287 None\n",
      "0.19127083695637198 None\n",
      "0.15497749641005806 None\n",
      "0.15220349401886865 None\n",
      "0.1178605219842148 None\n",
      "0.11729927823177333 None\n",
      "0.09543228236042253 None\n",
      "0.10104057464030734 None\n",
      "0.08479073804891103 None\n",
      "0.0948983795151712 None\n",
      "0.09489685258843254 None\n",
      "0.10107217965944604 None\n",
      "0.09488179830746338 None\n",
      "0.10105731039902027 None\n",
      "0.08476115733476683 None\n",
      "0.10105052527141892 None\n",
      "0.09488954493359149 None\n",
      "0.0847653789272058 None\n",
      "0.09486068994192956 None\n",
      "0.09487972690649549 None\n"
     ]
    },
    {
     "data": {
      "application/vnd.jupyter.widget-view+json": {
       "model_id": "0f11eebf2ef24c6f9a312b83c7b4ab34",
       "version_major": 2,
       "version_minor": 0
      },
      "text/plain": [
       "  0%|          | 0/2000 [00:00<?, ?it/s]"
      ]
     },
     "metadata": {},
     "output_type": "display_data"
    },
    {
     "name": "stdout",
     "output_type": "stream",
     "text": [
      "0.21831922367700016 None\n",
      "0.19716223709196176 None\n",
      "0.1763844127592643 None\n",
      "0.15624537693480095 None\n",
      "0.13678561088301472 None\n",
      "0.11810220884572167 None\n",
      "0.10031143742643876 None\n",
      "0.08866210982326855 None\n",
      "0.08860727529351017 None\n",
      "0.08858651038763654 None\n",
      "0.08859345813175805 None\n",
      "0.08861088379018643 None\n",
      "0.08863068695357204 None\n",
      "0.08856314625635132 None\n",
      "0.08857485159769299 None\n",
      "0.08860318154577887 None\n",
      "0.08860336118728894 None\n",
      "0.08856520883107427 None\n",
      "0.08857984506804868 None\n",
      "0.0886122681326378 None\n",
      "0.088598693727861 None\n"
     ]
    },
    {
     "data": {
      "application/vnd.jupyter.widget-view+json": {
       "model_id": "14745cb985b544d1ab4bb36a57443429",
       "version_major": 2,
       "version_minor": 0
      },
      "text/plain": [
       "  0%|          | 0/2000 [00:00<?, ?it/s]"
      ]
     },
     "metadata": {},
     "output_type": "display_data"
    },
    {
     "name": "stdout",
     "output_type": "stream",
     "text": [
      "0.21537512500254424 None\n",
      "0.19412817061652374 None\n",
      "0.1731141835947934 None\n",
      "0.15257689241784167 None\n",
      "0.13265841785790314 None\n",
      "0.11354911538876318 None\n",
      "0.0953627442427111 None\n",
      "0.09719499284063253 None\n",
      "0.09701923094879011 None\n",
      "0.09699502032917522 None\n",
      "0.09699446487300309 None\n",
      "0.0969993997632558 None\n",
      "0.08071204586029929 None\n",
      "0.08068619522597868 None\n",
      "0.09087568668071358 None\n",
      "0.08070628977985547 None\n",
      "0.08073260564596042 None\n",
      "0.08071452801382586 None\n",
      "0.08071235014250211 None\n",
      "0.08069354535975526 None\n",
      "0.08071848231572387 None\n"
     ]
    },
    {
     "data": {
      "application/vnd.jupyter.widget-view+json": {
       "model_id": "6413d2b30aa9405a9f4c97d4114dc05b",
       "version_major": 2,
       "version_minor": 0
      },
      "text/plain": [
       "  0%|          | 0/2000 [00:00<?, ?it/s]"
      ]
     },
     "metadata": {},
     "output_type": "display_data"
    },
    {
     "name": "stdout",
     "output_type": "stream",
     "text": [
      "0.2201198323465539 None\n",
      "0.19911210239729646 None\n",
      "0.17836836303326378 None\n",
      "0.15799613091959688 None\n",
      "0.13821313821504552 None\n",
      "0.11937791749299276 None\n",
      "0.10137355002924463 None\n",
      "0.08742176478508328 None\n",
      "0.08712879560266076 None\n",
      "0.08711508432932333 None\n",
      "0.08715150464576292 None\n",
      "0.08713002299501849 None\n",
      "0.08715022104288866 None\n",
      "0.08714255258115078 None\n",
      "0.08714644894087414 None\n",
      "0.0871666825934238 None\n",
      "0.0871319709430763 None\n",
      "0.08712498485831509 None\n",
      "0.08713983554703575 None\n",
      "0.08712977290397457 None\n",
      "0.0871577700951649 None\n"
     ]
    },
    {
     "data": {
      "application/vnd.jupyter.widget-view+json": {
       "model_id": "4df07fed141842a9a8a6b0d9f3f592db",
       "version_major": 2,
       "version_minor": 0
      },
      "text/plain": [
       "  0%|          | 0/2000 [00:00<?, ?it/s]"
      ]
     },
     "metadata": {},
     "output_type": "display_data"
    },
    {
     "name": "stdout",
     "output_type": "stream",
     "text": [
      "0.2176337340572181 None\n",
      "0.19672833209129087 None\n",
      "0.17604144772917202 None\n",
      "0.1557250136942822 None\n",
      "0.1359245757768017 None\n",
      "0.11678133524058976 None\n",
      "0.09840134160352039 None\n",
      "0.08077934851076399 None\n",
      "0.0785469624935534 None\n",
      "0.07856346338703521 None\n",
      "0.07856070480996495 None\n",
      "0.07858122171331003 None\n",
      "0.07857330862682113 None\n",
      "0.07854487479007917 None\n",
      "0.07858784436151485 None\n",
      "0.07858390764420738 None\n",
      "0.07854617291310487 None\n",
      "0.07861781828422194 None\n",
      "0.07857339090457745 None\n",
      "0.07859309425001244 None\n",
      "0.0785910025752516 None\n"
     ]
    },
    {
     "data": {
      "application/vnd.jupyter.widget-view+json": {
       "model_id": "a134a7610e4a422ca821d6d0127b709b",
       "version_major": 2,
       "version_minor": 0
      },
      "text/plain": [
       "  0%|          | 0/2000 [00:00<?, ?it/s]"
      ]
     },
     "metadata": {},
     "output_type": "display_data"
    },
    {
     "name": "stdout",
     "output_type": "stream",
     "text": [
      "0.22193837880925119 None\n",
      "0.20079094876516101 None\n",
      "0.17986289507844827 None\n",
      "0.1593121494209423 None\n",
      "0.13927800858394204 None\n",
      "0.11987343443967739 None\n",
      "0.10120808100981087 None\n",
      "0.08520287417236863 None\n",
      "0.08489128112955971 None\n",
      "0.08486392322775879 None\n",
      "0.08484903052668066 None\n",
      "0.08484808764010023 None\n",
      "0.09498136955755801 None\n",
      "0.08484522723774572 None\n",
      "0.08488141567215156 None\n",
      "0.09499914923501579 None\n",
      "0.0848403509201617 None\n",
      "0.09501152280033084 None\n",
      "0.08490679468873645 None\n",
      "0.10118760993386415 None\n",
      "0.08485864407241316 None\n"
     ]
    },
    {
     "data": {
      "application/vnd.jupyter.widget-view+json": {
       "model_id": "6da69ac613e84270ad3a53a70d5c31d6",
       "version_major": 2,
       "version_minor": 0
      },
      "text/plain": [
       "  0%|          | 0/2000 [00:00<?, ?it/s]"
      ]
     },
     "metadata": {},
     "output_type": "display_data"
    },
    {
     "name": "stdout",
     "output_type": "stream",
     "text": [
      "0.2102946189031393 None\n",
      "0.18895615661068857 None\n",
      "0.16784440990279123 None\n",
      "0.14716432189616177 None\n",
      "0.1271658692362872 None\n",
      "0.10799800636227223 None\n",
      "0.08959241183331142 None\n",
      "0.07686757923729237 None\n",
      "0.07674427078033139 None\n",
      "0.07674423493792583 None\n",
      "0.08691665179527641 None\n",
      "0.07674994241222095 None\n",
      "0.08693019216629447 None\n",
      "0.09305347874718317 None\n",
      "0.07676035410260074 None\n",
      "0.0767489288909202 None\n",
      "0.07678042154428012 None\n",
      "0.07675458912994136 None\n",
      "0.0930436214837117 None\n",
      "0.07676622865513685 None\n",
      "0.09309208229079555 None\n"
     ]
    },
    {
     "data": {
      "application/vnd.jupyter.widget-view+json": {
       "model_id": "c0e08bf418fe4be392e15d6ade6bdddb",
       "version_major": 2,
       "version_minor": 0
      },
      "text/plain": [
       "  0%|          | 0/2000 [00:00<?, ?it/s]"
      ]
     },
     "metadata": {},
     "output_type": "display_data"
    },
    {
     "name": "stdout",
     "output_type": "stream",
     "text": [
      "0.21810798385827773 None\n",
      "0.19693334029630646 None\n",
      "0.17593496196698888 None\n",
      "0.15534404149754255 None\n",
      "0.13539109549625256 None\n",
      "0.11604984254506302 None\n",
      "0.09734502342105114 None\n",
      "0.0796389928843181 None\n",
      "0.07944525825562015 None\n",
      "0.07951433011296362 None\n",
      "0.0794308659914282 None\n",
      "0.07945711773223582 None\n",
      "0.0794485384375737 None\n",
      "0.07944025734177633 None\n",
      "0.07950235445890017 None\n",
      "0.07945675336281167 None\n",
      "0.07942623038181583 None\n",
      "0.07946114144355614 None\n",
      "0.07948112852497757 None\n",
      "0.07942767460667084 None\n",
      "0.079470120192208 None\n"
     ]
    },
    {
     "data": {
      "application/vnd.jupyter.widget-view+json": {
       "model_id": "670342c55d0e4c23a31da366fb1da9bc",
       "version_major": 2,
       "version_minor": 0
      },
      "text/plain": [
       "  0%|          | 0/2000 [00:00<?, ?it/s]"
      ]
     },
     "metadata": {},
     "output_type": "display_data"
    },
    {
     "name": "stdout",
     "output_type": "stream",
     "text": [
      "0.21969535192820483 None\n",
      "0.1983756039059097 None\n",
      "0.177300323899075 None\n",
      "0.1667443001356378 None\n",
      "0.14668733106379472 None\n",
      "0.1272331128447476 None\n",
      "0.10850892932678965 None\n",
      "0.09908334588442534 None\n",
      "0.08269246770765214 None\n",
      "0.09285889765859923 None\n",
      "0.09283148168129228 None\n",
      "0.09899993573546076 None\n",
      "0.08268905308743174 None\n",
      "0.08268847438121531 None\n",
      "0.08269273127268137 None\n",
      "0.08272917339017614 None\n",
      "0.08268783951396079 None\n",
      "0.08271341597858363 None\n",
      "0.08269598994797014 None\n",
      "0.09900337335195222 None\n",
      "0.09900668318012995 None\n",
      "Done!\n"
     ]
    },
    {
     "data": {
      "application/vnd.jupyter.widget-view+json": {
       "model_id": "4d757ab911284b9281bbb249578d9b41",
       "version_major": 2,
       "version_minor": 0
      },
      "text/plain": [
       "  0%|          | 0/2000 [00:00<?, ?it/s]"
      ]
     },
     "metadata": {},
     "output_type": "display_data"
    },
    {
     "name": "stdout",
     "output_type": "stream",
     "text": [
      "0.20367954722943307 None\n",
      "0.18283083852284973 None\n",
      "0.16235276114086003 None\n",
      "0.14249206897904326 None\n",
      "0.12349376994877627 None\n",
      "0.1055097833233392 None\n",
      "0.09517531478623381 None\n",
      "0.09517003983094913 None\n",
      "0.0951277194058829 None\n",
      "0.0951066520330359 None\n",
      "0.09517277178122482 None\n",
      "0.09514869202560831 None\n",
      "0.09510130683992417 None\n",
      "0.09516115006057937 None\n",
      "0.09510107886426439 None\n",
      "0.09513291946377149 None\n",
      "0.09512811649980024 None\n",
      "0.0951484521525723 None\n",
      "0.09515584398060593 None\n",
      "0.09512721694695848 None\n",
      "0.09515306061532178 None\n"
     ]
    },
    {
     "data": {
      "application/vnd.jupyter.widget-view+json": {
       "model_id": "1576efd90db74b8ab5c1c85dfefc060d",
       "version_major": 2,
       "version_minor": 0
      },
      "text/plain": [
       "  0%|          | 0/2000 [00:00<?, ?it/s]"
      ]
     },
     "metadata": {},
     "output_type": "display_data"
    },
    {
     "name": "stdout",
     "output_type": "stream",
     "text": [
      "0.19974664472336934 None\n",
      "0.17844948595803564 None\n",
      "0.15734207312267384 None\n",
      "0.13666857560667434 None\n",
      "0.11699844098432419 None\n",
      "0.09849421035628018 None\n",
      "0.0863563884083908 None\n",
      "0.08627221259029928 None\n",
      "0.08626480762721091 None\n",
      "0.08627971469993172 None\n",
      "0.0996047448447738 None\n",
      "0.10259094532680302 None\n",
      "0.08632567742460961 None\n",
      "0.08627017770100125 None\n",
      "0.08627443693615557 None\n",
      "0.0863636880484466 None\n",
      "0.08627347029899363 None\n",
      "0.08632166140651286 None\n",
      "0.10258943739828157 None\n",
      "0.0863015764574878 None\n",
      "0.08632249344181923 None\n"
     ]
    },
    {
     "data": {
      "application/vnd.jupyter.widget-view+json": {
       "model_id": "a7eb18d6e14b467192ff310931769483",
       "version_major": 2,
       "version_minor": 0
      },
      "text/plain": [
       "  0%|          | 0/2000 [00:00<?, ?it/s]"
      ]
     },
     "metadata": {},
     "output_type": "display_data"
    },
    {
     "name": "stdout",
     "output_type": "stream",
     "text": [
      "0.216597525376581 None\n",
      "0.19855008361686205 None\n",
      "0.1777845669059323 None\n",
      "0.15752391144167127 None\n",
      "0.12166010583469136 None\n",
      "0.10290244166938327 None\n",
      "0.10365309767311463 None\n",
      "0.08707613708706269 None\n",
      "0.08710881708366376 None\n",
      "0.0870912727692545 None\n",
      "0.08708962739103127 None\n",
      "0.08710100320709803 None\n",
      "0.08707742124881954 None\n",
      "0.08712967465727933 None\n",
      "0.08707642649499404 None\n",
      "0.0871062954501771 None\n",
      "0.1004455114564608 None\n",
      "0.10340943261489134 None\n",
      "0.0871071255074968 None\n",
      "0.10338303031376234 None\n",
      "0.08713817570549907 None\n"
     ]
    },
    {
     "data": {
      "application/vnd.jupyter.widget-view+json": {
       "model_id": "b85a212bc3f44d2b8f420939552d976c",
       "version_major": 2,
       "version_minor": 0
      },
      "text/plain": [
       "  0%|          | 0/2000 [00:00<?, ?it/s]"
      ]
     },
     "metadata": {},
     "output_type": "display_data"
    },
    {
     "name": "stdout",
     "output_type": "stream",
     "text": [
      "0.20241523927136204 None\n",
      "0.1814852738385348 None\n",
      "0.1608618261241083 None\n",
      "0.14081266079907517 None\n",
      "0.12136995550617467 None\n",
      "0.10256514122391891 None\n",
      "0.08694259853092466 None\n",
      "0.08685884531205942 None\n",
      "0.08693181548517832 None\n",
      "0.08688622701595403 None\n",
      "0.08689127223722874 None\n",
      "0.08687972637633672 None\n",
      "0.08690857428743477 None\n",
      "0.08687565935079464 None\n",
      "0.08690689293622723 None\n",
      "0.08689254947369475 None\n",
      "0.0868662503977911 None\n",
      "0.08690299580235179 None\n",
      "0.08687888577691329 None\n",
      "0.08686115471990732 None\n",
      "0.0868591869119376 None\n"
     ]
    },
    {
     "data": {
      "application/vnd.jupyter.widget-view+json": {
       "model_id": "83fa281aa89043a1be637952ad03dc14",
       "version_major": 2,
       "version_minor": 0
      },
      "text/plain": [
       "  0%|          | 0/2000 [00:00<?, ?it/s]"
      ]
     },
     "metadata": {},
     "output_type": "display_data"
    },
    {
     "name": "stdout",
     "output_type": "stream",
     "text": [
      "0.19970344072996268 None\n",
      "0.17848652729039463 None\n",
      "0.15765130885953577 None\n",
      "0.13730419166018093 None\n",
      "0.11749063300069967 None\n",
      "0.09829098446706427 None\n",
      "0.09808271694801418 None\n",
      "0.09805422190846522 None\n",
      "0.08167159189381362 None\n",
      "0.08167527724191263 None\n",
      "0.08173993871403801 None\n",
      "0.0950164869564031 None\n",
      "0.08171004365065807 None\n",
      "0.08170140717736306 None\n",
      "0.08173561045988922 None\n",
      "0.09803565343024685 None\n",
      "0.09803481325051495 None\n",
      "0.09501405308834224 None\n",
      "0.0817010378554257 None\n",
      "0.08169417342713618 None\n",
      "0.08170695105756785 None\n"
     ]
    },
    {
     "data": {
      "application/vnd.jupyter.widget-view+json": {
       "model_id": "fbc779049a264033a79b0097532a9f20",
       "version_major": 2,
       "version_minor": 0
      },
      "text/plain": [
       "  0%|          | 0/2000 [00:00<?, ?it/s]"
      ]
     },
     "metadata": {},
     "output_type": "display_data"
    },
    {
     "name": "stdout",
     "output_type": "stream",
     "text": [
      "0.20490648137371748 None\n",
      "0.18374485041336752 None\n",
      "0.16281526644429573 None\n",
      "0.14229780850191326 None\n",
      "0.12235567552752205 None\n",
      "0.10319491917381676 None\n",
      "0.08834932844817966 None\n",
      "0.0882181807318021 None\n",
      "0.0881853180305233 None\n",
      "0.088204453274533 None\n",
      "0.08819268171140743 None\n",
      "0.0882084198609011 None\n",
      "0.08818506266624493 None\n",
      "0.08821207798304764 None\n",
      "0.08818456686797624 None\n",
      "0.08823644907848718 None\n",
      "0.08826414431794691 None\n",
      "0.0882501245022757 None\n",
      "0.08818630065928104 None\n",
      "0.08818710508982988 None\n",
      "0.08822118616577537 None\n"
     ]
    },
    {
     "data": {
      "application/vnd.jupyter.widget-view+json": {
       "model_id": "54faab366b914c9a81b43f1fa6e678ca",
       "version_major": 2,
       "version_minor": 0
      },
      "text/plain": [
       "  0%|          | 0/2000 [00:00<?, ?it/s]"
      ]
     },
     "metadata": {},
     "output_type": "display_data"
    },
    {
     "name": "stdout",
     "output_type": "stream",
     "text": [
      "0.20171556757435322 None\n",
      "0.18017995839015127 None\n",
      "0.1588202873898373 None\n",
      "0.13778884929060659 None\n",
      "0.11727466601352703 None\n",
      "0.09747681323284617 None\n",
      "0.08472406600034542 None\n",
      "0.08468939356619386 None\n",
      "0.08468514601024932 None\n",
      "0.08463897631707233 None\n",
      "0.08471541005999345 None\n",
      "0.0846380448785026 None\n",
      "0.08462681983386104 None\n",
      "0.08462638197464639 None\n",
      "0.0846299371916708 None\n",
      "0.08464340656180025 None\n",
      "0.08464832449673916 None\n",
      "0.08465576206325111 None\n",
      "0.08464674075085286 None\n",
      "0.08466787465086714 None\n",
      "0.08463877259562672 None\n"
     ]
    },
    {
     "data": {
      "application/vnd.jupyter.widget-view+json": {
       "model_id": "6c327ef5ad4e4dc6beee0344fd00b0d5",
       "version_major": 2,
       "version_minor": 0
      },
      "text/plain": [
       "  0%|          | 0/2000 [00:00<?, ?it/s]"
      ]
     },
     "metadata": {},
     "output_type": "display_data"
    },
    {
     "name": "stdout",
     "output_type": "stream",
     "text": [
      "0.20729230121116846 None\n",
      "0.18611772653794645 None\n",
      "0.16512706505636449 None\n",
      "0.14449375649745339 None\n",
      "0.12452237679837036 None\n",
      "0.10521925794701921 None\n",
      "0.08864962492379737 None\n",
      "0.08808177643683306 None\n",
      "0.08810749045031087 None\n",
      "0.0880916681987228 None\n",
      "0.08808329242533834 None\n",
      "0.08809496142400253 None\n",
      "0.08808438213558445 None\n",
      "0.08809131032781246 None\n",
      "0.08810034444902576 None\n",
      "0.08807957150034566 None\n",
      "0.08809056537469716 None\n",
      "0.08814402155968223 None\n",
      "0.08807268406125397 None\n",
      "0.0880797329111945 None\n",
      "0.08810955219195563 None\n",
      "Done!\n"
     ]
    },
    {
     "data": {
      "application/vnd.jupyter.widget-view+json": {
       "model_id": "485c9484970f41dbb6d695404a1b72fd",
       "version_major": 2,
       "version_minor": 0
      },
      "text/plain": [
       "  0%|          | 0/2000 [00:00<?, ?it/s]"
      ]
     },
     "metadata": {},
     "output_type": "display_data"
    },
    {
     "name": "stdout",
     "output_type": "stream",
     "text": [
      "0.1526220183757169 None\n",
      "0.1313823668787924 None\n",
      "0.11046248350200476 None\n",
      "0.0899825992410994 None\n",
      "0.076661697635279 None\n",
      "0.07655915336467373 None\n",
      "0.07658156282841508 None\n",
      "0.07658817736608747 None\n",
      "0.07659496362069182 None\n",
      "0.07657095614487983 None\n",
      "0.07657721639695995 None\n",
      "0.07658753425276021 None\n",
      "0.07654198780872798 None\n",
      "0.07658272731768871 None\n",
      "0.07655274976344731 None\n",
      "0.07654820945686039 None\n",
      "0.0766037075291723 None\n",
      "0.07654757442591364 None\n",
      "0.07656582188477357 None\n",
      "0.07658018460388577 None\n",
      "0.07654494251226374 None\n"
     ]
    },
    {
     "data": {
      "application/vnd.jupyter.widget-view+json": {
       "model_id": "0fc57e9451d64c738c3ffa311d9dee96",
       "version_major": 2,
       "version_minor": 0
      },
      "text/plain": [
       "  0%|          | 0/2000 [00:00<?, ?it/s]"
      ]
     },
     "metadata": {},
     "output_type": "display_data"
    },
    {
     "name": "stdout",
     "output_type": "stream",
     "text": [
      "0.15197686738970095 None\n",
      "0.13080114430778253 None\n",
      "0.109826585614623 None\n",
      "0.08919065375986884 None\n",
      "0.07491397288809931 None\n",
      "0.07484904487998525 None\n",
      "0.07484919285955773 None\n",
      "0.07484666311545746 None\n",
      "0.07484791313205107 None\n",
      "0.07486770733314614 None\n",
      "0.07491345892510055 None\n",
      "0.0748537102204893 None\n",
      "0.07488312176713205 None\n",
      "0.07485705165955278 None\n",
      "0.07486688109094364 None\n",
      "0.07489670015680824 None\n",
      "0.07488846446859498 None\n",
      "0.07485976772058313 None\n",
      "0.07491474675360583 None\n",
      "0.07489497235388494 None\n",
      "0.07488084519597563 None\n"
     ]
    },
    {
     "data": {
      "application/vnd.jupyter.widget-view+json": {
       "model_id": "58a7e507a1864f22a2a3dfe1f0afd69d",
       "version_major": 2,
       "version_minor": 0
      },
      "text/plain": [
       "  0%|          | 0/2000 [00:00<?, ?it/s]"
      ]
     },
     "metadata": {},
     "output_type": "display_data"
    },
    {
     "name": "stdout",
     "output_type": "stream",
     "text": [
      "0.15678659786063787 None\n",
      "0.12881439839425515 None\n",
      "0.12393195759870332 None\n",
      "0.08691908139499754 None\n",
      "0.0737243955096715 None\n",
      "0.07370418699012043 None\n",
      "0.09001262343831255 None\n",
      "0.08025251226994223 None\n",
      "0.07373323779452517 None\n",
      "0.08025502507041728 None\n",
      "0.073686547416846 None\n",
      "0.07368140858853728 None\n",
      "0.07370273902296769 None\n",
      "0.08025219468116797 None\n",
      "0.09003978840382332 None\n",
      "0.08027808169936745 None\n",
      "0.07369993577724461 None\n",
      "0.07368652309224463 None\n",
      "0.08998737301678464 None\n",
      "0.07370204063725679 None\n",
      "0.09003485243633601 None\n"
     ]
    },
    {
     "data": {
      "application/vnd.jupyter.widget-view+json": {
       "model_id": "5583d8d40b25495ebd986a67b5093269",
       "version_major": 2,
       "version_minor": 0
      },
      "text/plain": [
       "  0%|          | 0/2000 [00:00<?, ?it/s]"
      ]
     },
     "metadata": {},
     "output_type": "display_data"
    },
    {
     "name": "stdout",
     "output_type": "stream",
     "text": [
      "0.15850373660875988 None\n",
      "0.13740704592733546 None\n",
      "0.11650441353194652 None\n",
      "0.09595151692402423 None\n",
      "0.07799375684009188 None\n",
      "0.09413530507107641 None\n",
      "0.08442180709475254 None\n",
      "0.07782324613547209 None\n",
      "0.08442128776749969 None\n",
      "0.07785918942427117 None\n",
      "0.09412672910814224 None\n",
      "0.0843653584513004 None\n",
      "0.07782206910060788 None\n",
      "0.07786282073130849 None\n",
      "0.09413895182129453 None\n",
      "0.07784158936110423 None\n",
      "0.09413131375477479 None\n",
      "0.0778279966134658 None\n",
      "0.09415698794522202 None\n",
      "0.09413512075865432 None\n",
      "0.07784395170193507 None\n"
     ]
    },
    {
     "data": {
      "application/vnd.jupyter.widget-view+json": {
       "model_id": "2b34ea6e6ccd4244a1f4e8237d8c7052",
       "version_major": 2,
       "version_minor": 0
      },
      "text/plain": [
       "  0%|          | 0/2000 [00:00<?, ?it/s]"
      ]
     },
     "metadata": {},
     "output_type": "display_data"
    },
    {
     "name": "stdout",
     "output_type": "stream",
     "text": [
      "0.1505892561423814 None\n",
      "0.12934839405258775 None\n",
      "0.10835987172596394 None\n",
      "0.08775548340865692 None\n",
      "0.07139277526954277 None\n",
      "0.07114377826616014 None\n",
      "0.07124892544764358 None\n",
      "0.07115579020596248 None\n",
      "0.0711601374649049 None\n",
      "0.07115139931312858 None\n",
      "0.07119420761253104 None\n",
      "0.07113426333275652 None\n",
      "0.0711930604675391 None\n",
      "0.0711471099303007 None\n",
      "0.07117279978333668 None\n",
      "0.07117389392615044 None\n",
      "0.07119744329183766 None\n",
      "0.07117872661954464 None\n",
      "0.07114552115472933 None\n",
      "0.0711417401669797 None\n",
      "0.07125559903731801 None\n"
     ]
    },
    {
     "data": {
      "application/vnd.jupyter.widget-view+json": {
       "model_id": "bbdec57210e449c88a4d4cf100bce89c",
       "version_major": 2,
       "version_minor": 0
      },
      "text/plain": [
       "  0%|          | 0/2000 [00:00<?, ?it/s]"
      ]
     },
     "metadata": {},
     "output_type": "display_data"
    },
    {
     "name": "stdout",
     "output_type": "stream",
     "text": [
      "0.16554974453067367 None\n",
      "0.14454321500259057 None\n",
      "0.1238686873060292 None\n",
      "0.10365268562262608 None\n",
      "0.08398860965732183 None\n",
      "0.08263166923397462 None\n",
      "0.08265975982485457 None\n",
      "0.0825841377144836 None\n",
      "0.08258612382883676 None\n",
      "0.08257333578039944 None\n",
      "0.08257725903413152 None\n",
      "0.08261014435858124 None\n",
      "0.08259403707154431 None\n",
      "0.08260012063707872 None\n",
      "0.08257721826253578 None\n",
      "0.08262012506506734 None\n",
      "0.08258760465185434 None\n",
      "0.08268342071030262 None\n",
      "0.08258024805490212 None\n",
      "0.08258859375967993 None\n",
      "0.08257462876005751 None\n"
     ]
    },
    {
     "data": {
      "application/vnd.jupyter.widget-view+json": {
       "model_id": "9b88db5bd4a047c0b1693c7ac894a60b",
       "version_major": 2,
       "version_minor": 0
      },
      "text/plain": [
       "  0%|          | 0/2000 [00:00<?, ?it/s]"
      ]
     },
     "metadata": {},
     "output_type": "display_data"
    },
    {
     "name": "stdout",
     "output_type": "stream",
     "text": [
      "0.1518300289124967 None\n",
      "0.13056092730244134 None\n",
      "0.10953109039592265 None\n",
      "0.08893200973578748 None\n",
      "0.07153375583580626 None\n",
      "0.07133208129159427 None\n",
      "0.07143583938127887 None\n",
      "0.07137659682308711 None\n",
      "0.0714278576771479 None\n",
      "0.07140215028986775 None\n",
      "0.07139075102964544 None\n",
      "0.0713328612121843 None\n",
      "0.07138393798303896 None\n",
      "0.0713399712981804 None\n",
      "0.07137000917970865 None\n",
      "0.07139081428907434 None\n",
      "0.07138411556820505 None\n",
      "0.0713599497860752 None\n",
      "0.07140774879520197 None\n",
      "0.07140011772408737 None\n",
      "0.07133699954730405 None\n"
     ]
    },
    {
     "data": {
      "application/vnd.jupyter.widget-view+json": {
       "model_id": "99da4e7968344634b91f0a52fcbf3935",
       "version_major": 2,
       "version_minor": 0
      },
      "text/plain": [
       "  0%|          | 0/2000 [00:00<?, ?it/s]"
      ]
     },
     "metadata": {},
     "output_type": "display_data"
    },
    {
     "name": "stdout",
     "output_type": "stream",
     "text": [
      "0.15291617978959632 None\n",
      "0.1382146250569631 None\n",
      "0.11724656396043089 None\n",
      "0.0901903850834741 None\n",
      "0.0813133063907063 None\n",
      "0.08120119917211072 None\n",
      "0.07465903712373287 None\n",
      "0.0746338285403563 None\n",
      "0.09098646151156146 None\n",
      "0.07464606773811212 None\n",
      "0.08123025448521355 None\n",
      "0.07463932603688993 None\n",
      "0.07463426709287323 None\n",
      "0.07463478933722438 None\n",
      "0.08122099629997302 None\n",
      "0.07466072677759276 None\n",
      "0.07461997957533384 None\n",
      "0.07468794271866722 None\n",
      "0.08116810359666546 None\n",
      "0.0746388675519073 None\n",
      "0.08119051798120089 None\n",
      "Done!\n"
     ]
    },
    {
     "data": {
      "application/vnd.jupyter.widget-view+json": {
       "model_id": "490db48dab3f43109d970c4141e2b0b5",
       "version_major": 2,
       "version_minor": 0
      },
      "text/plain": [
       "  0%|          | 0/2000 [00:00<?, ?it/s]"
      ]
     },
     "metadata": {},
     "output_type": "display_data"
    },
    {
     "name": "stdout",
     "output_type": "stream",
     "text": [
      "0.23179024320384084 None\n",
      "0.19562124318689972 None\n",
      "0.18199074665345172 None\n",
      "0.1618176386203117 None\n",
      "0.1511327605253567 None\n",
      "0.11715368720356774 None\n",
      "0.11512315616263825 None\n",
      "0.09304028401777709 None\n",
      "0.09303521506824852 None\n",
      "0.09308463057703112 None\n",
      "0.10850774482847828 None\n",
      "0.09305992055222499 None\n",
      "0.10849633100361872 None\n",
      "0.09306520997257317 None\n",
      "0.09307677043300612 None\n",
      "0.09305259203878695 None\n",
      "0.09979434303048523 None\n",
      "0.09980140742883215 None\n",
      "0.09309208339874726 None\n",
      "0.09981553442690647 None\n",
      "0.09307266569966514 None\n"
     ]
    },
    {
     "data": {
      "application/vnd.jupyter.widget-view+json": {
       "model_id": "de400006df864154bfe3e583a7829945",
       "version_major": 2,
       "version_minor": 0
      },
      "text/plain": [
       "  0%|          | 0/2000 [00:00<?, ?it/s]"
      ]
     },
     "metadata": {},
     "output_type": "display_data"
    },
    {
     "name": "stdout",
     "output_type": "stream",
     "text": [
      "0.20813780150549374 None\n",
      "0.18690780396505963 None\n",
      "0.16599210543986564 None\n",
      "0.14565403078749115 None\n",
      "0.1260677556172281 None\n",
      "0.10742188816378527 None\n",
      "0.09005200293647986 None\n",
      "0.08657732525542493 None\n",
      "0.0865821905875437 None\n",
      "0.08657016472818665 None\n",
      "0.08657737580354655 None\n",
      "0.08664313186875407 None\n",
      "0.08659110697527035 None\n",
      "0.08661304190676271 None\n",
      "0.08656606606414086 None\n",
      "0.08660799061048713 None\n",
      "0.08657515232767804 None\n",
      "0.08656861020363889 None\n",
      "0.08657221948719564 None\n",
      "0.08656573611631765 None\n",
      "0.08663611317212075 None\n"
     ]
    },
    {
     "data": {
      "application/vnd.jupyter.widget-view+json": {
       "model_id": "82781f4f600441f78f3a63524d547f18",
       "version_major": 2,
       "version_minor": 0
      },
      "text/plain": [
       "  0%|          | 0/2000 [00:00<?, ?it/s]"
      ]
     },
     "metadata": {},
     "output_type": "display_data"
    },
    {
     "name": "stdout",
     "output_type": "stream",
     "text": [
      "0.2113555451567203 None\n",
      "0.19036235100502938 None\n",
      "0.16280158449646803 None\n",
      "0.14257831296317275 None\n",
      "0.13009225453633377 None\n",
      "0.12005024652450298 None\n",
      "0.10205977487634141 None\n",
      "0.08887219386976329 None\n",
      "0.08187096134322475 None\n",
      "0.0818906956793576 None\n",
      "0.09758502445839287 None\n",
      "0.09759235934216762 None\n",
      "0.09763852787097983 None\n",
      "0.08187880039700694 None\n",
      "0.08892179977345861 None\n",
      "0.08188435076159783 None\n",
      "0.08888401829747389 None\n",
      "0.08194362901736182 None\n",
      "0.08887784719435732 None\n",
      "0.09758649347676883 None\n",
      "0.08191040140173636 None\n"
     ]
    },
    {
     "data": {
      "application/vnd.jupyter.widget-view+json": {
       "model_id": "6e9981bcf31047e0b4e4978e2819a47e",
       "version_major": 2,
       "version_minor": 0
      },
      "text/plain": [
       "  0%|          | 0/2000 [00:00<?, ?it/s]"
      ]
     },
     "metadata": {},
     "output_type": "display_data"
    },
    {
     "name": "stdout",
     "output_type": "stream",
     "text": [
      "0.2132739505687232 None\n",
      "0.19215062215358716 None\n",
      "0.17134169484063366 None\n",
      "0.1510811573358762 None\n",
      "0.13160093492341363 None\n",
      "0.11316439494740908 None\n",
      "0.09595269344112822 None\n",
      "0.09806410482213834 None\n",
      "0.09126950279714723 None\n",
      "0.09127332504169124 None\n",
      "0.09126403255563438 None\n",
      "0.0913037674562329 None\n",
      "0.09130974966885207 None\n",
      "0.09128141830942836 None\n",
      "0.0980239941939874 None\n",
      "0.09127614159142562 None\n",
      "0.09125599700560764 None\n",
      "0.09800621593570691 None\n",
      "0.09129239932563421 None\n",
      "0.09126358369203767 None\n",
      "0.09129131711139002 None\n"
     ]
    },
    {
     "data": {
      "application/vnd.jupyter.widget-view+json": {
       "model_id": "74f89ea6c87b48f5a48ef11c17ce0d98",
       "version_major": 2,
       "version_minor": 0
      },
      "text/plain": [
       "  0%|          | 0/2000 [00:00<?, ?it/s]"
      ]
     },
     "metadata": {},
     "output_type": "display_data"
    },
    {
     "name": "stdout",
     "output_type": "stream",
     "text": [
      "0.20603158752004028 None\n",
      "0.18484360865025826 None\n",
      "0.17053060214234347 None\n",
      "0.14337368683704343 None\n",
      "0.12364902855403538 None\n",
      "0.11136228274013553 None\n",
      "0.09318838338379681 None\n",
      "0.0825073576846943 None\n",
      "0.08922056615457691 None\n",
      "0.09792125007459107 None\n",
      "0.08246057550887922 None\n",
      "0.08924537441756093 None\n",
      "0.08918167809779669 None\n",
      "0.08248224450996883 None\n",
      "0.08248553783906523 None\n",
      "0.08249224088227915 None\n",
      "0.09795256265448893 None\n",
      "0.09791943949653688 None\n",
      "0.08246462995995976 None\n",
      "0.08251877482293273 None\n",
      "0.08920106153111138 None\n"
     ]
    },
    {
     "data": {
      "application/vnd.jupyter.widget-view+json": {
       "model_id": "d5f0abf24e564e9d9657a85f71494ca5",
       "version_major": 2,
       "version_minor": 0
      },
      "text/plain": [
       "  0%|          | 0/2000 [00:00<?, ?it/s]"
      ]
     },
     "metadata": {},
     "output_type": "display_data"
    },
    {
     "name": "stdout",
     "output_type": "stream",
     "text": [
      "0.20339791403778454 None\n",
      "0.18206014329994955 None\n",
      "0.16097701867245906 None\n",
      "0.14033038566017417 None\n",
      "0.12025140555322375 None\n",
      "0.10088624538566456 None\n",
      "0.08238317173971568 None\n",
      "0.08109142819926818 None\n",
      "0.08107550051339595 None\n",
      "0.08108528448209418 None\n",
      "0.0810799501595053 None\n",
      "0.08111274952269008 None\n",
      "0.08111598415834882 None\n",
      "0.08109890841665922 None\n",
      "0.08109795115513228 None\n",
      "0.0810587478416683 None\n",
      "0.0810857836423005 None\n",
      "0.08112599475330852 None\n",
      "0.0810653958355661 None\n",
      "0.08106238355545342 None\n",
      "0.0810662659453586 None\n"
     ]
    },
    {
     "data": {
      "application/vnd.jupyter.widget-view+json": {
       "model_id": "beedfdd3a3c847a9b7acd2eb5081275b",
       "version_major": 2,
       "version_minor": 0
      },
      "text/plain": [
       "  0%|          | 0/2000 [00:00<?, ?it/s]"
      ]
     },
     "metadata": {},
     "output_type": "display_data"
    },
    {
     "name": "stdout",
     "output_type": "stream",
     "text": [
      "0.2076392595430215 None\n",
      "0.18659851733932922 None\n",
      "0.16583695687262226 None\n",
      "0.14554062096117404 None\n",
      "0.12589623518213222 None\n",
      "0.10724337195540012 None\n",
      "0.08898588075795044 None\n",
      "0.09981651226592332 None\n",
      "0.08436766153115109 None\n",
      "0.08439524782374636 None\n",
      "0.08437399334663168 None\n",
      "0.08439778452555025 None\n",
      "0.0910955511224746 None\n",
      "0.08438240530903898 None\n",
      "0.08435900562945929 None\n",
      "0.08435185549929582 None\n",
      "0.08436623116969122 None\n",
      "0.09108740245102792 None\n",
      "0.09107579876730894 None\n",
      "0.08443346479252938 None\n",
      "0.09109100282402921 None\n"
     ]
    },
    {
     "data": {
      "application/vnd.jupyter.widget-view+json": {
       "model_id": "3933693e8f934ea096d41e6f302d5e24",
       "version_major": 2,
       "version_minor": 0
      },
      "text/plain": [
       "  0%|          | 0/2000 [00:00<?, ?it/s]"
      ]
     },
     "metadata": {},
     "output_type": "display_data"
    },
    {
     "name": "stdout",
     "output_type": "stream",
     "text": [
      "0.21259126262065897 None\n",
      "0.2067915428527527 None\n",
      "0.17014345735952807 None\n",
      "0.14933478450123622 None\n",
      "0.1292347341199488 None\n",
      "0.10995237742337467 None\n",
      "0.09160585151875751 None\n",
      "0.08610149728326877 None\n",
      "0.08611099548471357 None\n",
      "0.08611518309905779 None\n",
      "0.08613785711724187 None\n",
      "0.0861212416787832 None\n",
      "0.08611341199256534 None\n",
      "0.08608938092313505 None\n",
      "0.08612465962686364 None\n",
      "0.08619094893584076 None\n",
      "0.08608889726669958 None\n",
      "0.08608204792116275 None\n",
      "0.0861572594955049 None\n",
      "0.08614345082084163 None\n",
      "0.0860844273951192 None\n"
     ]
    },
    {
     "data": {
      "application/vnd.jupyter.widget-view+json": {
       "model_id": "2ae9edb4c51847309b5ec972275c4606",
       "version_major": 2,
       "version_minor": 0
      },
      "text/plain": [
       "  0%|          | 0/2000 [00:00<?, ?it/s]"
      ]
     },
     "metadata": {},
     "output_type": "display_data"
    },
    {
     "name": "stdout",
     "output_type": "stream",
     "text": [
      "0.21263328517607777 None\n",
      "0.19172027042649045 None\n",
      "0.17107793195384308 None\n",
      "0.15091226119662726 None\n",
      "0.13147960151637555 None\n",
      "0.11320367269451706 None\n",
      "0.0951404105912935 None\n",
      "0.0867345930619898 None\n",
      "0.08677734928573484 None\n",
      "0.08675800631819562 None\n",
      "0.08676371921323739 None\n",
      "0.0867330582279182 None\n",
      "0.0867251273067682 None\n",
      "0.10221008126121951 None\n",
      "0.08675648216086668 None\n",
      "0.0867592981532203 None\n",
      "0.08672238217277978 None\n",
      "0.08672413916885198 None\n",
      "0.08675250573048508 None\n",
      "0.08675868637729564 None\n",
      "0.08675261204310498 None\n",
      "Done!\n"
     ]
    },
    {
     "data": {
      "application/vnd.jupyter.widget-view+json": {
       "model_id": "ca1d43c3749e4cc4b830a9fea48e72ae",
       "version_major": 2,
       "version_minor": 0
      },
      "text/plain": [
       "  0%|          | 0/2000 [00:00<?, ?it/s]"
      ]
     },
     "metadata": {},
     "output_type": "display_data"
    },
    {
     "name": "stdout",
     "output_type": "stream",
     "text": [
      "0.14032746030006332 None\n",
      "0.11948851093990843 None\n",
      "0.11537220306604512 None\n",
      "0.08813963897214863 None\n",
      "0.07760003786442869 None\n",
      "0.07761160850650456 None\n",
      "0.08676807224294769 None\n",
      "0.07761351823692568 None\n",
      "0.07759690588146148 None\n",
      "0.09398494786082605 None\n",
      "0.09394721456326324 None\n",
      "0.07763974942332538 None\n",
      "0.09392892940230961 None\n",
      "0.07758870600402719 None\n",
      "0.08681419880962643 None\n",
      "0.07759274188735517 None\n",
      "0.07761436131446842 None\n",
      "0.08679046993339436 None\n",
      "0.09390911262320932 None\n",
      "0.09390324576116006 None\n",
      "0.09389871155294188 None\n"
     ]
    },
    {
     "data": {
      "application/vnd.jupyter.widget-view+json": {
       "model_id": "3fbc68ea21e747af9f378dacbbe6cad2",
       "version_major": 2,
       "version_minor": 0
      },
      "text/plain": [
       "  0%|          | 0/2000 [00:00<?, ?it/s]"
      ]
     },
     "metadata": {},
     "output_type": "display_data"
    },
    {
     "name": "stdout",
     "output_type": "stream",
     "text": [
      "0.15057144600170613 None\n",
      "0.1299123228093615 None\n",
      "0.10974482530574539 None\n",
      "0.08999950020826435 None\n",
      "0.0842108605388422 None\n",
      "0.0841860602982961 None\n",
      "0.08417976272855654 None\n",
      "0.08419506275329249 None\n",
      "0.08417954836236613 None\n",
      "0.08418916112270275 None\n",
      "0.08418728976064298 None\n",
      "0.08417381300749661 None\n",
      "0.08419114591479532 None\n",
      "0.08419874701143663 None\n",
      "0.08421466350615917 None\n",
      "0.08417846945445517 None\n",
      "0.08417573472824819 None\n",
      "0.08417639499910072 None\n",
      "0.08419828204623293 None\n",
      "0.08420257664555329 None\n",
      "0.08420194267743854 None\n"
     ]
    },
    {
     "data": {
      "application/vnd.jupyter.widget-view+json": {
       "model_id": "eb7d0cd7d9e342c59d676d28ac39488d",
       "version_major": 2,
       "version_minor": 0
      },
      "text/plain": [
       "  0%|          | 0/2000 [00:00<?, ?it/s]"
      ]
     },
     "metadata": {},
     "output_type": "display_data"
    },
    {
     "name": "stdout",
     "output_type": "stream",
     "text": [
      "0.1440214257636946 None\n",
      "0.12290559963489295 None\n",
      "0.10196456498147867 None\n",
      "0.08136486393464377 None\n",
      "0.07890526427678754 None\n",
      "0.07885482100972951 None\n",
      "0.07893369142477626 None\n",
      "0.07887356359758055 None\n",
      "0.07881836214278984 None\n",
      "0.078824471266734 None\n",
      "0.0788654775127109 None\n",
      "0.0788390853190887 None\n",
      "0.07885316893262956 None\n",
      "0.07888022887230213 None\n",
      "0.07882482860722236 None\n",
      "0.07883256273879617 None\n",
      "0.07888120230393107 None\n",
      "0.07884240229453357 None\n",
      "0.07882966743334865 None\n",
      "0.07883091932762455 None\n",
      "0.07884614406760923 None\n"
     ]
    },
    {
     "data": {
      "application/vnd.jupyter.widget-view+json": {
       "model_id": "d258c84bea8f4694a5bd441737673f64",
       "version_major": 2,
       "version_minor": 0
      },
      "text/plain": [
       "  0%|          | 0/2000 [00:00<?, ?it/s]"
      ]
     },
     "metadata": {},
     "output_type": "display_data"
    },
    {
     "name": "stdout",
     "output_type": "stream",
     "text": [
      "0.1430585574175993 None\n",
      "0.12192805212654924 None\n",
      "0.10096377566236668 None\n",
      "0.08030483871699781 None\n",
      "0.08000901438283269 None\n",
      "0.07996771855073025 None\n",
      "0.07996673797814872 None\n",
      "0.07998049555857452 None\n",
      "0.08001238950957773 None\n",
      "0.07995081119607486 None\n",
      "0.07995447666833196 None\n",
      "0.07995964416116501 None\n",
      "0.07997689122362912 None\n",
      "0.07997947122023802 None\n",
      "0.07996940038283254 None\n",
      "0.07998332469556599 None\n",
      "0.07998664626118501 None\n",
      "0.07996577047804013 None\n",
      "0.07997665043814436 None\n",
      "0.07997193029639212 None\n",
      "0.08000697225505012 None\n"
     ]
    },
    {
     "data": {
      "application/vnd.jupyter.widget-view+json": {
       "model_id": "285fdc2c4d684ee5ac9380666eb8713e",
       "version_major": 2,
       "version_minor": 0
      },
      "text/plain": [
       "  0%|          | 0/2000 [00:00<?, ?it/s]"
      ]
     },
     "metadata": {},
     "output_type": "display_data"
    },
    {
     "name": "stdout",
     "output_type": "stream",
     "text": [
      "0.14835882806865847 None\n",
      "0.12776112977462328 None\n",
      "0.10733210665175472 None\n",
      "0.08712204401401882 None\n",
      "0.07985189587925753 None\n",
      "0.07982823977878663 None\n",
      "0.07988476979010749 None\n",
      "0.07983283497990927 None\n",
      "0.07982194719617301 None\n",
      "0.0890591822804063 None\n",
      "0.08902614926820525 None\n",
      "0.07986181343653699 None\n",
      "0.07982261677795065 None\n",
      "0.09613509634413328 None\n",
      "0.07983677559156117 None\n",
      "0.07984342202066526 None\n",
      "0.07985833506556492 None\n",
      "0.07982846831511659 None\n",
      "0.07985660488383862 None\n",
      "0.07985600773784089 None\n",
      "0.07983405122083337 None\n"
     ]
    },
    {
     "data": {
      "application/vnd.jupyter.widget-view+json": {
       "model_id": "a1c1a66902d145aab338745df9c2df81",
       "version_major": 2,
       "version_minor": 0
      },
      "text/plain": [
       "  0%|          | 0/2000 [00:00<?, ?it/s]"
      ]
     },
     "metadata": {},
     "output_type": "display_data"
    },
    {
     "name": "stdout",
     "output_type": "stream",
     "text": [
      "0.1426427894037597 None\n",
      "0.12135052546880501 None\n",
      "0.100257547909673 None\n",
      "0.07954519903151096 None\n",
      "0.07798974444570446 None\n",
      "0.07791749923073764 None\n",
      "0.07789718402156753 None\n",
      "0.07794121788472796 None\n",
      "0.0779231655000903 None\n",
      "0.0779169968792879 None\n",
      "0.07789424462647335 None\n",
      "0.07791851319876784 None\n",
      "0.07794992048387533 None\n",
      "0.07792417469861214 None\n",
      "0.07793609586860469 None\n",
      "0.0779350828901586 None\n",
      "0.07793923949658217 None\n",
      "0.07796912978290199 None\n",
      "0.07792687260753174 None\n",
      "0.07795770667060727 None\n",
      "0.07791203772229592 None\n"
     ]
    },
    {
     "data": {
      "application/vnd.jupyter.widget-view+json": {
       "model_id": "02c07b16ba6f44518abf4366711a33d0",
       "version_major": 2,
       "version_minor": 0
      },
      "text/plain": [
       "  0%|          | 0/2000 [00:00<?, ?it/s]"
      ]
     },
     "metadata": {},
     "output_type": "display_data"
    },
    {
     "name": "stdout",
     "output_type": "stream",
     "text": [
      "0.1387403939870729 None\n",
      "0.11736288838465347 None\n",
      "0.09620879325384167 None\n",
      "0.07726255927230065 None\n",
      "0.07674059496241048 None\n",
      "0.07669468925480075 None\n",
      "0.07667049706854698 None\n",
      "0.07672094533078712 None\n",
      "0.0766883637092294 None\n",
      "0.0767119108966507 None\n",
      "0.07670920789358313 None\n",
      "0.0767749335464183 None\n",
      "0.07669308435909533 None\n",
      "0.07675314011807688 None\n",
      "0.07668662365344037 None\n",
      "0.07667331222709595 None\n",
      "0.07670289016350329 None\n",
      "0.07667555218299786 None\n",
      "0.07667630108706709 None\n",
      "0.07672816982594528 None\n",
      "0.07669311716708783 None\n"
     ]
    },
    {
     "data": {
      "application/vnd.jupyter.widget-view+json": {
       "model_id": "b71648ee4000453797cc16a8e2033781",
       "version_major": 2,
       "version_minor": 0
      },
      "text/plain": [
       "  0%|          | 0/2000 [00:00<?, ?it/s]"
      ]
     },
     "metadata": {},
     "output_type": "display_data"
    },
    {
     "name": "stdout",
     "output_type": "stream",
     "text": [
      "0.15502043818181277 None\n",
      "0.12495008095429642 None\n",
      "0.10427661234587292 None\n",
      "0.09316640875614787 None\n",
      "0.07540546373031272 None\n",
      "0.07533817680516056 None\n",
      "0.10881722853384468 None\n",
      "0.10884553172667777 None\n",
      "0.0916360468475297 None\n",
      "0.07534999493754398 None\n",
      "0.07534345170162181 None\n",
      "0.0753172270845735 None\n",
      "0.08458755361980258 None\n",
      "0.07531820930406176 None\n",
      "0.07531392702851154 None\n",
      "0.10172449175411176 None\n",
      "0.10167227274010958 None\n",
      "0.08456182503236642 None\n",
      "0.07532144776532619 None\n",
      "0.07532790708320189 None\n",
      "0.08450142481603415 None\n"
     ]
    },
    {
     "data": {
      "application/vnd.jupyter.widget-view+json": {
       "model_id": "81e853d963354b8f9b2d2bb12a55fa97",
       "version_major": 2,
       "version_minor": 0
      },
      "text/plain": [
       "  0%|          | 0/2000 [00:00<?, ?it/s]"
      ]
     },
     "metadata": {},
     "output_type": "display_data"
    },
    {
     "name": "stdout",
     "output_type": "stream",
     "text": [
      "0.14049507009501838 None\n",
      "0.11907671434170626 None\n",
      "0.09785308537902498 None\n",
      "0.07715827235619772 None\n",
      "0.07709848881775258 None\n",
      "0.07711189685573039 None\n",
      "0.07714488186074352 None\n",
      "0.07709406170328413 None\n",
      "0.07708080265796122 None\n",
      "0.07715545702521896 None\n",
      "0.07708929995901523 None\n",
      "0.0771022380415765 None\n",
      "0.07714160569007213 None\n",
      "0.07709716893936125 None\n",
      "0.07708563043413649 None\n",
      "0.07715431544935954 None\n",
      "0.0770809418526464 None\n",
      "0.07708417964588511 None\n",
      "0.07713223575298275 None\n",
      "0.07710585258019 None\n",
      "0.07712316046535321 None\n"
     ]
    },
    {
     "data": {
      "application/vnd.jupyter.widget-view+json": {
       "model_id": "3fdfebe86f404d2eb77e40ca081d7860",
       "version_major": 2,
       "version_minor": 0
      },
      "text/plain": [
       "  0%|          | 0/2000 [00:00<?, ?it/s]"
      ]
     },
     "metadata": {},
     "output_type": "display_data"
    },
    {
     "name": "stdout",
     "output_type": "stream",
     "text": [
      "0.13888372014700034 None\n",
      "0.1174924373127921 None\n",
      "0.09625651806006742 None\n",
      "0.07522504698789685 None\n",
      "0.07443456336264959 None\n",
      "0.07447701023968814 None\n",
      "0.074446305407942 None\n",
      "0.0744506266607313 None\n",
      "0.07446761521774262 None\n",
      "0.07445859947966828 None\n",
      "0.07444217632434388 None\n",
      "0.07449871697188867 None\n",
      "0.0744762595651764 None\n",
      "0.07447449116416088 None\n",
      "0.07445568887371085 None\n",
      "0.07444807967641978 None\n",
      "0.07445001925267258 None\n",
      "0.07444776881068121 None\n",
      "0.07449002799716344 None\n",
      "0.07446622260184109 None\n",
      "0.07450436205244583 None\n"
     ]
    },
    {
     "data": {
      "application/vnd.jupyter.widget-view+json": {
       "model_id": "82552bdc88914034a2023330f976c181",
       "version_major": 2,
       "version_minor": 0
      },
      "text/plain": [
       "  0%|          | 0/2000 [00:00<?, ?it/s]"
      ]
     },
     "metadata": {},
     "output_type": "display_data"
    },
    {
     "name": "stdout",
     "output_type": "stream",
     "text": [
      "0.1508729544789289 None\n",
      "0.12923227724665215 None\n",
      "0.10057024906203901 None\n",
      "0.07275555294385008 None\n",
      "0.07252313016510101 None\n",
      "0.07253349674148724 None\n",
      "0.08169360100360588 None\n",
      "0.07251732478354528 None\n",
      "0.08166864993980913 None\n",
      "0.07255655757783841 None\n",
      "0.07248729534971478 None\n",
      "0.0887826488174587 None\n",
      "0.0816817739557282 None\n",
      "0.07247718211800977 None\n",
      "0.08882564904370227 None\n",
      "0.07250779089550988 None\n",
      "0.072487461345919 None\n",
      "0.0887814470292596 None\n",
      "0.08884066533811914 None\n",
      "0.07247500914196062 None\n",
      "0.0816601044865901 None\n",
      "Done!\n"
     ]
    }
   ],
   "source": [
    "n = 3\n",
    "d = 2**n\n",
    "\n",
    "np.random.seed(42)\n",
    "random.seed(42)\n",
    "tf.random.set_seed(42)\n",
    "rng = np.random.default_rng(seed=42)\n",
    "\n",
    "[distance_best_list, model_best_list] = loader(data_path(\"diluted_fitting_16layer.model\"))\n",
    "rank_start = model_best_list[-1].channel.rank\n",
    "\n",
    "distance_best_list, model_best_list = fit_diluted_unitary(spectrum_target_list3, \n",
    "                                                          d=d, \n",
    "                                                          rank_start = rank_start,\n",
    "                                                          rank_step = 1,\n",
    "                                                          num_iter = 2000,\n",
    "                                                         )\n",
    "\n",
    "saver([distance_best_list, model_best_list], data_path(\"diluted_fitting_24layer.model\"))"
   ]
  },
  {
   "cell_type": "code",
   "execution_count": 48,
   "metadata": {},
   "outputs": [
    {
     "data": {
      "application/vnd.jupyter.widget-view+json": {
       "model_id": "cbc75683ef1f484cbba9ec35ed074f2c",
       "version_major": 2,
       "version_minor": 0
      },
      "text/plain": [
       "  0%|          | 0/10 [00:00<?, ?it/s]"
      ]
     },
     "metadata": {},
     "output_type": "display_data"
    },
    {
     "data": {
      "application/vnd.jupyter.widget-view+json": {
       "model_id": "82b939962a84439a8034aad77158b01f",
       "version_major": 2,
       "version_minor": 0
      },
      "text/plain": [
       "  0%|          | 0/2000 [00:00<?, ?it/s]"
      ]
     },
     "metadata": {},
     "output_type": "display_data"
    },
    {
     "name": "stdout",
     "output_type": "stream",
     "text": [
      "0.30087829908554015 None\n",
      "0.2796149670781065 None\n",
      "0.2585854188623647 None\n",
      "0.23807732896681008 None\n",
      "0.21828881494876615 None\n",
      "0.19914020092191814 None\n",
      "0.18076528926836669 None\n",
      "0.16330935210496494 None\n",
      "0.14696132473360934 None\n",
      "0.13199698706991853 None\n",
      "0.11902353954129266 None\n",
      "0.12217636188519654 None\n",
      "0.09548232125363411 None\n",
      "0.09375293436238452 None\n",
      "0.08803736646545511 None\n",
      "0.10346502682705058 None\n",
      "0.09371847421220421 None\n",
      "0.08803332687991432 None\n",
      "0.1034685822109569 None\n",
      "0.0880284532790953 None\n",
      "0.08805725864807926 None\n"
     ]
    },
    {
     "data": {
      "application/vnd.jupyter.widget-view+json": {
       "model_id": "e8247acf1b3b4108a6009c17db9cdc03",
       "version_major": 2,
       "version_minor": 0
      },
      "text/plain": [
       "  0%|          | 0/2000 [00:00<?, ?it/s]"
      ]
     },
     "metadata": {},
     "output_type": "display_data"
    },
    {
     "name": "stdout",
     "output_type": "stream",
     "text": [
      "0.30493920439586153 None\n",
      "0.28357641766439917 None\n",
      "0.2623351814144631 None\n",
      "0.2413731930496492 None\n",
      "0.2208744231498951 None\n",
      "0.20103936509135517 None\n",
      "0.18194401319199655 None\n",
      "0.16369680388815286 None\n",
      "0.14615057892912403 None\n",
      "0.13636076264907826 None\n",
      "0.11622599674902981 None\n",
      "0.10939976743878088 None\n",
      "0.09252298377642529 None\n",
      "0.08552990689784173 None\n",
      "0.08550944717359989 None\n",
      "0.1009815685187444 None\n",
      "0.08552234863949063 None\n",
      "0.08550864250313286 None\n",
      "0.10096727588815037 None\n",
      "0.09121848978132174 None\n",
      "0.10096260098788773 None\n"
     ]
    },
    {
     "data": {
      "application/vnd.jupyter.widget-view+json": {
       "model_id": "2a492632978c4d2fa7e93ce7a2ee8b39",
       "version_major": 2,
       "version_minor": 0
      },
      "text/plain": [
       "  0%|          | 0/2000 [00:00<?, ?it/s]"
      ]
     },
     "metadata": {},
     "output_type": "display_data"
    },
    {
     "name": "stdout",
     "output_type": "stream",
     "text": [
      "0.30431189174733003 None\n",
      "0.2831487989761476 None\n",
      "0.26223622303145894 None\n",
      "0.24178645805595278 None\n",
      "0.222139075650854 None\n",
      "0.20298276849845867 None\n",
      "0.1845773525325648 None\n",
      "0.16696920486419053 None\n",
      "0.1502322696736615 None\n",
      "0.1344811601996969 None\n",
      "0.11984028704900718 None\n",
      "0.11205132555813072 None\n",
      "0.09957935429545421 None\n",
      "0.08590992801965776 None\n",
      "0.09153742602678236 None\n",
      "0.0858509608525456 None\n",
      "0.1012969871975197 None\n",
      "0.08587409956456421 None\n",
      "0.08586216046796562 None\n",
      "0.08586026393749119 None\n",
      "0.08586497414650232 None\n"
     ]
    },
    {
     "data": {
      "application/vnd.jupyter.widget-view+json": {
       "model_id": "9be2e8779aff4a35b9addf48ef6f5fac",
       "version_major": 2,
       "version_minor": 0
      },
      "text/plain": [
       "  0%|          | 0/2000 [00:00<?, ?it/s]"
      ]
     },
     "metadata": {},
     "output_type": "display_data"
    },
    {
     "name": "stdout",
     "output_type": "stream",
     "text": [
      "0.3004639794030124 None\n",
      "0.27918942961390353 None\n",
      "0.25821626737596715 None\n",
      "0.23763000080608704 None\n",
      "0.21759601963312625 None\n",
      "0.1982664964447489 None\n",
      "0.17973386630619675 None\n",
      "0.16202951783808728 None\n",
      "0.14524191107227202 None\n",
      "0.12948008905440095 None\n",
      "0.11462791827156676 None\n",
      "0.10261250685022778 None\n",
      "0.09648905574208021 None\n",
      "0.08293937609503049 None\n",
      "0.09833619884790762 None\n",
      "0.08289671512793897 None\n",
      "0.08292648610258412 None\n",
      "0.08289842583060872 None\n",
      "0.08860013568823659 None\n",
      "0.08291823661934121 None\n",
      "0.09833637064593201 None\n"
     ]
    },
    {
     "data": {
      "application/vnd.jupyter.widget-view+json": {
       "model_id": "51e9da4d5eed4bc6af56ddd8b110c044",
       "version_major": 2,
       "version_minor": 0
      },
      "text/plain": [
       "  0%|          | 0/2000 [00:00<?, ?it/s]"
      ]
     },
     "metadata": {},
     "output_type": "display_data"
    },
    {
     "name": "stdout",
     "output_type": "stream",
     "text": [
      "0.3015580964658203 None\n",
      "0.28033836484449776 None\n",
      "0.25936715692355694 None\n",
      "0.2388207267515695 None\n",
      "0.2188638935415532 None\n",
      "0.19963836895183157 None\n",
      "0.1812723993144828 None\n",
      "0.16391305959265468 None\n",
      "0.14768478457764378 None\n",
      "0.13250312370214665 None\n",
      "0.11844955916986248 None\n",
      "0.12128103907772911 None\n",
      "0.09414139034945122 None\n",
      "0.08638110170061512 None\n",
      "0.08637499502347823 None\n",
      "0.08636826847771298 None\n",
      "0.10184055177088847 None\n",
      "0.08638047830350391 None\n",
      "0.08636235328032922 None\n",
      "0.08636554206086883 None\n",
      "0.0920469566158131 None\n"
     ]
    },
    {
     "data": {
      "application/vnd.jupyter.widget-view+json": {
       "model_id": "6f9f7ea5ec914272a3500d149f679a32",
       "version_major": 2,
       "version_minor": 0
      },
      "text/plain": [
       "  0%|          | 0/2000 [00:00<?, ?it/s]"
      ]
     },
     "metadata": {},
     "output_type": "display_data"
    },
    {
     "name": "stdout",
     "output_type": "stream",
     "text": [
      "0.3000815279303232 None\n",
      "0.2787651370609196 None\n",
      "0.25796431610678455 None\n",
      "0.2371236136916886 None\n",
      "0.21676243549287316 None\n",
      "0.19712944619917488 None\n",
      "0.17835290110480054 None\n",
      "0.16049599855748223 None\n",
      "0.1437533562814245 None\n",
      "0.14360831724413736 None\n",
      "0.11388450076727281 None\n",
      "0.10663883878618663 None\n",
      "0.09545631744647767 None\n",
      "0.08467826151482304 None\n",
      "0.10009970562402867 None\n",
      "0.09035351039286203 None\n",
      "0.10494121911703158 None\n",
      "0.0903570292711771 None\n",
      "0.09034259231062004 None\n",
      "0.0903749218542625 None\n",
      "0.09034582063616216 None\n"
     ]
    },
    {
     "data": {
      "application/vnd.jupyter.widget-view+json": {
       "model_id": "42e98bef3c4946da992d54dbcde9fd9a",
       "version_major": 2,
       "version_minor": 0
      },
      "text/plain": [
       "  0%|          | 0/2000 [00:00<?, ?it/s]"
      ]
     },
     "metadata": {},
     "output_type": "display_data"
    },
    {
     "name": "stdout",
     "output_type": "stream",
     "text": [
      "0.3003598468753111 None\n",
      "0.27891277138490694 None\n",
      "0.2576674705795363 None\n",
      "0.23679144782977213 None\n",
      "0.2164275599978363 None\n",
      "0.19670132573589244 None\n",
      "0.17772180737372933 None\n",
      "0.1595749039223477 None\n",
      "0.14231755235580384 None\n",
      "0.12605375161999358 None\n",
      "0.11187207583752712 None\n",
      "0.09940643088403522 None\n",
      "0.08841467036503553 None\n",
      "0.08310409938198478 None\n",
      "0.08308620768914701 None\n",
      "0.08878023590779152 None\n",
      "0.09851808446761884 None\n",
      "0.0887719325429324 None\n",
      "0.08314047970752973 None\n",
      "0.0887619353423211 None\n",
      "0.0831551089572276 None\n"
     ]
    },
    {
     "data": {
      "application/vnd.jupyter.widget-view+json": {
       "model_id": "6979ed8236fd4058a2d3d39cbf3e99f7",
       "version_major": 2,
       "version_minor": 0
      },
      "text/plain": [
       "  0%|          | 0/2000 [00:00<?, ?it/s]"
      ]
     },
     "metadata": {},
     "output_type": "display_data"
    },
    {
     "name": "stdout",
     "output_type": "stream",
     "text": [
      "0.3014885350703331 None\n",
      "0.2800498406070413 None\n",
      "0.27516276244477295 None\n",
      "0.23798354530643512 None\n",
      "0.21762240317128734 None\n",
      "0.20455840805492095 None\n",
      "0.18582321444225158 None\n",
      "0.1777449082330245 None\n",
      "0.16089056583486336 None\n",
      "0.14510100219476915 None\n",
      "0.11410786349882512 None\n",
      "0.10050866251090461 None\n",
      "0.1042658062360981 None\n",
      "0.08260352497549195 None\n",
      "0.08263168922459287 None\n",
      "0.08920447880323709 None\n",
      "0.08915582110965564 None\n",
      "0.08261305651365031 None\n",
      "0.08260422341597962 None\n",
      "0.08915741637354035 None\n",
      "0.09896325014130497 None\n",
      "Done!\n"
     ]
    },
    {
     "data": {
      "application/vnd.jupyter.widget-view+json": {
       "model_id": "83e191122cc44893aaef38c488bb4c87",
       "version_major": 2,
       "version_minor": 0
      },
      "text/plain": [
       "  0%|          | 0/2000 [00:00<?, ?it/s]"
      ]
     },
     "metadata": {},
     "output_type": "display_data"
    },
    {
     "name": "stdout",
     "output_type": "stream",
     "text": [
      "0.33874176360055613 None\n",
      "0.31745915621653964 None\n",
      "0.2963839022848844 None\n",
      "0.2756892806208739 None\n",
      "0.27056091142394356 None\n",
      "0.2514323942292548 None\n",
      "0.23224309586792669 None\n",
      "0.21467157118701696 None\n",
      "0.1972430543478844 None\n",
      "0.1961629064405276 None\n",
      "0.1511612168768138 None\n",
      "0.13785353349845675 None\n",
      "0.14106989824334162 None\n",
      "0.12951045495221672 None\n",
      "0.10440089485830407 None\n",
      "0.09799878985340407 None\n",
      "0.09799516971896112 None\n",
      "0.09798269246303695 None\n",
      "0.11344668067500935 None\n",
      "0.09796774630236017 None\n",
      "0.11344221288186732 None\n"
     ]
    },
    {
     "data": {
      "application/vnd.jupyter.widget-view+json": {
       "model_id": "a4eec207efa24e278d0d160fbc43614e",
       "version_major": 2,
       "version_minor": 0
      },
      "text/plain": [
       "  0%|          | 0/2000 [00:00<?, ?it/s]"
      ]
     },
     "metadata": {},
     "output_type": "display_data"
    },
    {
     "name": "stdout",
     "output_type": "stream",
     "text": [
      "0.3316381265431826 None\n",
      "0.31028010051985994 None\n",
      "0.2891166643710255 None\n",
      "0.26838648146120614 None\n",
      "0.24824191326566633 None\n",
      "0.22881668739282768 None\n",
      "0.2102908793292463 None\n",
      "0.19298338989294142 None\n",
      "0.17739082508686832 None\n",
      "0.1618200072220329 None\n",
      "0.14763450333124314 None\n",
      "0.14998108483112904 None\n",
      "0.13766327313805102 None\n",
      "0.1270190496182242 None\n",
      "0.10254634564351539 None\n",
      "0.09446999916174217 None\n",
      "0.09420868445665219 None\n",
      "0.09419371450655117 None\n",
      "0.10963276866590858 None\n",
      "0.09420489871335258 None\n",
      "0.10964189019263267 None\n"
     ]
    },
    {
     "data": {
      "application/vnd.jupyter.widget-view+json": {
       "model_id": "1100f54c882b4281a37bc8757f84b81c",
       "version_major": 2,
       "version_minor": 0
      },
      "text/plain": [
       "  0%|          | 0/2000 [00:00<?, ?it/s]"
      ]
     },
     "metadata": {},
     "output_type": "display_data"
    },
    {
     "name": "stdout",
     "output_type": "stream",
     "text": [
      "0.337547293490168 None\n",
      "0.31640685939422464 None\n",
      "0.2954503825090671 None\n",
      "0.27484833646181095 None\n",
      "0.254790060566336 None\n",
      "0.23543759159277994 None\n",
      "0.21692841544910926 None\n",
      "0.19941711930999878 None\n",
      "0.18298604485944817 None\n",
      "0.16766813370992484 None\n",
      "0.15360266286954652 None\n",
      "0.1413144456311654 None\n",
      "0.14628336711374076 None\n",
      "0.12109203975699716 None\n",
      "0.12846491412762284 None\n",
      "0.12139124358575942 None\n",
      "0.11930849542816716 None\n",
      "0.10383979731060561 None\n",
      "0.10385847242580852 None\n",
      "0.1192973824109003 None\n",
      "0.10384629221225841 None\n"
     ]
    },
    {
     "data": {
      "application/vnd.jupyter.widget-view+json": {
       "model_id": "afff37678fec4cb7aa425f47b0b055b9",
       "version_major": 2,
       "version_minor": 0
      },
      "text/plain": [
       "  0%|          | 0/2000 [00:00<?, ?it/s]"
      ]
     },
     "metadata": {},
     "output_type": "display_data"
    },
    {
     "name": "stdout",
     "output_type": "stream",
     "text": [
      "0.3321215248524691 None\n",
      "0.31076908283385185 None\n",
      "0.2896533614891214 None\n",
      "0.268954472958871 None\n",
      "0.24880010484069862 None\n",
      "0.22934529027371198 None\n",
      "0.21069979283093404 None\n",
      "0.1929120142179553 None\n",
      "0.17603211379933414 None\n",
      "0.16015570810120514 None\n",
      "0.1455238380858426 None\n",
      "0.132317209922895 None\n",
      "0.12040675511657382 None\n",
      "0.11032926181640483 None\n",
      "0.10250845322069774 None\n",
      "0.09434065976090365 None\n",
      "0.09330207000255288 None\n",
      "0.10873278296805122 None\n",
      "0.09328756371949075 None\n",
      "0.10832827420960199 None\n",
      "0.10875001524159425 None\n"
     ]
    },
    {
     "data": {
      "application/vnd.jupyter.widget-view+json": {
       "model_id": "f2905284dedb4b6db17410178561ebf2",
       "version_major": 2,
       "version_minor": 0
      },
      "text/plain": [
       "  0%|          | 0/2000 [00:00<?, ?it/s]"
      ]
     },
     "metadata": {},
     "output_type": "display_data"
    },
    {
     "name": "stdout",
     "output_type": "stream",
     "text": [
      "0.34947355966527976 None\n",
      "0.3284708706133085 None\n",
      "0.30729105521271566 None\n",
      "0.28688390571590905 None\n",
      "0.25197874081658866 None\n",
      "0.2478707047473794 None\n",
      "0.21471073319045228 None\n",
      "0.21287693660815346 None\n",
      "0.18156785091185748 None\n",
      "0.18076798011451425 None\n",
      "0.1660078322792153 None\n",
      "0.1673573512497551 None\n",
      "0.14008017637556056 None\n",
      "0.12996934299941457 None\n",
      "0.106056050581475 None\n",
      "0.11126259534712729 None\n",
      "0.09250767620938097 None\n",
      "0.09251557490338128 None\n",
      "0.09250296441082866 None\n",
      "0.0925339076929394 None\n",
      "0.09252363285025277 None\n"
     ]
    },
    {
     "data": {
      "application/vnd.jupyter.widget-view+json": {
       "model_id": "018ebcfa4aac463b8a2b8be15da2e5c1",
       "version_major": 2,
       "version_minor": 0
      },
      "text/plain": [
       "  0%|          | 0/2000 [00:00<?, ?it/s]"
      ]
     },
     "metadata": {},
     "output_type": "display_data"
    },
    {
     "name": "stdout",
     "output_type": "stream",
     "text": [
      "0.33804427474303933 None\n",
      "0.31704090099408394 None\n",
      "0.29628731420621124 None\n",
      "0.2910071019355017 None\n",
      "0.2714428943826904 None\n",
      "0.23731558370158404 None\n",
      "0.2187381269395215 None\n",
      "0.21637367899144458 None\n",
      "0.19991560956280946 None\n",
      "0.18468313317834004 None\n",
      "0.16972669445587987 None\n",
      "0.15628200535344303 None\n",
      "0.14424353239803073 None\n",
      "0.1327178706141658 None\n",
      "0.1222062208392511 None\n",
      "0.0980629183293771 None\n",
      "0.11212488153912525 None\n",
      "0.09670098225026297 None\n",
      "0.09667942810153349 None\n",
      "0.11175712520859317 None\n",
      "0.09669600056238187 None\n"
     ]
    },
    {
     "data": {
      "application/vnd.jupyter.widget-view+json": {
       "model_id": "e3ee448ec3f248518e5be46a59153c4a",
       "version_major": 2,
       "version_minor": 0
      },
      "text/plain": [
       "  0%|          | 0/2000 [00:00<?, ?it/s]"
      ]
     },
     "metadata": {},
     "output_type": "display_data"
    },
    {
     "name": "stdout",
     "output_type": "stream",
     "text": [
      "0.3294868687126714 None\n",
      "0.3081275131921551 None\n",
      "0.2869592739335754 None\n",
      "0.2661431201384271 None\n",
      "0.24583647542680112 None\n",
      "0.22617449794894232 None\n",
      "0.20727810427582297 None\n",
      "0.18926104325837512 None\n",
      "0.1721837185140355 None\n",
      "0.15609540994843626 None\n",
      "0.14098738230448904 None\n",
      "0.1268802173548091 None\n",
      "0.11403166657193659 None\n",
      "0.10265175851052329 None\n",
      "0.09268331666799073 None\n",
      "0.08561801866622655 None\n",
      "0.08550493799432775 None\n",
      "0.0855268593069824 None\n",
      "0.08550827614875321 None\n",
      "0.08549803949151574 None\n",
      "0.08552421760808332 None\n"
     ]
    },
    {
     "data": {
      "application/vnd.jupyter.widget-view+json": {
       "model_id": "4edd162396ef4adaa5c3f3ca158c6fcb",
       "version_major": 2,
       "version_minor": 0
      },
      "text/plain": [
       "  0%|          | 0/2000 [00:00<?, ?it/s]"
      ]
     },
     "metadata": {},
     "output_type": "display_data"
    },
    {
     "name": "stdout",
     "output_type": "stream",
     "text": [
      "0.3223183003427885 None\n",
      "0.30083611935177884 None\n",
      "0.27952477969788564 None\n",
      "0.2585448778382909 None\n",
      "0.23805138396192302 None\n",
      "0.2185346251881948 None\n",
      "0.20009068729026747 None\n",
      "0.1825216356204772 None\n",
      "0.16594748155070524 None\n",
      "0.15051042530513825 None\n",
      "0.13631704345639076 None\n",
      "0.12374126415473134 None\n",
      "0.12660162628864993 None\n",
      "0.11608159031975021 None\n",
      "0.10592801419984173 None\n",
      "0.09954224338556904 None\n",
      "0.08408944502094678 None\n",
      "0.0840907230029051 None\n",
      "0.09952109867663886 None\n",
      "0.08409229613962871 None\n",
      "0.08412843318295482 None\n"
     ]
    },
    {
     "data": {
      "application/vnd.jupyter.widget-view+json": {
       "model_id": "ad5754a10f1d4cb38f3152733f17f083",
       "version_major": 2,
       "version_minor": 0
      },
      "text/plain": [
       "  0%|          | 0/2000 [00:00<?, ?it/s]"
      ]
     },
     "metadata": {},
     "output_type": "display_data"
    },
    {
     "name": "stdout",
     "output_type": "stream",
     "text": [
      "0.3303512835278089 None\n",
      "0.30890134372539746 None\n",
      "0.2876169264368335 None\n",
      "0.2666660066311114 None\n",
      "0.24623426152171388 None\n",
      "0.22649127963060772 None\n",
      "0.2075375817641463 None\n",
      "0.1894416524893159 None\n",
      "0.17224816798477474 None\n",
      "0.15601518642591294 None\n",
      "0.14078059469238288 None\n",
      "0.12669961675928604 None\n",
      "0.11384919710062147 None\n",
      "0.10251915117037601 None\n",
      "0.09277200595220325 None\n",
      "0.08849908203284176 None\n",
      "0.08845973334197628 None\n",
      "0.08847951268638682 None\n",
      "0.08847293600971547 None\n",
      "0.08846638267618116 None\n",
      "0.08848715230532046 None\n"
     ]
    },
    {
     "data": {
      "application/vnd.jupyter.widget-view+json": {
       "model_id": "14c4678e1b1e44ab8218210397988f21",
       "version_major": 2,
       "version_minor": 0
      },
      "text/plain": [
       "  0%|          | 0/2000 [00:00<?, ?it/s]"
      ]
     },
     "metadata": {},
     "output_type": "display_data"
    },
    {
     "name": "stdout",
     "output_type": "stream",
     "text": [
      "0.3282202316804727 None\n",
      "0.30687951338461894 None\n",
      "0.2857348571267135 None\n",
      "0.2651193598503552 None\n",
      "0.24504223149981366 None\n",
      "0.22563695365272352 None\n",
      "0.20702835983242257 None\n",
      "0.18932498321953373 None\n",
      "0.1726209981482655 None\n",
      "0.15699573326083524 None\n",
      "0.14251775201793274 None\n",
      "0.12924175818011235 None\n",
      "0.11711666285166175 None\n",
      "0.12053960185755203 None\n",
      "0.09437227669590664 None\n",
      "0.08551521557361769 None\n",
      "0.08540291414160396 None\n",
      "0.08540400026943319 None\n",
      "0.08541943678282672 None\n",
      "0.08539609530676703 None\n",
      "0.08540991054532654 None\n"
     ]
    },
    {
     "data": {
      "application/vnd.jupyter.widget-view+json": {
       "model_id": "aab2bd0302cb4c528bb9f89c69499a3d",
       "version_major": 2,
       "version_minor": 0
      },
      "text/plain": [
       "  0%|          | 0/2000 [00:00<?, ?it/s]"
      ]
     },
     "metadata": {},
     "output_type": "display_data"
    },
    {
     "name": "stdout",
     "output_type": "stream",
     "text": [
      "0.33346116850480634 None\n",
      "0.3122411390669043 None\n",
      "0.29121318685424125 None\n",
      "0.2705493209444693 None\n",
      "0.25041105455903184 None\n",
      "0.230951902216001 None\n",
      "0.21230429483175514 None\n",
      "0.194514591621088 None\n",
      "0.17762811446878088 None\n",
      "0.16170694113558395 None\n",
      "0.1468255159385258 None\n",
      "0.1330581760538871 None\n",
      "0.12044329083709371 None\n",
      "0.10908968356185612 None\n",
      "0.09937509150766685 None\n",
      "0.09039472844303631 None\n",
      "0.08929072231732092 None\n",
      "0.08931130972262334 None\n",
      "0.08929081218064074 None\n",
      "0.10472431634597032 None\n",
      "0.08929785525737374 None\n",
      "Done!\n"
     ]
    },
    {
     "data": {
      "application/vnd.jupyter.widget-view+json": {
       "model_id": "f6ebec839462430599a0237614aa42a5",
       "version_major": 2,
       "version_minor": 0
      },
      "text/plain": [
       "  0%|          | 0/2000 [00:00<?, ?it/s]"
      ]
     },
     "metadata": {},
     "output_type": "display_data"
    },
    {
     "name": "stdout",
     "output_type": "stream",
     "text": [
      "0.33946962867064273 None\n",
      "0.3182062814206699 None\n",
      "0.2971829700234003 None\n",
      "0.27661002439602184 None\n",
      "0.25667708762803076 None\n",
      "0.23756235311194848 None\n",
      "0.2193153719937588 None\n",
      "0.20211362510725128 None\n",
      "0.18625981520594956 None\n",
      "0.17203416105393946 None\n",
      "0.17470736965483302 None\n",
      "0.1461766688636459 None\n",
      "0.14919989560296107 None\n",
      "0.13767762156572577 None\n",
      "0.11167600886656723 None\n",
      "0.10261981503187026 None\n",
      "0.09715740318556441 None\n",
      "0.097023060919371 None\n",
      "0.09701970611032197 None\n",
      "0.0970292577027747 None\n",
      "0.09704953611682167 None\n"
     ]
    },
    {
     "data": {
      "application/vnd.jupyter.widget-view+json": {
       "model_id": "124103019e714a9298efa53f812e188c",
       "version_major": 2,
       "version_minor": 0
      },
      "text/plain": [
       "  0%|          | 0/2000 [00:00<?, ?it/s]"
      ]
     },
     "metadata": {},
     "output_type": "display_data"
    },
    {
     "name": "stdout",
     "output_type": "stream",
     "text": [
      "0.34671967434187456 None\n",
      "0.32551420496054956 None\n",
      "0.3045038717410096 None\n",
      "0.28385726908793074 None\n",
      "0.2638204884754696 None\n",
      "0.2444578855419615 None\n",
      "0.22584570965098752 None\n",
      "0.20810350154240975 None\n",
      "0.1915332165525633 None\n",
      "0.17690785679847193 None\n",
      "0.1635996180165531 None\n",
      "0.1514089071977396 None\n",
      "0.14030727866428805 None\n",
      "0.13040825865620276 None\n",
      "0.12199309142765175 None\n",
      "0.11601538323503256 None\n",
      "0.12162663178006695 None\n",
      "0.11931950913079094 None\n",
      "0.11760419086347781 None\n",
      "0.13221181295917192 None\n",
      "0.13391847978497198 None\n"
     ]
    },
    {
     "data": {
      "application/vnd.jupyter.widget-view+json": {
       "model_id": "472aa688d64a4bebb1ed87064b722e8c",
       "version_major": 2,
       "version_minor": 0
      },
      "text/plain": [
       "  0%|          | 0/2000 [00:00<?, ?it/s]"
      ]
     },
     "metadata": {},
     "output_type": "display_data"
    },
    {
     "name": "stdout",
     "output_type": "stream",
     "text": [
      "0.3346837021644192 None\n",
      "0.31334032459707056 None\n",
      "0.292177747149131 None\n",
      "0.27136379869384325 None\n",
      "0.25105373981892165 None\n",
      "0.23138974216849617 None\n",
      "0.21251028636815317 None\n",
      "0.19468633476156713 None\n",
      "0.17796690527034778 None\n",
      "0.16248927010944839 None\n",
      "0.14849065979322246 None\n",
      "0.13624616881919574 None\n",
      "0.1253797500846756 None\n",
      "0.11434128480553929 None\n",
      "0.11962034468436246 None\n",
      "0.09489095386851258 None\n",
      "0.09016239113902508 None\n",
      "0.09017690580359425 None\n",
      "0.09014174934578278 None\n",
      "0.10382164456627373 None\n",
      "0.10555860913762934 None\n"
     ]
    },
    {
     "data": {
      "application/vnd.jupyter.widget-view+json": {
       "model_id": "d8afd5ed7ded49e2941fb4d3bbb633d4",
       "version_major": 2,
       "version_minor": 0
      },
      "text/plain": [
       "  0%|          | 0/2000 [00:00<?, ?it/s]"
      ]
     },
     "metadata": {},
     "output_type": "display_data"
    },
    {
     "name": "stdout",
     "output_type": "stream",
     "text": [
      "0.34492248992895636 None\n",
      "0.323591976361103 None\n",
      "0.31616238955251985 None\n",
      "0.2816833276973625 None\n",
      "0.261420844814255 None\n",
      "0.24178752958112726 None\n",
      "0.2229032347315043 None\n",
      "0.2049237653814929 None\n",
      "0.18787116415109698 None\n",
      "0.17174309790819264 None\n",
      "0.15662439428765015 None\n",
      "0.14294680965673104 None\n",
      "0.14634602912388842 None\n",
      "0.12161516369971506 None\n",
      "0.12732021434631968 None\n",
      "0.10330228461158303 None\n",
      "0.1145210082285677 None\n",
      "0.09909187191892242 None\n",
      "0.09908139892988671 None\n",
      "0.09909384554575591 None\n",
      "0.09910750206470816 None\n"
     ]
    },
    {
     "data": {
      "application/vnd.jupyter.widget-view+json": {
       "model_id": "be6d43a26c474961aa205bf4591e85ca",
       "version_major": 2,
       "version_minor": 0
      },
      "text/plain": [
       "  0%|          | 0/2000 [00:00<?, ?it/s]"
      ]
     },
     "metadata": {},
     "output_type": "display_data"
    },
    {
     "name": "stdout",
     "output_type": "stream",
     "text": [
      "0.33891998186438 None\n",
      "0.31749949992482873 None\n",
      "0.2963185644183719 None\n",
      "0.2755092313483129 None\n",
      "0.2552102930121931 None\n",
      "0.23555182568889257 None\n",
      "0.21664977495646223 None\n",
      "0.19868088965113048 None\n",
      "0.1817957030661212 None\n",
      "0.16611225799330204 None\n",
      "0.15199756795033453 None\n",
      "0.1554353211206134 None\n",
      "0.12822639074443587 None\n",
      "0.1308753540804751 None\n",
      "0.10656983538806888 None\n",
      "0.09745406037581834 None\n",
      "0.1109474347208219 None\n",
      "0.11267300383995088 None\n",
      "0.09725547040895077 None\n",
      "0.09723391988617926 None\n",
      "0.1126633681807515 None\n"
     ]
    },
    {
     "data": {
      "application/vnd.jupyter.widget-view+json": {
       "model_id": "36363d2723f54778aeacfee067fc9c75",
       "version_major": 2,
       "version_minor": 0
      },
      "text/plain": [
       "  0%|          | 0/2000 [00:00<?, ?it/s]"
      ]
     },
     "metadata": {},
     "output_type": "display_data"
    },
    {
     "name": "stdout",
     "output_type": "stream",
     "text": [
      "0.3339857860400193 None\n",
      "0.3126971727345504 None\n",
      "0.29163088973918666 None\n",
      "0.2709770903187792 None\n",
      "0.2508931771755648 None\n",
      "0.231487649650891 None\n",
      "0.21292043507568473 None\n",
      "0.1952692821638966 None\n",
      "0.17855767985530405 None\n",
      "0.16287727710776664 None\n",
      "0.14818310278604924 None\n",
      "0.13443507010329192 None\n",
      "0.1214995988666857 None\n",
      "0.10929872327346762 None\n",
      "0.09768353256426747 None\n",
      "0.10206633984841611 None\n",
      "0.08507131729223744 None\n",
      "0.10144478220687278 None\n",
      "0.08507587137553473 None\n",
      "0.08511382368535786 None\n",
      "0.08508023998533855 None\n"
     ]
    },
    {
     "data": {
      "application/vnd.jupyter.widget-view+json": {
       "model_id": "258228ad17be4b2bbcc630031b04f666",
       "version_major": 2,
       "version_minor": 0
      },
      "text/plain": [
       "  0%|          | 0/2000 [00:00<?, ?it/s]"
      ]
     },
     "metadata": {},
     "output_type": "display_data"
    },
    {
     "name": "stdout",
     "output_type": "stream",
     "text": [
      "0.3357171602311522 None\n",
      "0.31413978985867913 None\n",
      "0.29278852125734667 None\n",
      "0.27180001827972633 None\n",
      "0.2512983499491829 None\n",
      "0.23141957516679942 None\n",
      "0.21227263191130136 None\n",
      "0.1939367936032229 None\n",
      "0.1765025898153099 None\n",
      "0.16009389928107046 None\n",
      "0.1448383451018073 None\n",
      "0.13088444242996944 None\n",
      "0.11832599667464044 None\n",
      "0.10760451856136322 None\n",
      "0.09815533437942495 None\n",
      "0.10610962727498381 None\n",
      "0.10597506679009733 None\n",
      "0.10596797481554193 None\n",
      "0.0905324851752566 None\n",
      "0.09054122082778046 None\n",
      "0.0905388731870649 None\n",
      "Done!\n"
     ]
    },
    {
     "data": {
      "application/vnd.jupyter.widget-view+json": {
       "model_id": "b749ea5cb9e845e5a12d9260f5e3792e",
       "version_major": 2,
       "version_minor": 0
      },
      "text/plain": [
       "  0%|          | 0/2000 [00:00<?, ?it/s]"
      ]
     },
     "metadata": {},
     "output_type": "display_data"
    },
    {
     "name": "stdout",
     "output_type": "stream",
     "text": [
      "0.33588479276694844 None\n",
      "0.3145170511782785 None\n",
      "0.2932453597758467 None\n",
      "0.2722191507612755 None\n",
      "0.251627761862771 None\n",
      "0.231312838144817 None\n",
      "0.2286293997852467 None\n",
      "0.21081795775850729 None\n",
      "0.17773244338195507 None\n",
      "0.1619940510370901 None\n",
      "0.14752636635477184 None\n",
      "0.134303344650347 None\n",
      "0.12219875162480397 None\n",
      "0.1110745196619277 None\n",
      "0.10071692415430453 None\n",
      "0.0910852159620959 None\n",
      "0.09087829088107807 None\n",
      "0.1072309113314255 None\n",
      "0.10722686291407167 None\n",
      "0.10724089468927868 None\n",
      "0.0909250882962944 None\n"
     ]
    },
    {
     "data": {
      "application/vnd.jupyter.widget-view+json": {
       "model_id": "aaa6a6c2452e44b4ba472d62b8cbe015",
       "version_major": 2,
       "version_minor": 0
      },
      "text/plain": [
       "  0%|          | 0/2000 [00:00<?, ?it/s]"
      ]
     },
     "metadata": {},
     "output_type": "display_data"
    },
    {
     "name": "stdout",
     "output_type": "stream",
     "text": [
      "0.3281093723202273 None\n",
      "0.30668238779907575 None\n",
      "0.28545295465859793 None\n",
      "0.26459594755394494 None\n",
      "0.24423821635283846 None\n",
      "0.22453309234326246 None\n",
      "0.20570356227828376 None\n",
      "0.18771079462000315 None\n",
      "0.17048625128792674 None\n",
      "0.15391093170921236 None\n",
      "0.13740716186695465 None\n",
      "0.12551294817551212 None\n",
      "0.11510318880796341 None\n",
      "0.10397447665474585 None\n",
      "0.09573469989128584 None\n",
      "0.08755981272053161 None\n",
      "0.10302581934735151 None\n",
      "0.08664598671170502 None\n",
      "0.08665057814320566 None\n",
      "0.10301247399042657 None\n",
      "0.08757028219285422 None\n"
     ]
    },
    {
     "data": {
      "application/vnd.jupyter.widget-view+json": {
       "model_id": "91e62b63c733470f8c46de7b385fe238",
       "version_major": 2,
       "version_minor": 0
      },
      "text/plain": [
       "  0%|          | 0/2000 [00:00<?, ?it/s]"
      ]
     },
     "metadata": {},
     "output_type": "display_data"
    },
    {
     "name": "stdout",
     "output_type": "stream",
     "text": [
      "0.33394099339371264 None\n",
      "0.3126189353118948 None\n",
      "0.3078817226594929 None\n",
      "0.2708231405532719 None\n",
      "0.2505819740506437 None\n",
      "0.23099630196927134 None\n",
      "0.21219499381285778 None\n",
      "0.19422937862244483 None\n",
      "0.17734712637262512 None\n",
      "0.17779744935206934 None\n",
      "0.14668380632293948 None\n",
      "0.13302907425383365 None\n",
      "0.12053943356376047 None\n",
      "0.12552448433333402 None\n",
      "0.09924215351495588 None\n",
      "0.09151503102363595 None\n",
      "0.09132534774053795 None\n",
      "0.09138768685935982 None\n",
      "0.09138644977168105 None\n",
      "0.09139097548759496 None\n",
      "0.1076966397950406 None\n"
     ]
    },
    {
     "data": {
      "application/vnd.jupyter.widget-view+json": {
       "model_id": "01f95bd505ba4f63932ce58e06666491",
       "version_major": 2,
       "version_minor": 0
      },
      "text/plain": [
       "  0%|          | 0/2000 [00:00<?, ?it/s]"
      ]
     },
     "metadata": {},
     "output_type": "display_data"
    },
    {
     "name": "stdout",
     "output_type": "stream",
     "text": [
      "0.3325389402401749 None\n",
      "0.31110838612424363 None\n",
      "0.28984697865016196 None\n",
      "0.2689296821801331 None\n",
      "0.24852585106515604 None\n",
      "0.22875796475663412 None\n",
      "0.20976613503517366 None\n",
      "0.19166438762436105 None\n",
      "0.17444024423677754 None\n",
      "0.15817742197572182 None\n",
      "0.14303894264503003 None\n",
      "0.12905453443759016 None\n",
      "0.1160548663358906 None\n",
      "0.1038789813950508 None\n",
      "0.09268323742026909 None\n",
      "0.08584992932163485 None\n",
      "0.08586129246818013 None\n",
      "0.08585956996323066 None\n",
      "0.08585518386127684 None\n",
      "0.08584476547027456 None\n",
      "0.08584252341429494 None\n"
     ]
    },
    {
     "data": {
      "application/vnd.jupyter.widget-view+json": {
       "model_id": "6956d8f8bce74095a93665a417f217b4",
       "version_major": 2,
       "version_minor": 0
      },
      "text/plain": [
       "  0%|          | 0/2000 [00:00<?, ?it/s]"
      ]
     },
     "metadata": {},
     "output_type": "display_data"
    },
    {
     "name": "stdout",
     "output_type": "stream",
     "text": [
      "0.334063913117506 None\n",
      "0.3126904180211385 None\n",
      "0.29149798960933104 None\n",
      "0.2706984535384869 None\n",
      "0.2504098573988971 None\n",
      "0.23067998221513888 None\n",
      "0.21154963847241934 None\n",
      "0.19305410389515365 None\n",
      "0.17608012198499967 None\n",
      "0.15999060967501827 None\n",
      "0.14499166741641728 None\n",
      "0.1474546333358879 None\n",
      "0.11835117031354096 None\n",
      "0.10660782843881693 None\n",
      "0.09566755885235788 None\n",
      "0.08913473676613251 None\n",
      "0.08912122750951763 None\n",
      "0.08909196520840613 None\n",
      "0.08911819641064764 None\n",
      "0.1054000108309134 None\n",
      "0.08912956944564275 None\n"
     ]
    },
    {
     "data": {
      "application/vnd.jupyter.widget-view+json": {
       "model_id": "99b7a431b27c459e80a974fb13f1ea09",
       "version_major": 2,
       "version_minor": 0
      },
      "text/plain": [
       "  0%|          | 0/2000 [00:00<?, ?it/s]"
      ]
     },
     "metadata": {},
     "output_type": "display_data"
    },
    {
     "name": "stdout",
     "output_type": "stream",
     "text": [
      "0.33090052809832954 None\n",
      "0.30955954030070976 None\n",
      "0.28836492035844175 None\n",
      "0.26747258290440445 None\n",
      "0.2470617536299778 None\n",
      "0.2273413601334048 None\n",
      "0.20846477153603915 None\n",
      "0.19042553521796834 None\n",
      "0.17328594990448132 None\n",
      "0.15771033483659627 None\n",
      "0.15955404154981395 None\n",
      "0.13002527286828397 None\n",
      "0.13409888337297696 None\n",
      "0.10715603996114409 None\n",
      "0.09768163896382387 None\n",
      "0.09070911857672255 None\n",
      "0.0906394426360425 None\n",
      "0.0906827889298016 None\n",
      "0.09063643072704833 None\n",
      "0.0907074982881294 None\n",
      "0.09067507730121813 None\n"
     ]
    },
    {
     "data": {
      "application/vnd.jupyter.widget-view+json": {
       "model_id": "793ae569f5084d3f8ea31f5ca07719ed",
       "version_major": 2,
       "version_minor": 0
      },
      "text/plain": [
       "  0%|          | 0/2000 [00:00<?, ?it/s]"
      ]
     },
     "metadata": {},
     "output_type": "display_data"
    },
    {
     "name": "stdout",
     "output_type": "stream",
     "text": [
      "0.34453620740007496 None\n",
      "0.3068304546439153 None\n",
      "0.2856235224390143 None\n",
      "0.28110506535052565 None\n",
      "0.24454793248851642 None\n",
      "0.2250095194989422 None\n",
      "0.20626101103515987 None\n",
      "0.20466213782835604 None\n",
      "0.17127657774505245 None\n",
      "0.17150236587066756 None\n",
      "0.1399461140718014 None\n",
      "0.14207181629853244 None\n",
      "0.11277862316370915 None\n",
      "0.10225803274512218 None\n",
      "0.09286218664953803 None\n",
      "0.08778119342676059 None\n",
      "0.08780932886707452 None\n",
      "0.08775734613375565 None\n",
      "0.08779660064020195 None\n",
      "0.08776152947080768 None\n",
      "0.08776511673954836 None\n"
     ]
    },
    {
     "data": {
      "application/vnd.jupyter.widget-view+json": {
       "model_id": "cc1534b4d24b486bb6c8340a68385b40",
       "version_major": 2,
       "version_minor": 0
      },
      "text/plain": [
       "  0%|          | 0/2000 [00:00<?, ?it/s]"
      ]
     },
     "metadata": {},
     "output_type": "display_data"
    },
    {
     "name": "stdout",
     "output_type": "stream",
     "text": [
      "0.33429622677163373 None\n",
      "0.31301463096535453 None\n",
      "0.2919278296087992 None\n",
      "0.27120704826368064 None\n",
      "0.2510094350073826 None\n",
      "0.23149294908940388 None\n",
      "0.21290159052955565 None\n",
      "0.19525041471238402 None\n",
      "0.17852288827000262 None\n",
      "0.16270666729605154 None\n",
      "0.14780085340146348 None\n",
      "0.133802209933362 None\n",
      "0.12069925655566378 None\n",
      "0.1084226465446641 None\n",
      "0.09713420125660921 None\n",
      "0.09315372762111875 None\n",
      "0.09316602389200658 None\n",
      "0.09314296867856789 None\n",
      "0.09313851584865596 None\n",
      "0.10944593460163768 None\n",
      "0.10945544092225448 None\n",
      "Done!\n"
     ]
    },
    {
     "data": {
      "application/vnd.jupyter.widget-view+json": {
       "model_id": "14bf0d7ecc3c4828a684e0d1062e126a",
       "version_major": 2,
       "version_minor": 0
      },
      "text/plain": [
       "  0%|          | 0/2000 [00:00<?, ?it/s]"
      ]
     },
     "metadata": {},
     "output_type": "display_data"
    },
    {
     "name": "stdout",
     "output_type": "stream",
     "text": [
      "0.3266149067719023 None\n",
      "0.2999273861341005 None\n",
      "0.27901084531738624 None\n",
      "0.26402834762246447 None\n",
      "0.2385775566047579 None\n",
      "0.21940644467517376 None\n",
      "0.20112618689681822 None\n",
      "0.18381669476357246 None\n",
      "0.18294737326029145 None\n",
      "0.15220943861992614 None\n",
      "0.13795690174142186 None\n",
      "0.12476318162962652 None\n",
      "0.1126048349455792 None\n",
      "0.11684128918471824 None\n",
      "0.09131482534633618 None\n",
      "0.08757178759566121 None\n",
      "0.10299613230276869 None\n",
      "0.08754520419655948 None\n",
      "0.08756009040439783 None\n",
      "0.08753774252901034 None\n",
      "0.09307139819804244 None\n"
     ]
    },
    {
     "data": {
      "application/vnd.jupyter.widget-view+json": {
       "model_id": "384551926dbe4d14816a88e9d156803f",
       "version_major": 2,
       "version_minor": 0
      },
      "text/plain": [
       "  0%|          | 0/2000 [00:00<?, ?it/s]"
      ]
     },
     "metadata": {},
     "output_type": "display_data"
    },
    {
     "name": "stdout",
     "output_type": "stream",
     "text": [
      "0.31666782797155246 None\n",
      "0.310660278618286 None\n",
      "0.27963503210574253 None\n",
      "0.2589116156490594 None\n",
      "0.2327398533717347 None\n",
      "0.21302729379331461 None\n",
      "0.19410919864951162 None\n",
      "0.18274924174998342 None\n",
      "0.15974494051850796 None\n",
      "0.15074950683486626 None\n",
      "0.1300492076514236 None\n",
      "0.13312326451498568 None\n",
      "0.10456679209354537 None\n",
      "0.10959004783050004 None\n",
      "0.08389967645471956 None\n",
      "0.08366075526374042 None\n",
      "0.08365437787484918 None\n",
      "0.08916932221158083 None\n",
      "0.08366840055863306 None\n",
      "0.0836381045985128 None\n",
      "0.08368149439494443 None\n"
     ]
    },
    {
     "data": {
      "application/vnd.jupyter.widget-view+json": {
       "model_id": "52d0fce72a1941c6ac7e039d72a0d52d",
       "version_major": 2,
       "version_minor": 0
      },
      "text/plain": [
       "  0%|          | 0/2000 [00:00<?, ?it/s]"
      ]
     },
     "metadata": {},
     "output_type": "display_data"
    },
    {
     "name": "stdout",
     "output_type": "stream",
     "text": [
      "0.317754583758702 None\n",
      "0.2963712789847105 None\n",
      "0.27520200439888054 None\n",
      "0.25423733154158956 None\n",
      "0.2504596668440948 None\n",
      "0.21472791006522576 None\n",
      "0.19601339920587957 None\n",
      "0.17802471760187213 None\n",
      "0.16079647091565416 None\n",
      "0.16070271926849433 None\n",
      "0.14567990193885771 None\n",
      "0.11763278595377033 None\n",
      "0.12124144509511242 None\n",
      "0.10097704518022206 None\n",
      "0.09293994014848288 None\n",
      "0.08712790069442125 None\n",
      "0.10258273243641192 None\n",
      "0.09268586209411599 None\n",
      "0.08715786438271561 None\n",
      "0.08714347701018846 None\n",
      "0.08719952498667233 None\n"
     ]
    },
    {
     "data": {
      "application/vnd.jupyter.widget-view+json": {
       "model_id": "105e1912b0ee4f2d965fa7c5fa3f25a7",
       "version_major": 2,
       "version_minor": 0
      },
      "text/plain": [
       "  0%|          | 0/2000 [00:00<?, ?it/s]"
      ]
     },
     "metadata": {},
     "output_type": "display_data"
    },
    {
     "name": "stdout",
     "output_type": "stream",
     "text": [
      "0.31734072157058546 None\n",
      "0.2962408291911747 None\n",
      "0.2755167359325386 None\n",
      "0.2549128110920985 None\n",
      "0.2503837204808982 None\n",
      "0.21575163933046335 None\n",
      "0.20297493794706345 None\n",
      "0.18012937326097586 None\n",
      "0.16382625181275423 None\n",
      "0.16405262496817896 None\n",
      "0.15003115069325823 None\n",
      "0.12767770676401008 None\n",
      "0.11064912153205382 None\n",
      "0.09930509885273425 None\n",
      "0.08878536585445763 None\n",
      "0.0866056253335165 None\n",
      "0.10207104582766466 None\n",
      "0.10670963462565548 None\n",
      "0.10672964614667288 None\n",
      "0.09213135601759631 None\n",
      "0.08660048139127595 None\n"
     ]
    },
    {
     "data": {
      "application/vnd.jupyter.widget-view+json": {
       "model_id": "01ee5d3b84144ee48abba30471f169ed",
       "version_major": 2,
       "version_minor": 0
      },
      "text/plain": [
       "  0%|          | 0/2000 [00:00<?, ?it/s]"
      ]
     },
     "metadata": {},
     "output_type": "display_data"
    },
    {
     "name": "stdout",
     "output_type": "stream",
     "text": [
      "0.3208892156926041 None\n",
      "0.29946710796253867 None\n",
      "0.2782529400691103 None\n",
      "0.2574192181378497 None\n",
      "0.2371315978878621 None\n",
      "0.21757099869951718 None\n",
      "0.19897909389011847 None\n",
      "0.18171715539030295 None\n",
      "0.18007580505673615 None\n",
      "0.16403715647745898 None\n",
      "0.13369760232283645 None\n",
      "0.12014093047591665 None\n",
      "0.10715545360279953 None\n",
      "0.10083667712985478 None\n",
      "0.08521865658004274 None\n",
      "0.10037441784307886 None\n",
      "0.08493456272718729 None\n",
      "0.10036651698197599 None\n",
      "0.10037016570201812 None\n",
      "0.08491114567847649 None\n",
      "0.084914787629133 None\n"
     ]
    },
    {
     "data": {
      "application/vnd.jupyter.widget-view+json": {
       "model_id": "4f5b629992c849b0ae731b9787fd337e",
       "version_major": 2,
       "version_minor": 0
      },
      "text/plain": [
       "  0%|          | 0/2000 [00:00<?, ?it/s]"
      ]
     },
     "metadata": {},
     "output_type": "display_data"
    },
    {
     "name": "stdout",
     "output_type": "stream",
     "text": [
      "0.3172276561979165 None\n",
      "0.29583189827613005 None\n",
      "0.2746500375527389 None\n",
      "0.2538234412009038 None\n",
      "0.23351017707129684 None\n",
      "0.21386254845736816 None\n",
      "0.19502109244906246 None\n",
      "0.17711330248266555 None\n",
      "0.1602878022397765 None\n",
      "0.14460562868475793 None\n",
      "0.130087314546112 None\n",
      "0.1167593969878436 None\n",
      "0.11052278556749018 None\n",
      "0.09343873513576165 None\n",
      "0.08288862039855587 None\n",
      "0.08165328596865404 None\n",
      "0.08720403904521727 None\n",
      "0.0970861496862766 None\n",
      "0.0816692814912501 None\n",
      "0.08165840136659103 None\n",
      "0.08167648047966382 None\n"
     ]
    },
    {
     "data": {
      "application/vnd.jupyter.widget-view+json": {
       "model_id": "a3d02394e10f44a193f115c7b046be70",
       "version_major": 2,
       "version_minor": 0
      },
      "text/plain": [
       "  0%|          | 0/2000 [00:00<?, ?it/s]"
      ]
     },
     "metadata": {},
     "output_type": "display_data"
    },
    {
     "name": "stdout",
     "output_type": "stream",
     "text": [
      "0.32954159032540437 None\n",
      "0.30806924027172633 None\n",
      "0.2867702319992968 None\n",
      "0.26579369355195165 None\n",
      "0.24527649826148581 None\n",
      "0.2255309019908402 None\n",
      "0.20639745487675787 None\n",
      "0.19496876583728157 None\n",
      "0.17176035679421442 None\n",
      "0.1724702756544338 None\n",
      "0.14157518103106595 None\n",
      "0.13445744193538636 None\n",
      "0.13205801983656323 None\n",
      "0.10465834859770788 None\n",
      "0.09514818561950625 None\n",
      "0.09494131966201305 None\n",
      "0.11127590358246547 None\n",
      "0.11127051137172154 None\n",
      "0.09493055429752244 None\n",
      "0.09491776701282194 None\n",
      "0.09490893211226256 None\n"
     ]
    },
    {
     "data": {
      "application/vnd.jupyter.widget-view+json": {
       "model_id": "a3f16ca2d25b42f7950597b076c32f60",
       "version_major": 2,
       "version_minor": 0
      },
      "text/plain": [
       "  0%|          | 0/2000 [00:00<?, ?it/s]"
      ]
     },
     "metadata": {},
     "output_type": "display_data"
    },
    {
     "name": "stdout",
     "output_type": "stream",
     "text": [
      "0.31866319483896693 None\n",
      "0.2970748568298006 None\n",
      "0.27564168997151034 None\n",
      "0.2545233515650448 None\n",
      "0.23387134881245514 None\n",
      "0.21383606676817773 None\n",
      "0.19454255334658085 None\n",
      "0.1760416008799084 None\n",
      "0.1583891225953274 None\n",
      "0.1416667691346898 None\n",
      "0.12581450843266728 None\n",
      "0.11349302193775605 None\n",
      "0.11854127003530805 None\n",
      "0.0928090620307963 None\n",
      "0.0843440673746694 None\n",
      "0.08427728164230791 None\n",
      "0.08422440767908322 None\n",
      "0.0897599608068905 None\n",
      "0.08422856772027297 None\n",
      "0.08427503884660106 None\n",
      "0.0897698916694869 None\n",
      "Done!\n"
     ]
    },
    {
     "data": {
      "application/vnd.jupyter.widget-view+json": {
       "model_id": "ba1d91c3300e47818a2d210cb708c678",
       "version_major": 2,
       "version_minor": 0
      },
      "text/plain": [
       "  0%|          | 0/2000 [00:00<?, ?it/s]"
      ]
     },
     "metadata": {},
     "output_type": "display_data"
    },
    {
     "name": "stdout",
     "output_type": "stream",
     "text": [
      "0.35150075860977215 None\n",
      "0.3302920439283478 None\n",
      "0.31007903522209807 None\n",
      "0.28946136445768633 None\n",
      "0.2849324537862062 None\n",
      "0.24925997559994822 None\n",
      "0.23070008129221292 None\n",
      "0.21300212530632345 None\n",
      "0.21257304774654323 None\n",
      "0.1969019759528091 None\n",
      "0.16605995328447226 None\n",
      "0.15342410759117864 None\n",
      "0.15676175251105512 None\n",
      "0.1302669831867887 None\n",
      "0.11981292056501827 None\n",
      "0.11051485338233656 None\n",
      "0.10010970640435857 None\n",
      "0.09829521068870262 None\n",
      "0.09909215073306789 None\n",
      "0.11461610403636896 None\n",
      "0.11625807367962052 None\n"
     ]
    },
    {
     "data": {
      "application/vnd.jupyter.widget-view+json": {
       "model_id": "513e9800be0a4fe5b960fb72c6b82db9",
       "version_major": 2,
       "version_minor": 0
      },
      "text/plain": [
       "  0%|          | 0/2000 [00:00<?, ?it/s]"
      ]
     },
     "metadata": {},
     "output_type": "display_data"
    },
    {
     "name": "stdout",
     "output_type": "stream",
     "text": [
      "0.35014776595627645 None\n",
      "0.32896863330113385 None\n",
      "0.30794079813372766 None\n",
      "0.2872385799255938 None\n",
      "0.2670517551512877 None\n",
      "0.2475139858948072 None\n",
      "0.2286983084015236 None\n",
      "0.21077958672058633 None\n",
      "0.19378576019263097 None\n",
      "0.17789819337863017 None\n",
      "0.16309409824122512 None\n",
      "0.14917833389897836 None\n",
      "0.1523911396837625 None\n",
      "0.12302400918653363 None\n",
      "0.13537383244711232 None\n",
      "0.119856596635777 None\n",
      "0.11992992801574455 None\n",
      "0.1353736390077507 None\n",
      "0.1353736388926164 None\n",
      "0.11985659683982011 None\n",
      "0.11992992791271072 None\n"
     ]
    },
    {
     "data": {
      "application/vnd.jupyter.widget-view+json": {
       "model_id": "d31c722075a6414f8b73e4afbce02fd1",
       "version_major": 2,
       "version_minor": 0
      },
      "text/plain": [
       "  0%|          | 0/2000 [00:00<?, ?it/s]"
      ]
     },
     "metadata": {},
     "output_type": "display_data"
    },
    {
     "name": "stdout",
     "output_type": "stream",
     "text": [
      "0.3468879792778921 None\n",
      "0.3255550694655846 None\n",
      "0.3044318790858225 None\n",
      "0.2836742122608059 None\n",
      "0.2634136097664424 None\n",
      "0.24364352454345742 None\n",
      "0.24136053456910408 None\n",
      "0.20810248396527437 None\n",
      "0.1904737749937362 None\n",
      "0.1744962122616884 None\n",
      "0.1596090843533049 None\n",
      "0.16220361011961804 None\n",
      "0.14974931036016298 None\n",
      "0.12216892336984814 None\n",
      "0.11374800062076174 None\n",
      "0.1045264729143019 None\n",
      "0.09722631970346844 None\n",
      "0.09785842369510886 None\n",
      "0.1133884007694551 None\n",
      "0.09710353590194516 None\n",
      "0.11337487871056724 None\n"
     ]
    },
    {
     "data": {
      "application/vnd.jupyter.widget-view+json": {
       "model_id": "726dd0331edd4576af3b5bd925c1b053",
       "version_major": 2,
       "version_minor": 0
      },
      "text/plain": [
       "  0%|          | 0/2000 [00:00<?, ?it/s]"
      ]
     },
     "metadata": {},
     "output_type": "display_data"
    },
    {
     "name": "stdout",
     "output_type": "stream",
     "text": [
      "0.34702710775955287 None\n",
      "0.3256279468842122 None\n",
      "0.30430297554522934 None\n",
      "0.28418133895848846 None\n",
      "0.2795949061076158 None\n",
      "0.24461814579681024 None\n",
      "0.2259845762949675 None\n",
      "0.20747698076762397 None\n",
      "0.19147733256916666 None\n",
      "0.17482206697793576 None\n",
      "0.1761090050848751 None\n",
      "0.16167403999096713 None\n",
      "0.14968844721764862 None\n",
      "0.12333636639305673 None\n",
      "0.11512708900117397 None\n",
      "0.10597622490816049 None\n",
      "0.09785902423128341 None\n",
      "0.09711836857778253 None\n",
      "0.11262370947343972 None\n",
      "0.09712207528800088 None\n",
      "0.11262778158144773 None\n"
     ]
    },
    {
     "data": {
      "application/vnd.jupyter.widget-view+json": {
       "model_id": "e6d4496ddaaf41f69922475421fde086",
       "version_major": 2,
       "version_minor": 0
      },
      "text/plain": [
       "  0%|          | 0/2000 [00:00<?, ?it/s]"
      ]
     },
     "metadata": {},
     "output_type": "display_data"
    },
    {
     "name": "stdout",
     "output_type": "stream",
     "text": [
      "0.34927685068031145 None\n",
      "0.32782877175831915 None\n",
      "0.30659567265889764 None\n",
      "0.28575782700402497 None\n",
      "0.265484941858983 None\n",
      "0.24589452802122158 None\n",
      "0.2270591870127195 None\n",
      "0.20904353865997158 None\n",
      "0.19191770539904773 None\n",
      "0.1757946780316645 None\n",
      "0.1607945757461507 None\n",
      "0.1468683377735564 None\n",
      "0.1340885735375009 None\n",
      "0.12267541459759648 None\n",
      "0.11209534264717635 None\n",
      "0.10221456319011624 None\n",
      "0.11429024270997058 None\n",
      "0.11431472012795478 None\n",
      "0.11431748302809742 None\n",
      "0.1143179072467253 None\n",
      "0.0988011144967391 None\n"
     ]
    },
    {
     "data": {
      "application/vnd.jupyter.widget-view+json": {
       "model_id": "488bdc1c125f4ea58d5b1b22b77781c5",
       "version_major": 2,
       "version_minor": 0
      },
      "text/plain": [
       "  0%|          | 0/2000 [00:00<?, ?it/s]"
      ]
     },
     "metadata": {},
     "output_type": "display_data"
    },
    {
     "name": "stdout",
     "output_type": "stream",
     "text": [
      "0.34598465753385305 None\n",
      "0.3246067920555891 None\n",
      "0.3033777235723431 None\n",
      "0.28243791039860316 None\n",
      "0.2617681519063327 None\n",
      "0.2584870330788361 None\n",
      "0.2243206607335889 None\n",
      "0.20571162501322127 None\n",
      "0.2051437063267611 None\n",
      "0.17383485379797742 None\n",
      "0.15834250904925484 None\n",
      "0.14509426657979255 None\n",
      "0.13263420981914464 None\n",
      "0.12220327037104849 None\n",
      "0.11354828877472767 None\n",
      "0.10426903941575277 None\n",
      "0.09675703405339445 None\n",
      "0.09609859216498297 None\n",
      "0.09608649100110012 None\n",
      "0.09607441068818356 None\n",
      "0.09608363907116918 None\n"
     ]
    },
    {
     "data": {
      "application/vnd.jupyter.widget-view+json": {
       "model_id": "fe22d1d6e9884d0bb555a9cd2db92c87",
       "version_major": 2,
       "version_minor": 0
      },
      "text/plain": [
       "  0%|          | 0/2000 [00:00<?, ?it/s]"
      ]
     },
     "metadata": {},
     "output_type": "display_data"
    },
    {
     "name": "stdout",
     "output_type": "stream",
     "text": [
      "0.35237802438259525 None\n",
      "0.33125194886233483 None\n",
      "0.31035661999548525 None\n",
      "0.28986641665606644 None\n",
      "0.27074950608636605 None\n",
      "0.2507552615073593 None\n",
      "0.2323954175355979 None\n",
      "0.21493485539528848 None\n",
      "0.1992553375698392 None\n",
      "0.19925725004031483 None\n",
      "0.1693051752226815 None\n",
      "0.15504857541455624 None\n",
      "0.14262250379555394 None\n",
      "0.13113452874895648 None\n",
      "0.12033561194704177 None\n",
      "0.11064571569108687 None\n",
      "0.10425839883671945 None\n",
      "0.10417624597152073 None\n",
      "0.10416745768032405 None\n",
      "0.10419384129358175 None\n",
      "0.10415983330454852 None\n"
     ]
    },
    {
     "data": {
      "application/vnd.jupyter.widget-view+json": {
       "model_id": "c5ed552f70834271b92bd4894f644d16",
       "version_major": 2,
       "version_minor": 0
      },
      "text/plain": [
       "  0%|          | 0/2000 [00:00<?, ?it/s]"
      ]
     },
     "metadata": {},
     "output_type": "display_data"
    },
    {
     "name": "stdout",
     "output_type": "stream",
     "text": [
      "0.3458912337752992 None\n",
      "0.324600367264089 None\n",
      "0.3034796345451627 None\n",
      "0.2826951463199919 None\n",
      "0.262417435676936 None\n",
      "0.24276812291549807 None\n",
      "0.22383477713167957 None\n",
      "0.20570665183839898 None\n",
      "0.1884600179702678 None\n",
      "0.17212051971470302 None\n",
      "0.1574776458107166 None\n",
      "0.14467012942560087 None\n",
      "0.13356807632044304 None\n",
      "0.12374270034451096 None\n",
      "0.11730395648643875 None\n",
      "0.10808096066059346 None\n",
      "0.09981522146804972 None\n",
      "0.09483282508216813 None\n",
      "0.11026406344691309 None\n",
      "0.09481748150323666 None\n",
      "0.11027177538647559 None\n"
     ]
    },
    {
     "data": {
      "application/vnd.jupyter.widget-view+json": {
       "model_id": "c2aaca3915b04b7ba396c009a5f20c05",
       "version_major": 2,
       "version_minor": 0
      },
      "text/plain": [
       "  0%|          | 0/2000 [00:00<?, ?it/s]"
      ]
     },
     "metadata": {},
     "output_type": "display_data"
    },
    {
     "name": "stdout",
     "output_type": "stream",
     "text": [
      "0.3508850034398559 None\n",
      "0.32945613043496597 None\n",
      "0.3081813828415789 None\n",
      "0.2872373391682562 None\n",
      "0.2667946849358867 None\n",
      "0.2470131601058143 None\n",
      "0.22802086481114806 None\n",
      "0.20989467283335783 None\n",
      "0.19264908831391753 None\n",
      "0.1762427524357838 None\n",
      "0.16083960945003792 None\n",
      "0.16335685363445865 None\n",
      "0.13438364465916167 None\n",
      "0.12262041869253104 None\n",
      "0.1116087997038068 None\n",
      "0.10127708956860529 None\n",
      "0.09630944090825275 None\n",
      "0.0971112486820011 None\n",
      "0.09710737108110298 None\n",
      "0.096295241499364 None\n",
      "0.09708548018825408 None\n"
     ]
    },
    {
     "data": {
      "application/vnd.jupyter.widget-view+json": {
       "model_id": "1b65bd7c6e5c4366ad73c63f8731bfc2",
       "version_major": 2,
       "version_minor": 0
      },
      "text/plain": [
       "  0%|          | 0/2000 [00:00<?, ?it/s]"
      ]
     },
     "metadata": {},
     "output_type": "display_data"
    },
    {
     "name": "stdout",
     "output_type": "stream",
     "text": [
      "0.34385878264303393 None\n",
      "0.3224325277126636 None\n",
      "0.30109819756227113 None\n",
      "0.2802476249318676 None\n",
      "0.2762837403152733 None\n",
      "0.2411865230803723 None\n",
      "0.22161272157152653 None\n",
      "0.20448754090624752 None\n",
      "0.18752976396873947 None\n",
      "0.1709563348053002 None\n",
      "0.1562704602246607 None\n",
      "0.15874069883003938 None\n",
      "0.1294874247808257 None\n",
      "0.11753114598508668 None\n",
      "0.106760815010737 None\n",
      "0.11362306899622032 None\n",
      "0.09227604932346573 None\n",
      "0.09222878974310302 None\n",
      "0.0922296873885583 None\n",
      "0.09143521977484866 None\n",
      "0.10776007266519486 None\n",
      "Done!\n"
     ]
    },
    {
     "data": {
      "application/vnd.jupyter.widget-view+json": {
       "model_id": "82f27f537428465ba2052729086005d5",
       "version_major": 2,
       "version_minor": 0
      },
      "text/plain": [
       "  0%|          | 0/2000 [00:00<?, ?it/s]"
      ]
     },
     "metadata": {},
     "output_type": "display_data"
    },
    {
     "name": "stdout",
     "output_type": "stream",
     "text": [
      "0.3110266278895266 None\n",
      "0.291533877130762 None\n",
      "0.27041027179673854 None\n",
      "0.24782742689991114 None\n",
      "0.22755977858783763 None\n",
      "0.2233814393770827 None\n",
      "0.1891537619513633 None\n",
      "0.18682498535506514 None\n",
      "0.15491958513340276 None\n",
      "0.15503672275483826 None\n",
      "0.14088571821477006 None\n",
      "0.12799497857744116 None\n",
      "0.10287004546539776 None\n",
      "0.09163259306139732 None\n",
      "0.0875851131003073 None\n",
      "0.08752659544261202 None\n",
      "0.10296709119124393 None\n",
      "0.08752248179152612 None\n",
      "0.1029809726229726 None\n",
      "0.08935808836395454 None\n",
      "0.102963412189735 None\n"
     ]
    },
    {
     "data": {
      "application/vnd.jupyter.widget-view+json": {
       "model_id": "9bc8c3f1265c4c0f9617dc56e1a84635",
       "version_major": 2,
       "version_minor": 0
      },
      "text/plain": [
       "  0%|          | 0/2000 [00:00<?, ?it/s]"
      ]
     },
     "metadata": {},
     "output_type": "display_data"
    },
    {
     "name": "stdout",
     "output_type": "stream",
     "text": [
      "0.30936368638016976 None\n",
      "0.28795859262829726 None\n",
      "0.26678300293124535 None\n",
      "0.2460402236251375 None\n",
      "0.22586720368552216 None\n",
      "0.20634611046984203 None\n",
      "0.18763348100130342 None\n",
      "0.16994856005636894 None\n",
      "0.15351871927101923 None\n",
      "0.1381454233104521 None\n",
      "0.12381961535345903 None\n",
      "0.11055082029578683 None\n",
      "0.09838637413612795 None\n",
      "0.08748549040531439 None\n",
      "0.0863458503111808 None\n",
      "0.08635551140373408 None\n",
      "0.08635368659808497 None\n",
      "0.0863463228015707 None\n",
      "0.08634954213160018 None\n",
      "0.08634910642440684 None\n",
      "0.08634171249615097 None\n"
     ]
    },
    {
     "data": {
      "application/vnd.jupyter.widget-view+json": {
       "model_id": "da6b3f9deb5749d58e25c0106a9a4ded",
       "version_major": 2,
       "version_minor": 0
      },
      "text/plain": [
       "  0%|          | 0/2000 [00:00<?, ?it/s]"
      ]
     },
     "metadata": {},
     "output_type": "display_data"
    },
    {
     "name": "stdout",
     "output_type": "stream",
     "text": [
      "0.3081129255536276 None\n",
      "0.2866828196178491 None\n",
      "0.265457353045649 None\n",
      "0.24461813533531523 None\n",
      "0.22438793981702532 None\n",
      "0.2048572290719952 None\n",
      "0.1862705866426694 None\n",
      "0.18447554788577353 None\n",
      "0.15198698509152847 None\n",
      "0.15156454443812034 None\n",
      "0.1213389407528137 None\n",
      "0.12301520382814773 None\n",
      "0.09460652136959757 None\n",
      "0.08425072583725231 None\n",
      "0.08387623637713679 None\n",
      "0.08387281157947979 None\n",
      "0.08570428268997501 None\n",
      "0.08387214931878133 None\n",
      "0.08388490835771101 None\n",
      "0.08386812580104366 None\n",
      "0.08388231834622183 None\n"
     ]
    },
    {
     "data": {
      "application/vnd.jupyter.widget-view+json": {
       "model_id": "18f64f11ab3e40acb997430f567e64dc",
       "version_major": 2,
       "version_minor": 0
      },
      "text/plain": [
       "  0%|          | 0/2000 [00:00<?, ?it/s]"
      ]
     },
     "metadata": {},
     "output_type": "display_data"
    },
    {
     "name": "stdout",
     "output_type": "stream",
     "text": [
      "0.31274109006411854 None\n",
      "0.29137997691986506 None\n",
      "0.2702191973369599 None\n",
      "0.24943800986618758 None\n",
      "0.2292087997766902 None\n",
      "0.20970563012866877 None\n",
      "0.19110287134906073 None\n",
      "0.17356665039338476 None\n",
      "0.15682909361617797 None\n",
      "0.14131985411995074 None\n",
      "0.1424962888460791 None\n",
      "0.1295089674243809 None\n",
      "0.10246018058859052 None\n",
      "0.09206164542453242 None\n",
      "0.09074811867537753 None\n",
      "0.09077708979378629 None\n",
      "0.09260909311564783 None\n",
      "0.09259661118191459 None\n",
      "0.09076132150599864 None\n",
      "0.10621636818402802 None\n",
      "0.09073766537731018 None\n"
     ]
    },
    {
     "data": {
      "application/vnd.jupyter.widget-view+json": {
       "model_id": "f4b32a283341467e9f863637546425fc",
       "version_major": 2,
       "version_minor": 0
      },
      "text/plain": [
       "  0%|          | 0/2000 [00:00<?, ?it/s]"
      ]
     },
     "metadata": {},
     "output_type": "display_data"
    },
    {
     "name": "stdout",
     "output_type": "stream",
     "text": [
      "0.3136141324188956 None\n",
      "0.29237088082261425 None\n",
      "0.271343329818385 None\n",
      "0.2507084707771293 None\n",
      "0.23062823733358123 None\n",
      "0.21122471031120135 None\n",
      "0.192601224210213 None\n",
      "0.17485925217588683 None\n",
      "0.15814292133600996 None\n",
      "0.1425915056633411 None\n",
      "0.12829785884883843 None\n",
      "0.11524386825050198 None\n",
      "0.10342557195660845 None\n",
      "0.09443733061157727 None\n",
      "0.09014065884534982 None\n",
      "0.08833416119343313 None\n",
      "0.0901274631987265 None\n",
      "0.08832508651750787 None\n",
      "0.08833882955198165 None\n",
      "0.09016117962565405 None\n",
      "0.08830632443913414 None\n"
     ]
    },
    {
     "data": {
      "application/vnd.jupyter.widget-view+json": {
       "model_id": "bb18ec86a47e410f9a73da6807c3baaa",
       "version_major": 2,
       "version_minor": 0
      },
      "text/plain": [
       "  0%|          | 0/2000 [00:00<?, ?it/s]"
      ]
     },
     "metadata": {},
     "output_type": "display_data"
    },
    {
     "name": "stdout",
     "output_type": "stream",
     "text": [
      "0.31307613589599276 None\n",
      "0.2916436558951291 None\n",
      "0.2704374767729249 None\n",
      "0.24962854512136465 None\n",
      "0.22936620278270323 None\n",
      "0.20980558144358327 None\n",
      "0.19108162908515633 None\n",
      "0.17330829275356696 None\n",
      "0.1565666368138146 None\n",
      "0.14093212757819717 None\n",
      "0.12647095640587783 None\n",
      "0.1130692346552158 None\n",
      "0.10083379044991791 None\n",
      "0.09005279511964082 None\n",
      "0.08866370625632579 None\n",
      "0.08686922186851058 None\n",
      "0.08684910842929844 None\n",
      "0.08688985079655569 None\n",
      "0.08684586291379166 None\n",
      "0.08868342615076254 None\n",
      "0.0868778656162113 None\n"
     ]
    },
    {
     "data": {
      "application/vnd.jupyter.widget-view+json": {
       "model_id": "33c868ad9b8f4358bf6a53b71dae482f",
       "version_major": 2,
       "version_minor": 0
      },
      "text/plain": [
       "  0%|          | 0/2000 [00:00<?, ?it/s]"
      ]
     },
     "metadata": {},
     "output_type": "display_data"
    },
    {
     "name": "stdout",
     "output_type": "stream",
     "text": [
      "0.33216950107207166 None\n",
      "0.2955105706830287 None\n",
      "0.2900077411912464 None\n",
      "0.255851346054713 None\n",
      "0.23405682467815117 None\n",
      "0.21480900765598582 None\n",
      "0.21194120496341048 None\n",
      "0.1787768409506083 None\n",
      "0.16200667755349493 None\n",
      "0.16166931705242793 None\n",
      "0.1319462140135455 None\n",
      "0.13413756418636047 None\n",
      "0.12197144394866874 None\n",
      "0.09730516332952656 None\n",
      "0.09192751912831261 None\n",
      "0.09377079222763753 None\n",
      "0.10737153958690968 None\n",
      "0.09191764099987826 None\n",
      "0.09374892425608275 None\n",
      "0.09192012401903216 None\n",
      "0.09374421764691251 None\n"
     ]
    },
    {
     "data": {
      "application/vnd.jupyter.widget-view+json": {
       "model_id": "f2a1973e3c1d4fe4a6703f070faa324e",
       "version_major": 2,
       "version_minor": 0
      },
      "text/plain": [
       "  0%|          | 0/2000 [00:00<?, ?it/s]"
      ]
     },
     "metadata": {},
     "output_type": "display_data"
    },
    {
     "name": "stdout",
     "output_type": "stream",
     "text": [
      "0.3095918262557091 None\n",
      "0.28818579507335024 None\n",
      "0.26698976705526684 None\n",
      "0.2461301547472286 None\n",
      "0.22579325468993555 None\n",
      "0.20611347509482258 None\n",
      "0.18722487142627267 None\n",
      "0.1692122748353863 None\n",
      "0.15215465011465026 None\n",
      "0.1361189530631775 None\n",
      "0.12122768507776543 None\n",
      "0.10777942063052905 None\n",
      "0.09612678233298978 None\n",
      "0.08490041007504609 None\n",
      "0.08101338693698656 None\n",
      "0.09644323428697185 None\n",
      "0.0810254938097306 None\n",
      "0.08100764860474957 None\n",
      "0.09644357543366833 None\n",
      "0.09644327510236399 None\n",
      "0.09646299934795827 None\n",
      "Done!\n"
     ]
    },
    {
     "data": {
      "application/vnd.jupyter.widget-view+json": {
       "model_id": "8c139f38d217496fac3a5872b96507f6",
       "version_major": 2,
       "version_minor": 0
      },
      "text/plain": [
       "  0%|          | 0/2000 [00:00<?, ?it/s]"
      ]
     },
     "metadata": {},
     "output_type": "display_data"
    },
    {
     "name": "stdout",
     "output_type": "stream",
     "text": [
      "0.3436348650083868 None\n",
      "0.3224192652620455 None\n",
      "0.2898462254193335 None\n",
      "0.280775981920404 None\n",
      "0.2654397944704956 None\n",
      "0.24599527679855704 None\n",
      "0.22731246526192 None\n",
      "0.2094904585625386 None\n",
      "0.19262666772047576 None\n",
      "0.17680381777276577 None\n",
      "0.157285155357921 None\n",
      "0.1479930049049333 None\n",
      "0.11827209987863538 None\n",
      "0.10553457235911655 None\n",
      "0.09665146625728015 None\n",
      "0.11289833202510258 None\n",
      "0.10813050430797638 None\n",
      "0.11287340549465871 None\n",
      "0.11287896252272109 None\n",
      "0.09658634155166891 None\n",
      "0.10815148118656545 None\n"
     ]
    },
    {
     "data": {
      "application/vnd.jupyter.widget-view+json": {
       "model_id": "f74d610ffc0b4b44b2895606ef4b2d14",
       "version_major": 2,
       "version_minor": 0
      },
      "text/plain": [
       "  0%|          | 0/2000 [00:00<?, ?it/s]"
      ]
     },
     "metadata": {},
     "output_type": "display_data"
    },
    {
     "name": "stdout",
     "output_type": "stream",
     "text": [
      "0.33297487124875 None\n",
      "0.31182696772350377 None\n",
      "0.2908816985316827 None\n",
      "0.2703130126629384 None\n",
      "0.25030321561581875 None\n",
      "0.2309626009698537 None\n",
      "0.21239323177429614 None\n",
      "0.19471943402789202 None\n",
      "0.17791734952100038 None\n",
      "0.16204952348550364 None\n",
      "0.14718620575484329 None\n",
      "0.1331934628235028 None\n",
      "0.12018091803842963 None\n",
      "0.12014197378749218 None\n",
      "0.11613627404953104 None\n",
      "0.1132645414872159 None\n",
      "0.10847992056855671 None\n",
      "0.0969319611887515 None\n",
      "0.09691976361770896 None\n",
      "0.1132313418859486 None\n",
      "0.1132310396009975 None\n"
     ]
    },
    {
     "data": {
      "application/vnd.jupyter.widget-view+json": {
       "model_id": "d0b819d9e024453285e2b1211db3cc46",
       "version_major": 2,
       "version_minor": 0
      },
      "text/plain": [
       "  0%|          | 0/2000 [00:00<?, ?it/s]"
      ]
     },
     "metadata": {},
     "output_type": "display_data"
    },
    {
     "name": "stdout",
     "output_type": "stream",
     "text": [
      "0.32539551928334043 None\n",
      "0.3039395703680038 None\n",
      "0.2826401099003361 None\n",
      "0.2616822211145369 None\n",
      "0.2412273478691419 None\n",
      "0.2214301689797549 None\n",
      "0.20248551495705788 None\n",
      "0.18453426179249147 None\n",
      "0.16769463950731409 None\n",
      "0.15232647884326675 None\n",
      "0.1380183100532404 None\n",
      "0.1367297361995547 None\n",
      "0.12952103622513073 None\n",
      "0.10209423615040632 None\n",
      "0.09421703787772155 None\n",
      "0.09416431349716434 None\n",
      "0.10573002724428392 None\n",
      "0.09416071007858803 None\n",
      "0.09417851057259143 None\n",
      "0.10572436192086837 None\n",
      "0.10572962131591745 None\n"
     ]
    },
    {
     "data": {
      "application/vnd.jupyter.widget-view+json": {
       "model_id": "98ea6c92904840c49dd1521ed755f329",
       "version_major": 2,
       "version_minor": 0
      },
      "text/plain": [
       "  0%|          | 0/2000 [00:00<?, ?it/s]"
      ]
     },
     "metadata": {},
     "output_type": "display_data"
    },
    {
     "name": "stdout",
     "output_type": "stream",
     "text": [
      "0.32485143543644474 None\n",
      "0.3035216366119955 None\n",
      "0.28237731532628263 None\n",
      "0.2615934165524409 None\n",
      "0.24129234936216254 None\n",
      "0.22143081823775665 None\n",
      "0.21419985692795213 None\n",
      "0.1849335634851224 None\n",
      "0.16811934415023563 None\n",
      "0.15225829483200998 None\n",
      "0.14893234250810505 None\n",
      "0.1398659106762889 None\n",
      "0.1108674113504336 None\n",
      "0.09926751382173654 None\n",
      "0.10371502772836695 None\n",
      "0.10370428436490486 None\n",
      "0.10368795265470687 None\n",
      "0.09217186504827005 None\n",
      "0.10846976057669758 None\n",
      "0.10846592183026299 None\n",
      "0.09216082939157857 None\n"
     ]
    },
    {
     "data": {
      "application/vnd.jupyter.widget-view+json": {
       "model_id": "003bb9c30abe468092cf7946f384a654",
       "version_major": 2,
       "version_minor": 0
      },
      "text/plain": [
       "  0%|          | 0/2000 [00:00<?, ?it/s]"
      ]
     },
     "metadata": {},
     "output_type": "display_data"
    },
    {
     "name": "stdout",
     "output_type": "stream",
     "text": [
      "0.3387773350558738 None\n",
      "0.3009642069613298 None\n",
      "0.27962681901073566 None\n",
      "0.27017097814105495 None\n",
      "0.23810681176469356 None\n",
      "0.23451103134124726 None\n",
      "0.19903453646320518 None\n",
      "0.19223866857746352 None\n",
      "0.1796099355921942 None\n",
      "0.14725625292819502 None\n",
      "0.1325039039282912 None\n",
      "0.11866797161983138 None\n",
      "0.1058211728213758 None\n",
      "0.10565167171380396 None\n",
      "0.10466653395402108 None\n",
      "0.08835138922030934 None\n",
      "0.1046428701432194 None\n",
      "0.09987384917308273 None\n",
      "0.0883322358463772 None\n",
      "0.09986430873478552 None\n",
      "0.08832757360880528 None\n"
     ]
    },
    {
     "data": {
      "application/vnd.jupyter.widget-view+json": {
       "model_id": "5f2e4d1dd9864866ad56bebf4c6f3dae",
       "version_major": 2,
       "version_minor": 0
      },
      "text/plain": [
       "  0%|          | 0/2000 [00:00<?, ?it/s]"
      ]
     },
     "metadata": {},
     "output_type": "display_data"
    },
    {
     "name": "stdout",
     "output_type": "stream",
     "text": [
      "0.3280311929046862 None\n",
      "0.30667770730815835 None\n",
      "0.2855036035062272 None\n",
      "0.2646688567789966 None\n",
      "0.24409957494727377 None\n",
      "0.2412209256281424 None\n",
      "0.2180379865007915 None\n",
      "0.18891582119332923 None\n",
      "0.1722868998930642 None\n",
      "0.15670427335264428 None\n",
      "0.14233392667778583 None\n",
      "0.12903122760152913 None\n",
      "0.12838637050209256 None\n",
      "0.11768085699158658 None\n",
      "0.09713280524842409 None\n",
      "0.10861492390945565 None\n",
      "0.10858185642851473 None\n",
      "0.10859935200725121 None\n",
      "0.09703205759734482 None\n",
      "0.09704077745034063 None\n",
      "0.11338182562538489 None\n"
     ]
    },
    {
     "data": {
      "application/vnd.jupyter.widget-view+json": {
       "model_id": "4fab405a5c26442497350795e1249aaa",
       "version_major": 2,
       "version_minor": 0
      },
      "text/plain": [
       "  0%|          | 0/2000 [00:00<?, ?it/s]"
      ]
     },
     "metadata": {},
     "output_type": "display_data"
    },
    {
     "name": "stdout",
     "output_type": "stream",
     "text": [
      "0.32568473990621527 None\n",
      "0.30433000864746984 None\n",
      "0.2831641183627373 None\n",
      "0.26236759670398807 None\n",
      "0.24213136744933145 None\n",
      "0.22257093317650947 None\n",
      "0.20376911125881103 None\n",
      "0.18581397902259383 None\n",
      "0.16880540187945162 None\n",
      "0.15286783588655417 None\n",
      "0.13797105431638715 None\n",
      "0.12403398576989655 None\n",
      "0.1108658112751993 None\n",
      "0.09803026699215259 None\n",
      "0.08887585057988376 None\n",
      "0.08884888528838786 None\n",
      "0.08883329304296272 None\n",
      "0.0888451927531285 None\n",
      "0.08884148521552096 None\n",
      "0.10516033801334126 None\n",
      "0.1003871570877475 None\n"
     ]
    },
    {
     "data": {
      "application/vnd.jupyter.widget-view+json": {
       "model_id": "09b2d7edbb3e4b2ba8af8655e83aabc2",
       "version_major": 2,
       "version_minor": 0
      },
      "text/plain": [
       "  0%|          | 0/2000 [00:00<?, ?it/s]"
      ]
     },
     "metadata": {},
     "output_type": "display_data"
    },
    {
     "name": "stdout",
     "output_type": "stream",
     "text": [
      "0.3403514905566318 None\n",
      "0.3192486804534935 None\n",
      "0.29833757779812586 None\n",
      "0.2778033945096801 None\n",
      "0.25783083849041555 None\n",
      "0.23844426088763365 None\n",
      "0.21976482584430032 None\n",
      "0.20190418828731402 None\n",
      "0.1849446978235958 None\n",
      "0.16891477982137498 None\n",
      "0.15385972183420982 None\n",
      "0.1398239013099627 None\n",
      "0.12682235058624497 None\n",
      "0.1149133564136799 None\n",
      "0.1040208713950811 None\n",
      "0.09952145697013978 None\n",
      "0.09953279152832444 None\n",
      "0.09952825427379554 None\n",
      "0.09953988675405817 None\n",
      "0.09953256195473872 None\n",
      "0.09952463122532772 None\n"
     ]
    },
    {
     "data": {
      "application/vnd.jupyter.widget-view+json": {
       "model_id": "2eba996c27e34549853ee2f8cf9b2786",
       "version_major": 2,
       "version_minor": 0
      },
      "text/plain": [
       "  0%|          | 0/2000 [00:00<?, ?it/s]"
      ]
     },
     "metadata": {},
     "output_type": "display_data"
    },
    {
     "name": "stdout",
     "output_type": "stream",
     "text": [
      "0.324064040104549 None\n",
      "0.3026173912600741 None\n",
      "0.28133218410982247 None\n",
      "0.260426655097832 None\n",
      "0.23998041532429373 None\n",
      "0.22010401934204726 None\n",
      "0.20089201111399413 None\n",
      "0.18241384043544687 None\n",
      "0.16472151203260468 None\n",
      "0.1479296741661838 None\n",
      "0.14859443460522803 None\n",
      "0.135131089088412 None\n",
      "0.10639704881455056 None\n",
      "0.10666683488977145 None\n",
      "0.10426748924806302 None\n",
      "0.10421589869822616 None\n",
      "0.08796736447613662 None\n",
      "0.08794788880043021 None\n",
      "0.08793630772664113 None\n",
      "0.08791079081776944 None\n",
      "0.08792774013859607 None\n"
     ]
    },
    {
     "data": {
      "application/vnd.jupyter.widget-view+json": {
       "model_id": "bcd71b136afb4686bad7f138aa7f076c",
       "version_major": 2,
       "version_minor": 0
      },
      "text/plain": [
       "  0%|          | 0/2000 [00:00<?, ?it/s]"
      ]
     },
     "metadata": {},
     "output_type": "display_data"
    },
    {
     "name": "stdout",
     "output_type": "stream",
     "text": [
      "0.34151185742812423 None\n",
      "0.3153611044844985 None\n",
      "0.28260968446675827 None\n",
      "0.27808008692640396 None\n",
      "0.24145853965516895 None\n",
      "0.221799500342521 None\n",
      "0.20291781273752849 None\n",
      "0.18496224175783563 None\n",
      "0.16798451496551758 None\n",
      "0.15197062338039818 None\n",
      "0.13690811837470424 None\n",
      "0.13905077166232205 None\n",
      "0.10927636736559096 None\n",
      "0.11420779260502022 None\n",
      "0.1035707931337552 None\n",
      "0.10830008866312316 None\n",
      "0.09200463238341874 None\n",
      "0.09205327727978938 None\n",
      "0.09199212912622855 None\n",
      "0.09199402090568128 None\n",
      "0.10355855012621208 None\n",
      "Done!\n"
     ]
    },
    {
     "data": {
      "application/vnd.jupyter.widget-view+json": {
       "model_id": "941db244a4b24b2d910c6e87c7b28e27",
       "version_major": 2,
       "version_minor": 0
      },
      "text/plain": [
       "  0%|          | 0/2000 [00:00<?, ?it/s]"
      ]
     },
     "metadata": {},
     "output_type": "display_data"
    },
    {
     "name": "stdout",
     "output_type": "stream",
     "text": [
      "0.3402513190872829 None\n",
      "0.3286314597328431 None\n",
      "0.3132244789117158 None\n",
      "0.2770743705363732 None\n",
      "0.272452626569997 None\n",
      "0.23771606651853272 None\n",
      "0.21926134854033327 None\n",
      "0.21720169905376294 None\n",
      "0.18533666482761835 None\n",
      "0.17980673584703633 None\n",
      "0.16585986156242266 None\n",
      "0.14354980013139004 None\n",
      "0.1420487329504051 None\n",
      "0.12255742164061018 None\n",
      "0.1235674312010395 None\n",
      "0.10900565460153994 None\n",
      "0.12442499760974447 None\n",
      "0.10898460197441555 None\n",
      "0.12444455997708709 None\n",
      "0.11870882660271821 None\n",
      "0.10900037514425337 None\n"
     ]
    },
    {
     "data": {
      "application/vnd.jupyter.widget-view+json": {
       "model_id": "0bbf0b959a6e4f8ea4f93fab4d8d3166",
       "version_major": 2,
       "version_minor": 0
      },
      "text/plain": [
       "  0%|          | 0/2000 [00:00<?, ?it/s]"
      ]
     },
     "metadata": {},
     "output_type": "display_data"
    },
    {
     "name": "stdout",
     "output_type": "stream",
     "text": [
      "0.3373424809786808 None\n",
      "0.3160522117167211 None\n",
      "0.29499352885293595 None\n",
      "0.2743614255789474 None\n",
      "0.2543433369107279 None\n",
      "0.2351973790679927 None\n",
      "0.21696759712816815 None\n",
      "0.1994554986609626 None\n",
      "0.18296241225352586 None\n",
      "0.17730291903208478 None\n",
      "0.1630777454868514 None\n",
      "0.14033925843220874 None\n",
      "0.13822829109625745 None\n",
      "0.11762145180944242 None\n",
      "0.11738976936692393 None\n",
      "0.10508734043945399 None\n",
      "0.11481267958608131 None\n",
      "0.12057653907548657 None\n",
      "0.12055685193653767 None\n",
      "0.11481594616300142 None\n",
      "0.10509624110594906 None\n"
     ]
    },
    {
     "data": {
      "application/vnd.jupyter.widget-view+json": {
       "model_id": "7d386904091541e0bf060f1404bfd12b",
       "version_major": 2,
       "version_minor": 0
      },
      "text/plain": [
       "  0%|          | 0/2000 [00:00<?, ?it/s]"
      ]
     },
     "metadata": {},
     "output_type": "display_data"
    },
    {
     "name": "stdout",
     "output_type": "stream",
     "text": [
      "0.33998185060796704 None\n",
      "0.31866501399631936 None\n",
      "0.2975559506975023 None\n",
      "0.2671282323235346 None\n",
      "0.2469584300125286 None\n",
      "0.2275511735911461 None\n",
      "0.21878899753986525 None\n",
      "0.20705598228524555 None\n",
      "0.19065200535310964 None\n",
      "0.1599878006224162 None\n",
      "0.15587999899809127 None\n",
      "0.14913105415821487 None\n",
      "0.13210180452916118 None\n",
      "0.12748675063213988 None\n",
      "0.10348736840704156 None\n",
      "0.11870380579230107 None\n",
      "0.10326524117189023 None\n",
      "0.11871796099646212 None\n",
      "0.11869391610975888 None\n",
      "0.11296692486630414 None\n",
      "0.10326643570739358 None\n"
     ]
    },
    {
     "data": {
      "application/vnd.jupyter.widget-view+json": {
       "model_id": "53ad1c82557f4b708758bab1bd3d2373",
       "version_major": 2,
       "version_minor": 0
      },
      "text/plain": [
       "  0%|          | 0/2000 [00:00<?, ?it/s]"
      ]
     },
     "metadata": {},
     "output_type": "display_data"
    },
    {
     "name": "stdout",
     "output_type": "stream",
     "text": [
      "0.34104247857869113 None\n",
      "0.3197350855473697 None\n",
      "0.2986255372876973 None\n",
      "0.2779513309905074 None\n",
      "0.257819848712682 None\n",
      "0.23834851945426594 None\n",
      "0.21971937321283783 None\n",
      "0.20210600649937516 None\n",
      "0.18554653048104106 None\n",
      "0.17006644129816978 None\n",
      "0.15573895687959827 None\n",
      "0.14265205398190134 None\n",
      "0.13109208939162015 None\n",
      "0.1200007425101799 None\n",
      "0.10979206347321556 None\n",
      "0.12453069008213753 None\n",
      "0.10906678785652628 None\n",
      "0.11877653601112106 None\n",
      "0.10908799036019806 None\n",
      "0.12450279870824889 None\n",
      "0.12450845856981405 None\n"
     ]
    },
    {
     "data": {
      "application/vnd.jupyter.widget-view+json": {
       "model_id": "3cd1050adcc84de2baffb03b1c6f917a",
       "version_major": 2,
       "version_minor": 0
      },
      "text/plain": [
       "  0%|          | 0/2000 [00:00<?, ?it/s]"
      ]
     },
     "metadata": {},
     "output_type": "display_data"
    },
    {
     "name": "stdout",
     "output_type": "stream",
     "text": [
      "0.3478084510306351 None\n",
      "0.3110514733584834 None\n",
      "0.2898447792876456 None\n",
      "0.26897841619882745 None\n",
      "0.26413962610398817 None\n",
      "0.22891682436497268 None\n",
      "0.21967697671678477 None\n",
      "0.2017047594852259 None\n",
      "0.18478426797965658 None\n",
      "0.1593479187336035 None\n",
      "0.1544483532438401 None\n",
      "0.13121388473623358 None\n",
      "0.11921137276716465 None\n",
      "0.10896634283366359 None\n",
      "0.11806151710303286 None\n",
      "0.11229648050295385 None\n",
      "0.11802952340012882 None\n",
      "0.10259090843109658 None\n",
      "0.1122946103157619 None\n",
      "0.10259599023153318 None\n",
      "0.10258123635728007 None\n"
     ]
    },
    {
     "data": {
      "application/vnd.jupyter.widget-view+json": {
       "model_id": "4b7edd87eafb4d08bae8356ae1621deb",
       "version_major": 2,
       "version_minor": 0
      },
      "text/plain": [
       "  0%|          | 0/2000 [00:00<?, ?it/s]"
      ]
     },
     "metadata": {},
     "output_type": "display_data"
    },
    {
     "name": "stdout",
     "output_type": "stream",
     "text": [
      "0.3289466881980873 None\n",
      "0.3074272951716155 None\n",
      "0.2861105506826971 None\n",
      "0.26516679082836947 None\n",
      "0.24476365768170402 None\n",
      "0.22503893850263285 None\n",
      "0.20612149919315095 None\n",
      "0.188176716549824 None\n",
      "0.1712968133173259 None\n",
      "0.15562532354057104 None\n",
      "0.15704441344366374 None\n",
      "0.12798915347658557 None\n",
      "0.12533354915269435 None\n",
      "0.11438494857289956 None\n",
      "0.09869450330167036 None\n",
      "0.09863596773517594 None\n",
      "0.09860957762042963 None\n",
      "0.09860958040604297 None\n",
      "0.10831977831401104 None\n",
      "0.09861061109090527 None\n",
      "0.09860465083036145 None\n"
     ]
    },
    {
     "data": {
      "application/vnd.jupyter.widget-view+json": {
       "model_id": "74bf938e04a0479ea5ee547c9e8d84bc",
       "version_major": 2,
       "version_minor": 0
      },
      "text/plain": [
       "  0%|          | 0/2000 [00:00<?, ?it/s]"
      ]
     },
     "metadata": {},
     "output_type": "display_data"
    },
    {
     "name": "stdout",
     "output_type": "stream",
     "text": [
      "0.3329088335757795 None\n",
      "0.31166226147955095 None\n",
      "0.2906302059171105 None\n",
      "0.27000291249612307 None\n",
      "0.24995972571584582 None\n",
      "0.2306468843980995 None\n",
      "0.21219971792204134 None\n",
      "0.19481910383334314 None\n",
      "0.17909742878353213 None\n",
      "0.1635279681679258 None\n",
      "0.16431557297390037 None\n",
      "0.14501249783544296 None\n",
      "0.12300922155783109 None\n",
      "0.12140310619398577 None\n",
      "0.10445272594516698 None\n",
      "0.11988306387290158 None\n",
      "0.11414277086704867 None\n",
      "0.11990943452357741 None\n",
      "0.10443365935227095 None\n",
      "0.10447076982695853 None\n",
      "0.11988017658827475 None\n"
     ]
    },
    {
     "data": {
      "application/vnd.jupyter.widget-view+json": {
       "model_id": "f794c7f35713486bb319e5a29a9ce275",
       "version_major": 2,
       "version_minor": 0
      },
      "text/plain": [
       "  0%|          | 0/2000 [00:00<?, ?it/s]"
      ]
     },
     "metadata": {},
     "output_type": "display_data"
    },
    {
     "name": "stdout",
     "output_type": "stream",
     "text": [
      "0.35311398176230374 None\n",
      "0.3260262821463635 None\n",
      "0.29513797367676076 None\n",
      "0.274334406660841 None\n",
      "0.263787682896226 None\n",
      "0.2499121035511667 None\n",
      "0.21566118452427943 None\n",
      "0.20747378700971128 None\n",
      "0.1808499667871631 None\n",
      "0.16503040195272148 None\n",
      "0.16007906615924003 None\n",
      "0.13675548665387516 None\n",
      "0.12418404802081752 None\n",
      "0.11266947691923179 None\n",
      "0.11522821188819721 None\n",
      "0.10540575110656653 None\n",
      "0.10540116636941176 None\n",
      "0.12084717639811687 None\n",
      "0.10544064087598685 None\n",
      "0.10542852706225192 None\n",
      "0.10541721344521796 None\n"
     ]
    },
    {
     "data": {
      "application/vnd.jupyter.widget-view+json": {
       "model_id": "a63ef3614a62414d920ef06a8e3e6e67",
       "version_major": 2,
       "version_minor": 0
      },
      "text/plain": [
       "  0%|          | 0/2000 [00:00<?, ?it/s]"
      ]
     },
     "metadata": {},
     "output_type": "display_data"
    },
    {
     "name": "stdout",
     "output_type": "stream",
     "text": [
      "0.33797631054516836 None\n",
      "0.3167468284002328 None\n",
      "0.29570795423236856 None\n",
      "0.2750307851190308 None\n",
      "0.254871152928564 None\n",
      "0.23536728724002498 None\n",
      "0.2166590692829157 None\n",
      "0.19886917957524808 None\n",
      "0.18217071814470404 None\n",
      "0.16673481579675267 None\n",
      "0.15161628198207605 None\n",
      "0.15306598803546737 None\n",
      "0.12480131960480177 None\n",
      "0.11339722326915572 None\n",
      "0.11407864260577075 None\n",
      "0.11973529117639661 None\n",
      "0.10426320723947642 None\n",
      "0.11968642983930759 None\n",
      "0.10426200236967663 None\n",
      "0.10427406158696141 None\n",
      "0.11969579268304217 None\n"
     ]
    },
    {
     "data": {
      "application/vnd.jupyter.widget-view+json": {
       "model_id": "c787d3a53aec4f43807b5daa920e3cc0",
       "version_major": 2,
       "version_minor": 0
      },
      "text/plain": [
       "  0%|          | 0/2000 [00:00<?, ?it/s]"
      ]
     },
     "metadata": {},
     "output_type": "display_data"
    },
    {
     "name": "stdout",
     "output_type": "stream",
     "text": [
      "0.34021115504664273 None\n",
      "0.3188261680036563 None\n",
      "0.29761945456140537 None\n",
      "0.29220766980447527 None\n",
      "0.2661428618420675 None\n",
      "0.23674853148937694 None\n",
      "0.21786816466301023 None\n",
      "0.20961264771631144 None\n",
      "0.19831571336857634 None\n",
      "0.1822863669035275 None\n",
      "0.1518715924154458 None\n",
      "0.1534143774428316 None\n",
      "0.1251533178424062 None\n",
      "0.12896419547891028 None\n",
      "0.10400215729069133 None\n",
      "0.11336858461043782 None\n",
      "0.10364084290529219 None\n",
      "0.10363563618973731 None\n",
      "0.11905696797146348 None\n",
      "0.11906355215412674 None\n",
      "0.10366237802510096 None\n",
      "Done!\n"
     ]
    },
    {
     "data": {
      "application/vnd.jupyter.widget-view+json": {
       "model_id": "3b5aa420fb2047cca6a7d51cf9920429",
       "version_major": 2,
       "version_minor": 0
      },
      "text/plain": [
       "  0%|          | 0/2000 [00:00<?, ?it/s]"
      ]
     },
     "metadata": {},
     "output_type": "display_data"
    },
    {
     "name": "stdout",
     "output_type": "stream",
     "text": [
      "0.34486993632489643 None\n",
      "0.3236624121998924 None\n",
      "0.30265811101737244 None\n",
      "0.2821104939911039 None\n",
      "0.2621740322857493 None\n",
      "0.2428850095082507 None\n",
      "0.22435633626638032 None\n",
      "0.20684230023983172 None\n",
      "0.1906137932376668 None\n",
      "0.17539149282359232 None\n",
      "0.16120613575985876 None\n",
      "0.14820181102895055 None\n",
      "0.13657678757088598 None\n",
      "0.12625046084777192 None\n",
      "0.11746468364434648 None\n",
      "0.11042339760413163 None\n",
      "0.10553883228621319 None\n",
      "0.10541978648750071 None\n",
      "0.10542747002122808 None\n",
      "0.10543144850433422 None\n",
      "0.10542935226886915 None\n"
     ]
    },
    {
     "data": {
      "application/vnd.jupyter.widget-view+json": {
       "model_id": "cee9a0abd6f34200a3d5bbc982587ca2",
       "version_major": 2,
       "version_minor": 0
      },
      "text/plain": [
       "  0%|          | 0/2000 [00:00<?, ?it/s]"
      ]
     },
     "metadata": {},
     "output_type": "display_data"
    },
    {
     "name": "stdout",
     "output_type": "stream",
     "text": [
      "0.35034437773590255 None\n",
      "0.3292784797357837 None\n",
      "0.3084065816764191 None\n",
      "0.287904710582763 None\n",
      "0.2679645364058505 None\n",
      "0.2486741628933857 None\n",
      "0.2301717610373488 None\n",
      "0.21259393485935904 None\n",
      "0.19610207799441373 None\n",
      "0.196351673223965 None\n",
      "0.16650337166923015 None\n",
      "0.15337877478371534 None\n",
      "0.15714201378559203 None\n",
      "0.1466366452995828 None\n",
      "0.12181512172195817 None\n",
      "0.12912910985718734 None\n",
      "0.10862607765915687 None\n",
      "0.11124872948616912 None\n",
      "0.11123027514209452 None\n",
      "0.10861463294721371 None\n",
      "0.10860920388110165 None\n"
     ]
    },
    {
     "data": {
      "application/vnd.jupyter.widget-view+json": {
       "model_id": "2eb6b417727f443a9c53e5d543c894c2",
       "version_major": 2,
       "version_minor": 0
      },
      "text/plain": [
       "  0%|          | 0/2000 [00:00<?, ?it/s]"
      ]
     },
     "metadata": {},
     "output_type": "display_data"
    },
    {
     "name": "stdout",
     "output_type": "stream",
     "text": [
      "0.3454194345834395 None\n",
      "0.3241915067967663 None\n",
      "0.3032000944633373 None\n",
      "0.2826114342635195 None\n",
      "0.26257120924993627 None\n",
      "0.24321241676143038 None\n",
      "0.22465318923116276 None\n",
      "0.20705683895734447 None\n",
      "0.1906315872291814 None\n",
      "0.17559601945645437 None\n",
      "0.1619145767157521 None\n",
      "0.1522617302669149 None\n",
      "0.1530584595150194 None\n",
      "0.12697694964253964 None\n",
      "0.1337394741532991 None\n",
      "0.11452554146907656 None\n",
      "0.11107596948414025 None\n",
      "0.11108127161961616 None\n",
      "0.11105855919614202 None\n",
      "0.11105888041103229 None\n",
      "0.12650564909743445 None\n"
     ]
    },
    {
     "data": {
      "application/vnd.jupyter.widget-view+json": {
       "model_id": "c60b689d45b245b0a66d2f113935160f",
       "version_major": 2,
       "version_minor": 0
      },
      "text/plain": [
       "  0%|          | 0/2000 [00:00<?, ?it/s]"
      ]
     },
     "metadata": {},
     "output_type": "display_data"
    },
    {
     "name": "stdout",
     "output_type": "stream",
     "text": [
      "0.34970447639252683 None\n",
      "0.3287126823337626 None\n",
      "0.30794076961115 None\n",
      "0.28752861045967193 None\n",
      "0.267715434370898 None\n",
      "0.2487356327632323 None\n",
      "0.23057719016264724 None\n",
      "0.21332771487207272 None\n",
      "0.1970579233947248 None\n",
      "0.18180927494637955 None\n",
      "0.1676355681564154 None\n",
      "0.15463596389208267 None\n",
      "0.14275068552079356 None\n",
      "0.13164061046374598 None\n",
      "0.15108389226308347 None\n",
      "0.1113913937314108 None\n",
      "0.10535179176489907 None\n",
      "0.12253060122948137 None\n",
      "0.12077817788396322 None\n",
      "0.13533394812290422 None\n",
      "0.1053292383105606 None\n"
     ]
    },
    {
     "data": {
      "application/vnd.jupyter.widget-view+json": {
       "model_id": "d49641063e884728a2add91a0f7a31cd",
       "version_major": 2,
       "version_minor": 0
      },
      "text/plain": [
       "  0%|          | 0/2000 [00:00<?, ?it/s]"
      ]
     },
     "metadata": {},
     "output_type": "display_data"
    },
    {
     "name": "stdout",
     "output_type": "stream",
     "text": [
      "0.3441933646261488 None\n",
      "0.32282385972547134 None\n",
      "0.3016533943885925 None\n",
      "0.2808701447899157 None\n",
      "0.26065373150033655 None\n",
      "0.241166889528606 None\n",
      "0.2225571750640276 None\n",
      "0.20492046729925598 None\n",
      "0.18831203117819126 None\n",
      "0.17285320921709177 None\n",
      "0.1587577701365934 None\n",
      "0.1460393859173906 None\n",
      "0.1345796929169848 None\n",
      "0.12462449297215386 None\n",
      "0.11583751610536498 None\n",
      "0.10636282422252777 None\n",
      "0.10550933221024895 None\n",
      "0.1055324176066325 None\n",
      "0.10553432027876482 None\n",
      "0.10814179257551815 None\n",
      "0.10553933381367045 None\n"
     ]
    },
    {
     "data": {
      "application/vnd.jupyter.widget-view+json": {
       "model_id": "4f5273c2256143b9bf1ebddf3d0316d9",
       "version_major": 2,
       "version_minor": 0
      },
      "text/plain": [
       "  0%|          | 0/2000 [00:00<?, ?it/s]"
      ]
     },
     "metadata": {},
     "output_type": "display_data"
    },
    {
     "name": "stdout",
     "output_type": "stream",
     "text": [
      "0.3447223424094456 None\n",
      "0.32334044424488556 None\n",
      "0.3021558880757357 None\n",
      "0.28135360944002286 None\n",
      "0.26110423344238143 None\n",
      "0.24155397448218746 None\n",
      "0.22279584573570943 None\n",
      "0.20492069935194773 None\n",
      "0.18801743076313837 None\n",
      "0.1721522236920785 None\n",
      "0.15736759736964862 None\n",
      "0.14384079173043124 None\n",
      "0.13186503602285388 None\n",
      "0.12146219540513203 None\n",
      "0.12795302526498165 None\n",
      "0.10769191984624696 None\n",
      "0.10504745241048112 None\n",
      "0.12047591507824405 None\n",
      "0.1050275539328367 None\n",
      "0.10502326382907065 None\n",
      "0.12046732159035138 None\n"
     ]
    },
    {
     "data": {
      "application/vnd.jupyter.widget-view+json": {
       "model_id": "dc78be4e448d4f45957886c194ea5aa2",
       "version_major": 2,
       "version_minor": 0
      },
      "text/plain": [
       "  0%|          | 0/2000 [00:00<?, ?it/s]"
      ]
     },
     "metadata": {},
     "output_type": "display_data"
    },
    {
     "name": "stdout",
     "output_type": "stream",
     "text": [
      "0.35480324439991673 None\n",
      "0.33380709643962053 None\n",
      "0.3130033041751662 None\n",
      "0.2925717359749719 None\n",
      "0.272650393306256 None\n",
      "0.2533651036169783 None\n",
      "0.23483951310920106 None\n",
      "0.21716826557307986 None\n",
      "0.2004144651324334 None\n",
      "0.18460567392111743 None\n",
      "0.1697945062579116 None\n",
      "0.15600618653485826 None\n",
      "0.1433502198201945 None\n",
      "0.13186997091246805 None\n",
      "0.12173720422266286 None\n",
      "0.11194645320046452 None\n",
      "0.12148992452956782 None\n",
      "0.10605157323134301 None\n",
      "0.10609357919384713 None\n",
      "0.10604975246569982 None\n",
      "0.10606778485154474 None\n",
      "Done!\n"
     ]
    }
   ],
   "source": [
    "n = 3\n",
    "d = 2**n\n",
    "\n",
    "np.random.seed(42)\n",
    "random.seed(42)\n",
    "tf.random.set_seed(42)\n",
    "rng = np.random.default_rng(seed=42)\n",
    "\n",
    "[distance_best_list, model_best_list] = loader(data_path(\"diluted_fitting_24layer.model\"))\n",
    "rank_start = model_best_list[-1].channel.rank\n",
    "\n",
    "distance_best_list, model_best_list = fit_diluted_unitary(spectrum_target_list4, \n",
    "                                                          d=d, \n",
    "                                                          rank_start = rank_start,\n",
    "                                                          rank_step = 1,\n",
    "                                                          num_iter = 2000,\n",
    "                                                         )\n",
    "\n",
    "saver([distance_best_list, model_best_list], data_path(\"diluted_fitting_32layer.model\"))"
   ]
  },
  {
   "cell_type": "markdown",
   "metadata": {},
   "source": [
    "## Four Qubits"
   ]
  },
  {
   "cell_type": "code",
   "execution_count": 51,
   "metadata": {},
   "outputs": [],
   "source": [
    "n = 4\n",
    "d = 2**n\n",
    "\n",
    "[model1, model2, model3, model4, model5] = loader(data_path(\"belem_4qubit_repeated.model\"))\n",
    "\n",
    "spectrum1 = channel_spectrum(model1.channel, keep_real=False)\n",
    "spectrum2 = channel_spectrum(model2.channel, keep_real=False) \n",
    "spectrum3 = channel_spectrum(model3.channel, keep_real=False)\n",
    "spectrum4 = channel_spectrum(model4.channel, keep_real=False)\n",
    "spectrum5 = channel_spectrum(model5.channel, keep_real=False)"
   ]
  },
  {
   "cell_type": "code",
   "execution_count": 52,
   "metadata": {
    "scrolled": true
   },
   "outputs": [
    {
     "data": {
      "application/vnd.jupyter.widget-view+json": {
       "model_id": "cc20ae40f74345b99d1e3d0a34c27ecc",
       "version_major": 2,
       "version_minor": 0
      },
      "text/plain": [
       "  0%|          | 0/2000 [00:00<?, ?it/s]"
      ]
     },
     "metadata": {},
     "output_type": "display_data"
    },
    {
     "name": "stdout",
     "output_type": "stream",
     "text": [
      "0.23604491452368892 None\n",
      "0.22884847262278685 None\n",
      "0.2308204072016827 None\n",
      "0.2269173756274781 None\n",
      "0.230601897437974 None\n",
      "0.22670672874034004 None\n",
      "0.2306018318002978 None\n",
      "0.23444400456919537 None\n",
      "0.22670672323330907 None\n",
      "0.22691681561509486 None\n",
      "0.23444400456180223 None\n",
      "0.22670672323292876 None\n",
      "0.22670672323292676 None\n",
      "0.2344440045617928 None\n",
      "0.226706723232917 None\n",
      "0.23060183149402394 None\n",
      "0.22670672323292737 None\n",
      "0.22670672323292754 None\n",
      "0.22670672323292426 None\n",
      "0.22691681561509133 None\n",
      "0.22670672323293137 None\n"
     ]
    },
    {
     "data": {
      "application/vnd.jupyter.widget-view+json": {
       "model_id": "d2dd3069d72147fea0ab662ff7914a66",
       "version_major": 2,
       "version_minor": 0
      },
      "text/plain": [
       "  0%|          | 0/2000 [00:00<?, ?it/s]"
      ]
     },
     "metadata": {},
     "output_type": "display_data"
    },
    {
     "name": "stdout",
     "output_type": "stream",
     "text": [
      "0.13211728892711652 None\n",
      "0.124228269786473 None\n",
      "0.11516116005998811 None\n",
      "0.10933154211595487 None\n",
      "0.1007590631779306 None\n",
      "0.1020446677115946 None\n",
      "0.09806631227291192 None\n",
      "0.09807667062026788 None\n",
      "0.10206560353422467 None\n",
      "0.09809396709413733 None\n",
      "0.09807322823898597 None\n",
      "0.09807324582872091 None\n",
      "0.10201627208935242 None\n",
      "0.10200940643050527 None\n",
      "0.0980711189281119 None\n",
      "0.10207734989017395 None\n",
      "0.0980772114548718 None\n",
      "0.10202302114940087 None\n",
      "0.09806542467331243 None\n",
      "0.10201251468934347 None\n",
      "0.09833033470461072 None\n"
     ]
    },
    {
     "data": {
      "application/vnd.jupyter.widget-view+json": {
       "model_id": "c379e2de20bb466e91e91dd67e8f15bd",
       "version_major": 2,
       "version_minor": 0
      },
      "text/plain": [
       "  0%|          | 0/2000 [00:00<?, ?it/s]"
      ]
     },
     "metadata": {},
     "output_type": "display_data"
    },
    {
     "name": "stdout",
     "output_type": "stream",
     "text": [
      "0.10729163648296146 None\n",
      "0.09462603472888628 None\n",
      "0.07666227633180484 None\n",
      "0.06456286171141366 None\n",
      "0.06134062751567793 None\n",
      "0.06524492597911165 None\n",
      "0.06130545836298 None\n",
      "0.06529785464944197 None\n",
      "0.061636333528359094 None\n",
      "0.06159462338501963 None\n",
      "0.06159054153198932 None\n",
      "0.06163053445072679 None\n",
      "0.061586920157324435 None\n",
      "0.0612964274140516 None\n",
      "0.06527830697818997 None\n",
      "0.06164348172893068 None\n",
      "0.06130365163574174 None\n",
      "0.06524722895077692 None\n",
      "0.061334704145117915 None\n",
      "0.06129829578540395 None\n",
      "0.06527434799246161 None\n"
     ]
    },
    {
     "data": {
      "application/vnd.jupyter.widget-view+json": {
       "model_id": "26f8958b62234082a48d535dc2a96795",
       "version_major": 2,
       "version_minor": 0
      },
      "text/plain": [
       "  0%|          | 0/2000 [00:00<?, ?it/s]"
      ]
     },
     "metadata": {},
     "output_type": "display_data"
    },
    {
     "name": "stdout",
     "output_type": "stream",
     "text": [
      "0.09886026723637965 None\n",
      "0.07991115994505608 None\n",
      "0.0629884567166917 None\n",
      "0.047971038287409146 None\n",
      "0.050057044604109036 None\n",
      "0.046096772467353775 None\n",
      "0.04635652913392074 None\n",
      "0.04609952220113514 None\n",
      "0.04610565585000954 None\n",
      "0.04610759815307848 None\n",
      "0.046383086517977457 None\n",
      "0.04611304186951375 None\n",
      "0.050050675397697295 None\n",
      "0.046361271972374676 None\n",
      "0.05003917527489177 None\n",
      "0.050040226793110036 None\n",
      "0.04610025949245828 None\n",
      "0.0464408460583953 None\n",
      "0.046175631657011926 None\n",
      "0.046437077008710616 None\n",
      "0.050120247687576135 None\n"
     ]
    },
    {
     "data": {
      "application/vnd.jupyter.widget-view+json": {
       "model_id": "89f03f57b0f4402a92df49c70200c730",
       "version_major": 2,
       "version_minor": 0
      },
      "text/plain": [
       "  0%|          | 0/2000 [00:00<?, ?it/s]"
      ]
     },
     "metadata": {},
     "output_type": "display_data"
    },
    {
     "name": "stdout",
     "output_type": "stream",
     "text": [
      "0.09165260082403684 None\n",
      "0.07539750297399157 None\n",
      "0.05662281965445076 None\n",
      "0.03985600188512654 None\n",
      "0.035705057763041406 None\n",
      "0.04341444883076493 None\n",
      "0.03575445081963768 None\n",
      "0.03944070833580192 None\n",
      "0.039383035891927154 None\n",
      "0.03543899690438678 None\n",
      "0.035479472175686665 None\n",
      "0.035454178490589974 None\n",
      "0.04338676328346848 None\n",
      "0.035464089806826526 None\n",
      "0.039724106788279416 None\n",
      "0.03546266098993873 None\n",
      "0.03938660715973992 None\n",
      "0.035434114683468375 None\n",
      "0.03940471571374229 None\n",
      "0.03569626034117294 None\n",
      "0.03939489657421658 None\n"
     ]
    },
    {
     "data": {
      "application/vnd.jupyter.widget-view+json": {
       "model_id": "1f99fcf4984e495190ce90e582d5c21c",
       "version_major": 2,
       "version_minor": 0
      },
      "text/plain": [
       "  0%|          | 0/2000 [00:00<?, ?it/s]"
      ]
     },
     "metadata": {},
     "output_type": "display_data"
    },
    {
     "name": "stdout",
     "output_type": "stream",
     "text": [
      "0.09418161972955369 None\n",
      "0.06551509347618138 None\n",
      "0.049741892648208344 None\n",
      "0.03258332534850678 None\n",
      "0.028171494701855496 None\n",
      "0.028394489630499925 None\n",
      "0.03206666677274434 None\n",
      "0.028163640643846466 None\n",
      "0.02839003313401977 None\n",
      "0.02816679110663525 None\n",
      "0.028199269501271447 None\n",
      "0.03590449623403712 None\n",
      "0.028369305639480938 None\n",
      "0.03208861266195474 None\n",
      "0.0322391846948297 None\n",
      "0.02836812861975201 None\n",
      "0.028172277961874378 None\n",
      "0.032073081465086486 None\n",
      "0.02839193528189496 None\n",
      "0.03217573421420507 None\n",
      "0.028383099874348387 None\n"
     ]
    },
    {
     "data": {
      "application/vnd.jupyter.widget-view+json": {
       "model_id": "7372ad8655ed4f80b5a0cf8d5e537d53",
       "version_major": 2,
       "version_minor": 0
      },
      "text/plain": [
       "  0%|          | 0/2000 [00:00<?, ?it/s]"
      ]
     },
     "metadata": {},
     "output_type": "display_data"
    },
    {
     "name": "stdout",
     "output_type": "stream",
     "text": [
      "0.08661033618957 None\n",
      "0.06519350284549542 None\n",
      "0.044590017328165484 None\n",
      "0.02773444544391283 None\n",
      "0.02757603519426249 None\n",
      "0.027577840525488485 None\n",
      "0.027614004270861716 None\n",
      "0.02759296261045979 None\n",
      "0.02758034424647334 None\n",
      "0.027607591295531374 None\n",
      "0.0276061129237285 None\n",
      "0.027564988956138355 None\n",
      "0.027579023665519287 None\n",
      "0.027556917721092596 None\n",
      "0.02758045295421428 None\n",
      "0.02756501375759606 None\n",
      "0.027625573806594007 None\n",
      "0.027579271983651985 None\n",
      "0.02757221859621652 None\n",
      "0.02757542639477988 None\n",
      "0.027573699597339702 None\n"
     ]
    },
    {
     "data": {
      "application/vnd.jupyter.widget-view+json": {
       "model_id": "b4ad2f8cec3f4036aad8fef39ff2f730",
       "version_major": 2,
       "version_minor": 0
      },
      "text/plain": [
       "  0%|          | 0/2000 [00:00<?, ?it/s]"
      ]
     },
     "metadata": {},
     "output_type": "display_data"
    },
    {
     "name": "stdout",
     "output_type": "stream",
     "text": [
      "0.08685745538771941 None\n",
      "0.06102538792196992 None\n",
      "0.03969179934111907 None\n",
      "0.0226279854328818 None\n",
      "0.022598913829705525 None\n",
      "0.026314988489627593 None\n",
      "0.026302431319294127 None\n",
      "0.02243241319565872 None\n",
      "0.02240178785264717 None\n",
      "0.022401233729617973 None\n",
      "0.022438276899353907 None\n",
      "0.022622971993798337 None\n",
      "0.02241171427711828 None\n",
      "0.022420185607830243 None\n",
      "0.02244973408023515 None\n",
      "0.02240956514859091 None\n",
      "0.02241757595392454 None\n",
      "0.026332647207670812 None\n",
      "0.022432340004907486 None\n",
      "0.022442563808949004 None\n",
      "0.022397580430074348 None\n"
     ]
    },
    {
     "data": {
      "application/vnd.jupyter.widget-view+json": {
       "model_id": "09e2e819a33a40258289045855a5090c",
       "version_major": 2,
       "version_minor": 0
      },
      "text/plain": [
       "  0%|          | 0/2000 [00:00<?, ?it/s]"
      ]
     },
     "metadata": {},
     "output_type": "display_data"
    },
    {
     "name": "stdout",
     "output_type": "stream",
     "text": [
      "0.08800299446397211 None\n",
      "0.06200654125703447 None\n",
      "0.04091858620526185 None\n",
      "0.022699849635669463 None\n",
      "0.022625794566503533 None\n",
      "0.02658461776943966 None\n",
      "0.02692491186572701 None\n",
      "0.026876912049853683 None\n",
      "0.026578495377999296 None\n",
      "0.022629119837382302 None\n",
      "0.022673330184154208 None\n",
      "0.02298546547763463 None\n",
      "0.026891860102360193 None\n",
      "0.026570659392005064 None\n",
      "0.022696697610355934 None\n",
      "0.022656667860534642 None\n",
      "0.022902771584512448 None\n",
      "0.02287829941036528 None\n",
      "0.022611913655563212 None\n",
      "0.02287413852936341 None\n",
      "0.022618725225263682 None\n"
     ]
    },
    {
     "data": {
      "application/vnd.jupyter.widget-view+json": {
       "model_id": "15bb68f74f794182821bfd337172dfcb",
       "version_major": 2,
       "version_minor": 0
      },
      "text/plain": [
       "  0%|          | 0/2000 [00:00<?, ?it/s]"
      ]
     },
     "metadata": {},
     "output_type": "display_data"
    },
    {
     "name": "stdout",
     "output_type": "stream",
     "text": [
      "0.0853569527749679 None\n",
      "0.059348031764828224 None\n",
      "0.04124654432929079 None\n",
      "0.01981893017849756 None\n",
      "0.019824534962240917 None\n",
      "0.019823351713542152 None\n",
      "0.023490044004920135 None\n",
      "0.019564554915835995 None\n",
      "0.019563017829561068 None\n",
      "0.019847798563660524 None\n",
      "0.023557727696998147 None\n",
      "0.019547860665870352 None\n",
      "0.019533059364497434 None\n",
      "0.019636807297955097 None\n",
      "0.019553400134061122 None\n",
      "0.019589156863194648 None\n",
      "0.019798053584785837 None\n",
      "0.01954179005770849 None\n",
      "0.023504507897520604 None\n",
      "0.01981275448189317 None\n",
      "0.019563455333587693 None\n"
     ]
    },
    {
     "data": {
      "application/vnd.jupyter.widget-view+json": {
       "model_id": "f37fbaad26e340a1b6bee26e7a1beb77",
       "version_major": 2,
       "version_minor": 0
      },
      "text/plain": [
       "  0%|          | 0/2000 [00:00<?, ?it/s]"
      ]
     },
     "metadata": {},
     "output_type": "display_data"
    },
    {
     "name": "stdout",
     "output_type": "stream",
     "text": [
      "0.08266035446871971 None\n",
      "0.06025704449320022 None\n",
      "0.04205883185954427 None\n",
      "0.020149321655300253 None\n",
      "0.019979468476397904 None\n",
      "0.01993290479592133 None\n",
      "0.019923525722609477 None\n",
      "0.023887344131176227 None\n",
      "0.023939823345732913 None\n",
      "0.01991512561779284 None\n",
      "0.01994771199090187 None\n",
      "0.020011123785536857 None\n",
      "0.023878855963511247 None\n",
      "0.019917918347807293 None\n",
      "0.020221887061894785 None\n",
      "0.023875878688265552 None\n",
      "0.020213689964187556 None\n",
      "0.019943852940401824 None\n",
      "0.020197191434997756 None\n",
      "0.02389807259360987 None\n",
      "0.019914484698861493 None\n"
     ]
    },
    {
     "data": {
      "application/vnd.jupyter.widget-view+json": {
       "model_id": "ba9d55ff456a4477ac9fca591637c4e5",
       "version_major": 2,
       "version_minor": 0
      },
      "text/plain": [
       "  0%|          | 0/2000 [00:00<?, ?it/s]"
      ]
     },
     "metadata": {},
     "output_type": "display_data"
    },
    {
     "name": "stdout",
     "output_type": "stream",
     "text": [
      "0.08507223738272157 None\n",
      "0.05856344227324813 None\n",
      "0.03683587774582125 None\n",
      "0.0193771396708858 None\n",
      "0.019493974887980294 None\n",
      "0.019214340760892443 None\n",
      "0.019223386890186173 None\n",
      "0.01925357654292053 None\n",
      "0.023168999653108348 None\n",
      "0.0194783986799817 None\n",
      "0.023177418223240057 None\n",
      "0.02319369795292909 None\n",
      "0.019233904229273787 None\n",
      "0.019279439322165807 None\n",
      "0.019506472541102028 None\n",
      "0.019211717745978536 None\n",
      "0.019253440807584694 None\n",
      "0.019485357847881128 None\n",
      "0.019214819275338427 None\n",
      "0.019240391039258672 None\n",
      "0.0231801941290885 None\n"
     ]
    },
    {
     "data": {
      "application/vnd.jupyter.widget-view+json": {
       "model_id": "d7739d6257004bb087886dfa5d8440cb",
       "version_major": 2,
       "version_minor": 0
      },
      "text/plain": [
       "  0%|          | 0/2000 [00:00<?, ?it/s]"
      ]
     },
     "metadata": {},
     "output_type": "display_data"
    },
    {
     "name": "stdout",
     "output_type": "stream",
     "text": [
      "0.08606402852317296 None\n",
      "0.05942840937738854 None\n",
      "0.03709286843614338 None\n",
      "0.017936016611372733 None\n",
      "0.017945638373911752 None\n",
      "0.01791269595010017 None\n",
      "0.02188331333709216 None\n",
      "0.01795017585109351 None\n",
      "0.01791679792503019 None\n",
      "0.021864915477394938 None\n",
      "0.01792423740026915 None\n",
      "0.01796770920438935 None\n",
      "0.0179602409627665 None\n",
      "0.021892945062778224 None\n",
      "0.021858382788164866 None\n",
      "0.021860956129044942 None\n",
      "0.017931940623237507 None\n",
      "0.018212538304962216 None\n",
      "0.017967837313644344 None\n",
      "0.017924206713606734 None\n",
      "0.01793727065450775 None\n"
     ]
    },
    {
     "data": {
      "application/vnd.jupyter.widget-view+json": {
       "model_id": "466fad8ee0944cd59670bf85e2a07dd1",
       "version_major": 2,
       "version_minor": 0
      },
      "text/plain": [
       "  0%|          | 0/2000 [00:00<?, ?it/s]"
      ]
     },
     "metadata": {},
     "output_type": "display_data"
    },
    {
     "name": "stdout",
     "output_type": "stream",
     "text": [
      "0.08136982256630776 None\n",
      "0.05857344712459964 None\n",
      "0.03610063596701392 None\n",
      "0.018257488329805442 None\n",
      "0.018104774201700334 None\n",
      "0.018024514684499345 None\n",
      "0.018051279782065707 None\n",
      "0.018030857697683558 None\n",
      "0.01802563034144089 None\n",
      "0.01805042354171248 None\n",
      "0.018092003677805238 None\n",
      "0.018063295193634872 None\n",
      "0.01802519955894599 None\n",
      "0.01806962508541522 None\n",
      "0.018038132103454337 None\n",
      "0.01807190321707214 None\n",
      "0.018031543627802796 None\n",
      "0.018058205004148592 None\n",
      "0.018024771438498875 None\n",
      "0.01806715640780582 None\n",
      "0.0180318085793152 None\n"
     ]
    },
    {
     "data": {
      "application/vnd.jupyter.widget-view+json": {
       "model_id": "f617ea7411ad45dcbf62ae397531abe0",
       "version_major": 2,
       "version_minor": 0
      },
      "text/plain": [
       "  0%|          | 0/2000 [00:00<?, ?it/s]"
      ]
     },
     "metadata": {},
     "output_type": "display_data"
    },
    {
     "name": "stdout",
     "output_type": "stream",
     "text": [
      "0.08032378761980136 None\n",
      "0.05740702325284701 None\n",
      "0.03487986558765667 None\n",
      "0.0200874761599087 None\n",
      "0.016020629310805178 None\n",
      "0.016017924771481395 None\n",
      "0.019989096185142934 None\n",
      "0.016015505436882915 None\n",
      "0.016046264293791062 None\n",
      "0.01605662650597331 None\n",
      "0.019983978637276693 None\n",
      "0.01603899851758109 None\n",
      "0.016048482011390804 None\n",
      "0.01604632862291908 None\n",
      "0.01602759012197267 None\n",
      "0.016015628944414786 None\n",
      "0.01604437911258159 None\n",
      "0.016019040999524205 None\n",
      "0.01999694344884983 None\n",
      "0.01605719841977147 None\n",
      "0.01603916792602778 None\n"
     ]
    },
    {
     "data": {
      "application/vnd.jupyter.widget-view+json": {
       "model_id": "41cbce526e384dd39f24b7ce42a5cc69",
       "version_major": 2,
       "version_minor": 0
      },
      "text/plain": [
       "  0%|          | 0/2000 [00:00<?, ?it/s]"
      ]
     },
     "metadata": {},
     "output_type": "display_data"
    },
    {
     "name": "stdout",
     "output_type": "stream",
     "text": [
      "0.07982125176348705 None\n",
      "0.0568780824094206 None\n",
      "0.03423919057182126 None\n",
      "0.01644234684843484 None\n",
      "0.016151511355372093 None\n",
      "0.016425423526359388 None\n",
      "0.016140273614819144 None\n",
      "0.016136990300821497 None\n",
      "0.020166723176405152 None\n",
      "0.020123995795816408 None\n",
      "0.016189687009168226 None\n",
      "0.01645151238009128 None\n",
      "0.016230271759369905 None\n",
      "0.020120361805504507 None\n",
      "0.01641617302456725 None\n",
      "0.01617258550168756 None\n",
      "0.016136289333611588 None\n",
      "0.016408601240200247 None\n",
      "0.016150165418067818 None\n",
      "0.020081662924222615 None\n",
      "0.02010576459378485 None\n",
      "Done!\n"
     ]
    }
   ],
   "source": [
    "distance_best, model_best = optimize_annulus_distance(spectrum_target = spectrum1, \n",
    "                                                      d = d, \n",
    "                                                      rank_start = 1, \n",
    "                                                      rank_step = 1,\n",
    "                                                      num_iter = 2000)\n",
    "\n",
    "model_best.optimizer = None\n",
    "saver([distance_best, model_best], data_path(\"diluted_fitting_4qubit_8layer.model\"))"
   ]
  },
  {
   "cell_type": "code",
   "execution_count": 53,
   "metadata": {},
   "outputs": [
    {
     "data": {
      "application/vnd.jupyter.widget-view+json": {
       "model_id": "00375761f9eb43b5a4b484b6f9b4351f",
       "version_major": 2,
       "version_minor": 0
      },
      "text/plain": [
       "  0%|          | 0/2000 [00:00<?, ?it/s]"
      ]
     },
     "metadata": {},
     "output_type": "display_data"
    },
    {
     "name": "stdout",
     "output_type": "stream",
     "text": [
      "0.3860099326359815 None\n",
      "0.37802038767485563 None\n",
      "0.3770123676603914 None\n",
      "0.3809239932710503 None\n",
      "0.3769561197802325 None\n",
      "0.3730787249281925 None\n",
      "0.3809998459514388 None\n",
      "0.38499793554536754 None\n",
      "0.37695223740690215 None\n",
      "0.3730060542034559 None\n",
      "0.37695075675747325 None\n",
      "0.38096217551322975 None\n",
      "0.38095489776446706 None\n",
      "0.37692476647435674 None\n",
      "0.3809536762275262 None\n",
      "0.3730051962651269 None\n",
      "0.373003226927307 None\n",
      "0.37300692042173983 None\n",
      "0.37300522863563396 None\n",
      "0.3730270581957878 None\n",
      "0.37300315638721065 None\n"
     ]
    },
    {
     "data": {
      "application/vnd.jupyter.widget-view+json": {
       "model_id": "2edeb1f96a804a9bb4254fe210fcf4ca",
       "version_major": 2,
       "version_minor": 0
      },
      "text/plain": [
       "  0%|          | 0/2000 [00:00<?, ?it/s]"
      ]
     },
     "metadata": {},
     "output_type": "display_data"
    },
    {
     "name": "stdout",
     "output_type": "stream",
     "text": [
      "0.28013196745879215 None\n",
      "0.2724514663603237 None\n",
      "0.26067277636459385 None\n",
      "0.25889514984722733 None\n",
      "0.2520833586005615 None\n",
      "0.2532551871944361 None\n",
      "0.24570816921462413 None\n",
      "0.25088001877759564 None\n",
      "0.24439531500205833 None\n",
      "0.2394222656627389 None\n",
      "0.23873897357119409 None\n",
      "0.23820785333173672 None\n",
      "0.23793201724849977 None\n",
      "0.2386951318293127 None\n",
      "0.23866502843664714 None\n",
      "0.23479959626822963 None\n",
      "0.24632706810585875 None\n",
      "0.2500639878434248 None\n",
      "0.24250753332568084 None\n",
      "0.24629728144531088 None\n",
      "0.23866502841925646 None\n"
     ]
    },
    {
     "data": {
      "application/vnd.jupyter.widget-view+json": {
       "model_id": "c613ba7cbdce4b16a66a745d3189da16",
       "version_major": 2,
       "version_minor": 0
      },
      "text/plain": [
       "  0%|          | 0/2000 [00:00<?, ?it/s]"
      ]
     },
     "metadata": {},
     "output_type": "display_data"
    },
    {
     "name": "stdout",
     "output_type": "stream",
     "text": [
      "0.2545882865826235 None\n",
      "0.24193207756655224 None\n",
      "0.2197503277596377 None\n",
      "0.21547024775650878 None\n",
      "0.20186001343501359 None\n",
      "0.20271031482766058 None\n",
      "0.18937073083408068 None\n",
      "0.17917553203299502 None\n",
      "0.17848204446490212 None\n",
      "0.1746573394954778 None\n",
      "0.16721635477107583 None\n",
      "0.16696015675385048 None\n",
      "0.17082900449121746 None\n",
      "0.1708290044909762 None\n",
      "0.1669303695454947 None\n",
      "0.16693036954869275 None\n",
      "0.17082900449291735 None\n",
      "0.16696015620851268 None\n",
      "0.16693036954549997 None\n",
      "0.16696015620900986 None\n",
      "0.17461531716144937 None\n"
     ]
    },
    {
     "data": {
      "application/vnd.jupyter.widget-view+json": {
       "model_id": "a714abf19bed424fbb6e8a3dfff00505",
       "version_major": 2,
       "version_minor": 0
      },
      "text/plain": [
       "  0%|          | 0/2000 [00:00<?, ?it/s]"
      ]
     },
     "metadata": {},
     "output_type": "display_data"
    },
    {
     "name": "stdout",
     "output_type": "stream",
     "text": [
      "0.24779715119921866 None\n",
      "0.22534486900607772 None\n",
      "0.20843794138765873 None\n",
      "0.19318100547224162 None\n",
      "0.18348141808781548 None\n",
      "0.16830266343205957 None\n",
      "0.1590748615600189 None\n",
      "0.1598048848678103 None\n",
      "0.14741200876877777 None\n",
      "0.13974670564985056 None\n",
      "0.1354861158858948 None\n",
      "0.13123261160717858 None\n",
      "0.13078359758920444 None\n",
      "0.12460776073752344 None\n",
      "0.12300501431489116 None\n",
      "0.12200544268284275 None\n",
      "0.11649053272602967 None\n",
      "0.1147972760661804 None\n",
      "0.12121082120829309 None\n",
      "0.1198273349251291 None\n",
      "0.11499052097172477 None\n"
     ]
    },
    {
     "data": {
      "application/vnd.jupyter.widget-view+json": {
       "model_id": "131ae376209d42ec99a0ad2712253bf4",
       "version_major": 2,
       "version_minor": 0
      },
      "text/plain": [
       "  0%|          | 0/2000 [00:00<?, ?it/s]"
      ]
     },
     "metadata": {},
     "output_type": "display_data"
    },
    {
     "name": "stdout",
     "output_type": "stream",
     "text": [
      "0.239408497333958 None\n",
      "0.2192874463846695 None\n",
      "0.19666140613965338 None\n",
      "0.17923787467379812 None\n",
      "0.16720326045053144 None\n",
      "0.14886247095595473 None\n",
      "0.14043870360903482 None\n",
      "0.12976221366044285 None\n",
      "0.11759808233331438 None\n",
      "0.11484950914665706 None\n",
      "0.10896098418981816 None\n",
      "0.10007746198187552 None\n",
      "0.09833953134214456 None\n",
      "0.09436699967709436 None\n",
      "0.09469169227891151 None\n",
      "0.09170552106588874 None\n",
      "0.08296332014160457 None\n",
      "0.09091419724140452 None\n",
      "0.08296132571879065 None\n",
      "0.0869161877485997 None\n",
      "0.08296458433718616 None\n"
     ]
    },
    {
     "data": {
      "application/vnd.jupyter.widget-view+json": {
       "model_id": "d4ca2c23a1864b7292a2a58d2cf8c865",
       "version_major": 2,
       "version_minor": 0
      },
      "text/plain": [
       "  0%|          | 0/2000 [00:00<?, ?it/s]"
      ]
     },
     "metadata": {},
     "output_type": "display_data"
    },
    {
     "name": "stdout",
     "output_type": "stream",
     "text": [
      "0.23614071890761879 None\n",
      "0.21098075332525798 None\n",
      "0.19460489714969978 None\n",
      "0.1719795220396986 None\n",
      "0.1589159927242877 None\n",
      "0.1439987975654811 None\n",
      "0.1305406332076075 None\n",
      "0.11904852488500735 None\n",
      "0.10523479078256907 None\n",
      "0.09747085748290328 None\n",
      "0.09869330591334333 None\n",
      "0.08845672628805859 None\n",
      "0.08012964989158404 None\n",
      "0.0775416010928048 None\n",
      "0.07749670180995134 None\n",
      "0.07752193970383318 None\n",
      "0.08150693143235684 None\n",
      "0.07750780392678883 None\n",
      "0.07753771190175449 None\n",
      "0.08553534691659728 None\n",
      "0.07756318392567502 None\n"
     ]
    },
    {
     "data": {
      "application/vnd.jupyter.widget-view+json": {
       "model_id": "5963774256cc4f83b4aad89480267dbc",
       "version_major": 2,
       "version_minor": 0
      },
      "text/plain": [
       "  0%|          | 0/2000 [00:00<?, ?it/s]"
      ]
     },
     "metadata": {},
     "output_type": "display_data"
    },
    {
     "name": "stdout",
     "output_type": "stream",
     "text": [
      "0.23607844096534428 None\n",
      "0.21050759813127037 None\n",
      "0.18951199916705055 None\n",
      "0.17337081224728082 None\n",
      "0.15477646463263264 None\n",
      "0.13373473221565507 None\n",
      "0.11840338849458205 None\n",
      "0.1046145939153284 None\n",
      "0.09248107733177924 None\n",
      "0.08254811285836529 None\n",
      "0.07818403344346135 None\n",
      "0.07092357375417158 None\n",
      "0.06828544225625023 None\n",
      "0.06832228637699798 None\n",
      "0.06829171847188847 None\n",
      "0.07229614185635723 None\n",
      "0.06437346698921968 None\n",
      "0.06439519301686081 None\n",
      "0.06438408842295625 None\n",
      "0.0723373792236528 None\n",
      "0.06829526019184817 None\n"
     ]
    },
    {
     "data": {
      "application/vnd.jupyter.widget-view+json": {
       "model_id": "9b7f134e3f404d0eb1fab767413b526a",
       "version_major": 2,
       "version_minor": 0
      },
      "text/plain": [
       "  0%|          | 0/2000 [00:00<?, ?it/s]"
      ]
     },
     "metadata": {},
     "output_type": "display_data"
    },
    {
     "name": "stdout",
     "output_type": "stream",
     "text": [
      "0.2340002293505315 None\n",
      "0.20810159772925388 None\n",
      "0.19067653361768597 None\n",
      "0.17022744123091366 None\n",
      "0.14698869339134094 None\n",
      "0.12906335855927287 None\n",
      "0.11265769858329437 None\n",
      "0.09800459899765292 None\n",
      "0.0855331522849048 None\n",
      "0.07886732936830625 None\n",
      "0.06636757872054035 None\n",
      "0.06033801087933151 None\n",
      "0.06424114916452725 None\n",
      "0.06423157075060726 None\n",
      "0.06032411491690956 None\n",
      "0.0642435817063476 None\n",
      "0.06425715923175475 None\n",
      "0.06031831293663829 None\n",
      "0.06421985918016516 None\n",
      "0.0642822803097855 None\n",
      "0.0642405192653146 None\n"
     ]
    },
    {
     "data": {
      "application/vnd.jupyter.widget-view+json": {
       "model_id": "dc3a584eb4bb468485c213232a075a2a",
       "version_major": 2,
       "version_minor": 0
      },
      "text/plain": [
       "  0%|          | 0/2000 [00:00<?, ?it/s]"
      ]
     },
     "metadata": {},
     "output_type": "display_data"
    },
    {
     "name": "stdout",
     "output_type": "stream",
     "text": [
      "0.2297091376047585 None\n",
      "0.20757321199924536 None\n",
      "0.18581804564454074 None\n",
      "0.16468692433569232 None\n",
      "0.14869946776607018 None\n",
      "0.12614333232086045 None\n",
      "0.11329445942066019 None\n",
      "0.09846727461288311 None\n",
      "0.08517815597042282 None\n",
      "0.07332633578441212 None\n",
      "0.05904939429790848 None\n",
      "0.05805522431938362 None\n",
      "0.05413241303574838 None\n",
      "0.05413271403572571 None\n",
      "0.058060190525221135 None\n",
      "0.05411289422696433 None\n",
      "0.054107771359492504 None\n",
      "0.05811559389091993 None\n",
      "0.054118328141700756 None\n",
      "0.062055145156793494 None\n",
      "0.054111116522110814 None\n"
     ]
    },
    {
     "data": {
      "application/vnd.jupyter.widget-view+json": {
       "model_id": "2fc873ce2c954db090e437820d4546f1",
       "version_major": 2,
       "version_minor": 0
      },
      "text/plain": [
       "  0%|          | 0/2000 [00:00<?, ?it/s]"
      ]
     },
     "metadata": {},
     "output_type": "display_data"
    },
    {
     "name": "stdout",
     "output_type": "stream",
     "text": [
      "0.23228749897731787 None\n",
      "0.2059831345700699 None\n",
      "0.184236770210682 None\n",
      "0.17101862130781362 None\n",
      "0.14680276377439552 None\n",
      "0.12382961490348182 None\n",
      "0.11040509784663588 None\n",
      "0.09463188938323029 None\n",
      "0.07623516732810978 None\n",
      "0.0630247977999424 None\n",
      "0.05970388791046763 None\n",
      "0.048618499396775615 None\n",
      "0.05657048506054295 None\n",
      "0.05253280380016157 None\n",
      "0.05249904715442898 None\n",
      "0.04858341007519623 None\n",
      "0.052556928145866426 None\n",
      "0.052510429243848605 None\n",
      "0.04860432003256029 None\n",
      "0.04857944824168015 None\n",
      "0.05652094583917547 None\n"
     ]
    },
    {
     "data": {
      "application/vnd.jupyter.widget-view+json": {
       "model_id": "875605406b2e42fc8aa165e4114bc6da",
       "version_major": 2,
       "version_minor": 0
      },
      "text/plain": [
       "  0%|          | 0/2000 [00:00<?, ?it/s]"
      ]
     },
     "metadata": {},
     "output_type": "display_data"
    },
    {
     "name": "stdout",
     "output_type": "stream",
     "text": [
      "0.23137322027529078 None\n",
      "0.20876609370393265 None\n",
      "0.18265445865792382 None\n",
      "0.16114924970773134 None\n",
      "0.14458303605745745 None\n",
      "0.125219564436601 None\n",
      "0.10718437307864304 None\n",
      "0.09064138199284623 None\n",
      "0.07554661094829361 None\n",
      "0.05819945125223582 None\n",
      "0.046497401512767156 None\n",
      "0.048476311090347536 None\n",
      "0.048409046612916645 None\n",
      "0.04444878407041911 None\n",
      "0.0444496364000904 None\n",
      "0.0523686668649045 None\n",
      "0.04451510004714747 None\n",
      "0.04445802042720973 None\n",
      "0.04446272345551148 None\n",
      "0.0484164060956942 None\n",
      "0.04844848289809312 None\n"
     ]
    },
    {
     "data": {
      "application/vnd.jupyter.widget-view+json": {
       "model_id": "42e72fc4c87746ae8a3a9586cf504f73",
       "version_major": 2,
       "version_minor": 0
      },
      "text/plain": [
       "  0%|          | 0/2000 [00:00<?, ?it/s]"
      ]
     },
     "metadata": {},
     "output_type": "display_data"
    },
    {
     "name": "stdout",
     "output_type": "stream",
     "text": [
      "0.22668081202808638 None\n",
      "0.20392594667570088 None\n",
      "0.18154116134833842 None\n",
      "0.15999279575698797 None\n",
      "0.1392589488853515 None\n",
      "0.1196328395224554 None\n",
      "0.10119306991521157 None\n",
      "0.08798284706556679 None\n",
      "0.06831110241775533 None\n",
      "0.05814420576794059 None\n",
      "0.04996502141054974 None\n",
      "0.045908715087772105 None\n",
      "0.04200120379847156 None\n",
      "0.04198765006946703 None\n",
      "0.041998654173960225 None\n",
      "0.0459288338640352 None\n",
      "0.04595255658279305 None\n",
      "0.04199930912337899 None\n",
      "0.041976025725818704 None\n",
      "0.04592512373050935 None\n",
      "0.04197786466463089 None\n"
     ]
    },
    {
     "data": {
      "application/vnd.jupyter.widget-view+json": {
       "model_id": "b5a13147d95f4170b96776946521d6da",
       "version_major": 2,
       "version_minor": 0
      },
      "text/plain": [
       "  0%|          | 0/2000 [00:00<?, ?it/s]"
      ]
     },
     "metadata": {},
     "output_type": "display_data"
    },
    {
     "name": "stdout",
     "output_type": "stream",
     "text": [
      "0.22506848958973283 None\n",
      "0.2061823625990962 None\n",
      "0.18382275906135917 None\n",
      "0.1581004471603755 None\n",
      "0.14115706604000486 None\n",
      "0.11737966404073447 None\n",
      "0.10268082563262647 None\n",
      "0.085322785381612 None\n",
      "0.06921510372387189 None\n",
      "0.054621885905164536 None\n",
      "0.04388845202896313 None\n",
      "0.04379410221069397 None\n",
      "0.04375299870288176 None\n",
      "0.03977654014326632 None\n",
      "0.043715553797186446 None\n",
      "0.03979599506274985 None\n",
      "0.04375424322777173 None\n",
      "0.043698620387276316 None\n",
      "0.03981284423489274 None\n",
      "0.04375096414364971 None\n",
      "0.047732877864948314 None\n"
     ]
    },
    {
     "data": {
      "application/vnd.jupyter.widget-view+json": {
       "model_id": "17da75d7c1bb4b638c718fb8981929c9",
       "version_major": 2,
       "version_minor": 0
      },
      "text/plain": [
       "  0%|          | 0/2000 [00:00<?, ?it/s]"
      ]
     },
     "metadata": {},
     "output_type": "display_data"
    },
    {
     "name": "stdout",
     "output_type": "stream",
     "text": [
      "0.22640047667765414 None\n",
      "0.20357156927190465 None\n",
      "0.18502835308961718 None\n",
      "0.15926177750296255 None\n",
      "0.138460958263548 None\n",
      "0.11890133333376575 None\n",
      "0.10434845650599027 None\n",
      "0.08304537709337724 None\n",
      "0.06680160615797037 None\n",
      "0.0519408117010594 None\n",
      "0.0398555549424281 None\n",
      "0.043819613626531626 None\n",
      "0.039882786278013546 None\n",
      "0.04380309754290557 None\n",
      "0.04381341272017457 None\n",
      "0.03985364906443917 None\n",
      "0.0398636482281406 None\n",
      "0.04378192751116856 None\n",
      "0.04383992470750332 None\n",
      "0.03989909813168162 None\n",
      "0.04381487994291986 None\n"
     ]
    },
    {
     "data": {
      "application/vnd.jupyter.widget-view+json": {
       "model_id": "e0b3d0f58c42405c8c86ce143155f278",
       "version_major": 2,
       "version_minor": 0
      },
      "text/plain": [
       "  0%|          | 0/2000 [00:00<?, ?it/s]"
      ]
     },
     "metadata": {},
     "output_type": "display_data"
    },
    {
     "name": "stdout",
     "output_type": "stream",
     "text": [
      "0.22366817415449128 None\n",
      "0.2046999088812772 None\n",
      "0.18209090113236154 None\n",
      "0.1600541403789121 None\n",
      "0.13875667786929718 None\n",
      "0.11837977357455498 None\n",
      "0.09930936436603058 None\n",
      "0.08166520203195377 None\n",
      "0.06535045095298983 None\n",
      "0.046421827410729685 None\n",
      "0.04031987426530717 None\n",
      "0.040307600533481674 None\n",
      "0.040253970268315 None\n",
      "0.036314285995255983 None\n",
      "0.03633657819661957 None\n",
      "0.03633181624763008 None\n",
      "0.036324066534839654 None\n",
      "0.03631501866850318 None\n",
      "0.036331274526314544 None\n",
      "0.036314374116776675 None\n",
      "0.04026972686650048 None\n"
     ]
    },
    {
     "data": {
      "application/vnd.jupyter.widget-view+json": {
       "model_id": "7ce29b1bfdd04a1c8f3c7884c3319d28",
       "version_major": 2,
       "version_minor": 0
      },
      "text/plain": [
       "  0%|          | 0/2000 [00:00<?, ?it/s]"
      ]
     },
     "metadata": {},
     "output_type": "display_data"
    },
    {
     "name": "stdout",
     "output_type": "stream",
     "text": [
      "0.22599723681711895 None\n",
      "0.20702761098646064 None\n",
      "0.1804821460079863 None\n",
      "0.15838281887939934 None\n",
      "0.14100285440347363 None\n",
      "0.12054403751204835 None\n",
      "0.09718520407265187 None\n",
      "0.08289478408648036 None\n",
      "0.06223237287720888 None\n",
      "0.046771216482991484 None\n",
      "0.03687737446039571 None\n",
      "0.03681771160898414 None\n",
      "0.040753763102470864 None\n",
      "0.04076841691137212 None\n",
      "0.036788221464053625 None\n",
      "0.03679138048745079 None\n",
      "0.03677663147423127 None\n",
      "0.03680372102016071 None\n",
      "0.04072971009875851 None\n",
      "0.04070530696509076 None\n",
      "0.03683475284318941 None\n"
     ]
    },
    {
     "data": {
      "application/vnd.jupyter.widget-view+json": {
       "model_id": "f6f02df00193469b8e31fa78a36734cf",
       "version_major": 2,
       "version_minor": 0
      },
      "text/plain": [
       "  0%|          | 0/2000 [00:00<?, ?it/s]"
      ]
     },
     "metadata": {},
     "output_type": "display_data"
    },
    {
     "name": "stdout",
     "output_type": "stream",
     "text": [
      "0.22772400066422943 None\n",
      "0.20467155189274755 None\n",
      "0.18193327053024275 None\n",
      "0.15969144475387512 None\n",
      "0.1381987502112181 None\n",
      "0.11765937505857309 None\n",
      "0.0982714769712506 None\n",
      "0.08402952346627493 None\n",
      "0.06322746515699693 None\n",
      "0.051521017840850544 None\n",
      "0.03711034341091205 None\n",
      "0.04099513615860541 None\n",
      "0.041034220383385736 None\n",
      "0.04102431254477537 None\n",
      "0.040973246049814435 None\n",
      "0.04100322330572974 None\n",
      "0.037093601808669274 None\n",
      "0.040982981924281944 None\n",
      "0.041027755206220116 None\n",
      "0.04098916544824262 None\n",
      "0.04100178102641266 None\n"
     ]
    },
    {
     "data": {
      "application/vnd.jupyter.widget-view+json": {
       "model_id": "ff5c02345c54450580622c684ba5ebde",
       "version_major": 2,
       "version_minor": 0
      },
      "text/plain": [
       "  0%|          | 0/2000 [00:00<?, ?it/s]"
      ]
     },
     "metadata": {},
     "output_type": "display_data"
    },
    {
     "name": "stdout",
     "output_type": "stream",
     "text": [
      "0.22513656405482932 None\n",
      "0.20609606998083446 None\n",
      "0.1834388140917873 None\n",
      "0.16125739256985713 None\n",
      "0.1359376661727865 None\n",
      "0.1193350948544307 None\n",
      "0.09609343181171967 None\n",
      "0.08175972398744193 None\n",
      "0.06076980498266709 None\n",
      "0.0489382000881647 None\n",
      "0.03863380311989207 None\n",
      "0.03859630021371216 None\n",
      "0.03466152953674311 None\n",
      "0.03467313656325713 None\n",
      "0.034649311305462116 None\n",
      "0.03864710567641745 None\n",
      "0.03471698276019121 None\n",
      "0.038618297334973385 None\n",
      "0.038612382840781626 None\n",
      "0.034676174975981605 None\n",
      "0.03468258208003304 None\n"
     ]
    },
    {
     "data": {
      "application/vnd.jupyter.widget-view+json": {
       "model_id": "acaa560a61ac4a3b8ddda90cbdfb6114",
       "version_major": 2,
       "version_minor": 0
      },
      "text/plain": [
       "  0%|          | 0/2000 [00:00<?, ?it/s]"
      ]
     },
     "metadata": {},
     "output_type": "display_data"
    },
    {
     "name": "stdout",
     "output_type": "stream",
     "text": [
      "0.2261554317783001 None\n",
      "0.20313963382234282 None\n",
      "0.18039130377732837 None\n",
      "0.15811162769603537 None\n",
      "0.14045902010454156 None\n",
      "0.11584576743702518 None\n",
      "0.09617410008673374 None\n",
      "0.07761526192635247 None\n",
      "0.0602955833165024 None\n",
      "0.04419317266144287 None\n",
      "0.03798870270628808 None\n",
      "0.038029934093861066 None\n",
      "0.037988583160721255 None\n",
      "0.04204128197317497 None\n",
      "0.0420356300711912 None\n",
      "0.034111214812761435 None\n",
      "0.03413559462309052 None\n",
      "0.03803420834633807 None\n",
      "0.03805436440786079 None\n",
      "0.038084762434983196 None\n",
      "0.03409898390302971 None\n"
     ]
    },
    {
     "data": {
      "application/vnd.jupyter.widget-view+json": {
       "model_id": "f537572dd1684d14a3299920373cc3d9",
       "version_major": 2,
       "version_minor": 0
      },
      "text/plain": [
       "  0%|          | 0/2000 [00:00<?, ?it/s]"
      ]
     },
     "metadata": {},
     "output_type": "display_data"
    },
    {
     "name": "stdout",
     "output_type": "stream",
     "text": [
      "0.22553464515119023 None\n",
      "0.20247866810418857 None\n",
      "0.1796785295329064 None\n",
      "0.15736636879065774 None\n",
      "0.13573496659531242 None\n",
      "0.11493265195642034 None\n",
      "0.0952111408025983 None\n",
      "0.08041277243573482 None\n",
      "0.05896202173116375 None\n",
      "0.04666924431741677 None\n",
      "0.03280360824562302 None\n",
      "0.03280939364406564 None\n",
      "0.03677312806177474 None\n",
      "0.032804545234670246 None\n",
      "0.03279304948801662 None\n",
      "0.032811656858500245 None\n",
      "0.03282664820289415 None\n",
      "0.03674219687302631 None\n",
      "0.03673643837911658 None\n",
      "0.03278880489791236 None\n",
      "0.03674702307614684 None\n",
      "Done!\n"
     ]
    }
   ],
   "source": [
    "[distance_best, model_best] = loader(data_path(\"diluted_fitting_4qubit_8layer.model\"))\n",
    "rank_start = model_best.channel.rank\n",
    "\n",
    "distance_best, model_best = optimize_annulus_distance(spectrum_target = spectrum2, \n",
    "                                                      d = d, \n",
    "                                                      rank_start = rank_start, \n",
    "                                                      rank_step = 1,\n",
    "                                                      num_iter = 2000)\n",
    "\n",
    "model_best.optimizer = None\n",
    "saver([distance_best, model_best], data_path(\"diluted_fitting_4qubit_16layer.model\"))"
   ]
  },
  {
   "cell_type": "code",
   "execution_count": 56,
   "metadata": {},
   "outputs": [
    {
     "data": {
      "application/vnd.jupyter.widget-view+json": {
       "model_id": "25bf8af2fa4b49d0b98eed3ef2a3165d",
       "version_major": 2,
       "version_minor": 0
      },
      "text/plain": [
       "  0%|          | 0/2000 [00:00<?, ?it/s]"
      ]
     },
     "metadata": {},
     "output_type": "display_data"
    },
    {
     "name": "stdout",
     "output_type": "stream",
     "text": [
      "0.3420596885630752 None\n",
      "0.32294219985864436 None\n"
     ]
    },
    {
     "ename": "KeyboardInterrupt",
     "evalue": "",
     "output_type": "error",
     "traceback": [
      "\u001b[1;31m---------------------------------------------------------------------------\u001b[0m",
      "\u001b[1;31mKeyboardInterrupt\u001b[0m                         Traceback (most recent call last)",
      "Input \u001b[1;32mIn [56]\u001b[0m, in \u001b[0;36m<cell line: 4>\u001b[1;34m()\u001b[0m\n\u001b[0;32m      1\u001b[0m [distance_best, model_best] \u001b[38;5;241m=\u001b[39m loader(data_path(\u001b[38;5;124m\"\u001b[39m\u001b[38;5;124mdiluted_fitting_4qubit_16layer.model\u001b[39m\u001b[38;5;124m\"\u001b[39m))\n\u001b[0;32m      2\u001b[0m rank_start \u001b[38;5;241m=\u001b[39m model_best\u001b[38;5;241m.\u001b[39mchannel\u001b[38;5;241m.\u001b[39mrank\n\u001b[1;32m----> 4\u001b[0m distance_best, model_best \u001b[38;5;241m=\u001b[39m \u001b[43moptimize_annulus_distance\u001b[49m\u001b[43m(\u001b[49m\u001b[43mspectrum_target\u001b[49m\u001b[43m \u001b[49m\u001b[38;5;241;43m=\u001b[39;49m\u001b[43m \u001b[49m\u001b[43mspectrum3\u001b[49m\u001b[43m,\u001b[49m\u001b[43m \u001b[49m\n\u001b[0;32m      5\u001b[0m \u001b[43m                                                      \u001b[49m\u001b[43md\u001b[49m\u001b[43m \u001b[49m\u001b[38;5;241;43m=\u001b[39;49m\u001b[43m \u001b[49m\u001b[43md\u001b[49m\u001b[43m,\u001b[49m\u001b[43m \u001b[49m\n\u001b[0;32m      6\u001b[0m \u001b[43m                                                      \u001b[49m\u001b[43mrank_start\u001b[49m\u001b[43m \u001b[49m\u001b[38;5;241;43m=\u001b[39;49m\u001b[43m \u001b[49m\u001b[43mrank_start\u001b[49m\u001b[43m,\u001b[49m\u001b[43m \u001b[49m\n\u001b[0;32m      7\u001b[0m \u001b[43m                                                      \u001b[49m\u001b[43mrank_step\u001b[49m\u001b[43m \u001b[49m\u001b[38;5;241;43m=\u001b[39;49m\u001b[43m \u001b[49m\u001b[38;5;241;43m1\u001b[39;49m\u001b[43m,\u001b[49m\n\u001b[0;32m      8\u001b[0m \u001b[43m                                                      \u001b[49m\u001b[43mnum_iter\u001b[49m\u001b[43m \u001b[49m\u001b[38;5;241;43m=\u001b[39;49m\u001b[43m \u001b[49m\u001b[38;5;241;43m2000\u001b[39;49m\u001b[43m)\u001b[49m\n\u001b[0;32m     10\u001b[0m model_best\u001b[38;5;241m.\u001b[39moptimizer \u001b[38;5;241m=\u001b[39m \u001b[38;5;28;01mNone\u001b[39;00m\n\u001b[0;32m     11\u001b[0m saver([distance_best, model_best], data_path(\u001b[38;5;124m\"\u001b[39m\u001b[38;5;124mdiluted_fitting_4qubit_24layer.model\u001b[39m\u001b[38;5;124m\"\u001b[39m))\n",
      "Input \u001b[1;32mIn [40]\u001b[0m, in \u001b[0;36moptimize_annulus_distance\u001b[1;34m(spectrum_target, d, rank_start, rank_step, num_iter, lr)\u001b[0m\n\u001b[0;32m     12\u001b[0m \u001b[38;5;28;01mfor\u001b[39;00m rank \u001b[38;5;129;01min\u001b[39;00m \u001b[38;5;28mrange\u001b[39m(rank_start, d\u001b[38;5;241m*\u001b[39m\u001b[38;5;241m*\u001b[39m\u001b[38;5;241m2\u001b[39m\u001b[38;5;241m+\u001b[39mrank_step, rank_step): \n\u001b[0;32m     13\u001b[0m     model \u001b[38;5;241m=\u001b[39m ModelQuantumMap(channel \u001b[38;5;241m=\u001b[39m DilutedKrausMap(U\u001b[38;5;241m=\u001b[39mgenerate_haar_random(d, rng\u001b[38;5;241m=\u001b[39mrng), \n\u001b[0;32m     14\u001b[0m                                                       c\u001b[38;5;241m=\u001b[39m\u001b[38;5;241m0.5\u001b[39m, \n\u001b[0;32m     15\u001b[0m                                                       kraus_part\u001b[38;5;241m=\u001b[39mKrausMap(d, \n\u001b[1;32m   (...)\u001b[0m\n\u001b[0;32m     22\u001b[0m                                         verbose\u001b[38;5;241m=\u001b[39m\u001b[38;5;28;01mTrue\u001b[39;00m,),\n\u001b[0;32m     23\u001b[0m                         )\n\u001b[1;32m---> 24\u001b[0m     \u001b[43mmodel\u001b[49m\u001b[38;5;241;43m.\u001b[39;49m\u001b[43mtrain\u001b[49m\u001b[43m(\u001b[49m\u001b[43minputs\u001b[49m\u001b[43m \u001b[49m\u001b[38;5;241;43m=\u001b[39;49m\u001b[43m \u001b[49m\u001b[38;5;28;43;01mNone\u001b[39;49;00m\u001b[43m,\u001b[49m\n\u001b[0;32m     25\u001b[0m \u001b[43m                \u001b[49m\u001b[43mtargets\u001b[49m\u001b[43m \u001b[49m\u001b[38;5;241;43m=\u001b[39;49m\u001b[43m \u001b[49m\u001b[43m[\u001b[49m\u001b[43mspectrum_target\u001b[49m\u001b[43m]\u001b[49m\u001b[43m,\u001b[49m\n\u001b[0;32m     26\u001b[0m \u001b[43m                \u001b[49m\u001b[43mnum_iter\u001b[49m\u001b[43m \u001b[49m\u001b[38;5;241;43m=\u001b[39;49m\u001b[43m \u001b[49m\u001b[43mnum_iter\u001b[49m\u001b[43m,\u001b[49m\n\u001b[0;32m     27\u001b[0m \u001b[43m                \u001b[49m\n\u001b[0;32m     28\u001b[0m \u001b[43m               \u001b[49m\u001b[43m)\u001b[49m\n\u001b[0;32m     30\u001b[0m     model_list\u001b[38;5;241m.\u001b[39mappend(model)\n\u001b[0;32m     31\u001b[0m     distance_list\u001b[38;5;241m.\u001b[39mappend(model\u001b[38;5;241m.\u001b[39mlogger\u001b[38;5;241m.\u001b[39mloss_train_list[\u001b[38;5;241m-\u001b[39m\u001b[38;5;241m1\u001b[39m])\n",
      "File \u001b[1;32m~\\Documents\\ModelNISQ\\notebooks\\experiments\\../../src_tf\\optimization.py:118\u001b[0m, in \u001b[0;36mModelQuantumMap.train\u001b[1;34m(self, inputs, targets, inputs_val, targets_val, num_iter, N, verbose)\u001b[0m\n\u001b[0;32m    116\u001b[0m     loss \u001b[38;5;241m=\u001b[39m \u001b[38;5;241m0\u001b[39m\n\u001b[0;32m    117\u001b[0m     \u001b[38;5;28;01mfor\u001b[39;00m loss_function \u001b[38;5;129;01min\u001b[39;00m \u001b[38;5;28mself\u001b[39m\u001b[38;5;241m.\u001b[39mloss_function:\n\u001b[1;32m--> 118\u001b[0m         loss \u001b[38;5;241m+\u001b[39m\u001b[38;5;241m=\u001b[39m \u001b[43mloss_function\u001b[49m\u001b[43m(\u001b[49m\u001b[38;5;28;43mself\u001b[39;49m\u001b[38;5;241;43m.\u001b[39;49m\u001b[43mchannel\u001b[49m\u001b[43m,\u001b[49m\u001b[43m \u001b[49m\u001b[43minputs_batch\u001b[49m\u001b[43m,\u001b[49m\u001b[43m \u001b[49m\u001b[43mtargets_batch\u001b[49m\u001b[43m)\u001b[49m\n\u001b[0;32m    120\u001b[0m grads \u001b[38;5;241m=\u001b[39m tape\u001b[38;5;241m.\u001b[39mgradient(loss, \u001b[38;5;28mself\u001b[39m\u001b[38;5;241m.\u001b[39mchannel\u001b[38;5;241m.\u001b[39mparameter_list)\n\u001b[0;32m    121\u001b[0m \u001b[38;5;28mself\u001b[39m\u001b[38;5;241m.\u001b[39moptimizer\u001b[38;5;241m.\u001b[39mapply_gradients(\u001b[38;5;28mzip\u001b[39m(grads, \u001b[38;5;28mself\u001b[39m\u001b[38;5;241m.\u001b[39mchannel\u001b[38;5;241m.\u001b[39mparameter_list))\n",
      "File \u001b[1;32m~\\Documents\\ModelNISQ\\notebooks\\experiments\\../../src_tf\\loss_functions.py:226\u001b[0m, in \u001b[0;36mAnnulusDistance.__call__\u001b[1;34m(self, channel, input, target)\u001b[0m\n\u001b[0;32m    224\u001b[0m \u001b[38;5;28;01mdef\u001b[39;00m \u001b[38;5;21m__call__\u001b[39m(\u001b[38;5;28mself\u001b[39m, channel, \u001b[38;5;28minput\u001b[39m, target):\n\u001b[0;32m    225\u001b[0m     spectrum_target \u001b[38;5;241m=\u001b[39m target[\u001b[38;5;241m0\u001b[39m]\n\u001b[1;32m--> 226\u001b[0m     spectrum_model \u001b[38;5;241m=\u001b[39m \u001b[43mchannel_spectrum\u001b[49m\u001b[43m(\u001b[49m\u001b[43mchannel\u001b[49m\u001b[43m,\u001b[49m\u001b[43m \u001b[49m\u001b[43muse_coords\u001b[49m\u001b[38;5;241;43m=\u001b[39;49m\u001b[38;5;28;43;01mTrue\u001b[39;49;00m\u001b[43m)\u001b[49m\n\u001b[0;32m    228\u001b[0m     r_mean1, r_std1, a_mean1, a_std1 \u001b[38;5;241m=\u001b[39m \u001b[38;5;28mself\u001b[39m\u001b[38;5;241m.\u001b[39mspectrum_to_momenta(spectrum_model)\n\u001b[0;32m    229\u001b[0m     r_mean2, r_std2, a_mean2, a_std2 \u001b[38;5;241m=\u001b[39m \u001b[38;5;28mself\u001b[39m\u001b[38;5;241m.\u001b[39mspectrum_to_momenta(spectrum_target)\n",
      "File \u001b[1;32m~\\Documents\\ModelNISQ\\notebooks\\experiments\\../../src_tf\\spectrum.py:20\u001b[0m, in \u001b[0;36mchannel_spectrum\u001b[1;34m(input, use_coords, keep_real, keep_unity, tol)\u001b[0m\n\u001b[0;32m     18\u001b[0m \u001b[38;5;28;01mdef\u001b[39;00m \u001b[38;5;21mchannel_spectrum\u001b[39m(\u001b[38;5;28minput\u001b[39m, use_coords\u001b[38;5;241m=\u001b[39m\u001b[38;5;28;01mTrue\u001b[39;00m, keep_real\u001b[38;5;241m=\u001b[39m\u001b[38;5;28;01mTrue\u001b[39;00m, keep_unity\u001b[38;5;241m=\u001b[39m\u001b[38;5;28;01mTrue\u001b[39;00m, tol\u001b[38;5;241m=\u001b[39m\u001b[38;5;241m1e-4\u001b[39m):\n\u001b[0;32m     19\u001b[0m     \u001b[38;5;28;01mif\u001b[39;00m \u001b[38;5;28misinstance\u001b[39m(\u001b[38;5;28minput\u001b[39m, Channel):\n\u001b[1;32m---> 20\u001b[0m         eig, _ \u001b[38;5;241m=\u001b[39m \u001b[43mtf\u001b[49m\u001b[38;5;241;43m.\u001b[39;49m\u001b[43mlinalg\u001b[49m\u001b[38;5;241;43m.\u001b[39;49m\u001b[43meig\u001b[49m\u001b[43m(\u001b[49m\u001b[43mreshuffle\u001b[49m\u001b[43m(\u001b[49m\u001b[38;5;28;43minput\u001b[39;49m\u001b[38;5;241;43m.\u001b[39;49m\u001b[43mchoi\u001b[49m\u001b[43m)\u001b[49m\u001b[43m)\u001b[49m\n\u001b[0;32m     21\u001b[0m         eig \u001b[38;5;241m=\u001b[39m tf\u001b[38;5;241m.\u001b[39mexpand_dims(eig, axis\u001b[38;5;241m=\u001b[39m\u001b[38;5;241m1\u001b[39m)\n\u001b[0;32m     22\u001b[0m     \u001b[38;5;28;01melse\u001b[39;00m:\n",
      "File \u001b[1;32m~\\anaconda3\\envs\\env_qiskit\\lib\\site-packages\\tensorflow\\python\\util\\traceback_utils.py:150\u001b[0m, in \u001b[0;36mfilter_traceback.<locals>.error_handler\u001b[1;34m(*args, **kwargs)\u001b[0m\n\u001b[0;32m    148\u001b[0m filtered_tb \u001b[38;5;241m=\u001b[39m \u001b[38;5;28;01mNone\u001b[39;00m\n\u001b[0;32m    149\u001b[0m \u001b[38;5;28;01mtry\u001b[39;00m:\n\u001b[1;32m--> 150\u001b[0m   \u001b[38;5;28;01mreturn\u001b[39;00m fn(\u001b[38;5;241m*\u001b[39margs, \u001b[38;5;241m*\u001b[39m\u001b[38;5;241m*\u001b[39mkwargs)\n\u001b[0;32m    151\u001b[0m \u001b[38;5;28;01mexcept\u001b[39;00m \u001b[38;5;167;01mException\u001b[39;00m \u001b[38;5;28;01mas\u001b[39;00m e:\n\u001b[0;32m    152\u001b[0m   filtered_tb \u001b[38;5;241m=\u001b[39m _process_traceback_frames(e\u001b[38;5;241m.\u001b[39m__traceback__)\n",
      "File \u001b[1;32m~\\anaconda3\\envs\\env_qiskit\\lib\\site-packages\\tensorflow\\python\\util\\dispatch.py:1082\u001b[0m, in \u001b[0;36madd_dispatch_support.<locals>.decorator.<locals>.op_dispatch_handler\u001b[1;34m(*args, **kwargs)\u001b[0m\n\u001b[0;32m   1080\u001b[0m \u001b[38;5;66;03m# Fallback dispatch system (dispatch v1):\u001b[39;00m\n\u001b[0;32m   1081\u001b[0m \u001b[38;5;28;01mtry\u001b[39;00m:\n\u001b[1;32m-> 1082\u001b[0m   \u001b[38;5;28;01mreturn\u001b[39;00m dispatch_target(\u001b[38;5;241m*\u001b[39margs, \u001b[38;5;241m*\u001b[39m\u001b[38;5;241m*\u001b[39mkwargs)\n\u001b[0;32m   1083\u001b[0m \u001b[38;5;28;01mexcept\u001b[39;00m (\u001b[38;5;167;01mTypeError\u001b[39;00m, \u001b[38;5;167;01mValueError\u001b[39;00m):\n\u001b[0;32m   1084\u001b[0m   \u001b[38;5;66;03m# Note: convert_to_eager_tensor currently raises a ValueError, not a\u001b[39;00m\n\u001b[0;32m   1085\u001b[0m   \u001b[38;5;66;03m# TypeError, when given unexpected types.  So we need to catch both.\u001b[39;00m\n\u001b[0;32m   1086\u001b[0m   result \u001b[38;5;241m=\u001b[39m dispatch(op_dispatch_handler, args, kwargs)\n",
      "File \u001b[1;32m~\\anaconda3\\envs\\env_qiskit\\lib\\site-packages\\tensorflow\\python\\ops\\linalg_ops.py:405\u001b[0m, in \u001b[0;36meig\u001b[1;34m(tensor, name)\u001b[0m\n\u001b[0;32m    403\u001b[0m \u001b[38;5;28;01melif\u001b[39;00m tensor\u001b[38;5;241m.\u001b[39mdtype \u001b[38;5;241m==\u001b[39m dtypes\u001b[38;5;241m.\u001b[39mfloat64 \u001b[38;5;129;01mor\u001b[39;00m tensor\u001b[38;5;241m.\u001b[39mdtype \u001b[38;5;241m==\u001b[39m dtypes\u001b[38;5;241m.\u001b[39mcomplex128:\n\u001b[0;32m    404\u001b[0m   out_dtype \u001b[38;5;241m=\u001b[39m dtypes\u001b[38;5;241m.\u001b[39mcomplex128\n\u001b[1;32m--> 405\u001b[0m e, v \u001b[38;5;241m=\u001b[39m \u001b[43mgen_linalg_ops\u001b[49m\u001b[38;5;241;43m.\u001b[39;49m\u001b[43meig\u001b[49m\u001b[43m(\u001b[49m\u001b[43mtensor\u001b[49m\u001b[43m,\u001b[49m\u001b[43m \u001b[49m\u001b[43mTout\u001b[49m\u001b[38;5;241;43m=\u001b[39;49m\u001b[43mout_dtype\u001b[49m\u001b[43m,\u001b[49m\u001b[43m \u001b[49m\u001b[43mcompute_v\u001b[49m\u001b[38;5;241;43m=\u001b[39;49m\u001b[38;5;28;43;01mTrue\u001b[39;49;00m\u001b[43m,\u001b[49m\u001b[43m \u001b[49m\u001b[43mname\u001b[49m\u001b[38;5;241;43m=\u001b[39;49m\u001b[43mname\u001b[49m\u001b[43m)\u001b[49m\n\u001b[0;32m    406\u001b[0m \u001b[38;5;28;01mreturn\u001b[39;00m e, v\n",
      "File \u001b[1;32m~\\anaconda3\\envs\\env_qiskit\\lib\\site-packages\\tensorflow\\python\\ops\\gen_linalg_ops.py:939\u001b[0m, in \u001b[0;36meig\u001b[1;34m(input, Tout, compute_v, name)\u001b[0m\n\u001b[0;32m    937\u001b[0m \u001b[38;5;28;01mif\u001b[39;00m tld\u001b[38;5;241m.\u001b[39mis_eager:\n\u001b[0;32m    938\u001b[0m   \u001b[38;5;28;01mtry\u001b[39;00m:\n\u001b[1;32m--> 939\u001b[0m     _result \u001b[38;5;241m=\u001b[39m \u001b[43mpywrap_tfe\u001b[49m\u001b[38;5;241;43m.\u001b[39;49m\u001b[43mTFE_Py_FastPathExecute\u001b[49m\u001b[43m(\u001b[49m\n\u001b[0;32m    940\u001b[0m \u001b[43m      \u001b[49m\u001b[43m_ctx\u001b[49m\u001b[43m,\u001b[49m\u001b[43m \u001b[49m\u001b[38;5;124;43m\"\u001b[39;49m\u001b[38;5;124;43mEig\u001b[39;49m\u001b[38;5;124;43m\"\u001b[39;49m\u001b[43m,\u001b[49m\u001b[43m \u001b[49m\u001b[43mname\u001b[49m\u001b[43m,\u001b[49m\u001b[43m \u001b[49m\u001b[38;5;28;43minput\u001b[39;49m\u001b[43m,\u001b[49m\u001b[43m \u001b[49m\u001b[38;5;124;43m\"\u001b[39;49m\u001b[38;5;124;43mcompute_v\u001b[39;49m\u001b[38;5;124;43m\"\u001b[39;49m\u001b[43m,\u001b[49m\u001b[43m \u001b[49m\u001b[43mcompute_v\u001b[49m\u001b[43m,\u001b[49m\u001b[43m \u001b[49m\u001b[38;5;124;43m\"\u001b[39;49m\u001b[38;5;124;43mTout\u001b[39;49m\u001b[38;5;124;43m\"\u001b[39;49m\u001b[43m,\u001b[49m\u001b[43m \u001b[49m\u001b[43mTout\u001b[49m\u001b[43m)\u001b[49m\n\u001b[0;32m    941\u001b[0m     _result \u001b[38;5;241m=\u001b[39m _EigOutput\u001b[38;5;241m.\u001b[39m_make(_result)\n\u001b[0;32m    942\u001b[0m     \u001b[38;5;28;01mreturn\u001b[39;00m _result\n",
      "\u001b[1;31mKeyboardInterrupt\u001b[0m: "
     ]
    }
   ],
   "source": [
    "[distance_best, model_best] = loader(data_path(\"diluted_fitting_4qubit_16layer.model\"))\n",
    "rank_start = model_best.channel.rank\n",
    "\n",
    "distance_best, model_best = optimize_annulus_distance(spectrum_target = spectrum3, \n",
    "                                                      d = d, \n",
    "                                                      rank_start = rank_start, \n",
    "                                                      rank_step = 1,\n",
    "                                                      num_iter = 2000)\n",
    "\n",
    "model_best.optimizer = None\n",
    "saver([distance_best, model_best], data_path(\"diluted_fitting_4qubit_24layer.model\"))"
   ]
  },
  {
   "cell_type": "code",
   "execution_count": null,
   "metadata": {},
   "outputs": [],
   "source": [
    "[distance_best, model_best] = loader(data_path(\"diluted_fitting_4qubit_24layer.model\"))\n",
    "rank_start = model_best.channel.rank\n",
    "\n",
    "distance_best, model_best = optimize_annulus_distance(spectrum_target = spectrum4, \n",
    "                                                      d = d, \n",
    "                                                      rank_start = rank_start, \n",
    "                                                      rank_step = 1,\n",
    "                                                      num_iter = 2000)\n",
    "\n",
    "model_best.optimizer = None\n",
    "saver([distance_best, model_best], data_path(\"diluted_fitting_4qubit_32layer.model\"))"
   ]
  },
  {
   "cell_type": "code",
   "execution_count": null,
   "metadata": {},
   "outputs": [],
   "source": []
  }
 ],
 "metadata": {
  "kernelspec": {
   "display_name": "env_qiskit",
   "language": "python",
   "name": "env_qiskit"
  },
  "language_info": {
   "codemirror_mode": {
    "name": "ipython",
    "version": 3
   },
   "file_extension": ".py",
   "mimetype": "text/x-python",
   "name": "python",
   "nbconvert_exporter": "python",
   "pygments_lexer": "ipython3",
   "version": "3.10.4"
  }
 },
 "nbformat": 4,
 "nbformat_minor": 4
}
