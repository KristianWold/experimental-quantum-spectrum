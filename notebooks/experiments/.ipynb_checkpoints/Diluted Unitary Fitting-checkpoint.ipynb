{
 "cells": [
  {
   "cell_type": "markdown",
   "metadata": {},
   "source": [
    "# Diluted Unitary Fitting"
   ]
  },
  {
   "cell_type": "code",
   "execution_count": 28,
   "metadata": {},
   "outputs": [],
   "source": [
    "import sys\n",
    "sys.path.insert(0, '../../src_tf/')\n",
    "\n",
    "import numpy as np\n",
    "import qiskit as qk\n",
    "import matplotlib.pyplot as plt\n",
    "import multiprocessing as mp\n",
    "import random\n",
    "import pickle\n",
    "\n",
    "from qiskit.quantum_info import DensityMatrix, random_unitary\n",
    "from qiskit.quantum_info import Operator\n",
    "from scipy.linalg import sqrtm\n",
    "from tqdm.notebook import tqdm\n",
    "from math import ceil\n",
    "\n",
    "from loss_functions import *\n",
    "from optimization import *\n",
    "from quantum_channel import *\n",
    "from kraus_channels import *\n",
    "from quantum_tools import *\n",
    "from experimental import *\n",
    "from spam import *\n",
    "from scipy.stats import gaussian_kde\n",
    "from quantum_circuits import *\n",
    "from analysis import *\n",
    "from utils import *\n",
    "\n",
    "#np.set_printoptions(threshold=sys.maxsize)\n",
    "np.set_printoptions(precision=4)\n",
    "\n",
    "import os\n",
    "os.environ[\"CUDA_VISIBLE_DEVICES\"] = \"-1\""
   ]
  },
  {
   "cell_type": "code",
   "execution_count": 32,
   "metadata": {},
   "outputs": [],
   "source": [
    "def optimize_annulus_distance(spectrum_target = None, \n",
    "                              d = None, \n",
    "                              rank_start = 1, \n",
    "                              rank_step = 1,\n",
    "                              num_iter = 1000,\n",
    "                              lr = 0.001): \n",
    "    \n",
    "    model_list = []\n",
    "    distance_list = []\n",
    "\n",
    "    for rank in range(rank_start, d**2+rank_step, rank_step): \n",
    "        model = ModelQuantumMap(channel = DilutedKrausMap(U=generate_haar_random(d, rng=rng), \n",
    "                                                          c=0.5, \n",
    "                                                          kraus_part=KrausMap(d, \n",
    "                                                                              rank=rank, \n",
    "                                                                              trainable=False),\n",
    "                                                     ),\n",
    "                            loss_function = AnnulusDistance(),\n",
    "                            optimizer = tf.optimizers.Adam(learning_rate=lr),\n",
    "                            logger = Logger(loss_function = AnnulusDistance(), \n",
    "                                            verbose=True,),\n",
    "                            )\n",
    "        model.train(inputs = None,\n",
    "                    targets = [spectrum_target],\n",
    "                    num_iter = num_iter,\n",
    "                    \n",
    "                   )\n",
    "\n",
    "        model_list.append(model)\n",
    "        distance_list.append(model.logger.loss_train_list[-1])\n",
    "        idx = np.argmin(distance_list)\n",
    "        \n",
    "        if distance_list[idx]<distance_list[-1]:\n",
    "            print(\"Done!\")\n",
    "            break\n",
    "            \n",
    "    \n",
    "    idx = np.argmin(distance_list)\n",
    "    distance_best = distance_list[idx]\n",
    "    model_best = model_list[idx]\n",
    "\n",
    "    return distance_best, model_best\n",
    "\n",
    "def fit_diluted_unitary(spectrum_target_list, \n",
    "                        d, \n",
    "                        rank_start, \n",
    "                        rank_step,\n",
    "                        num_iter = 1000,\n",
    "                        lr = 0.001):\n",
    "    \n",
    "    distance_best_list = []\n",
    "    model_best_list = []\n",
    "    for spectrum_target in tqdm(spectrum_target_list):\n",
    "        U = generate_haar_random(d, rng) \n",
    "        distance_best, model_best = optimize_annulus_distance(spectrum_target,\n",
    "                                                              d,\n",
    "                                                              rank_start,\n",
    "                                                              rank_step,\n",
    "                                                              num_iter = num_iter,\n",
    "                                                              lr = lr)\n",
    "        distance_best_list.append(distance_best)\n",
    "        model_best_list.append(model_best)\n",
    "    \n",
    "    for model in model_best_list:\n",
    "        model.optimizer = None\n",
    "        \n",
    "    return distance_best_list, model_best_list"
   ]
  },
  {
   "cell_type": "markdown",
   "metadata": {},
   "source": [
    "## Three Qubits"
   ]
  },
  {
   "cell_type": "code",
   "execution_count": 33,
   "metadata": {
    "scrolled": true
   },
   "outputs": [],
   "source": [
    "[channel_list1, channel_list2, channel_list3, channel_list4, channel_list5, channel_list6, channel_list7] = loader(data_path(\"channel_fullRank_belem_longTrain.p\"))\n",
    "\n",
    "spectrum_target_list1 = [channel_spectrum(channel) for channel in channel_list1]\n",
    "spectrum_target_list2 = [channel_spectrum(channel) for channel in channel_list2]\n",
    "spectrum_target_list3 = [channel_spectrum(channel) for channel in channel_list3]\n",
    "spectrum_target_list4 = [channel_spectrum(channel) for channel in channel_list4]\n",
    "spectrum_target_list5 = [channel_spectrum(channel) for channel in channel_list5]\n",
    "spectrum_target_list6 = [channel_spectrum(channel) for channel in channel_list6]\n",
    "spectrum_target_list7 = [channel_spectrum(channel) for channel in channel_list7]"
   ]
  },
  {
   "cell_type": "code",
   "execution_count": 27,
   "metadata": {
    "scrolled": true
   },
   "outputs": [
    {
     "data": {
      "application/vnd.jupyter.widget-view+json": {
       "model_id": "32d531bc3793414f8739acb3fff2f309",
       "version_major": 2,
       "version_minor": 0
      },
      "text/plain": [
       "  0%|          | 0/10 [00:00<?, ?it/s]"
      ]
     },
     "metadata": {},
     "output_type": "display_data"
    },
    {
     "data": {
      "application/vnd.jupyter.widget-view+json": {
       "model_id": "59ef804f114741d6bc6807dc6bb587de",
       "version_major": 2,
       "version_minor": 0
      },
      "text/plain": [
       "  0%|          | 0/1000 [00:00<?, ?it/s]"
      ]
     },
     "metadata": {},
     "output_type": "display_data"
    },
    {
     "name": "stdout",
     "output_type": "stream",
     "text": [
      "0.30029435965748985 None\n",
      "0.20166387171206865 None\n",
      "0.1104181649126266 None\n",
      "0.05072725717647838 None\n",
      "0.03797191621623246 None\n",
      "0.037907903859150126 None\n",
      "0.03793770646845727 None\n",
      "0.03790832107017196 None\n",
      "0.03798527839694749 None\n",
      "0.03802012739180638 None\n",
      "0.03799163300137988 None\n"
     ]
    },
    {
     "data": {
      "application/vnd.jupyter.widget-view+json": {
       "model_id": "2d9e079d382c48c1aca341f6c049a68d",
       "version_major": 2,
       "version_minor": 0
      },
      "text/plain": [
       "  0%|          | 0/1000 [00:00<?, ?it/s]"
      ]
     },
     "metadata": {},
     "output_type": "display_data"
    },
    {
     "name": "stdout",
     "output_type": "stream",
     "text": [
      "0.2569890915237481 None\n",
      "0.1757153020919602 None\n",
      "0.1060481038934677 None\n",
      "0.0439851982995776 None\n",
      "0.012221095546913896 None\n",
      "0.02854926548795018 None\n",
      "0.012205257031434815 None\n",
      "0.028489954847429177 None\n",
      "0.028557789466546645 None\n",
      "0.012259161778951824 None\n",
      "0.02856357879923998 None\n"
     ]
    },
    {
     "data": {
      "application/vnd.jupyter.widget-view+json": {
       "model_id": "39ce834d1ba448a3a37598c374c37d75",
       "version_major": 2,
       "version_minor": 0
      },
      "text/plain": [
       "  0%|          | 0/1000 [00:00<?, ?it/s]"
      ]
     },
     "metadata": {},
     "output_type": "display_data"
    },
    {
     "name": "stdout",
     "output_type": "stream",
     "text": [
      "0.2315391068405061 None\n",
      "0.14548493731993228 None\n",
      "0.07937410616894539 None\n",
      "0.01971146195117349 None\n",
      "0.00823669632762884 None\n",
      "0.008197315420456538 None\n",
      "0.008285902275368049 None\n",
      "0.0082365693739571 None\n",
      "0.008186829256102713 None\n",
      "0.008189101114128095 None\n",
      "0.008257157365343732 None\n"
     ]
    },
    {
     "data": {
      "application/vnd.jupyter.widget-view+json": {
       "model_id": "ac4fc7d4945a4ce08aed07494490f130",
       "version_major": 2,
       "version_minor": 0
      },
      "text/plain": [
       "  0%|          | 0/1000 [00:00<?, ?it/s]"
      ]
     },
     "metadata": {},
     "output_type": "display_data"
    },
    {
     "name": "stdout",
     "output_type": "stream",
     "text": [
      "0.22303324668688596 None\n",
      "0.14976665157354815 None\n",
      "0.08204459639886559 None\n",
      "0.020854956457529984 None\n",
      "0.004043678370026576 None\n",
      "0.004060990384051014 None\n",
      "0.004190194604588113 None\n",
      "0.004080215497585766 None\n",
      "0.00407584718301399 None\n",
      "0.004004674963633815 None\n",
      "0.004145572035780001 None\n"
     ]
    },
    {
     "data": {
      "application/vnd.jupyter.widget-view+json": {
       "model_id": "1a5fe25cc52f4c1bba4653e28560b411",
       "version_major": 2,
       "version_minor": 0
      },
      "text/plain": [
       "  0%|          | 0/1000 [00:00<?, ?it/s]"
      ]
     },
     "metadata": {},
     "output_type": "display_data"
    },
    {
     "name": "stdout",
     "output_type": "stream",
     "text": [
      "0.2183311582000258 None\n",
      "0.1470294972363874 None\n",
      "0.08001452661266452 None\n",
      "0.01957572660281195 None\n",
      "0.002612993875218691 None\n",
      "0.0026349728217829184 None\n",
      "0.0027136127646838434 None\n",
      "0.0027243427777515995 None\n",
      "0.002591104484159761 None\n",
      "0.0026244381154905874 None\n",
      "0.002588792064473292 None\n"
     ]
    },
    {
     "data": {
      "application/vnd.jupyter.widget-view+json": {
       "model_id": "a1177dcf9dd7496d8ec2f906ea3cb6c3",
       "version_major": 2,
       "version_minor": 0
      },
      "text/plain": [
       "  0%|          | 0/1000 [00:00<?, ?it/s]"
      ]
     },
     "metadata": {},
     "output_type": "display_data"
    },
    {
     "name": "stdout",
     "output_type": "stream",
     "text": [
      "0.21515369682129737 None\n",
      "0.14469142146948435 None\n",
      "0.07760623587047272 None\n",
      "0.016800776287126288 None\n",
      "0.0035241463414050177 None\n",
      "0.0035039468419895588 None\n",
      "0.0036045649568167658 None\n",
      "0.0035108450839383587 None\n",
      "0.003559279411269785 None\n",
      "0.0035192083946266437 None\n",
      "0.0035493237342244487 None\n"
     ]
    },
    {
     "data": {
      "application/vnd.jupyter.widget-view+json": {
       "model_id": "1a016f9d58ca46f59acfe63cdae86277",
       "version_major": 2,
       "version_minor": 0
      },
      "text/plain": [
       "  0%|          | 0/1000 [00:00<?, ?it/s]"
      ]
     },
     "metadata": {},
     "output_type": "display_data"
    },
    {
     "name": "stdout",
     "output_type": "stream",
     "text": [
      "0.21194495224349574 None\n",
      "0.14250918639036034 None\n",
      "0.07681582399858691 None\n",
      "0.016797172557276228 None\n",
      "0.0017413096363551295 None\n",
      "0.00178939109775916 None\n",
      "0.0017454408279922468 None\n",
      "0.0017952762386481069 None\n",
      "0.0017317666450050245 None\n",
      "0.0017988367446608415 None\n",
      "0.0017346447109480932 None\n"
     ]
    },
    {
     "data": {
      "application/vnd.jupyter.widget-view+json": {
       "model_id": "041f74e82c384302a72285cc10d2036f",
       "version_major": 2,
       "version_minor": 0
      },
      "text/plain": [
       "  0%|          | 0/1000 [00:00<?, ?it/s]"
      ]
     },
     "metadata": {},
     "output_type": "display_data"
    },
    {
     "name": "stdout",
     "output_type": "stream",
     "text": [
      "0.2285128762287046 None\n",
      "0.1593042756294823 None\n",
      "0.07683343361405792 None\n",
      "0.032644431244147176 None\n",
      "0.003314495121302934 None\n",
      "0.019676175174790252 None\n",
      "0.01967689791874449 None\n",
      "0.0033093106424177225 None\n",
      "0.019628125319733708 None\n",
      "0.019595040024679076 None\n",
      "0.019661265158842967 None\n",
      "Done!\n"
     ]
    },
    {
     "data": {
      "application/vnd.jupyter.widget-view+json": {
       "model_id": "720e261671cb4ee0b984fab0a1840d48",
       "version_major": 2,
       "version_minor": 0
      },
      "text/plain": [
       "  0%|          | 0/1000 [00:00<?, ?it/s]"
      ]
     },
     "metadata": {},
     "output_type": "display_data"
    },
    {
     "name": "stdout",
     "output_type": "stream",
     "text": [
      "0.3564044349328411 None\n",
      "0.25277841508942356 None\n",
      "0.13906499543169842 None\n",
      "0.08612466500840384 None\n",
      "0.049019602359283515 None\n",
      "0.048856906230030334 None\n",
      "0.04889809808677695 None\n",
      "0.06531823180736111 None\n",
      "0.06522666060799917 None\n",
      "0.04900790620150239 None\n",
      "0.06523214215312825 None\n"
     ]
    },
    {
     "data": {
      "application/vnd.jupyter.widget-view+json": {
       "model_id": "461e50d2d98f4261b6b0a18dcd291483",
       "version_major": 2,
       "version_minor": 0
      },
      "text/plain": [
       "  0%|          | 0/1000 [00:00<?, ?it/s]"
      ]
     },
     "metadata": {},
     "output_type": "display_data"
    },
    {
     "name": "stdout",
     "output_type": "stream",
     "text": [
      "0.263137594968028 None\n",
      "0.1900164592999452 None\n",
      "0.12218623536409037 None\n",
      "0.06090512610808693 None\n",
      "0.025336586470906895 None\n",
      "0.025355963255571653 None\n",
      "0.02537148231493008 None\n",
      "0.025326523907499406 None\n",
      "0.025397130442905355 None\n",
      "0.025309104078743233 None\n",
      "0.025414500396075186 None\n"
     ]
    },
    {
     "data": {
      "application/vnd.jupyter.widget-view+json": {
       "model_id": "c73cd804b9d5482daa3718d287a69b4d",
       "version_major": 2,
       "version_minor": 0
      },
      "text/plain": [
       "  0%|          | 0/1000 [00:00<?, ?it/s]"
      ]
     },
     "metadata": {},
     "output_type": "display_data"
    },
    {
     "name": "stdout",
     "output_type": "stream",
     "text": [
      "0.2499802857099742 None\n",
      "0.19022390185845328 None\n",
      "0.12168444912079256 None\n",
      "0.060744271829465 None\n",
      "0.02379995797839499 None\n",
      "0.023503785045706646 None\n",
      "0.02348122038566245 None\n",
      "0.023484651227309028 None\n",
      "0.023514097320805793 None\n",
      "0.02347379348516684 None\n",
      "0.023500177225432517 None\n"
     ]
    },
    {
     "data": {
      "application/vnd.jupyter.widget-view+json": {
       "model_id": "308c251f7acc477eab27e71bb3369c18",
       "version_major": 2,
       "version_minor": 0
      },
      "text/plain": [
       "  0%|          | 0/1000 [00:00<?, ?it/s]"
      ]
     },
     "metadata": {},
     "output_type": "display_data"
    },
    {
     "name": "stdout",
     "output_type": "stream",
     "text": [
      "0.2511635375747625 None\n",
      "0.18011581903410018 None\n",
      "0.11312623066453108 None\n",
      "0.0525753046899614 None\n",
      "0.02107497572130884 None\n",
      "0.020910840198797416 None\n",
      "0.020913074719344123 None\n",
      "0.02089698381572528 None\n",
      "0.020920709554458683 None\n",
      "0.02095281949122467 None\n",
      "0.02096120421735906 None\n"
     ]
    },
    {
     "data": {
      "application/vnd.jupyter.widget-view+json": {
       "model_id": "0008f960ca6041a6ba29bb2aa422ff2c",
       "version_major": 2,
       "version_minor": 0
      },
      "text/plain": [
       "  0%|          | 0/1000 [00:00<?, ?it/s]"
      ]
     },
     "metadata": {},
     "output_type": "display_data"
    },
    {
     "name": "stdout",
     "output_type": "stream",
     "text": [
      "0.2550505086284102 None\n",
      "0.18341469276165792 None\n",
      "0.11614736589349925 None\n",
      "0.05552993852880439 None\n",
      "0.01928886180766666 None\n",
      "0.019018645291751214 None\n",
      "0.01899104427202232 None\n",
      "0.019058840431716077 None\n",
      "0.019030530112615424 None\n",
      "0.018989981131019414 None\n",
      "0.019008008269087173 None\n"
     ]
    },
    {
     "data": {
      "application/vnd.jupyter.widget-view+json": {
       "model_id": "e04a4d1ccf5e49a69586d1493df4a79f",
       "version_major": 2,
       "version_minor": 0
      },
      "text/plain": [
       "  0%|          | 0/1000 [00:00<?, ?it/s]"
      ]
     },
     "metadata": {},
     "output_type": "display_data"
    },
    {
     "name": "stdout",
     "output_type": "stream",
     "text": [
      "0.25158894040479934 None\n",
      "0.196029379627054 None\n",
      "0.09737085224386562 None\n",
      "0.036669745103850904 None\n",
      "0.019746457203556236 None\n",
      "0.003331163116975608 None\n",
      "0.03503419984607624 None\n",
      "0.0196308234396732 None\n",
      "0.0033139832584107923 None\n",
      "0.03503954914693934 None\n",
      "0.01958596422858858 None\n"
     ]
    },
    {
     "data": {
      "application/vnd.jupyter.widget-view+json": {
       "model_id": "133dae69dc1140878174770867384946",
       "version_major": 2,
       "version_minor": 0
      },
      "text/plain": [
       "  0%|          | 0/1000 [00:00<?, ?it/s]"
      ]
     },
     "metadata": {},
     "output_type": "display_data"
    },
    {
     "name": "stdout",
     "output_type": "stream",
     "text": [
      "0.24449629283451357 None\n",
      "0.17548787976088492 None\n",
      "0.10982915050706542 None\n",
      "0.050052985611324555 None\n",
      "0.018811581509798704 None\n",
      "0.018740299551450686 None\n",
      "0.018773494795499807 None\n",
      "0.018740982050524786 None\n",
      "0.018774203460760162 None\n",
      "0.018811171041215654 None\n",
      "0.018827561797559886 None\n"
     ]
    },
    {
     "data": {
      "application/vnd.jupyter.widget-view+json": {
       "model_id": "90eaa8896c244a91966939160c3a4ed8",
       "version_major": 2,
       "version_minor": 0
      },
      "text/plain": [
       "  0%|          | 0/1000 [00:00<?, ?it/s]"
      ]
     },
     "metadata": {},
     "output_type": "display_data"
    },
    {
     "name": "stdout",
     "output_type": "stream",
     "text": [
      "0.2576035016932334 None\n",
      "0.18786185838934627 None\n",
      "0.12150977110841366 None\n",
      "0.06116844339092298 None\n",
      "0.027800554610459334 None\n",
      "0.02766675273086254 None\n",
      "0.027574838054196173 None\n",
      "0.02762076690323404 None\n",
      "0.027574190629916936 None\n",
      "0.027636454250789148 None\n",
      "0.02770892095146805 None\n"
     ]
    },
    {
     "data": {
      "application/vnd.jupyter.widget-view+json": {
       "model_id": "6ebc825f015242b797933bcea1ff2c1a",
       "version_major": 2,
       "version_minor": 0
      },
      "text/plain": [
       "  0%|          | 0/1000 [00:00<?, ?it/s]"
      ]
     },
     "metadata": {},
     "output_type": "display_data"
    },
    {
     "name": "stdout",
     "output_type": "stream",
     "text": [
      "0.249408661778238 None\n",
      "0.179681967555652 None\n",
      "0.11329562496746617 None\n",
      "0.05285094111412429 None\n",
      "0.018713505664463496 None\n",
      "0.018797992545340033 None\n",
      "0.018636251611153377 None\n",
      "0.01861758327598846 None\n",
      "0.01880025574862467 None\n",
      "0.018622815261898885 None\n",
      "0.018691173329056253 None\n"
     ]
    },
    {
     "data": {
      "application/vnd.jupyter.widget-view+json": {
       "model_id": "f2c5ffdb25f7465a8414cc49a2429594",
       "version_major": 2,
       "version_minor": 0
      },
      "text/plain": [
       "  0%|          | 0/1000 [00:00<?, ?it/s]"
      ]
     },
     "metadata": {},
     "output_type": "display_data"
    },
    {
     "name": "stdout",
     "output_type": "stream",
     "text": [
      "0.24669246441353707 None\n",
      "0.17765816501780946 None\n",
      "0.11191317972690415 None\n",
      "0.052120525086761474 None\n",
      "0.020840133196140264 None\n",
      "0.020795749100548697 None\n",
      "0.020763526353227625 None\n",
      "0.02088128323528385 None\n",
      "0.0208106021189338 None\n",
      "0.02076110715948044 None\n",
      "0.020801512515422504 None\n"
     ]
    },
    {
     "data": {
      "application/vnd.jupyter.widget-view+json": {
       "model_id": "bff3d2d028dc429bb38b3d2f1b3b05fa",
       "version_major": 2,
       "version_minor": 0
      },
      "text/plain": [
       "  0%|          | 0/1000 [00:00<?, ?it/s]"
      ]
     },
     "metadata": {},
     "output_type": "display_data"
    },
    {
     "name": "stdout",
     "output_type": "stream",
     "text": [
      "0.24347387124551212 None\n",
      "0.17449294655115993 None\n",
      "0.10879170108323141 None\n",
      "0.04888950103576869 None\n",
      "0.017361332772647994 None\n",
      "0.017500398728856156 None\n",
      "0.017464599998408208 None\n",
      "0.017332539749828138 None\n",
      "0.01740006709640947 None\n",
      "0.017351578482271136 None\n",
      "0.017363701840632434 None\n"
     ]
    },
    {
     "data": {
      "application/vnd.jupyter.widget-view+json": {
       "model_id": "618e10afc5844909941e239206654915",
       "version_major": 2,
       "version_minor": 0
      },
      "text/plain": [
       "  0%|          | 0/1000 [00:00<?, ?it/s]"
      ]
     },
     "metadata": {},
     "output_type": "display_data"
    },
    {
     "name": "stdout",
     "output_type": "stream",
     "text": [
      "0.24832038568503464 None\n",
      "0.17870283090218456 None\n",
      "0.11246165248646339 None\n",
      "0.05217244930430507 None\n",
      "0.01911746828213975 None\n",
      "0.01898146229241259 None\n",
      "0.018995075088939006 None\n",
      "0.018990204113391553 None\n",
      "0.0189940315530091 None\n",
      "0.01903358928152808 None\n",
      "0.019004728721217785 None\n"
     ]
    },
    {
     "data": {
      "application/vnd.jupyter.widget-view+json": {
       "model_id": "38e7d5bfa5044ca9b7995f76f38ca9b5",
       "version_major": 2,
       "version_minor": 0
      },
      "text/plain": [
       "  0%|          | 0/1000 [00:00<?, ?it/s]"
      ]
     },
     "metadata": {},
     "output_type": "display_data"
    },
    {
     "name": "stdout",
     "output_type": "stream",
     "text": [
      "0.24793368751261732 None\n",
      "0.17873004094559056 None\n",
      "0.1129122588061056 None\n",
      "0.05301839143733302 None\n",
      "0.02143666849696807 None\n",
      "0.02144281341925301 None\n",
      "0.02142963448613082 None\n",
      "0.021413310760373387 None\n",
      "0.021460026267783684 None\n",
      "0.021396886501588885 None\n",
      "0.021409142457836892 None\n"
     ]
    },
    {
     "data": {
      "application/vnd.jupyter.widget-view+json": {
       "model_id": "6134a42325e34bb79afb609439494448",
       "version_major": 2,
       "version_minor": 0
      },
      "text/plain": [
       "  0%|          | 0/1000 [00:00<?, ?it/s]"
      ]
     },
     "metadata": {},
     "output_type": "display_data"
    },
    {
     "name": "stdout",
     "output_type": "stream",
     "text": [
      "0.24893872634489694 None\n",
      "0.17907046907608998 None\n",
      "0.11264274597302859 None\n",
      "0.05220257485747055 None\n",
      "0.01807020526868361 None\n",
      "0.017963852489945916 None\n",
      "0.017979248446455747 None\n",
      "0.017955256109262407 None\n",
      "0.017984163090184597 None\n",
      "0.017937103650107734 None\n",
      "0.018052587132759184 None\n"
     ]
    },
    {
     "data": {
      "application/vnd.jupyter.widget-view+json": {
       "model_id": "e6fc7433a52042eb85b4024493e1bbbd",
       "version_major": 2,
       "version_minor": 0
      },
      "text/plain": [
       "  0%|          | 0/1000 [00:00<?, ?it/s]"
      ]
     },
     "metadata": {},
     "output_type": "display_data"
    },
    {
     "name": "stdout",
     "output_type": "stream",
     "text": [
      "0.2544026634451583 None\n",
      "0.18511413361146362 None\n",
      "0.119037701701171 None\n",
      "0.05881778877473935 None\n",
      "0.02466918171384334 None\n",
      "0.024576122835100786 None\n",
      "0.024722447890408943 None\n",
      "0.02466374754478256 None\n",
      "0.02465189736042162 None\n",
      "0.024692230193379017 None\n",
      "0.02466288066528354 None\n"
     ]
    },
    {
     "data": {
      "application/vnd.jupyter.widget-view+json": {
       "model_id": "34b145385c6549cba5b3cc3a20128003",
       "version_major": 2,
       "version_minor": 0
      },
      "text/plain": [
       "  0%|          | 0/1000 [00:00<?, ?it/s]"
      ]
     },
     "metadata": {},
     "output_type": "display_data"
    },
    {
     "name": "stdout",
     "output_type": "stream",
     "text": [
      "0.24152098232203018 None\n",
      "0.17274885978974086 None\n",
      "0.10749290968686037 None\n",
      "0.04801096327789798 None\n",
      "0.0175030891215845 None\n",
      "0.017385982401685006 None\n",
      "0.017369931156521436 None\n",
      "0.017360605274512577 None\n",
      "0.017387526158961733 None\n",
      "0.017392551316373805 None\n",
      "0.017383573117563656 None\n"
     ]
    },
    {
     "data": {
      "application/vnd.jupyter.widget-view+json": {
       "model_id": "b6d462a6ccbc4e8f86fb5f42db9cb49a",
       "version_major": 2,
       "version_minor": 0
      },
      "text/plain": [
       "  0%|          | 0/1000 [00:00<?, ?it/s]"
      ]
     },
     "metadata": {},
     "output_type": "display_data"
    },
    {
     "name": "stdout",
     "output_type": "stream",
     "text": [
      "0.24238140408033068 None\n",
      "0.17380189013597203 None\n",
      "0.10841129513237374 None\n",
      "0.048762825388579345 None\n",
      "0.017636485260131743 None\n",
      "0.017620783183885987 None\n",
      "0.01764512438540217 None\n",
      "0.01759859492406337 None\n",
      "0.01760746965065366 None\n",
      "0.017690096630137778 None\n",
      "0.01760095860085934 None\n"
     ]
    },
    {
     "data": {
      "application/vnd.jupyter.widget-view+json": {
       "model_id": "0865eb4637054982907570ee6db24e92",
       "version_major": 2,
       "version_minor": 0
      },
      "text/plain": [
       "  0%|          | 0/1000 [00:00<?, ?it/s]"
      ]
     },
     "metadata": {},
     "output_type": "display_data"
    },
    {
     "name": "stdout",
     "output_type": "stream",
     "text": [
      "0.2620397505863501 None\n",
      "0.1924437682557446 None\n",
      "0.12626003893316995 None\n",
      "0.06605405483534008 None\n",
      "0.03247790348801662 None\n",
      "0.03237451369115364 None\n",
      "0.032259627878072655 None\n",
      "0.03235219898051248 None\n",
      "0.032297504221595476 None\n",
      "0.03226325863943886 None\n",
      "0.03231474033352612 None\n"
     ]
    },
    {
     "data": {
      "application/vnd.jupyter.widget-view+json": {
       "model_id": "7d2c2dd0f5334f2d869137f2adb39854",
       "version_major": 2,
       "version_minor": 0
      },
      "text/plain": [
       "  0%|          | 0/1000 [00:00<?, ?it/s]"
      ]
     },
     "metadata": {},
     "output_type": "display_data"
    },
    {
     "name": "stdout",
     "output_type": "stream",
     "text": [
      "0.24644812346085312 None\n",
      "0.1776321773017711 None\n",
      "0.11199799018528526 None\n",
      "0.05210684631014312 None\n",
      "0.019891080519675027 None\n",
      "0.01993946154856402 None\n",
      "0.019866653067019128 None\n",
      "0.019935422629124958 None\n",
      "0.019868191125317857 None\n",
      "0.01988557737499224 None\n",
      "0.01987936900042739 None\n"
     ]
    },
    {
     "data": {
      "application/vnd.jupyter.widget-view+json": {
       "model_id": "cd34a0c39844418782f7ea6e344c8ef6",
       "version_major": 2,
       "version_minor": 0
      },
      "text/plain": [
       "  0%|          | 0/1000 [00:00<?, ?it/s]"
      ]
     },
     "metadata": {},
     "output_type": "display_data"
    },
    {
     "name": "stdout",
     "output_type": "stream",
     "text": [
      "0.2479884609326586 None\n",
      "0.17897357313329487 None\n",
      "0.11317956664289015 None\n",
      "0.05324923996937103 None\n",
      "0.021436173702589302 None\n",
      "0.021453422120744376 None\n",
      "0.021500472897012964 None\n",
      "0.021463528162596508 None\n",
      "0.021509657499957896 None\n",
      "0.02151314658768806 None\n",
      "0.02163442937085958 None\n"
     ]
    },
    {
     "data": {
      "application/vnd.jupyter.widget-view+json": {
       "model_id": "7d6a6c368cdf49a0b80ab1f4bdc33333",
       "version_major": 2,
       "version_minor": 0
      },
      "text/plain": [
       "  0%|          | 0/1000 [00:00<?, ?it/s]"
      ]
     },
     "metadata": {},
     "output_type": "display_data"
    },
    {
     "name": "stdout",
     "output_type": "stream",
     "text": [
      "0.2500547648922683 None\n",
      "0.1654120425744535 None\n",
      "0.11501020341906565 None\n",
      "0.05504197042416 None\n",
      "0.022498803796247226 None\n",
      "0.02237195872574619 None\n",
      "0.022360092372782973 None\n",
      "0.022367462916709057 None\n",
      "0.02241457264142827 None\n",
      "0.022403103402600436 None\n",
      "0.022349419905163054 None\n"
     ]
    },
    {
     "data": {
      "application/vnd.jupyter.widget-view+json": {
       "model_id": "ff1bec1f9e6b4a04a1202b38195e7754",
       "version_major": 2,
       "version_minor": 0
      },
      "text/plain": [
       "  0%|          | 0/1000 [00:00<?, ?it/s]"
      ]
     },
     "metadata": {},
     "output_type": "display_data"
    },
    {
     "name": "stdout",
     "output_type": "stream",
     "text": [
      "0.24138508433428885 None\n",
      "0.1725917330705279 None\n",
      "0.1071089371114177 None\n",
      "0.04743938759433532 None\n",
      "0.01714638764101284 None\n",
      "0.017088954958293746 None\n",
      "0.01709075601683844 None\n",
      "0.017125256757035207 None\n",
      "0.017105938660160632 None\n",
      "0.017163223330034075 None\n",
      "0.01708541998966011 None\n"
     ]
    },
    {
     "data": {
      "application/vnd.jupyter.widget-view+json": {
       "model_id": "0b71f9bcae794a31befee23f0a3dd13d",
       "version_major": 2,
       "version_minor": 0
      },
      "text/plain": [
       "  0%|          | 0/1000 [00:00<?, ?it/s]"
      ]
     },
     "metadata": {},
     "output_type": "display_data"
    },
    {
     "name": "stdout",
     "output_type": "stream",
     "text": [
      "0.24213793863631727 None\n",
      "0.1736004259270586 None\n",
      "0.10827168860722702 None\n",
      "0.04871655687070206 None\n",
      "0.018686078851257625 None\n",
      "0.018680886997956492 None\n",
      "0.018621384428555356 None\n",
      "0.01876371092957745 None\n",
      "0.018692233184877158 None\n",
      "0.018751953997190072 None\n",
      "0.018655282159849924 None\n"
     ]
    },
    {
     "data": {
      "application/vnd.jupyter.widget-view+json": {
       "model_id": "229362868ca844d8bc530c3d33e954f9",
       "version_major": 2,
       "version_minor": 0
      },
      "text/plain": [
       "  0%|          | 0/1000 [00:00<?, ?it/s]"
      ]
     },
     "metadata": {},
     "output_type": "display_data"
    },
    {
     "name": "stdout",
     "output_type": "stream",
     "text": [
      "0.2474689330684253 None\n",
      "0.17809103140454255 None\n",
      "0.11207074617279733 None\n",
      "0.05193096796543635 None\n",
      "0.01946379888443825 None\n",
      "0.019485295770386116 None\n",
      "0.01951651204326456 None\n",
      "0.019460975437161913 None\n",
      "0.019463834800340578 None\n",
      "0.0194682211745798 None\n",
      "0.019485353544106528 None\n"
     ]
    },
    {
     "data": {
      "application/vnd.jupyter.widget-view+json": {
       "model_id": "791bb6e800e44ae5864330460fea540f",
       "version_major": 2,
       "version_minor": 0
      },
      "text/plain": [
       "  0%|          | 0/1000 [00:00<?, ?it/s]"
      ]
     },
     "metadata": {},
     "output_type": "display_data"
    },
    {
     "name": "stdout",
     "output_type": "stream",
     "text": [
      "0.24639423507096497 None\n",
      "0.1773536516150109 None\n",
      "0.11152911722041693 None\n",
      "0.05154734871777157 None\n",
      "0.02018274786839542 None\n",
      "0.02027074017934933 None\n",
      "0.020192691985829906 None\n",
      "0.020315538272429497 None\n",
      "0.02018265766020503 None\n",
      "0.02016106578092384 None\n",
      "0.0201529342207342 None\n"
     ]
    },
    {
     "data": {
      "application/vnd.jupyter.widget-view+json": {
       "model_id": "f873f3be67584d5087cd163628e5c79b",
       "version_major": 2,
       "version_minor": 0
      },
      "text/plain": [
       "  0%|          | 0/1000 [00:00<?, ?it/s]"
      ]
     },
     "metadata": {},
     "output_type": "display_data"
    },
    {
     "name": "stdout",
     "output_type": "stream",
     "text": [
      "0.24264014672987644 None\n",
      "0.1736960080489274 None\n",
      "0.10805509246656003 None\n",
      "0.04821342030955145 None\n",
      "0.017285097507700693 None\n",
      "0.017141625188103266 None\n",
      "0.017134672197192738 None\n",
      "0.017087163509130854 None\n",
      "0.017090667613913955 None\n",
      "0.017162333851558655 None\n",
      "0.01719431405493936 None\n"
     ]
    },
    {
     "data": {
      "application/vnd.jupyter.widget-view+json": {
       "model_id": "b27953f3bbe14a4f802714f1df27fb5d",
       "version_major": 2,
       "version_minor": 0
      },
      "text/plain": [
       "  0%|          | 0/1000 [00:00<?, ?it/s]"
      ]
     },
     "metadata": {},
     "output_type": "display_data"
    },
    {
     "name": "stdout",
     "output_type": "stream",
     "text": [
      "0.24094873676186745 None\n",
      "0.1879752016581422 None\n",
      "0.10730743921460875 None\n",
      "0.04785236557414076 None\n",
      "0.01889690030657264 None\n",
      "0.0187373901052657 None\n",
      "0.01875936233405858 None\n",
      "0.01884702065412167 None\n",
      "0.0188582258021798 None\n",
      "0.018875776855552546 None\n",
      "0.034177037800723176 None\n"
     ]
    },
    {
     "data": {
      "application/vnd.jupyter.widget-view+json": {
       "model_id": "7f45e43c4cf64839aba7e6a8d33a2189",
       "version_major": 2,
       "version_minor": 0
      },
      "text/plain": [
       "  0%|          | 0/1000 [00:00<?, ?it/s]"
      ]
     },
     "metadata": {},
     "output_type": "display_data"
    },
    {
     "name": "stdout",
     "output_type": "stream",
     "text": [
      "0.24842597419502122 None\n",
      "0.17918807761732589 None\n",
      "0.11324347510118844 None\n",
      "0.05317734366729701 None\n",
      "0.020553366664786077 None\n",
      "0.020537783194197863 None\n",
      "0.020628386197189628 None\n",
      "0.020621617446732424 None\n",
      "0.020683058716513724 None\n",
      "0.020555538631961665 None\n",
      "0.020685236476159483 None\n"
     ]
    },
    {
     "data": {
      "application/vnd.jupyter.widget-view+json": {
       "model_id": "2134770ac6d64556904498614efc33c4",
       "version_major": 2,
       "version_minor": 0
      },
      "text/plain": [
       "  0%|          | 0/1000 [00:00<?, ?it/s]"
      ]
     },
     "metadata": {},
     "output_type": "display_data"
    },
    {
     "name": "stdout",
     "output_type": "stream",
     "text": [
      "0.2459801155997989 None\n",
      "0.17703894370674259 None\n",
      "0.11130042295610598 None\n",
      "0.051383233386292776 None\n",
      "0.01989943112288863 None\n",
      "0.01987918995276614 None\n",
      "0.019887104206082418 None\n",
      "0.019853340100047388 None\n",
      "0.0198448878546015 None\n",
      "0.019887014782871793 None\n",
      "0.019879490280283314 None\n"
     ]
    },
    {
     "data": {
      "application/vnd.jupyter.widget-view+json": {
       "model_id": "497dd2eb769b4ee194ca71dae9cb437e",
       "version_major": 2,
       "version_minor": 0
      },
      "text/plain": [
       "  0%|          | 0/1000 [00:00<?, ?it/s]"
      ]
     },
     "metadata": {},
     "output_type": "display_data"
    },
    {
     "name": "stdout",
     "output_type": "stream",
     "text": [
      "0.24133854030116858 None\n",
      "0.17253125444029327 None\n",
      "0.10699569828169951 None\n",
      "0.04731437969978486 None\n",
      "0.017078383874860433 None\n",
      "0.016972587678816244 None\n",
      "0.017066576071305833 None\n",
      "0.016989996073310098 None\n",
      "0.017131927443004135 None\n",
      "0.017085711377209153 None\n",
      "0.01697054609211193 None\n"
     ]
    },
    {
     "data": {
      "application/vnd.jupyter.widget-view+json": {
       "model_id": "8eacaeba0ede4264ab8f4f3a95180687",
       "version_major": 2,
       "version_minor": 0
      },
      "text/plain": [
       "  0%|          | 0/1000 [00:00<?, ?it/s]"
      ]
     },
     "metadata": {},
     "output_type": "display_data"
    },
    {
     "name": "stdout",
     "output_type": "stream",
     "text": [
      "0.24029879207553462 None\n",
      "0.1717722179338442 None\n",
      "0.10641007969651643 None\n",
      "0.04682251715547451 None\n",
      "0.017775758578402977 None\n",
      "0.017584412087654936 None\n",
      "0.017603464681661504 None\n",
      "0.017584725697975347 None\n",
      "0.017618077435591274 None\n",
      "0.01764739602803367 None\n",
      "0.017581318135728496 None\n"
     ]
    },
    {
     "data": {
      "application/vnd.jupyter.widget-view+json": {
       "model_id": "1d078da5950e4ad8b07fe7dcbb5cd954",
       "version_major": 2,
       "version_minor": 0
      },
      "text/plain": [
       "  0%|          | 0/1000 [00:00<?, ?it/s]"
      ]
     },
     "metadata": {},
     "output_type": "display_data"
    },
    {
     "name": "stdout",
     "output_type": "stream",
     "text": [
      "0.2454038256295093 None\n",
      "0.17642227876904362 None\n",
      "0.11073039372070337 None\n",
      "0.05090246929029318 None\n",
      "0.02003904336846838 None\n",
      "0.020093104471436543 None\n",
      "0.020233993816032178 None\n",
      "0.02005783106174755 None\n",
      "0.020069828409201202 None\n",
      "0.020055396830197844 None\n",
      "0.0200362271949597 None\n"
     ]
    },
    {
     "data": {
      "application/vnd.jupyter.widget-view+json": {
       "model_id": "51b228e450cb4d238b8cec834fdc21fb",
       "version_major": 2,
       "version_minor": 0
      },
      "text/plain": [
       "  0%|          | 0/1000 [00:00<?, ?it/s]"
      ]
     },
     "metadata": {},
     "output_type": "display_data"
    },
    {
     "name": "stdout",
     "output_type": "stream",
     "text": [
      "0.24058828368964044 None\n",
      "0.17209867779204063 None\n",
      "0.10713493193162757 None\n",
      "0.04774281332977709 None\n",
      "0.01750533080186748 None\n",
      "0.01751685425507862 None\n",
      "0.01746168452794667 None\n",
      "0.017410392236324373 None\n",
      "0.01740843443656929 None\n",
      "0.017434057655303058 None\n",
      "0.0174382007578296 None\n"
     ]
    },
    {
     "data": {
      "application/vnd.jupyter.widget-view+json": {
       "model_id": "d45e7439a077476a967aafacbb7d22f9",
       "version_major": 2,
       "version_minor": 0
      },
      "text/plain": [
       "  0%|          | 0/1000 [00:00<?, ?it/s]"
      ]
     },
     "metadata": {},
     "output_type": "display_data"
    },
    {
     "name": "stdout",
     "output_type": "stream",
     "text": [
      "0.24723831346776687 None\n",
      "0.17813214769020558 None\n",
      "0.11230807181944556 None\n",
      "0.052352754407126154 None\n",
      "0.020693752026372962 None\n",
      "0.020642740294407533 None\n",
      "0.02064254656121496 None\n",
      "0.020642531110493852 None\n",
      "0.02070897159367003 None\n",
      "0.020667826281674056 None\n",
      "0.020644137102903755 None\n"
     ]
    },
    {
     "data": {
      "application/vnd.jupyter.widget-view+json": {
       "model_id": "af8765512443462f820b697c70d93932",
       "version_major": 2,
       "version_minor": 0
      },
      "text/plain": [
       "  0%|          | 0/1000 [00:00<?, ?it/s]"
      ]
     },
     "metadata": {},
     "output_type": "display_data"
    },
    {
     "name": "stdout",
     "output_type": "stream",
     "text": [
      "0.2467354253619557 None\n",
      "0.17737405781274226 None\n",
      "0.11124948064165088 None\n",
      "0.05098654746713833 None\n",
      "0.017445328074389373 None\n",
      "0.017322839628878747 None\n",
      "0.017313526960791765 None\n",
      "0.017375273735642387 None\n",
      "0.017347620610057516 None\n",
      "0.017450578055597615 None\n",
      "0.01745446330249767 None\n"
     ]
    },
    {
     "data": {
      "application/vnd.jupyter.widget-view+json": {
       "model_id": "60b8bad25cce4930a80f5ea9e5a659df",
       "version_major": 2,
       "version_minor": 0
      },
      "text/plain": [
       "  0%|          | 0/1000 [00:00<?, ?it/s]"
      ]
     },
     "metadata": {},
     "output_type": "display_data"
    },
    {
     "name": "stdout",
     "output_type": "stream",
     "text": [
      "0.25666028114266726 None\n",
      "0.18794795711196882 None\n",
      "0.12242582847560227 None\n",
      "0.06270461420874912 None\n",
      "0.03232607454393866 None\n",
      "0.03233750692712577 None\n",
      "0.0322803563740138 None\n",
      "0.032258213688767925 None\n",
      "0.032424603256749826 None\n",
      "0.03227516792366726 None\n",
      "0.03236541759406004 None\n"
     ]
    },
    {
     "data": {
      "application/vnd.jupyter.widget-view+json": {
       "model_id": "4eab451a19f946ed8b2b3115866d84f0",
       "version_major": 2,
       "version_minor": 0
      },
      "text/plain": [
       "  0%|          | 0/1000 [00:00<?, ?it/s]"
      ]
     },
     "metadata": {},
     "output_type": "display_data"
    },
    {
     "name": "stdout",
     "output_type": "stream",
     "text": [
      "0.24847415361597344 None\n",
      "0.1795913820505266 None\n",
      "0.11389468731865277 None\n",
      "0.05403684949322628 None\n",
      "0.022745416833819525 None\n",
      "0.022762194047114652 None\n",
      "0.022803487520082547 None\n",
      "0.022891624958000643 None\n",
      "0.022765829019585633 None\n",
      "0.02277814294932045 None\n",
      "0.02275786943419212 None\n"
     ]
    },
    {
     "data": {
      "application/vnd.jupyter.widget-view+json": {
       "model_id": "f9c2d3c9f4ef41c794bda50a20865cd2",
       "version_major": 2,
       "version_minor": 0
      },
      "text/plain": [
       "  0%|          | 0/1000 [00:00<?, ?it/s]"
      ]
     },
     "metadata": {},
     "output_type": "display_data"
    },
    {
     "name": "stdout",
     "output_type": "stream",
     "text": [
      "0.24480825182625554 None\n",
      "0.1757056011712517 None\n",
      "0.1098500100482046 None\n",
      "0.049828132571301885 None\n",
      "0.017504265544504943 None\n",
      "0.01752627973146672 None\n",
      "0.017592334800682646 None\n",
      "0.017610118790748683 None\n",
      "0.017601987651252423 None\n",
      "0.01771828710819025 None\n",
      "0.01761258185376733 None\n"
     ]
    },
    {
     "data": {
      "application/vnd.jupyter.widget-view+json": {
       "model_id": "18e441dc56464193926d569af6fee3a9",
       "version_major": 2,
       "version_minor": 0
      },
      "text/plain": [
       "  0%|          | 0/1000 [00:00<?, ?it/s]"
      ]
     },
     "metadata": {},
     "output_type": "display_data"
    },
    {
     "name": "stdout",
     "output_type": "stream",
     "text": [
      "0.24458755009910424 None\n",
      "0.17581331376714618 None\n",
      "0.11022698969600739 None\n",
      "0.05045241885187708 None\n",
      "0.019788655760516333 None\n",
      "0.019769606978575098 None\n",
      "0.019736853942356334 None\n",
      "0.01973506746970958 None\n",
      "0.019709763422538735 None\n",
      "0.019726867186055572 None\n",
      "0.019736268145253782 None\n"
     ]
    },
    {
     "data": {
      "application/vnd.jupyter.widget-view+json": {
       "model_id": "a6b0f1ef633d4c88a0e780e6c6ff5980",
       "version_major": 2,
       "version_minor": 0
      },
      "text/plain": [
       "  0%|          | 0/1000 [00:00<?, ?it/s]"
      ]
     },
     "metadata": {},
     "output_type": "display_data"
    },
    {
     "name": "stdout",
     "output_type": "stream",
     "text": [
      "0.24263435373705478 None\n",
      "0.1737199849303268 None\n",
      "0.10805256281257902 None\n",
      "0.048273012629165876 None\n",
      "0.016967703541024254 None\n",
      "0.01674782297455899 None\n",
      "0.016821488020789907 None\n",
      "0.016804817781067186 None\n",
      "0.016865842413638442 None\n",
      "0.01677094699106476 None\n",
      "0.016778709260405728 None\n"
     ]
    },
    {
     "data": {
      "application/vnd.jupyter.widget-view+json": {
       "model_id": "35ad65262d064e57bbd4deff4a794664",
       "version_major": 2,
       "version_minor": 0
      },
      "text/plain": [
       "  0%|          | 0/1000 [00:00<?, ?it/s]"
      ]
     },
     "metadata": {},
     "output_type": "display_data"
    },
    {
     "name": "stdout",
     "output_type": "stream",
     "text": [
      "0.24264423794801387 None\n",
      "0.17372415860736318 None\n",
      "0.10804405198453401 None\n",
      "0.04820331793093113 None\n",
      "0.017551634837258565 None\n",
      "0.017552033137010897 None\n",
      "0.017542364889810216 None\n",
      "0.0176371478817504 None\n",
      "0.01751513083350744 None\n",
      "0.017530454712904105 None\n",
      "0.01750536445188155 None\n"
     ]
    },
    {
     "data": {
      "application/vnd.jupyter.widget-view+json": {
       "model_id": "98ddf73b90a24e33b67c33d992502261",
       "version_major": 2,
       "version_minor": 0
      },
      "text/plain": [
       "  0%|          | 0/1000 [00:00<?, ?it/s]"
      ]
     },
     "metadata": {},
     "output_type": "display_data"
    },
    {
     "name": "stdout",
     "output_type": "stream",
     "text": [
      "0.23997390341228397 None\n",
      "0.17145029891915406 None\n",
      "0.10609417767708418 None\n",
      "0.046522293853520996 None\n",
      "0.017191345011815067 None\n",
      "0.017238739318129494 None\n",
      "0.01732355373681576 None\n",
      "0.01724835901224449 None\n",
      "0.01722969688318236 None\n",
      "0.01720482508919866 None\n",
      "0.017204079763440162 None\n"
     ]
    },
    {
     "data": {
      "application/vnd.jupyter.widget-view+json": {
       "model_id": "69344d41e6cc464b909c6a5eee2af087",
       "version_major": 2,
       "version_minor": 0
      },
      "text/plain": [
       "  0%|          | 0/1000 [00:00<?, ?it/s]"
      ]
     },
     "metadata": {},
     "output_type": "display_data"
    },
    {
     "name": "stdout",
     "output_type": "stream",
     "text": [
      "0.24843585811587432 None\n",
      "0.17949093487164242 None\n",
      "0.11362164611944872 None\n",
      "0.0535659410916831 None\n",
      "0.021565865300595052 None\n",
      "0.021390561440451112 None\n",
      "0.021455795816832858 None\n",
      "0.021512531206523293 None\n",
      "0.02147517929478647 None\n",
      "0.02138807570253105 None\n",
      "0.021448324365434025 None\n"
     ]
    },
    {
     "data": {
      "application/vnd.jupyter.widget-view+json": {
       "model_id": "cba81c3dd69b46e2a947728d43869edc",
       "version_major": 2,
       "version_minor": 0
      },
      "text/plain": [
       "  0%|          | 0/1000 [00:00<?, ?it/s]"
      ]
     },
     "metadata": {},
     "output_type": "display_data"
    },
    {
     "name": "stdout",
     "output_type": "stream",
     "text": [
      "0.24270197074512534 None\n",
      "0.1738289687007138 None\n",
      "0.10818631589544787 None\n",
      "0.048368321994791394 None\n",
      "0.0176935762450932 None\n",
      "0.017544996372008844 None\n",
      "0.017542102821368033 None\n",
      "0.017491896023935943 None\n",
      "0.017516073329311786 None\n",
      "0.01749328055526192 None\n",
      "0.01753308589775796 None\n"
     ]
    },
    {
     "data": {
      "application/vnd.jupyter.widget-view+json": {
       "model_id": "5f92879eaa814e67b6181b27df551ee6",
       "version_major": 2,
       "version_minor": 0
      },
      "text/plain": [
       "  0%|          | 0/1000 [00:00<?, ?it/s]"
      ]
     },
     "metadata": {},
     "output_type": "display_data"
    },
    {
     "name": "stdout",
     "output_type": "stream",
     "text": [
      "0.2433636828869693 None\n",
      "0.17488075571469236 None\n",
      "0.10956353718773564 None\n",
      "0.05005457000533799 None\n",
      "0.021133138953899105 None\n",
      "0.02114069189634637 None\n",
      "0.021156926078559637 None\n",
      "0.021124922173548125 None\n",
      "0.021161345579872134 None\n",
      "0.02110505161982199 None\n",
      "0.02107285372226965 None\n"
     ]
    },
    {
     "data": {
      "application/vnd.jupyter.widget-view+json": {
       "model_id": "6fc93c351c694e5185782feb4e1d0cb1",
       "version_major": 2,
       "version_minor": 0
      },
      "text/plain": [
       "  0%|          | 0/1000 [00:00<?, ?it/s]"
      ]
     },
     "metadata": {},
     "output_type": "display_data"
    },
    {
     "name": "stdout",
     "output_type": "stream",
     "text": [
      "0.24367282722213984 None\n",
      "0.17481151400283745 None\n",
      "0.10918530813600943 None\n",
      "0.04938940846956187 None\n",
      "0.018591285681475635 None\n",
      "0.018608804801420655 None\n",
      "0.01856406791807548 None\n",
      "0.01855952519446448 None\n",
      "0.018592413343467302 None\n",
      "0.018555264822209257 None\n",
      "0.01859060235579174 None\n"
     ]
    },
    {
     "data": {
      "application/vnd.jupyter.widget-view+json": {
       "model_id": "40c98f4c4b644a50b7a68e84e1b5abb6",
       "version_major": 2,
       "version_minor": 0
      },
      "text/plain": [
       "  0%|          | 0/1000 [00:00<?, ?it/s]"
      ]
     },
     "metadata": {},
     "output_type": "display_data"
    },
    {
     "name": "stdout",
     "output_type": "stream",
     "text": [
      "0.24742096510598868 None\n",
      "0.1785313771066545 None\n",
      "0.11285265779458722 None\n",
      "0.052999619827225786 None\n",
      "0.022130130350287033 None\n",
      "0.02195279033935155 None\n",
      "0.021996561753010672 None\n",
      "0.022006455763824335 None\n",
      "0.021962270210930585 None\n",
      "0.021963952325008095 None\n",
      "0.02196188482525113 None\n"
     ]
    },
    {
     "data": {
      "application/vnd.jupyter.widget-view+json": {
       "model_id": "52270be1d7764b1a96fc90df92b4338a",
       "version_major": 2,
       "version_minor": 0
      },
      "text/plain": [
       "  0%|          | 0/1000 [00:00<?, ?it/s]"
      ]
     },
     "metadata": {},
     "output_type": "display_data"
    },
    {
     "name": "stdout",
     "output_type": "stream",
     "text": [
      "0.2440848397836466 None\n",
      "0.1752420335313262 None\n",
      "0.10963528185746775 None\n",
      "0.04983786907336587 None\n",
      "0.019003524743695172 None\n",
      "0.019046037596958464 None\n",
      "0.01907668469842685 None\n",
      "0.018998445031350328 None\n",
      "0.019051150735467044 None\n",
      "0.019019292587389734 None\n",
      "0.019007325057851118 None\n"
     ]
    },
    {
     "data": {
      "application/vnd.jupyter.widget-view+json": {
       "model_id": "3bd3b8a504ba47e390b53976532c353a",
       "version_major": 2,
       "version_minor": 0
      },
      "text/plain": [
       "  0%|          | 0/1000 [00:00<?, ?it/s]"
      ]
     },
     "metadata": {},
     "output_type": "display_data"
    },
    {
     "name": "stdout",
     "output_type": "stream",
     "text": [
      "0.24247687189616945 None\n",
      "0.173809865772975 None\n",
      "0.10835425696061589 None\n",
      "0.04869206368229602 None\n",
      "0.01877463730484718 None\n",
      "0.01863984585497949 None\n",
      "0.01867819570618707 None\n",
      "0.01866425848116371 None\n",
      "0.018694771610933143 None\n",
      "0.018697074912007984 None\n",
      "0.01870668559713839 None\n"
     ]
    },
    {
     "data": {
      "application/vnd.jupyter.widget-view+json": {
       "model_id": "72983d9dd1cc4ca7937f81e53595b9f1",
       "version_major": 2,
       "version_minor": 0
      },
      "text/plain": [
       "  0%|          | 0/1000 [00:00<?, ?it/s]"
      ]
     },
     "metadata": {},
     "output_type": "display_data"
    },
    {
     "name": "stdout",
     "output_type": "stream",
     "text": [
      "0.2471148343884999 None\n",
      "0.17828229651935804 None\n",
      "0.11264037618257267 None\n",
      "0.052811252854947185 None\n",
      "0.02200806855017348 None\n",
      "0.02186499502935813 None\n",
      "0.02180327045000802 None\n",
      "0.02182378822801803 None\n",
      "0.021861635726260296 None\n",
      "0.021838738807063638 None\n",
      "0.021733412934708516 None\n"
     ]
    },
    {
     "data": {
      "application/vnd.jupyter.widget-view+json": {
       "model_id": "170e1da782094039bb7c057575165aea",
       "version_major": 2,
       "version_minor": 0
      },
      "text/plain": [
       "  0%|          | 0/1000 [00:00<?, ?it/s]"
      ]
     },
     "metadata": {},
     "output_type": "display_data"
    },
    {
     "name": "stdout",
     "output_type": "stream",
     "text": [
      "0.24585090341652838 None\n",
      "0.1770606119112234 None\n",
      "0.11147386559876554 None\n",
      "0.051707332777791215 None\n",
      "0.021083145745842004 None\n",
      "0.02091980629989464 None\n",
      "0.020980572457159813 None\n",
      "0.020935412921179553 None\n",
      "0.021059792671149925 None\n",
      "0.020911710355870975 None\n",
      "0.02107550666357727 None\n"
     ]
    },
    {
     "data": {
      "application/vnd.jupyter.widget-view+json": {
       "model_id": "a68f320e2bb645f79f91f7f0ab1a1884",
       "version_major": 2,
       "version_minor": 0
      },
      "text/plain": [
       "  0%|          | 0/1000 [00:00<?, ?it/s]"
      ]
     },
     "metadata": {},
     "output_type": "display_data"
    },
    {
     "name": "stdout",
     "output_type": "stream",
     "text": [
      "0.24509223134425934 None\n",
      "0.17645811184510402 None\n",
      "0.11101643325603684 None\n",
      "0.05137486150374214 None\n",
      "0.021157635916538374 None\n",
      "0.021198060598866676 None\n",
      "0.021169943486034612 None\n",
      "0.021163825321459086 None\n",
      "0.02121161074254517 None\n",
      "0.021175692439700487 None\n",
      "0.02125131249363485 None\n"
     ]
    },
    {
     "data": {
      "application/vnd.jupyter.widget-view+json": {
       "model_id": "f6f7d3730cac48b4951dd72a8ccd68c4",
       "version_major": 2,
       "version_minor": 0
      },
      "text/plain": [
       "  0%|          | 0/1000 [00:00<?, ?it/s]"
      ]
     },
     "metadata": {},
     "output_type": "display_data"
    },
    {
     "name": "stdout",
     "output_type": "stream",
     "text": [
      "0.2424280722601043 None\n",
      "0.1737870227950455 None\n",
      "0.10830033371429243 None\n",
      "0.04859851601926281 None\n",
      "0.018458988491118905 None\n",
      "0.018323863082340193 None\n",
      "0.01836795646422534 None\n",
      "0.01836194922483526 None\n",
      "0.018380328514002342 None\n",
      "0.018417138150134724 None\n",
      "0.01846379358019563 None\n"
     ]
    },
    {
     "data": {
      "application/vnd.jupyter.widget-view+json": {
       "model_id": "91fe5963c67b46eb8b57bfe00b09f275",
       "version_major": 2,
       "version_minor": 0
      },
      "text/plain": [
       "  0%|          | 0/1000 [00:00<?, ?it/s]"
      ]
     },
     "metadata": {},
     "output_type": "display_data"
    },
    {
     "name": "stdout",
     "output_type": "stream",
     "text": [
      "0.2441316788826876 None\n",
      "0.17531179651500728 None\n",
      "0.1096624737061678 None\n",
      "0.04981345029174377 None\n",
      "0.018788474926930292 None\n",
      "0.018687378497697044 None\n",
      "0.018721219689638042 None\n",
      "0.01869013660856941 None\n",
      "0.018675550312770704 None\n",
      "0.01871376864823782 None\n",
      "0.018729893662776 None\n"
     ]
    },
    {
     "data": {
      "application/vnd.jupyter.widget-view+json": {
       "model_id": "eff4d24fafb94375a80dc674c06dcafc",
       "version_major": 2,
       "version_minor": 0
      },
      "text/plain": [
       "  0%|          | 0/1000 [00:00<?, ?it/s]"
      ]
     },
     "metadata": {},
     "output_type": "display_data"
    },
    {
     "name": "stdout",
     "output_type": "stream",
     "text": [
      "0.24057037944675677 None\n",
      "0.17184051701333664 None\n",
      "0.10634472776904522 None\n",
      "0.046881326023088116 None\n",
      "0.01701142501082709 None\n",
      "0.017010105272922533 None\n",
      "0.016997760144649154 None\n",
      "0.017003494460922423 None\n",
      "0.01714687699349997 None\n",
      "0.017199048552667764 None\n",
      "0.01720357332113688 None\n"
     ]
    },
    {
     "data": {
      "application/vnd.jupyter.widget-view+json": {
       "model_id": "cfa543555bd24820b58fc4398074f299",
       "version_major": 2,
       "version_minor": 0
      },
      "text/plain": [
       "  0%|          | 0/1000 [00:00<?, ?it/s]"
      ]
     },
     "metadata": {},
     "output_type": "display_data"
    },
    {
     "name": "stdout",
     "output_type": "stream",
     "text": [
      "0.24339789429601677 None\n",
      "0.17442497586582828 None\n",
      "0.10870739529988813 None\n",
      "0.04883136849867365 None\n",
      "0.0177299856211832 None\n",
      "0.01775530124850975 None\n",
      "0.01774515467604876 None\n",
      "0.01775403405882689 None\n",
      "0.01780118495308119 None\n",
      "0.017997510235018277 None\n",
      "0.017764131909435266 None\n"
     ]
    },
    {
     "data": {
      "application/vnd.jupyter.widget-view+json": {
       "model_id": "187e40a62e514d1186e02bd44acdfe9b",
       "version_major": 2,
       "version_minor": 0
      },
      "text/plain": [
       "  0%|          | 0/1000 [00:00<?, ?it/s]"
      ]
     },
     "metadata": {},
     "output_type": "display_data"
    },
    {
     "name": "stdout",
     "output_type": "stream",
     "text": [
      "0.24540053341682533 None\n",
      "0.1767093967674422 None\n",
      "0.11119613216776797 None\n",
      "0.05147349703693155 None\n",
      "0.021202534744445875 None\n",
      "0.02118524932313766 None\n",
      "0.021142107236759956 None\n",
      "0.021140234771593307 None\n",
      "0.021181100421988897 None\n",
      "0.021263268317283982 None\n",
      "0.0211885477147351 None\n"
     ]
    },
    {
     "data": {
      "application/vnd.jupyter.widget-view+json": {
       "model_id": "e4e93506b3ec44e6a309919392017a4f",
       "version_major": 2,
       "version_minor": 0
      },
      "text/plain": [
       "  0%|          | 0/1000 [00:00<?, ?it/s]"
      ]
     },
     "metadata": {},
     "output_type": "display_data"
    },
    {
     "name": "stdout",
     "output_type": "stream",
     "text": [
      "0.24581027051632925 None\n",
      "0.1770453663606278 None\n",
      "0.11143897232728225 None\n",
      "0.051627799612340194 None\n",
      "0.020666575949225083 None\n",
      "0.020630943051160568 None\n",
      "0.0206177416416521 None\n",
      "0.02068760207307033 None\n",
      "0.020662911023576085 None\n",
      "0.020663423808398 None\n",
      "0.020698758577638542 None\n"
     ]
    },
    {
     "data": {
      "application/vnd.jupyter.widget-view+json": {
       "model_id": "43f9f7560ec74abfbaaf9e8264a692c9",
       "version_major": 2,
       "version_minor": 0
      },
      "text/plain": [
       "  0%|          | 0/1000 [00:00<?, ?it/s]"
      ]
     },
     "metadata": {},
     "output_type": "display_data"
    },
    {
     "name": "stdout",
     "output_type": "stream",
     "text": [
      "0.24646530016281765 None\n",
      "0.17773249329677343 None\n",
      "0.11217245581386893 None\n",
      "0.052408445000730566 None\n",
      "0.021827951297531963 None\n",
      "0.021854900277216142 None\n",
      "0.02182070171805808 None\n",
      "0.02179939806405343 None\n",
      "0.021799099236322225 None\n",
      "0.02179950776620325 None\n",
      "0.021877607106239594 None\n"
     ]
    },
    {
     "data": {
      "application/vnd.jupyter.widget-view+json": {
       "model_id": "b5a7a54a074a4eecbe1f47641f295f06",
       "version_major": 2,
       "version_minor": 0
      },
      "text/plain": [
       "  0%|          | 0/1000 [00:00<?, ?it/s]"
      ]
     },
     "metadata": {},
     "output_type": "display_data"
    },
    {
     "name": "stdout",
     "output_type": "stream",
     "text": [
      "0.24668761005797077 None\n",
      "0.1777971434379277 None\n",
      "0.11217122601192323 None\n",
      "0.05238351352300709 None\n",
      "0.021844614179749353 None\n",
      "0.021836848213882244 None\n",
      "0.02184896462520155 None\n",
      "0.02181641342641796 None\n",
      "0.02189188608054305 None\n",
      "0.021872533703070504 None\n",
      "0.021816760946473057 None\n"
     ]
    },
    {
     "data": {
      "application/vnd.jupyter.widget-view+json": {
       "model_id": "f8eac7d14fec465ab5cb5b946c581cd7",
       "version_major": 2,
       "version_minor": 0
      },
      "text/plain": [
       "  0%|          | 0/1000 [00:00<?, ?it/s]"
      ]
     },
     "metadata": {},
     "output_type": "display_data"
    },
    {
     "name": "stdout",
     "output_type": "stream",
     "text": [
      "0.24216632762657392 None\n",
      "0.17355481866536918 None\n",
      "0.10809605583368272 None\n",
      "0.048421467086320114 None\n",
      "0.018230033529792248 None\n",
      "0.018236109422553617 None\n",
      "0.01824252361369258 None\n",
      "0.018258636482799944 None\n",
      "0.018193295483110276 None\n",
      "0.018260721046035773 None\n",
      "0.018241625488993975 None\n"
     ]
    },
    {
     "data": {
      "application/vnd.jupyter.widget-view+json": {
       "model_id": "bd47c3eac4d243f9a70d2ca3c10d23c6",
       "version_major": 2,
       "version_minor": 0
      },
      "text/plain": [
       "  0%|          | 0/1000 [00:00<?, ?it/s]"
      ]
     },
     "metadata": {},
     "output_type": "display_data"
    },
    {
     "name": "stdout",
     "output_type": "stream",
     "text": [
      "0.2425258515289567 None\n",
      "0.17368429545339603 None\n",
      "0.10805747273424367 None\n",
      "0.04825708322134456 None\n",
      "0.017612420011627657 None\n",
      "0.017603650442003255 None\n",
      "0.017616783637134235 None\n",
      "0.01767857717687957 None\n",
      "0.01767132090594057 None\n",
      "0.017619758046372436 None\n",
      "0.01763338492587195 None\n"
     ]
    },
    {
     "data": {
      "application/vnd.jupyter.widget-view+json": {
       "model_id": "30d7dfcd820a4b0aa634ce5e73ea0f8f",
       "version_major": 2,
       "version_minor": 0
      },
      "text/plain": [
       "  0%|          | 0/1000 [00:00<?, ?it/s]"
      ]
     },
     "metadata": {},
     "output_type": "display_data"
    },
    {
     "name": "stdout",
     "output_type": "stream",
     "text": [
      "0.2437899203385578 None\n",
      "0.17482061864262613 None\n",
      "0.10910802213328989 None\n",
      "0.04923643754833109 None\n",
      "0.01815195051328017 None\n",
      "0.0181416246286736 None\n",
      "0.018187430572064886 None\n"
     ]
    },
    {
     "ename": "KeyboardInterrupt",
     "evalue": "",
     "output_type": "error",
     "traceback": [
      "\u001b[1;31m---------------------------------------------------------------------------\u001b[0m",
      "\u001b[1;31mKeyboardInterrupt\u001b[0m                         Traceback (most recent call last)",
      "Input \u001b[1;32mIn [27]\u001b[0m, in \u001b[0;36m<cell line: 9>\u001b[1;34m()\u001b[0m\n\u001b[0;32m      6\u001b[0m tf\u001b[38;5;241m.\u001b[39mrandom\u001b[38;5;241m.\u001b[39mset_seed(\u001b[38;5;241m42\u001b[39m)\n\u001b[0;32m      7\u001b[0m rng \u001b[38;5;241m=\u001b[39m np\u001b[38;5;241m.\u001b[39mrandom\u001b[38;5;241m.\u001b[39mdefault_rng(seed\u001b[38;5;241m=\u001b[39m\u001b[38;5;241m42\u001b[39m)\n\u001b[1;32m----> 9\u001b[0m distance_best_list, model_best_list \u001b[38;5;241m=\u001b[39m \u001b[43mfit_diluted_unitary\u001b[49m\u001b[43m(\u001b[49m\u001b[43mspectrum_target_list1\u001b[49m\u001b[43m,\u001b[49m\u001b[43m \u001b[49m\n\u001b[0;32m     10\u001b[0m \u001b[43m                                                          \u001b[49m\u001b[43md\u001b[49m\u001b[38;5;241;43m=\u001b[39;49m\u001b[43md\u001b[49m\u001b[43m,\u001b[49m\u001b[43m \u001b[49m\n\u001b[0;32m     11\u001b[0m \u001b[43m                                                          \u001b[49m\u001b[43mrank_start\u001b[49m\u001b[38;5;241;43m=\u001b[39;49m\u001b[38;5;241;43m1\u001b[39;49m\u001b[43m,\u001b[49m\u001b[43m \u001b[49m\n\u001b[0;32m     12\u001b[0m \u001b[43m                                                          \u001b[49m\u001b[43mrank_step\u001b[49m\u001b[38;5;241;43m=\u001b[39;49m\u001b[38;5;241;43m1\u001b[39;49m\u001b[43m)\u001b[49m\n\u001b[0;32m     14\u001b[0m saver([distance_best_list, model_best_list], data_path(\u001b[38;5;124m\"\u001b[39m\u001b[38;5;124mdiluted_fitting_8layer.model\u001b[39m\u001b[38;5;124m\"\u001b[39m))\n",
      "Input \u001b[1;32mIn [25]\u001b[0m, in \u001b[0;36mfit_diluted_unitary\u001b[1;34m(spectrum_target_list, d, rank_start, rank_step, num_iter)\u001b[0m\n\u001b[0;32m     50\u001b[0m \u001b[38;5;28;01mfor\u001b[39;00m spectrum_target \u001b[38;5;129;01min\u001b[39;00m tqdm(spectrum_target_list):\n\u001b[0;32m     51\u001b[0m     U \u001b[38;5;241m=\u001b[39m generate_haar_random(d, rng) \n\u001b[1;32m---> 52\u001b[0m     distance_best, model_best \u001b[38;5;241m=\u001b[39m \u001b[43moptimize_annulus_distance\u001b[49m\u001b[43m(\u001b[49m\u001b[43mspectrum_target\u001b[49m\u001b[43m,\u001b[49m\n\u001b[0;32m     53\u001b[0m \u001b[43m                                                          \u001b[49m\u001b[43md\u001b[49m\u001b[43m,\u001b[49m\n\u001b[0;32m     54\u001b[0m \u001b[43m                                                          \u001b[49m\u001b[43mrank_start\u001b[49m\u001b[43m,\u001b[49m\n\u001b[0;32m     55\u001b[0m \u001b[43m                                                          \u001b[49m\u001b[43mrank_step\u001b[49m\u001b[43m,\u001b[49m\n\u001b[0;32m     56\u001b[0m \u001b[43m                                                          \u001b[49m\u001b[43mnum_iter\u001b[49m\u001b[43m \u001b[49m\u001b[38;5;241;43m=\u001b[39;49m\u001b[43m \u001b[49m\u001b[43mnum_iter\u001b[49m\u001b[43m)\u001b[49m\n\u001b[0;32m     57\u001b[0m     distance_best_list\u001b[38;5;241m.\u001b[39mappend(distance_best)\n\u001b[0;32m     58\u001b[0m     model_best_list\u001b[38;5;241m.\u001b[39mappend(model_best)\n",
      "Input \u001b[1;32mIn [25]\u001b[0m, in \u001b[0;36moptimize_annulus_distance\u001b[1;34m(spectrum_target, d, rank_start, rank_step, num_iter)\u001b[0m\n\u001b[0;32m     10\u001b[0m \u001b[38;5;28;01mfor\u001b[39;00m rank \u001b[38;5;129;01min\u001b[39;00m \u001b[38;5;28mrange\u001b[39m(rank_start, d\u001b[38;5;241m*\u001b[39m\u001b[38;5;241m*\u001b[39m\u001b[38;5;241m2\u001b[39m\u001b[38;5;241m+\u001b[39mrank_step, rank_step): \n\u001b[0;32m     11\u001b[0m     model \u001b[38;5;241m=\u001b[39m ModelQuantumMap(channel \u001b[38;5;241m=\u001b[39m DilutedKrausMap(U\u001b[38;5;241m=\u001b[39mgenerate_haar_random(d, rng\u001b[38;5;241m=\u001b[39mrng), \n\u001b[0;32m     12\u001b[0m                                                       c\u001b[38;5;241m=\u001b[39m\u001b[38;5;241m0.5\u001b[39m, \n\u001b[0;32m     13\u001b[0m                                                       kraus_part\u001b[38;5;241m=\u001b[39mKrausMap(d, \n\u001b[1;32m   (...)\u001b[0m\n\u001b[0;32m     20\u001b[0m                                         verbose\u001b[38;5;241m=\u001b[39m\u001b[38;5;28;01mTrue\u001b[39;00m,),\n\u001b[0;32m     21\u001b[0m                         )\n\u001b[1;32m---> 22\u001b[0m     \u001b[43mmodel\u001b[49m\u001b[38;5;241;43m.\u001b[39;49m\u001b[43mtrain\u001b[49m\u001b[43m(\u001b[49m\u001b[43minputs\u001b[49m\u001b[43m \u001b[49m\u001b[38;5;241;43m=\u001b[39;49m\u001b[43m \u001b[49m\u001b[38;5;28;43;01mNone\u001b[39;49;00m\u001b[43m,\u001b[49m\n\u001b[0;32m     23\u001b[0m \u001b[43m                \u001b[49m\u001b[43mtargets\u001b[49m\u001b[43m \u001b[49m\u001b[38;5;241;43m=\u001b[39;49m\u001b[43m \u001b[49m\u001b[43m[\u001b[49m\u001b[43mspectrum_target\u001b[49m\u001b[43m]\u001b[49m\u001b[43m,\u001b[49m\n\u001b[0;32m     24\u001b[0m \u001b[43m                \u001b[49m\u001b[43mnum_iter\u001b[49m\u001b[43m \u001b[49m\u001b[38;5;241;43m=\u001b[39;49m\u001b[43m \u001b[49m\u001b[43mnum_iter\u001b[49m\u001b[43m,\u001b[49m\n\u001b[0;32m     25\u001b[0m \u001b[43m                \u001b[49m\n\u001b[0;32m     26\u001b[0m \u001b[43m               \u001b[49m\u001b[43m)\u001b[49m\n\u001b[0;32m     28\u001b[0m     model_list\u001b[38;5;241m.\u001b[39mappend(model)\n\u001b[0;32m     29\u001b[0m     distance_list\u001b[38;5;241m.\u001b[39mappend(model\u001b[38;5;241m.\u001b[39mlogger\u001b[38;5;241m.\u001b[39mloss_train_list[\u001b[38;5;241m-\u001b[39m\u001b[38;5;241m1\u001b[39m])\n",
      "File \u001b[1;32m~\\Documents\\ModelNISQ\\notebooks\\experiments\\../../src_tf\\optimization.py:120\u001b[0m, in \u001b[0;36mModelQuantumMap.train\u001b[1;34m(self, inputs, targets, inputs_val, targets_val, num_iter, N, verbose)\u001b[0m\n\u001b[0;32m    117\u001b[0m     \u001b[38;5;28;01mfor\u001b[39;00m loss_function \u001b[38;5;129;01min\u001b[39;00m \u001b[38;5;28mself\u001b[39m\u001b[38;5;241m.\u001b[39mloss_function:\n\u001b[0;32m    118\u001b[0m         loss \u001b[38;5;241m+\u001b[39m\u001b[38;5;241m=\u001b[39m loss_function(\u001b[38;5;28mself\u001b[39m\u001b[38;5;241m.\u001b[39mchannel, inputs_batch, targets_batch)\n\u001b[1;32m--> 120\u001b[0m grads \u001b[38;5;241m=\u001b[39m \u001b[43mtape\u001b[49m\u001b[38;5;241;43m.\u001b[39;49m\u001b[43mgradient\u001b[49m\u001b[43m(\u001b[49m\u001b[43mloss\u001b[49m\u001b[43m,\u001b[49m\u001b[43m \u001b[49m\u001b[38;5;28;43mself\u001b[39;49m\u001b[38;5;241;43m.\u001b[39;49m\u001b[43mchannel\u001b[49m\u001b[38;5;241;43m.\u001b[39;49m\u001b[43mparameter_list\u001b[49m\u001b[43m)\u001b[49m\n\u001b[0;32m    121\u001b[0m \u001b[38;5;28mself\u001b[39m\u001b[38;5;241m.\u001b[39moptimizer\u001b[38;5;241m.\u001b[39mapply_gradients(\u001b[38;5;28mzip\u001b[39m(grads, \u001b[38;5;28mself\u001b[39m\u001b[38;5;241m.\u001b[39mchannel\u001b[38;5;241m.\u001b[39mparameter_list))\n\u001b[0;32m    123\u001b[0m \u001b[38;5;28mself\u001b[39m\u001b[38;5;241m.\u001b[39mlogger\u001b[38;5;241m.\u001b[39mlog(\u001b[38;5;28mself\u001b[39m)\n",
      "File \u001b[1;32m~\\anaconda3\\envs\\env_qiskit\\lib\\site-packages\\tensorflow\\python\\eager\\backprop.py:1100\u001b[0m, in \u001b[0;36mGradientTape.gradient\u001b[1;34m(self, target, sources, output_gradients, unconnected_gradients)\u001b[0m\n\u001b[0;32m   1094\u001b[0m   output_gradients \u001b[38;5;241m=\u001b[39m (\n\u001b[0;32m   1095\u001b[0m       composite_tensor_gradient\u001b[38;5;241m.\u001b[39mget_flat_tensors_for_gradients(\n\u001b[0;32m   1096\u001b[0m           output_gradients))\n\u001b[0;32m   1097\u001b[0m   output_gradients \u001b[38;5;241m=\u001b[39m [\u001b[38;5;28;01mNone\u001b[39;00m \u001b[38;5;28;01mif\u001b[39;00m x \u001b[38;5;129;01mis\u001b[39;00m \u001b[38;5;28;01mNone\u001b[39;00m \u001b[38;5;28;01melse\u001b[39;00m ops\u001b[38;5;241m.\u001b[39mconvert_to_tensor(x)\n\u001b[0;32m   1098\u001b[0m                       \u001b[38;5;28;01mfor\u001b[39;00m x \u001b[38;5;129;01min\u001b[39;00m output_gradients]\n\u001b[1;32m-> 1100\u001b[0m flat_grad \u001b[38;5;241m=\u001b[39m \u001b[43mimperative_grad\u001b[49m\u001b[38;5;241;43m.\u001b[39;49m\u001b[43mimperative_grad\u001b[49m\u001b[43m(\u001b[49m\n\u001b[0;32m   1101\u001b[0m \u001b[43m    \u001b[49m\u001b[38;5;28;43mself\u001b[39;49m\u001b[38;5;241;43m.\u001b[39;49m\u001b[43m_tape\u001b[49m\u001b[43m,\u001b[49m\n\u001b[0;32m   1102\u001b[0m \u001b[43m    \u001b[49m\u001b[43mflat_targets\u001b[49m\u001b[43m,\u001b[49m\n\u001b[0;32m   1103\u001b[0m \u001b[43m    \u001b[49m\u001b[43mflat_sources\u001b[49m\u001b[43m,\u001b[49m\n\u001b[0;32m   1104\u001b[0m \u001b[43m    \u001b[49m\u001b[43moutput_gradients\u001b[49m\u001b[38;5;241;43m=\u001b[39;49m\u001b[43moutput_gradients\u001b[49m\u001b[43m,\u001b[49m\n\u001b[0;32m   1105\u001b[0m \u001b[43m    \u001b[49m\u001b[43msources_raw\u001b[49m\u001b[38;5;241;43m=\u001b[39;49m\u001b[43mflat_sources_raw\u001b[49m\u001b[43m,\u001b[49m\n\u001b[0;32m   1106\u001b[0m \u001b[43m    \u001b[49m\u001b[43munconnected_gradients\u001b[49m\u001b[38;5;241;43m=\u001b[39;49m\u001b[43munconnected_gradients\u001b[49m\u001b[43m)\u001b[49m\n\u001b[0;32m   1108\u001b[0m \u001b[38;5;28;01mif\u001b[39;00m \u001b[38;5;129;01mnot\u001b[39;00m \u001b[38;5;28mself\u001b[39m\u001b[38;5;241m.\u001b[39m_persistent:\n\u001b[0;32m   1109\u001b[0m   \u001b[38;5;66;03m# Keep track of watched variables before setting tape to None\u001b[39;00m\n\u001b[0;32m   1110\u001b[0m   \u001b[38;5;28mself\u001b[39m\u001b[38;5;241m.\u001b[39m_watched_variables \u001b[38;5;241m=\u001b[39m \u001b[38;5;28mself\u001b[39m\u001b[38;5;241m.\u001b[39m_tape\u001b[38;5;241m.\u001b[39mwatched_variables()\n",
      "File \u001b[1;32m~\\anaconda3\\envs\\env_qiskit\\lib\\site-packages\\tensorflow\\python\\eager\\imperative_grad.py:67\u001b[0m, in \u001b[0;36mimperative_grad\u001b[1;34m(tape, target, sources, output_gradients, sources_raw, unconnected_gradients)\u001b[0m\n\u001b[0;32m     63\u001b[0m \u001b[38;5;28;01mexcept\u001b[39;00m \u001b[38;5;167;01mValueError\u001b[39;00m:\n\u001b[0;32m     64\u001b[0m   \u001b[38;5;28;01mraise\u001b[39;00m \u001b[38;5;167;01mValueError\u001b[39;00m(\n\u001b[0;32m     65\u001b[0m       \u001b[38;5;124m\"\u001b[39m\u001b[38;5;124mUnknown value for unconnected_gradients: \u001b[39m\u001b[38;5;132;01m%r\u001b[39;00m\u001b[38;5;124m\"\u001b[39m \u001b[38;5;241m%\u001b[39m unconnected_gradients)\n\u001b[1;32m---> 67\u001b[0m \u001b[38;5;28;01mreturn\u001b[39;00m \u001b[43mpywrap_tfe\u001b[49m\u001b[38;5;241;43m.\u001b[39;49m\u001b[43mTFE_Py_TapeGradient\u001b[49m\u001b[43m(\u001b[49m\n\u001b[0;32m     68\u001b[0m \u001b[43m    \u001b[49m\u001b[43mtape\u001b[49m\u001b[38;5;241;43m.\u001b[39;49m\u001b[43m_tape\u001b[49m\u001b[43m,\u001b[49m\u001b[43m  \u001b[49m\u001b[38;5;66;43;03m# pylint: disable=protected-access\u001b[39;49;00m\n\u001b[0;32m     69\u001b[0m \u001b[43m    \u001b[49m\u001b[43mtarget\u001b[49m\u001b[43m,\u001b[49m\n\u001b[0;32m     70\u001b[0m \u001b[43m    \u001b[49m\u001b[43msources\u001b[49m\u001b[43m,\u001b[49m\n\u001b[0;32m     71\u001b[0m \u001b[43m    \u001b[49m\u001b[43moutput_gradients\u001b[49m\u001b[43m,\u001b[49m\n\u001b[0;32m     72\u001b[0m \u001b[43m    \u001b[49m\u001b[43msources_raw\u001b[49m\u001b[43m,\u001b[49m\n\u001b[0;32m     73\u001b[0m \u001b[43m    \u001b[49m\u001b[43mcompat\u001b[49m\u001b[38;5;241;43m.\u001b[39;49m\u001b[43mas_str\u001b[49m\u001b[43m(\u001b[49m\u001b[43munconnected_gradients\u001b[49m\u001b[38;5;241;43m.\u001b[39;49m\u001b[43mvalue\u001b[49m\u001b[43m)\u001b[49m\u001b[43m)\u001b[49m\n",
      "File \u001b[1;32m~\\anaconda3\\envs\\env_qiskit\\lib\\site-packages\\tensorflow\\python\\eager\\backprop.py:157\u001b[0m, in \u001b[0;36m_gradient_function\u001b[1;34m(op_name, attr_tuple, num_inputs, inputs, outputs, out_grads, skip_input_indices, forward_pass_name_scope)\u001b[0m\n\u001b[0;32m    155\u001b[0m     gradient_name_scope \u001b[38;5;241m+\u001b[39m\u001b[38;5;241m=\u001b[39m forward_pass_name_scope \u001b[38;5;241m+\u001b[39m \u001b[38;5;124m\"\u001b[39m\u001b[38;5;124m/\u001b[39m\u001b[38;5;124m\"\u001b[39m\n\u001b[0;32m    156\u001b[0m   \u001b[38;5;28;01mwith\u001b[39;00m ops\u001b[38;5;241m.\u001b[39mname_scope(gradient_name_scope):\n\u001b[1;32m--> 157\u001b[0m     \u001b[38;5;28;01mreturn\u001b[39;00m \u001b[43mgrad_fn\u001b[49m\u001b[43m(\u001b[49m\u001b[43mmock_op\u001b[49m\u001b[43m,\u001b[49m\u001b[43m \u001b[49m\u001b[38;5;241;43m*\u001b[39;49m\u001b[43mout_grads\u001b[49m\u001b[43m)\u001b[49m\n\u001b[0;32m    158\u001b[0m \u001b[38;5;28;01melse\u001b[39;00m:\n\u001b[0;32m    159\u001b[0m   \u001b[38;5;28;01mreturn\u001b[39;00m grad_fn(mock_op, \u001b[38;5;241m*\u001b[39mout_grads)\n",
      "File \u001b[1;32m~\\anaconda3\\envs\\env_qiskit\\lib\\site-packages\\tensorflow\\python\\ops\\math_grad.py:1389\u001b[0m, in \u001b[0;36m_MulGrad\u001b[1;34m(op, grad)\u001b[0m\n\u001b[0;32m   1386\u001b[0m   gy \u001b[38;5;241m=\u001b[39m gen_math_ops\u001b[38;5;241m.\u001b[39mmul(x, grad)\n\u001b[0;32m   1387\u001b[0m \u001b[38;5;28;01melse\u001b[39;00m:\n\u001b[0;32m   1388\u001b[0m   gy \u001b[38;5;241m=\u001b[39m array_ops\u001b[38;5;241m.\u001b[39mreshape(\n\u001b[1;32m-> 1389\u001b[0m       \u001b[43mmath_ops\u001b[49m\u001b[38;5;241;43m.\u001b[39;49m\u001b[43mreduce_sum\u001b[49m\u001b[43m(\u001b[49m\u001b[43mgen_math_ops\u001b[49m\u001b[38;5;241;43m.\u001b[39;49m\u001b[43mmul\u001b[49m\u001b[43m(\u001b[49m\u001b[43mx\u001b[49m\u001b[43m,\u001b[49m\u001b[43m \u001b[49m\u001b[43mgrad\u001b[49m\u001b[43m)\u001b[49m\u001b[43m,\u001b[49m\u001b[43m \u001b[49m\u001b[43mry\u001b[49m\u001b[43m)\u001b[49m, sy)\n\u001b[0;32m   1390\u001b[0m \u001b[38;5;28;01mreturn\u001b[39;00m (gx, gy)\n",
      "File \u001b[1;32m~\\anaconda3\\envs\\env_qiskit\\lib\\site-packages\\tensorflow\\python\\util\\traceback_utils.py:150\u001b[0m, in \u001b[0;36mfilter_traceback.<locals>.error_handler\u001b[1;34m(*args, **kwargs)\u001b[0m\n\u001b[0;32m    148\u001b[0m filtered_tb \u001b[38;5;241m=\u001b[39m \u001b[38;5;28;01mNone\u001b[39;00m\n\u001b[0;32m    149\u001b[0m \u001b[38;5;28;01mtry\u001b[39;00m:\n\u001b[1;32m--> 150\u001b[0m   \u001b[38;5;28;01mreturn\u001b[39;00m fn(\u001b[38;5;241m*\u001b[39margs, \u001b[38;5;241m*\u001b[39m\u001b[38;5;241m*\u001b[39mkwargs)\n\u001b[0;32m    151\u001b[0m \u001b[38;5;28;01mexcept\u001b[39;00m \u001b[38;5;167;01mException\u001b[39;00m \u001b[38;5;28;01mas\u001b[39;00m e:\n\u001b[0;32m    152\u001b[0m   filtered_tb \u001b[38;5;241m=\u001b[39m _process_traceback_frames(e\u001b[38;5;241m.\u001b[39m__traceback__)\n",
      "File \u001b[1;32m~\\anaconda3\\envs\\env_qiskit\\lib\\site-packages\\tensorflow\\python\\util\\dispatch.py:1082\u001b[0m, in \u001b[0;36madd_dispatch_support.<locals>.decorator.<locals>.op_dispatch_handler\u001b[1;34m(*args, **kwargs)\u001b[0m\n\u001b[0;32m   1080\u001b[0m \u001b[38;5;66;03m# Fallback dispatch system (dispatch v1):\u001b[39;00m\n\u001b[0;32m   1081\u001b[0m \u001b[38;5;28;01mtry\u001b[39;00m:\n\u001b[1;32m-> 1082\u001b[0m   \u001b[38;5;28;01mreturn\u001b[39;00m dispatch_target(\u001b[38;5;241m*\u001b[39margs, \u001b[38;5;241m*\u001b[39m\u001b[38;5;241m*\u001b[39mkwargs)\n\u001b[0;32m   1083\u001b[0m \u001b[38;5;28;01mexcept\u001b[39;00m (\u001b[38;5;167;01mTypeError\u001b[39;00m, \u001b[38;5;167;01mValueError\u001b[39;00m):\n\u001b[0;32m   1084\u001b[0m   \u001b[38;5;66;03m# Note: convert_to_eager_tensor currently raises a ValueError, not a\u001b[39;00m\n\u001b[0;32m   1085\u001b[0m   \u001b[38;5;66;03m# TypeError, when given unexpected types.  So we need to catch both.\u001b[39;00m\n\u001b[0;32m   1086\u001b[0m   result \u001b[38;5;241m=\u001b[39m dispatch(op_dispatch_handler, args, kwargs)\n",
      "File \u001b[1;32m~\\anaconda3\\envs\\env_qiskit\\lib\\site-packages\\tensorflow\\python\\ops\\math_ops.py:2311\u001b[0m, in \u001b[0;36mreduce_sum\u001b[1;34m(input_tensor, axis, keepdims, name)\u001b[0m\n\u001b[0;32m   2248\u001b[0m \u001b[38;5;129m@tf_export\u001b[39m(\u001b[38;5;124m\"\u001b[39m\u001b[38;5;124mmath.reduce_sum\u001b[39m\u001b[38;5;124m\"\u001b[39m, \u001b[38;5;124m\"\u001b[39m\u001b[38;5;124mreduce_sum\u001b[39m\u001b[38;5;124m\"\u001b[39m, v1\u001b[38;5;241m=\u001b[39m[])\n\u001b[0;32m   2249\u001b[0m \u001b[38;5;129m@dispatch\u001b[39m\u001b[38;5;241m.\u001b[39madd_dispatch_support\n\u001b[0;32m   2250\u001b[0m \u001b[38;5;28;01mdef\u001b[39;00m \u001b[38;5;21mreduce_sum\u001b[39m(input_tensor, axis\u001b[38;5;241m=\u001b[39m\u001b[38;5;28;01mNone\u001b[39;00m, keepdims\u001b[38;5;241m=\u001b[39m\u001b[38;5;28;01mFalse\u001b[39;00m, name\u001b[38;5;241m=\u001b[39m\u001b[38;5;28;01mNone\u001b[39;00m):\n\u001b[0;32m   2251\u001b[0m   \u001b[38;5;124;03m\"\"\"Computes the sum of elements across dimensions of a tensor.\u001b[39;00m\n\u001b[0;32m   2252\u001b[0m \n\u001b[0;32m   2253\u001b[0m \u001b[38;5;124;03m  This is the reduction operation for the elementwise `tf.math.add` op.\u001b[39;00m\n\u001b[1;32m   (...)\u001b[0m\n\u001b[0;32m   2308\u001b[0m \u001b[38;5;124;03m  @end_compatibility\u001b[39;00m\n\u001b[0;32m   2309\u001b[0m \u001b[38;5;124;03m  \"\"\"\u001b[39;00m\n\u001b[1;32m-> 2311\u001b[0m   \u001b[38;5;28;01mreturn\u001b[39;00m \u001b[43mreduce_sum_with_dims\u001b[49m\u001b[43m(\u001b[49m\u001b[43minput_tensor\u001b[49m\u001b[43m,\u001b[49m\u001b[43m \u001b[49m\u001b[43maxis\u001b[49m\u001b[43m,\u001b[49m\u001b[43m \u001b[49m\u001b[43mkeepdims\u001b[49m\u001b[43m,\u001b[49m\u001b[43m \u001b[49m\u001b[43mname\u001b[49m\u001b[43m,\u001b[49m\n\u001b[0;32m   2312\u001b[0m \u001b[43m                              \u001b[49m\u001b[43m_ReductionDims\u001b[49m\u001b[43m(\u001b[49m\u001b[43minput_tensor\u001b[49m\u001b[43m,\u001b[49m\u001b[43m \u001b[49m\u001b[43maxis\u001b[49m\u001b[43m)\u001b[49m\u001b[43m)\u001b[49m\n",
      "File \u001b[1;32m~\\anaconda3\\envs\\env_qiskit\\lib\\site-packages\\tensorflow\\python\\ops\\math_ops.py:2323\u001b[0m, in \u001b[0;36mreduce_sum_with_dims\u001b[1;34m(input_tensor, axis, keepdims, name, dims)\u001b[0m\n\u001b[0;32m   2315\u001b[0m \u001b[38;5;28;01mdef\u001b[39;00m \u001b[38;5;21mreduce_sum_with_dims\u001b[39m(input_tensor,\n\u001b[0;32m   2316\u001b[0m                          axis\u001b[38;5;241m=\u001b[39m\u001b[38;5;28;01mNone\u001b[39;00m,\n\u001b[0;32m   2317\u001b[0m                          keepdims\u001b[38;5;241m=\u001b[39m\u001b[38;5;28;01mFalse\u001b[39;00m,\n\u001b[0;32m   2318\u001b[0m                          name\u001b[38;5;241m=\u001b[39m\u001b[38;5;28;01mNone\u001b[39;00m,\n\u001b[0;32m   2319\u001b[0m                          dims\u001b[38;5;241m=\u001b[39m\u001b[38;5;28;01mNone\u001b[39;00m):\n\u001b[0;32m   2320\u001b[0m   keepdims \u001b[38;5;241m=\u001b[39m \u001b[38;5;28;01mFalse\u001b[39;00m \u001b[38;5;28;01mif\u001b[39;00m keepdims \u001b[38;5;129;01mis\u001b[39;00m \u001b[38;5;28;01mNone\u001b[39;00m \u001b[38;5;28;01melse\u001b[39;00m \u001b[38;5;28mbool\u001b[39m(keepdims)\n\u001b[0;32m   2321\u001b[0m   \u001b[38;5;28;01mreturn\u001b[39;00m _may_reduce_to_scalar(\n\u001b[0;32m   2322\u001b[0m       keepdims, axis,\n\u001b[1;32m-> 2323\u001b[0m       \u001b[43mgen_math_ops\u001b[49m\u001b[38;5;241;43m.\u001b[39;49m\u001b[43m_sum\u001b[49m\u001b[43m(\u001b[49m\u001b[43minput_tensor\u001b[49m\u001b[43m,\u001b[49m\u001b[43m \u001b[49m\u001b[43mdims\u001b[49m\u001b[43m,\u001b[49m\u001b[43m \u001b[49m\u001b[43mkeepdims\u001b[49m\u001b[43m,\u001b[49m\u001b[43m \u001b[49m\u001b[43mname\u001b[49m\u001b[38;5;241;43m=\u001b[39;49m\u001b[43mname\u001b[49m\u001b[43m)\u001b[49m)\n",
      "File \u001b[1;32m~\\anaconda3\\envs\\env_qiskit\\lib\\site-packages\\tensorflow\\python\\ops\\gen_math_ops.py:11227\u001b[0m, in \u001b[0;36m_sum\u001b[1;34m(input, axis, keep_dims, name)\u001b[0m\n\u001b[0;32m  11225\u001b[0m \u001b[38;5;28;01mif\u001b[39;00m tld\u001b[38;5;241m.\u001b[39mis_eager:\n\u001b[0;32m  11226\u001b[0m   \u001b[38;5;28;01mtry\u001b[39;00m:\n\u001b[1;32m> 11227\u001b[0m     _result \u001b[38;5;241m=\u001b[39m \u001b[43mpywrap_tfe\u001b[49m\u001b[38;5;241;43m.\u001b[39;49m\u001b[43mTFE_Py_FastPathExecute\u001b[49m\u001b[43m(\u001b[49m\n\u001b[0;32m  11228\u001b[0m \u001b[43m      \u001b[49m\u001b[43m_ctx\u001b[49m\u001b[43m,\u001b[49m\u001b[43m \u001b[49m\u001b[38;5;124;43m\"\u001b[39;49m\u001b[38;5;124;43mSum\u001b[39;49m\u001b[38;5;124;43m\"\u001b[39;49m\u001b[43m,\u001b[49m\u001b[43m \u001b[49m\u001b[43mname\u001b[49m\u001b[43m,\u001b[49m\u001b[43m \u001b[49m\u001b[38;5;28;43minput\u001b[39;49m\u001b[43m,\u001b[49m\u001b[43m \u001b[49m\u001b[43maxis\u001b[49m\u001b[43m,\u001b[49m\u001b[43m \u001b[49m\u001b[38;5;124;43m\"\u001b[39;49m\u001b[38;5;124;43mkeep_dims\u001b[39;49m\u001b[38;5;124;43m\"\u001b[39;49m\u001b[43m,\u001b[49m\u001b[43m \u001b[49m\u001b[43mkeep_dims\u001b[49m\u001b[43m)\u001b[49m\n\u001b[0;32m  11229\u001b[0m     \u001b[38;5;28;01mreturn\u001b[39;00m _result\n\u001b[0;32m  11230\u001b[0m   \u001b[38;5;28;01mexcept\u001b[39;00m _core\u001b[38;5;241m.\u001b[39m_NotOkStatusException \u001b[38;5;28;01mas\u001b[39;00m e:\n",
      "\u001b[1;31mKeyboardInterrupt\u001b[0m: "
     ]
    }
   ],
   "source": [
    "n = 3\n",
    "d = 2**n\n",
    "\n",
    "np.random.seed(42)\n",
    "random.seed(42)\n",
    "tf.random.set_seed(42)\n",
    "rng = np.random.default_rng(seed=42)\n",
    "\n",
    "distance_best_list, model_best_list = fit_diluted_unitary(spectrum_target_list1, \n",
    "                                                          d=d, \n",
    "                                                          rank_start=1, \n",
    "                                                          rank_step=1,\n",
    "                                                          num_iter = 2000,\n",
    "                                                         )\n",
    "\n",
    "saver([distance_best_list, model_best_list], data_path(\"diluted_fitting_8layer.model\"))"
   ]
  },
  {
   "cell_type": "code",
   "execution_count": null,
   "metadata": {
    "scrolled": true
   },
   "outputs": [],
   "source": [
    "n = 3\n",
    "d = 2**n\n",
    "\n",
    "np.random.seed(42)\n",
    "random.seed(42)\n",
    "tf.random.set_seed(42)\n",
    "rng = np.random.default_rng(seed=42)\n",
    "\n",
    "distance_best_list, model_best_list = fit_diluted_unitary(spectrum_target_list2, \n",
    "                                                          d=d, \n",
    "                                                          rank_start=1, \n",
    "                                                          rank_step=1,\n",
    "                                                          num_iter = 1000)\n",
    "\n",
    "saver([distance_best_list, model_best_list], data_path(\"diluted_fitting_16layer.model\"))"
   ]
  },
  {
   "cell_type": "code",
   "execution_count": null,
   "metadata": {},
   "outputs": [],
   "source": [
    "n = 3\n",
    "d = 2**n\n",
    "\n",
    "np.random.seed(42)\n",
    "random.seed(42)\n",
    "tf.random.set_seed(42)\n",
    "rng = np.random.default_rng(seed=42)\n",
    "\n",
    "distance_best_list, model_best_list = fit_diluted_unitary(spectrum_target_list3, \n",
    "                                                          d=d, \n",
    "                                                          rank_start=1, \n",
    "                                                          rank_step=1,\n",
    "                                                          num_iter = 1000)\n",
    "\n",
    "saver([distance_best_list, model_best_list], data_path(\"diluted_fitting_24layer.model\"))"
   ]
  },
  {
   "cell_type": "code",
   "execution_count": null,
   "metadata": {},
   "outputs": [],
   "source": [
    "n = 3\n",
    "d = 2**n\n",
    "\n",
    "np.random.seed(42)\n",
    "random.seed(42)\n",
    "tf.random.set_seed(42)\n",
    "rng = np.random.default_rng(seed=42)\n",
    "\n",
    "distance_best_list, model_best_list = fit_diluted_unitary(spectrum_target_list4, \n",
    "                                                          d=d, \n",
    "                                                          rank_start=1, \n",
    "                                                          rank_step=1,\n",
    "                                                          num_iter = 1000)\n",
    "\n",
    "saver([distance_best_list, model_best_list], data_path(\"diluted_fitting_32layer.model\"))"
   ]
  },
  {
   "cell_type": "markdown",
   "metadata": {},
   "source": [
    "## Four Qubits"
   ]
  },
  {
   "cell_type": "code",
   "execution_count": null,
   "metadata": {},
   "outputs": [],
   "source": [
    "n = 4\n",
    "d = 2**n\n",
    "\n",
    "[model1, model2, model3, model4, model5] = loader(data_path(\"belem_4qubit_repeated.model\"))\n",
    "\n",
    "spectrum1 = channel_spectrum(model1.channel, use_coords=True)\n",
    "spectrum2 = channel_spectrum(model2.channel, use_coords=True) \n",
    "spectrum3 = channel_spectrum(model3.channel, use_coords=True)\n",
    "spectrum4 = channel_spectrum(model4.channel, use_coords=True)\n",
    "spectrum5 = channel_spectrum(model5.channel, use_coords=True)"
   ]
  },
  {
   "cell_type": "code",
   "execution_count": null,
   "metadata": {
    "scrolled": true
   },
   "outputs": [],
   "source": [
    "distance_best, model_best = optimize_annulus_distance(spectrum_target = spectrum1, \n",
    "                                                      d = d, \n",
    "                                                      rank_start = 1, \n",
    "                                                      rank_step = 1,\n",
    "                                                      num_iter = 1000)\n",
    "\n",
    "model_best.optimizer = None\n",
    "saver([distance_best, model_best], data_path(\"diluted_fitting_4qubit_8layer.model\"))"
   ]
  },
  {
   "cell_type": "code",
   "execution_count": null,
   "metadata": {},
   "outputs": [],
   "source": [
    "distance_best, model_best = optimize_annulus_distance(spectrum_target = spectrum2, \n",
    "                                                      d = d, \n",
    "                                                      rank_start = 1, \n",
    "                                                      rank_step = 1,\n",
    "                                                      num_iter = 1000)\n",
    "\n",
    "model_best.optimizer = None\n",
    "saver([distance_best, model_best], data_path(\"diluted_fitting_4qubit_16layer.model\"))"
   ]
  },
  {
   "cell_type": "code",
   "execution_count": null,
   "metadata": {},
   "outputs": [],
   "source": [
    "distance_best, model_best = optimize_annulus_distance(spectrum_target = spectrum3, \n",
    "                                                      d = d, \n",
    "                                                      rank_start = 1, \n",
    "                                                      rank_step = 1,\n",
    "                                                      num_iter = 1000)\n",
    "\n",
    "model_best.optimizer = None\n",
    "saver([distance_best, model_best], data_path(\"diluted_fitting_4qubit_24layer.model\"))"
   ]
  },
  {
   "cell_type": "code",
   "execution_count": null,
   "metadata": {},
   "outputs": [],
   "source": [
    "distance_best, model_best = optimize_annulus_distance(spectrum_target = spectrum4, \n",
    "                                                      d = d, \n",
    "                                                      rank_start = 1, \n",
    "                                                      rank_step = 1,\n",
    "                                                      num_iter = 1000)\n",
    "\n",
    "model_best.optimizer = None\n",
    "saver([distance_best, model_best], data_path(\"diluted_fitting_4qubit_32layer.model\"))"
   ]
  },
  {
   "cell_type": "code",
   "execution_count": null,
   "metadata": {},
   "outputs": [],
   "source": []
  }
 ],
 "metadata": {
  "kernelspec": {
   "display_name": "env_qiskit",
   "language": "python",
   "name": "env_qiskit"
  },
  "language_info": {
   "codemirror_mode": {
    "name": "ipython",
    "version": 3
   },
   "file_extension": ".py",
   "mimetype": "text/x-python",
   "name": "python",
   "nbconvert_exporter": "python",
   "pygments_lexer": "ipython3",
   "version": "3.10.4"
  }
 },
 "nbformat": 4,
 "nbformat_minor": 4
}
