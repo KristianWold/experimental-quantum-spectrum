{
 "cells": [
  {
   "cell_type": "markdown",
   "metadata": {},
   "source": [
    "# Numerical Benchmarks"
   ]
  },
  {
   "cell_type": "code",
   "execution_count": 1,
   "metadata": {},
   "outputs": [],
   "source": [
    "import sys\n",
    "sys.path.insert(0, '../../src_tf/')\n",
    "\n",
    "import numpy as np\n",
    "import qiskit as qk\n",
    "import matplotlib.pyplot as plt\n",
    "import multiprocessing as mp\n",
    "import random\n",
    "import pickle\n",
    "\n",
    "from qiskit.quantum_info import DensityMatrix, random_unitary\n",
    "from qiskit.quantum_info import Operator\n",
    "from scipy.linalg import sqrtm\n",
    "from tqdm.notebook import tqdm\n",
    "\n",
    "from loss_functions import *\n",
    "from optimization import *\n",
    "from quantum_channel import *\n",
    "from kraus_channels import *\n",
    "from lindblad_channels import *\n",
    "from quantum_tools import *\n",
    "from experimental import *\n",
    "from spam import *\n",
    "\n",
    "#np.set_printoptions(threshold=sys.maxsize)\n",
    "np.set_printoptions(precision=4)\n",
    "\n",
    "import os\n",
    "os.environ[\"CUDA_VISIBLE_DEVICES\"] = \"-1\""
   ]
  },
  {
   "cell_type": "markdown",
   "metadata": {},
   "source": [
    "## Recover SPAM and Map\n",
    "\n",
    "### Generate True Model, Full POVM and Inital"
   ]
  },
  {
   "cell_type": "code",
   "execution_count": 2,
   "metadata": {},
   "outputs": [],
   "source": [
    "def generate_spam_benchmark(n=3, c1=1, c2=1):\n",
    "    d = 2**n\n",
    "\n",
    "    init_target = InitialState(d, c=c1)\n",
    "    povm_target = POVM(d, c=c2)\n",
    "\n",
    "    spam_target = SPAM(init = init_target,\n",
    "                       povm = povm_target)\n",
    "    \n",
    "    return spam_target\n",
    "\n",
    "\n",
    "def generate_spam_data(spam_target, N_spam=None, noise=0):\n",
    "    n = int(np.log2(spam_target.d))\n",
    "    inputs_spam, _ = generate_pauliInput_circuits(n)\n",
    "    N_spam = inputs_spam.shape[0]\n",
    "\n",
    "    state = tf.repeat(spam_target.init.init[None,:,:], N_spam, axis=0)\n",
    "    targets_spam = measurement(state, U_basis = inputs_spam, povm = spam_target.povm.povm)\n",
    "\n",
    "    #add noise\n",
    "    targets_spam = add_noise_to_probs(targets_spam, noise=noise)\n",
    "    return inputs_spam, targets_spam\n",
    "\n",
    "\n",
    "def generate_map_data(channel_target, spam_target, N_map=None, noise=0):\n",
    "    n = channel_target.n\n",
    "    inputs_map, _ = generate_pauli_circuits(n = n, \n",
    "                                            circuit_target=None,  \n",
    "                                            trace=False,\n",
    "                                            N=N_map)\n",
    "    U_prep, U_basis = inputs_map\n",
    "\n",
    "    N_map = U_prep.shape[0]\n",
    "    state = tf.repeat(tf.expand_dims(spam_target.init.init, axis=0), N_map, axis=0)\n",
    "    state = apply_unitary(state, U_prep)\n",
    "    state = channel_target.apply_channel(state)\n",
    "    targets_map = measurement(state, U_basis, spam_target.povm.povm)\n",
    "    \n",
    "    #add noise\n",
    "    targets_map = add_noise_to_probs(targets_map, noise=noise)\n",
    "    \n",
    "    return inputs_map, targets_map\n",
    "\n",
    "\n",
    "def model_pipeline(channel_target, noise, N_map = None, num_iter_spam=None, num_iter_map=None):\n",
    "    # Make Benchmark\n",
    "    #################################################################################\n",
    "    n = 3\n",
    "    d = 2**n\n",
    "    \n",
    "    spam_target = generate_spam_benchmark(n=n, c1=0.9, c2=0.9)\n",
    "    inputs_spam, targets_spam = generate_spam_data(spam_target, N_spam=None, noise=noise)\n",
    "\n",
    "    inputs_map, targets_map = generate_map_data(channel_target, spam_target, N_map=N_map, noise=noise)\n",
    "    #################################################################################\n",
    "\n",
    "    # Fit Models\n",
    "    #################################################################################\n",
    "    spam_model = SPAM(init = InitialState(d, c=0.9),\n",
    "                      povm = CorruptionMatrix(d, c=0.9),\n",
    "                      optimizer = tf.optimizers.Adam(learning_rate=0.01))\n",
    "    \n",
    "    #spam_model.pretrain(300, verbose=False)\n",
    "\n",
    "    spam_model.train(inputs = inputs_spam,\n",
    "                     targets = targets_spam,\n",
    "                     num_iter = num_iter_map,\n",
    "                     verbose = False,\n",
    "                    )\n",
    "\n",
    "    model = ModelQuantumMap(channel = KrausMap(d = d, \n",
    "                                               rank = d**2,\n",
    "                                               spam = spam_model,\n",
    "                                              ),\n",
    "                            loss_function = ProbabilityMSE(),\n",
    "                            optimizer = tf.optimizers.Adam(learning_rate=0.01),\n",
    "                            logger = Logger(loss_function = ProbabilityMSE(),\n",
    "                                            loss_function_val = channel_fidelity_loss),\n",
    "                           )\n",
    "\n",
    "    model.train(inputs = inputs_map,\n",
    "                targets = targets_map,\n",
    "                inputs_val = None,\n",
    "                targets_val = [channel_target],\n",
    "                num_iter = num_iter_map,\n",
    "                N = 500,\n",
    "                )\n",
    "    #################################################################################\n",
    "    model.optimizer = None\n",
    "    spam_model.optimizer = None\n",
    "    model.inputs = None\n",
    "    model.targets = None\n",
    "    model.inputs_val = None\n",
    "    model.targets_val = None\n",
    "\n",
    "    return model"
   ]
  },
  {
   "cell_type": "markdown",
   "metadata": {},
   "source": [
    "## Fit Models"
   ]
  },
  {
   "cell_type": "code",
   "execution_count": 3,
   "metadata": {},
   "outputs": [
    {
     "data": {
      "application/vnd.jupyter.widget-view+json": {
       "model_id": "a3ebf83f05544ff6a6e901d93ae99d70",
       "version_major": 2,
       "version_minor": 0
      },
      "text/plain": [
       "  0%|          | 0/300 [00:00<?, ?it/s]"
      ]
     },
     "metadata": {},
     "output_type": "display_data"
    },
    {
     "data": {
      "application/vnd.jupyter.widget-view+json": {
       "model_id": "62fda69bdc5149ae90cc442ac1d13808",
       "version_major": 2,
       "version_minor": 0
      },
      "text/plain": [
       "  0%|          | 0/2000 [00:00<?, ?it/s]"
      ]
     },
     "metadata": {},
     "output_type": "display_data"
    },
    {
     "name": "stdout",
     "output_type": "stream",
     "text": [
      "0.0005818885180147983\n"
     ]
    },
    {
     "data": {
      "application/vnd.jupyter.widget-view+json": {
       "model_id": "0f1d64564e8c47d1acc3376954a0c726",
       "version_major": 2,
       "version_minor": 0
      },
      "text/plain": [
       "  0%|          | 0/2000 [00:00<?, ?it/s]"
      ]
     },
     "metadata": {},
     "output_type": "display_data"
    },
    {
     "name": "stdout",
     "output_type": "stream",
     "text": [
      "0.25243208190208133 -0.08766725008272647\n",
      "0.0616823207458411 -0.36338707709444046\n",
      "0.01631739251504451 -0.6697500534848881\n",
      "0.00852686279156613 -0.8029605828672957\n",
      "0.0067733834222908134 -0.8596038097850395\n",
      "0.006164830253293025 -0.8890484612928753\n",
      "0.005882481586489903 -0.9065921081003928\n",
      "0.005732096775077066 -0.9173622464139691\n",
      "0.005646760916410726 -0.924888673631164\n",
      "0.0055843358350027355 -0.9298215480777474\n",
      "0.005545855935096221 -0.9336389272996435\n",
      "0.005519977659985953 -0.9363044761706406\n",
      "0.005493533881257774 -0.9382761164958924\n",
      "0.005479086877201201 -0.9400050668596465\n",
      "0.005478060198981101 -0.941117473855103\n",
      "0.005466509675390417 -0.9418733429407786\n",
      "0.005457516193618437 -0.9427328746416037\n",
      "0.005455563434598238 -0.9434909062513649\n",
      "0.005447848790114807 -0.9440121158601775\n",
      "0.005449749883506291 -0.9444297708973122\n",
      "0.005450818644797746 -0.9445444434683892\n"
     ]
    },
    {
     "ename": "NameError",
     "evalue": "name 'channel_target2' is not defined",
     "output_type": "error",
     "traceback": [
      "\u001b[1;31m---------------------------------------------------------------------------\u001b[0m",
      "\u001b[1;31mNameError\u001b[0m                                 Traceback (most recent call last)",
      "Input \u001b[1;32mIn [3]\u001b[0m, in \u001b[0;36m<cell line: 36>\u001b[1;34m()\u001b[0m\n\u001b[0;32m      9\u001b[0m model1 \u001b[38;5;241m=\u001b[39m model_pipeline(channel_target1, \n\u001b[0;32m     10\u001b[0m                         noise\u001b[38;5;241m=\u001b[39m\u001b[38;5;241m1\u001b[39m\u001b[38;5;241m/\u001b[39mnp\u001b[38;5;241m.\u001b[39msqrt(\u001b[38;5;241m1024\u001b[39m), \n\u001b[0;32m     11\u001b[0m                         N_map\u001b[38;5;241m=\u001b[39m\u001b[38;5;241m2000\u001b[39m\u001b[38;5;241m-\u001b[39m\u001b[38;5;241m6\u001b[39m\u001b[38;5;241m*\u001b[39m\u001b[38;5;241m*\u001b[39mn, \n\u001b[0;32m     12\u001b[0m                         num_iter_spam \u001b[38;5;241m=\u001b[39m \u001b[38;5;241m2000\u001b[39m,\n\u001b[0;32m     13\u001b[0m                         num_iter_map \u001b[38;5;241m=\u001b[39m \u001b[38;5;241m2000\u001b[39m)\n\u001b[0;32m     15\u001b[0m \u001b[38;5;66;03m#channel_target2 = CompactLindbladMap(d, 16, 10000, 0.001)\u001b[39;00m\n\u001b[0;32m     16\u001b[0m \u001b[38;5;66;03m#model2 = model_pipeline(channel_target2, \u001b[39;00m\n\u001b[0;32m     17\u001b[0m \u001b[38;5;66;03m#                        noise=1/np.sqrt(1024), \u001b[39;00m\n\u001b[1;32m   (...)\u001b[0m\n\u001b[0;32m     33\u001b[0m \u001b[38;5;66;03m#                        num_iter_spam = 2000,\u001b[39;00m\n\u001b[0;32m     34\u001b[0m \u001b[38;5;66;03m#                        num_iter_map = 2000)\u001b[39;00m\n\u001b[1;32m---> 36\u001b[0m saver([[channel_target1, \u001b[43mchannel_target2\u001b[49m, channel_target3, channel_target4],\n\u001b[0;32m     37\u001b[0m        [model1, model2, model3, model4]], data_path(\u001b[38;5;124m\"\u001b[39m\u001b[38;5;124matypical_maps_benchmark.model\u001b[39m\u001b[38;5;124m\"\u001b[39m))\n",
      "\u001b[1;31mNameError\u001b[0m: name 'channel_target2' is not defined"
     ]
    }
   ],
   "source": [
    "np.random.seed(42)\n",
    "random.seed(42)\n",
    "tf.random.set_seed(42)\n",
    "\n",
    "n = 3\n",
    "d = 2**n\n",
    "\n",
    "channel_target1 = CompactLindbladMap(d, 1, 1, 0.1)\n",
    "model1 = model_pipeline(channel_target1, \n",
    "                        noise=1/np.sqrt(1024), \n",
    "                        N_map=2000-6**n, \n",
    "                        num_iter_spam = 2000,\n",
    "                        num_iter_map = 2000)\n",
    "\n",
    "channel_target2 = CompactLindbladMap(d, 16, 10000, 0.001)\n",
    "model2 = model_pipeline(channel_target2, \n",
    "                        noise=1/np.sqrt(1024), \n",
    "                        N_map=2000-6**n, \n",
    "                        num_iter_spam = 2000,\n",
    "                        num_iter_map = 2000)\n",
    "\n",
    "channel_target3 = CompactLindbladMap(d, 16, 100, 0.001)\n",
    "model3 = model_pipeline(channel_target3, \n",
    "                        noise=1/np.sqrt(1024), \n",
    "                        N_map=2000-6**n, \n",
    "                        num_iter_spam = 2000,\n",
    "                        num_iter_map = 2000)\n",
    "\n",
    "channel_target4 = CompactLindbladMap(d, 8, 1, 0.01)\n",
    "model4 = model_pipeline(channel_target4, \n",
    "                        noise=1/np.sqrt(1024), \n",
    "                        N_map=2000-6**n, \n",
    "                        num_iter_spam = 2000,\n",
    "                        num_iter_map = 2000)\n",
    "\n",
    "saver([[channel_target1, channel_target2, channel_target3, channel_target4],\n",
    "       [model1, model2, model3, model4]], data_path(\"atypical_maps_benchmark.model\"))"
   ]
  },
  {
   "cell_type": "markdown",
   "metadata": {},
   "source": [
    "## Sample and Noise Sensitivity"
   ]
  },
  {
   "cell_type": "code",
   "execution_count": 35,
   "metadata": {
    "scrolled": true
   },
   "outputs": [
    {
     "data": {
      "application/vnd.jupyter.widget-view+json": {
       "model_id": "bee502f420f649149aec988f30f2ce94",
       "version_major": 2,
       "version_minor": 0
      },
      "text/plain": [
       "  0%|          | 0/2000 [00:00<?, ?it/s]"
      ]
     },
     "metadata": {},
     "output_type": "display_data"
    },
    {
     "name": "stdout",
     "output_type": "stream",
     "text": [
      "0.002150885368496384\n"
     ]
    },
    {
     "data": {
      "application/vnd.jupyter.widget-view+json": {
       "model_id": "6d3c3a1b3afc493eb54be0895c245295",
       "version_major": 2,
       "version_minor": 0
      },
      "text/plain": [
       "  0%|          | 0/2000 [00:00<?, ?it/s]"
      ]
     },
     "metadata": {},
     "output_type": "display_data"
    },
    {
     "name": "stdout",
     "output_type": "stream",
     "text": [
      "0.26794769945899877 -0.08766725008272647\n",
      "0.05727617631030303 -0.32823873994945213\n",
      "0.023443908262908056 -0.5578519809993621\n",
      "0.016596680063794774 -0.6689932353624459\n",
      "0.014566280268694824 -0.7200146732522673\n",
      "0.013748146878470471 -0.74554355477519\n",
      "0.013355446128449001 -0.7592869395858155\n",
      "0.013146890185628162 -0.7671375099966475\n",
      "0.013028770602231116 -0.7718333794992721\n",
      "0.012958754711124698 -0.7747378601268832\n",
      "0.012915776337280634 -0.7765735059087531\n",
      "0.012888636937981457 -0.7777447955688811\n",
      "0.01287108629413317 -0.7784894226712602\n",
      "0.012859499829226614 -0.7789533336601742\n",
      "0.012851708769692098 -0.779229680897788\n",
      "0.012846381035251498 -0.7793798838413293\n",
      "0.012842680124269158 -0.7794454517563968\n",
      "0.012840070704480053 -0.7794549124603439\n",
      "0.01283820455979948 -0.7794280417978202\n",
      "0.012836851950982626 -0.779378590258415\n",
      "0.012835859349478528 -0.7793160947892934\n"
     ]
    },
    {
     "data": {
      "application/vnd.jupyter.widget-view+json": {
       "model_id": "ead68b1b20a144a18e5f2ab5fe98324b",
       "version_major": 2,
       "version_minor": 0
      },
      "text/plain": [
       "  0%|          | 0/2000 [00:00<?, ?it/s]"
      ]
     },
     "metadata": {},
     "output_type": "display_data"
    },
    {
     "name": "stdout",
     "output_type": "stream",
     "text": [
      "0.0005860259004604901\n"
     ]
    },
    {
     "data": {
      "application/vnd.jupyter.widget-view+json": {
       "model_id": "5aeabccb2e0c42fb88307719ad886677",
       "version_major": 2,
       "version_minor": 0
      },
      "text/plain": [
       "  0%|          | 0/2000 [00:00<?, ?it/s]"
      ]
     },
     "metadata": {},
     "output_type": "display_data"
    },
    {
     "name": "stdout",
     "output_type": "stream",
     "text": [
      "0.26183366025899574 -0.09546508173774945\n",
      "0.05804923003313081 -0.3836870689402144\n",
      "0.01456783014154421 -0.6782415743732303\n",
      "0.008055271266233155 -0.7997469155404681\n",
      "0.006442384859366886 -0.853576327015411\n",
      "0.005854880202044879 -0.8814206197298448\n",
      "0.0055759681995227 -0.89771676858529\n",
      "0.0054225984661744695 -0.9082698126722878\n",
      "0.005323488990180328 -0.9152490824309225\n",
      "0.005266835251282968 -0.9199113661732512\n",
      "0.005221052361611207 -0.9232531328518004\n",
      "0.00519161745737921 -0.9258573499156537\n",
      "0.0051731496263289645 -0.9277300584242826\n",
      "0.005162893959857506 -0.9292405608296987\n",
      "0.005146395630008088 -0.9301145195492124\n",
      "0.005141348850941941 -0.9308924629328316\n",
      "0.005133916955795202 -0.9311124721513038\n",
      "0.005131786902931999 -0.931672102445257\n",
      "0.005132760999965699 -0.9322880739258611\n",
      "0.005122538857977105 -0.9322660155416707\n",
      "0.005123109053077666 -0.9323865866372074\n"
     ]
    },
    {
     "data": {
      "application/vnd.jupyter.widget-view+json": {
       "model_id": "1c677bfaec99475e932829e3b316d780",
       "version_major": 2,
       "version_minor": 0
      },
      "text/plain": [
       "  0%|          | 0/2000 [00:00<?, ?it/s]"
      ]
     },
     "metadata": {},
     "output_type": "display_data"
    },
    {
     "name": "stdout",
     "output_type": "stream",
     "text": [
      "0.00021868318417711652\n"
     ]
    },
    {
     "data": {
      "application/vnd.jupyter.widget-view+json": {
       "model_id": "5922549c895e49b88668d742b293c351",
       "version_major": 2,
       "version_minor": 0
      },
      "text/plain": [
       "  0%|          | 0/2000 [00:00<?, ?it/s]"
      ]
     },
     "metadata": {},
     "output_type": "display_data"
    },
    {
     "name": "stdout",
     "output_type": "stream",
     "text": [
      "0.24485502378472027 -0.09180766146796303\n",
      "0.0572850297124044 -0.37854715398471805\n",
      "0.011308903999917297 -0.6923326312688468\n",
      "0.004255240055662699 -0.8204710473790029\n",
      "0.0026948115814801493 -0.8759911284844459\n",
      "0.0021618700226277 -0.9057524723100916\n",
      "0.0019293786221442144 -0.9237130516351342\n",
      "0.0018038145377991103 -0.9359858183161975\n",
      "0.0017307560544893206 -0.9445272729387377\n",
      "0.0016835010144228837 -0.9508518717160213\n",
      "0.0016517915097362208 -0.9557641896728687\n",
      "0.0016310500874419777 -0.959356291152569\n",
      "0.0016154433882695888 -0.9621214846120035\n",
      "0.001604145290418941 -0.9644911330883145\n",
      "0.001594863403115936 -0.9662791189616631\n",
      "0.0015907851081693523 -0.9677623117918802\n",
      "0.001584398841224131 -0.9690486095663288\n",
      "0.0015819960065241042 -0.9698267403171676\n",
      "0.0015799093556278935 -0.9707043303266133\n",
      "0.0015767840657381043 -0.9712811836131505\n",
      "0.001574551294343063 -0.9716889580011804\n"
     ]
    }
   ],
   "source": [
    "n = 3\n",
    "d = 2**n\n",
    "np.random.seed(42)\n",
    "random.seed(42)\n",
    "tf.random.set_seed(42)\n",
    "\n",
    "channel_target = CompactLindbladMap(d, 1, 1, 0.1)\n",
    "model_ns1 = model_pipeline(channel_target, \n",
    "                           noise=1/np.sqrt(256), \n",
    "                           N_map=256, \n",
    "                           num_iter_spam = 2000,\n",
    "                           num_iter_map = 2000)\n",
    "\n",
    "\n",
    "model_ns2 = model_pipeline(channel_target, \n",
    "                           noise=1/np.sqrt(1024), \n",
    "                           N_map=1024, \n",
    "                           num_iter_spam = 2000,\n",
    "                           num_iter_map = 2000)\n",
    "\n",
    "model_ns3 = model_pipeline(channel_target, \n",
    "                           noise=1/np.sqrt(4096), \n",
    "                           N_map=4096, \n",
    "                           num_iter_spam = 2000,\n",
    "                           num_iter_map = 2000)\n",
    "\n",
    "saver([[channel_target],\n",
    "       [model_ns1, model_ns2, model_ns3]], data_path(\"atypical_maps_robustness.model\"))"
   ]
  },
  {
   "cell_type": "code",
   "execution_count": null,
   "metadata": {},
   "outputs": [],
   "source": []
  }
 ],
 "metadata": {
  "kernelspec": {
   "display_name": "env_qiskit",
   "language": "python",
   "name": "env_qiskit"
  },
  "language_info": {
   "codemirror_mode": {
    "name": "ipython",
    "version": 3
   },
   "file_extension": ".py",
   "mimetype": "text/x-python",
   "name": "python",
   "nbconvert_exporter": "python",
   "pygments_lexer": "ipython3",
   "version": "3.10.4"
  }
 },
 "nbformat": 4,
 "nbformat_minor": 4
}
