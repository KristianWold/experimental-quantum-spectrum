{
 "cells": [
  {
   "cell_type": "markdown",
   "metadata": {},
   "source": [
    "# Numerical Benchmarks"
   ]
  },
  {
   "cell_type": "code",
   "execution_count": 1,
   "metadata": {},
   "outputs": [],
   "source": [
    "import sys\n",
    "sys.path.insert(0, '../../src_tf/')\n",
    "\n",
    "import numpy as np\n",
    "import qiskit as qk\n",
    "import matplotlib.pyplot as plt\n",
    "import multiprocessing as mp\n",
    "import random\n",
    "import pickle\n",
    "\n",
    "from qiskit.quantum_info import DensityMatrix\n",
    "from qiskit.quantum_info import Operator\n",
    "from qiskit.quantum_info import random_unitary\n",
    "from scipy.linalg import sqrtm\n",
    "from tqdm.notebook import tqdm\n",
    "\n",
    "from loss_functions import *\n",
    "from optimization import *\n",
    "from quantum_maps import *\n",
    "from quantum_tools import *\n",
    "from experiments import *\n",
    "#np.set_printoptions(threshold=sys.maxsize)\n",
    "np.set_printoptions(precision=3)\n",
    "\n",
    "import os\n",
    "os.environ[\"CUDA_VISIBLE_DEVICES\"] = \"-1\""
   ]
  },
  {
   "cell_type": "code",
   "execution_count": 2,
   "metadata": {},
   "outputs": [],
   "source": [
    "def generate_spam_data(spam_target, noise = 0):\n",
    "    n = int(np.log2(spam_target.d))\n",
    "    \n",
    "    inputs_spam, _ = generate_pauliInput_circuits(n)\n",
    "\n",
    "    U_prep = inputs_spam\n",
    "    N_spam = U_prep.shape[0]\n",
    "\n",
    "    state = tf.repeat(spam_target.init[None,:,:], N_spam, axis=0)\n",
    "    state = apply_unitary(state, U_prep)\n",
    "    targets_spam = measurement(state, povm = spam_target.povm)\n",
    "    targets_spam = add_noise_to_probs(targets_spam, sigma = noise)\n",
    "    \n",
    "    return inputs_spam, targets_spam\n",
    "\n",
    "\n",
    "def generate_map_data(kraus_target, noise = 0):\n",
    "    n = int(np.log2(kraus_target.d))\n",
    "    inputs_map, _ = generate_pauli_circuits(n = n, \n",
    "                                            circuit_target=None, \n",
    "                                            N = None, \n",
    "                                            trace=False)\n",
    "    U_prep, U_basis = inputs_map\n",
    "    N_map = U_prep.shape[0]\n",
    "    \n",
    "    state = tf.repeat(tf.expand_dims(spam_target.init, axis=0), N_map, axis=0)\n",
    "    state = apply_unitary(state, U_prep)\n",
    "    state = kraus_target.apply_map(state)\n",
    "    targets_map = measurement(state, U_basis, spam_target.povm)\n",
    "    targets_map = add_noise_to_probs(targets_map, sigma = noise)\n",
    "    \n",
    "    return inputs_map, targets_map"
   ]
  },
  {
   "cell_type": "markdown",
   "metadata": {},
   "source": [
    "## Retrieve SPAM and Map, No Noise"
   ]
  },
  {
   "cell_type": "code",
   "execution_count": 3,
   "metadata": {},
   "outputs": [],
   "source": [
    "n = 3\n",
    "d = 2**n\n",
    "rank = d\n",
    "c1 = 0.8\n",
    "c2 = 0.8"
   ]
  },
  {
   "cell_type": "markdown",
   "metadata": {},
   "source": [
    "### Retrieve Map without SPAM"
   ]
  },
  {
   "cell_type": "code",
   "execution_count": 4,
   "metadata": {
    "scrolled": true
   },
   "outputs": [
    {
     "data": {
      "application/vnd.jupyter.widget-view+json": {
       "model_id": "262278a4bb2941218d50bf306b1cc95a",
       "version_major": 2,
       "version_minor": 0
      },
      "text/plain": [
       "  0%|          | 0/3 [00:00<?, ?it/s]"
      ]
     },
     "metadata": {},
     "output_type": "display_data"
    },
    {
     "data": {
      "application/vnd.jupyter.widget-view+json": {
       "model_id": "95a96f6ff3494717a55329107ff0a586",
       "version_major": 2,
       "version_minor": 0
      },
      "text/plain": [
       "  0%|          | 0/1000 [00:00<?, ?it/s]"
      ]
     },
     "metadata": {},
     "output_type": "display_data"
    },
    {
     "name": "stdout",
     "output_type": "stream",
     "text": [
      "0.009496544264354742 0\n"
     ]
    },
    {
     "data": {
      "application/vnd.jupyter.widget-view+json": {
       "model_id": "c71c119b32904893ab06e21d7d8b4e7a",
       "version_major": 2,
       "version_minor": 0
      },
      "text/plain": [
       "  0%|          | 0/1000 [00:00<?, ?it/s]"
      ]
     },
     "metadata": {},
     "output_type": "display_data"
    },
    {
     "name": "stdout",
     "output_type": "stream",
     "text": [
      "0.008893180055504232 0\n"
     ]
    },
    {
     "data": {
      "application/vnd.jupyter.widget-view+json": {
       "model_id": "404b27e092f94c1191f39bbbbe52a9a9",
       "version_major": 2,
       "version_minor": 0
      },
      "text/plain": [
       "  0%|          | 0/1000 [00:00<?, ?it/s]"
      ]
     },
     "metadata": {},
     "output_type": "display_data"
    },
    {
     "name": "stdout",
     "output_type": "stream",
     "text": [
      "0.009578278826111482 0\n"
     ]
    }
   ],
   "source": [
    "np.random.seed(42)\n",
    "random.seed(42)\n",
    "tf.random.set_seed(42)\n",
    "\n",
    "model_list = []\n",
    "kraus_target_list = []\n",
    "for i in tqdm(range(3)):\n",
    "    \n",
    "    #make random spam model\n",
    "    spam_target = SPAM(d=d)\n",
    "\n",
    "    #add ideal part\n",
    "    init_target = c1*init_ideal(d) + (1-c1)*spam_target.init\n",
    "    povm_target = c2*povm_ideal(d) + (1-c2)*spam_target.povm\n",
    "\n",
    "    spam_target = SPAM(d=d,\n",
    "                       init = init_target,\n",
    "                       povm = povm_target)\n",
    "    \n",
    "    # random kraus model with unitary part\n",
    "    kraus_target = KrausMap(\n",
    "                            U = generate_unitary(d=d), \n",
    "                            c = 0.5, \n",
    "                            d = d, \n",
    "                            rank = rank-1,\n",
    "                            spam = spam_target\n",
    "                           )\n",
    "    \n",
    "    kraus_target_list.append(kraus_target)\n",
    "    #inputs_spam, targets_spam = generate_spam_data(spam_target)\n",
    "    inputs_map, targets_map = generate_map_data(kraus_target)\n",
    "    \n",
    "    \n",
    "    kraus_model = KrausMap(\n",
    "                           d = d, \n",
    "                           rank = rank,\n",
    "                           spam = None,\n",
    "                           )\n",
    "\n",
    "    model = ModelQuantumMap(\n",
    "                            q_map = kraus_model,\n",
    "                            loss = ProbabilityLoss(),\n",
    "                            optimizer = tf.optimizers.Adam(learning_rate=0.01),\n",
    "                            )\n",
    "\n",
    "    model.train(inputs = inputs_map,\n",
    "                targets = targets_map,\n",
    "                num_iter = 1000,\n",
    "                N = 1000,\n",
    "                verbose = False,\n",
    "                )\n",
    "    \n",
    "    model_list.append(model)"
   ]
  },
  {
   "cell_type": "code",
   "execution_count": 5,
   "metadata": {},
   "outputs": [],
   "source": [
    "channel_fidelity_list = np.array([channel_fidelity(model.q_map, kraus_target).numpy() for model, kraus_target in zip(model_list, kraus_target_list)])\n",
    "pickle.dump(channel_fidelity_list, open(\"../../data/spam_fidelity_noSpam_noNoise.p\", \"wb\"))"
   ]
  },
  {
   "cell_type": "code",
   "execution_count": 6,
   "metadata": {},
   "outputs": [
    {
     "name": "stdout",
     "output_type": "stream",
     "text": [
      "0.8877567836479173 0.004248010734118874\n"
     ]
    }
   ],
   "source": [
    "channel_fidelity_list = pickle.load(open(\"../../data/spam_fidelity_noSpam_noNoise.p\", \"rb\"))\n",
    "print(np.mean(channel_fidelity_list), np.std(channel_fidelity_list)/np.sqrt(len(channel_fidelity_list)))"
   ]
  },
  {
   "cell_type": "markdown",
   "metadata": {},
   "source": [
    "### Retrieve SPAM and Map"
   ]
  },
  {
   "cell_type": "code",
   "execution_count": 7,
   "metadata": {
    "scrolled": true
   },
   "outputs": [
    {
     "data": {
      "application/vnd.jupyter.widget-view+json": {
       "model_id": "d05e7dc256334b72b0f34e25de032291",
       "version_major": 2,
       "version_minor": 0
      },
      "text/plain": [
       "  0%|          | 0/1000 [00:00<?, ?it/s]"
      ]
     },
     "metadata": {},
     "output_type": "display_data"
    },
    {
     "name": "stdout",
     "output_type": "stream",
     "text": [
      "8.843474315803989e-07\n"
     ]
    },
    {
     "data": {
      "application/vnd.jupyter.widget-view+json": {
       "model_id": "b983d62bd6a44f4b8261bf5c2741f2bb",
       "version_major": 2,
       "version_minor": 0
      },
      "text/plain": [
       "  0%|          | 0/1000 [00:00<?, ?it/s]"
      ]
     },
     "metadata": {},
     "output_type": "display_data"
    },
    {
     "name": "stdout",
     "output_type": "stream",
     "text": [
      "6.311976872019627e-05\n"
     ]
    },
    {
     "data": {
      "application/vnd.jupyter.widget-view+json": {
       "model_id": "aca5bcef29824a40950280cb8b752fed",
       "version_major": 2,
       "version_minor": 0
      },
      "text/plain": [
       "  0%|          | 0/1000 [00:00<?, ?it/s]"
      ]
     },
     "metadata": {},
     "output_type": "display_data"
    },
    {
     "name": "stdout",
     "output_type": "stream",
     "text": [
      "0.00015229322085873136 0\n"
     ]
    },
    {
     "data": {
      "application/vnd.jupyter.widget-view+json": {
       "model_id": "5a5045f29c524cd38e5c7b7f105cf58e",
       "version_major": 2,
       "version_minor": 0
      },
      "text/plain": [
       "  0%|          | 0/1000 [00:00<?, ?it/s]"
      ]
     },
     "metadata": {},
     "output_type": "display_data"
    },
    {
     "name": "stdout",
     "output_type": "stream",
     "text": [
      "1.3183003775511539e-06\n"
     ]
    },
    {
     "data": {
      "application/vnd.jupyter.widget-view+json": {
       "model_id": "9900efa95ade4fb69a8b50ede1b7d5f2",
       "version_major": 2,
       "version_minor": 0
      },
      "text/plain": [
       "  0%|          | 0/1000 [00:00<?, ?it/s]"
      ]
     },
     "metadata": {},
     "output_type": "display_data"
    },
    {
     "name": "stdout",
     "output_type": "stream",
     "text": [
      "5.932218031701897e-06\n"
     ]
    },
    {
     "data": {
      "application/vnd.jupyter.widget-view+json": {
       "model_id": "d5ee8c97cbe046efafc181fdc425ec09",
       "version_major": 2,
       "version_minor": 0
      },
      "text/plain": [
       "  0%|          | 0/1000 [00:00<?, ?it/s]"
      ]
     },
     "metadata": {},
     "output_type": "display_data"
    },
    {
     "name": "stdout",
     "output_type": "stream",
     "text": [
      "0.00043155008369078016 0\n"
     ]
    },
    {
     "data": {
      "application/vnd.jupyter.widget-view+json": {
       "model_id": "1d2d5248ccf240d5bd59a83b63669576",
       "version_major": 2,
       "version_minor": 0
      },
      "text/plain": [
       "  0%|          | 0/1000 [00:00<?, ?it/s]"
      ]
     },
     "metadata": {},
     "output_type": "display_data"
    },
    {
     "name": "stdout",
     "output_type": "stream",
     "text": [
      "2.0852249464880058e-06\n"
     ]
    },
    {
     "data": {
      "application/vnd.jupyter.widget-view+json": {
       "model_id": "d8c03d694deb4f9ba41edbf0e9fe2365",
       "version_major": 2,
       "version_minor": 0
      },
      "text/plain": [
       "  0%|          | 0/1000 [00:00<?, ?it/s]"
      ]
     },
     "metadata": {},
     "output_type": "display_data"
    },
    {
     "name": "stdout",
     "output_type": "stream",
     "text": [
      "4.638478684063737e-06\n"
     ]
    },
    {
     "data": {
      "application/vnd.jupyter.widget-view+json": {
       "model_id": "b52011796fdd452db4e18f08e918f714",
       "version_major": 2,
       "version_minor": 0
      },
      "text/plain": [
       "  0%|          | 0/1000 [00:00<?, ?it/s]"
      ]
     },
     "metadata": {},
     "output_type": "display_data"
    },
    {
     "name": "stdout",
     "output_type": "stream",
     "text": [
      "0.00020738655802759315 0\n"
     ]
    }
   ],
   "source": [
    "np.random.seed(42)\n",
    "random.seed(42)\n",
    "tf.random.set_seed(42)\n",
    "\n",
    "model_list = []\n",
    "kraus_target_list = []\n",
    "\n",
    "for i in range(3):    \n",
    "    #make random spam model\n",
    "    spam_target = SPAM(d=d)\n",
    "\n",
    "    #add ideal part\n",
    "    init_target = c1*init_ideal(d) + (1-c1)*spam_target.init\n",
    "    povm_target = c2*povm_ideal(d) + (1-c2)*spam_target.povm\n",
    "\n",
    "    spam_target = SPAM(d=d,\n",
    "                       init = init_target,\n",
    "                       povm = povm_target)\n",
    "    \n",
    "    # random kraus model with unitary part\n",
    "    kraus_target = KrausMap(\n",
    "                            U = generate_unitary(d=d), \n",
    "                            c = 0.5, \n",
    "                            d = d, \n",
    "                            rank = rank-1,\n",
    "                            spam = spam_target\n",
    "                           )\n",
    "    kraus_target_list.append(kraus_target)\n",
    "    \n",
    "    inputs_spam, targets_spam = generate_spam_data(spam_target)\n",
    "    inputs_map, targets_map = generate_map_data(kraus_target)\n",
    "\n",
    "    #train spam model\n",
    "    spam_model = SPAM(d=d,\n",
    "    #                  use_corr_mat=True,\n",
    "                      optimizer = tf.optimizers.Adam(learning_rate=0.01))\n",
    "    \n",
    "    spam_model.pretrain(targets = [init_ideal(d), povm_ideal(d)],\n",
    "                        num_iter = 1000,\n",
    "                        verbose = False\n",
    "                        )\n",
    "    \n",
    "    spam_model.train(inputs = inputs_spam,\n",
    "                     targets = targets_spam,\n",
    "                     num_iter = 1000,\n",
    "                     verbose = False,\n",
    "                    )\n",
    "\n",
    "    #train kraus model\n",
    "    kraus_model = KrausMap(\n",
    "                           d = d, \n",
    "                           rank = rank,\n",
    "                           spam = spam_model,\n",
    "                           )\n",
    "\n",
    "    model = ModelQuantumMap(\n",
    "                            q_map = kraus_model,\n",
    "                            loss = ProbabilityLoss(),\n",
    "                            optimizer = tf.optimizers.Adam(learning_rate=0.01),\n",
    "                            )\n",
    "\n",
    "    model.train(inputs = inputs_map,\n",
    "                targets = targets_map,\n",
    "                num_iter = 1000,\n",
    "                N = 1000,\n",
    "                verbose = False,\n",
    "                )\n",
    "    \n",
    "    model_list.append(model)"
   ]
  },
  {
   "cell_type": "code",
   "execution_count": 8,
   "metadata": {},
   "outputs": [],
   "source": [
    "channel_fidelity_list = np.array([channel_fidelity(model.q_map, kraus_target).numpy() for model, kraus_target in zip(model_list, kraus_target_list)])\n",
    "pickle.dump(channel_fidelity_list, open(\"../../data/spam_fidelity_POVM_noNoise.p\", \"wb\"))"
   ]
  },
  {
   "cell_type": "code",
   "execution_count": 9,
   "metadata": {},
   "outputs": [
    {
     "name": "stdout",
     "output_type": "stream",
     "text": [
      "0.9942965694848579 0.0016167608640189899\n"
     ]
    }
   ],
   "source": [
    "channel_fidelity_list = pickle.load(open(\"../../data/spam_fidelity_POVM_noNoise.p\", \"rb\"))\n",
    "print(np.mean(channel_fidelity_list), np.std(channel_fidelity_list)/np.sqrt(len(channel_fidelity_list)))"
   ]
  },
  {
   "cell_type": "markdown",
   "metadata": {},
   "source": [
    "### Retrieve SPAM (Corruption Matrix) and Map"
   ]
  },
  {
   "cell_type": "code",
   "execution_count": 10,
   "metadata": {
    "scrolled": true
   },
   "outputs": [
    {
     "data": {
      "application/vnd.jupyter.widget-view+json": {
       "model_id": "ad690a416c974c9daaaf454291bdd66d",
       "version_major": 2,
       "version_minor": 0
      },
      "text/plain": [
       "  0%|          | 0/1000 [00:00<?, ?it/s]"
      ]
     },
     "metadata": {},
     "output_type": "display_data"
    },
    {
     "name": "stdout",
     "output_type": "stream",
     "text": [
      "4.342517095043331e-07\n"
     ]
    },
    {
     "data": {
      "application/vnd.jupyter.widget-view+json": {
       "model_id": "5e9f93e9e4af4d62b1059cc203bd79ed",
       "version_major": 2,
       "version_minor": 0
      },
      "text/plain": [
       "  0%|          | 0/1000 [00:00<?, ?it/s]"
      ]
     },
     "metadata": {},
     "output_type": "display_data"
    },
    {
     "name": "stdout",
     "output_type": "stream",
     "text": [
      "0.0017479928255717\n"
     ]
    },
    {
     "data": {
      "application/vnd.jupyter.widget-view+json": {
       "model_id": "e87323d9dcbc405abf21661bef4be9e7",
       "version_major": 2,
       "version_minor": 0
      },
      "text/plain": [
       "  0%|          | 0/1000 [00:00<?, ?it/s]"
      ]
     },
     "metadata": {},
     "output_type": "display_data"
    },
    {
     "name": "stdout",
     "output_type": "stream",
     "text": [
      "0.0006093658055180142 0\n"
     ]
    },
    {
     "data": {
      "application/vnd.jupyter.widget-view+json": {
       "model_id": "1b67f588b55d4345b72b96aeeaf69407",
       "version_major": 2,
       "version_minor": 0
      },
      "text/plain": [
       "  0%|          | 0/1000 [00:00<?, ?it/s]"
      ]
     },
     "metadata": {},
     "output_type": "display_data"
    },
    {
     "name": "stdout",
     "output_type": "stream",
     "text": [
      "7.534105905880811e-07\n"
     ]
    },
    {
     "data": {
      "application/vnd.jupyter.widget-view+json": {
       "model_id": "341fd193e9bc49e59d99de12919706bc",
       "version_major": 2,
       "version_minor": 0
      },
      "text/plain": [
       "  0%|          | 0/1000 [00:00<?, ?it/s]"
      ]
     },
     "metadata": {},
     "output_type": "display_data"
    },
    {
     "name": "stdout",
     "output_type": "stream",
     "text": [
      "0.001966540319797122\n"
     ]
    },
    {
     "data": {
      "application/vnd.jupyter.widget-view+json": {
       "model_id": "f70ab616b44e4078859e70b1ff786c22",
       "version_major": 2,
       "version_minor": 0
      },
      "text/plain": [
       "  0%|          | 0/1000 [00:00<?, ?it/s]"
      ]
     },
     "metadata": {},
     "output_type": "display_data"
    },
    {
     "name": "stdout",
     "output_type": "stream",
     "text": [
      "0.0009536409696376177 0\n"
     ]
    },
    {
     "data": {
      "application/vnd.jupyter.widget-view+json": {
       "model_id": "7353136f7762457bb8876aa3fbc24c07",
       "version_major": 2,
       "version_minor": 0
      },
      "text/plain": [
       "  0%|          | 0/1000 [00:00<?, ?it/s]"
      ]
     },
     "metadata": {},
     "output_type": "display_data"
    },
    {
     "name": "stdout",
     "output_type": "stream",
     "text": [
      "6.048402574002629e-07\n"
     ]
    },
    {
     "data": {
      "application/vnd.jupyter.widget-view+json": {
       "model_id": "2c653e594899499faebbcd59318e40cc",
       "version_major": 2,
       "version_minor": 0
      },
      "text/plain": [
       "  0%|          | 0/1000 [00:00<?, ?it/s]"
      ]
     },
     "metadata": {},
     "output_type": "display_data"
    },
    {
     "name": "stdout",
     "output_type": "stream",
     "text": [
      "0.001833009820517956\n"
     ]
    },
    {
     "data": {
      "application/vnd.jupyter.widget-view+json": {
       "model_id": "2c3bbd9b03824dae9646c8909906087a",
       "version_major": 2,
       "version_minor": 0
      },
      "text/plain": [
       "  0%|          | 0/1000 [00:00<?, ?it/s]"
      ]
     },
     "metadata": {},
     "output_type": "display_data"
    },
    {
     "name": "stdout",
     "output_type": "stream",
     "text": [
      "0.0008548816507081168 0\n"
     ]
    }
   ],
   "source": [
    "np.random.seed(42)\n",
    "random.seed(42)\n",
    "tf.random.set_seed(42)\n",
    "\n",
    "model_list = []\n",
    "kraus_target_list = []\n",
    "for i in range(3):    \n",
    "    #make random spam model\n",
    "    spam_target = SPAM(d=d)\n",
    "\n",
    "    #add ideal part\n",
    "    init_target = c1*init_ideal(d) + (1-c1)*spam_target.init\n",
    "    povm_target = c2*povm_ideal(d) + (1-c2)*spam_target.povm\n",
    "\n",
    "    spam_target = SPAM(d=d,\n",
    "                       init = init_target,\n",
    "                       povm = povm_target)\n",
    "    \n",
    "    # random kraus model with unitary part\n",
    "    kraus_target = KrausMap(\n",
    "                            U = generate_unitary(d=d), \n",
    "                            c = 0.5, \n",
    "                            d = d, \n",
    "                            rank = rank-1,\n",
    "                            spam = spam_target\n",
    "                           )\n",
    "    kraus_target_list.append(kraus_target)\n",
    "    \n",
    "    inputs_spam, targets_spam = generate_spam_data(spam_target)\n",
    "    inputs_map, targets_map = generate_map_data(kraus_target)\n",
    "\n",
    "    #train spam model\n",
    "    spam_model = SPAM(d=d,\n",
    "                      use_corr_mat=True,\n",
    "                      optimizer = tf.optimizers.Adam(learning_rate=0.01))\n",
    "    \n",
    "    spam_model.pretrain(targets = [init_ideal(d), povm_ideal(d)],\n",
    "                        num_iter = 1000,\n",
    "                        verbose = False\n",
    "                        )\n",
    "    \n",
    "    spam_model.train(inputs = inputs_spam,\n",
    "                     targets = targets_spam,\n",
    "                     num_iter = 1000,\n",
    "                     verbose = False,\n",
    "                    )\n",
    "\n",
    "    #train kraus model\n",
    "    kraus_model = KrausMap(\n",
    "                           d = d, \n",
    "                           rank = rank,\n",
    "                           spam = spam_model,\n",
    "                           )\n",
    "\n",
    "    model = ModelQuantumMap(\n",
    "                            q_map = kraus_model,\n",
    "                            loss = ProbabilityLoss(),\n",
    "                            optimizer = tf.optimizers.Adam(learning_rate=0.01),\n",
    "                            )\n",
    "\n",
    "    model.train(inputs = inputs_map,\n",
    "                targets = targets_map,\n",
    "                num_iter = 1000,\n",
    "                N = 1000,\n",
    "                verbose = False,\n",
    "                )\n",
    "    \n",
    "    model_list.append(model)"
   ]
  },
  {
   "cell_type": "code",
   "execution_count": 11,
   "metadata": {},
   "outputs": [],
   "source": [
    "channel_fidelity_list = np.array([channel_fidelity(model.q_map, kraus_target).numpy() for model, kraus_target in zip(model_list, kraus_target_list)])\n",
    "pickle.dump(channel_fidelity_list, open(\"../../data/spam_fidelity_CM_noNoise.p\", \"wb\"))"
   ]
  },
  {
   "cell_type": "code",
   "execution_count": 12,
   "metadata": {},
   "outputs": [
    {
     "name": "stdout",
     "output_type": "stream",
     "text": [
      "0.9831220894491608 0.005099726826282529\n"
     ]
    }
   ],
   "source": [
    "channel_fidelity_list = pickle.load(open(\"../../data/spam_fidelity_CM_noNoise.p\", \"rb\"))\n",
    "print(np.mean(channel_fidelity_list), np.std(channel_fidelity_list)/np.sqrt(len(channel_fidelity_list)))"
   ]
  },
  {
   "cell_type": "markdown",
   "metadata": {},
   "source": [
    "## Retrieve SPAM and Map, with Noise"
   ]
  },
  {
   "cell_type": "code",
   "execution_count": 25,
   "metadata": {},
   "outputs": [],
   "source": [
    "n = 3\n",
    "d = 2**n\n",
    "rank = d\n",
    "c1 = 0.8\n",
    "c2 = 0.8"
   ]
  },
  {
   "cell_type": "markdown",
   "metadata": {},
   "source": [
    "### Retrieve Map without SPAM"
   ]
  },
  {
   "cell_type": "code",
   "execution_count": 26,
   "metadata": {
    "scrolled": true
   },
   "outputs": [
    {
     "data": {
      "application/vnd.jupyter.widget-view+json": {
       "model_id": "3d18c0e0da924988b28b5373944f052f",
       "version_major": 2,
       "version_minor": 0
      },
      "text/plain": [
       "  0%|          | 0/3 [00:00<?, ?it/s]"
      ]
     },
     "metadata": {},
     "output_type": "display_data"
    },
    {
     "data": {
      "application/vnd.jupyter.widget-view+json": {
       "model_id": "a4e14b42daf24adfa913212da5ae6270",
       "version_major": 2,
       "version_minor": 0
      },
      "text/plain": [
       "  0%|          | 0/1000 [00:00<?, ?it/s]"
      ]
     },
     "metadata": {},
     "output_type": "display_data"
    },
    {
     "name": "stdout",
     "output_type": "stream",
     "text": [
      "0.010804066000132818 0\n"
     ]
    },
    {
     "data": {
      "application/vnd.jupyter.widget-view+json": {
       "model_id": "c7c2a86dc3e2458389738b20ff3c76d9",
       "version_major": 2,
       "version_minor": 0
      },
      "text/plain": [
       "  0%|          | 0/1000 [00:00<?, ?it/s]"
      ]
     },
     "metadata": {},
     "output_type": "display_data"
    },
    {
     "name": "stdout",
     "output_type": "stream",
     "text": [
      "0.012695846589088589 0\n"
     ]
    },
    {
     "data": {
      "application/vnd.jupyter.widget-view+json": {
       "model_id": "7dd2cb3c252f4b18bbc32dc3d8a540ef",
       "version_major": 2,
       "version_minor": 0
      },
      "text/plain": [
       "  0%|          | 0/1000 [00:00<?, ?it/s]"
      ]
     },
     "metadata": {},
     "output_type": "display_data"
    },
    {
     "name": "stdout",
     "output_type": "stream",
     "text": [
      "0.010864408134500798 0\n"
     ]
    }
   ],
   "source": [
    "np.random.seed(42)\n",
    "random.seed(42)\n",
    "tf.random.set_seed(42)\n",
    "\n",
    "model_list = []\n",
    "kraus_target_list = []\n",
    "for i in tqdm(range(3)):\n",
    "    \n",
    "    #make random spam model\n",
    "    spam_target = SPAM(d=d)\n",
    "\n",
    "    #add ideal part\n",
    "    init_target = c1*init_ideal(d) + (1-c1)*spam_target.init\n",
    "    povm_target = c2*povm_ideal(d) + (1-c2)*spam_target.povm\n",
    "\n",
    "    spam_target = SPAM(d=d,\n",
    "                       init = init_target,\n",
    "                       povm = povm_target)\n",
    "    \n",
    "    # random kraus model with unitary part\n",
    "    kraus_target = KrausMap(\n",
    "                            U = generate_unitary(d=d), \n",
    "                            c = 0.5, \n",
    "                            d = d, \n",
    "                            rank = rank-1,\n",
    "                            spam = spam_target\n",
    "                           )\n",
    "    \n",
    "    kraus_target_list.append(kraus_target)\n",
    "    inputs_spam, targets_spam = generate_spam_data(spam_target, noise = 0.1)\n",
    "    inputs_map, targets_map = generate_map_data(kraus_target, noise = 0.1)\n",
    "    \n",
    "    \n",
    "    kraus_model = KrausMap(\n",
    "                           d = d, \n",
    "                           rank = rank,\n",
    "                           spam = None,\n",
    "                           )\n",
    "\n",
    "    model = ModelQuantumMap(\n",
    "                            q_map = kraus_model,\n",
    "                            loss = ProbabilityLoss(),\n",
    "                            optimizer = tf.optimizers.Adam(learning_rate=0.01),\n",
    "                            )\n",
    "\n",
    "    model.train(inputs = inputs_map,\n",
    "                targets = targets_map,\n",
    "                num_iter = 1000,\n",
    "                N = 1000,\n",
    "                verbose = False,\n",
    "                )\n",
    "    \n",
    "    model_list.append(model)"
   ]
  },
  {
   "cell_type": "code",
   "execution_count": 27,
   "metadata": {},
   "outputs": [],
   "source": [
    "channel_fidelity_list = np.array([channel_fidelity(model.q_map, kraus_target).numpy() for model, kraus_target in zip(model_list, kraus_target_list)])\n",
    "pickle.dump(channel_fidelity_list, open(\"../../data/spam_fidelity_noSpam_noise.p\", \"wb\"))"
   ]
  },
  {
   "cell_type": "code",
   "execution_count": 28,
   "metadata": {},
   "outputs": [
    {
     "name": "stdout",
     "output_type": "stream",
     "text": [
      "0.8752565826794155 0.013439125356271231\n"
     ]
    }
   ],
   "source": [
    "channel_fidelity_list = pickle.load(open(\"../../data/spam_fidelity_noSpam_noise.p\", \"rb\"))\n",
    "print(np.mean(channel_fidelity_list), np.std(channel_fidelity_list)/np.sqrt(len(channel_fidelity_list)))"
   ]
  },
  {
   "cell_type": "markdown",
   "metadata": {},
   "source": [
    "### Retrieve SPAM and Map"
   ]
  },
  {
   "cell_type": "code",
   "execution_count": 29,
   "metadata": {
    "scrolled": true
   },
   "outputs": [
    {
     "data": {
      "application/vnd.jupyter.widget-view+json": {
       "model_id": "46af1636ea894b94927abcbd84fd3a5c",
       "version_major": 2,
       "version_minor": 0
      },
      "text/plain": [
       "  0%|          | 0/300 [00:00<?, ?it/s]"
      ]
     },
     "metadata": {},
     "output_type": "display_data"
    },
    {
     "name": "stdout",
     "output_type": "stream",
     "text": [
      "3.574267274901511e-05\n"
     ]
    },
    {
     "data": {
      "application/vnd.jupyter.widget-view+json": {
       "model_id": "8cdd8a8ac8844346abbea0c5769343bc",
       "version_major": 2,
       "version_minor": 0
      },
      "text/plain": [
       "  0%|          | 0/1000 [00:00<?, ?it/s]"
      ]
     },
     "metadata": {},
     "output_type": "display_data"
    },
    {
     "name": "stdout",
     "output_type": "stream",
     "text": [
      "0.0015624395331659542\n"
     ]
    },
    {
     "data": {
      "application/vnd.jupyter.widget-view+json": {
       "model_id": "156c968035cf468ab88454aa9054124e",
       "version_major": 2,
       "version_minor": 0
      },
      "text/plain": [
       "  0%|          | 0/1000 [00:00<?, ?it/s]"
      ]
     },
     "metadata": {},
     "output_type": "display_data"
    },
    {
     "name": "stdout",
     "output_type": "stream",
     "text": [
      "0.0035772937622739307 0\n"
     ]
    },
    {
     "data": {
      "application/vnd.jupyter.widget-view+json": {
       "model_id": "f203c17d2bbf41fe965086adb5fa1ab8",
       "version_major": 2,
       "version_minor": 0
      },
      "text/plain": [
       "  0%|          | 0/300 [00:00<?, ?it/s]"
      ]
     },
     "metadata": {},
     "output_type": "display_data"
    },
    {
     "name": "stdout",
     "output_type": "stream",
     "text": [
      "4.6736822907550744e-05\n"
     ]
    },
    {
     "data": {
      "application/vnd.jupyter.widget-view+json": {
       "model_id": "7d64972f9805435c8ec7a4db9f86c0db",
       "version_major": 2,
       "version_minor": 0
      },
      "text/plain": [
       "  0%|          | 0/1000 [00:00<?, ?it/s]"
      ]
     },
     "metadata": {},
     "output_type": "display_data"
    },
    {
     "name": "stdout",
     "output_type": "stream",
     "text": [
      "0.001924505112163021\n"
     ]
    },
    {
     "data": {
      "application/vnd.jupyter.widget-view+json": {
       "model_id": "f6ac6f9cef834b9b9c269093e9d26d64",
       "version_major": 2,
       "version_minor": 0
      },
      "text/plain": [
       "  0%|          | 0/1000 [00:00<?, ?it/s]"
      ]
     },
     "metadata": {},
     "output_type": "display_data"
    },
    {
     "name": "stdout",
     "output_type": "stream",
     "text": [
      "0.003583641060154876 0\n"
     ]
    },
    {
     "data": {
      "application/vnd.jupyter.widget-view+json": {
       "model_id": "82b07078008e4c38b6b2319a42634a5f",
       "version_major": 2,
       "version_minor": 0
      },
      "text/plain": [
       "  0%|          | 0/300 [00:00<?, ?it/s]"
      ]
     },
     "metadata": {},
     "output_type": "display_data"
    },
    {
     "name": "stdout",
     "output_type": "stream",
     "text": [
      "7.173114480832623e-05\n"
     ]
    },
    {
     "data": {
      "application/vnd.jupyter.widget-view+json": {
       "model_id": "60fbaef3f34f47f8915e5616ac3b8bdf",
       "version_major": 2,
       "version_minor": 0
      },
      "text/plain": [
       "  0%|          | 0/1000 [00:00<?, ?it/s]"
      ]
     },
     "metadata": {},
     "output_type": "display_data"
    },
    {
     "name": "stdout",
     "output_type": "stream",
     "text": [
      "0.001800514146967799\n"
     ]
    },
    {
     "data": {
      "application/vnd.jupyter.widget-view+json": {
       "model_id": "f50063d862b3446da54cbec504863773",
       "version_major": 2,
       "version_minor": 0
      },
      "text/plain": [
       "  0%|          | 0/1000 [00:00<?, ?it/s]"
      ]
     },
     "metadata": {},
     "output_type": "display_data"
    },
    {
     "name": "stdout",
     "output_type": "stream",
     "text": [
      "0.0034791880088731668 0\n"
     ]
    }
   ],
   "source": [
    "np.random.seed(42)\n",
    "random.seed(42)\n",
    "tf.random.set_seed(42)\n",
    "\n",
    "model_list = []\n",
    "kraus_target_list = []\n",
    "\n",
    "for i in range(3):    \n",
    "    #make random spam model\n",
    "    spam_target = SPAM(d=d)\n",
    "\n",
    "    #add ideal part\n",
    "    init_target = c1*init_ideal(d) + (1-c1)*spam_target.init\n",
    "    povm_target = c2*povm_ideal(d) + (1-c2)*spam_target.povm\n",
    "\n",
    "    spam_target = SPAM(d=d,\n",
    "                       init = init_target,\n",
    "                       povm = povm_target)\n",
    "    \n",
    "    # random kraus model with unitary part\n",
    "    kraus_target = KrausMap(\n",
    "                            U = generate_unitary(d=d), \n",
    "                            c = 0.5, \n",
    "                            d = d, \n",
    "                            rank = rank-1,\n",
    "                            spam = spam_target\n",
    "                           )\n",
    "    kraus_target_list.append(kraus_target)\n",
    "    \n",
    "    inputs_spam, targets_spam = generate_spam_data(spam_target, noise = 0.05)\n",
    "    inputs_map, targets_map = generate_map_data(kraus_target, noise = 0.05)\n",
    "\n",
    "    #train spam model\n",
    "    spam_model = SPAM(d=d,\n",
    "    #                  use_corr_mat=True,\n",
    "                      optimizer = tf.optimizers.Adam(learning_rate=0.01))\n",
    "    \n",
    "    spam_model.pretrain(targets = [init_ideal(d), povm_ideal(d)],\n",
    "                        num_iter = 300,\n",
    "                        verbose = False\n",
    "                        )\n",
    "    \n",
    "    spam_model.train(inputs = inputs_spam,\n",
    "                     targets = targets_spam,\n",
    "                     num_iter = 1000,\n",
    "                     verbose = False,\n",
    "                    )\n",
    "\n",
    "    #train kraus model\n",
    "    kraus_model = KrausMap(\n",
    "                           d = d, \n",
    "                           rank = rank,\n",
    "                           spam = spam_model,\n",
    "                           )\n",
    "\n",
    "    model = ModelQuantumMap(\n",
    "                            q_map = kraus_model,\n",
    "                            loss = ProbabilityLoss(),\n",
    "                            optimizer = tf.optimizers.Adam(learning_rate=0.01),\n",
    "                            )\n",
    "\n",
    "    model.train(inputs = inputs_map,\n",
    "                targets = targets_map,\n",
    "                num_iter = 1000,\n",
    "                N = 1000,\n",
    "                verbose = False,\n",
    "                )\n",
    "    \n",
    "    model_list.append(model)"
   ]
  },
  {
   "cell_type": "code",
   "execution_count": 30,
   "metadata": {},
   "outputs": [],
   "source": [
    "channel_fidelity_list = np.array([channel_fidelity(model.q_map, kraus_target).numpy() for model, kraus_target in zip(model_list, kraus_target_list)])\n",
    "pickle.dump(channel_fidelity_list, open(\"../../data/spam_fidelity_POVM_noise.p\", \"wb\"))"
   ]
  },
  {
   "cell_type": "code",
   "execution_count": 31,
   "metadata": {},
   "outputs": [
    {
     "name": "stdout",
     "output_type": "stream",
     "text": [
      "0.9753663162847487 0.0015078936515683014\n"
     ]
    }
   ],
   "source": [
    "channel_fidelity_list = pickle.load(open(\"../../data/spam_fidelity_POVM_noise.p\", \"rb\"))\n",
    "print(np.mean(channel_fidelity_list), np.std(channel_fidelity_list)/np.sqrt(len(channel_fidelity_list)))"
   ]
  },
  {
   "cell_type": "markdown",
   "metadata": {},
   "source": [
    "### Retrieve SPAM (Corruption Matrix) and Map"
   ]
  },
  {
   "cell_type": "code",
   "execution_count": 32,
   "metadata": {
    "scrolled": true
   },
   "outputs": [
    {
     "data": {
      "application/vnd.jupyter.widget-view+json": {
       "model_id": "65f02afbd9a94436a9dedc9a692cde2c",
       "version_major": 2,
       "version_minor": 0
      },
      "text/plain": [
       "  0%|          | 0/300 [00:00<?, ?it/s]"
      ]
     },
     "metadata": {},
     "output_type": "display_data"
    },
    {
     "name": "stdout",
     "output_type": "stream",
     "text": [
      "1.6268212942471372e-05\n"
     ]
    },
    {
     "data": {
      "application/vnd.jupyter.widget-view+json": {
       "model_id": "d882e2add605405bac2310640ce8b620",
       "version_major": 2,
       "version_minor": 0
      },
      "text/plain": [
       "  0%|          | 0/1000 [00:00<?, ?it/s]"
      ]
     },
     "metadata": {},
     "output_type": "display_data"
    },
    {
     "name": "stdout",
     "output_type": "stream",
     "text": [
      "0.003881565730976139\n"
     ]
    },
    {
     "data": {
      "application/vnd.jupyter.widget-view+json": {
       "model_id": "a2d548823fe14cbe9dccce2f4306a209",
       "version_major": 2,
       "version_minor": 0
      },
      "text/plain": [
       "  0%|          | 0/1000 [00:00<?, ?it/s]"
      ]
     },
     "metadata": {},
     "output_type": "display_data"
    },
    {
     "name": "stdout",
     "output_type": "stream",
     "text": [
      "0.002821171803146911 0\n"
     ]
    },
    {
     "data": {
      "application/vnd.jupyter.widget-view+json": {
       "model_id": "a3493d015846463a951e1944ff0cffa3",
       "version_major": 2,
       "version_minor": 0
      },
      "text/plain": [
       "  0%|          | 0/300 [00:00<?, ?it/s]"
      ]
     },
     "metadata": {},
     "output_type": "display_data"
    },
    {
     "name": "stdout",
     "output_type": "stream",
     "text": [
      "2.7288897124922395e-05\n"
     ]
    },
    {
     "data": {
      "application/vnd.jupyter.widget-view+json": {
       "model_id": "32490342f295490a9e896b1a7c654f0b",
       "version_major": 2,
       "version_minor": 0
      },
      "text/plain": [
       "  0%|          | 0/1000 [00:00<?, ?it/s]"
      ]
     },
     "metadata": {},
     "output_type": "display_data"
    },
    {
     "name": "stdout",
     "output_type": "stream",
     "text": [
      "0.0042433987773476435\n"
     ]
    },
    {
     "data": {
      "application/vnd.jupyter.widget-view+json": {
       "model_id": "14a63807e09949d08c3f9697c96f2af1",
       "version_major": 2,
       "version_minor": 0
      },
      "text/plain": [
       "  0%|          | 0/1000 [00:00<?, ?it/s]"
      ]
     },
     "metadata": {},
     "output_type": "display_data"
    },
    {
     "name": "stdout",
     "output_type": "stream",
     "text": [
      "0.003237476811611253 0\n"
     ]
    },
    {
     "data": {
      "application/vnd.jupyter.widget-view+json": {
       "model_id": "15469ffa8ea34478ad9c9ca24ad10962",
       "version_major": 2,
       "version_minor": 0
      },
      "text/plain": [
       "  0%|          | 0/300 [00:00<?, ?it/s]"
      ]
     },
     "metadata": {},
     "output_type": "display_data"
    },
    {
     "name": "stdout",
     "output_type": "stream",
     "text": [
      "3.45868097780325e-05\n"
     ]
    },
    {
     "data": {
      "application/vnd.jupyter.widget-view+json": {
       "model_id": "4d5f875eb6d440cbb4906771421c9200",
       "version_major": 2,
       "version_minor": 0
      },
      "text/plain": [
       "  0%|          | 0/1000 [00:00<?, ?it/s]"
      ]
     },
     "metadata": {},
     "output_type": "display_data"
    },
    {
     "name": "stdout",
     "output_type": "stream",
     "text": [
      "0.0046492990611020895\n"
     ]
    },
    {
     "data": {
      "application/vnd.jupyter.widget-view+json": {
       "model_id": "44940dc528d74b159b8e35e716a0e50d",
       "version_major": 2,
       "version_minor": 0
      },
      "text/plain": [
       "  0%|          | 0/1000 [00:00<?, ?it/s]"
      ]
     },
     "metadata": {},
     "output_type": "display_data"
    },
    {
     "name": "stdout",
     "output_type": "stream",
     "text": [
      "0.0031327845510520005 0\n"
     ]
    }
   ],
   "source": [
    "np.random.seed(42)\n",
    "random.seed(42)\n",
    "tf.random.set_seed(42)\n",
    "\n",
    "model_list = []\n",
    "kraus_target_list = []\n",
    "\n",
    "for i in range(3):    \n",
    "    #make random spam model\n",
    "    spam_target = SPAM(d=d)\n",
    "\n",
    "    #add ideal part\n",
    "    init_target = c1*init_ideal(d) + (1-c1)*spam_target.init\n",
    "    povm_target = c2*povm_ideal(d) + (1-c2)*spam_target.povm\n",
    "\n",
    "    spam_target = SPAM(d=d,\n",
    "                       init = init_target,\n",
    "                       povm = povm_target)\n",
    "    \n",
    "    # random kraus model with unitary part\n",
    "    kraus_target = KrausMap(\n",
    "                            U = generate_unitary(d=d), \n",
    "                            c = 0.5, \n",
    "                            d = d, \n",
    "                            rank = rank-1,\n",
    "                            spam = spam_target\n",
    "                           )\n",
    "    kraus_target_list.append(kraus_target)\n",
    "    \n",
    "    inputs_spam, targets_spam = generate_spam_data(spam_target, noise = 0.05)\n",
    "    inputs_map, targets_map = generate_map_data(kraus_target, noise = 0.05)\n",
    "\n",
    "    #train spam model\n",
    "    spam_model = SPAM(d=d,\n",
    "                      use_corr_mat=True,\n",
    "                      optimizer = tf.optimizers.Adam(learning_rate=0.01))\n",
    "    \n",
    "    spam_model.pretrain(targets = [init_ideal(d), povm_ideal(d)],\n",
    "                        num_iter = 300,\n",
    "                        verbose = False\n",
    "                        )\n",
    "    \n",
    "    spam_model.train(inputs = inputs_spam,\n",
    "                     targets = targets_spam,\n",
    "                     num_iter = 1000,\n",
    "                     verbose = False,\n",
    "                    )\n",
    "\n",
    "    #train kraus model\n",
    "    kraus_model = KrausMap(\n",
    "                           d = d, \n",
    "                           rank = rank,\n",
    "                           spam = spam_model,\n",
    "                           )\n",
    "\n",
    "    model = ModelQuantumMap(\n",
    "                            q_map = kraus_model,\n",
    "                            loss = ProbabilityLoss(),\n",
    "                            optimizer = tf.optimizers.Adam(learning_rate=0.01),\n",
    "                            )\n",
    "\n",
    "    model.train(inputs = inputs_map,\n",
    "                targets = targets_map,\n",
    "                num_iter = 1000,\n",
    "                N = 1000,\n",
    "                verbose = False,\n",
    "                )\n",
    "    \n",
    "    model_list.append(model)"
   ]
  },
  {
   "cell_type": "code",
   "execution_count": 33,
   "metadata": {},
   "outputs": [],
   "source": [
    "channel_fidelity_list = np.array([channel_fidelity(model.q_map, kraus_target).numpy() for model, kraus_target in zip(model_list, kraus_target_list)])\n",
    "pickle.dump(channel_fidelity_list, open(\"../../data/spam_fidelity_CM_noise.p\", \"wb\"))"
   ]
  },
  {
   "cell_type": "code",
   "execution_count": 34,
   "metadata": {},
   "outputs": [
    {
     "name": "stdout",
     "output_type": "stream",
     "text": [
      "0.9811540302166781 0.004477675914874581\n"
     ]
    }
   ],
   "source": [
    "channel_fidelity_list = pickle.load(open(\"../../data/spam_fidelity_CM_noise.p\", \"rb\"))\n",
    "print(np.mean(channel_fidelity_list), np.std(channel_fidelity_list)/np.sqrt(len(channel_fidelity_list)))"
   ]
  },
  {
   "cell_type": "markdown",
   "metadata": {},
   "source": [
    "## Retrieveing Map with Extreme POVM Errors, No Noise"
   ]
  },
  {
   "cell_type": "code",
   "execution_count": 3,
   "metadata": {},
   "outputs": [],
   "source": [
    "n = 3\n",
    "d = 2**n\n",
    "rank = d\n",
    "c1 = 0.9\n",
    "c2 = 0.6"
   ]
  },
  {
   "cell_type": "markdown",
   "metadata": {},
   "source": [
    "### Full POVM"
   ]
  },
  {
   "cell_type": "code",
   "execution_count": 4,
   "metadata": {},
   "outputs": [
    {
     "data": {
      "application/vnd.jupyter.widget-view+json": {
       "model_id": "4a54475d4f0649a8b403b19330877278",
       "version_major": 2,
       "version_minor": 0
      },
      "text/plain": [
       "  0%|          | 0/1000 [00:00<?, ?it/s]"
      ]
     },
     "metadata": {},
     "output_type": "display_data"
    },
    {
     "data": {
      "application/vnd.jupyter.widget-view+json": {
       "model_id": "1a26add7300044a9aac1dc5c894d2cbd",
       "version_major": 2,
       "version_minor": 0
      },
      "text/plain": [
       "  0%|          | 0/1000 [00:00<?, ?it/s]"
      ]
     },
     "metadata": {},
     "output_type": "display_data"
    },
    {
     "data": {
      "application/vnd.jupyter.widget-view+json": {
       "model_id": "9557ee6020874bd38d42277a030e13d9",
       "version_major": 2,
       "version_minor": 0
      },
      "text/plain": [
       "  0%|          | 0/1000 [00:00<?, ?it/s]"
      ]
     },
     "metadata": {},
     "output_type": "display_data"
    },
    {
     "data": {
      "application/vnd.jupyter.widget-view+json": {
       "model_id": "5e1cc273f3be404e9c5e88a8d40e3c40",
       "version_major": 2,
       "version_minor": 0
      },
      "text/plain": [
       "  0%|          | 0/1000 [00:00<?, ?it/s]"
      ]
     },
     "metadata": {},
     "output_type": "display_data"
    },
    {
     "data": {
      "application/vnd.jupyter.widget-view+json": {
       "model_id": "978aa130215840ae9c7f6c2f4cca5121",
       "version_major": 2,
       "version_minor": 0
      },
      "text/plain": [
       "  0%|          | 0/1000 [00:00<?, ?it/s]"
      ]
     },
     "metadata": {},
     "output_type": "display_data"
    },
    {
     "data": {
      "application/vnd.jupyter.widget-view+json": {
       "model_id": "2144119649784e789c8a29cebf0a485c",
       "version_major": 2,
       "version_minor": 0
      },
      "text/plain": [
       "  0%|          | 0/1000 [00:00<?, ?it/s]"
      ]
     },
     "metadata": {},
     "output_type": "display_data"
    },
    {
     "data": {
      "application/vnd.jupyter.widget-view+json": {
       "model_id": "3a139c5b677d4b709a8a903421380e49",
       "version_major": 2,
       "version_minor": 0
      },
      "text/plain": [
       "  0%|          | 0/1000 [00:00<?, ?it/s]"
      ]
     },
     "metadata": {},
     "output_type": "display_data"
    },
    {
     "data": {
      "application/vnd.jupyter.widget-view+json": {
       "model_id": "620d7c2b416a44778e10b678563fa99b",
       "version_major": 2,
       "version_minor": 0
      },
      "text/plain": [
       "  0%|          | 0/1000 [00:00<?, ?it/s]"
      ]
     },
     "metadata": {},
     "output_type": "display_data"
    },
    {
     "data": {
      "application/vnd.jupyter.widget-view+json": {
       "model_id": "c44ce09b135341f898e49e50721a0d3f",
       "version_major": 2,
       "version_minor": 0
      },
      "text/plain": [
       "  0%|          | 0/1000 [00:00<?, ?it/s]"
      ]
     },
     "metadata": {},
     "output_type": "display_data"
    }
   ],
   "source": [
    "np.random.seed(42)\n",
    "random.seed(42)\n",
    "tf.random.set_seed(42)\n",
    "\n",
    "model_list = []\n",
    "kraus_target_list = []\n",
    "\n",
    "for i in range(3):    \n",
    "    #make random spam model\n",
    "    spam_target = SPAM(d=d)\n",
    "\n",
    "    #add ideal part\n",
    "    init_target = c1*init_ideal(d) + (1-c1)*spam_target.init\n",
    "    povm_target = c2*povm_ideal(d) + (1-c2)*spam_target.povm\n",
    "\n",
    "    spam_target = SPAM(d=d,\n",
    "                       init = init_target,\n",
    "                       povm = povm_target)\n",
    "    \n",
    "    # random kraus model with unitary part\n",
    "    kraus_target = KrausMap(\n",
    "                            U = generate_unitary(d=d), \n",
    "                            c = 0.5, \n",
    "                            d = d, \n",
    "                            rank = rank-1,\n",
    "                            spam = spam_target\n",
    "                           )\n",
    "    kraus_target_list.append(kraus_target)\n",
    "    \n",
    "    inputs_spam, targets_spam = generate_spam_data(spam_target)\n",
    "    inputs_map, targets_map = generate_map_data(kraus_target)\n",
    "\n",
    "    #train spam model\n",
    "    spam_model = SPAM(d=d,\n",
    "    #                  use_corr_mat=True,\n",
    "                      optimizer = tf.optimizers.Adam(learning_rate=0.01))\n",
    "    \n",
    "    spam_model.pretrain(targets = [init_ideal(d), povm_ideal(d)],\n",
    "                        num_iter = 1000,\n",
    "                        verbose = False\n",
    "                        )\n",
    "    \n",
    "    spam_model.train(inputs = inputs_spam,\n",
    "                     targets = targets_spam,\n",
    "                     num_iter = 1000,\n",
    "                     verbose = False,\n",
    "                    )\n",
    "\n",
    "    #train kraus model\n",
    "    kraus_model = KrausMap(\n",
    "                           d = d, \n",
    "                           rank = rank,\n",
    "                           spam = spam_model,\n",
    "                           )\n",
    "\n",
    "    model = ModelQuantumMap(\n",
    "                            q_map = kraus_model,\n",
    "                            loss = probs_loss,\n",
    "                            optimizer = tf.optimizers.Adam(learning_rate=0.01),\n",
    "                            )\n",
    "\n",
    "    model.train(inputs = inputs_map,\n",
    "                targets = targets_map,\n",
    "                num_iter = 1000,\n",
    "                N = 1000,\n",
    "                verbose = False,\n",
    "                )\n",
    "    \n",
    "    model_list.append(model)"
   ]
  },
  {
   "cell_type": "code",
   "execution_count": 5,
   "metadata": {},
   "outputs": [
    {
     "name": "stdout",
     "output_type": "stream",
     "text": [
      "0.9919473992330988 0.003102192890534414\n"
     ]
    }
   ],
   "source": [
    "channel_fidelity_list = np.array([channel_fidelity(model.q_map, kraus_target).numpy() for model, kraus_target in zip(model_list, kraus_target_list)])\n",
    "print(np.mean(channel_fidelity_list), np.std(channel_fidelity_list)/np.sqrt(len(channel_fidelity_list)))"
   ]
  },
  {
   "cell_type": "markdown",
   "metadata": {},
   "source": [
    "### Corruption Matrix"
   ]
  },
  {
   "cell_type": "code",
   "execution_count": 8,
   "metadata": {},
   "outputs": [
    {
     "data": {
      "application/vnd.jupyter.widget-view+json": {
       "model_id": "da9c90a7328e46a98caa489ab382ce44",
       "version_major": 2,
       "version_minor": 0
      },
      "text/plain": [
       "  0%|          | 0/1000 [00:00<?, ?it/s]"
      ]
     },
     "metadata": {},
     "output_type": "display_data"
    },
    {
     "data": {
      "application/vnd.jupyter.widget-view+json": {
       "model_id": "be57d8816b7c4a7fb4036e4ec8e8842f",
       "version_major": 2,
       "version_minor": 0
      },
      "text/plain": [
       "  0%|          | 0/1000 [00:00<?, ?it/s]"
      ]
     },
     "metadata": {},
     "output_type": "display_data"
    },
    {
     "data": {
      "application/vnd.jupyter.widget-view+json": {
       "model_id": "7985681ea8ec4d5bb5bc95d5de0ad652",
       "version_major": 2,
       "version_minor": 0
      },
      "text/plain": [
       "  0%|          | 0/1000 [00:00<?, ?it/s]"
      ]
     },
     "metadata": {},
     "output_type": "display_data"
    },
    {
     "data": {
      "application/vnd.jupyter.widget-view+json": {
       "model_id": "a4841129aefa4057bdb3fb5ef431cd86",
       "version_major": 2,
       "version_minor": 0
      },
      "text/plain": [
       "  0%|          | 0/1000 [00:00<?, ?it/s]"
      ]
     },
     "metadata": {},
     "output_type": "display_data"
    },
    {
     "data": {
      "application/vnd.jupyter.widget-view+json": {
       "model_id": "324bb6cc1f8e41399dc082112589f3b4",
       "version_major": 2,
       "version_minor": 0
      },
      "text/plain": [
       "  0%|          | 0/1000 [00:00<?, ?it/s]"
      ]
     },
     "metadata": {},
     "output_type": "display_data"
    },
    {
     "data": {
      "application/vnd.jupyter.widget-view+json": {
       "model_id": "8bc341f9ebdb419fba151e7643b40206",
       "version_major": 2,
       "version_minor": 0
      },
      "text/plain": [
       "  0%|          | 0/1000 [00:00<?, ?it/s]"
      ]
     },
     "metadata": {},
     "output_type": "display_data"
    },
    {
     "data": {
      "application/vnd.jupyter.widget-view+json": {
       "model_id": "7d43e3ee11ec44f5b1ec1e0b4c689ec9",
       "version_major": 2,
       "version_minor": 0
      },
      "text/plain": [
       "  0%|          | 0/1000 [00:00<?, ?it/s]"
      ]
     },
     "metadata": {},
     "output_type": "display_data"
    },
    {
     "data": {
      "application/vnd.jupyter.widget-view+json": {
       "model_id": "0c4d6f87825048539f1dd999a3845241",
       "version_major": 2,
       "version_minor": 0
      },
      "text/plain": [
       "  0%|          | 0/1000 [00:00<?, ?it/s]"
      ]
     },
     "metadata": {},
     "output_type": "display_data"
    },
    {
     "data": {
      "application/vnd.jupyter.widget-view+json": {
       "model_id": "ad6da5f0cb8b42a4923ec40dcb33bf19",
       "version_major": 2,
       "version_minor": 0
      },
      "text/plain": [
       "  0%|          | 0/1000 [00:00<?, ?it/s]"
      ]
     },
     "metadata": {},
     "output_type": "display_data"
    }
   ],
   "source": [
    "np.random.seed(42)\n",
    "random.seed(42)\n",
    "tf.random.set_seed(42)\n",
    "\n",
    "model_list = []\n",
    "kraus_target_list = []\n",
    "\n",
    "for i in range(10):    \n",
    "    #make random spam model\n",
    "    spam_target = SPAM(d=d)\n",
    "\n",
    "    #add ideal part\n",
    "    init_target = c1*init_ideal(d) + (1-c1)*spam_target.init\n",
    "    povm_target = c2*povm_ideal(d) + (1-c2)*spam_target.povm\n",
    "\n",
    "    spam_target = SPAM(d=d,\n",
    "                       init = init_target,\n",
    "                       povm = povm_target)\n",
    "    \n",
    "    # random kraus model with unitary part\n",
    "    kraus_target = KrausMap(\n",
    "                            U = generate_unitary(d=d), \n",
    "                            c = 0.5, \n",
    "                            d = d, \n",
    "                            rank = rank-1,\n",
    "                            spam = spam_target\n",
    "                           )\n",
    "    kraus_target_list.append(kraus_target)\n",
    "    \n",
    "    inputs_spam, targets_spam = generate_spam_data(spam_target)\n",
    "    inputs_map, targets_map = generate_map_data(kraus_target)\n",
    "\n",
    "    #train spam model\n",
    "    spam_model = SPAM(d=d,\n",
    "                      use_corr_mat=True,\n",
    "                      optimizer = tf.optimizers.Adam(learning_rate=0.01))\n",
    "    \n",
    "    spam_model.pretrain(targets = [init_ideal(d), povm_ideal(d)],\n",
    "                        num_iter = 1000,\n",
    "                        verbose = False\n",
    "                        )\n",
    "    \n",
    "    spam_model.train(inputs = inputs_spam,\n",
    "                     targets = targets_spam,\n",
    "                     num_iter = 1000,\n",
    "                     verbose = False,\n",
    "                    )\n",
    "\n",
    "    #train kraus model\n",
    "    kraus_model = KrausMap(\n",
    "                           d = d, \n",
    "                           rank = rank,\n",
    "                           spam = spam_model,\n",
    "                           )\n",
    "\n",
    "    model = ModelQuantumMap(\n",
    "                            q_map = kraus_model,\n",
    "                            loss = probs_loss,\n",
    "                            optimizer = tf.optimizers.Adam(learning_rate=0.01),\n",
    "                            )\n",
    "\n",
    "    model.train(inputs = inputs_map,\n",
    "                targets = targets_map,\n",
    "                num_iter = 1000,\n",
    "                N = 1000,\n",
    "                verbose = False,\n",
    "                )\n",
    "    \n",
    "    model_list.append(model)"
   ]
  },
  {
   "cell_type": "code",
   "execution_count": 9,
   "metadata": {},
   "outputs": [
    {
     "name": "stdout",
     "output_type": "stream",
     "text": [
      "0.9422928366036901 0.012215054611356848\n"
     ]
    }
   ],
   "source": [
    "channel_fidelity_list = np.array([channel_fidelity(model.q_map, kraus_target).numpy() for model, kraus_target in zip(model_list, kraus_target_list)])\n",
    "print(np.mean(channel_fidelity_list), np.std(channel_fidelity_list)/np.sqrt(len(channel_fidelity_list)))"
   ]
  },
  {
   "cell_type": "markdown",
   "metadata": {},
   "source": [
    "## Invariance of SPAM loss"
   ]
  },
  {
   "cell_type": "code",
   "execution_count": 4,
   "metadata": {},
   "outputs": [],
   "source": [
    "def apply(state, U):\n",
    "    return U@state@U.T.conj()"
   ]
  },
  {
   "cell_type": "code",
   "execution_count": 36,
   "metadata": {},
   "outputs": [],
   "source": [
    "np.random.seed(42)\n",
    "random.seed(42)\n",
    "tf.random.set_seed(42)\n",
    "\n",
    "n = 2\n",
    "d = 2**n\n",
    "c = 0.9\n",
    "\n",
    "#spam_model = SPAM(d=d)\n",
    "#init = (c*init_ideal(d) + (1-c)*spam_model.init).numpy()\n",
    "#povm = (c*povm_ideal(d)[0] + (1-c)*spam_model.povm[0]).numpy()\n",
    "\n",
    "#spam_model1 = SPAM(d=2)\n",
    "#pam_model2 = SPAM(d=2)\n",
    "#init = kron(spam_model1.init, spam_model2.init).numpy()\n",
    "#povm = kron(spam_model1.povm[0], spam_model2.povm[0]).numpy()\n",
    "\n",
    "\n",
    "init = np.array([[0.5, 0, 0, 0], [0, 0.4, 0, 0], [0, 0, 0.1, 0], [0, 0, 0, 0]])\n",
    "povm = np.array([[1, 0, 0, 0], [0, 0.3, 0, 0], [0, 0, 0.1, 0], [0, 0, 0, 0.2]])\n",
    "#U_scramble = kron(*[Operator(random_unitary(2)).data for j in range(n)]).numpy()\n",
    "#U_scramble = Operator(random_unitary(d)).data\n",
    "\n",
    "#init = apply(init, U_scramble)\n",
    "#povm = apply(povm, U_scramble)"
   ]
  },
  {
   "cell_type": "code",
   "execution_count": 37,
   "metadata": {},
   "outputs": [
    {
     "name": "stdout",
     "output_type": "stream",
     "text": [
      "0.348+0.000j 0.348+0.000j\n",
      "0.480-0.000j 0.480+0.000j\n",
      "0.408+0.000j 0.408+0.000j\n",
      "0.475-0.000j 0.475-0.000j\n",
      "0.264+0.000j 0.264+0.000j\n",
      "0.501+0.000j 0.501+0.000j\n",
      "0.349-0.000j 0.349-0.000j\n",
      "0.612+0.000j 0.612+0.000j\n",
      "0.399+0.000j 0.399+0.000j\n",
      "0.440-0.000j 0.440-0.000j\n",
      "0.280+0.000j 0.280+0.000j\n",
      "0.526-0.000j 0.526-0.000j\n",
      "0.350-0.000j 0.350-0.000j\n",
      "0.204+0.000j 0.204-0.000j\n",
      "0.297-0.000j 0.297-0.000j\n",
      "0.221-0.000j 0.221-0.000j\n",
      "0.607-0.000j 0.607-0.000j\n",
      "0.470-0.000j 0.470+0.000j\n",
      "0.259-0.000j 0.259-0.000j\n",
      "0.245-0.000j 0.245-0.000j\n",
      "0.285-0.000j 0.285-0.000j\n",
      "0.226-0.000j 0.226-0.000j\n",
      "0.402-0.000j 0.402-0.000j\n",
      "0.472-0.000j 0.472-0.000j\n",
      "0.458+0.000j 0.458+0.000j\n",
      "0.287+0.000j 0.287+0.000j\n",
      "0.311-0.000j 0.311-0.000j\n",
      "0.271-0.000j 0.271-0.000j\n",
      "0.292+0.000j 0.292+0.000j\n",
      "0.274+0.000j 0.274+0.000j\n",
      "0.588+0.000j 0.588+0.000j\n",
      "0.333-0.000j 0.333-0.000j\n",
      "0.308-0.000j 0.308+0.000j\n",
      "0.252-0.000j 0.252-0.000j\n",
      "0.403-0.000j 0.403+0.000j\n",
      "0.249+0.000j 0.249+0.000j\n"
     ]
    }
   ],
   "source": [
    "np.random.seed(42)\n",
    "random.seed(42)\n",
    "tf.random.set_seed(42)\n",
    "\n",
    "U_perm = np.array([[0,0,0,1], [0,0,1,0], [0,1,0,0], [1,0,0,0]])\n",
    "#U_perm = U_scramble@U_perm@U_scramble.T.conj()\n",
    "#U_perm = np.array([[1,0,0,0], [0,0,1,0], [0,1,0,0], [0,0,0,1]])\n",
    "#U_perm = kron(*[Operator(random_unitary(2)).data for j in range(n)]).numpy()\n",
    "\n",
    "for i in range(6**n):\n",
    "    config = numberToBase(i,6,n)\n",
    "    #U_prep = prepare_input(config, return_mode = \"unitary\")\n",
    "    U_prep = kron(*[Operator(random_unitary(2)).data for j in range(n)]).numpy()\n",
    "    #U_prep = Operator(random_unitary(d)).data\n",
    "    \n",
    "    init_s = apply(init, U_prep)\n",
    "    EV = np.trace(init_s@povm)\n",
    "    \n",
    "    init_perm_s = apply(init, U_prep@U_perm)\n",
    "    povm_perm = apply(povm, U_perm)\n",
    "    EV_perm = np.trace(init_perm_s@povm_perm)\n",
    "    \n",
    "    print(f\"{EV:.3f}\", f\"{EV_perm:.3f}\")"
   ]
  },
  {
   "cell_type": "code",
   "execution_count": null,
   "metadata": {},
   "outputs": [],
   "source": []
  }
 ],
 "metadata": {
  "kernelspec": {
   "display_name": "env_qiskit",
   "language": "python",
   "name": "env_qiskit"
  },
  "language_info": {
   "codemirror_mode": {
    "name": "ipython",
    "version": 3
   },
   "file_extension": ".py",
   "mimetype": "text/x-python",
   "name": "python",
   "nbconvert_exporter": "python",
   "pygments_lexer": "ipython3",
   "version": "3.10.4"
  }
 },
 "nbformat": 4,
 "nbformat_minor": 4
}
