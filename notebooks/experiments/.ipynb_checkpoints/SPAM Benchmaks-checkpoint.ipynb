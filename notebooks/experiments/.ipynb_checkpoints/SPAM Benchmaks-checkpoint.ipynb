{
 "cells": [
  {
   "cell_type": "markdown",
   "metadata": {},
   "source": [
    "# Numerical Benchmarks"
   ]
  },
  {
   "cell_type": "code",
   "execution_count": 1,
   "metadata": {},
   "outputs": [],
   "source": [
    "import sys\n",
    "sys.path.insert(0, '../../src_tf/')\n",
    "\n",
    "import numpy as np\n",
    "import qiskit as qk\n",
    "import matplotlib.pyplot as plt\n",
    "import multiprocessing as mp\n",
    "import random\n",
    "import pickle\n",
    "\n",
    "from qiskit.quantum_info import DensityMatrix\n",
    "from qiskit.quantum_info import Operator\n",
    "from scipy.linalg import sqrtm\n",
    "from tqdm.notebook import tqdm\n",
    "\n",
    "from loss_functions import *\n",
    "from optimization import *\n",
    "from quantum_maps import *\n",
    "from quantum_tools import *\n",
    "from experiments import *\n",
    "#np.set_printoptions(threshold=sys.maxsize)\n",
    "np.set_printoptions(precision=3)\n",
    "\n",
    "import os\n",
    "os.environ[\"CUDA_VISIBLE_DEVICES\"] = \"-1\""
   ]
  },
  {
   "cell_type": "code",
   "execution_count": 2,
   "metadata": {},
   "outputs": [],
   "source": [
    "def generate_spam_data(spam_target, noise = 0):\n",
    "    n = int(np.log2(spam_target.d))\n",
    "    \n",
    "    inputs_spam, _ = generate_pauliInput_circuits(n)\n",
    "\n",
    "    U_prep = inputs_spam\n",
    "    N_spam = U_prep.shape[0]\n",
    "\n",
    "    state = tf.repeat(spam_target.init[None,:,:], N_spam, axis=0)\n",
    "    state = apply_unitary(state, U_prep)\n",
    "    targets_spam = measurement(state, povm = spam_target.povm)\n",
    "    targets_spam = targets_spam + tf.cast(tf.random.normal(targets_spam.shape, 0, noise), dtype = precision)\n",
    "    \n",
    "    return inputs_spam, targets_spam\n",
    "\n",
    "\n",
    "def generate_map_data(kraus_target, noise = 0):\n",
    "    n = int(np.log2(kraus_target.d))\n",
    "    inputs_map, _ = generate_pauli_circuits(n = n, \n",
    "                                            circuit_target=None, \n",
    "                                            N = None, \n",
    "                                            trace=False)\n",
    "    U_prep, U_basis = inputs_map\n",
    "    N_map = U_prep.shape[0]\n",
    "    \n",
    "    state = tf.repeat(tf.expand_dims(spam_target.init, axis=0), N_map, axis=0)\n",
    "    state = apply_unitary(state, U_prep)\n",
    "    state = kraus_target.apply_map(state)\n",
    "    targets_map = measurement(state, U_basis, spam_target.povm)\n",
    "    targets_map = targets_map + tf.cast(tf.random.normal(targets_map.shape, 0, noise), dtype = precision)\n",
    "    \n",
    "    return inputs_map, targets_map"
   ]
  },
  {
   "cell_type": "markdown",
   "metadata": {},
   "source": [
    "## Retrieve SPAM and Map, No Noise"
   ]
  },
  {
   "cell_type": "code",
   "execution_count": 3,
   "metadata": {},
   "outputs": [],
   "source": [
    "n = 3\n",
    "d = 2**n\n",
    "rank = d\n",
    "c1 = 0.9\n",
    "c2 = 0.9"
   ]
  },
  {
   "cell_type": "markdown",
   "metadata": {},
   "source": [
    "### Retrieve Map without SPAM"
   ]
  },
  {
   "cell_type": "code",
   "execution_count": 45,
   "metadata": {
    "scrolled": true
   },
   "outputs": [
    {
     "data": {
      "application/vnd.jupyter.widget-view+json": {
       "model_id": "4a9c89c69ebc41268a91213c9fff8c31",
       "version_major": 2,
       "version_minor": 0
      },
      "text/plain": [
       "  0%|          | 0/1000 [00:00<?, ?it/s]"
      ]
     },
     "metadata": {},
     "output_type": "display_data"
    },
    {
     "data": {
      "application/vnd.jupyter.widget-view+json": {
       "model_id": "d934339b014e4ff49097d6bbda0e6cf1",
       "version_major": 2,
       "version_minor": 0
      },
      "text/plain": [
       "  0%|          | 0/1000 [00:00<?, ?it/s]"
      ]
     },
     "metadata": {},
     "output_type": "display_data"
    },
    {
     "data": {
      "application/vnd.jupyter.widget-view+json": {
       "model_id": "3eab21a04d714fa7ac58f34f0099fa8e",
       "version_major": 2,
       "version_minor": 0
      },
      "text/plain": [
       "  0%|          | 0/1000 [00:00<?, ?it/s]"
      ]
     },
     "metadata": {},
     "output_type": "display_data"
    },
    {
     "data": {
      "application/vnd.jupyter.widget-view+json": {
       "model_id": "ebaa6ddd338f4af49d4e78e1822cb1f0",
       "version_major": 2,
       "version_minor": 0
      },
      "text/plain": [
       "  0%|          | 0/1000 [00:00<?, ?it/s]"
      ]
     },
     "metadata": {},
     "output_type": "display_data"
    },
    {
     "data": {
      "application/vnd.jupyter.widget-view+json": {
       "model_id": "2ae1ae285d844e68b4aca49c6642d0b4",
       "version_major": 2,
       "version_minor": 0
      },
      "text/plain": [
       "  0%|          | 0/1000 [00:00<?, ?it/s]"
      ]
     },
     "metadata": {},
     "output_type": "display_data"
    },
    {
     "data": {
      "application/vnd.jupyter.widget-view+json": {
       "model_id": "625983f1d23140f5b9f731b9829be554",
       "version_major": 2,
       "version_minor": 0
      },
      "text/plain": [
       "  0%|          | 0/1000 [00:00<?, ?it/s]"
      ]
     },
     "metadata": {},
     "output_type": "display_data"
    },
    {
     "data": {
      "application/vnd.jupyter.widget-view+json": {
       "model_id": "0ee9762b57674b42bc3ee2b988709b12",
       "version_major": 2,
       "version_minor": 0
      },
      "text/plain": [
       "  0%|          | 0/1000 [00:00<?, ?it/s]"
      ]
     },
     "metadata": {},
     "output_type": "display_data"
    },
    {
     "data": {
      "application/vnd.jupyter.widget-view+json": {
       "model_id": "eb452df702de4fefa37dd204d1178eab",
       "version_major": 2,
       "version_minor": 0
      },
      "text/plain": [
       "  0%|          | 0/1000 [00:00<?, ?it/s]"
      ]
     },
     "metadata": {},
     "output_type": "display_data"
    },
    {
     "data": {
      "application/vnd.jupyter.widget-view+json": {
       "model_id": "eae60a524faa4dcab8f120adfff48d20",
       "version_major": 2,
       "version_minor": 0
      },
      "text/plain": [
       "  0%|          | 0/1000 [00:00<?, ?it/s]"
      ]
     },
     "metadata": {},
     "output_type": "display_data"
    },
    {
     "data": {
      "application/vnd.jupyter.widget-view+json": {
       "model_id": "d6f60b79b6d94ab68e97e0511046214d",
       "version_major": 2,
       "version_minor": 0
      },
      "text/plain": [
       "  0%|          | 0/1000 [00:00<?, ?it/s]"
      ]
     },
     "metadata": {},
     "output_type": "display_data"
    }
   ],
   "source": [
    "np.random.seed(42)\n",
    "random.seed(42)\n",
    "tf.random.set_seed(42)\n",
    "\n",
    "model_list = []\n",
    "kraus_target_list = []\n",
    "for i in tqdm(range(100)):\n",
    "    \n",
    "    #make random spam model\n",
    "    spam_target = SPAM(d=d)\n",
    "\n",
    "    #add ideal part\n",
    "    init_target = c1*init_ideal(d) + (1-c1)*spam_target.init\n",
    "    povm_target = c2*povm_ideal(d) + (1-c2)*spam_target.povm\n",
    "\n",
    "    spam_target = SPAM(d=d,\n",
    "                       init = init_target,\n",
    "                       povm = povm_target)\n",
    "    \n",
    "    # random kraus model with unitary part\n",
    "    kraus_target = KrausMap(\n",
    "                            U = generate_unitary(d=d), \n",
    "                            c = 0.5, \n",
    "                            d = d, \n",
    "                            rank = rank-1,\n",
    "                            spam = spam_target\n",
    "                           )\n",
    "    \n",
    "    kraus_target_list.append(kraus_target)\n",
    "    #inputs_spam, targets_spam = generate_spam_data(spam_target)\n",
    "    inputs_map, targets_map = generate_map_data(kraus_target)\n",
    "    \n",
    "    \n",
    "    kraus_model = KrausMap(\n",
    "                           d = d, \n",
    "                           rank = rank,\n",
    "                           spam = None,\n",
    "                           )\n",
    "\n",
    "    model = ModelQuantumMap(\n",
    "                            q_map = kraus_model,\n",
    "                            loss = probs_loss,\n",
    "                            optimizer = tf.optimizers.Adam(learning_rate=0.01),\n",
    "                            )\n",
    "\n",
    "    model.train(inputs = inputs_map,\n",
    "                targets = targets_map,\n",
    "                num_iter = 1000,\n",
    "                N = 1000,\n",
    "                verbose = False,\n",
    "                )\n",
    "    \n",
    "    model_list.append(model)"
   ]
  },
  {
   "cell_type": "code",
   "execution_count": 46,
   "metadata": {},
   "outputs": [],
   "source": [
    "channel_fidelity_list = np.array([channel_fidelity(model.q_map, kraus_target).numpy() for model, kraus_target in zip(model_list, kraus_target_list)])"
   ]
  },
  {
   "cell_type": "markdown",
   "metadata": {},
   "source": [
    "### Retrieve SPAM and Map"
   ]
  },
  {
   "cell_type": "code",
   "execution_count": 48,
   "metadata": {
    "scrolled": true
   },
   "outputs": [
    {
     "data": {
      "application/vnd.jupyter.widget-view+json": {
       "model_id": "4b07f21929104fa491b9bb6edb087bc9",
       "version_major": 2,
       "version_minor": 0
      },
      "text/plain": [
       "  0%|          | 0/1000 [00:00<?, ?it/s]"
      ]
     },
     "metadata": {},
     "output_type": "display_data"
    },
    {
     "data": {
      "application/vnd.jupyter.widget-view+json": {
       "model_id": "6af4f9ccfe944e9faa1714c475037ff6",
       "version_major": 2,
       "version_minor": 0
      },
      "text/plain": [
       "  0%|          | 0/1000 [00:00<?, ?it/s]"
      ]
     },
     "metadata": {},
     "output_type": "display_data"
    },
    {
     "data": {
      "application/vnd.jupyter.widget-view+json": {
       "model_id": "c0c4d07820ce4526af696bf4eb0ddecd",
       "version_major": 2,
       "version_minor": 0
      },
      "text/plain": [
       "  0%|          | 0/1000 [00:00<?, ?it/s]"
      ]
     },
     "metadata": {},
     "output_type": "display_data"
    },
    {
     "data": {
      "application/vnd.jupyter.widget-view+json": {
       "model_id": "b93882eab791497ca5ac86bc3f13b370",
       "version_major": 2,
       "version_minor": 0
      },
      "text/plain": [
       "  0%|          | 0/1000 [00:00<?, ?it/s]"
      ]
     },
     "metadata": {},
     "output_type": "display_data"
    },
    {
     "data": {
      "application/vnd.jupyter.widget-view+json": {
       "model_id": "b9ee6223f2cd4f39ba9e537595ebc89a",
       "version_major": 2,
       "version_minor": 0
      },
      "text/plain": [
       "  0%|          | 0/1000 [00:00<?, ?it/s]"
      ]
     },
     "metadata": {},
     "output_type": "display_data"
    },
    {
     "data": {
      "application/vnd.jupyter.widget-view+json": {
       "model_id": "695d5d2e5ae346bbbb40f18c195bb718",
       "version_major": 2,
       "version_minor": 0
      },
      "text/plain": [
       "  0%|          | 0/1000 [00:00<?, ?it/s]"
      ]
     },
     "metadata": {},
     "output_type": "display_data"
    },
    {
     "data": {
      "application/vnd.jupyter.widget-view+json": {
       "model_id": "f81850bbf918472aba76fc17effce27d",
       "version_major": 2,
       "version_minor": 0
      },
      "text/plain": [
       "  0%|          | 0/1000 [00:00<?, ?it/s]"
      ]
     },
     "metadata": {},
     "output_type": "display_data"
    },
    {
     "data": {
      "application/vnd.jupyter.widget-view+json": {
       "model_id": "449ab20aeb6d451a9405b6a49143bc71",
       "version_major": 2,
       "version_minor": 0
      },
      "text/plain": [
       "  0%|          | 0/1000 [00:00<?, ?it/s]"
      ]
     },
     "metadata": {},
     "output_type": "display_data"
    },
    {
     "data": {
      "application/vnd.jupyter.widget-view+json": {
       "model_id": "e83d9bf50f3340ba8dd1ff9d53d56936",
       "version_major": 2,
       "version_minor": 0
      },
      "text/plain": [
       "  0%|          | 0/1000 [00:00<?, ?it/s]"
      ]
     },
     "metadata": {},
     "output_type": "display_data"
    },
    {
     "data": {
      "application/vnd.jupyter.widget-view+json": {
       "model_id": "f84e9c86875f44a680f945b69807b7ca",
       "version_major": 2,
       "version_minor": 0
      },
      "text/plain": [
       "  0%|          | 0/1000 [00:00<?, ?it/s]"
      ]
     },
     "metadata": {},
     "output_type": "display_data"
    },
    {
     "data": {
      "application/vnd.jupyter.widget-view+json": {
       "model_id": "6d3c22d8df48459884116a7b4dee747e",
       "version_major": 2,
       "version_minor": 0
      },
      "text/plain": [
       "  0%|          | 0/1000 [00:00<?, ?it/s]"
      ]
     },
     "metadata": {},
     "output_type": "display_data"
    },
    {
     "data": {
      "application/vnd.jupyter.widget-view+json": {
       "model_id": "4da039e6d86640d38f761e4f86de438e",
       "version_major": 2,
       "version_minor": 0
      },
      "text/plain": [
       "  0%|          | 0/1000 [00:00<?, ?it/s]"
      ]
     },
     "metadata": {},
     "output_type": "display_data"
    },
    {
     "data": {
      "application/vnd.jupyter.widget-view+json": {
       "model_id": "14e8365b994e4ed084314e877ed29a5a",
       "version_major": 2,
       "version_minor": 0
      },
      "text/plain": [
       "  0%|          | 0/1000 [00:00<?, ?it/s]"
      ]
     },
     "metadata": {},
     "output_type": "display_data"
    },
    {
     "data": {
      "application/vnd.jupyter.widget-view+json": {
       "model_id": "7007cde210ce4860b0db84860296bbf8",
       "version_major": 2,
       "version_minor": 0
      },
      "text/plain": [
       "  0%|          | 0/1000 [00:00<?, ?it/s]"
      ]
     },
     "metadata": {},
     "output_type": "display_data"
    },
    {
     "data": {
      "application/vnd.jupyter.widget-view+json": {
       "model_id": "7fa083803470402e927e4aed1e5449b7",
       "version_major": 2,
       "version_minor": 0
      },
      "text/plain": [
       "  0%|          | 0/1000 [00:00<?, ?it/s]"
      ]
     },
     "metadata": {},
     "output_type": "display_data"
    },
    {
     "data": {
      "application/vnd.jupyter.widget-view+json": {
       "model_id": "564f7b7696a34f01abdc506bac5a677d",
       "version_major": 2,
       "version_minor": 0
      },
      "text/plain": [
       "  0%|          | 0/1000 [00:00<?, ?it/s]"
      ]
     },
     "metadata": {},
     "output_type": "display_data"
    },
    {
     "data": {
      "application/vnd.jupyter.widget-view+json": {
       "model_id": "feb6b0c5b04c439ead932fef63bf863f",
       "version_major": 2,
       "version_minor": 0
      },
      "text/plain": [
       "  0%|          | 0/1000 [00:00<?, ?it/s]"
      ]
     },
     "metadata": {},
     "output_type": "display_data"
    },
    {
     "data": {
      "application/vnd.jupyter.widget-view+json": {
       "model_id": "175ed8da61594e71888f589edf02defc",
       "version_major": 2,
       "version_minor": 0
      },
      "text/plain": [
       "  0%|          | 0/1000 [00:00<?, ?it/s]"
      ]
     },
     "metadata": {},
     "output_type": "display_data"
    },
    {
     "data": {
      "application/vnd.jupyter.widget-view+json": {
       "model_id": "2e7dc769220542439c8bf3a04e5c150f",
       "version_major": 2,
       "version_minor": 0
      },
      "text/plain": [
       "  0%|          | 0/1000 [00:00<?, ?it/s]"
      ]
     },
     "metadata": {},
     "output_type": "display_data"
    },
    {
     "data": {
      "application/vnd.jupyter.widget-view+json": {
       "model_id": "7a1e5eb09b5e4c6b8e94959d21634ac7",
       "version_major": 2,
       "version_minor": 0
      },
      "text/plain": [
       "  0%|          | 0/1000 [00:00<?, ?it/s]"
      ]
     },
     "metadata": {},
     "output_type": "display_data"
    },
    {
     "data": {
      "application/vnd.jupyter.widget-view+json": {
       "model_id": "4da93b708cd9489abb2aac05970db7aa",
       "version_major": 2,
       "version_minor": 0
      },
      "text/plain": [
       "  0%|          | 0/1000 [00:00<?, ?it/s]"
      ]
     },
     "metadata": {},
     "output_type": "display_data"
    },
    {
     "data": {
      "application/vnd.jupyter.widget-view+json": {
       "model_id": "3ee7d4b4bbfb43f5acbfd12df9b7ca7d",
       "version_major": 2,
       "version_minor": 0
      },
      "text/plain": [
       "  0%|          | 0/1000 [00:00<?, ?it/s]"
      ]
     },
     "metadata": {},
     "output_type": "display_data"
    },
    {
     "data": {
      "application/vnd.jupyter.widget-view+json": {
       "model_id": "f2022385389249b19005dbae0afe5f75",
       "version_major": 2,
       "version_minor": 0
      },
      "text/plain": [
       "  0%|          | 0/1000 [00:00<?, ?it/s]"
      ]
     },
     "metadata": {},
     "output_type": "display_data"
    },
    {
     "data": {
      "application/vnd.jupyter.widget-view+json": {
       "model_id": "246fe67ffd2f48c0a3808695a80e8746",
       "version_major": 2,
       "version_minor": 0
      },
      "text/plain": [
       "  0%|          | 0/1000 [00:00<?, ?it/s]"
      ]
     },
     "metadata": {},
     "output_type": "display_data"
    },
    {
     "data": {
      "application/vnd.jupyter.widget-view+json": {
       "model_id": "a6dc2b6bc3e54ac9bedec166da31f161",
       "version_major": 2,
       "version_minor": 0
      },
      "text/plain": [
       "  0%|          | 0/1000 [00:00<?, ?it/s]"
      ]
     },
     "metadata": {},
     "output_type": "display_data"
    },
    {
     "data": {
      "application/vnd.jupyter.widget-view+json": {
       "model_id": "b7723688158c4c5797f5415f5dc99c90",
       "version_major": 2,
       "version_minor": 0
      },
      "text/plain": [
       "  0%|          | 0/1000 [00:00<?, ?it/s]"
      ]
     },
     "metadata": {},
     "output_type": "display_data"
    },
    {
     "data": {
      "application/vnd.jupyter.widget-view+json": {
       "model_id": "0f738c4e1d9149a99b491e6abb7a433a",
       "version_major": 2,
       "version_minor": 0
      },
      "text/plain": [
       "  0%|          | 0/1000 [00:00<?, ?it/s]"
      ]
     },
     "metadata": {},
     "output_type": "display_data"
    },
    {
     "data": {
      "application/vnd.jupyter.widget-view+json": {
       "model_id": "fddb80ed87e84e0eb287016f146a8cea",
       "version_major": 2,
       "version_minor": 0
      },
      "text/plain": [
       "  0%|          | 0/1000 [00:00<?, ?it/s]"
      ]
     },
     "metadata": {},
     "output_type": "display_data"
    },
    {
     "data": {
      "application/vnd.jupyter.widget-view+json": {
       "model_id": "cd8cbce97b82459aa33fd6aa145de234",
       "version_major": 2,
       "version_minor": 0
      },
      "text/plain": [
       "  0%|          | 0/1000 [00:00<?, ?it/s]"
      ]
     },
     "metadata": {},
     "output_type": "display_data"
    },
    {
     "data": {
      "application/vnd.jupyter.widget-view+json": {
       "model_id": "11b3dce9f64b4b87b65a918570209027",
       "version_major": 2,
       "version_minor": 0
      },
      "text/plain": [
       "  0%|          | 0/1000 [00:00<?, ?it/s]"
      ]
     },
     "metadata": {},
     "output_type": "display_data"
    }
   ],
   "source": [
    "np.random.seed(42)\n",
    "random.seed(42)\n",
    "tf.random.set_seed(42)\n",
    "\n",
    "model_list = []\n",
    "kraus_target_list = []\n",
    "\n",
    "for i in range(10):    \n",
    "    #make random spam model\n",
    "    spam_target = SPAM(d=d)\n",
    "\n",
    "    #add ideal part\n",
    "    init_target = c1*init_ideal(d) + (1-c1)*spam_target.init\n",
    "    povm_target = c2*povm_ideal(d) + (1-c2)*spam_target.povm\n",
    "\n",
    "    spam_target = SPAM(d=d,\n",
    "                       init = init_target,\n",
    "                       povm = povm_target)\n",
    "    \n",
    "    # random kraus model with unitary part\n",
    "    kraus_target = KrausMap(\n",
    "                            U = generate_unitary(d=d), \n",
    "                            c = 0.5, \n",
    "                            d = d, \n",
    "                            rank = rank-1,\n",
    "                            spam = spam_target\n",
    "                           )\n",
    "    kraus_target_list.append(kraus_target)\n",
    "    \n",
    "    inputs_spam, targets_spam = generate_spam_data(spam_target)\n",
    "    inputs_map, targets_map = generate_map_data(kraus_target)\n",
    "\n",
    "    #train spam model\n",
    "    spam_model = SPAM(d=d,\n",
    "    #                  use_corr_mat=True,\n",
    "                      optimizer = tf.optimizers.Adam(learning_rate=0.01))\n",
    "    \n",
    "    spam_model.pretrain(targets = [init_ideal(d), povm_ideal(d)],\n",
    "                        num_iter = 1000,\n",
    "                        verbose = False\n",
    "                        )\n",
    "    \n",
    "    spam_model.train(inputs = inputs_spam,\n",
    "                     targets = targets_spam,\n",
    "                     num_iter = 1000,\n",
    "                     verbose = False,\n",
    "                    )\n",
    "\n",
    "    #train kraus model\n",
    "    kraus_model = KrausMap(\n",
    "                           d = d, \n",
    "                           rank = rank,\n",
    "                           spam = spam_model,\n",
    "                           )\n",
    "\n",
    "    model = ModelQuantumMap(\n",
    "                            q_map = kraus_model,\n",
    "                            loss = probs_loss,\n",
    "                            optimizer = tf.optimizers.Adam(learning_rate=0.01),\n",
    "                            )\n",
    "\n",
    "    model.train(inputs = inputs_map,\n",
    "                targets = targets_map,\n",
    "                num_iter = 1000,\n",
    "                N = 1000,\n",
    "                verbose = False,\n",
    "                )\n",
    "    \n",
    "    model_list.append(model)"
   ]
  },
  {
   "cell_type": "code",
   "execution_count": 49,
   "metadata": {},
   "outputs": [],
   "source": [
    "channel_fidelity_list = np.array([channel_fidelity(model.q_map, kraus_target).numpy() for model, kraus_target in zip(model_list, kraus_target_list)])"
   ]
  },
  {
   "cell_type": "code",
   "execution_count": 50,
   "metadata": {},
   "outputs": [
    {
     "name": "stdout",
     "output_type": "stream",
     "text": [
      "0.9938277602397199 0.009324713082876716\n"
     ]
    }
   ],
   "source": [
    "print(np.mean(channel_fidelity_list), np.std(channel_fidelity_list))"
   ]
  },
  {
   "cell_type": "markdown",
   "metadata": {},
   "source": [
    "### Retrieve SPAM (Corruption Matrix) and Map"
   ]
  },
  {
   "cell_type": "code",
   "execution_count": 51,
   "metadata": {
    "scrolled": true
   },
   "outputs": [
    {
     "data": {
      "application/vnd.jupyter.widget-view+json": {
       "model_id": "129f8528eccf4d6b833a082d3c78538c",
       "version_major": 2,
       "version_minor": 0
      },
      "text/plain": [
       "  0%|          | 0/1000 [00:00<?, ?it/s]"
      ]
     },
     "metadata": {},
     "output_type": "display_data"
    },
    {
     "data": {
      "application/vnd.jupyter.widget-view+json": {
       "model_id": "73764421b71441fba5d766f3843e8694",
       "version_major": 2,
       "version_minor": 0
      },
      "text/plain": [
       "  0%|          | 0/1000 [00:00<?, ?it/s]"
      ]
     },
     "metadata": {},
     "output_type": "display_data"
    },
    {
     "data": {
      "application/vnd.jupyter.widget-view+json": {
       "model_id": "1d32a4ad9ed4476ea848f0dd45306b18",
       "version_major": 2,
       "version_minor": 0
      },
      "text/plain": [
       "  0%|          | 0/1000 [00:00<?, ?it/s]"
      ]
     },
     "metadata": {},
     "output_type": "display_data"
    },
    {
     "data": {
      "application/vnd.jupyter.widget-view+json": {
       "model_id": "fd3f0395cc3046e18a2517e67e18c438",
       "version_major": 2,
       "version_minor": 0
      },
      "text/plain": [
       "  0%|          | 0/1000 [00:00<?, ?it/s]"
      ]
     },
     "metadata": {},
     "output_type": "display_data"
    },
    {
     "data": {
      "application/vnd.jupyter.widget-view+json": {
       "model_id": "e487fe2f547e4274ab0dcd60178945f4",
       "version_major": 2,
       "version_minor": 0
      },
      "text/plain": [
       "  0%|          | 0/1000 [00:00<?, ?it/s]"
      ]
     },
     "metadata": {},
     "output_type": "display_data"
    },
    {
     "data": {
      "application/vnd.jupyter.widget-view+json": {
       "model_id": "00f0008fd76d4697a45bcdb8bbbfc559",
       "version_major": 2,
       "version_minor": 0
      },
      "text/plain": [
       "  0%|          | 0/1000 [00:00<?, ?it/s]"
      ]
     },
     "metadata": {},
     "output_type": "display_data"
    },
    {
     "data": {
      "application/vnd.jupyter.widget-view+json": {
       "model_id": "545c66b17e9d4888ab28a5529733020a",
       "version_major": 2,
       "version_minor": 0
      },
      "text/plain": [
       "  0%|          | 0/1000 [00:00<?, ?it/s]"
      ]
     },
     "metadata": {},
     "output_type": "display_data"
    },
    {
     "data": {
      "application/vnd.jupyter.widget-view+json": {
       "model_id": "9547bd4bce2a413e852f85b39e6324d8",
       "version_major": 2,
       "version_minor": 0
      },
      "text/plain": [
       "  0%|          | 0/1000 [00:00<?, ?it/s]"
      ]
     },
     "metadata": {},
     "output_type": "display_data"
    },
    {
     "data": {
      "application/vnd.jupyter.widget-view+json": {
       "model_id": "2b534aa5a4cb4c2a89da501e13c3cd59",
       "version_major": 2,
       "version_minor": 0
      },
      "text/plain": [
       "  0%|          | 0/1000 [00:00<?, ?it/s]"
      ]
     },
     "metadata": {},
     "output_type": "display_data"
    },
    {
     "data": {
      "application/vnd.jupyter.widget-view+json": {
       "model_id": "0863f4a9a06e4a7c86e66cd051fc7ecf",
       "version_major": 2,
       "version_minor": 0
      },
      "text/plain": [
       "  0%|          | 0/1000 [00:00<?, ?it/s]"
      ]
     },
     "metadata": {},
     "output_type": "display_data"
    },
    {
     "data": {
      "application/vnd.jupyter.widget-view+json": {
       "model_id": "a930b3bf4a6942cd9e677e10b7ebe9f4",
       "version_major": 2,
       "version_minor": 0
      },
      "text/plain": [
       "  0%|          | 0/1000 [00:00<?, ?it/s]"
      ]
     },
     "metadata": {},
     "output_type": "display_data"
    },
    {
     "data": {
      "application/vnd.jupyter.widget-view+json": {
       "model_id": "e395707302be4422b2cb00e40d7778d2",
       "version_major": 2,
       "version_minor": 0
      },
      "text/plain": [
       "  0%|          | 0/1000 [00:00<?, ?it/s]"
      ]
     },
     "metadata": {},
     "output_type": "display_data"
    },
    {
     "data": {
      "application/vnd.jupyter.widget-view+json": {
       "model_id": "1f20fe7d81f24e47b55843ce0894a831",
       "version_major": 2,
       "version_minor": 0
      },
      "text/plain": [
       "  0%|          | 0/1000 [00:00<?, ?it/s]"
      ]
     },
     "metadata": {},
     "output_type": "display_data"
    },
    {
     "data": {
      "application/vnd.jupyter.widget-view+json": {
       "model_id": "a7457f509dfc4bb097239a51fecbc4af",
       "version_major": 2,
       "version_minor": 0
      },
      "text/plain": [
       "  0%|          | 0/1000 [00:00<?, ?it/s]"
      ]
     },
     "metadata": {},
     "output_type": "display_data"
    },
    {
     "data": {
      "application/vnd.jupyter.widget-view+json": {
       "model_id": "a3ac0380f3784bd9a9e9ce3f560e407d",
       "version_major": 2,
       "version_minor": 0
      },
      "text/plain": [
       "  0%|          | 0/1000 [00:00<?, ?it/s]"
      ]
     },
     "metadata": {},
     "output_type": "display_data"
    },
    {
     "data": {
      "application/vnd.jupyter.widget-view+json": {
       "model_id": "c3bf4975a0b146bb842f3c77eac3dc3d",
       "version_major": 2,
       "version_minor": 0
      },
      "text/plain": [
       "  0%|          | 0/1000 [00:00<?, ?it/s]"
      ]
     },
     "metadata": {},
     "output_type": "display_data"
    },
    {
     "data": {
      "application/vnd.jupyter.widget-view+json": {
       "model_id": "1fe124101c834fe1a181b53e53839bca",
       "version_major": 2,
       "version_minor": 0
      },
      "text/plain": [
       "  0%|          | 0/1000 [00:00<?, ?it/s]"
      ]
     },
     "metadata": {},
     "output_type": "display_data"
    },
    {
     "data": {
      "application/vnd.jupyter.widget-view+json": {
       "model_id": "c526d7b599804fc2ba08534605d876a7",
       "version_major": 2,
       "version_minor": 0
      },
      "text/plain": [
       "  0%|          | 0/1000 [00:00<?, ?it/s]"
      ]
     },
     "metadata": {},
     "output_type": "display_data"
    },
    {
     "data": {
      "application/vnd.jupyter.widget-view+json": {
       "model_id": "747b5ecb9a834c6ba31c8571316d4666",
       "version_major": 2,
       "version_minor": 0
      },
      "text/plain": [
       "  0%|          | 0/1000 [00:00<?, ?it/s]"
      ]
     },
     "metadata": {},
     "output_type": "display_data"
    },
    {
     "data": {
      "application/vnd.jupyter.widget-view+json": {
       "model_id": "ebe915416d1948bebfce365a658ca8df",
       "version_major": 2,
       "version_minor": 0
      },
      "text/plain": [
       "  0%|          | 0/1000 [00:00<?, ?it/s]"
      ]
     },
     "metadata": {},
     "output_type": "display_data"
    },
    {
     "data": {
      "application/vnd.jupyter.widget-view+json": {
       "model_id": "6364aa884dbb43dda761b76d08b54ea9",
       "version_major": 2,
       "version_minor": 0
      },
      "text/plain": [
       "  0%|          | 0/1000 [00:00<?, ?it/s]"
      ]
     },
     "metadata": {},
     "output_type": "display_data"
    },
    {
     "data": {
      "application/vnd.jupyter.widget-view+json": {
       "model_id": "c2be40b59afa4f6185fcc9a6bfa59451",
       "version_major": 2,
       "version_minor": 0
      },
      "text/plain": [
       "  0%|          | 0/1000 [00:00<?, ?it/s]"
      ]
     },
     "metadata": {},
     "output_type": "display_data"
    },
    {
     "data": {
      "application/vnd.jupyter.widget-view+json": {
       "model_id": "a7afea17b7174e84a21dbb1056c4774c",
       "version_major": 2,
       "version_minor": 0
      },
      "text/plain": [
       "  0%|          | 0/1000 [00:00<?, ?it/s]"
      ]
     },
     "metadata": {},
     "output_type": "display_data"
    },
    {
     "data": {
      "application/vnd.jupyter.widget-view+json": {
       "model_id": "bba0cc6dbff74dad859f7e991bb0f4e4",
       "version_major": 2,
       "version_minor": 0
      },
      "text/plain": [
       "  0%|          | 0/1000 [00:00<?, ?it/s]"
      ]
     },
     "metadata": {},
     "output_type": "display_data"
    },
    {
     "data": {
      "application/vnd.jupyter.widget-view+json": {
       "model_id": "4aad4de2ae8e4b4dbb35e0d676a84c3b",
       "version_major": 2,
       "version_minor": 0
      },
      "text/plain": [
       "  0%|          | 0/1000 [00:00<?, ?it/s]"
      ]
     },
     "metadata": {},
     "output_type": "display_data"
    },
    {
     "data": {
      "application/vnd.jupyter.widget-view+json": {
       "model_id": "9e572280d2d54468a4bd169c217d6812",
       "version_major": 2,
       "version_minor": 0
      },
      "text/plain": [
       "  0%|          | 0/1000 [00:00<?, ?it/s]"
      ]
     },
     "metadata": {},
     "output_type": "display_data"
    },
    {
     "data": {
      "application/vnd.jupyter.widget-view+json": {
       "model_id": "60939ae22843497e9da34c1b207c83ee",
       "version_major": 2,
       "version_minor": 0
      },
      "text/plain": [
       "  0%|          | 0/1000 [00:00<?, ?it/s]"
      ]
     },
     "metadata": {},
     "output_type": "display_data"
    },
    {
     "data": {
      "application/vnd.jupyter.widget-view+json": {
       "model_id": "f46d1a6df626412984d623cab6428fe3",
       "version_major": 2,
       "version_minor": 0
      },
      "text/plain": [
       "  0%|          | 0/1000 [00:00<?, ?it/s]"
      ]
     },
     "metadata": {},
     "output_type": "display_data"
    },
    {
     "data": {
      "application/vnd.jupyter.widget-view+json": {
       "model_id": "b8c087d9c375487e863baba849afa5e2",
       "version_major": 2,
       "version_minor": 0
      },
      "text/plain": [
       "  0%|          | 0/1000 [00:00<?, ?it/s]"
      ]
     },
     "metadata": {},
     "output_type": "display_data"
    },
    {
     "data": {
      "application/vnd.jupyter.widget-view+json": {
       "model_id": "7c04d5541b2849b49491f093252bd4cc",
       "version_major": 2,
       "version_minor": 0
      },
      "text/plain": [
       "  0%|          | 0/1000 [00:00<?, ?it/s]"
      ]
     },
     "metadata": {},
     "output_type": "display_data"
    }
   ],
   "source": [
    "np.random.seed(42)\n",
    "random.seed(42)\n",
    "tf.random.set_seed(42)\n",
    "\n",
    "model_list = []\n",
    "kraus_target_list = []\n",
    "for i in range(10):    \n",
    "    #make random spam model\n",
    "    spam_target = SPAM(d=d)\n",
    "\n",
    "    #add ideal part\n",
    "    init_target = c1*init_ideal(d) + (1-c1)*spam_target.init\n",
    "    povm_target = c2*povm_ideal(d) + (1-c2)*spam_target.povm\n",
    "\n",
    "    spam_target = SPAM(d=d,\n",
    "                       init = init_target,\n",
    "                       povm = povm_target)\n",
    "    \n",
    "    # random kraus model with unitary part\n",
    "    kraus_target = KrausMap(\n",
    "                            U = generate_unitary(d=d), \n",
    "                            c = 0.5, \n",
    "                            d = d, \n",
    "                            rank = rank-1,\n",
    "                            spam = spam_target\n",
    "                           )\n",
    "    kraus_target_list.append(kraus_target)\n",
    "    \n",
    "    inputs_spam, targets_spam = generate_spam_data(spam_target)\n",
    "    inputs_map, targets_map = generate_map_data(kraus_target)\n",
    "\n",
    "    #train spam model\n",
    "    spam_model = SPAM(d=d,\n",
    "                      use_corr_mat=True,\n",
    "                      optimizer = tf.optimizers.Adam(learning_rate=0.01))\n",
    "    \n",
    "    spam_model.pretrain(targets = [init_ideal(d), povm_ideal(d)],\n",
    "                        num_iter = 1000,\n",
    "                        verbose = False\n",
    "                        )\n",
    "    \n",
    "    spam_model.train(inputs = inputs_spam,\n",
    "                     targets = targets_spam,\n",
    "                     num_iter = 1000,\n",
    "                     verbose = False,\n",
    "                    )\n",
    "\n",
    "    #train kraus model\n",
    "    kraus_model = KrausMap(\n",
    "                           d = d, \n",
    "                           rank = rank,\n",
    "                           spam = spam_model,\n",
    "                           )\n",
    "\n",
    "    model = ModelQuantumMap(\n",
    "                            q_map = kraus_model,\n",
    "                            loss = probs_loss,\n",
    "                            optimizer = tf.optimizers.Adam(learning_rate=0.01),\n",
    "                            )\n",
    "\n",
    "    model.train(inputs = inputs_map,\n",
    "                targets = targets_map,\n",
    "                num_iter = 1000,\n",
    "                N = 1000,\n",
    "                verbose = False,\n",
    "                )\n",
    "    \n",
    "    model_list.append(model)"
   ]
  },
  {
   "cell_type": "code",
   "execution_count": 52,
   "metadata": {},
   "outputs": [],
   "source": [
    "channel_fidelity_list = np.array([channel_fidelity(model.q_map, kraus_target).numpy() for model, kraus_target in zip(model_list, kraus_target_list)])"
   ]
  },
  {
   "cell_type": "code",
   "execution_count": 53,
   "metadata": {},
   "outputs": [
    {
     "name": "stdout",
     "output_type": "stream",
     "text": [
      "0.9911403116281312 0.010436340146681813\n"
     ]
    }
   ],
   "source": [
    "print(np.mean(channel_fidelity_list), np.std(channel_fidelity_list))"
   ]
  },
  {
   "cell_type": "markdown",
   "metadata": {},
   "source": [
    "## Retrieve SPAM and Map, with Noise"
   ]
  },
  {
   "cell_type": "code",
   "execution_count": 54,
   "metadata": {},
   "outputs": [],
   "source": [
    "n = 3\n",
    "d = 2**n\n",
    "rank = d\n",
    "c1 = 0.9\n",
    "c2 = 0.9"
   ]
  },
  {
   "cell_type": "markdown",
   "metadata": {},
   "source": [
    "### Retrieve Map without SPAM"
   ]
  },
  {
   "cell_type": "code",
   "execution_count": 55,
   "metadata": {},
   "outputs": [
    {
     "data": {
      "application/vnd.jupyter.widget-view+json": {
       "model_id": "9d283a96e19f4d3bb667d0b1841883bf",
       "version_major": 2,
       "version_minor": 0
      },
      "text/plain": [
       "  0%|          | 0/1000 [00:00<?, ?it/s]"
      ]
     },
     "metadata": {},
     "output_type": "display_data"
    },
    {
     "data": {
      "application/vnd.jupyter.widget-view+json": {
       "model_id": "d338e95a06ed4e4289b3eb2c95b95ec7",
       "version_major": 2,
       "version_minor": 0
      },
      "text/plain": [
       "  0%|          | 0/1000 [00:00<?, ?it/s]"
      ]
     },
     "metadata": {},
     "output_type": "display_data"
    },
    {
     "data": {
      "application/vnd.jupyter.widget-view+json": {
       "model_id": "4ffffbbc98914959b2aa8e78e1b72eae",
       "version_major": 2,
       "version_minor": 0
      },
      "text/plain": [
       "  0%|          | 0/1000 [00:00<?, ?it/s]"
      ]
     },
     "metadata": {},
     "output_type": "display_data"
    },
    {
     "data": {
      "application/vnd.jupyter.widget-view+json": {
       "model_id": "adab184abdde4756aff363fe67461989",
       "version_major": 2,
       "version_minor": 0
      },
      "text/plain": [
       "  0%|          | 0/1000 [00:00<?, ?it/s]"
      ]
     },
     "metadata": {},
     "output_type": "display_data"
    },
    {
     "data": {
      "application/vnd.jupyter.widget-view+json": {
       "model_id": "892b26c530124d12babebb89fa22f27b",
       "version_major": 2,
       "version_minor": 0
      },
      "text/plain": [
       "  0%|          | 0/1000 [00:00<?, ?it/s]"
      ]
     },
     "metadata": {},
     "output_type": "display_data"
    },
    {
     "data": {
      "application/vnd.jupyter.widget-view+json": {
       "model_id": "0816efb803f846e4bff84b26c427745c",
       "version_major": 2,
       "version_minor": 0
      },
      "text/plain": [
       "  0%|          | 0/1000 [00:00<?, ?it/s]"
      ]
     },
     "metadata": {},
     "output_type": "display_data"
    },
    {
     "data": {
      "application/vnd.jupyter.widget-view+json": {
       "model_id": "0e56e330253d40a9adab664a3fa8d2f4",
       "version_major": 2,
       "version_minor": 0
      },
      "text/plain": [
       "  0%|          | 0/1000 [00:00<?, ?it/s]"
      ]
     },
     "metadata": {},
     "output_type": "display_data"
    },
    {
     "data": {
      "application/vnd.jupyter.widget-view+json": {
       "model_id": "28951e7c8e134b2da3cc3ae428628b1b",
       "version_major": 2,
       "version_minor": 0
      },
      "text/plain": [
       "  0%|          | 0/1000 [00:00<?, ?it/s]"
      ]
     },
     "metadata": {},
     "output_type": "display_data"
    },
    {
     "data": {
      "application/vnd.jupyter.widget-view+json": {
       "model_id": "70d6f13345f648dcb1ce0cd5b95c1fc7",
       "version_major": 2,
       "version_minor": 0
      },
      "text/plain": [
       "  0%|          | 0/1000 [00:00<?, ?it/s]"
      ]
     },
     "metadata": {},
     "output_type": "display_data"
    },
    {
     "data": {
      "application/vnd.jupyter.widget-view+json": {
       "model_id": "285f14b2931846289b4fef0d5aa9845b",
       "version_major": 2,
       "version_minor": 0
      },
      "text/plain": [
       "  0%|          | 0/1000 [00:00<?, ?it/s]"
      ]
     },
     "metadata": {},
     "output_type": "display_data"
    }
   ],
   "source": [
    "np.random.seed(42)\n",
    "random.seed(42)\n",
    "tf.random.set_seed(42)\n",
    "\n",
    "model_list = []\n",
    "kraus_target_list = []\n",
    "for i in range(10):\n",
    "    \n",
    "    #make random spam model\n",
    "    spam_target = SPAM(d=d)\n",
    "\n",
    "    #add ideal part\n",
    "    init_target = c1*init_ideal(d) + (1-c1)*spam_target.init\n",
    "    povm_target = c2*povm_ideal(d) + (1-c2)*spam_target.povm\n",
    "\n",
    "    spam_target = SPAM(d=d,\n",
    "                       init = init_target,\n",
    "                       povm = povm_target)\n",
    "    \n",
    "    # random kraus model with unitary part\n",
    "    kraus_target = KrausMap(\n",
    "                            U = generate_unitary(d=d), \n",
    "                            c = 0.5, \n",
    "                            d = d, \n",
    "                            rank = rank-1,\n",
    "                            spam = spam_target\n",
    "                           )\n",
    "    \n",
    "    kraus_target_list.append(kraus_target)\n",
    "    #inputs_spam, targets_spam = generate_spam_data(spam_target)\n",
    "    inputs_map, targets_map = generate_map_data(kraus_target, noise = 0.02)\n",
    "    \n",
    "    \n",
    "    kraus_model = KrausMap(\n",
    "                           d = d, \n",
    "                           rank = rank,\n",
    "                           spam = None,\n",
    "                           )\n",
    "\n",
    "    model = ModelQuantumMap(\n",
    "                            q_map = kraus_model,\n",
    "                            loss = probs_loss,\n",
    "                            optimizer = tf.optimizers.Adam(learning_rate=0.01),\n",
    "                            )\n",
    "\n",
    "    model.train(inputs = inputs_map,\n",
    "                targets = targets_map,\n",
    "                num_iter = 1000,\n",
    "                N = 1000,\n",
    "                verbose = False,\n",
    "                )\n",
    "    \n",
    "    model_list.append(model)"
   ]
  },
  {
   "cell_type": "code",
   "execution_count": 56,
   "metadata": {},
   "outputs": [],
   "source": [
    "channel_fidelity_list = np.array([channel_fidelity(model.q_map, kraus_target).numpy() for model, kraus_target in zip(model_list, kraus_target_list)])"
   ]
  },
  {
   "cell_type": "code",
   "execution_count": 57,
   "metadata": {},
   "outputs": [
    {
     "name": "stdout",
     "output_type": "stream",
     "text": [
      "0.9599438448595219 0.006690862147421471\n"
     ]
    }
   ],
   "source": [
    "print(np.mean(channel_fidelity_list), np.std(channel_fidelity_list))"
   ]
  },
  {
   "cell_type": "markdown",
   "metadata": {},
   "source": [
    "### Retrieve SPAM and Map"
   ]
  },
  {
   "cell_type": "code",
   "execution_count": 58,
   "metadata": {
    "scrolled": true
   },
   "outputs": [
    {
     "data": {
      "application/vnd.jupyter.widget-view+json": {
       "model_id": "3ba2de094ad945aaae538850d3f45fb6",
       "version_major": 2,
       "version_minor": 0
      },
      "text/plain": [
       "  0%|          | 0/1000 [00:00<?, ?it/s]"
      ]
     },
     "metadata": {},
     "output_type": "display_data"
    },
    {
     "data": {
      "application/vnd.jupyter.widget-view+json": {
       "model_id": "71c5bd41797f49bc9156890f70686fb7",
       "version_major": 2,
       "version_minor": 0
      },
      "text/plain": [
       "  0%|          | 0/1000 [00:00<?, ?it/s]"
      ]
     },
     "metadata": {},
     "output_type": "display_data"
    },
    {
     "data": {
      "application/vnd.jupyter.widget-view+json": {
       "model_id": "d6eaa7fbc6ca4a69b4608be247dc470c",
       "version_major": 2,
       "version_minor": 0
      },
      "text/plain": [
       "  0%|          | 0/1000 [00:00<?, ?it/s]"
      ]
     },
     "metadata": {},
     "output_type": "display_data"
    },
    {
     "data": {
      "application/vnd.jupyter.widget-view+json": {
       "model_id": "d798b88ae95a4f3bb6f4cc9723824b63",
       "version_major": 2,
       "version_minor": 0
      },
      "text/plain": [
       "  0%|          | 0/1000 [00:00<?, ?it/s]"
      ]
     },
     "metadata": {},
     "output_type": "display_data"
    },
    {
     "data": {
      "application/vnd.jupyter.widget-view+json": {
       "model_id": "ef6fb03c51a64e489451f45188911f3b",
       "version_major": 2,
       "version_minor": 0
      },
      "text/plain": [
       "  0%|          | 0/1000 [00:00<?, ?it/s]"
      ]
     },
     "metadata": {},
     "output_type": "display_data"
    },
    {
     "data": {
      "application/vnd.jupyter.widget-view+json": {
       "model_id": "6aace647996b425d83c21209ff592593",
       "version_major": 2,
       "version_minor": 0
      },
      "text/plain": [
       "  0%|          | 0/1000 [00:00<?, ?it/s]"
      ]
     },
     "metadata": {},
     "output_type": "display_data"
    },
    {
     "data": {
      "application/vnd.jupyter.widget-view+json": {
       "model_id": "7b7dfaff854c474b97ab651b4f077fbe",
       "version_major": 2,
       "version_minor": 0
      },
      "text/plain": [
       "  0%|          | 0/1000 [00:00<?, ?it/s]"
      ]
     },
     "metadata": {},
     "output_type": "display_data"
    },
    {
     "data": {
      "application/vnd.jupyter.widget-view+json": {
       "model_id": "83704c7f627c4ea5b1515cb2b49254f4",
       "version_major": 2,
       "version_minor": 0
      },
      "text/plain": [
       "  0%|          | 0/1000 [00:00<?, ?it/s]"
      ]
     },
     "metadata": {},
     "output_type": "display_data"
    },
    {
     "data": {
      "application/vnd.jupyter.widget-view+json": {
       "model_id": "9a0ce5a2e95c4294a937c34d946b068b",
       "version_major": 2,
       "version_minor": 0
      },
      "text/plain": [
       "  0%|          | 0/1000 [00:00<?, ?it/s]"
      ]
     },
     "metadata": {},
     "output_type": "display_data"
    },
    {
     "data": {
      "application/vnd.jupyter.widget-view+json": {
       "model_id": "bcd50b8f283f4a24a6ad50a8ee0e98bb",
       "version_major": 2,
       "version_minor": 0
      },
      "text/plain": [
       "  0%|          | 0/1000 [00:00<?, ?it/s]"
      ]
     },
     "metadata": {},
     "output_type": "display_data"
    },
    {
     "data": {
      "application/vnd.jupyter.widget-view+json": {
       "model_id": "fda6907af0c940f681a3b01c5fc112fe",
       "version_major": 2,
       "version_minor": 0
      },
      "text/plain": [
       "  0%|          | 0/1000 [00:00<?, ?it/s]"
      ]
     },
     "metadata": {},
     "output_type": "display_data"
    },
    {
     "data": {
      "application/vnd.jupyter.widget-view+json": {
       "model_id": "150892622f8a4e279e9f19a05e8aa11f",
       "version_major": 2,
       "version_minor": 0
      },
      "text/plain": [
       "  0%|          | 0/1000 [00:00<?, ?it/s]"
      ]
     },
     "metadata": {},
     "output_type": "display_data"
    },
    {
     "data": {
      "application/vnd.jupyter.widget-view+json": {
       "model_id": "983a7584b9644f1fbe9bb993aee57ae9",
       "version_major": 2,
       "version_minor": 0
      },
      "text/plain": [
       "  0%|          | 0/1000 [00:00<?, ?it/s]"
      ]
     },
     "metadata": {},
     "output_type": "display_data"
    },
    {
     "data": {
      "application/vnd.jupyter.widget-view+json": {
       "model_id": "38a4841e85e848c08f38b1d5091a8a27",
       "version_major": 2,
       "version_minor": 0
      },
      "text/plain": [
       "  0%|          | 0/1000 [00:00<?, ?it/s]"
      ]
     },
     "metadata": {},
     "output_type": "display_data"
    },
    {
     "data": {
      "application/vnd.jupyter.widget-view+json": {
       "model_id": "250c735434494c33af4a45d92247ad4c",
       "version_major": 2,
       "version_minor": 0
      },
      "text/plain": [
       "  0%|          | 0/1000 [00:00<?, ?it/s]"
      ]
     },
     "metadata": {},
     "output_type": "display_data"
    },
    {
     "data": {
      "application/vnd.jupyter.widget-view+json": {
       "model_id": "8d15d62fa4ea44838fda847d3bd9a123",
       "version_major": 2,
       "version_minor": 0
      },
      "text/plain": [
       "  0%|          | 0/1000 [00:00<?, ?it/s]"
      ]
     },
     "metadata": {},
     "output_type": "display_data"
    },
    {
     "data": {
      "application/vnd.jupyter.widget-view+json": {
       "model_id": "162744ec4ac248f4871ceb07bd73d503",
       "version_major": 2,
       "version_minor": 0
      },
      "text/plain": [
       "  0%|          | 0/1000 [00:00<?, ?it/s]"
      ]
     },
     "metadata": {},
     "output_type": "display_data"
    },
    {
     "data": {
      "application/vnd.jupyter.widget-view+json": {
       "model_id": "7fa0abb9e09745ed972d2a8854a4ebc3",
       "version_major": 2,
       "version_minor": 0
      },
      "text/plain": [
       "  0%|          | 0/1000 [00:00<?, ?it/s]"
      ]
     },
     "metadata": {},
     "output_type": "display_data"
    },
    {
     "data": {
      "application/vnd.jupyter.widget-view+json": {
       "model_id": "53b7d304939941b3ac0e8ba6a135aa6c",
       "version_major": 2,
       "version_minor": 0
      },
      "text/plain": [
       "  0%|          | 0/1000 [00:00<?, ?it/s]"
      ]
     },
     "metadata": {},
     "output_type": "display_data"
    },
    {
     "data": {
      "application/vnd.jupyter.widget-view+json": {
       "model_id": "01d4cbb45c3d4f1c94d16e07d09e0557",
       "version_major": 2,
       "version_minor": 0
      },
      "text/plain": [
       "  0%|          | 0/1000 [00:00<?, ?it/s]"
      ]
     },
     "metadata": {},
     "output_type": "display_data"
    },
    {
     "data": {
      "application/vnd.jupyter.widget-view+json": {
       "model_id": "0c84e9981c244581a65022f23ae9d094",
       "version_major": 2,
       "version_minor": 0
      },
      "text/plain": [
       "  0%|          | 0/1000 [00:00<?, ?it/s]"
      ]
     },
     "metadata": {},
     "output_type": "display_data"
    },
    {
     "data": {
      "application/vnd.jupyter.widget-view+json": {
       "model_id": "44520bceacb446bbae6102ed564f73f1",
       "version_major": 2,
       "version_minor": 0
      },
      "text/plain": [
       "  0%|          | 0/1000 [00:00<?, ?it/s]"
      ]
     },
     "metadata": {},
     "output_type": "display_data"
    },
    {
     "data": {
      "application/vnd.jupyter.widget-view+json": {
       "model_id": "9abc5f63228d480585cbaa6904685432",
       "version_major": 2,
       "version_minor": 0
      },
      "text/plain": [
       "  0%|          | 0/1000 [00:00<?, ?it/s]"
      ]
     },
     "metadata": {},
     "output_type": "display_data"
    },
    {
     "data": {
      "application/vnd.jupyter.widget-view+json": {
       "model_id": "0d1a627ad63f4ed2b5fe59a5cdf3d34f",
       "version_major": 2,
       "version_minor": 0
      },
      "text/plain": [
       "  0%|          | 0/1000 [00:00<?, ?it/s]"
      ]
     },
     "metadata": {},
     "output_type": "display_data"
    },
    {
     "data": {
      "application/vnd.jupyter.widget-view+json": {
       "model_id": "c59a47de159549ecbffda748455bcb51",
       "version_major": 2,
       "version_minor": 0
      },
      "text/plain": [
       "  0%|          | 0/1000 [00:00<?, ?it/s]"
      ]
     },
     "metadata": {},
     "output_type": "display_data"
    },
    {
     "data": {
      "application/vnd.jupyter.widget-view+json": {
       "model_id": "0828763891c144f0b2ff70f89c0365b4",
       "version_major": 2,
       "version_minor": 0
      },
      "text/plain": [
       "  0%|          | 0/1000 [00:00<?, ?it/s]"
      ]
     },
     "metadata": {},
     "output_type": "display_data"
    },
    {
     "data": {
      "application/vnd.jupyter.widget-view+json": {
       "model_id": "811294e5993a4aab9417c4e188b53855",
       "version_major": 2,
       "version_minor": 0
      },
      "text/plain": [
       "  0%|          | 0/1000 [00:00<?, ?it/s]"
      ]
     },
     "metadata": {},
     "output_type": "display_data"
    },
    {
     "data": {
      "application/vnd.jupyter.widget-view+json": {
       "model_id": "2aec7078f6e54a6992c2b2588356d40c",
       "version_major": 2,
       "version_minor": 0
      },
      "text/plain": [
       "  0%|          | 0/1000 [00:00<?, ?it/s]"
      ]
     },
     "metadata": {},
     "output_type": "display_data"
    },
    {
     "data": {
      "application/vnd.jupyter.widget-view+json": {
       "model_id": "25ebddd43f8e41c4971929e476d22d4a",
       "version_major": 2,
       "version_minor": 0
      },
      "text/plain": [
       "  0%|          | 0/1000 [00:00<?, ?it/s]"
      ]
     },
     "metadata": {},
     "output_type": "display_data"
    },
    {
     "data": {
      "application/vnd.jupyter.widget-view+json": {
       "model_id": "1d56c1179f734b6fafb81bcd5646c66a",
       "version_major": 2,
       "version_minor": 0
      },
      "text/plain": [
       "  0%|          | 0/1000 [00:00<?, ?it/s]"
      ]
     },
     "metadata": {},
     "output_type": "display_data"
    }
   ],
   "source": [
    "np.random.seed(42)\n",
    "random.seed(42)\n",
    "tf.random.set_seed(42)\n",
    "\n",
    "model_list = []\n",
    "kraus_target_list = []\n",
    "\n",
    "for i in range(10):    \n",
    "    #make random spam model\n",
    "    spam_target = SPAM(d=d)\n",
    "\n",
    "    #add ideal part\n",
    "    init_target = c1*init_ideal(d) + (1-c1)*spam_target.init\n",
    "    povm_target = c2*povm_ideal(d) + (1-c2)*spam_target.povm\n",
    "\n",
    "    spam_target = SPAM(d=d,\n",
    "                       init = init_target,\n",
    "                       povm = povm_target)\n",
    "    \n",
    "    # random kraus model with unitary part\n",
    "    kraus_target = KrausMap(\n",
    "                            U = generate_unitary(d=d), \n",
    "                            c = 0.5, \n",
    "                            d = d, \n",
    "                            rank = rank-1,\n",
    "                            spam = spam_target\n",
    "                           )\n",
    "    kraus_target_list.append(kraus_target)\n",
    "    \n",
    "    inputs_spam, targets_spam = generate_spam_data(spam_target, noise = 0.02)\n",
    "    inputs_map, targets_map = generate_map_data(kraus_target, noise = 0.02)\n",
    "\n",
    "    #train spam model\n",
    "    spam_model = SPAM(d=d,\n",
    "    #                  use_corr_mat=True,\n",
    "                      optimizer = tf.optimizers.Adam(learning_rate=0.01))\n",
    "    \n",
    "    spam_model.pretrain(targets = [init_ideal(d), povm_ideal(d)],\n",
    "                        num_iter = 1000,\n",
    "                        verbose = False\n",
    "                        )\n",
    "    \n",
    "    spam_model.train(inputs = inputs_spam,\n",
    "                     targets = targets_spam,\n",
    "                     num_iter = 1000,\n",
    "                     verbose = False,\n",
    "                    )\n",
    "\n",
    "    #train kraus model\n",
    "    kraus_model = KrausMap(\n",
    "                           d = d, \n",
    "                           rank = rank,\n",
    "                           spam = spam_model,\n",
    "                           )\n",
    "\n",
    "    model = ModelQuantumMap(\n",
    "                            q_map = kraus_model,\n",
    "                            loss = probs_loss,\n",
    "                            optimizer = tf.optimizers.Adam(learning_rate=0.01),\n",
    "                            )\n",
    "\n",
    "    model.train(inputs = inputs_map,\n",
    "                targets = targets_map,\n",
    "                num_iter = 1000,\n",
    "                N = 1000,\n",
    "                verbose = False,\n",
    "                )\n",
    "    \n",
    "    model_list.append(model)"
   ]
  },
  {
   "cell_type": "code",
   "execution_count": 59,
   "metadata": {},
   "outputs": [],
   "source": [
    "channel_fidelity_list = np.array([channel_fidelity(model.q_map, kraus_target).numpy() for model, kraus_target in zip(model_list, kraus_target_list)])"
   ]
  },
  {
   "cell_type": "code",
   "execution_count": 60,
   "metadata": {},
   "outputs": [
    {
     "name": "stdout",
     "output_type": "stream",
     "text": [
      "0.9478121807749303 0.019084339954220254\n"
     ]
    }
   ],
   "source": [
    "print(np.mean(channel_fidelity_list), np.std(channel_fidelity_list))"
   ]
  },
  {
   "cell_type": "markdown",
   "metadata": {},
   "source": [
    "### Retrieve SPAM (Corruption Matrix) and Map"
   ]
  },
  {
   "cell_type": "code",
   "execution_count": 61,
   "metadata": {
    "scrolled": true
   },
   "outputs": [
    {
     "data": {
      "application/vnd.jupyter.widget-view+json": {
       "model_id": "5cfae1dc9135485eaf337df1d68348c4",
       "version_major": 2,
       "version_minor": 0
      },
      "text/plain": [
       "  0%|          | 0/1000 [00:00<?, ?it/s]"
      ]
     },
     "metadata": {},
     "output_type": "display_data"
    },
    {
     "data": {
      "application/vnd.jupyter.widget-view+json": {
       "model_id": "504141a98f054b0397af615c1423f85c",
       "version_major": 2,
       "version_minor": 0
      },
      "text/plain": [
       "  0%|          | 0/1000 [00:00<?, ?it/s]"
      ]
     },
     "metadata": {},
     "output_type": "display_data"
    },
    {
     "data": {
      "application/vnd.jupyter.widget-view+json": {
       "model_id": "820e0b62ca854e44b0a17b48367598ed",
       "version_major": 2,
       "version_minor": 0
      },
      "text/plain": [
       "  0%|          | 0/1000 [00:00<?, ?it/s]"
      ]
     },
     "metadata": {},
     "output_type": "display_data"
    },
    {
     "data": {
      "application/vnd.jupyter.widget-view+json": {
       "model_id": "1d0f10d744d04896aacb6b083453585d",
       "version_major": 2,
       "version_minor": 0
      },
      "text/plain": [
       "  0%|          | 0/1000 [00:00<?, ?it/s]"
      ]
     },
     "metadata": {},
     "output_type": "display_data"
    },
    {
     "data": {
      "application/vnd.jupyter.widget-view+json": {
       "model_id": "0cf825c78dcb48118d6923b1b648ed48",
       "version_major": 2,
       "version_minor": 0
      },
      "text/plain": [
       "  0%|          | 0/1000 [00:00<?, ?it/s]"
      ]
     },
     "metadata": {},
     "output_type": "display_data"
    },
    {
     "data": {
      "application/vnd.jupyter.widget-view+json": {
       "model_id": "9574bc53a39a4a6db7d044f3b662dd6c",
       "version_major": 2,
       "version_minor": 0
      },
      "text/plain": [
       "  0%|          | 0/1000 [00:00<?, ?it/s]"
      ]
     },
     "metadata": {},
     "output_type": "display_data"
    },
    {
     "data": {
      "application/vnd.jupyter.widget-view+json": {
       "model_id": "cdbe548ce5d8482bb076d7a7448f8fd7",
       "version_major": 2,
       "version_minor": 0
      },
      "text/plain": [
       "  0%|          | 0/1000 [00:00<?, ?it/s]"
      ]
     },
     "metadata": {},
     "output_type": "display_data"
    },
    {
     "data": {
      "application/vnd.jupyter.widget-view+json": {
       "model_id": "582c452a4dec458cac1979f1f46e8c1e",
       "version_major": 2,
       "version_minor": 0
      },
      "text/plain": [
       "  0%|          | 0/1000 [00:00<?, ?it/s]"
      ]
     },
     "metadata": {},
     "output_type": "display_data"
    },
    {
     "data": {
      "application/vnd.jupyter.widget-view+json": {
       "model_id": "421c85f19e6a4dd5808b74769ad03499",
       "version_major": 2,
       "version_minor": 0
      },
      "text/plain": [
       "  0%|          | 0/1000 [00:00<?, ?it/s]"
      ]
     },
     "metadata": {},
     "output_type": "display_data"
    },
    {
     "data": {
      "application/vnd.jupyter.widget-view+json": {
       "model_id": "b62848e1d2754325bbac73b260c00e18",
       "version_major": 2,
       "version_minor": 0
      },
      "text/plain": [
       "  0%|          | 0/1000 [00:00<?, ?it/s]"
      ]
     },
     "metadata": {},
     "output_type": "display_data"
    },
    {
     "data": {
      "application/vnd.jupyter.widget-view+json": {
       "model_id": "96e4ec9b1a0b455dac516d971d61f086",
       "version_major": 2,
       "version_minor": 0
      },
      "text/plain": [
       "  0%|          | 0/1000 [00:00<?, ?it/s]"
      ]
     },
     "metadata": {},
     "output_type": "display_data"
    },
    {
     "data": {
      "application/vnd.jupyter.widget-view+json": {
       "model_id": "63e3c475060140ec93450330958d1139",
       "version_major": 2,
       "version_minor": 0
      },
      "text/plain": [
       "  0%|          | 0/1000 [00:00<?, ?it/s]"
      ]
     },
     "metadata": {},
     "output_type": "display_data"
    },
    {
     "data": {
      "application/vnd.jupyter.widget-view+json": {
       "model_id": "b90ca55bebc948138b8e6c7339fc4c9c",
       "version_major": 2,
       "version_minor": 0
      },
      "text/plain": [
       "  0%|          | 0/1000 [00:00<?, ?it/s]"
      ]
     },
     "metadata": {},
     "output_type": "display_data"
    },
    {
     "data": {
      "application/vnd.jupyter.widget-view+json": {
       "model_id": "12d4f1f5374e49b49348b44e40137258",
       "version_major": 2,
       "version_minor": 0
      },
      "text/plain": [
       "  0%|          | 0/1000 [00:00<?, ?it/s]"
      ]
     },
     "metadata": {},
     "output_type": "display_data"
    },
    {
     "data": {
      "application/vnd.jupyter.widget-view+json": {
       "model_id": "0cc37193f5704f2ba9f66ca8f4c6587d",
       "version_major": 2,
       "version_minor": 0
      },
      "text/plain": [
       "  0%|          | 0/1000 [00:00<?, ?it/s]"
      ]
     },
     "metadata": {},
     "output_type": "display_data"
    },
    {
     "data": {
      "application/vnd.jupyter.widget-view+json": {
       "model_id": "aa6860b02008403dac40b567d964593a",
       "version_major": 2,
       "version_minor": 0
      },
      "text/plain": [
       "  0%|          | 0/1000 [00:00<?, ?it/s]"
      ]
     },
     "metadata": {},
     "output_type": "display_data"
    },
    {
     "data": {
      "application/vnd.jupyter.widget-view+json": {
       "model_id": "6bb39208a71543568e9e582f6f3f5fa5",
       "version_major": 2,
       "version_minor": 0
      },
      "text/plain": [
       "  0%|          | 0/1000 [00:00<?, ?it/s]"
      ]
     },
     "metadata": {},
     "output_type": "display_data"
    },
    {
     "data": {
      "application/vnd.jupyter.widget-view+json": {
       "model_id": "250b7cd4325a4c7ab73b0f5b370b3eb6",
       "version_major": 2,
       "version_minor": 0
      },
      "text/plain": [
       "  0%|          | 0/1000 [00:00<?, ?it/s]"
      ]
     },
     "metadata": {},
     "output_type": "display_data"
    },
    {
     "data": {
      "application/vnd.jupyter.widget-view+json": {
       "model_id": "cc81ad3b69344c6aadd004973ee1eb1f",
       "version_major": 2,
       "version_minor": 0
      },
      "text/plain": [
       "  0%|          | 0/1000 [00:00<?, ?it/s]"
      ]
     },
     "metadata": {},
     "output_type": "display_data"
    },
    {
     "data": {
      "application/vnd.jupyter.widget-view+json": {
       "model_id": "6cf0c83d3e804e59ad8b8678818ff629",
       "version_major": 2,
       "version_minor": 0
      },
      "text/plain": [
       "  0%|          | 0/1000 [00:00<?, ?it/s]"
      ]
     },
     "metadata": {},
     "output_type": "display_data"
    },
    {
     "data": {
      "application/vnd.jupyter.widget-view+json": {
       "model_id": "16a081c5d08246ca99a29999c37e8844",
       "version_major": 2,
       "version_minor": 0
      },
      "text/plain": [
       "  0%|          | 0/1000 [00:00<?, ?it/s]"
      ]
     },
     "metadata": {},
     "output_type": "display_data"
    },
    {
     "data": {
      "application/vnd.jupyter.widget-view+json": {
       "model_id": "ede4a43ec316438f830ec112176877f5",
       "version_major": 2,
       "version_minor": 0
      },
      "text/plain": [
       "  0%|          | 0/1000 [00:00<?, ?it/s]"
      ]
     },
     "metadata": {},
     "output_type": "display_data"
    },
    {
     "data": {
      "application/vnd.jupyter.widget-view+json": {
       "model_id": "242f0cd826dc4dbc8270aabb6bf74614",
       "version_major": 2,
       "version_minor": 0
      },
      "text/plain": [
       "  0%|          | 0/1000 [00:00<?, ?it/s]"
      ]
     },
     "metadata": {},
     "output_type": "display_data"
    },
    {
     "data": {
      "application/vnd.jupyter.widget-view+json": {
       "model_id": "23963f9a21f04f77b61a22f296e6ffac",
       "version_major": 2,
       "version_minor": 0
      },
      "text/plain": [
       "  0%|          | 0/1000 [00:00<?, ?it/s]"
      ]
     },
     "metadata": {},
     "output_type": "display_data"
    },
    {
     "data": {
      "application/vnd.jupyter.widget-view+json": {
       "model_id": "282036b366fe4313b51ad532750afc49",
       "version_major": 2,
       "version_minor": 0
      },
      "text/plain": [
       "  0%|          | 0/1000 [00:00<?, ?it/s]"
      ]
     },
     "metadata": {},
     "output_type": "display_data"
    },
    {
     "data": {
      "application/vnd.jupyter.widget-view+json": {
       "model_id": "29c2b265fb514104a12a0bfd420b090d",
       "version_major": 2,
       "version_minor": 0
      },
      "text/plain": [
       "  0%|          | 0/1000 [00:00<?, ?it/s]"
      ]
     },
     "metadata": {},
     "output_type": "display_data"
    },
    {
     "data": {
      "application/vnd.jupyter.widget-view+json": {
       "model_id": "ecdf13352d4e458b9c423a94fc862ac4",
       "version_major": 2,
       "version_minor": 0
      },
      "text/plain": [
       "  0%|          | 0/1000 [00:00<?, ?it/s]"
      ]
     },
     "metadata": {},
     "output_type": "display_data"
    },
    {
     "data": {
      "application/vnd.jupyter.widget-view+json": {
       "model_id": "6f4be5c722944e889fc0d720fa5e2dcb",
       "version_major": 2,
       "version_minor": 0
      },
      "text/plain": [
       "  0%|          | 0/1000 [00:00<?, ?it/s]"
      ]
     },
     "metadata": {},
     "output_type": "display_data"
    },
    {
     "data": {
      "application/vnd.jupyter.widget-view+json": {
       "model_id": "90b82dec052341949db44258accdf74c",
       "version_major": 2,
       "version_minor": 0
      },
      "text/plain": [
       "  0%|          | 0/1000 [00:00<?, ?it/s]"
      ]
     },
     "metadata": {},
     "output_type": "display_data"
    },
    {
     "data": {
      "application/vnd.jupyter.widget-view+json": {
       "model_id": "e8064b19611a4c1491815707933b82ce",
       "version_major": 2,
       "version_minor": 0
      },
      "text/plain": [
       "  0%|          | 0/1000 [00:00<?, ?it/s]"
      ]
     },
     "metadata": {},
     "output_type": "display_data"
    }
   ],
   "source": [
    "np.random.seed(42)\n",
    "random.seed(42)\n",
    "tf.random.set_seed(42)\n",
    "\n",
    "model_list = []\n",
    "kraus_target_list = []\n",
    "\n",
    "for i in range(10):    \n",
    "    #make random spam model\n",
    "    spam_target = SPAM(d=d)\n",
    "\n",
    "    #add ideal part\n",
    "    init_target = c1*init_ideal(d) + (1-c1)*spam_target.init\n",
    "    povm_target = c2*povm_ideal(d) + (1-c2)*spam_target.povm\n",
    "\n",
    "    spam_target = SPAM(d=d,\n",
    "                       init = init_target,\n",
    "                       povm = povm_target)\n",
    "    \n",
    "    # random kraus model with unitary part\n",
    "    kraus_target = KrausMap(\n",
    "                            U = generate_unitary(d=d), \n",
    "                            c = 0.5, \n",
    "                            d = d, \n",
    "                            rank = rank-1,\n",
    "                            spam = spam_target\n",
    "                           )\n",
    "    kraus_target_list.append(kraus_target)\n",
    "    \n",
    "    inputs_spam, targets_spam = generate_spam_data(spam_target, noise = 0.02)\n",
    "    inputs_map, targets_map = generate_map_data(kraus_target, noise = 0.02)\n",
    "\n",
    "    #train spam model\n",
    "    spam_model = SPAM(d=d,\n",
    "                      use_corr_mat=True,\n",
    "                      optimizer = tf.optimizers.Adam(learning_rate=0.01))\n",
    "    \n",
    "    spam_model.pretrain(targets = [init_ideal(d), povm_ideal(d)],\n",
    "                        num_iter = 1000,\n",
    "                        verbose = False\n",
    "                        )\n",
    "    \n",
    "    spam_model.train(inputs = inputs_spam,\n",
    "                     targets = targets_spam,\n",
    "                     num_iter = 1000,\n",
    "                     verbose = False,\n",
    "                    )\n",
    "\n",
    "    #train kraus model\n",
    "    kraus_model = KrausMap(\n",
    "                           d = d, \n",
    "                           rank = rank,\n",
    "                           spam = spam_model,\n",
    "                           )\n",
    "\n",
    "    model = ModelQuantumMap(\n",
    "                            q_map = kraus_model,\n",
    "                            loss = probs_loss,\n",
    "                            optimizer = tf.optimizers.Adam(learning_rate=0.01),\n",
    "                            )\n",
    "\n",
    "    model.train(inputs = inputs_map,\n",
    "                targets = targets_map,\n",
    "                num_iter = 1000,\n",
    "                N = 1000,\n",
    "                verbose = False,\n",
    "                )\n",
    "    \n",
    "    model_list.append(model)"
   ]
  },
  {
   "cell_type": "code",
   "execution_count": 62,
   "metadata": {},
   "outputs": [],
   "source": [
    "channel_fidelity_list = np.array([channel_fidelity(model.q_map, kraus_target).numpy() for model, kraus_target in zip(model_list, kraus_target_list)])\n",
    "print(np.mean(channel_fidelity_list), np.std(channel_fidelity_list)/np.sqrt(len(channel_fidelity_list)))"
   ]
  },
  {
   "cell_type": "markdown",
   "metadata": {},
   "source": [
    "## Retrieveing Map with Extreme POVM Errors, No Noise"
   ]
  },
  {
   "cell_type": "code",
   "execution_count": 3,
   "metadata": {},
   "outputs": [],
   "source": [
    "n = 3\n",
    "d = 2**n\n",
    "rank = d\n",
    "c1 = 0.9\n",
    "c2 = 0.6"
   ]
  },
  {
   "cell_type": "markdown",
   "metadata": {},
   "source": [
    "### Full POVM"
   ]
  },
  {
   "cell_type": "code",
   "execution_count": 4,
   "metadata": {},
   "outputs": [
    {
     "data": {
      "application/vnd.jupyter.widget-view+json": {
       "model_id": "4a54475d4f0649a8b403b19330877278",
       "version_major": 2,
       "version_minor": 0
      },
      "text/plain": [
       "  0%|          | 0/1000 [00:00<?, ?it/s]"
      ]
     },
     "metadata": {},
     "output_type": "display_data"
    },
    {
     "data": {
      "application/vnd.jupyter.widget-view+json": {
       "model_id": "1a26add7300044a9aac1dc5c894d2cbd",
       "version_major": 2,
       "version_minor": 0
      },
      "text/plain": [
       "  0%|          | 0/1000 [00:00<?, ?it/s]"
      ]
     },
     "metadata": {},
     "output_type": "display_data"
    },
    {
     "data": {
      "application/vnd.jupyter.widget-view+json": {
       "model_id": "9557ee6020874bd38d42277a030e13d9",
       "version_major": 2,
       "version_minor": 0
      },
      "text/plain": [
       "  0%|          | 0/1000 [00:00<?, ?it/s]"
      ]
     },
     "metadata": {},
     "output_type": "display_data"
    },
    {
     "data": {
      "application/vnd.jupyter.widget-view+json": {
       "model_id": "5e1cc273f3be404e9c5e88a8d40e3c40",
       "version_major": 2,
       "version_minor": 0
      },
      "text/plain": [
       "  0%|          | 0/1000 [00:00<?, ?it/s]"
      ]
     },
     "metadata": {},
     "output_type": "display_data"
    },
    {
     "data": {
      "application/vnd.jupyter.widget-view+json": {
       "model_id": "978aa130215840ae9c7f6c2f4cca5121",
       "version_major": 2,
       "version_minor": 0
      },
      "text/plain": [
       "  0%|          | 0/1000 [00:00<?, ?it/s]"
      ]
     },
     "metadata": {},
     "output_type": "display_data"
    },
    {
     "data": {
      "application/vnd.jupyter.widget-view+json": {
       "model_id": "2144119649784e789c8a29cebf0a485c",
       "version_major": 2,
       "version_minor": 0
      },
      "text/plain": [
       "  0%|          | 0/1000 [00:00<?, ?it/s]"
      ]
     },
     "metadata": {},
     "output_type": "display_data"
    },
    {
     "data": {
      "application/vnd.jupyter.widget-view+json": {
       "model_id": "3a139c5b677d4b709a8a903421380e49",
       "version_major": 2,
       "version_minor": 0
      },
      "text/plain": [
       "  0%|          | 0/1000 [00:00<?, ?it/s]"
      ]
     },
     "metadata": {},
     "output_type": "display_data"
    },
    {
     "data": {
      "application/vnd.jupyter.widget-view+json": {
       "model_id": "620d7c2b416a44778e10b678563fa99b",
       "version_major": 2,
       "version_minor": 0
      },
      "text/plain": [
       "  0%|          | 0/1000 [00:00<?, ?it/s]"
      ]
     },
     "metadata": {},
     "output_type": "display_data"
    },
    {
     "data": {
      "application/vnd.jupyter.widget-view+json": {
       "model_id": "c44ce09b135341f898e49e50721a0d3f",
       "version_major": 2,
       "version_minor": 0
      },
      "text/plain": [
       "  0%|          | 0/1000 [00:00<?, ?it/s]"
      ]
     },
     "metadata": {},
     "output_type": "display_data"
    }
   ],
   "source": [
    "np.random.seed(42)\n",
    "random.seed(42)\n",
    "tf.random.set_seed(42)\n",
    "\n",
    "model_list = []\n",
    "kraus_target_list = []\n",
    "\n",
    "for i in range(3):    \n",
    "    #make random spam model\n",
    "    spam_target = SPAM(d=d)\n",
    "\n",
    "    #add ideal part\n",
    "    init_target = c1*init_ideal(d) + (1-c1)*spam_target.init\n",
    "    povm_target = c2*povm_ideal(d) + (1-c2)*spam_target.povm\n",
    "\n",
    "    spam_target = SPAM(d=d,\n",
    "                       init = init_target,\n",
    "                       povm = povm_target)\n",
    "    \n",
    "    # random kraus model with unitary part\n",
    "    kraus_target = KrausMap(\n",
    "                            U = generate_unitary(d=d), \n",
    "                            c = 0.5, \n",
    "                            d = d, \n",
    "                            rank = rank-1,\n",
    "                            spam = spam_target\n",
    "                           )\n",
    "    kraus_target_list.append(kraus_target)\n",
    "    \n",
    "    inputs_spam, targets_spam = generate_spam_data(spam_target)\n",
    "    inputs_map, targets_map = generate_map_data(kraus_target)\n",
    "\n",
    "    #train spam model\n",
    "    spam_model = SPAM(d=d,\n",
    "    #                  use_corr_mat=True,\n",
    "                      optimizer = tf.optimizers.Adam(learning_rate=0.01))\n",
    "    \n",
    "    spam_model.pretrain(targets = [init_ideal(d), povm_ideal(d)],\n",
    "                        num_iter = 1000,\n",
    "                        verbose = False\n",
    "                        )\n",
    "    \n",
    "    spam_model.train(inputs = inputs_spam,\n",
    "                     targets = targets_spam,\n",
    "                     num_iter = 1000,\n",
    "                     verbose = False,\n",
    "                    )\n",
    "\n",
    "    #train kraus model\n",
    "    kraus_model = KrausMap(\n",
    "                           d = d, \n",
    "                           rank = rank,\n",
    "                           spam = spam_model,\n",
    "                           )\n",
    "\n",
    "    model = ModelQuantumMap(\n",
    "                            q_map = kraus_model,\n",
    "                            loss = probs_loss,\n",
    "                            optimizer = tf.optimizers.Adam(learning_rate=0.01),\n",
    "                            )\n",
    "\n",
    "    model.train(inputs = inputs_map,\n",
    "                targets = targets_map,\n",
    "                num_iter = 1000,\n",
    "                N = 1000,\n",
    "                verbose = False,\n",
    "                )\n",
    "    \n",
    "    model_list.append(model)"
   ]
  },
  {
   "cell_type": "code",
   "execution_count": 5,
   "metadata": {},
   "outputs": [
    {
     "name": "stdout",
     "output_type": "stream",
     "text": [
      "0.9919473992330988 0.003102192890534414\n"
     ]
    }
   ],
   "source": [
    "channel_fidelity_list = np.array([channel_fidelity(model.q_map, kraus_target).numpy() for model, kraus_target in zip(model_list, kraus_target_list)])\n",
    "print(np.mean(channel_fidelity_list), np.std(channel_fidelity_list)/np.sqrt(len(channel_fidelity_list)))"
   ]
  },
  {
   "cell_type": "markdown",
   "metadata": {},
   "source": [
    "### Corruption Matrix"
   ]
  },
  {
   "cell_type": "code",
   "execution_count": 8,
   "metadata": {},
   "outputs": [
    {
     "data": {
      "application/vnd.jupyter.widget-view+json": {
       "model_id": "da9c90a7328e46a98caa489ab382ce44",
       "version_major": 2,
       "version_minor": 0
      },
      "text/plain": [
       "  0%|          | 0/1000 [00:00<?, ?it/s]"
      ]
     },
     "metadata": {},
     "output_type": "display_data"
    },
    {
     "data": {
      "application/vnd.jupyter.widget-view+json": {
       "model_id": "be57d8816b7c4a7fb4036e4ec8e8842f",
       "version_major": 2,
       "version_minor": 0
      },
      "text/plain": [
       "  0%|          | 0/1000 [00:00<?, ?it/s]"
      ]
     },
     "metadata": {},
     "output_type": "display_data"
    },
    {
     "data": {
      "application/vnd.jupyter.widget-view+json": {
       "model_id": "7985681ea8ec4d5bb5bc95d5de0ad652",
       "version_major": 2,
       "version_minor": 0
      },
      "text/plain": [
       "  0%|          | 0/1000 [00:00<?, ?it/s]"
      ]
     },
     "metadata": {},
     "output_type": "display_data"
    },
    {
     "data": {
      "application/vnd.jupyter.widget-view+json": {
       "model_id": "a4841129aefa4057bdb3fb5ef431cd86",
       "version_major": 2,
       "version_minor": 0
      },
      "text/plain": [
       "  0%|          | 0/1000 [00:00<?, ?it/s]"
      ]
     },
     "metadata": {},
     "output_type": "display_data"
    },
    {
     "data": {
      "application/vnd.jupyter.widget-view+json": {
       "model_id": "324bb6cc1f8e41399dc082112589f3b4",
       "version_major": 2,
       "version_minor": 0
      },
      "text/plain": [
       "  0%|          | 0/1000 [00:00<?, ?it/s]"
      ]
     },
     "metadata": {},
     "output_type": "display_data"
    },
    {
     "data": {
      "application/vnd.jupyter.widget-view+json": {
       "model_id": "8bc341f9ebdb419fba151e7643b40206",
       "version_major": 2,
       "version_minor": 0
      },
      "text/plain": [
       "  0%|          | 0/1000 [00:00<?, ?it/s]"
      ]
     },
     "metadata": {},
     "output_type": "display_data"
    },
    {
     "data": {
      "application/vnd.jupyter.widget-view+json": {
       "model_id": "7d43e3ee11ec44f5b1ec1e0b4c689ec9",
       "version_major": 2,
       "version_minor": 0
      },
      "text/plain": [
       "  0%|          | 0/1000 [00:00<?, ?it/s]"
      ]
     },
     "metadata": {},
     "output_type": "display_data"
    },
    {
     "data": {
      "application/vnd.jupyter.widget-view+json": {
       "model_id": "0c4d6f87825048539f1dd999a3845241",
       "version_major": 2,
       "version_minor": 0
      },
      "text/plain": [
       "  0%|          | 0/1000 [00:00<?, ?it/s]"
      ]
     },
     "metadata": {},
     "output_type": "display_data"
    },
    {
     "data": {
      "application/vnd.jupyter.widget-view+json": {
       "model_id": "ad6da5f0cb8b42a4923ec40dcb33bf19",
       "version_major": 2,
       "version_minor": 0
      },
      "text/plain": [
       "  0%|          | 0/1000 [00:00<?, ?it/s]"
      ]
     },
     "metadata": {},
     "output_type": "display_data"
    }
   ],
   "source": [
    "np.random.seed(42)\n",
    "random.seed(42)\n",
    "tf.random.set_seed(42)\n",
    "\n",
    "model_list = []\n",
    "kraus_target_list = []\n",
    "\n",
    "for i in range(3):    \n",
    "    #make random spam model\n",
    "    spam_target = SPAM(d=d)\n",
    "\n",
    "    #add ideal part\n",
    "    init_target = c1*init_ideal(d) + (1-c1)*spam_target.init\n",
    "    povm_target = c2*povm_ideal(d) + (1-c2)*spam_target.povm\n",
    "\n",
    "    spam_target = SPAM(d=d,\n",
    "                       init = init_target,\n",
    "                       povm = povm_target)\n",
    "    \n",
    "    # random kraus model with unitary part\n",
    "    kraus_target = KrausMap(\n",
    "                            U = generate_unitary(d=d), \n",
    "                            c = 0.5, \n",
    "                            d = d, \n",
    "                            rank = rank-1,\n",
    "                            spam = spam_target\n",
    "                           )\n",
    "    kraus_target_list.append(kraus_target)\n",
    "    \n",
    "    inputs_spam, targets_spam = generate_spam_data(spam_target)\n",
    "    inputs_map, targets_map = generate_map_data(kraus_target)\n",
    "\n",
    "    #train spam model\n",
    "    spam_model = SPAM(d=d,\n",
    "                      use_corr_mat=True,\n",
    "                      optimizer = tf.optimizers.Adam(learning_rate=0.01))\n",
    "    \n",
    "    spam_model.pretrain(targets = [init_ideal(d), povm_ideal(d)],\n",
    "                        num_iter = 1000,\n",
    "                        verbose = False\n",
    "                        )\n",
    "    \n",
    "    spam_model.train(inputs = inputs_spam,\n",
    "                     targets = targets_spam,\n",
    "                     num_iter = 1000,\n",
    "                     verbose = False,\n",
    "                    )\n",
    "\n",
    "    #train kraus model\n",
    "    kraus_model = KrausMap(\n",
    "                           d = d, \n",
    "                           rank = rank,\n",
    "                           spam = spam_model,\n",
    "                           )\n",
    "\n",
    "    model = ModelQuantumMap(\n",
    "                            q_map = kraus_model,\n",
    "                            loss = probs_loss,\n",
    "                            optimizer = tf.optimizers.Adam(learning_rate=0.01),\n",
    "                            )\n",
    "\n",
    "    model.train(inputs = inputs_map,\n",
    "                targets = targets_map,\n",
    "                num_iter = 1000,\n",
    "                N = 1000,\n",
    "                verbose = False,\n",
    "                )\n",
    "    \n",
    "    model_list.append(model)"
   ]
  },
  {
   "cell_type": "code",
   "execution_count": 9,
   "metadata": {},
   "outputs": [
    {
     "name": "stdout",
     "output_type": "stream",
     "text": [
      "0.9422928366036901 0.012215054611356848\n"
     ]
    }
   ],
   "source": [
    "channel_fidelity_list = np.array([channel_fidelity(model.q_map, kraus_target).numpy() for model, kraus_target in zip(model_list, kraus_target_list)])\n",
    "print(np.mean(channel_fidelity_list), np.std(channel_fidelity_list)/np.sqrt(len(channel_fidelity_list)))"
   ]
  },
  {
   "cell_type": "code",
   "execution_count": 44,
   "metadata": {},
   "outputs": [],
   "source": [
    "Y = np.array([[0, -1j], [1j, 0]])\n",
    "X = np.array([[0, 1], [1, 0]])\n",
    "I = np.array([[1, 0], [0, 1]])\n",
    "U1 = kron(X,X).numpy()"
   ]
  },
  {
   "cell_type": "code",
   "execution_count": 45,
   "metadata": {},
   "outputs": [
    {
     "name": "stdout",
     "output_type": "stream",
     "text": [
      "[[0.+0.j 0.+1.j]\n",
      " [0.-1.j 0.+0.j]]\n"
     ]
    }
   ],
   "source": [
    "print(X@Y@X)"
   ]
  },
  {
   "cell_type": "code",
   "execution_count": 46,
   "metadata": {},
   "outputs": [
    {
     "name": "stdout",
     "output_type": "stream",
     "text": [
      "[[1.+0.j 0.+0.j 0.+0.j 0.+0.j]\n",
      " [0.+0.j 1.+0.j 0.+0.j 0.+0.j]\n",
      " [0.+0.j 0.+0.j 1.+0.j 0.+0.j]\n",
      " [0.+0.j 0.+0.j 0.+0.j 1.+0.j]] [[1.+0.j 0.+0.j 0.+0.j 0.+0.j]\n",
      " [0.+0.j 1.+0.j 0.+0.j 0.+0.j]\n",
      " [0.+0.j 0.+0.j 1.+0.j 0.+0.j]\n",
      " [0.+0.j 0.+0.j 0.+0.j 1.+0.j]]\n",
      "[[6.123e-17+0.j 0.000e+00-1.j 0.000e+00+0.j 0.000e+00+0.j]\n",
      " [0.000e+00-1.j 6.123e-17+0.j 0.000e+00+0.j 0.000e+00+0.j]\n",
      " [0.000e+00+0.j 0.000e+00+0.j 6.123e-17+0.j 0.000e+00-1.j]\n",
      " [0.000e+00+0.j 0.000e+00+0.j 0.000e+00-1.j 6.123e-17+0.j]] [[6.123e-17+0.j 0.000e+00+1.j 0.000e+00+0.j 0.000e+00+0.j]\n",
      " [0.000e+00+1.j 6.123e-17+0.j 0.000e+00+0.j 0.000e+00+0.j]\n",
      " [0.000e+00+0.j 0.000e+00+0.j 6.123e-17+0.j 0.000e+00+1.j]\n",
      " [0.000e+00+0.j 0.000e+00+0.j 0.000e+00+1.j 6.123e-17+0.j]]\n",
      "[[ 0.707+0.j -0.707+0.j  0.   +0.j  0.   +0.j]\n",
      " [ 0.707+0.j  0.707+0.j  0.   +0.j  0.   +0.j]\n",
      " [ 0.   +0.j  0.   +0.j  0.707+0.j -0.707+0.j]\n",
      " [ 0.   +0.j  0.   +0.j  0.707+0.j  0.707+0.j]] [[ 0.707+0.j -0.707+0.j  0.   +0.j  0.   +0.j]\n",
      " [ 0.707+0.j  0.707+0.j  0.   +0.j  0.   +0.j]\n",
      " [ 0.   +0.j  0.   +0.j  0.707+0.j -0.707+0.j]\n",
      " [ 0.   +0.j  0.   +0.j  0.707+0.j  0.707+0.j]]\n",
      "[[ 0.707+0.j  0.707+0.j  0.   +0.j  0.   +0.j]\n",
      " [-0.707+0.j  0.707+0.j  0.   +0.j  0.   +0.j]\n",
      " [ 0.   +0.j  0.   +0.j  0.707+0.j  0.707+0.j]\n",
      " [ 0.   +0.j  0.   +0.j -0.707+0.j  0.707+0.j]] [[ 0.707+0.j  0.707+0.j  0.   +0.j  0.   +0.j]\n",
      " [-0.707+0.j  0.707+0.j  0.   +0.j  0.   +0.j]\n",
      " [ 0.   +0.j  0.   +0.j  0.707+0.j  0.707+0.j]\n",
      " [ 0.   +0.j  0.   +0.j -0.707+0.j  0.707+0.j]]\n",
      "[[0.707+0.j    0.   +0.707j 0.   +0.j    0.   +0.j   ]\n",
      " [0.   +0.707j 0.707+0.j    0.   +0.j    0.   +0.j   ]\n",
      " [0.   +0.j    0.   +0.j    0.707+0.j    0.   +0.707j]\n",
      " [0.   +0.j    0.   +0.j    0.   +0.707j 0.707+0.j   ]] [[0.707+0.j    0.   -0.707j 0.   +0.j    0.   +0.j   ]\n",
      " [0.   -0.707j 0.707+0.j    0.   +0.j    0.   +0.j   ]\n",
      " [0.   +0.j    0.   +0.j    0.707+0.j    0.   -0.707j]\n",
      " [0.   +0.j    0.   +0.j    0.   -0.707j 0.707+0.j   ]]\n",
      "[[0.707+0.j    0.   -0.707j 0.   +0.j    0.   +0.j   ]\n",
      " [0.   -0.707j 0.707+0.j    0.   +0.j    0.   +0.j   ]\n",
      " [0.   +0.j    0.   +0.j    0.707+0.j    0.   -0.707j]\n",
      " [0.   +0.j    0.   +0.j    0.   -0.707j 0.707+0.j   ]] [[0.707+0.j    0.   +0.707j 0.   +0.j    0.   +0.j   ]\n",
      " [0.   +0.707j 0.707+0.j    0.   +0.j    0.   +0.j   ]\n",
      " [0.   +0.j    0.   +0.j    0.707+0.j    0.   +0.707j]\n",
      " [0.   +0.j    0.   +0.j    0.   +0.707j 0.707+0.j   ]]\n",
      "[[6.123e-17+0.j 0.000e+00+0.j 0.000e+00-1.j 0.000e+00+0.j]\n",
      " [0.000e+00+0.j 6.123e-17+0.j 0.000e+00+0.j 0.000e+00-1.j]\n",
      " [0.000e+00-1.j 0.000e+00+0.j 6.123e-17+0.j 0.000e+00+0.j]\n",
      " [0.000e+00+0.j 0.000e+00-1.j 0.000e+00+0.j 6.123e-17+0.j]] [[6.123e-17+0.j 0.000e+00+0.j 0.000e+00-1.j 0.000e+00+0.j]\n",
      " [0.000e+00+0.j 6.123e-17+0.j 0.000e+00+0.j 0.000e+00-1.j]\n",
      " [0.000e+00-1.j 0.000e+00+0.j 6.123e-17+0.j 0.000e+00+0.j]\n",
      " [0.000e+00+0.j 0.000e+00-1.j 0.000e+00+0.j 6.123e-17+0.j]]\n",
      "[[ 3.749e-33+0.000e+00j  0.000e+00-6.123e-17j  0.000e+00-6.123e-17j\n",
      "  -1.000e+00+0.000e+00j]\n",
      " [ 0.000e+00-6.123e-17j  3.749e-33+0.000e+00j -1.000e+00+0.000e+00j\n",
      "   0.000e+00-6.123e-17j]\n",
      " [ 0.000e+00-6.123e-17j -1.000e+00+0.000e+00j  3.749e-33+0.000e+00j\n",
      "   0.000e+00-6.123e-17j]\n",
      " [-1.000e+00+0.000e+00j  0.000e+00-6.123e-17j  0.000e+00-6.123e-17j\n",
      "   3.749e-33+0.000e+00j]] [[3.749e-33+0.000e+00j 0.000e+00+6.123e-17j 0.000e+00-6.123e-17j\n",
      "  1.000e+00+0.000e+00j]\n",
      " [0.000e+00+6.123e-17j 3.749e-33+0.000e+00j 1.000e+00+0.000e+00j\n",
      "  0.000e+00-6.123e-17j]\n",
      " [0.000e+00-6.123e-17j 1.000e+00+0.000e+00j 3.749e-33+0.000e+00j\n",
      "  0.000e+00+6.123e-17j]\n",
      " [1.000e+00+0.000e+00j 0.000e+00-6.123e-17j 0.000e+00+6.123e-17j\n",
      "  3.749e-33+0.000e+00j]]\n",
      "[[ 4.33e-17+0.j    -4.33e-17+0.j     0.00e+00-0.707j  0.00e+00+0.707j]\n",
      " [ 4.33e-17+0.j     4.33e-17+0.j     0.00e+00-0.707j  0.00e+00-0.707j]\n",
      " [ 0.00e+00-0.707j  0.00e+00+0.707j  4.33e-17+0.j    -4.33e-17+0.j   ]\n",
      " [ 0.00e+00-0.707j  0.00e+00-0.707j  4.33e-17+0.j     4.33e-17+0.j   ]] [[ 4.33e-17+0.j    -4.33e-17+0.j     0.00e+00-0.707j  0.00e+00+0.707j]\n",
      " [ 4.33e-17+0.j     4.33e-17+0.j     0.00e+00-0.707j  0.00e+00-0.707j]\n",
      " [ 0.00e+00-0.707j  0.00e+00+0.707j  4.33e-17+0.j    -4.33e-17+0.j   ]\n",
      " [ 0.00e+00-0.707j  0.00e+00-0.707j  4.33e-17+0.j     4.33e-17+0.j   ]]\n",
      "[[ 4.33e-17+0.j     4.33e-17+0.j     0.00e+00-0.707j  0.00e+00-0.707j]\n",
      " [-4.33e-17+0.j     4.33e-17+0.j     0.00e+00+0.707j  0.00e+00-0.707j]\n",
      " [ 0.00e+00-0.707j  0.00e+00-0.707j  4.33e-17+0.j     4.33e-17+0.j   ]\n",
      " [ 0.00e+00+0.707j  0.00e+00-0.707j -4.33e-17+0.j     4.33e-17+0.j   ]] [[ 4.33e-17+0.j     4.33e-17+0.j     0.00e+00-0.707j  0.00e+00-0.707j]\n",
      " [-4.33e-17+0.j     4.33e-17+0.j     0.00e+00+0.707j  0.00e+00-0.707j]\n",
      " [ 0.00e+00-0.707j  0.00e+00-0.707j  4.33e-17+0.j     4.33e-17+0.j   ]\n",
      " [ 0.00e+00+0.707j  0.00e+00-0.707j -4.33e-17+0.j     4.33e-17+0.j   ]]\n",
      "[[4.330e-17+0.000e+00j 0.000e+00+4.330e-17j 0.000e+00-7.071e-01j\n",
      "  7.071e-01+0.000e+00j]\n",
      " [0.000e+00+4.330e-17j 4.330e-17+0.000e+00j 7.071e-01+0.000e+00j\n",
      "  0.000e+00-7.071e-01j]\n",
      " [0.000e+00-7.071e-01j 7.071e-01+0.000e+00j 4.330e-17+0.000e+00j\n",
      "  0.000e+00+4.330e-17j]\n",
      " [7.071e-01+0.000e+00j 0.000e+00-7.071e-01j 0.000e+00+4.330e-17j\n",
      "  4.330e-17+0.000e+00j]] [[ 4.330e-17+0.000e+00j  0.000e+00-4.330e-17j  0.000e+00-7.071e-01j\n",
      "  -7.071e-01+0.000e+00j]\n",
      " [ 0.000e+00-4.330e-17j  4.330e-17+0.000e+00j -7.071e-01+0.000e+00j\n",
      "   0.000e+00-7.071e-01j]\n",
      " [ 0.000e+00-7.071e-01j -7.071e-01+0.000e+00j  4.330e-17+0.000e+00j\n",
      "   0.000e+00-4.330e-17j]\n",
      " [-7.071e-01+0.000e+00j  0.000e+00-7.071e-01j  0.000e+00-4.330e-17j\n",
      "   4.330e-17+0.000e+00j]]\n",
      "[[ 4.330e-17+0.000e+00j  0.000e+00-4.330e-17j  0.000e+00-7.071e-01j\n",
      "  -7.071e-01+0.000e+00j]\n",
      " [ 0.000e+00-4.330e-17j  4.330e-17+0.000e+00j -7.071e-01+0.000e+00j\n",
      "   0.000e+00-7.071e-01j]\n",
      " [ 0.000e+00-7.071e-01j -7.071e-01+0.000e+00j  4.330e-17+0.000e+00j\n",
      "   0.000e+00-4.330e-17j]\n",
      " [-7.071e-01+0.000e+00j  0.000e+00-7.071e-01j  0.000e+00-4.330e-17j\n",
      "   4.330e-17+0.000e+00j]] [[4.330e-17+0.000e+00j 0.000e+00+4.330e-17j 0.000e+00-7.071e-01j\n",
      "  7.071e-01+0.000e+00j]\n",
      " [0.000e+00+4.330e-17j 4.330e-17+0.000e+00j 7.071e-01+0.000e+00j\n",
      "  0.000e+00-7.071e-01j]\n",
      " [0.000e+00-7.071e-01j 7.071e-01+0.000e+00j 4.330e-17+0.000e+00j\n",
      "  0.000e+00+4.330e-17j]\n",
      " [7.071e-01+0.000e+00j 0.000e+00-7.071e-01j 0.000e+00+4.330e-17j\n",
      "  4.330e-17+0.000e+00j]]\n",
      "[[ 0.707+0.j  0.   +0.j -0.707+0.j  0.   +0.j]\n",
      " [ 0.   +0.j  0.707+0.j  0.   +0.j -0.707+0.j]\n",
      " [ 0.707+0.j  0.   +0.j  0.707+0.j  0.   +0.j]\n",
      " [ 0.   +0.j  0.707+0.j  0.   +0.j  0.707+0.j]] [[ 0.707+0.j  0.   +0.j  0.707+0.j  0.   +0.j]\n",
      " [ 0.   +0.j  0.707+0.j  0.   +0.j  0.707+0.j]\n",
      " [-0.707+0.j  0.   +0.j  0.707+0.j  0.   +0.j]\n",
      " [ 0.   +0.j -0.707+0.j  0.   +0.j  0.707+0.j]]\n",
      "[[ 4.33e-17+0.j     0.00e+00-0.707j -4.33e-17+0.j     0.00e+00+0.707j]\n",
      " [ 0.00e+00-0.707j  4.33e-17+0.j     0.00e+00+0.707j -4.33e-17+0.j   ]\n",
      " [ 4.33e-17+0.j     0.00e+00-0.707j  4.33e-17+0.j     0.00e+00-0.707j]\n",
      " [ 0.00e+00-0.707j  4.33e-17+0.j     0.00e+00-0.707j  4.33e-17+0.j   ]] [[ 4.33e-17+0.j     0.00e+00+0.707j  4.33e-17+0.j     0.00e+00+0.707j]\n",
      " [ 0.00e+00+0.707j  4.33e-17+0.j     0.00e+00+0.707j  4.33e-17+0.j   ]\n",
      " [-4.33e-17+0.j     0.00e+00-0.707j  4.33e-17+0.j     0.00e+00+0.707j]\n",
      " [ 0.00e+00-0.707j -4.33e-17+0.j     0.00e+00+0.707j  4.33e-17+0.j   ]]\n",
      "[[ 0.5+0.j -0.5+0.j -0.5+0.j  0.5+0.j]\n",
      " [ 0.5+0.j  0.5+0.j -0.5+0.j -0.5+0.j]\n",
      " [ 0.5+0.j -0.5+0.j  0.5+0.j -0.5+0.j]\n",
      " [ 0.5+0.j  0.5+0.j  0.5+0.j  0.5+0.j]] [[ 0.5+0.j -0.5+0.j  0.5+0.j -0.5+0.j]\n",
      " [ 0.5+0.j  0.5+0.j  0.5+0.j  0.5+0.j]\n",
      " [-0.5+0.j  0.5+0.j  0.5+0.j -0.5+0.j]\n",
      " [-0.5+0.j -0.5+0.j  0.5+0.j  0.5+0.j]]\n",
      "[[ 0.5+0.j  0.5+0.j -0.5+0.j -0.5+0.j]\n",
      " [-0.5+0.j  0.5+0.j  0.5+0.j -0.5+0.j]\n",
      " [ 0.5+0.j  0.5+0.j  0.5+0.j  0.5+0.j]\n",
      " [-0.5+0.j  0.5+0.j -0.5+0.j  0.5+0.j]] [[ 0.5+0.j  0.5+0.j  0.5+0.j  0.5+0.j]\n",
      " [-0.5+0.j  0.5+0.j -0.5+0.j  0.5+0.j]\n",
      " [-0.5+0.j -0.5+0.j  0.5+0.j  0.5+0.j]\n",
      " [ 0.5+0.j -0.5+0.j -0.5+0.j  0.5+0.j]]\n",
      "[[ 0.5+0.j   0. +0.5j -0.5+0.j   0. -0.5j]\n",
      " [ 0. +0.5j  0.5+0.j   0. -0.5j -0.5+0.j ]\n",
      " [ 0.5+0.j   0. +0.5j  0.5+0.j   0. +0.5j]\n",
      " [ 0. +0.5j  0.5+0.j   0. +0.5j  0.5+0.j ]] [[ 0.5+0.j   0. -0.5j  0.5+0.j   0. -0.5j]\n",
      " [ 0. -0.5j  0.5+0.j   0. -0.5j  0.5+0.j ]\n",
      " [-0.5+0.j   0. +0.5j  0.5+0.j   0. -0.5j]\n",
      " [ 0. +0.5j -0.5+0.j   0. -0.5j  0.5+0.j ]]\n",
      "[[ 0.5+0.j   0. -0.5j -0.5+0.j   0. +0.5j]\n",
      " [ 0. -0.5j  0.5+0.j   0. +0.5j -0.5+0.j ]\n",
      " [ 0.5+0.j   0. -0.5j  0.5+0.j   0. -0.5j]\n",
      " [ 0. -0.5j  0.5+0.j   0. -0.5j  0.5+0.j ]] [[ 0.5+0.j   0. +0.5j  0.5+0.j   0. +0.5j]\n",
      " [ 0. +0.5j  0.5+0.j   0. +0.5j  0.5+0.j ]\n",
      " [-0.5+0.j   0. -0.5j  0.5+0.j   0. +0.5j]\n",
      " [ 0. -0.5j -0.5+0.j   0. +0.5j  0.5+0.j ]]\n",
      "[[ 0.707+0.j  0.   +0.j  0.707+0.j  0.   +0.j]\n",
      " [ 0.   +0.j  0.707+0.j  0.   +0.j  0.707+0.j]\n",
      " [-0.707+0.j  0.   +0.j  0.707+0.j  0.   +0.j]\n",
      " [ 0.   +0.j -0.707+0.j  0.   +0.j  0.707+0.j]] [[ 0.707+0.j  0.   +0.j -0.707+0.j  0.   +0.j]\n",
      " [ 0.   +0.j  0.707+0.j  0.   +0.j -0.707+0.j]\n",
      " [ 0.707+0.j  0.   +0.j  0.707+0.j  0.   +0.j]\n",
      " [ 0.   +0.j  0.707+0.j  0.   +0.j  0.707+0.j]]\n",
      "[[ 4.33e-17+0.j     0.00e+00-0.707j  4.33e-17+0.j     0.00e+00-0.707j]\n",
      " [ 0.00e+00-0.707j  4.33e-17+0.j     0.00e+00-0.707j  4.33e-17+0.j   ]\n",
      " [-4.33e-17+0.j     0.00e+00+0.707j  4.33e-17+0.j     0.00e+00-0.707j]\n",
      " [ 0.00e+00+0.707j -4.33e-17+0.j     0.00e+00-0.707j  4.33e-17+0.j   ]] [[ 4.33e-17+0.j     0.00e+00+0.707j -4.33e-17+0.j     0.00e+00-0.707j]\n",
      " [ 0.00e+00+0.707j  4.33e-17+0.j     0.00e+00-0.707j -4.33e-17+0.j   ]\n",
      " [ 4.33e-17+0.j     0.00e+00+0.707j  4.33e-17+0.j     0.00e+00+0.707j]\n",
      " [ 0.00e+00+0.707j  4.33e-17+0.j     0.00e+00+0.707j  4.33e-17+0.j   ]]\n",
      "[[ 0.5+0.j -0.5+0.j  0.5+0.j -0.5+0.j]\n",
      " [ 0.5+0.j  0.5+0.j  0.5+0.j  0.5+0.j]\n",
      " [-0.5+0.j  0.5+0.j  0.5+0.j -0.5+0.j]\n",
      " [-0.5+0.j -0.5+0.j  0.5+0.j  0.5+0.j]] [[ 0.5+0.j -0.5+0.j -0.5+0.j  0.5+0.j]\n",
      " [ 0.5+0.j  0.5+0.j -0.5+0.j -0.5+0.j]\n",
      " [ 0.5+0.j -0.5+0.j  0.5+0.j -0.5+0.j]\n",
      " [ 0.5+0.j  0.5+0.j  0.5+0.j  0.5+0.j]]\n",
      "[[ 0.5+0.j  0.5+0.j  0.5+0.j  0.5+0.j]\n",
      " [-0.5+0.j  0.5+0.j -0.5+0.j  0.5+0.j]\n",
      " [-0.5+0.j -0.5+0.j  0.5+0.j  0.5+0.j]\n",
      " [ 0.5+0.j -0.5+0.j -0.5+0.j  0.5+0.j]] [[ 0.5+0.j  0.5+0.j -0.5+0.j -0.5+0.j]\n",
      " [-0.5+0.j  0.5+0.j  0.5+0.j -0.5+0.j]\n",
      " [ 0.5+0.j  0.5+0.j  0.5+0.j  0.5+0.j]\n",
      " [-0.5+0.j  0.5+0.j -0.5+0.j  0.5+0.j]]\n",
      "[[ 0.5+0.j   0. +0.5j  0.5+0.j   0. +0.5j]\n",
      " [ 0. +0.5j  0.5+0.j   0. +0.5j  0.5+0.j ]\n",
      " [-0.5+0.j   0. -0.5j  0.5+0.j   0. +0.5j]\n",
      " [ 0. -0.5j -0.5+0.j   0. +0.5j  0.5+0.j ]] [[ 0.5+0.j   0. -0.5j -0.5+0.j   0. +0.5j]\n",
      " [ 0. -0.5j  0.5+0.j   0. +0.5j -0.5+0.j ]\n",
      " [ 0.5+0.j   0. -0.5j  0.5+0.j   0. -0.5j]\n",
      " [ 0. -0.5j  0.5+0.j   0. -0.5j  0.5+0.j ]]\n",
      "[[ 0.5+0.j   0. -0.5j  0.5+0.j   0. -0.5j]\n",
      " [ 0. -0.5j  0.5+0.j   0. -0.5j  0.5+0.j ]\n",
      " [-0.5+0.j   0. +0.5j  0.5+0.j   0. -0.5j]\n",
      " [ 0. +0.5j -0.5+0.j   0. -0.5j  0.5+0.j ]] [[ 0.5+0.j   0. +0.5j -0.5+0.j   0. -0.5j]\n",
      " [ 0. +0.5j  0.5+0.j   0. -0.5j -0.5+0.j ]\n",
      " [ 0.5+0.j   0. +0.5j  0.5+0.j   0. +0.5j]\n",
      " [ 0. +0.5j  0.5+0.j   0. +0.5j  0.5+0.j ]]\n",
      "[[0.707+0.j    0.   +0.j    0.   +0.707j 0.   +0.j   ]\n",
      " [0.   +0.j    0.707+0.j    0.   +0.j    0.   +0.707j]\n",
      " [0.   +0.707j 0.   +0.j    0.707+0.j    0.   +0.j   ]\n",
      " [0.   +0.j    0.   +0.707j 0.   +0.j    0.707+0.j   ]] [[0.707+0.j    0.   +0.j    0.   +0.707j 0.   +0.j   ]\n",
      " [0.   +0.j    0.707+0.j    0.   +0.j    0.   +0.707j]\n",
      " [0.   +0.707j 0.   +0.j    0.707+0.j    0.   +0.j   ]\n",
      " [0.   +0.j    0.   +0.707j 0.   +0.j    0.707+0.j   ]]\n",
      "[[4.330e-17+0.000e+00j 0.000e+00-7.071e-01j 0.000e+00+4.330e-17j\n",
      "  7.071e-01+0.000e+00j]\n",
      " [0.000e+00-7.071e-01j 4.330e-17+0.000e+00j 7.071e-01+0.000e+00j\n",
      "  0.000e+00+4.330e-17j]\n",
      " [0.000e+00+4.330e-17j 7.071e-01+0.000e+00j 4.330e-17+0.000e+00j\n",
      "  0.000e+00-7.071e-01j]\n",
      " [7.071e-01+0.000e+00j 0.000e+00+4.330e-17j 0.000e+00-7.071e-01j\n",
      "  4.330e-17+0.000e+00j]] [[ 4.330e-17+0.000e+00j  0.000e+00+7.071e-01j  0.000e+00+4.330e-17j\n",
      "  -7.071e-01+0.000e+00j]\n",
      " [ 0.000e+00+7.071e-01j  4.330e-17+0.000e+00j -7.071e-01+0.000e+00j\n",
      "   0.000e+00+4.330e-17j]\n",
      " [ 0.000e+00+4.330e-17j -7.071e-01+0.000e+00j  4.330e-17+0.000e+00j\n",
      "   0.000e+00+7.071e-01j]\n",
      " [-7.071e-01+0.000e+00j  0.000e+00+4.330e-17j  0.000e+00+7.071e-01j\n",
      "   4.330e-17+0.000e+00j]]\n",
      "[[ 0.5+0.j  -0.5+0.j   0. +0.5j  0. -0.5j]\n",
      " [ 0.5+0.j   0.5+0.j   0. +0.5j  0. +0.5j]\n",
      " [ 0. +0.5j  0. -0.5j  0.5+0.j  -0.5+0.j ]\n",
      " [ 0. +0.5j  0. +0.5j  0.5+0.j   0.5+0.j ]] [[ 0.5+0.j  -0.5+0.j   0. +0.5j  0. -0.5j]\n",
      " [ 0.5+0.j   0.5+0.j   0. +0.5j  0. +0.5j]\n",
      " [ 0. +0.5j  0. -0.5j  0.5+0.j  -0.5+0.j ]\n",
      " [ 0. +0.5j  0. +0.5j  0.5+0.j   0.5+0.j ]]\n",
      "[[ 0.5+0.j   0.5+0.j   0. +0.5j  0. +0.5j]\n",
      " [-0.5+0.j   0.5+0.j   0. -0.5j  0. +0.5j]\n",
      " [ 0. +0.5j  0. +0.5j  0.5+0.j   0.5+0.j ]\n",
      " [ 0. -0.5j  0. +0.5j -0.5+0.j   0.5+0.j ]] [[ 0.5+0.j   0.5+0.j   0. +0.5j  0. +0.5j]\n",
      " [-0.5+0.j   0.5+0.j   0. -0.5j  0. +0.5j]\n",
      " [ 0. +0.5j  0. +0.5j  0.5+0.j   0.5+0.j ]\n",
      " [ 0. -0.5j  0. +0.5j -0.5+0.j   0.5+0.j ]]\n",
      "[[ 0.5+0.j   0. +0.5j  0. +0.5j -0.5+0.j ]\n",
      " [ 0. +0.5j  0.5+0.j  -0.5+0.j   0. +0.5j]\n",
      " [ 0. +0.5j -0.5+0.j   0.5+0.j   0. +0.5j]\n",
      " [-0.5+0.j   0. +0.5j  0. +0.5j  0.5+0.j ]] [[0.5+0.j  0. -0.5j 0. +0.5j 0.5+0.j ]\n",
      " [0. -0.5j 0.5+0.j  0.5+0.j  0. +0.5j]\n",
      " [0. +0.5j 0.5+0.j  0.5+0.j  0. -0.5j]\n",
      " [0.5+0.j  0. +0.5j 0. -0.5j 0.5+0.j ]]\n",
      "[[0.5+0.j  0. -0.5j 0. +0.5j 0.5+0.j ]\n",
      " [0. -0.5j 0.5+0.j  0.5+0.j  0. +0.5j]\n",
      " [0. +0.5j 0.5+0.j  0.5+0.j  0. -0.5j]\n",
      " [0.5+0.j  0. +0.5j 0. -0.5j 0.5+0.j ]] [[ 0.5+0.j   0. +0.5j  0. +0.5j -0.5+0.j ]\n",
      " [ 0. +0.5j  0.5+0.j  -0.5+0.j   0. +0.5j]\n",
      " [ 0. +0.5j -0.5+0.j   0.5+0.j   0. +0.5j]\n",
      " [-0.5+0.j   0. +0.5j  0. +0.5j  0.5+0.j ]]\n",
      "[[0.707+0.j    0.   +0.j    0.   -0.707j 0.   +0.j   ]\n",
      " [0.   +0.j    0.707+0.j    0.   +0.j    0.   -0.707j]\n",
      " [0.   -0.707j 0.   +0.j    0.707+0.j    0.   +0.j   ]\n",
      " [0.   +0.j    0.   -0.707j 0.   +0.j    0.707+0.j   ]] [[0.707+0.j    0.   +0.j    0.   -0.707j 0.   +0.j   ]\n",
      " [0.   +0.j    0.707+0.j    0.   +0.j    0.   -0.707j]\n",
      " [0.   -0.707j 0.   +0.j    0.707+0.j    0.   +0.j   ]\n",
      " [0.   +0.j    0.   -0.707j 0.   +0.j    0.707+0.j   ]]\n",
      "[[ 4.330e-17+0.000e+00j  0.000e+00-7.071e-01j  0.000e+00-4.330e-17j\n",
      "  -7.071e-01+0.000e+00j]\n",
      " [ 0.000e+00-7.071e-01j  4.330e-17+0.000e+00j -7.071e-01+0.000e+00j\n",
      "   0.000e+00-4.330e-17j]\n",
      " [ 0.000e+00-4.330e-17j -7.071e-01+0.000e+00j  4.330e-17+0.000e+00j\n",
      "   0.000e+00-7.071e-01j]\n",
      " [-7.071e-01+0.000e+00j  0.000e+00-4.330e-17j  0.000e+00-7.071e-01j\n",
      "   4.330e-17+0.000e+00j]] [[4.330e-17+0.000e+00j 0.000e+00+7.071e-01j 0.000e+00-4.330e-17j\n",
      "  7.071e-01+0.000e+00j]\n",
      " [0.000e+00+7.071e-01j 4.330e-17+0.000e+00j 7.071e-01+0.000e+00j\n",
      "  0.000e+00-4.330e-17j]\n",
      " [0.000e+00-4.330e-17j 7.071e-01+0.000e+00j 4.330e-17+0.000e+00j\n",
      "  0.000e+00+7.071e-01j]\n",
      " [7.071e-01+0.000e+00j 0.000e+00-4.330e-17j 0.000e+00+7.071e-01j\n",
      "  4.330e-17+0.000e+00j]]\n",
      "[[ 0.5+0.j  -0.5+0.j   0. -0.5j  0. +0.5j]\n",
      " [ 0.5+0.j   0.5+0.j   0. -0.5j  0. -0.5j]\n",
      " [ 0. -0.5j  0. +0.5j  0.5+0.j  -0.5+0.j ]\n",
      " [ 0. -0.5j  0. -0.5j  0.5+0.j   0.5+0.j ]] [[ 0.5+0.j  -0.5+0.j   0. -0.5j  0. +0.5j]\n",
      " [ 0.5+0.j   0.5+0.j   0. -0.5j  0. -0.5j]\n",
      " [ 0. -0.5j  0. +0.5j  0.5+0.j  -0.5+0.j ]\n",
      " [ 0. -0.5j  0. -0.5j  0.5+0.j   0.5+0.j ]]\n",
      "[[ 0.5+0.j   0.5+0.j   0. -0.5j  0. -0.5j]\n",
      " [-0.5+0.j   0.5+0.j   0. +0.5j  0. -0.5j]\n",
      " [ 0. -0.5j  0. -0.5j  0.5+0.j   0.5+0.j ]\n",
      " [ 0. +0.5j  0. -0.5j -0.5+0.j   0.5+0.j ]] [[ 0.5+0.j   0.5+0.j   0. -0.5j  0. -0.5j]\n",
      " [-0.5+0.j   0.5+0.j   0. +0.5j  0. -0.5j]\n",
      " [ 0. -0.5j  0. -0.5j  0.5+0.j   0.5+0.j ]\n",
      " [ 0. +0.5j  0. -0.5j -0.5+0.j   0.5+0.j ]]\n",
      "[[0.5+0.j  0. +0.5j 0. -0.5j 0.5+0.j ]\n",
      " [0. +0.5j 0.5+0.j  0.5+0.j  0. -0.5j]\n",
      " [0. -0.5j 0.5+0.j  0.5+0.j  0. +0.5j]\n",
      " [0.5+0.j  0. -0.5j 0. +0.5j 0.5+0.j ]] [[ 0.5+0.j   0. -0.5j  0. -0.5j -0.5+0.j ]\n",
      " [ 0. -0.5j  0.5+0.j  -0.5+0.j   0. -0.5j]\n",
      " [ 0. -0.5j -0.5+0.j   0.5+0.j   0. -0.5j]\n",
      " [-0.5+0.j   0. -0.5j  0. -0.5j  0.5+0.j ]]\n",
      "[[ 0.5+0.j   0. -0.5j  0. -0.5j -0.5+0.j ]\n",
      " [ 0. -0.5j  0.5+0.j  -0.5+0.j   0. -0.5j]\n",
      " [ 0. -0.5j -0.5+0.j   0.5+0.j   0. -0.5j]\n",
      " [-0.5+0.j   0. -0.5j  0. -0.5j  0.5+0.j ]] [[0.5+0.j  0. +0.5j 0. -0.5j 0.5+0.j ]\n",
      " [0. +0.5j 0.5+0.j  0.5+0.j  0. -0.5j]\n",
      " [0. -0.5j 0.5+0.j  0.5+0.j  0. +0.5j]\n",
      " [0.5+0.j  0. -0.5j 0. +0.5j 0.5+0.j ]]\n"
     ]
    }
   ],
   "source": [
    "for i in range(6**2):\n",
    "    R = prepare_input(numberToBase(i, 6, 2), return_mode = \"unitary\")\n",
    "    print(R, U@R@U)"
   ]
  },
  {
   "cell_type": "code",
   "execution_count": 30,
   "metadata": {},
   "outputs": [
    {
     "data": {
      "text/plain": [
       "array([[6.123e-17+0.j, 0.000e+00-1.j],\n",
       "       [0.000e+00-1.j, 6.123e-17+0.j]])"
      ]
     },
     "execution_count": 30,
     "metadata": {},
     "output_type": "execute_result"
    }
   ],
   "source": [
    "prepare_input([1], return_mode = \"unitary\")"
   ]
  },
  {
   "cell_type": "code",
   "execution_count": null,
   "metadata": {},
   "outputs": [],
   "source": []
  }
 ],
 "metadata": {
  "kernelspec": {
   "display_name": "env_qiskit",
   "language": "python",
   "name": "env_qiskit"
  },
  "language_info": {
   "codemirror_mode": {
    "name": "ipython",
    "version": 3
   },
   "file_extension": ".py",
   "mimetype": "text/x-python",
   "name": "python",
   "nbconvert_exporter": "python",
   "pygments_lexer": "ipython3",
   "version": "3.10.4"
  }
 },
 "nbformat": 4,
 "nbformat_minor": 4
}
