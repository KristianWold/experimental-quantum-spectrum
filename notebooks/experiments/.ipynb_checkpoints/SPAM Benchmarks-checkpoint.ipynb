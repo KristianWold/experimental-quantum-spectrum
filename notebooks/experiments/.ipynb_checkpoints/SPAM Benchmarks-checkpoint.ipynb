{
 "cells": [
  {
   "cell_type": "markdown",
   "metadata": {},
   "source": [
    "# Convergence Benchmarks"
   ]
  },
  {
   "cell_type": "code",
   "execution_count": 1,
   "metadata": {},
   "outputs": [],
   "source": [
    "import sys\n",
    "sys.path.insert(0, '../../src_tf/')\n",
    "\n",
    "import numpy as np\n",
    "import qiskit as qk\n",
    "import matplotlib.pyplot as plt\n",
    "import multiprocessing as mp\n",
    "import random\n",
    "import pickle\n",
    "\n",
    "from qiskit.quantum_info import DensityMatrix, random_unitary\n",
    "from qiskit.quantum_info import Operator\n",
    "from scipy.linalg import sqrtm\n",
    "from tqdm.notebook import tqdm\n",
    "\n",
    "from loss_functions import *\n",
    "from optimization import *\n",
    "from quantum_channel import *\n",
    "from quantum_tools import *\n",
    "from experimental import *\n",
    "from spam import *\n",
    "\n",
    "#np.set_printoptions(threshold=sys.maxsize)\n",
    "np.set_printoptions(precision=4)\n",
    "\n",
    "import os\n",
    "os.environ[\"CUDA_VISIBLE_DEVICES\"] = \"-1\""
   ]
  },
  {
   "cell_type": "markdown",
   "metadata": {},
   "source": [
    "## Fit SPAM model\n",
    "\n",
    "### Generate True Model, Full POVM and Inital"
   ]
  },
  {
   "cell_type": "code",
   "execution_count": 15,
   "metadata": {},
   "outputs": [],
   "source": [
    "def generate_spam_benchmark(n=3, c1=1, c2=1):\n",
    "    d = 2**n\n",
    "\n",
    "    init_target = InitialState(d, c=c1)\n",
    "    povm_target = POVM(d, c=c2)\n",
    "\n",
    "    spam_target = SPAM(init = init_target,\n",
    "                       povm = povm_target)\n",
    "    \n",
    "    return spam_target\n",
    "\n",
    "\n",
    "def generate_spam_data(spam_target, N_spam=None, noise=0):\n",
    "    n = int(np.log2(spam_target.d))\n",
    "    inputs_spam, _ = generate_pauliInput_circuits(n)\n",
    "    N_spam = inputs_spam.shape[0]\n",
    "\n",
    "    state = tf.repeat(spam_target.init.init[None,:,:], N_spam, axis=0)\n",
    "    state = apply_unitary(state, inputs_spam)\n",
    "    targets_spam = measurement(state, povm = spam_target.povm.povm)\n",
    "\n",
    "    #add noise\n",
    "    targets_spam = add_noise_to_probs(targets_spam, noise=noise)\n",
    "    return inputs_spam, targets_spam\n",
    "\n",
    "\n",
    "def spam_pipeline(n, \n",
    "                  c1, \n",
    "                  c2,\n",
    "                  noise,\n",
    "                  use_corr = False,\n",
    "                  num_iter = 2000):\n",
    "    spam_target = generate_spam_benchmark(n=n, c1=c1, c2=c2)\n",
    "    inputs_spam, targets_spam = generate_spam_data(spam_target, N_spam=None, noise=noise)\n",
    "\n",
    "    \n",
    "    if use_corr:\n",
    "        povm = CorruptionMatrix(d, c=0.9)\n",
    "    else:\n",
    "        povm = POVM(d, c=0.9)\n",
    "        \n",
    "    spam_model = SPAM(init = InitialState(d, c=0.9),\n",
    "                      povm = povm,\n",
    "                      optimizer = tf.optimizers.Adam(learning_rate=0.01))\n",
    "        \n",
    "\n",
    "    spam_model.train(inputs = inputs_spam,\n",
    "                     targets = targets_spam,\n",
    "                     num_iter = num_iter,\n",
    "                     verbose = False,\n",
    "                    )\n",
    "    \n",
    "    return spam_target, spam_model\n",
    "\n",
    "\n",
    "def povm_fidelity(povm_a, povm_b):\n",
    "    d = povm_a.shape[0]\n",
    "    ab = tf.matmul(povm_a, povm_b)\n",
    "    ab_sqrt = tf.linalg.sqrtm(ab)\n",
    "    fidelity = tf.math.reduce_sum(tf.linalg.trace(ab_sqrt))/d\n",
    "    return fidelity"
   ]
  },
  {
   "cell_type": "markdown",
   "metadata": {},
   "source": [
    "## Three Qubit"
   ]
  },
  {
   "cell_type": "code",
   "execution_count": 23,
   "metadata": {
    "scrolled": true
   },
   "outputs": [
    {
     "data": {
      "application/vnd.jupyter.widget-view+json": {
       "model_id": "f915b4642d824e68952fd2a2d4af71f7",
       "version_major": 2,
       "version_minor": 0
      },
      "text/plain": [
       "  0%|          | 0/11 [00:00<?, ?it/s]"
      ]
     },
     "metadata": {},
     "output_type": "display_data"
    },
    {
     "data": {
      "application/vnd.jupyter.widget-view+json": {
       "model_id": "713ae9a3c3f04bbfbafc4c9040d52548",
       "version_major": 2,
       "version_minor": 0
      },
      "text/plain": [
       "  0%|          | 0/3000 [00:00<?, ?it/s]"
      ]
     },
     "metadata": {},
     "output_type": "display_data"
    },
    {
     "name": "stdout",
     "output_type": "stream",
     "text": [
      "0.003977253726317396\n"
     ]
    },
    {
     "data": {
      "application/vnd.jupyter.widget-view+json": {
       "model_id": "fd756c8d26ff476b90252939613a1396",
       "version_major": 2,
       "version_minor": 0
      },
      "text/plain": [
       "  0%|          | 0/3000 [00:00<?, ?it/s]"
      ]
     },
     "metadata": {},
     "output_type": "display_data"
    },
    {
     "name": "stdout",
     "output_type": "stream",
     "text": [
      "0.001929708792439741\n"
     ]
    },
    {
     "data": {
      "application/vnd.jupyter.widget-view+json": {
       "model_id": "2ff8df3719864fff9325dba5b9e02b78",
       "version_major": 2,
       "version_minor": 0
      },
      "text/plain": [
       "  0%|          | 0/3000 [00:00<?, ?it/s]"
      ]
     },
     "metadata": {},
     "output_type": "display_data"
    },
    {
     "name": "stdout",
     "output_type": "stream",
     "text": [
      "0.0009471284067920182\n"
     ]
    },
    {
     "data": {
      "application/vnd.jupyter.widget-view+json": {
       "model_id": "19b86d9b3c9f4d63a0f17320058eee8b",
       "version_major": 2,
       "version_minor": 0
      },
      "text/plain": [
       "  0%|          | 0/3000 [00:00<?, ?it/s]"
      ]
     },
     "metadata": {},
     "output_type": "display_data"
    },
    {
     "name": "stdout",
     "output_type": "stream",
     "text": [
      "0.00046767350979986567\n"
     ]
    },
    {
     "data": {
      "application/vnd.jupyter.widget-view+json": {
       "model_id": "b93636e273344ae383e77c66db1afc7e",
       "version_major": 2,
       "version_minor": 0
      },
      "text/plain": [
       "  0%|          | 0/3000 [00:00<?, ?it/s]"
      ]
     },
     "metadata": {},
     "output_type": "display_data"
    },
    {
     "name": "stdout",
     "output_type": "stream",
     "text": [
      "0.000232754297489656\n"
     ]
    },
    {
     "data": {
      "application/vnd.jupyter.widget-view+json": {
       "model_id": "62a22cda821e4ef686ed3c58dbb36399",
       "version_major": 2,
       "version_minor": 0
      },
      "text/plain": [
       "  0%|          | 0/3000 [00:00<?, ?it/s]"
      ]
     },
     "metadata": {},
     "output_type": "display_data"
    },
    {
     "name": "stdout",
     "output_type": "stream",
     "text": [
      "0.00011594306362749841\n"
     ]
    },
    {
     "data": {
      "application/vnd.jupyter.widget-view+json": {
       "model_id": "4dbe0148f06946459d9aff0191a1d764",
       "version_major": 2,
       "version_minor": 0
      },
      "text/plain": [
       "  0%|          | 0/3000 [00:00<?, ?it/s]"
      ]
     },
     "metadata": {},
     "output_type": "display_data"
    },
    {
     "name": "stdout",
     "output_type": "stream",
     "text": [
      "5.7854138079571335e-05\n"
     ]
    },
    {
     "data": {
      "application/vnd.jupyter.widget-view+json": {
       "model_id": "b3a4dddf1c1a4626be3a9d039be44bd2",
       "version_major": 2,
       "version_minor": 0
      },
      "text/plain": [
       "  0%|          | 0/3000 [00:00<?, ?it/s]"
      ]
     },
     "metadata": {},
     "output_type": "display_data"
    },
    {
     "name": "stdout",
     "output_type": "stream",
     "text": [
      "2.8927018643160274e-05\n"
     ]
    },
    {
     "data": {
      "application/vnd.jupyter.widget-view+json": {
       "model_id": "565349463cf344a0bc96d85cadfaa69f",
       "version_major": 2,
       "version_minor": 0
      },
      "text/plain": [
       "  0%|          | 0/3000 [00:00<?, ?it/s]"
      ]
     },
     "metadata": {},
     "output_type": "display_data"
    },
    {
     "name": "stdout",
     "output_type": "stream",
     "text": [
      "1.4503172763085186e-05\n"
     ]
    },
    {
     "data": {
      "application/vnd.jupyter.widget-view+json": {
       "model_id": "31cd9848e99e466291648c2cba644e7d",
       "version_major": 2,
       "version_minor": 0
      },
      "text/plain": [
       "  0%|          | 0/3000 [00:00<?, ?it/s]"
      ]
     },
     "metadata": {},
     "output_type": "display_data"
    },
    {
     "name": "stdout",
     "output_type": "stream",
     "text": [
      "7.306114679341469e-06\n"
     ]
    },
    {
     "data": {
      "application/vnd.jupyter.widget-view+json": {
       "model_id": "fe1bda284295494da47700e3f93689b5",
       "version_major": 2,
       "version_minor": 0
      },
      "text/plain": [
       "  0%|          | 0/3000 [00:00<?, ?it/s]"
      ]
     },
     "metadata": {},
     "output_type": "display_data"
    },
    {
     "name": "stdout",
     "output_type": "stream",
     "text": [
      "9.800826889095293e-08\n"
     ]
    }
   ],
   "source": [
    "n = 3\n",
    "d = 2**n\n",
    "c1 = 0.8\n",
    "c2 = 0.8\n",
    "\n",
    "\n",
    "num_reps = 10\n",
    "shots_list = np.linspace(7, 16, 10)\n",
    "shots_list = 2**shots_list\n",
    "noise_list = 1/np.sqrt(shots_list)\n",
    "noise_list = np.append(noise_list, 0)\n",
    "\n",
    "init_fid_list = np.zeros((len(noise_list), num_reps))\n",
    "povm_fid_list = np.zeros((len(noise_list), num_reps))\n",
    "\n",
    "for i, noise in enumerate(tqdm(noise_list)):   \n",
    "    np.random.seed(42)\n",
    "    random.seed(42)\n",
    "    tf.random.set_seed(42)\n",
    "    for rep in range(num_reps):    \n",
    "        spam_model, spam_target = spam_pipeline(n=n,\n",
    "                                                c1=c1,\n",
    "                                                c2=c2,\n",
    "                                                noise = noise,\n",
    "                                                use_corr=False,\n",
    "                                                num_iter = 3000,\n",
    "                                                )\n",
    "        \n",
    "        init_fid_list[i, rep] = state_fidelity(spam_model.init.init, spam_target.init.init)\n",
    "        povm_fid_list[i, rep] = povm_fidelity(spam_model.povm.povm, spam_target.povm.povm)\n",
    "        \n",
    "#saver([init_fid_list, povm_fid_list], data_path(\"spam_fidelity_3qubit_full.data\"))\n",
    "saver([init_fid_list, povm_fid_list], data_path(\"spam_fidelity_3qubit_full_retry.data\"))"
   ]
  },
  {
   "cell_type": "code",
   "execution_count": 24,
   "metadata": {},
   "outputs": [
    {
     "data": {
      "application/vnd.jupyter.widget-view+json": {
       "model_id": "26acf34d90a54200b25fa1b9e96e1e1e",
       "version_major": 2,
       "version_minor": 0
      },
      "text/plain": [
       "0it [00:00, ?it/s]"
      ]
     },
     "metadata": {},
     "output_type": "display_data"
    },
    {
     "data": {
      "application/vnd.jupyter.widget-view+json": {
       "model_id": "86c61891266343f59bb4035ae14a9bbd",
       "version_major": 2,
       "version_minor": 0
      },
      "text/plain": [
       "  0%|          | 0/3000 [00:00<?, ?it/s]"
      ]
     },
     "metadata": {},
     "output_type": "display_data"
    },
    {
     "name": "stdout",
     "output_type": "stream",
     "text": [
      "0.005228343768586183\n"
     ]
    },
    {
     "data": {
      "application/vnd.jupyter.widget-view+json": {
       "model_id": "d92c4158c16a4d4ba47f64b09c6f3234",
       "version_major": 2,
       "version_minor": 0
      },
      "text/plain": [
       "  0%|          | 0/3000 [00:00<?, ?it/s]"
      ]
     },
     "metadata": {},
     "output_type": "display_data"
    },
    {
     "name": "stdout",
     "output_type": "stream",
     "text": [
      "0.0027002037455069756\n"
     ]
    },
    {
     "data": {
      "application/vnd.jupyter.widget-view+json": {
       "model_id": "de0fe42e97d5466f81d815e491eb1a47",
       "version_major": 2,
       "version_minor": 0
      },
      "text/plain": [
       "  0%|          | 0/3000 [00:00<?, ?it/s]"
      ]
     },
     "metadata": {},
     "output_type": "display_data"
    },
    {
     "name": "stdout",
     "output_type": "stream",
     "text": [
      "0.0014571731033976684\n"
     ]
    },
    {
     "data": {
      "application/vnd.jupyter.widget-view+json": {
       "model_id": "f366321a0ed74e849d29220b3640be07",
       "version_major": 2,
       "version_minor": 0
      },
      "text/plain": [
       "  0%|          | 0/3000 [00:00<?, ?it/s]"
      ]
     },
     "metadata": {},
     "output_type": "display_data"
    },
    {
     "name": "stdout",
     "output_type": "stream",
     "text": [
      "0.0008400975477764568\n"
     ]
    },
    {
     "data": {
      "application/vnd.jupyter.widget-view+json": {
       "model_id": "f5f49fd21fcf401d81f43965304ba14e",
       "version_major": 2,
       "version_minor": 0
      },
      "text/plain": [
       "  0%|          | 0/3000 [00:00<?, ?it/s]"
      ]
     },
     "metadata": {},
     "output_type": "display_data"
    },
    {
     "name": "stdout",
     "output_type": "stream",
     "text": [
      "0.00053165058528026\n"
     ]
    },
    {
     "data": {
      "application/vnd.jupyter.widget-view+json": {
       "model_id": "76c7c7ea36d24ee99a997d81e648c481",
       "version_major": 2,
       "version_minor": 0
      },
      "text/plain": [
       "  0%|          | 0/3000 [00:00<?, ?it/s]"
      ]
     },
     "metadata": {},
     "output_type": "display_data"
    },
    {
     "name": "stdout",
     "output_type": "stream",
     "text": [
      "0.0003768804864186732\n"
     ]
    },
    {
     "data": {
      "application/vnd.jupyter.widget-view+json": {
       "model_id": "f6dd5dae857849c7bf0ab615445791eb",
       "version_major": 2,
       "version_minor": 0
      },
      "text/plain": [
       "  0%|          | 0/3000 [00:00<?, ?it/s]"
      ]
     },
     "metadata": {},
     "output_type": "display_data"
    },
    {
     "name": "stdout",
     "output_type": "stream",
     "text": [
      "0.00029898301511233977\n"
     ]
    },
    {
     "data": {
      "application/vnd.jupyter.widget-view+json": {
       "model_id": "379a0efb0997460ab85631b7979ddbd5",
       "version_major": 2,
       "version_minor": 0
      },
      "text/plain": [
       "  0%|          | 0/3000 [00:00<?, ?it/s]"
      ]
     },
     "metadata": {},
     "output_type": "display_data"
    },
    {
     "name": "stdout",
     "output_type": "stream",
     "text": [
      "0.0002596411581261083\n"
     ]
    },
    {
     "data": {
      "application/vnd.jupyter.widget-view+json": {
       "model_id": "2852178681d44e7bbf53e26758546636",
       "version_major": 2,
       "version_minor": 0
      },
      "text/plain": [
       "  0%|          | 0/3000 [00:00<?, ?it/s]"
      ]
     },
     "metadata": {},
     "output_type": "display_data"
    },
    {
     "name": "stdout",
     "output_type": "stream",
     "text": [
      "0.00023968467592639484\n"
     ]
    },
    {
     "data": {
      "application/vnd.jupyter.widget-view+json": {
       "model_id": "c5ff03f6be2545b381e0ca3e8abb1ab6",
       "version_major": 2,
       "version_minor": 0
      },
      "text/plain": [
       "  0%|          | 0/3000 [00:00<?, ?it/s]"
      ]
     },
     "metadata": {},
     "output_type": "display_data"
    },
    {
     "name": "stdout",
     "output_type": "stream",
     "text": [
      "0.00022950266959747984\n"
     ]
    },
    {
     "data": {
      "application/vnd.jupyter.widget-view+json": {
       "model_id": "7c71e58b31f0405a8d3fd813961ab31e",
       "version_major": 2,
       "version_minor": 0
      },
      "text/plain": [
       "  0%|          | 0/3000 [00:00<?, ?it/s]"
      ]
     },
     "metadata": {},
     "output_type": "display_data"
    },
    {
     "name": "stdout",
     "output_type": "stream",
     "text": [
      "0.0002183327667909728\n"
     ]
    }
   ],
   "source": [
    "n = 3\n",
    "d = 2**n\n",
    "c1 = 0.8\n",
    "c2 = 0.8\n",
    "\n",
    "\n",
    "num_reps = 10\n",
    "shots_list = np.linspace(7, 16, 10)\n",
    "shots_list = 2**shots_list\n",
    "noise_list = 1/np.sqrt(shots_list)\n",
    "noise_list = np.append(noise_list, 0)\n",
    "\n",
    "\n",
    "init_fid_list = np.zeros((len(noise_list), num_reps))\n",
    "povm_fid_list = np.zeros((len(noise_list), num_reps))\n",
    "\n",
    "for i, noise in enumerate(tqdm(noise_list)):\n",
    "    \n",
    "    np.random.seed(42)\n",
    "    random.seed(42)\n",
    "    tf.random.set_seed(42)\n",
    "    for rep in range(num_reps):    \n",
    "        spam_model, spam_target = spam_pipeline(n=n,\n",
    "                                                c1=c1,\n",
    "                                                c2=c2,\n",
    "                                                noise = noise,\n",
    "                                                use_corr=True,\n",
    "                                                num_iter = 2000,\n",
    "                                                )\n",
    "        \n",
    "        init_fid_list[i, rep] = state_fidelity(spam_model.init.init, spam_target.init.init)\n",
    "        povm_fid_list[i, rep] = povm_fidelity(spam_model.povm.povm, spam_target.povm.povm)\n",
    "        \n",
    "#saver([init_fid_list, povm_fid_list], data_path(\"spam_fidelity_3qubit_full.data\"))\n",
    "saver([init_fid_list, povm_fid_list], data_path(\"spam_fidelity_3qubit_corr_retry.data\"))"
   ]
  },
  {
   "cell_type": "markdown",
   "metadata": {},
   "source": [
    "## Four Qubit"
   ]
  },
  {
   "cell_type": "code",
   "execution_count": null,
   "metadata": {},
   "outputs": [
    {
     "data": {
      "application/vnd.jupyter.widget-view+json": {
       "model_id": "69a43a211e584a108450416a86d42702",
       "version_major": 2,
       "version_minor": 0
      },
      "text/plain": [
       "0it [00:00, ?it/s]"
      ]
     },
     "metadata": {},
     "output_type": "display_data"
    },
    {
     "data": {
      "application/vnd.jupyter.widget-view+json": {
       "model_id": "4fb2710f93b04e6280dbaff438b57f57",
       "version_major": 2,
       "version_minor": 0
      },
      "text/plain": [
       "  0%|          | 0/3000 [00:00<?, ?it/s]"
      ]
     },
     "metadata": {},
     "output_type": "display_data"
    }
   ],
   "source": [
    "n = 4\n",
    "d = 2**n\n",
    "c1 = 0.8\n",
    "c2 = 0.8\n",
    "\n",
    "\n",
    "num_reps = 1\n",
    "shots_list = np.linspace(7, 16, 10)\n",
    "shots_list = 2**shots_list\n",
    "noise_list = 1/np.sqrt(shots_list)\n",
    "noise_list = np.append(noise_list, 0)\n",
    "\n",
    "\n",
    "init_fid_list = np.zeros((len(noise_list), num_reps))\n",
    "povm_fid_list = np.zeros((len(noise_list), num_reps))\n",
    "\n",
    "for i, noise in tqdm(enumerate(noise_list)):\n",
    "    \n",
    "    np.random.seed(42)\n",
    "    random.seed(42)\n",
    "    tf.random.set_seed(42)\n",
    "    for rep in range(num_reps):    \n",
    "        spam_model, spam_target = spam_pipeline(n=n,\n",
    "                                                c1=c1,\n",
    "                                                c2=c2,\n",
    "                                                noise = noise,\n",
    "                                                use_corr=False,\n",
    "                                                num_iter = 3000,\n",
    "                                                )\n",
    "        \n",
    "        init_fid_list[i, rep] = state_fidelity(spam_model.init.init, spam_target.init.init)\n",
    "        povm_fid_list[i, rep] = povm_fidelity(spam_model.povm.povm, spam_target.povm.povm)\n",
    "        \n",
    "#saver([init_fid_list, povm_fid_list], data_path(\"spam_fidelity_4qubit_full.data\"))\n",
    "saver([init_fid_list, povm_fid_list], data_path(\"spam_fidelity_4qubit_full_retry.data\"))"
   ]
  },
  {
   "cell_type": "code",
   "execution_count": null,
   "metadata": {},
   "outputs": [],
   "source": [
    "n = 4\n",
    "d = 2**n\n",
    "c1 = 0.8\n",
    "c2 = 0.8\n",
    "\n",
    "\n",
    "num_reps = 1\n",
    "shots_list = np.linspace(7, 16, 10)\n",
    "shots_list = 2**shots_list\n",
    "noise_list = 1/np.sqrt(shots_list)\n",
    "noise_list = np.append(noise_list, 0)\n",
    "\n",
    "\n",
    "init_fid_list = np.zeros((len(noise_list), num_reps))\n",
    "povm_fid_list = np.zeros((len(noise_list), num_reps))\n",
    "\n",
    "for i, noise in tqdm(enumerate(noise_list)):\n",
    "    \n",
    "    np.random.seed(42)\n",
    "    random.seed(42)\n",
    "    tf.random.set_seed(42)\n",
    "    for rep in range(num_reps):    \n",
    "        spam_model, spam_target = spam_pipeline(n=n,\n",
    "                                                c1=c1,\n",
    "                                                c2=c2,\n",
    "                                                noise = noise,\n",
    "                                                use_corr=True,\n",
    "                                                num_iter = 3000,\n",
    "                                                )\n",
    "        \n",
    "        init_fid_list[i, rep] = state_fidelity(spam_model.init.init, spam_target.init.init)\n",
    "        povm_fid_list[i, rep] = povm_fidelity(spam_model.povm.povm, spam_target.povm.povm)\n",
    "        \n",
    "#saver([init_fid_list, povm_fid_list], data_path(\"spam_fidelity_4qubit_corr.data\"))\n",
    "saver([init_fid_list, povm_fid_list], data_path(\"spam_fidelity_4qubit_corr_retry.data\"))"
   ]
  },
  {
   "cell_type": "code",
   "execution_count": null,
   "metadata": {},
   "outputs": [],
   "source": []
  }
 ],
 "metadata": {
  "kernelspec": {
   "display_name": "env_qiskit",
   "language": "python",
   "name": "env_qiskit"
  },
  "language_info": {
   "codemirror_mode": {
    "name": "ipython",
    "version": 3
   },
   "file_extension": ".py",
   "mimetype": "text/x-python",
   "name": "python",
   "nbconvert_exporter": "python",
   "pygments_lexer": "ipython3",
   "version": "3.10.4"
  }
 },
 "nbformat": 4,
 "nbformat_minor": 4
}
