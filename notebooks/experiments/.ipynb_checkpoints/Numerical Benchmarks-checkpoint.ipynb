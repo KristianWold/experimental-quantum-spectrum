{
 "cells": [
  {
   "cell_type": "markdown",
   "metadata": {},
   "source": [
    "# Numerical Benchmarks"
   ]
  },
  {
   "cell_type": "code",
   "execution_count": 1,
   "metadata": {},
   "outputs": [],
   "source": [
    "import sys\n",
    "sys.path.insert(0, '../../src_tf/')\n",
    "\n",
    "import numpy as np\n",
    "import qiskit as qk\n",
    "import matplotlib.pyplot as plt\n",
    "import multiprocessing as mp\n",
    "import random\n",
    "import pickle\n",
    "\n",
    "from qiskit.quantum_info import DensityMatrix\n",
    "from qiskit.quantum_info import Operator\n",
    "from scipy.linalg import sqrtm\n",
    "from tqdm.notebook import tqdm\n",
    "\n",
    "from loss_functions import *\n",
    "from optimization import *\n",
    "from quantum_maps import *\n",
    "from quantum_tools import *\n",
    "from experiments import *\n",
    "#np.set_printoptions(threshold=sys.maxsize)\n",
    "\n",
    "import os\n",
    "os.environ[\"CUDA_VISIBLE_DEVICES\"] = \"-1\""
   ]
  },
  {
   "cell_type": "markdown",
   "metadata": {},
   "source": [
    "## Check Convergence"
   ]
  },
  {
   "cell_type": "markdown",
   "metadata": {},
   "source": [
    "### Overparameterization"
   ]
  },
  {
   "cell_type": "code",
   "execution_count": 2,
   "metadata": {},
   "outputs": [
    {
     "data": {
      "application/vnd.jupyter.widget-view+json": {
       "model_id": "5cb51cc47f434b4b9a66f658f27d809b",
       "version_major": 2,
       "version_minor": 0
      },
      "text/plain": [
       "  0%|          | 0/10 [00:00<?, ?it/s]"
      ]
     },
     "metadata": {},
     "output_type": "display_data"
    },
    {
     "data": {
      "application/vnd.jupyter.widget-view+json": {
       "model_id": "87c57dd05c69426db33d75d89a8bc6b7",
       "version_major": 2,
       "version_minor": 0
      },
      "text/plain": [
       "  0%|          | 0/4000 [00:00<?, ?it/s]"
      ]
     },
     "metadata": {},
     "output_type": "display_data"
    },
    {
     "data": {
      "application/vnd.jupyter.widget-view+json": {
       "model_id": "4515a08f8cd44ed394472396e7caf9af",
       "version_major": 2,
       "version_minor": 0
      },
      "text/plain": [
       "  0%|          | 0/4000 [00:00<?, ?it/s]"
      ]
     },
     "metadata": {},
     "output_type": "display_data"
    },
    {
     "data": {
      "application/vnd.jupyter.widget-view+json": {
       "model_id": "cabdccc3d3f849a686abafd97dc56174",
       "version_major": 2,
       "version_minor": 0
      },
      "text/plain": [
       "  0%|          | 0/4000 [00:00<?, ?it/s]"
      ]
     },
     "metadata": {},
     "output_type": "display_data"
    },
    {
     "data": {
      "application/vnd.jupyter.widget-view+json": {
       "model_id": "8447d009d1c6403a8206149d31a46c03",
       "version_major": 2,
       "version_minor": 0
      },
      "text/plain": [
       "  0%|          | 0/4000 [00:00<?, ?it/s]"
      ]
     },
     "metadata": {},
     "output_type": "display_data"
    },
    {
     "data": {
      "application/vnd.jupyter.widget-view+json": {
       "model_id": "83c03ca40c824b5d9d807ff53bb1dc64",
       "version_major": 2,
       "version_minor": 0
      },
      "text/plain": [
       "  0%|          | 0/4000 [00:00<?, ?it/s]"
      ]
     },
     "metadata": {},
     "output_type": "display_data"
    },
    {
     "data": {
      "application/vnd.jupyter.widget-view+json": {
       "model_id": "48797f3fcf344bd6aa01e98c4b95858b",
       "version_major": 2,
       "version_minor": 0
      },
      "text/plain": [
       "  0%|          | 0/4000 [00:00<?, ?it/s]"
      ]
     },
     "metadata": {},
     "output_type": "display_data"
    },
    {
     "data": {
      "application/vnd.jupyter.widget-view+json": {
       "model_id": "15d74dad805b4bcd819a677c6caffc2d",
       "version_major": 2,
       "version_minor": 0
      },
      "text/plain": [
       "  0%|          | 0/4000 [00:00<?, ?it/s]"
      ]
     },
     "metadata": {},
     "output_type": "display_data"
    },
    {
     "data": {
      "application/vnd.jupyter.widget-view+json": {
       "model_id": "3986b1baa14641dbb743ddd291660f6b",
       "version_major": 2,
       "version_minor": 0
      },
      "text/plain": [
       "  0%|          | 0/4000 [00:00<?, ?it/s]"
      ]
     },
     "metadata": {},
     "output_type": "display_data"
    },
    {
     "data": {
      "application/vnd.jupyter.widget-view+json": {
       "model_id": "e26bd0782ee04ee4b83c2e3a87c1ff5d",
       "version_major": 2,
       "version_minor": 0
      },
      "text/plain": [
       "  0%|          | 0/4000 [00:00<?, ?it/s]"
      ]
     },
     "metadata": {},
     "output_type": "display_data"
    },
    {
     "data": {
      "application/vnd.jupyter.widget-view+json": {
       "model_id": "2ee1745ff950484fb3ec9361e8edb341",
       "version_major": 2,
       "version_minor": 0
      },
      "text/plain": [
       "  0%|          | 0/4000 [00:00<?, ?it/s]"
      ]
     },
     "metadata": {},
     "output_type": "display_data"
    }
   ],
   "source": [
    "n = 3\n",
    "d = 2**n\n",
    "num_reps = 10\n",
    "num_iter = 4000\n",
    "\n",
    "np.random.seed(42)\n",
    "random.seed(42)\n",
    "tf.random.set_seed(42)\n",
    "\n",
    "inputs, _ = generate_pauli_circuits(n = n, \n",
    "                                    circuit_target=None, \n",
    "                                    N = None, \n",
    "                                    trace=False)\n",
    "\n",
    "rank = 3\n",
    "loss_values = np.zeros((num_iter, num_reps))\n",
    "c_values = np.zeros((num_iter, num_reps))\n",
    "\n",
    "\n",
    "for i in tqdm(range(num_reps)):\n",
    "    X, _, _ = generate_ginibre(d, d)\n",
    "    U = generate_unitary(X) # Random unitary part\n",
    "    kraus_target = KrausMap(U, 0.5, d, rank)\n",
    "\n",
    "    states = kraus_target.apply_map(inputs[0])\n",
    "    targets = measurement(states, U_basis = inputs[1])\n",
    "    \n",
    "    c = random.uniform(0,1)\n",
    "    kraus_model = KrausMap(\n",
    "                       U=U, \n",
    "                       c=c, \n",
    "                       d=d, \n",
    "                       rank=d**2-1\n",
    "                      )\n",
    "\n",
    "    model = ModelQuantumMap(\n",
    "                           q_map = kraus_model,\n",
    "                           loss = probs_loss,\n",
    "                           optimizer = tf.optimizers.Adam(learning_rate=0.01),\n",
    "                           )\n",
    "\n",
    "\n",
    "    model.train(inputs = inputs,\n",
    "                targets = targets,\n",
    "                inputs_val = None,\n",
    "                targets_val = [kraus_target],\n",
    "                num_iter = num_iter,\n",
    "                N = 500,\n",
    "                verbose = False,\n",
    "                )\n",
    "    \n",
    "    loss_values[:, i] = np.array(model.loss_list)\n",
    "    c_values[:, i] = np.array(model.c_list)"
   ]
  },
  {
   "cell_type": "code",
   "execution_count": 3,
   "metadata": {},
   "outputs": [],
   "source": [
    "data = [loss_values, c_values]\n",
    "pickle.dump(data, open(\"../../data/compressed_sensing_overparam.p\", \"wb\"))"
   ]
  },
  {
   "cell_type": "markdown",
   "metadata": {},
   "source": [
    "### Under-parameterization"
   ]
  },
  {
   "cell_type": "code",
   "execution_count": 15,
   "metadata": {},
   "outputs": [
    {
     "data": {
      "application/vnd.jupyter.widget-view+json": {
       "model_id": "e239facf69a64b84b2e0df3ed2eb86b3",
       "version_major": 2,
       "version_minor": 0
      },
      "text/plain": [
       "  0%|          | 0/10 [00:00<?, ?it/s]"
      ]
     },
     "metadata": {},
     "output_type": "display_data"
    },
    {
     "data": {
      "application/vnd.jupyter.widget-view+json": {
       "model_id": "f88bdf8871a24f438a1af47048cea93d",
       "version_major": 2,
       "version_minor": 0
      },
      "text/plain": [
       "  0%|          | 0/4000 [00:00<?, ?it/s]"
      ]
     },
     "metadata": {},
     "output_type": "display_data"
    },
    {
     "data": {
      "application/vnd.jupyter.widget-view+json": {
       "model_id": "c25cd4328c4549e8b5a631d87b4814dd",
       "version_major": 2,
       "version_minor": 0
      },
      "text/plain": [
       "  0%|          | 0/4000 [00:00<?, ?it/s]"
      ]
     },
     "metadata": {},
     "output_type": "display_data"
    },
    {
     "data": {
      "application/vnd.jupyter.widget-view+json": {
       "model_id": "f60d389d68514ed18af30e6c4e286fa3",
       "version_major": 2,
       "version_minor": 0
      },
      "text/plain": [
       "  0%|          | 0/4000 [00:00<?, ?it/s]"
      ]
     },
     "metadata": {},
     "output_type": "display_data"
    },
    {
     "ename": "KeyboardInterrupt",
     "evalue": "",
     "output_type": "error",
     "traceback": [
      "\u001b[1;31m---------------------------------------------------------------------------\u001b[0m",
      "\u001b[1;31mKeyboardInterrupt\u001b[0m                         Traceback (most recent call last)",
      "Input \u001b[1;32mIn [15]\u001b[0m, in \u001b[0;36m<cell line: 20>\u001b[1;34m()\u001b[0m\n\u001b[0;32m     29\u001b[0m kraus_model \u001b[38;5;241m=\u001b[39m KrausMap(\n\u001b[0;32m     30\u001b[0m                    U\u001b[38;5;241m=\u001b[39mU, \n\u001b[0;32m     31\u001b[0m                    c\u001b[38;5;241m=\u001b[39mc, \n\u001b[0;32m     32\u001b[0m                    d\u001b[38;5;241m=\u001b[39md, \n\u001b[0;32m     33\u001b[0m                    rank\u001b[38;5;241m=\u001b[39mrank\n\u001b[0;32m     34\u001b[0m                   )\n\u001b[0;32m     36\u001b[0m model \u001b[38;5;241m=\u001b[39m ModelQuantumMap(\n\u001b[0;32m     37\u001b[0m                        q_map \u001b[38;5;241m=\u001b[39m kraus_model,\n\u001b[0;32m     38\u001b[0m                        loss \u001b[38;5;241m=\u001b[39m probs_loss,\n\u001b[0;32m     39\u001b[0m                        optimizer \u001b[38;5;241m=\u001b[39m tf\u001b[38;5;241m.\u001b[39moptimizers\u001b[38;5;241m.\u001b[39mAdam(learning_rate\u001b[38;5;241m=\u001b[39m\u001b[38;5;241m0.01\u001b[39m),\n\u001b[0;32m     40\u001b[0m                        )\n\u001b[1;32m---> 43\u001b[0m \u001b[43mmodel\u001b[49m\u001b[38;5;241;43m.\u001b[39;49m\u001b[43mtrain\u001b[49m\u001b[43m(\u001b[49m\u001b[43minputs\u001b[49m\u001b[43m \u001b[49m\u001b[38;5;241;43m=\u001b[39;49m\u001b[43m \u001b[49m\u001b[43minputs\u001b[49m\u001b[43m,\u001b[49m\n\u001b[0;32m     44\u001b[0m \u001b[43m            \u001b[49m\u001b[43mtargets\u001b[49m\u001b[43m \u001b[49m\u001b[38;5;241;43m=\u001b[39;49m\u001b[43m \u001b[49m\u001b[43mtargets\u001b[49m\u001b[43m,\u001b[49m\n\u001b[0;32m     45\u001b[0m \u001b[43m            \u001b[49m\u001b[43minputs_val\u001b[49m\u001b[43m \u001b[49m\u001b[38;5;241;43m=\u001b[39;49m\u001b[43m \u001b[49m\u001b[38;5;28;43;01mNone\u001b[39;49;00m\u001b[43m,\u001b[49m\n\u001b[0;32m     46\u001b[0m \u001b[43m            \u001b[49m\u001b[43mtargets_val\u001b[49m\u001b[43m \u001b[49m\u001b[38;5;241;43m=\u001b[39;49m\u001b[43m \u001b[49m\u001b[43m[\u001b[49m\u001b[43mkraus_target\u001b[49m\u001b[43m]\u001b[49m\u001b[43m,\u001b[49m\n\u001b[0;32m     47\u001b[0m \u001b[43m            \u001b[49m\u001b[43mnum_iter\u001b[49m\u001b[43m \u001b[49m\u001b[38;5;241;43m=\u001b[39;49m\u001b[43m \u001b[49m\u001b[43mnum_iter\u001b[49m\u001b[43m,\u001b[49m\n\u001b[0;32m     48\u001b[0m \u001b[43m            \u001b[49m\u001b[43mN\u001b[49m\u001b[43m \u001b[49m\u001b[38;5;241;43m=\u001b[39;49m\u001b[43m \u001b[49m\u001b[38;5;241;43m500\u001b[39;49m\u001b[43m,\u001b[49m\n\u001b[0;32m     49\u001b[0m \u001b[43m            \u001b[49m\u001b[43mverbose\u001b[49m\u001b[43m \u001b[49m\u001b[38;5;241;43m=\u001b[39;49m\u001b[43m \u001b[49m\u001b[38;5;28;43;01mFalse\u001b[39;49;00m\u001b[43m,\u001b[49m\n\u001b[0;32m     50\u001b[0m \u001b[43m            \u001b[49m\u001b[43m)\u001b[49m\n\u001b[0;32m     52\u001b[0m loss_values[:, i] \u001b[38;5;241m=\u001b[39m np\u001b[38;5;241m.\u001b[39marray(model\u001b[38;5;241m.\u001b[39mloss_list)\n\u001b[0;32m     53\u001b[0m c_values[:, i] \u001b[38;5;241m=\u001b[39m np\u001b[38;5;241m.\u001b[39marray(model\u001b[38;5;241m.\u001b[39mc_list)\n",
      "File \u001b[1;32m~\\Documents\\ModelNISQ\\notebooks\\experiments\\../../src_tf\\optimization.py:64\u001b[0m, in \u001b[0;36mModelQuantumMap.train\u001b[1;34m(self, inputs, targets, inputs_val, targets_val, num_iter, N, verbose)\u001b[0m\n\u001b[0;32m     62\u001b[0m     \u001b[38;5;28;01mpass\u001b[39;00m\n\u001b[0;32m     63\u001b[0m \u001b[38;5;28;01melif\u001b[39;00m \u001b[38;5;28mlen\u001b[39m(targets_val) \u001b[38;5;241m==\u001b[39m \u001b[38;5;241m1\u001b[39m:\n\u001b[1;32m---> 64\u001b[0m     loss \u001b[38;5;241m=\u001b[39m channel_fidelity(\u001b[38;5;28mself\u001b[39m\u001b[38;5;241m.\u001b[39mq_map, targets_val[\u001b[38;5;241m0\u001b[39m])\n\u001b[0;32m     67\u001b[0m \u001b[38;5;28mself\u001b[39m\u001b[38;5;241m.\u001b[39mloss_list\u001b[38;5;241m.\u001b[39mappend(np\u001b[38;5;241m.\u001b[39mabs(loss\u001b[38;5;241m.\u001b[39mnumpy()))\n\u001b[0;32m     68\u001b[0m \u001b[38;5;28;01mif\u001b[39;00m \u001b[38;5;28mself\u001b[39m\u001b[38;5;241m.\u001b[39mq_map\u001b[38;5;241m.\u001b[39mc \u001b[38;5;129;01mis\u001b[39;00m \u001b[38;5;129;01mnot\u001b[39;00m \u001b[38;5;28;01mNone\u001b[39;00m: \n",
      "File \u001b[1;32m~\\Documents\\ModelNISQ\\notebooks\\experiments\\../../src_tf\\quantum_tools.py:35\u001b[0m, in \u001b[0;36mchannel_fidelity\u001b[1;34m(map_A, map_B)\u001b[0m\n\u001b[0;32m     34\u001b[0m \u001b[38;5;28;01mdef\u001b[39;00m \u001b[38;5;21mchannel_fidelity\u001b[39m(map_A, map_B):\n\u001b[1;32m---> 35\u001b[0m     choi_A \u001b[38;5;241m=\u001b[39m \u001b[43mmaps_to_choi\u001b[49m\u001b[43m(\u001b[49m\u001b[43m[\u001b[49m\u001b[43mmap_A\u001b[49m\u001b[43m]\u001b[49m\u001b[43m)\u001b[49m\n\u001b[0;32m     36\u001b[0m     choi_B \u001b[38;5;241m=\u001b[39m maps_to_choi([map_B])\n\u001b[0;32m     37\u001b[0m     d_squared \u001b[38;5;241m=\u001b[39m choi_A\u001b[38;5;241m.\u001b[39mshape[\u001b[38;5;241m0\u001b[39m]\n",
      "File \u001b[1;32m~\\Documents\\ModelNISQ\\notebooks\\experiments\\../../src_tf\\quantum_tools.py:57\u001b[0m, in \u001b[0;36mmaps_to_choi\u001b[1;34m(map_list)\u001b[0m\n\u001b[0;32m     55\u001b[0m     M_prime \u001b[38;5;241m=\u001b[39m \u001b[38;5;28mmap\u001b[39m\u001b[38;5;241m.\u001b[39mapply_map(M_prime)\n\u001b[0;32m     56\u001b[0m \u001b[38;5;28;01mfor\u001b[39;00m i \u001b[38;5;129;01min\u001b[39;00m \u001b[38;5;28mrange\u001b[39m(d\u001b[38;5;241m*\u001b[39m\u001b[38;5;241m*\u001b[39m\u001b[38;5;241m2\u001b[39m):\n\u001b[1;32m---> 57\u001b[0m     choi \u001b[38;5;241m+\u001b[39m\u001b[38;5;241m=\u001b[39m tf\u001b[38;5;241m.\u001b[39mexperimental\u001b[38;5;241m.\u001b[39mnumpy\u001b[38;5;241m.\u001b[39mkron(M_prime[i], M[i])\n\u001b[0;32m     59\u001b[0m \u001b[38;5;28;01mreturn\u001b[39;00m choi\n",
      "File \u001b[1;32m~\\anaconda3\\envs\\env_qiskit\\lib\\site-packages\\tensorflow\\python\\util\\traceback_utils.py:150\u001b[0m, in \u001b[0;36mfilter_traceback.<locals>.error_handler\u001b[1;34m(*args, **kwargs)\u001b[0m\n\u001b[0;32m    148\u001b[0m filtered_tb \u001b[38;5;241m=\u001b[39m \u001b[38;5;28;01mNone\u001b[39;00m\n\u001b[0;32m    149\u001b[0m \u001b[38;5;28;01mtry\u001b[39;00m:\n\u001b[1;32m--> 150\u001b[0m   \u001b[38;5;28;01mreturn\u001b[39;00m fn(\u001b[38;5;241m*\u001b[39margs, \u001b[38;5;241m*\u001b[39m\u001b[38;5;241m*\u001b[39mkwargs)\n\u001b[0;32m    151\u001b[0m \u001b[38;5;28;01mexcept\u001b[39;00m \u001b[38;5;167;01mException\u001b[39;00m \u001b[38;5;28;01mas\u001b[39;00m e:\n\u001b[0;32m    152\u001b[0m   filtered_tb \u001b[38;5;241m=\u001b[39m _process_traceback_frames(e\u001b[38;5;241m.\u001b[39m__traceback__)\n",
      "File \u001b[1;32m~\\anaconda3\\envs\\env_qiskit\\lib\\site-packages\\tensorflow\\python\\ops\\math_ops.py:1406\u001b[0m, in \u001b[0;36m_OverrideBinaryOperatorHelper.<locals>.binary_op_wrapper\u001b[1;34m(x, y)\u001b[0m\n\u001b[0;32m   1401\u001b[0m \u001b[38;5;28;01mtry\u001b[39;00m:\n\u001b[0;32m   1402\u001b[0m   \u001b[38;5;66;03m# force_same_dtype=False to preserve existing TF behavior\u001b[39;00m\n\u001b[0;32m   1403\u001b[0m   \u001b[38;5;66;03m# TODO(b/178860388): Figure out why binary_op_wrapper and\u001b[39;00m\n\u001b[0;32m   1404\u001b[0m   \u001b[38;5;66;03m#   r_binary_op_wrapper use different force_same_dtype values.\u001b[39;00m\n\u001b[0;32m   1405\u001b[0m   x, y \u001b[38;5;241m=\u001b[39m maybe_promote_tensors(x, y)\n\u001b[1;32m-> 1406\u001b[0m   \u001b[38;5;28;01mreturn\u001b[39;00m \u001b[43mfunc\u001b[49m\u001b[43m(\u001b[49m\u001b[43mx\u001b[49m\u001b[43m,\u001b[49m\u001b[43m \u001b[49m\u001b[43my\u001b[49m\u001b[43m,\u001b[49m\u001b[43m \u001b[49m\u001b[43mname\u001b[49m\u001b[38;5;241;43m=\u001b[39;49m\u001b[43mname\u001b[49m\u001b[43m)\u001b[49m\n\u001b[0;32m   1407\u001b[0m \u001b[38;5;28;01mexcept\u001b[39;00m (\u001b[38;5;167;01mTypeError\u001b[39;00m, \u001b[38;5;167;01mValueError\u001b[39;00m) \u001b[38;5;28;01mas\u001b[39;00m e:\n\u001b[0;32m   1408\u001b[0m   \u001b[38;5;66;03m# Even if dispatching the op failed, the RHS may be a tensor aware\u001b[39;00m\n\u001b[0;32m   1409\u001b[0m   \u001b[38;5;66;03m# object that can implement the operator with knowledge of itself\u001b[39;00m\n\u001b[1;32m   (...)\u001b[0m\n\u001b[0;32m   1412\u001b[0m   \u001b[38;5;66;03m# original error from the LHS, because it may be more\u001b[39;00m\n\u001b[0;32m   1413\u001b[0m   \u001b[38;5;66;03m# informative.\u001b[39;00m\n\u001b[0;32m   1414\u001b[0m   \u001b[38;5;28;01mif\u001b[39;00m \u001b[38;5;28mhasattr\u001b[39m(\u001b[38;5;28mtype\u001b[39m(y), \u001b[38;5;124m\"\u001b[39m\u001b[38;5;124m__r\u001b[39m\u001b[38;5;132;01m%s\u001b[39;00m\u001b[38;5;124m__\u001b[39m\u001b[38;5;124m\"\u001b[39m \u001b[38;5;241m%\u001b[39m op_name):\n",
      "File \u001b[1;32m~\\anaconda3\\envs\\env_qiskit\\lib\\site-packages\\tensorflow\\python\\util\\traceback_utils.py:150\u001b[0m, in \u001b[0;36mfilter_traceback.<locals>.error_handler\u001b[1;34m(*args, **kwargs)\u001b[0m\n\u001b[0;32m    148\u001b[0m filtered_tb \u001b[38;5;241m=\u001b[39m \u001b[38;5;28;01mNone\u001b[39;00m\n\u001b[0;32m    149\u001b[0m \u001b[38;5;28;01mtry\u001b[39;00m:\n\u001b[1;32m--> 150\u001b[0m   \u001b[38;5;28;01mreturn\u001b[39;00m fn(\u001b[38;5;241m*\u001b[39margs, \u001b[38;5;241m*\u001b[39m\u001b[38;5;241m*\u001b[39mkwargs)\n\u001b[0;32m    151\u001b[0m \u001b[38;5;28;01mexcept\u001b[39;00m \u001b[38;5;167;01mException\u001b[39;00m \u001b[38;5;28;01mas\u001b[39;00m e:\n\u001b[0;32m    152\u001b[0m   filtered_tb \u001b[38;5;241m=\u001b[39m _process_traceback_frames(e\u001b[38;5;241m.\u001b[39m__traceback__)\n",
      "File \u001b[1;32m~\\anaconda3\\envs\\env_qiskit\\lib\\site-packages\\tensorflow\\python\\util\\dispatch.py:1082\u001b[0m, in \u001b[0;36madd_dispatch_support.<locals>.decorator.<locals>.op_dispatch_handler\u001b[1;34m(*args, **kwargs)\u001b[0m\n\u001b[0;32m   1080\u001b[0m \u001b[38;5;66;03m# Fallback dispatch system (dispatch v1):\u001b[39;00m\n\u001b[0;32m   1081\u001b[0m \u001b[38;5;28;01mtry\u001b[39;00m:\n\u001b[1;32m-> 1082\u001b[0m   \u001b[38;5;28;01mreturn\u001b[39;00m dispatch_target(\u001b[38;5;241m*\u001b[39margs, \u001b[38;5;241m*\u001b[39m\u001b[38;5;241m*\u001b[39mkwargs)\n\u001b[0;32m   1083\u001b[0m \u001b[38;5;28;01mexcept\u001b[39;00m (\u001b[38;5;167;01mTypeError\u001b[39;00m, \u001b[38;5;167;01mValueError\u001b[39;00m):\n\u001b[0;32m   1084\u001b[0m   \u001b[38;5;66;03m# Note: convert_to_eager_tensor currently raises a ValueError, not a\u001b[39;00m\n\u001b[0;32m   1085\u001b[0m   \u001b[38;5;66;03m# TypeError, when given unexpected types.  So we need to catch both.\u001b[39;00m\n\u001b[0;32m   1086\u001b[0m   result \u001b[38;5;241m=\u001b[39m dispatch(op_dispatch_handler, args, kwargs)\n",
      "File \u001b[1;32m~\\anaconda3\\envs\\env_qiskit\\lib\\site-packages\\tensorflow\\python\\ops\\math_ops.py:1756\u001b[0m, in \u001b[0;36m_add_dispatch\u001b[1;34m(x, y, name)\u001b[0m\n\u001b[0;32m   1754\u001b[0m   \u001b[38;5;28;01mreturn\u001b[39;00m gen_math_ops\u001b[38;5;241m.\u001b[39madd(x, y, name\u001b[38;5;241m=\u001b[39mname)\n\u001b[0;32m   1755\u001b[0m \u001b[38;5;28;01melse\u001b[39;00m:\n\u001b[1;32m-> 1756\u001b[0m   \u001b[38;5;28;01mreturn\u001b[39;00m \u001b[43mgen_math_ops\u001b[49m\u001b[38;5;241;43m.\u001b[39;49m\u001b[43madd_v2\u001b[49m\u001b[43m(\u001b[49m\u001b[43mx\u001b[49m\u001b[43m,\u001b[49m\u001b[43m \u001b[49m\u001b[43my\u001b[49m\u001b[43m,\u001b[49m\u001b[43m \u001b[49m\u001b[43mname\u001b[49m\u001b[38;5;241;43m=\u001b[39;49m\u001b[43mname\u001b[49m\u001b[43m)\u001b[49m\n",
      "File \u001b[1;32m~\\anaconda3\\envs\\env_qiskit\\lib\\site-packages\\tensorflow\\python\\ops\\gen_math_ops.py:461\u001b[0m, in \u001b[0;36madd_v2\u001b[1;34m(x, y, name)\u001b[0m\n\u001b[0;32m    459\u001b[0m \u001b[38;5;28;01mif\u001b[39;00m tld\u001b[38;5;241m.\u001b[39mis_eager:\n\u001b[0;32m    460\u001b[0m   \u001b[38;5;28;01mtry\u001b[39;00m:\n\u001b[1;32m--> 461\u001b[0m     _result \u001b[38;5;241m=\u001b[39m \u001b[43mpywrap_tfe\u001b[49m\u001b[38;5;241;43m.\u001b[39;49m\u001b[43mTFE_Py_FastPathExecute\u001b[49m\u001b[43m(\u001b[49m\n\u001b[0;32m    462\u001b[0m \u001b[43m      \u001b[49m\u001b[43m_ctx\u001b[49m\u001b[43m,\u001b[49m\u001b[43m \u001b[49m\u001b[38;5;124;43m\"\u001b[39;49m\u001b[38;5;124;43mAddV2\u001b[39;49m\u001b[38;5;124;43m\"\u001b[39;49m\u001b[43m,\u001b[49m\u001b[43m \u001b[49m\u001b[43mname\u001b[49m\u001b[43m,\u001b[49m\u001b[43m \u001b[49m\u001b[43mx\u001b[49m\u001b[43m,\u001b[49m\u001b[43m \u001b[49m\u001b[43my\u001b[49m\u001b[43m)\u001b[49m\n\u001b[0;32m    463\u001b[0m     \u001b[38;5;28;01mreturn\u001b[39;00m _result\n\u001b[0;32m    464\u001b[0m   \u001b[38;5;28;01mexcept\u001b[39;00m _core\u001b[38;5;241m.\u001b[39m_NotOkStatusException \u001b[38;5;28;01mas\u001b[39;00m e:\n",
      "\u001b[1;31mKeyboardInterrupt\u001b[0m: "
     ]
    }
   ],
   "source": [
    "n = 3\n",
    "d = 2**n\n",
    "num_reps = 10\n",
    "num_iter = 4000\n",
    "\n",
    "np.random.seed(42)\n",
    "random.seed(42)\n",
    "tf.random.set_seed(42)\n",
    "\n",
    "inputs, _ = generate_pauli_circuits(n = n, \n",
    "                                    circuit_target=None, \n",
    "                                    N = None, \n",
    "                                    trace=False)\n",
    "\n",
    "rank = 3\n",
    "loss_values = np.zeros((num_iter, num_reps))\n",
    "c_values = np.zeros((num_iter, num_reps))\n",
    "\n",
    "\n",
    "for i in tqdm(range(num_reps)):\n",
    "    X, _, _ = generate_ginibre(d, d)\n",
    "    U = generate_unitary(X) # Random unitary part\n",
    "    kraus_target = KrausMap(U, 0.5, d, rank=7)\n",
    "\n",
    "    states = kraus_target.apply_map(inputs[0])\n",
    "    targets = measurement(states, U_basis = inputs[1])\n",
    "    \n",
    "    c = random.uniform(0,1)\n",
    "    kraus_model = KrausMap(\n",
    "                       U=U, \n",
    "                       c=c, \n",
    "                       d=d, \n",
    "                       rank=rank\n",
    "                      )\n",
    "\n",
    "    model = ModelQuantumMap(\n",
    "                           q_map = kraus_model,\n",
    "                           loss = probs_loss,\n",
    "                           optimizer = tf.optimizers.Adam(learning_rate=0.01),\n",
    "                           )\n",
    "\n",
    "\n",
    "    model.train(inputs = inputs,\n",
    "                targets = targets,\n",
    "                inputs_val = None,\n",
    "                targets_val = [kraus_target],\n",
    "                num_iter = num_iter,\n",
    "                N = 500,\n",
    "                verbose = False,\n",
    "                )\n",
    "    \n",
    "    loss_values[:, i] = np.array(model.loss_list)\n",
    "    c_values[:, i] = np.array(model.c_list)"
   ]
  },
  {
   "cell_type": "code",
   "execution_count": null,
   "metadata": {},
   "outputs": [],
   "source": [
    "data = [loss_values, c_values]\n",
    "pickle.dump(data, open(\"../../data/compressed_sensing_underparam.p\", \"wb\"))"
   ]
  },
  {
   "cell_type": "markdown",
   "metadata": {},
   "source": [
    "## Sparse Input\n",
    "### Generate Data"
   ]
  },
  {
   "cell_type": "code",
   "execution_count": 6,
   "metadata": {},
   "outputs": [],
   "source": [
    "np.random.seed(42)\n",
    "random.seed(42)\n",
    "\n",
    "N_list = [int(16*2**(i/4)) for i in range(21)]\n",
    "num_reps = 10"
   ]
  },
  {
   "cell_type": "markdown",
   "metadata": {},
   "source": [
    "### Low Rank"
   ]
  },
  {
   "cell_type": "code",
   "execution_count": 7,
   "metadata": {
    "scrolled": true
   },
   "outputs": [
    {
     "data": {
      "application/vnd.jupyter.widget-view+json": {
       "model_id": "f6fbb9997ec54305bf83f23d19d72282",
       "version_major": 2,
       "version_minor": 0
      },
      "text/plain": [
       "  0%|          | 0/10 [00:00<?, ?it/s]"
      ]
     },
     "metadata": {},
     "output_type": "display_data"
    },
    {
     "data": {
      "application/vnd.jupyter.widget-view+json": {
       "model_id": "f1d59ed82cc14f44a41e126f6d1c4543",
       "version_major": 2,
       "version_minor": 0
      },
      "text/plain": [
       "  0%|          | 0/4000 [00:00<?, ?it/s]"
      ]
     },
     "metadata": {},
     "output_type": "display_data"
    },
    {
     "data": {
      "application/vnd.jupyter.widget-view+json": {
       "model_id": "681436029ca74d73b8f4687d2c007075",
       "version_major": 2,
       "version_minor": 0
      },
      "text/plain": [
       "  0%|          | 0/4000 [00:00<?, ?it/s]"
      ]
     },
     "metadata": {},
     "output_type": "display_data"
    },
    {
     "data": {
      "application/vnd.jupyter.widget-view+json": {
       "model_id": "a8aac09eab7e4eb2b2e9fdbc7e8c1381",
       "version_major": 2,
       "version_minor": 0
      },
      "text/plain": [
       "  0%|          | 0/4000 [00:00<?, ?it/s]"
      ]
     },
     "metadata": {},
     "output_type": "display_data"
    },
    {
     "data": {
      "application/vnd.jupyter.widget-view+json": {
       "model_id": "778ead2a1d2d4624b8a6fe01d2c762ba",
       "version_major": 2,
       "version_minor": 0
      },
      "text/plain": [
       "  0%|          | 0/4000 [00:00<?, ?it/s]"
      ]
     },
     "metadata": {},
     "output_type": "display_data"
    },
    {
     "data": {
      "application/vnd.jupyter.widget-view+json": {
       "model_id": "6a9889f7b7164314b4aafdc03e24b1ab",
       "version_major": 2,
       "version_minor": 0
      },
      "text/plain": [
       "  0%|          | 0/4000 [00:00<?, ?it/s]"
      ]
     },
     "metadata": {},
     "output_type": "display_data"
    },
    {
     "data": {
      "application/vnd.jupyter.widget-view+json": {
       "model_id": "90b7765cf81f4cfc85435f0fc7cabae7",
       "version_major": 2,
       "version_minor": 0
      },
      "text/plain": [
       "  0%|          | 0/4000 [00:00<?, ?it/s]"
      ]
     },
     "metadata": {},
     "output_type": "display_data"
    },
    {
     "data": {
      "application/vnd.jupyter.widget-view+json": {
       "model_id": "c2f7741b6a7c423fa42e580a8d5d0c48",
       "version_major": 2,
       "version_minor": 0
      },
      "text/plain": [
       "  0%|          | 0/4000 [00:00<?, ?it/s]"
      ]
     },
     "metadata": {},
     "output_type": "display_data"
    },
    {
     "data": {
      "application/vnd.jupyter.widget-view+json": {
       "model_id": "9db3914cf7ac43398a36be114ef25637",
       "version_major": 2,
       "version_minor": 0
      },
      "text/plain": [
       "  0%|          | 0/4000 [00:00<?, ?it/s]"
      ]
     },
     "metadata": {},
     "output_type": "display_data"
    },
    {
     "data": {
      "application/vnd.jupyter.widget-view+json": {
       "model_id": "96a27408ae2d4427acd17819d64ccef7",
       "version_major": 2,
       "version_minor": 0
      },
      "text/plain": [
       "  0%|          | 0/4000 [00:00<?, ?it/s]"
      ]
     },
     "metadata": {},
     "output_type": "display_data"
    },
    {
     "data": {
      "application/vnd.jupyter.widget-view+json": {
       "model_id": "c736b0912cdd4476867deff8a0c4f88d",
       "version_major": 2,
       "version_minor": 0
      },
      "text/plain": [
       "  0%|          | 0/4000 [00:00<?, ?it/s]"
      ]
     },
     "metadata": {},
     "output_type": "display_data"
    },
    {
     "data": {
      "application/vnd.jupyter.widget-view+json": {
       "model_id": "3b035c621c3a4fc4a23bea0194e3f94d",
       "version_major": 2,
       "version_minor": 0
      },
      "text/plain": [
       "  0%|          | 0/4000 [00:00<?, ?it/s]"
      ]
     },
     "metadata": {},
     "output_type": "display_data"
    },
    {
     "data": {
      "application/vnd.jupyter.widget-view+json": {
       "model_id": "0af9c08839f345748d0619792a642fa7",
       "version_major": 2,
       "version_minor": 0
      },
      "text/plain": [
       "  0%|          | 0/4000 [00:00<?, ?it/s]"
      ]
     },
     "metadata": {},
     "output_type": "display_data"
    },
    {
     "data": {
      "application/vnd.jupyter.widget-view+json": {
       "model_id": "896bf2d98fe34157a8381f47319b5e44",
       "version_major": 2,
       "version_minor": 0
      },
      "text/plain": [
       "  0%|          | 0/4000 [00:00<?, ?it/s]"
      ]
     },
     "metadata": {},
     "output_type": "display_data"
    },
    {
     "data": {
      "application/vnd.jupyter.widget-view+json": {
       "model_id": "d0aec32c2ba549ccae539bcf72d52da4",
       "version_major": 2,
       "version_minor": 0
      },
      "text/plain": [
       "  0%|          | 0/4000 [00:00<?, ?it/s]"
      ]
     },
     "metadata": {},
     "output_type": "display_data"
    },
    {
     "data": {
      "application/vnd.jupyter.widget-view+json": {
       "model_id": "17d9c0552c41484788dc722a416a1496",
       "version_major": 2,
       "version_minor": 0
      },
      "text/plain": [
       "  0%|          | 0/4000 [00:00<?, ?it/s]"
      ]
     },
     "metadata": {},
     "output_type": "display_data"
    },
    {
     "data": {
      "application/vnd.jupyter.widget-view+json": {
       "model_id": "ee26bfc0908747dd9091df252afcbf55",
       "version_major": 2,
       "version_minor": 0
      },
      "text/plain": [
       "  0%|          | 0/4000 [00:00<?, ?it/s]"
      ]
     },
     "metadata": {},
     "output_type": "display_data"
    },
    {
     "data": {
      "application/vnd.jupyter.widget-view+json": {
       "model_id": "20b3582727384c73a0d96d77f00ed96e",
       "version_major": 2,
       "version_minor": 0
      },
      "text/plain": [
       "  0%|          | 0/4000 [00:00<?, ?it/s]"
      ]
     },
     "metadata": {},
     "output_type": "display_data"
    },
    {
     "data": {
      "application/vnd.jupyter.widget-view+json": {
       "model_id": "01509a29b95948faa18579941299a3ba",
       "version_major": 2,
       "version_minor": 0
      },
      "text/plain": [
       "  0%|          | 0/4000 [00:00<?, ?it/s]"
      ]
     },
     "metadata": {},
     "output_type": "display_data"
    },
    {
     "data": {
      "application/vnd.jupyter.widget-view+json": {
       "model_id": "f7f5814849c3408c872a0a81a80e826c",
       "version_major": 2,
       "version_minor": 0
      },
      "text/plain": [
       "  0%|          | 0/4000 [00:00<?, ?it/s]"
      ]
     },
     "metadata": {},
     "output_type": "display_data"
    },
    {
     "data": {
      "application/vnd.jupyter.widget-view+json": {
       "model_id": "0f27e7119b45438682d5aaa2fb1147ff",
       "version_major": 2,
       "version_minor": 0
      },
      "text/plain": [
       "  0%|          | 0/4000 [00:00<?, ?it/s]"
      ]
     },
     "metadata": {},
     "output_type": "display_data"
    },
    {
     "data": {
      "application/vnd.jupyter.widget-view+json": {
       "model_id": "e4b3db008c1545c5ab388006f1a48be6",
       "version_major": 2,
       "version_minor": 0
      },
      "text/plain": [
       "  0%|          | 0/4000 [00:00<?, ?it/s]"
      ]
     },
     "metadata": {},
     "output_type": "display_data"
    },
    {
     "data": {
      "application/vnd.jupyter.widget-view+json": {
       "model_id": "8e7b0785dd6542fcb29061df816695eb",
       "version_major": 2,
       "version_minor": 0
      },
      "text/plain": [
       "  0%|          | 0/4000 [00:00<?, ?it/s]"
      ]
     },
     "metadata": {},
     "output_type": "display_data"
    },
    {
     "data": {
      "application/vnd.jupyter.widget-view+json": {
       "model_id": "71d64eaffcc448b79b6920f766194fed",
       "version_major": 2,
       "version_minor": 0
      },
      "text/plain": [
       "  0%|          | 0/4000 [00:00<?, ?it/s]"
      ]
     },
     "metadata": {},
     "output_type": "display_data"
    },
    {
     "data": {
      "application/vnd.jupyter.widget-view+json": {
       "model_id": "8e23767a1aa44e57b4e6885bb934c112",
       "version_major": 2,
       "version_minor": 0
      },
      "text/plain": [
       "  0%|          | 0/4000 [00:00<?, ?it/s]"
      ]
     },
     "metadata": {},
     "output_type": "display_data"
    },
    {
     "data": {
      "application/vnd.jupyter.widget-view+json": {
       "model_id": "334143f739a84c4fab777d07c8f226d0",
       "version_major": 2,
       "version_minor": 0
      },
      "text/plain": [
       "  0%|          | 0/4000 [00:00<?, ?it/s]"
      ]
     },
     "metadata": {},
     "output_type": "display_data"
    },
    {
     "data": {
      "application/vnd.jupyter.widget-view+json": {
       "model_id": "836e36a4ae544ebeb20b62a8e2f7d7c4",
       "version_major": 2,
       "version_minor": 0
      },
      "text/plain": [
       "  0%|          | 0/4000 [00:00<?, ?it/s]"
      ]
     },
     "metadata": {},
     "output_type": "display_data"
    },
    {
     "data": {
      "application/vnd.jupyter.widget-view+json": {
       "model_id": "efe5b0a350b349f58e0a339c25e6b8d3",
       "version_major": 2,
       "version_minor": 0
      },
      "text/plain": [
       "  0%|          | 0/4000 [00:00<?, ?it/s]"
      ]
     },
     "metadata": {},
     "output_type": "display_data"
    },
    {
     "data": {
      "application/vnd.jupyter.widget-view+json": {
       "model_id": "f2b89589362849da9824bba7b66073da",
       "version_major": 2,
       "version_minor": 0
      },
      "text/plain": [
       "  0%|          | 0/4000 [00:00<?, ?it/s]"
      ]
     },
     "metadata": {},
     "output_type": "display_data"
    },
    {
     "data": {
      "application/vnd.jupyter.widget-view+json": {
       "model_id": "17938b5f2ecc464d830f2eb66594ebd8",
       "version_major": 2,
       "version_minor": 0
      },
      "text/plain": [
       "  0%|          | 0/4000 [00:00<?, ?it/s]"
      ]
     },
     "metadata": {},
     "output_type": "display_data"
    },
    {
     "data": {
      "application/vnd.jupyter.widget-view+json": {
       "model_id": "17079aa259cf49f3be8951797af2fcac",
       "version_major": 2,
       "version_minor": 0
      },
      "text/plain": [
       "  0%|          | 0/4000 [00:00<?, ?it/s]"
      ]
     },
     "metadata": {},
     "output_type": "display_data"
    },
    {
     "data": {
      "application/vnd.jupyter.widget-view+json": {
       "model_id": "a4cd8034bb9349e6961bce56327c7fd2",
       "version_major": 2,
       "version_minor": 0
      },
      "text/plain": [
       "  0%|          | 0/4000 [00:00<?, ?it/s]"
      ]
     },
     "metadata": {},
     "output_type": "display_data"
    },
    {
     "data": {
      "application/vnd.jupyter.widget-view+json": {
       "model_id": "5f349e0f1ac9488b900daffa8d3cd2e4",
       "version_major": 2,
       "version_minor": 0
      },
      "text/plain": [
       "  0%|          | 0/4000 [00:00<?, ?it/s]"
      ]
     },
     "metadata": {},
     "output_type": "display_data"
    },
    {
     "data": {
      "application/vnd.jupyter.widget-view+json": {
       "model_id": "d187a32a62e746f8bfbf0d38a757a472",
       "version_major": 2,
       "version_minor": 0
      },
      "text/plain": [
       "  0%|          | 0/4000 [00:00<?, ?it/s]"
      ]
     },
     "metadata": {},
     "output_type": "display_data"
    },
    {
     "data": {
      "application/vnd.jupyter.widget-view+json": {
       "model_id": "6645436b3bc54957b7c0adc0d41ab950",
       "version_major": 2,
       "version_minor": 0
      },
      "text/plain": [
       "  0%|          | 0/4000 [00:00<?, ?it/s]"
      ]
     },
     "metadata": {},
     "output_type": "display_data"
    },
    {
     "data": {
      "application/vnd.jupyter.widget-view+json": {
       "model_id": "5f84dd8ceb124f209e65aaacdb418786",
       "version_major": 2,
       "version_minor": 0
      },
      "text/plain": [
       "  0%|          | 0/4000 [00:00<?, ?it/s]"
      ]
     },
     "metadata": {},
     "output_type": "display_data"
    },
    {
     "data": {
      "application/vnd.jupyter.widget-view+json": {
       "model_id": "920cb7d21037466c94e006bd22b35b8e",
       "version_major": 2,
       "version_minor": 0
      },
      "text/plain": [
       "  0%|          | 0/4000 [00:00<?, ?it/s]"
      ]
     },
     "metadata": {},
     "output_type": "display_data"
    },
    {
     "data": {
      "application/vnd.jupyter.widget-view+json": {
       "model_id": "7fb3e84415ca4555bb658f5c1c1f8c97",
       "version_major": 2,
       "version_minor": 0
      },
      "text/plain": [
       "  0%|          | 0/4000 [00:00<?, ?it/s]"
      ]
     },
     "metadata": {},
     "output_type": "display_data"
    },
    {
     "data": {
      "application/vnd.jupyter.widget-view+json": {
       "model_id": "44af7e7feb174c778449924e3a419782",
       "version_major": 2,
       "version_minor": 0
      },
      "text/plain": [
       "  0%|          | 0/4000 [00:00<?, ?it/s]"
      ]
     },
     "metadata": {},
     "output_type": "display_data"
    },
    {
     "data": {
      "application/vnd.jupyter.widget-view+json": {
       "model_id": "550a6a984efc48b987a137b159f13400",
       "version_major": 2,
       "version_minor": 0
      },
      "text/plain": [
       "  0%|          | 0/4000 [00:00<?, ?it/s]"
      ]
     },
     "metadata": {},
     "output_type": "display_data"
    },
    {
     "data": {
      "application/vnd.jupyter.widget-view+json": {
       "model_id": "d4f93912eae844ec9c6701f399b0aeab",
       "version_major": 2,
       "version_minor": 0
      },
      "text/plain": [
       "  0%|          | 0/4000 [00:00<?, ?it/s]"
      ]
     },
     "metadata": {},
     "output_type": "display_data"
    },
    {
     "data": {
      "application/vnd.jupyter.widget-view+json": {
       "model_id": "5d2395e1311d477da38b8615ab5807fc",
       "version_major": 2,
       "version_minor": 0
      },
      "text/plain": [
       "  0%|          | 0/4000 [00:00<?, ?it/s]"
      ]
     },
     "metadata": {},
     "output_type": "display_data"
    },
    {
     "data": {
      "application/vnd.jupyter.widget-view+json": {
       "model_id": "51b39151f11145f084ec2dc2ade06b90",
       "version_major": 2,
       "version_minor": 0
      },
      "text/plain": [
       "  0%|          | 0/4000 [00:00<?, ?it/s]"
      ]
     },
     "metadata": {},
     "output_type": "display_data"
    },
    {
     "data": {
      "application/vnd.jupyter.widget-view+json": {
       "model_id": "31a3ded5eb8f4326bdef1b68c5b448be",
       "version_major": 2,
       "version_minor": 0
      },
      "text/plain": [
       "  0%|          | 0/4000 [00:00<?, ?it/s]"
      ]
     },
     "metadata": {},
     "output_type": "display_data"
    },
    {
     "data": {
      "application/vnd.jupyter.widget-view+json": {
       "model_id": "15256c3414de4e0380ecac60ed79629d",
       "version_major": 2,
       "version_minor": 0
      },
      "text/plain": [
       "  0%|          | 0/4000 [00:00<?, ?it/s]"
      ]
     },
     "metadata": {},
     "output_type": "display_data"
    },
    {
     "data": {
      "application/vnd.jupyter.widget-view+json": {
       "model_id": "13b00afbe7574d83b02ff70487d0e6d8",
       "version_major": 2,
       "version_minor": 0
      },
      "text/plain": [
       "  0%|          | 0/4000 [00:00<?, ?it/s]"
      ]
     },
     "metadata": {},
     "output_type": "display_data"
    },
    {
     "data": {
      "application/vnd.jupyter.widget-view+json": {
       "model_id": "f956aa6481344aafa63db8812ee343cf",
       "version_major": 2,
       "version_minor": 0
      },
      "text/plain": [
       "  0%|          | 0/4000 [00:00<?, ?it/s]"
      ]
     },
     "metadata": {},
     "output_type": "display_data"
    },
    {
     "data": {
      "application/vnd.jupyter.widget-view+json": {
       "model_id": "0c123d82f18a4242859bb193aa2c6db6",
       "version_major": 2,
       "version_minor": 0
      },
      "text/plain": [
       "  0%|          | 0/4000 [00:00<?, ?it/s]"
      ]
     },
     "metadata": {},
     "output_type": "display_data"
    },
    {
     "data": {
      "application/vnd.jupyter.widget-view+json": {
       "model_id": "6e3ecd83bb8c45eeb0b2325888b3b4eb",
       "version_major": 2,
       "version_minor": 0
      },
      "text/plain": [
       "  0%|          | 0/4000 [00:00<?, ?it/s]"
      ]
     },
     "metadata": {},
     "output_type": "display_data"
    },
    {
     "data": {
      "application/vnd.jupyter.widget-view+json": {
       "model_id": "64072558946e4bc1990370482e0a31f5",
       "version_major": 2,
       "version_minor": 0
      },
      "text/plain": [
       "  0%|          | 0/4000 [00:00<?, ?it/s]"
      ]
     },
     "metadata": {},
     "output_type": "display_data"
    },
    {
     "data": {
      "application/vnd.jupyter.widget-view+json": {
       "model_id": "eacae68ebc71408e8caf118aed311517",
       "version_major": 2,
       "version_minor": 0
      },
      "text/plain": [
       "  0%|          | 0/4000 [00:00<?, ?it/s]"
      ]
     },
     "metadata": {},
     "output_type": "display_data"
    },
    {
     "data": {
      "application/vnd.jupyter.widget-view+json": {
       "model_id": "e94412b0a94048b293531dd9bf16c9b3",
       "version_major": 2,
       "version_minor": 0
      },
      "text/plain": [
       "  0%|          | 0/4000 [00:00<?, ?it/s]"
      ]
     },
     "metadata": {},
     "output_type": "display_data"
    },
    {
     "data": {
      "application/vnd.jupyter.widget-view+json": {
       "model_id": "c5a564c3b7ed42ceb50024ca26ea0fe4",
       "version_major": 2,
       "version_minor": 0
      },
      "text/plain": [
       "  0%|          | 0/4000 [00:00<?, ?it/s]"
      ]
     },
     "metadata": {},
     "output_type": "display_data"
    },
    {
     "data": {
      "application/vnd.jupyter.widget-view+json": {
       "model_id": "5b5ffa2dd14542f5a45ecc6d006fb4f4",
       "version_major": 2,
       "version_minor": 0
      },
      "text/plain": [
       "  0%|          | 0/4000 [00:00<?, ?it/s]"
      ]
     },
     "metadata": {},
     "output_type": "display_data"
    },
    {
     "data": {
      "application/vnd.jupyter.widget-view+json": {
       "model_id": "e1a77c5fd7884c95940c2817b110393c",
       "version_major": 2,
       "version_minor": 0
      },
      "text/plain": [
       "  0%|          | 0/4000 [00:00<?, ?it/s]"
      ]
     },
     "metadata": {},
     "output_type": "display_data"
    },
    {
     "data": {
      "application/vnd.jupyter.widget-view+json": {
       "model_id": "f8c20fecc634454fb048cc95a5ec12a5",
       "version_major": 2,
       "version_minor": 0
      },
      "text/plain": [
       "  0%|          | 0/4000 [00:00<?, ?it/s]"
      ]
     },
     "metadata": {},
     "output_type": "display_data"
    },
    {
     "data": {
      "application/vnd.jupyter.widget-view+json": {
       "model_id": "5fe641e031e04e51b448777e28c84275",
       "version_major": 2,
       "version_minor": 0
      },
      "text/plain": [
       "  0%|          | 0/4000 [00:00<?, ?it/s]"
      ]
     },
     "metadata": {},
     "output_type": "display_data"
    },
    {
     "data": {
      "application/vnd.jupyter.widget-view+json": {
       "model_id": "af4216898e494dd9bc6ca5985987e17e",
       "version_major": 2,
       "version_minor": 0
      },
      "text/plain": [
       "  0%|          | 0/4000 [00:00<?, ?it/s]"
      ]
     },
     "metadata": {},
     "output_type": "display_data"
    },
    {
     "data": {
      "application/vnd.jupyter.widget-view+json": {
       "model_id": "84f0149b8e4d49a58788d00e4adeda71",
       "version_major": 2,
       "version_minor": 0
      },
      "text/plain": [
       "  0%|          | 0/4000 [00:00<?, ?it/s]"
      ]
     },
     "metadata": {},
     "output_type": "display_data"
    },
    {
     "data": {
      "application/vnd.jupyter.widget-view+json": {
       "model_id": "057c08e39c27405984adc17f01ea32ae",
       "version_major": 2,
       "version_minor": 0
      },
      "text/plain": [
       "  0%|          | 0/4000 [00:00<?, ?it/s]"
      ]
     },
     "metadata": {},
     "output_type": "display_data"
    },
    {
     "data": {
      "application/vnd.jupyter.widget-view+json": {
       "model_id": "f0db0d2b3b444de79223cdad36276930",
       "version_major": 2,
       "version_minor": 0
      },
      "text/plain": [
       "  0%|          | 0/4000 [00:00<?, ?it/s]"
      ]
     },
     "metadata": {},
     "output_type": "display_data"
    },
    {
     "data": {
      "application/vnd.jupyter.widget-view+json": {
       "model_id": "dc3f7c90f08d4dd18dbc241bc19f7cce",
       "version_major": 2,
       "version_minor": 0
      },
      "text/plain": [
       "  0%|          | 0/4000 [00:00<?, ?it/s]"
      ]
     },
     "metadata": {},
     "output_type": "display_data"
    },
    {
     "data": {
      "application/vnd.jupyter.widget-view+json": {
       "model_id": "c785135e333f490b843c23560c25453a",
       "version_major": 2,
       "version_minor": 0
      },
      "text/plain": [
       "  0%|          | 0/4000 [00:00<?, ?it/s]"
      ]
     },
     "metadata": {},
     "output_type": "display_data"
    },
    {
     "data": {
      "application/vnd.jupyter.widget-view+json": {
       "model_id": "4b055601cf4d4e338db71ebc2ba27cd8",
       "version_major": 2,
       "version_minor": 0
      },
      "text/plain": [
       "  0%|          | 0/4000 [00:00<?, ?it/s]"
      ]
     },
     "metadata": {},
     "output_type": "display_data"
    },
    {
     "data": {
      "application/vnd.jupyter.widget-view+json": {
       "model_id": "4e599016e5094deeae127c38dca23554",
       "version_major": 2,
       "version_minor": 0
      },
      "text/plain": [
       "  0%|          | 0/4000 [00:00<?, ?it/s]"
      ]
     },
     "metadata": {},
     "output_type": "display_data"
    },
    {
     "data": {
      "application/vnd.jupyter.widget-view+json": {
       "model_id": "479be18f606941528e7e73c4adf354e0",
       "version_major": 2,
       "version_minor": 0
      },
      "text/plain": [
       "  0%|          | 0/4000 [00:00<?, ?it/s]"
      ]
     },
     "metadata": {},
     "output_type": "display_data"
    },
    {
     "data": {
      "application/vnd.jupyter.widget-view+json": {
       "model_id": "1058ec59cc894c118a11d23834a6908d",
       "version_major": 2,
       "version_minor": 0
      },
      "text/plain": [
       "  0%|          | 0/4000 [00:00<?, ?it/s]"
      ]
     },
     "metadata": {},
     "output_type": "display_data"
    },
    {
     "data": {
      "application/vnd.jupyter.widget-view+json": {
       "model_id": "033c585a40824ad8b8b88c7429e5f90b",
       "version_major": 2,
       "version_minor": 0
      },
      "text/plain": [
       "  0%|          | 0/4000 [00:00<?, ?it/s]"
      ]
     },
     "metadata": {},
     "output_type": "display_data"
    },
    {
     "data": {
      "application/vnd.jupyter.widget-view+json": {
       "model_id": "4db6676bb1344b04b61a1dc471de2b5f",
       "version_major": 2,
       "version_minor": 0
      },
      "text/plain": [
       "  0%|          | 0/4000 [00:00<?, ?it/s]"
      ]
     },
     "metadata": {},
     "output_type": "display_data"
    },
    {
     "data": {
      "application/vnd.jupyter.widget-view+json": {
       "model_id": "b51bd229f2414c46b191a231972794b8",
       "version_major": 2,
       "version_minor": 0
      },
      "text/plain": [
       "  0%|          | 0/4000 [00:00<?, ?it/s]"
      ]
     },
     "metadata": {},
     "output_type": "display_data"
    },
    {
     "data": {
      "application/vnd.jupyter.widget-view+json": {
       "model_id": "fbe8659a37d94b85a692f9ad70e499ff",
       "version_major": 2,
       "version_minor": 0
      },
      "text/plain": [
       "  0%|          | 0/4000 [00:00<?, ?it/s]"
      ]
     },
     "metadata": {},
     "output_type": "display_data"
    },
    {
     "data": {
      "application/vnd.jupyter.widget-view+json": {
       "model_id": "0aeb814879cc40f48d8d51349b582237",
       "version_major": 2,
       "version_minor": 0
      },
      "text/plain": [
       "  0%|          | 0/4000 [00:00<?, ?it/s]"
      ]
     },
     "metadata": {},
     "output_type": "display_data"
    },
    {
     "data": {
      "application/vnd.jupyter.widget-view+json": {
       "model_id": "70622360aa5e4d5aa87f6d57d0692054",
       "version_major": 2,
       "version_minor": 0
      },
      "text/plain": [
       "  0%|          | 0/4000 [00:00<?, ?it/s]"
      ]
     },
     "metadata": {},
     "output_type": "display_data"
    },
    {
     "data": {
      "application/vnd.jupyter.widget-view+json": {
       "model_id": "e5bd3d514e784421b24da7551661c2ef",
       "version_major": 2,
       "version_minor": 0
      },
      "text/plain": [
       "  0%|          | 0/4000 [00:00<?, ?it/s]"
      ]
     },
     "metadata": {},
     "output_type": "display_data"
    },
    {
     "data": {
      "application/vnd.jupyter.widget-view+json": {
       "model_id": "623c68469472443888bf2450c95833cf",
       "version_major": 2,
       "version_minor": 0
      },
      "text/plain": [
       "  0%|          | 0/4000 [00:00<?, ?it/s]"
      ]
     },
     "metadata": {},
     "output_type": "display_data"
    },
    {
     "data": {
      "application/vnd.jupyter.widget-view+json": {
       "model_id": "69b95f55dae34e2cb412fee8c2f4697b",
       "version_major": 2,
       "version_minor": 0
      },
      "text/plain": [
       "  0%|          | 0/4000 [00:00<?, ?it/s]"
      ]
     },
     "metadata": {},
     "output_type": "display_data"
    },
    {
     "data": {
      "application/vnd.jupyter.widget-view+json": {
       "model_id": "0f831ed3fb5f46caa98aea76208e3edb",
       "version_major": 2,
       "version_minor": 0
      },
      "text/plain": [
       "  0%|          | 0/4000 [00:00<?, ?it/s]"
      ]
     },
     "metadata": {},
     "output_type": "display_data"
    },
    {
     "data": {
      "application/vnd.jupyter.widget-view+json": {
       "model_id": "0ec20ae0f7a447af9a703340a4bdc7f5",
       "version_major": 2,
       "version_minor": 0
      },
      "text/plain": [
       "  0%|          | 0/4000 [00:00<?, ?it/s]"
      ]
     },
     "metadata": {},
     "output_type": "display_data"
    },
    {
     "data": {
      "application/vnd.jupyter.widget-view+json": {
       "model_id": "157c25d893084c85ba5a54ddcfc6ed38",
       "version_major": 2,
       "version_minor": 0
      },
      "text/plain": [
       "  0%|          | 0/4000 [00:00<?, ?it/s]"
      ]
     },
     "metadata": {},
     "output_type": "display_data"
    },
    {
     "data": {
      "application/vnd.jupyter.widget-view+json": {
       "model_id": "15c69e2b6f834dc59697a36a1ee17d12",
       "version_major": 2,
       "version_minor": 0
      },
      "text/plain": [
       "  0%|          | 0/4000 [00:00<?, ?it/s]"
      ]
     },
     "metadata": {},
     "output_type": "display_data"
    },
    {
     "data": {
      "application/vnd.jupyter.widget-view+json": {
       "model_id": "0dde91b60ae34435bb352cb8ff31db40",
       "version_major": 2,
       "version_minor": 0
      },
      "text/plain": [
       "  0%|          | 0/4000 [00:00<?, ?it/s]"
      ]
     },
     "metadata": {},
     "output_type": "display_data"
    },
    {
     "data": {
      "application/vnd.jupyter.widget-view+json": {
       "model_id": "3ea6e41b35124c1a82faaf1a9c9f8a16",
       "version_major": 2,
       "version_minor": 0
      },
      "text/plain": [
       "  0%|          | 0/4000 [00:00<?, ?it/s]"
      ]
     },
     "metadata": {},
     "output_type": "display_data"
    },
    {
     "data": {
      "application/vnd.jupyter.widget-view+json": {
       "model_id": "c7a8428f7ab344f3a67ea2fbb0eb9c15",
       "version_major": 2,
       "version_minor": 0
      },
      "text/plain": [
       "  0%|          | 0/4000 [00:00<?, ?it/s]"
      ]
     },
     "metadata": {},
     "output_type": "display_data"
    },
    {
     "data": {
      "application/vnd.jupyter.widget-view+json": {
       "model_id": "b427a1659f984c90839fb465d74ebb0c",
       "version_major": 2,
       "version_minor": 0
      },
      "text/plain": [
       "  0%|          | 0/4000 [00:00<?, ?it/s]"
      ]
     },
     "metadata": {},
     "output_type": "display_data"
    },
    {
     "data": {
      "application/vnd.jupyter.widget-view+json": {
       "model_id": "9da05187bce0487a913caae0e6224b8c",
       "version_major": 2,
       "version_minor": 0
      },
      "text/plain": [
       "  0%|          | 0/4000 [00:00<?, ?it/s]"
      ]
     },
     "metadata": {},
     "output_type": "display_data"
    },
    {
     "data": {
      "application/vnd.jupyter.widget-view+json": {
       "model_id": "de33c3d85d934e9d8c4ac1f6607ff16e",
       "version_major": 2,
       "version_minor": 0
      },
      "text/plain": [
       "  0%|          | 0/4000 [00:00<?, ?it/s]"
      ]
     },
     "metadata": {},
     "output_type": "display_data"
    },
    {
     "data": {
      "application/vnd.jupyter.widget-view+json": {
       "model_id": "e41306e9b0e641a191b4bc7d068aa2e2",
       "version_major": 2,
       "version_minor": 0
      },
      "text/plain": [
       "  0%|          | 0/4000 [00:00<?, ?it/s]"
      ]
     },
     "metadata": {},
     "output_type": "display_data"
    },
    {
     "data": {
      "application/vnd.jupyter.widget-view+json": {
       "model_id": "80076c0bf2d9455fb398524f2e46cbff",
       "version_major": 2,
       "version_minor": 0
      },
      "text/plain": [
       "  0%|          | 0/4000 [00:00<?, ?it/s]"
      ]
     },
     "metadata": {},
     "output_type": "display_data"
    },
    {
     "data": {
      "application/vnd.jupyter.widget-view+json": {
       "model_id": "5cd39e5883db4ebbb372fe4bce95866a",
       "version_major": 2,
       "version_minor": 0
      },
      "text/plain": [
       "  0%|          | 0/4000 [00:00<?, ?it/s]"
      ]
     },
     "metadata": {},
     "output_type": "display_data"
    },
    {
     "data": {
      "application/vnd.jupyter.widget-view+json": {
       "model_id": "6cdfa43a251d4f68aefeade7e75547eb",
       "version_major": 2,
       "version_minor": 0
      },
      "text/plain": [
       "  0%|          | 0/4000 [00:00<?, ?it/s]"
      ]
     },
     "metadata": {},
     "output_type": "display_data"
    },
    {
     "data": {
      "application/vnd.jupyter.widget-view+json": {
       "model_id": "c09c0cc34a964d77b2ad97b07e0e148f",
       "version_major": 2,
       "version_minor": 0
      },
      "text/plain": [
       "  0%|          | 0/4000 [00:00<?, ?it/s]"
      ]
     },
     "metadata": {},
     "output_type": "display_data"
    },
    {
     "data": {
      "application/vnd.jupyter.widget-view+json": {
       "model_id": "54e7c011b5aa464cb1060f1e7ed0606a",
       "version_major": 2,
       "version_minor": 0
      },
      "text/plain": [
       "  0%|          | 0/4000 [00:00<?, ?it/s]"
      ]
     },
     "metadata": {},
     "output_type": "display_data"
    },
    {
     "data": {
      "application/vnd.jupyter.widget-view+json": {
       "model_id": "b006845028ec4bbab6b1b135433198c8",
       "version_major": 2,
       "version_minor": 0
      },
      "text/plain": [
       "  0%|          | 0/4000 [00:00<?, ?it/s]"
      ]
     },
     "metadata": {},
     "output_type": "display_data"
    },
    {
     "data": {
      "application/vnd.jupyter.widget-view+json": {
       "model_id": "96434b5f30f14b9eb52fd63390d63bf5",
       "version_major": 2,
       "version_minor": 0
      },
      "text/plain": [
       "  0%|          | 0/4000 [00:00<?, ?it/s]"
      ]
     },
     "metadata": {},
     "output_type": "display_data"
    },
    {
     "data": {
      "application/vnd.jupyter.widget-view+json": {
       "model_id": "45cead3bdcf04c77814d2c85e37d3224",
       "version_major": 2,
       "version_minor": 0
      },
      "text/plain": [
       "  0%|          | 0/4000 [00:00<?, ?it/s]"
      ]
     },
     "metadata": {},
     "output_type": "display_data"
    },
    {
     "data": {
      "application/vnd.jupyter.widget-view+json": {
       "model_id": "2e06d0d783244f63b18f592444b8b223",
       "version_major": 2,
       "version_minor": 0
      },
      "text/plain": [
       "  0%|          | 0/4000 [00:00<?, ?it/s]"
      ]
     },
     "metadata": {},
     "output_type": "display_data"
    },
    {
     "data": {
      "application/vnd.jupyter.widget-view+json": {
       "model_id": "459abcf3992144ec8b018f1e70955d2b",
       "version_major": 2,
       "version_minor": 0
      },
      "text/plain": [
       "  0%|          | 0/4000 [00:00<?, ?it/s]"
      ]
     },
     "metadata": {},
     "output_type": "display_data"
    },
    {
     "data": {
      "application/vnd.jupyter.widget-view+json": {
       "model_id": "e48c95f04c09462b87706a17baf7fdc7",
       "version_major": 2,
       "version_minor": 0
      },
      "text/plain": [
       "  0%|          | 0/4000 [00:00<?, ?it/s]"
      ]
     },
     "metadata": {},
     "output_type": "display_data"
    },
    {
     "data": {
      "application/vnd.jupyter.widget-view+json": {
       "model_id": "e94d80e117dc40f4a63a8617f9ea0c16",
       "version_major": 2,
       "version_minor": 0
      },
      "text/plain": [
       "  0%|          | 0/4000 [00:00<?, ?it/s]"
      ]
     },
     "metadata": {},
     "output_type": "display_data"
    },
    {
     "data": {
      "application/vnd.jupyter.widget-view+json": {
       "model_id": "1a19e4e6c1f24b18bad2f4696a802788",
       "version_major": 2,
       "version_minor": 0
      },
      "text/plain": [
       "  0%|          | 0/4000 [00:00<?, ?it/s]"
      ]
     },
     "metadata": {},
     "output_type": "display_data"
    },
    {
     "data": {
      "application/vnd.jupyter.widget-view+json": {
       "model_id": "c717e041bc114dafbd4e0df871cc6030",
       "version_major": 2,
       "version_minor": 0
      },
      "text/plain": [
       "  0%|          | 0/4000 [00:00<?, ?it/s]"
      ]
     },
     "metadata": {},
     "output_type": "display_data"
    },
    {
     "data": {
      "application/vnd.jupyter.widget-view+json": {
       "model_id": "9732c72497f24f08a398612cd1d31c73",
       "version_major": 2,
       "version_minor": 0
      },
      "text/plain": [
       "  0%|          | 0/4000 [00:00<?, ?it/s]"
      ]
     },
     "metadata": {},
     "output_type": "display_data"
    },
    {
     "data": {
      "application/vnd.jupyter.widget-view+json": {
       "model_id": "90bff7db4901422897509504dde9a202",
       "version_major": 2,
       "version_minor": 0
      },
      "text/plain": [
       "  0%|          | 0/4000 [00:00<?, ?it/s]"
      ]
     },
     "metadata": {},
     "output_type": "display_data"
    },
    {
     "data": {
      "application/vnd.jupyter.widget-view+json": {
       "model_id": "3f727e0103894720a658fba17eeec24c",
       "version_major": 2,
       "version_minor": 0
      },
      "text/plain": [
       "  0%|          | 0/4000 [00:00<?, ?it/s]"
      ]
     },
     "metadata": {},
     "output_type": "display_data"
    },
    {
     "data": {
      "application/vnd.jupyter.widget-view+json": {
       "model_id": "f779a263c07940e9983994bbb6265fe4",
       "version_major": 2,
       "version_minor": 0
      },
      "text/plain": [
       "  0%|          | 0/4000 [00:00<?, ?it/s]"
      ]
     },
     "metadata": {},
     "output_type": "display_data"
    },
    {
     "data": {
      "application/vnd.jupyter.widget-view+json": {
       "model_id": "53ac8f7b01934a9b9b7f3f0c5c03b74b",
       "version_major": 2,
       "version_minor": 0
      },
      "text/plain": [
       "  0%|          | 0/4000 [00:00<?, ?it/s]"
      ]
     },
     "metadata": {},
     "output_type": "display_data"
    },
    {
     "data": {
      "application/vnd.jupyter.widget-view+json": {
       "model_id": "6100ffdf7d3842718f2d1eaca821634d",
       "version_major": 2,
       "version_minor": 0
      },
      "text/plain": [
       "  0%|          | 0/4000 [00:00<?, ?it/s]"
      ]
     },
     "metadata": {},
     "output_type": "display_data"
    },
    {
     "data": {
      "application/vnd.jupyter.widget-view+json": {
       "model_id": "39d1c0a42b534051b7355079876f7ad4",
       "version_major": 2,
       "version_minor": 0
      },
      "text/plain": [
       "  0%|          | 0/4000 [00:00<?, ?it/s]"
      ]
     },
     "metadata": {},
     "output_type": "display_data"
    },
    {
     "data": {
      "application/vnd.jupyter.widget-view+json": {
       "model_id": "288dcae2ae12483891f25a4c77b13c27",
       "version_major": 2,
       "version_minor": 0
      },
      "text/plain": [
       "  0%|          | 0/4000 [00:00<?, ?it/s]"
      ]
     },
     "metadata": {},
     "output_type": "display_data"
    },
    {
     "data": {
      "application/vnd.jupyter.widget-view+json": {
       "model_id": "35a5c81778754ac2bbc303e0f160e98c",
       "version_major": 2,
       "version_minor": 0
      },
      "text/plain": [
       "  0%|          | 0/4000 [00:00<?, ?it/s]"
      ]
     },
     "metadata": {},
     "output_type": "display_data"
    },
    {
     "data": {
      "application/vnd.jupyter.widget-view+json": {
       "model_id": "c8f4b18af1b6487e909657188f3bc010",
       "version_major": 2,
       "version_minor": 0
      },
      "text/plain": [
       "  0%|          | 0/4000 [00:00<?, ?it/s]"
      ]
     },
     "metadata": {},
     "output_type": "display_data"
    },
    {
     "data": {
      "application/vnd.jupyter.widget-view+json": {
       "model_id": "9df7ac5fe8dd4dc19d1afb9c06c55f91",
       "version_major": 2,
       "version_minor": 0
      },
      "text/plain": [
       "  0%|          | 0/4000 [00:00<?, ?it/s]"
      ]
     },
     "metadata": {},
     "output_type": "display_data"
    },
    {
     "data": {
      "application/vnd.jupyter.widget-view+json": {
       "model_id": "f749e686b8ee46ff886521cfa5287d54",
       "version_major": 2,
       "version_minor": 0
      },
      "text/plain": [
       "  0%|          | 0/4000 [00:00<?, ?it/s]"
      ]
     },
     "metadata": {},
     "output_type": "display_data"
    },
    {
     "data": {
      "application/vnd.jupyter.widget-view+json": {
       "model_id": "367269b23df94b9fb2460472c5d0e7c1",
       "version_major": 2,
       "version_minor": 0
      },
      "text/plain": [
       "  0%|          | 0/4000 [00:00<?, ?it/s]"
      ]
     },
     "metadata": {},
     "output_type": "display_data"
    },
    {
     "data": {
      "application/vnd.jupyter.widget-view+json": {
       "model_id": "e88708463ac547ba9735f33959da2cf0",
       "version_major": 2,
       "version_minor": 0
      },
      "text/plain": [
       "  0%|          | 0/4000 [00:00<?, ?it/s]"
      ]
     },
     "metadata": {},
     "output_type": "display_data"
    },
    {
     "data": {
      "application/vnd.jupyter.widget-view+json": {
       "model_id": "6f63372df7344c8ea5faf448952f5dc6",
       "version_major": 2,
       "version_minor": 0
      },
      "text/plain": [
       "  0%|          | 0/4000 [00:00<?, ?it/s]"
      ]
     },
     "metadata": {},
     "output_type": "display_data"
    },
    {
     "data": {
      "application/vnd.jupyter.widget-view+json": {
       "model_id": "7cfc3b99509945dbbff5e76d590e8edf",
       "version_major": 2,
       "version_minor": 0
      },
      "text/plain": [
       "  0%|          | 0/4000 [00:00<?, ?it/s]"
      ]
     },
     "metadata": {},
     "output_type": "display_data"
    },
    {
     "data": {
      "application/vnd.jupyter.widget-view+json": {
       "model_id": "7ac885f78b0e4060a86753a498ce7352",
       "version_major": 2,
       "version_minor": 0
      },
      "text/plain": [
       "  0%|          | 0/4000 [00:00<?, ?it/s]"
      ]
     },
     "metadata": {},
     "output_type": "display_data"
    },
    {
     "data": {
      "application/vnd.jupyter.widget-view+json": {
       "model_id": "8ef359dc31a2486c8905747899fa6e4d",
       "version_major": 2,
       "version_minor": 0
      },
      "text/plain": [
       "  0%|          | 0/4000 [00:00<?, ?it/s]"
      ]
     },
     "metadata": {},
     "output_type": "display_data"
    },
    {
     "data": {
      "application/vnd.jupyter.widget-view+json": {
       "model_id": "7c2cfcfe34784d85bdd3575816224f19",
       "version_major": 2,
       "version_minor": 0
      },
      "text/plain": [
       "  0%|          | 0/4000 [00:00<?, ?it/s]"
      ]
     },
     "metadata": {},
     "output_type": "display_data"
    },
    {
     "data": {
      "application/vnd.jupyter.widget-view+json": {
       "model_id": "767088dbc0354a3bae1b7be66c638063",
       "version_major": 2,
       "version_minor": 0
      },
      "text/plain": [
       "  0%|          | 0/4000 [00:00<?, ?it/s]"
      ]
     },
     "metadata": {},
     "output_type": "display_data"
    },
    {
     "data": {
      "application/vnd.jupyter.widget-view+json": {
       "model_id": "eeefe9f0bb004b329b5bd55989ac5182",
       "version_major": 2,
       "version_minor": 0
      },
      "text/plain": [
       "  0%|          | 0/4000 [00:00<?, ?it/s]"
      ]
     },
     "metadata": {},
     "output_type": "display_data"
    },
    {
     "data": {
      "application/vnd.jupyter.widget-view+json": {
       "model_id": "1e8d5365060d48c989e82dff9754db78",
       "version_major": 2,
       "version_minor": 0
      },
      "text/plain": [
       "  0%|          | 0/4000 [00:00<?, ?it/s]"
      ]
     },
     "metadata": {},
     "output_type": "display_data"
    },
    {
     "data": {
      "application/vnd.jupyter.widget-view+json": {
       "model_id": "3edb77cfc1e34654a12ec6b1325b0484",
       "version_major": 2,
       "version_minor": 0
      },
      "text/plain": [
       "  0%|          | 0/4000 [00:00<?, ?it/s]"
      ]
     },
     "metadata": {},
     "output_type": "display_data"
    },
    {
     "data": {
      "application/vnd.jupyter.widget-view+json": {
       "model_id": "e484a9295688479fa277cb37d4690931",
       "version_major": 2,
       "version_minor": 0
      },
      "text/plain": [
       "  0%|          | 0/4000 [00:00<?, ?it/s]"
      ]
     },
     "metadata": {},
     "output_type": "display_data"
    },
    {
     "data": {
      "application/vnd.jupyter.widget-view+json": {
       "model_id": "5347ddda67c74ae1973c4bd57eefc105",
       "version_major": 2,
       "version_minor": 0
      },
      "text/plain": [
       "  0%|          | 0/4000 [00:00<?, ?it/s]"
      ]
     },
     "metadata": {},
     "output_type": "display_data"
    },
    {
     "data": {
      "application/vnd.jupyter.widget-view+json": {
       "model_id": "fc24f820046141f5a6aded81b3cbb298",
       "version_major": 2,
       "version_minor": 0
      },
      "text/plain": [
       "  0%|          | 0/4000 [00:00<?, ?it/s]"
      ]
     },
     "metadata": {},
     "output_type": "display_data"
    },
    {
     "data": {
      "application/vnd.jupyter.widget-view+json": {
       "model_id": "8ad0d9123a224ef48846cf6e483ae5ad",
       "version_major": 2,
       "version_minor": 0
      },
      "text/plain": [
       "  0%|          | 0/4000 [00:00<?, ?it/s]"
      ]
     },
     "metadata": {},
     "output_type": "display_data"
    },
    {
     "data": {
      "application/vnd.jupyter.widget-view+json": {
       "model_id": "5ee878a6a0b646abbb190c714048f357",
       "version_major": 2,
       "version_minor": 0
      },
      "text/plain": [
       "  0%|          | 0/4000 [00:00<?, ?it/s]"
      ]
     },
     "metadata": {},
     "output_type": "display_data"
    },
    {
     "data": {
      "application/vnd.jupyter.widget-view+json": {
       "model_id": "2c37413fff094f428c23cf3f31d13710",
       "version_major": 2,
       "version_minor": 0
      },
      "text/plain": [
       "  0%|          | 0/4000 [00:00<?, ?it/s]"
      ]
     },
     "metadata": {},
     "output_type": "display_data"
    },
    {
     "data": {
      "application/vnd.jupyter.widget-view+json": {
       "model_id": "c2ff9c2b781b400c8d8716ca0ab477a3",
       "version_major": 2,
       "version_minor": 0
      },
      "text/plain": [
       "  0%|          | 0/4000 [00:00<?, ?it/s]"
      ]
     },
     "metadata": {},
     "output_type": "display_data"
    },
    {
     "data": {
      "application/vnd.jupyter.widget-view+json": {
       "model_id": "c32fbb87d1464bdd913b5a85b4a0efee",
       "version_major": 2,
       "version_minor": 0
      },
      "text/plain": [
       "  0%|          | 0/4000 [00:00<?, ?it/s]"
      ]
     },
     "metadata": {},
     "output_type": "display_data"
    },
    {
     "data": {
      "application/vnd.jupyter.widget-view+json": {
       "model_id": "9b6dbf7815e841d48b064b9cd940868b",
       "version_major": 2,
       "version_minor": 0
      },
      "text/plain": [
       "  0%|          | 0/4000 [00:00<?, ?it/s]"
      ]
     },
     "metadata": {},
     "output_type": "display_data"
    },
    {
     "data": {
      "application/vnd.jupyter.widget-view+json": {
       "model_id": "03d5db53304f4a268f47c9771a15aa90",
       "version_major": 2,
       "version_minor": 0
      },
      "text/plain": [
       "  0%|          | 0/4000 [00:00<?, ?it/s]"
      ]
     },
     "metadata": {},
     "output_type": "display_data"
    },
    {
     "data": {
      "application/vnd.jupyter.widget-view+json": {
       "model_id": "8f595c5155f84de5ae5af3870d4c42cf",
       "version_major": 2,
       "version_minor": 0
      },
      "text/plain": [
       "  0%|          | 0/4000 [00:00<?, ?it/s]"
      ]
     },
     "metadata": {},
     "output_type": "display_data"
    },
    {
     "data": {
      "application/vnd.jupyter.widget-view+json": {
       "model_id": "fb33fbd789ca42a386a4f1c32589ce7d",
       "version_major": 2,
       "version_minor": 0
      },
      "text/plain": [
       "  0%|          | 0/4000 [00:00<?, ?it/s]"
      ]
     },
     "metadata": {},
     "output_type": "display_data"
    },
    {
     "data": {
      "application/vnd.jupyter.widget-view+json": {
       "model_id": "bbdebb60b1a64dfc96dea7f56f37c6aa",
       "version_major": 2,
       "version_minor": 0
      },
      "text/plain": [
       "  0%|          | 0/4000 [00:00<?, ?it/s]"
      ]
     },
     "metadata": {},
     "output_type": "display_data"
    },
    {
     "data": {
      "application/vnd.jupyter.widget-view+json": {
       "model_id": "9605b313b92d485e8aa568dc3d3521dd",
       "version_major": 2,
       "version_minor": 0
      },
      "text/plain": [
       "  0%|          | 0/4000 [00:00<?, ?it/s]"
      ]
     },
     "metadata": {},
     "output_type": "display_data"
    },
    {
     "data": {
      "application/vnd.jupyter.widget-view+json": {
       "model_id": "0552a9f6036f46da8f2a642aae6ea1b9",
       "version_major": 2,
       "version_minor": 0
      },
      "text/plain": [
       "  0%|          | 0/4000 [00:00<?, ?it/s]"
      ]
     },
     "metadata": {},
     "output_type": "display_data"
    },
    {
     "data": {
      "application/vnd.jupyter.widget-view+json": {
       "model_id": "a72dd1135d4d459cbb7b3dc9fc7d1776",
       "version_major": 2,
       "version_minor": 0
      },
      "text/plain": [
       "  0%|          | 0/4000 [00:00<?, ?it/s]"
      ]
     },
     "metadata": {},
     "output_type": "display_data"
    },
    {
     "data": {
      "application/vnd.jupyter.widget-view+json": {
       "model_id": "20dcc86d807b4fa0846ee9406e2085d8",
       "version_major": 2,
       "version_minor": 0
      },
      "text/plain": [
       "  0%|          | 0/4000 [00:00<?, ?it/s]"
      ]
     },
     "metadata": {},
     "output_type": "display_data"
    },
    {
     "data": {
      "application/vnd.jupyter.widget-view+json": {
       "model_id": "a6b211babdbc48a8951fccbed514948a",
       "version_major": 2,
       "version_minor": 0
      },
      "text/plain": [
       "  0%|          | 0/4000 [00:00<?, ?it/s]"
      ]
     },
     "metadata": {},
     "output_type": "display_data"
    },
    {
     "data": {
      "application/vnd.jupyter.widget-view+json": {
       "model_id": "e05283ad70a04c9a95490df6ff5c75dd",
       "version_major": 2,
       "version_minor": 0
      },
      "text/plain": [
       "  0%|          | 0/4000 [00:00<?, ?it/s]"
      ]
     },
     "metadata": {},
     "output_type": "display_data"
    },
    {
     "data": {
      "application/vnd.jupyter.widget-view+json": {
       "model_id": "c9e20f0ae7de4e81afe7434b2197ee1f",
       "version_major": 2,
       "version_minor": 0
      },
      "text/plain": [
       "  0%|          | 0/4000 [00:00<?, ?it/s]"
      ]
     },
     "metadata": {},
     "output_type": "display_data"
    },
    {
     "data": {
      "application/vnd.jupyter.widget-view+json": {
       "model_id": "143aa82e19434e98919d8f93f9c49b48",
       "version_major": 2,
       "version_minor": 0
      },
      "text/plain": [
       "  0%|          | 0/4000 [00:00<?, ?it/s]"
      ]
     },
     "metadata": {},
     "output_type": "display_data"
    },
    {
     "data": {
      "application/vnd.jupyter.widget-view+json": {
       "model_id": "192dd0c0eeff4fcb97729e201782c4fa",
       "version_major": 2,
       "version_minor": 0
      },
      "text/plain": [
       "  0%|          | 0/4000 [00:00<?, ?it/s]"
      ]
     },
     "metadata": {},
     "output_type": "display_data"
    },
    {
     "data": {
      "application/vnd.jupyter.widget-view+json": {
       "model_id": "35f60e67f07f44a9a4b8b598c9b13c8e",
       "version_major": 2,
       "version_minor": 0
      },
      "text/plain": [
       "  0%|          | 0/4000 [00:00<?, ?it/s]"
      ]
     },
     "metadata": {},
     "output_type": "display_data"
    },
    {
     "data": {
      "application/vnd.jupyter.widget-view+json": {
       "model_id": "353086cd57374f0b91da75d24725c01f",
       "version_major": 2,
       "version_minor": 0
      },
      "text/plain": [
       "  0%|          | 0/4000 [00:00<?, ?it/s]"
      ]
     },
     "metadata": {},
     "output_type": "display_data"
    },
    {
     "data": {
      "application/vnd.jupyter.widget-view+json": {
       "model_id": "f308361a1ed3405e96135cde06a50bad",
       "version_major": 2,
       "version_minor": 0
      },
      "text/plain": [
       "  0%|          | 0/4000 [00:00<?, ?it/s]"
      ]
     },
     "metadata": {},
     "output_type": "display_data"
    },
    {
     "data": {
      "application/vnd.jupyter.widget-view+json": {
       "model_id": "ac89d11c889a404d9a05dffde9079b19",
       "version_major": 2,
       "version_minor": 0
      },
      "text/plain": [
       "  0%|          | 0/4000 [00:00<?, ?it/s]"
      ]
     },
     "metadata": {},
     "output_type": "display_data"
    },
    {
     "data": {
      "application/vnd.jupyter.widget-view+json": {
       "model_id": "1f59ec1bf375433dbda795e960c25108",
       "version_major": 2,
       "version_minor": 0
      },
      "text/plain": [
       "  0%|          | 0/4000 [00:00<?, ?it/s]"
      ]
     },
     "metadata": {},
     "output_type": "display_data"
    },
    {
     "data": {
      "application/vnd.jupyter.widget-view+json": {
       "model_id": "513b8591f41241d4a3889b8ac4ae8df3",
       "version_major": 2,
       "version_minor": 0
      },
      "text/plain": [
       "  0%|          | 0/4000 [00:00<?, ?it/s]"
      ]
     },
     "metadata": {},
     "output_type": "display_data"
    },
    {
     "data": {
      "application/vnd.jupyter.widget-view+json": {
       "model_id": "ffa54ad2267f41778da4eaa2bd9a1bb0",
       "version_major": 2,
       "version_minor": 0
      },
      "text/plain": [
       "  0%|          | 0/4000 [00:00<?, ?it/s]"
      ]
     },
     "metadata": {},
     "output_type": "display_data"
    },
    {
     "data": {
      "application/vnd.jupyter.widget-view+json": {
       "model_id": "9cc76e6270a84f6aa2265611f383a56e",
       "version_major": 2,
       "version_minor": 0
      },
      "text/plain": [
       "  0%|          | 0/4000 [00:00<?, ?it/s]"
      ]
     },
     "metadata": {},
     "output_type": "display_data"
    },
    {
     "data": {
      "application/vnd.jupyter.widget-view+json": {
       "model_id": "120c4b01e6184f9985edcc146d1d4621",
       "version_major": 2,
       "version_minor": 0
      },
      "text/plain": [
       "  0%|          | 0/4000 [00:00<?, ?it/s]"
      ]
     },
     "metadata": {},
     "output_type": "display_data"
    },
    {
     "data": {
      "application/vnd.jupyter.widget-view+json": {
       "model_id": "3c98f42a814b4d3fa2c122fcf19bbee7",
       "version_major": 2,
       "version_minor": 0
      },
      "text/plain": [
       "  0%|          | 0/4000 [00:00<?, ?it/s]"
      ]
     },
     "metadata": {},
     "output_type": "display_data"
    },
    {
     "data": {
      "application/vnd.jupyter.widget-view+json": {
       "model_id": "de60cf64f8e3437b96fcf8e7c2f81ae4",
       "version_major": 2,
       "version_minor": 0
      },
      "text/plain": [
       "  0%|          | 0/4000 [00:00<?, ?it/s]"
      ]
     },
     "metadata": {},
     "output_type": "display_data"
    },
    {
     "data": {
      "application/vnd.jupyter.widget-view+json": {
       "model_id": "7377d2513366405a86b0e585ec39e68c",
       "version_major": 2,
       "version_minor": 0
      },
      "text/plain": [
       "  0%|          | 0/4000 [00:00<?, ?it/s]"
      ]
     },
     "metadata": {},
     "output_type": "display_data"
    },
    {
     "data": {
      "application/vnd.jupyter.widget-view+json": {
       "model_id": "6d030e916d56452a8787e941e8b16308",
       "version_major": 2,
       "version_minor": 0
      },
      "text/plain": [
       "  0%|          | 0/4000 [00:00<?, ?it/s]"
      ]
     },
     "metadata": {},
     "output_type": "display_data"
    },
    {
     "data": {
      "application/vnd.jupyter.widget-view+json": {
       "model_id": "9bdd730604004d478fc75ac7e260df26",
       "version_major": 2,
       "version_minor": 0
      },
      "text/plain": [
       "  0%|          | 0/4000 [00:00<?, ?it/s]"
      ]
     },
     "metadata": {},
     "output_type": "display_data"
    },
    {
     "data": {
      "application/vnd.jupyter.widget-view+json": {
       "model_id": "ff67ccf863f540a8820bb5e1d175e4cc",
       "version_major": 2,
       "version_minor": 0
      },
      "text/plain": [
       "  0%|          | 0/4000 [00:00<?, ?it/s]"
      ]
     },
     "metadata": {},
     "output_type": "display_data"
    },
    {
     "data": {
      "application/vnd.jupyter.widget-view+json": {
       "model_id": "cfdca5f2475f445ea2f370294b3822f2",
       "version_major": 2,
       "version_minor": 0
      },
      "text/plain": [
       "  0%|          | 0/4000 [00:00<?, ?it/s]"
      ]
     },
     "metadata": {},
     "output_type": "display_data"
    },
    {
     "data": {
      "application/vnd.jupyter.widget-view+json": {
       "model_id": "d2c45c849ade423b80e7e42906da5c67",
       "version_major": 2,
       "version_minor": 0
      },
      "text/plain": [
       "  0%|          | 0/4000 [00:00<?, ?it/s]"
      ]
     },
     "metadata": {},
     "output_type": "display_data"
    },
    {
     "data": {
      "application/vnd.jupyter.widget-view+json": {
       "model_id": "442793b0d484469f86fd0c151fcf3728",
       "version_major": 2,
       "version_minor": 0
      },
      "text/plain": [
       "  0%|          | 0/4000 [00:00<?, ?it/s]"
      ]
     },
     "metadata": {},
     "output_type": "display_data"
    },
    {
     "data": {
      "application/vnd.jupyter.widget-view+json": {
       "model_id": "7b196c5b022c40db96460be3fcb38675",
       "version_major": 2,
       "version_minor": 0
      },
      "text/plain": [
       "  0%|          | 0/4000 [00:00<?, ?it/s]"
      ]
     },
     "metadata": {},
     "output_type": "display_data"
    },
    {
     "data": {
      "application/vnd.jupyter.widget-view+json": {
       "model_id": "be8ea7b5ffde48c7bcb6a35b56f7e0ca",
       "version_major": 2,
       "version_minor": 0
      },
      "text/plain": [
       "  0%|          | 0/4000 [00:00<?, ?it/s]"
      ]
     },
     "metadata": {},
     "output_type": "display_data"
    },
    {
     "data": {
      "application/vnd.jupyter.widget-view+json": {
       "model_id": "6fba91be9e4a4b12b74e427d96f89b5e",
       "version_major": 2,
       "version_minor": 0
      },
      "text/plain": [
       "  0%|          | 0/4000 [00:00<?, ?it/s]"
      ]
     },
     "metadata": {},
     "output_type": "display_data"
    },
    {
     "data": {
      "application/vnd.jupyter.widget-view+json": {
       "model_id": "7d4e3594573e4edcaf86b468963b8f84",
       "version_major": 2,
       "version_minor": 0
      },
      "text/plain": [
       "  0%|          | 0/4000 [00:00<?, ?it/s]"
      ]
     },
     "metadata": {},
     "output_type": "display_data"
    },
    {
     "data": {
      "application/vnd.jupyter.widget-view+json": {
       "model_id": "ca2ab87ef8f34d10bdee1c4174b3d752",
       "version_major": 2,
       "version_minor": 0
      },
      "text/plain": [
       "  0%|          | 0/4000 [00:00<?, ?it/s]"
      ]
     },
     "metadata": {},
     "output_type": "display_data"
    },
    {
     "data": {
      "application/vnd.jupyter.widget-view+json": {
       "model_id": "c68460578c8449e3a52f411643257986",
       "version_major": 2,
       "version_minor": 0
      },
      "text/plain": [
       "  0%|          | 0/4000 [00:00<?, ?it/s]"
      ]
     },
     "metadata": {},
     "output_type": "display_data"
    },
    {
     "data": {
      "application/vnd.jupyter.widget-view+json": {
       "model_id": "5861897690994fda9361a561ce403a22",
       "version_major": 2,
       "version_minor": 0
      },
      "text/plain": [
       "  0%|          | 0/4000 [00:00<?, ?it/s]"
      ]
     },
     "metadata": {},
     "output_type": "display_data"
    },
    {
     "data": {
      "application/vnd.jupyter.widget-view+json": {
       "model_id": "ab2b97e1b7ea4bbfb7ceb371ec8a93b4",
       "version_major": 2,
       "version_minor": 0
      },
      "text/plain": [
       "  0%|          | 0/4000 [00:00<?, ?it/s]"
      ]
     },
     "metadata": {},
     "output_type": "display_data"
    },
    {
     "data": {
      "application/vnd.jupyter.widget-view+json": {
       "model_id": "7f7dcbb3626440f29e0549b40597b61d",
       "version_major": 2,
       "version_minor": 0
      },
      "text/plain": [
       "  0%|          | 0/4000 [00:00<?, ?it/s]"
      ]
     },
     "metadata": {},
     "output_type": "display_data"
    },
    {
     "data": {
      "application/vnd.jupyter.widget-view+json": {
       "model_id": "46bf2adb349941549225193c3265d50b",
       "version_major": 2,
       "version_minor": 0
      },
      "text/plain": [
       "  0%|          | 0/4000 [00:00<?, ?it/s]"
      ]
     },
     "metadata": {},
     "output_type": "display_data"
    },
    {
     "data": {
      "application/vnd.jupyter.widget-view+json": {
       "model_id": "6968d46bfae74ad38986551a57363999",
       "version_major": 2,
       "version_minor": 0
      },
      "text/plain": [
       "  0%|          | 0/4000 [00:00<?, ?it/s]"
      ]
     },
     "metadata": {},
     "output_type": "display_data"
    },
    {
     "data": {
      "application/vnd.jupyter.widget-view+json": {
       "model_id": "b5ca092be87c45b484f0d3a5c0ef3126",
       "version_major": 2,
       "version_minor": 0
      },
      "text/plain": [
       "  0%|          | 0/4000 [00:00<?, ?it/s]"
      ]
     },
     "metadata": {},
     "output_type": "display_data"
    },
    {
     "data": {
      "application/vnd.jupyter.widget-view+json": {
       "model_id": "049c40a847244bf79bb0dbcbeee4bd88",
       "version_major": 2,
       "version_minor": 0
      },
      "text/plain": [
       "  0%|          | 0/4000 [00:00<?, ?it/s]"
      ]
     },
     "metadata": {},
     "output_type": "display_data"
    },
    {
     "data": {
      "application/vnd.jupyter.widget-view+json": {
       "model_id": "5cf9690c309f4b6b8488a51f2dfbe331",
       "version_major": 2,
       "version_minor": 0
      },
      "text/plain": [
       "  0%|          | 0/4000 [00:00<?, ?it/s]"
      ]
     },
     "metadata": {},
     "output_type": "display_data"
    },
    {
     "data": {
      "application/vnd.jupyter.widget-view+json": {
       "model_id": "894ffb1933754216a8203159468db920",
       "version_major": 2,
       "version_minor": 0
      },
      "text/plain": [
       "  0%|          | 0/4000 [00:00<?, ?it/s]"
      ]
     },
     "metadata": {},
     "output_type": "display_data"
    },
    {
     "data": {
      "application/vnd.jupyter.widget-view+json": {
       "model_id": "abb71eb4dd084e57920f80a7c640f7f6",
       "version_major": 2,
       "version_minor": 0
      },
      "text/plain": [
       "  0%|          | 0/4000 [00:00<?, ?it/s]"
      ]
     },
     "metadata": {},
     "output_type": "display_data"
    },
    {
     "data": {
      "application/vnd.jupyter.widget-view+json": {
       "model_id": "631f2d1f69264ed6846a9809f144881f",
       "version_major": 2,
       "version_minor": 0
      },
      "text/plain": [
       "  0%|          | 0/4000 [00:00<?, ?it/s]"
      ]
     },
     "metadata": {},
     "output_type": "display_data"
    },
    {
     "data": {
      "application/vnd.jupyter.widget-view+json": {
       "model_id": "889862872aa7412b9d7ea5710cae9c79",
       "version_major": 2,
       "version_minor": 0
      },
      "text/plain": [
       "  0%|          | 0/4000 [00:00<?, ?it/s]"
      ]
     },
     "metadata": {},
     "output_type": "display_data"
    },
    {
     "data": {
      "application/vnd.jupyter.widget-view+json": {
       "model_id": "f2505600335a44369c3c35e6dcdb2618",
       "version_major": 2,
       "version_minor": 0
      },
      "text/plain": [
       "  0%|          | 0/4000 [00:00<?, ?it/s]"
      ]
     },
     "metadata": {},
     "output_type": "display_data"
    },
    {
     "data": {
      "application/vnd.jupyter.widget-view+json": {
       "model_id": "85c85cf4a514462eb2c7baf9be120a82",
       "version_major": 2,
       "version_minor": 0
      },
      "text/plain": [
       "  0%|          | 0/4000 [00:00<?, ?it/s]"
      ]
     },
     "metadata": {},
     "output_type": "display_data"
    },
    {
     "data": {
      "application/vnd.jupyter.widget-view+json": {
       "model_id": "6844da37c17e438fb44c29f7edfcca6d",
       "version_major": 2,
       "version_minor": 0
      },
      "text/plain": [
       "  0%|          | 0/4000 [00:00<?, ?it/s]"
      ]
     },
     "metadata": {},
     "output_type": "display_data"
    },
    {
     "data": {
      "application/vnd.jupyter.widget-view+json": {
       "model_id": "2610181602964c4f90ccf6e16da76bf3",
       "version_major": 2,
       "version_minor": 0
      },
      "text/plain": [
       "  0%|          | 0/4000 [00:00<?, ?it/s]"
      ]
     },
     "metadata": {},
     "output_type": "display_data"
    },
    {
     "data": {
      "application/vnd.jupyter.widget-view+json": {
       "model_id": "c7fe5c6318224a3a96975afa0a1fee89",
       "version_major": 2,
       "version_minor": 0
      },
      "text/plain": [
       "  0%|          | 0/4000 [00:00<?, ?it/s]"
      ]
     },
     "metadata": {},
     "output_type": "display_data"
    },
    {
     "data": {
      "application/vnd.jupyter.widget-view+json": {
       "model_id": "73b4c55350054a71921ff0baa7a64897",
       "version_major": 2,
       "version_minor": 0
      },
      "text/plain": [
       "  0%|          | 0/4000 [00:00<?, ?it/s]"
      ]
     },
     "metadata": {},
     "output_type": "display_data"
    },
    {
     "data": {
      "application/vnd.jupyter.widget-view+json": {
       "model_id": "e06dddd88ac8414f84040f150c5a2b12",
       "version_major": 2,
       "version_minor": 0
      },
      "text/plain": [
       "  0%|          | 0/4000 [00:00<?, ?it/s]"
      ]
     },
     "metadata": {},
     "output_type": "display_data"
    },
    {
     "data": {
      "application/vnd.jupyter.widget-view+json": {
       "model_id": "9b154ff989454616917040cfb6df159f",
       "version_major": 2,
       "version_minor": 0
      },
      "text/plain": [
       "  0%|          | 0/4000 [00:00<?, ?it/s]"
      ]
     },
     "metadata": {},
     "output_type": "display_data"
    },
    {
     "data": {
      "application/vnd.jupyter.widget-view+json": {
       "model_id": "a3bcf5b8ca7149cd80b83a96bee8ed6d",
       "version_major": 2,
       "version_minor": 0
      },
      "text/plain": [
       "  0%|          | 0/4000 [00:00<?, ?it/s]"
      ]
     },
     "metadata": {},
     "output_type": "display_data"
    },
    {
     "data": {
      "application/vnd.jupyter.widget-view+json": {
       "model_id": "a473a5c03487421a9c100c21bd05a5a9",
       "version_major": 2,
       "version_minor": 0
      },
      "text/plain": [
       "  0%|          | 0/4000 [00:00<?, ?it/s]"
      ]
     },
     "metadata": {},
     "output_type": "display_data"
    },
    {
     "data": {
      "application/vnd.jupyter.widget-view+json": {
       "model_id": "9780998a711a4afcad1714bd079aafb7",
       "version_major": 2,
       "version_minor": 0
      },
      "text/plain": [
       "  0%|          | 0/4000 [00:00<?, ?it/s]"
      ]
     },
     "metadata": {},
     "output_type": "display_data"
    },
    {
     "data": {
      "application/vnd.jupyter.widget-view+json": {
       "model_id": "5e6ce9ae1a87453392387e0e8d7fd8e2",
       "version_major": 2,
       "version_minor": 0
      },
      "text/plain": [
       "  0%|          | 0/4000 [00:00<?, ?it/s]"
      ]
     },
     "metadata": {},
     "output_type": "display_data"
    },
    {
     "data": {
      "application/vnd.jupyter.widget-view+json": {
       "model_id": "e9dd9f44f8b1482e905f6466de3c37b9",
       "version_major": 2,
       "version_minor": 0
      },
      "text/plain": [
       "  0%|          | 0/4000 [00:00<?, ?it/s]"
      ]
     },
     "metadata": {},
     "output_type": "display_data"
    },
    {
     "data": {
      "application/vnd.jupyter.widget-view+json": {
       "model_id": "c9846fc8602d4f46a48dea017cad0fc9",
       "version_major": 2,
       "version_minor": 0
      },
      "text/plain": [
       "  0%|          | 0/4000 [00:00<?, ?it/s]"
      ]
     },
     "metadata": {},
     "output_type": "display_data"
    },
    {
     "data": {
      "application/vnd.jupyter.widget-view+json": {
       "model_id": "8331c4f618f64a80a4b06b7f97376a81",
       "version_major": 2,
       "version_minor": 0
      },
      "text/plain": [
       "  0%|          | 0/4000 [00:00<?, ?it/s]"
      ]
     },
     "metadata": {},
     "output_type": "display_data"
    },
    {
     "data": {
      "application/vnd.jupyter.widget-view+json": {
       "model_id": "293ae436a2e444e79ee6d4d75cf9e660",
       "version_major": 2,
       "version_minor": 0
      },
      "text/plain": [
       "  0%|          | 0/4000 [00:00<?, ?it/s]"
      ]
     },
     "metadata": {},
     "output_type": "display_data"
    },
    {
     "data": {
      "application/vnd.jupyter.widget-view+json": {
       "model_id": "0aea91e36ac44a11a5a3976b9e93474b",
       "version_major": 2,
       "version_minor": 0
      },
      "text/plain": [
       "  0%|          | 0/4000 [00:00<?, ?it/s]"
      ]
     },
     "metadata": {},
     "output_type": "display_data"
    },
    {
     "data": {
      "application/vnd.jupyter.widget-view+json": {
       "model_id": "ab7174d2b0c64903992dbca1e2da8980",
       "version_major": 2,
       "version_minor": 0
      },
      "text/plain": [
       "  0%|          | 0/4000 [00:00<?, ?it/s]"
      ]
     },
     "metadata": {},
     "output_type": "display_data"
    },
    {
     "data": {
      "application/vnd.jupyter.widget-view+json": {
       "model_id": "986d5012c64944cbafbd84cef0db5e78",
       "version_major": 2,
       "version_minor": 0
      },
      "text/plain": [
       "  0%|          | 0/4000 [00:00<?, ?it/s]"
      ]
     },
     "metadata": {},
     "output_type": "display_data"
    },
    {
     "data": {
      "application/vnd.jupyter.widget-view+json": {
       "model_id": "20af350880214e61b0910b17e32f1ee6",
       "version_major": 2,
       "version_minor": 0
      },
      "text/plain": [
       "  0%|          | 0/4000 [00:00<?, ?it/s]"
      ]
     },
     "metadata": {},
     "output_type": "display_data"
    },
    {
     "data": {
      "application/vnd.jupyter.widget-view+json": {
       "model_id": "31371444481540f3ad66802593696e47",
       "version_major": 2,
       "version_minor": 0
      },
      "text/plain": [
       "  0%|          | 0/4000 [00:00<?, ?it/s]"
      ]
     },
     "metadata": {},
     "output_type": "display_data"
    },
    {
     "data": {
      "application/vnd.jupyter.widget-view+json": {
       "model_id": "ed5ea053af2c4197b9338e5a4f52a75e",
       "version_major": 2,
       "version_minor": 0
      },
      "text/plain": [
       "  0%|          | 0/4000 [00:00<?, ?it/s]"
      ]
     },
     "metadata": {},
     "output_type": "display_data"
    },
    {
     "data": {
      "application/vnd.jupyter.widget-view+json": {
       "model_id": "3a964ae2af2e46ef9a1b0277f55fae45",
       "version_major": 2,
       "version_minor": 0
      },
      "text/plain": [
       "  0%|          | 0/4000 [00:00<?, ?it/s]"
      ]
     },
     "metadata": {},
     "output_type": "display_data"
    },
    {
     "data": {
      "application/vnd.jupyter.widget-view+json": {
       "model_id": "91f35848bf8d42afa136df7949223c86",
       "version_major": 2,
       "version_minor": 0
      },
      "text/plain": [
       "  0%|          | 0/4000 [00:00<?, ?it/s]"
      ]
     },
     "metadata": {},
     "output_type": "display_data"
    },
    {
     "data": {
      "application/vnd.jupyter.widget-view+json": {
       "model_id": "e68bfb7abd784bfc967a182b76979576",
       "version_major": 2,
       "version_minor": 0
      },
      "text/plain": [
       "  0%|          | 0/4000 [00:00<?, ?it/s]"
      ]
     },
     "metadata": {},
     "output_type": "display_data"
    },
    {
     "data": {
      "application/vnd.jupyter.widget-view+json": {
       "model_id": "e190dc070a494762aa013e24369a97ac",
       "version_major": 2,
       "version_minor": 0
      },
      "text/plain": [
       "  0%|          | 0/4000 [00:00<?, ?it/s]"
      ]
     },
     "metadata": {},
     "output_type": "display_data"
    },
    {
     "data": {
      "application/vnd.jupyter.widget-view+json": {
       "model_id": "4cd97e2951974a1dba486d089e6a4ea6",
       "version_major": 2,
       "version_minor": 0
      },
      "text/plain": [
       "  0%|          | 0/4000 [00:00<?, ?it/s]"
      ]
     },
     "metadata": {},
     "output_type": "display_data"
    },
    {
     "data": {
      "application/vnd.jupyter.widget-view+json": {
       "model_id": "19e0fff247b34202a3b1ee5953915e84",
       "version_major": 2,
       "version_minor": 0
      },
      "text/plain": [
       "  0%|          | 0/4000 [00:00<?, ?it/s]"
      ]
     },
     "metadata": {},
     "output_type": "display_data"
    },
    {
     "data": {
      "application/vnd.jupyter.widget-view+json": {
       "model_id": "ce5ba2824fcf4cbcb91fff0136ff1920",
       "version_major": 2,
       "version_minor": 0
      },
      "text/plain": [
       "  0%|          | 0/4000 [00:00<?, ?it/s]"
      ]
     },
     "metadata": {},
     "output_type": "display_data"
    },
    {
     "data": {
      "application/vnd.jupyter.widget-view+json": {
       "model_id": "99086dc8e45842d78ec09e5b6b7973be",
       "version_major": 2,
       "version_minor": 0
      },
      "text/plain": [
       "  0%|          | 0/4000 [00:00<?, ?it/s]"
      ]
     },
     "metadata": {},
     "output_type": "display_data"
    },
    {
     "data": {
      "application/vnd.jupyter.widget-view+json": {
       "model_id": "43c06db97e2d48b4aae1e628848ebab9",
       "version_major": 2,
       "version_minor": 0
      },
      "text/plain": [
       "  0%|          | 0/4000 [00:00<?, ?it/s]"
      ]
     },
     "metadata": {},
     "output_type": "display_data"
    },
    {
     "data": {
      "application/vnd.jupyter.widget-view+json": {
       "model_id": "af595cc3fca44b04b12d17e347a346bd",
       "version_major": 2,
       "version_minor": 0
      },
      "text/plain": [
       "  0%|          | 0/4000 [00:00<?, ?it/s]"
      ]
     },
     "metadata": {},
     "output_type": "display_data"
    },
    {
     "data": {
      "application/vnd.jupyter.widget-view+json": {
       "model_id": "f7047fb39f964570a1ff09b8966962d0",
       "version_major": 2,
       "version_minor": 0
      },
      "text/plain": [
       "  0%|          | 0/4000 [00:00<?, ?it/s]"
      ]
     },
     "metadata": {},
     "output_type": "display_data"
    },
    {
     "data": {
      "application/vnd.jupyter.widget-view+json": {
       "model_id": "f8790ef02f6a44a39064d5fe6222c9b1",
       "version_major": 2,
       "version_minor": 0
      },
      "text/plain": [
       "  0%|          | 0/4000 [00:00<?, ?it/s]"
      ]
     },
     "metadata": {},
     "output_type": "display_data"
    },
    {
     "data": {
      "application/vnd.jupyter.widget-view+json": {
       "model_id": "48d16854ae1e4a898ff16d30f141f1b8",
       "version_major": 2,
       "version_minor": 0
      },
      "text/plain": [
       "  0%|          | 0/4000 [00:00<?, ?it/s]"
      ]
     },
     "metadata": {},
     "output_type": "display_data"
    },
    {
     "data": {
      "application/vnd.jupyter.widget-view+json": {
       "model_id": "ab4731965317455bb34961bd10165706",
       "version_major": 2,
       "version_minor": 0
      },
      "text/plain": [
       "  0%|          | 0/4000 [00:00<?, ?it/s]"
      ]
     },
     "metadata": {},
     "output_type": "display_data"
    },
    {
     "data": {
      "application/vnd.jupyter.widget-view+json": {
       "model_id": "07feeee7be4246abae6ff4ada1bd6d9f",
       "version_major": 2,
       "version_minor": 0
      },
      "text/plain": [
       "  0%|          | 0/4000 [00:00<?, ?it/s]"
      ]
     },
     "metadata": {},
     "output_type": "display_data"
    },
    {
     "data": {
      "application/vnd.jupyter.widget-view+json": {
       "model_id": "3b559f089ea54804b54a72f5f03a0168",
       "version_major": 2,
       "version_minor": 0
      },
      "text/plain": [
       "  0%|          | 0/4000 [00:00<?, ?it/s]"
      ]
     },
     "metadata": {},
     "output_type": "display_data"
    },
    {
     "data": {
      "application/vnd.jupyter.widget-view+json": {
       "model_id": "199968dbfd88498dae8707284ecb928a",
       "version_major": 2,
       "version_minor": 0
      },
      "text/plain": [
       "  0%|          | 0/4000 [00:00<?, ?it/s]"
      ]
     },
     "metadata": {},
     "output_type": "display_data"
    },
    {
     "data": {
      "application/vnd.jupyter.widget-view+json": {
       "model_id": "6af53b7304444fcf8b5acf1b44bcd574",
       "version_major": 2,
       "version_minor": 0
      },
      "text/plain": [
       "  0%|          | 0/4000 [00:00<?, ?it/s]"
      ]
     },
     "metadata": {},
     "output_type": "display_data"
    },
    {
     "data": {
      "application/vnd.jupyter.widget-view+json": {
       "model_id": "56f09135e7334839adf6762d3aabda7a",
       "version_major": 2,
       "version_minor": 0
      },
      "text/plain": [
       "  0%|          | 0/4000 [00:00<?, ?it/s]"
      ]
     },
     "metadata": {},
     "output_type": "display_data"
    },
    {
     "data": {
      "application/vnd.jupyter.widget-view+json": {
       "model_id": "5863fa87a1bd453e83269eda13d42ed4",
       "version_major": 2,
       "version_minor": 0
      },
      "text/plain": [
       "  0%|          | 0/4000 [00:00<?, ?it/s]"
      ]
     },
     "metadata": {},
     "output_type": "display_data"
    },
    {
     "data": {
      "application/vnd.jupyter.widget-view+json": {
       "model_id": "e48eedbd04e84e07800af84332a7650a",
       "version_major": 2,
       "version_minor": 0
      },
      "text/plain": [
       "  0%|          | 0/4000 [00:00<?, ?it/s]"
      ]
     },
     "metadata": {},
     "output_type": "display_data"
    },
    {
     "data": {
      "application/vnd.jupyter.widget-view+json": {
       "model_id": "2e60e7c609204a548480a6f5cab0d35e",
       "version_major": 2,
       "version_minor": 0
      },
      "text/plain": [
       "  0%|          | 0/4000 [00:00<?, ?it/s]"
      ]
     },
     "metadata": {},
     "output_type": "display_data"
    },
    {
     "data": {
      "application/vnd.jupyter.widget-view+json": {
       "model_id": "6a0a447ac4b347baa04cbc89d8f604ba",
       "version_major": 2,
       "version_minor": 0
      },
      "text/plain": [
       "  0%|          | 0/4000 [00:00<?, ?it/s]"
      ]
     },
     "metadata": {},
     "output_type": "display_data"
    },
    {
     "data": {
      "application/vnd.jupyter.widget-view+json": {
       "model_id": "824d686cb88046f09d8abf6258be0ad6",
       "version_major": 2,
       "version_minor": 0
      },
      "text/plain": [
       "  0%|          | 0/4000 [00:00<?, ?it/s]"
      ]
     },
     "metadata": {},
     "output_type": "display_data"
    },
    {
     "data": {
      "application/vnd.jupyter.widget-view+json": {
       "model_id": "9156e9c40c18425e953fe1940e14bec9",
       "version_major": 2,
       "version_minor": 0
      },
      "text/plain": [
       "  0%|          | 0/4000 [00:00<?, ?it/s]"
      ]
     },
     "metadata": {},
     "output_type": "display_data"
    },
    {
     "data": {
      "application/vnd.jupyter.widget-view+json": {
       "model_id": "1be25e72bb7a4f3084ccf1c8c5ced447",
       "version_major": 2,
       "version_minor": 0
      },
      "text/plain": [
       "  0%|          | 0/4000 [00:00<?, ?it/s]"
      ]
     },
     "metadata": {},
     "output_type": "display_data"
    },
    {
     "data": {
      "application/vnd.jupyter.widget-view+json": {
       "model_id": "6bf639b97a314e50a4292451419d5847",
       "version_major": 2,
       "version_minor": 0
      },
      "text/plain": [
       "  0%|          | 0/4000 [00:00<?, ?it/s]"
      ]
     },
     "metadata": {},
     "output_type": "display_data"
    },
    {
     "data": {
      "application/vnd.jupyter.widget-view+json": {
       "model_id": "2f3d9bb2294c4046a4dbd68f1670d7f8",
       "version_major": 2,
       "version_minor": 0
      },
      "text/plain": [
       "  0%|          | 0/4000 [00:00<?, ?it/s]"
      ]
     },
     "metadata": {},
     "output_type": "display_data"
    },
    {
     "data": {
      "application/vnd.jupyter.widget-view+json": {
       "model_id": "77ed0c99c92e412795a3c27380146f7f",
       "version_major": 2,
       "version_minor": 0
      },
      "text/plain": [
       "  0%|          | 0/4000 [00:00<?, ?it/s]"
      ]
     },
     "metadata": {},
     "output_type": "display_data"
    },
    {
     "data": {
      "application/vnd.jupyter.widget-view+json": {
       "model_id": "1d6d7244813e44c69e52fc44ae25e209",
       "version_major": 2,
       "version_minor": 0
      },
      "text/plain": [
       "  0%|          | 0/4000 [00:00<?, ?it/s]"
      ]
     },
     "metadata": {},
     "output_type": "display_data"
    },
    {
     "data": {
      "application/vnd.jupyter.widget-view+json": {
       "model_id": "e137f7c9d7b14607a45219b3ddcf962e",
       "version_major": 2,
       "version_minor": 0
      },
      "text/plain": [
       "  0%|          | 0/4000 [00:00<?, ?it/s]"
      ]
     },
     "metadata": {},
     "output_type": "display_data"
    },
    {
     "data": {
      "application/vnd.jupyter.widget-view+json": {
       "model_id": "ac535c8ca3994fbbb51fcca7dab64209",
       "version_major": 2,
       "version_minor": 0
      },
      "text/plain": [
       "  0%|          | 0/4000 [00:00<?, ?it/s]"
      ]
     },
     "metadata": {},
     "output_type": "display_data"
    },
    {
     "data": {
      "application/vnd.jupyter.widget-view+json": {
       "model_id": "7cb8223e51ab4ee28f12256511404514",
       "version_major": 2,
       "version_minor": 0
      },
      "text/plain": [
       "  0%|          | 0/4000 [00:00<?, ?it/s]"
      ]
     },
     "metadata": {},
     "output_type": "display_data"
    },
    {
     "data": {
      "application/vnd.jupyter.widget-view+json": {
       "model_id": "f00dd378a5524e388896cd8c48e995e1",
       "version_major": 2,
       "version_minor": 0
      },
      "text/plain": [
       "  0%|          | 0/4000 [00:00<?, ?it/s]"
      ]
     },
     "metadata": {},
     "output_type": "display_data"
    },
    {
     "data": {
      "application/vnd.jupyter.widget-view+json": {
       "model_id": "2b72511013d94451b54096e93ffe5f75",
       "version_major": 2,
       "version_minor": 0
      },
      "text/plain": [
       "  0%|          | 0/4000 [00:00<?, ?it/s]"
      ]
     },
     "metadata": {},
     "output_type": "display_data"
    },
    {
     "data": {
      "application/vnd.jupyter.widget-view+json": {
       "model_id": "697eeb46645a49f8ace4659d30b15c15",
       "version_major": 2,
       "version_minor": 0
      },
      "text/plain": [
       "  0%|          | 0/4000 [00:00<?, ?it/s]"
      ]
     },
     "metadata": {},
     "output_type": "display_data"
    },
    {
     "data": {
      "application/vnd.jupyter.widget-view+json": {
       "model_id": "6334e0445294456f8f2ee200253758a8",
       "version_major": 2,
       "version_minor": 0
      },
      "text/plain": [
       "  0%|          | 0/4000 [00:00<?, ?it/s]"
      ]
     },
     "metadata": {},
     "output_type": "display_data"
    },
    {
     "data": {
      "application/vnd.jupyter.widget-view+json": {
       "model_id": "8df6e7ba567544f2adcbadfc90059438",
       "version_major": 2,
       "version_minor": 0
      },
      "text/plain": [
       "  0%|          | 0/4000 [00:00<?, ?it/s]"
      ]
     },
     "metadata": {},
     "output_type": "display_data"
    },
    {
     "data": {
      "application/vnd.jupyter.widget-view+json": {
       "model_id": "099e509dfe1d4edd9fd8d7cfa82e32bc",
       "version_major": 2,
       "version_minor": 0
      },
      "text/plain": [
       "  0%|          | 0/4000 [00:00<?, ?it/s]"
      ]
     },
     "metadata": {},
     "output_type": "display_data"
    },
    {
     "data": {
      "application/vnd.jupyter.widget-view+json": {
       "model_id": "1b61c693ca5c43cbb8526ce34c06c805",
       "version_major": 2,
       "version_minor": 0
      },
      "text/plain": [
       "  0%|          | 0/4000 [00:00<?, ?it/s]"
      ]
     },
     "metadata": {},
     "output_type": "display_data"
    },
    {
     "data": {
      "application/vnd.jupyter.widget-view+json": {
       "model_id": "f0d3835dbda645b48d88279a20bfb4ff",
       "version_major": 2,
       "version_minor": 0
      },
      "text/plain": [
       "  0%|          | 0/4000 [00:00<?, ?it/s]"
      ]
     },
     "metadata": {},
     "output_type": "display_data"
    },
    {
     "data": {
      "application/vnd.jupyter.widget-view+json": {
       "model_id": "a18a9e6ed70a4e98945c0e6466d0d981",
       "version_major": 2,
       "version_minor": 0
      },
      "text/plain": [
       "  0%|          | 0/4000 [00:00<?, ?it/s]"
      ]
     },
     "metadata": {},
     "output_type": "display_data"
    },
    {
     "data": {
      "application/vnd.jupyter.widget-view+json": {
       "model_id": "71428b91f5044c68bbe5bf1a52945c84",
       "version_major": 2,
       "version_minor": 0
      },
      "text/plain": [
       "  0%|          | 0/4000 [00:00<?, ?it/s]"
      ]
     },
     "metadata": {},
     "output_type": "display_data"
    },
    {
     "data": {
      "application/vnd.jupyter.widget-view+json": {
       "model_id": "4acd2864c5bc4ab0929b49df0104fe9a",
       "version_major": 2,
       "version_minor": 0
      },
      "text/plain": [
       "  0%|          | 0/4000 [00:00<?, ?it/s]"
      ]
     },
     "metadata": {},
     "output_type": "display_data"
    },
    {
     "data": {
      "application/vnd.jupyter.widget-view+json": {
       "model_id": "52499125b6fc4a339298fdd17073060f",
       "version_major": 2,
       "version_minor": 0
      },
      "text/plain": [
       "  0%|          | 0/4000 [00:00<?, ?it/s]"
      ]
     },
     "metadata": {},
     "output_type": "display_data"
    },
    {
     "data": {
      "application/vnd.jupyter.widget-view+json": {
       "model_id": "a89d076132c445b6b1fd93e2230562ad",
       "version_major": 2,
       "version_minor": 0
      },
      "text/plain": [
       "  0%|          | 0/4000 [00:00<?, ?it/s]"
      ]
     },
     "metadata": {},
     "output_type": "display_data"
    },
    {
     "data": {
      "application/vnd.jupyter.widget-view+json": {
       "model_id": "ced9319478d441d485dafd098253a80c",
       "version_major": 2,
       "version_minor": 0
      },
      "text/plain": [
       "  0%|          | 0/4000 [00:00<?, ?it/s]"
      ]
     },
     "metadata": {},
     "output_type": "display_data"
    },
    {
     "data": {
      "application/vnd.jupyter.widget-view+json": {
       "model_id": "f0879bf4e77f497483bc182dd3ceedf4",
       "version_major": 2,
       "version_minor": 0
      },
      "text/plain": [
       "  0%|          | 0/4000 [00:00<?, ?it/s]"
      ]
     },
     "metadata": {},
     "output_type": "display_data"
    },
    {
     "data": {
      "application/vnd.jupyter.widget-view+json": {
       "model_id": "612409fc972c4e0292a382f8f05b7bb6",
       "version_major": 2,
       "version_minor": 0
      },
      "text/plain": [
       "  0%|          | 0/4000 [00:00<?, ?it/s]"
      ]
     },
     "metadata": {},
     "output_type": "display_data"
    },
    {
     "data": {
      "application/vnd.jupyter.widget-view+json": {
       "model_id": "b0f5b2cc337d4c3794a153bd4b7c0d6f",
       "version_major": 2,
       "version_minor": 0
      },
      "text/plain": [
       "  0%|          | 0/4000 [00:00<?, ?it/s]"
      ]
     },
     "metadata": {},
     "output_type": "display_data"
    },
    {
     "data": {
      "application/vnd.jupyter.widget-view+json": {
       "model_id": "f990eb3fb52646ac9cd66c87875787da",
       "version_major": 2,
       "version_minor": 0
      },
      "text/plain": [
       "  0%|          | 0/4000 [00:00<?, ?it/s]"
      ]
     },
     "metadata": {},
     "output_type": "display_data"
    },
    {
     "data": {
      "application/vnd.jupyter.widget-view+json": {
       "model_id": "351dacd7ed8a4b89a07fe20a02781136",
       "version_major": 2,
       "version_minor": 0
      },
      "text/plain": [
       "  0%|          | 0/4000 [00:00<?, ?it/s]"
      ]
     },
     "metadata": {},
     "output_type": "display_data"
    },
    {
     "data": {
      "application/vnd.jupyter.widget-view+json": {
       "model_id": "3f4040a944b747b9bcb14469a2d3757a",
       "version_major": 2,
       "version_minor": 0
      },
      "text/plain": [
       "  0%|          | 0/4000 [00:00<?, ?it/s]"
      ]
     },
     "metadata": {},
     "output_type": "display_data"
    },
    {
     "data": {
      "application/vnd.jupyter.widget-view+json": {
       "model_id": "44953f4417c0447b95c9105671547755",
       "version_major": 2,
       "version_minor": 0
      },
      "text/plain": [
       "  0%|          | 0/4000 [00:00<?, ?it/s]"
      ]
     },
     "metadata": {},
     "output_type": "display_data"
    },
    {
     "data": {
      "application/vnd.jupyter.widget-view+json": {
       "model_id": "c0ae3e82623e4aad87a3784e73d84e5b",
       "version_major": 2,
       "version_minor": 0
      },
      "text/plain": [
       "  0%|          | 0/4000 [00:00<?, ?it/s]"
      ]
     },
     "metadata": {},
     "output_type": "display_data"
    },
    {
     "data": {
      "application/vnd.jupyter.widget-view+json": {
       "model_id": "0fe6421b6f2548e6b8b26746464f980d",
       "version_major": 2,
       "version_minor": 0
      },
      "text/plain": [
       "  0%|          | 0/4000 [00:00<?, ?it/s]"
      ]
     },
     "metadata": {},
     "output_type": "display_data"
    },
    {
     "data": {
      "application/vnd.jupyter.widget-view+json": {
       "model_id": "1f6058e1da874a4e8bbcb8dbcbacc730",
       "version_major": 2,
       "version_minor": 0
      },
      "text/plain": [
       "  0%|          | 0/4000 [00:00<?, ?it/s]"
      ]
     },
     "metadata": {},
     "output_type": "display_data"
    },
    {
     "data": {
      "application/vnd.jupyter.widget-view+json": {
       "model_id": "f3d58470215b4eda81e035238b97a9b6",
       "version_major": 2,
       "version_minor": 0
      },
      "text/plain": [
       "  0%|          | 0/4000 [00:00<?, ?it/s]"
      ]
     },
     "metadata": {},
     "output_type": "display_data"
    },
    {
     "data": {
      "application/vnd.jupyter.widget-view+json": {
       "model_id": "4cdebc8fb8d5457a9f67508be3937d03",
       "version_major": 2,
       "version_minor": 0
      },
      "text/plain": [
       "  0%|          | 0/4000 [00:00<?, ?it/s]"
      ]
     },
     "metadata": {},
     "output_type": "display_data"
    },
    {
     "data": {
      "application/vnd.jupyter.widget-view+json": {
       "model_id": "53843705407744fa8ed318d2c5cbfd25",
       "version_major": 2,
       "version_minor": 0
      },
      "text/plain": [
       "  0%|          | 0/4000 [00:00<?, ?it/s]"
      ]
     },
     "metadata": {},
     "output_type": "display_data"
    },
    {
     "data": {
      "application/vnd.jupyter.widget-view+json": {
       "model_id": "a03853815933428b9fd0e21fee1c6f8d",
       "version_major": 2,
       "version_minor": 0
      },
      "text/plain": [
       "  0%|          | 0/4000 [00:00<?, ?it/s]"
      ]
     },
     "metadata": {},
     "output_type": "display_data"
    },
    {
     "data": {
      "application/vnd.jupyter.widget-view+json": {
       "model_id": "e3fdd6375fd84ed8b733da3786979bc6",
       "version_major": 2,
       "version_minor": 0
      },
      "text/plain": [
       "  0%|          | 0/4000 [00:00<?, ?it/s]"
      ]
     },
     "metadata": {},
     "output_type": "display_data"
    },
    {
     "data": {
      "application/vnd.jupyter.widget-view+json": {
       "model_id": "996044707a654ae7ad38e871bab34844",
       "version_major": 2,
       "version_minor": 0
      },
      "text/plain": [
       "  0%|          | 0/4000 [00:00<?, ?it/s]"
      ]
     },
     "metadata": {},
     "output_type": "display_data"
    },
    {
     "data": {
      "application/vnd.jupyter.widget-view+json": {
       "model_id": "394ebef2a93f4766a243cf2d875b909e",
       "version_major": 2,
       "version_minor": 0
      },
      "text/plain": [
       "  0%|          | 0/4000 [00:00<?, ?it/s]"
      ]
     },
     "metadata": {},
     "output_type": "display_data"
    },
    {
     "data": {
      "application/vnd.jupyter.widget-view+json": {
       "model_id": "7b870de4f0f84e77990a451c1fd57389",
       "version_major": 2,
       "version_minor": 0
      },
      "text/plain": [
       "  0%|          | 0/4000 [00:00<?, ?it/s]"
      ]
     },
     "metadata": {},
     "output_type": "display_data"
    },
    {
     "data": {
      "application/vnd.jupyter.widget-view+json": {
       "model_id": "0d0edd80eaf2490e812af9581f6ba90e",
       "version_major": 2,
       "version_minor": 0
      },
      "text/plain": [
       "  0%|          | 0/4000 [00:00<?, ?it/s]"
      ]
     },
     "metadata": {},
     "output_type": "display_data"
    },
    {
     "data": {
      "application/vnd.jupyter.widget-view+json": {
       "model_id": "0fecd6f1f77040a287a422a97f27989a",
       "version_major": 2,
       "version_minor": 0
      },
      "text/plain": [
       "  0%|          | 0/4000 [00:00<?, ?it/s]"
      ]
     },
     "metadata": {},
     "output_type": "display_data"
    },
    {
     "data": {
      "application/vnd.jupyter.widget-view+json": {
       "model_id": "33eb7d59b49e4897a3585eaef8c1ba7c",
       "version_major": 2,
       "version_minor": 0
      },
      "text/plain": [
       "  0%|          | 0/4000 [00:00<?, ?it/s]"
      ]
     },
     "metadata": {},
     "output_type": "display_data"
    },
    {
     "data": {
      "application/vnd.jupyter.widget-view+json": {
       "model_id": "72c14c9a46e84203a24f6b506ef98fae",
       "version_major": 2,
       "version_minor": 0
      },
      "text/plain": [
       "  0%|          | 0/4000 [00:00<?, ?it/s]"
      ]
     },
     "metadata": {},
     "output_type": "display_data"
    },
    {
     "data": {
      "application/vnd.jupyter.widget-view+json": {
       "model_id": "bcd04f1479de46a29a0ac41a4514df0f",
       "version_major": 2,
       "version_minor": 0
      },
      "text/plain": [
       "  0%|          | 0/4000 [00:00<?, ?it/s]"
      ]
     },
     "metadata": {},
     "output_type": "display_data"
    },
    {
     "data": {
      "application/vnd.jupyter.widget-view+json": {
       "model_id": "e43a9d47148f4d10aec161c90acc21b3",
       "version_major": 2,
       "version_minor": 0
      },
      "text/plain": [
       "  0%|          | 0/4000 [00:00<?, ?it/s]"
      ]
     },
     "metadata": {},
     "output_type": "display_data"
    },
    {
     "data": {
      "application/vnd.jupyter.widget-view+json": {
       "model_id": "6f0af3ff096b4900b94bb971a65d3d00",
       "version_major": 2,
       "version_minor": 0
      },
      "text/plain": [
       "  0%|          | 0/4000 [00:00<?, ?it/s]"
      ]
     },
     "metadata": {},
     "output_type": "display_data"
    },
    {
     "data": {
      "application/vnd.jupyter.widget-view+json": {
       "model_id": "601c0d61f4e4417f9e3aac8943921e51",
       "version_major": 2,
       "version_minor": 0
      },
      "text/plain": [
       "  0%|          | 0/4000 [00:00<?, ?it/s]"
      ]
     },
     "metadata": {},
     "output_type": "display_data"
    },
    {
     "data": {
      "application/vnd.jupyter.widget-view+json": {
       "model_id": "07a0d4861006420d91cf986c4bce4e37",
       "version_major": 2,
       "version_minor": 0
      },
      "text/plain": [
       "  0%|          | 0/4000 [00:00<?, ?it/s]"
      ]
     },
     "metadata": {},
     "output_type": "display_data"
    },
    {
     "data": {
      "application/vnd.jupyter.widget-view+json": {
       "model_id": "1a40ce8741f54d0cad359a1b128f9052",
       "version_major": 2,
       "version_minor": 0
      },
      "text/plain": [
       "  0%|          | 0/4000 [00:00<?, ?it/s]"
      ]
     },
     "metadata": {},
     "output_type": "display_data"
    },
    {
     "data": {
      "application/vnd.jupyter.widget-view+json": {
       "model_id": "36f82143fddd47f2b5260c7c86fa8c97",
       "version_major": 2,
       "version_minor": 0
      },
      "text/plain": [
       "  0%|          | 0/4000 [00:00<?, ?it/s]"
      ]
     },
     "metadata": {},
     "output_type": "display_data"
    },
    {
     "data": {
      "application/vnd.jupyter.widget-view+json": {
       "model_id": "e9e1be527da64856b02dc0dca35c6c3e",
       "version_major": 2,
       "version_minor": 0
      },
      "text/plain": [
       "  0%|          | 0/4000 [00:00<?, ?it/s]"
      ]
     },
     "metadata": {},
     "output_type": "display_data"
    },
    {
     "data": {
      "application/vnd.jupyter.widget-view+json": {
       "model_id": "9528a9e481da4403b7a15116443b47b0",
       "version_major": 2,
       "version_minor": 0
      },
      "text/plain": [
       "  0%|          | 0/4000 [00:00<?, ?it/s]"
      ]
     },
     "metadata": {},
     "output_type": "display_data"
    },
    {
     "data": {
      "application/vnd.jupyter.widget-view+json": {
       "model_id": "1d5910c4c0f44ce98b85f81b7f5a9774",
       "version_major": 2,
       "version_minor": 0
      },
      "text/plain": [
       "  0%|          | 0/4000 [00:00<?, ?it/s]"
      ]
     },
     "metadata": {},
     "output_type": "display_data"
    },
    {
     "data": {
      "application/vnd.jupyter.widget-view+json": {
       "model_id": "8d201016f02342a3b31a5166336d3fac",
       "version_major": 2,
       "version_minor": 0
      },
      "text/plain": [
       "  0%|          | 0/4000 [00:00<?, ?it/s]"
      ]
     },
     "metadata": {},
     "output_type": "display_data"
    },
    {
     "data": {
      "application/vnd.jupyter.widget-view+json": {
       "model_id": "06d5d512572e4953ae387061ab189c14",
       "version_major": 2,
       "version_minor": 0
      },
      "text/plain": [
       "  0%|          | 0/4000 [00:00<?, ?it/s]"
      ]
     },
     "metadata": {},
     "output_type": "display_data"
    },
    {
     "data": {
      "application/vnd.jupyter.widget-view+json": {
       "model_id": "585538bc925745a6848244f389f44fe5",
       "version_major": 2,
       "version_minor": 0
      },
      "text/plain": [
       "  0%|          | 0/4000 [00:00<?, ?it/s]"
      ]
     },
     "metadata": {},
     "output_type": "display_data"
    },
    {
     "data": {
      "application/vnd.jupyter.widget-view+json": {
       "model_id": "95364cc490af43b590f91f9d8d50445d",
       "version_major": 2,
       "version_minor": 0
      },
      "text/plain": [
       "  0%|          | 0/4000 [00:00<?, ?it/s]"
      ]
     },
     "metadata": {},
     "output_type": "display_data"
    },
    {
     "data": {
      "application/vnd.jupyter.widget-view+json": {
       "model_id": "b8fc0cff20c342f1a9a0876dfbd11af6",
       "version_major": 2,
       "version_minor": 0
      },
      "text/plain": [
       "  0%|          | 0/4000 [00:00<?, ?it/s]"
      ]
     },
     "metadata": {},
     "output_type": "display_data"
    },
    {
     "data": {
      "application/vnd.jupyter.widget-view+json": {
       "model_id": "57f0bf191f6e4463918130dbad7aa772",
       "version_major": 2,
       "version_minor": 0
      },
      "text/plain": [
       "  0%|          | 0/4000 [00:00<?, ?it/s]"
      ]
     },
     "metadata": {},
     "output_type": "display_data"
    },
    {
     "data": {
      "application/vnd.jupyter.widget-view+json": {
       "model_id": "d9215a8f2db04c388387bebaeab23519",
       "version_major": 2,
       "version_minor": 0
      },
      "text/plain": [
       "  0%|          | 0/4000 [00:00<?, ?it/s]"
      ]
     },
     "metadata": {},
     "output_type": "display_data"
    },
    {
     "data": {
      "application/vnd.jupyter.widget-view+json": {
       "model_id": "7e8a0d88515549f68908f0f4d17018a0",
       "version_major": 2,
       "version_minor": 0
      },
      "text/plain": [
       "  0%|          | 0/4000 [00:00<?, ?it/s]"
      ]
     },
     "metadata": {},
     "output_type": "display_data"
    },
    {
     "data": {
      "application/vnd.jupyter.widget-view+json": {
       "model_id": "258f2351c656463aaf86bab2a09a870e",
       "version_major": 2,
       "version_minor": 0
      },
      "text/plain": [
       "  0%|          | 0/4000 [00:00<?, ?it/s]"
      ]
     },
     "metadata": {},
     "output_type": "display_data"
    },
    {
     "data": {
      "application/vnd.jupyter.widget-view+json": {
       "model_id": "68b6292c318948b2bf9027d758d55277",
       "version_major": 2,
       "version_minor": 0
      },
      "text/plain": [
       "  0%|          | 0/4000 [00:00<?, ?it/s]"
      ]
     },
     "metadata": {},
     "output_type": "display_data"
    },
    {
     "data": {
      "application/vnd.jupyter.widget-view+json": {
       "model_id": "bdf08176cc744054899fbf4641ab73ba",
       "version_major": 2,
       "version_minor": 0
      },
      "text/plain": [
       "  0%|          | 0/4000 [00:00<?, ?it/s]"
      ]
     },
     "metadata": {},
     "output_type": "display_data"
    },
    {
     "data": {
      "application/vnd.jupyter.widget-view+json": {
       "model_id": "07cc5b7a473b43a08a5c1425ffa8ffae",
       "version_major": 2,
       "version_minor": 0
      },
      "text/plain": [
       "  0%|          | 0/4000 [00:00<?, ?it/s]"
      ]
     },
     "metadata": {},
     "output_type": "display_data"
    },
    {
     "data": {
      "application/vnd.jupyter.widget-view+json": {
       "model_id": "8dd1db27ba8b4e0084db2f3175ae5412",
       "version_major": 2,
       "version_minor": 0
      },
      "text/plain": [
       "  0%|          | 0/4000 [00:00<?, ?it/s]"
      ]
     },
     "metadata": {},
     "output_type": "display_data"
    },
    {
     "data": {
      "application/vnd.jupyter.widget-view+json": {
       "model_id": "e71bd77d7d3d44eda350fcb419013954",
       "version_major": 2,
       "version_minor": 0
      },
      "text/plain": [
       "  0%|          | 0/4000 [00:00<?, ?it/s]"
      ]
     },
     "metadata": {},
     "output_type": "display_data"
    },
    {
     "data": {
      "application/vnd.jupyter.widget-view+json": {
       "model_id": "bd79df8549274faaa3b45e036f28cfad",
       "version_major": 2,
       "version_minor": 0
      },
      "text/plain": [
       "  0%|          | 0/4000 [00:00<?, ?it/s]"
      ]
     },
     "metadata": {},
     "output_type": "display_data"
    },
    {
     "data": {
      "application/vnd.jupyter.widget-view+json": {
       "model_id": "6af84a3916e24e13b175cd05bc3f3775",
       "version_major": 2,
       "version_minor": 0
      },
      "text/plain": [
       "  0%|          | 0/4000 [00:00<?, ?it/s]"
      ]
     },
     "metadata": {},
     "output_type": "display_data"
    },
    {
     "data": {
      "application/vnd.jupyter.widget-view+json": {
       "model_id": "1ee86663d02d4215b91a133acf2c71e7",
       "version_major": 2,
       "version_minor": 0
      },
      "text/plain": [
       "  0%|          | 0/4000 [00:00<?, ?it/s]"
      ]
     },
     "metadata": {},
     "output_type": "display_data"
    },
    {
     "data": {
      "application/vnd.jupyter.widget-view+json": {
       "model_id": "de94ac626b2c473da7cc21073229f83b",
       "version_major": 2,
       "version_minor": 0
      },
      "text/plain": [
       "  0%|          | 0/4000 [00:00<?, ?it/s]"
      ]
     },
     "metadata": {},
     "output_type": "display_data"
    },
    {
     "data": {
      "application/vnd.jupyter.widget-view+json": {
       "model_id": "14145fa0f58e41a8b954942fc74b8110",
       "version_major": 2,
       "version_minor": 0
      },
      "text/plain": [
       "  0%|          | 0/4000 [00:00<?, ?it/s]"
      ]
     },
     "metadata": {},
     "output_type": "display_data"
    },
    {
     "data": {
      "application/vnd.jupyter.widget-view+json": {
       "model_id": "5308710c01c848dbb7b8b92ce99499ee",
       "version_major": 2,
       "version_minor": 0
      },
      "text/plain": [
       "  0%|          | 0/4000 [00:00<?, ?it/s]"
      ]
     },
     "metadata": {},
     "output_type": "display_data"
    },
    {
     "data": {
      "application/vnd.jupyter.widget-view+json": {
       "model_id": "20a19fd1749641869a4145b39f0394ce",
       "version_major": 2,
       "version_minor": 0
      },
      "text/plain": [
       "  0%|          | 0/4000 [00:00<?, ?it/s]"
      ]
     },
     "metadata": {},
     "output_type": "display_data"
    },
    {
     "data": {
      "application/vnd.jupyter.widget-view+json": {
       "model_id": "e14c2b55744e4c2d896aa58c0486f214",
       "version_major": 2,
       "version_minor": 0
      },
      "text/plain": [
       "  0%|          | 0/4000 [00:00<?, ?it/s]"
      ]
     },
     "metadata": {},
     "output_type": "display_data"
    },
    {
     "data": {
      "application/vnd.jupyter.widget-view+json": {
       "model_id": "33b1d568ce7b41d4bf92621150d038b3",
       "version_major": 2,
       "version_minor": 0
      },
      "text/plain": [
       "  0%|          | 0/4000 [00:00<?, ?it/s]"
      ]
     },
     "metadata": {},
     "output_type": "display_data"
    },
    {
     "data": {
      "application/vnd.jupyter.widget-view+json": {
       "model_id": "e40709aad1af472d9a4fceb4febbd0eb",
       "version_major": 2,
       "version_minor": 0
      },
      "text/plain": [
       "  0%|          | 0/4000 [00:00<?, ?it/s]"
      ]
     },
     "metadata": {},
     "output_type": "display_data"
    },
    {
     "data": {
      "application/vnd.jupyter.widget-view+json": {
       "model_id": "9d77e1a95c1c49359540a2b9bf83c23e",
       "version_major": 2,
       "version_minor": 0
      },
      "text/plain": [
       "  0%|          | 0/4000 [00:00<?, ?it/s]"
      ]
     },
     "metadata": {},
     "output_type": "display_data"
    },
    {
     "data": {
      "application/vnd.jupyter.widget-view+json": {
       "model_id": "7e5a3218cf1641018e261ad393f0ef74",
       "version_major": 2,
       "version_minor": 0
      },
      "text/plain": [
       "  0%|          | 0/4000 [00:00<?, ?it/s]"
      ]
     },
     "metadata": {},
     "output_type": "display_data"
    },
    {
     "data": {
      "application/vnd.jupyter.widget-view+json": {
       "model_id": "24c64ba59a7840df8e4138516bfa2651",
       "version_major": 2,
       "version_minor": 0
      },
      "text/plain": [
       "  0%|          | 0/4000 [00:00<?, ?it/s]"
      ]
     },
     "metadata": {},
     "output_type": "display_data"
    },
    {
     "data": {
      "application/vnd.jupyter.widget-view+json": {
       "model_id": "5deba7d6b99440e7a4e5816f84dafdf6",
       "version_major": 2,
       "version_minor": 0
      },
      "text/plain": [
       "  0%|          | 0/4000 [00:00<?, ?it/s]"
      ]
     },
     "metadata": {},
     "output_type": "display_data"
    },
    {
     "data": {
      "application/vnd.jupyter.widget-view+json": {
       "model_id": "77c79811f6ad40b38c48828c656772a1",
       "version_major": 2,
       "version_minor": 0
      },
      "text/plain": [
       "  0%|          | 0/4000 [00:00<?, ?it/s]"
      ]
     },
     "metadata": {},
     "output_type": "display_data"
    },
    {
     "data": {
      "application/vnd.jupyter.widget-view+json": {
       "model_id": "a0b927cde88f431493c8ecfc4adb2465",
       "version_major": 2,
       "version_minor": 0
      },
      "text/plain": [
       "  0%|          | 0/4000 [00:00<?, ?it/s]"
      ]
     },
     "metadata": {},
     "output_type": "display_data"
    },
    {
     "data": {
      "application/vnd.jupyter.widget-view+json": {
       "model_id": "fb2fd80473de425fae748086553d412e",
       "version_major": 2,
       "version_minor": 0
      },
      "text/plain": [
       "  0%|          | 0/4000 [00:00<?, ?it/s]"
      ]
     },
     "metadata": {},
     "output_type": "display_data"
    },
    {
     "data": {
      "application/vnd.jupyter.widget-view+json": {
       "model_id": "007d898eda6340f0b6515aec297db64b",
       "version_major": 2,
       "version_minor": 0
      },
      "text/plain": [
       "  0%|          | 0/4000 [00:00<?, ?it/s]"
      ]
     },
     "metadata": {},
     "output_type": "display_data"
    },
    {
     "data": {
      "application/vnd.jupyter.widget-view+json": {
       "model_id": "c50307c05f0b4a38932d27686a57dce3",
       "version_major": 2,
       "version_minor": 0
      },
      "text/plain": [
       "  0%|          | 0/4000 [00:00<?, ?it/s]"
      ]
     },
     "metadata": {},
     "output_type": "display_data"
    },
    {
     "data": {
      "application/vnd.jupyter.widget-view+json": {
       "model_id": "1b69ce1bd06b4e17ad6f090265cec296",
       "version_major": 2,
       "version_minor": 0
      },
      "text/plain": [
       "  0%|          | 0/4000 [00:00<?, ?it/s]"
      ]
     },
     "metadata": {},
     "output_type": "display_data"
    },
    {
     "data": {
      "application/vnd.jupyter.widget-view+json": {
       "model_id": "4ae93e90d60e4586ae7bc14c805cccb8",
       "version_major": 2,
       "version_minor": 0
      },
      "text/plain": [
       "  0%|          | 0/4000 [00:00<?, ?it/s]"
      ]
     },
     "metadata": {},
     "output_type": "display_data"
    },
    {
     "data": {
      "application/vnd.jupyter.widget-view+json": {
       "model_id": "25a1be04e7944241bc4461a5f3b6bb90",
       "version_major": 2,
       "version_minor": 0
      },
      "text/plain": [
       "  0%|          | 0/4000 [00:00<?, ?it/s]"
      ]
     },
     "metadata": {},
     "output_type": "display_data"
    },
    {
     "data": {
      "application/vnd.jupyter.widget-view+json": {
       "model_id": "0841c83e0e3b487baab631c31eb0ca74",
       "version_major": 2,
       "version_minor": 0
      },
      "text/plain": [
       "  0%|          | 0/4000 [00:00<?, ?it/s]"
      ]
     },
     "metadata": {},
     "output_type": "display_data"
    },
    {
     "data": {
      "application/vnd.jupyter.widget-view+json": {
       "model_id": "bdd85f8192244548aa4d6885d3687263",
       "version_major": 2,
       "version_minor": 0
      },
      "text/plain": [
       "  0%|          | 0/4000 [00:00<?, ?it/s]"
      ]
     },
     "metadata": {},
     "output_type": "display_data"
    },
    {
     "data": {
      "application/vnd.jupyter.widget-view+json": {
       "model_id": "bd388284e61c4706a70f91d425e52132",
       "version_major": 2,
       "version_minor": 0
      },
      "text/plain": [
       "  0%|          | 0/4000 [00:00<?, ?it/s]"
      ]
     },
     "metadata": {},
     "output_type": "display_data"
    },
    {
     "data": {
      "application/vnd.jupyter.widget-view+json": {
       "model_id": "33f91bcde6a74f829264a01395591f0e",
       "version_major": 2,
       "version_minor": 0
      },
      "text/plain": [
       "  0%|          | 0/4000 [00:00<?, ?it/s]"
      ]
     },
     "metadata": {},
     "output_type": "display_data"
    },
    {
     "data": {
      "application/vnd.jupyter.widget-view+json": {
       "model_id": "667e1f2e4d364636ac8ac79b9838ec72",
       "version_major": 2,
       "version_minor": 0
      },
      "text/plain": [
       "  0%|          | 0/4000 [00:00<?, ?it/s]"
      ]
     },
     "metadata": {},
     "output_type": "display_data"
    },
    {
     "data": {
      "application/vnd.jupyter.widget-view+json": {
       "model_id": "8a5f6dd3144f4b0e85a410abdeeb6e66",
       "version_major": 2,
       "version_minor": 0
      },
      "text/plain": [
       "  0%|          | 0/4000 [00:00<?, ?it/s]"
      ]
     },
     "metadata": {},
     "output_type": "display_data"
    },
    {
     "data": {
      "application/vnd.jupyter.widget-view+json": {
       "model_id": "306e7d862fdd45c9b33a23b9928029b6",
       "version_major": 2,
       "version_minor": 0
      },
      "text/plain": [
       "  0%|          | 0/4000 [00:00<?, ?it/s]"
      ]
     },
     "metadata": {},
     "output_type": "display_data"
    },
    {
     "data": {
      "application/vnd.jupyter.widget-view+json": {
       "model_id": "baaa66f267954cf3836a279841d62472",
       "version_major": 2,
       "version_minor": 0
      },
      "text/plain": [
       "  0%|          | 0/4000 [00:00<?, ?it/s]"
      ]
     },
     "metadata": {},
     "output_type": "display_data"
    },
    {
     "data": {
      "application/vnd.jupyter.widget-view+json": {
       "model_id": "cf01fe38a3dc45e49af6455d941fc083",
       "version_major": 2,
       "version_minor": 0
      },
      "text/plain": [
       "  0%|          | 0/4000 [00:00<?, ?it/s]"
      ]
     },
     "metadata": {},
     "output_type": "display_data"
    },
    {
     "data": {
      "application/vnd.jupyter.widget-view+json": {
       "model_id": "31dd9c68f4d3477a97a231d6b7a59bc3",
       "version_major": 2,
       "version_minor": 0
      },
      "text/plain": [
       "  0%|          | 0/4000 [00:00<?, ?it/s]"
      ]
     },
     "metadata": {},
     "output_type": "display_data"
    },
    {
     "data": {
      "application/vnd.jupyter.widget-view+json": {
       "model_id": "82d088261383493b81d67473fb3420c2",
       "version_major": 2,
       "version_minor": 0
      },
      "text/plain": [
       "  0%|          | 0/4000 [00:00<?, ?it/s]"
      ]
     },
     "metadata": {},
     "output_type": "display_data"
    },
    {
     "data": {
      "application/vnd.jupyter.widget-view+json": {
       "model_id": "8fc15967a5d7437cbf5d3de69ddd8289",
       "version_major": 2,
       "version_minor": 0
      },
      "text/plain": [
       "  0%|          | 0/4000 [00:00<?, ?it/s]"
      ]
     },
     "metadata": {},
     "output_type": "display_data"
    },
    {
     "data": {
      "application/vnd.jupyter.widget-view+json": {
       "model_id": "ecd57b25c5d343deb4727f362bfc7d53",
       "version_major": 2,
       "version_minor": 0
      },
      "text/plain": [
       "  0%|          | 0/4000 [00:00<?, ?it/s]"
      ]
     },
     "metadata": {},
     "output_type": "display_data"
    },
    {
     "data": {
      "application/vnd.jupyter.widget-view+json": {
       "model_id": "e39bfff4ba3a4abd997b81cf3fa1c61f",
       "version_major": 2,
       "version_minor": 0
      },
      "text/plain": [
       "  0%|          | 0/4000 [00:00<?, ?it/s]"
      ]
     },
     "metadata": {},
     "output_type": "display_data"
    },
    {
     "data": {
      "application/vnd.jupyter.widget-view+json": {
       "model_id": "a536ba4ae5744ab2b6317c60457c43ef",
       "version_major": 2,
       "version_minor": 0
      },
      "text/plain": [
       "  0%|          | 0/4000 [00:00<?, ?it/s]"
      ]
     },
     "metadata": {},
     "output_type": "display_data"
    },
    {
     "data": {
      "application/vnd.jupyter.widget-view+json": {
       "model_id": "63ccab799e99407d950d2b8b565c4e07",
       "version_major": 2,
       "version_minor": 0
      },
      "text/plain": [
       "  0%|          | 0/4000 [00:00<?, ?it/s]"
      ]
     },
     "metadata": {},
     "output_type": "display_data"
    },
    {
     "data": {
      "application/vnd.jupyter.widget-view+json": {
       "model_id": "04455c93d7df4468a005c30cace07866",
       "version_major": 2,
       "version_minor": 0
      },
      "text/plain": [
       "  0%|          | 0/4000 [00:00<?, ?it/s]"
      ]
     },
     "metadata": {},
     "output_type": "display_data"
    },
    {
     "data": {
      "application/vnd.jupyter.widget-view+json": {
       "model_id": "c2008ad07b77437aa7121e7beccddcf7",
       "version_major": 2,
       "version_minor": 0
      },
      "text/plain": [
       "  0%|          | 0/4000 [00:00<?, ?it/s]"
      ]
     },
     "metadata": {},
     "output_type": "display_data"
    },
    {
     "data": {
      "application/vnd.jupyter.widget-view+json": {
       "model_id": "580ca2ea59d6451b9a6d9013bfedaa61",
       "version_major": 2,
       "version_minor": 0
      },
      "text/plain": [
       "  0%|          | 0/4000 [00:00<?, ?it/s]"
      ]
     },
     "metadata": {},
     "output_type": "display_data"
    },
    {
     "data": {
      "application/vnd.jupyter.widget-view+json": {
       "model_id": "af93b4cac03c4709a1553ec71a0867df",
       "version_major": 2,
       "version_minor": 0
      },
      "text/plain": [
       "  0%|          | 0/4000 [00:00<?, ?it/s]"
      ]
     },
     "metadata": {},
     "output_type": "display_data"
    },
    {
     "data": {
      "application/vnd.jupyter.widget-view+json": {
       "model_id": "c412f4f0785c4b6b868b2e3f99dd0cd3",
       "version_major": 2,
       "version_minor": 0
      },
      "text/plain": [
       "  0%|          | 0/4000 [00:00<?, ?it/s]"
      ]
     },
     "metadata": {},
     "output_type": "display_data"
    },
    {
     "data": {
      "application/vnd.jupyter.widget-view+json": {
       "model_id": "f6271f6a915340d6a2dca048c708d42c",
       "version_major": 2,
       "version_minor": 0
      },
      "text/plain": [
       "  0%|          | 0/4000 [00:00<?, ?it/s]"
      ]
     },
     "metadata": {},
     "output_type": "display_data"
    },
    {
     "data": {
      "application/vnd.jupyter.widget-view+json": {
       "model_id": "d8fe62a370f9498ab884d640bb6f73fa",
       "version_major": 2,
       "version_minor": 0
      },
      "text/plain": [
       "  0%|          | 0/4000 [00:00<?, ?it/s]"
      ]
     },
     "metadata": {},
     "output_type": "display_data"
    },
    {
     "data": {
      "application/vnd.jupyter.widget-view+json": {
       "model_id": "98a37939541c4bd88fc7cf317f9c3242",
       "version_major": 2,
       "version_minor": 0
      },
      "text/plain": [
       "  0%|          | 0/4000 [00:00<?, ?it/s]"
      ]
     },
     "metadata": {},
     "output_type": "display_data"
    },
    {
     "data": {
      "application/vnd.jupyter.widget-view+json": {
       "model_id": "3092bf88df5e4ab8b8a2d3ec5512e471",
       "version_major": 2,
       "version_minor": 0
      },
      "text/plain": [
       "  0%|          | 0/4000 [00:00<?, ?it/s]"
      ]
     },
     "metadata": {},
     "output_type": "display_data"
    },
    {
     "data": {
      "application/vnd.jupyter.widget-view+json": {
       "model_id": "886bd201baa94934aef2908a42f7a6bb",
       "version_major": 2,
       "version_minor": 0
      },
      "text/plain": [
       "  0%|          | 0/4000 [00:00<?, ?it/s]"
      ]
     },
     "metadata": {},
     "output_type": "display_data"
    },
    {
     "data": {
      "application/vnd.jupyter.widget-view+json": {
       "model_id": "737992b6229545cd990b81f465334ef1",
       "version_major": 2,
       "version_minor": 0
      },
      "text/plain": [
       "  0%|          | 0/4000 [00:00<?, ?it/s]"
      ]
     },
     "metadata": {},
     "output_type": "display_data"
    },
    {
     "data": {
      "application/vnd.jupyter.widget-view+json": {
       "model_id": "38664e871b764e3cabc2a1d8eb22169b",
       "version_major": 2,
       "version_minor": 0
      },
      "text/plain": [
       "  0%|          | 0/4000 [00:00<?, ?it/s]"
      ]
     },
     "metadata": {},
     "output_type": "display_data"
    },
    {
     "data": {
      "application/vnd.jupyter.widget-view+json": {
       "model_id": "1bb4e368a1e34c3298bf536b003cb6b7",
       "version_major": 2,
       "version_minor": 0
      },
      "text/plain": [
       "  0%|          | 0/4000 [00:00<?, ?it/s]"
      ]
     },
     "metadata": {},
     "output_type": "display_data"
    },
    {
     "data": {
      "application/vnd.jupyter.widget-view+json": {
       "model_id": "9a5c9052a1094091a8d4e769f0b86fbf",
       "version_major": 2,
       "version_minor": 0
      },
      "text/plain": [
       "  0%|          | 0/4000 [00:00<?, ?it/s]"
      ]
     },
     "metadata": {},
     "output_type": "display_data"
    },
    {
     "data": {
      "application/vnd.jupyter.widget-view+json": {
       "model_id": "b95cac4872cb4c63bd6f0d33adddf4d0",
       "version_major": 2,
       "version_minor": 0
      },
      "text/plain": [
       "  0%|          | 0/4000 [00:00<?, ?it/s]"
      ]
     },
     "metadata": {},
     "output_type": "display_data"
    },
    {
     "data": {
      "application/vnd.jupyter.widget-view+json": {
       "model_id": "deb06c8007f14086a92cca5b2e6c431c",
       "version_major": 2,
       "version_minor": 0
      },
      "text/plain": [
       "  0%|          | 0/4000 [00:00<?, ?it/s]"
      ]
     },
     "metadata": {},
     "output_type": "display_data"
    },
    {
     "data": {
      "application/vnd.jupyter.widget-view+json": {
       "model_id": "bfa2c4f81dff41c79ef2fae1bdaab008",
       "version_major": 2,
       "version_minor": 0
      },
      "text/plain": [
       "  0%|          | 0/4000 [00:00<?, ?it/s]"
      ]
     },
     "metadata": {},
     "output_type": "display_data"
    },
    {
     "data": {
      "application/vnd.jupyter.widget-view+json": {
       "model_id": "e862b813daed45faa6e9d9105555a74e",
       "version_major": 2,
       "version_minor": 0
      },
      "text/plain": [
       "  0%|          | 0/4000 [00:00<?, ?it/s]"
      ]
     },
     "metadata": {},
     "output_type": "display_data"
    },
    {
     "data": {
      "application/vnd.jupyter.widget-view+json": {
       "model_id": "66ebdfe9353e45a2b19a16740c4fca11",
       "version_major": 2,
       "version_minor": 0
      },
      "text/plain": [
       "  0%|          | 0/4000 [00:00<?, ?it/s]"
      ]
     },
     "metadata": {},
     "output_type": "display_data"
    },
    {
     "data": {
      "application/vnd.jupyter.widget-view+json": {
       "model_id": "710319eceed84e1c93a6d9f7ac20a2df",
       "version_major": 2,
       "version_minor": 0
      },
      "text/plain": [
       "  0%|          | 0/4000 [00:00<?, ?it/s]"
      ]
     },
     "metadata": {},
     "output_type": "display_data"
    },
    {
     "data": {
      "application/vnd.jupyter.widget-view+json": {
       "model_id": "d8b7f788a70541019b0cdc1c6abbc503",
       "version_major": 2,
       "version_minor": 0
      },
      "text/plain": [
       "  0%|          | 0/4000 [00:00<?, ?it/s]"
      ]
     },
     "metadata": {},
     "output_type": "display_data"
    },
    {
     "data": {
      "application/vnd.jupyter.widget-view+json": {
       "model_id": "f4a60d7598264503a0643db1c4ddec80",
       "version_major": 2,
       "version_minor": 0
      },
      "text/plain": [
       "  0%|          | 0/4000 [00:00<?, ?it/s]"
      ]
     },
     "metadata": {},
     "output_type": "display_data"
    },
    {
     "data": {
      "application/vnd.jupyter.widget-view+json": {
       "model_id": "5868ea48577a4b9086e29cbddc08b1af",
       "version_major": 2,
       "version_minor": 0
      },
      "text/plain": [
       "  0%|          | 0/4000 [00:00<?, ?it/s]"
      ]
     },
     "metadata": {},
     "output_type": "display_data"
    },
    {
     "data": {
      "application/vnd.jupyter.widget-view+json": {
       "model_id": "db52cfdc975e4058ba605c8e1173c5f4",
       "version_major": 2,
       "version_minor": 0
      },
      "text/plain": [
       "  0%|          | 0/4000 [00:00<?, ?it/s]"
      ]
     },
     "metadata": {},
     "output_type": "display_data"
    },
    {
     "data": {
      "application/vnd.jupyter.widget-view+json": {
       "model_id": "6bcb831635064a4f9ec4acab11391010",
       "version_major": 2,
       "version_minor": 0
      },
      "text/plain": [
       "  0%|          | 0/4000 [00:00<?, ?it/s]"
      ]
     },
     "metadata": {},
     "output_type": "display_data"
    },
    {
     "data": {
      "application/vnd.jupyter.widget-view+json": {
       "model_id": "77b1544569274930bd840bcce5cdd3a8",
       "version_major": 2,
       "version_minor": 0
      },
      "text/plain": [
       "  0%|          | 0/4000 [00:00<?, ?it/s]"
      ]
     },
     "metadata": {},
     "output_type": "display_data"
    },
    {
     "data": {
      "application/vnd.jupyter.widget-view+json": {
       "model_id": "edad73f7eeef44719d61c378f4b6cae6",
       "version_major": 2,
       "version_minor": 0
      },
      "text/plain": [
       "  0%|          | 0/4000 [00:00<?, ?it/s]"
      ]
     },
     "metadata": {},
     "output_type": "display_data"
    },
    {
     "data": {
      "application/vnd.jupyter.widget-view+json": {
       "model_id": "8076a92686c446e0b080d3bf48215848",
       "version_major": 2,
       "version_minor": 0
      },
      "text/plain": [
       "  0%|          | 0/4000 [00:00<?, ?it/s]"
      ]
     },
     "metadata": {},
     "output_type": "display_data"
    },
    {
     "data": {
      "application/vnd.jupyter.widget-view+json": {
       "model_id": "f9b848be93804ef6a1f2dc56e0ce3fff",
       "version_major": 2,
       "version_minor": 0
      },
      "text/plain": [
       "  0%|          | 0/4000 [00:00<?, ?it/s]"
      ]
     },
     "metadata": {},
     "output_type": "display_data"
    },
    {
     "data": {
      "application/vnd.jupyter.widget-view+json": {
       "model_id": "4eefcf60aa184fb2b44db61e94457126",
       "version_major": 2,
       "version_minor": 0
      },
      "text/plain": [
       "  0%|          | 0/4000 [00:00<?, ?it/s]"
      ]
     },
     "metadata": {},
     "output_type": "display_data"
    },
    {
     "data": {
      "application/vnd.jupyter.widget-view+json": {
       "model_id": "961f17beaaae417793c7670a36a9c29b",
       "version_major": 2,
       "version_minor": 0
      },
      "text/plain": [
       "  0%|          | 0/4000 [00:00<?, ?it/s]"
      ]
     },
     "metadata": {},
     "output_type": "display_data"
    },
    {
     "data": {
      "application/vnd.jupyter.widget-view+json": {
       "model_id": "51e6394ba7974b39901fd3973971acff",
       "version_major": 2,
       "version_minor": 0
      },
      "text/plain": [
       "  0%|          | 0/4000 [00:00<?, ?it/s]"
      ]
     },
     "metadata": {},
     "output_type": "display_data"
    },
    {
     "data": {
      "application/vnd.jupyter.widget-view+json": {
       "model_id": "b685dda21bb742b8a64d48283ae4db54",
       "version_major": 2,
       "version_minor": 0
      },
      "text/plain": [
       "  0%|          | 0/4000 [00:00<?, ?it/s]"
      ]
     },
     "metadata": {},
     "output_type": "display_data"
    },
    {
     "data": {
      "application/vnd.jupyter.widget-view+json": {
       "model_id": "3afb71c7f59f402f85d076e4f976225c",
       "version_major": 2,
       "version_minor": 0
      },
      "text/plain": [
       "  0%|          | 0/4000 [00:00<?, ?it/s]"
      ]
     },
     "metadata": {},
     "output_type": "display_data"
    },
    {
     "data": {
      "application/vnd.jupyter.widget-view+json": {
       "model_id": "ca664cf6e20d47879d0a3505575773e6",
       "version_major": 2,
       "version_minor": 0
      },
      "text/plain": [
       "  0%|          | 0/4000 [00:00<?, ?it/s]"
      ]
     },
     "metadata": {},
     "output_type": "display_data"
    },
    {
     "data": {
      "application/vnd.jupyter.widget-view+json": {
       "model_id": "9a803073439b4104ab85c8d4c6ee466d",
       "version_major": 2,
       "version_minor": 0
      },
      "text/plain": [
       "  0%|          | 0/4000 [00:00<?, ?it/s]"
      ]
     },
     "metadata": {},
     "output_type": "display_data"
    },
    {
     "data": {
      "application/vnd.jupyter.widget-view+json": {
       "model_id": "89f15e71418b47dcbe325c1c57f8a8ab",
       "version_major": 2,
       "version_minor": 0
      },
      "text/plain": [
       "  0%|          | 0/4000 [00:00<?, ?it/s]"
      ]
     },
     "metadata": {},
     "output_type": "display_data"
    },
    {
     "data": {
      "application/vnd.jupyter.widget-view+json": {
       "model_id": "ecdfda5ef2a64e99afe9eef436001281",
       "version_major": 2,
       "version_minor": 0
      },
      "text/plain": [
       "  0%|          | 0/4000 [00:00<?, ?it/s]"
      ]
     },
     "metadata": {},
     "output_type": "display_data"
    },
    {
     "data": {
      "application/vnd.jupyter.widget-view+json": {
       "model_id": "b65430eff2204b76b8d9acf84f1828b7",
       "version_major": 2,
       "version_minor": 0
      },
      "text/plain": [
       "  0%|          | 0/4000 [00:00<?, ?it/s]"
      ]
     },
     "metadata": {},
     "output_type": "display_data"
    },
    {
     "data": {
      "application/vnd.jupyter.widget-view+json": {
       "model_id": "36492abdd17443578f6c0713b223a342",
       "version_major": 2,
       "version_minor": 0
      },
      "text/plain": [
       "  0%|          | 0/4000 [00:00<?, ?it/s]"
      ]
     },
     "metadata": {},
     "output_type": "display_data"
    },
    {
     "data": {
      "application/vnd.jupyter.widget-view+json": {
       "model_id": "a1a0ef7be8db4cdca120ac34bb45627a",
       "version_major": 2,
       "version_minor": 0
      },
      "text/plain": [
       "  0%|          | 0/4000 [00:00<?, ?it/s]"
      ]
     },
     "metadata": {},
     "output_type": "display_data"
    },
    {
     "data": {
      "application/vnd.jupyter.widget-view+json": {
       "model_id": "9e0ea7dc596645c2a7345bbfd947c485",
       "version_major": 2,
       "version_minor": 0
      },
      "text/plain": [
       "  0%|          | 0/4000 [00:00<?, ?it/s]"
      ]
     },
     "metadata": {},
     "output_type": "display_data"
    },
    {
     "data": {
      "application/vnd.jupyter.widget-view+json": {
       "model_id": "3e9c35d9c3c248bca5e6c02ac17aa5a2",
       "version_major": 2,
       "version_minor": 0
      },
      "text/plain": [
       "  0%|          | 0/4000 [00:00<?, ?it/s]"
      ]
     },
     "metadata": {},
     "output_type": "display_data"
    },
    {
     "data": {
      "application/vnd.jupyter.widget-view+json": {
       "model_id": "25896ca125d54798ba6eb7f9e613c9e3",
       "version_major": 2,
       "version_minor": 0
      },
      "text/plain": [
       "  0%|          | 0/4000 [00:00<?, ?it/s]"
      ]
     },
     "metadata": {},
     "output_type": "display_data"
    },
    {
     "data": {
      "application/vnd.jupyter.widget-view+json": {
       "model_id": "bc13daf75d874802a725b0a675577fff",
       "version_major": 2,
       "version_minor": 0
      },
      "text/plain": [
       "  0%|          | 0/4000 [00:00<?, ?it/s]"
      ]
     },
     "metadata": {},
     "output_type": "display_data"
    },
    {
     "data": {
      "application/vnd.jupyter.widget-view+json": {
       "model_id": "eaf3b70db4b84261b540361a18a03c13",
       "version_major": 2,
       "version_minor": 0
      },
      "text/plain": [
       "  0%|          | 0/4000 [00:00<?, ?it/s]"
      ]
     },
     "metadata": {},
     "output_type": "display_data"
    },
    {
     "data": {
      "application/vnd.jupyter.widget-view+json": {
       "model_id": "192344fa68e5468f8f729382e1c1edc7",
       "version_major": 2,
       "version_minor": 0
      },
      "text/plain": [
       "  0%|          | 0/4000 [00:00<?, ?it/s]"
      ]
     },
     "metadata": {},
     "output_type": "display_data"
    },
    {
     "data": {
      "application/vnd.jupyter.widget-view+json": {
       "model_id": "ea19b2d84c3d4765987c7343b8b6933e",
       "version_major": 2,
       "version_minor": 0
      },
      "text/plain": [
       "  0%|          | 0/4000 [00:00<?, ?it/s]"
      ]
     },
     "metadata": {},
     "output_type": "display_data"
    },
    {
     "data": {
      "application/vnd.jupyter.widget-view+json": {
       "model_id": "e923bffcfc324c91b8e88221d20daba5",
       "version_major": 2,
       "version_minor": 0
      },
      "text/plain": [
       "  0%|          | 0/4000 [00:00<?, ?it/s]"
      ]
     },
     "metadata": {},
     "output_type": "display_data"
    },
    {
     "data": {
      "application/vnd.jupyter.widget-view+json": {
       "model_id": "09e43d62d75744bab58b2f814d99cea4",
       "version_major": 2,
       "version_minor": 0
      },
      "text/plain": [
       "  0%|          | 0/4000 [00:00<?, ?it/s]"
      ]
     },
     "metadata": {},
     "output_type": "display_data"
    },
    {
     "data": {
      "application/vnd.jupyter.widget-view+json": {
       "model_id": "df498ecc4d4e48769330ee745a3d92e5",
       "version_major": 2,
       "version_minor": 0
      },
      "text/plain": [
       "  0%|          | 0/4000 [00:00<?, ?it/s]"
      ]
     },
     "metadata": {},
     "output_type": "display_data"
    },
    {
     "data": {
      "application/vnd.jupyter.widget-view+json": {
       "model_id": "27a3c7ddc6ac4f0782b4fa1a468ab97a",
       "version_major": 2,
       "version_minor": 0
      },
      "text/plain": [
       "  0%|          | 0/4000 [00:00<?, ?it/s]"
      ]
     },
     "metadata": {},
     "output_type": "display_data"
    },
    {
     "data": {
      "application/vnd.jupyter.widget-view+json": {
       "model_id": "efd0f37318ab42c8bc2b7bbe5837b691",
       "version_major": 2,
       "version_minor": 0
      },
      "text/plain": [
       "  0%|          | 0/4000 [00:00<?, ?it/s]"
      ]
     },
     "metadata": {},
     "output_type": "display_data"
    },
    {
     "data": {
      "application/vnd.jupyter.widget-view+json": {
       "model_id": "72878ebe49bb4ad687cfc047ed6187df",
       "version_major": 2,
       "version_minor": 0
      },
      "text/plain": [
       "  0%|          | 0/4000 [00:00<?, ?it/s]"
      ]
     },
     "metadata": {},
     "output_type": "display_data"
    },
    {
     "data": {
      "application/vnd.jupyter.widget-view+json": {
       "model_id": "9d6ee628c4c14a4f8d75afb9ff7e42a7",
       "version_major": 2,
       "version_minor": 0
      },
      "text/plain": [
       "  0%|          | 0/4000 [00:00<?, ?it/s]"
      ]
     },
     "metadata": {},
     "output_type": "display_data"
    },
    {
     "data": {
      "application/vnd.jupyter.widget-view+json": {
       "model_id": "19cb2083d4134a5f926b8aeb03eedd01",
       "version_major": 2,
       "version_minor": 0
      },
      "text/plain": [
       "  0%|          | 0/4000 [00:00<?, ?it/s]"
      ]
     },
     "metadata": {},
     "output_type": "display_data"
    },
    {
     "data": {
      "application/vnd.jupyter.widget-view+json": {
       "model_id": "e8693d0a6ed14ac3bbd92cf77762d0e0",
       "version_major": 2,
       "version_minor": 0
      },
      "text/plain": [
       "  0%|          | 0/4000 [00:00<?, ?it/s]"
      ]
     },
     "metadata": {},
     "output_type": "display_data"
    },
    {
     "data": {
      "application/vnd.jupyter.widget-view+json": {
       "model_id": "b92e1177c04447b181fba7ab008a0f4a",
       "version_major": 2,
       "version_minor": 0
      },
      "text/plain": [
       "  0%|          | 0/4000 [00:00<?, ?it/s]"
      ]
     },
     "metadata": {},
     "output_type": "display_data"
    },
    {
     "data": {
      "application/vnd.jupyter.widget-view+json": {
       "model_id": "cd1fbca8b7874a6b98e521d3d3cdfd2c",
       "version_major": 2,
       "version_minor": 0
      },
      "text/plain": [
       "  0%|          | 0/4000 [00:00<?, ?it/s]"
      ]
     },
     "metadata": {},
     "output_type": "display_data"
    },
    {
     "data": {
      "application/vnd.jupyter.widget-view+json": {
       "model_id": "ab029ebf9a504da8a94cac946af569e4",
       "version_major": 2,
       "version_minor": 0
      },
      "text/plain": [
       "  0%|          | 0/4000 [00:00<?, ?it/s]"
      ]
     },
     "metadata": {},
     "output_type": "display_data"
    },
    {
     "data": {
      "application/vnd.jupyter.widget-view+json": {
       "model_id": "b9a8070266304318ad1cc23b47ebc6e9",
       "version_major": 2,
       "version_minor": 0
      },
      "text/plain": [
       "  0%|          | 0/4000 [00:00<?, ?it/s]"
      ]
     },
     "metadata": {},
     "output_type": "display_data"
    },
    {
     "data": {
      "application/vnd.jupyter.widget-view+json": {
       "model_id": "0ede23560e33488ba286664d48f1d50a",
       "version_major": 2,
       "version_minor": 0
      },
      "text/plain": [
       "  0%|          | 0/4000 [00:00<?, ?it/s]"
      ]
     },
     "metadata": {},
     "output_type": "display_data"
    },
    {
     "data": {
      "application/vnd.jupyter.widget-view+json": {
       "model_id": "65647dbfdd6c40149ad6756c1b829bbc",
       "version_major": 2,
       "version_minor": 0
      },
      "text/plain": [
       "  0%|          | 0/4000 [00:00<?, ?it/s]"
      ]
     },
     "metadata": {},
     "output_type": "display_data"
    },
    {
     "data": {
      "application/vnd.jupyter.widget-view+json": {
       "model_id": "e4fb1d4b6c6845ea91d2994f799f1747",
       "version_major": 2,
       "version_minor": 0
      },
      "text/plain": [
       "  0%|          | 0/4000 [00:00<?, ?it/s]"
      ]
     },
     "metadata": {},
     "output_type": "display_data"
    },
    {
     "data": {
      "application/vnd.jupyter.widget-view+json": {
       "model_id": "ccdfc15ab6094ab884a1f8d82ae39ee1",
       "version_major": 2,
       "version_minor": 0
      },
      "text/plain": [
       "  0%|          | 0/4000 [00:00<?, ?it/s]"
      ]
     },
     "metadata": {},
     "output_type": "display_data"
    },
    {
     "data": {
      "application/vnd.jupyter.widget-view+json": {
       "model_id": "29fab99be8de400683f5718f99b430ff",
       "version_major": 2,
       "version_minor": 0
      },
      "text/plain": [
       "  0%|          | 0/4000 [00:00<?, ?it/s]"
      ]
     },
     "metadata": {},
     "output_type": "display_data"
    },
    {
     "data": {
      "application/vnd.jupyter.widget-view+json": {
       "model_id": "212677f3373d4d82a9900483166080ca",
       "version_major": 2,
       "version_minor": 0
      },
      "text/plain": [
       "  0%|          | 0/4000 [00:00<?, ?it/s]"
      ]
     },
     "metadata": {},
     "output_type": "display_data"
    },
    {
     "data": {
      "application/vnd.jupyter.widget-view+json": {
       "model_id": "16fd11c960a14e5baf29f2541927065b",
       "version_major": 2,
       "version_minor": 0
      },
      "text/plain": [
       "  0%|          | 0/4000 [00:00<?, ?it/s]"
      ]
     },
     "metadata": {},
     "output_type": "display_data"
    },
    {
     "data": {
      "application/vnd.jupyter.widget-view+json": {
       "model_id": "2141bc8293ee4defabb9f719b20da49d",
       "version_major": 2,
       "version_minor": 0
      },
      "text/plain": [
       "  0%|          | 0/4000 [00:00<?, ?it/s]"
      ]
     },
     "metadata": {},
     "output_type": "display_data"
    },
    {
     "data": {
      "application/vnd.jupyter.widget-view+json": {
       "model_id": "84db098e8a844eac816b2610026a1ef1",
       "version_major": 2,
       "version_minor": 0
      },
      "text/plain": [
       "  0%|          | 0/4000 [00:00<?, ?it/s]"
      ]
     },
     "metadata": {},
     "output_type": "display_data"
    },
    {
     "data": {
      "application/vnd.jupyter.widget-view+json": {
       "model_id": "422e5745b16f4d30af8ba21c39125eeb",
       "version_major": 2,
       "version_minor": 0
      },
      "text/plain": [
       "  0%|          | 0/4000 [00:00<?, ?it/s]"
      ]
     },
     "metadata": {},
     "output_type": "display_data"
    },
    {
     "data": {
      "application/vnd.jupyter.widget-view+json": {
       "model_id": "1946f026acf64013b500778d3ac108d3",
       "version_major": 2,
       "version_minor": 0
      },
      "text/plain": [
       "  0%|          | 0/4000 [00:00<?, ?it/s]"
      ]
     },
     "metadata": {},
     "output_type": "display_data"
    },
    {
     "data": {
      "application/vnd.jupyter.widget-view+json": {
       "model_id": "6230666e84634fccaf5385c159ba19fa",
       "version_major": 2,
       "version_minor": 0
      },
      "text/plain": [
       "  0%|          | 0/4000 [00:00<?, ?it/s]"
      ]
     },
     "metadata": {},
     "output_type": "display_data"
    },
    {
     "data": {
      "application/vnd.jupyter.widget-view+json": {
       "model_id": "8d4b94c8409f4005b5bcc0fee4d3daaf",
       "version_major": 2,
       "version_minor": 0
      },
      "text/plain": [
       "  0%|          | 0/4000 [00:00<?, ?it/s]"
      ]
     },
     "metadata": {},
     "output_type": "display_data"
    },
    {
     "data": {
      "application/vnd.jupyter.widget-view+json": {
       "model_id": "c7d61a2e3f8d47dcad03fae9829e0712",
       "version_major": 2,
       "version_minor": 0
      },
      "text/plain": [
       "  0%|          | 0/4000 [00:00<?, ?it/s]"
      ]
     },
     "metadata": {},
     "output_type": "display_data"
    },
    {
     "data": {
      "application/vnd.jupyter.widget-view+json": {
       "model_id": "d6fd4101ac664c91a4edcadbf2d0bbb5",
       "version_major": 2,
       "version_minor": 0
      },
      "text/plain": [
       "  0%|          | 0/4000 [00:00<?, ?it/s]"
      ]
     },
     "metadata": {},
     "output_type": "display_data"
    },
    {
     "data": {
      "application/vnd.jupyter.widget-view+json": {
       "model_id": "ca0cec66c7ce4e62a56e9201c84d6230",
       "version_major": 2,
       "version_minor": 0
      },
      "text/plain": [
       "  0%|          | 0/4000 [00:00<?, ?it/s]"
      ]
     },
     "metadata": {},
     "output_type": "display_data"
    },
    {
     "data": {
      "application/vnd.jupyter.widget-view+json": {
       "model_id": "e83ba1f87f0e4a87a117f36e5e3cf09c",
       "version_major": 2,
       "version_minor": 0
      },
      "text/plain": [
       "  0%|          | 0/4000 [00:00<?, ?it/s]"
      ]
     },
     "metadata": {},
     "output_type": "display_data"
    },
    {
     "data": {
      "application/vnd.jupyter.widget-view+json": {
       "model_id": "a2b5cc24603f4714b07d1b22bc3eece3",
       "version_major": 2,
       "version_minor": 0
      },
      "text/plain": [
       "  0%|          | 0/4000 [00:00<?, ?it/s]"
      ]
     },
     "metadata": {},
     "output_type": "display_data"
    },
    {
     "data": {
      "application/vnd.jupyter.widget-view+json": {
       "model_id": "bc4e6a48956b4e0495c2698f3b873e37",
       "version_major": 2,
       "version_minor": 0
      },
      "text/plain": [
       "  0%|          | 0/4000 [00:00<?, ?it/s]"
      ]
     },
     "metadata": {},
     "output_type": "display_data"
    },
    {
     "data": {
      "application/vnd.jupyter.widget-view+json": {
       "model_id": "b843f71097804436a47be5a76a8e9492",
       "version_major": 2,
       "version_minor": 0
      },
      "text/plain": [
       "  0%|          | 0/4000 [00:00<?, ?it/s]"
      ]
     },
     "metadata": {},
     "output_type": "display_data"
    },
    {
     "data": {
      "application/vnd.jupyter.widget-view+json": {
       "model_id": "5ce9ec1cb61142e898f2cf6d4bc5cd78",
       "version_major": 2,
       "version_minor": 0
      },
      "text/plain": [
       "  0%|          | 0/4000 [00:00<?, ?it/s]"
      ]
     },
     "metadata": {},
     "output_type": "display_data"
    },
    {
     "data": {
      "application/vnd.jupyter.widget-view+json": {
       "model_id": "b68045aff4d24f4abf5910afce968db1",
       "version_major": 2,
       "version_minor": 0
      },
      "text/plain": [
       "  0%|          | 0/4000 [00:00<?, ?it/s]"
      ]
     },
     "metadata": {},
     "output_type": "display_data"
    },
    {
     "data": {
      "application/vnd.jupyter.widget-view+json": {
       "model_id": "28eb864361664b14aef00899f4e7c334",
       "version_major": 2,
       "version_minor": 0
      },
      "text/plain": [
       "  0%|          | 0/4000 [00:00<?, ?it/s]"
      ]
     },
     "metadata": {},
     "output_type": "display_data"
    },
    {
     "data": {
      "application/vnd.jupyter.widget-view+json": {
       "model_id": "024ec98ef90a4ed9b525e84dca9a6313",
       "version_major": 2,
       "version_minor": 0
      },
      "text/plain": [
       "  0%|          | 0/4000 [00:00<?, ?it/s]"
      ]
     },
     "metadata": {},
     "output_type": "display_data"
    },
    {
     "data": {
      "application/vnd.jupyter.widget-view+json": {
       "model_id": "7cfa3b03b5f9469c80dcd7f65d00db0b",
       "version_major": 2,
       "version_minor": 0
      },
      "text/plain": [
       "  0%|          | 0/4000 [00:00<?, ?it/s]"
      ]
     },
     "metadata": {},
     "output_type": "display_data"
    }
   ],
   "source": [
    "np.random.seed(42)\n",
    "random.seed(42)\n",
    "tf.random.set_seed(42)\n",
    "\n",
    "n = 3\n",
    "d = 2**n\n",
    "rank = 3\n",
    "\n",
    "prior_fidelity = np.zeros((len(N_list), num_reps))\n",
    "noPrior_fidelity = np.zeros((len(N_list), num_reps))\n",
    "\n",
    "for rep in tqdm(range(num_reps)):\n",
    "    X, _, _ = generate_ginibre(d, d)\n",
    "    U = generate_unitary(X) # Random unitary part\n",
    "    kraus_target = KrausMap(U, 0.5, d, rank)\n",
    "    \n",
    "    inputs, _ = generate_pauli_circuits(n = n, \n",
    "                                        circuit_target=None, \n",
    "                                        N = None, \n",
    "                                        trace=False)\n",
    "    states = kraus_target.apply_map(inputs[0])\n",
    "    targets = measurement(states, U_basis = inputs[1])\n",
    "    \n",
    "    for i, N in enumerate(N_list):\n",
    "        kraus_model = KrausMap(\n",
    "                               U=U, \n",
    "                               c=0.9, \n",
    "                               d=d, \n",
    "                               rank=rank,\n",
    "                              )\n",
    "\n",
    "        model = ModelQuantumMap(\n",
    "                                q_map = kraus_model,\n",
    "                                loss = probs_loss,\n",
    "                                optimizer = tf.optimizers.Adam(learning_rate=0.01),\n",
    "                                )\n",
    "\n",
    "        model.train(inputs = [inputs[0][:N], inputs[1][:N]],\n",
    "                    targets = targets[:N],\n",
    "                    inputs_val = None,\n",
    "                    targets_val = None,\n",
    "                    num_iter = 4000,\n",
    "                    N = N,\n",
    "                    verbose = False,\n",
    "                    )\n",
    "\n",
    "        prior_fidelity[i, rep] = np.abs(channel_fidelity(kraus_target, kraus_model).numpy())\n",
    "\n",
    "        kraus_model = KrausMap(\n",
    "    #                           U=U, \n",
    "    #                           c=0.9, \n",
    "                               d=d, \n",
    "                               rank=rank+1,\n",
    "                              )\n",
    "\n",
    "        model = ModelQuantumMap(\n",
    "                                q_map = kraus_model,\n",
    "                                loss = probs_loss,\n",
    "                                optimizer = tf.optimizers.Adam(learning_rate=0.01),\n",
    "                                )\n",
    "\n",
    "        model.train(inputs = [inputs[0][:N], inputs[1][:N]],\n",
    "                    targets = targets[:N],\n",
    "                    inputs_val = None,\n",
    "                    targets_val = None,\n",
    "                    num_iter = 4000,\n",
    "                    N = N,\n",
    "                    verbose = False,\n",
    "                    )\n",
    "\n",
    "        noPrior_fidelity[i, rep] = np.abs(channel_fidelity(kraus_target, kraus_model).numpy())"
   ]
  },
  {
   "cell_type": "code",
   "execution_count": 8,
   "metadata": {},
   "outputs": [],
   "source": [
    "data = [prior_fidelity, noPrior_fidelity]\n",
    "pickle.dump(data, open(\"../../data/compressed_sensing_rank4.p\", \"wb\"))"
   ]
  },
  {
   "cell_type": "markdown",
   "metadata": {},
   "source": [
    "### Medium Rank"
   ]
  },
  {
   "cell_type": "code",
   "execution_count": 9,
   "metadata": {
    "scrolled": true
   },
   "outputs": [
    {
     "data": {
      "application/vnd.jupyter.widget-view+json": {
       "model_id": "c19d624d2f8a4f9d95b8fb165685b89a",
       "version_major": 2,
       "version_minor": 0
      },
      "text/plain": [
       "  0%|          | 0/10 [00:00<?, ?it/s]"
      ]
     },
     "metadata": {},
     "output_type": "display_data"
    },
    {
     "data": {
      "application/vnd.jupyter.widget-view+json": {
       "model_id": "e6d7ecee28ba4fbb8b10f3df91c519c5",
       "version_major": 2,
       "version_minor": 0
      },
      "text/plain": [
       "  0%|          | 0/4000 [00:00<?, ?it/s]"
      ]
     },
     "metadata": {},
     "output_type": "display_data"
    },
    {
     "data": {
      "application/vnd.jupyter.widget-view+json": {
       "model_id": "d22c7f544e1f4b209684be7a9d46e410",
       "version_major": 2,
       "version_minor": 0
      },
      "text/plain": [
       "  0%|          | 0/4000 [00:00<?, ?it/s]"
      ]
     },
     "metadata": {},
     "output_type": "display_data"
    },
    {
     "data": {
      "application/vnd.jupyter.widget-view+json": {
       "model_id": "26e0a7043e26428baf7065bdec7d39f3",
       "version_major": 2,
       "version_minor": 0
      },
      "text/plain": [
       "  0%|          | 0/4000 [00:00<?, ?it/s]"
      ]
     },
     "metadata": {},
     "output_type": "display_data"
    },
    {
     "data": {
      "application/vnd.jupyter.widget-view+json": {
       "model_id": "e1c4d0c82e314da68da47151e4264ba5",
       "version_major": 2,
       "version_minor": 0
      },
      "text/plain": [
       "  0%|          | 0/4000 [00:00<?, ?it/s]"
      ]
     },
     "metadata": {},
     "output_type": "display_data"
    },
    {
     "data": {
      "application/vnd.jupyter.widget-view+json": {
       "model_id": "8363e18dc69c4383b88ab441bddf7efa",
       "version_major": 2,
       "version_minor": 0
      },
      "text/plain": [
       "  0%|          | 0/4000 [00:00<?, ?it/s]"
      ]
     },
     "metadata": {},
     "output_type": "display_data"
    },
    {
     "data": {
      "application/vnd.jupyter.widget-view+json": {
       "model_id": "e68db7e318e44da4b6bee1181fe31bd4",
       "version_major": 2,
       "version_minor": 0
      },
      "text/plain": [
       "  0%|          | 0/4000 [00:00<?, ?it/s]"
      ]
     },
     "metadata": {},
     "output_type": "display_data"
    },
    {
     "data": {
      "application/vnd.jupyter.widget-view+json": {
       "model_id": "d889bc124aac492e99e3c514d2da5f73",
       "version_major": 2,
       "version_minor": 0
      },
      "text/plain": [
       "  0%|          | 0/4000 [00:00<?, ?it/s]"
      ]
     },
     "metadata": {},
     "output_type": "display_data"
    },
    {
     "data": {
      "application/vnd.jupyter.widget-view+json": {
       "model_id": "dd4a3da4d8124f6cbaa0c54b66a5b525",
       "version_major": 2,
       "version_minor": 0
      },
      "text/plain": [
       "  0%|          | 0/4000 [00:00<?, ?it/s]"
      ]
     },
     "metadata": {},
     "output_type": "display_data"
    },
    {
     "data": {
      "application/vnd.jupyter.widget-view+json": {
       "model_id": "18d3159d0ae54372a969595be88d7902",
       "version_major": 2,
       "version_minor": 0
      },
      "text/plain": [
       "  0%|          | 0/4000 [00:00<?, ?it/s]"
      ]
     },
     "metadata": {},
     "output_type": "display_data"
    },
    {
     "data": {
      "application/vnd.jupyter.widget-view+json": {
       "model_id": "5c8e145b39cd46c1a17182fefbe862ee",
       "version_major": 2,
       "version_minor": 0
      },
      "text/plain": [
       "  0%|          | 0/4000 [00:00<?, ?it/s]"
      ]
     },
     "metadata": {},
     "output_type": "display_data"
    },
    {
     "data": {
      "application/vnd.jupyter.widget-view+json": {
       "model_id": "f5f5887f85534f9a89755e9c777220dc",
       "version_major": 2,
       "version_minor": 0
      },
      "text/plain": [
       "  0%|          | 0/4000 [00:00<?, ?it/s]"
      ]
     },
     "metadata": {},
     "output_type": "display_data"
    },
    {
     "data": {
      "application/vnd.jupyter.widget-view+json": {
       "model_id": "93913186e1bd4ea596bf9b9ea5a9835c",
       "version_major": 2,
       "version_minor": 0
      },
      "text/plain": [
       "  0%|          | 0/4000 [00:00<?, ?it/s]"
      ]
     },
     "metadata": {},
     "output_type": "display_data"
    },
    {
     "data": {
      "application/vnd.jupyter.widget-view+json": {
       "model_id": "e77f184af63343e3a61ff02282d0b81f",
       "version_major": 2,
       "version_minor": 0
      },
      "text/plain": [
       "  0%|          | 0/4000 [00:00<?, ?it/s]"
      ]
     },
     "metadata": {},
     "output_type": "display_data"
    },
    {
     "data": {
      "application/vnd.jupyter.widget-view+json": {
       "model_id": "c5812b13685245a8b469b490324d2660",
       "version_major": 2,
       "version_minor": 0
      },
      "text/plain": [
       "  0%|          | 0/4000 [00:00<?, ?it/s]"
      ]
     },
     "metadata": {},
     "output_type": "display_data"
    },
    {
     "data": {
      "application/vnd.jupyter.widget-view+json": {
       "model_id": "244b3c626e9a433f9ea6db16f01ecae5",
       "version_major": 2,
       "version_minor": 0
      },
      "text/plain": [
       "  0%|          | 0/4000 [00:00<?, ?it/s]"
      ]
     },
     "metadata": {},
     "output_type": "display_data"
    },
    {
     "data": {
      "application/vnd.jupyter.widget-view+json": {
       "model_id": "ce237fd02f6a41ea87b8a38a34465069",
       "version_major": 2,
       "version_minor": 0
      },
      "text/plain": [
       "  0%|          | 0/4000 [00:00<?, ?it/s]"
      ]
     },
     "metadata": {},
     "output_type": "display_data"
    },
    {
     "data": {
      "application/vnd.jupyter.widget-view+json": {
       "model_id": "8cb24285def54e1f94dc0e5e4a1fe0a6",
       "version_major": 2,
       "version_minor": 0
      },
      "text/plain": [
       "  0%|          | 0/4000 [00:00<?, ?it/s]"
      ]
     },
     "metadata": {},
     "output_type": "display_data"
    },
    {
     "data": {
      "application/vnd.jupyter.widget-view+json": {
       "model_id": "00de329f490147bdaaeb8d8140904cf5",
       "version_major": 2,
       "version_minor": 0
      },
      "text/plain": [
       "  0%|          | 0/4000 [00:00<?, ?it/s]"
      ]
     },
     "metadata": {},
     "output_type": "display_data"
    },
    {
     "data": {
      "application/vnd.jupyter.widget-view+json": {
       "model_id": "7edae193f6bb47e3afd1b5d1c3ad4f9b",
       "version_major": 2,
       "version_minor": 0
      },
      "text/plain": [
       "  0%|          | 0/4000 [00:00<?, ?it/s]"
      ]
     },
     "metadata": {},
     "output_type": "display_data"
    },
    {
     "data": {
      "application/vnd.jupyter.widget-view+json": {
       "model_id": "599011079a90456dbe4b5ad47bcd51a3",
       "version_major": 2,
       "version_minor": 0
      },
      "text/plain": [
       "  0%|          | 0/4000 [00:00<?, ?it/s]"
      ]
     },
     "metadata": {},
     "output_type": "display_data"
    },
    {
     "data": {
      "application/vnd.jupyter.widget-view+json": {
       "model_id": "570c5da45bf3462fb0b97da3b34b41af",
       "version_major": 2,
       "version_minor": 0
      },
      "text/plain": [
       "  0%|          | 0/4000 [00:00<?, ?it/s]"
      ]
     },
     "metadata": {},
     "output_type": "display_data"
    },
    {
     "data": {
      "application/vnd.jupyter.widget-view+json": {
       "model_id": "5ea56ba652fc4063882f9526e5287329",
       "version_major": 2,
       "version_minor": 0
      },
      "text/plain": [
       "  0%|          | 0/4000 [00:00<?, ?it/s]"
      ]
     },
     "metadata": {},
     "output_type": "display_data"
    },
    {
     "data": {
      "application/vnd.jupyter.widget-view+json": {
       "model_id": "2bce980ed9204029abd32db55167fa7f",
       "version_major": 2,
       "version_minor": 0
      },
      "text/plain": [
       "  0%|          | 0/4000 [00:00<?, ?it/s]"
      ]
     },
     "metadata": {},
     "output_type": "display_data"
    },
    {
     "data": {
      "application/vnd.jupyter.widget-view+json": {
       "model_id": "e272210f492c40c8a119aa412eb25ab1",
       "version_major": 2,
       "version_minor": 0
      },
      "text/plain": [
       "  0%|          | 0/4000 [00:00<?, ?it/s]"
      ]
     },
     "metadata": {},
     "output_type": "display_data"
    },
    {
     "data": {
      "application/vnd.jupyter.widget-view+json": {
       "model_id": "85f7a998fc9c45bf86ecaacfcec040e6",
       "version_major": 2,
       "version_minor": 0
      },
      "text/plain": [
       "  0%|          | 0/4000 [00:00<?, ?it/s]"
      ]
     },
     "metadata": {},
     "output_type": "display_data"
    },
    {
     "data": {
      "application/vnd.jupyter.widget-view+json": {
       "model_id": "6dc04b61c48d4841b67d53df57ecd053",
       "version_major": 2,
       "version_minor": 0
      },
      "text/plain": [
       "  0%|          | 0/4000 [00:00<?, ?it/s]"
      ]
     },
     "metadata": {},
     "output_type": "display_data"
    },
    {
     "data": {
      "application/vnd.jupyter.widget-view+json": {
       "model_id": "03b058f290ba4f549b212b47be7cad85",
       "version_major": 2,
       "version_minor": 0
      },
      "text/plain": [
       "  0%|          | 0/4000 [00:00<?, ?it/s]"
      ]
     },
     "metadata": {},
     "output_type": "display_data"
    },
    {
     "data": {
      "application/vnd.jupyter.widget-view+json": {
       "model_id": "b6bfa9e82b8143669ef5c3a4b3b0267a",
       "version_major": 2,
       "version_minor": 0
      },
      "text/plain": [
       "  0%|          | 0/4000 [00:00<?, ?it/s]"
      ]
     },
     "metadata": {},
     "output_type": "display_data"
    },
    {
     "data": {
      "application/vnd.jupyter.widget-view+json": {
       "model_id": "9dfda91584e24c55a17600b6ac4cc48a",
       "version_major": 2,
       "version_minor": 0
      },
      "text/plain": [
       "  0%|          | 0/4000 [00:00<?, ?it/s]"
      ]
     },
     "metadata": {},
     "output_type": "display_data"
    },
    {
     "data": {
      "application/vnd.jupyter.widget-view+json": {
       "model_id": "eb1ff7fcebd7497096c91119fb851787",
       "version_major": 2,
       "version_minor": 0
      },
      "text/plain": [
       "  0%|          | 0/4000 [00:00<?, ?it/s]"
      ]
     },
     "metadata": {},
     "output_type": "display_data"
    },
    {
     "data": {
      "application/vnd.jupyter.widget-view+json": {
       "model_id": "1002a18b7cd64a99b803de4edb58f534",
       "version_major": 2,
       "version_minor": 0
      },
      "text/plain": [
       "  0%|          | 0/4000 [00:00<?, ?it/s]"
      ]
     },
     "metadata": {},
     "output_type": "display_data"
    },
    {
     "data": {
      "application/vnd.jupyter.widget-view+json": {
       "model_id": "af93d2149d0c4fd3826f0c991ddec774",
       "version_major": 2,
       "version_minor": 0
      },
      "text/plain": [
       "  0%|          | 0/4000 [00:00<?, ?it/s]"
      ]
     },
     "metadata": {},
     "output_type": "display_data"
    },
    {
     "data": {
      "application/vnd.jupyter.widget-view+json": {
       "model_id": "f3f88f45117d4229bb0964b4c0d5d85c",
       "version_major": 2,
       "version_minor": 0
      },
      "text/plain": [
       "  0%|          | 0/4000 [00:00<?, ?it/s]"
      ]
     },
     "metadata": {},
     "output_type": "display_data"
    },
    {
     "data": {
      "application/vnd.jupyter.widget-view+json": {
       "model_id": "838c117bbcc54c62be318a34f7d56165",
       "version_major": 2,
       "version_minor": 0
      },
      "text/plain": [
       "  0%|          | 0/4000 [00:00<?, ?it/s]"
      ]
     },
     "metadata": {},
     "output_type": "display_data"
    },
    {
     "data": {
      "application/vnd.jupyter.widget-view+json": {
       "model_id": "349da812b02c425991290ea885c0a85f",
       "version_major": 2,
       "version_minor": 0
      },
      "text/plain": [
       "  0%|          | 0/4000 [00:00<?, ?it/s]"
      ]
     },
     "metadata": {},
     "output_type": "display_data"
    },
    {
     "data": {
      "application/vnd.jupyter.widget-view+json": {
       "model_id": "e68e3ca20bd84389acbe93ea8a5ed0a0",
       "version_major": 2,
       "version_minor": 0
      },
      "text/plain": [
       "  0%|          | 0/4000 [00:00<?, ?it/s]"
      ]
     },
     "metadata": {},
     "output_type": "display_data"
    },
    {
     "data": {
      "application/vnd.jupyter.widget-view+json": {
       "model_id": "b5744e8d424f48069ce2aaa3a243c1bc",
       "version_major": 2,
       "version_minor": 0
      },
      "text/plain": [
       "  0%|          | 0/4000 [00:00<?, ?it/s]"
      ]
     },
     "metadata": {},
     "output_type": "display_data"
    },
    {
     "data": {
      "application/vnd.jupyter.widget-view+json": {
       "model_id": "620026083be34111847a7ebdb3881f0a",
       "version_major": 2,
       "version_minor": 0
      },
      "text/plain": [
       "  0%|          | 0/4000 [00:00<?, ?it/s]"
      ]
     },
     "metadata": {},
     "output_type": "display_data"
    },
    {
     "data": {
      "application/vnd.jupyter.widget-view+json": {
       "model_id": "92b337d19dc5497cabbaa5a028fb8b98",
       "version_major": 2,
       "version_minor": 0
      },
      "text/plain": [
       "  0%|          | 0/4000 [00:00<?, ?it/s]"
      ]
     },
     "metadata": {},
     "output_type": "display_data"
    },
    {
     "data": {
      "application/vnd.jupyter.widget-view+json": {
       "model_id": "4d2ec54e203c4df6bfa0fa238d9b3489",
       "version_major": 2,
       "version_minor": 0
      },
      "text/plain": [
       "  0%|          | 0/4000 [00:00<?, ?it/s]"
      ]
     },
     "metadata": {},
     "output_type": "display_data"
    },
    {
     "data": {
      "application/vnd.jupyter.widget-view+json": {
       "model_id": "410186421ca9423c8fe9fc875e21904b",
       "version_major": 2,
       "version_minor": 0
      },
      "text/plain": [
       "  0%|          | 0/4000 [00:00<?, ?it/s]"
      ]
     },
     "metadata": {},
     "output_type": "display_data"
    },
    {
     "data": {
      "application/vnd.jupyter.widget-view+json": {
       "model_id": "3d0695882842425fa52f9a14be0a22ce",
       "version_major": 2,
       "version_minor": 0
      },
      "text/plain": [
       "  0%|          | 0/4000 [00:00<?, ?it/s]"
      ]
     },
     "metadata": {},
     "output_type": "display_data"
    },
    {
     "data": {
      "application/vnd.jupyter.widget-view+json": {
       "model_id": "d1208fb4ca624feea884df22fad63c90",
       "version_major": 2,
       "version_minor": 0
      },
      "text/plain": [
       "  0%|          | 0/4000 [00:00<?, ?it/s]"
      ]
     },
     "metadata": {},
     "output_type": "display_data"
    },
    {
     "data": {
      "application/vnd.jupyter.widget-view+json": {
       "model_id": "f7e4dd8dd4ff4574b0b4ed006e2f0557",
       "version_major": 2,
       "version_minor": 0
      },
      "text/plain": [
       "  0%|          | 0/4000 [00:00<?, ?it/s]"
      ]
     },
     "metadata": {},
     "output_type": "display_data"
    },
    {
     "data": {
      "application/vnd.jupyter.widget-view+json": {
       "model_id": "fdd638f6dd81416592ed59c5c13d68dd",
       "version_major": 2,
       "version_minor": 0
      },
      "text/plain": [
       "  0%|          | 0/4000 [00:00<?, ?it/s]"
      ]
     },
     "metadata": {},
     "output_type": "display_data"
    },
    {
     "data": {
      "application/vnd.jupyter.widget-view+json": {
       "model_id": "69db40caa4bc497da19e34073be6ac30",
       "version_major": 2,
       "version_minor": 0
      },
      "text/plain": [
       "  0%|          | 0/4000 [00:00<?, ?it/s]"
      ]
     },
     "metadata": {},
     "output_type": "display_data"
    },
    {
     "data": {
      "application/vnd.jupyter.widget-view+json": {
       "model_id": "fd25affb6ba34200adcd19dfb67533ab",
       "version_major": 2,
       "version_minor": 0
      },
      "text/plain": [
       "  0%|          | 0/4000 [00:00<?, ?it/s]"
      ]
     },
     "metadata": {},
     "output_type": "display_data"
    },
    {
     "data": {
      "application/vnd.jupyter.widget-view+json": {
       "model_id": "f1e98e4b87fb4a37921b6b06f1effd36",
       "version_major": 2,
       "version_minor": 0
      },
      "text/plain": [
       "  0%|          | 0/4000 [00:00<?, ?it/s]"
      ]
     },
     "metadata": {},
     "output_type": "display_data"
    },
    {
     "data": {
      "application/vnd.jupyter.widget-view+json": {
       "model_id": "ae8f41e6453e4e44abe5eabc6e7127cd",
       "version_major": 2,
       "version_minor": 0
      },
      "text/plain": [
       "  0%|          | 0/4000 [00:00<?, ?it/s]"
      ]
     },
     "metadata": {},
     "output_type": "display_data"
    },
    {
     "data": {
      "application/vnd.jupyter.widget-view+json": {
       "model_id": "cde3e93a20574cdd871a12206a39892a",
       "version_major": 2,
       "version_minor": 0
      },
      "text/plain": [
       "  0%|          | 0/4000 [00:00<?, ?it/s]"
      ]
     },
     "metadata": {},
     "output_type": "display_data"
    },
    {
     "data": {
      "application/vnd.jupyter.widget-view+json": {
       "model_id": "2f92a856fa1542d4a9b1915787179715",
       "version_major": 2,
       "version_minor": 0
      },
      "text/plain": [
       "  0%|          | 0/4000 [00:00<?, ?it/s]"
      ]
     },
     "metadata": {},
     "output_type": "display_data"
    },
    {
     "data": {
      "application/vnd.jupyter.widget-view+json": {
       "model_id": "ce4efd79adb941129607d5e0ca47123f",
       "version_major": 2,
       "version_minor": 0
      },
      "text/plain": [
       "  0%|          | 0/4000 [00:00<?, ?it/s]"
      ]
     },
     "metadata": {},
     "output_type": "display_data"
    },
    {
     "data": {
      "application/vnd.jupyter.widget-view+json": {
       "model_id": "5c714d93128c49fba3c653d6a652cf17",
       "version_major": 2,
       "version_minor": 0
      },
      "text/plain": [
       "  0%|          | 0/4000 [00:00<?, ?it/s]"
      ]
     },
     "metadata": {},
     "output_type": "display_data"
    },
    {
     "data": {
      "application/vnd.jupyter.widget-view+json": {
       "model_id": "78484e6c93014ef6ad802814c4a2f2f6",
       "version_major": 2,
       "version_minor": 0
      },
      "text/plain": [
       "  0%|          | 0/4000 [00:00<?, ?it/s]"
      ]
     },
     "metadata": {},
     "output_type": "display_data"
    },
    {
     "data": {
      "application/vnd.jupyter.widget-view+json": {
       "model_id": "9845ad71f5834ba390a5ab06d137a5a6",
       "version_major": 2,
       "version_minor": 0
      },
      "text/plain": [
       "  0%|          | 0/4000 [00:00<?, ?it/s]"
      ]
     },
     "metadata": {},
     "output_type": "display_data"
    },
    {
     "data": {
      "application/vnd.jupyter.widget-view+json": {
       "model_id": "ea73df61b7fd41368515141adbb1dd7a",
       "version_major": 2,
       "version_minor": 0
      },
      "text/plain": [
       "  0%|          | 0/4000 [00:00<?, ?it/s]"
      ]
     },
     "metadata": {},
     "output_type": "display_data"
    },
    {
     "data": {
      "application/vnd.jupyter.widget-view+json": {
       "model_id": "30744b93602d42e6be161861205f9e96",
       "version_major": 2,
       "version_minor": 0
      },
      "text/plain": [
       "  0%|          | 0/4000 [00:00<?, ?it/s]"
      ]
     },
     "metadata": {},
     "output_type": "display_data"
    },
    {
     "data": {
      "application/vnd.jupyter.widget-view+json": {
       "model_id": "fc447cd9f5da4f9fa5adc6425bae7f16",
       "version_major": 2,
       "version_minor": 0
      },
      "text/plain": [
       "  0%|          | 0/4000 [00:00<?, ?it/s]"
      ]
     },
     "metadata": {},
     "output_type": "display_data"
    },
    {
     "data": {
      "application/vnd.jupyter.widget-view+json": {
       "model_id": "42d25a107bce4829a6ecf9f9a458a767",
       "version_major": 2,
       "version_minor": 0
      },
      "text/plain": [
       "  0%|          | 0/4000 [00:00<?, ?it/s]"
      ]
     },
     "metadata": {},
     "output_type": "display_data"
    },
    {
     "data": {
      "application/vnd.jupyter.widget-view+json": {
       "model_id": "eb824d6e7b624ebb8b083dced5113981",
       "version_major": 2,
       "version_minor": 0
      },
      "text/plain": [
       "  0%|          | 0/4000 [00:00<?, ?it/s]"
      ]
     },
     "metadata": {},
     "output_type": "display_data"
    },
    {
     "data": {
      "application/vnd.jupyter.widget-view+json": {
       "model_id": "05c4e089938e44fda5b7d82d6d955854",
       "version_major": 2,
       "version_minor": 0
      },
      "text/plain": [
       "  0%|          | 0/4000 [00:00<?, ?it/s]"
      ]
     },
     "metadata": {},
     "output_type": "display_data"
    },
    {
     "data": {
      "application/vnd.jupyter.widget-view+json": {
       "model_id": "c072ff917039430fa976941d3ea9e6af",
       "version_major": 2,
       "version_minor": 0
      },
      "text/plain": [
       "  0%|          | 0/4000 [00:00<?, ?it/s]"
      ]
     },
     "metadata": {},
     "output_type": "display_data"
    },
    {
     "data": {
      "application/vnd.jupyter.widget-view+json": {
       "model_id": "2a7041b14ff94cd1a379b1fb52dc1b8e",
       "version_major": 2,
       "version_minor": 0
      },
      "text/plain": [
       "  0%|          | 0/4000 [00:00<?, ?it/s]"
      ]
     },
     "metadata": {},
     "output_type": "display_data"
    },
    {
     "data": {
      "application/vnd.jupyter.widget-view+json": {
       "model_id": "3031b073d6504d1490e074b4a291b523",
       "version_major": 2,
       "version_minor": 0
      },
      "text/plain": [
       "  0%|          | 0/4000 [00:00<?, ?it/s]"
      ]
     },
     "metadata": {},
     "output_type": "display_data"
    },
    {
     "data": {
      "application/vnd.jupyter.widget-view+json": {
       "model_id": "475b419a30c849378e0c856d8dd2dd69",
       "version_major": 2,
       "version_minor": 0
      },
      "text/plain": [
       "  0%|          | 0/4000 [00:00<?, ?it/s]"
      ]
     },
     "metadata": {},
     "output_type": "display_data"
    },
    {
     "data": {
      "application/vnd.jupyter.widget-view+json": {
       "model_id": "8e82cb2aabc1414396a3fe4fa301999b",
       "version_major": 2,
       "version_minor": 0
      },
      "text/plain": [
       "  0%|          | 0/4000 [00:00<?, ?it/s]"
      ]
     },
     "metadata": {},
     "output_type": "display_data"
    },
    {
     "data": {
      "application/vnd.jupyter.widget-view+json": {
       "model_id": "7484af3c97b04ddda482d4f64d869a86",
       "version_major": 2,
       "version_minor": 0
      },
      "text/plain": [
       "  0%|          | 0/4000 [00:00<?, ?it/s]"
      ]
     },
     "metadata": {},
     "output_type": "display_data"
    },
    {
     "data": {
      "application/vnd.jupyter.widget-view+json": {
       "model_id": "8498bd8fbfe644daae390bc8f15478cc",
       "version_major": 2,
       "version_minor": 0
      },
      "text/plain": [
       "  0%|          | 0/4000 [00:00<?, ?it/s]"
      ]
     },
     "metadata": {},
     "output_type": "display_data"
    },
    {
     "data": {
      "application/vnd.jupyter.widget-view+json": {
       "model_id": "7f90089ebc36442dbf9fac2eda9956c7",
       "version_major": 2,
       "version_minor": 0
      },
      "text/plain": [
       "  0%|          | 0/4000 [00:00<?, ?it/s]"
      ]
     },
     "metadata": {},
     "output_type": "display_data"
    },
    {
     "data": {
      "application/vnd.jupyter.widget-view+json": {
       "model_id": "b3227be33b1b45e2894fa8b5d572fc41",
       "version_major": 2,
       "version_minor": 0
      },
      "text/plain": [
       "  0%|          | 0/4000 [00:00<?, ?it/s]"
      ]
     },
     "metadata": {},
     "output_type": "display_data"
    },
    {
     "data": {
      "application/vnd.jupyter.widget-view+json": {
       "model_id": "806606e76e694e47b8c2ab7711b398c2",
       "version_major": 2,
       "version_minor": 0
      },
      "text/plain": [
       "  0%|          | 0/4000 [00:00<?, ?it/s]"
      ]
     },
     "metadata": {},
     "output_type": "display_data"
    },
    {
     "data": {
      "application/vnd.jupyter.widget-view+json": {
       "model_id": "5a07098950994186a121294f7ceaf1a7",
       "version_major": 2,
       "version_minor": 0
      },
      "text/plain": [
       "  0%|          | 0/4000 [00:00<?, ?it/s]"
      ]
     },
     "metadata": {},
     "output_type": "display_data"
    },
    {
     "data": {
      "application/vnd.jupyter.widget-view+json": {
       "model_id": "234bc130fe7344f096664693a93e32b3",
       "version_major": 2,
       "version_minor": 0
      },
      "text/plain": [
       "  0%|          | 0/4000 [00:00<?, ?it/s]"
      ]
     },
     "metadata": {},
     "output_type": "display_data"
    },
    {
     "data": {
      "application/vnd.jupyter.widget-view+json": {
       "model_id": "28bda679241049e78bc2d38bbbc67e9f",
       "version_major": 2,
       "version_minor": 0
      },
      "text/plain": [
       "  0%|          | 0/4000 [00:00<?, ?it/s]"
      ]
     },
     "metadata": {},
     "output_type": "display_data"
    },
    {
     "data": {
      "application/vnd.jupyter.widget-view+json": {
       "model_id": "74463629d5f64932b72c02163cee95a3",
       "version_major": 2,
       "version_minor": 0
      },
      "text/plain": [
       "  0%|          | 0/4000 [00:00<?, ?it/s]"
      ]
     },
     "metadata": {},
     "output_type": "display_data"
    },
    {
     "data": {
      "application/vnd.jupyter.widget-view+json": {
       "model_id": "4ab5a54165a945c3a63e21fbf16f41a8",
       "version_major": 2,
       "version_minor": 0
      },
      "text/plain": [
       "  0%|          | 0/4000 [00:00<?, ?it/s]"
      ]
     },
     "metadata": {},
     "output_type": "display_data"
    },
    {
     "data": {
      "application/vnd.jupyter.widget-view+json": {
       "model_id": "2fe66ff6e299411aa073694d8c4fe763",
       "version_major": 2,
       "version_minor": 0
      },
      "text/plain": [
       "  0%|          | 0/4000 [00:00<?, ?it/s]"
      ]
     },
     "metadata": {},
     "output_type": "display_data"
    },
    {
     "data": {
      "application/vnd.jupyter.widget-view+json": {
       "model_id": "627e2109aa4842faa5d269b7e724e63b",
       "version_major": 2,
       "version_minor": 0
      },
      "text/plain": [
       "  0%|          | 0/4000 [00:00<?, ?it/s]"
      ]
     },
     "metadata": {},
     "output_type": "display_data"
    },
    {
     "data": {
      "application/vnd.jupyter.widget-view+json": {
       "model_id": "0cfded101bb0483b9e05b8223eb09972",
       "version_major": 2,
       "version_minor": 0
      },
      "text/plain": [
       "  0%|          | 0/4000 [00:00<?, ?it/s]"
      ]
     },
     "metadata": {},
     "output_type": "display_data"
    },
    {
     "data": {
      "application/vnd.jupyter.widget-view+json": {
       "model_id": "79e1db4d97134bfcb5829e94fc6a1fb3",
       "version_major": 2,
       "version_minor": 0
      },
      "text/plain": [
       "  0%|          | 0/4000 [00:00<?, ?it/s]"
      ]
     },
     "metadata": {},
     "output_type": "display_data"
    },
    {
     "data": {
      "application/vnd.jupyter.widget-view+json": {
       "model_id": "9c27c4f33c714988bef79f15e065a441",
       "version_major": 2,
       "version_minor": 0
      },
      "text/plain": [
       "  0%|          | 0/4000 [00:00<?, ?it/s]"
      ]
     },
     "metadata": {},
     "output_type": "display_data"
    },
    {
     "data": {
      "application/vnd.jupyter.widget-view+json": {
       "model_id": "c4d48939301043a88db43cc1002d1370",
       "version_major": 2,
       "version_minor": 0
      },
      "text/plain": [
       "  0%|          | 0/4000 [00:00<?, ?it/s]"
      ]
     },
     "metadata": {},
     "output_type": "display_data"
    },
    {
     "data": {
      "application/vnd.jupyter.widget-view+json": {
       "model_id": "a91f663ade61485896ce2a2b484de07a",
       "version_major": 2,
       "version_minor": 0
      },
      "text/plain": [
       "  0%|          | 0/4000 [00:00<?, ?it/s]"
      ]
     },
     "metadata": {},
     "output_type": "display_data"
    },
    {
     "data": {
      "application/vnd.jupyter.widget-view+json": {
       "model_id": "24ab8765d69d49748525b2b50c6a8f0d",
       "version_major": 2,
       "version_minor": 0
      },
      "text/plain": [
       "  0%|          | 0/4000 [00:00<?, ?it/s]"
      ]
     },
     "metadata": {},
     "output_type": "display_data"
    },
    {
     "data": {
      "application/vnd.jupyter.widget-view+json": {
       "model_id": "56a26af8dc3c49b796f27af561ef9a9e",
       "version_major": 2,
       "version_minor": 0
      },
      "text/plain": [
       "  0%|          | 0/4000 [00:00<?, ?it/s]"
      ]
     },
     "metadata": {},
     "output_type": "display_data"
    },
    {
     "data": {
      "application/vnd.jupyter.widget-view+json": {
       "model_id": "44c3451dc81d494a90c3338270e531ba",
       "version_major": 2,
       "version_minor": 0
      },
      "text/plain": [
       "  0%|          | 0/4000 [00:00<?, ?it/s]"
      ]
     },
     "metadata": {},
     "output_type": "display_data"
    },
    {
     "data": {
      "application/vnd.jupyter.widget-view+json": {
       "model_id": "5013f260baf14ce88979e988b8884ebc",
       "version_major": 2,
       "version_minor": 0
      },
      "text/plain": [
       "  0%|          | 0/4000 [00:00<?, ?it/s]"
      ]
     },
     "metadata": {},
     "output_type": "display_data"
    },
    {
     "data": {
      "application/vnd.jupyter.widget-view+json": {
       "model_id": "1583685c237942ebb575fac3b427dcff",
       "version_major": 2,
       "version_minor": 0
      },
      "text/plain": [
       "  0%|          | 0/4000 [00:00<?, ?it/s]"
      ]
     },
     "metadata": {},
     "output_type": "display_data"
    },
    {
     "data": {
      "application/vnd.jupyter.widget-view+json": {
       "model_id": "d8d4ca36bfbf4ba28c939ec10312c38d",
       "version_major": 2,
       "version_minor": 0
      },
      "text/plain": [
       "  0%|          | 0/4000 [00:00<?, ?it/s]"
      ]
     },
     "metadata": {},
     "output_type": "display_data"
    },
    {
     "data": {
      "application/vnd.jupyter.widget-view+json": {
       "model_id": "4e15bf8c8df443e0a2bf339c4967a621",
       "version_major": 2,
       "version_minor": 0
      },
      "text/plain": [
       "  0%|          | 0/4000 [00:00<?, ?it/s]"
      ]
     },
     "metadata": {},
     "output_type": "display_data"
    },
    {
     "data": {
      "application/vnd.jupyter.widget-view+json": {
       "model_id": "396d07ecf5664584a60f8fb2e6d93f5f",
       "version_major": 2,
       "version_minor": 0
      },
      "text/plain": [
       "  0%|          | 0/4000 [00:00<?, ?it/s]"
      ]
     },
     "metadata": {},
     "output_type": "display_data"
    },
    {
     "data": {
      "application/vnd.jupyter.widget-view+json": {
       "model_id": "be928d93c7584082a1575d85e02270d1",
       "version_major": 2,
       "version_minor": 0
      },
      "text/plain": [
       "  0%|          | 0/4000 [00:00<?, ?it/s]"
      ]
     },
     "metadata": {},
     "output_type": "display_data"
    },
    {
     "data": {
      "application/vnd.jupyter.widget-view+json": {
       "model_id": "73e981a91a7748b98c0cf3321234adbd",
       "version_major": 2,
       "version_minor": 0
      },
      "text/plain": [
       "  0%|          | 0/4000 [00:00<?, ?it/s]"
      ]
     },
     "metadata": {},
     "output_type": "display_data"
    },
    {
     "data": {
      "application/vnd.jupyter.widget-view+json": {
       "model_id": "d19daef99db8488da1deeea9cfd36d03",
       "version_major": 2,
       "version_minor": 0
      },
      "text/plain": [
       "  0%|          | 0/4000 [00:00<?, ?it/s]"
      ]
     },
     "metadata": {},
     "output_type": "display_data"
    },
    {
     "data": {
      "application/vnd.jupyter.widget-view+json": {
       "model_id": "58ea38f12d504b0ea9b9707ae4fcc60e",
       "version_major": 2,
       "version_minor": 0
      },
      "text/plain": [
       "  0%|          | 0/4000 [00:00<?, ?it/s]"
      ]
     },
     "metadata": {},
     "output_type": "display_data"
    },
    {
     "data": {
      "application/vnd.jupyter.widget-view+json": {
       "model_id": "f640151056c4450baf0f5b81fb8594f3",
       "version_major": 2,
       "version_minor": 0
      },
      "text/plain": [
       "  0%|          | 0/4000 [00:00<?, ?it/s]"
      ]
     },
     "metadata": {},
     "output_type": "display_data"
    },
    {
     "data": {
      "application/vnd.jupyter.widget-view+json": {
       "model_id": "1b9a317d3be34ba2909b98b5050cf5be",
       "version_major": 2,
       "version_minor": 0
      },
      "text/plain": [
       "  0%|          | 0/4000 [00:00<?, ?it/s]"
      ]
     },
     "metadata": {},
     "output_type": "display_data"
    },
    {
     "data": {
      "application/vnd.jupyter.widget-view+json": {
       "model_id": "6cb89a640fb74d7f83a3024b74b586a6",
       "version_major": 2,
       "version_minor": 0
      },
      "text/plain": [
       "  0%|          | 0/4000 [00:00<?, ?it/s]"
      ]
     },
     "metadata": {},
     "output_type": "display_data"
    },
    {
     "data": {
      "application/vnd.jupyter.widget-view+json": {
       "model_id": "95766661affb406eb4d6088c205e683f",
       "version_major": 2,
       "version_minor": 0
      },
      "text/plain": [
       "  0%|          | 0/4000 [00:00<?, ?it/s]"
      ]
     },
     "metadata": {},
     "output_type": "display_data"
    },
    {
     "data": {
      "application/vnd.jupyter.widget-view+json": {
       "model_id": "fe248ae6884c420794877c78d7d43f4f",
       "version_major": 2,
       "version_minor": 0
      },
      "text/plain": [
       "  0%|          | 0/4000 [00:00<?, ?it/s]"
      ]
     },
     "metadata": {},
     "output_type": "display_data"
    },
    {
     "data": {
      "application/vnd.jupyter.widget-view+json": {
       "model_id": "e7f37a8551e24fcf8c401d1d50bd2f3b",
       "version_major": 2,
       "version_minor": 0
      },
      "text/plain": [
       "  0%|          | 0/4000 [00:00<?, ?it/s]"
      ]
     },
     "metadata": {},
     "output_type": "display_data"
    },
    {
     "data": {
      "application/vnd.jupyter.widget-view+json": {
       "model_id": "a21ad660a5cd4ccd9b9f119cad3cd740",
       "version_major": 2,
       "version_minor": 0
      },
      "text/plain": [
       "  0%|          | 0/4000 [00:00<?, ?it/s]"
      ]
     },
     "metadata": {},
     "output_type": "display_data"
    },
    {
     "data": {
      "application/vnd.jupyter.widget-view+json": {
       "model_id": "6d17aca39cba4b61b8d6f565cfcfcdd4",
       "version_major": 2,
       "version_minor": 0
      },
      "text/plain": [
       "  0%|          | 0/4000 [00:00<?, ?it/s]"
      ]
     },
     "metadata": {},
     "output_type": "display_data"
    },
    {
     "data": {
      "application/vnd.jupyter.widget-view+json": {
       "model_id": "94268fb176ea4404b8989e3cc22de2e6",
       "version_major": 2,
       "version_minor": 0
      },
      "text/plain": [
       "  0%|          | 0/4000 [00:00<?, ?it/s]"
      ]
     },
     "metadata": {},
     "output_type": "display_data"
    },
    {
     "data": {
      "application/vnd.jupyter.widget-view+json": {
       "model_id": "00e2341e316144c59e35c64e1e59a193",
       "version_major": 2,
       "version_minor": 0
      },
      "text/plain": [
       "  0%|          | 0/4000 [00:00<?, ?it/s]"
      ]
     },
     "metadata": {},
     "output_type": "display_data"
    },
    {
     "data": {
      "application/vnd.jupyter.widget-view+json": {
       "model_id": "351e83e6eeac45729adc3c78c2191f45",
       "version_major": 2,
       "version_minor": 0
      },
      "text/plain": [
       "  0%|          | 0/4000 [00:00<?, ?it/s]"
      ]
     },
     "metadata": {},
     "output_type": "display_data"
    },
    {
     "data": {
      "application/vnd.jupyter.widget-view+json": {
       "model_id": "c0456a95736048f08b3f69340c98ba57",
       "version_major": 2,
       "version_minor": 0
      },
      "text/plain": [
       "  0%|          | 0/4000 [00:00<?, ?it/s]"
      ]
     },
     "metadata": {},
     "output_type": "display_data"
    },
    {
     "data": {
      "application/vnd.jupyter.widget-view+json": {
       "model_id": "492c6c58cf8642c6a5aa3bbcb8829eb3",
       "version_major": 2,
       "version_minor": 0
      },
      "text/plain": [
       "  0%|          | 0/4000 [00:00<?, ?it/s]"
      ]
     },
     "metadata": {},
     "output_type": "display_data"
    },
    {
     "data": {
      "application/vnd.jupyter.widget-view+json": {
       "model_id": "08f530c844aa4ed5bfd21e5d14aee84e",
       "version_major": 2,
       "version_minor": 0
      },
      "text/plain": [
       "  0%|          | 0/4000 [00:00<?, ?it/s]"
      ]
     },
     "metadata": {},
     "output_type": "display_data"
    },
    {
     "data": {
      "application/vnd.jupyter.widget-view+json": {
       "model_id": "d308b935969d499caa62d1cc8e09dd9d",
       "version_major": 2,
       "version_minor": 0
      },
      "text/plain": [
       "  0%|          | 0/4000 [00:00<?, ?it/s]"
      ]
     },
     "metadata": {},
     "output_type": "display_data"
    },
    {
     "data": {
      "application/vnd.jupyter.widget-view+json": {
       "model_id": "5d05126bc81547c8be773d45d7ebdd26",
       "version_major": 2,
       "version_minor": 0
      },
      "text/plain": [
       "  0%|          | 0/4000 [00:00<?, ?it/s]"
      ]
     },
     "metadata": {},
     "output_type": "display_data"
    },
    {
     "data": {
      "application/vnd.jupyter.widget-view+json": {
       "model_id": "d090b78264014587a1614162eb9f3279",
       "version_major": 2,
       "version_minor": 0
      },
      "text/plain": [
       "  0%|          | 0/4000 [00:00<?, ?it/s]"
      ]
     },
     "metadata": {},
     "output_type": "display_data"
    },
    {
     "data": {
      "application/vnd.jupyter.widget-view+json": {
       "model_id": "428bf7281a5a441386ff7369a0145a1e",
       "version_major": 2,
       "version_minor": 0
      },
      "text/plain": [
       "  0%|          | 0/4000 [00:00<?, ?it/s]"
      ]
     },
     "metadata": {},
     "output_type": "display_data"
    },
    {
     "data": {
      "application/vnd.jupyter.widget-view+json": {
       "model_id": "3d27540e86b1471d9de552122eba7696",
       "version_major": 2,
       "version_minor": 0
      },
      "text/plain": [
       "  0%|          | 0/4000 [00:00<?, ?it/s]"
      ]
     },
     "metadata": {},
     "output_type": "display_data"
    },
    {
     "data": {
      "application/vnd.jupyter.widget-view+json": {
       "model_id": "bb3ad708711a49b88ae7deb657b0fc3b",
       "version_major": 2,
       "version_minor": 0
      },
      "text/plain": [
       "  0%|          | 0/4000 [00:00<?, ?it/s]"
      ]
     },
     "metadata": {},
     "output_type": "display_data"
    },
    {
     "data": {
      "application/vnd.jupyter.widget-view+json": {
       "model_id": "3543f6382b994b2ab7776fb348834c03",
       "version_major": 2,
       "version_minor": 0
      },
      "text/plain": [
       "  0%|          | 0/4000 [00:00<?, ?it/s]"
      ]
     },
     "metadata": {},
     "output_type": "display_data"
    },
    {
     "data": {
      "application/vnd.jupyter.widget-view+json": {
       "model_id": "d80aa60fd46741dfa98bb14be449eaa0",
       "version_major": 2,
       "version_minor": 0
      },
      "text/plain": [
       "  0%|          | 0/4000 [00:00<?, ?it/s]"
      ]
     },
     "metadata": {},
     "output_type": "display_data"
    },
    {
     "data": {
      "application/vnd.jupyter.widget-view+json": {
       "model_id": "67caed3f254843ed83bd4fba22dd62c4",
       "version_major": 2,
       "version_minor": 0
      },
      "text/plain": [
       "  0%|          | 0/4000 [00:00<?, ?it/s]"
      ]
     },
     "metadata": {},
     "output_type": "display_data"
    },
    {
     "data": {
      "application/vnd.jupyter.widget-view+json": {
       "model_id": "cff665c00f6b48b7bf36cdb291fb0491",
       "version_major": 2,
       "version_minor": 0
      },
      "text/plain": [
       "  0%|          | 0/4000 [00:00<?, ?it/s]"
      ]
     },
     "metadata": {},
     "output_type": "display_data"
    },
    {
     "data": {
      "application/vnd.jupyter.widget-view+json": {
       "model_id": "12f6fb73dc4644a2a0be76bafe2ae795",
       "version_major": 2,
       "version_minor": 0
      },
      "text/plain": [
       "  0%|          | 0/4000 [00:00<?, ?it/s]"
      ]
     },
     "metadata": {},
     "output_type": "display_data"
    },
    {
     "data": {
      "application/vnd.jupyter.widget-view+json": {
       "model_id": "bbbd73c7d9494028be65979f568cdc24",
       "version_major": 2,
       "version_minor": 0
      },
      "text/plain": [
       "  0%|          | 0/4000 [00:00<?, ?it/s]"
      ]
     },
     "metadata": {},
     "output_type": "display_data"
    },
    {
     "data": {
      "application/vnd.jupyter.widget-view+json": {
       "model_id": "297cb98e216341fdbf416d856cb69477",
       "version_major": 2,
       "version_minor": 0
      },
      "text/plain": [
       "  0%|          | 0/4000 [00:00<?, ?it/s]"
      ]
     },
     "metadata": {},
     "output_type": "display_data"
    },
    {
     "data": {
      "application/vnd.jupyter.widget-view+json": {
       "model_id": "8780eccdbbd147a2a050bac178798b43",
       "version_major": 2,
       "version_minor": 0
      },
      "text/plain": [
       "  0%|          | 0/4000 [00:00<?, ?it/s]"
      ]
     },
     "metadata": {},
     "output_type": "display_data"
    },
    {
     "data": {
      "application/vnd.jupyter.widget-view+json": {
       "model_id": "1e8fd8d504ff4224aa15152d0b231f66",
       "version_major": 2,
       "version_minor": 0
      },
      "text/plain": [
       "  0%|          | 0/4000 [00:00<?, ?it/s]"
      ]
     },
     "metadata": {},
     "output_type": "display_data"
    },
    {
     "data": {
      "application/vnd.jupyter.widget-view+json": {
       "model_id": "9019527088814440a39e8f61da44044f",
       "version_major": 2,
       "version_minor": 0
      },
      "text/plain": [
       "  0%|          | 0/4000 [00:00<?, ?it/s]"
      ]
     },
     "metadata": {},
     "output_type": "display_data"
    },
    {
     "data": {
      "application/vnd.jupyter.widget-view+json": {
       "model_id": "4c7eed930bd74fb7a789aa8dc1b53757",
       "version_major": 2,
       "version_minor": 0
      },
      "text/plain": [
       "  0%|          | 0/4000 [00:00<?, ?it/s]"
      ]
     },
     "metadata": {},
     "output_type": "display_data"
    },
    {
     "data": {
      "application/vnd.jupyter.widget-view+json": {
       "model_id": "7250dc4c5a2947bf9df0c145621bfc1a",
       "version_major": 2,
       "version_minor": 0
      },
      "text/plain": [
       "  0%|          | 0/4000 [00:00<?, ?it/s]"
      ]
     },
     "metadata": {},
     "output_type": "display_data"
    },
    {
     "data": {
      "application/vnd.jupyter.widget-view+json": {
       "model_id": "dcb75e8c95774742b747987e06f99a86",
       "version_major": 2,
       "version_minor": 0
      },
      "text/plain": [
       "  0%|          | 0/4000 [00:00<?, ?it/s]"
      ]
     },
     "metadata": {},
     "output_type": "display_data"
    },
    {
     "data": {
      "application/vnd.jupyter.widget-view+json": {
       "model_id": "17a71b8c4ff0457893f7545d51ccadee",
       "version_major": 2,
       "version_minor": 0
      },
      "text/plain": [
       "  0%|          | 0/4000 [00:00<?, ?it/s]"
      ]
     },
     "metadata": {},
     "output_type": "display_data"
    },
    {
     "data": {
      "application/vnd.jupyter.widget-view+json": {
       "model_id": "bbfc3de25fcb4ca9a312368c7a232305",
       "version_major": 2,
       "version_minor": 0
      },
      "text/plain": [
       "  0%|          | 0/4000 [00:00<?, ?it/s]"
      ]
     },
     "metadata": {},
     "output_type": "display_data"
    },
    {
     "data": {
      "application/vnd.jupyter.widget-view+json": {
       "model_id": "d6cd31f23996421da8e0ef6ad606ce92",
       "version_major": 2,
       "version_minor": 0
      },
      "text/plain": [
       "  0%|          | 0/4000 [00:00<?, ?it/s]"
      ]
     },
     "metadata": {},
     "output_type": "display_data"
    },
    {
     "data": {
      "application/vnd.jupyter.widget-view+json": {
       "model_id": "ff425f934c9a435891a4c9fd3626a2a0",
       "version_major": 2,
       "version_minor": 0
      },
      "text/plain": [
       "  0%|          | 0/4000 [00:00<?, ?it/s]"
      ]
     },
     "metadata": {},
     "output_type": "display_data"
    },
    {
     "data": {
      "application/vnd.jupyter.widget-view+json": {
       "model_id": "1a0584258fe243f99f300e89ae69f9ff",
       "version_major": 2,
       "version_minor": 0
      },
      "text/plain": [
       "  0%|          | 0/4000 [00:00<?, ?it/s]"
      ]
     },
     "metadata": {},
     "output_type": "display_data"
    },
    {
     "data": {
      "application/vnd.jupyter.widget-view+json": {
       "model_id": "48114f0cdc2a4a2db03c7568f8d72ff0",
       "version_major": 2,
       "version_minor": 0
      },
      "text/plain": [
       "  0%|          | 0/4000 [00:00<?, ?it/s]"
      ]
     },
     "metadata": {},
     "output_type": "display_data"
    },
    {
     "data": {
      "application/vnd.jupyter.widget-view+json": {
       "model_id": "a822ecdb82934232b9843fe0b2f0a563",
       "version_major": 2,
       "version_minor": 0
      },
      "text/plain": [
       "  0%|          | 0/4000 [00:00<?, ?it/s]"
      ]
     },
     "metadata": {},
     "output_type": "display_data"
    },
    {
     "data": {
      "application/vnd.jupyter.widget-view+json": {
       "model_id": "6886341bd9974467a79b87272120f53d",
       "version_major": 2,
       "version_minor": 0
      },
      "text/plain": [
       "  0%|          | 0/4000 [00:00<?, ?it/s]"
      ]
     },
     "metadata": {},
     "output_type": "display_data"
    },
    {
     "data": {
      "application/vnd.jupyter.widget-view+json": {
       "model_id": "265331589da346058dffa1b624e26d74",
       "version_major": 2,
       "version_minor": 0
      },
      "text/plain": [
       "  0%|          | 0/4000 [00:00<?, ?it/s]"
      ]
     },
     "metadata": {},
     "output_type": "display_data"
    },
    {
     "data": {
      "application/vnd.jupyter.widget-view+json": {
       "model_id": "e8708f9a2e754b29bcd6b32e76b7f818",
       "version_major": 2,
       "version_minor": 0
      },
      "text/plain": [
       "  0%|          | 0/4000 [00:00<?, ?it/s]"
      ]
     },
     "metadata": {},
     "output_type": "display_data"
    },
    {
     "data": {
      "application/vnd.jupyter.widget-view+json": {
       "model_id": "94718605855e406d970face1c6f5e871",
       "version_major": 2,
       "version_minor": 0
      },
      "text/plain": [
       "  0%|          | 0/4000 [00:00<?, ?it/s]"
      ]
     },
     "metadata": {},
     "output_type": "display_data"
    },
    {
     "data": {
      "application/vnd.jupyter.widget-view+json": {
       "model_id": "b94bdb0b01164cd7bf49bf2311d639a7",
       "version_major": 2,
       "version_minor": 0
      },
      "text/plain": [
       "  0%|          | 0/4000 [00:00<?, ?it/s]"
      ]
     },
     "metadata": {},
     "output_type": "display_data"
    },
    {
     "data": {
      "application/vnd.jupyter.widget-view+json": {
       "model_id": "9567b3b57fe94db8a747c79608a45f32",
       "version_major": 2,
       "version_minor": 0
      },
      "text/plain": [
       "  0%|          | 0/4000 [00:00<?, ?it/s]"
      ]
     },
     "metadata": {},
     "output_type": "display_data"
    },
    {
     "data": {
      "application/vnd.jupyter.widget-view+json": {
       "model_id": "8380bbfb754d46178a3b5f43e2e131b2",
       "version_major": 2,
       "version_minor": 0
      },
      "text/plain": [
       "  0%|          | 0/4000 [00:00<?, ?it/s]"
      ]
     },
     "metadata": {},
     "output_type": "display_data"
    },
    {
     "data": {
      "application/vnd.jupyter.widget-view+json": {
       "model_id": "a900266e35e449609ff9c6c2347d5d39",
       "version_major": 2,
       "version_minor": 0
      },
      "text/plain": [
       "  0%|          | 0/4000 [00:00<?, ?it/s]"
      ]
     },
     "metadata": {},
     "output_type": "display_data"
    },
    {
     "data": {
      "application/vnd.jupyter.widget-view+json": {
       "model_id": "543477c755d14507980e193f6f19a049",
       "version_major": 2,
       "version_minor": 0
      },
      "text/plain": [
       "  0%|          | 0/4000 [00:00<?, ?it/s]"
      ]
     },
     "metadata": {},
     "output_type": "display_data"
    },
    {
     "data": {
      "application/vnd.jupyter.widget-view+json": {
       "model_id": "b59e08ccd7b441ca9024938909eacc16",
       "version_major": 2,
       "version_minor": 0
      },
      "text/plain": [
       "  0%|          | 0/4000 [00:00<?, ?it/s]"
      ]
     },
     "metadata": {},
     "output_type": "display_data"
    },
    {
     "data": {
      "application/vnd.jupyter.widget-view+json": {
       "model_id": "debb653e810d4b3cb85f5e34b56332c7",
       "version_major": 2,
       "version_minor": 0
      },
      "text/plain": [
       "  0%|          | 0/4000 [00:00<?, ?it/s]"
      ]
     },
     "metadata": {},
     "output_type": "display_data"
    },
    {
     "data": {
      "application/vnd.jupyter.widget-view+json": {
       "model_id": "b48682ad4bfe468e9a47afd9e7b0b7af",
       "version_major": 2,
       "version_minor": 0
      },
      "text/plain": [
       "  0%|          | 0/4000 [00:00<?, ?it/s]"
      ]
     },
     "metadata": {},
     "output_type": "display_data"
    },
    {
     "data": {
      "application/vnd.jupyter.widget-view+json": {
       "model_id": "7dc9512bf7a74ed384e9a3f9407b1cb4",
       "version_major": 2,
       "version_minor": 0
      },
      "text/plain": [
       "  0%|          | 0/4000 [00:00<?, ?it/s]"
      ]
     },
     "metadata": {},
     "output_type": "display_data"
    },
    {
     "data": {
      "application/vnd.jupyter.widget-view+json": {
       "model_id": "d40738890263429c9a138d068e692355",
       "version_major": 2,
       "version_minor": 0
      },
      "text/plain": [
       "  0%|          | 0/4000 [00:00<?, ?it/s]"
      ]
     },
     "metadata": {},
     "output_type": "display_data"
    },
    {
     "data": {
      "application/vnd.jupyter.widget-view+json": {
       "model_id": "ea94852581784e27bebe616417f3f553",
       "version_major": 2,
       "version_minor": 0
      },
      "text/plain": [
       "  0%|          | 0/4000 [00:00<?, ?it/s]"
      ]
     },
     "metadata": {},
     "output_type": "display_data"
    },
    {
     "data": {
      "application/vnd.jupyter.widget-view+json": {
       "model_id": "50cb777dc7ee4455897c98edefa402da",
       "version_major": 2,
       "version_minor": 0
      },
      "text/plain": [
       "  0%|          | 0/4000 [00:00<?, ?it/s]"
      ]
     },
     "metadata": {},
     "output_type": "display_data"
    },
    {
     "data": {
      "application/vnd.jupyter.widget-view+json": {
       "model_id": "6c53910d508748b1b16b4f46260ca141",
       "version_major": 2,
       "version_minor": 0
      },
      "text/plain": [
       "  0%|          | 0/4000 [00:00<?, ?it/s]"
      ]
     },
     "metadata": {},
     "output_type": "display_data"
    },
    {
     "data": {
      "application/vnd.jupyter.widget-view+json": {
       "model_id": "cabb6e62b07b4188a0c0670e3d51a5c6",
       "version_major": 2,
       "version_minor": 0
      },
      "text/plain": [
       "  0%|          | 0/4000 [00:00<?, ?it/s]"
      ]
     },
     "metadata": {},
     "output_type": "display_data"
    },
    {
     "data": {
      "application/vnd.jupyter.widget-view+json": {
       "model_id": "2917a1fd4b1e4d5280d154ae7003f871",
       "version_major": 2,
       "version_minor": 0
      },
      "text/plain": [
       "  0%|          | 0/4000 [00:00<?, ?it/s]"
      ]
     },
     "metadata": {},
     "output_type": "display_data"
    },
    {
     "data": {
      "application/vnd.jupyter.widget-view+json": {
       "model_id": "711baa1145e746a28983f4f88f1faad7",
       "version_major": 2,
       "version_minor": 0
      },
      "text/plain": [
       "  0%|          | 0/4000 [00:00<?, ?it/s]"
      ]
     },
     "metadata": {},
     "output_type": "display_data"
    },
    {
     "data": {
      "application/vnd.jupyter.widget-view+json": {
       "model_id": "8ba5cc4c18764be79ec1deed60d7294a",
       "version_major": 2,
       "version_minor": 0
      },
      "text/plain": [
       "  0%|          | 0/4000 [00:00<?, ?it/s]"
      ]
     },
     "metadata": {},
     "output_type": "display_data"
    },
    {
     "data": {
      "application/vnd.jupyter.widget-view+json": {
       "model_id": "be82f4acd6224981bb6829fe3b75c4a4",
       "version_major": 2,
       "version_minor": 0
      },
      "text/plain": [
       "  0%|          | 0/4000 [00:00<?, ?it/s]"
      ]
     },
     "metadata": {},
     "output_type": "display_data"
    },
    {
     "data": {
      "application/vnd.jupyter.widget-view+json": {
       "model_id": "7404f60602284f538bea9aad705114a5",
       "version_major": 2,
       "version_minor": 0
      },
      "text/plain": [
       "  0%|          | 0/4000 [00:00<?, ?it/s]"
      ]
     },
     "metadata": {},
     "output_type": "display_data"
    },
    {
     "data": {
      "application/vnd.jupyter.widget-view+json": {
       "model_id": "118338f8234a40d2997d3ea7526a928c",
       "version_major": 2,
       "version_minor": 0
      },
      "text/plain": [
       "  0%|          | 0/4000 [00:00<?, ?it/s]"
      ]
     },
     "metadata": {},
     "output_type": "display_data"
    },
    {
     "data": {
      "application/vnd.jupyter.widget-view+json": {
       "model_id": "65e503a1dd70400b8f6b73920ae27bc5",
       "version_major": 2,
       "version_minor": 0
      },
      "text/plain": [
       "  0%|          | 0/4000 [00:00<?, ?it/s]"
      ]
     },
     "metadata": {},
     "output_type": "display_data"
    },
    {
     "data": {
      "application/vnd.jupyter.widget-view+json": {
       "model_id": "fb21eda0de9f4672a615f673d7f87b1d",
       "version_major": 2,
       "version_minor": 0
      },
      "text/plain": [
       "  0%|          | 0/4000 [00:00<?, ?it/s]"
      ]
     },
     "metadata": {},
     "output_type": "display_data"
    },
    {
     "data": {
      "application/vnd.jupyter.widget-view+json": {
       "model_id": "b2510c95ff5545e2a7107d15e33b7fc4",
       "version_major": 2,
       "version_minor": 0
      },
      "text/plain": [
       "  0%|          | 0/4000 [00:00<?, ?it/s]"
      ]
     },
     "metadata": {},
     "output_type": "display_data"
    },
    {
     "data": {
      "application/vnd.jupyter.widget-view+json": {
       "model_id": "e93033a083d34451a34a4e99c9e088fe",
       "version_major": 2,
       "version_minor": 0
      },
      "text/plain": [
       "  0%|          | 0/4000 [00:00<?, ?it/s]"
      ]
     },
     "metadata": {},
     "output_type": "display_data"
    },
    {
     "data": {
      "application/vnd.jupyter.widget-view+json": {
       "model_id": "d9d7383f3ede4dd0b03e62c46fe30f5e",
       "version_major": 2,
       "version_minor": 0
      },
      "text/plain": [
       "  0%|          | 0/4000 [00:00<?, ?it/s]"
      ]
     },
     "metadata": {},
     "output_type": "display_data"
    },
    {
     "data": {
      "application/vnd.jupyter.widget-view+json": {
       "model_id": "e3b5168b5f2b439d8155c9be11e37423",
       "version_major": 2,
       "version_minor": 0
      },
      "text/plain": [
       "  0%|          | 0/4000 [00:00<?, ?it/s]"
      ]
     },
     "metadata": {},
     "output_type": "display_data"
    },
    {
     "data": {
      "application/vnd.jupyter.widget-view+json": {
       "model_id": "e7c0f8522d0044f8bd1e709c62e4c553",
       "version_major": 2,
       "version_minor": 0
      },
      "text/plain": [
       "  0%|          | 0/4000 [00:00<?, ?it/s]"
      ]
     },
     "metadata": {},
     "output_type": "display_data"
    },
    {
     "data": {
      "application/vnd.jupyter.widget-view+json": {
       "model_id": "0fb2c372dbbc4744bdfefd68b30a2891",
       "version_major": 2,
       "version_minor": 0
      },
      "text/plain": [
       "  0%|          | 0/4000 [00:00<?, ?it/s]"
      ]
     },
     "metadata": {},
     "output_type": "display_data"
    },
    {
     "data": {
      "application/vnd.jupyter.widget-view+json": {
       "model_id": "dce51c098f0f47328893752ef360e858",
       "version_major": 2,
       "version_minor": 0
      },
      "text/plain": [
       "  0%|          | 0/4000 [00:00<?, ?it/s]"
      ]
     },
     "metadata": {},
     "output_type": "display_data"
    },
    {
     "data": {
      "application/vnd.jupyter.widget-view+json": {
       "model_id": "897cbd92d09a42be9dd554114a3954c5",
       "version_major": 2,
       "version_minor": 0
      },
      "text/plain": [
       "  0%|          | 0/4000 [00:00<?, ?it/s]"
      ]
     },
     "metadata": {},
     "output_type": "display_data"
    },
    {
     "data": {
      "application/vnd.jupyter.widget-view+json": {
       "model_id": "ed52cd634fc3494d9e2272281d7ab3eb",
       "version_major": 2,
       "version_minor": 0
      },
      "text/plain": [
       "  0%|          | 0/4000 [00:00<?, ?it/s]"
      ]
     },
     "metadata": {},
     "output_type": "display_data"
    },
    {
     "data": {
      "application/vnd.jupyter.widget-view+json": {
       "model_id": "58c9e32940214492abcea82421c02be2",
       "version_major": 2,
       "version_minor": 0
      },
      "text/plain": [
       "  0%|          | 0/4000 [00:00<?, ?it/s]"
      ]
     },
     "metadata": {},
     "output_type": "display_data"
    },
    {
     "data": {
      "application/vnd.jupyter.widget-view+json": {
       "model_id": "2eed1afe84c5448096d12dc3cf58c12c",
       "version_major": 2,
       "version_minor": 0
      },
      "text/plain": [
       "  0%|          | 0/4000 [00:00<?, ?it/s]"
      ]
     },
     "metadata": {},
     "output_type": "display_data"
    },
    {
     "data": {
      "application/vnd.jupyter.widget-view+json": {
       "model_id": "8da8583e60354e4e9ddafa674327b068",
       "version_major": 2,
       "version_minor": 0
      },
      "text/plain": [
       "  0%|          | 0/4000 [00:00<?, ?it/s]"
      ]
     },
     "metadata": {},
     "output_type": "display_data"
    },
    {
     "data": {
      "application/vnd.jupyter.widget-view+json": {
       "model_id": "d9adf71e410a4cb98b7b6fcdd99620b9",
       "version_major": 2,
       "version_minor": 0
      },
      "text/plain": [
       "  0%|          | 0/4000 [00:00<?, ?it/s]"
      ]
     },
     "metadata": {},
     "output_type": "display_data"
    },
    {
     "data": {
      "application/vnd.jupyter.widget-view+json": {
       "model_id": "5e60e2bb73714a77ac31ea92c40e2ba4",
       "version_major": 2,
       "version_minor": 0
      },
      "text/plain": [
       "  0%|          | 0/4000 [00:00<?, ?it/s]"
      ]
     },
     "metadata": {},
     "output_type": "display_data"
    },
    {
     "data": {
      "application/vnd.jupyter.widget-view+json": {
       "model_id": "0d7d878226e147cab49651cb44ab5b1c",
       "version_major": 2,
       "version_minor": 0
      },
      "text/plain": [
       "  0%|          | 0/4000 [00:00<?, ?it/s]"
      ]
     },
     "metadata": {},
     "output_type": "display_data"
    },
    {
     "data": {
      "application/vnd.jupyter.widget-view+json": {
       "model_id": "9e082fb7dbad40e29b7750c9632f03e7",
       "version_major": 2,
       "version_minor": 0
      },
      "text/plain": [
       "  0%|          | 0/4000 [00:00<?, ?it/s]"
      ]
     },
     "metadata": {},
     "output_type": "display_data"
    },
    {
     "data": {
      "application/vnd.jupyter.widget-view+json": {
       "model_id": "a42b0f7f82d244abb48a7fd2aec2f0af",
       "version_major": 2,
       "version_minor": 0
      },
      "text/plain": [
       "  0%|          | 0/4000 [00:00<?, ?it/s]"
      ]
     },
     "metadata": {},
     "output_type": "display_data"
    },
    {
     "data": {
      "application/vnd.jupyter.widget-view+json": {
       "model_id": "412fa4be7bad43c4855cf7675a36b6be",
       "version_major": 2,
       "version_minor": 0
      },
      "text/plain": [
       "  0%|          | 0/4000 [00:00<?, ?it/s]"
      ]
     },
     "metadata": {},
     "output_type": "display_data"
    },
    {
     "data": {
      "application/vnd.jupyter.widget-view+json": {
       "model_id": "7783ad83e47149a3b863ce85792db243",
       "version_major": 2,
       "version_minor": 0
      },
      "text/plain": [
       "  0%|          | 0/4000 [00:00<?, ?it/s]"
      ]
     },
     "metadata": {},
     "output_type": "display_data"
    },
    {
     "data": {
      "application/vnd.jupyter.widget-view+json": {
       "model_id": "ac4328b8cd1147218c97f5e8f6011134",
       "version_major": 2,
       "version_minor": 0
      },
      "text/plain": [
       "  0%|          | 0/4000 [00:00<?, ?it/s]"
      ]
     },
     "metadata": {},
     "output_type": "display_data"
    },
    {
     "data": {
      "application/vnd.jupyter.widget-view+json": {
       "model_id": "0c7985010ef24baf96a244b09777e39f",
       "version_major": 2,
       "version_minor": 0
      },
      "text/plain": [
       "  0%|          | 0/4000 [00:00<?, ?it/s]"
      ]
     },
     "metadata": {},
     "output_type": "display_data"
    },
    {
     "data": {
      "application/vnd.jupyter.widget-view+json": {
       "model_id": "01307e011c39440f8a0c5646727df10a",
       "version_major": 2,
       "version_minor": 0
      },
      "text/plain": [
       "  0%|          | 0/4000 [00:00<?, ?it/s]"
      ]
     },
     "metadata": {},
     "output_type": "display_data"
    },
    {
     "data": {
      "application/vnd.jupyter.widget-view+json": {
       "model_id": "fd9b79f416cc41a29631cc36194a0c00",
       "version_major": 2,
       "version_minor": 0
      },
      "text/plain": [
       "  0%|          | 0/4000 [00:00<?, ?it/s]"
      ]
     },
     "metadata": {},
     "output_type": "display_data"
    },
    {
     "data": {
      "application/vnd.jupyter.widget-view+json": {
       "model_id": "62da13156ff545d4a382dc584b132f11",
       "version_major": 2,
       "version_minor": 0
      },
      "text/plain": [
       "  0%|          | 0/4000 [00:00<?, ?it/s]"
      ]
     },
     "metadata": {},
     "output_type": "display_data"
    },
    {
     "data": {
      "application/vnd.jupyter.widget-view+json": {
       "model_id": "f6537b7d53ab486b86b682aeb84a8e68",
       "version_major": 2,
       "version_minor": 0
      },
      "text/plain": [
       "  0%|          | 0/4000 [00:00<?, ?it/s]"
      ]
     },
     "metadata": {},
     "output_type": "display_data"
    },
    {
     "data": {
      "application/vnd.jupyter.widget-view+json": {
       "model_id": "2ddd818e4c0f49efaa48fa204dedf37e",
       "version_major": 2,
       "version_minor": 0
      },
      "text/plain": [
       "  0%|          | 0/4000 [00:00<?, ?it/s]"
      ]
     },
     "metadata": {},
     "output_type": "display_data"
    },
    {
     "data": {
      "application/vnd.jupyter.widget-view+json": {
       "model_id": "2c1456c2239a4864b39a634663b9d5d4",
       "version_major": 2,
       "version_minor": 0
      },
      "text/plain": [
       "  0%|          | 0/4000 [00:00<?, ?it/s]"
      ]
     },
     "metadata": {},
     "output_type": "display_data"
    },
    {
     "data": {
      "application/vnd.jupyter.widget-view+json": {
       "model_id": "c516d5c3856e4f03b2c5681ed48e39f3",
       "version_major": 2,
       "version_minor": 0
      },
      "text/plain": [
       "  0%|          | 0/4000 [00:00<?, ?it/s]"
      ]
     },
     "metadata": {},
     "output_type": "display_data"
    },
    {
     "data": {
      "application/vnd.jupyter.widget-view+json": {
       "model_id": "e1b75ac5e36644cfb809f8f65b58397f",
       "version_major": 2,
       "version_minor": 0
      },
      "text/plain": [
       "  0%|          | 0/4000 [00:00<?, ?it/s]"
      ]
     },
     "metadata": {},
     "output_type": "display_data"
    },
    {
     "data": {
      "application/vnd.jupyter.widget-view+json": {
       "model_id": "ae3fa3e806a84986923e9db5e8bc63fe",
       "version_major": 2,
       "version_minor": 0
      },
      "text/plain": [
       "  0%|          | 0/4000 [00:00<?, ?it/s]"
      ]
     },
     "metadata": {},
     "output_type": "display_data"
    },
    {
     "data": {
      "application/vnd.jupyter.widget-view+json": {
       "model_id": "7392e473400a4d74a2afb52dc71ce587",
       "version_major": 2,
       "version_minor": 0
      },
      "text/plain": [
       "  0%|          | 0/4000 [00:00<?, ?it/s]"
      ]
     },
     "metadata": {},
     "output_type": "display_data"
    },
    {
     "data": {
      "application/vnd.jupyter.widget-view+json": {
       "model_id": "1f1342d331c44a9cb6b6d312bc3a2d4f",
       "version_major": 2,
       "version_minor": 0
      },
      "text/plain": [
       "  0%|          | 0/4000 [00:00<?, ?it/s]"
      ]
     },
     "metadata": {},
     "output_type": "display_data"
    },
    {
     "data": {
      "application/vnd.jupyter.widget-view+json": {
       "model_id": "a5cab389928646e9823c9ca9238ea99b",
       "version_major": 2,
       "version_minor": 0
      },
      "text/plain": [
       "  0%|          | 0/4000 [00:00<?, ?it/s]"
      ]
     },
     "metadata": {},
     "output_type": "display_data"
    },
    {
     "data": {
      "application/vnd.jupyter.widget-view+json": {
       "model_id": "eb5a2a524e3745e6974822aca5e35bc0",
       "version_major": 2,
       "version_minor": 0
      },
      "text/plain": [
       "  0%|          | 0/4000 [00:00<?, ?it/s]"
      ]
     },
     "metadata": {},
     "output_type": "display_data"
    },
    {
     "data": {
      "application/vnd.jupyter.widget-view+json": {
       "model_id": "e56868a97cc34060a360874d0995356f",
       "version_major": 2,
       "version_minor": 0
      },
      "text/plain": [
       "  0%|          | 0/4000 [00:00<?, ?it/s]"
      ]
     },
     "metadata": {},
     "output_type": "display_data"
    },
    {
     "data": {
      "application/vnd.jupyter.widget-view+json": {
       "model_id": "0ebbd9d35305408195b573476ce02426",
       "version_major": 2,
       "version_minor": 0
      },
      "text/plain": [
       "  0%|          | 0/4000 [00:00<?, ?it/s]"
      ]
     },
     "metadata": {},
     "output_type": "display_data"
    },
    {
     "data": {
      "application/vnd.jupyter.widget-view+json": {
       "model_id": "1f6b11657b6c4d1a9852475745b1c044",
       "version_major": 2,
       "version_minor": 0
      },
      "text/plain": [
       "  0%|          | 0/4000 [00:00<?, ?it/s]"
      ]
     },
     "metadata": {},
     "output_type": "display_data"
    },
    {
     "data": {
      "application/vnd.jupyter.widget-view+json": {
       "model_id": "90c7c356f18548f9ba189dd6c5c7af3c",
       "version_major": 2,
       "version_minor": 0
      },
      "text/plain": [
       "  0%|          | 0/4000 [00:00<?, ?it/s]"
      ]
     },
     "metadata": {},
     "output_type": "display_data"
    },
    {
     "data": {
      "application/vnd.jupyter.widget-view+json": {
       "model_id": "85bb8a7ddbcd4dad8e7c08ba1d0f6c55",
       "version_major": 2,
       "version_minor": 0
      },
      "text/plain": [
       "  0%|          | 0/4000 [00:00<?, ?it/s]"
      ]
     },
     "metadata": {},
     "output_type": "display_data"
    },
    {
     "data": {
      "application/vnd.jupyter.widget-view+json": {
       "model_id": "207e2255f8104e269643239050cd4a0b",
       "version_major": 2,
       "version_minor": 0
      },
      "text/plain": [
       "  0%|          | 0/4000 [00:00<?, ?it/s]"
      ]
     },
     "metadata": {},
     "output_type": "display_data"
    },
    {
     "data": {
      "application/vnd.jupyter.widget-view+json": {
       "model_id": "d1404f6b8be64e4e8170cab312affc9f",
       "version_major": 2,
       "version_minor": 0
      },
      "text/plain": [
       "  0%|          | 0/4000 [00:00<?, ?it/s]"
      ]
     },
     "metadata": {},
     "output_type": "display_data"
    },
    {
     "data": {
      "application/vnd.jupyter.widget-view+json": {
       "model_id": "e465150460be44c78cc6c462445a7889",
       "version_major": 2,
       "version_minor": 0
      },
      "text/plain": [
       "  0%|          | 0/4000 [00:00<?, ?it/s]"
      ]
     },
     "metadata": {},
     "output_type": "display_data"
    },
    {
     "data": {
      "application/vnd.jupyter.widget-view+json": {
       "model_id": "93d1d6eb6bac45d1b20891b0ef67fc55",
       "version_major": 2,
       "version_minor": 0
      },
      "text/plain": [
       "  0%|          | 0/4000 [00:00<?, ?it/s]"
      ]
     },
     "metadata": {},
     "output_type": "display_data"
    },
    {
     "data": {
      "application/vnd.jupyter.widget-view+json": {
       "model_id": "dc2170db1de34da380d2ea97f1fe2ea1",
       "version_major": 2,
       "version_minor": 0
      },
      "text/plain": [
       "  0%|          | 0/4000 [00:00<?, ?it/s]"
      ]
     },
     "metadata": {},
     "output_type": "display_data"
    },
    {
     "data": {
      "application/vnd.jupyter.widget-view+json": {
       "model_id": "61667b52f5694ba8a63d06111ceafac0",
       "version_major": 2,
       "version_minor": 0
      },
      "text/plain": [
       "  0%|          | 0/4000 [00:00<?, ?it/s]"
      ]
     },
     "metadata": {},
     "output_type": "display_data"
    },
    {
     "data": {
      "application/vnd.jupyter.widget-view+json": {
       "model_id": "69ab1b2366434bb080136d57a5746ce2",
       "version_major": 2,
       "version_minor": 0
      },
      "text/plain": [
       "  0%|          | 0/4000 [00:00<?, ?it/s]"
      ]
     },
     "metadata": {},
     "output_type": "display_data"
    },
    {
     "data": {
      "application/vnd.jupyter.widget-view+json": {
       "model_id": "f047d5b18dd541e9a00def543c201285",
       "version_major": 2,
       "version_minor": 0
      },
      "text/plain": [
       "  0%|          | 0/4000 [00:00<?, ?it/s]"
      ]
     },
     "metadata": {},
     "output_type": "display_data"
    },
    {
     "data": {
      "application/vnd.jupyter.widget-view+json": {
       "model_id": "982b932f538441cd8cc5808e93d07d5d",
       "version_major": 2,
       "version_minor": 0
      },
      "text/plain": [
       "  0%|          | 0/4000 [00:00<?, ?it/s]"
      ]
     },
     "metadata": {},
     "output_type": "display_data"
    },
    {
     "data": {
      "application/vnd.jupyter.widget-view+json": {
       "model_id": "9ac63e3d8d6047a6a3441bff5a4b806b",
       "version_major": 2,
       "version_minor": 0
      },
      "text/plain": [
       "  0%|          | 0/4000 [00:00<?, ?it/s]"
      ]
     },
     "metadata": {},
     "output_type": "display_data"
    },
    {
     "data": {
      "application/vnd.jupyter.widget-view+json": {
       "model_id": "b125a8c5d8074f169de0fd09061c5653",
       "version_major": 2,
       "version_minor": 0
      },
      "text/plain": [
       "  0%|          | 0/4000 [00:00<?, ?it/s]"
      ]
     },
     "metadata": {},
     "output_type": "display_data"
    },
    {
     "data": {
      "application/vnd.jupyter.widget-view+json": {
       "model_id": "75384ce2e384465186206f0c158803a5",
       "version_major": 2,
       "version_minor": 0
      },
      "text/plain": [
       "  0%|          | 0/4000 [00:00<?, ?it/s]"
      ]
     },
     "metadata": {},
     "output_type": "display_data"
    },
    {
     "data": {
      "application/vnd.jupyter.widget-view+json": {
       "model_id": "4d00cfe8a6624b4bbab548aeeda4de4f",
       "version_major": 2,
       "version_minor": 0
      },
      "text/plain": [
       "  0%|          | 0/4000 [00:00<?, ?it/s]"
      ]
     },
     "metadata": {},
     "output_type": "display_data"
    },
    {
     "data": {
      "application/vnd.jupyter.widget-view+json": {
       "model_id": "8c2ce06f681e4aa690e5d0c5d394ca02",
       "version_major": 2,
       "version_minor": 0
      },
      "text/plain": [
       "  0%|          | 0/4000 [00:00<?, ?it/s]"
      ]
     },
     "metadata": {},
     "output_type": "display_data"
    },
    {
     "data": {
      "application/vnd.jupyter.widget-view+json": {
       "model_id": "5b360b59492c4115b78cbdef82201be5",
       "version_major": 2,
       "version_minor": 0
      },
      "text/plain": [
       "  0%|          | 0/4000 [00:00<?, ?it/s]"
      ]
     },
     "metadata": {},
     "output_type": "display_data"
    },
    {
     "data": {
      "application/vnd.jupyter.widget-view+json": {
       "model_id": "05d7263544194bd1b07c9aa683522ab5",
       "version_major": 2,
       "version_minor": 0
      },
      "text/plain": [
       "  0%|          | 0/4000 [00:00<?, ?it/s]"
      ]
     },
     "metadata": {},
     "output_type": "display_data"
    },
    {
     "data": {
      "application/vnd.jupyter.widget-view+json": {
       "model_id": "865e87926b0a4c939989aea0bb964a7c",
       "version_major": 2,
       "version_minor": 0
      },
      "text/plain": [
       "  0%|          | 0/4000 [00:00<?, ?it/s]"
      ]
     },
     "metadata": {},
     "output_type": "display_data"
    },
    {
     "data": {
      "application/vnd.jupyter.widget-view+json": {
       "model_id": "cb61b8ca1dfd4bf08b95e1c4403424e8",
       "version_major": 2,
       "version_minor": 0
      },
      "text/plain": [
       "  0%|          | 0/4000 [00:00<?, ?it/s]"
      ]
     },
     "metadata": {},
     "output_type": "display_data"
    },
    {
     "data": {
      "application/vnd.jupyter.widget-view+json": {
       "model_id": "f74b7e95e5aa4fc89585de34fb337b34",
       "version_major": 2,
       "version_minor": 0
      },
      "text/plain": [
       "  0%|          | 0/4000 [00:00<?, ?it/s]"
      ]
     },
     "metadata": {},
     "output_type": "display_data"
    },
    {
     "data": {
      "application/vnd.jupyter.widget-view+json": {
       "model_id": "fb163b07c9af4da0a1e6e33e471d8b75",
       "version_major": 2,
       "version_minor": 0
      },
      "text/plain": [
       "  0%|          | 0/4000 [00:00<?, ?it/s]"
      ]
     },
     "metadata": {},
     "output_type": "display_data"
    },
    {
     "data": {
      "application/vnd.jupyter.widget-view+json": {
       "model_id": "73a549377a644f1d9072196c20835c2e",
       "version_major": 2,
       "version_minor": 0
      },
      "text/plain": [
       "  0%|          | 0/4000 [00:00<?, ?it/s]"
      ]
     },
     "metadata": {},
     "output_type": "display_data"
    },
    {
     "data": {
      "application/vnd.jupyter.widget-view+json": {
       "model_id": "cd4a4ed07d444121bdb84b540ba98b3a",
       "version_major": 2,
       "version_minor": 0
      },
      "text/plain": [
       "  0%|          | 0/4000 [00:00<?, ?it/s]"
      ]
     },
     "metadata": {},
     "output_type": "display_data"
    },
    {
     "data": {
      "application/vnd.jupyter.widget-view+json": {
       "model_id": "f8587ecf0cfc4b27ac260a9cd09cb6bc",
       "version_major": 2,
       "version_minor": 0
      },
      "text/plain": [
       "  0%|          | 0/4000 [00:00<?, ?it/s]"
      ]
     },
     "metadata": {},
     "output_type": "display_data"
    },
    {
     "data": {
      "application/vnd.jupyter.widget-view+json": {
       "model_id": "aa8a7c1e9f7a4199aea28a7988c4c56f",
       "version_major": 2,
       "version_minor": 0
      },
      "text/plain": [
       "  0%|          | 0/4000 [00:00<?, ?it/s]"
      ]
     },
     "metadata": {},
     "output_type": "display_data"
    },
    {
     "data": {
      "application/vnd.jupyter.widget-view+json": {
       "model_id": "e51bf068ed834485b3245ee3bdcaf2ac",
       "version_major": 2,
       "version_minor": 0
      },
      "text/plain": [
       "  0%|          | 0/4000 [00:00<?, ?it/s]"
      ]
     },
     "metadata": {},
     "output_type": "display_data"
    },
    {
     "data": {
      "application/vnd.jupyter.widget-view+json": {
       "model_id": "eabbbdd8b5c54177a656dbc7c46eac0b",
       "version_major": 2,
       "version_minor": 0
      },
      "text/plain": [
       "  0%|          | 0/4000 [00:00<?, ?it/s]"
      ]
     },
     "metadata": {},
     "output_type": "display_data"
    },
    {
     "data": {
      "application/vnd.jupyter.widget-view+json": {
       "model_id": "d77f1b34d17e454485d372bfb732dd2b",
       "version_major": 2,
       "version_minor": 0
      },
      "text/plain": [
       "  0%|          | 0/4000 [00:00<?, ?it/s]"
      ]
     },
     "metadata": {},
     "output_type": "display_data"
    },
    {
     "data": {
      "application/vnd.jupyter.widget-view+json": {
       "model_id": "51c5fe68e6444e049a2dafc8b6e33190",
       "version_major": 2,
       "version_minor": 0
      },
      "text/plain": [
       "  0%|          | 0/4000 [00:00<?, ?it/s]"
      ]
     },
     "metadata": {},
     "output_type": "display_data"
    },
    {
     "data": {
      "application/vnd.jupyter.widget-view+json": {
       "model_id": "b8ccc2d3a7bc472da9dc76b7d569589f",
       "version_major": 2,
       "version_minor": 0
      },
      "text/plain": [
       "  0%|          | 0/4000 [00:00<?, ?it/s]"
      ]
     },
     "metadata": {},
     "output_type": "display_data"
    },
    {
     "data": {
      "application/vnd.jupyter.widget-view+json": {
       "model_id": "4b0c8c1a0aa744ba988661c67e402464",
       "version_major": 2,
       "version_minor": 0
      },
      "text/plain": [
       "  0%|          | 0/4000 [00:00<?, ?it/s]"
      ]
     },
     "metadata": {},
     "output_type": "display_data"
    },
    {
     "data": {
      "application/vnd.jupyter.widget-view+json": {
       "model_id": "cf2ecb88b0134ff6bb2f585bf65af211",
       "version_major": 2,
       "version_minor": 0
      },
      "text/plain": [
       "  0%|          | 0/4000 [00:00<?, ?it/s]"
      ]
     },
     "metadata": {},
     "output_type": "display_data"
    },
    {
     "data": {
      "application/vnd.jupyter.widget-view+json": {
       "model_id": "7f8cb4a14d24475c88d61285a444fdec",
       "version_major": 2,
       "version_minor": 0
      },
      "text/plain": [
       "  0%|          | 0/4000 [00:00<?, ?it/s]"
      ]
     },
     "metadata": {},
     "output_type": "display_data"
    },
    {
     "data": {
      "application/vnd.jupyter.widget-view+json": {
       "model_id": "08bea75decc24d80b6d79f579c276fef",
       "version_major": 2,
       "version_minor": 0
      },
      "text/plain": [
       "  0%|          | 0/4000 [00:00<?, ?it/s]"
      ]
     },
     "metadata": {},
     "output_type": "display_data"
    },
    {
     "data": {
      "application/vnd.jupyter.widget-view+json": {
       "model_id": "e93b7641981c4144abfebbf7a779acd3",
       "version_major": 2,
       "version_minor": 0
      },
      "text/plain": [
       "  0%|          | 0/4000 [00:00<?, ?it/s]"
      ]
     },
     "metadata": {},
     "output_type": "display_data"
    },
    {
     "data": {
      "application/vnd.jupyter.widget-view+json": {
       "model_id": "7ee75939e47f4ba6a6e755758a2abd08",
       "version_major": 2,
       "version_minor": 0
      },
      "text/plain": [
       "  0%|          | 0/4000 [00:00<?, ?it/s]"
      ]
     },
     "metadata": {},
     "output_type": "display_data"
    },
    {
     "data": {
      "application/vnd.jupyter.widget-view+json": {
       "model_id": "760b02f51f6946a082465f5058cce5c7",
       "version_major": 2,
       "version_minor": 0
      },
      "text/plain": [
       "  0%|          | 0/4000 [00:00<?, ?it/s]"
      ]
     },
     "metadata": {},
     "output_type": "display_data"
    },
    {
     "data": {
      "application/vnd.jupyter.widget-view+json": {
       "model_id": "e6554ecbe4a24aa9b2c988ed897138e0",
       "version_major": 2,
       "version_minor": 0
      },
      "text/plain": [
       "  0%|          | 0/4000 [00:00<?, ?it/s]"
      ]
     },
     "metadata": {},
     "output_type": "display_data"
    },
    {
     "data": {
      "application/vnd.jupyter.widget-view+json": {
       "model_id": "37a573f049b44338ad3322a294ee6212",
       "version_major": 2,
       "version_minor": 0
      },
      "text/plain": [
       "  0%|          | 0/4000 [00:00<?, ?it/s]"
      ]
     },
     "metadata": {},
     "output_type": "display_data"
    },
    {
     "data": {
      "application/vnd.jupyter.widget-view+json": {
       "model_id": "1354df8e95fb40e6aa1fc9b7e05d914e",
       "version_major": 2,
       "version_minor": 0
      },
      "text/plain": [
       "  0%|          | 0/4000 [00:00<?, ?it/s]"
      ]
     },
     "metadata": {},
     "output_type": "display_data"
    },
    {
     "data": {
      "application/vnd.jupyter.widget-view+json": {
       "model_id": "ff789de0f30c466291a8d8009c693b43",
       "version_major": 2,
       "version_minor": 0
      },
      "text/plain": [
       "  0%|          | 0/4000 [00:00<?, ?it/s]"
      ]
     },
     "metadata": {},
     "output_type": "display_data"
    },
    {
     "data": {
      "application/vnd.jupyter.widget-view+json": {
       "model_id": "e9589e45e5734b24be7e96b30334ac1a",
       "version_major": 2,
       "version_minor": 0
      },
      "text/plain": [
       "  0%|          | 0/4000 [00:00<?, ?it/s]"
      ]
     },
     "metadata": {},
     "output_type": "display_data"
    },
    {
     "data": {
      "application/vnd.jupyter.widget-view+json": {
       "model_id": "fe0823ddb6174b75a166fe3c5409144a",
       "version_major": 2,
       "version_minor": 0
      },
      "text/plain": [
       "  0%|          | 0/4000 [00:00<?, ?it/s]"
      ]
     },
     "metadata": {},
     "output_type": "display_data"
    },
    {
     "data": {
      "application/vnd.jupyter.widget-view+json": {
       "model_id": "7390102764df4d318f1154bd8e324655",
       "version_major": 2,
       "version_minor": 0
      },
      "text/plain": [
       "  0%|          | 0/4000 [00:00<?, ?it/s]"
      ]
     },
     "metadata": {},
     "output_type": "display_data"
    },
    {
     "data": {
      "application/vnd.jupyter.widget-view+json": {
       "model_id": "0133fd57d82742f7bf58a186a5ac2e91",
       "version_major": 2,
       "version_minor": 0
      },
      "text/plain": [
       "  0%|          | 0/4000 [00:00<?, ?it/s]"
      ]
     },
     "metadata": {},
     "output_type": "display_data"
    },
    {
     "data": {
      "application/vnd.jupyter.widget-view+json": {
       "model_id": "d3b40418551748eb89c6545a2051ffcf",
       "version_major": 2,
       "version_minor": 0
      },
      "text/plain": [
       "  0%|          | 0/4000 [00:00<?, ?it/s]"
      ]
     },
     "metadata": {},
     "output_type": "display_data"
    },
    {
     "data": {
      "application/vnd.jupyter.widget-view+json": {
       "model_id": "11d23b55653f4ec388007310fe7ccb77",
       "version_major": 2,
       "version_minor": 0
      },
      "text/plain": [
       "  0%|          | 0/4000 [00:00<?, ?it/s]"
      ]
     },
     "metadata": {},
     "output_type": "display_data"
    },
    {
     "data": {
      "application/vnd.jupyter.widget-view+json": {
       "model_id": "172fb09e747a4f2eab4d5e55abf7f83b",
       "version_major": 2,
       "version_minor": 0
      },
      "text/plain": [
       "  0%|          | 0/4000 [00:00<?, ?it/s]"
      ]
     },
     "metadata": {},
     "output_type": "display_data"
    },
    {
     "data": {
      "application/vnd.jupyter.widget-view+json": {
       "model_id": "39e05bd46e9c447598274a9a033bd2b6",
       "version_major": 2,
       "version_minor": 0
      },
      "text/plain": [
       "  0%|          | 0/4000 [00:00<?, ?it/s]"
      ]
     },
     "metadata": {},
     "output_type": "display_data"
    },
    {
     "data": {
      "application/vnd.jupyter.widget-view+json": {
       "model_id": "f68425cf7e7d437185576f9083ebea40",
       "version_major": 2,
       "version_minor": 0
      },
      "text/plain": [
       "  0%|          | 0/4000 [00:00<?, ?it/s]"
      ]
     },
     "metadata": {},
     "output_type": "display_data"
    },
    {
     "data": {
      "application/vnd.jupyter.widget-view+json": {
       "model_id": "44f998789d9f464b9684635ea214b3b7",
       "version_major": 2,
       "version_minor": 0
      },
      "text/plain": [
       "  0%|          | 0/4000 [00:00<?, ?it/s]"
      ]
     },
     "metadata": {},
     "output_type": "display_data"
    },
    {
     "data": {
      "application/vnd.jupyter.widget-view+json": {
       "model_id": "6c73bbcb846a40b9ad49c0e25fe1b077",
       "version_major": 2,
       "version_minor": 0
      },
      "text/plain": [
       "  0%|          | 0/4000 [00:00<?, ?it/s]"
      ]
     },
     "metadata": {},
     "output_type": "display_data"
    },
    {
     "data": {
      "application/vnd.jupyter.widget-view+json": {
       "model_id": "5b607eb82a5d4d55b1a492c0cc650723",
       "version_major": 2,
       "version_minor": 0
      },
      "text/plain": [
       "  0%|          | 0/4000 [00:00<?, ?it/s]"
      ]
     },
     "metadata": {},
     "output_type": "display_data"
    },
    {
     "data": {
      "application/vnd.jupyter.widget-view+json": {
       "model_id": "1147daeb4a1d480faa1d8a348eb0528b",
       "version_major": 2,
       "version_minor": 0
      },
      "text/plain": [
       "  0%|          | 0/4000 [00:00<?, ?it/s]"
      ]
     },
     "metadata": {},
     "output_type": "display_data"
    },
    {
     "data": {
      "application/vnd.jupyter.widget-view+json": {
       "model_id": "d35f9e23b24d4837aca00bb03c5a9f1c",
       "version_major": 2,
       "version_minor": 0
      },
      "text/plain": [
       "  0%|          | 0/4000 [00:00<?, ?it/s]"
      ]
     },
     "metadata": {},
     "output_type": "display_data"
    },
    {
     "data": {
      "application/vnd.jupyter.widget-view+json": {
       "model_id": "39e29868ffcd407e9cbc8cf0389df3b1",
       "version_major": 2,
       "version_minor": 0
      },
      "text/plain": [
       "  0%|          | 0/4000 [00:00<?, ?it/s]"
      ]
     },
     "metadata": {},
     "output_type": "display_data"
    },
    {
     "data": {
      "application/vnd.jupyter.widget-view+json": {
       "model_id": "55846517874249c686ae512869abdae0",
       "version_major": 2,
       "version_minor": 0
      },
      "text/plain": [
       "  0%|          | 0/4000 [00:00<?, ?it/s]"
      ]
     },
     "metadata": {},
     "output_type": "display_data"
    },
    {
     "data": {
      "application/vnd.jupyter.widget-view+json": {
       "model_id": "81a36800fe7a4577ae17910d3d73a28f",
       "version_major": 2,
       "version_minor": 0
      },
      "text/plain": [
       "  0%|          | 0/4000 [00:00<?, ?it/s]"
      ]
     },
     "metadata": {},
     "output_type": "display_data"
    },
    {
     "data": {
      "application/vnd.jupyter.widget-view+json": {
       "model_id": "dcff51fa68af427eafc232d10a716143",
       "version_major": 2,
       "version_minor": 0
      },
      "text/plain": [
       "  0%|          | 0/4000 [00:00<?, ?it/s]"
      ]
     },
     "metadata": {},
     "output_type": "display_data"
    },
    {
     "data": {
      "application/vnd.jupyter.widget-view+json": {
       "model_id": "8131c3879d054c7a8861f57ad5f1191b",
       "version_major": 2,
       "version_minor": 0
      },
      "text/plain": [
       "  0%|          | 0/4000 [00:00<?, ?it/s]"
      ]
     },
     "metadata": {},
     "output_type": "display_data"
    },
    {
     "data": {
      "application/vnd.jupyter.widget-view+json": {
       "model_id": "26cf51e1eb4743069951dd4abbceb651",
       "version_major": 2,
       "version_minor": 0
      },
      "text/plain": [
       "  0%|          | 0/4000 [00:00<?, ?it/s]"
      ]
     },
     "metadata": {},
     "output_type": "display_data"
    },
    {
     "data": {
      "application/vnd.jupyter.widget-view+json": {
       "model_id": "3dd8f9bc950441f0b5211d71093ccd62",
       "version_major": 2,
       "version_minor": 0
      },
      "text/plain": [
       "  0%|          | 0/4000 [00:00<?, ?it/s]"
      ]
     },
     "metadata": {},
     "output_type": "display_data"
    },
    {
     "data": {
      "application/vnd.jupyter.widget-view+json": {
       "model_id": "c78050bf9d804a59baa5482c7269875e",
       "version_major": 2,
       "version_minor": 0
      },
      "text/plain": [
       "  0%|          | 0/4000 [00:00<?, ?it/s]"
      ]
     },
     "metadata": {},
     "output_type": "display_data"
    },
    {
     "data": {
      "application/vnd.jupyter.widget-view+json": {
       "model_id": "b2ce78b0d1ae4a4cb8387b32ca5f8d63",
       "version_major": 2,
       "version_minor": 0
      },
      "text/plain": [
       "  0%|          | 0/4000 [00:00<?, ?it/s]"
      ]
     },
     "metadata": {},
     "output_type": "display_data"
    },
    {
     "data": {
      "application/vnd.jupyter.widget-view+json": {
       "model_id": "5ddd0d7c4a324f338acfae43ce6e6d68",
       "version_major": 2,
       "version_minor": 0
      },
      "text/plain": [
       "  0%|          | 0/4000 [00:00<?, ?it/s]"
      ]
     },
     "metadata": {},
     "output_type": "display_data"
    },
    {
     "data": {
      "application/vnd.jupyter.widget-view+json": {
       "model_id": "3c1dd3525507453788b50062a7bcf056",
       "version_major": 2,
       "version_minor": 0
      },
      "text/plain": [
       "  0%|          | 0/4000 [00:00<?, ?it/s]"
      ]
     },
     "metadata": {},
     "output_type": "display_data"
    },
    {
     "data": {
      "application/vnd.jupyter.widget-view+json": {
       "model_id": "77dc01672dfe41ed9107540c32cf25f0",
       "version_major": 2,
       "version_minor": 0
      },
      "text/plain": [
       "  0%|          | 0/4000 [00:00<?, ?it/s]"
      ]
     },
     "metadata": {},
     "output_type": "display_data"
    },
    {
     "data": {
      "application/vnd.jupyter.widget-view+json": {
       "model_id": "becbb9021b3e4d9ea4e76e9b4740b57f",
       "version_major": 2,
       "version_minor": 0
      },
      "text/plain": [
       "  0%|          | 0/4000 [00:00<?, ?it/s]"
      ]
     },
     "metadata": {},
     "output_type": "display_data"
    },
    {
     "data": {
      "application/vnd.jupyter.widget-view+json": {
       "model_id": "c0e838795b6a4f6eb456428090829035",
       "version_major": 2,
       "version_minor": 0
      },
      "text/plain": [
       "  0%|          | 0/4000 [00:00<?, ?it/s]"
      ]
     },
     "metadata": {},
     "output_type": "display_data"
    },
    {
     "data": {
      "application/vnd.jupyter.widget-view+json": {
       "model_id": "c902d8bee06e4a048a737cde51ae8822",
       "version_major": 2,
       "version_minor": 0
      },
      "text/plain": [
       "  0%|          | 0/4000 [00:00<?, ?it/s]"
      ]
     },
     "metadata": {},
     "output_type": "display_data"
    },
    {
     "data": {
      "application/vnd.jupyter.widget-view+json": {
       "model_id": "0abc58dd2fd14015a1196b1665a66b76",
       "version_major": 2,
       "version_minor": 0
      },
      "text/plain": [
       "  0%|          | 0/4000 [00:00<?, ?it/s]"
      ]
     },
     "metadata": {},
     "output_type": "display_data"
    },
    {
     "data": {
      "application/vnd.jupyter.widget-view+json": {
       "model_id": "75b35c2602d04855aa899c5cbf5fb1a5",
       "version_major": 2,
       "version_minor": 0
      },
      "text/plain": [
       "  0%|          | 0/4000 [00:00<?, ?it/s]"
      ]
     },
     "metadata": {},
     "output_type": "display_data"
    },
    {
     "data": {
      "application/vnd.jupyter.widget-view+json": {
       "model_id": "90c1d9d4552847ffb813bbd7fcdfe6bd",
       "version_major": 2,
       "version_minor": 0
      },
      "text/plain": [
       "  0%|          | 0/4000 [00:00<?, ?it/s]"
      ]
     },
     "metadata": {},
     "output_type": "display_data"
    },
    {
     "data": {
      "application/vnd.jupyter.widget-view+json": {
       "model_id": "4deb01cabf744b8fb8e23a88392cfdec",
       "version_major": 2,
       "version_minor": 0
      },
      "text/plain": [
       "  0%|          | 0/4000 [00:00<?, ?it/s]"
      ]
     },
     "metadata": {},
     "output_type": "display_data"
    },
    {
     "data": {
      "application/vnd.jupyter.widget-view+json": {
       "model_id": "34478d4e028647048e2f15a386160043",
       "version_major": 2,
       "version_minor": 0
      },
      "text/plain": [
       "  0%|          | 0/4000 [00:00<?, ?it/s]"
      ]
     },
     "metadata": {},
     "output_type": "display_data"
    },
    {
     "data": {
      "application/vnd.jupyter.widget-view+json": {
       "model_id": "44eea6c51feb4c208fec8ff6fd1485ed",
       "version_major": 2,
       "version_minor": 0
      },
      "text/plain": [
       "  0%|          | 0/4000 [00:00<?, ?it/s]"
      ]
     },
     "metadata": {},
     "output_type": "display_data"
    },
    {
     "data": {
      "application/vnd.jupyter.widget-view+json": {
       "model_id": "1ac04de8704d4f3e8dd99d9209d28c95",
       "version_major": 2,
       "version_minor": 0
      },
      "text/plain": [
       "  0%|          | 0/4000 [00:00<?, ?it/s]"
      ]
     },
     "metadata": {},
     "output_type": "display_data"
    },
    {
     "data": {
      "application/vnd.jupyter.widget-view+json": {
       "model_id": "063c8f32f7304c6dbd8adfc49a94009f",
       "version_major": 2,
       "version_minor": 0
      },
      "text/plain": [
       "  0%|          | 0/4000 [00:00<?, ?it/s]"
      ]
     },
     "metadata": {},
     "output_type": "display_data"
    },
    {
     "data": {
      "application/vnd.jupyter.widget-view+json": {
       "model_id": "c7db35688ddc47538d058fb4829600aa",
       "version_major": 2,
       "version_minor": 0
      },
      "text/plain": [
       "  0%|          | 0/4000 [00:00<?, ?it/s]"
      ]
     },
     "metadata": {},
     "output_type": "display_data"
    },
    {
     "data": {
      "application/vnd.jupyter.widget-view+json": {
       "model_id": "c1810706a5554fd886a11c805ccc05dc",
       "version_major": 2,
       "version_minor": 0
      },
      "text/plain": [
       "  0%|          | 0/4000 [00:00<?, ?it/s]"
      ]
     },
     "metadata": {},
     "output_type": "display_data"
    },
    {
     "data": {
      "application/vnd.jupyter.widget-view+json": {
       "model_id": "24ec073f1a8e402998b9b2333e3206e7",
       "version_major": 2,
       "version_minor": 0
      },
      "text/plain": [
       "  0%|          | 0/4000 [00:00<?, ?it/s]"
      ]
     },
     "metadata": {},
     "output_type": "display_data"
    },
    {
     "data": {
      "application/vnd.jupyter.widget-view+json": {
       "model_id": "58c3a5d7a7974fff9cdc12e19ddc98b8",
       "version_major": 2,
       "version_minor": 0
      },
      "text/plain": [
       "  0%|          | 0/4000 [00:00<?, ?it/s]"
      ]
     },
     "metadata": {},
     "output_type": "display_data"
    },
    {
     "data": {
      "application/vnd.jupyter.widget-view+json": {
       "model_id": "f032cc95cfaf498487d2a6c3f5c6ece1",
       "version_major": 2,
       "version_minor": 0
      },
      "text/plain": [
       "  0%|          | 0/4000 [00:00<?, ?it/s]"
      ]
     },
     "metadata": {},
     "output_type": "display_data"
    },
    {
     "data": {
      "application/vnd.jupyter.widget-view+json": {
       "model_id": "a393b424e5814feb9eb79ebfeb263864",
       "version_major": 2,
       "version_minor": 0
      },
      "text/plain": [
       "  0%|          | 0/4000 [00:00<?, ?it/s]"
      ]
     },
     "metadata": {},
     "output_type": "display_data"
    },
    {
     "data": {
      "application/vnd.jupyter.widget-view+json": {
       "model_id": "1fa4d0d9e83a4b96ac2bdebf2b6584eb",
       "version_major": 2,
       "version_minor": 0
      },
      "text/plain": [
       "  0%|          | 0/4000 [00:00<?, ?it/s]"
      ]
     },
     "metadata": {},
     "output_type": "display_data"
    },
    {
     "data": {
      "application/vnd.jupyter.widget-view+json": {
       "model_id": "3decc92cd519432c8e22a34d3b557660",
       "version_major": 2,
       "version_minor": 0
      },
      "text/plain": [
       "  0%|          | 0/4000 [00:00<?, ?it/s]"
      ]
     },
     "metadata": {},
     "output_type": "display_data"
    },
    {
     "data": {
      "application/vnd.jupyter.widget-view+json": {
       "model_id": "0f074dfade0841a9b7f9b630f08bd9e6",
       "version_major": 2,
       "version_minor": 0
      },
      "text/plain": [
       "  0%|          | 0/4000 [00:00<?, ?it/s]"
      ]
     },
     "metadata": {},
     "output_type": "display_data"
    },
    {
     "data": {
      "application/vnd.jupyter.widget-view+json": {
       "model_id": "0e4eb988998348d8a7ca03ae3301e4a9",
       "version_major": 2,
       "version_minor": 0
      },
      "text/plain": [
       "  0%|          | 0/4000 [00:00<?, ?it/s]"
      ]
     },
     "metadata": {},
     "output_type": "display_data"
    },
    {
     "data": {
      "application/vnd.jupyter.widget-view+json": {
       "model_id": "2dc4bc20445e46fc9f1e0c0e41d558ed",
       "version_major": 2,
       "version_minor": 0
      },
      "text/plain": [
       "  0%|          | 0/4000 [00:00<?, ?it/s]"
      ]
     },
     "metadata": {},
     "output_type": "display_data"
    },
    {
     "data": {
      "application/vnd.jupyter.widget-view+json": {
       "model_id": "54a8409d2a864089aa82d97464776364",
       "version_major": 2,
       "version_minor": 0
      },
      "text/plain": [
       "  0%|          | 0/4000 [00:00<?, ?it/s]"
      ]
     },
     "metadata": {},
     "output_type": "display_data"
    },
    {
     "data": {
      "application/vnd.jupyter.widget-view+json": {
       "model_id": "2819179053f1465b98f7babd1763e4c2",
       "version_major": 2,
       "version_minor": 0
      },
      "text/plain": [
       "  0%|          | 0/4000 [00:00<?, ?it/s]"
      ]
     },
     "metadata": {},
     "output_type": "display_data"
    },
    {
     "data": {
      "application/vnd.jupyter.widget-view+json": {
       "model_id": "d232282310f14f1e8a04ad7f4755e2e4",
       "version_major": 2,
       "version_minor": 0
      },
      "text/plain": [
       "  0%|          | 0/4000 [00:00<?, ?it/s]"
      ]
     },
     "metadata": {},
     "output_type": "display_data"
    },
    {
     "data": {
      "application/vnd.jupyter.widget-view+json": {
       "model_id": "fa9a53b5378d4708b0cfce19d91eed6c",
       "version_major": 2,
       "version_minor": 0
      },
      "text/plain": [
       "  0%|          | 0/4000 [00:00<?, ?it/s]"
      ]
     },
     "metadata": {},
     "output_type": "display_data"
    },
    {
     "data": {
      "application/vnd.jupyter.widget-view+json": {
       "model_id": "af12d0a530df48d0a6ed2f92f3352a74",
       "version_major": 2,
       "version_minor": 0
      },
      "text/plain": [
       "  0%|          | 0/4000 [00:00<?, ?it/s]"
      ]
     },
     "metadata": {},
     "output_type": "display_data"
    },
    {
     "data": {
      "application/vnd.jupyter.widget-view+json": {
       "model_id": "434bd03f6ff4422cb3db29d5171790ed",
       "version_major": 2,
       "version_minor": 0
      },
      "text/plain": [
       "  0%|          | 0/4000 [00:00<?, ?it/s]"
      ]
     },
     "metadata": {},
     "output_type": "display_data"
    },
    {
     "data": {
      "application/vnd.jupyter.widget-view+json": {
       "model_id": "05b6e897230749b38263aca5415bd7c1",
       "version_major": 2,
       "version_minor": 0
      },
      "text/plain": [
       "  0%|          | 0/4000 [00:00<?, ?it/s]"
      ]
     },
     "metadata": {},
     "output_type": "display_data"
    },
    {
     "data": {
      "application/vnd.jupyter.widget-view+json": {
       "model_id": "8d85c43fc04248ce954b2e617bfdb990",
       "version_major": 2,
       "version_minor": 0
      },
      "text/plain": [
       "  0%|          | 0/4000 [00:00<?, ?it/s]"
      ]
     },
     "metadata": {},
     "output_type": "display_data"
    },
    {
     "data": {
      "application/vnd.jupyter.widget-view+json": {
       "model_id": "9a861cc6e03b4c11b527ac333981fa80",
       "version_major": 2,
       "version_minor": 0
      },
      "text/plain": [
       "  0%|          | 0/4000 [00:00<?, ?it/s]"
      ]
     },
     "metadata": {},
     "output_type": "display_data"
    },
    {
     "data": {
      "application/vnd.jupyter.widget-view+json": {
       "model_id": "9fa54fee60194730852fc496fac8c9f3",
       "version_major": 2,
       "version_minor": 0
      },
      "text/plain": [
       "  0%|          | 0/4000 [00:00<?, ?it/s]"
      ]
     },
     "metadata": {},
     "output_type": "display_data"
    },
    {
     "data": {
      "application/vnd.jupyter.widget-view+json": {
       "model_id": "1600ebab9ebf4081949ebea46c49189c",
       "version_major": 2,
       "version_minor": 0
      },
      "text/plain": [
       "  0%|          | 0/4000 [00:00<?, ?it/s]"
      ]
     },
     "metadata": {},
     "output_type": "display_data"
    },
    {
     "data": {
      "application/vnd.jupyter.widget-view+json": {
       "model_id": "cd4d8975eef54c26958cfd0c3a9ed4be",
       "version_major": 2,
       "version_minor": 0
      },
      "text/plain": [
       "  0%|          | 0/4000 [00:00<?, ?it/s]"
      ]
     },
     "metadata": {},
     "output_type": "display_data"
    },
    {
     "data": {
      "application/vnd.jupyter.widget-view+json": {
       "model_id": "4d4c21d87cb048a9a57ba5375fb32fcd",
       "version_major": 2,
       "version_minor": 0
      },
      "text/plain": [
       "  0%|          | 0/4000 [00:00<?, ?it/s]"
      ]
     },
     "metadata": {},
     "output_type": "display_data"
    },
    {
     "data": {
      "application/vnd.jupyter.widget-view+json": {
       "model_id": "30505af2d7b24b4eaca4f2f23fb8f3e5",
       "version_major": 2,
       "version_minor": 0
      },
      "text/plain": [
       "  0%|          | 0/4000 [00:00<?, ?it/s]"
      ]
     },
     "metadata": {},
     "output_type": "display_data"
    },
    {
     "data": {
      "application/vnd.jupyter.widget-view+json": {
       "model_id": "6f25313022c04e18b17818e91c2127e4",
       "version_major": 2,
       "version_minor": 0
      },
      "text/plain": [
       "  0%|          | 0/4000 [00:00<?, ?it/s]"
      ]
     },
     "metadata": {},
     "output_type": "display_data"
    },
    {
     "data": {
      "application/vnd.jupyter.widget-view+json": {
       "model_id": "36c8700cf96e4607a214d19981f0c349",
       "version_major": 2,
       "version_minor": 0
      },
      "text/plain": [
       "  0%|          | 0/4000 [00:00<?, ?it/s]"
      ]
     },
     "metadata": {},
     "output_type": "display_data"
    },
    {
     "data": {
      "application/vnd.jupyter.widget-view+json": {
       "model_id": "9bb2251df3c54aa3be23f7eaae1992cb",
       "version_major": 2,
       "version_minor": 0
      },
      "text/plain": [
       "  0%|          | 0/4000 [00:00<?, ?it/s]"
      ]
     },
     "metadata": {},
     "output_type": "display_data"
    },
    {
     "data": {
      "application/vnd.jupyter.widget-view+json": {
       "model_id": "a49363f0e8944152bf617ea6d8985993",
       "version_major": 2,
       "version_minor": 0
      },
      "text/plain": [
       "  0%|          | 0/4000 [00:00<?, ?it/s]"
      ]
     },
     "metadata": {},
     "output_type": "display_data"
    },
    {
     "data": {
      "application/vnd.jupyter.widget-view+json": {
       "model_id": "a3964f48dc9b4871b9a579cd31a7e394",
       "version_major": 2,
       "version_minor": 0
      },
      "text/plain": [
       "  0%|          | 0/4000 [00:00<?, ?it/s]"
      ]
     },
     "metadata": {},
     "output_type": "display_data"
    },
    {
     "data": {
      "application/vnd.jupyter.widget-view+json": {
       "model_id": "3a9eaec7014e4c669b8346dd2b89d727",
       "version_major": 2,
       "version_minor": 0
      },
      "text/plain": [
       "  0%|          | 0/4000 [00:00<?, ?it/s]"
      ]
     },
     "metadata": {},
     "output_type": "display_data"
    },
    {
     "data": {
      "application/vnd.jupyter.widget-view+json": {
       "model_id": "3eb6cac596594fc6bb6be83056efc000",
       "version_major": 2,
       "version_minor": 0
      },
      "text/plain": [
       "  0%|          | 0/4000 [00:00<?, ?it/s]"
      ]
     },
     "metadata": {},
     "output_type": "display_data"
    },
    {
     "data": {
      "application/vnd.jupyter.widget-view+json": {
       "model_id": "a2eb05dca1c74378820e0e2457ba006a",
       "version_major": 2,
       "version_minor": 0
      },
      "text/plain": [
       "  0%|          | 0/4000 [00:00<?, ?it/s]"
      ]
     },
     "metadata": {},
     "output_type": "display_data"
    },
    {
     "data": {
      "application/vnd.jupyter.widget-view+json": {
       "model_id": "20a38f7ec4e64249930f3eeddcd2169c",
       "version_major": 2,
       "version_minor": 0
      },
      "text/plain": [
       "  0%|          | 0/4000 [00:00<?, ?it/s]"
      ]
     },
     "metadata": {},
     "output_type": "display_data"
    },
    {
     "data": {
      "application/vnd.jupyter.widget-view+json": {
       "model_id": "39217661404c4a7b98f6bad0c6f01ad0",
       "version_major": 2,
       "version_minor": 0
      },
      "text/plain": [
       "  0%|          | 0/4000 [00:00<?, ?it/s]"
      ]
     },
     "metadata": {},
     "output_type": "display_data"
    },
    {
     "data": {
      "application/vnd.jupyter.widget-view+json": {
       "model_id": "3b23c09577a74520a901f8fa814d9fa1",
       "version_major": 2,
       "version_minor": 0
      },
      "text/plain": [
       "  0%|          | 0/4000 [00:00<?, ?it/s]"
      ]
     },
     "metadata": {},
     "output_type": "display_data"
    },
    {
     "data": {
      "application/vnd.jupyter.widget-view+json": {
       "model_id": "5469cf924d0c4b509897ade28d140a88",
       "version_major": 2,
       "version_minor": 0
      },
      "text/plain": [
       "  0%|          | 0/4000 [00:00<?, ?it/s]"
      ]
     },
     "metadata": {},
     "output_type": "display_data"
    },
    {
     "data": {
      "application/vnd.jupyter.widget-view+json": {
       "model_id": "d9d80f4675184e2cb66e48f68cd0ed8f",
       "version_major": 2,
       "version_minor": 0
      },
      "text/plain": [
       "  0%|          | 0/4000 [00:00<?, ?it/s]"
      ]
     },
     "metadata": {},
     "output_type": "display_data"
    },
    {
     "data": {
      "application/vnd.jupyter.widget-view+json": {
       "model_id": "859a43d96199471d82374f5b90c97edc",
       "version_major": 2,
       "version_minor": 0
      },
      "text/plain": [
       "  0%|          | 0/4000 [00:00<?, ?it/s]"
      ]
     },
     "metadata": {},
     "output_type": "display_data"
    },
    {
     "data": {
      "application/vnd.jupyter.widget-view+json": {
       "model_id": "b411ede74e554d59b5edcd55a5441f8e",
       "version_major": 2,
       "version_minor": 0
      },
      "text/plain": [
       "  0%|          | 0/4000 [00:00<?, ?it/s]"
      ]
     },
     "metadata": {},
     "output_type": "display_data"
    },
    {
     "data": {
      "application/vnd.jupyter.widget-view+json": {
       "model_id": "150b8dcd3e994d949a4a246a8948c04d",
       "version_major": 2,
       "version_minor": 0
      },
      "text/plain": [
       "  0%|          | 0/4000 [00:00<?, ?it/s]"
      ]
     },
     "metadata": {},
     "output_type": "display_data"
    },
    {
     "data": {
      "application/vnd.jupyter.widget-view+json": {
       "model_id": "18e47032e23c46bf946368b6fc792423",
       "version_major": 2,
       "version_minor": 0
      },
      "text/plain": [
       "  0%|          | 0/4000 [00:00<?, ?it/s]"
      ]
     },
     "metadata": {},
     "output_type": "display_data"
    },
    {
     "data": {
      "application/vnd.jupyter.widget-view+json": {
       "model_id": "c5b2d114a8914aff8c27d8aa6d96094c",
       "version_major": 2,
       "version_minor": 0
      },
      "text/plain": [
       "  0%|          | 0/4000 [00:00<?, ?it/s]"
      ]
     },
     "metadata": {},
     "output_type": "display_data"
    },
    {
     "data": {
      "application/vnd.jupyter.widget-view+json": {
       "model_id": "009a0eec7d32405abe535e7c520347c4",
       "version_major": 2,
       "version_minor": 0
      },
      "text/plain": [
       "  0%|          | 0/4000 [00:00<?, ?it/s]"
      ]
     },
     "metadata": {},
     "output_type": "display_data"
    },
    {
     "data": {
      "application/vnd.jupyter.widget-view+json": {
       "model_id": "cd2ac1c4f9b7466d8d2deadbb54de21c",
       "version_major": 2,
       "version_minor": 0
      },
      "text/plain": [
       "  0%|          | 0/4000 [00:00<?, ?it/s]"
      ]
     },
     "metadata": {},
     "output_type": "display_data"
    },
    {
     "data": {
      "application/vnd.jupyter.widget-view+json": {
       "model_id": "d034583145044d7c93821ee15fa8fda4",
       "version_major": 2,
       "version_minor": 0
      },
      "text/plain": [
       "  0%|          | 0/4000 [00:00<?, ?it/s]"
      ]
     },
     "metadata": {},
     "output_type": "display_data"
    },
    {
     "data": {
      "application/vnd.jupyter.widget-view+json": {
       "model_id": "e8186bcd51254791a1a2150eacce8f5d",
       "version_major": 2,
       "version_minor": 0
      },
      "text/plain": [
       "  0%|          | 0/4000 [00:00<?, ?it/s]"
      ]
     },
     "metadata": {},
     "output_type": "display_data"
    },
    {
     "data": {
      "application/vnd.jupyter.widget-view+json": {
       "model_id": "0b613ac9086949f1bf41b281f124a8a1",
       "version_major": 2,
       "version_minor": 0
      },
      "text/plain": [
       "  0%|          | 0/4000 [00:00<?, ?it/s]"
      ]
     },
     "metadata": {},
     "output_type": "display_data"
    },
    {
     "data": {
      "application/vnd.jupyter.widget-view+json": {
       "model_id": "a6791fc670c843729d700032dc426547",
       "version_major": 2,
       "version_minor": 0
      },
      "text/plain": [
       "  0%|          | 0/4000 [00:00<?, ?it/s]"
      ]
     },
     "metadata": {},
     "output_type": "display_data"
    },
    {
     "data": {
      "application/vnd.jupyter.widget-view+json": {
       "model_id": "ca894d63cd034c88a9293846c925b199",
       "version_major": 2,
       "version_minor": 0
      },
      "text/plain": [
       "  0%|          | 0/4000 [00:00<?, ?it/s]"
      ]
     },
     "metadata": {},
     "output_type": "display_data"
    },
    {
     "data": {
      "application/vnd.jupyter.widget-view+json": {
       "model_id": "931644c2dcd04dec993b9dc51be6c3f8",
       "version_major": 2,
       "version_minor": 0
      },
      "text/plain": [
       "  0%|          | 0/4000 [00:00<?, ?it/s]"
      ]
     },
     "metadata": {},
     "output_type": "display_data"
    },
    {
     "data": {
      "application/vnd.jupyter.widget-view+json": {
       "model_id": "d6c54978e682432aaec3ed5029306134",
       "version_major": 2,
       "version_minor": 0
      },
      "text/plain": [
       "  0%|          | 0/4000 [00:00<?, ?it/s]"
      ]
     },
     "metadata": {},
     "output_type": "display_data"
    },
    {
     "data": {
      "application/vnd.jupyter.widget-view+json": {
       "model_id": "3803cff8ad0a4e028f6e4cc70baea555",
       "version_major": 2,
       "version_minor": 0
      },
      "text/plain": [
       "  0%|          | 0/4000 [00:00<?, ?it/s]"
      ]
     },
     "metadata": {},
     "output_type": "display_data"
    },
    {
     "data": {
      "application/vnd.jupyter.widget-view+json": {
       "model_id": "85d8385f6c124c46ae632cf4e6f1440f",
       "version_major": 2,
       "version_minor": 0
      },
      "text/plain": [
       "  0%|          | 0/4000 [00:00<?, ?it/s]"
      ]
     },
     "metadata": {},
     "output_type": "display_data"
    },
    {
     "data": {
      "application/vnd.jupyter.widget-view+json": {
       "model_id": "a306aa23c8904afab3517d94e0ecea8b",
       "version_major": 2,
       "version_minor": 0
      },
      "text/plain": [
       "  0%|          | 0/4000 [00:00<?, ?it/s]"
      ]
     },
     "metadata": {},
     "output_type": "display_data"
    },
    {
     "data": {
      "application/vnd.jupyter.widget-view+json": {
       "model_id": "901dd3f6bfff4d709a036c237d4438b8",
       "version_major": 2,
       "version_minor": 0
      },
      "text/plain": [
       "  0%|          | 0/4000 [00:00<?, ?it/s]"
      ]
     },
     "metadata": {},
     "output_type": "display_data"
    },
    {
     "data": {
      "application/vnd.jupyter.widget-view+json": {
       "model_id": "99870ec8786c4f35babeccda3645729a",
       "version_major": 2,
       "version_minor": 0
      },
      "text/plain": [
       "  0%|          | 0/4000 [00:00<?, ?it/s]"
      ]
     },
     "metadata": {},
     "output_type": "display_data"
    },
    {
     "data": {
      "application/vnd.jupyter.widget-view+json": {
       "model_id": "4393959739904dc39a91b57b60bddd5e",
       "version_major": 2,
       "version_minor": 0
      },
      "text/plain": [
       "  0%|          | 0/4000 [00:00<?, ?it/s]"
      ]
     },
     "metadata": {},
     "output_type": "display_data"
    },
    {
     "data": {
      "application/vnd.jupyter.widget-view+json": {
       "model_id": "cc509deb7459419b99ca4c1c57bae95b",
       "version_major": 2,
       "version_minor": 0
      },
      "text/plain": [
       "  0%|          | 0/4000 [00:00<?, ?it/s]"
      ]
     },
     "metadata": {},
     "output_type": "display_data"
    },
    {
     "data": {
      "application/vnd.jupyter.widget-view+json": {
       "model_id": "9986cf90bd834a0dbb354aa5df29c9e6",
       "version_major": 2,
       "version_minor": 0
      },
      "text/plain": [
       "  0%|          | 0/4000 [00:00<?, ?it/s]"
      ]
     },
     "metadata": {},
     "output_type": "display_data"
    },
    {
     "data": {
      "application/vnd.jupyter.widget-view+json": {
       "model_id": "296b47de583947ccae08bb1d69aabb1c",
       "version_major": 2,
       "version_minor": 0
      },
      "text/plain": [
       "  0%|          | 0/4000 [00:00<?, ?it/s]"
      ]
     },
     "metadata": {},
     "output_type": "display_data"
    },
    {
     "data": {
      "application/vnd.jupyter.widget-view+json": {
       "model_id": "9072cc400a8b49a2b11435158d9a260b",
       "version_major": 2,
       "version_minor": 0
      },
      "text/plain": [
       "  0%|          | 0/4000 [00:00<?, ?it/s]"
      ]
     },
     "metadata": {},
     "output_type": "display_data"
    },
    {
     "data": {
      "application/vnd.jupyter.widget-view+json": {
       "model_id": "76f7e5591dd54e319d59d6e11eb0bcc1",
       "version_major": 2,
       "version_minor": 0
      },
      "text/plain": [
       "  0%|          | 0/4000 [00:00<?, ?it/s]"
      ]
     },
     "metadata": {},
     "output_type": "display_data"
    },
    {
     "data": {
      "application/vnd.jupyter.widget-view+json": {
       "model_id": "75abb39a3b4a40a88335a37076de3d65",
       "version_major": 2,
       "version_minor": 0
      },
      "text/plain": [
       "  0%|          | 0/4000 [00:00<?, ?it/s]"
      ]
     },
     "metadata": {},
     "output_type": "display_data"
    },
    {
     "data": {
      "application/vnd.jupyter.widget-view+json": {
       "model_id": "b43cbd7335f44496845b3fb807c219d5",
       "version_major": 2,
       "version_minor": 0
      },
      "text/plain": [
       "  0%|          | 0/4000 [00:00<?, ?it/s]"
      ]
     },
     "metadata": {},
     "output_type": "display_data"
    },
    {
     "data": {
      "application/vnd.jupyter.widget-view+json": {
       "model_id": "cd40c29c106c402e8f557f48799d7139",
       "version_major": 2,
       "version_minor": 0
      },
      "text/plain": [
       "  0%|          | 0/4000 [00:00<?, ?it/s]"
      ]
     },
     "metadata": {},
     "output_type": "display_data"
    },
    {
     "data": {
      "application/vnd.jupyter.widget-view+json": {
       "model_id": "943b75cf944f44309c43bb7b385406fc",
       "version_major": 2,
       "version_minor": 0
      },
      "text/plain": [
       "  0%|          | 0/4000 [00:00<?, ?it/s]"
      ]
     },
     "metadata": {},
     "output_type": "display_data"
    },
    {
     "data": {
      "application/vnd.jupyter.widget-view+json": {
       "model_id": "931fbe66bf014ff683a8d754092c1805",
       "version_major": 2,
       "version_minor": 0
      },
      "text/plain": [
       "  0%|          | 0/4000 [00:00<?, ?it/s]"
      ]
     },
     "metadata": {},
     "output_type": "display_data"
    },
    {
     "data": {
      "application/vnd.jupyter.widget-view+json": {
       "model_id": "d72f45838d6a474fb63505980ace97b6",
       "version_major": 2,
       "version_minor": 0
      },
      "text/plain": [
       "  0%|          | 0/4000 [00:00<?, ?it/s]"
      ]
     },
     "metadata": {},
     "output_type": "display_data"
    },
    {
     "data": {
      "application/vnd.jupyter.widget-view+json": {
       "model_id": "c5c76d9f792844218f88634ab4add2c0",
       "version_major": 2,
       "version_minor": 0
      },
      "text/plain": [
       "  0%|          | 0/4000 [00:00<?, ?it/s]"
      ]
     },
     "metadata": {},
     "output_type": "display_data"
    },
    {
     "data": {
      "application/vnd.jupyter.widget-view+json": {
       "model_id": "7322c342b55642e395a891d642c63946",
       "version_major": 2,
       "version_minor": 0
      },
      "text/plain": [
       "  0%|          | 0/4000 [00:00<?, ?it/s]"
      ]
     },
     "metadata": {},
     "output_type": "display_data"
    },
    {
     "data": {
      "application/vnd.jupyter.widget-view+json": {
       "model_id": "77294fb2a66849a2ae05de1599ca3651",
       "version_major": 2,
       "version_minor": 0
      },
      "text/plain": [
       "  0%|          | 0/4000 [00:00<?, ?it/s]"
      ]
     },
     "metadata": {},
     "output_type": "display_data"
    },
    {
     "data": {
      "application/vnd.jupyter.widget-view+json": {
       "model_id": "25d611e42d48448f8c100e1510f4e393",
       "version_major": 2,
       "version_minor": 0
      },
      "text/plain": [
       "  0%|          | 0/4000 [00:00<?, ?it/s]"
      ]
     },
     "metadata": {},
     "output_type": "display_data"
    },
    {
     "data": {
      "application/vnd.jupyter.widget-view+json": {
       "model_id": "7c8c55b4478642dda02f27f27fa4619e",
       "version_major": 2,
       "version_minor": 0
      },
      "text/plain": [
       "  0%|          | 0/4000 [00:00<?, ?it/s]"
      ]
     },
     "metadata": {},
     "output_type": "display_data"
    },
    {
     "data": {
      "application/vnd.jupyter.widget-view+json": {
       "model_id": "cdf1ab6aa51242608170c4ee6815769e",
       "version_major": 2,
       "version_minor": 0
      },
      "text/plain": [
       "  0%|          | 0/4000 [00:00<?, ?it/s]"
      ]
     },
     "metadata": {},
     "output_type": "display_data"
    },
    {
     "data": {
      "application/vnd.jupyter.widget-view+json": {
       "model_id": "da02d2625a1a497c9610d2f35ceea634",
       "version_major": 2,
       "version_minor": 0
      },
      "text/plain": [
       "  0%|          | 0/4000 [00:00<?, ?it/s]"
      ]
     },
     "metadata": {},
     "output_type": "display_data"
    },
    {
     "data": {
      "application/vnd.jupyter.widget-view+json": {
       "model_id": "e306fbe3e6bf4f34a28af67f504c44c4",
       "version_major": 2,
       "version_minor": 0
      },
      "text/plain": [
       "  0%|          | 0/4000 [00:00<?, ?it/s]"
      ]
     },
     "metadata": {},
     "output_type": "display_data"
    },
    {
     "data": {
      "application/vnd.jupyter.widget-view+json": {
       "model_id": "625f028d4f694103918b742ff89c035d",
       "version_major": 2,
       "version_minor": 0
      },
      "text/plain": [
       "  0%|          | 0/4000 [00:00<?, ?it/s]"
      ]
     },
     "metadata": {},
     "output_type": "display_data"
    },
    {
     "data": {
      "application/vnd.jupyter.widget-view+json": {
       "model_id": "a5a278649636486497415b3a3c3143d8",
       "version_major": 2,
       "version_minor": 0
      },
      "text/plain": [
       "  0%|          | 0/4000 [00:00<?, ?it/s]"
      ]
     },
     "metadata": {},
     "output_type": "display_data"
    },
    {
     "data": {
      "application/vnd.jupyter.widget-view+json": {
       "model_id": "44e10527051645a4aeda3c2317d5e43b",
       "version_major": 2,
       "version_minor": 0
      },
      "text/plain": [
       "  0%|          | 0/4000 [00:00<?, ?it/s]"
      ]
     },
     "metadata": {},
     "output_type": "display_data"
    },
    {
     "data": {
      "application/vnd.jupyter.widget-view+json": {
       "model_id": "c13fa35a2bca4390842733fd1085eb01",
       "version_major": 2,
       "version_minor": 0
      },
      "text/plain": [
       "  0%|          | 0/4000 [00:00<?, ?it/s]"
      ]
     },
     "metadata": {},
     "output_type": "display_data"
    },
    {
     "data": {
      "application/vnd.jupyter.widget-view+json": {
       "model_id": "8f9c049962b34ee4b5cf3d26e8cceda3",
       "version_major": 2,
       "version_minor": 0
      },
      "text/plain": [
       "  0%|          | 0/4000 [00:00<?, ?it/s]"
      ]
     },
     "metadata": {},
     "output_type": "display_data"
    },
    {
     "data": {
      "application/vnd.jupyter.widget-view+json": {
       "model_id": "5dca3a1dd7ec459989ac48cae07347da",
       "version_major": 2,
       "version_minor": 0
      },
      "text/plain": [
       "  0%|          | 0/4000 [00:00<?, ?it/s]"
      ]
     },
     "metadata": {},
     "output_type": "display_data"
    },
    {
     "data": {
      "application/vnd.jupyter.widget-view+json": {
       "model_id": "753462bcaa3c46e59a0b11b68f815a8d",
       "version_major": 2,
       "version_minor": 0
      },
      "text/plain": [
       "  0%|          | 0/4000 [00:00<?, ?it/s]"
      ]
     },
     "metadata": {},
     "output_type": "display_data"
    },
    {
     "data": {
      "application/vnd.jupyter.widget-view+json": {
       "model_id": "8561f5de7de04036856676c383992d19",
       "version_major": 2,
       "version_minor": 0
      },
      "text/plain": [
       "  0%|          | 0/4000 [00:00<?, ?it/s]"
      ]
     },
     "metadata": {},
     "output_type": "display_data"
    },
    {
     "data": {
      "application/vnd.jupyter.widget-view+json": {
       "model_id": "99a64e890eac4bf092c15d2795308c5b",
       "version_major": 2,
       "version_minor": 0
      },
      "text/plain": [
       "  0%|          | 0/4000 [00:00<?, ?it/s]"
      ]
     },
     "metadata": {},
     "output_type": "display_data"
    },
    {
     "data": {
      "application/vnd.jupyter.widget-view+json": {
       "model_id": "6014b43dc6ee45fbb8aadf0d845673ce",
       "version_major": 2,
       "version_minor": 0
      },
      "text/plain": [
       "  0%|          | 0/4000 [00:00<?, ?it/s]"
      ]
     },
     "metadata": {},
     "output_type": "display_data"
    },
    {
     "data": {
      "application/vnd.jupyter.widget-view+json": {
       "model_id": "4807a7b31f9841efa910fa7a1f4c137e",
       "version_major": 2,
       "version_minor": 0
      },
      "text/plain": [
       "  0%|          | 0/4000 [00:00<?, ?it/s]"
      ]
     },
     "metadata": {},
     "output_type": "display_data"
    },
    {
     "data": {
      "application/vnd.jupyter.widget-view+json": {
       "model_id": "141a81be2ca04bb083023c4003c60739",
       "version_major": 2,
       "version_minor": 0
      },
      "text/plain": [
       "  0%|          | 0/4000 [00:00<?, ?it/s]"
      ]
     },
     "metadata": {},
     "output_type": "display_data"
    },
    {
     "data": {
      "application/vnd.jupyter.widget-view+json": {
       "model_id": "09a610334eb64722913a78e64b50f977",
       "version_major": 2,
       "version_minor": 0
      },
      "text/plain": [
       "  0%|          | 0/4000 [00:00<?, ?it/s]"
      ]
     },
     "metadata": {},
     "output_type": "display_data"
    },
    {
     "data": {
      "application/vnd.jupyter.widget-view+json": {
       "model_id": "a3cf7c12d6ae49bd8520bb99c183dbeb",
       "version_major": 2,
       "version_minor": 0
      },
      "text/plain": [
       "  0%|          | 0/4000 [00:00<?, ?it/s]"
      ]
     },
     "metadata": {},
     "output_type": "display_data"
    },
    {
     "data": {
      "application/vnd.jupyter.widget-view+json": {
       "model_id": "e8e82b4ab4204ef9beb3b7be7a6882e6",
       "version_major": 2,
       "version_minor": 0
      },
      "text/plain": [
       "  0%|          | 0/4000 [00:00<?, ?it/s]"
      ]
     },
     "metadata": {},
     "output_type": "display_data"
    },
    {
     "data": {
      "application/vnd.jupyter.widget-view+json": {
       "model_id": "2af7e527ad3048dd8b48b70faa7f8dd1",
       "version_major": 2,
       "version_minor": 0
      },
      "text/plain": [
       "  0%|          | 0/4000 [00:00<?, ?it/s]"
      ]
     },
     "metadata": {},
     "output_type": "display_data"
    },
    {
     "data": {
      "application/vnd.jupyter.widget-view+json": {
       "model_id": "72b0fa705fb9476bbd1002071f65e1be",
       "version_major": 2,
       "version_minor": 0
      },
      "text/plain": [
       "  0%|          | 0/4000 [00:00<?, ?it/s]"
      ]
     },
     "metadata": {},
     "output_type": "display_data"
    },
    {
     "data": {
      "application/vnd.jupyter.widget-view+json": {
       "model_id": "bd65d47cd01f4bf99915d99979eeb447",
       "version_major": 2,
       "version_minor": 0
      },
      "text/plain": [
       "  0%|          | 0/4000 [00:00<?, ?it/s]"
      ]
     },
     "metadata": {},
     "output_type": "display_data"
    },
    {
     "data": {
      "application/vnd.jupyter.widget-view+json": {
       "model_id": "b47724deb63c4ef7b558f1cf865ce0f6",
       "version_major": 2,
       "version_minor": 0
      },
      "text/plain": [
       "  0%|          | 0/4000 [00:00<?, ?it/s]"
      ]
     },
     "metadata": {},
     "output_type": "display_data"
    },
    {
     "data": {
      "application/vnd.jupyter.widget-view+json": {
       "model_id": "fdb051939b8443808f68fa2840b9c55e",
       "version_major": 2,
       "version_minor": 0
      },
      "text/plain": [
       "  0%|          | 0/4000 [00:00<?, ?it/s]"
      ]
     },
     "metadata": {},
     "output_type": "display_data"
    },
    {
     "data": {
      "application/vnd.jupyter.widget-view+json": {
       "model_id": "a8c7cc9d65c342549323ff1532c00559",
       "version_major": 2,
       "version_minor": 0
      },
      "text/plain": [
       "  0%|          | 0/4000 [00:00<?, ?it/s]"
      ]
     },
     "metadata": {},
     "output_type": "display_data"
    },
    {
     "data": {
      "application/vnd.jupyter.widget-view+json": {
       "model_id": "13f95d7234bf4b80ba1f4f3199564b89",
       "version_major": 2,
       "version_minor": 0
      },
      "text/plain": [
       "  0%|          | 0/4000 [00:00<?, ?it/s]"
      ]
     },
     "metadata": {},
     "output_type": "display_data"
    },
    {
     "data": {
      "application/vnd.jupyter.widget-view+json": {
       "model_id": "f23e73aff0f94ab382234e11fa88da5f",
       "version_major": 2,
       "version_minor": 0
      },
      "text/plain": [
       "  0%|          | 0/4000 [00:00<?, ?it/s]"
      ]
     },
     "metadata": {},
     "output_type": "display_data"
    },
    {
     "data": {
      "application/vnd.jupyter.widget-view+json": {
       "model_id": "10b751158a30473e85b978a73c696e1d",
       "version_major": 2,
       "version_minor": 0
      },
      "text/plain": [
       "  0%|          | 0/4000 [00:00<?, ?it/s]"
      ]
     },
     "metadata": {},
     "output_type": "display_data"
    },
    {
     "data": {
      "application/vnd.jupyter.widget-view+json": {
       "model_id": "23c7bd43d0864e6dac83cdef13fac6f9",
       "version_major": 2,
       "version_minor": 0
      },
      "text/plain": [
       "  0%|          | 0/4000 [00:00<?, ?it/s]"
      ]
     },
     "metadata": {},
     "output_type": "display_data"
    },
    {
     "data": {
      "application/vnd.jupyter.widget-view+json": {
       "model_id": "14e4395b4ce74e018b30a2bb725c5c5d",
       "version_major": 2,
       "version_minor": 0
      },
      "text/plain": [
       "  0%|          | 0/4000 [00:00<?, ?it/s]"
      ]
     },
     "metadata": {},
     "output_type": "display_data"
    },
    {
     "data": {
      "application/vnd.jupyter.widget-view+json": {
       "model_id": "21641495f96d42909b5760de10f23bae",
       "version_major": 2,
       "version_minor": 0
      },
      "text/plain": [
       "  0%|          | 0/4000 [00:00<?, ?it/s]"
      ]
     },
     "metadata": {},
     "output_type": "display_data"
    },
    {
     "data": {
      "application/vnd.jupyter.widget-view+json": {
       "model_id": "3f8ff709569446748c22a654029a22a7",
       "version_major": 2,
       "version_minor": 0
      },
      "text/plain": [
       "  0%|          | 0/4000 [00:00<?, ?it/s]"
      ]
     },
     "metadata": {},
     "output_type": "display_data"
    },
    {
     "data": {
      "application/vnd.jupyter.widget-view+json": {
       "model_id": "6acc6daff50445b588b53e921f79a779",
       "version_major": 2,
       "version_minor": 0
      },
      "text/plain": [
       "  0%|          | 0/4000 [00:00<?, ?it/s]"
      ]
     },
     "metadata": {},
     "output_type": "display_data"
    },
    {
     "data": {
      "application/vnd.jupyter.widget-view+json": {
       "model_id": "23ee588988424cfebbf45bd06d162458",
       "version_major": 2,
       "version_minor": 0
      },
      "text/plain": [
       "  0%|          | 0/4000 [00:00<?, ?it/s]"
      ]
     },
     "metadata": {},
     "output_type": "display_data"
    },
    {
     "data": {
      "application/vnd.jupyter.widget-view+json": {
       "model_id": "bbfb0febf61643cc82ed5e322e72528c",
       "version_major": 2,
       "version_minor": 0
      },
      "text/plain": [
       "  0%|          | 0/4000 [00:00<?, ?it/s]"
      ]
     },
     "metadata": {},
     "output_type": "display_data"
    },
    {
     "data": {
      "application/vnd.jupyter.widget-view+json": {
       "model_id": "6f9d44f3457a4d5685055007a7ba8840",
       "version_major": 2,
       "version_minor": 0
      },
      "text/plain": [
       "  0%|          | 0/4000 [00:00<?, ?it/s]"
      ]
     },
     "metadata": {},
     "output_type": "display_data"
    },
    {
     "data": {
      "application/vnd.jupyter.widget-view+json": {
       "model_id": "8ce2f3f4fea74c2e9407f78bbf51ee8b",
       "version_major": 2,
       "version_minor": 0
      },
      "text/plain": [
       "  0%|          | 0/4000 [00:00<?, ?it/s]"
      ]
     },
     "metadata": {},
     "output_type": "display_data"
    },
    {
     "data": {
      "application/vnd.jupyter.widget-view+json": {
       "model_id": "e28d4403f27447ee80572386b38c923a",
       "version_major": 2,
       "version_minor": 0
      },
      "text/plain": [
       "  0%|          | 0/4000 [00:00<?, ?it/s]"
      ]
     },
     "metadata": {},
     "output_type": "display_data"
    },
    {
     "data": {
      "application/vnd.jupyter.widget-view+json": {
       "model_id": "e3dcb6351af44fd5938e30a2bee606ae",
       "version_major": 2,
       "version_minor": 0
      },
      "text/plain": [
       "  0%|          | 0/4000 [00:00<?, ?it/s]"
      ]
     },
     "metadata": {},
     "output_type": "display_data"
    },
    {
     "data": {
      "application/vnd.jupyter.widget-view+json": {
       "model_id": "b25c66144b50412685f9bd00cf58b3e8",
       "version_major": 2,
       "version_minor": 0
      },
      "text/plain": [
       "  0%|          | 0/4000 [00:00<?, ?it/s]"
      ]
     },
     "metadata": {},
     "output_type": "display_data"
    },
    {
     "data": {
      "application/vnd.jupyter.widget-view+json": {
       "model_id": "d208cc5761b9499d8c660de768808608",
       "version_major": 2,
       "version_minor": 0
      },
      "text/plain": [
       "  0%|          | 0/4000 [00:00<?, ?it/s]"
      ]
     },
     "metadata": {},
     "output_type": "display_data"
    },
    {
     "data": {
      "application/vnd.jupyter.widget-view+json": {
       "model_id": "90040811537d48a6984da8973c1b9033",
       "version_major": 2,
       "version_minor": 0
      },
      "text/plain": [
       "  0%|          | 0/4000 [00:00<?, ?it/s]"
      ]
     },
     "metadata": {},
     "output_type": "display_data"
    },
    {
     "data": {
      "application/vnd.jupyter.widget-view+json": {
       "model_id": "2d9cc63b485b4417bff7272132bf7eae",
       "version_major": 2,
       "version_minor": 0
      },
      "text/plain": [
       "  0%|          | 0/4000 [00:00<?, ?it/s]"
      ]
     },
     "metadata": {},
     "output_type": "display_data"
    },
    {
     "data": {
      "application/vnd.jupyter.widget-view+json": {
       "model_id": "e8a710b63f2e4f768aadff31afbf5626",
       "version_major": 2,
       "version_minor": 0
      },
      "text/plain": [
       "  0%|          | 0/4000 [00:00<?, ?it/s]"
      ]
     },
     "metadata": {},
     "output_type": "display_data"
    },
    {
     "data": {
      "application/vnd.jupyter.widget-view+json": {
       "model_id": "09e6bbfc473b41299669b1eb38c6ae8d",
       "version_major": 2,
       "version_minor": 0
      },
      "text/plain": [
       "  0%|          | 0/4000 [00:00<?, ?it/s]"
      ]
     },
     "metadata": {},
     "output_type": "display_data"
    },
    {
     "data": {
      "application/vnd.jupyter.widget-view+json": {
       "model_id": "4b64e3749e1a4df498b826807274806f",
       "version_major": 2,
       "version_minor": 0
      },
      "text/plain": [
       "  0%|          | 0/4000 [00:00<?, ?it/s]"
      ]
     },
     "metadata": {},
     "output_type": "display_data"
    },
    {
     "data": {
      "application/vnd.jupyter.widget-view+json": {
       "model_id": "0e48bf29774d40f1b54c84a65e97073c",
       "version_major": 2,
       "version_minor": 0
      },
      "text/plain": [
       "  0%|          | 0/4000 [00:00<?, ?it/s]"
      ]
     },
     "metadata": {},
     "output_type": "display_data"
    },
    {
     "data": {
      "application/vnd.jupyter.widget-view+json": {
       "model_id": "92f19a8ac4d64c10891d21f0ec322bd0",
       "version_major": 2,
       "version_minor": 0
      },
      "text/plain": [
       "  0%|          | 0/4000 [00:00<?, ?it/s]"
      ]
     },
     "metadata": {},
     "output_type": "display_data"
    },
    {
     "data": {
      "application/vnd.jupyter.widget-view+json": {
       "model_id": "406727b97bf442869588525f25622905",
       "version_major": 2,
       "version_minor": 0
      },
      "text/plain": [
       "  0%|          | 0/4000 [00:00<?, ?it/s]"
      ]
     },
     "metadata": {},
     "output_type": "display_data"
    },
    {
     "data": {
      "application/vnd.jupyter.widget-view+json": {
       "model_id": "f42d62480b6b4be1bdf46baad4adeefb",
       "version_major": 2,
       "version_minor": 0
      },
      "text/plain": [
       "  0%|          | 0/4000 [00:00<?, ?it/s]"
      ]
     },
     "metadata": {},
     "output_type": "display_data"
    },
    {
     "data": {
      "application/vnd.jupyter.widget-view+json": {
       "model_id": "84888e59f4554c6387eb71fb4a38b608",
       "version_major": 2,
       "version_minor": 0
      },
      "text/plain": [
       "  0%|          | 0/4000 [00:00<?, ?it/s]"
      ]
     },
     "metadata": {},
     "output_type": "display_data"
    },
    {
     "data": {
      "application/vnd.jupyter.widget-view+json": {
       "model_id": "9e1ba64a0edf4f3ca29b230113b1de3e",
       "version_major": 2,
       "version_minor": 0
      },
      "text/plain": [
       "  0%|          | 0/4000 [00:00<?, ?it/s]"
      ]
     },
     "metadata": {},
     "output_type": "display_data"
    },
    {
     "data": {
      "application/vnd.jupyter.widget-view+json": {
       "model_id": "4b9e529558f7454aa0cd0e6e3d03ae89",
       "version_major": 2,
       "version_minor": 0
      },
      "text/plain": [
       "  0%|          | 0/4000 [00:00<?, ?it/s]"
      ]
     },
     "metadata": {},
     "output_type": "display_data"
    },
    {
     "data": {
      "application/vnd.jupyter.widget-view+json": {
       "model_id": "ca49952c4562449b909e53267c3d5027",
       "version_major": 2,
       "version_minor": 0
      },
      "text/plain": [
       "  0%|          | 0/4000 [00:00<?, ?it/s]"
      ]
     },
     "metadata": {},
     "output_type": "display_data"
    },
    {
     "data": {
      "application/vnd.jupyter.widget-view+json": {
       "model_id": "9b08f259af1f463aabbefb63fee97cf4",
       "version_major": 2,
       "version_minor": 0
      },
      "text/plain": [
       "  0%|          | 0/4000 [00:00<?, ?it/s]"
      ]
     },
     "metadata": {},
     "output_type": "display_data"
    },
    {
     "data": {
      "application/vnd.jupyter.widget-view+json": {
       "model_id": "25081b38ecf246e3b0ad3080c4c3cbaa",
       "version_major": 2,
       "version_minor": 0
      },
      "text/plain": [
       "  0%|          | 0/4000 [00:00<?, ?it/s]"
      ]
     },
     "metadata": {},
     "output_type": "display_data"
    },
    {
     "data": {
      "application/vnd.jupyter.widget-view+json": {
       "model_id": "6bd6a47e3c0c4b2daff128338556ce24",
       "version_major": 2,
       "version_minor": 0
      },
      "text/plain": [
       "  0%|          | 0/4000 [00:00<?, ?it/s]"
      ]
     },
     "metadata": {},
     "output_type": "display_data"
    },
    {
     "data": {
      "application/vnd.jupyter.widget-view+json": {
       "model_id": "5f611adb768e4e3a9c4ea7b502fcfaf9",
       "version_major": 2,
       "version_minor": 0
      },
      "text/plain": [
       "  0%|          | 0/4000 [00:00<?, ?it/s]"
      ]
     },
     "metadata": {},
     "output_type": "display_data"
    },
    {
     "data": {
      "application/vnd.jupyter.widget-view+json": {
       "model_id": "75d5a911047d4822b23045e919cc40a6",
       "version_major": 2,
       "version_minor": 0
      },
      "text/plain": [
       "  0%|          | 0/4000 [00:00<?, ?it/s]"
      ]
     },
     "metadata": {},
     "output_type": "display_data"
    },
    {
     "data": {
      "application/vnd.jupyter.widget-view+json": {
       "model_id": "c6b81e4e99804a0b9b2e98cfec675419",
       "version_major": 2,
       "version_minor": 0
      },
      "text/plain": [
       "  0%|          | 0/4000 [00:00<?, ?it/s]"
      ]
     },
     "metadata": {},
     "output_type": "display_data"
    },
    {
     "data": {
      "application/vnd.jupyter.widget-view+json": {
       "model_id": "10f52a1483044862ad012cef604ffdd1",
       "version_major": 2,
       "version_minor": 0
      },
      "text/plain": [
       "  0%|          | 0/4000 [00:00<?, ?it/s]"
      ]
     },
     "metadata": {},
     "output_type": "display_data"
    },
    {
     "data": {
      "application/vnd.jupyter.widget-view+json": {
       "model_id": "f4a9753d46da499fb805b562fde6000b",
       "version_major": 2,
       "version_minor": 0
      },
      "text/plain": [
       "  0%|          | 0/4000 [00:00<?, ?it/s]"
      ]
     },
     "metadata": {},
     "output_type": "display_data"
    },
    {
     "data": {
      "application/vnd.jupyter.widget-view+json": {
       "model_id": "408913da951e404babfa2aa43a29e79e",
       "version_major": 2,
       "version_minor": 0
      },
      "text/plain": [
       "  0%|          | 0/4000 [00:00<?, ?it/s]"
      ]
     },
     "metadata": {},
     "output_type": "display_data"
    },
    {
     "data": {
      "application/vnd.jupyter.widget-view+json": {
       "model_id": "b64226089645458da74a63e3c51244b4",
       "version_major": 2,
       "version_minor": 0
      },
      "text/plain": [
       "  0%|          | 0/4000 [00:00<?, ?it/s]"
      ]
     },
     "metadata": {},
     "output_type": "display_data"
    },
    {
     "data": {
      "application/vnd.jupyter.widget-view+json": {
       "model_id": "86982e9c7da349ba95932280e7bffa0b",
       "version_major": 2,
       "version_minor": 0
      },
      "text/plain": [
       "  0%|          | 0/4000 [00:00<?, ?it/s]"
      ]
     },
     "metadata": {},
     "output_type": "display_data"
    },
    {
     "data": {
      "application/vnd.jupyter.widget-view+json": {
       "model_id": "e2bc4f333bc94204b075128f72c34460",
       "version_major": 2,
       "version_minor": 0
      },
      "text/plain": [
       "  0%|          | 0/4000 [00:00<?, ?it/s]"
      ]
     },
     "metadata": {},
     "output_type": "display_data"
    },
    {
     "data": {
      "application/vnd.jupyter.widget-view+json": {
       "model_id": "4caee7a2339c478d9d965cc4b903179b",
       "version_major": 2,
       "version_minor": 0
      },
      "text/plain": [
       "  0%|          | 0/4000 [00:00<?, ?it/s]"
      ]
     },
     "metadata": {},
     "output_type": "display_data"
    },
    {
     "data": {
      "application/vnd.jupyter.widget-view+json": {
       "model_id": "33326286546b44ee89b9166102629ca7",
       "version_major": 2,
       "version_minor": 0
      },
      "text/plain": [
       "  0%|          | 0/4000 [00:00<?, ?it/s]"
      ]
     },
     "metadata": {},
     "output_type": "display_data"
    },
    {
     "data": {
      "application/vnd.jupyter.widget-view+json": {
       "model_id": "0f4ab82d236d499f96f8ab448d485d6c",
       "version_major": 2,
       "version_minor": 0
      },
      "text/plain": [
       "  0%|          | 0/4000 [00:00<?, ?it/s]"
      ]
     },
     "metadata": {},
     "output_type": "display_data"
    },
    {
     "data": {
      "application/vnd.jupyter.widget-view+json": {
       "model_id": "636d321e232f45dea3f305b051e7995d",
       "version_major": 2,
       "version_minor": 0
      },
      "text/plain": [
       "  0%|          | 0/4000 [00:00<?, ?it/s]"
      ]
     },
     "metadata": {},
     "output_type": "display_data"
    }
   ],
   "source": [
    "np.random.seed(42)\n",
    "random.seed(42)\n",
    "tf.random.set_seed(42)\n",
    "\n",
    "n = 3\n",
    "d = 2**n\n",
    "rank = 7\n",
    "\n",
    "prior_fidelity2 = np.zeros((len(N_list), num_reps))\n",
    "noPrior_fidelity2 = np.zeros((len(N_list), num_reps))\n",
    "\n",
    "for rep in tqdm(range(num_reps)):\n",
    "    X, _, _ = generate_ginibre(d, d)\n",
    "    U = generate_unitary(X) # Random unitary part\n",
    "    kraus_target = KrausMap(U, 0.5, d, rank)\n",
    "    \n",
    "    inputs, _ = generate_pauli_circuits(n = n, \n",
    "                                        circuit_target=None, \n",
    "                                        N = None, \n",
    "                                        trace=False)\n",
    "    \n",
    "    states = kraus_target.apply_map(inputs[0])\n",
    "    targets = measurement(states, U_basis = inputs[1])\n",
    "    \n",
    "    for i, N in enumerate(N_list):\n",
    "        kraus_model = KrausMap(\n",
    "                               U=U, \n",
    "                               c=0.9, \n",
    "                               d=d, \n",
    "                               rank=rank,\n",
    "                              )\n",
    "\n",
    "        model = ModelQuantumMap(\n",
    "                                q_map = kraus_model,\n",
    "                                loss = probs_loss,\n",
    "                                optimizer = tf.optimizers.Adam(learning_rate=0.01),\n",
    "                                )\n",
    "\n",
    "        model.train(inputs = [inputs[0][:N], inputs[1][:N]],\n",
    "                    targets = targets[:N],\n",
    "                    inputs_val = None,\n",
    "                    targets_val = None,\n",
    "                    num_iter = 4000,\n",
    "                    N = N,\n",
    "                    verbose = False,\n",
    "                    )\n",
    "\n",
    "        prior_fidelity2[i, rep] = np.abs(channel_fidelity(kraus_target, kraus_model).numpy())\n",
    "\n",
    "        kraus_model = KrausMap(\n",
    "    #                           U=U, \n",
    "    #                           c=0.9, \n",
    "                               d=d, \n",
    "                               rank=rank+1,\n",
    "                              )\n",
    "\n",
    "        model = ModelQuantumMap(\n",
    "                                q_map = kraus_model,\n",
    "                                loss = probs_loss,\n",
    "                                optimizer = tf.optimizers.Adam(learning_rate=0.01),\n",
    "                                )\n",
    "\n",
    "        model.train(inputs = [inputs[0][:N], inputs[1][:N]],\n",
    "                    targets = targets[:N],\n",
    "                    inputs_val = None,\n",
    "                    targets_val = None,\n",
    "                    num_iter = 4000,\n",
    "                    N = N,\n",
    "                    verbose = False,\n",
    "                    )\n",
    "\n",
    "        noPrior_fidelity2[i, rep] = np.abs(channel_fidelity(kraus_target, kraus_model).numpy())"
   ]
  },
  {
   "cell_type": "code",
   "execution_count": 10,
   "metadata": {},
   "outputs": [],
   "source": [
    "data = [prior_fidelity2, noPrior_fidelity2]\n",
    "pickle.dump(data, open(\"../../data/compressed_sensing_rank8.p\", \"wb\"))"
   ]
  },
  {
   "cell_type": "markdown",
   "metadata": {},
   "source": [
    "### High Rank"
   ]
  },
  {
   "cell_type": "code",
   "execution_count": 11,
   "metadata": {},
   "outputs": [
    {
     "data": {
      "application/vnd.jupyter.widget-view+json": {
       "model_id": "dad0f4931e8946888bd5d0f6008153cb",
       "version_major": 2,
       "version_minor": 0
      },
      "text/plain": [
       "  0%|          | 0/10 [00:00<?, ?it/s]"
      ]
     },
     "metadata": {},
     "output_type": "display_data"
    },
    {
     "data": {
      "application/vnd.jupyter.widget-view+json": {
       "model_id": "ec34a31779484ae985a0e237f453c496",
       "version_major": 2,
       "version_minor": 0
      },
      "text/plain": [
       "  0%|          | 0/4000 [00:00<?, ?it/s]"
      ]
     },
     "metadata": {},
     "output_type": "display_data"
    },
    {
     "data": {
      "application/vnd.jupyter.widget-view+json": {
       "model_id": "2c3c87f8e28a4111b30b1bbd337c7df7",
       "version_major": 2,
       "version_minor": 0
      },
      "text/plain": [
       "  0%|          | 0/4000 [00:00<?, ?it/s]"
      ]
     },
     "metadata": {},
     "output_type": "display_data"
    },
    {
     "data": {
      "application/vnd.jupyter.widget-view+json": {
       "model_id": "e669f568d76945dbaecd42eaf5a18d97",
       "version_major": 2,
       "version_minor": 0
      },
      "text/plain": [
       "  0%|          | 0/4000 [00:00<?, ?it/s]"
      ]
     },
     "metadata": {},
     "output_type": "display_data"
    },
    {
     "data": {
      "application/vnd.jupyter.widget-view+json": {
       "model_id": "25cecd4854b549e18f981d34fb94df93",
       "version_major": 2,
       "version_minor": 0
      },
      "text/plain": [
       "  0%|          | 0/4000 [00:00<?, ?it/s]"
      ]
     },
     "metadata": {},
     "output_type": "display_data"
    },
    {
     "data": {
      "application/vnd.jupyter.widget-view+json": {
       "model_id": "d04f11b105214eb1b74a20f96b6a4230",
       "version_major": 2,
       "version_minor": 0
      },
      "text/plain": [
       "  0%|          | 0/4000 [00:00<?, ?it/s]"
      ]
     },
     "metadata": {},
     "output_type": "display_data"
    },
    {
     "data": {
      "application/vnd.jupyter.widget-view+json": {
       "model_id": "71fc554bc12743cf9d967f6de85da4a6",
       "version_major": 2,
       "version_minor": 0
      },
      "text/plain": [
       "  0%|          | 0/4000 [00:00<?, ?it/s]"
      ]
     },
     "metadata": {},
     "output_type": "display_data"
    },
    {
     "data": {
      "application/vnd.jupyter.widget-view+json": {
       "model_id": "0d3e23aedae14305a9aebabd7d14fcd8",
       "version_major": 2,
       "version_minor": 0
      },
      "text/plain": [
       "  0%|          | 0/4000 [00:00<?, ?it/s]"
      ]
     },
     "metadata": {},
     "output_type": "display_data"
    },
    {
     "data": {
      "application/vnd.jupyter.widget-view+json": {
       "model_id": "0e4c7c9bc5284f4c8e537f6b880fc64b",
       "version_major": 2,
       "version_minor": 0
      },
      "text/plain": [
       "  0%|          | 0/4000 [00:00<?, ?it/s]"
      ]
     },
     "metadata": {},
     "output_type": "display_data"
    },
    {
     "data": {
      "application/vnd.jupyter.widget-view+json": {
       "model_id": "3f7c18c589504f4983556c0f687a187f",
       "version_major": 2,
       "version_minor": 0
      },
      "text/plain": [
       "  0%|          | 0/4000 [00:00<?, ?it/s]"
      ]
     },
     "metadata": {},
     "output_type": "display_data"
    },
    {
     "data": {
      "application/vnd.jupyter.widget-view+json": {
       "model_id": "42fb81d9063b4acf897eea6321e350cb",
       "version_major": 2,
       "version_minor": 0
      },
      "text/plain": [
       "  0%|          | 0/4000 [00:00<?, ?it/s]"
      ]
     },
     "metadata": {},
     "output_type": "display_data"
    },
    {
     "data": {
      "application/vnd.jupyter.widget-view+json": {
       "model_id": "4679da6b9e0d4899b8370511c883dc89",
       "version_major": 2,
       "version_minor": 0
      },
      "text/plain": [
       "  0%|          | 0/4000 [00:00<?, ?it/s]"
      ]
     },
     "metadata": {},
     "output_type": "display_data"
    },
    {
     "data": {
      "application/vnd.jupyter.widget-view+json": {
       "model_id": "931f2dac6f104481b6994e07b3af4da0",
       "version_major": 2,
       "version_minor": 0
      },
      "text/plain": [
       "  0%|          | 0/4000 [00:00<?, ?it/s]"
      ]
     },
     "metadata": {},
     "output_type": "display_data"
    },
    {
     "data": {
      "application/vnd.jupyter.widget-view+json": {
       "model_id": "250b5049186b4e9aa9d1524882bfb5cb",
       "version_major": 2,
       "version_minor": 0
      },
      "text/plain": [
       "  0%|          | 0/4000 [00:00<?, ?it/s]"
      ]
     },
     "metadata": {},
     "output_type": "display_data"
    },
    {
     "data": {
      "application/vnd.jupyter.widget-view+json": {
       "model_id": "81cea5d12b6e4ea09ceaf872e4ce10a0",
       "version_major": 2,
       "version_minor": 0
      },
      "text/plain": [
       "  0%|          | 0/4000 [00:00<?, ?it/s]"
      ]
     },
     "metadata": {},
     "output_type": "display_data"
    },
    {
     "data": {
      "application/vnd.jupyter.widget-view+json": {
       "model_id": "a4c0055a9cef4d5c88f18e762675a11e",
       "version_major": 2,
       "version_minor": 0
      },
      "text/plain": [
       "  0%|          | 0/4000 [00:00<?, ?it/s]"
      ]
     },
     "metadata": {},
     "output_type": "display_data"
    },
    {
     "data": {
      "application/vnd.jupyter.widget-view+json": {
       "model_id": "6c041db1517a4a618ed7b39010c21a80",
       "version_major": 2,
       "version_minor": 0
      },
      "text/plain": [
       "  0%|          | 0/4000 [00:00<?, ?it/s]"
      ]
     },
     "metadata": {},
     "output_type": "display_data"
    },
    {
     "data": {
      "application/vnd.jupyter.widget-view+json": {
       "model_id": "289b15a808fd4c6ebe0efbcd6039a86d",
       "version_major": 2,
       "version_minor": 0
      },
      "text/plain": [
       "  0%|          | 0/4000 [00:00<?, ?it/s]"
      ]
     },
     "metadata": {},
     "output_type": "display_data"
    },
    {
     "data": {
      "application/vnd.jupyter.widget-view+json": {
       "model_id": "32a3100f5d644a7b994007a0077f509b",
       "version_major": 2,
       "version_minor": 0
      },
      "text/plain": [
       "  0%|          | 0/4000 [00:00<?, ?it/s]"
      ]
     },
     "metadata": {},
     "output_type": "display_data"
    },
    {
     "data": {
      "application/vnd.jupyter.widget-view+json": {
       "model_id": "ddfaa526d54a47b4930563112ecf9c1c",
       "version_major": 2,
       "version_minor": 0
      },
      "text/plain": [
       "  0%|          | 0/4000 [00:00<?, ?it/s]"
      ]
     },
     "metadata": {},
     "output_type": "display_data"
    },
    {
     "data": {
      "application/vnd.jupyter.widget-view+json": {
       "model_id": "25fcc64b768847d49d8a76c0f71cfbc1",
       "version_major": 2,
       "version_minor": 0
      },
      "text/plain": [
       "  0%|          | 0/4000 [00:00<?, ?it/s]"
      ]
     },
     "metadata": {},
     "output_type": "display_data"
    },
    {
     "data": {
      "application/vnd.jupyter.widget-view+json": {
       "model_id": "8511c7210845498ea2d43c40acd022e9",
       "version_major": 2,
       "version_minor": 0
      },
      "text/plain": [
       "  0%|          | 0/4000 [00:00<?, ?it/s]"
      ]
     },
     "metadata": {},
     "output_type": "display_data"
    },
    {
     "data": {
      "application/vnd.jupyter.widget-view+json": {
       "model_id": "a303708dfb57499383b1ec75f5fced95",
       "version_major": 2,
       "version_minor": 0
      },
      "text/plain": [
       "  0%|          | 0/4000 [00:00<?, ?it/s]"
      ]
     },
     "metadata": {},
     "output_type": "display_data"
    },
    {
     "data": {
      "application/vnd.jupyter.widget-view+json": {
       "model_id": "12be7b320f914b29bb3480480e921d60",
       "version_major": 2,
       "version_minor": 0
      },
      "text/plain": [
       "  0%|          | 0/4000 [00:00<?, ?it/s]"
      ]
     },
     "metadata": {},
     "output_type": "display_data"
    },
    {
     "data": {
      "application/vnd.jupyter.widget-view+json": {
       "model_id": "e637b6981de8418db8f4936108bfd150",
       "version_major": 2,
       "version_minor": 0
      },
      "text/plain": [
       "  0%|          | 0/4000 [00:00<?, ?it/s]"
      ]
     },
     "metadata": {},
     "output_type": "display_data"
    },
    {
     "data": {
      "application/vnd.jupyter.widget-view+json": {
       "model_id": "df9b98a0209f4986b73ab0f6d58948aa",
       "version_major": 2,
       "version_minor": 0
      },
      "text/plain": [
       "  0%|          | 0/4000 [00:00<?, ?it/s]"
      ]
     },
     "metadata": {},
     "output_type": "display_data"
    },
    {
     "data": {
      "application/vnd.jupyter.widget-view+json": {
       "model_id": "723045f9a4c445249fc953357a06b397",
       "version_major": 2,
       "version_minor": 0
      },
      "text/plain": [
       "  0%|          | 0/4000 [00:00<?, ?it/s]"
      ]
     },
     "metadata": {},
     "output_type": "display_data"
    },
    {
     "data": {
      "application/vnd.jupyter.widget-view+json": {
       "model_id": "c671c237d40248a387df4653349b7ed1",
       "version_major": 2,
       "version_minor": 0
      },
      "text/plain": [
       "  0%|          | 0/4000 [00:00<?, ?it/s]"
      ]
     },
     "metadata": {},
     "output_type": "display_data"
    },
    {
     "data": {
      "application/vnd.jupyter.widget-view+json": {
       "model_id": "fc231fb9ea7441afa298c833b70eeaa3",
       "version_major": 2,
       "version_minor": 0
      },
      "text/plain": [
       "  0%|          | 0/4000 [00:00<?, ?it/s]"
      ]
     },
     "metadata": {},
     "output_type": "display_data"
    },
    {
     "data": {
      "application/vnd.jupyter.widget-view+json": {
       "model_id": "07d07560acb344ddab0344ecc55a0de0",
       "version_major": 2,
       "version_minor": 0
      },
      "text/plain": [
       "  0%|          | 0/4000 [00:00<?, ?it/s]"
      ]
     },
     "metadata": {},
     "output_type": "display_data"
    },
    {
     "data": {
      "application/vnd.jupyter.widget-view+json": {
       "model_id": "a8d60fb1fb89497c839a4d0adfeee1ff",
       "version_major": 2,
       "version_minor": 0
      },
      "text/plain": [
       "  0%|          | 0/4000 [00:00<?, ?it/s]"
      ]
     },
     "metadata": {},
     "output_type": "display_data"
    },
    {
     "data": {
      "application/vnd.jupyter.widget-view+json": {
       "model_id": "92ab6d87a85e49d296f8b3b84e1c4b13",
       "version_major": 2,
       "version_minor": 0
      },
      "text/plain": [
       "  0%|          | 0/4000 [00:00<?, ?it/s]"
      ]
     },
     "metadata": {},
     "output_type": "display_data"
    },
    {
     "data": {
      "application/vnd.jupyter.widget-view+json": {
       "model_id": "a677ac3efbf6411c9d53d17c3ac0b7ff",
       "version_major": 2,
       "version_minor": 0
      },
      "text/plain": [
       "  0%|          | 0/4000 [00:00<?, ?it/s]"
      ]
     },
     "metadata": {},
     "output_type": "display_data"
    },
    {
     "data": {
      "application/vnd.jupyter.widget-view+json": {
       "model_id": "ebcfa195ea944de6a7a5875dd5dfadf8",
       "version_major": 2,
       "version_minor": 0
      },
      "text/plain": [
       "  0%|          | 0/4000 [00:00<?, ?it/s]"
      ]
     },
     "metadata": {},
     "output_type": "display_data"
    },
    {
     "data": {
      "application/vnd.jupyter.widget-view+json": {
       "model_id": "59af60a007304022b13b83699a8aefb1",
       "version_major": 2,
       "version_minor": 0
      },
      "text/plain": [
       "  0%|          | 0/4000 [00:00<?, ?it/s]"
      ]
     },
     "metadata": {},
     "output_type": "display_data"
    },
    {
     "data": {
      "application/vnd.jupyter.widget-view+json": {
       "model_id": "9df38b27f64d43eca9c43c8e1a858bd7",
       "version_major": 2,
       "version_minor": 0
      },
      "text/plain": [
       "  0%|          | 0/4000 [00:00<?, ?it/s]"
      ]
     },
     "metadata": {},
     "output_type": "display_data"
    },
    {
     "data": {
      "application/vnd.jupyter.widget-view+json": {
       "model_id": "d9b24c9808864a35861c0e715e1ecd07",
       "version_major": 2,
       "version_minor": 0
      },
      "text/plain": [
       "  0%|          | 0/4000 [00:00<?, ?it/s]"
      ]
     },
     "metadata": {},
     "output_type": "display_data"
    },
    {
     "data": {
      "application/vnd.jupyter.widget-view+json": {
       "model_id": "b87b42ac023747859b1e3d9e5d693874",
       "version_major": 2,
       "version_minor": 0
      },
      "text/plain": [
       "  0%|          | 0/4000 [00:00<?, ?it/s]"
      ]
     },
     "metadata": {},
     "output_type": "display_data"
    },
    {
     "data": {
      "application/vnd.jupyter.widget-view+json": {
       "model_id": "445750603cf44573bcedb796d9803e17",
       "version_major": 2,
       "version_minor": 0
      },
      "text/plain": [
       "  0%|          | 0/4000 [00:00<?, ?it/s]"
      ]
     },
     "metadata": {},
     "output_type": "display_data"
    },
    {
     "data": {
      "application/vnd.jupyter.widget-view+json": {
       "model_id": "c1d4593dbe1d41148f8c0aa4d19c336d",
       "version_major": 2,
       "version_minor": 0
      },
      "text/plain": [
       "  0%|          | 0/4000 [00:00<?, ?it/s]"
      ]
     },
     "metadata": {},
     "output_type": "display_data"
    },
    {
     "data": {
      "application/vnd.jupyter.widget-view+json": {
       "model_id": "ab157975efa84e049677e52a0c99fee6",
       "version_major": 2,
       "version_minor": 0
      },
      "text/plain": [
       "  0%|          | 0/4000 [00:00<?, ?it/s]"
      ]
     },
     "metadata": {},
     "output_type": "display_data"
    },
    {
     "data": {
      "application/vnd.jupyter.widget-view+json": {
       "model_id": "e748c4dba534405d87e0a766d6eed881",
       "version_major": 2,
       "version_minor": 0
      },
      "text/plain": [
       "  0%|          | 0/4000 [00:00<?, ?it/s]"
      ]
     },
     "metadata": {},
     "output_type": "display_data"
    },
    {
     "data": {
      "application/vnd.jupyter.widget-view+json": {
       "model_id": "05753b23ee304652a96e98c736e629d0",
       "version_major": 2,
       "version_minor": 0
      },
      "text/plain": [
       "  0%|          | 0/4000 [00:00<?, ?it/s]"
      ]
     },
     "metadata": {},
     "output_type": "display_data"
    },
    {
     "data": {
      "application/vnd.jupyter.widget-view+json": {
       "model_id": "e7de4ec803534809a2202dadc2a49905",
       "version_major": 2,
       "version_minor": 0
      },
      "text/plain": [
       "  0%|          | 0/4000 [00:00<?, ?it/s]"
      ]
     },
     "metadata": {},
     "output_type": "display_data"
    },
    {
     "data": {
      "application/vnd.jupyter.widget-view+json": {
       "model_id": "1f7f60495e38429ab93ab127508ab484",
       "version_major": 2,
       "version_minor": 0
      },
      "text/plain": [
       "  0%|          | 0/4000 [00:00<?, ?it/s]"
      ]
     },
     "metadata": {},
     "output_type": "display_data"
    },
    {
     "data": {
      "application/vnd.jupyter.widget-view+json": {
       "model_id": "a8841440906d49e5a2bc4edebcf21e72",
       "version_major": 2,
       "version_minor": 0
      },
      "text/plain": [
       "  0%|          | 0/4000 [00:00<?, ?it/s]"
      ]
     },
     "metadata": {},
     "output_type": "display_data"
    },
    {
     "data": {
      "application/vnd.jupyter.widget-view+json": {
       "model_id": "098440bcdfba43e69dfc993dca891943",
       "version_major": 2,
       "version_minor": 0
      },
      "text/plain": [
       "  0%|          | 0/4000 [00:00<?, ?it/s]"
      ]
     },
     "metadata": {},
     "output_type": "display_data"
    },
    {
     "data": {
      "application/vnd.jupyter.widget-view+json": {
       "model_id": "625d49bec8ae4a06b94985288b0cf91f",
       "version_major": 2,
       "version_minor": 0
      },
      "text/plain": [
       "  0%|          | 0/4000 [00:00<?, ?it/s]"
      ]
     },
     "metadata": {},
     "output_type": "display_data"
    },
    {
     "data": {
      "application/vnd.jupyter.widget-view+json": {
       "model_id": "959e83cde38b4afca972122fd1dfc55c",
       "version_major": 2,
       "version_minor": 0
      },
      "text/plain": [
       "  0%|          | 0/4000 [00:00<?, ?it/s]"
      ]
     },
     "metadata": {},
     "output_type": "display_data"
    },
    {
     "data": {
      "application/vnd.jupyter.widget-view+json": {
       "model_id": "7cd013857d7b4ab49573271865838eab",
       "version_major": 2,
       "version_minor": 0
      },
      "text/plain": [
       "  0%|          | 0/4000 [00:00<?, ?it/s]"
      ]
     },
     "metadata": {},
     "output_type": "display_data"
    },
    {
     "data": {
      "application/vnd.jupyter.widget-view+json": {
       "model_id": "07424a0f4bd44462aaa3b1392894744a",
       "version_major": 2,
       "version_minor": 0
      },
      "text/plain": [
       "  0%|          | 0/4000 [00:00<?, ?it/s]"
      ]
     },
     "metadata": {},
     "output_type": "display_data"
    },
    {
     "data": {
      "application/vnd.jupyter.widget-view+json": {
       "model_id": "8ec06e6827614f57b8f7740077a68b72",
       "version_major": 2,
       "version_minor": 0
      },
      "text/plain": [
       "  0%|          | 0/4000 [00:00<?, ?it/s]"
      ]
     },
     "metadata": {},
     "output_type": "display_data"
    },
    {
     "data": {
      "application/vnd.jupyter.widget-view+json": {
       "model_id": "bb3b9cfdbc3046379f5f29f027709ead",
       "version_major": 2,
       "version_minor": 0
      },
      "text/plain": [
       "  0%|          | 0/4000 [00:00<?, ?it/s]"
      ]
     },
     "metadata": {},
     "output_type": "display_data"
    },
    {
     "data": {
      "application/vnd.jupyter.widget-view+json": {
       "model_id": "94a4fdd589f643378a57f96e6ba32966",
       "version_major": 2,
       "version_minor": 0
      },
      "text/plain": [
       "  0%|          | 0/4000 [00:00<?, ?it/s]"
      ]
     },
     "metadata": {},
     "output_type": "display_data"
    },
    {
     "data": {
      "application/vnd.jupyter.widget-view+json": {
       "model_id": "4308e27adab247bfa1db68afb6d3ac1b",
       "version_major": 2,
       "version_minor": 0
      },
      "text/plain": [
       "  0%|          | 0/4000 [00:00<?, ?it/s]"
      ]
     },
     "metadata": {},
     "output_type": "display_data"
    },
    {
     "data": {
      "application/vnd.jupyter.widget-view+json": {
       "model_id": "7e5da135767c4995b6cce7c5155c3ba4",
       "version_major": 2,
       "version_minor": 0
      },
      "text/plain": [
       "  0%|          | 0/4000 [00:00<?, ?it/s]"
      ]
     },
     "metadata": {},
     "output_type": "display_data"
    },
    {
     "data": {
      "application/vnd.jupyter.widget-view+json": {
       "model_id": "84653e86ac484f8bb43e081bdf2df596",
       "version_major": 2,
       "version_minor": 0
      },
      "text/plain": [
       "  0%|          | 0/4000 [00:00<?, ?it/s]"
      ]
     },
     "metadata": {},
     "output_type": "display_data"
    },
    {
     "data": {
      "application/vnd.jupyter.widget-view+json": {
       "model_id": "e27cc98646fd4bafa074786f76114b62",
       "version_major": 2,
       "version_minor": 0
      },
      "text/plain": [
       "  0%|          | 0/4000 [00:00<?, ?it/s]"
      ]
     },
     "metadata": {},
     "output_type": "display_data"
    },
    {
     "data": {
      "application/vnd.jupyter.widget-view+json": {
       "model_id": "15a10e912a60408b9b7de709d1fac472",
       "version_major": 2,
       "version_minor": 0
      },
      "text/plain": [
       "  0%|          | 0/4000 [00:00<?, ?it/s]"
      ]
     },
     "metadata": {},
     "output_type": "display_data"
    },
    {
     "data": {
      "application/vnd.jupyter.widget-view+json": {
       "model_id": "ba53a55b66fc4be1b5168a8750d443da",
       "version_major": 2,
       "version_minor": 0
      },
      "text/plain": [
       "  0%|          | 0/4000 [00:00<?, ?it/s]"
      ]
     },
     "metadata": {},
     "output_type": "display_data"
    },
    {
     "data": {
      "application/vnd.jupyter.widget-view+json": {
       "model_id": "a6e80815537d4131bc107d780e615a42",
       "version_major": 2,
       "version_minor": 0
      },
      "text/plain": [
       "  0%|          | 0/4000 [00:00<?, ?it/s]"
      ]
     },
     "metadata": {},
     "output_type": "display_data"
    },
    {
     "data": {
      "application/vnd.jupyter.widget-view+json": {
       "model_id": "d9e7bd474f8a4bc2a1b510cfd44ea600",
       "version_major": 2,
       "version_minor": 0
      },
      "text/plain": [
       "  0%|          | 0/4000 [00:00<?, ?it/s]"
      ]
     },
     "metadata": {},
     "output_type": "display_data"
    },
    {
     "data": {
      "application/vnd.jupyter.widget-view+json": {
       "model_id": "35f59b6cc89d46d1a673dd439edae5fa",
       "version_major": 2,
       "version_minor": 0
      },
      "text/plain": [
       "  0%|          | 0/4000 [00:00<?, ?it/s]"
      ]
     },
     "metadata": {},
     "output_type": "display_data"
    },
    {
     "data": {
      "application/vnd.jupyter.widget-view+json": {
       "model_id": "7b1274d3be2842508dcbb545469e24ab",
       "version_major": 2,
       "version_minor": 0
      },
      "text/plain": [
       "  0%|          | 0/4000 [00:00<?, ?it/s]"
      ]
     },
     "metadata": {},
     "output_type": "display_data"
    },
    {
     "data": {
      "application/vnd.jupyter.widget-view+json": {
       "model_id": "bd83b5072a784e22809732688cabbc90",
       "version_major": 2,
       "version_minor": 0
      },
      "text/plain": [
       "  0%|          | 0/4000 [00:00<?, ?it/s]"
      ]
     },
     "metadata": {},
     "output_type": "display_data"
    },
    {
     "data": {
      "application/vnd.jupyter.widget-view+json": {
       "model_id": "13ae0f71738b4137a14f74e49ffa82ff",
       "version_major": 2,
       "version_minor": 0
      },
      "text/plain": [
       "  0%|          | 0/4000 [00:00<?, ?it/s]"
      ]
     },
     "metadata": {},
     "output_type": "display_data"
    },
    {
     "data": {
      "application/vnd.jupyter.widget-view+json": {
       "model_id": "290103e3d0cc49a6bb5e35c9b27e4686",
       "version_major": 2,
       "version_minor": 0
      },
      "text/plain": [
       "  0%|          | 0/4000 [00:00<?, ?it/s]"
      ]
     },
     "metadata": {},
     "output_type": "display_data"
    },
    {
     "data": {
      "application/vnd.jupyter.widget-view+json": {
       "model_id": "8c638445559a484394c6c87bffefd25d",
       "version_major": 2,
       "version_minor": 0
      },
      "text/plain": [
       "  0%|          | 0/4000 [00:00<?, ?it/s]"
      ]
     },
     "metadata": {},
     "output_type": "display_data"
    },
    {
     "data": {
      "application/vnd.jupyter.widget-view+json": {
       "model_id": "a8958e44bea04b4a9638111bd996460b",
       "version_major": 2,
       "version_minor": 0
      },
      "text/plain": [
       "  0%|          | 0/4000 [00:00<?, ?it/s]"
      ]
     },
     "metadata": {},
     "output_type": "display_data"
    },
    {
     "data": {
      "application/vnd.jupyter.widget-view+json": {
       "model_id": "9bb17647d69e43abbaae7dddb8e52da0",
       "version_major": 2,
       "version_minor": 0
      },
      "text/plain": [
       "  0%|          | 0/4000 [00:00<?, ?it/s]"
      ]
     },
     "metadata": {},
     "output_type": "display_data"
    },
    {
     "data": {
      "application/vnd.jupyter.widget-view+json": {
       "model_id": "c87ccbcf875441458755409068f1028e",
       "version_major": 2,
       "version_minor": 0
      },
      "text/plain": [
       "  0%|          | 0/4000 [00:00<?, ?it/s]"
      ]
     },
     "metadata": {},
     "output_type": "display_data"
    },
    {
     "data": {
      "application/vnd.jupyter.widget-view+json": {
       "model_id": "8eabe776f5e84f63bd7f848984258e6a",
       "version_major": 2,
       "version_minor": 0
      },
      "text/plain": [
       "  0%|          | 0/4000 [00:00<?, ?it/s]"
      ]
     },
     "metadata": {},
     "output_type": "display_data"
    },
    {
     "data": {
      "application/vnd.jupyter.widget-view+json": {
       "model_id": "5a65e637785440848fd5b8643432c26b",
       "version_major": 2,
       "version_minor": 0
      },
      "text/plain": [
       "  0%|          | 0/4000 [00:00<?, ?it/s]"
      ]
     },
     "metadata": {},
     "output_type": "display_data"
    },
    {
     "data": {
      "application/vnd.jupyter.widget-view+json": {
       "model_id": "3f0979952d0f4197a1b700ba92485810",
       "version_major": 2,
       "version_minor": 0
      },
      "text/plain": [
       "  0%|          | 0/4000 [00:00<?, ?it/s]"
      ]
     },
     "metadata": {},
     "output_type": "display_data"
    },
    {
     "data": {
      "application/vnd.jupyter.widget-view+json": {
       "model_id": "0bcc89e5b3a94a9c99b4e2c6d684baad",
       "version_major": 2,
       "version_minor": 0
      },
      "text/plain": [
       "  0%|          | 0/4000 [00:00<?, ?it/s]"
      ]
     },
     "metadata": {},
     "output_type": "display_data"
    },
    {
     "data": {
      "application/vnd.jupyter.widget-view+json": {
       "model_id": "20317d1dac09457aaf4e47f5038d47d8",
       "version_major": 2,
       "version_minor": 0
      },
      "text/plain": [
       "  0%|          | 0/4000 [00:00<?, ?it/s]"
      ]
     },
     "metadata": {},
     "output_type": "display_data"
    },
    {
     "data": {
      "application/vnd.jupyter.widget-view+json": {
       "model_id": "1d8dc2ba5e2d42e993fa3b64bd62d2fb",
       "version_major": 2,
       "version_minor": 0
      },
      "text/plain": [
       "  0%|          | 0/4000 [00:00<?, ?it/s]"
      ]
     },
     "metadata": {},
     "output_type": "display_data"
    },
    {
     "data": {
      "application/vnd.jupyter.widget-view+json": {
       "model_id": "3cd939f1c20441d9987607bba263611b",
       "version_major": 2,
       "version_minor": 0
      },
      "text/plain": [
       "  0%|          | 0/4000 [00:00<?, ?it/s]"
      ]
     },
     "metadata": {},
     "output_type": "display_data"
    },
    {
     "data": {
      "application/vnd.jupyter.widget-view+json": {
       "model_id": "500bafc092b441818367fef340e6f2ba",
       "version_major": 2,
       "version_minor": 0
      },
      "text/plain": [
       "  0%|          | 0/4000 [00:00<?, ?it/s]"
      ]
     },
     "metadata": {},
     "output_type": "display_data"
    },
    {
     "data": {
      "application/vnd.jupyter.widget-view+json": {
       "model_id": "487016da7cab4b2d87e971d75196ed7c",
       "version_major": 2,
       "version_minor": 0
      },
      "text/plain": [
       "  0%|          | 0/4000 [00:00<?, ?it/s]"
      ]
     },
     "metadata": {},
     "output_type": "display_data"
    },
    {
     "data": {
      "application/vnd.jupyter.widget-view+json": {
       "model_id": "c87c560e5aa948e1b74b664ce4d3c07d",
       "version_major": 2,
       "version_minor": 0
      },
      "text/plain": [
       "  0%|          | 0/4000 [00:00<?, ?it/s]"
      ]
     },
     "metadata": {},
     "output_type": "display_data"
    },
    {
     "data": {
      "application/vnd.jupyter.widget-view+json": {
       "model_id": "438ca9d3cec7471291dba72a2a143818",
       "version_major": 2,
       "version_minor": 0
      },
      "text/plain": [
       "  0%|          | 0/4000 [00:00<?, ?it/s]"
      ]
     },
     "metadata": {},
     "output_type": "display_data"
    },
    {
     "data": {
      "application/vnd.jupyter.widget-view+json": {
       "model_id": "24dea566830b41e29084b2ed254587f7",
       "version_major": 2,
       "version_minor": 0
      },
      "text/plain": [
       "  0%|          | 0/4000 [00:00<?, ?it/s]"
      ]
     },
     "metadata": {},
     "output_type": "display_data"
    },
    {
     "data": {
      "application/vnd.jupyter.widget-view+json": {
       "model_id": "8eb78298356d45e6875974a5ef61840c",
       "version_major": 2,
       "version_minor": 0
      },
      "text/plain": [
       "  0%|          | 0/4000 [00:00<?, ?it/s]"
      ]
     },
     "metadata": {},
     "output_type": "display_data"
    },
    {
     "data": {
      "application/vnd.jupyter.widget-view+json": {
       "model_id": "36f09aa3146e4abd9b8178bd330aba80",
       "version_major": 2,
       "version_minor": 0
      },
      "text/plain": [
       "  0%|          | 0/4000 [00:00<?, ?it/s]"
      ]
     },
     "metadata": {},
     "output_type": "display_data"
    },
    {
     "data": {
      "application/vnd.jupyter.widget-view+json": {
       "model_id": "75092ede8dbe435c8ca6101b3c840f28",
       "version_major": 2,
       "version_minor": 0
      },
      "text/plain": [
       "  0%|          | 0/4000 [00:00<?, ?it/s]"
      ]
     },
     "metadata": {},
     "output_type": "display_data"
    },
    {
     "data": {
      "application/vnd.jupyter.widget-view+json": {
       "model_id": "fd62ce81c4fe402083f1d9473b99c01c",
       "version_major": 2,
       "version_minor": 0
      },
      "text/plain": [
       "  0%|          | 0/4000 [00:00<?, ?it/s]"
      ]
     },
     "metadata": {},
     "output_type": "display_data"
    },
    {
     "data": {
      "application/vnd.jupyter.widget-view+json": {
       "model_id": "a4a919b17c0d4da29a9a5998572f043d",
       "version_major": 2,
       "version_minor": 0
      },
      "text/plain": [
       "  0%|          | 0/4000 [00:00<?, ?it/s]"
      ]
     },
     "metadata": {},
     "output_type": "display_data"
    },
    {
     "data": {
      "application/vnd.jupyter.widget-view+json": {
       "model_id": "2872436e25af49c9865062a3d92bccb2",
       "version_major": 2,
       "version_minor": 0
      },
      "text/plain": [
       "  0%|          | 0/4000 [00:00<?, ?it/s]"
      ]
     },
     "metadata": {},
     "output_type": "display_data"
    },
    {
     "data": {
      "application/vnd.jupyter.widget-view+json": {
       "model_id": "e126a2f0ae0d41359403a58c4bffddc4",
       "version_major": 2,
       "version_minor": 0
      },
      "text/plain": [
       "  0%|          | 0/4000 [00:00<?, ?it/s]"
      ]
     },
     "metadata": {},
     "output_type": "display_data"
    },
    {
     "data": {
      "application/vnd.jupyter.widget-view+json": {
       "model_id": "7b158768d63c400f8e421a4a044da86f",
       "version_major": 2,
       "version_minor": 0
      },
      "text/plain": [
       "  0%|          | 0/4000 [00:00<?, ?it/s]"
      ]
     },
     "metadata": {},
     "output_type": "display_data"
    },
    {
     "data": {
      "application/vnd.jupyter.widget-view+json": {
       "model_id": "2049d3eff6794c37b18c747de9caf3a0",
       "version_major": 2,
       "version_minor": 0
      },
      "text/plain": [
       "  0%|          | 0/4000 [00:00<?, ?it/s]"
      ]
     },
     "metadata": {},
     "output_type": "display_data"
    },
    {
     "data": {
      "application/vnd.jupyter.widget-view+json": {
       "model_id": "3f32851262c64f108c3f33ee29aa08da",
       "version_major": 2,
       "version_minor": 0
      },
      "text/plain": [
       "  0%|          | 0/4000 [00:00<?, ?it/s]"
      ]
     },
     "metadata": {},
     "output_type": "display_data"
    },
    {
     "data": {
      "application/vnd.jupyter.widget-view+json": {
       "model_id": "7f4b46e3ec2b4b79826c9182be468876",
       "version_major": 2,
       "version_minor": 0
      },
      "text/plain": [
       "  0%|          | 0/4000 [00:00<?, ?it/s]"
      ]
     },
     "metadata": {},
     "output_type": "display_data"
    },
    {
     "data": {
      "application/vnd.jupyter.widget-view+json": {
       "model_id": "ae3d47ae65974ea1b27e258912158e78",
       "version_major": 2,
       "version_minor": 0
      },
      "text/plain": [
       "  0%|          | 0/4000 [00:00<?, ?it/s]"
      ]
     },
     "metadata": {},
     "output_type": "display_data"
    },
    {
     "data": {
      "application/vnd.jupyter.widget-view+json": {
       "model_id": "4d33111d123d42f2b966ba4c6468e3c4",
       "version_major": 2,
       "version_minor": 0
      },
      "text/plain": [
       "  0%|          | 0/4000 [00:00<?, ?it/s]"
      ]
     },
     "metadata": {},
     "output_type": "display_data"
    },
    {
     "data": {
      "application/vnd.jupyter.widget-view+json": {
       "model_id": "572c52299cb04b98a02a7ed384f3fe38",
       "version_major": 2,
       "version_minor": 0
      },
      "text/plain": [
       "  0%|          | 0/4000 [00:00<?, ?it/s]"
      ]
     },
     "metadata": {},
     "output_type": "display_data"
    },
    {
     "data": {
      "application/vnd.jupyter.widget-view+json": {
       "model_id": "761789faf5c543dea3f33bdd31990f03",
       "version_major": 2,
       "version_minor": 0
      },
      "text/plain": [
       "  0%|          | 0/4000 [00:00<?, ?it/s]"
      ]
     },
     "metadata": {},
     "output_type": "display_data"
    },
    {
     "data": {
      "application/vnd.jupyter.widget-view+json": {
       "model_id": "d7a04e37af9e4c2b9fdf7ec35bf498a1",
       "version_major": 2,
       "version_minor": 0
      },
      "text/plain": [
       "  0%|          | 0/4000 [00:00<?, ?it/s]"
      ]
     },
     "metadata": {},
     "output_type": "display_data"
    },
    {
     "data": {
      "application/vnd.jupyter.widget-view+json": {
       "model_id": "72926750bf14405db3904c166245b75d",
       "version_major": 2,
       "version_minor": 0
      },
      "text/plain": [
       "  0%|          | 0/4000 [00:00<?, ?it/s]"
      ]
     },
     "metadata": {},
     "output_type": "display_data"
    },
    {
     "data": {
      "application/vnd.jupyter.widget-view+json": {
       "model_id": "91eb5e030d8442e1a7b13501f3f414f5",
       "version_major": 2,
       "version_minor": 0
      },
      "text/plain": [
       "  0%|          | 0/4000 [00:00<?, ?it/s]"
      ]
     },
     "metadata": {},
     "output_type": "display_data"
    },
    {
     "data": {
      "application/vnd.jupyter.widget-view+json": {
       "model_id": "37db6b0f84ed4674b55d5d546aca9312",
       "version_major": 2,
       "version_minor": 0
      },
      "text/plain": [
       "  0%|          | 0/4000 [00:00<?, ?it/s]"
      ]
     },
     "metadata": {},
     "output_type": "display_data"
    },
    {
     "data": {
      "application/vnd.jupyter.widget-view+json": {
       "model_id": "8c5e295a52b54cc7b9b36110d78f69f9",
       "version_major": 2,
       "version_minor": 0
      },
      "text/plain": [
       "  0%|          | 0/4000 [00:00<?, ?it/s]"
      ]
     },
     "metadata": {},
     "output_type": "display_data"
    },
    {
     "data": {
      "application/vnd.jupyter.widget-view+json": {
       "model_id": "9cd2fe22964b4cd9b127ef8b9b2e81b1",
       "version_major": 2,
       "version_minor": 0
      },
      "text/plain": [
       "  0%|          | 0/4000 [00:00<?, ?it/s]"
      ]
     },
     "metadata": {},
     "output_type": "display_data"
    },
    {
     "data": {
      "application/vnd.jupyter.widget-view+json": {
       "model_id": "d30cfb6199064f95bd50ea82f1bbfeaa",
       "version_major": 2,
       "version_minor": 0
      },
      "text/plain": [
       "  0%|          | 0/4000 [00:00<?, ?it/s]"
      ]
     },
     "metadata": {},
     "output_type": "display_data"
    },
    {
     "data": {
      "application/vnd.jupyter.widget-view+json": {
       "model_id": "65920d0d458a4c70a46b8db5cf31087a",
       "version_major": 2,
       "version_minor": 0
      },
      "text/plain": [
       "  0%|          | 0/4000 [00:00<?, ?it/s]"
      ]
     },
     "metadata": {},
     "output_type": "display_data"
    },
    {
     "data": {
      "application/vnd.jupyter.widget-view+json": {
       "model_id": "cdb938fbc60a48558e9f07ae38c52b4f",
       "version_major": 2,
       "version_minor": 0
      },
      "text/plain": [
       "  0%|          | 0/4000 [00:00<?, ?it/s]"
      ]
     },
     "metadata": {},
     "output_type": "display_data"
    },
    {
     "data": {
      "application/vnd.jupyter.widget-view+json": {
       "model_id": "e8d83022e2e94dc08d9705cf76c9d952",
       "version_major": 2,
       "version_minor": 0
      },
      "text/plain": [
       "  0%|          | 0/4000 [00:00<?, ?it/s]"
      ]
     },
     "metadata": {},
     "output_type": "display_data"
    },
    {
     "data": {
      "application/vnd.jupyter.widget-view+json": {
       "model_id": "f6010a1ddc634cab85d1bdf793225ed0",
       "version_major": 2,
       "version_minor": 0
      },
      "text/plain": [
       "  0%|          | 0/4000 [00:00<?, ?it/s]"
      ]
     },
     "metadata": {},
     "output_type": "display_data"
    },
    {
     "data": {
      "application/vnd.jupyter.widget-view+json": {
       "model_id": "ddf917e35d1a4aaaaf0211c6493fac61",
       "version_major": 2,
       "version_minor": 0
      },
      "text/plain": [
       "  0%|          | 0/4000 [00:00<?, ?it/s]"
      ]
     },
     "metadata": {},
     "output_type": "display_data"
    },
    {
     "data": {
      "application/vnd.jupyter.widget-view+json": {
       "model_id": "8a14bc224d9d41c6855eb0717b18d48a",
       "version_major": 2,
       "version_minor": 0
      },
      "text/plain": [
       "  0%|          | 0/4000 [00:00<?, ?it/s]"
      ]
     },
     "metadata": {},
     "output_type": "display_data"
    },
    {
     "data": {
      "application/vnd.jupyter.widget-view+json": {
       "model_id": "ddfd57f2790e471499bfd81c90a3914a",
       "version_major": 2,
       "version_minor": 0
      },
      "text/plain": [
       "  0%|          | 0/4000 [00:00<?, ?it/s]"
      ]
     },
     "metadata": {},
     "output_type": "display_data"
    },
    {
     "data": {
      "application/vnd.jupyter.widget-view+json": {
       "model_id": "3398cb839a824faf99c981080630b621",
       "version_major": 2,
       "version_minor": 0
      },
      "text/plain": [
       "  0%|          | 0/4000 [00:00<?, ?it/s]"
      ]
     },
     "metadata": {},
     "output_type": "display_data"
    },
    {
     "data": {
      "application/vnd.jupyter.widget-view+json": {
       "model_id": "0f8b8037bcef4a54be62e1168fb118f0",
       "version_major": 2,
       "version_minor": 0
      },
      "text/plain": [
       "  0%|          | 0/4000 [00:00<?, ?it/s]"
      ]
     },
     "metadata": {},
     "output_type": "display_data"
    },
    {
     "data": {
      "application/vnd.jupyter.widget-view+json": {
       "model_id": "2a37e6585e814887afe68f13a5c5fb86",
       "version_major": 2,
       "version_minor": 0
      },
      "text/plain": [
       "  0%|          | 0/4000 [00:00<?, ?it/s]"
      ]
     },
     "metadata": {},
     "output_type": "display_data"
    },
    {
     "data": {
      "application/vnd.jupyter.widget-view+json": {
       "model_id": "4a18f61fb3fa440c8dd1b81342cfeb95",
       "version_major": 2,
       "version_minor": 0
      },
      "text/plain": [
       "  0%|          | 0/4000 [00:00<?, ?it/s]"
      ]
     },
     "metadata": {},
     "output_type": "display_data"
    },
    {
     "data": {
      "application/vnd.jupyter.widget-view+json": {
       "model_id": "f71b2c2005644ab5a6f9e29b3578e396",
       "version_major": 2,
       "version_minor": 0
      },
      "text/plain": [
       "  0%|          | 0/4000 [00:00<?, ?it/s]"
      ]
     },
     "metadata": {},
     "output_type": "display_data"
    },
    {
     "data": {
      "application/vnd.jupyter.widget-view+json": {
       "model_id": "f0de7afb202d45f88306ae762c9e878f",
       "version_major": 2,
       "version_minor": 0
      },
      "text/plain": [
       "  0%|          | 0/4000 [00:00<?, ?it/s]"
      ]
     },
     "metadata": {},
     "output_type": "display_data"
    },
    {
     "data": {
      "application/vnd.jupyter.widget-view+json": {
       "model_id": "21aca679ec154c3e9a9c18be82654c00",
       "version_major": 2,
       "version_minor": 0
      },
      "text/plain": [
       "  0%|          | 0/4000 [00:00<?, ?it/s]"
      ]
     },
     "metadata": {},
     "output_type": "display_data"
    },
    {
     "data": {
      "application/vnd.jupyter.widget-view+json": {
       "model_id": "ed58e93ba95d43658937888f73ce7c09",
       "version_major": 2,
       "version_minor": 0
      },
      "text/plain": [
       "  0%|          | 0/4000 [00:00<?, ?it/s]"
      ]
     },
     "metadata": {},
     "output_type": "display_data"
    },
    {
     "data": {
      "application/vnd.jupyter.widget-view+json": {
       "model_id": "8d07cab8f8f34cdaad152bdb44b22169",
       "version_major": 2,
       "version_minor": 0
      },
      "text/plain": [
       "  0%|          | 0/4000 [00:00<?, ?it/s]"
      ]
     },
     "metadata": {},
     "output_type": "display_data"
    },
    {
     "data": {
      "application/vnd.jupyter.widget-view+json": {
       "model_id": "a74c39c785e14576ab43a857e5062810",
       "version_major": 2,
       "version_minor": 0
      },
      "text/plain": [
       "  0%|          | 0/4000 [00:00<?, ?it/s]"
      ]
     },
     "metadata": {},
     "output_type": "display_data"
    },
    {
     "data": {
      "application/vnd.jupyter.widget-view+json": {
       "model_id": "313de2686baa426498366dc115a99c92",
       "version_major": 2,
       "version_minor": 0
      },
      "text/plain": [
       "  0%|          | 0/4000 [00:00<?, ?it/s]"
      ]
     },
     "metadata": {},
     "output_type": "display_data"
    },
    {
     "data": {
      "application/vnd.jupyter.widget-view+json": {
       "model_id": "21ac7a14cc20437092875ee32daa672b",
       "version_major": 2,
       "version_minor": 0
      },
      "text/plain": [
       "  0%|          | 0/4000 [00:00<?, ?it/s]"
      ]
     },
     "metadata": {},
     "output_type": "display_data"
    },
    {
     "data": {
      "application/vnd.jupyter.widget-view+json": {
       "model_id": "868bcc3773514c67a61b9a8c46a4b1a4",
       "version_major": 2,
       "version_minor": 0
      },
      "text/plain": [
       "  0%|          | 0/4000 [00:00<?, ?it/s]"
      ]
     },
     "metadata": {},
     "output_type": "display_data"
    },
    {
     "data": {
      "application/vnd.jupyter.widget-view+json": {
       "model_id": "9a7435c25cc54df888233706e610993e",
       "version_major": 2,
       "version_minor": 0
      },
      "text/plain": [
       "  0%|          | 0/4000 [00:00<?, ?it/s]"
      ]
     },
     "metadata": {},
     "output_type": "display_data"
    },
    {
     "data": {
      "application/vnd.jupyter.widget-view+json": {
       "model_id": "bbd260fc5d1e43e093e6b16cd15a325b",
       "version_major": 2,
       "version_minor": 0
      },
      "text/plain": [
       "  0%|          | 0/4000 [00:00<?, ?it/s]"
      ]
     },
     "metadata": {},
     "output_type": "display_data"
    },
    {
     "data": {
      "application/vnd.jupyter.widget-view+json": {
       "model_id": "afb0a59e650e4e738410843cba5aa1f2",
       "version_major": 2,
       "version_minor": 0
      },
      "text/plain": [
       "  0%|          | 0/4000 [00:00<?, ?it/s]"
      ]
     },
     "metadata": {},
     "output_type": "display_data"
    },
    {
     "data": {
      "application/vnd.jupyter.widget-view+json": {
       "model_id": "ac962de8e5e34fd68bf1a6cce22db5e8",
       "version_major": 2,
       "version_minor": 0
      },
      "text/plain": [
       "  0%|          | 0/4000 [00:00<?, ?it/s]"
      ]
     },
     "metadata": {},
     "output_type": "display_data"
    },
    {
     "data": {
      "application/vnd.jupyter.widget-view+json": {
       "model_id": "bc03f0c467234403aa86dc5db574668c",
       "version_major": 2,
       "version_minor": 0
      },
      "text/plain": [
       "  0%|          | 0/4000 [00:00<?, ?it/s]"
      ]
     },
     "metadata": {},
     "output_type": "display_data"
    },
    {
     "data": {
      "application/vnd.jupyter.widget-view+json": {
       "model_id": "fa636c84e7134ac4a9a57f29610a0c5b",
       "version_major": 2,
       "version_minor": 0
      },
      "text/plain": [
       "  0%|          | 0/4000 [00:00<?, ?it/s]"
      ]
     },
     "metadata": {},
     "output_type": "display_data"
    },
    {
     "data": {
      "application/vnd.jupyter.widget-view+json": {
       "model_id": "7f20770b3ef7469995443263123a7210",
       "version_major": 2,
       "version_minor": 0
      },
      "text/plain": [
       "  0%|          | 0/4000 [00:00<?, ?it/s]"
      ]
     },
     "metadata": {},
     "output_type": "display_data"
    },
    {
     "data": {
      "application/vnd.jupyter.widget-view+json": {
       "model_id": "24930533051349e99d3e5d00a33b9397",
       "version_major": 2,
       "version_minor": 0
      },
      "text/plain": [
       "  0%|          | 0/4000 [00:00<?, ?it/s]"
      ]
     },
     "metadata": {},
     "output_type": "display_data"
    },
    {
     "data": {
      "application/vnd.jupyter.widget-view+json": {
       "model_id": "e70e288582ab4922bb93c88639ad3e95",
       "version_major": 2,
       "version_minor": 0
      },
      "text/plain": [
       "  0%|          | 0/4000 [00:00<?, ?it/s]"
      ]
     },
     "metadata": {},
     "output_type": "display_data"
    },
    {
     "data": {
      "application/vnd.jupyter.widget-view+json": {
       "model_id": "81c5a9eaff004ba8990aa5d2121c8833",
       "version_major": 2,
       "version_minor": 0
      },
      "text/plain": [
       "  0%|          | 0/4000 [00:00<?, ?it/s]"
      ]
     },
     "metadata": {},
     "output_type": "display_data"
    },
    {
     "data": {
      "application/vnd.jupyter.widget-view+json": {
       "model_id": "be5aaaf6daff433a9c92f526b00989e0",
       "version_major": 2,
       "version_minor": 0
      },
      "text/plain": [
       "  0%|          | 0/4000 [00:00<?, ?it/s]"
      ]
     },
     "metadata": {},
     "output_type": "display_data"
    },
    {
     "data": {
      "application/vnd.jupyter.widget-view+json": {
       "model_id": "f3c1bf1ef53f4b5e90e1ed436d848abd",
       "version_major": 2,
       "version_minor": 0
      },
      "text/plain": [
       "  0%|          | 0/4000 [00:00<?, ?it/s]"
      ]
     },
     "metadata": {},
     "output_type": "display_data"
    },
    {
     "data": {
      "application/vnd.jupyter.widget-view+json": {
       "model_id": "fadb049ec19046b7bf1ab89c865d25d4",
       "version_major": 2,
       "version_minor": 0
      },
      "text/plain": [
       "  0%|          | 0/4000 [00:00<?, ?it/s]"
      ]
     },
     "metadata": {},
     "output_type": "display_data"
    },
    {
     "data": {
      "application/vnd.jupyter.widget-view+json": {
       "model_id": "f4d39871de714c71a66fed36187c2015",
       "version_major": 2,
       "version_minor": 0
      },
      "text/plain": [
       "  0%|          | 0/4000 [00:00<?, ?it/s]"
      ]
     },
     "metadata": {},
     "output_type": "display_data"
    },
    {
     "data": {
      "application/vnd.jupyter.widget-view+json": {
       "model_id": "7c0f35433c364f159d50b33df77ecf63",
       "version_major": 2,
       "version_minor": 0
      },
      "text/plain": [
       "  0%|          | 0/4000 [00:00<?, ?it/s]"
      ]
     },
     "metadata": {},
     "output_type": "display_data"
    },
    {
     "data": {
      "application/vnd.jupyter.widget-view+json": {
       "model_id": "0da467adcbec4c7b9ebc54f116b6b6a5",
       "version_major": 2,
       "version_minor": 0
      },
      "text/plain": [
       "  0%|          | 0/4000 [00:00<?, ?it/s]"
      ]
     },
     "metadata": {},
     "output_type": "display_data"
    },
    {
     "data": {
      "application/vnd.jupyter.widget-view+json": {
       "model_id": "8acff1d3e1ad47e68314b036bf8052a2",
       "version_major": 2,
       "version_minor": 0
      },
      "text/plain": [
       "  0%|          | 0/4000 [00:00<?, ?it/s]"
      ]
     },
     "metadata": {},
     "output_type": "display_data"
    },
    {
     "data": {
      "application/vnd.jupyter.widget-view+json": {
       "model_id": "6702eba745d24559a70162aa9b8ef89b",
       "version_major": 2,
       "version_minor": 0
      },
      "text/plain": [
       "  0%|          | 0/4000 [00:00<?, ?it/s]"
      ]
     },
     "metadata": {},
     "output_type": "display_data"
    },
    {
     "data": {
      "application/vnd.jupyter.widget-view+json": {
       "model_id": "d0ac14c5539449a5b5134958321f2811",
       "version_major": 2,
       "version_minor": 0
      },
      "text/plain": [
       "  0%|          | 0/4000 [00:00<?, ?it/s]"
      ]
     },
     "metadata": {},
     "output_type": "display_data"
    },
    {
     "data": {
      "application/vnd.jupyter.widget-view+json": {
       "model_id": "a875b27a3ed64db789c32eaa738b8f17",
       "version_major": 2,
       "version_minor": 0
      },
      "text/plain": [
       "  0%|          | 0/4000 [00:00<?, ?it/s]"
      ]
     },
     "metadata": {},
     "output_type": "display_data"
    },
    {
     "data": {
      "application/vnd.jupyter.widget-view+json": {
       "model_id": "feeaf3c9fa014e3ba877b179fa4edb90",
       "version_major": 2,
       "version_minor": 0
      },
      "text/plain": [
       "  0%|          | 0/4000 [00:00<?, ?it/s]"
      ]
     },
     "metadata": {},
     "output_type": "display_data"
    },
    {
     "data": {
      "application/vnd.jupyter.widget-view+json": {
       "model_id": "bd1ff7d552a64f9087822d3e9a8a979e",
       "version_major": 2,
       "version_minor": 0
      },
      "text/plain": [
       "  0%|          | 0/4000 [00:00<?, ?it/s]"
      ]
     },
     "metadata": {},
     "output_type": "display_data"
    },
    {
     "data": {
      "application/vnd.jupyter.widget-view+json": {
       "model_id": "818d17699ded4341a80cc97794493be5",
       "version_major": 2,
       "version_minor": 0
      },
      "text/plain": [
       "  0%|          | 0/4000 [00:00<?, ?it/s]"
      ]
     },
     "metadata": {},
     "output_type": "display_data"
    },
    {
     "data": {
      "application/vnd.jupyter.widget-view+json": {
       "model_id": "f0d3f04a494b41ddbb19056080fbf3bf",
       "version_major": 2,
       "version_minor": 0
      },
      "text/plain": [
       "  0%|          | 0/4000 [00:00<?, ?it/s]"
      ]
     },
     "metadata": {},
     "output_type": "display_data"
    },
    {
     "data": {
      "application/vnd.jupyter.widget-view+json": {
       "model_id": "80f50ab5087e4e65829b981948f165b5",
       "version_major": 2,
       "version_minor": 0
      },
      "text/plain": [
       "  0%|          | 0/4000 [00:00<?, ?it/s]"
      ]
     },
     "metadata": {},
     "output_type": "display_data"
    },
    {
     "data": {
      "application/vnd.jupyter.widget-view+json": {
       "model_id": "d98268d67c5d4ab995548c33669d8051",
       "version_major": 2,
       "version_minor": 0
      },
      "text/plain": [
       "  0%|          | 0/4000 [00:00<?, ?it/s]"
      ]
     },
     "metadata": {},
     "output_type": "display_data"
    },
    {
     "data": {
      "application/vnd.jupyter.widget-view+json": {
       "model_id": "2bab6797eb2d4a038a8f12dec47bbb27",
       "version_major": 2,
       "version_minor": 0
      },
      "text/plain": [
       "  0%|          | 0/4000 [00:00<?, ?it/s]"
      ]
     },
     "metadata": {},
     "output_type": "display_data"
    },
    {
     "data": {
      "application/vnd.jupyter.widget-view+json": {
       "model_id": "aa8a92aaa6a04d51b20b2ebc64e2728b",
       "version_major": 2,
       "version_minor": 0
      },
      "text/plain": [
       "  0%|          | 0/4000 [00:00<?, ?it/s]"
      ]
     },
     "metadata": {},
     "output_type": "display_data"
    },
    {
     "data": {
      "application/vnd.jupyter.widget-view+json": {
       "model_id": "bb60b4fed2644680a10ff089e62baf65",
       "version_major": 2,
       "version_minor": 0
      },
      "text/plain": [
       "  0%|          | 0/4000 [00:00<?, ?it/s]"
      ]
     },
     "metadata": {},
     "output_type": "display_data"
    },
    {
     "data": {
      "application/vnd.jupyter.widget-view+json": {
       "model_id": "420b234f53da4872b2a178b6b46cabdc",
       "version_major": 2,
       "version_minor": 0
      },
      "text/plain": [
       "  0%|          | 0/4000 [00:00<?, ?it/s]"
      ]
     },
     "metadata": {},
     "output_type": "display_data"
    },
    {
     "data": {
      "application/vnd.jupyter.widget-view+json": {
       "model_id": "054e8c10800b4be1b42a83f7a07d73a0",
       "version_major": 2,
       "version_minor": 0
      },
      "text/plain": [
       "  0%|          | 0/4000 [00:00<?, ?it/s]"
      ]
     },
     "metadata": {},
     "output_type": "display_data"
    },
    {
     "data": {
      "application/vnd.jupyter.widget-view+json": {
       "model_id": "f255b30aa9984605924a8d04c73ed8ba",
       "version_major": 2,
       "version_minor": 0
      },
      "text/plain": [
       "  0%|          | 0/4000 [00:00<?, ?it/s]"
      ]
     },
     "metadata": {},
     "output_type": "display_data"
    },
    {
     "data": {
      "application/vnd.jupyter.widget-view+json": {
       "model_id": "45b787049ca14d46a0387ba90297f032",
       "version_major": 2,
       "version_minor": 0
      },
      "text/plain": [
       "  0%|          | 0/4000 [00:00<?, ?it/s]"
      ]
     },
     "metadata": {},
     "output_type": "display_data"
    },
    {
     "data": {
      "application/vnd.jupyter.widget-view+json": {
       "model_id": "ac52fec881574225b0150325efd58e49",
       "version_major": 2,
       "version_minor": 0
      },
      "text/plain": [
       "  0%|          | 0/4000 [00:00<?, ?it/s]"
      ]
     },
     "metadata": {},
     "output_type": "display_data"
    },
    {
     "data": {
      "application/vnd.jupyter.widget-view+json": {
       "model_id": "9b919336d9b444b8aa9025c19a19bc64",
       "version_major": 2,
       "version_minor": 0
      },
      "text/plain": [
       "  0%|          | 0/4000 [00:00<?, ?it/s]"
      ]
     },
     "metadata": {},
     "output_type": "display_data"
    },
    {
     "data": {
      "application/vnd.jupyter.widget-view+json": {
       "model_id": "918dd1c1807a4abca3e22d9afbcf9d14",
       "version_major": 2,
       "version_minor": 0
      },
      "text/plain": [
       "  0%|          | 0/4000 [00:00<?, ?it/s]"
      ]
     },
     "metadata": {},
     "output_type": "display_data"
    },
    {
     "data": {
      "application/vnd.jupyter.widget-view+json": {
       "model_id": "8656538a554344c993bff3a89738bff1",
       "version_major": 2,
       "version_minor": 0
      },
      "text/plain": [
       "  0%|          | 0/4000 [00:00<?, ?it/s]"
      ]
     },
     "metadata": {},
     "output_type": "display_data"
    },
    {
     "data": {
      "application/vnd.jupyter.widget-view+json": {
       "model_id": "3cd79f94ef0241da9af3c3c8396642a2",
       "version_major": 2,
       "version_minor": 0
      },
      "text/plain": [
       "  0%|          | 0/4000 [00:00<?, ?it/s]"
      ]
     },
     "metadata": {},
     "output_type": "display_data"
    },
    {
     "data": {
      "application/vnd.jupyter.widget-view+json": {
       "model_id": "28196b2ca89447ed9626fb3ec9a107d6",
       "version_major": 2,
       "version_minor": 0
      },
      "text/plain": [
       "  0%|          | 0/4000 [00:00<?, ?it/s]"
      ]
     },
     "metadata": {},
     "output_type": "display_data"
    },
    {
     "data": {
      "application/vnd.jupyter.widget-view+json": {
       "model_id": "a1894b2d3b4c4123823eb3dc330fa27f",
       "version_major": 2,
       "version_minor": 0
      },
      "text/plain": [
       "  0%|          | 0/4000 [00:00<?, ?it/s]"
      ]
     },
     "metadata": {},
     "output_type": "display_data"
    },
    {
     "data": {
      "application/vnd.jupyter.widget-view+json": {
       "model_id": "0ce4fbaad5b14a5ba6dd23510acca274",
       "version_major": 2,
       "version_minor": 0
      },
      "text/plain": [
       "  0%|          | 0/4000 [00:00<?, ?it/s]"
      ]
     },
     "metadata": {},
     "output_type": "display_data"
    },
    {
     "data": {
      "application/vnd.jupyter.widget-view+json": {
       "model_id": "7a3f45ee0f824ffda31ef587499b7d4a",
       "version_major": 2,
       "version_minor": 0
      },
      "text/plain": [
       "  0%|          | 0/4000 [00:00<?, ?it/s]"
      ]
     },
     "metadata": {},
     "output_type": "display_data"
    },
    {
     "data": {
      "application/vnd.jupyter.widget-view+json": {
       "model_id": "02582cd0ef4f42d3ab95ca7c67085bb0",
       "version_major": 2,
       "version_minor": 0
      },
      "text/plain": [
       "  0%|          | 0/4000 [00:00<?, ?it/s]"
      ]
     },
     "metadata": {},
     "output_type": "display_data"
    },
    {
     "data": {
      "application/vnd.jupyter.widget-view+json": {
       "model_id": "51900b4d71cc4725978c66cf0ee03c33",
       "version_major": 2,
       "version_minor": 0
      },
      "text/plain": [
       "  0%|          | 0/4000 [00:00<?, ?it/s]"
      ]
     },
     "metadata": {},
     "output_type": "display_data"
    },
    {
     "data": {
      "application/vnd.jupyter.widget-view+json": {
       "model_id": "b06e75a3f7a34bbaa0d870076facdc28",
       "version_major": 2,
       "version_minor": 0
      },
      "text/plain": [
       "  0%|          | 0/4000 [00:00<?, ?it/s]"
      ]
     },
     "metadata": {},
     "output_type": "display_data"
    },
    {
     "data": {
      "application/vnd.jupyter.widget-view+json": {
       "model_id": "5372c2bbd6924107bbac93abe0dd2517",
       "version_major": 2,
       "version_minor": 0
      },
      "text/plain": [
       "  0%|          | 0/4000 [00:00<?, ?it/s]"
      ]
     },
     "metadata": {},
     "output_type": "display_data"
    },
    {
     "data": {
      "application/vnd.jupyter.widget-view+json": {
       "model_id": "e28074d787994d098c208cd41efe429f",
       "version_major": 2,
       "version_minor": 0
      },
      "text/plain": [
       "  0%|          | 0/4000 [00:00<?, ?it/s]"
      ]
     },
     "metadata": {},
     "output_type": "display_data"
    },
    {
     "data": {
      "application/vnd.jupyter.widget-view+json": {
       "model_id": "f8235de9f9c742618a50eff2ef07e726",
       "version_major": 2,
       "version_minor": 0
      },
      "text/plain": [
       "  0%|          | 0/4000 [00:00<?, ?it/s]"
      ]
     },
     "metadata": {},
     "output_type": "display_data"
    },
    {
     "data": {
      "application/vnd.jupyter.widget-view+json": {
       "model_id": "8ab1708848cc428e9e8b024aea7c3fc5",
       "version_major": 2,
       "version_minor": 0
      },
      "text/plain": [
       "  0%|          | 0/4000 [00:00<?, ?it/s]"
      ]
     },
     "metadata": {},
     "output_type": "display_data"
    },
    {
     "data": {
      "application/vnd.jupyter.widget-view+json": {
       "model_id": "72d60e5b79b64a06834304b2e81d6294",
       "version_major": 2,
       "version_minor": 0
      },
      "text/plain": [
       "  0%|          | 0/4000 [00:00<?, ?it/s]"
      ]
     },
     "metadata": {},
     "output_type": "display_data"
    },
    {
     "data": {
      "application/vnd.jupyter.widget-view+json": {
       "model_id": "186182b095f24cce80846685be48f64a",
       "version_major": 2,
       "version_minor": 0
      },
      "text/plain": [
       "  0%|          | 0/4000 [00:00<?, ?it/s]"
      ]
     },
     "metadata": {},
     "output_type": "display_data"
    },
    {
     "data": {
      "application/vnd.jupyter.widget-view+json": {
       "model_id": "f571d2d546d74f2692a4d38948bab75a",
       "version_major": 2,
       "version_minor": 0
      },
      "text/plain": [
       "  0%|          | 0/4000 [00:00<?, ?it/s]"
      ]
     },
     "metadata": {},
     "output_type": "display_data"
    },
    {
     "data": {
      "application/vnd.jupyter.widget-view+json": {
       "model_id": "0cd773ddb9344f6f82b7125928ea1843",
       "version_major": 2,
       "version_minor": 0
      },
      "text/plain": [
       "  0%|          | 0/4000 [00:00<?, ?it/s]"
      ]
     },
     "metadata": {},
     "output_type": "display_data"
    },
    {
     "data": {
      "application/vnd.jupyter.widget-view+json": {
       "model_id": "a8064506ef5a436cb64f71c8d6519840",
       "version_major": 2,
       "version_minor": 0
      },
      "text/plain": [
       "  0%|          | 0/4000 [00:00<?, ?it/s]"
      ]
     },
     "metadata": {},
     "output_type": "display_data"
    },
    {
     "data": {
      "application/vnd.jupyter.widget-view+json": {
       "model_id": "adcc6fd7219d4db5b51c530c2dce98b8",
       "version_major": 2,
       "version_minor": 0
      },
      "text/plain": [
       "  0%|          | 0/4000 [00:00<?, ?it/s]"
      ]
     },
     "metadata": {},
     "output_type": "display_data"
    },
    {
     "data": {
      "application/vnd.jupyter.widget-view+json": {
       "model_id": "af9451ecdd4f45cc8f16627c96137b97",
       "version_major": 2,
       "version_minor": 0
      },
      "text/plain": [
       "  0%|          | 0/4000 [00:00<?, ?it/s]"
      ]
     },
     "metadata": {},
     "output_type": "display_data"
    },
    {
     "data": {
      "application/vnd.jupyter.widget-view+json": {
       "model_id": "5dabe10d43824ea19bb07aa05570aef8",
       "version_major": 2,
       "version_minor": 0
      },
      "text/plain": [
       "  0%|          | 0/4000 [00:00<?, ?it/s]"
      ]
     },
     "metadata": {},
     "output_type": "display_data"
    },
    {
     "data": {
      "application/vnd.jupyter.widget-view+json": {
       "model_id": "11dd639d705a48f08dc1ebb29cef481e",
       "version_major": 2,
       "version_minor": 0
      },
      "text/plain": [
       "  0%|          | 0/4000 [00:00<?, ?it/s]"
      ]
     },
     "metadata": {},
     "output_type": "display_data"
    },
    {
     "data": {
      "application/vnd.jupyter.widget-view+json": {
       "model_id": "91d277b062e64fd0b2f4078e6552d555",
       "version_major": 2,
       "version_minor": 0
      },
      "text/plain": [
       "  0%|          | 0/4000 [00:00<?, ?it/s]"
      ]
     },
     "metadata": {},
     "output_type": "display_data"
    },
    {
     "data": {
      "application/vnd.jupyter.widget-view+json": {
       "model_id": "d7c72366082b4e2a966b4f312db9889c",
       "version_major": 2,
       "version_minor": 0
      },
      "text/plain": [
       "  0%|          | 0/4000 [00:00<?, ?it/s]"
      ]
     },
     "metadata": {},
     "output_type": "display_data"
    },
    {
     "data": {
      "application/vnd.jupyter.widget-view+json": {
       "model_id": "d2cddb58e83f4862828b1f3ae5d7ae9b",
       "version_major": 2,
       "version_minor": 0
      },
      "text/plain": [
       "  0%|          | 0/4000 [00:00<?, ?it/s]"
      ]
     },
     "metadata": {},
     "output_type": "display_data"
    },
    {
     "data": {
      "application/vnd.jupyter.widget-view+json": {
       "model_id": "87a9db75c1614462b3eb8d160b562bde",
       "version_major": 2,
       "version_minor": 0
      },
      "text/plain": [
       "  0%|          | 0/4000 [00:00<?, ?it/s]"
      ]
     },
     "metadata": {},
     "output_type": "display_data"
    },
    {
     "data": {
      "application/vnd.jupyter.widget-view+json": {
       "model_id": "be565b488bcb49d29954b8a4ca6a522c",
       "version_major": 2,
       "version_minor": 0
      },
      "text/plain": [
       "  0%|          | 0/4000 [00:00<?, ?it/s]"
      ]
     },
     "metadata": {},
     "output_type": "display_data"
    },
    {
     "data": {
      "application/vnd.jupyter.widget-view+json": {
       "model_id": "2db163f9a9fb4a7d939b252bafec411b",
       "version_major": 2,
       "version_minor": 0
      },
      "text/plain": [
       "  0%|          | 0/4000 [00:00<?, ?it/s]"
      ]
     },
     "metadata": {},
     "output_type": "display_data"
    },
    {
     "data": {
      "application/vnd.jupyter.widget-view+json": {
       "model_id": "a3eb90d251da4f83b1079a35fa2c1351",
       "version_major": 2,
       "version_minor": 0
      },
      "text/plain": [
       "  0%|          | 0/4000 [00:00<?, ?it/s]"
      ]
     },
     "metadata": {},
     "output_type": "display_data"
    },
    {
     "data": {
      "application/vnd.jupyter.widget-view+json": {
       "model_id": "b057c331e8b44f7cbb850323d6a0ff98",
       "version_major": 2,
       "version_minor": 0
      },
      "text/plain": [
       "  0%|          | 0/4000 [00:00<?, ?it/s]"
      ]
     },
     "metadata": {},
     "output_type": "display_data"
    },
    {
     "data": {
      "application/vnd.jupyter.widget-view+json": {
       "model_id": "6b0477e3b267480a840d0296efe9cbd5",
       "version_major": 2,
       "version_minor": 0
      },
      "text/plain": [
       "  0%|          | 0/4000 [00:00<?, ?it/s]"
      ]
     },
     "metadata": {},
     "output_type": "display_data"
    },
    {
     "data": {
      "application/vnd.jupyter.widget-view+json": {
       "model_id": "19a7f4315292498d9735a5402b43fd20",
       "version_major": 2,
       "version_minor": 0
      },
      "text/plain": [
       "  0%|          | 0/4000 [00:00<?, ?it/s]"
      ]
     },
     "metadata": {},
     "output_type": "display_data"
    },
    {
     "data": {
      "application/vnd.jupyter.widget-view+json": {
       "model_id": "57d933282ff8420984606f17b6e70833",
       "version_major": 2,
       "version_minor": 0
      },
      "text/plain": [
       "  0%|          | 0/4000 [00:00<?, ?it/s]"
      ]
     },
     "metadata": {},
     "output_type": "display_data"
    },
    {
     "data": {
      "application/vnd.jupyter.widget-view+json": {
       "model_id": "ea9e80857aff412ebd89781ad80a262b",
       "version_major": 2,
       "version_minor": 0
      },
      "text/plain": [
       "  0%|          | 0/4000 [00:00<?, ?it/s]"
      ]
     },
     "metadata": {},
     "output_type": "display_data"
    },
    {
     "data": {
      "application/vnd.jupyter.widget-view+json": {
       "model_id": "283448c5bf254fe28b7e17d665be85cf",
       "version_major": 2,
       "version_minor": 0
      },
      "text/plain": [
       "  0%|          | 0/4000 [00:00<?, ?it/s]"
      ]
     },
     "metadata": {},
     "output_type": "display_data"
    },
    {
     "data": {
      "application/vnd.jupyter.widget-view+json": {
       "model_id": "4bb921eca67d4623b65cbba631a6115a",
       "version_major": 2,
       "version_minor": 0
      },
      "text/plain": [
       "  0%|          | 0/4000 [00:00<?, ?it/s]"
      ]
     },
     "metadata": {},
     "output_type": "display_data"
    },
    {
     "data": {
      "application/vnd.jupyter.widget-view+json": {
       "model_id": "d7acafe3657e40c1aa27e56521a9c5b4",
       "version_major": 2,
       "version_minor": 0
      },
      "text/plain": [
       "  0%|          | 0/4000 [00:00<?, ?it/s]"
      ]
     },
     "metadata": {},
     "output_type": "display_data"
    },
    {
     "data": {
      "application/vnd.jupyter.widget-view+json": {
       "model_id": "eeec6b2472714898a77c6446e3627724",
       "version_major": 2,
       "version_minor": 0
      },
      "text/plain": [
       "  0%|          | 0/4000 [00:00<?, ?it/s]"
      ]
     },
     "metadata": {},
     "output_type": "display_data"
    },
    {
     "data": {
      "application/vnd.jupyter.widget-view+json": {
       "model_id": "54d3beba496d4191829df50b8fdbfb81",
       "version_major": 2,
       "version_minor": 0
      },
      "text/plain": [
       "  0%|          | 0/4000 [00:00<?, ?it/s]"
      ]
     },
     "metadata": {},
     "output_type": "display_data"
    },
    {
     "data": {
      "application/vnd.jupyter.widget-view+json": {
       "model_id": "899e5b0a49114c66ae4ed91907bf5283",
       "version_major": 2,
       "version_minor": 0
      },
      "text/plain": [
       "  0%|          | 0/4000 [00:00<?, ?it/s]"
      ]
     },
     "metadata": {},
     "output_type": "display_data"
    },
    {
     "data": {
      "application/vnd.jupyter.widget-view+json": {
       "model_id": "0e78913d9b8b428fafed1c62983eef38",
       "version_major": 2,
       "version_minor": 0
      },
      "text/plain": [
       "  0%|          | 0/4000 [00:00<?, ?it/s]"
      ]
     },
     "metadata": {},
     "output_type": "display_data"
    },
    {
     "data": {
      "application/vnd.jupyter.widget-view+json": {
       "model_id": "474926fbc6ba48b0917715fcc8510ae0",
       "version_major": 2,
       "version_minor": 0
      },
      "text/plain": [
       "  0%|          | 0/4000 [00:00<?, ?it/s]"
      ]
     },
     "metadata": {},
     "output_type": "display_data"
    },
    {
     "data": {
      "application/vnd.jupyter.widget-view+json": {
       "model_id": "11e3a3256d4c445580989fe4734c3a6e",
       "version_major": 2,
       "version_minor": 0
      },
      "text/plain": [
       "  0%|          | 0/4000 [00:00<?, ?it/s]"
      ]
     },
     "metadata": {},
     "output_type": "display_data"
    },
    {
     "data": {
      "application/vnd.jupyter.widget-view+json": {
       "model_id": "177f8fff377c47e799317ceadb90fac5",
       "version_major": 2,
       "version_minor": 0
      },
      "text/plain": [
       "  0%|          | 0/4000 [00:00<?, ?it/s]"
      ]
     },
     "metadata": {},
     "output_type": "display_data"
    },
    {
     "data": {
      "application/vnd.jupyter.widget-view+json": {
       "model_id": "b56c0d4c11ec44af8ce75c3800e9efbf",
       "version_major": 2,
       "version_minor": 0
      },
      "text/plain": [
       "  0%|          | 0/4000 [00:00<?, ?it/s]"
      ]
     },
     "metadata": {},
     "output_type": "display_data"
    },
    {
     "data": {
      "application/vnd.jupyter.widget-view+json": {
       "model_id": "4f7ac3825f0d4432b37f3b26fda9ad67",
       "version_major": 2,
       "version_minor": 0
      },
      "text/plain": [
       "  0%|          | 0/4000 [00:00<?, ?it/s]"
      ]
     },
     "metadata": {},
     "output_type": "display_data"
    },
    {
     "data": {
      "application/vnd.jupyter.widget-view+json": {
       "model_id": "8805274ad13844a7a6689a724a668080",
       "version_major": 2,
       "version_minor": 0
      },
      "text/plain": [
       "  0%|          | 0/4000 [00:00<?, ?it/s]"
      ]
     },
     "metadata": {},
     "output_type": "display_data"
    },
    {
     "data": {
      "application/vnd.jupyter.widget-view+json": {
       "model_id": "58b81325c3894dba9d3b30c9426fa04d",
       "version_major": 2,
       "version_minor": 0
      },
      "text/plain": [
       "  0%|          | 0/4000 [00:00<?, ?it/s]"
      ]
     },
     "metadata": {},
     "output_type": "display_data"
    },
    {
     "data": {
      "application/vnd.jupyter.widget-view+json": {
       "model_id": "b4390d9a490249eb9851a952ab2fbe9c",
       "version_major": 2,
       "version_minor": 0
      },
      "text/plain": [
       "  0%|          | 0/4000 [00:00<?, ?it/s]"
      ]
     },
     "metadata": {},
     "output_type": "display_data"
    },
    {
     "data": {
      "application/vnd.jupyter.widget-view+json": {
       "model_id": "40984495677a43e5982ba49b250ce2dd",
       "version_major": 2,
       "version_minor": 0
      },
      "text/plain": [
       "  0%|          | 0/4000 [00:00<?, ?it/s]"
      ]
     },
     "metadata": {},
     "output_type": "display_data"
    },
    {
     "data": {
      "application/vnd.jupyter.widget-view+json": {
       "model_id": "4b8f55c4f2fa4129a42d9a07480a9e1a",
       "version_major": 2,
       "version_minor": 0
      },
      "text/plain": [
       "  0%|          | 0/4000 [00:00<?, ?it/s]"
      ]
     },
     "metadata": {},
     "output_type": "display_data"
    },
    {
     "data": {
      "application/vnd.jupyter.widget-view+json": {
       "model_id": "79035bc22bb8489d9692ff5c972de6fb",
       "version_major": 2,
       "version_minor": 0
      },
      "text/plain": [
       "  0%|          | 0/4000 [00:00<?, ?it/s]"
      ]
     },
     "metadata": {},
     "output_type": "display_data"
    },
    {
     "data": {
      "application/vnd.jupyter.widget-view+json": {
       "model_id": "eb5f4244ef674980aee67400d2b9e617",
       "version_major": 2,
       "version_minor": 0
      },
      "text/plain": [
       "  0%|          | 0/4000 [00:00<?, ?it/s]"
      ]
     },
     "metadata": {},
     "output_type": "display_data"
    },
    {
     "data": {
      "application/vnd.jupyter.widget-view+json": {
       "model_id": "250e5dfc42274e09ab8d3709c3869932",
       "version_major": 2,
       "version_minor": 0
      },
      "text/plain": [
       "  0%|          | 0/4000 [00:00<?, ?it/s]"
      ]
     },
     "metadata": {},
     "output_type": "display_data"
    },
    {
     "data": {
      "application/vnd.jupyter.widget-view+json": {
       "model_id": "5973d6d9a13747dbbff87a087dfb6ce0",
       "version_major": 2,
       "version_minor": 0
      },
      "text/plain": [
       "  0%|          | 0/4000 [00:00<?, ?it/s]"
      ]
     },
     "metadata": {},
     "output_type": "display_data"
    },
    {
     "data": {
      "application/vnd.jupyter.widget-view+json": {
       "model_id": "b37c5b1441bc4f7cb0ba264cf886898e",
       "version_major": 2,
       "version_minor": 0
      },
      "text/plain": [
       "  0%|          | 0/4000 [00:00<?, ?it/s]"
      ]
     },
     "metadata": {},
     "output_type": "display_data"
    },
    {
     "data": {
      "application/vnd.jupyter.widget-view+json": {
       "model_id": "57b12e74617248f5ac2fad61720af20b",
       "version_major": 2,
       "version_minor": 0
      },
      "text/plain": [
       "  0%|          | 0/4000 [00:00<?, ?it/s]"
      ]
     },
     "metadata": {},
     "output_type": "display_data"
    },
    {
     "data": {
      "application/vnd.jupyter.widget-view+json": {
       "model_id": "02c794a7fb214236b67ba9e2a40e6b0e",
       "version_major": 2,
       "version_minor": 0
      },
      "text/plain": [
       "  0%|          | 0/4000 [00:00<?, ?it/s]"
      ]
     },
     "metadata": {},
     "output_type": "display_data"
    },
    {
     "data": {
      "application/vnd.jupyter.widget-view+json": {
       "model_id": "5ffe0212a8824a41a809cfe3603cc439",
       "version_major": 2,
       "version_minor": 0
      },
      "text/plain": [
       "  0%|          | 0/4000 [00:00<?, ?it/s]"
      ]
     },
     "metadata": {},
     "output_type": "display_data"
    },
    {
     "data": {
      "application/vnd.jupyter.widget-view+json": {
       "model_id": "ca592d093e014ec4a58758be8dde840b",
       "version_major": 2,
       "version_minor": 0
      },
      "text/plain": [
       "  0%|          | 0/4000 [00:00<?, ?it/s]"
      ]
     },
     "metadata": {},
     "output_type": "display_data"
    },
    {
     "data": {
      "application/vnd.jupyter.widget-view+json": {
       "model_id": "b086de6ea50540799606a5a1272821be",
       "version_major": 2,
       "version_minor": 0
      },
      "text/plain": [
       "  0%|          | 0/4000 [00:00<?, ?it/s]"
      ]
     },
     "metadata": {},
     "output_type": "display_data"
    },
    {
     "data": {
      "application/vnd.jupyter.widget-view+json": {
       "model_id": "8bd62b4f03ea447f8c6a202753cf2abf",
       "version_major": 2,
       "version_minor": 0
      },
      "text/plain": [
       "  0%|          | 0/4000 [00:00<?, ?it/s]"
      ]
     },
     "metadata": {},
     "output_type": "display_data"
    },
    {
     "data": {
      "application/vnd.jupyter.widget-view+json": {
       "model_id": "f18d04c32b754e7a8fd6d80a238ded6a",
       "version_major": 2,
       "version_minor": 0
      },
      "text/plain": [
       "  0%|          | 0/4000 [00:00<?, ?it/s]"
      ]
     },
     "metadata": {},
     "output_type": "display_data"
    },
    {
     "data": {
      "application/vnd.jupyter.widget-view+json": {
       "model_id": "f2aecb0f5c0c4eeea291fc1ee07ba535",
       "version_major": 2,
       "version_minor": 0
      },
      "text/plain": [
       "  0%|          | 0/4000 [00:00<?, ?it/s]"
      ]
     },
     "metadata": {},
     "output_type": "display_data"
    },
    {
     "data": {
      "application/vnd.jupyter.widget-view+json": {
       "model_id": "ae9db53f889e447e8e97b8ac8c66773e",
       "version_major": 2,
       "version_minor": 0
      },
      "text/plain": [
       "  0%|          | 0/4000 [00:00<?, ?it/s]"
      ]
     },
     "metadata": {},
     "output_type": "display_data"
    },
    {
     "data": {
      "application/vnd.jupyter.widget-view+json": {
       "model_id": "109050eea94c4291b1e7a9db766acf6b",
       "version_major": 2,
       "version_minor": 0
      },
      "text/plain": [
       "  0%|          | 0/4000 [00:00<?, ?it/s]"
      ]
     },
     "metadata": {},
     "output_type": "display_data"
    },
    {
     "data": {
      "application/vnd.jupyter.widget-view+json": {
       "model_id": "e7a4233c87db46dda634bea057958493",
       "version_major": 2,
       "version_minor": 0
      },
      "text/plain": [
       "  0%|          | 0/4000 [00:00<?, ?it/s]"
      ]
     },
     "metadata": {},
     "output_type": "display_data"
    },
    {
     "data": {
      "application/vnd.jupyter.widget-view+json": {
       "model_id": "527e21f62bc3466cabaf855d2b00b2ca",
       "version_major": 2,
       "version_minor": 0
      },
      "text/plain": [
       "  0%|          | 0/4000 [00:00<?, ?it/s]"
      ]
     },
     "metadata": {},
     "output_type": "display_data"
    },
    {
     "data": {
      "application/vnd.jupyter.widget-view+json": {
       "model_id": "f24dda9fd1fa4a3aa8d57236363b35de",
       "version_major": 2,
       "version_minor": 0
      },
      "text/plain": [
       "  0%|          | 0/4000 [00:00<?, ?it/s]"
      ]
     },
     "metadata": {},
     "output_type": "display_data"
    },
    {
     "data": {
      "application/vnd.jupyter.widget-view+json": {
       "model_id": "4abcc1390f504de8b71501d11a3a9744",
       "version_major": 2,
       "version_minor": 0
      },
      "text/plain": [
       "  0%|          | 0/4000 [00:00<?, ?it/s]"
      ]
     },
     "metadata": {},
     "output_type": "display_data"
    },
    {
     "data": {
      "application/vnd.jupyter.widget-view+json": {
       "model_id": "6ade789e7f1044859002b3f0b1acbb48",
       "version_major": 2,
       "version_minor": 0
      },
      "text/plain": [
       "  0%|          | 0/4000 [00:00<?, ?it/s]"
      ]
     },
     "metadata": {},
     "output_type": "display_data"
    },
    {
     "data": {
      "application/vnd.jupyter.widget-view+json": {
       "model_id": "c275bf9190c74f48aaa3ffc27db0997f",
       "version_major": 2,
       "version_minor": 0
      },
      "text/plain": [
       "  0%|          | 0/4000 [00:00<?, ?it/s]"
      ]
     },
     "metadata": {},
     "output_type": "display_data"
    },
    {
     "data": {
      "application/vnd.jupyter.widget-view+json": {
       "model_id": "905a7deb90094984b4a66a94d93dfc91",
       "version_major": 2,
       "version_minor": 0
      },
      "text/plain": [
       "  0%|          | 0/4000 [00:00<?, ?it/s]"
      ]
     },
     "metadata": {},
     "output_type": "display_data"
    },
    {
     "data": {
      "application/vnd.jupyter.widget-view+json": {
       "model_id": "99e1982bd0fc40168b42b7ab514f5755",
       "version_major": 2,
       "version_minor": 0
      },
      "text/plain": [
       "  0%|          | 0/4000 [00:00<?, ?it/s]"
      ]
     },
     "metadata": {},
     "output_type": "display_data"
    },
    {
     "data": {
      "application/vnd.jupyter.widget-view+json": {
       "model_id": "9ab72046d5dd4862b8e4c8d8775f788c",
       "version_major": 2,
       "version_minor": 0
      },
      "text/plain": [
       "  0%|          | 0/4000 [00:00<?, ?it/s]"
      ]
     },
     "metadata": {},
     "output_type": "display_data"
    },
    {
     "data": {
      "application/vnd.jupyter.widget-view+json": {
       "model_id": "7e1603bb4f3e4630980089f76301b755",
       "version_major": 2,
       "version_minor": 0
      },
      "text/plain": [
       "  0%|          | 0/4000 [00:00<?, ?it/s]"
      ]
     },
     "metadata": {},
     "output_type": "display_data"
    },
    {
     "data": {
      "application/vnd.jupyter.widget-view+json": {
       "model_id": "ebed475f19774945b889739f3b1957d9",
       "version_major": 2,
       "version_minor": 0
      },
      "text/plain": [
       "  0%|          | 0/4000 [00:00<?, ?it/s]"
      ]
     },
     "metadata": {},
     "output_type": "display_data"
    },
    {
     "data": {
      "application/vnd.jupyter.widget-view+json": {
       "model_id": "0796ee9145b3404a9c1ed298aa530190",
       "version_major": 2,
       "version_minor": 0
      },
      "text/plain": [
       "  0%|          | 0/4000 [00:00<?, ?it/s]"
      ]
     },
     "metadata": {},
     "output_type": "display_data"
    },
    {
     "data": {
      "application/vnd.jupyter.widget-view+json": {
       "model_id": "fd805ce50113404bbda4dbdce463dcf1",
       "version_major": 2,
       "version_minor": 0
      },
      "text/plain": [
       "  0%|          | 0/4000 [00:00<?, ?it/s]"
      ]
     },
     "metadata": {},
     "output_type": "display_data"
    },
    {
     "data": {
      "application/vnd.jupyter.widget-view+json": {
       "model_id": "6b5b8a9ba2d04493b20cc86d1a27219e",
       "version_major": 2,
       "version_minor": 0
      },
      "text/plain": [
       "  0%|          | 0/4000 [00:00<?, ?it/s]"
      ]
     },
     "metadata": {},
     "output_type": "display_data"
    },
    {
     "data": {
      "application/vnd.jupyter.widget-view+json": {
       "model_id": "b5046bc1d5c94b74b48a8a11eb75d7a8",
       "version_major": 2,
       "version_minor": 0
      },
      "text/plain": [
       "  0%|          | 0/4000 [00:00<?, ?it/s]"
      ]
     },
     "metadata": {},
     "output_type": "display_data"
    },
    {
     "data": {
      "application/vnd.jupyter.widget-view+json": {
       "model_id": "af4a2635d57d4b0f88f86402ee5a6def",
       "version_major": 2,
       "version_minor": 0
      },
      "text/plain": [
       "  0%|          | 0/4000 [00:00<?, ?it/s]"
      ]
     },
     "metadata": {},
     "output_type": "display_data"
    },
    {
     "data": {
      "application/vnd.jupyter.widget-view+json": {
       "model_id": "0b0a46544f8946c899647416faecdfad",
       "version_major": 2,
       "version_minor": 0
      },
      "text/plain": [
       "  0%|          | 0/4000 [00:00<?, ?it/s]"
      ]
     },
     "metadata": {},
     "output_type": "display_data"
    },
    {
     "data": {
      "application/vnd.jupyter.widget-view+json": {
       "model_id": "51bb4aba266647ee88f8cb7c675765cc",
       "version_major": 2,
       "version_minor": 0
      },
      "text/plain": [
       "  0%|          | 0/4000 [00:00<?, ?it/s]"
      ]
     },
     "metadata": {},
     "output_type": "display_data"
    },
    {
     "data": {
      "application/vnd.jupyter.widget-view+json": {
       "model_id": "33c4b5a5825246b783fe8f1d51959e2c",
       "version_major": 2,
       "version_minor": 0
      },
      "text/plain": [
       "  0%|          | 0/4000 [00:00<?, ?it/s]"
      ]
     },
     "metadata": {},
     "output_type": "display_data"
    },
    {
     "data": {
      "application/vnd.jupyter.widget-view+json": {
       "model_id": "6576134e0e484b84af64868535ee0850",
       "version_major": 2,
       "version_minor": 0
      },
      "text/plain": [
       "  0%|          | 0/4000 [00:00<?, ?it/s]"
      ]
     },
     "metadata": {},
     "output_type": "display_data"
    },
    {
     "data": {
      "application/vnd.jupyter.widget-view+json": {
       "model_id": "8411bb7870c240a69961162e62286222",
       "version_major": 2,
       "version_minor": 0
      },
      "text/plain": [
       "  0%|          | 0/4000 [00:00<?, ?it/s]"
      ]
     },
     "metadata": {},
     "output_type": "display_data"
    },
    {
     "data": {
      "application/vnd.jupyter.widget-view+json": {
       "model_id": "3593c2a787d14cc68a63244fbf6a6710",
       "version_major": 2,
       "version_minor": 0
      },
      "text/plain": [
       "  0%|          | 0/4000 [00:00<?, ?it/s]"
      ]
     },
     "metadata": {},
     "output_type": "display_data"
    },
    {
     "data": {
      "application/vnd.jupyter.widget-view+json": {
       "model_id": "8507c438e38446f7b19744d0bd784b2e",
       "version_major": 2,
       "version_minor": 0
      },
      "text/plain": [
       "  0%|          | 0/4000 [00:00<?, ?it/s]"
      ]
     },
     "metadata": {},
     "output_type": "display_data"
    },
    {
     "data": {
      "application/vnd.jupyter.widget-view+json": {
       "model_id": "6907b72a79674a61b8ebf5ed0136cad6",
       "version_major": 2,
       "version_minor": 0
      },
      "text/plain": [
       "  0%|          | 0/4000 [00:00<?, ?it/s]"
      ]
     },
     "metadata": {},
     "output_type": "display_data"
    },
    {
     "data": {
      "application/vnd.jupyter.widget-view+json": {
       "model_id": "344e99fcf6de4befb14d841587ce06b6",
       "version_major": 2,
       "version_minor": 0
      },
      "text/plain": [
       "  0%|          | 0/4000 [00:00<?, ?it/s]"
      ]
     },
     "metadata": {},
     "output_type": "display_data"
    },
    {
     "data": {
      "application/vnd.jupyter.widget-view+json": {
       "model_id": "43649acaa3d444129135992c1f18901d",
       "version_major": 2,
       "version_minor": 0
      },
      "text/plain": [
       "  0%|          | 0/4000 [00:00<?, ?it/s]"
      ]
     },
     "metadata": {},
     "output_type": "display_data"
    },
    {
     "data": {
      "application/vnd.jupyter.widget-view+json": {
       "model_id": "33dbcea062b24b35ad12ab2fc66796b3",
       "version_major": 2,
       "version_minor": 0
      },
      "text/plain": [
       "  0%|          | 0/4000 [00:00<?, ?it/s]"
      ]
     },
     "metadata": {},
     "output_type": "display_data"
    },
    {
     "data": {
      "application/vnd.jupyter.widget-view+json": {
       "model_id": "e182f96637ab400f939dbbfcffbbe8fb",
       "version_major": 2,
       "version_minor": 0
      },
      "text/plain": [
       "  0%|          | 0/4000 [00:00<?, ?it/s]"
      ]
     },
     "metadata": {},
     "output_type": "display_data"
    },
    {
     "data": {
      "application/vnd.jupyter.widget-view+json": {
       "model_id": "2231c98bb68646d5bc8bacce2f949bd4",
       "version_major": 2,
       "version_minor": 0
      },
      "text/plain": [
       "  0%|          | 0/4000 [00:00<?, ?it/s]"
      ]
     },
     "metadata": {},
     "output_type": "display_data"
    },
    {
     "data": {
      "application/vnd.jupyter.widget-view+json": {
       "model_id": "39f09ca68a7341b8b1e41e802d5ca8b6",
       "version_major": 2,
       "version_minor": 0
      },
      "text/plain": [
       "  0%|          | 0/4000 [00:00<?, ?it/s]"
      ]
     },
     "metadata": {},
     "output_type": "display_data"
    },
    {
     "data": {
      "application/vnd.jupyter.widget-view+json": {
       "model_id": "fc0afc3b35b040fdbfb908466451a0e6",
       "version_major": 2,
       "version_minor": 0
      },
      "text/plain": [
       "  0%|          | 0/4000 [00:00<?, ?it/s]"
      ]
     },
     "metadata": {},
     "output_type": "display_data"
    },
    {
     "data": {
      "application/vnd.jupyter.widget-view+json": {
       "model_id": "e7d28ca4481b4e3f801619ea241afab8",
       "version_major": 2,
       "version_minor": 0
      },
      "text/plain": [
       "  0%|          | 0/4000 [00:00<?, ?it/s]"
      ]
     },
     "metadata": {},
     "output_type": "display_data"
    },
    {
     "data": {
      "application/vnd.jupyter.widget-view+json": {
       "model_id": "1230718b90bf41b2a080f6aefa624293",
       "version_major": 2,
       "version_minor": 0
      },
      "text/plain": [
       "  0%|          | 0/4000 [00:00<?, ?it/s]"
      ]
     },
     "metadata": {},
     "output_type": "display_data"
    },
    {
     "data": {
      "application/vnd.jupyter.widget-view+json": {
       "model_id": "2fabc4e6ceb54b2aace72261e534e404",
       "version_major": 2,
       "version_minor": 0
      },
      "text/plain": [
       "  0%|          | 0/4000 [00:00<?, ?it/s]"
      ]
     },
     "metadata": {},
     "output_type": "display_data"
    },
    {
     "data": {
      "application/vnd.jupyter.widget-view+json": {
       "model_id": "aab7d5faad4d4c0a92e5cd10b77496c6",
       "version_major": 2,
       "version_minor": 0
      },
      "text/plain": [
       "  0%|          | 0/4000 [00:00<?, ?it/s]"
      ]
     },
     "metadata": {},
     "output_type": "display_data"
    },
    {
     "data": {
      "application/vnd.jupyter.widget-view+json": {
       "model_id": "649ba8fe934749c7a94473f30fdf151d",
       "version_major": 2,
       "version_minor": 0
      },
      "text/plain": [
       "  0%|          | 0/4000 [00:00<?, ?it/s]"
      ]
     },
     "metadata": {},
     "output_type": "display_data"
    },
    {
     "data": {
      "application/vnd.jupyter.widget-view+json": {
       "model_id": "6365254c455e426b871bad4d4cdae9c2",
       "version_major": 2,
       "version_minor": 0
      },
      "text/plain": [
       "  0%|          | 0/4000 [00:00<?, ?it/s]"
      ]
     },
     "metadata": {},
     "output_type": "display_data"
    },
    {
     "data": {
      "application/vnd.jupyter.widget-view+json": {
       "model_id": "3ddbe5f392b9420fa18b741600eca1df",
       "version_major": 2,
       "version_minor": 0
      },
      "text/plain": [
       "  0%|          | 0/4000 [00:00<?, ?it/s]"
      ]
     },
     "metadata": {},
     "output_type": "display_data"
    },
    {
     "data": {
      "application/vnd.jupyter.widget-view+json": {
       "model_id": "fa433f66886b49c2b1e4a436535b0d97",
       "version_major": 2,
       "version_minor": 0
      },
      "text/plain": [
       "  0%|          | 0/4000 [00:00<?, ?it/s]"
      ]
     },
     "metadata": {},
     "output_type": "display_data"
    },
    {
     "data": {
      "application/vnd.jupyter.widget-view+json": {
       "model_id": "cbb178d184b348fbaab730f10c7b6249",
       "version_major": 2,
       "version_minor": 0
      },
      "text/plain": [
       "  0%|          | 0/4000 [00:00<?, ?it/s]"
      ]
     },
     "metadata": {},
     "output_type": "display_data"
    },
    {
     "data": {
      "application/vnd.jupyter.widget-view+json": {
       "model_id": "0774a7c74d2445059187e90b050f1716",
       "version_major": 2,
       "version_minor": 0
      },
      "text/plain": [
       "  0%|          | 0/4000 [00:00<?, ?it/s]"
      ]
     },
     "metadata": {},
     "output_type": "display_data"
    },
    {
     "data": {
      "application/vnd.jupyter.widget-view+json": {
       "model_id": "5521d02ffdf9438385c0aacecfd10d7e",
       "version_major": 2,
       "version_minor": 0
      },
      "text/plain": [
       "  0%|          | 0/4000 [00:00<?, ?it/s]"
      ]
     },
     "metadata": {},
     "output_type": "display_data"
    },
    {
     "data": {
      "application/vnd.jupyter.widget-view+json": {
       "model_id": "582ac462522d449b81fc176755d6876b",
       "version_major": 2,
       "version_minor": 0
      },
      "text/plain": [
       "  0%|          | 0/4000 [00:00<?, ?it/s]"
      ]
     },
     "metadata": {},
     "output_type": "display_data"
    },
    {
     "data": {
      "application/vnd.jupyter.widget-view+json": {
       "model_id": "ef7f947611e440dbac3424dd4af59ef6",
       "version_major": 2,
       "version_minor": 0
      },
      "text/plain": [
       "  0%|          | 0/4000 [00:00<?, ?it/s]"
      ]
     },
     "metadata": {},
     "output_type": "display_data"
    },
    {
     "data": {
      "application/vnd.jupyter.widget-view+json": {
       "model_id": "1066c26462c843d5afbcbedd4bfddf89",
       "version_major": 2,
       "version_minor": 0
      },
      "text/plain": [
       "  0%|          | 0/4000 [00:00<?, ?it/s]"
      ]
     },
     "metadata": {},
     "output_type": "display_data"
    },
    {
     "data": {
      "application/vnd.jupyter.widget-view+json": {
       "model_id": "54de474ec26e49b8aa3ab58e7093de10",
       "version_major": 2,
       "version_minor": 0
      },
      "text/plain": [
       "  0%|          | 0/4000 [00:00<?, ?it/s]"
      ]
     },
     "metadata": {},
     "output_type": "display_data"
    },
    {
     "data": {
      "application/vnd.jupyter.widget-view+json": {
       "model_id": "d3b3c3bdd247480bae7fd270a6746bcc",
       "version_major": 2,
       "version_minor": 0
      },
      "text/plain": [
       "  0%|          | 0/4000 [00:00<?, ?it/s]"
      ]
     },
     "metadata": {},
     "output_type": "display_data"
    },
    {
     "data": {
      "application/vnd.jupyter.widget-view+json": {
       "model_id": "5758fab9e0b84b96854cc5bbf264dd32",
       "version_major": 2,
       "version_minor": 0
      },
      "text/plain": [
       "  0%|          | 0/4000 [00:00<?, ?it/s]"
      ]
     },
     "metadata": {},
     "output_type": "display_data"
    },
    {
     "data": {
      "application/vnd.jupyter.widget-view+json": {
       "model_id": "61cb370ca9134324acbf3d062ee97cd1",
       "version_major": 2,
       "version_minor": 0
      },
      "text/plain": [
       "  0%|          | 0/4000 [00:00<?, ?it/s]"
      ]
     },
     "metadata": {},
     "output_type": "display_data"
    },
    {
     "data": {
      "application/vnd.jupyter.widget-view+json": {
       "model_id": "81307cd1e15e45f497317454004d5fb2",
       "version_major": 2,
       "version_minor": 0
      },
      "text/plain": [
       "  0%|          | 0/4000 [00:00<?, ?it/s]"
      ]
     },
     "metadata": {},
     "output_type": "display_data"
    },
    {
     "data": {
      "application/vnd.jupyter.widget-view+json": {
       "model_id": "f6f0756c97fe417ea3c643086e4ad2fa",
       "version_major": 2,
       "version_minor": 0
      },
      "text/plain": [
       "  0%|          | 0/4000 [00:00<?, ?it/s]"
      ]
     },
     "metadata": {},
     "output_type": "display_data"
    },
    {
     "data": {
      "application/vnd.jupyter.widget-view+json": {
       "model_id": "1a8be8904f86409da68280d1884ec3b0",
       "version_major": 2,
       "version_minor": 0
      },
      "text/plain": [
       "  0%|          | 0/4000 [00:00<?, ?it/s]"
      ]
     },
     "metadata": {},
     "output_type": "display_data"
    },
    {
     "data": {
      "application/vnd.jupyter.widget-view+json": {
       "model_id": "8f1fd0a2170f4c63b3c3aeaca566892f",
       "version_major": 2,
       "version_minor": 0
      },
      "text/plain": [
       "  0%|          | 0/4000 [00:00<?, ?it/s]"
      ]
     },
     "metadata": {},
     "output_type": "display_data"
    },
    {
     "data": {
      "application/vnd.jupyter.widget-view+json": {
       "model_id": "a04f5df418eb44c4854e8eed086d9a32",
       "version_major": 2,
       "version_minor": 0
      },
      "text/plain": [
       "  0%|          | 0/4000 [00:00<?, ?it/s]"
      ]
     },
     "metadata": {},
     "output_type": "display_data"
    },
    {
     "data": {
      "application/vnd.jupyter.widget-view+json": {
       "model_id": "d387cc311fc54f578f7ccfab6f17b5cc",
       "version_major": 2,
       "version_minor": 0
      },
      "text/plain": [
       "  0%|          | 0/4000 [00:00<?, ?it/s]"
      ]
     },
     "metadata": {},
     "output_type": "display_data"
    },
    {
     "data": {
      "application/vnd.jupyter.widget-view+json": {
       "model_id": "e0301fe8af8b4f12bf533a84072bd6da",
       "version_major": 2,
       "version_minor": 0
      },
      "text/plain": [
       "  0%|          | 0/4000 [00:00<?, ?it/s]"
      ]
     },
     "metadata": {},
     "output_type": "display_data"
    },
    {
     "data": {
      "application/vnd.jupyter.widget-view+json": {
       "model_id": "ac4c636f18be4b72acc04c53ead4fd4a",
       "version_major": 2,
       "version_minor": 0
      },
      "text/plain": [
       "  0%|          | 0/4000 [00:00<?, ?it/s]"
      ]
     },
     "metadata": {},
     "output_type": "display_data"
    },
    {
     "data": {
      "application/vnd.jupyter.widget-view+json": {
       "model_id": "ccdf6e7ea393456e9de08fc522a0ed6a",
       "version_major": 2,
       "version_minor": 0
      },
      "text/plain": [
       "  0%|          | 0/4000 [00:00<?, ?it/s]"
      ]
     },
     "metadata": {},
     "output_type": "display_data"
    },
    {
     "data": {
      "application/vnd.jupyter.widget-view+json": {
       "model_id": "35a6ae3c4e194eed9302370ad78067a7",
       "version_major": 2,
       "version_minor": 0
      },
      "text/plain": [
       "  0%|          | 0/4000 [00:00<?, ?it/s]"
      ]
     },
     "metadata": {},
     "output_type": "display_data"
    },
    {
     "data": {
      "application/vnd.jupyter.widget-view+json": {
       "model_id": "d9bc29d4c6444dc99eb51f6eb9c80257",
       "version_major": 2,
       "version_minor": 0
      },
      "text/plain": [
       "  0%|          | 0/4000 [00:00<?, ?it/s]"
      ]
     },
     "metadata": {},
     "output_type": "display_data"
    },
    {
     "data": {
      "application/vnd.jupyter.widget-view+json": {
       "model_id": "b71629d512e54ce58ed32d93391ec1ae",
       "version_major": 2,
       "version_minor": 0
      },
      "text/plain": [
       "  0%|          | 0/4000 [00:00<?, ?it/s]"
      ]
     },
     "metadata": {},
     "output_type": "display_data"
    },
    {
     "data": {
      "application/vnd.jupyter.widget-view+json": {
       "model_id": "8676bf970de243fa98792a86f812c144",
       "version_major": 2,
       "version_minor": 0
      },
      "text/plain": [
       "  0%|          | 0/4000 [00:00<?, ?it/s]"
      ]
     },
     "metadata": {},
     "output_type": "display_data"
    },
    {
     "data": {
      "application/vnd.jupyter.widget-view+json": {
       "model_id": "b3350287e3c9437eaad88d17c2d9b337",
       "version_major": 2,
       "version_minor": 0
      },
      "text/plain": [
       "  0%|          | 0/4000 [00:00<?, ?it/s]"
      ]
     },
     "metadata": {},
     "output_type": "display_data"
    },
    {
     "data": {
      "application/vnd.jupyter.widget-view+json": {
       "model_id": "e5278c2231f64315af20b0b132405347",
       "version_major": 2,
       "version_minor": 0
      },
      "text/plain": [
       "  0%|          | 0/4000 [00:00<?, ?it/s]"
      ]
     },
     "metadata": {},
     "output_type": "display_data"
    },
    {
     "data": {
      "application/vnd.jupyter.widget-view+json": {
       "model_id": "8af1f85744ac45149e405070325a922c",
       "version_major": 2,
       "version_minor": 0
      },
      "text/plain": [
       "  0%|          | 0/4000 [00:00<?, ?it/s]"
      ]
     },
     "metadata": {},
     "output_type": "display_data"
    },
    {
     "data": {
      "application/vnd.jupyter.widget-view+json": {
       "model_id": "6f6aa4f8a0614b94ada43c588772d0f3",
       "version_major": 2,
       "version_minor": 0
      },
      "text/plain": [
       "  0%|          | 0/4000 [00:00<?, ?it/s]"
      ]
     },
     "metadata": {},
     "output_type": "display_data"
    },
    {
     "data": {
      "application/vnd.jupyter.widget-view+json": {
       "model_id": "9c70538cc075492b950beb6b165c31b6",
       "version_major": 2,
       "version_minor": 0
      },
      "text/plain": [
       "  0%|          | 0/4000 [00:00<?, ?it/s]"
      ]
     },
     "metadata": {},
     "output_type": "display_data"
    },
    {
     "data": {
      "application/vnd.jupyter.widget-view+json": {
       "model_id": "f5c7cc75807e4d65a80981285b6bc303",
       "version_major": 2,
       "version_minor": 0
      },
      "text/plain": [
       "  0%|          | 0/4000 [00:00<?, ?it/s]"
      ]
     },
     "metadata": {},
     "output_type": "display_data"
    },
    {
     "data": {
      "application/vnd.jupyter.widget-view+json": {
       "model_id": "80b55c32fbd746489a3eca523f4f8301",
       "version_major": 2,
       "version_minor": 0
      },
      "text/plain": [
       "  0%|          | 0/4000 [00:00<?, ?it/s]"
      ]
     },
     "metadata": {},
     "output_type": "display_data"
    },
    {
     "data": {
      "application/vnd.jupyter.widget-view+json": {
       "model_id": "4e6fe95691914b088414365da4a592e7",
       "version_major": 2,
       "version_minor": 0
      },
      "text/plain": [
       "  0%|          | 0/4000 [00:00<?, ?it/s]"
      ]
     },
     "metadata": {},
     "output_type": "display_data"
    },
    {
     "data": {
      "application/vnd.jupyter.widget-view+json": {
       "model_id": "cfe46838a51b43ba969becddc4a49581",
       "version_major": 2,
       "version_minor": 0
      },
      "text/plain": [
       "  0%|          | 0/4000 [00:00<?, ?it/s]"
      ]
     },
     "metadata": {},
     "output_type": "display_data"
    },
    {
     "data": {
      "application/vnd.jupyter.widget-view+json": {
       "model_id": "f8eb63c8efe14cf1a9a3dc4aaf24e8fe",
       "version_major": 2,
       "version_minor": 0
      },
      "text/plain": [
       "  0%|          | 0/4000 [00:00<?, ?it/s]"
      ]
     },
     "metadata": {},
     "output_type": "display_data"
    },
    {
     "data": {
      "application/vnd.jupyter.widget-view+json": {
       "model_id": "9449d62881af4fbaa197ab2ecdc8df03",
       "version_major": 2,
       "version_minor": 0
      },
      "text/plain": [
       "  0%|          | 0/4000 [00:00<?, ?it/s]"
      ]
     },
     "metadata": {},
     "output_type": "display_data"
    },
    {
     "data": {
      "application/vnd.jupyter.widget-view+json": {
       "model_id": "fe9db3da7154404e9f921c1b6f7a4aaf",
       "version_major": 2,
       "version_minor": 0
      },
      "text/plain": [
       "  0%|          | 0/4000 [00:00<?, ?it/s]"
      ]
     },
     "metadata": {},
     "output_type": "display_data"
    },
    {
     "data": {
      "application/vnd.jupyter.widget-view+json": {
       "model_id": "a473731a3d7f4130974d9e27c89e8039",
       "version_major": 2,
       "version_minor": 0
      },
      "text/plain": [
       "  0%|          | 0/4000 [00:00<?, ?it/s]"
      ]
     },
     "metadata": {},
     "output_type": "display_data"
    },
    {
     "data": {
      "application/vnd.jupyter.widget-view+json": {
       "model_id": "64ab991fe45a4288bb1173cdc4242d35",
       "version_major": 2,
       "version_minor": 0
      },
      "text/plain": [
       "  0%|          | 0/4000 [00:00<?, ?it/s]"
      ]
     },
     "metadata": {},
     "output_type": "display_data"
    },
    {
     "data": {
      "application/vnd.jupyter.widget-view+json": {
       "model_id": "bc0bb7b025c048ebb66a1fe831ed908d",
       "version_major": 2,
       "version_minor": 0
      },
      "text/plain": [
       "  0%|          | 0/4000 [00:00<?, ?it/s]"
      ]
     },
     "metadata": {},
     "output_type": "display_data"
    },
    {
     "data": {
      "application/vnd.jupyter.widget-view+json": {
       "model_id": "4eef52c780284258acefc359ec57351c",
       "version_major": 2,
       "version_minor": 0
      },
      "text/plain": [
       "  0%|          | 0/4000 [00:00<?, ?it/s]"
      ]
     },
     "metadata": {},
     "output_type": "display_data"
    },
    {
     "data": {
      "application/vnd.jupyter.widget-view+json": {
       "model_id": "5d6fa77cd83a4903bf92dd7a57ec5383",
       "version_major": 2,
       "version_minor": 0
      },
      "text/plain": [
       "  0%|          | 0/4000 [00:00<?, ?it/s]"
      ]
     },
     "metadata": {},
     "output_type": "display_data"
    },
    {
     "data": {
      "application/vnd.jupyter.widget-view+json": {
       "model_id": "e239164e20e848fba8ef19617295dde6",
       "version_major": 2,
       "version_minor": 0
      },
      "text/plain": [
       "  0%|          | 0/4000 [00:00<?, ?it/s]"
      ]
     },
     "metadata": {},
     "output_type": "display_data"
    },
    {
     "data": {
      "application/vnd.jupyter.widget-view+json": {
       "model_id": "a39b91d06c554fe98870788122d766c8",
       "version_major": 2,
       "version_minor": 0
      },
      "text/plain": [
       "  0%|          | 0/4000 [00:00<?, ?it/s]"
      ]
     },
     "metadata": {},
     "output_type": "display_data"
    },
    {
     "data": {
      "application/vnd.jupyter.widget-view+json": {
       "model_id": "d259473f65804b43a04d589441974ac5",
       "version_major": 2,
       "version_minor": 0
      },
      "text/plain": [
       "  0%|          | 0/4000 [00:00<?, ?it/s]"
      ]
     },
     "metadata": {},
     "output_type": "display_data"
    },
    {
     "data": {
      "application/vnd.jupyter.widget-view+json": {
       "model_id": "ed27286a97be470f8f0554b39fb353ac",
       "version_major": 2,
       "version_minor": 0
      },
      "text/plain": [
       "  0%|          | 0/4000 [00:00<?, ?it/s]"
      ]
     },
     "metadata": {},
     "output_type": "display_data"
    },
    {
     "data": {
      "application/vnd.jupyter.widget-view+json": {
       "model_id": "87f0ea6fd0ec427c9b168240b0cfe197",
       "version_major": 2,
       "version_minor": 0
      },
      "text/plain": [
       "  0%|          | 0/4000 [00:00<?, ?it/s]"
      ]
     },
     "metadata": {},
     "output_type": "display_data"
    },
    {
     "data": {
      "application/vnd.jupyter.widget-view+json": {
       "model_id": "80e39f8c14204cab8ab5541ca4445c0e",
       "version_major": 2,
       "version_minor": 0
      },
      "text/plain": [
       "  0%|          | 0/4000 [00:00<?, ?it/s]"
      ]
     },
     "metadata": {},
     "output_type": "display_data"
    },
    {
     "data": {
      "application/vnd.jupyter.widget-view+json": {
       "model_id": "3d2dab04ae574b8eb55204ff216840d3",
       "version_major": 2,
       "version_minor": 0
      },
      "text/plain": [
       "  0%|          | 0/4000 [00:00<?, ?it/s]"
      ]
     },
     "metadata": {},
     "output_type": "display_data"
    },
    {
     "data": {
      "application/vnd.jupyter.widget-view+json": {
       "model_id": "d16314b9561241d4bfc76c1c537c1457",
       "version_major": 2,
       "version_minor": 0
      },
      "text/plain": [
       "  0%|          | 0/4000 [00:00<?, ?it/s]"
      ]
     },
     "metadata": {},
     "output_type": "display_data"
    },
    {
     "data": {
      "application/vnd.jupyter.widget-view+json": {
       "model_id": "1588c0f49f994c9e90e1304a555e73c3",
       "version_major": 2,
       "version_minor": 0
      },
      "text/plain": [
       "  0%|          | 0/4000 [00:00<?, ?it/s]"
      ]
     },
     "metadata": {},
     "output_type": "display_data"
    },
    {
     "data": {
      "application/vnd.jupyter.widget-view+json": {
       "model_id": "cd8ea14f19804a5a95341a0ed1488810",
       "version_major": 2,
       "version_minor": 0
      },
      "text/plain": [
       "  0%|          | 0/4000 [00:00<?, ?it/s]"
      ]
     },
     "metadata": {},
     "output_type": "display_data"
    },
    {
     "data": {
      "application/vnd.jupyter.widget-view+json": {
       "model_id": "d007e76066b141fab63447693da6b808",
       "version_major": 2,
       "version_minor": 0
      },
      "text/plain": [
       "  0%|          | 0/4000 [00:00<?, ?it/s]"
      ]
     },
     "metadata": {},
     "output_type": "display_data"
    },
    {
     "data": {
      "application/vnd.jupyter.widget-view+json": {
       "model_id": "01bc3e9b8bde40978adca2b9f6f2068c",
       "version_major": 2,
       "version_minor": 0
      },
      "text/plain": [
       "  0%|          | 0/4000 [00:00<?, ?it/s]"
      ]
     },
     "metadata": {},
     "output_type": "display_data"
    },
    {
     "data": {
      "application/vnd.jupyter.widget-view+json": {
       "model_id": "be681f5cba7e44409107d9971991e449",
       "version_major": 2,
       "version_minor": 0
      },
      "text/plain": [
       "  0%|          | 0/4000 [00:00<?, ?it/s]"
      ]
     },
     "metadata": {},
     "output_type": "display_data"
    },
    {
     "data": {
      "application/vnd.jupyter.widget-view+json": {
       "model_id": "62b093d611034534a5f5c212e1462cf2",
       "version_major": 2,
       "version_minor": 0
      },
      "text/plain": [
       "  0%|          | 0/4000 [00:00<?, ?it/s]"
      ]
     },
     "metadata": {},
     "output_type": "display_data"
    },
    {
     "data": {
      "application/vnd.jupyter.widget-view+json": {
       "model_id": "aa8e40844ce94664821fbdbfadfbd269",
       "version_major": 2,
       "version_minor": 0
      },
      "text/plain": [
       "  0%|          | 0/4000 [00:00<?, ?it/s]"
      ]
     },
     "metadata": {},
     "output_type": "display_data"
    },
    {
     "data": {
      "application/vnd.jupyter.widget-view+json": {
       "model_id": "b3503898fa2d44acb4f62c1407279d47",
       "version_major": 2,
       "version_minor": 0
      },
      "text/plain": [
       "  0%|          | 0/4000 [00:00<?, ?it/s]"
      ]
     },
     "metadata": {},
     "output_type": "display_data"
    },
    {
     "data": {
      "application/vnd.jupyter.widget-view+json": {
       "model_id": "458a77c5c23c4751a3fca898da6fbae6",
       "version_major": 2,
       "version_minor": 0
      },
      "text/plain": [
       "  0%|          | 0/4000 [00:00<?, ?it/s]"
      ]
     },
     "metadata": {},
     "output_type": "display_data"
    },
    {
     "data": {
      "application/vnd.jupyter.widget-view+json": {
       "model_id": "d0939e084db54bf390d5496740c6d176",
       "version_major": 2,
       "version_minor": 0
      },
      "text/plain": [
       "  0%|          | 0/4000 [00:00<?, ?it/s]"
      ]
     },
     "metadata": {},
     "output_type": "display_data"
    },
    {
     "data": {
      "application/vnd.jupyter.widget-view+json": {
       "model_id": "900257303e6742ce8f8ab200cf72dba0",
       "version_major": 2,
       "version_minor": 0
      },
      "text/plain": [
       "  0%|          | 0/4000 [00:00<?, ?it/s]"
      ]
     },
     "metadata": {},
     "output_type": "display_data"
    },
    {
     "data": {
      "application/vnd.jupyter.widget-view+json": {
       "model_id": "dbe0360c4a274869b1367cdc4745f23c",
       "version_major": 2,
       "version_minor": 0
      },
      "text/plain": [
       "  0%|          | 0/4000 [00:00<?, ?it/s]"
      ]
     },
     "metadata": {},
     "output_type": "display_data"
    },
    {
     "data": {
      "application/vnd.jupyter.widget-view+json": {
       "model_id": "554be85032e34b6ca776507d5e80e3d0",
       "version_major": 2,
       "version_minor": 0
      },
      "text/plain": [
       "  0%|          | 0/4000 [00:00<?, ?it/s]"
      ]
     },
     "metadata": {},
     "output_type": "display_data"
    },
    {
     "data": {
      "application/vnd.jupyter.widget-view+json": {
       "model_id": "2b94913fb777461f984cf157be5106fa",
       "version_major": 2,
       "version_minor": 0
      },
      "text/plain": [
       "  0%|          | 0/4000 [00:00<?, ?it/s]"
      ]
     },
     "metadata": {},
     "output_type": "display_data"
    },
    {
     "data": {
      "application/vnd.jupyter.widget-view+json": {
       "model_id": "596ea8ade47a41529c01edd1e4a2e5a4",
       "version_major": 2,
       "version_minor": 0
      },
      "text/plain": [
       "  0%|          | 0/4000 [00:00<?, ?it/s]"
      ]
     },
     "metadata": {},
     "output_type": "display_data"
    },
    {
     "data": {
      "application/vnd.jupyter.widget-view+json": {
       "model_id": "054d3ceb6b1344548eb77cc8ff4d6559",
       "version_major": 2,
       "version_minor": 0
      },
      "text/plain": [
       "  0%|          | 0/4000 [00:00<?, ?it/s]"
      ]
     },
     "metadata": {},
     "output_type": "display_data"
    },
    {
     "data": {
      "application/vnd.jupyter.widget-view+json": {
       "model_id": "5fe4063fb0b4476783871ca99149543f",
       "version_major": 2,
       "version_minor": 0
      },
      "text/plain": [
       "  0%|          | 0/4000 [00:00<?, ?it/s]"
      ]
     },
     "metadata": {},
     "output_type": "display_data"
    },
    {
     "data": {
      "application/vnd.jupyter.widget-view+json": {
       "model_id": "0926ca1f4e15462a8b8733fe7972efc6",
       "version_major": 2,
       "version_minor": 0
      },
      "text/plain": [
       "  0%|          | 0/4000 [00:00<?, ?it/s]"
      ]
     },
     "metadata": {},
     "output_type": "display_data"
    },
    {
     "data": {
      "application/vnd.jupyter.widget-view+json": {
       "model_id": "0172caa36d104b1398084a4ef45edf74",
       "version_major": 2,
       "version_minor": 0
      },
      "text/plain": [
       "  0%|          | 0/4000 [00:00<?, ?it/s]"
      ]
     },
     "metadata": {},
     "output_type": "display_data"
    },
    {
     "data": {
      "application/vnd.jupyter.widget-view+json": {
       "model_id": "bac5b6e799d6477b8c93eaa29027989c",
       "version_major": 2,
       "version_minor": 0
      },
      "text/plain": [
       "  0%|          | 0/4000 [00:00<?, ?it/s]"
      ]
     },
     "metadata": {},
     "output_type": "display_data"
    },
    {
     "data": {
      "application/vnd.jupyter.widget-view+json": {
       "model_id": "b36a31c006634929a6325ebf92b78dff",
       "version_major": 2,
       "version_minor": 0
      },
      "text/plain": [
       "  0%|          | 0/4000 [00:00<?, ?it/s]"
      ]
     },
     "metadata": {},
     "output_type": "display_data"
    },
    {
     "data": {
      "application/vnd.jupyter.widget-view+json": {
       "model_id": "818d666725f947e4b69cc8f931bf4187",
       "version_major": 2,
       "version_minor": 0
      },
      "text/plain": [
       "  0%|          | 0/4000 [00:00<?, ?it/s]"
      ]
     },
     "metadata": {},
     "output_type": "display_data"
    },
    {
     "data": {
      "application/vnd.jupyter.widget-view+json": {
       "model_id": "730e7150ede0416098eeba19b37e7898",
       "version_major": 2,
       "version_minor": 0
      },
      "text/plain": [
       "  0%|          | 0/4000 [00:00<?, ?it/s]"
      ]
     },
     "metadata": {},
     "output_type": "display_data"
    },
    {
     "data": {
      "application/vnd.jupyter.widget-view+json": {
       "model_id": "73bca21496e64a6cb12f86d05f6c8c28",
       "version_major": 2,
       "version_minor": 0
      },
      "text/plain": [
       "  0%|          | 0/4000 [00:00<?, ?it/s]"
      ]
     },
     "metadata": {},
     "output_type": "display_data"
    },
    {
     "data": {
      "application/vnd.jupyter.widget-view+json": {
       "model_id": "d246414e051f47ca846e3e76968dc5b6",
       "version_major": 2,
       "version_minor": 0
      },
      "text/plain": [
       "  0%|          | 0/4000 [00:00<?, ?it/s]"
      ]
     },
     "metadata": {},
     "output_type": "display_data"
    },
    {
     "data": {
      "application/vnd.jupyter.widget-view+json": {
       "model_id": "ca3adf3b98f146afb035863d3961b5eb",
       "version_major": 2,
       "version_minor": 0
      },
      "text/plain": [
       "  0%|          | 0/4000 [00:00<?, ?it/s]"
      ]
     },
     "metadata": {},
     "output_type": "display_data"
    },
    {
     "data": {
      "application/vnd.jupyter.widget-view+json": {
       "model_id": "b41030c2939c4a25b9f421b82df25eea",
       "version_major": 2,
       "version_minor": 0
      },
      "text/plain": [
       "  0%|          | 0/4000 [00:00<?, ?it/s]"
      ]
     },
     "metadata": {},
     "output_type": "display_data"
    },
    {
     "data": {
      "application/vnd.jupyter.widget-view+json": {
       "model_id": "e649f88c9342429dbf891d405104f67e",
       "version_major": 2,
       "version_minor": 0
      },
      "text/plain": [
       "  0%|          | 0/4000 [00:00<?, ?it/s]"
      ]
     },
     "metadata": {},
     "output_type": "display_data"
    },
    {
     "data": {
      "application/vnd.jupyter.widget-view+json": {
       "model_id": "36f629856054453e9fea21e72475810c",
       "version_major": 2,
       "version_minor": 0
      },
      "text/plain": [
       "  0%|          | 0/4000 [00:00<?, ?it/s]"
      ]
     },
     "metadata": {},
     "output_type": "display_data"
    },
    {
     "data": {
      "application/vnd.jupyter.widget-view+json": {
       "model_id": "93b75ee2d3ea4ebc8d17dfa84d9e8a86",
       "version_major": 2,
       "version_minor": 0
      },
      "text/plain": [
       "  0%|          | 0/4000 [00:00<?, ?it/s]"
      ]
     },
     "metadata": {},
     "output_type": "display_data"
    },
    {
     "data": {
      "application/vnd.jupyter.widget-view+json": {
       "model_id": "1ec20fc385174b41b5aff6c7ca210ddf",
       "version_major": 2,
       "version_minor": 0
      },
      "text/plain": [
       "  0%|          | 0/4000 [00:00<?, ?it/s]"
      ]
     },
     "metadata": {},
     "output_type": "display_data"
    },
    {
     "data": {
      "application/vnd.jupyter.widget-view+json": {
       "model_id": "54d9cf63e79d4f0d98a0b5e9fedb720a",
       "version_major": 2,
       "version_minor": 0
      },
      "text/plain": [
       "  0%|          | 0/4000 [00:00<?, ?it/s]"
      ]
     },
     "metadata": {},
     "output_type": "display_data"
    },
    {
     "data": {
      "application/vnd.jupyter.widget-view+json": {
       "model_id": "2283a650001c42dc8ad16c871c917213",
       "version_major": 2,
       "version_minor": 0
      },
      "text/plain": [
       "  0%|          | 0/4000 [00:00<?, ?it/s]"
      ]
     },
     "metadata": {},
     "output_type": "display_data"
    },
    {
     "data": {
      "application/vnd.jupyter.widget-view+json": {
       "model_id": "e4708a1a6c35489aacc894644c924f64",
       "version_major": 2,
       "version_minor": 0
      },
      "text/plain": [
       "  0%|          | 0/4000 [00:00<?, ?it/s]"
      ]
     },
     "metadata": {},
     "output_type": "display_data"
    },
    {
     "data": {
      "application/vnd.jupyter.widget-view+json": {
       "model_id": "978a370f05b441d6844ae5753ec69d91",
       "version_major": 2,
       "version_minor": 0
      },
      "text/plain": [
       "  0%|          | 0/4000 [00:00<?, ?it/s]"
      ]
     },
     "metadata": {},
     "output_type": "display_data"
    },
    {
     "data": {
      "application/vnd.jupyter.widget-view+json": {
       "model_id": "d8c2f021909145fea65127b239ed5e0a",
       "version_major": 2,
       "version_minor": 0
      },
      "text/plain": [
       "  0%|          | 0/4000 [00:00<?, ?it/s]"
      ]
     },
     "metadata": {},
     "output_type": "display_data"
    },
    {
     "data": {
      "application/vnd.jupyter.widget-view+json": {
       "model_id": "2e0aee7e8a7f4f19a2f123faefa9c41e",
       "version_major": 2,
       "version_minor": 0
      },
      "text/plain": [
       "  0%|          | 0/4000 [00:00<?, ?it/s]"
      ]
     },
     "metadata": {},
     "output_type": "display_data"
    },
    {
     "data": {
      "application/vnd.jupyter.widget-view+json": {
       "model_id": "a9b35744449a4dbeae93ed851569120b",
       "version_major": 2,
       "version_minor": 0
      },
      "text/plain": [
       "  0%|          | 0/4000 [00:00<?, ?it/s]"
      ]
     },
     "metadata": {},
     "output_type": "display_data"
    },
    {
     "data": {
      "application/vnd.jupyter.widget-view+json": {
       "model_id": "b1c7ed977e904dcaab5747df130d8ec2",
       "version_major": 2,
       "version_minor": 0
      },
      "text/plain": [
       "  0%|          | 0/4000 [00:00<?, ?it/s]"
      ]
     },
     "metadata": {},
     "output_type": "display_data"
    },
    {
     "data": {
      "application/vnd.jupyter.widget-view+json": {
       "model_id": "23030e1b403940e78b0baf6d3523a1de",
       "version_major": 2,
       "version_minor": 0
      },
      "text/plain": [
       "  0%|          | 0/4000 [00:00<?, ?it/s]"
      ]
     },
     "metadata": {},
     "output_type": "display_data"
    },
    {
     "data": {
      "application/vnd.jupyter.widget-view+json": {
       "model_id": "81e3c39efb8e4085b969b4cf5fb68e8c",
       "version_major": 2,
       "version_minor": 0
      },
      "text/plain": [
       "  0%|          | 0/4000 [00:00<?, ?it/s]"
      ]
     },
     "metadata": {},
     "output_type": "display_data"
    },
    {
     "data": {
      "application/vnd.jupyter.widget-view+json": {
       "model_id": "043d0ff6ef5c46bf9b7b869d7924c691",
       "version_major": 2,
       "version_minor": 0
      },
      "text/plain": [
       "  0%|          | 0/4000 [00:00<?, ?it/s]"
      ]
     },
     "metadata": {},
     "output_type": "display_data"
    },
    {
     "data": {
      "application/vnd.jupyter.widget-view+json": {
       "model_id": "7fae26f5230e4c4db6cafdbbae7f580b",
       "version_major": 2,
       "version_minor": 0
      },
      "text/plain": [
       "  0%|          | 0/4000 [00:00<?, ?it/s]"
      ]
     },
     "metadata": {},
     "output_type": "display_data"
    },
    {
     "data": {
      "application/vnd.jupyter.widget-view+json": {
       "model_id": "f0d5aeb8f69b45248939e4c567417e9c",
       "version_major": 2,
       "version_minor": 0
      },
      "text/plain": [
       "  0%|          | 0/4000 [00:00<?, ?it/s]"
      ]
     },
     "metadata": {},
     "output_type": "display_data"
    },
    {
     "data": {
      "application/vnd.jupyter.widget-view+json": {
       "model_id": "5a21806823544c78a38e8e6d5d13df36",
       "version_major": 2,
       "version_minor": 0
      },
      "text/plain": [
       "  0%|          | 0/4000 [00:00<?, ?it/s]"
      ]
     },
     "metadata": {},
     "output_type": "display_data"
    },
    {
     "data": {
      "application/vnd.jupyter.widget-view+json": {
       "model_id": "c465709a01f84763b288b89a673fd193",
       "version_major": 2,
       "version_minor": 0
      },
      "text/plain": [
       "  0%|          | 0/4000 [00:00<?, ?it/s]"
      ]
     },
     "metadata": {},
     "output_type": "display_data"
    },
    {
     "data": {
      "application/vnd.jupyter.widget-view+json": {
       "model_id": "a994735c8d394298997d00080fb7eb83",
       "version_major": 2,
       "version_minor": 0
      },
      "text/plain": [
       "  0%|          | 0/4000 [00:00<?, ?it/s]"
      ]
     },
     "metadata": {},
     "output_type": "display_data"
    },
    {
     "data": {
      "application/vnd.jupyter.widget-view+json": {
       "model_id": "fa38450f5bf64408bf1f95f5e26f7468",
       "version_major": 2,
       "version_minor": 0
      },
      "text/plain": [
       "  0%|          | 0/4000 [00:00<?, ?it/s]"
      ]
     },
     "metadata": {},
     "output_type": "display_data"
    },
    {
     "data": {
      "application/vnd.jupyter.widget-view+json": {
       "model_id": "dfd457868f3e45f8ae37c232be12f61a",
       "version_major": 2,
       "version_minor": 0
      },
      "text/plain": [
       "  0%|          | 0/4000 [00:00<?, ?it/s]"
      ]
     },
     "metadata": {},
     "output_type": "display_data"
    },
    {
     "data": {
      "application/vnd.jupyter.widget-view+json": {
       "model_id": "bf785f543ec84db7b46982b0493a4e79",
       "version_major": 2,
       "version_minor": 0
      },
      "text/plain": [
       "  0%|          | 0/4000 [00:00<?, ?it/s]"
      ]
     },
     "metadata": {},
     "output_type": "display_data"
    },
    {
     "data": {
      "application/vnd.jupyter.widget-view+json": {
       "model_id": "a152757121d74d1ab2efebaa847272eb",
       "version_major": 2,
       "version_minor": 0
      },
      "text/plain": [
       "  0%|          | 0/4000 [00:00<?, ?it/s]"
      ]
     },
     "metadata": {},
     "output_type": "display_data"
    },
    {
     "data": {
      "application/vnd.jupyter.widget-view+json": {
       "model_id": "8e9e36904aa94e6fb2a5cd9f75c8165d",
       "version_major": 2,
       "version_minor": 0
      },
      "text/plain": [
       "  0%|          | 0/4000 [00:00<?, ?it/s]"
      ]
     },
     "metadata": {},
     "output_type": "display_data"
    },
    {
     "data": {
      "application/vnd.jupyter.widget-view+json": {
       "model_id": "7dea36c65d404177b41bf6410bec2931",
       "version_major": 2,
       "version_minor": 0
      },
      "text/plain": [
       "  0%|          | 0/4000 [00:00<?, ?it/s]"
      ]
     },
     "metadata": {},
     "output_type": "display_data"
    },
    {
     "data": {
      "application/vnd.jupyter.widget-view+json": {
       "model_id": "c825d596619b4a04899908c97a4e01ae",
       "version_major": 2,
       "version_minor": 0
      },
      "text/plain": [
       "  0%|          | 0/4000 [00:00<?, ?it/s]"
      ]
     },
     "metadata": {},
     "output_type": "display_data"
    },
    {
     "data": {
      "application/vnd.jupyter.widget-view+json": {
       "model_id": "cf0760f20fa94058bf57cdaeec141638",
       "version_major": 2,
       "version_minor": 0
      },
      "text/plain": [
       "  0%|          | 0/4000 [00:00<?, ?it/s]"
      ]
     },
     "metadata": {},
     "output_type": "display_data"
    },
    {
     "data": {
      "application/vnd.jupyter.widget-view+json": {
       "model_id": "0694947ad4904f2fa44c6594d8aecbe3",
       "version_major": 2,
       "version_minor": 0
      },
      "text/plain": [
       "  0%|          | 0/4000 [00:00<?, ?it/s]"
      ]
     },
     "metadata": {},
     "output_type": "display_data"
    },
    {
     "data": {
      "application/vnd.jupyter.widget-view+json": {
       "model_id": "4b11be46183e450c8b62d6d8b60c3b8e",
       "version_major": 2,
       "version_minor": 0
      },
      "text/plain": [
       "  0%|          | 0/4000 [00:00<?, ?it/s]"
      ]
     },
     "metadata": {},
     "output_type": "display_data"
    },
    {
     "data": {
      "application/vnd.jupyter.widget-view+json": {
       "model_id": "e34e039026364a10b0ef6e72981945ac",
       "version_major": 2,
       "version_minor": 0
      },
      "text/plain": [
       "  0%|          | 0/4000 [00:00<?, ?it/s]"
      ]
     },
     "metadata": {},
     "output_type": "display_data"
    },
    {
     "data": {
      "application/vnd.jupyter.widget-view+json": {
       "model_id": "4bfcc8a727204f2fa6687bc29aaaf997",
       "version_major": 2,
       "version_minor": 0
      },
      "text/plain": [
       "  0%|          | 0/4000 [00:00<?, ?it/s]"
      ]
     },
     "metadata": {},
     "output_type": "display_data"
    },
    {
     "data": {
      "application/vnd.jupyter.widget-view+json": {
       "model_id": "43da368b67f84e24949bc642b2f321ac",
       "version_major": 2,
       "version_minor": 0
      },
      "text/plain": [
       "  0%|          | 0/4000 [00:00<?, ?it/s]"
      ]
     },
     "metadata": {},
     "output_type": "display_data"
    },
    {
     "data": {
      "application/vnd.jupyter.widget-view+json": {
       "model_id": "247be30fce4645ca8e0bbde992c3ff1b",
       "version_major": 2,
       "version_minor": 0
      },
      "text/plain": [
       "  0%|          | 0/4000 [00:00<?, ?it/s]"
      ]
     },
     "metadata": {},
     "output_type": "display_data"
    },
    {
     "data": {
      "application/vnd.jupyter.widget-view+json": {
       "model_id": "081b95dbf27842499bbf492112008f52",
       "version_major": 2,
       "version_minor": 0
      },
      "text/plain": [
       "  0%|          | 0/4000 [00:00<?, ?it/s]"
      ]
     },
     "metadata": {},
     "output_type": "display_data"
    },
    {
     "data": {
      "application/vnd.jupyter.widget-view+json": {
       "model_id": "878be4f029fe43b7b41219855662ad05",
       "version_major": 2,
       "version_minor": 0
      },
      "text/plain": [
       "  0%|          | 0/4000 [00:00<?, ?it/s]"
      ]
     },
     "metadata": {},
     "output_type": "display_data"
    },
    {
     "data": {
      "application/vnd.jupyter.widget-view+json": {
       "model_id": "f9ea99bd88234fcb9de620ba910d7e73",
       "version_major": 2,
       "version_minor": 0
      },
      "text/plain": [
       "  0%|          | 0/4000 [00:00<?, ?it/s]"
      ]
     },
     "metadata": {},
     "output_type": "display_data"
    },
    {
     "data": {
      "application/vnd.jupyter.widget-view+json": {
       "model_id": "a893a348a44c49c1949cc314b3af5e8f",
       "version_major": 2,
       "version_minor": 0
      },
      "text/plain": [
       "  0%|          | 0/4000 [00:00<?, ?it/s]"
      ]
     },
     "metadata": {},
     "output_type": "display_data"
    },
    {
     "data": {
      "application/vnd.jupyter.widget-view+json": {
       "model_id": "03072f7123ee44dc9974af68b4f4e05a",
       "version_major": 2,
       "version_minor": 0
      },
      "text/plain": [
       "  0%|          | 0/4000 [00:00<?, ?it/s]"
      ]
     },
     "metadata": {},
     "output_type": "display_data"
    },
    {
     "data": {
      "application/vnd.jupyter.widget-view+json": {
       "model_id": "557c7e39b6bb474f814deca86c090781",
       "version_major": 2,
       "version_minor": 0
      },
      "text/plain": [
       "  0%|          | 0/4000 [00:00<?, ?it/s]"
      ]
     },
     "metadata": {},
     "output_type": "display_data"
    },
    {
     "data": {
      "application/vnd.jupyter.widget-view+json": {
       "model_id": "a73d6acf714c49179132d2c2aaf8b311",
       "version_major": 2,
       "version_minor": 0
      },
      "text/plain": [
       "  0%|          | 0/4000 [00:00<?, ?it/s]"
      ]
     },
     "metadata": {},
     "output_type": "display_data"
    },
    {
     "data": {
      "application/vnd.jupyter.widget-view+json": {
       "model_id": "36a4e0416af44d12bf5129e7ca354b92",
       "version_major": 2,
       "version_minor": 0
      },
      "text/plain": [
       "  0%|          | 0/4000 [00:00<?, ?it/s]"
      ]
     },
     "metadata": {},
     "output_type": "display_data"
    },
    {
     "data": {
      "application/vnd.jupyter.widget-view+json": {
       "model_id": "85277b612818495ea79500574ac8efe5",
       "version_major": 2,
       "version_minor": 0
      },
      "text/plain": [
       "  0%|          | 0/4000 [00:00<?, ?it/s]"
      ]
     },
     "metadata": {},
     "output_type": "display_data"
    },
    {
     "data": {
      "application/vnd.jupyter.widget-view+json": {
       "model_id": "e5ceb8dc93444bb6984475110e98bbe6",
       "version_major": 2,
       "version_minor": 0
      },
      "text/plain": [
       "  0%|          | 0/4000 [00:00<?, ?it/s]"
      ]
     },
     "metadata": {},
     "output_type": "display_data"
    },
    {
     "data": {
      "application/vnd.jupyter.widget-view+json": {
       "model_id": "1aa48babecfa430c8526004fbe7addb9",
       "version_major": 2,
       "version_minor": 0
      },
      "text/plain": [
       "  0%|          | 0/4000 [00:00<?, ?it/s]"
      ]
     },
     "metadata": {},
     "output_type": "display_data"
    },
    {
     "data": {
      "application/vnd.jupyter.widget-view+json": {
       "model_id": "220ee4541bdc4668a403d67454c9c011",
       "version_major": 2,
       "version_minor": 0
      },
      "text/plain": [
       "  0%|          | 0/4000 [00:00<?, ?it/s]"
      ]
     },
     "metadata": {},
     "output_type": "display_data"
    },
    {
     "data": {
      "application/vnd.jupyter.widget-view+json": {
       "model_id": "9ddfb00d38664ae59ce56eb5f89062d1",
       "version_major": 2,
       "version_minor": 0
      },
      "text/plain": [
       "  0%|          | 0/4000 [00:00<?, ?it/s]"
      ]
     },
     "metadata": {},
     "output_type": "display_data"
    },
    {
     "data": {
      "application/vnd.jupyter.widget-view+json": {
       "model_id": "20f3d55d90714edea855a0ecefa401b3",
       "version_major": 2,
       "version_minor": 0
      },
      "text/plain": [
       "  0%|          | 0/4000 [00:00<?, ?it/s]"
      ]
     },
     "metadata": {},
     "output_type": "display_data"
    },
    {
     "data": {
      "application/vnd.jupyter.widget-view+json": {
       "model_id": "e6000b51efc64f5bb11c91e065a458c0",
       "version_major": 2,
       "version_minor": 0
      },
      "text/plain": [
       "  0%|          | 0/4000 [00:00<?, ?it/s]"
      ]
     },
     "metadata": {},
     "output_type": "display_data"
    },
    {
     "data": {
      "application/vnd.jupyter.widget-view+json": {
       "model_id": "4feedce069ea40aeb953bfcbfeeb6b3a",
       "version_major": 2,
       "version_minor": 0
      },
      "text/plain": [
       "  0%|          | 0/4000 [00:00<?, ?it/s]"
      ]
     },
     "metadata": {},
     "output_type": "display_data"
    },
    {
     "data": {
      "application/vnd.jupyter.widget-view+json": {
       "model_id": "4b2f45f8f43646d7b0638986672f1b06",
       "version_major": 2,
       "version_minor": 0
      },
      "text/plain": [
       "  0%|          | 0/4000 [00:00<?, ?it/s]"
      ]
     },
     "metadata": {},
     "output_type": "display_data"
    },
    {
     "data": {
      "application/vnd.jupyter.widget-view+json": {
       "model_id": "30d4d099bfe049c88af045414eacbaf6",
       "version_major": 2,
       "version_minor": 0
      },
      "text/plain": [
       "  0%|          | 0/4000 [00:00<?, ?it/s]"
      ]
     },
     "metadata": {},
     "output_type": "display_data"
    },
    {
     "data": {
      "application/vnd.jupyter.widget-view+json": {
       "model_id": "d236645f832f432aa627d31f4ba6ed3d",
       "version_major": 2,
       "version_minor": 0
      },
      "text/plain": [
       "  0%|          | 0/4000 [00:00<?, ?it/s]"
      ]
     },
     "metadata": {},
     "output_type": "display_data"
    },
    {
     "data": {
      "application/vnd.jupyter.widget-view+json": {
       "model_id": "e99d4a8aa6da42b48f61def0b3979cfa",
       "version_major": 2,
       "version_minor": 0
      },
      "text/plain": [
       "  0%|          | 0/4000 [00:00<?, ?it/s]"
      ]
     },
     "metadata": {},
     "output_type": "display_data"
    },
    {
     "data": {
      "application/vnd.jupyter.widget-view+json": {
       "model_id": "5a492d113f72466fb9e0b4d1e259aa81",
       "version_major": 2,
       "version_minor": 0
      },
      "text/plain": [
       "  0%|          | 0/4000 [00:00<?, ?it/s]"
      ]
     },
     "metadata": {},
     "output_type": "display_data"
    },
    {
     "data": {
      "application/vnd.jupyter.widget-view+json": {
       "model_id": "b7c9f93f401b44dfa75b617e2d4404c6",
       "version_major": 2,
       "version_minor": 0
      },
      "text/plain": [
       "  0%|          | 0/4000 [00:00<?, ?it/s]"
      ]
     },
     "metadata": {},
     "output_type": "display_data"
    },
    {
     "data": {
      "application/vnd.jupyter.widget-view+json": {
       "model_id": "f2ca7947c60440739ab3b33f71b49d12",
       "version_major": 2,
       "version_minor": 0
      },
      "text/plain": [
       "  0%|          | 0/4000 [00:00<?, ?it/s]"
      ]
     },
     "metadata": {},
     "output_type": "display_data"
    },
    {
     "data": {
      "application/vnd.jupyter.widget-view+json": {
       "model_id": "8337870bf08f412d96608610eb2b07ec",
       "version_major": 2,
       "version_minor": 0
      },
      "text/plain": [
       "  0%|          | 0/4000 [00:00<?, ?it/s]"
      ]
     },
     "metadata": {},
     "output_type": "display_data"
    },
    {
     "data": {
      "application/vnd.jupyter.widget-view+json": {
       "model_id": "8effa35f665648c2919d826e6b90b1ba",
       "version_major": 2,
       "version_minor": 0
      },
      "text/plain": [
       "  0%|          | 0/4000 [00:00<?, ?it/s]"
      ]
     },
     "metadata": {},
     "output_type": "display_data"
    },
    {
     "data": {
      "application/vnd.jupyter.widget-view+json": {
       "model_id": "f50a7e8361d041ae8582ec7e1191fb2f",
       "version_major": 2,
       "version_minor": 0
      },
      "text/plain": [
       "  0%|          | 0/4000 [00:00<?, ?it/s]"
      ]
     },
     "metadata": {},
     "output_type": "display_data"
    },
    {
     "data": {
      "application/vnd.jupyter.widget-view+json": {
       "model_id": "db6a1384f0034e1a83603fad2e8b3d66",
       "version_major": 2,
       "version_minor": 0
      },
      "text/plain": [
       "  0%|          | 0/4000 [00:00<?, ?it/s]"
      ]
     },
     "metadata": {},
     "output_type": "display_data"
    },
    {
     "data": {
      "application/vnd.jupyter.widget-view+json": {
       "model_id": "8ef24ca3ab5a4688affbdf4c8e0b2e53",
       "version_major": 2,
       "version_minor": 0
      },
      "text/plain": [
       "  0%|          | 0/4000 [00:00<?, ?it/s]"
      ]
     },
     "metadata": {},
     "output_type": "display_data"
    },
    {
     "data": {
      "application/vnd.jupyter.widget-view+json": {
       "model_id": "135a62f929294b9aa05b8c8a7328e4de",
       "version_major": 2,
       "version_minor": 0
      },
      "text/plain": [
       "  0%|          | 0/4000 [00:00<?, ?it/s]"
      ]
     },
     "metadata": {},
     "output_type": "display_data"
    },
    {
     "data": {
      "application/vnd.jupyter.widget-view+json": {
       "model_id": "2a9e97f5186e4deeadc73e345d8ababc",
       "version_major": 2,
       "version_minor": 0
      },
      "text/plain": [
       "  0%|          | 0/4000 [00:00<?, ?it/s]"
      ]
     },
     "metadata": {},
     "output_type": "display_data"
    },
    {
     "data": {
      "application/vnd.jupyter.widget-view+json": {
       "model_id": "1cfa834264af4f37a62684308343643d",
       "version_major": 2,
       "version_minor": 0
      },
      "text/plain": [
       "  0%|          | 0/4000 [00:00<?, ?it/s]"
      ]
     },
     "metadata": {},
     "output_type": "display_data"
    },
    {
     "data": {
      "application/vnd.jupyter.widget-view+json": {
       "model_id": "595a93a255e9427ea107e85ffc51e814",
       "version_major": 2,
       "version_minor": 0
      },
      "text/plain": [
       "  0%|          | 0/4000 [00:00<?, ?it/s]"
      ]
     },
     "metadata": {},
     "output_type": "display_data"
    },
    {
     "data": {
      "application/vnd.jupyter.widget-view+json": {
       "model_id": "d779b780664344ac912e1ecc532741b2",
       "version_major": 2,
       "version_minor": 0
      },
      "text/plain": [
       "  0%|          | 0/4000 [00:00<?, ?it/s]"
      ]
     },
     "metadata": {},
     "output_type": "display_data"
    },
    {
     "data": {
      "application/vnd.jupyter.widget-view+json": {
       "model_id": "0a973997235c46c88d824688025a9741",
       "version_major": 2,
       "version_minor": 0
      },
      "text/plain": [
       "  0%|          | 0/4000 [00:00<?, ?it/s]"
      ]
     },
     "metadata": {},
     "output_type": "display_data"
    },
    {
     "data": {
      "application/vnd.jupyter.widget-view+json": {
       "model_id": "5c5627dcfc174e108012e122976b88e8",
       "version_major": 2,
       "version_minor": 0
      },
      "text/plain": [
       "  0%|          | 0/4000 [00:00<?, ?it/s]"
      ]
     },
     "metadata": {},
     "output_type": "display_data"
    },
    {
     "data": {
      "application/vnd.jupyter.widget-view+json": {
       "model_id": "ce97d8a7e7e44434916e9f1254718b8b",
       "version_major": 2,
       "version_minor": 0
      },
      "text/plain": [
       "  0%|          | 0/4000 [00:00<?, ?it/s]"
      ]
     },
     "metadata": {},
     "output_type": "display_data"
    },
    {
     "data": {
      "application/vnd.jupyter.widget-view+json": {
       "model_id": "4a8cd9a2bdee462bac218d258ffcf336",
       "version_major": 2,
       "version_minor": 0
      },
      "text/plain": [
       "  0%|          | 0/4000 [00:00<?, ?it/s]"
      ]
     },
     "metadata": {},
     "output_type": "display_data"
    },
    {
     "data": {
      "application/vnd.jupyter.widget-view+json": {
       "model_id": "ad99e8c82bd24c199e3b9050c44dcd28",
       "version_major": 2,
       "version_minor": 0
      },
      "text/plain": [
       "  0%|          | 0/4000 [00:00<?, ?it/s]"
      ]
     },
     "metadata": {},
     "output_type": "display_data"
    },
    {
     "data": {
      "application/vnd.jupyter.widget-view+json": {
       "model_id": "17d1c3ec12294ef28af0f06e63d29d3f",
       "version_major": 2,
       "version_minor": 0
      },
      "text/plain": [
       "  0%|          | 0/4000 [00:00<?, ?it/s]"
      ]
     },
     "metadata": {},
     "output_type": "display_data"
    },
    {
     "data": {
      "application/vnd.jupyter.widget-view+json": {
       "model_id": "71868253dd864c32b96581e18dd8e2e3",
       "version_major": 2,
       "version_minor": 0
      },
      "text/plain": [
       "  0%|          | 0/4000 [00:00<?, ?it/s]"
      ]
     },
     "metadata": {},
     "output_type": "display_data"
    },
    {
     "data": {
      "application/vnd.jupyter.widget-view+json": {
       "model_id": "78583ab0af9a4c25886b2b5d95c90203",
       "version_major": 2,
       "version_minor": 0
      },
      "text/plain": [
       "  0%|          | 0/4000 [00:00<?, ?it/s]"
      ]
     },
     "metadata": {},
     "output_type": "display_data"
    },
    {
     "data": {
      "application/vnd.jupyter.widget-view+json": {
       "model_id": "49034c5abb2a4855a5343bbe6941e0f9",
       "version_major": 2,
       "version_minor": 0
      },
      "text/plain": [
       "  0%|          | 0/4000 [00:00<?, ?it/s]"
      ]
     },
     "metadata": {},
     "output_type": "display_data"
    },
    {
     "data": {
      "application/vnd.jupyter.widget-view+json": {
       "model_id": "ba3e9b1854884252b90e2445d9ec7d05",
       "version_major": 2,
       "version_minor": 0
      },
      "text/plain": [
       "  0%|          | 0/4000 [00:00<?, ?it/s]"
      ]
     },
     "metadata": {},
     "output_type": "display_data"
    },
    {
     "data": {
      "application/vnd.jupyter.widget-view+json": {
       "model_id": "bffe6e40201247809cb50edb99d291ce",
       "version_major": 2,
       "version_minor": 0
      },
      "text/plain": [
       "  0%|          | 0/4000 [00:00<?, ?it/s]"
      ]
     },
     "metadata": {},
     "output_type": "display_data"
    },
    {
     "data": {
      "application/vnd.jupyter.widget-view+json": {
       "model_id": "4ac6db865f8d45198066836f7451ea1b",
       "version_major": 2,
       "version_minor": 0
      },
      "text/plain": [
       "  0%|          | 0/4000 [00:00<?, ?it/s]"
      ]
     },
     "metadata": {},
     "output_type": "display_data"
    },
    {
     "data": {
      "application/vnd.jupyter.widget-view+json": {
       "model_id": "477b96596d4a4d40ada03a37e5f9c737",
       "version_major": 2,
       "version_minor": 0
      },
      "text/plain": [
       "  0%|          | 0/4000 [00:00<?, ?it/s]"
      ]
     },
     "metadata": {},
     "output_type": "display_data"
    }
   ],
   "source": [
    "np.random.seed(42)\n",
    "random.seed(42)\n",
    "tf.random.set_seed(42)\n",
    "\n",
    "n = 3\n",
    "d = 2**n\n",
    "rank = 15\n",
    "\n",
    "prior_fidelity3 = np.zeros((len(N_list), num_reps))\n",
    "noPrior_fidelity3 = np.zeros((len(N_list), num_reps))\n",
    "\n",
    "for rep in tqdm(range(num_reps)):\n",
    "    X, _, _ = generate_ginibre(d, d)\n",
    "    U = generate_unitary(X) # Random unitary part\n",
    "    kraus_target = KrausMap(U, 0.5, d, rank)\n",
    "    \n",
    "    inputs, _ = generate_pauli_circuits(n = n, \n",
    "                                        circuit_target=None, \n",
    "                                        N = None, \n",
    "                                        trace=False)\n",
    "    \n",
    "    states = kraus_target.apply_map(inputs[0])\n",
    "    targets = measurement(states, U_basis = inputs[1])\n",
    "    \n",
    "    for i, N in enumerate(N_list):\n",
    "        kraus_model = KrausMap(\n",
    "                               U=U, \n",
    "                               c=0.9, \n",
    "                               d=d, \n",
    "                               rank=rank,\n",
    "                              )\n",
    "\n",
    "        model = ModelQuantumMap(\n",
    "                                q_map = kraus_model,\n",
    "                                loss = probs_loss,\n",
    "                                optimizer = tf.optimizers.Adam(learning_rate=0.01),\n",
    "                                )\n",
    "\n",
    "        model.train(inputs = [inputs[0][:N], inputs[1][:N]],\n",
    "                    targets = targets[:N],\n",
    "                    inputs_val = None,\n",
    "                    targets_val = None,\n",
    "                    num_iter = 4000,\n",
    "                    N = N,\n",
    "                    verbose = False,\n",
    "                    )\n",
    "\n",
    "        prior_fidelity3[i, rep] = np.abs(channel_fidelity(kraus_target, kraus_model).numpy())\n",
    "\n",
    "        kraus_model = KrausMap(\n",
    "    #                           U=U, \n",
    "    #                           c=0.9, \n",
    "                               d=d, \n",
    "                               rank=rank+1,\n",
    "                              )\n",
    "\n",
    "        model = ModelQuantumMap(\n",
    "                                q_map = kraus_model,\n",
    "                                loss = probs_loss,\n",
    "                                optimizer = tf.optimizers.Adam(learning_rate=0.01),\n",
    "                                )\n",
    "\n",
    "        model.train(inputs = [inputs[0][:N], inputs[1][:N]],\n",
    "                    targets = targets[:N],\n",
    "                    inputs_val = None,\n",
    "                    targets_val = None,\n",
    "                    num_iter = 4000,\n",
    "                    N = N,\n",
    "                    verbose = False,\n",
    "                    )\n",
    "\n",
    "        noPrior_fidelity3[i, rep] = np.abs(channel_fidelity(kraus_target, kraus_model).numpy())"
   ]
  },
  {
   "cell_type": "code",
   "execution_count": null,
   "metadata": {},
   "outputs": [],
   "source": [
    "data = [prior_fidelity3, noPrior_fidelity3]\n",
    "pickle.dump(data, open(\"../../data/compressed_sensing_rank16.p\", \"wb\"))"
   ]
  },
  {
   "cell_type": "markdown",
   "metadata": {},
   "source": [
    "## SPAM\n",
    "### Generate True Model"
   ]
  },
  {
   "cell_type": "code",
   "execution_count": 82,
   "metadata": {},
   "outputs": [],
   "source": [
    "np.random.seed(42)\n",
    "random.seed(42)\n",
    "tf.random.set_seed(42)\n",
    "\n",
    "n = 2\n",
    "d = 2**n\n",
    "rank = d**2\n",
    "c1 = 0.9\n",
    "c2 = 0.9\n",
    "\n",
    "#prep error and full POVM error\n",
    "spam_target = SPAM(d=d, \n",
    "                   use_corr_mat=True\n",
    "                  )\n",
    "\n",
    "\n",
    "init_target = c1*init_ideal(d) + (1-c1)*spam_target.init\n",
    "povm_target = c2*povm_ideal(d) + (1-c2)*spam_target.povm\n",
    "spam_target = SPAM(d=d,\n",
    "                  init = init_target,\n",
    "                  povm = povm_target)\n",
    "\n",
    "kraus_target = KrausMap(\n",
    "                        U=generate_unitary(d=d), \n",
    "                        c=0.5, \n",
    "                        d=d, \n",
    "                        rank=rank-1,\n",
    "                        spam = spam_target\n",
    "                        )"
   ]
  },
  {
   "cell_type": "markdown",
   "metadata": {},
   "source": [
    "### Generate Synthetic Data"
   ]
  },
  {
   "cell_type": "code",
   "execution_count": 83,
   "metadata": {},
   "outputs": [],
   "source": [
    "inputs_spam, _ = generate_pauliInput_circuits(n)\n",
    "\n",
    "U_prep = inputs_spam\n",
    "N_spam = U_prep.shape[0]\n",
    "\n",
    "state = tf.repeat(spam_target.init[None,:,:], N_spam, axis=0)\n",
    "state = apply_unitary(state, U_prep)\n",
    "targets_spam = measurement(state, povm = spam_target.povm)"
   ]
  },
  {
   "cell_type": "code",
   "execution_count": 84,
   "metadata": {},
   "outputs": [],
   "source": [
    "inputs_map, _ = generate_pauli_circuits(n = n, \n",
    "                                    circuit_target=None, \n",
    "                                    N = None, \n",
    "                                    trace=False)\n",
    "U_prep, U_basis = inputs_map\n",
    "\n",
    "N_map = U_prep.shape[0]\n",
    "state = tf.repeat(tf.expand_dims(spam_target.init, axis=0), N_map, axis=0)\n",
    "state = apply_unitary(state, U_prep)\n",
    "state = kraus_target.apply_map(state)\n",
    "targets_map = measurement(state, U_basis, spam_target.povm)"
   ]
  },
  {
   "cell_type": "markdown",
   "metadata": {},
   "source": [
    "### Fit Model"
   ]
  },
  {
   "cell_type": "code",
   "execution_count": 85,
   "metadata": {},
   "outputs": [],
   "source": [
    "np.random.seed(43)\n",
    "random.seed(43)\n",
    "tf.random.set_seed(43)\n",
    "\n",
    "spam_model = SPAM(d=d,\n",
    "                  use_corr_mat=True,\n",
    "                  optimizer = tf.optimizers.Adam(learning_rate=0.01))"
   ]
  },
  {
   "cell_type": "code",
   "execution_count": 86,
   "metadata": {
    "scrolled": true
   },
   "outputs": [
    {
     "data": {
      "application/vnd.jupyter.widget-view+json": {
       "model_id": "5231f5dce551486c8641163aa0461248",
       "version_major": 2,
       "version_minor": 0
      },
      "text/plain": [
       "  0%|          | 0/1000 [00:00<?, ?it/s]"
      ]
     },
     "metadata": {},
     "output_type": "display_data"
    },
    {
     "name": "stdout",
     "output_type": "stream",
     "text": [
      "0 0.028258171040220527\n",
      "1 0.02803345418123275\n",
      "2 0.027807962033924206\n",
      "3 0.027581930945429153\n",
      "4 0.027355294566474654\n",
      "5 0.02712795422754237\n",
      "6 0.02690034997194533\n",
      "7 0.02667122854069082\n",
      "8 0.026440461391530192\n",
      "9 0.026208019911277428\n",
      "10 0.025973942703479396\n",
      "11 0.025738642582903315\n",
      "12 0.02550123012380507\n",
      "13 0.025261538501507395\n",
      "14 0.02501940072475163\n",
      "15 0.02477476253891157\n",
      "16 0.024526983024807478\n",
      "17 0.02427652531339767\n",
      "18 0.024023687762379304\n",
      "19 0.023769145945466953\n",
      "20 0.023511739494212355\n",
      "21 0.023251666436872778\n",
      "22 0.022988529244223732\n",
      "23 0.022722556717028178\n",
      "24 0.0224535780758401\n",
      "25 0.02218126882150083\n",
      "26 0.021906159402563304\n",
      "27 0.021630045250721576\n",
      "28 0.02135174764724824\n",
      "29 0.021068818394345396\n",
      "30 0.0207818075473093\n",
      "31 0.0204905250856965\n",
      "32 0.020196650486389946\n",
      "33 0.019899316353662003\n",
      "34 0.01959977505604817\n",
      "35 0.01929792031839232\n",
      "36 0.018992618057964924\n",
      "37 0.01868405844082953\n",
      "38 0.018372195284701312\n",
      "39 0.01805821901128116\n",
      "40 0.01774372679824437\n",
      "41 0.017425786383143682\n",
      "42 0.017113044042172534\n",
      "43 0.016799911383658037\n",
      "44 0.01648437739746828\n",
      "45 0.016168679001049697\n",
      "46 0.015856574198123526\n",
      "47 0.015544757241461028\n",
      "48 0.015229699777654964\n",
      "49 0.014910430571967106\n",
      "50 0.014588404888011445\n",
      "51 0.014268196396512467\n",
      "52 0.013952040428412893\n",
      "53 0.013635201297822266\n",
      "54 0.013313958452275374\n",
      "55 0.012999546333541053\n",
      "56 0.012695408601598842\n",
      "57 0.012394949471349226\n",
      "58 0.01209480599112641\n",
      "59 0.011794515105527061\n",
      "60 0.011497168961339004\n",
      "61 0.011198314476096961\n",
      "62 0.010901544066624544\n",
      "63 0.010610668112430166\n",
      "64 0.010321803989373234\n",
      "65 0.010035651628221346\n",
      "66 0.009764653328492124\n",
      "67 0.00949567617188149\n",
      "68 0.009229876751829203\n",
      "69 0.008961187797114597\n",
      "70 0.008700451926157917\n",
      "71 0.0084462118489463\n",
      "72 0.008205495588942832\n",
      "73 0.007968602959295782\n",
      "74 0.007732329249206018\n",
      "75 0.007504990553274842\n",
      "76 0.007283192426193715\n",
      "77 0.007062427408336716\n",
      "78 0.006841769660756525\n",
      "79 0.006632563653410341\n",
      "80 0.006426842201844451\n",
      "81 0.0062259274780039255\n",
      "82 0.006026058342123013\n",
      "83 0.005826021014362021\n",
      "84 0.005625518467908586\n",
      "85 0.005444419601285257\n",
      "86 0.00526482222875625\n",
      "87 0.005086146494608756\n",
      "88 0.0049106541304100755\n",
      "89 0.0047475150307155056\n",
      "90 0.004594010081372206\n",
      "91 0.004444835302228443\n",
      "92 0.004300739228444759\n",
      "93 0.0041575149117588014\n",
      "94 0.004020776558092817\n",
      "95 0.003884199831791407\n",
      "96 0.0037442922822360255\n",
      "97 0.003609450895525535\n",
      "98 0.0034741017679638577\n",
      "99 0.0033400022981919077\n",
      "100 0.0032109950015554193\n",
      "101 0.003093988967312152\n",
      "102 0.002981044423311775\n",
      "103 0.0028706167152490534\n",
      "104 0.002766459826741021\n",
      "105 0.0026640829901496852\n",
      "106 0.002567116969295829\n",
      "107 0.002471256762516451\n",
      "108 0.0023740088500625546\n",
      "109 0.0022759265411164157\n",
      "110 0.0021872581085895836\n",
      "111 0.0021072987307034527\n",
      "112 0.0020253857369378096\n",
      "113 0.0019430098725688972\n",
      "114 0.0018615741045216556\n",
      "115 0.0017879399182006703\n",
      "116 0.0017225018409960792\n",
      "117 0.0016559224919278342\n",
      "118 0.0015918444411120477\n",
      "119 0.0015299885501242985\n",
      "120 0.001473475521011651\n",
      "121 0.0014163320530306033\n",
      "122 0.001359649191778019\n",
      "123 0.0013067642537124826\n",
      "124 0.001255450072917501\n",
      "125 0.001208164240298423\n",
      "126 0.0011605003856475463\n",
      "127 0.0011184061159056926\n",
      "128 0.0010779666228465615\n",
      "129 0.001037304645180587\n",
      "130 0.0009971435371044922\n",
      "131 0.0009593395450654401\n",
      "132 0.0009243932464031431\n",
      "133 0.0008940619525499048\n",
      "134 0.0008637854698002492\n",
      "135 0.000835006538646432\n",
      "136 0.0008060692323437755\n",
      "137 0.0007795404746120079\n",
      "138 0.0007571801569880548\n",
      "139 0.0007354817121046046\n",
      "140 0.0007142285807110759\n",
      "141 0.0006947052678211343\n",
      "142 0.0006754969247469323\n",
      "143 0.0006556677120749428\n",
      "144 0.0006360254163680146\n",
      "145 0.0006157006013466441\n",
      "146 0.00059786507802371\n",
      "147 0.0005808698022847824\n",
      "148 0.0005635250035245608\n",
      "149 0.0005460757039383937\n",
      "150 0.0005293704517976641\n",
      "151 0.0005138804339969654\n",
      "152 0.0004993124918167253\n",
      "153 0.0004853482496355048\n",
      "154 0.0004718391003664166\n",
      "155 0.00045870137783825905\n",
      "156 0.00044629864683635545\n",
      "157 0.0004345175546713796\n",
      "158 0.000423649330743513\n",
      "159 0.00041336813866195177\n",
      "160 0.0004028459043096548\n",
      "161 0.00039237036349739837\n",
      "162 0.0003826019031008199\n",
      "163 0.00037297697742187446\n",
      "164 0.00036323447539437224\n",
      "165 0.0003539999426407916\n",
      "166 0.0003449456922343984\n",
      "167 0.00033632848540604457\n",
      "168 0.00032813986495528385\n",
      "169 0.0003195611474277995\n",
      "170 0.0003115582247241435\n",
      "171 0.00030434824434155883\n",
      "172 0.00029737796899611103\n",
      "173 0.0002899336588428023\n",
      "174 0.0002828550203854925\n",
      "175 0.00027625902716248314\n",
      "176 0.00026952893909219235\n",
      "177 0.0002628408052162271\n",
      "178 0.0002563057481797092\n",
      "179 0.0002501337893718678\n",
      "180 0.00024434877575778345\n",
      "181 0.00023853963399064282\n",
      "182 0.00023298387861727342\n",
      "183 0.00022773396102184883\n",
      "184 0.00022251392485963143\n",
      "185 0.000217224416641989\n",
      "186 0.00021228738943840367\n",
      "187 0.00020745514383170913\n",
      "188 0.0002026998635624766\n",
      "189 0.00019818836265612482\n",
      "190 0.00019372136372716422\n",
      "191 0.00018958161806427925\n",
      "192 0.00018539958639093808\n",
      "193 0.0001812317247614796\n",
      "194 0.0001773075586473909\n",
      "195 0.0001736696479648564\n",
      "196 0.00016998358986730915\n",
      "197 0.00016621507485015536\n",
      "198 0.000162840291099191\n",
      "199 0.0001595292959750161\n",
      "200 0.0001561605560980044\n",
      "201 0.00015301320702134575\n",
      "202 0.0001499669620074835\n",
      "203 0.00014699223759970475\n",
      "204 0.00014405875701895696\n",
      "205 0.0001411889383356812\n",
      "206 0.00013843284865728363\n",
      "207 0.0001358638052338002\n",
      "208 0.00013324346725961626\n",
      "209 0.00013063827595224373\n",
      "210 0.00012830857787917628\n",
      "211 0.00012597155165434891\n",
      "212 0.00012360576372030463\n",
      "213 0.00012134792129495928\n",
      "214 0.00011918218140149984\n",
      "215 0.00011706258702948874\n",
      "216 0.00011500365370493171\n",
      "217 0.0001129714473861472\n",
      "218 0.00011101995380761659\n",
      "219 0.00010917535943251466\n",
      "220 0.0001073154055879049\n",
      "221 0.00010550787284273325\n",
      "222 0.00010384521003151383\n",
      "223 0.00010217008283476942\n",
      "224 0.00010042883631342939\n",
      "225 9.885183864569928e-05\n",
      "226 9.732841528531159e-05\n",
      "227 9.580529359819599e-05\n",
      "228 9.428777539072405e-05\n",
      "229 9.280068392002296e-05\n",
      "230 9.141631991141757e-05\n",
      "231 9.007929224262534e-05\n",
      "232 8.874324924802963e-05\n",
      "233 8.73932504702826e-05\n",
      "234 8.612858273350528e-05\n",
      "235 8.488864257536662e-05\n",
      "236 8.36555354409587e-05\n",
      "237 8.246190988020508e-05\n",
      "238 8.130693694881389e-05\n",
      "239 8.016141965294832e-05\n",
      "240 7.905986347754113e-05\n",
      "241 7.797403996056713e-05\n",
      "242 7.693150340690622e-05\n",
      "243 7.591032743229803e-05\n",
      "244 7.490138429116087e-05\n",
      "245 7.390781724062223e-05\n",
      "246 7.296870454484118e-05\n",
      "247 7.203538530064757e-05\n",
      "248 7.109426049930233e-05\n",
      "249 7.019301186965719e-05\n",
      "250 6.93179334473307e-05\n",
      "251 6.845701037803666e-05\n",
      "252 6.761095295826374e-05\n",
      "253 6.67807180591889e-05\n",
      "254 6.597545407096512e-05\n",
      "255 6.518302456290167e-05\n",
      "256 6.441092429386527e-05\n",
      "257 6.364309989325831e-05\n",
      "258 6.289382956640485e-05\n",
      "259 6.216256528442838e-05\n",
      "260 6.143923718955853e-05\n",
      "261 6.072675263338647e-05\n",
      "262 6.002786739780754e-05\n",
      "263 5.934794133867988e-05\n",
      "264 5.867694684516186e-05\n",
      "265 5.8019503602276554e-05\n",
      "266 5.737612100668317e-05\n",
      "267 5.6741878100957836e-05\n",
      "268 5.611683085693452e-05\n",
      "269 5.55043524508666e-05\n",
      "270 5.490346214213749e-05\n",
      "271 5.431282017373332e-05\n",
      "272 5.372761652915847e-05\n",
      "273 5.315171153062894e-05\n",
      "274 5.258721413216496e-05\n",
      "275 5.2034454842868905e-05\n",
      "276 5.148861768811451e-05\n",
      "277 5.095010584402194e-05\n",
      "278 5.042063343433149e-05\n",
      "279 4.98998449406407e-05\n",
      "280 4.938780358685511e-05\n",
      "281 4.8881369460619266e-05\n",
      "282 4.838249012326566e-05\n",
      "283 4.7891421637856756e-05\n",
      "284 4.7407383856676326e-05\n",
      "285 4.693021739522801e-05\n",
      "286 4.6460289451010346e-05\n",
      "287 4.599749396330787e-05\n",
      "288 4.554063256844385e-05\n",
      "289 4.509063298610452e-05\n",
      "290 4.464750124088124e-05\n",
      "291 4.421045185759552e-05\n",
      "292 4.377927495343212e-05\n",
      "293 4.335433752640776e-05\n",
      "294 4.293537380757837e-05\n",
      "295 4.252225099085921e-05\n",
      "296 4.211422861699633e-05\n",
      "297 4.171169102912503e-05\n",
      "298 4.1314941586693256e-05\n",
      "299 4.0923774930680634e-05\n",
      "300 4.053750217070376e-05\n",
      "301 4.015614910150007e-05\n",
      "302 3.977978122260532e-05\n",
      "303 3.940828770738391e-05\n",
      "304 3.904174272813173e-05\n",
      "305 3.867958380596092e-05\n",
      "306 3.832202656867863e-05\n",
      "307 3.7969118730594206e-05\n",
      "308 3.7620561364479534e-05\n",
      "309 3.72762915643012e-05\n",
      "310 3.6936290715317704e-05\n",
      "311 3.66006524677518e-05\n",
      "312 3.626910213221614e-05\n",
      "313 3.5941740175412e-05\n",
      "314 3.56184675187792e-05\n",
      "315 3.529918436369338e-05\n",
      "316 3.498385154699165e-05\n",
      "317 3.467234635527191e-05\n",
      "318 3.436466439594939e-05\n",
      "319 3.406073917683884e-05\n",
      "320 3.376045930077456e-05\n",
      "321 3.346377215946564e-05\n",
      "322 3.317062688506415e-05\n",
      "323 3.288099396407312e-05\n",
      "324 3.259475567014955e-05\n",
      "325 3.231186653239807e-05\n",
      "326 3.203225330674102e-05\n",
      "327 3.175587095171854e-05\n",
      "328 3.148267668966866e-05\n",
      "329 3.121260677446687e-05\n",
      "330 3.09456170613511e-05\n",
      "331 3.0681687260977294e-05\n",
      "332 3.042075411417404e-05\n",
      "333 3.016277950609411e-05\n",
      "334 2.9907751962393818e-05\n",
      "335 2.9655628268140525e-05\n",
      "336 2.94063626537398e-05\n",
      "337 2.915992180399295e-05\n",
      "338 2.891627188039956e-05\n",
      "339 2.8675380977232034e-05\n"
     ]
    },
    {
     "name": "stdout",
     "output_type": "stream",
     "text": [
      "340 2.843721323491012e-05\n",
      "341 2.820171757569094e-05\n",
      "342 2.796885708848047e-05\n",
      "343 2.7738600556145874e-05\n",
      "344 2.7510901157850225e-05\n",
      "345 2.7285712219030013e-05\n",
      "346 2.7062995949559456e-05\n",
      "347 2.684271111623832e-05\n",
      "348 2.662481934575247e-05\n",
      "349 2.6409283418950798e-05\n",
      "350 2.6196068236083546e-05\n",
      "351 2.598513802220383e-05\n",
      "352 2.5776459834959866e-05\n",
      "353 2.5570002697940694e-05\n",
      "354 2.5365740373934542e-05\n",
      "355 2.5163644582858575e-05\n",
      "356 2.496368865565693e-05\n",
      "357 2.476584778956165e-05\n",
      "358 2.4570099812180785e-05\n",
      "359 2.437641945304448e-05\n",
      "360 2.4184782119803544e-05\n",
      "361 2.3995164096585302e-05\n",
      "362 2.380754067788993e-05\n",
      "363 2.3621886261660566e-05\n",
      "364 2.3438175327571693e-05\n",
      "365 2.325638111419228e-05\n",
      "366 2.3076476886869133e-05\n",
      "367 2.2898435672483485e-05\n",
      "368 2.2722230351525825e-05\n",
      "369 2.2547834151260173e-05\n",
      "370 2.2375220320622523e-05\n",
      "371 2.2204362886966935e-05\n",
      "372 2.203523666244446e-05\n",
      "373 2.186781750553352e-05\n",
      "374 2.1702082327571572e-05\n",
      "375 2.1538009141027012e-05\n",
      "376 2.1375577074608518e-05\n",
      "377 2.121476625691914e-05\n",
      "378 2.105555769354513e-05\n",
      "379 2.0897933158917356e-05\n",
      "380 2.0741874989456913e-05\n",
      "381 2.0587365882884796e-05\n",
      "382 2.0434388741350208e-05\n",
      "383 2.028292648612612e-05\n",
      "384 2.013296191384005e-05\n",
      "385 1.998447757016375e-05\n",
      "386 1.9837455720443936e-05\n",
      "387 1.969187832496414e-05\n",
      "388 1.954772706280141e-05\n",
      "389 1.9404983408226277e-05\n",
      "390 1.926362871579072e-05\n",
      "391 1.9123644337307135e-05\n",
      "392 1.898501176564405e-05\n",
      "393 1.884771276450209e-05\n",
      "394 1.8711729499215332e-05\n",
      "395 1.8577044621588137e-05\n",
      "396 1.844364138419646e-05\n",
      "397 1.831150368927112e-05\n",
      "398 1.8180616092004397e-05\n",
      "399 1.805096379639614e-05\n",
      "400 1.7922532621651562e-05\n",
      "401 1.7795308934591066e-05\n",
      "402 1.7669279559223288e-05\n",
      "403 1.754443165094454e-05\n",
      "404 1.7420752599693695e-05\n",
      "405 1.729822992532166e-05\n",
      "406 1.717685118252253e-05\n",
      "407 1.7056603884815536e-05\n",
      "408 1.6937475439010475e-05\n",
      "409 1.681945310206598e-05\n",
      "410 1.6702523996140007e-05\n",
      "411 1.6586675126359406e-05\n",
      "412 1.647189342083365e-05\n",
      "413 1.6358165781488382e-05\n",
      "414 1.6245479149651384e-05\n",
      "415 1.6133820592837153e-05\n",
      "416 1.6023177375965196e-05\n",
      "417 1.5913537031669187e-05\n",
      "418 1.5804887407664367e-05\n",
      "419 1.5697216716565418e-05\n",
      "420 1.559051356300268e-05\n",
      "421 1.548476694422074e-05\n",
      "422 1.537996623706844e-05\n",
      "423 1.5276101169517436e-05\n",
      "424 1.517316177344314e-05\n",
      "425 1.5071138330097036e-05\n",
      "426 1.4970021308029472e-05\n",
      "427 1.4869801299760388e-05\n",
      "428 1.4770468966621234e-05\n",
      "429 1.4672014987564571e-05\n",
      "430 1.4574430021412008e-05\n",
      "431 1.4477704682064876e-05\n",
      "432 1.4381829529502106e-05\n",
      "433 1.4286795073336546e-05\n",
      "434 1.4192591790604218e-05\n",
      "435 1.4099210158539836e-05\n",
      "436 1.4006640689551035e-05\n",
      "437 1.3914873974864794e-05\n",
      "438 1.382390072878765e-05\n",
      "439 1.3733711827831634e-05\n",
      "440 1.3644298347664447e-05\n",
      "441 1.3555651590550358e-05\n",
      "442 1.3467763102593946e-05\n",
      "443 1.3380624679537834e-05\n",
      "444 1.3294228361136946e-05\n",
      "445 1.3208566415580413e-05\n",
      "446 1.3123631314119054e-05\n",
      "447 1.30394156996569e-05\n",
      "448 1.2955912351208327e-05\n",
      "449 1.287311414656661e-05\n",
      "450 1.2791014027051288e-05\n",
      "451 1.2709604966190343e-05\n",
      "452 1.2628879945034798e-05\n",
      "453 1.2548831935529681e-05\n",
      "454 1.2469453892341236e-05\n",
      "455 1.2390738753604057e-05\n",
      "456 1.2312679450175717e-05\n",
      "457 1.2235268921539011e-05\n",
      "458 1.2158500137062825e-05\n",
      "459 1.2082366120576865e-05\n",
      "460 1.2006859975893203e-05\n",
      "461 1.1931974911411511e-05\n",
      "462 1.1857704261643181e-05\n",
      "463 1.1784041503995357e-05\n",
      "464 1.1710980269600906e-05\n",
      "465 1.1638514347689116e-05\n",
      "466 1.156663768322076e-05\n",
      "467 1.1495344368177335e-05\n",
      "468 1.1424628627495156e-05\n",
      "469 1.1354484800889173e-05\n",
      "470 1.1284907322211113e-05\n",
      "471 1.1215890698015186e-05\n",
      "472 1.114742948705101e-05\n",
      "473 1.1079518282222413e-05\n",
      "474 1.1012151696295639e-05\n",
      "475 1.0945324352251264e-05\n",
      "476 1.0879030878745187e-05\n",
      "477 1.0813265910748386e-05\n",
      "478 1.0748024094944796e-05\n",
      "479 1.068330009914974e-05\n",
      "480 1.0619088624712257e-05\n",
      "481 1.0555384420675137e-05\n",
      "482 1.0492182298378797e-05\n",
      "483 1.0429477145217896e-05\n",
      "484 1.0367263936402955e-05\n",
      "485 1.0305537743777408e-05\n",
      "486 1.0244293741023425e-05\n",
      "487 1.0183527204917435e-05\n",
      "488 1.0123233512632397e-05\n",
      "489 1.006340813542867e-05\n",
      "490 1.0004046629334823e-05\n",
      "491 9.94514462366067e-06\n",
      "492 9.886697808338715e-06\n",
      "493 9.828701921136322e-06\n",
      "494 9.771152735742165e-06\n",
      "495 9.7140460516266e-06\n",
      "496 9.657377686373835e-06\n",
      "497 9.601143470966613e-06\n",
      "498 9.545339248201379e-06\n",
      "499 9.489960874192411e-06\n",
      "500 9.435004222627057e-06\n",
      "501 9.380465191252591e-06\n",
      "502 9.32633970989938e-06\n",
      "503 9.272623749263918e-06\n",
      "504 9.219313329637729e-06\n",
      "505 9.166404528817084e-06\n",
      "506 9.11389348852766e-06\n",
      "507 9.06177641884978e-06\n",
      "508 9.010049600317341e-06\n",
      "509 8.958709383578773e-06\n",
      "510 8.907752186705296e-06\n",
      "511 8.857174490442625e-06\n",
      "512 8.806972831848273e-06\n",
      "513 8.757143796880096e-06\n",
      "514 8.707684012568901e-06\n",
      "515 8.658590139405133e-06\n",
      "516 8.609858864532653e-06\n",
      "517 8.56148689624135e-06\n",
      "518 8.513470960117638e-06\n",
      "519 8.465807797053284e-06\n",
      "520 8.418494163150652e-06\n",
      "521 8.371526831396926e-06\n",
      "522 8.324902594834199e-06\n",
      "523 8.278618270846815e-06\n",
      "524 8.232670706104123e-06\n",
      "525 8.187056781665017e-06\n",
      "526 8.141773417766651e-06\n",
      "527 8.096817577855909e-06\n",
      "528 8.052186271524196e-06\n",
      "529 8.00787655610121e-06\n",
      "530 7.963885536800165e-06\n",
      "531 7.920210365431272e-06\n",
      "532 7.876848237828688e-06\n",
      "533 7.833796390238091e-06\n",
      "534 7.791052094995263e-06\n",
      "535 7.748612655871943e-06\n",
      "536 7.706475403478569e-06\n",
      "537 7.66463769109152e-06\n",
      "538 7.6230968912204265e-06\n",
      "539 7.581850393148963e-06\n",
      "540 7.540895601593437e-06\n",
      "541 7.500229936514429e-06\n",
      "542 7.459850834016073e-06\n",
      "543 7.419755748179936e-06\n",
      "544 7.379942153599803e-06\n",
      "545 7.340407548338726e-06\n",
      "546 7.301149457003154e-06\n",
      "547 7.262165433629926e-06\n",
      "548 7.223453064117531e-06\n",
      "549 7.185009967977187e-06\n",
      "550 7.146833799253157e-06\n",
      "551 7.108922246541223e-06\n",
      "552 7.071273032114224e-06\n",
      "553 7.033883910240341e-06\n",
      "554 6.996752664858288e-06\n",
      "555 6.959877106802258e-06\n",
      "556 6.923255070829933e-06\n",
      "557 6.88688441268403e-06\n",
      "558 6.850763006428724e-06\n",
      "559 6.814888742253234e-06\n",
      "560 6.779259524891472e-06\n",
      "561 6.743873272745807e-06\n",
      "562 6.7087279177350274e-06\n",
      "563 6.673821405823895e-06\n",
      "564 6.63915169813288e-06\n",
      "565 6.6047167724815475e-06\n",
      "566 6.570514625188496e-06\n",
      "567 6.53654327293022e-06\n",
      "568 6.502800754478735e-06\n",
      "569 6.469285132138245e-06\n",
      "570 6.435994492757863e-06\n",
      "571 6.40292694821951e-06\n",
      "572 6.370080635371975e-06\n",
      "573 6.3374537154156245e-06\n",
      "574 6.3050443728056226e-06\n",
      "575 6.272850813772369e-06\n",
      "576 6.240871264594884e-06\n",
      "577 6.209103969774479e-06\n",
      "578 6.177547190259568e-06\n",
      "579 6.1461992018662975e-06\n",
      "580 6.115058294004148e-06\n",
      "581 6.084122768796003e-06\n",
      "582 6.053390940634344e-06\n",
      "583 6.022861136172579e-06\n",
      "584 5.992531694719745e-06\n",
      "585 5.96240096896185e-06\n",
      "586 5.93246732591195e-06\n",
      "587 5.902729147976126e-06\n",
      "588 5.873184834010125e-06\n",
      "589 5.843832800258315e-06\n",
      "590 5.814671481071677e-06\n",
      "591 5.785699329334086e-06\n",
      "592 5.756914816552233e-06\n",
      "593 5.7283164326009e-06\n",
      "594 5.699902685141202e-06\n",
      "595 5.671672098770426e-06\n",
      "596 5.643623213970873e-06\n",
      "597 5.6157545859528845e-06\n",
      "598 5.588064783485921e-06\n",
      "599 5.5605523878135564e-06\n",
      "600 5.533215991732415e-06\n",
      "601 5.506054198901479e-06\n",
      "602 5.479065623420427e-06\n",
      "603 5.4522488896908365e-06\n",
      "604 5.425602632549847e-06\n",
      "605 5.399125497634832e-06\n",
      "606 5.3728161419290965e-06\n",
      "607 5.346673234410188e-06\n",
      "608 5.320695456730299e-06\n",
      "609 5.294881503848733e-06\n",
      "610 5.269230084547176e-06\n",
      "611 5.243739921776319e-06\n",
      "612 5.218409752792866e-06\n",
      "613 5.193238329074091e-06\n",
      "614 5.168224416014226e-06\n",
      "615 5.143366792430371e-06\n",
      "616 5.118664249919195e-06\n",
      "617 5.094115592117797e-06\n",
      "618 5.0697196339341786e-06\n",
      "619 5.045475200805245e-06\n",
      "620 5.021381128040493e-06\n",
      "621 4.997436260297044e-06\n",
      "622 4.973639451216692e-06\n",
      "623 4.949989563242183e-06\n",
      "624 4.926485467607368e-06\n",
      "625 4.903126044486737e-06\n",
      "626 4.879910183266471e-06\n",
      "627 4.856836782900164e-06\n",
      "628 4.833904752297513e-06\n",
      "629 4.811113010696797e-06\n",
      "630 4.78846048797823e-06\n",
      "631 4.7659461248775986e-06\n",
      "632 4.743568873078539e-06\n",
      "633 4.721327695165391e-06\n",
      "634 4.699221564441215e-06\n",
      "635 4.677249464624545e-06\n",
      "636 4.65541038944834e-06\n",
      "637 4.633703342198367e-06\n",
      "638 4.6121273352246755e-06\n",
      "639 4.590681389470414e-06\n",
      "640 4.569364534050729e-06\n",
      "641 4.548175805912972e-06\n",
      "642 4.5271142495987224e-06\n",
      "643 4.506178917118353e-06\n",
      "644 4.485368867935258e-06\n",
      "645 4.464683169052121e-06\n",
      "646 4.444120895171969e-06\n",
      "647 4.42368112891348e-06\n",
      "648 4.403362961044665e-06\n",
      "649 4.383165490704702e-06\n",
      "650 4.363087825584531e-06\n",
      "651 4.34312908204141e-06\n"
     ]
    },
    {
     "name": "stdout",
     "output_type": "stream",
     "text": [
      "652 4.323288385132742e-06\n",
      "653 4.303564868558392e-06\n",
      "654 4.283957674514849e-06\n",
      "655 4.2644659534698585e-06\n",
      "656 4.245088863875985e-06\n",
      "657 4.225825571843622e-06\n",
      "658 4.206675250801846e-06\n",
      "659 4.187637081170389e-06\n",
      "660 4.1687102500682735e-06\n",
      "661 4.149893951077825e-06\n",
      "662 4.131187384078224e-06\n",
      "663 4.11258975515215e-06\n",
      "664 4.094100276569595e-06\n",
      "665 4.075718166832558e-06\n",
      "666 4.05744265077599e-06\n",
      "667 4.039272959696676e-06\n",
      "668 4.021208331498056e-06\n",
      "669 4.003248010822882e-06\n",
      "670 3.985391249160838e-06\n",
      "671 3.967637304909563e-06\n",
      "672 3.949985443384976e-06\n",
      "673 3.932434936770652e-06\n",
      "674 3.914985064013065e-06\n",
      "675 3.8976351106644815e-06\n",
      "676 3.880384368690669e-06\n",
      "677 3.863232136253401e-06\n",
      "678 3.846177717488715e-06\n",
      "679 3.829220422294313e-06\n",
      "680 3.812359566143088e-06\n",
      "681 3.7955944699334124e-06\n",
      "682 3.778924459883759e-06\n",
      "683 3.762348867474532e-06\n",
      "684 3.745867029435885e-06\n",
      "685 3.7294782877727424e-06\n",
      "686 3.713181989818969e-06\n",
      "687 3.696977488308338e-06\n",
      "688 3.6808641414468853e-06\n",
      "689 3.6648413129756176e-06\n",
      "690 3.6489083722104705e-06\n",
      "691 3.63306469405079e-06\n",
      "692 3.617309658955277e-06\n",
      "693 3.6016426528762044e-06\n",
      "694 3.586063067163082e-06\n",
      "695 3.5705702984363844e-06\n",
      "696 3.555163748442513e-06\n",
      "697 3.5398428238999e-06\n",
      "698 3.524606936348137e-06\n",
      "699 3.5094555020090986e-06\n",
      "700 3.4943879416706927e-06\n",
      "701 3.4794036805983944e-06\n",
      "702 3.464502148479011e-06\n",
      "703 3.4496827793942986e-06\n",
      "704 3.4349450118251607e-06\n",
      "705 3.420288288676936e-06\n",
      "706 3.4057120573194693e-06\n",
      "707 3.3912157696344405e-06\n",
      "708 3.3767988820569252e-06\n",
      "709 3.3624608556070355e-06\n",
      "710 3.3482011559016463e-06\n",
      "711 3.3340192531429292e-06\n",
      "712 3.3199146220821407e-06\n",
      "713 3.3058867419569487e-06\n",
      "714 3.291935096409089e-06\n",
      "715 3.2780591733842154e-06\n",
      "716 3.264258465022035e-06\n",
      "717 3.2505324675452433e-06\n",
      "718 3.2368806811538906e-06\n",
      "719 3.2233026099295638e-06\n",
      "720 3.209797761758737e-06\n",
      "721 3.196365648275481e-06\n",
      "722 3.183005784825231e-06\n",
      "723 3.1697176904489185e-06\n",
      "724 3.156500887883176e-06\n",
      "725 3.1433549035749027e-06\n",
      "726 3.1302792676994622e-06\n",
      "727 3.1172735141815387e-06\n",
      "728 3.1043371807105017e-06\n",
      "729 3.0914698087446526e-06\n",
      "730 3.0786709435020453e-06\n",
      "731 3.065940133936406e-06\n",
      "732 3.053276932695996e-06\n",
      "733 3.040680896069069e-06\n",
      "734 3.028151583918141e-06\n",
      "735 3.0156885596064954e-06\n",
      "736 3.0032913899236446e-06\n",
      "737 2.9909596450123687e-06\n",
      "738 2.9786928983028467e-06\n",
      "739 2.966490726458288e-06\n",
      "740 2.954352709331791e-06\n",
      "741 2.94227842993822e-06\n",
      "742 2.93026747443808e-06\n",
      "743 2.91831943213233e-06\n",
      "744 2.9064338954661773e-06\n",
      "745 2.8946104600357495e-06\n",
      "746 2.8828487245958456e-06\n",
      "747 2.871148291063487e-06\n",
      "748 2.859508764514371e-06\n",
      "749 2.847929753170136e-06\n",
      "750 2.8364108683743294e-06\n",
      "751 2.82495172455773e-06\n",
      "752 2.8135519391943673e-06\n",
      "753 2.8022111327490268e-06\n",
      "754 2.7909289286208626e-06\n",
      "755 2.779704953084786e-06\n",
      "756 2.768538835235926e-06\n",
      "757 2.757430206938484e-06\n",
      "758 2.746378702782104e-06\n",
      "759 2.7353839600478476e-06\n",
      "760 2.7244456186837485e-06\n",
      "761 2.7135633212903845e-06\n",
      "762 2.7027367131130993e-06\n",
      "763 2.691965442041673e-06\n",
      "764 2.681249158612113e-06\n",
      "765 2.6705875160103363e-06\n",
      "766 2.6599801700718553e-06\n",
      "767 2.6494267792782315e-06\n",
      "768 2.6389270047464088e-06\n",
      "769 2.6284805102113586e-06\n",
      "770 2.618086962000433e-06\n",
      "771 2.6077460290019122e-06\n",
      "772 2.597457382627968e-06\n",
      "773 2.5872206967732908e-06\n",
      "774 2.5770356477740775e-06\n",
      "775 2.5669019143674652e-06\n",
      "776 2.556819177653366e-06\n",
      "777 2.546787121062551e-06\n",
      "778 2.5368054303291765e-06\n",
      "779 2.5268737934706907e-06\n",
      "780 2.516991900772804e-06\n",
      "781 2.5071594447793374e-06\n",
      "782 2.4973761202868145e-06\n",
      "783 2.487641624339718e-06\n",
      "784 2.477955656225839e-06\n",
      "785 2.4683179174704656e-06\n",
      "786 2.458728111827152e-06\n",
      "787 2.4491859452641184e-06\n",
      "788 2.439691125946111e-06\n",
      "789 2.43024336421205e-06\n",
      "790 2.4208423725480584e-06\n",
      "791 2.4114878655585658e-06\n",
      "792 2.4021795599350262e-06\n",
      "793 2.3929171744256877e-06\n",
      "794 2.3837004298059556e-06\n",
      "795 2.3745290488525664e-06\n",
      "796 2.3654027563205944e-06\n",
      "797 2.3563212789255094e-06\n",
      "798 2.3472843453296523e-06\n",
      "799 2.3382916861316906e-06\n",
      "800 2.329343033860319e-06\n",
      "801 2.32043812296879e-06\n",
      "802 2.3115766898313197e-06\n",
      "803 2.3027584727373912e-06\n",
      "804 2.2939832118857116e-06\n",
      "805 2.2852506493737105e-06\n",
      "806 2.2765605291859955e-06\n",
      "807 2.267912597176201e-06\n",
      "808 2.259306601048176e-06\n",
      "809 2.250742290333361e-06\n",
      "810 2.242219416366063e-06\n",
      "811 2.2337377322584733e-06\n",
      "812 2.2252969928760364e-06\n",
      "813 2.2168969548134376e-06\n",
      "814 2.2085373763739597e-06\n",
      "815 2.2002180175506326e-06\n",
      "816 2.1919386400118145e-06\n",
      "817 2.183699007087877e-06\n",
      "818 2.1754988837630522e-06\n",
      "819 2.1673380366669367e-06\n",
      "820 2.159216234069119e-06\n",
      "821 2.151133245872943e-06\n",
      "822 2.143088843609362e-06\n",
      "823 2.1350828004292534e-06\n",
      "824 2.127114891093593e-06\n",
      "825 2.1191848919628045e-06\n",
      "826 2.111292580981576e-06\n",
      "827 2.1034377376642767e-06\n",
      "828 2.0956201430775393e-06\n",
      "829 2.087839579821765e-06\n",
      "830 2.0800958320139717e-06\n",
      "831 2.0723886852694515e-06\n",
      "832 2.064717926685912e-06\n",
      "833 2.0570833448283075e-06\n",
      "834 2.049484729716966e-06\n",
      "835 2.0419218728157398e-06\n",
      "836 2.0343945670237337e-06\n",
      "837 2.0269026066669965e-06\n",
      "838 2.0194457874916512e-06\n",
      "839 2.012023906657674e-06\n",
      "840 2.0046367627311758e-06\n",
      "841 1.9972841556768976e-06\n",
      "842 1.9899658868488894e-06\n",
      "843 1.98268175898003e-06\n",
      "844 1.975431576168969e-06\n",
      "845 1.9682151438678624e-06\n",
      "846 1.961032268866687e-06\n",
      "847 1.953882759278362e-06\n",
      "848 1.9467664245238453e-06\n",
      "849 1.9396830753168343e-06\n",
      "850 1.9326325236505893e-06\n",
      "851 1.925614582784817e-06\n",
      "852 1.918629067234975e-06\n",
      "853 1.91167579276317e-06\n",
      "854 1.904754576369837e-06\n",
      "855 1.8978652362873758e-06\n",
      "856 1.8910075919740143e-06\n",
      "857 1.884181464108821e-06\n",
      "858 1.8773866745854812e-06\n",
      "859 1.8706230465066304e-06\n",
      "860 1.8638904041771012e-06\n",
      "861 1.857188573095499e-06\n",
      "862 1.8505173799455786e-06\n",
      "863 1.8438766525854464e-06\n",
      "864 1.8372662200364968e-06\n",
      "865 1.8306859124719986e-06\n",
      "866 1.8241355612044924e-06\n",
      "867 1.8176149986740533e-06\n",
      "868 1.8111240584364864e-06\n",
      "869 1.8046625751529574e-06\n",
      "870 1.7982303845793319e-06\n",
      "871 1.7918273235580478e-06\n",
      "872 1.78545323000948e-06\n",
      "873 1.7791079429251445e-06\n",
      "874 1.772791302361303e-06\n",
      "875 1.7665031494326784e-06\n",
      "876 1.7602433263060679e-06\n",
      "877 1.7540116761946455e-06\n",
      "878 1.7478080433502762e-06\n",
      "879 1.7416322730573893e-06\n",
      "880 1.7354842116237925e-06\n",
      "881 1.729363706372842e-06\n",
      "882 1.7232706056342384e-06\n",
      "883 1.717204758734285e-06\n",
      "884 1.7111660159873375e-06\n",
      "885 1.7051542286855264e-06\n",
      "886 1.6991692490908967e-06\n",
      "887 1.6932109304269923e-06\n",
      "888 1.6872791268708708e-06\n",
      "889 1.6813736935471226e-06\n",
      "890 1.6754944865209168e-06\n",
      "891 1.6696413627928986e-06\n",
      "892 1.6638141802937439e-06\n",
      "893 1.6580127978787776e-06\n",
      "894 1.6522370753234291e-06\n",
      "895 1.6464868733168447e-06\n",
      "896 1.6407620534560554e-06\n",
      "897 1.6350624782398067e-06\n",
      "898 1.6293880110609803e-06\n",
      "899 1.6237385161991558e-06\n",
      "900 1.6181138588124752e-06\n",
      "901 1.6125139049289062e-06\n",
      "902 1.6069385214386706e-06\n",
      "903 1.6013875760853217e-06\n",
      "904 1.5958609374579438e-06\n",
      "905 1.590358474984103e-06\n",
      "906 1.5848800589224563e-06\n",
      "907 1.5794255603569427e-06\n",
      "908 1.5739948511908392e-06\n",
      "909 1.5685878041418843e-06\n",
      "910 1.5632042927370538e-06\n",
      "911 1.5578441913079793e-06\n",
      "912 1.5525073749867898e-06\n",
      "913 1.5471937197009166e-06\n",
      "914 1.5419031021680075e-06\n",
      "915 1.536635399891342e-06\n",
      "916 1.5313904911536886e-06\n",
      "917 1.5261682550112455e-06\n",
      "918 1.5209685712877961e-06\n",
      "919 1.5157913205682903e-06\n",
      "920 1.5106363841921507e-06\n",
      "921 1.5055036442471334e-06\n",
      "922 1.5003929835630536e-06\n",
      "923 1.4953042857061365e-06\n",
      "924 1.4902374349732048e-06\n",
      "925 1.4851923163861048e-06\n",
      "926 1.480168815687632e-06\n",
      "927 1.475166819335655e-06\n",
      "928 1.4701862144992667e-06\n",
      "929 1.4652268890542296e-06\n",
      "930 1.4602887315775396e-06\n",
      "931 1.455371631343346e-06\n",
      "932 1.4504754783180546e-06\n",
      "933 1.4456001631544074e-06\n",
      "934 1.440745577187048e-06\n",
      "935 1.4359116124260039e-06\n",
      "936 1.4310981615518402e-06\n",
      "937 1.426305117909555e-06\n",
      "938 1.4215323755031243e-06\n",
      "939 1.4167798289904636e-06\n",
      "940 1.4120473736781397e-06\n",
      "941 1.407334905516225e-06\n",
      "942 1.402642321094798e-06\n",
      "943 1.3979695176386936e-06\n",
      "944 1.393316393004848e-06\n",
      "945 1.388682845677076e-06\n",
      "946 1.3840687747639683e-06\n",
      "947 1.3794740799940872e-06\n",
      "948 1.3748986617129039e-06\n",
      "949 1.370342420878676e-06\n",
      "950 1.3658052590585493e-06\n",
      "951 1.3612870784237627e-06\n",
      "952 1.3567877817458222e-06\n",
      "953 1.3523072723911766e-06\n",
      "954 1.3478454543169233e-06\n",
      "955 1.3434022320654606e-06\n",
      "956 1.338977510760009e-06\n",
      "957 1.3345711960998131e-06\n",
      "958 1.330183194355496e-06\n",
      "959 1.3258134123646284e-06\n",
      "960 1.3214617575280717e-06\n",
      "961 1.3171281378052757e-06\n",
      "962 1.3128124617111656e-06\n",
      "963 1.308514638312121e-06\n",
      "964 1.304234577222478e-06\n",
      "965 1.299972188601444e-06\n"
     ]
    },
    {
     "name": "stdout",
     "output_type": "stream",
     "text": [
      "966 1.2957273831487708e-06\n",
      "967 1.2915000721018492e-06\n",
      "968 1.2872901672319836e-06\n",
      "969 1.283097580840052e-06\n",
      "970 1.27892222575383e-06\n",
      "971 1.2747640153228064e-06\n",
      "972 1.270622863415623e-06\n",
      "973 1.2664986844152301e-06\n",
      "974 1.2623913932158968e-06\n",
      "975 1.2583009052197024e-06\n",
      "976 1.254227136332207e-06\n",
      "977 1.2501700029600195e-06\n",
      "978 1.24612942200687e-06\n",
      "979 1.2421053108712337e-06\n",
      "980 1.2380975874422597e-06\n",
      "981 1.234106170097534e-06\n",
      "982 1.2301309776995297e-06\n",
      "983 1.2261719295924705e-06\n",
      "984 1.2222289455988125e-06\n",
      "985 1.2183019460167326e-06\n",
      "986 1.2143908516151936e-06\n",
      "987 1.210495583631817e-06\n",
      "988 1.2066160637682897e-06\n",
      "989 1.2027522141872216e-06\n",
      "990 1.1989039575084257e-06\n",
      "991 1.1950712168053113e-06\n",
      "992 1.1912539156017463e-06\n",
      "993 1.1874519778687676e-06\n",
      "994 1.183665328021201e-06\n",
      "995 1.1798938909149247e-06\n",
      "996 1.1761375918443889e-06\n",
      "997 1.1723963565392905e-06\n",
      "998 1.1686701111626265e-06\n",
      "999 1.1649587823074163e-06\n"
     ]
    }
   ],
   "source": [
    "spam_model.pretrain(targets = [init_ideal(d), povm_ideal(d)],\n",
    "                    num_iter = 1000,\n",
    "                    )"
   ]
  },
  {
   "cell_type": "code",
   "execution_count": 87,
   "metadata": {},
   "outputs": [
    {
     "data": {
      "application/vnd.jupyter.widget-view+json": {
       "model_id": "faad28a228bd4978b98675dccf589c11",
       "version_major": 2,
       "version_minor": 0
      },
      "text/plain": [
       "  0%|          | 0/1000 [00:00<?, ?it/s]"
      ]
     },
     "metadata": {},
     "output_type": "display_data"
    },
    {
     "name": "stdout",
     "output_type": "stream",
     "text": [
      "0 0.04686138565954114\n",
      "1 0.028614214144770892\n",
      "2 0.01645483558590204\n",
      "3 0.009048120959118514\n",
      "4 0.005086467996798958\n",
      "5 0.0034865554215461492\n",
      "6 0.00330679001933304\n",
      "7 0.0038859881415009762\n",
      "8 0.004738908169703214\n",
      "9 0.005540254767726348\n",
      "10 0.0060944274187765\n",
      "11 0.006309378898965732\n",
      "12 0.006178365283201143\n",
      "13 0.005746629216822284\n",
      "14 0.005084780345835404\n",
      "15 0.004288177819161923\n",
      "16 0.0034562734168437615\n",
      "17 0.0026853619392599635\n",
      "18 0.0020460976468651124\n",
      "19 0.0015705615095495161\n",
      "20 0.001269054957043234\n",
      "21 0.0011313318583196985\n",
      "22 0.0011311286030145807\n",
      "23 0.0012292785277225533\n",
      "24 0.0013777420761984928\n",
      "25 0.0015095408423209248\n",
      "26 0.0015952308275210545\n",
      "27 0.001608159954546592\n",
      "28 0.001540878142441433\n",
      "29 0.0014063800683946498\n",
      "30 0.0012313304852982138\n",
      "31 0.0010469409854411663\n",
      "32 0.0008805299152909166\n",
      "33 0.0007501634111275418\n",
      "34 0.0006632384281479387\n",
      "35 0.0006184281849889645\n",
      "36 0.0006089463503973874\n",
      "37 0.0006253757449205265\n",
      "38 0.0006549628147256184\n",
      "39 0.00068837868351681\n",
      "40 0.0007179981211160344\n",
      "41 0.0007325062160496435\n",
      "42 0.0007259177839703261\n",
      "43 0.0006973824253242144\n",
      "44 0.0006518205296757692\n",
      "45 0.0005941692490889337\n",
      "46 0.0005383348038045986\n",
      "47 0.0004921778947217457\n",
      "48 0.0004601599316427208\n",
      "49 0.0004422042611605216\n",
      "50 0.000438378588782288\n",
      "51 0.0004411048133664829\n",
      "52 0.0004469111986011033\n",
      "53 0.0004479923620320014\n",
      "54 0.00044436721752839925\n",
      "55 0.00043624992622813823\n",
      "56 0.0004190925400142944\n",
      "57 0.0004018617824328681\n",
      "58 0.0003799799965428647\n",
      "59 0.00036063277959081676\n",
      "60 0.0003475135801132688\n",
      "61 0.00033682223937032973\n",
      "62 0.0003310123927303407\n",
      "63 0.00033095377141296713\n",
      "64 0.00033079672159999824\n",
      "65 0.0003280149058201139\n",
      "66 0.0003234728219118957\n",
      "67 0.00031518988214860417\n",
      "68 0.00030322142345577983\n",
      "69 0.0002916015953680022\n",
      "70 0.00028232766844490205\n",
      "71 0.00027468295788354825\n",
      "72 0.0002707191441449447\n",
      "73 0.00027026848845287157\n",
      "74 0.0002672045526980446\n",
      "75 0.000263835550294227\n",
      "76 0.0002607597230325179\n",
      "77 0.00025450622672201333\n",
      "78 0.0002476765081352209\n",
      "79 0.00024280330119373557\n",
      "80 0.0002431178954744539\n",
      "81 0.0002368324130595385\n",
      "82 0.00023295157946540192\n",
      "83 0.00023980893213702842\n",
      "84 0.00023510480051938933\n",
      "85 0.00023462480859105637\n",
      "86 0.00023497706521658838\n",
      "87 0.00022911015451448566\n",
      "88 0.00022140289852357574\n",
      "89 0.00020101719230041423\n",
      "90 0.00019197993701996964\n",
      "91 0.00019925339797094394\n",
      "92 0.0002015609594443073\n",
      "93 0.00019268338259294859\n",
      "94 0.0001860875123219917\n",
      "95 0.00018942912411947963\n",
      "96 0.00019392530622882928\n",
      "97 0.0001906194348361581\n",
      "98 0.00018486369001830105\n",
      "99 0.00018488481790628365\n",
      "100 0.0001903222486275557\n",
      "101 0.00019184855552840696\n",
      "102 0.00018976510516254262\n",
      "103 0.000189995578961664\n",
      "104 0.00019674203073559297\n",
      "105 0.0002023887765971424\n",
      "106 0.00020148974261328072\n",
      "107 0.00020298627395303262\n",
      "108 0.00021309797992158646\n",
      "109 0.00023853859726077816\n",
      "110 0.0002237441131237389\n",
      "111 0.00022709461225809823\n",
      "112 0.00024531578261523474\n",
      "113 0.00023064570260642077\n",
      "114 0.00018976086408965234\n",
      "115 0.0002582909413701273\n",
      "116 0.00023706739322730574\n",
      "117 0.00017778871502173552\n",
      "118 0.0001428463881472804\n",
      "119 0.0001609401391915575\n",
      "120 0.0001939991726904174\n",
      "121 0.00019820368536151817\n",
      "122 0.00017442400765027265\n",
      "123 0.00015023092961217378\n",
      "124 0.0001461429483717405\n",
      "125 0.00016155811461214474\n",
      "126 0.00017795269890286917\n",
      "127 0.0001789521316377342\n",
      "128 0.0001672215805834617\n",
      "129 0.00015579845146892205\n",
      "130 0.0001542449225742964\n",
      "131 0.00016249227878211586\n",
      "132 0.00017171178111541476\n",
      "133 0.00017330188082329278\n",
      "134 0.00016809023306020858\n",
      "135 0.00016245249368073382\n",
      "136 0.00016155283381722783\n",
      "137 0.00016611886288930952\n",
      "138 0.00017166778958440984\n",
      "139 0.00017265639246266107\n",
      "140 0.00016957355434115594\n",
      "141 0.00016645918004188858\n",
      "142 0.00016645204302767228\n",
      "143 0.00017008010234722108\n",
      "144 0.00017440733190365144\n",
      "145 0.0001751173940766455\n",
      "146 0.00017310102607200428\n",
      "147 0.00017169699040489562\n",
      "148 0.00017280428729494275\n",
      "149 0.00017661880202496334\n",
      "150 0.00018081717837724543\n",
      "151 0.00018083393370520672\n",
      "152 0.00017818073087690246\n",
      "153 0.00017695324155292167\n",
      "154 0.0001786522858924675\n",
      "155 0.00018326298307506944\n",
      "156 0.00018861189803036824\n",
      "157 0.00018886416023596966\n",
      "158 0.0001858074466011857\n",
      "159 0.00018498522399899633\n",
      "160 0.0001877439742548223\n",
      "161 0.00019397066016048844\n",
      "162 0.0002014477883364069\n",
      "163 0.00020132727152732174\n",
      "164 0.00019839963369966968\n",
      "165 0.0001973158743599101\n",
      "166 0.00020063728106853898\n",
      "167 0.0002088572791157494\n",
      "168 0.00022021611489076427\n",
      "169 0.00022109858048545135\n",
      "170 0.00021557724717381703\n",
      "171 0.00021547636154185245\n",
      "172 0.0002219724682899502\n",
      "173 0.00023524245679676728\n",
      "174 0.0002504549990489183\n",
      "175 0.0002461585075525224\n",
      "176 0.00024204728001994555\n",
      "177 0.0002465550015249932\n",
      "178 0.0002548343611401232\n",
      "179 0.0002726800416370094\n",
      "180 0.0002986212188435232\n",
      "181 0.00028683038206097136\n",
      "182 0.00028599257496177106\n",
      "183 0.0002929268205437129\n",
      "184 0.0003055413021061271\n",
      "185 0.0002528881286410708\n",
      "186 0.0002273660979499435\n",
      "187 0.0003038570553743506\n",
      "188 0.00033644408449780234\n",
      "189 0.00032565873288873016\n",
      "190 0.000242336396334557\n",
      "191 0.00016309147090674212\n",
      "192 0.00015097847586994863\n",
      "193 0.00018763019840430396\n",
      "194 0.00023505484356947846\n",
      "195 0.00022401268627801095\n",
      "196 0.00017799377717079025\n",
      "197 0.0001288562484407058\n",
      "198 0.0001036934204691053\n",
      "199 0.00011025690272184622\n",
      "200 0.0001311065295120995\n",
      "201 0.00014805613970182656\n",
      "202 0.00014560222734272268\n",
      "203 0.0001275061361615821\n",
      "204 0.00010644410525521417\n",
      "205 9.465817015810305e-05\n",
      "206 9.341097433885935e-05\n",
      "207 0.00010280551360369488\n",
      "208 0.00011592623871338901\n",
      "209 0.00011930077719802234\n",
      "210 0.00011173915806286839\n",
      "211 9.658082575874945e-05\n",
      "212 8.683217018310093e-05\n",
      "213 8.642764587287122e-05\n",
      "214 9.184093120244263e-05\n",
      "215 9.635728771898744e-05\n",
      "216 9.583023755249186e-05\n",
      "217 9.075709324616524e-05\n",
      "218 8.465187806921291e-05\n",
      "219 8.092021044845757e-05\n",
      "220 8.04414549632616e-05\n",
      "221 8.172290986352183e-05\n",
      "222 8.266898888299992e-05\n",
      "223 8.213549627558615e-05\n",
      "224 8.031796868123719e-05\n",
      "225 7.8040795052947e-05\n",
      "226 7.595949368760712e-05\n",
      "227 7.450497108133269e-05\n",
      "228 7.397739537284677e-05\n",
      "229 7.419128660650477e-05\n",
      "230 7.440504554495217e-05\n",
      "231 7.381324741060552e-05\n",
      "232 7.233041607306658e-05\n",
      "233 7.081718757126806e-05\n",
      "234 7.015622570179522e-05\n",
      "235 7.023580586596866e-05\n",
      "236 7.015678487160445e-05\n",
      "237 6.93852957298381e-05\n",
      "238 6.832997712815118e-05\n",
      "239 6.765852509979627e-05\n",
      "240 6.740183171369638e-05\n",
      "241 6.704137586695033e-05\n",
      "242 6.631608655083313e-05\n",
      "243 6.558713469234088e-05\n",
      "244 6.534664358408302e-05\n",
      "245 6.552116135430487e-05\n",
      "246 6.54743087504753e-05\n",
      "247 6.478424521204999e-05\n",
      "248 6.382975568683875e-05\n",
      "249 6.336708013225937e-05\n",
      "250 6.355318450411865e-05\n",
      "251 6.365665830427474e-05\n",
      "252 6.302322998214926e-05\n",
      "253 6.207829839692701e-05\n",
      "254 6.17872897996271e-05\n",
      "255 6.233979159432962e-05\n",
      "256 6.28491978146302e-05\n",
      "257 6.246853697942325e-05\n",
      "258 6.150255507999421e-05\n",
      "259 6.104361929165599e-05\n",
      "260 6.151400424183726e-05\n",
      "261 6.215706886186831e-05\n",
      "262 6.207116488556823e-05\n",
      "263 6.128398648359987e-05\n",
      "264 6.070520471736781e-05\n",
      "265 6.102755665041874e-05\n",
      "266 6.183209560421137e-05\n",
      "267 6.214639009187059e-05\n",
      "268 6.169897422167294e-05\n",
      "269 6.122485894127521e-05\n",
      "270 6.148740707659599e-05\n",
      "271 6.216701805208536e-05\n",
      "272 6.233406120549521e-05\n",
      "273 6.184768833745314e-05\n",
      "274 6.153301313274627e-05\n",
      "275 6.207299417882414e-05\n",
      "276 6.299486912081435e-05\n",
      "277 6.309506260984124e-05\n",
      "278 6.232269915703792e-05\n",
      "279 6.196121561454842e-05\n",
      "280 6.259405008944842e-05\n",
      "281 6.366066052277575e-05\n",
      "282 6.438551644785684e-05\n",
      "283 6.424861641312681e-05\n",
      "284 6.366098897690761e-05\n",
      "285 6.356938966029512e-05\n",
      "286 6.41001044450304e-05\n",
      "287 6.489541887314397e-05\n",
      "288 6.57158391529652e-05\n",
      "289 6.597501315065066e-05\n",
      "290 6.566422329219828e-05\n",
      "291 6.57263811342889e-05\n",
      "292 6.648916415620352e-05\n",
      "293 6.738717199898215e-05\n",
      "294 6.817356238399078e-05\n",
      "295 6.864880181480425e-05\n",
      "296 6.85531189903035e-05\n",
      "297 6.863836796133568e-05\n",
      "298 6.962640184931329e-05\n",
      "299 7.080962113351212e-05\n",
      "300 7.176058366840993e-05\n",
      "301 7.290104929742969e-05\n",
      "302 7.360352630451491e-05\n",
      "303 7.398860389147431e-05\n",
      "304 7.512348224477203e-05\n",
      "305 7.679810237102162e-05\n",
      "306 7.808050167292687e-05\n",
      "307 8.002199167275694e-05\n",
      "308 8.128236724850136e-05\n",
      "309 8.142928963493424e-05\n",
      "310 8.285908271324611e-05\n",
      "311 8.641251420702855e-05\n",
      "312 8.804210878575854e-05\n",
      "313 9.135152431252929e-05\n",
      "314 9.501193952649999e-05\n",
      "315 9.401914593924552e-05\n",
      "316 9.340011237125387e-05\n",
      "317 9.736779335173835e-05\n",
      "318 9.928568201237634e-05\n"
     ]
    },
    {
     "name": "stdout",
     "output_type": "stream",
     "text": [
      "319 0.00010492335211766005\n",
      "320 0.00011110434918248307\n",
      "321 0.00010833537219025962\n",
      "322 0.00010692043269328238\n",
      "323 0.00011290366081148494\n",
      "324 0.00010628530197201136\n",
      "325 0.00011433853256983073\n",
      "326 0.00012537909617400814\n",
      "327 0.0001235395295649574\n",
      "328 0.00010143846302761952\n",
      "329 8.839532318564771e-05\n",
      "330 8.89806181698519e-05\n",
      "331 9.123155512970976e-05\n",
      "332 9.631903558079358e-05\n",
      "333 8.779704812223897e-05\n",
      "334 6.942192602649446e-05\n",
      "335 5.764619188327386e-05\n",
      "336 5.8237313656421404e-05\n",
      "337 6.203934906255903e-05\n",
      "338 6.105816347700439e-05\n",
      "339 5.514379304064395e-05\n",
      "340 4.8720472224835286e-05\n",
      "341 4.455303420614083e-05\n",
      "342 4.324912114347901e-05\n",
      "343 4.4054730986377117e-05\n",
      "344 4.407363476888651e-05\n",
      "345 4.382288672803458e-05\n",
      "346 3.9028403869817445e-05\n",
      "347 3.568830318402537e-05\n",
      "348 3.4854519773734296e-05\n",
      "349 3.493268058288046e-05\n",
      "350 3.484351445011463e-05\n",
      "351 3.453280740999787e-05\n",
      "352 3.368663611377822e-05\n",
      "353 3.198167906570827e-05\n",
      "354 3.036462504064151e-05\n",
      "355 3.005210557509992e-05\n",
      "356 3.0658533877014046e-05\n",
      "357 3.0802194078482934e-05\n",
      "358 3.009585556194259e-05\n",
      "359 2.930970666620777e-05\n",
      "360 2.889921541373678e-05\n",
      "361 2.8643086603048558e-05\n",
      "362 2.8383117533983728e-05\n",
      "363 2.8319406417366254e-05\n",
      "364 2.8422825826427295e-05\n",
      "365 2.8312451605154212e-05\n",
      "366 2.7836148585758635e-05\n",
      "367 2.7355145326559524e-05\n",
      "368 2.7259779225118083e-05\n",
      "369 2.744313129240372e-05\n",
      "370 2.743658055887246e-05\n",
      "371 2.707411522650983e-05\n",
      "372 2.672275979851329e-05\n",
      "373 2.6667776979381706e-05\n",
      "374 2.6644873580465725e-05\n",
      "375 2.6416935736079136e-05\n",
      "376 2.6280979996881892e-05\n",
      "377 2.6465401425084787e-05\n",
      "378 2.651450195779107e-05\n",
      "379 2.6052160127362264e-05\n",
      "380 2.5606728522123882e-05\n",
      "381 2.578217769681152e-05\n",
      "382 2.615454588338826e-05\n",
      "383 2.5984613315317556e-05\n",
      "384 2.5492713612693052e-05\n",
      "385 2.539633681919869e-05\n",
      "386 2.569704843598138e-05\n",
      "387 2.575809102310536e-05\n",
      "388 2.5408231016447428e-05\n",
      "389 2.508784479553244e-05\n",
      "390 2.5125581584617936e-05\n",
      "391 2.5312038279107234e-05\n",
      "392 2.527238784456238e-05\n",
      "393 2.4928727459582592e-05\n",
      "394 2.4696242645903792e-05\n",
      "395 2.4889175869968886e-05\n",
      "396 2.5124519694436382e-05\n",
      "397 2.4796758657994568e-05\n",
      "398 2.4233916193935605e-05\n",
      "399 2.4267135179558485e-05\n",
      "400 2.469162957458804e-05\n",
      "401 2.45412161069922e-05\n",
      "402 2.3918920182547988e-05\n",
      "403 2.3850465446500332e-05\n",
      "404 2.428802001360646e-05\n",
      "405 2.4209122722602234e-05\n",
      "406 2.3586727074939993e-05\n",
      "407 2.3382548485518177e-05\n",
      "408 2.3668918160582982e-05\n",
      "409 2.3641061646004195e-05\n",
      "410 2.3230789918645966e-05\n",
      "411 2.3057693912669492e-05\n",
      "412 2.317828426792595e-05\n",
      "413 2.3180693943674694e-05\n",
      "414 2.2977636689888668e-05\n",
      "415 2.2729235117335566e-05\n",
      "416 2.257086589930544e-05\n",
      "417 2.2653931154593015e-05\n",
      "418 2.2803142255488776e-05\n",
      "419 2.258692733499886e-05\n",
      "420 2.225685746951343e-05\n",
      "421 2.2464934834341184e-05\n",
      "422 2.2797272694473273e-05\n",
      "423 2.2459603231043797e-05\n",
      "424 2.2053778516723944e-05\n",
      "425 2.2511398873622457e-05\n",
      "426 2.2873330721382774e-05\n",
      "427 2.2446737724003788e-05\n",
      "428 2.2290670052662662e-05\n",
      "429 2.295707139922388e-05\n",
      "430 2.3008169589254932e-05\n",
      "431 2.2453027461678314e-05\n",
      "432 2.2774000023614983e-05\n",
      "433 2.3389724950714903e-05\n",
      "434 2.306211493754775e-05\n",
      "435 2.2653021401906107e-05\n",
      "436 2.354976660469666e-05\n",
      "437 2.3838183043226072e-05\n",
      "438 2.3129068488057092e-05\n",
      "439 2.3109019776727695e-05\n",
      "440 2.442212652044276e-05\n",
      "441 2.4250694059210583e-05\n",
      "442 2.3300378753399138e-05\n",
      "443 2.400833036152418e-05\n",
      "444 2.568865191522241e-05\n",
      "445 2.512166966238266e-05\n",
      "446 2.4077217455482833e-05\n",
      "447 2.5683903193643195e-05\n",
      "448 2.7803292823974173e-05\n",
      "449 2.9050760791523243e-05\n",
      "450 2.983086235297504e-05\n",
      "451 2.2585797449742662e-05\n",
      "452 3.0247587799942333e-05\n",
      "453 3.5633448939542235e-05\n",
      "454 2.2247383297495027e-05\n",
      "455 2.098275945140348e-05\n",
      "456 2.9015207487264904e-05\n",
      "457 3.050673052501361e-05\n",
      "458 2.550695760227509e-05\n",
      "459 2.439832642491121e-05\n",
      "460 2.94580815708301e-05\n",
      "461 3.395336117700511e-05\n",
      "462 3.835951656845767e-05\n",
      "463 3.59081943662038e-05\n",
      "464 2.63828675978767e-05\n",
      "465 3.240098132269834e-05\n",
      "466 4.213416430654047e-05\n",
      "467 4.1942908089341515e-05\n",
      "468 2.5606705248075215e-05\n",
      "469 2.1172345051692276e-05\n",
      "470 2.9878696169379543e-05\n",
      "471 3.4655536885466104e-05\n",
      "472 2.6777522121658803e-05\n",
      "473 1.7118240942782027e-05\n",
      "474 1.7785598933216672e-05\n",
      "475 2.4414068644083284e-05\n",
      "476 2.529044729783009e-05\n",
      "477 1.9562948332115164e-05\n",
      "478 1.5768124888928218e-05\n",
      "479 1.7620356023465524e-05\n",
      "480 2.0587011922338325e-05\n",
      "481 2.024271366612247e-05\n",
      "482 1.7697977936453114e-05\n",
      "483 1.606222337582767e-05\n",
      "484 1.6443306024358972e-05\n",
      "485 1.7732998474603042e-05\n",
      "486 1.822946720830588e-05\n",
      "487 1.7113616950040057e-05\n",
      "488 1.545676663022558e-05\n",
      "489 1.5291548718424393e-05\n",
      "490 1.6662024895131625e-05\n",
      "491 1.7268856999488984e-05\n",
      "492 1.59709530471679e-05\n",
      "493 1.463605052663347e-05\n",
      "494 1.5077616248396969e-05\n",
      "495 1.6233731421787888e-05\n",
      "496 1.6102107434527406e-05\n",
      "497 1.4955584438330229e-05\n",
      "498 1.4539769252506062e-05\n",
      "499 1.5166969976503149e-05\n",
      "500 1.5551441721170347e-05\n",
      "501 1.5109085568649462e-05\n",
      "502 1.4666463904625256e-05\n",
      "503 1.4787218740932584e-05\n",
      "504 1.4957501187769867e-05\n",
      "505 1.4762998239815165e-05\n",
      "506 1.4616530853045475e-05\n",
      "507 1.476737408319445e-05\n",
      "508 1.4787182917573438e-05\n",
      "509 1.4475843976038442e-05\n",
      "510 1.4374042512671055e-05\n",
      "511 1.4698621080371818e-05\n",
      "512 1.4788942890145264e-05\n",
      "513 1.434016239878061e-05\n",
      "514 1.4051116610189893e-05\n",
      "515 1.438047866993403e-05\n",
      "516 1.4678839824842884e-05\n",
      "517 1.433791832662909e-05\n",
      "518 1.3930947841638336e-05\n",
      "519 1.4086380643179535e-05\n",
      "520 1.4401128412726504e-05\n",
      "521 1.4251590107873553e-05\n",
      "522 1.3888546065809573e-05\n",
      "523 1.3855947960321814e-05\n",
      "524 1.4070794474439533e-05\n",
      "525 1.4077260616308839e-05\n",
      "526 1.3861656689291441e-05\n",
      "527 1.3736388991866032e-05\n",
      "528 1.3777810314095632e-05\n",
      "529 1.3838300280120661e-05\n",
      "530 1.380416832491259e-05\n",
      "531 1.3667817061025877e-05\n",
      "532 1.3593622594302204e-05\n",
      "533 1.3693699877759443e-05\n",
      "534 1.3781570045084189e-05\n",
      "535 1.3628306829836441e-05\n",
      "536 1.3451751722281396e-05\n",
      "537 1.3578925423808652e-05\n",
      "538 1.3771516873626593e-05\n",
      "539 1.3641616347632044e-05\n",
      "540 1.3432432198969128e-05\n",
      "541 1.3598265668234013e-05\n",
      "542 1.3843052569337924e-05\n",
      "543 1.3661715555289309e-05\n",
      "544 1.3435642337481611e-05\n",
      "545 1.3653984727206032e-05\n",
      "546 1.388967807698249e-05\n",
      "547 1.3688685593433623e-05\n",
      "548 1.3521653467040212e-05\n",
      "549 1.3804798109340774e-05\n",
      "550 1.3992431543295192e-05\n",
      "551 1.3704010061156333e-05\n",
      "552 1.3583671283318214e-05\n",
      "553 1.3931268815083968e-05\n",
      "554 1.4030697460747501e-05\n",
      "555 1.3715451874014006e-05\n",
      "556 1.3716846524805525e-05\n",
      "557 1.4091271167013261e-05\n",
      "558 1.4078726687889355e-05\n",
      "559 1.3737198864966167e-05\n",
      "560 1.3839084753558596e-05\n",
      "561 1.4206663566208165e-05\n",
      "562 1.4067381079010291e-05\n",
      "563 1.378753523310948e-05\n",
      "564 1.404116853140441e-05\n",
      "565 1.4311181261429085e-05\n",
      "566 1.4041058370870678e-05\n",
      "567 1.388279719052003e-05\n",
      "568 1.424014083707195e-05\n",
      "569 1.4361215362288197e-05\n",
      "570 1.4019422564078403e-05\n",
      "571 1.4027041508281983e-05\n",
      "572 1.4436000157549945e-05\n",
      "573 1.4379341232286189e-05\n",
      "574 1.4020990795923389e-05\n",
      "575 1.4196921642459136e-05\n",
      "576 1.4549055896944812e-05\n",
      "577 1.4320925162802257e-05\n",
      "578 1.4070401042833297e-05\n",
      "579 1.437290769322559e-05\n",
      "580 1.4581024711118881e-05\n",
      "581 1.426067283173974e-05\n",
      "582 1.4169697785965163e-05\n",
      "583 1.4514280875227653e-05\n",
      "584 1.4535818041916291e-05\n",
      "585 1.4248032022734612e-05\n",
      "586 1.4358045356144903e-05\n",
      "587 1.461059939401868e-05\n",
      "588 1.4424807343757304e-05\n",
      "589 1.4296891274274634e-05\n",
      "590 1.4564103622304752e-05\n",
      "591 1.4600732494290803e-05\n",
      "592 1.4353773330251037e-05\n",
      "593 1.4494305054736306e-05\n",
      "594 1.4750787199503112e-05\n",
      "595 1.4535769675179648e-05\n",
      "596 1.4402811549776832e-05\n",
      "597 1.4766800576289068e-05\n",
      "598 1.4839313012034115e-05\n",
      "599 1.4465384945520426e-05\n",
      "600 1.4611884129954174e-05\n",
      "601 1.5086531550918318e-05\n",
      "602 1.4855213502690122e-05\n",
      "603 1.4489970291082078e-05\n",
      "604 1.4952894912778839e-05\n",
      "605 1.5295782378195316e-05\n",
      "606 1.4738558288209064e-05\n",
      "607 1.4659602558367398e-05\n",
      "608 1.5363760055715443e-05\n",
      "609 1.536593202122363e-05\n",
      "610 1.4710559162633786e-05\n",
      "611 1.500408818574886e-05\n",
      "612 1.568299850447929e-05\n",
      "613 1.5216251304955296e-05\n",
      "614 1.474694908617225e-05\n",
      "615 1.5427341983008233e-05\n",
      "616 1.5745284464443123e-05\n",
      "617 1.5014296269757526e-05\n",
      "618 1.5026219549695344e-05\n",
      "619 1.5783086568682694e-05\n",
      "620 1.5489978130401297e-05\n",
      "621 1.486644545138882e-05\n",
      "622 1.5395779166477318e-05\n",
      "623 1.5783962488593618e-05\n",
      "624 1.5104165380319627e-05\n",
      "625 1.5029788623817877e-05\n",
      "626 1.570512928979058e-05\n",
      "627 1.5400573013134082e-05\n"
     ]
    },
    {
     "name": "stdout",
     "output_type": "stream",
     "text": [
      "628 1.479904564358867e-05\n",
      "629 1.5360364071412563e-05\n",
      "630 1.5621129892216014e-05\n",
      "631 1.4832973103659705e-05\n",
      "632 1.4899734305802665e-05\n",
      "633 1.5630983471957438e-05\n",
      "634 1.5088026037205902e-05\n",
      "635 1.4442679388426183e-05\n",
      "636 1.5269285684288504e-05\n",
      "637 1.541396477834123e-05\n",
      "638 1.4315799233645497e-05\n",
      "639 1.4586366926977394e-05\n",
      "640 1.549428548827069e-05\n",
      "641 1.4582455032351241e-05\n",
      "642 1.3866036737332542e-05\n",
      "643 1.5030865505564367e-05\n",
      "644 1.4996672085321485e-05\n",
      "645 1.356957551663973e-05\n",
      "646 1.4095210182265321e-05\n",
      "647 1.5059461608544565e-05\n",
      "648 1.372159415838459e-05\n",
      "649 1.3109825524053971e-05\n",
      "650 1.4478446946696285e-05\n",
      "651 1.4117349862374581e-05\n",
      "652 1.2603853585779844e-05\n",
      "653 1.3366505482991634e-05\n",
      "654 1.4160635750686716e-05\n",
      "655 1.2679112953317377e-05\n",
      "656 1.2302607362853247e-05\n",
      "657 1.3599610969193508e-05\n",
      "658 1.3043806582078565e-05\n",
      "659 1.1791235884773504e-05\n",
      "660 1.2623741293600628e-05\n",
      "661 1.3153986265761996e-05\n",
      "662 1.1870677487280912e-05\n",
      "663 1.1762521866069097e-05\n",
      "664 1.2774249377688287e-05\n",
      "665 1.222620075126147e-05\n",
      "666 1.1391413882006505e-05\n",
      "667 1.208245124391941e-05\n",
      "668 1.235685524611535e-05\n",
      "669 1.1465381863638547e-05\n",
      "670 1.1492413563270895e-05\n",
      "671 1.2078048290728887e-05\n",
      "672 1.1672476586693325e-05\n",
      "673 1.1232332671248527e-05\n",
      "674 1.1674328138004606e-05\n",
      "675 1.1792922626871595e-05\n",
      "676 1.1413356326995017e-05\n",
      "677 1.1525489650729975e-05\n",
      "678 1.1825199856295505e-05\n",
      "679 1.1714042721346929e-05\n",
      "680 1.1696576448861099e-05\n",
      "681 1.1935350493398971e-05\n",
      "682 1.201176810915046e-05\n",
      "683 1.2071082735408299e-05\n",
      "684 1.2273857427125266e-05\n",
      "685 1.2402558950327037e-05\n",
      "686 1.257980798810883e-05\n",
      "687 1.2865494891205383e-05\n",
      "688 1.304118655923227e-05\n",
      "689 1.3257432306734346e-05\n",
      "690 1.3722197600654286e-05\n",
      "691 1.4042701022190362e-05\n",
      "692 1.4201277389232559e-05\n",
      "693 1.4806278503252532e-05\n",
      "694 1.5429806154521848e-05\n",
      "695 1.56175381964044e-05\n",
      "696 1.622167400062355e-05\n",
      "697 1.732678650673941e-05\n",
      "698 1.783284895000243e-05\n",
      "699 1.7999101451093926e-05\n",
      "700 1.952757102596831e-05\n",
      "701 2.0828004853355274e-05\n",
      "702 2.0649707991641653e-05\n",
      "703 1.8137335913690882e-05\n",
      "704 2.2954569015295844e-05\n",
      "705 2.2131047488207104e-05\n",
      "706 1.6348362794456064e-05\n",
      "707 1.9045441749373336e-05\n",
      "708 2.237373246630013e-05\n",
      "709 1.4773732861339394e-05\n",
      "710 1.4319400292830107e-05\n",
      "711 1.817984841046567e-05\n",
      "712 1.4985488559161808e-05\n",
      "713 1.1257754528289379e-05\n",
      "714 1.3348774390617142e-05\n",
      "715 1.4296396106637135e-05\n",
      "716 1.1245472150009463e-05\n",
      "717 1.0507404706407937e-05\n",
      "718 1.2249665378989214e-05\n",
      "719 1.1667890794942298e-05\n",
      "720 1.000292184385171e-05\n",
      "721 1.0334640578864636e-05\n",
      "722 1.1055226733683715e-05\n",
      "723 1.0303900671028482e-05\n",
      "724 9.625135636327255e-06\n",
      "725 9.957594338488226e-06\n",
      "726 1.0110708641414276e-05\n",
      "727 9.67943122468226e-06\n",
      "728 9.372559715080915e-06\n",
      "729 9.46773872400487e-06\n",
      "730 9.51948580123238e-06\n",
      "731 9.234743553794026e-06\n",
      "732 8.938433545810966e-06\n",
      "733 9.004914748809185e-06\n",
      "734 9.107786922482921e-06\n",
      "735 8.818099491329923e-06\n",
      "736 8.558836073644673e-06\n",
      "737 8.69436874863361e-06\n",
      "738 8.716533453475359e-06\n",
      "739 8.374814771169795e-06\n",
      "740 8.228985380542085e-06\n",
      "741 8.404638089898612e-06\n",
      "742 8.336024009051797e-06\n",
      "743 8.052925251894731e-06\n",
      "744 8.013874271062725e-06\n",
      "745 8.14765130351646e-06\n",
      "746 8.039182962160624e-06\n",
      "747 7.790541540616007e-06\n",
      "748 7.792816420241651e-06\n",
      "749 7.938160632713051e-06\n",
      "750 7.811422282331954e-06\n",
      "751 7.563592847417584e-06\n",
      "752 7.663264072466469e-06\n",
      "753 7.825996055049334e-06\n",
      "754 7.581845565984982e-06\n",
      "755 7.394501164564496e-06\n",
      "756 7.65681772138902e-06\n",
      "757 7.709737654038699e-06\n",
      "758 7.342542180345504e-06\n",
      "759 7.375051880786199e-06\n",
      "760 7.730253186087847e-06\n",
      "761 7.512360324380519e-06\n",
      "762 7.188515488294039e-06\n",
      "763 7.522219224819312e-06\n",
      "764 7.692150436169105e-06\n",
      "765 7.2487274587149644e-06\n",
      "766 7.25755316719598e-06\n",
      "767 7.729891064530313e-06\n",
      "768 7.50515962874885e-06\n",
      "769 7.095509589957358e-06\n",
      "770 7.5169105549116285e-06\n",
      "771 7.743987188542157e-06\n",
      "772 7.194950977234946e-06\n",
      "773 7.232147917653855e-06\n",
      "774 7.813109364807015e-06\n",
      "775 7.508793744445931e-06\n",
      "776 7.074106024110878e-06\n",
      "777 7.63260747415822e-06\n",
      "778 7.835745508842085e-06\n",
      "779 7.207212418613786e-06\n",
      "780 7.361950804855042e-06\n",
      "781 8.016476948779746e-06\n",
      "782 7.62301699773978e-06\n",
      "783 7.229784221064816e-06\n",
      "784 7.93244552328066e-06\n",
      "785 8.103770346854357e-06\n",
      "786 7.438520800997628e-06\n",
      "787 7.750694035544828e-06\n",
      "788 8.449776832865772e-06\n",
      "789 7.991749975810696e-06\n",
      "790 7.71715819536869e-06\n",
      "791 8.54804200265392e-06\n",
      "792 8.683671019874492e-06\n",
      "793 8.071833818712104e-06\n",
      "794 8.528617821735647e-06\n",
      "795 9.527521194257485e-06\n",
      "796 8.864490224293119e-06\n",
      "797 8.812960283969189e-06\n",
      "798 1.0099812680294783e-05\n",
      "799 1.0204304619578064e-05\n",
      "800 9.510449906611277e-06\n",
      "801 1.0776119511767566e-05\n",
      "802 1.1562424658686178e-05\n",
      "803 1.0704081373186934e-05\n",
      "804 1.1216381212036878e-05\n",
      "805 1.2611248105698899e-05\n",
      "806 1.1970562865648971e-05\n",
      "807 1.2028082729506204e-05\n",
      "808 1.345602128888119e-05\n",
      "809 1.3163860940057172e-05\n",
      "810 1.324111841683544e-05\n",
      "811 1.397242427210872e-05\n",
      "812 1.406624540964754e-05\n",
      "813 1.4345544738226612e-05\n",
      "814 1.4855580261304513e-05\n",
      "815 1.4992718689251122e-05\n",
      "816 1.5324611437104446e-05\n",
      "817 1.6076144730489224e-05\n",
      "818 1.628159976615283e-05\n",
      "819 1.6286101769082734e-05\n",
      "820 1.724334323078196e-05\n",
      "821 1.783431244314136e-05\n",
      "822 1.7792444803535498e-05\n",
      "823 1.820823046110581e-05\n",
      "824 1.954896377813419e-05\n",
      "825 1.98175713812089e-05\n",
      "826 1.9693511384558278e-05\n",
      "827 2.076928618616255e-05\n",
      "828 2.2021350872726708e-05\n",
      "829 2.211810902112688e-05\n",
      "830 2.205817763468162e-05\n",
      "831 2.412626491656884e-05\n",
      "832 2.4989693761745687e-05\n",
      "833 2.489668906938916e-05\n",
      "834 2.5478127731724536e-05\n",
      "835 2.8275113036081525e-05\n",
      "836 2.8695232195367082e-05\n",
      "837 2.800712425915018e-05\n",
      "838 2.257265481661745e-05\n",
      "839 3.186544107731763e-05\n",
      "840 3.1032759851422285e-05\n",
      "841 2.5709532745001455e-05\n",
      "842 2.336558187683447e-05\n",
      "843 3.6579911609608916e-05\n",
      "844 3.3865476533524075e-05\n",
      "845 1.331639536362184e-05\n",
      "846 1.9233253743967448e-05\n",
      "847 2.8872609470271005e-05\n",
      "848 1.8950506507263374e-05\n",
      "849 7.543071284861748e-06\n",
      "850 1.223086029884371e-05\n",
      "851 1.9029447126979542e-05\n",
      "852 1.3302570797238003e-05\n",
      "853 5.80629176230299e-06\n",
      "854 8.241887153480497e-06\n",
      "855 1.3549793999285706e-05\n",
      "856 1.1594865568328202e-05\n",
      "857 7.00829333718573e-06\n",
      "858 8.284659147644092e-06\n",
      "859 1.203453568422486e-05\n",
      "860 1.0870776941821601e-05\n",
      "861 7.191513599723901e-06\n",
      "862 7.440982455574806e-06\n",
      "863 1.0256907233786256e-05\n",
      "864 1.0203487393053509e-05\n",
      "865 7.943270293940604e-06\n",
      "866 7.72366743322724e-06\n",
      "867 9.417229184159367e-06\n",
      "868 9.452831471859878e-06\n",
      "869 7.797195775159581e-06\n",
      "870 7.552338078463069e-06\n",
      "871 8.978688264961533e-06\n",
      "872 9.207248782744361e-06\n",
      "873 7.977542265358413e-06\n",
      "874 7.778315838315502e-06\n",
      "875 8.773777523043017e-06\n",
      "876 8.742995966317164e-06\n",
      "877 7.784354878994094e-06\n",
      "878 7.946882994124851e-06\n",
      "879 8.833533504456116e-06\n",
      "880 8.645162973398929e-06\n",
      "881 7.923208347963004e-06\n",
      "882 8.221555387135024e-06\n",
      "883 8.854778356951604e-06\n",
      "884 8.574733317874395e-06\n",
      "885 8.022578366209877e-06\n",
      "886 8.3038383544877e-06\n",
      "887 8.892869945760352e-06\n",
      "888 8.702443374180141e-06\n",
      "889 8.135004889325797e-06\n",
      "890 8.31955743627448e-06\n",
      "891 8.984312333257516e-06\n",
      "892 8.827681993114116e-06\n",
      "893 8.025383238192495e-06\n",
      "894 8.178464670417565e-06\n",
      "895 9.042174125690108e-06\n",
      "896 8.776775411262496e-06\n",
      "897 7.797435295456151e-06\n",
      "898 8.1608968725322e-06\n",
      "899 9.092340229180597e-06\n",
      "900 8.575542003066818e-06\n",
      "901 7.703150364330506e-06\n",
      "902 8.211562974346245e-06\n",
      "903 8.868493350334535e-06\n",
      "904 8.24785111863195e-06\n",
      "905 7.727693734243229e-06\n",
      "906 8.258907556179154e-06\n",
      "907 8.538960156695625e-06\n",
      "908 8.110818002049248e-06\n",
      "909 7.95417398791202e-06\n",
      "910 8.215564639590389e-06\n",
      "911 8.27926955804656e-06\n",
      "912 8.145419976755862e-06\n",
      "913 8.11495248988933e-06\n",
      "914 8.15987080583037e-06\n",
      "915 8.268854297322524e-06\n",
      "916 8.249383195850461e-06\n",
      "917 8.099555310298135e-06\n",
      "918 8.222887600040293e-06\n",
      "919 8.389037520016965e-06\n",
      "920 8.162346444543305e-06\n",
      "921 8.116737320087863e-06\n",
      "922 8.562448484268117e-06\n",
      "923 8.505493465971435e-06\n",
      "924 8.004149096475898e-06\n",
      "925 8.447753479580836e-06\n",
      "926 9.09426453173379e-06\n",
      "927 8.443539731705705e-06\n",
      "928 8.067226031517976e-06\n",
      "929 9.283469775180166e-06\n",
      "930 9.724136050069806e-06\n",
      "931 8.745639618262934e-06\n",
      "932 9.26240023273667e-06\n",
      "933 1.100419399109043e-05\n",
      "934 1.0994011179994281e-05\n",
      "935 1.0079649876383825e-05\n",
      "936 1.1028009741257124e-05\n",
      "937 1.1754894369824358e-05\n",
      "938 1.0105178470544216e-05\n",
      "939 8.800434493052904e-06\n",
      "940 9.561115285510055e-06\n",
      "941 9.938577374760155e-06\n",
      "942 9.30946964116612e-06\n",
      "943 9.635211659908947e-06\n",
      "944 1.0606588394572646e-05\n",
      "945 1.0534641772071505e-05\n",
      "946 9.825285902435625e-06\n"
     ]
    },
    {
     "name": "stdout",
     "output_type": "stream",
     "text": [
      "947 9.542352787021194e-06\n",
      "948 9.676888588787236e-06\n",
      "949 9.970942002251874e-06\n",
      "950 1.008626543147718e-05\n",
      "951 9.80488111143512e-06\n",
      "952 9.950161749412417e-06\n",
      "953 1.0584540559552002e-05\n",
      "954 1.023110280148114e-05\n",
      "955 9.281492519961568e-06\n",
      "956 9.77798130323182e-06\n",
      "957 1.0858186223779176e-05\n",
      "958 1.0276036676629698e-05\n",
      "959 9.401232478858067e-06\n",
      "960 1.0570628278402604e-05\n",
      "961 1.1371898538694508e-05\n",
      "962 9.988799474173817e-06\n",
      "963 9.584593651464885e-06\n",
      "964 1.1308658851393735e-05\n",
      "965 1.1507500767599076e-05\n",
      "966 1.000062598938896e-05\n",
      "967 1.0625967421022764e-05\n",
      "968 1.2265309433467868e-05\n",
      "969 1.1388195818559806e-05\n",
      "970 1.040848207612956e-05\n",
      "971 1.1705808164924382e-05\n",
      "972 1.2500293583480701e-05\n",
      "973 1.14499747590379e-05\n",
      "974 1.1283288902988411e-05\n",
      "975 1.2581436485267254e-05\n",
      "976 1.2797012149779971e-05\n",
      "977 1.1809755846404768e-05\n",
      "978 1.2056550150617863e-05\n",
      "979 1.3349171843479215e-05\n",
      "980 1.3045966350409613e-05\n",
      "981 1.2023988824880794e-05\n",
      "982 1.3002133696080513e-05\n",
      "983 1.4115913104473884e-05\n",
      "984 1.2889173714108227e-05\n",
      "985 1.2435404591257488e-05\n",
      "986 1.4298452796207656e-05\n",
      "987 1.434731782090294e-05\n",
      "988 1.2674231298303035e-05\n",
      "989 1.4191974945215597e-05\n",
      "990 1.542936414247141e-05\n",
      "991 1.4342848716353059e-05\n",
      "992 1.432885183848318e-05\n",
      "993 1.555144969815721e-05\n",
      "994 1.7238313404717353e-05\n",
      "995 1.590749872692016e-05\n",
      "996 1.6772281382692288e-05\n",
      "997 2.0351158514854484e-05\n",
      "998 2.0311218820969424e-05\n",
      "999 1.8898900739341374e-05\n"
     ]
    }
   ],
   "source": [
    "spam_model.train(inputs = inputs_spam,\n",
    "                 targets = targets_spam,\n",
    "                 #inputs_val = input_map_list,\n",
    "                 #targets_val = targets_map,\n",
    "                 num_iter = 1000,\n",
    "                 N = N_spam\n",
    "                )"
   ]
  },
  {
   "cell_type": "code",
   "execution_count": 88,
   "metadata": {},
   "outputs": [],
   "source": [
    "kraus_model = KrausMap(\n",
    "                       d = d, \n",
    "                       rank = rank,\n",
    "                       spam = spam_model,\n",
    "                       )\n",
    "\n",
    "model = ModelQuantumMap(\n",
    "                        q_map = kraus_model,\n",
    "                        loss = probs_loss,\n",
    "                        optimizer = tf.optimizers.Adam(learning_rate=0.01),\n",
    "                        )"
   ]
  },
  {
   "cell_type": "code",
   "execution_count": 89,
   "metadata": {},
   "outputs": [
    {
     "data": {
      "application/vnd.jupyter.widget-view+json": {
       "model_id": "9c53b1766aec4d72ac04c19a4c43a1bc",
       "version_major": 2,
       "version_minor": 0
      },
      "text/plain": [
       "  0%|          | 0/1000 [00:00<?, ?it/s]"
      ]
     },
     "metadata": {},
     "output_type": "display_data"
    },
    {
     "name": "stdout",
     "output_type": "stream",
     "text": [
      "Step:0, train: 0.12334, val: 0.13548\n",
      "Step:1, train: 0.13379, val: 0.13404\n",
      "Step:2, train: 0.12576, val: 0.13247\n",
      "Step:3, train: 0.12497, val: 0.13088\n",
      "Step:4, train: 0.13186, val: 0.12927\n",
      "Step:5, train: 0.13196, val: 0.12763\n",
      "Step:6, train: 0.12954, val: 0.12599\n",
      "Step:7, train: 0.12194, val: 0.12434\n",
      "Step:8, train: 0.12910, val: 0.12269\n",
      "Step:9, train: 0.11655, val: 0.12104\n",
      "Step:10, train: 0.11752, val: 0.11938\n",
      "Step:11, train: 0.11382, val: 0.11773\n",
      "Step:12, train: 0.11993, val: 0.11609\n",
      "Step:13, train: 0.11199, val: 0.11444\n",
      "Step:14, train: 0.11409, val: 0.11279\n",
      "Step:15, train: 0.11038, val: 0.11115\n",
      "Step:16, train: 0.10640, val: 0.10950\n",
      "Step:17, train: 0.10566, val: 0.10785\n",
      "Step:18, train: 0.10798, val: 0.10620\n",
      "Step:19, train: 0.10005, val: 0.10456\n",
      "Step:20, train: 0.09925, val: 0.10292\n",
      "Step:21, train: 0.10244, val: 0.10128\n",
      "Step:22, train: 0.09702, val: 0.09964\n",
      "Step:23, train: 0.09617, val: 0.09800\n",
      "Step:24, train: 0.09857, val: 0.09636\n",
      "Step:25, train: 0.09025, val: 0.09471\n",
      "Step:26, train: 0.09423, val: 0.09306\n",
      "Step:27, train: 0.08914, val: 0.09142\n",
      "Step:28, train: 0.08899, val: 0.08978\n",
      "Step:29, train: 0.08739, val: 0.08813\n",
      "Step:30, train: 0.08706, val: 0.08648\n",
      "Step:31, train: 0.08499, val: 0.08483\n",
      "Step:32, train: 0.08514, val: 0.08318\n",
      "Step:33, train: 0.08436, val: 0.08153\n",
      "Step:34, train: 0.07792, val: 0.07987\n",
      "Step:35, train: 0.07451, val: 0.07822\n",
      "Step:36, train: 0.08034, val: 0.07657\n",
      "Step:37, train: 0.07508, val: 0.07491\n",
      "Step:38, train: 0.07072, val: 0.07325\n",
      "Step:39, train: 0.07255, val: 0.07160\n",
      "Step:40, train: 0.06878, val: 0.06995\n",
      "Step:41, train: 0.07111, val: 0.06829\n",
      "Step:42, train: 0.06934, val: 0.06664\n",
      "Step:43, train: 0.06396, val: 0.06498\n",
      "Step:44, train: 0.06730, val: 0.06334\n",
      "Step:45, train: 0.05995, val: 0.06169\n",
      "Step:46, train: 0.05750, val: 0.06006\n",
      "Step:47, train: 0.05786, val: 0.05844\n",
      "Step:48, train: 0.05366, val: 0.05683\n",
      "Step:49, train: 0.05789, val: 0.05524\n",
      "Step:50, train: 0.05054, val: 0.05366\n",
      "Step:51, train: 0.05221, val: 0.05210\n",
      "Step:52, train: 0.05006, val: 0.05056\n",
      "Step:53, train: 0.05076, val: 0.04902\n",
      "Step:54, train: 0.04691, val: 0.04750\n",
      "Step:55, train: 0.04512, val: 0.04600\n",
      "Step:56, train: 0.04499, val: 0.04452\n",
      "Step:57, train: 0.04288, val: 0.04307\n",
      "Step:58, train: 0.04206, val: 0.04163\n",
      "Step:59, train: 0.03810, val: 0.04022\n",
      "Step:60, train: 0.04051, val: 0.03883\n",
      "Step:61, train: 0.03638, val: 0.03746\n",
      "Step:62, train: 0.03667, val: 0.03612\n",
      "Step:63, train: 0.03616, val: 0.03481\n",
      "Step:64, train: 0.03396, val: 0.03351\n",
      "Step:65, train: 0.03422, val: 0.03224\n",
      "Step:66, train: 0.03299, val: 0.03099\n",
      "Step:67, train: 0.02957, val: 0.02977\n",
      "Step:68, train: 0.02896, val: 0.02858\n",
      "Step:69, train: 0.02788, val: 0.02742\n",
      "Step:70, train: 0.02618, val: 0.02629\n",
      "Step:71, train: 0.02354, val: 0.02520\n",
      "Step:72, train: 0.02429, val: 0.02414\n",
      "Step:73, train: 0.02299, val: 0.02312\n",
      "Step:74, train: 0.02261, val: 0.02213\n",
      "Step:75, train: 0.02006, val: 0.02117\n",
      "Step:76, train: 0.02057, val: 0.02025\n",
      "Step:77, train: 0.01883, val: 0.01936\n",
      "Step:78, train: 0.01946, val: 0.01850\n",
      "Step:79, train: 0.01806, val: 0.01768\n",
      "Step:80, train: 0.01640, val: 0.01688\n",
      "Step:81, train: 0.01662, val: 0.01612\n",
      "Step:82, train: 0.01543, val: 0.01538\n",
      "Step:83, train: 0.01455, val: 0.01468\n",
      "Step:84, train: 0.01440, val: 0.01401\n",
      "Step:85, train: 0.01322, val: 0.01337\n",
      "Step:86, train: 0.01285, val: 0.01275\n",
      "Step:87, train: 0.01192, val: 0.01217\n",
      "Step:88, train: 0.01143, val: 0.01161\n",
      "Step:89, train: 0.01088, val: 0.01108\n",
      "Step:90, train: 0.01034, val: 0.01058\n",
      "Step:91, train: 0.01049, val: 0.01011\n",
      "Step:92, train: 0.00997, val: 0.00965\n",
      "Step:93, train: 0.00910, val: 0.00922\n",
      "Step:94, train: 0.00926, val: 0.00881\n",
      "Step:95, train: 0.00778, val: 0.00843\n",
      "Step:96, train: 0.00797, val: 0.00806\n",
      "Step:97, train: 0.00776, val: 0.00772\n",
      "Step:98, train: 0.00750, val: 0.00739\n",
      "Step:99, train: 0.00717, val: 0.00709\n",
      "Step:100, train: 0.00655, val: 0.00680\n",
      "Step:101, train: 0.00651, val: 0.00652\n",
      "Step:102, train: 0.00601, val: 0.00627\n",
      "Step:103, train: 0.00627, val: 0.00603\n",
      "Step:104, train: 0.00586, val: 0.00580\n",
      "Step:105, train: 0.00542, val: 0.00559\n",
      "Step:106, train: 0.00525, val: 0.00539\n",
      "Step:107, train: 0.00524, val: 0.00520\n",
      "Step:108, train: 0.00483, val: 0.00503\n",
      "Step:109, train: 0.00468, val: 0.00486\n",
      "Step:110, train: 0.00442, val: 0.00471\n",
      "Step:111, train: 0.00461, val: 0.00457\n",
      "Step:112, train: 0.00452, val: 0.00443\n",
      "Step:113, train: 0.00426, val: 0.00430\n",
      "Step:114, train: 0.00451, val: 0.00418\n",
      "Step:115, train: 0.00386, val: 0.00407\n",
      "Step:116, train: 0.00385, val: 0.00397\n",
      "Step:117, train: 0.00392, val: 0.00387\n",
      "Step:118, train: 0.00357, val: 0.00377\n",
      "Step:119, train: 0.00370, val: 0.00368\n",
      "Step:120, train: 0.00337, val: 0.00360\n",
      "Step:121, train: 0.00360, val: 0.00352\n",
      "Step:122, train: 0.00329, val: 0.00345\n",
      "Step:123, train: 0.00346, val: 0.00338\n",
      "Step:124, train: 0.00330, val: 0.00331\n",
      "Step:125, train: 0.00323, val: 0.00325\n",
      "Step:126, train: 0.00309, val: 0.00319\n",
      "Step:127, train: 0.00323, val: 0.00313\n",
      "Step:128, train: 0.00314, val: 0.00308\n",
      "Step:129, train: 0.00308, val: 0.00302\n",
      "Step:130, train: 0.00280, val: 0.00297\n",
      "Step:131, train: 0.00286, val: 0.00292\n",
      "Step:132, train: 0.00290, val: 0.00288\n",
      "Step:133, train: 0.00292, val: 0.00283\n",
      "Step:134, train: 0.00283, val: 0.00279\n",
      "Step:135, train: 0.00274, val: 0.00275\n",
      "Step:136, train: 0.00284, val: 0.00271\n",
      "Step:137, train: 0.00260, val: 0.00267\n",
      "Step:138, train: 0.00264, val: 0.00263\n",
      "Step:139, train: 0.00242, val: 0.00260\n",
      "Step:140, train: 0.00263, val: 0.00256\n",
      "Step:141, train: 0.00248, val: 0.00253\n",
      "Step:142, train: 0.00261, val: 0.00249\n",
      "Step:143, train: 0.00251, val: 0.00246\n",
      "Step:144, train: 0.00244, val: 0.00243\n",
      "Step:145, train: 0.00227, val: 0.00240\n",
      "Step:146, train: 0.00229, val: 0.00237\n",
      "Step:147, train: 0.00235, val: 0.00234\n",
      "Step:148, train: 0.00242, val: 0.00231\n",
      "Step:149, train: 0.00226, val: 0.00229\n",
      "Step:150, train: 0.00215, val: 0.00226\n",
      "Step:151, train: 0.00226, val: 0.00223\n",
      "Step:152, train: 0.00212, val: 0.00221\n",
      "Step:153, train: 0.00232, val: 0.00219\n",
      "Step:154, train: 0.00220, val: 0.00216\n",
      "Step:155, train: 0.00216, val: 0.00214\n",
      "Step:156, train: 0.00219, val: 0.00212\n",
      "Step:157, train: 0.00219, val: 0.00209\n",
      "Step:158, train: 0.00201, val: 0.00207\n",
      "Step:159, train: 0.00215, val: 0.00205\n",
      "Step:160, train: 0.00195, val: 0.00203\n",
      "Step:161, train: 0.00215, val: 0.00201\n",
      "Step:162, train: 0.00203, val: 0.00199\n",
      "Step:163, train: 0.00189, val: 0.00196\n",
      "Step:164, train: 0.00190, val: 0.00194\n",
      "Step:165, train: 0.00190, val: 0.00192\n",
      "Step:166, train: 0.00184, val: 0.00190\n",
      "Step:167, train: 0.00207, val: 0.00189\n",
      "Step:168, train: 0.00194, val: 0.00187\n",
      "Step:169, train: 0.00191, val: 0.00185\n",
      "Step:170, train: 0.00169, val: 0.00183\n",
      "Step:171, train: 0.00171, val: 0.00181\n",
      "Step:172, train: 0.00184, val: 0.00180\n",
      "Step:173, train: 0.00178, val: 0.00178\n",
      "Step:174, train: 0.00180, val: 0.00176\n",
      "Step:175, train: 0.00180, val: 0.00175\n",
      "Step:176, train: 0.00178, val: 0.00173\n",
      "Step:177, train: 0.00169, val: 0.00172\n",
      "Step:178, train: 0.00175, val: 0.00170\n",
      "Step:179, train: 0.00190, val: 0.00168\n",
      "Step:180, train: 0.00173, val: 0.00167\n",
      "Step:181, train: 0.00155, val: 0.00165\n",
      "Step:182, train: 0.00165, val: 0.00164\n",
      "Step:183, train: 0.00158, val: 0.00163\n",
      "Step:184, train: 0.00164, val: 0.00161\n",
      "Step:185, train: 0.00157, val: 0.00160\n",
      "Step:186, train: 0.00160, val: 0.00158\n",
      "Step:187, train: 0.00151, val: 0.00157\n",
      "Step:188, train: 0.00166, val: 0.00156\n",
      "Step:189, train: 0.00157, val: 0.00154\n",
      "Step:190, train: 0.00143, val: 0.00153\n",
      "Step:191, train: 0.00151, val: 0.00152\n",
      "Step:192, train: 0.00141, val: 0.00150\n",
      "Step:193, train: 0.00150, val: 0.00149\n",
      "Step:194, train: 0.00151, val: 0.00148\n",
      "Step:195, train: 0.00148, val: 0.00147\n",
      "Step:196, train: 0.00143, val: 0.00146\n",
      "Step:197, train: 0.00145, val: 0.00144\n",
      "Step:198, train: 0.00142, val: 0.00143\n",
      "Step:199, train: 0.00136, val: 0.00142\n",
      "Step:200, train: 0.00137, val: 0.00141\n",
      "Step:201, train: 0.00142, val: 0.00140\n",
      "Step:202, train: 0.00139, val: 0.00139\n",
      "Step:203, train: 0.00138, val: 0.00138\n",
      "Step:204, train: 0.00145, val: 0.00137\n",
      "Step:205, train: 0.00136, val: 0.00136\n",
      "Step:206, train: 0.00141, val: 0.00135\n",
      "Step:207, train: 0.00134, val: 0.00133\n",
      "Step:208, train: 0.00142, val: 0.00132\n",
      "Step:209, train: 0.00120, val: 0.00131\n",
      "Step:210, train: 0.00131, val: 0.00130\n",
      "Step:211, train: 0.00131, val: 0.00129\n",
      "Step:212, train: 0.00128, val: 0.00128\n",
      "Step:213, train: 0.00126, val: 0.00127\n"
     ]
    },
    {
     "name": "stdout",
     "output_type": "stream",
     "text": [
      "Step:214, train: 0.00123, val: 0.00126\n",
      "Step:215, train: 0.00120, val: 0.00126\n",
      "Step:216, train: 0.00121, val: 0.00125\n",
      "Step:217, train: 0.00122, val: 0.00124\n",
      "Step:218, train: 0.00119, val: 0.00123\n",
      "Step:219, train: 0.00126, val: 0.00122\n",
      "Step:220, train: 0.00125, val: 0.00121\n",
      "Step:221, train: 0.00120, val: 0.00120\n",
      "Step:222, train: 0.00117, val: 0.00119\n",
      "Step:223, train: 0.00124, val: 0.00118\n",
      "Step:224, train: 0.00113, val: 0.00118\n",
      "Step:225, train: 0.00119, val: 0.00117\n",
      "Step:226, train: 0.00116, val: 0.00116\n",
      "Step:227, train: 0.00105, val: 0.00115\n",
      "Step:228, train: 0.00115, val: 0.00114\n",
      "Step:229, train: 0.00109, val: 0.00114\n",
      "Step:230, train: 0.00108, val: 0.00113\n",
      "Step:231, train: 0.00110, val: 0.00112\n",
      "Step:232, train: 0.00110, val: 0.00111\n",
      "Step:233, train: 0.00109, val: 0.00110\n",
      "Step:234, train: 0.00107, val: 0.00110\n",
      "Step:235, train: 0.00113, val: 0.00109\n",
      "Step:236, train: 0.00100, val: 0.00108\n",
      "Step:237, train: 0.00102, val: 0.00108\n",
      "Step:238, train: 0.00110, val: 0.00107\n",
      "Step:239, train: 0.00112, val: 0.00106\n",
      "Step:240, train: 0.00101, val: 0.00105\n",
      "Step:241, train: 0.00104, val: 0.00105\n",
      "Step:242, train: 0.00102, val: 0.00104\n",
      "Step:243, train: 0.00103, val: 0.00103\n",
      "Step:244, train: 0.00104, val: 0.00103\n",
      "Step:245, train: 0.00106, val: 0.00102\n",
      "Step:246, train: 0.00102, val: 0.00101\n",
      "Step:247, train: 0.00102, val: 0.00101\n",
      "Step:248, train: 0.00095, val: 0.00100\n",
      "Step:249, train: 0.00102, val: 0.00099\n",
      "Step:250, train: 0.00105, val: 0.00099\n",
      "Step:251, train: 0.00101, val: 0.00098\n",
      "Step:252, train: 0.00100, val: 0.00098\n",
      "Step:253, train: 0.00102, val: 0.00097\n",
      "Step:254, train: 0.00096, val: 0.00096\n",
      "Step:255, train: 0.00102, val: 0.00096\n",
      "Step:256, train: 0.00093, val: 0.00095\n",
      "Step:257, train: 0.00094, val: 0.00094\n",
      "Step:258, train: 0.00090, val: 0.00094\n",
      "Step:259, train: 0.00093, val: 0.00093\n",
      "Step:260, train: 0.00089, val: 0.00093\n",
      "Step:261, train: 0.00095, val: 0.00092\n",
      "Step:262, train: 0.00092, val: 0.00092\n",
      "Step:263, train: 0.00091, val: 0.00091\n",
      "Step:264, train: 0.00086, val: 0.00090\n",
      "Step:265, train: 0.00083, val: 0.00090\n",
      "Step:266, train: 0.00090, val: 0.00089\n",
      "Step:267, train: 0.00089, val: 0.00089\n",
      "Step:268, train: 0.00085, val: 0.00088\n",
      "Step:269, train: 0.00088, val: 0.00088\n",
      "Step:270, train: 0.00091, val: 0.00087\n",
      "Step:271, train: 0.00080, val: 0.00087\n",
      "Step:272, train: 0.00087, val: 0.00086\n",
      "Step:273, train: 0.00083, val: 0.00086\n",
      "Step:274, train: 0.00087, val: 0.00085\n",
      "Step:275, train: 0.00074, val: 0.00085\n",
      "Step:276, train: 0.00088, val: 0.00084\n",
      "Step:277, train: 0.00085, val: 0.00084\n",
      "Step:278, train: 0.00078, val: 0.00083\n",
      "Step:279, train: 0.00085, val: 0.00083\n",
      "Step:280, train: 0.00081, val: 0.00082\n",
      "Step:281, train: 0.00086, val: 0.00082\n",
      "Step:282, train: 0.00081, val: 0.00081\n",
      "Step:283, train: 0.00083, val: 0.00081\n",
      "Step:284, train: 0.00082, val: 0.00080\n",
      "Step:285, train: 0.00083, val: 0.00080\n",
      "Step:286, train: 0.00075, val: 0.00080\n",
      "Step:287, train: 0.00080, val: 0.00079\n",
      "Step:288, train: 0.00081, val: 0.00079\n",
      "Step:289, train: 0.00075, val: 0.00078\n",
      "Step:290, train: 0.00078, val: 0.00078\n",
      "Step:291, train: 0.00082, val: 0.00077\n",
      "Step:292, train: 0.00083, val: 0.00077\n",
      "Step:293, train: 0.00072, val: 0.00076\n",
      "Step:294, train: 0.00074, val: 0.00076\n",
      "Step:295, train: 0.00071, val: 0.00076\n",
      "Step:296, train: 0.00074, val: 0.00075\n",
      "Step:297, train: 0.00073, val: 0.00075\n",
      "Step:298, train: 0.00075, val: 0.00074\n",
      "Step:299, train: 0.00075, val: 0.00074\n",
      "Step:300, train: 0.00075, val: 0.00074\n",
      "Step:301, train: 0.00073, val: 0.00073\n",
      "Step:302, train: 0.00078, val: 0.00073\n",
      "Step:303, train: 0.00071, val: 0.00072\n",
      "Step:304, train: 0.00074, val: 0.00072\n",
      "Step:305, train: 0.00073, val: 0.00072\n",
      "Step:306, train: 0.00068, val: 0.00071\n",
      "Step:307, train: 0.00069, val: 0.00071\n",
      "Step:308, train: 0.00071, val: 0.00070\n",
      "Step:309, train: 0.00070, val: 0.00070\n",
      "Step:310, train: 0.00072, val: 0.00070\n",
      "Step:311, train: 0.00066, val: 0.00069\n",
      "Step:312, train: 0.00071, val: 0.00069\n",
      "Step:313, train: 0.00070, val: 0.00069\n",
      "Step:314, train: 0.00075, val: 0.00068\n",
      "Step:315, train: 0.00072, val: 0.00068\n",
      "Step:316, train: 0.00065, val: 0.00068\n",
      "Step:317, train: 0.00067, val: 0.00067\n",
      "Step:318, train: 0.00064, val: 0.00067\n",
      "Step:319, train: 0.00069, val: 0.00066\n",
      "Step:320, train: 0.00068, val: 0.00066\n",
      "Step:321, train: 0.00066, val: 0.00066\n",
      "Step:322, train: 0.00063, val: 0.00065\n",
      "Step:323, train: 0.00064, val: 0.00065\n",
      "Step:324, train: 0.00066, val: 0.00065\n",
      "Step:325, train: 0.00062, val: 0.00065\n",
      "Step:326, train: 0.00070, val: 0.00064\n",
      "Step:327, train: 0.00065, val: 0.00064\n",
      "Step:328, train: 0.00063, val: 0.00064\n",
      "Step:329, train: 0.00063, val: 0.00063\n",
      "Step:330, train: 0.00065, val: 0.00063\n",
      "Step:331, train: 0.00065, val: 0.00063\n",
      "Step:332, train: 0.00062, val: 0.00062\n",
      "Step:333, train: 0.00059, val: 0.00062\n",
      "Step:334, train: 0.00067, val: 0.00062\n",
      "Step:335, train: 0.00062, val: 0.00061\n",
      "Step:336, train: 0.00060, val: 0.00061\n",
      "Step:337, train: 0.00060, val: 0.00061\n",
      "Step:338, train: 0.00059, val: 0.00060\n",
      "Step:339, train: 0.00061, val: 0.00060\n",
      "Step:340, train: 0.00058, val: 0.00060\n",
      "Step:341, train: 0.00060, val: 0.00060\n",
      "Step:342, train: 0.00061, val: 0.00059\n",
      "Step:343, train: 0.00062, val: 0.00059\n",
      "Step:344, train: 0.00060, val: 0.00059\n",
      "Step:345, train: 0.00057, val: 0.00058\n",
      "Step:346, train: 0.00057, val: 0.00058\n",
      "Step:347, train: 0.00057, val: 0.00058\n",
      "Step:348, train: 0.00058, val: 0.00057\n",
      "Step:349, train: 0.00057, val: 0.00057\n",
      "Step:350, train: 0.00060, val: 0.00057\n",
      "Step:351, train: 0.00059, val: 0.00057\n",
      "Step:352, train: 0.00057, val: 0.00056\n",
      "Step:353, train: 0.00058, val: 0.00056\n",
      "Step:354, train: 0.00055, val: 0.00056\n",
      "Step:355, train: 0.00053, val: 0.00056\n",
      "Step:356, train: 0.00056, val: 0.00055\n",
      "Step:357, train: 0.00054, val: 0.00055\n",
      "Step:358, train: 0.00054, val: 0.00055\n",
      "Step:359, train: 0.00053, val: 0.00055\n",
      "Step:360, train: 0.00056, val: 0.00054\n",
      "Step:361, train: 0.00051, val: 0.00054\n",
      "Step:362, train: 0.00056, val: 0.00054\n",
      "Step:363, train: 0.00053, val: 0.00054\n",
      "Step:364, train: 0.00054, val: 0.00053\n",
      "Step:365, train: 0.00051, val: 0.00053\n",
      "Step:366, train: 0.00049, val: 0.00053\n",
      "Step:367, train: 0.00053, val: 0.00053\n",
      "Step:368, train: 0.00053, val: 0.00052\n",
      "Step:369, train: 0.00054, val: 0.00052\n",
      "Step:370, train: 0.00054, val: 0.00052\n",
      "Step:371, train: 0.00053, val: 0.00051\n",
      "Step:372, train: 0.00052, val: 0.00051\n",
      "Step:373, train: 0.00051, val: 0.00051\n",
      "Step:374, train: 0.00053, val: 0.00051\n",
      "Step:375, train: 0.00048, val: 0.00051\n",
      "Step:376, train: 0.00047, val: 0.00050\n",
      "Step:377, train: 0.00051, val: 0.00050\n",
      "Step:378, train: 0.00053, val: 0.00050\n",
      "Step:379, train: 0.00046, val: 0.00050\n",
      "Step:380, train: 0.00049, val: 0.00049\n",
      "Step:381, train: 0.00048, val: 0.00049\n",
      "Step:382, train: 0.00046, val: 0.00049\n",
      "Step:383, train: 0.00049, val: 0.00049\n",
      "Step:384, train: 0.00048, val: 0.00049\n",
      "Step:385, train: 0.00046, val: 0.00048\n",
      "Step:386, train: 0.00049, val: 0.00048\n",
      "Step:387, train: 0.00048, val: 0.00048\n",
      "Step:388, train: 0.00049, val: 0.00048\n",
      "Step:389, train: 0.00049, val: 0.00048\n",
      "Step:390, train: 0.00048, val: 0.00047\n",
      "Step:391, train: 0.00048, val: 0.00047\n",
      "Step:392, train: 0.00048, val: 0.00047\n",
      "Step:393, train: 0.00045, val: 0.00047\n",
      "Step:394, train: 0.00048, val: 0.00046\n",
      "Step:395, train: 0.00045, val: 0.00046\n",
      "Step:396, train: 0.00046, val: 0.00046\n",
      "Step:397, train: 0.00047, val: 0.00046\n",
      "Step:398, train: 0.00047, val: 0.00046\n",
      "Step:399, train: 0.00046, val: 0.00045\n",
      "Step:400, train: 0.00045, val: 0.00045\n",
      "Step:401, train: 0.00046, val: 0.00045\n",
      "Step:402, train: 0.00043, val: 0.00045\n",
      "Step:403, train: 0.00043, val: 0.00045\n",
      "Step:404, train: 0.00048, val: 0.00044\n",
      "Step:405, train: 0.00048, val: 0.00044\n",
      "Step:406, train: 0.00043, val: 0.00044\n",
      "Step:407, train: 0.00044, val: 0.00044\n",
      "Step:408, train: 0.00045, val: 0.00044\n",
      "Step:409, train: 0.00043, val: 0.00043\n",
      "Step:410, train: 0.00042, val: 0.00043\n",
      "Step:411, train: 0.00042, val: 0.00043\n",
      "Step:412, train: 0.00044, val: 0.00043\n",
      "Step:413, train: 0.00041, val: 0.00043\n",
      "Step:414, train: 0.00043, val: 0.00043\n",
      "Step:415, train: 0.00044, val: 0.00042\n",
      "Step:416, train: 0.00042, val: 0.00042\n",
      "Step:417, train: 0.00043, val: 0.00042\n",
      "Step:418, train: 0.00042, val: 0.00042\n",
      "Step:419, train: 0.00042, val: 0.00042\n",
      "Step:420, train: 0.00040, val: 0.00041\n",
      "Step:421, train: 0.00043, val: 0.00041\n",
      "Step:422, train: 0.00040, val: 0.00041\n",
      "Step:423, train: 0.00039, val: 0.00041\n",
      "Step:424, train: 0.00042, val: 0.00041\n",
      "Step:425, train: 0.00036, val: 0.00041\n"
     ]
    },
    {
     "name": "stdout",
     "output_type": "stream",
     "text": [
      "Step:426, train: 0.00040, val: 0.00040\n",
      "Step:427, train: 0.00041, val: 0.00040\n",
      "Step:428, train: 0.00042, val: 0.00040\n",
      "Step:429, train: 0.00041, val: 0.00040\n",
      "Step:430, train: 0.00041, val: 0.00040\n",
      "Step:431, train: 0.00037, val: 0.00040\n",
      "Step:432, train: 0.00040, val: 0.00039\n",
      "Step:433, train: 0.00039, val: 0.00039\n",
      "Step:434, train: 0.00037, val: 0.00039\n",
      "Step:435, train: 0.00038, val: 0.00039\n",
      "Step:436, train: 0.00039, val: 0.00039\n",
      "Step:437, train: 0.00039, val: 0.00039\n",
      "Step:438, train: 0.00038, val: 0.00039\n",
      "Step:439, train: 0.00037, val: 0.00038\n",
      "Step:440, train: 0.00039, val: 0.00038\n",
      "Step:441, train: 0.00038, val: 0.00038\n",
      "Step:442, train: 0.00035, val: 0.00038\n",
      "Step:443, train: 0.00041, val: 0.00038\n",
      "Step:444, train: 0.00038, val: 0.00038\n",
      "Step:445, train: 0.00037, val: 0.00037\n",
      "Step:446, train: 0.00035, val: 0.00037\n",
      "Step:447, train: 0.00036, val: 0.00037\n",
      "Step:448, train: 0.00038, val: 0.00037\n",
      "Step:449, train: 0.00037, val: 0.00037\n",
      "Step:450, train: 0.00038, val: 0.00037\n",
      "Step:451, train: 0.00038, val: 0.00037\n",
      "Step:452, train: 0.00038, val: 0.00036\n",
      "Step:453, train: 0.00041, val: 0.00036\n",
      "Step:454, train: 0.00035, val: 0.00036\n",
      "Step:455, train: 0.00037, val: 0.00036\n",
      "Step:456, train: 0.00036, val: 0.00036\n",
      "Step:457, train: 0.00034, val: 0.00036\n",
      "Step:458, train: 0.00035, val: 0.00036\n",
      "Step:459, train: 0.00035, val: 0.00035\n",
      "Step:460, train: 0.00039, val: 0.00035\n",
      "Step:461, train: 0.00034, val: 0.00035\n",
      "Step:462, train: 0.00034, val: 0.00035\n",
      "Step:463, train: 0.00034, val: 0.00035\n",
      "Step:464, train: 0.00033, val: 0.00035\n",
      "Step:465, train: 0.00033, val: 0.00035\n",
      "Step:466, train: 0.00033, val: 0.00034\n",
      "Step:467, train: 0.00033, val: 0.00034\n",
      "Step:468, train: 0.00032, val: 0.00034\n",
      "Step:469, train: 0.00034, val: 0.00034\n",
      "Step:470, train: 0.00033, val: 0.00034\n",
      "Step:471, train: 0.00033, val: 0.00034\n",
      "Step:472, train: 0.00033, val: 0.00034\n",
      "Step:473, train: 0.00034, val: 0.00033\n",
      "Step:474, train: 0.00035, val: 0.00033\n",
      "Step:475, train: 0.00032, val: 0.00033\n",
      "Step:476, train: 0.00034, val: 0.00033\n",
      "Step:477, train: 0.00034, val: 0.00033\n",
      "Step:478, train: 0.00029, val: 0.00033\n",
      "Step:479, train: 0.00031, val: 0.00033\n",
      "Step:480, train: 0.00032, val: 0.00033\n",
      "Step:481, train: 0.00034, val: 0.00032\n",
      "Step:482, train: 0.00030, val: 0.00032\n",
      "Step:483, train: 0.00031, val: 0.00032\n",
      "Step:484, train: 0.00033, val: 0.00032\n",
      "Step:485, train: 0.00032, val: 0.00032\n",
      "Step:486, train: 0.00030, val: 0.00032\n",
      "Step:487, train: 0.00029, val: 0.00032\n",
      "Step:488, train: 0.00032, val: 0.00032\n",
      "Step:489, train: 0.00031, val: 0.00032\n",
      "Step:490, train: 0.00030, val: 0.00031\n",
      "Step:491, train: 0.00031, val: 0.00031\n",
      "Step:492, train: 0.00031, val: 0.00031\n",
      "Step:493, train: 0.00029, val: 0.00031\n",
      "Step:494, train: 0.00032, val: 0.00031\n",
      "Step:495, train: 0.00032, val: 0.00031\n",
      "Step:496, train: 0.00031, val: 0.00031\n",
      "Step:497, train: 0.00030, val: 0.00031\n",
      "Step:498, train: 0.00028, val: 0.00030\n",
      "Step:499, train: 0.00030, val: 0.00030\n",
      "Step:500, train: 0.00029, val: 0.00030\n",
      "Step:501, train: 0.00030, val: 0.00030\n",
      "Step:502, train: 0.00029, val: 0.00030\n",
      "Step:503, train: 0.00030, val: 0.00030\n",
      "Step:504, train: 0.00030, val: 0.00030\n",
      "Step:505, train: 0.00028, val: 0.00030\n",
      "Step:506, train: 0.00029, val: 0.00030\n",
      "Step:507, train: 0.00031, val: 0.00030\n",
      "Step:508, train: 0.00030, val: 0.00029\n",
      "Step:509, train: 0.00029, val: 0.00029\n",
      "Step:510, train: 0.00031, val: 0.00029\n",
      "Step:511, train: 0.00028, val: 0.00029\n",
      "Step:512, train: 0.00028, val: 0.00029\n",
      "Step:513, train: 0.00028, val: 0.00029\n",
      "Step:514, train: 0.00028, val: 0.00029\n",
      "Step:515, train: 0.00029, val: 0.00029\n",
      "Step:516, train: 0.00028, val: 0.00029\n",
      "Step:517, train: 0.00028, val: 0.00028\n",
      "Step:518, train: 0.00029, val: 0.00028\n",
      "Step:519, train: 0.00029, val: 0.00028\n",
      "Step:520, train: 0.00028, val: 0.00028\n",
      "Step:521, train: 0.00027, val: 0.00028\n",
      "Step:522, train: 0.00027, val: 0.00028\n",
      "Step:523, train: 0.00028, val: 0.00028\n",
      "Step:524, train: 0.00027, val: 0.00028\n",
      "Step:525, train: 0.00028, val: 0.00028\n",
      "Step:526, train: 0.00026, val: 0.00028\n",
      "Step:527, train: 0.00028, val: 0.00027\n",
      "Step:528, train: 0.00029, val: 0.00027\n",
      "Step:529, train: 0.00026, val: 0.00027\n",
      "Step:530, train: 0.00027, val: 0.00027\n",
      "Step:531, train: 0.00027, val: 0.00027\n",
      "Step:532, train: 0.00028, val: 0.00027\n",
      "Step:533, train: 0.00027, val: 0.00027\n",
      "Step:534, train: 0.00026, val: 0.00027\n",
      "Step:535, train: 0.00027, val: 0.00027\n",
      "Step:536, train: 0.00026, val: 0.00027\n",
      "Step:537, train: 0.00028, val: 0.00026\n",
      "Step:538, train: 0.00027, val: 0.00026\n",
      "Step:539, train: 0.00025, val: 0.00026\n",
      "Step:540, train: 0.00025, val: 0.00026\n",
      "Step:541, train: 0.00027, val: 0.00026\n",
      "Step:542, train: 0.00028, val: 0.00026\n",
      "Step:543, train: 0.00026, val: 0.00026\n",
      "Step:544, train: 0.00024, val: 0.00026\n",
      "Step:545, train: 0.00026, val: 0.00026\n",
      "Step:546, train: 0.00025, val: 0.00026\n",
      "Step:547, train: 0.00024, val: 0.00026\n",
      "Step:548, train: 0.00024, val: 0.00025\n",
      "Step:549, train: 0.00027, val: 0.00025\n",
      "Step:550, train: 0.00025, val: 0.00025\n",
      "Step:551, train: 0.00026, val: 0.00025\n",
      "Step:552, train: 0.00025, val: 0.00025\n",
      "Step:553, train: 0.00024, val: 0.00025\n",
      "Step:554, train: 0.00028, val: 0.00025\n",
      "Step:555, train: 0.00025, val: 0.00025\n",
      "Step:556, train: 0.00026, val: 0.00025\n",
      "Step:557, train: 0.00026, val: 0.00025\n",
      "Step:558, train: 0.00025, val: 0.00025\n",
      "Step:559, train: 0.00025, val: 0.00024\n",
      "Step:560, train: 0.00025, val: 0.00024\n",
      "Step:561, train: 0.00022, val: 0.00024\n",
      "Step:562, train: 0.00022, val: 0.00024\n",
      "Step:563, train: 0.00024, val: 0.00024\n",
      "Step:564, train: 0.00024, val: 0.00024\n",
      "Step:565, train: 0.00024, val: 0.00024\n",
      "Step:566, train: 0.00023, val: 0.00024\n",
      "Step:567, train: 0.00023, val: 0.00024\n",
      "Step:568, train: 0.00023, val: 0.00024\n",
      "Step:569, train: 0.00023, val: 0.00024\n",
      "Step:570, train: 0.00022, val: 0.00024\n",
      "Step:571, train: 0.00022, val: 0.00023\n",
      "Step:572, train: 0.00022, val: 0.00023\n",
      "Step:573, train: 0.00023, val: 0.00023\n",
      "Step:574, train: 0.00024, val: 0.00023\n",
      "Step:575, train: 0.00022, val: 0.00023\n",
      "Step:576, train: 0.00022, val: 0.00023\n",
      "Step:577, train: 0.00023, val: 0.00023\n",
      "Step:578, train: 0.00023, val: 0.00023\n",
      "Step:579, train: 0.00023, val: 0.00023\n",
      "Step:580, train: 0.00023, val: 0.00023\n",
      "Step:581, train: 0.00022, val: 0.00023\n",
      "Step:582, train: 0.00022, val: 0.00023\n",
      "Step:583, train: 0.00025, val: 0.00022\n",
      "Step:584, train: 0.00022, val: 0.00022\n",
      "Step:585, train: 0.00022, val: 0.00022\n",
      "Step:586, train: 0.00024, val: 0.00022\n",
      "Step:587, train: 0.00022, val: 0.00022\n",
      "Step:588, train: 0.00020, val: 0.00022\n",
      "Step:589, train: 0.00022, val: 0.00022\n",
      "Step:590, train: 0.00021, val: 0.00022\n",
      "Step:591, train: 0.00023, val: 0.00022\n",
      "Step:592, train: 0.00021, val: 0.00022\n",
      "Step:593, train: 0.00021, val: 0.00022\n",
      "Step:594, train: 0.00021, val: 0.00022\n",
      "Step:595, train: 0.00023, val: 0.00022\n",
      "Step:596, train: 0.00021, val: 0.00022\n",
      "Step:597, train: 0.00022, val: 0.00021\n",
      "Step:598, train: 0.00021, val: 0.00021\n",
      "Step:599, train: 0.00020, val: 0.00021\n",
      "Step:600, train: 0.00021, val: 0.00021\n",
      "Step:601, train: 0.00021, val: 0.00021\n",
      "Step:602, train: 0.00021, val: 0.00021\n",
      "Step:603, train: 0.00021, val: 0.00021\n",
      "Step:604, train: 0.00023, val: 0.00021\n",
      "Step:605, train: 0.00022, val: 0.00021\n",
      "Step:606, train: 0.00018, val: 0.00021\n",
      "Step:607, train: 0.00020, val: 0.00021\n",
      "Step:608, train: 0.00021, val: 0.00021\n",
      "Step:609, train: 0.00021, val: 0.00021\n",
      "Step:610, train: 0.00021, val: 0.00021\n",
      "Step:611, train: 0.00021, val: 0.00020\n",
      "Step:612, train: 0.00021, val: 0.00020\n",
      "Step:613, train: 0.00020, val: 0.00020\n",
      "Step:614, train: 0.00021, val: 0.00020\n",
      "Step:615, train: 0.00018, val: 0.00020\n",
      "Step:616, train: 0.00019, val: 0.00020\n",
      "Step:617, train: 0.00021, val: 0.00020\n",
      "Step:618, train: 0.00020, val: 0.00020\n",
      "Step:619, train: 0.00020, val: 0.00020\n",
      "Step:620, train: 0.00020, val: 0.00020\n",
      "Step:621, train: 0.00021, val: 0.00020\n",
      "Step:622, train: 0.00019, val: 0.00020\n",
      "Step:623, train: 0.00020, val: 0.00020\n",
      "Step:624, train: 0.00018, val: 0.00020\n",
      "Step:625, train: 0.00020, val: 0.00020\n",
      "Step:626, train: 0.00022, val: 0.00019\n",
      "Step:627, train: 0.00020, val: 0.00019\n",
      "Step:628, train: 0.00021, val: 0.00019\n",
      "Step:629, train: 0.00020, val: 0.00019\n",
      "Step:630, train: 0.00020, val: 0.00019\n",
      "Step:631, train: 0.00018, val: 0.00019\n",
      "Step:632, train: 0.00020, val: 0.00019\n",
      "Step:633, train: 0.00018, val: 0.00019\n",
      "Step:634, train: 0.00018, val: 0.00019\n",
      "Step:635, train: 0.00019, val: 0.00019\n",
      "Step:636, train: 0.00017, val: 0.00019\n",
      "Step:637, train: 0.00019, val: 0.00019\n"
     ]
    },
    {
     "name": "stdout",
     "output_type": "stream",
     "text": [
      "Step:638, train: 0.00020, val: 0.00019\n",
      "Step:639, train: 0.00018, val: 0.00019\n",
      "Step:640, train: 0.00018, val: 0.00019\n",
      "Step:641, train: 0.00020, val: 0.00019\n",
      "Step:642, train: 0.00018, val: 0.00019\n",
      "Step:643, train: 0.00020, val: 0.00018\n",
      "Step:644, train: 0.00018, val: 0.00018\n",
      "Step:645, train: 0.00018, val: 0.00018\n",
      "Step:646, train: 0.00020, val: 0.00018\n",
      "Step:647, train: 0.00019, val: 0.00018\n",
      "Step:648, train: 0.00018, val: 0.00018\n",
      "Step:649, train: 0.00020, val: 0.00018\n",
      "Step:650, train: 0.00019, val: 0.00018\n",
      "Step:651, train: 0.00016, val: 0.00018\n",
      "Step:652, train: 0.00019, val: 0.00018\n",
      "Step:653, train: 0.00018, val: 0.00018\n",
      "Step:654, train: 0.00017, val: 0.00018\n",
      "Step:655, train: 0.00020, val: 0.00018\n",
      "Step:656, train: 0.00017, val: 0.00018\n",
      "Step:657, train: 0.00017, val: 0.00018\n",
      "Step:658, train: 0.00018, val: 0.00018\n",
      "Step:659, train: 0.00018, val: 0.00018\n",
      "Step:660, train: 0.00016, val: 0.00017\n",
      "Step:661, train: 0.00017, val: 0.00017\n",
      "Step:662, train: 0.00016, val: 0.00017\n",
      "Step:663, train: 0.00017, val: 0.00017\n",
      "Step:664, train: 0.00016, val: 0.00017\n",
      "Step:665, train: 0.00017, val: 0.00017\n",
      "Step:666, train: 0.00017, val: 0.00017\n",
      "Step:667, train: 0.00017, val: 0.00017\n",
      "Step:668, train: 0.00016, val: 0.00017\n",
      "Step:669, train: 0.00017, val: 0.00017\n",
      "Step:670, train: 0.00016, val: 0.00017\n",
      "Step:671, train: 0.00015, val: 0.00017\n",
      "Step:672, train: 0.00019, val: 0.00017\n",
      "Step:673, train: 0.00017, val: 0.00017\n",
      "Step:674, train: 0.00017, val: 0.00017\n",
      "Step:675, train: 0.00016, val: 0.00017\n",
      "Step:676, train: 0.00017, val: 0.00017\n",
      "Step:677, train: 0.00017, val: 0.00017\n",
      "Step:678, train: 0.00015, val: 0.00017\n",
      "Step:679, train: 0.00016, val: 0.00016\n",
      "Step:680, train: 0.00017, val: 0.00016\n",
      "Step:681, train: 0.00016, val: 0.00016\n",
      "Step:682, train: 0.00016, val: 0.00016\n",
      "Step:683, train: 0.00016, val: 0.00016\n",
      "Step:684, train: 0.00017, val: 0.00016\n",
      "Step:685, train: 0.00017, val: 0.00016\n",
      "Step:686, train: 0.00016, val: 0.00016\n",
      "Step:687, train: 0.00018, val: 0.00016\n",
      "Step:688, train: 0.00016, val: 0.00016\n",
      "Step:689, train: 0.00014, val: 0.00016\n",
      "Step:690, train: 0.00016, val: 0.00016\n",
      "Step:691, train: 0.00017, val: 0.00016\n",
      "Step:692, train: 0.00015, val: 0.00016\n",
      "Step:693, train: 0.00016, val: 0.00016\n",
      "Step:694, train: 0.00016, val: 0.00016\n",
      "Step:695, train: 0.00016, val: 0.00016\n",
      "Step:696, train: 0.00016, val: 0.00016\n",
      "Step:697, train: 0.00016, val: 0.00016\n",
      "Step:698, train: 0.00016, val: 0.00016\n",
      "Step:699, train: 0.00015, val: 0.00015\n",
      "Step:700, train: 0.00016, val: 0.00015\n",
      "Step:701, train: 0.00015, val: 0.00015\n",
      "Step:702, train: 0.00015, val: 0.00015\n",
      "Step:703, train: 0.00015, val: 0.00015\n",
      "Step:704, train: 0.00015, val: 0.00015\n",
      "Step:705, train: 0.00014, val: 0.00015\n",
      "Step:706, train: 0.00015, val: 0.00015\n",
      "Step:707, train: 0.00014, val: 0.00015\n",
      "Step:708, train: 0.00015, val: 0.00015\n",
      "Step:709, train: 0.00016, val: 0.00015\n",
      "Step:710, train: 0.00016, val: 0.00015\n",
      "Step:711, train: 0.00015, val: 0.00015\n",
      "Step:712, train: 0.00015, val: 0.00015\n",
      "Step:713, train: 0.00015, val: 0.00015\n",
      "Step:714, train: 0.00015, val: 0.00015\n",
      "Step:715, train: 0.00014, val: 0.00015\n",
      "Step:716, train: 0.00016, val: 0.00015\n",
      "Step:717, train: 0.00013, val: 0.00015\n",
      "Step:718, train: 0.00015, val: 0.00015\n",
      "Step:719, train: 0.00015, val: 0.00015\n",
      "Step:720, train: 0.00014, val: 0.00015\n",
      "Step:721, train: 0.00014, val: 0.00014\n",
      "Step:722, train: 0.00014, val: 0.00014\n",
      "Step:723, train: 0.00014, val: 0.00014\n",
      "Step:724, train: 0.00014, val: 0.00014\n",
      "Step:725, train: 0.00014, val: 0.00014\n",
      "Step:726, train: 0.00014, val: 0.00014\n",
      "Step:727, train: 0.00014, val: 0.00014\n",
      "Step:728, train: 0.00014, val: 0.00014\n",
      "Step:729, train: 0.00014, val: 0.00014\n",
      "Step:730, train: 0.00014, val: 0.00014\n",
      "Step:731, train: 0.00014, val: 0.00014\n",
      "Step:732, train: 0.00013, val: 0.00014\n",
      "Step:733, train: 0.00014, val: 0.00014\n",
      "Step:734, train: 0.00014, val: 0.00014\n",
      "Step:735, train: 0.00013, val: 0.00014\n",
      "Step:736, train: 0.00014, val: 0.00014\n",
      "Step:737, train: 0.00014, val: 0.00014\n",
      "Step:738, train: 0.00013, val: 0.00014\n",
      "Step:739, train: 0.00015, val: 0.00014\n",
      "Step:740, train: 0.00015, val: 0.00014\n",
      "Step:741, train: 0.00013, val: 0.00014\n",
      "Step:742, train: 0.00013, val: 0.00014\n",
      "Step:743, train: 0.00013, val: 0.00014\n",
      "Step:744, train: 0.00014, val: 0.00014\n",
      "Step:745, train: 0.00013, val: 0.00013\n",
      "Step:746, train: 0.00013, val: 0.00013\n",
      "Step:747, train: 0.00012, val: 0.00013\n",
      "Step:748, train: 0.00012, val: 0.00013\n",
      "Step:749, train: 0.00012, val: 0.00013\n",
      "Step:750, train: 0.00013, val: 0.00013\n",
      "Step:751, train: 0.00012, val: 0.00013\n",
      "Step:752, train: 0.00012, val: 0.00013\n",
      "Step:753, train: 0.00013, val: 0.00013\n",
      "Step:754, train: 0.00013, val: 0.00013\n",
      "Step:755, train: 0.00013, val: 0.00013\n",
      "Step:756, train: 0.00012, val: 0.00013\n",
      "Step:757, train: 0.00013, val: 0.00013\n",
      "Step:758, train: 0.00012, val: 0.00013\n",
      "Step:759, train: 0.00012, val: 0.00013\n",
      "Step:760, train: 0.00013, val: 0.00013\n",
      "Step:761, train: 0.00012, val: 0.00013\n",
      "Step:762, train: 0.00013, val: 0.00013\n",
      "Step:763, train: 0.00013, val: 0.00013\n",
      "Step:764, train: 0.00014, val: 0.00013\n",
      "Step:765, train: 0.00013, val: 0.00013\n",
      "Step:766, train: 0.00013, val: 0.00013\n",
      "Step:767, train: 0.00012, val: 0.00013\n",
      "Step:768, train: 0.00013, val: 0.00013\n",
      "Step:769, train: 0.00012, val: 0.00013\n",
      "Step:770, train: 0.00012, val: 0.00013\n",
      "Step:771, train: 0.00011, val: 0.00013\n",
      "Step:772, train: 0.00014, val: 0.00012\n",
      "Step:773, train: 0.00013, val: 0.00012\n",
      "Step:774, train: 0.00013, val: 0.00012\n",
      "Step:775, train: 0.00012, val: 0.00012\n",
      "Step:776, train: 0.00013, val: 0.00012\n",
      "Step:777, train: 0.00012, val: 0.00012\n",
      "Step:778, train: 0.00013, val: 0.00012\n",
      "Step:779, train: 0.00013, val: 0.00012\n",
      "Step:780, train: 0.00012, val: 0.00012\n",
      "Step:781, train: 0.00011, val: 0.00012\n",
      "Step:782, train: 0.00011, val: 0.00012\n",
      "Step:783, train: 0.00012, val: 0.00012\n",
      "Step:784, train: 0.00014, val: 0.00012\n",
      "Step:785, train: 0.00012, val: 0.00012\n",
      "Step:786, train: 0.00012, val: 0.00012\n",
      "Step:787, train: 0.00012, val: 0.00012\n",
      "Step:788, train: 0.00011, val: 0.00012\n",
      "Step:789, train: 0.00012, val: 0.00012\n",
      "Step:790, train: 0.00011, val: 0.00012\n",
      "Step:791, train: 0.00012, val: 0.00012\n",
      "Step:792, train: 0.00012, val: 0.00012\n",
      "Step:793, train: 0.00012, val: 0.00012\n",
      "Step:794, train: 0.00012, val: 0.00012\n",
      "Step:795, train: 0.00011, val: 0.00012\n",
      "Step:796, train: 0.00013, val: 0.00012\n",
      "Step:797, train: 0.00012, val: 0.00012\n",
      "Step:798, train: 0.00012, val: 0.00012\n",
      "Step:799, train: 0.00011, val: 0.00012\n",
      "Step:800, train: 0.00011, val: 0.00011\n",
      "Step:801, train: 0.00012, val: 0.00011\n",
      "Step:802, train: 0.00012, val: 0.00011\n",
      "Step:803, train: 0.00011, val: 0.00011\n",
      "Step:804, train: 0.00011, val: 0.00011\n",
      "Step:805, train: 0.00011, val: 0.00011\n",
      "Step:806, train: 0.00011, val: 0.00011\n",
      "Step:807, train: 0.00011, val: 0.00011\n",
      "Step:808, train: 0.00012, val: 0.00011\n",
      "Step:809, train: 0.00010, val: 0.00011\n",
      "Step:810, train: 0.00012, val: 0.00011\n",
      "Step:811, train: 0.00011, val: 0.00011\n",
      "Step:812, train: 0.00011, val: 0.00011\n",
      "Step:813, train: 0.00011, val: 0.00011\n",
      "Step:814, train: 0.00010, val: 0.00011\n",
      "Step:815, train: 0.00011, val: 0.00011\n",
      "Step:816, train: 0.00010, val: 0.00011\n",
      "Step:817, train: 0.00012, val: 0.00011\n",
      "Step:818, train: 0.00010, val: 0.00011\n",
      "Step:819, train: 0.00011, val: 0.00011\n",
      "Step:820, train: 0.00011, val: 0.00011\n",
      "Step:821, train: 0.00011, val: 0.00011\n",
      "Step:822, train: 0.00010, val: 0.00011\n",
      "Step:823, train: 0.00011, val: 0.00011\n",
      "Step:824, train: 0.00011, val: 0.00011\n",
      "Step:825, train: 0.00011, val: 0.00011\n",
      "Step:826, train: 0.00010, val: 0.00011\n",
      "Step:827, train: 0.00011, val: 0.00011\n",
      "Step:828, train: 0.00010, val: 0.00011\n",
      "Step:829, train: 0.00009, val: 0.00011\n",
      "Step:830, train: 0.00009, val: 0.00011\n",
      "Step:831, train: 0.00011, val: 0.00011\n",
      "Step:832, train: 0.00011, val: 0.00011\n",
      "Step:833, train: 0.00010, val: 0.00010\n",
      "Step:834, train: 0.00010, val: 0.00010\n",
      "Step:835, train: 0.00012, val: 0.00010\n",
      "Step:836, train: 0.00011, val: 0.00010\n",
      "Step:837, train: 0.00010, val: 0.00010\n",
      "Step:838, train: 0.00011, val: 0.00010\n",
      "Step:839, train: 0.00011, val: 0.00010\n",
      "Step:840, train: 0.00011, val: 0.00010\n",
      "Step:841, train: 0.00010, val: 0.00010\n",
      "Step:842, train: 0.00010, val: 0.00010\n",
      "Step:843, train: 0.00010, val: 0.00010\n",
      "Step:844, train: 0.00010, val: 0.00010\n",
      "Step:845, train: 0.00010, val: 0.00010\n",
      "Step:846, train: 0.00011, val: 0.00010\n",
      "Step:847, train: 0.00009, val: 0.00010\n",
      "Step:848, train: 0.00009, val: 0.00010\n",
      "Step:849, train: 0.00009, val: 0.00010\n"
     ]
    },
    {
     "name": "stdout",
     "output_type": "stream",
     "text": [
      "Step:850, train: 0.00010, val: 0.00010\n",
      "Step:851, train: 0.00010, val: 0.00010\n",
      "Step:852, train: 0.00010, val: 0.00010\n",
      "Step:853, train: 0.00010, val: 0.00010\n",
      "Step:854, train: 0.00009, val: 0.00010\n",
      "Step:855, train: 0.00011, val: 0.00010\n",
      "Step:856, train: 0.00010, val: 0.00010\n",
      "Step:857, train: 0.00009, val: 0.00010\n",
      "Step:858, train: 0.00010, val: 0.00010\n",
      "Step:859, train: 0.00010, val: 0.00010\n",
      "Step:860, train: 0.00010, val: 0.00010\n",
      "Step:861, train: 0.00009, val: 0.00010\n",
      "Step:862, train: 0.00010, val: 0.00010\n",
      "Step:863, train: 0.00010, val: 0.00010\n",
      "Step:864, train: 0.00010, val: 0.00010\n",
      "Step:865, train: 0.00009, val: 0.00010\n",
      "Step:866, train: 0.00010, val: 0.00010\n",
      "Step:867, train: 0.00010, val: 0.00010\n",
      "Step:868, train: 0.00009, val: 0.00010\n",
      "Step:869, train: 0.00009, val: 0.00009\n",
      "Step:870, train: 0.00010, val: 0.00009\n",
      "Step:871, train: 0.00010, val: 0.00009\n",
      "Step:872, train: 0.00010, val: 0.00009\n",
      "Step:873, train: 0.00010, val: 0.00009\n",
      "Step:874, train: 0.00010, val: 0.00009\n",
      "Step:875, train: 0.00009, val: 0.00009\n",
      "Step:876, train: 0.00010, val: 0.00009\n",
      "Step:877, train: 0.00009, val: 0.00009\n",
      "Step:878, train: 0.00009, val: 0.00009\n",
      "Step:879, train: 0.00009, val: 0.00009\n",
      "Step:880, train: 0.00009, val: 0.00009\n",
      "Step:881, train: 0.00008, val: 0.00009\n",
      "Step:882, train: 0.00009, val: 0.00009\n",
      "Step:883, train: 0.00010, val: 0.00009\n",
      "Step:884, train: 0.00009, val: 0.00009\n",
      "Step:885, train: 0.00010, val: 0.00009\n",
      "Step:886, train: 0.00010, val: 0.00009\n",
      "Step:887, train: 0.00009, val: 0.00009\n",
      "Step:888, train: 0.00009, val: 0.00009\n",
      "Step:889, train: 0.00009, val: 0.00009\n",
      "Step:890, train: 0.00009, val: 0.00009\n",
      "Step:891, train: 0.00009, val: 0.00009\n",
      "Step:892, train: 0.00008, val: 0.00009\n",
      "Step:893, train: 0.00009, val: 0.00009\n",
      "Step:894, train: 0.00010, val: 0.00009\n",
      "Step:895, train: 0.00009, val: 0.00009\n",
      "Step:896, train: 0.00008, val: 0.00009\n",
      "Step:897, train: 0.00010, val: 0.00009\n",
      "Step:898, train: 0.00009, val: 0.00009\n",
      "Step:899, train: 0.00009, val: 0.00009\n",
      "Step:900, train: 0.00009, val: 0.00009\n",
      "Step:901, train: 0.00009, val: 0.00009\n",
      "Step:902, train: 0.00008, val: 0.00009\n",
      "Step:903, train: 0.00008, val: 0.00009\n",
      "Step:904, train: 0.00008, val: 0.00009\n",
      "Step:905, train: 0.00008, val: 0.00009\n",
      "Step:906, train: 0.00009, val: 0.00009\n",
      "Step:907, train: 0.00010, val: 0.00009\n",
      "Step:908, train: 0.00008, val: 0.00009\n",
      "Step:909, train: 0.00009, val: 0.00009\n",
      "Step:910, train: 0.00008, val: 0.00008\n",
      "Step:911, train: 0.00009, val: 0.00008\n",
      "Step:912, train: 0.00009, val: 0.00008\n",
      "Step:913, train: 0.00009, val: 0.00008\n",
      "Step:914, train: 0.00008, val: 0.00008\n",
      "Step:915, train: 0.00008, val: 0.00008\n",
      "Step:916, train: 0.00009, val: 0.00008\n",
      "Step:917, train: 0.00008, val: 0.00008\n",
      "Step:918, train: 0.00008, val: 0.00008\n",
      "Step:919, train: 0.00009, val: 0.00008\n",
      "Step:920, train: 0.00008, val: 0.00008\n",
      "Step:921, train: 0.00009, val: 0.00008\n",
      "Step:922, train: 0.00008, val: 0.00008\n",
      "Step:923, train: 0.00008, val: 0.00008\n",
      "Step:924, train: 0.00008, val: 0.00008\n",
      "Step:925, train: 0.00008, val: 0.00008\n",
      "Step:926, train: 0.00008, val: 0.00008\n",
      "Step:927, train: 0.00008, val: 0.00008\n",
      "Step:928, train: 0.00008, val: 0.00008\n",
      "Step:929, train: 0.00008, val: 0.00008\n",
      "Step:930, train: 0.00008, val: 0.00008\n",
      "Step:931, train: 0.00008, val: 0.00008\n",
      "Step:932, train: 0.00008, val: 0.00008\n",
      "Step:933, train: 0.00008, val: 0.00008\n",
      "Step:934, train: 0.00008, val: 0.00008\n",
      "Step:935, train: 0.00008, val: 0.00008\n",
      "Step:936, train: 0.00007, val: 0.00008\n",
      "Step:937, train: 0.00008, val: 0.00008\n",
      "Step:938, train: 0.00009, val: 0.00008\n",
      "Step:939, train: 0.00008, val: 0.00008\n",
      "Step:940, train: 0.00009, val: 0.00008\n",
      "Step:941, train: 0.00008, val: 0.00008\n",
      "Step:942, train: 0.00007, val: 0.00008\n",
      "Step:943, train: 0.00008, val: 0.00008\n",
      "Step:944, train: 0.00008, val: 0.00008\n",
      "Step:945, train: 0.00007, val: 0.00008\n",
      "Step:946, train: 0.00007, val: 0.00008\n",
      "Step:947, train: 0.00008, val: 0.00008\n",
      "Step:948, train: 0.00008, val: 0.00008\n",
      "Step:949, train: 0.00007, val: 0.00008\n",
      "Step:950, train: 0.00007, val: 0.00008\n",
      "Step:951, train: 0.00007, val: 0.00008\n",
      "Step:952, train: 0.00008, val: 0.00008\n",
      "Step:953, train: 0.00008, val: 0.00008\n",
      "Step:954, train: 0.00008, val: 0.00008\n",
      "Step:955, train: 0.00007, val: 0.00008\n",
      "Step:956, train: 0.00007, val: 0.00008\n",
      "Step:957, train: 0.00007, val: 0.00007\n",
      "Step:958, train: 0.00008, val: 0.00007\n",
      "Step:959, train: 0.00007, val: 0.00007\n",
      "Step:960, train: 0.00008, val: 0.00007\n",
      "Step:961, train: 0.00008, val: 0.00007\n",
      "Step:962, train: 0.00007, val: 0.00007\n",
      "Step:963, train: 0.00008, val: 0.00007\n",
      "Step:964, train: 0.00007, val: 0.00007\n",
      "Step:965, train: 0.00007, val: 0.00007\n",
      "Step:966, train: 0.00008, val: 0.00007\n",
      "Step:967, train: 0.00008, val: 0.00007\n",
      "Step:968, train: 0.00007, val: 0.00007\n",
      "Step:969, train: 0.00008, val: 0.00007\n",
      "Step:970, train: 0.00007, val: 0.00007\n",
      "Step:971, train: 0.00007, val: 0.00007\n",
      "Step:972, train: 0.00007, val: 0.00007\n",
      "Step:973, train: 0.00007, val: 0.00007\n",
      "Step:974, train: 0.00007, val: 0.00007\n",
      "Step:975, train: 0.00007, val: 0.00007\n",
      "Step:976, train: 0.00007, val: 0.00007\n",
      "Step:977, train: 0.00007, val: 0.00007\n",
      "Step:978, train: 0.00007, val: 0.00007\n",
      "Step:979, train: 0.00007, val: 0.00007\n",
      "Step:980, train: 0.00008, val: 0.00007\n",
      "Step:981, train: 0.00008, val: 0.00007\n",
      "Step:982, train: 0.00007, val: 0.00007\n",
      "Step:983, train: 0.00007, val: 0.00007\n",
      "Step:984, train: 0.00008, val: 0.00007\n",
      "Step:985, train: 0.00007, val: 0.00007\n",
      "Step:986, train: 0.00007, val: 0.00007\n",
      "Step:987, train: 0.00007, val: 0.00007\n",
      "Step:988, train: 0.00007, val: 0.00007\n",
      "Step:989, train: 0.00007, val: 0.00007\n",
      "Step:990, train: 0.00007, val: 0.00007\n",
      "Step:991, train: 0.00007, val: 0.00007\n",
      "Step:992, train: 0.00007, val: 0.00007\n",
      "Step:993, train: 0.00007, val: 0.00007\n",
      "Step:994, train: 0.00007, val: 0.00007\n",
      "Step:995, train: 0.00007, val: 0.00007\n",
      "Step:996, train: 0.00007, val: 0.00007\n",
      "Step:997, train: 0.00007, val: 0.00007\n",
      "Step:998, train: 0.00007, val: 0.00007\n",
      "Step:999, train: 0.00006, val: 0.00007\n"
     ]
    }
   ],
   "source": [
    "model.train(inputs = inputs_map,\n",
    "            targets = targets_map,\n",
    "            inputs_val = inputs_map,\n",
    "            targets_val = targets_map,\n",
    "            num_iter = 1000,\n",
    "            N = 324\n",
    "            )"
   ]
  },
  {
   "cell_type": "code",
   "execution_count": 90,
   "metadata": {},
   "outputs": [
    {
     "data": {
      "text/plain": [
       "<tf.Tensor: shape=(), dtype=float64, numpy=0.9639356023230753>"
      ]
     },
     "execution_count": 90,
     "metadata": {},
     "output_type": "execute_result"
    }
   ],
   "source": [
    "channel_fidelity(kraus_model, kraus_target)"
   ]
  },
  {
   "cell_type": "code",
   "execution_count": null,
   "metadata": {},
   "outputs": [],
   "source": []
  }
 ],
 "metadata": {
  "kernelspec": {
   "display_name": "env_qiskit",
   "language": "python",
   "name": "env_qiskit"
  },
  "language_info": {
   "codemirror_mode": {
    "name": "ipython",
    "version": 3
   },
   "file_extension": ".py",
   "mimetype": "text/x-python",
   "name": "python",
   "nbconvert_exporter": "python",
   "pygments_lexer": "ipython3",
   "version": "3.10.4"
  }
 },
 "nbformat": 4,
 "nbformat_minor": 4
}
