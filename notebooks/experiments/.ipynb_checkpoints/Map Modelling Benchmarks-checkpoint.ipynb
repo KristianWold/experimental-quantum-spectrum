{
 "cells": [
  {
   "cell_type": "markdown",
   "metadata": {},
   "source": [
    "# Numerical Benchmarks"
   ]
  },
  {
   "cell_type": "code",
   "execution_count": 1,
   "metadata": {},
   "outputs": [],
   "source": [
    "import sys\n",
    "sys.path.insert(0, '../../src_tf/')\n",
    "\n",
    "import numpy as np\n",
    "import qiskit as qk\n",
    "import matplotlib.pyplot as plt\n",
    "import multiprocessing as mp\n",
    "import random\n",
    "import pickle\n",
    "\n",
    "from qiskit.quantum_info import DensityMatrix, random_unitary\n",
    "from qiskit.quantum_info import Operator\n",
    "from scipy.linalg import sqrtm\n",
    "from tqdm.notebook import tqdm\n",
    "\n",
    "from loss_functions import *\n",
    "from optimization import *\n",
    "from quantum_channel import *\n",
    "from quantum_tools import *\n",
    "from experimental import *\n",
    "from spam import *\n",
    "\n",
    "#np.set_printoptions(threshold=sys.maxsize)\n",
    "np.set_printoptions(precision=4)\n",
    "\n",
    "import os\n",
    "os.environ[\"CUDA_VISIBLE_DEVICES\"] = \"-1\""
   ]
  },
  {
   "cell_type": "markdown",
   "metadata": {},
   "source": [
    "## Recover SPAM and Map\n",
    "\n",
    "### Generate True Model, Full POVM and Inital"
   ]
  },
  {
   "cell_type": "code",
   "execution_count": 2,
   "metadata": {},
   "outputs": [],
   "source": [
    "np.random.seed(42)\n",
    "random.seed(42)\n",
    "tf.random.set_seed(42)\n",
    "\n",
    "n = 3\n",
    "d = 2**n\n",
    "rank = d**2\n",
    "c1 = 0.9\n",
    "c2 = 0.9\n",
    "\n",
    "#prep error and full POVM error\n",
    "spam_target = SPAM(d=d)\n",
    "\n",
    "init_target = c1*init_ideal(d) + (1-c1)*spam_target.init\n",
    "povm_target = c2*povm_ideal(d) + (1-c2)*spam_target.povm\n",
    "\n",
    "spam_target = SPAM(d=d,\n",
    "                  init = init_target,\n",
    "                  povm = povm_target)\n",
    "\n",
    "kraus_target = CompactLindbladMap(d, 32)"
   ]
  },
  {
   "cell_type": "markdown",
   "metadata": {},
   "source": [
    "### Generate Synthetic Data with Noise"
   ]
  },
  {
   "cell_type": "code",
   "execution_count": null,
   "metadata": {},
   "outputs": [],
   "source": [
    "np.random.seed(42)\n",
    "random.seed(42)\n",
    "tf.random.set_seed(42)\n",
    "\n",
    "inputs_spam, _ = generate_pauliInput_circuits(n)\n",
    "\n",
    "U_prep = inputs_spam\n",
    "N_spam = U_prep.shape[0]\n",
    "\n",
    "state = tf.repeat(spam_target.init[None,:,:], N_spam, axis=0)\n",
    "state = apply_unitary(state, U_prep)\n",
    "targets_spam = measurement(state, povm = spam_target.povm)\n",
    "\n",
    "#add noise\n",
    "targets_spam = add_noise_to_probs(targets_spam, 0.01)\n",
    "\n",
    "inputs_map, _ = generate_pauli_circuits(n = n, \n",
    "                                        circuit_target=None,  \n",
    "                                        trace=False)\n",
    "U_prep, U_basis = inputs_map\n",
    "\n",
    "N_map = U_prep.shape[0]\n",
    "state = tf.repeat(tf.expand_dims(spam_target.init, axis=0), N_map, axis=0)\n",
    "state = apply_unitary(state, U_prep)\n",
    "state = kraus_target.apply_channel(state)\n",
    "targets_map = measurement(state, U_basis, spam_target.povm)\n",
    "\n",
    "#add noise\n",
    "targets_map = add_noise_to_probs(targets_map, 0.01)"
   ]
  },
  {
   "cell_type": "markdown",
   "metadata": {},
   "source": [
    "### Fit Model, Initial and Corruption Matrix"
   ]
  },
  {
   "cell_type": "code",
   "execution_count": null,
   "metadata": {},
   "outputs": [],
   "source": [
    "np.random.seed(43)\n",
    "random.seed(43)\n",
    "tf.random.set_seed(43)\n",
    "\n",
    "spam_model = SPAM(d=d,\n",
    "#                  use_corr_mat=True,\n",
    "                  optimizer = tf.optimizers.Adam(learning_rate=0.01))\n",
    "\n",
    "spam_model.pretrain(targets = [init_ideal(d), povm_ideal(d)],\n",
    "                    num_iter = 300,\n",
    "                    verbose = False,\n",
    "                    )\n",
    "\n",
    "spam_model.train(inputs = inputs_spam,\n",
    "                 targets = targets_spam,\n",
    "                 num_iter = 1000,\n",
    "                 verbose = True,\n",
    "                )"
   ]
  },
  {
   "cell_type": "code",
   "execution_count": null,
   "metadata": {},
   "outputs": [],
   "source": [
    "np.random.seed(43)\n",
    "random.seed(43)\n",
    "tf.random.set_seed(43)\n",
    "\n",
    "model = ModelQuantumMap(channel = KrausMap(d = d, \n",
    "                                           rank = d**2,\n",
    "                                           spam = spam_model,\n",
    "                                          ),\n",
    "                        loss_function = ProbabilityMSE(),\n",
    "                        optimizer = tf.optimizers.Adam(learning_rate=0.01),\n",
    "                        logger = Logger(loss_function = channel_fidelity_loss),\n",
    "                       )"
   ]
  },
  {
   "cell_type": "code",
   "execution_count": null,
   "metadata": {},
   "outputs": [],
   "source": [
    "model.train(inputs = inputs_map,\n",
    "            targets = targets_map,\n",
    "            inputs_val = None,\n",
    "            targets_val = [kraus_target],\n",
    "            num_iter = 1000,\n",
    "            N = 500,\n",
    "            )"
   ]
  },
  {
   "cell_type": "code",
   "execution_count": null,
   "metadata": {},
   "outputs": [],
   "source": [
    "spectrum1 = channel_spectrum(kraus_target)\n",
    "spectrum2 = channel_spectrum(model.channel)\n",
    "\n",
    "t = np.linspace(0, 2*np.pi, 100)\n",
    "circle = [np.sin(t), np.cos(t)]\n",
    "fig = plt.figure(figsize=(8,8), dpi = 300, facecolor='w', edgecolor='k')\n",
    "ax = fig.add_subplot(111)\n",
    "ax.set_aspect(1)\n",
    "plt.plot(*circle, \"k\")\n",
    "\n",
    "plt.plot(spectrum1[:,0], spectrum1[:,1], \"o\")\n",
    "plt.plot(spectrum2[:,0], spectrum2[:,1], \"o\")"
   ]
  },
  {
   "cell_type": "code",
   "execution_count": null,
   "metadata": {},
   "outputs": [
    {
     "data": {
      "application/vnd.jupyter.widget-view+json": {
       "model_id": "62525b40f5e14908a8083b78ce01eaa8",
       "version_major": 2,
       "version_minor": 0
      },
      "text/plain": [
       "  0%|          | 0/10000 [00:00<?, ?it/s]"
      ]
     },
     "metadata": {},
     "output_type": "display_data"
    },
    {
     "name": "stdout",
     "output_type": "stream",
     "text": [
      "None -0.2216020631160081\n",
      "None -0.4637876047712067\n",
      "None -0.6558061697037807\n",
      "None -0.7284039182122731\n",
      "None -0.7678207640701658\n",
      "None -0.7924122756729199\n",
      "None -0.8094429853913735\n",
      "None -0.8230947494245624\n",
      "None -0.8348142998692266\n"
     ]
    }
   ],
   "source": [
    "np.random.seed(43)\n",
    "random.seed(43)\n",
    "tf.random.set_seed(43)\n",
    "\n",
    "model = ModelQuantumMap(channel = KrausMap(d = d, \n",
    "                                           rank = 32,\n",
    "                                           spam = spam_model,\n",
    "                                          ),\n",
    "                        loss_function = ProbabilityMSE(),\n",
    "                        optimizer = tf.optimizers.Adam(learning_rate=0.01),\n",
    "                        logger = Logger(loss_function = channel_fidelity_loss),\n",
    "                       )\n",
    "                       \n",
    "\n",
    "model.train(inputs = inputs_map,\n",
    "            targets = targets_map,\n",
    "            inputs_val = None,\n",
    "            targets_val = [kraus_target],\n",
    "            num_iter = 10000,\n",
    "            N = 500,\n",
    "            )"
   ]
  },
  {
   "cell_type": "code",
   "execution_count": null,
   "metadata": {},
   "outputs": [],
   "source": []
  },
  {
   "cell_type": "code",
   "execution_count": null,
   "metadata": {},
   "outputs": [],
   "source": []
  }
 ],
 "metadata": {
  "kernelspec": {
   "display_name": "env_qiskit",
   "language": "python",
   "name": "env_qiskit"
  },
  "language_info": {
   "codemirror_mode": {
    "name": "ipython",
    "version": 3
   },
   "file_extension": ".py",
   "mimetype": "text/x-python",
   "name": "python",
   "nbconvert_exporter": "python",
   "pygments_lexer": "ipython3",
   "version": "3.10.4"
  }
 },
 "nbformat": 4,
 "nbformat_minor": 4
}
