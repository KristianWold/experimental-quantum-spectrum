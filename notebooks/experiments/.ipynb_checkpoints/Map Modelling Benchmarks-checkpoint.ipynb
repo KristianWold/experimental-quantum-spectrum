{
 "cells": [
  {
   "cell_type": "markdown",
   "metadata": {},
   "source": [
    "# Numerical Benchmarks"
   ]
  },
  {
   "cell_type": "code",
   "execution_count": 1,
   "metadata": {},
   "outputs": [],
   "source": [
    "import sys\n",
    "sys.path.insert(0, '../../src_tf/')\n",
    "\n",
    "import numpy as np\n",
    "import qiskit as qk\n",
    "import matplotlib.pyplot as plt\n",
    "import multiprocessing as mp\n",
    "import random\n",
    "import pickle\n",
    "\n",
    "from qiskit.quantum_info import DensityMatrix, random_unitary\n",
    "from qiskit.quantum_info import Operator\n",
    "from scipy.linalg import sqrtm\n",
    "from tqdm.notebook import tqdm\n",
    "\n",
    "from loss_functions import *\n",
    "from optimization import *\n",
    "from quantum_channel import *\n",
    "from quantum_tools import *\n",
    "from experimental import *\n",
    "from spam import *\n",
    "\n",
    "#np.set_printoptions(threshold=sys.maxsize)\n",
    "np.set_printoptions(precision=4)\n",
    "\n",
    "import os\n",
    "os.environ[\"CUDA_VISIBLE_DEVICES\"] = \"-1\""
   ]
  },
  {
   "cell_type": "markdown",
   "metadata": {},
   "source": [
    "## Recover SPAM and Map\n",
    "\n",
    "### Generate True Model, Full POVM and Inital"
   ]
  },
  {
   "cell_type": "code",
   "execution_count": 4,
   "metadata": {},
   "outputs": [],
   "source": [
    "np.random.seed(42)\n",
    "random.seed(42)\n",
    "tf.random.set_seed(42)\n",
    "\n",
    "n = 6\n",
    "d = 2**n\n",
    "rank = 2\n",
    "c1 = 0.9\n",
    "c2 = 0.9\n",
    "\n",
    "#prep error and full POVM error\n",
    "spam_target = SPAM(d=d)\n",
    "\n",
    "init_target = c1*init_ideal(d) + (1-c1)*spam_target.init\n",
    "povm_target = c2*povm_ideal(d) + (1-c2)*spam_target.povm\n",
    "\n",
    "spam_target = SPAM(d=d,\n",
    "                  init = init_target,\n",
    "                  povm = povm_target)\n",
    "\n",
    "kraus_target = DilutedKrausMap(\n",
    "                               U=generate_unitary(d=d), \n",
    "                               c=0.1, \n",
    "                               d=d, \n",
    "                               rank=rank-1,\n",
    "                               spam = spam_target\n",
    "                              )"
   ]
  },
  {
   "cell_type": "markdown",
   "metadata": {},
   "source": [
    "### Generate Synthetic Data with Noise"
   ]
  },
  {
   "cell_type": "code",
   "execution_count": 5,
   "metadata": {},
   "outputs": [
    {
     "ename": "ResourceExhaustedError",
     "evalue": "OOM when allocating tensor with shape[46656,64,64,64] and type complex128 on /job:localhost/replica:0/task:0/device:CPU:0 by allocator cpu [Op:BatchMatMulV2]",
     "output_type": "error",
     "traceback": [
      "\u001b[1;31m---------------------------------------------------------------------------\u001b[0m",
      "\u001b[1;31mResourceExhaustedError\u001b[0m                    Traceback (most recent call last)",
      "Input \u001b[1;32mIn [5]\u001b[0m, in \u001b[0;36m<cell line: 12>\u001b[1;34m()\u001b[0m\n\u001b[0;32m     10\u001b[0m state \u001b[38;5;241m=\u001b[39m tf\u001b[38;5;241m.\u001b[39mrepeat(spam_target\u001b[38;5;241m.\u001b[39minit[\u001b[38;5;28;01mNone\u001b[39;00m,:,:], N_spam, axis\u001b[38;5;241m=\u001b[39m\u001b[38;5;241m0\u001b[39m)\n\u001b[0;32m     11\u001b[0m state \u001b[38;5;241m=\u001b[39m apply_unitary(state, U_prep)\n\u001b[1;32m---> 12\u001b[0m targets_spam \u001b[38;5;241m=\u001b[39m \u001b[43mmeasurement\u001b[49m\u001b[43m(\u001b[49m\u001b[43mstate\u001b[49m\u001b[43m,\u001b[49m\u001b[43m \u001b[49m\u001b[43mpovm\u001b[49m\u001b[43m \u001b[49m\u001b[38;5;241;43m=\u001b[39;49m\u001b[43m \u001b[49m\u001b[43mspam_target\u001b[49m\u001b[38;5;241;43m.\u001b[39;49m\u001b[43mpovm\u001b[49m\u001b[43m)\u001b[49m\n\u001b[0;32m     14\u001b[0m \u001b[38;5;66;03m#add noise\u001b[39;00m\n\u001b[0;32m     15\u001b[0m targets_spam \u001b[38;5;241m=\u001b[39m add_noise_to_probs(targets_spam, \u001b[38;5;241m0.0316\u001b[39m)\n",
      "File \u001b[1;32m~\\Documents\\ModelNISQ\\notebooks\\experiments\\../../src_tf\\quantum_tools.py:171\u001b[0m, in \u001b[0;36mmeasurement\u001b[1;34m(state, U_basis, povm)\u001b[0m\n\u001b[0;32m    168\u001b[0m state \u001b[38;5;241m=\u001b[39m tf\u001b[38;5;241m.\u001b[39mexpand_dims(UstateU, axis\u001b[38;5;241m=\u001b[39m\u001b[38;5;241m1\u001b[39m)\n\u001b[0;32m    169\u001b[0m povm \u001b[38;5;241m=\u001b[39m tf\u001b[38;5;241m.\u001b[39mexpand_dims(povm, axis\u001b[38;5;241m=\u001b[39m\u001b[38;5;241m0\u001b[39m)\n\u001b[1;32m--> 171\u001b[0m probs \u001b[38;5;241m=\u001b[39m tf\u001b[38;5;241m.\u001b[39mlinalg\u001b[38;5;241m.\u001b[39mtrace(\u001b[43mstate\u001b[49m\u001b[43m \u001b[49m\u001b[38;5;241;43m@\u001b[39;49m\u001b[43m \u001b[49m\u001b[43mpovm\u001b[49m)\n\u001b[0;32m    173\u001b[0m \u001b[38;5;28;01mreturn\u001b[39;00m probs\n",
      "File \u001b[1;32m~\\anaconda3\\envs\\env_qiskit\\lib\\site-packages\\tensorflow\\python\\util\\traceback_utils.py:153\u001b[0m, in \u001b[0;36mfilter_traceback.<locals>.error_handler\u001b[1;34m(*args, **kwargs)\u001b[0m\n\u001b[0;32m    151\u001b[0m \u001b[38;5;28;01mexcept\u001b[39;00m \u001b[38;5;167;01mException\u001b[39;00m \u001b[38;5;28;01mas\u001b[39;00m e:\n\u001b[0;32m    152\u001b[0m   filtered_tb \u001b[38;5;241m=\u001b[39m _process_traceback_frames(e\u001b[38;5;241m.\u001b[39m__traceback__)\n\u001b[1;32m--> 153\u001b[0m   \u001b[38;5;28;01mraise\u001b[39;00m e\u001b[38;5;241m.\u001b[39mwith_traceback(filtered_tb) \u001b[38;5;28;01mfrom\u001b[39;00m \u001b[38;5;28mNone\u001b[39m\n\u001b[0;32m    154\u001b[0m \u001b[38;5;28;01mfinally\u001b[39;00m:\n\u001b[0;32m    155\u001b[0m   \u001b[38;5;28;01mdel\u001b[39;00m filtered_tb\n",
      "File \u001b[1;32m~\\anaconda3\\envs\\env_qiskit\\lib\\site-packages\\tensorflow\\python\\framework\\ops.py:7164\u001b[0m, in \u001b[0;36mraise_from_not_ok_status\u001b[1;34m(e, name)\u001b[0m\n\u001b[0;32m   7162\u001b[0m \u001b[38;5;28;01mdef\u001b[39;00m \u001b[38;5;21mraise_from_not_ok_status\u001b[39m(e, name):\n\u001b[0;32m   7163\u001b[0m   e\u001b[38;5;241m.\u001b[39mmessage \u001b[38;5;241m+\u001b[39m\u001b[38;5;241m=\u001b[39m (\u001b[38;5;124m\"\u001b[39m\u001b[38;5;124m name: \u001b[39m\u001b[38;5;124m\"\u001b[39m \u001b[38;5;241m+\u001b[39m name \u001b[38;5;28;01mif\u001b[39;00m name \u001b[38;5;129;01mis\u001b[39;00m \u001b[38;5;129;01mnot\u001b[39;00m \u001b[38;5;28;01mNone\u001b[39;00m \u001b[38;5;28;01melse\u001b[39;00m \u001b[38;5;124m\"\u001b[39m\u001b[38;5;124m\"\u001b[39m)\n\u001b[1;32m-> 7164\u001b[0m   \u001b[38;5;28;01mraise\u001b[39;00m core\u001b[38;5;241m.\u001b[39m_status_to_exception(e) \u001b[38;5;28;01mfrom\u001b[39;00m \u001b[38;5;28mNone\u001b[39m\n",
      "\u001b[1;31mResourceExhaustedError\u001b[0m: OOM when allocating tensor with shape[46656,64,64,64] and type complex128 on /job:localhost/replica:0/task:0/device:CPU:0 by allocator cpu [Op:BatchMatMulV2]"
     ]
    }
   ],
   "source": [
    "np.random.seed(42)\n",
    "random.seed(42)\n",
    "tf.random.set_seed(42)\n",
    "\n",
    "inputs_spam, _ = generate_pauliInput_circuits(n)\n",
    "\n",
    "U_prep = inputs_spam\n",
    "N_spam = U_prep.shape[0]\n",
    "\n",
    "state = tf.repeat(spam_target.init[None,:,:], N_spam=1000, axis=0)\n",
    "state = apply_unitary(state, U_prep)\n",
    "targets_spam = measurement(state, povm = spam_target.povm)\n",
    "\n",
    "#add noise\n",
    "targets_spam = add_noise_to_probs(targets_spam, 0.0316)\n",
    "\n",
    "inputs_map, _ = generate_pauli_circuits(n = n, \n",
    "                                        circuit_target=None, \n",
    "                                        N = 2000-6**3, \n",
    "                                        trace=False)\n",
    "U_prep, U_basis = inputs_map\n",
    "\n",
    "N_map = U_prep.shape[0]\n",
    "state = tf.repeat(tf.expand_dims(spam_target.init, axis=0), N_map, axis=0)\n",
    "state = apply_unitary(state, U_prep)\n",
    "state = kraus_target.apply_channel(state)\n",
    "targets_map = measurement(state, U_basis, spam_target.povm)\n",
    "\n",
    "#add noise\n",
    "targets_map = add_noise_to_probs(targets_map, 0.0316)"
   ]
  },
  {
   "cell_type": "markdown",
   "metadata": {},
   "source": [
    "### Fit Model, Initial and Corruption Matrix"
   ]
  },
  {
   "cell_type": "code",
   "execution_count": null,
   "metadata": {},
   "outputs": [],
   "source": [
    "np.random.seed(43)\n",
    "random.seed(43)\n",
    "tf.random.set_seed(43)\n",
    "\n",
    "spam_model = SPAM(d=d,\n",
    "#                  use_corr_mat=True,\n",
    "                  optimizer = tf.optimizers.Adam(learning_rate=0.01))\n",
    "\n",
    "spam_model.pretrain(targets = [init_ideal(d), povm_ideal(d)],\n",
    "                    num_iter = 300,\n",
    "                    verbose = False,\n",
    "                    )\n",
    "\n",
    "spam_model.train(inputs = inputs_spam,\n",
    "                 targets = targets_spam,\n",
    "                 num_iter = 1000,\n",
    "                 verbose = False,\n",
    "                )"
   ]
  },
  {
   "cell_type": "code",
   "execution_count": null,
   "metadata": {},
   "outputs": [],
   "source": [
    "np.random.seed(43)\n",
    "random.seed(43)\n",
    "tf.random.set_seed(43)\n",
    "\n",
    "model = ModelQuantumMap(channel = KrausMap(d = d, \n",
    "                                           rank = 2,\n",
    "                                           spam = spam_model,\n",
    "                                          ),\n",
    "                        loss_function = ProbabilityMSE(),\n",
    "                        optimizer = tf.optimizers.Adam(learning_rate=0.01),\n",
    "                        logger = Logger(loss_function = channel_fidelity_loss),\n",
    "                       )\n",
    "                       \n",
    "\n",
    "model.train(inputs = inputs_map,\n",
    "            targets = targets_map,\n",
    "            inputs_val = None,\n",
    "            targets_val = [kraus_target],\n",
    "            num_iter = 10000,\n",
    "            N = 500,\n",
    "            )"
   ]
  },
  {
   "cell_type": "code",
   "execution_count": null,
   "metadata": {},
   "outputs": [],
   "source": [
    "np.random.seed(43)\n",
    "random.seed(43)\n",
    "tf.random.set_seed(43)\n",
    "\n",
    "model = ModelQuantumMap(channel = KrausMap(d = d, \n",
    "                                           rank = 32,\n",
    "                                           spam = spam_model,\n",
    "                                          ),\n",
    "                        loss_function = ProbabilityMSE(),\n",
    "                        optimizer = tf.optimizers.Adam(learning_rate=0.01),\n",
    "                        logger = Logger(loss_function = channel_fidelity_loss),\n",
    "                       )\n",
    "                       \n",
    "\n",
    "model.train(inputs = inputs_map,\n",
    "            targets = targets_map,\n",
    "            inputs_val = None,\n",
    "            targets_val = [kraus_target],\n",
    "            num_iter = 10000,\n",
    "            N = 500,\n",
    "            )"
   ]
  },
  {
   "cell_type": "code",
   "execution_count": null,
   "metadata": {},
   "outputs": [],
   "source": []
  }
 ],
 "metadata": {
  "kernelspec": {
   "display_name": "env_qiskit",
   "language": "python",
   "name": "env_qiskit"
  },
  "language_info": {
   "codemirror_mode": {
    "name": "ipython",
    "version": 3
   },
   "file_extension": ".py",
   "mimetype": "text/x-python",
   "name": "python",
   "nbconvert_exporter": "python",
   "pygments_lexer": "ipython3",
   "version": "3.10.4"
  }
 },
 "nbformat": 4,
 "nbformat_minor": 4
}
