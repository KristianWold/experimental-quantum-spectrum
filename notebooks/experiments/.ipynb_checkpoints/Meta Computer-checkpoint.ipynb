{
 "cells": [
  {
   "cell_type": "markdown",
   "metadata": {},
   "source": [
    "# Meta Computer"
   ]
  },
  {
   "cell_type": "code",
   "execution_count": 1,
   "metadata": {},
   "outputs": [],
   "source": [
    "import sys\n",
    "sys.path.insert(0, '../../src_tf/')\n",
    "\n",
    "import numpy as np\n",
    "import qiskit as qk\n",
    "import matplotlib.pyplot as plt\n",
    "import multiprocessing as mp\n",
    "import random\n",
    "import pickle\n",
    "\n",
    "from qiskit.quantum_info import DensityMatrix, random_unitary\n",
    "from qiskit.quantum_info import Operator\n",
    "from scipy.linalg import sqrtm\n",
    "from tqdm.notebook import tqdm\n",
    "from math import ceil\n",
    "\n",
    "from loss_functions import *\n",
    "from optimization import *\n",
    "from quantum_channel import *\n",
    "from kraus_channels import *\n",
    "from quantum_tools import *\n",
    "from experimental import *\n",
    "from spam import *\n",
    "from scipy.stats import gaussian_kde\n",
    "from quantum_circuits import *\n",
    "from analysis import *\n",
    "from utils import *\n",
    "\n",
    "#np.set_printoptions(threshold=sys.maxsize)\n",
    "np.set_printoptions(precision=4)\n",
    "\n",
    "import os\n",
    "os.environ[\"CUDA_VISIBLE_DEVICES\"] = \"-1\""
   ]
  },
  {
   "cell_type": "markdown",
   "metadata": {},
   "source": [
    "## Four Qubit"
   ]
  },
  {
   "cell_type": "code",
   "execution_count": 22,
   "metadata": {},
   "outputs": [],
   "source": [
    "targets_spam_list1 = []\n",
    "for i in range(10):\n",
    "    inputs_map, targets_map, inputs_spam, targets_spam = loader(data_path(f\"belem_3qubits_8layers{i}\"))\n",
    "    targets_spam_list1.append(targets_spam)\n",
    "\n",
    "targets_spam_list2 = []\n",
    "for i in range(10):\n",
    "    inputs_map, targets_map, inputs_spam, targets_spam = loader(data_path(f\"belem_3qubits_16layers{i}\"))\n",
    "    targets_spam_list2.append(targets_spam)\n",
    "    \n",
    "targets_spam_list3 = []\n",
    "for i in range(10):\n",
    "    inputs_map, targets_map, inputs_spam, targets_spam = loader(data_path(f\"belem_3qubits_24layers{i}\"))\n",
    "    targets_spam_list3.append(targets_spam)\n",
    "\n",
    "targets_spam_list4 = []\n",
    "for i in range(10):\n",
    "    inputs_map, targets_map, inputs_spam, targets_spam = loader(data_path(f\"belem_3qubits_32layers{i}\"))\n",
    "    targets_spam_list4.append(targets_spam)"
   ]
  },
  {
   "cell_type": "code",
   "execution_count": 47,
   "metadata": {},
   "outputs": [],
   "source": [
    "targets_spam_list = []\n",
    "for i in range(10):\n",
    "    inputs_map, targets_map, inputs_spam, targets_spam = loader(data_path(f\"belem_3qubits_8layers{i}\"))\n",
    "    targets_spam_list.append(targets_spam)\n",
    "\n",
    "for i in range(10):\n",
    "    inputs_map, targets_map, inputs_spam, targets_spam = loader(data_path(f\"belem_3qubits_16layers{i}\"))\n",
    "    targets_spam_list.append(targets_spam)\n",
    "    \n",
    "for i in range(10):\n",
    "    inputs_map, targets_map, inputs_spam, targets_spam = loader(data_path(f\"belem_3qubits_24layers{i}\"))\n",
    "    targets_spam_list.append(targets_spam)\n",
    "    \n",
    "for i in range(10):\n",
    "    inputs_map, targets_map, inputs_spam, targets_spam = loader(data_path(f\"belem_3qubits_32layers{i}\"))\n",
    "    targets_spam_list.append(targets_spam)\n",
    "    \n",
    "for i in range(10):\n",
    "    inputs_map, targets_map, inputs_spam, targets_spam = loader(data_path(f\"belem_3qubits_40layers{i}\"))\n",
    "    targets_spam_list.append(targets_spam)\n",
    "    \n",
    "for i in range(10):\n",
    "    inputs_map, targets_map, inputs_spam, targets_spam = loader(data_path(f\"belem_3qubits_48layers{i}\"))\n",
    "    targets_spam_list.append(targets_spam)\n",
    "    \n",
    "for i in range(10):\n",
    "    inputs_map, targets_map, inputs_spam, targets_spam = loader(data_path(f\"belem_3qubits_56layers{i}\"))\n",
    "    targets_spam_list.append(targets_spam)\n",
    "    \n",
    "for i in range(10):\n",
    "    inputs_map, targets_map, inputs_spam, targets_spam = loader(data_path(f\"belem_3qubits_64layers{i}\"))\n",
    "    targets_spam_list.append(targets_spam)"
   ]
  },
  {
   "cell_type": "markdown",
   "metadata": {},
   "source": [
    "## Belem"
   ]
  },
  {
   "cell_type": "code",
   "execution_count": 48,
   "metadata": {
    "scrolled": false
   },
   "outputs": [
    {
     "data": {
      "image/png": "[encoded data removed]",
      "text/plain": [
       "<Figure size 640x480 with 1 Axes>"
      ]
     },
     "metadata": {},
     "output_type": "display_data"
    }
   ],
   "source": [
    "for targets_spam in targets_spam_list1:\n",
    "    plt.plot(targets_spam.numpy()[11], \"bo\")\n",
    "\n",
    "for targets_spam in targets_spam_list2:\n",
    "    plt.plot(targets_spam.numpy()[11], \"ro\")\n",
    "    \n",
    "for targets_spam in targets_spam_list3:\n",
    "    plt.plot(targets_spam.numpy()[11], \"go\")\n",
    "\n",
    "for targets_spam in targets_spam_list4:\n",
    "    plt.plot(targets_spam.numpy()[11], \"co\")\n",
    "plt.show()"
   ]
  },
  {
   "cell_type": "code",
   "execution_count": 49,
   "metadata": {},
   "outputs": [
    {
     "data": {
      "image/png": "[encoded data removed]",
      "text/plain": [
       "<Figure size 640x480 with 1 Axes>"
      ]
     },
     "metadata": {},
     "output_type": "display_data"
    }
   ],
   "source": [
    "for targets_spam in targets_spam_list:\n",
    "    plt.plot(targets_spam.numpy()[15], \"bo\")"
   ]
  },
  {
   "cell_type": "code",
   "execution_count": 59,
   "metadata": {},
   "outputs": [],
   "source": [
    "targets_spam = tf.stack(targets_spam_list)"
   ]
  },
  {
   "cell_type": "code",
   "execution_count": 68,
   "metadata": {},
   "outputs": [],
   "source": [
    "targets_var = tf.math.reduce_variance(targets_spam, axis=0)"
   ]
  },
  {
   "cell_type": "code",
   "execution_count": 65,
   "metadata": {},
   "outputs": [],
   "source": [
    "std = tf.math.reduce_mean(targets_std)"
   ]
  },
  {
   "cell_type": "code",
   "execution_count": 67,
   "metadata": {},
   "outputs": [
    {
     "name": "stdout",
     "output_type": "stream",
     "text": [
      "tf.Tensor(0.0007320053397816392, shape=(), dtype=float64)\n"
     ]
    }
   ],
   "source": [
    "print(std**2)"
   ]
  },
  {
   "cell_type": "code",
   "execution_count": 51,
   "metadata": {},
   "outputs": [
    {
     "data": {
      "text/plain": [
       "<tf.Tensor: shape=(80, 216, 8), dtype=complex128, numpy=\n",
       "array([[[9.7559e-01+0.j, 5.8594e-03+0.j, 1.3672e-02+0.j, ...,\n",
       "         0.0000e+00+0.j, 0.0000e+00+0.j, 0.0000e+00+0.j],\n",
       "        [3.1250e-02+0.j, 9.5703e-01+0.j, 0.0000e+00+0.j, ...,\n",
       "         2.9297e-03+0.j, 0.0000e+00+0.j, 0.0000e+00+0.j],\n",
       "        [5.1660e-01+0.j, 4.7656e-01+0.j, 0.0000e+00+0.j, ...,\n",
       "         9.7656e-04+0.j, 0.0000e+00+0.j, 0.0000e+00+0.j],\n",
       "        ...,\n",
       "        [1.2988e-01+0.j, 1.3770e-01+0.j, 1.5039e-01+0.j, ...,\n",
       "         1.1816e-01+0.j, 1.2012e-01+0.j, 1.0840e-01+0.j],\n",
       "        [1.5234e-01+0.j, 1.3574e-01+0.j, 1.2012e-01+0.j, ...,\n",
       "         1.2012e-01+0.j, 1.0449e-01+0.j, 1.2207e-01+0.j],\n",
       "        [1.6406e-01+0.j, 1.1133e-01+0.j, 1.3379e-01+0.j, ...,\n",
       "         1.0254e-01+0.j, 1.2402e-01+0.j, 1.1133e-01+0.j]],\n",
       "\n",
       "       [[9.8535e-01+0.j, 4.8828e-03+0.j, 5.8594e-03+0.j, ...,\n",
       "         0.0000e+00+0.j, 0.0000e+00+0.j, 0.0000e+00+0.j],\n",
       "        [3.0273e-02+0.j, 9.6094e-01+0.j, 9.7656e-04+0.j, ...,\n",
       "         1.9531e-03+0.j, 0.0000e+00+0.j, 0.0000e+00+0.j],\n",
       "        [4.6289e-01+0.j, 5.2832e-01+0.j, 3.9062e-03+0.j, ...,\n",
       "         1.9531e-03+0.j, 0.0000e+00+0.j, 0.0000e+00+0.j],\n",
       "        ...,\n",
       "        [1.5430e-01+0.j, 1.5430e-01+0.j, 1.3281e-01+0.j, ...,\n",
       "         1.2207e-01+0.j, 9.0820e-02+0.j, 8.3008e-02+0.j],\n",
       "        [1.7188e-01+0.j, 1.3574e-01+0.j, 1.5430e-01+0.j, ...,\n",
       "         9.2773e-02+0.j, 1.1328e-01+0.j, 9.8633e-02+0.j],\n",
       "        [1.3086e-01+0.j, 1.4062e-01+0.j, 1.4258e-01+0.j, ...,\n",
       "         1.3281e-01+0.j, 9.9609e-02+0.j, 1.1035e-01+0.j]],\n",
       "\n",
       "       [[9.8438e-01+0.j, 2.9297e-03+0.j, 6.8359e-03+0.j, ...,\n",
       "         0.0000e+00+0.j, 0.0000e+00+0.j, 0.0000e+00+0.j],\n",
       "        [5.0781e-02+0.j, 9.3066e-01+0.j, 0.0000e+00+0.j, ...,\n",
       "         1.0742e-02+0.j, 0.0000e+00+0.j, 0.0000e+00+0.j],\n",
       "        [4.6680e-01+0.j, 5.1855e-01+0.j, 4.8828e-03+0.j, ...,\n",
       "         9.7656e-04+0.j, 0.0000e+00+0.j, 0.0000e+00+0.j],\n",
       "        ...,\n",
       "        [1.5527e-01+0.j, 1.5820e-01+0.j, 1.3281e-01+0.j, ...,\n",
       "         1.0645e-01+0.j, 9.9609e-02+0.j, 1.0742e-01+0.j],\n",
       "        [1.6895e-01+0.j, 1.5918e-01+0.j, 1.2598e-01+0.j, ...,\n",
       "         1.0352e-01+0.j, 1.1035e-01+0.j, 9.5703e-02+0.j],\n",
       "        [1.4941e-01+0.j, 1.4160e-01+0.j, 1.2207e-01+0.j, ...,\n",
       "         1.1719e-01+0.j, 9.6680e-02+0.j, 1.0449e-01+0.j]],\n",
       "\n",
       "       ...,\n",
       "\n",
       "       [[9.8535e-01+0.j, 2.9297e-03+0.j, 7.8125e-03+0.j, ...,\n",
       "         0.0000e+00+0.j, 0.0000e+00+0.j, 0.0000e+00+0.j],\n",
       "        [1.0449e-01+0.j, 8.8965e-01+0.j, 0.0000e+00+0.j, ...,\n",
       "         9.7656e-04+0.j, 0.0000e+00+0.j, 0.0000e+00+0.j],\n",
       "        [7.3047e-01+0.j, 2.6074e-01+0.j, 1.9531e-03+0.j, ...,\n",
       "         9.7656e-04+0.j, 0.0000e+00+0.j, 0.0000e+00+0.j],\n",
       "        ...,\n",
       "        [1.0645e-01+0.j, 2.6465e-01+0.j, 9.7656e-02+0.j, ...,\n",
       "         1.1816e-01+0.j, 4.5898e-02+0.j, 1.0156e-01+0.j],\n",
       "        [1.0840e-01+0.j, 2.5391e-01+0.j, 8.9844e-02+0.j, ...,\n",
       "         1.3184e-01+0.j, 4.6875e-02+0.j, 8.7891e-02+0.j],\n",
       "        [2.8418e-01+0.j, 1.0840e-01+0.j, 2.4805e-01+0.j, ...,\n",
       "         3.8086e-02+0.j, 8.6914e-02+0.j, 4.3945e-02+0.j]],\n",
       "\n",
       "       [[9.8047e-01+0.j, 1.9531e-03+0.j, 1.1719e-02+0.j, ...,\n",
       "         9.7656e-04+0.j, 0.0000e+00+0.j, 0.0000e+00+0.j],\n",
       "        [1.0156e-01+0.j, 8.9062e-01+0.j, 0.0000e+00+0.j, ...,\n",
       "         3.9062e-03+0.j, 0.0000e+00+0.j, 0.0000e+00+0.j],\n",
       "        [7.1289e-01+0.j, 2.8320e-01+0.j, 1.9531e-03+0.j, ...,\n",
       "         0.0000e+00+0.j, 0.0000e+00+0.j, 0.0000e+00+0.j],\n",
       "        ...,\n",
       "        [1.2500e-01+0.j, 2.5586e-01+0.j, 1.0840e-01+0.j, ...,\n",
       "         1.1816e-01+0.j, 3.1250e-02+0.j, 8.2031e-02+0.j],\n",
       "        [1.1133e-01+0.j, 2.6660e-01+0.j, 1.0254e-01+0.j, ...,\n",
       "         1.0742e-01+0.j, 5.0781e-02+0.j, 8.0078e-02+0.j],\n",
       "        [3.0371e-01+0.j, 1.3086e-01+0.j, 2.1973e-01+0.j, ...,\n",
       "         3.6133e-02+0.j, 8.0078e-02+0.j, 3.8086e-02+0.j]],\n",
       "\n",
       "       [[9.7754e-01+0.j, 7.8125e-03+0.j, 6.8359e-03+0.j, ...,\n",
       "         0.0000e+00+0.j, 0.0000e+00+0.j, 0.0000e+00+0.j],\n",
       "        [1.1621e-01+0.j, 8.7598e-01+0.j, 0.0000e+00+0.j, ...,\n",
       "         2.9297e-03+0.j, 0.0000e+00+0.j, 0.0000e+00+0.j],\n",
       "        [7.3438e-01+0.j, 2.5977e-01+0.j, 9.7656e-04+0.j, ...,\n",
       "         9.7656e-04+0.j, 0.0000e+00+0.j, 0.0000e+00+0.j],\n",
       "        ...,\n",
       "        [9.6680e-02+0.j, 2.6367e-01+0.j, 1.0254e-01+0.j, ...,\n",
       "         1.0449e-01+0.j, 3.7109e-02+0.j, 1.0352e-01+0.j],\n",
       "        [1.3184e-01+0.j, 2.2656e-01+0.j, 9.8633e-02+0.j, ...,\n",
       "         9.6680e-02+0.j, 5.4688e-02+0.j, 8.9844e-02+0.j],\n",
       "        [2.4414e-01+0.j, 1.0449e-01+0.j, 2.7246e-01+0.j, ...,\n",
       "         5.1758e-02+0.j, 9.3750e-02+0.j, 2.8320e-02+0.j]]])>"
      ]
     },
     "execution_count": 51,
     "metadata": {},
     "output_type": "execute_result"
    }
   ],
   "source": [
    "targets_spam"
   ]
  },
  {
   "cell_type": "code",
   "execution_count": null,
   "metadata": {},
   "outputs": [],
   "source": []
  }
 ],
 "metadata": {
  "kernelspec": {
   "display_name": "env_qiskit",
   "language": "python",
   "name": "env_qiskit"
  },
  "language_info": {
   "codemirror_mode": {
    "name": "ipython",
    "version": 3
   },
   "file_extension": ".py",
   "mimetype": "text/x-python",
   "name": "python",
   "nbconvert_exporter": "python",
   "pygments_lexer": "ipython3",
   "version": "3.10.4"
  }
 },
 "nbformat": 4,
 "nbformat_minor": 4
}
