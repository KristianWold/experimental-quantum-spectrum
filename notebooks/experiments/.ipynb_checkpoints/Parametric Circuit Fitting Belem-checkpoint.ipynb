{
 "cells": [
  {
   "cell_type": "markdown",
   "metadata": {},
   "source": [
    "# Parametric Circuit Fitting Belem"
   ]
  },
  {
   "cell_type": "code",
   "execution_count": 1,
   "metadata": {},
   "outputs": [],
   "source": [
    "import sys\n",
    "sys.path.insert(0, '../../src_tf/')\n",
    "\n",
    "import numpy as np\n",
    "import qiskit as qk\n",
    "import matplotlib.pyplot as plt\n",
    "import multiprocessing as mp\n",
    "import random\n",
    "import pickle\n",
    "\n",
    "from qiskit.quantum_info import DensityMatrix, random_unitary\n",
    "from qiskit.quantum_info import Operator\n",
    "from scipy.linalg import sqrtm\n",
    "from tqdm.notebook import tqdm\n",
    "from math import ceil\n",
    "\n",
    "from loss_functions import *\n",
    "from optimization import *\n",
    "from quantum_channel import *\n",
    "from quantum_tools import *\n",
    "from experimental import *\n",
    "from spam import *\n",
    "from scipy.stats import gaussian_kde\n",
    "\n",
    "#np.set_printoptions(threshold=sys.maxsize)\n",
    "np.set_printoptions(precision=4)\n",
    "\n",
    "import os\n",
    "os.environ[\"CUDA_VISIBLE_DEVICES\"] = \"-1\""
   ]
  },
  {
   "cell_type": "code",
   "execution_count": 2,
   "metadata": {},
   "outputs": [],
   "source": [
    "def regularized_fit(d, data, num_iter_spam=1000, num_iter_map=2000, N=500, weight=1, start = 1):\n",
    "    \n",
    "    inputs_spam, targets_spam, inputs_map, targets_map = data\n",
    "    \n",
    "    spam = SPAM(d=d, \n",
    "                use_corr_mat = True,\n",
    "                optimizer = tf.optimizers.Adam(learning_rate=0.01),\n",
    "                )\n",
    "    \n",
    "    spam.pretrain(targets = [init_ideal(d), povm_ideal(d)],\n",
    "                  num_iter = 300,\n",
    "                  verbose = False,\n",
    "                  )\n",
    "    \n",
    "    spam.train(inputs = inputs_spam,\n",
    "               targets = targets_spam,\n",
    "               num_iter = num_iter_spam,\n",
    "               verbose = False,\n",
    "              )\n",
    "    model_fullrank = ModelQuantumMap(channel = KrausMap(d=d, \n",
    "                                               rank=d**2,\n",
    "                                               spam = spam,\n",
    "                                               ),\n",
    "                                     loss_function = ProbabilityMSE(),\n",
    "                                     optimizer = tf.optimizers.Adam(learning_rate=0.01),\n",
    "                                     logger = Logger(loss_function = ProbabilityMSE(), verbose=False),\n",
    "                                    )\n",
    "\n",
    "    model_fullrank.train(inputs = inputs_map,\n",
    "                         targets = targets_map,\n",
    "                         num_iter = num_iter_map,\n",
    "                         N = N,\n",
    "                        )\n",
    "    \n",
    "    loss_ref = model_fullrank.logger.loss_train_list[-1]\n",
    "    \n",
    "    for rank in range(start, d**2):\n",
    "        if rank == start:\n",
    "            loss_prev = 1000\n",
    "            \n",
    "        model = ModelQuantumMap(channel = KrausMap(d=d, \n",
    "                                                   rank=rank,\n",
    "                                                   spam = spam,\n",
    "                                                  ),\n",
    "                               loss_function = ProbabilityMSE(),\n",
    "                               optimizer = tf.optimizers.Adam(learning_rate=0.01),\n",
    "                               logger = Logger(loss_function = ProbabilityMSE(), verbose=False),\n",
    "                               )\n",
    "\n",
    "        model.train(inputs = inputs_map,\n",
    "                    targets = targets_map,\n",
    "                    num_iter = num_iter_map,\n",
    "                    N = N,\n",
    "                    )\n",
    "        \n",
    "        loss = model.logger.loss_train_list[-1]\n",
    "        if (rank)/(rank-1) > (loss_prev - loss_ref)/(loss - loss_ref):\n",
    "            break\n",
    "        model_final = model\n",
    "        loss_prev = loss   \n",
    "    \n",
    "    return model_final"
   ]
  },
  {
   "cell_type": "markdown",
   "metadata": {},
   "source": [
    "## No Delay"
   ]
  },
  {
   "cell_type": "code",
   "execution_count": 160,
   "metadata": {},
   "outputs": [
    {
     "data": {
      "application/vnd.jupyter.widget-view+json": {
       "model_id": "80c2ebd8535d4143a662e64caa4432c7",
       "version_major": 2,
       "version_minor": 0
      },
      "text/plain": [
       "  0%|          | 0/300 [00:00<?, ?it/s]"
      ]
     },
     "metadata": {},
     "output_type": "display_data"
    },
    {
     "name": "stdout",
     "output_type": "stream",
     "text": [
      "3.806583148768781e-05\n"
     ]
    },
    {
     "data": {
      "application/vnd.jupyter.widget-view+json": {
       "model_id": "5039663b11654f8098e16cabdf3e0067",
       "version_major": 2,
       "version_minor": 0
      },
      "text/plain": [
       "  0%|          | 0/1000 [00:00<?, ?it/s]"
      ]
     },
     "metadata": {},
     "output_type": "display_data"
    },
    {
     "name": "stdout",
     "output_type": "stream",
     "text": [
      "0.00927996084324855\n"
     ]
    },
    {
     "data": {
      "application/vnd.jupyter.widget-view+json": {
       "model_id": "19de1909ce274fae9e3615b2bab6d624",
       "version_major": 2,
       "version_minor": 0
      },
      "text/plain": [
       "  0%|          | 0/2000 [00:00<?, ?it/s]"
      ]
     },
     "metadata": {},
     "output_type": "display_data"
    },
    {
     "name": "stdout",
     "output_type": "stream",
     "text": [
      "0.006703929239338329 None\n"
     ]
    },
    {
     "data": {
      "application/vnd.jupyter.widget-view+json": {
       "model_id": "1ef1941e939b453a8d04514b3b02862d",
       "version_major": 2,
       "version_minor": 0
      },
      "text/plain": [
       "  0%|          | 0/2000 [00:00<?, ?it/s]"
      ]
     },
     "metadata": {},
     "output_type": "display_data"
    },
    {
     "name": "stdout",
     "output_type": "stream",
     "text": [
      "0.030596402957813955 None\n"
     ]
    },
    {
     "data": {
      "application/vnd.jupyter.widget-view+json": {
       "model_id": "20ed3f4af79d40019f6ebd04c791cd22",
       "version_major": 2,
       "version_minor": 0
      },
      "text/plain": [
       "  0%|          | 0/2000 [00:00<?, ?it/s]"
      ]
     },
     "metadata": {},
     "output_type": "display_data"
    },
    {
     "name": "stdout",
     "output_type": "stream",
     "text": [
      "0.019806113445328333 None\n"
     ]
    },
    {
     "data": {
      "application/vnd.jupyter.widget-view+json": {
       "model_id": "4769cb5edb744a2994d3be7dea159c48",
       "version_major": 2,
       "version_minor": 0
      },
      "text/plain": [
       "  0%|          | 0/2000 [00:00<?, ?it/s]"
      ]
     },
     "metadata": {},
     "output_type": "display_data"
    },
    {
     "name": "stdout",
     "output_type": "stream",
     "text": [
      "0.01516115517170932 None\n"
     ]
    },
    {
     "data": {
      "application/vnd.jupyter.widget-view+json": {
       "model_id": "e0907b4ae0fd49f6adf3d07a820a63ed",
       "version_major": 2,
       "version_minor": 0
      },
      "text/plain": [
       "  0%|          | 0/2000 [00:00<?, ?it/s]"
      ]
     },
     "metadata": {},
     "output_type": "display_data"
    },
    {
     "name": "stdout",
     "output_type": "stream",
     "text": [
      "0.012531215939921896 None\n"
     ]
    },
    {
     "data": {
      "application/vnd.jupyter.widget-view+json": {
       "model_id": "e04d9c54308447989c3c56c57690e225",
       "version_major": 2,
       "version_minor": 0
      },
      "text/plain": [
       "  0%|          | 0/2000 [00:00<?, ?it/s]"
      ]
     },
     "metadata": {},
     "output_type": "display_data"
    },
    {
     "name": "stdout",
     "output_type": "stream",
     "text": [
      "0.011008654271776542 None\n"
     ]
    },
    {
     "data": {
      "application/vnd.jupyter.widget-view+json": {
       "model_id": "1178e0cde1334e149ffa85f38e4f98a3",
       "version_major": 2,
       "version_minor": 0
      },
      "text/plain": [
       "  0%|          | 0/2000 [00:00<?, ?it/s]"
      ]
     },
     "metadata": {},
     "output_type": "display_data"
    },
    {
     "name": "stdout",
     "output_type": "stream",
     "text": [
      "0.009815041017861853 None\n"
     ]
    },
    {
     "data": {
      "application/vnd.jupyter.widget-view+json": {
       "model_id": "d82aa8612f0e404d87effbf4c7ca4026",
       "version_major": 2,
       "version_minor": 0
      },
      "text/plain": [
       "  0%|          | 0/2000 [00:00<?, ?it/s]"
      ]
     },
     "metadata": {},
     "output_type": "display_data"
    },
    {
     "name": "stdout",
     "output_type": "stream",
     "text": [
      "0.009207237230093457 None\n"
     ]
    },
    {
     "data": {
      "application/vnd.jupyter.widget-view+json": {
       "model_id": "363dd9133824413c9d5f2284cde39276",
       "version_major": 2,
       "version_minor": 0
      },
      "text/plain": [
       "  0%|          | 0/2000 [00:00<?, ?it/s]"
      ]
     },
     "metadata": {},
     "output_type": "display_data"
    },
    {
     "name": "stdout",
     "output_type": "stream",
     "text": [
      "0.008622425662408088 None\n"
     ]
    },
    {
     "data": {
      "application/vnd.jupyter.widget-view+json": {
       "model_id": "2a12335d4d454f428ad89f1d0d3f4dfe",
       "version_major": 2,
       "version_minor": 0
      },
      "text/plain": [
       "  0%|          | 0/2000 [00:00<?, ?it/s]"
      ]
     },
     "metadata": {},
     "output_type": "display_data"
    },
    {
     "name": "stdout",
     "output_type": "stream",
     "text": [
      "0.008194168984520972 None\n"
     ]
    },
    {
     "data": {
      "application/vnd.jupyter.widget-view+json": {
       "model_id": "6ee4eced5285477aae5400fa5060104c",
       "version_major": 2,
       "version_minor": 0
      },
      "text/plain": [
       "  0%|          | 0/2000 [00:00<?, ?it/s]"
      ]
     },
     "metadata": {},
     "output_type": "display_data"
    },
    {
     "name": "stdout",
     "output_type": "stream",
     "text": [
      "0.00795120726925509 None\n"
     ]
    },
    {
     "data": {
      "application/vnd.jupyter.widget-view+json": {
       "model_id": "c6c44c24f4734e55a648251f530cee41",
       "version_major": 2,
       "version_minor": 0
      },
      "text/plain": [
       "  0%|          | 0/2000 [00:00<?, ?it/s]"
      ]
     },
     "metadata": {},
     "output_type": "display_data"
    },
    {
     "name": "stdout",
     "output_type": "stream",
     "text": [
      "0.007688569316549482 None\n"
     ]
    },
    {
     "data": {
      "application/vnd.jupyter.widget-view+json": {
       "model_id": "03bee92ad27242eca0041a2586198b15",
       "version_major": 2,
       "version_minor": 0
      },
      "text/plain": [
       "  0%|          | 0/2000 [00:00<?, ?it/s]"
      ]
     },
     "metadata": {},
     "output_type": "display_data"
    },
    {
     "name": "stdout",
     "output_type": "stream",
     "text": [
      "0.007442543410069699 None\n"
     ]
    },
    {
     "data": {
      "application/vnd.jupyter.widget-view+json": {
       "model_id": "e5ea11d878934b78ba14c7c99cfbbbc6",
       "version_major": 2,
       "version_minor": 0
      },
      "text/plain": [
       "  0%|          | 0/2000 [00:00<?, ?it/s]"
      ]
     },
     "metadata": {},
     "output_type": "display_data"
    },
    {
     "name": "stdout",
     "output_type": "stream",
     "text": [
      "0.007351222852528865 None\n"
     ]
    },
    {
     "data": {
      "application/vnd.jupyter.widget-view+json": {
       "model_id": "414cccf40cd24b8f960cf7c81a026eca",
       "version_major": 2,
       "version_minor": 0
      },
      "text/plain": [
       "  0%|          | 0/2000 [00:00<?, ?it/s]"
      ]
     },
     "metadata": {},
     "output_type": "display_data"
    },
    {
     "name": "stdout",
     "output_type": "stream",
     "text": [
      "0.007208381697243125 None\n"
     ]
    },
    {
     "data": {
      "application/vnd.jupyter.widget-view+json": {
       "model_id": "e8c1370e62e240f4bb719bb2c3292c4d",
       "version_major": 2,
       "version_minor": 0
      },
      "text/plain": [
       "  0%|          | 0/2000 [00:00<?, ?it/s]"
      ]
     },
     "metadata": {},
     "output_type": "display_data"
    },
    {
     "name": "stdout",
     "output_type": "stream",
     "text": [
      "0.007107408784682078 None\n"
     ]
    },
    {
     "data": {
      "application/vnd.jupyter.widget-view+json": {
       "model_id": "e9c2b8fdf8a047f98fda17d919539084",
       "version_major": 2,
       "version_minor": 0
      },
      "text/plain": [
       "  0%|          | 0/2000 [00:00<?, ?it/s]"
      ]
     },
     "metadata": {},
     "output_type": "display_data"
    },
    {
     "name": "stdout",
     "output_type": "stream",
     "text": [
      "0.007069506586543148 None\n"
     ]
    },
    {
     "data": {
      "application/vnd.jupyter.widget-view+json": {
       "model_id": "268e6f8181324a46a01f1f8c0aee8d7b",
       "version_major": 2,
       "version_minor": 0
      },
      "text/plain": [
       "  0%|          | 0/2000 [00:00<?, ?it/s]"
      ]
     },
     "metadata": {},
     "output_type": "display_data"
    },
    {
     "name": "stdout",
     "output_type": "stream",
     "text": [
      "0.006967468230319435 None\n"
     ]
    },
    {
     "data": {
      "application/vnd.jupyter.widget-view+json": {
       "model_id": "99a8286a7c69441d8783d58b182d394c",
       "version_major": 2,
       "version_minor": 0
      },
      "text/plain": [
       "  0%|          | 0/2000 [00:00<?, ?it/s]"
      ]
     },
     "metadata": {},
     "output_type": "display_data"
    },
    {
     "name": "stdout",
     "output_type": "stream",
     "text": [
      "0.006930742135010198 None\n"
     ]
    },
    {
     "data": {
      "application/vnd.jupyter.widget-view+json": {
       "model_id": "46a9e6bfeaab47528a67f7528ffcf5e2",
       "version_major": 2,
       "version_minor": 0
      },
      "text/plain": [
       "  0%|          | 0/2000 [00:00<?, ?it/s]"
      ]
     },
     "metadata": {},
     "output_type": "display_data"
    },
    {
     "name": "stdout",
     "output_type": "stream",
     "text": [
      "0.006893781430551128 None\n"
     ]
    },
    {
     "data": {
      "application/vnd.jupyter.widget-view+json": {
       "model_id": "1c50b1944c8343f8a98bff1505f5a621",
       "version_major": 2,
       "version_minor": 0
      },
      "text/plain": [
       "  0%|          | 0/2000 [00:00<?, ?it/s]"
      ]
     },
     "metadata": {},
     "output_type": "display_data"
    },
    {
     "name": "stdout",
     "output_type": "stream",
     "text": [
      "0.006871574782583805 None\n"
     ]
    },
    {
     "data": {
      "application/vnd.jupyter.widget-view+json": {
       "model_id": "b51905c8eef14debaebb0b1df3d9cad3",
       "version_major": 2,
       "version_minor": 0
      },
      "text/plain": [
       "  0%|          | 0/2000 [00:00<?, ?it/s]"
      ]
     },
     "metadata": {},
     "output_type": "display_data"
    },
    {
     "name": "stdout",
     "output_type": "stream",
     "text": [
      "0.0068393197055430744 None\n"
     ]
    },
    {
     "data": {
      "application/vnd.jupyter.widget-view+json": {
       "model_id": "8367867b1b7a468a972b90831fa79a57",
       "version_major": 2,
       "version_minor": 0
      },
      "text/plain": [
       "  0%|          | 0/2000 [00:00<?, ?it/s]"
      ]
     },
     "metadata": {},
     "output_type": "display_data"
    },
    {
     "name": "stdout",
     "output_type": "stream",
     "text": [
      "0.006797359389073433 None\n"
     ]
    },
    {
     "data": {
      "application/vnd.jupyter.widget-view+json": {
       "model_id": "2d1ba34b904549af824bb49a9066211d",
       "version_major": 2,
       "version_minor": 0
      },
      "text/plain": [
       "  0%|          | 0/2000 [00:00<?, ?it/s]"
      ]
     },
     "metadata": {},
     "output_type": "display_data"
    },
    {
     "name": "stdout",
     "output_type": "stream",
     "text": [
      "0.006788924100532478 None\n"
     ]
    },
    {
     "data": {
      "application/vnd.jupyter.widget-view+json": {
       "model_id": "0d81e5c1a5154271960fc48f9adc575b",
       "version_major": 2,
       "version_minor": 0
      },
      "text/plain": [
       "  0%|          | 0/2000 [00:00<?, ?it/s]"
      ]
     },
     "metadata": {},
     "output_type": "display_data"
    },
    {
     "name": "stdout",
     "output_type": "stream",
     "text": [
      "0.006796988682411566 None\n"
     ]
    },
    {
     "data": {
      "application/vnd.jupyter.widget-view+json": {
       "model_id": "a21fe99e179241e0aa84d5355312d6c1",
       "version_major": 2,
       "version_minor": 0
      },
      "text/plain": [
       "  0%|          | 0/300 [00:00<?, ?it/s]"
      ]
     },
     "metadata": {},
     "output_type": "display_data"
    },
    {
     "name": "stdout",
     "output_type": "stream",
     "text": [
      "3.806583148768781e-05\n"
     ]
    },
    {
     "data": {
      "application/vnd.jupyter.widget-view+json": {
       "model_id": "ab3fada318b34544ba1d4e544cdfbf69",
       "version_major": 2,
       "version_minor": 0
      },
      "text/plain": [
       "  0%|          | 0/1000 [00:00<?, ?it/s]"
      ]
     },
     "metadata": {},
     "output_type": "display_data"
    },
    {
     "name": "stdout",
     "output_type": "stream",
     "text": [
      "0.00881556638615872\n"
     ]
    },
    {
     "data": {
      "application/vnd.jupyter.widget-view+json": {
       "model_id": "11d258ad01aa429ca52117ca64307290",
       "version_major": 2,
       "version_minor": 0
      },
      "text/plain": [
       "  0%|          | 0/2000 [00:00<?, ?it/s]"
      ]
     },
     "metadata": {},
     "output_type": "display_data"
    },
    {
     "name": "stdout",
     "output_type": "stream",
     "text": [
      "0.007026848974798106 None\n"
     ]
    },
    {
     "data": {
      "application/vnd.jupyter.widget-view+json": {
       "model_id": "dd5bda61036b47e196107059f7da548b",
       "version_major": 2,
       "version_minor": 0
      },
      "text/plain": [
       "  0%|          | 0/2000 [00:00<?, ?it/s]"
      ]
     },
     "metadata": {},
     "output_type": "display_data"
    },
    {
     "name": "stdout",
     "output_type": "stream",
     "text": [
      "0.030379857739822613 None\n"
     ]
    },
    {
     "data": {
      "application/vnd.jupyter.widget-view+json": {
       "model_id": "e963c5db50114fcaa97fb219036fef55",
       "version_major": 2,
       "version_minor": 0
      },
      "text/plain": [
       "  0%|          | 0/2000 [00:00<?, ?it/s]"
      ]
     },
     "metadata": {},
     "output_type": "display_data"
    },
    {
     "name": "stdout",
     "output_type": "stream",
     "text": [
      "0.019787460624101194 None\n"
     ]
    },
    {
     "data": {
      "application/vnd.jupyter.widget-view+json": {
       "model_id": "3c4161db99d64f289409c631a72ca7e4",
       "version_major": 2,
       "version_minor": 0
      },
      "text/plain": [
       "  0%|          | 0/2000 [00:00<?, ?it/s]"
      ]
     },
     "metadata": {},
     "output_type": "display_data"
    },
    {
     "name": "stdout",
     "output_type": "stream",
     "text": [
      "0.015024678179740989 None\n"
     ]
    },
    {
     "data": {
      "application/vnd.jupyter.widget-view+json": {
       "model_id": "ea8feea87c414d0aa766dd5bebef5c1f",
       "version_major": 2,
       "version_minor": 0
      },
      "text/plain": [
       "  0%|          | 0/2000 [00:00<?, ?it/s]"
      ]
     },
     "metadata": {},
     "output_type": "display_data"
    },
    {
     "name": "stdout",
     "output_type": "stream",
     "text": [
      "0.012647491350810293 None\n"
     ]
    },
    {
     "data": {
      "application/vnd.jupyter.widget-view+json": {
       "model_id": "b6ed79b8b15248e5adfd2c134a23dfaf",
       "version_major": 2,
       "version_minor": 0
      },
      "text/plain": [
       "  0%|          | 0/2000 [00:00<?, ?it/s]"
      ]
     },
     "metadata": {},
     "output_type": "display_data"
    },
    {
     "name": "stdout",
     "output_type": "stream",
     "text": [
      "0.010980929419836867 None\n"
     ]
    },
    {
     "data": {
      "application/vnd.jupyter.widget-view+json": {
       "model_id": "76247508a927431bbf956777c06d5b68",
       "version_major": 2,
       "version_minor": 0
      },
      "text/plain": [
       "  0%|          | 0/2000 [00:00<?, ?it/s]"
      ]
     },
     "metadata": {},
     "output_type": "display_data"
    },
    {
     "name": "stdout",
     "output_type": "stream",
     "text": [
      "0.009973525937691328 None\n"
     ]
    },
    {
     "data": {
      "application/vnd.jupyter.widget-view+json": {
       "model_id": "b3847b58cad64947a86ccdbda0cbda4e",
       "version_major": 2,
       "version_minor": 0
      },
      "text/plain": [
       "  0%|          | 0/2000 [00:00<?, ?it/s]"
      ]
     },
     "metadata": {},
     "output_type": "display_data"
    },
    {
     "name": "stdout",
     "output_type": "stream",
     "text": [
      "0.00918741566872747 None\n"
     ]
    },
    {
     "data": {
      "application/vnd.jupyter.widget-view+json": {
       "model_id": "e1e6f6b3a07147989dc29b5d8230e5be",
       "version_major": 2,
       "version_minor": 0
      },
      "text/plain": [
       "  0%|          | 0/2000 [00:00<?, ?it/s]"
      ]
     },
     "metadata": {},
     "output_type": "display_data"
    },
    {
     "name": "stdout",
     "output_type": "stream",
     "text": [
      "0.008844564560580876 None\n"
     ]
    },
    {
     "data": {
      "application/vnd.jupyter.widget-view+json": {
       "model_id": "495345c6bbdc4fe7b74efbe2913caa50",
       "version_major": 2,
       "version_minor": 0
      },
      "text/plain": [
       "  0%|          | 0/2000 [00:00<?, ?it/s]"
      ]
     },
     "metadata": {},
     "output_type": "display_data"
    },
    {
     "name": "stdout",
     "output_type": "stream",
     "text": [
      "0.008417901331039973 None\n"
     ]
    },
    {
     "data": {
      "application/vnd.jupyter.widget-view+json": {
       "model_id": "be8e32bde74043188779cf4a4e52b800",
       "version_major": 2,
       "version_minor": 0
      },
      "text/plain": [
       "  0%|          | 0/2000 [00:00<?, ?it/s]"
      ]
     },
     "metadata": {},
     "output_type": "display_data"
    },
    {
     "name": "stdout",
     "output_type": "stream",
     "text": [
      "0.008019492264675384 None\n"
     ]
    },
    {
     "data": {
      "application/vnd.jupyter.widget-view+json": {
       "model_id": "6facf68a87784fb8a421bf14480117ee",
       "version_major": 2,
       "version_minor": 0
      },
      "text/plain": [
       "  0%|          | 0/2000 [00:00<?, ?it/s]"
      ]
     },
     "metadata": {},
     "output_type": "display_data"
    },
    {
     "name": "stdout",
     "output_type": "stream",
     "text": [
      "0.007881484548216041 None\n"
     ]
    },
    {
     "data": {
      "application/vnd.jupyter.widget-view+json": {
       "model_id": "fccf677aa8a54fb08b6b9df3a85beba1",
       "version_major": 2,
       "version_minor": 0
      },
      "text/plain": [
       "  0%|          | 0/2000 [00:00<?, ?it/s]"
      ]
     },
     "metadata": {},
     "output_type": "display_data"
    },
    {
     "name": "stdout",
     "output_type": "stream",
     "text": [
      "0.007706403808399444 None\n"
     ]
    },
    {
     "data": {
      "application/vnd.jupyter.widget-view+json": {
       "model_id": "a86a1fa716d54d03a6ba0e29c29419da",
       "version_major": 2,
       "version_minor": 0
      },
      "text/plain": [
       "  0%|          | 0/2000 [00:00<?, ?it/s]"
      ]
     },
     "metadata": {},
     "output_type": "display_data"
    },
    {
     "name": "stdout",
     "output_type": "stream",
     "text": [
      "0.00757257035950581 None\n"
     ]
    },
    {
     "data": {
      "application/vnd.jupyter.widget-view+json": {
       "model_id": "7e432519f49f44689d23d7964a574446",
       "version_major": 2,
       "version_minor": 0
      },
      "text/plain": [
       "  0%|          | 0/2000 [00:00<?, ?it/s]"
      ]
     },
     "metadata": {},
     "output_type": "display_data"
    },
    {
     "name": "stdout",
     "output_type": "stream",
     "text": [
      "0.007481569573210407 None\n"
     ]
    },
    {
     "data": {
      "application/vnd.jupyter.widget-view+json": {
       "model_id": "60fd73380c6645cb8bde9d0b352bcb65",
       "version_major": 2,
       "version_minor": 0
      },
      "text/plain": [
       "  0%|          | 0/2000 [00:00<?, ?it/s]"
      ]
     },
     "metadata": {},
     "output_type": "display_data"
    },
    {
     "name": "stdout",
     "output_type": "stream",
     "text": [
      "0.0074138252567454935 None\n"
     ]
    },
    {
     "data": {
      "application/vnd.jupyter.widget-view+json": {
       "model_id": "74b1a4e077914e42bfc706ea240eab39",
       "version_major": 2,
       "version_minor": 0
      },
      "text/plain": [
       "  0%|          | 0/2000 [00:00<?, ?it/s]"
      ]
     },
     "metadata": {},
     "output_type": "display_data"
    },
    {
     "name": "stdout",
     "output_type": "stream",
     "text": [
      "0.007352478510631283 None\n"
     ]
    },
    {
     "data": {
      "application/vnd.jupyter.widget-view+json": {
       "model_id": "6877c5e59646401db2d87ba85165d25a",
       "version_major": 2,
       "version_minor": 0
      },
      "text/plain": [
       "  0%|          | 0/2000 [00:00<?, ?it/s]"
      ]
     },
     "metadata": {},
     "output_type": "display_data"
    },
    {
     "name": "stdout",
     "output_type": "stream",
     "text": [
      "0.007281374679115702 None\n"
     ]
    },
    {
     "data": {
      "application/vnd.jupyter.widget-view+json": {
       "model_id": "88abd4a0772d4f71867eb37435fd57e5",
       "version_major": 2,
       "version_minor": 0
      },
      "text/plain": [
       "  0%|          | 0/2000 [00:00<?, ?it/s]"
      ]
     },
     "metadata": {},
     "output_type": "display_data"
    },
    {
     "name": "stdout",
     "output_type": "stream",
     "text": [
      "0.007219694104860209 None\n"
     ]
    },
    {
     "data": {
      "application/vnd.jupyter.widget-view+json": {
       "model_id": "8b9471790279492ab785f66de724aa09",
       "version_major": 2,
       "version_minor": 0
      },
      "text/plain": [
       "  0%|          | 0/2000 [00:00<?, ?it/s]"
      ]
     },
     "metadata": {},
     "output_type": "display_data"
    },
    {
     "name": "stdout",
     "output_type": "stream",
     "text": [
      "0.007193903156371854 None\n"
     ]
    },
    {
     "data": {
      "application/vnd.jupyter.widget-view+json": {
       "model_id": "10430221bcbe430ebf9e589633c4ff3f",
       "version_major": 2,
       "version_minor": 0
      },
      "text/plain": [
       "  0%|          | 0/2000 [00:00<?, ?it/s]"
      ]
     },
     "metadata": {},
     "output_type": "display_data"
    },
    {
     "name": "stdout",
     "output_type": "stream",
     "text": [
      "0.00715837437828857 None\n"
     ]
    },
    {
     "data": {
      "application/vnd.jupyter.widget-view+json": {
       "model_id": "643d3cec99f74d009c1c6d6bb5f0f2a6",
       "version_major": 2,
       "version_minor": 0
      },
      "text/plain": [
       "  0%|          | 0/2000 [00:00<?, ?it/s]"
      ]
     },
     "metadata": {},
     "output_type": "display_data"
    },
    {
     "name": "stdout",
     "output_type": "stream",
     "text": [
      "0.00715283367215967 None\n"
     ]
    },
    {
     "data": {
      "application/vnd.jupyter.widget-view+json": {
       "model_id": "fd69f9448eb34cf3846f0bfafe322bc3",
       "version_major": 2,
       "version_minor": 0
      },
      "text/plain": [
       "  0%|          | 0/300 [00:00<?, ?it/s]"
      ]
     },
     "metadata": {},
     "output_type": "display_data"
    },
    {
     "name": "stdout",
     "output_type": "stream",
     "text": [
      "3.806583148768781e-05\n"
     ]
    },
    {
     "data": {
      "application/vnd.jupyter.widget-view+json": {
       "model_id": "2b64e1d6dbcc4ddabd44cb3c3da552eb",
       "version_major": 2,
       "version_minor": 0
      },
      "text/plain": [
       "  0%|          | 0/1000 [00:00<?, ?it/s]"
      ]
     },
     "metadata": {},
     "output_type": "display_data"
    },
    {
     "name": "stdout",
     "output_type": "stream",
     "text": [
      "0.009141430170036595\n"
     ]
    },
    {
     "data": {
      "application/vnd.jupyter.widget-view+json": {
       "model_id": "310f4f20febd472bbe3bb154254a55d9",
       "version_major": 2,
       "version_minor": 0
      },
      "text/plain": [
       "  0%|          | 0/2000 [00:00<?, ?it/s]"
      ]
     },
     "metadata": {},
     "output_type": "display_data"
    },
    {
     "name": "stdout",
     "output_type": "stream",
     "text": [
      "0.006927336611540914 None\n"
     ]
    },
    {
     "data": {
      "application/vnd.jupyter.widget-view+json": {
       "model_id": "74b7a1f793d242b0b929862e521deb0b",
       "version_major": 2,
       "version_minor": 0
      },
      "text/plain": [
       "  0%|          | 0/2000 [00:00<?, ?it/s]"
      ]
     },
     "metadata": {},
     "output_type": "display_data"
    },
    {
     "name": "stdout",
     "output_type": "stream",
     "text": [
      "0.0299177210378364 None\n"
     ]
    },
    {
     "data": {
      "application/vnd.jupyter.widget-view+json": {
       "model_id": "538f9e591911465793550f95800bf9bd",
       "version_major": 2,
       "version_minor": 0
      },
      "text/plain": [
       "  0%|          | 0/2000 [00:00<?, ?it/s]"
      ]
     },
     "metadata": {},
     "output_type": "display_data"
    },
    {
     "name": "stdout",
     "output_type": "stream",
     "text": [
      "0.01896150699148274 None\n"
     ]
    },
    {
     "data": {
      "application/vnd.jupyter.widget-view+json": {
       "model_id": "aa6cffc0a9224cc583cc396dec14bd99",
       "version_major": 2,
       "version_minor": 0
      },
      "text/plain": [
       "  0%|          | 0/2000 [00:00<?, ?it/s]"
      ]
     },
     "metadata": {},
     "output_type": "display_data"
    },
    {
     "name": "stdout",
     "output_type": "stream",
     "text": [
      "0.014421209954657569 None\n"
     ]
    },
    {
     "data": {
      "application/vnd.jupyter.widget-view+json": {
       "model_id": "95e0d1caee5c4d778cf320c70e860293",
       "version_major": 2,
       "version_minor": 0
      },
      "text/plain": [
       "  0%|          | 0/2000 [00:00<?, ?it/s]"
      ]
     },
     "metadata": {},
     "output_type": "display_data"
    },
    {
     "name": "stdout",
     "output_type": "stream",
     "text": [
      "0.012213915636010382 None\n"
     ]
    },
    {
     "data": {
      "application/vnd.jupyter.widget-view+json": {
       "model_id": "2b5b8ae998b2418e9a344c507805bca8",
       "version_major": 2,
       "version_minor": 0
      },
      "text/plain": [
       "  0%|          | 0/2000 [00:00<?, ?it/s]"
      ]
     },
     "metadata": {},
     "output_type": "display_data"
    },
    {
     "name": "stdout",
     "output_type": "stream",
     "text": [
      "0.010712008021692799 None\n"
     ]
    },
    {
     "data": {
      "application/vnd.jupyter.widget-view+json": {
       "model_id": "9c140cd0b3594c1fa079e47464e60273",
       "version_major": 2,
       "version_minor": 0
      },
      "text/plain": [
       "  0%|          | 0/2000 [00:00<?, ?it/s]"
      ]
     },
     "metadata": {},
     "output_type": "display_data"
    },
    {
     "name": "stdout",
     "output_type": "stream",
     "text": [
      "0.009899952234955427 None\n"
     ]
    },
    {
     "data": {
      "application/vnd.jupyter.widget-view+json": {
       "model_id": "710b9ff7ee3b448694458e66e2d0f5bf",
       "version_major": 2,
       "version_minor": 0
      },
      "text/plain": [
       "  0%|          | 0/2000 [00:00<?, ?it/s]"
      ]
     },
     "metadata": {},
     "output_type": "display_data"
    },
    {
     "name": "stdout",
     "output_type": "stream",
     "text": [
      "0.009061100274187498 None\n"
     ]
    },
    {
     "data": {
      "application/vnd.jupyter.widget-view+json": {
       "model_id": "ffbbede63a344c29a49ded66f2a28070",
       "version_major": 2,
       "version_minor": 0
      },
      "text/plain": [
       "  0%|          | 0/2000 [00:00<?, ?it/s]"
      ]
     },
     "metadata": {},
     "output_type": "display_data"
    },
    {
     "name": "stdout",
     "output_type": "stream",
     "text": [
      "0.008560066896867537 None\n"
     ]
    },
    {
     "data": {
      "application/vnd.jupyter.widget-view+json": {
       "model_id": "cd2edc19e64646078cf97f8b4b5047e0",
       "version_major": 2,
       "version_minor": 0
      },
      "text/plain": [
       "  0%|          | 0/2000 [00:00<?, ?it/s]"
      ]
     },
     "metadata": {},
     "output_type": "display_data"
    },
    {
     "name": "stdout",
     "output_type": "stream",
     "text": [
      "0.008268922295192431 None\n"
     ]
    },
    {
     "data": {
      "application/vnd.jupyter.widget-view+json": {
       "model_id": "eea8cc1dd2264ef388923d9d010490d6",
       "version_major": 2,
       "version_minor": 0
      },
      "text/plain": [
       "  0%|          | 0/2000 [00:00<?, ?it/s]"
      ]
     },
     "metadata": {},
     "output_type": "display_data"
    },
    {
     "name": "stdout",
     "output_type": "stream",
     "text": [
      "0.007934235927687506 None\n"
     ]
    },
    {
     "data": {
      "application/vnd.jupyter.widget-view+json": {
       "model_id": "2f3e0256b9144b3191a17e169753cb5d",
       "version_major": 2,
       "version_minor": 0
      },
      "text/plain": [
       "  0%|          | 0/2000 [00:00<?, ?it/s]"
      ]
     },
     "metadata": {},
     "output_type": "display_data"
    },
    {
     "name": "stdout",
     "output_type": "stream",
     "text": [
      "0.0076916287369443335 None\n"
     ]
    },
    {
     "data": {
      "application/vnd.jupyter.widget-view+json": {
       "model_id": "07d1dfa539f541299115dce98b0362fa",
       "version_major": 2,
       "version_minor": 0
      },
      "text/plain": [
       "  0%|          | 0/2000 [00:00<?, ?it/s]"
      ]
     },
     "metadata": {},
     "output_type": "display_data"
    },
    {
     "name": "stdout",
     "output_type": "stream",
     "text": [
      "0.007642897854576329 None\n"
     ]
    },
    {
     "data": {
      "application/vnd.jupyter.widget-view+json": {
       "model_id": "402685781a964529985e46f3f292051f",
       "version_major": 2,
       "version_minor": 0
      },
      "text/plain": [
       "  0%|          | 0/300 [00:00<?, ?it/s]"
      ]
     },
     "metadata": {},
     "output_type": "display_data"
    },
    {
     "name": "stdout",
     "output_type": "stream",
     "text": [
      "3.806583148768781e-05\n"
     ]
    },
    {
     "data": {
      "application/vnd.jupyter.widget-view+json": {
       "model_id": "e2c51a89bec046419975c4112e8e310d",
       "version_major": 2,
       "version_minor": 0
      },
      "text/plain": [
       "  0%|          | 0/1000 [00:00<?, ?it/s]"
      ]
     },
     "metadata": {},
     "output_type": "display_data"
    },
    {
     "name": "stdout",
     "output_type": "stream",
     "text": [
      "0.008438075471471549\n"
     ]
    },
    {
     "data": {
      "application/vnd.jupyter.widget-view+json": {
       "model_id": "51bd88eee56f41048e6ec9cb3062c77e",
       "version_major": 2,
       "version_minor": 0
      },
      "text/plain": [
       "  0%|          | 0/2000 [00:00<?, ?it/s]"
      ]
     },
     "metadata": {},
     "output_type": "display_data"
    },
    {
     "name": "stdout",
     "output_type": "stream",
     "text": [
      "0.006355082573344696 None\n"
     ]
    },
    {
     "data": {
      "application/vnd.jupyter.widget-view+json": {
       "model_id": "ad78df647c434825ad7c7abd522d152b",
       "version_major": 2,
       "version_minor": 0
      },
      "text/plain": [
       "  0%|          | 0/2000 [00:00<?, ?it/s]"
      ]
     },
     "metadata": {},
     "output_type": "display_data"
    },
    {
     "name": "stdout",
     "output_type": "stream",
     "text": [
      "0.03176734746120448 None\n"
     ]
    },
    {
     "data": {
      "application/vnd.jupyter.widget-view+json": {
       "model_id": "1b6e568d30a54c30a5e6b1b3b8f16b12",
       "version_major": 2,
       "version_minor": 0
      },
      "text/plain": [
       "  0%|          | 0/2000 [00:00<?, ?it/s]"
      ]
     },
     "metadata": {},
     "output_type": "display_data"
    },
    {
     "name": "stdout",
     "output_type": "stream",
     "text": [
      "0.020003440336884976 None\n"
     ]
    },
    {
     "data": {
      "application/vnd.jupyter.widget-view+json": {
       "model_id": "5948019a570c424f980c0d74571d40e4",
       "version_major": 2,
       "version_minor": 0
      },
      "text/plain": [
       "  0%|          | 0/2000 [00:00<?, ?it/s]"
      ]
     },
     "metadata": {},
     "output_type": "display_data"
    },
    {
     "name": "stdout",
     "output_type": "stream",
     "text": [
      "0.015087592641599736 None\n"
     ]
    },
    {
     "data": {
      "application/vnd.jupyter.widget-view+json": {
       "model_id": "5f7939fbc8c14a5893a9ee4ccb19e938",
       "version_major": 2,
       "version_minor": 0
      },
      "text/plain": [
       "  0%|          | 0/2000 [00:00<?, ?it/s]"
      ]
     },
     "metadata": {},
     "output_type": "display_data"
    },
    {
     "name": "stdout",
     "output_type": "stream",
     "text": [
      "0.012429097702442899 None\n"
     ]
    },
    {
     "data": {
      "application/vnd.jupyter.widget-view+json": {
       "model_id": "1c11105a52984ca2891692a7fb82217a",
       "version_major": 2,
       "version_minor": 0
      },
      "text/plain": [
       "  0%|          | 0/2000 [00:00<?, ?it/s]"
      ]
     },
     "metadata": {},
     "output_type": "display_data"
    },
    {
     "name": "stdout",
     "output_type": "stream",
     "text": [
      "0.01037822574792436 None\n"
     ]
    },
    {
     "data": {
      "application/vnd.jupyter.widget-view+json": {
       "model_id": "2560af03c16b463cb8eafbf78507cb5a",
       "version_major": 2,
       "version_minor": 0
      },
      "text/plain": [
       "  0%|          | 0/2000 [00:00<?, ?it/s]"
      ]
     },
     "metadata": {},
     "output_type": "display_data"
    },
    {
     "name": "stdout",
     "output_type": "stream",
     "text": [
      "0.009481326580831059 None\n"
     ]
    },
    {
     "data": {
      "application/vnd.jupyter.widget-view+json": {
       "model_id": "f0705010a5724a71bcc5dd786a0c2b02",
       "version_major": 2,
       "version_minor": 0
      },
      "text/plain": [
       "  0%|          | 0/2000 [00:00<?, ?it/s]"
      ]
     },
     "metadata": {},
     "output_type": "display_data"
    },
    {
     "name": "stdout",
     "output_type": "stream",
     "text": [
      "0.00866663448303916 None\n"
     ]
    },
    {
     "data": {
      "application/vnd.jupyter.widget-view+json": {
       "model_id": "701630a03cb441df8b1634001837262f",
       "version_major": 2,
       "version_minor": 0
      },
      "text/plain": [
       "  0%|          | 0/2000 [00:00<?, ?it/s]"
      ]
     },
     "metadata": {},
     "output_type": "display_data"
    },
    {
     "name": "stdout",
     "output_type": "stream",
     "text": [
      "0.008231569013845441 None\n"
     ]
    },
    {
     "data": {
      "application/vnd.jupyter.widget-view+json": {
       "model_id": "44023bfa2db747cbaa0df71ff1551342",
       "version_major": 2,
       "version_minor": 0
      },
      "text/plain": [
       "  0%|          | 0/2000 [00:00<?, ?it/s]"
      ]
     },
     "metadata": {},
     "output_type": "display_data"
    },
    {
     "name": "stdout",
     "output_type": "stream",
     "text": [
      "0.007722240591915163 None\n"
     ]
    },
    {
     "data": {
      "application/vnd.jupyter.widget-view+json": {
       "model_id": "b905bcf3ad3a45edbc9baa44b1ace7ab",
       "version_major": 2,
       "version_minor": 0
      },
      "text/plain": [
       "  0%|          | 0/2000 [00:00<?, ?it/s]"
      ]
     },
     "metadata": {},
     "output_type": "display_data"
    },
    {
     "name": "stdout",
     "output_type": "stream",
     "text": [
      "0.007527958623473323 None\n"
     ]
    },
    {
     "data": {
      "application/vnd.jupyter.widget-view+json": {
       "model_id": "f8040358da9046599b1fb349310a2802",
       "version_major": 2,
       "version_minor": 0
      },
      "text/plain": [
       "  0%|          | 0/2000 [00:00<?, ?it/s]"
      ]
     },
     "metadata": {},
     "output_type": "display_data"
    },
    {
     "name": "stdout",
     "output_type": "stream",
     "text": [
      "0.007330593647824167 None\n"
     ]
    },
    {
     "data": {
      "application/vnd.jupyter.widget-view+json": {
       "model_id": "8e640fbd4d4244c5b812ddc3b39dd823",
       "version_major": 2,
       "version_minor": 0
      },
      "text/plain": [
       "  0%|          | 0/2000 [00:00<?, ?it/s]"
      ]
     },
     "metadata": {},
     "output_type": "display_data"
    },
    {
     "name": "stdout",
     "output_type": "stream",
     "text": [
      "0.007119157164966141 None\n"
     ]
    },
    {
     "data": {
      "application/vnd.jupyter.widget-view+json": {
       "model_id": "cbd195a9b5a0466b9a1739d9b22a0365",
       "version_major": 2,
       "version_minor": 0
      },
      "text/plain": [
       "  0%|          | 0/2000 [00:00<?, ?it/s]"
      ]
     },
     "metadata": {},
     "output_type": "display_data"
    },
    {
     "name": "stdout",
     "output_type": "stream",
     "text": [
      "0.006968498298755441 None\n"
     ]
    },
    {
     "data": {
      "application/vnd.jupyter.widget-view+json": {
       "model_id": "7988625056544dee854eef1caac9118d",
       "version_major": 2,
       "version_minor": 0
      },
      "text/plain": [
       "  0%|          | 0/2000 [00:00<?, ?it/s]"
      ]
     },
     "metadata": {},
     "output_type": "display_data"
    },
    {
     "name": "stdout",
     "output_type": "stream",
     "text": [
      "0.006912311593203857 None\n"
     ]
    },
    {
     "data": {
      "application/vnd.jupyter.widget-view+json": {
       "model_id": "1d89ee4659284ffdba5222db62f81c7f",
       "version_major": 2,
       "version_minor": 0
      },
      "text/plain": [
       "  0%|          | 0/2000 [00:00<?, ?it/s]"
      ]
     },
     "metadata": {},
     "output_type": "display_data"
    },
    {
     "name": "stdout",
     "output_type": "stream",
     "text": [
      "0.0067680176203554964 None\n"
     ]
    },
    {
     "data": {
      "application/vnd.jupyter.widget-view+json": {
       "model_id": "b9cc1baaf342439596d8db088e756372",
       "version_major": 2,
       "version_minor": 0
      },
      "text/plain": [
       "  0%|          | 0/2000 [00:00<?, ?it/s]"
      ]
     },
     "metadata": {},
     "output_type": "display_data"
    },
    {
     "name": "stdout",
     "output_type": "stream",
     "text": [
      "0.006737190350074296 None\n"
     ]
    },
    {
     "data": {
      "application/vnd.jupyter.widget-view+json": {
       "model_id": "f02fa6ad0595468e98d473846f67ebf7",
       "version_major": 2,
       "version_minor": 0
      },
      "text/plain": [
       "  0%|          | 0/2000 [00:00<?, ?it/s]"
      ]
     },
     "metadata": {},
     "output_type": "display_data"
    },
    {
     "name": "stdout",
     "output_type": "stream",
     "text": [
      "0.006647930459061721 None\n"
     ]
    },
    {
     "data": {
      "application/vnd.jupyter.widget-view+json": {
       "model_id": "d3ed5c4a3c804987b91c286a81deff0b",
       "version_major": 2,
       "version_minor": 0
      },
      "text/plain": [
       "  0%|          | 0/2000 [00:00<?, ?it/s]"
      ]
     },
     "metadata": {},
     "output_type": "display_data"
    },
    {
     "name": "stdout",
     "output_type": "stream",
     "text": [
      "0.006604799640574963 None\n"
     ]
    },
    {
     "data": {
      "application/vnd.jupyter.widget-view+json": {
       "model_id": "d59ba9dd7c7e46b0beda6fbe38401c3e",
       "version_major": 2,
       "version_minor": 0
      },
      "text/plain": [
       "  0%|          | 0/2000 [00:00<?, ?it/s]"
      ]
     },
     "metadata": {},
     "output_type": "display_data"
    },
    {
     "name": "stdout",
     "output_type": "stream",
     "text": [
      "0.006549829017083737 None\n"
     ]
    },
    {
     "data": {
      "application/vnd.jupyter.widget-view+json": {
       "model_id": "3d3d3e5c2bb9409c84d663958ff38918",
       "version_major": 2,
       "version_minor": 0
      },
      "text/plain": [
       "  0%|          | 0/2000 [00:00<?, ?it/s]"
      ]
     },
     "metadata": {},
     "output_type": "display_data"
    },
    {
     "name": "stdout",
     "output_type": "stream",
     "text": [
      "0.006534123361294988 None\n"
     ]
    },
    {
     "data": {
      "application/vnd.jupyter.widget-view+json": {
       "model_id": "6fc11e15f5dd4a6cb97deb754465fb53",
       "version_major": 2,
       "version_minor": 0
      },
      "text/plain": [
       "  0%|          | 0/2000 [00:00<?, ?it/s]"
      ]
     },
     "metadata": {},
     "output_type": "display_data"
    },
    {
     "name": "stdout",
     "output_type": "stream",
     "text": [
      "0.0064985564246255074 None\n"
     ]
    },
    {
     "data": {
      "application/vnd.jupyter.widget-view+json": {
       "model_id": "1132b9a0c3f7484e8e0cebb63d55909e",
       "version_major": 2,
       "version_minor": 0
      },
      "text/plain": [
       "  0%|          | 0/2000 [00:00<?, ?it/s]"
      ]
     },
     "metadata": {},
     "output_type": "display_data"
    },
    {
     "name": "stdout",
     "output_type": "stream",
     "text": [
      "0.006469562055983234 None\n"
     ]
    },
    {
     "data": {
      "application/vnd.jupyter.widget-view+json": {
       "model_id": "74317d4349ae4411af598d0705a8022e",
       "version_major": 2,
       "version_minor": 0
      },
      "text/plain": [
       "  0%|          | 0/2000 [00:00<?, ?it/s]"
      ]
     },
     "metadata": {},
     "output_type": "display_data"
    },
    {
     "name": "stdout",
     "output_type": "stream",
     "text": [
      "0.0064466685446014915 None\n"
     ]
    },
    {
     "data": {
      "application/vnd.jupyter.widget-view+json": {
       "model_id": "28d344e0b82b4794bfcd1c0de4722ac7",
       "version_major": 2,
       "version_minor": 0
      },
      "text/plain": [
       "  0%|          | 0/2000 [00:00<?, ?it/s]"
      ]
     },
     "metadata": {},
     "output_type": "display_data"
    },
    {
     "name": "stdout",
     "output_type": "stream",
     "text": [
      "0.006438885433743388 None\n"
     ]
    },
    {
     "data": {
      "application/vnd.jupyter.widget-view+json": {
       "model_id": "84659a56a59949c1a504b975adfcf429",
       "version_major": 2,
       "version_minor": 0
      },
      "text/plain": [
       "  0%|          | 0/2000 [00:00<?, ?it/s]"
      ]
     },
     "metadata": {},
     "output_type": "display_data"
    },
    {
     "name": "stdout",
     "output_type": "stream",
     "text": [
      "0.006438455590032439 None\n"
     ]
    },
    {
     "data": {
      "application/vnd.jupyter.widget-view+json": {
       "model_id": "408e0b1c3a8b41ed92c76d893eb1e7af",
       "version_major": 2,
       "version_minor": 0
      },
      "text/plain": [
       "  0%|          | 0/300 [00:00<?, ?it/s]"
      ]
     },
     "metadata": {},
     "output_type": "display_data"
    },
    {
     "name": "stdout",
     "output_type": "stream",
     "text": [
      "3.806583148768781e-05\n"
     ]
    },
    {
     "data": {
      "application/vnd.jupyter.widget-view+json": {
       "model_id": "51b566423d9d4fe88257fef0cbd33270",
       "version_major": 2,
       "version_minor": 0
      },
      "text/plain": [
       "  0%|          | 0/1000 [00:00<?, ?it/s]"
      ]
     },
     "metadata": {},
     "output_type": "display_data"
    },
    {
     "name": "stdout",
     "output_type": "stream",
     "text": [
      "0.00873592252944787\n"
     ]
    },
    {
     "data": {
      "application/vnd.jupyter.widget-view+json": {
       "model_id": "9263374450a54be0a621062f99d1c95b",
       "version_major": 2,
       "version_minor": 0
      },
      "text/plain": [
       "  0%|          | 0/2000 [00:00<?, ?it/s]"
      ]
     },
     "metadata": {},
     "output_type": "display_data"
    },
    {
     "name": "stdout",
     "output_type": "stream",
     "text": [
      "0.009079095458008007 None\n"
     ]
    },
    {
     "data": {
      "application/vnd.jupyter.widget-view+json": {
       "model_id": "461af2130a66488084effd3feff5d0a6",
       "version_major": 2,
       "version_minor": 0
      },
      "text/plain": [
       "  0%|          | 0/2000 [00:00<?, ?it/s]"
      ]
     },
     "metadata": {},
     "output_type": "display_data"
    },
    {
     "name": "stdout",
     "output_type": "stream",
     "text": [
      "0.041919372649806934 None\n"
     ]
    },
    {
     "data": {
      "application/vnd.jupyter.widget-view+json": {
       "model_id": "804cd7dacb9d41a8a1b5d26c83341ccf",
       "version_major": 2,
       "version_minor": 0
      },
      "text/plain": [
       "  0%|          | 0/2000 [00:00<?, ?it/s]"
      ]
     },
     "metadata": {},
     "output_type": "display_data"
    },
    {
     "name": "stdout",
     "output_type": "stream",
     "text": [
      "0.02678160066632932 None\n"
     ]
    },
    {
     "data": {
      "application/vnd.jupyter.widget-view+json": {
       "model_id": "034c2bc08bbf44069710d37b092d21d8",
       "version_major": 2,
       "version_minor": 0
      },
      "text/plain": [
       "  0%|          | 0/2000 [00:00<?, ?it/s]"
      ]
     },
     "metadata": {},
     "output_type": "display_data"
    },
    {
     "name": "stdout",
     "output_type": "stream",
     "text": [
      "0.02000483719117778 None\n"
     ]
    },
    {
     "data": {
      "application/vnd.jupyter.widget-view+json": {
       "model_id": "5e938cba178c4759880ffb8ab989e711",
       "version_major": 2,
       "version_minor": 0
      },
      "text/plain": [
       "  0%|          | 0/2000 [00:00<?, ?it/s]"
      ]
     },
     "metadata": {},
     "output_type": "display_data"
    },
    {
     "name": "stdout",
     "output_type": "stream",
     "text": [
      "0.016631864908774836 None\n"
     ]
    },
    {
     "data": {
      "application/vnd.jupyter.widget-view+json": {
       "model_id": "2718db5ede284aabacd0a978d17578de",
       "version_major": 2,
       "version_minor": 0
      },
      "text/plain": [
       "  0%|          | 0/2000 [00:00<?, ?it/s]"
      ]
     },
     "metadata": {},
     "output_type": "display_data"
    },
    {
     "name": "stdout",
     "output_type": "stream",
     "text": [
      "0.014590434873734404 None\n"
     ]
    },
    {
     "data": {
      "application/vnd.jupyter.widget-view+json": {
       "model_id": "1d492e32fc1d4cbbb9a40d20f15b0c57",
       "version_major": 2,
       "version_minor": 0
      },
      "text/plain": [
       "  0%|          | 0/2000 [00:00<?, ?it/s]"
      ]
     },
     "metadata": {},
     "output_type": "display_data"
    },
    {
     "name": "stdout",
     "output_type": "stream",
     "text": [
      "0.013372418807603294 None\n"
     ]
    },
    {
     "data": {
      "application/vnd.jupyter.widget-view+json": {
       "model_id": "395b1903b1d14860ba3b289086667c8f",
       "version_major": 2,
       "version_minor": 0
      },
      "text/plain": [
       "  0%|          | 0/2000 [00:00<?, ?it/s]"
      ]
     },
     "metadata": {},
     "output_type": "display_data"
    },
    {
     "name": "stdout",
     "output_type": "stream",
     "text": [
      "0.01222774730463765 None\n"
     ]
    },
    {
     "data": {
      "application/vnd.jupyter.widget-view+json": {
       "model_id": "98edcc1b85164c6586cbed27ce16b320",
       "version_major": 2,
       "version_minor": 0
      },
      "text/plain": [
       "  0%|          | 0/2000 [00:00<?, ?it/s]"
      ]
     },
     "metadata": {},
     "output_type": "display_data"
    },
    {
     "name": "stdout",
     "output_type": "stream",
     "text": [
      "0.011376915568134062 None\n"
     ]
    },
    {
     "data": {
      "application/vnd.jupyter.widget-view+json": {
       "model_id": "7dc19cea57e94765b450a0cf6a7ac7f6",
       "version_major": 2,
       "version_minor": 0
      },
      "text/plain": [
       "  0%|          | 0/2000 [00:00<?, ?it/s]"
      ]
     },
     "metadata": {},
     "output_type": "display_data"
    },
    {
     "name": "stdout",
     "output_type": "stream",
     "text": [
      "0.010883923548734463 None\n"
     ]
    },
    {
     "data": {
      "application/vnd.jupyter.widget-view+json": {
       "model_id": "808936713505448ea63afd0e873ec525",
       "version_major": 2,
       "version_minor": 0
      },
      "text/plain": [
       "  0%|          | 0/2000 [00:00<?, ?it/s]"
      ]
     },
     "metadata": {},
     "output_type": "display_data"
    },
    {
     "name": "stdout",
     "output_type": "stream",
     "text": [
      "0.010472988088138421 None\n"
     ]
    },
    {
     "data": {
      "application/vnd.jupyter.widget-view+json": {
       "model_id": "e159cce4ddd34426939fae91316737bc",
       "version_major": 2,
       "version_minor": 0
      },
      "text/plain": [
       "  0%|          | 0/2000 [00:00<?, ?it/s]"
      ]
     },
     "metadata": {},
     "output_type": "display_data"
    },
    {
     "name": "stdout",
     "output_type": "stream",
     "text": [
      "0.01017496803649391 None\n"
     ]
    },
    {
     "data": {
      "application/vnd.jupyter.widget-view+json": {
       "model_id": "c1b89083730b420a87f4dc5e2eeb3bed",
       "version_major": 2,
       "version_minor": 0
      },
      "text/plain": [
       "  0%|          | 0/2000 [00:00<?, ?it/s]"
      ]
     },
     "metadata": {},
     "output_type": "display_data"
    },
    {
     "name": "stdout",
     "output_type": "stream",
     "text": [
      "0.01001088448824582 None\n"
     ]
    },
    {
     "data": {
      "application/vnd.jupyter.widget-view+json": {
       "model_id": "0316487f3a0149639dd99d50aeff2561",
       "version_major": 2,
       "version_minor": 0
      },
      "text/plain": [
       "  0%|          | 0/2000 [00:00<?, ?it/s]"
      ]
     },
     "metadata": {},
     "output_type": "display_data"
    },
    {
     "name": "stdout",
     "output_type": "stream",
     "text": [
      "0.009784063938009745 None\n"
     ]
    },
    {
     "data": {
      "application/vnd.jupyter.widget-view+json": {
       "model_id": "50de84567f1748c4aae7bd5dfc6d7c17",
       "version_major": 2,
       "version_minor": 0
      },
      "text/plain": [
       "  0%|          | 0/2000 [00:00<?, ?it/s]"
      ]
     },
     "metadata": {},
     "output_type": "display_data"
    },
    {
     "name": "stdout",
     "output_type": "stream",
     "text": [
      "0.009660196101273492 None\n"
     ]
    },
    {
     "data": {
      "application/vnd.jupyter.widget-view+json": {
       "model_id": "30531b8ca85742069f1f36c9d503df53",
       "version_major": 2,
       "version_minor": 0
      },
      "text/plain": [
       "  0%|          | 0/2000 [00:00<?, ?it/s]"
      ]
     },
     "metadata": {},
     "output_type": "display_data"
    },
    {
     "name": "stdout",
     "output_type": "stream",
     "text": [
      "0.009579209897352435 None\n"
     ]
    },
    {
     "data": {
      "application/vnd.jupyter.widget-view+json": {
       "model_id": "cb59fcabaaa9493a85b6412113309bd3",
       "version_major": 2,
       "version_minor": 0
      },
      "text/plain": [
       "  0%|          | 0/2000 [00:00<?, ?it/s]"
      ]
     },
     "metadata": {},
     "output_type": "display_data"
    },
    {
     "name": "stdout",
     "output_type": "stream",
     "text": [
      "0.009493212911603767 None\n"
     ]
    },
    {
     "data": {
      "application/vnd.jupyter.widget-view+json": {
       "model_id": "ebcd626a68cb48e0b809c749d503454c",
       "version_major": 2,
       "version_minor": 0
      },
      "text/plain": [
       "  0%|          | 0/2000 [00:00<?, ?it/s]"
      ]
     },
     "metadata": {},
     "output_type": "display_data"
    },
    {
     "name": "stdout",
     "output_type": "stream",
     "text": [
      "0.009420372572078693 None\n"
     ]
    },
    {
     "data": {
      "application/vnd.jupyter.widget-view+json": {
       "model_id": "f60e315da349406b98c36198f6e768de",
       "version_major": 2,
       "version_minor": 0
      },
      "text/plain": [
       "  0%|          | 0/2000 [00:00<?, ?it/s]"
      ]
     },
     "metadata": {},
     "output_type": "display_data"
    },
    {
     "name": "stdout",
     "output_type": "stream",
     "text": [
      "0.009403089014696579 None\n"
     ]
    }
   ],
   "source": [
    "n = 3\n",
    "d = 2**n\n",
    "\n",
    "model1_list = []\n",
    "\n",
    "for i in range(5):\n",
    "\n",
    "    inputs_map, inputs_spam, counts_list =  pickle.load(open(f\"../../data/threeQubits_PQC_noDelay_belem_{i}.p\", \"rb\"))\n",
    "\n",
    "    targets_map = counts_to_probs(counts_list[:2000-6**n])\n",
    "    targets_spam = counts_to_probs(counts_list[2000-6**n:])\n",
    "\n",
    "    data = [inputs_spam, targets_spam, inputs_map, targets_map]\n",
    "\n",
    "    np.random.seed(42)\n",
    "    random.seed(42)\n",
    "    tf.random.set_seed(42)\n",
    "\n",
    "    model = regularized_fit(d, data, num_iter_spam=1000, num_iter_map = 2000, N = 500)\n",
    "    model1_list.append(model)"
   ]
  },
  {
   "cell_type": "markdown",
   "metadata": {},
   "source": [
    "## 5 us Delay"
   ]
  },
  {
   "cell_type": "code",
   "execution_count": 185,
   "metadata": {},
   "outputs": [
    {
     "data": {
      "application/vnd.jupyter.widget-view+json": {
       "model_id": "3fd0960573754a1faf7617ad47c7754b",
       "version_major": 2,
       "version_minor": 0
      },
      "text/plain": [
       "  0%|          | 0/300 [00:00<?, ?it/s]"
      ]
     },
     "metadata": {},
     "output_type": "display_data"
    },
    {
     "name": "stdout",
     "output_type": "stream",
     "text": [
      "3.806583148768781e-05\n"
     ]
    },
    {
     "data": {
      "application/vnd.jupyter.widget-view+json": {
       "model_id": "79723770d6744ac89e49dfb7e2135810",
       "version_major": 2,
       "version_minor": 0
      },
      "text/plain": [
       "  0%|          | 0/1000 [00:00<?, ?it/s]"
      ]
     },
     "metadata": {},
     "output_type": "display_data"
    },
    {
     "name": "stdout",
     "output_type": "stream",
     "text": [
      "0.008394945983070416\n"
     ]
    },
    {
     "data": {
      "application/vnd.jupyter.widget-view+json": {
       "model_id": "f1fab8672eb540fd88a42f3bb253846a",
       "version_major": 2,
       "version_minor": 0
      },
      "text/plain": [
       "  0%|          | 0/2000 [00:00<?, ?it/s]"
      ]
     },
     "metadata": {},
     "output_type": "display_data"
    },
    {
     "name": "stdout",
     "output_type": "stream",
     "text": [
      "0.006776880105799946 None\n"
     ]
    },
    {
     "data": {
      "application/vnd.jupyter.widget-view+json": {
       "model_id": "9931d7b74f744716be803cd1352a29a2",
       "version_major": 2,
       "version_minor": 0
      },
      "text/plain": [
       "  0%|          | 0/2000 [00:00<?, ?it/s]"
      ]
     },
     "metadata": {},
     "output_type": "display_data"
    },
    {
     "name": "stdout",
     "output_type": "stream",
     "text": [
      "0.007623933041645179 None\n"
     ]
    },
    {
     "data": {
      "application/vnd.jupyter.widget-view+json": {
       "model_id": "4a28ac2bc4f34f839454f579800752c3",
       "version_major": 2,
       "version_minor": 0
      },
      "text/plain": [
       "  0%|          | 0/2000 [00:00<?, ?it/s]"
      ]
     },
     "metadata": {},
     "output_type": "display_data"
    },
    {
     "name": "stdout",
     "output_type": "stream",
     "text": [
      "0.007492602498479315 None\n"
     ]
    },
    {
     "data": {
      "application/vnd.jupyter.widget-view+json": {
       "model_id": "2ac4e220c86f481eaf2a3c769b8a2db5",
       "version_major": 2,
       "version_minor": 0
      },
      "text/plain": [
       "  0%|          | 0/2000 [00:00<?, ?it/s]"
      ]
     },
     "metadata": {},
     "output_type": "display_data"
    },
    {
     "name": "stdout",
     "output_type": "stream",
     "text": [
      "0.007322175249454445 None\n"
     ]
    },
    {
     "data": {
      "application/vnd.jupyter.widget-view+json": {
       "model_id": "5da55e0d6891497e873a05bbbd030de0",
       "version_major": 2,
       "version_minor": 0
      },
      "text/plain": [
       "  0%|          | 0/2000 [00:00<?, ?it/s]"
      ]
     },
     "metadata": {},
     "output_type": "display_data"
    },
    {
     "name": "stdout",
     "output_type": "stream",
     "text": [
      "0.007253634583293862 None\n"
     ]
    },
    {
     "data": {
      "application/vnd.jupyter.widget-view+json": {
       "model_id": "4b20b23808dd46dda6165d8c909b849a",
       "version_major": 2,
       "version_minor": 0
      },
      "text/plain": [
       "  0%|          | 0/2000 [00:00<?, ?it/s]"
      ]
     },
     "metadata": {},
     "output_type": "display_data"
    },
    {
     "name": "stdout",
     "output_type": "stream",
     "text": [
      "0.0071257813164746775 None\n"
     ]
    },
    {
     "data": {
      "application/vnd.jupyter.widget-view+json": {
       "model_id": "3e935551dcbd428ca38eea336c2e2f6c",
       "version_major": 2,
       "version_minor": 0
      },
      "text/plain": [
       "  0%|          | 0/2000 [00:00<?, ?it/s]"
      ]
     },
     "metadata": {},
     "output_type": "display_data"
    },
    {
     "name": "stdout",
     "output_type": "stream",
     "text": [
      "0.007106799375840516 None\n"
     ]
    },
    {
     "data": {
      "application/vnd.jupyter.widget-view+json": {
       "model_id": "336c4686e4e8428c886fb5576a406cd4",
       "version_major": 2,
       "version_minor": 0
      },
      "text/plain": [
       "  0%|          | 0/2000 [00:00<?, ?it/s]"
      ]
     },
     "metadata": {},
     "output_type": "display_data"
    },
    {
     "name": "stdout",
     "output_type": "stream",
     "text": [
      "0.007047567360573995 None\n"
     ]
    },
    {
     "data": {
      "application/vnd.jupyter.widget-view+json": {
       "model_id": "66607882a44e45bd883999bb2c779d49",
       "version_major": 2,
       "version_minor": 0
      },
      "text/plain": [
       "  0%|          | 0/2000 [00:00<?, ?it/s]"
      ]
     },
     "metadata": {},
     "output_type": "display_data"
    },
    {
     "name": "stdout",
     "output_type": "stream",
     "text": [
      "0.007005964237295027 None\n"
     ]
    },
    {
     "data": {
      "application/vnd.jupyter.widget-view+json": {
       "model_id": "4a6fa973b3dc4f5da0b3f1e9de0dbee8",
       "version_major": 2,
       "version_minor": 0
      },
      "text/plain": [
       "  0%|          | 0/2000 [00:00<?, ?it/s]"
      ]
     },
     "metadata": {},
     "output_type": "display_data"
    },
    {
     "name": "stdout",
     "output_type": "stream",
     "text": [
      "0.006968404479806852 None\n"
     ]
    },
    {
     "data": {
      "application/vnd.jupyter.widget-view+json": {
       "model_id": "8fb2f400c20a481f82d3723183221326",
       "version_major": 2,
       "version_minor": 0
      },
      "text/plain": [
       "  0%|          | 0/2000 [00:00<?, ?it/s]"
      ]
     },
     "metadata": {},
     "output_type": "display_data"
    },
    {
     "name": "stdout",
     "output_type": "stream",
     "text": [
      "0.006930455782103285 None\n"
     ]
    },
    {
     "data": {
      "application/vnd.jupyter.widget-view+json": {
       "model_id": "4191344e5da74da8861143578fe6b8dc",
       "version_major": 2,
       "version_minor": 0
      },
      "text/plain": [
       "  0%|          | 0/2000 [00:00<?, ?it/s]"
      ]
     },
     "metadata": {},
     "output_type": "display_data"
    },
    {
     "name": "stdout",
     "output_type": "stream",
     "text": [
      "0.006900989765285093 None\n"
     ]
    },
    {
     "data": {
      "application/vnd.jupyter.widget-view+json": {
       "model_id": "bf400df4a5c6493eb6b78efeb679368b",
       "version_major": 2,
       "version_minor": 0
      },
      "text/plain": [
       "  0%|          | 0/2000 [00:00<?, ?it/s]"
      ]
     },
     "metadata": {},
     "output_type": "display_data"
    },
    {
     "name": "stdout",
     "output_type": "stream",
     "text": [
      "0.006871345158118946 None\n"
     ]
    },
    {
     "data": {
      "application/vnd.jupyter.widget-view+json": {
       "model_id": "be4516ae19bb4c77bf4caf5c48bd4f20",
       "version_major": 2,
       "version_minor": 0
      },
      "text/plain": [
       "  0%|          | 0/2000 [00:00<?, ?it/s]"
      ]
     },
     "metadata": {},
     "output_type": "display_data"
    },
    {
     "name": "stdout",
     "output_type": "stream",
     "text": [
      "0.006863828663224663 None\n"
     ]
    },
    {
     "data": {
      "application/vnd.jupyter.widget-view+json": {
       "model_id": "3685617260aa4665a8fc35c08cc9aded",
       "version_major": 2,
       "version_minor": 0
      },
      "text/plain": [
       "  0%|          | 0/2000 [00:00<?, ?it/s]"
      ]
     },
     "metadata": {},
     "output_type": "display_data"
    },
    {
     "name": "stdout",
     "output_type": "stream",
     "text": [
      "0.006839098314333158 None\n"
     ]
    },
    {
     "data": {
      "application/vnd.jupyter.widget-view+json": {
       "model_id": "24e893f651f14c22ac2c8ab32f5aaa59",
       "version_major": 2,
       "version_minor": 0
      },
      "text/plain": [
       "  0%|          | 0/2000 [00:00<?, ?it/s]"
      ]
     },
     "metadata": {},
     "output_type": "display_data"
    },
    {
     "name": "stdout",
     "output_type": "stream",
     "text": [
      "0.006823362917507715 None\n"
     ]
    },
    {
     "data": {
      "application/vnd.jupyter.widget-view+json": {
       "model_id": "1d848ebb7d6543bf8a9971dee6acfb0c",
       "version_major": 2,
       "version_minor": 0
      },
      "text/plain": [
       "  0%|          | 0/2000 [00:00<?, ?it/s]"
      ]
     },
     "metadata": {},
     "output_type": "display_data"
    },
    {
     "name": "stdout",
     "output_type": "stream",
     "text": [
      "0.006824712471524944 None\n"
     ]
    },
    {
     "data": {
      "application/vnd.jupyter.widget-view+json": {
       "model_id": "94850120051d4207a6d79343364fb2d8",
       "version_major": 2,
       "version_minor": 0
      },
      "text/plain": [
       "  0%|          | 0/300 [00:00<?, ?it/s]"
      ]
     },
     "metadata": {},
     "output_type": "display_data"
    },
    {
     "name": "stdout",
     "output_type": "stream",
     "text": [
      "3.806583148768781e-05\n"
     ]
    },
    {
     "data": {
      "application/vnd.jupyter.widget-view+json": {
       "model_id": "d737117db73345a29f98232e19966874",
       "version_major": 2,
       "version_minor": 0
      },
      "text/plain": [
       "  0%|          | 0/1000 [00:00<?, ?it/s]"
      ]
     },
     "metadata": {},
     "output_type": "display_data"
    },
    {
     "name": "stdout",
     "output_type": "stream",
     "text": [
      "0.00892046797356302\n"
     ]
    },
    {
     "data": {
      "application/vnd.jupyter.widget-view+json": {
       "model_id": "3d5fb9494ab540dfaf1ed779d392a9b8",
       "version_major": 2,
       "version_minor": 0
      },
      "text/plain": [
       "  0%|          | 0/2000 [00:00<?, ?it/s]"
      ]
     },
     "metadata": {},
     "output_type": "display_data"
    },
    {
     "name": "stdout",
     "output_type": "stream",
     "text": [
      "0.00821445917037374 None\n"
     ]
    },
    {
     "data": {
      "application/vnd.jupyter.widget-view+json": {
       "model_id": "d88e4061a11a49689178ad0af11ab56a",
       "version_major": 2,
       "version_minor": 0
      },
      "text/plain": [
       "  0%|          | 0/2000 [00:00<?, ?it/s]"
      ]
     },
     "metadata": {},
     "output_type": "display_data"
    },
    {
     "name": "stdout",
     "output_type": "stream",
     "text": [
      "0.009132243733940584 None\n"
     ]
    },
    {
     "data": {
      "application/vnd.jupyter.widget-view+json": {
       "model_id": "2862c8a1ccef43ac8b1e6439cc912332",
       "version_major": 2,
       "version_minor": 0
      },
      "text/plain": [
       "  0%|          | 0/2000 [00:00<?, ?it/s]"
      ]
     },
     "metadata": {},
     "output_type": "display_data"
    },
    {
     "name": "stdout",
     "output_type": "stream",
     "text": [
      "0.008859689644201526 None\n"
     ]
    },
    {
     "data": {
      "application/vnd.jupyter.widget-view+json": {
       "model_id": "381f3f83a32f4acabc2625320485d478",
       "version_major": 2,
       "version_minor": 0
      },
      "text/plain": [
       "  0%|          | 0/2000 [00:00<?, ?it/s]"
      ]
     },
     "metadata": {},
     "output_type": "display_data"
    },
    {
     "name": "stdout",
     "output_type": "stream",
     "text": [
      "0.008750321775486902 None\n"
     ]
    },
    {
     "data": {
      "application/vnd.jupyter.widget-view+json": {
       "model_id": "d2f5bd5bf9d140b392621909926a222e",
       "version_major": 2,
       "version_minor": 0
      },
      "text/plain": [
       "  0%|          | 0/2000 [00:00<?, ?it/s]"
      ]
     },
     "metadata": {},
     "output_type": "display_data"
    },
    {
     "name": "stdout",
     "output_type": "stream",
     "text": [
      "0.008717394408490413 None\n"
     ]
    },
    {
     "data": {
      "application/vnd.jupyter.widget-view+json": {
       "model_id": "5013af5ff08a4d049bbdc4db582f4823",
       "version_major": 2,
       "version_minor": 0
      },
      "text/plain": [
       "  0%|          | 0/2000 [00:00<?, ?it/s]"
      ]
     },
     "metadata": {},
     "output_type": "display_data"
    },
    {
     "name": "stdout",
     "output_type": "stream",
     "text": [
      "0.008603119682161682 None\n"
     ]
    },
    {
     "data": {
      "application/vnd.jupyter.widget-view+json": {
       "model_id": "87095f28d04c4b178019b2052ac00c16",
       "version_major": 2,
       "version_minor": 0
      },
      "text/plain": [
       "  0%|          | 0/2000 [00:00<?, ?it/s]"
      ]
     },
     "metadata": {},
     "output_type": "display_data"
    },
    {
     "name": "stdout",
     "output_type": "stream",
     "text": [
      "0.008539564509784315 None\n"
     ]
    },
    {
     "data": {
      "application/vnd.jupyter.widget-view+json": {
       "model_id": "cf0ba4f2772c442a96444f5bb20a173f",
       "version_major": 2,
       "version_minor": 0
      },
      "text/plain": [
       "  0%|          | 0/2000 [00:00<?, ?it/s]"
      ]
     },
     "metadata": {},
     "output_type": "display_data"
    },
    {
     "name": "stdout",
     "output_type": "stream",
     "text": [
      "0.008514253939833998 None\n"
     ]
    },
    {
     "data": {
      "application/vnd.jupyter.widget-view+json": {
       "model_id": "68fc62a9a99744dca28720cfc53fd9b6",
       "version_major": 2,
       "version_minor": 0
      },
      "text/plain": [
       "  0%|          | 0/2000 [00:00<?, ?it/s]"
      ]
     },
     "metadata": {},
     "output_type": "display_data"
    },
    {
     "name": "stdout",
     "output_type": "stream",
     "text": [
      "0.008411564069120888 None\n"
     ]
    },
    {
     "data": {
      "application/vnd.jupyter.widget-view+json": {
       "model_id": "c52e0367db614a298550e438b47a573c",
       "version_major": 2,
       "version_minor": 0
      },
      "text/plain": [
       "  0%|          | 0/2000 [00:00<?, ?it/s]"
      ]
     },
     "metadata": {},
     "output_type": "display_data"
    },
    {
     "name": "stdout",
     "output_type": "stream",
     "text": [
      "0.00840024365313206 None\n"
     ]
    },
    {
     "data": {
      "application/vnd.jupyter.widget-view+json": {
       "model_id": "036a3c289ccc4eab8c2a8980acfd44b3",
       "version_major": 2,
       "version_minor": 0
      },
      "text/plain": [
       "  0%|          | 0/2000 [00:00<?, ?it/s]"
      ]
     },
     "metadata": {},
     "output_type": "display_data"
    },
    {
     "name": "stdout",
     "output_type": "stream",
     "text": [
      "0.008380094645512409 None\n"
     ]
    },
    {
     "data": {
      "application/vnd.jupyter.widget-view+json": {
       "model_id": "ba2a86215e41441f836ff88fee547c7e",
       "version_major": 2,
       "version_minor": 0
      },
      "text/plain": [
       "  0%|          | 0/2000 [00:00<?, ?it/s]"
      ]
     },
     "metadata": {},
     "output_type": "display_data"
    },
    {
     "name": "stdout",
     "output_type": "stream",
     "text": [
      "0.008346085633488634 None\n"
     ]
    },
    {
     "data": {
      "application/vnd.jupyter.widget-view+json": {
       "model_id": "d840d77b4cc74f67aa7acbaaa8fde8a1",
       "version_major": 2,
       "version_minor": 0
      },
      "text/plain": [
       "  0%|          | 0/2000 [00:00<?, ?it/s]"
      ]
     },
     "metadata": {},
     "output_type": "display_data"
    },
    {
     "name": "stdout",
     "output_type": "stream",
     "text": [
      "0.008320423254310835 None\n"
     ]
    },
    {
     "data": {
      "application/vnd.jupyter.widget-view+json": {
       "model_id": "49914b8947a443729588a1669c9230c3",
       "version_major": 2,
       "version_minor": 0
      },
      "text/plain": [
       "  0%|          | 0/2000 [00:00<?, ?it/s]"
      ]
     },
     "metadata": {},
     "output_type": "display_data"
    },
    {
     "name": "stdout",
     "output_type": "stream",
     "text": [
      "0.008296733097812327 None\n"
     ]
    },
    {
     "data": {
      "application/vnd.jupyter.widget-view+json": {
       "model_id": "b661db675aff4544a0d968dfd1527f01",
       "version_major": 2,
       "version_minor": 0
      },
      "text/plain": [
       "  0%|          | 0/2000 [00:00<?, ?it/s]"
      ]
     },
     "metadata": {},
     "output_type": "display_data"
    },
    {
     "name": "stdout",
     "output_type": "stream",
     "text": [
      "0.008296910444964866 None\n"
     ]
    },
    {
     "data": {
      "application/vnd.jupyter.widget-view+json": {
       "model_id": "ed69d435f45b4190bd217f149894bbde",
       "version_major": 2,
       "version_minor": 0
      },
      "text/plain": [
       "  0%|          | 0/300 [00:00<?, ?it/s]"
      ]
     },
     "metadata": {},
     "output_type": "display_data"
    },
    {
     "name": "stdout",
     "output_type": "stream",
     "text": [
      "3.806583148768781e-05\n"
     ]
    },
    {
     "data": {
      "application/vnd.jupyter.widget-view+json": {
       "model_id": "5e371fab1679498ea6f72a384bb2f4f8",
       "version_major": 2,
       "version_minor": 0
      },
      "text/plain": [
       "  0%|          | 0/1000 [00:00<?, ?it/s]"
      ]
     },
     "metadata": {},
     "output_type": "display_data"
    },
    {
     "name": "stdout",
     "output_type": "stream",
     "text": [
      "0.00894303267486445\n"
     ]
    },
    {
     "data": {
      "application/vnd.jupyter.widget-view+json": {
       "model_id": "fd02648c9e4c4f7a9603c9f2fb2e591c",
       "version_major": 2,
       "version_minor": 0
      },
      "text/plain": [
       "  0%|          | 0/2000 [00:00<?, ?it/s]"
      ]
     },
     "metadata": {},
     "output_type": "display_data"
    },
    {
     "name": "stdout",
     "output_type": "stream",
     "text": [
      "0.0075396810619636715 None\n"
     ]
    },
    {
     "data": {
      "application/vnd.jupyter.widget-view+json": {
       "model_id": "d870e7b1a7c94c1fb201e5371c7e6b87",
       "version_major": 2,
       "version_minor": 0
      },
      "text/plain": [
       "  0%|          | 0/2000 [00:00<?, ?it/s]"
      ]
     },
     "metadata": {},
     "output_type": "display_data"
    },
    {
     "name": "stdout",
     "output_type": "stream",
     "text": [
      "0.008668788459803177 None\n"
     ]
    },
    {
     "data": {
      "application/vnd.jupyter.widget-view+json": {
       "model_id": "a38ca7da8395469ea88a95eb4e548afe",
       "version_major": 2,
       "version_minor": 0
      },
      "text/plain": [
       "  0%|          | 0/2000 [00:00<?, ?it/s]"
      ]
     },
     "metadata": {},
     "output_type": "display_data"
    },
    {
     "name": "stdout",
     "output_type": "stream",
     "text": [
      "0.008395145626097554 None\n"
     ]
    },
    {
     "data": {
      "application/vnd.jupyter.widget-view+json": {
       "model_id": "1db8d54ba7dc46a8885c435969af9670",
       "version_major": 2,
       "version_minor": 0
      },
      "text/plain": [
       "  0%|          | 0/2000 [00:00<?, ?it/s]"
      ]
     },
     "metadata": {},
     "output_type": "display_data"
    },
    {
     "name": "stdout",
     "output_type": "stream",
     "text": [
      "0.00824751536680717 None\n"
     ]
    },
    {
     "data": {
      "application/vnd.jupyter.widget-view+json": {
       "model_id": "ed8ab219f03d453d926690ae8c4d0c4d",
       "version_major": 2,
       "version_minor": 0
      },
      "text/plain": [
       "  0%|          | 0/2000 [00:00<?, ?it/s]"
      ]
     },
     "metadata": {},
     "output_type": "display_data"
    },
    {
     "name": "stdout",
     "output_type": "stream",
     "text": [
      "0.008119655326004532 None\n"
     ]
    },
    {
     "data": {
      "application/vnd.jupyter.widget-view+json": {
       "model_id": "5c11e96f5a9147f3be87bc5757b36e31",
       "version_major": 2,
       "version_minor": 0
      },
      "text/plain": [
       "  0%|          | 0/2000 [00:00<?, ?it/s]"
      ]
     },
     "metadata": {},
     "output_type": "display_data"
    },
    {
     "name": "stdout",
     "output_type": "stream",
     "text": [
      "0.007964883517459602 None\n"
     ]
    },
    {
     "data": {
      "application/vnd.jupyter.widget-view+json": {
       "model_id": "7b4ddbee5daf4b72b8e454e036dc2fb5",
       "version_major": 2,
       "version_minor": 0
      },
      "text/plain": [
       "  0%|          | 0/2000 [00:00<?, ?it/s]"
      ]
     },
     "metadata": {},
     "output_type": "display_data"
    },
    {
     "name": "stdout",
     "output_type": "stream",
     "text": [
      "0.00792810095886283 None\n"
     ]
    },
    {
     "data": {
      "application/vnd.jupyter.widget-view+json": {
       "model_id": "ec4c18729d1e4cebaf502d2af0a52801",
       "version_major": 2,
       "version_minor": 0
      },
      "text/plain": [
       "  0%|          | 0/2000 [00:00<?, ?it/s]"
      ]
     },
     "metadata": {},
     "output_type": "display_data"
    },
    {
     "name": "stdout",
     "output_type": "stream",
     "text": [
      "0.007896995197656157 None\n"
     ]
    },
    {
     "data": {
      "application/vnd.jupyter.widget-view+json": {
       "model_id": "a256d99b01534a0495ef389ebb5441a2",
       "version_major": 2,
       "version_minor": 0
      },
      "text/plain": [
       "  0%|          | 0/2000 [00:00<?, ?it/s]"
      ]
     },
     "metadata": {},
     "output_type": "display_data"
    },
    {
     "name": "stdout",
     "output_type": "stream",
     "text": [
      "0.007824706335246526 None\n"
     ]
    },
    {
     "data": {
      "application/vnd.jupyter.widget-view+json": {
       "model_id": "ebeaab7e21344924a9f5196fe8e63db6",
       "version_major": 2,
       "version_minor": 0
      },
      "text/plain": [
       "  0%|          | 0/2000 [00:00<?, ?it/s]"
      ]
     },
     "metadata": {},
     "output_type": "display_data"
    },
    {
     "name": "stdout",
     "output_type": "stream",
     "text": [
      "0.007743630061321087 None\n"
     ]
    },
    {
     "data": {
      "application/vnd.jupyter.widget-view+json": {
       "model_id": "50d8a6eafed44215834ceaf0dd410414",
       "version_major": 2,
       "version_minor": 0
      },
      "text/plain": [
       "  0%|          | 0/2000 [00:00<?, ?it/s]"
      ]
     },
     "metadata": {},
     "output_type": "display_data"
    },
    {
     "name": "stdout",
     "output_type": "stream",
     "text": [
      "0.0077113512526802664 None\n"
     ]
    },
    {
     "data": {
      "application/vnd.jupyter.widget-view+json": {
       "model_id": "59b860e321ca40d29ddf4a2ce36148af",
       "version_major": 2,
       "version_minor": 0
      },
      "text/plain": [
       "  0%|          | 0/2000 [00:00<?, ?it/s]"
      ]
     },
     "metadata": {},
     "output_type": "display_data"
    },
    {
     "name": "stdout",
     "output_type": "stream",
     "text": [
      "0.007694922722232912 None\n"
     ]
    },
    {
     "data": {
      "application/vnd.jupyter.widget-view+json": {
       "model_id": "b0def869801d4f5994c11cc1b248b8d6",
       "version_major": 2,
       "version_minor": 0
      },
      "text/plain": [
       "  0%|          | 0/2000 [00:00<?, ?it/s]"
      ]
     },
     "metadata": {},
     "output_type": "display_data"
    },
    {
     "name": "stdout",
     "output_type": "stream",
     "text": [
      "0.007688432905979559 None\n"
     ]
    },
    {
     "data": {
      "application/vnd.jupyter.widget-view+json": {
       "model_id": "4b541357417c45d68816dd544eadc267",
       "version_major": 2,
       "version_minor": 0
      },
      "text/plain": [
       "  0%|          | 0/2000 [00:00<?, ?it/s]"
      ]
     },
     "metadata": {},
     "output_type": "display_data"
    },
    {
     "name": "stdout",
     "output_type": "stream",
     "text": [
      "0.007636878469652029 None\n"
     ]
    },
    {
     "data": {
      "application/vnd.jupyter.widget-view+json": {
       "model_id": "577a1c8b7cab4a9897f5e13ece2b51e9",
       "version_major": 2,
       "version_minor": 0
      },
      "text/plain": [
       "  0%|          | 0/2000 [00:00<?, ?it/s]"
      ]
     },
     "metadata": {},
     "output_type": "display_data"
    },
    {
     "name": "stdout",
     "output_type": "stream",
     "text": [
      "0.007622331052810464 None\n"
     ]
    },
    {
     "data": {
      "application/vnd.jupyter.widget-view+json": {
       "model_id": "90cd9dcb1f4f443c8d361e4b04223dfa",
       "version_major": 2,
       "version_minor": 0
      },
      "text/plain": [
       "  0%|          | 0/2000 [00:00<?, ?it/s]"
      ]
     },
     "metadata": {},
     "output_type": "display_data"
    },
    {
     "name": "stdout",
     "output_type": "stream",
     "text": [
      "0.00760828037112155 None\n"
     ]
    },
    {
     "data": {
      "application/vnd.jupyter.widget-view+json": {
       "model_id": "200b0d94d11d47a586144fd5021d5871",
       "version_major": 2,
       "version_minor": 0
      },
      "text/plain": [
       "  0%|          | 0/2000 [00:00<?, ?it/s]"
      ]
     },
     "metadata": {},
     "output_type": "display_data"
    },
    {
     "name": "stdout",
     "output_type": "stream",
     "text": [
      "0.00760368519414531 None\n"
     ]
    },
    {
     "data": {
      "application/vnd.jupyter.widget-view+json": {
       "model_id": "228acfc08d1a40fea89a730feacfc2bb",
       "version_major": 2,
       "version_minor": 0
      },
      "text/plain": [
       "  0%|          | 0/2000 [00:00<?, ?it/s]"
      ]
     },
     "metadata": {},
     "output_type": "display_data"
    },
    {
     "name": "stdout",
     "output_type": "stream",
     "text": [
      "0.007586392077567178 None\n"
     ]
    },
    {
     "data": {
      "application/vnd.jupyter.widget-view+json": {
       "model_id": "19368a1c1ac94304a7b3c39009b3a3ee",
       "version_major": 2,
       "version_minor": 0
      },
      "text/plain": [
       "  0%|          | 0/2000 [00:00<?, ?it/s]"
      ]
     },
     "metadata": {},
     "output_type": "display_data"
    },
    {
     "name": "stdout",
     "output_type": "stream",
     "text": [
      "0.007590534173966009 None\n"
     ]
    },
    {
     "data": {
      "application/vnd.jupyter.widget-view+json": {
       "model_id": "171c6c93659c40d08e310149e4321c22",
       "version_major": 2,
       "version_minor": 0
      },
      "text/plain": [
       "  0%|          | 0/300 [00:00<?, ?it/s]"
      ]
     },
     "metadata": {},
     "output_type": "display_data"
    },
    {
     "name": "stdout",
     "output_type": "stream",
     "text": [
      "3.806583148768781e-05\n"
     ]
    },
    {
     "data": {
      "application/vnd.jupyter.widget-view+json": {
       "model_id": "6859a954c7c14a33be727d384ff3c67a",
       "version_major": 2,
       "version_minor": 0
      },
      "text/plain": [
       "  0%|          | 0/1000 [00:00<?, ?it/s]"
      ]
     },
     "metadata": {},
     "output_type": "display_data"
    },
    {
     "name": "stdout",
     "output_type": "stream",
     "text": [
      "0.008697081534007094\n"
     ]
    },
    {
     "data": {
      "application/vnd.jupyter.widget-view+json": {
       "model_id": "7342840ddbe840d7aef30964295ebfcd",
       "version_major": 2,
       "version_minor": 0
      },
      "text/plain": [
       "  0%|          | 0/2000 [00:00<?, ?it/s]"
      ]
     },
     "metadata": {},
     "output_type": "display_data"
    },
    {
     "name": "stdout",
     "output_type": "stream",
     "text": [
      "0.044423146907391624 None\n"
     ]
    },
    {
     "data": {
      "application/vnd.jupyter.widget-view+json": {
       "model_id": "2edc371d59774825a12968ca19ecb3f8",
       "version_major": 2,
       "version_minor": 0
      },
      "text/plain": [
       "  0%|          | 0/2000 [00:00<?, ?it/s]"
      ]
     },
     "metadata": {},
     "output_type": "display_data"
    },
    {
     "name": "stdout",
     "output_type": "stream",
     "text": [
      "0.04527677329072894 None\n"
     ]
    },
    {
     "data": {
      "application/vnd.jupyter.widget-view+json": {
       "model_id": "4bb6e257bf7c4ca3ab6a90a8077f7433",
       "version_major": 2,
       "version_minor": 0
      },
      "text/plain": [
       "  0%|          | 0/2000 [00:00<?, ?it/s]"
      ]
     },
     "metadata": {},
     "output_type": "display_data"
    },
    {
     "name": "stdout",
     "output_type": "stream",
     "text": [
      "0.04511788869243906 None\n"
     ]
    },
    {
     "data": {
      "application/vnd.jupyter.widget-view+json": {
       "model_id": "4ce80f17ca564c7099dec7202a804ac5",
       "version_major": 2,
       "version_minor": 0
      },
      "text/plain": [
       "  0%|          | 0/2000 [00:00<?, ?it/s]"
      ]
     },
     "metadata": {},
     "output_type": "display_data"
    },
    {
     "name": "stdout",
     "output_type": "stream",
     "text": [
      "0.0450136564325618 None\n"
     ]
    },
    {
     "data": {
      "application/vnd.jupyter.widget-view+json": {
       "model_id": "8872fd943042462eb5804b12ad745d1d",
       "version_major": 2,
       "version_minor": 0
      },
      "text/plain": [
       "  0%|          | 0/2000 [00:00<?, ?it/s]"
      ]
     },
     "metadata": {},
     "output_type": "display_data"
    },
    {
     "name": "stdout",
     "output_type": "stream",
     "text": [
      "0.04483821994375711 None\n"
     ]
    },
    {
     "data": {
      "application/vnd.jupyter.widget-view+json": {
       "model_id": "5a0b0a731d324b23b186881d4e1e1590",
       "version_major": 2,
       "version_minor": 0
      },
      "text/plain": [
       "  0%|          | 0/2000 [00:00<?, ?it/s]"
      ]
     },
     "metadata": {},
     "output_type": "display_data"
    },
    {
     "name": "stdout",
     "output_type": "stream",
     "text": [
      "0.04477120146762956 None\n"
     ]
    },
    {
     "data": {
      "application/vnd.jupyter.widget-view+json": {
       "model_id": "3faf0264e9a940bc903fe6529ef6e3bf",
       "version_major": 2,
       "version_minor": 0
      },
      "text/plain": [
       "  0%|          | 0/2000 [00:00<?, ?it/s]"
      ]
     },
     "metadata": {},
     "output_type": "display_data"
    },
    {
     "name": "stdout",
     "output_type": "stream",
     "text": [
      "0.044645271001879296 None\n"
     ]
    },
    {
     "data": {
      "application/vnd.jupyter.widget-view+json": {
       "model_id": "0fa443c1888e43ceb6622ea7b7bf9a01",
       "version_major": 2,
       "version_minor": 0
      },
      "text/plain": [
       "  0%|          | 0/2000 [00:00<?, ?it/s]"
      ]
     },
     "metadata": {},
     "output_type": "display_data"
    },
    {
     "name": "stdout",
     "output_type": "stream",
     "text": [
      "0.04463011033220254 None\n"
     ]
    },
    {
     "data": {
      "application/vnd.jupyter.widget-view+json": {
       "model_id": "43164f68b6ca4bb88faf90ffde8f6beb",
       "version_major": 2,
       "version_minor": 0
      },
      "text/plain": [
       "  0%|          | 0/2000 [00:00<?, ?it/s]"
      ]
     },
     "metadata": {},
     "output_type": "display_data"
    },
    {
     "name": "stdout",
     "output_type": "stream",
     "text": [
      "0.044555895214803604 None\n"
     ]
    },
    {
     "data": {
      "application/vnd.jupyter.widget-view+json": {
       "model_id": "43bf4f33a9e94bfda245cb2a3fe263fb",
       "version_major": 2,
       "version_minor": 0
      },
      "text/plain": [
       "  0%|          | 0/2000 [00:00<?, ?it/s]"
      ]
     },
     "metadata": {},
     "output_type": "display_data"
    },
    {
     "name": "stdout",
     "output_type": "stream",
     "text": [
      "0.044556912715930146 None\n"
     ]
    },
    {
     "data": {
      "application/vnd.jupyter.widget-view+json": {
       "model_id": "d257b021adbd4ca09b1069cc36dfbf88",
       "version_major": 2,
       "version_minor": 0
      },
      "text/plain": [
       "  0%|          | 0/300 [00:00<?, ?it/s]"
      ]
     },
     "metadata": {},
     "output_type": "display_data"
    },
    {
     "name": "stdout",
     "output_type": "stream",
     "text": [
      "3.806583148768781e-05\n"
     ]
    },
    {
     "data": {
      "application/vnd.jupyter.widget-view+json": {
       "model_id": "40409ec9efbb46c1ae34e0ab898dfad0",
       "version_major": 2,
       "version_minor": 0
      },
      "text/plain": [
       "  0%|          | 0/1000 [00:00<?, ?it/s]"
      ]
     },
     "metadata": {},
     "output_type": "display_data"
    },
    {
     "name": "stdout",
     "output_type": "stream",
     "text": [
      "0.009514388221095701\n"
     ]
    },
    {
     "data": {
      "application/vnd.jupyter.widget-view+json": {
       "model_id": "aa76db44d2fa45f796615dec4ad5f67b",
       "version_major": 2,
       "version_minor": 0
      },
      "text/plain": [
       "  0%|          | 0/2000 [00:00<?, ?it/s]"
      ]
     },
     "metadata": {},
     "output_type": "display_data"
    },
    {
     "name": "stdout",
     "output_type": "stream",
     "text": [
      "0.0073177856714634745 None\n"
     ]
    },
    {
     "data": {
      "application/vnd.jupyter.widget-view+json": {
       "model_id": "9efdd9001b924ba08f7731f6870473c4",
       "version_major": 2,
       "version_minor": 0
      },
      "text/plain": [
       "  0%|          | 0/2000 [00:00<?, ?it/s]"
      ]
     },
     "metadata": {},
     "output_type": "display_data"
    },
    {
     "name": "stdout",
     "output_type": "stream",
     "text": [
      "0.008230315919361927 None\n"
     ]
    },
    {
     "data": {
      "application/vnd.jupyter.widget-view+json": {
       "model_id": "cd46de5562284aad8376a8c2e7e97179",
       "version_major": 2,
       "version_minor": 0
      },
      "text/plain": [
       "  0%|          | 0/2000 [00:00<?, ?it/s]"
      ]
     },
     "metadata": {},
     "output_type": "display_data"
    },
    {
     "name": "stdout",
     "output_type": "stream",
     "text": [
      "0.00801066008265039 None\n"
     ]
    },
    {
     "data": {
      "application/vnd.jupyter.widget-view+json": {
       "model_id": "9805c12a360d4ff0878c54966a6b2650",
       "version_major": 2,
       "version_minor": 0
      },
      "text/plain": [
       "  0%|          | 0/2000 [00:00<?, ?it/s]"
      ]
     },
     "metadata": {},
     "output_type": "display_data"
    },
    {
     "name": "stdout",
     "output_type": "stream",
     "text": [
      "0.007916271153643429 None\n"
     ]
    },
    {
     "data": {
      "application/vnd.jupyter.widget-view+json": {
       "model_id": "b11c62b65a61431e945c15c64f8d908d",
       "version_major": 2,
       "version_minor": 0
      },
      "text/plain": [
       "  0%|          | 0/2000 [00:00<?, ?it/s]"
      ]
     },
     "metadata": {},
     "output_type": "display_data"
    },
    {
     "name": "stdout",
     "output_type": "stream",
     "text": [
      "0.007765021156276441 None\n"
     ]
    },
    {
     "data": {
      "application/vnd.jupyter.widget-view+json": {
       "model_id": "2e8ddb7953904cf6a77e919b2ad34f10",
       "version_major": 2,
       "version_minor": 0
      },
      "text/plain": [
       "  0%|          | 0/2000 [00:00<?, ?it/s]"
      ]
     },
     "metadata": {},
     "output_type": "display_data"
    },
    {
     "name": "stdout",
     "output_type": "stream",
     "text": [
      "0.007717563573261288 None\n"
     ]
    },
    {
     "data": {
      "application/vnd.jupyter.widget-view+json": {
       "model_id": "ae36dbf6f0724c2183171254ff52367f",
       "version_major": 2,
       "version_minor": 0
      },
      "text/plain": [
       "  0%|          | 0/2000 [00:00<?, ?it/s]"
      ]
     },
     "metadata": {},
     "output_type": "display_data"
    },
    {
     "name": "stdout",
     "output_type": "stream",
     "text": [
      "0.007648212791709639 None\n"
     ]
    },
    {
     "data": {
      "application/vnd.jupyter.widget-view+json": {
       "model_id": "09aa993bb01542e1a41ccfe50461f410",
       "version_major": 2,
       "version_minor": 0
      },
      "text/plain": [
       "  0%|          | 0/2000 [00:00<?, ?it/s]"
      ]
     },
     "metadata": {},
     "output_type": "display_data"
    },
    {
     "name": "stdout",
     "output_type": "stream",
     "text": [
      "0.007589485286542305 None\n"
     ]
    },
    {
     "data": {
      "application/vnd.jupyter.widget-view+json": {
       "model_id": "85f9d181bb0f41c0b8dc9928fffeb7e7",
       "version_major": 2,
       "version_minor": 0
      },
      "text/plain": [
       "  0%|          | 0/2000 [00:00<?, ?it/s]"
      ]
     },
     "metadata": {},
     "output_type": "display_data"
    },
    {
     "name": "stdout",
     "output_type": "stream",
     "text": [
      "0.007527688988829766 None\n"
     ]
    },
    {
     "data": {
      "application/vnd.jupyter.widget-view+json": {
       "model_id": "6dae97d471544b82b081092edc353bee",
       "version_major": 2,
       "version_minor": 0
      },
      "text/plain": [
       "  0%|          | 0/2000 [00:00<?, ?it/s]"
      ]
     },
     "metadata": {},
     "output_type": "display_data"
    },
    {
     "name": "stdout",
     "output_type": "stream",
     "text": [
      "0.007492469581646732 None\n"
     ]
    },
    {
     "data": {
      "application/vnd.jupyter.widget-view+json": {
       "model_id": "3fadf5510f2e49229774224aff151805",
       "version_major": 2,
       "version_minor": 0
      },
      "text/plain": [
       "  0%|          | 0/2000 [00:00<?, ?it/s]"
      ]
     },
     "metadata": {},
     "output_type": "display_data"
    },
    {
     "name": "stdout",
     "output_type": "stream",
     "text": [
      "0.007484610511578419 None\n"
     ]
    },
    {
     "data": {
      "application/vnd.jupyter.widget-view+json": {
       "model_id": "5af099ae68b94c21bddc41eac732f367",
       "version_major": 2,
       "version_minor": 0
      },
      "text/plain": [
       "  0%|          | 0/2000 [00:00<?, ?it/s]"
      ]
     },
     "metadata": {},
     "output_type": "display_data"
    },
    {
     "name": "stdout",
     "output_type": "stream",
     "text": [
      "0.007442004686008901 None\n"
     ]
    },
    {
     "data": {
      "application/vnd.jupyter.widget-view+json": {
       "model_id": "e165ca1831004172828d1d23b5d5cf61",
       "version_major": 2,
       "version_minor": 0
      },
      "text/plain": [
       "  0%|          | 0/2000 [00:00<?, ?it/s]"
      ]
     },
     "metadata": {},
     "output_type": "display_data"
    },
    {
     "name": "stdout",
     "output_type": "stream",
     "text": [
      "0.007427680828315004 None\n"
     ]
    },
    {
     "data": {
      "application/vnd.jupyter.widget-view+json": {
       "model_id": "a9fc6de3fdc940e9b35538b60ff134fa",
       "version_major": 2,
       "version_minor": 0
      },
      "text/plain": [
       "  0%|          | 0/2000 [00:00<?, ?it/s]"
      ]
     },
     "metadata": {},
     "output_type": "display_data"
    },
    {
     "name": "stdout",
     "output_type": "stream",
     "text": [
      "0.007405271350387106 None\n"
     ]
    },
    {
     "data": {
      "application/vnd.jupyter.widget-view+json": {
       "model_id": "f13f5e4cce77482ca2835f889fb82718",
       "version_major": 2,
       "version_minor": 0
      },
      "text/plain": [
       "  0%|          | 0/2000 [00:00<?, ?it/s]"
      ]
     },
     "metadata": {},
     "output_type": "display_data"
    },
    {
     "name": "stdout",
     "output_type": "stream",
     "text": [
      "0.007392027144304748 None\n"
     ]
    },
    {
     "data": {
      "application/vnd.jupyter.widget-view+json": {
       "model_id": "ccb78aafd97543fb9407295cf6126d91",
       "version_major": 2,
       "version_minor": 0
      },
      "text/plain": [
       "  0%|          | 0/2000 [00:00<?, ?it/s]"
      ]
     },
     "metadata": {},
     "output_type": "display_data"
    },
    {
     "name": "stdout",
     "output_type": "stream",
     "text": [
      "0.007377841347704974 None\n"
     ]
    },
    {
     "data": {
      "application/vnd.jupyter.widget-view+json": {
       "model_id": "c67ac05e7de54b43b68646e5560e52b1",
       "version_major": 2,
       "version_minor": 0
      },
      "text/plain": [
       "  0%|          | 0/2000 [00:00<?, ?it/s]"
      ]
     },
     "metadata": {},
     "output_type": "display_data"
    },
    {
     "name": "stdout",
     "output_type": "stream",
     "text": [
      "0.0073680924901413725 None\n"
     ]
    },
    {
     "data": {
      "application/vnd.jupyter.widget-view+json": {
       "model_id": "1fbeb629e1c049dda2fccd68fb3b9da7",
       "version_major": 2,
       "version_minor": 0
      },
      "text/plain": [
       "  0%|          | 0/2000 [00:00<?, ?it/s]"
      ]
     },
     "metadata": {},
     "output_type": "display_data"
    },
    {
     "name": "stdout",
     "output_type": "stream",
     "text": [
      "0.007373561307836103 None\n"
     ]
    }
   ],
   "source": [
    "n = 3\n",
    "d = 2**n\n",
    "\n",
    "model2_list = []\n",
    "\n",
    "for i in range(5):\n",
    "\n",
    "    inputs_map, inputs_spam, counts_list =  pickle.load(open(f\"../../data/threeQubits_PQC_5usDelay_belem_{i}.p\", \"rb\"))\n",
    "\n",
    "    targets_map = counts_to_probs(counts_list[:2000-6**n])\n",
    "    targets_spam = counts_to_probs(counts_list[2000-6**n:])\n",
    "\n",
    "    data = [inputs_spam, targets_spam, inputs_map, targets_map]\n",
    "\n",
    "    np.random.seed(42)\n",
    "    random.seed(42)\n",
    "    tf.random.set_seed(42)\n",
    "\n",
    "    model = regularized_fit(d, data, num_iter_spam=1000, num_iter_map = 2000, N = 500, start = 15)\n",
    "    model2_list.append(model)"
   ]
  },
  {
   "cell_type": "markdown",
   "metadata": {},
   "source": [
    "## 10 us Delay"
   ]
  },
  {
   "cell_type": "code",
   "execution_count": 186,
   "metadata": {},
   "outputs": [
    {
     "data": {
      "application/vnd.jupyter.widget-view+json": {
       "model_id": "0429bfa75c0348a28df4fc11f951bf26",
       "version_major": 2,
       "version_minor": 0
      },
      "text/plain": [
       "  0%|          | 0/300 [00:00<?, ?it/s]"
      ]
     },
     "metadata": {},
     "output_type": "display_data"
    },
    {
     "name": "stdout",
     "output_type": "stream",
     "text": [
      "3.806583148768781e-05\n"
     ]
    },
    {
     "data": {
      "application/vnd.jupyter.widget-view+json": {
       "model_id": "f739909a76db47e0819058c85c6fb352",
       "version_major": 2,
       "version_minor": 0
      },
      "text/plain": [
       "  0%|          | 0/1000 [00:00<?, ?it/s]"
      ]
     },
     "metadata": {},
     "output_type": "display_data"
    },
    {
     "name": "stdout",
     "output_type": "stream",
     "text": [
      "0.009911955845176169\n"
     ]
    },
    {
     "data": {
      "application/vnd.jupyter.widget-view+json": {
       "model_id": "dc046bebcd9b4c7f8a93fbb428c768d9",
       "version_major": 2,
       "version_minor": 0
      },
      "text/plain": [
       "  0%|          | 0/2000 [00:00<?, ?it/s]"
      ]
     },
     "metadata": {},
     "output_type": "display_data"
    },
    {
     "name": "stdout",
     "output_type": "stream",
     "text": [
      "0.007750089512595392 None\n"
     ]
    },
    {
     "data": {
      "application/vnd.jupyter.widget-view+json": {
       "model_id": "6dbcf996f93f42daaf059953aa6d9fc9",
       "version_major": 2,
       "version_minor": 0
      },
      "text/plain": [
       "  0%|          | 0/2000 [00:00<?, ?it/s]"
      ]
     },
     "metadata": {},
     "output_type": "display_data"
    },
    {
     "name": "stdout",
     "output_type": "stream",
     "text": [
      "0.008798709487843713 None\n"
     ]
    },
    {
     "data": {
      "application/vnd.jupyter.widget-view+json": {
       "model_id": "d8638a4d3f744604a5af4acad7e3ea70",
       "version_major": 2,
       "version_minor": 0
      },
      "text/plain": [
       "  0%|          | 0/2000 [00:00<?, ?it/s]"
      ]
     },
     "metadata": {},
     "output_type": "display_data"
    },
    {
     "name": "stdout",
     "output_type": "stream",
     "text": [
      "0.008604137037878665 None\n"
     ]
    },
    {
     "data": {
      "application/vnd.jupyter.widget-view+json": {
       "model_id": "bac449555dbc41ef97d8c6f8593afd53",
       "version_major": 2,
       "version_minor": 0
      },
      "text/plain": [
       "  0%|          | 0/2000 [00:00<?, ?it/s]"
      ]
     },
     "metadata": {},
     "output_type": "display_data"
    },
    {
     "name": "stdout",
     "output_type": "stream",
     "text": [
      "0.008424082738223895 None\n"
     ]
    },
    {
     "data": {
      "application/vnd.jupyter.widget-view+json": {
       "model_id": "3880a500e0c34a96933a53aea1b3ecca",
       "version_major": 2,
       "version_minor": 0
      },
      "text/plain": [
       "  0%|          | 0/2000 [00:00<?, ?it/s]"
      ]
     },
     "metadata": {},
     "output_type": "display_data"
    },
    {
     "name": "stdout",
     "output_type": "stream",
     "text": [
      "0.008332772732844763 None\n"
     ]
    },
    {
     "data": {
      "application/vnd.jupyter.widget-view+json": {
       "model_id": "24cfc561dc5f40138b24b7abf51819b4",
       "version_major": 2,
       "version_minor": 0
      },
      "text/plain": [
       "  0%|          | 0/2000 [00:00<?, ?it/s]"
      ]
     },
     "metadata": {},
     "output_type": "display_data"
    },
    {
     "name": "stdout",
     "output_type": "stream",
     "text": [
      "0.008229765651693649 None\n"
     ]
    },
    {
     "data": {
      "application/vnd.jupyter.widget-view+json": {
       "model_id": "66b254d9a40b46da9502497f665959ec",
       "version_major": 2,
       "version_minor": 0
      },
      "text/plain": [
       "  0%|          | 0/2000 [00:00<?, ?it/s]"
      ]
     },
     "metadata": {},
     "output_type": "display_data"
    },
    {
     "name": "stdout",
     "output_type": "stream",
     "text": [
      "0.008136024495473895 None\n"
     ]
    },
    {
     "data": {
      "application/vnd.jupyter.widget-view+json": {
       "model_id": "4b8c81fcd836402d907266e59b9e3f77",
       "version_major": 2,
       "version_minor": 0
      },
      "text/plain": [
       "  0%|          | 0/2000 [00:00<?, ?it/s]"
      ]
     },
     "metadata": {},
     "output_type": "display_data"
    },
    {
     "name": "stdout",
     "output_type": "stream",
     "text": [
      "0.00807336449416744 None\n"
     ]
    },
    {
     "data": {
      "application/vnd.jupyter.widget-view+json": {
       "model_id": "512de43b3380403a84a830c7b41e0ac3",
       "version_major": 2,
       "version_minor": 0
      },
      "text/plain": [
       "  0%|          | 0/2000 [00:00<?, ?it/s]"
      ]
     },
     "metadata": {},
     "output_type": "display_data"
    },
    {
     "name": "stdout",
     "output_type": "stream",
     "text": [
      "0.00798750528510152 None\n"
     ]
    },
    {
     "data": {
      "application/vnd.jupyter.widget-view+json": {
       "model_id": "cf8e9813a8334483a20b7b5bf9f5f778",
       "version_major": 2,
       "version_minor": 0
      },
      "text/plain": [
       "  0%|          | 0/2000 [00:00<?, ?it/s]"
      ]
     },
     "metadata": {},
     "output_type": "display_data"
    },
    {
     "name": "stdout",
     "output_type": "stream",
     "text": [
      "0.007963434820646877 None\n"
     ]
    },
    {
     "data": {
      "application/vnd.jupyter.widget-view+json": {
       "model_id": "13e3f4a1c928459583d4158214892201",
       "version_major": 2,
       "version_minor": 0
      },
      "text/plain": [
       "  0%|          | 0/2000 [00:00<?, ?it/s]"
      ]
     },
     "metadata": {},
     "output_type": "display_data"
    },
    {
     "name": "stdout",
     "output_type": "stream",
     "text": [
      "0.007954104885307274 None\n"
     ]
    },
    {
     "data": {
      "application/vnd.jupyter.widget-view+json": {
       "model_id": "14a2d8daf9b446b6831982e8480cdcb4",
       "version_major": 2,
       "version_minor": 0
      },
      "text/plain": [
       "  0%|          | 0/2000 [00:00<?, ?it/s]"
      ]
     },
     "metadata": {},
     "output_type": "display_data"
    },
    {
     "name": "stdout",
     "output_type": "stream",
     "text": [
      "0.007870753669840094 None\n"
     ]
    },
    {
     "data": {
      "application/vnd.jupyter.widget-view+json": {
       "model_id": "3843ea7d645c4c818c5cffc659f39389",
       "version_major": 2,
       "version_minor": 0
      },
      "text/plain": [
       "  0%|          | 0/2000 [00:00<?, ?it/s]"
      ]
     },
     "metadata": {},
     "output_type": "display_data"
    },
    {
     "name": "stdout",
     "output_type": "stream",
     "text": [
      "0.007880091509240903 None\n"
     ]
    },
    {
     "data": {
      "application/vnd.jupyter.widget-view+json": {
       "model_id": "d7c61373d8854891b995ec5bfca1f586",
       "version_major": 2,
       "version_minor": 0
      },
      "text/plain": [
       "  0%|          | 0/300 [00:00<?, ?it/s]"
      ]
     },
     "metadata": {},
     "output_type": "display_data"
    },
    {
     "name": "stdout",
     "output_type": "stream",
     "text": [
      "3.806583148768781e-05\n"
     ]
    },
    {
     "data": {
      "application/vnd.jupyter.widget-view+json": {
       "model_id": "27f82a7010e646caa5d58da7deaadfa0",
       "version_major": 2,
       "version_minor": 0
      },
      "text/plain": [
       "  0%|          | 0/1000 [00:00<?, ?it/s]"
      ]
     },
     "metadata": {},
     "output_type": "display_data"
    },
    {
     "name": "stdout",
     "output_type": "stream",
     "text": [
      "0.010180620808476362\n"
     ]
    },
    {
     "data": {
      "application/vnd.jupyter.widget-view+json": {
       "model_id": "7dde688557134c3e8e613b0318a0515f",
       "version_major": 2,
       "version_minor": 0
      },
      "text/plain": [
       "  0%|          | 0/2000 [00:00<?, ?it/s]"
      ]
     },
     "metadata": {},
     "output_type": "display_data"
    },
    {
     "name": "stdout",
     "output_type": "stream",
     "text": [
      "0.008347527941993917 None\n"
     ]
    },
    {
     "data": {
      "application/vnd.jupyter.widget-view+json": {
       "model_id": "3e5be23ce510495786a3e30d868f1868",
       "version_major": 2,
       "version_minor": 0
      },
      "text/plain": [
       "  0%|          | 0/2000 [00:00<?, ?it/s]"
      ]
     },
     "metadata": {},
     "output_type": "display_data"
    },
    {
     "name": "stdout",
     "output_type": "stream",
     "text": [
      "0.009401663486345892 None\n"
     ]
    },
    {
     "data": {
      "application/vnd.jupyter.widget-view+json": {
       "model_id": "f83cec91330444c19244e5617577a559",
       "version_major": 2,
       "version_minor": 0
      },
      "text/plain": [
       "  0%|          | 0/2000 [00:00<?, ?it/s]"
      ]
     },
     "metadata": {},
     "output_type": "display_data"
    },
    {
     "name": "stdout",
     "output_type": "stream",
     "text": [
      "0.009194362693856194 None\n"
     ]
    },
    {
     "data": {
      "application/vnd.jupyter.widget-view+json": {
       "model_id": "c9abeac22e20431885a5919390a85f43",
       "version_major": 2,
       "version_minor": 0
      },
      "text/plain": [
       "  0%|          | 0/2000 [00:00<?, ?it/s]"
      ]
     },
     "metadata": {},
     "output_type": "display_data"
    },
    {
     "name": "stdout",
     "output_type": "stream",
     "text": [
      "0.00909748701559405 None\n"
     ]
    },
    {
     "data": {
      "application/vnd.jupyter.widget-view+json": {
       "model_id": "4b505061a2e84896bc6e27754c67035a",
       "version_major": 2,
       "version_minor": 0
      },
      "text/plain": [
       "  0%|          | 0/2000 [00:00<?, ?it/s]"
      ]
     },
     "metadata": {},
     "output_type": "display_data"
    },
    {
     "name": "stdout",
     "output_type": "stream",
     "text": [
      "0.008937154938029813 None\n"
     ]
    },
    {
     "data": {
      "application/vnd.jupyter.widget-view+json": {
       "model_id": "b1dd94be049b42a69ce8c8b4ece39cac",
       "version_major": 2,
       "version_minor": 0
      },
      "text/plain": [
       "  0%|          | 0/2000 [00:00<?, ?it/s]"
      ]
     },
     "metadata": {},
     "output_type": "display_data"
    },
    {
     "name": "stdout",
     "output_type": "stream",
     "text": [
      "0.008782718391360333 None\n"
     ]
    },
    {
     "data": {
      "application/vnd.jupyter.widget-view+json": {
       "model_id": "0e239bece2b24ec698eb8239be943899",
       "version_major": 2,
       "version_minor": 0
      },
      "text/plain": [
       "  0%|          | 0/2000 [00:00<?, ?it/s]"
      ]
     },
     "metadata": {},
     "output_type": "display_data"
    },
    {
     "name": "stdout",
     "output_type": "stream",
     "text": [
      "0.008731397465333308 None\n"
     ]
    },
    {
     "data": {
      "application/vnd.jupyter.widget-view+json": {
       "model_id": "515395290c3c432f952a5c4d21a61b9c",
       "version_major": 2,
       "version_minor": 0
      },
      "text/plain": [
       "  0%|          | 0/2000 [00:00<?, ?it/s]"
      ]
     },
     "metadata": {},
     "output_type": "display_data"
    },
    {
     "name": "stdout",
     "output_type": "stream",
     "text": [
      "0.00867963896405925 None\n"
     ]
    },
    {
     "data": {
      "application/vnd.jupyter.widget-view+json": {
       "model_id": "2588eaca9f1c47b8ace00bae1ab33790",
       "version_major": 2,
       "version_minor": 0
      },
      "text/plain": [
       "  0%|          | 0/2000 [00:00<?, ?it/s]"
      ]
     },
     "metadata": {},
     "output_type": "display_data"
    },
    {
     "name": "stdout",
     "output_type": "stream",
     "text": [
      "0.008628561929274721 None\n"
     ]
    },
    {
     "data": {
      "application/vnd.jupyter.widget-view+json": {
       "model_id": "1ff8ca0002a64b43ae594e4f58544e98",
       "version_major": 2,
       "version_minor": 0
      },
      "text/plain": [
       "  0%|          | 0/2000 [00:00<?, ?it/s]"
      ]
     },
     "metadata": {},
     "output_type": "display_data"
    },
    {
     "name": "stdout",
     "output_type": "stream",
     "text": [
      "0.008560116202307073 None\n"
     ]
    },
    {
     "data": {
      "application/vnd.jupyter.widget-view+json": {
       "model_id": "a6ee5f04c1a24b8b84626ac635eea66a",
       "version_major": 2,
       "version_minor": 0
      },
      "text/plain": [
       "  0%|          | 0/2000 [00:00<?, ?it/s]"
      ]
     },
     "metadata": {},
     "output_type": "display_data"
    },
    {
     "name": "stdout",
     "output_type": "stream",
     "text": [
      "0.008549260159496573 None\n"
     ]
    },
    {
     "data": {
      "application/vnd.jupyter.widget-view+json": {
       "model_id": "0773cfcb6d5b4c70a014a31ad18ae2da",
       "version_major": 2,
       "version_minor": 0
      },
      "text/plain": [
       "  0%|          | 0/2000 [00:00<?, ?it/s]"
      ]
     },
     "metadata": {},
     "output_type": "display_data"
    },
    {
     "name": "stdout",
     "output_type": "stream",
     "text": [
      "0.008480392986131235 None\n"
     ]
    },
    {
     "data": {
      "application/vnd.jupyter.widget-view+json": {
       "model_id": "88681d32470a400298c36e22f828c71d",
       "version_major": 2,
       "version_minor": 0
      },
      "text/plain": [
       "  0%|          | 0/2000 [00:00<?, ?it/s]"
      ]
     },
     "metadata": {},
     "output_type": "display_data"
    },
    {
     "name": "stdout",
     "output_type": "stream",
     "text": [
      "0.008472998669212242 None\n"
     ]
    },
    {
     "data": {
      "application/vnd.jupyter.widget-view+json": {
       "model_id": "41621fede6b048a2b4e3a4322499ee36",
       "version_major": 2,
       "version_minor": 0
      },
      "text/plain": [
       "  0%|          | 0/2000 [00:00<?, ?it/s]"
      ]
     },
     "metadata": {},
     "output_type": "display_data"
    },
    {
     "name": "stdout",
     "output_type": "stream",
     "text": [
      "0.008434807113291368 None\n"
     ]
    },
    {
     "data": {
      "application/vnd.jupyter.widget-view+json": {
       "model_id": "c58d8d49c26e4b88a505c3cc134290a4",
       "version_major": 2,
       "version_minor": 0
      },
      "text/plain": [
       "  0%|          | 0/2000 [00:00<?, ?it/s]"
      ]
     },
     "metadata": {},
     "output_type": "display_data"
    },
    {
     "name": "stdout",
     "output_type": "stream",
     "text": [
      "0.00842931953912017 None\n"
     ]
    },
    {
     "data": {
      "application/vnd.jupyter.widget-view+json": {
       "model_id": "c0fa75f2fbaa45918d5ff3b746e7e902",
       "version_major": 2,
       "version_minor": 0
      },
      "text/plain": [
       "  0%|          | 0/2000 [00:00<?, ?it/s]"
      ]
     },
     "metadata": {},
     "output_type": "display_data"
    },
    {
     "name": "stdout",
     "output_type": "stream",
     "text": [
      "0.008413283895045524 None\n"
     ]
    },
    {
     "data": {
      "application/vnd.jupyter.widget-view+json": {
       "model_id": "81e283684adb466987b1efe0e4ad5269",
       "version_major": 2,
       "version_minor": 0
      },
      "text/plain": [
       "  0%|          | 0/2000 [00:00<?, ?it/s]"
      ]
     },
     "metadata": {},
     "output_type": "display_data"
    },
    {
     "name": "stdout",
     "output_type": "stream",
     "text": [
      "0.00838753563362809 None\n"
     ]
    },
    {
     "data": {
      "application/vnd.jupyter.widget-view+json": {
       "model_id": "42283493a41d43c6ba97220b8f400267",
       "version_major": 2,
       "version_minor": 0
      },
      "text/plain": [
       "  0%|          | 0/2000 [00:00<?, ?it/s]"
      ]
     },
     "metadata": {},
     "output_type": "display_data"
    },
    {
     "name": "stdout",
     "output_type": "stream",
     "text": [
      "0.008387730978871417 None\n"
     ]
    },
    {
     "data": {
      "application/vnd.jupyter.widget-view+json": {
       "model_id": "d2c3501f3e0644f8b100a949215e1469",
       "version_major": 2,
       "version_minor": 0
      },
      "text/plain": [
       "  0%|          | 0/300 [00:00<?, ?it/s]"
      ]
     },
     "metadata": {},
     "output_type": "display_data"
    },
    {
     "name": "stdout",
     "output_type": "stream",
     "text": [
      "3.806583148768781e-05\n"
     ]
    },
    {
     "data": {
      "application/vnd.jupyter.widget-view+json": {
       "model_id": "0b37190ffee24f94886201e72d6c1d9f",
       "version_major": 2,
       "version_minor": 0
      },
      "text/plain": [
       "  0%|          | 0/1000 [00:00<?, ?it/s]"
      ]
     },
     "metadata": {},
     "output_type": "display_data"
    },
    {
     "name": "stdout",
     "output_type": "stream",
     "text": [
      "0.009231679792540333\n"
     ]
    },
    {
     "data": {
      "application/vnd.jupyter.widget-view+json": {
       "model_id": "ffba3add16324c2bb79cfdcfac9756b2",
       "version_major": 2,
       "version_minor": 0
      },
      "text/plain": [
       "  0%|          | 0/2000 [00:00<?, ?it/s]"
      ]
     },
     "metadata": {},
     "output_type": "display_data"
    },
    {
     "name": "stdout",
     "output_type": "stream",
     "text": [
      "0.010587690151822425 None\n"
     ]
    },
    {
     "data": {
      "application/vnd.jupyter.widget-view+json": {
       "model_id": "1772b6141c2d42909986bedb4263a092",
       "version_major": 2,
       "version_minor": 0
      },
      "text/plain": [
       "  0%|          | 0/2000 [00:00<?, ?it/s]"
      ]
     },
     "metadata": {},
     "output_type": "display_data"
    },
    {
     "name": "stdout",
     "output_type": "stream",
     "text": [
      "0.011811107558969027 None\n"
     ]
    },
    {
     "data": {
      "application/vnd.jupyter.widget-view+json": {
       "model_id": "476f24f9a1f642eba36a1910a4043680",
       "version_major": 2,
       "version_minor": 0
      },
      "text/plain": [
       "  0%|          | 0/2000 [00:00<?, ?it/s]"
      ]
     },
     "metadata": {},
     "output_type": "display_data"
    },
    {
     "name": "stdout",
     "output_type": "stream",
     "text": [
      "0.011512142802675608 None\n"
     ]
    },
    {
     "data": {
      "application/vnd.jupyter.widget-view+json": {
       "model_id": "ef3c4267837946d4b0a8938b480f40ae",
       "version_major": 2,
       "version_minor": 0
      },
      "text/plain": [
       "  0%|          | 0/2000 [00:00<?, ?it/s]"
      ]
     },
     "metadata": {},
     "output_type": "display_data"
    },
    {
     "name": "stdout",
     "output_type": "stream",
     "text": [
      "0.011380327823526404 None\n"
     ]
    },
    {
     "data": {
      "application/vnd.jupyter.widget-view+json": {
       "model_id": "7d8483c68c184d0887e12221a9bcefc4",
       "version_major": 2,
       "version_minor": 0
      },
      "text/plain": [
       "  0%|          | 0/2000 [00:00<?, ?it/s]"
      ]
     },
     "metadata": {},
     "output_type": "display_data"
    },
    {
     "name": "stdout",
     "output_type": "stream",
     "text": [
      "0.011206136045579547 None\n"
     ]
    },
    {
     "data": {
      "application/vnd.jupyter.widget-view+json": {
       "model_id": "a6ed96b1eddc4356bdd580f339b3656d",
       "version_major": 2,
       "version_minor": 0
      },
      "text/plain": [
       "  0%|          | 0/2000 [00:00<?, ?it/s]"
      ]
     },
     "metadata": {},
     "output_type": "display_data"
    },
    {
     "name": "stdout",
     "output_type": "stream",
     "text": [
      "0.011112081007763196 None\n"
     ]
    },
    {
     "data": {
      "application/vnd.jupyter.widget-view+json": {
       "model_id": "fc932dd48ad843c589e4e3aac97cd078",
       "version_major": 2,
       "version_minor": 0
      },
      "text/plain": [
       "  0%|          | 0/2000 [00:00<?, ?it/s]"
      ]
     },
     "metadata": {},
     "output_type": "display_data"
    },
    {
     "name": "stdout",
     "output_type": "stream",
     "text": [
      "0.011045828255698834 None\n"
     ]
    },
    {
     "data": {
      "application/vnd.jupyter.widget-view+json": {
       "model_id": "3d1dee671d7a4604a19af7f403f99ceb",
       "version_major": 2,
       "version_minor": 0
      },
      "text/plain": [
       "  0%|          | 0/2000 [00:00<?, ?it/s]"
      ]
     },
     "metadata": {},
     "output_type": "display_data"
    },
    {
     "name": "stdout",
     "output_type": "stream",
     "text": [
      "0.010956330232878175 None\n"
     ]
    },
    {
     "data": {
      "application/vnd.jupyter.widget-view+json": {
       "model_id": "139a20a59e984941b80085e46a44a2f8",
       "version_major": 2,
       "version_minor": 0
      },
      "text/plain": [
       "  0%|          | 0/2000 [00:00<?, ?it/s]"
      ]
     },
     "metadata": {},
     "output_type": "display_data"
    },
    {
     "name": "stdout",
     "output_type": "stream",
     "text": [
      "0.010869714307239802 None\n"
     ]
    },
    {
     "data": {
      "application/vnd.jupyter.widget-view+json": {
       "model_id": "6dc86828ad5a47ce833dc4833c57b208",
       "version_major": 2,
       "version_minor": 0
      },
      "text/plain": [
       "  0%|          | 0/2000 [00:00<?, ?it/s]"
      ]
     },
     "metadata": {},
     "output_type": "display_data"
    },
    {
     "name": "stdout",
     "output_type": "stream",
     "text": [
      "0.010843987955145505 None\n"
     ]
    },
    {
     "data": {
      "application/vnd.jupyter.widget-view+json": {
       "model_id": "e5c90736ecc94542a1ea91b49ed8190d",
       "version_major": 2,
       "version_minor": 0
      },
      "text/plain": [
       "  0%|          | 0/2000 [00:00<?, ?it/s]"
      ]
     },
     "metadata": {},
     "output_type": "display_data"
    },
    {
     "name": "stdout",
     "output_type": "stream",
     "text": [
      "0.010796820782476778 None\n"
     ]
    },
    {
     "data": {
      "application/vnd.jupyter.widget-view+json": {
       "model_id": "949d2f5360bd47299176fa645cecf99d",
       "version_major": 2,
       "version_minor": 0
      },
      "text/plain": [
       "  0%|          | 0/2000 [00:00<?, ?it/s]"
      ]
     },
     "metadata": {},
     "output_type": "display_data"
    },
    {
     "name": "stdout",
     "output_type": "stream",
     "text": [
      "0.010726360027511681 None\n"
     ]
    },
    {
     "data": {
      "application/vnd.jupyter.widget-view+json": {
       "model_id": "c072d1e0aa7e4c0584e8559d346942b5",
       "version_major": 2,
       "version_minor": 0
      },
      "text/plain": [
       "  0%|          | 0/2000 [00:00<?, ?it/s]"
      ]
     },
     "metadata": {},
     "output_type": "display_data"
    },
    {
     "name": "stdout",
     "output_type": "stream",
     "text": [
      "0.01071930553160019 None\n"
     ]
    },
    {
     "data": {
      "application/vnd.jupyter.widget-view+json": {
       "model_id": "c844f4a98a94412689195355e62482a4",
       "version_major": 2,
       "version_minor": 0
      },
      "text/plain": [
       "  0%|          | 0/2000 [00:00<?, ?it/s]"
      ]
     },
     "metadata": {},
     "output_type": "display_data"
    },
    {
     "name": "stdout",
     "output_type": "stream",
     "text": [
      "0.010687887604746923 None\n"
     ]
    },
    {
     "data": {
      "application/vnd.jupyter.widget-view+json": {
       "model_id": "a8ce7f38a49346f4913ed0065bbd6a6f",
       "version_major": 2,
       "version_minor": 0
      },
      "text/plain": [
       "  0%|          | 0/2000 [00:00<?, ?it/s]"
      ]
     },
     "metadata": {},
     "output_type": "display_data"
    },
    {
     "name": "stdout",
     "output_type": "stream",
     "text": [
      "0.010664994266013195 None\n"
     ]
    },
    {
     "data": {
      "application/vnd.jupyter.widget-view+json": {
       "model_id": "101454406d114f79ba4f3a40de43e03a",
       "version_major": 2,
       "version_minor": 0
      },
      "text/plain": [
       "  0%|          | 0/2000 [00:00<?, ?it/s]"
      ]
     },
     "metadata": {},
     "output_type": "display_data"
    },
    {
     "name": "stdout",
     "output_type": "stream",
     "text": [
      "0.010658061641960785 None\n"
     ]
    },
    {
     "data": {
      "application/vnd.jupyter.widget-view+json": {
       "model_id": "dff6c01e9bef4557806c85c44e99f2e1",
       "version_major": 2,
       "version_minor": 0
      },
      "text/plain": [
       "  0%|          | 0/2000 [00:00<?, ?it/s]"
      ]
     },
     "metadata": {},
     "output_type": "display_data"
    },
    {
     "name": "stdout",
     "output_type": "stream",
     "text": [
      "0.010635363716100426 None\n"
     ]
    },
    {
     "data": {
      "application/vnd.jupyter.widget-view+json": {
       "model_id": "ddeebc6eff954774aff472469de98398",
       "version_major": 2,
       "version_minor": 0
      },
      "text/plain": [
       "  0%|          | 0/2000 [00:00<?, ?it/s]"
      ]
     },
     "metadata": {},
     "output_type": "display_data"
    },
    {
     "name": "stdout",
     "output_type": "stream",
     "text": [
      "0.010630407353662509 None\n"
     ]
    },
    {
     "data": {
      "application/vnd.jupyter.widget-view+json": {
       "model_id": "19bbaee099f648d7bf5fa6aad8e1be7e",
       "version_major": 2,
       "version_minor": 0
      },
      "text/plain": [
       "  0%|          | 0/2000 [00:00<?, ?it/s]"
      ]
     },
     "metadata": {},
     "output_type": "display_data"
    },
    {
     "name": "stdout",
     "output_type": "stream",
     "text": [
      "0.010638737824547896 None\n"
     ]
    },
    {
     "data": {
      "application/vnd.jupyter.widget-view+json": {
       "model_id": "7e8a2f9570df4810a7994161d45a9dda",
       "version_major": 2,
       "version_minor": 0
      },
      "text/plain": [
       "  0%|          | 0/300 [00:00<?, ?it/s]"
      ]
     },
     "metadata": {},
     "output_type": "display_data"
    },
    {
     "name": "stdout",
     "output_type": "stream",
     "text": [
      "3.806583148768781e-05\n"
     ]
    },
    {
     "data": {
      "application/vnd.jupyter.widget-view+json": {
       "model_id": "81684206e99b403aaf5215c5fdedff2c",
       "version_major": 2,
       "version_minor": 0
      },
      "text/plain": [
       "  0%|          | 0/1000 [00:00<?, ?it/s]"
      ]
     },
     "metadata": {},
     "output_type": "display_data"
    },
    {
     "name": "stdout",
     "output_type": "stream",
     "text": [
      "0.008893707973330382\n"
     ]
    },
    {
     "data": {
      "application/vnd.jupyter.widget-view+json": {
       "model_id": "7d3b372f49e9469789a52f2274140612",
       "version_major": 2,
       "version_minor": 0
      },
      "text/plain": [
       "  0%|          | 0/2000 [00:00<?, ?it/s]"
      ]
     },
     "metadata": {},
     "output_type": "display_data"
    },
    {
     "name": "stdout",
     "output_type": "stream",
     "text": [
      "0.008767067882523839 None\n"
     ]
    },
    {
     "data": {
      "application/vnd.jupyter.widget-view+json": {
       "model_id": "67c6f1222ed74b90836d0d6b4d148e98",
       "version_major": 2,
       "version_minor": 0
      },
      "text/plain": [
       "  0%|          | 0/2000 [00:00<?, ?it/s]"
      ]
     },
     "metadata": {},
     "output_type": "display_data"
    },
    {
     "name": "stdout",
     "output_type": "stream",
     "text": [
      "0.010157685412212987 None\n"
     ]
    },
    {
     "data": {
      "application/vnd.jupyter.widget-view+json": {
       "model_id": "3f9111301bbc4217900b03e911eb3d3d",
       "version_major": 2,
       "version_minor": 0
      },
      "text/plain": [
       "  0%|          | 0/2000 [00:00<?, ?it/s]"
      ]
     },
     "metadata": {},
     "output_type": "display_data"
    },
    {
     "name": "stdout",
     "output_type": "stream",
     "text": [
      "0.009945585666543171 None\n"
     ]
    },
    {
     "data": {
      "application/vnd.jupyter.widget-view+json": {
       "model_id": "e09cac46d34a4d2b9ba17006652a03f7",
       "version_major": 2,
       "version_minor": 0
      },
      "text/plain": [
       "  0%|          | 0/2000 [00:00<?, ?it/s]"
      ]
     },
     "metadata": {},
     "output_type": "display_data"
    },
    {
     "name": "stdout",
     "output_type": "stream",
     "text": [
      "0.009778464868535603 None\n"
     ]
    },
    {
     "data": {
      "application/vnd.jupyter.widget-view+json": {
       "model_id": "306e6850e3bc49bb9f011438187f5aaf",
       "version_major": 2,
       "version_minor": 0
      },
      "text/plain": [
       "  0%|          | 0/2000 [00:00<?, ?it/s]"
      ]
     },
     "metadata": {},
     "output_type": "display_data"
    },
    {
     "name": "stdout",
     "output_type": "stream",
     "text": [
      "0.009525322340879296 None\n"
     ]
    },
    {
     "data": {
      "application/vnd.jupyter.widget-view+json": {
       "model_id": "8a75ee465fc34118aa2cb74b3e055dcb",
       "version_major": 2,
       "version_minor": 0
      },
      "text/plain": [
       "  0%|          | 0/2000 [00:00<?, ?it/s]"
      ]
     },
     "metadata": {},
     "output_type": "display_data"
    },
    {
     "name": "stdout",
     "output_type": "stream",
     "text": [
      "0.00936102317743776 None\n"
     ]
    },
    {
     "data": {
      "application/vnd.jupyter.widget-view+json": {
       "model_id": "0cb5d0e41ef8485fb76326de000f6e5f",
       "version_major": 2,
       "version_minor": 0
      },
      "text/plain": [
       "  0%|          | 0/2000 [00:00<?, ?it/s]"
      ]
     },
     "metadata": {},
     "output_type": "display_data"
    },
    {
     "name": "stdout",
     "output_type": "stream",
     "text": [
      "0.00930568667321236 None\n"
     ]
    },
    {
     "data": {
      "application/vnd.jupyter.widget-view+json": {
       "model_id": "f19c3dbde44c42a0a7a22c94a07554a1",
       "version_major": 2,
       "version_minor": 0
      },
      "text/plain": [
       "  0%|          | 0/2000 [00:00<?, ?it/s]"
      ]
     },
     "metadata": {},
     "output_type": "display_data"
    },
    {
     "name": "stdout",
     "output_type": "stream",
     "text": [
      "0.009192835147635135 None\n"
     ]
    },
    {
     "data": {
      "application/vnd.jupyter.widget-view+json": {
       "model_id": "bf61d08ae59648708e8034bd3a2b6c3f",
       "version_major": 2,
       "version_minor": 0
      },
      "text/plain": [
       "  0%|          | 0/2000 [00:00<?, ?it/s]"
      ]
     },
     "metadata": {},
     "output_type": "display_data"
    },
    {
     "name": "stdout",
     "output_type": "stream",
     "text": [
      "0.009113282786704119 None\n"
     ]
    },
    {
     "data": {
      "application/vnd.jupyter.widget-view+json": {
       "model_id": "10ae64601fcd4ed3b6d6ffb81baf073b",
       "version_major": 2,
       "version_minor": 0
      },
      "text/plain": [
       "  0%|          | 0/2000 [00:00<?, ?it/s]"
      ]
     },
     "metadata": {},
     "output_type": "display_data"
    },
    {
     "name": "stdout",
     "output_type": "stream",
     "text": [
      "0.009036452730990602 None\n"
     ]
    },
    {
     "data": {
      "application/vnd.jupyter.widget-view+json": {
       "model_id": "286fc3979b4e422e846d29022df27569",
       "version_major": 2,
       "version_minor": 0
      },
      "text/plain": [
       "  0%|          | 0/2000 [00:00<?, ?it/s]"
      ]
     },
     "metadata": {},
     "output_type": "display_data"
    },
    {
     "name": "stdout",
     "output_type": "stream",
     "text": [
      "0.009026260162657953 None\n"
     ]
    },
    {
     "data": {
      "application/vnd.jupyter.widget-view+json": {
       "model_id": "bd694cbaa9ca411eb9cb28c52c0a8c4e",
       "version_major": 2,
       "version_minor": 0
      },
      "text/plain": [
       "  0%|          | 0/300 [00:00<?, ?it/s]"
      ]
     },
     "metadata": {},
     "output_type": "display_data"
    },
    {
     "name": "stdout",
     "output_type": "stream",
     "text": [
      "3.806583148768781e-05\n"
     ]
    },
    {
     "data": {
      "application/vnd.jupyter.widget-view+json": {
       "model_id": "5c92d74258cd4ff4af57384687c45466",
       "version_major": 2,
       "version_minor": 0
      },
      "text/plain": [
       "  0%|          | 0/1000 [00:00<?, ?it/s]"
      ]
     },
     "metadata": {},
     "output_type": "display_data"
    },
    {
     "name": "stdout",
     "output_type": "stream",
     "text": [
      "0.008840330467105709\n"
     ]
    },
    {
     "data": {
      "application/vnd.jupyter.widget-view+json": {
       "model_id": "dda3ce6ae94c40829ed9dd3b59bd2e34",
       "version_major": 2,
       "version_minor": 0
      },
      "text/plain": [
       "  0%|          | 0/2000 [00:00<?, ?it/s]"
      ]
     },
     "metadata": {},
     "output_type": "display_data"
    },
    {
     "name": "stdout",
     "output_type": "stream",
     "text": [
      "0.011114448627991415 None\n"
     ]
    },
    {
     "data": {
      "application/vnd.jupyter.widget-view+json": {
       "model_id": "3447a632665240468456c4ee47f5471f",
       "version_major": 2,
       "version_minor": 0
      },
      "text/plain": [
       "  0%|          | 0/2000 [00:00<?, ?it/s]"
      ]
     },
     "metadata": {},
     "output_type": "display_data"
    },
    {
     "name": "stdout",
     "output_type": "stream",
     "text": [
      "0.0127020706824638 None\n"
     ]
    },
    {
     "data": {
      "application/vnd.jupyter.widget-view+json": {
       "model_id": "23028a929f30404595fbe0c6399a9976",
       "version_major": 2,
       "version_minor": 0
      },
      "text/plain": [
       "  0%|          | 0/2000 [00:00<?, ?it/s]"
      ]
     },
     "metadata": {},
     "output_type": "display_data"
    },
    {
     "name": "stdout",
     "output_type": "stream",
     "text": [
      "0.012395553044578475 None\n"
     ]
    },
    {
     "data": {
      "application/vnd.jupyter.widget-view+json": {
       "model_id": "e9ab944472814358b5599ea89faf2992",
       "version_major": 2,
       "version_minor": 0
      },
      "text/plain": [
       "  0%|          | 0/2000 [00:00<?, ?it/s]"
      ]
     },
     "metadata": {},
     "output_type": "display_data"
    },
    {
     "name": "stdout",
     "output_type": "stream",
     "text": [
      "0.012166733584200744 None\n"
     ]
    },
    {
     "data": {
      "application/vnd.jupyter.widget-view+json": {
       "model_id": "33d96232fbd04f8e8c1148d19fd9ad55",
       "version_major": 2,
       "version_minor": 0
      },
      "text/plain": [
       "  0%|          | 0/2000 [00:00<?, ?it/s]"
      ]
     },
     "metadata": {},
     "output_type": "display_data"
    },
    {
     "name": "stdout",
     "output_type": "stream",
     "text": [
      "0.011947224752047904 None\n"
     ]
    },
    {
     "data": {
      "application/vnd.jupyter.widget-view+json": {
       "model_id": "7e8f1907f93f483b97218d9c338adc5d",
       "version_major": 2,
       "version_minor": 0
      },
      "text/plain": [
       "  0%|          | 0/2000 [00:00<?, ?it/s]"
      ]
     },
     "metadata": {},
     "output_type": "display_data"
    },
    {
     "name": "stdout",
     "output_type": "stream",
     "text": [
      "0.011767767805724045 None\n"
     ]
    },
    {
     "data": {
      "application/vnd.jupyter.widget-view+json": {
       "model_id": "e3a7d5cdcb0048cdbb125130328fc5fe",
       "version_major": 2,
       "version_minor": 0
      },
      "text/plain": [
       "  0%|          | 0/2000 [00:00<?, ?it/s]"
      ]
     },
     "metadata": {},
     "output_type": "display_data"
    },
    {
     "name": "stdout",
     "output_type": "stream",
     "text": [
      "0.011686744917088621 None\n"
     ]
    },
    {
     "data": {
      "application/vnd.jupyter.widget-view+json": {
       "model_id": "50153cf34a6f497fb5507cc3ba67893b",
       "version_major": 2,
       "version_minor": 0
      },
      "text/plain": [
       "  0%|          | 0/2000 [00:00<?, ?it/s]"
      ]
     },
     "metadata": {},
     "output_type": "display_data"
    },
    {
     "name": "stdout",
     "output_type": "stream",
     "text": [
      "0.01164363765778298 None\n"
     ]
    },
    {
     "data": {
      "application/vnd.jupyter.widget-view+json": {
       "model_id": "d1f922344d514c838f7a4af6c8a0032a",
       "version_major": 2,
       "version_minor": 0
      },
      "text/plain": [
       "  0%|          | 0/2000 [00:00<?, ?it/s]"
      ]
     },
     "metadata": {},
     "output_type": "display_data"
    },
    {
     "name": "stdout",
     "output_type": "stream",
     "text": [
      "0.011445169461937368 None\n"
     ]
    },
    {
     "data": {
      "application/vnd.jupyter.widget-view+json": {
       "model_id": "c7bb15bdcb47489483b02a55a05da1fd",
       "version_major": 2,
       "version_minor": 0
      },
      "text/plain": [
       "  0%|          | 0/2000 [00:00<?, ?it/s]"
      ]
     },
     "metadata": {},
     "output_type": "display_data"
    },
    {
     "name": "stdout",
     "output_type": "stream",
     "text": [
      "0.01142087468996456 None\n"
     ]
    },
    {
     "data": {
      "application/vnd.jupyter.widget-view+json": {
       "model_id": "be3ab7d397184840b24a509106f07fee",
       "version_major": 2,
       "version_minor": 0
      },
      "text/plain": [
       "  0%|          | 0/2000 [00:00<?, ?it/s]"
      ]
     },
     "metadata": {},
     "output_type": "display_data"
    },
    {
     "name": "stdout",
     "output_type": "stream",
     "text": [
      "0.011360103366171085 None\n"
     ]
    },
    {
     "data": {
      "application/vnd.jupyter.widget-view+json": {
       "model_id": "4cb548d4c2f94e4b8ac8d9562627daa2",
       "version_major": 2,
       "version_minor": 0
      },
      "text/plain": [
       "  0%|          | 0/2000 [00:00<?, ?it/s]"
      ]
     },
     "metadata": {},
     "output_type": "display_data"
    },
    {
     "name": "stdout",
     "output_type": "stream",
     "text": [
      "0.01132627750518941 None\n"
     ]
    },
    {
     "data": {
      "application/vnd.jupyter.widget-view+json": {
       "model_id": "dff599a54c2e490f9e7c7c4b801f3b9d",
       "version_major": 2,
       "version_minor": 0
      },
      "text/plain": [
       "  0%|          | 0/2000 [00:00<?, ?it/s]"
      ]
     },
     "metadata": {},
     "output_type": "display_data"
    },
    {
     "name": "stdout",
     "output_type": "stream",
     "text": [
      "0.01125360356228135 None\n"
     ]
    },
    {
     "data": {
      "application/vnd.jupyter.widget-view+json": {
       "model_id": "516ce18d01dd48e2a97782fd8ad0b4a0",
       "version_major": 2,
       "version_minor": 0
      },
      "text/plain": [
       "  0%|          | 0/2000 [00:00<?, ?it/s]"
      ]
     },
     "metadata": {},
     "output_type": "display_data"
    },
    {
     "name": "stdout",
     "output_type": "stream",
     "text": [
      "0.011243454676548382 None\n"
     ]
    },
    {
     "data": {
      "application/vnd.jupyter.widget-view+json": {
       "model_id": "530d61cc1e57470ba940d2571a20fafa",
       "version_major": 2,
       "version_minor": 0
      },
      "text/plain": [
       "  0%|          | 0/2000 [00:00<?, ?it/s]"
      ]
     },
     "metadata": {},
     "output_type": "display_data"
    },
    {
     "name": "stdout",
     "output_type": "stream",
     "text": [
      "0.01123256802208726 None\n"
     ]
    },
    {
     "data": {
      "application/vnd.jupyter.widget-view+json": {
       "model_id": "4c8b19734d66449587353d8d988761d0",
       "version_major": 2,
       "version_minor": 0
      },
      "text/plain": [
       "  0%|          | 0/2000 [00:00<?, ?it/s]"
      ]
     },
     "metadata": {},
     "output_type": "display_data"
    },
    {
     "name": "stdout",
     "output_type": "stream",
     "text": [
      "0.011191833280317634 None\n"
     ]
    },
    {
     "data": {
      "application/vnd.jupyter.widget-view+json": {
       "model_id": "cb9837010b9c4cea8b6e52f1cd319eac",
       "version_major": 2,
       "version_minor": 0
      },
      "text/plain": [
       "  0%|          | 0/2000 [00:00<?, ?it/s]"
      ]
     },
     "metadata": {},
     "output_type": "display_data"
    },
    {
     "name": "stdout",
     "output_type": "stream",
     "text": [
      "0.011187516214637127 None\n"
     ]
    },
    {
     "data": {
      "application/vnd.jupyter.widget-view+json": {
       "model_id": "c1fd8cc47b094e98ae9ea2db6539e442",
       "version_major": 2,
       "version_minor": 0
      },
      "text/plain": [
       "  0%|          | 0/2000 [00:00<?, ?it/s]"
      ]
     },
     "metadata": {},
     "output_type": "display_data"
    },
    {
     "name": "stdout",
     "output_type": "stream",
     "text": [
      "0.011171078381014573 None\n"
     ]
    },
    {
     "data": {
      "application/vnd.jupyter.widget-view+json": {
       "model_id": "fddac221fc1f4db0b1c9e08865d3a12f",
       "version_major": 2,
       "version_minor": 0
      },
      "text/plain": [
       "  0%|          | 0/2000 [00:00<?, ?it/s]"
      ]
     },
     "metadata": {},
     "output_type": "display_data"
    },
    {
     "name": "stdout",
     "output_type": "stream",
     "text": [
      "0.011180677332102476 None\n"
     ]
    }
   ],
   "source": [
    "n = 3\n",
    "d = 2**n\n",
    "\n",
    "model3_list = []\n",
    "\n",
    "for i in range(5):\n",
    "\n",
    "    inputs_map, inputs_spam, counts_list =  pickle.load(open(f\"../../data/threeQubits_PQC_10usDelay_belem_{i}.p\", \"rb\"))\n",
    "\n",
    "    targets_map = counts_to_probs(counts_list[:2000-6**n])\n",
    "    targets_spam = counts_to_probs(counts_list[2000-6**n:])\n",
    "\n",
    "    data = [inputs_spam, targets_spam, inputs_map, targets_map]\n",
    "\n",
    "    np.random.seed(42)\n",
    "    random.seed(42)\n",
    "    tf.random.set_seed(42)\n",
    "\n",
    "    model = regularized_fit(d, data, num_iter_spam=1000, num_iter_map = 2000, N = 500, start = 15)\n",
    "    model3_list.append(model)"
   ]
  },
  {
   "cell_type": "markdown",
   "metadata": {},
   "source": [
    "# 15 us Delay"
   ]
  },
  {
   "cell_type": "code",
   "execution_count": 187,
   "metadata": {},
   "outputs": [
    {
     "data": {
      "application/vnd.jupyter.widget-view+json": {
       "model_id": "bae3334281b34297b80e1c648ad7072c",
       "version_major": 2,
       "version_minor": 0
      },
      "text/plain": [
       "  0%|          | 0/300 [00:00<?, ?it/s]"
      ]
     },
     "metadata": {},
     "output_type": "display_data"
    },
    {
     "name": "stdout",
     "output_type": "stream",
     "text": [
      "3.806583148768781e-05\n"
     ]
    },
    {
     "data": {
      "application/vnd.jupyter.widget-view+json": {
       "model_id": "d6134266b71b4cf58989d41ee94a14d2",
       "version_major": 2,
       "version_minor": 0
      },
      "text/plain": [
       "  0%|          | 0/1000 [00:00<?, ?it/s]"
      ]
     },
     "metadata": {},
     "output_type": "display_data"
    },
    {
     "name": "stdout",
     "output_type": "stream",
     "text": [
      "0.00916896295756937\n"
     ]
    },
    {
     "data": {
      "application/vnd.jupyter.widget-view+json": {
       "model_id": "1a7a1b83db994c0a9647e283ebbb67b6",
       "version_major": 2,
       "version_minor": 0
      },
      "text/plain": [
       "  0%|          | 0/2000 [00:00<?, ?it/s]"
      ]
     },
     "metadata": {},
     "output_type": "display_data"
    },
    {
     "name": "stdout",
     "output_type": "stream",
     "text": [
      "0.013754412623921838 None\n"
     ]
    },
    {
     "data": {
      "application/vnd.jupyter.widget-view+json": {
       "model_id": "06ca13705b3c4cd8a73f7cbc8e30e216",
       "version_major": 2,
       "version_minor": 0
      },
      "text/plain": [
       "  0%|          | 0/2000 [00:00<?, ?it/s]"
      ]
     },
     "metadata": {},
     "output_type": "display_data"
    },
    {
     "name": "stdout",
     "output_type": "stream",
     "text": [
      "0.01590792570578167 None\n"
     ]
    },
    {
     "data": {
      "application/vnd.jupyter.widget-view+json": {
       "model_id": "e9f3406eed334e2eadb094bd4720e998",
       "version_major": 2,
       "version_minor": 0
      },
      "text/plain": [
       "  0%|          | 0/2000 [00:00<?, ?it/s]"
      ]
     },
     "metadata": {},
     "output_type": "display_data"
    },
    {
     "name": "stdout",
     "output_type": "stream",
     "text": [
      "0.015404956101495617 None\n"
     ]
    },
    {
     "data": {
      "application/vnd.jupyter.widget-view+json": {
       "model_id": "a76bbb0af436411cbe0f1fe317d8ab56",
       "version_major": 2,
       "version_minor": 0
      },
      "text/plain": [
       "  0%|          | 0/2000 [00:00<?, ?it/s]"
      ]
     },
     "metadata": {},
     "output_type": "display_data"
    },
    {
     "name": "stdout",
     "output_type": "stream",
     "text": [
      "0.01532998268088529 None\n"
     ]
    },
    {
     "data": {
      "application/vnd.jupyter.widget-view+json": {
       "model_id": "46c55346138c46199b96135bc7b3ef4b",
       "version_major": 2,
       "version_minor": 0
      },
      "text/plain": [
       "  0%|          | 0/300 [00:00<?, ?it/s]"
      ]
     },
     "metadata": {},
     "output_type": "display_data"
    },
    {
     "name": "stdout",
     "output_type": "stream",
     "text": [
      "3.806583148768781e-05\n"
     ]
    },
    {
     "data": {
      "application/vnd.jupyter.widget-view+json": {
       "model_id": "d92a30b4c51d42ceb2ed14d23499d655",
       "version_major": 2,
       "version_minor": 0
      },
      "text/plain": [
       "  0%|          | 0/1000 [00:00<?, ?it/s]"
      ]
     },
     "metadata": {},
     "output_type": "display_data"
    },
    {
     "name": "stdout",
     "output_type": "stream",
     "text": [
      "0.009296657313692431\n"
     ]
    },
    {
     "data": {
      "application/vnd.jupyter.widget-view+json": {
       "model_id": "07aaf05ae51a4dd1bd1eb576d0f5bc7a",
       "version_major": 2,
       "version_minor": 0
      },
      "text/plain": [
       "  0%|          | 0/2000 [00:00<?, ?it/s]"
      ]
     },
     "metadata": {},
     "output_type": "display_data"
    },
    {
     "name": "stdout",
     "output_type": "stream",
     "text": [
      "0.014366467066765053 None\n"
     ]
    },
    {
     "data": {
      "application/vnd.jupyter.widget-view+json": {
       "model_id": "de192ca7f2f9472b8b47ab59df82b6eb",
       "version_major": 2,
       "version_minor": 0
      },
      "text/plain": [
       "  0%|          | 0/2000 [00:00<?, ?it/s]"
      ]
     },
     "metadata": {},
     "output_type": "display_data"
    },
    {
     "name": "stdout",
     "output_type": "stream",
     "text": [
      "0.016410093117880328 None\n"
     ]
    },
    {
     "data": {
      "application/vnd.jupyter.widget-view+json": {
       "model_id": "792faa47f95142059892a4e0b49f7f95",
       "version_major": 2,
       "version_minor": 0
      },
      "text/plain": [
       "  0%|          | 0/2000 [00:00<?, ?it/s]"
      ]
     },
     "metadata": {},
     "output_type": "display_data"
    },
    {
     "name": "stdout",
     "output_type": "stream",
     "text": [
      "0.015968907721537123 None\n"
     ]
    },
    {
     "data": {
      "application/vnd.jupyter.widget-view+json": {
       "model_id": "5d24c834b6704ad5bdf00618a780254d",
       "version_major": 2,
       "version_minor": 0
      },
      "text/plain": [
       "  0%|          | 0/2000 [00:00<?, ?it/s]"
      ]
     },
     "metadata": {},
     "output_type": "display_data"
    },
    {
     "name": "stdout",
     "output_type": "stream",
     "text": [
      "0.01565383562041046 None\n"
     ]
    },
    {
     "data": {
      "application/vnd.jupyter.widget-view+json": {
       "model_id": "cb26ad11cd464c2db8c0de266d716430",
       "version_major": 2,
       "version_minor": 0
      },
      "text/plain": [
       "  0%|          | 0/2000 [00:00<?, ?it/s]"
      ]
     },
     "metadata": {},
     "output_type": "display_data"
    },
    {
     "name": "stdout",
     "output_type": "stream",
     "text": [
      "0.015466828908913028 None\n"
     ]
    },
    {
     "data": {
      "application/vnd.jupyter.widget-view+json": {
       "model_id": "922c4a93364745bc9fc165546d5bbd5e",
       "version_major": 2,
       "version_minor": 0
      },
      "text/plain": [
       "  0%|          | 0/2000 [00:00<?, ?it/s]"
      ]
     },
     "metadata": {},
     "output_type": "display_data"
    },
    {
     "name": "stdout",
     "output_type": "stream",
     "text": [
      "0.015246617516596107 None\n"
     ]
    },
    {
     "data": {
      "application/vnd.jupyter.widget-view+json": {
       "model_id": "d44fe3468e19450bae27d89f0396f162",
       "version_major": 2,
       "version_minor": 0
      },
      "text/plain": [
       "  0%|          | 0/2000 [00:00<?, ?it/s]"
      ]
     },
     "metadata": {},
     "output_type": "display_data"
    },
    {
     "name": "stdout",
     "output_type": "stream",
     "text": [
      "0.015086227987146417 None\n"
     ]
    },
    {
     "data": {
      "application/vnd.jupyter.widget-view+json": {
       "model_id": "54cb0aa2c3c0474c81513960c4df1ac1",
       "version_major": 2,
       "version_minor": 0
      },
      "text/plain": [
       "  0%|          | 0/2000 [00:00<?, ?it/s]"
      ]
     },
     "metadata": {},
     "output_type": "display_data"
    },
    {
     "name": "stdout",
     "output_type": "stream",
     "text": [
      "0.015002015870615167 None\n"
     ]
    },
    {
     "data": {
      "application/vnd.jupyter.widget-view+json": {
       "model_id": "8d112cfd61364a81b7ee3e3d0eb8461d",
       "version_major": 2,
       "version_minor": 0
      },
      "text/plain": [
       "  0%|          | 0/2000 [00:00<?, ?it/s]"
      ]
     },
     "metadata": {},
     "output_type": "display_data"
    },
    {
     "name": "stdout",
     "output_type": "stream",
     "text": [
      "0.014820329373802291 None\n"
     ]
    },
    {
     "data": {
      "application/vnd.jupyter.widget-view+json": {
       "model_id": "5a7f933e9f40499baff0268ce0fee07c",
       "version_major": 2,
       "version_minor": 0
      },
      "text/plain": [
       "  0%|          | 0/2000 [00:00<?, ?it/s]"
      ]
     },
     "metadata": {},
     "output_type": "display_data"
    },
    {
     "name": "stdout",
     "output_type": "stream",
     "text": [
      "0.014760866997839687 None\n"
     ]
    },
    {
     "data": {
      "application/vnd.jupyter.widget-view+json": {
       "model_id": "ff02cd4f80d54a88a092f4b0694df765",
       "version_major": 2,
       "version_minor": 0
      },
      "text/plain": [
       "  0%|          | 0/2000 [00:00<?, ?it/s]"
      ]
     },
     "metadata": {},
     "output_type": "display_data"
    },
    {
     "name": "stdout",
     "output_type": "stream",
     "text": [
      "0.014666727308698824 None\n"
     ]
    },
    {
     "data": {
      "application/vnd.jupyter.widget-view+json": {
       "model_id": "8f753051ecd34c69885f7b7dd8bbacd2",
       "version_major": 2,
       "version_minor": 0
      },
      "text/plain": [
       "  0%|          | 0/2000 [00:00<?, ?it/s]"
      ]
     },
     "metadata": {},
     "output_type": "display_data"
    },
    {
     "name": "stdout",
     "output_type": "stream",
     "text": [
      "0.014638693394568482 None\n"
     ]
    },
    {
     "data": {
      "application/vnd.jupyter.widget-view+json": {
       "model_id": "ab350d39b72d4fde9c551cc3bb053f8c",
       "version_major": 2,
       "version_minor": 0
      },
      "text/plain": [
       "  0%|          | 0/2000 [00:00<?, ?it/s]"
      ]
     },
     "metadata": {},
     "output_type": "display_data"
    },
    {
     "name": "stdout",
     "output_type": "stream",
     "text": [
      "0.014603136593631848 None\n"
     ]
    },
    {
     "data": {
      "application/vnd.jupyter.widget-view+json": {
       "model_id": "769464628e8c48f9b594049ecb6bf0c4",
       "version_major": 2,
       "version_minor": 0
      },
      "text/plain": [
       "  0%|          | 0/2000 [00:00<?, ?it/s]"
      ]
     },
     "metadata": {},
     "output_type": "display_data"
    },
    {
     "name": "stdout",
     "output_type": "stream",
     "text": [
      "0.014513503050111112 None\n"
     ]
    },
    {
     "data": {
      "application/vnd.jupyter.widget-view+json": {
       "model_id": "fe0cc555b03940b38175501ace169506",
       "version_major": 2,
       "version_minor": 0
      },
      "text/plain": [
       "  0%|          | 0/2000 [00:00<?, ?it/s]"
      ]
     },
     "metadata": {},
     "output_type": "display_data"
    },
    {
     "name": "stdout",
     "output_type": "stream",
     "text": [
      "0.01449446083416313 None\n"
     ]
    },
    {
     "data": {
      "application/vnd.jupyter.widget-view+json": {
       "model_id": "f1402d354eb34a37a90a2b06dbde60e3",
       "version_major": 2,
       "version_minor": 0
      },
      "text/plain": [
       "  0%|          | 0/2000 [00:00<?, ?it/s]"
      ]
     },
     "metadata": {},
     "output_type": "display_data"
    },
    {
     "name": "stdout",
     "output_type": "stream",
     "text": [
      "0.014464837063478857 None\n"
     ]
    },
    {
     "data": {
      "application/vnd.jupyter.widget-view+json": {
       "model_id": "4148df9a164a451b91e01c198e5d4328",
       "version_major": 2,
       "version_minor": 0
      },
      "text/plain": [
       "  0%|          | 0/2000 [00:00<?, ?it/s]"
      ]
     },
     "metadata": {},
     "output_type": "display_data"
    },
    {
     "name": "stdout",
     "output_type": "stream",
     "text": [
      "0.014405329510216296 None\n"
     ]
    },
    {
     "data": {
      "application/vnd.jupyter.widget-view+json": {
       "model_id": "2f3125c4023143efac2516980da9fb67",
       "version_major": 2,
       "version_minor": 0
      },
      "text/plain": [
       "  0%|          | 0/2000 [00:00<?, ?it/s]"
      ]
     },
     "metadata": {},
     "output_type": "display_data"
    },
    {
     "name": "stdout",
     "output_type": "stream",
     "text": [
      "0.014429992982680813 None\n"
     ]
    },
    {
     "data": {
      "application/vnd.jupyter.widget-view+json": {
       "model_id": "315b86b080844fcf94d000a10cdade56",
       "version_major": 2,
       "version_minor": 0
      },
      "text/plain": [
       "  0%|          | 0/300 [00:00<?, ?it/s]"
      ]
     },
     "metadata": {},
     "output_type": "display_data"
    },
    {
     "name": "stdout",
     "output_type": "stream",
     "text": [
      "3.806583148768781e-05\n"
     ]
    },
    {
     "data": {
      "application/vnd.jupyter.widget-view+json": {
       "model_id": "ca0ea7def6654f7aab104c65da34407c",
       "version_major": 2,
       "version_minor": 0
      },
      "text/plain": [
       "  0%|          | 0/1000 [00:00<?, ?it/s]"
      ]
     },
     "metadata": {},
     "output_type": "display_data"
    },
    {
     "name": "stdout",
     "output_type": "stream",
     "text": [
      "0.010147760082988464\n"
     ]
    },
    {
     "data": {
      "application/vnd.jupyter.widget-view+json": {
       "model_id": "f9ca2b3026574f7e82b397948588869a",
       "version_major": 2,
       "version_minor": 0
      },
      "text/plain": [
       "  0%|          | 0/2000 [00:00<?, ?it/s]"
      ]
     },
     "metadata": {},
     "output_type": "display_data"
    },
    {
     "name": "stdout",
     "output_type": "stream",
     "text": [
      "0.01809128878340532 None\n"
     ]
    },
    {
     "data": {
      "application/vnd.jupyter.widget-view+json": {
       "model_id": "9315db7a109649f7a4d410dffed18391",
       "version_major": 2,
       "version_minor": 0
      },
      "text/plain": [
       "  0%|          | 0/2000 [00:00<?, ?it/s]"
      ]
     },
     "metadata": {},
     "output_type": "display_data"
    },
    {
     "name": "stdout",
     "output_type": "stream",
     "text": [
      "0.02035723335190414 None\n"
     ]
    },
    {
     "data": {
      "application/vnd.jupyter.widget-view+json": {
       "model_id": "daf8c9f6c9d1451d85c44cace9a6f6a8",
       "version_major": 2,
       "version_minor": 0
      },
      "text/plain": [
       "  0%|          | 0/2000 [00:00<?, ?it/s]"
      ]
     },
     "metadata": {},
     "output_type": "display_data"
    },
    {
     "name": "stdout",
     "output_type": "stream",
     "text": [
      "0.019864917440100483 None\n"
     ]
    },
    {
     "data": {
      "application/vnd.jupyter.widget-view+json": {
       "model_id": "a46414d408b54510970766f858d759cd",
       "version_major": 2,
       "version_minor": 0
      },
      "text/plain": [
       "  0%|          | 0/2000 [00:00<?, ?it/s]"
      ]
     },
     "metadata": {},
     "output_type": "display_data"
    },
    {
     "name": "stdout",
     "output_type": "stream",
     "text": [
      "0.01950884953971824 None\n"
     ]
    },
    {
     "data": {
      "application/vnd.jupyter.widget-view+json": {
       "model_id": "b8c7fa50f1a942c687fefefbe5741250",
       "version_major": 2,
       "version_minor": 0
      },
      "text/plain": [
       "  0%|          | 0/2000 [00:00<?, ?it/s]"
      ]
     },
     "metadata": {},
     "output_type": "display_data"
    },
    {
     "name": "stdout",
     "output_type": "stream",
     "text": [
      "0.01928123392358997 None\n"
     ]
    },
    {
     "data": {
      "application/vnd.jupyter.widget-view+json": {
       "model_id": "348a29cc9d944d84b397f1557d18c02f",
       "version_major": 2,
       "version_minor": 0
      },
      "text/plain": [
       "  0%|          | 0/2000 [00:00<?, ?it/s]"
      ]
     },
     "metadata": {},
     "output_type": "display_data"
    },
    {
     "name": "stdout",
     "output_type": "stream",
     "text": [
      "0.019005026381453783 None\n"
     ]
    },
    {
     "data": {
      "application/vnd.jupyter.widget-view+json": {
       "model_id": "055b1b8e44e54f00bad20250048f41fb",
       "version_major": 2,
       "version_minor": 0
      },
      "text/plain": [
       "  0%|          | 0/2000 [00:00<?, ?it/s]"
      ]
     },
     "metadata": {},
     "output_type": "display_data"
    },
    {
     "name": "stdout",
     "output_type": "stream",
     "text": [
      "0.018911142909093164 None\n"
     ]
    },
    {
     "data": {
      "application/vnd.jupyter.widget-view+json": {
       "model_id": "5193c4f859d248f196345a5f8b668823",
       "version_major": 2,
       "version_minor": 0
      },
      "text/plain": [
       "  0%|          | 0/2000 [00:00<?, ?it/s]"
      ]
     },
     "metadata": {},
     "output_type": "display_data"
    },
    {
     "name": "stdout",
     "output_type": "stream",
     "text": [
      "0.018761479152655983 None\n"
     ]
    },
    {
     "data": {
      "application/vnd.jupyter.widget-view+json": {
       "model_id": "3dca99e53c8d410dbc3c989794bb6bdd",
       "version_major": 2,
       "version_minor": 0
      },
      "text/plain": [
       "  0%|          | 0/2000 [00:00<?, ?it/s]"
      ]
     },
     "metadata": {},
     "output_type": "display_data"
    },
    {
     "name": "stdout",
     "output_type": "stream",
     "text": [
      "0.018645643663242686 None\n"
     ]
    },
    {
     "data": {
      "application/vnd.jupyter.widget-view+json": {
       "model_id": "4e071b7f99994ffb8078c688cecece16",
       "version_major": 2,
       "version_minor": 0
      },
      "text/plain": [
       "  0%|          | 0/2000 [00:00<?, ?it/s]"
      ]
     },
     "metadata": {},
     "output_type": "display_data"
    },
    {
     "name": "stdout",
     "output_type": "stream",
     "text": [
      "0.018493566774657168 None\n"
     ]
    },
    {
     "data": {
      "application/vnd.jupyter.widget-view+json": {
       "model_id": "f0dcf0244211484388d0a7fbe8ea6bcf",
       "version_major": 2,
       "version_minor": 0
      },
      "text/plain": [
       "  0%|          | 0/2000 [00:00<?, ?it/s]"
      ]
     },
     "metadata": {},
     "output_type": "display_data"
    },
    {
     "name": "stdout",
     "output_type": "stream",
     "text": [
      "0.018434862824556073 None\n"
     ]
    },
    {
     "data": {
      "application/vnd.jupyter.widget-view+json": {
       "model_id": "f538459b3f3e4b9cbf64b15df5d16f63",
       "version_major": 2,
       "version_minor": 0
      },
      "text/plain": [
       "  0%|          | 0/2000 [00:00<?, ?it/s]"
      ]
     },
     "metadata": {},
     "output_type": "display_data"
    },
    {
     "name": "stdout",
     "output_type": "stream",
     "text": [
      "0.018350170642479482 None\n"
     ]
    },
    {
     "data": {
      "application/vnd.jupyter.widget-view+json": {
       "model_id": "decd6d8f3fcc4e8f8dc9ecb94b7e8ace",
       "version_major": 2,
       "version_minor": 0
      },
      "text/plain": [
       "  0%|          | 0/2000 [00:00<?, ?it/s]"
      ]
     },
     "metadata": {},
     "output_type": "display_data"
    },
    {
     "name": "stdout",
     "output_type": "stream",
     "text": [
      "0.01832901162611887 None\n"
     ]
    },
    {
     "data": {
      "application/vnd.jupyter.widget-view+json": {
       "model_id": "34622120c4a04b9abe7b17c99866f245",
       "version_major": 2,
       "version_minor": 0
      },
      "text/plain": [
       "  0%|          | 0/2000 [00:00<?, ?it/s]"
      ]
     },
     "metadata": {},
     "output_type": "display_data"
    },
    {
     "name": "stdout",
     "output_type": "stream",
     "text": [
      "0.01827194937820236 None\n"
     ]
    },
    {
     "data": {
      "application/vnd.jupyter.widget-view+json": {
       "model_id": "4643c6f503344dd2b98c76114856727b",
       "version_major": 2,
       "version_minor": 0
      },
      "text/plain": [
       "  0%|          | 0/2000 [00:00<?, ?it/s]"
      ]
     },
     "metadata": {},
     "output_type": "display_data"
    },
    {
     "name": "stdout",
     "output_type": "stream",
     "text": [
      "0.018262259522579427 None\n"
     ]
    },
    {
     "data": {
      "application/vnd.jupyter.widget-view+json": {
       "model_id": "d569911dbbb240f3be199463222715e8",
       "version_major": 2,
       "version_minor": 0
      },
      "text/plain": [
       "  0%|          | 0/2000 [00:00<?, ?it/s]"
      ]
     },
     "metadata": {},
     "output_type": "display_data"
    },
    {
     "name": "stdout",
     "output_type": "stream",
     "text": [
      "0.01819937966208243 None\n"
     ]
    },
    {
     "data": {
      "application/vnd.jupyter.widget-view+json": {
       "model_id": "0899007ebbf6404f85d7356ad9b09296",
       "version_major": 2,
       "version_minor": 0
      },
      "text/plain": [
       "  0%|          | 0/2000 [00:00<?, ?it/s]"
      ]
     },
     "metadata": {},
     "output_type": "display_data"
    },
    {
     "name": "stdout",
     "output_type": "stream",
     "text": [
      "0.018201895392945755 None\n"
     ]
    },
    {
     "data": {
      "application/vnd.jupyter.widget-view+json": {
       "model_id": "c7d6aa8a7f5c4ad2b9a90fab4c41dd51",
       "version_major": 2,
       "version_minor": 0
      },
      "text/plain": [
       "  0%|          | 0/300 [00:00<?, ?it/s]"
      ]
     },
     "metadata": {},
     "output_type": "display_data"
    },
    {
     "name": "stdout",
     "output_type": "stream",
     "text": [
      "3.806583148768781e-05\n"
     ]
    },
    {
     "data": {
      "application/vnd.jupyter.widget-view+json": {
       "model_id": "683390b793c1471f9b0d553ff1633ef6",
       "version_major": 2,
       "version_minor": 0
      },
      "text/plain": [
       "  0%|          | 0/1000 [00:00<?, ?it/s]"
      ]
     },
     "metadata": {},
     "output_type": "display_data"
    },
    {
     "name": "stdout",
     "output_type": "stream",
     "text": [
      "0.005454906974879993\n"
     ]
    },
    {
     "data": {
      "application/vnd.jupyter.widget-view+json": {
       "model_id": "152041efad384eb6821689e0ec3c791f",
       "version_major": 2,
       "version_minor": 0
      },
      "text/plain": [
       "  0%|          | 0/2000 [00:00<?, ?it/s]"
      ]
     },
     "metadata": {},
     "output_type": "display_data"
    },
    {
     "name": "stdout",
     "output_type": "stream",
     "text": [
      "0.006867647269213236 None\n"
     ]
    },
    {
     "data": {
      "application/vnd.jupyter.widget-view+json": {
       "model_id": "2d9012bbc3a440ab82b653f48758ba54",
       "version_major": 2,
       "version_minor": 0
      },
      "text/plain": [
       "  0%|          | 0/2000 [00:00<?, ?it/s]"
      ]
     },
     "metadata": {},
     "output_type": "display_data"
    },
    {
     "name": "stdout",
     "output_type": "stream",
     "text": [
      "0.008973899594550704 None\n"
     ]
    },
    {
     "data": {
      "application/vnd.jupyter.widget-view+json": {
       "model_id": "c0ec4540060a4d9eaef1a84377b2ec01",
       "version_major": 2,
       "version_minor": 0
      },
      "text/plain": [
       "  0%|          | 0/2000 [00:00<?, ?it/s]"
      ]
     },
     "metadata": {},
     "output_type": "display_data"
    },
    {
     "name": "stdout",
     "output_type": "stream",
     "text": [
      "0.008525193089170772 None\n"
     ]
    },
    {
     "data": {
      "application/vnd.jupyter.widget-view+json": {
       "model_id": "1ab8c54e6510491fb6479d82025ead83",
       "version_major": 2,
       "version_minor": 0
      },
      "text/plain": [
       "  0%|          | 0/2000 [00:00<?, ?it/s]"
      ]
     },
     "metadata": {},
     "output_type": "display_data"
    },
    {
     "name": "stdout",
     "output_type": "stream",
     "text": [
      "0.008346900538611807 None\n"
     ]
    },
    {
     "data": {
      "application/vnd.jupyter.widget-view+json": {
       "model_id": "0db59a30cd0c46f7ba15576b8603caf5",
       "version_major": 2,
       "version_minor": 0
      },
      "text/plain": [
       "  0%|          | 0/2000 [00:00<?, ?it/s]"
      ]
     },
     "metadata": {},
     "output_type": "display_data"
    },
    {
     "name": "stdout",
     "output_type": "stream",
     "text": [
      "0.008020215064768198 None\n"
     ]
    },
    {
     "data": {
      "application/vnd.jupyter.widget-view+json": {
       "model_id": "d5f8e2574e4545b983fd2b47a640d40b",
       "version_major": 2,
       "version_minor": 0
      },
      "text/plain": [
       "  0%|          | 0/2000 [00:00<?, ?it/s]"
      ]
     },
     "metadata": {},
     "output_type": "display_data"
    },
    {
     "name": "stdout",
     "output_type": "stream",
     "text": [
      "0.007812777576164009 None\n"
     ]
    },
    {
     "data": {
      "application/vnd.jupyter.widget-view+json": {
       "model_id": "d7de52f2d5be41cd8ace54664a7537e9",
       "version_major": 2,
       "version_minor": 0
      },
      "text/plain": [
       "  0%|          | 0/2000 [00:00<?, ?it/s]"
      ]
     },
     "metadata": {},
     "output_type": "display_data"
    },
    {
     "name": "stdout",
     "output_type": "stream",
     "text": [
      "0.0076710078960090375 None\n"
     ]
    },
    {
     "data": {
      "application/vnd.jupyter.widget-view+json": {
       "model_id": "2173ee3654e346449a04e740d1e143f1",
       "version_major": 2,
       "version_minor": 0
      },
      "text/plain": [
       "  0%|          | 0/2000 [00:00<?, ?it/s]"
      ]
     },
     "metadata": {},
     "output_type": "display_data"
    },
    {
     "name": "stdout",
     "output_type": "stream",
     "text": [
      "0.007590522372293144 None\n"
     ]
    },
    {
     "data": {
      "application/vnd.jupyter.widget-view+json": {
       "model_id": "3bf4fcc1be7c49f7b6b87611453c4a9b",
       "version_major": 2,
       "version_minor": 0
      },
      "text/plain": [
       "  0%|          | 0/2000 [00:00<?, ?it/s]"
      ]
     },
     "metadata": {},
     "output_type": "display_data"
    },
    {
     "name": "stdout",
     "output_type": "stream",
     "text": [
      "0.00747435490336505 None\n"
     ]
    },
    {
     "data": {
      "application/vnd.jupyter.widget-view+json": {
       "model_id": "c4bbafb7e46e44b0b6d7a22838e45c93",
       "version_major": 2,
       "version_minor": 0
      },
      "text/plain": [
       "  0%|          | 0/2000 [00:00<?, ?it/s]"
      ]
     },
     "metadata": {},
     "output_type": "display_data"
    },
    {
     "name": "stdout",
     "output_type": "stream",
     "text": [
      "0.007350905433798656 None\n"
     ]
    },
    {
     "data": {
      "application/vnd.jupyter.widget-view+json": {
       "model_id": "fb0529228fc44a5eba0271cb19c6d153",
       "version_major": 2,
       "version_minor": 0
      },
      "text/plain": [
       "  0%|          | 0/2000 [00:00<?, ?it/s]"
      ]
     },
     "metadata": {},
     "output_type": "display_data"
    },
    {
     "name": "stdout",
     "output_type": "stream",
     "text": [
      "0.0072773179055671735 None\n"
     ]
    },
    {
     "data": {
      "application/vnd.jupyter.widget-view+json": {
       "model_id": "f997fa371e7243438c05ee357b567637",
       "version_major": 2,
       "version_minor": 0
      },
      "text/plain": [
       "  0%|          | 0/2000 [00:00<?, ?it/s]"
      ]
     },
     "metadata": {},
     "output_type": "display_data"
    },
    {
     "name": "stdout",
     "output_type": "stream",
     "text": [
      "0.007222912085635773 None\n"
     ]
    },
    {
     "data": {
      "application/vnd.jupyter.widget-view+json": {
       "model_id": "8b6d716727f947d9886d7ea00f231367",
       "version_major": 2,
       "version_minor": 0
      },
      "text/plain": [
       "  0%|          | 0/2000 [00:00<?, ?it/s]"
      ]
     },
     "metadata": {},
     "output_type": "display_data"
    },
    {
     "name": "stdout",
     "output_type": "stream",
     "text": [
      "0.007150691588004163 None\n"
     ]
    },
    {
     "data": {
      "application/vnd.jupyter.widget-view+json": {
       "model_id": "c1d741a8bd4945adbfc8684e7fa6035a",
       "version_major": 2,
       "version_minor": 0
      },
      "text/plain": [
       "  0%|          | 0/2000 [00:00<?, ?it/s]"
      ]
     },
     "metadata": {},
     "output_type": "display_data"
    },
    {
     "name": "stdout",
     "output_type": "stream",
     "text": [
      "0.007094414536189693 None\n"
     ]
    },
    {
     "data": {
      "application/vnd.jupyter.widget-view+json": {
       "model_id": "9e6f61d892104cceada6599e6500cb0b",
       "version_major": 2,
       "version_minor": 0
      },
      "text/plain": [
       "  0%|          | 0/2000 [00:00<?, ?it/s]"
      ]
     },
     "metadata": {},
     "output_type": "display_data"
    },
    {
     "name": "stdout",
     "output_type": "stream",
     "text": [
      "0.007056393649677851 None\n"
     ]
    },
    {
     "data": {
      "application/vnd.jupyter.widget-view+json": {
       "model_id": "ca42b41fd8d049b6af1e53c5d78b59d6",
       "version_major": 2,
       "version_minor": 0
      },
      "text/plain": [
       "  0%|          | 0/2000 [00:00<?, ?it/s]"
      ]
     },
     "metadata": {},
     "output_type": "display_data"
    },
    {
     "name": "stdout",
     "output_type": "stream",
     "text": [
      "0.007062758702171933 None\n"
     ]
    },
    {
     "data": {
      "application/vnd.jupyter.widget-view+json": {
       "model_id": "27ce4fd46c4340c68940ce7f64abf169",
       "version_major": 2,
       "version_minor": 0
      },
      "text/plain": [
       "  0%|          | 0/300 [00:00<?, ?it/s]"
      ]
     },
     "metadata": {},
     "output_type": "display_data"
    },
    {
     "name": "stdout",
     "output_type": "stream",
     "text": [
      "3.806583148768781e-05\n"
     ]
    },
    {
     "data": {
      "application/vnd.jupyter.widget-view+json": {
       "model_id": "6fdff57b848f450ea8c4bb0ab317cf02",
       "version_major": 2,
       "version_minor": 0
      },
      "text/plain": [
       "  0%|          | 0/1000 [00:00<?, ?it/s]"
      ]
     },
     "metadata": {},
     "output_type": "display_data"
    },
    {
     "name": "stdout",
     "output_type": "stream",
     "text": [
      "0.008762972225254786\n"
     ]
    },
    {
     "data": {
      "application/vnd.jupyter.widget-view+json": {
       "model_id": "c5a5828039c84771acdc11112455a517",
       "version_major": 2,
       "version_minor": 0
      },
      "text/plain": [
       "  0%|          | 0/2000 [00:00<?, ?it/s]"
      ]
     },
     "metadata": {},
     "output_type": "display_data"
    },
    {
     "name": "stdout",
     "output_type": "stream",
     "text": [
      "0.008202702356178416 None\n"
     ]
    },
    {
     "data": {
      "application/vnd.jupyter.widget-view+json": {
       "model_id": "cc91b008f0344a7f851d8bcf3174cb57",
       "version_major": 2,
       "version_minor": 0
      },
      "text/plain": [
       "  0%|          | 0/2000 [00:00<?, ?it/s]"
      ]
     },
     "metadata": {},
     "output_type": "display_data"
    },
    {
     "name": "stdout",
     "output_type": "stream",
     "text": [
      "0.01027104089984646 None\n"
     ]
    },
    {
     "data": {
      "application/vnd.jupyter.widget-view+json": {
       "model_id": "4705062ff0614637b3a993d89b0bf574",
       "version_major": 2,
       "version_minor": 0
      },
      "text/plain": [
       "  0%|          | 0/2000 [00:00<?, ?it/s]"
      ]
     },
     "metadata": {},
     "output_type": "display_data"
    },
    {
     "name": "stdout",
     "output_type": "stream",
     "text": [
      "0.009860985571337418 None\n"
     ]
    },
    {
     "data": {
      "application/vnd.jupyter.widget-view+json": {
       "model_id": "717b82b5961043b6893f11f93b27f574",
       "version_major": 2,
       "version_minor": 0
      },
      "text/plain": [
       "  0%|          | 0/2000 [00:00<?, ?it/s]"
      ]
     },
     "metadata": {},
     "output_type": "display_data"
    },
    {
     "name": "stdout",
     "output_type": "stream",
     "text": [
      "0.009547766269541772 None\n"
     ]
    },
    {
     "data": {
      "application/vnd.jupyter.widget-view+json": {
       "model_id": "5a61dd08b7fa4cfcb9b346a0b90dc81e",
       "version_major": 2,
       "version_minor": 0
      },
      "text/plain": [
       "  0%|          | 0/2000 [00:00<?, ?it/s]"
      ]
     },
     "metadata": {},
     "output_type": "display_data"
    },
    {
     "name": "stdout",
     "output_type": "stream",
     "text": [
      "0.009389420135194563 None\n"
     ]
    },
    {
     "data": {
      "application/vnd.jupyter.widget-view+json": {
       "model_id": "6fffd62ea094470caa581759eded7b09",
       "version_major": 2,
       "version_minor": 0
      },
      "text/plain": [
       "  0%|          | 0/2000 [00:00<?, ?it/s]"
      ]
     },
     "metadata": {},
     "output_type": "display_data"
    },
    {
     "name": "stdout",
     "output_type": "stream",
     "text": [
      "0.009094166344489424 None\n"
     ]
    },
    {
     "data": {
      "application/vnd.jupyter.widget-view+json": {
       "model_id": "4fd74c7e23c64e35b34c42b31698912d",
       "version_major": 2,
       "version_minor": 0
      },
      "text/plain": [
       "  0%|          | 0/2000 [00:00<?, ?it/s]"
      ]
     },
     "metadata": {},
     "output_type": "display_data"
    },
    {
     "name": "stdout",
     "output_type": "stream",
     "text": [
      "0.008971767342632803 None\n"
     ]
    },
    {
     "data": {
      "application/vnd.jupyter.widget-view+json": {
       "model_id": "30c96358f5684e5e895bc99baa910216",
       "version_major": 2,
       "version_minor": 0
      },
      "text/plain": [
       "  0%|          | 0/2000 [00:00<?, ?it/s]"
      ]
     },
     "metadata": {},
     "output_type": "display_data"
    },
    {
     "name": "stdout",
     "output_type": "stream",
     "text": [
      "0.00889712828343385 None\n"
     ]
    },
    {
     "data": {
      "application/vnd.jupyter.widget-view+json": {
       "model_id": "81c40314e7df4f32b535ebe625678c9d",
       "version_major": 2,
       "version_minor": 0
      },
      "text/plain": [
       "  0%|          | 0/2000 [00:00<?, ?it/s]"
      ]
     },
     "metadata": {},
     "output_type": "display_data"
    },
    {
     "name": "stdout",
     "output_type": "stream",
     "text": [
      "0.008718914370704458 None\n"
     ]
    },
    {
     "data": {
      "application/vnd.jupyter.widget-view+json": {
       "model_id": "999988883ec34866b988f2affd9800ce",
       "version_major": 2,
       "version_minor": 0
      },
      "text/plain": [
       "  0%|          | 0/2000 [00:00<?, ?it/s]"
      ]
     },
     "metadata": {},
     "output_type": "display_data"
    },
    {
     "name": "stdout",
     "output_type": "stream",
     "text": [
      "0.008638876076681802 None\n"
     ]
    },
    {
     "data": {
      "application/vnd.jupyter.widget-view+json": {
       "model_id": "a30f9cce57cb4314a165e0dba5cbb2d0",
       "version_major": 2,
       "version_minor": 0
      },
      "text/plain": [
       "  0%|          | 0/2000 [00:00<?, ?it/s]"
      ]
     },
     "metadata": {},
     "output_type": "display_data"
    },
    {
     "name": "stdout",
     "output_type": "stream",
     "text": [
      "0.0085660219298825 None\n"
     ]
    },
    {
     "data": {
      "application/vnd.jupyter.widget-view+json": {
       "model_id": "1005f64c739045baa976930031dc09f5",
       "version_major": 2,
       "version_minor": 0
      },
      "text/plain": [
       "  0%|          | 0/2000 [00:00<?, ?it/s]"
      ]
     },
     "metadata": {},
     "output_type": "display_data"
    },
    {
     "name": "stdout",
     "output_type": "stream",
     "text": [
      "0.00850977370686674 None\n"
     ]
    },
    {
     "data": {
      "application/vnd.jupyter.widget-view+json": {
       "model_id": "f5e6dcbdaff3496192c37ca0b0d56513",
       "version_major": 2,
       "version_minor": 0
      },
      "text/plain": [
       "  0%|          | 0/2000 [00:00<?, ?it/s]"
      ]
     },
     "metadata": {},
     "output_type": "display_data"
    },
    {
     "name": "stdout",
     "output_type": "stream",
     "text": [
      "0.00843135998119477 None\n"
     ]
    },
    {
     "data": {
      "application/vnd.jupyter.widget-view+json": {
       "model_id": "2eec22d31946411cbe4e171fb0e0cb39",
       "version_major": 2,
       "version_minor": 0
      },
      "text/plain": [
       "  0%|          | 0/2000 [00:00<?, ?it/s]"
      ]
     },
     "metadata": {},
     "output_type": "display_data"
    },
    {
     "name": "stdout",
     "output_type": "stream",
     "text": [
      "0.008389746608230848 None\n"
     ]
    },
    {
     "data": {
      "application/vnd.jupyter.widget-view+json": {
       "model_id": "046467d836d041b588982a4e28c801a2",
       "version_major": 2,
       "version_minor": 0
      },
      "text/plain": [
       "  0%|          | 0/2000 [00:00<?, ?it/s]"
      ]
     },
     "metadata": {},
     "output_type": "display_data"
    },
    {
     "name": "stdout",
     "output_type": "stream",
     "text": [
      "0.008353501730587451 None\n"
     ]
    },
    {
     "data": {
      "application/vnd.jupyter.widget-view+json": {
       "model_id": "bc38436102fb48c49cb9bc6f2ab4bd83",
       "version_major": 2,
       "version_minor": 0
      },
      "text/plain": [
       "  0%|          | 0/2000 [00:00<?, ?it/s]"
      ]
     },
     "metadata": {},
     "output_type": "display_data"
    },
    {
     "name": "stdout",
     "output_type": "stream",
     "text": [
      "0.008334614084085989 None\n"
     ]
    },
    {
     "data": {
      "application/vnd.jupyter.widget-view+json": {
       "model_id": "bf63306fe83444fea43a2c4e75ce2fca",
       "version_major": 2,
       "version_minor": 0
      },
      "text/plain": [
       "  0%|          | 0/2000 [00:00<?, ?it/s]"
      ]
     },
     "metadata": {},
     "output_type": "display_data"
    },
    {
     "name": "stdout",
     "output_type": "stream",
     "text": [
      "0.008289456926437554 None\n"
     ]
    },
    {
     "data": {
      "application/vnd.jupyter.widget-view+json": {
       "model_id": "928e60b7e57048aa9c35195a3f7bb29e",
       "version_major": 2,
       "version_minor": 0
      },
      "text/plain": [
       "  0%|          | 0/2000 [00:00<?, ?it/s]"
      ]
     },
     "metadata": {},
     "output_type": "display_data"
    },
    {
     "name": "stdout",
     "output_type": "stream",
     "text": [
      "0.008279830507514683 None\n"
     ]
    },
    {
     "data": {
      "application/vnd.jupyter.widget-view+json": {
       "model_id": "620be2e496e943348daaa578a02efc1c",
       "version_major": 2,
       "version_minor": 0
      },
      "text/plain": [
       "  0%|          | 0/2000 [00:00<?, ?it/s]"
      ]
     },
     "metadata": {},
     "output_type": "display_data"
    },
    {
     "name": "stdout",
     "output_type": "stream",
     "text": [
      "0.008274895691061006 None\n"
     ]
    },
    {
     "data": {
      "application/vnd.jupyter.widget-view+json": {
       "model_id": "8f84e3407e23443aa04592601f53ee4d",
       "version_major": 2,
       "version_minor": 0
      },
      "text/plain": [
       "  0%|          | 0/2000 [00:00<?, ?it/s]"
      ]
     },
     "metadata": {},
     "output_type": "display_data"
    },
    {
     "name": "stdout",
     "output_type": "stream",
     "text": [
      "0.008242669464447643 None\n"
     ]
    },
    {
     "data": {
      "application/vnd.jupyter.widget-view+json": {
       "model_id": "b79357af388f4651b3a84e16bd5f0232",
       "version_major": 2,
       "version_minor": 0
      },
      "text/plain": [
       "  0%|          | 0/2000 [00:00<?, ?it/s]"
      ]
     },
     "metadata": {},
     "output_type": "display_data"
    },
    {
     "name": "stdout",
     "output_type": "stream",
     "text": [
      "0.008238898444917339 None\n"
     ]
    },
    {
     "data": {
      "application/vnd.jupyter.widget-view+json": {
       "model_id": "be9c36853eb94115bd4d582c0e94a6b4",
       "version_major": 2,
       "version_minor": 0
      },
      "text/plain": [
       "  0%|          | 0/2000 [00:00<?, ?it/s]"
      ]
     },
     "metadata": {},
     "output_type": "display_data"
    },
    {
     "name": "stdout",
     "output_type": "stream",
     "text": [
      "0.008242220289462822 None\n"
     ]
    }
   ],
   "source": [
    "n = 3\n",
    "d = 2**n\n",
    "\n",
    "model4_list = []\n",
    "\n",
    "for i in range(5):\n",
    "\n",
    "    inputs_map, inputs_spam, counts_list =  pickle.load(open(f\"../../data/threeQubits_PQC_15usDelay_belem_{i}.p\", \"rb\"))\n",
    "\n",
    "    targets_map = counts_to_probs(counts_list[:2000-6**n])\n",
    "    targets_spam = counts_to_probs(counts_list[2000-6**n:])\n",
    "\n",
    "    data = [inputs_spam, targets_spam, inputs_map, targets_map]\n",
    "\n",
    "    np.random.seed(42)\n",
    "    random.seed(42)\n",
    "    tf.random.set_seed(42)\n",
    "\n",
    "    model = regularized_fit(d, data, num_iter_spam=1000, num_iter_map = 2000, N = 500, start = 15)\n",
    "    model4_list.append(model)"
   ]
  },
  {
   "cell_type": "markdown",
   "metadata": {},
   "source": [
    "# 20 us Delay"
   ]
  },
  {
   "cell_type": "code",
   "execution_count": 3,
   "metadata": {
    "scrolled": true
   },
   "outputs": [
    {
     "data": {
      "application/vnd.jupyter.widget-view+json": {
       "model_id": "96da59b429264ddc803f73d049c17d1e",
       "version_major": 2,
       "version_minor": 0
      },
      "text/plain": [
       "  0%|          | 0/300 [00:00<?, ?it/s]"
      ]
     },
     "metadata": {},
     "output_type": "display_data"
    },
    {
     "name": "stdout",
     "output_type": "stream",
     "text": [
      "3.806583148768781e-05\n"
     ]
    },
    {
     "data": {
      "application/vnd.jupyter.widget-view+json": {
       "model_id": "07c693e9ca4b4ba7aaa9ff8d25bdc473",
       "version_major": 2,
       "version_minor": 0
      },
      "text/plain": [
       "  0%|          | 0/1000 [00:00<?, ?it/s]"
      ]
     },
     "metadata": {},
     "output_type": "display_data"
    },
    {
     "name": "stdout",
     "output_type": "stream",
     "text": [
      "0.009018773144994446\n"
     ]
    },
    {
     "data": {
      "application/vnd.jupyter.widget-view+json": {
       "model_id": "141e3cfd56bc408f97531ccf274537a3",
       "version_major": 2,
       "version_minor": 0
      },
      "text/plain": [
       "  0%|          | 0/2000 [00:00<?, ?it/s]"
      ]
     },
     "metadata": {},
     "output_type": "display_data"
    },
    {
     "name": "stdout",
     "output_type": "stream",
     "text": [
      "0.013170602199150802 None\n"
     ]
    },
    {
     "data": {
      "application/vnd.jupyter.widget-view+json": {
       "model_id": "610c245031ac4468b6002b1bc5b4de9e",
       "version_major": 2,
       "version_minor": 0
      },
      "text/plain": [
       "  0%|          | 0/2000 [00:00<?, ?it/s]"
      ]
     },
     "metadata": {},
     "output_type": "display_data"
    },
    {
     "name": "stdout",
     "output_type": "stream",
     "text": [
      "0.013362065400777426 None\n"
     ]
    },
    {
     "data": {
      "application/vnd.jupyter.widget-view+json": {
       "model_id": "16781c6164de4e8dbde7b787fbee3f6b",
       "version_major": 2,
       "version_minor": 0
      },
      "text/plain": [
       "  0%|          | 0/2000 [00:00<?, ?it/s]"
      ]
     },
     "metadata": {},
     "output_type": "display_data"
    },
    {
     "name": "stdout",
     "output_type": "stream",
     "text": [
      "0.013340478108183455 None\n"
     ]
    },
    {
     "data": {
      "application/vnd.jupyter.widget-view+json": {
       "model_id": "50fde53f33bd4e13afb4781c5c62bfda",
       "version_major": 2,
       "version_minor": 0
      },
      "text/plain": [
       "  0%|          | 0/2000 [00:00<?, ?it/s]"
      ]
     },
     "metadata": {},
     "output_type": "display_data"
    },
    {
     "name": "stdout",
     "output_type": "stream",
     "text": [
      "0.013320826604505561 None\n"
     ]
    },
    {
     "data": {
      "application/vnd.jupyter.widget-view+json": {
       "model_id": "8b8298ba4dae4d73b1c0b459c1728708",
       "version_major": 2,
       "version_minor": 0
      },
      "text/plain": [
       "  0%|          | 0/2000 [00:00<?, ?it/s]"
      ]
     },
     "metadata": {},
     "output_type": "display_data"
    },
    {
     "name": "stdout",
     "output_type": "stream",
     "text": [
      "0.01326797007178085 None\n"
     ]
    },
    {
     "data": {
      "application/vnd.jupyter.widget-view+json": {
       "model_id": "dfa3f9e277ed4db284557f1a0034b162",
       "version_major": 2,
       "version_minor": 0
      },
      "text/plain": [
       "  0%|          | 0/2000 [00:00<?, ?it/s]"
      ]
     },
     "metadata": {},
     "output_type": "display_data"
    },
    {
     "name": "stdout",
     "output_type": "stream",
     "text": [
      "0.013254118056949142 None\n"
     ]
    },
    {
     "data": {
      "application/vnd.jupyter.widget-view+json": {
       "model_id": "8322627227694631b09ba76fc8d3ba35",
       "version_major": 2,
       "version_minor": 0
      },
      "text/plain": [
       "  0%|          | 0/2000 [00:00<?, ?it/s]"
      ]
     },
     "metadata": {},
     "output_type": "display_data"
    },
    {
     "name": "stdout",
     "output_type": "stream",
     "text": [
      "0.0132246619981626 None\n"
     ]
    },
    {
     "data": {
      "application/vnd.jupyter.widget-view+json": {
       "model_id": "805ec6c973fa4e52a82b95ddfda26750",
       "version_major": 2,
       "version_minor": 0
      },
      "text/plain": [
       "  0%|          | 0/2000 [00:00<?, ?it/s]"
      ]
     },
     "metadata": {},
     "output_type": "display_data"
    },
    {
     "name": "stdout",
     "output_type": "stream",
     "text": [
      "0.013212760714315843 None\n"
     ]
    },
    {
     "data": {
      "application/vnd.jupyter.widget-view+json": {
       "model_id": "f5f9f9cd5d6d4524b83d500bb3d18b7d",
       "version_major": 2,
       "version_minor": 0
      },
      "text/plain": [
       "  0%|          | 0/2000 [00:00<?, ?it/s]"
      ]
     },
     "metadata": {},
     "output_type": "display_data"
    },
    {
     "name": "stdout",
     "output_type": "stream",
     "text": [
      "0.013208907127157905 None\n"
     ]
    },
    {
     "data": {
      "application/vnd.jupyter.widget-view+json": {
       "model_id": "8190f5a330da47b393e472e6750d4ded",
       "version_major": 2,
       "version_minor": 0
      },
      "text/plain": [
       "  0%|          | 0/2000 [00:00<?, ?it/s]"
      ]
     },
     "metadata": {},
     "output_type": "display_data"
    },
    {
     "name": "stdout",
     "output_type": "stream",
     "text": [
      "0.013200142085226865 None\n"
     ]
    },
    {
     "data": {
      "application/vnd.jupyter.widget-view+json": {
       "model_id": "785d4eeab8d7482d9c4d81872a101950",
       "version_major": 2,
       "version_minor": 0
      },
      "text/plain": [
       "  0%|          | 0/2000 [00:00<?, ?it/s]"
      ]
     },
     "metadata": {},
     "output_type": "display_data"
    },
    {
     "name": "stdout",
     "output_type": "stream",
     "text": [
      "0.013216177067749257 None\n"
     ]
    },
    {
     "data": {
      "application/vnd.jupyter.widget-view+json": {
       "model_id": "97632de634e4450b9e182d66c609000a",
       "version_major": 2,
       "version_minor": 0
      },
      "text/plain": [
       "  0%|          | 0/300 [00:00<?, ?it/s]"
      ]
     },
     "metadata": {},
     "output_type": "display_data"
    },
    {
     "name": "stdout",
     "output_type": "stream",
     "text": [
      "3.806583148768781e-05\n"
     ]
    },
    {
     "data": {
      "application/vnd.jupyter.widget-view+json": {
       "model_id": "ac879823b24e48a3aa19c1e5e53f0fe2",
       "version_major": 2,
       "version_minor": 0
      },
      "text/plain": [
       "  0%|          | 0/1000 [00:00<?, ?it/s]"
      ]
     },
     "metadata": {},
     "output_type": "display_data"
    },
    {
     "name": "stdout",
     "output_type": "stream",
     "text": [
      "0.009566350794543673\n"
     ]
    },
    {
     "data": {
      "application/vnd.jupyter.widget-view+json": {
       "model_id": "d188529e39db4ecea6618686179e9c1e",
       "version_major": 2,
       "version_minor": 0
      },
      "text/plain": [
       "  0%|          | 0/2000 [00:00<?, ?it/s]"
      ]
     },
     "metadata": {},
     "output_type": "display_data"
    },
    {
     "name": "stdout",
     "output_type": "stream",
     "text": [
      "0.01142523056054148 None\n"
     ]
    },
    {
     "data": {
      "application/vnd.jupyter.widget-view+json": {
       "model_id": "22e117e52e2c4a1e8d77a5f11779c276",
       "version_major": 2,
       "version_minor": 0
      },
      "text/plain": [
       "  0%|          | 0/2000 [00:00<?, ?it/s]"
      ]
     },
     "metadata": {},
     "output_type": "display_data"
    },
    {
     "name": "stdout",
     "output_type": "stream",
     "text": [
      "0.0116184385177187 None\n"
     ]
    },
    {
     "data": {
      "application/vnd.jupyter.widget-view+json": {
       "model_id": "caa05d00e5974cc5a819305edbaa1322",
       "version_major": 2,
       "version_minor": 0
      },
      "text/plain": [
       "  0%|          | 0/2000 [00:00<?, ?it/s]"
      ]
     },
     "metadata": {},
     "output_type": "display_data"
    },
    {
     "name": "stdout",
     "output_type": "stream",
     "text": [
      "0.011562138161682934 None\n"
     ]
    },
    {
     "data": {
      "application/vnd.jupyter.widget-view+json": {
       "model_id": "de4a0365d3f24f739df0a5b2e5dca681",
       "version_major": 2,
       "version_minor": 0
      },
      "text/plain": [
       "  0%|          | 0/2000 [00:00<?, ?it/s]"
      ]
     },
     "metadata": {},
     "output_type": "display_data"
    },
    {
     "name": "stdout",
     "output_type": "stream",
     "text": [
      "0.011539492958525964 None\n"
     ]
    },
    {
     "data": {
      "application/vnd.jupyter.widget-view+json": {
       "model_id": "89faea9cd32e41e191a09578f239599f",
       "version_major": 2,
       "version_minor": 0
      },
      "text/plain": [
       "  0%|          | 0/2000 [00:00<?, ?it/s]"
      ]
     },
     "metadata": {},
     "output_type": "display_data"
    },
    {
     "name": "stdout",
     "output_type": "stream",
     "text": [
      "0.011505152450075247 None\n"
     ]
    },
    {
     "data": {
      "application/vnd.jupyter.widget-view+json": {
       "model_id": "ad675a4fd22b47238ca6a68e6b5ce5ba",
       "version_major": 2,
       "version_minor": 0
      },
      "text/plain": [
       "  0%|          | 0/2000 [00:00<?, ?it/s]"
      ]
     },
     "metadata": {},
     "output_type": "display_data"
    },
    {
     "name": "stdout",
     "output_type": "stream",
     "text": [
      "0.011502690046990834 None\n"
     ]
    },
    {
     "data": {
      "application/vnd.jupyter.widget-view+json": {
       "model_id": "b4a2fcee49084805b9f439520df83050",
       "version_major": 2,
       "version_minor": 0
      },
      "text/plain": [
       "  0%|          | 0/300 [00:00<?, ?it/s]"
      ]
     },
     "metadata": {},
     "output_type": "display_data"
    },
    {
     "name": "stdout",
     "output_type": "stream",
     "text": [
      "3.806583148768781e-05\n"
     ]
    },
    {
     "data": {
      "application/vnd.jupyter.widget-view+json": {
       "model_id": "5483c62c38af4accb4c589b46660345e",
       "version_major": 2,
       "version_minor": 0
      },
      "text/plain": [
       "  0%|          | 0/1000 [00:00<?, ?it/s]"
      ]
     },
     "metadata": {},
     "output_type": "display_data"
    },
    {
     "name": "stdout",
     "output_type": "stream",
     "text": [
      "0.00862671144457633\n"
     ]
    },
    {
     "data": {
      "application/vnd.jupyter.widget-view+json": {
       "model_id": "9ada3773908d4f2cb8ae01a4bc1ae17c",
       "version_major": 2,
       "version_minor": 0
      },
      "text/plain": [
       "  0%|          | 0/2000 [00:00<?, ?it/s]"
      ]
     },
     "metadata": {},
     "output_type": "display_data"
    },
    {
     "name": "stdout",
     "output_type": "stream",
     "text": [
      "0.010186643797810584 None\n"
     ]
    },
    {
     "data": {
      "application/vnd.jupyter.widget-view+json": {
       "model_id": "0453a324a1f446f3b58d367ed56a3e5c",
       "version_major": 2,
       "version_minor": 0
      },
      "text/plain": [
       "  0%|          | 0/2000 [00:00<?, ?it/s]"
      ]
     },
     "metadata": {},
     "output_type": "display_data"
    },
    {
     "name": "stdout",
     "output_type": "stream",
     "text": [
      "0.010425123077742345 None\n"
     ]
    },
    {
     "data": {
      "application/vnd.jupyter.widget-view+json": {
       "model_id": "7bfb4a2b57954f86a6f831fe57bf77d9",
       "version_major": 2,
       "version_minor": 0
      },
      "text/plain": [
       "  0%|          | 0/2000 [00:00<?, ?it/s]"
      ]
     },
     "metadata": {},
     "output_type": "display_data"
    },
    {
     "name": "stdout",
     "output_type": "stream",
     "text": [
      "0.010339159274913735 None\n"
     ]
    },
    {
     "data": {
      "application/vnd.jupyter.widget-view+json": {
       "model_id": "fc2ea480379a49888b212ee786abf3e7",
       "version_major": 2,
       "version_minor": 0
      },
      "text/plain": [
       "  0%|          | 0/2000 [00:00<?, ?it/s]"
      ]
     },
     "metadata": {},
     "output_type": "display_data"
    },
    {
     "name": "stdout",
     "output_type": "stream",
     "text": [
      "0.010308851494164556 None\n"
     ]
    },
    {
     "data": {
      "application/vnd.jupyter.widget-view+json": {
       "model_id": "03bf2611ad5047eb89f40dfe2139d8a4",
       "version_major": 2,
       "version_minor": 0
      },
      "text/plain": [
       "  0%|          | 0/2000 [00:00<?, ?it/s]"
      ]
     },
     "metadata": {},
     "output_type": "display_data"
    },
    {
     "name": "stdout",
     "output_type": "stream",
     "text": [
      "0.010302698323747639 None\n"
     ]
    },
    {
     "data": {
      "application/vnd.jupyter.widget-view+json": {
       "model_id": "c403b5c8bf1345f09d83eb6e99a89b0b",
       "version_major": 2,
       "version_minor": 0
      },
      "text/plain": [
       "  0%|          | 0/2000 [00:00<?, ?it/s]"
      ]
     },
     "metadata": {},
     "output_type": "display_data"
    },
    {
     "name": "stdout",
     "output_type": "stream",
     "text": [
      "0.010277084737009943 None\n"
     ]
    },
    {
     "data": {
      "application/vnd.jupyter.widget-view+json": {
       "model_id": "0a41ceb56ae94524b824640cb880a3a8",
       "version_major": 2,
       "version_minor": 0
      },
      "text/plain": [
       "  0%|          | 0/2000 [00:00<?, ?it/s]"
      ]
     },
     "metadata": {},
     "output_type": "display_data"
    },
    {
     "name": "stdout",
     "output_type": "stream",
     "text": [
      "0.010246579503894382 None\n"
     ]
    },
    {
     "data": {
      "application/vnd.jupyter.widget-view+json": {
       "model_id": "a53a3508416b4d03949aafd33f2ec2e0",
       "version_major": 2,
       "version_minor": 0
      },
      "text/plain": [
       "  0%|          | 0/2000 [00:00<?, ?it/s]"
      ]
     },
     "metadata": {},
     "output_type": "display_data"
    },
    {
     "name": "stdout",
     "output_type": "stream",
     "text": [
      "0.010249221077114928 None\n"
     ]
    },
    {
     "data": {
      "application/vnd.jupyter.widget-view+json": {
       "model_id": "c6b761790f6c4a47844afbbc9fd38e70",
       "version_major": 2,
       "version_minor": 0
      },
      "text/plain": [
       "  0%|          | 0/300 [00:00<?, ?it/s]"
      ]
     },
     "metadata": {},
     "output_type": "display_data"
    },
    {
     "name": "stdout",
     "output_type": "stream",
     "text": [
      "3.806583148768781e-05\n"
     ]
    },
    {
     "data": {
      "application/vnd.jupyter.widget-view+json": {
       "model_id": "63396f5174734054a30b0a7eafffe9c6",
       "version_major": 2,
       "version_minor": 0
      },
      "text/plain": [
       "  0%|          | 0/1000 [00:00<?, ?it/s]"
      ]
     },
     "metadata": {},
     "output_type": "display_data"
    },
    {
     "name": "stdout",
     "output_type": "stream",
     "text": [
      "0.009560591435678237\n"
     ]
    },
    {
     "data": {
      "application/vnd.jupyter.widget-view+json": {
       "model_id": "13f31d81b05a4d43bf729d81557e57ec",
       "version_major": 2,
       "version_minor": 0
      },
      "text/plain": [
       "  0%|          | 0/2000 [00:00<?, ?it/s]"
      ]
     },
     "metadata": {},
     "output_type": "display_data"
    },
    {
     "name": "stdout",
     "output_type": "stream",
     "text": [
      "0.01360244674963955 None\n"
     ]
    },
    {
     "data": {
      "application/vnd.jupyter.widget-view+json": {
       "model_id": "b2236c9469074ec0a6dd87b3a10b3aff",
       "version_major": 2,
       "version_minor": 0
      },
      "text/plain": [
       "  0%|          | 0/2000 [00:00<?, ?it/s]"
      ]
     },
     "metadata": {},
     "output_type": "display_data"
    },
    {
     "name": "stdout",
     "output_type": "stream",
     "text": [
      "0.014077730425120784 None\n"
     ]
    },
    {
     "data": {
      "application/vnd.jupyter.widget-view+json": {
       "model_id": "690d5ad8cd34442180642236c58f3898",
       "version_major": 2,
       "version_minor": 0
      },
      "text/plain": [
       "  0%|          | 0/2000 [00:00<?, ?it/s]"
      ]
     },
     "metadata": {},
     "output_type": "display_data"
    },
    {
     "name": "stdout",
     "output_type": "stream",
     "text": [
      "0.01398158866838317 None\n"
     ]
    },
    {
     "data": {
      "application/vnd.jupyter.widget-view+json": {
       "model_id": "5d0d611f6a57422c8e894489275be1da",
       "version_major": 2,
       "version_minor": 0
      },
      "text/plain": [
       "  0%|          | 0/2000 [00:00<?, ?it/s]"
      ]
     },
     "metadata": {},
     "output_type": "display_data"
    },
    {
     "name": "stdout",
     "output_type": "stream",
     "text": [
      "0.013929995821541445 None\n"
     ]
    },
    {
     "data": {
      "application/vnd.jupyter.widget-view+json": {
       "model_id": "0c115e5af9c34fd6b04b686101016034",
       "version_major": 2,
       "version_minor": 0
      },
      "text/plain": [
       "  0%|          | 0/2000 [00:00<?, ?it/s]"
      ]
     },
     "metadata": {},
     "output_type": "display_data"
    },
    {
     "name": "stdout",
     "output_type": "stream",
     "text": [
      "0.013867450928642526 None\n"
     ]
    },
    {
     "data": {
      "application/vnd.jupyter.widget-view+json": {
       "model_id": "336bea2aca7f48c6a3cd2f9311ac836a",
       "version_major": 2,
       "version_minor": 0
      },
      "text/plain": [
       "  0%|          | 0/2000 [00:00<?, ?it/s]"
      ]
     },
     "metadata": {},
     "output_type": "display_data"
    },
    {
     "name": "stdout",
     "output_type": "stream",
     "text": [
      "0.013809981341476917 None\n"
     ]
    },
    {
     "data": {
      "application/vnd.jupyter.widget-view+json": {
       "model_id": "430a19505f5443f99ec90e1ac3e3fdf5",
       "version_major": 2,
       "version_minor": 0
      },
      "text/plain": [
       "  0%|          | 0/2000 [00:00<?, ?it/s]"
      ]
     },
     "metadata": {},
     "output_type": "display_data"
    },
    {
     "name": "stdout",
     "output_type": "stream",
     "text": [
      "0.013820577517247466 None\n"
     ]
    },
    {
     "data": {
      "application/vnd.jupyter.widget-view+json": {
       "model_id": "55f0db415cae4f389302fd5cd1009814",
       "version_major": 2,
       "version_minor": 0
      },
      "text/plain": [
       "  0%|          | 0/300 [00:00<?, ?it/s]"
      ]
     },
     "metadata": {},
     "output_type": "display_data"
    },
    {
     "name": "stdout",
     "output_type": "stream",
     "text": [
      "3.806583148768781e-05\n"
     ]
    },
    {
     "data": {
      "application/vnd.jupyter.widget-view+json": {
       "model_id": "11cce77d8ab548f4b23d875944011f2c",
       "version_major": 2,
       "version_minor": 0
      },
      "text/plain": [
       "  0%|          | 0/1000 [00:00<?, ?it/s]"
      ]
     },
     "metadata": {},
     "output_type": "display_data"
    },
    {
     "name": "stdout",
     "output_type": "stream",
     "text": [
      "0.009963390080018786\n"
     ]
    },
    {
     "data": {
      "application/vnd.jupyter.widget-view+json": {
       "model_id": "b3c4103f944b409e8f84ab999bcd0dd9",
       "version_major": 2,
       "version_minor": 0
      },
      "text/plain": [
       "  0%|          | 0/2000 [00:00<?, ?it/s]"
      ]
     },
     "metadata": {},
     "output_type": "display_data"
    },
    {
     "name": "stdout",
     "output_type": "stream",
     "text": [
      "0.007585252127238923 None\n"
     ]
    },
    {
     "data": {
      "application/vnd.jupyter.widget-view+json": {
       "model_id": "f5e3ddf521054f57a53061d77bb82e8a",
       "version_major": 2,
       "version_minor": 0
      },
      "text/plain": [
       "  0%|          | 0/2000 [00:00<?, ?it/s]"
      ]
     },
     "metadata": {},
     "output_type": "display_data"
    },
    {
     "name": "stdout",
     "output_type": "stream",
     "text": [
      "0.00805435888987444 None\n"
     ]
    },
    {
     "data": {
      "application/vnd.jupyter.widget-view+json": {
       "model_id": "c033b0bfefb8400bae0da3bd3b05e2a4",
       "version_major": 2,
       "version_minor": 0
      },
      "text/plain": [
       "  0%|          | 0/2000 [00:00<?, ?it/s]"
      ]
     },
     "metadata": {},
     "output_type": "display_data"
    },
    {
     "name": "stdout",
     "output_type": "stream",
     "text": [
      "0.00795365509096339 None\n"
     ]
    },
    {
     "data": {
      "application/vnd.jupyter.widget-view+json": {
       "model_id": "922af3a901ba484b94af121b59978b88",
       "version_major": 2,
       "version_minor": 0
      },
      "text/plain": [
       "  0%|          | 0/2000 [00:00<?, ?it/s]"
      ]
     },
     "metadata": {},
     "output_type": "display_data"
    },
    {
     "name": "stdout",
     "output_type": "stream",
     "text": [
      "0.00790762094250001 None\n"
     ]
    },
    {
     "data": {
      "application/vnd.jupyter.widget-view+json": {
       "model_id": "74690dedf29f4a09a33b4a3315481495",
       "version_major": 2,
       "version_minor": 0
      },
      "text/plain": [
       "  0%|          | 0/2000 [00:00<?, ?it/s]"
      ]
     },
     "metadata": {},
     "output_type": "display_data"
    },
    {
     "name": "stdout",
     "output_type": "stream",
     "text": [
      "0.007852151658977301 None\n"
     ]
    },
    {
     "data": {
      "application/vnd.jupyter.widget-view+json": {
       "model_id": "547b916789854a61b3c5096f635387d7",
       "version_major": 2,
       "version_minor": 0
      },
      "text/plain": [
       "  0%|          | 0/2000 [00:00<?, ?it/s]"
      ]
     },
     "metadata": {},
     "output_type": "display_data"
    },
    {
     "name": "stdout",
     "output_type": "stream",
     "text": [
      "0.007790988597902073 None\n"
     ]
    },
    {
     "data": {
      "application/vnd.jupyter.widget-view+json": {
       "model_id": "0464afe643484a3f80d4657dbbc7da64",
       "version_major": 2,
       "version_minor": 0
      },
      "text/plain": [
       "  0%|          | 0/2000 [00:00<?, ?it/s]"
      ]
     },
     "metadata": {},
     "output_type": "display_data"
    },
    {
     "name": "stdout",
     "output_type": "stream",
     "text": [
      "0.0078072431697411805 None\n"
     ]
    }
   ],
   "source": [
    "n = 3\n",
    "d = 2**n\n",
    "\n",
    "model5_list = []\n",
    "\n",
    "for i in range(5):\n",
    "\n",
    "    inputs_map, inputs_spam, counts_list =  pickle.load(open(f\"../../data/threeQubits_PQC_20usDelay_belem_{i}.p\", \"rb\"))\n",
    "\n",
    "    targets_map = counts_to_probs(counts_list[:2000-6**n])\n",
    "    targets_spam = counts_to_probs(counts_list[2000-6**n:])\n",
    "\n",
    "    data = [inputs_spam, targets_spam, inputs_map, targets_map]\n",
    "\n",
    "    np.random.seed(42)\n",
    "    random.seed(42)\n",
    "    tf.random.set_seed(42)\n",
    "\n",
    "    model = regularized_fit(d, data, num_iter_spam=1000, num_iter_map = 2000, N = 500, start = 25)\n",
    "    model5_list.append(model)"
   ]
  },
  {
   "cell_type": "markdown",
   "metadata": {},
   "source": [
    "# 25 us Delay"
   ]
  },
  {
   "cell_type": "code",
   "execution_count": 190,
   "metadata": {},
   "outputs": [
    {
     "data": {
      "application/vnd.jupyter.widget-view+json": {
       "model_id": "1a55f4ed2db4456c8571643ec0a68054",
       "version_major": 2,
       "version_minor": 0
      },
      "text/plain": [
       "  0%|          | 0/300 [00:00<?, ?it/s]"
      ]
     },
     "metadata": {},
     "output_type": "display_data"
    },
    {
     "name": "stdout",
     "output_type": "stream",
     "text": [
      "3.806583148768781e-05\n"
     ]
    },
    {
     "data": {
      "application/vnd.jupyter.widget-view+json": {
       "model_id": "8c47a0e972dc4ab39e7bc20f5941cbcf",
       "version_major": 2,
       "version_minor": 0
      },
      "text/plain": [
       "  0%|          | 0/1000 [00:00<?, ?it/s]"
      ]
     },
     "metadata": {},
     "output_type": "display_data"
    },
    {
     "name": "stdout",
     "output_type": "stream",
     "text": [
      "0.00898104112119714\n"
     ]
    },
    {
     "data": {
      "application/vnd.jupyter.widget-view+json": {
       "model_id": "3be04ec8273347f888e612709a846548",
       "version_major": 2,
       "version_minor": 0
      },
      "text/plain": [
       "  0%|          | 0/2000 [00:00<?, ?it/s]"
      ]
     },
     "metadata": {},
     "output_type": "display_data"
    },
    {
     "name": "stdout",
     "output_type": "stream",
     "text": [
      "0.022276255087357737 None\n"
     ]
    },
    {
     "data": {
      "application/vnd.jupyter.widget-view+json": {
       "model_id": "962a9945413243788199b57340b0ccd8",
       "version_major": 2,
       "version_minor": 0
      },
      "text/plain": [
       "  0%|          | 0/2000 [00:00<?, ?it/s]"
      ]
     },
     "metadata": {},
     "output_type": "display_data"
    },
    {
     "name": "stdout",
     "output_type": "stream",
     "text": [
      "0.022474883225650964 None\n"
     ]
    },
    {
     "data": {
      "application/vnd.jupyter.widget-view+json": {
       "model_id": "3fbabd7ed0ac4b819b5f50d44b09bf06",
       "version_major": 2,
       "version_minor": 0
      },
      "text/plain": [
       "  0%|          | 0/2000 [00:00<?, ?it/s]"
      ]
     },
     "metadata": {},
     "output_type": "display_data"
    },
    {
     "name": "stdout",
     "output_type": "stream",
     "text": [
      "0.02242031859261526 None\n"
     ]
    },
    {
     "data": {
      "application/vnd.jupyter.widget-view+json": {
       "model_id": "c98a7edd87de4f96bae032d96bc8310b",
       "version_major": 2,
       "version_minor": 0
      },
      "text/plain": [
       "  0%|          | 0/2000 [00:00<?, ?it/s]"
      ]
     },
     "metadata": {},
     "output_type": "display_data"
    },
    {
     "name": "stdout",
     "output_type": "stream",
     "text": [
      "0.022407332676126376 None\n"
     ]
    },
    {
     "data": {
      "application/vnd.jupyter.widget-view+json": {
       "model_id": "081e51cbe33b4fd6b71a1455d5b1b36c",
       "version_major": 2,
       "version_minor": 0
      },
      "text/plain": [
       "  0%|          | 0/2000 [00:00<?, ?it/s]"
      ]
     },
     "metadata": {},
     "output_type": "display_data"
    },
    {
     "name": "stdout",
     "output_type": "stream",
     "text": [
      "0.022381411202766235 None\n"
     ]
    },
    {
     "data": {
      "application/vnd.jupyter.widget-view+json": {
       "model_id": "67b4bb900aca4346b066da03d922d1c0",
       "version_major": 2,
       "version_minor": 0
      },
      "text/plain": [
       "  0%|          | 0/2000 [00:00<?, ?it/s]"
      ]
     },
     "metadata": {},
     "output_type": "display_data"
    },
    {
     "name": "stdout",
     "output_type": "stream",
     "text": [
      "0.022318804567235194 None\n"
     ]
    },
    {
     "data": {
      "application/vnd.jupyter.widget-view+json": {
       "model_id": "1b598e7c401a4a99b28ced6312099f00",
       "version_major": 2,
       "version_minor": 0
      },
      "text/plain": [
       "  0%|          | 0/2000 [00:00<?, ?it/s]"
      ]
     },
     "metadata": {},
     "output_type": "display_data"
    },
    {
     "name": "stdout",
     "output_type": "stream",
     "text": [
      "0.0223397324828878 None\n"
     ]
    },
    {
     "data": {
      "application/vnd.jupyter.widget-view+json": {
       "model_id": "c2fb2f06352d4052b47b4f3e1a34e849",
       "version_major": 2,
       "version_minor": 0
      },
      "text/plain": [
       "  0%|          | 0/300 [00:00<?, ?it/s]"
      ]
     },
     "metadata": {},
     "output_type": "display_data"
    },
    {
     "name": "stdout",
     "output_type": "stream",
     "text": [
      "3.806583148768781e-05\n"
     ]
    },
    {
     "data": {
      "application/vnd.jupyter.widget-view+json": {
       "model_id": "438c489ad24649dd9a9fc87c90402f9e",
       "version_major": 2,
       "version_minor": 0
      },
      "text/plain": [
       "  0%|          | 0/1000 [00:00<?, ?it/s]"
      ]
     },
     "metadata": {},
     "output_type": "display_data"
    },
    {
     "name": "stdout",
     "output_type": "stream",
     "text": [
      "0.009235262890597142\n"
     ]
    },
    {
     "data": {
      "application/vnd.jupyter.widget-view+json": {
       "model_id": "06f0f065cc844bbf92b9b66dbab91e44",
       "version_major": 2,
       "version_minor": 0
      },
      "text/plain": [
       "  0%|          | 0/2000 [00:00<?, ?it/s]"
      ]
     },
     "metadata": {},
     "output_type": "display_data"
    },
    {
     "name": "stdout",
     "output_type": "stream",
     "text": [
      "0.013542298237968991 None\n"
     ]
    },
    {
     "data": {
      "application/vnd.jupyter.widget-view+json": {
       "model_id": "c2e83429c72f44568af8936a12567504",
       "version_major": 2,
       "version_minor": 0
      },
      "text/plain": [
       "  0%|          | 0/2000 [00:00<?, ?it/s]"
      ]
     },
     "metadata": {},
     "output_type": "display_data"
    },
    {
     "name": "stdout",
     "output_type": "stream",
     "text": [
      "0.013716063267128056 None\n"
     ]
    },
    {
     "data": {
      "application/vnd.jupyter.widget-view+json": {
       "model_id": "6bd10389af2e4c5a99a49a5576f5761c",
       "version_major": 2,
       "version_minor": 0
      },
      "text/plain": [
       "  0%|          | 0/2000 [00:00<?, ?it/s]"
      ]
     },
     "metadata": {},
     "output_type": "display_data"
    },
    {
     "name": "stdout",
     "output_type": "stream",
     "text": [
      "0.01367959929696433 None\n"
     ]
    },
    {
     "data": {
      "application/vnd.jupyter.widget-view+json": {
       "model_id": "ab3c547699cc46adbd725f3e31ec0e69",
       "version_major": 2,
       "version_minor": 0
      },
      "text/plain": [
       "  0%|          | 0/2000 [00:00<?, ?it/s]"
      ]
     },
     "metadata": {},
     "output_type": "display_data"
    },
    {
     "name": "stdout",
     "output_type": "stream",
     "text": [
      "0.013675457748795668 None\n"
     ]
    },
    {
     "data": {
      "application/vnd.jupyter.widget-view+json": {
       "model_id": "0a74801567d74a18a32fb7c6ce9db3a7",
       "version_major": 2,
       "version_minor": 0
      },
      "text/plain": [
       "  0%|          | 0/300 [00:00<?, ?it/s]"
      ]
     },
     "metadata": {},
     "output_type": "display_data"
    },
    {
     "name": "stdout",
     "output_type": "stream",
     "text": [
      "3.806583148768781e-05\n"
     ]
    },
    {
     "data": {
      "application/vnd.jupyter.widget-view+json": {
       "model_id": "3f4ad7043032411b9d3962b70cbc24eb",
       "version_major": 2,
       "version_minor": 0
      },
      "text/plain": [
       "  0%|          | 0/1000 [00:00<?, ?it/s]"
      ]
     },
     "metadata": {},
     "output_type": "display_data"
    },
    {
     "name": "stdout",
     "output_type": "stream",
     "text": [
      "0.009292336566737476\n"
     ]
    },
    {
     "data": {
      "application/vnd.jupyter.widget-view+json": {
       "model_id": "66aca2b1086545e7a48aa5bd3762cd8d",
       "version_major": 2,
       "version_minor": 0
      },
      "text/plain": [
       "  0%|          | 0/2000 [00:00<?, ?it/s]"
      ]
     },
     "metadata": {},
     "output_type": "display_data"
    },
    {
     "name": "stdout",
     "output_type": "stream",
     "text": [
      "0.019121197677605582 None\n"
     ]
    },
    {
     "data": {
      "application/vnd.jupyter.widget-view+json": {
       "model_id": "ed1e926c8d604da48d3603abf0f88cd5",
       "version_major": 2,
       "version_minor": 0
      },
      "text/plain": [
       "  0%|          | 0/2000 [00:00<?, ?it/s]"
      ]
     },
     "metadata": {},
     "output_type": "display_data"
    },
    {
     "name": "stdout",
     "output_type": "stream",
     "text": [
      "0.019353522373732113 None\n"
     ]
    },
    {
     "data": {
      "application/vnd.jupyter.widget-view+json": {
       "model_id": "41bab59df13f4f9d977de61beff75657",
       "version_major": 2,
       "version_minor": 0
      },
      "text/plain": [
       "  0%|          | 0/2000 [00:00<?, ?it/s]"
      ]
     },
     "metadata": {},
     "output_type": "display_data"
    },
    {
     "name": "stdout",
     "output_type": "stream",
     "text": [
      "0.019314929490131062 None\n"
     ]
    },
    {
     "data": {
      "application/vnd.jupyter.widget-view+json": {
       "model_id": "ea5b401358bf47519ee7fe6939178ec3",
       "version_major": 2,
       "version_minor": 0
      },
      "text/plain": [
       "  0%|          | 0/2000 [00:00<?, ?it/s]"
      ]
     },
     "metadata": {},
     "output_type": "display_data"
    },
    {
     "name": "stdout",
     "output_type": "stream",
     "text": [
      "0.019273790972838732 None\n"
     ]
    },
    {
     "data": {
      "application/vnd.jupyter.widget-view+json": {
       "model_id": "95aeb7bf4c2c4078b2a32b5d863a8b41",
       "version_major": 2,
       "version_minor": 0
      },
      "text/plain": [
       "  0%|          | 0/2000 [00:00<?, ?it/s]"
      ]
     },
     "metadata": {},
     "output_type": "display_data"
    },
    {
     "name": "stdout",
     "output_type": "stream",
     "text": [
      "0.019244497945212387 None\n"
     ]
    },
    {
     "data": {
      "application/vnd.jupyter.widget-view+json": {
       "model_id": "33271cea36dd4209aed5476cc75e966f",
       "version_major": 2,
       "version_minor": 0
      },
      "text/plain": [
       "  0%|          | 0/2000 [00:00<?, ?it/s]"
      ]
     },
     "metadata": {},
     "output_type": "display_data"
    },
    {
     "name": "stdout",
     "output_type": "stream",
     "text": [
      "0.019240918426857948 None\n"
     ]
    },
    {
     "data": {
      "application/vnd.jupyter.widget-view+json": {
       "model_id": "bb2b08d36239471ca4698b7a22110039",
       "version_major": 2,
       "version_minor": 0
      },
      "text/plain": [
       "  0%|          | 0/300 [00:00<?, ?it/s]"
      ]
     },
     "metadata": {},
     "output_type": "display_data"
    },
    {
     "name": "stdout",
     "output_type": "stream",
     "text": [
      "3.806583148768781e-05\n"
     ]
    },
    {
     "data": {
      "application/vnd.jupyter.widget-view+json": {
       "model_id": "6b5a408435d0421e807b7780fb202a4a",
       "version_major": 2,
       "version_minor": 0
      },
      "text/plain": [
       "  0%|          | 0/1000 [00:00<?, ?it/s]"
      ]
     },
     "metadata": {},
     "output_type": "display_data"
    },
    {
     "name": "stdout",
     "output_type": "stream",
     "text": [
      "0.009115962891386548\n"
     ]
    },
    {
     "data": {
      "application/vnd.jupyter.widget-view+json": {
       "model_id": "61dcd509b4d14b12b908bf3f9a1a5f7a",
       "version_major": 2,
       "version_minor": 0
      },
      "text/plain": [
       "  0%|          | 0/2000 [00:00<?, ?it/s]"
      ]
     },
     "metadata": {},
     "output_type": "display_data"
    },
    {
     "name": "stdout",
     "output_type": "stream",
     "text": [
      "0.03439525413173796 None\n"
     ]
    },
    {
     "data": {
      "application/vnd.jupyter.widget-view+json": {
       "model_id": "170acf9f79de4494bb2efc892fe74444",
       "version_major": 2,
       "version_minor": 0
      },
      "text/plain": [
       "  0%|          | 0/2000 [00:00<?, ?it/s]"
      ]
     },
     "metadata": {},
     "output_type": "display_data"
    },
    {
     "name": "stdout",
     "output_type": "stream",
     "text": [
      "0.03477987355951975 None\n"
     ]
    },
    {
     "data": {
      "application/vnd.jupyter.widget-view+json": {
       "model_id": "57ae045ffdde4271bc528190f643bc1e",
       "version_major": 2,
       "version_minor": 0
      },
      "text/plain": [
       "  0%|          | 0/2000 [00:00<?, ?it/s]"
      ]
     },
     "metadata": {},
     "output_type": "display_data"
    },
    {
     "name": "stdout",
     "output_type": "stream",
     "text": [
      "0.03469000770167664 None\n"
     ]
    },
    {
     "data": {
      "application/vnd.jupyter.widget-view+json": {
       "model_id": "4730d2a5184b4f87914e4c0fbc8da918",
       "version_major": 2,
       "version_minor": 0
      },
      "text/plain": [
       "  0%|          | 0/2000 [00:00<?, ?it/s]"
      ]
     },
     "metadata": {},
     "output_type": "display_data"
    },
    {
     "name": "stdout",
     "output_type": "stream",
     "text": [
      "0.034609750106756876 None\n"
     ]
    },
    {
     "data": {
      "application/vnd.jupyter.widget-view+json": {
       "model_id": "3c8c70ee1fa6451cbe7f7eac8b73f277",
       "version_major": 2,
       "version_minor": 0
      },
      "text/plain": [
       "  0%|          | 0/2000 [00:00<?, ?it/s]"
      ]
     },
     "metadata": {},
     "output_type": "display_data"
    },
    {
     "name": "stdout",
     "output_type": "stream",
     "text": [
      "0.03462567582020627 None\n"
     ]
    },
    {
     "data": {
      "application/vnd.jupyter.widget-view+json": {
       "model_id": "7907493ef66c44a88f051c63c6866453",
       "version_major": 2,
       "version_minor": 0
      },
      "text/plain": [
       "  0%|          | 0/300 [00:00<?, ?it/s]"
      ]
     },
     "metadata": {},
     "output_type": "display_data"
    },
    {
     "name": "stdout",
     "output_type": "stream",
     "text": [
      "3.806583148768781e-05\n"
     ]
    },
    {
     "data": {
      "application/vnd.jupyter.widget-view+json": {
       "model_id": "4a1eb04974934eec9dbe1f540be00113",
       "version_major": 2,
       "version_minor": 0
      },
      "text/plain": [
       "  0%|          | 0/1000 [00:00<?, ?it/s]"
      ]
     },
     "metadata": {},
     "output_type": "display_data"
    },
    {
     "name": "stdout",
     "output_type": "stream",
     "text": [
      "0.00883904949823907\n"
     ]
    },
    {
     "data": {
      "application/vnd.jupyter.widget-view+json": {
       "model_id": "ddcbfa1412e34010b8e28f85125e2088",
       "version_major": 2,
       "version_minor": 0
      },
      "text/plain": [
       "  0%|          | 0/2000 [00:00<?, ?it/s]"
      ]
     },
     "metadata": {},
     "output_type": "display_data"
    },
    {
     "name": "stdout",
     "output_type": "stream",
     "text": [
      "0.007509161343091643 None\n"
     ]
    },
    {
     "data": {
      "application/vnd.jupyter.widget-view+json": {
       "model_id": "73c40f2176c64057bf1b7ef29741b9f2",
       "version_major": 2,
       "version_minor": 0
      },
      "text/plain": [
       "  0%|          | 0/2000 [00:00<?, ?it/s]"
      ]
     },
     "metadata": {},
     "output_type": "display_data"
    },
    {
     "name": "stdout",
     "output_type": "stream",
     "text": [
      "0.007925783742642578 None\n"
     ]
    },
    {
     "data": {
      "application/vnd.jupyter.widget-view+json": {
       "model_id": "db93c7f3a42d4269a99284ab2bf006c7",
       "version_major": 2,
       "version_minor": 0
      },
      "text/plain": [
       "  0%|          | 0/2000 [00:00<?, ?it/s]"
      ]
     },
     "metadata": {},
     "output_type": "display_data"
    },
    {
     "name": "stdout",
     "output_type": "stream",
     "text": [
      "0.007871228612782446 None\n"
     ]
    },
    {
     "data": {
      "application/vnd.jupyter.widget-view+json": {
       "model_id": "589650884d09461085db3c8bf4e88207",
       "version_major": 2,
       "version_minor": 0
      },
      "text/plain": [
       "  0%|          | 0/2000 [00:00<?, ?it/s]"
      ]
     },
     "metadata": {},
     "output_type": "display_data"
    },
    {
     "name": "stdout",
     "output_type": "stream",
     "text": [
      "0.007790936037677725 None\n"
     ]
    },
    {
     "data": {
      "application/vnd.jupyter.widget-view+json": {
       "model_id": "75a5617a83444a3e8a6e2197582f8050",
       "version_major": 2,
       "version_minor": 0
      },
      "text/plain": [
       "  0%|          | 0/2000 [00:00<?, ?it/s]"
      ]
     },
     "metadata": {},
     "output_type": "display_data"
    },
    {
     "name": "stdout",
     "output_type": "stream",
     "text": [
      "0.007775375457168068 None\n"
     ]
    },
    {
     "data": {
      "application/vnd.jupyter.widget-view+json": {
       "model_id": "0f9e57c18b80436882cf05d7a1ec454a",
       "version_major": 2,
       "version_minor": 0
      },
      "text/plain": [
       "  0%|          | 0/2000 [00:00<?, ?it/s]"
      ]
     },
     "metadata": {},
     "output_type": "display_data"
    },
    {
     "name": "stdout",
     "output_type": "stream",
     "text": [
      "0.007725859360644715 None\n"
     ]
    },
    {
     "data": {
      "application/vnd.jupyter.widget-view+json": {
       "model_id": "54c1b8b83cd54f8da915b5c2c96802fa",
       "version_major": 2,
       "version_minor": 0
      },
      "text/plain": [
       "  0%|          | 0/2000 [00:00<?, ?it/s]"
      ]
     },
     "metadata": {},
     "output_type": "display_data"
    },
    {
     "name": "stdout",
     "output_type": "stream",
     "text": [
      "0.0076950970971433694 None\n"
     ]
    },
    {
     "data": {
      "application/vnd.jupyter.widget-view+json": {
       "model_id": "65c2d775594a4e9494f0817185e368ee",
       "version_major": 2,
       "version_minor": 0
      },
      "text/plain": [
       "  0%|          | 0/2000 [00:00<?, ?it/s]"
      ]
     },
     "metadata": {},
     "output_type": "display_data"
    },
    {
     "name": "stdout",
     "output_type": "stream",
     "text": [
      "0.007642245080449725 None\n"
     ]
    },
    {
     "data": {
      "application/vnd.jupyter.widget-view+json": {
       "model_id": "b0e888a366d241a691802d1d6fd29675",
       "version_major": 2,
       "version_minor": 0
      },
      "text/plain": [
       "  0%|          | 0/2000 [00:00<?, ?it/s]"
      ]
     },
     "metadata": {},
     "output_type": "display_data"
    },
    {
     "name": "stdout",
     "output_type": "stream",
     "text": [
      "0.007605390559540048 None\n"
     ]
    },
    {
     "data": {
      "application/vnd.jupyter.widget-view+json": {
       "model_id": "c232a0bec47e4075a45705449638039b",
       "version_major": 2,
       "version_minor": 0
      },
      "text/plain": [
       "  0%|          | 0/2000 [00:00<?, ?it/s]"
      ]
     },
     "metadata": {},
     "output_type": "display_data"
    },
    {
     "name": "stdout",
     "output_type": "stream",
     "text": [
      "0.0076239338984801395 None\n"
     ]
    }
   ],
   "source": [
    "n = 3\n",
    "d = 2**n\n",
    "\n",
    "model6_list = []\n",
    "\n",
    "for i in range(5):\n",
    "\n",
    "    inputs_map, inputs_spam, counts_list =  pickle.load(open(f\"../../data/threeQubits_PQC_25usDelay_belem_{i}.p\", \"rb\"))\n",
    "\n",
    "    targets_map = counts_to_probs(counts_list[:2000-6**n])\n",
    "    targets_spam = counts_to_probs(counts_list[2000-6**n:])\n",
    "\n",
    "    data = [inputs_spam, targets_spam, inputs_map, targets_map]\n",
    "\n",
    "    np.random.seed(42)\n",
    "    random.seed(42)\n",
    "    tf.random.set_seed(42)\n",
    "\n",
    "    model = regularized_fit(d, data, num_iter_spam=1000, num_iter_map = 2000, N = 500, start = 25)\n",
    "    model6_list.append(model)"
   ]
  },
  {
   "cell_type": "code",
   "execution_count": 5,
   "metadata": {},
   "outputs": [],
   "source": [
    "#data1 = [model.channel for model in model1_list]\n",
    "#data2 = [model.channel for model in model2_list]\n",
    "#data3 = [model.channel for model in model3_list]\n",
    "#data4 = [model.channel for model in model4_list]\n",
    "data5 = [model.channel for model in model5_list]\n",
    "#data6 = [model.channel for model in model6_list]"
   ]
  },
  {
   "cell_type": "code",
   "execution_count": 6,
   "metadata": {},
   "outputs": [
    {
     "name": "stderr",
     "output_type": "stream",
     "text": [
      "C:\\Users\\krist\\anaconda3\\envs\\env_qiskit\\lib\\site-packages\\matplotlib\\cbook\\__init__.py:1298: ComplexWarning: Casting complex values to real discards the imaginary part\n",
      "  return np.asarray(x, float)\n"
     ]
    },
    {
     "data": {
      "image/png": "[encoded data removed]",
      "text/plain": [
       "<Figure size 2400x2400 with 1 Axes>"
      ]
     },
     "metadata": {},
     "output_type": "display_data"
    }
   ],
   "source": [
    "t = np.linspace(0, 2*np.pi, 100)\n",
    "circle = [np.sin(t), np.cos(t)]\n",
    "\n",
    "#spectrum1_list = [channel_spectrum(channel) for channel in data1]\n",
    "#spectrum2_list = [channel_spectrum(channel) for channel in data2]\n",
    "#spectrum3_list = [channel_spectrum(channel) for channel in data3]\n",
    "#spectrum4_list = [channel_spectrum(channel) for channel in data4]\n",
    "spectrum5_list = [channel_spectrum(channel) for channel in data5]\n",
    "#spectrum6_list = [channel_spectrum(channel) for channel in data6]\n",
    "\n",
    "fig = plt.figure(figsize=(8,8), dpi = 300, facecolor='w', edgecolor='k')\n",
    "ax = fig.add_subplot(111)\n",
    "ax.set_aspect(1)\n",
    "plt.plot(*circle, \"k\")\n",
    "\n",
    "#for spectrum in spectrum1_list:\n",
    "#    plt.plot(spectrum[:,0], spectrum[:,1], \"bo\")\n",
    "\n",
    "#for spectrum in spectrum2_list:\n",
    "#    plt.plot(spectrum[:,0], spectrum[:,1], \"ro\")\n",
    "\n",
    "#for spectrum in spectrum3_list:\n",
    "#    plt.plot(spectrum[:,0], spectrum[:,1], \"go\")\n",
    "\n",
    "#for spectrum in spectrum4_list:\n",
    "#    plt.plot(spectrum[:,0], spectrum[:,1], \"co\")\n",
    "\n",
    "for spectrum in spectrum5_list:\n",
    "    plt.plot(spectrum[:,0], spectrum[:,1], \"yo\")\n",
    "\n",
    "#for spectrum in spectrum6_list:\n",
    "#    plt.plot(spectrum[:,0], spectrum[:,1], \"ko\")\n",
    "\n",
    "plt.show()"
   ]
  },
  {
   "cell_type": "code",
   "execution_count": 211,
   "metadata": {},
   "outputs": [
    {
     "data": {
      "image/png": "[encoded data removed]",
      "text/plain": [
       "<Figure size 432x288 with 1 Axes>"
      ]
     },
     "metadata": {
      "needs_background": "light"
     },
     "output_type": "display_data"
    }
   ],
   "source": [
    "bins = np.logspace(-2, 1, 40)\n",
    "\n",
    "eig1 = np.real(np.concatenate([choi_spectrum(model.channel) for model in model1_list]))\n",
    "eig2 = np.real(np.concatenate([choi_spectrum(model.channel) for model in model2_list]))\n",
    "eig3 = np.real(np.concatenate([choi_spectrum(model.channel) for model in model3_list]))\n",
    "eig4 = np.real(np.concatenate([choi_spectrum(model.channel) for model in model4_list]))\n",
    "eig5 = np.real(np.concatenate([choi_spectrum(model.channel) for model in model5_list]))\n",
    "eig6 = np.real(np.concatenate([choi_spectrum(model.channel) for model in model6_list]))\n",
    "\n",
    "plt.hist(eig1, bins=bins, alpha=0.9)\n",
    "#plt.hist(eig2, bins=bins, alpha=0.5)\n",
    "#plt.hist(eig3, bins=bins, alpha=0.5)\n",
    "plt.hist(eig4, bins=bins, alpha=0.9)\n",
    "#plt.hist(eig5, bins=bins, alpha=0.5)\n",
    "plt.hist(eig6, bins=bins, alpha=0.9)\n",
    "\n",
    "plt.xscale(\"log\")\n",
    "plt.show()"
   ]
  },
  {
   "cell_type": "code",
   "execution_count": 7,
   "metadata": {},
   "outputs": [],
   "source": [
    "def spectrum_to_radial(spectrum):\n",
    "    radial = tf.norm(spectrum, axis=1)\n",
    "    return radial\n",
    "\n",
    "def find_outer_inner_R(spectrum_list):\n",
    "    L = len(spectrum_list)\n",
    "    radial_list = np.array([np.sort(spectrum_to_radial(spectrum)) for spectrum in spectrum_list])\n",
    "    R_minus = np.mean(radial_list[:,0])\n",
    "    R_minus_std = np.std(radial_list[:,0])\n",
    "    R_plus = np.mean(radial_list[:,-1])\n",
    "    R_plus_std = np.std(radial_list[:,-1])\n",
    "    return R_plus, R_minus, R_plus_std, R_minus_std"
   ]
  },
  {
   "cell_type": "code",
   "execution_count": 201,
   "metadata": {},
   "outputs": [],
   "source": [
    "#R_p1, R_m1, R_pStd1, R_mStd1 = find_outer_inner_R([spectrum1_list[i][:-1] for i in range(5)])\n",
    "#R_p2, R_m2, R_pStd2, R_mStd2 = find_outer_inner_R([spectrum2_list[i][:-1] for i in range(5)])\n",
    "#R_p3, R_m3, R_pStd3, R_mStd3 = find_outer_inner_R([spectrum3_list[i][:-1] for i in range(5)])\n",
    "#R_p4, R_m4, R_pStd4, R_mStd4 = find_outer_inner_R([spectrum4_list[i][:-1] for i in range(5)])\n",
    "R_p5, R_m5, R_pStd5, R_mStd5 = find_outer_inner_R([spectrum5_list[i][:-1] for i in range(5)])\n",
    "#R_p6, R_m6, R_pStd6, R_mStd6 = find_outer_inner_R([spectrum6_list[i][:-1] for i in range(5)])"
   ]
  },
  {
   "cell_type": "code",
   "execution_count": 202,
   "metadata": {},
   "outputs": [],
   "source": [
    "x = [0, 5, 10, 15, 20, 25]\n",
    "R_plus = [R_p1, R_p2, R_p3, R_p4, R_p5, R_p6]\n",
    "R_minus = [R_m1, R_m2, R_m3, R_m4, R_m5, R_m6]\n",
    "R_plus_std = [R_pStd1, R_pStd2, R_pStd3, R_pStd4, R_pStd5, R_pStd6]\n",
    "R_minus_std = [R_mStd1, R_mStd2, R_mStd3, R_mStd4, R_mStd5, R_mStd6]"
   ]
  },
  {
   "cell_type": "code",
   "execution_count": 214,
   "metadata": {},
   "outputs": [
    {
     "data": {
      "image/png": "[encoded data removed]",
      "text/plain": [
       "<Figure size 1800x1200 with 1 Axes>"
      ]
     },
     "metadata": {},
     "output_type": "display_data"
    }
   ],
   "source": [
    "fig = plt.figure(figsize=(6,4), dpi = 300, facecolor='w', edgecolor='k')\n",
    "\n",
    "plt.errorbar(x, R_plus, yerr=R_plus_std, fmt=\"o\")\n",
    "plt.errorbar(x, R_minus, yerr=R_minus_std, fmt=\"o\")\n",
    "plt.ylim([0,1])\n",
    "plt.grid()\n",
    "plt.xlabel(\"$\\mu$s\")\n",
    "plt.ylabel(\"Radius\")\n",
    "plt.legend([\"Outer Radius\", \"Inner Radius\"])\n",
    "plt.show()"
   ]
  },
  {
   "cell_type": "markdown",
   "metadata": {},
   "source": [
    "## Entangling Dissipation"
   ]
  },
  {
   "cell_type": "code",
   "execution_count": 8,
   "metadata": {},
   "outputs": [
    {
     "data": {
      "application/vnd.jupyter.widget-view+json": {
       "model_id": "36104f487f064b4da04623023fb13565",
       "version_major": 2,
       "version_minor": 0
      },
      "text/plain": [
       "  0%|          | 0/300 [00:00<?, ?it/s]"
      ]
     },
     "metadata": {},
     "output_type": "display_data"
    },
    {
     "name": "stdout",
     "output_type": "stream",
     "text": [
      "5.028860165440703e-05\n"
     ]
    },
    {
     "data": {
      "application/vnd.jupyter.widget-view+json": {
       "model_id": "a03633b8210a44869247088d569d687f",
       "version_major": 2,
       "version_minor": 0
      },
      "text/plain": [
       "  0%|          | 0/1000 [00:00<?, ?it/s]"
      ]
     },
     "metadata": {},
     "output_type": "display_data"
    },
    {
     "name": "stdout",
     "output_type": "stream",
     "text": [
      "0.00951030127556821\n"
     ]
    },
    {
     "data": {
      "application/vnd.jupyter.widget-view+json": {
       "model_id": "cce890d428e44fb1ab0ee6e1d5eb146d",
       "version_major": 2,
       "version_minor": 0
      },
      "text/plain": [
       "  0%|          | 0/2000 [00:00<?, ?it/s]"
      ]
     },
     "metadata": {},
     "output_type": "display_data"
    },
    {
     "name": "stdout",
     "output_type": "stream",
     "text": [
      "0.009216277011355198 None\n"
     ]
    }
   ],
   "source": [
    "inputs_map, inputs_spam, counts_list =  pickle.load(open(f\"../../data/threeQubits_decay_belem.p\", \"rb\"))\n",
    "n=3\n",
    "d=2**n\n",
    "\n",
    "\n",
    "targets_map = counts_to_probs(counts_list[:2000-6**n])\n",
    "targets_spam = counts_to_probs(counts_list[2000-6**n:])\n",
    "\n",
    "data = [inputs_spam, targets_spam, inputs_map, targets_map]\n",
    "\n",
    "inputs_spam, targets_spam, inputs_map, targets_map = data\n",
    "    \n",
    "spam = SPAM(d=d, \n",
    "            use_corr_mat = True,\n",
    "            optimizer = tf.optimizers.Adam(learning_rate=0.01),\n",
    "            )\n",
    "\n",
    "spam.pretrain(targets = [init_ideal(d), povm_ideal(d)],\n",
    "              num_iter = 300,\n",
    "              verbose = False,\n",
    "              )\n",
    "\n",
    "spam.train(inputs = inputs_spam,\n",
    "           targets = targets_spam,\n",
    "           num_iter = 1000,\n",
    "           verbose = False,\n",
    "          )\n",
    "\n",
    "model = ModelQuantumMap(channel = KrausMap(d=d, \n",
    "                                               rank=16,\n",
    "                                               spam = spam,\n",
    "                                              ),\n",
    "                           loss_function = ProbabilityMSE(),\n",
    "                           optimizer = tf.optimizers.Adam(learning_rate=0.01),\n",
    "                           logger = Logger(loss_function = ProbabilityMSE(), verbose=False),\n",
    "                           )\n",
    "\n",
    "model.train(inputs = inputs_map,\n",
    "            targets = targets_map,\n",
    "            num_iter = 2000,\n",
    "            N = 500,\n",
    "            )  "
   ]
  },
  {
   "cell_type": "code",
   "execution_count": 19,
   "metadata": {},
   "outputs": [],
   "source": [
    "X, A, B = generate_ginibre(2, 2, trainable=True)\n",
    "X, C, D = generate_ginibre(2, 2, trainable=True)\n",
    "X, E, F = generate_ginibre(2, 2, trainable=True)"
   ]
  },
  {
   "cell_type": "code",
   "execution_count": 21,
   "metadata": {},
   "outputs": [
    {
     "name": "stdout",
     "output_type": "stream",
     "text": [
      "0.011440790110371218\n",
      "0.010089608403477909\n",
      "0.008765553692614779\n",
      "0.007473301714655835\n",
      "0.006214006265019712\n",
      "0.004986384820967254\n",
      "0.0037860907134968117\n",
      "0.0026057495759419804\n",
      "0.001432191019224836\n",
      "0.0002404319390357949\n",
      "-0.0020415598466143564\n",
      "-0.004905490681199589\n",
      "-0.010012954777776587\n",
      "-0.015525430517719617\n",
      "-0.021519341338798723\n",
      "-0.027976528215372873\n",
      "-0.03487107608475446\n",
      "-0.04217612069860752\n",
      "-0.049863111551396784\n",
      "-0.05790169196178518\n",
      "-0.06626000231692375\n",
      "-0.07490508629541187\n",
      "-0.08380342667861851\n",
      "-0.09292167424742068\n",
      "-0.10222742181952216\n",
      "-0.11168997362911623\n",
      "-0.12128102476401102\n",
      "-0.13097487900866714\n",
      "-0.140748242762337\n",
      "-0.15057943306683563\n",
      "-0.16044721595196762\n",
      "-0.17032972050182643\n",
      "-0.18020350031802596\n",
      "-0.19004304827180024\n",
      "-0.19982076117943542\n",
      "-0.2095070731694838\n",
      "-0.21907085374621946\n",
      "-0.22848008791165325\n",
      "-0.2377024866429495\n",
      "-0.2467063639363638\n",
      "-0.25546133945325106\n",
      "-0.2639391599692189\n",
      "-0.27211425792685595\n",
      "-0.27996425473541764\n",
      "-0.28747033473069306\n",
      "-0.2946175284668387\n",
      "-0.30139472319045596\n",
      "-0.30779478647071207\n",
      "-0.31381439019126534\n",
      "-0.31945391930601175\n",
      "-0.3247172281384023\n",
      "-0.32961134163295946\n",
      "-0.3341461144030866\n",
      "-0.3383338545885147\n",
      "-0.3421888812525022\n",
      "-0.3457270793706628\n",
      "-0.3489654348370598\n",
      "-0.3519216092280161\n",
      "-0.35461352570834154\n",
      "-0.35705901437327403\n",
      "-0.35927554297986086\n",
      "-0.3612800069011788\n",
      "-0.363088577046334\n",
      "-0.36471664848850405\n",
      "-0.36617880874385067\n",
      "-0.3674888567895913\n",
      "-0.3686598409951759\n",
      "-0.36970411595583097\n",
      "-0.3706333978476637\n",
      "-0.37145880711934026\n",
      "-0.37219091487051925\n",
      "-0.3728397481109852\n",
      "-0.37341479524897064\n",
      "-0.37392499043637323\n",
      "-0.37437868310469347\n",
      "-0.3747836057106644\n",
      "-0.3751468431034092\n",
      "-0.37547480089996277\n",
      "-0.3758838207857945\n",
      "-0.3763210758549097\n",
      "-0.37674342664956373\n",
      "-0.37715092145165285\n",
      "-0.37754357310759007\n",
      "-0.37792152757212366\n",
      "-0.37828514220768966\n",
      "-0.378635001335881\n",
      "-0.3789718585934781\n",
      "-0.37929654363846455\n",
      "-0.37960985044845813\n",
      "-0.3799124418144622\n",
      "-0.38020479241941835\n",
      "-0.38048716997568655\n",
      "-0.3807596650845712\n",
      "-0.38102223827734766\n",
      "-0.3812747881681296\n",
      "-0.38151721330069827\n",
      "-0.38174945698026463\n",
      "-0.38197154109383225\n",
      "-0.3821835723339374\n",
      "-0.3823857355174655\n",
      "-0.3825782714185231\n",
      "-0.3827614520409626\n",
      "-0.3829355573384447\n",
      "-0.38310085850017195\n",
      "-0.3832576096106204\n",
      "-0.3834060523704902\n",
      "-0.38354642252284327\n",
      "-0.38367896376017047\n",
      "-0.38380393984000466\n",
      "-0.38392164196099277\n",
      "-0.3840323931069041\n",
      "-0.384136544372922\n",
      "-0.3842344672423896\n",
      "-0.3843265441428336\n",
      "-0.384413155272783\n",
      "-0.3844946685683406\n",
      "-0.3845714325902492\n",
      "-0.3846437720285855\n",
      "-0.3847119874202299\n",
      "-0.38477635763832646\n",
      "-0.38483714445216943\n",
      "-0.3848945967984153\n",
      "-0.3849489548175477\n",
      "-0.3850004514282629\n",
      "-0.38504931321250385\n",
      "-0.3850957590570293\n",
      "-0.38513999732511595\n",
      "-0.3851822234276114\n",
      "-0.3852226166926368\n",
      "-0.38526133937219664\n",
      "-0.38529853523756846\n",
      "-0.3853343309434747\n",
      "-0.38536883834530944\n",
      "-0.3854021542524291\n",
      "-0.3854343663827119\n",
      "-0.3854655532444207\n",
      "-0.38549578739738377\n",
      "-0.3855251351799494\n",
      "-0.3855536587648866\n",
      "-0.3855814159984756\n",
      "-0.38560846108740743\n",
      "-0.38563484400343184\n",
      "-0.3856606098143437\n",
      "-0.3856858009434045\n",
      "-0.3857104557157106\n",
      "-0.3857346094059559\n",
      "-0.38575829565958825\n",
      "-0.3857815453669065\n",
      "-0.38580438783852905\n",
      "-0.3858268515618792\n",
      "-0.38584896240395994\n",
      "-0.38587074592343806\n",
      "-0.38589222583151384\n",
      "-0.3859134233165792\n",
      "-0.385934358539532\n",
      "-0.3859550506541553\n",
      "-0.3859755162670851\n",
      "-0.3859957717874875\n",
      "-0.38601583182083365\n",
      "-0.3860357106137011\n",
      "-0.386055421523312\n",
      "-0.38607497744140584\n",
      "-0.38609439040658217\n",
      "-0.3861136715042844\n",
      "-0.38613283112383023\n",
      "-0.3861518785971541\n",
      "-0.3861708228491337\n",
      "-0.3861896716690327\n",
      "-0.3862084317009744\n",
      "-0.3862271093824208\n",
      "-0.3862457101542599\n",
      "-0.38626423909084345\n",
      "-0.3862827006602147\n",
      "-0.38630109947664965\n",
      "-0.38631943908821503\n",
      "-0.3863377233488554\n",
      "-0.38635595574609544\n",
      "-0.3863741394481832\n",
      "-0.3863922770935602\n",
      "-0.38641037117264027\n",
      "-0.3864284244363093\n",
      "-0.3864464389776997\n",
      "-0.38646441668589265\n",
      "-0.3864823594180425\n",
      "-0.3865002691478374\n",
      "-0.3865181475037584\n",
      "-0.386535996161369\n",
      "-0.3865538164960213\n",
      "-0.38657160972512566\n",
      "-0.3865893777432237\n",
      "-0.38660712120011276\n",
      "-0.38662484130530267\n",
      "-0.38664253964129675\n",
      "-0.3866602169782014\n",
      "-0.38667787406879905\n",
      "-0.3866955118049027\n",
      "-0.386713131446327\n",
      "-0.38673073345822956\n",
      "-0.38674831864108733\n",
      "-0.38676588793188693\n",
      "-0.3867834419058034\n",
      "-0.386800980953691\n",
      "-0.38681850631089787\n",
      "-0.38683601793985695\n",
      "-0.38685351675578505\n",
      "-0.38687100308039224\n",
      "-0.3868884780821246\n",
      "-0.3869059417077837\n",
      "-0.3869233949459627\n",
      "-0.3869408381934345\n",
      "-0.386958272041652\n",
      "-0.38697569669573334\n",
      "-0.38699311293581895\n",
      "-0.3870105214652965\n",
      "-0.38702792225964927\n",
      "-0.38704531654248625\n",
      "-0.38706270417986904\n",
      "-0.3870800863980051\n",
      "-0.3870974634607269\n",
      "-0.3871148359571154\n",
      "-0.38713220413962646\n",
      "-0.38714956848917176\n",
      "-0.3871669299772439\n",
      "-0.387184288792878\n",
      "-0.38720164576077\n",
      "-0.3872190012709016\n",
      "-0.3872363560817259\n",
      "-0.3872537106905753\n",
      "-0.3872710652685748\n",
      "-0.387288421215586\n",
      "-0.3873057783109116\n",
      "-0.3873231373189387\n",
      "-0.3873404989173286\n",
      "-0.38735786335141664\n",
      "-0.3873752314149723\n",
      "-0.3873926037038397\n",
      "-0.3874099807866343\n",
      "-0.38742736324004245\n",
      "-0.38744475122246674\n",
      "-0.38746214536579754\n",
      "-0.38747954639217347\n",
      "-0.38749695486666247\n",
      "-0.38751437150838686\n",
      "-0.38753179623905776\n",
      "-0.3875492300995112\n",
      "-0.38756667334696704\n",
      "-0.38758412661064845\n",
      "-0.38760159034809805\n",
      "-0.38761906506117333\n",
      "-0.38763655139973885\n",
      "-0.38765404932048464\n",
      "-0.38767156019230936\n",
      "-0.38768908380567346\n",
      "-0.38770662078140145\n",
      "-0.3877241715129204\n",
      "-0.3877417365599784\n",
      "-0.38775931605349584\n",
      "-0.38777691076869764\n",
      "-0.3877945213114858\n",
      "-0.3878121480091175\n",
      "-0.3878297911414346\n",
      "-0.3878474511137766\n",
      "-0.3878651279587417\n",
      "-0.3878828225080692\n",
      "-0.387900534861129\n",
      "-0.38791826553941394\n",
      "-0.3879360150446627\n",
      "-0.38795378386259805\n",
      "-0.38797157170539753\n",
      "-0.38798937939341205\n",
      "-0.38800720733283545\n",
      "-0.38802505579385704\n",
      "-0.3880429246034171\n",
      "-0.3880608143840234\n",
      "-0.3880787256080691\n",
      "-0.38809665802610976\n",
      "-0.3881146123344196\n",
      "-0.38813258888271646\n",
      "-0.3881505876989489\n",
      "-0.388168609127173\n",
      "-0.3881866533267467\n",
      "-0.3882047200443094\n",
      "-0.38822281009431947\n",
      "-0.388240923688639\n",
      "-0.38825906071095845\n",
      "-0.3882772213759705\n",
      "-0.3882954059254303\n",
      "-0.3883136147050465\n",
      "-0.3883318475576757\n",
      "-0.3883501045553807\n",
      "-0.3883683859189291\n",
      "-0.3883866918966038\n",
      "-0.3884050227204377\n",
      "-0.38842337804619026\n",
      "-0.38844175834105577\n",
      "-0.3884601630143359\n",
      "-0.38847859260948264\n",
      "-0.38849704739328805\n",
      "-0.38851552707261583\n",
      "-0.38853403156844346\n",
      "-0.3885525611540104\n",
      "-0.38857111544782313\n",
      "-0.38858969478426075\n",
      "-0.3886082989120455\n",
      "-0.3886269279993209\n",
      "-0.38864558195243426\n",
      "-0.388664260549907\n",
      "-0.3886829636026275\n",
      "-0.3887016911205275\n",
      "-0.38872044318168775\n",
      "-0.3887392198014437\n",
      "-0.388758020425058\n",
      "-0.3887768451440863\n",
      "-0.3887956937750998\n",
      "-0.38881456599117886\n",
      "-0.38883346185253714\n",
      "-0.3888523811193093\n",
      "-0.38887132357437887\n",
      "-0.38889028908407464\n",
      "-0.38890927709408823\n",
      "-0.38892828756555686\n",
      "-0.3889473203014552\n",
      "-0.38896637488785785\n",
      "-0.38898545120690664\n",
      "-0.38900454872277107\n",
      "-0.3890236675276192\n",
      "-0.38904280685639675\n",
      "-0.3890619668896709\n",
      "-0.389081146917585\n",
      "-0.38910034678785366\n",
      "-0.389119565968037\n",
      "-0.38913880417449964\n",
      "-0.3891580608111095\n",
      "-0.3891773355286265\n",
      "-0.3891966283165046\n",
      "-0.3892159383183711\n",
      "-0.38923526525303764\n",
      "-0.38925460855862326\n",
      "-0.3892739678051166\n",
      "-0.3892933429315688\n",
      "-0.3893127328893777\n",
      "-0.38933213748417583\n",
      "-0.38935155608264727\n",
      "-0.38937098835506323\n",
      "-0.3893904334695373\n",
      "-0.3894098909998902\n",
      "-0.3894293604189524\n",
      "-0.38944884129852597\n",
      "-0.3894683324696511\n",
      "-0.38948783388740826\n",
      "-0.3895073449705198\n",
      "-0.389526864671663\n",
      "-0.38954639270574504\n",
      "-0.38956592856465666\n",
      "-0.38958547123022247\n",
      "-0.38960502006844\n",
      "-0.3896245745776991\n",
      "-0.38964413399378983\n",
      "-0.3896636976497913\n",
      "-0.38968326489381805\n",
      "-0.38970283490597973\n",
      "-0.38972240686307635\n",
      "-0.38974198002716476\n",
      "-0.38976155383804906\n",
      "-0.3897811274519697\n",
      "-0.38980070014285284\n",
      "-0.3898202707193793\n",
      "-0.389839838790044\n",
      "-0.3898594036353778\n",
      "-0.3898789639341358\n",
      "-0.38989851935530906\n",
      "-0.3899180688467342\n",
      "-0.3899376116090406\n",
      "-0.38995714718249375\n",
      "-0.389976674109247\n",
      "-0.38999619162099536\n",
      "-0.3900156988842409\n",
      "-0.3900351950626604\n",
      "-0.3900546792968435\n",
      "-0.3900741505367075\n",
      "-0.39009360800597515\n",
      "-0.3901130508328333\n",
      "-0.39013247790076705\n",
      "-0.39015188802452533\n",
      "-0.3901712806738935\n",
      "-0.39019065472367953\n",
      "-0.3902100091750562\n",
      "-0.390229343031852\n",
      "-0.3902486554134206\n",
      "-0.3902679453017537\n",
      "-0.39028721196893035\n",
      "-0.3903064543192874\n",
      "-0.3903256706850375\n",
      "-0.3903448607841553\n",
      "-0.39036402306127554\n",
      "-0.390383156807002\n",
      "-0.3904022612160629\n",
      "-0.3904213348035969\n",
      "-0.3904403769329658\n",
      "-0.39045938608932845\n",
      "-0.3904783615215122\n",
      "-0.3904973021779497\n",
      "-0.39051620696455797\n",
      "-0.39053507466575127\n",
      "-0.3905539044577644\n",
      "-0.39057269509093473\n",
      "-0.39059144563277115\n"
     ]
    },
    {
     "name": "stdout",
     "output_type": "stream",
     "text": [
      "-0.39061015496764484\n",
      "-0.3906288219648189\n",
      "-0.3906474455318233\n",
      "-0.39066602486201424\n",
      "-0.39068455861534074\n",
      "-0.39070304556681196\n",
      "-0.3907214847771131\n",
      "-0.39073987541592714\n",
      "-0.39075821598069765\n",
      "-0.39077650572117933\n",
      "-0.3907947432879681\n",
      "-0.3908129279826791\n",
      "-0.39083105832257126\n",
      "-0.3908491335756074\n",
      "-0.3908671524017315\n",
      "-0.39088511390398045\n",
      "-0.3909030168447129\n",
      "-0.39092086015634925\n",
      "-0.3909386427757775\n",
      "-0.3909563636777812\n",
      "-0.39097402186550223\n",
      "-0.39099161626294343\n",
      "-0.3910091457323248\n",
      "-0.39102660940398365\n",
      "-0.3910440060056466\n",
      "-0.3910613347545807\n",
      "-0.3910785942948954\n",
      "-0.3910957838979423\n",
      "-0.3911129024338286\n",
      "-0.39112994898666\n",
      "-0.3911469225446115\n",
      "-0.39116382166788316\n",
      "-0.39118064592276464\n",
      "-0.39119739416703336\n",
      "-0.3912140652950366\n",
      "-0.39123065853031014\n",
      "-0.39124717266424786\n",
      "-0.3912636067955235\n",
      "-0.3912799604563916\n",
      "-0.39129623224670324\n",
      "-0.3913124214240163\n",
      "-0.3913285271507852\n",
      "-0.3913445482537522\n",
      "-0.3913604840043282\n",
      "-0.39137633340476957\n",
      "-0.3913920959406604\n",
      "-0.39140777044198716\n",
      "-0.3914233563572265\n",
      "-0.39143885283705704\n",
      "-0.3914542588526466\n",
      "-0.391469573774389\n",
      "-0.3914847965344479\n",
      "-0.39149992689446833\n",
      "-0.391514963486946\n",
      "-0.3915299060159677\n",
      "-0.39154475375213627\n",
      "-0.3915595058097991\n",
      "-0.3915741615256923\n",
      "-0.3915887202258377\n",
      "-0.39160318125850263\n",
      "-0.3916175439775012\n",
      "-0.391631807844195\n",
      "-0.3916459720602424\n",
      "-0.39166003609436023\n",
      "-0.3916739994683921\n",
      "-0.39168786170108855\n",
      "-0.3917016221063843\n",
      "-0.39171528030078384\n",
      "-0.39172883552981885\n",
      "-0.3917422875528426\n",
      "-0.391755635955909\n",
      "-0.3917688797680359\n",
      "-0.3917820190971217\n",
      "-0.39179505338284537\n",
      "-0.39180798208682466\n",
      "-0.3918208049393143\n",
      "-0.3918335215346646\n",
      "-0.39184613152123754\n",
      "-0.3918586349545253\n",
      "-0.3918710309734536\n",
      "-0.3918833194617808\n",
      "-0.3918955004563201\n",
      "-0.39190757353358935\n",
      "-0.3919195382598802\n",
      "-0.3919313946634446\n",
      "-0.39194314243487843\n",
      "-0.39195478164966185\n",
      "-0.3919663120517773\n",
      "-0.391977733242091\n",
      "-0.3919890454198325\n",
      "-0.39200024835600966\n",
      "-0.39201134219729844\n",
      "-0.39202232667022646\n",
      "-0.39203320199546055\n",
      "-0.3920439678176966\n",
      "-0.392054624452503\n",
      "-0.3920651719285887\n",
      "-0.3920756101032895\n",
      "-0.3920859392272039\n",
      "-0.3920961591830547\n",
      "-0.3921062704137367\n",
      "-0.3921162727748741\n",
      "-0.3921261665266722\n",
      "-0.3921359518410144\n",
      "-0.39214562911801165\n",
      "-0.39215519816765976\n",
      "-0.39216465929761735\n",
      "-0.3921740126423456\n",
      "-0.3921832587020783\n",
      "-0.39219239785442495\n",
      "-0.39220143020485926\n",
      "-0.3922103560733175\n",
      "-0.392219175792741\n",
      "-0.39222788975129586\n",
      "-0.39223649830784685\n",
      "-0.39224500202632134\n",
      "-0.3922534010873673\n",
      "-0.39226169583215803\n",
      "-0.3922698869008395\n",
      "-0.39227797458527164\n",
      "-0.3922859593884761\n",
      "-0.3922938417825813\n",
      "-0.39230162222869486\n",
      "-0.39230930135090725\n",
      "-0.3923168795657829\n",
      "-0.392324357578126\n",
      "-0.39233173564193063\n",
      "-0.39233901461057413\n",
      "-0.3923461949436644\n",
      "-0.392353277123931\n",
      "-0.39236026178633604\n",
      "-0.3923671497075629\n",
      "-0.3923739413842438\n",
      "-0.39238063745214924\n",
      "-0.39238723870048314\n",
      "-0.39239374567470875\n",
      "-0.39240015891539626\n",
      "-0.39240647920812477\n",
      "-0.39241270726343186\n",
      "-0.39241884374292796\n",
      "-0.39242488935679376\n",
      "-0.39243084500034536\n",
      "-0.3924367111389169\n",
      "-0.392442488693887\n",
      "-0.39244817818867667\n",
      "-0.39245378055657737\n",
      "-0.392459296473701\n",
      "-0.3924647268034624\n",
      "-0.3924700722782962\n",
      "-0.39247533367890003\n",
      "-0.3924805117145051\n",
      "-0.39248560721447306\n",
      "-0.39249062085138464\n",
      "-0.3924955536810839\n",
      "-0.39250040629993055\n",
      "-0.392505179625564\n",
      "-0.39250987436560125\n",
      "-0.39251449140043027\n",
      "-0.39251903157127904\n",
      "-0.3925234956249795\n",
      "-0.39252788438434877\n",
      "-0.39253219866386346\n",
      "-0.3925364393961252\n",
      "-0.3925406073342306\n",
      "-0.39254470335869196\n",
      "-0.39254872828212634\n",
      "-0.3925526828785199\n",
      "-0.39255656805350775\n",
      "-0.39256038464567056\n",
      "-0.3925641333328172\n",
      "-0.3925678150159727\n",
      "-0.39257143058832933\n",
      "-0.3925749809663004\n",
      "-0.3925784667878478\n",
      "-0.3925818890066953\n",
      "-0.39258524841682724\n",
      "-0.3925885458006535\n",
      "-0.39259178202802963\n",
      "-0.3925949580007335\n",
      "-0.3925980742774672\n",
      "-0.3926011319251401\n",
      "-0.39260413169991887\n",
      "-0.3926070743223888\n",
      "-0.3926099606810378\n",
      "-0.3926127915398287\n",
      "-0.3926155676575684\n",
      "-0.3926182898917856\n",
      "-0.39262095901973726\n",
      "-0.39262357572386936\n",
      "-0.3926261409538379\n",
      "-0.39262865546651704\n",
      "-0.39263111989662197\n",
      "-0.3926335351095471\n",
      "-0.392635901814579\n",
      "-0.3926382208774084\n",
      "-0.3926404929276021\n",
      "-0.3926427188168674\n",
      "-0.3926448990853366\n",
      "-0.3926470346050144\n",
      "-0.39264912613115865\n",
      "-0.3926511743164766\n",
      "-0.392653179894221\n",
      "-0.39265514353366904\n",
      "-0.3926570659661966\n",
      "-0.3926589478765441\n",
      "-0.39266078999460335\n",
      "-0.39266259302828044\n",
      "-0.3926643575419476\n",
      "-0.39266608424783145\n",
      "-0.3926677738013553\n",
      "-0.3926694268578089\n",
      "-0.3926710440243906\n",
      "-0.392672625955857\n",
      "-0.3926741732992709\n",
      "-0.39267568673599534\n",
      "-0.3926771667489234\n",
      "-0.39267861409489335\n",
      "-0.3926800292589362\n",
      "-0.39268141291740466\n",
      "-0.3926827655915124\n",
      "-0.3926840879040836\n",
      "-0.39268538040868267\n",
      "-0.3926866436676784\n",
      "-0.39268787834651353\n",
      "-0.3926890848153982\n",
      "-0.39269026368112675\n",
      "-0.39269141553768117\n",
      "-0.39269254081867033\n",
      "-0.3926936400957216\n",
      "-0.3926947139647155\n",
      "-0.39269576275435086\n",
      "-0.3926967871039583\n",
      "-0.3926977873691413\n",
      "-0.39269876416809946\n",
      "-0.3926997179028328\n",
      "-0.3927006490866604\n",
      "-0.39270155816816177\n",
      "-0.3927024456006532\n",
      "-0.3927033118084388\n",
      "-0.39270415722723556\n",
      "-0.39270498233227474\n",
      "-0.392705787531619\n",
      "-0.3927065732661388\n",
      "-0.39270733989113615\n",
      "-0.39270808789484635\n",
      "-0.39270881759144677\n",
      "-0.3927095294232386\n",
      "-0.3927102237586908\n",
      "-0.3927109009689858\n",
      "-0.3927115614513123\n",
      "-0.39271220557585973\n",
      "-0.3927128336427655\n",
      "-0.39271344606709624\n",
      "-0.3927140431615156\n",
      "-0.3927146252726485\n",
      "-0.3927151927448801\n",
      "-0.39271574591527225\n",
      "-0.3927162850701857\n",
      "-0.3927168105305418\n",
      "-0.3927173226453973\n",
      "-0.3927178217087966\n",
      "-0.3927183080273805\n",
      "-0.3927187818782234\n",
      "-0.3927192435302955\n",
      "-0.3927196933086354\n",
      "-0.3927201314373366\n",
      "-0.3927205581856797\n",
      "-0.39272097384374793\n",
      "-0.39272137868962487\n",
      "-0.3927217729633382\n",
      "-0.3927221569199753\n",
      "-0.3927225307798365\n",
      "-0.39272289479988554\n",
      "-0.39272324922932583\n",
      "-0.3927235942627971\n",
      "-0.39272393018952645\n",
      "-0.3927242571915168\n",
      "-0.3927245755003266\n",
      "-0.39272488527852023\n",
      "-0.39272518677941654\n",
      "-0.3927254801657426\n",
      "-0.3927257656579503\n",
      "-0.39272604345162543\n",
      "-0.39272631376721057\n",
      "-0.39272657674809025\n",
      "-0.39272683257471547\n",
      "-0.39272708144469065\n",
      "-0.3927273235628807\n",
      "-0.39272755904902157\n",
      "-0.39272778808579656\n",
      "-0.3927280108465274\n",
      "-0.39272822747635383\n",
      "-0.39272843812928726\n",
      "-0.3927286429692279\n",
      "-0.3927288421353834\n",
      "-0.3927290357793724\n",
      "-0.3927292240453859\n",
      "-0.39272940705316306\n",
      "-0.3927295849410161\n",
      "-0.39272975788096776\n",
      "-0.3927299259647152\n",
      "-0.39273008931911446\n",
      "-0.3927302480805951\n",
      "-0.39273040236611545\n",
      "-0.39273055229017095\n",
      "-0.3927306979455991\n",
      "-0.3927308394942152\n",
      "-0.39273097701909854\n",
      "-0.39273111061670063\n",
      "-0.3927312404051298\n",
      "-0.3927313664697169\n",
      "-0.3927314889317979\n",
      "-0.3927316078744431\n",
      "-0.39273172338617124\n",
      "-0.3927318355817228\n",
      "-0.3927319445387387\n",
      "-0.39273205033182146\n",
      "-0.3927321530595456\n",
      "-0.3927322528075643\n",
      "-0.39273234964839027\n",
      "-0.39273244368565896\n",
      "-0.39273253497528665\n",
      "-0.3927326236064639\n",
      "-0.3927327096210193\n",
      "-0.3927327931170763\n",
      "-0.3927328741567616\n",
      "-0.3927329528143044\n",
      "-0.3927330291445853\n",
      "-0.3927331032255667\n",
      "-0.39273317511022104\n",
      "-0.39273324485747063\n",
      "-0.39273331252930094\n",
      "-0.39273337819361026\n",
      "-0.3927334418954769\n",
      "-0.39273350369096394\n",
      "-0.3927335636429458\n",
      "-0.39273362180043525\n",
      "-0.392733678210707\n",
      "-0.392733732922649\n",
      "-0.3927337859876599\n",
      "-0.39273383744796503\n",
      "-0.392733887351529\n",
      "-0.3927339357540013\n",
      "-0.39273398268294274\n",
      "-0.3927340281876006\n",
      "-0.39273407230776\n",
      "-0.39273411508846207\n",
      "-0.39273415656538097\n",
      "-0.3927341967702605\n",
      "-0.3927342357437859\n",
      "-0.39273427352055357\n",
      "-0.39273431013823223\n",
      "-0.39273434562871873\n",
      "-0.39273438002690936\n",
      "-0.39273441335577636\n",
      "-0.39273444566139354\n",
      "-0.39273447696864394\n",
      "-0.3927345073058585\n",
      "-0.3927345367048448\n",
      "-0.3927345651918004\n",
      "-0.3927345927901979\n",
      "-0.3927346195223988\n",
      "-0.3927346454240179\n",
      "-0.39273467051289446\n",
      "-0.39273469481705475\n",
      "-0.3927347183563199\n",
      "-0.39273474115976265\n",
      "-0.3927347632426266\n",
      "-0.39273478462603456\n",
      "-0.39273480534462474\n",
      "-0.3927348253980122\n",
      "-0.3927348448214224\n",
      "-0.39273486363074916\n",
      "-0.39273488184179745\n",
      "-0.3927348994761929\n",
      "-0.3927349165450923\n",
      "-0.39273493307313107\n",
      "-0.39273494907010836\n",
      "-0.39273496455555934\n",
      "-0.3927349795453898\n",
      "-0.3927349940579716\n",
      "-0.3927350080998982\n",
      "-0.39273502169136365\n",
      "-0.39273503484955874\n",
      "-0.3927350475840561\n",
      "-0.39273505990613\n",
      "-0.3927350718292972\n",
      "-0.39273508336798224\n",
      "-0.3927350945315757\n",
      "-0.3927351053321086\n",
      "-0.39273511578216524\n",
      "-0.39273512589182996\n",
      "-0.39273513567076035\n",
      "-0.392735145130965\n",
      "-0.3927351542821018\n",
      "-0.39273516313437057\n",
      "-0.39273517169801414\n",
      "-0.3927351799771321\n",
      "-0.3927351879840099\n",
      "-0.3927351957287647\n",
      "-0.39273520321829064\n",
      "-0.392735210465209\n",
      "-0.39273521746704315\n",
      "-0.39273522424034213\n",
      "-0.3927352307889876\n",
      "-0.3927352371191733\n",
      "-0.3927352432414851\n",
      "-0.39273524916192515\n",
      "-0.392735254883016\n",
      "-0.39273526041155565\n",
      "-0.39273526575823015\n",
      "-0.39273527092442245\n",
      "-0.3927352759209847\n",
      "-0.3927352807463171\n",
      "-0.392735285411802\n"
     ]
    },
    {
     "name": "stdout",
     "output_type": "stream",
     "text": [
      "-0.392735289918921\n",
      "-0.39273529427505754\n",
      "-0.3927352984844559\n",
      "-0.3927353025505596\n",
      "-0.39273530647682947\n",
      "-0.3927353102710986\n",
      "-0.392735313938667\n",
      "-0.39273531748172413\n",
      "-0.39273532090463664\n",
      "-0.3927353242114203\n",
      "-0.3927353274069851\n",
      "-0.39273533049159387\n",
      "-0.39273533347304634\n",
      "-0.3927353363525036\n",
      "-0.39273533913199504\n",
      "-0.39273534181719955\n",
      "-0.392735344410035\n",
      "-0.39273534691397355\n",
      "-0.39273534933385773\n",
      "-0.3927353516682003\n",
      "-0.39273535392325476\n",
      "-0.39273535610070276\n",
      "-0.39273535820245203\n",
      "-0.39273536023154976\n",
      "-0.39273536219194777\n",
      "-0.3927353640818216\n",
      "-0.3927353659077104\n",
      "-0.39273536767000916\n",
      "-0.39273536937124365\n",
      "-0.3927353710121169\n",
      "-0.3927353725962887\n",
      "-0.3927353741264626\n",
      "-0.39273537560122523\n",
      "-0.39273537702579187\n",
      "-0.3927353783997329\n",
      "-0.39273537972557854\n",
      "-0.3927353810058877\n",
      "-0.39273538224183974\n",
      "-0.3927353834325243\n",
      "-0.3927353845808364\n",
      "-0.39273538568759975\n",
      "-0.3927353867558367\n",
      "-0.3927353877878794\n",
      "-0.3927353887823243\n",
      "-0.39273538974061073\n",
      "-0.3927353906652346\n",
      "-0.39273539155742565\n",
      "-0.3927353924172214\n",
      "-0.39273539324637113\n",
      "-0.39273539404662156\n",
      "-0.39273539481752484\n",
      "-0.3927353955616845\n",
      "-0.39273539627936094\n",
      "-0.39273539697168475\n",
      "-0.3927353976396052\n",
      "-0.3927353982837123\n",
      "-0.3927353989038155\n",
      "-0.39273539950167413\n",
      "-0.39273540007688706\n",
      "-0.39273540063261614\n",
      "-0.3927354011683632\n",
      "-0.39273540168388416\n",
      "-0.3927354021814712\n",
      "-0.392735402661403\n",
      "-0.3927354031229498\n",
      "-0.39273540356800524\n",
      "-0.3927354039968588\n",
      "-0.3927354044109538\n",
      "-0.39273540480904673\n",
      "-0.39273540519217526\n",
      "-0.3927354055621478\n",
      "-0.3927354059183566\n",
      "-0.3927354062614379\n",
      "-0.39273540659248846\n",
      "-0.39273540691104\n",
      "-0.39273540721752964\n",
      "-0.39273540751309327\n",
      "-0.39273540779740435\n",
      "-0.39273540807097357\n",
      "-0.39273540833464365\n",
      "-0.392735408588557\n",
      "-0.3927354088333621\n",
      "-0.39273540906944326\n",
      "-0.3927354092961442\n",
      "-0.3927354095145037\n",
      "-0.3927354097250091\n",
      "-0.3927354099274095\n",
      "-0.3927354101225697\n",
      "-0.39273541030999837\n",
      "-0.3927354104905751\n",
      "-0.39273541066401796\n",
      "-0.3927354108316621\n",
      "-0.39273541099269205\n",
      "-0.39273541114777866\n",
      "-0.3927354112967035\n",
      "-0.3927354114399403\n",
      "-0.39273541157844893\n",
      "-0.39273541171163656\n",
      "-0.39273541183977967\n",
      "-0.39273541196318273\n",
      "-0.39273541208184215\n",
      "-0.3927354121956353\n",
      "-0.392735412305161\n",
      "-0.3927354124111612\n",
      "-0.3927354125126418\n",
      "-0.39273541261010314\n",
      "-0.3927354127041237\n",
      "-0.39273541279445934\n",
      "-0.39273541288179536\n",
      "-0.39273541296560593\n",
      "-0.392735413045796\n",
      "-0.392735413123518\n",
      "-0.3927354131977348\n",
      "-0.3927354132692538\n",
      "-0.3927354133381603\n",
      "-0.3927354134045853\n",
      "-0.3927354134680402\n",
      "-0.39273541352936553\n",
      "-0.39273541358828423\n",
      "-0.3927354136447084\n",
      "-0.39273541369914544\n",
      "-0.3927354137512113\n",
      "-0.3927354138014095\n",
      "-0.3927354138498134\n",
      "-0.39273541389615746\n",
      "-0.3927354139409064\n",
      "-0.3927354139836986\n",
      "-0.3927354140248069\n",
      "-0.39273541406441287\n",
      "-0.3927354141024829\n",
      "-0.39273541413885743\n",
      "-0.3927354141739222\n",
      "-0.3927354142078134\n",
      "-0.39273541424022645\n",
      "-0.3927354142716245\n",
      "-0.3927354143015696\n",
      "-0.3927354143303792\n",
      "-0.39273541435819886\n",
      "-0.39273541438469506\n",
      "-0.39273541441003745\n",
      "-0.39273541443458615\n",
      "-0.3927354144581079\n",
      "-0.39273541448071986\n",
      "-0.39273541450254323\n",
      "-0.39273541452321364\n",
      "-0.3927354145431846\n",
      "-0.3927354145623838\n",
      "-0.39273541458082256\n",
      "-0.3927354145984469\n",
      "-0.39273541461552686\n",
      "-0.39273541463188794\n",
      "-0.3927354146474066\n",
      "-0.392735414662502\n",
      "-0.39273541467698786\n",
      "-0.39273541469074025\n",
      "-0.39273541470410495\n",
      "-0.3927354147168999\n",
      "-0.3927354147292383\n",
      "-0.39273541474092144\n",
      "-0.39273541475219464\n",
      "-0.39273541476307533\n",
      "-0.3927354147734841\n",
      "-0.3927354147835723\n",
      "-0.39273541479320667\n",
      "-0.3927354148024222\n",
      "-0.3927354148112042\n",
      "-0.3927354148197253\n",
      "-0.3927354148278394\n",
      "-0.3927354148356159\n",
      "-0.3927354148430841\n",
      "-0.3927354148503341\n",
      "-0.39273541485728225\n",
      "-0.39273541486383007\n",
      "-0.39273541487008645\n",
      "-0.3927354148761325\n",
      "-0.3927354148819065\n",
      "-0.3927354148875406\n",
      "-0.3927354148929148\n",
      "-0.39273541489801145\n",
      "-0.3927354149028785\n",
      "-0.3927354149075964\n",
      "-0.39273541491218467\n",
      "-0.3927354149165408\n",
      "-0.39273541492073927\n",
      "-0.39273541492461417\n",
      "-0.39273541492838937\n",
      "-0.39273541493203223\n",
      "-0.3927354149355627\n",
      "-0.39273541493896813\n",
      "-0.3927354149422329\n",
      "-0.392735414945314\n",
      "-0.39273541494824216\n",
      "-0.39273541495107195\n",
      "-0.39273541495384023\n",
      "-0.3927354149564368\n",
      "-0.39273541495894565\n",
      "-0.3927354149613074\n",
      "-0.3927354149635855\n",
      "-0.3927354149657404\n",
      "-0.39273541496780445\n",
      "-0.3927354149697996\n",
      "-0.3927354149717361\n",
      "-0.3927354149735808\n",
      "-0.39273541497536574\n",
      "-0.3927354149770837\n",
      "-0.39273541497869874\n",
      "-0.39273541498027686\n",
      "-0.39273541498177555\n",
      "-0.39273541498319786\n",
      "-0.3927354149845264\n",
      "-0.3927354149858171\n",
      "-0.39273541498705167\n",
      "-0.39273541498824327\n",
      "-0.3927354149893891\n",
      "-0.39273541499044695\n",
      "-0.3927354149914814\n",
      "-0.3927354149924765\n",
      "-0.3927354149934271\n",
      "-0.39273541499435805\n",
      "-0.3927354149952439\n",
      "-0.39273541499607323\n",
      "-0.39273541499687636\n",
      "-0.3927354149976444\n",
      "-0.39273541499839243\n",
      "-0.39273541499910924\n",
      "-0.39273541499977865\n",
      "-0.3927354150004111\n",
      "-0.39273541500102704\n",
      "-0.39273541500162407\n",
      "-0.3927354150021913\n",
      "-0.3927354150027458\n",
      "-0.3927354150032876\n",
      "-0.3927354150038078\n",
      "-0.39273541500428616\n",
      "-0.392735415004728\n",
      "-0.39273541500514275\n",
      "-0.3927354150055416\n",
      "-0.39273541500592274\n",
      "-0.3927354150062885\n",
      "-0.3927354150066436\n",
      "-0.39273541500697495\n",
      "-0.39273541500728315\n",
      "-0.3927354150075843\n",
      "-0.392735415007879\n",
      "-0.3927354150081596\n",
      "-0.3927354150084269\n",
      "-0.3927354150086851\n",
      "-0.3927354150089302\n",
      "-0.39273541500916664\n",
      "-0.392735415009401\n",
      "-0.3927354150096223\n",
      "-0.3927354150098334\n",
      "-0.3927354150100419\n",
      "-0.3927354150102411\n",
      "-0.3927354150104355\n",
      "-0.39273541501062\n",
      "-0.39273541501079773\n",
      "-0.39273541501097214\n",
      "-0.3927354150111285\n",
      "-0.3927354150112765\n",
      "-0.3927354150114191\n",
      "-0.3927354150115537\n",
      "-0.392735415011678\n",
      "-0.3927354150117978\n",
      "-0.39273541501191356\n",
      "-0.39273541501201864\n",
      "-0.39273541501212067\n",
      "-0.3927354150122208\n",
      "-0.39273541501231696\n",
      "-0.39273541501240916\n",
      "-0.39273541501249515\n",
      "-0.39273541501257514\n",
      "-0.39273541501265086\n",
      "-0.3927354150127224\n",
      "-0.3927354150127917\n",
      "-0.39273541501286213\n",
      "-0.39273541501293097\n",
      "-0.39273541501299936\n",
      "-0.3927354150130644\n",
      "-0.39273541501311887\n",
      "-0.392735415013174\n",
      "-0.3927354150132255\n",
      "-0.3927354150132757\n",
      "-0.39273541501331977\n",
      "-0.3927354150133647\n",
      "-0.3927354150134172\n",
      "-0.3927354150134678\n",
      "-0.3927354150135053\n",
      "-0.3927354150135468\n",
      "-0.39273541501358544\n",
      "-0.39273541501362236\n",
      "-0.3927354150136579\n",
      "-0.3927354150136902\n",
      "-0.3927354150137216\n",
      "-0.3927354150137538\n",
      "-0.3927354150137878\n",
      "-0.3927354150138192\n",
      "-0.39273541501384773\n",
      "-0.39273541501387277\n",
      "-0.3927354150139006\n",
      "-0.3927354150139258\n",
      "-0.3927354150139457\n",
      "-0.3927354150139654\n",
      "-0.39273541501398773\n",
      "-0.3927354150140073\n",
      "-0.3927354150140219\n",
      "-0.3927354150140389\n",
      "-0.39273541501405146\n",
      "-0.39273541501406595\n",
      "-0.3927354150140805\n",
      "-0.3927354150140922\n",
      "-0.3927354150141067\n",
      "-0.3927354150141195\n",
      "-0.3927354150141382\n",
      "-0.3927354150141457\n",
      "-0.39273541501415216\n",
      "-0.3927354150141559\n",
      "-0.3927354150141598\n",
      "-0.3927354150141614\n",
      "-0.3927354150141689\n",
      "-0.3927354150141746\n",
      "-0.3927354150141778\n",
      "-0.3927354150141818\n",
      "-0.3927354150141865\n",
      "-0.3927354150141914\n",
      "-0.3927354150141937\n",
      "-0.3927354150141969\n",
      "-0.3927354150141991\n",
      "-0.3927354150142006\n",
      "-0.39273541501420295\n",
      "-0.392735415014204\n",
      "-0.3927354150142076\n",
      "-0.39273541501421055\n",
      "-0.39273541501421133\n",
      "-0.3927354150142121\n",
      "-0.3927354150142135\n",
      "-0.3927354150142165\n",
      "-0.3927354150142186\n",
      "-0.39273541501422027\n",
      "-0.3927354150142208\n",
      "-0.3927354150142229\n",
      "-0.39273541501422427\n",
      "-0.39273541501422515\n",
      "-0.3927354150142264\n",
      "-0.39273541501422904\n",
      "-0.3927354150142291\n",
      "-0.39273541501423004\n",
      "-0.3927354150142321\n",
      "-0.39273541501423204\n",
      "-0.39273541501423237\n",
      "-0.3927354150142338\n",
      "-0.3927354150142354\n",
      "-0.39273541501423614\n",
      "-0.39273541501423664\n",
      "-0.39273541501423664\n",
      "-0.39273541501423864\n",
      "-0.39273541501424136\n",
      "-0.39273541501424214\n",
      "-0.39273541501424286\n",
      "-0.3927354150142443\n",
      "-0.3927354150142452\n",
      "-0.3927354150142471\n",
      "-0.39273541501424747\n",
      "-0.3927354150142483\n",
      "-0.3927354150142494\n",
      "-0.39273541501424986\n",
      "-0.3927354150142497\n",
      "-0.3927354150142507\n",
      "-0.39273541501425346\n",
      "-0.3927354150142532\n",
      "-0.39273541501425363\n",
      "-0.39273541501425435\n",
      "-0.3927354150142554\n",
      "-0.3927354150142552\n",
      "-0.3927354150142573\n",
      "-0.3927354150142596\n",
      "-0.39273541501426035\n",
      "-0.3927354150142598\n",
      "-0.3927354150142613\n",
      "-0.3927354150142613\n",
      "-0.3927354150142613\n",
      "-0.3927354150142607\n",
      "-0.392735415014262\n",
      "-0.392735415014261\n",
      "-0.392735415014261\n",
      "-0.392735415014261\n",
      "-0.392735415014261\n",
      "-0.392735415014261\n",
      "-0.392735415014262\n",
      "-0.39273541501426174\n",
      "-0.39273541501426174\n",
      "-0.39273541501426174\n",
      "-0.39273541501426174\n",
      "-0.39273541501426074\n",
      "-0.39273541501426185\n",
      "-0.39273541501426185\n",
      "-0.39273541501426185\n",
      "-0.39273541501426185\n",
      "-0.39273541501426185\n",
      "-0.39273541501426185\n",
      "-0.39273541501426185\n",
      "-0.39273541501426185\n",
      "-0.39273541501426185\n",
      "-0.39273541501426185\n",
      "-0.3927354150142623\n",
      "-0.3927354150142623\n"
     ]
    },
    {
     "name": "stdout",
     "output_type": "stream",
     "text": [
      "-0.3927354150142623\n",
      "-0.3927354150142623\n",
      "-0.39273541501426384\n",
      "-0.39273541501426384\n",
      "-0.39273541501426384\n",
      "-0.3927354150142632\n",
      "-0.3927354150142635\n",
      "-0.3927354150142678\n",
      "-0.3927354150142678\n",
      "-0.39273541501426895\n",
      "-0.39273541501426934\n",
      "-0.39273541501426856\n",
      "-0.39273541501426956\n",
      "-0.39273541501426956\n",
      "-0.3927354150142703\n",
      "-0.392735415014271\n",
      "-0.39273541501427195\n",
      "-0.3927354150142708\n",
      "-0.3927354150142709\n",
      "-0.3927354150142709\n",
      "-0.3927354150142709\n",
      "-0.3927354150142718\n",
      "-0.3927354150142718\n",
      "-0.39273541501427195\n",
      "-0.39273541501427195\n",
      "-0.39273541501427195\n",
      "-0.39273541501427195\n",
      "-0.39273541501427195\n",
      "-0.3927354150142718\n",
      "-0.3927354150142718\n",
      "-0.3927354150142718\n",
      "-0.39273541501427284\n",
      "-0.39273541501427295\n",
      "-0.39273541501427284\n",
      "-0.3927354150142738\n",
      "-0.39273541501427334\n",
      "-0.39273541501427456\n",
      "-0.39273541501427417\n",
      "-0.39273541501427467\n",
      "-0.39273541501427395\n",
      "-0.39273541501427395\n",
      "-0.3927354150142742\n",
      "-0.3927354150142743\n",
      "-0.3927354150142744\n",
      "-0.3927354150142744\n",
      "-0.3927354150142744\n",
      "-0.3927354150142744\n",
      "-0.3927354150142738\n",
      "-0.3927354150142738\n",
      "-0.3927354150142748\n",
      "-0.3927354150142748\n",
      "-0.3927354150142748\n",
      "-0.3927354150142738\n",
      "-0.3927354150142738\n",
      "-0.3927354150142738\n",
      "-0.3927354150142738\n",
      "-0.3927354150142747\n",
      "-0.3927354150142747\n",
      "-0.3927354150142747\n",
      "-0.3927354150142754\n",
      "-0.3927354150142754\n",
      "-0.39273541501427534\n",
      "-0.39273541501427517\n",
      "-0.39273541501427517\n",
      "-0.39273541501427517\n",
      "-0.39273541501427517\n",
      "-0.39273541501427517\n",
      "-0.39273541501427534\n",
      "-0.39273541501428033\n",
      "-0.39273541501428033\n",
      "-0.39273541501428083\n",
      "-0.3927354150142804\n",
      "-0.39273541501428\n",
      "-0.3927354150142801\n",
      "-0.3927354150142805\n",
      "-0.39273541501428144\n",
      "-0.39273541501428305\n",
      "-0.39273541501428477\n",
      "-0.39273541501428455\n",
      "-0.39273541501428455\n",
      "-0.39273541501428505\n",
      "-0.39273541501428516\n",
      "-0.39273541501428444\n",
      "-0.39273541501428444\n",
      "-0.392735415014285\n",
      "-0.39273541501428577\n",
      "-0.39273541501428644\n",
      "-0.3927354150142863\n",
      "-0.3927354150142863\n",
      "-0.3927354150142866\n",
      "-0.39273541501428705\n",
      "-0.3927354150142876\n",
      "-0.3927354150142879\n",
      "-0.39273541501428727\n",
      "-0.39273541501428727\n",
      "-0.39273541501428727\n",
      "-0.3927354150142879\n",
      "-0.3927354150142876\n",
      "-0.3927354150142876\n",
      "-0.3927354150142876\n",
      "-0.3927354150142876\n",
      "-0.39273541501428805\n",
      "-0.39273541501428805\n",
      "-0.3927354150142876\n",
      "-0.39273541501428866\n",
      "-0.39273541501428816\n",
      "-0.3927354150142882\n",
      "-0.3927354150142888\n",
      "-0.392735415014289\n",
      "-0.392735415014289\n",
      "-0.392735415014289\n",
      "-0.39273541501428905\n",
      "-0.39273541501428944\n",
      "-0.3927354150142887\n",
      "-0.3927354150142887\n",
      "-0.3927354150142887\n",
      "-0.3927354150142887\n",
      "-0.39273541501428944\n",
      "-0.39273541501428905\n",
      "-0.39273541501428905\n",
      "-0.3927354150142888\n",
      "-0.3927354150142888\n",
      "-0.3927354150142888\n",
      "-0.3927354150142888\n",
      "-0.3927354150142894\n",
      "-0.3927354150142894\n",
      "-0.3927354150142894\n",
      "-0.3927354150142894\n",
      "-0.3927354150142894\n",
      "-0.3927354150142894\n",
      "-0.39273541501429354\n",
      "-0.392735415014294\n",
      "-0.3927354150142935\n",
      "-0.3927354150142938\n",
      "-0.3927354150142938\n",
      "-0.3927354150142938\n",
      "-0.3927354150142938\n",
      "-0.392735415014295\n",
      "-0.3927354150142943\n",
      "-0.3927354150142946\n",
      "-0.39273541501429454\n",
      "-0.39273541501429626\n",
      "-0.39273541501429626\n",
      "-0.39273541501429626\n",
      "-0.39273541501429593\n",
      "-0.39273541501429576\n",
      "-0.39273541501429576\n",
      "-0.39273541501429576\n",
      "-0.39273541501429576\n",
      "-0.39273541501429576\n",
      "-0.39273541501429593\n",
      "-0.39273541501429593\n",
      "-0.39273541501429593\n",
      "-0.39273541501429593\n",
      "-0.39273541501429643\n",
      "-0.3927354150142962\n",
      "-0.3927354150142962\n",
      "-0.3927354150142962\n",
      "-0.3927354150142962\n",
      "-0.3927354150142962\n",
      "-0.3927354150142962\n",
      "-0.39273541501429576\n",
      "-0.39273541501429576\n",
      "-0.39273541501429593\n",
      "-0.39273541501429593\n",
      "-0.39273541501429593\n",
      "-0.39273541501429593\n",
      "-0.39273541501429593\n",
      "-0.39273541501429593\n",
      "-0.39273541501429643\n",
      "-0.39273541501429643\n",
      "-0.39273541501429643\n",
      "-0.39273541501429643\n",
      "-0.39273541501429643\n",
      "-0.39273541501429643\n",
      "-0.39273541501429643\n",
      "-0.39273541501429593\n",
      "-0.39273541501429593\n",
      "-0.39273541501429593\n",
      "-0.39273541501429593\n",
      "-0.39273541501429593\n",
      "-0.39273541501429593\n",
      "-0.39273541501429576\n",
      "-0.39273541501429576\n",
      "-0.3927354150142962\n",
      "-0.3927354150142962\n",
      "-0.3927354150142962\n",
      "-0.3927354150142962\n",
      "-0.3927354150142962\n",
      "-0.39273541501429643\n",
      "-0.39273541501429643\n",
      "-0.39273541501429593\n",
      "-0.39273541501429593\n",
      "-0.39273541501429593\n",
      "-0.3927354150142971\n",
      "-0.3927354150142971\n",
      "-0.3927354150142965\n",
      "-0.3927354150142968\n",
      "-0.3927354150142968\n",
      "-0.3927354150142968\n",
      "-0.39273541501429654\n",
      "-0.39273541501429654\n",
      "-0.39273541501429654\n",
      "-0.39273541501429704\n",
      "-0.39273541501429704\n",
      "-0.39273541501429704\n",
      "-0.39273541501429704\n",
      "-0.39273541501430226\n",
      "-0.39273541501430226\n",
      "-0.3927354150143007\n",
      "-0.3927354150143007\n",
      "-0.3927354150143007\n",
      "-0.3927354150143007\n",
      "-0.39273541501430115\n",
      "-0.39273541501430287\n",
      "-0.3927354150143032\n",
      "-0.39273541501430304\n",
      "-0.39273541501430304\n",
      "-0.39273541501430304\n",
      "-0.3927354150143033\n",
      "-0.3927354150143033\n",
      "-0.39273541501430237\n",
      "-0.3927354150143045\n",
      "-0.39273541501430453\n",
      "-0.39273541501430453\n",
      "-0.3927354150143051\n",
      "-0.39273541501430476\n",
      "-0.3927354150143054\n",
      "-0.392735415014305\n",
      "-0.392735415014305\n",
      "-0.392735415014305\n",
      "-0.39273541501430576\n",
      "-0.3927354150143056\n",
      "-0.39273541501430587\n",
      "-0.392735415014305\n",
      "-0.39273541501430587\n",
      "-0.39273541501430587\n",
      "-0.39273541501430625\n",
      "-0.3927354150143066\n",
      "-0.3927354150143067\n",
      "-0.3927354150143067\n",
      "-0.3927354150143067\n",
      "-0.3927354150143068\n",
      "-0.39273541501430703\n",
      "-0.39273541501430703\n",
      "-0.39273541501430703\n",
      "-0.3927354150143062\n",
      "-0.39273541501430653\n",
      "-0.3927354150143076\n",
      "-0.3927354150143109\n",
      "-0.3927354150143109\n",
      "-0.39273541501431114\n",
      "-0.39273541501431114\n",
      "-0.3927354150143109\n",
      "-0.3927354150143109\n",
      "-0.39273541501431175\n",
      "-0.39273541501431125\n",
      "-0.39273541501431125\n",
      "-0.39273541501431175\n",
      "-0.3927354150143109\n",
      "-0.3927354150143113\n",
      "-0.3927354150143113\n",
      "-0.3927354150143113\n",
      "-0.3927354150143113\n",
      "-0.3927354150143109\n",
      "-0.3927354150143112\n",
      "-0.3927354150143112\n",
      "-0.3927354150143112\n",
      "-0.3927354150143112\n",
      "-0.39273541501431153\n",
      "-0.39273541501431164\n",
      "-0.39273541501431164\n",
      "-0.3927354150143113\n",
      "-0.3927354150143113\n",
      "-0.3927354150143109\n",
      "-0.3927354150143118\n",
      "-0.39273541501431286\n",
      "-0.3927354150143128\n",
      "-0.3927354150143128\n",
      "-0.3927354150143129\n",
      "-0.3927354150143138\n",
      "-0.3927354150143138\n",
      "-0.3927354150143138\n",
      "-0.3927354150143138\n",
      "-0.3927354150143138\n",
      "-0.3927354150143138\n",
      "-0.3927354150143138\n",
      "-0.3927354150143138\n",
      "-0.3927354150143138\n",
      "-0.3927354150143138\n",
      "-0.3927354150143138\n",
      "-0.3927354150143138\n",
      "-0.3927354150143138\n",
      "-0.3927354150143138\n",
      "-0.3927354150143144\n",
      "-0.3927354150143138\n",
      "-0.3927354150143138\n",
      "-0.392735415014314\n",
      "-0.39273541501431425\n",
      "-0.39273541501431425\n",
      "-0.39273541501431425\n",
      "-0.3927354150143137\n",
      "-0.39273541501431414\n",
      "-0.3927354150143149\n",
      "-0.3927354150143149\n",
      "-0.3927354150143149\n",
      "-0.3927354150143149\n",
      "-0.39273541501431414\n",
      "-0.3927354150143144\n",
      "-0.3927354150143144\n",
      "-0.3927354150143144\n",
      "-0.39273541501431475\n",
      "-0.39273541501431475\n",
      "-0.39273541501431475\n",
      "-0.39273541501431514\n",
      "-0.3927354150143151\n",
      "-0.3927354150143149\n",
      "-0.3927354150143152\n",
      "-0.3927354150143152\n",
      "-0.3927354150143151\n",
      "-0.3927354150143151\n",
      "-0.3927354150143151\n",
      "-0.3927354150143151\n",
      "-0.3927354150143151\n",
      "-0.3927354150143155\n",
      "-0.3927354150143155\n",
      "-0.3927354150143155\n",
      "-0.3927354150143155\n",
      "-0.3927354150143155\n",
      "-0.3927354150143155\n",
      "-0.39273541501431486\n",
      "-0.3927354150143151\n",
      "-0.3927354150143151\n",
      "-0.3927354150143151\n",
      "-0.39273541501431486\n",
      "-0.39273541501431486\n",
      "-0.39273541501431486\n",
      "-0.39273541501431486\n",
      "-0.39273541501431486\n",
      "-0.3927354150143148\n",
      "-0.3927354150143148\n",
      "-0.39273541501431586\n",
      "-0.39273541501431586\n",
      "-0.39273541501431525\n",
      "-0.39273541501431736\n",
      "-0.3927354150143175\n",
      "-0.392735415014318\n",
      "-0.39273541501431763\n",
      "-0.39273541501431763\n",
      "-0.3927354150143187\n",
      "-0.3927354150143183\n",
      "-0.3927354150143189\n",
      "-0.3927354150143188\n",
      "-0.3927354150143182\n",
      "-0.392735415014319\n",
      "-0.39273541501431886\n",
      "-0.39273541501431886\n",
      "-0.39273541501431886\n",
      "-0.39273541501431886\n",
      "-0.39273541501431974\n",
      "-0.3927354150143198\n",
      "-0.3927354150143198\n",
      "-0.39273541501431986\n",
      "-0.39273541501432396\n",
      "-0.39273541501432396\n",
      "-0.39273541501432396\n",
      "-0.392735415014324\n",
      "-0.39273541501432463\n",
      "-0.39273541501432463\n",
      "-0.39273541501432463\n",
      "-0.39273541501432463\n",
      "-0.39273541501432435\n",
      "-0.3927354150143244\n",
      "-0.3927354150143244\n",
      "-0.39273541501432546\n",
      "-0.39273541501432657\n",
      "-0.39273541501432657\n",
      "-0.3927354150143259\n",
      "-0.3927354150143259\n",
      "-0.3927354150143259\n",
      "-0.3927354150143259\n",
      "-0.3927354150143259\n",
      "-0.3927354150143259\n",
      "-0.3927354150143259\n",
      "-0.3927354150143259\n",
      "-0.3927354150143259\n",
      "-0.3927354150143259\n",
      "-0.3927354150143259\n",
      "-0.3927354150143259\n",
      "-0.3927354150143259\n",
      "-0.3927354150143259\n",
      "-0.3927354150143259\n",
      "-0.39273541501432674\n",
      "-0.39273541501432674\n",
      "-0.39273541501432674\n",
      "-0.39273541501432674\n",
      "-0.39273541501432674\n",
      "-0.39273541501432674\n",
      "-0.39273541501432674\n",
      "-0.3927354150143259\n",
      "-0.3927354150143259\n",
      "-0.3927354150143259\n",
      "-0.39273541501432613\n",
      "-0.39273541501432613\n",
      "-0.39273541501432613\n",
      "-0.39273541501432613\n",
      "-0.3927354150143259\n",
      "-0.3927354150143269\n",
      "-0.3927354150143269\n",
      "-0.3927354150143269\n",
      "-0.3927354150143259\n",
      "-0.39273541501432613\n",
      "-0.39273541501432613\n",
      "-0.392735415014326\n",
      "-0.3927354150143261\n"
     ]
    },
    {
     "name": "stdout",
     "output_type": "stream",
     "text": [
      "-0.3927354150143255\n",
      "-0.39273541501432635\n",
      "-0.39273541501432635\n",
      "-0.39273541501432635\n",
      "-0.3927354150143255\n",
      "-0.392735415014326\n",
      "-0.392735415014326\n",
      "-0.392735415014326\n",
      "-0.392735415014326\n",
      "-0.39273541501432596\n",
      "-0.3927354150143263\n",
      "-0.3927354150143263\n",
      "-0.3927354150143263\n",
      "-0.3927354150143263\n",
      "-0.39273541501432596\n",
      "-0.392735415014326\n",
      "-0.392735415014326\n",
      "-0.392735415014326\n",
      "-0.392735415014326\n",
      "-0.39273541501432596\n",
      "-0.3927354150143263\n",
      "-0.3927354150143263\n",
      "-0.39273541501432635\n",
      "-0.3927354150143255\n",
      "-0.3927354150143261\n",
      "-0.3927354150143261\n",
      "-0.3927354150143261\n",
      "-0.3927354150143255\n",
      "-0.39273541501432596\n",
      "-0.39273541501432596\n",
      "-0.39273541501432596\n",
      "-0.39273541501432596\n",
      "-0.39273541501432596\n",
      "-0.39273541501432596\n",
      "-0.39273541501432596\n",
      "-0.39273541501432596\n",
      "-0.39273541501432596\n",
      "-0.39273541501432596\n",
      "-0.39273541501432596\n",
      "-0.39273541501432596\n",
      "-0.39273541501432596\n",
      "-0.39273541501432596\n",
      "-0.39273541501432596\n",
      "-0.39273541501432596\n",
      "-0.3927354150143255\n",
      "-0.3927354150143255\n",
      "-0.3927354150143255\n",
      "-0.3927354150143255\n",
      "-0.3927354150143255\n",
      "-0.3927354150143255\n",
      "-0.39273541501432596\n",
      "-0.39273541501432596\n",
      "-0.39273541501432596\n",
      "-0.39273541501432596\n",
      "-0.39273541501432596\n",
      "-0.39273541501432596\n",
      "-0.39273541501432596\n",
      "-0.39273541501432596\n",
      "-0.39273541501432596\n",
      "-0.39273541501432596\n",
      "-0.39273541501432596\n",
      "-0.39273541501432596\n",
      "-0.39273541501432596\n",
      "-0.39273541501432596\n",
      "-0.39273541501432596\n",
      "-0.39273541501432596\n",
      "-0.3927354150143255\n",
      "-0.3927354150143255\n",
      "-0.3927354150143255\n",
      "-0.3927354150143255\n",
      "-0.3927354150143255\n",
      "-0.3927354150143255\n",
      "-0.39273541501432985\n",
      "-0.3927354150143299\n",
      "-0.3927354150143307\n",
      "-0.3927354150143305\n",
      "-0.3927354150143305\n",
      "-0.3927354150143305\n",
      "-0.3927354150143305\n",
      "-0.39273541501433107\n",
      "-0.3927354150143322\n",
      "-0.392735415014332\n",
      "-0.3927354150143318\n",
      "-0.3927354150143318\n",
      "-0.3927354150143318\n",
      "-0.3927354150143318\n",
      "-0.3927354150143318\n",
      "-0.3927354150143318\n",
      "-0.392735415014332\n",
      "-0.39273541501433173\n",
      "-0.39273541501433173\n",
      "-0.3927354150143319\n",
      "-0.3927354150143319\n",
      "-0.3927354150143319\n",
      "-0.3927354150143319\n",
      "-0.3927354150143319\n",
      "-0.3927354150143319\n",
      "-0.3927354150143319\n",
      "-0.3927354150143319\n",
      "-0.3927354150143319\n",
      "-0.3927354150143319\n",
      "-0.3927354150143319\n",
      "-0.3927354150143319\n",
      "-0.3927354150143319\n",
      "-0.3927354150143319\n",
      "-0.3927354150143319\n",
      "-0.3927354150143319\n",
      "-0.3927354150143319\n",
      "-0.3927354150143319\n",
      "-0.3927354150143319\n",
      "-0.3927354150143319\n",
      "-0.3927354150143319\n",
      "-0.3927354150143319\n",
      "-0.3927354150143319\n",
      "-0.3927354150143319\n",
      "-0.3927354150143319\n",
      "-0.3927354150143319\n",
      "-0.3927354150143319\n",
      "-0.3927354150143319\n",
      "-0.3927354150143319\n",
      "-0.3927354150143319\n",
      "-0.3927354150143319\n",
      "-0.3927354150143319\n",
      "-0.3927354150143319\n",
      "-0.3927354150143319\n",
      "-0.3927354150143319\n",
      "-0.3927354150143325\n",
      "-0.3927354150143325\n",
      "-0.3927354150143325\n",
      "-0.3927354150143325\n",
      "-0.3927354150143325\n",
      "-0.3927354150143319\n",
      "-0.3927354150143319\n",
      "-0.3927354150143319\n",
      "-0.3927354150143319\n",
      "-0.39273541501433307\n",
      "-0.3927354150143326\n",
      "-0.3927354150143325\n",
      "-0.39273541501433396\n",
      "-0.39273541501433307\n",
      "-0.39273541501433434\n",
      "-0.39273541501433445\n",
      "-0.39273541501433473\n",
      "-0.3927354150143344\n",
      "-0.3927354150143355\n",
      "-0.3927354150143355\n",
      "-0.3927354150143341\n",
      "-0.39273541501433484\n",
      "-0.392735415014335\n",
      "-0.392735415014335\n",
      "-0.39273541501433534\n",
      "-0.3927354150143346\n",
      "-0.3927354150143349\n",
      "-0.3927354150143349\n",
      "-0.3927354150143349\n",
      "-0.3927354150143346\n",
      "-0.39273541501433534\n",
      "-0.39273541501433534\n",
      "-0.39273541501433484\n",
      "-0.39273541501433484\n",
      "-0.39273541501433484\n",
      "-0.39273541501433473\n",
      "-0.39273541501433473\n",
      "-0.39273541501433473\n",
      "-0.39273541501433473\n",
      "-0.39273541501433473\n",
      "-0.39273541501433473\n",
      "-0.39273541501433473\n",
      "-0.39273541501433484\n",
      "-0.39273541501433484\n",
      "-0.39273541501433484\n",
      "-0.39273541501433534\n",
      "-0.39273541501433534\n",
      "-0.3927354150143346\n",
      "-0.3927354150143349\n",
      "-0.3927354150143349\n",
      "-0.3927354150143349\n",
      "-0.3927354150143346\n",
      "-0.39273541501433534\n",
      "-0.392735415014335\n",
      "-0.392735415014335\n",
      "-0.39273541501433484\n",
      "-0.39273541501433795\n",
      "-0.3927354150143376\n",
      "-0.3927354150143388\n",
      "-0.3927354150143393\n",
      "-0.39273541501433906\n",
      "-0.3927354150143393\n",
      "-0.3927354150143394\n",
      "-0.39273541501433945\n",
      "-0.3927354150143404\n",
      "-0.39273541501434084\n",
      "-0.39273541501434067\n",
      "-0.39273541501434067\n",
      "-0.39273541501434067\n",
      "-0.39273541501434134\n",
      "-0.392735415014341\n",
      "-0.392735415014341\n",
      "-0.392735415014341\n",
      "-0.3927354150143414\n",
      "-0.3927354150143404\n",
      "-0.39273541501434117\n",
      "-0.39273541501434117\n",
      "-0.3927354150143414\n",
      "-0.3927354150143414\n",
      "-0.392735415014341\n",
      "-0.392735415014341\n",
      "-0.392735415014341\n",
      "-0.392735415014341\n",
      "-0.392735415014341\n",
      "-0.39273541501434117\n",
      "-0.39273541501434117\n",
      "-0.39273541501434117\n",
      "-0.39273541501434117\n",
      "-0.39273541501434117\n",
      "-0.39273541501434117\n",
      "-0.39273541501434117\n",
      "-0.39273541501434117\n",
      "-0.392735415014341\n",
      "-0.392735415014341\n",
      "-0.39273541501434167\n",
      "-0.39273541501434167\n",
      "-0.39273541501434167\n",
      "-0.39273541501434167\n",
      "-0.392735415014341\n",
      "-0.392735415014341\n",
      "-0.392735415014341\n",
      "-0.392735415014341\n",
      "-0.392735415014341\n",
      "-0.392735415014341\n",
      "-0.392735415014341\n",
      "-0.392735415014341\n",
      "-0.392735415014341\n",
      "-0.392735415014341\n",
      "-0.392735415014341\n",
      "-0.392735415014341\n",
      "-0.39273541501434117\n",
      "-0.39273541501434117\n",
      "-0.39273541501434117\n",
      "-0.39273541501434117\n",
      "-0.39273541501434117\n",
      "-0.39273541501434117\n",
      "-0.39273541501434117\n",
      "-0.39273541501434117\n",
      "-0.392735415014341\n",
      "-0.392735415014341\n",
      "-0.392735415014341\n",
      "-0.392735415014341\n",
      "-0.392735415014341\n",
      "-0.392735415014341\n",
      "-0.392735415014341\n",
      "-0.392735415014341\n",
      "-0.39273541501434167\n",
      "-0.39273541501434167\n",
      "-0.39273541501434167\n",
      "-0.39273541501434167\n",
      "-0.392735415014341\n",
      "-0.392735415014341\n",
      "-0.392735415014341\n",
      "-0.392735415014341\n",
      "-0.392735415014341\n",
      "-0.39273541501434117\n",
      "-0.39273541501434117\n",
      "-0.39273541501434117\n",
      "-0.39273541501434117\n",
      "-0.39273541501434117\n",
      "-0.39273541501434117\n",
      "-0.39273541501434117\n",
      "-0.39273541501434117\n",
      "-0.392735415014341\n",
      "-0.392735415014341\n",
      "-0.392735415014341\n",
      "-0.39273541501434167\n",
      "-0.39273541501434167\n",
      "-0.39273541501434167\n",
      "-0.39273541501434167\n",
      "-0.392735415014341\n",
      "-0.3927354150143412\n",
      "-0.3927354150143412\n",
      "-0.3927354150143446\n",
      "-0.3927354150143439\n",
      "-0.3927354150143439\n",
      "-0.39273541501434456\n",
      "-0.392735415014344\n",
      "-0.39273541501434467\n",
      "-0.39273541501434467\n",
      "-0.39273541501434467\n",
      "-0.39273541501434467\n",
      "-0.39273541501434467\n",
      "-0.39273541501434467\n",
      "-0.39273541501434484\n",
      "-0.39273541501434484\n",
      "-0.39273541501434583\n",
      "-0.39273541501434583\n",
      "-0.3927354150143452\n",
      "-0.39273541501434617\n",
      "-0.3927354150143459\n",
      "-0.3927354150143459\n",
      "-0.3927354150143459\n",
      "-0.39273541501434545\n",
      "-0.39273541501434645\n",
      "-0.39273541501434645\n",
      "-0.39273541501434645\n",
      "-0.39273541501434545\n",
      "-0.3927354150143459\n",
      "-0.3927354150143459\n",
      "-0.3927354150143459\n",
      "-0.3927354150143454\n",
      "-0.39273541501434595\n",
      "-0.3927354150143459\n",
      "-0.3927354150143459\n",
      "-0.3927354150143459\n",
      "-0.39273541501434595\n",
      "-0.3927354150143454\n",
      "-0.3927354150143454\n",
      "-0.39273541501434606\n",
      "-0.39273541501434606\n",
      "-0.39273541501434656\n",
      "-0.3927354150143465\n",
      "-0.3927354150143465\n",
      "-0.3927354150143465\n",
      "-0.39273541501434656\n",
      "-0.39273541501434606\n",
      "-0.39273541501434606\n",
      "-0.39273541501434606\n",
      "-0.39273541501434606\n",
      "-0.39273541501434656\n",
      "-0.3927354150143465\n",
      "-0.39273541501434517\n",
      "-0.39273541501434517\n",
      "-0.39273541501434583\n",
      "-0.392735415014346\n",
      "-0.392735415014346\n",
      "-0.392735415014346\n",
      "-0.39273541501434583\n",
      "-0.39273541501434583\n",
      "-0.39273541501434656\n",
      "-0.39273541501434656\n",
      "-0.39273541501434656\n",
      "-0.39273541501434656\n",
      "-0.39273541501434656\n",
      "-0.39273541501434656\n",
      "-0.39273541501434656\n",
      "-0.39273541501434656\n",
      "-0.39273541501434656\n",
      "-0.39273541501434656\n",
      "-0.39273541501434656\n",
      "-0.39273541501434656\n",
      "-0.39273541501434656\n",
      "-0.39273541501434583\n",
      "-0.39273541501434583\n",
      "-0.39273541501434583\n",
      "-0.39273541501434583\n",
      "-0.39273541501434583\n",
      "-0.39273541501434583\n",
      "-0.39273541501434583\n",
      "-0.39273541501434583\n"
     ]
    }
   ],
   "source": [
    "optimizer = tf.optimizers.Adam(learning_rate=0.01)\n",
    "\n",
    "for i in range(2000):\n",
    "    with tf.GradientTape(watch_accessed_variables=False) as tape:\n",
    "        tape.watch([A,B,C,D,E,F])\n",
    "        \n",
    "        \n",
    "        X1 = tf.cast(A, dtype=precision) + 1j*tf.cast(B, dtype=precision)\n",
    "        XX1 = tf.matmul(X1, X1, adjoint_b=True)\n",
    "        state1 = XX1/tf.linalg.trace(XX1)\n",
    "        \n",
    "        X2 = tf.cast(C, dtype=precision) + 1j*tf.cast(D, dtype=precision)\n",
    "        XX2 = tf.matmul(X2, X2, adjoint_b=True)\n",
    "        state2 = XX2/tf.linalg.trace(XX2)\n",
    "        \n",
    "        X3 = tf.cast(E, dtype=precision) + 1j*tf.cast(F, dtype=precision)\n",
    "        XX3 = tf.matmul(X3, X3, adjoint_b=True)\n",
    "        state3 = XX3/tf.linalg.trace(XX3)\n",
    "\n",
    "        \n",
    "        state = tf.expand_dims(kron(state1,state2,state3), axis=0)\n",
    "\n",
    "        state = model.channel.apply_channel(state)\n",
    "        state = partial_transpose(state, qubit=0)\n",
    "\n",
    "        eig, _ = tf.linalg.eigh(state)\n",
    "        eig = tf.math.real(eig)\n",
    "        loss = tf.math.reduce_min(eig) + tf.math.reduce_sum(eig[eig<0]) - tf.math.reduce_min(eig[eig<0])\n",
    "        grads = tape.gradient(loss, [A,B,C,D,E,F])\n",
    "        optimizer.apply_gradients(zip(grads, [A,B,C,D,E,F]))\n",
    "        print(loss.numpy())"
   ]
  },
  {
   "cell_type": "code",
   "execution_count": 22,
   "metadata": {},
   "outputs": [],
   "source": [
    "state = kron(state1,state2,state3)"
   ]
  },
  {
   "cell_type": "code",
   "execution_count": 23,
   "metadata": {},
   "outputs": [
    {
     "data": {
      "image/png": "[encoded data removed]",
      "text/plain": [
       "<Figure size 1800x1800 with 2 Axes>"
      ]
     },
     "metadata": {},
     "output_type": "display_data"
    }
   ],
   "source": [
    "fig = plt.figure(figsize=(6,6), dpi = 300, facecolor='w', edgecolor='k')\n",
    "plt.imshow(np.abs(state), cmap='hot', interpolation='nearest')\n",
    "plt.colorbar()\n",
    "plt.show()"
   ]
  },
  {
   "cell_type": "code",
   "execution_count": 24,
   "metadata": {},
   "outputs": [
    {
     "data": {
      "image/png": "[encoded data removed]",
      "text/plain": [
       "<Figure size 1800x1800 with 2 Axes>"
      ]
     },
     "metadata": {},
     "output_type": "display_data"
    }
   ],
   "source": [
    "fig = plt.figure(figsize=(6,6), dpi = 300, facecolor='w', edgecolor='k')\n",
    "plt.imshow(np.abs(state1), cmap='hot', interpolation='nearest')\n",
    "plt.colorbar()\n",
    "plt.show()"
   ]
  },
  {
   "cell_type": "code",
   "execution_count": 25,
   "metadata": {},
   "outputs": [
    {
     "data": {
      "image/png": "[encoded data removed]",
      "text/plain": [
       "<Figure size 1800x1800 with 2 Axes>"
      ]
     },
     "metadata": {},
     "output_type": "display_data"
    }
   ],
   "source": [
    "fig = plt.figure(figsize=(6,6), dpi = 300, facecolor='w', edgecolor='k')\n",
    "plt.imshow(np.abs(state2), cmap='hot', interpolation='nearest')\n",
    "plt.colorbar()\n",
    "plt.show()"
   ]
  },
  {
   "cell_type": "code",
   "execution_count": 26,
   "metadata": {},
   "outputs": [
    {
     "data": {
      "image/png": "[encoded data removed]",
      "text/plain": [
       "<Figure size 1800x1800 with 2 Axes>"
      ]
     },
     "metadata": {},
     "output_type": "display_data"
    }
   ],
   "source": [
    "fig = plt.figure(figsize=(6,6), dpi = 300, facecolor='w', edgecolor='k')\n",
    "plt.imshow(np.abs(state3), cmap='hot', interpolation='nearest')\n",
    "plt.colorbar()\n",
    "plt.show()"
   ]
  },
  {
   "cell_type": "code",
   "execution_count": null,
   "metadata": {},
   "outputs": [],
   "source": []
  }
 ],
 "metadata": {
  "kernelspec": {
   "display_name": "env_qiskit",
   "language": "python",
   "name": "env_qiskit"
  },
  "language_info": {
   "codemirror_mode": {
    "name": "ipython",
    "version": 3
   },
   "file_extension": ".py",
   "mimetype": "text/x-python",
   "name": "python",
   "nbconvert_exporter": "python",
   "pygments_lexer": "ipython3",
   "version": "3.10.4"
  }
 },
 "nbformat": 4,
 "nbformat_minor": 4
}
