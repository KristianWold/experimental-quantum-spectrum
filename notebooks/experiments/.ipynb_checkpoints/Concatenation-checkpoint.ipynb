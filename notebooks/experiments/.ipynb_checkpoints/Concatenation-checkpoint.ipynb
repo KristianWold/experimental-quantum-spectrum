{
 "cells": [
  {
   "cell_type": "markdown",
   "metadata": {},
   "source": [
    "# Effective Kraus Rank"
   ]
  },
  {
   "cell_type": "code",
   "execution_count": 34,
   "metadata": {},
   "outputs": [],
   "source": [
    "import sys\n",
    "sys.path.insert(0, '../../src_tf/')\n",
    "\n",
    "import numpy as np\n",
    "import qiskit as qk\n",
    "import matplotlib.pyplot as plt\n",
    "import multiprocessing as mp\n",
    "import random\n",
    "import pickle\n",
    "\n",
    "from qiskit.quantum_info import DensityMatrix, random_unitary\n",
    "from qiskit.quantum_info import Operator\n",
    "from scipy.linalg import sqrtm\n",
    "from tqdm.notebook import tqdm\n",
    "from math import ceil\n",
    "\n",
    "from loss_functions import *\n",
    "from optimization import *\n",
    "from quantum_channel import *\n",
    "from kraus_channels import *\n",
    "from quantum_tools import *\n",
    "from experimental import *\n",
    "from spam import *\n",
    "from scipy.stats import gaussian_kde\n",
    "from quantum_circuits import *\n",
    "\n",
    "#np.set_printoptions(threshold=sys.maxsize)\n",
    "np.set_printoptions(precision=4)\n",
    "\n",
    "import os\n",
    "os.environ[\"CUDA_VISIBLE_DEVICES\"] = \"-1\""
   ]
  },
  {
   "cell_type": "code",
   "execution_count": 35,
   "metadata": {},
   "outputs": [],
   "source": [
    "def evaluate_channel(channel, inputs, targets):\n",
    "    kl_div = KLDiv()\n",
    "    loss = kl_div(channel, inputs, targets)\n",
    "    return loss"
   ]
  },
  {
   "cell_type": "markdown",
   "metadata": {},
   "source": [
    "## Real Hardware"
   ]
  },
  {
   "cell_type": "code",
   "execution_count": null,
   "metadata": {
    "scrolled": true
   },
   "outputs": [
    {
     "data": {
      "application/vnd.jupyter.widget-view+json": {
       "model_id": "722340b28f9c4a52b5a7bbd97a51ffc9",
       "version_major": 2,
       "version_minor": 0
      },
      "text/plain": [
       "  0%|          | 0/4000 [00:00<?, ?it/s]"
      ]
     },
     "metadata": {},
     "output_type": "display_data"
    },
    {
     "name": "stdout",
     "output_type": "stream",
     "text": [
      "0.0029526480899278247\n"
     ]
    },
    {
     "data": {
      "application/vnd.jupyter.widget-view+json": {
       "model_id": "d125d04893194c92a62d66565d393d37",
       "version_major": 2,
       "version_minor": 0
      },
      "text/plain": [
       "  0%|          | 0/4000 [00:00<?, ?it/s]"
      ]
     },
     "metadata": {},
     "output_type": "display_data"
    }
   ],
   "source": [
    "n = 3\n",
    "d = 2**n\n",
    "\n",
    "np.random.seed(42)\n",
    "random.seed(42)\n",
    "\n",
    "model1 =fit_model(channel=KrausMap(d=d, \n",
    "                                   rank=64),\n",
    "                  spam=SPAM(init = InitialState(d),\n",
    "                            povm = CorruptionMatrix(d),\n",
    "                            optimizer = tf.optimizers.Adam(learning_rate=0.01),\n",
    "                            ),\n",
    "                  N_map=500,\n",
    "                  N_spam=None,\n",
    "                  num_iter_map=4000,\n",
    "                  num_iter_spam=4000,\n",
    "                  filename=\"belem_concatenate_4layer0\",\n",
    "                  verbose=True\n",
    "                  )"
   ]
  },
  {
   "cell_type": "code",
   "execution_count": null,
   "metadata": {},
   "outputs": [],
   "source": [
    "np.random.seed(42)\n",
    "random.seed(42)\n",
    "\n",
    "model2 =fit_model(channel=KrausMap(d=d, \n",
    "                                   rank=64),\n",
    "                  spam=SPAM(init = InitialState(d),\n",
    "                            povm = CorruptionMatrix(d),\n",
    "                            optimizer = tf.optimizers.Adam(learning_rate=0.01),\n",
    "                            ),\n",
    "                  N_map=500,\n",
    "                  N_spam=None,\n",
    "                  num_iter_map=4000,\n",
    "                  num_iter_spam=4000,\n",
    "                  filename=\"belem_concatenate_4layer1\",\n",
    "                  verbose=True\n",
    "                  )"
   ]
  },
  {
   "cell_type": "code",
   "execution_count": null,
   "metadata": {},
   "outputs": [],
   "source": [
    "np.random.seed(42)\n",
    "random.seed(42)\n",
    "\n",
    "model_full = fit_model(channel=KrausMap(d=d, \n",
    "                                        rank=64),\n",
    "                       spam=SPAM(init = InitialState(d),\n",
    "                                 povm = CorruptionMatrix(d),\n",
    "                                 optimizer = tf.optimizers.Adam(learning_rate=0.01),\n",
    "                                ),\n",
    "                      N_map=500,\n",
    "                      N_spam=None,\n",
    "                      num_iter_map=4000,\n",
    "                      num_iter_spam=4000,\n",
    "                      filename=\"belem_concatenate_4layer2\",\n",
    "                      verbose = True,\n",
    "                  )"
   ]
  },
  {
   "cell_type": "code",
   "execution_count": null,
   "metadata": {},
   "outputs": [],
   "source": [
    "channel1 = model1.channel\n",
    "channel2 = model2.channel\n",
    "channel_concat = channel_to_choi_map([channel1, channel2])\n",
    "channel_concat.spam = channel_full.spam\n",
    "\n",
    "channel_full = model_full.channel"
   ]
  },
  {
   "cell_type": "code",
   "execution_count": null,
   "metadata": {},
   "outputs": [],
   "source": [
    "n = 3\n",
    "d = 2**n\n",
    "\n",
    "np.random.seed(42)\n",
    "random.seed(42)\n",
    "\n",
    "circuit_target1 = pqc_basic(n, 4).reverse_bits()\n",
    "circuit_target2 = pqc_basic(n, 4).reverse_bits()\n",
    "\n",
    "circuit_target_full = deepcopy(circuit_target1)\n",
    "circuit_target_full = circuit_target_full.compose(circuit_target2)\n",
    "\n",
    "U1 = Operator(circuit_target1).data\n",
    "U2 = Operator(circuit_target2).data\n",
    "U_full = Operator(circuit_target_full).data"
   ]
  },
  {
   "cell_type": "code",
   "execution_count": null,
   "metadata": {},
   "outputs": [],
   "source": [
    "channel_ideal1 = DilutedKrausMap(U1, c=0.999, d=d, rank=1)\n",
    "channel_ideal2 = DilutedKrausMap(U2, c=0.999, d=d, rank=1)\n",
    "channel_ideal_full = DilutedKrausMap(U_full, c=0.999, d=d, rank=1)\n",
    "\n",
    "channel_ideal1.spam = channel1.spam\n",
    "channel_ideal2.spam = channel2.spam\n",
    "channel_ideal_full.spam = channel_full.spam"
   ]
  },
  {
   "cell_type": "code",
   "execution_count": null,
   "metadata": {},
   "outputs": [],
   "source": [
    "print(f\" U1 vs T1: {channel_fidelity(channel_ideal1, channel1):.4f}\")\n",
    "print(f\" U2 vs T2: {channel_fidelity(channel_ideal2, channel2):.4f}\")\n",
    "\n",
    "print(f\" U Full vs T Full: {channel_fidelity(channel_ideal_full, channel_full):.4f}\")\n",
    "print(f\" U Full vs T2*T1: {channel_fidelity(channel_ideal_full, channel_concat):.4f}\")\n",
    "      \n",
    "print(f\" T Full vs T2*T1: {channel_fidelity(channel_full, channel_concat):.4f}\")"
   ]
  },
  {
   "cell_type": "code",
   "execution_count": null,
   "metadata": {},
   "outputs": [],
   "source": [
    "inputs_map1, targets_map1, inputs_spam1, targets_spam1 = pickle.load(\n",
    "        open(f\"../../data/belem_concatenate_4layer0\", \"rb\")\n",
    "    )\n",
    "\n",
    "\n",
    "inputs_map2, targets_map2, inputs_spam2, targets_spam2 = pickle.load(\n",
    "        open(f\"../../data/belem_concatenate_4layer1\", \"rb\")\n",
    "    )\n",
    "\n",
    "inputs_map3, targets_map3, inputs_spam3, targets_spam3 = pickle.load(\n",
    "        open(f\"../../data/belem_concatenate_4layer2\", \"rb\")\n",
    "    )"
   ]
  },
  {
   "cell_type": "code",
   "execution_count": null,
   "metadata": {},
   "outputs": [],
   "source": [
    "print(f\"{np.abs(evaluate_channel(channel_ideal1, inputs_map1, targets_map1)):.4f}\")\n",
    "print(f\"{np.abs(evaluate_channel(channel1, inputs_map1, targets_map1)):.4f}\")\n",
    "\n",
    "print(f\"{np.abs(evaluate_channel(channel_ideal2, inputs_map2, targets_map2)):.4f}\")\n",
    "print(f\"{np.abs(evaluate_channel(channel2, inputs_map2, targets_map2)):.4f}\")\n",
    "\n",
    "print(f\"{np.abs(evaluate_channel(channel_ideal_full, inputs_map, targets_map)):.4f}\")\n",
    "print(f\"{np.abs(evaluate_channel(channel_full, inputs_map, targets_map)):.4f}\")\n",
    "print(f\"{np.abs(evaluate_channel(channel_concat, inputs_map, targets_map)):.4f}\")"
   ]
  },
  {
   "cell_type": "code",
   "execution_count": null,
   "metadata": {},
   "outputs": [],
   "source": [
    "channel1_slice = channel_to_choi_map([channel_full, channel2], invert_list = [False, True])\n",
    "channel1_slice.spam = channel1.spam\n",
    "\n",
    "print(f\"{np.abs(evaluate_channel(channel_ideal1, inputs_map1, targets_map1)):.4f}\")\n",
    "print(f\"{np.abs(evaluate_channel(channel1_slice, inputs_map1, targets_map1)):.4f}\")\n",
    "print(f\"{np.abs(evaluate_channel(channel1, inputs_map1, targets_map1)):.5f}\")"
   ]
  },
  {
   "cell_type": "code",
   "execution_count": null,
   "metadata": {},
   "outputs": [],
   "source": [
    "channel2_slice = channel_to_choi_map([channel1, channel_full], invert_list = [True, False])\n",
    "channel2_slice.spam = channel2.spam\n",
    "\n",
    "print(f\"{np.abs(evaluate_channel(channel_ideal1, inputs_map1, targets_map1)):.4f}\")\n",
    "print(f\"{np.abs(evaluate_channel(channel1_slice, inputs_map1, targets_map1)):.4f}\")\n",
    "print(f\"{np.abs(evaluate_channel(channel1, inputs_map1, targets_map1)):.5f}\")"
   ]
  },
  {
   "cell_type": "markdown",
   "metadata": {},
   "source": [
    "## Ost"
   ]
  },
  {
   "cell_type": "code",
   "execution_count": 4,
   "metadata": {},
   "outputs": [
    {
     "data": {
      "application/vnd.jupyter.widget-view+json": {
       "model_id": "bb4123c925a84511927777bc5cdd8212",
       "version_major": 2,
       "version_minor": 0
      },
      "text/plain": [
       "  0%|          | 0/4000 [00:00<?, ?it/s]"
      ]
     },
     "metadata": {},
     "output_type": "display_data"
    },
    {
     "name": "stdout",
     "output_type": "stream",
     "text": [
      "0.002747181454229589\n"
     ]
    },
    {
     "data": {
      "application/vnd.jupyter.widget-view+json": {
       "model_id": "0e97c7f05c344e16ab6c71ee929a9f11",
       "version_major": 2,
       "version_minor": 0
      },
      "text/plain": [
       "  0%|          | 0/4000 [00:00<?, ?it/s]"
      ]
     },
     "metadata": {},
     "output_type": "display_data"
    }
   ],
   "source": [
    "n = 3\n",
    "d = 2**n\n",
    "\n",
    "np.random.seed(42)\n",
    "random.seed(42)\n",
    "\n",
    "model1 =fit_model(channel=KrausMap(d=d, \n",
    "                                   rank=64),\n",
    "                  spam=SPAM(init = InitialState(d),\n",
    "                            povm = CorruptionMatrix(d),\n",
    "                            optimizer = tf.optimizers.Adam(learning_rate=0.01),\n",
    "                            ),\n",
    "                  N_map=500,\n",
    "                  N_spam=None,\n",
    "                  num_iter_map=4000,\n",
    "                  num_iter_spam=4000,\n",
    "                  filename=\"belem_concatenate_8layer0\",\n",
    "                  verbose=True\n",
    "                  )"
   ]
  },
  {
   "cell_type": "code",
   "execution_count": 5,
   "metadata": {},
   "outputs": [
    {
     "data": {
      "application/vnd.jupyter.widget-view+json": {
       "model_id": "301838a263b248c89807ff4f22e364a1",
       "version_major": 2,
       "version_minor": 0
      },
      "text/plain": [
       "  0%|          | 0/4000 [00:00<?, ?it/s]"
      ]
     },
     "metadata": {},
     "output_type": "display_data"
    },
    {
     "name": "stdout",
     "output_type": "stream",
     "text": [
      "0.0028589979211716306\n"
     ]
    },
    {
     "data": {
      "application/vnd.jupyter.widget-view+json": {
       "model_id": "df17bbde1155453ebb202dfd18be19f1",
       "version_major": 2,
       "version_minor": 0
      },
      "text/plain": [
       "  0%|          | 0/4000 [00:00<?, ?it/s]"
      ]
     },
     "metadata": {},
     "output_type": "display_data"
    }
   ],
   "source": [
    "np.random.seed(42)\n",
    "random.seed(42)\n",
    "\n",
    "model2 =fit_model(channel=KrausMap(d=d, \n",
    "                                   rank=64),\n",
    "                  spam=SPAM(init = InitialState(d),\n",
    "                            povm = CorruptionMatrix(d),\n",
    "                            optimizer = tf.optimizers.Adam(learning_rate=0.01),\n",
    "                            ),\n",
    "                  N_map=500,\n",
    "                  N_spam=None,\n",
    "                  num_iter_map=4000,\n",
    "                  num_iter_spam=4000,\n",
    "                  filename=\"belem_concatenate_8layer1\",\n",
    "                  verbose=True\n",
    "                  )"
   ]
  },
  {
   "cell_type": "code",
   "execution_count": 6,
   "metadata": {},
   "outputs": [
    {
     "data": {
      "application/vnd.jupyter.widget-view+json": {
       "model_id": "7ec7416f70f1420c87798db57743204d",
       "version_major": 2,
       "version_minor": 0
      },
      "text/plain": [
       "  0%|          | 0/4000 [00:00<?, ?it/s]"
      ]
     },
     "metadata": {},
     "output_type": "display_data"
    },
    {
     "name": "stdout",
     "output_type": "stream",
     "text": [
      "0.0030104216648138777\n"
     ]
    },
    {
     "data": {
      "application/vnd.jupyter.widget-view+json": {
       "model_id": "76ffdc7898874730aeaadb3d0b026df8",
       "version_major": 2,
       "version_minor": 0
      },
      "text/plain": [
       "  0%|          | 0/4000 [00:00<?, ?it/s]"
      ]
     },
     "metadata": {},
     "output_type": "display_data"
    }
   ],
   "source": [
    "np.random.seed(42)\n",
    "random.seed(42)\n",
    "\n",
    "model_full =fit_model(channel=KrausMap(d=d, \n",
    "                                   rank=64),\n",
    "                  spam=SPAM(init = InitialState(d),\n",
    "                            povm = CorruptionMatrix(d),\n",
    "                            optimizer = tf.optimizers.Adam(learning_rate=0.01),\n",
    "                            ),\n",
    "                  N_map=500,\n",
    "                  N_spam=None,\n",
    "                  num_iter_map=4000,\n",
    "                  num_iter_spam=4000,\n",
    "                  filename=\"belem_concatenate_8layer2\",\n",
    "                  verbose=True\n",
    "                  )"
   ]
  },
  {
   "cell_type": "code",
   "execution_count": 9,
   "metadata": {},
   "outputs": [],
   "source": [
    "channel1 = model1.channel\n",
    "channel2 = model2.channel\n",
    "channel_full = model_full.channel\n",
    "\n",
    "channel_concat = channel_to_choi_map([channel1, channel2])\n",
    "channel_concat.spam = channel_full.spam"
   ]
  },
  {
   "cell_type": "code",
   "execution_count": 10,
   "metadata": {},
   "outputs": [],
   "source": [
    "n = 3\n",
    "d = 2**n\n",
    "\n",
    "np.random.seed(42)\n",
    "random.seed(42)\n",
    "\n",
    "circuit_target1 = pqc_basic(n, 8).reverse_bits()\n",
    "circuit_target2 = pqc_basic(n, 8).reverse_bits()\n",
    "\n",
    "circuit_target_full = deepcopy(circuit_target1)\n",
    "circuit_target_full = circuit_target_full.compose(circuit_target2)\n",
    "\n",
    "U1 = Operator(circuit_target1).data\n",
    "U2 = Operator(circuit_target2).data\n",
    "U_full = Operator(circuit_target_full).data\n",
    "\n",
    "channel_ideal1 = DilutedKrausMap(U1, c=0.999, d=d, rank=1)\n",
    "channel_ideal2 = DilutedKrausMap(U2, c=0.999, d=d, rank=1)\n",
    "channel_ideal_full = DilutedKrausMap(U_full, c=0.999, d=d, rank=1)\n",
    "\n",
    "channel_ideal1.spam = channel1.spam\n",
    "channel_ideal2.spam = channel2.spam\n",
    "channel_ideal_full.spam = channel_full.spam"
   ]
  },
  {
   "cell_type": "code",
   "execution_count": 11,
   "metadata": {},
   "outputs": [
    {
     "name": "stdout",
     "output_type": "stream",
     "text": [
      " U1 vs T1: 0.4304\n",
      " U2 vs T2: 0.4616\n",
      " U Full vs T Full: 0.2780\n",
      " U Full vs T2*T1: 0.2012\n",
      " T Full vs T2*T1: 0.6682\n"
     ]
    }
   ],
   "source": [
    "print(f\" U1 vs T1: {channel_fidelity(channel_ideal1, channel1):.4f}\")\n",
    "print(f\" U2 vs T2: {channel_fidelity(channel_ideal2, channel2):.4f}\")\n",
    "\n",
    "print(f\" U Full vs T Full: {channel_fidelity(channel_ideal_full, channel_full):.4f}\")\n",
    "print(f\" U Full vs T2*T1: {channel_fidelity(channel_ideal_full, channel_concat):.4f}\")\n",
    "      \n",
    "print(f\" T Full vs T2*T1: {channel_fidelity(channel_full, channel_concat):.4f}\")"
   ]
  },
  {
   "cell_type": "code",
   "execution_count": 12,
   "metadata": {},
   "outputs": [],
   "source": [
    "inputs_map1, targets_map1, inputs_spam1, targets_spam1 = pickle.load(\n",
    "        open(f\"../../data/belem_concatenate_8layer0\", \"rb\")\n",
    "    )\n",
    "\n",
    "\n",
    "inputs_map2, targets_map2, inputs_spam2, targets_spam2 = pickle.load(\n",
    "        open(f\"../../data/belem_concatenate_8layer1\", \"rb\")\n",
    "    )\n",
    "\n",
    "inputs_map3, targets_map3, inputs_spam3, targets_spam3 = pickle.load(\n",
    "        open(f\"../../data/belem_concatenate_8layer2\", \"rb\")\n",
    "    )"
   ]
  },
  {
   "cell_type": "code",
   "execution_count": 14,
   "metadata": {},
   "outputs": [
    {
     "name": "stdout",
     "output_type": "stream",
     "text": [
      "0.17452\n",
      "0.00306\n",
      "0.15179\n",
      "0.00280\n",
      "0.25185\n",
      "0.00003\n",
      "0.01249\n"
     ]
    }
   ],
   "source": [
    "print(f\"{np.abs(evaluate_channel(channel_ideal1, inputs_map1, targets_map1)):.5f}\")\n",
    "print(f\"{np.abs(evaluate_channel(channel1, inputs_map1, targets_map1)):.5f}\")\n",
    "\n",
    "print(f\"{np.abs(evaluate_channel(channel_ideal2, inputs_map2, targets_map2)):.5f}\")\n",
    "print(f\"{np.abs(evaluate_channel(channel2, inputs_map2, targets_map2)):.5f}\")\n",
    "\n",
    "print(f\"{np.abs(evaluate_channel(channel_ideal_full, inputs_map3, targets_map3)):.5f}\")\n",
    "print(f\"{np.abs(evaluate_channel(channel_full, inputs_map3, targets_map3)):.5f}\")\n",
    "print(f\"{np.abs(evaluate_channel(channel_concat, inputs_map3, targets_map3)):.5f}\")"
   ]
  },
  {
   "cell_type": "code",
   "execution_count": 20,
   "metadata": {},
   "outputs": [
    {
     "name": "stdout",
     "output_type": "stream",
     "text": [
      "0.1745\n",
      "0.0935\n",
      "0.00306\n"
     ]
    }
   ],
   "source": [
    "channel1_slice = channel_to_choi_map([channel_full, channel2], invert_list = [False, True])\n",
    "channel1_slice.spam = channel1.spam\n",
    "\n",
    "print(f\"{np.abs(evaluate_channel(channel_ideal1, inputs_map1, targets_map1)):.4f}\")\n",
    "print(f\"{np.abs(evaluate_channel(channel1_slice, inputs_map1, targets_map1)):.4f}\")\n",
    "print(f\"{np.abs(evaluate_channel(channel1, inputs_map1, targets_map1)):.5f}\")"
   ]
  },
  {
   "cell_type": "code",
   "execution_count": 29,
   "metadata": {},
   "outputs": [
    {
     "name": "stdout",
     "output_type": "stream",
     "text": [
      "0.1518\n",
      "0.0575\n",
      "0.00280\n"
     ]
    }
   ],
   "source": [
    "channel2_slice = channel_to_choi_map([channel1, channel_full], invert_list = [True, False])\n",
    "channel2_slice.spam = channel2.spam\n",
    "\n",
    "print(f\"{np.abs(evaluate_channel(channel_ideal2, inputs_map2, targets_map2)):.4f}\")\n",
    "print(f\"{np.abs(evaluate_channel(channel2_slice, inputs_map2, targets_map2)):.4f}\")\n",
    "print(f\"{np.abs(evaluate_channel(channel2, inputs_map2, targets_map2)):.5f}\")"
   ]
  },
  {
   "cell_type": "code",
   "execution_count": 33,
   "metadata": {},
   "outputs": [
    {
     "name": "stdout",
     "output_type": "stream",
     "text": [
      "tf.Tensor(0.6701654350392119, shape=(), dtype=float64)\n",
      "tf.Tensor(0.9226732826020966, shape=(), dtype=float64)\n"
     ]
    }
   ],
   "source": [
    "print(channel_fidelity(channel2_slice, channel2))\n",
    "print(channel_fidelity(channel1_slice, channel1))"
   ]
  },
  {
   "cell_type": "code",
   "execution_count": null,
   "metadata": {},
   "outputs": [],
   "source": []
  }
 ],
 "metadata": {
  "kernelspec": {
   "display_name": "env_qiskit",
   "language": "python",
   "name": "env_qiskit"
  },
  "language_info": {
   "codemirror_mode": {
    "name": "ipython",
    "version": 3
   },
   "file_extension": ".py",
   "mimetype": "text/x-python",
   "name": "python",
   "nbconvert_exporter": "python",
   "pygments_lexer": "ipython3",
   "version": "3.10.4"
  }
 },
 "nbformat": 4,
 "nbformat_minor": 4
}
