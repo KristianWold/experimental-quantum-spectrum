{
 "cells": [
  {
   "cell_type": "markdown",
   "metadata": {},
   "source": [
    "# Effective Kraus Rank"
   ]
  },
  {
   "cell_type": "code",
   "execution_count": 2,
   "metadata": {},
   "outputs": [
    {
     "name": "stderr",
     "output_type": "stream",
     "text": [
      "C:\\Users\\krisw\\Documents\\ModelNISQ\\notebooks\\experiments\\../../src_tf\\experiments.py:264: SyntaxWarning: \"is\" with a literal. Did you mean \"==\"?\n",
      "  if init is \"random\":\n",
      "C:\\Users\\krisw\\Documents\\ModelNISQ\\notebooks\\experiments\\../../src_tf\\experiments.py:268: SyntaxWarning: \"is\" with a literal. Did you mean \"==\"?\n",
      "  elif init is \"ideal\":\n",
      "C:\\Users\\krisw\\Documents\\ModelNISQ\\notebooks\\experiments\\../../src_tf\\experiments.py:278: SyntaxWarning: \"is\" with a literal. Did you mean \"==\"?\n",
      "  if povm is \"random\":\n",
      "C:\\Users\\krisw\\Documents\\ModelNISQ\\notebooks\\experiments\\../../src_tf\\experiments.py:286: SyntaxWarning: \"is\" with a literal. Did you mean \"==\"?\n",
      "  elif povm is \"ideal\":\n"
     ]
    }
   ],
   "source": [
    "import sys\n",
    "sys.path.insert(0, '../../src_tf/')\n",
    "\n",
    "import numpy as np\n",
    "import qiskit as qk\n",
    "import matplotlib.pyplot as plt\n",
    "import multiprocessing as mp\n",
    "import random\n",
    "import pickle\n",
    "\n",
    "from qiskit.quantum_info import DensityMatrix\n",
    "from qiskit.quantum_info import Operator\n",
    "from scipy.linalg import sqrtm\n",
    "from tqdm.notebook import tqdm\n",
    "\n",
    "from loss_functions import *\n",
    "from optimization import *\n",
    "from quantum_maps import *\n",
    "from quantum_tools import *\n",
    "from experiments import *\n",
    "\n",
    "#np.set_printoptions(threshold=sys.maxsize)\n",
    "np.set_printoptions(precision=4)\n",
    "\n",
    "#import os\n",
    "#os.environ[\"CUDA_VISIBLE_DEVICES\"] = \"-1\""
   ]
  },
  {
   "cell_type": "markdown",
   "metadata": {},
   "source": [
    "## Real Hardware"
   ]
  },
  {
   "cell_type": "code",
   "execution_count": 5,
   "metadata": {},
   "outputs": [
    {
     "data": {
      "application/vnd.jupyter.widget-view+json": {
       "model_id": "178df471a262426a84ee1ae7950bc824",
       "version_major": 2,
       "version_minor": 0
      },
      "text/plain": [
       "  0%|          | 0/300 [00:00<?, ?it/s]"
      ]
     },
     "metadata": {},
     "output_type": "display_data"
    },
    {
     "name": "stdout",
     "output_type": "stream",
     "text": [
      "3.806583148768781e-05\n"
     ]
    },
    {
     "data": {
      "application/vnd.jupyter.widget-view+json": {
       "model_id": "e0c35f4ff25a4e60a86432402a7c45ce",
       "version_major": 2,
       "version_minor": 0
      },
      "text/plain": [
       "  0%|          | 0/1000 [00:00<?, ?it/s]"
      ]
     },
     "metadata": {},
     "output_type": "display_data"
    },
    {
     "name": "stdout",
     "output_type": "stream",
     "text": [
      "0.00040995797244320096\n"
     ]
    }
   ],
   "source": [
    "n = 3\n",
    "d = 2**n"
   ]
  },
  {
   "cell_type": "code",
   "execution_count": 7,
   "metadata": {
    "scrolled": true
   },
   "outputs": [
    {
     "data": {
      "application/vnd.jupyter.widget-view+json": {
       "model_id": "85fba319b2074df79d0876eb715ff823",
       "version_major": 2,
       "version_minor": 0
      },
      "text/plain": [
       "  0%|          | 0/300 [00:00<?, ?it/s]"
      ]
     },
     "metadata": {},
     "output_type": "display_data"
    },
    {
     "name": "stdout",
     "output_type": "stream",
     "text": [
      "3.806583148768781e-05\n"
     ]
    },
    {
     "data": {
      "application/vnd.jupyter.widget-view+json": {
       "model_id": "fa06b78543484da29b975cadc5aec484",
       "version_major": 2,
       "version_minor": 0
      },
      "text/plain": [
       "  0%|          | 0/1000 [00:00<?, ?it/s]"
      ]
     },
     "metadata": {},
     "output_type": "display_data"
    },
    {
     "name": "stdout",
     "output_type": "stream",
     "text": [
      "0.00040995797244320096\n"
     ]
    },
    {
     "data": {
      "application/vnd.jupyter.widget-view+json": {
       "model_id": "1423a8e988a6481b8d14cdfa4bdf1211",
       "version_major": 2,
       "version_minor": 0
      },
      "text/plain": [
       "  0%|          | 0/1000 [00:00<?, ?it/s]"
      ]
     },
     "metadata": {},
     "output_type": "display_data"
    },
    {
     "name": "stdout",
     "output_type": "stream",
     "text": [
      "0.003153606675462476 0\n"
     ]
    }
   ],
   "source": [
    "inputs_map, inputs_spam, counts_map_list =  pickle.load(open(\"../../data/threeQubits_variational_3.p\", \"rb\"))\n",
    "\n",
    "targets_map = counts_to_probs(counts_map_list[:1000-6**n])\n",
    "targets_spam = counts_to_probs(counts_map_list[1000-6**n:])\n",
    "\n",
    "\n",
    "np.random.seed(42)\n",
    "random.seed(42)\n",
    "tf.random.set_seed(42)\n",
    "\n",
    "spam_model = SPAM(d=d,\n",
    "                  use_corr_mat=True,\n",
    "                  optimizer = tf.optimizers.Adam(learning_rate=0.01))\n",
    "\n",
    "spam_model.pretrain(targets = [init_ideal(d), povm_ideal(d)],\n",
    "                num_iter = 300,\n",
    "                verbose = False,\n",
    "                )\n",
    "\n",
    "spam_model.train(inputs = inputs_spam,\n",
    "                 targets = targets_spam,\n",
    "                 num_iter = 1000,\n",
    "                 verbose = False,\n",
    "                 )\n",
    "\n",
    "\n",
    "kraus_model = KrausMap(d = d, \n",
    "                       rank = d,\n",
    "                       spam = spam_model,\n",
    "                       )\n",
    "\n",
    "model_L1 = ModelQuantumMap(\n",
    "                        q_map = kraus_model,\n",
    "                        loss = probs_loss,\n",
    "                        optimizer = tf.optimizers.Adam(learning_rate=0.01),\n",
    "                       )\n",
    "\n",
    "\n",
    "model_L1.train(inputs = inputs_map,\n",
    "               targets = targets_map,\n",
    "               num_iter = 1000,\n",
    "               verbose = False,\n",
    "               )"
   ]
  },
  {
   "cell_type": "code",
   "execution_count": 8,
   "metadata": {},
   "outputs": [
    {
     "data": {
      "application/vnd.jupyter.widget-view+json": {
       "model_id": "2d9b4ffc509948f596795b5fbeb70fcf",
       "version_major": 2,
       "version_minor": 0
      },
      "text/plain": [
       "  0%|          | 0/300 [00:00<?, ?it/s]"
      ]
     },
     "metadata": {},
     "output_type": "display_data"
    },
    {
     "name": "stdout",
     "output_type": "stream",
     "text": [
      "3.806583148768781e-05\n"
     ]
    },
    {
     "data": {
      "application/vnd.jupyter.widget-view+json": {
       "model_id": "e61789bc277744f3a606cf130cf6d332",
       "version_major": 2,
       "version_minor": 0
      },
      "text/plain": [
       "  0%|          | 0/1000 [00:00<?, ?it/s]"
      ]
     },
     "metadata": {},
     "output_type": "display_data"
    },
    {
     "name": "stdout",
     "output_type": "stream",
     "text": [
      "0.00040238130576414355\n"
     ]
    },
    {
     "data": {
      "application/vnd.jupyter.widget-view+json": {
       "model_id": "fd4dc56fee7b476d8e44def4873644f2",
       "version_major": 2,
       "version_minor": 0
      },
      "text/plain": [
       "  0%|          | 0/1000 [00:00<?, ?it/s]"
      ]
     },
     "metadata": {},
     "output_type": "display_data"
    },
    {
     "name": "stdout",
     "output_type": "stream",
     "text": [
      "0.002372249662711972 0\n"
     ]
    }
   ],
   "source": [
    "inputs_map, inputs_spam, counts_map_list =  pickle.load(open(\"../../data/threeQubits_variational_3_2.p\", \"rb\"))\n",
    "\n",
    "targets_map = counts_to_probs(counts_map_list[:1000-6**n])\n",
    "targets_spam = counts_to_probs(counts_map_list[1000-6**n:])\n",
    "\n",
    "\n",
    "np.random.seed(42)\n",
    "random.seed(42)\n",
    "tf.random.set_seed(42)\n",
    "\n",
    "spam_model = SPAM(d=d,\n",
    "                  use_corr_mat=True,\n",
    "                  optimizer = tf.optimizers.Adam(learning_rate=0.01))\n",
    "\n",
    "spam_model.pretrain(targets = [init_ideal(d), povm_ideal(d)],\n",
    "                num_iter = 300,\n",
    "                verbose = False,\n",
    "                )\n",
    "\n",
    "spam_model.train(inputs = inputs_spam,\n",
    "                 targets = targets_spam,\n",
    "                 num_iter = 1000,\n",
    "                 verbose = False,\n",
    "                 )\n",
    "\n",
    "\n",
    "kraus_model = KrausMap(d = d, \n",
    "                       rank = d,\n",
    "                       spam = spam_model,\n",
    "                       )\n",
    "\n",
    "model_L2 = ModelQuantumMap(\n",
    "                        q_map = kraus_model,\n",
    "                        loss = probs_loss,\n",
    "                        optimizer = tf.optimizers.Adam(learning_rate=0.01),\n",
    "                       )\n",
    "\n",
    "\n",
    "model_L2.train(inputs = inputs_map,\n",
    "               targets = targets_map,\n",
    "               num_iter = 1000,\n",
    "               verbose = False,\n",
    "               )"
   ]
  },
  {
   "cell_type": "code",
   "execution_count": 9,
   "metadata": {},
   "outputs": [
    {
     "data": {
      "application/vnd.jupyter.widget-view+json": {
       "model_id": "bea47f058fca4fc29f18236e69380b75",
       "version_major": 2,
       "version_minor": 0
      },
      "text/plain": [
       "  0%|          | 0/300 [00:00<?, ?it/s]"
      ]
     },
     "metadata": {},
     "output_type": "display_data"
    },
    {
     "name": "stdout",
     "output_type": "stream",
     "text": [
      "3.806583148768781e-05\n"
     ]
    },
    {
     "data": {
      "application/vnd.jupyter.widget-view+json": {
       "model_id": "b4b95122c591455b8e3472e9416854f3",
       "version_major": 2,
       "version_minor": 0
      },
      "text/plain": [
       "  0%|          | 0/1000 [00:00<?, ?it/s]"
      ]
     },
     "metadata": {},
     "output_type": "display_data"
    },
    {
     "name": "stdout",
     "output_type": "stream",
     "text": [
      "0.0004194076455761547\n"
     ]
    },
    {
     "data": {
      "application/vnd.jupyter.widget-view+json": {
       "model_id": "d475d4ede79047e1a930f37d2426b4d4",
       "version_major": 2,
       "version_minor": 0
      },
      "text/plain": [
       "  0%|          | 0/1000 [00:00<?, ?it/s]"
      ]
     },
     "metadata": {},
     "output_type": "display_data"
    },
    {
     "name": "stdout",
     "output_type": "stream",
     "text": [
      "0.003653204894703934 0\n"
     ]
    }
   ],
   "source": [
    "inputs_map, inputs_spam, counts_map_list =  pickle.load(open(\"../../data/threeQubits_variational_6.p\", \"rb\"))\n",
    "\n",
    "targets_map = counts_to_probs(counts_map_list[:1000-6**n])\n",
    "targets_spam = counts_to_probs(counts_map_list[1000-6**n:])\n",
    "\n",
    "\n",
    "np.random.seed(42)\n",
    "random.seed(42)\n",
    "tf.random.set_seed(42)\n",
    "\n",
    "spam_model = SPAM(d=d,\n",
    "                  use_corr_mat=True,\n",
    "                  optimizer = tf.optimizers.Adam(learning_rate=0.01))\n",
    "\n",
    "spam_model.pretrain(targets = [init_ideal(d), povm_ideal(d)],\n",
    "                num_iter = 300,\n",
    "                verbose = False,\n",
    "                )\n",
    "\n",
    "spam_model.train(inputs = inputs_spam,\n",
    "                 targets = targets_spam,\n",
    "                 num_iter = 1000,\n",
    "                 verbose = False,\n",
    "                 )\n",
    "\n",
    "\n",
    "kraus_model = KrausMap(d = d, \n",
    "                       rank = d,\n",
    "                       spam = spam_model,\n",
    "                       )\n",
    "\n",
    "model_L12 = ModelQuantumMap(\n",
    "                        q_map = kraus_model,\n",
    "                        loss = probs_loss,\n",
    "                        optimizer = tf.optimizers.Adam(learning_rate=0.01),\n",
    "                       )\n",
    "\n",
    "\n",
    "model_L12.train(inputs = inputs_map,\n",
    "               targets = targets_map,\n",
    "               num_iter = 1000,\n",
    "               verbose = False,\n",
    "               )"
   ]
  },
  {
   "cell_type": "code",
   "execution_count": 19,
   "metadata": {},
   "outputs": [],
   "source": [
    "choi1 = maps_to_choi([model_L1.q_map, model_L2.q_map])\n",
    "choi2 = maps_to_choi([model_L12.q_map])"
   ]
  },
  {
   "cell_type": "code",
   "execution_count": 21,
   "metadata": {},
   "outputs": [
    {
     "data": {
      "text/plain": [
       "<tf.Tensor: shape=(), dtype=float64, numpy=0.042679181810828755>"
      ]
     },
     "execution_count": 21,
     "metadata": {},
     "output_type": "execute_result"
    }
   ],
   "source": [
    "state_fidelity(choi1, choi2)/d**2"
   ]
  },
  {
   "cell_type": "code",
   "execution_count": null,
   "metadata": {},
   "outputs": [],
   "source": []
  }
 ],
 "metadata": {
  "kernelspec": {
   "display_name": "env_qiskit",
   "language": "python",
   "name": "env_qiskit"
  },
  "language_info": {
   "codemirror_mode": {
    "name": "ipython",
    "version": 3
   },
   "file_extension": ".py",
   "mimetype": "text/x-python",
   "name": "python",
   "nbconvert_exporter": "python",
   "pygments_lexer": "ipython3",
   "version": "3.10.4"
  }
 },
 "nbformat": 4,
 "nbformat_minor": 4
}
