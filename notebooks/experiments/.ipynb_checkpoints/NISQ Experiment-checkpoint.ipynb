{
 "cells": [
  {
   "cell_type": "markdown",
   "metadata": {},
   "source": [
    "# NISQ Experiment"
   ]
  },
  {
   "cell_type": "code",
   "execution_count": 1,
   "metadata": {},
   "outputs": [],
   "source": [
    "import sys\n",
    "sys.path.insert(0, '../../src_tf/')\n",
    "\n",
    "import numpy as np\n",
    "import qiskit as qk\n",
    "import matplotlib.pyplot as plt\n",
    "import multiprocessing as mp\n",
    "import random\n",
    "import pickle\n",
    "\n",
    "from qiskit.quantum_info import DensityMatrix\n",
    "from qiskit.quantum_info import Operator\n",
    "from qiskit import Aer\n",
    "from scipy.linalg import sqrtm\n",
    "from tqdm.notebook import tqdm\n",
    "from qiskit.providers.aer import AerSimulator\n",
    "from copy import deepcopy\n",
    "\n",
    "from loss_functions import *\n",
    "from optimization import *\n",
    "from quantum_maps import *\n",
    "from quantum_tools import *\n",
    "from utils import *\n",
    "from experiments import *\n",
    "from qiskit.test.mock.backends import FakeCasablanca\n",
    "#np.set_printoptions(threshold=sys.maxsize)"
   ]
  },
  {
   "cell_type": "code",
   "execution_count": 2,
   "metadata": {},
   "outputs": [],
   "source": [
    "#qk.IBMQ.save_account(\"66718f8f8aef22bcb6ebe86ad94a11f1fd1f4c55100829bb13f16e6b448e0a1ec6d09c459d738f58d0cbd8398a2a1f5e185a4706a61b6f896a5ce2983e136429\", overwrite=True) \n",
    "provider = qk.IBMQ.load_account()\n",
    "provider = qk.IBMQ.get_provider(hub='ibm-q', group='open', project='main')\n",
    "backend = provider.get_backend(\"ibmq_manila\")\n",
    "#backend = FakeCasablanca()\n",
    "#backend = AerSimulator()"
   ]
  },
  {
   "cell_type": "code",
   "execution_count": 3,
   "metadata": {},
   "outputs": [],
   "source": [
    "def variational_circuit(n):\n",
    "    theta = np.random.uniform(-np.pi, np.pi, 4*n)\n",
    "    circuit = qk.QuantumCircuit(n)\n",
    "    for i, angle in enumerate(theta[:n]):\n",
    "        circuit.ry(angle, i)\n",
    "    \n",
    "    for i, angle in enumerate(theta[n:2*n]):\n",
    "        circuit.crx(angle, i, (i+1)%n)\n",
    "        \n",
    "    #for i, angle in enumerate(theta[2*n:3*n]):\n",
    "    #    circuit.ry(angle, i)\n",
    "        \n",
    "    #for i, angle in enumerate(theta[3*n:]):\n",
    "    #    circuit.crx(angle, (n-i)%n, n-i-1)\n",
    "    \n",
    "    return circuit"
   ]
  },
  {
   "cell_type": "markdown",
   "metadata": {},
   "source": [
    "## Pauli String Expectation Values"
   ]
  },
  {
   "cell_type": "markdown",
   "metadata": {},
   "source": [
    "## Two Qubit POVM"
   ]
  },
  {
   "cell_type": "code",
   "execution_count": 4,
   "metadata": {},
   "outputs": [
    {
     "name": "stdout",
     "output_type": "stream",
     "text": [
      "      ┌────────────┐ ┌────────────┐               \n",
      "q_0: ─┤ Ry(2.8319) ├─┤ Rx(1.4577) ├───────■───────\n",
      "     ┌┴────────────┴┐└─────┬──────┘┌──────┴──────┐\n",
      "q_1: ┤ Ry(-0.78829) ├──────■───────┤ Rx(0.61989) ├\n",
      "     └──────────────┘              └─────────────┘\n"
     ]
    }
   ],
   "source": [
    "n = 2\n",
    "d = 2**n\n",
    "#backend = AerSimulator()\n",
    "backend = FakeCasablanca()\n",
    "np.random.seed(42)\n",
    "random.seed(42)\n",
    "\n",
    "circuit_target = variational_circuit(n).reverse_bits()\n",
    "print(circuit_target)\n",
    "\n",
    "N = 324\n",
    "input_list, circuit_list = generate_pauli_circuits(circuit_target, N, trace=False)\n",
    "    \n",
    "for i in range(1, 21):\n",
    "    q_reg = qk.QuantumRegister(n)\n",
    "    c_reg = qk.ClassicalRegister(n)\n",
    "    circuit = qk.QuantumCircuit(q_reg, c_reg)\n",
    "    for j in range(i):\n",
    "        circuit = circuit.compose(circuit_target)\n",
    "        \n",
    "    circuit.measure(q_reg, c_reg)\n",
    "    circuit_list.append(circuit)\n",
    "\n",
    "for i in range(d):\n",
    "    circuit_list.extend(generate_bitstring_circuits(n))\n",
    "    \n",
    "    \n",
    "job = qk.execute(circuit_list, backend, shots = 20000, optimization_level = 0)\n",
    "result = job.result()\n",
    "\n",
    "\n",
    "counts_list = [result.get_counts(circuit) for circuit in circuit_list]\n",
    "\n",
    "data = [input_list, counts_list]\n",
    "\n",
    "pickle.dump(data, open(\"../../data/twoQubits_expectation_POVM.p\", \"wb\"))"
   ]
  },
  {
   "cell_type": "code",
   "execution_count": 1,
   "metadata": {},
   "outputs": [
    {
     "ename": "NameError",
     "evalue": "name 'FakeCasablanca' is not defined",
     "output_type": "error",
     "traceback": [
      "\u001b[1;31m---------------------------------------------------------------------------\u001b[0m",
      "\u001b[1;31mNameError\u001b[0m                                 Traceback (most recent call last)",
      "\u001b[1;32m<ipython-input-1-6524ed81099a>\u001b[0m in \u001b[0;36m<module>\u001b[1;34m\u001b[0m\n\u001b[0;32m      2\u001b[0m \u001b[0md\u001b[0m \u001b[1;33m=\u001b[0m \u001b[1;36m2\u001b[0m\u001b[1;33m**\u001b[0m\u001b[0mn\u001b[0m\u001b[1;33m\u001b[0m\u001b[1;33m\u001b[0m\u001b[0m\n\u001b[0;32m      3\u001b[0m \u001b[1;31m#backend = AerSimulator()\u001b[0m\u001b[1;33m\u001b[0m\u001b[1;33m\u001b[0m\u001b[1;33m\u001b[0m\u001b[0m\n\u001b[1;32m----> 4\u001b[1;33m \u001b[0mbackend\u001b[0m \u001b[1;33m=\u001b[0m \u001b[0mFakeCasablanca\u001b[0m\u001b[1;33m(\u001b[0m\u001b[1;33m)\u001b[0m\u001b[1;33m\u001b[0m\u001b[1;33m\u001b[0m\u001b[0m\n\u001b[0m\u001b[0;32m      5\u001b[0m \u001b[0mnp\u001b[0m\u001b[1;33m.\u001b[0m\u001b[0mrandom\u001b[0m\u001b[1;33m.\u001b[0m\u001b[0mseed\u001b[0m\u001b[1;33m(\u001b[0m\u001b[1;36m42\u001b[0m\u001b[1;33m)\u001b[0m\u001b[1;33m\u001b[0m\u001b[1;33m\u001b[0m\u001b[0m\n\u001b[0;32m      6\u001b[0m \u001b[0mrandom\u001b[0m\u001b[1;33m.\u001b[0m\u001b[0mseed\u001b[0m\u001b[1;33m(\u001b[0m\u001b[1;36m42\u001b[0m\u001b[1;33m)\u001b[0m\u001b[1;33m\u001b[0m\u001b[1;33m\u001b[0m\u001b[0m\n",
      "\u001b[1;31mNameError\u001b[0m: name 'FakeCasablanca' is not defined"
     ]
    }
   ],
   "source": [
    "n = 3\n",
    "d = 2**n\n",
    "#backend = AerSimulator()\n",
    "backend = FakeCasablanca()\n",
    "np.random.seed(42)\n",
    "random.seed(42)\n",
    "\n",
    "circuit_target = variational_circuit(n).reverse_bits()\n",
    "print(circuit_target)\n",
    "\n",
    "N = 5000\n",
    "input_list, circuit_list = generate_pauli_circuits(circuit_target, N, trace=False)\n",
    "    \n",
    "for i in range(1, 21):\n",
    "    q_reg = qk.QuantumRegister(n)\n",
    "    c_reg = qk.ClassicalRegister(n)\n",
    "    circuit = qk.QuantumCircuit(q_reg, c_reg)\n",
    "    for j in range(i):\n",
    "        circuit = circuit.compose(circuit_target)\n",
    "        \n",
    "    circuit.measure(q_reg, c_reg)\n",
    "    circuit_list.append(circuit)\n",
    "\n",
    "for i in range(d):\n",
    "    circuit_list.extend(generate_bitstring_circuits(n))\n",
    "    \n",
    "    \n",
    "job = qk.execute(circuit_list, backend, shots = 20000, optimization_level = 0)\n",
    "result = job.result()\n",
    "\n",
    "\n",
    "counts_list = [result.get_counts(circuit) for circuit in circuit_list]\n",
    "\n",
    "data = [input_list, counts_list]\n",
    "\n",
    "pickle.dump(data, open(\"../../data/threeQubits_expectation_POVM.p\", \"wb\"))"
   ]
  },
  {
   "cell_type": "markdown",
   "metadata": {},
   "source": [
    "## Four Qubits"
   ]
  },
  {
   "cell_type": "code",
   "execution_count": 6,
   "metadata": {},
   "outputs": [
    {
     "name": "stdout",
     "output_type": "stream",
     "text": [
      "     ┌─────────────┐                               ┌─────────────┐»\n",
      "q_0: ┤ Ry(0.61989) ├───────────────────────────────┤ Rx(-2.7766) ├»\n",
      "     └┬────────────┤                ┌─────────────┐└──────┬──────┘»\n",
      "q_1: ─┤ Ry(1.4577) ├────────────────┤ Rx(-2.1615) ├───────■───────»\n",
      "      ├────────────┤ ┌─────────────┐└──────┬──────┘               »\n",
      "q_2: ─┤ Ry(2.8319) ├─┤ Rx(-2.1613) ├───────■──────────────────────»\n",
      "     ┌┴────────────┴┐└──────┬──────┘                              »\n",
      "q_3: ┤ Ry(-0.78829) ├───────■─────────────────────────────────────»\n",
      "     └──────────────┘                                             »\n",
      "«                   \n",
      "«q_0: ──────■───────\n",
      "«           │       \n",
      "«q_1: ──────┼───────\n",
      "«           │       \n",
      "«q_2: ──────┼───────\n",
      "«     ┌─────┴──────┐\n",
      "«q_3: ┤ Rx(2.3008) ├\n",
      "«     └────────────┘\n",
      "Generate Circuits\n"
     ]
    },
    {
     "ename": "KeyboardInterrupt",
     "evalue": "",
     "output_type": "error",
     "traceback": [
      "\u001b[1;31m---------------------------------------------------------------------------\u001b[0m",
      "\u001b[1;31mKeyboardInterrupt\u001b[0m                         Traceback (most recent call last)",
      "\u001b[1;32m<ipython-input-6-aac3c8a3af4c>\u001b[0m in \u001b[0;36m<module>\u001b[1;34m\u001b[0m\n\u001b[0;32m     11\u001b[0m \u001b[0mN\u001b[0m \u001b[1;33m=\u001b[0m \u001b[1;36m100000\u001b[0m\u001b[1;33m\u001b[0m\u001b[1;33m\u001b[0m\u001b[0m\n\u001b[0;32m     12\u001b[0m \u001b[0mprint\u001b[0m\u001b[1;33m(\u001b[0m\u001b[1;34m\"Generate Circuits\"\u001b[0m\u001b[1;33m)\u001b[0m\u001b[1;33m\u001b[0m\u001b[1;33m\u001b[0m\u001b[0m\n\u001b[1;32m---> 13\u001b[1;33m input_list, circuit_list = generate_pauli_circuits(n = n,\n\u001b[0m\u001b[0;32m     14\u001b[0m                                                    \u001b[0mcircuit_target\u001b[0m \u001b[1;33m=\u001b[0m \u001b[0mcircuit_target\u001b[0m\u001b[1;33m,\u001b[0m\u001b[1;33m\u001b[0m\u001b[1;33m\u001b[0m\u001b[0m\n\u001b[0;32m     15\u001b[0m                                                    \u001b[0mN\u001b[0m \u001b[1;33m=\u001b[0m \u001b[0mN\u001b[0m\u001b[1;33m,\u001b[0m\u001b[1;33m\u001b[0m\u001b[1;33m\u001b[0m\u001b[0m\n",
      "\u001b[1;32m~\\Documents\\ModelNISQ\\src_tf\\experiments.py\u001b[0m in \u001b[0;36mgenerate_pauli_circuits\u001b[1;34m(n, circuit_target, N, trace, return_circuits)\u001b[0m\n\u001b[0;32m    106\u001b[0m \u001b[1;33m\u001b[0m\u001b[0m\n\u001b[0;32m    107\u001b[0m         \u001b[0mconfig\u001b[0m \u001b[1;33m=\u001b[0m \u001b[0mnumberToBase\u001b[0m\u001b[1;33m(\u001b[0m\u001b[0mi\u001b[0m\u001b[1;33m,\u001b[0m \u001b[1;36m6\u001b[0m\u001b[1;33m,\u001b[0m \u001b[0mn\u001b[0m\u001b[1;33m)\u001b[0m\u001b[1;33m\u001b[0m\u001b[1;33m\u001b[0m\u001b[0m\n\u001b[1;32m--> 108\u001b[1;33m         \u001b[0mstate\u001b[0m \u001b[1;33m=\u001b[0m \u001b[0mprepare_input\u001b[0m\u001b[1;33m(\u001b[0m\u001b[0mconfig\u001b[0m\u001b[1;33m,\u001b[0m \u001b[0mreturn_mode\u001b[0m \u001b[1;33m=\u001b[0m \u001b[1;34m\"density\"\u001b[0m\u001b[1;33m)\u001b[0m\u001b[1;33m\u001b[0m\u001b[1;33m\u001b[0m\u001b[0m\n\u001b[0m\u001b[0;32m    109\u001b[0m \u001b[1;33m\u001b[0m\u001b[0m\n\u001b[0;32m    110\u001b[0m \u001b[1;33m\u001b[0m\u001b[0m\n",
      "\u001b[1;32m~\\Documents\\ModelNISQ\\src_tf\\experiments.py\u001b[0m in \u001b[0;36mprepare_input\u001b[1;34m(config, return_mode)\u001b[0m\n\u001b[0;32m     35\u001b[0m \u001b[1;33m\u001b[0m\u001b[0m\n\u001b[0;32m     36\u001b[0m     \u001b[1;32mif\u001b[0m \u001b[0mreturn_mode\u001b[0m \u001b[1;33m==\u001b[0m \u001b[1;34m\"density\"\u001b[0m\u001b[1;33m:\u001b[0m\u001b[1;33m\u001b[0m\u001b[1;33m\u001b[0m\u001b[0m\n\u001b[1;32m---> 37\u001b[1;33m         \u001b[0mstate\u001b[0m \u001b[1;33m=\u001b[0m \u001b[0mDensityMatrix\u001b[0m\u001b[1;33m(\u001b[0m\u001b[0mcircuit\u001b[0m\u001b[1;33m.\u001b[0m\u001b[0mreverse_bits\u001b[0m\u001b[1;33m(\u001b[0m\u001b[1;33m)\u001b[0m\u001b[1;33m)\u001b[0m\u001b[1;33m.\u001b[0m\u001b[0mdata\u001b[0m\u001b[1;33m\u001b[0m\u001b[1;33m\u001b[0m\u001b[0m\n\u001b[0m\u001b[0;32m     38\u001b[0m     \u001b[1;32mif\u001b[0m \u001b[0mreturn_mode\u001b[0m \u001b[1;33m==\u001b[0m \u001b[1;34m\"unitary\"\u001b[0m\u001b[1;33m:\u001b[0m\u001b[1;33m\u001b[0m\u001b[1;33m\u001b[0m\u001b[0m\n\u001b[0;32m     39\u001b[0m         \u001b[0mstate\u001b[0m \u001b[1;33m=\u001b[0m \u001b[0mOperator\u001b[0m\u001b[1;33m(\u001b[0m\u001b[0mcircuit\u001b[0m\u001b[1;33m.\u001b[0m\u001b[0mreverse_bits\u001b[0m\u001b[1;33m(\u001b[0m\u001b[1;33m)\u001b[0m\u001b[1;33m)\u001b[0m\u001b[1;33m.\u001b[0m\u001b[0mdata\u001b[0m\u001b[1;33m\u001b[0m\u001b[1;33m\u001b[0m\u001b[0m\n",
      "\u001b[1;32m~\\Anaconda2\\envs\\qiskit\\lib\\site-packages\\qiskit\\quantum_info\\states\\densitymatrix.py\u001b[0m in \u001b[0;36m__init__\u001b[1;34m(self, data, dims)\u001b[0m\n\u001b[0;32m     77\u001b[0m             \u001b[1;31m# If the data is a circuit or an instruction use the classmethod\u001b[0m\u001b[1;33m\u001b[0m\u001b[1;33m\u001b[0m\u001b[1;33m\u001b[0m\u001b[0m\n\u001b[0;32m     78\u001b[0m             \u001b[1;31m# to construct the DensityMatrix object\u001b[0m\u001b[1;33m\u001b[0m\u001b[1;33m\u001b[0m\u001b[1;33m\u001b[0m\u001b[0m\n\u001b[1;32m---> 79\u001b[1;33m             \u001b[0mself\u001b[0m\u001b[1;33m.\u001b[0m\u001b[0m_data\u001b[0m \u001b[1;33m=\u001b[0m \u001b[0mDensityMatrix\u001b[0m\u001b[1;33m.\u001b[0m\u001b[0mfrom_instruction\u001b[0m\u001b[1;33m(\u001b[0m\u001b[0mdata\u001b[0m\u001b[1;33m)\u001b[0m\u001b[1;33m.\u001b[0m\u001b[0m_data\u001b[0m\u001b[1;33m\u001b[0m\u001b[1;33m\u001b[0m\u001b[0m\n\u001b[0m\u001b[0;32m     80\u001b[0m         \u001b[1;32melif\u001b[0m \u001b[0mhasattr\u001b[0m\u001b[1;33m(\u001b[0m\u001b[0mdata\u001b[0m\u001b[1;33m,\u001b[0m \u001b[1;34m\"to_operator\"\u001b[0m\u001b[1;33m)\u001b[0m\u001b[1;33m:\u001b[0m\u001b[1;33m\u001b[0m\u001b[1;33m\u001b[0m\u001b[0m\n\u001b[0;32m     81\u001b[0m             \u001b[1;31m# If the data object has a 'to_operator' attribute this is given\u001b[0m\u001b[1;33m\u001b[0m\u001b[1;33m\u001b[0m\u001b[1;33m\u001b[0m\u001b[0m\n",
      "\u001b[1;32m~\\Anaconda2\\envs\\qiskit\\lib\\site-packages\\qiskit\\quantum_info\\states\\densitymatrix.py\u001b[0m in \u001b[0;36mfrom_instruction\u001b[1;34m(cls, instruction)\u001b[0m\n\u001b[0;32m    596\u001b[0m         \u001b[0minit\u001b[0m\u001b[1;33m[\u001b[0m\u001b[1;36m0\u001b[0m\u001b[1;33m,\u001b[0m \u001b[1;36m0\u001b[0m\u001b[1;33m]\u001b[0m \u001b[1;33m=\u001b[0m \u001b[1;36m1\u001b[0m\u001b[1;33m\u001b[0m\u001b[1;33m\u001b[0m\u001b[0m\n\u001b[0;32m    597\u001b[0m         \u001b[0mvec\u001b[0m \u001b[1;33m=\u001b[0m \u001b[0mDensityMatrix\u001b[0m\u001b[1;33m(\u001b[0m\u001b[0minit\u001b[0m\u001b[1;33m,\u001b[0m \u001b[0mdims\u001b[0m\u001b[1;33m=\u001b[0m\u001b[0mnum_qubits\u001b[0m \u001b[1;33m*\u001b[0m \u001b[1;33m(\u001b[0m\u001b[1;36m2\u001b[0m\u001b[1;33m,\u001b[0m\u001b[1;33m)\u001b[0m\u001b[1;33m)\u001b[0m\u001b[1;33m\u001b[0m\u001b[1;33m\u001b[0m\u001b[0m\n\u001b[1;32m--> 598\u001b[1;33m         \u001b[0mvec\u001b[0m\u001b[1;33m.\u001b[0m\u001b[0m_append_instruction\u001b[0m\u001b[1;33m(\u001b[0m\u001b[0minstruction\u001b[0m\u001b[1;33m)\u001b[0m\u001b[1;33m\u001b[0m\u001b[1;33m\u001b[0m\u001b[0m\n\u001b[0m\u001b[0;32m    599\u001b[0m         \u001b[1;32mreturn\u001b[0m \u001b[0mvec\u001b[0m\u001b[1;33m\u001b[0m\u001b[1;33m\u001b[0m\u001b[0m\n\u001b[0;32m    600\u001b[0m \u001b[1;33m\u001b[0m\u001b[0m\n",
      "\u001b[1;32m~\\Anaconda2\\envs\\qiskit\\lib\\site-packages\\qiskit\\quantum_info\\states\\densitymatrix.py\u001b[0m in \u001b[0;36m_append_instruction\u001b[1;34m(self, other, qargs)\u001b[0m\n\u001b[0;32m    740\u001b[0m             \u001b[1;32melse\u001b[0m\u001b[1;33m:\u001b[0m\u001b[1;33m\u001b[0m\u001b[1;33m\u001b[0m\u001b[0m\n\u001b[0;32m    741\u001b[0m                 \u001b[0mnew_qargs\u001b[0m \u001b[1;33m=\u001b[0m \u001b[1;33m[\u001b[0m\u001b[0mqargs\u001b[0m\u001b[1;33m[\u001b[0m\u001b[0mqubit_indices\u001b[0m\u001b[1;33m[\u001b[0m\u001b[0mtup\u001b[0m\u001b[1;33m]\u001b[0m\u001b[1;33m]\u001b[0m \u001b[1;32mfor\u001b[0m \u001b[0mtup\u001b[0m \u001b[1;32min\u001b[0m \u001b[0mqregs\u001b[0m\u001b[1;33m]\u001b[0m\u001b[1;33m\u001b[0m\u001b[1;33m\u001b[0m\u001b[0m\n\u001b[1;32m--> 742\u001b[1;33m             \u001b[0mself\u001b[0m\u001b[1;33m.\u001b[0m\u001b[0m_append_instruction\u001b[0m\u001b[1;33m(\u001b[0m\u001b[0minstr\u001b[0m\u001b[1;33m,\u001b[0m \u001b[0mqargs\u001b[0m\u001b[1;33m=\u001b[0m\u001b[0mnew_qargs\u001b[0m\u001b[1;33m)\u001b[0m\u001b[1;33m\u001b[0m\u001b[1;33m\u001b[0m\u001b[0m\n\u001b[0m\u001b[0;32m    743\u001b[0m \u001b[1;33m\u001b[0m\u001b[0m\n\u001b[0;32m    744\u001b[0m     \u001b[1;32mdef\u001b[0m \u001b[0m_evolve_instruction\u001b[0m\u001b[1;33m(\u001b[0m\u001b[0mself\u001b[0m\u001b[1;33m,\u001b[0m \u001b[0mobj\u001b[0m\u001b[1;33m,\u001b[0m \u001b[0mqargs\u001b[0m\u001b[1;33m=\u001b[0m\u001b[1;32mNone\u001b[0m\u001b[1;33m)\u001b[0m\u001b[1;33m:\u001b[0m\u001b[1;33m\u001b[0m\u001b[1;33m\u001b[0m\u001b[0m\n",
      "\u001b[1;32m~\\Anaconda2\\envs\\qiskit\\lib\\site-packages\\qiskit\\quantum_info\\states\\densitymatrix.py\u001b[0m in \u001b[0;36m_append_instruction\u001b[1;34m(self, other, qargs)\u001b[0m\n\u001b[0;32m    702\u001b[0m         \u001b[0mmat\u001b[0m \u001b[1;33m=\u001b[0m \u001b[0mOperator\u001b[0m\u001b[1;33m.\u001b[0m\u001b[0m_instruction_to_matrix\u001b[0m\u001b[1;33m(\u001b[0m\u001b[0mother\u001b[0m\u001b[1;33m)\u001b[0m\u001b[1;33m\u001b[0m\u001b[1;33m\u001b[0m\u001b[0m\n\u001b[0;32m    703\u001b[0m         \u001b[1;32mif\u001b[0m \u001b[0mmat\u001b[0m \u001b[1;32mis\u001b[0m \u001b[1;32mnot\u001b[0m \u001b[1;32mNone\u001b[0m\u001b[1;33m:\u001b[0m\u001b[1;33m\u001b[0m\u001b[1;33m\u001b[0m\u001b[0m\n\u001b[1;32m--> 704\u001b[1;33m             \u001b[0mself\u001b[0m\u001b[1;33m.\u001b[0m\u001b[0m_data\u001b[0m \u001b[1;33m=\u001b[0m \u001b[0mself\u001b[0m\u001b[1;33m.\u001b[0m\u001b[0m_evolve_operator\u001b[0m\u001b[1;33m(\u001b[0m\u001b[0mOperator\u001b[0m\u001b[1;33m(\u001b[0m\u001b[0mmat\u001b[0m\u001b[1;33m)\u001b[0m\u001b[1;33m,\u001b[0m \u001b[0mqargs\u001b[0m\u001b[1;33m=\u001b[0m\u001b[0mqargs\u001b[0m\u001b[1;33m)\u001b[0m\u001b[1;33m.\u001b[0m\u001b[0mdata\u001b[0m\u001b[1;33m\u001b[0m\u001b[1;33m\u001b[0m\u001b[0m\n\u001b[0m\u001b[0;32m    705\u001b[0m             \u001b[1;32mreturn\u001b[0m\u001b[1;33m\u001b[0m\u001b[1;33m\u001b[0m\u001b[0m\n\u001b[0;32m    706\u001b[0m \u001b[1;33m\u001b[0m\u001b[0m\n",
      "\u001b[1;32m~\\Anaconda2\\envs\\qiskit\\lib\\site-packages\\qiskit\\quantum_info\\states\\densitymatrix.py\u001b[0m in \u001b[0;36m_evolve_operator\u001b[1;34m(self, other, qargs)\u001b[0m\n\u001b[0;32m    688\u001b[0m         \u001b[0madj\u001b[0m \u001b[1;33m=\u001b[0m \u001b[0mother\u001b[0m\u001b[1;33m.\u001b[0m\u001b[0madjoint\u001b[0m\u001b[1;33m(\u001b[0m\u001b[1;33m)\u001b[0m\u001b[1;33m\u001b[0m\u001b[1;33m\u001b[0m\u001b[0m\n\u001b[0;32m    689\u001b[0m         \u001b[0mmat_adj\u001b[0m \u001b[1;33m=\u001b[0m \u001b[0mnp\u001b[0m\u001b[1;33m.\u001b[0m\u001b[0mreshape\u001b[0m\u001b[1;33m(\u001b[0m\u001b[0madj\u001b[0m\u001b[1;33m.\u001b[0m\u001b[0mdata\u001b[0m\u001b[1;33m,\u001b[0m \u001b[0madj\u001b[0m\u001b[1;33m.\u001b[0m\u001b[0m_op_shape\u001b[0m\u001b[1;33m.\u001b[0m\u001b[0mtensor_shape\u001b[0m\u001b[1;33m)\u001b[0m\u001b[1;33m\u001b[0m\u001b[1;33m\u001b[0m\u001b[0m\n\u001b[1;32m--> 690\u001b[1;33m         \u001b[0mtensor\u001b[0m \u001b[1;33m=\u001b[0m \u001b[0mOperator\u001b[0m\u001b[1;33m.\u001b[0m\u001b[0m_einsum_matmul\u001b[0m\u001b[1;33m(\u001b[0m\u001b[0mtensor\u001b[0m\u001b[1;33m,\u001b[0m \u001b[0mmat_adj\u001b[0m\u001b[1;33m,\u001b[0m \u001b[0mindices\u001b[0m\u001b[1;33m,\u001b[0m \u001b[0mnum_indices\u001b[0m\u001b[1;33m,\u001b[0m \u001b[1;32mTrue\u001b[0m\u001b[1;33m)\u001b[0m\u001b[1;33m\u001b[0m\u001b[1;33m\u001b[0m\u001b[0m\n\u001b[0m\u001b[0;32m    691\u001b[0m         \u001b[1;31m# Replace evolved dimensions\u001b[0m\u001b[1;33m\u001b[0m\u001b[1;33m\u001b[0m\u001b[1;33m\u001b[0m\u001b[0m\n\u001b[0;32m    692\u001b[0m         \u001b[0mret\u001b[0m\u001b[1;33m.\u001b[0m\u001b[0m_data\u001b[0m \u001b[1;33m=\u001b[0m \u001b[0mnp\u001b[0m\u001b[1;33m.\u001b[0m\u001b[0mreshape\u001b[0m\u001b[1;33m(\u001b[0m\u001b[0mtensor\u001b[0m\u001b[1;33m,\u001b[0m \u001b[0mnew_shape\u001b[0m\u001b[1;33m.\u001b[0m\u001b[0mshape\u001b[0m\u001b[1;33m)\u001b[0m\u001b[1;33m\u001b[0m\u001b[1;33m\u001b[0m\u001b[0m\n",
      "\u001b[1;32m~\\Anaconda2\\envs\\qiskit\\lib\\site-packages\\qiskit\\quantum_info\\operators\\operator.py\u001b[0m in \u001b[0;36m_einsum_matmul\u001b[1;34m(cls, tensor, mat, indices, shift, right_mul)\u001b[0m\n\u001b[0;32m    495\u001b[0m         \u001b[1;32melse\u001b[0m\u001b[1;33m:\u001b[0m\u001b[1;33m\u001b[0m\u001b[1;33m\u001b[0m\u001b[0m\n\u001b[0;32m    496\u001b[0m             \u001b[0mindices_mat\u001b[0m \u001b[1;33m=\u001b[0m \u001b[0mmat_free\u001b[0m \u001b[1;33m+\u001b[0m \u001b[0mmat_contract\u001b[0m\u001b[1;33m\u001b[0m\u001b[1;33m\u001b[0m\u001b[0m\n\u001b[1;32m--> 497\u001b[1;33m         \u001b[1;32mreturn\u001b[0m \u001b[0mnp\u001b[0m\u001b[1;33m.\u001b[0m\u001b[0meinsum\u001b[0m\u001b[1;33m(\u001b[0m\u001b[0mtensor\u001b[0m\u001b[1;33m,\u001b[0m \u001b[0mindices_tensor\u001b[0m\u001b[1;33m,\u001b[0m \u001b[0mmat\u001b[0m\u001b[1;33m,\u001b[0m \u001b[0mindices_mat\u001b[0m\u001b[1;33m)\u001b[0m\u001b[1;33m\u001b[0m\u001b[1;33m\u001b[0m\u001b[0m\n\u001b[0m\u001b[0;32m    498\u001b[0m \u001b[1;33m\u001b[0m\u001b[0m\n\u001b[0;32m    499\u001b[0m     \u001b[1;33m@\u001b[0m\u001b[0mclassmethod\u001b[0m\u001b[1;33m\u001b[0m\u001b[1;33m\u001b[0m\u001b[0m\n",
      "\u001b[1;32m<__array_function__ internals>\u001b[0m in \u001b[0;36meinsum\u001b[1;34m(*args, **kwargs)\u001b[0m\n",
      "\u001b[1;32m~\\Anaconda2\\envs\\qiskit\\lib\\site-packages\\numpy\\core\\einsumfunc.py\u001b[0m in \u001b[0;36meinsum\u001b[1;34m(out, optimize, *operands, **kwargs)\u001b[0m\n\u001b[0;32m   1359\u001b[0m         \u001b[1;32mif\u001b[0m \u001b[0mspecified_out\u001b[0m\u001b[1;33m:\u001b[0m\u001b[1;33m\u001b[0m\u001b[1;33m\u001b[0m\u001b[0m\n\u001b[0;32m   1360\u001b[0m             \u001b[0mkwargs\u001b[0m\u001b[1;33m[\u001b[0m\u001b[1;34m'out'\u001b[0m\u001b[1;33m]\u001b[0m \u001b[1;33m=\u001b[0m \u001b[0mout\u001b[0m\u001b[1;33m\u001b[0m\u001b[1;33m\u001b[0m\u001b[0m\n\u001b[1;32m-> 1361\u001b[1;33m         \u001b[1;32mreturn\u001b[0m \u001b[0mc_einsum\u001b[0m\u001b[1;33m(\u001b[0m\u001b[1;33m*\u001b[0m\u001b[0moperands\u001b[0m\u001b[1;33m,\u001b[0m \u001b[1;33m**\u001b[0m\u001b[0mkwargs\u001b[0m\u001b[1;33m)\u001b[0m\u001b[1;33m\u001b[0m\u001b[1;33m\u001b[0m\u001b[0m\n\u001b[0m\u001b[0;32m   1362\u001b[0m \u001b[1;33m\u001b[0m\u001b[0m\n\u001b[0;32m   1363\u001b[0m     \u001b[1;31m# Check the kwargs to avoid a more cryptic error later, without having to\u001b[0m\u001b[1;33m\u001b[0m\u001b[1;33m\u001b[0m\u001b[1;33m\u001b[0m\u001b[0m\n",
      "\u001b[1;31mKeyboardInterrupt\u001b[0m: "
     ]
    }
   ],
   "source": [
    "n = 4\n",
    "d = 2**n\n",
    "backend = AerSimulator()\n",
    "#backend = FakeCasablanca()\n",
    "np.random.seed(42)\n",
    "random.seed(42)\n",
    "\n",
    "circuit_target = variational_circuit(n).reverse_bits()\n",
    "print(circuit_target)\n",
    "\n",
    "N = 100000\n",
    "print(\"Generate Circuits\")\n",
    "input_list, circuit_list = generate_pauli_circuits(n = n,\n",
    "                                                   circuit_target = circuit_target,\n",
    "                                                   N = N, \n",
    "                                                   trace = False, \n",
    "                                                   return_circuits = True)\n",
    " \n",
    "for i in range(1, 21):\n",
    "    q_reg = qk.QuantumRegister(n)\n",
    "    c_reg = qk.ClassicalRegister(n)\n",
    "    circuit = qk.QuantumCircuit(q_reg, c_reg)\n",
    "    for j in range(i):\n",
    "        circuit = circuit.compose(circuit_target)\n",
    "        \n",
    "    circuit.measure(q_reg, c_reg)\n",
    "    circuit_list.append(circuit)\n",
    "\n",
    "for i in range(d):\n",
    "    circuit_list.extend(generate_bitstring_circuits(n))\n",
    "    \n",
    "print(\"Done!\")\n",
    "print(\"Execute Job\")\n",
    "backend_options = {'method': \n",
    "                   'automatic',\n",
    "                   'max_parallel_threads':0,\n",
    "                   'max_parallel_experiments':0,\n",
    "                   'max_parallel_shots':1}\n",
    "job = qk.execute(circuit_list, backend, shots = 20000, optimization_level = 0, backend_options = backend_options)\n",
    "print(\"Done!\") \n",
    "print(\"Retrieve Results\")  \n",
    "result = job.result()\n",
    "print(\"Done!\")    \n",
    "\n",
    "print(\"Get Counts\")\n",
    "counts_list = [result.get_counts(circuit) for circuit in circuit_list]\n",
    "targets = counts_to_probs(counts_list)\n",
    "print(\"Done!\")\n",
    "data = [input_list, targets, counts_list[d**2:]]\n",
    "\n",
    "pickle.dump(data, open(\"../../data/fourQubits_expectation_POVM.p\", \"wb\"))"
   ]
  },
  {
   "cell_type": "markdown",
   "metadata": {},
   "source": [
    "## Two Qubit POVM, two blocks"
   ]
  },
  {
   "cell_type": "code",
   "execution_count": 7,
   "metadata": {},
   "outputs": [
    {
     "name": "stdout",
     "output_type": "stream",
     "text": [
      "      ┌────────────┐ ┌────────────┐               \n",
      "q_0: ─┤ Ry(2.8319) ├─┤ Rx(1.4577) ├───────■───────\n",
      "     ┌┴────────────┴┐└─────┬──────┘┌──────┴──────┐\n",
      "q_1: ┤ Ry(-0.78829) ├──────■───────┤ Rx(0.61989) ├\n",
      "     └──────────────┘              └─────────────┘\n",
      "      ┌────────────┐┌─────────────┐              \n",
      "q_0: ─┤ Ry(1.3074) ├┤ Rx(-3.0123) ├──────■───────\n",
      "     ┌┴────────────┤└──────┬──────┘┌─────┴──────┐\n",
      "q_1: ┤ Ry(0.63532) ├───────■───────┤ Rx(2.9525) ├\n",
      "     └─────────────┘               └────────────┘\n"
     ]
    }
   ],
   "source": [
    "n = 2\n",
    "d = 2**n\n",
    "#backend = AerSimulator()\n",
    "backend = FakeCasablanca()\n",
    "np.random.seed(42)\n",
    "random.seed(42)\n",
    "\n",
    "circuit_target1 = variational_circuit(n).reverse_bits()\n",
    "circuit_target2 = variational_circuit(n).reverse_bits()\n",
    "circuit_target3 = circuit_target1.compose(circuit_target2)\n",
    "print(circuit_target1)\n",
    "print(circuit_target2)\n",
    "\n",
    "N = 324\n",
    "input_list1, circuit_list1 = generate_pauli_circuits(circuit_target1, N, trace=False)\n",
    "input_list2, circuit_list2 = generate_pauli_circuits(circuit_target2, N, trace=False)\n",
    " \n",
    "input_list = []\n",
    "input_list.extend(input_list1)\n",
    "input_list.extend(input_list2)\n",
    "\n",
    "circuit_list = []\n",
    "circuit_list.extend(circuit_list1)\n",
    "circuit_list.extend(circuit_list2)\n",
    "\n",
    "    \n",
    "q_reg = qk.QuantumRegister(n)\n",
    "c_reg = qk.ClassicalRegister(n)\n",
    "circuit = qk.QuantumCircuit(q_reg, c_reg)\n",
    "\n",
    "circuit = circuit.compose(circuit_target3)\n",
    "\n",
    "circuit.measure(q_reg, c_reg)\n",
    "circuit_list.append(circuit)\n",
    "\n",
    "\n",
    "for i in range(d):\n",
    "    circuit_list.extend(generate_bitstring_circuits(n))\n",
    "    \n",
    "    \n",
    "job = qk.execute(circuit_list, backend, shots = 20000, optimization_level = 0)\n",
    "result = job.result()\n",
    "\n",
    "\n",
    "counts_list = [result.get_counts(circuit) for circuit in circuit_list]\n",
    "\n",
    "data = [input_list, counts_list]\n",
    "\n",
    "pickle.dump(data, open(\"..\\..\\data\\twoQubits_twoBlocks.p\", \"wb\"))"
   ]
  },
  {
   "cell_type": "markdown",
   "metadata": {},
   "source": [
    "## Three Qubit POVM, two blocks"
   ]
  },
  {
   "cell_type": "code",
   "execution_count": 9,
   "metadata": {},
   "outputs": [
    {
     "name": "stdout",
     "output_type": "stream",
     "text": [
      "      ┌────────────┐                ┌─────────────┐               \n",
      "q_0: ─┤ Ry(1.4577) ├────────────────┤ Rx(-2.1613) ├───────■───────\n",
      "      ├────────────┤ ┌─────────────┐└──────┬──────┘       │       \n",
      "q_1: ─┤ Ry(2.8319) ├─┤ Rx(0.61989) ├───────■──────────────┼───────\n",
      "     ┌┴────────────┴┐└──────┬──────┘               ┌──────┴──────┐\n",
      "q_2: ┤ Ry(-0.78829) ├───────■──────────────────────┤ Rx(-2.1615) ├\n",
      "     └──────────────┘                              └─────────────┘\n",
      "     ┌─────────────┐               ┌───────────┐               \n",
      "q_0: ┤ Ry(-1.9992) ├───────────────┤ Rx(-1.23) ├───────■───────\n",
      "     ├─────────────┤┌─────────────┐└─────┬─────┘       │       \n",
      "q_1: ┤ Ry(-1.8074) ├┤ Rx(-1.9892) ├──────■─────────────┼───────\n",
      "     └┬────────────┤└──────┬──────┘             ┌──────┴──────┐\n",
      "q_2: ─┤ Ry(2.0888) ├───────■────────────────────┤ Rx(0.15555) ├\n",
      "      └────────────┘                            └─────────────┘\n"
     ]
    }
   ],
   "source": [
    "n = 3\n",
    "d = 2**n\n",
    "#backend = AerSimulator()\n",
    "backend = FakeCasablanca()\n",
    "np.random.seed(42)\n",
    "random.seed(42)\n",
    "\n",
    "circuit_target1 = variational_circuit(n).reverse_bits()\n",
    "circuit_target2 = variational_circuit(n).reverse_bits()\n",
    "circuit_target3 = circuit_target1.compose(circuit_target2)\n",
    "print(circuit_target1)\n",
    "print(circuit_target2)\n",
    "\n",
    "N = 1000\n",
    "input_list1, circuit_list1 = generate_pauli_circuits(circuit_target1, N, trace=False)\n",
    "input_list2, circuit_list2 = generate_pauli_circuits(circuit_target2, N, trace=False)\n",
    " \n",
    "input_list = []\n",
    "input_list.extend(input_list1)\n",
    "input_list.extend(input_list2)\n",
    "\n",
    "circuit_list = []\n",
    "circuit_list.extend(circuit_list1)\n",
    "circuit_list.extend(circuit_list2)\n",
    "\n",
    "    \n",
    "q_reg = qk.QuantumRegister(n)\n",
    "c_reg = qk.ClassicalRegister(n)\n",
    "circuit = qk.QuantumCircuit(q_reg, c_reg)\n",
    "\n",
    "circuit = circuit.compose(circuit_target3)\n",
    "\n",
    "circuit.measure(q_reg, c_reg)\n",
    "circuit_list.append(circuit)\n",
    "\n",
    "\n",
    "for i in range(d):\n",
    "    circuit_list.extend(generate_bitstring_circuits(n))\n",
    "    \n",
    "    \n",
    "job = qk.execute(circuit_list, backend, shots = 20000, optimization_level = 0)\n",
    "result = job.result()\n",
    "\n",
    "\n",
    "counts_list = [result.get_counts(circuit) for circuit in circuit_list]\n",
    "\n",
    "data = [input_list, counts_list]\n",
    "\n",
    "pickle.dump(data, open(\"../../data/threeQubits_twoBlocks.p\", \"wb\"))"
   ]
  },
  {
   "cell_type": "code",
   "execution_count": null,
   "metadata": {},
   "outputs": [],
   "source": []
  }
 ],
 "metadata": {
  "kernelspec": {
   "display_name": "qiskit",
   "language": "python",
   "name": "qiskit"
  },
  "language_info": {
   "codemirror_mode": {
    "name": "ipython",
    "version": 3
   },
   "file_extension": ".py",
   "mimetype": "text/x-python",
   "name": "python",
   "nbconvert_exporter": "python",
   "pygments_lexer": "ipython3",
   "version": "3.8.5"
  }
 },
 "nbformat": 4,
 "nbformat_minor": 4
}
