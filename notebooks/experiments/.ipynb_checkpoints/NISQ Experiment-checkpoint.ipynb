{
 "cells": [
  {
   "cell_type": "markdown",
   "metadata": {},
   "source": [
    "# NISQ Experiment"
   ]
  },
  {
   "cell_type": "code",
   "execution_count": 2,
   "metadata": {},
   "outputs": [],
   "source": [
    "import sys\n",
    "sys.path.insert(0, '../../src_tf/')\n",
    "\n",
    "import numpy as np\n",
    "import qiskit as qk\n",
    "import matplotlib.pyplot as plt\n",
    "import multiprocessing as mp\n",
    "import random\n",
    "import pickle\n",
    "\n",
    "from qiskit.quantum_info import DensityMatrix\n",
    "from qiskit.quantum_info import Operator\n",
    "from qiskit import Aer\n",
    "from scipy.linalg import sqrtm\n",
    "from tqdm.notebook import tqdm\n",
    "from qiskit.providers.aer import AerSimulator\n",
    "from copy import deepcopy\n",
    "\n",
    "from loss_functions import *\n",
    "from optimization import *\n",
    "from quantum_maps import *\n",
    "from quantum_tools import *\n",
    "from utils import *\n",
    "from experiments import *\n",
    "from qiskit.providers.fake_provider import FakeCasablanca\n",
    "#np.set_printoptions(threshold=sys.maxsize)"
   ]
  },
  {
   "cell_type": "code",
   "execution_count": 3,
   "metadata": {},
   "outputs": [],
   "source": [
    "from qiskit import QuantumRegister, ClassicalRegister, QuantumCircuit\n",
    "from qiskit.tools.visualization import circuit_drawer\n",
    "from qiskit.quantum_info import random_unitary, Operator"
   ]
  },
  {
   "cell_type": "code",
   "execution_count": 4,
   "metadata": {},
   "outputs": [],
   "source": [
    "#qk.IBMQ.save_account(\"a9ec3c697bede976217e9ff6c5c0f19a2511ea34a225bbe10f0c74bda39de845d16fa3f7c30b47c5714e2b695aded3cfd474e7c1b33056014fab89301b83d724\", overwrite=True) \n",
    "provider = qk.IBMQ.load_account()\n",
    "provider = qk.IBMQ.get_provider(hub='ibm-q', group='open', project='main')\n",
    "backend = provider.get_backend(\"ibmq_manila\")\n",
    "\n",
    "#backend = AerSimulator()"
   ]
  },
  {
   "cell_type": "code",
   "execution_count": 5,
   "metadata": {},
   "outputs": [],
   "source": [
    "def execute_and_collect(circuit_list, backend, file_name, shots=20000):\n",
    "    N = len(circuit_list)\n",
    "    num_batches = N//500\n",
    "    circuit_batch_list = [circuit_list[500*i: 500*(i+1)] for i in range(num_batches)]\n",
    "    counts_list = []\n",
    "    for i, circuit_batch in enumerate(tqdm(circuit_batch_list)):\n",
    "        circuit_parcel_list = [circuit_batch[100*j: 100*(j+1)] for j in range(5)]\n",
    "        job_list = []\n",
    "        \n",
    "        for circuit_parcel in circuit_parcel_list:\n",
    "            job = qk.execute(circuit_parcel, backend, shots = shots, optimization_level = 0, seed_transpiler=42)\n",
    "            job_list.append(job)\n",
    "        \n",
    "        result_list = []\n",
    "        for job in tqdm(job_list):\n",
    "            result_list.append(job.result())\n",
    "            \n",
    "        for result, circuit_parcel in zip(result_list, circuit_parcel_list):\n",
    "            counts_list.extend([result.get_counts(circuit) for circuit in circuit_parcel])\n",
    "        \n",
    "        pickle.dump(counts_list, open(f\"../../data/{file_name}_{i}.p\", \"wb\"))   \n",
    "        \n",
    "    return counts_list  "
   ]
  },
  {
   "cell_type": "markdown",
   "metadata": {},
   "source": [
    "## Pauli String Expectation Values"
   ]
  },
  {
   "cell_type": "markdown",
   "metadata": {},
   "source": [
    "## Four Qubit QFT"
   ]
  },
  {
   "cell_type": "code",
   "execution_count": 42,
   "metadata": {},
   "outputs": [],
   "source": [
    "def qft(n):\n",
    "    circuit = qk.QuantumCircuit(n)\n",
    "    for i in range(n):\n",
    "        circuit.h(i)\n",
    "        for j in range(i+1, n):\n",
    "            circuit.cp(2*np.pi/2**(j-i+1), j, i)\n",
    "            \n",
    "    return circuit"
   ]
  },
  {
   "cell_type": "code",
   "execution_count": 40,
   "metadata": {},
   "outputs": [],
   "source": [
    "n = 4\n",
    "d = 2**n\n",
    "\n",
    "np.random.seed(42)\n",
    "random.seed(42)\n",
    "\n",
    "circuit_target = qft(n).reverse_bits()\n",
    "\n",
    "N = 5000-6**n\n",
    "input_map_list, circuit_list = generate_pauli_circuits(n, circuit_target, N)\n",
    "\n",
    "inputs_spam, circuit_spam = generate_pauliInput_circuits(n)\n",
    "\n",
    "circuit_list.extend(circuit_spam)"
   ]
  },
  {
   "cell_type": "code",
   "execution_count": 41,
   "metadata": {},
   "outputs": [
    {
     "data": {
      "application/vnd.jupyter.widget-view+json": {
       "model_id": "916bba3d160e410eb6a67118d085b101",
       "version_major": 2,
       "version_minor": 0
      },
      "text/plain": [
       "  0%|          | 0/10 [00:00<?, ?it/s]"
      ]
     },
     "metadata": {},
     "output_type": "display_data"
    },
    {
     "data": {
      "application/vnd.jupyter.widget-view+json": {
       "model_id": "3500ecd98bdb4b32a72f3b950c346474",
       "version_major": 2,
       "version_minor": 0
      },
      "text/plain": [
       "  0%|          | 0/5 [00:00<?, ?it/s]"
      ]
     },
     "metadata": {},
     "output_type": "display_data"
    },
    {
     "data": {
      "application/vnd.jupyter.widget-view+json": {
       "model_id": "13694fb8367d48c487b13375275487e1",
       "version_major": 2,
       "version_minor": 0
      },
      "text/plain": [
       "  0%|          | 0/5 [00:00<?, ?it/s]"
      ]
     },
     "metadata": {},
     "output_type": "display_data"
    },
    {
     "data": {
      "application/vnd.jupyter.widget-view+json": {
       "model_id": "d12652ba167b4022aaa83a3699980842",
       "version_major": 2,
       "version_minor": 0
      },
      "text/plain": [
       "  0%|          | 0/5 [00:00<?, ?it/s]"
      ]
     },
     "metadata": {},
     "output_type": "display_data"
    },
    {
     "data": {
      "application/vnd.jupyter.widget-view+json": {
       "model_id": "f58b70500a9a47a6aeefc1edb8aaa76f",
       "version_major": 2,
       "version_minor": 0
      },
      "text/plain": [
       "  0%|          | 0/5 [00:00<?, ?it/s]"
      ]
     },
     "metadata": {},
     "output_type": "display_data"
    },
    {
     "data": {
      "application/vnd.jupyter.widget-view+json": {
       "model_id": "fa3392e956df453d85064079faffd52a",
       "version_major": 2,
       "version_minor": 0
      },
      "text/plain": [
       "  0%|          | 0/5 [00:00<?, ?it/s]"
      ]
     },
     "metadata": {},
     "output_type": "display_data"
    },
    {
     "data": {
      "application/vnd.jupyter.widget-view+json": {
       "model_id": "d75c33488f3347d1b440a1e4401aec98",
       "version_major": 2,
       "version_minor": 0
      },
      "text/plain": [
       "  0%|          | 0/5 [00:00<?, ?it/s]"
      ]
     },
     "metadata": {},
     "output_type": "display_data"
    },
    {
     "data": {
      "application/vnd.jupyter.widget-view+json": {
       "model_id": "552060a4ee9545e5801bbd35d6be13af",
       "version_major": 2,
       "version_minor": 0
      },
      "text/plain": [
       "  0%|          | 0/5 [00:00<?, ?it/s]"
      ]
     },
     "metadata": {},
     "output_type": "display_data"
    },
    {
     "data": {
      "application/vnd.jupyter.widget-view+json": {
       "model_id": "efaea68a6d1d4a049c74384a823545e2",
       "version_major": 2,
       "version_minor": 0
      },
      "text/plain": [
       "  0%|          | 0/5 [00:00<?, ?it/s]"
      ]
     },
     "metadata": {},
     "output_type": "display_data"
    },
    {
     "data": {
      "application/vnd.jupyter.widget-view+json": {
       "model_id": "25373064e0fb43a594b280c27bb93dda",
       "version_major": 2,
       "version_minor": 0
      },
      "text/plain": [
       "  0%|          | 0/5 [00:00<?, ?it/s]"
      ]
     },
     "metadata": {},
     "output_type": "display_data"
    },
    {
     "data": {
      "application/vnd.jupyter.widget-view+json": {
       "model_id": "2059298993b54433a7a79fd9fbc10ec5",
       "version_major": 2,
       "version_minor": 0
      },
      "text/plain": [
       "  0%|          | 0/5 [00:00<?, ?it/s]"
      ]
     },
     "metadata": {},
     "output_type": "display_data"
    }
   ],
   "source": [
    "counts_list = execute_and_collect(circuit_list, backend, 'fourQubits_QFT')\n",
    "data = [input_map_list, inputs_spam, counts_list]\n",
    "pickle.dump(data, open(\"../../data/fourQubits_QFT.p\", \"wb\"))"
   ]
  },
  {
   "cell_type": "markdown",
   "metadata": {},
   "source": [
    "### More data"
   ]
  },
  {
   "cell_type": "code",
   "execution_count": 43,
   "metadata": {},
   "outputs": [],
   "source": [
    "n = 4\n",
    "d = 2**n\n",
    "\n",
    "np.random.seed(42)\n",
    "random.seed(42)\n",
    "\n",
    "circuit_target = qft(n).reverse_bits()\n",
    "\n",
    "N = 5000-6**n + 2000\n",
    "input_map_list, circuit_list = generate_pauli_circuits(n, circuit_target, N)\n",
    "\n",
    "input_map_list = [input_map_list[0][-2000:], input_map_list[1][-2000:]]\n",
    "circuit_list = circuit_list[-2000:]"
   ]
  },
  {
   "cell_type": "code",
   "execution_count": 45,
   "metadata": {},
   "outputs": [
    {
     "data": {
      "application/vnd.jupyter.widget-view+json": {
       "model_id": "9086877129b7436798a7e37c7a8f6d7f",
       "version_major": 2,
       "version_minor": 0
      },
      "text/plain": [
       "  0%|          | 0/4 [00:00<?, ?it/s]"
      ]
     },
     "metadata": {},
     "output_type": "display_data"
    },
    {
     "data": {
      "application/vnd.jupyter.widget-view+json": {
       "model_id": "839babef04c1443482d9fdf9e56b6b8e",
       "version_major": 2,
       "version_minor": 0
      },
      "text/plain": [
       "  0%|          | 0/5 [00:00<?, ?it/s]"
      ]
     },
     "metadata": {},
     "output_type": "display_data"
    },
    {
     "data": {
      "application/vnd.jupyter.widget-view+json": {
       "model_id": "a0298cb46179487cb47cbbf88f024294",
       "version_major": 2,
       "version_minor": 0
      },
      "text/plain": [
       "  0%|          | 0/5 [00:00<?, ?it/s]"
      ]
     },
     "metadata": {},
     "output_type": "display_data"
    },
    {
     "data": {
      "application/vnd.jupyter.widget-view+json": {
       "model_id": "917164c8677a42cdae55c416db4f5394",
       "version_major": 2,
       "version_minor": 0
      },
      "text/plain": [
       "  0%|          | 0/5 [00:00<?, ?it/s]"
      ]
     },
     "metadata": {},
     "output_type": "display_data"
    },
    {
     "data": {
      "application/vnd.jupyter.widget-view+json": {
       "model_id": "5ca3254cb7c44307ad96af133c2529c4",
       "version_major": 2,
       "version_minor": 0
      },
      "text/plain": [
       "  0%|          | 0/5 [00:00<?, ?it/s]"
      ]
     },
     "metadata": {},
     "output_type": "display_data"
    }
   ],
   "source": [
    "counts_list = execute_and_collect(circuit_list, backend, 'fourQubits_QFT_more')\n",
    "data = [input_map_list, counts_list]\n",
    "pickle.dump(data, open(\"../../data/fourQubits_QFT_more.p\", \"wb\"))"
   ]
  },
  {
   "cell_type": "markdown",
   "metadata": {},
   "source": [
    "## Mock Data\n",
    "\n",
    "### Two Qubits"
   ]
  },
  {
   "cell_type": "code",
   "execution_count": null,
   "metadata": {},
   "outputs": [],
   "source": [
    "n = 2\n",
    "d = 2**n\n",
    "\n",
    "np.random.seed(42)\n",
    "random.seed(42)\n",
    "\n",
    "circuit_target = variational_circuit(n).reverse_bits()\n",
    "print(circuit_target)\n",
    "\n",
    "N = 324\n",
    "input_list, circuit_list = generate_pauli_circuits(n, circuit_target, N)\n",
    "\n",
    "for i in range(1, 21):\n",
    "    q_reg = qk.QuantumRegister(n)\n",
    "    c_reg = qk.ClassicalRegister(n)\n",
    "    circuit = qk.QuantumCircuit(q_reg, c_reg)\n",
    "    for j in range(i):\n",
    "        circuit = circuit.compose(circuit_target)\n",
    "        \n",
    "    circuit.measure(q_reg, c_reg)\n",
    "    circuit_list.append(circuit)\n",
    "    \n",
    "for i in range(d):\n",
    "    circuit_list.extend(generate_bitstring_circuits(n)) "
   ]
  },
  {
   "cell_type": "code",
   "execution_count": null,
   "metadata": {},
   "outputs": [],
   "source": [
    "backend = FakeCasablanca()\n",
    "\n",
    "job1 = qk.execute(circuit_list[:100], backend, shots = 20000, optimization_level = 0, seed_transpiler=42)\n",
    "job2 = qk.execute(circuit_list[100:200], backend, shots = 20000, optimization_level = 0, seed_transpiler=42)\n",
    "job3 = qk.execute(circuit_list[200:300], backend, shots = 20000, optimization_level = 0, seed_transpiler=42)\n",
    "job4 = qk.execute(circuit_list[300:400], backend, shots = 20000, optimization_level = 0, seed_transpiler=42)\n",
    "\n",
    "result1 = job1.result()\n",
    "result2 = job2.result()\n",
    "result3 = job3.result()\n",
    "result4 = job4.result()\n",
    "counts_list = [result1.get_counts(circuit) for circuit in circuit_list[:100]]\n",
    "counts_list.extend([result2.get_counts(circuit) for circuit in circuit_list[100:200]])\n",
    "counts_list.extend([result3.get_counts(circuit) for circuit in circuit_list[200:300]])\n",
    "counts_list.extend([result4.get_counts(circuit) for circuit in circuit_list[300:400]])\n",
    "\n",
    "data = [input_list, counts_list[:N], counts_list[N:N+20], counts_list[N+20:N+20+d**2]]\n",
    "\n",
    "pickle.dump(data, open(\"../../data/twoQubits_pauliStrings_corrMat_mock.p\", \"wb\"))"
   ]
  },
  {
   "cell_type": "markdown",
   "metadata": {},
   "source": [
    "### Three Qubits"
   ]
  },
  {
   "cell_type": "code",
   "execution_count": null,
   "metadata": {},
   "outputs": [],
   "source": [
    "n = 3\n",
    "d = 2**n\n",
    "\n",
    "np.random.seed(42)\n",
    "random.seed(42)\n",
    "\n",
    "circuit_target = variational_circuit(n).reverse_bits()\n",
    "print(circuit_target)\n",
    "\n",
    "N = 1000-20-d**2\n",
    "input_map_list, circuit_list = generate_pauli_circuits(n, circuit_target, N)\n",
    "\n",
    "\n",
    "for i in range(1, 21):\n",
    "    q_reg = qk.QuantumRegister(n)\n",
    "    c_reg = qk.ClassicalRegister(n)\n",
    "    circuit = qk.QuantumCircuit(q_reg, c_reg)\n",
    "    for j in range(i):\n",
    "        circuit = circuit.compose(circuit_target)\n",
    "        \n",
    "    circuit.measure(q_reg, c_reg)\n",
    "    circuit_list.append(circuit)\n",
    "    \n",
    "for i in range(d):\n",
    "    circuit_list.extend(generate_bitstring_circuits(n)) "
   ]
  },
  {
   "cell_type": "code",
   "execution_count": null,
   "metadata": {},
   "outputs": [],
   "source": [
    "job1 = qk.execute(circuit_list[:100], backend, shots = 20000, optimization_level = 0, seed_transpiler=42)\n",
    "job2 = qk.execute(circuit_list[100:200], backend, shots = 20000, optimization_level = 0, seed_transpiler=42)\n",
    "job3 = qk.execute(circuit_list[200:300], backend, shots = 20000, optimization_level = 0, seed_transpiler=42)\n",
    "job4 = qk.execute(circuit_list[300:400], backend, shots = 20000, optimization_level = 0, seed_transpiler=42)\n",
    "job5 = qk.execute(circuit_list[400:500], backend, shots = 20000, optimization_level = 0, seed_transpiler=42)\n",
    "\n",
    "result1 = job1.result()\n",
    "result2 = job2.result()\n",
    "result3 = job3.result()\n",
    "result4 = job4.result()\n",
    "result5 = job5.result()\n",
    "\n",
    "counts_list = [result1.get_counts(circuit) for circuit in circuit_list[:100]]\n",
    "counts_list.extend([result2.get_counts(circuit) for circuit in circuit_list[100:200]])\n",
    "counts_list.extend([result3.get_counts(circuit) for circuit in circuit_list[200:300]])\n",
    "counts_list.extend([result4.get_counts(circuit) for circuit in circuit_list[300:400]])\n",
    "counts_list.extend([result5.get_counts(circuit) for circuit in circuit_list[400:500]])"
   ]
  },
  {
   "cell_type": "code",
   "execution_count": null,
   "metadata": {},
   "outputs": [],
   "source": [
    "job6 = qk.execute(circuit_list[500:600], backend, shots = 20000, optimization_level = 0, seed_transpiler=42)\n",
    "job7 = qk.execute(circuit_list[600:700], backend, shots = 20000, optimization_level = 0, seed_transpiler=42)\n",
    "job8 = qk.execute(circuit_list[700:800], backend, shots = 20000, optimization_level = 0, seed_transpiler=42)\n",
    "job9 = qk.execute(circuit_list[800:900], backend, shots = 20000, optimization_level = 0, seed_transpiler=42)\n",
    "job10 = qk.execute(circuit_list[900:1000], backend, shots = 20000, optimization_level = 0, seed_transpiler=42)\n",
    "\n",
    "result6 = job6.result()\n",
    "result7 = job7.result()\n",
    "result8 = job8.result()\n",
    "result9 = job9.result()\n",
    "result10 = job10.result()\n",
    "\n",
    "counts_list.extend([result6.get_counts(circuit) for circuit in circuit_list[500:600]])\n",
    "counts_list.extend([result7.get_counts(circuit) for circuit in circuit_list[600:700]])\n",
    "counts_list.extend([result8.get_counts(circuit) for circuit in circuit_list[700:800]])\n",
    "counts_list.extend([result9.get_counts(circuit) for circuit in circuit_list[800:900]])\n",
    "counts_list.extend([result10.get_counts(circuit) for circuit in circuit_list[900:1000]])\n",
    "\n",
    "data = [input_map_list, counts_list[:N], counts_list[N:N+20], counts_list[N+20:N+20+d**2]]\n",
    "\n",
    "pickle.dump(data, open(\"../../data/threeQubits_pauliStrings_corrMat_mock.p\", \"wb\"))"
   ]
  },
  {
   "cell_type": "markdown",
   "metadata": {},
   "source": [
    "## Variational Circuit"
   ]
  },
  {
   "cell_type": "markdown",
   "metadata": {},
   "source": [
    "## One Layer"
   ]
  },
  {
   "cell_type": "code",
   "execution_count": 35,
   "metadata": {},
   "outputs": [],
   "source": [
    "n = 3\n",
    "d = 2**n\n",
    "\n",
    "np.random.seed(42)\n",
    "random.seed(42)\n",
    "\n",
    "circuit_target = variational_circuit(n, 1).reverse_bits()\n",
    "\n",
    "N = 1000-6**n\n",
    "input_map_list, circuit_list = generate_pauli_circuits(n, circuit_target, N)\n",
    "\n",
    "inputs_spam, circuit_spam = generate_pauliInput_circuits(n)\n",
    "\n",
    "circuit_list.extend(circuit_spam)"
   ]
  },
  {
   "cell_type": "code",
   "execution_count": 36,
   "metadata": {},
   "outputs": [
    {
     "name": "stdout",
     "output_type": "stream",
     "text": [
      "      ┌────────────┐ ┌─────────────┐     ┌───┐\n",
      "q_0: ─┤ Ry(1.4577) ├─┤ Rz(-2.1615) ├─────┤ X ├\n",
      "      ├────────────┤ ├─────────────┤┌───┐└─┬─┘\n",
      "q_1: ─┤ Ry(2.8319) ├─┤ Rz(-2.1613) ├┤ X ├──■──\n",
      "     ┌┴────────────┴┐├─────────────┤└─┬─┘     \n",
      "q_2: ┤ Ry(-0.78829) ├┤ Rz(0.61989) ├──■───────\n",
      "     └──────────────┘└─────────────┘          \n"
     ]
    }
   ],
   "source": [
    "print(circuit_target)"
   ]
  },
  {
   "cell_type": "code",
   "execution_count": 33,
   "metadata": {},
   "outputs": [
    {
     "data": {
      "application/vnd.jupyter.widget-view+json": {
       "model_id": "1aa96959496c4daa9f28a64035fc57df",
       "version_major": 2,
       "version_minor": 0
      },
      "text/plain": [
       "  0%|          | 0/2 [00:00<?, ?it/s]"
      ]
     },
     "metadata": {},
     "output_type": "display_data"
    },
    {
     "data": {
      "application/vnd.jupyter.widget-view+json": {
       "model_id": "c9028a8c4bd94fc9a382880fb9bed95c",
       "version_major": 2,
       "version_minor": 0
      },
      "text/plain": [
       "  0%|          | 0/5 [00:00<?, ?it/s]"
      ]
     },
     "metadata": {},
     "output_type": "display_data"
    },
    {
     "data": {
      "application/vnd.jupyter.widget-view+json": {
       "model_id": "dc4263395ad14c31a4b2127307745a96",
       "version_major": 2,
       "version_minor": 0
      },
      "text/plain": [
       "  0%|          | 0/5 [00:00<?, ?it/s]"
      ]
     },
     "metadata": {},
     "output_type": "display_data"
    }
   ],
   "source": [
    "counts_list = execute_and_collect(circuit_list, backend, 'threeQubits_variational')\n",
    "data = [input_map_list, inputs_spam, counts_list]\n",
    "pickle.dump(data, open(\"../../data/threeQubits_variational.p\", \"wb\"))"
   ]
  },
  {
   "cell_type": "markdown",
   "metadata": {},
   "source": [
    "## Two Layers"
   ]
  },
  {
   "cell_type": "code",
   "execution_count": 38,
   "metadata": {},
   "outputs": [],
   "source": [
    "n = 3\n",
    "d = 2**n\n",
    "\n",
    "np.random.seed(42)\n",
    "random.seed(42)\n",
    "\n",
    "circuit_target = variational_circuit(n, 2).reverse_bits()\n",
    "\n",
    "N = 1000-6**n\n",
    "input_map_list, circuit_list = generate_pauli_circuits(n, circuit_target, N)\n",
    "\n",
    "inputs_spam, circuit_spam = generate_pauliInput_circuits(n)\n",
    "\n",
    "circuit_list.extend(circuit_spam)"
   ]
  },
  {
   "cell_type": "code",
   "execution_count": 39,
   "metadata": {},
   "outputs": [
    {
     "name": "stdout",
     "output_type": "stream",
     "text": [
      "      ┌────────────┐ ┌─────────────┐          ┌───┐     ┌─────────────┐»\n",
      "q_0: ─┤ Ry(1.4577) ├─┤ Rz(-2.1615) ├──────────┤ X ├─────┤ Ry(0.63532) ├»\n",
      "      ├────────────┤ ├─────────────┤┌───┐     └─┬─┘     └┬────────────┤»\n",
      "q_1: ─┤ Ry(2.8319) ├─┤ Rz(-2.1613) ├┤ X ├───────■────────┤ Ry(2.3008) ├»\n",
      "     ┌┴────────────┴┐├─────────────┤└─┬─┘┌─────────────┐ ├────────────┤»\n",
      "q_2: ┤ Ry(-0.78829) ├┤ Rz(0.61989) ├──■──┤ Ry(-2.7766) ├─┤ Rz(1.3074) ├»\n",
      "     └──────────────┘└─────────────┘     └─────────────┘ └────────────┘»\n",
      "«      ┌────────────┐     ┌───┐\n",
      "«q_0: ─┤ Rz(2.9525) ├─────┤ X ├\n",
      "«     ┌┴────────────┤┌───┐└─┬─┘\n",
      "«q_1: ┤ Rz(-3.0123) ├┤ X ├──■──\n",
      "«     └─────────────┘└─┬─┘     \n",
      "«q_2: ─────────────────■───────\n",
      "«                              \n"
     ]
    }
   ],
   "source": [
    "print(circuit_target)"
   ]
  },
  {
   "cell_type": "code",
   "execution_count": 40,
   "metadata": {},
   "outputs": [
    {
     "data": {
      "application/vnd.jupyter.widget-view+json": {
       "model_id": "6b46de2197a74b31b002bdedfb2bd26a",
       "version_major": 2,
       "version_minor": 0
      },
      "text/plain": [
       "  0%|          | 0/2 [00:00<?, ?it/s]"
      ]
     },
     "metadata": {},
     "output_type": "display_data"
    },
    {
     "data": {
      "application/vnd.jupyter.widget-view+json": {
       "model_id": "52261d29a519481e87adf39f3dfbebe3",
       "version_major": 2,
       "version_minor": 0
      },
      "text/plain": [
       "  0%|          | 0/5 [00:00<?, ?it/s]"
      ]
     },
     "metadata": {},
     "output_type": "display_data"
    },
    {
     "data": {
      "application/vnd.jupyter.widget-view+json": {
       "model_id": "98bb9ab6ae8f4c4ca95fc09d23a8ff7f",
       "version_major": 2,
       "version_minor": 0
      },
      "text/plain": [
       "  0%|          | 0/5 [00:00<?, ?it/s]"
      ]
     },
     "metadata": {},
     "output_type": "display_data"
    }
   ],
   "source": [
    "counts_list = execute_and_collect(circuit_list, backend, 'threeQubits_variational_2')\n",
    "data = [input_map_list, inputs_spam, counts_list]\n",
    "pickle.dump(data, open(\"../../data/threeQubits_variational_2.p\", \"wb\"))"
   ]
  },
  {
   "cell_type": "markdown",
   "metadata": {},
   "source": [
    "## Three Layers"
   ]
  },
  {
   "cell_type": "code",
   "execution_count": null,
   "metadata": {},
   "outputs": [],
   "source": [
    "n = 3\n",
    "d = 2**n\n",
    "\n",
    "np.random.seed(42)\n",
    "random.seed(42)\n",
    "\n",
    "circuit_target = variational_circuit(n, 3).reverse_bits()\n",
    "\n",
    "N = 1000-6**n\n",
    "input_map_list, circuit_list = generate_pauli_circuits(n, circuit_target, N)\n",
    "\n",
    "inputs_spam, circuit_spam = generate_pauliInput_circuits(n)\n",
    "\n",
    "circuit_list.extend(circuit_spam)\n",
    "print(circuit_target)"
   ]
  },
  {
   "cell_type": "code",
   "execution_count": null,
   "metadata": {},
   "outputs": [],
   "source": [
    "counts_list = execute_and_collect(circuit_list, backend, 'threeQubits_variational_3')\n",
    "data = [input_map_list, inputs_spam, counts_list]\n",
    "pickle.dump(data, open(\"../../data/threeQubits_variational_3.p\", \"wb\"))"
   ]
  },
  {
   "cell_type": "markdown",
   "metadata": {},
   "source": [
    "## Four Layers"
   ]
  },
  {
   "cell_type": "code",
   "execution_count": 43,
   "metadata": {},
   "outputs": [
    {
     "name": "stdout",
     "output_type": "stream",
     "text": [
      "      ┌────────────┐ ┌─────────────┐          ┌───┐     ┌─────────────┐»\n",
      "q_0: ─┤ Ry(1.4577) ├─┤ Rz(-2.1615) ├──────────┤ X ├─────┤ Ry(0.63532) ├»\n",
      "      ├────────────┤ ├─────────────┤┌───┐     └─┬─┘     └┬────────────┤»\n",
      "q_1: ─┤ Ry(2.8319) ├─┤ Rz(-2.1613) ├┤ X ├───────■────────┤ Ry(2.3008) ├»\n",
      "     ┌┴────────────┴┐├─────────────┤└─┬─┘┌─────────────┐ ├────────────┤»\n",
      "q_2: ┤ Ry(-0.78829) ├┤ Rz(0.61989) ├──■──┤ Ry(-2.7766) ├─┤ Rz(1.3074) ├»\n",
      "     └──────────────┘└─────────────┘     └─────────────┘ └────────────┘»\n",
      "«      ┌────────────┐         ┌───┐     ┌─────────────┐┌─────────────┐     »\n",
      "«q_0: ─┤ Rz(2.9525) ├─────────┤ X ├─────┤ Ry(-1.9992) ├┤ Rz(0.15555) ├─────»\n",
      "«     ┌┴────────────┤┌───┐    └─┬─┘     ├─────────────┤└┬───────────┬┘┌───┐»\n",
      "«q_1: ┤ Rz(-3.0123) ├┤ X ├──────■───────┤ Ry(-1.8074) ├─┤ Rz(-1.23) ├─┤ X ├»\n",
      "«     └─────────────┘└─┬─┘┌────────────┐├─────────────┤ └───────────┘ └─┬─┘»\n",
      "«q_2: ─────────────────■──┤ Ry(2.0888) ├┤ Rz(-1.9892) ├─────────────────■──»\n",
      "«                         └────────────┘└─────────────┘                    »\n",
      "«          ┌───┐     ┌─────────────┐┌──────────────┐     ┌───┐\n",
      "«q_0: ─────┤ X ├─────┤ Ry(0.70279) ├┤ Rz(-0.83967) ├─────┤ X ├\n",
      "«          └─┬─┘     ├─────────────┤└┬────────────┬┘┌───┐└─┬─┘\n",
      "«q_1: ───────■───────┤ Ry(-1.3117) ├─┤ Rz(-1.306) ├─┤ X ├──■──\n",
      "«     ┌─────────────┐├─────────────┤ └────────────┘ └─┬─┘     \n",
      "«q_2: ┤ Ry(-0.4276) ├┤ Rz(-2.2651) ├──────────────────■───────\n",
      "«     └─────────────┘└─────────────┘                          \n"
     ]
    }
   ],
   "source": [
    "n = 3\n",
    "d = 2**n\n",
    "\n",
    "np.random.seed(42)\n",
    "random.seed(42)\n",
    "\n",
    "circuit_target = variational_circuit(n, 4).reverse_bits()\n",
    "\n",
    "N = 1000-6**n\n",
    "input_map_list, circuit_list = generate_pauli_circuits(n, circuit_target, N)\n",
    "\n",
    "inputs_spam, circuit_spam = generate_pauliInput_circuits(n)\n",
    "\n",
    "circuit_list.extend(circuit_spam)\n",
    "print(circuit_target)"
   ]
  },
  {
   "cell_type": "code",
   "execution_count": 44,
   "metadata": {},
   "outputs": [
    {
     "data": {
      "application/vnd.jupyter.widget-view+json": {
       "model_id": "1af72ee425354369b553b46bbd5131f3",
       "version_major": 2,
       "version_minor": 0
      },
      "text/plain": [
       "  0%|          | 0/2 [00:00<?, ?it/s]"
      ]
     },
     "metadata": {},
     "output_type": "display_data"
    },
    {
     "data": {
      "application/vnd.jupyter.widget-view+json": {
       "model_id": "3a1858c2846a4ddbaf4453f41a6291d4",
       "version_major": 2,
       "version_minor": 0
      },
      "text/plain": [
       "  0%|          | 0/5 [00:00<?, ?it/s]"
      ]
     },
     "metadata": {},
     "output_type": "display_data"
    },
    {
     "data": {
      "application/vnd.jupyter.widget-view+json": {
       "model_id": "015caf38cb674dd1bac54e7af157bc4e",
       "version_major": 2,
       "version_minor": 0
      },
      "text/plain": [
       "  0%|          | 0/5 [00:00<?, ?it/s]"
      ]
     },
     "metadata": {},
     "output_type": "display_data"
    }
   ],
   "source": [
    "counts_list = execute_and_collect(circuit_list, backend, 'threeQubits_variational_4')\n",
    "data = [input_map_list, inputs_spam, counts_list]\n",
    "pickle.dump(data, open(\"../../data/threeQubits_variational_4.p\", \"wb\"))"
   ]
  },
  {
   "cell_type": "markdown",
   "metadata": {},
   "source": [
    "## Six Layers"
   ]
  },
  {
   "cell_type": "code",
   "execution_count": 6,
   "metadata": {},
   "outputs": [
    {
     "name": "stdout",
     "output_type": "stream",
     "text": [
      "      ┌────────────┐ ┌─────────────┐          ┌───┐     ┌─────────────┐»\n",
      "q_0: ─┤ Ry(1.4577) ├─┤ Rz(-2.1615) ├──────────┤ X ├─────┤ Ry(0.63532) ├»\n",
      "      ├────────────┤ ├─────────────┤┌───┐     └─┬─┘     └┬────────────┤»\n",
      "q_1: ─┤ Ry(2.8319) ├─┤ Rz(-2.1613) ├┤ X ├───────■────────┤ Ry(2.3008) ├»\n",
      "     ┌┴────────────┴┐├─────────────┤└─┬─┘┌─────────────┐ ├────────────┤»\n",
      "q_2: ┤ Ry(-0.78829) ├┤ Rz(0.61989) ├──■──┤ Ry(-2.7766) ├─┤ Rz(1.3074) ├»\n",
      "     └──────────────┘└─────────────┘     └─────────────┘ └────────────┘»\n",
      "«      ┌────────────┐         ┌───┐     ┌─────────────┐┌─────────────┐     »\n",
      "«q_0: ─┤ Rz(2.9525) ├─────────┤ X ├─────┤ Ry(-1.9992) ├┤ Rz(0.15555) ├─────»\n",
      "«     ┌┴────────────┤┌───┐    └─┬─┘     ├─────────────┤└┬───────────┬┘┌───┐»\n",
      "«q_1: ┤ Rz(-3.0123) ├┤ X ├──────■───────┤ Ry(-1.8074) ├─┤ Rz(-1.23) ├─┤ X ├»\n",
      "«     └─────────────┘└─┬─┘┌────────────┐├─────────────┤ └───────────┘ └─┬─┘»\n",
      "«q_2: ─────────────────■──┤ Ry(2.0888) ├┤ Rz(-1.9892) ├─────────────────■──»\n",
      "«                         └────────────┘└─────────────┘                    »\n",
      "«          ┌───┐     ┌─────────────┐┌──────────────┐          ┌───┐      »\n",
      "«q_0: ─────┤ X ├─────┤ Ry(0.70279) ├┤ Rz(-0.83967) ├──────────┤ X ├──────»\n",
      "«          └─┬─┘     ├─────────────┤└┬────────────┬┘┌───┐     └─┬─┘      »\n",
      "«q_1: ───────■───────┤ Ry(-1.3117) ├─┤ Rz(-1.306) ├─┤ X ├───────■────────»\n",
      "«     ┌─────────────┐├─────────────┤ └────────────┘ └─┬─┘┌──────────────┐»\n",
      "«q_2: ┤ Ry(-0.4276) ├┤ Rz(-2.2651) ├──────────────────■──┤ Ry(-0.27602) ├»\n",
      "«     └─────────────┘└─────────────┘                     └──────────────┘»\n",
      "«      ┌────────────┐ ┌─────────────┐          ┌───┐     ┌─────────────┐»\n",
      "«q_0: ─┤ Ry(-1.887) ├─┤ Rz(-2.8497) ├──────────┤ X ├─────┤ Ry(-2.7329) ├»\n",
      "«      ├────────────┤ ├─────────────┤┌───┐     └─┬─┘     ├─────────────┤»\n",
      "«q_1: ─┤ Ry(1.7918) ├─┤ Rz(0.58066) ├┤ X ├───────■───────┤ Ry(-2.0702) ├»\n",
      "«     ┌┴────────────┴┐└─────────────┘└─┬─┘┌─────────────┐└┬────────────┤»\n",
      "«q_2: ┤ Rz(0.089438) ├─────────────────■──┤ Ry(0.67572) ├─┤ Rz(2.8204) ├»\n",
      "«     └──────────────┘                    └─────────────┘ └────────────┘»\n",
      "«     ┌────────────┐     ┌───┐\n",
      "«q_0: ┤ Rz(1.9377) ├─────┤ X ├\n",
      "«     ├────────────┤┌───┐└─┬─┘\n",
      "«q_1: ┤ Rz(2.9257) ├┤ X ├──■──\n",
      "«     └────────────┘└─┬─┘     \n",
      "«q_2: ────────────────■───────\n",
      "«                             \n"
     ]
    }
   ],
   "source": [
    "n = 3\n",
    "d = 2**n\n",
    "\n",
    "np.random.seed(42)\n",
    "random.seed(42)\n",
    "\n",
    "circuit_target = variational_circuit(n, 6).reverse_bits()\n",
    "\n",
    "N = 1000-6**n\n",
    "input_map_list, circuit_list = generate_pauli_circuits(n, circuit_target, N)\n",
    "\n",
    "inputs_spam, circuit_spam = generate_pauliInput_circuits(n)\n",
    "\n",
    "circuit_list.extend(circuit_spam)\n",
    "print(circuit_target)"
   ]
  },
  {
   "cell_type": "code",
   "execution_count": 7,
   "metadata": {},
   "outputs": [
    {
     "data": {
      "application/vnd.jupyter.widget-view+json": {
       "model_id": "362555be4dc645fb9017a6e574d8864c",
       "version_major": 2,
       "version_minor": 0
      },
      "text/plain": [
       "  0%|          | 0/2 [00:00<?, ?it/s]"
      ]
     },
     "metadata": {},
     "output_type": "display_data"
    },
    {
     "data": {
      "application/vnd.jupyter.widget-view+json": {
       "model_id": "85ccf37efe8f4132b61f0ce9d7e5f9bc",
       "version_major": 2,
       "version_minor": 0
      },
      "text/plain": [
       "  0%|          | 0/5 [00:00<?, ?it/s]"
      ]
     },
     "metadata": {},
     "output_type": "display_data"
    },
    {
     "data": {
      "application/vnd.jupyter.widget-view+json": {
       "model_id": "5f0e6d16d02b4f738da1b09e0dff7059",
       "version_major": 2,
       "version_minor": 0
      },
      "text/plain": [
       "  0%|          | 0/5 [00:00<?, ?it/s]"
      ]
     },
     "metadata": {},
     "output_type": "display_data"
    }
   ],
   "source": [
    "counts_list = execute_and_collect(circuit_list, backend, 'threeQubits_variational_6')\n",
    "data = [input_map_list, inputs_spam, counts_list]\n",
    "pickle.dump(data, open(\"../../data/threeQubits_variational_6.p\", \"wb\"))"
   ]
  },
  {
   "cell_type": "markdown",
   "metadata": {},
   "source": [
    "## Nine Layers"
   ]
  },
  {
   "cell_type": "code",
   "execution_count": 8,
   "metadata": {},
   "outputs": [
    {
     "name": "stdout",
     "output_type": "stream",
     "text": [
      "      ┌────────────┐ ┌─────────────┐          ┌───┐     ┌─────────────┐»\n",
      "q_0: ─┤ Ry(1.4577) ├─┤ Rz(-2.1615) ├──────────┤ X ├─────┤ Ry(0.63532) ├»\n",
      "      ├────────────┤ ├─────────────┤┌───┐     └─┬─┘     └┬────────────┤»\n",
      "q_1: ─┤ Ry(2.8319) ├─┤ Rz(-2.1613) ├┤ X ├───────■────────┤ Ry(2.3008) ├»\n",
      "     ┌┴────────────┴┐├─────────────┤└─┬─┘┌─────────────┐ ├────────────┤»\n",
      "q_2: ┤ Ry(-0.78829) ├┤ Rz(0.61989) ├──■──┤ Ry(-2.7766) ├─┤ Rz(1.3074) ├»\n",
      "     └──────────────┘└─────────────┘     └─────────────┘ └────────────┘»\n",
      "«      ┌────────────┐         ┌───┐     ┌─────────────┐┌─────────────┐     »\n",
      "«q_0: ─┤ Rz(2.9525) ├─────────┤ X ├─────┤ Ry(-1.9992) ├┤ Rz(0.15555) ├─────»\n",
      "«     ┌┴────────────┤┌───┐    └─┬─┘     ├─────────────┤└┬───────────┬┘┌───┐»\n",
      "«q_1: ┤ Rz(-3.0123) ├┤ X ├──────■───────┤ Ry(-1.8074) ├─┤ Rz(-1.23) ├─┤ X ├»\n",
      "«     └─────────────┘└─┬─┘┌────────────┐├─────────────┤ └───────────┘ └─┬─┘»\n",
      "«q_2: ─────────────────■──┤ Ry(2.0888) ├┤ Rz(-1.9892) ├─────────────────■──»\n",
      "«                         └────────────┘└─────────────┘                    »\n",
      "«          ┌───┐     ┌─────────────┐┌──────────────┐          ┌───┐      »\n",
      "«q_0: ─────┤ X ├─────┤ Ry(0.70279) ├┤ Rz(-0.83967) ├──────────┤ X ├──────»\n",
      "«          └─┬─┘     ├─────────────┤└┬────────────┬┘┌───┐     └─┬─┘      »\n",
      "«q_1: ───────■───────┤ Ry(-1.3117) ├─┤ Rz(-1.306) ├─┤ X ├───────■────────»\n",
      "«     ┌─────────────┐├─────────────┤ └────────────┘ └─┬─┘┌──────────────┐»\n",
      "«q_2: ┤ Ry(-0.4276) ├┤ Rz(-2.2651) ├──────────────────■──┤ Ry(-0.27602) ├»\n",
      "«     └─────────────┘└─────────────┘                     └──────────────┘»\n",
      "«      ┌────────────┐ ┌─────────────┐          ┌───┐     ┌─────────────┐»\n",
      "«q_0: ─┤ Ry(-1.887) ├─┤ Rz(-2.8497) ├──────────┤ X ├─────┤ Ry(-2.7329) ├»\n",
      "«      ├────────────┤ ├─────────────┤┌───┐     └─┬─┘     ├─────────────┤»\n",
      "«q_1: ─┤ Ry(1.7918) ├─┤ Rz(0.58066) ├┤ X ├───────■───────┤ Ry(-2.0702) ├»\n",
      "«     ┌┴────────────┴┐└─────────────┘└─┬─┘┌─────────────┐└┬────────────┤»\n",
      "«q_2: ┤ Rz(0.089438) ├─────────────────■──┤ Ry(0.67572) ├─┤ Rz(2.8204) ├»\n",
      "«     └──────────────┘                    └─────────────┘ └────────────┘»\n",
      "«     ┌────────────┐          ┌───┐      ┌────────────┐ ┌───────────────┐     »\n",
      "«q_0: ┤ Rz(1.9377) ├──────────┤ X ├──────┤ Ry(1.1576) ├─┤ Rz(-0.030304) ├─────»\n",
      "«     ├────────────┤┌───┐     └─┬─┘     ┌┴────────────┤ └┬─────────────┬┘┌───┐»\n",
      "«q_1: ┤ Rz(2.9257) ├┤ X ├───────■───────┤ Ry(-2.5279) ├──┤ Rz(-2.3748) ├─┤ X ├»\n",
      "«     └────────────┘└─┬─┘┌─────────────┐├─────────────┴┐ └─────────────┘ └─┬─┘»\n",
      "«q_2: ────────────────■──┤ Ry(-1.2276) ├┤ Rz(-0.37603) ├───────────────────■──»\n",
      "«                        └─────────────┘└──────────────┘                      »\n",
      "«          ┌───┐     ┌─────────────┐┌─────────────┐          ┌───┐     »\n",
      "«q_0: ─────┤ X ├─────┤ Ry(-1.5156) ├┤ Rz(0.12609) ├──────────┤ X ├─────»\n",
      "«          └─┬─┘     └┬────────────┤├─────────────┤┌───┐     └─┬─┘     »\n",
      "«q_1: ───────■────────┤ Ry(2.5718) ├┤ Rz(-1.1831) ├┤ X ├───────■───────»\n",
      "«     ┌─────────────┐ ├────────────┤└─────────────┘└─┬─┘┌─────────────┐»\n",
      "«q_2: ┤ Ry(-2.9255) ├─┤ Rz(1.0212) ├─────────────────■──┤ Ry(0.29349) ├»\n",
      "«     └─────────────┘ └────────────┘                    └─────────────┘»\n",
      "«      ┌────────────┐┌────────────┐     ┌───┐\n",
      "«q_0: ─┤ Ry(2.9505) ├┤ Rz(2.4808) ├─────┤ X ├\n",
      "«     ┌┴────────────┤├────────────┤┌───┐└─┬─┘\n",
      "«q_1: ┤ Ry(-1.9801) ├┤ Rz(2.7615) ├┤ X ├──■──\n",
      "«     └┬────────────┤└────────────┘└─┬─┘     \n",
      "«q_2: ─┤ Rz(1.7287) ├────────────────■───────\n",
      "«      └────────────┘                        \n"
     ]
    }
   ],
   "source": [
    "n = 3\n",
    "d = 2**n\n",
    "\n",
    "np.random.seed(42)\n",
    "random.seed(42)\n",
    "\n",
    "circuit_target = variational_circuit(n, 9).reverse_bits()\n",
    "\n",
    "N = 1000-6**n\n",
    "input_map_list, circuit_list = generate_pauli_circuits(n, circuit_target, N)\n",
    "\n",
    "inputs_spam, circuit_spam = generate_pauliInput_circuits(n)\n",
    "\n",
    "circuit_list.extend(circuit_spam)\n",
    "print(circuit_target)"
   ]
  },
  {
   "cell_type": "code",
   "execution_count": 13,
   "metadata": {},
   "outputs": [
    {
     "data": {
      "application/vnd.jupyter.widget-view+json": {
       "model_id": "eddcd5c0418f4a7f957064b091117e8f",
       "version_major": 2,
       "version_minor": 0
      },
      "text/plain": [
       "  0%|          | 0/2 [00:00<?, ?it/s]"
      ]
     },
     "metadata": {},
     "output_type": "display_data"
    },
    {
     "data": {
      "application/vnd.jupyter.widget-view+json": {
       "model_id": "1165323be7194ab59012b6021d80ff57",
       "version_major": 2,
       "version_minor": 0
      },
      "text/plain": [
       "  0%|          | 0/5 [00:00<?, ?it/s]"
      ]
     },
     "metadata": {},
     "output_type": "display_data"
    },
    {
     "data": {
      "application/vnd.jupyter.widget-view+json": {
       "model_id": "f76a1e41a2a94b5488ec67ad964506d5",
       "version_major": 2,
       "version_minor": 0
      },
      "text/plain": [
       "  0%|          | 0/5 [00:00<?, ?it/s]"
      ]
     },
     "metadata": {},
     "output_type": "display_data"
    }
   ],
   "source": [
    "counts_list = execute_and_collect(circuit_list, backend, 'threeQubits_variational_12')\n",
    "data = [input_map_list, inputs_spam, counts_list]\n",
    "pickle.dump(data, open(\"../../data/threeQubits_variational_12.p\", \"wb\"))"
   ]
  },
  {
   "cell_type": "markdown",
   "metadata": {},
   "source": [
    "## Twelve Layers"
   ]
  },
  {
   "cell_type": "code",
   "execution_count": 14,
   "metadata": {},
   "outputs": [
    {
     "name": "stdout",
     "output_type": "stream",
     "text": [
      "      ┌────────────┐ ┌─────────────┐          ┌───┐     ┌─────────────┐»\n",
      "q_0: ─┤ Ry(1.4577) ├─┤ Rz(-2.1615) ├──────────┤ X ├─────┤ Ry(0.63532) ├»\n",
      "      ├────────────┤ ├─────────────┤┌───┐     └─┬─┘     └┬────────────┤»\n",
      "q_1: ─┤ Ry(2.8319) ├─┤ Rz(-2.1613) ├┤ X ├───────■────────┤ Ry(2.3008) ├»\n",
      "     ┌┴────────────┴┐├─────────────┤└─┬─┘┌─────────────┐ ├────────────┤»\n",
      "q_2: ┤ Ry(-0.78829) ├┤ Rz(0.61989) ├──■──┤ Ry(-2.7766) ├─┤ Rz(1.3074) ├»\n",
      "     └──────────────┘└─────────────┘     └─────────────┘ └────────────┘»\n",
      "«      ┌────────────┐         ┌───┐     ┌─────────────┐┌─────────────┐     »\n",
      "«q_0: ─┤ Rz(2.9525) ├─────────┤ X ├─────┤ Ry(-1.9992) ├┤ Rz(0.15555) ├─────»\n",
      "«     ┌┴────────────┤┌───┐    └─┬─┘     ├─────────────┤└┬───────────┬┘┌───┐»\n",
      "«q_1: ┤ Rz(-3.0123) ├┤ X ├──────■───────┤ Ry(-1.8074) ├─┤ Rz(-1.23) ├─┤ X ├»\n",
      "«     └─────────────┘└─┬─┘┌────────────┐├─────────────┤ └───────────┘ └─┬─┘»\n",
      "«q_2: ─────────────────■──┤ Ry(2.0888) ├┤ Rz(-1.9892) ├─────────────────■──»\n",
      "«                         └────────────┘└─────────────┘                    »\n",
      "«          ┌───┐     ┌─────────────┐┌──────────────┐          ┌───┐      »\n",
      "«q_0: ─────┤ X ├─────┤ Ry(0.70279) ├┤ Rz(-0.83967) ├──────────┤ X ├──────»\n",
      "«          └─┬─┘     ├─────────────┤└┬────────────┬┘┌───┐     └─┬─┘      »\n",
      "«q_1: ───────■───────┤ Ry(-1.3117) ├─┤ Rz(-1.306) ├─┤ X ├───────■────────»\n",
      "«     ┌─────────────┐├─────────────┤ └────────────┘ └─┬─┘┌──────────────┐»\n",
      "«q_2: ┤ Ry(-0.4276) ├┤ Rz(-2.2651) ├──────────────────■──┤ Ry(-0.27602) ├»\n",
      "«     └─────────────┘└─────────────┘                     └──────────────┘»\n",
      "«      ┌────────────┐ ┌─────────────┐          ┌───┐     ┌─────────────┐»\n",
      "«q_0: ─┤ Ry(-1.887) ├─┤ Rz(-2.8497) ├──────────┤ X ├─────┤ Ry(-2.7329) ├»\n",
      "«      ├────────────┤ ├─────────────┤┌───┐     └─┬─┘     ├─────────────┤»\n",
      "«q_1: ─┤ Ry(1.7918) ├─┤ Rz(0.58066) ├┤ X ├───────■───────┤ Ry(-2.0702) ├»\n",
      "«     ┌┴────────────┴┐└─────────────┘└─┬─┘┌─────────────┐└┬────────────┤»\n",
      "«q_2: ┤ Rz(0.089438) ├─────────────────■──┤ Ry(0.67572) ├─┤ Rz(2.8204) ├»\n",
      "«     └──────────────┘                    └─────────────┘ └────────────┘»\n",
      "«     ┌────────────┐          ┌───┐      ┌────────────┐ ┌───────────────┐     »\n",
      "«q_0: ┤ Rz(1.9377) ├──────────┤ X ├──────┤ Ry(1.1576) ├─┤ Rz(-0.030304) ├─────»\n",
      "«     ├────────────┤┌───┐     └─┬─┘     ┌┴────────────┤ └┬─────────────┬┘┌───┐»\n",
      "«q_1: ┤ Rz(2.9257) ├┤ X ├───────■───────┤ Ry(-2.5279) ├──┤ Rz(-2.3748) ├─┤ X ├»\n",
      "«     └────────────┘└─┬─┘┌─────────────┐├─────────────┴┐ └─────────────┘ └─┬─┘»\n",
      "«q_2: ────────────────■──┤ Ry(-1.2276) ├┤ Rz(-0.37603) ├───────────────────■──»\n",
      "«                        └─────────────┘└──────────────┘                      »\n",
      "«          ┌───┐     ┌─────────────┐┌─────────────┐          ┌───┐     »\n",
      "«q_0: ─────┤ X ├─────┤ Ry(-1.5156) ├┤ Rz(0.12609) ├──────────┤ X ├─────»\n",
      "«          └─┬─┘     └┬────────────┤├─────────────┤┌───┐     └─┬─┘     »\n",
      "«q_1: ───────■────────┤ Ry(2.5718) ├┤ Rz(-1.1831) ├┤ X ├───────■───────»\n",
      "«     ┌─────────────┐ ├────────────┤└─────────────┘└─┬─┘┌─────────────┐»\n",
      "«q_2: ┤ Ry(-2.9255) ├─┤ Rz(1.0212) ├─────────────────■──┤ Ry(0.29349) ├»\n",
      "«     └─────────────┘ └────────────┘                    └─────────────┘»\n",
      "«      ┌────────────┐┌────────────┐          ┌───┐     ┌─────────────┐»\n",
      "«q_0: ─┤ Ry(2.9505) ├┤ Rz(2.4808) ├──────────┤ X ├─────┤ Ry(-2.5856) ├»\n",
      "«     ┌┴────────────┤├────────────┤┌───┐     └─┬─┘     └┬────────────┤»\n",
      "«q_1: ┤ Ry(-1.9801) ├┤ Rz(2.7615) ├┤ X ├───────■────────┤ Ry(2.6507) ├»\n",
      "«     └┬────────────┤└────────────┘└─┬─┘┌─────────────┐┌┴────────────┤»\n",
      "«q_2: ─┤ Rz(1.7287) ├────────────────■──┤ Ry(0.61512) ├┤ Rz(-1.9102) ├»\n",
      "«      └────────────┘                   └─────────────┘└─────────────┘»\n",
      "«     ┌─────────────┐          ┌───┐       ┌────────────┐ ┌─────────────┐     »\n",
      "«q_0: ┤ Rz(-1.0975) ├──────────┤ X ├───────┤ Ry(2.0655) ├─┤ Rz(0.26827) ├─────»\n",
      "«     ├─────────────┤┌───┐     └─┬─┘      ┌┴────────────┤ ├─────────────┤┌───┐»\n",
      "«q_1: ┤ Rz(-2.8574) ├┤ X ├───────■────────┤ Ry(-1.4367) ├─┤ Rz(-1.3764) ├┤ X ├»\n",
      "«     └─────────────┘└─┬─┘┌──────────────┐├─────────────┴┐└─────────────┘└─┬─┘»\n",
      "«q_2: ─────────────────■──┤ Ry(-0.69946) ├┤ Rz(-0.90005) ├─────────────────■──»\n",
      "«                         └──────────────┘└──────────────┘                    »\n",
      "«          ┌───┐     ┌─────────────┐┌────────────┐     ┌───┐\n",
      "«q_0: ─────┤ X ├─────┤ Ry(-2.6732) ├┤ Rz(-1.893) ├─────┤ X ├\n",
      "«          └─┬─┘     └┬────────────┤├────────────┤┌───┐└─┬─┘\n",
      "«q_1: ───────■────────┤ Ry(1.8988) ├┤ Rz(1.7106) ├┤ X ├──■──\n",
      "«     ┌─────────────┐ ├────────────┤└────────────┘└─┬─┘     \n",
      "«q_2: ┤ Ry(-2.2561) ├─┤ Rz(3.0592) ├────────────────■───────\n",
      "«     └─────────────┘ └────────────┘                        \n"
     ]
    }
   ],
   "source": [
    "n = 3\n",
    "d = 2**n\n",
    "\n",
    "np.random.seed(42)\n",
    "random.seed(42)\n",
    "\n",
    "circuit_target = variational_circuit(n, 12, 0, 12).reverse_bits()\n",
    "\n",
    "N = 1000-6**n\n",
    "input_map_list, circuit_list = generate_pauli_circuits(n, circuit_target, N)\n",
    "\n",
    "inputs_spam, circuit_spam = generate_pauliInput_circuits(n)\n",
    "\n",
    "circuit_list.extend(circuit_spam)\n",
    "print(circuit_target)"
   ]
  },
  {
   "cell_type": "code",
   "execution_count": 15,
   "metadata": {},
   "outputs": [
    {
     "data": {
      "application/vnd.jupyter.widget-view+json": {
       "model_id": "a165eb4749bd4d0689baeac13928e66c",
       "version_major": 2,
       "version_minor": 0
      },
      "text/plain": [
       "  0%|          | 0/2 [00:00<?, ?it/s]"
      ]
     },
     "metadata": {},
     "output_type": "display_data"
    },
    {
     "data": {
      "application/vnd.jupyter.widget-view+json": {
       "model_id": "46ff5c34ded14fd7a83569d8f68b3400",
       "version_major": 2,
       "version_minor": 0
      },
      "text/plain": [
       "  0%|          | 0/5 [00:00<?, ?it/s]"
      ]
     },
     "metadata": {},
     "output_type": "display_data"
    },
    {
     "data": {
      "application/vnd.jupyter.widget-view+json": {
       "model_id": "03da096d781646319f6b472778dfb31a",
       "version_major": 2,
       "version_minor": 0
      },
      "text/plain": [
       "  0%|          | 0/5 [00:00<?, ?it/s]"
      ]
     },
     "metadata": {},
     "output_type": "display_data"
    }
   ],
   "source": [
    "counts_list = execute_and_collect(circuit_list, backend, 'threeQubits_variational_12')\n",
    "data = [input_map_list, inputs_spam, counts_list]\n",
    "pickle.dump(data, open(\"../../data/threeQubits_variational_12.p\", \"wb\"))"
   ]
  },
  {
   "cell_type": "markdown",
   "metadata": {},
   "source": [
    "## L2"
   ]
  },
  {
   "cell_type": "code",
   "execution_count": 7,
   "metadata": {},
   "outputs": [
    {
     "name": "stdout",
     "output_type": "stream",
     "text": [
      "     ┌─────────────┐┌──────────────┐          ┌───┐       ┌────────────┐ »\n",
      "q_0: ┤ Ry(0.70279) ├┤ Rz(-0.83967) ├──────────┤ X ├───────┤ Ry(-1.887) ├─»\n",
      "     ├─────────────┤└┬────────────┬┘┌───┐     └─┬─┘       ├────────────┤ »\n",
      "q_1: ┤ Ry(-1.3117) ├─┤ Rz(-1.306) ├─┤ X ├───────■─────────┤ Ry(1.7918) ├─»\n",
      "     ├─────────────┤┌┴────────────┤ └─┬─┘┌──────────────┐┌┴────────────┴┐»\n",
      "q_2: ┤ Ry(-0.4276) ├┤ Rz(-2.2651) ├───■──┤ Ry(-0.27602) ├┤ Rz(0.089438) ├»\n",
      "     └─────────────┘└─────────────┘      └──────────────┘└──────────────┘»\n",
      "«     ┌─────────────┐          ┌───┐     ┌─────────────┐┌────────────┐     »\n",
      "«q_0: ┤ Rz(-2.8497) ├──────────┤ X ├─────┤ Ry(-2.7329) ├┤ Rz(1.9377) ├─────»\n",
      "«     ├─────────────┤┌───┐     └─┬─┘     ├─────────────┤├────────────┤┌───┐»\n",
      "«q_1: ┤ Rz(0.58066) ├┤ X ├───────■───────┤ Ry(-2.0702) ├┤ Rz(2.9257) ├┤ X ├»\n",
      "«     └─────────────┘└─┬─┘┌─────────────┐└┬────────────┤└────────────┘└─┬─┘»\n",
      "«q_2: ─────────────────■──┤ Ry(0.67572) ├─┤ Rz(2.8204) ├────────────────■──»\n",
      "«                         └─────────────┘ └────────────┘                   »\n",
      "«     ┌───┐\n",
      "«q_0: ┤ X ├\n",
      "«     └─┬─┘\n",
      "«q_1: ──■──\n",
      "«          \n",
      "«q_2: ─────\n",
      "«          \n"
     ]
    }
   ],
   "source": [
    "n = 3\n",
    "d = 2**n\n",
    "\n",
    "np.random.seed(42)\n",
    "random.seed(42)\n",
    "\n",
    "circuit_target = variational_circuit(n, 6, 3, 6).reverse_bits()\n",
    "\n",
    "N = 1000-6**n\n",
    "input_map_list, circuit_list = generate_pauli_circuits(n, circuit_target, N)\n",
    "\n",
    "inputs_spam, circuit_spam = generate_pauliInput_circuits(n)\n",
    "\n",
    "circuit_list.extend(circuit_spam)\n",
    "print(circuit_target)"
   ]
  },
  {
   "cell_type": "code",
   "execution_count": 8,
   "metadata": {},
   "outputs": [
    {
     "data": {
      "application/vnd.jupyter.widget-view+json": {
       "model_id": "214c2464fffc427796c004639abe6e6e",
       "version_major": 2,
       "version_minor": 0
      },
      "text/plain": [
       "  0%|          | 0/2 [00:00<?, ?it/s]"
      ]
     },
     "metadata": {},
     "output_type": "display_data"
    },
    {
     "data": {
      "application/vnd.jupyter.widget-view+json": {
       "model_id": "c4c593bae02a4c6eb67534d5904e127b",
       "version_major": 2,
       "version_minor": 0
      },
      "text/plain": [
       "  0%|          | 0/5 [00:00<?, ?it/s]"
      ]
     },
     "metadata": {},
     "output_type": "display_data"
    },
    {
     "data": {
      "application/vnd.jupyter.widget-view+json": {
       "model_id": "1e3fb63934b449519cb3db559cb582df",
       "version_major": 2,
       "version_minor": 0
      },
      "text/plain": [
       "  0%|          | 0/5 [00:00<?, ?it/s]"
      ]
     },
     "metadata": {},
     "output_type": "display_data"
    }
   ],
   "source": [
    "counts_list = execute_and_collect(circuit_list, backend, 'threeQubits_variational_3_2')\n",
    "data = [input_map_list, inputs_spam, counts_list]\n",
    "pickle.dump(data, open(\"../../data/threeQubits_variational_3_2.p\", \"wb\"))"
   ]
  },
  {
   "cell_type": "markdown",
   "metadata": {},
   "source": [
    "## L3"
   ]
  },
  {
   "cell_type": "code",
   "execution_count": 8,
   "metadata": {},
   "outputs": [
    {
     "name": "stdout",
     "output_type": "stream",
     "text": [
      "      ┌────────────┐┌───────────────┐          ┌───┐     ┌─────────────┐»\n",
      "q_0: ─┤ Ry(1.1576) ├┤ Rz(-0.030304) ├──────────┤ X ├─────┤ Ry(-1.5156) ├»\n",
      "     ┌┴────────────┤└┬─────────────┬┘┌───┐     └─┬─┘     └┬────────────┤»\n",
      "q_1: ┤ Ry(-2.5279) ├─┤ Rz(-2.3748) ├─┤ X ├───────■────────┤ Ry(2.5718) ├»\n",
      "     ├─────────────┤ ├─────────────┴┐└─┬─┘┌─────────────┐ ├────────────┤»\n",
      "q_2: ┤ Ry(-1.2276) ├─┤ Rz(-0.37603) ├──■──┤ Ry(-2.9255) ├─┤ Rz(1.0212) ├»\n",
      "     └─────────────┘ └──────────────┘     └─────────────┘ └────────────┘»\n",
      "«     ┌─────────────┐          ┌───┐      ┌────────────┐┌────────────┐     »\n",
      "«q_0: ┤ Rz(0.12609) ├──────────┤ X ├──────┤ Ry(2.9505) ├┤ Rz(2.4808) ├─────»\n",
      "«     ├─────────────┤┌───┐     └─┬─┘     ┌┴────────────┤├────────────┤┌───┐»\n",
      "«q_1: ┤ Rz(-1.1831) ├┤ X ├───────■───────┤ Ry(-1.9801) ├┤ Rz(2.7615) ├┤ X ├»\n",
      "«     └─────────────┘└─┬─┘┌─────────────┐└┬────────────┤└────────────┘└─┬─┘»\n",
      "«q_2: ─────────────────■──┤ Ry(0.29349) ├─┤ Rz(1.7287) ├────────────────■──»\n",
      "«                         └─────────────┘ └────────────┘                   »\n",
      "«     ┌───┐\n",
      "«q_0: ┤ X ├\n",
      "«     └─┬─┘\n",
      "«q_1: ──■──\n",
      "«          \n",
      "«q_2: ─────\n",
      "«          \n"
     ]
    }
   ],
   "source": [
    "n = 3\n",
    "d = 2**n\n",
    "\n",
    "np.random.seed(42)\n",
    "random.seed(42)\n",
    "\n",
    "circuit_target = variational_circuit(n, 9, 6, 9).reverse_bits()\n",
    "\n",
    "N = 1000-6**n\n",
    "input_map_list, circuit_list = generate_pauli_circuits(n, circuit_target, N)\n",
    "\n",
    "inputs_spam, circuit_spam = generate_pauliInput_circuits(n)\n",
    "\n",
    "circuit_list.extend(circuit_spam)\n",
    "print(circuit_target)"
   ]
  },
  {
   "cell_type": "code",
   "execution_count": 12,
   "metadata": {},
   "outputs": [
    {
     "data": {
      "application/vnd.jupyter.widget-view+json": {
       "model_id": "64aecb0d5ba746329306bd9c30395573",
       "version_major": 2,
       "version_minor": 0
      },
      "text/plain": [
       "  0%|          | 0/2 [00:00<?, ?it/s]"
      ]
     },
     "metadata": {},
     "output_type": "display_data"
    },
    {
     "data": {
      "application/vnd.jupyter.widget-view+json": {
       "model_id": "e744df2a09b5414982525bff4484b301",
       "version_major": 2,
       "version_minor": 0
      },
      "text/plain": [
       "  0%|          | 0/5 [00:00<?, ?it/s]"
      ]
     },
     "metadata": {},
     "output_type": "display_data"
    },
    {
     "data": {
      "application/vnd.jupyter.widget-view+json": {
       "model_id": "d350f996c8884aea8bb81ed778b8f6af",
       "version_major": 2,
       "version_minor": 0
      },
      "text/plain": [
       "  0%|          | 0/5 [00:00<?, ?it/s]"
      ]
     },
     "metadata": {},
     "output_type": "display_data"
    }
   ],
   "source": [
    "counts_list = execute_and_collect(circuit_list, backend, 'threeQubits_variational_3_3')\n",
    "data = [input_map_list, inputs_spam, counts_list]\n",
    "pickle.dump(data, open(\"../../data/threeQubits_variational_3_3.p\", \"wb\"))"
   ]
  },
  {
   "cell_type": "markdown",
   "metadata": {},
   "source": [
    "## L4"
   ]
  },
  {
   "cell_type": "code",
   "execution_count": 16,
   "metadata": {},
   "outputs": [
    {
     "name": "stdout",
     "output_type": "stream",
     "text": [
      "     ┌─────────────┐┌─────────────┐          ┌───┐       ┌────────────┐ »\n",
      "q_0: ┤ Ry(-2.5856) ├┤ Rz(-1.0975) ├──────────┤ X ├───────┤ Ry(2.0655) ├─»\n",
      "     └┬────────────┤├─────────────┤┌───┐     └─┬─┘      ┌┴────────────┤ »\n",
      "q_1: ─┤ Ry(2.6507) ├┤ Rz(-2.8574) ├┤ X ├───────■────────┤ Ry(-1.4367) ├─»\n",
      "     ┌┴────────────┤├─────────────┤└─┬─┘┌──────────────┐├─────────────┴┐»\n",
      "q_2: ┤ Ry(0.61512) ├┤ Rz(-1.9102) ├──■──┤ Ry(-0.69946) ├┤ Rz(-0.90005) ├»\n",
      "     └─────────────┘└─────────────┘     └──────────────┘└──────────────┘»\n",
      "«     ┌─────────────┐          ┌───┐     ┌─────────────┐┌────────────┐     »\n",
      "«q_0: ┤ Rz(0.26827) ├──────────┤ X ├─────┤ Ry(-2.6732) ├┤ Rz(-1.893) ├─────»\n",
      "«     ├─────────────┤┌───┐     └─┬─┘     └┬────────────┤├────────────┤┌───┐»\n",
      "«q_1: ┤ Rz(-1.3764) ├┤ X ├───────■────────┤ Ry(1.8988) ├┤ Rz(1.7106) ├┤ X ├»\n",
      "«     └─────────────┘└─┬─┘┌─────────────┐ ├────────────┤└────────────┘└─┬─┘»\n",
      "«q_2: ─────────────────■──┤ Ry(-2.2561) ├─┤ Rz(3.0592) ├────────────────■──»\n",
      "«                         └─────────────┘ └────────────┘                   »\n",
      "«     ┌───┐\n",
      "«q_0: ┤ X ├\n",
      "«     └─┬─┘\n",
      "«q_1: ──■──\n",
      "«          \n",
      "«q_2: ─────\n",
      "«          \n"
     ]
    }
   ],
   "source": [
    "n = 3\n",
    "d = 2**n\n",
    "\n",
    "np.random.seed(42)\n",
    "random.seed(42)\n",
    "\n",
    "circuit_target = variational_circuit(n, 12, 9, 12).reverse_bits()\n",
    "\n",
    "N = 1000-6**n\n",
    "input_map_list, circuit_list = generate_pauli_circuits(n, circuit_target, N)\n",
    "\n",
    "inputs_spam, circuit_spam = generate_pauliInput_circuits(n)\n",
    "\n",
    "circuit_list.extend(circuit_spam)\n",
    "print(circuit_target)"
   ]
  },
  {
   "cell_type": "code",
   "execution_count": 17,
   "metadata": {},
   "outputs": [
    {
     "data": {
      "application/vnd.jupyter.widget-view+json": {
       "model_id": "71417a67c34846fa94083a544602a6f0",
       "version_major": 2,
       "version_minor": 0
      },
      "text/plain": [
       "  0%|          | 0/2 [00:00<?, ?it/s]"
      ]
     },
     "metadata": {},
     "output_type": "display_data"
    },
    {
     "data": {
      "application/vnd.jupyter.widget-view+json": {
       "model_id": "d513abb461d74b859168256869d5c707",
       "version_major": 2,
       "version_minor": 0
      },
      "text/plain": [
       "  0%|          | 0/5 [00:00<?, ?it/s]"
      ]
     },
     "metadata": {},
     "output_type": "display_data"
    },
    {
     "data": {
      "application/vnd.jupyter.widget-view+json": {
       "model_id": "c29fbef3a92141179b7857615effbb93",
       "version_major": 2,
       "version_minor": 0
      },
      "text/plain": [
       "  0%|          | 0/5 [00:00<?, ?it/s]"
      ]
     },
     "metadata": {},
     "output_type": "display_data"
    }
   ],
   "source": [
    "counts_list = execute_and_collect(circuit_list, backend, 'threeQubits_variational_3_4')\n",
    "data = [input_map_list, inputs_spam, counts_list]\n",
    "pickle.dump(data, open(\"../../data/threeQubits_variational_3_4.p\", \"wb\"))"
   ]
  },
  {
   "cell_type": "code",
   "execution_count": 5,
   "metadata": {},
   "outputs": [
    {
     "name": "stdout",
     "output_type": "stream",
     "text": [
      "     ┌─────────────┐ ┌────────────┐         ┌───┐     ┌─────────────┐»\n",
      "q_0: ┤ Ry(-2.3035) ├─┤ Rz(2.2565) ├─────────┤ X ├─────┤ Ry(-2.9593) ├»\n",
      "     ├─────────────┤┌┴────────────┤┌───┐    └─┬─┘     ├─────────────┤»\n",
      "q_1: ┤ Ry(0.68529) ├┤ Rz(-1.0861) ├┤ X ├──────■───────┤ Ry(0.25863) ├»\n",
      "     ├─────────────┤├─────────────┤└─┬─┘┌────────────┐└┬────────────┤»\n",
      "q_2: ┤ Ry(-2.4187) ├┤ Rz(-1.6299) ├──■──┤ Ry(1.0436) ├─┤ Rz(1.4687) ├»\n",
      "     └─────────────┘└─────────────┘     └────────────┘ └────────────┘»\n",
      "«      ┌────────────┐          ┌───┐      ┌────────────┐┌─────────────┐      »\n",
      "«q_0: ─┤ Rz(1.8978) ├──────────┤ X ├──────┤ Ry(2.3037) ├┤ Rz(-1.1555) ├──────»\n",
      "«     ┌┴────────────┴┐┌───┐    └─┬─┘     ┌┴────────────┤├─────────────┴┐┌───┐»\n",
      "«q_1: ┤ Rz(-0.66005) ├┤ X ├──────■───────┤ Ry(-2.7842) ├┤ Rz(-0.59697) ├┤ X ├»\n",
      "«     └──────────────┘└─┬─┘┌────────────┐├─────────────┤└──────────────┘└─┬─┘»\n",
      "«q_2: ──────────────────■──┤ Ry(-1.543) ├┤ Rz(-1.7528) ├──────────────────■──»\n",
      "«                          └────────────┘└─────────────┘                     »\n",
      "«          ┌───┐     ┌────────────┐ ┌────────────┐          ┌───┐      »\n",
      "«q_0: ─────┤ X ├─────┤ Ry(2.1924) ├─┤ Rz(2.8556) ├──────────┤ X ├──────»\n",
      "«          └─┬─┘     ├────────────┤┌┴────────────┤┌───┐     └─┬─┘      »\n",
      "«q_1: ───────■───────┤ Ry(2.1565) ├┤ Rz(-0.7202) ├┤ X ├───────■────────»\n",
      "«     ┌─────────────┐├────────────┤└─────────────┘└─┬─┘┌──────────────┐»\n",
      "«q_2: ┤ Ry(-2.6599) ├┤ Rz(2.9623) ├─────────────────■──┤ Ry(-0.34081) ├»\n",
      "«     └─────────────┘└────────────┘                    └──────────────┘»\n",
      "«     ┌─────────────┐┌─────────────┐          ┌───┐     ┌──────────────┐»\n",
      "«q_0: ┤ Ry(-2.6232) ├┤ Rz(-1.4935) ├──────────┤ X ├─────┤ Ry(-0.15333) ├»\n",
      "«     └┬────────────┤├─────────────┤┌───┐     └─┬─┘     ├─────────────┬┘»\n",
      "«q_1: ─┤ Ry(1.0664) ├┤ Rz(-1.2692) ├┤ X ├───────■───────┤ Ry(0.27145) ├─»\n",
      "«      ├───────────┬┘└─────────────┘└─┬─┘┌─────────────┐├─────────────┤ »\n",
      "«q_2: ─┤ Rz(2.495) ├──────────────────■──┤ Ry(-3.1094) ├┤ Rz(0.85686) ├─»\n",
      "«      └───────────┘                     └─────────────┘└─────────────┘ »\n",
      "«     ┌────────────┐         ┌───┐      ┌────────────┐┌──────────────┐     »\n",
      "«q_0: ┤ Rz(2.5677) ├─────────┤ X ├──────┤ Ry(-2.488) ├┤ Rz(-0.55322) ├─────»\n",
      "«     ├────────────┤┌───┐    └─┬─┘     ┌┴────────────┤└┬────────────┬┘┌───┐»\n",
      "«q_1: ┤ Rz(3.0046) ├┤ X ├──────■───────┤ Ry(0.15869) ├─┤ Rz(2.8465) ├─┤ X ├»\n",
      "«     └────────────┘└─┬─┘┌────────────┐├─────────────┤ └────────────┘ └─┬─┘»\n",
      "«q_2: ────────────────■──┤ Ry(2.5771) ├┤ Rz(-2.0049) ├──────────────────■──»\n",
      "«                        └────────────┘└─────────────┘                     »\n",
      "«         ┌───┐     ┌─────────────┐┌─────────────┐          ┌───┐      »\n",
      "«q_0: ────┤ X ├─────┤ Ry(0.80919) ├┤ Rz(-1.8417) ├──────────┤ X ├──────»\n",
      "«         └─┬─┘     └┬────────────┤└┬────────────┤┌───┐     └─┬─┘      »\n",
      "«q_1: ──────■────────┤ Ry(1.0818) ├─┤ Rz(2.4928) ├┤ X ├───────■────────»\n",
      "«     ┌────────────┐┌┴────────────┤ └────────────┘└─┬─┘┌──────────────┐»\n",
      "«q_2: ┤ Ry(2.2935) ├┤ Rz(-1.4102) ├─────────────────■──┤ Ry(-0.60064) ├»\n",
      "«     └────────────┘└─────────────┘                    └──────────────┘»\n",
      "«      ┌────────────┐ ┌─────────────┐     ┌───┐\n",
      "«q_0: ─┤ Ry(1.4811) ├─┤ Rz(-0.5576) ├─────┤ X ├\n",
      "«      ├────────────┤ ├─────────────┤┌───┐└─┬─┘\n",
      "«q_1: ─┤ Ry(3.1012) ├─┤ Rz(0.38116) ├┤ X ├──■──\n",
      "«     ┌┴────────────┴┐└─────────────┘└─┬─┘     \n",
      "«q_2: ┤ Rz(-0.34519) ├─────────────────■───────\n",
      "«     └──────────────┘                         \n"
     ]
    }
   ],
   "source": [
    "n = 3\n",
    "d = 2**n\n",
    "\n",
    "np.random.seed(43)\n",
    "random.seed(43)\n",
    "\n",
    "circuit_target = variational_circuit(n, 9, 0, 9).reverse_bits()\n",
    "\n",
    "N = 1000-6**n\n",
    "input_map_list, circuit_list = generate_pauli_circuits(n, circuit_target, N)\n",
    "\n",
    "inputs_spam, circuit_spam = generate_pauliInput_circuits(n)\n",
    "\n",
    "circuit_list.extend(circuit_spam)\n",
    "print(circuit_target)"
   ]
  },
  {
   "cell_type": "code",
   "execution_count": 6,
   "metadata": {},
   "outputs": [
    {
     "data": {
      "application/vnd.jupyter.widget-view+json": {
       "model_id": "f5fc5362ed924008bf2ca83479e4dd25",
       "version_major": 2,
       "version_minor": 0
      },
      "text/plain": [
       "  0%|          | 0/2 [00:00<?, ?it/s]"
      ]
     },
     "metadata": {},
     "output_type": "display_data"
    },
    {
     "data": {
      "application/vnd.jupyter.widget-view+json": {
       "model_id": "62e1122bc9ab4046ba5da993a23bbc98",
       "version_major": 2,
       "version_minor": 0
      },
      "text/plain": [
       "  0%|          | 0/5 [00:00<?, ?it/s]"
      ]
     },
     "metadata": {},
     "output_type": "display_data"
    },
    {
     "data": {
      "application/vnd.jupyter.widget-view+json": {
       "model_id": "fbee96531c8b4727a4e6f110001e0b64",
       "version_major": 2,
       "version_minor": 0
      },
      "text/plain": [
       "  0%|          | 0/5 [00:00<?, ?it/s]"
      ]
     },
     "metadata": {},
     "output_type": "display_data"
    }
   ],
   "source": [
    "counts_list = execute_and_collect(circuit_list, backend, 'threeQubits_variational_9_2')\n",
    "data = [input_map_list, inputs_spam, counts_list]\n",
    "pickle.dump(data, open(\"../../data/threeQubits_variational_9_2.p\", \"wb\"))"
   ]
  },
  {
   "cell_type": "code",
   "execution_count": 7,
   "metadata": {},
   "outputs": [
    {
     "name": "stdout",
     "output_type": "stream",
     "text": [
      "      ┌────────────┐┌─────────────┐           ┌───┐     ┌──────────────┐»\n",
      "q_0: ─┤ Ry(1.5371) ├┤ Rz(0.68636) ├───────────┤ X ├─────┤ Ry(0.062219) ├»\n",
      "     ┌┴────────────┤├─────────────┴┐┌───┐     └─┬─┘     ├──────────────┤»\n",
      "q_1: ┤ Ry(-2.4831) ├┤ Rz(-0.88398) ├┤ X ├───────■───────┤ Ry(-0.57131) ├»\n",
      "     └┬────────────┤├─────────────┬┘└─┬─┘┌─────────────┐└┬────────────┬┘»\n",
      "q_2: ─┤ Ry(2.1039) ├┤ Rz(-0.8765) ├───■──┤ Ry(-0.6674) ├─┤ Rz(1.3204) ├─»\n",
      "      └────────────┘└─────────────┘      └─────────────┘ └────────────┘ »\n",
      "«     ┌──────────────┐          ┌───┐      ┌─────────────┐┌────────────┐     »\n",
      "«q_0: ┤ Rz(-0.27256) ├──────────┤ X ├──────┤ Ry(-1.7725) ├┤ Rz(2.3991) ├─────»\n",
      "«     └┬────────────┬┘┌───┐     └─┬─┘      ├─────────────┤├────────────┤┌───┐»\n",
      "«q_1: ─┤ Rz(2.8936) ├─┤ X ├───────■────────┤ Ry(-2.4287) ├┤ Rz(2.7857) ├┤ X ├»\n",
      "«      └────────────┘ └─┬─┘┌──────────────┐└┬────────────┤└────────────┘└─┬─┘»\n",
      "«q_2: ──────────────────■──┤ Ry(-0.45458) ├─┤ Rz(2.8744) ├────────────────■──»\n",
      "«                          └──────────────┘ └────────────┘                   »\n",
      "«          ┌───┐     ┌─────────────┐ ┌────────────┐           ┌───┐     »\n",
      "«q_0: ─────┤ X ├─────┤ Ry(0.85974) ├─┤ Rz(2.3491) ├───────────┤ X ├─────»\n",
      "«          └─┬─┘     ├─────────────┤┌┴────────────┴┐┌───┐     └─┬─┘     »\n",
      "«q_1: ───────■───────┤ Ry(-1.7981) ├┤ Rz(-0.25947) ├┤ X ├───────■───────»\n",
      "«     ┌─────────────┐├─────────────┤└──────────────┘└─┬─┘┌─────────────┐»\n",
      "«q_2: ┤ Ry(0.91992) ├┤ Rz(-2.2673) ├──────────────────■──┤ Ry(-1.5177) ├»\n",
      "«     └─────────────┘└─────────────┘                     └─────────────┘»\n",
      "«      ┌────────────┐┌─────────────┐          ┌───┐     ┌─────────────┐ »\n",
      "«q_0: ─┤ Ry(2.2788) ├┤ Rz(-2.1416) ├──────────┤ X ├─────┤ Ry(-1.8665) ├─»\n",
      "«      ├────────────┤├─────────────┤┌───┐     └─┬─┘     └┬────────────┤ »\n",
      "«q_1: ─┤ Ry(1.0358) ├┤ Rz(0.39553) ├┤ X ├───────■────────┤ Ry(-2.488) ├─»\n",
      "«     ┌┴────────────┤└─────────────┘└─┬─┘┌─────────────┐┌┴────────────┴┐»\n",
      "«q_2: ┤ Rz(-2.2064) ├─────────────────■──┤ Ry(-2.0553) ├┤ Rz(-0.28155) ├»\n",
      "«     └─────────────┘                    └─────────────┘└──────────────┘»\n",
      "«     ┌────────────┐         ┌───┐     ┌──────────────┐┌────────────┐     »\n",
      "«q_0: ┤ Rz(3.0839) ├─────────┤ X ├─────┤ Ry(0.098881) ├┤ Rz(-2.686) ├─────»\n",
      "«     ├────────────┤┌───┐    └─┬─┘     ├──────────────┤├────────────┤┌───┐»\n",
      "«q_1: ┤ Rz(1.8509) ├┤ X ├──────■───────┤ Ry(-0.77022) ├┤ Rz(1.3264) ├┤ X ├»\n",
      "«     └────────────┘└─┬─┘┌────────────┐├─────────────┬┘└────────────┘└─┬─┘»\n",
      "«q_2: ────────────────■──┤ Ry(1.9165) ├┤ Rz(-2.7715) ├─────────────────■──»\n",
      "«                        └────────────┘└─────────────┘                    »\n",
      "«         ┌───┐    ┌────────────┐┌────────────┐         ┌───┐     »\n",
      "«q_0: ────┤ X ├────┤ Ry(2.0946) ├┤ Rz(2.7024) ├─────────┤ X ├─────»\n",
      "«         └─┬─┘    ├────────────┤├────────────┤┌───┐    └─┬─┘     »\n",
      "«q_1: ──────■──────┤ Ry(1.4204) ├┤ Rz(1.2405) ├┤ X ├──────■───────»\n",
      "«     ┌───────────┐├────────────┤└────────────┘└─┬─┘┌────────────┐»\n",
      "«q_2: ┤ Ry(2.404) ├┤ Rz(1.3209) ├────────────────■──┤ Ry(2.3981) ├»\n",
      "«     └───────────┘└────────────┘                   └────────────┘»\n",
      "«     ┌──────────────┐┌─────────────┐     ┌───┐\n",
      "«q_0: ┤ Ry(-0.27334) ├┤ Rz(-2.1757) ├─────┤ X ├\n",
      "«     ├─────────────┬┘├─────────────┤┌───┐└─┬─┘\n",
      "«q_1: ┤ Ry(-2.5449) ├─┤ Rz(-2.4569) ├┤ X ├──■──\n",
      "«     ├─────────────┴┐└─────────────┘└─┬─┘     \n",
      "«q_2: ┤ Rz(-0.04572) ├─────────────────■───────\n",
      "«     └──────────────┘                         \n"
     ]
    }
   ],
   "source": [
    "n = 3\n",
    "d = 2**n\n",
    "\n",
    "np.random.seed(44)\n",
    "random.seed(44)\n",
    "\n",
    "circuit_target = variational_circuit(n, 9, 0, 9).reverse_bits()\n",
    "\n",
    "N = 1000-6**n\n",
    "input_map_list, circuit_list = generate_pauli_circuits(n, circuit_target, N)\n",
    "\n",
    "inputs_spam, circuit_spam = generate_pauliInput_circuits(n)\n",
    "\n",
    "circuit_list.extend(circuit_spam)\n",
    "print(circuit_target)"
   ]
  },
  {
   "cell_type": "code",
   "execution_count": null,
   "metadata": {},
   "outputs": [
    {
     "data": {
      "application/vnd.jupyter.widget-view+json": {
       "model_id": "668442569a9b4bf8af44ff3478884f50",
       "version_major": 2,
       "version_minor": 0
      },
      "text/plain": [
       "  0%|          | 0/2 [00:00<?, ?it/s]"
      ]
     },
     "metadata": {},
     "output_type": "display_data"
    },
    {
     "data": {
      "application/vnd.jupyter.widget-view+json": {
       "model_id": "1f265b797e3d42be96fb38b894f86af6",
       "version_major": 2,
       "version_minor": 0
      },
      "text/plain": [
       "  0%|          | 0/5 [00:00<?, ?it/s]"
      ]
     },
     "metadata": {},
     "output_type": "display_data"
    }
   ],
   "source": [
    "counts_list = execute_and_collect(circuit_list, backend, 'threeQubits_variational_9_3')\n",
    "data = [input_map_list, inputs_spam, counts_list]\n",
    "pickle.dump(data, open(\"../../data/threeQubits_variational_9_3.p\", \"wb\"))"
   ]
  },
  {
   "cell_type": "code",
   "execution_count": 6,
   "metadata": {},
   "outputs": [
    {
     "name": "stdout",
     "output_type": "stream",
     "text": [
      "     ┌─────────────┐┌──────────────┐          ┌───┐     ┌─────────────┐»\n",
      "q_0: ┤ Ry(-1.3732) ├┤ Rz(-0.17085) ├──────────┤ X ├─────┤ Ry(-2.4131) ├»\n",
      "     └┬────────────┤├──────────────┤┌───┐     └─┬─┘     ├─────────────┤»\n",
      "q_1: ─┤ Ry(0.3113) ├┤ Rz(-0.34891) ├┤ X ├───────■───────┤ Ry(-2.1154) ├»\n",
      "      ├────────────┤└┬────────────┬┘└─┬─┘┌─────────────┐├─────────────┤»\n",
      "q_2: ─┤ Ry(3.0725) ├─┤ Rz(-2.656) ├───■──┤ Ry(-2.8367) ├┤ Rz(0.80043) ├»\n",
      "      └────────────┘ └────────────┘      └─────────────┘└─────────────┘»\n",
      "«     ┌─────────────┐         ┌───┐     ┌─────────────┐ ┌────────────┐     »\n",
      "«q_0: ┤ Rz(0.94312) ├─────────┤ X ├─────┤ Ry(0.74327) ├─┤ Rz(1.0874) ├─────»\n",
      "«     └┬───────────┬┘┌───┐    └─┬─┘     ├─────────────┴┐├────────────┤┌───┐»\n",
      "«q_1: ─┤ Rz(2.238) ├─┤ X ├──────■───────┤ Ry(-0.18629) ├┤ Rz(2.9908) ├┤ X ├»\n",
      "«      └───────────┘ └─┬─┘┌────────────┐├─────────────┬┘└────────────┘└─┬─┘»\n",
      "«q_2: ─────────────────■──┤ Ry(3.0833) ├┤ Rz(-1.3655) ├─────────────────■──»\n",
      "«                         └────────────┘└─────────────┘                    »\n",
      "«          ┌───┐      ┌──────────────┐┌──────────────┐          ┌───┐     »\n",
      "«q_0: ─────┤ X ├──────┤ Ry(0.060945) ├┤ Rz(-0.13476) ├──────────┤ X ├─────»\n",
      "«          └─┬─┘      ├─────────────┬┘├─────────────┬┘┌───┐     └─┬─┘     »\n",
      "«q_1: ───────■────────┤ Ry(-1.3214) ├─┤ Rz(-1.7156) ├─┤ X ├───────■───────»\n",
      "«     ┌──────────────┐└┬────────────┤ └─────────────┘ └─┬─┘┌─────────────┐»\n",
      "«q_2: ┤ Ry(-0.37366) ├─┤ Rz(-2.435) ├───────────────────■──┤ Ry(-1.6163) ├»\n",
      "«     └──────────────┘ └────────────┘                      └─────────────┘»\n",
      "«      ┌────────────┐ ┌─────────────┐         ┌───┐     ┌─────────────┐ »\n",
      "«q_0: ─┤ Ry(2.0035) ├─┤ Rz(-1.7285) ├─────────┤ X ├─────┤ Ry(0.63463) ├─»\n",
      "«     ┌┴────────────┴┐└┬────────────┤┌───┐    └─┬─┘     ├─────────────┤ »\n",
      "«q_1: ┤ Ry(-0.70383) ├─┤ Rz(2.6587) ├┤ X ├──────■───────┤ Ry(-2.4469) ├─»\n",
      "«     ├─────────────┬┘ └────────────┘└─┬─┘┌────────────┐├─────────────┴┐»\n",
      "«q_2: ┤ Rz(-2.6732) ├──────────────────■──┤ Ry(1.2967) ├┤ Rz(-0.58564) ├»\n",
      "«     └─────────────┘                     └────────────┘└──────────────┘»\n",
      "«     ┌─────────────┐          ┌───┐      ┌─────────────┐┌─────────────┐     »\n",
      "«q_0: ┤ Rz(-1.5706) ├──────────┤ X ├──────┤ Ry(-1.5585) ├┤ Rz(-1.1933) ├─────»\n",
      "«     └┬────────────┤┌───┐     └─┬─┘      ├─────────────┤└┬───────────┬┘┌───┐»\n",
      "«q_1: ─┤ Rz(2.1164) ├┤ X ├───────■────────┤ Ry(0.36086) ├─┤ Rz(1.424) ├─┤ X ├»\n",
      "«      └────────────┘└─┬─┘┌──────────────┐├─────────────┤ └───────────┘ └─┬─┘»\n",
      "«q_2: ─────────────────■──┤ Ry(-0.26554) ├┤ Rz(-2.4489) ├─────────────────■──»\n",
      "«                         └──────────────┘└─────────────┘                    »\n",
      "«         ┌───┐     ┌─────────────┐ ┌─────────────┐         ┌───┐    »\n",
      "«q_0: ────┤ X ├─────┤ Ry(-2.5501) ├─┤ Rz(-2.3755) ├─────────┤ X ├────»\n",
      "«         └─┬─┘     ├─────────────┴┐└┬───────────┬┘┌───┐    └─┬─┘    »\n",
      "«q_1: ──────■───────┤ Ry(-0.30369) ├─┤ Rz(1.519) ├─┤ X ├──────■──────»\n",
      "«     ┌────────────┐└┬────────────┬┘ └───────────┘ └─┬─┘┌───────────┐»\n",
      "«q_2: ┤ Ry(2.0468) ├─┤ Rz(2.4329) ├──────────────────■──┤ Ry(2.236) ├»\n",
      "«     └────────────┘ └────────────┘                     └───────────┘»\n",
      "«     ┌─────────────┐┌────────────┐     ┌───┐\n",
      "«q_0: ┤ Ry(-1.9858) ├┤ Rz(1.0451) ├─────┤ X ├\n",
      "«     └┬────────────┤├────────────┤┌───┐└─┬─┘\n",
      "«q_1: ─┤ Ry(-2.721) ├┤ Rz(2.6533) ├┤ X ├──■──\n",
      "«     ┌┴────────────┤└────────────┘└─┬─┘     \n",
      "«q_2: ┤ Rz(-2.0598) ├────────────────■───────\n",
      "«     └─────────────┘                        \n"
     ]
    }
   ],
   "source": [
    "n = 3\n",
    "d = 2**n\n",
    "\n",
    "np.random.seed(45)\n",
    "random.seed(45)\n",
    "\n",
    "circuit_target = variational_circuit(n, 9, 0, 9).reverse_bits()\n",
    "\n",
    "N = 1000-6**n\n",
    "input_map_list, circuit_list = generate_pauli_circuits(n, circuit_target, N)\n",
    "\n",
    "inputs_spam, circuit_spam = generate_pauliInput_circuits(n)\n",
    "\n",
    "circuit_list.extend(circuit_spam)\n",
    "print(circuit_target)"
   ]
  },
  {
   "cell_type": "code",
   "execution_count": 7,
   "metadata": {},
   "outputs": [
    {
     "data": {
      "application/vnd.jupyter.widget-view+json": {
       "model_id": "f175472732dc4247bb1c735f22ded750",
       "version_major": 2,
       "version_minor": 0
      },
      "text/plain": [
       "  0%|          | 0/2 [00:00<?, ?it/s]"
      ]
     },
     "metadata": {},
     "output_type": "display_data"
    },
    {
     "data": {
      "application/vnd.jupyter.widget-view+json": {
       "model_id": "38c2bdb67eaa4a97b1be4224353b12e6",
       "version_major": 2,
       "version_minor": 0
      },
      "text/plain": [
       "  0%|          | 0/5 [00:00<?, ?it/s]"
      ]
     },
     "metadata": {},
     "output_type": "display_data"
    },
    {
     "data": {
      "application/vnd.jupyter.widget-view+json": {
       "model_id": "4b6fb5d813f042a9bb52332452a63344",
       "version_major": 2,
       "version_minor": 0
      },
      "text/plain": [
       "  0%|          | 0/5 [00:00<?, ?it/s]"
      ]
     },
     "metadata": {},
     "output_type": "display_data"
    }
   ],
   "source": [
    "counts_list = execute_and_collect(circuit_list, backend, 'threeQubits_variational_9_4')\n",
    "data = [input_map_list, inputs_spam, counts_list]\n",
    "pickle.dump(data, open(\"../../data/threeQubits_variational_9_4.p\", \"wb\"))"
   ]
  },
  {
   "cell_type": "code",
   "execution_count": 9,
   "metadata": {},
   "outputs": [
    {
     "name": "stdout",
     "output_type": "stream",
     "text": [
      "     ┌─────────────┐ ┌────────────┐          ┌───┐      ┌────────────┐ »\n",
      "q_0: ┤ Ry(-1.5768) ├─┤ Rz(2.7472) ├──────────┤ X ├──────┤ Ry(2.5932) ├─»\n",
      "     ├─────────────┤┌┴────────────┤┌───┐     └─┬─┘     ┌┴────────────┴┐»\n",
      "q_1: ┤ Ry(0.84719) ├┤ Rz(-1.1745) ├┤ X ├───────■───────┤ Ry(-0.37154) ├»\n",
      "     └┬────────────┤└┬────────────┤└─┬─┘┌─────────────┐├──────────────┤»\n",
      "q_2: ─┤ Ry(1.7834) ├─┤ Rz(1.6215) ├──■──┤ Ry(-2.8723) ├┤ Rz(-0.28272) ├»\n",
      "      └────────────┘ └────────────┘     └─────────────┘└──────────────┘»\n",
      "«     ┌─────────────┐           ┌───┐       ┌────────────┐ ┌────────────┐     »\n",
      "«q_0: ┤ Rz(-2.6081) ├───────────┤ X ├───────┤ Ry(2.3064) ├─┤ Rz(1.8982) ├─────»\n",
      "«     ├─────────────┴┐┌───┐     └─┬─┘       ├────────────┤┌┴────────────┤┌───┐»\n",
      "«q_1: ┤ Rz(0.049853) ├┤ X ├───────■─────────┤ Ry(1.5439) ├┤ Rz(-2.4877) ├┤ X ├»\n",
      "«     └──────────────┘└─┬─┘┌──────────────┐┌┴────────────┤└─────────────┘└─┬─┘»\n",
      "«q_2: ──────────────────■──┤ Ry(-0.46276) ├┤ Rz(-1.1079) ├─────────────────■──»\n",
      "«                          └──────────────┘└─────────────┘                    »\n",
      "«          ┌───┐      ┌─────────────┐┌──────────────┐          ┌───┐     »\n",
      "«q_0: ─────┤ X ├──────┤ Ry(-2.9155) ├┤ Rz(-0.80292) ├──────────┤ X ├─────»\n",
      "«          └─┬─┘      ├─────────────┤├─────────────┬┘┌───┐     └─┬─┘     »\n",
      "«q_1: ───────■────────┤ Ry(0.80279) ├┤ Rz(-2.8422) ├─┤ X ├───────■───────»\n",
      "«     ┌──────────────┐├─────────────┤└─────────────┘ └─┬─┘┌─────────────┐»\n",
      "«q_2: ┤ Ry(-0.66079) ├┤ Rz(-1.2572) ├──────────────────■──┤ Ry(-1.4928) ├»\n",
      "«     └──────────────┘└─────────────┘                     └─────────────┘»\n",
      "«     ┌──────────────┐┌───────────────┐         ┌───┐     ┌─────────────┐»\n",
      "«q_0: ┤ Ry(-0.65882) ├┤ Rz(-0.037542) ├─────────┤ X ├─────┤ Ry(-1.6654) ├»\n",
      "«     └┬────────────┬┘└┬─────────────┬┘┌───┐    └─┬─┘     ├─────────────┤»\n",
      "«q_1: ─┤ Ry(3.0821) ├──┤ Rz(-1.7524) ├─┤ X ├──────■───────┤ Ry(-1.3214) ├»\n",
      "«     ┌┴────────────┤  └─────────────┘ └─┬─┘┌────────────┐└┬────────────┤»\n",
      "«q_2: ┤ Rz(-1.2093) ├────────────────────■──┤ Ry(-2.778) ├─┤ Rz(2.9118) ├»\n",
      "«     └─────────────┘                       └────────────┘ └────────────┘»\n",
      "«     ┌────────────┐          ┌───┐      ┌────────────┐ ┌────────────┐     »\n",
      "«q_0: ┤ Rz(2.2782) ├──────────┤ X ├──────┤ Ry(1.0843) ├─┤ Rz(2.5618) ├─────»\n",
      "«     ├────────────┤┌───┐     └─┬─┘     ┌┴────────────┤┌┴────────────┤┌───┐»\n",
      "«q_1: ┤ Rz(0.7268) ├┤ X ├───────■───────┤ Ry(-2.2055) ├┤ Rz(-2.9957) ├┤ X ├»\n",
      "«     └────────────┘└─┬─┘┌─────────────┐└┬────────────┤└─────────────┘└─┬─┘»\n",
      "«q_2: ────────────────■──┤ Ry(-2.5756) ├─┤ Rz(3.0096) ├─────────────────■──»\n",
      "«                        └─────────────┘ └────────────┘                    »\n",
      "«          ┌───┐     ┌─────────────┐┌─────────────┐          ┌───┐     »\n",
      "«q_0: ─────┤ X ├─────┤ Ry(-2.7357) ├┤ Rz(-1.9156) ├──────────┤ X ├─────»\n",
      "«          └─┬─┘     └┬────────────┤├─────────────┤┌───┐     └─┬─┘     »\n",
      "«q_1: ───────■────────┤ Ry(1.6064) ├┤ Rz(-2.0759) ├┤ X ├───────■───────»\n",
      "«     ┌─────────────┐┌┴────────────┤└─────────────┘└─┬─┘┌─────────────┐»\n",
      "«q_2: ┤ Ry(-2.7768) ├┤ Rz(-1.5348) ├─────────────────■──┤ Ry(-2.4721) ├»\n",
      "«     └─────────────┘└─────────────┘                    └─────────────┘»\n",
      "«     ┌─────────────┐┌─────────────┐     ┌───┐\n",
      "«q_0: ┤ Ry(-3.1023) ├┤ Rz(-2.4684) ├─────┤ X ├\n",
      "«     ├─────────────┤└┬───────────┬┘┌───┐└─┬─┘\n",
      "«q_1: ┤ Ry(0.13062) ├─┤ Rz(-2.27) ├─┤ X ├──■──\n",
      "«     └┬────────────┤ └───────────┘ └─┬─┘     \n",
      "«q_2: ─┤ Rz(1.8259) ├─────────────────■───────\n",
      "«      └────────────┘                         \n"
     ]
    }
   ],
   "source": [
    "n = 3\n",
    "d = 2**n\n",
    "\n",
    "np.random.seed(46)\n",
    "random.seed(46)\n",
    "\n",
    "circuit_target = variational_circuit(n, 9, 0, 9).reverse_bits()\n",
    "\n",
    "N = 1000-6**n\n",
    "input_map_list, circuit_list = generate_pauli_circuits(n, circuit_target, N)\n",
    "\n",
    "inputs_spam, circuit_spam = generate_pauliInput_circuits(n)\n",
    "\n",
    "circuit_list.extend(circuit_spam)\n",
    "print(circuit_target)"
   ]
  },
  {
   "cell_type": "code",
   "execution_count": 10,
   "metadata": {},
   "outputs": [
    {
     "data": {
      "application/vnd.jupyter.widget-view+json": {
       "model_id": "28b11a63c4524ede85e6b4898d86fe29",
       "version_major": 2,
       "version_minor": 0
      },
      "text/plain": [
       "  0%|          | 0/2 [00:00<?, ?it/s]"
      ]
     },
     "metadata": {},
     "output_type": "display_data"
    },
    {
     "ename": "KeyboardInterrupt",
     "evalue": "",
     "output_type": "error",
     "traceback": [
      "\u001b[1;31m---------------------------------------------------------------------------\u001b[0m",
      "\u001b[1;31mKeyboardInterrupt\u001b[0m                         Traceback (most recent call last)",
      "Input \u001b[1;32mIn [10]\u001b[0m, in \u001b[0;36m<cell line: 1>\u001b[1;34m()\u001b[0m\n\u001b[1;32m----> 1\u001b[0m counts_list \u001b[38;5;241m=\u001b[39m \u001b[43mexecute_and_collect\u001b[49m\u001b[43m(\u001b[49m\u001b[43mcircuit_list\u001b[49m\u001b[43m,\u001b[49m\u001b[43m \u001b[49m\u001b[43mbackend\u001b[49m\u001b[43m,\u001b[49m\u001b[43m \u001b[49m\u001b[38;5;124;43m'\u001b[39;49m\u001b[38;5;124;43mthreeQubits_variational_9_5\u001b[39;49m\u001b[38;5;124;43m'\u001b[39;49m\u001b[43m)\u001b[49m\n\u001b[0;32m      2\u001b[0m data \u001b[38;5;241m=\u001b[39m [input_map_list, inputs_spam, counts_list]\n\u001b[0;32m      3\u001b[0m pickle\u001b[38;5;241m.\u001b[39mdump(data, \u001b[38;5;28mopen\u001b[39m(\u001b[38;5;124m\"\u001b[39m\u001b[38;5;124m../../data/threeQubits_variational_9_5.p\u001b[39m\u001b[38;5;124m\"\u001b[39m, \u001b[38;5;124m\"\u001b[39m\u001b[38;5;124mwb\u001b[39m\u001b[38;5;124m\"\u001b[39m))\n",
      "Input \u001b[1;32mIn [5]\u001b[0m, in \u001b[0;36mexecute_and_collect\u001b[1;34m(circuit_list, backend, file_name)\u001b[0m\n\u001b[0;32m      8\u001b[0m job_list \u001b[38;5;241m=\u001b[39m []\n\u001b[0;32m     10\u001b[0m \u001b[38;5;28;01mfor\u001b[39;00m circuit_parcel \u001b[38;5;129;01min\u001b[39;00m circuit_parcel_list:\n\u001b[1;32m---> 11\u001b[0m     job \u001b[38;5;241m=\u001b[39m \u001b[43mqk\u001b[49m\u001b[38;5;241;43m.\u001b[39;49m\u001b[43mexecute\u001b[49m\u001b[43m(\u001b[49m\u001b[43mcircuit_parcel\u001b[49m\u001b[43m,\u001b[49m\u001b[43m \u001b[49m\u001b[43mbackend\u001b[49m\u001b[43m,\u001b[49m\u001b[43m \u001b[49m\u001b[43mshots\u001b[49m\u001b[43m \u001b[49m\u001b[38;5;241;43m=\u001b[39;49m\u001b[43m \u001b[49m\u001b[38;5;241;43m20000\u001b[39;49m\u001b[43m,\u001b[49m\u001b[43m \u001b[49m\u001b[43moptimization_level\u001b[49m\u001b[43m \u001b[49m\u001b[38;5;241;43m=\u001b[39;49m\u001b[43m \u001b[49m\u001b[38;5;241;43m0\u001b[39;49m\u001b[43m,\u001b[49m\u001b[43m \u001b[49m\u001b[43mseed_transpiler\u001b[49m\u001b[38;5;241;43m=\u001b[39;49m\u001b[38;5;241;43m42\u001b[39;49m\u001b[43m)\u001b[49m\n\u001b[0;32m     12\u001b[0m     job_list\u001b[38;5;241m.\u001b[39mappend(job)\n\u001b[0;32m     14\u001b[0m result_list \u001b[38;5;241m=\u001b[39m []\n",
      "File \u001b[1;32m~\\anaconda3\\envs\\env_qiskit\\lib\\site-packages\\qiskit\\execute_function.py:375\u001b[0m, in \u001b[0;36mexecute\u001b[1;34m(experiments, backend, basis_gates, coupling_map, backend_properties, initial_layout, seed_transpiler, optimization_level, pass_manager, qobj_id, qobj_header, shots, memory, max_credits, seed_simulator, default_qubit_los, default_meas_los, qubit_lo_range, meas_lo_range, schedule_los, meas_level, meas_return, memory_slots, memory_slot_size, rep_time, rep_delay, parameter_binds, schedule_circuit, inst_map, meas_map, scheduling_method, init_qubits, **run_config)\u001b[0m\n\u001b[0;32m    373\u001b[0m     run_kwargs[\u001b[38;5;124m\"\u001b[39m\u001b[38;5;124mparameter_binds\u001b[39m\u001b[38;5;124m\"\u001b[39m] \u001b[38;5;241m=\u001b[39m parameter_binds\n\u001b[0;32m    374\u001b[0m run_kwargs\u001b[38;5;241m.\u001b[39mupdate(run_config)\n\u001b[1;32m--> 375\u001b[0m job \u001b[38;5;241m=\u001b[39m backend\u001b[38;5;241m.\u001b[39mrun(experiments, \u001b[38;5;241m*\u001b[39m\u001b[38;5;241m*\u001b[39mrun_kwargs)\n\u001b[0;32m    376\u001b[0m end_time \u001b[38;5;241m=\u001b[39m time()\n\u001b[0;32m    377\u001b[0m _log_submission_time(start_time, end_time)\n",
      "File \u001b[1;32m~\\anaconda3\\envs\\env_qiskit\\lib\\site-packages\\qiskit\\utils\\deprecation.py:27\u001b[0m, in \u001b[0;36mdeprecate_arguments.<locals>.decorator.<locals>.wrapper\u001b[1;34m(*args, **kwargs)\u001b[0m\n\u001b[0;32m     25\u001b[0m \u001b[38;5;28;01mif\u001b[39;00m kwargs:\n\u001b[0;32m     26\u001b[0m     _rename_kwargs(func\u001b[38;5;241m.\u001b[39m\u001b[38;5;18m__name__\u001b[39m, kwargs, kwarg_map)\n\u001b[1;32m---> 27\u001b[0m \u001b[38;5;28;01mreturn\u001b[39;00m func(\u001b[38;5;241m*\u001b[39margs, \u001b[38;5;241m*\u001b[39m\u001b[38;5;241m*\u001b[39mkwargs)\n",
      "File \u001b[1;32m~\\anaconda3\\envs\\env_qiskit\\lib\\site-packages\\qiskit\\providers\\ibmq\\ibmqbackend.py:330\u001b[0m, in \u001b[0;36mIBMQBackend.run\u001b[1;34m(self, circuits, job_name, job_share_level, job_tags, experiment_id, header, shots, memory, qubit_lo_freq, meas_lo_freq, schedule_los, meas_level, meas_return, memory_slots, memory_slot_size, rep_time, rep_delay, init_qubits, parameter_binds, use_measure_esp, live_data_enabled, **run_config)\u001b[0m\n\u001b[0;32m    327\u001b[0m         run_config_dict[\u001b[38;5;124m'\u001b[39m\u001b[38;5;124mmethod\u001b[39m\u001b[38;5;124m'\u001b[39m] \u001b[38;5;241m=\u001b[39m sim_method\n\u001b[0;32m    328\u001b[0m     qobj \u001b[38;5;241m=\u001b[39m assemble(circuits, \u001b[38;5;28mself\u001b[39m, \u001b[38;5;241m*\u001b[39m\u001b[38;5;241m*\u001b[39mrun_config_dict)\n\u001b[1;32m--> 330\u001b[0m \u001b[38;5;28;01mreturn\u001b[39;00m \u001b[38;5;28;43mself\u001b[39;49m\u001b[38;5;241;43m.\u001b[39;49m\u001b[43m_submit_job\u001b[49m\u001b[43m(\u001b[49m\u001b[43mqobj\u001b[49m\u001b[43m,\u001b[49m\u001b[43m \u001b[49m\u001b[43mjob_name\u001b[49m\u001b[43m,\u001b[49m\u001b[43m \u001b[49m\u001b[43mjob_tags\u001b[49m\u001b[43m,\u001b[49m\u001b[43m \u001b[49m\u001b[43mexperiment_id\u001b[49m\u001b[43m,\u001b[49m\u001b[43m \u001b[49m\u001b[43mlive_data_enabled\u001b[49m\u001b[43m)\u001b[49m\n",
      "File \u001b[1;32m~\\anaconda3\\envs\\env_qiskit\\lib\\site-packages\\qiskit\\providers\\ibmq\\ibmqbackend.py:381\u001b[0m, in \u001b[0;36mIBMQBackend._submit_job\u001b[1;34m(self, qobj, job_name, job_tags, experiment_id, live_data_enabled)\u001b[0m\n\u001b[0;32m    379\u001b[0m \u001b[38;5;28;01mtry\u001b[39;00m:\n\u001b[0;32m    380\u001b[0m     qobj_dict \u001b[38;5;241m=\u001b[39m qobj\u001b[38;5;241m.\u001b[39mto_dict()\n\u001b[1;32m--> 381\u001b[0m     submit_info \u001b[38;5;241m=\u001b[39m \u001b[38;5;28;43mself\u001b[39;49m\u001b[38;5;241;43m.\u001b[39;49m\u001b[43m_api_client\u001b[49m\u001b[38;5;241;43m.\u001b[39;49m\u001b[43mjob_submit\u001b[49m\u001b[43m(\u001b[49m\n\u001b[0;32m    382\u001b[0m \u001b[43m        \u001b[49m\u001b[43mbackend_name\u001b[49m\u001b[38;5;241;43m=\u001b[39;49m\u001b[38;5;28;43mself\u001b[39;49m\u001b[38;5;241;43m.\u001b[39;49m\u001b[43mname\u001b[49m\u001b[43m(\u001b[49m\u001b[43m)\u001b[49m\u001b[43m,\u001b[49m\n\u001b[0;32m    383\u001b[0m \u001b[43m        \u001b[49m\u001b[43mqobj_dict\u001b[49m\u001b[38;5;241;43m=\u001b[39;49m\u001b[43mqobj_dict\u001b[49m\u001b[43m,\u001b[49m\n\u001b[0;32m    384\u001b[0m \u001b[43m        \u001b[49m\u001b[43mjob_name\u001b[49m\u001b[38;5;241;43m=\u001b[39;49m\u001b[43mjob_name\u001b[49m\u001b[43m,\u001b[49m\n\u001b[0;32m    385\u001b[0m \u001b[43m        \u001b[49m\u001b[43mjob_tags\u001b[49m\u001b[38;5;241;43m=\u001b[39;49m\u001b[43mjob_tags\u001b[49m\u001b[43m,\u001b[49m\n\u001b[0;32m    386\u001b[0m \u001b[43m        \u001b[49m\u001b[43mexperiment_id\u001b[49m\u001b[38;5;241;43m=\u001b[39;49m\u001b[43mexperiment_id\u001b[49m\u001b[43m,\u001b[49m\n\u001b[0;32m    387\u001b[0m \u001b[43m        \u001b[49m\u001b[43mlive_data_enabled\u001b[49m\u001b[38;5;241;43m=\u001b[39;49m\u001b[43mlive_data_enabled\u001b[49m\u001b[43m)\u001b[49m\n\u001b[0;32m    388\u001b[0m \u001b[38;5;28;01mexcept\u001b[39;00m ApiError \u001b[38;5;28;01mas\u001b[39;00m ex:\n\u001b[0;32m    389\u001b[0m     \u001b[38;5;28;01mif\u001b[39;00m \u001b[38;5;124m'\u001b[39m\u001b[38;5;124mError code: 3458\u001b[39m\u001b[38;5;124m'\u001b[39m \u001b[38;5;129;01min\u001b[39;00m \u001b[38;5;28mstr\u001b[39m(ex):\n",
      "File \u001b[1;32m~\\anaconda3\\envs\\env_qiskit\\lib\\site-packages\\qiskit\\providers\\ibmq\\api\\clients\\account.py:243\u001b[0m, in \u001b[0;36mAccountClient.job_submit\u001b[1;34m(self, backend_name, qobj_dict, job_name, job_tags, experiment_id, live_data_enabled)\u001b[0m\n\u001b[0;32m    241\u001b[0m     _ \u001b[38;5;241m=\u001b[39m job_api\u001b[38;5;241m.\u001b[39mput_object_storage(upload_url, qobj_dict)\n\u001b[0;32m    242\u001b[0m     \u001b[38;5;66;03m# Notify the API via the callback.\u001b[39;00m\n\u001b[1;32m--> 243\u001b[0m     response \u001b[38;5;241m=\u001b[39m \u001b[43mjob_api\u001b[49m\u001b[38;5;241;43m.\u001b[39;49m\u001b[43mcallback_upload\u001b[49m\u001b[43m(\u001b[49m\u001b[43m)\u001b[49m\n\u001b[0;32m    244\u001b[0m     \u001b[38;5;28;01mreturn\u001b[39;00m response[\u001b[38;5;124m'\u001b[39m\u001b[38;5;124mjob\u001b[39m\u001b[38;5;124m'\u001b[39m]\n\u001b[0;32m    245\u001b[0m \u001b[38;5;28;01mexcept\u001b[39;00m \u001b[38;5;167;01mException\u001b[39;00m:  \u001b[38;5;66;03m# pylint: disable=broad-except\u001b[39;00m\n",
      "File \u001b[1;32m~\\anaconda3\\envs\\env_qiskit\\lib\\site-packages\\qiskit\\providers\\ibmq\\api\\rest\\job.py:101\u001b[0m, in \u001b[0;36mJob.callback_upload\u001b[1;34m(self)\u001b[0m\n\u001b[0;32m     95\u001b[0m \u001b[38;5;124;03m\"\"\"Notify the API after uploading a ``Qobj`` via object storage.\u001b[39;00m\n\u001b[0;32m     96\u001b[0m \n\u001b[0;32m     97\u001b[0m \u001b[38;5;124;03mReturns:\u001b[39;00m\n\u001b[0;32m     98\u001b[0m \u001b[38;5;124;03m    JSON response.\u001b[39;00m\n\u001b[0;32m     99\u001b[0m \u001b[38;5;124;03m\"\"\"\u001b[39;00m\n\u001b[0;32m    100\u001b[0m url \u001b[38;5;241m=\u001b[39m \u001b[38;5;28mself\u001b[39m\u001b[38;5;241m.\u001b[39mget_url(\u001b[38;5;124m'\u001b[39m\u001b[38;5;124mcallback_upload\u001b[39m\u001b[38;5;124m'\u001b[39m)\n\u001b[1;32m--> 101\u001b[0m data \u001b[38;5;241m=\u001b[39m \u001b[38;5;28;43mself\u001b[39;49m\u001b[38;5;241;43m.\u001b[39;49m\u001b[43msession\u001b[49m\u001b[38;5;241;43m.\u001b[39;49m\u001b[43mpost\u001b[49m\u001b[43m(\u001b[49m\u001b[43murl\u001b[49m\u001b[43m)\u001b[49m\u001b[38;5;241m.\u001b[39mjson()\n\u001b[0;32m    102\u001b[0m mapped_response \u001b[38;5;241m=\u001b[39m {\u001b[38;5;124m'\u001b[39m\u001b[38;5;124mjob\u001b[39m\u001b[38;5;124m'\u001b[39m: map_job_response(data[\u001b[38;5;124m'\u001b[39m\u001b[38;5;124mjob\u001b[39m\u001b[38;5;124m'\u001b[39m])}\n\u001b[0;32m    103\u001b[0m \u001b[38;5;28;01mreturn\u001b[39;00m mapped_response\n",
      "File \u001b[1;32m~\\anaconda3\\envs\\env_qiskit\\lib\\site-packages\\requests\\sessions.py:635\u001b[0m, in \u001b[0;36mSession.post\u001b[1;34m(self, url, data, json, **kwargs)\u001b[0m\n\u001b[0;32m    624\u001b[0m \u001b[38;5;28;01mdef\u001b[39;00m \u001b[38;5;21mpost\u001b[39m(\u001b[38;5;28mself\u001b[39m, url, data\u001b[38;5;241m=\u001b[39m\u001b[38;5;28;01mNone\u001b[39;00m, json\u001b[38;5;241m=\u001b[39m\u001b[38;5;28;01mNone\u001b[39;00m, \u001b[38;5;241m*\u001b[39m\u001b[38;5;241m*\u001b[39mkwargs):\n\u001b[0;32m    625\u001b[0m     \u001b[38;5;124mr\u001b[39m\u001b[38;5;124;03m\"\"\"Sends a POST request. Returns :class:`Response` object.\u001b[39;00m\n\u001b[0;32m    626\u001b[0m \n\u001b[0;32m    627\u001b[0m \u001b[38;5;124;03m    :param url: URL for the new :class:`Request` object.\u001b[39;00m\n\u001b[1;32m   (...)\u001b[0m\n\u001b[0;32m    632\u001b[0m \u001b[38;5;124;03m    :rtype: requests.Response\u001b[39;00m\n\u001b[0;32m    633\u001b[0m \u001b[38;5;124;03m    \"\"\"\u001b[39;00m\n\u001b[1;32m--> 635\u001b[0m     \u001b[38;5;28;01mreturn\u001b[39;00m \u001b[38;5;28mself\u001b[39m\u001b[38;5;241m.\u001b[39mrequest(\u001b[38;5;124m\"\u001b[39m\u001b[38;5;124mPOST\u001b[39m\u001b[38;5;124m\"\u001b[39m, url, data\u001b[38;5;241m=\u001b[39mdata, json\u001b[38;5;241m=\u001b[39mjson, \u001b[38;5;241m*\u001b[39m\u001b[38;5;241m*\u001b[39mkwargs)\n",
      "File \u001b[1;32m~\\anaconda3\\envs\\env_qiskit\\lib\\site-packages\\qiskit\\providers\\ibmq\\api\\session.py:277\u001b[0m, in \u001b[0;36mRetrySession.request\u001b[1;34m(self, method, url, bare, **kwargs)\u001b[0m\n\u001b[0;32m    275\u001b[0m \u001b[38;5;28;01mtry\u001b[39;00m:\n\u001b[0;32m    276\u001b[0m     \u001b[38;5;28mself\u001b[39m\u001b[38;5;241m.\u001b[39m_log_request_info(url, method, kwargs)\n\u001b[1;32m--> 277\u001b[0m     response \u001b[38;5;241m=\u001b[39m \u001b[38;5;28msuper\u001b[39m()\u001b[38;5;241m.\u001b[39mrequest(method, final_url, headers\u001b[38;5;241m=\u001b[39mheaders, \u001b[38;5;241m*\u001b[39m\u001b[38;5;241m*\u001b[39mkwargs)\n\u001b[0;32m    278\u001b[0m     response\u001b[38;5;241m.\u001b[39mraise_for_status()\n\u001b[0;32m    279\u001b[0m \u001b[38;5;28;01mexcept\u001b[39;00m RequestException \u001b[38;5;28;01mas\u001b[39;00m ex:\n\u001b[0;32m    280\u001b[0m     \u001b[38;5;66;03m# Wrap the requests exceptions into a IBM Q custom one, for\u001b[39;00m\n\u001b[0;32m    281\u001b[0m     \u001b[38;5;66;03m# compatibility.\u001b[39;00m\n",
      "File \u001b[1;32m~\\anaconda3\\envs\\env_qiskit\\lib\\site-packages\\requests\\sessions.py:587\u001b[0m, in \u001b[0;36mSession.request\u001b[1;34m(self, method, url, params, data, headers, cookies, files, auth, timeout, allow_redirects, proxies, hooks, stream, verify, cert, json)\u001b[0m\n\u001b[0;32m    582\u001b[0m send_kwargs \u001b[38;5;241m=\u001b[39m {\n\u001b[0;32m    583\u001b[0m     \u001b[38;5;124m\"\u001b[39m\u001b[38;5;124mtimeout\u001b[39m\u001b[38;5;124m\"\u001b[39m: timeout,\n\u001b[0;32m    584\u001b[0m     \u001b[38;5;124m\"\u001b[39m\u001b[38;5;124mallow_redirects\u001b[39m\u001b[38;5;124m\"\u001b[39m: allow_redirects,\n\u001b[0;32m    585\u001b[0m }\n\u001b[0;32m    586\u001b[0m send_kwargs\u001b[38;5;241m.\u001b[39mupdate(settings)\n\u001b[1;32m--> 587\u001b[0m resp \u001b[38;5;241m=\u001b[39m \u001b[38;5;28mself\u001b[39m\u001b[38;5;241m.\u001b[39msend(prep, \u001b[38;5;241m*\u001b[39m\u001b[38;5;241m*\u001b[39msend_kwargs)\n\u001b[0;32m    589\u001b[0m \u001b[38;5;28;01mreturn\u001b[39;00m resp\n",
      "File \u001b[1;32m~\\anaconda3\\envs\\env_qiskit\\lib\\site-packages\\requests\\sessions.py:701\u001b[0m, in \u001b[0;36mSession.send\u001b[1;34m(self, request, **kwargs)\u001b[0m\n\u001b[0;32m    698\u001b[0m start \u001b[38;5;241m=\u001b[39m preferred_clock()\n\u001b[0;32m    700\u001b[0m \u001b[38;5;66;03m# Send the request\u001b[39;00m\n\u001b[1;32m--> 701\u001b[0m r \u001b[38;5;241m=\u001b[39m adapter\u001b[38;5;241m.\u001b[39msend(request, \u001b[38;5;241m*\u001b[39m\u001b[38;5;241m*\u001b[39mkwargs)\n\u001b[0;32m    703\u001b[0m \u001b[38;5;66;03m# Total elapsed time of the request (approximately)\u001b[39;00m\n\u001b[0;32m    704\u001b[0m elapsed \u001b[38;5;241m=\u001b[39m preferred_clock() \u001b[38;5;241m-\u001b[39m start\n",
      "File \u001b[1;32m~\\anaconda3\\envs\\env_qiskit\\lib\\site-packages\\requests\\adapters.py:489\u001b[0m, in \u001b[0;36mHTTPAdapter.send\u001b[1;34m(self, request, stream, timeout, verify, cert, proxies)\u001b[0m\n\u001b[0;32m    487\u001b[0m \u001b[38;5;28;01mtry\u001b[39;00m:\n\u001b[0;32m    488\u001b[0m     \u001b[38;5;28;01mif\u001b[39;00m \u001b[38;5;129;01mnot\u001b[39;00m chunked:\n\u001b[1;32m--> 489\u001b[0m         resp \u001b[38;5;241m=\u001b[39m \u001b[43mconn\u001b[49m\u001b[38;5;241;43m.\u001b[39;49m\u001b[43murlopen\u001b[49m\u001b[43m(\u001b[49m\n\u001b[0;32m    490\u001b[0m \u001b[43m            \u001b[49m\u001b[43mmethod\u001b[49m\u001b[38;5;241;43m=\u001b[39;49m\u001b[43mrequest\u001b[49m\u001b[38;5;241;43m.\u001b[39;49m\u001b[43mmethod\u001b[49m\u001b[43m,\u001b[49m\n\u001b[0;32m    491\u001b[0m \u001b[43m            \u001b[49m\u001b[43murl\u001b[49m\u001b[38;5;241;43m=\u001b[39;49m\u001b[43murl\u001b[49m\u001b[43m,\u001b[49m\n\u001b[0;32m    492\u001b[0m \u001b[43m            \u001b[49m\u001b[43mbody\u001b[49m\u001b[38;5;241;43m=\u001b[39;49m\u001b[43mrequest\u001b[49m\u001b[38;5;241;43m.\u001b[39;49m\u001b[43mbody\u001b[49m\u001b[43m,\u001b[49m\n\u001b[0;32m    493\u001b[0m \u001b[43m            \u001b[49m\u001b[43mheaders\u001b[49m\u001b[38;5;241;43m=\u001b[39;49m\u001b[43mrequest\u001b[49m\u001b[38;5;241;43m.\u001b[39;49m\u001b[43mheaders\u001b[49m\u001b[43m,\u001b[49m\n\u001b[0;32m    494\u001b[0m \u001b[43m            \u001b[49m\u001b[43mredirect\u001b[49m\u001b[38;5;241;43m=\u001b[39;49m\u001b[38;5;28;43;01mFalse\u001b[39;49;00m\u001b[43m,\u001b[49m\n\u001b[0;32m    495\u001b[0m \u001b[43m            \u001b[49m\u001b[43massert_same_host\u001b[49m\u001b[38;5;241;43m=\u001b[39;49m\u001b[38;5;28;43;01mFalse\u001b[39;49;00m\u001b[43m,\u001b[49m\n\u001b[0;32m    496\u001b[0m \u001b[43m            \u001b[49m\u001b[43mpreload_content\u001b[49m\u001b[38;5;241;43m=\u001b[39;49m\u001b[38;5;28;43;01mFalse\u001b[39;49;00m\u001b[43m,\u001b[49m\n\u001b[0;32m    497\u001b[0m \u001b[43m            \u001b[49m\u001b[43mdecode_content\u001b[49m\u001b[38;5;241;43m=\u001b[39;49m\u001b[38;5;28;43;01mFalse\u001b[39;49;00m\u001b[43m,\u001b[49m\n\u001b[0;32m    498\u001b[0m \u001b[43m            \u001b[49m\u001b[43mretries\u001b[49m\u001b[38;5;241;43m=\u001b[39;49m\u001b[38;5;28;43mself\u001b[39;49m\u001b[38;5;241;43m.\u001b[39;49m\u001b[43mmax_retries\u001b[49m\u001b[43m,\u001b[49m\n\u001b[0;32m    499\u001b[0m \u001b[43m            \u001b[49m\u001b[43mtimeout\u001b[49m\u001b[38;5;241;43m=\u001b[39;49m\u001b[43mtimeout\u001b[49m\u001b[43m,\u001b[49m\n\u001b[0;32m    500\u001b[0m \u001b[43m        \u001b[49m\u001b[43m)\u001b[49m\n\u001b[0;32m    502\u001b[0m     \u001b[38;5;66;03m# Send the request.\u001b[39;00m\n\u001b[0;32m    503\u001b[0m     \u001b[38;5;28;01melse\u001b[39;00m:\n\u001b[0;32m    504\u001b[0m         \u001b[38;5;28;01mif\u001b[39;00m \u001b[38;5;28mhasattr\u001b[39m(conn, \u001b[38;5;124m\"\u001b[39m\u001b[38;5;124mproxy_pool\u001b[39m\u001b[38;5;124m\"\u001b[39m):\n",
      "File \u001b[1;32m~\\anaconda3\\envs\\env_qiskit\\lib\\site-packages\\urllib3\\connectionpool.py:703\u001b[0m, in \u001b[0;36mHTTPConnectionPool.urlopen\u001b[1;34m(self, method, url, body, headers, retries, redirect, assert_same_host, timeout, pool_timeout, release_conn, chunked, body_pos, **response_kw)\u001b[0m\n\u001b[0;32m    700\u001b[0m     \u001b[38;5;28mself\u001b[39m\u001b[38;5;241m.\u001b[39m_prepare_proxy(conn)\n\u001b[0;32m    702\u001b[0m \u001b[38;5;66;03m# Make the request on the httplib connection object.\u001b[39;00m\n\u001b[1;32m--> 703\u001b[0m httplib_response \u001b[38;5;241m=\u001b[39m \u001b[38;5;28;43mself\u001b[39;49m\u001b[38;5;241;43m.\u001b[39;49m\u001b[43m_make_request\u001b[49m\u001b[43m(\u001b[49m\n\u001b[0;32m    704\u001b[0m \u001b[43m    \u001b[49m\u001b[43mconn\u001b[49m\u001b[43m,\u001b[49m\n\u001b[0;32m    705\u001b[0m \u001b[43m    \u001b[49m\u001b[43mmethod\u001b[49m\u001b[43m,\u001b[49m\n\u001b[0;32m    706\u001b[0m \u001b[43m    \u001b[49m\u001b[43murl\u001b[49m\u001b[43m,\u001b[49m\n\u001b[0;32m    707\u001b[0m \u001b[43m    \u001b[49m\u001b[43mtimeout\u001b[49m\u001b[38;5;241;43m=\u001b[39;49m\u001b[43mtimeout_obj\u001b[49m\u001b[43m,\u001b[49m\n\u001b[0;32m    708\u001b[0m \u001b[43m    \u001b[49m\u001b[43mbody\u001b[49m\u001b[38;5;241;43m=\u001b[39;49m\u001b[43mbody\u001b[49m\u001b[43m,\u001b[49m\n\u001b[0;32m    709\u001b[0m \u001b[43m    \u001b[49m\u001b[43mheaders\u001b[49m\u001b[38;5;241;43m=\u001b[39;49m\u001b[43mheaders\u001b[49m\u001b[43m,\u001b[49m\n\u001b[0;32m    710\u001b[0m \u001b[43m    \u001b[49m\u001b[43mchunked\u001b[49m\u001b[38;5;241;43m=\u001b[39;49m\u001b[43mchunked\u001b[49m\u001b[43m,\u001b[49m\n\u001b[0;32m    711\u001b[0m \u001b[43m\u001b[49m\u001b[43m)\u001b[49m\n\u001b[0;32m    713\u001b[0m \u001b[38;5;66;03m# If we're going to release the connection in ``finally:``, then\u001b[39;00m\n\u001b[0;32m    714\u001b[0m \u001b[38;5;66;03m# the response doesn't need to know about the connection. Otherwise\u001b[39;00m\n\u001b[0;32m    715\u001b[0m \u001b[38;5;66;03m# it will also try to release it and we'll have a double-release\u001b[39;00m\n\u001b[0;32m    716\u001b[0m \u001b[38;5;66;03m# mess.\u001b[39;00m\n\u001b[0;32m    717\u001b[0m response_conn \u001b[38;5;241m=\u001b[39m conn \u001b[38;5;28;01mif\u001b[39;00m \u001b[38;5;129;01mnot\u001b[39;00m release_conn \u001b[38;5;28;01melse\u001b[39;00m \u001b[38;5;28;01mNone\u001b[39;00m\n",
      "File \u001b[1;32m~\\anaconda3\\envs\\env_qiskit\\lib\\site-packages\\urllib3\\connectionpool.py:449\u001b[0m, in \u001b[0;36mHTTPConnectionPool._make_request\u001b[1;34m(self, conn, method, url, timeout, chunked, **httplib_request_kw)\u001b[0m\n\u001b[0;32m    444\u001b[0m             httplib_response \u001b[38;5;241m=\u001b[39m conn\u001b[38;5;241m.\u001b[39mgetresponse()\n\u001b[0;32m    445\u001b[0m         \u001b[38;5;28;01mexcept\u001b[39;00m \u001b[38;5;167;01mBaseException\u001b[39;00m \u001b[38;5;28;01mas\u001b[39;00m e:\n\u001b[0;32m    446\u001b[0m             \u001b[38;5;66;03m# Remove the TypeError from the exception chain in\u001b[39;00m\n\u001b[0;32m    447\u001b[0m             \u001b[38;5;66;03m# Python 3 (including for exceptions like SystemExit).\u001b[39;00m\n\u001b[0;32m    448\u001b[0m             \u001b[38;5;66;03m# Otherwise it looks like a bug in the code.\u001b[39;00m\n\u001b[1;32m--> 449\u001b[0m             \u001b[43msix\u001b[49m\u001b[38;5;241;43m.\u001b[39;49m\u001b[43mraise_from\u001b[49m\u001b[43m(\u001b[49m\u001b[43me\u001b[49m\u001b[43m,\u001b[49m\u001b[43m \u001b[49m\u001b[38;5;28;43;01mNone\u001b[39;49;00m\u001b[43m)\u001b[49m\n\u001b[0;32m    450\u001b[0m \u001b[38;5;28;01mexcept\u001b[39;00m (SocketTimeout, BaseSSLError, SocketError) \u001b[38;5;28;01mas\u001b[39;00m e:\n\u001b[0;32m    451\u001b[0m     \u001b[38;5;28mself\u001b[39m\u001b[38;5;241m.\u001b[39m_raise_timeout(err\u001b[38;5;241m=\u001b[39me, url\u001b[38;5;241m=\u001b[39murl, timeout_value\u001b[38;5;241m=\u001b[39mread_timeout)\n",
      "File \u001b[1;32m<string>:3\u001b[0m, in \u001b[0;36mraise_from\u001b[1;34m(value, from_value)\u001b[0m\n",
      "File \u001b[1;32m~\\anaconda3\\envs\\env_qiskit\\lib\\site-packages\\urllib3\\connectionpool.py:444\u001b[0m, in \u001b[0;36mHTTPConnectionPool._make_request\u001b[1;34m(self, conn, method, url, timeout, chunked, **httplib_request_kw)\u001b[0m\n\u001b[0;32m    441\u001b[0m \u001b[38;5;28;01mexcept\u001b[39;00m \u001b[38;5;167;01mTypeError\u001b[39;00m:\n\u001b[0;32m    442\u001b[0m     \u001b[38;5;66;03m# Python 3\u001b[39;00m\n\u001b[0;32m    443\u001b[0m     \u001b[38;5;28;01mtry\u001b[39;00m:\n\u001b[1;32m--> 444\u001b[0m         httplib_response \u001b[38;5;241m=\u001b[39m \u001b[43mconn\u001b[49m\u001b[38;5;241;43m.\u001b[39;49m\u001b[43mgetresponse\u001b[49m\u001b[43m(\u001b[49m\u001b[43m)\u001b[49m\n\u001b[0;32m    445\u001b[0m     \u001b[38;5;28;01mexcept\u001b[39;00m \u001b[38;5;167;01mBaseException\u001b[39;00m \u001b[38;5;28;01mas\u001b[39;00m e:\n\u001b[0;32m    446\u001b[0m         \u001b[38;5;66;03m# Remove the TypeError from the exception chain in\u001b[39;00m\n\u001b[0;32m    447\u001b[0m         \u001b[38;5;66;03m# Python 3 (including for exceptions like SystemExit).\u001b[39;00m\n\u001b[0;32m    448\u001b[0m         \u001b[38;5;66;03m# Otherwise it looks like a bug in the code.\u001b[39;00m\n\u001b[0;32m    449\u001b[0m         six\u001b[38;5;241m.\u001b[39mraise_from(e, \u001b[38;5;28;01mNone\u001b[39;00m)\n",
      "File \u001b[1;32m~\\anaconda3\\envs\\env_qiskit\\lib\\http\\client.py:1374\u001b[0m, in \u001b[0;36mHTTPConnection.getresponse\u001b[1;34m(self)\u001b[0m\n\u001b[0;32m   1372\u001b[0m \u001b[38;5;28;01mtry\u001b[39;00m:\n\u001b[0;32m   1373\u001b[0m     \u001b[38;5;28;01mtry\u001b[39;00m:\n\u001b[1;32m-> 1374\u001b[0m         \u001b[43mresponse\u001b[49m\u001b[38;5;241;43m.\u001b[39;49m\u001b[43mbegin\u001b[49m\u001b[43m(\u001b[49m\u001b[43m)\u001b[49m\n\u001b[0;32m   1375\u001b[0m     \u001b[38;5;28;01mexcept\u001b[39;00m \u001b[38;5;167;01mConnectionError\u001b[39;00m:\n\u001b[0;32m   1376\u001b[0m         \u001b[38;5;28mself\u001b[39m\u001b[38;5;241m.\u001b[39mclose()\n",
      "File \u001b[1;32m~\\anaconda3\\envs\\env_qiskit\\lib\\http\\client.py:318\u001b[0m, in \u001b[0;36mHTTPResponse.begin\u001b[1;34m(self)\u001b[0m\n\u001b[0;32m    316\u001b[0m \u001b[38;5;66;03m# read until we get a non-100 response\u001b[39;00m\n\u001b[0;32m    317\u001b[0m \u001b[38;5;28;01mwhile\u001b[39;00m \u001b[38;5;28;01mTrue\u001b[39;00m:\n\u001b[1;32m--> 318\u001b[0m     version, status, reason \u001b[38;5;241m=\u001b[39m \u001b[38;5;28;43mself\u001b[39;49m\u001b[38;5;241;43m.\u001b[39;49m\u001b[43m_read_status\u001b[49m\u001b[43m(\u001b[49m\u001b[43m)\u001b[49m\n\u001b[0;32m    319\u001b[0m     \u001b[38;5;28;01mif\u001b[39;00m status \u001b[38;5;241m!=\u001b[39m CONTINUE:\n\u001b[0;32m    320\u001b[0m         \u001b[38;5;28;01mbreak\u001b[39;00m\n",
      "File \u001b[1;32m~\\anaconda3\\envs\\env_qiskit\\lib\\http\\client.py:279\u001b[0m, in \u001b[0;36mHTTPResponse._read_status\u001b[1;34m(self)\u001b[0m\n\u001b[0;32m    278\u001b[0m \u001b[38;5;28;01mdef\u001b[39;00m \u001b[38;5;21m_read_status\u001b[39m(\u001b[38;5;28mself\u001b[39m):\n\u001b[1;32m--> 279\u001b[0m     line \u001b[38;5;241m=\u001b[39m \u001b[38;5;28mstr\u001b[39m(\u001b[38;5;28;43mself\u001b[39;49m\u001b[38;5;241;43m.\u001b[39;49m\u001b[43mfp\u001b[49m\u001b[38;5;241;43m.\u001b[39;49m\u001b[43mreadline\u001b[49m\u001b[43m(\u001b[49m\u001b[43m_MAXLINE\u001b[49m\u001b[43m \u001b[49m\u001b[38;5;241;43m+\u001b[39;49m\u001b[43m \u001b[49m\u001b[38;5;241;43m1\u001b[39;49m\u001b[43m)\u001b[49m, \u001b[38;5;124m\"\u001b[39m\u001b[38;5;124miso-8859-1\u001b[39m\u001b[38;5;124m\"\u001b[39m)\n\u001b[0;32m    280\u001b[0m     \u001b[38;5;28;01mif\u001b[39;00m \u001b[38;5;28mlen\u001b[39m(line) \u001b[38;5;241m>\u001b[39m _MAXLINE:\n\u001b[0;32m    281\u001b[0m         \u001b[38;5;28;01mraise\u001b[39;00m LineTooLong(\u001b[38;5;124m\"\u001b[39m\u001b[38;5;124mstatus line\u001b[39m\u001b[38;5;124m\"\u001b[39m)\n",
      "File \u001b[1;32m~\\anaconda3\\envs\\env_qiskit\\lib\\socket.py:705\u001b[0m, in \u001b[0;36mSocketIO.readinto\u001b[1;34m(self, b)\u001b[0m\n\u001b[0;32m    703\u001b[0m \u001b[38;5;28;01mwhile\u001b[39;00m \u001b[38;5;28;01mTrue\u001b[39;00m:\n\u001b[0;32m    704\u001b[0m     \u001b[38;5;28;01mtry\u001b[39;00m:\n\u001b[1;32m--> 705\u001b[0m         \u001b[38;5;28;01mreturn\u001b[39;00m \u001b[38;5;28;43mself\u001b[39;49m\u001b[38;5;241;43m.\u001b[39;49m\u001b[43m_sock\u001b[49m\u001b[38;5;241;43m.\u001b[39;49m\u001b[43mrecv_into\u001b[49m\u001b[43m(\u001b[49m\u001b[43mb\u001b[49m\u001b[43m)\u001b[49m\n\u001b[0;32m    706\u001b[0m     \u001b[38;5;28;01mexcept\u001b[39;00m timeout:\n\u001b[0;32m    707\u001b[0m         \u001b[38;5;28mself\u001b[39m\u001b[38;5;241m.\u001b[39m_timeout_occurred \u001b[38;5;241m=\u001b[39m \u001b[38;5;28;01mTrue\u001b[39;00m\n",
      "File \u001b[1;32m~\\anaconda3\\envs\\env_qiskit\\lib\\ssl.py:1273\u001b[0m, in \u001b[0;36mSSLSocket.recv_into\u001b[1;34m(self, buffer, nbytes, flags)\u001b[0m\n\u001b[0;32m   1269\u001b[0m     \u001b[38;5;28;01mif\u001b[39;00m flags \u001b[38;5;241m!=\u001b[39m \u001b[38;5;241m0\u001b[39m:\n\u001b[0;32m   1270\u001b[0m         \u001b[38;5;28;01mraise\u001b[39;00m \u001b[38;5;167;01mValueError\u001b[39;00m(\n\u001b[0;32m   1271\u001b[0m           \u001b[38;5;124m\"\u001b[39m\u001b[38;5;124mnon-zero flags not allowed in calls to recv_into() on \u001b[39m\u001b[38;5;132;01m%s\u001b[39;00m\u001b[38;5;124m\"\u001b[39m \u001b[38;5;241m%\u001b[39m\n\u001b[0;32m   1272\u001b[0m           \u001b[38;5;28mself\u001b[39m\u001b[38;5;241m.\u001b[39m\u001b[38;5;18m__class__\u001b[39m)\n\u001b[1;32m-> 1273\u001b[0m     \u001b[38;5;28;01mreturn\u001b[39;00m \u001b[38;5;28;43mself\u001b[39;49m\u001b[38;5;241;43m.\u001b[39;49m\u001b[43mread\u001b[49m\u001b[43m(\u001b[49m\u001b[43mnbytes\u001b[49m\u001b[43m,\u001b[49m\u001b[43m \u001b[49m\u001b[43mbuffer\u001b[49m\u001b[43m)\u001b[49m\n\u001b[0;32m   1274\u001b[0m \u001b[38;5;28;01melse\u001b[39;00m:\n\u001b[0;32m   1275\u001b[0m     \u001b[38;5;28;01mreturn\u001b[39;00m \u001b[38;5;28msuper\u001b[39m()\u001b[38;5;241m.\u001b[39mrecv_into(buffer, nbytes, flags)\n",
      "File \u001b[1;32m~\\anaconda3\\envs\\env_qiskit\\lib\\ssl.py:1129\u001b[0m, in \u001b[0;36mSSLSocket.read\u001b[1;34m(self, len, buffer)\u001b[0m\n\u001b[0;32m   1127\u001b[0m \u001b[38;5;28;01mtry\u001b[39;00m:\n\u001b[0;32m   1128\u001b[0m     \u001b[38;5;28;01mif\u001b[39;00m buffer \u001b[38;5;129;01mis\u001b[39;00m \u001b[38;5;129;01mnot\u001b[39;00m \u001b[38;5;28;01mNone\u001b[39;00m:\n\u001b[1;32m-> 1129\u001b[0m         \u001b[38;5;28;01mreturn\u001b[39;00m \u001b[38;5;28;43mself\u001b[39;49m\u001b[38;5;241;43m.\u001b[39;49m\u001b[43m_sslobj\u001b[49m\u001b[38;5;241;43m.\u001b[39;49m\u001b[43mread\u001b[49m\u001b[43m(\u001b[49m\u001b[38;5;28;43mlen\u001b[39;49m\u001b[43m,\u001b[49m\u001b[43m \u001b[49m\u001b[43mbuffer\u001b[49m\u001b[43m)\u001b[49m\n\u001b[0;32m   1130\u001b[0m     \u001b[38;5;28;01melse\u001b[39;00m:\n\u001b[0;32m   1131\u001b[0m         \u001b[38;5;28;01mreturn\u001b[39;00m \u001b[38;5;28mself\u001b[39m\u001b[38;5;241m.\u001b[39m_sslobj\u001b[38;5;241m.\u001b[39mread(\u001b[38;5;28mlen\u001b[39m)\n",
      "\u001b[1;31mKeyboardInterrupt\u001b[0m: "
     ]
    }
   ],
   "source": [
    "counts_list = execute_and_collect(circuit_list, backend, 'threeQubits_variational_9_5', shots=1024)\n",
    "data = [input_map_list, inputs_spam, counts_list]\n",
    "pickle.dump(data, open(\"../../data/threeQubits_variational_9_5.p\", \"wb\"))"
   ]
  },
  {
   "cell_type": "code",
   "execution_count": null,
   "metadata": {},
   "outputs": [],
   "source": []
  }
 ],
 "metadata": {
  "kernelspec": {
   "display_name": "env_qiskit",
   "language": "python",
   "name": "env_qiskit"
  },
  "language_info": {
   "codemirror_mode": {
    "name": "ipython",
    "version": 3
   },
   "file_extension": ".py",
   "mimetype": "text/x-python",
   "name": "python",
   "nbconvert_exporter": "python",
   "pygments_lexer": "ipython3",
   "version": "3.10.4"
  }
 },
 "nbformat": 4,
 "nbformat_minor": 4
}
