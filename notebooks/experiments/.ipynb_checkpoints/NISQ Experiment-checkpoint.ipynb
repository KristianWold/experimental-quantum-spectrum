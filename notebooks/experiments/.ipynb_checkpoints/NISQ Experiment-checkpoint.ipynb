{
 "cells": [
  {
   "cell_type": "markdown",
   "metadata": {},
   "source": [
    "# NISQ Experiment"
   ]
  },
  {
   "cell_type": "code",
   "execution_count": 1,
   "metadata": {},
   "outputs": [],
   "source": [
    "import sys\n",
    "sys.path.insert(0, '../../src/')\n",
    "\n",
    "import numpy as np\n",
    "import qiskit as qk\n",
    "import matplotlib.pyplot as plt\n",
    "import multiprocessing as mp\n",
    "import random\n",
    "import pickle\n",
    "\n",
    "from qiskit.quantum_info import DensityMatrix\n",
    "from qiskit.quantum_info import Operator\n",
    "from scipy.linalg import sqrtm\n",
    "from tqdm.notebook import tqdm\n",
    "from qiskit.providers.aer import AerSimulator\n",
    "\n",
    "from cost_functions import *\n",
    "from optimization import *\n",
    "from quantum_maps import *\n",
    "from quantum_tools import *\n",
    "#np.set_printoptions(threshold=sys.maxsize)"
   ]
  },
  {
   "cell_type": "code",
   "execution_count": 2,
   "metadata": {},
   "outputs": [
    {
     "ename": "QiskitBackendNotFoundError",
     "evalue": "'No backend matches the criteria'",
     "output_type": "error",
     "traceback": [
      "\u001b[0;31m---------------------------------------------------------------------------\u001b[0m",
      "\u001b[0;31mQiskitBackendNotFoundError\u001b[0m                Traceback (most recent call last)",
      "\u001b[0;32m<ipython-input-2-003084e44678>\u001b[0m in \u001b[0;36m<module>\u001b[0;34m\u001b[0m\n\u001b[1;32m      2\u001b[0m \u001b[0mprovider\u001b[0m \u001b[0;34m=\u001b[0m \u001b[0mqk\u001b[0m\u001b[0;34m.\u001b[0m\u001b[0mIBMQ\u001b[0m\u001b[0;34m.\u001b[0m\u001b[0mload_account\u001b[0m\u001b[0;34m(\u001b[0m\u001b[0;34m)\u001b[0m\u001b[0;34m\u001b[0m\u001b[0;34m\u001b[0m\u001b[0m\n\u001b[1;32m      3\u001b[0m \u001b[0mprovider\u001b[0m \u001b[0;34m=\u001b[0m \u001b[0mqk\u001b[0m\u001b[0;34m.\u001b[0m\u001b[0mIBMQ\u001b[0m\u001b[0;34m.\u001b[0m\u001b[0mget_provider\u001b[0m\u001b[0;34m(\u001b[0m\u001b[0mhub\u001b[0m\u001b[0;34m=\u001b[0m\u001b[0;34m'ibm-q'\u001b[0m\u001b[0;34m,\u001b[0m \u001b[0mgroup\u001b[0m\u001b[0;34m=\u001b[0m\u001b[0;34m'open'\u001b[0m\u001b[0;34m,\u001b[0m \u001b[0mproject\u001b[0m\u001b[0;34m=\u001b[0m\u001b[0;34m'main'\u001b[0m\u001b[0;34m)\u001b[0m\u001b[0;34m\u001b[0m\u001b[0;34m\u001b[0m\u001b[0m\n\u001b[0;32m----> 4\u001b[0;31m \u001b[0mbackend\u001b[0m \u001b[0;34m=\u001b[0m \u001b[0mprovider\u001b[0m\u001b[0;34m.\u001b[0m\u001b[0mget_backend\u001b[0m\u001b[0;34m(\u001b[0m\u001b[0;34m\"ibmq_santiago\"\u001b[0m\u001b[0;34m)\u001b[0m\u001b[0;34m\u001b[0m\u001b[0;34m\u001b[0m\u001b[0m\n\u001b[0m",
      "\u001b[0;32m~/anaconda3/envs/env_qiskit/lib/python3.7/site-packages/qiskit/providers/provider.py\u001b[0m in \u001b[0;36mget_backend\u001b[0;34m(self, name, **kwargs)\u001b[0m\n\u001b[1;32m     53\u001b[0m             \u001b[0;32mraise\u001b[0m \u001b[0mQiskitBackendNotFoundError\u001b[0m\u001b[0;34m(\u001b[0m\u001b[0;34m\"More than one backend matches the criteria\"\u001b[0m\u001b[0;34m)\u001b[0m\u001b[0;34m\u001b[0m\u001b[0;34m\u001b[0m\u001b[0m\n\u001b[1;32m     54\u001b[0m         \u001b[0;32mif\u001b[0m \u001b[0;32mnot\u001b[0m \u001b[0mbackends\u001b[0m\u001b[0;34m:\u001b[0m\u001b[0;34m\u001b[0m\u001b[0;34m\u001b[0m\u001b[0m\n\u001b[0;32m---> 55\u001b[0;31m             \u001b[0;32mraise\u001b[0m \u001b[0mQiskitBackendNotFoundError\u001b[0m\u001b[0;34m(\u001b[0m\u001b[0;34m\"No backend matches the criteria\"\u001b[0m\u001b[0;34m)\u001b[0m\u001b[0;34m\u001b[0m\u001b[0;34m\u001b[0m\u001b[0m\n\u001b[0m\u001b[1;32m     56\u001b[0m \u001b[0;34m\u001b[0m\u001b[0m\n\u001b[1;32m     57\u001b[0m         \u001b[0;32mreturn\u001b[0m \u001b[0mbackends\u001b[0m\u001b[0;34m[\u001b[0m\u001b[0;36m0\u001b[0m\u001b[0;34m]\u001b[0m\u001b[0;34m\u001b[0m\u001b[0;34m\u001b[0m\u001b[0m\n",
      "\u001b[0;31mQiskitBackendNotFoundError\u001b[0m: 'No backend matches the criteria'"
     ]
    }
   ],
   "source": [
    "#qk.IBMQ.save_account(\"66718f8f8aef22bcb6ebe86ad94a11f1fd1f4c55100829bb13f16e6b448e0a1ec6d09c459d738f58d0cbd8398a2a1f5e185a4706a61b6f896a5ce2983e136429\", overwrite=True) \n",
    "provider = qk.IBMQ.load_account()\n",
    "provider = qk.IBMQ.get_provider(hub='ibm-q', group='open', project='main')\n",
    "backend = provider.get_backend(\"ibmq_santiago\")"
   ]
  },
  {
   "cell_type": "markdown",
   "metadata": {},
   "source": [
    "## Quantum State Tomography"
   ]
  },
  {
   "cell_type": "markdown",
   "metadata": {},
   "source": [
    "### Two Qubits"
   ]
  },
  {
   "cell_type": "code",
   "execution_count": 2,
   "metadata": {},
   "outputs": [
    {
     "ename": "NameError",
     "evalue": "name 'StateTomography' is not defined",
     "output_type": "error",
     "traceback": [
      "\u001b[0;31m---------------------------------------------------------------------------\u001b[0m",
      "\u001b[0;31mNameError\u001b[0m                                 Traceback (most recent call last)",
      "\u001b[0;32m<ipython-input-2-917f39472740>\u001b[0m in \u001b[0;36m<module>\u001b[0;34m\u001b[0m\n\u001b[1;32m     12\u001b[0m \u001b[0;32mfor\u001b[0m \u001b[0mbasis\u001b[0m \u001b[0;32min\u001b[0m \u001b[0mbasis_list\u001b[0m\u001b[0;34m:\u001b[0m\u001b[0;34m\u001b[0m\u001b[0;34m\u001b[0m\u001b[0m\n\u001b[1;32m     13\u001b[0m     \u001b[0mcircuit\u001b[0m \u001b[0;34m=\u001b[0m \u001b[0mqk\u001b[0m\u001b[0;34m.\u001b[0m\u001b[0mcircuit\u001b[0m\u001b[0;34m.\u001b[0m\u001b[0mQuantumCircuit\u001b[0m\u001b[0;34m.\u001b[0m\u001b[0mcompose\u001b[0m\u001b[0;34m(\u001b[0m\u001b[0mbasis\u001b[0m\u001b[0;34m,\u001b[0m \u001b[0mcircuit_target\u001b[0m\u001b[0;34m)\u001b[0m\u001b[0;34m\u001b[0m\u001b[0;34m\u001b[0m\u001b[0m\n\u001b[0;32m---> 14\u001b[0;31m     \u001b[0mqsr_list\u001b[0m\u001b[0;34m.\u001b[0m\u001b[0mappend\u001b[0m\u001b[0;34m(\u001b[0m\u001b[0mStateTomography\u001b[0m\u001b[0;34m(\u001b[0m\u001b[0mcircuit\u001b[0m\u001b[0;34m)\u001b[0m\u001b[0;34m)\u001b[0m\u001b[0;34m\u001b[0m\u001b[0;34m\u001b[0m\u001b[0m\n\u001b[0m\u001b[1;32m     15\u001b[0m \u001b[0;34m\u001b[0m\u001b[0m\n\u001b[1;32m     16\u001b[0m \u001b[0mresult_list\u001b[0m \u001b[0;34m=\u001b[0m \u001b[0;34m[\u001b[0m\u001b[0mqsr\u001b[0m\u001b[0;34m.\u001b[0m\u001b[0mrun\u001b[0m\u001b[0;34m(\u001b[0m\u001b[0mbackend\u001b[0m\u001b[0;34m,\u001b[0m \u001b[0mshots\u001b[0m\u001b[0;34m=\u001b[0m\u001b[0;36m20000\u001b[0m\u001b[0;34m)\u001b[0m\u001b[0;34m.\u001b[0m\u001b[0mblock_for_results\u001b[0m\u001b[0;34m(\u001b[0m\u001b[0;34m)\u001b[0m \u001b[0;32mfor\u001b[0m \u001b[0mqsr\u001b[0m \u001b[0;32min\u001b[0m \u001b[0mtqdm\u001b[0m\u001b[0;34m(\u001b[0m\u001b[0mqsr_list\u001b[0m\u001b[0;34m)\u001b[0m\u001b[0;34m]\u001b[0m\u001b[0;34m\u001b[0m\u001b[0;34m\u001b[0m\u001b[0m\n",
      "\u001b[0;31mNameError\u001b[0m: name 'StateTomography' is not defined"
     ]
    }
   ],
   "source": [
    "n = 2\n",
    "\n",
    "circuit_target = qk.QuantumCircuit(n)\n",
    "circuit_target.h(0)\n",
    "circuit_target.s(1)\n",
    "circuit_target.cnot(0,1)\n",
    "\n",
    "basis_list = [prepare_input(numberToBase(i, 6, n), return_mode = \"circuit\") for i in range(6**n)]\n",
    "state_input_list = [prepare_input(numberToBase(i, 6, n), return_mode = \"density\") for i in range(6**n)]\n",
    "\n",
    "qsr_list = []\n",
    "for basis in basis_list:\n",
    "    circuit = qk.circuit.QuantumCircuit.compose(basis, circuit_target)\n",
    "    qsr_list.append(StateTomography(circuit))\n",
    "    \n",
    "result_list = [qsr.run(backend, shots=20000).block_for_results() for qsr in tqdm(qsr_list)]\n",
    "state_target_list = [np.array(result.analysis_results(\"state\").value) for result in result_list]\n",
    "\n",
    "pickle.dump([state_input_list, state_target_list], open(\"twoQubits_singleBlock.p\", \"wb\"))"
   ]
  },
  {
   "cell_type": "markdown",
   "metadata": {},
   "source": [
    "### Three Qubits"
   ]
  },
  {
   "cell_type": "code",
   "execution_count": 5,
   "metadata": {},
   "outputs": [
    {
     "data": {
      "application/vnd.jupyter.widget-view+json": {
       "model_id": "feba8c4d34a1401b85ca6a9d76420a2e",
       "version_major": 2,
       "version_minor": 0
      },
      "text/plain": [
       "HBox(children=(HTML(value=''), FloatProgress(value=0.0, max=216.0), HTML(value='')))"
      ]
     },
     "metadata": {},
     "output_type": "display_data"
    },
    {
     "name": "stdout",
     "output_type": "stream",
     "text": [
      "\n"
     ]
    }
   ],
   "source": [
    "n = 3\n",
    "\n",
    "circuit_target = qk.QuantumCircuit(n)\n",
    "circuit_target.h(0)\n",
    "circuit_target.s(1)\n",
    "circuit_target.cnot(0,1)\n",
    "circuit_target.h(1)\n",
    "circuit_target.s(2)\n",
    "circuit_target.cnot(1,2)\n",
    "\n",
    "basis_list = [prepare_input(numberToBase(i, 6, n), return_mode = \"circuit\") for i in range(6**n)]\n",
    "state_input_list = [prepare_input(numberToBase(i, 6, n), return_mode = \"density\") for i in range(6**n)]\n",
    "\n",
    "qsr_list = []\n",
    "for basis in basis_list:\n",
    "    circuit = qk.circuit.QuantumCircuit.compose(basis, circuit_target)\n",
    "    qsr_list.append(StateTomography(circuit))\n",
    "    \n",
    "result_list = [qsr.run(backend, shots=20000).block_for_results() for qsr in tqdm(qsr_list)]\n",
    "state_target_list = [np.array(result.analysis_results(\"state\").value) for result in result_list]\n",
    "\n",
    "pickle.dump([state_input_list, state_target_list], open(\"threeQubits_singleBlock.p\", \"wb\"))"
   ]
  },
  {
   "cell_type": "markdown",
   "metadata": {},
   "source": [
    "## Pauli String Expectation Values"
   ]
  },
  {
   "cell_type": "markdown",
   "metadata": {},
   "source": [
    "### Two Qubits"
   ]
  },
  {
   "cell_type": "code",
   "execution_count": 3,
   "metadata": {},
   "outputs": [],
   "source": [
    "backend = AerSimulator()\n",
    "n = 3\n",
    "N = 1000\n",
    "circuit_target = qk.QuantumCircuit(n)\n",
    "circuit_target.h(0)\n",
    "circuit_target.s(1)\n",
    "circuit_target.cnot(0,1)\n",
    "circuit_target.h(1)\n",
    "circuit_target.s(2)\n",
    "circuit_target.cnot(1,2)\n",
    "\n",
    "np.random.seed(42)\n",
    "random.seed(42)\n",
    "\n",
    "input_list = []\n",
    "circuit_list = []\n",
    "for i in range(N):\n",
    "    \n",
    "    index = np.random.randint(0, 6**n)\n",
    "    config = numberToBase(index, 6, n)\n",
    "    state = prepare_input(config)\n",
    "    state_circuit = prepare_input(config, return_mode = \"circuit\")\n",
    "\n",
    "    index = np.random.randint(1, 4**n)\n",
    "    config = numberToBase(index, 4, n)\n",
    "    observable = pauli_observable(config)\n",
    "    observable_circuit = pauli_observable(config, return_mode = \"circuit\")\n",
    "    \n",
    "    input_list.append([state, observable])\n",
    "    circuit = state_circuit\n",
    "    circuit = circuit.compose(circuit_target)\n",
    "    circuit.add_register(observable_circuit.cregs[0])\n",
    "    circuit = circuit.compose(observable_circuit)\n",
    "    \n",
    "    circuit_list.append(circuit)\n",
    "    \n",
    "result_list = qk.execute(circuit_list, backend, shots = 10000).result()\n",
    "counts_list = [result_list.get_counts(circuit) for circuit in circuit_list]\n",
    "\n",
    "expectation_list = [expected_parity(counts) for counts in counts_list]\n",
    "data = [input_list, expectation_list]\n",
    "\n",
    "pickle.dump(data, open(\"..\\..\\data\\threeQubits_expectation.p\", \"wb\"))"
   ]
  },
  {
   "cell_type": "code",
   "execution_count": 4,
   "metadata": {},
   "outputs": [],
   "source": [
    "backend = AerSimulator()\n",
    "n = 4\n",
    "N = 1000\n",
    "circuit_target = qk.QuantumCircuit(n)\n",
    "circuit_target.h(0)\n",
    "circuit_target.s(1)\n",
    "circuit_target.cnot(0,1)\n",
    "circuit_target.h(1)\n",
    "circuit_target.s(2)\n",
    "circuit_target.cnot(1,2)\n",
    "circuit_target.h(2)\n",
    "circuit_target.s(3)\n",
    "circuit_target.cnot(2,3)\n",
    "\n",
    "np.random.seed(42)\n",
    "random.seed(42)\n",
    "\n",
    "input_list = []\n",
    "circuit_list = []\n",
    "for i in range(N):\n",
    "    \n",
    "    index = np.random.randint(0, 6**n)\n",
    "    config = numberToBase(index, 6, n)\n",
    "    state = prepare_input(config)\n",
    "    state_circuit = prepare_input(config, return_mode = \"circuit\")\n",
    "\n",
    "    index = np.random.randint(1, 4**n)\n",
    "    config = numberToBase(index, 4, n)\n",
    "    observable = pauli_observable(config)\n",
    "    observable_circuit = pauli_observable(config, return_mode = \"circuit\")\n",
    "    \n",
    "    input_list.append([state, observable])\n",
    "    circuit = state_circuit\n",
    "    circuit = circuit.compose(circuit_target)\n",
    "    circuit.add_register(observable_circuit.cregs[0])\n",
    "    circuit = circuit.compose(observable_circuit)\n",
    "    \n",
    "    circuit_list.append(circuit)\n",
    "    \n",
    "result_list = qk.execute(circuit_list, backend, shots = 10000).result()\n",
    "counts_list = [result_list.get_counts(circuit) for circuit in circuit_list]\n",
    "\n",
    "expectation_list = [expected_parity(counts) for counts in counts_list]\n",
    "data = [input_list, expectation_list]\n",
    "\n",
    "pickle.dump(data, open(\"..\\..\\data\\threeQubits_expectation.p\", \"wb\"))"
   ]
  }
 ],
 "metadata": {
  "kernelspec": {
   "display_name": "env_qiskit",
   "language": "python",
   "name": "env_qiskit"
  },
  "language_info": {
   "codemirror_mode": {
    "name": "ipython",
    "version": 3
   },
   "file_extension": ".py",
   "mimetype": "text/x-python",
   "name": "python",
   "nbconvert_exporter": "python",
   "pygments_lexer": "ipython3",
   "version": "3.7.10"
  }
 },
 "nbformat": 4,
 "nbformat_minor": 4
}
