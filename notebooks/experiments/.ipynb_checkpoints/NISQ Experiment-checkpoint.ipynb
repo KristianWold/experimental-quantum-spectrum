{
 "cells": [
  {
   "cell_type": "markdown",
   "metadata": {},
   "source": [
    "# NISQ Experiment"
   ]
  },
  {
   "cell_type": "code",
   "execution_count": 1,
   "metadata": {},
   "outputs": [],
   "source": [
    "import sys\n",
    "sys.path.insert(0, '../../src_numpy/')\n",
    "\n",
    "import numpy as np\n",
    "import qiskit as qk\n",
    "import matplotlib.pyplot as plt\n",
    "import multiprocessing as mp\n",
    "import random\n",
    "import pickle\n",
    "\n",
    "from qiskit.quantum_info import DensityMatrix\n",
    "from qiskit.quantum_info import Operator\n",
    "from qiskit import Aer\n",
    "from scipy.linalg import sqrtm\n",
    "from tqdm.notebook import tqdm\n",
    "from qiskit.providers.aer import AerSimulator\n",
    "from copy import deepcopy\n",
    "\n",
    "from loss_functions import *\n",
    "from optimization import *\n",
    "from quantum_maps import *\n",
    "from quantum_tools import *\n",
    "from utils import *\n",
    "from experiments import *\n",
    "from qiskit.test.mock.backends import FakeCasablanca\n",
    "#np.set_printoptions(threshold=sys.maxsize)"
   ]
  },
  {
   "cell_type": "code",
   "execution_count": 2,
   "metadata": {},
   "outputs": [],
   "source": [
    "#qk.IBMQ.save_account(\"66718f8f8aef22bcb6ebe86ad94a11f1fd1f4c55100829bb13f16e6b448e0a1ec6d09c459d738f58d0cbd8398a2a1f5e185a4706a61b6f896a5ce2983e136429\", overwrite=True) \n",
    "#provider = qk.IBMQ.load_account()\n",
    "#provider = qk.IBMQ.get_provider(hub='ibm-q', group='open', project='main')\n",
    "#backend = provider.get_backend(\"ibm_oslo\")\n",
    "backend = FakeCasablanca()\n",
    "#backend = AerSimulator()"
   ]
  },
  {
   "cell_type": "markdown",
   "metadata": {},
   "source": [
    "## Pauli String Expectation Values"
   ]
  },
  {
   "cell_type": "markdown",
   "metadata": {},
   "source": [
    "## Three Qubits Error Correction, QFT"
   ]
  },
  {
   "cell_type": "code",
   "execution_count": 4,
   "metadata": {},
   "outputs": [],
   "source": [
    "def qft(n):\n",
    "    circuit = qk.QuantumCircuit(n)\n",
    "    for i in range(n):\n",
    "        circuit.h(i)\n",
    "        for j in range(i+1, n):\n",
    "            circuit.cp(2*np.pi/2**(j-i+1), j, i)\n",
    "            \n",
    "    return circuit"
   ]
  },
  {
   "cell_type": "code",
   "execution_count": 5,
   "metadata": {},
   "outputs": [
    {
     "data": {
      "application/vnd.jupyter.widget-view+json": {
       "model_id": "c4238e6136864a769f61c9bf1f6ba75e",
       "version_major": 2,
       "version_minor": 0
      },
      "text/plain": [
       "  0%|          | 0/5 [00:00<?, ?it/s]"
      ]
     },
     "metadata": {},
     "output_type": "display_data"
    }
   ],
   "source": [
    "n = 3\n",
    "circuit_target = qft(n)\n",
    "\n",
    "np.random.seed(42)\n",
    "random.seed(42)\n",
    "\n",
    "np.random.seed(42)\n",
    "random.seed(42)\n",
    "\n",
    "N = 500 - 64\n",
    "input_list, circuit_list = generate_pauli_circuits(circuit_target, N, trace=False)\n",
    "\n",
    "for i in range(8):\n",
    "    circuit_list.extend(generate_bitstring_circuits(n))\n",
    "\n",
    "job_list = []\n",
    "for i in tqdm(range(5)):\n",
    "    job = qk.execute(circuit_list[i*100:(i+1)*100], backend, shots = 20000, optimization_level = 0)\n",
    "    job_list.append(job)\n",
    "    \n",
    "\n",
    "counts_list = []\n",
    "for i, job in enumerate(job_list):\n",
    "    result = job.result()\n",
    "    counts_list.extend([result.get_counts(circuit) for circuit in circuit_list[i*100:(i+1)*100]])\n",
    "\n",
    "data = [input_list, counts_list]\n",
    "\n",
    "pickle.dump(data, open(\"..\\..\\data\\threeQubits_expectation_qft_error.p\", \"wb\"))"
   ]
  },
  {
   "cell_type": "code",
   "execution_count": 6,
   "metadata": {},
   "outputs": [],
   "source": [
    "def variational_circuit(n):\n",
    "    theta = np.random.uniform(-np.pi, np.pi, 4*n)\n",
    "    circuit = qk.QuantumCircuit(n)\n",
    "    for i, angle in enumerate(theta[:n]):\n",
    "        circuit.ry(angle, i)\n",
    "    \n",
    "    for i, angle in enumerate(theta[n:2*n]):\n",
    "        circuit.crx(angle, i, (i+1)%n)\n",
    "        \n",
    "    #for i, angle in enumerate(theta[2*n:3*n]):\n",
    "    #    circuit.ry(angle, i)\n",
    "        \n",
    "    #for i, angle in enumerate(theta[3*n:]):\n",
    "    #    circuit.crx(angle, (n-i)%n, n-i-1)\n",
    "    \n",
    "    return circuit"
   ]
  },
  {
   "cell_type": "markdown",
   "metadata": {},
   "source": [
    "## Two Qubit Error Correction With Trace"
   ]
  },
  {
   "cell_type": "code",
   "execution_count": 4,
   "metadata": {},
   "outputs": [
    {
     "name": "stdout",
     "output_type": "stream",
     "text": [
      "        ┌───┐      ░ ┌───┐      ░ ┌─┐   \n",
      "q649_0: ┤ H ├──■───░─┤ H ├──■───░─┤M├───\n",
      "        └───┘┌─┴─┐ ░ └───┘┌─┴─┐ ░ └╥┘┌─┐\n",
      "q649_1: ─────┤ X ├─░──────┤ X ├─░──╫─┤M├\n",
      "             └───┘ ░      └───┘ ░  ║ └╥┘\n",
      "c649: 2/═══════════════════════════╩══╩═\n",
      "                                   0  1 \n"
     ]
    }
   ],
   "source": [
    "n = 2\n",
    "circuit_target = qk.QuantumCircuit(n)\n",
    "circuit_target.h(0)\n",
    "circuit_target.cnot(0,1)\n",
    "\n",
    "np.random.seed(42)\n",
    "random.seed(42)\n",
    "\n",
    "N = 324\n",
    "input_list, circuit_list = generate_pauli_circuits(circuit_target, N, trace=True)\n",
    "\n",
    "\n",
    "\n",
    "for i in range(1, 21):\n",
    "    q_reg = qk.QuantumRegister(n)\n",
    "    c_reg = qk.ClassicalRegister(n)\n",
    "    circuit = qk.QuantumCircuit(q_reg, c_reg)\n",
    "    for j in range(i):\n",
    "        for k in range(1):\n",
    "            circuit.h(0)\n",
    "            circuit.cnot(0,1)\n",
    "\n",
    "            circuit.barrier()\n",
    "        \n",
    "    circuit.measure(q_reg, c_reg)\n",
    "    circuit_list.append(circuit)\n",
    "\n",
    "print(circuit_list[325])\n",
    "\n",
    "for i in range(4):\n",
    "    circuit_list.extend(generate_bitstring_circuits(n))\n",
    "\n",
    "job1 = qk.execute(circuit_list[:100], backend, shots = 20000, optimization_level = 0)\n",
    "job2 = qk.execute(circuit_list[100:200], backend, shots = 20000, optimization_level = 0)\n",
    "job3 = qk.execute(circuit_list[200:300], backend, shots = 20000, optimization_level = 0)\n",
    "job4 = qk.execute(circuit_list[300:], backend, shots = 20000, optimization_level = 0)\n",
    "\n",
    "result1 = job1.result()\n",
    "result2 = job2.result()\n",
    "result3 = job3.result()\n",
    "result4 = job4.result()\n",
    "\n",
    "counts_list = []\n",
    "counts_list.extend([result1.get_counts(circuit) for circuit in circuit_list[:100]])\n",
    "counts_list.extend([result2.get_counts(circuit) for circuit in circuit_list[100:200]])\n",
    "counts_list.extend([result3.get_counts(circuit) for circuit in circuit_list[200:300]])\n",
    "counts_list.extend([result4.get_counts(circuit) for circuit in circuit_list[300:]])\n",
    "\n",
    "data = [input_list, counts_list]\n",
    "\n",
    "pickle.dump(data, open(\"..\\..\\data\\twoQubits_expectation_POVM_trace.p\", \"wb\"))"
   ]
  },
  {
   "cell_type": "markdown",
   "metadata": {},
   "source": [
    "## Two Qubit POVM Trace"
   ]
  },
  {
   "cell_type": "code",
   "execution_count": 21,
   "metadata": {},
   "outputs": [
    {
     "name": "stdout",
     "output_type": "stream",
     "text": [
      "     ┌──────────────┐              ┌─────────────┐┌─────────────┐»\n",
      "q_0: ┤ Ry(-0.78829) ├──────■───────┤ Rx(0.61989) ├┤ Ry(-2.1613) ├»\n",
      "     └┬────────────┬┘┌─────┴──────┐└──────┬──────┘├─────────────┤»\n",
      "q_1: ─┤ Ry(2.8319) ├─┤ Rx(1.4577) ├───────■───────┤ Ry(-2.1615) ├»\n",
      "      └────────────┘ └────────────┘               └─────────────┘»\n",
      "«                    ┌────────────┐\n",
      "«q_0: ───────■───────┤ Rx(2.3008) ├\n",
      "«     ┌──────┴──────┐└─────┬──────┘\n",
      "«q_1: ┤ Rx(-2.7766) ├──────■───────\n",
      "«     └─────────────┘              \n"
     ]
    }
   ],
   "source": [
    "n = 2\n",
    "np.random.seed(42)\n",
    "random.seed(42)\n",
    "\n",
    "circuit_target = qk.QuantumCircuit(n)\n",
    "circuit_target.h(0)\n",
    "circuit_target.s(1)\n",
    "circuit_target.cnot(0,1)\n",
    "circuit_target.h(0)\n",
    "circuit_target.s(1)\n",
    "circuit_target.cnot(0,1)\n",
    "circuit_target.h(0)\n",
    "circuit_target.s(1)\n",
    "circuit_target.cnot(0,1)\n",
    "circuit_target.h(0)\n",
    "circuit_target.s(1)\n",
    "circuit_target.cnot(0,1)\n",
    "\n",
    "\n",
    "\n",
    "N = 540\n",
    "input_list, circuit_list = generate_pauli_circuits(circuit_target, N, trace=True)\n",
    "    \n",
    "for i in range(1, 21):\n",
    "    q_reg = qk.QuantumRegister(n)\n",
    "    c_reg = qk.ClassicalRegister(n)\n",
    "    circuit = qk.QuantumCircuit(q_reg, c_reg)\n",
    "    for j in range(i):\n",
    "        circuit = circuit.compose(circuit_target)\n",
    "\n",
    "        \n",
    "    circuit.measure(q_reg, c_reg)\n",
    "    circuit_list.append(circuit)\n",
    "\n",
    "for i in range(4):\n",
    "    circuit_list.extend(generate_bitstring_circuits(n))\n",
    "\n",
    "job = qk.execute(circuit_list, backend, shots = 20000, optimization_level = 0)\n",
    "result = job.result()\n",
    "\n",
    "\n",
    "counts_list = [result.get_counts(circuit) for circuit in circuit_list]\n",
    "\n",
    "data = [input_list, counts_list]\n",
    "\n",
    "pickle.dump(data, open(\"..\\..\\data\\twoQubits_expectation_POVM_trace.p\", \"wb\"))"
   ]
  },
  {
   "cell_type": "markdown",
   "metadata": {},
   "source": [
    "## Three Qubit POVM"
   ]
  },
  {
   "cell_type": "code",
   "execution_count": 5,
   "metadata": {},
   "outputs": [
    {
     "name": "stdout",
     "output_type": "stream",
     "text": [
      "     ┌──────────────┐                              ┌─────────────┐\n",
      "q_0: ┤ Ry(-0.78829) ├───────■──────────────────────┤ Rx(-2.1615) ├\n",
      "     └┬────────────┬┘┌──────┴──────┐               └──────┬──────┘\n",
      "q_1: ─┤ Ry(2.8319) ├─┤ Rx(0.61989) ├───────■──────────────┼───────\n",
      "      ├────────────┤ └─────────────┘┌──────┴──────┐       │       \n",
      "q_2: ─┤ Ry(1.4577) ├────────────────┤ Rx(-2.1613) ├───────■───────\n",
      "      └────────────┘                └─────────────┘               \n"
     ]
    }
   ],
   "source": [
    "n = 3\n",
    "np.random.seed(42)\n",
    "random.seed(42)\n",
    "\n",
    "circuit_target = variational_circuit(n)\n",
    "print(circuit_target)\n",
    "\n",
    "N = 1000\n",
    "input_list, circuit_list = generate_pauli_circuits(circuit_target, N, trace=True)\n",
    "    \n",
    "for i in range(1, 21):\n",
    "    q_reg = qk.QuantumRegister(n)\n",
    "    c_reg = qk.ClassicalRegister(n)\n",
    "    circuit = qk.QuantumCircuit(q_reg, c_reg)\n",
    "    for j in range(i):\n",
    "        circuit = circuit.compose(circuit_target)\n",
    "\n",
    "        \n",
    "    circuit.measure(q_reg, c_reg)\n",
    "    circuit_list.append(circuit)\n",
    "\n",
    "for i in range(8):\n",
    "    circuit_list.extend(generate_bitstring_circuits(n))\n",
    "\n",
    "\n",
    "job = qk.execute(circuit_list, backend, shots = 20000, optimization_level = 0)\n",
    "result = job.result()\n",
    "\n",
    "\n",
    "counts_list = [result.get_counts(circuit) for circuit in circuit_list]\n",
    "\n",
    "data = [input_list, counts_list]\n",
    "\n",
    "pickle.dump(data, open(\"..\\..\\data\\threeQubits_expectation_POVM_trace.p\", \"wb\"))"
   ]
  },
  {
   "cell_type": "code",
   "execution_count": null,
   "metadata": {},
   "outputs": [],
   "source": []
  }
 ],
 "metadata": {
  "kernelspec": {
   "display_name": "env_qiskit",
   "language": "python",
   "name": "env_qiskit"
  },
  "language_info": {
   "codemirror_mode": {
    "name": "ipython",
    "version": 3
   },
   "file_extension": ".py",
   "mimetype": "text/x-python",
   "name": "python",
   "nbconvert_exporter": "python",
   "pygments_lexer": "ipython3",
   "version": "3.7.10"
  }
 },
 "nbformat": 4,
 "nbformat_minor": 4
}
