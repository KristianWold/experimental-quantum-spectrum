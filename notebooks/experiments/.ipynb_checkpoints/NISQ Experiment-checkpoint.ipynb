{
 "cells": [
  {
   "cell_type": "markdown",
   "metadata": {},
   "source": [
    "# NISQ Experiment"
   ]
  },
  {
   "cell_type": "code",
   "execution_count": 1,
   "metadata": {},
   "outputs": [],
   "source": [
    "import sys\n",
    "sys.path.insert(0, '../../src_tf/')\n",
    "\n",
    "import numpy as np\n",
    "import qiskit as qk\n",
    "import matplotlib.pyplot as plt\n",
    "import multiprocessing as mp\n",
    "import random\n",
    "import pickle\n",
    "\n",
    "from qiskit.quantum_info import DensityMatrix\n",
    "from qiskit.quantum_info import Operator\n",
    "from qiskit import Aer\n",
    "from scipy.linalg import sqrtm\n",
    "from tqdm.notebook import tqdm\n",
    "from qiskit.providers.aer import AerSimulator\n",
    "from copy import deepcopy\n",
    "\n",
    "from loss_functions import *\n",
    "from optimization import *\n",
    "from quantum_maps import *\n",
    "from quantum_tools import *\n",
    "from utils import *\n",
    "from experiments import *\n",
    "from qiskit.providers.fake_provider import FakeCasablanca\n",
    "#np.set_printoptions(threshold=sys.maxsize)"
   ]
  },
  {
   "cell_type": "code",
   "execution_count": 2,
   "metadata": {},
   "outputs": [],
   "source": [
    "qk.IBMQ.save_account(\"66718f8f8aef22bcb6ebe86ad94a11f1fd1f4c55100829bb13f16e6b448e0a1ec6d09c459d738f58d0cbd8398a2a1f5e185a4706a61b6f896a5ce2983e136429\", overwrite=True) \n",
    "provider = qk.IBMQ.load_account()\n",
    "provider = qk.IBMQ.get_provider(hub='ibm-q', group='open', project='main')\n",
    "backend = provider.get_backend(\"ibmq_manila\")\n",
    "#backend = FakeCasablanca()\n",
    "#backend = AerSimulator()"
   ]
  },
  {
   "cell_type": "code",
   "execution_count": 3,
   "metadata": {},
   "outputs": [],
   "source": [
    "def variational_circuit(n):\n",
    "    theta = np.random.uniform(-np.pi, np.pi, 4*n)\n",
    "    circuit = qk.QuantumCircuit(n)\n",
    "    for i, angle in enumerate(theta[:n]):\n",
    "        circuit.ry(angle, i)\n",
    "    \n",
    "    for i, angle in enumerate(theta[n:2*n]):\n",
    "        circuit.crx(angle, i, (i+1)%n)\n",
    "        \n",
    "    #for i, angle in enumerate(theta[2*n:3*n]):\n",
    "    #    circuit.ry(angle, i)\n",
    "        \n",
    "    #for i, angle in enumerate(theta[3*n:]):\n",
    "    #    circuit.crx(angle, (n-i)%n, n-i-1)\n",
    "    \n",
    "    return circuit"
   ]
  },
  {
   "cell_type": "markdown",
   "metadata": {},
   "source": [
    "## Pauli String Expectation Values"
   ]
  },
  {
   "cell_type": "markdown",
   "metadata": {},
   "source": [
    "## Two Qubit POVM"
   ]
  },
  {
   "cell_type": "code",
   "execution_count": 5,
   "metadata": {},
   "outputs": [
    {
     "name": "stdout",
     "output_type": "stream",
     "text": [
      "      ┌────────────┐ ┌────────────┐               \n",
      "q_0: ─┤ Ry(2.8319) ├─┤ Rx(1.4577) ├───────■───────\n",
      "     ┌┴────────────┴┐└─────┬──────┘┌──────┴──────┐\n",
      "q_1: ┤ Ry(-0.78829) ├──────■───────┤ Rx(0.61989) ├\n",
      "     └──────────────┘              └─────────────┘\n"
     ]
    },
    {
     "ename": "QiskitError",
     "evalue": "'Data for experiment \"circuit-6014\" could not be found.'",
     "output_type": "error",
     "traceback": [
      "\u001b[0;31m---------------------------------------------------------------------------\u001b[0m",
      "\u001b[0;31mQiskitError\u001b[0m                               Traceback (most recent call last)",
      "\u001b[0;32m<ipython-input-5-98b107b67e6b>\u001b[0m in \u001b[0;36m<module>\u001b[0;34m\u001b[0m\n\u001b[1;32m     37\u001b[0m \u001b[0mcounts_list\u001b[0m \u001b[0;34m=\u001b[0m \u001b[0;34m[\u001b[0m\u001b[0;34m]\u001b[0m\u001b[0;34m\u001b[0m\u001b[0;34m\u001b[0m\u001b[0m\n\u001b[1;32m     38\u001b[0m \u001b[0mcounts_list\u001b[0m\u001b[0;34m.\u001b[0m\u001b[0mextend\u001b[0m\u001b[0;34m(\u001b[0m\u001b[0;34m[\u001b[0m\u001b[0mresult1\u001b[0m\u001b[0;34m.\u001b[0m\u001b[0mget_counts\u001b[0m\u001b[0;34m(\u001b[0m\u001b[0mcircuit\u001b[0m\u001b[0;34m)\u001b[0m \u001b[0;32mfor\u001b[0m \u001b[0mcircuit\u001b[0m \u001b[0;32min\u001b[0m \u001b[0mcircuit_list\u001b[0m\u001b[0;34m[\u001b[0m\u001b[0;34m:\u001b[0m\u001b[0;36m100\u001b[0m\u001b[0;34m]\u001b[0m\u001b[0;34m]\u001b[0m\u001b[0;34m)\u001b[0m\u001b[0;34m\u001b[0m\u001b[0;34m\u001b[0m\u001b[0m\n\u001b[0;32m---> 39\u001b[0;31m \u001b[0mcounts_list\u001b[0m\u001b[0;34m.\u001b[0m\u001b[0mextend\u001b[0m\u001b[0;34m(\u001b[0m\u001b[0;34m[\u001b[0m\u001b[0mresult2\u001b[0m\u001b[0;34m.\u001b[0m\u001b[0mget_counts\u001b[0m\u001b[0;34m(\u001b[0m\u001b[0mcircuit\u001b[0m\u001b[0;34m)\u001b[0m \u001b[0;32mfor\u001b[0m \u001b[0mcircuit\u001b[0m \u001b[0;32min\u001b[0m \u001b[0mcircuit_list\u001b[0m\u001b[0;34m[\u001b[0m\u001b[0;36m100\u001b[0m\u001b[0;34m:\u001b[0m\u001b[0;36m200\u001b[0m\u001b[0;34m]\u001b[0m\u001b[0;34m]\u001b[0m\u001b[0;34m)\u001b[0m\u001b[0;34m\u001b[0m\u001b[0;34m\u001b[0m\u001b[0m\n\u001b[0m\u001b[1;32m     40\u001b[0m \u001b[0mcounts_list\u001b[0m\u001b[0;34m.\u001b[0m\u001b[0mextend\u001b[0m\u001b[0;34m(\u001b[0m\u001b[0;34m[\u001b[0m\u001b[0mresult3\u001b[0m\u001b[0;34m.\u001b[0m\u001b[0mget_counts\u001b[0m\u001b[0;34m(\u001b[0m\u001b[0mcircuit\u001b[0m\u001b[0;34m)\u001b[0m \u001b[0;32mfor\u001b[0m \u001b[0mcircuit\u001b[0m \u001b[0;32min\u001b[0m \u001b[0mcircuit_list\u001b[0m\u001b[0;34m[\u001b[0m\u001b[0;36m200\u001b[0m\u001b[0;34m:\u001b[0m\u001b[0;36m300\u001b[0m\u001b[0;34m]\u001b[0m\u001b[0;34m]\u001b[0m\u001b[0;34m)\u001b[0m\u001b[0;34m\u001b[0m\u001b[0;34m\u001b[0m\u001b[0m\n\u001b[1;32m     41\u001b[0m \u001b[0mcounts_list\u001b[0m\u001b[0;34m.\u001b[0m\u001b[0mextend\u001b[0m\u001b[0;34m(\u001b[0m\u001b[0;34m[\u001b[0m\u001b[0mresult4\u001b[0m\u001b[0;34m.\u001b[0m\u001b[0mget_counts\u001b[0m\u001b[0;34m(\u001b[0m\u001b[0mcircuit\u001b[0m\u001b[0;34m)\u001b[0m \u001b[0;32mfor\u001b[0m \u001b[0mcircuit\u001b[0m \u001b[0;32min\u001b[0m \u001b[0mcircuit_list\u001b[0m\u001b[0;34m[\u001b[0m\u001b[0;36m300\u001b[0m\u001b[0;34m:\u001b[0m\u001b[0;34m]\u001b[0m\u001b[0;34m]\u001b[0m\u001b[0;34m)\u001b[0m\u001b[0;34m\u001b[0m\u001b[0;34m\u001b[0m\u001b[0m\n",
      "\u001b[0;32m<ipython-input-5-98b107b67e6b>\u001b[0m in \u001b[0;36m<listcomp>\u001b[0;34m(.0)\u001b[0m\n\u001b[1;32m     37\u001b[0m \u001b[0mcounts_list\u001b[0m \u001b[0;34m=\u001b[0m \u001b[0;34m[\u001b[0m\u001b[0;34m]\u001b[0m\u001b[0;34m\u001b[0m\u001b[0;34m\u001b[0m\u001b[0m\n\u001b[1;32m     38\u001b[0m \u001b[0mcounts_list\u001b[0m\u001b[0;34m.\u001b[0m\u001b[0mextend\u001b[0m\u001b[0;34m(\u001b[0m\u001b[0;34m[\u001b[0m\u001b[0mresult1\u001b[0m\u001b[0;34m.\u001b[0m\u001b[0mget_counts\u001b[0m\u001b[0;34m(\u001b[0m\u001b[0mcircuit\u001b[0m\u001b[0;34m)\u001b[0m \u001b[0;32mfor\u001b[0m \u001b[0mcircuit\u001b[0m \u001b[0;32min\u001b[0m \u001b[0mcircuit_list\u001b[0m\u001b[0;34m[\u001b[0m\u001b[0;34m:\u001b[0m\u001b[0;36m100\u001b[0m\u001b[0;34m]\u001b[0m\u001b[0;34m]\u001b[0m\u001b[0;34m)\u001b[0m\u001b[0;34m\u001b[0m\u001b[0;34m\u001b[0m\u001b[0m\n\u001b[0;32m---> 39\u001b[0;31m \u001b[0mcounts_list\u001b[0m\u001b[0;34m.\u001b[0m\u001b[0mextend\u001b[0m\u001b[0;34m(\u001b[0m\u001b[0;34m[\u001b[0m\u001b[0mresult2\u001b[0m\u001b[0;34m.\u001b[0m\u001b[0mget_counts\u001b[0m\u001b[0;34m(\u001b[0m\u001b[0mcircuit\u001b[0m\u001b[0;34m)\u001b[0m \u001b[0;32mfor\u001b[0m \u001b[0mcircuit\u001b[0m \u001b[0;32min\u001b[0m \u001b[0mcircuit_list\u001b[0m\u001b[0;34m[\u001b[0m\u001b[0;36m100\u001b[0m\u001b[0;34m:\u001b[0m\u001b[0;36m200\u001b[0m\u001b[0;34m]\u001b[0m\u001b[0;34m]\u001b[0m\u001b[0;34m)\u001b[0m\u001b[0;34m\u001b[0m\u001b[0;34m\u001b[0m\u001b[0m\n\u001b[0m\u001b[1;32m     40\u001b[0m \u001b[0mcounts_list\u001b[0m\u001b[0;34m.\u001b[0m\u001b[0mextend\u001b[0m\u001b[0;34m(\u001b[0m\u001b[0;34m[\u001b[0m\u001b[0mresult3\u001b[0m\u001b[0;34m.\u001b[0m\u001b[0mget_counts\u001b[0m\u001b[0;34m(\u001b[0m\u001b[0mcircuit\u001b[0m\u001b[0;34m)\u001b[0m \u001b[0;32mfor\u001b[0m \u001b[0mcircuit\u001b[0m \u001b[0;32min\u001b[0m \u001b[0mcircuit_list\u001b[0m\u001b[0;34m[\u001b[0m\u001b[0;36m200\u001b[0m\u001b[0;34m:\u001b[0m\u001b[0;36m300\u001b[0m\u001b[0;34m]\u001b[0m\u001b[0;34m]\u001b[0m\u001b[0;34m)\u001b[0m\u001b[0;34m\u001b[0m\u001b[0;34m\u001b[0m\u001b[0m\n\u001b[1;32m     41\u001b[0m \u001b[0mcounts_list\u001b[0m\u001b[0;34m.\u001b[0m\u001b[0mextend\u001b[0m\u001b[0;34m(\u001b[0m\u001b[0;34m[\u001b[0m\u001b[0mresult4\u001b[0m\u001b[0;34m.\u001b[0m\u001b[0mget_counts\u001b[0m\u001b[0;34m(\u001b[0m\u001b[0mcircuit\u001b[0m\u001b[0;34m)\u001b[0m \u001b[0;32mfor\u001b[0m \u001b[0mcircuit\u001b[0m \u001b[0;32min\u001b[0m \u001b[0mcircuit_list\u001b[0m\u001b[0;34m[\u001b[0m\u001b[0;36m300\u001b[0m\u001b[0;34m:\u001b[0m\u001b[0;34m]\u001b[0m\u001b[0;34m]\u001b[0m\u001b[0;34m)\u001b[0m\u001b[0;34m\u001b[0m\u001b[0;34m\u001b[0m\u001b[0m\n",
      "\u001b[0;32m~/anaconda3/envs/env_qiskit/lib/python3.7/site-packages/qiskit/result/result.py\u001b[0m in \u001b[0;36mget_counts\u001b[0;34m(self, experiment)\u001b[0m\n\u001b[1;32m    278\u001b[0m         \u001b[0mdict_list\u001b[0m \u001b[0;34m=\u001b[0m \u001b[0;34m[\u001b[0m\u001b[0;34m]\u001b[0m\u001b[0;34m\u001b[0m\u001b[0;34m\u001b[0m\u001b[0m\n\u001b[1;32m    279\u001b[0m         \u001b[0;32mfor\u001b[0m \u001b[0mkey\u001b[0m \u001b[0;32min\u001b[0m \u001b[0mexp_keys\u001b[0m\u001b[0;34m:\u001b[0m\u001b[0;34m\u001b[0m\u001b[0;34m\u001b[0m\u001b[0m\n\u001b[0;32m--> 280\u001b[0;31m             \u001b[0mexp\u001b[0m \u001b[0;34m=\u001b[0m \u001b[0mself\u001b[0m\u001b[0;34m.\u001b[0m\u001b[0m_get_experiment\u001b[0m\u001b[0;34m(\u001b[0m\u001b[0mkey\u001b[0m\u001b[0;34m)\u001b[0m\u001b[0;34m\u001b[0m\u001b[0;34m\u001b[0m\u001b[0m\n\u001b[0m\u001b[1;32m    281\u001b[0m             \u001b[0;32mtry\u001b[0m\u001b[0;34m:\u001b[0m\u001b[0;34m\u001b[0m\u001b[0;34m\u001b[0m\u001b[0m\n\u001b[1;32m    282\u001b[0m                 \u001b[0mheader\u001b[0m \u001b[0;34m=\u001b[0m \u001b[0mexp\u001b[0m\u001b[0;34m.\u001b[0m\u001b[0mheader\u001b[0m\u001b[0;34m.\u001b[0m\u001b[0mto_dict\u001b[0m\u001b[0;34m(\u001b[0m\u001b[0;34m)\u001b[0m\u001b[0;34m\u001b[0m\u001b[0;34m\u001b[0m\u001b[0m\n",
      "\u001b[0;32m~/anaconda3/envs/env_qiskit/lib/python3.7/site-packages/qiskit/result/result.py\u001b[0m in \u001b[0;36m_get_experiment\u001b[0;34m(self, key)\u001b[0m\n\u001b[1;32m    389\u001b[0m \u001b[0;34m\u001b[0m\u001b[0m\n\u001b[1;32m    390\u001b[0m             \u001b[0;32mif\u001b[0m \u001b[0mlen\u001b[0m\u001b[0;34m(\u001b[0m\u001b[0mexp\u001b[0m\u001b[0;34m)\u001b[0m \u001b[0;34m==\u001b[0m \u001b[0;36m0\u001b[0m\u001b[0;34m:\u001b[0m\u001b[0;34m\u001b[0m\u001b[0;34m\u001b[0m\u001b[0m\n\u001b[0;32m--> 391\u001b[0;31m                 \u001b[0;32mraise\u001b[0m \u001b[0mQiskitError\u001b[0m\u001b[0;34m(\u001b[0m\u001b[0;34m'Data for experiment \"%s\" could not be found.'\u001b[0m \u001b[0;34m%\u001b[0m \u001b[0mkey\u001b[0m\u001b[0;34m)\u001b[0m\u001b[0;34m\u001b[0m\u001b[0;34m\u001b[0m\u001b[0m\n\u001b[0m\u001b[1;32m    392\u001b[0m             \u001b[0;32mif\u001b[0m \u001b[0mlen\u001b[0m\u001b[0;34m(\u001b[0m\u001b[0mexp\u001b[0m\u001b[0;34m)\u001b[0m \u001b[0;34m==\u001b[0m \u001b[0;36m1\u001b[0m\u001b[0;34m:\u001b[0m\u001b[0;34m\u001b[0m\u001b[0;34m\u001b[0m\u001b[0m\n\u001b[1;32m    393\u001b[0m                 \u001b[0mexp\u001b[0m \u001b[0;34m=\u001b[0m \u001b[0mexp\u001b[0m\u001b[0;34m[\u001b[0m\u001b[0;36m0\u001b[0m\u001b[0;34m]\u001b[0m\u001b[0;34m\u001b[0m\u001b[0;34m\u001b[0m\u001b[0m\n",
      "\u001b[0;31mQiskitError\u001b[0m: 'Data for experiment \"circuit-6014\" could not be found.'"
     ]
    }
   ],
   "source": [
    "n = 2\n",
    "d = 2**n\n",
    "#backend = AerSimulator()\n",
    "#backend = FakeCasablanca()\n",
    "np.random.seed(42)\n",
    "random.seed(42)\n",
    "\n",
    "circuit_target = variational_circuit(n).reverse_bits()\n",
    "print(circuit_target)\n",
    "\n",
    "N = 324\n",
    "input_list, circuit_list = generate_pauli_circuits(n, circuit_target, N, trace=False)\n",
    "    \n",
    "for i in range(1, 21):\n",
    "    q_reg = qk.QuantumRegister(n)\n",
    "    c_reg = qk.ClassicalRegister(n)\n",
    "    circuit = qk.QuantumCircuit(q_reg, c_reg)\n",
    "    for j in range(i):\n",
    "        circuit = circuit.compose(circuit_target)\n",
    "        \n",
    "    circuit.measure(q_reg, c_reg)\n",
    "    circuit_list.append(circuit)\n",
    "\n",
    "for i in range(d):\n",
    "    circuit_list.extend(generate_bitstring_circuits(n))\n",
    "    \n",
    "    \n",
    "job1 = qk.execute(circuit_list[:100], backend, shots = 20000, optimization_level = 0)\n",
    "job2 = qk.execute(circuit_list[100:200], backend, shots = 20000, optimization_level = 0)\n",
    "job3 = qk.execute(circuit_list[200:300], backend, shots = 20000, optimization_level = 0)\n",
    "job4 = qk.execute(circuit_list[300:], backend, shots = 20000, optimization_level = 0)\n",
    "result1 = job1.result()\n",
    "result2 = job2.result()\n",
    "result3 = job3.result()\n",
    "result4 = job4.result()\n",
    "\n",
    "counts_list = []\n",
    "counts_list.extend([result1.get_counts(circuit) for circuit in circuit_list[:100]])\n",
    "counts_list.extend([result2.get_counts(circuit) for circuit in circuit_list[100:200]])\n",
    "counts_list.extend([result3.get_counts(circuit) for circuit in circuit_list[200:300]])\n",
    "counts_list.extend([result4.get_counts(circuit) for circuit in circuit_list[300:]])\n",
    "\n",
    "data = [input_list, counts_list]\n",
    "\n",
    "pickle.dump(data, open(\"../../data/twoQubits_expectation_POVM.p\", \"wb\"))"
   ]
  },
  {
   "cell_type": "code",
   "execution_count": 7,
   "metadata": {},
   "outputs": [],
   "source": [
    "result1 = job1.result()\n",
    "result2 = job2.result()\n",
    "result3 = job3.result()\n",
    "result4 = job4.result()\n",
    "\n",
    "counts_list = []\n",
    "counts_list.extend([result1.get_counts(circuit) for circuit in circuit_list[:100]])\n",
    "counts_list.extend([result2.get_counts(circuit) for circuit in circuit_list[100:200]])\n",
    "counts_list.extend([result3.get_counts(circuit) for circuit in circuit_list[200:300]])\n",
    "counts_list.extend([result4.get_counts(circuit) for circuit in circuit_list[300:]])\n",
    "\n",
    "data = [input_list, counts_list]\n",
    "\n",
    "pickle.dump(data, open(\"../../data/twoQubits_expectation_POVM.p\", \"wb\"))"
   ]
  },
  {
   "cell_type": "markdown",
   "metadata": {},
   "source": [
    "### Three Qubits"
   ]
  },
  {
   "cell_type": "code",
   "execution_count": 4,
   "metadata": {},
   "outputs": [
    {
     "name": "stdout",
     "output_type": "stream",
     "text": [
      "      ┌────────────┐                ┌─────────────┐               \n",
      "q_0: ─┤ Ry(1.4577) ├────────────────┤ Rx(-2.1613) ├───────■───────\n",
      "      ├────────────┤ ┌─────────────┐└──────┬──────┘       │       \n",
      "q_1: ─┤ Ry(2.8319) ├─┤ Rx(0.61989) ├───────■──────────────┼───────\n",
      "     ┌┴────────────┴┐└──────┬──────┘               ┌──────┴──────┐\n",
      "q_2: ┤ Ry(-0.78829) ├───────■──────────────────────┤ Rx(-2.1615) ├\n",
      "     └──────────────┘                              └─────────────┘\n"
     ]
    },
    {
     "ename": "NameError",
     "evalue": "name 'counts_povm_list' is not defined",
     "output_type": "error",
     "traceback": [
      "\u001b[1;31m---------------------------------------------------------------------------\u001b[0m",
      "\u001b[1;31mNameError\u001b[0m                                 Traceback (most recent call last)",
      "Input \u001b[1;32mIn [4]\u001b[0m, in \u001b[0;36m<cell line: 42>\u001b[1;34m()\u001b[0m\n\u001b[0;32m     37\u001b[0m result \u001b[38;5;241m=\u001b[39m job\u001b[38;5;241m.\u001b[39mresult()\n\u001b[0;32m     38\u001b[0m counts_list \u001b[38;5;241m=\u001b[39m [result\u001b[38;5;241m.\u001b[39mget_counts(circuit) \u001b[38;5;28;01mfor\u001b[39;00m circuit \u001b[38;5;129;01min\u001b[39;00m circuit_list]\n\u001b[1;32m---> 42\u001b[0m data \u001b[38;5;241m=\u001b[39m [input_list, counts_list, povm_inputs, \u001b[43mcounts_povm_list\u001b[49m]\n\u001b[0;32m     44\u001b[0m pickle\u001b[38;5;241m.\u001b[39mdump(data, \u001b[38;5;28mopen\u001b[39m(\u001b[38;5;124m\"\u001b[39m\u001b[38;5;124m../../data/threeQubits_expectation_POVM.p\u001b[39m\u001b[38;5;124m\"\u001b[39m, \u001b[38;5;124m\"\u001b[39m\u001b[38;5;124mwb\u001b[39m\u001b[38;5;124m\"\u001b[39m))\n",
      "\u001b[1;31mNameError\u001b[0m: name 'counts_povm_list' is not defined"
     ]
    }
   ],
   "source": [
    "n = 3\n",
    "d = 2**n\n",
    "#backend = AerSimulator()\n",
    "backend = FakeCasablanca()\n",
    "np.random.seed(42)\n",
    "random.seed(42)\n",
    "\n",
    "circuit_target = variational_circuit(n).reverse_bits()\n",
    "print(circuit_target)\n",
    "\n",
    "N = 1000\n",
    "input_list, circuit_list = generate_pauli_circuits(n, circuit_target, N, trace=False)\n",
    "    \n",
    "for i in range(1, 21):\n",
    "    q_reg = qk.QuantumRegister(n)\n",
    "    c_reg = qk.ClassicalRegister(n)\n",
    "    circuit = qk.QuantumCircuit(q_reg, c_reg)\n",
    "    for j in range(i):\n",
    "        circuit = circuit.compose(circuit_target)\n",
    "        \n",
    "    circuit.measure(q_reg, c_reg)\n",
    "    circuit_list.append(circuit)\n",
    "\n",
    "for i in range(d):\n",
    "    circuit_list.extend(generate_bitstring_circuits(n))    \n",
    "\n",
    "povm_circuits = []\n",
    "povm_inputs = []\n",
    "for i in range(6**n):\n",
    "    config = numberToBase(i, 6, n)\n",
    "    povm_circuits.append(prepare_input(config, return_mode = \"circuit_measure\"))\n",
    "    povm_inputs.append(prepare_input(config, return_mode = \"density\"))\n",
    "\n",
    "povm_inputs = tf.convert_to_tensor(povm_inputs, dtype = tf.complex128)\n",
    "    \n",
    "job = qk.execute(circuit_list, backend, shots = 20000, optimization_level = 0)\n",
    "result = job.result()\n",
    "counts_list = [result.get_counts(circuit) for circuit in circuit_list]\n",
    "\n",
    "job = qk.execute(povm_circuits, backend, shots = 20000, optimization_level = 0)\n",
    "result = job.result()\n",
    "counts_povm_list = [result.get_counts(circuit) for circuit in povm_circuits]\n",
    "\n",
    "data = [input_list, counts_list, povm_inputs, counts_povm_list]\n",
    "\n",
    "pickle.dump(data, open(\"../../data/threeQubits_expectation_POVM.p\", \"wb\"))"
   ]
  },
  {
   "cell_type": "markdown",
   "metadata": {},
   "source": [
    "## Four Qubits"
   ]
  },
  {
   "cell_type": "code",
   "execution_count": 6,
   "metadata": {},
   "outputs": [
    {
     "name": "stdout",
     "output_type": "stream",
     "text": [
      "     ┌─────────────┐                               ┌─────────────┐»\n",
      "q_0: ┤ Ry(0.61989) ├───────────────────────────────┤ Rx(-2.7766) ├»\n",
      "     └┬────────────┤                ┌─────────────┐└──────┬──────┘»\n",
      "q_1: ─┤ Ry(1.4577) ├────────────────┤ Rx(-2.1615) ├───────■───────»\n",
      "      ├────────────┤ ┌─────────────┐└──────┬──────┘               »\n",
      "q_2: ─┤ Ry(2.8319) ├─┤ Rx(-2.1613) ├───────■──────────────────────»\n",
      "     ┌┴────────────┴┐└──────┬──────┘                              »\n",
      "q_3: ┤ Ry(-0.78829) ├───────■─────────────────────────────────────»\n",
      "     └──────────────┘                                             »\n",
      "«                   \n",
      "«q_0: ──────■───────\n",
      "«           │       \n",
      "«q_1: ──────┼───────\n",
      "«           │       \n",
      "«q_2: ──────┼───────\n",
      "«     ┌─────┴──────┐\n",
      "«q_3: ┤ Rx(2.3008) ├\n",
      "«     └────────────┘\n",
      "Generate Circuits\n"
     ]
    },
    {
     "ename": "KeyboardInterrupt",
     "evalue": "",
     "output_type": "error",
     "traceback": [
      "\u001b[1;31m---------------------------------------------------------------------------\u001b[0m",
      "\u001b[1;31mKeyboardInterrupt\u001b[0m                         Traceback (most recent call last)",
      "Input \u001b[1;32mIn [6]\u001b[0m, in \u001b[0;36m<cell line: 13>\u001b[1;34m()\u001b[0m\n\u001b[0;32m     11\u001b[0m N \u001b[38;5;241m=\u001b[39m \u001b[38;5;241m100000\u001b[39m\n\u001b[0;32m     12\u001b[0m \u001b[38;5;28mprint\u001b[39m(\u001b[38;5;124m\"\u001b[39m\u001b[38;5;124mGenerate Circuits\u001b[39m\u001b[38;5;124m\"\u001b[39m)\n\u001b[1;32m---> 13\u001b[0m input_list, circuit_list \u001b[38;5;241m=\u001b[39m \u001b[43mgenerate_pauli_circuits\u001b[49m\u001b[43m(\u001b[49m\u001b[43mn\u001b[49m\u001b[43m \u001b[49m\u001b[38;5;241;43m=\u001b[39;49m\u001b[43m \u001b[49m\u001b[43mn\u001b[49m\u001b[43m,\u001b[49m\n\u001b[0;32m     14\u001b[0m \u001b[43m                                                   \u001b[49m\u001b[43mcircuit_target\u001b[49m\u001b[43m \u001b[49m\u001b[38;5;241;43m=\u001b[39;49m\u001b[43m \u001b[49m\u001b[43mcircuit_target\u001b[49m\u001b[43m,\u001b[49m\n\u001b[0;32m     15\u001b[0m \u001b[43m                                                   \u001b[49m\u001b[43mN\u001b[49m\u001b[43m \u001b[49m\u001b[38;5;241;43m=\u001b[39;49m\u001b[43m \u001b[49m\u001b[43mN\u001b[49m\u001b[43m,\u001b[49m\u001b[43m \u001b[49m\n\u001b[0;32m     16\u001b[0m \u001b[43m                                                   \u001b[49m\u001b[43mtrace\u001b[49m\u001b[43m \u001b[49m\u001b[38;5;241;43m=\u001b[39;49m\u001b[43m \u001b[49m\u001b[38;5;28;43;01mFalse\u001b[39;49;00m\u001b[43m)\u001b[49m\n\u001b[0;32m     18\u001b[0m \u001b[38;5;28;01mfor\u001b[39;00m i \u001b[38;5;129;01min\u001b[39;00m \u001b[38;5;28mrange\u001b[39m(\u001b[38;5;241m1\u001b[39m, \u001b[38;5;241m21\u001b[39m):\n\u001b[0;32m     19\u001b[0m     q_reg \u001b[38;5;241m=\u001b[39m qk\u001b[38;5;241m.\u001b[39mQuantumRegister(n)\n",
      "File \u001b[1;32m~\\Documents\\ModelNISQ\\notebooks\\experiments\\../../src_tf\\experiments.py:110\u001b[0m, in \u001b[0;36mgenerate_pauli_circuits\u001b[1;34m(n, circuit_target, N, trace)\u001b[0m\n\u001b[0;32m    106\u001b[0m state \u001b[38;5;241m=\u001b[39m prepare_input(config1, return_mode \u001b[38;5;241m=\u001b[39m \u001b[38;5;124m\"\u001b[39m\u001b[38;5;124mdensity\u001b[39m\u001b[38;5;124m\"\u001b[39m)\n\u001b[0;32m    109\u001b[0m config2 \u001b[38;5;241m=\u001b[39m numberToBase(j, num_observ, n)\n\u001b[1;32m--> 110\u001b[0m U_basis, _ \u001b[38;5;241m=\u001b[39m \u001b[43mpauli_observable\u001b[49m\u001b[43m(\u001b[49m\u001b[43mconfig2\u001b[49m\u001b[43m,\u001b[49m\u001b[43m \u001b[49m\u001b[43mreturn_mode\u001b[49m\u001b[43m \u001b[49m\u001b[38;5;241;43m=\u001b[39;49m\u001b[43m \u001b[49m\u001b[38;5;124;43m\"\u001b[39;49m\u001b[38;5;124;43munitary\u001b[39;49m\u001b[38;5;124;43m\"\u001b[39;49m\u001b[43m)\u001b[49m\n\u001b[0;32m    113\u001b[0m input_list[\u001b[38;5;241m0\u001b[39m]\u001b[38;5;241m.\u001b[39mappend(state)\n\u001b[0;32m    114\u001b[0m input_list[\u001b[38;5;241m1\u001b[39m]\u001b[38;5;241m.\u001b[39mappend(U_basis)\n",
      "File \u001b[1;32m~\\Documents\\ModelNISQ\\notebooks\\experiments\\../../src_tf\\experiments.py:83\u001b[0m, in \u001b[0;36mpauli_observable\u001b[1;34m(config, return_mode)\u001b[0m\n\u001b[0;32m     80\u001b[0m         \u001b[38;5;28;01mif\u001b[39;00m idx \u001b[38;5;241m==\u001b[39m \u001b[38;5;241m3\u001b[39m:\n\u001b[0;32m     81\u001b[0m             trace_index_list\u001b[38;5;241m.\u001b[39mappend(i)\n\u001b[1;32m---> 83\u001b[0m     observable \u001b[38;5;241m=\u001b[39m \u001b[43mparity_observable\u001b[49m\u001b[43m(\u001b[49m\u001b[43mn\u001b[49m\u001b[43m,\u001b[49m\u001b[43m \u001b[49m\u001b[43mtrace_index_list\u001b[49m\u001b[43m)\u001b[49m\n\u001b[0;32m     85\u001b[0m     result \u001b[38;5;241m=\u001b[39m [Operator(circuit\u001b[38;5;241m.\u001b[39mreverse_bits())\u001b[38;5;241m.\u001b[39mdata, observable]\n\u001b[0;32m     87\u001b[0m \u001b[38;5;28;01mreturn\u001b[39;00m result\n",
      "File \u001b[1;32m~\\Documents\\ModelNISQ\\notebooks\\experiments\\../../src_tf\\experiments.py:221\u001b[0m, in \u001b[0;36mparity_observable\u001b[1;34m(n, trace_index_list)\u001b[0m\n\u001b[0;32m    218\u001b[0m \u001b[38;5;28;01mfor\u001b[39;00m index \u001b[38;5;129;01min\u001b[39;00m trace_index_list:\n\u001b[0;32m    219\u001b[0m     observable[index] \u001b[38;5;241m=\u001b[39m I\n\u001b[1;32m--> 221\u001b[0m observable \u001b[38;5;241m=\u001b[39m np\u001b[38;5;241m.\u001b[39mdiag(\u001b[43mkron\u001b[49m\u001b[43m(\u001b[49m\u001b[38;5;241;43m*\u001b[39;49m\u001b[43mobservable\u001b[49m\u001b[43m)\u001b[49m)\n\u001b[0;32m    222\u001b[0m \u001b[38;5;28;01mreturn\u001b[39;00m observable\n",
      "File \u001b[1;32m~\\Documents\\ModelNISQ\\notebooks\\experiments\\../../src_tf\\utils.py:31\u001b[0m, in \u001b[0;36mkron\u001b[1;34m(*args)\u001b[0m\n\u001b[0;32m     29\u001b[0m A \u001b[38;5;241m=\u001b[39m args[\u001b[38;5;241m0\u001b[39m]\n\u001b[0;32m     30\u001b[0m \u001b[38;5;28;01mfor\u001b[39;00m i \u001b[38;5;129;01min\u001b[39;00m \u001b[38;5;28mrange\u001b[39m(\u001b[38;5;241m1\u001b[39m, length):\n\u001b[1;32m---> 31\u001b[0m     A \u001b[38;5;241m=\u001b[39m \u001b[43mtf\u001b[49m\u001b[38;5;241;43m.\u001b[39;49m\u001b[43mexperimental\u001b[49m\u001b[38;5;241;43m.\u001b[39;49m\u001b[43mnumpy\u001b[49m\u001b[38;5;241;43m.\u001b[39;49m\u001b[43mkron\u001b[49m\u001b[43m(\u001b[49m\u001b[43mA\u001b[49m\u001b[43m,\u001b[49m\u001b[43m \u001b[49m\u001b[43margs\u001b[49m\u001b[43m[\u001b[49m\u001b[43mi\u001b[49m\u001b[43m]\u001b[49m\u001b[43m)\u001b[49m\n\u001b[0;32m     33\u001b[0m \u001b[38;5;28;01mreturn\u001b[39;00m A\n",
      "File \u001b[1;32m~\\anaconda3\\envs\\env_qiskit\\lib\\site-packages\\tensorflow\\python\\ops\\numpy_ops\\np_math_ops.py:410\u001b[0m, in \u001b[0;36mkron\u001b[1;34m(a, b)\u001b[0m\n\u001b[0;32m    408\u001b[0m a_reshaped \u001b[38;5;241m=\u001b[39m np_array_ops\u001b[38;5;241m.\u001b[39mreshape(t_a, _make_shape(a_shape, \u001b[38;5;28;01mFalse\u001b[39;00m))\n\u001b[0;32m    409\u001b[0m b_reshaped \u001b[38;5;241m=\u001b[39m np_array_ops\u001b[38;5;241m.\u001b[39mreshape(t_b, _make_shape(b_shape, \u001b[38;5;28;01mTrue\u001b[39;00m))\n\u001b[1;32m--> 410\u001b[0m out_shape \u001b[38;5;241m=\u001b[39m \u001b[43ma_shape\u001b[49m\u001b[43m \u001b[49m\u001b[38;5;241;43m*\u001b[39;49m\u001b[43m \u001b[49m\u001b[43mb_shape\u001b[49m\n\u001b[0;32m    411\u001b[0m \u001b[38;5;28;01mreturn\u001b[39;00m np_array_ops\u001b[38;5;241m.\u001b[39mreshape(a_reshaped \u001b[38;5;241m*\u001b[39m b_reshaped, out_shape)\n",
      "File \u001b[1;32m~\\anaconda3\\envs\\env_qiskit\\lib\\site-packages\\tensorflow\\python\\util\\traceback_utils.py:150\u001b[0m, in \u001b[0;36mfilter_traceback.<locals>.error_handler\u001b[1;34m(*args, **kwargs)\u001b[0m\n\u001b[0;32m    148\u001b[0m filtered_tb \u001b[38;5;241m=\u001b[39m \u001b[38;5;28;01mNone\u001b[39;00m\n\u001b[0;32m    149\u001b[0m \u001b[38;5;28;01mtry\u001b[39;00m:\n\u001b[1;32m--> 150\u001b[0m   \u001b[38;5;28;01mreturn\u001b[39;00m fn(\u001b[38;5;241m*\u001b[39margs, \u001b[38;5;241m*\u001b[39m\u001b[38;5;241m*\u001b[39mkwargs)\n\u001b[0;32m    151\u001b[0m \u001b[38;5;28;01mexcept\u001b[39;00m \u001b[38;5;167;01mException\u001b[39;00m \u001b[38;5;28;01mas\u001b[39;00m e:\n\u001b[0;32m    152\u001b[0m   filtered_tb \u001b[38;5;241m=\u001b[39m _process_traceback_frames(e\u001b[38;5;241m.\u001b[39m__traceback__)\n",
      "File \u001b[1;32m~\\anaconda3\\envs\\env_qiskit\\lib\\site-packages\\tensorflow\\python\\ops\\math_ops.py:1406\u001b[0m, in \u001b[0;36m_OverrideBinaryOperatorHelper.<locals>.binary_op_wrapper\u001b[1;34m(x, y)\u001b[0m\n\u001b[0;32m   1401\u001b[0m \u001b[38;5;28;01mtry\u001b[39;00m:\n\u001b[0;32m   1402\u001b[0m   \u001b[38;5;66;03m# force_same_dtype=False to preserve existing TF behavior\u001b[39;00m\n\u001b[0;32m   1403\u001b[0m   \u001b[38;5;66;03m# TODO(b/178860388): Figure out why binary_op_wrapper and\u001b[39;00m\n\u001b[0;32m   1404\u001b[0m   \u001b[38;5;66;03m#   r_binary_op_wrapper use different force_same_dtype values.\u001b[39;00m\n\u001b[0;32m   1405\u001b[0m   x, y \u001b[38;5;241m=\u001b[39m maybe_promote_tensors(x, y)\n\u001b[1;32m-> 1406\u001b[0m   \u001b[38;5;28;01mreturn\u001b[39;00m \u001b[43mfunc\u001b[49m\u001b[43m(\u001b[49m\u001b[43mx\u001b[49m\u001b[43m,\u001b[49m\u001b[43m \u001b[49m\u001b[43my\u001b[49m\u001b[43m,\u001b[49m\u001b[43m \u001b[49m\u001b[43mname\u001b[49m\u001b[38;5;241;43m=\u001b[39;49m\u001b[43mname\u001b[49m\u001b[43m)\u001b[49m\n\u001b[0;32m   1407\u001b[0m \u001b[38;5;28;01mexcept\u001b[39;00m (\u001b[38;5;167;01mTypeError\u001b[39;00m, \u001b[38;5;167;01mValueError\u001b[39;00m) \u001b[38;5;28;01mas\u001b[39;00m e:\n\u001b[0;32m   1408\u001b[0m   \u001b[38;5;66;03m# Even if dispatching the op failed, the RHS may be a tensor aware\u001b[39;00m\n\u001b[0;32m   1409\u001b[0m   \u001b[38;5;66;03m# object that can implement the operator with knowledge of itself\u001b[39;00m\n\u001b[1;32m   (...)\u001b[0m\n\u001b[0;32m   1412\u001b[0m   \u001b[38;5;66;03m# original error from the LHS, because it may be more\u001b[39;00m\n\u001b[0;32m   1413\u001b[0m   \u001b[38;5;66;03m# informative.\u001b[39;00m\n\u001b[0;32m   1414\u001b[0m   \u001b[38;5;28;01mif\u001b[39;00m \u001b[38;5;28mhasattr\u001b[39m(\u001b[38;5;28mtype\u001b[39m(y), \u001b[38;5;124m\"\u001b[39m\u001b[38;5;124m__r\u001b[39m\u001b[38;5;132;01m%s\u001b[39;00m\u001b[38;5;124m__\u001b[39m\u001b[38;5;124m\"\u001b[39m \u001b[38;5;241m%\u001b[39m op_name):\n",
      "File \u001b[1;32m~\\anaconda3\\envs\\env_qiskit\\lib\\site-packages\\tensorflow\\python\\ops\\math_ops.py:1766\u001b[0m, in \u001b[0;36m_mul_dispatch\u001b[1;34m(x, y, name)\u001b[0m\n\u001b[0;32m   1764\u001b[0m   \u001b[38;5;28;01mreturn\u001b[39;00m sparse_tensor\u001b[38;5;241m.\u001b[39mSparseTensor(y\u001b[38;5;241m.\u001b[39mindices, new_vals, y\u001b[38;5;241m.\u001b[39mdense_shape)\n\u001b[0;32m   1765\u001b[0m \u001b[38;5;28;01melse\u001b[39;00m:\n\u001b[1;32m-> 1766\u001b[0m   \u001b[38;5;28;01mreturn\u001b[39;00m \u001b[43mmultiply\u001b[49m\u001b[43m(\u001b[49m\u001b[43mx\u001b[49m\u001b[43m,\u001b[49m\u001b[43m \u001b[49m\u001b[43my\u001b[49m\u001b[43m,\u001b[49m\u001b[43m \u001b[49m\u001b[43mname\u001b[49m\u001b[38;5;241;43m=\u001b[39;49m\u001b[43mname\u001b[49m\u001b[43m)\u001b[49m\n",
      "File \u001b[1;32m~\\anaconda3\\envs\\env_qiskit\\lib\\site-packages\\tensorflow\\python\\util\\traceback_utils.py:150\u001b[0m, in \u001b[0;36mfilter_traceback.<locals>.error_handler\u001b[1;34m(*args, **kwargs)\u001b[0m\n\u001b[0;32m    148\u001b[0m filtered_tb \u001b[38;5;241m=\u001b[39m \u001b[38;5;28;01mNone\u001b[39;00m\n\u001b[0;32m    149\u001b[0m \u001b[38;5;28;01mtry\u001b[39;00m:\n\u001b[1;32m--> 150\u001b[0m   \u001b[38;5;28;01mreturn\u001b[39;00m fn(\u001b[38;5;241m*\u001b[39margs, \u001b[38;5;241m*\u001b[39m\u001b[38;5;241m*\u001b[39mkwargs)\n\u001b[0;32m    151\u001b[0m \u001b[38;5;28;01mexcept\u001b[39;00m \u001b[38;5;167;01mException\u001b[39;00m \u001b[38;5;28;01mas\u001b[39;00m e:\n\u001b[0;32m    152\u001b[0m   filtered_tb \u001b[38;5;241m=\u001b[39m _process_traceback_frames(e\u001b[38;5;241m.\u001b[39m__traceback__)\n",
      "File \u001b[1;32m~\\anaconda3\\envs\\env_qiskit\\lib\\site-packages\\tensorflow\\python\\util\\dispatch.py:1082\u001b[0m, in \u001b[0;36madd_dispatch_support.<locals>.decorator.<locals>.op_dispatch_handler\u001b[1;34m(*args, **kwargs)\u001b[0m\n\u001b[0;32m   1080\u001b[0m \u001b[38;5;66;03m# Fallback dispatch system (dispatch v1):\u001b[39;00m\n\u001b[0;32m   1081\u001b[0m \u001b[38;5;28;01mtry\u001b[39;00m:\n\u001b[1;32m-> 1082\u001b[0m   \u001b[38;5;28;01mreturn\u001b[39;00m dispatch_target(\u001b[38;5;241m*\u001b[39margs, \u001b[38;5;241m*\u001b[39m\u001b[38;5;241m*\u001b[39mkwargs)\n\u001b[0;32m   1083\u001b[0m \u001b[38;5;28;01mexcept\u001b[39;00m (\u001b[38;5;167;01mTypeError\u001b[39;00m, \u001b[38;5;167;01mValueError\u001b[39;00m):\n\u001b[0;32m   1084\u001b[0m   \u001b[38;5;66;03m# Note: convert_to_eager_tensor currently raises a ValueError, not a\u001b[39;00m\n\u001b[0;32m   1085\u001b[0m   \u001b[38;5;66;03m# TypeError, when given unexpected types.  So we need to catch both.\u001b[39;00m\n\u001b[0;32m   1086\u001b[0m   result \u001b[38;5;241m=\u001b[39m dispatch(op_dispatch_handler, args, kwargs)\n",
      "File \u001b[1;32m~\\anaconda3\\envs\\env_qiskit\\lib\\site-packages\\tensorflow\\python\\ops\\math_ops.py:529\u001b[0m, in \u001b[0;36mmultiply\u001b[1;34m(x, y, name)\u001b[0m\n\u001b[0;32m    480\u001b[0m \u001b[38;5;129m@tf_export\u001b[39m(\u001b[38;5;124m\"\u001b[39m\u001b[38;5;124mmath.multiply\u001b[39m\u001b[38;5;124m\"\u001b[39m, \u001b[38;5;124m\"\u001b[39m\u001b[38;5;124mmultiply\u001b[39m\u001b[38;5;124m\"\u001b[39m)\n\u001b[0;32m    481\u001b[0m \u001b[38;5;129m@dispatch\u001b[39m\u001b[38;5;241m.\u001b[39mregister_binary_elementwise_api\n\u001b[0;32m    482\u001b[0m \u001b[38;5;129m@dispatch\u001b[39m\u001b[38;5;241m.\u001b[39madd_dispatch_support\n\u001b[0;32m    483\u001b[0m \u001b[38;5;28;01mdef\u001b[39;00m \u001b[38;5;21mmultiply\u001b[39m(x, y, name\u001b[38;5;241m=\u001b[39m\u001b[38;5;28;01mNone\u001b[39;00m):\n\u001b[0;32m    484\u001b[0m   \u001b[38;5;124;03m\"\"\"Returns an element-wise x * y.\u001b[39;00m\n\u001b[0;32m    485\u001b[0m \n\u001b[0;32m    486\u001b[0m \u001b[38;5;124;03m  For example:\u001b[39;00m\n\u001b[1;32m   (...)\u001b[0m\n\u001b[0;32m    526\u001b[0m \u001b[38;5;124;03m   * InvalidArgumentError: When `x` and `y` have incompatible shapes or types.\u001b[39;00m\n\u001b[0;32m    527\u001b[0m \u001b[38;5;124;03m  \"\"\"\u001b[39;00m\n\u001b[1;32m--> 529\u001b[0m   \u001b[38;5;28;01mreturn\u001b[39;00m \u001b[43mgen_math_ops\u001b[49m\u001b[38;5;241;43m.\u001b[39;49m\u001b[43mmul\u001b[49m\u001b[43m(\u001b[49m\u001b[43mx\u001b[49m\u001b[43m,\u001b[49m\u001b[43m \u001b[49m\u001b[43my\u001b[49m\u001b[43m,\u001b[49m\u001b[43m \u001b[49m\u001b[43mname\u001b[49m\u001b[43m)\u001b[49m\n",
      "File \u001b[1;32m~\\anaconda3\\envs\\env_qiskit\\lib\\site-packages\\tensorflow\\python\\ops\\gen_math_ops.py:6575\u001b[0m, in \u001b[0;36mmul\u001b[1;34m(x, y, name)\u001b[0m\n\u001b[0;32m   6573\u001b[0m \u001b[38;5;28;01mif\u001b[39;00m tld\u001b[38;5;241m.\u001b[39mis_eager:\n\u001b[0;32m   6574\u001b[0m   \u001b[38;5;28;01mtry\u001b[39;00m:\n\u001b[1;32m-> 6575\u001b[0m     _result \u001b[38;5;241m=\u001b[39m \u001b[43mpywrap_tfe\u001b[49m\u001b[38;5;241;43m.\u001b[39;49m\u001b[43mTFE_Py_FastPathExecute\u001b[49m\u001b[43m(\u001b[49m\n\u001b[0;32m   6576\u001b[0m \u001b[43m      \u001b[49m\u001b[43m_ctx\u001b[49m\u001b[43m,\u001b[49m\u001b[43m \u001b[49m\u001b[38;5;124;43m\"\u001b[39;49m\u001b[38;5;124;43mMul\u001b[39;49m\u001b[38;5;124;43m\"\u001b[39;49m\u001b[43m,\u001b[49m\u001b[43m \u001b[49m\u001b[43mname\u001b[49m\u001b[43m,\u001b[49m\u001b[43m \u001b[49m\u001b[43mx\u001b[49m\u001b[43m,\u001b[49m\u001b[43m \u001b[49m\u001b[43my\u001b[49m\u001b[43m)\u001b[49m\n\u001b[0;32m   6577\u001b[0m     \u001b[38;5;28;01mreturn\u001b[39;00m _result\n\u001b[0;32m   6578\u001b[0m   \u001b[38;5;28;01mexcept\u001b[39;00m _core\u001b[38;5;241m.\u001b[39m_NotOkStatusException \u001b[38;5;28;01mas\u001b[39;00m e:\n",
      "\u001b[1;31mKeyboardInterrupt\u001b[0m: "
     ]
    }
   ],
   "source": [
    "n = 4\n",
    "d = 2**n\n",
    "backend = AerSimulator()\n",
    "#backend = FakeCasablanca()\n",
    "np.random.seed(42)\n",
    "random.seed(42)\n",
    "\n",
    "circuit_target = variational_circuit(n).reverse_bits()\n",
    "print(circuit_target)\n",
    "\n",
    "N = 100000\n",
    "print(\"Generate Circuits\")\n",
    "input_list, circuit_list = generate_pauli_circuits(n = n,\n",
    "                                                   circuit_target = circuit_target,\n",
    "                                                   N = N, \n",
    "                                                   trace = False)\n",
    " \n",
    "for i in range(1, 21):\n",
    "    q_reg = qk.QuantumRegister(n)\n",
    "    c_reg = qk.ClassicalRegister(n)\n",
    "    circuit = qk.QuantumCircuit(q_reg, c_reg)\n",
    "    for j in range(i):\n",
    "        circuit = circuit.compose(circuit_target)\n",
    "        \n",
    "    circuit.measure(q_reg, c_reg)\n",
    "    circuit_list.append(circuit)\n",
    "\n",
    "for i in range(d):\n",
    "    circuit_list.extend(generate_bitstring_circuits(n))\n",
    "    \n",
    "print(\"Done!\")\n",
    "print(\"Execute Job\")\n",
    "backend_options = {'method': \n",
    "                   'automatic',\n",
    "                   'max_parallel_threads':0,\n",
    "                   'max_parallel_experiments':0,\n",
    "                   'max_parallel_shots':1}\n",
    "job = qk.execute(circuit_list, backend, shots = 20000, optimization_level = 0, backend_options = backend_options)\n",
    "print(\"Done!\") \n",
    "print(\"Retrieve Results\")  \n",
    "result = job.result()\n",
    "print(\"Done!\")    \n",
    "\n",
    "print(\"Get Counts\")\n",
    "counts_list = [result.get_counts(circuit) for circuit in circuit_list]\n",
    "targets = counts_to_probs(counts_list)\n",
    "print(\"Done!\")\n",
    "data = [input_list, targets, counts_list[d**2:]]\n",
    "\n",
    "pickle.dump(data, open(\"../../data/fourQubits_expectation_POVM.p\", \"wb\"))"
   ]
  },
  {
   "cell_type": "markdown",
   "metadata": {},
   "source": [
    "## Two Qubit POVM, two blocks"
   ]
  },
  {
   "cell_type": "code",
   "execution_count": 7,
   "metadata": {},
   "outputs": [
    {
     "name": "stdout",
     "output_type": "stream",
     "text": [
      "      ┌────────────┐ ┌────────────┐               \n",
      "q_0: ─┤ Ry(2.8319) ├─┤ Rx(1.4577) ├───────■───────\n",
      "     ┌┴────────────┴┐└─────┬──────┘┌──────┴──────┐\n",
      "q_1: ┤ Ry(-0.78829) ├──────■───────┤ Rx(0.61989) ├\n",
      "     └──────────────┘              └─────────────┘\n",
      "      ┌────────────┐┌─────────────┐              \n",
      "q_0: ─┤ Ry(1.3074) ├┤ Rx(-3.0123) ├──────■───────\n",
      "     ┌┴────────────┤└──────┬──────┘┌─────┴──────┐\n",
      "q_1: ┤ Ry(0.63532) ├───────■───────┤ Rx(2.9525) ├\n",
      "     └─────────────┘               └────────────┘\n"
     ]
    }
   ],
   "source": [
    "n = 2\n",
    "d = 2**n\n",
    "#backend = AerSimulator()\n",
    "backend = FakeCasablanca()\n",
    "np.random.seed(42)\n",
    "random.seed(42)\n",
    "\n",
    "circuit_target1 = variational_circuit(n).reverse_bits()\n",
    "circuit_target2 = variational_circuit(n).reverse_bits()\n",
    "circuit_target3 = circuit_target1.compose(circuit_target2)\n",
    "print(circuit_target1)\n",
    "print(circuit_target2)\n",
    "\n",
    "N = 324\n",
    "input_list1, circuit_list1 = generate_pauli_circuits(circuit_target1, N, trace=False)\n",
    "input_list2, circuit_list2 = generate_pauli_circuits(circuit_target2, N, trace=False)\n",
    " \n",
    "input_list = []\n",
    "input_list.extend(input_list1)\n",
    "input_list.extend(input_list2)\n",
    "\n",
    "circuit_list = []\n",
    "circuit_list.extend(circuit_list1)\n",
    "circuit_list.extend(circuit_list2)\n",
    "\n",
    "    \n",
    "q_reg = qk.QuantumRegister(n)\n",
    "c_reg = qk.ClassicalRegister(n)\n",
    "circuit = qk.QuantumCircuit(q_reg, c_reg)\n",
    "\n",
    "circuit = circuit.compose(circuit_target3)\n",
    "\n",
    "circuit.measure(q_reg, c_reg)\n",
    "circuit_list.append(circuit)\n",
    "\n",
    "\n",
    "for i in range(d):\n",
    "    circuit_list.extend(generate_bitstring_circuits(n))\n",
    "    \n",
    "    \n",
    "job = qk.execute(circuit_list, backend, shots = 20000, optimization_level = 0)\n",
    "result = job.result()\n",
    "\n",
    "\n",
    "counts_list = [result.get_counts(circuit) for circuit in circuit_list]\n",
    "\n",
    "data = [input_list, counts_list]\n",
    "\n",
    "pickle.dump(data, open(\"..\\..\\data\\twoQubits_twoBlocks.p\", \"wb\"))"
   ]
  },
  {
   "cell_type": "markdown",
   "metadata": {},
   "source": [
    "## Three Qubit POVM, two blocks"
   ]
  },
  {
   "cell_type": "code",
   "execution_count": 9,
   "metadata": {},
   "outputs": [
    {
     "name": "stdout",
     "output_type": "stream",
     "text": [
      "      ┌────────────┐                ┌─────────────┐               \n",
      "q_0: ─┤ Ry(1.4577) ├────────────────┤ Rx(-2.1613) ├───────■───────\n",
      "      ├────────────┤ ┌─────────────┐└──────┬──────┘       │       \n",
      "q_1: ─┤ Ry(2.8319) ├─┤ Rx(0.61989) ├───────■──────────────┼───────\n",
      "     ┌┴────────────┴┐└──────┬──────┘               ┌──────┴──────┐\n",
      "q_2: ┤ Ry(-0.78829) ├───────■──────────────────────┤ Rx(-2.1615) ├\n",
      "     └──────────────┘                              └─────────────┘\n",
      "     ┌─────────────┐               ┌───────────┐               \n",
      "q_0: ┤ Ry(-1.9992) ├───────────────┤ Rx(-1.23) ├───────■───────\n",
      "     ├─────────────┤┌─────────────┐└─────┬─────┘       │       \n",
      "q_1: ┤ Ry(-1.8074) ├┤ Rx(-1.9892) ├──────■─────────────┼───────\n",
      "     └┬────────────┤└──────┬──────┘             ┌──────┴──────┐\n",
      "q_2: ─┤ Ry(2.0888) ├───────■────────────────────┤ Rx(0.15555) ├\n",
      "      └────────────┘                            └─────────────┘\n"
     ]
    }
   ],
   "source": [
    "n = 3\n",
    "d = 2**n\n",
    "#backend = AerSimulator()\n",
    "backend = FakeCasablanca()\n",
    "np.random.seed(42)\n",
    "random.seed(42)\n",
    "\n",
    "circuit_target1 = variational_circuit(n).reverse_bits()\n",
    "circuit_target2 = variational_circuit(n).reverse_bits()\n",
    "circuit_target3 = circuit_target1.compose(circuit_target2)\n",
    "print(circuit_target1)\n",
    "print(circuit_target2)\n",
    "\n",
    "N = 1000\n",
    "input_list1, circuit_list1 = generate_pauli_circuits(circuit_target1, N, trace=False)\n",
    "input_list2, circuit_list2 = generate_pauli_circuits(circuit_target2, N, trace=False)\n",
    " \n",
    "input_list = []\n",
    "input_list.extend(input_list1)\n",
    "input_list.extend(input_list2)\n",
    "\n",
    "circuit_list = []\n",
    "circuit_list.extend(circuit_list1)\n",
    "circuit_list.extend(circuit_list2)\n",
    "\n",
    "    \n",
    "q_reg = qk.QuantumRegister(n)\n",
    "c_reg = qk.ClassicalRegister(n)\n",
    "circuit = qk.QuantumCircuit(q_reg, c_reg)\n",
    "\n",
    "circuit = circuit.compose(circuit_target3)\n",
    "\n",
    "circuit.measure(q_reg, c_reg)\n",
    "circuit_list.append(circuit)\n",
    "\n",
    "\n",
    "for i in range(d):\n",
    "    circuit_list.extend(generate_bitstring_circuits(n))\n",
    "    \n",
    "    \n",
    "job = qk.execute(circuit_list, backend, shots = 20000, optimization_level = 0)\n",
    "result = job.result()\n",
    "\n",
    "\n",
    "counts_list = [result.get_counts(circuit) for circuit in circuit_list]\n",
    "\n",
    "data = [input_list, counts_list]\n",
    "\n",
    "pickle.dump(data, open(\"../../data/threeQubits_twoBlocks.p\", \"wb\"))"
   ]
  },
  {
   "cell_type": "code",
   "execution_count": null,
   "metadata": {},
   "outputs": [],
   "source": []
  }
 ],
 "metadata": {
  "kernelspec": {
   "display_name": "env_qiskit",
   "language": "python",
   "name": "env_qiskit"
  },
  "language_info": {
   "codemirror_mode": {
    "name": "ipython",
    "version": 3
   },
   "file_extension": ".py",
   "mimetype": "text/x-python",
   "name": "python",
   "nbconvert_exporter": "python",
   "pygments_lexer": "ipython3",
   "version": "3.10.4"
  }
 },
 "nbformat": 4,
 "nbformat_minor": 4
}
