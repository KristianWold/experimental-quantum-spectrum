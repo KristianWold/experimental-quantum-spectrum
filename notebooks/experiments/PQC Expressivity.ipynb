{
 "cells": [
  {
   "attachments": {},
   "cell_type": "markdown",
   "metadata": {},
   "source": [
    "# PQC Expressivity"
   ]
  },
  {
   "cell_type": "code",
   "execution_count": 2,
   "metadata": {},
   "outputs": [],
   "source": [
    "import sys\n",
    "sys.path.insert(0, '../../src_tf/')\n",
    "\n",
    "import numpy as np\n",
    "import qiskit as qk\n",
    "import matplotlib.pyplot as plt\n",
    "import multiprocessing as mp\n",
    "import random\n",
    "import pickle\n",
    "\n",
    "from qiskit.quantum_info import DensityMatrix, random_unitary\n",
    "from qiskit.quantum_info import Operator\n",
    "from scipy.linalg import sqrtm\n",
    "from tqdm.notebook import tqdm\n",
    "\n",
    "from loss_functions import *\n",
    "from optimization import *\n",
    "from quantum_channel import *\n",
    "from quantum_tools import *\n",
    "from experimental import *\n",
    "from spam import *\n",
    "from quantum_circuits import *\n",
    "from kraus_channels import *\n",
    "\n",
    "#np.set_printoptions(threshold=sys.maxsize)\n",
    "np.set_printoptions(precision=4)\n",
    "\n",
    "import os\n",
    "os.environ[\"CUDA_VISIBLE_DEVICES\"] = \"-1\""
   ]
  },
  {
   "cell_type": "markdown",
   "metadata": {},
   "source": [
    "## Four Qubits"
   ]
  },
  {
   "cell_type": "markdown",
   "metadata": {},
   "source": [
    "### Circuit Ensemble"
   ]
  },
  {
   "cell_type": "code",
   "execution_count": 9,
   "metadata": {},
   "outputs": [
    {
     "data": {
      "application/vnd.jupyter.widget-view+json": {
       "model_id": "4d7d615c9ceb41c38c685f6930f2b9ad",
       "version_major": 2,
       "version_minor": 0
      },
      "text/plain": [
       "  0%|          | 0/10000 [00:00<?, ?it/s]"
      ]
     },
     "metadata": {},
     "output_type": "display_data"
    },
    {
     "data": {
      "application/vnd.jupyter.widget-view+json": {
       "model_id": "35c495591a62487c9feb2d6e67c78fbc",
       "version_major": 2,
       "version_minor": 0
      },
      "text/plain": [
       "  0%|          | 0/10000 [00:00<?, ?it/s]"
      ]
     },
     "metadata": {},
     "output_type": "display_data"
    },
    {
     "data": {
      "application/vnd.jupyter.widget-view+json": {
       "model_id": "45c2ee5571b444e79dcb302c83c26e94",
       "version_major": 2,
       "version_minor": 0
      },
      "text/plain": [
       "  0%|          | 0/10000 [00:00<?, ?it/s]"
      ]
     },
     "metadata": {},
     "output_type": "display_data"
    },
    {
     "data": {
      "application/vnd.jupyter.widget-view+json": {
       "model_id": "7c5e42fd0f3e4f20a2c80923e5b99fcb",
       "version_major": 2,
       "version_minor": 0
      },
      "text/plain": [
       "  0%|          | 0/10000 [00:00<?, ?it/s]"
      ]
     },
     "metadata": {},
     "output_type": "display_data"
    },
    {
     "data": {
      "application/vnd.jupyter.widget-view+json": {
       "model_id": "6d3f6def250a402d9a069a96f6c653f7",
       "version_major": 2,
       "version_minor": 0
      },
      "text/plain": [
       "  0%|          | 0/10000 [00:00<?, ?it/s]"
      ]
     },
     "metadata": {},
     "output_type": "display_data"
    },
    {
     "data": {
      "application/vnd.jupyter.widget-view+json": {
       "model_id": "bc6b2e08acbe45fa90a18b9c9c1971dd",
       "version_major": 2,
       "version_minor": 0
      },
      "text/plain": [
       "  0%|          | 0/10000 [00:00<?, ?it/s]"
      ]
     },
     "metadata": {},
     "output_type": "display_data"
    },
    {
     "data": {
      "application/vnd.jupyter.widget-view+json": {
       "model_id": "c8840748b37c45d7a45a88f1a4a926ac",
       "version_major": 2,
       "version_minor": 0
      },
      "text/plain": [
       "  0%|          | 0/10000 [00:00<?, ?it/s]"
      ]
     },
     "metadata": {},
     "output_type": "display_data"
    },
    {
     "data": {
      "application/vnd.jupyter.widget-view+json": {
       "model_id": "805b95842ee84085895cce4a8a8b4761",
       "version_major": 2,
       "version_minor": 0
      },
      "text/plain": [
       "  0%|          | 0/10000 [00:00<?, ?it/s]"
      ]
     },
     "metadata": {},
     "output_type": "display_data"
    },
    {
     "data": {
      "application/vnd.jupyter.widget-view+json": {
       "model_id": "351e0963cb7d4f6b9f0d7a10a98f6423",
       "version_major": 2,
       "version_minor": 0
      },
      "text/plain": [
       "  0%|          | 0/10000 [00:00<?, ?it/s]"
      ]
     },
     "metadata": {},
     "output_type": "display_data"
    },
    {
     "data": {
      "application/vnd.jupyter.widget-view+json": {
       "model_id": "01cc1a1e468f4223926539f2d159d297",
       "version_major": 2,
       "version_minor": 0
      },
      "text/plain": [
       "  0%|          | 0/10000 [00:00<?, ?it/s]"
      ]
     },
     "metadata": {},
     "output_type": "display_data"
    },
    {
     "data": {
      "application/vnd.jupyter.widget-view+json": {
       "model_id": "8104800eaccd441daba97149a55c4e2c",
       "version_major": 2,
       "version_minor": 0
      },
      "text/plain": [
       "  0%|          | 0/10000 [00:00<?, ?it/s]"
      ]
     },
     "metadata": {},
     "output_type": "display_data"
    }
   ],
   "source": [
    "n = 4\n",
    "d = 2**n\n",
    "\n",
    "np.random.seed(42)\n",
    "random.seed(42)\n",
    "\n",
    "\n",
    "bins = np.linspace(0, 1, 75)\n",
    "\n",
    "F = (bins[1:] + bins[:-1])/2\n",
    "P_Haar = (d - 1)*(1-F)**(d-2)\n",
    "P_Haar = P_Haar/np.sum(P_Haar)\n",
    "\n",
    "KL_list = []\n",
    "for L in range(0, 11):\n",
    "    fid_list = []\n",
    "    for i in tqdm(range(10000)):\n",
    "        U1 = Operator(pqc_basic(n, L)).data\n",
    "        U2 = Operator(pqc_basic(n, L)).data\n",
    "        fid = U1.T.conj()@U2\n",
    "        fid_list.append(np.abs(fid[0,0])**2)\n",
    "    \n",
    "    P_pqc, bins = np.histogram(np.array(fid_list), bins = np.linspace(0, 1, 75))\n",
    "    P_pqc = P_pqc/np.sum(P_pqc)\n",
    "    KL = np.sum(P_pqc*np.log((P_pqc + 1e-32)/P_Haar))\n",
    "    \n",
    "    KL_list.append(KL)"
   ]
  },
  {
   "cell_type": "markdown",
   "metadata": {},
   "source": [
    "### Haar Ensemble"
   ]
  },
  {
   "cell_type": "code",
   "execution_count": 10,
   "metadata": {},
   "outputs": [
    {
     "data": {
      "application/vnd.jupyter.widget-view+json": {
       "model_id": "3789af6e1cd64fe18f0cfaad97add3c3",
       "version_major": 2,
       "version_minor": 0
      },
      "text/plain": [
       "  0%|          | 0/10000 [00:00<?, ?it/s]"
      ]
     },
     "metadata": {},
     "output_type": "display_data"
    },
    {
     "data": {
      "application/vnd.jupyter.widget-view+json": {
       "model_id": "c217e0ef25b34efbb88bb48bc9549ad2",
       "version_major": 2,
       "version_minor": 0
      },
      "text/plain": [
       "  0%|          | 0/10000 [00:00<?, ?it/s]"
      ]
     },
     "metadata": {},
     "output_type": "display_data"
    },
    {
     "data": {
      "application/vnd.jupyter.widget-view+json": {
       "model_id": "8fd331a47f16496896804d9f01afb2be",
       "version_major": 2,
       "version_minor": 0
      },
      "text/plain": [
       "  0%|          | 0/10000 [00:00<?, ?it/s]"
      ]
     },
     "metadata": {},
     "output_type": "display_data"
    },
    {
     "data": {
      "application/vnd.jupyter.widget-view+json": {
       "model_id": "a4037c1474954e5088df6dc7a6d80890",
       "version_major": 2,
       "version_minor": 0
      },
      "text/plain": [
       "  0%|          | 0/10000 [00:00<?, ?it/s]"
      ]
     },
     "metadata": {},
     "output_type": "display_data"
    },
    {
     "data": {
      "application/vnd.jupyter.widget-view+json": {
       "model_id": "b04625715d25456f8a83c0dd32013197",
       "version_major": 2,
       "version_minor": 0
      },
      "text/plain": [
       "  0%|          | 0/10000 [00:00<?, ?it/s]"
      ]
     },
     "metadata": {},
     "output_type": "display_data"
    },
    {
     "data": {
      "application/vnd.jupyter.widget-view+json": {
       "model_id": "4b2631bd72324dc9bd83a1838339d3bb",
       "version_major": 2,
       "version_minor": 0
      },
      "text/plain": [
       "  0%|          | 0/10000 [00:00<?, ?it/s]"
      ]
     },
     "metadata": {},
     "output_type": "display_data"
    },
    {
     "data": {
      "application/vnd.jupyter.widget-view+json": {
       "model_id": "7f97c7d715624483a2be70ef9cb56015",
       "version_major": 2,
       "version_minor": 0
      },
      "text/plain": [
       "  0%|          | 0/10000 [00:00<?, ?it/s]"
      ]
     },
     "metadata": {},
     "output_type": "display_data"
    },
    {
     "data": {
      "application/vnd.jupyter.widget-view+json": {
       "model_id": "d9e695388eef4bd4b575088f1cdc076a",
       "version_major": 2,
       "version_minor": 0
      },
      "text/plain": [
       "  0%|          | 0/10000 [00:00<?, ?it/s]"
      ]
     },
     "metadata": {},
     "output_type": "display_data"
    },
    {
     "data": {
      "application/vnd.jupyter.widget-view+json": {
       "model_id": "84912a57a18647138f6b00f4aeaca44b",
       "version_major": 2,
       "version_minor": 0
      },
      "text/plain": [
       "  0%|          | 0/10000 [00:00<?, ?it/s]"
      ]
     },
     "metadata": {},
     "output_type": "display_data"
    },
    {
     "data": {
      "application/vnd.jupyter.widget-view+json": {
       "model_id": "11f3a18939c24cf28eddf441eb45651c",
       "version_major": 2,
       "version_minor": 0
      },
      "text/plain": [
       "  0%|          | 0/10000 [00:00<?, ?it/s]"
      ]
     },
     "metadata": {},
     "output_type": "display_data"
    }
   ],
   "source": [
    "n = 4\n",
    "d = 2**n\n",
    "\n",
    "np.random.seed(42)\n",
    "random.seed(42)\n",
    "\n",
    "\n",
    "bins = np.linspace(0, 1, 75)\n",
    "\n",
    "F = (bins[1:] + bins[:-1])/2\n",
    "P_Haar = (d - 1)*(1-F)**(d-2)\n",
    "P_Haar = P_Haar/np.sum(P_Haar)\n",
    "\n",
    "KL_list2 = []\n",
    "for i in range(10):\n",
    "    fid_list = []\n",
    "    for i in tqdm(range(10000)):\n",
    "        U1 = Operator(random_unitary(d)).data\n",
    "        U2 = Operator(random_unitary(d)).data\n",
    "        fid = U1.T.conj()@U2\n",
    "        fid_list.append(np.abs(fid[0,0])**2)\n",
    "\n",
    "    P_pqc, bins = np.histogram(np.array(fid_list), bins = np.linspace(0, 1, 75))\n",
    "    P_pqc = P_pqc/np.sum(P_pqc)\n",
    "    KL = np.sum(P_pqc*np.log((P_pqc + 1e-32)/P_Haar))\n",
    "    KL_list2.append(KL)\n",
    "\n",
    "haar_KL_mean = np.mean(KL_list2)\n",
    "haar_KL_std = np.std(KL_list2)"
   ]
  },
  {
   "cell_type": "code",
   "execution_count": 13,
   "metadata": {},
   "outputs": [
    {
     "data": {
      "image/png": "[encoded data removed]",
      "text/plain": [
       "<Figure size 1800x1200 with 1 Axes>"
      ]
     },
     "metadata": {},
     "output_type": "display_data"
    }
   ],
   "source": [
    "fig=plt.figure(figsize=(6,4), dpi = 300, facecolor='w', edgecolor='k')\n",
    "plt.plot(list(range(0,11)), KL_list, \"o-\")\n",
    "plt.plot(list(range(0,11)), [haar_KL_mean]*11, \"o-\")\n",
    "plt.grid()\n",
    "plt.legend([\"PQC\", \"Haar\"])\n",
    "plt.xlabel(\"Layers\")\n",
    "plt.ylabel(\"KL-Div\")\n",
    "plt.yscale(\"log\")\n",
    "plt.savefig(\"PQC_Haar_approx_4qubits.pdf\", bbox_inches='tight')\n",
    "plt.show()"
   ]
  },
  {
   "cell_type": "code",
   "execution_count": 14,
   "metadata": {},
   "outputs": [],
   "source": [
    "np.savetxt(\"PQC_Haar_approx_4qubits_10Ksamples.txt\", KL_list)"
   ]
  },
  {
   "cell_type": "markdown",
   "metadata": {},
   "source": [
    "## More Samples"
   ]
  },
  {
   "cell_type": "code",
   "execution_count": 6,
   "metadata": {},
   "outputs": [
    {
     "data": {
      "application/vnd.jupyter.widget-view+json": {
       "model_id": "36a60f4b7ae7473cb7626d22188ffda6",
       "version_major": 2,
       "version_minor": 0
      },
      "text/plain": [
       "  0%|          | 0/1000000 [00:00<?, ?it/s]"
      ]
     },
     "metadata": {},
     "output_type": "display_data"
    },
    {
     "data": {
      "application/vnd.jupyter.widget-view+json": {
       "model_id": "41606c611ffd4fc6ac7f3213fadc4c2e",
       "version_major": 2,
       "version_minor": 0
      },
      "text/plain": [
       "  0%|          | 0/1000000 [00:00<?, ?it/s]"
      ]
     },
     "metadata": {},
     "output_type": "display_data"
    }
   ],
   "source": [
    "n = 4\n",
    "d = 2**n\n",
    "\n",
    "np.random.seed(42)\n",
    "random.seed(42)\n",
    "\n",
    "\n",
    "bins = np.linspace(0, 1, 75)\n",
    "\n",
    "F = (bins[1:] + bins[:-1])/2\n",
    "P_Haar = (d - 1)*(1-F)**(d-2)\n",
    "P_Haar = P_Haar/np.sum(P_Haar)\n",
    "\n",
    "KL_list = []\n",
    "for L in range(0, 11):\n",
    "    fid_list = []\n",
    "    for i in tqdm(range(1000000)):\n",
    "        U1 = Operator(pqc_basic(n, L)).data\n",
    "        U2 = Operator(pqc_basic(n, L)).data\n",
    "        fid = U1.T.conj()@U2\n",
    "        fid_list.append(np.abs(fid[0,0])**2)\n",
    "    \n",
    "    P_pqc, bins = np.histogram(np.array(fid_list), bins = np.linspace(0, 1, 75))\n",
    "    P_pqc = P_pqc/np.sum(P_pqc)\n",
    "    KL = np.sum(P_pqc*np.log((P_pqc + 1e-32)/P_Haar))\n",
    "    \n",
    "    KL_list.append(KL)"
   ]
  },
  {
   "cell_type": "code",
   "execution_count": null,
   "metadata": {},
   "outputs": [],
   "source": [
    "np.savetxt(\"PQC_Haar_approx_4qubits_1Msamples.txt\", KL_list)"
   ]
  },
  {
   "cell_type": "code",
   "execution_count": null,
   "metadata": {},
   "outputs": [
    {
     "data": {
      "application/vnd.jupyter.widget-view+json": {
       "model_id": "087e1e2e165846fc867a52d9807d53f8",
       "version_major": 2,
       "version_minor": 0
      },
      "text/plain": [
       "  0%|          | 0/1000000 [00:00<?, ?it/s]"
      ]
     },
     "metadata": {},
     "output_type": "display_data"
    },
    {
     "ename": "KeyboardInterrupt",
     "evalue": "",
     "output_type": "error",
     "traceback": [
      "\u001b[1;31m---------------------------------------------------------------------------\u001b[0m",
      "\u001b[1;31mKeyboardInterrupt\u001b[0m                         Traceback (most recent call last)",
      "Input \u001b[1;32mIn [3]\u001b[0m, in \u001b[0;36m<cell line: 15>\u001b[1;34m()\u001b[0m\n\u001b[0;32m     17\u001b[0m \u001b[38;5;28;01mfor\u001b[39;00m i \u001b[38;5;129;01min\u001b[39;00m tqdm(\u001b[38;5;28mrange\u001b[39m(\u001b[38;5;241m1000000\u001b[39m)):\n\u001b[0;32m     18\u001b[0m     U1 \u001b[38;5;241m=\u001b[39m Operator(random_unitary(d))\u001b[38;5;241m.\u001b[39mdata\n\u001b[1;32m---> 19\u001b[0m     U2 \u001b[38;5;241m=\u001b[39m Operator(\u001b[43mrandom_unitary\u001b[49m\u001b[43m(\u001b[49m\u001b[43md\u001b[49m\u001b[43m)\u001b[49m)\u001b[38;5;241m.\u001b[39mdata\n\u001b[0;32m     20\u001b[0m     fid \u001b[38;5;241m=\u001b[39m U1\u001b[38;5;241m.\u001b[39mT\u001b[38;5;241m.\u001b[39mconj()\u001b[38;5;129m@U2\u001b[39m\n\u001b[0;32m     21\u001b[0m     fid_list\u001b[38;5;241m.\u001b[39mappend(np\u001b[38;5;241m.\u001b[39mabs(fid[\u001b[38;5;241m0\u001b[39m,\u001b[38;5;241m0\u001b[39m])\u001b[38;5;241m*\u001b[39m\u001b[38;5;241m*\u001b[39m\u001b[38;5;241m2\u001b[39m)\n",
      "File \u001b[1;32m~\\AppData\\Roaming\\Python\\Python310\\site-packages\\qiskit\\quantum_info\\operators\\random.py:60\u001b[0m, in \u001b[0;36mrandom_unitary\u001b[1;34m(dims, seed)\u001b[0m\n\u001b[0;32m     57\u001b[0m dim \u001b[38;5;241m=\u001b[39m np\u001b[38;5;241m.\u001b[39mprod(dims)\n\u001b[0;32m     58\u001b[0m \u001b[38;5;28;01mfrom\u001b[39;00m \u001b[38;5;21;01mscipy\u001b[39;00m \u001b[38;5;28;01mimport\u001b[39;00m stats\n\u001b[1;32m---> 60\u001b[0m mat \u001b[38;5;241m=\u001b[39m \u001b[43mstats\u001b[49m\u001b[38;5;241;43m.\u001b[39;49m\u001b[43munitary_group\u001b[49m\u001b[38;5;241;43m.\u001b[39;49m\u001b[43mrvs\u001b[49m\u001b[43m(\u001b[49m\u001b[43mdim\u001b[49m\u001b[43m,\u001b[49m\u001b[43m \u001b[49m\u001b[43mrandom_state\u001b[49m\u001b[38;5;241;43m=\u001b[39;49m\u001b[43mrandom_state\u001b[49m\u001b[43m)\u001b[49m\n\u001b[0;32m     61\u001b[0m \u001b[38;5;28;01mreturn\u001b[39;00m Operator(mat, input_dims\u001b[38;5;241m=\u001b[39mdims, output_dims\u001b[38;5;241m=\u001b[39mdims)\n",
      "File \u001b[1;32mc:\\Users\\krist\\anaconda3\\envs\\env_qiskit\\lib\\site-packages\\scipy\\stats\\_multivariate.py:4186\u001b[0m, in \u001b[0;36munitary_group_gen.rvs\u001b[1;34m(self, dim, size, random_state)\u001b[0m\n\u001b[0;32m   4183\u001b[0m dim \u001b[38;5;241m=\u001b[39m \u001b[38;5;28mself\u001b[39m\u001b[38;5;241m.\u001b[39m_process_parameters(dim)\n\u001b[0;32m   4185\u001b[0m size \u001b[38;5;241m=\u001b[39m (size,) \u001b[38;5;28;01mif\u001b[39;00m size \u001b[38;5;241m>\u001b[39m \u001b[38;5;241m1\u001b[39m \u001b[38;5;28;01melse\u001b[39;00m ()\n\u001b[1;32m-> 4186\u001b[0m z \u001b[38;5;241m=\u001b[39m \u001b[38;5;241m1\u001b[39m\u001b[38;5;241m/\u001b[39mmath\u001b[38;5;241m.\u001b[39msqrt(\u001b[38;5;241m2\u001b[39m)\u001b[38;5;241m*\u001b[39m(\u001b[43mrandom_state\u001b[49m\u001b[38;5;241;43m.\u001b[39;49m\u001b[43mnormal\u001b[49m\u001b[43m(\u001b[49m\u001b[43msize\u001b[49m\u001b[38;5;241;43m=\u001b[39;49m\u001b[43msize\u001b[49m\u001b[43m \u001b[49m\u001b[38;5;241;43m+\u001b[39;49m\u001b[43m \u001b[49m\u001b[43m(\u001b[49m\u001b[43mdim\u001b[49m\u001b[43m,\u001b[49m\u001b[43m \u001b[49m\u001b[43mdim\u001b[49m\u001b[43m)\u001b[49m\u001b[43m)\u001b[49m \u001b[38;5;241m+\u001b[39m\n\u001b[0;32m   4187\u001b[0m                     \u001b[38;5;241m1\u001b[39mj\u001b[38;5;241m*\u001b[39mrandom_state\u001b[38;5;241m.\u001b[39mnormal(size\u001b[38;5;241m=\u001b[39msize \u001b[38;5;241m+\u001b[39m (dim, dim)))\n\u001b[0;32m   4188\u001b[0m q, r \u001b[38;5;241m=\u001b[39m np\u001b[38;5;241m.\u001b[39mlinalg\u001b[38;5;241m.\u001b[39mqr(z)\n\u001b[0;32m   4189\u001b[0m \u001b[38;5;66;03m# The last two dimensions are the rows and columns of R matrices.\u001b[39;00m\n\u001b[0;32m   4190\u001b[0m \u001b[38;5;66;03m# Extract the diagonals. Note that this eliminates a dimension.\u001b[39;00m\n",
      "\u001b[1;31mKeyboardInterrupt\u001b[0m: "
     ]
    }
   ],
   "source": [
    "n = 4\n",
    "d = 2**n\n",
    "\n",
    "np.random.seed(42)\n",
    "random.seed(42)\n",
    "\n",
    "\n",
    "bins = np.linspace(0, 1, 75)\n",
    "\n",
    "F = (bins[1:] + bins[:-1])/2\n",
    "P_Haar = (d - 1)*(1-F)**(d-2)\n",
    "P_Haar = P_Haar/np.sum(P_Haar)\n",
    "\n",
    "KL_list2 = []\n",
    "for i in range(10):\n",
    "    fid_list = []\n",
    "    for i in tqdm(range(1000000)):\n",
    "        U1 = Operator(random_unitary(d)).data\n",
    "        U2 = Operator(random_unitary(d)).data\n",
    "        fid = U1.T.conj()@U2\n",
    "        fid_list.append(np.abs(fid[0,0])**2)\n",
    "\n",
    "    P_pqc, bins = np.histogram(np.array(fid_list), bins = np.linspace(0, 1, 75))\n",
    "    P_pqc = P_pqc/np.sum(P_pqc)\n",
    "    KL = np.sum(P_pqc*np.log((P_pqc + 1e-32)/P_Haar))\n",
    "    KL_list2.append(KL)\n",
    "\n",
    "haar_KL_mean = np.mean(KL_list2)\n",
    "haar_KL_std = np.std(KL_list2)"
   ]
  },
  {
   "cell_type": "code",
   "execution_count": null,
   "metadata": {},
   "outputs": [],
   "source": [
    "fig=plt.figure(figsize=(6,4), dpi = 300, facecolor='w', edgecolor='k')\n",
    "plt.plot(list(range(0,11)), KL_list, \"o-\")\n",
    "plt.plot(list(range(0,11)), [haar_KL_mean]*11, \"o-\")\n",
    "plt.grid()\n",
    "plt.legend([\"PQC\", \"Haar\"])\n",
    "plt.xlabel(\"Layers\")\n",
    "plt.ylabel(\"KL-Div\")\n",
    "plt.yscale(\"log\")\n",
    "plt.savefig(\"PQC_Haar_approx_4qubits.pdf\", bbox_inches='tight')\n",
    "plt.show()"
   ]
  }
 ],
 "metadata": {
  "kernelspec": {
   "display_name": "env_qiskit",
   "language": "python",
   "name": "env_qiskit"
  },
  "language_info": {
   "codemirror_mode": {
    "name": "ipython",
    "version": 3
   },
   "file_extension": ".py",
   "mimetype": "text/x-python",
   "name": "python",
   "nbconvert_exporter": "python",
   "pygments_lexer": "ipython3",
   "version": "3.10.4"
  }
 },
 "nbformat": 4,
 "nbformat_minor": 4
}
