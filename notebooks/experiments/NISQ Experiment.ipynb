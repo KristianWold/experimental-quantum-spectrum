{
 "cells": [
  {
   "cell_type": "markdown",
   "metadata": {},
   "source": [
    "# NISQ Experiment"
   ]
  },
  {
   "cell_type": "code",
   "execution_count": 1,
   "metadata": {},
   "outputs": [],
   "source": [
    "import sys\n",
    "sys.path.insert(0, '../../src_tf/')\n",
    "\n",
    "import numpy as np\n",
    "import qiskit as qk\n",
    "import matplotlib.pyplot as plt\n",
    "import multiprocessing as mp\n",
    "import random\n",
    "import pickle\n",
    "\n",
    "from qiskit.quantum_info import DensityMatrix\n",
    "from qiskit.quantum_info import Operator\n",
    "from qiskit import Aer\n",
    "from scipy.linalg import sqrtm\n",
    "from tqdm.notebook import tqdm\n",
    "from qiskit.providers.aer import AerSimulator\n",
    "from copy import deepcopy\n",
    "\n",
    "from loss_functions import *\n",
    "from optimization import *\n",
    "from quantum_maps import *\n",
    "from quantum_tools import *\n",
    "from utils import *\n",
    "from experiments import *\n",
    "from qiskit.providers.fake_provider import FakeCasablanca\n",
    "#np.set_printoptions(threshold=sys.maxsize)"
   ]
  },
  {
   "cell_type": "code",
   "execution_count": 2,
   "metadata": {},
   "outputs": [],
   "source": [
    "from qiskit import QuantumRegister, ClassicalRegister, QuantumCircuit\n",
    "from qiskit.tools.visualization import circuit_drawer\n",
    "from qiskit.quantum_info import random_unitary, Operator"
   ]
  },
  {
   "cell_type": "code",
   "execution_count": 3,
   "metadata": {},
   "outputs": [],
   "source": [
    "#qk.IBMQ.save_account(\"a9ec3c697bede976217e9ff6c5c0f19a2511ea34a225bbe10f0c74bda39de845d16fa3f7c30b47c5714e2b695aded3cfd474e7c1b33056014fab89301b83d724\", overwrite=True) \n",
    "provider = qk.IBMQ.load_account()\n",
    "provider = qk.IBMQ.get_provider(hub='ibm-q', group='open', project='main')\n",
    "backend = provider.get_backend(\"ibmq_manila\")\n",
    "\n",
    "#backend = AerSimulator()"
   ]
  },
  {
   "cell_type": "code",
   "execution_count": 4,
   "metadata": {},
   "outputs": [],
   "source": [
    "def execute_and_collect(circuit_list, backend, file_name):\n",
    "    N = len(circuit_list)\n",
    "    num_batches = N//500\n",
    "    circuit_batch_list = [circuit_list[500*i: 500*(i+1)] for i in range(num_batches)]\n",
    "    counts_list = []\n",
    "    for i, circuit_batch in enumerate(tqdm(circuit_batch_list)):\n",
    "        circuit_parcel_list = [circuit_batch[100*j: 100*(j+1)] for j in range(5)]\n",
    "        job_list = []\n",
    "        \n",
    "        for circuit_parcel in circuit_parcel_list:\n",
    "            job = qk.execute(circuit_parcel, backend, shots = 20000, optimization_level = 0, seed_transpiler=42)\n",
    "            job_list.append(job)\n",
    "        \n",
    "        result_list = []\n",
    "        for job in tqdm(job_list):\n",
    "            result_list.append(job.result())\n",
    "            \n",
    "        for result, circuit_parcel in zip(result_list, circuit_parcel_list):\n",
    "            counts_list.extend([result.get_counts(circuit) for circuit in circuit_parcel])\n",
    "        \n",
    "        pickle.dump(counts_list, open(f\"../../data/{file_name}_{i}.p\", \"wb\"))   \n",
    "        \n",
    "    return counts_list  "
   ]
  },
  {
   "cell_type": "markdown",
   "metadata": {},
   "source": [
    "## Pauli String Expectation Values"
   ]
  },
  {
   "cell_type": "markdown",
   "metadata": {},
   "source": [
    "## Four Qubit QFT"
   ]
  },
  {
   "cell_type": "code",
   "execution_count": 42,
   "metadata": {},
   "outputs": [],
   "source": [
    "def qft(n):\n",
    "    circuit = qk.QuantumCircuit(n)\n",
    "    for i in range(n):\n",
    "        circuit.h(i)\n",
    "        for j in range(i+1, n):\n",
    "            circuit.cp(2*np.pi/2**(j-i+1), j, i)\n",
    "            \n",
    "    return circuit"
   ]
  },
  {
   "cell_type": "code",
   "execution_count": 40,
   "metadata": {},
   "outputs": [],
   "source": [
    "n = 4\n",
    "d = 2**n\n",
    "\n",
    "np.random.seed(42)\n",
    "random.seed(42)\n",
    "\n",
    "circuit_target = qft(n).reverse_bits()\n",
    "\n",
    "N = 5000-6**n\n",
    "input_map_list, circuit_list = generate_pauli_circuits(n, circuit_target, N)\n",
    "\n",
    "inputs_spam, circuit_spam = generate_pauliInput_circuits(n)\n",
    "\n",
    "circuit_list.extend(circuit_spam)"
   ]
  },
  {
   "cell_type": "code",
   "execution_count": 41,
   "metadata": {},
   "outputs": [
    {
     "data": {
      "application/vnd.jupyter.widget-view+json": {
       "model_id": "916bba3d160e410eb6a67118d085b101",
       "version_major": 2,
       "version_minor": 0
      },
      "text/plain": [
       "  0%|          | 0/10 [00:00<?, ?it/s]"
      ]
     },
     "metadata": {},
     "output_type": "display_data"
    },
    {
     "data": {
      "application/vnd.jupyter.widget-view+json": {
       "model_id": "3500ecd98bdb4b32a72f3b950c346474",
       "version_major": 2,
       "version_minor": 0
      },
      "text/plain": [
       "  0%|          | 0/5 [00:00<?, ?it/s]"
      ]
     },
     "metadata": {},
     "output_type": "display_data"
    },
    {
     "data": {
      "application/vnd.jupyter.widget-view+json": {
       "model_id": "13694fb8367d48c487b13375275487e1",
       "version_major": 2,
       "version_minor": 0
      },
      "text/plain": [
       "  0%|          | 0/5 [00:00<?, ?it/s]"
      ]
     },
     "metadata": {},
     "output_type": "display_data"
    },
    {
     "data": {
      "application/vnd.jupyter.widget-view+json": {
       "model_id": "d12652ba167b4022aaa83a3699980842",
       "version_major": 2,
       "version_minor": 0
      },
      "text/plain": [
       "  0%|          | 0/5 [00:00<?, ?it/s]"
      ]
     },
     "metadata": {},
     "output_type": "display_data"
    },
    {
     "data": {
      "application/vnd.jupyter.widget-view+json": {
       "model_id": "f58b70500a9a47a6aeefc1edb8aaa76f",
       "version_major": 2,
       "version_minor": 0
      },
      "text/plain": [
       "  0%|          | 0/5 [00:00<?, ?it/s]"
      ]
     },
     "metadata": {},
     "output_type": "display_data"
    },
    {
     "data": {
      "application/vnd.jupyter.widget-view+json": {
       "model_id": "fa3392e956df453d85064079faffd52a",
       "version_major": 2,
       "version_minor": 0
      },
      "text/plain": [
       "  0%|          | 0/5 [00:00<?, ?it/s]"
      ]
     },
     "metadata": {},
     "output_type": "display_data"
    },
    {
     "data": {
      "application/vnd.jupyter.widget-view+json": {
       "model_id": "d75c33488f3347d1b440a1e4401aec98",
       "version_major": 2,
       "version_minor": 0
      },
      "text/plain": [
       "  0%|          | 0/5 [00:00<?, ?it/s]"
      ]
     },
     "metadata": {},
     "output_type": "display_data"
    },
    {
     "data": {
      "application/vnd.jupyter.widget-view+json": {
       "model_id": "552060a4ee9545e5801bbd35d6be13af",
       "version_major": 2,
       "version_minor": 0
      },
      "text/plain": [
       "  0%|          | 0/5 [00:00<?, ?it/s]"
      ]
     },
     "metadata": {},
     "output_type": "display_data"
    },
    {
     "data": {
      "application/vnd.jupyter.widget-view+json": {
       "model_id": "efaea68a6d1d4a049c74384a823545e2",
       "version_major": 2,
       "version_minor": 0
      },
      "text/plain": [
       "  0%|          | 0/5 [00:00<?, ?it/s]"
      ]
     },
     "metadata": {},
     "output_type": "display_data"
    },
    {
     "data": {
      "application/vnd.jupyter.widget-view+json": {
       "model_id": "25373064e0fb43a594b280c27bb93dda",
       "version_major": 2,
       "version_minor": 0
      },
      "text/plain": [
       "  0%|          | 0/5 [00:00<?, ?it/s]"
      ]
     },
     "metadata": {},
     "output_type": "display_data"
    },
    {
     "data": {
      "application/vnd.jupyter.widget-view+json": {
       "model_id": "2059298993b54433a7a79fd9fbc10ec5",
       "version_major": 2,
       "version_minor": 0
      },
      "text/plain": [
       "  0%|          | 0/5 [00:00<?, ?it/s]"
      ]
     },
     "metadata": {},
     "output_type": "display_data"
    }
   ],
   "source": [
    "counts_list = execute_and_collect(circuit_list, backend, 'fourQubits_QFT')\n",
    "data = [input_map_list, inputs_spam, counts_list]\n",
    "pickle.dump(data, open(\"../../data/fourQubits_QFT.p\", \"wb\"))"
   ]
  },
  {
   "cell_type": "markdown",
   "metadata": {},
   "source": [
    "### More data"
   ]
  },
  {
   "cell_type": "code",
   "execution_count": 43,
   "metadata": {},
   "outputs": [],
   "source": [
    "n = 4\n",
    "d = 2**n\n",
    "\n",
    "np.random.seed(42)\n",
    "random.seed(42)\n",
    "\n",
    "circuit_target = qft(n).reverse_bits()\n",
    "\n",
    "N = 5000-6**n + 2000\n",
    "input_map_list, circuit_list = generate_pauli_circuits(n, circuit_target, N)\n",
    "\n",
    "input_map_list = [input_map_list[0][-2000:], input_map_list[1][-2000:]]\n",
    "circuit_list = circuit_list[-2000:]"
   ]
  },
  {
   "cell_type": "code",
   "execution_count": 45,
   "metadata": {},
   "outputs": [
    {
     "data": {
      "application/vnd.jupyter.widget-view+json": {
       "model_id": "9086877129b7436798a7e37c7a8f6d7f",
       "version_major": 2,
       "version_minor": 0
      },
      "text/plain": [
       "  0%|          | 0/4 [00:00<?, ?it/s]"
      ]
     },
     "metadata": {},
     "output_type": "display_data"
    },
    {
     "data": {
      "application/vnd.jupyter.widget-view+json": {
       "model_id": "839babef04c1443482d9fdf9e56b6b8e",
       "version_major": 2,
       "version_minor": 0
      },
      "text/plain": [
       "  0%|          | 0/5 [00:00<?, ?it/s]"
      ]
     },
     "metadata": {},
     "output_type": "display_data"
    },
    {
     "data": {
      "application/vnd.jupyter.widget-view+json": {
       "model_id": "a0298cb46179487cb47cbbf88f024294",
       "version_major": 2,
       "version_minor": 0
      },
      "text/plain": [
       "  0%|          | 0/5 [00:00<?, ?it/s]"
      ]
     },
     "metadata": {},
     "output_type": "display_data"
    },
    {
     "data": {
      "application/vnd.jupyter.widget-view+json": {
       "model_id": "917164c8677a42cdae55c416db4f5394",
       "version_major": 2,
       "version_minor": 0
      },
      "text/plain": [
       "  0%|          | 0/5 [00:00<?, ?it/s]"
      ]
     },
     "metadata": {},
     "output_type": "display_data"
    },
    {
     "data": {
      "application/vnd.jupyter.widget-view+json": {
       "model_id": "5ca3254cb7c44307ad96af133c2529c4",
       "version_major": 2,
       "version_minor": 0
      },
      "text/plain": [
       "  0%|          | 0/5 [00:00<?, ?it/s]"
      ]
     },
     "metadata": {},
     "output_type": "display_data"
    }
   ],
   "source": [
    "counts_list = execute_and_collect(circuit_list, backend, 'fourQubits_QFT_more')\n",
    "data = [input_map_list, counts_list]\n",
    "pickle.dump(data, open(\"../../data/fourQubits_QFT_more.p\", \"wb\"))"
   ]
  },
  {
   "cell_type": "markdown",
   "metadata": {},
   "source": [
    "## Mock Data\n",
    "\n",
    "### Two Qubits"
   ]
  },
  {
   "cell_type": "code",
   "execution_count": null,
   "metadata": {},
   "outputs": [],
   "source": [
    "n = 2\n",
    "d = 2**n\n",
    "\n",
    "np.random.seed(42)\n",
    "random.seed(42)\n",
    "\n",
    "circuit_target = variational_circuit(n).reverse_bits()\n",
    "print(circuit_target)\n",
    "\n",
    "N = 324\n",
    "input_list, circuit_list = generate_pauli_circuits(n, circuit_target, N)\n",
    "\n",
    "for i in range(1, 21):\n",
    "    q_reg = qk.QuantumRegister(n)\n",
    "    c_reg = qk.ClassicalRegister(n)\n",
    "    circuit = qk.QuantumCircuit(q_reg, c_reg)\n",
    "    for j in range(i):\n",
    "        circuit = circuit.compose(circuit_target)\n",
    "        \n",
    "    circuit.measure(q_reg, c_reg)\n",
    "    circuit_list.append(circuit)\n",
    "    \n",
    "for i in range(d):\n",
    "    circuit_list.extend(generate_bitstring_circuits(n)) "
   ]
  },
  {
   "cell_type": "code",
   "execution_count": null,
   "metadata": {},
   "outputs": [],
   "source": [
    "backend = FakeCasablanca()\n",
    "\n",
    "job1 = qk.execute(circuit_list[:100], backend, shots = 20000, optimization_level = 0, seed_transpiler=42)\n",
    "job2 = qk.execute(circuit_list[100:200], backend, shots = 20000, optimization_level = 0, seed_transpiler=42)\n",
    "job3 = qk.execute(circuit_list[200:300], backend, shots = 20000, optimization_level = 0, seed_transpiler=42)\n",
    "job4 = qk.execute(circuit_list[300:400], backend, shots = 20000, optimization_level = 0, seed_transpiler=42)\n",
    "\n",
    "result1 = job1.result()\n",
    "result2 = job2.result()\n",
    "result3 = job3.result()\n",
    "result4 = job4.result()\n",
    "counts_list = [result1.get_counts(circuit) for circuit in circuit_list[:100]]\n",
    "counts_list.extend([result2.get_counts(circuit) for circuit in circuit_list[100:200]])\n",
    "counts_list.extend([result3.get_counts(circuit) for circuit in circuit_list[200:300]])\n",
    "counts_list.extend([result4.get_counts(circuit) for circuit in circuit_list[300:400]])\n",
    "\n",
    "data = [input_list, counts_list[:N], counts_list[N:N+20], counts_list[N+20:N+20+d**2]]\n",
    "\n",
    "pickle.dump(data, open(\"../../data/twoQubits_pauliStrings_corrMat_mock.p\", \"wb\"))"
   ]
  },
  {
   "cell_type": "markdown",
   "metadata": {},
   "source": [
    "### Three Qubits"
   ]
  },
  {
   "cell_type": "code",
   "execution_count": null,
   "metadata": {},
   "outputs": [],
   "source": [
    "n = 3\n",
    "d = 2**n\n",
    "\n",
    "np.random.seed(42)\n",
    "random.seed(42)\n",
    "\n",
    "circuit_target = variational_circuit(n).reverse_bits()\n",
    "print(circuit_target)\n",
    "\n",
    "N = 1000-20-d**2\n",
    "input_map_list, circuit_list = generate_pauli_circuits(n, circuit_target, N)\n",
    "\n",
    "\n",
    "for i in range(1, 21):\n",
    "    q_reg = qk.QuantumRegister(n)\n",
    "    c_reg = qk.ClassicalRegister(n)\n",
    "    circuit = qk.QuantumCircuit(q_reg, c_reg)\n",
    "    for j in range(i):\n",
    "        circuit = circuit.compose(circuit_target)\n",
    "        \n",
    "    circuit.measure(q_reg, c_reg)\n",
    "    circuit_list.append(circuit)\n",
    "    \n",
    "for i in range(d):\n",
    "    circuit_list.extend(generate_bitstring_circuits(n)) "
   ]
  },
  {
   "cell_type": "code",
   "execution_count": null,
   "metadata": {},
   "outputs": [],
   "source": [
    "job1 = qk.execute(circuit_list[:100], backend, shots = 20000, optimization_level = 0, seed_transpiler=42)\n",
    "job2 = qk.execute(circuit_list[100:200], backend, shots = 20000, optimization_level = 0, seed_transpiler=42)\n",
    "job3 = qk.execute(circuit_list[200:300], backend, shots = 20000, optimization_level = 0, seed_transpiler=42)\n",
    "job4 = qk.execute(circuit_list[300:400], backend, shots = 20000, optimization_level = 0, seed_transpiler=42)\n",
    "job5 = qk.execute(circuit_list[400:500], backend, shots = 20000, optimization_level = 0, seed_transpiler=42)\n",
    "\n",
    "result1 = job1.result()\n",
    "result2 = job2.result()\n",
    "result3 = job3.result()\n",
    "result4 = job4.result()\n",
    "result5 = job5.result()\n",
    "\n",
    "counts_list = [result1.get_counts(circuit) for circuit in circuit_list[:100]]\n",
    "counts_list.extend([result2.get_counts(circuit) for circuit in circuit_list[100:200]])\n",
    "counts_list.extend([result3.get_counts(circuit) for circuit in circuit_list[200:300]])\n",
    "counts_list.extend([result4.get_counts(circuit) for circuit in circuit_list[300:400]])\n",
    "counts_list.extend([result5.get_counts(circuit) for circuit in circuit_list[400:500]])"
   ]
  },
  {
   "cell_type": "code",
   "execution_count": null,
   "metadata": {},
   "outputs": [],
   "source": [
    "job6 = qk.execute(circuit_list[500:600], backend, shots = 20000, optimization_level = 0, seed_transpiler=42)\n",
    "job7 = qk.execute(circuit_list[600:700], backend, shots = 20000, optimization_level = 0, seed_transpiler=42)\n",
    "job8 = qk.execute(circuit_list[700:800], backend, shots = 20000, optimization_level = 0, seed_transpiler=42)\n",
    "job9 = qk.execute(circuit_list[800:900], backend, shots = 20000, optimization_level = 0, seed_transpiler=42)\n",
    "job10 = qk.execute(circuit_list[900:1000], backend, shots = 20000, optimization_level = 0, seed_transpiler=42)\n",
    "\n",
    "result6 = job6.result()\n",
    "result7 = job7.result()\n",
    "result8 = job8.result()\n",
    "result9 = job9.result()\n",
    "result10 = job10.result()\n",
    "\n",
    "counts_list.extend([result6.get_counts(circuit) for circuit in circuit_list[500:600]])\n",
    "counts_list.extend([result7.get_counts(circuit) for circuit in circuit_list[600:700]])\n",
    "counts_list.extend([result8.get_counts(circuit) for circuit in circuit_list[700:800]])\n",
    "counts_list.extend([result9.get_counts(circuit) for circuit in circuit_list[800:900]])\n",
    "counts_list.extend([result10.get_counts(circuit) for circuit in circuit_list[900:1000]])\n",
    "\n",
    "data = [input_map_list, counts_list[:N], counts_list[N:N+20], counts_list[N+20:N+20+d**2]]\n",
    "\n",
    "pickle.dump(data, open(\"../../data/threeQubits_pauliStrings_corrMat_mock.p\", \"wb\"))"
   ]
  },
  {
   "cell_type": "markdown",
   "metadata": {},
   "source": [
    "## Variational Circuit"
   ]
  },
  {
   "cell_type": "markdown",
   "metadata": {},
   "source": [
    "## One Layer"
   ]
  },
  {
   "cell_type": "code",
   "execution_count": 35,
   "metadata": {},
   "outputs": [],
   "source": [
    "n = 3\n",
    "d = 2**n\n",
    "\n",
    "np.random.seed(42)\n",
    "random.seed(42)\n",
    "\n",
    "circuit_target = variational_circuit(n, 1).reverse_bits()\n",
    "\n",
    "N = 1000-6**n\n",
    "input_map_list, circuit_list = generate_pauli_circuits(n, circuit_target, N)\n",
    "\n",
    "inputs_spam, circuit_spam = generate_pauliInput_circuits(n)\n",
    "\n",
    "circuit_list.extend(circuit_spam)"
   ]
  },
  {
   "cell_type": "code",
   "execution_count": 36,
   "metadata": {},
   "outputs": [
    {
     "name": "stdout",
     "output_type": "stream",
     "text": [
      "      ┌────────────┐ ┌─────────────┐     ┌───┐\n",
      "q_0: ─┤ Ry(1.4577) ├─┤ Rz(-2.1615) ├─────┤ X ├\n",
      "      ├────────────┤ ├─────────────┤┌───┐└─┬─┘\n",
      "q_1: ─┤ Ry(2.8319) ├─┤ Rz(-2.1613) ├┤ X ├──■──\n",
      "     ┌┴────────────┴┐├─────────────┤└─┬─┘     \n",
      "q_2: ┤ Ry(-0.78829) ├┤ Rz(0.61989) ├──■───────\n",
      "     └──────────────┘└─────────────┘          \n"
     ]
    }
   ],
   "source": [
    "print(circuit_target)"
   ]
  },
  {
   "cell_type": "code",
   "execution_count": 33,
   "metadata": {},
   "outputs": [
    {
     "data": {
      "application/vnd.jupyter.widget-view+json": {
       "model_id": "1aa96959496c4daa9f28a64035fc57df",
       "version_major": 2,
       "version_minor": 0
      },
      "text/plain": [
       "  0%|          | 0/2 [00:00<?, ?it/s]"
      ]
     },
     "metadata": {},
     "output_type": "display_data"
    },
    {
     "data": {
      "application/vnd.jupyter.widget-view+json": {
       "model_id": "c9028a8c4bd94fc9a382880fb9bed95c",
       "version_major": 2,
       "version_minor": 0
      },
      "text/plain": [
       "  0%|          | 0/5 [00:00<?, ?it/s]"
      ]
     },
     "metadata": {},
     "output_type": "display_data"
    },
    {
     "data": {
      "application/vnd.jupyter.widget-view+json": {
       "model_id": "dc4263395ad14c31a4b2127307745a96",
       "version_major": 2,
       "version_minor": 0
      },
      "text/plain": [
       "  0%|          | 0/5 [00:00<?, ?it/s]"
      ]
     },
     "metadata": {},
     "output_type": "display_data"
    }
   ],
   "source": [
    "counts_list = execute_and_collect(circuit_list, backend, 'threeQubits_variational')\n",
    "data = [input_map_list, inputs_spam, counts_list]\n",
    "pickle.dump(data, open(\"../../data/threeQubits_variational.p\", \"wb\"))"
   ]
  },
  {
   "cell_type": "markdown",
   "metadata": {},
   "source": [
    "## Two Layers"
   ]
  },
  {
   "cell_type": "code",
   "execution_count": 38,
   "metadata": {},
   "outputs": [],
   "source": [
    "n = 3\n",
    "d = 2**n\n",
    "\n",
    "np.random.seed(42)\n",
    "random.seed(42)\n",
    "\n",
    "circuit_target = variational_circuit(n, 2).reverse_bits()\n",
    "\n",
    "N = 1000-6**n\n",
    "input_map_list, circuit_list = generate_pauli_circuits(n, circuit_target, N)\n",
    "\n",
    "inputs_spam, circuit_spam = generate_pauliInput_circuits(n)\n",
    "\n",
    "circuit_list.extend(circuit_spam)"
   ]
  },
  {
   "cell_type": "code",
   "execution_count": 39,
   "metadata": {},
   "outputs": [
    {
     "name": "stdout",
     "output_type": "stream",
     "text": [
      "      ┌────────────┐ ┌─────────────┐          ┌───┐     ┌─────────────┐»\n",
      "q_0: ─┤ Ry(1.4577) ├─┤ Rz(-2.1615) ├──────────┤ X ├─────┤ Ry(0.63532) ├»\n",
      "      ├────────────┤ ├─────────────┤┌───┐     └─┬─┘     └┬────────────┤»\n",
      "q_1: ─┤ Ry(2.8319) ├─┤ Rz(-2.1613) ├┤ X ├───────■────────┤ Ry(2.3008) ├»\n",
      "     ┌┴────────────┴┐├─────────────┤└─┬─┘┌─────────────┐ ├────────────┤»\n",
      "q_2: ┤ Ry(-0.78829) ├┤ Rz(0.61989) ├──■──┤ Ry(-2.7766) ├─┤ Rz(1.3074) ├»\n",
      "     └──────────────┘└─────────────┘     └─────────────┘ └────────────┘»\n",
      "«      ┌────────────┐     ┌───┐\n",
      "«q_0: ─┤ Rz(2.9525) ├─────┤ X ├\n",
      "«     ┌┴────────────┤┌───┐└─┬─┘\n",
      "«q_1: ┤ Rz(-3.0123) ├┤ X ├──■──\n",
      "«     └─────────────┘└─┬─┘     \n",
      "«q_2: ─────────────────■───────\n",
      "«                              \n"
     ]
    }
   ],
   "source": [
    "print(circuit_target)"
   ]
  },
  {
   "cell_type": "code",
   "execution_count": 40,
   "metadata": {},
   "outputs": [
    {
     "data": {
      "application/vnd.jupyter.widget-view+json": {
       "model_id": "6b46de2197a74b31b002bdedfb2bd26a",
       "version_major": 2,
       "version_minor": 0
      },
      "text/plain": [
       "  0%|          | 0/2 [00:00<?, ?it/s]"
      ]
     },
     "metadata": {},
     "output_type": "display_data"
    },
    {
     "data": {
      "application/vnd.jupyter.widget-view+json": {
       "model_id": "52261d29a519481e87adf39f3dfbebe3",
       "version_major": 2,
       "version_minor": 0
      },
      "text/plain": [
       "  0%|          | 0/5 [00:00<?, ?it/s]"
      ]
     },
     "metadata": {},
     "output_type": "display_data"
    },
    {
     "data": {
      "application/vnd.jupyter.widget-view+json": {
       "model_id": "98bb9ab6ae8f4c4ca95fc09d23a8ff7f",
       "version_major": 2,
       "version_minor": 0
      },
      "text/plain": [
       "  0%|          | 0/5 [00:00<?, ?it/s]"
      ]
     },
     "metadata": {},
     "output_type": "display_data"
    }
   ],
   "source": [
    "counts_list = execute_and_collect(circuit_list, backend, 'threeQubits_variational_2')\n",
    "data = [input_map_list, inputs_spam, counts_list]\n",
    "pickle.dump(data, open(\"../../data/threeQubits_variational_2.p\", \"wb\"))"
   ]
  },
  {
   "cell_type": "markdown",
   "metadata": {},
   "source": [
    "## Three Layers"
   ]
  },
  {
   "cell_type": "code",
   "execution_count": null,
   "metadata": {},
   "outputs": [],
   "source": [
    "n = 3\n",
    "d = 2**n\n",
    "\n",
    "np.random.seed(42)\n",
    "random.seed(42)\n",
    "\n",
    "circuit_target = variational_circuit(n, 3).reverse_bits()\n",
    "\n",
    "N = 1000-6**n\n",
    "input_map_list, circuit_list = generate_pauli_circuits(n, circuit_target, N)\n",
    "\n",
    "inputs_spam, circuit_spam = generate_pauliInput_circuits(n)\n",
    "\n",
    "circuit_list.extend(circuit_spam)\n",
    "print(circuit_target)"
   ]
  },
  {
   "cell_type": "code",
   "execution_count": null,
   "metadata": {},
   "outputs": [],
   "source": [
    "counts_list = execute_and_collect(circuit_list, backend, 'threeQubits_variational_3')\n",
    "data = [input_map_list, inputs_spam, counts_list]\n",
    "pickle.dump(data, open(\"../../data/threeQubits_variational_3.p\", \"wb\"))"
   ]
  },
  {
   "cell_type": "markdown",
   "metadata": {},
   "source": [
    "## Four Layers"
   ]
  },
  {
   "cell_type": "code",
   "execution_count": 43,
   "metadata": {},
   "outputs": [
    {
     "name": "stdout",
     "output_type": "stream",
     "text": [
      "      ┌────────────┐ ┌─────────────┐          ┌───┐     ┌─────────────┐»\n",
      "q_0: ─┤ Ry(1.4577) ├─┤ Rz(-2.1615) ├──────────┤ X ├─────┤ Ry(0.63532) ├»\n",
      "      ├────────────┤ ├─────────────┤┌───┐     └─┬─┘     └┬────────────┤»\n",
      "q_1: ─┤ Ry(2.8319) ├─┤ Rz(-2.1613) ├┤ X ├───────■────────┤ Ry(2.3008) ├»\n",
      "     ┌┴────────────┴┐├─────────────┤└─┬─┘┌─────────────┐ ├────────────┤»\n",
      "q_2: ┤ Ry(-0.78829) ├┤ Rz(0.61989) ├──■──┤ Ry(-2.7766) ├─┤ Rz(1.3074) ├»\n",
      "     └──────────────┘└─────────────┘     └─────────────┘ └────────────┘»\n",
      "«      ┌────────────┐         ┌───┐     ┌─────────────┐┌─────────────┐     »\n",
      "«q_0: ─┤ Rz(2.9525) ├─────────┤ X ├─────┤ Ry(-1.9992) ├┤ Rz(0.15555) ├─────»\n",
      "«     ┌┴────────────┤┌───┐    └─┬─┘     ├─────────────┤└┬───────────┬┘┌───┐»\n",
      "«q_1: ┤ Rz(-3.0123) ├┤ X ├──────■───────┤ Ry(-1.8074) ├─┤ Rz(-1.23) ├─┤ X ├»\n",
      "«     └─────────────┘└─┬─┘┌────────────┐├─────────────┤ └───────────┘ └─┬─┘»\n",
      "«q_2: ─────────────────■──┤ Ry(2.0888) ├┤ Rz(-1.9892) ├─────────────────■──»\n",
      "«                         └────────────┘└─────────────┘                    »\n",
      "«          ┌───┐     ┌─────────────┐┌──────────────┐     ┌───┐\n",
      "«q_0: ─────┤ X ├─────┤ Ry(0.70279) ├┤ Rz(-0.83967) ├─────┤ X ├\n",
      "«          └─┬─┘     ├─────────────┤└┬────────────┬┘┌───┐└─┬─┘\n",
      "«q_1: ───────■───────┤ Ry(-1.3117) ├─┤ Rz(-1.306) ├─┤ X ├──■──\n",
      "«     ┌─────────────┐├─────────────┤ └────────────┘ └─┬─┘     \n",
      "«q_2: ┤ Ry(-0.4276) ├┤ Rz(-2.2651) ├──────────────────■───────\n",
      "«     └─────────────┘└─────────────┘                          \n"
     ]
    }
   ],
   "source": [
    "n = 3\n",
    "d = 2**n\n",
    "\n",
    "np.random.seed(42)\n",
    "random.seed(42)\n",
    "\n",
    "circuit_target = variational_circuit(n, 4).reverse_bits()\n",
    "\n",
    "N = 1000-6**n\n",
    "input_map_list, circuit_list = generate_pauli_circuits(n, circuit_target, N)\n",
    "\n",
    "inputs_spam, circuit_spam = generate_pauliInput_circuits(n)\n",
    "\n",
    "circuit_list.extend(circuit_spam)\n",
    "print(circuit_target)"
   ]
  },
  {
   "cell_type": "code",
   "execution_count": 44,
   "metadata": {},
   "outputs": [
    {
     "data": {
      "application/vnd.jupyter.widget-view+json": {
       "model_id": "1af72ee425354369b553b46bbd5131f3",
       "version_major": 2,
       "version_minor": 0
      },
      "text/plain": [
       "  0%|          | 0/2 [00:00<?, ?it/s]"
      ]
     },
     "metadata": {},
     "output_type": "display_data"
    },
    {
     "data": {
      "application/vnd.jupyter.widget-view+json": {
       "model_id": "3a1858c2846a4ddbaf4453f41a6291d4",
       "version_major": 2,
       "version_minor": 0
      },
      "text/plain": [
       "  0%|          | 0/5 [00:00<?, ?it/s]"
      ]
     },
     "metadata": {},
     "output_type": "display_data"
    },
    {
     "data": {
      "application/vnd.jupyter.widget-view+json": {
       "model_id": "015caf38cb674dd1bac54e7af157bc4e",
       "version_major": 2,
       "version_minor": 0
      },
      "text/plain": [
       "  0%|          | 0/5 [00:00<?, ?it/s]"
      ]
     },
     "metadata": {},
     "output_type": "display_data"
    }
   ],
   "source": [
    "counts_list = execute_and_collect(circuit_list, backend, 'threeQubits_variational_4')\n",
    "data = [input_map_list, inputs_spam, counts_list]\n",
    "pickle.dump(data, open(\"../../data/threeQubits_variational_4.p\", \"wb\"))"
   ]
  },
  {
   "cell_type": "markdown",
   "metadata": {},
   "source": [
    "## Six Layers"
   ]
  },
  {
   "cell_type": "code",
   "execution_count": 6,
   "metadata": {},
   "outputs": [
    {
     "name": "stdout",
     "output_type": "stream",
     "text": [
      "      ┌────────────┐ ┌─────────────┐          ┌───┐     ┌─────────────┐»\n",
      "q_0: ─┤ Ry(1.4577) ├─┤ Rz(-2.1615) ├──────────┤ X ├─────┤ Ry(0.63532) ├»\n",
      "      ├────────────┤ ├─────────────┤┌───┐     └─┬─┘     └┬────────────┤»\n",
      "q_1: ─┤ Ry(2.8319) ├─┤ Rz(-2.1613) ├┤ X ├───────■────────┤ Ry(2.3008) ├»\n",
      "     ┌┴────────────┴┐├─────────────┤└─┬─┘┌─────────────┐ ├────────────┤»\n",
      "q_2: ┤ Ry(-0.78829) ├┤ Rz(0.61989) ├──■──┤ Ry(-2.7766) ├─┤ Rz(1.3074) ├»\n",
      "     └──────────────┘└─────────────┘     └─────────────┘ └────────────┘»\n",
      "«      ┌────────────┐         ┌───┐     ┌─────────────┐┌─────────────┐     »\n",
      "«q_0: ─┤ Rz(2.9525) ├─────────┤ X ├─────┤ Ry(-1.9992) ├┤ Rz(0.15555) ├─────»\n",
      "«     ┌┴────────────┤┌───┐    └─┬─┘     ├─────────────┤└┬───────────┬┘┌───┐»\n",
      "«q_1: ┤ Rz(-3.0123) ├┤ X ├──────■───────┤ Ry(-1.8074) ├─┤ Rz(-1.23) ├─┤ X ├»\n",
      "«     └─────────────┘└─┬─┘┌────────────┐├─────────────┤ └───────────┘ └─┬─┘»\n",
      "«q_2: ─────────────────■──┤ Ry(2.0888) ├┤ Rz(-1.9892) ├─────────────────■──»\n",
      "«                         └────────────┘└─────────────┘                    »\n",
      "«          ┌───┐     ┌─────────────┐┌──────────────┐          ┌───┐      »\n",
      "«q_0: ─────┤ X ├─────┤ Ry(0.70279) ├┤ Rz(-0.83967) ├──────────┤ X ├──────»\n",
      "«          └─┬─┘     ├─────────────┤└┬────────────┬┘┌───┐     └─┬─┘      »\n",
      "«q_1: ───────■───────┤ Ry(-1.3117) ├─┤ Rz(-1.306) ├─┤ X ├───────■────────»\n",
      "«     ┌─────────────┐├─────────────┤ └────────────┘ └─┬─┘┌──────────────┐»\n",
      "«q_2: ┤ Ry(-0.4276) ├┤ Rz(-2.2651) ├──────────────────■──┤ Ry(-0.27602) ├»\n",
      "«     └─────────────┘└─────────────┘                     └──────────────┘»\n",
      "«      ┌────────────┐ ┌─────────────┐          ┌───┐     ┌─────────────┐»\n",
      "«q_0: ─┤ Ry(-1.887) ├─┤ Rz(-2.8497) ├──────────┤ X ├─────┤ Ry(-2.7329) ├»\n",
      "«      ├────────────┤ ├─────────────┤┌───┐     └─┬─┘     ├─────────────┤»\n",
      "«q_1: ─┤ Ry(1.7918) ├─┤ Rz(0.58066) ├┤ X ├───────■───────┤ Ry(-2.0702) ├»\n",
      "«     ┌┴────────────┴┐└─────────────┘└─┬─┘┌─────────────┐└┬────────────┤»\n",
      "«q_2: ┤ Rz(0.089438) ├─────────────────■──┤ Ry(0.67572) ├─┤ Rz(2.8204) ├»\n",
      "«     └──────────────┘                    └─────────────┘ └────────────┘»\n",
      "«     ┌────────────┐     ┌───┐\n",
      "«q_0: ┤ Rz(1.9377) ├─────┤ X ├\n",
      "«     ├────────────┤┌───┐└─┬─┘\n",
      "«q_1: ┤ Rz(2.9257) ├┤ X ├──■──\n",
      "«     └────────────┘└─┬─┘     \n",
      "«q_2: ────────────────■───────\n",
      "«                             \n"
     ]
    }
   ],
   "source": [
    "n = 3\n",
    "d = 2**n\n",
    "\n",
    "np.random.seed(42)\n",
    "random.seed(42)\n",
    "\n",
    "circuit_target = variational_circuit(n, 6).reverse_bits()\n",
    "\n",
    "N = 1000-6**n\n",
    "input_map_list, circuit_list = generate_pauli_circuits(n, circuit_target, N)\n",
    "\n",
    "inputs_spam, circuit_spam = generate_pauliInput_circuits(n)\n",
    "\n",
    "circuit_list.extend(circuit_spam)\n",
    "print(circuit_target)"
   ]
  },
  {
   "cell_type": "code",
   "execution_count": 7,
   "metadata": {},
   "outputs": [
    {
     "data": {
      "application/vnd.jupyter.widget-view+json": {
       "model_id": "362555be4dc645fb9017a6e574d8864c",
       "version_major": 2,
       "version_minor": 0
      },
      "text/plain": [
       "  0%|          | 0/2 [00:00<?, ?it/s]"
      ]
     },
     "metadata": {},
     "output_type": "display_data"
    },
    {
     "data": {
      "application/vnd.jupyter.widget-view+json": {
       "model_id": "85ccf37efe8f4132b61f0ce9d7e5f9bc",
       "version_major": 2,
       "version_minor": 0
      },
      "text/plain": [
       "  0%|          | 0/5 [00:00<?, ?it/s]"
      ]
     },
     "metadata": {},
     "output_type": "display_data"
    },
    {
     "data": {
      "application/vnd.jupyter.widget-view+json": {
       "model_id": "5f0e6d16d02b4f738da1b09e0dff7059",
       "version_major": 2,
       "version_minor": 0
      },
      "text/plain": [
       "  0%|          | 0/5 [00:00<?, ?it/s]"
      ]
     },
     "metadata": {},
     "output_type": "display_data"
    }
   ],
   "source": [
    "counts_list = execute_and_collect(circuit_list, backend, 'threeQubits_variational_6')\n",
    "data = [input_map_list, inputs_spam, counts_list]\n",
    "pickle.dump(data, open(\"../../data/threeQubits_variational_6.p\", \"wb\"))"
   ]
  },
  {
   "cell_type": "markdown",
   "metadata": {},
   "source": [
    "## Nine Layers"
   ]
  },
  {
   "cell_type": "code",
   "execution_count": 8,
   "metadata": {},
   "outputs": [
    {
     "name": "stdout",
     "output_type": "stream",
     "text": [
      "      ┌────────────┐ ┌─────────────┐          ┌───┐     ┌─────────────┐»\n",
      "q_0: ─┤ Ry(1.4577) ├─┤ Rz(-2.1615) ├──────────┤ X ├─────┤ Ry(0.63532) ├»\n",
      "      ├────────────┤ ├─────────────┤┌───┐     └─┬─┘     └┬────────────┤»\n",
      "q_1: ─┤ Ry(2.8319) ├─┤ Rz(-2.1613) ├┤ X ├───────■────────┤ Ry(2.3008) ├»\n",
      "     ┌┴────────────┴┐├─────────────┤└─┬─┘┌─────────────┐ ├────────────┤»\n",
      "q_2: ┤ Ry(-0.78829) ├┤ Rz(0.61989) ├──■──┤ Ry(-2.7766) ├─┤ Rz(1.3074) ├»\n",
      "     └──────────────┘└─────────────┘     └─────────────┘ └────────────┘»\n",
      "«      ┌────────────┐         ┌───┐     ┌─────────────┐┌─────────────┐     »\n",
      "«q_0: ─┤ Rz(2.9525) ├─────────┤ X ├─────┤ Ry(-1.9992) ├┤ Rz(0.15555) ├─────»\n",
      "«     ┌┴────────────┤┌───┐    └─┬─┘     ├─────────────┤└┬───────────┬┘┌───┐»\n",
      "«q_1: ┤ Rz(-3.0123) ├┤ X ├──────■───────┤ Ry(-1.8074) ├─┤ Rz(-1.23) ├─┤ X ├»\n",
      "«     └─────────────┘└─┬─┘┌────────────┐├─────────────┤ └───────────┘ └─┬─┘»\n",
      "«q_2: ─────────────────■──┤ Ry(2.0888) ├┤ Rz(-1.9892) ├─────────────────■──»\n",
      "«                         └────────────┘└─────────────┘                    »\n",
      "«          ┌───┐     ┌─────────────┐┌──────────────┐          ┌───┐      »\n",
      "«q_0: ─────┤ X ├─────┤ Ry(0.70279) ├┤ Rz(-0.83967) ├──────────┤ X ├──────»\n",
      "«          └─┬─┘     ├─────────────┤└┬────────────┬┘┌───┐     └─┬─┘      »\n",
      "«q_1: ───────■───────┤ Ry(-1.3117) ├─┤ Rz(-1.306) ├─┤ X ├───────■────────»\n",
      "«     ┌─────────────┐├─────────────┤ └────────────┘ └─┬─┘┌──────────────┐»\n",
      "«q_2: ┤ Ry(-0.4276) ├┤ Rz(-2.2651) ├──────────────────■──┤ Ry(-0.27602) ├»\n",
      "«     └─────────────┘└─────────────┘                     └──────────────┘»\n",
      "«      ┌────────────┐ ┌─────────────┐          ┌───┐     ┌─────────────┐»\n",
      "«q_0: ─┤ Ry(-1.887) ├─┤ Rz(-2.8497) ├──────────┤ X ├─────┤ Ry(-2.7329) ├»\n",
      "«      ├────────────┤ ├─────────────┤┌───┐     └─┬─┘     ├─────────────┤»\n",
      "«q_1: ─┤ Ry(1.7918) ├─┤ Rz(0.58066) ├┤ X ├───────■───────┤ Ry(-2.0702) ├»\n",
      "«     ┌┴────────────┴┐└─────────────┘└─┬─┘┌─────────────┐└┬────────────┤»\n",
      "«q_2: ┤ Rz(0.089438) ├─────────────────■──┤ Ry(0.67572) ├─┤ Rz(2.8204) ├»\n",
      "«     └──────────────┘                    └─────────────┘ └────────────┘»\n",
      "«     ┌────────────┐          ┌───┐      ┌────────────┐ ┌───────────────┐     »\n",
      "«q_0: ┤ Rz(1.9377) ├──────────┤ X ├──────┤ Ry(1.1576) ├─┤ Rz(-0.030304) ├─────»\n",
      "«     ├────────────┤┌───┐     └─┬─┘     ┌┴────────────┤ └┬─────────────┬┘┌───┐»\n",
      "«q_1: ┤ Rz(2.9257) ├┤ X ├───────■───────┤ Ry(-2.5279) ├──┤ Rz(-2.3748) ├─┤ X ├»\n",
      "«     └────────────┘└─┬─┘┌─────────────┐├─────────────┴┐ └─────────────┘ └─┬─┘»\n",
      "«q_2: ────────────────■──┤ Ry(-1.2276) ├┤ Rz(-0.37603) ├───────────────────■──»\n",
      "«                        └─────────────┘└──────────────┘                      »\n",
      "«          ┌───┐     ┌─────────────┐┌─────────────┐          ┌───┐     »\n",
      "«q_0: ─────┤ X ├─────┤ Ry(-1.5156) ├┤ Rz(0.12609) ├──────────┤ X ├─────»\n",
      "«          └─┬─┘     └┬────────────┤├─────────────┤┌───┐     └─┬─┘     »\n",
      "«q_1: ───────■────────┤ Ry(2.5718) ├┤ Rz(-1.1831) ├┤ X ├───────■───────»\n",
      "«     ┌─────────────┐ ├────────────┤└─────────────┘└─┬─┘┌─────────────┐»\n",
      "«q_2: ┤ Ry(-2.9255) ├─┤ Rz(1.0212) ├─────────────────■──┤ Ry(0.29349) ├»\n",
      "«     └─────────────┘ └────────────┘                    └─────────────┘»\n",
      "«      ┌────────────┐┌────────────┐     ┌───┐\n",
      "«q_0: ─┤ Ry(2.9505) ├┤ Rz(2.4808) ├─────┤ X ├\n",
      "«     ┌┴────────────┤├────────────┤┌───┐└─┬─┘\n",
      "«q_1: ┤ Ry(-1.9801) ├┤ Rz(2.7615) ├┤ X ├──■──\n",
      "«     └┬────────────┤└────────────┘└─┬─┘     \n",
      "«q_2: ─┤ Rz(1.7287) ├────────────────■───────\n",
      "«      └────────────┘                        \n"
     ]
    }
   ],
   "source": [
    "n = 3\n",
    "d = 2**n\n",
    "\n",
    "np.random.seed(42)\n",
    "random.seed(42)\n",
    "\n",
    "circuit_target = variational_circuit(n, 9).reverse_bits()\n",
    "\n",
    "N = 1000-6**n\n",
    "input_map_list, circuit_list = generate_pauli_circuits(n, circuit_target, N)\n",
    "\n",
    "inputs_spam, circuit_spam = generate_pauliInput_circuits(n)\n",
    "\n",
    "circuit_list.extend(circuit_spam)\n",
    "print(circuit_target)"
   ]
  },
  {
   "cell_type": "code",
   "execution_count": 13,
   "metadata": {},
   "outputs": [
    {
     "data": {
      "application/vnd.jupyter.widget-view+json": {
       "model_id": "eddcd5c0418f4a7f957064b091117e8f",
       "version_major": 2,
       "version_minor": 0
      },
      "text/plain": [
       "  0%|          | 0/2 [00:00<?, ?it/s]"
      ]
     },
     "metadata": {},
     "output_type": "display_data"
    },
    {
     "data": {
      "application/vnd.jupyter.widget-view+json": {
       "model_id": "1165323be7194ab59012b6021d80ff57",
       "version_major": 2,
       "version_minor": 0
      },
      "text/plain": [
       "  0%|          | 0/5 [00:00<?, ?it/s]"
      ]
     },
     "metadata": {},
     "output_type": "display_data"
    },
    {
     "data": {
      "application/vnd.jupyter.widget-view+json": {
       "model_id": "f76a1e41a2a94b5488ec67ad964506d5",
       "version_major": 2,
       "version_minor": 0
      },
      "text/plain": [
       "  0%|          | 0/5 [00:00<?, ?it/s]"
      ]
     },
     "metadata": {},
     "output_type": "display_data"
    }
   ],
   "source": [
    "counts_list = execute_and_collect(circuit_list, backend, 'threeQubits_variational_12')\n",
    "data = [input_map_list, inputs_spam, counts_list]\n",
    "pickle.dump(data, open(\"../../data/threeQubits_variational_12.p\", \"wb\"))"
   ]
  },
  {
   "cell_type": "markdown",
   "metadata": {},
   "source": [
    "## Twelve Layers"
   ]
  },
  {
   "cell_type": "code",
   "execution_count": 14,
   "metadata": {},
   "outputs": [
    {
     "name": "stdout",
     "output_type": "stream",
     "text": [
      "      ┌────────────┐ ┌─────────────┐          ┌───┐     ┌─────────────┐»\n",
      "q_0: ─┤ Ry(1.4577) ├─┤ Rz(-2.1615) ├──────────┤ X ├─────┤ Ry(0.63532) ├»\n",
      "      ├────────────┤ ├─────────────┤┌───┐     └─┬─┘     └┬────────────┤»\n",
      "q_1: ─┤ Ry(2.8319) ├─┤ Rz(-2.1613) ├┤ X ├───────■────────┤ Ry(2.3008) ├»\n",
      "     ┌┴────────────┴┐├─────────────┤└─┬─┘┌─────────────┐ ├────────────┤»\n",
      "q_2: ┤ Ry(-0.78829) ├┤ Rz(0.61989) ├──■──┤ Ry(-2.7766) ├─┤ Rz(1.3074) ├»\n",
      "     └──────────────┘└─────────────┘     └─────────────┘ └────────────┘»\n",
      "«      ┌────────────┐         ┌───┐     ┌─────────────┐┌─────────────┐     »\n",
      "«q_0: ─┤ Rz(2.9525) ├─────────┤ X ├─────┤ Ry(-1.9992) ├┤ Rz(0.15555) ├─────»\n",
      "«     ┌┴────────────┤┌───┐    └─┬─┘     ├─────────────┤└┬───────────┬┘┌───┐»\n",
      "«q_1: ┤ Rz(-3.0123) ├┤ X ├──────■───────┤ Ry(-1.8074) ├─┤ Rz(-1.23) ├─┤ X ├»\n",
      "«     └─────────────┘└─┬─┘┌────────────┐├─────────────┤ └───────────┘ └─┬─┘»\n",
      "«q_2: ─────────────────■──┤ Ry(2.0888) ├┤ Rz(-1.9892) ├─────────────────■──»\n",
      "«                         └────────────┘└─────────────┘                    »\n",
      "«          ┌───┐     ┌─────────────┐┌──────────────┐          ┌───┐      »\n",
      "«q_0: ─────┤ X ├─────┤ Ry(0.70279) ├┤ Rz(-0.83967) ├──────────┤ X ├──────»\n",
      "«          └─┬─┘     ├─────────────┤└┬────────────┬┘┌───┐     └─┬─┘      »\n",
      "«q_1: ───────■───────┤ Ry(-1.3117) ├─┤ Rz(-1.306) ├─┤ X ├───────■────────»\n",
      "«     ┌─────────────┐├─────────────┤ └────────────┘ └─┬─┘┌──────────────┐»\n",
      "«q_2: ┤ Ry(-0.4276) ├┤ Rz(-2.2651) ├──────────────────■──┤ Ry(-0.27602) ├»\n",
      "«     └─────────────┘└─────────────┘                     └──────────────┘»\n",
      "«      ┌────────────┐ ┌─────────────┐          ┌───┐     ┌─────────────┐»\n",
      "«q_0: ─┤ Ry(-1.887) ├─┤ Rz(-2.8497) ├──────────┤ X ├─────┤ Ry(-2.7329) ├»\n",
      "«      ├────────────┤ ├─────────────┤┌───┐     └─┬─┘     ├─────────────┤»\n",
      "«q_1: ─┤ Ry(1.7918) ├─┤ Rz(0.58066) ├┤ X ├───────■───────┤ Ry(-2.0702) ├»\n",
      "«     ┌┴────────────┴┐└─────────────┘└─┬─┘┌─────────────┐└┬────────────┤»\n",
      "«q_2: ┤ Rz(0.089438) ├─────────────────■──┤ Ry(0.67572) ├─┤ Rz(2.8204) ├»\n",
      "«     └──────────────┘                    └─────────────┘ └────────────┘»\n",
      "«     ┌────────────┐          ┌───┐      ┌────────────┐ ┌───────────────┐     »\n",
      "«q_0: ┤ Rz(1.9377) ├──────────┤ X ├──────┤ Ry(1.1576) ├─┤ Rz(-0.030304) ├─────»\n",
      "«     ├────────────┤┌───┐     └─┬─┘     ┌┴────────────┤ └┬─────────────┬┘┌───┐»\n",
      "«q_1: ┤ Rz(2.9257) ├┤ X ├───────■───────┤ Ry(-2.5279) ├──┤ Rz(-2.3748) ├─┤ X ├»\n",
      "«     └────────────┘└─┬─┘┌─────────────┐├─────────────┴┐ └─────────────┘ └─┬─┘»\n",
      "«q_2: ────────────────■──┤ Ry(-1.2276) ├┤ Rz(-0.37603) ├───────────────────■──»\n",
      "«                        └─────────────┘└──────────────┘                      »\n",
      "«          ┌───┐     ┌─────────────┐┌─────────────┐          ┌───┐     »\n",
      "«q_0: ─────┤ X ├─────┤ Ry(-1.5156) ├┤ Rz(0.12609) ├──────────┤ X ├─────»\n",
      "«          └─┬─┘     └┬────────────┤├─────────────┤┌───┐     └─┬─┘     »\n",
      "«q_1: ───────■────────┤ Ry(2.5718) ├┤ Rz(-1.1831) ├┤ X ├───────■───────»\n",
      "«     ┌─────────────┐ ├────────────┤└─────────────┘└─┬─┘┌─────────────┐»\n",
      "«q_2: ┤ Ry(-2.9255) ├─┤ Rz(1.0212) ├─────────────────■──┤ Ry(0.29349) ├»\n",
      "«     └─────────────┘ └────────────┘                    └─────────────┘»\n",
      "«      ┌────────────┐┌────────────┐          ┌───┐     ┌─────────────┐»\n",
      "«q_0: ─┤ Ry(2.9505) ├┤ Rz(2.4808) ├──────────┤ X ├─────┤ Ry(-2.5856) ├»\n",
      "«     ┌┴────────────┤├────────────┤┌───┐     └─┬─┘     └┬────────────┤»\n",
      "«q_1: ┤ Ry(-1.9801) ├┤ Rz(2.7615) ├┤ X ├───────■────────┤ Ry(2.6507) ├»\n",
      "«     └┬────────────┤└────────────┘└─┬─┘┌─────────────┐┌┴────────────┤»\n",
      "«q_2: ─┤ Rz(1.7287) ├────────────────■──┤ Ry(0.61512) ├┤ Rz(-1.9102) ├»\n",
      "«      └────────────┘                   └─────────────┘└─────────────┘»\n",
      "«     ┌─────────────┐          ┌───┐       ┌────────────┐ ┌─────────────┐     »\n",
      "«q_0: ┤ Rz(-1.0975) ├──────────┤ X ├───────┤ Ry(2.0655) ├─┤ Rz(0.26827) ├─────»\n",
      "«     ├─────────────┤┌───┐     └─┬─┘      ┌┴────────────┤ ├─────────────┤┌───┐»\n",
      "«q_1: ┤ Rz(-2.8574) ├┤ X ├───────■────────┤ Ry(-1.4367) ├─┤ Rz(-1.3764) ├┤ X ├»\n",
      "«     └─────────────┘└─┬─┘┌──────────────┐├─────────────┴┐└─────────────┘└─┬─┘»\n",
      "«q_2: ─────────────────■──┤ Ry(-0.69946) ├┤ Rz(-0.90005) ├─────────────────■──»\n",
      "«                         └──────────────┘└──────────────┘                    »\n",
      "«          ┌───┐     ┌─────────────┐┌────────────┐     ┌───┐\n",
      "«q_0: ─────┤ X ├─────┤ Ry(-2.6732) ├┤ Rz(-1.893) ├─────┤ X ├\n",
      "«          └─┬─┘     └┬────────────┤├────────────┤┌───┐└─┬─┘\n",
      "«q_1: ───────■────────┤ Ry(1.8988) ├┤ Rz(1.7106) ├┤ X ├──■──\n",
      "«     ┌─────────────┐ ├────────────┤└────────────┘└─┬─┘     \n",
      "«q_2: ┤ Ry(-2.2561) ├─┤ Rz(3.0592) ├────────────────■───────\n",
      "«     └─────────────┘ └────────────┘                        \n"
     ]
    }
   ],
   "source": [
    "n = 3\n",
    "d = 2**n\n",
    "\n",
    "np.random.seed(42)\n",
    "random.seed(42)\n",
    "\n",
    "circuit_target = variational_circuit(n, 12, 0, 12).reverse_bits()\n",
    "\n",
    "N = 1000-6**n\n",
    "input_map_list, circuit_list = generate_pauli_circuits(n, circuit_target, N)\n",
    "\n",
    "inputs_spam, circuit_spam = generate_pauliInput_circuits(n)\n",
    "\n",
    "circuit_list.extend(circuit_spam)\n",
    "print(circuit_target)"
   ]
  },
  {
   "cell_type": "code",
   "execution_count": 15,
   "metadata": {},
   "outputs": [
    {
     "data": {
      "application/vnd.jupyter.widget-view+json": {
       "model_id": "a165eb4749bd4d0689baeac13928e66c",
       "version_major": 2,
       "version_minor": 0
      },
      "text/plain": [
       "  0%|          | 0/2 [00:00<?, ?it/s]"
      ]
     },
     "metadata": {},
     "output_type": "display_data"
    },
    {
     "data": {
      "application/vnd.jupyter.widget-view+json": {
       "model_id": "46ff5c34ded14fd7a83569d8f68b3400",
       "version_major": 2,
       "version_minor": 0
      },
      "text/plain": [
       "  0%|          | 0/5 [00:00<?, ?it/s]"
      ]
     },
     "metadata": {},
     "output_type": "display_data"
    },
    {
     "data": {
      "application/vnd.jupyter.widget-view+json": {
       "model_id": "03da096d781646319f6b472778dfb31a",
       "version_major": 2,
       "version_minor": 0
      },
      "text/plain": [
       "  0%|          | 0/5 [00:00<?, ?it/s]"
      ]
     },
     "metadata": {},
     "output_type": "display_data"
    }
   ],
   "source": [
    "counts_list = execute_and_collect(circuit_list, backend, 'threeQubits_variational_12')\n",
    "data = [input_map_list, inputs_spam, counts_list]\n",
    "pickle.dump(data, open(\"../../data/threeQubits_variational_12.p\", \"wb\"))"
   ]
  },
  {
   "cell_type": "markdown",
   "metadata": {},
   "source": [
    "## L2"
   ]
  },
  {
   "cell_type": "code",
   "execution_count": 7,
   "metadata": {},
   "outputs": [
    {
     "name": "stdout",
     "output_type": "stream",
     "text": [
      "     ┌─────────────┐┌──────────────┐          ┌───┐       ┌────────────┐ »\n",
      "q_0: ┤ Ry(0.70279) ├┤ Rz(-0.83967) ├──────────┤ X ├───────┤ Ry(-1.887) ├─»\n",
      "     ├─────────────┤└┬────────────┬┘┌───┐     └─┬─┘       ├────────────┤ »\n",
      "q_1: ┤ Ry(-1.3117) ├─┤ Rz(-1.306) ├─┤ X ├───────■─────────┤ Ry(1.7918) ├─»\n",
      "     ├─────────────┤┌┴────────────┤ └─┬─┘┌──────────────┐┌┴────────────┴┐»\n",
      "q_2: ┤ Ry(-0.4276) ├┤ Rz(-2.2651) ├───■──┤ Ry(-0.27602) ├┤ Rz(0.089438) ├»\n",
      "     └─────────────┘└─────────────┘      └──────────────┘└──────────────┘»\n",
      "«     ┌─────────────┐          ┌───┐     ┌─────────────┐┌────────────┐     »\n",
      "«q_0: ┤ Rz(-2.8497) ├──────────┤ X ├─────┤ Ry(-2.7329) ├┤ Rz(1.9377) ├─────»\n",
      "«     ├─────────────┤┌───┐     └─┬─┘     ├─────────────┤├────────────┤┌───┐»\n",
      "«q_1: ┤ Rz(0.58066) ├┤ X ├───────■───────┤ Ry(-2.0702) ├┤ Rz(2.9257) ├┤ X ├»\n",
      "«     └─────────────┘└─┬─┘┌─────────────┐└┬────────────┤└────────────┘└─┬─┘»\n",
      "«q_2: ─────────────────■──┤ Ry(0.67572) ├─┤ Rz(2.8204) ├────────────────■──»\n",
      "«                         └─────────────┘ └────────────┘                   »\n",
      "«     ┌───┐\n",
      "«q_0: ┤ X ├\n",
      "«     └─┬─┘\n",
      "«q_1: ──■──\n",
      "«          \n",
      "«q_2: ─────\n",
      "«          \n"
     ]
    }
   ],
   "source": [
    "n = 3\n",
    "d = 2**n\n",
    "\n",
    "np.random.seed(42)\n",
    "random.seed(42)\n",
    "\n",
    "circuit_target = variational_circuit(n, 6, 3, 6).reverse_bits()\n",
    "\n",
    "N = 1000-6**n\n",
    "input_map_list, circuit_list = generate_pauli_circuits(n, circuit_target, N)\n",
    "\n",
    "inputs_spam, circuit_spam = generate_pauliInput_circuits(n)\n",
    "\n",
    "circuit_list.extend(circuit_spam)\n",
    "print(circuit_target)"
   ]
  },
  {
   "cell_type": "code",
   "execution_count": 8,
   "metadata": {},
   "outputs": [
    {
     "data": {
      "application/vnd.jupyter.widget-view+json": {
       "model_id": "214c2464fffc427796c004639abe6e6e",
       "version_major": 2,
       "version_minor": 0
      },
      "text/plain": [
       "  0%|          | 0/2 [00:00<?, ?it/s]"
      ]
     },
     "metadata": {},
     "output_type": "display_data"
    },
    {
     "data": {
      "application/vnd.jupyter.widget-view+json": {
       "model_id": "c4c593bae02a4c6eb67534d5904e127b",
       "version_major": 2,
       "version_minor": 0
      },
      "text/plain": [
       "  0%|          | 0/5 [00:00<?, ?it/s]"
      ]
     },
     "metadata": {},
     "output_type": "display_data"
    },
    {
     "data": {
      "application/vnd.jupyter.widget-view+json": {
       "model_id": "1e3fb63934b449519cb3db559cb582df",
       "version_major": 2,
       "version_minor": 0
      },
      "text/plain": [
       "  0%|          | 0/5 [00:00<?, ?it/s]"
      ]
     },
     "metadata": {},
     "output_type": "display_data"
    }
   ],
   "source": [
    "counts_list = execute_and_collect(circuit_list, backend, 'threeQubits_variational_3_2')\n",
    "data = [input_map_list, inputs_spam, counts_list]\n",
    "pickle.dump(data, open(\"../../data/threeQubits_variational_3_2.p\", \"wb\"))"
   ]
  },
  {
   "cell_type": "markdown",
   "metadata": {},
   "source": [
    "## L3"
   ]
  },
  {
   "cell_type": "code",
   "execution_count": 11,
   "metadata": {},
   "outputs": [
    {
     "name": "stdout",
     "output_type": "stream",
     "text": [
      "      ┌────────────┐┌───────────────┐          ┌───┐     ┌─────────────┐»\n",
      "q_0: ─┤ Ry(1.1576) ├┤ Rz(-0.030304) ├──────────┤ X ├─────┤ Ry(-1.5156) ├»\n",
      "     ┌┴────────────┤└┬─────────────┬┘┌───┐     └─┬─┘     └┬────────────┤»\n",
      "q_1: ┤ Ry(-2.5279) ├─┤ Rz(-2.3748) ├─┤ X ├───────■────────┤ Ry(2.5718) ├»\n",
      "     ├─────────────┤ ├─────────────┴┐└─┬─┘┌─────────────┐ ├────────────┤»\n",
      "q_2: ┤ Ry(-1.2276) ├─┤ Rz(-0.37603) ├──■──┤ Ry(-2.9255) ├─┤ Rz(1.0212) ├»\n",
      "     └─────────────┘ └──────────────┘     └─────────────┘ └────────────┘»\n",
      "«     ┌─────────────┐          ┌───┐      ┌────────────┐┌────────────┐     »\n",
      "«q_0: ┤ Rz(0.12609) ├──────────┤ X ├──────┤ Ry(2.9505) ├┤ Rz(2.4808) ├─────»\n",
      "«     ├─────────────┤┌───┐     └─┬─┘     ┌┴────────────┤├────────────┤┌───┐»\n",
      "«q_1: ┤ Rz(-1.1831) ├┤ X ├───────■───────┤ Ry(-1.9801) ├┤ Rz(2.7615) ├┤ X ├»\n",
      "«     └─────────────┘└─┬─┘┌─────────────┐└┬────────────┤└────────────┘└─┬─┘»\n",
      "«q_2: ─────────────────■──┤ Ry(0.29349) ├─┤ Rz(1.7287) ├────────────────■──»\n",
      "«                         └─────────────┘ └────────────┘                   »\n",
      "«     ┌───┐\n",
      "«q_0: ┤ X ├\n",
      "«     └─┬─┘\n",
      "«q_1: ──■──\n",
      "«          \n",
      "«q_2: ─────\n",
      "«          \n"
     ]
    }
   ],
   "source": [
    "n = 3\n",
    "d = 2**n\n",
    "\n",
    "np.random.seed(42)\n",
    "random.seed(42)\n",
    "\n",
    "circuit_target = variational_circuit(n, 9, 6, 9).reverse_bits()\n",
    "\n",
    "N = 1000-6**n\n",
    "input_map_list, circuit_list = generate_pauli_circuits(n, circuit_target, N)\n",
    "\n",
    "inputs_spam, circuit_spam = generate_pauliInput_circuits(n)\n",
    "\n",
    "circuit_list.extend(circuit_spam)\n",
    "print(circuit_target)"
   ]
  },
  {
   "cell_type": "code",
   "execution_count": 12,
   "metadata": {},
   "outputs": [
    {
     "data": {
      "application/vnd.jupyter.widget-view+json": {
       "model_id": "64aecb0d5ba746329306bd9c30395573",
       "version_major": 2,
       "version_minor": 0
      },
      "text/plain": [
       "  0%|          | 0/2 [00:00<?, ?it/s]"
      ]
     },
     "metadata": {},
     "output_type": "display_data"
    },
    {
     "data": {
      "application/vnd.jupyter.widget-view+json": {
       "model_id": "e744df2a09b5414982525bff4484b301",
       "version_major": 2,
       "version_minor": 0
      },
      "text/plain": [
       "  0%|          | 0/5 [00:00<?, ?it/s]"
      ]
     },
     "metadata": {},
     "output_type": "display_data"
    },
    {
     "data": {
      "application/vnd.jupyter.widget-view+json": {
       "model_id": "d350f996c8884aea8bb81ed778b8f6af",
       "version_major": 2,
       "version_minor": 0
      },
      "text/plain": [
       "  0%|          | 0/5 [00:00<?, ?it/s]"
      ]
     },
     "metadata": {},
     "output_type": "display_data"
    }
   ],
   "source": [
    "counts_list = execute_and_collect(circuit_list, backend, 'threeQubits_variational_3_3')\n",
    "data = [input_map_list, inputs_spam, counts_list]\n",
    "pickle.dump(data, open(\"../../data/threeQubits_variational_3_3.p\", \"wb\"))"
   ]
  },
  {
   "cell_type": "markdown",
   "metadata": {},
   "source": [
    "## L4"
   ]
  },
  {
   "cell_type": "code",
   "execution_count": 16,
   "metadata": {},
   "outputs": [
    {
     "name": "stdout",
     "output_type": "stream",
     "text": [
      "     ┌─────────────┐┌─────────────┐          ┌───┐       ┌────────────┐ »\n",
      "q_0: ┤ Ry(-2.5856) ├┤ Rz(-1.0975) ├──────────┤ X ├───────┤ Ry(2.0655) ├─»\n",
      "     └┬────────────┤├─────────────┤┌───┐     └─┬─┘      ┌┴────────────┤ »\n",
      "q_1: ─┤ Ry(2.6507) ├┤ Rz(-2.8574) ├┤ X ├───────■────────┤ Ry(-1.4367) ├─»\n",
      "     ┌┴────────────┤├─────────────┤└─┬─┘┌──────────────┐├─────────────┴┐»\n",
      "q_2: ┤ Ry(0.61512) ├┤ Rz(-1.9102) ├──■──┤ Ry(-0.69946) ├┤ Rz(-0.90005) ├»\n",
      "     └─────────────┘└─────────────┘     └──────────────┘└──────────────┘»\n",
      "«     ┌─────────────┐          ┌───┐     ┌─────────────┐┌────────────┐     »\n",
      "«q_0: ┤ Rz(0.26827) ├──────────┤ X ├─────┤ Ry(-2.6732) ├┤ Rz(-1.893) ├─────»\n",
      "«     ├─────────────┤┌───┐     └─┬─┘     └┬────────────┤├────────────┤┌───┐»\n",
      "«q_1: ┤ Rz(-1.3764) ├┤ X ├───────■────────┤ Ry(1.8988) ├┤ Rz(1.7106) ├┤ X ├»\n",
      "«     └─────────────┘└─┬─┘┌─────────────┐ ├────────────┤└────────────┘└─┬─┘»\n",
      "«q_2: ─────────────────■──┤ Ry(-2.2561) ├─┤ Rz(3.0592) ├────────────────■──»\n",
      "«                         └─────────────┘ └────────────┘                   »\n",
      "«     ┌───┐\n",
      "«q_0: ┤ X ├\n",
      "«     └─┬─┘\n",
      "«q_1: ──■──\n",
      "«          \n",
      "«q_2: ─────\n",
      "«          \n"
     ]
    }
   ],
   "source": [
    "n = 3\n",
    "d = 2**n\n",
    "\n",
    "np.random.seed(42)\n",
    "random.seed(42)\n",
    "\n",
    "circuit_target = variational_circuit(n, 12, 9, 12).reverse_bits()\n",
    "\n",
    "N = 1000-6**n\n",
    "input_map_list, circuit_list = generate_pauli_circuits(n, circuit_target, N)\n",
    "\n",
    "inputs_spam, circuit_spam = generate_pauliInput_circuits(n)\n",
    "\n",
    "circuit_list.extend(circuit_spam)\n",
    "print(circuit_target)"
   ]
  },
  {
   "cell_type": "code",
   "execution_count": null,
   "metadata": {},
   "outputs": [
    {
     "data": {
      "application/vnd.jupyter.widget-view+json": {
       "model_id": "71417a67c34846fa94083a544602a6f0",
       "version_major": 2,
       "version_minor": 0
      },
      "text/plain": [
       "  0%|          | 0/2 [00:00<?, ?it/s]"
      ]
     },
     "metadata": {},
     "output_type": "display_data"
    },
    {
     "data": {
      "application/vnd.jupyter.widget-view+json": {
       "model_id": "d513abb461d74b859168256869d5c707",
       "version_major": 2,
       "version_minor": 0
      },
      "text/plain": [
       "  0%|          | 0/5 [00:00<?, ?it/s]"
      ]
     },
     "metadata": {},
     "output_type": "display_data"
    },
    {
     "data": {
      "application/vnd.jupyter.widget-view+json": {
       "model_id": "c29fbef3a92141179b7857615effbb93",
       "version_major": 2,
       "version_minor": 0
      },
      "text/plain": [
       "  0%|          | 0/5 [00:00<?, ?it/s]"
      ]
     },
     "metadata": {},
     "output_type": "display_data"
    }
   ],
   "source": [
    "counts_list = execute_and_collect(circuit_list, backend, 'threeQubits_variational_3_4')\n",
    "data = [input_map_list, inputs_spam, counts_list]\n",
    "pickle.dump(data, open(\"../../data/threeQubits_variational_3_4.p\", \"wb\"))"
   ]
  },
  {
   "cell_type": "code",
   "execution_count": null,
   "metadata": {},
   "outputs": [],
   "source": []
  }
 ],
 "metadata": {
  "kernelspec": {
   "display_name": "env_qiskit",
   "language": "python",
   "name": "env_qiskit"
  },
  "language_info": {
   "codemirror_mode": {
    "name": "ipython",
    "version": 3
   },
   "file_extension": ".py",
   "mimetype": "text/x-python",
   "name": "python",
   "nbconvert_exporter": "python",
   "pygments_lexer": "ipython3",
   "version": "3.10.4"
  }
 },
 "nbformat": 4,
 "nbformat_minor": 4
}
