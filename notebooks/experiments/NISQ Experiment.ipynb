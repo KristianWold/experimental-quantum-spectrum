{
 "cells": [
  {
   "cell_type": "markdown",
   "metadata": {},
   "source": [
    "# NISQ Experiment"
   ]
  },
  {
   "cell_type": "code",
   "execution_count": 19,
   "metadata": {},
   "outputs": [],
   "source": [
    "import sys\n",
    "sys.path.insert(0, '../../src_tf/')\n",
    "\n",
    "import numpy as np\n",
    "import qiskit as qk\n",
    "import matplotlib.pyplot as plt\n",
    "import multiprocessing as mp\n",
    "import random\n",
    "import pickle\n",
    "\n",
    "from qiskit.quantum_info import DensityMatrix\n",
    "from qiskit.quantum_info import Operator\n",
    "from qiskit import Aer\n",
    "from scipy.linalg import sqrtm\n",
    "from tqdm.notebook import tqdm\n",
    "from qiskit.providers.aer import AerSimulator\n",
    "from copy import deepcopy\n",
    "\n",
    "from loss_functions import *\n",
    "from optimization import *\n",
    "from quantum_maps import *\n",
    "from quantum_tools import *\n",
    "from utils import *\n",
    "from experiments import *\n",
    "from qiskit.providers.fake_provider import FakeCasablanca\n",
    "#np.set_printoptions(threshold=sys.maxsize)"
   ]
  },
  {
   "cell_type": "code",
   "execution_count": 20,
   "metadata": {},
   "outputs": [],
   "source": [
    "from qiskit import QuantumRegister, ClassicalRegister, QuantumCircuit\n",
    "from qiskit.tools.visualization import circuit_drawer"
   ]
  },
  {
   "cell_type": "code",
   "execution_count": 21,
   "metadata": {},
   "outputs": [
    {
     "name": "stderr",
     "output_type": "stream",
     "text": [
      "ibmqfactory.load_account:WARNING:2022-08-10 11:50:00,158: Credentials are already in use. The existing account in the session will be replaced.\n"
     ]
    }
   ],
   "source": [
    "#qk.IBMQ.save_account(\"66718f8f8aef22bcb6ebe86ad94a11f1fd1f4c55100829bb13f16e6b448e0a1ec6d09c459d738f58d0cbd8398a2a1f5e185a4706a61b6f896a5ce2983e136429\", overwrite=True) \n",
    "provider = qk.IBMQ.load_account()\n",
    "provider = qk.IBMQ.get_provider(hub='ibm-q', group='open', project='main')\n",
    "backend = provider.get_backend(\"ibmq_manila\")\n",
    "\n",
    "#backend = AerSimulator()"
   ]
  },
  {
   "cell_type": "markdown",
   "metadata": {},
   "source": [
    "## Pauli String Expectation Values"
   ]
  },
  {
   "cell_type": "markdown",
   "metadata": {},
   "source": [
    "## Two Qubit POVM"
   ]
  },
  {
   "cell_type": "code",
   "execution_count": 5,
   "metadata": {},
   "outputs": [
    {
     "name": "stdout",
     "output_type": "stream",
     "text": [
      "      ┌────────────┐ ┌───┐┌─────────────┐     \n",
      "q_0: ─┤ Ry(2.8319) ├─┤ X ├┤ Rx(0.61989) ├──■──\n",
      "     ┌┴────────────┴┐└─┬─┘└┬────────────┤┌─┴─┐\n",
      "q_1: ┤ Ry(-0.78829) ├──■───┤ Rx(1.4577) ├┤ X ├\n",
      "     └──────────────┘      └────────────┘└───┘\n"
     ]
    }
   ],
   "source": [
    "n = 2\n",
    "d = 2**n\n",
    "\n",
    "np.random.seed(42)\n",
    "random.seed(42)\n",
    "\n",
    "circuit_target = variational_circuit(n).reverse_bits()\n",
    "print(circuit_target)\n",
    "\n",
    "N = 324\n",
    "input_list, circuit_list = generate_pauli_circuits(n, circuit_target, N)\n",
    "\n",
    "for i in range(1, 21):\n",
    "    q_reg = qk.QuantumRegister(n)\n",
    "    c_reg = qk.ClassicalRegister(n)\n",
    "    circuit = qk.QuantumCircuit(q_reg, c_reg)\n",
    "    for j in range(i):\n",
    "        circuit = circuit.compose(circuit_target)\n",
    "        \n",
    "    circuit.measure(q_reg, c_reg)\n",
    "    circuit_list.append(circuit)\n",
    "    \n",
    "for i in range(d):\n",
    "    circuit_list.extend(generate_bitstring_circuits(n)) "
   ]
  },
  {
   "cell_type": "code",
   "execution_count": 6,
   "metadata": {},
   "outputs": [],
   "source": [
    "job1 = qk.execute(circuit_list[:100], backend, shots = 20000, optimization_level = 0, seed_transpiler=42)\n",
    "job2 = qk.execute(circuit_list[100:200], backend, shots = 20000, optimization_level = 0, seed_transpiler=42)\n",
    "job3 = qk.execute(circuit_list[200:300], backend, shots = 20000, optimization_level = 0, seed_transpiler=42)\n",
    "job4 = qk.execute(circuit_list[300:400], backend, shots = 20000, optimization_level = 0, seed_transpiler=42)\n",
    "\n",
    "result1 = job1.result()\n",
    "result2 = job2.result()\n",
    "result3 = job3.result()\n",
    "result4 = job4.result()\n",
    "counts_list = [result1.get_counts(circuit) for circuit in circuit_list[:100]]\n",
    "counts_list.extend([result2.get_counts(circuit) for circuit in circuit_list[100:200]])\n",
    "counts_list.extend([result3.get_counts(circuit) for circuit in circuit_list[200:300]])\n",
    "counts_list.extend([result4.get_counts(circuit) for circuit in circuit_list[300:400]])\n",
    "\n",
    "data = [input_list, counts_list[:N], counts_list[N:N+20], counts_list[N+20:N+20+d**2]]\n",
    "\n",
    "pickle.dump(data, open(\"../../data/twoQubits_pauliStrings_corrMat.p\", \"wb\"))"
   ]
  },
  {
   "cell_type": "markdown",
   "metadata": {},
   "source": [
    "### Three Qubits"
   ]
  },
  {
   "cell_type": "code",
   "execution_count": 22,
   "metadata": {},
   "outputs": [
    {
     "name": "stdout",
     "output_type": "stream",
     "text": [
      "      ┌────────────┐           ┌───┐     ┌─────────────┐          \n",
      "q_0: ─┤ Ry(1.4577) ├───────────┤ X ├─────┤ Rx(-2.1615) ├──■───────\n",
      "      ├────────────┤ ┌───┐     └─┬─┘     ├─────────────┤┌─┴─┐     \n",
      "q_1: ─┤ Ry(2.8319) ├─┤ X ├───────■───────┤ Rx(-2.1613) ├┤ X ├──■──\n",
      "     ┌┴────────────┴┐└─┬─┘┌─────────────┐└─────────────┘└───┘┌─┴─┐\n",
      "q_2: ┤ Ry(-0.78829) ├──■──┤ Rx(0.61989) ├────────────────────┤ X ├\n",
      "     └──────────────┘     └─────────────┘                    └───┘\n"
     ]
    }
   ],
   "source": [
    "n = 3\n",
    "d = 2**n\n",
    "\n",
    "np.random.seed(42)\n",
    "random.seed(42)\n",
    "\n",
    "circuit_target = variational_circuit(n).reverse_bits()\n",
    "print(circuit_target)\n",
    "\n",
    "N = 1000-20-d**2\n",
    "input_map_list, circuit_list = generate_pauli_circuits(n, circuit_target, N)\n",
    "\n",
    "\n",
    "for i in range(1, 21):\n",
    "    q_reg = qk.QuantumRegister(n)\n",
    "    c_reg = qk.ClassicalRegister(n)\n",
    "    circuit = qk.QuantumCircuit(q_reg, c_reg)\n",
    "    for j in range(i):\n",
    "        circuit = circuit.compose(circuit_target)\n",
    "        \n",
    "    circuit.measure(q_reg, c_reg)\n",
    "    circuit_list.append(circuit)\n",
    "    \n",
    "for i in range(d):\n",
    "    circuit_list.extend(generate_bitstring_circuits(n)) "
   ]
  },
  {
   "cell_type": "code",
   "execution_count": 23,
   "metadata": {},
   "outputs": [],
   "source": [
    "job1 = qk.execute(circuit_list[:100], backend, shots = 20000, optimization_level = 0, seed_transpiler=42)\n",
    "job2 = qk.execute(circuit_list[100:200], backend, shots = 20000, optimization_level = 0, seed_transpiler=42)\n",
    "job3 = qk.execute(circuit_list[200:300], backend, shots = 20000, optimization_level = 0, seed_transpiler=42)\n",
    "job4 = qk.execute(circuit_list[300:400], backend, shots = 20000, optimization_level = 0, seed_transpiler=42)\n",
    "job5 = qk.execute(circuit_list[400:500], backend, shots = 20000, optimization_level = 0, seed_transpiler=42)\n",
    "\n",
    "result1 = job1.result()\n",
    "result2 = job2.result()\n",
    "result3 = job3.result()\n",
    "result4 = job4.result()\n",
    "result5 = job5.result()\n",
    "\n",
    "counts_list = [result1.get_counts(circuit) for circuit in circuit_list[:100]]\n",
    "counts_list.extend([result2.get_counts(circuit) for circuit in circuit_list[100:200]])\n",
    "counts_list.extend([result3.get_counts(circuit) for circuit in circuit_list[200:300]])\n",
    "counts_list.extend([result4.get_counts(circuit) for circuit in circuit_list[300:400]])\n",
    "counts_list.extend([result5.get_counts(circuit) for circuit in circuit_list[400:500]])\n",
    "\n",
    "data = [input_map_list, counts_list[:N], counts_list[N:N+20], counts_list[N+20:N+20+d**2]]\n",
    "\n",
    "pickle.dump(data, open(\"../../data/threeQubits_pauliStrings_corrMat.p\", \"wb\"))"
   ]
  },
  {
   "cell_type": "code",
   "execution_count": 24,
   "metadata": {},
   "outputs": [],
   "source": [
    "job6 = qk.execute(circuit_list[500:600], backend, shots = 20000, optimization_level = 0, seed_transpiler=42)\n",
    "job7 = qk.execute(circuit_list[600:700], backend, shots = 20000, optimization_level = 0, seed_transpiler=42)\n",
    "job8 = qk.execute(circuit_list[700:800], backend, shots = 20000, optimization_level = 0, seed_transpiler=42)\n",
    "job9 = qk.execute(circuit_list[800:900], backend, shots = 20000, optimization_level = 0, seed_transpiler=42)\n",
    "job10 = qk.execute(circuit_list[900:1000], backend, shots = 20000, optimization_level = 0, seed_transpiler=42)\n",
    "\n",
    "result6 = job6.result()\n",
    "result7 = job7.result()\n",
    "result8 = job8.result()\n",
    "result9 = job9.result()\n",
    "result10 = job10.result()\n",
    "\n",
    "counts_list.extend([result6.get_counts(circuit) for circuit in circuit_list[500:600]])\n",
    "counts_list.extend([result7.get_counts(circuit) for circuit in circuit_list[600:700]])\n",
    "counts_list.extend([result8.get_counts(circuit) for circuit in circuit_list[700:800]])\n",
    "counts_list.extend([result9.get_counts(circuit) for circuit in circuit_list[800:900]])\n",
    "counts_list.extend([result10.get_counts(circuit) for circuit in circuit_list[900:1000]])\n",
    "\n",
    "data = [input_map_list, counts_list[:N], counts_list[N:N+20], counts_list[N+20:N+20+d**2]]\n",
    "\n",
    "pickle.dump(data, open(\"../../data/threeQubits_pauliStrings_corrMat_2.p\", \"wb\"))"
   ]
  },
  {
   "cell_type": "markdown",
   "metadata": {},
   "source": [
    "### More Data"
   ]
  },
  {
   "cell_type": "code",
   "execution_count": 30,
   "metadata": {},
   "outputs": [],
   "source": [
    "input_map_list, counts_map_list, counts_rep_list, counts_corr_list = pickle.load(open(\"../../data/threeQubits_pauliStrings_corrMat_2.p\", \"rb\"))\n",
    "n = 3\n",
    "d = 2**n\n",
    "\n",
    "np.random.seed(42)\n",
    "random.seed(42)\n",
    "\n",
    "circuit_target = variational_circuit(n).reverse_bits()\n",
    "\n",
    "N = 1500-20-d**2\n",
    "input_map_list, circuit_list = generate_pauli_circuits(n, circuit_target, N, trace=False)\n",
    "\n",
    "circuit_list = circuit_list[-500:]"
   ]
  },
  {
   "cell_type": "code",
   "execution_count": 31,
   "metadata": {},
   "outputs": [],
   "source": [
    "job1 = qk.execute(circuit_list[:100], backend, shots = 20000, optimization_level = 0, seed_transpiler=42)\n",
    "job2 = qk.execute(circuit_list[100:200], backend, shots = 20000, optimization_level = 0, seed_transpiler=42)\n",
    "job3 = qk.execute(circuit_list[200:300], backend, shots = 20000, optimization_level = 0, seed_transpiler=42)\n",
    "job4 = qk.execute(circuit_list[300:400], backend, shots = 20000, optimization_level = 0, seed_transpiler=42)\n",
    "job5 = qk.execute(circuit_list[400:500], backend, shots = 20000, optimization_level = 0, seed_transpiler=42)\n",
    "\n",
    "result1 = job1.result()\n",
    "result2 = job2.result()\n",
    "result3 = job3.result()\n",
    "result4 = job4.result()\n",
    "result5 = job5.result()\n",
    "\n",
    "counts_map_list.extend([result1.get_counts(circuit) for circuit in circuit_list[:100]])\n",
    "counts_map_list.extend([result2.get_counts(circuit) for circuit in circuit_list[100:200]])\n",
    "counts_map_list.extend([result3.get_counts(circuit) for circuit in circuit_list[200:300]])\n",
    "counts_map_list.extend([result4.get_counts(circuit) for circuit in circuit_list[300:400]])\n",
    "counts_map_list.extend([result5.get_counts(circuit) for circuit in circuit_list[400:500]])\n",
    "\n",
    "\n",
    "data = [input_map_list, counts_map_list, counts_rep_list, counts_corr_list]\n",
    "\n",
    "pickle.dump(data, open(\"../../data/threeQubits_pauliStrings_corrMat_3.p\", \"wb\"))"
   ]
  },
  {
   "cell_type": "code",
   "execution_count": null,
   "metadata": {},
   "outputs": [],
   "source": []
  }
 ],
 "metadata": {
  "kernelspec": {
   "display_name": "env_qiskit",
   "language": "python",
   "name": "env_qiskit"
  },
  "language_info": {
   "codemirror_mode": {
    "name": "ipython",
    "version": 3
   },
   "file_extension": ".py",
   "mimetype": "text/x-python",
   "name": "python",
   "nbconvert_exporter": "python",
   "pygments_lexer": "ipython3",
   "version": "3.7.10"
  }
 },
 "nbformat": 4,
 "nbformat_minor": 4
}
