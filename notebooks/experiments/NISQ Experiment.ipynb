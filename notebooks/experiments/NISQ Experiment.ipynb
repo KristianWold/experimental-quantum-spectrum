{
 "cells": [
  {
   "cell_type": "markdown",
   "metadata": {},
   "source": [
    "# NISQ Experiment"
   ]
  },
  {
   "cell_type": "code",
   "execution_count": 6,
   "metadata": {},
   "outputs": [],
   "source": [
    "import sys\n",
    "sys.path.insert(0, '../../src_tf/')\n",
    "\n",
    "import numpy as np\n",
    "import qiskit as qk\n",
    "import matplotlib.pyplot as plt\n",
    "import multiprocessing as mp\n",
    "import random\n",
    "import pickle\n",
    "\n",
    "from qiskit.quantum_info import DensityMatrix, random_unitary\n",
    "from qiskit.quantum_info import Operator\n",
    "from scipy.linalg import sqrtm\n",
    "from tqdm.notebook import tqdm\n",
    "\n",
    "from loss_functions import *\n",
    "from optimization import *\n",
    "from quantum_channel import *\n",
    "from quantum_tools import *\n",
    "from experimental import *\n",
    "from spam import *\n",
    "\n",
    "#np.set_printoptions(threshold=sys.maxsize)\n",
    "np.set_printoptions(precision=4)\n",
    "\n",
    "import os\n",
    "os.environ[\"CUDA_VISIBLE_DEVICES\"] = \"-1\""
   ]
  },
  {
   "cell_type": "code",
   "execution_count": 7,
   "metadata": {},
   "outputs": [],
   "source": [
    "from qiskit import QuantumRegister, ClassicalRegister, QuantumCircuit\n",
    "from qiskit.tools.visualization import circuit_drawer\n",
    "from qiskit.quantum_info import random_unitary, Operator"
   ]
  },
  {
   "cell_type": "code",
   "execution_count": 8,
   "metadata": {},
   "outputs": [
    {
     "name": "stderr",
     "output_type": "stream",
     "text": [
      "ibmqfactory.load_account:WARNING:2022-10-18 22:06:21,511: Credentials are already in use. The existing account in the session will be replaced.\n"
     ]
    }
   ],
   "source": [
    "#qk.IBMQ.save_account(\"a9ec3c697bede976217e9ff6c5c0f19a2511ea34a225bbe10f0c74bda39de845d16fa3f7c30b47c5714e2b695aded3cfd474e7c1b33056014fab89301b83d724\", overwrite=True) \n",
    "provider = qk.IBMQ.load_account()\n",
    "provider = qk.IBMQ.get_provider(hub='ibm-q', group='open', project='main')\n",
    "backend = provider.get_backend(\"ibm_oslo\")\n",
    "\n",
    "#backend = AerSimulator()"
   ]
  },
  {
   "cell_type": "code",
   "execution_count": 9,
   "metadata": {},
   "outputs": [],
   "source": [
    "def execute_and_collect(circuit_list, backend, file_name, shots=20000):\n",
    "    N = len(circuit_list)\n",
    "    num_batches = (N+500-1)//500\n",
    "    circuit_batch_list = [circuit_list[500*i: 500*(i+1)] for i in range(num_batches)]\n",
    "    counts_list = []\n",
    "    for i, circuit_batch in enumerate(tqdm(circuit_batch_list)):\n",
    "        num_parcels = (len(circuit_batch) + 100 - 1)//100\n",
    "        circuit_parcel_list = [circuit_batch[100*j: 100*(j+1)] for j in range(num_parcels)]\n",
    "        job_list = []\n",
    "        \n",
    "        for circuit_parcel in circuit_parcel_list:\n",
    "            trans_circ_list = qk.transpile(circuit_parcel, \n",
    "                                           backend, \n",
    "                                           optimization_level = 0, \n",
    "                                           seed_transpiler=42, \n",
    "                                           scheduling_method = 'asap') \n",
    "            job = backend.run(trans_circ_list, shots = shots)\n",
    "            job_list.append(job)\n",
    "        \n",
    "        result_list = []\n",
    "        for job in tqdm(job_list):\n",
    "            result_list.append(job.result())\n",
    "            \n",
    "        for result, circuit_parcel in zip(result_list, circuit_parcel_list):\n",
    "            counts_list.extend([result.get_counts(circuit) for circuit in circuit_parcel])\n",
    "        \n",
    "        pickle.dump(counts_list, open(f\"../../data/{file_name}_{i}.p\", \"wb\"))   \n",
    "        \n",
    "    return counts_list  "
   ]
  },
  {
   "cell_type": "markdown",
   "metadata": {},
   "source": [
    "## Variational Circuit"
   ]
  },
  {
   "cell_type": "markdown",
   "metadata": {},
   "source": [
    "## One Layer"
   ]
  },
  {
   "cell_type": "code",
   "execution_count": 35,
   "metadata": {},
   "outputs": [],
   "source": [
    "n = 3\n",
    "d = 2**n\n",
    "\n",
    "np.random.seed(42)\n",
    "random.seed(42)\n",
    "\n",
    "circuit_target = variational_circuit(n, 1).reverse_bits()\n",
    "\n",
    "N = 1000-6**n\n",
    "input_map_list, circuit_list = generate_pauli_circuits(n, circuit_target, N)\n",
    "\n",
    "inputs_spam, circuit_spam = generate_pauliInput_circuits(n)\n",
    "\n",
    "circuit_list.extend(circuit_spam)"
   ]
  },
  {
   "cell_type": "code",
   "execution_count": 36,
   "metadata": {},
   "outputs": [
    {
     "name": "stdout",
     "output_type": "stream",
     "text": [
      "      ┌────────────┐ ┌─────────────┐     ┌───┐\n",
      "q_0: ─┤ Ry(1.4577) ├─┤ Rz(-2.1615) ├─────┤ X ├\n",
      "      ├────────────┤ ├─────────────┤┌───┐└─┬─┘\n",
      "q_1: ─┤ Ry(2.8319) ├─┤ Rz(-2.1613) ├┤ X ├──■──\n",
      "     ┌┴────────────┴┐├─────────────┤└─┬─┘     \n",
      "q_2: ┤ Ry(-0.78829) ├┤ Rz(0.61989) ├──■───────\n",
      "     └──────────────┘└─────────────┘          \n"
     ]
    }
   ],
   "source": [
    "print(circuit_target)"
   ]
  },
  {
   "cell_type": "code",
   "execution_count": 33,
   "metadata": {},
   "outputs": [
    {
     "data": {
      "application/vnd.jupyter.widget-view+json": {
       "model_id": "1aa96959496c4daa9f28a64035fc57df",
       "version_major": 2,
       "version_minor": 0
      },
      "text/plain": [
       "  0%|          | 0/2 [00:00<?, ?it/s]"
      ]
     },
     "metadata": {},
     "output_type": "display_data"
    },
    {
     "data": {
      "application/vnd.jupyter.widget-view+json": {
       "model_id": "c9028a8c4bd94fc9a382880fb9bed95c",
       "version_major": 2,
       "version_minor": 0
      },
      "text/plain": [
       "  0%|          | 0/5 [00:00<?, ?it/s]"
      ]
     },
     "metadata": {},
     "output_type": "display_data"
    },
    {
     "data": {
      "application/vnd.jupyter.widget-view+json": {
       "model_id": "dc4263395ad14c31a4b2127307745a96",
       "version_major": 2,
       "version_minor": 0
      },
      "text/plain": [
       "  0%|          | 0/5 [00:00<?, ?it/s]"
      ]
     },
     "metadata": {},
     "output_type": "display_data"
    }
   ],
   "source": [
    "counts_list = execute_and_collect(circuit_list, backend, 'threeQubits_variational')\n",
    "data = [input_map_list, inputs_spam, counts_list]\n",
    "pickle.dump(data, open(\"../../data/threeQubits_variational.p\", \"wb\"))"
   ]
  },
  {
   "cell_type": "markdown",
   "metadata": {},
   "source": [
    "## Two Layers"
   ]
  },
  {
   "cell_type": "code",
   "execution_count": 38,
   "metadata": {},
   "outputs": [],
   "source": [
    "n = 3\n",
    "d = 2**n\n",
    "\n",
    "np.random.seed(42)\n",
    "random.seed(42)\n",
    "\n",
    "circuit_target = variational_circuit(n, 2).reverse_bits()\n",
    "\n",
    "N = 1000-6**n\n",
    "input_map_list, circuit_list = generate_pauli_circuits(n, circuit_target, N)\n",
    "\n",
    "inputs_spam, circuit_spam = generate_pauliInput_circuits(n)\n",
    "\n",
    "circuit_list.extend(circuit_spam)"
   ]
  },
  {
   "cell_type": "code",
   "execution_count": 39,
   "metadata": {},
   "outputs": [
    {
     "name": "stdout",
     "output_type": "stream",
     "text": [
      "      ┌────────────┐ ┌─────────────┐          ┌───┐     ┌─────────────┐»\n",
      "q_0: ─┤ Ry(1.4577) ├─┤ Rz(-2.1615) ├──────────┤ X ├─────┤ Ry(0.63532) ├»\n",
      "      ├────────────┤ ├─────────────┤┌───┐     └─┬─┘     └┬────────────┤»\n",
      "q_1: ─┤ Ry(2.8319) ├─┤ Rz(-2.1613) ├┤ X ├───────■────────┤ Ry(2.3008) ├»\n",
      "     ┌┴────────────┴┐├─────────────┤└─┬─┘┌─────────────┐ ├────────────┤»\n",
      "q_2: ┤ Ry(-0.78829) ├┤ Rz(0.61989) ├──■──┤ Ry(-2.7766) ├─┤ Rz(1.3074) ├»\n",
      "     └──────────────┘└─────────────┘     └─────────────┘ └────────────┘»\n",
      "«      ┌────────────┐     ┌───┐\n",
      "«q_0: ─┤ Rz(2.9525) ├─────┤ X ├\n",
      "«     ┌┴────────────┤┌───┐└─┬─┘\n",
      "«q_1: ┤ Rz(-3.0123) ├┤ X ├──■──\n",
      "«     └─────────────┘└─┬─┘     \n",
      "«q_2: ─────────────────■───────\n",
      "«                              \n"
     ]
    }
   ],
   "source": [
    "print(circuit_target)"
   ]
  },
  {
   "cell_type": "code",
   "execution_count": 40,
   "metadata": {},
   "outputs": [
    {
     "data": {
      "application/vnd.jupyter.widget-view+json": {
       "model_id": "6b46de2197a74b31b002bdedfb2bd26a",
       "version_major": 2,
       "version_minor": 0
      },
      "text/plain": [
       "  0%|          | 0/2 [00:00<?, ?it/s]"
      ]
     },
     "metadata": {},
     "output_type": "display_data"
    },
    {
     "data": {
      "application/vnd.jupyter.widget-view+json": {
       "model_id": "52261d29a519481e87adf39f3dfbebe3",
       "version_major": 2,
       "version_minor": 0
      },
      "text/plain": [
       "  0%|          | 0/5 [00:00<?, ?it/s]"
      ]
     },
     "metadata": {},
     "output_type": "display_data"
    },
    {
     "data": {
      "application/vnd.jupyter.widget-view+json": {
       "model_id": "98bb9ab6ae8f4c4ca95fc09d23a8ff7f",
       "version_major": 2,
       "version_minor": 0
      },
      "text/plain": [
       "  0%|          | 0/5 [00:00<?, ?it/s]"
      ]
     },
     "metadata": {},
     "output_type": "display_data"
    }
   ],
   "source": [
    "counts_list = execute_and_collect(circuit_list, backend, 'threeQubits_variational_2')\n",
    "data = [input_map_list, inputs_spam, counts_list]\n",
    "pickle.dump(data, open(\"../../data/threeQubits_variational_2.p\", \"wb\"))"
   ]
  },
  {
   "cell_type": "markdown",
   "metadata": {},
   "source": [
    "## Three Layers"
   ]
  },
  {
   "cell_type": "code",
   "execution_count": null,
   "metadata": {},
   "outputs": [],
   "source": [
    "n = 3\n",
    "d = 2**n\n",
    "\n",
    "np.random.seed(42)\n",
    "random.seed(42)\n",
    "\n",
    "circuit_target = variational_circuit(n, 3).reverse_bits()\n",
    "\n",
    "N = 1000-6**n\n",
    "input_map_list, circuit_list = generate_pauli_circuits(n, circuit_target, N)\n",
    "\n",
    "inputs_spam, circuit_spam = generate_pauliInput_circuits(n)\n",
    "\n",
    "circuit_list.extend(circuit_spam)\n",
    "print(circuit_target)"
   ]
  },
  {
   "cell_type": "code",
   "execution_count": null,
   "metadata": {},
   "outputs": [],
   "source": [
    "counts_list = execute_and_collect(circuit_list, backend, 'threeQubits_variational_3')\n",
    "data = [input_map_list, inputs_spam, counts_list]\n",
    "pickle.dump(data, open(\"../../data/threeQubits_variational_3.p\", \"wb\"))"
   ]
  },
  {
   "cell_type": "markdown",
   "metadata": {},
   "source": [
    "## Four Layers"
   ]
  },
  {
   "cell_type": "code",
   "execution_count": 43,
   "metadata": {},
   "outputs": [
    {
     "name": "stdout",
     "output_type": "stream",
     "text": [
      "      ┌────────────┐ ┌─────────────┐          ┌───┐     ┌─────────────┐»\n",
      "q_0: ─┤ Ry(1.4577) ├─┤ Rz(-2.1615) ├──────────┤ X ├─────┤ Ry(0.63532) ├»\n",
      "      ├────────────┤ ├─────────────┤┌───┐     └─┬─┘     └┬────────────┤»\n",
      "q_1: ─┤ Ry(2.8319) ├─┤ Rz(-2.1613) ├┤ X ├───────■────────┤ Ry(2.3008) ├»\n",
      "     ┌┴────────────┴┐├─────────────┤└─┬─┘┌─────────────┐ ├────────────┤»\n",
      "q_2: ┤ Ry(-0.78829) ├┤ Rz(0.61989) ├──■──┤ Ry(-2.7766) ├─┤ Rz(1.3074) ├»\n",
      "     └──────────────┘└─────────────┘     └─────────────┘ └────────────┘»\n",
      "«      ┌────────────┐         ┌───┐     ┌─────────────┐┌─────────────┐     »\n",
      "«q_0: ─┤ Rz(2.9525) ├─────────┤ X ├─────┤ Ry(-1.9992) ├┤ Rz(0.15555) ├─────»\n",
      "«     ┌┴────────────┤┌───┐    └─┬─┘     ├─────────────┤└┬───────────┬┘┌───┐»\n",
      "«q_1: ┤ Rz(-3.0123) ├┤ X ├──────■───────┤ Ry(-1.8074) ├─┤ Rz(-1.23) ├─┤ X ├»\n",
      "«     └─────────────┘└─┬─┘┌────────────┐├─────────────┤ └───────────┘ └─┬─┘»\n",
      "«q_2: ─────────────────■──┤ Ry(2.0888) ├┤ Rz(-1.9892) ├─────────────────■──»\n",
      "«                         └────────────┘└─────────────┘                    »\n",
      "«          ┌───┐     ┌─────────────┐┌──────────────┐     ┌───┐\n",
      "«q_0: ─────┤ X ├─────┤ Ry(0.70279) ├┤ Rz(-0.83967) ├─────┤ X ├\n",
      "«          └─┬─┘     ├─────────────┤└┬────────────┬┘┌───┐└─┬─┘\n",
      "«q_1: ───────■───────┤ Ry(-1.3117) ├─┤ Rz(-1.306) ├─┤ X ├──■──\n",
      "«     ┌─────────────┐├─────────────┤ └────────────┘ └─┬─┘     \n",
      "«q_2: ┤ Ry(-0.4276) ├┤ Rz(-2.2651) ├──────────────────■───────\n",
      "«     └─────────────┘└─────────────┘                          \n"
     ]
    }
   ],
   "source": [
    "n = 3\n",
    "d = 2**n\n",
    "\n",
    "np.random.seed(42)\n",
    "random.seed(42)\n",
    "\n",
    "circuit_target = variational_circuit(n, 4).reverse_bits()\n",
    "\n",
    "N = 1000-6**n\n",
    "input_map_list, circuit_list = generate_pauli_circuits(n, circuit_target, N)\n",
    "\n",
    "inputs_spam, circuit_spam = generate_pauliInput_circuits(n)\n",
    "\n",
    "circuit_list.extend(circuit_spam)\n",
    "print(circuit_target)"
   ]
  },
  {
   "cell_type": "code",
   "execution_count": 44,
   "metadata": {},
   "outputs": [
    {
     "data": {
      "application/vnd.jupyter.widget-view+json": {
       "model_id": "1af72ee425354369b553b46bbd5131f3",
       "version_major": 2,
       "version_minor": 0
      },
      "text/plain": [
       "  0%|          | 0/2 [00:00<?, ?it/s]"
      ]
     },
     "metadata": {},
     "output_type": "display_data"
    },
    {
     "data": {
      "application/vnd.jupyter.widget-view+json": {
       "model_id": "3a1858c2846a4ddbaf4453f41a6291d4",
       "version_major": 2,
       "version_minor": 0
      },
      "text/plain": [
       "  0%|          | 0/5 [00:00<?, ?it/s]"
      ]
     },
     "metadata": {},
     "output_type": "display_data"
    },
    {
     "data": {
      "application/vnd.jupyter.widget-view+json": {
       "model_id": "015caf38cb674dd1bac54e7af157bc4e",
       "version_major": 2,
       "version_minor": 0
      },
      "text/plain": [
       "  0%|          | 0/5 [00:00<?, ?it/s]"
      ]
     },
     "metadata": {},
     "output_type": "display_data"
    }
   ],
   "source": [
    "counts_list = execute_and_collect(circuit_list, backend, 'threeQubits_variational_4')\n",
    "data = [input_map_list, inputs_spam, counts_list]\n",
    "pickle.dump(data, open(\"../../data/threeQubits_variational_4.p\", \"wb\"))"
   ]
  },
  {
   "cell_type": "markdown",
   "metadata": {},
   "source": [
    "## Six Layers"
   ]
  },
  {
   "cell_type": "code",
   "execution_count": 6,
   "metadata": {},
   "outputs": [
    {
     "name": "stdout",
     "output_type": "stream",
     "text": [
      "      ┌────────────┐ ┌─────────────┐          ┌───┐     ┌─────────────┐»\n",
      "q_0: ─┤ Ry(1.4577) ├─┤ Rz(-2.1615) ├──────────┤ X ├─────┤ Ry(0.63532) ├»\n",
      "      ├────────────┤ ├─────────────┤┌───┐     └─┬─┘     └┬────────────┤»\n",
      "q_1: ─┤ Ry(2.8319) ├─┤ Rz(-2.1613) ├┤ X ├───────■────────┤ Ry(2.3008) ├»\n",
      "     ┌┴────────────┴┐├─────────────┤└─┬─┘┌─────────────┐ ├────────────┤»\n",
      "q_2: ┤ Ry(-0.78829) ├┤ Rz(0.61989) ├──■──┤ Ry(-2.7766) ├─┤ Rz(1.3074) ├»\n",
      "     └──────────────┘└─────────────┘     └─────────────┘ └────────────┘»\n",
      "«      ┌────────────┐         ┌───┐     ┌─────────────┐┌─────────────┐     »\n",
      "«q_0: ─┤ Rz(2.9525) ├─────────┤ X ├─────┤ Ry(-1.9992) ├┤ Rz(0.15555) ├─────»\n",
      "«     ┌┴────────────┤┌───┐    └─┬─┘     ├─────────────┤└┬───────────┬┘┌───┐»\n",
      "«q_1: ┤ Rz(-3.0123) ├┤ X ├──────■───────┤ Ry(-1.8074) ├─┤ Rz(-1.23) ├─┤ X ├»\n",
      "«     └─────────────┘└─┬─┘┌────────────┐├─────────────┤ └───────────┘ └─┬─┘»\n",
      "«q_2: ─────────────────■──┤ Ry(2.0888) ├┤ Rz(-1.9892) ├─────────────────■──»\n",
      "«                         └────────────┘└─────────────┘                    »\n",
      "«          ┌───┐     ┌─────────────┐┌──────────────┐          ┌───┐      »\n",
      "«q_0: ─────┤ X ├─────┤ Ry(0.70279) ├┤ Rz(-0.83967) ├──────────┤ X ├──────»\n",
      "«          └─┬─┘     ├─────────────┤└┬────────────┬┘┌───┐     └─┬─┘      »\n",
      "«q_1: ───────■───────┤ Ry(-1.3117) ├─┤ Rz(-1.306) ├─┤ X ├───────■────────»\n",
      "«     ┌─────────────┐├─────────────┤ └────────────┘ └─┬─┘┌──────────────┐»\n",
      "«q_2: ┤ Ry(-0.4276) ├┤ Rz(-2.2651) ├──────────────────■──┤ Ry(-0.27602) ├»\n",
      "«     └─────────────┘└─────────────┘                     └──────────────┘»\n",
      "«      ┌────────────┐ ┌─────────────┐          ┌───┐     ┌─────────────┐»\n",
      "«q_0: ─┤ Ry(-1.887) ├─┤ Rz(-2.8497) ├──────────┤ X ├─────┤ Ry(-2.7329) ├»\n",
      "«      ├────────────┤ ├─────────────┤┌───┐     └─┬─┘     ├─────────────┤»\n",
      "«q_1: ─┤ Ry(1.7918) ├─┤ Rz(0.58066) ├┤ X ├───────■───────┤ Ry(-2.0702) ├»\n",
      "«     ┌┴────────────┴┐└─────────────┘└─┬─┘┌─────────────┐└┬────────────┤»\n",
      "«q_2: ┤ Rz(0.089438) ├─────────────────■──┤ Ry(0.67572) ├─┤ Rz(2.8204) ├»\n",
      "«     └──────────────┘                    └─────────────┘ └────────────┘»\n",
      "«     ┌────────────┐     ┌───┐\n",
      "«q_0: ┤ Rz(1.9377) ├─────┤ X ├\n",
      "«     ├────────────┤┌───┐└─┬─┘\n",
      "«q_1: ┤ Rz(2.9257) ├┤ X ├──■──\n",
      "«     └────────────┘└─┬─┘     \n",
      "«q_2: ────────────────■───────\n",
      "«                             \n"
     ]
    }
   ],
   "source": [
    "n = 3\n",
    "d = 2**n\n",
    "\n",
    "np.random.seed(42)\n",
    "random.seed(42)\n",
    "\n",
    "circuit_target = variational_circuit(n, 6).reverse_bits()\n",
    "\n",
    "N = 1000-6**n\n",
    "input_map_list, circuit_list = generate_pauli_circuits(n, circuit_target, N)\n",
    "\n",
    "inputs_spam, circuit_spam = generate_pauliInput_circuits(n)\n",
    "\n",
    "circuit_list.extend(circuit_spam)\n",
    "print(circuit_target)"
   ]
  },
  {
   "cell_type": "code",
   "execution_count": 7,
   "metadata": {},
   "outputs": [
    {
     "data": {
      "application/vnd.jupyter.widget-view+json": {
       "model_id": "362555be4dc645fb9017a6e574d8864c",
       "version_major": 2,
       "version_minor": 0
      },
      "text/plain": [
       "  0%|          | 0/2 [00:00<?, ?it/s]"
      ]
     },
     "metadata": {},
     "output_type": "display_data"
    },
    {
     "data": {
      "application/vnd.jupyter.widget-view+json": {
       "model_id": "85ccf37efe8f4132b61f0ce9d7e5f9bc",
       "version_major": 2,
       "version_minor": 0
      },
      "text/plain": [
       "  0%|          | 0/5 [00:00<?, ?it/s]"
      ]
     },
     "metadata": {},
     "output_type": "display_data"
    },
    {
     "data": {
      "application/vnd.jupyter.widget-view+json": {
       "model_id": "5f0e6d16d02b4f738da1b09e0dff7059",
       "version_major": 2,
       "version_minor": 0
      },
      "text/plain": [
       "  0%|          | 0/5 [00:00<?, ?it/s]"
      ]
     },
     "metadata": {},
     "output_type": "display_data"
    }
   ],
   "source": [
    "counts_list = execute_and_collect(circuit_list, backend, 'threeQubits_variational_6')\n",
    "data = [input_map_list, inputs_spam, counts_list]\n",
    "pickle.dump(data, open(\"../../data/threeQubits_variational_6.p\", \"wb\"))"
   ]
  },
  {
   "cell_type": "markdown",
   "metadata": {},
   "source": [
    "## Nine Layers"
   ]
  },
  {
   "cell_type": "code",
   "execution_count": 8,
   "metadata": {},
   "outputs": [
    {
     "name": "stdout",
     "output_type": "stream",
     "text": [
      "      ┌────────────┐ ┌─────────────┐          ┌───┐     ┌─────────────┐»\n",
      "q_0: ─┤ Ry(1.4577) ├─┤ Rz(-2.1615) ├──────────┤ X ├─────┤ Ry(0.63532) ├»\n",
      "      ├────────────┤ ├─────────────┤┌───┐     └─┬─┘     └┬────────────┤»\n",
      "q_1: ─┤ Ry(2.8319) ├─┤ Rz(-2.1613) ├┤ X ├───────■────────┤ Ry(2.3008) ├»\n",
      "     ┌┴────────────┴┐├─────────────┤└─┬─┘┌─────────────┐ ├────────────┤»\n",
      "q_2: ┤ Ry(-0.78829) ├┤ Rz(0.61989) ├──■──┤ Ry(-2.7766) ├─┤ Rz(1.3074) ├»\n",
      "     └──────────────┘└─────────────┘     └─────────────┘ └────────────┘»\n",
      "«      ┌────────────┐         ┌───┐     ┌─────────────┐┌─────────────┐     »\n",
      "«q_0: ─┤ Rz(2.9525) ├─────────┤ X ├─────┤ Ry(-1.9992) ├┤ Rz(0.15555) ├─────»\n",
      "«     ┌┴────────────┤┌───┐    └─┬─┘     ├─────────────┤└┬───────────┬┘┌───┐»\n",
      "«q_1: ┤ Rz(-3.0123) ├┤ X ├──────■───────┤ Ry(-1.8074) ├─┤ Rz(-1.23) ├─┤ X ├»\n",
      "«     └─────────────┘└─┬─┘┌────────────┐├─────────────┤ └───────────┘ └─┬─┘»\n",
      "«q_2: ─────────────────■──┤ Ry(2.0888) ├┤ Rz(-1.9892) ├─────────────────■──»\n",
      "«                         └────────────┘└─────────────┘                    »\n",
      "«          ┌───┐     ┌─────────────┐┌──────────────┐          ┌───┐      »\n",
      "«q_0: ─────┤ X ├─────┤ Ry(0.70279) ├┤ Rz(-0.83967) ├──────────┤ X ├──────»\n",
      "«          └─┬─┘     ├─────────────┤└┬────────────┬┘┌───┐     └─┬─┘      »\n",
      "«q_1: ───────■───────┤ Ry(-1.3117) ├─┤ Rz(-1.306) ├─┤ X ├───────■────────»\n",
      "«     ┌─────────────┐├─────────────┤ └────────────┘ └─┬─┘┌──────────────┐»\n",
      "«q_2: ┤ Ry(-0.4276) ├┤ Rz(-2.2651) ├──────────────────■──┤ Ry(-0.27602) ├»\n",
      "«     └─────────────┘└─────────────┘                     └──────────────┘»\n",
      "«      ┌────────────┐ ┌─────────────┐          ┌───┐     ┌─────────────┐»\n",
      "«q_0: ─┤ Ry(-1.887) ├─┤ Rz(-2.8497) ├──────────┤ X ├─────┤ Ry(-2.7329) ├»\n",
      "«      ├────────────┤ ├─────────────┤┌───┐     └─┬─┘     ├─────────────┤»\n",
      "«q_1: ─┤ Ry(1.7918) ├─┤ Rz(0.58066) ├┤ X ├───────■───────┤ Ry(-2.0702) ├»\n",
      "«     ┌┴────────────┴┐└─────────────┘└─┬─┘┌─────────────┐└┬────────────┤»\n",
      "«q_2: ┤ Rz(0.089438) ├─────────────────■──┤ Ry(0.67572) ├─┤ Rz(2.8204) ├»\n",
      "«     └──────────────┘                    └─────────────┘ └────────────┘»\n",
      "«     ┌────────────┐          ┌───┐      ┌────────────┐ ┌───────────────┐     »\n",
      "«q_0: ┤ Rz(1.9377) ├──────────┤ X ├──────┤ Ry(1.1576) ├─┤ Rz(-0.030304) ├─────»\n",
      "«     ├────────────┤┌───┐     └─┬─┘     ┌┴────────────┤ └┬─────────────┬┘┌───┐»\n",
      "«q_1: ┤ Rz(2.9257) ├┤ X ├───────■───────┤ Ry(-2.5279) ├──┤ Rz(-2.3748) ├─┤ X ├»\n",
      "«     └────────────┘└─┬─┘┌─────────────┐├─────────────┴┐ └─────────────┘ └─┬─┘»\n",
      "«q_2: ────────────────■──┤ Ry(-1.2276) ├┤ Rz(-0.37603) ├───────────────────■──»\n",
      "«                        └─────────────┘└──────────────┘                      »\n",
      "«          ┌───┐     ┌─────────────┐┌─────────────┐          ┌───┐     »\n",
      "«q_0: ─────┤ X ├─────┤ Ry(-1.5156) ├┤ Rz(0.12609) ├──────────┤ X ├─────»\n",
      "«          └─┬─┘     └┬────────────┤├─────────────┤┌───┐     └─┬─┘     »\n",
      "«q_1: ───────■────────┤ Ry(2.5718) ├┤ Rz(-1.1831) ├┤ X ├───────■───────»\n",
      "«     ┌─────────────┐ ├────────────┤└─────────────┘└─┬─┘┌─────────────┐»\n",
      "«q_2: ┤ Ry(-2.9255) ├─┤ Rz(1.0212) ├─────────────────■──┤ Ry(0.29349) ├»\n",
      "«     └─────────────┘ └────────────┘                    └─────────────┘»\n",
      "«      ┌────────────┐┌────────────┐     ┌───┐\n",
      "«q_0: ─┤ Ry(2.9505) ├┤ Rz(2.4808) ├─────┤ X ├\n",
      "«     ┌┴────────────┤├────────────┤┌───┐└─┬─┘\n",
      "«q_1: ┤ Ry(-1.9801) ├┤ Rz(2.7615) ├┤ X ├──■──\n",
      "«     └┬────────────┤└────────────┘└─┬─┘     \n",
      "«q_2: ─┤ Rz(1.7287) ├────────────────■───────\n",
      "«      └────────────┘                        \n"
     ]
    }
   ],
   "source": [
    "n = 3\n",
    "d = 2**n\n",
    "\n",
    "np.random.seed(42)\n",
    "random.seed(42)\n",
    "\n",
    "circuit_target = variational_circuit(n, 9).reverse_bits()\n",
    "\n",
    "N = 1000-6**n\n",
    "input_map_list, circuit_list = generate_pauli_circuits(n, circuit_target, N)\n",
    "\n",
    "inputs_spam, circuit_spam = generate_pauliInput_circuits(n)\n",
    "\n",
    "circuit_list.extend(circuit_spam)\n",
    "print(circuit_target)"
   ]
  },
  {
   "cell_type": "code",
   "execution_count": 13,
   "metadata": {},
   "outputs": [
    {
     "data": {
      "application/vnd.jupyter.widget-view+json": {
       "model_id": "eddcd5c0418f4a7f957064b091117e8f",
       "version_major": 2,
       "version_minor": 0
      },
      "text/plain": [
       "  0%|          | 0/2 [00:00<?, ?it/s]"
      ]
     },
     "metadata": {},
     "output_type": "display_data"
    },
    {
     "data": {
      "application/vnd.jupyter.widget-view+json": {
       "model_id": "1165323be7194ab59012b6021d80ff57",
       "version_major": 2,
       "version_minor": 0
      },
      "text/plain": [
       "  0%|          | 0/5 [00:00<?, ?it/s]"
      ]
     },
     "metadata": {},
     "output_type": "display_data"
    },
    {
     "data": {
      "application/vnd.jupyter.widget-view+json": {
       "model_id": "f76a1e41a2a94b5488ec67ad964506d5",
       "version_major": 2,
       "version_minor": 0
      },
      "text/plain": [
       "  0%|          | 0/5 [00:00<?, ?it/s]"
      ]
     },
     "metadata": {},
     "output_type": "display_data"
    }
   ],
   "source": [
    "counts_list = execute_and_collect(circuit_list, backend, 'threeQubits_variational_12')\n",
    "data = [input_map_list, inputs_spam, counts_list]\n",
    "pickle.dump(data, open(\"../../data/threeQubits_variational_12.p\", \"wb\"))"
   ]
  },
  {
   "cell_type": "markdown",
   "metadata": {},
   "source": [
    "## Twelve Layers"
   ]
  },
  {
   "cell_type": "code",
   "execution_count": 14,
   "metadata": {},
   "outputs": [
    {
     "name": "stdout",
     "output_type": "stream",
     "text": [
      "      ┌────────────┐ ┌─────────────┐          ┌───┐     ┌─────────────┐»\n",
      "q_0: ─┤ Ry(1.4577) ├─┤ Rz(-2.1615) ├──────────┤ X ├─────┤ Ry(0.63532) ├»\n",
      "      ├────────────┤ ├─────────────┤┌───┐     └─┬─┘     └┬────────────┤»\n",
      "q_1: ─┤ Ry(2.8319) ├─┤ Rz(-2.1613) ├┤ X ├───────■────────┤ Ry(2.3008) ├»\n",
      "     ┌┴────────────┴┐├─────────────┤└─┬─┘┌─────────────┐ ├────────────┤»\n",
      "q_2: ┤ Ry(-0.78829) ├┤ Rz(0.61989) ├──■──┤ Ry(-2.7766) ├─┤ Rz(1.3074) ├»\n",
      "     └──────────────┘└─────────────┘     └─────────────┘ └────────────┘»\n",
      "«      ┌────────────┐         ┌───┐     ┌─────────────┐┌─────────────┐     »\n",
      "«q_0: ─┤ Rz(2.9525) ├─────────┤ X ├─────┤ Ry(-1.9992) ├┤ Rz(0.15555) ├─────»\n",
      "«     ┌┴────────────┤┌───┐    └─┬─┘     ├─────────────┤└┬───────────┬┘┌───┐»\n",
      "«q_1: ┤ Rz(-3.0123) ├┤ X ├──────■───────┤ Ry(-1.8074) ├─┤ Rz(-1.23) ├─┤ X ├»\n",
      "«     └─────────────┘└─┬─┘┌────────────┐├─────────────┤ └───────────┘ └─┬─┘»\n",
      "«q_2: ─────────────────■──┤ Ry(2.0888) ├┤ Rz(-1.9892) ├─────────────────■──»\n",
      "«                         └────────────┘└─────────────┘                    »\n",
      "«          ┌───┐     ┌─────────────┐┌──────────────┐          ┌───┐      »\n",
      "«q_0: ─────┤ X ├─────┤ Ry(0.70279) ├┤ Rz(-0.83967) ├──────────┤ X ├──────»\n",
      "«          └─┬─┘     ├─────────────┤└┬────────────┬┘┌───┐     └─┬─┘      »\n",
      "«q_1: ───────■───────┤ Ry(-1.3117) ├─┤ Rz(-1.306) ├─┤ X ├───────■────────»\n",
      "«     ┌─────────────┐├─────────────┤ └────────────┘ └─┬─┘┌──────────────┐»\n",
      "«q_2: ┤ Ry(-0.4276) ├┤ Rz(-2.2651) ├──────────────────■──┤ Ry(-0.27602) ├»\n",
      "«     └─────────────┘└─────────────┘                     └──────────────┘»\n",
      "«      ┌────────────┐ ┌─────────────┐          ┌───┐     ┌─────────────┐»\n",
      "«q_0: ─┤ Ry(-1.887) ├─┤ Rz(-2.8497) ├──────────┤ X ├─────┤ Ry(-2.7329) ├»\n",
      "«      ├────────────┤ ├─────────────┤┌───┐     └─┬─┘     ├─────────────┤»\n",
      "«q_1: ─┤ Ry(1.7918) ├─┤ Rz(0.58066) ├┤ X ├───────■───────┤ Ry(-2.0702) ├»\n",
      "«     ┌┴────────────┴┐└─────────────┘└─┬─┘┌─────────────┐└┬────────────┤»\n",
      "«q_2: ┤ Rz(0.089438) ├─────────────────■──┤ Ry(0.67572) ├─┤ Rz(2.8204) ├»\n",
      "«     └──────────────┘                    └─────────────┘ └────────────┘»\n",
      "«     ┌────────────┐          ┌───┐      ┌────────────┐ ┌───────────────┐     »\n",
      "«q_0: ┤ Rz(1.9377) ├──────────┤ X ├──────┤ Ry(1.1576) ├─┤ Rz(-0.030304) ├─────»\n",
      "«     ├────────────┤┌───┐     └─┬─┘     ┌┴────────────┤ └┬─────────────┬┘┌───┐»\n",
      "«q_1: ┤ Rz(2.9257) ├┤ X ├───────■───────┤ Ry(-2.5279) ├──┤ Rz(-2.3748) ├─┤ X ├»\n",
      "«     └────────────┘└─┬─┘┌─────────────┐├─────────────┴┐ └─────────────┘ └─┬─┘»\n",
      "«q_2: ────────────────■──┤ Ry(-1.2276) ├┤ Rz(-0.37603) ├───────────────────■──»\n",
      "«                        └─────────────┘└──────────────┘                      »\n",
      "«          ┌───┐     ┌─────────────┐┌─────────────┐          ┌───┐     »\n",
      "«q_0: ─────┤ X ├─────┤ Ry(-1.5156) ├┤ Rz(0.12609) ├──────────┤ X ├─────»\n",
      "«          └─┬─┘     └┬────────────┤├─────────────┤┌───┐     └─┬─┘     »\n",
      "«q_1: ───────■────────┤ Ry(2.5718) ├┤ Rz(-1.1831) ├┤ X ├───────■───────»\n",
      "«     ┌─────────────┐ ├────────────┤└─────────────┘└─┬─┘┌─────────────┐»\n",
      "«q_2: ┤ Ry(-2.9255) ├─┤ Rz(1.0212) ├─────────────────■──┤ Ry(0.29349) ├»\n",
      "«     └─────────────┘ └────────────┘                    └─────────────┘»\n",
      "«      ┌────────────┐┌────────────┐          ┌───┐     ┌─────────────┐»\n",
      "«q_0: ─┤ Ry(2.9505) ├┤ Rz(2.4808) ├──────────┤ X ├─────┤ Ry(-2.5856) ├»\n",
      "«     ┌┴────────────┤├────────────┤┌───┐     └─┬─┘     └┬────────────┤»\n",
      "«q_1: ┤ Ry(-1.9801) ├┤ Rz(2.7615) ├┤ X ├───────■────────┤ Ry(2.6507) ├»\n",
      "«     └┬────────────┤└────────────┘└─┬─┘┌─────────────┐┌┴────────────┤»\n",
      "«q_2: ─┤ Rz(1.7287) ├────────────────■──┤ Ry(0.61512) ├┤ Rz(-1.9102) ├»\n",
      "«      └────────────┘                   └─────────────┘└─────────────┘»\n",
      "«     ┌─────────────┐          ┌───┐       ┌────────────┐ ┌─────────────┐     »\n",
      "«q_0: ┤ Rz(-1.0975) ├──────────┤ X ├───────┤ Ry(2.0655) ├─┤ Rz(0.26827) ├─────»\n",
      "«     ├─────────────┤┌───┐     └─┬─┘      ┌┴────────────┤ ├─────────────┤┌───┐»\n",
      "«q_1: ┤ Rz(-2.8574) ├┤ X ├───────■────────┤ Ry(-1.4367) ├─┤ Rz(-1.3764) ├┤ X ├»\n",
      "«     └─────────────┘└─┬─┘┌──────────────┐├─────────────┴┐└─────────────┘└─┬─┘»\n",
      "«q_2: ─────────────────■──┤ Ry(-0.69946) ├┤ Rz(-0.90005) ├─────────────────■──»\n",
      "«                         └──────────────┘└──────────────┘                    »\n",
      "«          ┌───┐     ┌─────────────┐┌────────────┐     ┌───┐\n",
      "«q_0: ─────┤ X ├─────┤ Ry(-2.6732) ├┤ Rz(-1.893) ├─────┤ X ├\n",
      "«          └─┬─┘     └┬────────────┤├────────────┤┌───┐└─┬─┘\n",
      "«q_1: ───────■────────┤ Ry(1.8988) ├┤ Rz(1.7106) ├┤ X ├──■──\n",
      "«     ┌─────────────┐ ├────────────┤└────────────┘└─┬─┘     \n",
      "«q_2: ┤ Ry(-2.2561) ├─┤ Rz(3.0592) ├────────────────■───────\n",
      "«     └─────────────┘ └────────────┘                        \n"
     ]
    }
   ],
   "source": [
    "n = 3\n",
    "d = 2**n\n",
    "\n",
    "np.random.seed(42)\n",
    "random.seed(42)\n",
    "\n",
    "circuit_target = variational_circuit(n, 12, 0, 12).reverse_bits()\n",
    "\n",
    "N = 1000-6**n\n",
    "input_map_list, circuit_list = generate_pauli_circuits(n, circuit_target, N)\n",
    "\n",
    "inputs_spam, circuit_spam = generate_pauliInput_circuits(n)\n",
    "\n",
    "circuit_list.extend(circuit_spam)\n",
    "print(circuit_target)"
   ]
  },
  {
   "cell_type": "code",
   "execution_count": 15,
   "metadata": {},
   "outputs": [
    {
     "data": {
      "application/vnd.jupyter.widget-view+json": {
       "model_id": "a165eb4749bd4d0689baeac13928e66c",
       "version_major": 2,
       "version_minor": 0
      },
      "text/plain": [
       "  0%|          | 0/2 [00:00<?, ?it/s]"
      ]
     },
     "metadata": {},
     "output_type": "display_data"
    },
    {
     "data": {
      "application/vnd.jupyter.widget-view+json": {
       "model_id": "46ff5c34ded14fd7a83569d8f68b3400",
       "version_major": 2,
       "version_minor": 0
      },
      "text/plain": [
       "  0%|          | 0/5 [00:00<?, ?it/s]"
      ]
     },
     "metadata": {},
     "output_type": "display_data"
    },
    {
     "data": {
      "application/vnd.jupyter.widget-view+json": {
       "model_id": "03da096d781646319f6b472778dfb31a",
       "version_major": 2,
       "version_minor": 0
      },
      "text/plain": [
       "  0%|          | 0/5 [00:00<?, ?it/s]"
      ]
     },
     "metadata": {},
     "output_type": "display_data"
    }
   ],
   "source": [
    "counts_list = execute_and_collect(circuit_list, backend, 'threeQubits_variational_12')\n",
    "data = [input_map_list, inputs_spam, counts_list]\n",
    "pickle.dump(data, open(\"../../data/threeQubits_variational_12.p\", \"wb\"))"
   ]
  },
  {
   "cell_type": "markdown",
   "metadata": {},
   "source": [
    "## L2"
   ]
  },
  {
   "cell_type": "code",
   "execution_count": 7,
   "metadata": {},
   "outputs": [
    {
     "name": "stdout",
     "output_type": "stream",
     "text": [
      "     ┌─────────────┐┌──────────────┐          ┌───┐       ┌────────────┐ »\n",
      "q_0: ┤ Ry(0.70279) ├┤ Rz(-0.83967) ├──────────┤ X ├───────┤ Ry(-1.887) ├─»\n",
      "     ├─────────────┤└┬────────────┬┘┌───┐     └─┬─┘       ├────────────┤ »\n",
      "q_1: ┤ Ry(-1.3117) ├─┤ Rz(-1.306) ├─┤ X ├───────■─────────┤ Ry(1.7918) ├─»\n",
      "     ├─────────────┤┌┴────────────┤ └─┬─┘┌──────────────┐┌┴────────────┴┐»\n",
      "q_2: ┤ Ry(-0.4276) ├┤ Rz(-2.2651) ├───■──┤ Ry(-0.27602) ├┤ Rz(0.089438) ├»\n",
      "     └─────────────┘└─────────────┘      └──────────────┘└──────────────┘»\n",
      "«     ┌─────────────┐          ┌───┐     ┌─────────────┐┌────────────┐     »\n",
      "«q_0: ┤ Rz(-2.8497) ├──────────┤ X ├─────┤ Ry(-2.7329) ├┤ Rz(1.9377) ├─────»\n",
      "«     ├─────────────┤┌───┐     └─┬─┘     ├─────────────┤├────────────┤┌───┐»\n",
      "«q_1: ┤ Rz(0.58066) ├┤ X ├───────■───────┤ Ry(-2.0702) ├┤ Rz(2.9257) ├┤ X ├»\n",
      "«     └─────────────┘└─┬─┘┌─────────────┐└┬────────────┤└────────────┘└─┬─┘»\n",
      "«q_2: ─────────────────■──┤ Ry(0.67572) ├─┤ Rz(2.8204) ├────────────────■──»\n",
      "«                         └─────────────┘ └────────────┘                   »\n",
      "«     ┌───┐\n",
      "«q_0: ┤ X ├\n",
      "«     └─┬─┘\n",
      "«q_1: ──■──\n",
      "«          \n",
      "«q_2: ─────\n",
      "«          \n"
     ]
    }
   ],
   "source": [
    "n = 3\n",
    "d = 2**n\n",
    "\n",
    "np.random.seed(42)\n",
    "random.seed(42)\n",
    "\n",
    "circuit_target = variational_circuit(n, 6, 3, 6).reverse_bits()\n",
    "\n",
    "N = 1000-6**n\n",
    "input_map_list, circuit_list = generate_pauli_circuits(n, circuit_target, N)\n",
    "\n",
    "inputs_spam, circuit_spam = generate_pauliInput_circuits(n)\n",
    "\n",
    "circuit_list.extend(circuit_spam)\n",
    "print(circuit_target)"
   ]
  },
  {
   "cell_type": "code",
   "execution_count": 8,
   "metadata": {},
   "outputs": [
    {
     "data": {
      "application/vnd.jupyter.widget-view+json": {
       "model_id": "214c2464fffc427796c004639abe6e6e",
       "version_major": 2,
       "version_minor": 0
      },
      "text/plain": [
       "  0%|          | 0/2 [00:00<?, ?it/s]"
      ]
     },
     "metadata": {},
     "output_type": "display_data"
    },
    {
     "data": {
      "application/vnd.jupyter.widget-view+json": {
       "model_id": "c4c593bae02a4c6eb67534d5904e127b",
       "version_major": 2,
       "version_minor": 0
      },
      "text/plain": [
       "  0%|          | 0/5 [00:00<?, ?it/s]"
      ]
     },
     "metadata": {},
     "output_type": "display_data"
    },
    {
     "data": {
      "application/vnd.jupyter.widget-view+json": {
       "model_id": "1e3fb63934b449519cb3db559cb582df",
       "version_major": 2,
       "version_minor": 0
      },
      "text/plain": [
       "  0%|          | 0/5 [00:00<?, ?it/s]"
      ]
     },
     "metadata": {},
     "output_type": "display_data"
    }
   ],
   "source": [
    "counts_list = execute_and_collect(circuit_list, backend, 'threeQubits_variational_3_2')\n",
    "data = [input_map_list, inputs_spam, counts_list]\n",
    "pickle.dump(data, open(\"../../data/threeQubits_variational_3_2.p\", \"wb\"))"
   ]
  },
  {
   "cell_type": "markdown",
   "metadata": {},
   "source": [
    "## L3"
   ]
  },
  {
   "cell_type": "code",
   "execution_count": 8,
   "metadata": {},
   "outputs": [
    {
     "name": "stdout",
     "output_type": "stream",
     "text": [
      "      ┌────────────┐┌───────────────┐          ┌───┐     ┌─────────────┐»\n",
      "q_0: ─┤ Ry(1.1576) ├┤ Rz(-0.030304) ├──────────┤ X ├─────┤ Ry(-1.5156) ├»\n",
      "     ┌┴────────────┤└┬─────────────┬┘┌───┐     └─┬─┘     └┬────────────┤»\n",
      "q_1: ┤ Ry(-2.5279) ├─┤ Rz(-2.3748) ├─┤ X ├───────■────────┤ Ry(2.5718) ├»\n",
      "     ├─────────────┤ ├─────────────┴┐└─┬─┘┌─────────────┐ ├────────────┤»\n",
      "q_2: ┤ Ry(-1.2276) ├─┤ Rz(-0.37603) ├──■──┤ Ry(-2.9255) ├─┤ Rz(1.0212) ├»\n",
      "     └─────────────┘ └──────────────┘     └─────────────┘ └────────────┘»\n",
      "«     ┌─────────────┐          ┌───┐      ┌────────────┐┌────────────┐     »\n",
      "«q_0: ┤ Rz(0.12609) ├──────────┤ X ├──────┤ Ry(2.9505) ├┤ Rz(2.4808) ├─────»\n",
      "«     ├─────────────┤┌───┐     └─┬─┘     ┌┴────────────┤├────────────┤┌───┐»\n",
      "«q_1: ┤ Rz(-1.1831) ├┤ X ├───────■───────┤ Ry(-1.9801) ├┤ Rz(2.7615) ├┤ X ├»\n",
      "«     └─────────────┘└─┬─┘┌─────────────┐└┬────────────┤└────────────┘└─┬─┘»\n",
      "«q_2: ─────────────────■──┤ Ry(0.29349) ├─┤ Rz(1.7287) ├────────────────■──»\n",
      "«                         └─────────────┘ └────────────┘                   »\n",
      "«     ┌───┐\n",
      "«q_0: ┤ X ├\n",
      "«     └─┬─┘\n",
      "«q_1: ──■──\n",
      "«          \n",
      "«q_2: ─────\n",
      "«          \n"
     ]
    }
   ],
   "source": [
    "n = 3\n",
    "d = 2**n\n",
    "\n",
    "np.random.seed(42)\n",
    "random.seed(42)\n",
    "\n",
    "circuit_target = variational_circuit(n, 9, 6, 9).reverse_bits()\n",
    "\n",
    "N = 1000-6**n\n",
    "input_map_list, circuit_list = generate_pauli_circuits(n, circuit_target, N)\n",
    "\n",
    "inputs_spam, circuit_spam = generate_pauliInput_circuits(n)\n",
    "\n",
    "circuit_list.extend(circuit_spam)\n",
    "print(circuit_target)"
   ]
  },
  {
   "cell_type": "code",
   "execution_count": 12,
   "metadata": {},
   "outputs": [
    {
     "data": {
      "application/vnd.jupyter.widget-view+json": {
       "model_id": "64aecb0d5ba746329306bd9c30395573",
       "version_major": 2,
       "version_minor": 0
      },
      "text/plain": [
       "  0%|          | 0/2 [00:00<?, ?it/s]"
      ]
     },
     "metadata": {},
     "output_type": "display_data"
    },
    {
     "data": {
      "application/vnd.jupyter.widget-view+json": {
       "model_id": "e744df2a09b5414982525bff4484b301",
       "version_major": 2,
       "version_minor": 0
      },
      "text/plain": [
       "  0%|          | 0/5 [00:00<?, ?it/s]"
      ]
     },
     "metadata": {},
     "output_type": "display_data"
    },
    {
     "data": {
      "application/vnd.jupyter.widget-view+json": {
       "model_id": "d350f996c8884aea8bb81ed778b8f6af",
       "version_major": 2,
       "version_minor": 0
      },
      "text/plain": [
       "  0%|          | 0/5 [00:00<?, ?it/s]"
      ]
     },
     "metadata": {},
     "output_type": "display_data"
    }
   ],
   "source": [
    "counts_list = execute_and_collect(circuit_list, backend, 'threeQubits_variational_3_3')\n",
    "data = [input_map_list, inputs_spam, counts_list]\n",
    "pickle.dump(data, open(\"../../data/threeQubits_variational_3_3.p\", \"wb\"))"
   ]
  },
  {
   "cell_type": "markdown",
   "metadata": {},
   "source": [
    "## L4"
   ]
  },
  {
   "cell_type": "code",
   "execution_count": 16,
   "metadata": {},
   "outputs": [
    {
     "name": "stdout",
     "output_type": "stream",
     "text": [
      "     ┌─────────────┐┌─────────────┐          ┌───┐       ┌────────────┐ »\n",
      "q_0: ┤ Ry(-2.5856) ├┤ Rz(-1.0975) ├──────────┤ X ├───────┤ Ry(2.0655) ├─»\n",
      "     └┬────────────┤├─────────────┤┌───┐     └─┬─┘      ┌┴────────────┤ »\n",
      "q_1: ─┤ Ry(2.6507) ├┤ Rz(-2.8574) ├┤ X ├───────■────────┤ Ry(-1.4367) ├─»\n",
      "     ┌┴────────────┤├─────────────┤└─┬─┘┌──────────────┐├─────────────┴┐»\n",
      "q_2: ┤ Ry(0.61512) ├┤ Rz(-1.9102) ├──■──┤ Ry(-0.69946) ├┤ Rz(-0.90005) ├»\n",
      "     └─────────────┘└─────────────┘     └──────────────┘└──────────────┘»\n",
      "«     ┌─────────────┐          ┌───┐     ┌─────────────┐┌────────────┐     »\n",
      "«q_0: ┤ Rz(0.26827) ├──────────┤ X ├─────┤ Ry(-2.6732) ├┤ Rz(-1.893) ├─────»\n",
      "«     ├─────────────┤┌───┐     └─┬─┘     └┬────────────┤├────────────┤┌───┐»\n",
      "«q_1: ┤ Rz(-1.3764) ├┤ X ├───────■────────┤ Ry(1.8988) ├┤ Rz(1.7106) ├┤ X ├»\n",
      "«     └─────────────┘└─┬─┘┌─────────────┐ ├────────────┤└────────────┘└─┬─┘»\n",
      "«q_2: ─────────────────■──┤ Ry(-2.2561) ├─┤ Rz(3.0592) ├────────────────■──»\n",
      "«                         └─────────────┘ └────────────┘                   »\n",
      "«     ┌───┐\n",
      "«q_0: ┤ X ├\n",
      "«     └─┬─┘\n",
      "«q_1: ──■──\n",
      "«          \n",
      "«q_2: ─────\n",
      "«          \n"
     ]
    }
   ],
   "source": [
    "n = 3\n",
    "d = 2**n\n",
    "\n",
    "np.random.seed(42)\n",
    "random.seed(42)\n",
    "\n",
    "circuit_target = variational_circuit(n, 12, 9, 12).reverse_bits()\n",
    "\n",
    "N = 1000-6**n\n",
    "input_map_list, circuit_list = generate_pauli_circuits(n, circuit_target, N)\n",
    "\n",
    "inputs_spam, circuit_spam = generate_pauliInput_circuits(n)\n",
    "\n",
    "circuit_list.extend(circuit_spam)\n",
    "print(circuit_target)"
   ]
  },
  {
   "cell_type": "code",
   "execution_count": 17,
   "metadata": {},
   "outputs": [
    {
     "data": {
      "application/vnd.jupyter.widget-view+json": {
       "model_id": "71417a67c34846fa94083a544602a6f0",
       "version_major": 2,
       "version_minor": 0
      },
      "text/plain": [
       "  0%|          | 0/2 [00:00<?, ?it/s]"
      ]
     },
     "metadata": {},
     "output_type": "display_data"
    },
    {
     "data": {
      "application/vnd.jupyter.widget-view+json": {
       "model_id": "d513abb461d74b859168256869d5c707",
       "version_major": 2,
       "version_minor": 0
      },
      "text/plain": [
       "  0%|          | 0/5 [00:00<?, ?it/s]"
      ]
     },
     "metadata": {},
     "output_type": "display_data"
    },
    {
     "data": {
      "application/vnd.jupyter.widget-view+json": {
       "model_id": "c29fbef3a92141179b7857615effbb93",
       "version_major": 2,
       "version_minor": 0
      },
      "text/plain": [
       "  0%|          | 0/5 [00:00<?, ?it/s]"
      ]
     },
     "metadata": {},
     "output_type": "display_data"
    }
   ],
   "source": [
    "counts_list = execute_and_collect(circuit_list, backend, 'threeQubits_variational_3_4')\n",
    "data = [input_map_list, inputs_spam, counts_list]\n",
    "pickle.dump(data, open(\"../../data/threeQubits_variational_3_4.p\", \"wb\"))"
   ]
  },
  {
   "cell_type": "code",
   "execution_count": 5,
   "metadata": {},
   "outputs": [
    {
     "name": "stdout",
     "output_type": "stream",
     "text": [
      "     ┌─────────────┐ ┌────────────┐         ┌───┐     ┌─────────────┐»\n",
      "q_0: ┤ Ry(-2.3035) ├─┤ Rz(2.2565) ├─────────┤ X ├─────┤ Ry(-2.9593) ├»\n",
      "     ├─────────────┤┌┴────────────┤┌───┐    └─┬─┘     ├─────────────┤»\n",
      "q_1: ┤ Ry(0.68529) ├┤ Rz(-1.0861) ├┤ X ├──────■───────┤ Ry(0.25863) ├»\n",
      "     ├─────────────┤├─────────────┤└─┬─┘┌────────────┐└┬────────────┤»\n",
      "q_2: ┤ Ry(-2.4187) ├┤ Rz(-1.6299) ├──■──┤ Ry(1.0436) ├─┤ Rz(1.4687) ├»\n",
      "     └─────────────┘└─────────────┘     └────────────┘ └────────────┘»\n",
      "«      ┌────────────┐          ┌───┐      ┌────────────┐┌─────────────┐      »\n",
      "«q_0: ─┤ Rz(1.8978) ├──────────┤ X ├──────┤ Ry(2.3037) ├┤ Rz(-1.1555) ├──────»\n",
      "«     ┌┴────────────┴┐┌───┐    └─┬─┘     ┌┴────────────┤├─────────────┴┐┌───┐»\n",
      "«q_1: ┤ Rz(-0.66005) ├┤ X ├──────■───────┤ Ry(-2.7842) ├┤ Rz(-0.59697) ├┤ X ├»\n",
      "«     └──────────────┘└─┬─┘┌────────────┐├─────────────┤└──────────────┘└─┬─┘»\n",
      "«q_2: ──────────────────■──┤ Ry(-1.543) ├┤ Rz(-1.7528) ├──────────────────■──»\n",
      "«                          └────────────┘└─────────────┘                     »\n",
      "«          ┌───┐     ┌────────────┐ ┌────────────┐          ┌───┐      »\n",
      "«q_0: ─────┤ X ├─────┤ Ry(2.1924) ├─┤ Rz(2.8556) ├──────────┤ X ├──────»\n",
      "«          └─┬─┘     ├────────────┤┌┴────────────┤┌───┐     └─┬─┘      »\n",
      "«q_1: ───────■───────┤ Ry(2.1565) ├┤ Rz(-0.7202) ├┤ X ├───────■────────»\n",
      "«     ┌─────────────┐├────────────┤└─────────────┘└─┬─┘┌──────────────┐»\n",
      "«q_2: ┤ Ry(-2.6599) ├┤ Rz(2.9623) ├─────────────────■──┤ Ry(-0.34081) ├»\n",
      "«     └─────────────┘└────────────┘                    └──────────────┘»\n",
      "«     ┌─────────────┐┌─────────────┐          ┌───┐     ┌──────────────┐»\n",
      "«q_0: ┤ Ry(-2.6232) ├┤ Rz(-1.4935) ├──────────┤ X ├─────┤ Ry(-0.15333) ├»\n",
      "«     └┬────────────┤├─────────────┤┌───┐     └─┬─┘     ├─────────────┬┘»\n",
      "«q_1: ─┤ Ry(1.0664) ├┤ Rz(-1.2692) ├┤ X ├───────■───────┤ Ry(0.27145) ├─»\n",
      "«      ├───────────┬┘└─────────────┘└─┬─┘┌─────────────┐├─────────────┤ »\n",
      "«q_2: ─┤ Rz(2.495) ├──────────────────■──┤ Ry(-3.1094) ├┤ Rz(0.85686) ├─»\n",
      "«      └───────────┘                     └─────────────┘└─────────────┘ »\n",
      "«     ┌────────────┐         ┌───┐      ┌────────────┐┌──────────────┐     »\n",
      "«q_0: ┤ Rz(2.5677) ├─────────┤ X ├──────┤ Ry(-2.488) ├┤ Rz(-0.55322) ├─────»\n",
      "«     ├────────────┤┌───┐    └─┬─┘     ┌┴────────────┤└┬────────────┬┘┌───┐»\n",
      "«q_1: ┤ Rz(3.0046) ├┤ X ├──────■───────┤ Ry(0.15869) ├─┤ Rz(2.8465) ├─┤ X ├»\n",
      "«     └────────────┘└─┬─┘┌────────────┐├─────────────┤ └────────────┘ └─┬─┘»\n",
      "«q_2: ────────────────■──┤ Ry(2.5771) ├┤ Rz(-2.0049) ├──────────────────■──»\n",
      "«                        └────────────┘└─────────────┘                     »\n",
      "«         ┌───┐     ┌─────────────┐┌─────────────┐          ┌───┐      »\n",
      "«q_0: ────┤ X ├─────┤ Ry(0.80919) ├┤ Rz(-1.8417) ├──────────┤ X ├──────»\n",
      "«         └─┬─┘     └┬────────────┤└┬────────────┤┌───┐     └─┬─┘      »\n",
      "«q_1: ──────■────────┤ Ry(1.0818) ├─┤ Rz(2.4928) ├┤ X ├───────■────────»\n",
      "«     ┌────────────┐┌┴────────────┤ └────────────┘└─┬─┘┌──────────────┐»\n",
      "«q_2: ┤ Ry(2.2935) ├┤ Rz(-1.4102) ├─────────────────■──┤ Ry(-0.60064) ├»\n",
      "«     └────────────┘└─────────────┘                    └──────────────┘»\n",
      "«      ┌────────────┐ ┌─────────────┐     ┌───┐\n",
      "«q_0: ─┤ Ry(1.4811) ├─┤ Rz(-0.5576) ├─────┤ X ├\n",
      "«      ├────────────┤ ├─────────────┤┌───┐└─┬─┘\n",
      "«q_1: ─┤ Ry(3.1012) ├─┤ Rz(0.38116) ├┤ X ├──■──\n",
      "«     ┌┴────────────┴┐└─────────────┘└─┬─┘     \n",
      "«q_2: ┤ Rz(-0.34519) ├─────────────────■───────\n",
      "«     └──────────────┘                         \n"
     ]
    }
   ],
   "source": [
    "n = 3\n",
    "d = 2**n\n",
    "\n",
    "np.random.seed(43)\n",
    "random.seed(43)\n",
    "\n",
    "circuit_target = variational_circuit(n, 9, 0, 9).reverse_bits()\n",
    "\n",
    "N = 1000-6**n\n",
    "input_map_list, circuit_list = generate_pauli_circuits(n, circuit_target, N)\n",
    "\n",
    "inputs_spam, circuit_spam = generate_pauliInput_circuits(n)\n",
    "\n",
    "circuit_list.extend(circuit_spam)\n",
    "print(circuit_target)"
   ]
  },
  {
   "cell_type": "code",
   "execution_count": 6,
   "metadata": {},
   "outputs": [
    {
     "data": {
      "application/vnd.jupyter.widget-view+json": {
       "model_id": "f5fc5362ed924008bf2ca83479e4dd25",
       "version_major": 2,
       "version_minor": 0
      },
      "text/plain": [
       "  0%|          | 0/2 [00:00<?, ?it/s]"
      ]
     },
     "metadata": {},
     "output_type": "display_data"
    },
    {
     "data": {
      "application/vnd.jupyter.widget-view+json": {
       "model_id": "62e1122bc9ab4046ba5da993a23bbc98",
       "version_major": 2,
       "version_minor": 0
      },
      "text/plain": [
       "  0%|          | 0/5 [00:00<?, ?it/s]"
      ]
     },
     "metadata": {},
     "output_type": "display_data"
    },
    {
     "data": {
      "application/vnd.jupyter.widget-view+json": {
       "model_id": "fbee96531c8b4727a4e6f110001e0b64",
       "version_major": 2,
       "version_minor": 0
      },
      "text/plain": [
       "  0%|          | 0/5 [00:00<?, ?it/s]"
      ]
     },
     "metadata": {},
     "output_type": "display_data"
    }
   ],
   "source": [
    "counts_list = execute_and_collect(circuit_list, backend, 'threeQubits_variational_9_2')\n",
    "data = [input_map_list, inputs_spam, counts_list]\n",
    "pickle.dump(data, open(\"../../data/threeQubits_variational_9_2.p\", \"wb\"))"
   ]
  },
  {
   "cell_type": "code",
   "execution_count": 7,
   "metadata": {},
   "outputs": [
    {
     "name": "stdout",
     "output_type": "stream",
     "text": [
      "      ┌────────────┐┌─────────────┐           ┌───┐     ┌──────────────┐»\n",
      "q_0: ─┤ Ry(1.5371) ├┤ Rz(0.68636) ├───────────┤ X ├─────┤ Ry(0.062219) ├»\n",
      "     ┌┴────────────┤├─────────────┴┐┌───┐     └─┬─┘     ├──────────────┤»\n",
      "q_1: ┤ Ry(-2.4831) ├┤ Rz(-0.88398) ├┤ X ├───────■───────┤ Ry(-0.57131) ├»\n",
      "     └┬────────────┤├─────────────┬┘└─┬─┘┌─────────────┐└┬────────────┬┘»\n",
      "q_2: ─┤ Ry(2.1039) ├┤ Rz(-0.8765) ├───■──┤ Ry(-0.6674) ├─┤ Rz(1.3204) ├─»\n",
      "      └────────────┘└─────────────┘      └─────────────┘ └────────────┘ »\n",
      "«     ┌──────────────┐          ┌───┐      ┌─────────────┐┌────────────┐     »\n",
      "«q_0: ┤ Rz(-0.27256) ├──────────┤ X ├──────┤ Ry(-1.7725) ├┤ Rz(2.3991) ├─────»\n",
      "«     └┬────────────┬┘┌───┐     └─┬─┘      ├─────────────┤├────────────┤┌───┐»\n",
      "«q_1: ─┤ Rz(2.8936) ├─┤ X ├───────■────────┤ Ry(-2.4287) ├┤ Rz(2.7857) ├┤ X ├»\n",
      "«      └────────────┘ └─┬─┘┌──────────────┐└┬────────────┤└────────────┘└─┬─┘»\n",
      "«q_2: ──────────────────■──┤ Ry(-0.45458) ├─┤ Rz(2.8744) ├────────────────■──»\n",
      "«                          └──────────────┘ └────────────┘                   »\n",
      "«          ┌───┐     ┌─────────────┐ ┌────────────┐           ┌───┐     »\n",
      "«q_0: ─────┤ X ├─────┤ Ry(0.85974) ├─┤ Rz(2.3491) ├───────────┤ X ├─────»\n",
      "«          └─┬─┘     ├─────────────┤┌┴────────────┴┐┌───┐     └─┬─┘     »\n",
      "«q_1: ───────■───────┤ Ry(-1.7981) ├┤ Rz(-0.25947) ├┤ X ├───────■───────»\n",
      "«     ┌─────────────┐├─────────────┤└──────────────┘└─┬─┘┌─────────────┐»\n",
      "«q_2: ┤ Ry(0.91992) ├┤ Rz(-2.2673) ├──────────────────■──┤ Ry(-1.5177) ├»\n",
      "«     └─────────────┘└─────────────┘                     └─────────────┘»\n",
      "«      ┌────────────┐┌─────────────┐          ┌───┐     ┌─────────────┐ »\n",
      "«q_0: ─┤ Ry(2.2788) ├┤ Rz(-2.1416) ├──────────┤ X ├─────┤ Ry(-1.8665) ├─»\n",
      "«      ├────────────┤├─────────────┤┌───┐     └─┬─┘     └┬────────────┤ »\n",
      "«q_1: ─┤ Ry(1.0358) ├┤ Rz(0.39553) ├┤ X ├───────■────────┤ Ry(-2.488) ├─»\n",
      "«     ┌┴────────────┤└─────────────┘└─┬─┘┌─────────────┐┌┴────────────┴┐»\n",
      "«q_2: ┤ Rz(-2.2064) ├─────────────────■──┤ Ry(-2.0553) ├┤ Rz(-0.28155) ├»\n",
      "«     └─────────────┘                    └─────────────┘└──────────────┘»\n",
      "«     ┌────────────┐         ┌───┐     ┌──────────────┐┌────────────┐     »\n",
      "«q_0: ┤ Rz(3.0839) ├─────────┤ X ├─────┤ Ry(0.098881) ├┤ Rz(-2.686) ├─────»\n",
      "«     ├────────────┤┌───┐    └─┬─┘     ├──────────────┤├────────────┤┌───┐»\n",
      "«q_1: ┤ Rz(1.8509) ├┤ X ├──────■───────┤ Ry(-0.77022) ├┤ Rz(1.3264) ├┤ X ├»\n",
      "«     └────────────┘└─┬─┘┌────────────┐├─────────────┬┘└────────────┘└─┬─┘»\n",
      "«q_2: ────────────────■──┤ Ry(1.9165) ├┤ Rz(-2.7715) ├─────────────────■──»\n",
      "«                        └────────────┘└─────────────┘                    »\n",
      "«         ┌───┐    ┌────────────┐┌────────────┐         ┌───┐     »\n",
      "«q_0: ────┤ X ├────┤ Ry(2.0946) ├┤ Rz(2.7024) ├─────────┤ X ├─────»\n",
      "«         └─┬─┘    ├────────────┤├────────────┤┌───┐    └─┬─┘     »\n",
      "«q_1: ──────■──────┤ Ry(1.4204) ├┤ Rz(1.2405) ├┤ X ├──────■───────»\n",
      "«     ┌───────────┐├────────────┤└────────────┘└─┬─┘┌────────────┐»\n",
      "«q_2: ┤ Ry(2.404) ├┤ Rz(1.3209) ├────────────────■──┤ Ry(2.3981) ├»\n",
      "«     └───────────┘└────────────┘                   └────────────┘»\n",
      "«     ┌──────────────┐┌─────────────┐     ┌───┐\n",
      "«q_0: ┤ Ry(-0.27334) ├┤ Rz(-2.1757) ├─────┤ X ├\n",
      "«     ├─────────────┬┘├─────────────┤┌───┐└─┬─┘\n",
      "«q_1: ┤ Ry(-2.5449) ├─┤ Rz(-2.4569) ├┤ X ├──■──\n",
      "«     ├─────────────┴┐└─────────────┘└─┬─┘     \n",
      "«q_2: ┤ Rz(-0.04572) ├─────────────────■───────\n",
      "«     └──────────────┘                         \n"
     ]
    }
   ],
   "source": [
    "n = 3\n",
    "d = 2**n\n",
    "\n",
    "np.random.seed(44)\n",
    "random.seed(44)\n",
    "\n",
    "circuit_target = variational_circuit(n, 9, 0, 9).reverse_bits()\n",
    "\n",
    "N = 1000-6**n\n",
    "input_map_list, circuit_list = generate_pauli_circuits(n, circuit_target, N)\n",
    "\n",
    "inputs_spam, circuit_spam = generate_pauliInput_circuits(n)\n",
    "\n",
    "circuit_list.extend(circuit_spam)\n",
    "print(circuit_target)"
   ]
  },
  {
   "cell_type": "code",
   "execution_count": null,
   "metadata": {},
   "outputs": [
    {
     "data": {
      "application/vnd.jupyter.widget-view+json": {
       "model_id": "668442569a9b4bf8af44ff3478884f50",
       "version_major": 2,
       "version_minor": 0
      },
      "text/plain": [
       "  0%|          | 0/2 [00:00<?, ?it/s]"
      ]
     },
     "metadata": {},
     "output_type": "display_data"
    },
    {
     "data": {
      "application/vnd.jupyter.widget-view+json": {
       "model_id": "1f265b797e3d42be96fb38b894f86af6",
       "version_major": 2,
       "version_minor": 0
      },
      "text/plain": [
       "  0%|          | 0/5 [00:00<?, ?it/s]"
      ]
     },
     "metadata": {},
     "output_type": "display_data"
    }
   ],
   "source": [
    "counts_list = execute_and_collect(circuit_list, backend, 'threeQubits_variational_9_3')\n",
    "data = [input_map_list, inputs_spam, counts_list]\n",
    "pickle.dump(data, open(\"../../data/threeQubits_variational_9_3.p\", \"wb\"))"
   ]
  },
  {
   "cell_type": "code",
   "execution_count": 6,
   "metadata": {},
   "outputs": [
    {
     "name": "stdout",
     "output_type": "stream",
     "text": [
      "     ┌─────────────┐┌──────────────┐          ┌───┐     ┌─────────────┐»\n",
      "q_0: ┤ Ry(-1.3732) ├┤ Rz(-0.17085) ├──────────┤ X ├─────┤ Ry(-2.4131) ├»\n",
      "     └┬────────────┤├──────────────┤┌───┐     └─┬─┘     ├─────────────┤»\n",
      "q_1: ─┤ Ry(0.3113) ├┤ Rz(-0.34891) ├┤ X ├───────■───────┤ Ry(-2.1154) ├»\n",
      "      ├────────────┤└┬────────────┬┘└─┬─┘┌─────────────┐├─────────────┤»\n",
      "q_2: ─┤ Ry(3.0725) ├─┤ Rz(-2.656) ├───■──┤ Ry(-2.8367) ├┤ Rz(0.80043) ├»\n",
      "      └────────────┘ └────────────┘      └─────────────┘└─────────────┘»\n",
      "«     ┌─────────────┐         ┌───┐     ┌─────────────┐ ┌────────────┐     »\n",
      "«q_0: ┤ Rz(0.94312) ├─────────┤ X ├─────┤ Ry(0.74327) ├─┤ Rz(1.0874) ├─────»\n",
      "«     └┬───────────┬┘┌───┐    └─┬─┘     ├─────────────┴┐├────────────┤┌───┐»\n",
      "«q_1: ─┤ Rz(2.238) ├─┤ X ├──────■───────┤ Ry(-0.18629) ├┤ Rz(2.9908) ├┤ X ├»\n",
      "«      └───────────┘ └─┬─┘┌────────────┐├─────────────┬┘└────────────┘└─┬─┘»\n",
      "«q_2: ─────────────────■──┤ Ry(3.0833) ├┤ Rz(-1.3655) ├─────────────────■──»\n",
      "«                         └────────────┘└─────────────┘                    »\n",
      "«          ┌───┐      ┌──────────────┐┌──────────────┐          ┌───┐     »\n",
      "«q_0: ─────┤ X ├──────┤ Ry(0.060945) ├┤ Rz(-0.13476) ├──────────┤ X ├─────»\n",
      "«          └─┬─┘      ├─────────────┬┘├─────────────┬┘┌───┐     └─┬─┘     »\n",
      "«q_1: ───────■────────┤ Ry(-1.3214) ├─┤ Rz(-1.7156) ├─┤ X ├───────■───────»\n",
      "«     ┌──────────────┐└┬────────────┤ └─────────────┘ └─┬─┘┌─────────────┐»\n",
      "«q_2: ┤ Ry(-0.37366) ├─┤ Rz(-2.435) ├───────────────────■──┤ Ry(-1.6163) ├»\n",
      "«     └──────────────┘ └────────────┘                      └─────────────┘»\n",
      "«      ┌────────────┐ ┌─────────────┐         ┌───┐     ┌─────────────┐ »\n",
      "«q_0: ─┤ Ry(2.0035) ├─┤ Rz(-1.7285) ├─────────┤ X ├─────┤ Ry(0.63463) ├─»\n",
      "«     ┌┴────────────┴┐└┬────────────┤┌───┐    └─┬─┘     ├─────────────┤ »\n",
      "«q_1: ┤ Ry(-0.70383) ├─┤ Rz(2.6587) ├┤ X ├──────■───────┤ Ry(-2.4469) ├─»\n",
      "«     ├─────────────┬┘ └────────────┘└─┬─┘┌────────────┐├─────────────┴┐»\n",
      "«q_2: ┤ Rz(-2.6732) ├──────────────────■──┤ Ry(1.2967) ├┤ Rz(-0.58564) ├»\n",
      "«     └─────────────┘                     └────────────┘└──────────────┘»\n",
      "«     ┌─────────────┐          ┌───┐      ┌─────────────┐┌─────────────┐     »\n",
      "«q_0: ┤ Rz(-1.5706) ├──────────┤ X ├──────┤ Ry(-1.5585) ├┤ Rz(-1.1933) ├─────»\n",
      "«     └┬────────────┤┌───┐     └─┬─┘      ├─────────────┤└┬───────────┬┘┌───┐»\n",
      "«q_1: ─┤ Rz(2.1164) ├┤ X ├───────■────────┤ Ry(0.36086) ├─┤ Rz(1.424) ├─┤ X ├»\n",
      "«      └────────────┘└─┬─┘┌──────────────┐├─────────────┤ └───────────┘ └─┬─┘»\n",
      "«q_2: ─────────────────■──┤ Ry(-0.26554) ├┤ Rz(-2.4489) ├─────────────────■──»\n",
      "«                         └──────────────┘└─────────────┘                    »\n",
      "«         ┌───┐     ┌─────────────┐ ┌─────────────┐         ┌───┐    »\n",
      "«q_0: ────┤ X ├─────┤ Ry(-2.5501) ├─┤ Rz(-2.3755) ├─────────┤ X ├────»\n",
      "«         └─┬─┘     ├─────────────┴┐└┬───────────┬┘┌───┐    └─┬─┘    »\n",
      "«q_1: ──────■───────┤ Ry(-0.30369) ├─┤ Rz(1.519) ├─┤ X ├──────■──────»\n",
      "«     ┌────────────┐└┬────────────┬┘ └───────────┘ └─┬─┘┌───────────┐»\n",
      "«q_2: ┤ Ry(2.0468) ├─┤ Rz(2.4329) ├──────────────────■──┤ Ry(2.236) ├»\n",
      "«     └────────────┘ └────────────┘                     └───────────┘»\n",
      "«     ┌─────────────┐┌────────────┐     ┌───┐\n",
      "«q_0: ┤ Ry(-1.9858) ├┤ Rz(1.0451) ├─────┤ X ├\n",
      "«     └┬────────────┤├────────────┤┌───┐└─┬─┘\n",
      "«q_1: ─┤ Ry(-2.721) ├┤ Rz(2.6533) ├┤ X ├──■──\n",
      "«     ┌┴────────────┤└────────────┘└─┬─┘     \n",
      "«q_2: ┤ Rz(-2.0598) ├────────────────■───────\n",
      "«     └─────────────┘                        \n"
     ]
    }
   ],
   "source": [
    "n = 3\n",
    "d = 2**n\n",
    "\n",
    "np.random.seed(45)\n",
    "random.seed(45)\n",
    "\n",
    "circuit_target = variational_circuit(n, 9, 0, 9).reverse_bits()\n",
    "\n",
    "N = 1000-6**n\n",
    "input_map_list, circuit_list = generate_pauli_circuits(n, circuit_target, N)\n",
    "\n",
    "inputs_spam, circuit_spam = generate_pauliInput_circuits(n)\n",
    "\n",
    "circuit_list.extend(circuit_spam)\n",
    "print(circuit_target)"
   ]
  },
  {
   "cell_type": "code",
   "execution_count": 7,
   "metadata": {},
   "outputs": [
    {
     "data": {
      "application/vnd.jupyter.widget-view+json": {
       "model_id": "f175472732dc4247bb1c735f22ded750",
       "version_major": 2,
       "version_minor": 0
      },
      "text/plain": [
       "  0%|          | 0/2 [00:00<?, ?it/s]"
      ]
     },
     "metadata": {},
     "output_type": "display_data"
    },
    {
     "data": {
      "application/vnd.jupyter.widget-view+json": {
       "model_id": "38c2bdb67eaa4a97b1be4224353b12e6",
       "version_major": 2,
       "version_minor": 0
      },
      "text/plain": [
       "  0%|          | 0/5 [00:00<?, ?it/s]"
      ]
     },
     "metadata": {},
     "output_type": "display_data"
    },
    {
     "data": {
      "application/vnd.jupyter.widget-view+json": {
       "model_id": "4b6fb5d813f042a9bb52332452a63344",
       "version_major": 2,
       "version_minor": 0
      },
      "text/plain": [
       "  0%|          | 0/5 [00:00<?, ?it/s]"
      ]
     },
     "metadata": {},
     "output_type": "display_data"
    }
   ],
   "source": [
    "counts_list = execute_and_collect(circuit_list, backend, 'threeQubits_variational_9_4')\n",
    "data = [input_map_list, inputs_spam, counts_list]\n",
    "pickle.dump(data, open(\"../../data/threeQubits_variational_9_4.p\", \"wb\"))"
   ]
  },
  {
   "cell_type": "code",
   "execution_count": 9,
   "metadata": {},
   "outputs": [
    {
     "name": "stdout",
     "output_type": "stream",
     "text": [
      "     ┌─────────────┐ ┌────────────┐          ┌───┐      ┌────────────┐ »\n",
      "q_0: ┤ Ry(-1.5768) ├─┤ Rz(2.7472) ├──────────┤ X ├──────┤ Ry(2.5932) ├─»\n",
      "     ├─────────────┤┌┴────────────┤┌───┐     └─┬─┘     ┌┴────────────┴┐»\n",
      "q_1: ┤ Ry(0.84719) ├┤ Rz(-1.1745) ├┤ X ├───────■───────┤ Ry(-0.37154) ├»\n",
      "     └┬────────────┤└┬────────────┤└─┬─┘┌─────────────┐├──────────────┤»\n",
      "q_2: ─┤ Ry(1.7834) ├─┤ Rz(1.6215) ├──■──┤ Ry(-2.8723) ├┤ Rz(-0.28272) ├»\n",
      "      └────────────┘ └────────────┘     └─────────────┘└──────────────┘»\n",
      "«     ┌─────────────┐           ┌───┐       ┌────────────┐ ┌────────────┐     »\n",
      "«q_0: ┤ Rz(-2.6081) ├───────────┤ X ├───────┤ Ry(2.3064) ├─┤ Rz(1.8982) ├─────»\n",
      "«     ├─────────────┴┐┌───┐     └─┬─┘       ├────────────┤┌┴────────────┤┌───┐»\n",
      "«q_1: ┤ Rz(0.049853) ├┤ X ├───────■─────────┤ Ry(1.5439) ├┤ Rz(-2.4877) ├┤ X ├»\n",
      "«     └──────────────┘└─┬─┘┌──────────────┐┌┴────────────┤└─────────────┘└─┬─┘»\n",
      "«q_2: ──────────────────■──┤ Ry(-0.46276) ├┤ Rz(-1.1079) ├─────────────────■──»\n",
      "«                          └──────────────┘└─────────────┘                    »\n",
      "«          ┌───┐      ┌─────────────┐┌──────────────┐          ┌───┐     »\n",
      "«q_0: ─────┤ X ├──────┤ Ry(-2.9155) ├┤ Rz(-0.80292) ├──────────┤ X ├─────»\n",
      "«          └─┬─┘      ├─────────────┤├─────────────┬┘┌───┐     └─┬─┘     »\n",
      "«q_1: ───────■────────┤ Ry(0.80279) ├┤ Rz(-2.8422) ├─┤ X ├───────■───────»\n",
      "«     ┌──────────────┐├─────────────┤└─────────────┘ └─┬─┘┌─────────────┐»\n",
      "«q_2: ┤ Ry(-0.66079) ├┤ Rz(-1.2572) ├──────────────────■──┤ Ry(-1.4928) ├»\n",
      "«     └──────────────┘└─────────────┘                     └─────────────┘»\n",
      "«     ┌──────────────┐┌───────────────┐         ┌───┐     ┌─────────────┐»\n",
      "«q_0: ┤ Ry(-0.65882) ├┤ Rz(-0.037542) ├─────────┤ X ├─────┤ Ry(-1.6654) ├»\n",
      "«     └┬────────────┬┘└┬─────────────┬┘┌───┐    └─┬─┘     ├─────────────┤»\n",
      "«q_1: ─┤ Ry(3.0821) ├──┤ Rz(-1.7524) ├─┤ X ├──────■───────┤ Ry(-1.3214) ├»\n",
      "«     ┌┴────────────┤  └─────────────┘ └─┬─┘┌────────────┐└┬────────────┤»\n",
      "«q_2: ┤ Rz(-1.2093) ├────────────────────■──┤ Ry(-2.778) ├─┤ Rz(2.9118) ├»\n",
      "«     └─────────────┘                       └────────────┘ └────────────┘»\n",
      "«     ┌────────────┐          ┌───┐      ┌────────────┐ ┌────────────┐     »\n",
      "«q_0: ┤ Rz(2.2782) ├──────────┤ X ├──────┤ Ry(1.0843) ├─┤ Rz(2.5618) ├─────»\n",
      "«     ├────────────┤┌───┐     └─┬─┘     ┌┴────────────┤┌┴────────────┤┌───┐»\n",
      "«q_1: ┤ Rz(0.7268) ├┤ X ├───────■───────┤ Ry(-2.2055) ├┤ Rz(-2.9957) ├┤ X ├»\n",
      "«     └────────────┘└─┬─┘┌─────────────┐└┬────────────┤└─────────────┘└─┬─┘»\n",
      "«q_2: ────────────────■──┤ Ry(-2.5756) ├─┤ Rz(3.0096) ├─────────────────■──»\n",
      "«                        └─────────────┘ └────────────┘                    »\n",
      "«          ┌───┐     ┌─────────────┐┌─────────────┐          ┌───┐     »\n",
      "«q_0: ─────┤ X ├─────┤ Ry(-2.7357) ├┤ Rz(-1.9156) ├──────────┤ X ├─────»\n",
      "«          └─┬─┘     └┬────────────┤├─────────────┤┌───┐     └─┬─┘     »\n",
      "«q_1: ───────■────────┤ Ry(1.6064) ├┤ Rz(-2.0759) ├┤ X ├───────■───────»\n",
      "«     ┌─────────────┐┌┴────────────┤└─────────────┘└─┬─┘┌─────────────┐»\n",
      "«q_2: ┤ Ry(-2.7768) ├┤ Rz(-1.5348) ├─────────────────■──┤ Ry(-2.4721) ├»\n",
      "«     └─────────────┘└─────────────┘                    └─────────────┘»\n",
      "«     ┌─────────────┐┌─────────────┐     ┌───┐\n",
      "«q_0: ┤ Ry(-3.1023) ├┤ Rz(-2.4684) ├─────┤ X ├\n",
      "«     ├─────────────┤└┬───────────┬┘┌───┐└─┬─┘\n",
      "«q_1: ┤ Ry(0.13062) ├─┤ Rz(-2.27) ├─┤ X ├──■──\n",
      "«     └┬────────────┤ └───────────┘ └─┬─┘     \n",
      "«q_2: ─┤ Rz(1.8259) ├─────────────────■───────\n",
      "«      └────────────┘                         \n"
     ]
    }
   ],
   "source": [
    "n = 3\n",
    "d = 2**n\n",
    "\n",
    "np.random.seed(46)\n",
    "random.seed(46)\n",
    "\n",
    "circuit_target = variational_circuit(n, 9, 0, 9).reverse_bits()\n",
    "\n",
    "N = 1000-6**n\n",
    "input_map_list, circuit_list = generate_pauli_circuits(n, circuit_target, N)\n",
    "\n",
    "inputs_spam, circuit_spam = generate_pauliInput_circuits(n)\n",
    "\n",
    "circuit_list.extend(circuit_spam)\n",
    "print(circuit_target)"
   ]
  },
  {
   "cell_type": "code",
   "execution_count": 10,
   "metadata": {},
   "outputs": [
    {
     "data": {
      "application/vnd.jupyter.widget-view+json": {
       "model_id": "df320cb688f84aba8b750066f94b5411",
       "version_major": 2,
       "version_minor": 0
      },
      "text/plain": [
       "  0%|          | 0/2 [00:00<?, ?it/s]"
      ]
     },
     "metadata": {},
     "output_type": "display_data"
    },
    {
     "data": {
      "application/vnd.jupyter.widget-view+json": {
       "model_id": "68fffc8429f94e89b58fa48635a211bc",
       "version_major": 2,
       "version_minor": 0
      },
      "text/plain": [
       "  0%|          | 0/5 [00:00<?, ?it/s]"
      ]
     },
     "metadata": {},
     "output_type": "display_data"
    },
    {
     "data": {
      "application/vnd.jupyter.widget-view+json": {
       "model_id": "7f5c7b3ea89f4352b9ebde4d0770ad37",
       "version_major": 2,
       "version_minor": 0
      },
      "text/plain": [
       "  0%|          | 0/5 [00:00<?, ?it/s]"
      ]
     },
     "metadata": {},
     "output_type": "display_data"
    }
   ],
   "source": [
    "counts_list = execute_and_collect(circuit_list, backend, 'threeQubits_variational_9_7', shots=2*1024)\n",
    "data = [input_map_list, inputs_spam, counts_list]\n",
    "pickle.dump(data, open(\"../../data/threeQubits_variational_9_7.p\", \"wb\"))"
   ]
  },
  {
   "cell_type": "markdown",
   "metadata": {},
   "source": [
    "## Greedy Sampling"
   ]
  },
  {
   "cell_type": "code",
   "execution_count": 5,
   "metadata": {},
   "outputs": [
    {
     "name": "stdout",
     "output_type": "stream",
     "text": [
      "      ┌────────────┐ ┌─────────────┐     ┌───┐     ┌─────────────┐»\n",
      "q_0: ─┤ Ry(1.4577) ├─┤ Rz(-2.1615) ├─────┤ X ├──■──┤ Ry(0.63532) ├»\n",
      "      ├────────────┤ ├─────────────┤┌───┐└─┬─┘  │  └┬────────────┤»\n",
      "q_1: ─┤ Ry(2.8319) ├─┤ Rz(-2.1613) ├┤ X ├──■────┼───┤ Ry(2.3008) ├»\n",
      "     ┌┴────────────┴┐├─────────────┤└─┬─┘     ┌─┴─┐┌┴────────────┤»\n",
      "q_2: ┤ Ry(-0.78829) ├┤ Rz(0.61989) ├──■───────┤ X ├┤ Ry(-2.7766) ├»\n",
      "     └──────────────┘└─────────────┘          └───┘└─────────────┘»\n",
      "«      ┌────────────┐     ┌───┐     ┌─────────────┐┌─────────────┐     ┌───┐»\n",
      "«q_0: ─┤ Rz(2.9525) ├─────┤ X ├──■──┤ Ry(-1.9992) ├┤ Rz(0.15555) ├─────┤ X ├»\n",
      "«     ┌┴────────────┤┌───┐└─┬─┘  │  ├─────────────┤└┬───────────┬┘┌───┐└─┬─┘»\n",
      "«q_1: ┤ Rz(-3.0123) ├┤ X ├──■────┼──┤ Ry(-1.8074) ├─┤ Rz(-1.23) ├─┤ X ├──■──»\n",
      "«     └┬────────────┤└─┬─┘     ┌─┴─┐└┬────────────┤┌┴───────────┴┐└─┬─┘     »\n",
      "«q_2: ─┤ Rz(1.3074) ├──■───────┤ X ├─┤ Ry(2.0888) ├┤ Rz(-1.9892) ├──■───────»\n",
      "«      └────────────┘          └───┘ └────────────┘└─────────────┘          »\n",
      "«          ┌─────────────┐┌──────────────┐     ┌───┐      ┌────────────┐ »\n",
      "«q_0: ──■──┤ Ry(0.70279) ├┤ Rz(-0.83967) ├─────┤ X ├──■───┤ Ry(-1.887) ├─»\n",
      "«       │  ├─────────────┤└┬────────────┬┘┌───┐└─┬─┘  │   ├────────────┤ »\n",
      "«q_1: ──┼──┤ Ry(-1.3117) ├─┤ Rz(-1.306) ├─┤ X ├──■────┼───┤ Ry(1.7918) ├─»\n",
      "«     ┌─┴─┐├─────────────┤┌┴────────────┤ └─┬─┘     ┌─┴─┐┌┴────────────┴┐»\n",
      "«q_2: ┤ X ├┤ Ry(-0.4276) ├┤ Rz(-2.2651) ├───■───────┤ X ├┤ Ry(-0.27602) ├»\n",
      "«     └───┘└─────────────┘└─────────────┘           └───┘└──────────────┘»\n",
      "«     ┌─────────────┐      ┌───┐     ┌─────────────┐┌────────────┐     ┌───┐»\n",
      "«q_0: ┤ Rz(-2.8497) ├──────┤ X ├──■──┤ Ry(-2.7329) ├┤ Rz(1.9377) ├─────┤ X ├»\n",
      "«     ├─────────────┤ ┌───┐└─┬─┘  │  ├─────────────┤├────────────┤┌───┐└─┬─┘»\n",
      "«q_1: ┤ Rz(0.58066) ├─┤ X ├──■────┼──┤ Ry(-2.0702) ├┤ Rz(2.9257) ├┤ X ├──■──»\n",
      "«     ├─────────────┴┐└─┬─┘     ┌─┴─┐├─────────────┤├────────────┤└─┬─┘     »\n",
      "«q_2: ┤ Rz(0.089438) ├──■───────┤ X ├┤ Ry(0.67572) ├┤ Rz(2.8204) ├──■───────»\n",
      "«     └──────────────┘          └───┘└─────────────┘└────────────┘          »\n",
      "«           ┌────────────┐┌───────────────┐     ┌───┐     ┌─────────────┐»\n",
      "«q_0: ──■───┤ Ry(1.1576) ├┤ Rz(-0.030304) ├─────┤ X ├──■──┤ Ry(-1.5156) ├»\n",
      "«       │  ┌┴────────────┤└┬─────────────┬┘┌───┐└─┬─┘  │  └┬────────────┤»\n",
      "«q_1: ──┼──┤ Ry(-2.5279) ├─┤ Rz(-2.3748) ├─┤ X ├──■────┼───┤ Ry(2.5718) ├»\n",
      "«     ┌─┴─┐├─────────────┤ ├─────────────┴┐└─┬─┘     ┌─┴─┐┌┴────────────┤»\n",
      "«q_2: ┤ X ├┤ Ry(-1.2276) ├─┤ Rz(-0.37603) ├──■───────┤ X ├┤ Ry(-2.9255) ├»\n",
      "«     └───┘└─────────────┘ └──────────────┘          └───┘└─────────────┘»\n",
      "«     ┌─────────────┐     ┌───┐      ┌────────────┐┌────────────┐     ┌───┐»\n",
      "«q_0: ┤ Rz(0.12609) ├─────┤ X ├──■───┤ Ry(2.9505) ├┤ Rz(2.4808) ├─────┤ X ├»\n",
      "«     ├─────────────┤┌───┐└─┬─┘  │  ┌┴────────────┤├────────────┤┌───┐└─┬─┘»\n",
      "«q_1: ┤ Rz(-1.1831) ├┤ X ├──■────┼──┤ Ry(-1.9801) ├┤ Rz(2.7615) ├┤ X ├──■──»\n",
      "«     └┬────────────┤└─┬─┘     ┌─┴─┐├─────────────┤├────────────┤└─┬─┘     »\n",
      "«q_2: ─┤ Rz(1.0212) ├──■───────┤ X ├┤ Ry(0.29349) ├┤ Rz(1.7287) ├──■───────»\n",
      "«      └────────────┘          └───┘└─────────────┘└────────────┘          »\n",
      "«          \n",
      "«q_0: ──■──\n",
      "«       │  \n",
      "«q_1: ──┼──\n",
      "«     ┌─┴─┐\n",
      "«q_2: ┤ X ├\n",
      "«     └───┘\n"
     ]
    }
   ],
   "source": [
    "n = 3\n",
    "d = 2**n\n",
    "\n",
    "np.random.seed(42)\n",
    "random.seed(42)\n",
    "\n",
    "circuit_target = variational_circuit(n, 9, 0, 9).reverse_bits()\n",
    "print(circuit_target)\n",
    "\n",
    "N = 1800\n",
    "input_map, circuit_list_map = generate_pauli_circuits(n, circuit_target, N)\n",
    "inputs_spam, circuit_list_spam = generate_pauliInput_circuits(n)"
   ]
  },
  {
   "cell_type": "code",
   "execution_count": 6,
   "metadata": {},
   "outputs": [
    {
     "data": {
      "application/vnd.jupyter.widget-view+json": {
       "model_id": "e3ccfbb2a4fd467fbe066c55706886e8",
       "version_major": 2,
       "version_minor": 0
      },
      "text/plain": [
       "  0%|          | 0/4 [00:00<?, ?it/s]"
      ]
     },
     "metadata": {},
     "output_type": "display_data"
    },
    {
     "data": {
      "application/vnd.jupyter.widget-view+json": {
       "model_id": "a3242b684eb64c1480bd6cb585fa0a86",
       "version_major": 2,
       "version_minor": 0
      },
      "text/plain": [
       "  0%|          | 0/5 [00:00<?, ?it/s]"
      ]
     },
     "metadata": {},
     "output_type": "display_data"
    },
    {
     "data": {
      "application/vnd.jupyter.widget-view+json": {
       "model_id": "5ca4ca393349455594863d205cec7892",
       "version_major": 2,
       "version_minor": 0
      },
      "text/plain": [
       "  0%|          | 0/5 [00:00<?, ?it/s]"
      ]
     },
     "metadata": {},
     "output_type": "display_data"
    },
    {
     "data": {
      "application/vnd.jupyter.widget-view+json": {
       "model_id": "16b7e0c22c22492a97bdea45c87963dc",
       "version_major": 2,
       "version_minor": 0
      },
      "text/plain": [
       "  0%|          | 0/5 [00:00<?, ?it/s]"
      ]
     },
     "metadata": {},
     "output_type": "display_data"
    },
    {
     "data": {
      "application/vnd.jupyter.widget-view+json": {
       "model_id": "06f893e68ee647f5b0a79ad8c4441769",
       "version_major": 2,
       "version_minor": 0
      },
      "text/plain": [
       "  0%|          | 0/3 [00:00<?, ?it/s]"
      ]
     },
     "metadata": {},
     "output_type": "display_data"
    },
    {
     "data": {
      "application/vnd.jupyter.widget-view+json": {
       "model_id": "a0ea19775d0744e393847c3638d4dd3a",
       "version_major": 2,
       "version_minor": 0
      },
      "text/plain": [
       "  0%|          | 0/1 [00:00<?, ?it/s]"
      ]
     },
     "metadata": {},
     "output_type": "display_data"
    },
    {
     "data": {
      "application/vnd.jupyter.widget-view+json": {
       "model_id": "7084c7ce56ca41669dabf7c37f38ea58",
       "version_major": 2,
       "version_minor": 0
      },
      "text/plain": [
       "  0%|          | 0/3 [00:00<?, ?it/s]"
      ]
     },
     "metadata": {},
     "output_type": "display_data"
    }
   ],
   "source": [
    "counts_map = execute_and_collect(circuit_list_map, backend, 'threeQubits_variational_greedy_map', shots = 1000)\n",
    "counts_spam = execute_and_collect(circuit_list_spam, backend, 'threeQubits_variational_greedy_spam', shots = 10000)\n",
    "data = [input_map, counts_map, inputs_spam, counts_spam]\n",
    "pickle.dump(data, open(\"../../data/threeQubits_variational_greedy.p\", \"wb\"))"
   ]
  },
  {
   "cell_type": "markdown",
   "metadata": {},
   "source": [
    "## Delay Circuit\n",
    "\n",
    "### No Delay"
   ]
  },
  {
   "cell_type": "code",
   "execution_count": 6,
   "metadata": {},
   "outputs": [
    {
     "name": "stdout",
     "output_type": "stream",
     "text": [
      "      ┌────────────┐ ┌─────────────┐          ┌───┐     ┌─────────────┐»\n",
      "q_0: ─┤ Ry(1.4577) ├─┤ Rz(-2.1615) ├──────────┤ X ├─────┤ Ry(0.63532) ├»\n",
      "      ├────────────┤ ├─────────────┤┌───┐     └─┬─┘     └┬────────────┤»\n",
      "q_1: ─┤ Ry(2.8319) ├─┤ Rz(-2.1613) ├┤ X ├───────■────────┤ Ry(2.3008) ├»\n",
      "     ┌┴────────────┴┐├─────────────┤└─┬─┘┌─────────────┐ ├────────────┤»\n",
      "q_2: ┤ Ry(-0.78829) ├┤ Rz(0.61989) ├──■──┤ Ry(-2.7766) ├─┤ Rz(1.3074) ├»\n",
      "     └──────────────┘└─────────────┘     └─────────────┘ └────────────┘»\n",
      "«      ┌────────────┐         ┌───┐     ┌─────────────┐┌─────────────┐     »\n",
      "«q_0: ─┤ Rz(2.9525) ├─────────┤ X ├─────┤ Ry(-1.9992) ├┤ Rz(0.15555) ├─────»\n",
      "«     ┌┴────────────┤┌───┐    └─┬─┘     ├─────────────┤└┬───────────┬┘┌───┐»\n",
      "«q_1: ┤ Rz(-3.0123) ├┤ X ├──────■───────┤ Ry(-1.8074) ├─┤ Rz(-1.23) ├─┤ X ├»\n",
      "«     └─────────────┘└─┬─┘┌────────────┐├─────────────┤ └───────────┘ └─┬─┘»\n",
      "«q_2: ─────────────────■──┤ Ry(2.0888) ├┤ Rz(-1.9892) ├─────────────────■──»\n",
      "«                         └────────────┘└─────────────┘                    »\n",
      "«          ┌───┐     ┌─────────────┐┌──────────────┐          ┌───┐      »\n",
      "«q_0: ─────┤ X ├─────┤ Ry(0.70279) ├┤ Rz(-0.83967) ├──────────┤ X ├──────»\n",
      "«          └─┬─┘     ├─────────────┤└┬────────────┬┘┌───┐     └─┬─┘      »\n",
      "«q_1: ───────■───────┤ Ry(-1.3117) ├─┤ Rz(-1.306) ├─┤ X ├───────■────────»\n",
      "«     ┌─────────────┐├─────────────┤ └────────────┘ └─┬─┘┌──────────────┐»\n",
      "«q_2: ┤ Ry(-0.4276) ├┤ Rz(-2.2651) ├──────────────────■──┤ Ry(-0.27602) ├»\n",
      "«     └─────────────┘└─────────────┘                     └──────────────┘»\n",
      "«      ┌────────────┐ ┌─────────────┐          ┌───┐     ┌─────────────┐»\n",
      "«q_0: ─┤ Ry(-1.887) ├─┤ Rz(-2.8497) ├──────────┤ X ├─────┤ Ry(-2.7329) ├»\n",
      "«      ├────────────┤ ├─────────────┤┌───┐     └─┬─┘     ├─────────────┤»\n",
      "«q_1: ─┤ Ry(1.7918) ├─┤ Rz(0.58066) ├┤ X ├───────■───────┤ Ry(-2.0702) ├»\n",
      "«     ┌┴────────────┴┐└─────────────┘└─┬─┘┌─────────────┐└┬────────────┤»\n",
      "«q_2: ┤ Rz(0.089438) ├─────────────────■──┤ Ry(0.67572) ├─┤ Rz(2.8204) ├»\n",
      "«     └──────────────┘                    └─────────────┘ └────────────┘»\n",
      "«     ┌────────────┐          ┌───┐      ┌────────────┐ ┌───────────────┐     »\n",
      "«q_0: ┤ Rz(1.9377) ├──────────┤ X ├──────┤ Ry(1.1576) ├─┤ Rz(-0.030304) ├─────»\n",
      "«     ├────────────┤┌───┐     └─┬─┘     ┌┴────────────┤ └┬─────────────┬┘┌───┐»\n",
      "«q_1: ┤ Rz(2.9257) ├┤ X ├───────■───────┤ Ry(-2.5279) ├──┤ Rz(-2.3748) ├─┤ X ├»\n",
      "«     └────────────┘└─┬─┘┌─────────────┐├─────────────┴┐ └─────────────┘ └─┬─┘»\n",
      "«q_2: ────────────────■──┤ Ry(-1.2276) ├┤ Rz(-0.37603) ├───────────────────■──»\n",
      "«                        └─────────────┘└──────────────┘                      »\n",
      "«          ┌───┐     ┌─────────────┐┌─────────────┐     ┌───┐\n",
      "«q_0: ─────┤ X ├─────┤ Ry(-1.5156) ├┤ Rz(0.12609) ├─────┤ X ├\n",
      "«          └─┬─┘     └┬────────────┤├─────────────┤┌───┐└─┬─┘\n",
      "«q_1: ───────■────────┤ Ry(2.5718) ├┤ Rz(-1.1831) ├┤ X ├──■──\n",
      "«     ┌─────────────┐ ├────────────┤└─────────────┘└─┬─┘     \n",
      "«q_2: ┤ Ry(-2.9255) ├─┤ Rz(1.0212) ├─────────────────■───────\n",
      "«     └─────────────┘ └────────────┘                         \n"
     ]
    }
   ],
   "source": [
    "n = 3\n",
    "d = 2**n\n",
    "\n",
    "np.random.seed(42)\n",
    "random.seed(42)\n",
    "\n",
    "circuit_target = pqc_basic(n, 8).reverse_bits()\n",
    "print(circuit_target)\n",
    "\n",
    "N = 2000 - 6**n\n",
    "inputs_map, circuit_list_map = generate_pauli_circuits(n, circuit_target, N)\n",
    "inputs_spam, circuit_list_spam = generate_pauliInput_circuits(n)\n",
    "\n",
    "circuit_list = circuit_list_map + circuit_list_spam"
   ]
  },
  {
   "cell_type": "code",
   "execution_count": null,
   "metadata": {},
   "outputs": [
    {
     "data": {
      "application/vnd.jupyter.widget-view+json": {
       "model_id": "60185cbbf1db4b14a6855efd430662cc",
       "version_major": 2,
       "version_minor": 0
      },
      "text/plain": [
       "  0%|          | 0/4 [00:00<?, ?it/s]"
      ]
     },
     "metadata": {},
     "output_type": "display_data"
    },
    {
     "data": {
      "application/vnd.jupyter.widget-view+json": {
       "model_id": "dbda5ad0a1564af295fc5c0bc96ce92b",
       "version_major": 2,
       "version_minor": 0
      },
      "text/plain": [
       "  0%|          | 0/5 [00:00<?, ?it/s]"
      ]
     },
     "metadata": {},
     "output_type": "display_data"
    }
   ],
   "source": [
    "counts_list = execute_and_collect(circuit_list, backend, 'threeQubits_variational_manila', shots = 5000)\n",
    "data = [inputs_map, inputs_spam, counts_list]\n",
    "pickle.dump(data, open(\"../../data/threeQubits_variational_noDelay_manila.p\", \"wb\"))"
   ]
  },
  {
   "cell_type": "markdown",
   "metadata": {},
   "source": [
    "### 2.5 mu"
   ]
  },
  {
   "cell_type": "code",
   "execution_count": null,
   "metadata": {},
   "outputs": [],
   "source": [
    "n = 3\n",
    "d = 2**n\n",
    "\n",
    "np.random.seed(42)\n",
    "random.seed(42)\n",
    "\n",
    "circuit_target = pqc_basic(n, 8).reverse_bits()\n",
    "circuit_target.delay(2.5, unit=\"us\")\n",
    "print(circuit_target)\n",
    "\n",
    "N = 2000 - 6**n\n",
    "inputs_map, circuit_list_map = generate_pauli_circuits(n, circuit_target, N)\n",
    "inputs_spam, circuit_list_spam = generate_pauliInput_circuits(n)\n",
    "\n",
    "circuit_list = circuit_list_map + circuit_list_spam"
   ]
  },
  {
   "cell_type": "code",
   "execution_count": null,
   "metadata": {},
   "outputs": [],
   "source": [
    "counts_list = execute_and_collect(circuit_list, backend, 'threeQubits_variational_2point5usDelay_manila', shots = 5000)\n",
    "data = [inputs_map, inputs_spam, counts_list]\n",
    "pickle.dump(data, open(\"../../data/threeQubits_variational_2point5usDelay_manila.p\", \"wb\"))"
   ]
  },
  {
   "cell_type": "markdown",
   "metadata": {},
   "source": [
    "### 5 mu"
   ]
  },
  {
   "cell_type": "code",
   "execution_count": 18,
   "metadata": {},
   "outputs": [
    {
     "name": "stdout",
     "output_type": "stream",
     "text": [
      "      ┌────────────┐ ┌─────────────┐          ┌───┐     ┌─────────────┐»\n",
      "q_0: ─┤ Ry(1.4577) ├─┤ Rz(-2.1615) ├──────────┤ X ├─────┤ Ry(0.63532) ├»\n",
      "      ├────────────┤ ├─────────────┤┌───┐     └─┬─┘     └┬────────────┤»\n",
      "q_1: ─┤ Ry(2.8319) ├─┤ Rz(-2.1613) ├┤ X ├───────■────────┤ Ry(2.3008) ├»\n",
      "     ┌┴────────────┴┐├─────────────┤└─┬─┘┌─────────────┐ ├────────────┤»\n",
      "q_2: ┤ Ry(-0.78829) ├┤ Rz(0.61989) ├──■──┤ Ry(-2.7766) ├─┤ Rz(1.3074) ├»\n",
      "     └──────────────┘└─────────────┘     └─────────────┘ └────────────┘»\n",
      "«      ┌────────────┐         ┌───┐     ┌─────────────┐┌─────────────┐     »\n",
      "«q_0: ─┤ Rz(2.9525) ├─────────┤ X ├─────┤ Ry(-1.9992) ├┤ Rz(0.15555) ├─────»\n",
      "«     ┌┴────────────┤┌───┐    └─┬─┘     ├─────────────┤└┬───────────┬┘┌───┐»\n",
      "«q_1: ┤ Rz(-3.0123) ├┤ X ├──────■───────┤ Ry(-1.8074) ├─┤ Rz(-1.23) ├─┤ X ├»\n",
      "«     └─────────────┘└─┬─┘┌────────────┐├─────────────┤ └───────────┘ └─┬─┘»\n",
      "«q_2: ─────────────────■──┤ Ry(2.0888) ├┤ Rz(-1.9892) ├─────────────────■──»\n",
      "«                         └────────────┘└─────────────┘                    »\n",
      "«          ┌───┐     ┌─────────────┐┌──────────────┐          ┌───┐      »\n",
      "«q_0: ─────┤ X ├─────┤ Ry(0.70279) ├┤ Rz(-0.83967) ├──────────┤ X ├──────»\n",
      "«          └─┬─┘     ├─────────────┤└┬────────────┬┘┌───┐     └─┬─┘      »\n",
      "«q_1: ───────■───────┤ Ry(-1.3117) ├─┤ Rz(-1.306) ├─┤ X ├───────■────────»\n",
      "«     ┌─────────────┐├─────────────┤ └────────────┘ └─┬─┘┌──────────────┐»\n",
      "«q_2: ┤ Ry(-0.4276) ├┤ Rz(-2.2651) ├──────────────────■──┤ Ry(-0.27602) ├»\n",
      "«     └─────────────┘└─────────────┘                     └──────────────┘»\n",
      "«      ┌────────────┐ ┌─────────────┐          ┌───┐     ┌─────────────┐»\n",
      "«q_0: ─┤ Ry(-1.887) ├─┤ Rz(-2.8497) ├──────────┤ X ├─────┤ Ry(-2.7329) ├»\n",
      "«      ├────────────┤ ├─────────────┤┌───┐     └─┬─┘     ├─────────────┤»\n",
      "«q_1: ─┤ Ry(1.7918) ├─┤ Rz(0.58066) ├┤ X ├───────■───────┤ Ry(-2.0702) ├»\n",
      "«     ┌┴────────────┴┐└─────────────┘└─┬─┘┌─────────────┐└┬────────────┤»\n",
      "«q_2: ┤ Rz(0.089438) ├─────────────────■──┤ Ry(0.67572) ├─┤ Rz(2.8204) ├»\n",
      "«     └──────────────┘                    └─────────────┘ └────────────┘»\n",
      "«     ┌────────────┐          ┌───┐      ┌────────────┐ ┌───────────────┐     »\n",
      "«q_0: ┤ Rz(1.9377) ├──────────┤ X ├──────┤ Ry(1.1576) ├─┤ Rz(-0.030304) ├─────»\n",
      "«     ├────────────┤┌───┐     └─┬─┘     ┌┴────────────┤ └┬─────────────┬┘┌───┐»\n",
      "«q_1: ┤ Rz(2.9257) ├┤ X ├───────■───────┤ Ry(-2.5279) ├──┤ Rz(-2.3748) ├─┤ X ├»\n",
      "«     └────────────┘└─┬─┘┌─────────────┐├─────────────┴┐ └─────────────┘ └─┬─┘»\n",
      "«q_2: ────────────────■──┤ Ry(-1.2276) ├┤ Rz(-0.37603) ├───────────────────■──»\n",
      "«                        └─────────────┘└──────────────┘                      »\n",
      "«          ┌───┐     ┌─────────────┐┌─────────────┐          ┌───┐      »\n",
      "«q_0: ─────┤ X ├─────┤ Ry(-1.5156) ├┤ Rz(0.12609) ├──────────┤ X ├──────»\n",
      "«          └─┬─┘     └┬────────────┤├─────────────┤┌───┐     └─┬─┘      »\n",
      "«q_1: ───────■────────┤ Ry(2.5718) ├┤ Rz(-1.1831) ├┤ X ├───────■────────»\n",
      "«     ┌─────────────┐ ├────────────┤└─────────────┘└─┬─┘┌──────────────┐»\n",
      "«q_2: ┤ Ry(-2.9255) ├─┤ Rz(1.0212) ├─────────────────■──┤ Delay(5[us]) ├»\n",
      "«     └─────────────┘ └────────────┘                    └──────────────┘»\n",
      "«     ┌──────────────┐\n",
      "«q_0: ┤ Delay(5[us]) ├\n",
      "«     ├──────────────┤\n",
      "«q_1: ┤ Delay(5[us]) ├\n",
      "«     └──────────────┘\n",
      "«q_2: ────────────────\n",
      "«                     \n"
     ]
    }
   ],
   "source": [
    "n = 3\n",
    "d = 2**n\n",
    "\n",
    "np.random.seed(42)\n",
    "random.seed(42)\n",
    "\n",
    "circuit_target = pqc_basic(n, 8).reverse_bits()\n",
    "circuit_target.delay(5, unit=\"us\")\n",
    "print(circuit_target)\n",
    "\n",
    "N = 2000 - 6**n\n",
    "inputs_map, circuit_list_map = generate_pauli_circuits(n, circuit_target, N)\n",
    "inputs_spam, circuit_list_spam = generate_pauliInput_circuits(n)\n",
    "\n",
    "circuit_list = circuit_list_map + circuit_list_spam"
   ]
  },
  {
   "cell_type": "code",
   "execution_count": null,
   "metadata": {},
   "outputs": [
    {
     "data": {
      "application/vnd.jupyter.widget-view+json": {
       "model_id": "bbe6db47172e416e9718ce5104aa436e",
       "version_major": 2,
       "version_minor": 0
      },
      "text/plain": [
       "  0%|          | 0/4 [00:00<?, ?it/s]"
      ]
     },
     "metadata": {},
     "output_type": "display_data"
    },
    {
     "data": {
      "application/vnd.jupyter.widget-view+json": {
       "model_id": "5b45642a665c45f2ab45edb5ab511414",
       "version_major": 2,
       "version_minor": 0
      },
      "text/plain": [
       "  0%|          | 0/5 [00:00<?, ?it/s]"
      ]
     },
     "metadata": {},
     "output_type": "display_data"
    },
    {
     "data": {
      "application/vnd.jupyter.widget-view+json": {
       "model_id": "5bc627db4e914da7a2849fd5f28bcea1",
       "version_major": 2,
       "version_minor": 0
      },
      "text/plain": [
       "  0%|          | 0/5 [00:00<?, ?it/s]"
      ]
     },
     "metadata": {},
     "output_type": "display_data"
    },
    {
     "data": {
      "application/vnd.jupyter.widget-view+json": {
       "model_id": "ce8a641e26c4431aa71b3a0ffd3eb036",
       "version_major": 2,
       "version_minor": 0
      },
      "text/plain": [
       "  0%|          | 0/5 [00:00<?, ?it/s]"
      ]
     },
     "metadata": {},
     "output_type": "display_data"
    }
   ],
   "source": [
    "counts_list = execute_and_collect(circuit_list, backend, 'threeQubits_variational_5usDelay_manila', shots = 5000)\n",
    "data = [inputs_map, inputs_spam, counts_list]\n",
    "pickle.dump(data, open(\"../../data/threeQubits_variational_5usDelay_manila.p\", \"wb\"))"
   ]
  },
  {
   "cell_type": "markdown",
   "metadata": {},
   "source": [
    "### 6 mu"
   ]
  },
  {
   "cell_type": "code",
   "execution_count": 10,
   "metadata": {},
   "outputs": [
    {
     "name": "stdout",
     "output_type": "stream",
     "text": [
      "      ┌────────────┐ ┌─────────────┐          ┌───┐     ┌─────────────┐»\n",
      "q_0: ─┤ Ry(1.4577) ├─┤ Rz(-2.1615) ├──────────┤ X ├─────┤ Ry(0.63532) ├»\n",
      "      ├────────────┤ ├─────────────┤┌───┐     └─┬─┘     └┬────────────┤»\n",
      "q_1: ─┤ Ry(2.8319) ├─┤ Rz(-2.1613) ├┤ X ├───────■────────┤ Ry(2.3008) ├»\n",
      "     ┌┴────────────┴┐├─────────────┤└─┬─┘┌─────────────┐ ├────────────┤»\n",
      "q_2: ┤ Ry(-0.78829) ├┤ Rz(0.61989) ├──■──┤ Ry(-2.7766) ├─┤ Rz(1.3074) ├»\n",
      "     └──────────────┘└─────────────┘     └─────────────┘ └────────────┘»\n",
      "«      ┌────────────┐         ┌───┐     ┌─────────────┐┌─────────────┐     »\n",
      "«q_0: ─┤ Rz(2.9525) ├─────────┤ X ├─────┤ Ry(-1.9992) ├┤ Rz(0.15555) ├─────»\n",
      "«     ┌┴────────────┤┌───┐    └─┬─┘     ├─────────────┤└┬───────────┬┘┌───┐»\n",
      "«q_1: ┤ Rz(-3.0123) ├┤ X ├──────■───────┤ Ry(-1.8074) ├─┤ Rz(-1.23) ├─┤ X ├»\n",
      "«     └─────────────┘└─┬─┘┌────────────┐├─────────────┤ └───────────┘ └─┬─┘»\n",
      "«q_2: ─────────────────■──┤ Ry(2.0888) ├┤ Rz(-1.9892) ├─────────────────■──»\n",
      "«                         └────────────┘└─────────────┘                    »\n",
      "«          ┌───┐     ┌─────────────┐┌──────────────┐          ┌───┐      »\n",
      "«q_0: ─────┤ X ├─────┤ Ry(0.70279) ├┤ Rz(-0.83967) ├──────────┤ X ├──────»\n",
      "«          └─┬─┘     ├─────────────┤└┬────────────┬┘┌───┐     └─┬─┘      »\n",
      "«q_1: ───────■───────┤ Ry(-1.3117) ├─┤ Rz(-1.306) ├─┤ X ├───────■────────»\n",
      "«     ┌─────────────┐├─────────────┤ └────────────┘ └─┬─┘┌──────────────┐»\n",
      "«q_2: ┤ Ry(-0.4276) ├┤ Rz(-2.2651) ├──────────────────■──┤ Ry(-0.27602) ├»\n",
      "«     └─────────────┘└─────────────┘                     └──────────────┘»\n",
      "«      ┌────────────┐ ┌─────────────┐          ┌───┐     ┌─────────────┐»\n",
      "«q_0: ─┤ Ry(-1.887) ├─┤ Rz(-2.8497) ├──────────┤ X ├─────┤ Ry(-2.7329) ├»\n",
      "«      ├────────────┤ ├─────────────┤┌───┐     └─┬─┘     ├─────────────┤»\n",
      "«q_1: ─┤ Ry(1.7918) ├─┤ Rz(0.58066) ├┤ X ├───────■───────┤ Ry(-2.0702) ├»\n",
      "«     ┌┴────────────┴┐└─────────────┘└─┬─┘┌─────────────┐└┬────────────┤»\n",
      "«q_2: ┤ Rz(0.089438) ├─────────────────■──┤ Ry(0.67572) ├─┤ Rz(2.8204) ├»\n",
      "«     └──────────────┘                    └─────────────┘ └────────────┘»\n",
      "«     ┌────────────┐          ┌───┐      ┌────────────┐ ┌───────────────┐     »\n",
      "«q_0: ┤ Rz(1.9377) ├──────────┤ X ├──────┤ Ry(1.1576) ├─┤ Rz(-0.030304) ├─────»\n",
      "«     ├────────────┤┌───┐     └─┬─┘     ┌┴────────────┤ └┬─────────────┬┘┌───┐»\n",
      "«q_1: ┤ Rz(2.9257) ├┤ X ├───────■───────┤ Ry(-2.5279) ├──┤ Rz(-2.3748) ├─┤ X ├»\n",
      "«     └────────────┘└─┬─┘┌─────────────┐├─────────────┴┐ └─────────────┘ └─┬─┘»\n",
      "«q_2: ────────────────■──┤ Ry(-1.2276) ├┤ Rz(-0.37603) ├───────────────────■──»\n",
      "«                        └─────────────┘└──────────────┘                      »\n",
      "«          ┌───┐     ┌─────────────┐┌─────────────┐          ┌───┐      »\n",
      "«q_0: ─────┤ X ├─────┤ Ry(-1.5156) ├┤ Rz(0.12609) ├──────────┤ X ├──────»\n",
      "«          └─┬─┘     └┬────────────┤├─────────────┤┌───┐     └─┬─┘      »\n",
      "«q_1: ───────■────────┤ Ry(2.5718) ├┤ Rz(-1.1831) ├┤ X ├───────■────────»\n",
      "«     ┌─────────────┐ ├────────────┤└─────────────┘└─┬─┘┌──────────────┐»\n",
      "«q_2: ┤ Ry(-2.9255) ├─┤ Rz(1.0212) ├─────────────────■──┤ Delay(6[us]) ├»\n",
      "«     └─────────────┘ └────────────┘                    └──────────────┘»\n",
      "«     ┌──────────────┐\n",
      "«q_0: ┤ Delay(6[us]) ├\n",
      "«     ├──────────────┤\n",
      "«q_1: ┤ Delay(6[us]) ├\n",
      "«     └──────────────┘\n",
      "«q_2: ────────────────\n",
      "«                     \n"
     ]
    }
   ],
   "source": [
    "n = 3\n",
    "d = 2**n\n",
    "\n",
    "np.random.seed(42)\n",
    "random.seed(42)\n",
    "\n",
    "circuit_target = pqc_basic(n, 8).reverse_bits()\n",
    "circuit_target.delay(6, unit=\"us\")\n",
    "print(circuit_target)\n",
    "\n",
    "N = 2000 - 6**n\n",
    "inputs_map, circuit_list_map = generate_pauli_circuits(n, circuit_target, N)\n",
    "inputs_spam, circuit_list_spam = generate_pauliInput_circuits(n)\n",
    "\n",
    "circuit_list = circuit_list_map + circuit_list_spam"
   ]
  },
  {
   "cell_type": "code",
   "execution_count": 11,
   "metadata": {},
   "outputs": [
    {
     "data": {
      "application/vnd.jupyter.widget-view+json": {
       "model_id": "23a23dbea4004946be1711c7764fe93f",
       "version_major": 2,
       "version_minor": 0
      },
      "text/plain": [
       "  0%|          | 0/4 [00:00<?, ?it/s]"
      ]
     },
     "metadata": {},
     "output_type": "display_data"
    },
    {
     "data": {
      "application/vnd.jupyter.widget-view+json": {
       "model_id": "4fbda59d21ad42668d45a55cead845ca",
       "version_major": 2,
       "version_minor": 0
      },
      "text/plain": [
       "  0%|          | 0/5 [00:00<?, ?it/s]"
      ]
     },
     "metadata": {},
     "output_type": "display_data"
    },
    {
     "data": {
      "application/vnd.jupyter.widget-view+json": {
       "model_id": "2794cd839e81445785c04c160d71eebd",
       "version_major": 2,
       "version_minor": 0
      },
      "text/plain": [
       "  0%|          | 0/5 [00:00<?, ?it/s]"
      ]
     },
     "metadata": {},
     "output_type": "display_data"
    },
    {
     "data": {
      "application/vnd.jupyter.widget-view+json": {
       "model_id": "d71c01bf294f4bffaa635eff5797b597",
       "version_major": 2,
       "version_minor": 0
      },
      "text/plain": [
       "  0%|          | 0/5 [00:00<?, ?it/s]"
      ]
     },
     "metadata": {},
     "output_type": "display_data"
    },
    {
     "data": {
      "application/vnd.jupyter.widget-view+json": {
       "model_id": "be5ed79a1d6c416a8e785b8ab2133548",
       "version_major": 2,
       "version_minor": 0
      },
      "text/plain": [
       "  0%|          | 0/5 [00:00<?, ?it/s]"
      ]
     },
     "metadata": {},
     "output_type": "display_data"
    }
   ],
   "source": [
    "counts_list = execute_and_collect(circuit_list, backend, 'threeQubits_variational_6usDelay_manila', shots = 5000)\n",
    "data = [inputs_map, inputs_spam, counts_list]\n",
    "pickle.dump(data, open(\"../../data/threeQubits_variational_6usDelay_manila.p\", \"wb\"))"
   ]
  },
  {
   "cell_type": "markdown",
   "metadata": {},
   "source": [
    "### 7 mu"
   ]
  },
  {
   "cell_type": "code",
   "execution_count": 12,
   "metadata": {},
   "outputs": [
    {
     "name": "stdout",
     "output_type": "stream",
     "text": [
      "      ┌────────────┐ ┌─────────────┐          ┌───┐     ┌─────────────┐»\n",
      "q_0: ─┤ Ry(1.4577) ├─┤ Rz(-2.1615) ├──────────┤ X ├─────┤ Ry(0.63532) ├»\n",
      "      ├────────────┤ ├─────────────┤┌───┐     └─┬─┘     └┬────────────┤»\n",
      "q_1: ─┤ Ry(2.8319) ├─┤ Rz(-2.1613) ├┤ X ├───────■────────┤ Ry(2.3008) ├»\n",
      "     ┌┴────────────┴┐├─────────────┤└─┬─┘┌─────────────┐ ├────────────┤»\n",
      "q_2: ┤ Ry(-0.78829) ├┤ Rz(0.61989) ├──■──┤ Ry(-2.7766) ├─┤ Rz(1.3074) ├»\n",
      "     └──────────────┘└─────────────┘     └─────────────┘ └────────────┘»\n",
      "«      ┌────────────┐         ┌───┐     ┌─────────────┐┌─────────────┐     »\n",
      "«q_0: ─┤ Rz(2.9525) ├─────────┤ X ├─────┤ Ry(-1.9992) ├┤ Rz(0.15555) ├─────»\n",
      "«     ┌┴────────────┤┌───┐    └─┬─┘     ├─────────────┤└┬───────────┬┘┌───┐»\n",
      "«q_1: ┤ Rz(-3.0123) ├┤ X ├──────■───────┤ Ry(-1.8074) ├─┤ Rz(-1.23) ├─┤ X ├»\n",
      "«     └─────────────┘└─┬─┘┌────────────┐├─────────────┤ └───────────┘ └─┬─┘»\n",
      "«q_2: ─────────────────■──┤ Ry(2.0888) ├┤ Rz(-1.9892) ├─────────────────■──»\n",
      "«                         └────────────┘└─────────────┘                    »\n",
      "«          ┌───┐     ┌─────────────┐┌──────────────┐          ┌───┐      »\n",
      "«q_0: ─────┤ X ├─────┤ Ry(0.70279) ├┤ Rz(-0.83967) ├──────────┤ X ├──────»\n",
      "«          └─┬─┘     ├─────────────┤└┬────────────┬┘┌───┐     └─┬─┘      »\n",
      "«q_1: ───────■───────┤ Ry(-1.3117) ├─┤ Rz(-1.306) ├─┤ X ├───────■────────»\n",
      "«     ┌─────────────┐├─────────────┤ └────────────┘ └─┬─┘┌──────────────┐»\n",
      "«q_2: ┤ Ry(-0.4276) ├┤ Rz(-2.2651) ├──────────────────■──┤ Ry(-0.27602) ├»\n",
      "«     └─────────────┘└─────────────┘                     └──────────────┘»\n",
      "«      ┌────────────┐ ┌─────────────┐          ┌───┐     ┌─────────────┐»\n",
      "«q_0: ─┤ Ry(-1.887) ├─┤ Rz(-2.8497) ├──────────┤ X ├─────┤ Ry(-2.7329) ├»\n",
      "«      ├────────────┤ ├─────────────┤┌───┐     └─┬─┘     ├─────────────┤»\n",
      "«q_1: ─┤ Ry(1.7918) ├─┤ Rz(0.58066) ├┤ X ├───────■───────┤ Ry(-2.0702) ├»\n",
      "«     ┌┴────────────┴┐└─────────────┘└─┬─┘┌─────────────┐└┬────────────┤»\n",
      "«q_2: ┤ Rz(0.089438) ├─────────────────■──┤ Ry(0.67572) ├─┤ Rz(2.8204) ├»\n",
      "«     └──────────────┘                    └─────────────┘ └────────────┘»\n",
      "«     ┌────────────┐          ┌───┐      ┌────────────┐ ┌───────────────┐     »\n",
      "«q_0: ┤ Rz(1.9377) ├──────────┤ X ├──────┤ Ry(1.1576) ├─┤ Rz(-0.030304) ├─────»\n",
      "«     ├────────────┤┌───┐     └─┬─┘     ┌┴────────────┤ └┬─────────────┬┘┌───┐»\n",
      "«q_1: ┤ Rz(2.9257) ├┤ X ├───────■───────┤ Ry(-2.5279) ├──┤ Rz(-2.3748) ├─┤ X ├»\n",
      "«     └────────────┘└─┬─┘┌─────────────┐├─────────────┴┐ └─────────────┘ └─┬─┘»\n",
      "«q_2: ────────────────■──┤ Ry(-1.2276) ├┤ Rz(-0.37603) ├───────────────────■──»\n",
      "«                        └─────────────┘└──────────────┘                      »\n",
      "«          ┌───┐     ┌─────────────┐┌─────────────┐          ┌───┐      »\n",
      "«q_0: ─────┤ X ├─────┤ Ry(-1.5156) ├┤ Rz(0.12609) ├──────────┤ X ├──────»\n",
      "«          └─┬─┘     └┬────────────┤├─────────────┤┌───┐     └─┬─┘      »\n",
      "«q_1: ───────■────────┤ Ry(2.5718) ├┤ Rz(-1.1831) ├┤ X ├───────■────────»\n",
      "«     ┌─────────────┐ ├────────────┤└─────────────┘└─┬─┘┌──────────────┐»\n",
      "«q_2: ┤ Ry(-2.9255) ├─┤ Rz(1.0212) ├─────────────────■──┤ Delay(7[us]) ├»\n",
      "«     └─────────────┘ └────────────┘                    └──────────────┘»\n",
      "«     ┌──────────────┐\n",
      "«q_0: ┤ Delay(7[us]) ├\n",
      "«     ├──────────────┤\n",
      "«q_1: ┤ Delay(7[us]) ├\n",
      "«     └──────────────┘\n",
      "«q_2: ────────────────\n",
      "«                     \n"
     ]
    }
   ],
   "source": [
    "n = 3\n",
    "d = 2**n\n",
    "\n",
    "np.random.seed(42)\n",
    "random.seed(42)\n",
    "\n",
    "circuit_target = pqc_basic(n, 8).reverse_bits()\n",
    "circuit_target.delay(7, unit=\"us\")\n",
    "print(circuit_target)\n",
    "\n",
    "N = 2000 - 6**n\n",
    "inputs_map, circuit_list_map = generate_pauli_circuits(n, circuit_target, N)\n",
    "inputs_spam, circuit_list_spam = generate_pauliInput_circuits(n)\n",
    "\n",
    "circuit_list = circuit_list_map + circuit_list_spam"
   ]
  },
  {
   "cell_type": "code",
   "execution_count": 13,
   "metadata": {},
   "outputs": [
    {
     "data": {
      "application/vnd.jupyter.widget-view+json": {
       "model_id": "38465a5fd2bf4f3db30683c453b1cc83",
       "version_major": 2,
       "version_minor": 0
      },
      "text/plain": [
       "  0%|          | 0/4 [00:00<?, ?it/s]"
      ]
     },
     "metadata": {},
     "output_type": "display_data"
    },
    {
     "data": {
      "application/vnd.jupyter.widget-view+json": {
       "model_id": "7e3b7d75c82a4066890accaab8911ce2",
       "version_major": 2,
       "version_minor": 0
      },
      "text/plain": [
       "  0%|          | 0/5 [00:00<?, ?it/s]"
      ]
     },
     "metadata": {},
     "output_type": "display_data"
    },
    {
     "data": {
      "application/vnd.jupyter.widget-view+json": {
       "model_id": "eb65944e0e654d2c85c813467cdad418",
       "version_major": 2,
       "version_minor": 0
      },
      "text/plain": [
       "  0%|          | 0/5 [00:00<?, ?it/s]"
      ]
     },
     "metadata": {},
     "output_type": "display_data"
    },
    {
     "data": {
      "application/vnd.jupyter.widget-view+json": {
       "model_id": "071d974c222842358c88d65f19caa64a",
       "version_major": 2,
       "version_minor": 0
      },
      "text/plain": [
       "  0%|          | 0/5 [00:00<?, ?it/s]"
      ]
     },
     "metadata": {},
     "output_type": "display_data"
    },
    {
     "data": {
      "application/vnd.jupyter.widget-view+json": {
       "model_id": "3250c42256b643fab13115821d3e5fa3",
       "version_major": 2,
       "version_minor": 0
      },
      "text/plain": [
       "  0%|          | 0/5 [00:00<?, ?it/s]"
      ]
     },
     "metadata": {},
     "output_type": "display_data"
    }
   ],
   "source": [
    "counts_list = execute_and_collect(circuit_list, backend, 'threeQubits_variational_7usDelay_manila', shots = 5000)\n",
    "data = [inputs_map, inputs_spam, counts_list]\n",
    "pickle.dump(data, open(\"../../data/threeQubits_variational_7usDelay_manila.p\", \"wb\"))"
   ]
  },
  {
   "cell_type": "markdown",
   "metadata": {},
   "source": [
    "### 8 mu"
   ]
  },
  {
   "cell_type": "code",
   "execution_count": 14,
   "metadata": {},
   "outputs": [
    {
     "name": "stdout",
     "output_type": "stream",
     "text": [
      "      ┌────────────┐ ┌─────────────┐          ┌───┐     ┌─────────────┐»\n",
      "q_0: ─┤ Ry(1.4577) ├─┤ Rz(-2.1615) ├──────────┤ X ├─────┤ Ry(0.63532) ├»\n",
      "      ├────────────┤ ├─────────────┤┌───┐     └─┬─┘     └┬────────────┤»\n",
      "q_1: ─┤ Ry(2.8319) ├─┤ Rz(-2.1613) ├┤ X ├───────■────────┤ Ry(2.3008) ├»\n",
      "     ┌┴────────────┴┐├─────────────┤└─┬─┘┌─────────────┐ ├────────────┤»\n",
      "q_2: ┤ Ry(-0.78829) ├┤ Rz(0.61989) ├──■──┤ Ry(-2.7766) ├─┤ Rz(1.3074) ├»\n",
      "     └──────────────┘└─────────────┘     └─────────────┘ └────────────┘»\n",
      "«      ┌────────────┐         ┌───┐     ┌─────────────┐┌─────────────┐     »\n",
      "«q_0: ─┤ Rz(2.9525) ├─────────┤ X ├─────┤ Ry(-1.9992) ├┤ Rz(0.15555) ├─────»\n",
      "«     ┌┴────────────┤┌───┐    └─┬─┘     ├─────────────┤└┬───────────┬┘┌───┐»\n",
      "«q_1: ┤ Rz(-3.0123) ├┤ X ├──────■───────┤ Ry(-1.8074) ├─┤ Rz(-1.23) ├─┤ X ├»\n",
      "«     └─────────────┘└─┬─┘┌────────────┐├─────────────┤ └───────────┘ └─┬─┘»\n",
      "«q_2: ─────────────────■──┤ Ry(2.0888) ├┤ Rz(-1.9892) ├─────────────────■──»\n",
      "«                         └────────────┘└─────────────┘                    »\n",
      "«          ┌───┐     ┌─────────────┐┌──────────────┐          ┌───┐      »\n",
      "«q_0: ─────┤ X ├─────┤ Ry(0.70279) ├┤ Rz(-0.83967) ├──────────┤ X ├──────»\n",
      "«          └─┬─┘     ├─────────────┤└┬────────────┬┘┌───┐     └─┬─┘      »\n",
      "«q_1: ───────■───────┤ Ry(-1.3117) ├─┤ Rz(-1.306) ├─┤ X ├───────■────────»\n",
      "«     ┌─────────────┐├─────────────┤ └────────────┘ └─┬─┘┌──────────────┐»\n",
      "«q_2: ┤ Ry(-0.4276) ├┤ Rz(-2.2651) ├──────────────────■──┤ Ry(-0.27602) ├»\n",
      "«     └─────────────┘└─────────────┘                     └──────────────┘»\n",
      "«      ┌────────────┐ ┌─────────────┐          ┌───┐     ┌─────────────┐»\n",
      "«q_0: ─┤ Ry(-1.887) ├─┤ Rz(-2.8497) ├──────────┤ X ├─────┤ Ry(-2.7329) ├»\n",
      "«      ├────────────┤ ├─────────────┤┌───┐     └─┬─┘     ├─────────────┤»\n",
      "«q_1: ─┤ Ry(1.7918) ├─┤ Rz(0.58066) ├┤ X ├───────■───────┤ Ry(-2.0702) ├»\n",
      "«     ┌┴────────────┴┐└─────────────┘└─┬─┘┌─────────────┐└┬────────────┤»\n",
      "«q_2: ┤ Rz(0.089438) ├─────────────────■──┤ Ry(0.67572) ├─┤ Rz(2.8204) ├»\n",
      "«     └──────────────┘                    └─────────────┘ └────────────┘»\n",
      "«     ┌────────────┐          ┌───┐      ┌────────────┐ ┌───────────────┐     »\n",
      "«q_0: ┤ Rz(1.9377) ├──────────┤ X ├──────┤ Ry(1.1576) ├─┤ Rz(-0.030304) ├─────»\n",
      "«     ├────────────┤┌───┐     └─┬─┘     ┌┴────────────┤ └┬─────────────┬┘┌───┐»\n",
      "«q_1: ┤ Rz(2.9257) ├┤ X ├───────■───────┤ Ry(-2.5279) ├──┤ Rz(-2.3748) ├─┤ X ├»\n",
      "«     └────────────┘└─┬─┘┌─────────────┐├─────────────┴┐ └─────────────┘ └─┬─┘»\n",
      "«q_2: ────────────────■──┤ Ry(-1.2276) ├┤ Rz(-0.37603) ├───────────────────■──»\n",
      "«                        └─────────────┘└──────────────┘                      »\n",
      "«          ┌───┐     ┌─────────────┐┌─────────────┐          ┌───┐      »\n",
      "«q_0: ─────┤ X ├─────┤ Ry(-1.5156) ├┤ Rz(0.12609) ├──────────┤ X ├──────»\n",
      "«          └─┬─┘     └┬────────────┤├─────────────┤┌───┐     └─┬─┘      »\n",
      "«q_1: ───────■────────┤ Ry(2.5718) ├┤ Rz(-1.1831) ├┤ X ├───────■────────»\n",
      "«     ┌─────────────┐ ├────────────┤└─────────────┘└─┬─┘┌──────────────┐»\n",
      "«q_2: ┤ Ry(-2.9255) ├─┤ Rz(1.0212) ├─────────────────■──┤ Delay(8[us]) ├»\n",
      "«     └─────────────┘ └────────────┘                    └──────────────┘»\n",
      "«     ┌──────────────┐\n",
      "«q_0: ┤ Delay(8[us]) ├\n",
      "«     ├──────────────┤\n",
      "«q_1: ┤ Delay(8[us]) ├\n",
      "«     └──────────────┘\n",
      "«q_2: ────────────────\n",
      "«                     \n"
     ]
    }
   ],
   "source": [
    "n = 3\n",
    "d = 2**n\n",
    "\n",
    "np.random.seed(42)\n",
    "random.seed(42)\n",
    "\n",
    "circuit_target = pqc_basic(n, 8).reverse_bits()\n",
    "circuit_target.delay(8, unit=\"us\")\n",
    "print(circuit_target)\n",
    "\n",
    "N = 2000 - 6**n\n",
    "inputs_map, circuit_list_map = generate_pauli_circuits(n, circuit_target, N)\n",
    "inputs_spam, circuit_list_spam = generate_pauliInput_circuits(n)\n",
    "\n",
    "circuit_list = circuit_list_map + circuit_list_spam"
   ]
  },
  {
   "cell_type": "code",
   "execution_count": 15,
   "metadata": {},
   "outputs": [
    {
     "data": {
      "application/vnd.jupyter.widget-view+json": {
       "model_id": "0904c497337647b0bb7051c82f34c264",
       "version_major": 2,
       "version_minor": 0
      },
      "text/plain": [
       "  0%|          | 0/4 [00:00<?, ?it/s]"
      ]
     },
     "metadata": {},
     "output_type": "display_data"
    },
    {
     "data": {
      "application/vnd.jupyter.widget-view+json": {
       "model_id": "82dd3299246d44ddaf7807d55d51a1c9",
       "version_major": 2,
       "version_minor": 0
      },
      "text/plain": [
       "  0%|          | 0/5 [00:00<?, ?it/s]"
      ]
     },
     "metadata": {},
     "output_type": "display_data"
    },
    {
     "data": {
      "application/vnd.jupyter.widget-view+json": {
       "model_id": "4f1c05f099df438dbcad90d67c7a8f9a",
       "version_major": 2,
       "version_minor": 0
      },
      "text/plain": [
       "  0%|          | 0/5 [00:00<?, ?it/s]"
      ]
     },
     "metadata": {},
     "output_type": "display_data"
    },
    {
     "data": {
      "application/vnd.jupyter.widget-view+json": {
       "model_id": "6850695cb6cd4f1b92ca858dde57c9aa",
       "version_major": 2,
       "version_minor": 0
      },
      "text/plain": [
       "  0%|          | 0/5 [00:00<?, ?it/s]"
      ]
     },
     "metadata": {},
     "output_type": "display_data"
    },
    {
     "data": {
      "application/vnd.jupyter.widget-view+json": {
       "model_id": "fe2daad7b0984e4c8c5d3828ed96e586",
       "version_major": 2,
       "version_minor": 0
      },
      "text/plain": [
       "  0%|          | 0/5 [00:00<?, ?it/s]"
      ]
     },
     "metadata": {},
     "output_type": "display_data"
    }
   ],
   "source": [
    "counts_list = execute_and_collect(circuit_list, backend, 'threeQubits_variational_8usDelay_manila', shots = 5000)\n",
    "data = [inputs_map, inputs_spam, counts_list]\n",
    "pickle.dump(data, open(\"../../data/threeQubits_variational_8usDelay_manila.p\", \"wb\"))"
   ]
  },
  {
   "cell_type": "markdown",
   "metadata": {},
   "source": [
    "### 9 mu"
   ]
  },
  {
   "cell_type": "code",
   "execution_count": 16,
   "metadata": {},
   "outputs": [
    {
     "name": "stdout",
     "output_type": "stream",
     "text": [
      "      ┌────────────┐ ┌─────────────┐          ┌───┐     ┌─────────────┐»\n",
      "q_0: ─┤ Ry(1.4577) ├─┤ Rz(-2.1615) ├──────────┤ X ├─────┤ Ry(0.63532) ├»\n",
      "      ├────────────┤ ├─────────────┤┌───┐     └─┬─┘     └┬────────────┤»\n",
      "q_1: ─┤ Ry(2.8319) ├─┤ Rz(-2.1613) ├┤ X ├───────■────────┤ Ry(2.3008) ├»\n",
      "     ┌┴────────────┴┐├─────────────┤└─┬─┘┌─────────────┐ ├────────────┤»\n",
      "q_2: ┤ Ry(-0.78829) ├┤ Rz(0.61989) ├──■──┤ Ry(-2.7766) ├─┤ Rz(1.3074) ├»\n",
      "     └──────────────┘└─────────────┘     └─────────────┘ └────────────┘»\n",
      "«      ┌────────────┐         ┌───┐     ┌─────────────┐┌─────────────┐     »\n",
      "«q_0: ─┤ Rz(2.9525) ├─────────┤ X ├─────┤ Ry(-1.9992) ├┤ Rz(0.15555) ├─────»\n",
      "«     ┌┴────────────┤┌───┐    └─┬─┘     ├─────────────┤└┬───────────┬┘┌───┐»\n",
      "«q_1: ┤ Rz(-3.0123) ├┤ X ├──────■───────┤ Ry(-1.8074) ├─┤ Rz(-1.23) ├─┤ X ├»\n",
      "«     └─────────────┘└─┬─┘┌────────────┐├─────────────┤ └───────────┘ └─┬─┘»\n",
      "«q_2: ─────────────────■──┤ Ry(2.0888) ├┤ Rz(-1.9892) ├─────────────────■──»\n",
      "«                         └────────────┘└─────────────┘                    »\n",
      "«          ┌───┐     ┌─────────────┐┌──────────────┐          ┌───┐      »\n",
      "«q_0: ─────┤ X ├─────┤ Ry(0.70279) ├┤ Rz(-0.83967) ├──────────┤ X ├──────»\n",
      "«          └─┬─┘     ├─────────────┤└┬────────────┬┘┌───┐     └─┬─┘      »\n",
      "«q_1: ───────■───────┤ Ry(-1.3117) ├─┤ Rz(-1.306) ├─┤ X ├───────■────────»\n",
      "«     ┌─────────────┐├─────────────┤ └────────────┘ └─┬─┘┌──────────────┐»\n",
      "«q_2: ┤ Ry(-0.4276) ├┤ Rz(-2.2651) ├──────────────────■──┤ Ry(-0.27602) ├»\n",
      "«     └─────────────┘└─────────────┘                     └──────────────┘»\n",
      "«      ┌────────────┐ ┌─────────────┐          ┌───┐     ┌─────────────┐»\n",
      "«q_0: ─┤ Ry(-1.887) ├─┤ Rz(-2.8497) ├──────────┤ X ├─────┤ Ry(-2.7329) ├»\n",
      "«      ├────────────┤ ├─────────────┤┌───┐     └─┬─┘     ├─────────────┤»\n",
      "«q_1: ─┤ Ry(1.7918) ├─┤ Rz(0.58066) ├┤ X ├───────■───────┤ Ry(-2.0702) ├»\n",
      "«     ┌┴────────────┴┐└─────────────┘└─┬─┘┌─────────────┐└┬────────────┤»\n",
      "«q_2: ┤ Rz(0.089438) ├─────────────────■──┤ Ry(0.67572) ├─┤ Rz(2.8204) ├»\n",
      "«     └──────────────┘                    └─────────────┘ └────────────┘»\n",
      "«     ┌────────────┐          ┌───┐      ┌────────────┐ ┌───────────────┐     »\n",
      "«q_0: ┤ Rz(1.9377) ├──────────┤ X ├──────┤ Ry(1.1576) ├─┤ Rz(-0.030304) ├─────»\n",
      "«     ├────────────┤┌───┐     └─┬─┘     ┌┴────────────┤ └┬─────────────┬┘┌───┐»\n",
      "«q_1: ┤ Rz(2.9257) ├┤ X ├───────■───────┤ Ry(-2.5279) ├──┤ Rz(-2.3748) ├─┤ X ├»\n",
      "«     └────────────┘└─┬─┘┌─────────────┐├─────────────┴┐ └─────────────┘ └─┬─┘»\n",
      "«q_2: ────────────────■──┤ Ry(-1.2276) ├┤ Rz(-0.37603) ├───────────────────■──»\n",
      "«                        └─────────────┘└──────────────┘                      »\n",
      "«          ┌───┐     ┌─────────────┐┌─────────────┐          ┌───┐      »\n",
      "«q_0: ─────┤ X ├─────┤ Ry(-1.5156) ├┤ Rz(0.12609) ├──────────┤ X ├──────»\n",
      "«          └─┬─┘     └┬────────────┤├─────────────┤┌───┐     └─┬─┘      »\n",
      "«q_1: ───────■────────┤ Ry(2.5718) ├┤ Rz(-1.1831) ├┤ X ├───────■────────»\n",
      "«     ┌─────────────┐ ├────────────┤└─────────────┘└─┬─┘┌──────────────┐»\n",
      "«q_2: ┤ Ry(-2.9255) ├─┤ Rz(1.0212) ├─────────────────■──┤ Delay(9[us]) ├»\n",
      "«     └─────────────┘ └────────────┘                    └──────────────┘»\n",
      "«     ┌──────────────┐\n",
      "«q_0: ┤ Delay(9[us]) ├\n",
      "«     ├──────────────┤\n",
      "«q_1: ┤ Delay(9[us]) ├\n",
      "«     └──────────────┘\n",
      "«q_2: ────────────────\n",
      "«                     \n"
     ]
    }
   ],
   "source": [
    "n = 3\n",
    "d = 2**n\n",
    "\n",
    "np.random.seed(42)\n",
    "random.seed(42)\n",
    "\n",
    "circuit_target = pqc_basic(n, 8).reverse_bits()\n",
    "circuit_target.delay(9, unit=\"us\")\n",
    "print(circuit_target)\n",
    "\n",
    "N = 2000 - 6**n\n",
    "inputs_map, circuit_list_map = generate_pauli_circuits(n, circuit_target, N)\n",
    "inputs_spam, circuit_list_spam = generate_pauliInput_circuits(n)\n",
    "\n",
    "circuit_list = circuit_list_map + circuit_list_spam"
   ]
  },
  {
   "cell_type": "code",
   "execution_count": 17,
   "metadata": {},
   "outputs": [
    {
     "data": {
      "application/vnd.jupyter.widget-view+json": {
       "model_id": "ee508fbf81fc40a99d88905a9bebd410",
       "version_major": 2,
       "version_minor": 0
      },
      "text/plain": [
       "  0%|          | 0/4 [00:00<?, ?it/s]"
      ]
     },
     "metadata": {},
     "output_type": "display_data"
    },
    {
     "data": {
      "application/vnd.jupyter.widget-view+json": {
       "model_id": "a0536451fd1943eebc8b0b7c233ae648",
       "version_major": 2,
       "version_minor": 0
      },
      "text/plain": [
       "  0%|          | 0/5 [00:00<?, ?it/s]"
      ]
     },
     "metadata": {},
     "output_type": "display_data"
    },
    {
     "data": {
      "application/vnd.jupyter.widget-view+json": {
       "model_id": "af61c29a17d24b8789a7b6d80b21e8bc",
       "version_major": 2,
       "version_minor": 0
      },
      "text/plain": [
       "  0%|          | 0/5 [00:00<?, ?it/s]"
      ]
     },
     "metadata": {},
     "output_type": "display_data"
    },
    {
     "data": {
      "application/vnd.jupyter.widget-view+json": {
       "model_id": "edc50c8fce34490e93b451e3102c0af2",
       "version_major": 2,
       "version_minor": 0
      },
      "text/plain": [
       "  0%|          | 0/5 [00:00<?, ?it/s]"
      ]
     },
     "metadata": {},
     "output_type": "display_data"
    },
    {
     "data": {
      "application/vnd.jupyter.widget-view+json": {
       "model_id": "bb082ab55cd046099c8d2d93020a3dba",
       "version_major": 2,
       "version_minor": 0
      },
      "text/plain": [
       "  0%|          | 0/5 [00:00<?, ?it/s]"
      ]
     },
     "metadata": {},
     "output_type": "display_data"
    }
   ],
   "source": [
    "counts_list = execute_and_collect(circuit_list, backend, 'threeQubits_variational_9usDelay_manila', shots = 5000)\n",
    "data = [inputs_map, inputs_spam, counts_list]\n",
    "pickle.dump(data, open(\"../../data/threeQubits_variational_9usDelay_manila.p\", \"wb\"))"
   ]
  },
  {
   "cell_type": "markdown",
   "metadata": {},
   "source": [
    "### 10 mu"
   ]
  },
  {
   "cell_type": "code",
   "execution_count": null,
   "metadata": {},
   "outputs": [],
   "source": [
    "n = 3\n",
    "d = 2**n\n",
    "\n",
    "np.random.seed(42)\n",
    "random.seed(42)\n",
    "\n",
    "circuit_target = pqc_basic(n, 8).reverse_bits()\n",
    "circuit_target.delay(10, unit=\"us\")\n",
    "print(circuit_target)\n",
    "\n",
    "N = 2000 - 6**n\n",
    "inputs_map, circuit_list_map = generate_pauli_circuits(n, circuit_target, N)\n",
    "inputs_spam, circuit_list_spam = generate_pauliInput_circuits(n)\n",
    "\n",
    "circuit_list = circuit_list_map + circuit_list_spam"
   ]
  },
  {
   "cell_type": "code",
   "execution_count": null,
   "metadata": {},
   "outputs": [],
   "source": [
    "counts_list = execute_and_collect(circuit_list, backend, 'threeQubits_variational_10usDelay_manila', shots = 5000)\n",
    "data = [inputs_map, inputs_spam, counts_list]\n",
    "pickle.dump(data, open(\"../../data/threeQubits_variational_10usDelay_manila.p\", \"wb\"))"
   ]
  },
  {
   "cell_type": "code",
   "execution_count": null,
   "metadata": {},
   "outputs": [],
   "source": []
  }
 ],
 "metadata": {
  "kernelspec": {
   "display_name": "env_qiskit",
   "language": "python",
   "name": "env_qiskit"
  },
  "language_info": {
   "codemirror_mode": {
    "name": "ipython",
    "version": 3
   },
   "file_extension": ".py",
   "mimetype": "text/x-python",
   "name": "python",
   "nbconvert_exporter": "python",
   "pygments_lexer": "ipython3",
   "version": "3.10.4"
  }
 },
 "nbformat": 4,
 "nbformat_minor": 4
}
