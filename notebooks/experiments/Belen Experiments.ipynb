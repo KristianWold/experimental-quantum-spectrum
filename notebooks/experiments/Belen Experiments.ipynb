{
 "cells": [
  {
   "cell_type": "markdown",
   "metadata": {},
   "source": [
    "# NISQ Experiment"
   ]
  },
  {
   "cell_type": "code",
   "execution_count": 7,
   "metadata": {},
   "outputs": [],
   "source": [
    "import sys\n",
    "sys.path.insert(0, '../../src_tf/')\n",
    "\n",
    "import numpy as np\n",
    "import qiskit as qk\n",
    "import matplotlib.pyplot as plt\n",
    "import multiprocessing as mp\n",
    "import random\n",
    "import pickle\n",
    "\n",
    "from qiskit.quantum_info import DensityMatrix, random_unitary\n",
    "from qiskit.quantum_info import Operator\n",
    "from scipy.linalg import sqrtm\n",
    "from tqdm.notebook import tqdm\n",
    "\n",
    "from loss_functions import *\n",
    "from optimization import *\n",
    "from quantum_channel import *\n",
    "from quantum_tools import *\n",
    "from experimental import *\n",
    "from spam import *\n",
    "\n",
    "#np.set_printoptions(threshold=sys.maxsize)\n",
    "np.set_printoptions(precision=4)\n",
    "\n",
    "import os\n",
    "os.environ[\"CUDA_VISIBLE_DEVICES\"] = \"-1\""
   ]
  },
  {
   "cell_type": "code",
   "execution_count": 8,
   "metadata": {},
   "outputs": [],
   "source": [
    "from qiskit import QuantumRegister, ClassicalRegister, QuantumCircuit\n",
    "from qiskit.tools.visualization import circuit_drawer\n",
    "from qiskit.quantum_info import random_unitary, Operator"
   ]
  },
  {
   "cell_type": "code",
   "execution_count": 9,
   "metadata": {},
   "outputs": [],
   "source": [
    "#qk.IBMQ.save_account(\"a9ec3c697bede976217e9ff6c5c0f19a2511ea34a225bbe10f0c74bda39de845d16fa3f7c30b47c5714e2b695aded3cfd474e7c1b33056014fab89301b83d724\", overwrite=True) \n",
    "provider = qk.IBMQ.load_account()\n",
    "provider = qk.IBMQ.get_provider(hub='ibm-q', group='open', project='main')\n",
    "backend = provider.get_backend(\"ibmq_belem\")\n",
    "\n",
    "#backend = AerSimulator()"
   ]
  },
  {
   "cell_type": "code",
   "execution_count": 10,
   "metadata": {},
   "outputs": [],
   "source": [
    "def execute_and_collect(circuit_list, backend, file_name=None, shots=20000):\n",
    "    N = len(circuit_list)\n",
    "    num_batches = (N+500-1)//500\n",
    "    circuit_batch_list = [circuit_list[500*i: 500*(i+1)] for i in range(num_batches)]\n",
    "    counts_list = []\n",
    "    for i, circuit_batch in enumerate(tqdm(circuit_batch_list)):\n",
    "        num_parcels = (len(circuit_batch) + 100 - 1)//100\n",
    "        circuit_parcel_list = [circuit_batch[100*j: 100*(j+1)] for j in range(num_parcels)]\n",
    "        job_list = []\n",
    "        \n",
    "        for circuit_parcel in circuit_parcel_list:\n",
    "            trans_circ_list = qk.transpile(circuit_parcel, \n",
    "                                           backend, \n",
    "                                           optimization_level = 0, \n",
    "                                           seed_transpiler=42, \n",
    "                                           scheduling_method = 'asap') \n",
    "            job = backend.run(trans_circ_list, shots = shots)\n",
    "            job_list.append(job)\n",
    "        \n",
    "        result_list = []\n",
    "        for job in tqdm(job_list):\n",
    "            result_list.append(job.result())\n",
    "            \n",
    "        for result, circuit_parcel in zip(result_list, circuit_parcel_list):\n",
    "            counts_list.extend([result.get_counts(circuit) for circuit in circuit_parcel]) \n",
    "        \n",
    "    return counts_list  "
   ]
  },
  {
   "cell_type": "markdown",
   "metadata": {},
   "source": [
    "## Ring Disk Transition"
   ]
  },
  {
   "cell_type": "code",
   "execution_count": 5,
   "metadata": {},
   "outputs": [
    {
     "data": {
      "application/vnd.jupyter.widget-view+json": {
       "model_id": "4b286b0734bf45baba932c22af922599",
       "version_major": 2,
       "version_minor": 0
      },
      "text/plain": [
       "  0%|          | 0/4 [00:00<?, ?it/s]"
      ]
     },
     "metadata": {},
     "output_type": "display_data"
    },
    {
     "data": {
      "application/vnd.jupyter.widget-view+json": {
       "model_id": "617ab463c33a4714866a9ef1303172ba",
       "version_major": 2,
       "version_minor": 0
      },
      "text/plain": [
       "  0%|          | 0/5 [00:00<?, ?it/s]"
      ]
     },
     "metadata": {},
     "output_type": "display_data"
    },
    {
     "data": {
      "application/vnd.jupyter.widget-view+json": {
       "model_id": "2290be5f162a4672966c9892aaf307dc",
       "version_major": 2,
       "version_minor": 0
      },
      "text/plain": [
       "  0%|          | 0/5 [00:00<?, ?it/s]"
      ]
     },
     "metadata": {},
     "output_type": "display_data"
    },
    {
     "data": {
      "application/vnd.jupyter.widget-view+json": {
       "model_id": "5a1bbf46bc80470b8d00e563f230f2aa",
       "version_major": 2,
       "version_minor": 0
      },
      "text/plain": [
       "  0%|          | 0/5 [00:00<?, ?it/s]"
      ]
     },
     "metadata": {},
     "output_type": "display_data"
    },
    {
     "data": {
      "application/vnd.jupyter.widget-view+json": {
       "model_id": "152679f3e5994dd0b8294de6fc36a63b",
       "version_major": 2,
       "version_minor": 0
      },
      "text/plain": [
       "  0%|          | 0/5 [00:00<?, ?it/s]"
      ]
     },
     "metadata": {},
     "output_type": "display_data"
    },
    {
     "data": {
      "application/vnd.jupyter.widget-view+json": {
       "model_id": "bdaa69b5d076465584bf0223d2674d8b",
       "version_major": 2,
       "version_minor": 0
      },
      "text/plain": [
       "  0%|          | 0/4 [00:00<?, ?it/s]"
      ]
     },
     "metadata": {},
     "output_type": "display_data"
    },
    {
     "data": {
      "application/vnd.jupyter.widget-view+json": {
       "model_id": "36dd62e03032418c81ccd7303e3db292",
       "version_major": 2,
       "version_minor": 0
      },
      "text/plain": [
       "  0%|          | 0/5 [00:00<?, ?it/s]"
      ]
     },
     "metadata": {},
     "output_type": "display_data"
    },
    {
     "data": {
      "application/vnd.jupyter.widget-view+json": {
       "model_id": "f539b218f4e64797a4501eb446342f5d",
       "version_major": 2,
       "version_minor": 0
      },
      "text/plain": [
       "  0%|          | 0/5 [00:00<?, ?it/s]"
      ]
     },
     "metadata": {},
     "output_type": "display_data"
    },
    {
     "data": {
      "application/vnd.jupyter.widget-view+json": {
       "model_id": "9f39773606444320b801a1cec6e8efd6",
       "version_major": 2,
       "version_minor": 0
      },
      "text/plain": [
       "  0%|          | 0/5 [00:00<?, ?it/s]"
      ]
     },
     "metadata": {},
     "output_type": "display_data"
    },
    {
     "data": {
      "application/vnd.jupyter.widget-view+json": {
       "model_id": "7be2ae22a75d4aacb0eae9936b0ecbbb",
       "version_major": 2,
       "version_minor": 0
      },
      "text/plain": [
       "  0%|          | 0/5 [00:00<?, ?it/s]"
      ]
     },
     "metadata": {},
     "output_type": "display_data"
    }
   ],
   "source": [
    "backend = provider.get_backend(\"ibmq_belem\")\n",
    "\n",
    "n = 3\n",
    "d = 2**n\n",
    "\n",
    "np.random.seed(42)\n",
    "random.seed(42)\n",
    "\n",
    "for i in range(5):\n",
    "    circuit_target = pqc_basic(n, 8).reverse_bits()\n",
    "\n",
    "    N = 2000 - 6**n\n",
    "    inputs_map, circuit_list_map = generate_pauli_circuits(n, circuit_target, N)\n",
    "    inputs_spam, circuit_list_spam = generate_pauliInput_circuits(n)\n",
    "\n",
    "    circuit_list = circuit_list_map + circuit_list_spam\n",
    "    if i > 2:\n",
    "        counts_list = execute_and_collect(circuit_list, backend, shots = 1000)\n",
    "        data = [inputs_map, inputs_spam, counts_list]\n",
    "        pickle.dump(data, open(f\"../../data/threeQubits_PQC_noDelay_belem_{i}.p\", \"wb\"))"
   ]
  },
  {
   "cell_type": "code",
   "execution_count": 6,
   "metadata": {},
   "outputs": [
    {
     "data": {
      "application/vnd.jupyter.widget-view+json": {
       "model_id": "0eb55bda2cfb4b69aee9737861625519",
       "version_major": 2,
       "version_minor": 0
      },
      "text/plain": [
       "  0%|          | 0/4 [00:00<?, ?it/s]"
      ]
     },
     "metadata": {},
     "output_type": "display_data"
    },
    {
     "data": {
      "application/vnd.jupyter.widget-view+json": {
       "model_id": "3cf55a2c3ea2457dae958c663caba7f2",
       "version_major": 2,
       "version_minor": 0
      },
      "text/plain": [
       "  0%|          | 0/5 [00:00<?, ?it/s]"
      ]
     },
     "metadata": {},
     "output_type": "display_data"
    },
    {
     "data": {
      "application/vnd.jupyter.widget-view+json": {
       "model_id": "f26b7f0e957c4471b2f75e72d37019c9",
       "version_major": 2,
       "version_minor": 0
      },
      "text/plain": [
       "  0%|          | 0/5 [00:00<?, ?it/s]"
      ]
     },
     "metadata": {},
     "output_type": "display_data"
    },
    {
     "data": {
      "application/vnd.jupyter.widget-view+json": {
       "model_id": "f8435018874b4cafa20f4639cfe53f12",
       "version_major": 2,
       "version_minor": 0
      },
      "text/plain": [
       "  0%|          | 0/5 [00:00<?, ?it/s]"
      ]
     },
     "metadata": {},
     "output_type": "display_data"
    },
    {
     "data": {
      "application/vnd.jupyter.widget-view+json": {
       "model_id": "75dac2ce3cca430d93ba9eca91f344af",
       "version_major": 2,
       "version_minor": 0
      },
      "text/plain": [
       "  0%|          | 0/5 [00:00<?, ?it/s]"
      ]
     },
     "metadata": {},
     "output_type": "display_data"
    },
    {
     "data": {
      "application/vnd.jupyter.widget-view+json": {
       "model_id": "6a300e253187409791067ed62b1f83a4",
       "version_major": 2,
       "version_minor": 0
      },
      "text/plain": [
       "  0%|          | 0/4 [00:00<?, ?it/s]"
      ]
     },
     "metadata": {},
     "output_type": "display_data"
    },
    {
     "data": {
      "application/vnd.jupyter.widget-view+json": {
       "model_id": "7b511ddda8014988ae71c5d45092fdbe",
       "version_major": 2,
       "version_minor": 0
      },
      "text/plain": [
       "  0%|          | 0/5 [00:00<?, ?it/s]"
      ]
     },
     "metadata": {},
     "output_type": "display_data"
    },
    {
     "data": {
      "application/vnd.jupyter.widget-view+json": {
       "model_id": "3f9b5c792ef44f60b84ae55250d821c6",
       "version_major": 2,
       "version_minor": 0
      },
      "text/plain": [
       "  0%|          | 0/5 [00:00<?, ?it/s]"
      ]
     },
     "metadata": {},
     "output_type": "display_data"
    },
    {
     "data": {
      "application/vnd.jupyter.widget-view+json": {
       "model_id": "f068c9aeacaf4f3d8e1a914b515fc3de",
       "version_major": 2,
       "version_minor": 0
      },
      "text/plain": [
       "  0%|          | 0/5 [00:00<?, ?it/s]"
      ]
     },
     "metadata": {},
     "output_type": "display_data"
    },
    {
     "data": {
      "application/vnd.jupyter.widget-view+json": {
       "model_id": "c08822a1a1de4fd5a64d9601f97750f1",
       "version_major": 2,
       "version_minor": 0
      },
      "text/plain": [
       "  0%|          | 0/5 [00:00<?, ?it/s]"
      ]
     },
     "metadata": {},
     "output_type": "display_data"
    },
    {
     "data": {
      "application/vnd.jupyter.widget-view+json": {
       "model_id": "0682c9eea39d4431ad1825a8b406e14b",
       "version_major": 2,
       "version_minor": 0
      },
      "text/plain": [
       "  0%|          | 0/4 [00:00<?, ?it/s]"
      ]
     },
     "metadata": {},
     "output_type": "display_data"
    },
    {
     "data": {
      "application/vnd.jupyter.widget-view+json": {
       "model_id": "4894f4f71c5948beb24b2861a6afcc6c",
       "version_major": 2,
       "version_minor": 0
      },
      "text/plain": [
       "  0%|          | 0/5 [00:00<?, ?it/s]"
      ]
     },
     "metadata": {},
     "output_type": "display_data"
    },
    {
     "data": {
      "application/vnd.jupyter.widget-view+json": {
       "model_id": "ab7518a5bcdc41c79eb2b5cecad0da6d",
       "version_major": 2,
       "version_minor": 0
      },
      "text/plain": [
       "  0%|          | 0/5 [00:00<?, ?it/s]"
      ]
     },
     "metadata": {},
     "output_type": "display_data"
    },
    {
     "data": {
      "application/vnd.jupyter.widget-view+json": {
       "model_id": "9e8ca2f0d37e4de5a22ecb6dac30e0ec",
       "version_major": 2,
       "version_minor": 0
      },
      "text/plain": [
       "  0%|          | 0/5 [00:00<?, ?it/s]"
      ]
     },
     "metadata": {},
     "output_type": "display_data"
    },
    {
     "data": {
      "application/vnd.jupyter.widget-view+json": {
       "model_id": "6d5e591db236421881edc9b9769ac109",
       "version_major": 2,
       "version_minor": 0
      },
      "text/plain": [
       "  0%|          | 0/5 [00:00<?, ?it/s]"
      ]
     },
     "metadata": {},
     "output_type": "display_data"
    },
    {
     "data": {
      "application/vnd.jupyter.widget-view+json": {
       "model_id": "52b02984d6fe4e21bdac407a725bb2e9",
       "version_major": 2,
       "version_minor": 0
      },
      "text/plain": [
       "  0%|          | 0/4 [00:00<?, ?it/s]"
      ]
     },
     "metadata": {},
     "output_type": "display_data"
    },
    {
     "data": {
      "application/vnd.jupyter.widget-view+json": {
       "model_id": "33910154430c4551b03fd04ad25e4f41",
       "version_major": 2,
       "version_minor": 0
      },
      "text/plain": [
       "  0%|          | 0/5 [00:00<?, ?it/s]"
      ]
     },
     "metadata": {},
     "output_type": "display_data"
    },
    {
     "data": {
      "application/vnd.jupyter.widget-view+json": {
       "model_id": "ac4e8a821225486aa3ada1db87c60dc0",
       "version_major": 2,
       "version_minor": 0
      },
      "text/plain": [
       "  0%|          | 0/5 [00:00<?, ?it/s]"
      ]
     },
     "metadata": {},
     "output_type": "display_data"
    },
    {
     "data": {
      "application/vnd.jupyter.widget-view+json": {
       "model_id": "7372a66e8d214774af453eb1596f9136",
       "version_major": 2,
       "version_minor": 0
      },
      "text/plain": [
       "  0%|          | 0/5 [00:00<?, ?it/s]"
      ]
     },
     "metadata": {},
     "output_type": "display_data"
    },
    {
     "data": {
      "application/vnd.jupyter.widget-view+json": {
       "model_id": "ae845ab531564c8c9ffd2ef85ce877e2",
       "version_major": 2,
       "version_minor": 0
      },
      "text/plain": [
       "  0%|          | 0/5 [00:00<?, ?it/s]"
      ]
     },
     "metadata": {},
     "output_type": "display_data"
    },
    {
     "data": {
      "application/vnd.jupyter.widget-view+json": {
       "model_id": "c152860efac64747b39f027498e24944",
       "version_major": 2,
       "version_minor": 0
      },
      "text/plain": [
       "  0%|          | 0/4 [00:00<?, ?it/s]"
      ]
     },
     "metadata": {},
     "output_type": "display_data"
    },
    {
     "data": {
      "application/vnd.jupyter.widget-view+json": {
       "model_id": "fecdf5244c554797884698b0a8bf5467",
       "version_major": 2,
       "version_minor": 0
      },
      "text/plain": [
       "  0%|          | 0/5 [00:00<?, ?it/s]"
      ]
     },
     "metadata": {},
     "output_type": "display_data"
    },
    {
     "data": {
      "application/vnd.jupyter.widget-view+json": {
       "model_id": "ec125905de364284ae31f65ceb4eb65a",
       "version_major": 2,
       "version_minor": 0
      },
      "text/plain": [
       "  0%|          | 0/5 [00:00<?, ?it/s]"
      ]
     },
     "metadata": {},
     "output_type": "display_data"
    },
    {
     "data": {
      "application/vnd.jupyter.widget-view+json": {
       "model_id": "17a8ed5f4ff341e9804ea17173f70df1",
       "version_major": 2,
       "version_minor": 0
      },
      "text/plain": [
       "  0%|          | 0/5 [00:00<?, ?it/s]"
      ]
     },
     "metadata": {},
     "output_type": "display_data"
    },
    {
     "data": {
      "application/vnd.jupyter.widget-view+json": {
       "model_id": "8e7ae725277f47f19b2d85505cb3e83c",
       "version_major": 2,
       "version_minor": 0
      },
      "text/plain": [
       "  0%|          | 0/5 [00:00<?, ?it/s]"
      ]
     },
     "metadata": {},
     "output_type": "display_data"
    }
   ],
   "source": [
    "backend = provider.get_backend(\"ibmq_belem\")\n",
    "\n",
    "n = 3\n",
    "d = 2**n\n",
    "\n",
    "np.random.seed(42)\n",
    "random.seed(42)\n",
    "\n",
    "for i in range(5):\n",
    "    circuit_target = pqc_basic(n, 8).reverse_bits()\n",
    "    circuit_target.delay(5, unit=\"us\")\n",
    "\n",
    "    N = 2000 - 6**n\n",
    "    inputs_map, circuit_list_map = generate_pauli_circuits(n, circuit_target, N)\n",
    "    inputs_spam, circuit_list_spam = generate_pauliInput_circuits(n)\n",
    "\n",
    "    circuit_list = circuit_list_map + circuit_list_spam\n",
    "    \n",
    "    counts_list = execute_and_collect(circuit_list, backend, shots = 1000)\n",
    "    data = [inputs_map, inputs_spam, counts_list]\n",
    "    pickle.dump(data, open(f\"../../data/threeQubits_PQC_5usDelay_belem_{i}.p\", \"wb\"))"
   ]
  },
  {
   "cell_type": "code",
   "execution_count": 7,
   "metadata": {},
   "outputs": [
    {
     "data": {
      "application/vnd.jupyter.widget-view+json": {
       "model_id": "9f498ca84ab0400ba3ec0977bbeb7fb1",
       "version_major": 2,
       "version_minor": 0
      },
      "text/plain": [
       "  0%|          | 0/4 [00:00<?, ?it/s]"
      ]
     },
     "metadata": {},
     "output_type": "display_data"
    },
    {
     "data": {
      "application/vnd.jupyter.widget-view+json": {
       "model_id": "19a72b3ce2a84a97bd1ead552df50b25",
       "version_major": 2,
       "version_minor": 0
      },
      "text/plain": [
       "  0%|          | 0/5 [00:00<?, ?it/s]"
      ]
     },
     "metadata": {},
     "output_type": "display_data"
    },
    {
     "data": {
      "application/vnd.jupyter.widget-view+json": {
       "model_id": "57732d81c3584d46a667b68dcc4c8de7",
       "version_major": 2,
       "version_minor": 0
      },
      "text/plain": [
       "  0%|          | 0/5 [00:00<?, ?it/s]"
      ]
     },
     "metadata": {},
     "output_type": "display_data"
    },
    {
     "data": {
      "application/vnd.jupyter.widget-view+json": {
       "model_id": "e09e70d80d1e4326b3e216c3521469cb",
       "version_major": 2,
       "version_minor": 0
      },
      "text/plain": [
       "  0%|          | 0/5 [00:00<?, ?it/s]"
      ]
     },
     "metadata": {},
     "output_type": "display_data"
    },
    {
     "data": {
      "application/vnd.jupyter.widget-view+json": {
       "model_id": "bbe73106152940edbfd5f1c9dab6cba7",
       "version_major": 2,
       "version_minor": 0
      },
      "text/plain": [
       "  0%|          | 0/5 [00:00<?, ?it/s]"
      ]
     },
     "metadata": {},
     "output_type": "display_data"
    },
    {
     "data": {
      "application/vnd.jupyter.widget-view+json": {
       "model_id": "745e28063ef5403198899a54de2b64ac",
       "version_major": 2,
       "version_minor": 0
      },
      "text/plain": [
       "  0%|          | 0/4 [00:00<?, ?it/s]"
      ]
     },
     "metadata": {},
     "output_type": "display_data"
    },
    {
     "data": {
      "application/vnd.jupyter.widget-view+json": {
       "model_id": "7844e22837274375860ac6b189aef271",
       "version_major": 2,
       "version_minor": 0
      },
      "text/plain": [
       "  0%|          | 0/5 [00:00<?, ?it/s]"
      ]
     },
     "metadata": {},
     "output_type": "display_data"
    },
    {
     "data": {
      "application/vnd.jupyter.widget-view+json": {
       "model_id": "c6466be49f6c403ea65d40e6a2ec28fc",
       "version_major": 2,
       "version_minor": 0
      },
      "text/plain": [
       "  0%|          | 0/5 [00:00<?, ?it/s]"
      ]
     },
     "metadata": {},
     "output_type": "display_data"
    },
    {
     "data": {
      "application/vnd.jupyter.widget-view+json": {
       "model_id": "3e783d9b74c4435f9a627a35bd76e5bb",
       "version_major": 2,
       "version_minor": 0
      },
      "text/plain": [
       "  0%|          | 0/5 [00:00<?, ?it/s]"
      ]
     },
     "metadata": {},
     "output_type": "display_data"
    },
    {
     "data": {
      "application/vnd.jupyter.widget-view+json": {
       "model_id": "c5619f3cfe9a439c989a0bf59611636f",
       "version_major": 2,
       "version_minor": 0
      },
      "text/plain": [
       "  0%|          | 0/5 [00:00<?, ?it/s]"
      ]
     },
     "metadata": {},
     "output_type": "display_data"
    }
   ],
   "source": [
    "backend = provider.get_backend(\"ibmq_belem\")\n",
    "\n",
    "n = 3\n",
    "d = 2**n\n",
    "\n",
    "np.random.seed(42)\n",
    "random.seed(42)\n",
    "\n",
    "for i in range(5):\n",
    "    circuit_target = pqc_basic(n, 8).reverse_bits()\n",
    "    circuit_target.delay(10, unit=\"us\")\n",
    "\n",
    "    N = 2000 - 6**n\n",
    "    inputs_map, circuit_list_map = generate_pauli_circuits(n, circuit_target, N)\n",
    "    inputs_spam, circuit_list_spam = generate_pauliInput_circuits(n)\n",
    "\n",
    "    circuit_list = circuit_list_map + circuit_list_spam\n",
    "    \n",
    "    if i>2:\n",
    "        counts_list = execute_and_collect(circuit_list, backend, shots = 1000)\n",
    "        data = [inputs_map, inputs_spam, counts_list]\n",
    "        pickle.dump(data, open(f\"../../data/threeQubits_PQC_10usDelay_belem_{i}.p\", \"wb\"))"
   ]
  },
  {
   "cell_type": "code",
   "execution_count": 8,
   "metadata": {},
   "outputs": [
    {
     "data": {
      "application/vnd.jupyter.widget-view+json": {
       "model_id": "5cb7c95699a14953aba40708c35d50cd",
       "version_major": 2,
       "version_minor": 0
      },
      "text/plain": [
       "  0%|          | 0/4 [00:00<?, ?it/s]"
      ]
     },
     "metadata": {},
     "output_type": "display_data"
    },
    {
     "data": {
      "application/vnd.jupyter.widget-view+json": {
       "model_id": "75607be4085e4eeeaa25a1ee398feafe",
       "version_major": 2,
       "version_minor": 0
      },
      "text/plain": [
       "  0%|          | 0/5 [00:00<?, ?it/s]"
      ]
     },
     "metadata": {},
     "output_type": "display_data"
    },
    {
     "data": {
      "application/vnd.jupyter.widget-view+json": {
       "model_id": "1d456a0af5b64f909ef03a1608c20316",
       "version_major": 2,
       "version_minor": 0
      },
      "text/plain": [
       "  0%|          | 0/5 [00:00<?, ?it/s]"
      ]
     },
     "metadata": {},
     "output_type": "display_data"
    },
    {
     "data": {
      "application/vnd.jupyter.widget-view+json": {
       "model_id": "e053a2b3fba440d3a33cf15769484c97",
       "version_major": 2,
       "version_minor": 0
      },
      "text/plain": [
       "  0%|          | 0/5 [00:00<?, ?it/s]"
      ]
     },
     "metadata": {},
     "output_type": "display_data"
    },
    {
     "data": {
      "application/vnd.jupyter.widget-view+json": {
       "model_id": "24fe057c5fe6440b8dbd08e04cdcab5e",
       "version_major": 2,
       "version_minor": 0
      },
      "text/plain": [
       "  0%|          | 0/5 [00:00<?, ?it/s]"
      ]
     },
     "metadata": {},
     "output_type": "display_data"
    },
    {
     "data": {
      "application/vnd.jupyter.widget-view+json": {
       "model_id": "db44de96272442b0bd2cc4901bbcd2ee",
       "version_major": 2,
       "version_minor": 0
      },
      "text/plain": [
       "  0%|          | 0/4 [00:00<?, ?it/s]"
      ]
     },
     "metadata": {},
     "output_type": "display_data"
    },
    {
     "data": {
      "application/vnd.jupyter.widget-view+json": {
       "model_id": "b916ff4787754812b9e393e5e744c8b8",
       "version_major": 2,
       "version_minor": 0
      },
      "text/plain": [
       "  0%|          | 0/5 [00:00<?, ?it/s]"
      ]
     },
     "metadata": {},
     "output_type": "display_data"
    },
    {
     "data": {
      "application/vnd.jupyter.widget-view+json": {
       "model_id": "5f1cab69f5f94827b9e0255e7ee22e4f",
       "version_major": 2,
       "version_minor": 0
      },
      "text/plain": [
       "  0%|          | 0/5 [00:00<?, ?it/s]"
      ]
     },
     "metadata": {},
     "output_type": "display_data"
    },
    {
     "data": {
      "application/vnd.jupyter.widget-view+json": {
       "model_id": "b4fc7090dfbf4cbb857a0e40ed44e729",
       "version_major": 2,
       "version_minor": 0
      },
      "text/plain": [
       "  0%|          | 0/5 [00:00<?, ?it/s]"
      ]
     },
     "metadata": {},
     "output_type": "display_data"
    },
    {
     "data": {
      "application/vnd.jupyter.widget-view+json": {
       "model_id": "5ef5ab1c3eae48508b1013d2ed35f990",
       "version_major": 2,
       "version_minor": 0
      },
      "text/plain": [
       "  0%|          | 0/5 [00:00<?, ?it/s]"
      ]
     },
     "metadata": {},
     "output_type": "display_data"
    },
    {
     "data": {
      "application/vnd.jupyter.widget-view+json": {
       "model_id": "b8aebed58b5f4694ad7bacd8cd3ea69e",
       "version_major": 2,
       "version_minor": 0
      },
      "text/plain": [
       "  0%|          | 0/4 [00:00<?, ?it/s]"
      ]
     },
     "metadata": {},
     "output_type": "display_data"
    },
    {
     "data": {
      "application/vnd.jupyter.widget-view+json": {
       "model_id": "022463bacde44744b7c4a067a270d6d7",
       "version_major": 2,
       "version_minor": 0
      },
      "text/plain": [
       "  0%|          | 0/5 [00:00<?, ?it/s]"
      ]
     },
     "metadata": {},
     "output_type": "display_data"
    },
    {
     "data": {
      "application/vnd.jupyter.widget-view+json": {
       "model_id": "5c5577d9338c4bb1a504281536ab9a30",
       "version_major": 2,
       "version_minor": 0
      },
      "text/plain": [
       "  0%|          | 0/5 [00:00<?, ?it/s]"
      ]
     },
     "metadata": {},
     "output_type": "display_data"
    },
    {
     "data": {
      "application/vnd.jupyter.widget-view+json": {
       "model_id": "8d1fdb7c28b440219a95e6ae733e9ea4",
       "version_major": 2,
       "version_minor": 0
      },
      "text/plain": [
       "  0%|          | 0/5 [00:00<?, ?it/s]"
      ]
     },
     "metadata": {},
     "output_type": "display_data"
    },
    {
     "data": {
      "application/vnd.jupyter.widget-view+json": {
       "model_id": "2e8f8695ab18442f86822768853e4630",
       "version_major": 2,
       "version_minor": 0
      },
      "text/plain": [
       "  0%|          | 0/5 [00:00<?, ?it/s]"
      ]
     },
     "metadata": {},
     "output_type": "display_data"
    },
    {
     "data": {
      "application/vnd.jupyter.widget-view+json": {
       "model_id": "c3d0b0e5f1964d6a868421d494523510",
       "version_major": 2,
       "version_minor": 0
      },
      "text/plain": [
       "  0%|          | 0/4 [00:00<?, ?it/s]"
      ]
     },
     "metadata": {},
     "output_type": "display_data"
    },
    {
     "data": {
      "application/vnd.jupyter.widget-view+json": {
       "model_id": "66390595bd0f47848725c6a09d87d0be",
       "version_major": 2,
       "version_minor": 0
      },
      "text/plain": [
       "  0%|          | 0/5 [00:00<?, ?it/s]"
      ]
     },
     "metadata": {},
     "output_type": "display_data"
    },
    {
     "data": {
      "application/vnd.jupyter.widget-view+json": {
       "model_id": "21a48173f82c48659ee676fc6d58cabf",
       "version_major": 2,
       "version_minor": 0
      },
      "text/plain": [
       "  0%|          | 0/5 [00:00<?, ?it/s]"
      ]
     },
     "metadata": {},
     "output_type": "display_data"
    },
    {
     "data": {
      "application/vnd.jupyter.widget-view+json": {
       "model_id": "077bf30eac92418a87f168865778f493",
       "version_major": 2,
       "version_minor": 0
      },
      "text/plain": [
       "  0%|          | 0/5 [00:00<?, ?it/s]"
      ]
     },
     "metadata": {},
     "output_type": "display_data"
    },
    {
     "data": {
      "application/vnd.jupyter.widget-view+json": {
       "model_id": "38939d90cb1c4f03a21483dedb03ae6c",
       "version_major": 2,
       "version_minor": 0
      },
      "text/plain": [
       "  0%|          | 0/5 [00:00<?, ?it/s]"
      ]
     },
     "metadata": {},
     "output_type": "display_data"
    },
    {
     "data": {
      "application/vnd.jupyter.widget-view+json": {
       "model_id": "89bdc16a67d0445587df6ab1933441f8",
       "version_major": 2,
       "version_minor": 0
      },
      "text/plain": [
       "  0%|          | 0/4 [00:00<?, ?it/s]"
      ]
     },
     "metadata": {},
     "output_type": "display_data"
    },
    {
     "data": {
      "application/vnd.jupyter.widget-view+json": {
       "model_id": "c268838aa5fe4fafbc14a7e246ad3e19",
       "version_major": 2,
       "version_minor": 0
      },
      "text/plain": [
       "  0%|          | 0/5 [00:00<?, ?it/s]"
      ]
     },
     "metadata": {},
     "output_type": "display_data"
    },
    {
     "data": {
      "application/vnd.jupyter.widget-view+json": {
       "model_id": "71097e698d444fc49a4b6849cf2f1ca9",
       "version_major": 2,
       "version_minor": 0
      },
      "text/plain": [
       "  0%|          | 0/5 [00:00<?, ?it/s]"
      ]
     },
     "metadata": {},
     "output_type": "display_data"
    },
    {
     "data": {
      "application/vnd.jupyter.widget-view+json": {
       "model_id": "3836d81f696a41328a7d167781ff1101",
       "version_major": 2,
       "version_minor": 0
      },
      "text/plain": [
       "  0%|          | 0/5 [00:00<?, ?it/s]"
      ]
     },
     "metadata": {},
     "output_type": "display_data"
    },
    {
     "data": {
      "application/vnd.jupyter.widget-view+json": {
       "model_id": "d11f3dfd95ef4023830e670254876ebf",
       "version_major": 2,
       "version_minor": 0
      },
      "text/plain": [
       "  0%|          | 0/5 [00:00<?, ?it/s]"
      ]
     },
     "metadata": {},
     "output_type": "display_data"
    }
   ],
   "source": [
    "backend = provider.get_backend(\"ibmq_belem\")\n",
    "\n",
    "n = 3\n",
    "d = 2**n\n",
    "\n",
    "np.random.seed(42)\n",
    "random.seed(42)\n",
    "\n",
    "for i in range(5):\n",
    "    circuit_target = pqc_basic(n, 8).reverse_bits()\n",
    "    circuit_target.delay(15, unit=\"us\")\n",
    "\n",
    "    N = 2000 - 6**n\n",
    "    inputs_map, circuit_list_map = generate_pauli_circuits(n, circuit_target, N)\n",
    "    inputs_spam, circuit_list_spam = generate_pauliInput_circuits(n)\n",
    "\n",
    "    circuit_list = circuit_list_map + circuit_list_spam\n",
    "    \n",
    "    counts_list = execute_and_collect(circuit_list, backend, shots = 1000)\n",
    "    data = [inputs_map, inputs_spam, counts_list]\n",
    "    pickle.dump(data, open(f\"../../data/threeQubits_PQC_15usDelay_belem_{i}.p\", \"wb\"))"
   ]
  },
  {
   "cell_type": "code",
   "execution_count": null,
   "metadata": {},
   "outputs": [
    {
     "data": {
      "application/vnd.jupyter.widget-view+json": {
       "model_id": "16eb3cd8ab5b48d0a28fe38a20759bcb",
       "version_major": 2,
       "version_minor": 0
      },
      "text/plain": [
       "  0%|          | 0/4 [00:00<?, ?it/s]"
      ]
     },
     "metadata": {},
     "output_type": "display_data"
    },
    {
     "data": {
      "application/vnd.jupyter.widget-view+json": {
       "model_id": "e47d23ea6d6f4b11adb8a14f42dc8615",
       "version_major": 2,
       "version_minor": 0
      },
      "text/plain": [
       "  0%|          | 0/5 [00:00<?, ?it/s]"
      ]
     },
     "metadata": {},
     "output_type": "display_data"
    }
   ],
   "source": [
    "backend = provider.get_backend(\"ibmq_belem\")\n",
    "\n",
    "n = 3\n",
    "d = 2**n\n",
    "\n",
    "np.random.seed(42)\n",
    "random.seed(42)\n",
    "\n",
    "for i in range(5):\n",
    "    circuit_target = pqc_basic(n, 8).reverse_bits()\n",
    "    circuit_target.delay(20, unit=\"us\")\n",
    "\n",
    "    N = 2000 - 6**n\n",
    "    inputs_map, circuit_list_map = generate_pauli_circuits(n, circuit_target, N)\n",
    "    inputs_spam, circuit_list_spam = generate_pauliInput_circuits(n)\n",
    "\n",
    "    circuit_list = circuit_list_map + circuit_list_spam\n",
    "    if i>2:\n",
    "        counts_list = execute_and_collect(circuit_list, backend, shots = 1000)\n",
    "        data = [inputs_map, inputs_spam, counts_list]\n",
    "        pickle.dump(data, open(f\"../../data/threeQubits_PQC_20usDelay_belem_{i}_retry.p\", \"wb\"))"
   ]
  },
  {
   "cell_type": "code",
   "execution_count": 10,
   "metadata": {},
   "outputs": [
    {
     "data": {
      "application/vnd.jupyter.widget-view+json": {
       "model_id": "71e3c22cf3ff4e0c9dd8a7437285537b",
       "version_major": 2,
       "version_minor": 0
      },
      "text/plain": [
       "  0%|          | 0/4 [00:00<?, ?it/s]"
      ]
     },
     "metadata": {},
     "output_type": "display_data"
    },
    {
     "data": {
      "application/vnd.jupyter.widget-view+json": {
       "model_id": "c7c9a85915f241b9ad7c3eba794cad94",
       "version_major": 2,
       "version_minor": 0
      },
      "text/plain": [
       "  0%|          | 0/5 [00:00<?, ?it/s]"
      ]
     },
     "metadata": {},
     "output_type": "display_data"
    },
    {
     "data": {
      "application/vnd.jupyter.widget-view+json": {
       "model_id": "c5606628f7334b38820728a175f03609",
       "version_major": 2,
       "version_minor": 0
      },
      "text/plain": [
       "  0%|          | 0/5 [00:00<?, ?it/s]"
      ]
     },
     "metadata": {},
     "output_type": "display_data"
    },
    {
     "data": {
      "application/vnd.jupyter.widget-view+json": {
       "model_id": "5698d192d971441eb83efe40c78a1867",
       "version_major": 2,
       "version_minor": 0
      },
      "text/plain": [
       "  0%|          | 0/5 [00:00<?, ?it/s]"
      ]
     },
     "metadata": {},
     "output_type": "display_data"
    },
    {
     "data": {
      "application/vnd.jupyter.widget-view+json": {
       "model_id": "eb9a70a3ac7f4fe48b537efe3db87024",
       "version_major": 2,
       "version_minor": 0
      },
      "text/plain": [
       "  0%|          | 0/5 [00:00<?, ?it/s]"
      ]
     },
     "metadata": {},
     "output_type": "display_data"
    },
    {
     "data": {
      "application/vnd.jupyter.widget-view+json": {
       "model_id": "d9d4451ff00d4de1aa9f34acb0b4a865",
       "version_major": 2,
       "version_minor": 0
      },
      "text/plain": [
       "  0%|          | 0/4 [00:00<?, ?it/s]"
      ]
     },
     "metadata": {},
     "output_type": "display_data"
    },
    {
     "data": {
      "application/vnd.jupyter.widget-view+json": {
       "model_id": "db0f6a14182449de8c381e89870e9d75",
       "version_major": 2,
       "version_minor": 0
      },
      "text/plain": [
       "  0%|          | 0/5 [00:00<?, ?it/s]"
      ]
     },
     "metadata": {},
     "output_type": "display_data"
    },
    {
     "data": {
      "application/vnd.jupyter.widget-view+json": {
       "model_id": "2b030126a3724b24b52be64a7e1bf5bc",
       "version_major": 2,
       "version_minor": 0
      },
      "text/plain": [
       "  0%|          | 0/5 [00:00<?, ?it/s]"
      ]
     },
     "metadata": {},
     "output_type": "display_data"
    },
    {
     "data": {
      "application/vnd.jupyter.widget-view+json": {
       "model_id": "803089eb60254102abdc519c07261e5e",
       "version_major": 2,
       "version_minor": 0
      },
      "text/plain": [
       "  0%|          | 0/5 [00:00<?, ?it/s]"
      ]
     },
     "metadata": {},
     "output_type": "display_data"
    },
    {
     "data": {
      "application/vnd.jupyter.widget-view+json": {
       "model_id": "5f949e9089bf4844888bde5a629f6ff5",
       "version_major": 2,
       "version_minor": 0
      },
      "text/plain": [
       "  0%|          | 0/5 [00:00<?, ?it/s]"
      ]
     },
     "metadata": {},
     "output_type": "display_data"
    }
   ],
   "source": [
    "backend = provider.get_backend(\"ibmq_belem\")\n",
    "\n",
    "n = 3\n",
    "d = 2**n\n",
    "\n",
    "np.random.seed(42)\n",
    "random.seed(42)\n",
    "\n",
    "for i in range(5):\n",
    "    circuit_target = pqc_basic(n, 8).reverse_bits()\n",
    "    circuit_target.delay(25, unit=\"us\")\n",
    "\n",
    "    N = 2000 - 6**n\n",
    "    inputs_map, circuit_list_map = generate_pauli_circuits(n, circuit_target, N)\n",
    "    inputs_spam, circuit_list_spam = generate_pauliInput_circuits(n)\n",
    "\n",
    "    circuit_list = circuit_list_map + circuit_list_spam\n",
    "    if i>2:\n",
    "        counts_list = execute_and_collect(circuit_list, backend, shots = 1000)\n",
    "        data = [inputs_map, inputs_spam, counts_list]\n",
    "        pickle.dump(data, open(f\"../../data/threeQubits_PQC_25usDelay_belem_{i}.p\", \"wb\"))"
   ]
  },
  {
   "cell_type": "code",
   "execution_count": 6,
   "metadata": {},
   "outputs": [
    {
     "data": {
      "application/vnd.jupyter.widget-view+json": {
       "model_id": "a7a45e16419b48beaac419e95ab539a6",
       "version_major": 2,
       "version_minor": 0
      },
      "text/plain": [
       "  0%|          | 0/4 [00:00<?, ?it/s]"
      ]
     },
     "metadata": {},
     "output_type": "display_data"
    },
    {
     "data": {
      "application/vnd.jupyter.widget-view+json": {
       "model_id": "b5aca5f4e6d74765a20a0f07d97abd38",
       "version_major": 2,
       "version_minor": 0
      },
      "text/plain": [
       "  0%|          | 0/5 [00:00<?, ?it/s]"
      ]
     },
     "metadata": {},
     "output_type": "display_data"
    },
    {
     "data": {
      "application/vnd.jupyter.widget-view+json": {
       "model_id": "fc2cd4da176846efabeea564a210cd1f",
       "version_major": 2,
       "version_minor": 0
      },
      "text/plain": [
       "  0%|          | 0/5 [00:00<?, ?it/s]"
      ]
     },
     "metadata": {},
     "output_type": "display_data"
    },
    {
     "data": {
      "application/vnd.jupyter.widget-view+json": {
       "model_id": "661d51375eee467badf3ab33c89db7eb",
       "version_major": 2,
       "version_minor": 0
      },
      "text/plain": [
       "  0%|          | 0/5 [00:00<?, ?it/s]"
      ]
     },
     "metadata": {},
     "output_type": "display_data"
    },
    {
     "data": {
      "application/vnd.jupyter.widget-view+json": {
       "model_id": "2e62767456e843969ee38a3f75456bb9",
       "version_major": 2,
       "version_minor": 0
      },
      "text/plain": [
       "  0%|          | 0/5 [00:00<?, ?it/s]"
      ]
     },
     "metadata": {},
     "output_type": "display_data"
    },
    {
     "data": {
      "application/vnd.jupyter.widget-view+json": {
       "model_id": "6ebbf986340b4e61bbbdd0becd0f6311",
       "version_major": 2,
       "version_minor": 0
      },
      "text/plain": [
       "  0%|          | 0/4 [00:00<?, ?it/s]"
      ]
     },
     "metadata": {},
     "output_type": "display_data"
    },
    {
     "data": {
      "application/vnd.jupyter.widget-view+json": {
       "model_id": "ea79d99f67264170b8f1e58889301c8a",
       "version_major": 2,
       "version_minor": 0
      },
      "text/plain": [
       "  0%|          | 0/5 [00:00<?, ?it/s]"
      ]
     },
     "metadata": {},
     "output_type": "display_data"
    },
    {
     "data": {
      "application/vnd.jupyter.widget-view+json": {
       "model_id": "e2eb4fcd2b1340429e31637666a89dd2",
       "version_major": 2,
       "version_minor": 0
      },
      "text/plain": [
       "  0%|          | 0/5 [00:00<?, ?it/s]"
      ]
     },
     "metadata": {},
     "output_type": "display_data"
    },
    {
     "data": {
      "application/vnd.jupyter.widget-view+json": {
       "model_id": "393298306df042d4b05d482363bfa0de",
       "version_major": 2,
       "version_minor": 0
      },
      "text/plain": [
       "  0%|          | 0/5 [00:00<?, ?it/s]"
      ]
     },
     "metadata": {},
     "output_type": "display_data"
    },
    {
     "data": {
      "application/vnd.jupyter.widget-view+json": {
       "model_id": "9cc86ded289c49e4a413f1f0d2e28f16",
       "version_major": 2,
       "version_minor": 0
      },
      "text/plain": [
       "  0%|          | 0/5 [00:00<?, ?it/s]"
      ]
     },
     "metadata": {},
     "output_type": "display_data"
    },
    {
     "data": {
      "application/vnd.jupyter.widget-view+json": {
       "model_id": "1085bb72009c468e85f7d4b5e84aad64",
       "version_major": 2,
       "version_minor": 0
      },
      "text/plain": [
       "  0%|          | 0/4 [00:00<?, ?it/s]"
      ]
     },
     "metadata": {},
     "output_type": "display_data"
    },
    {
     "data": {
      "application/vnd.jupyter.widget-view+json": {
       "model_id": "966cfefc26a649af95c330fc7dfc3780",
       "version_major": 2,
       "version_minor": 0
      },
      "text/plain": [
       "  0%|          | 0/5 [00:00<?, ?it/s]"
      ]
     },
     "metadata": {},
     "output_type": "display_data"
    },
    {
     "data": {
      "application/vnd.jupyter.widget-view+json": {
       "model_id": "64f250360bcb45e5a585ca64032eaa11",
       "version_major": 2,
       "version_minor": 0
      },
      "text/plain": [
       "  0%|          | 0/5 [00:00<?, ?it/s]"
      ]
     },
     "metadata": {},
     "output_type": "display_data"
    },
    {
     "data": {
      "application/vnd.jupyter.widget-view+json": {
       "model_id": "46aa57dd8c2545b5b42d3fb879a9e354",
       "version_major": 2,
       "version_minor": 0
      },
      "text/plain": [
       "  0%|          | 0/5 [00:00<?, ?it/s]"
      ]
     },
     "metadata": {},
     "output_type": "display_data"
    },
    {
     "data": {
      "application/vnd.jupyter.widget-view+json": {
       "model_id": "68dc0b4de18b4ad5ad35016469b28073",
       "version_major": 2,
       "version_minor": 0
      },
      "text/plain": [
       "  0%|          | 0/5 [00:00<?, ?it/s]"
      ]
     },
     "metadata": {},
     "output_type": "display_data"
    }
   ],
   "source": [
    "backend = provider.get_backend(\"ibmq_belem\")\n",
    "\n",
    "n = 3\n",
    "d = 2**n\n",
    "\n",
    "np.random.seed(42)\n",
    "random.seed(42)\n",
    "\n",
    "for i in range(3):\n",
    "    circuit_target = pqc_basic(n, 8).reverse_bits()\n",
    "    circuit_target.delay(30, unit=\"us\")\n",
    "\n",
    "    N = 2000 - 6**n\n",
    "    inputs_map, circuit_list_map = generate_pauli_circuits(n, circuit_target, N)\n",
    "    inputs_spam, circuit_list_spam = generate_pauliInput_circuits(n)\n",
    "\n",
    "    circuit_list = circuit_list_map + circuit_list_spam\n",
    "\n",
    "    counts_list = execute_and_collect(circuit_list, backend, shots = 1000)\n",
    "    data = [inputs_map, inputs_spam, counts_list]\n",
    "    pickle.dump(data, open(f\"../../data/threeQubits_PQC_30usDelay_belem_{i}.p\", \"wb\"))"
   ]
  },
  {
   "cell_type": "code",
   "execution_count": 7,
   "metadata": {},
   "outputs": [
    {
     "data": {
      "application/vnd.jupyter.widget-view+json": {
       "model_id": "915ce1f243d545d5a18cd0644f737c36",
       "version_major": 2,
       "version_minor": 0
      },
      "text/plain": [
       "  0%|          | 0/4 [00:00<?, ?it/s]"
      ]
     },
     "metadata": {},
     "output_type": "display_data"
    },
    {
     "data": {
      "application/vnd.jupyter.widget-view+json": {
       "model_id": "0251f9aa85f64acb9f4a2a7dab4489bf",
       "version_major": 2,
       "version_minor": 0
      },
      "text/plain": [
       "  0%|          | 0/5 [00:00<?, ?it/s]"
      ]
     },
     "metadata": {},
     "output_type": "display_data"
    },
    {
     "data": {
      "application/vnd.jupyter.widget-view+json": {
       "model_id": "65065a8ed82f4a5084aa1ac22fd4c2f5",
       "version_major": 2,
       "version_minor": 0
      },
      "text/plain": [
       "  0%|          | 0/5 [00:00<?, ?it/s]"
      ]
     },
     "metadata": {},
     "output_type": "display_data"
    },
    {
     "data": {
      "application/vnd.jupyter.widget-view+json": {
       "model_id": "f7c66ab80a3d421ea725627fcb94b339",
       "version_major": 2,
       "version_minor": 0
      },
      "text/plain": [
       "  0%|          | 0/5 [00:00<?, ?it/s]"
      ]
     },
     "metadata": {},
     "output_type": "display_data"
    },
    {
     "data": {
      "application/vnd.jupyter.widget-view+json": {
       "model_id": "20ad4aa4ea2940798f1253754fc5410d",
       "version_major": 2,
       "version_minor": 0
      },
      "text/plain": [
       "  0%|          | 0/5 [00:00<?, ?it/s]"
      ]
     },
     "metadata": {},
     "output_type": "display_data"
    },
    {
     "data": {
      "application/vnd.jupyter.widget-view+json": {
       "model_id": "5b59ad121ec04fccb83d7499247b9016",
       "version_major": 2,
       "version_minor": 0
      },
      "text/plain": [
       "  0%|          | 0/4 [00:00<?, ?it/s]"
      ]
     },
     "metadata": {},
     "output_type": "display_data"
    },
    {
     "data": {
      "application/vnd.jupyter.widget-view+json": {
       "model_id": "3e938e3c466a4bceb0f847a880ab8508",
       "version_major": 2,
       "version_minor": 0
      },
      "text/plain": [
       "  0%|          | 0/5 [00:00<?, ?it/s]"
      ]
     },
     "metadata": {},
     "output_type": "display_data"
    },
    {
     "data": {
      "application/vnd.jupyter.widget-view+json": {
       "model_id": "804c7b532cae4fd48144a63566464f4d",
       "version_major": 2,
       "version_minor": 0
      },
      "text/plain": [
       "  0%|          | 0/5 [00:00<?, ?it/s]"
      ]
     },
     "metadata": {},
     "output_type": "display_data"
    },
    {
     "data": {
      "application/vnd.jupyter.widget-view+json": {
       "model_id": "52f9763f295049728b5ea79278316347",
       "version_major": 2,
       "version_minor": 0
      },
      "text/plain": [
       "  0%|          | 0/5 [00:00<?, ?it/s]"
      ]
     },
     "metadata": {},
     "output_type": "display_data"
    },
    {
     "data": {
      "application/vnd.jupyter.widget-view+json": {
       "model_id": "e53561a661a7400db4e120d833c48deb",
       "version_major": 2,
       "version_minor": 0
      },
      "text/plain": [
       "  0%|          | 0/5 [00:00<?, ?it/s]"
      ]
     },
     "metadata": {},
     "output_type": "display_data"
    },
    {
     "data": {
      "application/vnd.jupyter.widget-view+json": {
       "model_id": "15def66e602847a593d9799e81a36c44",
       "version_major": 2,
       "version_minor": 0
      },
      "text/plain": [
       "  0%|          | 0/4 [00:00<?, ?it/s]"
      ]
     },
     "metadata": {},
     "output_type": "display_data"
    },
    {
     "data": {
      "application/vnd.jupyter.widget-view+json": {
       "model_id": "9c789f258d804997b647236bdb8a19eb",
       "version_major": 2,
       "version_minor": 0
      },
      "text/plain": [
       "  0%|          | 0/5 [00:00<?, ?it/s]"
      ]
     },
     "metadata": {},
     "output_type": "display_data"
    },
    {
     "data": {
      "application/vnd.jupyter.widget-view+json": {
       "model_id": "1daddf91325646c9858ae1b5d1b47f74",
       "version_major": 2,
       "version_minor": 0
      },
      "text/plain": [
       "  0%|          | 0/5 [00:00<?, ?it/s]"
      ]
     },
     "metadata": {},
     "output_type": "display_data"
    },
    {
     "data": {
      "application/vnd.jupyter.widget-view+json": {
       "model_id": "bbdd825cf96e43c08236b33bbeee5760",
       "version_major": 2,
       "version_minor": 0
      },
      "text/plain": [
       "  0%|          | 0/5 [00:00<?, ?it/s]"
      ]
     },
     "metadata": {},
     "output_type": "display_data"
    },
    {
     "data": {
      "application/vnd.jupyter.widget-view+json": {
       "model_id": "325bf30183504615a5c0235b993593d0",
       "version_major": 2,
       "version_minor": 0
      },
      "text/plain": [
       "  0%|          | 0/5 [00:00<?, ?it/s]"
      ]
     },
     "metadata": {},
     "output_type": "display_data"
    }
   ],
   "source": [
    "backend = provider.get_backend(\"ibmq_belem\")\n",
    "\n",
    "n = 3\n",
    "d = 2**n\n",
    "\n",
    "np.random.seed(42)\n",
    "random.seed(42)\n",
    "\n",
    "for i in range(3):\n",
    "    circuit_target = pqc_basic(n, 8).reverse_bits()\n",
    "    circuit_target.delay(35, unit=\"us\")\n",
    "\n",
    "    N = 2000 - 6**n\n",
    "    inputs_map, circuit_list_map = generate_pauli_circuits(n, circuit_target, N)\n",
    "    inputs_spam, circuit_list_spam = generate_pauliInput_circuits(n)\n",
    "\n",
    "    circuit_list = circuit_list_map + circuit_list_spam\n",
    "\n",
    "    counts_list = execute_and_collect(circuit_list, backend, shots = 1000)\n",
    "    data = [inputs_map, inputs_spam, counts_list]\n",
    "    pickle.dump(data, open(f\"../../data/threeQubits_PQC_35usDelay_belem_{i}.p\", \"wb\"))"
   ]
  },
  {
   "cell_type": "code",
   "execution_count": 8,
   "metadata": {},
   "outputs": [
    {
     "data": {
      "application/vnd.jupyter.widget-view+json": {
       "model_id": "f57a711c20c143d88de8b7ceb35e189b",
       "version_major": 2,
       "version_minor": 0
      },
      "text/plain": [
       "  0%|          | 0/4 [00:00<?, ?it/s]"
      ]
     },
     "metadata": {},
     "output_type": "display_data"
    },
    {
     "data": {
      "application/vnd.jupyter.widget-view+json": {
       "model_id": "e173ae51920045dc8b38bbe1c0f6284e",
       "version_major": 2,
       "version_minor": 0
      },
      "text/plain": [
       "  0%|          | 0/5 [00:00<?, ?it/s]"
      ]
     },
     "metadata": {},
     "output_type": "display_data"
    },
    {
     "data": {
      "application/vnd.jupyter.widget-view+json": {
       "model_id": "af5ba6f9d2444712b1db89369c39e46f",
       "version_major": 2,
       "version_minor": 0
      },
      "text/plain": [
       "  0%|          | 0/5 [00:00<?, ?it/s]"
      ]
     },
     "metadata": {},
     "output_type": "display_data"
    },
    {
     "data": {
      "application/vnd.jupyter.widget-view+json": {
       "model_id": "7759516958ca486fb0ff9cbb942d4c7d",
       "version_major": 2,
       "version_minor": 0
      },
      "text/plain": [
       "  0%|          | 0/5 [00:00<?, ?it/s]"
      ]
     },
     "metadata": {},
     "output_type": "display_data"
    },
    {
     "data": {
      "application/vnd.jupyter.widget-view+json": {
       "model_id": "0f0817b3cd08442292669aa9f34e8e1d",
       "version_major": 2,
       "version_minor": 0
      },
      "text/plain": [
       "  0%|          | 0/5 [00:00<?, ?it/s]"
      ]
     },
     "metadata": {},
     "output_type": "display_data"
    },
    {
     "data": {
      "application/vnd.jupyter.widget-view+json": {
       "model_id": "96a8de6ea15743a98880d6e58cec9144",
       "version_major": 2,
       "version_minor": 0
      },
      "text/plain": [
       "  0%|          | 0/4 [00:00<?, ?it/s]"
      ]
     },
     "metadata": {},
     "output_type": "display_data"
    },
    {
     "data": {
      "application/vnd.jupyter.widget-view+json": {
       "model_id": "d8d0587a400d4285836dfd7d7c4ddf33",
       "version_major": 2,
       "version_minor": 0
      },
      "text/plain": [
       "  0%|          | 0/5 [00:00<?, ?it/s]"
      ]
     },
     "metadata": {},
     "output_type": "display_data"
    },
    {
     "data": {
      "application/vnd.jupyter.widget-view+json": {
       "model_id": "8a5ba9cc6158485fbb51cd73185606bf",
       "version_major": 2,
       "version_minor": 0
      },
      "text/plain": [
       "  0%|          | 0/5 [00:00<?, ?it/s]"
      ]
     },
     "metadata": {},
     "output_type": "display_data"
    },
    {
     "data": {
      "application/vnd.jupyter.widget-view+json": {
       "model_id": "d9d6f5c7c7634a42bb4b09560b2e4c69",
       "version_major": 2,
       "version_minor": 0
      },
      "text/plain": [
       "  0%|          | 0/5 [00:00<?, ?it/s]"
      ]
     },
     "metadata": {},
     "output_type": "display_data"
    },
    {
     "data": {
      "application/vnd.jupyter.widget-view+json": {
       "model_id": "74424b61ec3b4469a2b407b658f3a139",
       "version_major": 2,
       "version_minor": 0
      },
      "text/plain": [
       "  0%|          | 0/5 [00:00<?, ?it/s]"
      ]
     },
     "metadata": {},
     "output_type": "display_data"
    },
    {
     "data": {
      "application/vnd.jupyter.widget-view+json": {
       "model_id": "ace8220c41c54e04b1b515eed4587770",
       "version_major": 2,
       "version_minor": 0
      },
      "text/plain": [
       "  0%|          | 0/4 [00:00<?, ?it/s]"
      ]
     },
     "metadata": {},
     "output_type": "display_data"
    },
    {
     "data": {
      "application/vnd.jupyter.widget-view+json": {
       "model_id": "f2f847959d754c73a89c6857d712650f",
       "version_major": 2,
       "version_minor": 0
      },
      "text/plain": [
       "  0%|          | 0/5 [00:00<?, ?it/s]"
      ]
     },
     "metadata": {},
     "output_type": "display_data"
    },
    {
     "data": {
      "application/vnd.jupyter.widget-view+json": {
       "model_id": "c0715ba96f004459988e39fd6fb7cbd6",
       "version_major": 2,
       "version_minor": 0
      },
      "text/plain": [
       "  0%|          | 0/5 [00:00<?, ?it/s]"
      ]
     },
     "metadata": {},
     "output_type": "display_data"
    },
    {
     "data": {
      "application/vnd.jupyter.widget-view+json": {
       "model_id": "7ea1d7032efc4dd0a46d989d82789195",
       "version_major": 2,
       "version_minor": 0
      },
      "text/plain": [
       "  0%|          | 0/5 [00:00<?, ?it/s]"
      ]
     },
     "metadata": {},
     "output_type": "display_data"
    },
    {
     "data": {
      "application/vnd.jupyter.widget-view+json": {
       "model_id": "f42e7caf47384b0fbe001d6d92eda4d4",
       "version_major": 2,
       "version_minor": 0
      },
      "text/plain": [
       "  0%|          | 0/5 [00:00<?, ?it/s]"
      ]
     },
     "metadata": {},
     "output_type": "display_data"
    }
   ],
   "source": [
    "backend = provider.get_backend(\"ibmq_belem\")\n",
    "\n",
    "n = 3\n",
    "d = 2**n\n",
    "\n",
    "np.random.seed(42)\n",
    "random.seed(42)\n",
    "\n",
    "for i in range(3):\n",
    "    circuit_target = pqc_basic(n, 8).reverse_bits()\n",
    "    circuit_target.delay(40, unit=\"us\")\n",
    "\n",
    "    N = 2000 - 6**n\n",
    "    inputs_map, circuit_list_map = generate_pauli_circuits(n, circuit_target, N)\n",
    "    inputs_spam, circuit_list_spam = generate_pauliInput_circuits(n)\n",
    "\n",
    "    circuit_list = circuit_list_map + circuit_list_spam\n",
    "\n",
    "    counts_list = execute_and_collect(circuit_list, backend, shots = 1000)\n",
    "    data = [inputs_map, inputs_spam, counts_list]\n",
    "    pickle.dump(data, open(f\"../../data/threeQubits_PQC_40usDelay_belem_{i}.p\", \"wb\"))"
   ]
  },
  {
   "cell_type": "markdown",
   "metadata": {},
   "source": [
    "## Entangling Dissipation"
   ]
  },
  {
   "cell_type": "code",
   "execution_count": 11,
   "metadata": {},
   "outputs": [
    {
     "data": {
      "application/vnd.jupyter.widget-view+json": {
       "model_id": "6886a78f0d4f4f9b89ee9936f284dee8",
       "version_major": 2,
       "version_minor": 0
      },
      "text/plain": [
       "  0%|          | 0/4 [00:00<?, ?it/s]"
      ]
     },
     "metadata": {},
     "output_type": "display_data"
    },
    {
     "data": {
      "application/vnd.jupyter.widget-view+json": {
       "model_id": "489bfa638b5f4dd7805246d5291935d1",
       "version_major": 2,
       "version_minor": 0
      },
      "text/plain": [
       "  0%|          | 0/5 [00:00<?, ?it/s]"
      ]
     },
     "metadata": {},
     "output_type": "display_data"
    },
    {
     "data": {
      "application/vnd.jupyter.widget-view+json": {
       "model_id": "ffe1f65f23214794a987effc3360c420",
       "version_major": 2,
       "version_minor": 0
      },
      "text/plain": [
       "  0%|          | 0/5 [00:00<?, ?it/s]"
      ]
     },
     "metadata": {},
     "output_type": "display_data"
    },
    {
     "data": {
      "application/vnd.jupyter.widget-view+json": {
       "model_id": "3fa45686c3634c49b44da015072e30f9",
       "version_major": 2,
       "version_minor": 0
      },
      "text/plain": [
       "  0%|          | 0/5 [00:00<?, ?it/s]"
      ]
     },
     "metadata": {},
     "output_type": "display_data"
    },
    {
     "data": {
      "application/vnd.jupyter.widget-view+json": {
       "model_id": "f386d60ee60c4d2aa03c5c08e2b9a016",
       "version_major": 2,
       "version_minor": 0
      },
      "text/plain": [
       "  0%|          | 0/5 [00:00<?, ?it/s]"
      ]
     },
     "metadata": {},
     "output_type": "display_data"
    }
   ],
   "source": [
    "backend = provider.get_backend(\"ibmq_belem\")\n",
    "\n",
    "n = 3\n",
    "d = 2**n\n",
    "\n",
    "np.random.seed(42)\n",
    "random.seed(42)\n",
    "\n",
    "circuit_target = qk.QuantumCircuit(n)\n",
    "circuit_target.delay(10, unit=\"us\")\n",
    "\n",
    "N = 2000 - 6**n\n",
    "inputs_map, circuit_list_map = generate_pauli_circuits(n, circuit_target, N)\n",
    "inputs_spam, circuit_list_spam = generate_pauliInput_circuits(n)\n",
    "\n",
    "circuit_list = circuit_list_map + circuit_list_spam\n",
    "\n",
    "counts_list = execute_and_collect(circuit_list, backend, shots = 1000)\n",
    "data = [inputs_map, inputs_spam, counts_list]\n",
    "pickle.dump(data, open(f\"../../data/threeQubits_decay_belem.p\", \"wb\"))"
   ]
  },
  {
   "cell_type": "code",
   "execution_count": 4,
   "metadata": {},
   "outputs": [],
   "source": [
    "def regularized_fit(d, data, num_iter_spam=1000, num_iter_map=2000, N=500, weight=1, start = 1):\n",
    "    \n",
    "    inputs_spam, targets_spam, inputs_map, targets_map = data\n",
    "    \n",
    "    spam = SPAM(d=d, \n",
    "                use_corr_mat = True,\n",
    "                optimizer = tf.optimizers.Adam(learning_rate=0.01),\n",
    "                )\n",
    "    \n",
    "    spam.pretrain(targets = [init_ideal(d), povm_ideal(d)],\n",
    "                  num_iter = 300,\n",
    "                  verbose = False,\n",
    "                  )\n",
    "    \n",
    "    spam.train(inputs = inputs_spam,\n",
    "               targets = targets_spam,\n",
    "               num_iter = num_iter_spam,\n",
    "               verbose = False,\n",
    "              )\n",
    "    model_fullrank = ModelQuantumMap(channel = KrausMap(d=d, \n",
    "                                               rank=d**2,\n",
    "                                               spam = spam,\n",
    "                                               ),\n",
    "                                     loss_function = ProbabilityMSE(),\n",
    "                                     optimizer = tf.optimizers.Adam(learning_rate=0.01),\n",
    "                                     logger = Logger(loss_function = ProbabilityMSE(), verbose=False),\n",
    "                                    )\n",
    "\n",
    "    model_fullrank.train(inputs = inputs_map,\n",
    "                         targets = targets_map,\n",
    "                         num_iter = num_iter_map,\n",
    "                         N = N,\n",
    "                        )\n",
    "    \n",
    "    loss_ref = model_fullrank.logger.loss_train_list[-1]\n",
    "    \n",
    "    for rank in range(start, d**2):\n",
    "        if rank == start:\n",
    "            loss_prev = 1000\n",
    "            \n",
    "        model = ModelQuantumMap(channel = KrausMap(d=d, \n",
    "                                                   rank=rank,\n",
    "                                                   spam = spam,\n",
    "                                                  ),\n",
    "                               loss_function = ProbabilityMSE(),\n",
    "                               optimizer = tf.optimizers.Adam(learning_rate=0.01),\n",
    "                               logger = Logger(loss_function = ProbabilityMSE(), verbose=False),\n",
    "                               )\n",
    "\n",
    "        model.train(inputs = inputs_map,\n",
    "                    targets = targets_map,\n",
    "                    num_iter = num_iter_map,\n",
    "                    N = N,\n",
    "                    )\n",
    "        \n",
    "        loss = model.logger.loss_train_list[-1]\n",
    "        if (rank)/(rank-1) > (loss_prev - loss_ref)/(loss - loss_ref):\n",
    "            break\n",
    "        model_final = model\n",
    "        loss_prev = loss   \n",
    "    \n",
    "    return model_final"
   ]
  },
  {
   "cell_type": "code",
   "execution_count": 5,
   "metadata": {},
   "outputs": [
    {
     "ename": "NameError",
     "evalue": "name 'n' is not defined",
     "output_type": "error",
     "traceback": [
      "\u001b[1;31m---------------------------------------------------------------------------\u001b[0m",
      "\u001b[1;31mNameError\u001b[0m                                 Traceback (most recent call last)",
      "Input \u001b[1;32mIn [5]\u001b[0m, in \u001b[0;36m<cell line: 3>\u001b[1;34m()\u001b[0m\n\u001b[0;32m      1\u001b[0m inputs_map, inputs_spam, counts_list \u001b[38;5;241m=\u001b[39m  pickle\u001b[38;5;241m.\u001b[39mload(\u001b[38;5;28mopen\u001b[39m(\u001b[38;5;124mf\u001b[39m\u001b[38;5;124m\"\u001b[39m\u001b[38;5;124m../../data/threeQubits_decay_belem.p\u001b[39m\u001b[38;5;124m\"\u001b[39m, \u001b[38;5;124m\"\u001b[39m\u001b[38;5;124mrb\u001b[39m\u001b[38;5;124m\"\u001b[39m))\n\u001b[1;32m----> 3\u001b[0m targets_map \u001b[38;5;241m=\u001b[39m counts_to_probs(counts_list[:\u001b[38;5;241m2000\u001b[39m\u001b[38;5;241m-\u001b[39m\u001b[38;5;241m6\u001b[39m\u001b[38;5;241m*\u001b[39m\u001b[38;5;241m*\u001b[39m\u001b[43mn\u001b[49m])\n\u001b[0;32m      4\u001b[0m targets_spam \u001b[38;5;241m=\u001b[39m counts_to_probs(counts_list[\u001b[38;5;241m2000\u001b[39m\u001b[38;5;241m-\u001b[39m\u001b[38;5;241m6\u001b[39m\u001b[38;5;241m*\u001b[39m\u001b[38;5;241m*\u001b[39mn:])\n\u001b[0;32m      6\u001b[0m data \u001b[38;5;241m=\u001b[39m [inputs_spam, targets_spam, inputs_map, targets_map]\n",
      "\u001b[1;31mNameError\u001b[0m: name 'n' is not defined"
     ]
    }
   ],
   "source": [
    "inputs_map, inputs_spam, counts_list =  pickle.load(open(f\"../../data/threeQubits_decay_belem.p\", \"rb\"))\n",
    "\n",
    "targets_map = counts_to_probs(counts_list[:2000-6**n])\n",
    "targets_spam = counts_to_probs(counts_list[2000-6**n:])\n",
    "\n",
    "data = [inputs_spam, targets_spam, inputs_map, targets_map]\n",
    "\n",
    "np.random.seed(42)\n",
    "random.seed(42)\n",
    "tf.random.set_seed(42)\n",
    "\n",
    "model = regularized_fit(d, data, num_iter_spam=1000, num_iter_map = 2000, N = None, start = 17)"
   ]
  },
  {
   "cell_type": "code",
   "execution_count": 78,
   "metadata": {},
   "outputs": [
    {
     "name": "stdout",
     "output_type": "stream",
     "text": [
      "tf.Tensor(\n",
      "[-0.2121+0.j -0.0694+0.j  0.0055+0.j  0.0435+0.j  0.0703+0.j  0.1144+0.j\n",
      "  0.1877+0.j  0.3894+0.j], shape=(8,), dtype=complex128)\n"
     ]
    }
   ],
   "source": [
    "state = tf.convert_to_tensor(np.array([[0.5, 0.5], [0.5, 0.5]]), dtype=precision)\n",
    "state = tf.expand_dims(kron(state, state, state), axis=0)\n",
    "\n",
    "state = model.channel.apply_channel(state)\n",
    "state = tf.reshape(state, (2,2,4,4))\n",
    "state = tf.transpose(state, (1,0,2,3))\n",
    "state = tf.reshape(state, (8,8))\n",
    "\n",
    "eig, _ = tf.linalg.eigh(state)\n",
    "print(eig)"
   ]
  },
  {
   "cell_type": "code",
   "execution_count": 77,
   "metadata": {},
   "outputs": [
    {
     "name": "stdout",
     "output_type": "stream",
     "text": [
      "tf.Tensor(\n",
      "[ 7.6139e-04+1.4539e-20j  1.0415e-03+1.3740e-21j -1.3421e-03+5.7666e-19j\n",
      "  1.3967e-03+1.0867e-19j  4.4203e-03-8.6806e-19j -4.4697e-03-2.3583e-19j\n",
      "  7.7870e-03+9.7578e-19j  9.7727e-01-2.9049e-20j], shape=(8,), dtype=complex128)\n"
     ]
    }
   ],
   "source": [
    "state = tf.convert_to_tensor(np.array([[1, 0], [0, 0]]), dtype=precision)\n",
    "state = tf.expand_dims(kron(state, state, state), axis=0)\n",
    "\n",
    "state = model.channel.apply_channel(state)\n",
    "state = tf.reshape(state, (2,2,4,4))\n",
    "state = tf.transpose(state, (1,0,2,3))\n",
    "state = tf.reshape(state, (8,8))\n",
    "\n",
    "eig, _ = tf.linalg.eig(state)\n",
    "print(eig)"
   ]
  },
  {
   "cell_type": "markdown",
   "metadata": {},
   "source": [
    "## Optimize Input state "
   ]
  },
  {
   "cell_type": "code",
   "execution_count": 4,
   "metadata": {},
   "outputs": [],
   "source": [
    "X, A, B = generate_ginibre(2, 2, trainable=True)\n",
    "X, C, D = generate_ginibre(2, 2, trainable=True)\n",
    "X, E, F = generate_ginibre(2, 2, trainable=True)"
   ]
  },
  {
   "cell_type": "code",
   "execution_count": 5,
   "metadata": {},
   "outputs": [
    {
     "name": "stdout",
     "output_type": "stream",
     "text": [
      "0.0006237055620379971\n",
      "0.0005340414658832665\n",
      "0.0004557188425237486\n",
      "0.000387837368214807\n",
      "0.00032938779556171204\n",
      "0.00027934679717026413\n",
      "0.00023671845202870236\n",
      "0.00020055964038109172\n",
      "0.00016999629110870938\n",
      "0.00014423432811628897\n",
      "0.00012256392585051346\n",
      "0.0001043600580818109\n",
      "8.90789558231727e-05\n",
      "7.62525993799138e-05\n",
      "6.548182483002539e-05\n",
      "5.6428635314875045e-05\n",
      "4.880863300395511e-05\n",
      "4.2383599567991694e-05\n",
      "3.695480771408882e-05\n",
      "3.235688565899038e-05\n",
      "2.8452504108629892e-05\n",
      "2.5127732121152218e-05\n",
      "2.228813348199893e-05\n",
      "1.985542653553439e-05\n",
      "1.7764671122552393e-05\n",
      "1.596195309664974e-05\n",
      "1.4402466248229143e-05\n",
      "1.3048905561570872e-05\n",
      "1.187016189371973e-05\n",
      "1.0840233546819663e-05\n",
      "9.937349205682915e-06\n",
      "9.143233348467919e-06\n",
      "8.442506931151336e-06\n",
      "7.822193545790892e-06\n",
      "7.271321870631051e-06\n",
      "6.780587294306434e-06\n",
      "6.3420770071423176e-06\n",
      "5.949044898841166e-06\n",
      "5.595725922180791e-06\n",
      "5.277179740904281e-06\n",
      "4.98915685056034e-06\n",
      "4.727998121661722e-06\n",
      "4.490540091014145e-06\n",
      "4.274045423999261e-06\n",
      "4.0761364456733325e-06\n",
      "3.894742289114004e-06\n",
      "3.7280577055137587e-06\n",
      "3.574502887404869e-06\n",
      "3.4326930406274506e-06\n",
      "3.301411568956533e-06\n",
      "3.179588327881119e-06\n",
      "3.066277865219239e-06\n",
      "2.9606456473446507e-06\n",
      "2.8619512332510575e-06\n",
      "2.7695389764891224e-06\n",
      "2.6828248864797635e-06\n",
      "2.6012888544896676e-06\n",
      "2.5244675615383526e-06\n",
      "2.4519452670332195e-06\n",
      "2.3833532522574092e-06\n",
      "2.318357502750109e-06\n",
      "2.256660532592686e-06\n",
      "2.197992745616268e-06\n",
      "2.1421132199457415e-06\n",
      "2.0888052476025368e-06\n",
      "2.0378709220214716e-06\n",
      "1.989132968626928e-06\n",
      "1.9424303586044453e-06\n",
      "1.8976183612363407e-06\n",
      "1.8545638939712755e-06\n",
      "1.8131468761293928e-06\n",
      "1.7732574464073426e-06\n",
      "1.7347979641070825e-06\n",
      "1.6976757676898087e-06\n",
      "1.6618093514155485e-06\n",
      "1.6271228027524702e-06\n",
      "1.5935460606808174e-06\n",
      "1.561017150165516e-06\n",
      "1.5294764193395226e-06\n",
      "1.498871089845007e-06\n",
      "1.4691520367187465e-06\n",
      "1.4402737538447739e-06\n",
      "1.4121946610170472e-06\n",
      "1.3848753939266562e-06\n",
      "1.3582810787691393e-06\n",
      "1.3323787372132763e-06\n",
      "1.3071367839878256e-06\n",
      "1.2825271664674687e-06\n",
      "1.2585236817955282e-06\n",
      "1.2351012477919555e-06\n",
      "1.2122375208952507e-06\n",
      "1.1899106064464012e-06\n",
      "1.1681000543389647e-06\n",
      "1.1467873179831745e-06\n",
      "1.1259550644315416e-06\n",
      "1.1055857451269922e-06\n",
      "1.0856645274315489e-06\n",
      "1.0661762206199328e-06\n",
      "1.047106901039819e-06\n",
      "1.0284434523789323e-06\n",
      "1.0101734200461718e-06\n",
      "9.92284705582194e-07\n",
      "9.747661853084411e-07\n",
      "9.576074874971034e-07\n",
      "9.40797923932445e-07\n",
      "9.243283688301825e-07\n",
      "9.081887926922907e-07\n",
      "8.923709232404029e-07\n",
      "8.76865932301746e-07\n",
      "8.616656580503451e-07\n",
      "8.467625150195476e-07\n",
      "8.321491368230454e-07\n",
      "8.178177595170167e-07\n",
      "8.037616798013997e-07\n",
      "7.899742817938489e-07\n",
      "7.764493194624856e-07\n",
      "7.631802102160806e-07\n",
      "7.50161181736549e-07\n",
      "7.373866263629394e-07\n",
      "7.248506347136958e-07\n",
      "7.125475777659303e-07\n",
      "7.004726137129231e-07\n",
      "6.886206706649671e-07\n",
      "6.76986529847747e-07\n",
      "6.65565713029784e-07\n",
      "6.543535625755134e-07\n",
      "6.433453866552015e-07\n",
      "6.325366763614347e-07\n",
      "6.219233855194755e-07\n",
      "6.115013746388144e-07\n",
      "6.012666055249035e-07\n",
      "5.912149786372374e-07\n",
      "5.813430813957636e-07\n",
      "5.716468217103382e-07\n",
      "5.621228248852157e-07\n",
      "5.527670336388315e-07\n",
      "5.435768826701431e-07\n",
      "5.345481242528505e-07\n",
      "5.256780425309043e-07\n",
      "5.169632409833757e-07\n",
      "5.084008937093728e-07\n",
      "4.999876359869613e-07\n",
      "4.917205635683837e-07\n",
      "4.835970119831356e-07\n",
      "4.756138960563923e-07\n",
      "4.6776875934243256e-07\n",
      "4.600584952627999e-07\n",
      "4.5248095096823785e-07\n",
      "4.4503324945139803e-07\n",
      "4.377128581240919e-07\n",
      "4.305174413584193e-07\n",
      "4.234448191945931e-07\n",
      "4.16492300983968e-07\n",
      "4.096579481941062e-07\n",
      "4.029392957970634e-07\n",
      "3.9633410391431464e-07\n",
      "3.8984028834909504e-07\n",
      "3.8345566289266627e-07\n",
      "3.771784008071597e-07\n",
      "3.7100639145127186e-07\n",
      "3.649376735942894e-07\n",
      "3.589701999280972e-07\n",
      "3.5310224554100613e-07\n",
      "3.4733206388883275e-07\n",
      "3.4165758356069184e-07\n",
      "3.3607749801725724e-07\n",
      "3.3059003585912203e-07\n",
      "3.2519317785662035e-07\n",
      "3.198855147098838e-07\n",
      "3.1466533577883395e-07\n",
      "3.0953105186247123e-07\n",
      "3.0448136604340754e-07\n",
      "2.9951443540310976e-07\n",
      "2.946290287267698e-07\n",
      "2.8982347598052686e-07\n",
      "2.8509653478847264e-07\n",
      "2.804468210986403e-07\n",
      "2.7587266745065116e-07\n",
      "2.7137317637900675e-07\n",
      "2.6694672992529777e-07\n",
      "2.6259207217012357e-07\n",
      "2.583081421781026e-07\n",
      "2.5409358290905105e-07\n",
      "2.499470381439196e-07\n",
      "2.458678721366609e-07\n",
      "2.418544314841987e-07\n",
      "2.379055955048106e-07\n",
      "2.3402054570859057e-07\n",
      "2.3019810301238043e-07\n",
      "2.2643702561312852e-07\n",
      "2.2273620307115986e-07\n",
      "2.1909492359270898e-07\n",
      "2.1551216131082314e-07\n",
      "2.119866261504137e-07\n",
      "2.0851770377419798e-07\n",
      "2.0510410810870723e-07\n",
      "2.0174520891382546e-07\n",
      "1.9843982069271954e-07\n",
      "1.951872719313014e-07\n",
      "1.919864733085892e-07\n",
      "1.8883682102869726e-07\n",
      "1.8573727374151382e-07\n",
      "1.826871574703937e-07\n",
      "1.7968548070751924e-07\n",
      "1.7673162754521586e-07\n",
      "1.7382464086368255e-07\n",
      "1.70963766345171e-07\n",
      "1.6814844463194325e-07\n",
      "1.6537764925522104e-07\n",
      "1.6265085912124507e-07\n",
      "1.5996735365420338e-07\n",
      "1.5732629186022285e-07\n",
      "1.5472720922745788e-07\n",
      "1.5216919079077455e-07\n",
      "1.4965185034816816e-07\n",
      "1.4717424729703824e-07\n",
      "1.4473585839697435e-07\n",
      "1.4233607691211933e-07\n",
      "1.3997428803878714e-07\n",
      "1.3764988094403106e-07\n",
      "1.3536219844447265e-07\n",
      "1.3311074621125604e-07\n",
      "1.3089482921275683e-07\n",
      "1.2871405290263706e-07\n",
      "1.2656772787781538e-07\n",
      "1.244554014991587e-07\n",
      "1.2237647538020984e-07\n",
      "1.203303272835763e-07\n",
      "1.1831667972885503e-07\n",
      "1.1633477184251714e-07\n",
      "1.1438436454049257e-07\n",
      "1.1246471250079454e-07\n",
      "1.1057549064001844e-07\n",
      "1.0871628346443915e-07\n",
      "1.0688651138031157e-07\n",
      "1.0508566389369507e-07\n",
      "1.033132432994949e-07\n",
      "1.0156916516304557e-07\n",
      "9.98525840058159e-08\n",
      "9.816332489831583e-08\n",
      "9.650084508650958e-08\n",
      "9.486472478589754e-08\n",
      "9.325459735125489e-08\n",
      "9.166997218084469e-08\n",
      "9.011069567397702e-08\n",
      "8.857614928503032e-08\n",
      "8.706601977560375e-08\n",
      "8.55799779008491e-08\n",
      "8.411762089049828e-08\n",
      "8.267861236575215e-08\n",
      "8.126253315642457e-08\n",
      "7.986901457352466e-08\n",
      "7.849779862257668e-08\n",
      "7.714848029957004e-08\n",
      "7.582070839144724e-08\n",
      "7.451426419883285e-08\n",
      "7.32286837156427e-08\n",
      "7.196372784539069e-08\n",
      "7.071907239667001e-08\n",
      "6.949440826613175e-08\n",
      "6.828946458501213e-08\n",
      "6.710390389705977e-08\n",
      "6.593734314885763e-08\n",
      "6.478958856104907e-08\n",
      "6.366030733799357e-08\n",
      "6.254931318664148e-08\n",
      "6.145622353995144e-08\n",
      "6.0380798590602e-08\n",
      "5.9322743194520655e-08\n",
      "5.828192707128832e-08\n",
      "5.725794497367673e-08\n",
      "5.62506267331283e-08\n",
      "5.525964387583696e-08\n",
      "5.428484497732253e-08\n",
      "5.3325824374579225e-08\n",
      "5.2382384585864025e-08\n",
      "5.1454436244621486e-08\n",
      "5.054159914094413e-08\n",
      "4.964374575086359e-08\n",
      "4.876053328457434e-08\n",
      "4.7891732947810377e-08\n",
      "4.703727558690057e-08\n",
      "4.619683337668756e-08\n",
      "4.537023078945607e-08\n",
      "4.455724369404144e-08\n",
      "4.375765112151443e-08\n",
      "4.297129392713331e-08\n",
      "4.2197923944406555e-08\n",
      "4.143733219658888e-08\n",
      "4.0689396453982484e-08\n",
      "3.995379462164145e-08\n",
      "3.9230394672168555e-08\n",
      "3.8519113327015574e-08\n",
      "3.781963991018132e-08\n",
      "3.713184752309278e-08\n",
      "3.6455568540201026e-08\n",
      "3.5790573185069836e-08\n",
      "3.513670418879041e-08\n",
      "3.449382292200216e-08\n",
      "3.3861733775252755e-08\n",
      "3.324029818528079e-08\n",
      "3.262930154023024e-08\n",
      "3.202860879522249e-08\n",
      "3.143812931033903e-08\n",
      "3.085759961545429e-08\n",
      "3.0286919491283526e-08\n",
      "2.972594189140013e-08\n",
      "2.917445598456876e-08\n",
      "2.863240815902309e-08\n",
      "2.809958509951684e-08\n",
      "2.7575841944376548e-08\n",
      "2.7061079547857736e-08\n",
      "2.6555117964786064e-08\n",
      "2.6057753323076814e-08\n",
      "2.556900426502191e-08\n",
      "2.508868381945124e-08\n",
      "2.4616630147195724e-08\n",
      "2.4152688046583832e-08\n",
      "2.369677135958226e-08\n",
      "2.3248740054029593e-08\n",
      "2.2808490699651146e-08\n",
      "2.237588622897526e-08\n",
      "2.1950789371912872e-08\n",
      "2.1533105821203384e-08\n",
      "2.1122715844425477e-08\n",
      "2.071951505876604e-08\n",
      "2.032333180899452e-08\n",
      "1.9934136124475636e-08\n",
      "1.9551780541052765e-08\n",
      "1.917610850725217e-08\n",
      "1.8807068399718613e-08\n",
      "1.8444553111297857e-08\n",
      "1.808848909711524e-08\n",
      "1.773871900597497e-08\n",
      "1.7395139956073976e-08\n",
      "1.7057694311720434e-08\n",
      "1.672625565138052e-08\n"
     ]
    },
    {
     "ename": "KeyboardInterrupt",
     "evalue": "",
     "output_type": "error",
     "traceback": [
      "\u001b[1;31m---------------------------------------------------------------------------\u001b[0m",
      "\u001b[1;31mKeyboardInterrupt\u001b[0m                         Traceback (most recent call last)",
      "Input \u001b[1;32mIn [5]\u001b[0m, in \u001b[0;36m<cell line: 3>\u001b[1;34m()\u001b[0m\n\u001b[0;32m     23\u001b[0m \u001b[38;5;66;03m#state = model.channel.apply_channel(state)\u001b[39;00m\n\u001b[0;32m     24\u001b[0m state \u001b[38;5;241m=\u001b[39m partial_transpose(state, qubit\u001b[38;5;241m=\u001b[39m\u001b[38;5;241m0\u001b[39m)\n\u001b[1;32m---> 26\u001b[0m eig, _ \u001b[38;5;241m=\u001b[39m \u001b[43mtf\u001b[49m\u001b[38;5;241;43m.\u001b[39;49m\u001b[43mlinalg\u001b[49m\u001b[38;5;241;43m.\u001b[39;49m\u001b[43meigh\u001b[49m\u001b[43m(\u001b[49m\u001b[43mstate\u001b[49m\u001b[43m)\u001b[49m\n\u001b[0;32m     27\u001b[0m loss \u001b[38;5;241m=\u001b[39m tf\u001b[38;5;241m.\u001b[39mmath\u001b[38;5;241m.\u001b[39mreduce_min(tf\u001b[38;5;241m.\u001b[39mmath\u001b[38;5;241m.\u001b[39mreal(eig))\n\u001b[0;32m     28\u001b[0m grads \u001b[38;5;241m=\u001b[39m tape\u001b[38;5;241m.\u001b[39mgradient(loss, [A,B,C,D,E,F])\n",
      "File \u001b[1;32m~\\anaconda3\\envs\\env_qiskit\\lib\\site-packages\\tensorflow\\python\\util\\traceback_utils.py:150\u001b[0m, in \u001b[0;36mfilter_traceback.<locals>.error_handler\u001b[1;34m(*args, **kwargs)\u001b[0m\n\u001b[0;32m    148\u001b[0m filtered_tb \u001b[38;5;241m=\u001b[39m \u001b[38;5;28;01mNone\u001b[39;00m\n\u001b[0;32m    149\u001b[0m \u001b[38;5;28;01mtry\u001b[39;00m:\n\u001b[1;32m--> 150\u001b[0m   \u001b[38;5;28;01mreturn\u001b[39;00m fn(\u001b[38;5;241m*\u001b[39margs, \u001b[38;5;241m*\u001b[39m\u001b[38;5;241m*\u001b[39mkwargs)\n\u001b[0;32m    151\u001b[0m \u001b[38;5;28;01mexcept\u001b[39;00m \u001b[38;5;167;01mException\u001b[39;00m \u001b[38;5;28;01mas\u001b[39;00m e:\n\u001b[0;32m    152\u001b[0m   filtered_tb \u001b[38;5;241m=\u001b[39m _process_traceback_frames(e\u001b[38;5;241m.\u001b[39m__traceback__)\n",
      "File \u001b[1;32m~\\anaconda3\\envs\\env_qiskit\\lib\\site-packages\\tensorflow\\python\\util\\dispatch.py:1082\u001b[0m, in \u001b[0;36madd_dispatch_support.<locals>.decorator.<locals>.op_dispatch_handler\u001b[1;34m(*args, **kwargs)\u001b[0m\n\u001b[0;32m   1080\u001b[0m \u001b[38;5;66;03m# Fallback dispatch system (dispatch v1):\u001b[39;00m\n\u001b[0;32m   1081\u001b[0m \u001b[38;5;28;01mtry\u001b[39;00m:\n\u001b[1;32m-> 1082\u001b[0m   \u001b[38;5;28;01mreturn\u001b[39;00m dispatch_target(\u001b[38;5;241m*\u001b[39margs, \u001b[38;5;241m*\u001b[39m\u001b[38;5;241m*\u001b[39mkwargs)\n\u001b[0;32m   1083\u001b[0m \u001b[38;5;28;01mexcept\u001b[39;00m (\u001b[38;5;167;01mTypeError\u001b[39;00m, \u001b[38;5;167;01mValueError\u001b[39;00m):\n\u001b[0;32m   1084\u001b[0m   \u001b[38;5;66;03m# Note: convert_to_eager_tensor currently raises a ValueError, not a\u001b[39;00m\n\u001b[0;32m   1085\u001b[0m   \u001b[38;5;66;03m# TypeError, when given unexpected types.  So we need to catch both.\u001b[39;00m\n\u001b[0;32m   1086\u001b[0m   result \u001b[38;5;241m=\u001b[39m dispatch(op_dispatch_handler, args, kwargs)\n",
      "File \u001b[1;32m~\\anaconda3\\envs\\env_qiskit\\lib\\site-packages\\tensorflow\\python\\ops\\linalg_ops.py:456\u001b[0m, in \u001b[0;36mself_adjoint_eig\u001b[1;34m(tensor, name)\u001b[0m\n\u001b[0;32m    436\u001b[0m \u001b[38;5;129m@tf_export\u001b[39m(\u001b[38;5;124m'\u001b[39m\u001b[38;5;124mlinalg.eigh\u001b[39m\u001b[38;5;124m'\u001b[39m, v1\u001b[38;5;241m=\u001b[39m[\u001b[38;5;124m'\u001b[39m\u001b[38;5;124mlinalg.eigh\u001b[39m\u001b[38;5;124m'\u001b[39m, \u001b[38;5;124m'\u001b[39m\u001b[38;5;124mself_adjoint_eig\u001b[39m\u001b[38;5;124m'\u001b[39m])\n\u001b[0;32m    437\u001b[0m \u001b[38;5;129m@dispatch\u001b[39m\u001b[38;5;241m.\u001b[39madd_dispatch_support\n\u001b[0;32m    438\u001b[0m \u001b[38;5;129m@deprecation\u001b[39m\u001b[38;5;241m.\u001b[39mdeprecated_endpoints(\u001b[38;5;124m'\u001b[39m\u001b[38;5;124mself_adjoint_eig\u001b[39m\u001b[38;5;124m'\u001b[39m)\n\u001b[0;32m    439\u001b[0m \u001b[38;5;28;01mdef\u001b[39;00m \u001b[38;5;21mself_adjoint_eig\u001b[39m(tensor, name\u001b[38;5;241m=\u001b[39m\u001b[38;5;28;01mNone\u001b[39;00m):\n\u001b[0;32m    440\u001b[0m   \u001b[38;5;124;03m\"\"\"Computes the eigen decomposition of a batch of self-adjoint matrices.\u001b[39;00m\n\u001b[0;32m    441\u001b[0m \n\u001b[0;32m    442\u001b[0m \u001b[38;5;124;03m  Computes the eigenvalues and eigenvectors of the innermost N-by-N matrices\u001b[39;00m\n\u001b[1;32m   (...)\u001b[0m\n\u001b[0;32m    454\u001b[0m \u001b[38;5;124;03m      matrices contain eigenvectors of the corresponding matrices in `tensor`\u001b[39;00m\n\u001b[0;32m    455\u001b[0m \u001b[38;5;124;03m  \"\"\"\u001b[39;00m\n\u001b[1;32m--> 456\u001b[0m   e, v \u001b[38;5;241m=\u001b[39m \u001b[43mgen_linalg_ops\u001b[49m\u001b[38;5;241;43m.\u001b[39;49m\u001b[43mself_adjoint_eig_v2\u001b[49m\u001b[43m(\u001b[49m\u001b[43mtensor\u001b[49m\u001b[43m,\u001b[49m\u001b[43m \u001b[49m\u001b[43mcompute_v\u001b[49m\u001b[38;5;241;43m=\u001b[39;49m\u001b[38;5;28;43;01mTrue\u001b[39;49;00m\u001b[43m,\u001b[49m\u001b[43m \u001b[49m\u001b[43mname\u001b[49m\u001b[38;5;241;43m=\u001b[39;49m\u001b[43mname\u001b[49m\u001b[43m)\u001b[49m\n\u001b[0;32m    457\u001b[0m   \u001b[38;5;28;01mreturn\u001b[39;00m e, v\n",
      "File \u001b[1;32m~\\anaconda3\\envs\\env_qiskit\\lib\\site-packages\\tensorflow\\python\\ops\\gen_linalg_ops.py:2306\u001b[0m, in \u001b[0;36mself_adjoint_eig_v2\u001b[1;34m(input, compute_v, name)\u001b[0m\n\u001b[0;32m   2304\u001b[0m \u001b[38;5;28;01mif\u001b[39;00m tld\u001b[38;5;241m.\u001b[39mis_eager:\n\u001b[0;32m   2305\u001b[0m   \u001b[38;5;28;01mtry\u001b[39;00m:\n\u001b[1;32m-> 2306\u001b[0m     _result \u001b[38;5;241m=\u001b[39m \u001b[43mpywrap_tfe\u001b[49m\u001b[38;5;241;43m.\u001b[39;49m\u001b[43mTFE_Py_FastPathExecute\u001b[49m\u001b[43m(\u001b[49m\n\u001b[0;32m   2307\u001b[0m \u001b[43m      \u001b[49m\u001b[43m_ctx\u001b[49m\u001b[43m,\u001b[49m\u001b[43m \u001b[49m\u001b[38;5;124;43m\"\u001b[39;49m\u001b[38;5;124;43mSelfAdjointEigV2\u001b[39;49m\u001b[38;5;124;43m\"\u001b[39;49m\u001b[43m,\u001b[49m\u001b[43m \u001b[49m\u001b[43mname\u001b[49m\u001b[43m,\u001b[49m\u001b[43m \u001b[49m\u001b[38;5;28;43minput\u001b[39;49m\u001b[43m,\u001b[49m\u001b[43m \u001b[49m\u001b[38;5;124;43m\"\u001b[39;49m\u001b[38;5;124;43mcompute_v\u001b[39;49m\u001b[38;5;124;43m\"\u001b[39;49m\u001b[43m,\u001b[49m\u001b[43m \u001b[49m\u001b[43mcompute_v\u001b[49m\u001b[43m)\u001b[49m\n\u001b[0;32m   2308\u001b[0m     _result \u001b[38;5;241m=\u001b[39m _SelfAdjointEigV2Output\u001b[38;5;241m.\u001b[39m_make(_result)\n\u001b[0;32m   2309\u001b[0m     \u001b[38;5;28;01mreturn\u001b[39;00m _result\n",
      "\u001b[1;31mKeyboardInterrupt\u001b[0m: "
     ]
    }
   ],
   "source": [
    "optimizer = tf.optimizers.Adam(learning_rate=0.01)\n",
    "\n",
    "for i in range(2000):\n",
    "    with tf.GradientTape(watch_accessed_variables=False) as tape:\n",
    "        tape.watch([A,B,C,D,E,F])\n",
    "        \n",
    "        \n",
    "        X1 = tf.cast(A, dtype=precision) + 1j*tf.cast(B, dtype=precision)\n",
    "        XX1 = tf.matmul(X1, X1, adjoint_b=True)\n",
    "        XX1 = XX1/tf.linalg.trace(XX1)\n",
    "        \n",
    "        X2 = tf.cast(C, dtype=precision) + 1j*tf.cast(D, dtype=precision)\n",
    "        XX2 = tf.matmul(X2, X2, adjoint_b=True)\n",
    "        XX2 = XX2/tf.linalg.trace(XX2)\n",
    "        \n",
    "        X3 = tf.cast(E, dtype=precision) + 1j*tf.cast(F, dtype=precision)\n",
    "        XX3 = tf.matmul(X3, X3, adjoint_b=True)\n",
    "        XX3 = XX3/tf.linalg.trace(XX3)\n",
    "\n",
    "        \n",
    "        state = tf.expand_dims(kron(XX1,XX2,XX3), axis=0)\n",
    "\n",
    "        #state = model.channel.apply_channel(state)\n",
    "        state = partial_transpose(state, qubit=0)\n",
    "\n",
    "        eig, _ = tf.linalg.eigh(state)\n",
    "        loss = tf.math.reduce_min(tf.math.real(eig))\n",
    "        grads = tape.gradient(loss, [A,B,C,D,E,F])\n",
    "        optimizer.apply_gradients(zip(grads, [A,B,C,D,E,F]))\n",
    "        print(loss.numpy())"
   ]
  },
  {
   "cell_type": "code",
   "execution_count": 146,
   "metadata": {},
   "outputs": [],
   "source": [
    "state = kron(XX1,XX2,XX3)"
   ]
  },
  {
   "cell_type": "code",
   "execution_count": 147,
   "metadata": {},
   "outputs": [
    {
     "data": {
      "image/png": "[encoded data removed]",
      "text/plain": [
       "<Figure size 1800x1800 with 2 Axes>"
      ]
     },
     "metadata": {},
     "output_type": "display_data"
    }
   ],
   "source": [
    "fig = plt.figure(figsize=(6,6), dpi = 300, facecolor='w', edgecolor='k')\n",
    "plt.imshow(np.abs(state), cmap='hot', interpolation='nearest')\n",
    "plt.colorbar()\n",
    "plt.show()"
   ]
  },
  {
   "cell_type": "code",
   "execution_count": 148,
   "metadata": {},
   "outputs": [
    {
     "ename": "NameError",
     "evalue": "name 'reshuffle_choi' is not defined",
     "output_type": "error",
     "traceback": [
      "\u001b[1;31m---------------------------------------------------------------------------\u001b[0m",
      "\u001b[1;31mNameError\u001b[0m                                 Traceback (most recent call last)",
      "Input \u001b[1;32mIn [148]\u001b[0m, in \u001b[0;36m<cell line: 1>\u001b[1;34m()\u001b[0m\n\u001b[1;32m----> 1\u001b[0m steady_state \u001b[38;5;241m=\u001b[39m \u001b[43mchoi_steady_state\u001b[49m\u001b[43m(\u001b[49m\u001b[43mmodel\u001b[49m\u001b[38;5;241;43m.\u001b[39;49m\u001b[43mchannel\u001b[49m\u001b[38;5;241;43m.\u001b[39;49m\u001b[43mchoi\u001b[49m\u001b[43m)\u001b[49m\n",
      "File \u001b[1;32m~\\Documents\\ModelNISQ\\notebooks\\experiments\\../../src_tf\\quantum_channel.py:122\u001b[0m, in \u001b[0;36mchoi_steady_state\u001b[1;34m(choi)\u001b[0m\n\u001b[0;32m    117\u001b[0m     spectrum \u001b[38;5;241m=\u001b[39m tf\u001b[38;5;241m.\u001b[39mcast(tf\u001b[38;5;241m.\u001b[39mconvert_to_tensor(spectrum), dtype\u001b[38;5;241m=\u001b[39mprecision)\n\u001b[0;32m    119\u001b[0m     \u001b[38;5;28;01mreturn\u001b[39;00m spectrum\n\u001b[1;32m--> 122\u001b[0m \u001b[38;5;28;01mdef\u001b[39;00m \u001b[38;5;21mchannel_steady_state\u001b[39m(choi):\n\u001b[0;32m    123\u001b[0m     d \u001b[38;5;241m=\u001b[39m \u001b[38;5;28mint\u001b[39m(np\u001b[38;5;241m.\u001b[39msqrt(choi\u001b[38;5;241m.\u001b[39mshape[\u001b[38;5;241m0\u001b[39m]))\n\u001b[0;32m    124\u001b[0m     choi \u001b[38;5;241m=\u001b[39m reshuffle_choi(choi)\n",
      "\u001b[1;31mNameError\u001b[0m: name 'reshuffle_choi' is not defined"
     ]
    }
   ],
   "source": [
    "steady_state = choi_steady_state(model.channel.choi)"
   ]
  },
  {
   "cell_type": "code",
   "execution_count": null,
   "metadata": {},
   "outputs": [],
   "source": []
  }
 ],
 "metadata": {
  "kernelspec": {
   "display_name": "env_qiskit",
   "language": "python",
   "name": "env_qiskit"
  },
  "language_info": {
   "codemirror_mode": {
    "name": "ipython",
    "version": 3
   },
   "file_extension": ".py",
   "mimetype": "text/x-python",
   "name": "python",
   "nbconvert_exporter": "python",
   "pygments_lexer": "ipython3",
   "version": "3.10.4"
  }
 },
 "nbformat": 4,
 "nbformat_minor": 4
}
