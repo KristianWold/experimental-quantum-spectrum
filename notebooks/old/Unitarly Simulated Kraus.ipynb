{
 "cells": [
  {
   "cell_type": "markdown",
   "metadata": {},
   "source": [
    "# Unitarly Simulated Kraus"
   ]
  },
  {
   "cell_type": "code",
   "execution_count": 396,
   "metadata": {},
   "outputs": [],
   "source": [
    "import sys\n",
    "sys.path.insert(0, '../../src/')\n",
    "\n",
    "import numpy as np\n",
    "import qiskit as qk\n",
    "import matplotlib.pyplot as plt\n",
    "import multiprocessing as mp\n",
    "import random\n",
    "\n",
    "from src import *\n",
    "\n",
    "import pickle\n",
    "from qiskit.quantum_info import DensityMatrix\n",
    "from qiskit.quantum_info import Operator\n",
    "from scipy.linalg import sqrtm\n",
    "from tqdm.notebook import tqdm\n",
    "from qiskit.circuit.random import random_circuit\n",
    "from qiskit.providers.aer import QasmSimulator\n",
    "from qiskit.quantum_info import random_unitary, DensityMatrix, partial_trace\n",
    "\n",
    "\n",
    "np.set_printoptions(precision=3)"
   ]
  },
  {
   "cell_type": "markdown",
   "metadata": {},
   "source": [
    "## Choi Form "
   ]
  },
  {
   "cell_type": "code",
   "execution_count": 368,
   "metadata": {},
   "outputs": [
    {
     "name": "stdout",
     "output_type": "stream",
     "text": [
      "[[ 0.29789732+0.j          0.09618196+0.1026449j   0.00205687-0.09254756j\n",
      "  -0.13295524-0.11904842j]\n",
      " [ 0.09618196-0.1026449j   0.09787566+0.j          0.0392728 +0.06152911j\n",
      "  -0.11932904+0.00190739j]\n",
      " [ 0.00205687+0.09254756j  0.0392728 -0.06152911j  0.45656105+0.j\n",
      "  -0.05924704+0.04924282j]\n",
      " [-0.13295524+0.11904842j -0.11932904-0.00190739j -0.05924704-0.04924282j\n",
      "   0.14766597+0.j        ]]\n",
      "[[0.75269746+0.j         0.24302306+0.25935297j]\n",
      " [0.24302306-0.25935297j 0.24730254+0.j        ]]\n",
      "        ┌───┐                    \n",
      " q3399: ┤ H ├──■─────────────────\n",
      "        └───┘┌─┴─┐┌──────────┐ ░ \n",
      " q3400: ─────┤ X ├┤0         ├─░─\n",
      "             └───┘│  Unitary │ ░ \n",
      " q3401: ──────────┤1         ├─░─\n",
      "                  └──────────┘ ░ \n",
      "c250: 1/═════════════════════════\n",
      "                                 \n"
     ]
    }
   ],
   "source": [
    "n = 1\n",
    "m = 1\n",
    "backend = QasmSimulator()\n",
    "\n",
    "anc_reg = qk.QuantumRegister(n)\n",
    "rank_reg = qk.QuantumRegister(n)\n",
    "state_reg = qk.QuantumRegister(m)\n",
    "clas_reg = qk.ClassicalRegister(n)\n",
    "\n",
    "random.seed(42)\n",
    "np.random.seed(42)\n",
    "\n",
    "U = random_unitary(2**(m+n), seed = 42)\n",
    "circuit = qk.QuantumCircuit(anc_reg, rank_reg, state_reg, clas_reg)\n",
    "circuit.h(anc_reg)\n",
    "circuit.cx(anc_reg, rank_reg)\n",
    "\n",
    "\n",
    "circuit.append(U, [1, 2])\n",
    "circuit.save_density_matrix(qubits = [2, 1])\n",
    "\n",
    "job = qk.execute(circuit, backend, seed = 42, transpiler_seed = 42)\n",
    "density = job.result().data()['density_matrix'].data\n",
    "print(density)\n",
    "density = density[:2, :2]/np.trace(density[:2, :2])\n",
    "print(density)\n",
    "print(circuit)\n",
    "\n"
   ]
  },
  {
   "cell_type": "code",
   "execution_count": 364,
   "metadata": {},
   "outputs": [],
   "source": [
    "U_ = U.data\n",
    "d = 2**m\n",
    "rank = 2**n\n",
    "\n",
    "kraus_list = [U_[:rank, d*i:d*(i+1)] for i in range(rank)]"
   ]
  },
  {
   "cell_type": "code",
   "execution_count": 365,
   "metadata": {},
   "outputs": [],
   "source": [
    "state = np.array([[1, 0], [0, 0]])\n",
    "state = sum([K@state@K.T.conj() for K in kraus_list])"
   ]
  },
  {
   "cell_type": "code",
   "execution_count": 366,
   "metadata": {},
   "outputs": [
    {
     "name": "stdout",
     "output_type": "stream",
     "text": [
      "[[ 0.17186137+0.j         -0.13783648-0.09700634j]\n",
      " [-0.13783648+0.09700634j  0.89168424+0.j        ]]\n"
     ]
    }
   ],
   "source": [
    "print(state)"
   ]
  },
  {
   "cell_type": "markdown",
   "metadata": {},
   "source": [
    "## Manual"
   ]
  },
  {
   "cell_type": "code",
   "execution_count": 404,
   "metadata": {},
   "outputs": [
    {
     "name": "stdout",
     "output_type": "stream",
     "text": [
      "[[ 0.172+0.j    -0.138-0.097j]\n",
      " [-0.138+0.097j  0.892+0.j   ]]\n"
     ]
    }
   ],
   "source": [
    "n = 1\n",
    "m = 1\n",
    "\n",
    "d = 2**m\n",
    "rank = 2**n\n",
    "U = random_unitary(2**(m+n), seed = 42).data\n",
    "\n",
    "\n",
    "kraus_list = [U[:d, d*i:d*(i+1)] for i in range(rank)]\n",
    "state_init = np.zeros((2**m,  2**m))\n",
    "state_init[0, 0] = 1\n",
    "state = sum([K@state_init@K.T.conj() for K in kraus_list])\n",
    "print(state)"
   ]
  },
  {
   "cell_type": "code",
   "execution_count": 407,
   "metadata": {},
   "outputs": [
    {
     "name": "stdout",
     "output_type": "stream",
     "text": [
      "[[0.5 0.  0.  0. ]\n",
      " [0.  0.  0.  0. ]\n",
      " [0.  0.  0.5 0. ]\n",
      " [0.  0.  0.  0. ]]\n",
      "[[ 0.086+0.j    -0.069-0.049j  0.013+0.079j  0.111+0.098j]\n",
      " [-0.069+0.049j  0.446+0.j     0.044-0.102j  0.034+0.06j ]\n",
      " [ 0.013-0.079j  0.044+0.102j  0.109+0.j     0.148-0.044j]\n",
      " [ 0.111-0.098j  0.034-0.06j   0.148+0.044j  0.36 +0.j   ]]\n",
      "[[ 0.162+0.j    -0.13 -0.091j]\n",
      " [-0.13 +0.091j  0.838+0.j   ]]\n"
     ]
    }
   ],
   "source": [
    "state_init = np.zeros((2**m,2**m))\n",
    "state_init[0, 0] = 1\n",
    "\n",
    "state = 1/2**n*np.eye(2**n)\n",
    "state = np.kron(state, state_init)\n",
    "print(state)\n",
    "\n",
    "state = U@state@U.T.conj()\n",
    "print(state)\n",
    "state = state[:2**m, :2**m]/np.trace(state[:2**m, :2**m])\n",
    "print(state)"
   ]
  },
  {
   "cell_type": "code",
   "execution_count": null,
   "metadata": {},
   "outputs": [],
   "source": []
  },
  {
   "cell_type": "code",
   "execution_count": null,
   "metadata": {},
   "outputs": [],
   "source": []
  }
 ],
 "metadata": {
  "kernelspec": {
   "display_name": "qiskit",
   "language": "python",
   "name": "qiskit"
  },
  "language_info": {
   "codemirror_mode": {
    "name": "ipython",
    "version": 3
   },
   "file_extension": ".py",
   "mimetype": "text/x-python",
   "name": "python",
   "nbconvert_exporter": "python",
   "pygments_lexer": "ipython3",
   "version": "3.8.5"
  }
 },
 "nbformat": 4,
 "nbformat_minor": 4
}
