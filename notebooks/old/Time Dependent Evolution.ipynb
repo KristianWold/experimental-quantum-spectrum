{
 "cells": [
  {
   "attachments": {},
   "cell_type": "markdown",
   "metadata": {},
   "source": [
    "# Time Dependent Evolution"
   ]
  },
  {
   "cell_type": "code",
   "execution_count": 2,
   "metadata": {},
   "outputs": [],
   "source": [
    "import sys\n",
    "sys.path.insert(0, '../../src_tf/')\n",
    "\n",
    "import numpy as np\n",
    "import qiskit as qk\n",
    "import matplotlib.pyplot as plt\n",
    "import multiprocessing as mp\n",
    "import random\n",
    "import pickle\n",
    "\n",
    "from qiskit.quantum_info import DensityMatrix, random_unitary\n",
    "from qiskit.quantum_info import Operator\n",
    "from scipy.linalg import sqrtm\n",
    "from tqdm.notebook import tqdm\n",
    "\n",
    "from loss_functions import *\n",
    "from optimization import *\n",
    "from quantum_channel import *\n",
    "from kraus_channels import *\n",
    "from quantum_tools import *\n",
    "from experimental import *\n",
    "from spam import *\n",
    "from timedependent_channels import *\n",
    "\n",
    "#np.set_printoptions(threshold=sys.maxsize)\n",
    "np.set_printoptions(precision=5, suppress=True)\n",
    "\n",
    "import os\n",
    "os.environ[\"CUDA_VISIBLE_DEVICES\"] = \"-1\""
   ]
  },
  {
   "attachments": {},
   "cell_type": "markdown",
   "metadata": {},
   "source": [
    "## Interacting Hamiltonian"
   ]
  },
  {
   "cell_type": "code",
   "execution_count": null,
   "metadata": {},
   "outputs": [],
   "source": [
    "n = 2\n",
    "d = 2**n\n",
    "\n",
    "tf.random.set_seed(42)\n",
    "np.random.seed(42)\n",
    "\n",
    "H = SpinSpin()\n",
    "\n",
    "channel = MagnusPropagator(liouvillian=H, grid_size=10)\n",
    "state = np.zeros((d,d))\n",
    "state[1,1] = 1.\n",
    "state = tf.cast(state, dtype = precision)\n",
    "\n",
    "state = [state, np.pi/4]\n",
    "state1 = channel.apply_channel(state)\n",
    "print(state1)"
   ]
  },
  {
   "cell_type": "code",
   "execution_count": null,
   "metadata": {},
   "outputs": [],
   "source": [
    "n = 2\n",
    "d = 2**n\n",
    "\n",
    "\n",
    "tf.random.set_seed(42)\n",
    "np.random.seed(42)\n",
    "\n",
    "H = SpinSpin()\n",
    "\n",
    "channel = MagnusPropagator(liouvillian=H, grid_size=100)\n",
    "state = np.zeros((d,d))\n",
    "state[1,1] = 1.\n",
    "state = tf.cast(state, dtype = precision)\n",
    "\n",
    "state = [state, np.pi/4]\n",
    "state2 = channel.apply_channel(state)\n",
    "print(state2)"
   ]
  },
  {
   "cell_type": "code",
   "execution_count": null,
   "metadata": {},
   "outputs": [],
   "source": [
    "n = 2\n",
    "d = 2**n\n",
    "\n",
    "\n",
    "tf.random.set_seed(42)\n",
    "np.random.seed(42)\n",
    "\n",
    "H = SpinSpin()\n",
    "\n",
    "channel = MagnusPropagator(liouvillian=H, grid_size=1000)\n",
    "state = np.zeros((d,d))\n",
    "state[1,1] = 1.\n",
    "state = tf.cast(state, dtype = precision)\n",
    "\n",
    "state = [state, np.pi/4]\n",
    "state3 = channel.apply_channel(state)\n",
    "print(state3)"
   ]
  },
  {
   "cell_type": "code",
   "execution_count": null,
   "metadata": {},
   "outputs": [],
   "source": [
    "print(state1)\n",
    "print(state2)\n",
    "print(state3)"
   ]
  },
  {
   "cell_type": "code",
   "execution_count": 10,
   "metadata": {},
   "outputs": [
    {
     "name": "stdout",
     "output_type": "stream",
     "text": [
      "tf.Tensor(0.9678158706212285, shape=(), dtype=float64)\n"
     ]
    }
   ],
   "source": [
    "n = 2\n",
    "d = 2**n\n",
    "T = 0.05\n",
    "\n",
    "tf.random.set_seed(42)\n",
    "np.random.seed(42)\n",
    "\n",
    "H_target = SpinSpin()\n",
    "H_model = SpinSpin()\n",
    "\n",
    "channel_target = MagnusPropagator(liouvillian=H_target, grid_size=100)\n",
    "channel_model = MagnusPropagator(liouvillian=H_model, grid_size=100)\n",
    "print(state_fidelity(channel_target.choi(T), channel_model.choi(T))/16)"
   ]
  },
  {
   "cell_type": "code",
   "execution_count": 11,
   "metadata": {},
   "outputs": [
    {
     "data": {
      "application/vnd.jupyter.widget-view+json": {
       "model_id": "4f31b4d5d8c741b293f068548f6a2133",
       "version_major": 2,
       "version_minor": 0
      },
      "text/plain": [
       "  0%|          | 0/50 [00:00<?, ?it/s]"
      ]
     },
     "metadata": {},
     "output_type": "display_data"
    },
    {
     "name": "stdout",
     "output_type": "stream",
     "text": [
      "tf.Tensor(0.041980510352296205, shape=(), dtype=float64)\n",
      "tf.Tensor(0.03153378910415431, shape=(), dtype=float64)\n",
      "tf.Tensor(0.022601050537356355, shape=(), dtype=float64)\n",
      "tf.Tensor(0.01589844561388736, shape=(), dtype=float64)\n",
      "tf.Tensor(0.011070326460466701, shape=(), dtype=float64)\n",
      "tf.Tensor(0.007711375981659899, shape=(), dtype=float64)\n",
      "tf.Tensor(0.005582870899846097, shape=(), dtype=float64)\n",
      "tf.Tensor(0.004421527907266697, shape=(), dtype=float64)\n",
      "tf.Tensor(0.003925939299894242, shape=(), dtype=float64)\n",
      "tf.Tensor(0.003791788905127238, shape=(), dtype=float64)\n",
      "tf.Tensor(0.003798993939160887, shape=(), dtype=float64)\n",
      "tf.Tensor(0.0038328489870756567, shape=(), dtype=float64)\n",
      "tf.Tensor(0.0038384809793241713, shape=(), dtype=float64)\n",
      "tf.Tensor(0.0037774992658574777, shape=(), dtype=float64)\n",
      "tf.Tensor(0.0036115527625520203, shape=(), dtype=float64)\n",
      "tf.Tensor(0.0033195523590990412, shape=(), dtype=float64)\n",
      "tf.Tensor(0.0029173192042725865, shape=(), dtype=float64)\n",
      "tf.Tensor(0.002449901985024212, shape=(), dtype=float64)\n",
      "tf.Tensor(0.0019688615730907794, shape=(), dtype=float64)\n",
      "tf.Tensor(0.0015147420600070453, shape=(), dtype=float64)\n",
      "tf.Tensor(0.0011153784493310157, shape=(), dtype=float64)\n",
      "tf.Tensor(0.0007956306139557946, shape=(), dtype=float64)\n",
      "tf.Tensor(0.0005802223848554275, shape=(), dtype=float64)\n",
      "tf.Tensor(0.0004828951951207564, shape=(), dtype=float64)\n",
      "tf.Tensor(0.000493613789192156, shape=(), dtype=float64)\n",
      "tf.Tensor(0.0005773016511676557, shape=(), dtype=float64)\n",
      "tf.Tensor(0.0006875913696705293, shape=(), dtype=float64)\n",
      "tf.Tensor(0.0007852137302980149, shape=(), dtype=float64)\n",
      "tf.Tensor(0.0008471233147619994, shape=(), dtype=float64)\n",
      "tf.Tensor(0.0008641226194553125, shape=(), dtype=float64)\n",
      "tf.Tensor(0.0008350575805212378, shape=(), dtype=float64)\n"
     ]
    }
   ],
   "source": [
    "T = 0.01\n",
    "optimizer = tf.optimizers.Adam(learning_rate=0.1)\n",
    "\n",
    "for i in tqdm(range(50)):\n",
    "    with tf.GradientTape() as tape:\n",
    "        tape.watch(channel_model.parameter_list)\n",
    "        choi_target = channel_target.choi(T)\n",
    "        choi_model = channel_model.choi(T)\n",
    "        loss = tf.math.reduce_sum(tf.abs(choi_model - choi_target) ** 2)\n",
    "    \n",
    "    print(loss)\n",
    "    gradients = tape.gradient(loss, H_model.parameter_list)\n",
    "    optimizer.apply_gradients(zip(gradients, H_model.parameter_list))\n",
    "\n",
    "\n",
    "    "
   ]
  },
  {
   "cell_type": "code",
   "execution_count": 9,
   "metadata": {},
   "outputs": [
    {
     "name": "stdout",
     "output_type": "stream",
     "text": [
      "[<tf.Variable 'Variable:0' shape=() dtype=float32, numpy=0.2794181>\n",
      " <tf.Variable 'Variable:0' shape=() dtype=float32, numpy=0.048796043>\n",
      " <tf.Variable 'Variable:0' shape=() dtype=float32, numpy=-0.5486987>\n",
      " <tf.Variable 'Variable:0' shape=(3,) dtype=float32, numpy=array([ 0.63676, -0.03045, -0.07589], dtype=float32)>\n",
      " <tf.Variable 'Variable:0' shape=(3,) dtype=float32, numpy=array([-0.98515, -0.41528, -0.08934], dtype=float32)>\n",
      " <tf.Variable 'Variable:0' shape=(3,) dtype=float32, numpy=array([0.63115, 0.39971, 0.58182], dtype=float32)>\n",
      " <tf.Variable 'Variable:0' shape=(3,) dtype=float32, numpy=array([ 0.42818, -0.30391, -1.04652], dtype=float32)>]\n",
      "[<tf.Variable 'Variable:0' shape=() dtype=float32, numpy=0.3274685>\n",
      " <tf.Variable 'Variable:0' shape=() dtype=float32, numpy=0.08422458>\n",
      " <tf.Variable 'Variable:0' shape=() dtype=float32, numpy=-0.55909735>\n",
      " <tf.Variable 'Variable:0' shape=(3,) dtype=float32, numpy=array([ 0.65649, -0.41305,  0.33998], dtype=float32)>\n",
      " <tf.Variable 'Variable:0' shape=(3,) dtype=float32, numpy=array([ 0.00925, -0.66206, -0.74103], dtype=float32)>\n",
      " <tf.Variable 'Variable:0' shape=(3,) dtype=float32, numpy=array([0.03076, 0.29018, 1.28298], dtype=float32)>\n",
      " <tf.Variable 'Variable:0' shape=(3,) dtype=float32, numpy=array([-0.20061, -1.27359,  0.4841 ], dtype=float32)>]\n"
     ]
    },
    {
     "name": "stderr",
     "output_type": "stream",
     "text": [
      "C:\\Users\\krisw\\AppData\\Local\\Temp\\ipykernel_27088\\3311764538.py:1: VisibleDeprecationWarning: Creating an ndarray from ragged nested sequences (which is a list-or-tuple of lists-or-tuples-or ndarrays with different lengths or shapes) is deprecated. If you meant to do this, you must specify 'dtype=object' when creating the ndarray.\n",
      "  print(np.array(channel_model.parameter_list))\n",
      "C:\\Users\\krisw\\AppData\\Local\\Temp\\ipykernel_27088\\3311764538.py:2: VisibleDeprecationWarning: Creating an ndarray from ragged nested sequences (which is a list-or-tuple of lists-or-tuples-or ndarrays with different lengths or shapes) is deprecated. If you meant to do this, you must specify 'dtype=object' when creating the ndarray.\n",
      "  print(np.array(channel_target.parameter_list))\n"
     ]
    }
   ],
   "source": [
    "channel_target = MagnusPropagator(liouvillian=H_target, grid_size=100)\n",
    "channel_model = MagnusPropagator(liouvillian=H_model, grid_size=100)\n",
    "print(state_fidelity(channel_target.choi(T), channel_model.choi(T))/16)\n",
    "\n",
    "print([np.array(param) for param in channel_model.parameter_list])\n",
    "print([np.array(param) for param in channel_target.parameter_list])"
   ]
  }
 ],
 "metadata": {
  "kernelspec": {
   "display_name": "env_qiskit",
   "language": "python",
   "name": "env_qiskit"
  },
  "language_info": {
   "codemirror_mode": {
    "name": "ipython",
    "version": 3
   },
   "file_extension": ".py",
   "mimetype": "text/x-python",
   "name": "python",
   "nbconvert_exporter": "python",
   "pygments_lexer": "ipython3",
   "version": "3.10.4"
  }
 },
 "nbformat": 4,
 "nbformat_minor": 4
}
