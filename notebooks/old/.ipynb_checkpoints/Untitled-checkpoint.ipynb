{
 "cells": [
  {
   "cell_type": "code",
   "execution_count": 16,
   "id": "375f7d8b",
   "metadata": {},
   "outputs": [],
   "source": [
    "import qiskit as qk\n",
    "from qiskit.providers.aer import AerSimulator"
   ]
  },
  {
   "cell_type": "code",
   "execution_count": 17,
   "id": "e025747d",
   "metadata": {},
   "outputs": [
    {
     "name": "stderr",
     "output_type": "stream",
     "text": [
      "ibmqfactory.load_account:WARNING:2022-08-17 10:50:51,062: Credentials are already in use. The existing account in the session will be replaced.\n"
     ]
    }
   ],
   "source": [
    "#qk.IBMQ.save_account(\"66718f8f8aef22bcb6ebe86ad94a11f1fd1f4c55100829bb13f16e6b448e0a1ec6d09c459d738f58d0cbd8398a2a1f5e185a4706a61b6f896a5ce2983e136429\", overwrite=True) \n",
    "provider = qk.IBMQ.load_account()\n",
    "provider = qk.IBMQ.get_provider(hub='ibm-q', group='open', project='main')\n",
    "\n",
    "backend = provider.get_backend(\"ibmq_manila\")\n",
    "backend = AerSimulator()"
   ]
  },
  {
   "cell_type": "code",
   "execution_count": 20,
   "id": "d50fdd5d",
   "metadata": {},
   "outputs": [],
   "source": [
    "circuit_list = []\n",
    "\n",
    "for i in range(100):\n",
    "    qreg = qk.QuantumRegister(2)\n",
    "    creg = qk.ClassicalRegister(2)\n",
    "\n",
    "    circuit = qk.QuantumCircuit(qreg, creg)\n",
    "    circuit.h(0)\n",
    "    circuit.cnot(0, 1)\n",
    "    circuit.measure(qreg, creg)\n",
    "    \n",
    "    circuit_list.append(circuit)"
   ]
  },
  {
   "cell_type": "code",
   "execution_count": 23,
   "id": "d2bd9c5d",
   "metadata": {},
   "outputs": [],
   "source": [
    "job1 = qk.execute(circuit_list, shots=20000, backend=backend, seed_transpiler = 42)\n",
    "result1 = job1.result()\n",
    "\n",
    "job2 = qk.execute(circuit_list, shots=20000, backend=backend, seed_transpiler = 42)\n",
    "result2 = job2.result()\n",
    "\n",
    "\n",
    "counts_list = [result1.get_counts(circuit) for circuit in circuit_list]"
   ]
  },
  {
   "cell_type": "code",
   "execution_count": 32,
   "id": "9d9333c8",
   "metadata": {
    "scrolled": true
   },
   "outputs": [
    {
     "name": "stdout",
     "output_type": "stream",
     "text": [
      "10009\n"
     ]
    }
   ],
   "source": [
    "print(counts_list[7][\"11\"])"
   ]
  },
  {
   "cell_type": "code",
   "execution_count": null,
   "id": "357909cc",
   "metadata": {},
   "outputs": [],
   "source": []
  }
 ],
 "metadata": {
  "kernelspec": {
   "display_name": "env_qiskit",
   "language": "python",
   "name": "env_qiskit"
  },
  "language_info": {
   "codemirror_mode": {
    "name": "ipython",
    "version": 3
   },
   "file_extension": ".py",
   "mimetype": "text/x-python",
   "name": "python",
   "nbconvert_exporter": "python",
   "pygments_lexer": "ipython3",
   "version": "3.10.4"
  }
 },
 "nbformat": 4,
 "nbformat_minor": 5
}
