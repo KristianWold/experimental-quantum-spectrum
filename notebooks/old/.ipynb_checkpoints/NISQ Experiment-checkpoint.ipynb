{
 "cells": [
  {
   "cell_type": "markdown",
   "metadata": {},
   "source": [
    "# NISQ Experiment"
   ]
  },
  {
   "cell_type": "code",
   "execution_count": 1,
   "metadata": {},
   "outputs": [],
   "source": [
    "import sys\n",
    "sys.path.insert(0, '../../src_tf/')\n",
    "\n",
    "import numpy as np\n",
    "import qiskit as qk\n",
    "import matplotlib.pyplot as plt\n",
    "import multiprocessing as mp\n",
    "import random\n",
    "import pickle\n",
    "\n",
    "from qiskit.quantum_info import DensityMatrix, random_unitary\n",
    "from qiskit.quantum_info import Operator\n",
    "from scipy.linalg import sqrtm\n",
    "from tqdm.notebook import tqdm\n",
    "\n",
    "from loss_functions import *\n",
    "from optimization import *\n",
    "from quantum_channel import *\n",
    "from quantum_tools import *\n",
    "from experimental import *\n",
    "from spam import *\n",
    "\n",
    "#np.set_printoptions(threshold=sys.maxsize)\n",
    "np.set_printoptions(precision=4)\n",
    "\n",
    "import os\n",
    "os.environ[\"CUDA_VISIBLE_DEVICES\"] = \"-1\""
   ]
  },
  {
   "cell_type": "code",
   "execution_count": 2,
   "metadata": {},
   "outputs": [],
   "source": [
    "from qiskit import QuantumRegister, ClassicalRegister, QuantumCircuit\n",
    "from qiskit.tools.visualization import circuit_drawer\n",
    "from qiskit.quantum_info import random_unitary, Operator"
   ]
  },
  {
   "cell_type": "code",
   "execution_count": 3,
   "metadata": {},
   "outputs": [],
   "source": [
    "#qk.IBMQ.save_account(\"a9ec3c697bede976217e9ff6c5c0f19a2511ea34a225bbe10f0c74bda39de845d16fa3f7c30b47c5714e2b695aded3cfd474e7c1b33056014fab89301b83d724\", overwrite=True) \n",
    "provider = qk.IBMQ.load_account()\n",
    "provider = qk.IBMQ.get_provider(hub='ibm-q', group='open', project='main')\n",
    "backend = provider.get_backend(\"ibm_oslo\")\n",
    "\n",
    "#backend = AerSimulator()"
   ]
  },
  {
   "cell_type": "code",
   "execution_count": 4,
   "metadata": {},
   "outputs": [],
   "source": [
    "def execute_and_collect(circuit_list, backend, file_name, shots=20000):\n",
    "    N = len(circuit_list)\n",
    "    num_batches = (N+500-1)//500\n",
    "    circuit_batch_list = [circuit_list[500*i: 500*(i+1)] for i in range(num_batches)]\n",
    "    counts_list = []\n",
    "    for i, circuit_batch in enumerate(tqdm(circuit_batch_list)):\n",
    "        num_parcels = (len(circuit_batch) + 100 - 1)//100\n",
    "        circuit_parcel_list = [circuit_batch[100*j: 100*(j+1)] for j in range(num_parcels)]\n",
    "        job_list = []\n",
    "        \n",
    "        for circuit_parcel in circuit_parcel_list:\n",
    "            trans_circ_list = qk.transpile(circuit_parcel, \n",
    "                                           backend, \n",
    "                                           optimization_level = 0, \n",
    "                                           seed_transpiler=42, \n",
    "                                           scheduling_method = 'asap') \n",
    "            job = backend.run(trans_circ_list, shots = shots)\n",
    "            job_list.append(job)\n",
    "        \n",
    "        result_list = []\n",
    "        for job in tqdm(job_list):\n",
    "            result_list.append(job.result())\n",
    "            \n",
    "        for result, circuit_parcel in zip(result_list, circuit_parcel_list):\n",
    "            counts_list.extend([result.get_counts(circuit) for circuit in circuit_parcel])\n",
    "        \n",
    "        pickle.dump(counts_list, open(f\"../../data/{file_name}_{i}.p\", \"wb\"))   \n",
    "        \n",
    "    return counts_list  "
   ]
  },
  {
   "cell_type": "markdown",
   "metadata": {},
   "source": [
    "## Variational Circuit"
   ]
  },
  {
   "cell_type": "markdown",
   "metadata": {},
   "source": [
    "## One Layer"
   ]
  },
  {
   "cell_type": "code",
   "execution_count": 35,
   "metadata": {},
   "outputs": [],
   "source": [
    "n = 3\n",
    "d = 2**n\n",
    "\n",
    "np.random.seed(42)\n",
    "random.seed(42)\n",
    "\n",
    "circuit_target = variational_circuit(n, 1).reverse_bits()\n",
    "\n",
    "N = 1000-6**n\n",
    "input_map_list, circuit_list = generate_pauli_circuits(n, circuit_target, N)\n",
    "\n",
    "inputs_spam, circuit_spam = generate_pauliInput_circuits(n)\n",
    "\n",
    "circuit_list.extend(circuit_spam)"
   ]
  },
  {
   "cell_type": "code",
   "execution_count": 36,
   "metadata": {},
   "outputs": [
    {
     "name": "stdout",
     "output_type": "stream",
     "text": [
      "      ┌────────────┐ ┌─────────────┐     ┌───┐\n",
      "q_0: ─┤ Ry(1.4577) ├─┤ Rz(-2.1615) ├─────┤ X ├\n",
      "      ├────────────┤ ├─────────────┤┌───┐└─┬─┘\n",
      "q_1: ─┤ Ry(2.8319) ├─┤ Rz(-2.1613) ├┤ X ├──■──\n",
      "     ┌┴────────────┴┐├─────────────┤└─┬─┘     \n",
      "q_2: ┤ Ry(-0.78829) ├┤ Rz(0.61989) ├──■───────\n",
      "     └──────────────┘└─────────────┘          \n"
     ]
    }
   ],
   "source": [
    "print(circuit_target)"
   ]
  },
  {
   "cell_type": "code",
   "execution_count": 33,
   "metadata": {},
   "outputs": [
    {
     "data": {
      "application/vnd.jupyter.widget-view+json": {
       "model_id": "1aa96959496c4daa9f28a64035fc57df",
       "version_major": 2,
       "version_minor": 0
      },
      "text/plain": [
       "  0%|          | 0/2 [00:00<?, ?it/s]"
      ]
     },
     "metadata": {},
     "output_type": "display_data"
    },
    {
     "data": {
      "application/vnd.jupyter.widget-view+json": {
       "model_id": "c9028a8c4bd94fc9a382880fb9bed95c",
       "version_major": 2,
       "version_minor": 0
      },
      "text/plain": [
       "  0%|          | 0/5 [00:00<?, ?it/s]"
      ]
     },
     "metadata": {},
     "output_type": "display_data"
    },
    {
     "data": {
      "application/vnd.jupyter.widget-view+json": {
       "model_id": "dc4263395ad14c31a4b2127307745a96",
       "version_major": 2,
       "version_minor": 0
      },
      "text/plain": [
       "  0%|          | 0/5 [00:00<?, ?it/s]"
      ]
     },
     "metadata": {},
     "output_type": "display_data"
    }
   ],
   "source": [
    "counts_list = execute_and_collect(circuit_list, backend, 'threeQubits_variational')\n",
    "data = [input_map_list, inputs_spam, counts_list]\n",
    "pickle.dump(data, open(\"../../data/threeQubits_variational.p\", \"wb\"))"
   ]
  },
  {
   "cell_type": "markdown",
   "metadata": {},
   "source": [
    "## Two Layers"
   ]
  },
  {
   "cell_type": "code",
   "execution_count": 38,
   "metadata": {},
   "outputs": [],
   "source": [
    "n = 3\n",
    "d = 2**n\n",
    "\n",
    "np.random.seed(42)\n",
    "random.seed(42)\n",
    "\n",
    "circuit_target = variational_circuit(n, 2).reverse_bits()\n",
    "\n",
    "N = 1000-6**n\n",
    "input_map_list, circuit_list = generate_pauli_circuits(n, circuit_target, N)\n",
    "\n",
    "inputs_spam, circuit_spam = generate_pauliInput_circuits(n)\n",
    "\n",
    "circuit_list.extend(circuit_spam)"
   ]
  },
  {
   "cell_type": "code",
   "execution_count": 39,
   "metadata": {},
   "outputs": [
    {
     "name": "stdout",
     "output_type": "stream",
     "text": [
      "      ┌────────────┐ ┌─────────────┐          ┌───┐     ┌─────────────┐»\n",
      "q_0: ─┤ Ry(1.4577) ├─┤ Rz(-2.1615) ├──────────┤ X ├─────┤ Ry(0.63532) ├»\n",
      "      ├────────────┤ ├─────────────┤┌───┐     └─┬─┘     └┬────────────┤»\n",
      "q_1: ─┤ Ry(2.8319) ├─┤ Rz(-2.1613) ├┤ X ├───────■────────┤ Ry(2.3008) ├»\n",
      "     ┌┴────────────┴┐├─────────────┤└─┬─┘┌─────────────┐ ├────────────┤»\n",
      "q_2: ┤ Ry(-0.78829) ├┤ Rz(0.61989) ├──■──┤ Ry(-2.7766) ├─┤ Rz(1.3074) ├»\n",
      "     └──────────────┘└─────────────┘     └─────────────┘ └────────────┘»\n",
      "«      ┌────────────┐     ┌───┐\n",
      "«q_0: ─┤ Rz(2.9525) ├─────┤ X ├\n",
      "«     ┌┴────────────┤┌───┐└─┬─┘\n",
      "«q_1: ┤ Rz(-3.0123) ├┤ X ├──■──\n",
      "«     └─────────────┘└─┬─┘     \n",
      "«q_2: ─────────────────■───────\n",
      "«                              \n"
     ]
    }
   ],
   "source": [
    "print(circuit_target)"
   ]
  },
  {
   "cell_type": "code",
   "execution_count": 40,
   "metadata": {},
   "outputs": [
    {
     "data": {
      "application/vnd.jupyter.widget-view+json": {
       "model_id": "6b46de2197a74b31b002bdedfb2bd26a",
       "version_major": 2,
       "version_minor": 0
      },
      "text/plain": [
       "  0%|          | 0/2 [00:00<?, ?it/s]"
      ]
     },
     "metadata": {},
     "output_type": "display_data"
    },
    {
     "data": {
      "application/vnd.jupyter.widget-view+json": {
       "model_id": "52261d29a519481e87adf39f3dfbebe3",
       "version_major": 2,
       "version_minor": 0
      },
      "text/plain": [
       "  0%|          | 0/5 [00:00<?, ?it/s]"
      ]
     },
     "metadata": {},
     "output_type": "display_data"
    },
    {
     "data": {
      "application/vnd.jupyter.widget-view+json": {
       "model_id": "98bb9ab6ae8f4c4ca95fc09d23a8ff7f",
       "version_major": 2,
       "version_minor": 0
      },
      "text/plain": [
       "  0%|          | 0/5 [00:00<?, ?it/s]"
      ]
     },
     "metadata": {},
     "output_type": "display_data"
    }
   ],
   "source": [
    "counts_list = execute_and_collect(circuit_list, backend, 'threeQubits_variational_2')\n",
    "data = [input_map_list, inputs_spam, counts_list]\n",
    "pickle.dump(data, open(\"../../data/threeQubits_variational_2.p\", \"wb\"))"
   ]
  },
  {
   "cell_type": "markdown",
   "metadata": {},
   "source": [
    "## Three Layers"
   ]
  },
  {
   "cell_type": "code",
   "execution_count": null,
   "metadata": {},
   "outputs": [],
   "source": [
    "n = 3\n",
    "d = 2**n\n",
    "\n",
    "np.random.seed(42)\n",
    "random.seed(42)\n",
    "\n",
    "circuit_target = variational_circuit(n, 3).reverse_bits()\n",
    "\n",
    "N = 1000-6**n\n",
    "input_map_list, circuit_list = generate_pauli_circuits(n, circuit_target, N)\n",
    "\n",
    "inputs_spam, circuit_spam = generate_pauliInput_circuits(n)\n",
    "\n",
    "circuit_list.extend(circuit_spam)\n",
    "print(circuit_target)"
   ]
  },
  {
   "cell_type": "code",
   "execution_count": null,
   "metadata": {},
   "outputs": [],
   "source": [
    "counts_list = execute_and_collect(circuit_list, backend, 'threeQubits_variational_3')\n",
    "data = [input_map_list, inputs_spam, counts_list]\n",
    "pickle.dump(data, open(\"../../data/threeQubits_variational_3.p\", \"wb\"))"
   ]
  },
  {
   "cell_type": "markdown",
   "metadata": {},
   "source": [
    "## Four Layers"
   ]
  },
  {
   "cell_type": "code",
   "execution_count": 43,
   "metadata": {},
   "outputs": [
    {
     "name": "stdout",
     "output_type": "stream",
     "text": [
      "      ┌────────────┐ ┌─────────────┐          ┌───┐     ┌─────────────┐»\n",
      "q_0: ─┤ Ry(1.4577) ├─┤ Rz(-2.1615) ├──────────┤ X ├─────┤ Ry(0.63532) ├»\n",
      "      ├────────────┤ ├─────────────┤┌───┐     └─┬─┘     └┬────────────┤»\n",
      "q_1: ─┤ Ry(2.8319) ├─┤ Rz(-2.1613) ├┤ X ├───────■────────┤ Ry(2.3008) ├»\n",
      "     ┌┴────────────┴┐├─────────────┤└─┬─┘┌─────────────┐ ├────────────┤»\n",
      "q_2: ┤ Ry(-0.78829) ├┤ Rz(0.61989) ├──■──┤ Ry(-2.7766) ├─┤ Rz(1.3074) ├»\n",
      "     └──────────────┘└─────────────┘     └─────────────┘ └────────────┘»\n",
      "«      ┌────────────┐         ┌───┐     ┌─────────────┐┌─────────────┐     »\n",
      "«q_0: ─┤ Rz(2.9525) ├─────────┤ X ├─────┤ Ry(-1.9992) ├┤ Rz(0.15555) ├─────»\n",
      "«     ┌┴────────────┤┌───┐    └─┬─┘     ├─────────────┤└┬───────────┬┘┌───┐»\n",
      "«q_1: ┤ Rz(-3.0123) ├┤ X ├──────■───────┤ Ry(-1.8074) ├─┤ Rz(-1.23) ├─┤ X ├»\n",
      "«     └─────────────┘└─┬─┘┌────────────┐├─────────────┤ └───────────┘ └─┬─┘»\n",
      "«q_2: ─────────────────■──┤ Ry(2.0888) ├┤ Rz(-1.9892) ├─────────────────■──»\n",
      "«                         └────────────┘└─────────────┘                    »\n",
      "«          ┌───┐     ┌─────────────┐┌──────────────┐     ┌───┐\n",
      "«q_0: ─────┤ X ├─────┤ Ry(0.70279) ├┤ Rz(-0.83967) ├─────┤ X ├\n",
      "«          └─┬─┘     ├─────────────┤└┬────────────┬┘┌───┐└─┬─┘\n",
      "«q_1: ───────■───────┤ Ry(-1.3117) ├─┤ Rz(-1.306) ├─┤ X ├──■──\n",
      "«     ┌─────────────┐├─────────────┤ └────────────┘ └─┬─┘     \n",
      "«q_2: ┤ Ry(-0.4276) ├┤ Rz(-2.2651) ├──────────────────■───────\n",
      "«     └─────────────┘└─────────────┘                          \n"
     ]
    }
   ],
   "source": [
    "n = 3\n",
    "d = 2**n\n",
    "\n",
    "np.random.seed(42)\n",
    "random.seed(42)\n",
    "\n",
    "circuit_target = variational_circuit(n, 4).reverse_bits()\n",
    "\n",
    "N = 1000-6**n\n",
    "input_map_list, circuit_list = generate_pauli_circuits(n, circuit_target, N)\n",
    "\n",
    "inputs_spam, circuit_spam = generate_pauliInput_circuits(n)\n",
    "\n",
    "circuit_list.extend(circuit_spam)\n",
    "print(circuit_target)"
   ]
  },
  {
   "cell_type": "code",
   "execution_count": 44,
   "metadata": {},
   "outputs": [
    {
     "data": {
      "application/vnd.jupyter.widget-view+json": {
       "model_id": "1af72ee425354369b553b46bbd5131f3",
       "version_major": 2,
       "version_minor": 0
      },
      "text/plain": [
       "  0%|          | 0/2 [00:00<?, ?it/s]"
      ]
     },
     "metadata": {},
     "output_type": "display_data"
    },
    {
     "data": {
      "application/vnd.jupyter.widget-view+json": {
       "model_id": "3a1858c2846a4ddbaf4453f41a6291d4",
       "version_major": 2,
       "version_minor": 0
      },
      "text/plain": [
       "  0%|          | 0/5 [00:00<?, ?it/s]"
      ]
     },
     "metadata": {},
     "output_type": "display_data"
    },
    {
     "data": {
      "application/vnd.jupyter.widget-view+json": {
       "model_id": "015caf38cb674dd1bac54e7af157bc4e",
       "version_major": 2,
       "version_minor": 0
      },
      "text/plain": [
       "  0%|          | 0/5 [00:00<?, ?it/s]"
      ]
     },
     "metadata": {},
     "output_type": "display_data"
    }
   ],
   "source": [
    "counts_list = execute_and_collect(circuit_list, backend, 'threeQubits_variational_4')\n",
    "data = [input_map_list, inputs_spam, counts_list]\n",
    "pickle.dump(data, open(\"../../data/threeQubits_variational_4.p\", \"wb\"))"
   ]
  },
  {
   "cell_type": "markdown",
   "metadata": {},
   "source": [
    "## Six Layers"
   ]
  },
  {
   "cell_type": "code",
   "execution_count": 6,
   "metadata": {},
   "outputs": [
    {
     "name": "stdout",
     "output_type": "stream",
     "text": [
      "      ┌────────────┐ ┌─────────────┐          ┌───┐     ┌─────────────┐»\n",
      "q_0: ─┤ Ry(1.4577) ├─┤ Rz(-2.1615) ├──────────┤ X ├─────┤ Ry(0.63532) ├»\n",
      "      ├────────────┤ ├─────────────┤┌───┐     └─┬─┘     └┬────────────┤»\n",
      "q_1: ─┤ Ry(2.8319) ├─┤ Rz(-2.1613) ├┤ X ├───────■────────┤ Ry(2.3008) ├»\n",
      "     ┌┴────────────┴┐├─────────────┤└─┬─┘┌─────────────┐ ├────────────┤»\n",
      "q_2: ┤ Ry(-0.78829) ├┤ Rz(0.61989) ├──■──┤ Ry(-2.7766) ├─┤ Rz(1.3074) ├»\n",
      "     └──────────────┘└─────────────┘     └─────────────┘ └────────────┘»\n",
      "«      ┌────────────┐         ┌───┐     ┌─────────────┐┌─────────────┐     »\n",
      "«q_0: ─┤ Rz(2.9525) ├─────────┤ X ├─────┤ Ry(-1.9992) ├┤ Rz(0.15555) ├─────»\n",
      "«     ┌┴────────────┤┌───┐    └─┬─┘     ├─────────────┤└┬───────────┬┘┌───┐»\n",
      "«q_1: ┤ Rz(-3.0123) ├┤ X ├──────■───────┤ Ry(-1.8074) ├─┤ Rz(-1.23) ├─┤ X ├»\n",
      "«     └─────────────┘└─┬─┘┌────────────┐├─────────────┤ └───────────┘ └─┬─┘»\n",
      "«q_2: ─────────────────■──┤ Ry(2.0888) ├┤ Rz(-1.9892) ├─────────────────■──»\n",
      "«                         └────────────┘└─────────────┘                    »\n",
      "«          ┌───┐     ┌─────────────┐┌──────────────┐          ┌───┐      »\n",
      "«q_0: ─────┤ X ├─────┤ Ry(0.70279) ├┤ Rz(-0.83967) ├──────────┤ X ├──────»\n",
      "«          └─┬─┘     ├─────────────┤└┬────────────┬┘┌───┐     └─┬─┘      »\n",
      "«q_1: ───────■───────┤ Ry(-1.3117) ├─┤ Rz(-1.306) ├─┤ X ├───────■────────»\n",
      "«     ┌─────────────┐├─────────────┤ └────────────┘ └─┬─┘┌──────────────┐»\n",
      "«q_2: ┤ Ry(-0.4276) ├┤ Rz(-2.2651) ├──────────────────■──┤ Ry(-0.27602) ├»\n",
      "«     └─────────────┘└─────────────┘                     └──────────────┘»\n",
      "«      ┌────────────┐ ┌─────────────┐          ┌───┐     ┌─────────────┐»\n",
      "«q_0: ─┤ Ry(-1.887) ├─┤ Rz(-2.8497) ├──────────┤ X ├─────┤ Ry(-2.7329) ├»\n",
      "«      ├────────────┤ ├─────────────┤┌───┐     └─┬─┘     ├─────────────┤»\n",
      "«q_1: ─┤ Ry(1.7918) ├─┤ Rz(0.58066) ├┤ X ├───────■───────┤ Ry(-2.0702) ├»\n",
      "«     ┌┴────────────┴┐└─────────────┘└─┬─┘┌─────────────┐└┬────────────┤»\n",
      "«q_2: ┤ Rz(0.089438) ├─────────────────■──┤ Ry(0.67572) ├─┤ Rz(2.8204) ├»\n",
      "«     └──────────────┘                    └─────────────┘ └────────────┘»\n",
      "«     ┌────────────┐     ┌───┐\n",
      "«q_0: ┤ Rz(1.9377) ├─────┤ X ├\n",
      "«     ├────────────┤┌───┐└─┬─┘\n",
      "«q_1: ┤ Rz(2.9257) ├┤ X ├──■──\n",
      "«     └────────────┘└─┬─┘     \n",
      "«q_2: ────────────────■───────\n",
      "«                             \n"
     ]
    }
   ],
   "source": [
    "n = 3\n",
    "d = 2**n\n",
    "\n",
    "np.random.seed(42)\n",
    "random.seed(42)\n",
    "\n",
    "circuit_target = variational_circuit(n, 6).reverse_bits()\n",
    "\n",
    "N = 1000-6**n\n",
    "input_map_list, circuit_list = generate_pauli_circuits(n, circuit_target, N)\n",
    "\n",
    "inputs_spam, circuit_spam = generate_pauliInput_circuits(n)\n",
    "\n",
    "circuit_list.extend(circuit_spam)\n",
    "print(circuit_target)"
   ]
  },
  {
   "cell_type": "code",
   "execution_count": 7,
   "metadata": {},
   "outputs": [
    {
     "data": {
      "application/vnd.jupyter.widget-view+json": {
       "model_id": "362555be4dc645fb9017a6e574d8864c",
       "version_major": 2,
       "version_minor": 0
      },
      "text/plain": [
       "  0%|          | 0/2 [00:00<?, ?it/s]"
      ]
     },
     "metadata": {},
     "output_type": "display_data"
    },
    {
     "data": {
      "application/vnd.jupyter.widget-view+json": {
       "model_id": "85ccf37efe8f4132b61f0ce9d7e5f9bc",
       "version_major": 2,
       "version_minor": 0
      },
      "text/plain": [
       "  0%|          | 0/5 [00:00<?, ?it/s]"
      ]
     },
     "metadata": {},
     "output_type": "display_data"
    },
    {
     "data": {
      "application/vnd.jupyter.widget-view+json": {
       "model_id": "5f0e6d16d02b4f738da1b09e0dff7059",
       "version_major": 2,
       "version_minor": 0
      },
      "text/plain": [
       "  0%|          | 0/5 [00:00<?, ?it/s]"
      ]
     },
     "metadata": {},
     "output_type": "display_data"
    }
   ],
   "source": [
    "counts_list = execute_and_collect(circuit_list, backend, 'threeQubits_variational_6')\n",
    "data = [input_map_list, inputs_spam, counts_list]\n",
    "pickle.dump(data, open(\"../../data/threeQubits_variational_6.p\", \"wb\"))"
   ]
  },
  {
   "cell_type": "markdown",
   "metadata": {},
   "source": [
    "## Nine Layers"
   ]
  },
  {
   "cell_type": "code",
   "execution_count": 8,
   "metadata": {},
   "outputs": [
    {
     "name": "stdout",
     "output_type": "stream",
     "text": [
      "      ┌────────────┐ ┌─────────────┐          ┌───┐     ┌─────────────┐»\n",
      "q_0: ─┤ Ry(1.4577) ├─┤ Rz(-2.1615) ├──────────┤ X ├─────┤ Ry(0.63532) ├»\n",
      "      ├────────────┤ ├─────────────┤┌───┐     └─┬─┘     └┬────────────┤»\n",
      "q_1: ─┤ Ry(2.8319) ├─┤ Rz(-2.1613) ├┤ X ├───────■────────┤ Ry(2.3008) ├»\n",
      "     ┌┴────────────┴┐├─────────────┤└─┬─┘┌─────────────┐ ├────────────┤»\n",
      "q_2: ┤ Ry(-0.78829) ├┤ Rz(0.61989) ├──■──┤ Ry(-2.7766) ├─┤ Rz(1.3074) ├»\n",
      "     └──────────────┘└─────────────┘     └─────────────┘ └────────────┘»\n",
      "«      ┌────────────┐         ┌───┐     ┌─────────────┐┌─────────────┐     »\n",
      "«q_0: ─┤ Rz(2.9525) ├─────────┤ X ├─────┤ Ry(-1.9992) ├┤ Rz(0.15555) ├─────»\n",
      "«     ┌┴────────────┤┌───┐    └─┬─┘     ├─────────────┤└┬───────────┬┘┌───┐»\n",
      "«q_1: ┤ Rz(-3.0123) ├┤ X ├──────■───────┤ Ry(-1.8074) ├─┤ Rz(-1.23) ├─┤ X ├»\n",
      "«     └─────────────┘└─┬─┘┌────────────┐├─────────────┤ └───────────┘ └─┬─┘»\n",
      "«q_2: ─────────────────■──┤ Ry(2.0888) ├┤ Rz(-1.9892) ├─────────────────■──»\n",
      "«                         └────────────┘└─────────────┘                    »\n",
      "«          ┌───┐     ┌─────────────┐┌──────────────┐          ┌───┐      »\n",
      "«q_0: ─────┤ X ├─────┤ Ry(0.70279) ├┤ Rz(-0.83967) ├──────────┤ X ├──────»\n",
      "«          └─┬─┘     ├─────────────┤└┬────────────┬┘┌───┐     └─┬─┘      »\n",
      "«q_1: ───────■───────┤ Ry(-1.3117) ├─┤ Rz(-1.306) ├─┤ X ├───────■────────»\n",
      "«     ┌─────────────┐├─────────────┤ └────────────┘ └─┬─┘┌──────────────┐»\n",
      "«q_2: ┤ Ry(-0.4276) ├┤ Rz(-2.2651) ├──────────────────■──┤ Ry(-0.27602) ├»\n",
      "«     └─────────────┘└─────────────┘                     └──────────────┘»\n",
      "«      ┌────────────┐ ┌─────────────┐          ┌───┐     ┌─────────────┐»\n",
      "«q_0: ─┤ Ry(-1.887) ├─┤ Rz(-2.8497) ├──────────┤ X ├─────┤ Ry(-2.7329) ├»\n",
      "«      ├────────────┤ ├─────────────┤┌───┐     └─┬─┘     ├─────────────┤»\n",
      "«q_1: ─┤ Ry(1.7918) ├─┤ Rz(0.58066) ├┤ X ├───────■───────┤ Ry(-2.0702) ├»\n",
      "«     ┌┴────────────┴┐└─────────────┘└─┬─┘┌─────────────┐└┬────────────┤»\n",
      "«q_2: ┤ Rz(0.089438) ├─────────────────■──┤ Ry(0.67572) ├─┤ Rz(2.8204) ├»\n",
      "«     └──────────────┘                    └─────────────┘ └────────────┘»\n",
      "«     ┌────────────┐          ┌───┐      ┌────────────┐ ┌───────────────┐     »\n",
      "«q_0: ┤ Rz(1.9377) ├──────────┤ X ├──────┤ Ry(1.1576) ├─┤ Rz(-0.030304) ├─────»\n",
      "«     ├────────────┤┌───┐     └─┬─┘     ┌┴────────────┤ └┬─────────────┬┘┌───┐»\n",
      "«q_1: ┤ Rz(2.9257) ├┤ X ├───────■───────┤ Ry(-2.5279) ├──┤ Rz(-2.3748) ├─┤ X ├»\n",
      "«     └────────────┘└─┬─┘┌─────────────┐├─────────────┴┐ └─────────────┘ └─┬─┘»\n",
      "«q_2: ────────────────■──┤ Ry(-1.2276) ├┤ Rz(-0.37603) ├───────────────────■──»\n",
      "«                        └─────────────┘└──────────────┘                      »\n",
      "«          ┌───┐     ┌─────────────┐┌─────────────┐          ┌───┐     »\n",
      "«q_0: ─────┤ X ├─────┤ Ry(-1.5156) ├┤ Rz(0.12609) ├──────────┤ X ├─────»\n",
      "«          └─┬─┘     └┬────────────┤├─────────────┤┌───┐     └─┬─┘     »\n",
      "«q_1: ───────■────────┤ Ry(2.5718) ├┤ Rz(-1.1831) ├┤ X ├───────■───────»\n",
      "«     ┌─────────────┐ ├────────────┤└─────────────┘└─┬─┘┌─────────────┐»\n",
      "«q_2: ┤ Ry(-2.9255) ├─┤ Rz(1.0212) ├─────────────────■──┤ Ry(0.29349) ├»\n",
      "«     └─────────────┘ └────────────┘                    └─────────────┘»\n",
      "«      ┌────────────┐┌────────────┐     ┌───┐\n",
      "«q_0: ─┤ Ry(2.9505) ├┤ Rz(2.4808) ├─────┤ X ├\n",
      "«     ┌┴────────────┤├────────────┤┌───┐└─┬─┘\n",
      "«q_1: ┤ Ry(-1.9801) ├┤ Rz(2.7615) ├┤ X ├──■──\n",
      "«     └┬────────────┤└────────────┘└─┬─┘     \n",
      "«q_2: ─┤ Rz(1.7287) ├────────────────■───────\n",
      "«      └────────────┘                        \n"
     ]
    }
   ],
   "source": [
    "n = 3\n",
    "d = 2**n\n",
    "\n",
    "np.random.seed(42)\n",
    "random.seed(42)\n",
    "\n",
    "circuit_target = variational_circuit(n, 9).reverse_bits()\n",
    "\n",
    "N = 1000-6**n\n",
    "input_map_list, circuit_list = generate_pauli_circuits(n, circuit_target, N)\n",
    "\n",
    "inputs_spam, circuit_spam = generate_pauliInput_circuits(n)\n",
    "\n",
    "circuit_list.extend(circuit_spam)\n",
    "print(circuit_target)"
   ]
  },
  {
   "cell_type": "code",
   "execution_count": 13,
   "metadata": {},
   "outputs": [
    {
     "data": {
      "application/vnd.jupyter.widget-view+json": {
       "model_id": "eddcd5c0418f4a7f957064b091117e8f",
       "version_major": 2,
       "version_minor": 0
      },
      "text/plain": [
       "  0%|          | 0/2 [00:00<?, ?it/s]"
      ]
     },
     "metadata": {},
     "output_type": "display_data"
    },
    {
     "data": {
      "application/vnd.jupyter.widget-view+json": {
       "model_id": "1165323be7194ab59012b6021d80ff57",
       "version_major": 2,
       "version_minor": 0
      },
      "text/plain": [
       "  0%|          | 0/5 [00:00<?, ?it/s]"
      ]
     },
     "metadata": {},
     "output_type": "display_data"
    },
    {
     "data": {
      "application/vnd.jupyter.widget-view+json": {
       "model_id": "f76a1e41a2a94b5488ec67ad964506d5",
       "version_major": 2,
       "version_minor": 0
      },
      "text/plain": [
       "  0%|          | 0/5 [00:00<?, ?it/s]"
      ]
     },
     "metadata": {},
     "output_type": "display_data"
    }
   ],
   "source": [
    "counts_list = execute_and_collect(circuit_list, backend, 'threeQubits_variational_12')\n",
    "data = [input_map_list, inputs_spam, counts_list]\n",
    "pickle.dump(data, open(\"../../data/threeQubits_variational_12.p\", \"wb\"))"
   ]
  },
  {
   "cell_type": "markdown",
   "metadata": {},
   "source": [
    "## Twelve Layers"
   ]
  },
  {
   "cell_type": "code",
   "execution_count": 14,
   "metadata": {},
   "outputs": [
    {
     "name": "stdout",
     "output_type": "stream",
     "text": [
      "      ┌────────────┐ ┌─────────────┐          ┌───┐     ┌─────────────┐»\n",
      "q_0: ─┤ Ry(1.4577) ├─┤ Rz(-2.1615) ├──────────┤ X ├─────┤ Ry(0.63532) ├»\n",
      "      ├────────────┤ ├─────────────┤┌───┐     └─┬─┘     └┬────────────┤»\n",
      "q_1: ─┤ Ry(2.8319) ├─┤ Rz(-2.1613) ├┤ X ├───────■────────┤ Ry(2.3008) ├»\n",
      "     ┌┴────────────┴┐├─────────────┤└─┬─┘┌─────────────┐ ├────────────┤»\n",
      "q_2: ┤ Ry(-0.78829) ├┤ Rz(0.61989) ├──■──┤ Ry(-2.7766) ├─┤ Rz(1.3074) ├»\n",
      "     └──────────────┘└─────────────┘     └─────────────┘ └────────────┘»\n",
      "«      ┌────────────┐         ┌───┐     ┌─────────────┐┌─────────────┐     »\n",
      "«q_0: ─┤ Rz(2.9525) ├─────────┤ X ├─────┤ Ry(-1.9992) ├┤ Rz(0.15555) ├─────»\n",
      "«     ┌┴────────────┤┌───┐    └─┬─┘     ├─────────────┤└┬───────────┬┘┌───┐»\n",
      "«q_1: ┤ Rz(-3.0123) ├┤ X ├──────■───────┤ Ry(-1.8074) ├─┤ Rz(-1.23) ├─┤ X ├»\n",
      "«     └─────────────┘└─┬─┘┌────────────┐├─────────────┤ └───────────┘ └─┬─┘»\n",
      "«q_2: ─────────────────■──┤ Ry(2.0888) ├┤ Rz(-1.9892) ├─────────────────■──»\n",
      "«                         └────────────┘└─────────────┘                    »\n",
      "«          ┌───┐     ┌─────────────┐┌──────────────┐          ┌───┐      »\n",
      "«q_0: ─────┤ X ├─────┤ Ry(0.70279) ├┤ Rz(-0.83967) ├──────────┤ X ├──────»\n",
      "«          └─┬─┘     ├─────────────┤└┬────────────┬┘┌───┐     └─┬─┘      »\n",
      "«q_1: ───────■───────┤ Ry(-1.3117) ├─┤ Rz(-1.306) ├─┤ X ├───────■────────»\n",
      "«     ┌─────────────┐├─────────────┤ └────────────┘ └─┬─┘┌──────────────┐»\n",
      "«q_2: ┤ Ry(-0.4276) ├┤ Rz(-2.2651) ├──────────────────■──┤ Ry(-0.27602) ├»\n",
      "«     └─────────────┘└─────────────┘                     └──────────────┘»\n",
      "«      ┌────────────┐ ┌─────────────┐          ┌───┐     ┌─────────────┐»\n",
      "«q_0: ─┤ Ry(-1.887) ├─┤ Rz(-2.8497) ├──────────┤ X ├─────┤ Ry(-2.7329) ├»\n",
      "«      ├────────────┤ ├─────────────┤┌───┐     └─┬─┘     ├─────────────┤»\n",
      "«q_1: ─┤ Ry(1.7918) ├─┤ Rz(0.58066) ├┤ X ├───────■───────┤ Ry(-2.0702) ├»\n",
      "«     ┌┴────────────┴┐└─────────────┘└─┬─┘┌─────────────┐└┬────────────┤»\n",
      "«q_2: ┤ Rz(0.089438) ├─────────────────■──┤ Ry(0.67572) ├─┤ Rz(2.8204) ├»\n",
      "«     └──────────────┘                    └─────────────┘ └────────────┘»\n",
      "«     ┌────────────┐          ┌───┐      ┌────────────┐ ┌───────────────┐     »\n",
      "«q_0: ┤ Rz(1.9377) ├──────────┤ X ├──────┤ Ry(1.1576) ├─┤ Rz(-0.030304) ├─────»\n",
      "«     ├────────────┤┌───┐     └─┬─┘     ┌┴────────────┤ └┬─────────────┬┘┌───┐»\n",
      "«q_1: ┤ Rz(2.9257) ├┤ X ├───────■───────┤ Ry(-2.5279) ├──┤ Rz(-2.3748) ├─┤ X ├»\n",
      "«     └────────────┘└─┬─┘┌─────────────┐├─────────────┴┐ └─────────────┘ └─┬─┘»\n",
      "«q_2: ────────────────■──┤ Ry(-1.2276) ├┤ Rz(-0.37603) ├───────────────────■──»\n",
      "«                        └─────────────┘└──────────────┘                      »\n",
      "«          ┌───┐     ┌─────────────┐┌─────────────┐          ┌───┐     »\n",
      "«q_0: ─────┤ X ├─────┤ Ry(-1.5156) ├┤ Rz(0.12609) ├──────────┤ X ├─────»\n",
      "«          └─┬─┘     └┬────────────┤├─────────────┤┌───┐     └─┬─┘     »\n",
      "«q_1: ───────■────────┤ Ry(2.5718) ├┤ Rz(-1.1831) ├┤ X ├───────■───────»\n",
      "«     ┌─────────────┐ ├────────────┤└─────────────┘└─┬─┘┌─────────────┐»\n",
      "«q_2: ┤ Ry(-2.9255) ├─┤ Rz(1.0212) ├─────────────────■──┤ Ry(0.29349) ├»\n",
      "«     └─────────────┘ └────────────┘                    └─────────────┘»\n",
      "«      ┌────────────┐┌────────────┐          ┌───┐     ┌─────────────┐»\n",
      "«q_0: ─┤ Ry(2.9505) ├┤ Rz(2.4808) ├──────────┤ X ├─────┤ Ry(-2.5856) ├»\n",
      "«     ┌┴────────────┤├────────────┤┌───┐     └─┬─┘     └┬────────────┤»\n",
      "«q_1: ┤ Ry(-1.9801) ├┤ Rz(2.7615) ├┤ X ├───────■────────┤ Ry(2.6507) ├»\n",
      "«     └┬────────────┤└────────────┘└─┬─┘┌─────────────┐┌┴────────────┤»\n",
      "«q_2: ─┤ Rz(1.7287) ├────────────────■──┤ Ry(0.61512) ├┤ Rz(-1.9102) ├»\n",
      "«      └────────────┘                   └─────────────┘└─────────────┘»\n",
      "«     ┌─────────────┐          ┌───┐       ┌────────────┐ ┌─────────────┐     »\n",
      "«q_0: ┤ Rz(-1.0975) ├──────────┤ X ├───────┤ Ry(2.0655) ├─┤ Rz(0.26827) ├─────»\n",
      "«     ├─────────────┤┌───┐     └─┬─┘      ┌┴────────────┤ ├─────────────┤┌───┐»\n",
      "«q_1: ┤ Rz(-2.8574) ├┤ X ├───────■────────┤ Ry(-1.4367) ├─┤ Rz(-1.3764) ├┤ X ├»\n",
      "«     └─────────────┘└─┬─┘┌──────────────┐├─────────────┴┐└─────────────┘└─┬─┘»\n",
      "«q_2: ─────────────────■──┤ Ry(-0.69946) ├┤ Rz(-0.90005) ├─────────────────■──»\n",
      "«                         └──────────────┘└──────────────┘                    »\n",
      "«          ┌───┐     ┌─────────────┐┌────────────┐     ┌───┐\n",
      "«q_0: ─────┤ X ├─────┤ Ry(-2.6732) ├┤ Rz(-1.893) ├─────┤ X ├\n",
      "«          └─┬─┘     └┬────────────┤├────────────┤┌───┐└─┬─┘\n",
      "«q_1: ───────■────────┤ Ry(1.8988) ├┤ Rz(1.7106) ├┤ X ├──■──\n",
      "«     ┌─────────────┐ ├────────────┤└────────────┘└─┬─┘     \n",
      "«q_2: ┤ Ry(-2.2561) ├─┤ Rz(3.0592) ├────────────────■───────\n",
      "«     └─────────────┘ └────────────┘                        \n"
     ]
    }
   ],
   "source": [
    "n = 3\n",
    "d = 2**n\n",
    "\n",
    "np.random.seed(42)\n",
    "random.seed(42)\n",
    "\n",
    "circuit_target = variational_circuit(n, 12, 0, 12).reverse_bits()\n",
    "\n",
    "N = 1000-6**n\n",
    "input_map_list, circuit_list = generate_pauli_circuits(n, circuit_target, N)\n",
    "\n",
    "inputs_spam, circuit_spam = generate_pauliInput_circuits(n)\n",
    "\n",
    "circuit_list.extend(circuit_spam)\n",
    "print(circuit_target)"
   ]
  },
  {
   "cell_type": "code",
   "execution_count": 15,
   "metadata": {},
   "outputs": [
    {
     "data": {
      "application/vnd.jupyter.widget-view+json": {
       "model_id": "a165eb4749bd4d0689baeac13928e66c",
       "version_major": 2,
       "version_minor": 0
      },
      "text/plain": [
       "  0%|          | 0/2 [00:00<?, ?it/s]"
      ]
     },
     "metadata": {},
     "output_type": "display_data"
    },
    {
     "data": {
      "application/vnd.jupyter.widget-view+json": {
       "model_id": "46ff5c34ded14fd7a83569d8f68b3400",
       "version_major": 2,
       "version_minor": 0
      },
      "text/plain": [
       "  0%|          | 0/5 [00:00<?, ?it/s]"
      ]
     },
     "metadata": {},
     "output_type": "display_data"
    },
    {
     "data": {
      "application/vnd.jupyter.widget-view+json": {
       "model_id": "03da096d781646319f6b472778dfb31a",
       "version_major": 2,
       "version_minor": 0
      },
      "text/plain": [
       "  0%|          | 0/5 [00:00<?, ?it/s]"
      ]
     },
     "metadata": {},
     "output_type": "display_data"
    }
   ],
   "source": [
    "counts_list = execute_and_collect(circuit_list, backend, 'threeQubits_variational_12')\n",
    "data = [input_map_list, inputs_spam, counts_list]\n",
    "pickle.dump(data, open(\"../../data/threeQubits_variational_12.p\", \"wb\"))"
   ]
  },
  {
   "cell_type": "markdown",
   "metadata": {},
   "source": [
    "## L2"
   ]
  },
  {
   "cell_type": "code",
   "execution_count": 7,
   "metadata": {},
   "outputs": [
    {
     "name": "stdout",
     "output_type": "stream",
     "text": [
      "     ┌─────────────┐┌──────────────┐          ┌───┐       ┌────────────┐ »\n",
      "q_0: ┤ Ry(0.70279) ├┤ Rz(-0.83967) ├──────────┤ X ├───────┤ Ry(-1.887) ├─»\n",
      "     ├─────────────┤└┬────────────┬┘┌───┐     └─┬─┘       ├────────────┤ »\n",
      "q_1: ┤ Ry(-1.3117) ├─┤ Rz(-1.306) ├─┤ X ├───────■─────────┤ Ry(1.7918) ├─»\n",
      "     ├─────────────┤┌┴────────────┤ └─┬─┘┌──────────────┐┌┴────────────┴┐»\n",
      "q_2: ┤ Ry(-0.4276) ├┤ Rz(-2.2651) ├───■──┤ Ry(-0.27602) ├┤ Rz(0.089438) ├»\n",
      "     └─────────────┘└─────────────┘      └──────────────┘└──────────────┘»\n",
      "«     ┌─────────────┐          ┌───┐     ┌─────────────┐┌────────────┐     »\n",
      "«q_0: ┤ Rz(-2.8497) ├──────────┤ X ├─────┤ Ry(-2.7329) ├┤ Rz(1.9377) ├─────»\n",
      "«     ├─────────────┤┌───┐     └─┬─┘     ├─────────────┤├────────────┤┌───┐»\n",
      "«q_1: ┤ Rz(0.58066) ├┤ X ├───────■───────┤ Ry(-2.0702) ├┤ Rz(2.9257) ├┤ X ├»\n",
      "«     └─────────────┘└─┬─┘┌─────────────┐└┬────────────┤└────────────┘└─┬─┘»\n",
      "«q_2: ─────────────────■──┤ Ry(0.67572) ├─┤ Rz(2.8204) ├────────────────■──»\n",
      "«                         └─────────────┘ └────────────┘                   »\n",
      "«     ┌───┐\n",
      "«q_0: ┤ X ├\n",
      "«     └─┬─┘\n",
      "«q_1: ──■──\n",
      "«          \n",
      "«q_2: ─────\n",
      "«          \n"
     ]
    }
   ],
   "source": [
    "n = 3\n",
    "d = 2**n\n",
    "\n",
    "np.random.seed(42)\n",
    "random.seed(42)\n",
    "\n",
    "circuit_target = variational_circuit(n, 6, 3, 6).reverse_bits()\n",
    "\n",
    "N = 1000-6**n\n",
    "input_map_list, circuit_list = generate_pauli_circuits(n, circuit_target, N)\n",
    "\n",
    "inputs_spam, circuit_spam = generate_pauliInput_circuits(n)\n",
    "\n",
    "circuit_list.extend(circuit_spam)\n",
    "print(circuit_target)"
   ]
  },
  {
   "cell_type": "code",
   "execution_count": 8,
   "metadata": {},
   "outputs": [
    {
     "data": {
      "application/vnd.jupyter.widget-view+json": {
       "model_id": "214c2464fffc427796c004639abe6e6e",
       "version_major": 2,
       "version_minor": 0
      },
      "text/plain": [
       "  0%|          | 0/2 [00:00<?, ?it/s]"
      ]
     },
     "metadata": {},
     "output_type": "display_data"
    },
    {
     "data": {
      "application/vnd.jupyter.widget-view+json": {
       "model_id": "c4c593bae02a4c6eb67534d5904e127b",
       "version_major": 2,
       "version_minor": 0
      },
      "text/plain": [
       "  0%|          | 0/5 [00:00<?, ?it/s]"
      ]
     },
     "metadata": {},
     "output_type": "display_data"
    },
    {
     "data": {
      "application/vnd.jupyter.widget-view+json": {
       "model_id": "1e3fb63934b449519cb3db559cb582df",
       "version_major": 2,
       "version_minor": 0
      },
      "text/plain": [
       "  0%|          | 0/5 [00:00<?, ?it/s]"
      ]
     },
     "metadata": {},
     "output_type": "display_data"
    }
   ],
   "source": [
    "counts_list = execute_and_collect(circuit_list, backend, 'threeQubits_variational_3_2')\n",
    "data = [input_map_list, inputs_spam, counts_list]\n",
    "pickle.dump(data, open(\"../../data/threeQubits_variational_3_2.p\", \"wb\"))"
   ]
  },
  {
   "cell_type": "markdown",
   "metadata": {},
   "source": [
    "## L3"
   ]
  },
  {
   "cell_type": "code",
   "execution_count": 8,
   "metadata": {},
   "outputs": [
    {
     "name": "stdout",
     "output_type": "stream",
     "text": [
      "      ┌────────────┐┌───────────────┐          ┌───┐     ┌─────────────┐»\n",
      "q_0: ─┤ Ry(1.1576) ├┤ Rz(-0.030304) ├──────────┤ X ├─────┤ Ry(-1.5156) ├»\n",
      "     ┌┴────────────┤└┬─────────────┬┘┌───┐     └─┬─┘     └┬────────────┤»\n",
      "q_1: ┤ Ry(-2.5279) ├─┤ Rz(-2.3748) ├─┤ X ├───────■────────┤ Ry(2.5718) ├»\n",
      "     ├─────────────┤ ├─────────────┴┐└─┬─┘┌─────────────┐ ├────────────┤»\n",
      "q_2: ┤ Ry(-1.2276) ├─┤ Rz(-0.37603) ├──■──┤ Ry(-2.9255) ├─┤ Rz(1.0212) ├»\n",
      "     └─────────────┘ └──────────────┘     └─────────────┘ └────────────┘»\n",
      "«     ┌─────────────┐          ┌───┐      ┌────────────┐┌────────────┐     »\n",
      "«q_0: ┤ Rz(0.12609) ├──────────┤ X ├──────┤ Ry(2.9505) ├┤ Rz(2.4808) ├─────»\n",
      "«     ├─────────────┤┌───┐     └─┬─┘     ┌┴────────────┤├────────────┤┌───┐»\n",
      "«q_1: ┤ Rz(-1.1831) ├┤ X ├───────■───────┤ Ry(-1.9801) ├┤ Rz(2.7615) ├┤ X ├»\n",
      "«     └─────────────┘└─┬─┘┌─────────────┐└┬────────────┤└────────────┘└─┬─┘»\n",
      "«q_2: ─────────────────■──┤ Ry(0.29349) ├─┤ Rz(1.7287) ├────────────────■──»\n",
      "«                         └─────────────┘ └────────────┘                   »\n",
      "«     ┌───┐\n",
      "«q_0: ┤ X ├\n",
      "«     └─┬─┘\n",
      "«q_1: ──■──\n",
      "«          \n",
      "«q_2: ─────\n",
      "«          \n"
     ]
    }
   ],
   "source": [
    "n = 3\n",
    "d = 2**n\n",
    "\n",
    "np.random.seed(42)\n",
    "random.seed(42)\n",
    "\n",
    "circuit_target = variational_circuit(n, 9, 6, 9).reverse_bits()\n",
    "\n",
    "N = 1000-6**n\n",
    "input_map_list, circuit_list = generate_pauli_circuits(n, circuit_target, N)\n",
    "\n",
    "inputs_spam, circuit_spam = generate_pauliInput_circuits(n)\n",
    "\n",
    "circuit_list.extend(circuit_spam)\n",
    "print(circuit_target)"
   ]
  },
  {
   "cell_type": "code",
   "execution_count": 12,
   "metadata": {},
   "outputs": [
    {
     "data": {
      "application/vnd.jupyter.widget-view+json": {
       "model_id": "64aecb0d5ba746329306bd9c30395573",
       "version_major": 2,
       "version_minor": 0
      },
      "text/plain": [
       "  0%|          | 0/2 [00:00<?, ?it/s]"
      ]
     },
     "metadata": {},
     "output_type": "display_data"
    },
    {
     "data": {
      "application/vnd.jupyter.widget-view+json": {
       "model_id": "e744df2a09b5414982525bff4484b301",
       "version_major": 2,
       "version_minor": 0
      },
      "text/plain": [
       "  0%|          | 0/5 [00:00<?, ?it/s]"
      ]
     },
     "metadata": {},
     "output_type": "display_data"
    },
    {
     "data": {
      "application/vnd.jupyter.widget-view+json": {
       "model_id": "d350f996c8884aea8bb81ed778b8f6af",
       "version_major": 2,
       "version_minor": 0
      },
      "text/plain": [
       "  0%|          | 0/5 [00:00<?, ?it/s]"
      ]
     },
     "metadata": {},
     "output_type": "display_data"
    }
   ],
   "source": [
    "counts_list = execute_and_collect(circuit_list, backend, 'threeQubits_variational_3_3')\n",
    "data = [input_map_list, inputs_spam, counts_list]\n",
    "pickle.dump(data, open(\"../../data/threeQubits_variational_3_3.p\", \"wb\"))"
   ]
  },
  {
   "cell_type": "markdown",
   "metadata": {},
   "source": [
    "## L4"
   ]
  },
  {
   "cell_type": "code",
   "execution_count": 16,
   "metadata": {},
   "outputs": [
    {
     "name": "stdout",
     "output_type": "stream",
     "text": [
      "     ┌─────────────┐┌─────────────┐          ┌───┐       ┌────────────┐ »\n",
      "q_0: ┤ Ry(-2.5856) ├┤ Rz(-1.0975) ├──────────┤ X ├───────┤ Ry(2.0655) ├─»\n",
      "     └┬────────────┤├─────────────┤┌───┐     └─┬─┘      ┌┴────────────┤ »\n",
      "q_1: ─┤ Ry(2.6507) ├┤ Rz(-2.8574) ├┤ X ├───────■────────┤ Ry(-1.4367) ├─»\n",
      "     ┌┴────────────┤├─────────────┤└─┬─┘┌──────────────┐├─────────────┴┐»\n",
      "q_2: ┤ Ry(0.61512) ├┤ Rz(-1.9102) ├──■──┤ Ry(-0.69946) ├┤ Rz(-0.90005) ├»\n",
      "     └─────────────┘└─────────────┘     └──────────────┘└──────────────┘»\n",
      "«     ┌─────────────┐          ┌───┐     ┌─────────────┐┌────────────┐     »\n",
      "«q_0: ┤ Rz(0.26827) ├──────────┤ X ├─────┤ Ry(-2.6732) ├┤ Rz(-1.893) ├─────»\n",
      "«     ├─────────────┤┌───┐     └─┬─┘     └┬────────────┤├────────────┤┌───┐»\n",
      "«q_1: ┤ Rz(-1.3764) ├┤ X ├───────■────────┤ Ry(1.8988) ├┤ Rz(1.7106) ├┤ X ├»\n",
      "«     └─────────────┘└─┬─┘┌─────────────┐ ├────────────┤└────────────┘└─┬─┘»\n",
      "«q_2: ─────────────────■──┤ Ry(-2.2561) ├─┤ Rz(3.0592) ├────────────────■──»\n",
      "«                         └─────────────┘ └────────────┘                   »\n",
      "«     ┌───┐\n",
      "«q_0: ┤ X ├\n",
      "«     └─┬─┘\n",
      "«q_1: ──■──\n",
      "«          \n",
      "«q_2: ─────\n",
      "«          \n"
     ]
    }
   ],
   "source": [
    "n = 3\n",
    "d = 2**n\n",
    "\n",
    "np.random.seed(42)\n",
    "random.seed(42)\n",
    "\n",
    "circuit_target = variational_circuit(n, 12, 9, 12).reverse_bits()\n",
    "\n",
    "N = 1000-6**n\n",
    "input_map_list, circuit_list = generate_pauli_circuits(n, circuit_target, N)\n",
    "\n",
    "inputs_spam, circuit_spam = generate_pauliInput_circuits(n)\n",
    "\n",
    "circuit_list.extend(circuit_spam)\n",
    "print(circuit_target)"
   ]
  },
  {
   "cell_type": "code",
   "execution_count": 17,
   "metadata": {},
   "outputs": [
    {
     "data": {
      "application/vnd.jupyter.widget-view+json": {
       "model_id": "71417a67c34846fa94083a544602a6f0",
       "version_major": 2,
       "version_minor": 0
      },
      "text/plain": [
       "  0%|          | 0/2 [00:00<?, ?it/s]"
      ]
     },
     "metadata": {},
     "output_type": "display_data"
    },
    {
     "data": {
      "application/vnd.jupyter.widget-view+json": {
       "model_id": "d513abb461d74b859168256869d5c707",
       "version_major": 2,
       "version_minor": 0
      },
      "text/plain": [
       "  0%|          | 0/5 [00:00<?, ?it/s]"
      ]
     },
     "metadata": {},
     "output_type": "display_data"
    },
    {
     "data": {
      "application/vnd.jupyter.widget-view+json": {
       "model_id": "c29fbef3a92141179b7857615effbb93",
       "version_major": 2,
       "version_minor": 0
      },
      "text/plain": [
       "  0%|          | 0/5 [00:00<?, ?it/s]"
      ]
     },
     "metadata": {},
     "output_type": "display_data"
    }
   ],
   "source": [
    "counts_list = execute_and_collect(circuit_list, backend, 'threeQubits_variational_3_4')\n",
    "data = [input_map_list, inputs_spam, counts_list]\n",
    "pickle.dump(data, open(\"../../data/threeQubits_variational_3_4.p\", \"wb\"))"
   ]
  },
  {
   "cell_type": "code",
   "execution_count": 5,
   "metadata": {},
   "outputs": [
    {
     "name": "stdout",
     "output_type": "stream",
     "text": [
      "     ┌─────────────┐ ┌────────────┐         ┌───┐     ┌─────────────┐»\n",
      "q_0: ┤ Ry(-2.3035) ├─┤ Rz(2.2565) ├─────────┤ X ├─────┤ Ry(-2.9593) ├»\n",
      "     ├─────────────┤┌┴────────────┤┌───┐    └─┬─┘     ├─────────────┤»\n",
      "q_1: ┤ Ry(0.68529) ├┤ Rz(-1.0861) ├┤ X ├──────■───────┤ Ry(0.25863) ├»\n",
      "     ├─────────────┤├─────────────┤└─┬─┘┌────────────┐└┬────────────┤»\n",
      "q_2: ┤ Ry(-2.4187) ├┤ Rz(-1.6299) ├──■──┤ Ry(1.0436) ├─┤ Rz(1.4687) ├»\n",
      "     └─────────────┘└─────────────┘     └────────────┘ └────────────┘»\n",
      "«      ┌────────────┐          ┌───┐      ┌────────────┐┌─────────────┐      »\n",
      "«q_0: ─┤ Rz(1.8978) ├──────────┤ X ├──────┤ Ry(2.3037) ├┤ Rz(-1.1555) ├──────»\n",
      "«     ┌┴────────────┴┐┌───┐    └─┬─┘     ┌┴────────────┤├─────────────┴┐┌───┐»\n",
      "«q_1: ┤ Rz(-0.66005) ├┤ X ├──────■───────┤ Ry(-2.7842) ├┤ Rz(-0.59697) ├┤ X ├»\n",
      "«     └──────────────┘└─┬─┘┌────────────┐├─────────────┤└──────────────┘└─┬─┘»\n",
      "«q_2: ──────────────────■──┤ Ry(-1.543) ├┤ Rz(-1.7528) ├──────────────────■──»\n",
      "«                          └────────────┘└─────────────┘                     »\n",
      "«          ┌───┐     ┌────────────┐ ┌────────────┐          ┌───┐      »\n",
      "«q_0: ─────┤ X ├─────┤ Ry(2.1924) ├─┤ Rz(2.8556) ├──────────┤ X ├──────»\n",
      "«          └─┬─┘     ├────────────┤┌┴────────────┤┌───┐     └─┬─┘      »\n",
      "«q_1: ───────■───────┤ Ry(2.1565) ├┤ Rz(-0.7202) ├┤ X ├───────■────────»\n",
      "«     ┌─────────────┐├────────────┤└─────────────┘└─┬─┘┌──────────────┐»\n",
      "«q_2: ┤ Ry(-2.6599) ├┤ Rz(2.9623) ├─────────────────■──┤ Ry(-0.34081) ├»\n",
      "«     └─────────────┘└────────────┘                    └──────────────┘»\n",
      "«     ┌─────────────┐┌─────────────┐          ┌───┐     ┌──────────────┐»\n",
      "«q_0: ┤ Ry(-2.6232) ├┤ Rz(-1.4935) ├──────────┤ X ├─────┤ Ry(-0.15333) ├»\n",
      "«     └┬────────────┤├─────────────┤┌───┐     └─┬─┘     ├─────────────┬┘»\n",
      "«q_1: ─┤ Ry(1.0664) ├┤ Rz(-1.2692) ├┤ X ├───────■───────┤ Ry(0.27145) ├─»\n",
      "«      ├───────────┬┘└─────────────┘└─┬─┘┌─────────────┐├─────────────┤ »\n",
      "«q_2: ─┤ Rz(2.495) ├──────────────────■──┤ Ry(-3.1094) ├┤ Rz(0.85686) ├─»\n",
      "«      └───────────┘                     └─────────────┘└─────────────┘ »\n",
      "«     ┌────────────┐         ┌───┐      ┌────────────┐┌──────────────┐     »\n",
      "«q_0: ┤ Rz(2.5677) ├─────────┤ X ├──────┤ Ry(-2.488) ├┤ Rz(-0.55322) ├─────»\n",
      "«     ├────────────┤┌───┐    └─┬─┘     ┌┴────────────┤└┬────────────┬┘┌───┐»\n",
      "«q_1: ┤ Rz(3.0046) ├┤ X ├──────■───────┤ Ry(0.15869) ├─┤ Rz(2.8465) ├─┤ X ├»\n",
      "«     └────────────┘└─┬─┘┌────────────┐├─────────────┤ └────────────┘ └─┬─┘»\n",
      "«q_2: ────────────────■──┤ Ry(2.5771) ├┤ Rz(-2.0049) ├──────────────────■──»\n",
      "«                        └────────────┘└─────────────┘                     »\n",
      "«         ┌───┐     ┌─────────────┐┌─────────────┐          ┌───┐      »\n",
      "«q_0: ────┤ X ├─────┤ Ry(0.80919) ├┤ Rz(-1.8417) ├──────────┤ X ├──────»\n",
      "«         └─┬─┘     └┬────────────┤└┬────────────┤┌───┐     └─┬─┘      »\n",
      "«q_1: ──────■────────┤ Ry(1.0818) ├─┤ Rz(2.4928) ├┤ X ├───────■────────»\n",
      "«     ┌────────────┐┌┴────────────┤ └────────────┘└─┬─┘┌──────────────┐»\n",
      "«q_2: ┤ Ry(2.2935) ├┤ Rz(-1.4102) ├─────────────────■──┤ Ry(-0.60064) ├»\n",
      "«     └────────────┘└─────────────┘                    └──────────────┘»\n",
      "«      ┌────────────┐ ┌─────────────┐     ┌───┐\n",
      "«q_0: ─┤ Ry(1.4811) ├─┤ Rz(-0.5576) ├─────┤ X ├\n",
      "«      ├────────────┤ ├─────────────┤┌───┐└─┬─┘\n",
      "«q_1: ─┤ Ry(3.1012) ├─┤ Rz(0.38116) ├┤ X ├──■──\n",
      "«     ┌┴────────────┴┐└─────────────┘└─┬─┘     \n",
      "«q_2: ┤ Rz(-0.34519) ├─────────────────■───────\n",
      "«     └──────────────┘                         \n"
     ]
    }
   ],
   "source": [
    "n = 3\n",
    "d = 2**n\n",
    "\n",
    "np.random.seed(43)\n",
    "random.seed(43)\n",
    "\n",
    "circuit_target = variational_circuit(n, 9, 0, 9).reverse_bits()\n",
    "\n",
    "N = 1000-6**n\n",
    "input_map_list, circuit_list = generate_pauli_circuits(n, circuit_target, N)\n",
    "\n",
    "inputs_spam, circuit_spam = generate_pauliInput_circuits(n)\n",
    "\n",
    "circuit_list.extend(circuit_spam)\n",
    "print(circuit_target)"
   ]
  },
  {
   "cell_type": "code",
   "execution_count": 6,
   "metadata": {},
   "outputs": [
    {
     "data": {
      "application/vnd.jupyter.widget-view+json": {
       "model_id": "f5fc5362ed924008bf2ca83479e4dd25",
       "version_major": 2,
       "version_minor": 0
      },
      "text/plain": [
       "  0%|          | 0/2 [00:00<?, ?it/s]"
      ]
     },
     "metadata": {},
     "output_type": "display_data"
    },
    {
     "data": {
      "application/vnd.jupyter.widget-view+json": {
       "model_id": "62e1122bc9ab4046ba5da993a23bbc98",
       "version_major": 2,
       "version_minor": 0
      },
      "text/plain": [
       "  0%|          | 0/5 [00:00<?, ?it/s]"
      ]
     },
     "metadata": {},
     "output_type": "display_data"
    },
    {
     "data": {
      "application/vnd.jupyter.widget-view+json": {
       "model_id": "fbee96531c8b4727a4e6f110001e0b64",
       "version_major": 2,
       "version_minor": 0
      },
      "text/plain": [
       "  0%|          | 0/5 [00:00<?, ?it/s]"
      ]
     },
     "metadata": {},
     "output_type": "display_data"
    }
   ],
   "source": [
    "counts_list = execute_and_collect(circuit_list, backend, 'threeQubits_variational_9_2')\n",
    "data = [input_map_list, inputs_spam, counts_list]\n",
    "pickle.dump(data, open(\"../../data/threeQubits_variational_9_2.p\", \"wb\"))"
   ]
  },
  {
   "cell_type": "code",
   "execution_count": 7,
   "metadata": {},
   "outputs": [
    {
     "name": "stdout",
     "output_type": "stream",
     "text": [
      "      ┌────────────┐┌─────────────┐           ┌───┐     ┌──────────────┐»\n",
      "q_0: ─┤ Ry(1.5371) ├┤ Rz(0.68636) ├───────────┤ X ├─────┤ Ry(0.062219) ├»\n",
      "     ┌┴────────────┤├─────────────┴┐┌───┐     └─┬─┘     ├──────────────┤»\n",
      "q_1: ┤ Ry(-2.4831) ├┤ Rz(-0.88398) ├┤ X ├───────■───────┤ Ry(-0.57131) ├»\n",
      "     └┬────────────┤├─────────────┬┘└─┬─┘┌─────────────┐└┬────────────┬┘»\n",
      "q_2: ─┤ Ry(2.1039) ├┤ Rz(-0.8765) ├───■──┤ Ry(-0.6674) ├─┤ Rz(1.3204) ├─»\n",
      "      └────────────┘└─────────────┘      └─────────────┘ └────────────┘ »\n",
      "«     ┌──────────────┐          ┌───┐      ┌─────────────┐┌────────────┐     »\n",
      "«q_0: ┤ Rz(-0.27256) ├──────────┤ X ├──────┤ Ry(-1.7725) ├┤ Rz(2.3991) ├─────»\n",
      "«     └┬────────────┬┘┌───┐     └─┬─┘      ├─────────────┤├────────────┤┌───┐»\n",
      "«q_1: ─┤ Rz(2.8936) ├─┤ X ├───────■────────┤ Ry(-2.4287) ├┤ Rz(2.7857) ├┤ X ├»\n",
      "«      └────────────┘ └─┬─┘┌──────────────┐└┬────────────┤└────────────┘└─┬─┘»\n",
      "«q_2: ──────────────────■──┤ Ry(-0.45458) ├─┤ Rz(2.8744) ├────────────────■──»\n",
      "«                          └──────────────┘ └────────────┘                   »\n",
      "«          ┌───┐     ┌─────────────┐ ┌────────────┐           ┌───┐     »\n",
      "«q_0: ─────┤ X ├─────┤ Ry(0.85974) ├─┤ Rz(2.3491) ├───────────┤ X ├─────»\n",
      "«          └─┬─┘     ├─────────────┤┌┴────────────┴┐┌───┐     └─┬─┘     »\n",
      "«q_1: ───────■───────┤ Ry(-1.7981) ├┤ Rz(-0.25947) ├┤ X ├───────■───────»\n",
      "«     ┌─────────────┐├─────────────┤└──────────────┘└─┬─┘┌─────────────┐»\n",
      "«q_2: ┤ Ry(0.91992) ├┤ Rz(-2.2673) ├──────────────────■──┤ Ry(-1.5177) ├»\n",
      "«     └─────────────┘└─────────────┘                     └─────────────┘»\n",
      "«      ┌────────────┐┌─────────────┐          ┌───┐     ┌─────────────┐ »\n",
      "«q_0: ─┤ Ry(2.2788) ├┤ Rz(-2.1416) ├──────────┤ X ├─────┤ Ry(-1.8665) ├─»\n",
      "«      ├────────────┤├─────────────┤┌───┐     └─┬─┘     └┬────────────┤ »\n",
      "«q_1: ─┤ Ry(1.0358) ├┤ Rz(0.39553) ├┤ X ├───────■────────┤ Ry(-2.488) ├─»\n",
      "«     ┌┴────────────┤└─────────────┘└─┬─┘┌─────────────┐┌┴────────────┴┐»\n",
      "«q_2: ┤ Rz(-2.2064) ├─────────────────■──┤ Ry(-2.0553) ├┤ Rz(-0.28155) ├»\n",
      "«     └─────────────┘                    └─────────────┘└──────────────┘»\n",
      "«     ┌────────────┐         ┌───┐     ┌──────────────┐┌────────────┐     »\n",
      "«q_0: ┤ Rz(3.0839) ├─────────┤ X ├─────┤ Ry(0.098881) ├┤ Rz(-2.686) ├─────»\n",
      "«     ├────────────┤┌───┐    └─┬─┘     ├──────────────┤├────────────┤┌───┐»\n",
      "«q_1: ┤ Rz(1.8509) ├┤ X ├──────■───────┤ Ry(-0.77022) ├┤ Rz(1.3264) ├┤ X ├»\n",
      "«     └────────────┘└─┬─┘┌────────────┐├─────────────┬┘└────────────┘└─┬─┘»\n",
      "«q_2: ────────────────■──┤ Ry(1.9165) ├┤ Rz(-2.7715) ├─────────────────■──»\n",
      "«                        └────────────┘└─────────────┘                    »\n",
      "«         ┌───┐    ┌────────────┐┌────────────┐         ┌───┐     »\n",
      "«q_0: ────┤ X ├────┤ Ry(2.0946) ├┤ Rz(2.7024) ├─────────┤ X ├─────»\n",
      "«         └─┬─┘    ├────────────┤├────────────┤┌───┐    └─┬─┘     »\n",
      "«q_1: ──────■──────┤ Ry(1.4204) ├┤ Rz(1.2405) ├┤ X ├──────■───────»\n",
      "«     ┌───────────┐├────────────┤└────────────┘└─┬─┘┌────────────┐»\n",
      "«q_2: ┤ Ry(2.404) ├┤ Rz(1.3209) ├────────────────■──┤ Ry(2.3981) ├»\n",
      "«     └───────────┘└────────────┘                   └────────────┘»\n",
      "«     ┌──────────────┐┌─────────────┐     ┌───┐\n",
      "«q_0: ┤ Ry(-0.27334) ├┤ Rz(-2.1757) ├─────┤ X ├\n",
      "«     ├─────────────┬┘├─────────────┤┌───┐└─┬─┘\n",
      "«q_1: ┤ Ry(-2.5449) ├─┤ Rz(-2.4569) ├┤ X ├──■──\n",
      "«     ├─────────────┴┐└─────────────┘└─┬─┘     \n",
      "«q_2: ┤ Rz(-0.04572) ├─────────────────■───────\n",
      "«     └──────────────┘                         \n"
     ]
    }
   ],
   "source": [
    "n = 3\n",
    "d = 2**n\n",
    "\n",
    "np.random.seed(44)\n",
    "random.seed(44)\n",
    "\n",
    "circuit_target = variational_circuit(n, 9, 0, 9).reverse_bits()\n",
    "\n",
    "N = 1000-6**n\n",
    "input_map_list, circuit_list = generate_pauli_circuits(n, circuit_target, N)\n",
    "\n",
    "inputs_spam, circuit_spam = generate_pauliInput_circuits(n)\n",
    "\n",
    "circuit_list.extend(circuit_spam)\n",
    "print(circuit_target)"
   ]
  },
  {
   "cell_type": "code",
   "execution_count": null,
   "metadata": {},
   "outputs": [
    {
     "data": {
      "application/vnd.jupyter.widget-view+json": {
       "model_id": "668442569a9b4bf8af44ff3478884f50",
       "version_major": 2,
       "version_minor": 0
      },
      "text/plain": [
       "  0%|          | 0/2 [00:00<?, ?it/s]"
      ]
     },
     "metadata": {},
     "output_type": "display_data"
    },
    {
     "data": {
      "application/vnd.jupyter.widget-view+json": {
       "model_id": "1f265b797e3d42be96fb38b894f86af6",
       "version_major": 2,
       "version_minor": 0
      },
      "text/plain": [
       "  0%|          | 0/5 [00:00<?, ?it/s]"
      ]
     },
     "metadata": {},
     "output_type": "display_data"
    }
   ],
   "source": [
    "counts_list = execute_and_collect(circuit_list, backend, 'threeQubits_variational_9_3')\n",
    "data = [input_map_list, inputs_spam, counts_list]\n",
    "pickle.dump(data, open(\"../../data/threeQubits_variational_9_3.p\", \"wb\"))"
   ]
  },
  {
   "cell_type": "code",
   "execution_count": 6,
   "metadata": {},
   "outputs": [
    {
     "name": "stdout",
     "output_type": "stream",
     "text": [
      "     ┌─────────────┐┌──────────────┐          ┌───┐     ┌─────────────┐»\n",
      "q_0: ┤ Ry(-1.3732) ├┤ Rz(-0.17085) ├──────────┤ X ├─────┤ Ry(-2.4131) ├»\n",
      "     └┬────────────┤├──────────────┤┌───┐     └─┬─┘     ├─────────────┤»\n",
      "q_1: ─┤ Ry(0.3113) ├┤ Rz(-0.34891) ├┤ X ├───────■───────┤ Ry(-2.1154) ├»\n",
      "      ├────────────┤└┬────────────┬┘└─┬─┘┌─────────────┐├─────────────┤»\n",
      "q_2: ─┤ Ry(3.0725) ├─┤ Rz(-2.656) ├───■──┤ Ry(-2.8367) ├┤ Rz(0.80043) ├»\n",
      "      └────────────┘ └────────────┘      └─────────────┘└─────────────┘»\n",
      "«     ┌─────────────┐         ┌───┐     ┌─────────────┐ ┌────────────┐     »\n",
      "«q_0: ┤ Rz(0.94312) ├─────────┤ X ├─────┤ Ry(0.74327) ├─┤ Rz(1.0874) ├─────»\n",
      "«     └┬───────────┬┘┌───┐    └─┬─┘     ├─────────────┴┐├────────────┤┌───┐»\n",
      "«q_1: ─┤ Rz(2.238) ├─┤ X ├──────■───────┤ Ry(-0.18629) ├┤ Rz(2.9908) ├┤ X ├»\n",
      "«      └───────────┘ └─┬─┘┌────────────┐├─────────────┬┘└────────────┘└─┬─┘»\n",
      "«q_2: ─────────────────■──┤ Ry(3.0833) ├┤ Rz(-1.3655) ├─────────────────■──»\n",
      "«                         └────────────┘└─────────────┘                    »\n",
      "«          ┌───┐      ┌──────────────┐┌──────────────┐          ┌───┐     »\n",
      "«q_0: ─────┤ X ├──────┤ Ry(0.060945) ├┤ Rz(-0.13476) ├──────────┤ X ├─────»\n",
      "«          └─┬─┘      ├─────────────┬┘├─────────────┬┘┌───┐     └─┬─┘     »\n",
      "«q_1: ───────■────────┤ Ry(-1.3214) ├─┤ Rz(-1.7156) ├─┤ X ├───────■───────»\n",
      "«     ┌──────────────┐└┬────────────┤ └─────────────┘ └─┬─┘┌─────────────┐»\n",
      "«q_2: ┤ Ry(-0.37366) ├─┤ Rz(-2.435) ├───────────────────■──┤ Ry(-1.6163) ├»\n",
      "«     └──────────────┘ └────────────┘                      └─────────────┘»\n",
      "«      ┌────────────┐ ┌─────────────┐         ┌───┐     ┌─────────────┐ »\n",
      "«q_0: ─┤ Ry(2.0035) ├─┤ Rz(-1.7285) ├─────────┤ X ├─────┤ Ry(0.63463) ├─»\n",
      "«     ┌┴────────────┴┐└┬────────────┤┌───┐    └─┬─┘     ├─────────────┤ »\n",
      "«q_1: ┤ Ry(-0.70383) ├─┤ Rz(2.6587) ├┤ X ├──────■───────┤ Ry(-2.4469) ├─»\n",
      "«     ├─────────────┬┘ └────────────┘└─┬─┘┌────────────┐├─────────────┴┐»\n",
      "«q_2: ┤ Rz(-2.6732) ├──────────────────■──┤ Ry(1.2967) ├┤ Rz(-0.58564) ├»\n",
      "«     └─────────────┘                     └────────────┘└──────────────┘»\n",
      "«     ┌─────────────┐          ┌───┐      ┌─────────────┐┌─────────────┐     »\n",
      "«q_0: ┤ Rz(-1.5706) ├──────────┤ X ├──────┤ Ry(-1.5585) ├┤ Rz(-1.1933) ├─────»\n",
      "«     └┬────────────┤┌───┐     └─┬─┘      ├─────────────┤└┬───────────┬┘┌───┐»\n",
      "«q_1: ─┤ Rz(2.1164) ├┤ X ├───────■────────┤ Ry(0.36086) ├─┤ Rz(1.424) ├─┤ X ├»\n",
      "«      └────────────┘└─┬─┘┌──────────────┐├─────────────┤ └───────────┘ └─┬─┘»\n",
      "«q_2: ─────────────────■──┤ Ry(-0.26554) ├┤ Rz(-2.4489) ├─────────────────■──»\n",
      "«                         └──────────────┘└─────────────┘                    »\n",
      "«         ┌───┐     ┌─────────────┐ ┌─────────────┐         ┌───┐    »\n",
      "«q_0: ────┤ X ├─────┤ Ry(-2.5501) ├─┤ Rz(-2.3755) ├─────────┤ X ├────»\n",
      "«         └─┬─┘     ├─────────────┴┐└┬───────────┬┘┌───┐    └─┬─┘    »\n",
      "«q_1: ──────■───────┤ Ry(-0.30369) ├─┤ Rz(1.519) ├─┤ X ├──────■──────»\n",
      "«     ┌────────────┐└┬────────────┬┘ └───────────┘ └─┬─┘┌───────────┐»\n",
      "«q_2: ┤ Ry(2.0468) ├─┤ Rz(2.4329) ├──────────────────■──┤ Ry(2.236) ├»\n",
      "«     └────────────┘ └────────────┘                     └───────────┘»\n",
      "«     ┌─────────────┐┌────────────┐     ┌───┐\n",
      "«q_0: ┤ Ry(-1.9858) ├┤ Rz(1.0451) ├─────┤ X ├\n",
      "«     └┬────────────┤├────────────┤┌───┐└─┬─┘\n",
      "«q_1: ─┤ Ry(-2.721) ├┤ Rz(2.6533) ├┤ X ├──■──\n",
      "«     ┌┴────────────┤└────────────┘└─┬─┘     \n",
      "«q_2: ┤ Rz(-2.0598) ├────────────────■───────\n",
      "«     └─────────────┘                        \n"
     ]
    }
   ],
   "source": [
    "n = 3\n",
    "d = 2**n\n",
    "\n",
    "np.random.seed(45)\n",
    "random.seed(45)\n",
    "\n",
    "circuit_target = variational_circuit(n, 9, 0, 9).reverse_bits()\n",
    "\n",
    "N = 1000-6**n\n",
    "input_map_list, circuit_list = generate_pauli_circuits(n, circuit_target, N)\n",
    "\n",
    "inputs_spam, circuit_spam = generate_pauliInput_circuits(n)\n",
    "\n",
    "circuit_list.extend(circuit_spam)\n",
    "print(circuit_target)"
   ]
  },
  {
   "cell_type": "code",
   "execution_count": 7,
   "metadata": {},
   "outputs": [
    {
     "data": {
      "application/vnd.jupyter.widget-view+json": {
       "model_id": "f175472732dc4247bb1c735f22ded750",
       "version_major": 2,
       "version_minor": 0
      },
      "text/plain": [
       "  0%|          | 0/2 [00:00<?, ?it/s]"
      ]
     },
     "metadata": {},
     "output_type": "display_data"
    },
    {
     "data": {
      "application/vnd.jupyter.widget-view+json": {
       "model_id": "38c2bdb67eaa4a97b1be4224353b12e6",
       "version_major": 2,
       "version_minor": 0
      },
      "text/plain": [
       "  0%|          | 0/5 [00:00<?, ?it/s]"
      ]
     },
     "metadata": {},
     "output_type": "display_data"
    },
    {
     "data": {
      "application/vnd.jupyter.widget-view+json": {
       "model_id": "4b6fb5d813f042a9bb52332452a63344",
       "version_major": 2,
       "version_minor": 0
      },
      "text/plain": [
       "  0%|          | 0/5 [00:00<?, ?it/s]"
      ]
     },
     "metadata": {},
     "output_type": "display_data"
    }
   ],
   "source": [
    "counts_list = execute_and_collect(circuit_list, backend, 'threeQubits_variational_9_4')\n",
    "data = [input_map_list, inputs_spam, counts_list]\n",
    "pickle.dump(data, open(\"../../data/threeQubits_variational_9_4.p\", \"wb\"))"
   ]
  },
  {
   "cell_type": "code",
   "execution_count": 9,
   "metadata": {},
   "outputs": [
    {
     "name": "stdout",
     "output_type": "stream",
     "text": [
      "     ┌─────────────┐ ┌────────────┐          ┌───┐      ┌────────────┐ »\n",
      "q_0: ┤ Ry(-1.5768) ├─┤ Rz(2.7472) ├──────────┤ X ├──────┤ Ry(2.5932) ├─»\n",
      "     ├─────────────┤┌┴────────────┤┌───┐     └─┬─┘     ┌┴────────────┴┐»\n",
      "q_1: ┤ Ry(0.84719) ├┤ Rz(-1.1745) ├┤ X ├───────■───────┤ Ry(-0.37154) ├»\n",
      "     └┬────────────┤└┬────────────┤└─┬─┘┌─────────────┐├──────────────┤»\n",
      "q_2: ─┤ Ry(1.7834) ├─┤ Rz(1.6215) ├──■──┤ Ry(-2.8723) ├┤ Rz(-0.28272) ├»\n",
      "      └────────────┘ └────────────┘     └─────────────┘└──────────────┘»\n",
      "«     ┌─────────────┐           ┌───┐       ┌────────────┐ ┌────────────┐     »\n",
      "«q_0: ┤ Rz(-2.6081) ├───────────┤ X ├───────┤ Ry(2.3064) ├─┤ Rz(1.8982) ├─────»\n",
      "«     ├─────────────┴┐┌───┐     └─┬─┘       ├────────────┤┌┴────────────┤┌───┐»\n",
      "«q_1: ┤ Rz(0.049853) ├┤ X ├───────■─────────┤ Ry(1.5439) ├┤ Rz(-2.4877) ├┤ X ├»\n",
      "«     └──────────────┘└─┬─┘┌──────────────┐┌┴────────────┤└─────────────┘└─┬─┘»\n",
      "«q_2: ──────────────────■──┤ Ry(-0.46276) ├┤ Rz(-1.1079) ├─────────────────■──»\n",
      "«                          └──────────────┘└─────────────┘                    »\n",
      "«          ┌───┐      ┌─────────────┐┌──────────────┐          ┌───┐     »\n",
      "«q_0: ─────┤ X ├──────┤ Ry(-2.9155) ├┤ Rz(-0.80292) ├──────────┤ X ├─────»\n",
      "«          └─┬─┘      ├─────────────┤├─────────────┬┘┌───┐     └─┬─┘     »\n",
      "«q_1: ───────■────────┤ Ry(0.80279) ├┤ Rz(-2.8422) ├─┤ X ├───────■───────»\n",
      "«     ┌──────────────┐├─────────────┤└─────────────┘ └─┬─┘┌─────────────┐»\n",
      "«q_2: ┤ Ry(-0.66079) ├┤ Rz(-1.2572) ├──────────────────■──┤ Ry(-1.4928) ├»\n",
      "«     └──────────────┘└─────────────┘                     └─────────────┘»\n",
      "«     ┌──────────────┐┌───────────────┐         ┌───┐     ┌─────────────┐»\n",
      "«q_0: ┤ Ry(-0.65882) ├┤ Rz(-0.037542) ├─────────┤ X ├─────┤ Ry(-1.6654) ├»\n",
      "«     └┬────────────┬┘└┬─────────────┬┘┌───┐    └─┬─┘     ├─────────────┤»\n",
      "«q_1: ─┤ Ry(3.0821) ├──┤ Rz(-1.7524) ├─┤ X ├──────■───────┤ Ry(-1.3214) ├»\n",
      "«     ┌┴────────────┤  └─────────────┘ └─┬─┘┌────────────┐└┬────────────┤»\n",
      "«q_2: ┤ Rz(-1.2093) ├────────────────────■──┤ Ry(-2.778) ├─┤ Rz(2.9118) ├»\n",
      "«     └─────────────┘                       └────────────┘ └────────────┘»\n",
      "«     ┌────────────┐          ┌───┐      ┌────────────┐ ┌────────────┐     »\n",
      "«q_0: ┤ Rz(2.2782) ├──────────┤ X ├──────┤ Ry(1.0843) ├─┤ Rz(2.5618) ├─────»\n",
      "«     ├────────────┤┌───┐     └─┬─┘     ┌┴────────────┤┌┴────────────┤┌───┐»\n",
      "«q_1: ┤ Rz(0.7268) ├┤ X ├───────■───────┤ Ry(-2.2055) ├┤ Rz(-2.9957) ├┤ X ├»\n",
      "«     └────────────┘└─┬─┘┌─────────────┐└┬────────────┤└─────────────┘└─┬─┘»\n",
      "«q_2: ────────────────■──┤ Ry(-2.5756) ├─┤ Rz(3.0096) ├─────────────────■──»\n",
      "«                        └─────────────┘ └────────────┘                    »\n",
      "«          ┌───┐     ┌─────────────┐┌─────────────┐          ┌───┐     »\n",
      "«q_0: ─────┤ X ├─────┤ Ry(-2.7357) ├┤ Rz(-1.9156) ├──────────┤ X ├─────»\n",
      "«          └─┬─┘     └┬────────────┤├─────────────┤┌───┐     └─┬─┘     »\n",
      "«q_1: ───────■────────┤ Ry(1.6064) ├┤ Rz(-2.0759) ├┤ X ├───────■───────»\n",
      "«     ┌─────────────┐┌┴────────────┤└─────────────┘└─┬─┘┌─────────────┐»\n",
      "«q_2: ┤ Ry(-2.7768) ├┤ Rz(-1.5348) ├─────────────────■──┤ Ry(-2.4721) ├»\n",
      "«     └─────────────┘└─────────────┘                    └─────────────┘»\n",
      "«     ┌─────────────┐┌─────────────┐     ┌───┐\n",
      "«q_0: ┤ Ry(-3.1023) ├┤ Rz(-2.4684) ├─────┤ X ├\n",
      "«     ├─────────────┤└┬───────────┬┘┌───┐└─┬─┘\n",
      "«q_1: ┤ Ry(0.13062) ├─┤ Rz(-2.27) ├─┤ X ├──■──\n",
      "«     └┬────────────┤ └───────────┘ └─┬─┘     \n",
      "«q_2: ─┤ Rz(1.8259) ├─────────────────■───────\n",
      "«      └────────────┘                         \n"
     ]
    }
   ],
   "source": [
    "n = 3\n",
    "d = 2**n\n",
    "\n",
    "np.random.seed(46)\n",
    "random.seed(46)\n",
    "\n",
    "circuit_target = variational_circuit(n, 9, 0, 9).reverse_bits()\n",
    "\n",
    "N = 1000-6**n\n",
    "input_map_list, circuit_list = generate_pauli_circuits(n, circuit_target, N)\n",
    "\n",
    "inputs_spam, circuit_spam = generate_pauliInput_circuits(n)\n",
    "\n",
    "circuit_list.extend(circuit_spam)\n",
    "print(circuit_target)"
   ]
  },
  {
   "cell_type": "code",
   "execution_count": 10,
   "metadata": {},
   "outputs": [
    {
     "data": {
      "application/vnd.jupyter.widget-view+json": {
       "model_id": "df320cb688f84aba8b750066f94b5411",
       "version_major": 2,
       "version_minor": 0
      },
      "text/plain": [
       "  0%|          | 0/2 [00:00<?, ?it/s]"
      ]
     },
     "metadata": {},
     "output_type": "display_data"
    },
    {
     "data": {
      "application/vnd.jupyter.widget-view+json": {
       "model_id": "68fffc8429f94e89b58fa48635a211bc",
       "version_major": 2,
       "version_minor": 0
      },
      "text/plain": [
       "  0%|          | 0/5 [00:00<?, ?it/s]"
      ]
     },
     "metadata": {},
     "output_type": "display_data"
    },
    {
     "data": {
      "application/vnd.jupyter.widget-view+json": {
       "model_id": "7f5c7b3ea89f4352b9ebde4d0770ad37",
       "version_major": 2,
       "version_minor": 0
      },
      "text/plain": [
       "  0%|          | 0/5 [00:00<?, ?it/s]"
      ]
     },
     "metadata": {},
     "output_type": "display_data"
    }
   ],
   "source": [
    "counts_list = execute_and_collect(circuit_list, backend, 'threeQubits_variational_9_7', shots=2*1024)\n",
    "data = [input_map_list, inputs_spam, counts_list]\n",
    "pickle.dump(data, open(\"../../data/threeQubits_variational_9_7.p\", \"wb\"))"
   ]
  },
  {
   "cell_type": "markdown",
   "metadata": {},
   "source": [
    "## Greedy Sampling"
   ]
  },
  {
   "cell_type": "code",
   "execution_count": 5,
   "metadata": {},
   "outputs": [
    {
     "name": "stdout",
     "output_type": "stream",
     "text": [
      "      ┌────────────┐ ┌─────────────┐     ┌───┐     ┌─────────────┐»\n",
      "q_0: ─┤ Ry(1.4577) ├─┤ Rz(-2.1615) ├─────┤ X ├──■──┤ Ry(0.63532) ├»\n",
      "      ├────────────┤ ├─────────────┤┌───┐└─┬─┘  │  └┬────────────┤»\n",
      "q_1: ─┤ Ry(2.8319) ├─┤ Rz(-2.1613) ├┤ X ├──■────┼───┤ Ry(2.3008) ├»\n",
      "     ┌┴────────────┴┐├─────────────┤└─┬─┘     ┌─┴─┐┌┴────────────┤»\n",
      "q_2: ┤ Ry(-0.78829) ├┤ Rz(0.61989) ├──■───────┤ X ├┤ Ry(-2.7766) ├»\n",
      "     └──────────────┘└─────────────┘          └───┘└─────────────┘»\n",
      "«      ┌────────────┐     ┌───┐     ┌─────────────┐┌─────────────┐     ┌───┐»\n",
      "«q_0: ─┤ Rz(2.9525) ├─────┤ X ├──■──┤ Ry(-1.9992) ├┤ Rz(0.15555) ├─────┤ X ├»\n",
      "«     ┌┴────────────┤┌───┐└─┬─┘  │  ├─────────────┤└┬───────────┬┘┌───┐└─┬─┘»\n",
      "«q_1: ┤ Rz(-3.0123) ├┤ X ├──■────┼──┤ Ry(-1.8074) ├─┤ Rz(-1.23) ├─┤ X ├──■──»\n",
      "«     └┬────────────┤└─┬─┘     ┌─┴─┐└┬────────────┤┌┴───────────┴┐└─┬─┘     »\n",
      "«q_2: ─┤ Rz(1.3074) ├──■───────┤ X ├─┤ Ry(2.0888) ├┤ Rz(-1.9892) ├──■───────»\n",
      "«      └────────────┘          └───┘ └────────────┘└─────────────┘          »\n",
      "«          ┌─────────────┐┌──────────────┐     ┌───┐      ┌────────────┐ »\n",
      "«q_0: ──■──┤ Ry(0.70279) ├┤ Rz(-0.83967) ├─────┤ X ├──■───┤ Ry(-1.887) ├─»\n",
      "«       │  ├─────────────┤└┬────────────┬┘┌───┐└─┬─┘  │   ├────────────┤ »\n",
      "«q_1: ──┼──┤ Ry(-1.3117) ├─┤ Rz(-1.306) ├─┤ X ├──■────┼───┤ Ry(1.7918) ├─»\n",
      "«     ┌─┴─┐├─────────────┤┌┴────────────┤ └─┬─┘     ┌─┴─┐┌┴────────────┴┐»\n",
      "«q_2: ┤ X ├┤ Ry(-0.4276) ├┤ Rz(-2.2651) ├───■───────┤ X ├┤ Ry(-0.27602) ├»\n",
      "«     └───┘└─────────────┘└─────────────┘           └───┘└──────────────┘»\n",
      "«     ┌─────────────┐      ┌───┐     ┌─────────────┐┌────────────┐     ┌───┐»\n",
      "«q_0: ┤ Rz(-2.8497) ├──────┤ X ├──■──┤ Ry(-2.7329) ├┤ Rz(1.9377) ├─────┤ X ├»\n",
      "«     ├─────────────┤ ┌───┐└─┬─┘  │  ├─────────────┤├────────────┤┌───┐└─┬─┘»\n",
      "«q_1: ┤ Rz(0.58066) ├─┤ X ├──■────┼──┤ Ry(-2.0702) ├┤ Rz(2.9257) ├┤ X ├──■──»\n",
      "«     ├─────────────┴┐└─┬─┘     ┌─┴─┐├─────────────┤├────────────┤└─┬─┘     »\n",
      "«q_2: ┤ Rz(0.089438) ├──■───────┤ X ├┤ Ry(0.67572) ├┤ Rz(2.8204) ├──■───────»\n",
      "«     └──────────────┘          └───┘└─────────────┘└────────────┘          »\n",
      "«           ┌────────────┐┌───────────────┐     ┌───┐     ┌─────────────┐»\n",
      "«q_0: ──■───┤ Ry(1.1576) ├┤ Rz(-0.030304) ├─────┤ X ├──■──┤ Ry(-1.5156) ├»\n",
      "«       │  ┌┴────────────┤└┬─────────────┬┘┌───┐└─┬─┘  │  └┬────────────┤»\n",
      "«q_1: ──┼──┤ Ry(-2.5279) ├─┤ Rz(-2.3748) ├─┤ X ├──■────┼───┤ Ry(2.5718) ├»\n",
      "«     ┌─┴─┐├─────────────┤ ├─────────────┴┐└─┬─┘     ┌─┴─┐┌┴────────────┤»\n",
      "«q_2: ┤ X ├┤ Ry(-1.2276) ├─┤ Rz(-0.37603) ├──■───────┤ X ├┤ Ry(-2.9255) ├»\n",
      "«     └───┘└─────────────┘ └──────────────┘          └───┘└─────────────┘»\n",
      "«     ┌─────────────┐     ┌───┐      ┌────────────┐┌────────────┐     ┌───┐»\n",
      "«q_0: ┤ Rz(0.12609) ├─────┤ X ├──■───┤ Ry(2.9505) ├┤ Rz(2.4808) ├─────┤ X ├»\n",
      "«     ├─────────────┤┌───┐└─┬─┘  │  ┌┴────────────┤├────────────┤┌───┐└─┬─┘»\n",
      "«q_1: ┤ Rz(-1.1831) ├┤ X ├──■────┼──┤ Ry(-1.9801) ├┤ Rz(2.7615) ├┤ X ├──■──»\n",
      "«     └┬────────────┤└─┬─┘     ┌─┴─┐├─────────────┤├────────────┤└─┬─┘     »\n",
      "«q_2: ─┤ Rz(1.0212) ├──■───────┤ X ├┤ Ry(0.29349) ├┤ Rz(1.7287) ├──■───────»\n",
      "«      └────────────┘          └───┘└─────────────┘└────────────┘          »\n",
      "«          \n",
      "«q_0: ──■──\n",
      "«       │  \n",
      "«q_1: ──┼──\n",
      "«     ┌─┴─┐\n",
      "«q_2: ┤ X ├\n",
      "«     └───┘\n"
     ]
    }
   ],
   "source": [
    "n = 3\n",
    "d = 2**n\n",
    "\n",
    "np.random.seed(42)\n",
    "random.seed(42)\n",
    "\n",
    "circuit_target = variational_circuit(n, 9, 0, 9).reverse_bits()\n",
    "print(circuit_target)\n",
    "\n",
    "N = 1800\n",
    "input_map, circuit_list_map = generate_pauli_circuits(n, circuit_target, N)\n",
    "inputs_spam, circuit_list_spam = generate_pauliInput_circuits(n)"
   ]
  },
  {
   "cell_type": "code",
   "execution_count": 6,
   "metadata": {},
   "outputs": [
    {
     "data": {
      "application/vnd.jupyter.widget-view+json": {
       "model_id": "e3ccfbb2a4fd467fbe066c55706886e8",
       "version_major": 2,
       "version_minor": 0
      },
      "text/plain": [
       "  0%|          | 0/4 [00:00<?, ?it/s]"
      ]
     },
     "metadata": {},
     "output_type": "display_data"
    },
    {
     "data": {
      "application/vnd.jupyter.widget-view+json": {
       "model_id": "a3242b684eb64c1480bd6cb585fa0a86",
       "version_major": 2,
       "version_minor": 0
      },
      "text/plain": [
       "  0%|          | 0/5 [00:00<?, ?it/s]"
      ]
     },
     "metadata": {},
     "output_type": "display_data"
    },
    {
     "data": {
      "application/vnd.jupyter.widget-view+json": {
       "model_id": "5ca4ca393349455594863d205cec7892",
       "version_major": 2,
       "version_minor": 0
      },
      "text/plain": [
       "  0%|          | 0/5 [00:00<?, ?it/s]"
      ]
     },
     "metadata": {},
     "output_type": "display_data"
    },
    {
     "data": {
      "application/vnd.jupyter.widget-view+json": {
       "model_id": "16b7e0c22c22492a97bdea45c87963dc",
       "version_major": 2,
       "version_minor": 0
      },
      "text/plain": [
       "  0%|          | 0/5 [00:00<?, ?it/s]"
      ]
     },
     "metadata": {},
     "output_type": "display_data"
    },
    {
     "data": {
      "application/vnd.jupyter.widget-view+json": {
       "model_id": "06f893e68ee647f5b0a79ad8c4441769",
       "version_major": 2,
       "version_minor": 0
      },
      "text/plain": [
       "  0%|          | 0/3 [00:00<?, ?it/s]"
      ]
     },
     "metadata": {},
     "output_type": "display_data"
    },
    {
     "data": {
      "application/vnd.jupyter.widget-view+json": {
       "model_id": "a0ea19775d0744e393847c3638d4dd3a",
       "version_major": 2,
       "version_minor": 0
      },
      "text/plain": [
       "  0%|          | 0/1 [00:00<?, ?it/s]"
      ]
     },
     "metadata": {},
     "output_type": "display_data"
    },
    {
     "data": {
      "application/vnd.jupyter.widget-view+json": {
       "model_id": "7084c7ce56ca41669dabf7c37f38ea58",
       "version_major": 2,
       "version_minor": 0
      },
      "text/plain": [
       "  0%|          | 0/3 [00:00<?, ?it/s]"
      ]
     },
     "metadata": {},
     "output_type": "display_data"
    }
   ],
   "source": [
    "counts_map = execute_and_collect(circuit_list_map, backend, 'threeQubits_variational_greedy_map', shots = 1000)\n",
    "counts_spam = execute_and_collect(circuit_list_spam, backend, 'threeQubits_variational_greedy_spam', shots = 10000)\n",
    "data = [input_map, counts_map, inputs_spam, counts_spam]\n",
    "pickle.dump(data, open(\"../../data/threeQubits_variational_greedy.p\", \"wb\"))"
   ]
  },
  {
   "cell_type": "markdown",
   "metadata": {},
   "source": [
    "## Delay Circuit\n",
    "\n",
    "### No Delay"
   ]
  },
  {
   "cell_type": "code",
   "execution_count": 6,
   "metadata": {},
   "outputs": [
    {
     "name": "stdout",
     "output_type": "stream",
     "text": [
      "      ┌────────────┐ ┌─────────────┐          ┌───┐     ┌─────────────┐»\n",
      "q_0: ─┤ Ry(1.4577) ├─┤ Rz(-2.1615) ├──────────┤ X ├─────┤ Ry(0.63532) ├»\n",
      "      ├────────────┤ ├─────────────┤┌───┐     └─┬─┘     └┬────────────┤»\n",
      "q_1: ─┤ Ry(2.8319) ├─┤ Rz(-2.1613) ├┤ X ├───────■────────┤ Ry(2.3008) ├»\n",
      "     ┌┴────────────┴┐├─────────────┤└─┬─┘┌─────────────┐ ├────────────┤»\n",
      "q_2: ┤ Ry(-0.78829) ├┤ Rz(0.61989) ├──■──┤ Ry(-2.7766) ├─┤ Rz(1.3074) ├»\n",
      "     └──────────────┘└─────────────┘     └─────────────┘ └────────────┘»\n",
      "«      ┌────────────┐         ┌───┐     ┌─────────────┐┌─────────────┐     »\n",
      "«q_0: ─┤ Rz(2.9525) ├─────────┤ X ├─────┤ Ry(-1.9992) ├┤ Rz(0.15555) ├─────»\n",
      "«     ┌┴────────────┤┌───┐    └─┬─┘     ├─────────────┤└┬───────────┬┘┌───┐»\n",
      "«q_1: ┤ Rz(-3.0123) ├┤ X ├──────■───────┤ Ry(-1.8074) ├─┤ Rz(-1.23) ├─┤ X ├»\n",
      "«     └─────────────┘└─┬─┘┌────────────┐├─────────────┤ └───────────┘ └─┬─┘»\n",
      "«q_2: ─────────────────■──┤ Ry(2.0888) ├┤ Rz(-1.9892) ├─────────────────■──»\n",
      "«                         └────────────┘└─────────────┘                    »\n",
      "«          ┌───┐     ┌─────────────┐┌──────────────┐          ┌───┐      »\n",
      "«q_0: ─────┤ X ├─────┤ Ry(0.70279) ├┤ Rz(-0.83967) ├──────────┤ X ├──────»\n",
      "«          └─┬─┘     ├─────────────┤└┬────────────┬┘┌───┐     └─┬─┘      »\n",
      "«q_1: ───────■───────┤ Ry(-1.3117) ├─┤ Rz(-1.306) ├─┤ X ├───────■────────»\n",
      "«     ┌─────────────┐├─────────────┤ └────────────┘ └─┬─┘┌──────────────┐»\n",
      "«q_2: ┤ Ry(-0.4276) ├┤ Rz(-2.2651) ├──────────────────■──┤ Ry(-0.27602) ├»\n",
      "«     └─────────────┘└─────────────┘                     └──────────────┘»\n",
      "«      ┌────────────┐ ┌─────────────┐          ┌───┐     ┌─────────────┐»\n",
      "«q_0: ─┤ Ry(-1.887) ├─┤ Rz(-2.8497) ├──────────┤ X ├─────┤ Ry(-2.7329) ├»\n",
      "«      ├────────────┤ ├─────────────┤┌───┐     └─┬─┘     ├─────────────┤»\n",
      "«q_1: ─┤ Ry(1.7918) ├─┤ Rz(0.58066) ├┤ X ├───────■───────┤ Ry(-2.0702) ├»\n",
      "«     ┌┴────────────┴┐└─────────────┘└─┬─┘┌─────────────┐└┬────────────┤»\n",
      "«q_2: ┤ Rz(0.089438) ├─────────────────■──┤ Ry(0.67572) ├─┤ Rz(2.8204) ├»\n",
      "«     └──────────────┘                    └─────────────┘ └────────────┘»\n",
      "«     ┌────────────┐          ┌───┐      ┌────────────┐ ┌───────────────┐     »\n",
      "«q_0: ┤ Rz(1.9377) ├──────────┤ X ├──────┤ Ry(1.1576) ├─┤ Rz(-0.030304) ├─────»\n",
      "«     ├────────────┤┌───┐     └─┬─┘     ┌┴────────────┤ └┬─────────────┬┘┌───┐»\n",
      "«q_1: ┤ Rz(2.9257) ├┤ X ├───────■───────┤ Ry(-2.5279) ├──┤ Rz(-2.3748) ├─┤ X ├»\n",
      "«     └────────────┘└─┬─┘┌─────────────┐├─────────────┴┐ └─────────────┘ └─┬─┘»\n",
      "«q_2: ────────────────■──┤ Ry(-1.2276) ├┤ Rz(-0.37603) ├───────────────────■──»\n",
      "«                        └─────────────┘└──────────────┘                      »\n",
      "«          ┌───┐     ┌─────────────┐┌─────────────┐     ┌───┐\n",
      "«q_0: ─────┤ X ├─────┤ Ry(-1.5156) ├┤ Rz(0.12609) ├─────┤ X ├\n",
      "«          └─┬─┘     └┬────────────┤├─────────────┤┌───┐└─┬─┘\n",
      "«q_1: ───────■────────┤ Ry(2.5718) ├┤ Rz(-1.1831) ├┤ X ├──■──\n",
      "«     ┌─────────────┐ ├────────────┤└─────────────┘└─┬─┘     \n",
      "«q_2: ┤ Ry(-2.9255) ├─┤ Rz(1.0212) ├─────────────────■───────\n",
      "«     └─────────────┘ └────────────┘                         \n"
     ]
    }
   ],
   "source": [
    "n = 3\n",
    "d = 2**n\n",
    "\n",
    "np.random.seed(42)\n",
    "random.seed(42)\n",
    "\n",
    "circuit_target = pqc_basic(n, 8).reverse_bits()\n",
    "print(circuit_target)\n",
    "\n",
    "N = 2000 - 6**n\n",
    "inputs_map, circuit_list_map = generate_pauli_circuits(n, circuit_target, N)\n",
    "inputs_spam, circuit_list_spam = generate_pauliInput_circuits(n)\n",
    "\n",
    "circuit_list = circuit_list_map + circuit_list_spam"
   ]
  },
  {
   "cell_type": "code",
   "execution_count": null,
   "metadata": {},
   "outputs": [
    {
     "data": {
      "application/vnd.jupyter.widget-view+json": {
       "model_id": "60185cbbf1db4b14a6855efd430662cc",
       "version_major": 2,
       "version_minor": 0
      },
      "text/plain": [
       "  0%|          | 0/4 [00:00<?, ?it/s]"
      ]
     },
     "metadata": {},
     "output_type": "display_data"
    },
    {
     "data": {
      "application/vnd.jupyter.widget-view+json": {
       "model_id": "dbda5ad0a1564af295fc5c0bc96ce92b",
       "version_major": 2,
       "version_minor": 0
      },
      "text/plain": [
       "  0%|          | 0/5 [00:00<?, ?it/s]"
      ]
     },
     "metadata": {},
     "output_type": "display_data"
    }
   ],
   "source": [
    "counts_list = execute_and_collect(circuit_list, backend, 'threeQubits_variational_manila', shots = 5000)\n",
    "data = [inputs_map, inputs_spam, counts_list]\n",
    "pickle.dump(data, open(\"../../data/threeQubits_variational_noDelay_manila.p\", \"wb\"))"
   ]
  },
  {
   "cell_type": "markdown",
   "metadata": {},
   "source": [
    "### 2.5 mu"
   ]
  },
  {
   "cell_type": "code",
   "execution_count": null,
   "metadata": {},
   "outputs": [],
   "source": [
    "n = 3\n",
    "d = 2**n\n",
    "\n",
    "np.random.seed(42)\n",
    "random.seed(42)\n",
    "\n",
    "circuit_target = pqc_basic(n, 8).reverse_bits()\n",
    "circuit_target.delay(2.5, unit=\"us\")\n",
    "print(circuit_target)\n",
    "\n",
    "N = 2000 - 6**n\n",
    "inputs_map, circuit_list_map = generate_pauli_circuits(n, circuit_target, N)\n",
    "inputs_spam, circuit_list_spam = generate_pauliInput_circuits(n)\n",
    "\n",
    "circuit_list = circuit_list_map + circuit_list_spam"
   ]
  },
  {
   "cell_type": "code",
   "execution_count": null,
   "metadata": {},
   "outputs": [],
   "source": [
    "counts_list = execute_and_collect(circuit_list, backend, 'threeQubits_variational_2point5usDelay_manila', shots = 5000)\n",
    "data = [inputs_map, inputs_spam, counts_list]\n",
    "pickle.dump(data, open(\"../../data/threeQubits_variational_2point5usDelay_manila.p\", \"wb\"))"
   ]
  },
  {
   "cell_type": "markdown",
   "metadata": {},
   "source": [
    "### 5 mu"
   ]
  },
  {
   "cell_type": "code",
   "execution_count": 18,
   "metadata": {},
   "outputs": [
    {
     "name": "stdout",
     "output_type": "stream",
     "text": [
      "      ┌────────────┐ ┌─────────────┐          ┌───┐     ┌─────────────┐»\n",
      "q_0: ─┤ Ry(1.4577) ├─┤ Rz(-2.1615) ├──────────┤ X ├─────┤ Ry(0.63532) ├»\n",
      "      ├────────────┤ ├─────────────┤┌───┐     └─┬─┘     └┬────────────┤»\n",
      "q_1: ─┤ Ry(2.8319) ├─┤ Rz(-2.1613) ├┤ X ├───────■────────┤ Ry(2.3008) ├»\n",
      "     ┌┴────────────┴┐├─────────────┤└─┬─┘┌─────────────┐ ├────────────┤»\n",
      "q_2: ┤ Ry(-0.78829) ├┤ Rz(0.61989) ├──■──┤ Ry(-2.7766) ├─┤ Rz(1.3074) ├»\n",
      "     └──────────────┘└─────────────┘     └─────────────┘ └────────────┘»\n",
      "«      ┌────────────┐         ┌───┐     ┌─────────────┐┌─────────────┐     »\n",
      "«q_0: ─┤ Rz(2.9525) ├─────────┤ X ├─────┤ Ry(-1.9992) ├┤ Rz(0.15555) ├─────»\n",
      "«     ┌┴────────────┤┌───┐    └─┬─┘     ├─────────────┤└┬───────────┬┘┌───┐»\n",
      "«q_1: ┤ Rz(-3.0123) ├┤ X ├──────■───────┤ Ry(-1.8074) ├─┤ Rz(-1.23) ├─┤ X ├»\n",
      "«     └─────────────┘└─┬─┘┌────────────┐├─────────────┤ └───────────┘ └─┬─┘»\n",
      "«q_2: ─────────────────■──┤ Ry(2.0888) ├┤ Rz(-1.9892) ├─────────────────■──»\n",
      "«                         └────────────┘└─────────────┘                    »\n",
      "«          ┌───┐     ┌─────────────┐┌──────────────┐          ┌───┐      »\n",
      "«q_0: ─────┤ X ├─────┤ Ry(0.70279) ├┤ Rz(-0.83967) ├──────────┤ X ├──────»\n",
      "«          └─┬─┘     ├─────────────┤└┬────────────┬┘┌───┐     └─┬─┘      »\n",
      "«q_1: ───────■───────┤ Ry(-1.3117) ├─┤ Rz(-1.306) ├─┤ X ├───────■────────»\n",
      "«     ┌─────────────┐├─────────────┤ └────────────┘ └─┬─┘┌──────────────┐»\n",
      "«q_2: ┤ Ry(-0.4276) ├┤ Rz(-2.2651) ├──────────────────■──┤ Ry(-0.27602) ├»\n",
      "«     └─────────────┘└─────────────┘                     └──────────────┘»\n",
      "«      ┌────────────┐ ┌─────────────┐          ┌───┐     ┌─────────────┐»\n",
      "«q_0: ─┤ Ry(-1.887) ├─┤ Rz(-2.8497) ├──────────┤ X ├─────┤ Ry(-2.7329) ├»\n",
      "«      ├────────────┤ ├─────────────┤┌───┐     └─┬─┘     ├─────────────┤»\n",
      "«q_1: ─┤ Ry(1.7918) ├─┤ Rz(0.58066) ├┤ X ├───────■───────┤ Ry(-2.0702) ├»\n",
      "«     ┌┴────────────┴┐└─────────────┘└─┬─┘┌─────────────┐└┬────────────┤»\n",
      "«q_2: ┤ Rz(0.089438) ├─────────────────■──┤ Ry(0.67572) ├─┤ Rz(2.8204) ├»\n",
      "«     └──────────────┘                    └─────────────┘ └────────────┘»\n",
      "«     ┌────────────┐          ┌───┐      ┌────────────┐ ┌───────────────┐     »\n",
      "«q_0: ┤ Rz(1.9377) ├──────────┤ X ├──────┤ Ry(1.1576) ├─┤ Rz(-0.030304) ├─────»\n",
      "«     ├────────────┤┌───┐     └─┬─┘     ┌┴────────────┤ └┬─────────────┬┘┌───┐»\n",
      "«q_1: ┤ Rz(2.9257) ├┤ X ├───────■───────┤ Ry(-2.5279) ├──┤ Rz(-2.3748) ├─┤ X ├»\n",
      "«     └────────────┘└─┬─┘┌─────────────┐├─────────────┴┐ └─────────────┘ └─┬─┘»\n",
      "«q_2: ────────────────■──┤ Ry(-1.2276) ├┤ Rz(-0.37603) ├───────────────────■──»\n",
      "«                        └─────────────┘└──────────────┘                      »\n",
      "«          ┌───┐     ┌─────────────┐┌─────────────┐          ┌───┐      »\n",
      "«q_0: ─────┤ X ├─────┤ Ry(-1.5156) ├┤ Rz(0.12609) ├──────────┤ X ├──────»\n",
      "«          └─┬─┘     └┬────────────┤├─────────────┤┌───┐     └─┬─┘      »\n",
      "«q_1: ───────■────────┤ Ry(2.5718) ├┤ Rz(-1.1831) ├┤ X ├───────■────────»\n",
      "«     ┌─────────────┐ ├────────────┤└─────────────┘└─┬─┘┌──────────────┐»\n",
      "«q_2: ┤ Ry(-2.9255) ├─┤ Rz(1.0212) ├─────────────────■──┤ Delay(5[us]) ├»\n",
      "«     └─────────────┘ └────────────┘                    └──────────────┘»\n",
      "«     ┌──────────────┐\n",
      "«q_0: ┤ Delay(5[us]) ├\n",
      "«     ├──────────────┤\n",
      "«q_1: ┤ Delay(5[us]) ├\n",
      "«     └──────────────┘\n",
      "«q_2: ────────────────\n",
      "«                     \n"
     ]
    }
   ],
   "source": [
    "n = 3\n",
    "d = 2**n\n",
    "\n",
    "np.random.seed(42)\n",
    "random.seed(42)\n",
    "\n",
    "circuit_target = pqc_basic(n, 8).reverse_bits()\n",
    "circuit_target.delay(5, unit=\"us\")\n",
    "print(circuit_target)\n",
    "\n",
    "N = 2000 - 6**n\n",
    "inputs_map, circuit_list_map = generate_pauli_circuits(n, circuit_target, N)\n",
    "inputs_spam, circuit_list_spam = generate_pauliInput_circuits(n)\n",
    "\n",
    "circuit_list = circuit_list_map + circuit_list_spam"
   ]
  },
  {
   "cell_type": "code",
   "execution_count": null,
   "metadata": {},
   "outputs": [
    {
     "data": {
      "application/vnd.jupyter.widget-view+json": {
       "model_id": "bbe6db47172e416e9718ce5104aa436e",
       "version_major": 2,
       "version_minor": 0
      },
      "text/plain": [
       "  0%|          | 0/4 [00:00<?, ?it/s]"
      ]
     },
     "metadata": {},
     "output_type": "display_data"
    },
    {
     "data": {
      "application/vnd.jupyter.widget-view+json": {
       "model_id": "5b45642a665c45f2ab45edb5ab511414",
       "version_major": 2,
       "version_minor": 0
      },
      "text/plain": [
       "  0%|          | 0/5 [00:00<?, ?it/s]"
      ]
     },
     "metadata": {},
     "output_type": "display_data"
    },
    {
     "data": {
      "application/vnd.jupyter.widget-view+json": {
       "model_id": "5bc627db4e914da7a2849fd5f28bcea1",
       "version_major": 2,
       "version_minor": 0
      },
      "text/plain": [
       "  0%|          | 0/5 [00:00<?, ?it/s]"
      ]
     },
     "metadata": {},
     "output_type": "display_data"
    },
    {
     "data": {
      "application/vnd.jupyter.widget-view+json": {
       "model_id": "ce8a641e26c4431aa71b3a0ffd3eb036",
       "version_major": 2,
       "version_minor": 0
      },
      "text/plain": [
       "  0%|          | 0/5 [00:00<?, ?it/s]"
      ]
     },
     "metadata": {},
     "output_type": "display_data"
    }
   ],
   "source": [
    "counts_list = execute_and_collect(circuit_list, backend, 'threeQubits_variational_5usDelay_manila', shots = 5000)\n",
    "data = [inputs_map, inputs_spam, counts_list]\n",
    "pickle.dump(data, open(\"../../data/threeQubits_variational_5usDelay_manila.p\", \"wb\"))"
   ]
  },
  {
   "cell_type": "markdown",
   "metadata": {},
   "source": [
    "### 6 mu"
   ]
  },
  {
   "cell_type": "code",
   "execution_count": 10,
   "metadata": {},
   "outputs": [
    {
     "name": "stdout",
     "output_type": "stream",
     "text": [
      "      ┌────────────┐ ┌─────────────┐          ┌───┐     ┌─────────────┐»\n",
      "q_0: ─┤ Ry(1.4577) ├─┤ Rz(-2.1615) ├──────────┤ X ├─────┤ Ry(0.63532) ├»\n",
      "      ├────────────┤ ├─────────────┤┌───┐     └─┬─┘     └┬────────────┤»\n",
      "q_1: ─┤ Ry(2.8319) ├─┤ Rz(-2.1613) ├┤ X ├───────■────────┤ Ry(2.3008) ├»\n",
      "     ┌┴────────────┴┐├─────────────┤└─┬─┘┌─────────────┐ ├────────────┤»\n",
      "q_2: ┤ Ry(-0.78829) ├┤ Rz(0.61989) ├──■──┤ Ry(-2.7766) ├─┤ Rz(1.3074) ├»\n",
      "     └──────────────┘└─────────────┘     └─────────────┘ └────────────┘»\n",
      "«      ┌────────────┐         ┌───┐     ┌─────────────┐┌─────────────┐     »\n",
      "«q_0: ─┤ Rz(2.9525) ├─────────┤ X ├─────┤ Ry(-1.9992) ├┤ Rz(0.15555) ├─────»\n",
      "«     ┌┴────────────┤┌───┐    └─┬─┘     ├─────────────┤└┬───────────┬┘┌───┐»\n",
      "«q_1: ┤ Rz(-3.0123) ├┤ X ├──────■───────┤ Ry(-1.8074) ├─┤ Rz(-1.23) ├─┤ X ├»\n",
      "«     └─────────────┘└─┬─┘┌────────────┐├─────────────┤ └───────────┘ └─┬─┘»\n",
      "«q_2: ─────────────────■──┤ Ry(2.0888) ├┤ Rz(-1.9892) ├─────────────────■──»\n",
      "«                         └────────────┘└─────────────┘                    »\n",
      "«          ┌───┐     ┌─────────────┐┌──────────────┐          ┌───┐      »\n",
      "«q_0: ─────┤ X ├─────┤ Ry(0.70279) ├┤ Rz(-0.83967) ├──────────┤ X ├──────»\n",
      "«          └─┬─┘     ├─────────────┤└┬────────────┬┘┌───┐     └─┬─┘      »\n",
      "«q_1: ───────■───────┤ Ry(-1.3117) ├─┤ Rz(-1.306) ├─┤ X ├───────■────────»\n",
      "«     ┌─────────────┐├─────────────┤ └────────────┘ └─┬─┘┌──────────────┐»\n",
      "«q_2: ┤ Ry(-0.4276) ├┤ Rz(-2.2651) ├──────────────────■──┤ Ry(-0.27602) ├»\n",
      "«     └─────────────┘└─────────────┘                     └──────────────┘»\n",
      "«      ┌────────────┐ ┌─────────────┐          ┌───┐     ┌─────────────┐»\n",
      "«q_0: ─┤ Ry(-1.887) ├─┤ Rz(-2.8497) ├──────────┤ X ├─────┤ Ry(-2.7329) ├»\n",
      "«      ├────────────┤ ├─────────────┤┌───┐     └─┬─┘     ├─────────────┤»\n",
      "«q_1: ─┤ Ry(1.7918) ├─┤ Rz(0.58066) ├┤ X ├───────■───────┤ Ry(-2.0702) ├»\n",
      "«     ┌┴────────────┴┐└─────────────┘└─┬─┘┌─────────────┐└┬────────────┤»\n",
      "«q_2: ┤ Rz(0.089438) ├─────────────────■──┤ Ry(0.67572) ├─┤ Rz(2.8204) ├»\n",
      "«     └──────────────┘                    └─────────────┘ └────────────┘»\n",
      "«     ┌────────────┐          ┌───┐      ┌────────────┐ ┌───────────────┐     »\n",
      "«q_0: ┤ Rz(1.9377) ├──────────┤ X ├──────┤ Ry(1.1576) ├─┤ Rz(-0.030304) ├─────»\n",
      "«     ├────────────┤┌───┐     └─┬─┘     ┌┴────────────┤ └┬─────────────┬┘┌───┐»\n",
      "«q_1: ┤ Rz(2.9257) ├┤ X ├───────■───────┤ Ry(-2.5279) ├──┤ Rz(-2.3748) ├─┤ X ├»\n",
      "«     └────────────┘└─┬─┘┌─────────────┐├─────────────┴┐ └─────────────┘ └─┬─┘»\n",
      "«q_2: ────────────────■──┤ Ry(-1.2276) ├┤ Rz(-0.37603) ├───────────────────■──»\n",
      "«                        └─────────────┘└──────────────┘                      »\n",
      "«          ┌───┐     ┌─────────────┐┌─────────────┐          ┌───┐      »\n",
      "«q_0: ─────┤ X ├─────┤ Ry(-1.5156) ├┤ Rz(0.12609) ├──────────┤ X ├──────»\n",
      "«          └─┬─┘     └┬────────────┤├─────────────┤┌───┐     └─┬─┘      »\n",
      "«q_1: ───────■────────┤ Ry(2.5718) ├┤ Rz(-1.1831) ├┤ X ├───────■────────»\n",
      "«     ┌─────────────┐ ├────────────┤└─────────────┘└─┬─┘┌──────────────┐»\n",
      "«q_2: ┤ Ry(-2.9255) ├─┤ Rz(1.0212) ├─────────────────■──┤ Delay(6[us]) ├»\n",
      "«     └─────────────┘ └────────────┘                    └──────────────┘»\n",
      "«     ┌──────────────┐\n",
      "«q_0: ┤ Delay(6[us]) ├\n",
      "«     ├──────────────┤\n",
      "«q_1: ┤ Delay(6[us]) ├\n",
      "«     └──────────────┘\n",
      "«q_2: ────────────────\n",
      "«                     \n"
     ]
    }
   ],
   "source": [
    "n = 3\n",
    "d = 2**n\n",
    "\n",
    "np.random.seed(42)\n",
    "random.seed(42)\n",
    "\n",
    "circuit_target = pqc_basic(n, 8).reverse_bits()\n",
    "circuit_target.delay(6, unit=\"us\")\n",
    "print(circuit_target)\n",
    "\n",
    "N = 2000 - 6**n\n",
    "inputs_map, circuit_list_map = generate_pauli_circuits(n, circuit_target, N)\n",
    "inputs_spam, circuit_list_spam = generate_pauliInput_circuits(n)\n",
    "\n",
    "circuit_list = circuit_list_map + circuit_list_spam"
   ]
  },
  {
   "cell_type": "code",
   "execution_count": 11,
   "metadata": {},
   "outputs": [
    {
     "data": {
      "application/vnd.jupyter.widget-view+json": {
       "model_id": "23a23dbea4004946be1711c7764fe93f",
       "version_major": 2,
       "version_minor": 0
      },
      "text/plain": [
       "  0%|          | 0/4 [00:00<?, ?it/s]"
      ]
     },
     "metadata": {},
     "output_type": "display_data"
    },
    {
     "data": {
      "application/vnd.jupyter.widget-view+json": {
       "model_id": "4fbda59d21ad42668d45a55cead845ca",
       "version_major": 2,
       "version_minor": 0
      },
      "text/plain": [
       "  0%|          | 0/5 [00:00<?, ?it/s]"
      ]
     },
     "metadata": {},
     "output_type": "display_data"
    },
    {
     "data": {
      "application/vnd.jupyter.widget-view+json": {
       "model_id": "2794cd839e81445785c04c160d71eebd",
       "version_major": 2,
       "version_minor": 0
      },
      "text/plain": [
       "  0%|          | 0/5 [00:00<?, ?it/s]"
      ]
     },
     "metadata": {},
     "output_type": "display_data"
    },
    {
     "data": {
      "application/vnd.jupyter.widget-view+json": {
       "model_id": "d71c01bf294f4bffaa635eff5797b597",
       "version_major": 2,
       "version_minor": 0
      },
      "text/plain": [
       "  0%|          | 0/5 [00:00<?, ?it/s]"
      ]
     },
     "metadata": {},
     "output_type": "display_data"
    },
    {
     "data": {
      "application/vnd.jupyter.widget-view+json": {
       "model_id": "be5ed79a1d6c416a8e785b8ab2133548",
       "version_major": 2,
       "version_minor": 0
      },
      "text/plain": [
       "  0%|          | 0/5 [00:00<?, ?it/s]"
      ]
     },
     "metadata": {},
     "output_type": "display_data"
    }
   ],
   "source": [
    "counts_list = execute_and_collect(circuit_list, backend, 'threeQubits_variational_6usDelay_manila', shots = 5000)\n",
    "data = [inputs_map, inputs_spam, counts_list]\n",
    "pickle.dump(data, open(\"../../data/threeQubits_variational_6usDelay_manila.p\", \"wb\"))"
   ]
  },
  {
   "cell_type": "markdown",
   "metadata": {},
   "source": [
    "### 7 mu"
   ]
  },
  {
   "cell_type": "code",
   "execution_count": 12,
   "metadata": {},
   "outputs": [
    {
     "name": "stdout",
     "output_type": "stream",
     "text": [
      "      ┌────────────┐ ┌─────────────┐          ┌───┐     ┌─────────────┐»\n",
      "q_0: ─┤ Ry(1.4577) ├─┤ Rz(-2.1615) ├──────────┤ X ├─────┤ Ry(0.63532) ├»\n",
      "      ├────────────┤ ├─────────────┤┌───┐     └─┬─┘     └┬────────────┤»\n",
      "q_1: ─┤ Ry(2.8319) ├─┤ Rz(-2.1613) ├┤ X ├───────■────────┤ Ry(2.3008) ├»\n",
      "     ┌┴────────────┴┐├─────────────┤└─┬─┘┌─────────────┐ ├────────────┤»\n",
      "q_2: ┤ Ry(-0.78829) ├┤ Rz(0.61989) ├──■──┤ Ry(-2.7766) ├─┤ Rz(1.3074) ├»\n",
      "     └──────────────┘└─────────────┘     └─────────────┘ └────────────┘»\n",
      "«      ┌────────────┐         ┌───┐     ┌─────────────┐┌─────────────┐     »\n",
      "«q_0: ─┤ Rz(2.9525) ├─────────┤ X ├─────┤ Ry(-1.9992) ├┤ Rz(0.15555) ├─────»\n",
      "«     ┌┴────────────┤┌───┐    └─┬─┘     ├─────────────┤└┬───────────┬┘┌───┐»\n",
      "«q_1: ┤ Rz(-3.0123) ├┤ X ├──────■───────┤ Ry(-1.8074) ├─┤ Rz(-1.23) ├─┤ X ├»\n",
      "«     └─────────────┘└─┬─┘┌────────────┐├─────────────┤ └───────────┘ └─┬─┘»\n",
      "«q_2: ─────────────────■──┤ Ry(2.0888) ├┤ Rz(-1.9892) ├─────────────────■──»\n",
      "«                         └────────────┘└─────────────┘                    »\n",
      "«          ┌───┐     ┌─────────────┐┌──────────────┐          ┌───┐      »\n",
      "«q_0: ─────┤ X ├─────┤ Ry(0.70279) ├┤ Rz(-0.83967) ├──────────┤ X ├──────»\n",
      "«          └─┬─┘     ├─────────────┤└┬────────────┬┘┌───┐     └─┬─┘      »\n",
      "«q_1: ───────■───────┤ Ry(-1.3117) ├─┤ Rz(-1.306) ├─┤ X ├───────■────────»\n",
      "«     ┌─────────────┐├─────────────┤ └────────────┘ └─┬─┘┌──────────────┐»\n",
      "«q_2: ┤ Ry(-0.4276) ├┤ Rz(-2.2651) ├──────────────────■──┤ Ry(-0.27602) ├»\n",
      "«     └─────────────┘└─────────────┘                     └──────────────┘»\n",
      "«      ┌────────────┐ ┌─────────────┐          ┌───┐     ┌─────────────┐»\n",
      "«q_0: ─┤ Ry(-1.887) ├─┤ Rz(-2.8497) ├──────────┤ X ├─────┤ Ry(-2.7329) ├»\n",
      "«      ├────────────┤ ├─────────────┤┌───┐     └─┬─┘     ├─────────────┤»\n",
      "«q_1: ─┤ Ry(1.7918) ├─┤ Rz(0.58066) ├┤ X ├───────■───────┤ Ry(-2.0702) ├»\n",
      "«     ┌┴────────────┴┐└─────────────┘└─┬─┘┌─────────────┐└┬────────────┤»\n",
      "«q_2: ┤ Rz(0.089438) ├─────────────────■──┤ Ry(0.67572) ├─┤ Rz(2.8204) ├»\n",
      "«     └──────────────┘                    └─────────────┘ └────────────┘»\n",
      "«     ┌────────────┐          ┌───┐      ┌────────────┐ ┌───────────────┐     »\n",
      "«q_0: ┤ Rz(1.9377) ├──────────┤ X ├──────┤ Ry(1.1576) ├─┤ Rz(-0.030304) ├─────»\n",
      "«     ├────────────┤┌───┐     └─┬─┘     ┌┴────────────┤ └┬─────────────┬┘┌───┐»\n",
      "«q_1: ┤ Rz(2.9257) ├┤ X ├───────■───────┤ Ry(-2.5279) ├──┤ Rz(-2.3748) ├─┤ X ├»\n",
      "«     └────────────┘└─┬─┘┌─────────────┐├─────────────┴┐ └─────────────┘ └─┬─┘»\n",
      "«q_2: ────────────────■──┤ Ry(-1.2276) ├┤ Rz(-0.37603) ├───────────────────■──»\n",
      "«                        └─────────────┘└──────────────┘                      »\n",
      "«          ┌───┐     ┌─────────────┐┌─────────────┐          ┌───┐      »\n",
      "«q_0: ─────┤ X ├─────┤ Ry(-1.5156) ├┤ Rz(0.12609) ├──────────┤ X ├──────»\n",
      "«          └─┬─┘     └┬────────────┤├─────────────┤┌───┐     └─┬─┘      »\n",
      "«q_1: ───────■────────┤ Ry(2.5718) ├┤ Rz(-1.1831) ├┤ X ├───────■────────»\n",
      "«     ┌─────────────┐ ├────────────┤└─────────────┘└─┬─┘┌──────────────┐»\n",
      "«q_2: ┤ Ry(-2.9255) ├─┤ Rz(1.0212) ├─────────────────■──┤ Delay(7[us]) ├»\n",
      "«     └─────────────┘ └────────────┘                    └──────────────┘»\n",
      "«     ┌──────────────┐\n",
      "«q_0: ┤ Delay(7[us]) ├\n",
      "«     ├──────────────┤\n",
      "«q_1: ┤ Delay(7[us]) ├\n",
      "«     └──────────────┘\n",
      "«q_2: ────────────────\n",
      "«                     \n"
     ]
    }
   ],
   "source": [
    "n = 3\n",
    "d = 2**n\n",
    "\n",
    "np.random.seed(42)\n",
    "random.seed(42)\n",
    "\n",
    "circuit_target = pqc_basic(n, 8).reverse_bits()\n",
    "circuit_target.delay(7, unit=\"us\")\n",
    "print(circuit_target)\n",
    "\n",
    "N = 2000 - 6**n\n",
    "inputs_map, circuit_list_map = generate_pauli_circuits(n, circuit_target, N)\n",
    "inputs_spam, circuit_list_spam = generate_pauliInput_circuits(n)\n",
    "\n",
    "circuit_list = circuit_list_map + circuit_list_spam"
   ]
  },
  {
   "cell_type": "code",
   "execution_count": 13,
   "metadata": {},
   "outputs": [
    {
     "data": {
      "application/vnd.jupyter.widget-view+json": {
       "model_id": "38465a5fd2bf4f3db30683c453b1cc83",
       "version_major": 2,
       "version_minor": 0
      },
      "text/plain": [
       "  0%|          | 0/4 [00:00<?, ?it/s]"
      ]
     },
     "metadata": {},
     "output_type": "display_data"
    },
    {
     "data": {
      "application/vnd.jupyter.widget-view+json": {
       "model_id": "7e3b7d75c82a4066890accaab8911ce2",
       "version_major": 2,
       "version_minor": 0
      },
      "text/plain": [
       "  0%|          | 0/5 [00:00<?, ?it/s]"
      ]
     },
     "metadata": {},
     "output_type": "display_data"
    },
    {
     "data": {
      "application/vnd.jupyter.widget-view+json": {
       "model_id": "eb65944e0e654d2c85c813467cdad418",
       "version_major": 2,
       "version_minor": 0
      },
      "text/plain": [
       "  0%|          | 0/5 [00:00<?, ?it/s]"
      ]
     },
     "metadata": {},
     "output_type": "display_data"
    },
    {
     "data": {
      "application/vnd.jupyter.widget-view+json": {
       "model_id": "071d974c222842358c88d65f19caa64a",
       "version_major": 2,
       "version_minor": 0
      },
      "text/plain": [
       "  0%|          | 0/5 [00:00<?, ?it/s]"
      ]
     },
     "metadata": {},
     "output_type": "display_data"
    },
    {
     "data": {
      "application/vnd.jupyter.widget-view+json": {
       "model_id": "3250c42256b643fab13115821d3e5fa3",
       "version_major": 2,
       "version_minor": 0
      },
      "text/plain": [
       "  0%|          | 0/5 [00:00<?, ?it/s]"
      ]
     },
     "metadata": {},
     "output_type": "display_data"
    }
   ],
   "source": [
    "counts_list = execute_and_collect(circuit_list, backend, 'threeQubits_variational_7usDelay_manila', shots = 5000)\n",
    "data = [inputs_map, inputs_spam, counts_list]\n",
    "pickle.dump(data, open(\"../../data/threeQubits_variational_7usDelay_manila.p\", \"wb\"))"
   ]
  },
  {
   "cell_type": "markdown",
   "metadata": {},
   "source": [
    "### 8 mu"
   ]
  },
  {
   "cell_type": "code",
   "execution_count": 14,
   "metadata": {},
   "outputs": [
    {
     "name": "stdout",
     "output_type": "stream",
     "text": [
      "      ┌────────────┐ ┌─────────────┐          ┌───┐     ┌─────────────┐»\n",
      "q_0: ─┤ Ry(1.4577) ├─┤ Rz(-2.1615) ├──────────┤ X ├─────┤ Ry(0.63532) ├»\n",
      "      ├────────────┤ ├─────────────┤┌───┐     └─┬─┘     └┬────────────┤»\n",
      "q_1: ─┤ Ry(2.8319) ├─┤ Rz(-2.1613) ├┤ X ├───────■────────┤ Ry(2.3008) ├»\n",
      "     ┌┴────────────┴┐├─────────────┤└─┬─┘┌─────────────┐ ├────────────┤»\n",
      "q_2: ┤ Ry(-0.78829) ├┤ Rz(0.61989) ├──■──┤ Ry(-2.7766) ├─┤ Rz(1.3074) ├»\n",
      "     └──────────────┘└─────────────┘     └─────────────┘ └────────────┘»\n",
      "«      ┌────────────┐         ┌───┐     ┌─────────────┐┌─────────────┐     »\n",
      "«q_0: ─┤ Rz(2.9525) ├─────────┤ X ├─────┤ Ry(-1.9992) ├┤ Rz(0.15555) ├─────»\n",
      "«     ┌┴────────────┤┌───┐    └─┬─┘     ├─────────────┤└┬───────────┬┘┌───┐»\n",
      "«q_1: ┤ Rz(-3.0123) ├┤ X ├──────■───────┤ Ry(-1.8074) ├─┤ Rz(-1.23) ├─┤ X ├»\n",
      "«     └─────────────┘└─┬─┘┌────────────┐├─────────────┤ └───────────┘ └─┬─┘»\n",
      "«q_2: ─────────────────■──┤ Ry(2.0888) ├┤ Rz(-1.9892) ├─────────────────■──»\n",
      "«                         └────────────┘└─────────────┘                    »\n",
      "«          ┌───┐     ┌─────────────┐┌──────────────┐          ┌───┐      »\n",
      "«q_0: ─────┤ X ├─────┤ Ry(0.70279) ├┤ Rz(-0.83967) ├──────────┤ X ├──────»\n",
      "«          └─┬─┘     ├─────────────┤└┬────────────┬┘┌───┐     └─┬─┘      »\n",
      "«q_1: ───────■───────┤ Ry(-1.3117) ├─┤ Rz(-1.306) ├─┤ X ├───────■────────»\n",
      "«     ┌─────────────┐├─────────────┤ └────────────┘ └─┬─┘┌──────────────┐»\n",
      "«q_2: ┤ Ry(-0.4276) ├┤ Rz(-2.2651) ├──────────────────■──┤ Ry(-0.27602) ├»\n",
      "«     └─────────────┘└─────────────┘                     └──────────────┘»\n",
      "«      ┌────────────┐ ┌─────────────┐          ┌───┐     ┌─────────────┐»\n",
      "«q_0: ─┤ Ry(-1.887) ├─┤ Rz(-2.8497) ├──────────┤ X ├─────┤ Ry(-2.7329) ├»\n",
      "«      ├────────────┤ ├─────────────┤┌───┐     └─┬─┘     ├─────────────┤»\n",
      "«q_1: ─┤ Ry(1.7918) ├─┤ Rz(0.58066) ├┤ X ├───────■───────┤ Ry(-2.0702) ├»\n",
      "«     ┌┴────────────┴┐└─────────────┘└─┬─┘┌─────────────┐└┬────────────┤»\n",
      "«q_2: ┤ Rz(0.089438) ├─────────────────■──┤ Ry(0.67572) ├─┤ Rz(2.8204) ├»\n",
      "«     └──────────────┘                    └─────────────┘ └────────────┘»\n",
      "«     ┌────────────┐          ┌───┐      ┌────────────┐ ┌───────────────┐     »\n",
      "«q_0: ┤ Rz(1.9377) ├──────────┤ X ├──────┤ Ry(1.1576) ├─┤ Rz(-0.030304) ├─────»\n",
      "«     ├────────────┤┌───┐     └─┬─┘     ┌┴────────────┤ └┬─────────────┬┘┌───┐»\n",
      "«q_1: ┤ Rz(2.9257) ├┤ X ├───────■───────┤ Ry(-2.5279) ├──┤ Rz(-2.3748) ├─┤ X ├»\n",
      "«     └────────────┘└─┬─┘┌─────────────┐├─────────────┴┐ └─────────────┘ └─┬─┘»\n",
      "«q_2: ────────────────■──┤ Ry(-1.2276) ├┤ Rz(-0.37603) ├───────────────────■──»\n",
      "«                        └─────────────┘└──────────────┘                      »\n",
      "«          ┌───┐     ┌─────────────┐┌─────────────┐          ┌───┐      »\n",
      "«q_0: ─────┤ X ├─────┤ Ry(-1.5156) ├┤ Rz(0.12609) ├──────────┤ X ├──────»\n",
      "«          └─┬─┘     └┬────────────┤├─────────────┤┌───┐     └─┬─┘      »\n",
      "«q_1: ───────■────────┤ Ry(2.5718) ├┤ Rz(-1.1831) ├┤ X ├───────■────────»\n",
      "«     ┌─────────────┐ ├────────────┤└─────────────┘└─┬─┘┌──────────────┐»\n",
      "«q_2: ┤ Ry(-2.9255) ├─┤ Rz(1.0212) ├─────────────────■──┤ Delay(8[us]) ├»\n",
      "«     └─────────────┘ └────────────┘                    └──────────────┘»\n",
      "«     ┌──────────────┐\n",
      "«q_0: ┤ Delay(8[us]) ├\n",
      "«     ├──────────────┤\n",
      "«q_1: ┤ Delay(8[us]) ├\n",
      "«     └──────────────┘\n",
      "«q_2: ────────────────\n",
      "«                     \n"
     ]
    }
   ],
   "source": [
    "n = 3\n",
    "d = 2**n\n",
    "\n",
    "np.random.seed(42)\n",
    "random.seed(42)\n",
    "\n",
    "circuit_target = pqc_basic(n, 8).reverse_bits()\n",
    "circuit_target.delay(8, unit=\"us\")\n",
    "print(circuit_target)\n",
    "\n",
    "N = 2000 - 6**n\n",
    "inputs_map, circuit_list_map = generate_pauli_circuits(n, circuit_target, N)\n",
    "inputs_spam, circuit_list_spam = generate_pauliInput_circuits(n)\n",
    "\n",
    "circuit_list = circuit_list_map + circuit_list_spam"
   ]
  },
  {
   "cell_type": "code",
   "execution_count": 15,
   "metadata": {},
   "outputs": [
    {
     "data": {
      "application/vnd.jupyter.widget-view+json": {
       "model_id": "0904c497337647b0bb7051c82f34c264",
       "version_major": 2,
       "version_minor": 0
      },
      "text/plain": [
       "  0%|          | 0/4 [00:00<?, ?it/s]"
      ]
     },
     "metadata": {},
     "output_type": "display_data"
    },
    {
     "data": {
      "application/vnd.jupyter.widget-view+json": {
       "model_id": "82dd3299246d44ddaf7807d55d51a1c9",
       "version_major": 2,
       "version_minor": 0
      },
      "text/plain": [
       "  0%|          | 0/5 [00:00<?, ?it/s]"
      ]
     },
     "metadata": {},
     "output_type": "display_data"
    },
    {
     "data": {
      "application/vnd.jupyter.widget-view+json": {
       "model_id": "4f1c05f099df438dbcad90d67c7a8f9a",
       "version_major": 2,
       "version_minor": 0
      },
      "text/plain": [
       "  0%|          | 0/5 [00:00<?, ?it/s]"
      ]
     },
     "metadata": {},
     "output_type": "display_data"
    },
    {
     "data": {
      "application/vnd.jupyter.widget-view+json": {
       "model_id": "6850695cb6cd4f1b92ca858dde57c9aa",
       "version_major": 2,
       "version_minor": 0
      },
      "text/plain": [
       "  0%|          | 0/5 [00:00<?, ?it/s]"
      ]
     },
     "metadata": {},
     "output_type": "display_data"
    },
    {
     "data": {
      "application/vnd.jupyter.widget-view+json": {
       "model_id": "fe2daad7b0984e4c8c5d3828ed96e586",
       "version_major": 2,
       "version_minor": 0
      },
      "text/plain": [
       "  0%|          | 0/5 [00:00<?, ?it/s]"
      ]
     },
     "metadata": {},
     "output_type": "display_data"
    }
   ],
   "source": [
    "counts_list = execute_and_collect(circuit_list, backend, 'threeQubits_variational_8usDelay_manila', shots = 5000)\n",
    "data = [inputs_map, inputs_spam, counts_list]\n",
    "pickle.dump(data, open(\"../../data/threeQubits_variational_8usDelay_manila.p\", \"wb\"))"
   ]
  },
  {
   "cell_type": "markdown",
   "metadata": {},
   "source": [
    "### 9 mu"
   ]
  },
  {
   "cell_type": "code",
   "execution_count": 16,
   "metadata": {},
   "outputs": [
    {
     "name": "stdout",
     "output_type": "stream",
     "text": [
      "      ┌────────────┐ ┌─────────────┐          ┌───┐     ┌─────────────┐»\n",
      "q_0: ─┤ Ry(1.4577) ├─┤ Rz(-2.1615) ├──────────┤ X ├─────┤ Ry(0.63532) ├»\n",
      "      ├────────────┤ ├─────────────┤┌───┐     └─┬─┘     └┬────────────┤»\n",
      "q_1: ─┤ Ry(2.8319) ├─┤ Rz(-2.1613) ├┤ X ├───────■────────┤ Ry(2.3008) ├»\n",
      "     ┌┴────────────┴┐├─────────────┤└─┬─┘┌─────────────┐ ├────────────┤»\n",
      "q_2: ┤ Ry(-0.78829) ├┤ Rz(0.61989) ├──■──┤ Ry(-2.7766) ├─┤ Rz(1.3074) ├»\n",
      "     └──────────────┘└─────────────┘     └─────────────┘ └────────────┘»\n",
      "«      ┌────────────┐         ┌───┐     ┌─────────────┐┌─────────────┐     »\n",
      "«q_0: ─┤ Rz(2.9525) ├─────────┤ X ├─────┤ Ry(-1.9992) ├┤ Rz(0.15555) ├─────»\n",
      "«     ┌┴────────────┤┌───┐    └─┬─┘     ├─────────────┤└┬───────────┬┘┌───┐»\n",
      "«q_1: ┤ Rz(-3.0123) ├┤ X ├──────■───────┤ Ry(-1.8074) ├─┤ Rz(-1.23) ├─┤ X ├»\n",
      "«     └─────────────┘└─┬─┘┌────────────┐├─────────────┤ └───────────┘ └─┬─┘»\n",
      "«q_2: ─────────────────■──┤ Ry(2.0888) ├┤ Rz(-1.9892) ├─────────────────■──»\n",
      "«                         └────────────┘└─────────────┘                    »\n",
      "«          ┌───┐     ┌─────────────┐┌──────────────┐          ┌───┐      »\n",
      "«q_0: ─────┤ X ├─────┤ Ry(0.70279) ├┤ Rz(-0.83967) ├──────────┤ X ├──────»\n",
      "«          └─┬─┘     ├─────────────┤└┬────────────┬┘┌───┐     └─┬─┘      »\n",
      "«q_1: ───────■───────┤ Ry(-1.3117) ├─┤ Rz(-1.306) ├─┤ X ├───────■────────»\n",
      "«     ┌─────────────┐├─────────────┤ └────────────┘ └─┬─┘┌──────────────┐»\n",
      "«q_2: ┤ Ry(-0.4276) ├┤ Rz(-2.2651) ├──────────────────■──┤ Ry(-0.27602) ├»\n",
      "«     └─────────────┘└─────────────┘                     └──────────────┘»\n",
      "«      ┌────────────┐ ┌─────────────┐          ┌───┐     ┌─────────────┐»\n",
      "«q_0: ─┤ Ry(-1.887) ├─┤ Rz(-2.8497) ├──────────┤ X ├─────┤ Ry(-2.7329) ├»\n",
      "«      ├────────────┤ ├─────────────┤┌───┐     └─┬─┘     ├─────────────┤»\n",
      "«q_1: ─┤ Ry(1.7918) ├─┤ Rz(0.58066) ├┤ X ├───────■───────┤ Ry(-2.0702) ├»\n",
      "«     ┌┴────────────┴┐└─────────────┘└─┬─┘┌─────────────┐└┬────────────┤»\n",
      "«q_2: ┤ Rz(0.089438) ├─────────────────■──┤ Ry(0.67572) ├─┤ Rz(2.8204) ├»\n",
      "«     └──────────────┘                    └─────────────┘ └────────────┘»\n",
      "«     ┌────────────┐          ┌───┐      ┌────────────┐ ┌───────────────┐     »\n",
      "«q_0: ┤ Rz(1.9377) ├──────────┤ X ├──────┤ Ry(1.1576) ├─┤ Rz(-0.030304) ├─────»\n",
      "«     ├────────────┤┌───┐     └─┬─┘     ┌┴────────────┤ └┬─────────────┬┘┌───┐»\n",
      "«q_1: ┤ Rz(2.9257) ├┤ X ├───────■───────┤ Ry(-2.5279) ├──┤ Rz(-2.3748) ├─┤ X ├»\n",
      "«     └────────────┘└─┬─┘┌─────────────┐├─────────────┴┐ └─────────────┘ └─┬─┘»\n",
      "«q_2: ────────────────■──┤ Ry(-1.2276) ├┤ Rz(-0.37603) ├───────────────────■──»\n",
      "«                        └─────────────┘└──────────────┘                      »\n",
      "«          ┌───┐     ┌─────────────┐┌─────────────┐          ┌───┐      »\n",
      "«q_0: ─────┤ X ├─────┤ Ry(-1.5156) ├┤ Rz(0.12609) ├──────────┤ X ├──────»\n",
      "«          └─┬─┘     └┬────────────┤├─────────────┤┌───┐     └─┬─┘      »\n",
      "«q_1: ───────■────────┤ Ry(2.5718) ├┤ Rz(-1.1831) ├┤ X ├───────■────────»\n",
      "«     ┌─────────────┐ ├────────────┤└─────────────┘└─┬─┘┌──────────────┐»\n",
      "«q_2: ┤ Ry(-2.9255) ├─┤ Rz(1.0212) ├─────────────────■──┤ Delay(9[us]) ├»\n",
      "«     └─────────────┘ └────────────┘                    └──────────────┘»\n",
      "«     ┌──────────────┐\n",
      "«q_0: ┤ Delay(9[us]) ├\n",
      "«     ├──────────────┤\n",
      "«q_1: ┤ Delay(9[us]) ├\n",
      "«     └──────────────┘\n",
      "«q_2: ────────────────\n",
      "«                     \n"
     ]
    }
   ],
   "source": [
    "n = 3\n",
    "d = 2**n\n",
    "\n",
    "np.random.seed(42)\n",
    "random.seed(42)\n",
    "\n",
    "circuit_target = pqc_basic(n, 8).reverse_bits()\n",
    "circuit_target.delay(9, unit=\"us\")\n",
    "\n",
    "N = 2000 - 6**n\n",
    "inputs_map, circuit_list_map = generate_pauli_circuits(n, circuit_target, N)\n",
    "inputs_spam, circuit_list_spam = generate_pauliInput_circuits(n)\n",
    "\n",
    "circuit_list = circuit_list_map + circuit_list_spam"
   ]
  },
  {
   "cell_type": "code",
   "execution_count": 17,
   "metadata": {},
   "outputs": [
    {
     "data": {
      "application/vnd.jupyter.widget-view+json": {
       "model_id": "ee508fbf81fc40a99d88905a9bebd410",
       "version_major": 2,
       "version_minor": 0
      },
      "text/plain": [
       "  0%|          | 0/4 [00:00<?, ?it/s]"
      ]
     },
     "metadata": {},
     "output_type": "display_data"
    },
    {
     "data": {
      "application/vnd.jupyter.widget-view+json": {
       "model_id": "a0536451fd1943eebc8b0b7c233ae648",
       "version_major": 2,
       "version_minor": 0
      },
      "text/plain": [
       "  0%|          | 0/5 [00:00<?, ?it/s]"
      ]
     },
     "metadata": {},
     "output_type": "display_data"
    },
    {
     "data": {
      "application/vnd.jupyter.widget-view+json": {
       "model_id": "af61c29a17d24b8789a7b6d80b21e8bc",
       "version_major": 2,
       "version_minor": 0
      },
      "text/plain": [
       "  0%|          | 0/5 [00:00<?, ?it/s]"
      ]
     },
     "metadata": {},
     "output_type": "display_data"
    },
    {
     "data": {
      "application/vnd.jupyter.widget-view+json": {
       "model_id": "edc50c8fce34490e93b451e3102c0af2",
       "version_major": 2,
       "version_minor": 0
      },
      "text/plain": [
       "  0%|          | 0/5 [00:00<?, ?it/s]"
      ]
     },
     "metadata": {},
     "output_type": "display_data"
    },
    {
     "data": {
      "application/vnd.jupyter.widget-view+json": {
       "model_id": "bb082ab55cd046099c8d2d93020a3dba",
       "version_major": 2,
       "version_minor": 0
      },
      "text/plain": [
       "  0%|          | 0/5 [00:00<?, ?it/s]"
      ]
     },
     "metadata": {},
     "output_type": "display_data"
    }
   ],
   "source": [
    "counts_list = execute_and_collect(circuit_list, backend, 'threeQubits_variational_9usDelay_manila', shots = 5000)\n",
    "data = [inputs_map, inputs_spam, counts_list]\n",
    "pickle.dump(data, open(\"../../data/threeQubits_variational_9usDelay_manila.p\", \"wb\"))"
   ]
  },
  {
   "cell_type": "markdown",
   "metadata": {},
   "source": [
    "### 10 mu"
   ]
  },
  {
   "cell_type": "code",
   "execution_count": null,
   "metadata": {},
   "outputs": [],
   "source": [
    "n = 3\n",
    "d = 2**n\n",
    "\n",
    "np.random.seed(42)\n",
    "random.seed(42)\n",
    "\n",
    "circuit_target = pqc_basic(n, 8).reverse_bits()\n",
    "circuit_target.delay(10, unit=\"us\")\n",
    "\n",
    "N = 2000 - 6**n\n",
    "inputs_map, circuit_list_map = generate_pauli_circuits(n, circuit_target, N)\n",
    "inputs_spam, circuit_list_spam = generate_pauliInput_circuits(n)\n",
    "\n",
    "circuit_list = circuit_list_map + circuit_list_spam"
   ]
  },
  {
   "cell_type": "code",
   "execution_count": null,
   "metadata": {},
   "outputs": [],
   "source": [
    "counts_list = execute_and_collect(circuit_list, backend, 'threeQubits_variational_10usDelay_manila', shots = 5000)\n",
    "data = [inputs_map, inputs_spam, counts_list]\n",
    "pickle.dump(data, open(\"../../data/threeQubits_variational_10usDelay_manila.p\", \"wb\"))"
   ]
  },
  {
   "cell_type": "markdown",
   "metadata": {},
   "source": [
    "## IBMQ Belem"
   ]
  },
  {
   "cell_type": "code",
   "execution_count": 5,
   "metadata": {},
   "outputs": [],
   "source": [
    "backend = provider.get_backend(\"ibmq_belem\")\n",
    "\n",
    "n = 3\n",
    "d = 2**n\n",
    "\n",
    "np.random.seed(42)\n",
    "random.seed(42)\n",
    "\n",
    "circuit_target = pqc_basic(n, 8).reverse_bits()\n",
    "#circuit_target.delay(10, unit=\"us\")\n",
    "\n",
    "N = 2000 - 6**n\n",
    "inputs_map, circuit_list_map = generate_pauli_circuits(n, circuit_target, N)\n",
    "inputs_spam, circuit_list_spam = generate_pauliInput_circuits(n)\n",
    "\n",
    "circuit_list = circuit_list_map + circuit_list_spam"
   ]
  },
  {
   "cell_type": "code",
   "execution_count": 6,
   "metadata": {},
   "outputs": [
    {
     "data": {
      "application/vnd.jupyter.widget-view+json": {
       "model_id": "1940b5f2816a43218976f43e5a55a707",
       "version_major": 2,
       "version_minor": 0
      },
      "text/plain": [
       "  0%|          | 0/4 [00:00<?, ?it/s]"
      ]
     },
     "metadata": {},
     "output_type": "display_data"
    },
    {
     "data": {
      "application/vnd.jupyter.widget-view+json": {
       "model_id": "640c1299a8c24af1abe98ba9843dd0de",
       "version_major": 2,
       "version_minor": 0
      },
      "text/plain": [
       "  0%|          | 0/5 [00:00<?, ?it/s]"
      ]
     },
     "metadata": {},
     "output_type": "display_data"
    },
    {
     "data": {
      "application/vnd.jupyter.widget-view+json": {
       "model_id": "768d7e564f994a79963f4d2c8665c623",
       "version_major": 2,
       "version_minor": 0
      },
      "text/plain": [
       "  0%|          | 0/5 [00:00<?, ?it/s]"
      ]
     },
     "metadata": {},
     "output_type": "display_data"
    },
    {
     "data": {
      "application/vnd.jupyter.widget-view+json": {
       "model_id": "cef0380bab114d51a40f769de818fd71",
       "version_major": 2,
       "version_minor": 0
      },
      "text/plain": [
       "  0%|          | 0/5 [00:00<?, ?it/s]"
      ]
     },
     "metadata": {},
     "output_type": "display_data"
    },
    {
     "data": {
      "application/vnd.jupyter.widget-view+json": {
       "model_id": "8192c39193d04246879ef2f9c65a6430",
       "version_major": 2,
       "version_minor": 0
      },
      "text/plain": [
       "  0%|          | 0/5 [00:00<?, ?it/s]"
      ]
     },
     "metadata": {},
     "output_type": "display_data"
    }
   ],
   "source": [
    "counts_list = execute_and_collect(circuit_list, backend, 'threeQubits_PQC_noDelay_belem', shots = 1000)\n",
    "data = [inputs_map, inputs_spam, counts_list]\n",
    "pickle.dump(data, open(\"../../data/threeQubits_PQC_noDelay_belem.p\", \"wb\"))"
   ]
  },
  {
   "cell_type": "code",
   "execution_count": 8,
   "metadata": {},
   "outputs": [],
   "source": [
    "backend = provider.get_backend(\"ibmq_belem\")\n",
    "\n",
    "n = 3\n",
    "d = 2**n\n",
    "\n",
    "np.random.seed(42)\n",
    "random.seed(42)\n",
    "\n",
    "circuit_target = pqc_basic(n, 8).reverse_bits()\n",
    "circuit_target.delay(5, unit=\"us\")\n",
    "\n",
    "N = 2000 - 6**n\n",
    "inputs_map, circuit_list_map = generate_pauli_circuits(n, circuit_target, N)\n",
    "inputs_spam, circuit_list_spam = generate_pauliInput_circuits(n)\n",
    "\n",
    "circuit_list = circuit_list_map + circuit_list_spam"
   ]
  },
  {
   "cell_type": "code",
   "execution_count": 9,
   "metadata": {},
   "outputs": [
    {
     "data": {
      "application/vnd.jupyter.widget-view+json": {
       "model_id": "026af59d6b314484b1e15a3e1cb5a2fc",
       "version_major": 2,
       "version_minor": 0
      },
      "text/plain": [
       "  0%|          | 0/4 [00:00<?, ?it/s]"
      ]
     },
     "metadata": {},
     "output_type": "display_data"
    },
    {
     "data": {
      "application/vnd.jupyter.widget-view+json": {
       "model_id": "b6a1e674b509477da40e49643152aa64",
       "version_major": 2,
       "version_minor": 0
      },
      "text/plain": [
       "  0%|          | 0/5 [00:00<?, ?it/s]"
      ]
     },
     "metadata": {},
     "output_type": "display_data"
    },
    {
     "data": {
      "application/vnd.jupyter.widget-view+json": {
       "model_id": "74f79043a3a748a09d447ba8965b5602",
       "version_major": 2,
       "version_minor": 0
      },
      "text/plain": [
       "  0%|          | 0/5 [00:00<?, ?it/s]"
      ]
     },
     "metadata": {},
     "output_type": "display_data"
    },
    {
     "data": {
      "application/vnd.jupyter.widget-view+json": {
       "model_id": "3a453ef6977a4ef893f80c0b9e0e9f71",
       "version_major": 2,
       "version_minor": 0
      },
      "text/plain": [
       "  0%|          | 0/5 [00:00<?, ?it/s]"
      ]
     },
     "metadata": {},
     "output_type": "display_data"
    },
    {
     "data": {
      "application/vnd.jupyter.widget-view+json": {
       "model_id": "6a0acd8cf0a24bf793ac44b580f6041f",
       "version_major": 2,
       "version_minor": 0
      },
      "text/plain": [
       "  0%|          | 0/5 [00:00<?, ?it/s]"
      ]
     },
     "metadata": {},
     "output_type": "display_data"
    }
   ],
   "source": [
    "counts_list = execute_and_collect(circuit_list, backend, 'threeQubits_PQC_5usDelay_belem', shots = 1000)\n",
    "data = [inputs_map, inputs_spam, counts_list]\n",
    "pickle.dump(data, open(\"../../data/threeQubits_PQC_5usDelay_belem.p\", \"wb\"))"
   ]
  },
  {
   "cell_type": "code",
   "execution_count": 10,
   "metadata": {},
   "outputs": [],
   "source": [
    "backend = provider.get_backend(\"ibmq_belem\")\n",
    "\n",
    "n = 3\n",
    "d = 2**n\n",
    "\n",
    "np.random.seed(42)\n",
    "random.seed(42)\n",
    "\n",
    "circuit_target = pqc_basic(n, 8).reverse_bits()\n",
    "circuit_target.delay(6, unit=\"us\")\n",
    "\n",
    "N = 2000 - 6**n\n",
    "inputs_map, circuit_list_map = generate_pauli_circuits(n, circuit_target, N)\n",
    "inputs_spam, circuit_list_spam = generate_pauliInput_circuits(n)\n",
    "\n",
    "circuit_list = circuit_list_map + circuit_list_spam"
   ]
  },
  {
   "cell_type": "code",
   "execution_count": 11,
   "metadata": {},
   "outputs": [
    {
     "data": {
      "application/vnd.jupyter.widget-view+json": {
       "model_id": "f36b47ecc3d74b00a013801a20442cda",
       "version_major": 2,
       "version_minor": 0
      },
      "text/plain": [
       "  0%|          | 0/4 [00:00<?, ?it/s]"
      ]
     },
     "metadata": {},
     "output_type": "display_data"
    },
    {
     "data": {
      "application/vnd.jupyter.widget-view+json": {
       "model_id": "bac3ac4ba6a44e6fbd51407bb3699b63",
       "version_major": 2,
       "version_minor": 0
      },
      "text/plain": [
       "  0%|          | 0/5 [00:00<?, ?it/s]"
      ]
     },
     "metadata": {},
     "output_type": "display_data"
    },
    {
     "data": {
      "application/vnd.jupyter.widget-view+json": {
       "model_id": "70264a8d5ff942bdac0d125b3a49b0d7",
       "version_major": 2,
       "version_minor": 0
      },
      "text/plain": [
       "  0%|          | 0/5 [00:00<?, ?it/s]"
      ]
     },
     "metadata": {},
     "output_type": "display_data"
    },
    {
     "data": {
      "application/vnd.jupyter.widget-view+json": {
       "model_id": "69845d15908c4cd094f9cb7227bd459c",
       "version_major": 2,
       "version_minor": 0
      },
      "text/plain": [
       "  0%|          | 0/5 [00:00<?, ?it/s]"
      ]
     },
     "metadata": {},
     "output_type": "display_data"
    },
    {
     "data": {
      "application/vnd.jupyter.widget-view+json": {
       "model_id": "d40009caeb1a4c488400a4d9a2325529",
       "version_major": 2,
       "version_minor": 0
      },
      "text/plain": [
       "  0%|          | 0/5 [00:00<?, ?it/s]"
      ]
     },
     "metadata": {},
     "output_type": "display_data"
    }
   ],
   "source": [
    "counts_list = execute_and_collect(circuit_list, backend, 'threeQubits_PQC_6usDelay_belem', shots = 1000)\n",
    "data = [inputs_map, inputs_spam, counts_list]\n",
    "pickle.dump(data, open(\"../../data/threeQubits_PQC_6usDelay_belem.p\", \"wb\"))"
   ]
  },
  {
   "cell_type": "code",
   "execution_count": 12,
   "metadata": {},
   "outputs": [],
   "source": [
    "backend = provider.get_backend(\"ibmq_belem\")\n",
    "\n",
    "n = 3\n",
    "d = 2**n\n",
    "\n",
    "np.random.seed(42)\n",
    "random.seed(42)\n",
    "\n",
    "circuit_target = pqc_basic(n, 8).reverse_bits()\n",
    "circuit_target.delay(7, unit=\"us\")\n",
    "\n",
    "N = 2000 - 6**n\n",
    "inputs_map, circuit_list_map = generate_pauli_circuits(n, circuit_target, N)\n",
    "inputs_spam, circuit_list_spam = generate_pauliInput_circuits(n)\n",
    "\n",
    "circuit_list = circuit_list_map + circuit_list_spam"
   ]
  },
  {
   "cell_type": "code",
   "execution_count": 13,
   "metadata": {},
   "outputs": [
    {
     "data": {
      "application/vnd.jupyter.widget-view+json": {
       "model_id": "fc59557f77574218a7836faf67230e33",
       "version_major": 2,
       "version_minor": 0
      },
      "text/plain": [
       "  0%|          | 0/4 [00:00<?, ?it/s]"
      ]
     },
     "metadata": {},
     "output_type": "display_data"
    },
    {
     "data": {
      "application/vnd.jupyter.widget-view+json": {
       "model_id": "eb08fd3935674da89cf81c568cf81db7",
       "version_major": 2,
       "version_minor": 0
      },
      "text/plain": [
       "  0%|          | 0/5 [00:00<?, ?it/s]"
      ]
     },
     "metadata": {},
     "output_type": "display_data"
    },
    {
     "data": {
      "application/vnd.jupyter.widget-view+json": {
       "model_id": "caaa6b29a235406b837502fa488a2b3a",
       "version_major": 2,
       "version_minor": 0
      },
      "text/plain": [
       "  0%|          | 0/5 [00:00<?, ?it/s]"
      ]
     },
     "metadata": {},
     "output_type": "display_data"
    },
    {
     "data": {
      "application/vnd.jupyter.widget-view+json": {
       "model_id": "bef68fac08e44bf482a9a89776508b1c",
       "version_major": 2,
       "version_minor": 0
      },
      "text/plain": [
       "  0%|          | 0/5 [00:00<?, ?it/s]"
      ]
     },
     "metadata": {},
     "output_type": "display_data"
    },
    {
     "data": {
      "application/vnd.jupyter.widget-view+json": {
       "model_id": "333b6c95577a45739fa5fb608d67187b",
       "version_major": 2,
       "version_minor": 0
      },
      "text/plain": [
       "  0%|          | 0/5 [00:00<?, ?it/s]"
      ]
     },
     "metadata": {},
     "output_type": "display_data"
    }
   ],
   "source": [
    "counts_list = execute_and_collect(circuit_list, backend, 'threeQubits_PQC_7usDelay_belem', shots = 1000)\n",
    "data = [inputs_map, inputs_spam, counts_list]\n",
    "pickle.dump(data, open(\"../../data/threeQubits_PQC_7usDelay_belem.p\", \"wb\"))"
   ]
  },
  {
   "cell_type": "code",
   "execution_count": 5,
   "metadata": {},
   "outputs": [],
   "source": [
    "backend = provider.get_backend(\"ibmq_belem\")\n",
    "\n",
    "n = 3\n",
    "d = 2**n\n",
    "\n",
    "np.random.seed(42)\n",
    "random.seed(42)\n",
    "\n",
    "circuit_target = pqc_basic(n, 8).reverse_bits()\n",
    "circuit_target.delay(10, unit=\"us\")\n",
    "\n",
    "N = 2000 - 6**n\n",
    "inputs_map, circuit_list_map = generate_pauli_circuits(n, circuit_target, N)\n",
    "inputs_spam, circuit_list_spam = generate_pauliInput_circuits(n)\n",
    "\n",
    "circuit_list = circuit_list_map + circuit_list_spam"
   ]
  },
  {
   "cell_type": "code",
   "execution_count": 6,
   "metadata": {},
   "outputs": [
    {
     "data": {
      "application/vnd.jupyter.widget-view+json": {
       "model_id": "5110035531f54507ab263e93ca9e19a7",
       "version_major": 2,
       "version_minor": 0
      },
      "text/plain": [
       "  0%|          | 0/4 [00:00<?, ?it/s]"
      ]
     },
     "metadata": {},
     "output_type": "display_data"
    },
    {
     "data": {
      "application/vnd.jupyter.widget-view+json": {
       "model_id": "8038f7c7cb9c4d218b182e08ecba7599",
       "version_major": 2,
       "version_minor": 0
      },
      "text/plain": [
       "  0%|          | 0/5 [00:00<?, ?it/s]"
      ]
     },
     "metadata": {},
     "output_type": "display_data"
    },
    {
     "data": {
      "application/vnd.jupyter.widget-view+json": {
       "model_id": "61310bc161264e11b30410f3245df3b6",
       "version_major": 2,
       "version_minor": 0
      },
      "text/plain": [
       "  0%|          | 0/5 [00:00<?, ?it/s]"
      ]
     },
     "metadata": {},
     "output_type": "display_data"
    },
    {
     "data": {
      "application/vnd.jupyter.widget-view+json": {
       "model_id": "00a879138fdb4682861a6937ced9ce40",
       "version_major": 2,
       "version_minor": 0
      },
      "text/plain": [
       "  0%|          | 0/5 [00:00<?, ?it/s]"
      ]
     },
     "metadata": {},
     "output_type": "display_data"
    },
    {
     "data": {
      "application/vnd.jupyter.widget-view+json": {
       "model_id": "973deb14edcc4b1c8f8b211d2e1c8c81",
       "version_major": 2,
       "version_minor": 0
      },
      "text/plain": [
       "  0%|          | 0/5 [00:00<?, ?it/s]"
      ]
     },
     "metadata": {},
     "output_type": "display_data"
    }
   ],
   "source": [
    "counts_list = execute_and_collect(circuit_list, backend, 'threeQubits_PQC_10usDelay_belem', shots = 1000)\n",
    "data = [inputs_map, inputs_spam, counts_list]\n",
    "pickle.dump(data, open(\"../../data/threeQubits_PQC_10usDelay_belem.p\", \"wb\"))"
   ]
  },
  {
   "cell_type": "code",
   "execution_count": 7,
   "metadata": {},
   "outputs": [],
   "source": [
    "backend = provider.get_backend(\"ibmq_belem\")\n",
    "\n",
    "n = 3\n",
    "d = 2**n\n",
    "\n",
    "np.random.seed(42)\n",
    "random.seed(42)\n",
    "\n",
    "circuit_target = pqc_basic(n, 8).reverse_bits()\n",
    "circuit_target.delay(20, unit=\"us\")\n",
    "\n",
    "N = 2000 - 6**n\n",
    "inputs_map, circuit_list_map = generate_pauli_circuits(n, circuit_target, N)\n",
    "inputs_spam, circuit_list_spam = generate_pauliInput_circuits(n)\n",
    "\n",
    "circuit_list = circuit_list_map + circuit_list_spam"
   ]
  },
  {
   "cell_type": "code",
   "execution_count": 8,
   "metadata": {},
   "outputs": [
    {
     "data": {
      "application/vnd.jupyter.widget-view+json": {
       "model_id": "327e78508a4a44ccb4527924f0d5feb1",
       "version_major": 2,
       "version_minor": 0
      },
      "text/plain": [
       "  0%|          | 0/4 [00:00<?, ?it/s]"
      ]
     },
     "metadata": {},
     "output_type": "display_data"
    },
    {
     "data": {
      "application/vnd.jupyter.widget-view+json": {
       "model_id": "24c2ac78e9f3475aa7d2f4dee003ce89",
       "version_major": 2,
       "version_minor": 0
      },
      "text/plain": [
       "  0%|          | 0/5 [00:00<?, ?it/s]"
      ]
     },
     "metadata": {},
     "output_type": "display_data"
    },
    {
     "data": {
      "application/vnd.jupyter.widget-view+json": {
       "model_id": "e35c665492764bc6a9f035818aebf3ac",
       "version_major": 2,
       "version_minor": 0
      },
      "text/plain": [
       "  0%|          | 0/5 [00:00<?, ?it/s]"
      ]
     },
     "metadata": {},
     "output_type": "display_data"
    },
    {
     "data": {
      "application/vnd.jupyter.widget-view+json": {
       "model_id": "a1cf73da0feb457c9950e9ef463d4ffc",
       "version_major": 2,
       "version_minor": 0
      },
      "text/plain": [
       "  0%|          | 0/5 [00:00<?, ?it/s]"
      ]
     },
     "metadata": {},
     "output_type": "display_data"
    },
    {
     "data": {
      "application/vnd.jupyter.widget-view+json": {
       "model_id": "3b9ea93377cd4567985cfc1b1d0a22dd",
       "version_major": 2,
       "version_minor": 0
      },
      "text/plain": [
       "  0%|          | 0/5 [00:00<?, ?it/s]"
      ]
     },
     "metadata": {},
     "output_type": "display_data"
    }
   ],
   "source": [
    "counts_list = execute_and_collect(circuit_list, backend, 'threeQubits_PQC_20usDelay_belem', shots = 1000)\n",
    "data = [inputs_map, inputs_spam, counts_list]\n",
    "pickle.dump(data, open(\"../../data/threeQubits_PQC_20usDelay_belem.p\", \"wb\"))"
   ]
  },
  {
   "cell_type": "code",
   "execution_count": 9,
   "metadata": {},
   "outputs": [],
   "source": [
    "backend = provider.get_backend(\"ibmq_belem\")\n",
    "\n",
    "n = 3\n",
    "d = 2**n\n",
    "\n",
    "np.random.seed(42)\n",
    "random.seed(42)\n",
    "\n",
    "circuit_target = pqc_basic(n, 8).reverse_bits()\n",
    "circuit_target.delay(30, unit=\"us\")\n",
    "\n",
    "N = 2000 - 6**n\n",
    "inputs_map, circuit_list_map = generate_pauli_circuits(n, circuit_target, N)\n",
    "inputs_spam, circuit_list_spam = generate_pauliInput_circuits(n)\n",
    "\n",
    "circuit_list = circuit_list_map + circuit_list_spam"
   ]
  },
  {
   "cell_type": "code",
   "execution_count": 10,
   "metadata": {},
   "outputs": [
    {
     "data": {
      "application/vnd.jupyter.widget-view+json": {
       "model_id": "39032739cd5a40e8a50fa9cc527bcb2f",
       "version_major": 2,
       "version_minor": 0
      },
      "text/plain": [
       "  0%|          | 0/4 [00:00<?, ?it/s]"
      ]
     },
     "metadata": {},
     "output_type": "display_data"
    },
    {
     "data": {
      "application/vnd.jupyter.widget-view+json": {
       "model_id": "e8e093398f994810acd868f74da586c9",
       "version_major": 2,
       "version_minor": 0
      },
      "text/plain": [
       "  0%|          | 0/5 [00:00<?, ?it/s]"
      ]
     },
     "metadata": {},
     "output_type": "display_data"
    },
    {
     "data": {
      "application/vnd.jupyter.widget-view+json": {
       "model_id": "5a25e236c4b344468aebc36ed3d95397",
       "version_major": 2,
       "version_minor": 0
      },
      "text/plain": [
       "  0%|          | 0/5 [00:00<?, ?it/s]"
      ]
     },
     "metadata": {},
     "output_type": "display_data"
    },
    {
     "data": {
      "application/vnd.jupyter.widget-view+json": {
       "model_id": "cc431a8c4b114e5f898dd1069a4db751",
       "version_major": 2,
       "version_minor": 0
      },
      "text/plain": [
       "  0%|          | 0/5 [00:00<?, ?it/s]"
      ]
     },
     "metadata": {},
     "output_type": "display_data"
    },
    {
     "data": {
      "application/vnd.jupyter.widget-view+json": {
       "model_id": "8c93e4cd35d74b2da2185be7ab0669e9",
       "version_major": 2,
       "version_minor": 0
      },
      "text/plain": [
       "  0%|          | 0/5 [00:00<?, ?it/s]"
      ]
     },
     "metadata": {},
     "output_type": "display_data"
    }
   ],
   "source": [
    "counts_list = execute_and_collect(circuit_list, backend, 'threeQubits_PQC_30usDelay_belem', shots = 1000)\n",
    "data = [inputs_map, inputs_spam, counts_list]\n",
    "pickle.dump(data, open(\"../../data/threeQubits_PQC_30usDelay_belem.p\", \"wb\"))"
   ]
  },
  {
   "cell_type": "code",
   "execution_count": 11,
   "metadata": {},
   "outputs": [],
   "source": [
    "backend = provider.get_backend(\"ibmq_belem\")\n",
    "\n",
    "n = 3\n",
    "d = 2**n\n",
    "\n",
    "np.random.seed(42)\n",
    "random.seed(42)\n",
    "\n",
    "circuit_target = pqc_basic(n, 8).reverse_bits()\n",
    "circuit_target.delay(40, unit=\"us\")\n",
    "\n",
    "N = 2000 - 6**n\n",
    "inputs_map, circuit_list_map = generate_pauli_circuits(n, circuit_target, N)\n",
    "inputs_spam, circuit_list_spam = generate_pauliInput_circuits(n)\n",
    "\n",
    "circuit_list = circuit_list_map + circuit_list_spam"
   ]
  },
  {
   "cell_type": "code",
   "execution_count": 12,
   "metadata": {},
   "outputs": [
    {
     "data": {
      "application/vnd.jupyter.widget-view+json": {
       "model_id": "3de745ebb057431d9abdb46054d5b9e5",
       "version_major": 2,
       "version_minor": 0
      },
      "text/plain": [
       "  0%|          | 0/4 [00:00<?, ?it/s]"
      ]
     },
     "metadata": {},
     "output_type": "display_data"
    },
    {
     "data": {
      "application/vnd.jupyter.widget-view+json": {
       "model_id": "02db9ce82392437ab52f0d8400a0ea38",
       "version_major": 2,
       "version_minor": 0
      },
      "text/plain": [
       "  0%|          | 0/5 [00:00<?, ?it/s]"
      ]
     },
     "metadata": {},
     "output_type": "display_data"
    },
    {
     "data": {
      "application/vnd.jupyter.widget-view+json": {
       "model_id": "0e211484af874990ba947780e286fc91",
       "version_major": 2,
       "version_minor": 0
      },
      "text/plain": [
       "  0%|          | 0/5 [00:00<?, ?it/s]"
      ]
     },
     "metadata": {},
     "output_type": "display_data"
    },
    {
     "data": {
      "application/vnd.jupyter.widget-view+json": {
       "model_id": "eeadf317e66c42949830e44e3f09a5c4",
       "version_major": 2,
       "version_minor": 0
      },
      "text/plain": [
       "  0%|          | 0/5 [00:00<?, ?it/s]"
      ]
     },
     "metadata": {},
     "output_type": "display_data"
    },
    {
     "data": {
      "application/vnd.jupyter.widget-view+json": {
       "model_id": "acb41050d8a04f51b046044a6954ae0b",
       "version_major": 2,
       "version_minor": 0
      },
      "text/plain": [
       "  0%|          | 0/5 [00:00<?, ?it/s]"
      ]
     },
     "metadata": {},
     "output_type": "display_data"
    }
   ],
   "source": [
    "counts_list = execute_and_collect(circuit_list, backend, 'threeQubits_PQC_40usDelay_belem', shots = 1000)\n",
    "data = [inputs_map, inputs_spam, counts_list]\n",
    "pickle.dump(data, open(\"../../data/threeQubits_PQC_40usDelay_belem.p\", \"wb\"))"
   ]
  },
  {
   "cell_type": "markdown",
   "metadata": {},
   "source": [
    "## Ring Disk Transition"
   ]
  },
  {
   "cell_type": "code",
   "execution_count": null,
   "metadata": {},
   "outputs": [],
   "source": [
    "backend = provider.get_backend(\"ibmq_belem\")\n",
    "\n",
    "n = 3\n",
    "d = 2**n\n",
    "\n",
    "np.random.seed(42)\n",
    "random.seed(42)\n",
    "\n",
    "circuit_target = pqc_basic(n, 8).reverse_bits()\n",
    "circuit_target.delay(26, unit=\"us\")\n",
    "\n",
    "N = 2000 - 6**n\n",
    "inputs_map, circuit_list_map = generate_pauli_circuits(n, circuit_target, N)\n",
    "inputs_spam, circuit_list_spam = generate_pauliInput_circuits(n)\n",
    "\n",
    "circuit_list = circuit_list_map + circuit_list_spam\n",
    "\n",
    "counts_list = execute_and_collect(circuit_list, backend, 'threeQubits_PQC_26usDelay_belem', shots = 1000)\n",
    "data = [inputs_map, inputs_spam, counts_list]\n",
    "pickle.dump(data, open(\"../../data/threeQubits_PQC_26usDelay_belem.p\", \"wb\"))"
   ]
  },
  {
   "cell_type": "code",
   "execution_count": 5,
   "metadata": {},
   "outputs": [
    {
     "data": {
      "application/vnd.jupyter.widget-view+json": {
       "model_id": "77a59f05bb244a15950906749e32664c",
       "version_major": 2,
       "version_minor": 0
      },
      "text/plain": [
       "  0%|          | 0/4 [00:00<?, ?it/s]"
      ]
     },
     "metadata": {},
     "output_type": "display_data"
    },
    {
     "data": {
      "application/vnd.jupyter.widget-view+json": {
       "model_id": "8e2039289dcb4045be5105c8741e9ebf",
       "version_major": 2,
       "version_minor": 0
      },
      "text/plain": [
       "  0%|          | 0/5 [00:00<?, ?it/s]"
      ]
     },
     "metadata": {},
     "output_type": "display_data"
    },
    {
     "name": "stderr",
     "output_type": "stream",
     "text": [
      "ibmqjob._wait_for_completion:ERROR:2022-10-21 00:33:36,087: Maximum retries exceeded: Error checking job status due to a network error.\n"
     ]
    },
    {
     "ename": "IBMQJobApiError",
     "evalue": "\"Error checking job status due to a network error: '404 Client Error: Not Found for url: https://api.quantum-computing.ibm.com/api/Network/ibm-q/Groups/open/Projects/main/Jobs/6351cb94708bc44335f02250/status/v/1. Job not found., Error code: 3250.'\"",
     "output_type": "error",
     "traceback": [
      "\u001b[1;31m---------------------------------------------------------------------------\u001b[0m",
      "\u001b[1;31mHTTPError\u001b[0m                                 Traceback (most recent call last)",
      "File \u001b[1;32m~\\anaconda3\\envs\\env_qiskit\\lib\\site-packages\\qiskit\\providers\\ibmq\\api\\session.py:278\u001b[0m, in \u001b[0;36mRetrySession.request\u001b[1;34m(self, method, url, bare, **kwargs)\u001b[0m\n\u001b[0;32m    277\u001b[0m     response \u001b[38;5;241m=\u001b[39m \u001b[38;5;28msuper\u001b[39m()\u001b[38;5;241m.\u001b[39mrequest(method, final_url, headers\u001b[38;5;241m=\u001b[39mheaders, \u001b[38;5;241m*\u001b[39m\u001b[38;5;241m*\u001b[39mkwargs)\n\u001b[1;32m--> 278\u001b[0m     \u001b[43mresponse\u001b[49m\u001b[38;5;241;43m.\u001b[39;49m\u001b[43mraise_for_status\u001b[49m\u001b[43m(\u001b[49m\u001b[43m)\u001b[49m\n\u001b[0;32m    279\u001b[0m \u001b[38;5;28;01mexcept\u001b[39;00m RequestException \u001b[38;5;28;01mas\u001b[39;00m ex:\n\u001b[0;32m    280\u001b[0m     \u001b[38;5;66;03m# Wrap the requests exceptions into a IBM Q custom one, for\u001b[39;00m\n\u001b[0;32m    281\u001b[0m     \u001b[38;5;66;03m# compatibility.\u001b[39;00m\n",
      "File \u001b[1;32m~\\anaconda3\\envs\\env_qiskit\\lib\\site-packages\\requests\\models.py:1021\u001b[0m, in \u001b[0;36mResponse.raise_for_status\u001b[1;34m(self)\u001b[0m\n\u001b[0;32m   1020\u001b[0m \u001b[38;5;28;01mif\u001b[39;00m http_error_msg:\n\u001b[1;32m-> 1021\u001b[0m     \u001b[38;5;28;01mraise\u001b[39;00m HTTPError(http_error_msg, response\u001b[38;5;241m=\u001b[39m\u001b[38;5;28mself\u001b[39m)\n",
      "\u001b[1;31mHTTPError\u001b[0m: 404 Client Error: Not Found for url: https://api.quantum-computing.ibm.com/api/Network/ibm-q/Groups/open/Projects/main/Jobs/6351cb94708bc44335f02250/status/v/1",
      "\nThe above exception was the direct cause of the following exception:\n",
      "\u001b[1;31mRequestsApiError\u001b[0m                          Traceback (most recent call last)",
      "File \u001b[1;32m~\\anaconda3\\envs\\env_qiskit\\lib\\site-packages\\qiskit\\providers\\ibmq\\job\\ibmqjob.py:911\u001b[0m, in \u001b[0;36mIBMQJob._wait_for_completion\u001b[1;34m(self, timeout, wait, required_status, status_queue)\u001b[0m\n\u001b[0;32m    910\u001b[0m \u001b[38;5;28;01mtry\u001b[39;00m:\n\u001b[1;32m--> 911\u001b[0m     status_response \u001b[38;5;241m=\u001b[39m \u001b[38;5;28;43mself\u001b[39;49m\u001b[38;5;241;43m.\u001b[39;49m\u001b[43m_api_client\u001b[49m\u001b[38;5;241;43m.\u001b[39;49m\u001b[43mjob_final_status\u001b[49m\u001b[43m(\u001b[49m\n\u001b[0;32m    912\u001b[0m \u001b[43m        \u001b[49m\u001b[38;5;28;43mself\u001b[39;49m\u001b[38;5;241;43m.\u001b[39;49m\u001b[43mjob_id\u001b[49m\u001b[43m(\u001b[49m\u001b[43m)\u001b[49m\u001b[43m,\u001b[49m\u001b[43m \u001b[49m\u001b[43mtimeout\u001b[49m\u001b[38;5;241;43m=\u001b[39;49m\u001b[43mtimeout\u001b[49m\u001b[43m,\u001b[49m\u001b[43m \u001b[49m\u001b[43mwait\u001b[49m\u001b[38;5;241;43m=\u001b[39;49m\u001b[43mwait\u001b[49m\u001b[43m,\u001b[49m\u001b[43m \u001b[49m\u001b[43mstatus_queue\u001b[49m\u001b[38;5;241;43m=\u001b[39;49m\u001b[43mstatus_queue\u001b[49m\u001b[43m)\u001b[49m\n\u001b[0;32m    913\u001b[0m \u001b[38;5;28;01mexcept\u001b[39;00m UserTimeoutExceededError:\n",
      "File \u001b[1;32m~\\anaconda3\\envs\\env_qiskit\\lib\\site-packages\\qiskit\\providers\\ibmq\\api\\clients\\account.py:401\u001b[0m, in \u001b[0;36mAccountClient.job_final_status\u001b[1;34m(self, job_id, timeout, wait, status_queue)\u001b[0m\n\u001b[0;32m    399\u001b[0m \u001b[38;5;28;01mif\u001b[39;00m \u001b[38;5;129;01mnot\u001b[39;00m status_response:\n\u001b[0;32m    400\u001b[0m     \u001b[38;5;66;03m# Use traditional http requests if websocket not available or failed.\u001b[39;00m\n\u001b[1;32m--> 401\u001b[0m     status_response \u001b[38;5;241m=\u001b[39m \u001b[38;5;28;43mself\u001b[39;49m\u001b[38;5;241;43m.\u001b[39;49m\u001b[43m_job_final_status_polling\u001b[49m\u001b[43m(\u001b[49m\n\u001b[0;32m    402\u001b[0m \u001b[43m        \u001b[49m\u001b[43mjob_id\u001b[49m\u001b[43m,\u001b[49m\u001b[43m \u001b[49m\u001b[43mtimeout\u001b[49m\u001b[43m,\u001b[49m\u001b[43m \u001b[49m\u001b[43mwait\u001b[49m\u001b[43m,\u001b[49m\u001b[43m \u001b[49m\u001b[43mstatus_queue\u001b[49m\u001b[43m)\u001b[49m\n\u001b[0;32m    404\u001b[0m \u001b[38;5;28;01mreturn\u001b[39;00m status_response\n",
      "File \u001b[1;32m~\\anaconda3\\envs\\env_qiskit\\lib\\site-packages\\qiskit\\providers\\ibmq\\api\\clients\\account.py:466\u001b[0m, in \u001b[0;36mAccountClient._job_final_status_polling\u001b[1;34m(self, job_id, timeout, wait, status_queue)\u001b[0m\n\u001b[0;32m    465\u001b[0m start_time \u001b[38;5;241m=\u001b[39m time\u001b[38;5;241m.\u001b[39mtime()\n\u001b[1;32m--> 466\u001b[0m status_response \u001b[38;5;241m=\u001b[39m \u001b[38;5;28;43mself\u001b[39;49m\u001b[38;5;241;43m.\u001b[39;49m\u001b[43mjob_status\u001b[49m\u001b[43m(\u001b[49m\u001b[43mjob_id\u001b[49m\u001b[43m)\u001b[49m\n\u001b[0;32m    467\u001b[0m \u001b[38;5;28;01mwhile\u001b[39;00m ApiJobStatus(status_response[\u001b[38;5;124m'\u001b[39m\u001b[38;5;124mstatus\u001b[39m\u001b[38;5;124m'\u001b[39m]) \u001b[38;5;129;01mnot\u001b[39;00m \u001b[38;5;129;01min\u001b[39;00m API_JOB_FINAL_STATES:\n\u001b[0;32m    468\u001b[0m     \u001b[38;5;66;03m# Share the new status.\u001b[39;00m\n",
      "File \u001b[1;32m~\\anaconda3\\envs\\env_qiskit\\lib\\site-packages\\qiskit\\providers\\ibmq\\api\\clients\\account.py:357\u001b[0m, in \u001b[0;36mAccountClient.job_status\u001b[1;34m(self, job_id)\u001b[0m\n\u001b[0;32m    346\u001b[0m \u001b[38;5;124;03m\"\"\"Return the status of the job.\u001b[39;00m\n\u001b[0;32m    347\u001b[0m \n\u001b[0;32m    348\u001b[0m \u001b[38;5;124;03mArgs:\u001b[39;00m\n\u001b[1;32m   (...)\u001b[0m\n\u001b[0;32m    355\u001b[0m \u001b[38;5;124;03m    ApiIBMQProtocolError: If unexpected data is received from the server.\u001b[39;00m\n\u001b[0;32m    356\u001b[0m \u001b[38;5;124;03m\"\"\"\u001b[39;00m\n\u001b[1;32m--> 357\u001b[0m \u001b[38;5;28;01mreturn\u001b[39;00m \u001b[38;5;28;43mself\u001b[39;49m\u001b[38;5;241;43m.\u001b[39;49m\u001b[43maccount_api\u001b[49m\u001b[38;5;241;43m.\u001b[39;49m\u001b[43mjob\u001b[49m\u001b[43m(\u001b[49m\u001b[43mjob_id\u001b[49m\u001b[43m)\u001b[49m\u001b[38;5;241;43m.\u001b[39;49m\u001b[43mstatus\u001b[49m\u001b[43m(\u001b[49m\u001b[43m)\u001b[49m\n",
      "File \u001b[1;32m~\\anaconda3\\envs\\env_qiskit\\lib\\site-packages\\qiskit\\providers\\ibmq\\api\\rest\\job.py:160\u001b[0m, in \u001b[0;36mJob.status\u001b[1;34m(self)\u001b[0m\n\u001b[0;32m    159\u001b[0m url \u001b[38;5;241m=\u001b[39m \u001b[38;5;28mself\u001b[39m\u001b[38;5;241m.\u001b[39mget_url(\u001b[38;5;124m'\u001b[39m\u001b[38;5;124mstatus\u001b[39m\u001b[38;5;124m'\u001b[39m)\n\u001b[1;32m--> 160\u001b[0m raw_response \u001b[38;5;241m=\u001b[39m \u001b[38;5;28;43mself\u001b[39;49m\u001b[38;5;241;43m.\u001b[39;49m\u001b[43msession\u001b[49m\u001b[38;5;241;43m.\u001b[39;49m\u001b[43mget\u001b[49m\u001b[43m(\u001b[49m\u001b[43murl\u001b[49m\u001b[43m)\u001b[49m\n\u001b[0;32m    161\u001b[0m \u001b[38;5;28;01mtry\u001b[39;00m:\n",
      "File \u001b[1;32m~\\anaconda3\\envs\\env_qiskit\\lib\\site-packages\\requests\\sessions.py:600\u001b[0m, in \u001b[0;36mSession.get\u001b[1;34m(self, url, **kwargs)\u001b[0m\n\u001b[0;32m    599\u001b[0m kwargs\u001b[38;5;241m.\u001b[39msetdefault(\u001b[38;5;124m\"\u001b[39m\u001b[38;5;124mallow_redirects\u001b[39m\u001b[38;5;124m\"\u001b[39m, \u001b[38;5;28;01mTrue\u001b[39;00m)\n\u001b[1;32m--> 600\u001b[0m \u001b[38;5;28;01mreturn\u001b[39;00m \u001b[38;5;28mself\u001b[39m\u001b[38;5;241m.\u001b[39mrequest(\u001b[38;5;124m\"\u001b[39m\u001b[38;5;124mGET\u001b[39m\u001b[38;5;124m\"\u001b[39m, url, \u001b[38;5;241m*\u001b[39m\u001b[38;5;241m*\u001b[39mkwargs)\n",
      "File \u001b[1;32m~\\anaconda3\\envs\\env_qiskit\\lib\\site-packages\\qiskit\\providers\\ibmq\\api\\session.py:300\u001b[0m, in \u001b[0;36mRetrySession.request\u001b[1;34m(self, method, url, bare, **kwargs)\u001b[0m\n\u001b[0;32m    298\u001b[0m         \u001b[38;5;28mself\u001b[39m\u001b[38;5;241m.\u001b[39m_modify_chained_exception_messages(ex)\n\u001b[1;32m--> 300\u001b[0m     \u001b[38;5;28;01mraise\u001b[39;00m RequestsApiError(message, status_code) \u001b[38;5;28;01mfrom\u001b[39;00m \u001b[38;5;21;01mex\u001b[39;00m\n\u001b[0;32m    302\u001b[0m \u001b[38;5;28;01mreturn\u001b[39;00m response\n",
      "\u001b[1;31mRequestsApiError\u001b[0m: '404 Client Error: Not Found for url: https://api.quantum-computing.ibm.com/api/Network/ibm-q/Groups/open/Projects/main/Jobs/6351cb94708bc44335f02250/status/v/1. Job not found., Error code: 3250.'",
      "\nThe above exception was the direct cause of the following exception:\n",
      "\u001b[1;31mIBMQJobApiError\u001b[0m                           Traceback (most recent call last)",
      "Input \u001b[1;32mIn [5]\u001b[0m, in \u001b[0;36m<cell line: 18>\u001b[1;34m()\u001b[0m\n\u001b[0;32m     14\u001b[0m inputs_spam, circuit_list_spam \u001b[38;5;241m=\u001b[39m generate_pauliInput_circuits(n)\n\u001b[0;32m     16\u001b[0m circuit_list \u001b[38;5;241m=\u001b[39m circuit_list_map \u001b[38;5;241m+\u001b[39m circuit_list_spam\n\u001b[1;32m---> 18\u001b[0m counts_list \u001b[38;5;241m=\u001b[39m \u001b[43mexecute_and_collect\u001b[49m\u001b[43m(\u001b[49m\u001b[43mcircuit_list\u001b[49m\u001b[43m,\u001b[49m\u001b[43m \u001b[49m\u001b[43mbackend\u001b[49m\u001b[43m,\u001b[49m\u001b[43m \u001b[49m\u001b[38;5;124;43m'\u001b[39;49m\u001b[38;5;124;43mthreeQubits_PQC_22usDelay_belem\u001b[39;49m\u001b[38;5;124;43m'\u001b[39;49m\u001b[43m,\u001b[49m\u001b[43m \u001b[49m\u001b[43mshots\u001b[49m\u001b[43m \u001b[49m\u001b[38;5;241;43m=\u001b[39;49m\u001b[43m \u001b[49m\u001b[38;5;241;43m1000\u001b[39;49m\u001b[43m)\u001b[49m\n\u001b[0;32m     19\u001b[0m data \u001b[38;5;241m=\u001b[39m [inputs_map, inputs_spam, counts_list]\n\u001b[0;32m     20\u001b[0m pickle\u001b[38;5;241m.\u001b[39mdump(data, \u001b[38;5;28mopen\u001b[39m(\u001b[38;5;124m\"\u001b[39m\u001b[38;5;124m../../data/threeQubits_PQC_22usDelay_belem.p\u001b[39m\u001b[38;5;124m\"\u001b[39m, \u001b[38;5;124m\"\u001b[39m\u001b[38;5;124mwb\u001b[39m\u001b[38;5;124m\"\u001b[39m))\n",
      "Input \u001b[1;32mIn [4]\u001b[0m, in \u001b[0;36mexecute_and_collect\u001b[1;34m(circuit_list, backend, file_name, shots)\u001b[0m\n\u001b[0;32m     20\u001b[0m result_list \u001b[38;5;241m=\u001b[39m []\n\u001b[0;32m     21\u001b[0m \u001b[38;5;28;01mfor\u001b[39;00m job \u001b[38;5;129;01min\u001b[39;00m tqdm(job_list):\n\u001b[1;32m---> 22\u001b[0m     result_list\u001b[38;5;241m.\u001b[39mappend(\u001b[43mjob\u001b[49m\u001b[38;5;241;43m.\u001b[39;49m\u001b[43mresult\u001b[49m\u001b[43m(\u001b[49m\u001b[43m)\u001b[49m)\n\u001b[0;32m     24\u001b[0m \u001b[38;5;28;01mfor\u001b[39;00m result, circuit_parcel \u001b[38;5;129;01min\u001b[39;00m \u001b[38;5;28mzip\u001b[39m(result_list, circuit_parcel_list):\n\u001b[0;32m     25\u001b[0m     counts_list\u001b[38;5;241m.\u001b[39mextend([result\u001b[38;5;241m.\u001b[39mget_counts(circuit) \u001b[38;5;28;01mfor\u001b[39;00m circuit \u001b[38;5;129;01min\u001b[39;00m circuit_parcel])\n",
      "File \u001b[1;32m~\\anaconda3\\envs\\env_qiskit\\lib\\site-packages\\qiskit\\providers\\ibmq\\job\\ibmqjob.py:276\u001b[0m, in \u001b[0;36mIBMQJob.result\u001b[1;34m(self, timeout, wait, partial, refresh)\u001b[0m\n\u001b[0;32m    226\u001b[0m \u001b[38;5;124;03m\"\"\"Return the result of the job.\u001b[39;00m\n\u001b[0;32m    227\u001b[0m \n\u001b[0;32m    228\u001b[0m \u001b[38;5;124;03mNote:\u001b[39;00m\n\u001b[1;32m   (...)\u001b[0m\n\u001b[0;32m    273\u001b[0m \u001b[38;5;124;03m        with the server.\u001b[39;00m\n\u001b[0;32m    274\u001b[0m \u001b[38;5;124;03m\"\"\"\u001b[39;00m\n\u001b[0;32m    275\u001b[0m \u001b[38;5;66;03m# pylint: disable=arguments-differ\u001b[39;00m\n\u001b[1;32m--> 276\u001b[0m \u001b[38;5;28;01mif\u001b[39;00m \u001b[38;5;129;01mnot\u001b[39;00m \u001b[38;5;28;43mself\u001b[39;49m\u001b[38;5;241;43m.\u001b[39;49m\u001b[43m_wait_for_completion\u001b[49m\u001b[43m(\u001b[49m\u001b[43mtimeout\u001b[49m\u001b[38;5;241;43m=\u001b[39;49m\u001b[43mtimeout\u001b[49m\u001b[43m,\u001b[49m\u001b[43m \u001b[49m\u001b[43mwait\u001b[49m\u001b[38;5;241;43m=\u001b[39;49m\u001b[43mwait\u001b[49m\u001b[43m,\u001b[49m\n\u001b[0;32m    277\u001b[0m \u001b[43m                                 \u001b[49m\u001b[43mrequired_status\u001b[49m\u001b[38;5;241;43m=\u001b[39;49m\u001b[43m(\u001b[49m\u001b[43mJobStatus\u001b[49m\u001b[38;5;241;43m.\u001b[39;49m\u001b[43mDONE\u001b[49m\u001b[43m,\u001b[49m\u001b[43m)\u001b[49m\u001b[43m)\u001b[49m:\n\u001b[0;32m    278\u001b[0m     \u001b[38;5;28;01mif\u001b[39;00m \u001b[38;5;28mself\u001b[39m\u001b[38;5;241m.\u001b[39m_status \u001b[38;5;129;01mis\u001b[39;00m JobStatus\u001b[38;5;241m.\u001b[39mCANCELLED:\n\u001b[0;32m    279\u001b[0m         \u001b[38;5;28;01mraise\u001b[39;00m IBMQJobInvalidStateError(\u001b[38;5;124m'\u001b[39m\u001b[38;5;124mUnable to retrieve result for job \u001b[39m\u001b[38;5;132;01m{}\u001b[39;00m\u001b[38;5;124m. \u001b[39m\u001b[38;5;124m'\u001b[39m\n\u001b[0;32m    280\u001b[0m                                        \u001b[38;5;124m'\u001b[39m\u001b[38;5;124mJob was cancelled.\u001b[39m\u001b[38;5;124m'\u001b[39m\u001b[38;5;241m.\u001b[39mformat(\u001b[38;5;28mself\u001b[39m\u001b[38;5;241m.\u001b[39mjob_id()))\n",
      "File \u001b[1;32m~\\anaconda3\\envs\\env_qiskit\\lib\\site-packages\\qiskit\\providers\\ibmq\\job\\ibmqjob.py:919\u001b[0m, in \u001b[0;36mIBMQJob._wait_for_completion\u001b[1;34m(self, timeout, wait, required_status, status_queue)\u001b[0m\n\u001b[0;32m    916\u001b[0m \u001b[38;5;28;01mexcept\u001b[39;00m ApiError \u001b[38;5;28;01mas\u001b[39;00m api_err:\n\u001b[0;32m    917\u001b[0m     logger\u001b[38;5;241m.\u001b[39merror(\u001b[38;5;124m'\u001b[39m\u001b[38;5;124mMaximum retries exceeded: \u001b[39m\u001b[38;5;124m'\u001b[39m\n\u001b[0;32m    918\u001b[0m                  \u001b[38;5;124m'\u001b[39m\u001b[38;5;124mError checking job status due to a network error.\u001b[39m\u001b[38;5;124m'\u001b[39m)\n\u001b[1;32m--> 919\u001b[0m     \u001b[38;5;28;01mraise\u001b[39;00m IBMQJobApiError(\u001b[38;5;124m'\u001b[39m\u001b[38;5;124mError checking job status due to a network \u001b[39m\u001b[38;5;124m'\u001b[39m\n\u001b[0;32m    920\u001b[0m                           \u001b[38;5;124m'\u001b[39m\u001b[38;5;124merror: \u001b[39m\u001b[38;5;132;01m{}\u001b[39;00m\u001b[38;5;124m'\u001b[39m\u001b[38;5;241m.\u001b[39mformat(\u001b[38;5;28mstr\u001b[39m(api_err))) \u001b[38;5;28;01mfrom\u001b[39;00m \u001b[38;5;21;01mapi_err\u001b[39;00m\n\u001b[0;32m    922\u001b[0m \u001b[38;5;28mself\u001b[39m\u001b[38;5;241m.\u001b[39m_api_status \u001b[38;5;241m=\u001b[39m status_response[\u001b[38;5;124m'\u001b[39m\u001b[38;5;124mstatus\u001b[39m\u001b[38;5;124m'\u001b[39m]\n\u001b[0;32m    923\u001b[0m \u001b[38;5;28mself\u001b[39m\u001b[38;5;241m.\u001b[39m_status, \u001b[38;5;28mself\u001b[39m\u001b[38;5;241m.\u001b[39m_queue_info \u001b[38;5;241m=\u001b[39m \u001b[38;5;28mself\u001b[39m\u001b[38;5;241m.\u001b[39m_get_status_position(\n\u001b[0;32m    924\u001b[0m     \u001b[38;5;28mself\u001b[39m\u001b[38;5;241m.\u001b[39m_api_status, status_response\u001b[38;5;241m.\u001b[39mget(\u001b[38;5;124m'\u001b[39m\u001b[38;5;124minfo_queue\u001b[39m\u001b[38;5;124m'\u001b[39m, \u001b[38;5;28;01mNone\u001b[39;00m))\n",
      "\u001b[1;31mIBMQJobApiError\u001b[0m: \"Error checking job status due to a network error: '404 Client Error: Not Found for url: https://api.quantum-computing.ibm.com/api/Network/ibm-q/Groups/open/Projects/main/Jobs/6351cb94708bc44335f02250/status/v/1. Job not found., Error code: 3250.'\""
     ]
    }
   ],
   "source": [
    "backend = provider.get_backend(\"ibmq_belem\")\n",
    "\n",
    "n = 3\n",
    "d = 2**n\n",
    "\n",
    "np.random.seed(42)\n",
    "random.seed(42)\n",
    "\n",
    "circuit_target = pqc_basic(n, 8).reverse_bits()\n",
    "circuit_target.delay(28, unit=\"us\")\n",
    "\n",
    "N = 2000 - 6**n\n",
    "inputs_map, circuit_list_map = generate_pauli_circuits(n, circuit_target, N)\n",
    "inputs_spam, circuit_list_spam = generate_pauliInput_circuits(n)\n",
    "\n",
    "circuit_list = circuit_list_map + circuit_list_spam\n",
    "\n",
    "counts_list = execute_and_collect(circuit_list, backend, 'threeQubits_PQC_28usDelay_belem', shots = 1000)\n",
    "data = [inputs_map, inputs_spam, counts_list]\n",
    "pickle.dump(data, open(\"../../data/threeQubits_PQC_28usDelay_belem.p\", \"wb\"))"
   ]
  },
  {
   "cell_type": "code",
   "execution_count": null,
   "metadata": {},
   "outputs": [],
   "source": [
    "backend = provider.get_backend(\"ibmq_belem\")\n",
    "\n",
    "n = 3\n",
    "d = 2**n\n",
    "\n",
    "np.random.seed(42)\n",
    "random.seed(42)\n",
    "\n",
    "circuit_target = pqc_basic(n, 8).reverse_bits()\n",
    "circuit_target.delay(28, unit=\"us\")\n",
    "\n",
    "N = 2000 - 6**n\n",
    "inputs_map, circuit_list_map = generate_pauli_circuits(n, circuit_target, N)\n",
    "inputs_spam, circuit_list_spam = generate_pauliInput_circuits(n)\n",
    "\n",
    "circuit_list = circuit_list_map + circuit_list_spam\n",
    "\n",
    "counts_list = execute_and_collect(circuit_list, backend, 'threeQubits_PQC_30usDelay_belem', shots = 1000)\n",
    "data = [inputs_map, inputs_spam, counts_list]\n",
    "pickle.dump(data, open(\"../../data/threeQubits_PQC_30usDelay_belem.p\", \"wb\"))"
   ]
  },
  {
   "cell_type": "code",
   "execution_count": null,
   "metadata": {},
   "outputs": [],
   "source": [
    "backend = provider.get_backend(\"ibmq_belem\")\n",
    "\n",
    "n = 3\n",
    "d = 2**n\n",
    "\n",
    "np.random.seed(42)\n",
    "random.seed(42)\n",
    "\n",
    "circuit_target = pqc_basic(n, 8).reverse_bits()\n",
    "circuit_target.delay(28, unit=\"us\")\n",
    "\n",
    "N = 2000 - 6**n\n",
    "inputs_map, circuit_list_map = generate_pauli_circuits(n, circuit_target, N)\n",
    "inputs_spam, circuit_list_spam = generate_pauliInput_circuits(n)\n",
    "\n",
    "circuit_list = circuit_list_map + circuit_list_spam\n",
    "\n",
    "counts_list = execute_and_collect(circuit_list, backend, 'threeQubits_PQC_32usDelay_belem', shots = 1000)\n",
    "data = [inputs_map, inputs_spam, counts_list]\n",
    "pickle.dump(data, open(\"../../data/threeQubits_PQC_32usDelay_belem.p\", \"wb\"))"
   ]
  },
  {
   "cell_type": "code",
   "execution_count": null,
   "metadata": {},
   "outputs": [],
   "source": []
  },
  {
   "cell_type": "code",
   "execution_count": null,
   "metadata": {},
   "outputs": [],
   "source": []
  }
 ],
 "metadata": {
  "kernelspec": {
   "display_name": "env_qiskit",
   "language": "python",
   "name": "env_qiskit"
  },
  "language_info": {
   "codemirror_mode": {
    "name": "ipython",
    "version": 3
   },
   "file_extension": ".py",
   "mimetype": "text/x-python",
   "name": "python",
   "nbconvert_exporter": "python",
   "pygments_lexer": "ipython3",
   "version": "3.10.4"
  }
 },
 "nbformat": 4,
 "nbformat_minor": 4
}
