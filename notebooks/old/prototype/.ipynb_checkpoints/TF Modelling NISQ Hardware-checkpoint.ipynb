{
 "cells": [
  {
   "cell_type": "markdown",
   "metadata": {},
   "source": [
    "# Modelling NIQS Hardware TF"
   ]
  },
  {
   "cell_type": "code",
   "execution_count": null,
   "metadata": {},
   "outputs": [],
   "source": [
    "import sys\n",
    "sys.path.insert(0, '../../src_tf/')\n",
    "\n",
    "import numpy as np\n",
    "import qiskit as qk\n",
    "import matplotlib.pyplot as plt\n",
    "import multiprocessing as mp\n",
    "import random\n",
    "import torch.optim as optim\n",
    "import tensorflow as tf\n",
    "\n",
    "from qiskit.quantum_info import DensityMatrix\n",
    "from qiskit.quantum_info import Operator\n",
    "from scipy.linalg import sqrtm\n",
    "from tqdm.notebook import tqdm\n",
    "\n",
    "from loss_functions import *\n",
    "from optimization import *\n",
    "from quantum_maps import *\n",
    "from quantum_tools import *\n",
    "from experiments import *"
   ]
  },
  {
   "cell_type": "code",
   "execution_count": null,
   "metadata": {},
   "outputs": [],
   "source": [
    "n = 2\n",
    "d = 2**n\n",
    "rank = 4\n",
    "np.random.seed(42)\n",
    "random.seed(42)\n",
    "tf.random.set_seed(42)\n",
    "\n",
    "kraus_target = KrausMap(\n",
    "#                 U = None,\n",
    "#                 c = None,\n",
    "                 d = d,\n",
    "                 rank = rank,\n",
    "                 trainable = False,\n",
    "                 )"
   ]
  },
  {
   "cell_type": "code",
   "execution_count": null,
   "metadata": {},
   "outputs": [],
   "source": [
    "N = 540\n",
    "state_index, observ_index = index_generator(n, N, trace=True)\n",
    "\n",
    "input_list = []\n",
    "circuit_list = []\n",
    "for i, j in zip(state_index, observ_index):\n",
    "\n",
    "    config = numberToBase(i, 6, n)\n",
    "    state = tf.cast(prepare_input(config), dtype=tf.complex64)\n",
    "\n",
    "    config = numberToBase(j, 4, n)\n",
    "    U_basis, observable  = pauli_observable(config, return_mode = \"unitary\")\n",
    "    U_basis, observable = tf.cast(U_basis, dtype = tf.complex64), tf.cast(observable, dtype = tf.complex64)\n",
    "    \n",
    "    input_list.append([state, U_basis, observable])\n",
    "    \n",
    "target_list = [measurement(kraus_target.apply_map(input[0]), input[1]) for input in input_list]\n",
    "input_train, input_test = input_list[:440], input_list[440:]\n",
    "target_train, target_test = target_list[:440], target_list[440:] \n",
    "optimizer = tf.optimizers.Adam(learning_rate=0.025)"
   ]
  },
  {
   "cell_type": "code",
   "execution_count": null,
   "metadata": {},
   "outputs": [],
   "source": [
    "povm = corr_mat_to_povm(np.eye(d))\n",
    "kraus_model = KrausMap(\n",
    "#                 U = None,\n",
    "#                 c = None,\n",
    "                 d = d,\n",
    "                 rank = rank,\n",
    "                 trainable = True,\n",
    "                 povm = povm,\n",
    "                 )\n",
    "\n",
    "model = ModelQuantumMap(q_map = kraus_model,\n",
    "                        loss = probs_loss,\n",
    "                        input_list = input_list,\n",
    "                        target_list = target_list,\n",
    "                        input_val_list = input_list,\n",
    "                        target_val_list = target_list,\n",
    "                        optimizer = optimizer,\n",
    "                        )"
   ]
  },
  {
   "cell_type": "code",
   "execution_count": null,
   "metadata": {},
   "outputs": [
    {
     "data": {
      "application/vnd.jupyter.widget-view+json": {
       "model_id": "c64cd5b7a5044d7fb717ccc8b377f2cb",
       "version_major": 2,
       "version_minor": 0
      },
      "text/plain": [
       "  0%|          | 0/1000 [00:00<?, ?it/s]"
      ]
     },
     "metadata": {},
     "output_type": "display_data"
    },
    {
     "name": "stdout",
     "output_type": "stream",
     "text": [
      "0 (0.027245969+5.385915e-10j)\n",
      "1 (0.026339114+2.612727e-10j)\n",
      "2 (0.025401026+6.060767e-10j)\n",
      "3 (0.024486527+8.5031915e-10j)\n",
      "4 (0.023587598+4.8204424e-10j)\n",
      "5 (0.02268313+4.2415485e-10j)\n",
      "6 (0.021827895+4.1410952e-10j)\n",
      "7 (0.020951372+3.6743256e-10j)\n",
      "8 (0.0201211+5.900041e-10j)\n",
      "9 (0.019311093+5.697467e-10j)\n",
      "10 (0.01856218+3.5357528e-10j)\n",
      "11 (0.017801534+4.2151163e-10j)\n",
      "12 (0.017068433+3.2605543e-10j)\n"
     ]
    }
   ],
   "source": [
    "model.train(num_iter = 1000, N = 10)"
   ]
  },
  {
   "cell_type": "code",
   "execution_count": null,
   "metadata": {},
   "outputs": [],
   "source": []
  },
  {
   "cell_type": "code",
   "execution_count": null,
   "metadata": {},
   "outputs": [],
   "source": [
    "def apply_map(state, kraus_list):\n",
    "    state = [K@state@tf.linalg.adjoint(K) for K in kraus_list]\n",
    "    state = tf.math.reduce_sum(tf.stack(state), axis=0)\n",
    "    return state\n",
    "\n",
    "\n",
    "def expectation_value(state, observable):\n",
    "    ev = tf.linalg.trace(observable@state)\n",
    "    return ev"
   ]
  },
  {
   "cell_type": "code",
   "execution_count": null,
   "metadata": {},
   "outputs": [],
   "source": [
    "random.seed(42)\n",
    "np.random.seed(42)\n",
    "tf.random.set_seed(42)\n",
    "\n",
    "n = 3\n",
    "d = 2**n\n",
    "rank = 8\n",
    "\n",
    "A = tf.cast(tf.random.normal((rank*d, d), 0, 1), dtype=tf.complex64)\n",
    "B = tf.cast(tf.random.normal((rank*d, d), 0, 1), dtype=tf.complex64)\n",
    "G = A + 1j*B\n",
    "Q, R = tf.linalg.qr(G, full_matrices = False)\n",
    "D = tf.linalg.tensor_diag_part(R)\n",
    "D = tf.math.sign(D)\n",
    "D = tf.linalg.diag(D)\n",
    "U = Q@D\n",
    "\n",
    "\n",
    "kraus_target_list =  [U[i*d:(i+1)*d, :d] for i in range(rank)]"
   ]
  },
  {
   "cell_type": "code",
   "execution_count": null,
   "metadata": {},
   "outputs": [],
   "source": [
    "N = 100\n",
    "state_index, observ_index = index_generator(n, N, trace=False)\n",
    "\n",
    "input_list = []\n",
    "circuit_list = []\n",
    "for i, j in zip(state_index, observ_index):\n",
    "\n",
    "    config = numberToBase(i, 6, n)\n",
    "    state = tf.cast(prepare_input(config), dtype=tf.complex64)\n",
    "\n",
    "    config = numberToBase(j, 3, n)\n",
    "    observable = tf.cast(pauli_observable(config), dtype=tf.complex64)\n",
    "    \n",
    "    input_list.append([state, observable])\n",
    "\n",
    "target_list = [expectation_value(apply_map(input[0], kraus_target_list), input[1]) for input in input_list]\n",
    "optimizer = tf.optimizers.Adam(learning_rate=0.05)"
   ]
  },
  {
   "cell_type": "code",
   "execution_count": null,
   "metadata": {},
   "outputs": [],
   "source": [
    "A = tf.Variable(tf.cast(tf.random.normal((rank*d, d), 0, 1), dtype=tf.complex64), trainable=True)\n",
    "B = tf.Variable(tf.cast(tf.random.normal((rank*d, d), 0, 1), dtype=tf.complex64), trainable=True)\n",
    "\n",
    "for i in range(1000):\n",
    "    with tf.GradientTape() as tape:\n",
    "        G = A + 1j*B\n",
    "        Q, R = tf.linalg.qr(G, full_matrices = False)\n",
    "        D = tf.linalg.tensor_diag_part(R)\n",
    "        D = tf.math.sign(D)\n",
    "        D = tf.linalg.diag(D)\n",
    "        U = Q@D\n",
    "\n",
    "        kraus_model_list =  [U[i*d:(i+1)*d, :d] for i in range(rank)]\n",
    "        pred_list = [expectation_value(apply_map(input[0], kraus_model_list), input[1]) for input in input_list]\n",
    "        loss = tf.math.reduce_mean(tf.stack([(target - predicted)**2 for target, predicted in zip(target_list, pred_list)]))\n",
    "\n",
    "    grads = tape.gradient(loss, [A, B])\n",
    "    optimizer.apply_gradients(zip(grads, [A, B]))\n",
    "    \n",
    "    print(f\"loss: {loss: .4f}, {tf.math.reduce_mean(tf.math.abs(G))}\")"
   ]
  },
  {
   "cell_type": "code",
   "execution_count": null,
   "metadata": {},
   "outputs": [],
   "source": [
    "np.random.seed(43)\n",
    "A = np.random.normal(0,1, (2,2))\n",
    "B = np.random.normal(0,1, (2,2))\n",
    "C = np.random.normal(0,1, (2,2))\n",
    "\n",
    "A = A@A.T\n",
    "B = B@B.T\n",
    "C = C@C.T\n",
    "\n",
    "D = A + B + C\n",
    "d = np.linalg.inv(sqrtm(D))\n",
    "A = d@A@d\n",
    "B = d@B@d\n",
    "C = d@C@d"
   ]
  },
  {
   "cell_type": "code",
   "execution_count": null,
   "metadata": {},
   "outputs": [],
   "source": [
    "print(A)\n",
    "print(B)\n",
    "print(C)\n",
    "print(A + B + C)\n",
    "print(np.linalg.eig(A)[0])\n",
    "print(np.linalg.eig(B)[0])\n",
    "print(np.linalg.eig(C)[0])"
   ]
  }
 ],
 "metadata": {
  "kernelspec": {
   "display_name": "env_qiskit",
   "language": "python",
   "name": "env_qiskit"
  },
  "language_info": {
   "codemirror_mode": {
    "name": "ipython",
    "version": 3
   },
   "file_extension": ".py",
   "mimetype": "text/x-python",
   "name": "python",
   "nbconvert_exporter": "python",
   "pygments_lexer": "ipython3",
   "version": "3.7.10"
  }
 },
 "nbformat": 4,
 "nbformat_minor": 4
}
