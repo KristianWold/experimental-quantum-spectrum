{
 "cells": [
  {
   "cell_type": "markdown",
   "metadata": {},
   "source": [
    "# Optimized Sphere Strings"
   ]
  },
  {
   "cell_type": "code",
   "execution_count": 1,
   "metadata": {},
   "outputs": [],
   "source": [
    "import sys\n",
    "sys.path.insert(0, '../../src_tf/')\n",
    "\n",
    "import numpy as np\n",
    "import tensorflow as tf\n",
    "import random\n",
    "\n",
    "from tqdm.notebook import tqdm\n",
    "\n",
    "from loss_functions import ProbabilityMSE, channel_fidelity_loss\n",
    "from optimization import ModelQuantumMap, Logger\n",
    "from kraus_channels import KrausMap, DilutedKrausMap\n",
    "from lindblad_channels import CompactLindbladMap\n",
    "from spam import InitialState, POVM, SPAM, CorruptionMatrix, IdealSPAM\n",
    "from utils import saver\n",
    "from synthetic_data import generate_spam_data, generate_spam_benchmark, generate_map_data\n",
    "from quantum_tools import add_shot_noise, apply_unitary, measurement, generate_unitary\n",
    "from set_precision import precision\n",
    "from experimental import generate_pauli_circuits\n",
    "from string_inputs import HaarStrings\n",
    "\n",
    "#np.set_printoptions(threshold=sys.maxsize)\n",
    "np.set_printoptions(precision=4)\n",
    "\n",
    "import os\n",
    "os.environ[\"CUDA_VISIBLE_DEVICES\"] = \"-1\""
   ]
  },
  {
   "cell_type": "markdown",
   "metadata": {},
   "source": [
    "## Recover Map"
   ]
  },
  {
   "cell_type": "code",
   "execution_count": 2,
   "metadata": {},
   "outputs": [],
   "source": [
    "def generate_map_data(channel_target, inputs_map, shots = 1024):\n",
    "    d = channel_target.d\n",
    "    U_prep, U_basis = inputs_map\n",
    "\n",
    "    N_map = U_prep.shape[0]\n",
    "    init = np.zeros((d,d))\n",
    "    init[0,0] = 1\n",
    "    init = tf.cast(init, dtype=precision)\n",
    "    \n",
    "    state = tf.repeat(tf.expand_dims(init, axis=0), N_map, axis=0)\n",
    "    state = apply_unitary(state, U_prep)\n",
    "    state = channel_target.apply_channel(state)\n",
    "    targets_map = measurement(state, U_basis)\n",
    "    \n",
    "    #add noise\n",
    "    targets_map = add_shot_noise(targets_map, shots=shots)\n",
    "    \n",
    "    return targets_map"
   ]
  },
  {
   "cell_type": "code",
   "execution_count": 3,
   "metadata": {
    "scrolled": true
   },
   "outputs": [],
   "source": [
    "n = 3\n",
    "d = 2**n\n",
    "\n",
    "N = 2000\n",
    "\n",
    "#Pauli Strings\n",
    "np.random.seed(42)\n",
    "random.seed(42)\n",
    "tf.random.set_seed(42)\n",
    "\n",
    "inputs_map1, _ = generate_pauli_circuits(n=n, N=N)\n",
    "\n",
    "#Haar Strings\n",
    "np.random.seed(42)\n",
    "random.seed(42)\n",
    "tf.random.set_seed(42)\n",
    "\n",
    "strings = HaarStrings(N=2*N, n=n)\n",
    "\n",
    "_, U_haar = strings.generate_circuits()\n",
    "inputs_map2 = [U_haar[:N], U_haar[N:]]\n",
    "\n",
    "np.random.seed(42)\n",
    "random.seed(42)\n",
    "tf.random.set_seed(42)\n",
    "\n",
    "channel_target = DilutedKrausMap(U = generate_unitary(d=d), c=0.5, kraus_part = KrausMap(d=d, rank=3))\n",
    "targets_map1 = generate_map_data(channel_target, inputs_map1, shots=1024)\n",
    "targets_map2 = generate_map_data(channel_target, inputs_map2, shots=1024)"
   ]
  },
  {
   "cell_type": "markdown",
   "metadata": {},
   "source": [
    "### Vanilla Pauli Strings"
   ]
  },
  {
   "cell_type": "code",
   "execution_count": 4,
   "metadata": {},
   "outputs": [
    {
     "name": "stdout",
     "output_type": "stream",
     "text": [
      "4\n",
      "0.006448724792290887 0.0068300596035372006\n",
      "0.0064286092288114195 0.006828145827639948\n",
      "0.006451340951727526 0.0068622474946732825\n",
      "0.006405769677670529 0.006904431001970069\n",
      "8\n",
      "0.006222114135295119 0.007014478348111685\n"
     ]
    },
    {
     "ename": "IndexError",
     "evalue": "list index out of range",
     "output_type": "error",
     "traceback": [
      "\u001b[1;31m---------------------------------------------------------------------------\u001b[0m",
      "\u001b[1;31mIndexError\u001b[0m                                Traceback (most recent call last)",
      "\u001b[1;32mc:\\Users\\krisw\\Documents\\ModelNISQ\\notebooks\\entangled_pauli_strings\\overfitting.ipynb Cell 7\u001b[0m line \u001b[0;36m<cell line: 5>\u001b[1;34m()\u001b[0m\n\u001b[0;32m     <a href='vscode-notebook-cell:/c%3A/Users/krisw/Documents/ModelNISQ/notebooks/entangled_pauli_strings/overfitting.ipynb#X10sZmlsZQ%3D%3D?line=13'>14</a>\u001b[0m \u001b[39mfor\u001b[39;00m _ \u001b[39min\u001b[39;00m \u001b[39mrange\u001b[39m(\u001b[39m4\u001b[39m):\n\u001b[0;32m     <a href='vscode-notebook-cell:/c%3A/Users/krisw/Documents/ModelNISQ/notebooks/entangled_pauli_strings/overfitting.ipynb#X10sZmlsZQ%3D%3D?line=14'>15</a>\u001b[0m     model\u001b[39m.\u001b[39mtrain(inputs \u001b[39m=\u001b[39m inputs_map1,\n\u001b[0;32m     <a href='vscode-notebook-cell:/c%3A/Users/krisw/Documents/ModelNISQ/notebooks/entangled_pauli_strings/overfitting.ipynb#X10sZmlsZQ%3D%3D?line=15'>16</a>\u001b[0m                 targets \u001b[39m=\u001b[39m targets_map1,\n\u001b[0;32m     <a href='vscode-notebook-cell:/c%3A/Users/krisw/Documents/ModelNISQ/notebooks/entangled_pauli_strings/overfitting.ipynb#X10sZmlsZQ%3D%3D?line=16'>17</a>\u001b[0m                 inputs_val \u001b[39m=\u001b[39m inputs_map2,\n\u001b[1;32m   (...)\u001b[0m\n\u001b[0;32m     <a href='vscode-notebook-cell:/c%3A/Users/krisw/Documents/ModelNISQ/notebooks/entangled_pauli_strings/overfitting.ipynb#X10sZmlsZQ%3D%3D?line=20'>21</a>\u001b[0m                 verbose\u001b[39m=\u001b[39m\u001b[39m0\u001b[39m,\n\u001b[0;32m     <a href='vscode-notebook-cell:/c%3A/Users/krisw/Documents/ModelNISQ/notebooks/entangled_pauli_strings/overfitting.ipynb#X10sZmlsZQ%3D%3D?line=21'>22</a>\u001b[0m                 )\n\u001b[1;32m---> <a href='vscode-notebook-cell:/c%3A/Users/krisw/Documents/ModelNISQ/notebooks/entangled_pauli_strings/overfitting.ipynb#X10sZmlsZQ%3D%3D?line=23'>24</a>\u001b[0m     model_list[i]\u001b[39m.\u001b[39mappend(model)\n",
      "\u001b[1;31mIndexError\u001b[0m: list index out of range"
     ]
    }
   ],
   "source": [
    "np.random.seed(43)\n",
    "random.seed(43)\n",
    "tf.random.set_seed(43)\n",
    "model_list = [[]]\n",
    "for i, rank in enumerate([4, 8, 16, 32, 64]):\n",
    "    print(rank)\n",
    "    model = ModelQuantumMap(channel = KrausMap(d=d, \n",
    "                                            rank=rank,),\n",
    "                                loss_function = ProbabilityMSE(),\n",
    "                                optimizer = tf.optimizers.Adam(learning_rate=0.01),\n",
    "                                logger = Logger(loss_function = ProbabilityMSE(),\n",
    "                                                loss_function_val = ProbabilityMSE()),\n",
    "                                )\n",
    "    for _ in range(4):\n",
    "        model.train(inputs = inputs_map1,\n",
    "                    targets = targets_map1,\n",
    "                    inputs_val = inputs_map2,\n",
    "                    targets_val = targets_map2,\n",
    "                    num_iter = 1000,\n",
    "                    N = 500,\n",
    "                    verbose=0,\n",
    "                    )\n",
    "        \n",
    "        model_list[i].append(model)"
   ]
  },
  {
   "cell_type": "code",
   "execution_count": 28,
   "metadata": {},
   "outputs": [
    {
     "data": {
      "application/vnd.jupyter.widget-view+json": {
       "model_id": "20c15a2554154ef4baa4286e0524943a",
       "version_major": 2,
       "version_minor": 0
      },
      "text/plain": [
       "  0%|          | 0/5 [00:00<?, ?it/s]"
      ]
     },
     "metadata": {},
     "output_type": "display_data"
    },
    {
     "name": "stdout",
     "output_type": "stream",
     "text": [
      "0.006574786622024594 -0.999239242214913\n",
      "0.006356087668005296 -0.9767154889989185\n",
      "0.006234943154259028 -0.9717255190249705\n",
      "0.006175880754871784 -0.9718413178379592\n"
     ]
    },
    {
     "ename": "KeyboardInterrupt",
     "evalue": "",
     "output_type": "error",
     "traceback": [
      "\u001b[1;31m---------------------------------------------------------------------------\u001b[0m",
      "\u001b[1;31mKeyboardInterrupt\u001b[0m                         Traceback (most recent call last)",
      "\u001b[1;32mc:\\Users\\krisw\\Documents\\ModelNISQ\\notebooks\\entangled_pauli_strings\\overfitting.ipynb Cell 8\u001b[0m line \u001b[0;36m<cell line: 5>\u001b[1;34m()\u001b[0m\n\u001b[0;32m      <a href='vscode-notebook-cell:/c%3A/Users/krisw/Documents/ModelNISQ/notebooks/entangled_pauli_strings/overfitting.ipynb#X50sZmlsZQ%3D%3D?line=4'>5</a>\u001b[0m \u001b[39mfor\u001b[39;00m rank \u001b[39min\u001b[39;00m tqdm([\u001b[39m4\u001b[39m, \u001b[39m8\u001b[39m, \u001b[39m16\u001b[39m, \u001b[39m32\u001b[39m, \u001b[39m64\u001b[39m]):\n\u001b[0;32m      <a href='vscode-notebook-cell:/c%3A/Users/krisw/Documents/ModelNISQ/notebooks/entangled_pauli_strings/overfitting.ipynb#X50sZmlsZQ%3D%3D?line=5'>6</a>\u001b[0m     model \u001b[39m=\u001b[39m ModelQuantumMap(channel \u001b[39m=\u001b[39m KrausMap(d\u001b[39m=\u001b[39md, \n\u001b[0;32m      <a href='vscode-notebook-cell:/c%3A/Users/krisw/Documents/ModelNISQ/notebooks/entangled_pauli_strings/overfitting.ipynb#X50sZmlsZQ%3D%3D?line=6'>7</a>\u001b[0m                                             rank\u001b[39m=\u001b[39mrank,),\n\u001b[0;32m      <a href='vscode-notebook-cell:/c%3A/Users/krisw/Documents/ModelNISQ/notebooks/entangled_pauli_strings/overfitting.ipynb#X50sZmlsZQ%3D%3D?line=7'>8</a>\u001b[0m                                 loss_function \u001b[39m=\u001b[39m ProbabilityMSE(),\n\u001b[1;32m   (...)\u001b[0m\n\u001b[0;32m     <a href='vscode-notebook-cell:/c%3A/Users/krisw/Documents/ModelNISQ/notebooks/entangled_pauli_strings/overfitting.ipynb#X50sZmlsZQ%3D%3D?line=10'>11</a>\u001b[0m                                                 loss_function_val \u001b[39m=\u001b[39m channel_fidelity_loss),\n\u001b[0;32m     <a href='vscode-notebook-cell:/c%3A/Users/krisw/Documents/ModelNISQ/notebooks/entangled_pauli_strings/overfitting.ipynb#X50sZmlsZQ%3D%3D?line=11'>12</a>\u001b[0m                                 )\n\u001b[1;32m---> <a href='vscode-notebook-cell:/c%3A/Users/krisw/Documents/ModelNISQ/notebooks/entangled_pauli_strings/overfitting.ipynb#X50sZmlsZQ%3D%3D?line=13'>14</a>\u001b[0m     model\u001b[39m.\u001b[39;49mtrain(inputs \u001b[39m=\u001b[39;49m inputs_map1,\n\u001b[0;32m     <a href='vscode-notebook-cell:/c%3A/Users/krisw/Documents/ModelNISQ/notebooks/entangled_pauli_strings/overfitting.ipynb#X50sZmlsZQ%3D%3D?line=14'>15</a>\u001b[0m                 targets \u001b[39m=\u001b[39;49m targets_map1,\n\u001b[0;32m     <a href='vscode-notebook-cell:/c%3A/Users/krisw/Documents/ModelNISQ/notebooks/entangled_pauli_strings/overfitting.ipynb#X50sZmlsZQ%3D%3D?line=15'>16</a>\u001b[0m                 inputs_val \u001b[39m=\u001b[39;49m \u001b[39mNone\u001b[39;49;00m,\n\u001b[0;32m     <a href='vscode-notebook-cell:/c%3A/Users/krisw/Documents/ModelNISQ/notebooks/entangled_pauli_strings/overfitting.ipynb#X50sZmlsZQ%3D%3D?line=16'>17</a>\u001b[0m                 targets_val \u001b[39m=\u001b[39;49m [kraus_target],\n\u001b[0;32m     <a href='vscode-notebook-cell:/c%3A/Users/krisw/Documents/ModelNISQ/notebooks/entangled_pauli_strings/overfitting.ipynb#X50sZmlsZQ%3D%3D?line=17'>18</a>\u001b[0m                 num_iter \u001b[39m=\u001b[39;49m \u001b[39m4000\u001b[39;49m,\n\u001b[0;32m     <a href='vscode-notebook-cell:/c%3A/Users/krisw/Documents/ModelNISQ/notebooks/entangled_pauli_strings/overfitting.ipynb#X50sZmlsZQ%3D%3D?line=18'>19</a>\u001b[0m                 N \u001b[39m=\u001b[39;49m \u001b[39m500\u001b[39;49m,\n\u001b[0;32m     <a href='vscode-notebook-cell:/c%3A/Users/krisw/Documents/ModelNISQ/notebooks/entangled_pauli_strings/overfitting.ipynb#X50sZmlsZQ%3D%3D?line=19'>20</a>\u001b[0m                 verbose\u001b[39m=\u001b[39;49m\u001b[39m0\u001b[39;49m,\n\u001b[0;32m     <a href='vscode-notebook-cell:/c%3A/Users/krisw/Documents/ModelNISQ/notebooks/entangled_pauli_strings/overfitting.ipynb#X50sZmlsZQ%3D%3D?line=20'>21</a>\u001b[0m                 )\n\u001b[0;32m     <a href='vscode-notebook-cell:/c%3A/Users/krisw/Documents/ModelNISQ/notebooks/entangled_pauli_strings/overfitting.ipynb#X50sZmlsZQ%3D%3D?line=22'>23</a>\u001b[0m     model_list\u001b[39m.\u001b[39mappend(model)\n",
      "File \u001b[1;32mc:\\Users\\krisw\\Documents\\ModelNISQ\\notebooks\\entangled_pauli_strings\\../../src_tf\\optimization.py:129\u001b[0m, in \u001b[0;36mModelQuantumMap.train\u001b[1;34m(self, inputs, targets, inputs_val, targets_val, num_iter, N, verbose)\u001b[0m\n\u001b[0;32m    126\u001b[0m     inputs_batch \u001b[39m=\u001b[39m inputs\n\u001b[0;32m    127\u001b[0m     targets_batch \u001b[39m=\u001b[39m targets\n\u001b[1;32m--> 129\u001b[0m \u001b[39mself\u001b[39;49m\u001b[39m.\u001b[39;49mtrain_step(inputs_batch, targets_batch)\n\u001b[0;32m    131\u001b[0m \u001b[39mself\u001b[39m\u001b[39m.\u001b[39mlogger\u001b[39m.\u001b[39mlog(\u001b[39mself\u001b[39m)\n\u001b[0;32m    132\u001b[0m \u001b[39mself\u001b[39m\u001b[39m.\u001b[39mcounter \u001b[39m+\u001b[39m\u001b[39m=\u001b[39m \u001b[39m1\u001b[39m\n",
      "File \u001b[1;32mc:\\Program Files\\Anaconda3\\envs\\env_qiskit\\lib\\site-packages\\tensorflow\\python\\util\\traceback_utils.py:150\u001b[0m, in \u001b[0;36mfilter_traceback.<locals>.error_handler\u001b[1;34m(*args, **kwargs)\u001b[0m\n\u001b[0;32m    148\u001b[0m filtered_tb \u001b[39m=\u001b[39m \u001b[39mNone\u001b[39;00m\n\u001b[0;32m    149\u001b[0m \u001b[39mtry\u001b[39;00m:\n\u001b[1;32m--> 150\u001b[0m   \u001b[39mreturn\u001b[39;00m fn(\u001b[39m*\u001b[39margs, \u001b[39m*\u001b[39m\u001b[39m*\u001b[39mkwargs)\n\u001b[0;32m    151\u001b[0m \u001b[39mexcept\u001b[39;00m \u001b[39mException\u001b[39;00m \u001b[39mas\u001b[39;00m e:\n\u001b[0;32m    152\u001b[0m   filtered_tb \u001b[39m=\u001b[39m _process_traceback_frames(e\u001b[39m.\u001b[39m__traceback__)\n",
      "File \u001b[1;32mc:\\Program Files\\Anaconda3\\envs\\env_qiskit\\lib\\site-packages\\tensorflow\\python\\eager\\def_function.py:915\u001b[0m, in \u001b[0;36mFunction.__call__\u001b[1;34m(self, *args, **kwds)\u001b[0m\n\u001b[0;32m    912\u001b[0m compiler \u001b[39m=\u001b[39m \u001b[39m\"\u001b[39m\u001b[39mxla\u001b[39m\u001b[39m\"\u001b[39m \u001b[39mif\u001b[39;00m \u001b[39mself\u001b[39m\u001b[39m.\u001b[39m_jit_compile \u001b[39melse\u001b[39;00m \u001b[39m\"\u001b[39m\u001b[39mnonXla\u001b[39m\u001b[39m\"\u001b[39m\n\u001b[0;32m    914\u001b[0m \u001b[39mwith\u001b[39;00m OptionalXlaContext(\u001b[39mself\u001b[39m\u001b[39m.\u001b[39m_jit_compile):\n\u001b[1;32m--> 915\u001b[0m   result \u001b[39m=\u001b[39m \u001b[39mself\u001b[39m\u001b[39m.\u001b[39m_call(\u001b[39m*\u001b[39margs, \u001b[39m*\u001b[39m\u001b[39m*\u001b[39mkwds)\n\u001b[0;32m    917\u001b[0m new_tracing_count \u001b[39m=\u001b[39m \u001b[39mself\u001b[39m\u001b[39m.\u001b[39mexperimental_get_tracing_count()\n\u001b[0;32m    918\u001b[0m without_tracing \u001b[39m=\u001b[39m (tracing_count \u001b[39m==\u001b[39m new_tracing_count)\n",
      "File \u001b[1;32mc:\\Program Files\\Anaconda3\\envs\\env_qiskit\\lib\\site-packages\\tensorflow\\python\\eager\\def_function.py:947\u001b[0m, in \u001b[0;36mFunction._call\u001b[1;34m(self, *args, **kwds)\u001b[0m\n\u001b[0;32m    944\u001b[0m   \u001b[39mself\u001b[39m\u001b[39m.\u001b[39m_lock\u001b[39m.\u001b[39mrelease()\n\u001b[0;32m    945\u001b[0m   \u001b[39m# In this case we have created variables on the first call, so we run the\u001b[39;00m\n\u001b[0;32m    946\u001b[0m   \u001b[39m# defunned version which is guaranteed to never create variables.\u001b[39;00m\n\u001b[1;32m--> 947\u001b[0m   \u001b[39mreturn\u001b[39;00m \u001b[39mself\u001b[39m\u001b[39m.\u001b[39m_stateless_fn(\u001b[39m*\u001b[39margs, \u001b[39m*\u001b[39m\u001b[39m*\u001b[39mkwds)  \u001b[39m# pylint: disable=not-callable\u001b[39;00m\n\u001b[0;32m    948\u001b[0m \u001b[39melif\u001b[39;00m \u001b[39mself\u001b[39m\u001b[39m.\u001b[39m_stateful_fn \u001b[39mis\u001b[39;00m \u001b[39mnot\u001b[39;00m \u001b[39mNone\u001b[39;00m:\n\u001b[0;32m    949\u001b[0m   \u001b[39m# Release the lock early so that multiple threads can perform the call\u001b[39;00m\n\u001b[0;32m    950\u001b[0m   \u001b[39m# in parallel.\u001b[39;00m\n\u001b[0;32m    951\u001b[0m   \u001b[39mself\u001b[39m\u001b[39m.\u001b[39m_lock\u001b[39m.\u001b[39mrelease()\n",
      "File \u001b[1;32mc:\\Program Files\\Anaconda3\\envs\\env_qiskit\\lib\\site-packages\\tensorflow\\python\\eager\\function.py:2496\u001b[0m, in \u001b[0;36mFunction.__call__\u001b[1;34m(self, *args, **kwargs)\u001b[0m\n\u001b[0;32m   2493\u001b[0m \u001b[39mwith\u001b[39;00m \u001b[39mself\u001b[39m\u001b[39m.\u001b[39m_lock:\n\u001b[0;32m   2494\u001b[0m   (graph_function,\n\u001b[0;32m   2495\u001b[0m    filtered_flat_args) \u001b[39m=\u001b[39m \u001b[39mself\u001b[39m\u001b[39m.\u001b[39m_maybe_define_function(args, kwargs)\n\u001b[1;32m-> 2496\u001b[0m \u001b[39mreturn\u001b[39;00m graph_function\u001b[39m.\u001b[39;49m_call_flat(\n\u001b[0;32m   2497\u001b[0m     filtered_flat_args, captured_inputs\u001b[39m=\u001b[39;49mgraph_function\u001b[39m.\u001b[39;49mcaptured_inputs)\n",
      "File \u001b[1;32mc:\\Program Files\\Anaconda3\\envs\\env_qiskit\\lib\\site-packages\\tensorflow\\python\\eager\\function.py:1862\u001b[0m, in \u001b[0;36mConcreteFunction._call_flat\u001b[1;34m(self, args, captured_inputs, cancellation_manager)\u001b[0m\n\u001b[0;32m   1858\u001b[0m possible_gradient_type \u001b[39m=\u001b[39m gradients_util\u001b[39m.\u001b[39mPossibleTapeGradientTypes(args)\n\u001b[0;32m   1859\u001b[0m \u001b[39mif\u001b[39;00m (possible_gradient_type \u001b[39m==\u001b[39m gradients_util\u001b[39m.\u001b[39mPOSSIBLE_GRADIENT_TYPES_NONE\n\u001b[0;32m   1860\u001b[0m     \u001b[39mand\u001b[39;00m executing_eagerly):\n\u001b[0;32m   1861\u001b[0m   \u001b[39m# No tape is watching; skip to running the function.\u001b[39;00m\n\u001b[1;32m-> 1862\u001b[0m   \u001b[39mreturn\u001b[39;00m \u001b[39mself\u001b[39m\u001b[39m.\u001b[39m_build_call_outputs(\u001b[39mself\u001b[39;49m\u001b[39m.\u001b[39;49m_inference_function\u001b[39m.\u001b[39;49mcall(\n\u001b[0;32m   1863\u001b[0m       ctx, args, cancellation_manager\u001b[39m=\u001b[39;49mcancellation_manager))\n\u001b[0;32m   1864\u001b[0m forward_backward \u001b[39m=\u001b[39m \u001b[39mself\u001b[39m\u001b[39m.\u001b[39m_select_forward_and_backward_functions(\n\u001b[0;32m   1865\u001b[0m     args,\n\u001b[0;32m   1866\u001b[0m     possible_gradient_type,\n\u001b[0;32m   1867\u001b[0m     executing_eagerly)\n\u001b[0;32m   1868\u001b[0m forward_function, args_with_tangents \u001b[39m=\u001b[39m forward_backward\u001b[39m.\u001b[39mforward()\n",
      "File \u001b[1;32mc:\\Program Files\\Anaconda3\\envs\\env_qiskit\\lib\\site-packages\\tensorflow\\python\\eager\\function.py:499\u001b[0m, in \u001b[0;36m_EagerDefinedFunction.call\u001b[1;34m(self, ctx, args, cancellation_manager)\u001b[0m\n\u001b[0;32m    497\u001b[0m \u001b[39mwith\u001b[39;00m _InterpolateFunctionError(\u001b[39mself\u001b[39m):\n\u001b[0;32m    498\u001b[0m   \u001b[39mif\u001b[39;00m cancellation_manager \u001b[39mis\u001b[39;00m \u001b[39mNone\u001b[39;00m:\n\u001b[1;32m--> 499\u001b[0m     outputs \u001b[39m=\u001b[39m execute\u001b[39m.\u001b[39;49mexecute(\n\u001b[0;32m    500\u001b[0m         \u001b[39mstr\u001b[39;49m(\u001b[39mself\u001b[39;49m\u001b[39m.\u001b[39;49msignature\u001b[39m.\u001b[39;49mname),\n\u001b[0;32m    501\u001b[0m         num_outputs\u001b[39m=\u001b[39;49m\u001b[39mself\u001b[39;49m\u001b[39m.\u001b[39;49m_num_outputs,\n\u001b[0;32m    502\u001b[0m         inputs\u001b[39m=\u001b[39;49margs,\n\u001b[0;32m    503\u001b[0m         attrs\u001b[39m=\u001b[39;49mattrs,\n\u001b[0;32m    504\u001b[0m         ctx\u001b[39m=\u001b[39;49mctx)\n\u001b[0;32m    505\u001b[0m   \u001b[39melse\u001b[39;00m:\n\u001b[0;32m    506\u001b[0m     outputs \u001b[39m=\u001b[39m execute\u001b[39m.\u001b[39mexecute_with_cancellation(\n\u001b[0;32m    507\u001b[0m         \u001b[39mstr\u001b[39m(\u001b[39mself\u001b[39m\u001b[39m.\u001b[39msignature\u001b[39m.\u001b[39mname),\n\u001b[0;32m    508\u001b[0m         num_outputs\u001b[39m=\u001b[39m\u001b[39mself\u001b[39m\u001b[39m.\u001b[39m_num_outputs,\n\u001b[1;32m   (...)\u001b[0m\n\u001b[0;32m    511\u001b[0m         ctx\u001b[39m=\u001b[39mctx,\n\u001b[0;32m    512\u001b[0m         cancellation_manager\u001b[39m=\u001b[39mcancellation_manager)\n",
      "File \u001b[1;32mc:\\Program Files\\Anaconda3\\envs\\env_qiskit\\lib\\site-packages\\tensorflow\\python\\eager\\execute.py:54\u001b[0m, in \u001b[0;36mquick_execute\u001b[1;34m(op_name, num_outputs, inputs, attrs, ctx, name)\u001b[0m\n\u001b[0;32m     52\u001b[0m \u001b[39mtry\u001b[39;00m:\n\u001b[0;32m     53\u001b[0m   ctx\u001b[39m.\u001b[39mensure_initialized()\n\u001b[1;32m---> 54\u001b[0m   tensors \u001b[39m=\u001b[39m pywrap_tfe\u001b[39m.\u001b[39;49mTFE_Py_Execute(ctx\u001b[39m.\u001b[39;49m_handle, device_name, op_name,\n\u001b[0;32m     55\u001b[0m                                       inputs, attrs, num_outputs)\n\u001b[0;32m     56\u001b[0m \u001b[39mexcept\u001b[39;00m core\u001b[39m.\u001b[39m_NotOkStatusException \u001b[39mas\u001b[39;00m e:\n\u001b[0;32m     57\u001b[0m   \u001b[39mif\u001b[39;00m name \u001b[39mis\u001b[39;00m \u001b[39mnot\u001b[39;00m \u001b[39mNone\u001b[39;00m:\n",
      "\u001b[1;31mKeyboardInterrupt\u001b[0m: "
     ]
    }
   ],
   "source": [
    "np.random.seed(43)\n",
    "random.seed(43)\n",
    "tf.random.set_seed(43)\n",
    "model_list = []\n",
    "for rank in tqdm([4, 8, 16, 32, 64]):\n",
    "    model = ModelQuantumMap(channel = KrausMap(d=d, \n",
    "                                            rank=rank,),\n",
    "                                loss_function = ProbabilityMSE(),\n",
    "                                optimizer = tf.optimizers.Adam(learning_rate=0.01),\n",
    "                                logger = Logger(loss_function = ProbabilityMSE(),\n",
    "                                                loss_function_val = channel_fidelity_loss),\n",
    "                                )\n",
    "\n",
    "    model.train(inputs = inputs_map1,\n",
    "                targets = targets_map1,\n",
    "                inputs_val = None,\n",
    "                targets_val = [kraus_target],\n",
    "                num_iter = 4000,\n",
    "                N = 500,\n",
    "                verbose=0,\n",
    "                )\n",
    "    \n",
    "    model_list.append(model)"
   ]
  }
 ],
 "metadata": {
  "kernelspec": {
   "display_name": "env_qiskit",
   "language": "python",
   "name": "python3"
  },
  "language_info": {
   "codemirror_mode": {
    "name": "ipython",
    "version": 3
   },
   "file_extension": ".py",
   "mimetype": "text/x-python",
   "name": "python",
   "nbconvert_exporter": "python",
   "pygments_lexer": "ipython3",
   "version": "3.10.4"
  }
 },
 "nbformat": 4,
 "nbformat_minor": 4
}
