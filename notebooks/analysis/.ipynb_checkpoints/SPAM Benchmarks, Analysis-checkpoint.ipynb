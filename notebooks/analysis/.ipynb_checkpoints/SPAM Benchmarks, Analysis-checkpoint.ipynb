{
 "cells": [
  {
   "cell_type": "markdown",
   "metadata": {},
   "source": [
    "# SPAM Benchmarks, Analysis"
   ]
  },
  {
   "cell_type": "code",
   "execution_count": 11,
   "metadata": {},
   "outputs": [],
   "source": [
    "import sys\n",
    "sys.path.insert(0, '../../src_tf/')\n",
    "\n",
    "import numpy as np\n",
    "import qiskit as qk\n",
    "import matplotlib.pyplot as plt\n",
    "import multiprocessing as mp\n",
    "import random\n",
    "import pickle\n",
    "\n",
    "from qiskit.quantum_info import DensityMatrix, random_unitary\n",
    "from qiskit.quantum_info import Operator\n",
    "from scipy.linalg import sqrtm\n",
    "from tqdm.notebook import tqdm\n",
    "\n",
    "from loss_functions import *\n",
    "from optimization import *\n",
    "from quantum_channel import *\n",
    "from quantum_tools import *\n",
    "from experimental import *\n",
    "from spam import *\n",
    "\n",
    "#np.set_printoptions(threshold=sys.maxsize)\n",
    "np.set_printoptions(precision=4)\n",
    "\n",
    "import os\n",
    "os.environ[\"CUDA_VISIBLE_DEVICES\"] = \"-1\""
   ]
  },
  {
   "cell_type": "markdown",
   "metadata": {},
   "source": [
    "## Plot"
   ]
  },
  {
   "cell_type": "code",
   "execution_count": 12,
   "metadata": {},
   "outputs": [
    {
     "ename": "NameError",
     "evalue": "name 'povm_fid_list4' is not defined",
     "output_type": "error",
     "traceback": [
      "\u001b[1;31m---------------------------------------------------------------------------\u001b[0m",
      "\u001b[1;31mNameError\u001b[0m                                 Traceback (most recent call last)",
      "Input \u001b[1;32mIn [12]\u001b[0m, in \u001b[0;36m<cell line: 16>\u001b[1;34m()\u001b[0m\n\u001b[0;32m     13\u001b[0m povm_fid_mean2 \u001b[38;5;241m=\u001b[39m np\u001b[38;5;241m.\u001b[39mmean(povm_fid_list2, axis\u001b[38;5;241m=\u001b[39m\u001b[38;5;241m1\u001b[39m)\n\u001b[0;32m     15\u001b[0m init_fid_mean4 \u001b[38;5;241m=\u001b[39m np\u001b[38;5;241m.\u001b[39mmean(init_fid_list4, axis\u001b[38;5;241m=\u001b[39m\u001b[38;5;241m1\u001b[39m)\n\u001b[1;32m---> 16\u001b[0m povm_fid_mean4 \u001b[38;5;241m=\u001b[39m np\u001b[38;5;241m.\u001b[39mmean(\u001b[43mpovm_fid_list4\u001b[49m, axis\u001b[38;5;241m=\u001b[39m\u001b[38;5;241m1\u001b[39m)\n\u001b[0;32m     18\u001b[0m x_list \u001b[38;5;241m=\u001b[39m [\u001b[38;5;241m0\u001b[39m, \u001b[38;5;241m1\u001b[39m, \u001b[38;5;241m2\u001b[39m, \u001b[38;5;241m3\u001b[39m]\n\u001b[0;32m     19\u001b[0m fig \u001b[38;5;241m=\u001b[39m plt\u001b[38;5;241m.\u001b[39mfigure(figsize\u001b[38;5;241m=\u001b[39m(\u001b[38;5;241m6\u001b[39m, \u001b[38;5;241m4\u001b[39m), dpi\u001b[38;5;241m=\u001b[39m\u001b[38;5;241m300\u001b[39m, facecolor\u001b[38;5;241m=\u001b[39m\u001b[38;5;124m\"\u001b[39m\u001b[38;5;124mw\u001b[39m\u001b[38;5;124m\"\u001b[39m, edgecolor\u001b[38;5;241m=\u001b[39m\u001b[38;5;124m\"\u001b[39m\u001b[38;5;124mk\u001b[39m\u001b[38;5;124m\"\u001b[39m)\n",
      "\u001b[1;31mNameError\u001b[0m: name 'povm_fid_list4' is not defined"
     ]
    }
   ],
   "source": [
    "noise_list = np.logspace(-1, -3, 3)\n",
    "noise_list = np.append(noise_list, 0)\n",
    "\n",
    "init_fid_list1, povm_fid_list1 = loader(data_path(\"spam_fidelity_3qubit_full.data\"))\n",
    "init_fid_list2, povm_fid_list2 = loader(data_path(\"spam_fidelity_3qubit_corr.data\"))\n",
    "init_fid_list4, povm_fid_list4 = loader(data_path(\"spam_fidelity_4qubit_full.data\"))\n",
    "\n",
    "\n",
    "init_fid_mean1 = np.mean(init_fid_list1, axis=1)\n",
    "povm_fid_mean1 = np.mean(povm_fid_list1, axis=1)\n",
    "\n",
    "init_fid_mean2 = np.mean(init_fid_list2, axis=1)\n",
    "povm_fid_mean2 = np.mean(povm_fid_list2, axis=1)\n",
    "\n",
    "init_fid_mean4 = np.mean(init_fid_list4, axis=1)\n",
    "povm_fid_mean4 = np.mean(povm_fid_list4, axis=1)\n",
    "\n",
    "x_list = [0, 1, 2, 3]\n",
    "fig = plt.figure(figsize=(6, 4), dpi=300, facecolor=\"w\", edgecolor=\"k\")\n",
    "plt.plot(x_list, init_fid_mean1, \"bo-\")\n",
    "plt.plot(x_list, init_fid_mean2, \"bo--\")\n",
    "\n",
    "plt.plot(x_list, init_fid_mean4, \"ro-\")\n",
    "#plt.plot(x_list, init_fid_mean2, \"bo--\")\n",
    "\n",
    "\n",
    "ticks_list = [0, 2, 4, 6]\n",
    "labels = [\"$10^2$\", \"$7.4 x 10^2$\", \"$6.0 x 10^3$\",\"$\\infty$\"]\n",
    "\n",
    "plt.xticks(ticks_list, labels)\n",
    "plt.xlabel(\"#Shots\")\n",
    "plt.ylabel(\"Fidelity\")\n",
    "plt.show()\n",
    "\n",
    "fig = plt.figure(figsize=(6, 4), dpi=300, facecolor=\"w\", edgecolor=\"k\")\n",
    "plt.plot(x_list, povm_fid_mean1, \"bo-\")\n",
    "plt.plot(x_list, povm_fid_mean2, \"bo--\")\n",
    "\n",
    "\n",
    "ticks_list = [0, 2, 4, 6]\n",
    "labels = [\"$10^2$\", \"$7.4 x 10^2$\", \"$6.0 x 10^3$\",\"$\\infty$\"]\n",
    "\n",
    "plt.xticks(ticks_list, labels)\n",
    "plt.xlabel(\"#Shots\")\n",
    "plt.ylabel(\"Fidelity\")\n",
    "plt.show()"
   ]
  },
  {
   "cell_type": "code",
   "execution_count": null,
   "metadata": {},
   "outputs": [],
   "source": []
  }
 ],
 "metadata": {
  "kernelspec": {
   "display_name": "env_qiskit",
   "language": "python",
   "name": "env_qiskit"
  },
  "language_info": {
   "codemirror_mode": {
    "name": "ipython",
    "version": 3
   },
   "file_extension": ".py",
   "mimetype": "text/x-python",
   "name": "python",
   "nbconvert_exporter": "python",
   "pygments_lexer": "ipython3",
   "version": "3.10.4"
  }
 },
 "nbformat": 4,
 "nbformat_minor": 4
}
