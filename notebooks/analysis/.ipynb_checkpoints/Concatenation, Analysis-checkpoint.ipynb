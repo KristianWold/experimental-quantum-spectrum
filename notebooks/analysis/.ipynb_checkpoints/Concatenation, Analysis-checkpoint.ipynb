{
 "cells": [
  {
   "cell_type": "markdown",
   "metadata": {},
   "source": [
    "# Concatenation, Analysis"
   ]
  },
  {
   "cell_type": "code",
   "execution_count": 1,
   "metadata": {},
   "outputs": [],
   "source": [
    "import sys\n",
    "sys.path.insert(0, '../../src_tf/')\n",
    "\n",
    "import numpy as np\n",
    "import qiskit as qk\n",
    "import matplotlib.pyplot as plt\n",
    "import multiprocessing as mp\n",
    "import random\n",
    "import pickle\n",
    "\n",
    "from qiskit.quantum_info import DensityMatrix, random_unitary\n",
    "from qiskit.quantum_info import Operator\n",
    "from scipy.linalg import sqrtm\n",
    "from tqdm.notebook import tqdm\n",
    "from math import ceil\n",
    "\n",
    "from loss_functions import *\n",
    "from optimization import *\n",
    "from quantum_channel import *\n",
    "from kraus_channels import *\n",
    "from quantum_tools import *\n",
    "from experimental import *\n",
    "from spam import *\n",
    "from scipy.stats import gaussian_kde\n",
    "from quantum_circuits import *\n",
    "\n",
    "#np.set_printoptions(threshold=sys.maxsize)\n",
    "np.set_printoptions(precision=4)\n",
    "\n",
    "import os\n",
    "os.environ[\"CUDA_VISIBLE_DEVICES\"] = \"-1\""
   ]
  },
  {
   "cell_type": "code",
   "execution_count": 2,
   "metadata": {},
   "outputs": [],
   "source": [
    "def evaluate_channel(channel, inputs, targets):\n",
    "    d = channel.d\n",
    "    kl_div = KLDiv()\n",
    "    loss = kl_div(channel, inputs, targets)\n",
    "    return np.real(loss)/d"
   ]
  },
  {
   "cell_type": "markdown",
   "metadata": {},
   "source": [
    "## KL Divergence with Respect to Real Data"
   ]
  },
  {
   "cell_type": "code",
   "execution_count": 3,
   "metadata": {},
   "outputs": [],
   "source": [
    "inputs1, targets1, _, _ = loader(data_path(\"belem_concatenate_2layer0\"))\n",
    "inputs2, targets2, _, _ = loader(data_path(\"belem_concatenate_2layer1\"))\n",
    "inputs_full, targets_full, _, _ = loader(data_path(\"belem_concatenate_2layer2\"))\n",
    "\n",
    "[model1, model2, model_full]=  loader(data_path(\"belem_concatenate_2layer_fitted.model\"))\n",
    "\n",
    "channel1 = model1.channel\n",
    "channel2 = model2.channel\n",
    "channel_full = model_full.channel\n",
    "\n",
    "channel_concat = channel_to_choi_map([channel1, channel2])\n",
    "channel_concat.spam = channel_full.spam\n",
    "\n",
    "n = 3\n",
    "d = 2**n\n",
    "\n",
    "np.random.seed(42)\n",
    "random.seed(42)\n",
    "\n",
    "circuit1 = pqc_basic(n, 2)\n",
    "U1 = circuit_to_matrix(circuit1)\n",
    "\n",
    "circuit2 = pqc_basic(n, 2)\n",
    "U2 = circuit_to_matrix(circuit2)\n",
    "\n",
    "circuit_full = deepcopy(circuit1)\n",
    "circuit_full = circuit_full.compose(circuit2)\n",
    "U_full = circuit_to_matrix(circuit_full)\n",
    "\n",
    "U_channel1 = ChoiMapStatic(U1, mode=\"unitary\")\n",
    "U_channel1.spam = channel1.spam\n",
    "\n",
    "U_channel2 = ChoiMapStatic(U2, mode=\"unitary\")\n",
    "U_channel2.spam = channel2.spam\n",
    "\n",
    "U_channel_full = ChoiMapStatic(U_full, mode=\"unitary\")\n",
    "U_channel_full.spam = channel_full.spam\n",
    "\n",
    "replacement_channel = IdentityChannel(d)"
   ]
  },
  {
   "cell_type": "code",
   "execution_count": 4,
   "metadata": {},
   "outputs": [
    {
     "name": "stdout",
     "output_type": "stream",
     "text": [
      "Refrence 1 KL-Div: 0.0269\n",
      "Refrence 2 KL-Div: 0.0213\n",
      "Refrence Full KL-Div: 0.0153\n",
      "----\n",
      "U1 KL-Div: 0.0175\n",
      "U2 KL-Div: 0.0145\n",
      "U_full KL-Div: 0.0175\n",
      "----\n",
      "T1 KL-Div: 0.0012\n",
      "T2 KL-Div: 0.0012\n",
      "T2*T1 KL-Div: 0.0040\n",
      "T_full KL-Div: 0.0006\n"
     ]
    }
   ],
   "source": [
    "print(f\"Refrence 1 KL-Div: {evaluate_channel(replacement_channel, inputs1, targets1):.4f}\")\n",
    "print(f\"Refrence 2 KL-Div: {evaluate_channel(replacement_channel, inputs2, targets2):.4f}\")\n",
    "print(f\"Refrence Full KL-Div: {evaluate_channel(replacement_channel, inputs_full, targets_full):.4f}\")\n",
    "print(\"----\")\n",
    "print(f\"U1 KL-Div: {evaluate_channel(U_channel1, inputs1, targets1):.4f}\")\n",
    "print(f\"U2 KL-Div: {evaluate_channel(U_channel2, inputs2, targets2):.4f}\")\n",
    "print(f\"U_full KL-Div: {evaluate_channel(U_channel_full, inputs_full, targets_full):.4f}\")\n",
    "print(\"----\")\n",
    "print(f\"T1 KL-Div: {evaluate_channel(channel1, inputs1, targets1):.4f}\")\n",
    "print(f\"T2 KL-Div: {evaluate_channel(channel2, inputs2, targets2):.4f}\")\n",
    "print(f\"T2*T1 KL-Div: {evaluate_channel(channel_concat, inputs_full, targets_full):.4f}\")\n",
    "print(f\"T_full KL-Div: {evaluate_channel(channel_full, inputs_full, targets_full):.4f}\")"
   ]
  },
  {
   "cell_type": "code",
   "execution_count": 5,
   "metadata": {},
   "outputs": [],
   "source": [
    "inputs1, targets1, _, _ = loader(data_path(\"belem_concatenate_4layer0\"))\n",
    "inputs2, targets2, _, _ = loader(data_path(\"belem_concatenate_4layer1\"))\n",
    "inputs_full, targets_full, _, _ = loader(data_path(\"belem_concatenate_4layer2\"))\n",
    "\n",
    "[model1, model2, model_full]=  loader(data_path(\"belem_concatenate_4layer_fitted.model\"))\n",
    "\n",
    "channel1 = model1.channel\n",
    "channel2 = model2.channel\n",
    "channel_full = model_full.channel\n",
    "\n",
    "channel_concat = channel_to_choi_map([channel1, channel2])\n",
    "channel_concat.spam = channel_full.spam\n",
    "\n",
    "n = 3\n",
    "d = 2**n\n",
    "\n",
    "np.random.seed(42)\n",
    "random.seed(42)\n",
    "\n",
    "circuit1 = pqc_basic(n, 4)\n",
    "U1 = circuit_to_matrix(circuit1)\n",
    "\n",
    "circuit2 = pqc_basic(n, 4)\n",
    "U2 = circuit_to_matrix(circuit2)\n",
    "\n",
    "circuit_full = deepcopy(circuit1)\n",
    "circuit_full = circuit_full.compose(circuit2)\n",
    "U_full = circuit_to_matrix(circuit_full)\n",
    "\n",
    "U_channel1 = ChoiMapStatic(U1, mode=\"unitary\")\n",
    "U_channel1.spam = channel1.spam\n",
    "\n",
    "U_channel2 = ChoiMapStatic(U2, mode=\"unitary\")\n",
    "U_channel2.spam = channel2.spam\n",
    "\n",
    "U_channel_full = ChoiMapStatic(U_full, mode=\"unitary\")\n",
    "U_channel_full.spam = channel_full.spam\n",
    "\n",
    "replacement_channel = ReplacementChannel(d)"
   ]
  },
  {
   "cell_type": "code",
   "execution_count": 6,
   "metadata": {},
   "outputs": [
    {
     "name": "stdout",
     "output_type": "stream",
     "text": [
      "Refrence 1 KL-Div: 0.0167\n",
      "Refrence 2 KL-Div: 0.0197\n",
      "Refrence Full KL-Div: 0.0124\n",
      "----\n",
      "U1 KL-Div: 0.0195\n",
      "U2 KL-Div: 0.0149\n",
      "U_full KL-Div: 0.0213\n",
      "----\n",
      "T1 KL-Div: 0.0010\n",
      "T2 KL-Div: 0.0008\n",
      "T2*T1 KL-Div: 0.0035\n",
      "T_full KL-Div: 0.0004\n"
     ]
    }
   ],
   "source": [
    "print(f\"Refrence 1 KL-Div: {evaluate_channel(replacement_channel, inputs1, targets1):.4f}\")\n",
    "print(f\"Refrence 2 KL-Div: {evaluate_channel(replacement_channel, inputs2, targets2):.4f}\")\n",
    "print(f\"Refrence Full KL-Div: {evaluate_channel(replacement_channel, inputs_full, targets_full):.4f}\")\n",
    "print(\"----\")\n",
    "print(f\"U1 KL-Div: {evaluate_channel(U_channel1, inputs1, targets1):.4f}\")\n",
    "print(f\"U2 KL-Div: {evaluate_channel(U_channel2, inputs2, targets2):.4f}\")\n",
    "print(f\"U_full KL-Div: {evaluate_channel(U_channel_full, inputs_full, targets_full):.4f}\")\n",
    "print(\"----\")\n",
    "print(f\"T1 KL-Div: {evaluate_channel(channel1, inputs1, targets1):.4f}\")\n",
    "print(f\"T2 KL-Div: {evaluate_channel(channel2, inputs2, targets2):.4f}\")\n",
    "print(f\"T2*T1 KL-Div: {evaluate_channel(channel_concat, inputs_full, targets_full):.4f}\")\n",
    "print(f\"T_full KL-Div: {evaluate_channel(channel_full, inputs_full, targets_full):.4f}\")"
   ]
  },
  {
   "cell_type": "code",
   "execution_count": null,
   "metadata": {},
   "outputs": [],
   "source": []
  }
 ],
 "metadata": {
  "kernelspec": {
   "display_name": "env_qiskit",
   "language": "python",
   "name": "env_qiskit"
  },
  "language_info": {
   "codemirror_mode": {
    "name": "ipython",
    "version": 3
   },
   "file_extension": ".py",
   "mimetype": "text/x-python",
   "name": "python",
   "nbconvert_exporter": "python",
   "pygments_lexer": "ipython3",
   "version": "3.10.4"
  }
 },
 "nbformat": 4,
 "nbformat_minor": 4
}
