{
 "cells": [
  {
   "attachments": {},
   "cell_type": "markdown",
   "metadata": {},
   "source": [
    "# Spin-Spin Hamiltonian Gate Fitting, with Decoherence"
   ]
  },
  {
   "cell_type": "code",
   "execution_count": 1,
   "metadata": {},
   "outputs": [],
   "source": [
    "import sys\n",
    "sys.path.insert(0, '../../../src_tf/')\n",
    "\n",
    "import numpy as np\n",
    "import qiskit as qk\n",
    "import matplotlib.pyplot as plt\n",
    "import multiprocessing as mp\n",
    "import random\n",
    "import pickle\n",
    "\n",
    "from qiskit.quantum_info import DensityMatrix, random_unitary\n",
    "from qiskit.quantum_info import Operator\n",
    "from scipy.linalg import sqrtm\n",
    "from tqdm.notebook import tqdm\n",
    "\n",
    "from loss_functions import *\n",
    "from optimization import *\n",
    "from quantum_channel import *\n",
    "from kraus_channels import *\n",
    "from quantum_tools import *\n",
    "from experimental import *\n",
    "from spam import *\n",
    "from timedependent_channels import *\n",
    "from utils import *\n",
    "\n",
    "#np.set_printoptions(threshold=sys.maxsize)\n",
    "np.set_printoptions(precision=5, suppress=True)\n",
    "\n",
    "import os\n",
    "os.environ[\"CUDA_VISIBLE_DEVICES\"] = \"-1\"\n"
   ]
  },
  {
   "attachments": {},
   "cell_type": "markdown",
   "metadata": {},
   "source": [
    "# Spin-Spin Hamiltonian, Noise Fitting"
   ]
  },
  {
   "attachments": {},
   "cell_type": "markdown",
   "metadata": {},
   "source": [
    "## Target Channel"
   ]
  },
  {
   "cell_type": "code",
   "execution_count": 2,
   "metadata": {},
   "outputs": [],
   "source": [
    "tf.random.set_seed(42)\n",
    "np.random.seed(42)\n",
    "\n",
    "jump_operator = JumpOperator(4, trainable=False)\n",
    "H_target = SpinSpin(degree=2)\n",
    "\n",
    "lindblad_target = LindbladGenerator(hamiltonian = H_target, \n",
    "                                   jump_operator = jump_operator,\n",
    "                                   gamma = 0,\n",
    "                                 )\n",
    "\n",
    "channel_target = MagnusPropagator(liouvillian=lindblad_target, grid_size=200, T = 1)"
   ]
  },
  {
   "attachments": {},
   "cell_type": "markdown",
   "metadata": {},
   "source": [
    "## Decoherence Optimization"
   ]
  },
  {
   "cell_type": "code",
   "execution_count": 3,
   "metadata": {},
   "outputs": [],
   "source": [
    "tf.random.set_seed(43)\n",
    "np.random.seed(43)\n",
    "\n",
    "jump_operator = JumpOperator(4, trainable=True)\n",
    "H_model = SpinSpin(degree=4)\n",
    "\n",
    "lindblad_model = LindbladGenerator(hamiltonian = H_model, \n",
    "                                   jump_operator = jump_operator,\n",
    "                                   gamma = 1,\n",
    "                                 )\n",
    "channel_model1 = MagnusPropagator(liouvillian=lindblad_model, grid_size=100, T = 1)"
   ]
  },
  {
   "cell_type": "code",
   "execution_count": 4,
   "metadata": {},
   "outputs": [],
   "source": [
    "model1 = ModelQuantumMap(channel = channel_model1,\n",
    "                        loss_function = channel_mse_loss,\n",
    "                        optimizer = tf.optimizers.Adam(learning_rate=0.01),\n",
    "                        logger = Logger(loss_function = channel_fidelity_loss, sample_freq=1, N=0),\n",
    "                        )"
   ]
  },
  {
   "cell_type": "code",
   "execution_count": 5,
   "metadata": {},
   "outputs": [
    {
     "name": "stdout",
     "output_type": "stream",
     "text": [
      "-0.7831295172654135 None\n"
     ]
    }
   ],
   "source": [
    "model1.train(inputs=None,\n",
    "             targets=[channel_target],\n",
    "             num_iter=500,\n",
    "             N=0,\n",
    "             verbose=False,)"
   ]
  },
  {
   "attachments": {},
   "cell_type": "markdown",
   "metadata": {},
   "source": [
    "## No Decoherence Optimization"
   ]
  },
  {
   "cell_type": "code",
   "execution_count": 7,
   "metadata": {},
   "outputs": [],
   "source": [
    "tf.random.set_seed(44)\n",
    "np.random.seed(44)\n",
    "\n",
    "jump_operator = deepcopy(jump_operator)\n",
    "jump_operator.set_trainable(False)\n",
    "H_model = SpinSpin(degree=4)\n",
    "\n",
    "lindblad_model2 = LindbladGenerator(hamiltonian = H_model, \n",
    "                                    jump_operator = jump_operator,\n",
    "                                    gamma = 0,\n",
    "                                   )\n",
    "channel_model2 = MagnusPropagator(liouvillian=lindblad_model2, grid_size=100, T = 1)"
   ]
  },
  {
   "cell_type": "code",
   "execution_count": 8,
   "metadata": {},
   "outputs": [],
   "source": [
    "model2 = ModelQuantumMap(channel = channel_model2,\n",
    "                        loss_function = channel_mse_loss,\n",
    "                        optimizer = tf.optimizers.Adam(learning_rate=0.01),\n",
    "                        logger = Logger(loss_function = channel_fidelity_loss, sample_freq=1, N=0),\n",
    "                        )"
   ]
  },
  {
   "cell_type": "code",
   "execution_count": 9,
   "metadata": {},
   "outputs": [
    {
     "name": "stdout",
     "output_type": "stream",
     "text": [
      "-1.0000000746971471 None\n"
     ]
    }
   ],
   "source": [
    "model2.train(inputs=None,\n",
    "            targets=[channel_target],\n",
    "            num_iter=500,\n",
    "            N=0,\n",
    "            verbose=False,)\n",
    "lindblad_model2.gamma = 1"
   ]
  },
  {
   "cell_type": "code",
   "execution_count": 10,
   "metadata": {},
   "outputs": [
    {
     "name": "stdout",
     "output_type": "stream",
     "text": [
      "tf.Tensor(0.783129528271472, shape=(), dtype=float64)\n",
      "tf.Tensor(0.7839743159815153, shape=(), dtype=float64)\n"
     ]
    }
   ],
   "source": [
    "print(channel_fidelity(channel_target, channel_model1))\n",
    "print(channel_fidelity(channel_target, channel_model2))"
   ]
  },
  {
   "attachments": {},
   "cell_type": "markdown",
   "metadata": {},
   "source": [
    "## Noise Fitting with Jump Operators with Non-Zero Trace"
   ]
  },
  {
   "cell_type": "code",
   "execution_count": 11,
   "metadata": {},
   "outputs": [],
   "source": [
    "tf.random.set_seed(43)\n",
    "np.random.seed(43)\n",
    "\n",
    "jump_operator = JumpOperator(4, trainable=True, trace_less = False)\n",
    "H_model = SpinSpin(degree=4)\n",
    "\n",
    "lindblad_model = LindbladGenerator(hamiltonian = H_model, \n",
    "                                   jump_operator = jump_operator,\n",
    "                                   gamma = 1,\n",
    "                                 )\n",
    "channel_model3 = MagnusPropagator(liouvillian=lindblad_model, grid_size=100, T = 1)"
   ]
  },
  {
   "cell_type": "code",
   "execution_count": 12,
   "metadata": {},
   "outputs": [],
   "source": [
    "model3 = ModelQuantumMap(channel = channel_model3,\n",
    "                        loss_function = channel_mse_loss,\n",
    "                        optimizer = tf.optimizers.Adam(learning_rate=0.01),\n",
    "                        logger = Logger(loss_function = channel_fidelity_loss, sample_freq=1, N=0),\n",
    "                        )"
   ]
  },
  {
   "cell_type": "code",
   "execution_count": 13,
   "metadata": {},
   "outputs": [
    {
     "name": "stdout",
     "output_type": "stream",
     "text": [
      "-0.9894551142049954 None\n"
     ]
    }
   ],
   "source": [
    "model3.train(inputs=None,\n",
    "            targets=[channel_target],\n",
    "            num_iter=500,\n",
    "            N=0,\n",
    "            verbose=False,)"
   ]
  },
  {
   "cell_type": "code",
   "execution_count": 14,
   "metadata": {},
   "outputs": [
    {
     "name": "stdout",
     "output_type": "stream",
     "text": [
      "tf.Tensor(0.9894551285749733, shape=(), dtype=float64)\n"
     ]
    }
   ],
   "source": [
    "print(channel_fidelity(channel_target, channel_model3))"
   ]
  },
  {
   "cell_type": "code",
   "execution_count": 15,
   "metadata": {},
   "outputs": [
    {
     "name": "stdout",
     "output_type": "stream",
     "text": [
      "tf.Tensor((-0.003940933016020049-1.957060014560596j), shape=(), dtype=complex128)\n",
      "tf.Tensor((-1.3877787807814457e-17-6.938893903907228e-18j), shape=(), dtype=complex128)\n"
     ]
    }
   ],
   "source": [
    "print(tf.linalg.trace(channel_model3.liouvillian.JumpOperator([0])[0]))\n",
    "print(tf.linalg.trace(channel_model2.liouvillian.JumpOperator([0])[0]))"
   ]
  },
  {
   "cell_type": "code",
   "execution_count": 16,
   "metadata": {},
   "outputs": [
    {
     "name": "stdout",
     "output_type": "stream",
     "text": [
      "tf.Tensor(\n",
      "[[ 0.0313 -0.33915j  0.00892-0.00904j  0.04614+0.00774j -0.01553+0.00297j]\n",
      " [ 0.00171-0.00217j -0.04658-0.55112j -0.00767+0.06738j -0.00802+0.00313j]\n",
      " [-0.00025+0.0037j  -0.0045 -0.00667j  0.00342-0.54623j  0.00684-0.00055j]\n",
      " [-0.00019+0.0007j  -0.02997-0.00005j -0.00376+0.0187j   0.00792-0.52057j]], shape=(4, 4), dtype=complex128)\n",
      "tf.Tensor(\n",
      "[[ 0.30388+0.2691j  -0.01065+0.01807j  0.26736+0.13488j -0.34904+0.14117j]\n",
      " [ 0.07883-0.04059j -0.25648-0.27485j -0.10572+0.17484j -0.05067-0.10565j]\n",
      " [ 0.16819+0.2884j   0.00838+0.09133j -0.104  -0.01651j  0.26999+0.17855j]\n",
      " [ 0.00863+0.1343j  -0.2544 -0.06622j -0.14931+0.22308j  0.0566 +0.02226j]], shape=(4, 4), dtype=complex128)\n"
     ]
    }
   ],
   "source": [
    "print(channel_model3.liouvillian.JumpOperator([0])[0])\n",
    "print(channel_model2.liouvillian.JumpOperator([0])[0])"
   ]
  }
 ],
 "metadata": {
  "kernelspec": {
   "display_name": "env_qiskit",
   "language": "python",
   "name": "env_qiskit"
  },
  "language_info": {
   "codemirror_mode": {
    "name": "ipython",
    "version": 3
   },
   "file_extension": ".py",
   "mimetype": "text/x-python",
   "name": "python",
   "nbconvert_exporter": "python",
   "pygments_lexer": "ipython3",
   "version": "3.10.4"
  }
 },
 "nbformat": 4,
 "nbformat_minor": 4
}
