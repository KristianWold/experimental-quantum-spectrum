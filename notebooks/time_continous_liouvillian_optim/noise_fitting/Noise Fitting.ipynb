{
 "cells": [
  {
   "attachments": {},
   "cell_type": "markdown",
   "metadata": {},
   "source": [
    "# Spin-Spin Hamiltonian Gate Fitting, with Decoherence"
   ]
  },
  {
   "cell_type": "code",
   "execution_count": 3,
   "metadata": {},
   "outputs": [],
   "source": [
    "import sys\n",
    "sys.path.insert(0, '../../../src_tf/')\n",
    "\n",
    "import numpy as np\n",
    "import qiskit as qk\n",
    "import matplotlib.pyplot as plt\n",
    "import multiprocessing as mp\n",
    "import random\n",
    "import pickle\n",
    "\n",
    "from qiskit.quantum_info import DensityMatrix, random_unitary\n",
    "from qiskit.quantum_info import Operator\n",
    "from scipy.linalg import sqrtm\n",
    "from tqdm.notebook import tqdm\n",
    "\n",
    "from loss_functions import *\n",
    "from optimization import *\n",
    "from quantum_channel import *\n",
    "from kraus_channels import *\n",
    "from quantum_tools import *\n",
    "from experimental import *\n",
    "from spam import *\n",
    "from timedependent_channels import *\n",
    "from utils import *\n",
    "\n",
    "#np.set_printoptions(threshold=sys.maxsize)\n",
    "np.set_printoptions(precision=5, suppress=True)\n",
    "\n",
    "import os\n",
    "os.environ[\"CUDA_VISIBLE_DEVICES\"] = \"-1\"\n"
   ]
  },
  {
   "attachments": {},
   "cell_type": "markdown",
   "metadata": {},
   "source": [
    "# Spin-Spin Hamiltonian, Noise Fitting"
   ]
  },
  {
   "attachments": {},
   "cell_type": "markdown",
   "metadata": {},
   "source": [
    "## Target Channel"
   ]
  },
  {
   "cell_type": "code",
   "execution_count": 4,
   "metadata": {},
   "outputs": [],
   "source": [
    "tf.random.set_seed(42)\n",
    "np.random.seed(42)\n",
    "\n",
    "jump_operator = JumpOperator(4, trainable=False)\n",
    "H_target = SpinSpin(degree=2)\n",
    "\n",
    "lindblad_target = LindbladGenerator(hamiltonian = H_target, \n",
    "                                   jump_operator = jump_operator,\n",
    "                                   gamma = 0,\n",
    "                                 )\n",
    "\n",
    "channel_target = MagnusPropagator(liouvillian=lindblad_target, grid_size=200, T = 1)"
   ]
  },
  {
   "attachments": {},
   "cell_type": "markdown",
   "metadata": {},
   "source": [
    "## No Decoherence Optimization"
   ]
  },
  {
   "cell_type": "code",
   "execution_count": 5,
   "metadata": {},
   "outputs": [],
   "source": [
    "tf.random.set_seed(43)\n",
    "np.random.seed(43)\n",
    "\n",
    "jump_operator = JumpOperator(4, trainable=False)\n",
    "H_model = SpinSpin(degree=4)\n",
    "\n",
    "lindblad_model = LindbladGenerator(hamiltonian = H_model, \n",
    "                                   jump_operator = jump_operator,\n",
    "                                   gamma = 0,\n",
    "                                 )\n",
    "channel_model1 = MagnusPropagator(liouvillian=lindblad_model, grid_size=100, T = 1)"
   ]
  },
  {
   "cell_type": "code",
   "execution_count": 6,
   "metadata": {},
   "outputs": [],
   "source": [
    "model1 = ModelQuantumMap(channel = channel_model1,\n",
    "                        loss_function = channel_mse_loss,\n",
    "                        optimizer = tf.optimizers.Adam(learning_rate=0.01),\n",
    "                        logger = Logger(loss_function = channel_fidelity_loss, sample_freq=1, N=0),\n",
    "                        )"
   ]
  },
  {
   "cell_type": "code",
   "execution_count": 7,
   "metadata": {},
   "outputs": [
    {
     "data": {
      "application/vnd.jupyter.widget-view+json": {
       "model_id": "4f77c905ea014ea1a9f5beeed66bbbea",
       "version_major": 2,
       "version_minor": 0
      },
      "text/plain": [
       "  0%|          | 0/500 [00:00<?, ?it/s]"
      ]
     },
     "metadata": {},
     "output_type": "display_data"
    }
   ],
   "source": [
    "model1.train(inputs=None,\n",
    "            targets=[channel_target],\n",
    "            num_iter=500,\n",
    "            N=0,\n",
    "            verbose=False,)"
   ]
  },
  {
   "attachments": {},
   "cell_type": "markdown",
   "metadata": {},
   "source": [
    "## Decoherence Optimization"
   ]
  },
  {
   "cell_type": "code",
   "execution_count": null,
   "metadata": {},
   "outputs": [],
   "source": [
    "tf.random.set_seed(43)\n",
    "np.random.seed(43)\n",
    "\n",
    "jump_operator = JumpOperator(4, trainable=True)\n",
    "H_model = SpinSpin(degree=4)\n",
    "\n",
    "lindblad_model = LindbladGenerator(hamiltonian = H_model, \n",
    "                                   jump_operator = jump_operator,\n",
    "                                   gamma = 1,\n",
    "                                 )\n",
    "channel_model2 = MagnusPropagator(liouvillian=lindblad_model, grid_size=100, T = 1)"
   ]
  },
  {
   "cell_type": "code",
   "execution_count": null,
   "metadata": {},
   "outputs": [],
   "source": [
    "model2 = ModelQuantumMap(channel = channel_model2,\n",
    "                        loss_function = channel_mse_loss,\n",
    "                        optimizer = tf.optimizers.Adam(learning_rate=0.01),\n",
    "                        logger = Logger(loss_function = channel_fidelity_loss, sample_freq=1, N=0),\n",
    "                        )"
   ]
  },
  {
   "cell_type": "code",
   "execution_count": null,
   "metadata": {},
   "outputs": [
    {
     "data": {
      "application/vnd.jupyter.widget-view+json": {
       "model_id": "32b28a0f629549b78b2f9e0663a40a90",
       "version_major": 2,
       "version_minor": 0
      },
      "text/plain": [
       "  0%|          | 0/500 [00:00<?, ?it/s]"
      ]
     },
     "metadata": {},
     "output_type": "display_data"
    },
    {
     "name": "stdout",
     "output_type": "stream",
     "text": [
      "tf.Tensor(3.764276867437855e-07, shape=(), dtype=float64)\n"
     ]
    }
   ],
   "source": [
    "model2.train(inputs=None,\n",
    "            targets=[channel_target],\n",
    "            num_iter=500,\n",
    "            N=0,\n",
    "            verbose=False,)"
   ]
  },
  {
   "cell_type": "code",
   "execution_count": 34,
   "metadata": {},
   "outputs": [
    {
     "name": "stdout",
     "output_type": "stream",
     "text": [
      "tf.Tensor(0.9999999415671392, shape=(), dtype=float64)\n"
     ]
    }
   ],
   "source": [
    "print(channel_fidelity(channel_target, channel_model))"
   ]
  }
 ],
 "metadata": {
  "kernelspec": {
   "display_name": "env_qiskit",
   "language": "python",
   "name": "python3"
  },
  "language_info": {
   "codemirror_mode": {
    "name": "ipython",
    "version": 3
   },
   "file_extension": ".py",
   "mimetype": "text/x-python",
   "name": "python",
   "nbconvert_exporter": "python",
   "pygments_lexer": "ipython3",
   "version": "3.10.4"
  }
 },
 "nbformat": 4,
 "nbformat_minor": 4
}
