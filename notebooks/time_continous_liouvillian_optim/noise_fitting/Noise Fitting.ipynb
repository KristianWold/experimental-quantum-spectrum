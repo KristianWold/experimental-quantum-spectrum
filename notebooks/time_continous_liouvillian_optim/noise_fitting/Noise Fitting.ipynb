{
 "cells": [
  {
   "attachments": {},
   "cell_type": "markdown",
   "metadata": {},
   "source": [
    "# Spin-Spin Hamiltonian Gate Fitting, with Decoherence"
   ]
  },
  {
   "cell_type": "code",
   "execution_count": 1,
   "metadata": {},
   "outputs": [],
   "source": [
    "import sys\n",
    "sys.path.insert(0, '../../../src_tf/')\n",
    "\n",
    "import numpy as np\n",
    "import qiskit as qk\n",
    "import matplotlib.pyplot as plt\n",
    "import multiprocessing as mp\n",
    "import random\n",
    "import pickle\n",
    "\n",
    "from qiskit.quantum_info import DensityMatrix, random_unitary\n",
    "from qiskit.quantum_info import Operator\n",
    "from scipy.linalg import sqrtm\n",
    "from tqdm.notebook import tqdm\n",
    "\n",
    "from loss_functions import *\n",
    "from optimization import *\n",
    "from quantum_channel import *\n",
    "from kraus_channels import *\n",
    "from quantum_tools import *\n",
    "from experimental import *\n",
    "from spam import *\n",
    "from timedependent_channels import *\n",
    "from utils import *\n",
    "\n",
    "#np.set_printoptions(threshold=sys.maxsize)\n",
    "np.set_printoptions(precision=5, suppress=True)\n",
    "\n",
    "import os\n",
    "os.environ[\"CUDA_VISIBLE_DEVICES\"] = \"-1\"\n"
   ]
  },
  {
   "attachments": {},
   "cell_type": "markdown",
   "metadata": {},
   "source": [
    "# Spin-Spin Hamiltonian, Noise Fitting"
   ]
  },
  {
   "attachments": {},
   "cell_type": "markdown",
   "metadata": {},
   "source": [
    "## Target Channel"
   ]
  },
  {
   "cell_type": "code",
   "execution_count": 2,
   "metadata": {},
   "outputs": [],
   "source": [
    "tf.random.set_seed(42)\n",
    "np.random.seed(42)\n",
    "\n",
    "jump_operator = JumpOperator(4, trainable=False)\n",
    "H_target = SpinSpin(degree=2)\n",
    "\n",
    "lindblad_target = LindbladGenerator(hamiltonian = H_target, \n",
    "                                   jump_operator = jump_operator,\n",
    "                                   gamma = 0,\n",
    "                                 )\n",
    "\n",
    "channel_target = MagnusPropagator(liouvillian=lindblad_target, grid_size=200, T = 1)"
   ]
  },
  {
   "attachments": {},
   "cell_type": "markdown",
   "metadata": {},
   "source": [
    "## No Decoherence Optimization"
   ]
  },
  {
   "cell_type": "code",
   "execution_count": 3,
   "metadata": {},
   "outputs": [],
   "source": [
    "tf.random.set_seed(43)\n",
    "np.random.seed(43)\n",
    "\n",
    "jump_operator = JumpOperator(4, trainable=False)\n",
    "H_model = SpinSpin(degree=4)\n",
    "\n",
    "lindblad_model = LindbladGenerator(hamiltonian = H_model, \n",
    "                                   jump_operator = jump_operator,\n",
    "                                   gamma = 0,\n",
    "                                 )\n",
    "channel_model1 = MagnusPropagator(liouvillian=lindblad_model, grid_size=100, T = 1)"
   ]
  },
  {
   "cell_type": "code",
   "execution_count": 4,
   "metadata": {},
   "outputs": [],
   "source": [
    "model1 = ModelQuantumMap(channel = channel_model1,\n",
    "                        loss_function = channel_mse_loss,\n",
    "                        optimizer = tf.optimizers.Adam(learning_rate=0.01),\n",
    "                        logger = Logger(loss_function = channel_fidelity_loss, sample_freq=1, N=0),\n",
    "                        )"
   ]
  },
  {
   "cell_type": "code",
   "execution_count": 5,
   "metadata": {},
   "outputs": [
    {
     "name": "stdout",
     "output_type": "stream",
     "text": [
      "-1.000000073614705 None\n"
     ]
    }
   ],
   "source": [
    "model1.train(inputs=None,\n",
    "             targets=[channel_target],\n",
    "             num_iter=500,\n",
    "             N=0,\n",
    "             verbose=False,)"
   ]
  },
  {
   "attachments": {},
   "cell_type": "markdown",
   "metadata": {},
   "source": [
    "## Decoherence Optimization"
   ]
  },
  {
   "cell_type": "code",
   "execution_count": 6,
   "metadata": {},
   "outputs": [],
   "source": [
    "tf.random.set_seed(43)\n",
    "np.random.seed(43)\n",
    "\n",
    "jump_operator = JumpOperator(4, trainable=True)\n",
    "H_model = SpinSpin(degree=4)\n",
    "\n",
    "lindblad_model = LindbladGenerator(hamiltonian = H_model, \n",
    "                                   jump_operator = jump_operator,\n",
    "                                   gamma = 1,\n",
    "                                 )\n",
    "channel_model2 = MagnusPropagator(liouvillian=lindblad_model, grid_size=100, T = 1)"
   ]
  },
  {
   "cell_type": "code",
   "execution_count": 7,
   "metadata": {},
   "outputs": [],
   "source": [
    "model2 = ModelQuantumMap(channel = channel_model2,\n",
    "                        loss_function = channel_mse_loss,\n",
    "                        optimizer = tf.optimizers.Adam(learning_rate=0.01),\n",
    "                        logger = Logger(loss_function = channel_fidelity_loss, sample_freq=1, N=0),\n",
    "                        )"
   ]
  },
  {
   "cell_type": "code",
   "execution_count": 8,
   "metadata": {},
   "outputs": [
    {
     "data": {
      "application/vnd.jupyter.widget-view+json": {
       "model_id": "8c416905cf3a4522bf7828ea677c52b1",
       "version_major": 2,
       "version_minor": 0
      },
      "text/plain": [
       "  0%|          | 0/500 [00:00<?, ?it/s]"
      ]
     },
     "metadata": {},
     "output_type": "display_data"
    },
    {
     "name": "stdout",
     "output_type": "stream",
     "text": [
      "tf.Tensor(0.9217717775651921, shape=(), dtype=float64)\n"
     ]
    }
   ],
   "source": [
    "model2.train(inputs=None,\n",
    "            targets=[channel_target],\n",
    "            num_iter=500,\n",
    "            N=0,\n",
    "            verbose=False,)"
   ]
  },
  {
   "cell_type": "code",
   "execution_count": 21,
   "metadata": {},
   "outputs": [
    {
     "name": "stdout",
     "output_type": "stream",
     "text": [
      "tf.Tensor(0.8309002085044421, shape=(), dtype=float64)\n",
      "tf.Tensor(0.8466703099769655, shape=(), dtype=float64)\n"
     ]
    }
   ],
   "source": [
    "channel_model1.liouvillian.gamma=1\n",
    "print(channel_fidelity(channel_target, channel_model1))\n",
    "print(channel_fidelity(channel_target, channel_model2))"
   ]
  },
  {
   "attachments": {},
   "cell_type": "markdown",
   "metadata": {},
   "source": [
    "## Noise Fitting with Jump Operators with Non-Zero Trace"
   ]
  },
  {
   "cell_type": "code",
   "execution_count": 13,
   "metadata": {},
   "outputs": [],
   "source": [
    "tf.random.set_seed(43)\n",
    "np.random.seed(43)\n",
    "\n",
    "jump_operator = JumpOperator(4, trainable=True, trace_less = False)\n",
    "H_model = SpinSpin(degree=4)\n",
    "\n",
    "lindblad_model = LindbladGenerator(hamiltonian = H_model, \n",
    "                                   jump_operator = jump_operator,\n",
    "                                   gamma = 1,\n",
    "                                 )\n",
    "channel_model3 = MagnusPropagator(liouvillian=lindblad_model, grid_size=100, T = 1)"
   ]
  },
  {
   "cell_type": "code",
   "execution_count": 14,
   "metadata": {},
   "outputs": [],
   "source": [
    "model3 = ModelQuantumMap(channel = channel_model3,\n",
    "                        loss_function = channel_mse_loss,\n",
    "                        optimizer = tf.optimizers.Adam(learning_rate=0.01),\n",
    "                        logger = Logger(loss_function = channel_fidelity_loss, sample_freq=1, N=0),\n",
    "                        )"
   ]
  },
  {
   "cell_type": "code",
   "execution_count": 15,
   "metadata": {},
   "outputs": [
    {
     "data": {
      "application/vnd.jupyter.widget-view+json": {
       "model_id": "43700e488291476b94fa94044bb3530f",
       "version_major": 2,
       "version_minor": 0
      },
      "text/plain": [
       "  0%|          | 0/500 [00:00<?, ?it/s]"
      ]
     },
     "metadata": {},
     "output_type": "display_data"
    },
    {
     "name": "stdout",
     "output_type": "stream",
     "text": [
      "tf.Tensor(0.11924420167019795, shape=(), dtype=float64)\n"
     ]
    }
   ],
   "source": [
    "model3.train(inputs=None,\n",
    "            targets=[channel_target],\n",
    "            num_iter=500,\n",
    "            N=0,\n",
    "            verbose=False,)"
   ]
  },
  {
   "cell_type": "code",
   "execution_count": 18,
   "metadata": {},
   "outputs": [
    {
     "name": "stdout",
     "output_type": "stream",
     "text": [
      "tf.Tensor(0.9137084761060119, shape=(), dtype=float64)\n"
     ]
    }
   ],
   "source": [
    "print(channel_fidelity(channel_target, channel_model3))"
   ]
  },
  {
   "cell_type": "code",
   "execution_count": 27,
   "metadata": {},
   "outputs": [
    {
     "name": "stdout",
     "output_type": "stream",
     "text": [
      "0.4173989595701445\n",
      "tf.Tensor((-1.3877787807814457e-17-6.938893903907228e-18j), shape=(), dtype=complex128)\n"
     ]
    }
   ],
   "source": [
    "print(tf.linalg.trace(channel_model3.liouvillian.JumpOperator([0])[0]))\n",
    "print(tf.linalg.trace(channel_model2.liouvillian.JumpOperator([0])[0]))"
   ]
  }
 ],
 "metadata": {
  "kernelspec": {
   "display_name": "env_qiskit",
   "language": "python",
   "name": "env_qiskit"
  },
  "language_info": {
   "codemirror_mode": {
    "name": "ipython",
    "version": 3
   },
   "file_extension": ".py",
   "mimetype": "text/x-python",
   "name": "python",
   "nbconvert_exporter": "python",
   "pygments_lexer": "ipython3",
   "version": "3.10.4"
  }
 },
 "nbformat": 4,
 "nbformat_minor": 4
}
