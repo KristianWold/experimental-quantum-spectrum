{
 "cells": [
  {
   "attachments": {},
   "cell_type": "markdown",
   "metadata": {},
   "source": [
    "# Spin-Spin Hamiltonian Gate Fitting"
   ]
  },
  {
   "cell_type": "code",
   "execution_count": 2,
   "metadata": {},
   "outputs": [],
   "source": [
    "import sys\n",
    "sys.path.insert(0, '../../../src_tf/')\n",
    "\n",
    "import numpy as np\n",
    "import qiskit as qk\n",
    "import matplotlib.pyplot as plt\n",
    "import multiprocessing as mp\n",
    "import random\n",
    "import pickle\n",
    "\n",
    "from qiskit.quantum_info import DensityMatrix, random_unitary\n",
    "from qiskit.quantum_info import Operator\n",
    "from scipy.linalg import sqrtm\n",
    "from tqdm.notebook import tqdm\n",
    "\n",
    "from loss_functions import *\n",
    "from optimization import *\n",
    "from quantum_channel import *\n",
    "from kraus_channels import *\n",
    "from quantum_tools import *\n",
    "from experimental import *\n",
    "from spam import *\n",
    "from timedependent_channels import *\n",
    "from utils import *\n",
    "\n",
    "#np.set_printoptions(threshold=sys.maxsize)\n",
    "np.set_printoptions(precision=5, suppress=True)\n",
    "\n",
    "import os\n",
    "os.environ[\"CUDA_VISIBLE_DEVICES\"] = \"-1\"\n"
   ]
  },
  {
   "attachments": {},
   "cell_type": "markdown",
   "metadata": {},
   "source": [
    "# Spin-Spin Hamiltonian, without Decoherence"
   ]
  },
  {
   "attachments": {},
   "cell_type": "markdown",
   "metadata": {},
   "source": [
    "## Fit CNOT\n",
    "\n",
    "### Degree Zero"
   ]
  },
  {
   "cell_type": "code",
   "execution_count": 3,
   "metadata": {},
   "outputs": [
    {
     "ename": "TypeError",
     "evalue": "fit_spinspin() got an unexpected keyword argument 'U'",
     "output_type": "error",
     "traceback": [
      "\u001b[1;31m---------------------------------------------------------------------------\u001b[0m",
      "\u001b[1;31mTypeError\u001b[0m                                 Traceback (most recent call last)",
      "\u001b[1;32mc:\\Users\\krist\\Documents\\ModelNISQ\\notebooks\\time_continous_liouvillian_optim\\gate_fitting\\Spin-Spin Fitting, Ideal.ipynb Cell 5\u001b[0m in \u001b[0;36m<cell line: 9>\u001b[1;34m()\u001b[0m\n\u001b[0;32m      <a href='vscode-notebook-cell:/c%3A/Users/krist/Documents/ModelNISQ/notebooks/time_continous_liouvillian_optim/gate_fitting/Spin-Spin%20Fitting%2C%20Ideal.ipynb#W4sZmlsZQ%3D%3D?line=5'>6</a>\u001b[0m tf\u001b[39m.\u001b[39mrandom\u001b[39m.\u001b[39mset_seed(\u001b[39m42\u001b[39m)\n\u001b[0;32m      <a href='vscode-notebook-cell:/c%3A/Users/krist/Documents/ModelNISQ/notebooks/time_continous_liouvillian_optim/gate_fitting/Spin-Spin%20Fitting%2C%20Ideal.ipynb#W4sZmlsZQ%3D%3D?line=6'>7</a>\u001b[0m np\u001b[39m.\u001b[39mrandom\u001b[39m.\u001b[39mseed(\u001b[39m42\u001b[39m)\n\u001b[1;32m----> <a href='vscode-notebook-cell:/c%3A/Users/krist/Documents/ModelNISQ/notebooks/time_continous_liouvillian_optim/gate_fitting/Spin-Spin%20Fitting%2C%20Ideal.ipynb#W4sZmlsZQ%3D%3D?line=8'>9</a>\u001b[0m fit_spinspin(U\u001b[39m=\u001b[39;49mU, degree\u001b[39m=\u001b[39;49m\u001b[39m0\u001b[39;49m, gamma\u001b[39m=\u001b[39;49m\u001b[39m0\u001b[39;49m, filename\u001b[39m=\u001b[39;49m\u001b[39m\"\u001b[39;49m\u001b[39mspin-spin_cnot_degreeZero\u001b[39;49m\u001b[39m\"\u001b[39;49m, grid_size\u001b[39m=\u001b[39;49m\u001b[39m100\u001b[39;49m, num_iter\u001b[39m=\u001b[39;49m\u001b[39m500\u001b[39;49m)\n",
      "\u001b[1;31mTypeError\u001b[0m: fit_spinspin() got an unexpected keyword argument 'U'"
     ]
    }
   ],
   "source": [
    "U = tf.convert_to_tensor([[1, 0, 0, 0],\n",
    "                            [0, 1, 0, 0],\n",
    "                            [0, 0, 0, 1],\n",
    "                            [0, 0, 1, 0]], dtype=tf.complex128)\n",
    "\n",
    "tf.random.set_seed(42)\n",
    "np.random.seed(42)\n",
    "\n",
    "fit_spinspin(U=U, degree=0, gamma=0, filename=\"spin-spin_cnot_degreeZero\", grid_size=100, num_iter=500)"
   ]
  },
  {
   "attachments": {},
   "cell_type": "markdown",
   "metadata": {},
   "source": [
    "### Degree One"
   ]
  },
  {
   "cell_type": "code",
   "execution_count": 6,
   "metadata": {},
   "outputs": [
    {
     "data": {
      "application/vnd.jupyter.widget-view+json": {
       "model_id": "72834992c6a44a13ab2b9877f0e4eef5",
       "version_major": 2,
       "version_minor": 0
      },
      "text/plain": [
       "  0%|          | 0/500 [00:00<?, ?it/s]"
      ]
     },
     "metadata": {},
     "output_type": "display_data"
    },
    {
     "name": "stdout",
     "output_type": "stream",
     "text": [
      "tf.Tensor(5.124772275189413, shape=(), dtype=float64)\n"
     ]
    }
   ],
   "source": [
    "U = tf.convert_to_tensor([[1, 0, 0, 0],\n",
    "                            [0, 1, 0, 0],\n",
    "                            [0, 0, 0, 1],\n",
    "                            [0, 0, 1, 0]], dtype=tf.complex128)\n",
    "\n",
    "tf.random.set_seed(42)\n",
    "np.random.seed(42)\n",
    "\n",
    "fit_spinspin(U=U, degree=1, gamma=0, filename=\"spin-spin_cnot_degreeOne\", grid_size=200, num_iter=500)"
   ]
  },
  {
   "attachments": {},
   "cell_type": "markdown",
   "metadata": {},
   "source": [
    "### Degree Two"
   ]
  },
  {
   "cell_type": "code",
   "execution_count": 7,
   "metadata": {},
   "outputs": [
    {
     "data": {
      "application/vnd.jupyter.widget-view+json": {
       "model_id": "67b957e3b323416a89cf8b73a900f648",
       "version_major": 2,
       "version_minor": 0
      },
      "text/plain": [
       "  0%|          | 0/500 [00:00<?, ?it/s]"
      ]
     },
     "metadata": {},
     "output_type": "display_data"
    },
    {
     "name": "stdout",
     "output_type": "stream",
     "text": [
      "tf.Tensor(2.413389154295112e-07, shape=(), dtype=float64)\n"
     ]
    }
   ],
   "source": [
    "U = tf.convert_to_tensor([[1, 0, 0, 0],\n",
    "                            [0, 1, 0, 0],\n",
    "                            [0, 0, 0, 1],\n",
    "                            [0, 0, 1, 0]], dtype=tf.complex128)\n",
    "\n",
    "tf.random.set_seed(42)\n",
    "np.random.seed(42)\n",
    "\n",
    "fit_spinspin(U=U, degree=2, gamma=0, filename=\"spin-spin_cnot_degreeTwo\", grid_size=200, num_iter=500)"
   ]
  },
  {
   "attachments": {},
   "cell_type": "markdown",
   "metadata": {},
   "source": [
    "## Haar Random Fitting"
   ]
  },
  {
   "cell_type": "code",
   "execution_count": 4,
   "metadata": {},
   "outputs": [
    {
     "data": {
      "application/vnd.jupyter.widget-view+json": {
       "model_id": "fd8ada07d90c40b18bee932f0a3e5266",
       "version_major": 2,
       "version_minor": 0
      },
      "text/plain": [
       "  0%|          | 0/500 [00:00<?, ?it/s]"
      ]
     },
     "metadata": {},
     "output_type": "display_data"
    },
    {
     "name": "stdout",
     "output_type": "stream",
     "text": [
      "tf.Tensor(29.732694984882976, shape=(), dtype=float64)\n"
     ]
    }
   ],
   "source": [
    "tf.random.set_seed(42)\n",
    "np.random.seed(42)\n",
    "\n",
    "U = tf.convert_to_tensor(random_unitary(4, seed = 42).data, dtype=tf.complex128)\n",
    "fit_spinspin(U=U, degree=0, gamma=0, filename=\"data/\" + \"spin-spin_haarRandom_degreeZero\", grid_size=200, num_iter=500)"
   ]
  },
  {
   "cell_type": "code",
   "execution_count": 5,
   "metadata": {},
   "outputs": [
    {
     "data": {
      "application/vnd.jupyter.widget-view+json": {
       "model_id": "285202585cd6423587e394633ba6dc7f",
       "version_major": 2,
       "version_minor": 0
      },
      "text/plain": [
       "  0%|          | 0/500 [00:00<?, ?it/s]"
      ]
     },
     "metadata": {},
     "output_type": "display_data"
    },
    {
     "name": "stdout",
     "output_type": "stream",
     "text": [
      "tf.Tensor(1.4373093634872989, shape=(), dtype=float64)\n"
     ]
    }
   ],
   "source": [
    "tf.random.set_seed(42)\n",
    "np.random.seed(42)\n",
    "\n",
    "U = tf.convert_to_tensor(random_unitary(4, seed = 42).data, dtype=tf.complex128)\n",
    "fit_spinspin(U=U, degree=1, gamma=0, filename=\"data/\" + \"spin-spin_haarRandom_degreeOne\", grid_size=200, num_iter=500)"
   ]
  },
  {
   "cell_type": "code",
   "execution_count": 6,
   "metadata": {},
   "outputs": [
    {
     "data": {
      "application/vnd.jupyter.widget-view+json": {
       "model_id": "b2456a50d1eb4870a6a8bc8e9006e7f9",
       "version_major": 2,
       "version_minor": 0
      },
      "text/plain": [
       "  0%|          | 0/500 [00:00<?, ?it/s]"
      ]
     },
     "metadata": {},
     "output_type": "display_data"
    },
    {
     "name": "stdout",
     "output_type": "stream",
     "text": [
      "tf.Tensor(2.70181582679106e-08, shape=(), dtype=float64)\n"
     ]
    }
   ],
   "source": [
    "tf.random.set_seed(42)\n",
    "np.random.seed(42)\n",
    "\n",
    "U = tf.convert_to_tensor(random_unitary(4, seed = 42).data, dtype=tf.complex128)\n",
    "fit_spinspin(U=U, degree=2, gamma=0, filename=\"data\" + \"spin-spin_haarRandom_degreeTwo\", grid_size=200, num_iter=500)"
   ]
  },
  {
   "attachments": {},
   "cell_type": "markdown",
   "metadata": {},
   "source": [
    "## Teacher-Student Fitting"
   ]
  },
  {
   "cell_type": "code",
   "execution_count": 4,
   "metadata": {},
   "outputs": [
    {
     "data": {
      "application/vnd.jupyter.widget-view+json": {
       "model_id": "43d7720154024bdda03eaba118dd0d62",
       "version_major": 2,
       "version_minor": 0
      },
      "text/plain": [
       "  0%|          | 0/500 [00:00<?, ?it/s]"
      ]
     },
     "metadata": {},
     "output_type": "display_data"
    },
    {
     "name": "stdout",
     "output_type": "stream",
     "text": [
      "tf.Tensor(1.303690176734926e-13, shape=(), dtype=float64)\n"
     ]
    }
   ],
   "source": [
    "tf.random.set_seed(42)\n",
    "np.random.seed(42)\n",
    "\n",
    "jump_operator = JumpOperator(4, trainable=False)\n",
    "H_model = SpinSpin(degree=2)\n",
    "\n",
    "lindblad_model = LindbladGenerator(hamiltonian = H_model, \n",
    "                                   jump_operator = jump_operator,\n",
    "                                    gamma = 0,\n",
    "                                 )\n",
    "\n",
    "channel_target = MagnusPropagator(liouvillian=lindblad_model, grid_size=100, T = 1)\n",
    "\n",
    "\n",
    "tf.random.set_seed(42)\n",
    "np.random.seed(42)\n",
    "fit_spinspin(channel_target=channel_target, degree=4, gamma=0, filename=\"data/\" + \"spin-spin_teacherStudent\", grid_size=100, num_iter=500)"
   ]
  }
 ],
 "metadata": {
  "kernelspec": {
   "display_name": "env_qiskit",
   "language": "python",
   "name": "env_qiskit"
  },
  "language_info": {
   "codemirror_mode": {
    "name": "ipython",
    "version": 3
   },
   "file_extension": ".py",
   "mimetype": "text/x-python",
   "name": "python",
   "nbconvert_exporter": "python",
   "pygments_lexer": "ipython3",
   "version": "3.10.4"
  }
 },
 "nbformat": 4,
 "nbformat_minor": 4
}
