{
 "cells": [
  {
   "attachments": {},
   "cell_type": "markdown",
   "metadata": {},
   "source": [
    "# Spin-Spin Hamiltonian Gate Fitting"
   ]
  },
  {
   "cell_type": "code",
   "execution_count": 1,
   "metadata": {},
   "outputs": [],
   "source": [
    "import sys\n",
    "sys.path.insert(0, '../../../src_tf/')\n",
    "\n",
    "import numpy as np\n",
    "import qiskit as qk\n",
    "import matplotlib.pyplot as plt\n",
    "import multiprocessing as mp\n",
    "import random\n",
    "import pickle\n",
    "\n",
    "from qiskit.quantum_info import DensityMatrix, random_unitary\n",
    "from qiskit.quantum_info import Operator\n",
    "from scipy.linalg import sqrtm\n",
    "from tqdm.notebook import tqdm\n",
    "\n",
    "from loss_functions import *\n",
    "from optimization import *\n",
    "from quantum_channel import *\n",
    "from kraus_channels import *\n",
    "from quantum_tools import *\n",
    "from experimental import *\n",
    "from spam import *\n",
    "from timedependent_channels import *\n",
    "from utils import *\n",
    "\n",
    "#np.set_printoptions(threshold=sys.maxsize)\n",
    "np.set_printoptions(precision=5, suppress=True)\n",
    "\n",
    "import os\n",
    "os.environ[\"CUDA_VISIBLE_DEVICES\"] = \"-1\"\n"
   ]
  },
  {
   "attachments": {},
   "cell_type": "markdown",
   "metadata": {},
   "source": [
    "# Spin-Spin Hamiltonian, without Decoherence"
   ]
  },
  {
   "attachments": {},
   "cell_type": "markdown",
   "metadata": {},
   "source": [
    "## Fit CNOT\n",
    "\n",
    "### Degree Zero"
   ]
  },
  {
   "cell_type": "code",
   "execution_count": 3,
   "metadata": {},
   "outputs": [
    {
     "data": {
      "application/vnd.jupyter.widget-view+json": {
       "model_id": "f8e6f83f9d114fb4b424eda221399b78",
       "version_major": 2,
       "version_minor": 0
      },
      "text/plain": [
       "  0%|          | 0/500 [00:00<?, ?it/s]"
      ]
     },
     "metadata": {},
     "output_type": "display_data"
    },
    {
     "ename": "KeyboardInterrupt",
     "evalue": "",
     "output_type": "error",
     "traceback": [
      "\u001b[1;31m---------------------------------------------------------------------------\u001b[0m",
      "\u001b[1;31mKeyboardInterrupt\u001b[0m                         Traceback (most recent call last)",
      "\u001b[1;32mc:\\Users\\krisw\\Documents\\ModelNISQ\\notebooks\\time_continous_liouvillian_optim\\gate_fitting\\Spin-Spin Fitting, Ideal.ipynb Cell 6\u001b[0m in \u001b[0;36m<cell line: 9>\u001b[1;34m()\u001b[0m\n\u001b[0;32m      <a href='vscode-notebook-cell:/c%3A/Users/krisw/Documents/ModelNISQ/notebooks/time_continous_liouvillian_optim/gate_fitting/Spin-Spin%20Fitting%2C%20Ideal.ipynb#W5sZmlsZQ%3D%3D?line=5'>6</a>\u001b[0m tf\u001b[39m.\u001b[39mrandom\u001b[39m.\u001b[39mset_seed(\u001b[39m42\u001b[39m)\n\u001b[0;32m      <a href='vscode-notebook-cell:/c%3A/Users/krisw/Documents/ModelNISQ/notebooks/time_continous_liouvillian_optim/gate_fitting/Spin-Spin%20Fitting%2C%20Ideal.ipynb#W5sZmlsZQ%3D%3D?line=6'>7</a>\u001b[0m np\u001b[39m.\u001b[39mrandom\u001b[39m.\u001b[39mseed(\u001b[39m42\u001b[39m)\n\u001b[1;32m----> <a href='vscode-notebook-cell:/c%3A/Users/krisw/Documents/ModelNISQ/notebooks/time_continous_liouvillian_optim/gate_fitting/Spin-Spin%20Fitting%2C%20Ideal.ipynb#W5sZmlsZQ%3D%3D?line=8'>9</a>\u001b[0m fit_spinspin(U\u001b[39m=\u001b[39;49mU, degree\u001b[39m=\u001b[39;49m\u001b[39m0\u001b[39;49m, gamma\u001b[39m=\u001b[39;49m\u001b[39m0\u001b[39;49m, filename\u001b[39m=\u001b[39;49m\u001b[39m\"\u001b[39;49m\u001b[39mspin-spin_cnot_degreeZero\u001b[39;49m\u001b[39m\"\u001b[39;49m, grid_size\u001b[39m=\u001b[39;49m\u001b[39m200\u001b[39;49m, num_iter\u001b[39m=\u001b[39;49m\u001b[39m500\u001b[39;49m)\n",
      "\u001b[1;32mc:\\Users\\krisw\\Documents\\ModelNISQ\\notebooks\\time_continous_liouvillian_optim\\gate_fitting\\Spin-Spin Fitting, Ideal.ipynb Cell 6\u001b[0m in \u001b[0;36mfit_spinspin\u001b[1;34m(U, degree, gamma, filename, grid_size, num_iter)\u001b[0m\n\u001b[0;32m     <a href='vscode-notebook-cell:/c%3A/Users/krisw/Documents/ModelNISQ/notebooks/time_continous_liouvillian_optim/gate_fitting/Spin-Spin%20Fitting%2C%20Ideal.ipynb#W5sZmlsZQ%3D%3D?line=16'>17</a>\u001b[0m channel_model \u001b[39m=\u001b[39m MagnusPropagator(liouvillian\u001b[39m=\u001b[39mlindblad_model, grid_size\u001b[39m=\u001b[39mgrid_size, T \u001b[39m=\u001b[39m \u001b[39m1\u001b[39m)\n\u001b[0;32m     <a href='vscode-notebook-cell:/c%3A/Users/krisw/Documents/ModelNISQ/notebooks/time_continous_liouvillian_optim/gate_fitting/Spin-Spin%20Fitting%2C%20Ideal.ipynb#W5sZmlsZQ%3D%3D?line=18'>19</a>\u001b[0m model \u001b[39m=\u001b[39m ModelQuantumMap(channel \u001b[39m=\u001b[39m channel_model,\n\u001b[0;32m     <a href='vscode-notebook-cell:/c%3A/Users/krisw/Documents/ModelNISQ/notebooks/time_continous_liouvillian_optim/gate_fitting/Spin-Spin%20Fitting%2C%20Ideal.ipynb#W5sZmlsZQ%3D%3D?line=19'>20</a>\u001b[0m                         loss_function \u001b[39m=\u001b[39m channel_mse_loss,\n\u001b[0;32m     <a href='vscode-notebook-cell:/c%3A/Users/krisw/Documents/ModelNISQ/notebooks/time_continous_liouvillian_optim/gate_fitting/Spin-Spin%20Fitting%2C%20Ideal.ipynb#W5sZmlsZQ%3D%3D?line=20'>21</a>\u001b[0m                         optimizer \u001b[39m=\u001b[39m tf\u001b[39m.\u001b[39moptimizers\u001b[39m.\u001b[39mAdam(learning_rate\u001b[39m=\u001b[39m\u001b[39m0.01\u001b[39m),\n\u001b[0;32m     <a href='vscode-notebook-cell:/c%3A/Users/krisw/Documents/ModelNISQ/notebooks/time_continous_liouvillian_optim/gate_fitting/Spin-Spin%20Fitting%2C%20Ideal.ipynb#W5sZmlsZQ%3D%3D?line=21'>22</a>\u001b[0m                         logger \u001b[39m=\u001b[39m Logger(loss_function \u001b[39m=\u001b[39m channel_fidelity_loss, sample_freq\u001b[39m=\u001b[39m\u001b[39m1\u001b[39m, N\u001b[39m=\u001b[39m\u001b[39m0\u001b[39m),\n\u001b[0;32m     <a href='vscode-notebook-cell:/c%3A/Users/krisw/Documents/ModelNISQ/notebooks/time_continous_liouvillian_optim/gate_fitting/Spin-Spin%20Fitting%2C%20Ideal.ipynb#W5sZmlsZQ%3D%3D?line=22'>23</a>\u001b[0m                         )\n\u001b[1;32m---> <a href='vscode-notebook-cell:/c%3A/Users/krisw/Documents/ModelNISQ/notebooks/time_continous_liouvillian_optim/gate_fitting/Spin-Spin%20Fitting%2C%20Ideal.ipynb#W5sZmlsZQ%3D%3D?line=24'>25</a>\u001b[0m model\u001b[39m.\u001b[39;49mtrain(inputs\u001b[39m=\u001b[39;49m\u001b[39mNone\u001b[39;49;00m,\n\u001b[0;32m     <a href='vscode-notebook-cell:/c%3A/Users/krisw/Documents/ModelNISQ/notebooks/time_continous_liouvillian_optim/gate_fitting/Spin-Spin%20Fitting%2C%20Ideal.ipynb#W5sZmlsZQ%3D%3D?line=25'>26</a>\u001b[0m         targets\u001b[39m=\u001b[39;49m[channel_target],\n\u001b[0;32m     <a href='vscode-notebook-cell:/c%3A/Users/krisw/Documents/ModelNISQ/notebooks/time_continous_liouvillian_optim/gate_fitting/Spin-Spin%20Fitting%2C%20Ideal.ipynb#W5sZmlsZQ%3D%3D?line=26'>27</a>\u001b[0m         num_iter\u001b[39m=\u001b[39;49mnum_iter,\n\u001b[0;32m     <a href='vscode-notebook-cell:/c%3A/Users/krisw/Documents/ModelNISQ/notebooks/time_continous_liouvillian_optim/gate_fitting/Spin-Spin%20Fitting%2C%20Ideal.ipynb#W5sZmlsZQ%3D%3D?line=27'>28</a>\u001b[0m         N\u001b[39m=\u001b[39;49m\u001b[39m0\u001b[39;49m,\n\u001b[0;32m     <a href='vscode-notebook-cell:/c%3A/Users/krisw/Documents/ModelNISQ/notebooks/time_continous_liouvillian_optim/gate_fitting/Spin-Spin%20Fitting%2C%20Ideal.ipynb#W5sZmlsZQ%3D%3D?line=28'>29</a>\u001b[0m         verbose\u001b[39m=\u001b[39;49m\u001b[39mFalse\u001b[39;49;00m,)\n\u001b[0;32m     <a href='vscode-notebook-cell:/c%3A/Users/krisw/Documents/ModelNISQ/notebooks/time_continous_liouvillian_optim/gate_fitting/Spin-Spin%20Fitting%2C%20Ideal.ipynb#W5sZmlsZQ%3D%3D?line=29'>30</a>\u001b[0m model\u001b[39m.\u001b[39moptimizer \u001b[39m=\u001b[39m \u001b[39mNone\u001b[39;00m\n\u001b[0;32m     <a href='vscode-notebook-cell:/c%3A/Users/krisw/Documents/ModelNISQ/notebooks/time_continous_liouvillian_optim/gate_fitting/Spin-Spin%20Fitting%2C%20Ideal.ipynb#W5sZmlsZQ%3D%3D?line=31'>32</a>\u001b[0m saver(model, \u001b[39m\"\u001b[39m\u001b[39mdata/\u001b[39m\u001b[39m\"\u001b[39m \u001b[39m+\u001b[39m filename \u001b[39m+\u001b[39m \u001b[39m\"\u001b[39m\u001b[39m.model\u001b[39m\u001b[39m\"\u001b[39m)\n",
      "File \u001b[1;32mc:\\Users\\krisw\\Documents\\ModelNISQ\\notebooks\\time_continous_liouvillian_optim\\gate_fitting\\../../../src_tf\\optimization.py:138\u001b[0m, in \u001b[0;36mModelQuantumMap.train\u001b[1;34m(self, inputs, targets, inputs_val, targets_val, num_iter, N, verbose)\u001b[0m\n\u001b[0;32m    135\u001b[0m     grads \u001b[39m=\u001b[39m tape\u001b[39m.\u001b[39mgradient(loss, \u001b[39mself\u001b[39m\u001b[39m.\u001b[39mchannel\u001b[39m.\u001b[39mparameter_list)\n\u001b[0;32m    136\u001b[0m     \u001b[39mself\u001b[39m\u001b[39m.\u001b[39moptimizer\u001b[39m.\u001b[39mapply_gradients(\u001b[39mzip\u001b[39m(grads, \u001b[39mself\u001b[39m\u001b[39m.\u001b[39mchannel\u001b[39m.\u001b[39mparameter_list))\n\u001b[1;32m--> 138\u001b[0m     \u001b[39mself\u001b[39;49m\u001b[39m.\u001b[39;49mlogger\u001b[39m.\u001b[39;49mlog(\u001b[39mself\u001b[39;49m)\n\u001b[0;32m    139\u001b[0m     \u001b[39mself\u001b[39m\u001b[39m.\u001b[39mcounter \u001b[39m+\u001b[39m\u001b[39m=\u001b[39m \u001b[39m1\u001b[39m\n\u001b[0;32m    141\u001b[0m \u001b[39mprint\u001b[39m(loss)\n",
      "File \u001b[1;32mc:\\Users\\krisw\\Documents\\ModelNISQ\\notebooks\\time_continous_liouvillian_optim\\gate_fitting\\../../../src_tf\\optimization.py:56\u001b[0m, in \u001b[0;36mLogger.log\u001b[1;34m(self, other, push)\u001b[0m\n\u001b[0;32m     52\u001b[0m     targets_batch \u001b[39m=\u001b[39m other\u001b[39m.\u001b[39mtargets\n\u001b[0;32m     54\u001b[0m loss_train \u001b[39m=\u001b[39m \u001b[39mNone\u001b[39;00m\n\u001b[0;32m     55\u001b[0m loss_train \u001b[39m=\u001b[39m np\u001b[39m.\u001b[39mreal(\n\u001b[1;32m---> 56\u001b[0m     \u001b[39mself\u001b[39;49m\u001b[39m.\u001b[39;49mloss_function(other\u001b[39m.\u001b[39;49mchannel, inputs_batch, targets_batch)\u001b[39m.\u001b[39mnumpy()\n\u001b[0;32m     57\u001b[0m )\n\u001b[0;32m     58\u001b[0m \u001b[39mself\u001b[39m\u001b[39m.\u001b[39mloss_train_list\u001b[39m.\u001b[39mappend(loss_train)\n\u001b[0;32m     60\u001b[0m loss_val \u001b[39m=\u001b[39m \u001b[39mNone\u001b[39;00m\n",
      "File \u001b[1;32mc:\\Users\\krisw\\Documents\\ModelNISQ\\notebooks\\time_continous_liouvillian_optim\\gate_fitting\\../../../src_tf\\loss_functions.py:138\u001b[0m, in \u001b[0;36mchannel_fidelity_loss\u001b[1;34m(channel, input, target)\u001b[0m\n\u001b[0;32m    136\u001b[0m \u001b[39m\"\"\"Negative channel fidelity between quantum channels\"\"\"\u001b[39;00m\n\u001b[0;32m    137\u001b[0m channel_target \u001b[39m=\u001b[39m target[\u001b[39m0\u001b[39m]\n\u001b[1;32m--> 138\u001b[0m loss \u001b[39m=\u001b[39m \u001b[39m-\u001b[39mchannel_fidelity(channel, channel_target)\n\u001b[0;32m    139\u001b[0m \u001b[39mreturn\u001b[39;00m loss\n",
      "File \u001b[1;32mc:\\Users\\krisw\\Documents\\ModelNISQ\\notebooks\\time_continous_liouvillian_optim\\gate_fitting\\../../../src_tf\\quantum_channel.py:80\u001b[0m, in \u001b[0;36mchannel_fidelity\u001b[1;34m(channel_A, channel_B)\u001b[0m\n\u001b[0;32m     79\u001b[0m \u001b[39mdef\u001b[39;00m \u001b[39mchannel_fidelity\u001b[39m(channel_A, channel_B):\n\u001b[1;32m---> 80\u001b[0m     choi_A \u001b[39m=\u001b[39m channel_A\u001b[39m.\u001b[39;49mchoi\n\u001b[0;32m     81\u001b[0m     choi_B \u001b[39m=\u001b[39m channel_B\u001b[39m.\u001b[39mchoi\n\u001b[0;32m     82\u001b[0m     d_squared \u001b[39m=\u001b[39m choi_A\u001b[39m.\u001b[39mshape[\u001b[39m0\u001b[39m]\n",
      "File \u001b[1;32mc:\\Users\\krisw\\Documents\\ModelNISQ\\notebooks\\time_continous_liouvillian_optim\\gate_fitting\\../../../src_tf\\timedependent_channels.py:292\u001b[0m, in \u001b[0;36mMagnusPropagator.choi\u001b[1;34m(self)\u001b[0m\n\u001b[0;32m    290\u001b[0m \u001b[39m@property\u001b[39m\n\u001b[0;32m    291\u001b[0m \u001b[39mdef\u001b[39;00m \u001b[39mchoi\u001b[39m(\u001b[39mself\u001b[39m):\n\u001b[1;32m--> 292\u001b[0m     \u001b[39mreturn\u001b[39;00m reshuffle(\u001b[39mself\u001b[39;49m\u001b[39m.\u001b[39;49msuper_operator(\u001b[39mself\u001b[39;49m\u001b[39m.\u001b[39;49mT))\n",
      "File \u001b[1;32mc:\\Users\\krisw\\Documents\\ModelNISQ\\notebooks\\time_continous_liouvillian_optim\\gate_fitting\\../../../src_tf\\timedependent_channels.py:282\u001b[0m, in \u001b[0;36mMagnusPropagator.super_operator\u001b[1;34m(self, t)\u001b[0m\n\u001b[0;32m    279\u001b[0m t_list \u001b[39m=\u001b[39m tf\u001b[39m.\u001b[39mlinspace(dt \u001b[39m/\u001b[39m \u001b[39m2\u001b[39m, t \u001b[39m-\u001b[39m dt \u001b[39m/\u001b[39m \u001b[39m2\u001b[39m, \u001b[39mself\u001b[39m\u001b[39m.\u001b[39mgrid_size \u001b[39m-\u001b[39m \u001b[39m1\u001b[39m)\n\u001b[0;32m    281\u001b[0m L \u001b[39m=\u001b[39m \u001b[39mself\u001b[39m\u001b[39m.\u001b[39mliouvillian(t_list)\n\u001b[1;32m--> 282\u001b[0m eL \u001b[39m=\u001b[39m tf\u001b[39m.\u001b[39;49mlinalg\u001b[39m.\u001b[39;49mexpm(dt \u001b[39m*\u001b[39;49m L)\n\u001b[0;32m    283\u001b[0m T \u001b[39m=\u001b[39m tf\u001b[39m.\u001b[39meye(\u001b[39mself\u001b[39m\u001b[39m.\u001b[39md\u001b[39m*\u001b[39m\u001b[39m*\u001b[39m\u001b[39m2\u001b[39m, dtype\u001b[39m=\u001b[39mprecision)\n\u001b[0;32m    285\u001b[0m \u001b[39mfor\u001b[39;00m i \u001b[39min\u001b[39;00m \u001b[39mrange\u001b[39m(\u001b[39mself\u001b[39m\u001b[39m.\u001b[39mgrid_size \u001b[39m-\u001b[39m \u001b[39m1\u001b[39m):\n",
      "File \u001b[1;32mc:\\Program Files\\Anaconda3\\envs\\env_qiskit\\lib\\site-packages\\tensorflow\\python\\util\\traceback_utils.py:150\u001b[0m, in \u001b[0;36mfilter_traceback.<locals>.error_handler\u001b[1;34m(*args, **kwargs)\u001b[0m\n\u001b[0;32m    148\u001b[0m filtered_tb \u001b[39m=\u001b[39m \u001b[39mNone\u001b[39;00m\n\u001b[0;32m    149\u001b[0m \u001b[39mtry\u001b[39;00m:\n\u001b[1;32m--> 150\u001b[0m   \u001b[39mreturn\u001b[39;00m fn(\u001b[39m*\u001b[39margs, \u001b[39m*\u001b[39m\u001b[39m*\u001b[39mkwargs)\n\u001b[0;32m    151\u001b[0m \u001b[39mexcept\u001b[39;00m \u001b[39mException\u001b[39;00m \u001b[39mas\u001b[39;00m e:\n\u001b[0;32m    152\u001b[0m   filtered_tb \u001b[39m=\u001b[39m _process_traceback_frames(e\u001b[39m.\u001b[39m__traceback__)\n",
      "File \u001b[1;32mc:\\Program Files\\Anaconda3\\envs\\env_qiskit\\lib\\site-packages\\tensorflow\\python\\util\\dispatch.py:1176\u001b[0m, in \u001b[0;36madd_dispatch_support.<locals>.decorator.<locals>.op_dispatch_handler\u001b[1;34m(*args, **kwargs)\u001b[0m\n\u001b[0;32m   1174\u001b[0m \u001b[39m# Fallback dispatch system (dispatch v1):\u001b[39;00m\n\u001b[0;32m   1175\u001b[0m \u001b[39mtry\u001b[39;00m:\n\u001b[1;32m-> 1176\u001b[0m   \u001b[39mreturn\u001b[39;00m dispatch_target(\u001b[39m*\u001b[39margs, \u001b[39m*\u001b[39m\u001b[39m*\u001b[39mkwargs)\n\u001b[0;32m   1177\u001b[0m \u001b[39mexcept\u001b[39;00m (\u001b[39mTypeError\u001b[39;00m, \u001b[39mValueError\u001b[39;00m):\n\u001b[0;32m   1178\u001b[0m   \u001b[39m# Note: convert_to_eager_tensor currently raises a ValueError, not a\u001b[39;00m\n\u001b[0;32m   1179\u001b[0m   \u001b[39m# TypeError, when given unexpected types.  So we need to catch both.\u001b[39;00m\n\u001b[0;32m   1180\u001b[0m   result \u001b[39m=\u001b[39m dispatch(op_dispatch_handler, args, kwargs)\n",
      "File \u001b[1;32mc:\\Program Files\\Anaconda3\\envs\\env_qiskit\\lib\\site-packages\\tensorflow\\python\\ops\\linalg\\linalg_impl.py:310\u001b[0m, in \u001b[0;36mmatrix_exponential\u001b[1;34m(input, name)\u001b[0m\n\u001b[0;32m    308\u001b[0m u5, v5 \u001b[39m=\u001b[39m _matrix_exp_pade5(matrix)\n\u001b[0;32m    309\u001b[0m u7, v7 \u001b[39m=\u001b[39m _matrix_exp_pade7(matrix)\n\u001b[1;32m--> 310\u001b[0m u9, v9 \u001b[39m=\u001b[39m _matrix_exp_pade9(matrix)\n\u001b[0;32m    311\u001b[0m u13, v13 \u001b[39m=\u001b[39m _matrix_exp_pade13(\n\u001b[0;32m    312\u001b[0m     matrix \u001b[39m/\u001b[39m\n\u001b[0;32m    313\u001b[0m     math_ops\u001b[39m.\u001b[39mcast(math_ops\u001b[39m.\u001b[39mpow(const(\u001b[39m2.0\u001b[39m), squarings), matrix\u001b[39m.\u001b[39mdtype))\n\u001b[0;32m    314\u001b[0m conds \u001b[39m=\u001b[39m (\u001b[39m1.495585217958292e-002\u001b[39m, \u001b[39m2.539398330063230e-001\u001b[39m,\n\u001b[0;32m    315\u001b[0m          \u001b[39m9.504178996162932e-001\u001b[39m, \u001b[39m2.097847961257068e+000\u001b[39m)\n",
      "File \u001b[1;32mc:\\Program Files\\Anaconda3\\envs\\env_qiskit\\lib\\site-packages\\tensorflow\\python\\ops\\linalg\\linalg_impl.py:189\u001b[0m, in \u001b[0;36m_matrix_exp_pade9\u001b[1;34m(matrix)\u001b[0m\n\u001b[0;32m    184\u001b[0m b \u001b[39m=\u001b[39m [constant_op\u001b[39m.\u001b[39mconstant(x, matrix\u001b[39m.\u001b[39mdtype) \u001b[39mfor\u001b[39;00m x \u001b[39min\u001b[39;00m b]\n\u001b[0;32m    185\u001b[0m ident \u001b[39m=\u001b[39m linalg_ops\u001b[39m.\u001b[39meye(\n\u001b[0;32m    186\u001b[0m     array_ops\u001b[39m.\u001b[39mshape(matrix)[\u001b[39m-\u001b[39m\u001b[39m2\u001b[39m],\n\u001b[0;32m    187\u001b[0m     batch_shape\u001b[39m=\u001b[39marray_ops\u001b[39m.\u001b[39mshape(matrix)[:\u001b[39m-\u001b[39m\u001b[39m2\u001b[39m],\n\u001b[0;32m    188\u001b[0m     dtype\u001b[39m=\u001b[39mmatrix\u001b[39m.\u001b[39mdtype)\n\u001b[1;32m--> 189\u001b[0m matrix_2 \u001b[39m=\u001b[39m math_ops\u001b[39m.\u001b[39;49mmatmul(matrix, matrix)\n\u001b[0;32m    190\u001b[0m matrix_4 \u001b[39m=\u001b[39m math_ops\u001b[39m.\u001b[39mmatmul(matrix_2, matrix_2)\n\u001b[0;32m    191\u001b[0m matrix_6 \u001b[39m=\u001b[39m math_ops\u001b[39m.\u001b[39mmatmul(matrix_4, matrix_2)\n",
      "File \u001b[1;32mc:\\Program Files\\Anaconda3\\envs\\env_qiskit\\lib\\site-packages\\tensorflow\\python\\util\\traceback_utils.py:150\u001b[0m, in \u001b[0;36mfilter_traceback.<locals>.error_handler\u001b[1;34m(*args, **kwargs)\u001b[0m\n\u001b[0;32m    148\u001b[0m filtered_tb \u001b[39m=\u001b[39m \u001b[39mNone\u001b[39;00m\n\u001b[0;32m    149\u001b[0m \u001b[39mtry\u001b[39;00m:\n\u001b[1;32m--> 150\u001b[0m   \u001b[39mreturn\u001b[39;00m fn(\u001b[39m*\u001b[39margs, \u001b[39m*\u001b[39m\u001b[39m*\u001b[39mkwargs)\n\u001b[0;32m    151\u001b[0m \u001b[39mexcept\u001b[39;00m \u001b[39mException\u001b[39;00m \u001b[39mas\u001b[39;00m e:\n\u001b[0;32m    152\u001b[0m   filtered_tb \u001b[39m=\u001b[39m _process_traceback_frames(e\u001b[39m.\u001b[39m__traceback__)\n",
      "File \u001b[1;32mc:\\Program Files\\Anaconda3\\envs\\env_qiskit\\lib\\site-packages\\tensorflow\\python\\util\\dispatch.py:1176\u001b[0m, in \u001b[0;36madd_dispatch_support.<locals>.decorator.<locals>.op_dispatch_handler\u001b[1;34m(*args, **kwargs)\u001b[0m\n\u001b[0;32m   1174\u001b[0m \u001b[39m# Fallback dispatch system (dispatch v1):\u001b[39;00m\n\u001b[0;32m   1175\u001b[0m \u001b[39mtry\u001b[39;00m:\n\u001b[1;32m-> 1176\u001b[0m   \u001b[39mreturn\u001b[39;00m dispatch_target(\u001b[39m*\u001b[39margs, \u001b[39m*\u001b[39m\u001b[39m*\u001b[39mkwargs)\n\u001b[0;32m   1177\u001b[0m \u001b[39mexcept\u001b[39;00m (\u001b[39mTypeError\u001b[39;00m, \u001b[39mValueError\u001b[39;00m):\n\u001b[0;32m   1178\u001b[0m   \u001b[39m# Note: convert_to_eager_tensor currently raises a ValueError, not a\u001b[39;00m\n\u001b[0;32m   1179\u001b[0m   \u001b[39m# TypeError, when given unexpected types.  So we need to catch both.\u001b[39;00m\n\u001b[0;32m   1180\u001b[0m   result \u001b[39m=\u001b[39m dispatch(op_dispatch_handler, args, kwargs)\n",
      "File \u001b[1;32mc:\\Program Files\\Anaconda3\\envs\\env_qiskit\\lib\\site-packages\\tensorflow\\python\\ops\\math_ops.py:3667\u001b[0m, in \u001b[0;36mmatmul\u001b[1;34m(a, b, transpose_a, transpose_b, adjoint_a, adjoint_b, a_is_sparse, b_is_sparse, output_type, name)\u001b[0m\n\u001b[0;32m   3664\u001b[0m     \u001b[39mreturn\u001b[39;00m gen_math_ops\u001b[39m.\u001b[39mbatch_mat_mul_v3(\n\u001b[0;32m   3665\u001b[0m         a, b, adj_x\u001b[39m=\u001b[39madjoint_a, adj_y\u001b[39m=\u001b[39madjoint_b, Tout\u001b[39m=\u001b[39moutput_type, name\u001b[39m=\u001b[39mname)\n\u001b[0;32m   3666\u001b[0m   \u001b[39melse\u001b[39;00m:\n\u001b[1;32m-> 3667\u001b[0m     \u001b[39mreturn\u001b[39;00m gen_math_ops\u001b[39m.\u001b[39;49mbatch_mat_mul_v2(\n\u001b[0;32m   3668\u001b[0m         a, b, adj_x\u001b[39m=\u001b[39;49madjoint_a, adj_y\u001b[39m=\u001b[39;49madjoint_b, name\u001b[39m=\u001b[39;49mname)\n\u001b[0;32m   3670\u001b[0m \u001b[39m# Neither matmul nor sparse_matmul support adjoint, so we conjugate\u001b[39;00m\n\u001b[0;32m   3671\u001b[0m \u001b[39m# the matrix and use transpose instead. Conj() is a noop for real\u001b[39;00m\n\u001b[0;32m   3672\u001b[0m \u001b[39m# matrices.\u001b[39;00m\n\u001b[0;32m   3673\u001b[0m \u001b[39mif\u001b[39;00m adjoint_a:\n",
      "File \u001b[1;32mc:\\Program Files\\Anaconda3\\envs\\env_qiskit\\lib\\site-packages\\tensorflow\\python\\ops\\gen_math_ops.py:1570\u001b[0m, in \u001b[0;36mbatch_mat_mul_v2\u001b[1;34m(x, y, adj_x, adj_y, name)\u001b[0m\n\u001b[0;32m   1568\u001b[0m \u001b[39mif\u001b[39;00m tld\u001b[39m.\u001b[39mis_eager:\n\u001b[0;32m   1569\u001b[0m   \u001b[39mtry\u001b[39;00m:\n\u001b[1;32m-> 1570\u001b[0m     _result \u001b[39m=\u001b[39m pywrap_tfe\u001b[39m.\u001b[39;49mTFE_Py_FastPathExecute(\n\u001b[0;32m   1571\u001b[0m       _ctx, \u001b[39m\"\u001b[39;49m\u001b[39mBatchMatMulV2\u001b[39;49m\u001b[39m\"\u001b[39;49m, name, x, y, \u001b[39m\"\u001b[39;49m\u001b[39madj_x\u001b[39;49m\u001b[39m\"\u001b[39;49m, adj_x, \u001b[39m\"\u001b[39;49m\u001b[39madj_y\u001b[39;49m\u001b[39m\"\u001b[39;49m, adj_y)\n\u001b[0;32m   1572\u001b[0m     \u001b[39mreturn\u001b[39;00m _result\n\u001b[0;32m   1573\u001b[0m   \u001b[39mexcept\u001b[39;00m _core\u001b[39m.\u001b[39m_NotOkStatusException \u001b[39mas\u001b[39;00m e:\n",
      "\u001b[1;31mKeyboardInterrupt\u001b[0m: "
     ]
    }
   ],
   "source": [
    "U = tf.convert_to_tensor([[1, 0, 0, 0],\n",
    "                            [0, 1, 0, 0],\n",
    "                            [0, 0, 0, 1],\n",
    "                            [0, 0, 1, 0]], dtype=tf.complex128)\n",
    "\n",
    "tf.random.set_seed(42)\n",
    "np.random.seed(42)\n",
    "\n",
    "fit_spinspin(U=U, degree=0, gamma=0, filename=\"spin-spin_cnot_degreeZero\", grid_size=200, num_iter=500)"
   ]
  },
  {
   "attachments": {},
   "cell_type": "markdown",
   "metadata": {},
   "source": [
    "### Degree One"
   ]
  },
  {
   "cell_type": "code",
   "execution_count": 6,
   "metadata": {},
   "outputs": [
    {
     "data": {
      "application/vnd.jupyter.widget-view+json": {
       "model_id": "72834992c6a44a13ab2b9877f0e4eef5",
       "version_major": 2,
       "version_minor": 0
      },
      "text/plain": [
       "  0%|          | 0/500 [00:00<?, ?it/s]"
      ]
     },
     "metadata": {},
     "output_type": "display_data"
    },
    {
     "name": "stdout",
     "output_type": "stream",
     "text": [
      "tf.Tensor(5.124772275189413, shape=(), dtype=float64)\n"
     ]
    }
   ],
   "source": [
    "U = tf.convert_to_tensor([[1, 0, 0, 0],\n",
    "                            [0, 1, 0, 0],\n",
    "                            [0, 0, 0, 1],\n",
    "                            [0, 0, 1, 0]], dtype=tf.complex128)\n",
    "\n",
    "tf.random.set_seed(42)\n",
    "np.random.seed(42)\n",
    "\n",
    "fit_spinspin(U=U, degree=1, gamma=0, filename=\"spin-spin_cnot_degreeOne\", grid_size=200, num_iter=500)"
   ]
  },
  {
   "attachments": {},
   "cell_type": "markdown",
   "metadata": {},
   "source": [
    "### Degree Two"
   ]
  },
  {
   "cell_type": "code",
   "execution_count": 7,
   "metadata": {},
   "outputs": [
    {
     "data": {
      "application/vnd.jupyter.widget-view+json": {
       "model_id": "67b957e3b323416a89cf8b73a900f648",
       "version_major": 2,
       "version_minor": 0
      },
      "text/plain": [
       "  0%|          | 0/500 [00:00<?, ?it/s]"
      ]
     },
     "metadata": {},
     "output_type": "display_data"
    },
    {
     "name": "stdout",
     "output_type": "stream",
     "text": [
      "tf.Tensor(2.413389154295112e-07, shape=(), dtype=float64)\n"
     ]
    }
   ],
   "source": [
    "U = tf.convert_to_tensor([[1, 0, 0, 0],\n",
    "                            [0, 1, 0, 0],\n",
    "                            [0, 0, 0, 1],\n",
    "                            [0, 0, 1, 0]], dtype=tf.complex128)\n",
    "\n",
    "tf.random.set_seed(42)\n",
    "np.random.seed(42)\n",
    "\n",
    "fit_spinspin(U=U, degree=2, gamma=0, filename=\"spin-spin_cnot_degreeTwo\", grid_size=200, num_iter=500)"
   ]
  },
  {
   "attachments": {},
   "cell_type": "markdown",
   "metadata": {},
   "source": [
    "## Haar Random Fitting"
   ]
  },
  {
   "cell_type": "code",
   "execution_count": 4,
   "metadata": {},
   "outputs": [
    {
     "data": {
      "application/vnd.jupyter.widget-view+json": {
       "model_id": "fd8ada07d90c40b18bee932f0a3e5266",
       "version_major": 2,
       "version_minor": 0
      },
      "text/plain": [
       "  0%|          | 0/500 [00:00<?, ?it/s]"
      ]
     },
     "metadata": {},
     "output_type": "display_data"
    },
    {
     "name": "stdout",
     "output_type": "stream",
     "text": [
      "tf.Tensor(29.732694984882976, shape=(), dtype=float64)\n"
     ]
    }
   ],
   "source": [
    "tf.random.set_seed(42)\n",
    "np.random.seed(42)\n",
    "\n",
    "U = tf.convert_to_tensor(random_unitary(4, seed = 42).data, dtype=tf.complex128)\n",
    "fit_spinspin(U=U, degree=0, gamma=0, filename=\"data/\" + \"spin-spin_haarRandom_degreeZero\", grid_size=200, num_iter=500)"
   ]
  },
  {
   "cell_type": "code",
   "execution_count": 5,
   "metadata": {},
   "outputs": [
    {
     "data": {
      "application/vnd.jupyter.widget-view+json": {
       "model_id": "285202585cd6423587e394633ba6dc7f",
       "version_major": 2,
       "version_minor": 0
      },
      "text/plain": [
       "  0%|          | 0/500 [00:00<?, ?it/s]"
      ]
     },
     "metadata": {},
     "output_type": "display_data"
    },
    {
     "name": "stdout",
     "output_type": "stream",
     "text": [
      "tf.Tensor(1.4373093634872989, shape=(), dtype=float64)\n"
     ]
    }
   ],
   "source": [
    "tf.random.set_seed(42)\n",
    "np.random.seed(42)\n",
    "\n",
    "U = tf.convert_to_tensor(random_unitary(4, seed = 42).data, dtype=tf.complex128)\n",
    "fit_spinspin(U=U, degree=1, gamma=0, filename=\"data/\" + \"spin-spin_haarRandom_degreeOne\", grid_size=200, num_iter=500)"
   ]
  },
  {
   "cell_type": "code",
   "execution_count": 6,
   "metadata": {},
   "outputs": [
    {
     "data": {
      "application/vnd.jupyter.widget-view+json": {
       "model_id": "b2456a50d1eb4870a6a8bc8e9006e7f9",
       "version_major": 2,
       "version_minor": 0
      },
      "text/plain": [
       "  0%|          | 0/500 [00:00<?, ?it/s]"
      ]
     },
     "metadata": {},
     "output_type": "display_data"
    },
    {
     "name": "stdout",
     "output_type": "stream",
     "text": [
      "tf.Tensor(2.70181582679106e-08, shape=(), dtype=float64)\n"
     ]
    }
   ],
   "source": [
    "tf.random.set_seed(42)\n",
    "np.random.seed(42)\n",
    "\n",
    "U = tf.convert_to_tensor(random_unitary(4, seed = 42).data, dtype=tf.complex128)\n",
    "fit_spinspin(U=U, degree=2, gamma=0, filename=\"data\" + \"spin-spin_haarRandom_degreeTwo\", grid_size=200, num_iter=500)"
   ]
  },
  {
   "attachments": {},
   "cell_type": "markdown",
   "metadata": {},
   "source": [
    "## Teacher-Student Fitting"
   ]
  },
  {
   "cell_type": "code",
   "execution_count": 2,
   "metadata": {},
   "outputs": [
    {
     "data": {
      "application/vnd.jupyter.widget-view+json": {
       "model_id": "31225e21df6e47d09821773bd5376eac",
       "version_major": 2,
       "version_minor": 0
      },
      "text/plain": [
       "  0%|          | 0/500 [00:00<?, ?it/s]"
      ]
     },
     "metadata": {},
     "output_type": "display_data"
    },
    {
     "name": "stdout",
     "output_type": "stream",
     "text": [
      "tf.Tensor(6.778341855370358e-13, shape=(), dtype=float64)\n"
     ]
    }
   ],
   "source": [
    "tf.random.set_seed(42)\n",
    "np.random.seed(42)\n",
    "\n",
    "H_model = SpinSpin(degree=2)\n",
    "jump_operator = JumpOperator(4, trainable=False)\n",
    "\n",
    "lindblad_model = LindbladGenerator(hamiltonian = H_model, \n",
    "                                   jump_operator = jump_operator,\n",
    "                                    gamma = 0,\n",
    "                                 )\n",
    "\n",
    "channel_target = MagnusPropagator(liouvillian=lindblad_model, grid_size=200, T = 1)\n",
    "\n",
    "fit_spinspin(channel_target=channel_target, degree=4, gamma=0, filename=\"data/\" + \"spin-spin_teacherStudent\", grid_size=200, num_iter=500)"
   ]
  }
 ],
 "metadata": {
  "kernelspec": {
   "display_name": "env_qiskit",
   "language": "python",
   "name": "python3"
  },
  "language_info": {
   "codemirror_mode": {
    "name": "ipython",
    "version": 3
   },
   "file_extension": ".py",
   "mimetype": "text/x-python",
   "name": "python",
   "nbconvert_exporter": "python",
   "pygments_lexer": "ipython3",
   "version": "3.10.4"
  }
 },
 "nbformat": 4,
 "nbformat_minor": 4
}
