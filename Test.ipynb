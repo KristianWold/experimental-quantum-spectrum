{
 "cells": [
  {
   "cell_type": "code",
   "execution_count": 2,
   "metadata": {},
   "outputs": [],
   "source": [
    "import numpy as np\n",
    "import qiskit as qk\n",
    "import matplotlib.pyplot as plt\n",
    "import multiprocessing as mp\n",
    "from qiskit.quantum_info import DensityMatrix\n",
    "from qiskit.quantum_info import Operator\n",
    "from scipy.linalg import sqrtm\n",
    "from tqdm.notebook import tqdm\n",
    "\n",
    "from src import *\n",
    "\n",
    "np.set_printoptions(precision=2)"
   ]
  },
  {
   "cell_type": "code",
   "execution_count": 3,
   "metadata": {},
   "outputs": [
    {
     "name": "stdout",
     "output_type": "stream",
     "text": [
      "[[ 0.05+0.j   -0.  +0.02j -0.01-0.15j  0.09-0.12j]\n",
      " [-0.  -0.02j  0.01+0.j   -0.07+0.01j -0.06-0.04j]\n",
      " [-0.01+0.15j -0.07-0.01j  0.47+0.j    0.35+0.31j]\n",
      " [ 0.09+0.12j -0.06+0.04j  0.35-0.31j  0.47+0.j  ]]\n",
      "[[0.52+0.j   0.35+0.33j]\n",
      " [0.35-0.33j 0.48+0.j  ]]\n"
     ]
    }
   ],
   "source": [
    "np.random.seed(42)\n",
    "state_random = generate_state(2**2, 1)\n",
    "print(state_random)\n",
    "print(partial_trace(state_random))"
   ]
  },
  {
   "cell_type": "code",
   "execution_count": 18,
   "metadata": {},
   "outputs": [
    {
     "name": "stdout",
     "output_type": "stream",
     "text": [
      "[[ 1  2  3  4]\n",
      " [ 5  6  7  8]\n",
      " [ 9 10 11 12]\n",
      " [13 14 15 16]]\n",
      "[[[1 2]\n",
      "  [3 4]]\n",
      "\n",
      " [[5 6]\n",
      "  [7 8]]]\n"
     ]
    }
   ],
   "source": [
    "print(np.array(range(1,17)).reshape(4,4))\n",
    "print(np.array(range(1,17)).reshape(4,4).reshape(2,2,2,2)[0])"
   ]
  },
  {
   "cell_type": "code",
   "execution_count": null,
   "metadata": {},
   "outputs": [],
   "source": []
  }
 ],
 "metadata": {
  "kernelspec": {
   "display_name": "qiskit",
   "language": "python",
   "name": "qiskit"
  },
  "language_info": {
   "codemirror_mode": {
    "name": "ipython",
    "version": 3
   },
   "file_extension": ".py",
   "mimetype": "text/x-python",
   "name": "python",
   "nbconvert_exporter": "python",
   "pygments_lexer": "ipython3",
   "version": "3.8.5"
  }
 },
 "nbformat": 4,
 "nbformat_minor": 4
}
