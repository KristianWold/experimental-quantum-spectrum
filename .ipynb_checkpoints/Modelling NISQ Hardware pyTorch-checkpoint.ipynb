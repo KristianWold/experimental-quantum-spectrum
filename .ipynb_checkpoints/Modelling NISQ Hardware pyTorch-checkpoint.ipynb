{
 "cells": [
  {
   "cell_type": "markdown",
   "metadata": {},
   "source": [
    "# Modelling NIQS Hardware pyTorch"
   ]
  },
  {
   "cell_type": "code",
   "execution_count": 1,
   "metadata": {},
   "outputs": [],
   "source": [
    "import numpy as np\n",
    "import qiskit as qk\n",
    "import matplotlib.pyplot as plt\n",
    "import multiprocessing as mp\n",
    "import random\n",
    "import torch.optim as optim\n",
    "\n",
    "from qiskit.quantum_info import DensityMatrix\n",
    "from qiskit.quantum_info import Operator\n",
    "from scipy.linalg import sqrtm\n",
    "from tqdm.notebook import tqdm\n",
    "\n",
    "\n",
    "from src_torch import *\n",
    "\n",
    "torch.set_printoptions(precision=8)"
   ]
  },
  {
   "cell_type": "markdown",
   "metadata": {},
   "source": [
    "## Test"
   ]
  },
  {
   "cell_type": "code",
   "execution_count": 2,
   "metadata": {
    "scrolled": true
   },
   "outputs": [
    {
     "data": {
      "application/vnd.jupyter.widget-view+json": {
       "model_id": "e77a27cca79544aa898e6a2b03ccecf3",
       "version_major": 2,
       "version_minor": 0
      },
      "text/plain": [
       "HBox(children=(HTML(value=''), FloatProgress(value=0.0, max=1000.0), HTML(value='')))"
      ]
     },
     "metadata": {},
     "output_type": "display_data"
    },
    {
     "name": "stdout",
     "output_type": "stream",
     "text": [
      "\n"
     ]
    },
    {
     "ename": "RuntimeError",
     "evalue": "svd_backward: The singular vectors in the complex case are specified up to multiplication by e^{i phi}. The specified loss function depends on this phase term, making it ill-defined.",
     "output_type": "error",
     "traceback": [
      "\u001b[1;31m---------------------------------------------------------------------------\u001b[0m",
      "\u001b[1;31mRuntimeError\u001b[0m                              Traceback (most recent call last)",
      "\u001b[1;32m<ipython-input-2-4882b56ab1ba>\u001b[0m in \u001b[0;36m<module>\u001b[1;34m\u001b[0m\n\u001b[0;32m     29\u001b[0m     \u001b[0mstate_model\u001b[0m \u001b[1;33m=\u001b[0m \u001b[0mapply_map\u001b[0m\u001b[1;33m(\u001b[0m\u001b[0mstate_input\u001b[0m\u001b[1;33m,\u001b[0m \u001b[0mchoi_model\u001b[0m\u001b[1;33m)\u001b[0m\u001b[1;33m\u001b[0m\u001b[1;33m\u001b[0m\u001b[0m\n\u001b[0;32m     30\u001b[0m     \u001b[0mloss\u001b[0m \u001b[1;33m=\u001b[0m \u001b[1;33m-\u001b[0m\u001b[0mstate_fidelity\u001b[0m\u001b[1;33m(\u001b[0m\u001b[0mstate_model\u001b[0m\u001b[1;33m,\u001b[0m \u001b[0mstate_target\u001b[0m\u001b[1;33m)\u001b[0m\u001b[1;33m\u001b[0m\u001b[1;33m\u001b[0m\u001b[0m\n\u001b[1;32m---> 31\u001b[1;33m     \u001b[0mloss\u001b[0m\u001b[1;33m.\u001b[0m\u001b[0mbackward\u001b[0m\u001b[1;33m(\u001b[0m\u001b[1;33m)\u001b[0m\u001b[1;33m\u001b[0m\u001b[1;33m\u001b[0m\u001b[0m\n\u001b[0m\u001b[0;32m     32\u001b[0m     \u001b[0moptimizer\u001b[0m\u001b[1;33m.\u001b[0m\u001b[0mstep\u001b[0m\u001b[1;33m(\u001b[0m\u001b[1;33m)\u001b[0m\u001b[1;33m\u001b[0m\u001b[1;33m\u001b[0m\u001b[0m\n\u001b[0;32m     33\u001b[0m     \u001b[0mfid\u001b[0m \u001b[1;33m=\u001b[0m \u001b[0mnp\u001b[0m\u001b[1;33m.\u001b[0m\u001b[0mabs\u001b[0m\u001b[1;33m(\u001b[0m\u001b[0mloss\u001b[0m\u001b[1;33m.\u001b[0m\u001b[0mdetach\u001b[0m\u001b[1;33m(\u001b[0m\u001b[1;33m)\u001b[0m\u001b[1;33m.\u001b[0m\u001b[0mnumpy\u001b[0m\u001b[1;33m(\u001b[0m\u001b[1;33m)\u001b[0m\u001b[1;33m)\u001b[0m\u001b[1;33m\u001b[0m\u001b[1;33m\u001b[0m\u001b[0m\n",
      "\u001b[1;32m~\\Anaconda2\\envs\\qiskit\\lib\\site-packages\\torch\\_tensor.py\u001b[0m in \u001b[0;36mbackward\u001b[1;34m(self, gradient, retain_graph, create_graph, inputs)\u001b[0m\n\u001b[0;32m    361\u001b[0m                 \u001b[0mcreate_graph\u001b[0m\u001b[1;33m=\u001b[0m\u001b[0mcreate_graph\u001b[0m\u001b[1;33m,\u001b[0m\u001b[1;33m\u001b[0m\u001b[1;33m\u001b[0m\u001b[0m\n\u001b[0;32m    362\u001b[0m                 inputs=inputs)\n\u001b[1;32m--> 363\u001b[1;33m         \u001b[0mtorch\u001b[0m\u001b[1;33m.\u001b[0m\u001b[0mautograd\u001b[0m\u001b[1;33m.\u001b[0m\u001b[0mbackward\u001b[0m\u001b[1;33m(\u001b[0m\u001b[0mself\u001b[0m\u001b[1;33m,\u001b[0m \u001b[0mgradient\u001b[0m\u001b[1;33m,\u001b[0m \u001b[0mretain_graph\u001b[0m\u001b[1;33m,\u001b[0m \u001b[0mcreate_graph\u001b[0m\u001b[1;33m,\u001b[0m \u001b[0minputs\u001b[0m\u001b[1;33m=\u001b[0m\u001b[0minputs\u001b[0m\u001b[1;33m)\u001b[0m\u001b[1;33m\u001b[0m\u001b[1;33m\u001b[0m\u001b[0m\n\u001b[0m\u001b[0;32m    364\u001b[0m \u001b[1;33m\u001b[0m\u001b[0m\n\u001b[0;32m    365\u001b[0m     \u001b[1;32mdef\u001b[0m \u001b[0mregister_hook\u001b[0m\u001b[1;33m(\u001b[0m\u001b[0mself\u001b[0m\u001b[1;33m,\u001b[0m \u001b[0mhook\u001b[0m\u001b[1;33m)\u001b[0m\u001b[1;33m:\u001b[0m\u001b[1;33m\u001b[0m\u001b[1;33m\u001b[0m\u001b[0m\n",
      "\u001b[1;32m~\\Anaconda2\\envs\\qiskit\\lib\\site-packages\\torch\\autograd\\__init__.py\u001b[0m in \u001b[0;36mbackward\u001b[1;34m(tensors, grad_tensors, retain_graph, create_graph, grad_variables, inputs)\u001b[0m\n\u001b[0;32m    171\u001b[0m     \u001b[1;31m# some Python versions print out the first line of a multi-line function\u001b[0m\u001b[1;33m\u001b[0m\u001b[1;33m\u001b[0m\u001b[1;33m\u001b[0m\u001b[0m\n\u001b[0;32m    172\u001b[0m     \u001b[1;31m# calls in the traceback and some print out the last line\u001b[0m\u001b[1;33m\u001b[0m\u001b[1;33m\u001b[0m\u001b[1;33m\u001b[0m\u001b[0m\n\u001b[1;32m--> 173\u001b[1;33m     Variable._execution_engine.run_backward(  # Calls into the C++ engine to run the backward pass\n\u001b[0m\u001b[0;32m    174\u001b[0m         \u001b[0mtensors\u001b[0m\u001b[1;33m,\u001b[0m \u001b[0mgrad_tensors_\u001b[0m\u001b[1;33m,\u001b[0m \u001b[0mretain_graph\u001b[0m\u001b[1;33m,\u001b[0m \u001b[0mcreate_graph\u001b[0m\u001b[1;33m,\u001b[0m \u001b[0minputs\u001b[0m\u001b[1;33m,\u001b[0m\u001b[1;33m\u001b[0m\u001b[1;33m\u001b[0m\u001b[0m\n\u001b[0;32m    175\u001b[0m         allow_unreachable=True, accumulate_grad=True)  # Calls into the C++ engine to run the backward pass\n",
      "\u001b[1;31mRuntimeError\u001b[0m: svd_backward: The singular vectors in the complex case are specified up to multiplication by e^{i phi}. The specified loss function depends on this phase term, making it ill-defined."
     ]
    }
   ],
   "source": [
    "n = 3\n",
    "d = 2**n\n",
    "\n",
    "state_input_list = [prepare_input(numberToBase(i, 6, n)) for i in range(6**n)]\n",
    "\n",
    "np.random.seed(42)\n",
    "torch.manual_seed(42)\n",
    "\n",
    "X_target = generate_ginibre(d**2, 2)\n",
    "\n",
    "choi_target = generate_choi(X_target)\n",
    "\n",
    "state_target_list = [apply_map(state_input, choi_target) for state_input in state_input_list]\n",
    "\n",
    "\n",
    "X = generate_ginibre(d**2, 2).requires_grad_()\n",
    "optimizer = optim.SGD([X], lr=0.1)\n",
    "\n",
    "fid_list = []\n",
    "\n",
    "for i in tqdm(range(1000)):\n",
    "    optimizer.zero_grad()\n",
    "    \n",
    "    choi_model = generate_choi(X)\n",
    "    index = np.random.randint(0, len(state_input_list)-1)\n",
    "    state_input = state_input_list[index]\n",
    "    state_target = state_target_list[index]\n",
    "    \n",
    "    state_model = apply_map(state_input, choi_model)\n",
    "    loss = -state_fidelity(state_model, state_target)\n",
    "    loss.backward()\n",
    "    optimizer.step()\n",
    "    fid = np.abs(loss.detach().numpy())\n",
    "    fid_list.append(fid)\n",
    "    print(f\"step: {i}, fid: {fid:.4f}\")"
   ]
  },
  {
   "cell_type": "code",
   "execution_count": 3,
   "metadata": {},
   "outputs": [
    {
     "data": {
      "text/plain": [
       "[<matplotlib.lines.Line2D at 0x1790f6e4190>]"
      ]
     },
     "execution_count": 3,
     "metadata": {},
     "output_type": "execute_result"
    },
    {
     "data": {
      "image/png": "[encoded data removed]",
      "text/plain": [
       "<Figure size 432x288 with 1 Axes>"
      ]
     },
     "metadata": {
      "needs_background": "light"
     },
     "output_type": "display_data"
    }
   ],
   "source": [
    "plt.plot(fid_list)"
   ]
  },
  {
   "cell_type": "code",
   "execution_count": 44,
   "metadata": {},
   "outputs": [
    {
     "name": "stdout",
     "output_type": "stream",
     "text": [
      "tensor([[ 0.01524543-1.73472348e-18j,  0.03693582-2.51190575e-02j,\n",
      "          0.00408587-5.45940330e-03j,  ...,\n",
      "          0.02544855+1.34757259e-02j, -0.02804881-1.24228893e-02j,\n",
      "         -0.02219042-2.10357432e-02j],\n",
      "        [ 0.03693582+2.51190575e-02j,  0.15738826+4.16333634e-17j,\n",
      "          0.00290300-4.51553097e-03j,  ...,\n",
      "         -0.02020502+5.30398546e-02j, -0.04974882-5.68629439e-02j,\n",
      "         -0.00062319-6.66393880e-02j],\n",
      "        [ 0.00408587+5.45940330e-03j,  0.00290300+4.51553097e-03j,\n",
      "          0.01284213+1.73472348e-18j,  ...,\n",
      "          0.03636647+3.01677687e-02j, -0.00025254-2.49346618e-02j,\n",
      "         -0.00800003-2.75604070e-02j],\n",
      "        ...,\n",
      "        [ 0.02544855-1.34757259e-02j, -0.02020502-5.30398546e-02j,\n",
      "          0.03636647-3.01677687e-02j,  ...,\n",
      "          0.20611412+5.20417043e-18j, -0.06851066-4.15412924e-02j,\n",
      "         -0.11417961-4.74830019e-02j],\n",
      "        [-0.02804881+1.24228893e-02j, -0.04974882+5.68629439e-02j,\n",
      "         -0.00025254+2.49346618e-02j,  ...,\n",
      "         -0.06851066+4.15412924e-02j,  0.07618681+1.73472348e-18j,\n",
      "          0.07171177+5.28307085e-03j],\n",
      "        [-0.02219042+2.10357432e-02j, -0.00062319+6.66393880e-02j,\n",
      "         -0.00800003+2.75604070e-02j,  ...,\n",
      "         -0.11417961+4.74830019e-02j,  0.07171177-5.28307085e-03j,\n",
      "          0.09065670-6.93889390e-18j]], dtype=torch.complex128,\n",
      "       grad_fn=<MmBackward0>)\n",
      "tensor([[ 0.01522810-1.73472348e-18j, -0.00356235-9.85246874e-03j,\n",
      "         -0.00814444+2.31679631e-02j,  ...,\n",
      "          0.00893879+3.97814176e-02j, -0.03178470-3.99635615e-02j,\n",
      "         -0.00080054+1.74931821e-02j],\n",
      "        [-0.00356235+9.85246874e-03j,  0.18456191+5.24753851e-17j,\n",
      "          0.05434372+1.78876213e-02j,  ...,\n",
      "          0.06296026-9.30731822e-02j, -0.06116607-1.17868613e-01j,\n",
      "          0.06510818+7.59433636e-02j],\n",
      "        [-0.00814444-2.31679631e-02j,  0.05434372-1.78876213e-02j,\n",
      "          0.06984340+1.56125113e-17j,  ...,\n",
      "          0.07583062-8.35505174e-02j, -0.09689752+4.44024116e-02j,\n",
      "          0.06900680+1.02033439e-02j],\n",
      "        ...,\n",
      "        [ 0.00893879-3.97814176e-02j,  0.06296026+9.30731822e-02j,\n",
      "          0.07583062+8.35505174e-02j,  ...,\n",
      "          0.20086316+2.25514052e-17j, -0.11755937-4.27158103e-02j,\n",
      "          0.04358290+9.20908234e-02j],\n",
      "        [-0.03178470+3.99635615e-02j, -0.06116607+1.17868613e-01j,\n",
      "         -0.09689752-4.44024116e-02j,  ...,\n",
      "         -0.11755937+4.27158103e-02j,  0.28566387+3.46944695e-18j,\n",
      "         -0.13328268-3.56689758e-02j],\n",
      "        [-0.00080054-1.74931821e-02j,  0.06510818-7.59433636e-02j,\n",
      "          0.06900680-1.02033439e-02j,  ...,\n",
      "          0.04358290-9.20908234e-02j, -0.13328268+3.56689758e-02j,\n",
      "          0.08949704+0.00000000e+00j]], dtype=torch.complex128)\n"
     ]
    }
   ],
   "source": [
    "print(choi_model)\n",
    "print(choi_target)"
   ]
  },
  {
   "cell_type": "code",
   "execution_count": null,
   "metadata": {},
   "outputs": [],
   "source": [
    "A = state_input_list[15]\n",
    "print(A)\n",
    "\n",
    "L, V = torch.linalg.eigh(A)\n",
    "L = torch.sqrt(L.type(torch.complex64))\n",
    "\n",
    "B = torch.zeros_like(A)\n",
    "for l, v in zip(L, V.T):\n",
    "    B += l*torch.conj(v.reshape(-1,1))@v.reshape(1,-1)\n",
    "\n",
    "print(A, B@B)"
   ]
  },
  {
   "cell_type": "code",
   "execution_count": 30,
   "metadata": {},
   "outputs": [
    {
     "name": "stdout",
     "output_type": "stream",
     "text": [
      "tensor([[ 0.49671415-0.01349722j, -0.13826430-1.05771093j],\n",
      "        [ 0.64768854+0.82254491j,  1.52302986-1.22084365j],\n",
      "        [-0.23415337+0.20886360j, -0.23413696-1.95967012j],\n",
      "        [ 1.57921282-1.32818605j,  0.76743473+0.19686124j],\n",
      "        [-0.46947439+0.73846658j,  0.54256004+0.17136828j],\n",
      "        [-0.46341769-0.11564828j, -0.46572975-0.30110370j],\n",
      "        [ 0.24196227-1.47852199j, -1.91328024-0.71984421j],\n",
      "        [-1.72491783-0.46063877j, -0.56228753+1.05712223j],\n",
      "        [-1.01283112+0.34361829j,  0.31424733-1.76304016j],\n",
      "        [-0.90802408+0.32408397j, -1.41230370-0.38508228j],\n",
      "        [ 1.46564877-0.67692200j, -0.22577630+0.61167629j],\n",
      "        [ 0.06752820+1.03099952j, -1.42474819+0.93128012j],\n",
      "        [-0.54438272-0.83921752j,  0.11092259-0.30921238j],\n",
      "        [-1.15099358+0.33126343j,  0.37569802+0.97554513j],\n",
      "        [-0.60063869-0.47917424j, -0.29169375-0.18565898j],\n",
      "        [-0.60170661-1.10633497j,  1.85227818-1.19620662j]],\n",
      "       dtype=torch.complex128)\n"
     ]
    }
   ],
   "source": [
    "n = 2\n",
    "d = 2**n\n",
    "\n",
    "np.random.seed(42)\n",
    "X = generate_ginibre(d**2, 2)\n",
    "print(X)"
   ]
  },
  {
   "cell_type": "code",
   "execution_count": 31,
   "metadata": {
    "scrolled": true
   },
   "outputs": [
    {
     "name": "stdout",
     "output_type": "stream",
     "text": [
      "tensor([[ 1.38477655+0.00000000e+00j,  1.39133300-2.19703612e+00j,\n",
      "          1.98601092-1.23888285e-01j,  0.48801307-1.46091401e-01j,\n",
      "         -0.49943661-9.10647773e-01j,  0.15424927+5.14674550e-01j,\n",
      "          1.16606747+2.65530565e+00j, -1.89095919+9.92987331e-01j,\n",
      "          1.31361221-7.33158012e-01j,  0.14717428+1.29184464e+00j,\n",
      "          0.12138516+6.39833602e-01j, -0.76840676+1.12271102e+00j,\n",
      "          0.05264518+2.64121809e-01j, -1.65997630-4.11504850e-01j,\n",
      "         -0.05517385+5.28977239e-01j,  0.72519313-1.56691394e+00j],\n",
      "        [ 1.39133300+2.19703612e+00j,  4.90615974+0.00000000e+00j,\n",
      "          2.05599448+2.94260050e+00j,  0.85883458+9.22480991e-01j,\n",
      "          0.92047002-1.78784010e+00j, -0.73699602+7.20895332e-01j,\n",
      "         -3.09460026+4.58880684e+00j, -3.64306724-2.04403549e+00j,\n",
      "          2.25764682+1.24585922e+00j, -2.00239861+1.35389776e+00j,\n",
      "         -0.69814000+9.88032871e-01j, -2.41510079-2.91194242e-01j,\n",
      "         -0.49644617+4.31292872e-01j, -1.09179507-3.10575233e+00j,\n",
      "         -1.00076683+4.55179990e-01j,  2.98172756-2.17853887e-01j],\n",
      "        [ 1.98601092+1.23888285e-01j,  2.05599448-2.94260050e+00j,\n",
      "          3.99357891+0.00000000e+00j, -1.21265564-1.43898560e+00j,\n",
      "         -0.19869086-9.48256726e-01j,  0.78346456+7.18306660e-01j,\n",
      "          1.49316110+3.28519220e+00j, -1.63227389+8.81276791e-01j,\n",
      "          3.69032738-1.15969813e+00j,  1.36561298+2.56371956e+00j,\n",
      "         -1.63039214+7.33280196e-01j, -1.29188931+3.26559975e+00j,\n",
      "          0.53217024-5.99977078e-01j, -1.66101353-6.70667221e-01j,\n",
      "          0.47268616+2.90502078e-01j,  1.82030214-4.29465707e+00j],\n",
      "        [ 0.48801307+1.46091401e-01j,  0.85883458-9.22480991e-01j,\n",
      "         -1.21265564+1.43898560e+00j,  4.88570171+0.00000000e+00j,\n",
      "         -1.27210578-5.67351487e-01j, -0.99492556+9.37531462e-01j,\n",
      "          0.73583507+2.18931269e+00j, -2.33561095+2.09649352e+00j,\n",
      "         -2.16177485+2.21746312e+00j, -3.02406575+7.11725015e-01j,\n",
      "          3.16079645-1.39151858e+00j, -2.17278606-2.71303207e+00j,\n",
      "          0.27919475+2.30748128e+00j, -1.77727255+3.30891322e-01j,\n",
      "         -0.57250875+1.63953598e+00j,  1.70521178+3.82896898e+00j],\n",
      "        [-0.49943661+9.10647773e-01j,  0.92047002+1.78784010e+00j,\n",
      "         -0.19869086+9.48256726e-01j, -1.27210578+5.67351487e-01j,\n",
      "          1.08947758+0.00000000e+00j, -0.17212563-3.12956858e-01j,\n",
      "         -2.36686204-4.52763994e-01j,  0.34572087-2.15996281e+00j,\n",
      "          0.59761778+4.23785221e-01j, -0.16663122-5.51490110e-01j,\n",
      "         -1.20564412+3.93973083e-01j,  0.11623636-2.15536840e-01j,\n",
      "         -0.35696738-6.09224687e-01j,  1.15600520-1.15935968e+00j,\n",
      "         -0.26194711-6.17767544e-01j,  0.26547470+2.69949021e-03j],\n",
      "        [ 0.15424927-5.14674550e-01j, -0.73699602-7.20895332e-01j,\n",
      "          0.78346456-7.18306660e-01j, -0.99492556-9.37531462e-01j,\n",
      "         -0.17212563+3.12956858e-01j,  0.53569812+0.00000000e+00j,\n",
      "          1.16667822-4.72312884e-01j,  0.79620015+6.47655755e-01j,\n",
      "          0.81412857-6.39350316e-01j,  1.15701622+5.01103258e-01j,\n",
      "         -0.67994995-1.30339469e-01j,  0.23260865+1.33269570e+00j,\n",
      "          0.39077569-5.03359927e-01j,  0.02636675+6.27840095e-01j,\n",
      "          0.52551534-1.51231830e-01j, -0.09569160-1.55794569e+00j],\n",
      "        [ 1.16606747-2.65530565e+00j, -3.09460026-4.58880684e+00j,\n",
      "          1.49316110-3.28519220e+00j,  0.73583507-2.18931269e+00j,\n",
      "         -2.36686204+4.52763994e-01j,  1.16667822+4.72312884e-01j,\n",
      "          6.42339000+0.00000000e+00j,  0.57854982+5.08911664e+00j,\n",
      "         -0.08524308-2.18504860e+00j,  2.28045918+1.54398579e+00j,\n",
      "          1.34713747-6.70372428e-01j,  0.54754977+2.45809166e+00j,\n",
      "          1.11944022+3.36483894e-01j, -2.18933339+3.21766324e+00j,\n",
      "          1.25487517+8.58756002e-01j, -1.19269456-2.46470244e+00j],\n",
      "        [-1.89095919-9.92987331e-01j, -3.64306724+2.04403549e+00j,\n",
      "         -1.63227389-8.81276791e-01j, -2.33561095-2.09649352e+00j,\n",
      "          0.34572087+2.15996281e+00j,  0.79620015-6.47655755e-01j,\n",
      "          0.57854982-5.08911664e+00j,  4.62120427+0.00000000e+00j,\n",
      "         -0.45167974+4.00124945e-01j,  1.80402300-7.32215285e-01j,\n",
      "         -1.44273938-1.73750467e+00j,  1.19419609+7.64797575e-01j,\n",
      "          0.93634593-1.25342501e+00j,  2.65279669+2.04729005e+00j,\n",
      "          1.22453015-9.62608393e-01j, -0.75853429-3.45695160e-01j],\n",
      "        [ 1.31361221+7.33158012e-01j,  2.25764682-1.24585922e+00j,\n",
      "          3.69032738+1.15969813e+00j, -2.16177485-2.21746312e+00j,\n",
      "          0.59761778-4.23785221e-01j,  0.81412857+6.39350316e-01j,\n",
      "         -0.08524308+2.18504860e+00j, -0.45167974-4.00124945e-01j,\n",
      "          4.35096238+0.00000000e+00j,  1.26613907+2.62718787e+00j,\n",
      "         -2.86641692+2.38510968e-02j, -1.80373194+3.28666830e+00j,\n",
      "          0.84300824-1.13543730e+00j, -0.32227284-1.02892168e+00j,\n",
      "          0.67935277-1.19102387e-01j,  2.92030404-4.21702397e+00j],\n",
      "        [ 0.14717428-1.29184464e+00j, -2.00239861-1.35389776e+00j,\n",
      "          1.36561298-2.56371956e+00j, -3.02406575-7.11725015e-01j,\n",
      "         -0.16663122+5.51490110e-01j,  1.15701622-5.01103258e-01j,\n",
      "          2.28045918-1.54398579e+00j,  1.80402300+7.32215285e-01j,\n",
      "          1.26613907-2.62718787e+00j,  3.07242825+0.00000000e+00j,\n",
      "         -1.46690493+8.11146937e-01j,  1.92637085+2.82195284e+00j,\n",
      "          0.18475150-1.41787154e+00j,  0.24622220+1.16086795e+00j,\n",
      "          0.87355585-7.79639881e-01j, -1.96752270-3.60226881e+00j],\n",
      "        [ 0.12138516-6.39833602e-01j, -0.69814000-9.88032871e-01j,\n",
      "         -1.63039214-7.33280196e-01j,  3.16079645+1.39151858e+00j,\n",
      "         -1.20564412-3.93973083e-01j, -0.67994995+1.30339469e-01j,\n",
      "          1.34713747+6.70372428e-01j, -1.44273938+1.73750467e+00j,\n",
      "         -2.86641692-2.38510968e-02j, -1.46690493-8.11146937e-01j,\n",
      "          3.03147253+0.00000000e+00j,  0.29238271-2.21801821e+00j,\n",
      "         -0.44397064+1.59653866e+00j, -1.39929771+7.43677574e-01j,\n",
      "         -0.60366743+8.88547128e-01j, -1.28287982+2.89172648e+00j],\n",
      "        [-0.76840676-1.12271102e+00j, -2.41510079+2.91194242e-01j,\n",
      "         -1.29188931-3.26559975e+00j, -2.17278606+2.71303207e+00j,\n",
      "          0.11623636+2.15536840e-01j,  0.23260865-1.33269570e+00j,\n",
      "          0.54754977-2.45809166e+00j,  1.19419609-7.64797575e-01j,\n",
      "         -1.80373194-3.28666830e+00j,  1.92637085-2.82195284e+00j,\n",
      "          0.29238271+2.21801821e+00j,  3.96471013+0.00000000e+00j,\n",
      "         -1.34799415-8.41837245e-01j,  0.63703862+5.30742792e-01j,\n",
      "         -0.29189884-1.12306631e+00j, -4.93429643-5.24953785e-01j],\n",
      "        [ 0.05264518-2.64121809e-01j, -0.49644617-4.31292872e-01j,\n",
      "          0.53217024+5.99977078e-01j,  0.27919475-2.30748128e+00j,\n",
      "         -0.35696738+6.09224687e-01j,  0.39077569+5.03359927e-01j,\n",
      "          1.11944022-3.36483894e-01j,  0.93634593+1.25342501e+00j,\n",
      "          0.84300824+1.13543730e+00j,  0.18475150+1.41787154e+00j,\n",
      "         -0.44397064-1.59653866e+00j, -1.34799415+8.41837245e-01j,\n",
      "          1.10855472+0.00000000e+00j,  0.08860171+9.21887600e-01j,\n",
      "          0.75416137+3.54001428e-01j,  1.83135577-5.37367916e-01j],\n",
      "        [-1.65997630+4.11504850e-01j, -1.09179507+3.10575233e+00j,\n",
      "         -1.66101353+6.70667221e-01j, -1.77727255-3.30891322e-01j,\n",
      "          1.15600520+1.15935968e+00j,  0.02636675-6.27840095e-01j,\n",
      "         -2.18933339-3.21766324e+00j,  2.65279669-2.04729005e+00j,\n",
      "         -0.32227284+1.02892168e+00j,  0.24622220-1.16086795e+00j,\n",
      "         -1.39929771-7.43677574e-01j,  0.63703862-5.30742792e-01j,\n",
      "          0.08860171-9.21887600e-01j,  2.52735897+0.00000000e+00j,\n",
      "          0.24189090-9.65304810e-01j, -0.14498417+7.83685569e-01j],\n",
      "        [-0.05517385-5.28977239e-01j, -1.00076683-4.55179990e-01j,\n",
      "          0.47268616-2.90502078e-01j, -0.57250875-1.63953598e+00j,\n",
      "         -0.26194711+6.17767544e-01j,  0.52551534+1.51231830e-01j,\n",
      "          1.25487517-8.58756002e-01j,  1.22453015+9.62608393e-01j,\n",
      "          0.67935277+1.19102387e-01j,  0.87355585+7.79639881e-01j,\n",
      "         -0.60366743-8.88547128e-01j, -0.29189884+1.12306631e+00j,\n",
      "          0.75416137-3.54001428e-01j,  0.24189090+9.65304810e-01j,\n",
      "          0.70992929+0.00000000e+00j,  0.57332402-1.06900335e+00j],\n",
      "        [ 0.72519313+1.56691394e+00j,  2.98172756+2.17853887e-01j,\n",
      "          1.82030214+4.29465707e+00j,  1.70521178-3.82896898e+00j,\n",
      "          0.26547470-2.69949021e-03j, -0.09569160+1.55794569e+00j,\n",
      "         -1.19269456+2.46470244e+00j, -0.75853429+3.45695160e-01j,\n",
      "          2.92030404+4.21702397e+00j, -1.96752270+3.60226881e+00j,\n",
      "         -1.28287982-2.89172648e+00j, -4.93429643+5.24953785e-01j,\n",
      "          1.83135577+5.37367916e-01j, -0.14498417-7.83685569e-01j,\n",
      "          0.57332402+1.06900335e+00j,  6.44787268+0.00000000e+00j]],\n",
      "       dtype=torch.complex128)\n"
     ]
    }
   ],
   "source": [
    "XX = X@X.T.conj()\n",
    "print(XX)"
   ]
  },
  {
   "cell_type": "code",
   "execution_count": null,
   "metadata": {},
   "outputs": [],
   "source": [
    "[[ 0.78061957+0.j          0.07601179+0.68805429j -1.23559901-0.40182879j\n",
    "   1.18303852+0.45402626j]\n",
    " [ 0.07601179-0.68805429j  3.17078055+0.j          0.27068591+2.97482211j\n",
    "   3.25289552+0.88433786j]\n",
    " [-1.23559901+0.40182879j  0.27068591-2.97482211j  3.82883495+0.j\n",
    "   0.10898574-1.62175541j]\n",
    " [ 1.18303852-0.45402626j  3.25289552-0.88433786j  0.10898574+1.62175541j\n",
    "   6.37437797+0.j        ]]"
   ]
  },
  {
   "cell_type": "code",
   "execution_count": 32,
   "metadata": {},
   "outputs": [
    {
     "name": "stdout",
     "output_type": "stream",
     "text": [
      "tensor([[ 7.93377123+0.00000000j,  2.57394816+1.03908249j,\n",
      "         -2.49310668-0.19879975j,  0.86135778+0.44324618j],\n",
      "        [ 2.57394816-1.03908249j, 11.04164508+0.00000000j,\n",
      "          1.99765867+2.31612974j,  3.43642140+5.17577515j],\n",
      "        [-2.49310668+0.19879975j,  1.99765867-2.31612974j,\n",
      "         14.15837072+0.00000000j,  0.23160092+0.36310948j],\n",
      "        [ 0.86135778-0.44324618j,  3.43642140-5.17577515j,\n",
      "          0.23160092-0.36310948j, 19.91948879+0.00000000j]],\n",
      "       dtype=torch.complex128)\n"
     ]
    }
   ],
   "source": [
    "Y = partial_trace(XX)\n",
    "print(Y)"
   ]
  },
  {
   "cell_type": "code",
   "execution_count": 33,
   "metadata": {},
   "outputs": [
    {
     "name": "stdout",
     "output_type": "stream",
     "text": [
      "tensor([[ 0.38304621-1.04834151e-17j, -0.06244681+1.99506238e-02j,\n",
      "          0.04460696-1.37097699e-02j, -0.00584848-1.06625052e-02j],\n",
      "        [-0.06244681-1.99506238e-02j,  0.35163386-2.60208521e-18j,\n",
      "         -0.03657046+3.11896339e-02j, -0.03499307+5.52832084e-02j],\n",
      "        [ 0.04460696+1.37097699e-02j, -0.03657046-3.11896339e-02j,\n",
      "          0.28035946+1.35849101e-18j,  0.00830998-4.36286429e-04j],\n",
      "        [-0.00584848+1.06625052e-02j, -0.03499307-5.52832084e-02j,\n",
      "          0.00830998+4.36286429e-04j,  0.24045567+6.45406747e-18j]],\n",
      "       dtype=torch.complex128)\n"
     ]
    }
   ],
   "source": [
    "Y = square_root_inverse(Y)\n",
    "print(Y)"
   ]
  },
  {
   "cell_type": "code",
   "execution_count": null,
   "metadata": {},
   "outputs": [],
   "source": [
    "0.46982564+1.52046633e-19j\n",
    "-0.00539533+2.72307567e-02j\n",
    "-0.00539533-2.72307567e-02j\n",
    "0.3258792 -1.16520961e-17j"
   ]
  },
  {
   "cell_type": "code",
   "execution_count": 34,
   "metadata": {},
   "outputs": [
    {
     "name": "stdout",
     "output_type": "stream",
     "text": [
      "tensor([[ 0.38304621-1.04834151e-17j, -0.06244681-1.99506238e-02j,\n",
      "          0.04460696+1.37097699e-02j, -0.00584848+1.06625052e-02j,\n",
      "          0.00000000+0.00000000e+00j,  0.00000000-0.00000000e+00j,\n",
      "          0.00000000+0.00000000e+00j, -0.00000000+0.00000000e+00j,\n",
      "          0.00000000+0.00000000e+00j,  0.00000000-0.00000000e+00j,\n",
      "          0.00000000+0.00000000e+00j, -0.00000000+0.00000000e+00j,\n",
      "          0.00000000+0.00000000e+00j,  0.00000000-0.00000000e+00j,\n",
      "          0.00000000+0.00000000e+00j, -0.00000000+0.00000000e+00j],\n",
      "        [-0.06244681+1.99506238e-02j,  0.35163386-2.60208521e-18j,\n",
      "         -0.03657046-3.11896339e-02j, -0.03499307-5.52832084e-02j,\n",
      "         -0.00000000+0.00000000e+00j,  0.00000000+0.00000000e+00j,\n",
      "          0.00000000-0.00000000e+00j,  0.00000000-0.00000000e+00j,\n",
      "         -0.00000000+0.00000000e+00j,  0.00000000+0.00000000e+00j,\n",
      "          0.00000000-0.00000000e+00j,  0.00000000-0.00000000e+00j,\n",
      "         -0.00000000+0.00000000e+00j,  0.00000000+0.00000000e+00j,\n",
      "          0.00000000-0.00000000e+00j,  0.00000000-0.00000000e+00j],\n",
      "        [ 0.04460696-1.37097699e-02j, -0.03657046+3.11896339e-02j,\n",
      "          0.28035946+1.35849101e-18j,  0.00830998+4.36286429e-04j,\n",
      "          0.00000000+0.00000000e+00j, -0.00000000+0.00000000e+00j,\n",
      "          0.00000000+0.00000000e+00j,  0.00000000+0.00000000e+00j,\n",
      "          0.00000000+0.00000000e+00j, -0.00000000+0.00000000e+00j,\n",
      "          0.00000000+0.00000000e+00j,  0.00000000+0.00000000e+00j,\n",
      "          0.00000000+0.00000000e+00j, -0.00000000+0.00000000e+00j,\n",
      "          0.00000000+0.00000000e+00j,  0.00000000+0.00000000e+00j],\n",
      "        [-0.00584848-1.06625052e-02j, -0.03499307+5.52832084e-02j,\n",
      "          0.00830998-4.36286429e-04j,  0.24045567+6.45406747e-18j,\n",
      "          0.00000000-0.00000000e+00j, -0.00000000+0.00000000e+00j,\n",
      "          0.00000000+0.00000000e+00j,  0.00000000+0.00000000e+00j,\n",
      "          0.00000000-0.00000000e+00j, -0.00000000+0.00000000e+00j,\n",
      "          0.00000000+0.00000000e+00j,  0.00000000+0.00000000e+00j,\n",
      "          0.00000000-0.00000000e+00j, -0.00000000+0.00000000e+00j,\n",
      "          0.00000000+0.00000000e+00j,  0.00000000+0.00000000e+00j],\n",
      "        [ 0.00000000+0.00000000e+00j,  0.00000000-0.00000000e+00j,\n",
      "          0.00000000+0.00000000e+00j, -0.00000000+0.00000000e+00j,\n",
      "          0.38304621-1.04834151e-17j, -0.06244681-1.99506238e-02j,\n",
      "          0.04460696+1.37097699e-02j, -0.00584848+1.06625052e-02j,\n",
      "          0.00000000+0.00000000e+00j,  0.00000000-0.00000000e+00j,\n",
      "          0.00000000+0.00000000e+00j, -0.00000000+0.00000000e+00j,\n",
      "          0.00000000+0.00000000e+00j,  0.00000000-0.00000000e+00j,\n",
      "          0.00000000+0.00000000e+00j, -0.00000000+0.00000000e+00j],\n",
      "        [-0.00000000+0.00000000e+00j,  0.00000000+0.00000000e+00j,\n",
      "          0.00000000-0.00000000e+00j,  0.00000000-0.00000000e+00j,\n",
      "         -0.06244681+1.99506238e-02j,  0.35163386-2.60208521e-18j,\n",
      "         -0.03657046-3.11896339e-02j, -0.03499307-5.52832084e-02j,\n",
      "         -0.00000000+0.00000000e+00j,  0.00000000+0.00000000e+00j,\n",
      "          0.00000000-0.00000000e+00j,  0.00000000-0.00000000e+00j,\n",
      "         -0.00000000+0.00000000e+00j,  0.00000000+0.00000000e+00j,\n",
      "          0.00000000-0.00000000e+00j,  0.00000000-0.00000000e+00j],\n",
      "        [ 0.00000000+0.00000000e+00j, -0.00000000+0.00000000e+00j,\n",
      "          0.00000000+0.00000000e+00j,  0.00000000+0.00000000e+00j,\n",
      "          0.04460696-1.37097699e-02j, -0.03657046+3.11896339e-02j,\n",
      "          0.28035946+1.35849101e-18j,  0.00830998+4.36286429e-04j,\n",
      "          0.00000000+0.00000000e+00j, -0.00000000+0.00000000e+00j,\n",
      "          0.00000000+0.00000000e+00j,  0.00000000+0.00000000e+00j,\n",
      "          0.00000000+0.00000000e+00j, -0.00000000+0.00000000e+00j,\n",
      "          0.00000000+0.00000000e+00j,  0.00000000+0.00000000e+00j],\n",
      "        [ 0.00000000-0.00000000e+00j, -0.00000000+0.00000000e+00j,\n",
      "          0.00000000+0.00000000e+00j,  0.00000000+0.00000000e+00j,\n",
      "         -0.00584848-1.06625052e-02j, -0.03499307+5.52832084e-02j,\n",
      "          0.00830998-4.36286429e-04j,  0.24045567+6.45406747e-18j,\n",
      "          0.00000000-0.00000000e+00j, -0.00000000+0.00000000e+00j,\n",
      "          0.00000000+0.00000000e+00j,  0.00000000+0.00000000e+00j,\n",
      "          0.00000000-0.00000000e+00j, -0.00000000+0.00000000e+00j,\n",
      "          0.00000000+0.00000000e+00j,  0.00000000+0.00000000e+00j],\n",
      "        [ 0.00000000+0.00000000e+00j,  0.00000000-0.00000000e+00j,\n",
      "          0.00000000+0.00000000e+00j, -0.00000000+0.00000000e+00j,\n",
      "          0.00000000+0.00000000e+00j,  0.00000000-0.00000000e+00j,\n",
      "          0.00000000+0.00000000e+00j, -0.00000000+0.00000000e+00j,\n",
      "          0.38304621-1.04834151e-17j, -0.06244681-1.99506238e-02j,\n",
      "          0.04460696+1.37097699e-02j, -0.00584848+1.06625052e-02j,\n",
      "          0.00000000+0.00000000e+00j,  0.00000000-0.00000000e+00j,\n",
      "          0.00000000+0.00000000e+00j, -0.00000000+0.00000000e+00j],\n",
      "        [-0.00000000+0.00000000e+00j,  0.00000000+0.00000000e+00j,\n",
      "          0.00000000-0.00000000e+00j,  0.00000000-0.00000000e+00j,\n",
      "         -0.00000000+0.00000000e+00j,  0.00000000+0.00000000e+00j,\n",
      "          0.00000000-0.00000000e+00j,  0.00000000-0.00000000e+00j,\n",
      "         -0.06244681+1.99506238e-02j,  0.35163386-2.60208521e-18j,\n",
      "         -0.03657046-3.11896339e-02j, -0.03499307-5.52832084e-02j,\n",
      "         -0.00000000+0.00000000e+00j,  0.00000000+0.00000000e+00j,\n",
      "          0.00000000-0.00000000e+00j,  0.00000000-0.00000000e+00j],\n",
      "        [ 0.00000000+0.00000000e+00j, -0.00000000+0.00000000e+00j,\n",
      "          0.00000000+0.00000000e+00j,  0.00000000+0.00000000e+00j,\n",
      "          0.00000000+0.00000000e+00j, -0.00000000+0.00000000e+00j,\n",
      "          0.00000000+0.00000000e+00j,  0.00000000+0.00000000e+00j,\n",
      "          0.04460696-1.37097699e-02j, -0.03657046+3.11896339e-02j,\n",
      "          0.28035946+1.35849101e-18j,  0.00830998+4.36286429e-04j,\n",
      "          0.00000000+0.00000000e+00j, -0.00000000+0.00000000e+00j,\n",
      "          0.00000000+0.00000000e+00j,  0.00000000+0.00000000e+00j],\n",
      "        [ 0.00000000-0.00000000e+00j, -0.00000000+0.00000000e+00j,\n",
      "          0.00000000+0.00000000e+00j,  0.00000000+0.00000000e+00j,\n",
      "          0.00000000-0.00000000e+00j, -0.00000000+0.00000000e+00j,\n",
      "          0.00000000+0.00000000e+00j,  0.00000000+0.00000000e+00j,\n",
      "         -0.00584848-1.06625052e-02j, -0.03499307+5.52832084e-02j,\n",
      "          0.00830998-4.36286429e-04j,  0.24045567+6.45406747e-18j,\n",
      "          0.00000000-0.00000000e+00j, -0.00000000+0.00000000e+00j,\n",
      "          0.00000000+0.00000000e+00j,  0.00000000+0.00000000e+00j],\n",
      "        [ 0.00000000+0.00000000e+00j,  0.00000000-0.00000000e+00j,\n",
      "          0.00000000+0.00000000e+00j, -0.00000000+0.00000000e+00j,\n",
      "          0.00000000+0.00000000e+00j,  0.00000000-0.00000000e+00j,\n",
      "          0.00000000+0.00000000e+00j, -0.00000000+0.00000000e+00j,\n",
      "          0.00000000+0.00000000e+00j,  0.00000000-0.00000000e+00j,\n",
      "          0.00000000+0.00000000e+00j, -0.00000000+0.00000000e+00j,\n",
      "          0.38304621-1.04834151e-17j, -0.06244681-1.99506238e-02j,\n",
      "          0.04460696+1.37097699e-02j, -0.00584848+1.06625052e-02j],\n",
      "        [-0.00000000+0.00000000e+00j,  0.00000000+0.00000000e+00j,\n",
      "          0.00000000-0.00000000e+00j,  0.00000000-0.00000000e+00j,\n",
      "         -0.00000000+0.00000000e+00j,  0.00000000+0.00000000e+00j,\n",
      "          0.00000000-0.00000000e+00j,  0.00000000-0.00000000e+00j,\n",
      "         -0.00000000+0.00000000e+00j,  0.00000000+0.00000000e+00j,\n",
      "          0.00000000-0.00000000e+00j,  0.00000000-0.00000000e+00j,\n",
      "         -0.06244681+1.99506238e-02j,  0.35163386-2.60208521e-18j,\n",
      "         -0.03657046-3.11896339e-02j, -0.03499307-5.52832084e-02j],\n",
      "        [ 0.00000000+0.00000000e+00j, -0.00000000+0.00000000e+00j,\n",
      "          0.00000000+0.00000000e+00j,  0.00000000+0.00000000e+00j,\n",
      "          0.00000000+0.00000000e+00j, -0.00000000+0.00000000e+00j,\n",
      "          0.00000000+0.00000000e+00j,  0.00000000+0.00000000e+00j,\n",
      "          0.00000000+0.00000000e+00j, -0.00000000+0.00000000e+00j,\n",
      "          0.00000000+0.00000000e+00j,  0.00000000+0.00000000e+00j,\n",
      "          0.04460696-1.37097699e-02j, -0.03657046+3.11896339e-02j,\n",
      "          0.28035946+1.35849101e-18j,  0.00830998+4.36286429e-04j],\n",
      "        [ 0.00000000-0.00000000e+00j, -0.00000000+0.00000000e+00j,\n",
      "          0.00000000+0.00000000e+00j,  0.00000000+0.00000000e+00j,\n",
      "          0.00000000-0.00000000e+00j, -0.00000000+0.00000000e+00j,\n",
      "          0.00000000+0.00000000e+00j,  0.00000000+0.00000000e+00j,\n",
      "          0.00000000-0.00000000e+00j, -0.00000000+0.00000000e+00j,\n",
      "          0.00000000+0.00000000e+00j,  0.00000000+0.00000000e+00j,\n",
      "         -0.00584848-1.06625052e-02j, -0.03499307+5.52832084e-02j,\n",
      "          0.00830998-4.36286429e-04j,  0.24045567+6.45406747e-18j]],\n",
      "       dtype=torch.complex128)\n"
     ]
    }
   ],
   "source": [
    "I = torch.eye(d).type(torch.complex128)\n",
    "Ykron = torch.kron(I, Y).T\n",
    "print(Ykron)"
   ]
  },
  {
   "cell_type": "code",
   "execution_count": 35,
   "metadata": {},
   "outputs": [
    {
     "name": "stdout",
     "output_type": "stream",
     "text": [
      "tensor(4.00000000+2.61834825e-17j, dtype=torch.complex128)\n"
     ]
    }
   ],
   "source": [
    "choi = Ykron@XX@Ykron\n",
    "print(torch.trace(choi))"
   ]
  },
  {
   "cell_type": "code",
   "execution_count": null,
   "metadata": {},
   "outputs": [],
   "source": []
  },
  {
   "cell_type": "code",
   "execution_count": null,
   "metadata": {},
   "outputs": [],
   "source": []
  }
 ],
 "metadata": {
  "kernelspec": {
   "display_name": "qiskit",
   "language": "python",
   "name": "qiskit"
  },
  "language_info": {
   "codemirror_mode": {
    "name": "ipython",
    "version": 3
   },
   "file_extension": ".py",
   "mimetype": "text/x-python",
   "name": "python",
   "nbconvert_exporter": "python",
   "pygments_lexer": "ipython3",
   "version": "3.8.5"
  }
 },
 "nbformat": 4,
 "nbformat_minor": 4
}
