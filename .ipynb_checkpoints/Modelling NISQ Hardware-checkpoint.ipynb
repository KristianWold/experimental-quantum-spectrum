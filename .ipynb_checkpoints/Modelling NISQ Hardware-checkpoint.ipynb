{
 "cells": [
  {
   "cell_type": "markdown",
   "metadata": {},
   "source": [
    "# Modelling NIQS Hardware"
   ]
  },
  {
   "cell_type": "code",
   "execution_count": 5,
   "metadata": {},
   "outputs": [],
   "source": [
    "import numpy as np\n",
    "import qiskit as qk\n",
    "from qiskit.quantum_info import DensityMatrix\n",
    "from scipy.linalg import sqrtm\n",
    "\n",
    "np.set_printoptions(precision=2)"
   ]
  },
  {
   "cell_type": "code",
   "execution_count": 8,
   "metadata": {},
   "outputs": [],
   "source": [
    "def partial_trace(X, discard_first = True):\n",
    "    d = X.shape[0]\n",
    "    d_red = int(np.sqrt(d))\n",
    "    Y = np.zeros((d_red, d_red), dtype = \"complex128\")\n",
    "    I = np.eye(d_red)\n",
    "    \n",
    "    for i in range(d_red):\n",
    "        basis_vec = np.zeros((d_red, 1),  dtype = \"complex128\")\n",
    "        basis_vec[i, 0] = 1\n",
    "        \n",
    "        if discard_first:\n",
    "            basis_vec = np.kron(basis_vec, I)\n",
    "        else:\n",
    "            basis_vec = np.kron(I, basis_vec)\n",
    "        \n",
    "        Y = Y + basis_vec.T@X@basis_vec\n",
    "    \n",
    "    return Y\n",
    "\n",
    "\n",
    "def state_fidelity(A, B):\n",
    "    sqrtA = sqrtm(A)\n",
    "    fidelity = np.trace(sqrtm(sqrtA@B@sqrtA))\n",
    "    return fidelity\n",
    "\n",
    "\n",
    "def apply_map(state, choi):\n",
    "    d = state.shape[0]\n",
    "    \n",
    "    #reshuffle\n",
    "    choi = choi.reshape(d,d,d,d).swapaxes(1,2).reshape(d**2, d**2)\n",
    "    \n",
    "    #flatten\n",
    "    state = state.reshape(-1, 1)\n",
    "    \n",
    "    state = (choi@state).reshape(d, d)\n",
    "    return state\n",
    "    \n",
    "\n",
    "def prepare_input(config):\n",
    "    \"\"\"1 = |0>, 2 = |1>, 3 = |+>, 4 = |->, 5 = |+i>, 6 = |-i>\"\"\"\n",
    "    n = len(config)\n",
    "    circuit = qk.QuantumCircuit(n)\n",
    "    for i, gate in enumerate(config):\n",
    "        if gate == 2:\n",
    "            circuit.x(i)\n",
    "        if gate == 3:\n",
    "            circuit.h(i)\n",
    "        if gate == 4:\n",
    "            circuit.x(i)\n",
    "            circuit.h(i)\n",
    "        if gate == 5:\n",
    "            circuit.h(i)\n",
    "            circuit.s(i)\n",
    "        if gate == 6:\n",
    "            circuit.x(i)\n",
    "            circuit.h(i)\n",
    "            circuit.s(i)\n",
    "        \n",
    "            \n",
    "    rho = DensityMatrix(circuit)\n",
    "    return rho.data\n",
    "\n",
    "\n",
    "def generate_choi(X):\n",
    "    d = int(np.sqrt(X.shape[0]))  # dim of Hilbert space\n",
    "    I = np.eye(d)\n",
    "\n",
    "    #partial trace\n",
    "    Y = partial_trace(X@(X.conj().T), discard_first = True)\n",
    "    sqrtYinv = np.linalg.inv(sqrtm(Y))\n",
    "\n",
    "    #choi\n",
    "    choi = np.kron(I, sqrtYinv)@X@(X.conj().T)@np.kron(I, sqrtYinv)\n",
    "    \n",
    "    return choi"
   ]
  },
  {
   "cell_type": "code",
   "execution_count": null,
   "metadata": {
    "scrolled": true
   },
   "outputs": [
    {
     "name": "stdout",
     "output_type": "stream",
     "text": [
      "0: 0.3837\n",
      "1: 0.3838\n"
     ]
    }
   ],
   "source": [
    "#1 = |0>, 2 = |1>, 3 = |+>, 4 = |->, 5 = |i+>, 6 = |i->\n",
    "state_input = prepare_input([3, 3])\n",
    "h = 1e-5\n",
    "n = 2\n",
    "d = 2**n\n",
    "\n",
    "np.random.seed(42)\n",
    "\n",
    "X_target = np.random.normal(0, 1, (d**2, 1)) + 1j*np.random.normal(0, 1, (d**2, 1))\n",
    "choi_target = generate_choi(X_target)\n",
    "state_target = apply_map(state_input, choi_target)\n",
    "\n",
    "X_zero = np.random.normal(0, 1, (d**2, d**2)) + 1j*np.random.normal(0, 1, (d**2, d**2))\n",
    "choi_zero = generate_choi(X_zero)\n",
    "state_zero = apply_map(state_input, choi_zero)\n",
    "fid_zero = state_fidelity(state_zero, state_target)\n",
    "\n",
    "for steps in range(10000):  \n",
    "    grad_list = []\n",
    "\n",
    "    for i in range(d**2):\n",
    "        for j in range(d**2):\n",
    "            X_plus = np.copy(X_zero)\n",
    "            X_plus[i, j] += (1 + 1j)*h\n",
    "            choi_plus = generate_choi(X_plus)\n",
    "            state_plus = apply_map(state_input, choi_plus)\n",
    "            fid_plus = state_fidelity(state_plus, state_target)\n",
    "            \n",
    "            X_minus = np.copy(X_zero)\n",
    "            X_minus[i, j] -= (1 + 1j)*h\n",
    "            choi_minus = generate_choi(X_minus)\n",
    "            state_minus = apply_map(state_input, choi_minus)\n",
    "            fid_minus = state_fidelity(state_minus, state_target)\n",
    "\n",
    "            grad = (fid_plus-fid_minus)/(2*h)\n",
    "            grad_list.append(grad)\n",
    "            \n",
    "    for i in range(d**2):\n",
    "        for j in range(d**2):\n",
    "            X_zero[i, j] += 0.1*grad_list[d**2*i + j]\n",
    "            \n",
    "    choi_zero = generate_choi(X_zero)\n",
    "    state_zero = apply_map(state_input, choi_zero)\n",
    "    fid_zero = state_fidelity(state_zero, state_target)\n",
    "    \n",
    "    print(f\"{steps}: {np.abs(fid_zero):.4f}\")"
   ]
  },
  {
   "cell_type": "code",
   "execution_count": null,
   "metadata": {},
   "outputs": [],
   "source": []
  },
  {
   "cell_type": "code",
   "execution_count": null,
   "metadata": {},
   "outputs": [],
   "source": []
  }
 ],
 "metadata": {
  "kernelspec": {
   "display_name": "qiskit",
   "language": "python",
   "name": "qiskit"
  },
  "language_info": {
   "codemirror_mode": {
    "name": "ipython",
    "version": 3
   },
   "file_extension": ".py",
   "mimetype": "text/x-python",
   "name": "python",
   "nbconvert_exporter": "python",
   "pygments_lexer": "ipython3",
   "version": "3.8.5"
  }
 },
 "nbformat": 4,
 "nbformat_minor": 4
}
