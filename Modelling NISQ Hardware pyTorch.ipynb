{
 "cells": [
  {
   "cell_type": "markdown",
   "metadata": {},
   "source": [
    "# Modelling NIQS Hardware pyTorch"
   ]
  },
  {
   "cell_type": "code",
   "execution_count": 5,
   "metadata": {},
   "outputs": [],
   "source": [
    "import numpy as np\n",
    "import qiskit as qk\n",
    "import matplotlib.pyplot as plt\n",
    "import multiprocessing as mp\n",
    "import random\n",
    "from qiskit.quantum_info import DensityMatrix\n",
    "from qiskit.quantum_info import Operator\n",
    "from scipy.linalg import sqrtm\n",
    "from tqdm.notebook import tqdm\n",
    "from sqrtm import sqrtm\n",
    "\n",
    "from src_torch import *\n",
    "\n",
    "np.set_printoptions(precision=2)"
   ]
  },
  {
   "cell_type": "markdown",
   "metadata": {},
   "source": [
    "## Test"
   ]
  },
  {
   "cell_type": "code",
   "execution_count": 11,
   "metadata": {},
   "outputs": [],
   "source": [
    "torch.manual_seed(42)\n",
    "X = (torch.normal(0, 1, (16, 5)) + 1j*torch.normal(0, 1, (16, 5))).requires_grad_()\n",
    "XX = X@torch.conj(X.t())\n",
    "Y = square_inverse(partial_trace(XX))\n",
    "\n",
    "choi = torch.kron(torch.eye(4), Y)@XX@torch.kron(torch.eye(4), Y)\n",
    "\n",
    "X = (torch.normal(0, 1, (16, 5)) + 1j*torch.normal(0, 1, (16, 5)))\n",
    "XX = X@torch.conj(X.t())\n",
    "Y = square_inverse(partial_trace(XX))\n",
    "\n",
    "choi_target = torch.kron(torch.eye(4), Y)@XX@torch.kron(torch.eye(4), Y)"
   ]
  },
  {
   "cell_type": "code",
   "execution_count": null,
   "metadata": {},
   "outputs": [],
   "source": []
  }
 ],
 "metadata": {
  "kernelspec": {
   "display_name": "qiskit",
   "language": "python",
   "name": "qiskit"
  },
  "language_info": {
   "codemirror_mode": {
    "name": "ipython",
    "version": 3
   },
   "file_extension": ".py",
   "mimetype": "text/x-python",
   "name": "python",
   "nbconvert_exporter": "python",
   "pygments_lexer": "ipython3",
   "version": "3.8.5"
  }
 },
 "nbformat": 4,
 "nbformat_minor": 4
}
