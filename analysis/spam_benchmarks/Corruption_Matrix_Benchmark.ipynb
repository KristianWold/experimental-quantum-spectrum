{
 "cells": [
  {
   "attachments": {},
   "cell_type": "markdown",
   "metadata": {},
   "source": [
    "# Corruption Matrix Benchmark\n",
    "\n",
    "Benchmarking how the the full SPAM description perform with respected to the reduced Corruption Matrix description"
   ]
  },
  {
   "cell_type": "code",
   "execution_count": 2,
   "metadata": {},
   "outputs": [],
   "source": [
    "import sys\n",
    "sys.path.insert(0, '../../src_tf/')\n",
    "\n",
    "import numpy as np\n",
    "import tensorflow as tf\n",
    "import random\n",
    "\n",
    "from tqdm.notebook import tqdm\n",
    "\n",
    "\n",
    "from quantum_tools import state_fidelity\n",
    "from spam import InitialState, POVM, SPAM, CorruptionMatrix, povm_fidelity\n",
    "from utils import saver\n",
    "from synthetic_data import generate_spam_data, generate_spam_benchmark\n",
    "\n",
    "#np.set_printoptions(threshold=sys.maxsize)\n",
    "np.set_printoptions(precision=4)\n",
    "\n",
    "import os\n",
    "os.environ[\"CUDA_VISIBLE_DEVICES\"] = \"-1\""
   ]
  },
  {
   "attachments": {},
   "cell_type": "markdown",
   "metadata": {},
   "source": [
    "## Fit SPAM model\n",
    "\n",
    "### Generate Synthetic Data"
   ]
  },
  {
   "cell_type": "code",
   "execution_count": 7,
   "metadata": {},
   "outputs": [],
   "source": [
    "def spam_pipeline(n, \n",
    "                  c1, \n",
    "                  c2,\n",
    "                  shots,\n",
    "                  use_corr = False,\n",
    "                  num_iter = 2000):\n",
    "    spam_target = generate_spam_benchmark(n=n, c1=c1, c2=c2)\n",
    "    inputs_spam, targets_spam = generate_spam_data(spam_target, N_spam=None, shots=shots)\n",
    "\n",
    "    d = spam_target.d\n",
    "    \n",
    "    if use_corr:\n",
    "        povm = CorruptionMatrix(d)\n",
    "    else:\n",
    "        povm = POVM(d)\n",
    "        \n",
    "    spam_model = SPAM(init = InitialState(d),\n",
    "                      povm = povm,\n",
    "                      optimizer = tf.optimizers.Adam(learning_rate=0.01))\n",
    "\n",
    "    spam_model.pretrain(num_iter = 500, verbose=False)\n",
    "\n",
    "    spam_model.train(inputs = inputs_spam,\n",
    "                     targets = targets_spam,\n",
    "                     num_iter = num_iter,\n",
    "                     verbose = False,\n",
    "                    )\n",
    "    \n",
    "    return spam_target, spam_model"
   ]
  },
  {
   "attachments": {},
   "cell_type": "markdown",
   "metadata": {},
   "source": [
    "## Three Qubit"
   ]
  },
  {
   "cell_type": "code",
   "execution_count": null,
   "metadata": {
    "scrolled": true
   },
   "outputs": [
    {
     "data": {
      "application/vnd.jupyter.widget-view+json": {
       "model_id": "4e0413c44085424b86276cc0e0234a1f",
       "version_major": 2,
       "version_minor": 0
      },
      "text/plain": [
       "  0%|          | 0/11 [00:00<?, ?it/s]"
      ]
     },
     "metadata": {},
     "output_type": "display_data"
    },
    {
     "data": {
      "application/vnd.jupyter.widget-view+json": {
       "model_id": "837c72e748da48768b532b84299085ee",
       "version_major": 2,
       "version_minor": 0
      },
      "text/plain": [
       "  0%|          | 0/2000 [00:00<?, ?it/s]"
      ]
     },
     "metadata": {},
     "output_type": "display_data"
    },
    {
     "name": "stdout",
     "output_type": "stream",
     "text": [
      "step 0: loss = 0.01146220664442931\n",
      "step 100: loss = 0.005418774133147164\n",
      "step 200: loss = 0.005263088340160698\n",
      "step 300: loss = 0.00523393298354888\n",
      "step 400: loss = 0.0052253624466870275\n",
      "step 500: loss = 0.00522172406403937\n",
      "step 600: loss = 0.005220473526391432\n",
      "step 700: loss = 0.005220082239315998\n",
      "step 800: loss = 0.005219973795319876\n",
      "step 900: loss = 0.005219947781969559\n",
      "step 1000: loss = 0.005219942229535362\n",
      "step 1100: loss = 0.005219941016726358\n",
      "step 1200: loss = 0.005219940639927567\n",
      "step 1300: loss = 0.005219940456493003\n",
      "step 1400: loss = 0.0052199403541300475\n",
      "step 1500: loss = 0.005219940299802365\n",
      "step 1600: loss = 0.005219940273237831\n",
      "step 1700: loss = 0.005219940261059097\n",
      "step 1800: loss = 0.005219940255663438\n",
      "step 1900: loss = 0.005219940253285266\n"
     ]
    },
    {
     "data": {
      "application/vnd.jupyter.widget-view+json": {
       "model_id": "4d185fc7e4874eb2933a4d96cc295875",
       "version_major": 2,
       "version_minor": 0
      },
      "text/plain": [
       "  0%|          | 0/2000 [00:00<?, ?it/s]"
      ]
     },
     "metadata": {},
     "output_type": "display_data"
    },
    {
     "name": "stdout",
     "output_type": "stream",
     "text": [
      "step 0: loss = 0.010914444531619903\n",
      "step 100: loss = 0.005044101796054829\n",
      "step 200: loss = 0.0048433079248347876\n",
      "step 300: loss = 0.004811373240352975\n",
      "step 400: loss = 0.004801141946935673\n",
      "step 500: loss = 0.004794453252449086\n",
      "step 600: loss = 0.00479138711869378\n",
      "step 700: loss = 0.004790610978694308\n",
      "step 800: loss = 0.004790256751395339\n",
      "step 900: loss = 0.004790086936760714\n",
      "step 1000: loss = 0.004790009461867462\n",
      "step 1100: loss = 0.004789976438378662\n",
      "step 1200: loss = 0.004789963392565634\n",
      "step 1300: loss = 0.004789958639500511\n",
      "step 1400: loss = 0.004789957048317212\n",
      "step 1500: loss = 0.004789956560505716\n",
      "step 1600: loss = 0.0047899564240213525\n",
      "step 1700: loss = 0.004789956389298378\n",
      "step 1800: loss = 0.004789956381297838\n",
      "step 1900: loss = 0.004789956379635518\n"
     ]
    },
    {
     "data": {
      "application/vnd.jupyter.widget-view+json": {
       "model_id": "d4502d9d6353480aac3a132c1da2d2d1",
       "version_major": 2,
       "version_minor": 0
      },
      "text/plain": [
       "  0%|          | 0/2000 [00:00<?, ?it/s]"
      ]
     },
     "metadata": {},
     "output_type": "display_data"
    },
    {
     "name": "stdout",
     "output_type": "stream",
     "text": [
      "step 0: loss = 0.010110247152940288\n",
      "step 100: loss = 0.004338688138458652\n",
      "step 200: loss = 0.004199161090977416\n",
      "step 300: loss = 0.004166413874483931\n",
      "step 400: loss = 0.004157944817488053\n",
      "step 500: loss = 0.004154630986824541\n",
      "step 600: loss = 0.004153168147076816\n",
      "step 700: loss = 0.004152474581568065\n",
      "step 800: loss = 0.00415212418404796\n",
      "step 900: loss = 0.004151943296356147\n",
      "step 1000: loss = 0.004151849734193161\n",
      "step 1100: loss = 0.004151801474421031\n",
      "step 1200: loss = 0.004151776727706553\n",
      "step 1300: loss = 0.0041517641859551814\n",
      "step 1400: loss = 0.004151757956149476\n",
      "step 1500: loss = 0.0041517549510005185\n",
      "step 1600: loss = 0.0041517535552914086\n",
      "step 1700: loss = 0.00415175293573543\n",
      "step 1800: loss = 0.0041517526744474335\n",
      "step 1900: loss = 0.004151752570269913\n"
     ]
    },
    {
     "data": {
      "application/vnd.jupyter.widget-view+json": {
       "model_id": "44d09401691b4fa7afdfdea95fa9d936",
       "version_major": 2,
       "version_minor": 0
      },
      "text/plain": [
       "  0%|          | 0/2000 [00:00<?, ?it/s]"
      ]
     },
     "metadata": {},
     "output_type": "display_data"
    },
    {
     "name": "stdout",
     "output_type": "stream",
     "text": [
      "step 0: loss = 0.009994755677235644\n",
      "step 100: loss = 0.004360556861564928\n",
      "step 200: loss = 0.004222997445799836\n",
      "step 300: loss = 0.004191551861324445\n",
      "step 400: loss = 0.004182716993100503\n",
      "step 500: loss = 0.0041798914065940985\n",
      "step 600: loss = 0.004178503016382505\n",
      "step 700: loss = 0.004177699607710576\n",
      "step 800: loss = 0.00417720575725375\n",
      "step 900: loss = 0.004176888907754528\n",
      "step 1000: loss = 0.0041766838157024765\n",
      "step 1100: loss = 0.0041765524629175385\n",
      "step 1200: loss = 0.004176470117113083\n",
      "step 1300: loss = 0.004176419931339117\n",
      "step 1400: loss = 0.004176390325808803\n",
      "step 1500: loss = 0.004176373444198176\n",
      "step 1600: loss = 0.0041763640990829624\n",
      "step 1700: loss = 0.004176358999688775\n",
      "step 1800: loss = 0.00417635619110659\n",
      "step 1900: loss = 0.0041763546393945895\n"
     ]
    },
    {
     "data": {
      "application/vnd.jupyter.widget-view+json": {
       "model_id": "ea50699c847248adb0693da7418f4eb7",
       "version_major": 2,
       "version_minor": 0
      },
      "text/plain": [
       "  0%|          | 0/2000 [00:00<?, ?it/s]"
      ]
     },
     "metadata": {},
     "output_type": "display_data"
    }
   ],
   "source": [
    "n = 3\n",
    "d = 2**n\n",
    "c1 = 0.9\n",
    "c2 = 0.8\n",
    "\n",
    "\n",
    "num_reps = 10\n",
    "shots_list = np.linspace(7, 16, 10)\n",
    "shots_list = 2**shots_list\n",
    "shots_list = np.append(shots_list, 0)\n",
    "\n",
    "init_fid_list = np.zeros((len(shots_list), num_reps))\n",
    "povm_fid_list = np.zeros((len(shots_list), num_reps))\n",
    "\n",
    "for i, shots in enumerate(tqdm(shots_list)):   \n",
    "    np.random.seed(42)\n",
    "    random.seed(42)\n",
    "    tf.random.set_seed(42)\n",
    "    for rep in range(num_reps):    \n",
    "        spam_model, spam_target = spam_pipeline(n=n,\n",
    "                                                c1=c1,\n",
    "                                                c2=c2,\n",
    "                                                shots = shots,\n",
    "                                                use_corr=False,\n",
    "                                                num_iter = 2000,\n",
    "                                                )\n",
    "        \n",
    "        init_fid_list[i, rep] = state_fidelity(spam_model.init.init, spam_target.init.init)\n",
    "        povm_fid_list[i, rep] = povm_fidelity(spam_model.povm.povm, spam_target.povm.povm)\n",
    "        \n",
    "saver([init_fid_list, povm_fid_list], \"data/spam_fidelity_3qubit_full_retry.data\")"
   ]
  },
  {
   "cell_type": "code",
   "execution_count": null,
   "metadata": {
    "scrolled": true
   },
   "outputs": [
    {
     "data": {
      "application/vnd.jupyter.widget-view+json": {
       "model_id": "9275fa5e3766483992eaf368d0ed9c8b",
       "version_major": 2,
       "version_minor": 0
      },
      "text/plain": [
       "  0%|          | 0/11 [00:00<?, ?it/s]"
      ]
     },
     "metadata": {},
     "output_type": "display_data"
    }
   ],
   "source": [
    "n = 3\n",
    "d = 2**n\n",
    "c1 = 0.9\n",
    "c2 = 0.8\n",
    "\n",
    "\n",
    "num_reps = 10\n",
    "shots_list = np.linspace(7, 16, 10)\n",
    "shots_list = 2**shots_list\n",
    "shots_list = np.append(shots_list, 0)\n",
    "\n",
    "init_fid_list = np.zeros((len(shots_list), num_reps))\n",
    "povm_fid_list = np.zeros((len(shots_list), num_reps))\n",
    "\n",
    "for i, shots in enumerate(tqdm(shots_list)):   \n",
    "    np.random.seed(42)\n",
    "    random.seed(42)\n",
    "    tf.random.set_seed(42)\n",
    "    for rep in range(num_reps):    \n",
    "        spam_model, spam_target = spam_pipeline(n=n,\n",
    "                                                c1=c1,\n",
    "                                                c2=c2,\n",
    "                                                shots = shots,\n",
    "                                                use_corr=True,\n",
    "                                                num_iter = 2000,\n",
    "                                                )\n",
    "        \n",
    "        init_fid_list[i, rep] = state_fidelity(spam_model.init.init, spam_target.init.init)\n",
    "        povm_fid_list[i, rep] = povm_fidelity(spam_model.povm.povm, spam_target.povm.povm)\n",
    "        \n",
    "#saver([init_fid_list, povm_fid_list], data_path(\"spam_fidelity_3qubit_full.data\"))\n",
    "saver([init_fid_list, povm_fid_list], \"data/spam_fidelity_3qubit_corr_retry.data\")"
   ]
  },
  {
   "attachments": {},
   "cell_type": "markdown",
   "metadata": {},
   "source": [
    "## Four Qubit"
   ]
  },
  {
   "cell_type": "code",
   "execution_count": 8,
   "metadata": {},
   "outputs": [
    {
     "data": {
      "application/vnd.jupyter.widget-view+json": {
       "model_id": "7038c1dd4a0e41b39c5dd19bf2da3167",
       "version_major": 2,
       "version_minor": 0
      },
      "text/plain": [
       "  0%|          | 0/11 [00:00<?, ?it/s]"
      ]
     },
     "metadata": {},
     "output_type": "display_data"
    },
    {
     "name": "stdout",
     "output_type": "stream",
     "text": [
      "WARNING:tensorflow:You are casting an input of type complex128 to an incompatible dtype float64.  This will discard the imaginary part and may not be what you intended.\n"
     ]
    },
    {
     "ename": "KeyboardInterrupt",
     "evalue": "",
     "output_type": "error",
     "traceback": [
      "\u001b[1;31m---------------------------------------------------------------------------\u001b[0m",
      "\u001b[1;31mKeyboardInterrupt\u001b[0m                         Traceback (most recent call last)",
      "Cell \u001b[1;32mIn[8], line 20\u001b[0m\n\u001b[0;32m     18\u001b[0m tf\u001b[38;5;241m.\u001b[39mrandom\u001b[38;5;241m.\u001b[39mset_seed(\u001b[38;5;241m42\u001b[39m)\n\u001b[0;32m     19\u001b[0m \u001b[38;5;28;01mfor\u001b[39;00m rep \u001b[38;5;129;01min\u001b[39;00m \u001b[38;5;28mrange\u001b[39m(num_reps):    \n\u001b[1;32m---> 20\u001b[0m     spam_model, spam_target \u001b[38;5;241m=\u001b[39m \u001b[43mspam_pipeline\u001b[49m\u001b[43m(\u001b[49m\u001b[43mn\u001b[49m\u001b[38;5;241;43m=\u001b[39;49m\u001b[43mn\u001b[49m\u001b[43m,\u001b[49m\n\u001b[0;32m     21\u001b[0m \u001b[43m                                            \u001b[49m\u001b[43mc1\u001b[49m\u001b[38;5;241;43m=\u001b[39;49m\u001b[43mc1\u001b[49m\u001b[43m,\u001b[49m\n\u001b[0;32m     22\u001b[0m \u001b[43m                                            \u001b[49m\u001b[43mc2\u001b[49m\u001b[38;5;241;43m=\u001b[39;49m\u001b[43mc2\u001b[49m\u001b[43m,\u001b[49m\n\u001b[0;32m     23\u001b[0m \u001b[43m                                            \u001b[49m\u001b[43mshots\u001b[49m\u001b[43m \u001b[49m\u001b[38;5;241;43m=\u001b[39;49m\u001b[43m \u001b[49m\u001b[43mshots\u001b[49m\u001b[43m,\u001b[49m\n\u001b[0;32m     24\u001b[0m \u001b[43m                                            \u001b[49m\u001b[43muse_corr\u001b[49m\u001b[38;5;241;43m=\u001b[39;49m\u001b[38;5;28;43;01mFalse\u001b[39;49;00m\u001b[43m,\u001b[49m\n\u001b[0;32m     25\u001b[0m \u001b[43m                                            \u001b[49m\u001b[43mnum_iter\u001b[49m\u001b[43m \u001b[49m\u001b[38;5;241;43m=\u001b[39;49m\u001b[43m \u001b[49m\u001b[38;5;241;43m2000\u001b[39;49m\u001b[43m,\u001b[49m\n\u001b[0;32m     26\u001b[0m \u001b[43m                                            \u001b[49m\u001b[43m)\u001b[49m\n\u001b[0;32m     28\u001b[0m     init_fid_list[i, rep] \u001b[38;5;241m=\u001b[39m state_fidelity(spam_model\u001b[38;5;241m.\u001b[39minit\u001b[38;5;241m.\u001b[39minit, spam_target\u001b[38;5;241m.\u001b[39minit\u001b[38;5;241m.\u001b[39minit)\n\u001b[0;32m     29\u001b[0m     povm_fid_list[i, rep] \u001b[38;5;241m=\u001b[39m povm_fidelity(spam_model\u001b[38;5;241m.\u001b[39mpovm\u001b[38;5;241m.\u001b[39mpovm, spam_target\u001b[38;5;241m.\u001b[39mpovm\u001b[38;5;241m.\u001b[39mpovm)\n",
      "Cell \u001b[1;32mIn[7], line 23\u001b[0m, in \u001b[0;36mspam_pipeline\u001b[1;34m(n, c1, c2, shots, use_corr, num_iter)\u001b[0m\n\u001b[0;32m     17\u001b[0m spam_model \u001b[38;5;241m=\u001b[39m SPAM(init \u001b[38;5;241m=\u001b[39m InitialState(d),\n\u001b[0;32m     18\u001b[0m                   povm \u001b[38;5;241m=\u001b[39m povm,\n\u001b[0;32m     19\u001b[0m                   optimizer \u001b[38;5;241m=\u001b[39m tf\u001b[38;5;241m.\u001b[39moptimizers\u001b[38;5;241m.\u001b[39mAdam(learning_rate\u001b[38;5;241m=\u001b[39m\u001b[38;5;241m0.01\u001b[39m))\n\u001b[0;32m     21\u001b[0m spam_model\u001b[38;5;241m.\u001b[39mpretrain(num_iter \u001b[38;5;241m=\u001b[39m \u001b[38;5;241m500\u001b[39m, verbose\u001b[38;5;241m=\u001b[39m\u001b[38;5;28;01mFalse\u001b[39;00m)\n\u001b[1;32m---> 23\u001b[0m \u001b[43mspam_model\u001b[49m\u001b[38;5;241;43m.\u001b[39;49m\u001b[43mtrain\u001b[49m\u001b[43m(\u001b[49m\u001b[43minputs\u001b[49m\u001b[43m \u001b[49m\u001b[38;5;241;43m=\u001b[39;49m\u001b[43m \u001b[49m\u001b[43minputs_spam\u001b[49m\u001b[43m,\u001b[49m\n\u001b[0;32m     24\u001b[0m \u001b[43m                 \u001b[49m\u001b[43mtargets\u001b[49m\u001b[43m \u001b[49m\u001b[38;5;241;43m=\u001b[39;49m\u001b[43m \u001b[49m\u001b[43mtargets_spam\u001b[49m\u001b[43m,\u001b[49m\n\u001b[0;32m     25\u001b[0m \u001b[43m                 \u001b[49m\u001b[43mnum_iter\u001b[49m\u001b[43m \u001b[49m\u001b[38;5;241;43m=\u001b[39;49m\u001b[43m \u001b[49m\u001b[43mnum_iter\u001b[49m\u001b[43m,\u001b[49m\n\u001b[0;32m     26\u001b[0m \u001b[43m                 \u001b[49m\u001b[43mverbose\u001b[49m\u001b[43m \u001b[49m\u001b[38;5;241;43m=\u001b[39;49m\u001b[43m \u001b[49m\u001b[38;5;28;43;01mFalse\u001b[39;49;00m\u001b[43m,\u001b[49m\n\u001b[0;32m     27\u001b[0m \u001b[43m                \u001b[49m\u001b[43m)\u001b[49m\n\u001b[0;32m     29\u001b[0m \u001b[38;5;28;01mreturn\u001b[39;00m spam_target, spam_model\n",
      "File \u001b[1;32mc:\\Users\\krist\\Documents\\experimental-quantum-spectrum\\analysis\\spam_benchmarks\\../../src_tf\\spam.py:163\u001b[0m, in \u001b[0;36mSPAM.train\u001b[1;34m(self, num_iter, inputs, targets, N, verbose)\u001b[0m\n\u001b[0;32m    160\u001b[0m inputs_batch \u001b[38;5;241m=\u001b[39m tf\u001b[38;5;241m.\u001b[39mgather(inputs, batch, axis\u001b[38;5;241m=\u001b[39m\u001b[38;5;241m0\u001b[39m)\n\u001b[0;32m    161\u001b[0m targets_batch \u001b[38;5;241m=\u001b[39m tf\u001b[38;5;241m.\u001b[39mgather(targets, batch, axis\u001b[38;5;241m=\u001b[39m\u001b[38;5;241m0\u001b[39m)\n\u001b[1;32m--> 163\u001b[0m loss \u001b[38;5;241m=\u001b[39m \u001b[38;5;28;43mself\u001b[39;49m\u001b[38;5;241;43m.\u001b[39;49m\u001b[43mtrain_step\u001b[49m\u001b[43m(\u001b[49m\u001b[43minputs_batch\u001b[49m\u001b[43m,\u001b[49m\u001b[43m \u001b[49m\u001b[43mtargets_batch\u001b[49m\u001b[43m,\u001b[49m\u001b[43m \u001b[49m\u001b[43mN\u001b[49m\u001b[43m)\u001b[49m\n\u001b[0;32m    165\u001b[0m \u001b[38;5;28;01mif\u001b[39;00m verbose:\n\u001b[0;32m    166\u001b[0m     \u001b[38;5;28;01mif\u001b[39;00m step \u001b[38;5;241m%\u001b[39m \u001b[38;5;241m100\u001b[39m \u001b[38;5;241m==\u001b[39m \u001b[38;5;241m0\u001b[39m:\n",
      "File \u001b[1;32mc:\\Users\\krist\\anaconda3\\envs\\env_phd\\lib\\site-packages\\tensorflow\\python\\util\\traceback_utils.py:150\u001b[0m, in \u001b[0;36mfilter_traceback.<locals>.error_handler\u001b[1;34m(*args, **kwargs)\u001b[0m\n\u001b[0;32m    148\u001b[0m filtered_tb \u001b[38;5;241m=\u001b[39m \u001b[38;5;28;01mNone\u001b[39;00m\n\u001b[0;32m    149\u001b[0m \u001b[38;5;28;01mtry\u001b[39;00m:\n\u001b[1;32m--> 150\u001b[0m   \u001b[38;5;28;01mreturn\u001b[39;00m fn(\u001b[38;5;241m*\u001b[39margs, \u001b[38;5;241m*\u001b[39m\u001b[38;5;241m*\u001b[39mkwargs)\n\u001b[0;32m    151\u001b[0m \u001b[38;5;28;01mexcept\u001b[39;00m \u001b[38;5;167;01mException\u001b[39;00m \u001b[38;5;28;01mas\u001b[39;00m e:\n\u001b[0;32m    152\u001b[0m   filtered_tb \u001b[38;5;241m=\u001b[39m _process_traceback_frames(e\u001b[38;5;241m.\u001b[39m__traceback__)\n",
      "File \u001b[1;32mc:\\Users\\krist\\anaconda3\\envs\\env_phd\\lib\\site-packages\\tensorflow\\python\\eager\\polymorphic_function\\polymorphic_function.py:833\u001b[0m, in \u001b[0;36mFunction.__call__\u001b[1;34m(self, *args, **kwds)\u001b[0m\n\u001b[0;32m    830\u001b[0m compiler \u001b[38;5;241m=\u001b[39m \u001b[38;5;124m\"\u001b[39m\u001b[38;5;124mxla\u001b[39m\u001b[38;5;124m\"\u001b[39m \u001b[38;5;28;01mif\u001b[39;00m \u001b[38;5;28mself\u001b[39m\u001b[38;5;241m.\u001b[39m_jit_compile \u001b[38;5;28;01melse\u001b[39;00m \u001b[38;5;124m\"\u001b[39m\u001b[38;5;124mnonXla\u001b[39m\u001b[38;5;124m\"\u001b[39m\n\u001b[0;32m    832\u001b[0m \u001b[38;5;28;01mwith\u001b[39;00m OptionalXlaContext(\u001b[38;5;28mself\u001b[39m\u001b[38;5;241m.\u001b[39m_jit_compile):\n\u001b[1;32m--> 833\u001b[0m   result \u001b[38;5;241m=\u001b[39m \u001b[38;5;28mself\u001b[39m\u001b[38;5;241m.\u001b[39m_call(\u001b[38;5;241m*\u001b[39margs, \u001b[38;5;241m*\u001b[39m\u001b[38;5;241m*\u001b[39mkwds)\n\u001b[0;32m    835\u001b[0m new_tracing_count \u001b[38;5;241m=\u001b[39m \u001b[38;5;28mself\u001b[39m\u001b[38;5;241m.\u001b[39mexperimental_get_tracing_count()\n\u001b[0;32m    836\u001b[0m without_tracing \u001b[38;5;241m=\u001b[39m (tracing_count \u001b[38;5;241m==\u001b[39m new_tracing_count)\n",
      "File \u001b[1;32mc:\\Users\\krist\\anaconda3\\envs\\env_phd\\lib\\site-packages\\tensorflow\\python\\eager\\polymorphic_function\\polymorphic_function.py:878\u001b[0m, in \u001b[0;36mFunction._call\u001b[1;34m(self, *args, **kwds)\u001b[0m\n\u001b[0;32m    875\u001b[0m \u001b[38;5;28mself\u001b[39m\u001b[38;5;241m.\u001b[39m_lock\u001b[38;5;241m.\u001b[39mrelease()\n\u001b[0;32m    876\u001b[0m \u001b[38;5;66;03m# In this case we have not created variables on the first call. So we can\u001b[39;00m\n\u001b[0;32m    877\u001b[0m \u001b[38;5;66;03m# run the first trace but we should fail if variables are created.\u001b[39;00m\n\u001b[1;32m--> 878\u001b[0m results \u001b[38;5;241m=\u001b[39m \u001b[43mtracing_compilation\u001b[49m\u001b[38;5;241;43m.\u001b[39;49m\u001b[43mcall_function\u001b[49m\u001b[43m(\u001b[49m\n\u001b[0;32m    879\u001b[0m \u001b[43m    \u001b[49m\u001b[43margs\u001b[49m\u001b[43m,\u001b[49m\u001b[43m \u001b[49m\u001b[43mkwds\u001b[49m\u001b[43m,\u001b[49m\u001b[43m \u001b[49m\u001b[38;5;28;43mself\u001b[39;49m\u001b[38;5;241;43m.\u001b[39;49m\u001b[43m_variable_creation_config\u001b[49m\n\u001b[0;32m    880\u001b[0m \u001b[43m\u001b[49m\u001b[43m)\u001b[49m\n\u001b[0;32m    881\u001b[0m \u001b[38;5;28;01mif\u001b[39;00m \u001b[38;5;28mself\u001b[39m\u001b[38;5;241m.\u001b[39m_created_variables:\n\u001b[0;32m    882\u001b[0m   \u001b[38;5;28;01mraise\u001b[39;00m \u001b[38;5;167;01mValueError\u001b[39;00m(\u001b[38;5;124m\"\u001b[39m\u001b[38;5;124mCreating variables on a non-first call to a function\u001b[39m\u001b[38;5;124m\"\u001b[39m\n\u001b[0;32m    883\u001b[0m                    \u001b[38;5;124m\"\u001b[39m\u001b[38;5;124m decorated with tf.function.\u001b[39m\u001b[38;5;124m\"\u001b[39m)\n",
      "File \u001b[1;32mc:\\Users\\krist\\anaconda3\\envs\\env_phd\\lib\\site-packages\\tensorflow\\python\\eager\\polymorphic_function\\tracing_compilation.py:139\u001b[0m, in \u001b[0;36mcall_function\u001b[1;34m(args, kwargs, tracing_options)\u001b[0m\n\u001b[0;32m    137\u001b[0m bound_args \u001b[38;5;241m=\u001b[39m function\u001b[38;5;241m.\u001b[39mfunction_type\u001b[38;5;241m.\u001b[39mbind(\u001b[38;5;241m*\u001b[39margs, \u001b[38;5;241m*\u001b[39m\u001b[38;5;241m*\u001b[39mkwargs)\n\u001b[0;32m    138\u001b[0m flat_inputs \u001b[38;5;241m=\u001b[39m function\u001b[38;5;241m.\u001b[39mfunction_type\u001b[38;5;241m.\u001b[39munpack_inputs(bound_args)\n\u001b[1;32m--> 139\u001b[0m \u001b[38;5;28;01mreturn\u001b[39;00m \u001b[43mfunction\u001b[49m\u001b[38;5;241;43m.\u001b[39;49m\u001b[43m_call_flat\u001b[49m\u001b[43m(\u001b[49m\u001b[43m  \u001b[49m\u001b[38;5;66;43;03m# pylint: disable=protected-access\u001b[39;49;00m\n\u001b[0;32m    140\u001b[0m \u001b[43m    \u001b[49m\u001b[43mflat_inputs\u001b[49m\u001b[43m,\u001b[49m\u001b[43m \u001b[49m\u001b[43mcaptured_inputs\u001b[49m\u001b[38;5;241;43m=\u001b[39;49m\u001b[43mfunction\u001b[49m\u001b[38;5;241;43m.\u001b[39;49m\u001b[43mcaptured_inputs\u001b[49m\n\u001b[0;32m    141\u001b[0m \u001b[43m\u001b[49m\u001b[43m)\u001b[49m\n",
      "File \u001b[1;32mc:\\Users\\krist\\anaconda3\\envs\\env_phd\\lib\\site-packages\\tensorflow\\python\\eager\\polymorphic_function\\concrete_function.py:1322\u001b[0m, in \u001b[0;36mConcreteFunction._call_flat\u001b[1;34m(self, tensor_inputs, captured_inputs)\u001b[0m\n\u001b[0;32m   1318\u001b[0m possible_gradient_type \u001b[38;5;241m=\u001b[39m gradients_util\u001b[38;5;241m.\u001b[39mPossibleTapeGradientTypes(args)\n\u001b[0;32m   1319\u001b[0m \u001b[38;5;28;01mif\u001b[39;00m (possible_gradient_type \u001b[38;5;241m==\u001b[39m gradients_util\u001b[38;5;241m.\u001b[39mPOSSIBLE_GRADIENT_TYPES_NONE\n\u001b[0;32m   1320\u001b[0m     \u001b[38;5;129;01mand\u001b[39;00m executing_eagerly):\n\u001b[0;32m   1321\u001b[0m   \u001b[38;5;66;03m# No tape is watching; skip to running the function.\u001b[39;00m\n\u001b[1;32m-> 1322\u001b[0m   \u001b[38;5;28;01mreturn\u001b[39;00m \u001b[38;5;28;43mself\u001b[39;49m\u001b[38;5;241;43m.\u001b[39;49m\u001b[43m_inference_function\u001b[49m\u001b[38;5;241;43m.\u001b[39;49m\u001b[43mcall_preflattened\u001b[49m\u001b[43m(\u001b[49m\u001b[43margs\u001b[49m\u001b[43m)\u001b[49m\n\u001b[0;32m   1323\u001b[0m forward_backward \u001b[38;5;241m=\u001b[39m \u001b[38;5;28mself\u001b[39m\u001b[38;5;241m.\u001b[39m_select_forward_and_backward_functions(\n\u001b[0;32m   1324\u001b[0m     args,\n\u001b[0;32m   1325\u001b[0m     possible_gradient_type,\n\u001b[0;32m   1326\u001b[0m     executing_eagerly)\n\u001b[0;32m   1327\u001b[0m forward_function, args_with_tangents \u001b[38;5;241m=\u001b[39m forward_backward\u001b[38;5;241m.\u001b[39mforward()\n",
      "File \u001b[1;32mc:\\Users\\krist\\anaconda3\\envs\\env_phd\\lib\\site-packages\\tensorflow\\python\\eager\\polymorphic_function\\atomic_function.py:216\u001b[0m, in \u001b[0;36mAtomicFunction.call_preflattened\u001b[1;34m(self, args)\u001b[0m\n\u001b[0;32m    214\u001b[0m \u001b[38;5;28;01mdef\u001b[39;00m \u001b[38;5;21mcall_preflattened\u001b[39m(\u001b[38;5;28mself\u001b[39m, args: Sequence[core\u001b[38;5;241m.\u001b[39mTensor]) \u001b[38;5;241m-\u001b[39m\u001b[38;5;241m>\u001b[39m Any:\n\u001b[0;32m    215\u001b[0m \u001b[38;5;250m  \u001b[39m\u001b[38;5;124;03m\"\"\"Calls with flattened tensor inputs and returns the structured output.\"\"\"\u001b[39;00m\n\u001b[1;32m--> 216\u001b[0m   flat_outputs \u001b[38;5;241m=\u001b[39m \u001b[38;5;28;43mself\u001b[39;49m\u001b[38;5;241;43m.\u001b[39;49m\u001b[43mcall_flat\u001b[49m\u001b[43m(\u001b[49m\u001b[38;5;241;43m*\u001b[39;49m\u001b[43margs\u001b[49m\u001b[43m)\u001b[49m\n\u001b[0;32m    217\u001b[0m   \u001b[38;5;28;01mreturn\u001b[39;00m \u001b[38;5;28mself\u001b[39m\u001b[38;5;241m.\u001b[39mfunction_type\u001b[38;5;241m.\u001b[39mpack_output(flat_outputs)\n",
      "File \u001b[1;32mc:\\Users\\krist\\anaconda3\\envs\\env_phd\\lib\\site-packages\\tensorflow\\python\\eager\\polymorphic_function\\atomic_function.py:251\u001b[0m, in \u001b[0;36mAtomicFunction.call_flat\u001b[1;34m(self, *args)\u001b[0m\n\u001b[0;32m    249\u001b[0m \u001b[38;5;28;01mwith\u001b[39;00m record\u001b[38;5;241m.\u001b[39mstop_recording():\n\u001b[0;32m    250\u001b[0m   \u001b[38;5;28;01mif\u001b[39;00m \u001b[38;5;28mself\u001b[39m\u001b[38;5;241m.\u001b[39m_bound_context\u001b[38;5;241m.\u001b[39mexecuting_eagerly():\n\u001b[1;32m--> 251\u001b[0m     outputs \u001b[38;5;241m=\u001b[39m \u001b[38;5;28;43mself\u001b[39;49m\u001b[38;5;241;43m.\u001b[39;49m\u001b[43m_bound_context\u001b[49m\u001b[38;5;241;43m.\u001b[39;49m\u001b[43mcall_function\u001b[49m\u001b[43m(\u001b[49m\n\u001b[0;32m    252\u001b[0m \u001b[43m        \u001b[49m\u001b[38;5;28;43mself\u001b[39;49m\u001b[38;5;241;43m.\u001b[39;49m\u001b[43mname\u001b[49m\u001b[43m,\u001b[49m\n\u001b[0;32m    253\u001b[0m \u001b[43m        \u001b[49m\u001b[38;5;28;43mlist\u001b[39;49m\u001b[43m(\u001b[49m\u001b[43margs\u001b[49m\u001b[43m)\u001b[49m\u001b[43m,\u001b[49m\n\u001b[0;32m    254\u001b[0m \u001b[43m        \u001b[49m\u001b[38;5;28;43mlen\u001b[39;49m\u001b[43m(\u001b[49m\u001b[38;5;28;43mself\u001b[39;49m\u001b[38;5;241;43m.\u001b[39;49m\u001b[43mfunction_type\u001b[49m\u001b[38;5;241;43m.\u001b[39;49m\u001b[43mflat_outputs\u001b[49m\u001b[43m)\u001b[49m\u001b[43m,\u001b[49m\n\u001b[0;32m    255\u001b[0m \u001b[43m    \u001b[49m\u001b[43m)\u001b[49m\n\u001b[0;32m    256\u001b[0m   \u001b[38;5;28;01melse\u001b[39;00m:\n\u001b[0;32m    257\u001b[0m     outputs \u001b[38;5;241m=\u001b[39m make_call_op_in_graph(\n\u001b[0;32m    258\u001b[0m         \u001b[38;5;28mself\u001b[39m,\n\u001b[0;32m    259\u001b[0m         \u001b[38;5;28mlist\u001b[39m(args),\n\u001b[0;32m    260\u001b[0m         \u001b[38;5;28mself\u001b[39m\u001b[38;5;241m.\u001b[39m_bound_context\u001b[38;5;241m.\u001b[39mfunction_call_options\u001b[38;5;241m.\u001b[39mas_attrs(),\n\u001b[0;32m    261\u001b[0m     )\n",
      "File \u001b[1;32mc:\\Users\\krist\\anaconda3\\envs\\env_phd\\lib\\site-packages\\tensorflow\\python\\eager\\context.py:1552\u001b[0m, in \u001b[0;36mContext.call_function\u001b[1;34m(self, name, tensor_inputs, num_outputs)\u001b[0m\n\u001b[0;32m   1550\u001b[0m cancellation_context \u001b[38;5;241m=\u001b[39m cancellation\u001b[38;5;241m.\u001b[39mcontext()\n\u001b[0;32m   1551\u001b[0m \u001b[38;5;28;01mif\u001b[39;00m cancellation_context \u001b[38;5;129;01mis\u001b[39;00m \u001b[38;5;28;01mNone\u001b[39;00m:\n\u001b[1;32m-> 1552\u001b[0m   outputs \u001b[38;5;241m=\u001b[39m \u001b[43mexecute\u001b[49m\u001b[38;5;241;43m.\u001b[39;49m\u001b[43mexecute\u001b[49m\u001b[43m(\u001b[49m\n\u001b[0;32m   1553\u001b[0m \u001b[43m      \u001b[49m\u001b[43mname\u001b[49m\u001b[38;5;241;43m.\u001b[39;49m\u001b[43mdecode\u001b[49m\u001b[43m(\u001b[49m\u001b[38;5;124;43m\"\u001b[39;49m\u001b[38;5;124;43mutf-8\u001b[39;49m\u001b[38;5;124;43m\"\u001b[39;49m\u001b[43m)\u001b[49m\u001b[43m,\u001b[49m\n\u001b[0;32m   1554\u001b[0m \u001b[43m      \u001b[49m\u001b[43mnum_outputs\u001b[49m\u001b[38;5;241;43m=\u001b[39;49m\u001b[43mnum_outputs\u001b[49m\u001b[43m,\u001b[49m\n\u001b[0;32m   1555\u001b[0m \u001b[43m      \u001b[49m\u001b[43minputs\u001b[49m\u001b[38;5;241;43m=\u001b[39;49m\u001b[43mtensor_inputs\u001b[49m\u001b[43m,\u001b[49m\n\u001b[0;32m   1556\u001b[0m \u001b[43m      \u001b[49m\u001b[43mattrs\u001b[49m\u001b[38;5;241;43m=\u001b[39;49m\u001b[43mattrs\u001b[49m\u001b[43m,\u001b[49m\n\u001b[0;32m   1557\u001b[0m \u001b[43m      \u001b[49m\u001b[43mctx\u001b[49m\u001b[38;5;241;43m=\u001b[39;49m\u001b[38;5;28;43mself\u001b[39;49m\u001b[43m,\u001b[49m\n\u001b[0;32m   1558\u001b[0m \u001b[43m  \u001b[49m\u001b[43m)\u001b[49m\n\u001b[0;32m   1559\u001b[0m \u001b[38;5;28;01melse\u001b[39;00m:\n\u001b[0;32m   1560\u001b[0m   outputs \u001b[38;5;241m=\u001b[39m execute\u001b[38;5;241m.\u001b[39mexecute_with_cancellation(\n\u001b[0;32m   1561\u001b[0m       name\u001b[38;5;241m.\u001b[39mdecode(\u001b[38;5;124m\"\u001b[39m\u001b[38;5;124mutf-8\u001b[39m\u001b[38;5;124m\"\u001b[39m),\n\u001b[0;32m   1562\u001b[0m       num_outputs\u001b[38;5;241m=\u001b[39mnum_outputs,\n\u001b[1;32m   (...)\u001b[0m\n\u001b[0;32m   1566\u001b[0m       cancellation_manager\u001b[38;5;241m=\u001b[39mcancellation_context,\n\u001b[0;32m   1567\u001b[0m   )\n",
      "File \u001b[1;32mc:\\Users\\krist\\anaconda3\\envs\\env_phd\\lib\\site-packages\\tensorflow\\python\\eager\\execute.py:53\u001b[0m, in \u001b[0;36mquick_execute\u001b[1;34m(op_name, num_outputs, inputs, attrs, ctx, name)\u001b[0m\n\u001b[0;32m     51\u001b[0m \u001b[38;5;28;01mtry\u001b[39;00m:\n\u001b[0;32m     52\u001b[0m   ctx\u001b[38;5;241m.\u001b[39mensure_initialized()\n\u001b[1;32m---> 53\u001b[0m   tensors \u001b[38;5;241m=\u001b[39m \u001b[43mpywrap_tfe\u001b[49m\u001b[38;5;241;43m.\u001b[39;49m\u001b[43mTFE_Py_Execute\u001b[49m\u001b[43m(\u001b[49m\u001b[43mctx\u001b[49m\u001b[38;5;241;43m.\u001b[39;49m\u001b[43m_handle\u001b[49m\u001b[43m,\u001b[49m\u001b[43m \u001b[49m\u001b[43mdevice_name\u001b[49m\u001b[43m,\u001b[49m\u001b[43m \u001b[49m\u001b[43mop_name\u001b[49m\u001b[43m,\u001b[49m\n\u001b[0;32m     54\u001b[0m \u001b[43m                                      \u001b[49m\u001b[43minputs\u001b[49m\u001b[43m,\u001b[49m\u001b[43m \u001b[49m\u001b[43mattrs\u001b[49m\u001b[43m,\u001b[49m\u001b[43m \u001b[49m\u001b[43mnum_outputs\u001b[49m\u001b[43m)\u001b[49m\n\u001b[0;32m     55\u001b[0m \u001b[38;5;28;01mexcept\u001b[39;00m core\u001b[38;5;241m.\u001b[39m_NotOkStatusException \u001b[38;5;28;01mas\u001b[39;00m e:\n\u001b[0;32m     56\u001b[0m   \u001b[38;5;28;01mif\u001b[39;00m name \u001b[38;5;129;01mis\u001b[39;00m \u001b[38;5;129;01mnot\u001b[39;00m \u001b[38;5;28;01mNone\u001b[39;00m:\n",
      "\u001b[1;31mKeyboardInterrupt\u001b[0m: "
     ]
    }
   ],
   "source": [
    "n = 4\n",
    "d = 2**n\n",
    "c1 = 0.9\n",
    "c2 = 0.8\n",
    "\n",
    "\n",
    "num_reps = 10\n",
    "shots_list = np.linspace(7, 16, 10)\n",
    "shots_list = 2**shots_list\n",
    "shots_list = np.append(shots_list, 0)\n",
    "\n",
    "init_fid_list = np.zeros((len(shots_list), num_reps))\n",
    "povm_fid_list = np.zeros((len(shots_list), num_reps))\n",
    "\n",
    "for i, shots in enumerate(tqdm(shots_list)):   \n",
    "    np.random.seed(42)\n",
    "    random.seed(42)\n",
    "    tf.random.set_seed(42)\n",
    "    for rep in range(num_reps):    \n",
    "        spam_model, spam_target = spam_pipeline(n=n,\n",
    "                                                c1=c1,\n",
    "                                                c2=c2,\n",
    "                                                shots = shots,\n",
    "                                                use_corr=False,\n",
    "                                                num_iter = 2000,\n",
    "                                                )\n",
    "        \n",
    "        init_fid_list[i, rep] = state_fidelity(spam_model.init.init, spam_target.init.init)\n",
    "        povm_fid_list[i, rep] = povm_fidelity(spam_model.povm.povm, spam_target.povm.povm)\n",
    "        \n",
    "#saver([init_fid_list, povm_fid_list], data_path(\"spam_fidelity_3qubit_full.data\"))\n",
    "saver([init_fid_list, povm_fid_list], \"data/spam_fidelity_4qubit_full_retry.data\")"
   ]
  },
  {
   "cell_type": "code",
   "execution_count": 1,
   "metadata": {},
   "outputs": [
    {
     "ename": "NameError",
     "evalue": "name 'np' is not defined",
     "output_type": "error",
     "traceback": [
      "\u001b[1;31m---------------------------------------------------------------------------\u001b[0m",
      "\u001b[1;31mNameError\u001b[0m                                 Traceback (most recent call last)",
      "Cell \u001b[1;32mIn[1], line 8\u001b[0m\n\u001b[0;32m      4\u001b[0m c2 \u001b[38;5;241m=\u001b[39m \u001b[38;5;241m0.8\u001b[39m\n\u001b[0;32m      7\u001b[0m num_reps \u001b[38;5;241m=\u001b[39m \u001b[38;5;241m10\u001b[39m\n\u001b[1;32m----> 8\u001b[0m shots_list \u001b[38;5;241m=\u001b[39m \u001b[43mnp\u001b[49m\u001b[38;5;241m.\u001b[39mlinspace(\u001b[38;5;241m7\u001b[39m, \u001b[38;5;241m16\u001b[39m, \u001b[38;5;241m10\u001b[39m)\n\u001b[0;32m      9\u001b[0m shots_list \u001b[38;5;241m=\u001b[39m \u001b[38;5;241m2\u001b[39m\u001b[38;5;241m*\u001b[39m\u001b[38;5;241m*\u001b[39mshots_list\n\u001b[0;32m     10\u001b[0m shots_list \u001b[38;5;241m=\u001b[39m np\u001b[38;5;241m.\u001b[39mappend(shots_list, \u001b[38;5;241m0\u001b[39m)\n",
      "\u001b[1;31mNameError\u001b[0m: name 'np' is not defined"
     ]
    }
   ],
   "source": [
    "n = 4\n",
    "d = 2**n\n",
    "c1 = 0.9\n",
    "c2 = 0.8\n",
    "\n",
    "\n",
    "num_reps = 10\n",
    "shots_list = np.linspace(7, 16, 10)\n",
    "shots_list = 2**shots_list\n",
    "shots_list = np.append(shots_list, 0)\n",
    "\n",
    "init_fid_list = np.zeros((len(shots_list), num_reps))\n",
    "povm_fid_list = np.zeros((len(shots_list), num_reps))\n",
    "\n",
    "for i, shots in enumerate(tqdm(shots_list)):   \n",
    "    np.random.seed(42)\n",
    "    random.seed(42)\n",
    "    tf.random.set_seed(42)\n",
    "    for rep in range(num_reps):    \n",
    "        spam_model, spam_target = spam_pipeline(n=n,\n",
    "                                                c1=c1,\n",
    "                                                c2=c2,\n",
    "                                                shots = shots,\n",
    "                                                use_corr=True,\n",
    "                                                num_iter = 2000,\n",
    "                                                )\n",
    "        \n",
    "        init_fid_list[i, rep] = state_fidelity(spam_model.init.init, spam_target.init.init)\n",
    "        povm_fid_list[i, rep] = povm_fidelity(spam_model.povm.povm, spam_target.povm.povm)\n",
    "        \n",
    "saver([init_fid_list, povm_fid_list], \"data/spam_fidelity_4qubit_corr_retry.data\")"
   ]
  }
 ],
 "metadata": {
  "kernelspec": {
   "display_name": "env_phd",
   "language": "python",
   "name": "python3"
  },
  "language_info": {
   "codemirror_mode": {
    "name": "ipython",
    "version": 3
   },
   "file_extension": ".py",
   "mimetype": "text/x-python",
   "name": "python",
   "nbconvert_exporter": "python",
   "pygments_lexer": "ipython3",
   "version": "3.10.13"
  }
 },
 "nbformat": 4,
 "nbformat_minor": 4
}
