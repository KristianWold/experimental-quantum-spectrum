{
 "cells": [
  {
   "cell_type": "markdown",
   "metadata": {},
   "source": [
    "# Modelling NIQS Hardware"
   ]
  },
  {
   "cell_type": "code",
   "execution_count": 115,
   "metadata": {},
   "outputs": [],
   "source": [
    "import numpy as np\n",
    "import qiskit as qk\n",
    "from qiskit.quantum_info import DensityMatrix\n",
    "from scipy.linalg import sqrtm\n",
    "\n",
    "np.set_printoptions(precision=2)"
   ]
  },
  {
   "cell_type": "code",
   "execution_count": 184,
   "metadata": {},
   "outputs": [],
   "source": [
    "def partial_trace(X, discard_first = True):\n",
    "    d = X.shape[0]\n",
    "    d_red = int(np.sqrt(d))\n",
    "    Y = np.zeros((d_red, d_red), dtype = \"complex128\")\n",
    "    I = np.eye(d_red)\n",
    "    \n",
    "    for i in range(d_red):\n",
    "        basis_vec = np.zeros((d_red, 1),  dtype = \"complex128\")\n",
    "        basis_vec[i, 0] = 1\n",
    "        \n",
    "        if discard_first:\n",
    "            basis_vec = np.kron(basis_vec, I)\n",
    "        else:\n",
    "            basis_vec = np.kron(I, basis_vec)\n",
    "        \n",
    "        Y = Y + basis_vec.T@X@basis_vec\n",
    "    \n",
    "    return Y\n",
    "\n",
    "def state_fidelity(A, B):\n",
    "    sqrtA = sqrtm(A)\n",
    "    fidelity = np.trace(sqrtm(sqrtA@B@sqrtA))\n",
    "    return fidelity\n",
    "\n",
    "def apply_map(state, choi):\n",
    "    d = state.shape[0]\n",
    "    \n",
    "    #reshuffle\n",
    "    choi = choi.reshape(d,d,d,d).swapaxes(1,2).reshape(d**2, d**2)\n",
    "    \n",
    "    #flatten\n",
    "    state = state.reshape(-1, 1)\n",
    "    \n",
    "    state = (choi@state).reshape(d, d)\n",
    "    return state\n",
    "    \n",
    "\n",
    "def prepare_input(config):\n",
    "    \"\"\"1 = |0>, 2 = |1>, 3 = |+>, 4 = |->, 5 = |+i>, 6 = |-i>\"\"\"\n",
    "    n = len(config)\n",
    "    circuit = qk.QuantumCircuit(n)\n",
    "    for i, gate in enumerate(config):\n",
    "        if gate == 2:\n",
    "            circuit.x(i)\n",
    "        if gate == 3:\n",
    "            circuit.h(i)\n",
    "        if gate == 4:\n",
    "            circuit.x(i)\n",
    "            circuit.h(i)\n",
    "        if gate == 5:\n",
    "            circuit.h(i)\n",
    "            circuit.s(i)\n",
    "        if gate == 6:\n",
    "            circuit.x(i)\n",
    "            circuit.h(i)\n",
    "            circuit.s(i)\n",
    "        \n",
    "            \n",
    "    rho = DensityMatrix(circuit)\n",
    "    return rho.data"
   ]
  },
  {
   "cell_type": "code",
   "execution_count": 186,
   "metadata": {
    "scrolled": true
   },
   "outputs": [],
   "source": [
    "n = 1         # number of qubits\n",
    "d = 2**n      # dim of Hilbert space\n",
    "I = np.eye(d)\n",
    "\n",
    "np.random.seed(42)\n",
    "\n",
    "#Ginibre matrix\n",
    "X = np.random.normal(0, 1, (d**2, d**2)) + 1j*np.random.normal(0, 1, (d**2, d**2))\n",
    "\n",
    "#partial trace\n",
    "Y = partial_trace(X@(X.conj().T), discard_first = True)\n",
    "sqrtYinv = np.linalg.inv(sqrtm(Y))\n",
    "\n",
    "#choi\n",
    "choi = np.kron(I, sqrtYinv)@X@(X.conj().T)@np.kron(I, sqrtYinv)"
   ]
  },
  {
   "cell_type": "code",
   "execution_count": 185,
   "metadata": {
    "scrolled": true
   },
   "outputs": [
    {
     "name": "stdout",
     "output_type": "stream",
     "text": [
      "[[ 0.68-5.72e-17j -0.06+1.25e-01j]\n",
      " [-0.06-1.25e-01j  0.32-4.68e-17j]]\n",
      "(0.9999999999999987-1.0408340855860843e-16j)\n",
      "(0.5999423172468369-1.0668549377257364e-16j)\n",
      "(0.9999999999999982-1.1325462882223177e-16j)\n"
     ]
    }
   ],
   "source": [
    "#1 = |0>, 2 = |1>, 3 = |+>, 4 = |->, 5 = |i+>, 6 = |i->\n",
    "state = prepare_input([6])\n",
    "\n",
    "state = apply_map(state, choi)\n",
    "print(state)\n",
    "print(np.trace(state))\n",
    "print(np.trace(state@state))\n",
    "print(state_fidelity(state, state))"
   ]
  },
  {
   "cell_type": "code",
   "execution_count": null,
   "metadata": {},
   "outputs": [],
   "source": []
  }
 ],
 "metadata": {
  "kernelspec": {
   "display_name": "qiskit",
   "language": "python",
   "name": "qiskit"
  },
  "language_info": {
   "codemirror_mode": {
    "name": "ipython",
    "version": 3
   },
   "file_extension": ".py",
   "mimetype": "text/x-python",
   "name": "python",
   "nbconvert_exporter": "python",
   "pygments_lexer": "ipython3",
   "version": "3.8.5"
  }
 },
 "nbformat": 4,
 "nbformat_minor": 4
}
