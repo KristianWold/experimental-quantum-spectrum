{
 "cells": [
  {
   "cell_type": "markdown",
   "metadata": {},
   "source": [
    "# Modelling NIQS Hardware"
   ]
  },
  {
   "cell_type": "code",
   "execution_count": 161,
   "metadata": {},
   "outputs": [],
   "source": [
    "import numpy as np\n",
    "import qiskit as qk\n",
    "from qiskit.quantum_info import DensityMatrix\n",
    "\n",
    "np.set_printoptions(precision=2)"
   ]
  },
  {
   "cell_type": "code",
   "execution_count": 165,
   "metadata": {},
   "outputs": [],
   "source": [
    "def partial_trace(X, discard_first = True):\n",
    "    d = X.shape[0]\n",
    "    d_red = int(np.sqrt(d))\n",
    "    Y = np.zeros((d_red, d_red), dtype = \"complex128\")\n",
    "    I = np.eye(d_red)\n",
    "    \n",
    "    for i in range(d_red):\n",
    "        basis_vec = np.zeros((d_red, 1))\n",
    "        basis_vec[i, 0] = 1\n",
    "        \n",
    "        if discard_first:\n",
    "            basis_vec = np.kron(basis_vec, I)\n",
    "        else:\n",
    "            basis_vec = np.kron(I, basis_vec)\n",
    "        \n",
    "        Y = Y + basis_vec.T@X@basis_vec\n",
    "    \n",
    "    return Y\n",
    "\n",
    "def prepare_input(config):\n",
    "    n = len(config)\n",
    "    circuit = qk.QuantumCircuit(n)\n",
    "    for i, gate in enumerate(config):\n",
    "        if gate == 1:\n",
    "            circuit.x(i)\n",
    "        if gate == 2:\n",
    "            circuit.y(i)\n",
    "        if gate == 3:\n",
    "            circuit.h(i)\n",
    "            \n",
    "    rho = DensityMatrix(circuit)\n",
    "    return rho.data\n"
   ]
  },
  {
   "cell_type": "code",
   "execution_count": 166,
   "metadata": {},
   "outputs": [
    {
     "name": "stdout",
     "output_type": "stream",
     "text": [
      "[[0.5+0.j 0. +0.j]\n",
      " [0. +0.j 0.5+0.j]]\n"
     ]
    }
   ],
   "source": [
    "rho = np.array([[0.5, 0, 0, 0.5], [0, 0, 0, 0], [0, 0, 0, 0], [0.5, 0, 0, 0.5]])\n",
    "print(trace(rho, discard_first = False))"
   ]
  },
  {
   "cell_type": "code",
   "execution_count": 169,
   "metadata": {},
   "outputs": [
    {
     "name": "stdout",
     "output_type": "stream",
     "text": [
      "[[ 1.39+0.00e+00j -0.76-2.19e-01j  0.25+4.49e-01j -0.11-3.01e-01j]\n",
      " [-0.76+2.19e-01j  0.83-1.39e-17j -0.1 -1.38e-01j -0.28+1.48e-01j]\n",
      " [ 0.25-4.49e-01j -0.1 +1.38e-01j  0.78-1.39e-17j -0.77+1.02e-01j]\n",
      " [-0.11+3.01e-01j -0.28-1.48e-01j -0.77-1.02e-01j  1.14-5.81e-17j]]\n",
      "----\n",
      "[[ 2.22-1.39e-17j -0.03+5.97e-01j]\n",
      " [-0.03-5.97e-01j  1.92-7.20e-17j]]\n",
      "----\n",
      "(4.132677140690403-8.586881206085195e-17j)\n"
     ]
    }
   ],
   "source": [
    "n = 1\n",
    "d = 2**n\n",
    "I = np.eye(d)\n",
    "\n",
    "np.random.seed(42)\n",
    "#Ginibre matrix\n",
    "X = np.random.normal(0, 1, (d**2, d**2)) + 1j*np.random.normal(0, 1, (d**2, d**2))\n",
    "\n",
    "#partial trace\n",
    "Y = partial_trace(X@X.conj().T)\n",
    "sqrtYinv = np.linalg.inv(np.sqrt(Y))\n",
    "\n",
    "#choi\n",
    "choi = np.kron(I, sqrtYinv)@X@X.conj().T@np.kron(I, sqrtYinv)\n",
    "print(choi)\n",
    "print(\"----\")\n",
    "print(partial_trace(choi, discard_first = False))\n",
    "print(\"----\")\n",
    "print(np.trace(choi))"
   ]
  },
  {
   "cell_type": "code",
   "execution_count": 170,
   "metadata": {},
   "outputs": [
    {
     "name": "stdout",
     "output_type": "stream",
     "text": [
      "[[0.5+0.j 0.5+0.j]\n",
      " [0.5+0.j 0.5+0.j]]\n",
      "----\n",
      "[[ 0.38-0.04j -0.16+0.11j]\n",
      " [ 0.08-0.1j  -0.01+0.03j]]\n"
     ]
    }
   ],
   "source": [
    "#0 = I, 1 = X, 2 = Y, 3 = H\n",
    "rho = prepare_input([3])\n",
    "\n",
    "rho_prime = (choi@rho.flatten()).reshape(2,2)\n",
    "\n",
    "print(rho)\n",
    "print(\"----\")\n",
    "print(rho_prime)"
   ]
  },
  {
   "cell_type": "code",
   "execution_count": null,
   "metadata": {},
   "outputs": [],
   "source": []
  }
 ],
 "metadata": {
  "kernelspec": {
   "display_name": "env_qiskit",
   "language": "python",
   "name": "env_qiskit"
  },
  "language_info": {
   "codemirror_mode": {
    "name": "ipython",
    "version": 3
   },
   "file_extension": ".py",
   "mimetype": "text/x-python",
   "name": "python",
   "nbconvert_exporter": "python",
   "pygments_lexer": "ipython3",
   "version": "3.7.10"
  }
 },
 "nbformat": 4,
 "nbformat_minor": 4
}
